{
 "cells": [
  {
   "cell_type": "markdown",
   "metadata": {
    "collapsed": false,
    "papermill": {
     "duration": 0.038119,
     "end_time": "2019-10-21T03:23:04.245167",
     "exception": false,
     "start_time": "2019-10-21T03:23:04.207048",
     "status": "completed"
    },
    "tags": []
   },
   "source": [
    "# AutoML Image Classification: With Rotation (Digits)"
   ]
  },
  {
   "cell_type": "markdown",
   "metadata": {
    "collapsed": false,
    "papermill": {
     "duration": 0.026271,
     "end_time": "2019-10-21T03:23:04.299586",
     "exception": false,
     "start_time": "2019-10-21T03:23:04.273315",
     "status": "completed"
    },
    "tags": []
   },
   "source": [
    "![](imgs/rotation.png)"
   ]
  },
  {
   "cell_type": "code",
   "execution_count": 1,
   "metadata": {
    "collapsed": false,
    "papermill": {
     "duration": 5.166569,
     "end_time": "2019-10-21T03:23:09.487700",
     "exception": false,
     "start_time": "2019-10-21T03:23:04.321131",
     "status": "completed"
    },
    "pycharm": {
     "name": "#%%\n"
    },
    "tags": []
   },
   "outputs": [
    {
     "name": "stdout",
     "output_type": "stream",
     "text": [
      "Better speed can be achieved with apex installed from https://www.github.com/nvidia/apex.\n"
     ]
    }
   ],
   "source": [
    "import random as rn\n",
    "from abc import ABC, abstractmethod\n",
    "\n",
    "import autokeras as ak\n",
    "import h2o\n",
    "import matplotlib.pyplot as plt\n",
    "import numpy as np\n",
    "import tensorflow as tf\n",
    "import torch\n",
    "from h2o.automl import H2OAutoML\n",
    "from numpy.random import RandomState\n",
    "from sklearn.datasets import load_digits\n",
    "from sklearn.metrics import accuracy_score\n",
    "from sklearn.model_selection import train_test_split\n",
    "from tpot import TPOTClassifier\n",
    "\n",
    "from dpemu import runner\n",
    "from dpemu.filters.image import RotationPIL\n",
    "from dpemu.nodes import Array\n",
    "from dpemu.nodes.series import Series\n",
    "from dpemu.plotting_utils import visualize_scores, print_results_by_model\n",
    "from dpemu.utils import generate_tmpdir"
   ]
  },
  {
   "cell_type": "markdown",
   "metadata": {
    "collapsed": false,
    "papermill": {
     "duration": 0.023396,
     "end_time": "2019-10-21T03:23:09.539405",
     "exception": false,
     "start_time": "2019-10-21T03:23:09.516009",
     "status": "completed"
    },
    "pycharm": {
     "name": "#%% md\n"
    },
    "tags": []
   },
   "source": []
  },
  {
   "cell_type": "code",
   "execution_count": 2,
   "metadata": {
    "collapsed": false,
    "papermill": {
     "duration": 0.033411,
     "end_time": "2019-10-21T03:23:09.594985",
     "exception": false,
     "start_time": "2019-10-21T03:23:09.561574",
     "status": "completed"
    },
    "pycharm": {
     "is_executing": false,
     "name": "#%%\n"
    },
    "tags": []
   },
   "outputs": [],
   "source": [
    "def get_data():\n",
    "    random_state = RandomState(42)\n",
    "    digits = load_digits()\n",
    "    return train_test_split(digits[\"data\"], digits[\"target\"], test_size=.2, random_state=random_state)"
   ]
  },
  {
   "cell_type": "markdown",
   "metadata": {
    "collapsed": false,
    "papermill": {
     "duration": 0.017317,
     "end_time": "2019-10-21T03:23:09.631063",
     "exception": false,
     "start_time": "2019-10-21T03:23:09.613746",
     "status": "completed"
    },
    "pycharm": {
     "name": "#%% md\n"
    },
    "tags": []
   },
   "source": []
  },
  {
   "cell_type": "code",
   "execution_count": 3,
   "metadata": {
    "collapsed": false,
    "papermill": {
     "duration": 0.030515,
     "end_time": "2019-10-21T03:23:09.680066",
     "exception": false,
     "start_time": "2019-10-21T03:23:09.649551",
     "status": "completed"
    },
    "pycharm": {
     "is_executing": false,
     "name": "#%%\n"
    },
    "tags": []
   },
   "outputs": [],
   "source": [
    "def get_err_root_node():\n",
    "    err_img_node = Array(reshape=(8, 8))\n",
    "    err_root_node = Series(err_img_node)\n",
    "    err_img_node.addfilter(RotationPIL(\"max_angle\"))\n",
    "    return err_root_node"
   ]
  },
  {
   "cell_type": "markdown",
   "metadata": {
    "collapsed": false,
    "papermill": {
     "duration": 0.018699,
     "end_time": "2019-10-21T03:23:09.716478",
     "exception": false,
     "start_time": "2019-10-21T03:23:09.697779",
     "status": "completed"
    },
    "pycharm": {
     "name": "#%% md\n"
    },
    "tags": []
   },
   "source": []
  },
  {
   "cell_type": "code",
   "execution_count": 4,
   "metadata": {
    "collapsed": false,
    "papermill": {
     "duration": 0.027808,
     "end_time": "2019-10-21T03:23:09.763058",
     "exception": false,
     "start_time": "2019-10-21T03:23:09.735250",
     "status": "completed"
    },
    "pycharm": {
     "is_executing": false,
     "name": "#%%\n"
    },
    "tags": []
   },
   "outputs": [],
   "source": [
    "def get_err_params_list():\n",
    "    angle_steps = np.linspace(0, 84, num=8)\n",
    "    err_params_list = [{\"max_angle\": a} for a in angle_steps]\n",
    "    return err_params_list"
   ]
  },
  {
   "cell_type": "markdown",
   "metadata": {
    "collapsed": false,
    "papermill": {
     "duration": 0.017349,
     "end_time": "2019-10-21T03:23:09.798033",
     "exception": false,
     "start_time": "2019-10-21T03:23:09.780684",
     "status": "completed"
    },
    "pycharm": {
     "name": "#%% md\n"
    },
    "tags": []
   },
   "source": []
  },
  {
   "cell_type": "code",
   "execution_count": 5,
   "metadata": {
    "collapsed": false,
    "papermill": {
     "duration": 0.02825,
     "end_time": "2019-10-21T03:23:09.843918",
     "exception": false,
     "start_time": "2019-10-21T03:23:09.815668",
     "status": "completed"
    },
    "pycharm": {
     "is_executing": false,
     "name": "#%%\n"
    },
    "tags": []
   },
   "outputs": [],
   "source": [
    "class Preprocessor:\n",
    "\n",
    "    def run(self, train_data, test_data, params):\n",
    "        return train_data, test_data, {}"
   ]
  },
  {
   "cell_type": "markdown",
   "metadata": {
    "collapsed": false,
    "papermill": {
     "duration": 0.018029,
     "end_time": "2019-10-21T03:23:09.879692",
     "exception": false,
     "start_time": "2019-10-21T03:23:09.861663",
     "status": "completed"
    },
    "pycharm": {
     "name": "#%% md\n"
    },
    "tags": []
   },
   "source": []
  },
  {
   "cell_type": "code",
   "execution_count": 6,
   "metadata": {
    "collapsed": false,
    "papermill": {
     "duration": 0.080642,
     "end_time": "2019-10-21T03:23:09.978026",
     "exception": false,
     "start_time": "2019-10-21T03:23:09.897384",
     "status": "completed"
    },
    "pycharm": {
     "is_executing": false,
     "name": "#%%\n"
    },
    "tags": []
   },
   "outputs": [],
   "source": [
    "class AbstractModel(ABC):\n",
    "\n",
    "    def __init__(self):\n",
    "        self.time_limit_mins = 60*2\n",
    "        self.seed = 42\n",
    "        self.random_state = RandomState(self.seed)\n",
    "        np.random.seed(self.seed)\n",
    "        tf.set_random_seed(self.seed)\n",
    "        torch.manual_seed(self.seed)\n",
    "\n",
    "\n",
    "    @abstractmethod\n",
    "    def get_fitted_model(self, train_data, train_labels, params):\n",
    "        pass\n",
    "\n",
    "    @abstractmethod\n",
    "    def get_accuracy(self, data, labels, fitted_model, params):\n",
    "        pass\n",
    "\n",
    "    @abstractmethod\n",
    "    def get_best_pipeline(self, fitted_model):\n",
    "        pass\n",
    "\n",
    "    def run(self, train_data, test_data, params):\n",
    "        train_labels = params[\"train_labels\"]\n",
    "        test_labels = params[\"test_labels\"]\n",
    "\n",
    "        fitted_model = self.get_fitted_model(train_data, train_labels, params)\n",
    "\n",
    "        return {\n",
    "            \"test_acc\": self.get_accuracy(test_data, test_labels, fitted_model, params),\n",
    "            \"train_acc\": self.get_accuracy(train_data, train_labels, fitted_model, params),\n",
    "            \"best_pipeline\": self.get_best_pipeline(fitted_model),\n",
    "        }\n",
    "\n",
    "class TPOTClassifierModel(AbstractModel):\n",
    "\n",
    "    def __init__(self):\n",
    "        super().__init__()\n",
    "\n",
    "    def get_fitted_model(self, train_data, train_labels, params):\n",
    "        return TPOTClassifier(\n",
    "            max_time_mins=self.time_limit_mins,\n",
    "            n_jobs=-1,\n",
    "            random_state=self.seed,\n",
    "            verbosity=1,\n",
    "        ).fit(train_data, train_labels)\n",
    "    \n",
    "    def get_accuracy(self, data, labels, fitted_model, params):\n",
    "        return round(fitted_model.score(data, labels), 3)\n",
    "\n",
    "    def get_best_pipeline(self, fitted_model):\n",
    "        return [step[1] for step in fitted_model.fitted_pipeline_.steps]\n",
    "\n",
    "class H2OAutoMLModel(AbstractModel):\n",
    "\n",
    "    def __init__(self):\n",
    "        super().__init__()\n",
    "        h2o.init(name=f\"#{rn.SystemRandom().randint(1, 2**30)}\")\n",
    "        h2o.no_progress()\n",
    "\n",
    "    def get_fitted_model(self, train_data, train_labels, params):\n",
    "        train_data = h2o.H2OFrame(np.concatenate((train_data, train_labels.reshape(-1, 1)), axis=1))\n",
    "        x = np.array(train_data.columns)[:-1].tolist()\n",
    "        y = np.array(train_data.columns)[-1].tolist()\n",
    "        train_data[y] = train_data[y].asfactor()\n",
    "        aml = H2OAutoML(max_runtime_secs=60*self.time_limit_mins, seed=self.seed)\n",
    "        aml.train(x=x, y=y, training_frame=train_data)\n",
    "        return aml\n",
    "\n",
    "    def get_accuracy(self, data, labels, fitted_model, params):\n",
    "        data = h2o.H2OFrame(np.concatenate((data, labels.reshape(-1, 1)), axis=1))\n",
    "        y = np.array(data.columns)[-1].tolist()\n",
    "        data[y] = data[y].asfactor()\n",
    "        pred = fitted_model.predict(data).as_data_frame(header=False)[\"predict\"].values.astype(int)\n",
    "        return np.round(np.mean(pred == labels), 3)\n",
    "\n",
    "    def get_best_pipeline(self, fitted_model):\n",
    "        leader_params = fitted_model.leader.get_params()\n",
    "        best_pipeline = [leader_params[\"model_id\"][\"actual_value\"][\"name\"]]\n",
    "        if \"base_models\" in leader_params:\n",
    "            for base_model in leader_params[\"base_models\"][\"actual_value\"]:\n",
    "                best_pipeline.append(base_model[\"name\"])\n",
    "        h2o.cluster().shutdown()\n",
    "        return best_pipeline\n",
    "\n",
    "class AutoKerasModel(AbstractModel):\n",
    "\n",
    "    def __init__(self):\n",
    "        super().__init__()\n",
    "\n",
    "    def get_fitted_model(self, x_train, y_train, params):\n",
    "        s = np.sqrt(x_train.shape[1]).astype(int)\n",
    "        x_train = x_train.reshape((len(x_train), s, s)).astype(np.uint8)\n",
    "        x_train = x_train.reshape(x_train.shape + (1,))\n",
    "        y_train = y_train.astype(np.uint8)\n",
    "        clf = ak.ImageClassifier(augment=False, path=generate_tmpdir(), verbose=False)\n",
    "        clf.fit(x_train, y_train, time_limit=60*self.time_limit_mins)\n",
    "        return clf\n",
    "\n",
    "    def get_accuracy(self, x, y, clf, params):\n",
    "        s = np.sqrt(x.shape[1]).astype(int)\n",
    "        x = x.reshape((len(x), s, s)).astype(np.uint8)\n",
    "        x = x.reshape(x.shape + (1,))\n",
    "        y = y.astype(np.uint8)\n",
    "        y_pred = clf.predict(x)\n",
    "        return np.round(accuracy_score(y_true=y, y_pred=y_pred), 3)\n",
    "\n",
    "    def get_best_pipeline(self, clf):\n",
    "        return [m for i, m in enumerate(clf.cnn.best_model.produce_model().modules()) if i > 0]"
   ]
  },
  {
   "cell_type": "markdown",
   "metadata": {
    "collapsed": false,
    "papermill": {
     "duration": 0.026946,
     "end_time": "2019-10-21T03:23:10.037533",
     "exception": false,
     "start_time": "2019-10-21T03:23:10.010587",
     "status": "completed"
    },
    "pycharm": {
     "name": "#%% md\n"
    },
    "tags": []
   },
   "source": []
  },
  {
   "cell_type": "code",
   "execution_count": 7,
   "metadata": {
    "collapsed": false,
    "papermill": {
     "duration": 0.037473,
     "end_time": "2019-10-21T03:23:10.099295",
     "exception": false,
     "start_time": "2019-10-21T03:23:10.061822",
     "status": "completed"
    },
    "pycharm": {
     "name": "#%%\n"
    },
    "tags": []
   },
   "outputs": [],
   "source": [
    "def get_model_params_dict_list(train_labels, test_labels):\n",
    "    model_params_base = {\"train_labels\": train_labels, \"test_labels\": test_labels}\n",
    "    return [\n",
    "        {\n",
    "            \"model\": TPOTClassifierModel,\n",
    "            \"params_list\": [{**model_params_base}],\n",
    "            \"use_clean_train_data\": False\n",
    "        },\n",
    "        {\n",
    "            \"model\": TPOTClassifierModel,\n",
    "            \"params_list\": [{**model_params_base}],\n",
    "            \"use_clean_train_data\": True\n",
    "        },\n",
    "        {\n",
    "            \"model\": H2OAutoMLModel,\n",
    "            \"params_list\": [{**model_params_base}],\n",
    "            \"use_clean_train_data\": False\n",
    "        },\n",
    "        {\n",
    "            \"model\": H2OAutoMLModel,\n",
    "            \"params_list\": [{**model_params_base}],\n",
    "            \"use_clean_train_data\": True\n",
    "        },\n",
    "        {\n",
    "            \"model\": AutoKerasModel,\n",
    "            \"params_list\": [{**model_params_base}],\n",
    "            \"use_clean_train_data\": False\n",
    "        },\n",
    "        {\n",
    "            \"model\": AutoKerasModel,\n",
    "            \"params_list\": [{**model_params_base}],\n",
    "            \"use_clean_train_data\": True\n",
    "        },\n",
    "    ]"
   ]
  },
  {
   "cell_type": "markdown",
   "metadata": {
    "collapsed": false,
    "papermill": {
     "duration": 0.017739,
     "end_time": "2019-10-21T03:23:10.135920",
     "exception": false,
     "start_time": "2019-10-21T03:23:10.118181",
     "status": "completed"
    },
    "pycharm": {
     "is_executing": false,
     "name": "#%% md\n"
    },
    "tags": []
   },
   "source": []
  },
  {
   "cell_type": "code",
   "execution_count": 8,
   "metadata": {
    "collapsed": false,
    "papermill": {
     "duration": 0.030466,
     "end_time": "2019-10-21T03:23:10.184231",
     "exception": false,
     "start_time": "2019-10-21T03:23:10.153765",
     "status": "completed"
    },
    "pycharm": {
     "name": "#%%\n"
    },
    "tags": []
   },
   "outputs": [],
   "source": [
    "def visualize(df):\n",
    "    visualize_scores(\n",
    "        df,\n",
    "        score_names=[\"test_acc\", \"train_acc\"],\n",
    "        is_higher_score_better=[True, True],\n",
    "        err_param_name=\"max_angle\",\n",
    "        title=\"Classification scores with added error\"\n",
    "    )\n",
    "    plt.show()"
   ]
  },
  {
   "cell_type": "markdown",
   "metadata": {
    "collapsed": false,
    "papermill": {
     "duration": 0.018464,
     "end_time": "2019-10-21T03:23:10.220559",
     "exception": false,
     "start_time": "2019-10-21T03:23:10.202095",
     "status": "completed"
    },
    "pycharm": {
     "is_executing": false,
     "name": "#%% md\n"
    },
    "tags": []
   },
   "source": []
  },
  {
   "cell_type": "code",
   "execution_count": 9,
   "metadata": {
    "collapsed": false,
    "papermill": {
     "duration": 3548.90678,
     "end_time": "2019-10-21T04:22:19.145340",
     "exception": false,
     "start_time": "2019-10-21T03:23:10.238560",
     "status": "completed"
    },
    "pycharm": {
     "is_executing": false,
     "name": "#%%\n"
    },
    "tags": []
   },
   "outputs": [
    {
     "name": "stderr",
     "output_type": "stream",
     "text": [
      "\r",
      "  0%|          | 0/8 [00:00<?, ?it/s]"
     ]
    },
    {
     "name": "stdout",
     "output_type": "stream",
     "text": [
      "Checking whether there is an H2O instance running at http://localhost:54321 "
     ]
    },
    {
     "name": "stdout",
     "output_type": "stream",
     "text": [
      "."
     ]
    },
    {
     "name": "stdout",
     "output_type": "stream",
     "text": [
      "Checking whether there is an H2O instance running at http://localhost:54321 "
     ]
    },
    {
     "name": "stdout",
     "output_type": "stream",
     "text": [
      "."
     ]
    },
    {
     "name": "stdout",
     "output_type": "stream",
     "text": [
      "Checking whether there is an H2O instance running at http://localhost:54321 "
     ]
    },
    {
     "name": "stdout",
     "output_type": "stream",
     "text": [
      "Checking whether there is an H2O instance running at http://localhost:54321 "
     ]
    },
    {
     "name": "stdout",
     "output_type": "stream",
     "text": [
      "."
     ]
    },
    {
     "name": "stdout",
     "output_type": "stream",
     "text": [
      "."
     ]
    },
    {
     "name": "stdout",
     "output_type": "stream",
     "text": [
      "Checking whether there is an H2O instance running at http://localhost:54321 "
     ]
    },
    {
     "name": "stdout",
     "output_type": "stream",
     "text": [
      "."
     ]
    },
    {
     "name": "stdout",
     "output_type": "stream",
     "text": [
      "Checking whether there is an H2O instance running at http://localhost:54321 "
     ]
    },
    {
     "name": "stdout",
     "output_type": "stream",
     "text": [
      "."
     ]
    },
    {
     "name": "stdout",
     "output_type": "stream",
     "text": [
      "Checking whether there is an H2O instance running at http://localhost:54321 "
     ]
    },
    {
     "name": "stdout",
     "output_type": "stream",
     "text": [
      "Checking whether there is an H2O instance running at http://localhost:54321 "
     ]
    },
    {
     "name": "stdout",
     "output_type": "stream",
     "text": [
      "."
     ]
    },
    {
     "name": "stdout",
     "output_type": "stream",
     "text": [
      "."
     ]
    },
    {
     "name": "stdout",
     "output_type": "stream",
     "text": [
      "."
     ]
    },
    {
     "name": "stdout",
     "output_type": "stream",
     "text": [
      "."
     ]
    },
    {
     "name": "stdout",
     "output_type": "stream",
     "text": [
      "."
     ]
    },
    {
     "name": "stdout",
     "output_type": "stream",
     "text": [
      "."
     ]
    },
    {
     "name": "stdout",
     "output_type": "stream",
     "text": [
      "."
     ]
    },
    {
     "name": "stdout",
     "output_type": "stream",
     "text": [
      "."
     ]
    },
    {
     "name": "stdout",
     "output_type": "stream",
     "text": [
      "."
     ]
    },
    {
     "name": "stdout",
     "output_type": "stream",
     "text": [
      "."
     ]
    },
    {
     "name": "stdout",
     "output_type": "stream",
     "text": [
      "."
     ]
    },
    {
     "name": "stdout",
     "output_type": "stream",
     "text": [
      "."
     ]
    },
    {
     "name": "stdout",
     "output_type": "stream",
     "text": [
      "."
     ]
    },
    {
     "name": "stdout",
     "output_type": "stream",
     "text": [
      "."
     ]
    },
    {
     "name": "stdout",
     "output_type": "stream",
     "text": [
      "."
     ]
    },
    {
     "name": "stdout",
     "output_type": "stream",
     "text": [
      "."
     ]
    },
    {
     "name": "stdout",
     "output_type": "stream",
     "text": [
      "."
     ]
    },
    {
     "name": "stdout",
     "output_type": "stream",
     "text": [
      "."
     ]
    },
    {
     "name": "stdout",
     "output_type": "stream",
     "text": [
      "."
     ]
    },
    {
     "name": "stdout",
     "output_type": "stream",
     "text": [
      "."
     ]
    },
    {
     "name": "stdout",
     "output_type": "stream",
     "text": [
      "."
     ]
    },
    {
     "name": "stdout",
     "output_type": "stream",
     "text": [
      "."
     ]
    },
    {
     "name": "stdout",
     "output_type": "stream",
     "text": [
      "."
     ]
    },
    {
     "name": "stdout",
     "output_type": "stream",
     "text": [
      "."
     ]
    },
    {
     "name": "stdout",
     "output_type": "stream",
     "text": [
      "."
     ]
    },
    {
     "name": "stdout",
     "output_type": "stream",
     "text": [
      "."
     ]
    },
    {
     "name": "stdout",
     "output_type": "stream",
     "text": [
      "."
     ]
    },
    {
     "name": "stdout",
     "output_type": "stream",
     "text": [
      "."
     ]
    },
    {
     "name": "stdout",
     "output_type": "stream",
     "text": [
      "."
     ]
    },
    {
     "name": "stdout",
     "output_type": "stream",
     "text": [
      "."
     ]
    },
    {
     "name": "stdout",
     "output_type": "stream",
     "text": [
      "."
     ]
    },
    {
     "name": "stdout",
     "output_type": "stream",
     "text": [
      "."
     ]
    },
    {
     "name": "stdout",
     "output_type": "stream",
     "text": [
      "."
     ]
    },
    {
     "name": "stdout",
     "output_type": "stream",
     "text": [
      "."
     ]
    },
    {
     "name": "stdout",
     "output_type": "stream",
     "text": [
      " not found."
     ]
    },
    {
     "name": "stdout",
     "output_type": "stream",
     "text": [
      "\n"
     ]
    },
    {
     "name": "stdout",
     "output_type": "stream",
     "text": [
      " not found."
     ]
    },
    {
     "name": "stdout",
     "output_type": "stream",
     "text": [
      "\n"
     ]
    },
    {
     "name": "stdout",
     "output_type": "stream",
     "text": [
      "Attempting to start a local H2O server..."
     ]
    },
    {
     "name": "stdout",
     "output_type": "stream",
     "text": [
      "\n"
     ]
    },
    {
     "name": "stdout",
     "output_type": "stream",
     "text": [
      "Attempting to start a local H2O server..."
     ]
    },
    {
     "name": "stdout",
     "output_type": "stream",
     "text": [
      "\n"
     ]
    },
    {
     "name": "stdout",
     "output_type": "stream",
     "text": [
      " not found."
     ]
    },
    {
     "name": "stdout",
     "output_type": "stream",
     "text": [
      "\n"
     ]
    },
    {
     "name": "stdout",
     "output_type": "stream",
     "text": [
      " not found."
     ]
    },
    {
     "name": "stdout",
     "output_type": "stream",
     "text": [
      "\n"
     ]
    },
    {
     "name": "stdout",
     "output_type": "stream",
     "text": [
      " not found."
     ]
    },
    {
     "name": "stdout",
     "output_type": "stream",
     "text": [
      "\n"
     ]
    },
    {
     "name": "stdout",
     "output_type": "stream",
     "text": [
      "Attempting to start a local H2O server..."
     ]
    },
    {
     "name": "stdout",
     "output_type": "stream",
     "text": [
      "\n"
     ]
    },
    {
     "name": "stdout",
     "output_type": "stream",
     "text": [
      "Attempting to start a local H2O server..."
     ]
    },
    {
     "name": "stdout",
     "output_type": "stream",
     "text": [
      "\n"
     ]
    },
    {
     "name": "stdout",
     "output_type": "stream",
     "text": [
      "Attempting to start a local H2O server..."
     ]
    },
    {
     "name": "stdout",
     "output_type": "stream",
     "text": [
      "\n"
     ]
    },
    {
     "name": "stdout",
     "output_type": "stream",
     "text": [
      " not found."
     ]
    },
    {
     "name": "stdout",
     "output_type": "stream",
     "text": [
      "\n"
     ]
    },
    {
     "name": "stdout",
     "output_type": "stream",
     "text": [
      "Attempting to start a local H2O server..."
     ]
    },
    {
     "name": "stdout",
     "output_type": "stream",
     "text": [
      "\n"
     ]
    },
    {
     "name": "stdout",
     "output_type": "stream",
     "text": [
      " not found."
     ]
    },
    {
     "name": "stdout",
     "output_type": "stream",
     "text": [
      "\n"
     ]
    },
    {
     "name": "stdout",
     "output_type": "stream",
     "text": [
      " not found."
     ]
    },
    {
     "name": "stdout",
     "output_type": "stream",
     "text": [
      "\n"
     ]
    },
    {
     "name": "stdout",
     "output_type": "stream",
     "text": [
      "Attempting to start a local H2O server..."
     ]
    },
    {
     "name": "stdout",
     "output_type": "stream",
     "text": [
      "\n"
     ]
    },
    {
     "name": "stdout",
     "output_type": "stream",
     "text": [
      "Attempting to start a local H2O server..."
     ]
    },
    {
     "name": "stdout",
     "output_type": "stream",
     "text": [
      "\n"
     ]
    },
    {
     "name": "stdout",
     "output_type": "stream",
     "text": [
      "  Java Version: openjdk version \"1.8.0_222\"; OpenJDK Runtime Environment (build 1.8.0_222-b10); OpenJDK 64-Bit Server VM (build 25.222-b10, mixed mode)"
     ]
    },
    {
     "name": "stdout",
     "output_type": "stream",
     "text": [
      "  Java Version: openjdk version \"1.8.0_222\"; OpenJDK Runtime Environment (build 1.8.0_222-b10); OpenJDK 64-Bit Server VM (build 25.222-b10, mixed mode)"
     ]
    },
    {
     "name": "stdout",
     "output_type": "stream",
     "text": [
      "\n"
     ]
    },
    {
     "name": "stdout",
     "output_type": "stream",
     "text": [
      "\n"
     ]
    },
    {
     "name": "stdout",
     "output_type": "stream",
     "text": [
      "  Starting server from /wrk/users/thalvari/dpEmu/venv/lib/python3.6/site-packages/h2o/backend/bin/h2o.jar"
     ]
    },
    {
     "name": "stdout",
     "output_type": "stream",
     "text": [
      "  Starting server from /wrk/users/thalvari/dpEmu/venv/lib/python3.6/site-packages/h2o/backend/bin/h2o.jar"
     ]
    },
    {
     "name": "stdout",
     "output_type": "stream",
     "text": [
      "  Java Version: openjdk version \"1.8.0_222\"; OpenJDK Runtime Environment (build 1.8.0_222-b10); OpenJDK 64-Bit Server VM (build 25.222-b10, mixed mode)"
     ]
    },
    {
     "name": "stdout",
     "output_type": "stream",
     "text": [
      "\n"
     ]
    },
    {
     "name": "stdout",
     "output_type": "stream",
     "text": [
      "\n"
     ]
    },
    {
     "name": "stdout",
     "output_type": "stream",
     "text": [
      "\n"
     ]
    },
    {
     "name": "stdout",
     "output_type": "stream",
     "text": [
      "  Ice root: /wrk/users/thalvari/tmp1q960lyd"
     ]
    },
    {
     "name": "stdout",
     "output_type": "stream",
     "text": [
      "\n"
     ]
    },
    {
     "name": "stdout",
     "output_type": "stream",
     "text": [
      "  Starting server from /wrk/users/thalvari/dpEmu/venv/lib/python3.6/site-packages/h2o/backend/bin/h2o.jar"
     ]
    },
    {
     "name": "stdout",
     "output_type": "stream",
     "text": [
      "\n"
     ]
    },
    {
     "name": "stdout",
     "output_type": "stream",
     "text": [
      "  Ice root: /wrk/users/thalvari/tmpyep6k758"
     ]
    },
    {
     "name": "stdout",
     "output_type": "stream",
     "text": [
      "  Ice root: /wrk/users/thalvari/tmp6scl_qb3"
     ]
    },
    {
     "name": "stdout",
     "output_type": "stream",
     "text": [
      "\n"
     ]
    },
    {
     "name": "stdout",
     "output_type": "stream",
     "text": [
      "  JVM stdout: /wrk/users/thalvari/tmp1q960lyd/h2o_thalvari_started_from_python.out"
     ]
    },
    {
     "name": "stdout",
     "output_type": "stream",
     "text": [
      "\n"
     ]
    },
    {
     "name": "stdout",
     "output_type": "stream",
     "text": [
      "\n"
     ]
    },
    {
     "name": "stdout",
     "output_type": "stream",
     "text": [
      "  Java Version: openjdk version \"1.8.0_222\"; OpenJDK Runtime Environment (build 1.8.0_222-b10); OpenJDK 64-Bit Server VM (build 25.222-b10, mixed mode)"
     ]
    },
    {
     "name": "stdout",
     "output_type": "stream",
     "text": [
      "  JVM stderr: /wrk/users/thalvari/tmp1q960lyd/h2o_thalvari_started_from_python.err"
     ]
    },
    {
     "name": "stdout",
     "output_type": "stream",
     "text": [
      "\n"
     ]
    },
    {
     "name": "stdout",
     "output_type": "stream",
     "text": [
      "  JVM stdout: /wrk/users/thalvari/tmpyep6k758/h2o_thalvari_started_from_python.out"
     ]
    },
    {
     "name": "stdout",
     "output_type": "stream",
     "text": [
      "  JVM stdout: /wrk/users/thalvari/tmp6scl_qb3/h2o_thalvari_started_from_python.out"
     ]
    },
    {
     "name": "stdout",
     "output_type": "stream",
     "text": [
      "\n"
     ]
    },
    {
     "name": "stdout",
     "output_type": "stream",
     "text": [
      "  Starting server from /wrk/users/thalvari/dpEmu/venv/lib/python3.6/site-packages/h2o/backend/bin/h2o.jar"
     ]
    },
    {
     "name": "stdout",
     "output_type": "stream",
     "text": [
      "\n"
     ]
    },
    {
     "name": "stdout",
     "output_type": "stream",
     "text": [
      "\n"
     ]
    },
    {
     "name": "stdout",
     "output_type": "stream",
     "text": [
      "\n"
     ]
    },
    {
     "name": "stdout",
     "output_type": "stream",
     "text": [
      "  JVM stderr: /wrk/users/thalvari/tmp6scl_qb3/h2o_thalvari_started_from_python.err"
     ]
    },
    {
     "name": "stdout",
     "output_type": "stream",
     "text": [
      "  Ice root: /wrk/users/thalvari/tmp8ltjrc2c"
     ]
    },
    {
     "name": "stdout",
     "output_type": "stream",
     "text": [
      "\n"
     ]
    },
    {
     "name": "stdout",
     "output_type": "stream",
     "text": [
      "\n"
     ]
    },
    {
     "name": "stdout",
     "output_type": "stream",
     "text": [
      "  Java Version: openjdk version \"1.8.0_222\"; OpenJDK Runtime Environment (build 1.8.0_222-b10); OpenJDK 64-Bit Server VM (build 25.222-b10, mixed mode)"
     ]
    },
    {
     "name": "stdout",
     "output_type": "stream",
     "text": [
      "\n"
     ]
    },
    {
     "name": "stdout",
     "output_type": "stream",
     "text": [
      "  Starting server from /wrk/users/thalvari/dpEmu/venv/lib/python3.6/site-packages/h2o/backend/bin/h2o.jar"
     ]
    },
    {
     "name": "stdout",
     "output_type": "stream",
     "text": [
      "  JVM stdout: /wrk/users/thalvari/tmp8ltjrc2c/h2o_thalvari_started_from_python.out"
     ]
    },
    {
     "name": "stdout",
     "output_type": "stream",
     "text": [
      "\n"
     ]
    },
    {
     "name": "stdout",
     "output_type": "stream",
     "text": [
      "\n"
     ]
    },
    {
     "name": "stdout",
     "output_type": "stream",
     "text": [
      "  Ice root: /wrk/users/thalvari/tmpwvgkwdrq"
     ]
    },
    {
     "name": "stdout",
     "output_type": "stream",
     "text": [
      "  JVM stderr: /wrk/users/thalvari/tmpyep6k758/h2o_thalvari_started_from_python.err"
     ]
    },
    {
     "name": "stdout",
     "output_type": "stream",
     "text": [
      "  JVM stderr: /wrk/users/thalvari/tmp8ltjrc2c/h2o_thalvari_started_from_python.err"
     ]
    },
    {
     "name": "stdout",
     "output_type": "stream",
     "text": [
      "\n"
     ]
    },
    {
     "name": "stdout",
     "output_type": "stream",
     "text": [
      "\n"
     ]
    },
    {
     "name": "stdout",
     "output_type": "stream",
     "text": [
      "\n"
     ]
    },
    {
     "name": "stdout",
     "output_type": "stream",
     "text": [
      "  JVM stdout: /wrk/users/thalvari/tmpwvgkwdrq/h2o_thalvari_started_from_python.out"
     ]
    },
    {
     "name": "stdout",
     "output_type": "stream",
     "text": [
      "\n"
     ]
    },
    {
     "name": "stdout",
     "output_type": "stream",
     "text": [
      "  JVM stderr: /wrk/users/thalvari/tmpwvgkwdrq/h2o_thalvari_started_from_python.err"
     ]
    },
    {
     "name": "stdout",
     "output_type": "stream",
     "text": [
      "\n"
     ]
    },
    {
     "name": "stdout",
     "output_type": "stream",
     "text": [
      "  Java Version: openjdk version \"1.8.0_222\"; OpenJDK Runtime Environment (build 1.8.0_222-b10); OpenJDK 64-Bit Server VM (build 25.222-b10, mixed mode)"
     ]
    },
    {
     "name": "stdout",
     "output_type": "stream",
     "text": [
      "\n"
     ]
    },
    {
     "name": "stdout",
     "output_type": "stream",
     "text": [
      "  Starting server from /wrk/users/thalvari/dpEmu/venv/lib/python3.6/site-packages/h2o/backend/bin/h2o.jar"
     ]
    },
    {
     "name": "stdout",
     "output_type": "stream",
     "text": [
      "\n"
     ]
    },
    {
     "name": "stdout",
     "output_type": "stream",
     "text": [
      "  Ice root: /wrk/users/thalvari/tmp_q6f3jla"
     ]
    },
    {
     "name": "stdout",
     "output_type": "stream",
     "text": [
      "\n"
     ]
    },
    {
     "name": "stdout",
     "output_type": "stream",
     "text": [
      "  JVM stdout: /wrk/users/thalvari/tmp_q6f3jla/h2o_thalvari_started_from_python.out"
     ]
    },
    {
     "name": "stdout",
     "output_type": "stream",
     "text": [
      "\n"
     ]
    },
    {
     "name": "stdout",
     "output_type": "stream",
     "text": [
      "  JVM stderr: /wrk/users/thalvari/tmp_q6f3jla/h2o_thalvari_started_from_python.err"
     ]
    },
    {
     "name": "stdout",
     "output_type": "stream",
     "text": [
      "\n"
     ]
    },
    {
     "name": "stdout",
     "output_type": "stream",
     "text": [
      "  Java Version: openjdk version \"1.8.0_222\"; OpenJDK Runtime Environment (build 1.8.0_222-b10); OpenJDK 64-Bit Server VM (build 25.222-b10, mixed mode)"
     ]
    },
    {
     "name": "stdout",
     "output_type": "stream",
     "text": [
      "  Java Version: openjdk version \"1.8.0_222\"; OpenJDK Runtime Environment (build 1.8.0_222-b10); OpenJDK 64-Bit Server VM (build 25.222-b10, mixed mode)"
     ]
    },
    {
     "name": "stdout",
     "output_type": "stream",
     "text": [
      "\n"
     ]
    },
    {
     "name": "stdout",
     "output_type": "stream",
     "text": [
      "\n"
     ]
    },
    {
     "name": "stdout",
     "output_type": "stream",
     "text": [
      "  Starting server from /wrk/users/thalvari/dpEmu/venv/lib/python3.6/site-packages/h2o/backend/bin/h2o.jar"
     ]
    },
    {
     "name": "stdout",
     "output_type": "stream",
     "text": [
      "\n"
     ]
    },
    {
     "name": "stdout",
     "output_type": "stream",
     "text": [
      "  Starting server from /wrk/users/thalvari/dpEmu/venv/lib/python3.6/site-packages/h2o/backend/bin/h2o.jar"
     ]
    },
    {
     "name": "stdout",
     "output_type": "stream",
     "text": [
      "  Ice root: /wrk/users/thalvari/tmpqzja0x6f"
     ]
    },
    {
     "name": "stdout",
     "output_type": "stream",
     "text": [
      "\n"
     ]
    },
    {
     "name": "stdout",
     "output_type": "stream",
     "text": [
      "\n"
     ]
    },
    {
     "name": "stdout",
     "output_type": "stream",
     "text": [
      "  Ice root: /wrk/users/thalvari/tmp0y17ib2s"
     ]
    },
    {
     "name": "stdout",
     "output_type": "stream",
     "text": [
      "\n"
     ]
    },
    {
     "name": "stdout",
     "output_type": "stream",
     "text": [
      "  JVM stdout: /wrk/users/thalvari/tmpqzja0x6f/h2o_thalvari_started_from_python.out"
     ]
    },
    {
     "name": "stdout",
     "output_type": "stream",
     "text": [
      "  JVM stdout: /wrk/users/thalvari/tmp0y17ib2s/h2o_thalvari_started_from_python.out"
     ]
    },
    {
     "name": "stdout",
     "output_type": "stream",
     "text": [
      "\n"
     ]
    },
    {
     "name": "stdout",
     "output_type": "stream",
     "text": [
      "\n"
     ]
    },
    {
     "name": "stdout",
     "output_type": "stream",
     "text": [
      "  JVM stderr: /wrk/users/thalvari/tmpqzja0x6f/h2o_thalvari_started_from_python.err"
     ]
    },
    {
     "name": "stdout",
     "output_type": "stream",
     "text": [
      "  JVM stderr: /wrk/users/thalvari/tmp0y17ib2s/h2o_thalvari_started_from_python.err"
     ]
    },
    {
     "name": "stdout",
     "output_type": "stream",
     "text": [
      "\n"
     ]
    },
    {
     "name": "stdout",
     "output_type": "stream",
     "text": [
      "\n"
     ]
    },
    {
     "name": "stdout",
     "output_type": "stream",
     "text": [
      "  Server is running at http://127.0.0.1:54333"
     ]
    },
    {
     "name": "stdout",
     "output_type": "stream",
     "text": [
      "\n"
     ]
    },
    {
     "name": "stdout",
     "output_type": "stream",
     "text": [
      "Connecting to H2O server at http://127.0.0.1:54333 .."
     ]
    },
    {
     "name": "stdout",
     "output_type": "stream",
     "text": [
      "."
     ]
    },
    {
     "name": "stdout",
     "output_type": "stream",
     "text": [
      "  Server is running at http://127.0.0.1:54321"
     ]
    },
    {
     "name": "stdout",
     "output_type": "stream",
     "text": [
      "  Server is running at http://127.0.0.1:54327"
     ]
    },
    {
     "name": "stdout",
     "output_type": "stream",
     "text": [
      "\n"
     ]
    },
    {
     "name": "stdout",
     "output_type": "stream",
     "text": [
      "\n"
     ]
    },
    {
     "name": "stdout",
     "output_type": "stream",
     "text": [
      "Connecting to H2O server at http://127.0.0.1:54321 .."
     ]
    },
    {
     "name": "stdout",
     "output_type": "stream",
     "text": [
      "."
     ]
    },
    {
     "name": "stdout",
     "output_type": "stream",
     "text": [
      "Connecting to H2O server at http://127.0.0.1:54327 .."
     ]
    },
    {
     "name": "stdout",
     "output_type": "stream",
     "text": [
      "."
     ]
    },
    {
     "name": "stdout",
     "output_type": "stream",
     "text": [
      " successful."
     ]
    },
    {
     "name": "stdout",
     "output_type": "stream",
     "text": [
      "\n"
     ]
    },
    {
     "name": "stdout",
     "output_type": "stream",
     "text": [
      "  Server is running at http://127.0.0.1:54325"
     ]
    },
    {
     "name": "stdout",
     "output_type": "stream",
     "text": [
      "\n"
     ]
    },
    {
     "name": "stdout",
     "output_type": "stream",
     "text": [
      "Connecting to H2O server at http://127.0.0.1:54325 .."
     ]
    },
    {
     "name": "stdout",
     "output_type": "stream",
     "text": [
      "."
     ]
    },
    {
     "name": "stdout",
     "output_type": "stream",
     "text": [
      "  Server is running at http://127.0.0.1:54323"
     ]
    },
    {
     "name": "stdout",
     "output_type": "stream",
     "text": [
      "\n"
     ]
    },
    {
     "name": "stdout",
     "output_type": "stream",
     "text": [
      "Connecting to H2O server at http://127.0.0.1:54323 .."
     ]
    },
    {
     "name": "stdout",
     "output_type": "stream",
     "text": [
      "."
     ]
    },
    {
     "name": "stdout",
     "output_type": "stream",
     "text": [
      "  Server is running at http://127.0.0.1:54331"
     ]
    },
    {
     "name": "stdout",
     "output_type": "stream",
     "text": [
      " successful."
     ]
    },
    {
     "name": "stdout",
     "output_type": "stream",
     "text": [
      "\n"
     ]
    },
    {
     "name": "stdout",
     "output_type": "stream",
     "text": [
      "  Server is running at http://127.0.0.1:54329"
     ]
    },
    {
     "name": "stdout",
     "output_type": "stream",
     "text": [
      "\n"
     ]
    },
    {
     "name": "stdout",
     "output_type": "stream",
     "text": [
      "Connecting to H2O server at http://127.0.0.1:54331 .."
     ]
    },
    {
     "name": "stdout",
     "output_type": "stream",
     "text": [
      "."
     ]
    },
    {
     "name": "stdout",
     "output_type": "stream",
     "text": [
      "\n"
     ]
    },
    {
     "name": "stdout",
     "output_type": "stream",
     "text": [
      "Connecting to H2O server at http://127.0.0.1:54329 .."
     ]
    },
    {
     "name": "stdout",
     "output_type": "stream",
     "text": [
      "."
     ]
    },
    {
     "data": {
      "text/html": [
       "<div style=\"overflow:auto\"><table style=\"width:50%\"><tr><td>H2O cluster uptime:</td>\n",
       "<td>01 secs</td></tr>\n",
       "<tr><td>H2O cluster timezone:</td>\n",
       "<td>Europe/Helsinki</td></tr>\n",
       "<tr><td>H2O data parsing timezone:</td>\n",
       "<td>UTC</td></tr>\n",
       "<tr><td>H2O cluster version:</td>\n",
       "<td>3.26.0.8</td></tr>\n",
       "<tr><td>H2O cluster version age:</td>\n",
       "<td>3 days </td></tr>\n",
       "<tr><td>H2O cluster name:</td>\n",
       "<td>#112958621</td></tr>\n",
       "<tr><td>H2O cluster total nodes:</td>\n",
       "<td>1</td></tr>\n",
       "<tr><td>H2O cluster free memory:</td>\n",
       "<td>26.67 Gb</td></tr>\n",
       "<tr><td>H2O cluster total cores:</td>\n",
       "<td>16</td></tr>\n",
       "<tr><td>H2O cluster allowed cores:</td>\n",
       "<td>16</td></tr>\n",
       "<tr><td>H2O cluster status:</td>\n",
       "<td>accepting new members, healthy</td></tr>\n",
       "<tr><td>H2O connection url:</td>\n",
       "<td>http://127.0.0.1:54333</td></tr>\n",
       "<tr><td>H2O connection proxy:</td>\n",
       "<td>{'http': None, 'https': None}</td></tr>\n",
       "<tr><td>H2O internal security:</td>\n",
       "<td>False</td></tr>\n",
       "<tr><td>H2O API Extensions:</td>\n",
       "<td>Amazon S3, XGBoost, Algos, AutoML, Core V3, TargetEncoder, Core V4</td></tr>\n",
       "<tr><td>Python version:</td>\n",
       "<td>3.6.6 final</td></tr></table></div>"
      ],
      "text/plain": [
       "--------------------------  ------------------------------------------------------------------\n",
       "H2O cluster uptime:         01 secs\n",
       "H2O cluster timezone:       Europe/Helsinki\n",
       "H2O data parsing timezone:  UTC\n",
       "H2O cluster version:        3.26.0.8\n",
       "H2O cluster version age:    3 days\n",
       "H2O cluster name:           #112958621\n",
       "H2O cluster total nodes:    1\n",
       "H2O cluster free memory:    26.67 Gb\n",
       "H2O cluster total cores:    16\n",
       "H2O cluster allowed cores:  16\n",
       "H2O cluster status:         accepting new members, healthy\n",
       "H2O connection url:         http://127.0.0.1:54333\n",
       "H2O connection proxy:       {'http': None, 'https': None}\n",
       "H2O internal security:      False\n",
       "H2O API Extensions:         Amazon S3, XGBoost, Algos, AutoML, Core V3, TargetEncoder, Core V4\n",
       "Python version:             3.6.6 final\n",
       "--------------------------  ------------------------------------------------------------------"
      ]
     },
     "metadata": {},
     "output_type": "display_data"
    },
    {
     "name": "stdout",
     "output_type": "stream",
     "text": [
      " successful."
     ]
    },
    {
     "name": "stdout",
     "output_type": "stream",
     "text": [
      " successful."
     ]
    },
    {
     "name": "stdout",
     "output_type": "stream",
     "text": [
      "\n"
     ]
    },
    {
     "name": "stdout",
     "output_type": "stream",
     "text": [
      "  Server is running at http://127.0.0.1:54335"
     ]
    },
    {
     "name": "stdout",
     "output_type": "stream",
     "text": [
      "\n"
     ]
    },
    {
     "name": "stdout",
     "output_type": "stream",
     "text": [
      "Connecting to H2O server at http://127.0.0.1:54335 .."
     ]
    },
    {
     "name": "stdout",
     "output_type": "stream",
     "text": [
      "."
     ]
    },
    {
     "name": "stdout",
     "output_type": "stream",
     "text": [
      "\n"
     ]
    },
    {
     "data": {
      "text/html": [
       "<div style=\"overflow:auto\"><table style=\"width:50%\"><tr><td>H2O cluster uptime:</td>\n",
       "<td>02 secs</td></tr>\n",
       "<tr><td>H2O cluster timezone:</td>\n",
       "<td>Europe/Helsinki</td></tr>\n",
       "<tr><td>H2O data parsing timezone:</td>\n",
       "<td>UTC</td></tr>\n",
       "<tr><td>H2O cluster version:</td>\n",
       "<td>3.26.0.8</td></tr>\n",
       "<tr><td>H2O cluster version age:</td>\n",
       "<td>3 days </td></tr>\n",
       "<tr><td>H2O cluster name:</td>\n",
       "<td>#319393266</td></tr>\n",
       "<tr><td>H2O cluster total nodes:</td>\n",
       "<td>1</td></tr>\n",
       "<tr><td>H2O cluster free memory:</td>\n",
       "<td>26.67 Gb</td></tr>\n",
       "<tr><td>H2O cluster total cores:</td>\n",
       "<td>16</td></tr>\n",
       "<tr><td>H2O cluster allowed cores:</td>\n",
       "<td>16</td></tr>\n",
       "<tr><td>H2O cluster status:</td>\n",
       "<td>accepting new members, healthy</td></tr>\n",
       "<tr><td>H2O connection url:</td>\n",
       "<td>http://127.0.0.1:54321</td></tr>\n",
       "<tr><td>H2O connection proxy:</td>\n",
       "<td>{'http': None, 'https': None}</td></tr>\n",
       "<tr><td>H2O internal security:</td>\n",
       "<td>False</td></tr>\n",
       "<tr><td>H2O API Extensions:</td>\n",
       "<td>Amazon S3, XGBoost, Algos, AutoML, Core V3, TargetEncoder, Core V4</td></tr>\n",
       "<tr><td>Python version:</td>\n",
       "<td>3.6.6 final</td></tr></table></div>"
      ],
      "text/plain": [
       "--------------------------  ------------------------------------------------------------------\n",
       "H2O cluster uptime:         02 secs\n",
       "H2O cluster timezone:       Europe/Helsinki\n",
       "H2O data parsing timezone:  UTC\n",
       "H2O cluster version:        3.26.0.8\n",
       "H2O cluster version age:    3 days\n",
       "H2O cluster name:           #319393266\n",
       "H2O cluster total nodes:    1\n",
       "H2O cluster free memory:    26.67 Gb\n",
       "H2O cluster total cores:    16\n",
       "H2O cluster allowed cores:  16\n",
       "H2O cluster status:         accepting new members, healthy\n",
       "H2O connection url:         http://127.0.0.1:54321\n",
       "H2O connection proxy:       {'http': None, 'https': None}\n",
       "H2O internal security:      False\n",
       "H2O API Extensions:         Amazon S3, XGBoost, Algos, AutoML, Core V3, TargetEncoder, Core V4\n",
       "Python version:             3.6.6 final\n",
       "--------------------------  ------------------------------------------------------------------"
      ]
     },
     "metadata": {},
     "output_type": "display_data"
    },
    {
     "name": "stdout",
     "output_type": "stream",
     "text": [
      " successful."
     ]
    },
    {
     "name": "stdout",
     "output_type": "stream",
     "text": [
      "\n"
     ]
    },
    {
     "name": "stdout",
     "output_type": "stream",
     "text": [
      " successful."
     ]
    },
    {
     "name": "stdout",
     "output_type": "stream",
     "text": [
      "\n"
     ]
    },
    {
     "name": "stdout",
     "output_type": "stream",
     "text": [
      " successful."
     ]
    },
    {
     "name": "stdout",
     "output_type": "stream",
     "text": [
      "\n"
     ]
    },
    {
     "data": {
      "text/html": [
       "<div style=\"overflow:auto\"><table style=\"width:50%\"><tr><td>H2O cluster uptime:</td>\n",
       "<td>01 secs</td></tr>\n",
       "<tr><td>H2O cluster timezone:</td>\n",
       "<td>Europe/Helsinki</td></tr>\n",
       "<tr><td>H2O data parsing timezone:</td>\n",
       "<td>UTC</td></tr>\n",
       "<tr><td>H2O cluster version:</td>\n",
       "<td>3.26.0.8</td></tr>\n",
       "<tr><td>H2O cluster version age:</td>\n",
       "<td>3 days </td></tr>\n",
       "<tr><td>H2O cluster name:</td>\n",
       "<td>#617629525</td></tr>\n",
       "<tr><td>H2O cluster total nodes:</td>\n",
       "<td>1</td></tr>\n",
       "<tr><td>H2O cluster free memory:</td>\n",
       "<td>26.67 Gb</td></tr>\n",
       "<tr><td>H2O cluster total cores:</td>\n",
       "<td>16</td></tr>\n",
       "<tr><td>H2O cluster allowed cores:</td>\n",
       "<td>16</td></tr>\n",
       "<tr><td>H2O cluster status:</td>\n",
       "<td>accepting new members, healthy</td></tr>\n",
       "<tr><td>H2O connection url:</td>\n",
       "<td>http://127.0.0.1:54327</td></tr>\n",
       "<tr><td>H2O connection proxy:</td>\n",
       "<td>{'http': None, 'https': None}</td></tr>\n",
       "<tr><td>H2O internal security:</td>\n",
       "<td>False</td></tr>\n",
       "<tr><td>H2O API Extensions:</td>\n",
       "<td>Amazon S3, XGBoost, Algos, AutoML, Core V3, TargetEncoder, Core V4</td></tr>\n",
       "<tr><td>Python version:</td>\n",
       "<td>3.6.6 final</td></tr></table></div>"
      ],
      "text/plain": [
       "--------------------------  ------------------------------------------------------------------\n",
       "H2O cluster uptime:         01 secs\n",
       "H2O cluster timezone:       Europe/Helsinki\n",
       "H2O data parsing timezone:  UTC\n",
       "H2O cluster version:        3.26.0.8\n",
       "H2O cluster version age:    3 days\n",
       "H2O cluster name:           #617629525\n",
       "H2O cluster total nodes:    1\n",
       "H2O cluster free memory:    26.67 Gb\n",
       "H2O cluster total cores:    16\n",
       "H2O cluster allowed cores:  16\n",
       "H2O cluster status:         accepting new members, healthy\n",
       "H2O connection url:         http://127.0.0.1:54327\n",
       "H2O connection proxy:       {'http': None, 'https': None}\n",
       "H2O internal security:      False\n",
       "H2O API Extensions:         Amazon S3, XGBoost, Algos, AutoML, Core V3, TargetEncoder, Core V4\n",
       "Python version:             3.6.6 final\n",
       "--------------------------  ------------------------------------------------------------------"
      ]
     },
     "metadata": {},
     "output_type": "display_data"
    },
    {
     "name": "stdout",
     "output_type": "stream",
     "text": [
      " successful."
     ]
    },
    {
     "data": {
      "text/html": [
       "<div style=\"overflow:auto\"><table style=\"width:50%\"><tr><td>H2O cluster uptime:</td>\n",
       "<td>01 secs</td></tr>\n",
       "<tr><td>H2O cluster timezone:</td>\n",
       "<td>Europe/Helsinki</td></tr>\n",
       "<tr><td>H2O data parsing timezone:</td>\n",
       "<td>UTC</td></tr>\n",
       "<tr><td>H2O cluster version:</td>\n",
       "<td>3.26.0.8</td></tr>\n",
       "<tr><td>H2O cluster version age:</td>\n",
       "<td>3 days </td></tr>\n",
       "<tr><td>H2O cluster name:</td>\n",
       "<td>#350419230</td></tr>\n",
       "<tr><td>H2O cluster total nodes:</td>\n",
       "<td>1</td></tr>\n",
       "<tr><td>H2O cluster free memory:</td>\n",
       "<td>26.67 Gb</td></tr>\n",
       "<tr><td>H2O cluster total cores:</td>\n",
       "<td>16</td></tr>\n",
       "<tr><td>H2O cluster allowed cores:</td>\n",
       "<td>16</td></tr>\n",
       "<tr><td>H2O cluster status:</td>\n",
       "<td>accepting new members, healthy</td></tr>\n",
       "<tr><td>H2O connection url:</td>\n",
       "<td>http://127.0.0.1:54325</td></tr>\n",
       "<tr><td>H2O connection proxy:</td>\n",
       "<td>{'http': None, 'https': None}</td></tr>\n",
       "<tr><td>H2O internal security:</td>\n",
       "<td>False</td></tr>\n",
       "<tr><td>H2O API Extensions:</td>\n",
       "<td>Amazon S3, XGBoost, Algos, AutoML, Core V3, TargetEncoder, Core V4</td></tr>\n",
       "<tr><td>Python version:</td>\n",
       "<td>3.6.6 final</td></tr></table></div>"
      ],
      "text/plain": [
       "--------------------------  ------------------------------------------------------------------\n",
       "H2O cluster uptime:         01 secs\n",
       "H2O cluster timezone:       Europe/Helsinki\n",
       "H2O data parsing timezone:  UTC\n",
       "H2O cluster version:        3.26.0.8\n",
       "H2O cluster version age:    3 days\n",
       "H2O cluster name:           #350419230\n",
       "H2O cluster total nodes:    1\n",
       "H2O cluster free memory:    26.67 Gb\n",
       "H2O cluster total cores:    16\n",
       "H2O cluster allowed cores:  16\n",
       "H2O cluster status:         accepting new members, healthy\n",
       "H2O connection url:         http://127.0.0.1:54325\n",
       "H2O connection proxy:       {'http': None, 'https': None}\n",
       "H2O internal security:      False\n",
       "H2O API Extensions:         Amazon S3, XGBoost, Algos, AutoML, Core V3, TargetEncoder, Core V4\n",
       "Python version:             3.6.6 final\n",
       "--------------------------  ------------------------------------------------------------------"
      ]
     },
     "metadata": {},
     "output_type": "display_data"
    },
    {
     "name": "stdout",
     "output_type": "stream",
     "text": [
      "\n"
     ]
    },
    {
     "data": {
      "text/html": [
       "<div style=\"overflow:auto\"><table style=\"width:50%\"><tr><td>H2O cluster uptime:</td>\n",
       "<td>02 secs</td></tr>\n",
       "<tr><td>H2O cluster timezone:</td>\n",
       "<td>Europe/Helsinki</td></tr>\n",
       "<tr><td>H2O data parsing timezone:</td>\n",
       "<td>UTC</td></tr>\n",
       "<tr><td>H2O cluster version:</td>\n",
       "<td>3.26.0.8</td></tr>\n",
       "<tr><td>H2O cluster version age:</td>\n",
       "<td>3 days </td></tr>\n",
       "<tr><td>H2O cluster name:</td>\n",
       "<td>#821171675</td></tr>\n",
       "<tr><td>H2O cluster total nodes:</td>\n",
       "<td>1</td></tr>\n",
       "<tr><td>H2O cluster free memory:</td>\n",
       "<td>26.67 Gb</td></tr>\n",
       "<tr><td>H2O cluster total cores:</td>\n",
       "<td>16</td></tr>\n",
       "<tr><td>H2O cluster allowed cores:</td>\n",
       "<td>16</td></tr>\n",
       "<tr><td>H2O cluster status:</td>\n",
       "<td>accepting new members, healthy</td></tr>\n",
       "<tr><td>H2O connection url:</td>\n",
       "<td>http://127.0.0.1:54323</td></tr>\n",
       "<tr><td>H2O connection proxy:</td>\n",
       "<td>{'http': None, 'https': None}</td></tr>\n",
       "<tr><td>H2O internal security:</td>\n",
       "<td>False</td></tr>\n",
       "<tr><td>H2O API Extensions:</td>\n",
       "<td>Amazon S3, XGBoost, Algos, AutoML, Core V3, TargetEncoder, Core V4</td></tr>\n",
       "<tr><td>Python version:</td>\n",
       "<td>3.6.6 final</td></tr></table></div>"
      ],
      "text/plain": [
       "--------------------------  ------------------------------------------------------------------\n",
       "H2O cluster uptime:         02 secs\n",
       "H2O cluster timezone:       Europe/Helsinki\n",
       "H2O data parsing timezone:  UTC\n",
       "H2O cluster version:        3.26.0.8\n",
       "H2O cluster version age:    3 days\n",
       "H2O cluster name:           #821171675\n",
       "H2O cluster total nodes:    1\n",
       "H2O cluster free memory:    26.67 Gb\n",
       "H2O cluster total cores:    16\n",
       "H2O cluster allowed cores:  16\n",
       "H2O cluster status:         accepting new members, healthy\n",
       "H2O connection url:         http://127.0.0.1:54323\n",
       "H2O connection proxy:       {'http': None, 'https': None}\n",
       "H2O internal security:      False\n",
       "H2O API Extensions:         Amazon S3, XGBoost, Algos, AutoML, Core V3, TargetEncoder, Core V4\n",
       "Python version:             3.6.6 final\n",
       "--------------------------  ------------------------------------------------------------------"
      ]
     },
     "metadata": {},
     "output_type": "display_data"
    },
    {
     "data": {
      "text/html": [
       "<div style=\"overflow:auto\"><table style=\"width:50%\"><tr><td>H2O cluster uptime:</td>\n",
       "<td>02 secs</td></tr>\n",
       "<tr><td>H2O cluster timezone:</td>\n",
       "<td>Europe/Helsinki</td></tr>\n",
       "<tr><td>H2O data parsing timezone:</td>\n",
       "<td>UTC</td></tr>\n",
       "<tr><td>H2O cluster version:</td>\n",
       "<td>3.26.0.8</td></tr>\n",
       "<tr><td>H2O cluster version age:</td>\n",
       "<td>3 days </td></tr>\n",
       "<tr><td>H2O cluster name:</td>\n",
       "<td>#569402538</td></tr>\n",
       "<tr><td>H2O cluster total nodes:</td>\n",
       "<td>1</td></tr>\n",
       "<tr><td>H2O cluster free memory:</td>\n",
       "<td>26.67 Gb</td></tr>\n",
       "<tr><td>H2O cluster total cores:</td>\n",
       "<td>16</td></tr>\n",
       "<tr><td>H2O cluster allowed cores:</td>\n",
       "<td>16</td></tr>\n",
       "<tr><td>H2O cluster status:</td>\n",
       "<td>accepting new members, healthy</td></tr>\n",
       "<tr><td>H2O connection url:</td>\n",
       "<td>http://127.0.0.1:54329</td></tr>\n",
       "<tr><td>H2O connection proxy:</td>\n",
       "<td>{'http': None, 'https': None}</td></tr>\n",
       "<tr><td>H2O internal security:</td>\n",
       "<td>False</td></tr>\n",
       "<tr><td>H2O API Extensions:</td>\n",
       "<td>Amazon S3, XGBoost, Algos, AutoML, Core V3, TargetEncoder, Core V4</td></tr>\n",
       "<tr><td>Python version:</td>\n",
       "<td>3.6.6 final</td></tr></table></div>"
      ],
      "text/plain": [
       "--------------------------  ------------------------------------------------------------------\n",
       "H2O cluster uptime:         02 secs\n",
       "H2O cluster timezone:       Europe/Helsinki\n",
       "H2O data parsing timezone:  UTC\n",
       "H2O cluster version:        3.26.0.8\n",
       "H2O cluster version age:    3 days\n",
       "H2O cluster name:           #569402538\n",
       "H2O cluster total nodes:    1\n",
       "H2O cluster free memory:    26.67 Gb\n",
       "H2O cluster total cores:    16\n",
       "H2O cluster allowed cores:  16\n",
       "H2O cluster status:         accepting new members, healthy\n",
       "H2O connection url:         http://127.0.0.1:54329\n",
       "H2O connection proxy:       {'http': None, 'https': None}\n",
       "H2O internal security:      False\n",
       "H2O API Extensions:         Amazon S3, XGBoost, Algos, AutoML, Core V3, TargetEncoder, Core V4\n",
       "Python version:             3.6.6 final\n",
       "--------------------------  ------------------------------------------------------------------"
      ]
     },
     "metadata": {},
     "output_type": "display_data"
    },
    {
     "data": {
      "text/html": [
       "<div style=\"overflow:auto\"><table style=\"width:50%\"><tr><td>H2O cluster uptime:</td>\n",
       "<td>02 secs</td></tr>\n",
       "<tr><td>H2O cluster timezone:</td>\n",
       "<td>Europe/Helsinki</td></tr>\n",
       "<tr><td>H2O data parsing timezone:</td>\n",
       "<td>UTC</td></tr>\n",
       "<tr><td>H2O cluster version:</td>\n",
       "<td>3.26.0.8</td></tr>\n",
       "<tr><td>H2O cluster version age:</td>\n",
       "<td>3 days </td></tr>\n",
       "<tr><td>H2O cluster name:</td>\n",
       "<td>#155615091</td></tr>\n",
       "<tr><td>H2O cluster total nodes:</td>\n",
       "<td>1</td></tr>\n",
       "<tr><td>H2O cluster free memory:</td>\n",
       "<td>26.67 Gb</td></tr>\n",
       "<tr><td>H2O cluster total cores:</td>\n",
       "<td>16</td></tr>\n",
       "<tr><td>H2O cluster allowed cores:</td>\n",
       "<td>16</td></tr>\n",
       "<tr><td>H2O cluster status:</td>\n",
       "<td>accepting new members, healthy</td></tr>\n",
       "<tr><td>H2O connection url:</td>\n",
       "<td>http://127.0.0.1:54335</td></tr>\n",
       "<tr><td>H2O connection proxy:</td>\n",
       "<td>{'http': None, 'https': None}</td></tr>\n",
       "<tr><td>H2O internal security:</td>\n",
       "<td>False</td></tr>\n",
       "<tr><td>H2O API Extensions:</td>\n",
       "<td>Amazon S3, XGBoost, Algos, AutoML, Core V3, TargetEncoder, Core V4</td></tr>\n",
       "<tr><td>Python version:</td>\n",
       "<td>3.6.6 final</td></tr></table></div>"
      ],
      "text/plain": [
       "--------------------------  ------------------------------------------------------------------\n",
       "H2O cluster uptime:         02 secs\n",
       "H2O cluster timezone:       Europe/Helsinki\n",
       "H2O data parsing timezone:  UTC\n",
       "H2O cluster version:        3.26.0.8\n",
       "H2O cluster version age:    3 days\n",
       "H2O cluster name:           #155615091\n",
       "H2O cluster total nodes:    1\n",
       "H2O cluster free memory:    26.67 Gb\n",
       "H2O cluster total cores:    16\n",
       "H2O cluster allowed cores:  16\n",
       "H2O cluster status:         accepting new members, healthy\n",
       "H2O connection url:         http://127.0.0.1:54335\n",
       "H2O connection proxy:       {'http': None, 'https': None}\n",
       "H2O internal security:      False\n",
       "H2O API Extensions:         Amazon S3, XGBoost, Algos, AutoML, Core V3, TargetEncoder, Core V4\n",
       "Python version:             3.6.6 final\n",
       "--------------------------  ------------------------------------------------------------------"
      ]
     },
     "metadata": {},
     "output_type": "display_data"
    },
    {
     "data": {
      "text/html": [
       "<div style=\"overflow:auto\"><table style=\"width:50%\"><tr><td>H2O cluster uptime:</td>\n",
       "<td>02 secs</td></tr>\n",
       "<tr><td>H2O cluster timezone:</td>\n",
       "<td>Europe/Helsinki</td></tr>\n",
       "<tr><td>H2O data parsing timezone:</td>\n",
       "<td>UTC</td></tr>\n",
       "<tr><td>H2O cluster version:</td>\n",
       "<td>3.26.0.8</td></tr>\n",
       "<tr><td>H2O cluster version age:</td>\n",
       "<td>3 days </td></tr>\n",
       "<tr><td>H2O cluster name:</td>\n",
       "<td>#683639840</td></tr>\n",
       "<tr><td>H2O cluster total nodes:</td>\n",
       "<td>1</td></tr>\n",
       "<tr><td>H2O cluster free memory:</td>\n",
       "<td>26.67 Gb</td></tr>\n",
       "<tr><td>H2O cluster total cores:</td>\n",
       "<td>16</td></tr>\n",
       "<tr><td>H2O cluster allowed cores:</td>\n",
       "<td>16</td></tr>\n",
       "<tr><td>H2O cluster status:</td>\n",
       "<td>accepting new members, healthy</td></tr>\n",
       "<tr><td>H2O connection url:</td>\n",
       "<td>http://127.0.0.1:54331</td></tr>\n",
       "<tr><td>H2O connection proxy:</td>\n",
       "<td>{'http': None, 'https': None}</td></tr>\n",
       "<tr><td>H2O internal security:</td>\n",
       "<td>False</td></tr>\n",
       "<tr><td>H2O API Extensions:</td>\n",
       "<td>Amazon S3, XGBoost, Algos, AutoML, Core V3, TargetEncoder, Core V4</td></tr>\n",
       "<tr><td>Python version:</td>\n",
       "<td>3.6.6 final</td></tr></table></div>"
      ],
      "text/plain": [
       "--------------------------  ------------------------------------------------------------------\n",
       "H2O cluster uptime:         02 secs\n",
       "H2O cluster timezone:       Europe/Helsinki\n",
       "H2O data parsing timezone:  UTC\n",
       "H2O cluster version:        3.26.0.8\n",
       "H2O cluster version age:    3 days\n",
       "H2O cluster name:           #683639840\n",
       "H2O cluster total nodes:    1\n",
       "H2O cluster free memory:    26.67 Gb\n",
       "H2O cluster total cores:    16\n",
       "H2O cluster allowed cores:  16\n",
       "H2O cluster status:         accepting new members, healthy\n",
       "H2O connection url:         http://127.0.0.1:54331\n",
       "H2O connection proxy:       {'http': None, 'https': None}\n",
       "H2O internal security:      False\n",
       "H2O API Extensions:         Amazon S3, XGBoost, Algos, AutoML, Core V3, TargetEncoder, Core V4\n",
       "Python version:             3.6.6 final\n",
       "--------------------------  ------------------------------------------------------------------"
      ]
     },
     "metadata": {},
     "output_type": "display_data"
    },
    {
     "name": "stdout",
     "output_type": "stream",
     "text": [
      "H2O session _sid_b57a closed."
     ]
    },
    {
     "name": "stdout",
     "output_type": "stream",
     "text": [
      "\n"
     ]
    },
    {
     "name": "stdout",
     "output_type": "stream",
     "text": [
      "H2O session _sid_aaf2 closed."
     ]
    },
    {
     "name": "stdout",
     "output_type": "stream",
     "text": [
      "\n"
     ]
    },
    {
     "name": "stdout",
     "output_type": "stream",
     "text": [
      "H2O session _sid_895e closed."
     ]
    },
    {
     "name": "stdout",
     "output_type": "stream",
     "text": [
      "\n"
     ]
    },
    {
     "name": "stdout",
     "output_type": "stream",
     "text": [
      "H2O session _sid_8e14 closed."
     ]
    },
    {
     "name": "stdout",
     "output_type": "stream",
     "text": [
      "\n"
     ]
    },
    {
     "name": "stdout",
     "output_type": "stream",
     "text": [
      "H2O session _sid_93dc closed."
     ]
    },
    {
     "name": "stdout",
     "output_type": "stream",
     "text": [
      "\n"
     ]
    },
    {
     "name": "stdout",
     "output_type": "stream",
     "text": [
      "H2O session _sid_8630 closed."
     ]
    },
    {
     "name": "stdout",
     "output_type": "stream",
     "text": [
      "\n"
     ]
    },
    {
     "name": "stdout",
     "output_type": "stream",
     "text": [
      "H2O session _sid_b515 closed."
     ]
    },
    {
     "name": "stdout",
     "output_type": "stream",
     "text": [
      "\n"
     ]
    },
    {
     "name": "stderr",
     "output_type": "stream",
     "text": [
      "\r",
      " 12%|█▎        | 1/8 [59:01<6:53:13, 3541.97s/it]"
     ]
    },
    {
     "name": "stdout",
     "output_type": "stream",
     "text": [
      "H2O session _sid_adcf closed."
     ]
    },
    {
     "name": "stdout",
     "output_type": "stream",
     "text": [
      "\n"
     ]
    },
    {
     "name": "stderr",
     "output_type": "stream",
     "text": [
      "\r",
      " 62%|██████▎   | 5/8 [59:08<2:03:59, 2479.86s/it]"
     ]
    },
    {
     "name": "stderr",
     "output_type": "stream",
     "text": [
      "\r",
      "100%|██████████| 8/8 [59:08<00:00, 443.56s/it]   "
     ]
    },
    {
     "name": "stderr",
     "output_type": "stream",
     "text": [
      "\n"
     ]
    }
   ],
   "source": [
    "train_data, test_data, train_labels, test_labels = get_data()\n",
    "\n",
    "df = runner.run(\n",
    "    train_data=train_data,\n",
    "    test_data=test_data,\n",
    "    preproc=Preprocessor,\n",
    "    preproc_params=None,\n",
    "    err_root_node=get_err_root_node(),\n",
    "    err_params_list=get_err_params_list(),\n",
    "    model_params_dict_list=get_model_params_dict_list(train_labels, test_labels),\n",
    ")"
   ]
  },
  {
   "cell_type": "code",
   "execution_count": 10,
   "metadata": {
    "collapsed": false,
    "papermill": {
     "duration": 1.269475,
     "end_time": "2019-10-21T04:22:20.582170",
     "exception": false,
     "start_time": "2019-10-21T04:22:19.312695",
     "status": "completed"
    },
    "pycharm": {
     "name": "#%%\n"
    },
    "tags": []
   },
   "outputs": [
    {
     "data": {
      "text/plain": [
       "'H2OAutoML #1'"
      ]
     },
     "metadata": {},
     "output_type": "display_data"
    },
    {
     "data": {
      "text/html": [
       "<style  type=\"text/css\" >\n",
       "</style><table id=\"T_5f11d192_f3ba_11e9_ba6b_008cfaf719ba\" ><thead>    <tr>        <th class=\"col_heading level0 col0\" >max_angle</th>        <th class=\"col_heading level0 col1\" >test_acc</th>        <th class=\"col_heading level0 col2\" >train_acc</th>        <th class=\"col_heading level0 col3\" >time_err</th>        <th class=\"col_heading level0 col4\" >time_pre</th>        <th class=\"col_heading level0 col5\" >time_mod</th>    </tr></thead><tbody>\n",
       "                <tr>\n",
       "                                <td id=\"T_5f11d192_f3ba_11e9_ba6b_008cfaf719barow0_col0\" class=\"data row0 col0\" >0</td>\n",
       "                        <td id=\"T_5f11d192_f3ba_11e9_ba6b_008cfaf719barow0_col1\" class=\"data row0 col1\" >0.986</td>\n",
       "                        <td id=\"T_5f11d192_f3ba_11e9_ba6b_008cfaf719barow0_col2\" class=\"data row0 col2\" >1</td>\n",
       "                        <td id=\"T_5f11d192_f3ba_11e9_ba6b_008cfaf719barow0_col3\" class=\"data row0 col3\" >0.204</td>\n",
       "                        <td id=\"T_5f11d192_f3ba_11e9_ba6b_008cfaf719barow0_col4\" class=\"data row0 col4\" >0</td>\n",
       "                        <td id=\"T_5f11d192_f3ba_11e9_ba6b_008cfaf719barow0_col5\" class=\"data row0 col5\" >3541.76</td>\n",
       "            </tr>\n",
       "            <tr>\n",
       "                                <td id=\"T_5f11d192_f3ba_11e9_ba6b_008cfaf719barow1_col0\" class=\"data row1 col0\" >12</td>\n",
       "                        <td id=\"T_5f11d192_f3ba_11e9_ba6b_008cfaf719barow1_col1\" class=\"data row1 col1\" >0.981</td>\n",
       "                        <td id=\"T_5f11d192_f3ba_11e9_ba6b_008cfaf719barow1_col2\" class=\"data row1 col2\" >1</td>\n",
       "                        <td id=\"T_5f11d192_f3ba_11e9_ba6b_008cfaf719barow1_col3\" class=\"data row1 col3\" >0.282</td>\n",
       "                        <td id=\"T_5f11d192_f3ba_11e9_ba6b_008cfaf719barow1_col4\" class=\"data row1 col4\" >0</td>\n",
       "                        <td id=\"T_5f11d192_f3ba_11e9_ba6b_008cfaf719barow1_col5\" class=\"data row1 col5\" >3497.2</td>\n",
       "            </tr>\n",
       "            <tr>\n",
       "                                <td id=\"T_5f11d192_f3ba_11e9_ba6b_008cfaf719barow2_col0\" class=\"data row2 col0\" >24</td>\n",
       "                        <td id=\"T_5f11d192_f3ba_11e9_ba6b_008cfaf719barow2_col1\" class=\"data row2 col1\" >0.953</td>\n",
       "                        <td id=\"T_5f11d192_f3ba_11e9_ba6b_008cfaf719barow2_col2\" class=\"data row2 col2\" >1</td>\n",
       "                        <td id=\"T_5f11d192_f3ba_11e9_ba6b_008cfaf719barow2_col3\" class=\"data row2 col3\" >0.321</td>\n",
       "                        <td id=\"T_5f11d192_f3ba_11e9_ba6b_008cfaf719barow2_col4\" class=\"data row2 col4\" >0</td>\n",
       "                        <td id=\"T_5f11d192_f3ba_11e9_ba6b_008cfaf719barow2_col5\" class=\"data row2 col5\" >3531.11</td>\n",
       "            </tr>\n",
       "            <tr>\n",
       "                                <td id=\"T_5f11d192_f3ba_11e9_ba6b_008cfaf719barow3_col0\" class=\"data row3 col0\" >36</td>\n",
       "                        <td id=\"T_5f11d192_f3ba_11e9_ba6b_008cfaf719barow3_col1\" class=\"data row3 col1\" >0.953</td>\n",
       "                        <td id=\"T_5f11d192_f3ba_11e9_ba6b_008cfaf719barow3_col2\" class=\"data row3 col2\" >1</td>\n",
       "                        <td id=\"T_5f11d192_f3ba_11e9_ba6b_008cfaf719barow3_col3\" class=\"data row3 col3\" >0.297</td>\n",
       "                        <td id=\"T_5f11d192_f3ba_11e9_ba6b_008cfaf719barow3_col4\" class=\"data row3 col4\" >0</td>\n",
       "                        <td id=\"T_5f11d192_f3ba_11e9_ba6b_008cfaf719barow3_col5\" class=\"data row3 col5\" >3538.41</td>\n",
       "            </tr>\n",
       "            <tr>\n",
       "                                <td id=\"T_5f11d192_f3ba_11e9_ba6b_008cfaf719barow4_col0\" class=\"data row4 col0\" >48</td>\n",
       "                        <td id=\"T_5f11d192_f3ba_11e9_ba6b_008cfaf719barow4_col1\" class=\"data row4 col1\" >0.936</td>\n",
       "                        <td id=\"T_5f11d192_f3ba_11e9_ba6b_008cfaf719barow4_col2\" class=\"data row4 col2\" >1</td>\n",
       "                        <td id=\"T_5f11d192_f3ba_11e9_ba6b_008cfaf719barow4_col3\" class=\"data row4 col3\" >0.24</td>\n",
       "                        <td id=\"T_5f11d192_f3ba_11e9_ba6b_008cfaf719barow4_col4\" class=\"data row4 col4\" >0</td>\n",
       "                        <td id=\"T_5f11d192_f3ba_11e9_ba6b_008cfaf719barow4_col5\" class=\"data row4 col5\" >3548.21</td>\n",
       "            </tr>\n",
       "            <tr>\n",
       "                                <td id=\"T_5f11d192_f3ba_11e9_ba6b_008cfaf719barow5_col0\" class=\"data row5 col0\" >60</td>\n",
       "                        <td id=\"T_5f11d192_f3ba_11e9_ba6b_008cfaf719barow5_col1\" class=\"data row5 col1\" >0.922</td>\n",
       "                        <td id=\"T_5f11d192_f3ba_11e9_ba6b_008cfaf719barow5_col2\" class=\"data row5 col2\" >1</td>\n",
       "                        <td id=\"T_5f11d192_f3ba_11e9_ba6b_008cfaf719barow5_col3\" class=\"data row5 col3\" >0.268</td>\n",
       "                        <td id=\"T_5f11d192_f3ba_11e9_ba6b_008cfaf719barow5_col4\" class=\"data row5 col4\" >0</td>\n",
       "                        <td id=\"T_5f11d192_f3ba_11e9_ba6b_008cfaf719barow5_col5\" class=\"data row5 col5\" >3526.75</td>\n",
       "            </tr>\n",
       "            <tr>\n",
       "                                <td id=\"T_5f11d192_f3ba_11e9_ba6b_008cfaf719barow6_col0\" class=\"data row6 col0\" >72</td>\n",
       "                        <td id=\"T_5f11d192_f3ba_11e9_ba6b_008cfaf719barow6_col1\" class=\"data row6 col1\" >0.936</td>\n",
       "                        <td id=\"T_5f11d192_f3ba_11e9_ba6b_008cfaf719barow6_col2\" class=\"data row6 col2\" >1</td>\n",
       "                        <td id=\"T_5f11d192_f3ba_11e9_ba6b_008cfaf719barow6_col3\" class=\"data row6 col3\" >0.27</td>\n",
       "                        <td id=\"T_5f11d192_f3ba_11e9_ba6b_008cfaf719barow6_col4\" class=\"data row6 col4\" >0</td>\n",
       "                        <td id=\"T_5f11d192_f3ba_11e9_ba6b_008cfaf719barow6_col5\" class=\"data row6 col5\" >3514.59</td>\n",
       "            </tr>\n",
       "            <tr>\n",
       "                                <td id=\"T_5f11d192_f3ba_11e9_ba6b_008cfaf719barow7_col0\" class=\"data row7 col0\" >84</td>\n",
       "                        <td id=\"T_5f11d192_f3ba_11e9_ba6b_008cfaf719barow7_col1\" class=\"data row7 col1\" >0.894</td>\n",
       "                        <td id=\"T_5f11d192_f3ba_11e9_ba6b_008cfaf719barow7_col2\" class=\"data row7 col2\" >1</td>\n",
       "                        <td id=\"T_5f11d192_f3ba_11e9_ba6b_008cfaf719barow7_col3\" class=\"data row7 col3\" >0.269</td>\n",
       "                        <td id=\"T_5f11d192_f3ba_11e9_ba6b_008cfaf719barow7_col4\" class=\"data row7 col4\" >0</td>\n",
       "                        <td id=\"T_5f11d192_f3ba_11e9_ba6b_008cfaf719barow7_col5\" class=\"data row7 col5\" >3456.55</td>\n",
       "            </tr>\n",
       "    </tbody></table>"
      ],
      "text/plain": [
       "<pandas.io.formats.style.Styler at 0x2b72eb8b0e80>"
      ]
     },
     "metadata": {},
     "output_type": "display_data"
    },
    {
     "data": {
      "text/html": [
       "<style  type=\"text/css\" >\n",
       "</style><table id=\"T_5f17294e_f3ba_11e9_ba6b_008cfaf719ba\" ><thead>    <tr>        <th class=\"col_heading level0 col0\" >max_angle</th>        <th class=\"col_heading level0 col1\" >pipe_0</th>        <th class=\"col_heading level0 col2\" >pipe_1</th>        <th class=\"col_heading level0 col3\" >pipe_2</th>        <th class=\"col_heading level0 col4\" >pipe_3</th>        <th class=\"col_heading level0 col5\" >pipe_4</th>        <th class=\"col_heading level0 col6\" >pipe_5</th>        <th class=\"col_heading level0 col7\" >pipe_6</th>        <th class=\"col_heading level0 col8\" >pipe_7</th>        <th class=\"col_heading level0 col9\" >pipe_8</th>        <th class=\"col_heading level0 col10\" >pipe_9</th>        <th class=\"col_heading level0 col11\" >pipe_10</th>        <th class=\"col_heading level0 col12\" >pipe_11</th>        <th class=\"col_heading level0 col13\" >pipe_12</th>        <th class=\"col_heading level0 col14\" >pipe_13</th>        <th class=\"col_heading level0 col15\" >pipe_14</th>        <th class=\"col_heading level0 col16\" >pipe_15</th>        <th class=\"col_heading level0 col17\" >pipe_16</th>        <th class=\"col_heading level0 col18\" >pipe_17</th>        <th class=\"col_heading level0 col19\" >pipe_18</th>        <th class=\"col_heading level0 col20\" >pipe_19</th>        <th class=\"col_heading level0 col21\" >pipe_20</th>        <th class=\"col_heading level0 col22\" >pipe_21</th>        <th class=\"col_heading level0 col23\" >pipe_22</th>        <th class=\"col_heading level0 col24\" >pipe_23</th>        <th class=\"col_heading level0 col25\" >pipe_24</th>        <th class=\"col_heading level0 col26\" >pipe_25</th>        <th class=\"col_heading level0 col27\" >pipe_26</th>        <th class=\"col_heading level0 col28\" >pipe_27</th>        <th class=\"col_heading level0 col29\" >pipe_28</th>        <th class=\"col_heading level0 col30\" >pipe_29</th>        <th class=\"col_heading level0 col31\" >pipe_30</th>        <th class=\"col_heading level0 col32\" >pipe_31</th>        <th class=\"col_heading level0 col33\" >pipe_32</th>        <th class=\"col_heading level0 col34\" >pipe_33</th>        <th class=\"col_heading level0 col35\" >pipe_34</th>        <th class=\"col_heading level0 col36\" >pipe_35</th>        <th class=\"col_heading level0 col37\" >pipe_36</th>        <th class=\"col_heading level0 col38\" >pipe_37</th>        <th class=\"col_heading level0 col39\" >pipe_38</th>        <th class=\"col_heading level0 col40\" >pipe_39</th>        <th class=\"col_heading level0 col41\" >pipe_40</th>        <th class=\"col_heading level0 col42\" >pipe_41</th>        <th class=\"col_heading level0 col43\" >pipe_42</th>        <th class=\"col_heading level0 col44\" >pipe_43</th>        <th class=\"col_heading level0 col45\" >pipe_44</th>        <th class=\"col_heading level0 col46\" >pipe_45</th>        <th class=\"col_heading level0 col47\" >pipe_46</th>        <th class=\"col_heading level0 col48\" >pipe_47</th>        <th class=\"col_heading level0 col49\" >pipe_48</th>        <th class=\"col_heading level0 col50\" >pipe_49</th>        <th class=\"col_heading level0 col51\" >pipe_50</th>        <th class=\"col_heading level0 col52\" >pipe_51</th>        <th class=\"col_heading level0 col53\" >pipe_52</th>        <th class=\"col_heading level0 col54\" >pipe_53</th>        <th class=\"col_heading level0 col55\" >pipe_54</th>        <th class=\"col_heading level0 col56\" >pipe_55</th>        <th class=\"col_heading level0 col57\" >pipe_56</th>        <th class=\"col_heading level0 col58\" >pipe_57</th>        <th class=\"col_heading level0 col59\" >pipe_58</th>        <th class=\"col_heading level0 col60\" >pipe_59</th>        <th class=\"col_heading level0 col61\" >pipe_60</th>        <th class=\"col_heading level0 col62\" >pipe_61</th>        <th class=\"col_heading level0 col63\" >pipe_62</th>        <th class=\"col_heading level0 col64\" >pipe_63</th>        <th class=\"col_heading level0 col65\" >pipe_64</th>        <th class=\"col_heading level0 col66\" >pipe_65</th>        <th class=\"col_heading level0 col67\" >pipe_66</th>        <th class=\"col_heading level0 col68\" >pipe_67</th>        <th class=\"col_heading level0 col69\" >pipe_68</th>        <th class=\"col_heading level0 col70\" >pipe_69</th>        <th class=\"col_heading level0 col71\" >pipe_70</th>        <th class=\"col_heading level0 col72\" >pipe_71</th>        <th class=\"col_heading level0 col73\" >pipe_72</th>        <th class=\"col_heading level0 col74\" >pipe_73</th>        <th class=\"col_heading level0 col75\" >pipe_74</th>        <th class=\"col_heading level0 col76\" >pipe_75</th>        <th class=\"col_heading level0 col77\" >pipe_76</th>        <th class=\"col_heading level0 col78\" >pipe_77</th>        <th class=\"col_heading level0 col79\" >pipe_78</th>        <th class=\"col_heading level0 col80\" >pipe_79</th>        <th class=\"col_heading level0 col81\" >pipe_80</th>        <th class=\"col_heading level0 col82\" >pipe_81</th>        <th class=\"col_heading level0 col83\" >pipe_82</th>        <th class=\"col_heading level0 col84\" >pipe_83</th>        <th class=\"col_heading level0 col85\" >pipe_84</th>        <th class=\"col_heading level0 col86\" >pipe_85</th>        <th class=\"col_heading level0 col87\" >pipe_86</th>        <th class=\"col_heading level0 col88\" >pipe_87</th>        <th class=\"col_heading level0 col89\" >pipe_88</th>        <th class=\"col_heading level0 col90\" >pipe_89</th>        <th class=\"col_heading level0 col91\" >pipe_90</th>        <th class=\"col_heading level0 col92\" >pipe_91</th>    </tr></thead><tbody>\n",
       "                <tr>\n",
       "                                <td id=\"T_5f17294e_f3ba_11e9_ba6b_008cfaf719barow0_col0\" class=\"data row0 col0\" >0</td>\n",
       "                        <td id=\"T_5f17294e_f3ba_11e9_ba6b_008cfaf719barow0_col1\" class=\"data row0 col1\" >StackedEnsemble_AllModels_AutoML_20191021_062318</td>\n",
       "                        <td id=\"T_5f17294e_f3ba_11e9_ba6b_008cfaf719barow0_col2\" class=\"data row0 col2\" >DeepLearning_grid_1_AutoML_20191021_062318_model_2</td>\n",
       "                        <td id=\"T_5f17294e_f3ba_11e9_ba6b_008cfaf719barow0_col3\" class=\"data row0 col3\" >DeepLearning_grid_1_AutoML_20191021_062318_model_8</td>\n",
       "                        <td id=\"T_5f17294e_f3ba_11e9_ba6b_008cfaf719barow0_col4\" class=\"data row0 col4\" >GBM_grid_1_AutoML_20191021_062318_model_31</td>\n",
       "                        <td id=\"T_5f17294e_f3ba_11e9_ba6b_008cfaf719barow0_col5\" class=\"data row0 col5\" >DeepLearning_grid_1_AutoML_20191021_062318_model_11</td>\n",
       "                        <td id=\"T_5f17294e_f3ba_11e9_ba6b_008cfaf719barow0_col6\" class=\"data row0 col6\" >GBM_grid_1_AutoML_20191021_062318_model_18</td>\n",
       "                        <td id=\"T_5f17294e_f3ba_11e9_ba6b_008cfaf719barow0_col7\" class=\"data row0 col7\" >DeepLearning_grid_1_AutoML_20191021_062318_model_3</td>\n",
       "                        <td id=\"T_5f17294e_f3ba_11e9_ba6b_008cfaf719barow0_col8\" class=\"data row0 col8\" >GBM_grid_1_AutoML_20191021_062318_model_19</td>\n",
       "                        <td id=\"T_5f17294e_f3ba_11e9_ba6b_008cfaf719barow0_col9\" class=\"data row0 col9\" >DeepLearning_grid_1_AutoML_20191021_062318_model_1</td>\n",
       "                        <td id=\"T_5f17294e_f3ba_11e9_ba6b_008cfaf719barow0_col10\" class=\"data row0 col10\" >DeepLearning_grid_1_AutoML_20191021_062318_model_7</td>\n",
       "                        <td id=\"T_5f17294e_f3ba_11e9_ba6b_008cfaf719barow0_col11\" class=\"data row0 col11\" >DeepLearning_grid_1_AutoML_20191021_062318_model_10</td>\n",
       "                        <td id=\"T_5f17294e_f3ba_11e9_ba6b_008cfaf719barow0_col12\" class=\"data row0 col12\" >XGBoost_grid_1_AutoML_20191021_062318_model_13</td>\n",
       "                        <td id=\"T_5f17294e_f3ba_11e9_ba6b_008cfaf719barow0_col13\" class=\"data row0 col13\" >GBM_grid_1_AutoML_20191021_062318_model_15</td>\n",
       "                        <td id=\"T_5f17294e_f3ba_11e9_ba6b_008cfaf719barow0_col14\" class=\"data row0 col14\" >GBM_2_AutoML_20191021_062318</td>\n",
       "                        <td id=\"T_5f17294e_f3ba_11e9_ba6b_008cfaf719barow0_col15\" class=\"data row0 col15\" >GBM_grid_1_AutoML_20191021_062318_model_3</td>\n",
       "                        <td id=\"T_5f17294e_f3ba_11e9_ba6b_008cfaf719barow0_col16\" class=\"data row0 col16\" >GBM_grid_1_AutoML_20191021_062318_model_32</td>\n",
       "                        <td id=\"T_5f17294e_f3ba_11e9_ba6b_008cfaf719barow0_col17\" class=\"data row0 col17\" >GBM_3_AutoML_20191021_062318</td>\n",
       "                        <td id=\"T_5f17294e_f3ba_11e9_ba6b_008cfaf719barow0_col18\" class=\"data row0 col18\" >GBM_grid_1_AutoML_20191021_062318_model_26</td>\n",
       "                        <td id=\"T_5f17294e_f3ba_11e9_ba6b_008cfaf719barow0_col19\" class=\"data row0 col19\" >GBM_grid_1_AutoML_20191021_062318_model_6</td>\n",
       "                        <td id=\"T_5f17294e_f3ba_11e9_ba6b_008cfaf719barow0_col20\" class=\"data row0 col20\" >GBM_grid_1_AutoML_20191021_062318_model_27</td>\n",
       "                        <td id=\"T_5f17294e_f3ba_11e9_ba6b_008cfaf719barow0_col21\" class=\"data row0 col21\" >GBM_grid_1_AutoML_20191021_062318_model_20</td>\n",
       "                        <td id=\"T_5f17294e_f3ba_11e9_ba6b_008cfaf719barow0_col22\" class=\"data row0 col22\" >GBM_5_AutoML_20191021_062318</td>\n",
       "                        <td id=\"T_5f17294e_f3ba_11e9_ba6b_008cfaf719barow0_col23\" class=\"data row0 col23\" >GBM_grid_1_AutoML_20191021_062318_model_12</td>\n",
       "                        <td id=\"T_5f17294e_f3ba_11e9_ba6b_008cfaf719barow0_col24\" class=\"data row0 col24\" >GBM_4_AutoML_20191021_062318</td>\n",
       "                        <td id=\"T_5f17294e_f3ba_11e9_ba6b_008cfaf719barow0_col25\" class=\"data row0 col25\" >GLM_grid_1_AutoML_20191021_062318_model_1</td>\n",
       "                        <td id=\"T_5f17294e_f3ba_11e9_ba6b_008cfaf719barow0_col26\" class=\"data row0 col26\" >GBM_grid_1_AutoML_20191021_062318_model_17</td>\n",
       "                        <td id=\"T_5f17294e_f3ba_11e9_ba6b_008cfaf719barow0_col27\" class=\"data row0 col27\" >XRT_1_AutoML_20191021_062318</td>\n",
       "                        <td id=\"T_5f17294e_f3ba_11e9_ba6b_008cfaf719barow0_col28\" class=\"data row0 col28\" >GBM_grid_1_AutoML_20191021_062318_model_1</td>\n",
       "                        <td id=\"T_5f17294e_f3ba_11e9_ba6b_008cfaf719barow0_col29\" class=\"data row0 col29\" >GBM_grid_1_AutoML_20191021_062318_model_10</td>\n",
       "                        <td id=\"T_5f17294e_f3ba_11e9_ba6b_008cfaf719barow0_col30\" class=\"data row0 col30\" >XGBoost_grid_1_AutoML_20191021_062318_model_8</td>\n",
       "                        <td id=\"T_5f17294e_f3ba_11e9_ba6b_008cfaf719barow0_col31\" class=\"data row0 col31\" >GBM_1_AutoML_20191021_062318</td>\n",
       "                        <td id=\"T_5f17294e_f3ba_11e9_ba6b_008cfaf719barow0_col32\" class=\"data row0 col32\" >GBM_grid_1_AutoML_20191021_062318_model_14</td>\n",
       "                        <td id=\"T_5f17294e_f3ba_11e9_ba6b_008cfaf719barow0_col33\" class=\"data row0 col33\" >GBM_grid_1_AutoML_20191021_062318_model_11</td>\n",
       "                        <td id=\"T_5f17294e_f3ba_11e9_ba6b_008cfaf719barow0_col34\" class=\"data row0 col34\" >GBM_grid_1_AutoML_20191021_062318_model_16</td>\n",
       "                        <td id=\"T_5f17294e_f3ba_11e9_ba6b_008cfaf719barow0_col35\" class=\"data row0 col35\" >GBM_grid_1_AutoML_20191021_062318_model_24</td>\n",
       "                        <td id=\"T_5f17294e_f3ba_11e9_ba6b_008cfaf719barow0_col36\" class=\"data row0 col36\" >DRF_1_AutoML_20191021_062318</td>\n",
       "                        <td id=\"T_5f17294e_f3ba_11e9_ba6b_008cfaf719barow0_col37\" class=\"data row0 col37\" >XGBoost_grid_1_AutoML_20191021_062318_model_17</td>\n",
       "                        <td id=\"T_5f17294e_f3ba_11e9_ba6b_008cfaf719barow0_col38\" class=\"data row0 col38\" >DeepLearning_grid_1_AutoML_20191021_062318_model_5</td>\n",
       "                        <td id=\"T_5f17294e_f3ba_11e9_ba6b_008cfaf719barow0_col39\" class=\"data row0 col39\" >DeepLearning_grid_1_AutoML_20191021_062318_model_6</td>\n",
       "                        <td id=\"T_5f17294e_f3ba_11e9_ba6b_008cfaf719barow0_col40\" class=\"data row0 col40\" >GBM_grid_1_AutoML_20191021_062318_model_13</td>\n",
       "                        <td id=\"T_5f17294e_f3ba_11e9_ba6b_008cfaf719barow0_col41\" class=\"data row0 col41\" >XGBoost_3_AutoML_20191021_062318</td>\n",
       "                        <td id=\"T_5f17294e_f3ba_11e9_ba6b_008cfaf719barow0_col42\" class=\"data row0 col42\" >XGBoost_grid_1_AutoML_20191021_062318_model_30</td>\n",
       "                        <td id=\"T_5f17294e_f3ba_11e9_ba6b_008cfaf719barow0_col43\" class=\"data row0 col43\" >DeepLearning_grid_1_AutoML_20191021_062318_model_12</td>\n",
       "                        <td id=\"T_5f17294e_f3ba_11e9_ba6b_008cfaf719barow0_col44\" class=\"data row0 col44\" >XGBoost_1_AutoML_20191021_062318</td>\n",
       "                        <td id=\"T_5f17294e_f3ba_11e9_ba6b_008cfaf719barow0_col45\" class=\"data row0 col45\" >XGBoost_grid_1_AutoML_20191021_062318_model_25</td>\n",
       "                        <td id=\"T_5f17294e_f3ba_11e9_ba6b_008cfaf719barow0_col46\" class=\"data row0 col46\" >XGBoost_grid_1_AutoML_20191021_062318_model_21</td>\n",
       "                        <td id=\"T_5f17294e_f3ba_11e9_ba6b_008cfaf719barow0_col47\" class=\"data row0 col47\" >XGBoost_grid_1_AutoML_20191021_062318_model_18</td>\n",
       "                        <td id=\"T_5f17294e_f3ba_11e9_ba6b_008cfaf719barow0_col48\" class=\"data row0 col48\" >DeepLearning_grid_1_AutoML_20191021_062318_model_4</td>\n",
       "                        <td id=\"T_5f17294e_f3ba_11e9_ba6b_008cfaf719barow0_col49\" class=\"data row0 col49\" >XGBoost_grid_1_AutoML_20191021_062318_model_26</td>\n",
       "                        <td id=\"T_5f17294e_f3ba_11e9_ba6b_008cfaf719barow0_col50\" class=\"data row0 col50\" >XGBoost_grid_1_AutoML_20191021_062318_model_15</td>\n",
       "                        <td id=\"T_5f17294e_f3ba_11e9_ba6b_008cfaf719barow0_col51\" class=\"data row0 col51\" >GBM_grid_1_AutoML_20191021_062318_model_8</td>\n",
       "                        <td id=\"T_5f17294e_f3ba_11e9_ba6b_008cfaf719barow0_col52\" class=\"data row0 col52\" >GBM_grid_1_AutoML_20191021_062318_model_9</td>\n",
       "                        <td id=\"T_5f17294e_f3ba_11e9_ba6b_008cfaf719barow0_col53\" class=\"data row0 col53\" >XGBoost_grid_1_AutoML_20191021_062318_model_20</td>\n",
       "                        <td id=\"T_5f17294e_f3ba_11e9_ba6b_008cfaf719barow0_col54\" class=\"data row0 col54\" >XGBoost_grid_1_AutoML_20191021_062318_model_27</td>\n",
       "                        <td id=\"T_5f17294e_f3ba_11e9_ba6b_008cfaf719barow0_col55\" class=\"data row0 col55\" >XGBoost_grid_1_AutoML_20191021_062318_model_4</td>\n",
       "                        <td id=\"T_5f17294e_f3ba_11e9_ba6b_008cfaf719barow0_col56\" class=\"data row0 col56\" >XGBoost_grid_1_AutoML_20191021_062318_model_2</td>\n",
       "                        <td id=\"T_5f17294e_f3ba_11e9_ba6b_008cfaf719barow0_col57\" class=\"data row0 col57\" >GBM_grid_1_AutoML_20191021_062318_model_29</td>\n",
       "                        <td id=\"T_5f17294e_f3ba_11e9_ba6b_008cfaf719barow0_col58\" class=\"data row0 col58\" >XGBoost_grid_1_AutoML_20191021_062318_model_29</td>\n",
       "                        <td id=\"T_5f17294e_f3ba_11e9_ba6b_008cfaf719barow0_col59\" class=\"data row0 col59\" >GBM_grid_1_AutoML_20191021_062318_model_28</td>\n",
       "                        <td id=\"T_5f17294e_f3ba_11e9_ba6b_008cfaf719barow0_col60\" class=\"data row0 col60\" >XGBoost_grid_1_AutoML_20191021_062318_model_28</td>\n",
       "                        <td id=\"T_5f17294e_f3ba_11e9_ba6b_008cfaf719barow0_col61\" class=\"data row0 col61\" >DeepLearning_grid_1_AutoML_20191021_062318_model_9</td>\n",
       "                        <td id=\"T_5f17294e_f3ba_11e9_ba6b_008cfaf719barow0_col62\" class=\"data row0 col62\" >XGBoost_grid_1_AutoML_20191021_062318_model_3</td>\n",
       "                        <td id=\"T_5f17294e_f3ba_11e9_ba6b_008cfaf719barow0_col63\" class=\"data row0 col63\" >XGBoost_grid_1_AutoML_20191021_062318_model_23</td>\n",
       "                        <td id=\"T_5f17294e_f3ba_11e9_ba6b_008cfaf719barow0_col64\" class=\"data row0 col64\" >XGBoost_grid_1_AutoML_20191021_062318_model_7</td>\n",
       "                        <td id=\"T_5f17294e_f3ba_11e9_ba6b_008cfaf719barow0_col65\" class=\"data row0 col65\" >XGBoost_grid_1_AutoML_20191021_062318_model_19</td>\n",
       "                        <td id=\"T_5f17294e_f3ba_11e9_ba6b_008cfaf719barow0_col66\" class=\"data row0 col66\" >GBM_grid_1_AutoML_20191021_062318_model_25</td>\n",
       "                        <td id=\"T_5f17294e_f3ba_11e9_ba6b_008cfaf719barow0_col67\" class=\"data row0 col67\" >GBM_grid_1_AutoML_20191021_062318_model_21</td>\n",
       "                        <td id=\"T_5f17294e_f3ba_11e9_ba6b_008cfaf719barow0_col68\" class=\"data row0 col68\" >XGBoost_2_AutoML_20191021_062318</td>\n",
       "                        <td id=\"T_5f17294e_f3ba_11e9_ba6b_008cfaf719barow0_col69\" class=\"data row0 col69\" >GBM_grid_1_AutoML_20191021_062318_model_30</td>\n",
       "                        <td id=\"T_5f17294e_f3ba_11e9_ba6b_008cfaf719barow0_col70\" class=\"data row0 col70\" >GBM_grid_1_AutoML_20191021_062318_model_7</td>\n",
       "                        <td id=\"T_5f17294e_f3ba_11e9_ba6b_008cfaf719barow0_col71\" class=\"data row0 col71\" >GBM_grid_1_AutoML_20191021_062318_model_23</td>\n",
       "                        <td id=\"T_5f17294e_f3ba_11e9_ba6b_008cfaf719barow0_col72\" class=\"data row0 col72\" >XGBoost_grid_1_AutoML_20191021_062318_model_5</td>\n",
       "                        <td id=\"T_5f17294e_f3ba_11e9_ba6b_008cfaf719barow0_col73\" class=\"data row0 col73\" >XGBoost_grid_1_AutoML_20191021_062318_model_22</td>\n",
       "                        <td id=\"T_5f17294e_f3ba_11e9_ba6b_008cfaf719barow0_col74\" class=\"data row0 col74\" >XGBoost_grid_1_AutoML_20191021_062318_model_12</td>\n",
       "                        <td id=\"T_5f17294e_f3ba_11e9_ba6b_008cfaf719barow0_col75\" class=\"data row0 col75\" >GBM_grid_1_AutoML_20191021_062318_model_5</td>\n",
       "                        <td id=\"T_5f17294e_f3ba_11e9_ba6b_008cfaf719barow0_col76\" class=\"data row0 col76\" >XGBoost_grid_1_AutoML_20191021_062318_model_11</td>\n",
       "                        <td id=\"T_5f17294e_f3ba_11e9_ba6b_008cfaf719barow0_col77\" class=\"data row0 col77\" >XGBoost_grid_1_AutoML_20191021_062318_model_6</td>\n",
       "                        <td id=\"T_5f17294e_f3ba_11e9_ba6b_008cfaf719barow0_col78\" class=\"data row0 col78\" >XGBoost_grid_1_AutoML_20191021_062318_model_1</td>\n",
       "                        <td id=\"T_5f17294e_f3ba_11e9_ba6b_008cfaf719barow0_col79\" class=\"data row0 col79\" >XGBoost_grid_1_AutoML_20191021_062318_model_14</td>\n",
       "                        <td id=\"T_5f17294e_f3ba_11e9_ba6b_008cfaf719barow0_col80\" class=\"data row0 col80\" >XGBoost_grid_1_AutoML_20191021_062318_model_24</td>\n",
       "                        <td id=\"T_5f17294e_f3ba_11e9_ba6b_008cfaf719barow0_col81\" class=\"data row0 col81\" >GBM_grid_1_AutoML_20191021_062318_model_33</td>\n",
       "                        <td id=\"T_5f17294e_f3ba_11e9_ba6b_008cfaf719barow0_col82\" class=\"data row0 col82\" >XGBoost_grid_1_AutoML_20191021_062318_model_10</td>\n",
       "                        <td id=\"T_5f17294e_f3ba_11e9_ba6b_008cfaf719barow0_col83\" class=\"data row0 col83\" >GBM_grid_1_AutoML_20191021_062318_model_4</td>\n",
       "                        <td id=\"T_5f17294e_f3ba_11e9_ba6b_008cfaf719barow0_col84\" class=\"data row0 col84\" >XGBoost_grid_1_AutoML_20191021_062318_model_31</td>\n",
       "                        <td id=\"T_5f17294e_f3ba_11e9_ba6b_008cfaf719barow0_col85\" class=\"data row0 col85\" >XGBoost_grid_1_AutoML_20191021_062318_model_16</td>\n",
       "                        <td id=\"T_5f17294e_f3ba_11e9_ba6b_008cfaf719barow0_col86\" class=\"data row0 col86\" >XGBoost_grid_1_AutoML_20191021_062318_model_9</td>\n",
       "                        <td id=\"T_5f17294e_f3ba_11e9_ba6b_008cfaf719barow0_col87\" class=\"data row0 col87\" >GBM_grid_1_AutoML_20191021_062318_model_34</td>\n",
       "                        <td id=\"T_5f17294e_f3ba_11e9_ba6b_008cfaf719barow0_col88\" class=\"data row0 col88\" >DeepLearning_1_AutoML_20191021_062318</td>\n",
       "                        <td id=\"T_5f17294e_f3ba_11e9_ba6b_008cfaf719barow0_col89\" class=\"data row0 col89\" >GBM_grid_1_AutoML_20191021_062318_model_2</td>\n",
       "                        <td id=\"T_5f17294e_f3ba_11e9_ba6b_008cfaf719barow0_col90\" class=\"data row0 col90\" >XGBoost_grid_1_AutoML_20191021_062318_model_32</td>\n",
       "                        <td id=\"T_5f17294e_f3ba_11e9_ba6b_008cfaf719barow0_col91\" class=\"data row0 col91\" >GBM_grid_1_AutoML_20191021_062318_model_22</td>\n",
       "                        <td id=\"T_5f17294e_f3ba_11e9_ba6b_008cfaf719barow0_col92\" class=\"data row0 col92\" >GBM_grid_1_AutoML_20191021_062318_model_35</td>\n",
       "            </tr>\n",
       "            <tr>\n",
       "                                <td id=\"T_5f17294e_f3ba_11e9_ba6b_008cfaf719barow1_col0\" class=\"data row1 col0\" >12</td>\n",
       "                        <td id=\"T_5f17294e_f3ba_11e9_ba6b_008cfaf719barow1_col1\" class=\"data row1 col1\" >StackedEnsemble_BestOfFamily_AutoML_20191021_062316</td>\n",
       "                        <td id=\"T_5f17294e_f3ba_11e9_ba6b_008cfaf719barow1_col2\" class=\"data row1 col2\" >DeepLearning_grid_1_AutoML_20191021_062316_model_6</td>\n",
       "                        <td id=\"T_5f17294e_f3ba_11e9_ba6b_008cfaf719barow1_col3\" class=\"data row1 col3\" >GBM_3_AutoML_20191021_062316</td>\n",
       "                        <td id=\"T_5f17294e_f3ba_11e9_ba6b_008cfaf719barow1_col4\" class=\"data row1 col4\" >XGBoost_grid_1_AutoML_20191021_062316_model_13</td>\n",
       "                        <td id=\"T_5f17294e_f3ba_11e9_ba6b_008cfaf719barow1_col5\" class=\"data row1 col5\" >GLM_grid_1_AutoML_20191021_062316_model_1</td>\n",
       "                        <td id=\"T_5f17294e_f3ba_11e9_ba6b_008cfaf719barow1_col6\" class=\"data row1 col6\" >DRF_1_AutoML_20191021_062316</td>\n",
       "                        <td id=\"T_5f17294e_f3ba_11e9_ba6b_008cfaf719barow1_col7\" class=\"data row1 col7\" >XRT_1_AutoML_20191021_062316</td>\n",
       "                        <td id=\"T_5f17294e_f3ba_11e9_ba6b_008cfaf719barow1_col8\" class=\"data row1 col8\" >nan</td>\n",
       "                        <td id=\"T_5f17294e_f3ba_11e9_ba6b_008cfaf719barow1_col9\" class=\"data row1 col9\" >nan</td>\n",
       "                        <td id=\"T_5f17294e_f3ba_11e9_ba6b_008cfaf719barow1_col10\" class=\"data row1 col10\" >nan</td>\n",
       "                        <td id=\"T_5f17294e_f3ba_11e9_ba6b_008cfaf719barow1_col11\" class=\"data row1 col11\" >nan</td>\n",
       "                        <td id=\"T_5f17294e_f3ba_11e9_ba6b_008cfaf719barow1_col12\" class=\"data row1 col12\" >nan</td>\n",
       "                        <td id=\"T_5f17294e_f3ba_11e9_ba6b_008cfaf719barow1_col13\" class=\"data row1 col13\" >nan</td>\n",
       "                        <td id=\"T_5f17294e_f3ba_11e9_ba6b_008cfaf719barow1_col14\" class=\"data row1 col14\" >nan</td>\n",
       "                        <td id=\"T_5f17294e_f3ba_11e9_ba6b_008cfaf719barow1_col15\" class=\"data row1 col15\" >nan</td>\n",
       "                        <td id=\"T_5f17294e_f3ba_11e9_ba6b_008cfaf719barow1_col16\" class=\"data row1 col16\" >nan</td>\n",
       "                        <td id=\"T_5f17294e_f3ba_11e9_ba6b_008cfaf719barow1_col17\" class=\"data row1 col17\" >nan</td>\n",
       "                        <td id=\"T_5f17294e_f3ba_11e9_ba6b_008cfaf719barow1_col18\" class=\"data row1 col18\" >nan</td>\n",
       "                        <td id=\"T_5f17294e_f3ba_11e9_ba6b_008cfaf719barow1_col19\" class=\"data row1 col19\" >nan</td>\n",
       "                        <td id=\"T_5f17294e_f3ba_11e9_ba6b_008cfaf719barow1_col20\" class=\"data row1 col20\" >nan</td>\n",
       "                        <td id=\"T_5f17294e_f3ba_11e9_ba6b_008cfaf719barow1_col21\" class=\"data row1 col21\" >nan</td>\n",
       "                        <td id=\"T_5f17294e_f3ba_11e9_ba6b_008cfaf719barow1_col22\" class=\"data row1 col22\" >nan</td>\n",
       "                        <td id=\"T_5f17294e_f3ba_11e9_ba6b_008cfaf719barow1_col23\" class=\"data row1 col23\" >nan</td>\n",
       "                        <td id=\"T_5f17294e_f3ba_11e9_ba6b_008cfaf719barow1_col24\" class=\"data row1 col24\" >nan</td>\n",
       "                        <td id=\"T_5f17294e_f3ba_11e9_ba6b_008cfaf719barow1_col25\" class=\"data row1 col25\" >nan</td>\n",
       "                        <td id=\"T_5f17294e_f3ba_11e9_ba6b_008cfaf719barow1_col26\" class=\"data row1 col26\" >nan</td>\n",
       "                        <td id=\"T_5f17294e_f3ba_11e9_ba6b_008cfaf719barow1_col27\" class=\"data row1 col27\" >nan</td>\n",
       "                        <td id=\"T_5f17294e_f3ba_11e9_ba6b_008cfaf719barow1_col28\" class=\"data row1 col28\" >nan</td>\n",
       "                        <td id=\"T_5f17294e_f3ba_11e9_ba6b_008cfaf719barow1_col29\" class=\"data row1 col29\" >nan</td>\n",
       "                        <td id=\"T_5f17294e_f3ba_11e9_ba6b_008cfaf719barow1_col30\" class=\"data row1 col30\" >nan</td>\n",
       "                        <td id=\"T_5f17294e_f3ba_11e9_ba6b_008cfaf719barow1_col31\" class=\"data row1 col31\" >nan</td>\n",
       "                        <td id=\"T_5f17294e_f3ba_11e9_ba6b_008cfaf719barow1_col32\" class=\"data row1 col32\" >nan</td>\n",
       "                        <td id=\"T_5f17294e_f3ba_11e9_ba6b_008cfaf719barow1_col33\" class=\"data row1 col33\" >nan</td>\n",
       "                        <td id=\"T_5f17294e_f3ba_11e9_ba6b_008cfaf719barow1_col34\" class=\"data row1 col34\" >nan</td>\n",
       "                        <td id=\"T_5f17294e_f3ba_11e9_ba6b_008cfaf719barow1_col35\" class=\"data row1 col35\" >nan</td>\n",
       "                        <td id=\"T_5f17294e_f3ba_11e9_ba6b_008cfaf719barow1_col36\" class=\"data row1 col36\" >nan</td>\n",
       "                        <td id=\"T_5f17294e_f3ba_11e9_ba6b_008cfaf719barow1_col37\" class=\"data row1 col37\" >nan</td>\n",
       "                        <td id=\"T_5f17294e_f3ba_11e9_ba6b_008cfaf719barow1_col38\" class=\"data row1 col38\" >nan</td>\n",
       "                        <td id=\"T_5f17294e_f3ba_11e9_ba6b_008cfaf719barow1_col39\" class=\"data row1 col39\" >nan</td>\n",
       "                        <td id=\"T_5f17294e_f3ba_11e9_ba6b_008cfaf719barow1_col40\" class=\"data row1 col40\" >nan</td>\n",
       "                        <td id=\"T_5f17294e_f3ba_11e9_ba6b_008cfaf719barow1_col41\" class=\"data row1 col41\" >nan</td>\n",
       "                        <td id=\"T_5f17294e_f3ba_11e9_ba6b_008cfaf719barow1_col42\" class=\"data row1 col42\" >nan</td>\n",
       "                        <td id=\"T_5f17294e_f3ba_11e9_ba6b_008cfaf719barow1_col43\" class=\"data row1 col43\" >nan</td>\n",
       "                        <td id=\"T_5f17294e_f3ba_11e9_ba6b_008cfaf719barow1_col44\" class=\"data row1 col44\" >nan</td>\n",
       "                        <td id=\"T_5f17294e_f3ba_11e9_ba6b_008cfaf719barow1_col45\" class=\"data row1 col45\" >nan</td>\n",
       "                        <td id=\"T_5f17294e_f3ba_11e9_ba6b_008cfaf719barow1_col46\" class=\"data row1 col46\" >nan</td>\n",
       "                        <td id=\"T_5f17294e_f3ba_11e9_ba6b_008cfaf719barow1_col47\" class=\"data row1 col47\" >nan</td>\n",
       "                        <td id=\"T_5f17294e_f3ba_11e9_ba6b_008cfaf719barow1_col48\" class=\"data row1 col48\" >nan</td>\n",
       "                        <td id=\"T_5f17294e_f3ba_11e9_ba6b_008cfaf719barow1_col49\" class=\"data row1 col49\" >nan</td>\n",
       "                        <td id=\"T_5f17294e_f3ba_11e9_ba6b_008cfaf719barow1_col50\" class=\"data row1 col50\" >nan</td>\n",
       "                        <td id=\"T_5f17294e_f3ba_11e9_ba6b_008cfaf719barow1_col51\" class=\"data row1 col51\" >nan</td>\n",
       "                        <td id=\"T_5f17294e_f3ba_11e9_ba6b_008cfaf719barow1_col52\" class=\"data row1 col52\" >nan</td>\n",
       "                        <td id=\"T_5f17294e_f3ba_11e9_ba6b_008cfaf719barow1_col53\" class=\"data row1 col53\" >nan</td>\n",
       "                        <td id=\"T_5f17294e_f3ba_11e9_ba6b_008cfaf719barow1_col54\" class=\"data row1 col54\" >nan</td>\n",
       "                        <td id=\"T_5f17294e_f3ba_11e9_ba6b_008cfaf719barow1_col55\" class=\"data row1 col55\" >nan</td>\n",
       "                        <td id=\"T_5f17294e_f3ba_11e9_ba6b_008cfaf719barow1_col56\" class=\"data row1 col56\" >nan</td>\n",
       "                        <td id=\"T_5f17294e_f3ba_11e9_ba6b_008cfaf719barow1_col57\" class=\"data row1 col57\" >nan</td>\n",
       "                        <td id=\"T_5f17294e_f3ba_11e9_ba6b_008cfaf719barow1_col58\" class=\"data row1 col58\" >nan</td>\n",
       "                        <td id=\"T_5f17294e_f3ba_11e9_ba6b_008cfaf719barow1_col59\" class=\"data row1 col59\" >nan</td>\n",
       "                        <td id=\"T_5f17294e_f3ba_11e9_ba6b_008cfaf719barow1_col60\" class=\"data row1 col60\" >nan</td>\n",
       "                        <td id=\"T_5f17294e_f3ba_11e9_ba6b_008cfaf719barow1_col61\" class=\"data row1 col61\" >nan</td>\n",
       "                        <td id=\"T_5f17294e_f3ba_11e9_ba6b_008cfaf719barow1_col62\" class=\"data row1 col62\" >nan</td>\n",
       "                        <td id=\"T_5f17294e_f3ba_11e9_ba6b_008cfaf719barow1_col63\" class=\"data row1 col63\" >nan</td>\n",
       "                        <td id=\"T_5f17294e_f3ba_11e9_ba6b_008cfaf719barow1_col64\" class=\"data row1 col64\" >nan</td>\n",
       "                        <td id=\"T_5f17294e_f3ba_11e9_ba6b_008cfaf719barow1_col65\" class=\"data row1 col65\" >nan</td>\n",
       "                        <td id=\"T_5f17294e_f3ba_11e9_ba6b_008cfaf719barow1_col66\" class=\"data row1 col66\" >nan</td>\n",
       "                        <td id=\"T_5f17294e_f3ba_11e9_ba6b_008cfaf719barow1_col67\" class=\"data row1 col67\" >nan</td>\n",
       "                        <td id=\"T_5f17294e_f3ba_11e9_ba6b_008cfaf719barow1_col68\" class=\"data row1 col68\" >nan</td>\n",
       "                        <td id=\"T_5f17294e_f3ba_11e9_ba6b_008cfaf719barow1_col69\" class=\"data row1 col69\" >nan</td>\n",
       "                        <td id=\"T_5f17294e_f3ba_11e9_ba6b_008cfaf719barow1_col70\" class=\"data row1 col70\" >nan</td>\n",
       "                        <td id=\"T_5f17294e_f3ba_11e9_ba6b_008cfaf719barow1_col71\" class=\"data row1 col71\" >nan</td>\n",
       "                        <td id=\"T_5f17294e_f3ba_11e9_ba6b_008cfaf719barow1_col72\" class=\"data row1 col72\" >nan</td>\n",
       "                        <td id=\"T_5f17294e_f3ba_11e9_ba6b_008cfaf719barow1_col73\" class=\"data row1 col73\" >nan</td>\n",
       "                        <td id=\"T_5f17294e_f3ba_11e9_ba6b_008cfaf719barow1_col74\" class=\"data row1 col74\" >nan</td>\n",
       "                        <td id=\"T_5f17294e_f3ba_11e9_ba6b_008cfaf719barow1_col75\" class=\"data row1 col75\" >nan</td>\n",
       "                        <td id=\"T_5f17294e_f3ba_11e9_ba6b_008cfaf719barow1_col76\" class=\"data row1 col76\" >nan</td>\n",
       "                        <td id=\"T_5f17294e_f3ba_11e9_ba6b_008cfaf719barow1_col77\" class=\"data row1 col77\" >nan</td>\n",
       "                        <td id=\"T_5f17294e_f3ba_11e9_ba6b_008cfaf719barow1_col78\" class=\"data row1 col78\" >nan</td>\n",
       "                        <td id=\"T_5f17294e_f3ba_11e9_ba6b_008cfaf719barow1_col79\" class=\"data row1 col79\" >nan</td>\n",
       "                        <td id=\"T_5f17294e_f3ba_11e9_ba6b_008cfaf719barow1_col80\" class=\"data row1 col80\" >nan</td>\n",
       "                        <td id=\"T_5f17294e_f3ba_11e9_ba6b_008cfaf719barow1_col81\" class=\"data row1 col81\" >nan</td>\n",
       "                        <td id=\"T_5f17294e_f3ba_11e9_ba6b_008cfaf719barow1_col82\" class=\"data row1 col82\" >nan</td>\n",
       "                        <td id=\"T_5f17294e_f3ba_11e9_ba6b_008cfaf719barow1_col83\" class=\"data row1 col83\" >nan</td>\n",
       "                        <td id=\"T_5f17294e_f3ba_11e9_ba6b_008cfaf719barow1_col84\" class=\"data row1 col84\" >nan</td>\n",
       "                        <td id=\"T_5f17294e_f3ba_11e9_ba6b_008cfaf719barow1_col85\" class=\"data row1 col85\" >nan</td>\n",
       "                        <td id=\"T_5f17294e_f3ba_11e9_ba6b_008cfaf719barow1_col86\" class=\"data row1 col86\" >nan</td>\n",
       "                        <td id=\"T_5f17294e_f3ba_11e9_ba6b_008cfaf719barow1_col87\" class=\"data row1 col87\" >nan</td>\n",
       "                        <td id=\"T_5f17294e_f3ba_11e9_ba6b_008cfaf719barow1_col88\" class=\"data row1 col88\" >nan</td>\n",
       "                        <td id=\"T_5f17294e_f3ba_11e9_ba6b_008cfaf719barow1_col89\" class=\"data row1 col89\" >nan</td>\n",
       "                        <td id=\"T_5f17294e_f3ba_11e9_ba6b_008cfaf719barow1_col90\" class=\"data row1 col90\" >nan</td>\n",
       "                        <td id=\"T_5f17294e_f3ba_11e9_ba6b_008cfaf719barow1_col91\" class=\"data row1 col91\" >nan</td>\n",
       "                        <td id=\"T_5f17294e_f3ba_11e9_ba6b_008cfaf719barow1_col92\" class=\"data row1 col92\" >nan</td>\n",
       "            </tr>\n",
       "            <tr>\n",
       "                                <td id=\"T_5f17294e_f3ba_11e9_ba6b_008cfaf719barow2_col0\" class=\"data row2 col0\" >24</td>\n",
       "                        <td id=\"T_5f17294e_f3ba_11e9_ba6b_008cfaf719barow2_col1\" class=\"data row2 col1\" >StackedEnsemble_BestOfFamily_AutoML_20191021_062317</td>\n",
       "                        <td id=\"T_5f17294e_f3ba_11e9_ba6b_008cfaf719barow2_col2\" class=\"data row2 col2\" >GBM_grid_1_AutoML_20191021_062317_model_15</td>\n",
       "                        <td id=\"T_5f17294e_f3ba_11e9_ba6b_008cfaf719barow2_col3\" class=\"data row2 col3\" >DeepLearning_grid_1_AutoML_20191021_062317_model_2</td>\n",
       "                        <td id=\"T_5f17294e_f3ba_11e9_ba6b_008cfaf719barow2_col4\" class=\"data row2 col4\" >XRT_1_AutoML_20191021_062317</td>\n",
       "                        <td id=\"T_5f17294e_f3ba_11e9_ba6b_008cfaf719barow2_col5\" class=\"data row2 col5\" >XGBoost_grid_1_AutoML_20191021_062317_model_13</td>\n",
       "                        <td id=\"T_5f17294e_f3ba_11e9_ba6b_008cfaf719barow2_col6\" class=\"data row2 col6\" >DRF_1_AutoML_20191021_062317</td>\n",
       "                        <td id=\"T_5f17294e_f3ba_11e9_ba6b_008cfaf719barow2_col7\" class=\"data row2 col7\" >GLM_grid_1_AutoML_20191021_062317_model_1</td>\n",
       "                        <td id=\"T_5f17294e_f3ba_11e9_ba6b_008cfaf719barow2_col8\" class=\"data row2 col8\" >nan</td>\n",
       "                        <td id=\"T_5f17294e_f3ba_11e9_ba6b_008cfaf719barow2_col9\" class=\"data row2 col9\" >nan</td>\n",
       "                        <td id=\"T_5f17294e_f3ba_11e9_ba6b_008cfaf719barow2_col10\" class=\"data row2 col10\" >nan</td>\n",
       "                        <td id=\"T_5f17294e_f3ba_11e9_ba6b_008cfaf719barow2_col11\" class=\"data row2 col11\" >nan</td>\n",
       "                        <td id=\"T_5f17294e_f3ba_11e9_ba6b_008cfaf719barow2_col12\" class=\"data row2 col12\" >nan</td>\n",
       "                        <td id=\"T_5f17294e_f3ba_11e9_ba6b_008cfaf719barow2_col13\" class=\"data row2 col13\" >nan</td>\n",
       "                        <td id=\"T_5f17294e_f3ba_11e9_ba6b_008cfaf719barow2_col14\" class=\"data row2 col14\" >nan</td>\n",
       "                        <td id=\"T_5f17294e_f3ba_11e9_ba6b_008cfaf719barow2_col15\" class=\"data row2 col15\" >nan</td>\n",
       "                        <td id=\"T_5f17294e_f3ba_11e9_ba6b_008cfaf719barow2_col16\" class=\"data row2 col16\" >nan</td>\n",
       "                        <td id=\"T_5f17294e_f3ba_11e9_ba6b_008cfaf719barow2_col17\" class=\"data row2 col17\" >nan</td>\n",
       "                        <td id=\"T_5f17294e_f3ba_11e9_ba6b_008cfaf719barow2_col18\" class=\"data row2 col18\" >nan</td>\n",
       "                        <td id=\"T_5f17294e_f3ba_11e9_ba6b_008cfaf719barow2_col19\" class=\"data row2 col19\" >nan</td>\n",
       "                        <td id=\"T_5f17294e_f3ba_11e9_ba6b_008cfaf719barow2_col20\" class=\"data row2 col20\" >nan</td>\n",
       "                        <td id=\"T_5f17294e_f3ba_11e9_ba6b_008cfaf719barow2_col21\" class=\"data row2 col21\" >nan</td>\n",
       "                        <td id=\"T_5f17294e_f3ba_11e9_ba6b_008cfaf719barow2_col22\" class=\"data row2 col22\" >nan</td>\n",
       "                        <td id=\"T_5f17294e_f3ba_11e9_ba6b_008cfaf719barow2_col23\" class=\"data row2 col23\" >nan</td>\n",
       "                        <td id=\"T_5f17294e_f3ba_11e9_ba6b_008cfaf719barow2_col24\" class=\"data row2 col24\" >nan</td>\n",
       "                        <td id=\"T_5f17294e_f3ba_11e9_ba6b_008cfaf719barow2_col25\" class=\"data row2 col25\" >nan</td>\n",
       "                        <td id=\"T_5f17294e_f3ba_11e9_ba6b_008cfaf719barow2_col26\" class=\"data row2 col26\" >nan</td>\n",
       "                        <td id=\"T_5f17294e_f3ba_11e9_ba6b_008cfaf719barow2_col27\" class=\"data row2 col27\" >nan</td>\n",
       "                        <td id=\"T_5f17294e_f3ba_11e9_ba6b_008cfaf719barow2_col28\" class=\"data row2 col28\" >nan</td>\n",
       "                        <td id=\"T_5f17294e_f3ba_11e9_ba6b_008cfaf719barow2_col29\" class=\"data row2 col29\" >nan</td>\n",
       "                        <td id=\"T_5f17294e_f3ba_11e9_ba6b_008cfaf719barow2_col30\" class=\"data row2 col30\" >nan</td>\n",
       "                        <td id=\"T_5f17294e_f3ba_11e9_ba6b_008cfaf719barow2_col31\" class=\"data row2 col31\" >nan</td>\n",
       "                        <td id=\"T_5f17294e_f3ba_11e9_ba6b_008cfaf719barow2_col32\" class=\"data row2 col32\" >nan</td>\n",
       "                        <td id=\"T_5f17294e_f3ba_11e9_ba6b_008cfaf719barow2_col33\" class=\"data row2 col33\" >nan</td>\n",
       "                        <td id=\"T_5f17294e_f3ba_11e9_ba6b_008cfaf719barow2_col34\" class=\"data row2 col34\" >nan</td>\n",
       "                        <td id=\"T_5f17294e_f3ba_11e9_ba6b_008cfaf719barow2_col35\" class=\"data row2 col35\" >nan</td>\n",
       "                        <td id=\"T_5f17294e_f3ba_11e9_ba6b_008cfaf719barow2_col36\" class=\"data row2 col36\" >nan</td>\n",
       "                        <td id=\"T_5f17294e_f3ba_11e9_ba6b_008cfaf719barow2_col37\" class=\"data row2 col37\" >nan</td>\n",
       "                        <td id=\"T_5f17294e_f3ba_11e9_ba6b_008cfaf719barow2_col38\" class=\"data row2 col38\" >nan</td>\n",
       "                        <td id=\"T_5f17294e_f3ba_11e9_ba6b_008cfaf719barow2_col39\" class=\"data row2 col39\" >nan</td>\n",
       "                        <td id=\"T_5f17294e_f3ba_11e9_ba6b_008cfaf719barow2_col40\" class=\"data row2 col40\" >nan</td>\n",
       "                        <td id=\"T_5f17294e_f3ba_11e9_ba6b_008cfaf719barow2_col41\" class=\"data row2 col41\" >nan</td>\n",
       "                        <td id=\"T_5f17294e_f3ba_11e9_ba6b_008cfaf719barow2_col42\" class=\"data row2 col42\" >nan</td>\n",
       "                        <td id=\"T_5f17294e_f3ba_11e9_ba6b_008cfaf719barow2_col43\" class=\"data row2 col43\" >nan</td>\n",
       "                        <td id=\"T_5f17294e_f3ba_11e9_ba6b_008cfaf719barow2_col44\" class=\"data row2 col44\" >nan</td>\n",
       "                        <td id=\"T_5f17294e_f3ba_11e9_ba6b_008cfaf719barow2_col45\" class=\"data row2 col45\" >nan</td>\n",
       "                        <td id=\"T_5f17294e_f3ba_11e9_ba6b_008cfaf719barow2_col46\" class=\"data row2 col46\" >nan</td>\n",
       "                        <td id=\"T_5f17294e_f3ba_11e9_ba6b_008cfaf719barow2_col47\" class=\"data row2 col47\" >nan</td>\n",
       "                        <td id=\"T_5f17294e_f3ba_11e9_ba6b_008cfaf719barow2_col48\" class=\"data row2 col48\" >nan</td>\n",
       "                        <td id=\"T_5f17294e_f3ba_11e9_ba6b_008cfaf719barow2_col49\" class=\"data row2 col49\" >nan</td>\n",
       "                        <td id=\"T_5f17294e_f3ba_11e9_ba6b_008cfaf719barow2_col50\" class=\"data row2 col50\" >nan</td>\n",
       "                        <td id=\"T_5f17294e_f3ba_11e9_ba6b_008cfaf719barow2_col51\" class=\"data row2 col51\" >nan</td>\n",
       "                        <td id=\"T_5f17294e_f3ba_11e9_ba6b_008cfaf719barow2_col52\" class=\"data row2 col52\" >nan</td>\n",
       "                        <td id=\"T_5f17294e_f3ba_11e9_ba6b_008cfaf719barow2_col53\" class=\"data row2 col53\" >nan</td>\n",
       "                        <td id=\"T_5f17294e_f3ba_11e9_ba6b_008cfaf719barow2_col54\" class=\"data row2 col54\" >nan</td>\n",
       "                        <td id=\"T_5f17294e_f3ba_11e9_ba6b_008cfaf719barow2_col55\" class=\"data row2 col55\" >nan</td>\n",
       "                        <td id=\"T_5f17294e_f3ba_11e9_ba6b_008cfaf719barow2_col56\" class=\"data row2 col56\" >nan</td>\n",
       "                        <td id=\"T_5f17294e_f3ba_11e9_ba6b_008cfaf719barow2_col57\" class=\"data row2 col57\" >nan</td>\n",
       "                        <td id=\"T_5f17294e_f3ba_11e9_ba6b_008cfaf719barow2_col58\" class=\"data row2 col58\" >nan</td>\n",
       "                        <td id=\"T_5f17294e_f3ba_11e9_ba6b_008cfaf719barow2_col59\" class=\"data row2 col59\" >nan</td>\n",
       "                        <td id=\"T_5f17294e_f3ba_11e9_ba6b_008cfaf719barow2_col60\" class=\"data row2 col60\" >nan</td>\n",
       "                        <td id=\"T_5f17294e_f3ba_11e9_ba6b_008cfaf719barow2_col61\" class=\"data row2 col61\" >nan</td>\n",
       "                        <td id=\"T_5f17294e_f3ba_11e9_ba6b_008cfaf719barow2_col62\" class=\"data row2 col62\" >nan</td>\n",
       "                        <td id=\"T_5f17294e_f3ba_11e9_ba6b_008cfaf719barow2_col63\" class=\"data row2 col63\" >nan</td>\n",
       "                        <td id=\"T_5f17294e_f3ba_11e9_ba6b_008cfaf719barow2_col64\" class=\"data row2 col64\" >nan</td>\n",
       "                        <td id=\"T_5f17294e_f3ba_11e9_ba6b_008cfaf719barow2_col65\" class=\"data row2 col65\" >nan</td>\n",
       "                        <td id=\"T_5f17294e_f3ba_11e9_ba6b_008cfaf719barow2_col66\" class=\"data row2 col66\" >nan</td>\n",
       "                        <td id=\"T_5f17294e_f3ba_11e9_ba6b_008cfaf719barow2_col67\" class=\"data row2 col67\" >nan</td>\n",
       "                        <td id=\"T_5f17294e_f3ba_11e9_ba6b_008cfaf719barow2_col68\" class=\"data row2 col68\" >nan</td>\n",
       "                        <td id=\"T_5f17294e_f3ba_11e9_ba6b_008cfaf719barow2_col69\" class=\"data row2 col69\" >nan</td>\n",
       "                        <td id=\"T_5f17294e_f3ba_11e9_ba6b_008cfaf719barow2_col70\" class=\"data row2 col70\" >nan</td>\n",
       "                        <td id=\"T_5f17294e_f3ba_11e9_ba6b_008cfaf719barow2_col71\" class=\"data row2 col71\" >nan</td>\n",
       "                        <td id=\"T_5f17294e_f3ba_11e9_ba6b_008cfaf719barow2_col72\" class=\"data row2 col72\" >nan</td>\n",
       "                        <td id=\"T_5f17294e_f3ba_11e9_ba6b_008cfaf719barow2_col73\" class=\"data row2 col73\" >nan</td>\n",
       "                        <td id=\"T_5f17294e_f3ba_11e9_ba6b_008cfaf719barow2_col74\" class=\"data row2 col74\" >nan</td>\n",
       "                        <td id=\"T_5f17294e_f3ba_11e9_ba6b_008cfaf719barow2_col75\" class=\"data row2 col75\" >nan</td>\n",
       "                        <td id=\"T_5f17294e_f3ba_11e9_ba6b_008cfaf719barow2_col76\" class=\"data row2 col76\" >nan</td>\n",
       "                        <td id=\"T_5f17294e_f3ba_11e9_ba6b_008cfaf719barow2_col77\" class=\"data row2 col77\" >nan</td>\n",
       "                        <td id=\"T_5f17294e_f3ba_11e9_ba6b_008cfaf719barow2_col78\" class=\"data row2 col78\" >nan</td>\n",
       "                        <td id=\"T_5f17294e_f3ba_11e9_ba6b_008cfaf719barow2_col79\" class=\"data row2 col79\" >nan</td>\n",
       "                        <td id=\"T_5f17294e_f3ba_11e9_ba6b_008cfaf719barow2_col80\" class=\"data row2 col80\" >nan</td>\n",
       "                        <td id=\"T_5f17294e_f3ba_11e9_ba6b_008cfaf719barow2_col81\" class=\"data row2 col81\" >nan</td>\n",
       "                        <td id=\"T_5f17294e_f3ba_11e9_ba6b_008cfaf719barow2_col82\" class=\"data row2 col82\" >nan</td>\n",
       "                        <td id=\"T_5f17294e_f3ba_11e9_ba6b_008cfaf719barow2_col83\" class=\"data row2 col83\" >nan</td>\n",
       "                        <td id=\"T_5f17294e_f3ba_11e9_ba6b_008cfaf719barow2_col84\" class=\"data row2 col84\" >nan</td>\n",
       "                        <td id=\"T_5f17294e_f3ba_11e9_ba6b_008cfaf719barow2_col85\" class=\"data row2 col85\" >nan</td>\n",
       "                        <td id=\"T_5f17294e_f3ba_11e9_ba6b_008cfaf719barow2_col86\" class=\"data row2 col86\" >nan</td>\n",
       "                        <td id=\"T_5f17294e_f3ba_11e9_ba6b_008cfaf719barow2_col87\" class=\"data row2 col87\" >nan</td>\n",
       "                        <td id=\"T_5f17294e_f3ba_11e9_ba6b_008cfaf719barow2_col88\" class=\"data row2 col88\" >nan</td>\n",
       "                        <td id=\"T_5f17294e_f3ba_11e9_ba6b_008cfaf719barow2_col89\" class=\"data row2 col89\" >nan</td>\n",
       "                        <td id=\"T_5f17294e_f3ba_11e9_ba6b_008cfaf719barow2_col90\" class=\"data row2 col90\" >nan</td>\n",
       "                        <td id=\"T_5f17294e_f3ba_11e9_ba6b_008cfaf719barow2_col91\" class=\"data row2 col91\" >nan</td>\n",
       "                        <td id=\"T_5f17294e_f3ba_11e9_ba6b_008cfaf719barow2_col92\" class=\"data row2 col92\" >nan</td>\n",
       "            </tr>\n",
       "            <tr>\n",
       "                                <td id=\"T_5f17294e_f3ba_11e9_ba6b_008cfaf719barow3_col0\" class=\"data row3 col0\" >36</td>\n",
       "                        <td id=\"T_5f17294e_f3ba_11e9_ba6b_008cfaf719barow3_col1\" class=\"data row3 col1\" >StackedEnsemble_AllModels_AutoML_20191021_062317</td>\n",
       "                        <td id=\"T_5f17294e_f3ba_11e9_ba6b_008cfaf719barow3_col2\" class=\"data row3 col2\" >GBM_grid_1_AutoML_20191021_062317_model_20</td>\n",
       "                        <td id=\"T_5f17294e_f3ba_11e9_ba6b_008cfaf719barow3_col3\" class=\"data row3 col3\" >GBM_grid_1_AutoML_20191021_062317_model_19</td>\n",
       "                        <td id=\"T_5f17294e_f3ba_11e9_ba6b_008cfaf719barow3_col4\" class=\"data row3 col4\" >DeepLearning_grid_1_AutoML_20191021_062317_model_8</td>\n",
       "                        <td id=\"T_5f17294e_f3ba_11e9_ba6b_008cfaf719barow3_col5\" class=\"data row3 col5\" >DeepLearning_grid_1_AutoML_20191021_062317_model_11</td>\n",
       "                        <td id=\"T_5f17294e_f3ba_11e9_ba6b_008cfaf719barow3_col6\" class=\"data row3 col6\" >GBM_grid_1_AutoML_20191021_062317_model_15</td>\n",
       "                        <td id=\"T_5f17294e_f3ba_11e9_ba6b_008cfaf719barow3_col7\" class=\"data row3 col7\" >DeepLearning_grid_1_AutoML_20191021_062317_model_2</td>\n",
       "                        <td id=\"T_5f17294e_f3ba_11e9_ba6b_008cfaf719barow3_col8\" class=\"data row3 col8\" >GBM_grid_1_AutoML_20191021_062317_model_18</td>\n",
       "                        <td id=\"T_5f17294e_f3ba_11e9_ba6b_008cfaf719barow3_col9\" class=\"data row3 col9\" >GBM_grid_1_AutoML_20191021_062317_model_12</td>\n",
       "                        <td id=\"T_5f17294e_f3ba_11e9_ba6b_008cfaf719barow3_col10\" class=\"data row3 col10\" >DeepLearning_grid_1_AutoML_20191021_062317_model_3</td>\n",
       "                        <td id=\"T_5f17294e_f3ba_11e9_ba6b_008cfaf719barow3_col11\" class=\"data row3 col11\" >GBM_3_AutoML_20191021_062317</td>\n",
       "                        <td id=\"T_5f17294e_f3ba_11e9_ba6b_008cfaf719barow3_col12\" class=\"data row3 col12\" >GBM_4_AutoML_20191021_062317</td>\n",
       "                        <td id=\"T_5f17294e_f3ba_11e9_ba6b_008cfaf719barow3_col13\" class=\"data row3 col13\" >GBM_2_AutoML_20191021_062317</td>\n",
       "                        <td id=\"T_5f17294e_f3ba_11e9_ba6b_008cfaf719barow3_col14\" class=\"data row3 col14\" >XGBoost_grid_1_AutoML_20191021_062317_model_13</td>\n",
       "                        <td id=\"T_5f17294e_f3ba_11e9_ba6b_008cfaf719barow3_col15\" class=\"data row3 col15\" >GBM_grid_1_AutoML_20191021_062317_model_11</td>\n",
       "                        <td id=\"T_5f17294e_f3ba_11e9_ba6b_008cfaf719barow3_col16\" class=\"data row3 col16\" >GBM_grid_1_AutoML_20191021_062317_model_1</td>\n",
       "                        <td id=\"T_5f17294e_f3ba_11e9_ba6b_008cfaf719barow3_col17\" class=\"data row3 col17\" >GBM_1_AutoML_20191021_062317</td>\n",
       "                        <td id=\"T_5f17294e_f3ba_11e9_ba6b_008cfaf719barow3_col18\" class=\"data row3 col18\" >GBM_5_AutoML_20191021_062317</td>\n",
       "                        <td id=\"T_5f17294e_f3ba_11e9_ba6b_008cfaf719barow3_col19\" class=\"data row3 col19\" >GBM_grid_1_AutoML_20191021_062317_model_17</td>\n",
       "                        <td id=\"T_5f17294e_f3ba_11e9_ba6b_008cfaf719barow3_col20\" class=\"data row3 col20\" >GBM_grid_1_AutoML_20191021_062317_model_14</td>\n",
       "                        <td id=\"T_5f17294e_f3ba_11e9_ba6b_008cfaf719barow3_col21\" class=\"data row3 col21\" >DeepLearning_grid_1_AutoML_20191021_062317_model_4</td>\n",
       "                        <td id=\"T_5f17294e_f3ba_11e9_ba6b_008cfaf719barow3_col22\" class=\"data row3 col22\" >GBM_grid_1_AutoML_20191021_062317_model_10</td>\n",
       "                        <td id=\"T_5f17294e_f3ba_11e9_ba6b_008cfaf719barow3_col23\" class=\"data row3 col23\" >GBM_grid_1_AutoML_20191021_062317_model_16</td>\n",
       "                        <td id=\"T_5f17294e_f3ba_11e9_ba6b_008cfaf719barow3_col24\" class=\"data row3 col24\" >GBM_grid_1_AutoML_20191021_062317_model_3</td>\n",
       "                        <td id=\"T_5f17294e_f3ba_11e9_ba6b_008cfaf719barow3_col25\" class=\"data row3 col25\" >XGBoost_grid_1_AutoML_20191021_062317_model_17</td>\n",
       "                        <td id=\"T_5f17294e_f3ba_11e9_ba6b_008cfaf719barow3_col26\" class=\"data row3 col26\" >GBM_grid_1_AutoML_20191021_062317_model_6</td>\n",
       "                        <td id=\"T_5f17294e_f3ba_11e9_ba6b_008cfaf719barow3_col27\" class=\"data row3 col27\" >GBM_grid_1_AutoML_20191021_062317_model_8</td>\n",
       "                        <td id=\"T_5f17294e_f3ba_11e9_ba6b_008cfaf719barow3_col28\" class=\"data row3 col28\" >GBM_grid_1_AutoML_20191021_062317_model_26</td>\n",
       "                        <td id=\"T_5f17294e_f3ba_11e9_ba6b_008cfaf719barow3_col29\" class=\"data row3 col29\" >DRF_1_AutoML_20191021_062317</td>\n",
       "                        <td id=\"T_5f17294e_f3ba_11e9_ba6b_008cfaf719barow3_col30\" class=\"data row3 col30\" >XGBoost_1_AutoML_20191021_062317</td>\n",
       "                        <td id=\"T_5f17294e_f3ba_11e9_ba6b_008cfaf719barow3_col31\" class=\"data row3 col31\" >XRT_1_AutoML_20191021_062317</td>\n",
       "                        <td id=\"T_5f17294e_f3ba_11e9_ba6b_008cfaf719barow3_col32\" class=\"data row3 col32\" >XGBoost_3_AutoML_20191021_062317</td>\n",
       "                        <td id=\"T_5f17294e_f3ba_11e9_ba6b_008cfaf719barow3_col33\" class=\"data row3 col33\" >DeepLearning_grid_1_AutoML_20191021_062317_model_7</td>\n",
       "                        <td id=\"T_5f17294e_f3ba_11e9_ba6b_008cfaf719barow3_col34\" class=\"data row3 col34\" >GBM_grid_1_AutoML_20191021_062317_model_13</td>\n",
       "                        <td id=\"T_5f17294e_f3ba_11e9_ba6b_008cfaf719barow3_col35\" class=\"data row3 col35\" >DeepLearning_grid_1_AutoML_20191021_062317_model_5</td>\n",
       "                        <td id=\"T_5f17294e_f3ba_11e9_ba6b_008cfaf719barow3_col36\" class=\"data row3 col36\" >XGBoost_grid_1_AutoML_20191021_062317_model_2</td>\n",
       "                        <td id=\"T_5f17294e_f3ba_11e9_ba6b_008cfaf719barow3_col37\" class=\"data row3 col37\" >GBM_grid_1_AutoML_20191021_062317_model_24</td>\n",
       "                        <td id=\"T_5f17294e_f3ba_11e9_ba6b_008cfaf719barow3_col38\" class=\"data row3 col38\" >DeepLearning_grid_1_AutoML_20191021_062317_model_10</td>\n",
       "                        <td id=\"T_5f17294e_f3ba_11e9_ba6b_008cfaf719barow3_col39\" class=\"data row3 col39\" >XGBoost_grid_1_AutoML_20191021_062317_model_18</td>\n",
       "                        <td id=\"T_5f17294e_f3ba_11e9_ba6b_008cfaf719barow3_col40\" class=\"data row3 col40\" >XGBoost_grid_1_AutoML_20191021_062317_model_8</td>\n",
       "                        <td id=\"T_5f17294e_f3ba_11e9_ba6b_008cfaf719barow3_col41\" class=\"data row3 col41\" >XGBoost_grid_1_AutoML_20191021_062317_model_15</td>\n",
       "                        <td id=\"T_5f17294e_f3ba_11e9_ba6b_008cfaf719barow3_col42\" class=\"data row3 col42\" >GBM_grid_1_AutoML_20191021_062317_model_9</td>\n",
       "                        <td id=\"T_5f17294e_f3ba_11e9_ba6b_008cfaf719barow3_col43\" class=\"data row3 col43\" >XGBoost_grid_1_AutoML_20191021_062317_model_4</td>\n",
       "                        <td id=\"T_5f17294e_f3ba_11e9_ba6b_008cfaf719barow3_col44\" class=\"data row3 col44\" >DeepLearning_grid_1_AutoML_20191021_062317_model_1</td>\n",
       "                        <td id=\"T_5f17294e_f3ba_11e9_ba6b_008cfaf719barow3_col45\" class=\"data row3 col45\" >XGBoost_2_AutoML_20191021_062317</td>\n",
       "                        <td id=\"T_5f17294e_f3ba_11e9_ba6b_008cfaf719barow3_col46\" class=\"data row3 col46\" >GBM_grid_1_AutoML_20191021_062317_model_27</td>\n",
       "                        <td id=\"T_5f17294e_f3ba_11e9_ba6b_008cfaf719barow3_col47\" class=\"data row3 col47\" >XGBoost_grid_1_AutoML_20191021_062317_model_3</td>\n",
       "                        <td id=\"T_5f17294e_f3ba_11e9_ba6b_008cfaf719barow3_col48\" class=\"data row3 col48\" >XGBoost_grid_1_AutoML_20191021_062317_model_20</td>\n",
       "                        <td id=\"T_5f17294e_f3ba_11e9_ba6b_008cfaf719barow3_col49\" class=\"data row3 col49\" >XGBoost_grid_1_AutoML_20191021_062317_model_7</td>\n",
       "                        <td id=\"T_5f17294e_f3ba_11e9_ba6b_008cfaf719barow3_col50\" class=\"data row3 col50\" >XGBoost_grid_1_AutoML_20191021_062317_model_19</td>\n",
       "                        <td id=\"T_5f17294e_f3ba_11e9_ba6b_008cfaf719barow3_col51\" class=\"data row3 col51\" >GBM_grid_1_AutoML_20191021_062317_model_21</td>\n",
       "                        <td id=\"T_5f17294e_f3ba_11e9_ba6b_008cfaf719barow3_col52\" class=\"data row3 col52\" >XGBoost_grid_1_AutoML_20191021_062317_model_21</td>\n",
       "                        <td id=\"T_5f17294e_f3ba_11e9_ba6b_008cfaf719barow3_col53\" class=\"data row3 col53\" >DeepLearning_grid_1_AutoML_20191021_062317_model_6</td>\n",
       "                        <td id=\"T_5f17294e_f3ba_11e9_ba6b_008cfaf719barow3_col54\" class=\"data row3 col54\" >XGBoost_grid_1_AutoML_20191021_062317_model_1</td>\n",
       "                        <td id=\"T_5f17294e_f3ba_11e9_ba6b_008cfaf719barow3_col55\" class=\"data row3 col55\" >GBM_grid_1_AutoML_20191021_062317_model_7</td>\n",
       "                        <td id=\"T_5f17294e_f3ba_11e9_ba6b_008cfaf719barow3_col56\" class=\"data row3 col56\" >DeepLearning_grid_1_AutoML_20191021_062317_model_9</td>\n",
       "                        <td id=\"T_5f17294e_f3ba_11e9_ba6b_008cfaf719barow3_col57\" class=\"data row3 col57\" >XGBoost_grid_1_AutoML_20191021_062317_model_5</td>\n",
       "                        <td id=\"T_5f17294e_f3ba_11e9_ba6b_008cfaf719barow3_col58\" class=\"data row3 col58\" >DeepLearning_grid_1_AutoML_20191021_062317_model_12</td>\n",
       "                        <td id=\"T_5f17294e_f3ba_11e9_ba6b_008cfaf719barow3_col59\" class=\"data row3 col59\" >GBM_grid_1_AutoML_20191021_062317_model_23</td>\n",
       "                        <td id=\"T_5f17294e_f3ba_11e9_ba6b_008cfaf719barow3_col60\" class=\"data row3 col60\" >GLM_grid_1_AutoML_20191021_062317_model_1</td>\n",
       "                        <td id=\"T_5f17294e_f3ba_11e9_ba6b_008cfaf719barow3_col61\" class=\"data row3 col61\" >XGBoost_grid_1_AutoML_20191021_062317_model_12</td>\n",
       "                        <td id=\"T_5f17294e_f3ba_11e9_ba6b_008cfaf719barow3_col62\" class=\"data row3 col62\" >GBM_grid_1_AutoML_20191021_062317_model_4</td>\n",
       "                        <td id=\"T_5f17294e_f3ba_11e9_ba6b_008cfaf719barow3_col63\" class=\"data row3 col63\" >GBM_grid_1_AutoML_20191021_062317_model_25</td>\n",
       "                        <td id=\"T_5f17294e_f3ba_11e9_ba6b_008cfaf719barow3_col64\" class=\"data row3 col64\" >XGBoost_grid_1_AutoML_20191021_062317_model_14</td>\n",
       "                        <td id=\"T_5f17294e_f3ba_11e9_ba6b_008cfaf719barow3_col65\" class=\"data row3 col65\" >XGBoost_grid_1_AutoML_20191021_062317_model_10</td>\n",
       "                        <td id=\"T_5f17294e_f3ba_11e9_ba6b_008cfaf719barow3_col66\" class=\"data row3 col66\" >XGBoost_grid_1_AutoML_20191021_062317_model_6</td>\n",
       "                        <td id=\"T_5f17294e_f3ba_11e9_ba6b_008cfaf719barow3_col67\" class=\"data row3 col67\" >GBM_grid_1_AutoML_20191021_062317_model_28</td>\n",
       "                        <td id=\"T_5f17294e_f3ba_11e9_ba6b_008cfaf719barow3_col68\" class=\"data row3 col68\" >XGBoost_grid_1_AutoML_20191021_062317_model_11</td>\n",
       "                        <td id=\"T_5f17294e_f3ba_11e9_ba6b_008cfaf719barow3_col69\" class=\"data row3 col69\" >XGBoost_grid_1_AutoML_20191021_062317_model_16</td>\n",
       "                        <td id=\"T_5f17294e_f3ba_11e9_ba6b_008cfaf719barow3_col70\" class=\"data row3 col70\" >GBM_grid_1_AutoML_20191021_062317_model_29</td>\n",
       "                        <td id=\"T_5f17294e_f3ba_11e9_ba6b_008cfaf719barow3_col71\" class=\"data row3 col71\" >XGBoost_grid_1_AutoML_20191021_062317_model_22</td>\n",
       "                        <td id=\"T_5f17294e_f3ba_11e9_ba6b_008cfaf719barow3_col72\" class=\"data row3 col72\" >XGBoost_grid_1_AutoML_20191021_062317_model_9</td>\n",
       "                        <td id=\"T_5f17294e_f3ba_11e9_ba6b_008cfaf719barow3_col73\" class=\"data row3 col73\" >GBM_grid_1_AutoML_20191021_062317_model_2</td>\n",
       "                        <td id=\"T_5f17294e_f3ba_11e9_ba6b_008cfaf719barow3_col74\" class=\"data row3 col74\" >DeepLearning_1_AutoML_20191021_062317</td>\n",
       "                        <td id=\"T_5f17294e_f3ba_11e9_ba6b_008cfaf719barow3_col75\" class=\"data row3 col75\" >GBM_grid_1_AutoML_20191021_062317_model_22</td>\n",
       "                        <td id=\"T_5f17294e_f3ba_11e9_ba6b_008cfaf719barow3_col76\" class=\"data row3 col76\" >GBM_grid_1_AutoML_20191021_062317_model_5</td>\n",
       "                        <td id=\"T_5f17294e_f3ba_11e9_ba6b_008cfaf719barow3_col77\" class=\"data row3 col77\" >GBM_grid_1_AutoML_20191021_062317_model_30</td>\n",
       "                        <td id=\"T_5f17294e_f3ba_11e9_ba6b_008cfaf719barow3_col78\" class=\"data row3 col78\" >nan</td>\n",
       "                        <td id=\"T_5f17294e_f3ba_11e9_ba6b_008cfaf719barow3_col79\" class=\"data row3 col79\" >nan</td>\n",
       "                        <td id=\"T_5f17294e_f3ba_11e9_ba6b_008cfaf719barow3_col80\" class=\"data row3 col80\" >nan</td>\n",
       "                        <td id=\"T_5f17294e_f3ba_11e9_ba6b_008cfaf719barow3_col81\" class=\"data row3 col81\" >nan</td>\n",
       "                        <td id=\"T_5f17294e_f3ba_11e9_ba6b_008cfaf719barow3_col82\" class=\"data row3 col82\" >nan</td>\n",
       "                        <td id=\"T_5f17294e_f3ba_11e9_ba6b_008cfaf719barow3_col83\" class=\"data row3 col83\" >nan</td>\n",
       "                        <td id=\"T_5f17294e_f3ba_11e9_ba6b_008cfaf719barow3_col84\" class=\"data row3 col84\" >nan</td>\n",
       "                        <td id=\"T_5f17294e_f3ba_11e9_ba6b_008cfaf719barow3_col85\" class=\"data row3 col85\" >nan</td>\n",
       "                        <td id=\"T_5f17294e_f3ba_11e9_ba6b_008cfaf719barow3_col86\" class=\"data row3 col86\" >nan</td>\n",
       "                        <td id=\"T_5f17294e_f3ba_11e9_ba6b_008cfaf719barow3_col87\" class=\"data row3 col87\" >nan</td>\n",
       "                        <td id=\"T_5f17294e_f3ba_11e9_ba6b_008cfaf719barow3_col88\" class=\"data row3 col88\" >nan</td>\n",
       "                        <td id=\"T_5f17294e_f3ba_11e9_ba6b_008cfaf719barow3_col89\" class=\"data row3 col89\" >nan</td>\n",
       "                        <td id=\"T_5f17294e_f3ba_11e9_ba6b_008cfaf719barow3_col90\" class=\"data row3 col90\" >nan</td>\n",
       "                        <td id=\"T_5f17294e_f3ba_11e9_ba6b_008cfaf719barow3_col91\" class=\"data row3 col91\" >nan</td>\n",
       "                        <td id=\"T_5f17294e_f3ba_11e9_ba6b_008cfaf719barow3_col92\" class=\"data row3 col92\" >nan</td>\n",
       "            </tr>\n",
       "            <tr>\n",
       "                                <td id=\"T_5f17294e_f3ba_11e9_ba6b_008cfaf719barow4_col0\" class=\"data row4 col0\" >48</td>\n",
       "                        <td id=\"T_5f17294e_f3ba_11e9_ba6b_008cfaf719barow4_col1\" class=\"data row4 col1\" >StackedEnsemble_AllModels_AutoML_20191021_062317</td>\n",
       "                        <td id=\"T_5f17294e_f3ba_11e9_ba6b_008cfaf719barow4_col2\" class=\"data row4 col2\" >DeepLearning_grid_1_AutoML_20191021_062317_model_8</td>\n",
       "                        <td id=\"T_5f17294e_f3ba_11e9_ba6b_008cfaf719barow4_col3\" class=\"data row4 col3\" >DeepLearning_grid_1_AutoML_20191021_062317_model_2</td>\n",
       "                        <td id=\"T_5f17294e_f3ba_11e9_ba6b_008cfaf719barow4_col4\" class=\"data row4 col4\" >GBM_grid_1_AutoML_20191021_062317_model_15</td>\n",
       "                        <td id=\"T_5f17294e_f3ba_11e9_ba6b_008cfaf719barow4_col5\" class=\"data row4 col5\" >DeepLearning_grid_1_AutoML_20191021_062317_model_11</td>\n",
       "                        <td id=\"T_5f17294e_f3ba_11e9_ba6b_008cfaf719barow4_col6\" class=\"data row4 col6\" >DeepLearning_grid_1_AutoML_20191021_062317_model_3</td>\n",
       "                        <td id=\"T_5f17294e_f3ba_11e9_ba6b_008cfaf719barow4_col7\" class=\"data row4 col7\" >GBM_grid_1_AutoML_20191021_062317_model_18</td>\n",
       "                        <td id=\"T_5f17294e_f3ba_11e9_ba6b_008cfaf719barow4_col8\" class=\"data row4 col8\" >GBM_grid_1_AutoML_20191021_062317_model_20</td>\n",
       "                        <td id=\"T_5f17294e_f3ba_11e9_ba6b_008cfaf719barow4_col9\" class=\"data row4 col9\" >GBM_2_AutoML_20191021_062317</td>\n",
       "                        <td id=\"T_5f17294e_f3ba_11e9_ba6b_008cfaf719barow4_col10\" class=\"data row4 col10\" >GBM_grid_1_AutoML_20191021_062317_model_19</td>\n",
       "                        <td id=\"T_5f17294e_f3ba_11e9_ba6b_008cfaf719barow4_col11\" class=\"data row4 col11\" >GBM_grid_1_AutoML_20191021_062317_model_12</td>\n",
       "                        <td id=\"T_5f17294e_f3ba_11e9_ba6b_008cfaf719barow4_col12\" class=\"data row4 col12\" >GBM_4_AutoML_20191021_062317</td>\n",
       "                        <td id=\"T_5f17294e_f3ba_11e9_ba6b_008cfaf719barow4_col13\" class=\"data row4 col13\" >XRT_1_AutoML_20191021_062317</td>\n",
       "                        <td id=\"T_5f17294e_f3ba_11e9_ba6b_008cfaf719barow4_col14\" class=\"data row4 col14\" >GBM_grid_1_AutoML_20191021_062317_model_3</td>\n",
       "                        <td id=\"T_5f17294e_f3ba_11e9_ba6b_008cfaf719barow4_col15\" class=\"data row4 col15\" >GBM_grid_1_AutoML_20191021_062317_model_11</td>\n",
       "                        <td id=\"T_5f17294e_f3ba_11e9_ba6b_008cfaf719barow4_col16\" class=\"data row4 col16\" >GBM_grid_1_AutoML_20191021_062317_model_14</td>\n",
       "                        <td id=\"T_5f17294e_f3ba_11e9_ba6b_008cfaf719barow4_col17\" class=\"data row4 col17\" >GBM_3_AutoML_20191021_062317</td>\n",
       "                        <td id=\"T_5f17294e_f3ba_11e9_ba6b_008cfaf719barow4_col18\" class=\"data row4 col18\" >GBM_grid_1_AutoML_20191021_062317_model_6</td>\n",
       "                        <td id=\"T_5f17294e_f3ba_11e9_ba6b_008cfaf719barow4_col19\" class=\"data row4 col19\" >DRF_1_AutoML_20191021_062317</td>\n",
       "                        <td id=\"T_5f17294e_f3ba_11e9_ba6b_008cfaf719barow4_col20\" class=\"data row4 col20\" >XGBoost_grid_1_AutoML_20191021_062317_model_13</td>\n",
       "                        <td id=\"T_5f17294e_f3ba_11e9_ba6b_008cfaf719barow4_col21\" class=\"data row4 col21\" >GBM_grid_1_AutoML_20191021_062317_model_26</td>\n",
       "                        <td id=\"T_5f17294e_f3ba_11e9_ba6b_008cfaf719barow4_col22\" class=\"data row4 col22\" >GBM_5_AutoML_20191021_062317</td>\n",
       "                        <td id=\"T_5f17294e_f3ba_11e9_ba6b_008cfaf719barow4_col23\" class=\"data row4 col23\" >XGBoost_grid_1_AutoML_20191021_062317_model_17</td>\n",
       "                        <td id=\"T_5f17294e_f3ba_11e9_ba6b_008cfaf719barow4_col24\" class=\"data row4 col24\" >GBM_1_AutoML_20191021_062317</td>\n",
       "                        <td id=\"T_5f17294e_f3ba_11e9_ba6b_008cfaf719barow4_col25\" class=\"data row4 col25\" >XGBoost_1_AutoML_20191021_062317</td>\n",
       "                        <td id=\"T_5f17294e_f3ba_11e9_ba6b_008cfaf719barow4_col26\" class=\"data row4 col26\" >DeepLearning_grid_1_AutoML_20191021_062317_model_7</td>\n",
       "                        <td id=\"T_5f17294e_f3ba_11e9_ba6b_008cfaf719barow4_col27\" class=\"data row4 col27\" >GBM_grid_1_AutoML_20191021_062317_model_17</td>\n",
       "                        <td id=\"T_5f17294e_f3ba_11e9_ba6b_008cfaf719barow4_col28\" class=\"data row4 col28\" >GBM_grid_1_AutoML_20191021_062317_model_8</td>\n",
       "                        <td id=\"T_5f17294e_f3ba_11e9_ba6b_008cfaf719barow4_col29\" class=\"data row4 col29\" >XGBoost_grid_1_AutoML_20191021_062317_model_8</td>\n",
       "                        <td id=\"T_5f17294e_f3ba_11e9_ba6b_008cfaf719barow4_col30\" class=\"data row4 col30\" >XGBoost_grid_1_AutoML_20191021_062317_model_2</td>\n",
       "                        <td id=\"T_5f17294e_f3ba_11e9_ba6b_008cfaf719barow4_col31\" class=\"data row4 col31\" >GBM_grid_1_AutoML_20191021_062317_model_13</td>\n",
       "                        <td id=\"T_5f17294e_f3ba_11e9_ba6b_008cfaf719barow4_col32\" class=\"data row4 col32\" >GBM_grid_1_AutoML_20191021_062317_model_10</td>\n",
       "                        <td id=\"T_5f17294e_f3ba_11e9_ba6b_008cfaf719barow4_col33\" class=\"data row4 col33\" >XGBoost_grid_1_AutoML_20191021_062317_model_4</td>\n",
       "                        <td id=\"T_5f17294e_f3ba_11e9_ba6b_008cfaf719barow4_col34\" class=\"data row4 col34\" >XGBoost_3_AutoML_20191021_062317</td>\n",
       "                        <td id=\"T_5f17294e_f3ba_11e9_ba6b_008cfaf719barow4_col35\" class=\"data row4 col35\" >XGBoost_grid_1_AutoML_20191021_062317_model_18</td>\n",
       "                        <td id=\"T_5f17294e_f3ba_11e9_ba6b_008cfaf719barow4_col36\" class=\"data row4 col36\" >DeepLearning_grid_1_AutoML_20191021_062317_model_4</td>\n",
       "                        <td id=\"T_5f17294e_f3ba_11e9_ba6b_008cfaf719barow4_col37\" class=\"data row4 col37\" >DeepLearning_grid_1_AutoML_20191021_062317_model_1</td>\n",
       "                        <td id=\"T_5f17294e_f3ba_11e9_ba6b_008cfaf719barow4_col38\" class=\"data row4 col38\" >GBM_grid_1_AutoML_20191021_062317_model_27</td>\n",
       "                        <td id=\"T_5f17294e_f3ba_11e9_ba6b_008cfaf719barow4_col39\" class=\"data row4 col39\" >XGBoost_grid_1_AutoML_20191021_062317_model_15</td>\n",
       "                        <td id=\"T_5f17294e_f3ba_11e9_ba6b_008cfaf719barow4_col40\" class=\"data row4 col40\" >XGBoost_grid_1_AutoML_20191021_062317_model_21</td>\n",
       "                        <td id=\"T_5f17294e_f3ba_11e9_ba6b_008cfaf719barow4_col41\" class=\"data row4 col41\" >DeepLearning_grid_1_AutoML_20191021_062317_model_5</td>\n",
       "                        <td id=\"T_5f17294e_f3ba_11e9_ba6b_008cfaf719barow4_col42\" class=\"data row4 col42\" >GBM_grid_1_AutoML_20191021_062317_model_1</td>\n",
       "                        <td id=\"T_5f17294e_f3ba_11e9_ba6b_008cfaf719barow4_col43\" class=\"data row4 col43\" >XGBoost_grid_1_AutoML_20191021_062317_model_20</td>\n",
       "                        <td id=\"T_5f17294e_f3ba_11e9_ba6b_008cfaf719barow4_col44\" class=\"data row4 col44\" >DeepLearning_grid_1_AutoML_20191021_062317_model_10</td>\n",
       "                        <td id=\"T_5f17294e_f3ba_11e9_ba6b_008cfaf719barow4_col45\" class=\"data row4 col45\" >XGBoost_grid_1_AutoML_20191021_062317_model_19</td>\n",
       "                        <td id=\"T_5f17294e_f3ba_11e9_ba6b_008cfaf719barow4_col46\" class=\"data row4 col46\" >XGBoost_2_AutoML_20191021_062317</td>\n",
       "                        <td id=\"T_5f17294e_f3ba_11e9_ba6b_008cfaf719barow4_col47\" class=\"data row4 col47\" >GBM_grid_1_AutoML_20191021_062317_model_9</td>\n",
       "                        <td id=\"T_5f17294e_f3ba_11e9_ba6b_008cfaf719barow4_col48\" class=\"data row4 col48\" >GBM_grid_1_AutoML_20191021_062317_model_16</td>\n",
       "                        <td id=\"T_5f17294e_f3ba_11e9_ba6b_008cfaf719barow4_col49\" class=\"data row4 col49\" >GBM_grid_1_AutoML_20191021_062317_model_24</td>\n",
       "                        <td id=\"T_5f17294e_f3ba_11e9_ba6b_008cfaf719barow4_col50\" class=\"data row4 col50\" >DeepLearning_grid_1_AutoML_20191021_062317_model_6</td>\n",
       "                        <td id=\"T_5f17294e_f3ba_11e9_ba6b_008cfaf719barow4_col51\" class=\"data row4 col51\" >GBM_grid_1_AutoML_20191021_062317_model_21</td>\n",
       "                        <td id=\"T_5f17294e_f3ba_11e9_ba6b_008cfaf719barow4_col52\" class=\"data row4 col52\" >XGBoost_grid_1_AutoML_20191021_062317_model_7</td>\n",
       "                        <td id=\"T_5f17294e_f3ba_11e9_ba6b_008cfaf719barow4_col53\" class=\"data row4 col53\" >XGBoost_grid_1_AutoML_20191021_062317_model_3</td>\n",
       "                        <td id=\"T_5f17294e_f3ba_11e9_ba6b_008cfaf719barow4_col54\" class=\"data row4 col54\" >XGBoost_grid_1_AutoML_20191021_062317_model_1</td>\n",
       "                        <td id=\"T_5f17294e_f3ba_11e9_ba6b_008cfaf719barow4_col55\" class=\"data row4 col55\" >GBM_grid_1_AutoML_20191021_062317_model_7</td>\n",
       "                        <td id=\"T_5f17294e_f3ba_11e9_ba6b_008cfaf719barow4_col56\" class=\"data row4 col56\" >DeepLearning_grid_1_AutoML_20191021_062317_model_12</td>\n",
       "                        <td id=\"T_5f17294e_f3ba_11e9_ba6b_008cfaf719barow4_col57\" class=\"data row4 col57\" >GLM_grid_1_AutoML_20191021_062317_model_1</td>\n",
       "                        <td id=\"T_5f17294e_f3ba_11e9_ba6b_008cfaf719barow4_col58\" class=\"data row4 col58\" >XGBoost_grid_1_AutoML_20191021_062317_model_5</td>\n",
       "                        <td id=\"T_5f17294e_f3ba_11e9_ba6b_008cfaf719barow4_col59\" class=\"data row4 col59\" >XGBoost_grid_1_AutoML_20191021_062317_model_12</td>\n",
       "                        <td id=\"T_5f17294e_f3ba_11e9_ba6b_008cfaf719barow4_col60\" class=\"data row4 col60\" >XGBoost_grid_1_AutoML_20191021_062317_model_10</td>\n",
       "                        <td id=\"T_5f17294e_f3ba_11e9_ba6b_008cfaf719barow4_col61\" class=\"data row4 col61\" >GBM_grid_1_AutoML_20191021_062317_model_23</td>\n",
       "                        <td id=\"T_5f17294e_f3ba_11e9_ba6b_008cfaf719barow4_col62\" class=\"data row4 col62\" >GBM_grid_1_AutoML_20191021_062317_model_25</td>\n",
       "                        <td id=\"T_5f17294e_f3ba_11e9_ba6b_008cfaf719barow4_col63\" class=\"data row4 col63\" >XGBoost_grid_1_AutoML_20191021_062317_model_14</td>\n",
       "                        <td id=\"T_5f17294e_f3ba_11e9_ba6b_008cfaf719barow4_col64\" class=\"data row4 col64\" >XGBoost_grid_1_AutoML_20191021_062317_model_11</td>\n",
       "                        <td id=\"T_5f17294e_f3ba_11e9_ba6b_008cfaf719barow4_col65\" class=\"data row4 col65\" >DeepLearning_grid_1_AutoML_20191021_062317_model_9</td>\n",
       "                        <td id=\"T_5f17294e_f3ba_11e9_ba6b_008cfaf719barow4_col66\" class=\"data row4 col66\" >GBM_grid_1_AutoML_20191021_062317_model_4</td>\n",
       "                        <td id=\"T_5f17294e_f3ba_11e9_ba6b_008cfaf719barow4_col67\" class=\"data row4 col67\" >XGBoost_grid_1_AutoML_20191021_062317_model_6</td>\n",
       "                        <td id=\"T_5f17294e_f3ba_11e9_ba6b_008cfaf719barow4_col68\" class=\"data row4 col68\" >XGBoost_grid_1_AutoML_20191021_062317_model_22</td>\n",
       "                        <td id=\"T_5f17294e_f3ba_11e9_ba6b_008cfaf719barow4_col69\" class=\"data row4 col69\" >XGBoost_grid_1_AutoML_20191021_062317_model_16</td>\n",
       "                        <td id=\"T_5f17294e_f3ba_11e9_ba6b_008cfaf719barow4_col70\" class=\"data row4 col70\" >XGBoost_grid_1_AutoML_20191021_062317_model_23</td>\n",
       "                        <td id=\"T_5f17294e_f3ba_11e9_ba6b_008cfaf719barow4_col71\" class=\"data row4 col71\" >XGBoost_grid_1_AutoML_20191021_062317_model_9</td>\n",
       "                        <td id=\"T_5f17294e_f3ba_11e9_ba6b_008cfaf719barow4_col72\" class=\"data row4 col72\" >GBM_grid_1_AutoML_20191021_062317_model_28</td>\n",
       "                        <td id=\"T_5f17294e_f3ba_11e9_ba6b_008cfaf719barow4_col73\" class=\"data row4 col73\" >GBM_grid_1_AutoML_20191021_062317_model_2</td>\n",
       "                        <td id=\"T_5f17294e_f3ba_11e9_ba6b_008cfaf719barow4_col74\" class=\"data row4 col74\" >GBM_grid_1_AutoML_20191021_062317_model_22</td>\n",
       "                        <td id=\"T_5f17294e_f3ba_11e9_ba6b_008cfaf719barow4_col75\" class=\"data row4 col75\" >GBM_grid_1_AutoML_20191021_062317_model_5</td>\n",
       "                        <td id=\"T_5f17294e_f3ba_11e9_ba6b_008cfaf719barow4_col76\" class=\"data row4 col76\" >DeepLearning_1_AutoML_20191021_062317</td>\n",
       "                        <td id=\"T_5f17294e_f3ba_11e9_ba6b_008cfaf719barow4_col77\" class=\"data row4 col77\" >nan</td>\n",
       "                        <td id=\"T_5f17294e_f3ba_11e9_ba6b_008cfaf719barow4_col78\" class=\"data row4 col78\" >nan</td>\n",
       "                        <td id=\"T_5f17294e_f3ba_11e9_ba6b_008cfaf719barow4_col79\" class=\"data row4 col79\" >nan</td>\n",
       "                        <td id=\"T_5f17294e_f3ba_11e9_ba6b_008cfaf719barow4_col80\" class=\"data row4 col80\" >nan</td>\n",
       "                        <td id=\"T_5f17294e_f3ba_11e9_ba6b_008cfaf719barow4_col81\" class=\"data row4 col81\" >nan</td>\n",
       "                        <td id=\"T_5f17294e_f3ba_11e9_ba6b_008cfaf719barow4_col82\" class=\"data row4 col82\" >nan</td>\n",
       "                        <td id=\"T_5f17294e_f3ba_11e9_ba6b_008cfaf719barow4_col83\" class=\"data row4 col83\" >nan</td>\n",
       "                        <td id=\"T_5f17294e_f3ba_11e9_ba6b_008cfaf719barow4_col84\" class=\"data row4 col84\" >nan</td>\n",
       "                        <td id=\"T_5f17294e_f3ba_11e9_ba6b_008cfaf719barow4_col85\" class=\"data row4 col85\" >nan</td>\n",
       "                        <td id=\"T_5f17294e_f3ba_11e9_ba6b_008cfaf719barow4_col86\" class=\"data row4 col86\" >nan</td>\n",
       "                        <td id=\"T_5f17294e_f3ba_11e9_ba6b_008cfaf719barow4_col87\" class=\"data row4 col87\" >nan</td>\n",
       "                        <td id=\"T_5f17294e_f3ba_11e9_ba6b_008cfaf719barow4_col88\" class=\"data row4 col88\" >nan</td>\n",
       "                        <td id=\"T_5f17294e_f3ba_11e9_ba6b_008cfaf719barow4_col89\" class=\"data row4 col89\" >nan</td>\n",
       "                        <td id=\"T_5f17294e_f3ba_11e9_ba6b_008cfaf719barow4_col90\" class=\"data row4 col90\" >nan</td>\n",
       "                        <td id=\"T_5f17294e_f3ba_11e9_ba6b_008cfaf719barow4_col91\" class=\"data row4 col91\" >nan</td>\n",
       "                        <td id=\"T_5f17294e_f3ba_11e9_ba6b_008cfaf719barow4_col92\" class=\"data row4 col92\" >nan</td>\n",
       "            </tr>\n",
       "            <tr>\n",
       "                                <td id=\"T_5f17294e_f3ba_11e9_ba6b_008cfaf719barow5_col0\" class=\"data row5 col0\" >60</td>\n",
       "                        <td id=\"T_5f17294e_f3ba_11e9_ba6b_008cfaf719barow5_col1\" class=\"data row5 col1\" >StackedEnsemble_BestOfFamily_AutoML_20191021_062317</td>\n",
       "                        <td id=\"T_5f17294e_f3ba_11e9_ba6b_008cfaf719barow5_col2\" class=\"data row5 col2\" >DeepLearning_grid_1_AutoML_20191021_062317_model_6</td>\n",
       "                        <td id=\"T_5f17294e_f3ba_11e9_ba6b_008cfaf719barow5_col3\" class=\"data row5 col3\" >GBM_grid_1_AutoML_20191021_062317_model_19</td>\n",
       "                        <td id=\"T_5f17294e_f3ba_11e9_ba6b_008cfaf719barow5_col4\" class=\"data row5 col4\" >XGBoost_1_AutoML_20191021_062317</td>\n",
       "                        <td id=\"T_5f17294e_f3ba_11e9_ba6b_008cfaf719barow5_col5\" class=\"data row5 col5\" >DRF_1_AutoML_20191021_062317</td>\n",
       "                        <td id=\"T_5f17294e_f3ba_11e9_ba6b_008cfaf719barow5_col6\" class=\"data row5 col6\" >XRT_1_AutoML_20191021_062317</td>\n",
       "                        <td id=\"T_5f17294e_f3ba_11e9_ba6b_008cfaf719barow5_col7\" class=\"data row5 col7\" >GLM_grid_1_AutoML_20191021_062317_model_1</td>\n",
       "                        <td id=\"T_5f17294e_f3ba_11e9_ba6b_008cfaf719barow5_col8\" class=\"data row5 col8\" >nan</td>\n",
       "                        <td id=\"T_5f17294e_f3ba_11e9_ba6b_008cfaf719barow5_col9\" class=\"data row5 col9\" >nan</td>\n",
       "                        <td id=\"T_5f17294e_f3ba_11e9_ba6b_008cfaf719barow5_col10\" class=\"data row5 col10\" >nan</td>\n",
       "                        <td id=\"T_5f17294e_f3ba_11e9_ba6b_008cfaf719barow5_col11\" class=\"data row5 col11\" >nan</td>\n",
       "                        <td id=\"T_5f17294e_f3ba_11e9_ba6b_008cfaf719barow5_col12\" class=\"data row5 col12\" >nan</td>\n",
       "                        <td id=\"T_5f17294e_f3ba_11e9_ba6b_008cfaf719barow5_col13\" class=\"data row5 col13\" >nan</td>\n",
       "                        <td id=\"T_5f17294e_f3ba_11e9_ba6b_008cfaf719barow5_col14\" class=\"data row5 col14\" >nan</td>\n",
       "                        <td id=\"T_5f17294e_f3ba_11e9_ba6b_008cfaf719barow5_col15\" class=\"data row5 col15\" >nan</td>\n",
       "                        <td id=\"T_5f17294e_f3ba_11e9_ba6b_008cfaf719barow5_col16\" class=\"data row5 col16\" >nan</td>\n",
       "                        <td id=\"T_5f17294e_f3ba_11e9_ba6b_008cfaf719barow5_col17\" class=\"data row5 col17\" >nan</td>\n",
       "                        <td id=\"T_5f17294e_f3ba_11e9_ba6b_008cfaf719barow5_col18\" class=\"data row5 col18\" >nan</td>\n",
       "                        <td id=\"T_5f17294e_f3ba_11e9_ba6b_008cfaf719barow5_col19\" class=\"data row5 col19\" >nan</td>\n",
       "                        <td id=\"T_5f17294e_f3ba_11e9_ba6b_008cfaf719barow5_col20\" class=\"data row5 col20\" >nan</td>\n",
       "                        <td id=\"T_5f17294e_f3ba_11e9_ba6b_008cfaf719barow5_col21\" class=\"data row5 col21\" >nan</td>\n",
       "                        <td id=\"T_5f17294e_f3ba_11e9_ba6b_008cfaf719barow5_col22\" class=\"data row5 col22\" >nan</td>\n",
       "                        <td id=\"T_5f17294e_f3ba_11e9_ba6b_008cfaf719barow5_col23\" class=\"data row5 col23\" >nan</td>\n",
       "                        <td id=\"T_5f17294e_f3ba_11e9_ba6b_008cfaf719barow5_col24\" class=\"data row5 col24\" >nan</td>\n",
       "                        <td id=\"T_5f17294e_f3ba_11e9_ba6b_008cfaf719barow5_col25\" class=\"data row5 col25\" >nan</td>\n",
       "                        <td id=\"T_5f17294e_f3ba_11e9_ba6b_008cfaf719barow5_col26\" class=\"data row5 col26\" >nan</td>\n",
       "                        <td id=\"T_5f17294e_f3ba_11e9_ba6b_008cfaf719barow5_col27\" class=\"data row5 col27\" >nan</td>\n",
       "                        <td id=\"T_5f17294e_f3ba_11e9_ba6b_008cfaf719barow5_col28\" class=\"data row5 col28\" >nan</td>\n",
       "                        <td id=\"T_5f17294e_f3ba_11e9_ba6b_008cfaf719barow5_col29\" class=\"data row5 col29\" >nan</td>\n",
       "                        <td id=\"T_5f17294e_f3ba_11e9_ba6b_008cfaf719barow5_col30\" class=\"data row5 col30\" >nan</td>\n",
       "                        <td id=\"T_5f17294e_f3ba_11e9_ba6b_008cfaf719barow5_col31\" class=\"data row5 col31\" >nan</td>\n",
       "                        <td id=\"T_5f17294e_f3ba_11e9_ba6b_008cfaf719barow5_col32\" class=\"data row5 col32\" >nan</td>\n",
       "                        <td id=\"T_5f17294e_f3ba_11e9_ba6b_008cfaf719barow5_col33\" class=\"data row5 col33\" >nan</td>\n",
       "                        <td id=\"T_5f17294e_f3ba_11e9_ba6b_008cfaf719barow5_col34\" class=\"data row5 col34\" >nan</td>\n",
       "                        <td id=\"T_5f17294e_f3ba_11e9_ba6b_008cfaf719barow5_col35\" class=\"data row5 col35\" >nan</td>\n",
       "                        <td id=\"T_5f17294e_f3ba_11e9_ba6b_008cfaf719barow5_col36\" class=\"data row5 col36\" >nan</td>\n",
       "                        <td id=\"T_5f17294e_f3ba_11e9_ba6b_008cfaf719barow5_col37\" class=\"data row5 col37\" >nan</td>\n",
       "                        <td id=\"T_5f17294e_f3ba_11e9_ba6b_008cfaf719barow5_col38\" class=\"data row5 col38\" >nan</td>\n",
       "                        <td id=\"T_5f17294e_f3ba_11e9_ba6b_008cfaf719barow5_col39\" class=\"data row5 col39\" >nan</td>\n",
       "                        <td id=\"T_5f17294e_f3ba_11e9_ba6b_008cfaf719barow5_col40\" class=\"data row5 col40\" >nan</td>\n",
       "                        <td id=\"T_5f17294e_f3ba_11e9_ba6b_008cfaf719barow5_col41\" class=\"data row5 col41\" >nan</td>\n",
       "                        <td id=\"T_5f17294e_f3ba_11e9_ba6b_008cfaf719barow5_col42\" class=\"data row5 col42\" >nan</td>\n",
       "                        <td id=\"T_5f17294e_f3ba_11e9_ba6b_008cfaf719barow5_col43\" class=\"data row5 col43\" >nan</td>\n",
       "                        <td id=\"T_5f17294e_f3ba_11e9_ba6b_008cfaf719barow5_col44\" class=\"data row5 col44\" >nan</td>\n",
       "                        <td id=\"T_5f17294e_f3ba_11e9_ba6b_008cfaf719barow5_col45\" class=\"data row5 col45\" >nan</td>\n",
       "                        <td id=\"T_5f17294e_f3ba_11e9_ba6b_008cfaf719barow5_col46\" class=\"data row5 col46\" >nan</td>\n",
       "                        <td id=\"T_5f17294e_f3ba_11e9_ba6b_008cfaf719barow5_col47\" class=\"data row5 col47\" >nan</td>\n",
       "                        <td id=\"T_5f17294e_f3ba_11e9_ba6b_008cfaf719barow5_col48\" class=\"data row5 col48\" >nan</td>\n",
       "                        <td id=\"T_5f17294e_f3ba_11e9_ba6b_008cfaf719barow5_col49\" class=\"data row5 col49\" >nan</td>\n",
       "                        <td id=\"T_5f17294e_f3ba_11e9_ba6b_008cfaf719barow5_col50\" class=\"data row5 col50\" >nan</td>\n",
       "                        <td id=\"T_5f17294e_f3ba_11e9_ba6b_008cfaf719barow5_col51\" class=\"data row5 col51\" >nan</td>\n",
       "                        <td id=\"T_5f17294e_f3ba_11e9_ba6b_008cfaf719barow5_col52\" class=\"data row5 col52\" >nan</td>\n",
       "                        <td id=\"T_5f17294e_f3ba_11e9_ba6b_008cfaf719barow5_col53\" class=\"data row5 col53\" >nan</td>\n",
       "                        <td id=\"T_5f17294e_f3ba_11e9_ba6b_008cfaf719barow5_col54\" class=\"data row5 col54\" >nan</td>\n",
       "                        <td id=\"T_5f17294e_f3ba_11e9_ba6b_008cfaf719barow5_col55\" class=\"data row5 col55\" >nan</td>\n",
       "                        <td id=\"T_5f17294e_f3ba_11e9_ba6b_008cfaf719barow5_col56\" class=\"data row5 col56\" >nan</td>\n",
       "                        <td id=\"T_5f17294e_f3ba_11e9_ba6b_008cfaf719barow5_col57\" class=\"data row5 col57\" >nan</td>\n",
       "                        <td id=\"T_5f17294e_f3ba_11e9_ba6b_008cfaf719barow5_col58\" class=\"data row5 col58\" >nan</td>\n",
       "                        <td id=\"T_5f17294e_f3ba_11e9_ba6b_008cfaf719barow5_col59\" class=\"data row5 col59\" >nan</td>\n",
       "                        <td id=\"T_5f17294e_f3ba_11e9_ba6b_008cfaf719barow5_col60\" class=\"data row5 col60\" >nan</td>\n",
       "                        <td id=\"T_5f17294e_f3ba_11e9_ba6b_008cfaf719barow5_col61\" class=\"data row5 col61\" >nan</td>\n",
       "                        <td id=\"T_5f17294e_f3ba_11e9_ba6b_008cfaf719barow5_col62\" class=\"data row5 col62\" >nan</td>\n",
       "                        <td id=\"T_5f17294e_f3ba_11e9_ba6b_008cfaf719barow5_col63\" class=\"data row5 col63\" >nan</td>\n",
       "                        <td id=\"T_5f17294e_f3ba_11e9_ba6b_008cfaf719barow5_col64\" class=\"data row5 col64\" >nan</td>\n",
       "                        <td id=\"T_5f17294e_f3ba_11e9_ba6b_008cfaf719barow5_col65\" class=\"data row5 col65\" >nan</td>\n",
       "                        <td id=\"T_5f17294e_f3ba_11e9_ba6b_008cfaf719barow5_col66\" class=\"data row5 col66\" >nan</td>\n",
       "                        <td id=\"T_5f17294e_f3ba_11e9_ba6b_008cfaf719barow5_col67\" class=\"data row5 col67\" >nan</td>\n",
       "                        <td id=\"T_5f17294e_f3ba_11e9_ba6b_008cfaf719barow5_col68\" class=\"data row5 col68\" >nan</td>\n",
       "                        <td id=\"T_5f17294e_f3ba_11e9_ba6b_008cfaf719barow5_col69\" class=\"data row5 col69\" >nan</td>\n",
       "                        <td id=\"T_5f17294e_f3ba_11e9_ba6b_008cfaf719barow5_col70\" class=\"data row5 col70\" >nan</td>\n",
       "                        <td id=\"T_5f17294e_f3ba_11e9_ba6b_008cfaf719barow5_col71\" class=\"data row5 col71\" >nan</td>\n",
       "                        <td id=\"T_5f17294e_f3ba_11e9_ba6b_008cfaf719barow5_col72\" class=\"data row5 col72\" >nan</td>\n",
       "                        <td id=\"T_5f17294e_f3ba_11e9_ba6b_008cfaf719barow5_col73\" class=\"data row5 col73\" >nan</td>\n",
       "                        <td id=\"T_5f17294e_f3ba_11e9_ba6b_008cfaf719barow5_col74\" class=\"data row5 col74\" >nan</td>\n",
       "                        <td id=\"T_5f17294e_f3ba_11e9_ba6b_008cfaf719barow5_col75\" class=\"data row5 col75\" >nan</td>\n",
       "                        <td id=\"T_5f17294e_f3ba_11e9_ba6b_008cfaf719barow5_col76\" class=\"data row5 col76\" >nan</td>\n",
       "                        <td id=\"T_5f17294e_f3ba_11e9_ba6b_008cfaf719barow5_col77\" class=\"data row5 col77\" >nan</td>\n",
       "                        <td id=\"T_5f17294e_f3ba_11e9_ba6b_008cfaf719barow5_col78\" class=\"data row5 col78\" >nan</td>\n",
       "                        <td id=\"T_5f17294e_f3ba_11e9_ba6b_008cfaf719barow5_col79\" class=\"data row5 col79\" >nan</td>\n",
       "                        <td id=\"T_5f17294e_f3ba_11e9_ba6b_008cfaf719barow5_col80\" class=\"data row5 col80\" >nan</td>\n",
       "                        <td id=\"T_5f17294e_f3ba_11e9_ba6b_008cfaf719barow5_col81\" class=\"data row5 col81\" >nan</td>\n",
       "                        <td id=\"T_5f17294e_f3ba_11e9_ba6b_008cfaf719barow5_col82\" class=\"data row5 col82\" >nan</td>\n",
       "                        <td id=\"T_5f17294e_f3ba_11e9_ba6b_008cfaf719barow5_col83\" class=\"data row5 col83\" >nan</td>\n",
       "                        <td id=\"T_5f17294e_f3ba_11e9_ba6b_008cfaf719barow5_col84\" class=\"data row5 col84\" >nan</td>\n",
       "                        <td id=\"T_5f17294e_f3ba_11e9_ba6b_008cfaf719barow5_col85\" class=\"data row5 col85\" >nan</td>\n",
       "                        <td id=\"T_5f17294e_f3ba_11e9_ba6b_008cfaf719barow5_col86\" class=\"data row5 col86\" >nan</td>\n",
       "                        <td id=\"T_5f17294e_f3ba_11e9_ba6b_008cfaf719barow5_col87\" class=\"data row5 col87\" >nan</td>\n",
       "                        <td id=\"T_5f17294e_f3ba_11e9_ba6b_008cfaf719barow5_col88\" class=\"data row5 col88\" >nan</td>\n",
       "                        <td id=\"T_5f17294e_f3ba_11e9_ba6b_008cfaf719barow5_col89\" class=\"data row5 col89\" >nan</td>\n",
       "                        <td id=\"T_5f17294e_f3ba_11e9_ba6b_008cfaf719barow5_col90\" class=\"data row5 col90\" >nan</td>\n",
       "                        <td id=\"T_5f17294e_f3ba_11e9_ba6b_008cfaf719barow5_col91\" class=\"data row5 col91\" >nan</td>\n",
       "                        <td id=\"T_5f17294e_f3ba_11e9_ba6b_008cfaf719barow5_col92\" class=\"data row5 col92\" >nan</td>\n",
       "            </tr>\n",
       "            <tr>\n",
       "                                <td id=\"T_5f17294e_f3ba_11e9_ba6b_008cfaf719barow6_col0\" class=\"data row6 col0\" >72</td>\n",
       "                        <td id=\"T_5f17294e_f3ba_11e9_ba6b_008cfaf719barow6_col1\" class=\"data row6 col1\" >StackedEnsemble_BestOfFamily_AutoML_20191021_062317</td>\n",
       "                        <td id=\"T_5f17294e_f3ba_11e9_ba6b_008cfaf719barow6_col2\" class=\"data row6 col2\" >DeepLearning_grid_1_AutoML_20191021_062317_model_8</td>\n",
       "                        <td id=\"T_5f17294e_f3ba_11e9_ba6b_008cfaf719barow6_col3\" class=\"data row6 col3\" >GBM_grid_1_AutoML_20191021_062317_model_20</td>\n",
       "                        <td id=\"T_5f17294e_f3ba_11e9_ba6b_008cfaf719barow6_col4\" class=\"data row6 col4\" >XGBoost_1_AutoML_20191021_062317</td>\n",
       "                        <td id=\"T_5f17294e_f3ba_11e9_ba6b_008cfaf719barow6_col5\" class=\"data row6 col5\" >DRF_1_AutoML_20191021_062317</td>\n",
       "                        <td id=\"T_5f17294e_f3ba_11e9_ba6b_008cfaf719barow6_col6\" class=\"data row6 col6\" >XRT_1_AutoML_20191021_062317</td>\n",
       "                        <td id=\"T_5f17294e_f3ba_11e9_ba6b_008cfaf719barow6_col7\" class=\"data row6 col7\" >GLM_grid_1_AutoML_20191021_062317_model_1</td>\n",
       "                        <td id=\"T_5f17294e_f3ba_11e9_ba6b_008cfaf719barow6_col8\" class=\"data row6 col8\" >nan</td>\n",
       "                        <td id=\"T_5f17294e_f3ba_11e9_ba6b_008cfaf719barow6_col9\" class=\"data row6 col9\" >nan</td>\n",
       "                        <td id=\"T_5f17294e_f3ba_11e9_ba6b_008cfaf719barow6_col10\" class=\"data row6 col10\" >nan</td>\n",
       "                        <td id=\"T_5f17294e_f3ba_11e9_ba6b_008cfaf719barow6_col11\" class=\"data row6 col11\" >nan</td>\n",
       "                        <td id=\"T_5f17294e_f3ba_11e9_ba6b_008cfaf719barow6_col12\" class=\"data row6 col12\" >nan</td>\n",
       "                        <td id=\"T_5f17294e_f3ba_11e9_ba6b_008cfaf719barow6_col13\" class=\"data row6 col13\" >nan</td>\n",
       "                        <td id=\"T_5f17294e_f3ba_11e9_ba6b_008cfaf719barow6_col14\" class=\"data row6 col14\" >nan</td>\n",
       "                        <td id=\"T_5f17294e_f3ba_11e9_ba6b_008cfaf719barow6_col15\" class=\"data row6 col15\" >nan</td>\n",
       "                        <td id=\"T_5f17294e_f3ba_11e9_ba6b_008cfaf719barow6_col16\" class=\"data row6 col16\" >nan</td>\n",
       "                        <td id=\"T_5f17294e_f3ba_11e9_ba6b_008cfaf719barow6_col17\" class=\"data row6 col17\" >nan</td>\n",
       "                        <td id=\"T_5f17294e_f3ba_11e9_ba6b_008cfaf719barow6_col18\" class=\"data row6 col18\" >nan</td>\n",
       "                        <td id=\"T_5f17294e_f3ba_11e9_ba6b_008cfaf719barow6_col19\" class=\"data row6 col19\" >nan</td>\n",
       "                        <td id=\"T_5f17294e_f3ba_11e9_ba6b_008cfaf719barow6_col20\" class=\"data row6 col20\" >nan</td>\n",
       "                        <td id=\"T_5f17294e_f3ba_11e9_ba6b_008cfaf719barow6_col21\" class=\"data row6 col21\" >nan</td>\n",
       "                        <td id=\"T_5f17294e_f3ba_11e9_ba6b_008cfaf719barow6_col22\" class=\"data row6 col22\" >nan</td>\n",
       "                        <td id=\"T_5f17294e_f3ba_11e9_ba6b_008cfaf719barow6_col23\" class=\"data row6 col23\" >nan</td>\n",
       "                        <td id=\"T_5f17294e_f3ba_11e9_ba6b_008cfaf719barow6_col24\" class=\"data row6 col24\" >nan</td>\n",
       "                        <td id=\"T_5f17294e_f3ba_11e9_ba6b_008cfaf719barow6_col25\" class=\"data row6 col25\" >nan</td>\n",
       "                        <td id=\"T_5f17294e_f3ba_11e9_ba6b_008cfaf719barow6_col26\" class=\"data row6 col26\" >nan</td>\n",
       "                        <td id=\"T_5f17294e_f3ba_11e9_ba6b_008cfaf719barow6_col27\" class=\"data row6 col27\" >nan</td>\n",
       "                        <td id=\"T_5f17294e_f3ba_11e9_ba6b_008cfaf719barow6_col28\" class=\"data row6 col28\" >nan</td>\n",
       "                        <td id=\"T_5f17294e_f3ba_11e9_ba6b_008cfaf719barow6_col29\" class=\"data row6 col29\" >nan</td>\n",
       "                        <td id=\"T_5f17294e_f3ba_11e9_ba6b_008cfaf719barow6_col30\" class=\"data row6 col30\" >nan</td>\n",
       "                        <td id=\"T_5f17294e_f3ba_11e9_ba6b_008cfaf719barow6_col31\" class=\"data row6 col31\" >nan</td>\n",
       "                        <td id=\"T_5f17294e_f3ba_11e9_ba6b_008cfaf719barow6_col32\" class=\"data row6 col32\" >nan</td>\n",
       "                        <td id=\"T_5f17294e_f3ba_11e9_ba6b_008cfaf719barow6_col33\" class=\"data row6 col33\" >nan</td>\n",
       "                        <td id=\"T_5f17294e_f3ba_11e9_ba6b_008cfaf719barow6_col34\" class=\"data row6 col34\" >nan</td>\n",
       "                        <td id=\"T_5f17294e_f3ba_11e9_ba6b_008cfaf719barow6_col35\" class=\"data row6 col35\" >nan</td>\n",
       "                        <td id=\"T_5f17294e_f3ba_11e9_ba6b_008cfaf719barow6_col36\" class=\"data row6 col36\" >nan</td>\n",
       "                        <td id=\"T_5f17294e_f3ba_11e9_ba6b_008cfaf719barow6_col37\" class=\"data row6 col37\" >nan</td>\n",
       "                        <td id=\"T_5f17294e_f3ba_11e9_ba6b_008cfaf719barow6_col38\" class=\"data row6 col38\" >nan</td>\n",
       "                        <td id=\"T_5f17294e_f3ba_11e9_ba6b_008cfaf719barow6_col39\" class=\"data row6 col39\" >nan</td>\n",
       "                        <td id=\"T_5f17294e_f3ba_11e9_ba6b_008cfaf719barow6_col40\" class=\"data row6 col40\" >nan</td>\n",
       "                        <td id=\"T_5f17294e_f3ba_11e9_ba6b_008cfaf719barow6_col41\" class=\"data row6 col41\" >nan</td>\n",
       "                        <td id=\"T_5f17294e_f3ba_11e9_ba6b_008cfaf719barow6_col42\" class=\"data row6 col42\" >nan</td>\n",
       "                        <td id=\"T_5f17294e_f3ba_11e9_ba6b_008cfaf719barow6_col43\" class=\"data row6 col43\" >nan</td>\n",
       "                        <td id=\"T_5f17294e_f3ba_11e9_ba6b_008cfaf719barow6_col44\" class=\"data row6 col44\" >nan</td>\n",
       "                        <td id=\"T_5f17294e_f3ba_11e9_ba6b_008cfaf719barow6_col45\" class=\"data row6 col45\" >nan</td>\n",
       "                        <td id=\"T_5f17294e_f3ba_11e9_ba6b_008cfaf719barow6_col46\" class=\"data row6 col46\" >nan</td>\n",
       "                        <td id=\"T_5f17294e_f3ba_11e9_ba6b_008cfaf719barow6_col47\" class=\"data row6 col47\" >nan</td>\n",
       "                        <td id=\"T_5f17294e_f3ba_11e9_ba6b_008cfaf719barow6_col48\" class=\"data row6 col48\" >nan</td>\n",
       "                        <td id=\"T_5f17294e_f3ba_11e9_ba6b_008cfaf719barow6_col49\" class=\"data row6 col49\" >nan</td>\n",
       "                        <td id=\"T_5f17294e_f3ba_11e9_ba6b_008cfaf719barow6_col50\" class=\"data row6 col50\" >nan</td>\n",
       "                        <td id=\"T_5f17294e_f3ba_11e9_ba6b_008cfaf719barow6_col51\" class=\"data row6 col51\" >nan</td>\n",
       "                        <td id=\"T_5f17294e_f3ba_11e9_ba6b_008cfaf719barow6_col52\" class=\"data row6 col52\" >nan</td>\n",
       "                        <td id=\"T_5f17294e_f3ba_11e9_ba6b_008cfaf719barow6_col53\" class=\"data row6 col53\" >nan</td>\n",
       "                        <td id=\"T_5f17294e_f3ba_11e9_ba6b_008cfaf719barow6_col54\" class=\"data row6 col54\" >nan</td>\n",
       "                        <td id=\"T_5f17294e_f3ba_11e9_ba6b_008cfaf719barow6_col55\" class=\"data row6 col55\" >nan</td>\n",
       "                        <td id=\"T_5f17294e_f3ba_11e9_ba6b_008cfaf719barow6_col56\" class=\"data row6 col56\" >nan</td>\n",
       "                        <td id=\"T_5f17294e_f3ba_11e9_ba6b_008cfaf719barow6_col57\" class=\"data row6 col57\" >nan</td>\n",
       "                        <td id=\"T_5f17294e_f3ba_11e9_ba6b_008cfaf719barow6_col58\" class=\"data row6 col58\" >nan</td>\n",
       "                        <td id=\"T_5f17294e_f3ba_11e9_ba6b_008cfaf719barow6_col59\" class=\"data row6 col59\" >nan</td>\n",
       "                        <td id=\"T_5f17294e_f3ba_11e9_ba6b_008cfaf719barow6_col60\" class=\"data row6 col60\" >nan</td>\n",
       "                        <td id=\"T_5f17294e_f3ba_11e9_ba6b_008cfaf719barow6_col61\" class=\"data row6 col61\" >nan</td>\n",
       "                        <td id=\"T_5f17294e_f3ba_11e9_ba6b_008cfaf719barow6_col62\" class=\"data row6 col62\" >nan</td>\n",
       "                        <td id=\"T_5f17294e_f3ba_11e9_ba6b_008cfaf719barow6_col63\" class=\"data row6 col63\" >nan</td>\n",
       "                        <td id=\"T_5f17294e_f3ba_11e9_ba6b_008cfaf719barow6_col64\" class=\"data row6 col64\" >nan</td>\n",
       "                        <td id=\"T_5f17294e_f3ba_11e9_ba6b_008cfaf719barow6_col65\" class=\"data row6 col65\" >nan</td>\n",
       "                        <td id=\"T_5f17294e_f3ba_11e9_ba6b_008cfaf719barow6_col66\" class=\"data row6 col66\" >nan</td>\n",
       "                        <td id=\"T_5f17294e_f3ba_11e9_ba6b_008cfaf719barow6_col67\" class=\"data row6 col67\" >nan</td>\n",
       "                        <td id=\"T_5f17294e_f3ba_11e9_ba6b_008cfaf719barow6_col68\" class=\"data row6 col68\" >nan</td>\n",
       "                        <td id=\"T_5f17294e_f3ba_11e9_ba6b_008cfaf719barow6_col69\" class=\"data row6 col69\" >nan</td>\n",
       "                        <td id=\"T_5f17294e_f3ba_11e9_ba6b_008cfaf719barow6_col70\" class=\"data row6 col70\" >nan</td>\n",
       "                        <td id=\"T_5f17294e_f3ba_11e9_ba6b_008cfaf719barow6_col71\" class=\"data row6 col71\" >nan</td>\n",
       "                        <td id=\"T_5f17294e_f3ba_11e9_ba6b_008cfaf719barow6_col72\" class=\"data row6 col72\" >nan</td>\n",
       "                        <td id=\"T_5f17294e_f3ba_11e9_ba6b_008cfaf719barow6_col73\" class=\"data row6 col73\" >nan</td>\n",
       "                        <td id=\"T_5f17294e_f3ba_11e9_ba6b_008cfaf719barow6_col74\" class=\"data row6 col74\" >nan</td>\n",
       "                        <td id=\"T_5f17294e_f3ba_11e9_ba6b_008cfaf719barow6_col75\" class=\"data row6 col75\" >nan</td>\n",
       "                        <td id=\"T_5f17294e_f3ba_11e9_ba6b_008cfaf719barow6_col76\" class=\"data row6 col76\" >nan</td>\n",
       "                        <td id=\"T_5f17294e_f3ba_11e9_ba6b_008cfaf719barow6_col77\" class=\"data row6 col77\" >nan</td>\n",
       "                        <td id=\"T_5f17294e_f3ba_11e9_ba6b_008cfaf719barow6_col78\" class=\"data row6 col78\" >nan</td>\n",
       "                        <td id=\"T_5f17294e_f3ba_11e9_ba6b_008cfaf719barow6_col79\" class=\"data row6 col79\" >nan</td>\n",
       "                        <td id=\"T_5f17294e_f3ba_11e9_ba6b_008cfaf719barow6_col80\" class=\"data row6 col80\" >nan</td>\n",
       "                        <td id=\"T_5f17294e_f3ba_11e9_ba6b_008cfaf719barow6_col81\" class=\"data row6 col81\" >nan</td>\n",
       "                        <td id=\"T_5f17294e_f3ba_11e9_ba6b_008cfaf719barow6_col82\" class=\"data row6 col82\" >nan</td>\n",
       "                        <td id=\"T_5f17294e_f3ba_11e9_ba6b_008cfaf719barow6_col83\" class=\"data row6 col83\" >nan</td>\n",
       "                        <td id=\"T_5f17294e_f3ba_11e9_ba6b_008cfaf719barow6_col84\" class=\"data row6 col84\" >nan</td>\n",
       "                        <td id=\"T_5f17294e_f3ba_11e9_ba6b_008cfaf719barow6_col85\" class=\"data row6 col85\" >nan</td>\n",
       "                        <td id=\"T_5f17294e_f3ba_11e9_ba6b_008cfaf719barow6_col86\" class=\"data row6 col86\" >nan</td>\n",
       "                        <td id=\"T_5f17294e_f3ba_11e9_ba6b_008cfaf719barow6_col87\" class=\"data row6 col87\" >nan</td>\n",
       "                        <td id=\"T_5f17294e_f3ba_11e9_ba6b_008cfaf719barow6_col88\" class=\"data row6 col88\" >nan</td>\n",
       "                        <td id=\"T_5f17294e_f3ba_11e9_ba6b_008cfaf719barow6_col89\" class=\"data row6 col89\" >nan</td>\n",
       "                        <td id=\"T_5f17294e_f3ba_11e9_ba6b_008cfaf719barow6_col90\" class=\"data row6 col90\" >nan</td>\n",
       "                        <td id=\"T_5f17294e_f3ba_11e9_ba6b_008cfaf719barow6_col91\" class=\"data row6 col91\" >nan</td>\n",
       "                        <td id=\"T_5f17294e_f3ba_11e9_ba6b_008cfaf719barow6_col92\" class=\"data row6 col92\" >nan</td>\n",
       "            </tr>\n",
       "            <tr>\n",
       "                                <td id=\"T_5f17294e_f3ba_11e9_ba6b_008cfaf719barow7_col0\" class=\"data row7 col0\" >84</td>\n",
       "                        <td id=\"T_5f17294e_f3ba_11e9_ba6b_008cfaf719barow7_col1\" class=\"data row7 col1\" >StackedEnsemble_BestOfFamily_AutoML_20191021_062326</td>\n",
       "                        <td id=\"T_5f17294e_f3ba_11e9_ba6b_008cfaf719barow7_col2\" class=\"data row7 col2\" >DeepLearning_grid_1_AutoML_20191021_062326_model_6</td>\n",
       "                        <td id=\"T_5f17294e_f3ba_11e9_ba6b_008cfaf719barow7_col3\" class=\"data row7 col3\" >GBM_grid_1_AutoML_20191021_062326_model_15</td>\n",
       "                        <td id=\"T_5f17294e_f3ba_11e9_ba6b_008cfaf719barow7_col4\" class=\"data row7 col4\" >DRF_1_AutoML_20191021_062326</td>\n",
       "                        <td id=\"T_5f17294e_f3ba_11e9_ba6b_008cfaf719barow7_col5\" class=\"data row7 col5\" >XGBoost_1_AutoML_20191021_062326</td>\n",
       "                        <td id=\"T_5f17294e_f3ba_11e9_ba6b_008cfaf719barow7_col6\" class=\"data row7 col6\" >XRT_1_AutoML_20191021_062326</td>\n",
       "                        <td id=\"T_5f17294e_f3ba_11e9_ba6b_008cfaf719barow7_col7\" class=\"data row7 col7\" >GLM_grid_1_AutoML_20191021_062326_model_1</td>\n",
       "                        <td id=\"T_5f17294e_f3ba_11e9_ba6b_008cfaf719barow7_col8\" class=\"data row7 col8\" >nan</td>\n",
       "                        <td id=\"T_5f17294e_f3ba_11e9_ba6b_008cfaf719barow7_col9\" class=\"data row7 col9\" >nan</td>\n",
       "                        <td id=\"T_5f17294e_f3ba_11e9_ba6b_008cfaf719barow7_col10\" class=\"data row7 col10\" >nan</td>\n",
       "                        <td id=\"T_5f17294e_f3ba_11e9_ba6b_008cfaf719barow7_col11\" class=\"data row7 col11\" >nan</td>\n",
       "                        <td id=\"T_5f17294e_f3ba_11e9_ba6b_008cfaf719barow7_col12\" class=\"data row7 col12\" >nan</td>\n",
       "                        <td id=\"T_5f17294e_f3ba_11e9_ba6b_008cfaf719barow7_col13\" class=\"data row7 col13\" >nan</td>\n",
       "                        <td id=\"T_5f17294e_f3ba_11e9_ba6b_008cfaf719barow7_col14\" class=\"data row7 col14\" >nan</td>\n",
       "                        <td id=\"T_5f17294e_f3ba_11e9_ba6b_008cfaf719barow7_col15\" class=\"data row7 col15\" >nan</td>\n",
       "                        <td id=\"T_5f17294e_f3ba_11e9_ba6b_008cfaf719barow7_col16\" class=\"data row7 col16\" >nan</td>\n",
       "                        <td id=\"T_5f17294e_f3ba_11e9_ba6b_008cfaf719barow7_col17\" class=\"data row7 col17\" >nan</td>\n",
       "                        <td id=\"T_5f17294e_f3ba_11e9_ba6b_008cfaf719barow7_col18\" class=\"data row7 col18\" >nan</td>\n",
       "                        <td id=\"T_5f17294e_f3ba_11e9_ba6b_008cfaf719barow7_col19\" class=\"data row7 col19\" >nan</td>\n",
       "                        <td id=\"T_5f17294e_f3ba_11e9_ba6b_008cfaf719barow7_col20\" class=\"data row7 col20\" >nan</td>\n",
       "                        <td id=\"T_5f17294e_f3ba_11e9_ba6b_008cfaf719barow7_col21\" class=\"data row7 col21\" >nan</td>\n",
       "                        <td id=\"T_5f17294e_f3ba_11e9_ba6b_008cfaf719barow7_col22\" class=\"data row7 col22\" >nan</td>\n",
       "                        <td id=\"T_5f17294e_f3ba_11e9_ba6b_008cfaf719barow7_col23\" class=\"data row7 col23\" >nan</td>\n",
       "                        <td id=\"T_5f17294e_f3ba_11e9_ba6b_008cfaf719barow7_col24\" class=\"data row7 col24\" >nan</td>\n",
       "                        <td id=\"T_5f17294e_f3ba_11e9_ba6b_008cfaf719barow7_col25\" class=\"data row7 col25\" >nan</td>\n",
       "                        <td id=\"T_5f17294e_f3ba_11e9_ba6b_008cfaf719barow7_col26\" class=\"data row7 col26\" >nan</td>\n",
       "                        <td id=\"T_5f17294e_f3ba_11e9_ba6b_008cfaf719barow7_col27\" class=\"data row7 col27\" >nan</td>\n",
       "                        <td id=\"T_5f17294e_f3ba_11e9_ba6b_008cfaf719barow7_col28\" class=\"data row7 col28\" >nan</td>\n",
       "                        <td id=\"T_5f17294e_f3ba_11e9_ba6b_008cfaf719barow7_col29\" class=\"data row7 col29\" >nan</td>\n",
       "                        <td id=\"T_5f17294e_f3ba_11e9_ba6b_008cfaf719barow7_col30\" class=\"data row7 col30\" >nan</td>\n",
       "                        <td id=\"T_5f17294e_f3ba_11e9_ba6b_008cfaf719barow7_col31\" class=\"data row7 col31\" >nan</td>\n",
       "                        <td id=\"T_5f17294e_f3ba_11e9_ba6b_008cfaf719barow7_col32\" class=\"data row7 col32\" >nan</td>\n",
       "                        <td id=\"T_5f17294e_f3ba_11e9_ba6b_008cfaf719barow7_col33\" class=\"data row7 col33\" >nan</td>\n",
       "                        <td id=\"T_5f17294e_f3ba_11e9_ba6b_008cfaf719barow7_col34\" class=\"data row7 col34\" >nan</td>\n",
       "                        <td id=\"T_5f17294e_f3ba_11e9_ba6b_008cfaf719barow7_col35\" class=\"data row7 col35\" >nan</td>\n",
       "                        <td id=\"T_5f17294e_f3ba_11e9_ba6b_008cfaf719barow7_col36\" class=\"data row7 col36\" >nan</td>\n",
       "                        <td id=\"T_5f17294e_f3ba_11e9_ba6b_008cfaf719barow7_col37\" class=\"data row7 col37\" >nan</td>\n",
       "                        <td id=\"T_5f17294e_f3ba_11e9_ba6b_008cfaf719barow7_col38\" class=\"data row7 col38\" >nan</td>\n",
       "                        <td id=\"T_5f17294e_f3ba_11e9_ba6b_008cfaf719barow7_col39\" class=\"data row7 col39\" >nan</td>\n",
       "                        <td id=\"T_5f17294e_f3ba_11e9_ba6b_008cfaf719barow7_col40\" class=\"data row7 col40\" >nan</td>\n",
       "                        <td id=\"T_5f17294e_f3ba_11e9_ba6b_008cfaf719barow7_col41\" class=\"data row7 col41\" >nan</td>\n",
       "                        <td id=\"T_5f17294e_f3ba_11e9_ba6b_008cfaf719barow7_col42\" class=\"data row7 col42\" >nan</td>\n",
       "                        <td id=\"T_5f17294e_f3ba_11e9_ba6b_008cfaf719barow7_col43\" class=\"data row7 col43\" >nan</td>\n",
       "                        <td id=\"T_5f17294e_f3ba_11e9_ba6b_008cfaf719barow7_col44\" class=\"data row7 col44\" >nan</td>\n",
       "                        <td id=\"T_5f17294e_f3ba_11e9_ba6b_008cfaf719barow7_col45\" class=\"data row7 col45\" >nan</td>\n",
       "                        <td id=\"T_5f17294e_f3ba_11e9_ba6b_008cfaf719barow7_col46\" class=\"data row7 col46\" >nan</td>\n",
       "                        <td id=\"T_5f17294e_f3ba_11e9_ba6b_008cfaf719barow7_col47\" class=\"data row7 col47\" >nan</td>\n",
       "                        <td id=\"T_5f17294e_f3ba_11e9_ba6b_008cfaf719barow7_col48\" class=\"data row7 col48\" >nan</td>\n",
       "                        <td id=\"T_5f17294e_f3ba_11e9_ba6b_008cfaf719barow7_col49\" class=\"data row7 col49\" >nan</td>\n",
       "                        <td id=\"T_5f17294e_f3ba_11e9_ba6b_008cfaf719barow7_col50\" class=\"data row7 col50\" >nan</td>\n",
       "                        <td id=\"T_5f17294e_f3ba_11e9_ba6b_008cfaf719barow7_col51\" class=\"data row7 col51\" >nan</td>\n",
       "                        <td id=\"T_5f17294e_f3ba_11e9_ba6b_008cfaf719barow7_col52\" class=\"data row7 col52\" >nan</td>\n",
       "                        <td id=\"T_5f17294e_f3ba_11e9_ba6b_008cfaf719barow7_col53\" class=\"data row7 col53\" >nan</td>\n",
       "                        <td id=\"T_5f17294e_f3ba_11e9_ba6b_008cfaf719barow7_col54\" class=\"data row7 col54\" >nan</td>\n",
       "                        <td id=\"T_5f17294e_f3ba_11e9_ba6b_008cfaf719barow7_col55\" class=\"data row7 col55\" >nan</td>\n",
       "                        <td id=\"T_5f17294e_f3ba_11e9_ba6b_008cfaf719barow7_col56\" class=\"data row7 col56\" >nan</td>\n",
       "                        <td id=\"T_5f17294e_f3ba_11e9_ba6b_008cfaf719barow7_col57\" class=\"data row7 col57\" >nan</td>\n",
       "                        <td id=\"T_5f17294e_f3ba_11e9_ba6b_008cfaf719barow7_col58\" class=\"data row7 col58\" >nan</td>\n",
       "                        <td id=\"T_5f17294e_f3ba_11e9_ba6b_008cfaf719barow7_col59\" class=\"data row7 col59\" >nan</td>\n",
       "                        <td id=\"T_5f17294e_f3ba_11e9_ba6b_008cfaf719barow7_col60\" class=\"data row7 col60\" >nan</td>\n",
       "                        <td id=\"T_5f17294e_f3ba_11e9_ba6b_008cfaf719barow7_col61\" class=\"data row7 col61\" >nan</td>\n",
       "                        <td id=\"T_5f17294e_f3ba_11e9_ba6b_008cfaf719barow7_col62\" class=\"data row7 col62\" >nan</td>\n",
       "                        <td id=\"T_5f17294e_f3ba_11e9_ba6b_008cfaf719barow7_col63\" class=\"data row7 col63\" >nan</td>\n",
       "                        <td id=\"T_5f17294e_f3ba_11e9_ba6b_008cfaf719barow7_col64\" class=\"data row7 col64\" >nan</td>\n",
       "                        <td id=\"T_5f17294e_f3ba_11e9_ba6b_008cfaf719barow7_col65\" class=\"data row7 col65\" >nan</td>\n",
       "                        <td id=\"T_5f17294e_f3ba_11e9_ba6b_008cfaf719barow7_col66\" class=\"data row7 col66\" >nan</td>\n",
       "                        <td id=\"T_5f17294e_f3ba_11e9_ba6b_008cfaf719barow7_col67\" class=\"data row7 col67\" >nan</td>\n",
       "                        <td id=\"T_5f17294e_f3ba_11e9_ba6b_008cfaf719barow7_col68\" class=\"data row7 col68\" >nan</td>\n",
       "                        <td id=\"T_5f17294e_f3ba_11e9_ba6b_008cfaf719barow7_col69\" class=\"data row7 col69\" >nan</td>\n",
       "                        <td id=\"T_5f17294e_f3ba_11e9_ba6b_008cfaf719barow7_col70\" class=\"data row7 col70\" >nan</td>\n",
       "                        <td id=\"T_5f17294e_f3ba_11e9_ba6b_008cfaf719barow7_col71\" class=\"data row7 col71\" >nan</td>\n",
       "                        <td id=\"T_5f17294e_f3ba_11e9_ba6b_008cfaf719barow7_col72\" class=\"data row7 col72\" >nan</td>\n",
       "                        <td id=\"T_5f17294e_f3ba_11e9_ba6b_008cfaf719barow7_col73\" class=\"data row7 col73\" >nan</td>\n",
       "                        <td id=\"T_5f17294e_f3ba_11e9_ba6b_008cfaf719barow7_col74\" class=\"data row7 col74\" >nan</td>\n",
       "                        <td id=\"T_5f17294e_f3ba_11e9_ba6b_008cfaf719barow7_col75\" class=\"data row7 col75\" >nan</td>\n",
       "                        <td id=\"T_5f17294e_f3ba_11e9_ba6b_008cfaf719barow7_col76\" class=\"data row7 col76\" >nan</td>\n",
       "                        <td id=\"T_5f17294e_f3ba_11e9_ba6b_008cfaf719barow7_col77\" class=\"data row7 col77\" >nan</td>\n",
       "                        <td id=\"T_5f17294e_f3ba_11e9_ba6b_008cfaf719barow7_col78\" class=\"data row7 col78\" >nan</td>\n",
       "                        <td id=\"T_5f17294e_f3ba_11e9_ba6b_008cfaf719barow7_col79\" class=\"data row7 col79\" >nan</td>\n",
       "                        <td id=\"T_5f17294e_f3ba_11e9_ba6b_008cfaf719barow7_col80\" class=\"data row7 col80\" >nan</td>\n",
       "                        <td id=\"T_5f17294e_f3ba_11e9_ba6b_008cfaf719barow7_col81\" class=\"data row7 col81\" >nan</td>\n",
       "                        <td id=\"T_5f17294e_f3ba_11e9_ba6b_008cfaf719barow7_col82\" class=\"data row7 col82\" >nan</td>\n",
       "                        <td id=\"T_5f17294e_f3ba_11e9_ba6b_008cfaf719barow7_col83\" class=\"data row7 col83\" >nan</td>\n",
       "                        <td id=\"T_5f17294e_f3ba_11e9_ba6b_008cfaf719barow7_col84\" class=\"data row7 col84\" >nan</td>\n",
       "                        <td id=\"T_5f17294e_f3ba_11e9_ba6b_008cfaf719barow7_col85\" class=\"data row7 col85\" >nan</td>\n",
       "                        <td id=\"T_5f17294e_f3ba_11e9_ba6b_008cfaf719barow7_col86\" class=\"data row7 col86\" >nan</td>\n",
       "                        <td id=\"T_5f17294e_f3ba_11e9_ba6b_008cfaf719barow7_col87\" class=\"data row7 col87\" >nan</td>\n",
       "                        <td id=\"T_5f17294e_f3ba_11e9_ba6b_008cfaf719barow7_col88\" class=\"data row7 col88\" >nan</td>\n",
       "                        <td id=\"T_5f17294e_f3ba_11e9_ba6b_008cfaf719barow7_col89\" class=\"data row7 col89\" >nan</td>\n",
       "                        <td id=\"T_5f17294e_f3ba_11e9_ba6b_008cfaf719barow7_col90\" class=\"data row7 col90\" >nan</td>\n",
       "                        <td id=\"T_5f17294e_f3ba_11e9_ba6b_008cfaf719barow7_col91\" class=\"data row7 col91\" >nan</td>\n",
       "                        <td id=\"T_5f17294e_f3ba_11e9_ba6b_008cfaf719barow7_col92\" class=\"data row7 col92\" >nan</td>\n",
       "            </tr>\n",
       "    </tbody></table>"
      ],
      "text/plain": [
       "<pandas.io.formats.style.Styler at 0x2b72d5ba0908>"
      ]
     },
     "metadata": {},
     "output_type": "display_data"
    },
    {
     "data": {
      "image/png": "[encoded data removed]",
      "text/plain": [
       "<Figure size 720x288 with 2 Axes>"
      ]
     },
     "metadata": {
      "needs_background": "light"
     },
     "output_type": "display_data"
    }
   ],
   "source": [
    "print_results_by_model(\n",
    "    df, \n",
    "    [\"train_labels\", \"test_labels\"],\n",
    "    err_param_name=\"max_angle\",\n",
    "    pipeline_name=\"best_pipeline\",\n",
    ")\n",
    "visualize(df)"
   ]
  },
  {
   "cell_type": "markdown",
   "metadata": {
    "collapsed": false,
    "papermill": {
     "duration": 0.145614,
     "end_time": "2019-10-21T04:22:20.897805",
     "exception": false,
     "start_time": "2019-10-21T04:22:20.752191",
     "status": "completed"
    },
    "pycharm": {
     "name": "#%% md\n"
    },
    "tags": []
   },
   "source": []
  }
 ],
 "metadata": {
  "kernelspec": {
   "display_name": "Python 3",
   "language": "python",
   "name": "python3"
  },
  "language_info": {
   "codemirror_mode": {
    "name": "ipython",
    "version": 3
   },
   "file_extension": ".py",
   "mimetype": "text/x-python",
   "name": "python",
   "nbconvert_exporter": "python",
   "pygments_lexer": "ipython3",
   "version": "3.6.6"
  },
  "papermill": {
   "duration": 3560.04094,
   "end_time": "2019-10-21T04:22:21.832028",
   "environment_variables": {},
   "exception": null,
   "input_path": "docs/case_studies/test.ipynb",
   "output_path": "docs/case_studies/test.ipynb",
   "parameters": {},
   "start_time": "2019-10-21T03:23:01.791088",
   "version": "1.2.0"
  },
  "pycharm": {
   "stem_cell": {
    "cell_type": "raw",
    "source": [],
    "metadata": {
     "collapsed": false
    }
   }
  },
  "widgets": {
   "application/vnd.jupyter.widget-state+json": {
    "state": {},
    "version_major": 2,
    "version_minor": 0
   }
  }
 },
 "nbformat": 4,
 "nbformat_minor": 0
}