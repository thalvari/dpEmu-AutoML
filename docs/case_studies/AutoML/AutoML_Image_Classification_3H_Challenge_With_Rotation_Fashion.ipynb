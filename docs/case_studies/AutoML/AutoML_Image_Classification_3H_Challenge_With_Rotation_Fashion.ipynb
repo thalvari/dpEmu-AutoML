{
 "cells": [
  {
   "cell_type": "markdown",
   "metadata": {
    "collapsed": false,
    "papermill": {
     "duration": 0.037102,
     "end_time": "2019-11-21T22:11:13.189651",
     "exception": false,
     "start_time": "2019-11-21T22:11:13.152549",
     "status": "completed"
    },
    "tags": []
   },
   "source": [
    "# AutoML Image Classification: With Rotation (Fashion MNIST)"
   ]
  },
  {
   "cell_type": "code",
   "execution_count": 1,
   "metadata": {
    "collapsed": false,
    "papermill": {
     "duration": 0.037199,
     "end_time": "2019-11-21T22:11:13.255306",
     "exception": false,
     "start_time": "2019-11-21T22:11:13.218107",
     "status": "completed"
    },
    "pycharm": {
     "name": "#%%\n"
    },
    "tags": []
   },
   "outputs": [],
   "source": [
    "import warnings\n",
    "warnings.simplefilter(action=\"ignore\", category=FutureWarning)"
   ]
  },
  {
   "cell_type": "markdown",
   "metadata": {
    "collapsed": false,
    "papermill": {
     "duration": 0.021033,
     "end_time": "2019-11-21T22:11:13.299669",
     "exception": false,
     "start_time": "2019-11-21T22:11:13.278636",
     "status": "completed"
    },
    "tags": []
   },
   "source": [
    "![](imgs/rotation.png)"
   ]
  },
  {
   "cell_type": "code",
   "execution_count": 2,
   "metadata": {
    "collapsed": false,
    "papermill": {
     "duration": 34.470515,
     "end_time": "2019-11-21T22:11:47.788551",
     "exception": false,
     "start_time": "2019-11-21T22:11:13.318036",
     "status": "completed"
    },
    "pycharm": {
     "is_executing": false,
     "name": "#%%\n"
    },
    "tags": []
   },
   "outputs": [
    {
     "name": "stdout",
     "output_type": "stream",
     "text": [
      "Better speed can be achieved with apex installed from https://www.github.com/nvidia/apex.\n"
     ]
    },
    {
     "name": "stderr",
     "output_type": "stream",
     "text": [
      "Using TensorFlow backend.\n"
     ]
    }
   ],
   "source": [
    "import random as rn\n",
    "from abc import ABC, abstractmethod\n",
    "\n",
    "import autokeras as ak\n",
    "import h2o\n",
    "import matplotlib.pyplot as plt\n",
    "import numpy as np\n",
    "from h2o.automl import H2OAutoML\n",
    "from keras.datasets import fashion_mnist\n",
    "from numpy.random import RandomState\n",
    "from sklearn.datasets import load_digits\n",
    "from sklearn.metrics import accuracy_score\n",
    "from sklearn.model_selection import train_test_split\n",
    "from tpot import TPOTClassifier\n",
    "\n",
    "from dpemu import runner\n",
    "from dpemu.filters.common import GaussianNoise, Clip\n",
    "from dpemu.filters.image import RotationPIL\n",
    "from dpemu.nodes import Array\n",
    "from dpemu.nodes.series import Series\n",
    "from dpemu.plotting_utils import visualize_scores, print_results_by_model\n",
    "from dpemu.utils import generate_tmpdir"
   ]
  },
  {
   "cell_type": "markdown",
   "metadata": {
    "collapsed": false,
    "papermill": {
     "duration": 0.029034,
     "end_time": "2019-11-21T22:11:47.851426",
     "exception": false,
     "start_time": "2019-11-21T22:11:47.822392",
     "status": "completed"
    },
    "pycharm": {
     "name": "#%% md\n"
    },
    "tags": []
   },
   "source": []
  },
  {
   "cell_type": "code",
   "execution_count": 3,
   "metadata": {
    "collapsed": false,
    "papermill": {
     "duration": 0.04039,
     "end_time": "2019-11-21T22:11:47.918743",
     "exception": false,
     "start_time": "2019-11-21T22:11:47.878353",
     "status": "completed"
    },
    "pycharm": {
     "is_executing": false,
     "name": "#%%\n"
    },
    "tags": []
   },
   "outputs": [],
   "source": [
    "def get_data():\n",
    "    # random_state = RandomState(42)\n",
    "    # x, y = load_digits(return_X_y=True)\n",
    "    # y = y.astype(np.uint8)\n",
    "    # return train_test_split(x, y, test_size=.25, random_state=random_state)\n",
    "    (x_train, y_train), (x_test, y_test) = fashion_mnist.load_data()\n",
    "    s = x_train.shape[1]\n",
    "    x_train = x_train.reshape((len(x_train), s**2)).astype(np.float64)\n",
    "    x_test = x_test.reshape((len(x_test), s**2)).astype(np.float64)\n",
    "    return x_train, x_test, y_train, y_test"
   ]
  },
  {
   "cell_type": "markdown",
   "metadata": {
    "collapsed": false,
    "papermill": {
     "duration": 0.021429,
     "end_time": "2019-11-21T22:11:47.962864",
     "exception": false,
     "start_time": "2019-11-21T22:11:47.941435",
     "status": "completed"
    },
    "pycharm": {
     "name": "#%% md\n"
    },
    "tags": []
   },
   "source": []
  },
  {
   "cell_type": "code",
   "execution_count": 4,
   "metadata": {
    "collapsed": false,
    "papermill": {
     "duration": 0.026465,
     "end_time": "2019-11-21T22:11:48.004083",
     "exception": false,
     "start_time": "2019-11-21T22:11:47.977618",
     "status": "completed"
    },
    "pycharm": {
     "is_executing": false,
     "name": "#%%\n"
    },
    "tags": []
   },
   "outputs": [],
   "source": [
    "def get_err_root_node():\n",
    "    # err_img_node = Array(reshape=(8, 8))\n",
    "    err_img_node = Array(reshape=(28, 28))\n",
    "\n",
    "    err_root_node = Series(err_img_node)\n",
    "    err_img_node.addfilter(RotationPIL(\"max_angle\"))\n",
    "    return err_root_node\n",
    "    # err_root_node = Series(err_img_node)\n",
    "    # err_img_node.addfilter(GaussianNoise(\"mean\", \"std\"))\n",
    "    # err_img_node.addfilter(Clip(\"min_val\", \"max_val\"))\n",
    "    # return err_root_node"
   ]
  },
  {
   "cell_type": "markdown",
   "metadata": {
    "collapsed": false,
    "papermill": {
     "duration": 0.014325,
     "end_time": "2019-11-21T22:11:48.032544",
     "exception": false,
     "start_time": "2019-11-21T22:11:48.018219",
     "status": "completed"
    },
    "pycharm": {
     "name": "#%% md\n"
    },
    "tags": []
   },
   "source": []
  },
  {
   "cell_type": "code",
   "execution_count": 5,
   "metadata": {
    "collapsed": false,
    "papermill": {
     "duration": 0.02697,
     "end_time": "2019-11-21T22:11:48.074575",
     "exception": false,
     "start_time": "2019-11-21T22:11:48.047605",
     "status": "completed"
    },
    "pycharm": {
     "is_executing": false,
     "name": "#%%\n"
    },
    "tags": []
   },
   "outputs": [],
   "source": [
    "def get_err_params_list(data):\n",
    "    angle_steps = np.linspace(0, 180, num=6)\n",
    "    err_params_list = [{\"max_angle\": a} for a in angle_steps]\n",
    "    return err_params_list\n",
    "    # min_val = np.amin(data)\n",
    "    # max_val = np.amax(data)\n",
    "    # std_steps = np.round(np.linspace(0, max_val, num=6), 3)\n",
    "    # err_params_list = [{\"mean\": 0, \"std\": std, \"min_val\": min_val, \"max_val\": max_val} for std in std_steps]\n",
    "    # return err_params_list"
   ]
  },
  {
   "cell_type": "markdown",
   "metadata": {
    "collapsed": false,
    "papermill": {
     "duration": 0.014719,
     "end_time": "2019-11-21T22:11:48.104668",
     "exception": false,
     "start_time": "2019-11-21T22:11:48.089949",
     "status": "completed"
    },
    "pycharm": {
     "name": "#%% md\n"
    },
    "tags": []
   },
   "source": []
  },
  {
   "cell_type": "code",
   "execution_count": 6,
   "metadata": {
    "collapsed": false,
    "papermill": {
     "duration": 0.027027,
     "end_time": "2019-11-21T22:11:48.146797",
     "exception": false,
     "start_time": "2019-11-21T22:11:48.119770",
     "status": "completed"
    },
    "pycharm": {
     "is_executing": false,
     "name": "#%%\n"
    },
    "tags": []
   },
   "outputs": [],
   "source": [
    "class Preprocessor:\n",
    "\n",
    "    def run(self, train_data, test_data, params):\n",
    "        return np.round(train_data).astype(np.uint8), np.round(test_data).astype(np.uint8), {}"
   ]
  },
  {
   "cell_type": "markdown",
   "metadata": {
    "collapsed": false,
    "papermill": {
     "duration": 0.014075,
     "end_time": "2019-11-21T22:11:48.175326",
     "exception": false,
     "start_time": "2019-11-21T22:11:48.161251",
     "status": "completed"
    },
    "pycharm": {
     "name": "#%% md\n"
    },
    "tags": []
   },
   "source": []
  },
  {
   "cell_type": "code",
   "execution_count": 7,
   "metadata": {
    "collapsed": false,
    "papermill": {
     "duration": 0.074355,
     "end_time": "2019-11-21T22:11:48.264511",
     "exception": false,
     "start_time": "2019-11-21T22:11:48.190156",
     "status": "completed"
    },
    "pycharm": {
     "is_executing": false,
     "name": "#%%\n"
    },
    "tags": []
   },
   "outputs": [],
   "source": [
    "class AbstractModel(ABC):\n",
    "\n",
    "    def __init__(self):\n",
    "        self.time_limit_mins = 60*3\n",
    "        self.seed = 42\n",
    "        self.random_state = RandomState(self.seed)\n",
    "        np.random.seed(self.seed)\n",
    "\n",
    "    @abstractmethod\n",
    "    def get_fitted_model(self, train_data, train_labels, params):\n",
    "        pass\n",
    "\n",
    "    @abstractmethod\n",
    "    def get_accuracy(self, data, labels, fitted_model, params):\n",
    "        pass\n",
    "\n",
    "    @abstractmethod\n",
    "    def get_best_pipeline(self, fitted_model):\n",
    "        pass\n",
    "\n",
    "    def run(self, train_data, test_data, params):\n",
    "        train_labels = params[\"train_labels\"]\n",
    "        test_labels = params[\"test_labels\"]\n",
    "\n",
    "        fitted_model = self.get_fitted_model(train_data, train_labels, params)\n",
    "\n",
    "        results = {\n",
    "            \"test_acc\": self.get_accuracy(test_data, test_labels, fitted_model, params),\n",
    "            \"train_acc\": self.get_accuracy(train_data, train_labels, fitted_model, params),\n",
    "            \"best_pipeline\": self.get_best_pipeline(fitted_model),\n",
    "        }\n",
    "        print(type(fitted_model))\n",
    "        print(results[\"test_acc\"])\n",
    "        return results\n",
    "\n",
    "class TPOTClassifierModel(AbstractModel):\n",
    "\n",
    "    def __init__(self):\n",
    "        super().__init__()\n",
    "\n",
    "    def get_fitted_model(self, train_data, train_labels, params):\n",
    "        return TPOTClassifier(\n",
    "            max_time_mins=self.time_limit_mins,\n",
    "            max_eval_time_mins=self.time_limit_mins,\n",
    "            n_jobs=-1,\n",
    "            random_state=self.seed,\n",
    "            verbosity=1,\n",
    "        ).fit(train_data, train_labels)\n",
    "    \n",
    "    def get_accuracy(self, data, labels, fitted_model, params):\n",
    "        return round(fitted_model.score(data, labels), 3)\n",
    "\n",
    "    def get_best_pipeline(self, fitted_model):\n",
    "        return [step[1] for step in fitted_model.fitted_pipeline_.steps]\n",
    "\n",
    "class H2OAutoMLModel(AbstractModel):\n",
    "\n",
    "    def __init__(self):\n",
    "        super().__init__()\n",
    "        h2o.init(name=f\"#{rn.SystemRandom().randint(1, 2**30)}\", nthreads=48)\n",
    "        h2o.no_progress()\n",
    "\n",
    "    def get_fitted_model(self, train_data, train_labels, params):\n",
    "        train_data = h2o.H2OFrame(np.concatenate((train_data, train_labels.reshape(-1, 1)), axis=1))\n",
    "        x = np.array(train_data.columns)[:-1].tolist()\n",
    "        y = np.array(train_data.columns)[-1].tolist()\n",
    "        train_data[y] = train_data[y].asfactor()\n",
    "        aml = H2OAutoML(max_runtime_secs=60*self.time_limit_mins, seed=self.seed)\n",
    "        aml.train(x=x, y=y, training_frame=train_data)\n",
    "        return aml\n",
    "\n",
    "    def get_accuracy(self, data, labels, fitted_model, params):\n",
    "        data = h2o.H2OFrame(np.concatenate((data, labels.reshape(-1, 1)), axis=1))\n",
    "        y = np.array(data.columns)[-1].tolist()\n",
    "        data[y] = data[y].asfactor()\n",
    "        pred = fitted_model.predict(data).as_data_frame(header=False)[\"predict\"].values.astype(int)\n",
    "        return np.round(np.mean(pred == labels), 3)\n",
    "\n",
    "    def get_best_pipeline(self, fitted_model):\n",
    "        leader_params = fitted_model.leader.get_params()\n",
    "        best_pipeline = [leader_params[\"model_id\"][\"actual_value\"][\"name\"]]\n",
    "        if \"base_models\" in leader_params:\n",
    "            for base_model in leader_params[\"base_models\"][\"actual_value\"]:\n",
    "                best_pipeline.append(base_model[\"name\"])\n",
    "        h2o.cluster().shutdown()\n",
    "        return best_pipeline\n",
    "\n",
    "class AutoKerasModel(AbstractModel):\n",
    "\n",
    "    def __init__(self):\n",
    "        super().__init__()\n",
    "        import tensorflow as tf\n",
    "        tf.set_random_seed(self.seed)\n",
    "        import torch\n",
    "        torch.multiprocessing.set_sharing_strategy(\"file_system\")\n",
    "        torch.manual_seed(self.seed)\n",
    "\n",
    "    def get_fitted_model(self, x_train, y_train, params):\n",
    "        s = np.sqrt(x_train.shape[1]).astype(int)\n",
    "        x_train = x_train.reshape((len(x_train), s, s, 1))\n",
    "        clf = ak.ImageClassifier(augment=False, path=generate_tmpdir(), verbose=False)\n",
    "        clf.fit(x_train, y_train, time_limit=60*self.time_limit_mins)\n",
    "        return clf\n",
    "\n",
    "    def get_accuracy(self, x, y, clf, params):\n",
    "        s = np.sqrt(x.shape[1]).astype(int)\n",
    "        x = x.reshape((len(x), s, s, 1))\n",
    "        y_pred = clf.predict(x)\n",
    "        return np.round(accuracy_score(y_true=y, y_pred=y_pred), 3)\n",
    "\n",
    "    def get_best_pipeline(self, clf):\n",
    "        return [m for i, m in enumerate(clf.cnn.best_model.produce_model().modules()) if i > 0]"
   ]
  },
  {
   "cell_type": "markdown",
   "metadata": {
    "collapsed": false,
    "papermill": {
     "duration": 0.021899,
     "end_time": "2019-11-21T22:11:48.310987",
     "exception": false,
     "start_time": "2019-11-21T22:11:48.289088",
     "status": "completed"
    },
    "pycharm": {
     "name": "#%% md\n"
    },
    "tags": []
   },
   "source": []
  },
  {
   "cell_type": "code",
   "execution_count": 8,
   "metadata": {
    "collapsed": false,
    "papermill": {
     "duration": 0.031632,
     "end_time": "2019-11-21T22:11:48.363347",
     "exception": false,
     "start_time": "2019-11-21T22:11:48.331715",
     "status": "completed"
    },
    "pycharm": {
     "is_executing": false,
     "name": "#%%\n"
    },
    "tags": []
   },
   "outputs": [],
   "source": [
    "def get_model_params_dict_list(train_labels, test_labels):\n",
    "    model_params_base = {\"train_labels\": train_labels, \"test_labels\": test_labels}\n",
    "    return [\n",
    "        {\n",
    "            \"model\": TPOTClassifierModel,\n",
    "            \"params_list\": [{**model_params_base}],\n",
    "            \"use_clean_train_data\": False\n",
    "        },\n",
    "        {\n",
    "            \"model\": TPOTClassifierModel,\n",
    "            \"params_list\": [{**model_params_base}],\n",
    "            \"use_clean_train_data\": True\n",
    "        },\n",
    "        {\n",
    "            \"model\": H2OAutoMLModel,\n",
    "            \"params_list\": [{**model_params_base}],\n",
    "            \"use_clean_train_data\": False\n",
    "        },\n",
    "        {\n",
    "            \"model\": H2OAutoMLModel,\n",
    "            \"params_list\": [{**model_params_base}],\n",
    "            \"use_clean_train_data\": True\n",
    "        },\n",
    "        {\n",
    "            \"model\": AutoKerasModel,\n",
    "            \"params_list\": [{**model_params_base}],\n",
    "            \"use_clean_train_data\": False\n",
    "        },\n",
    "        {\n",
    "            \"model\": AutoKerasModel,\n",
    "            \"params_list\": [{**model_params_base}],\n",
    "            \"use_clean_train_data\": True\n",
    "        },\n",
    "    ]"
   ]
  },
  {
   "cell_type": "markdown",
   "metadata": {
    "collapsed": false,
    "papermill": {
     "duration": 0.014063,
     "end_time": "2019-11-21T22:11:48.392427",
     "exception": false,
     "start_time": "2019-11-21T22:11:48.378364",
     "status": "completed"
    },
    "pycharm": {
     "is_executing": false,
     "name": "#%% md\n"
    },
    "tags": []
   },
   "source": []
  },
  {
   "cell_type": "code",
   "execution_count": 9,
   "metadata": {
    "collapsed": false,
    "papermill": {
     "duration": 0.026415,
     "end_time": "2019-11-21T22:11:48.433753",
     "exception": false,
     "start_time": "2019-11-21T22:11:48.407338",
     "status": "completed"
    },
    "pycharm": {
     "is_executing": false,
     "name": "#%%\n"
    },
    "tags": []
   },
   "outputs": [],
   "source": [
    "def visualize(df):\n",
    "    visualize_scores(\n",
    "        df,\n",
    "        score_names=[\"test_acc\", \"train_acc\"],\n",
    "        is_higher_score_better=[True, True],\n",
    "        err_param_name=\"max_angle\",\n",
    "        # err_param_name=\"std\",\n",
    "        title=\"Classification scores with added error\"\n",
    "    )\n",
    "    plt.show()"
   ]
  },
  {
   "cell_type": "markdown",
   "metadata": {
    "collapsed": false,
    "papermill": {
     "duration": 0.014208,
     "end_time": "2019-11-21T22:11:48.462142",
     "exception": false,
     "start_time": "2019-11-21T22:11:48.447934",
     "status": "completed"
    },
    "pycharm": {
     "is_executing": false,
     "name": "#%% md\n"
    },
    "tags": []
   },
   "source": []
  },
  {
   "cell_type": "code",
   "execution_count": 10,
   "metadata": {
    "collapsed": false,
    "papermill": {
     "duration": 459932.115345,
     "end_time": "2019-11-27T05:57:20.591791",
     "exception": false,
     "start_time": "2019-11-21T22:11:48.476446",
     "status": "completed"
    },
    "pycharm": {
     "is_executing": false,
     "name": "#%%\n"
    },
    "tags": []
   },
   "outputs": [
    {
     "name": "stderr",
     "output_type": "stream",
     "text": [
      "\r",
      "  0%|          | 0/6 [00:00<?, ?it/s]"
     ]
    },
    {
     "name": "stdout",
     "output_type": "stream",
     "text": [
      "\n"
     ]
    },
    {
     "name": "stdout",
     "output_type": "stream",
     "text": [
      "241.77 minutes have elapsed. TPOT will close down.\n",
      "TPOT closed during evaluation in one generation.\n",
      "WARNING: TPOT may not provide a good pipeline if TPOT is stopped/interrupted in a early generation."
     ]
    },
    {
     "name": "stdout",
     "output_type": "stream",
     "text": [
      "\n"
     ]
    },
    {
     "name": "stdout",
     "output_type": "stream",
     "text": [
      "\n"
     ]
    },
    {
     "name": "stdout",
     "output_type": "stream",
     "text": [
      "\n",
      "TPOT closed prematurely. Will use the current best pipeline."
     ]
    },
    {
     "name": "stdout",
     "output_type": "stream",
     "text": [
      "\n"
     ]
    },
    {
     "name": "stdout",
     "output_type": "stream",
     "text": [
      "Best pipeline:"
     ]
    },
    {
     "name": "stdout",
     "output_type": "stream",
     "text": [
      " "
     ]
    },
    {
     "name": "stdout",
     "output_type": "stream",
     "text": [
      "GradientBoostingClassifier(RFE(input_matrix, criterion=gini, max_features=0.45, n_estimators=100, step=0.8), learning_rate=0.1, max_depth=10, max_features=0.05, min_samples_leaf=11, min_samples_split=9, n_estimators=100, subsample=0.35000000000000003)"
     ]
    },
    {
     "name": "stdout",
     "output_type": "stream",
     "text": [
      "\n"
     ]
    },
    {
     "name": "stdout",
     "output_type": "stream",
     "text": [
      "<class 'tpot.tpot.TPOTClassifier'>"
     ]
    },
    {
     "name": "stdout",
     "output_type": "stream",
     "text": [
      "\n"
     ]
    },
    {
     "name": "stdout",
     "output_type": "stream",
     "text": [
      "0.882"
     ]
    },
    {
     "name": "stdout",
     "output_type": "stream",
     "text": [
      "\n"
     ]
    },
    {
     "name": "stdout",
     "output_type": "stream",
     "text": [
      "\n"
     ]
    },
    {
     "name": "stdout",
     "output_type": "stream",
     "text": [
      "219.92 minutes have elapsed. TPOT will close down.\n",
      "TPOT closed during evaluation in one generation.\n",
      "WARNING: TPOT may not provide a good pipeline if TPOT is stopped/interrupted in a early generation."
     ]
    },
    {
     "name": "stdout",
     "output_type": "stream",
     "text": [
      "\n"
     ]
    },
    {
     "name": "stdout",
     "output_type": "stream",
     "text": [
      "\n"
     ]
    },
    {
     "name": "stdout",
     "output_type": "stream",
     "text": [
      "\n",
      "TPOT closed prematurely. Will use the current best pipeline."
     ]
    },
    {
     "name": "stdout",
     "output_type": "stream",
     "text": [
      "\n"
     ]
    },
    {
     "name": "stdout",
     "output_type": "stream",
     "text": [
      "Best pipeline:"
     ]
    },
    {
     "name": "stdout",
     "output_type": "stream",
     "text": [
      " "
     ]
    },
    {
     "name": "stdout",
     "output_type": "stream",
     "text": [
      "GradientBoostingClassifier(RFE(input_matrix, criterion=gini, max_features=0.45, n_estimators=100, step=0.8), learning_rate=0.1, max_depth=10, max_features=0.05, min_samples_leaf=11, min_samples_split=9, n_estimators=100, subsample=0.35000000000000003)"
     ]
    },
    {
     "name": "stdout",
     "output_type": "stream",
     "text": [
      "\n"
     ]
    },
    {
     "name": "stdout",
     "output_type": "stream",
     "text": [
      "<class 'tpot.tpot.TPOTClassifier'>"
     ]
    },
    {
     "name": "stdout",
     "output_type": "stream",
     "text": [
      "\n"
     ]
    },
    {
     "name": "stdout",
     "output_type": "stream",
     "text": [
      "0.882"
     ]
    },
    {
     "name": "stdout",
     "output_type": "stream",
     "text": [
      "\n"
     ]
    },
    {
     "name": "stdout",
     "output_type": "stream",
     "text": [
      "Checking whether there is an H2O instance running at http://localhost:54321 "
     ]
    },
    {
     "name": "stdout",
     "output_type": "stream",
     "text": [
      "."
     ]
    },
    {
     "name": "stdout",
     "output_type": "stream",
     "text": [
      "."
     ]
    },
    {
     "name": "stdout",
     "output_type": "stream",
     "text": [
      "."
     ]
    },
    {
     "name": "stdout",
     "output_type": "stream",
     "text": [
      "."
     ]
    },
    {
     "name": "stdout",
     "output_type": "stream",
     "text": [
      "."
     ]
    },
    {
     "name": "stdout",
     "output_type": "stream",
     "text": [
      " not found."
     ]
    },
    {
     "name": "stdout",
     "output_type": "stream",
     "text": [
      "\n"
     ]
    },
    {
     "name": "stdout",
     "output_type": "stream",
     "text": [
      "Attempting to start a local H2O server..."
     ]
    },
    {
     "name": "stdout",
     "output_type": "stream",
     "text": [
      "\n"
     ]
    },
    {
     "name": "stdout",
     "output_type": "stream",
     "text": [
      "  Java Version: openjdk version \"11.0.2\" 2019-01-15; OpenJDK Runtime Environment 18.9 (build 11.0.2+9); OpenJDK 64-Bit Server VM 18.9 (build 11.0.2+9, mixed mode)"
     ]
    },
    {
     "name": "stdout",
     "output_type": "stream",
     "text": [
      "\n"
     ]
    },
    {
     "name": "stdout",
     "output_type": "stream",
     "text": [
      "  Starting server from /wrk/users/thalvari/dpEmu-AutoML/venv/lib/python3.6/site-packages/h2o/backend/bin/h2o.jar"
     ]
    },
    {
     "name": "stdout",
     "output_type": "stream",
     "text": [
      "\n"
     ]
    },
    {
     "name": "stdout",
     "output_type": "stream",
     "text": [
      "  Ice root: /wrk/users/thalvari/tmp9uv0o37k"
     ]
    },
    {
     "name": "stdout",
     "output_type": "stream",
     "text": [
      "\n"
     ]
    },
    {
     "name": "stdout",
     "output_type": "stream",
     "text": [
      "  JVM stdout: /wrk/users/thalvari/tmp9uv0o37k/h2o_thalvari_started_from_python.out"
     ]
    },
    {
     "name": "stdout",
     "output_type": "stream",
     "text": [
      "\n"
     ]
    },
    {
     "name": "stdout",
     "output_type": "stream",
     "text": [
      "  JVM stderr: /wrk/users/thalvari/tmp9uv0o37k/h2o_thalvari_started_from_python.err"
     ]
    },
    {
     "name": "stdout",
     "output_type": "stream",
     "text": [
      "\n"
     ]
    },
    {
     "name": "stdout",
     "output_type": "stream",
     "text": [
      "  Server is running at http://127.0.0.1:54321"
     ]
    },
    {
     "name": "stdout",
     "output_type": "stream",
     "text": [
      "\n"
     ]
    },
    {
     "name": "stdout",
     "output_type": "stream",
     "text": [
      "Connecting to H2O server at http://127.0.0.1:54321 .."
     ]
    },
    {
     "name": "stdout",
     "output_type": "stream",
     "text": [
      "."
     ]
    },
    {
     "name": "stdout",
     "output_type": "stream",
     "text": [
      " successful."
     ]
    },
    {
     "name": "stdout",
     "output_type": "stream",
     "text": [
      "\n"
     ]
    },
    {
     "data": {
      "text/html": [
       "<div style=\"overflow:auto\"><table style=\"width:50%\"><tr><td>H2O cluster uptime:</td>\n",
       "<td>01 secs</td></tr>\n",
       "<tr><td>H2O cluster timezone:</td>\n",
       "<td>Europe/Helsinki</td></tr>\n",
       "<tr><td>H2O data parsing timezone:</td>\n",
       "<td>UTC</td></tr>\n",
       "<tr><td>H2O cluster version:</td>\n",
       "<td>3.26.0.10</td></tr>\n",
       "<tr><td>H2O cluster version age:</td>\n",
       "<td>14 days, 21 hours and 30 minutes </td></tr>\n",
       "<tr><td>H2O cluster name:</td>\n",
       "<td>#135838745</td></tr>\n",
       "<tr><td>H2O cluster total nodes:</td>\n",
       "<td>1</td></tr>\n",
       "<tr><td>H2O cluster free memory:</td>\n",
       "<td>29.97 Gb</td></tr>\n",
       "<tr><td>H2O cluster total cores:</td>\n",
       "<td>96</td></tr>\n",
       "<tr><td>H2O cluster allowed cores:</td>\n",
       "<td>48</td></tr>\n",
       "<tr><td>H2O cluster status:</td>\n",
       "<td>accepting new members, healthy</td></tr>\n",
       "<tr><td>H2O connection url:</td>\n",
       "<td>http://127.0.0.1:54321</td></tr>\n",
       "<tr><td>H2O connection proxy:</td>\n",
       "<td>{'http': None, 'https': None}</td></tr>\n",
       "<tr><td>H2O internal security:</td>\n",
       "<td>False</td></tr>\n",
       "<tr><td>H2O API Extensions:</td>\n",
       "<td>Amazon S3, XGBoost, Algos, AutoML, Core V3, TargetEncoder, Core V4</td></tr>\n",
       "<tr><td>Python version:</td>\n",
       "<td>3.6.6 final</td></tr></table></div>"
      ],
      "text/plain": [
       "--------------------------  ------------------------------------------------------------------\n",
       "H2O cluster uptime:         01 secs\n",
       "H2O cluster timezone:       Europe/Helsinki\n",
       "H2O data parsing timezone:  UTC\n",
       "H2O cluster version:        3.26.0.10\n",
       "H2O cluster version age:    14 days, 21 hours and 30 minutes\n",
       "H2O cluster name:           #135838745\n",
       "H2O cluster total nodes:    1\n",
       "H2O cluster free memory:    29.97 Gb\n",
       "H2O cluster total cores:    96\n",
       "H2O cluster allowed cores:  48\n",
       "H2O cluster status:         accepting new members, healthy\n",
       "H2O connection url:         http://127.0.0.1:54321\n",
       "H2O connection proxy:       {'http': None, 'https': None}\n",
       "H2O internal security:      False\n",
       "H2O API Extensions:         Amazon S3, XGBoost, Algos, AutoML, Core V3, TargetEncoder, Core V4\n",
       "Python version:             3.6.6 final\n",
       "--------------------------  ------------------------------------------------------------------"
      ]
     },
     "metadata": {},
     "output_type": "display_data"
    },
    {
     "name": "stdout",
     "output_type": "stream",
     "text": [
      "H2O session _sid_aedf closed."
     ]
    },
    {
     "name": "stdout",
     "output_type": "stream",
     "text": [
      "\n"
     ]
    },
    {
     "name": "stdout",
     "output_type": "stream",
     "text": [
      "<class 'h2o.automl.autoh2o.H2OAutoML'>"
     ]
    },
    {
     "name": "stdout",
     "output_type": "stream",
     "text": [
      "\n"
     ]
    },
    {
     "name": "stdout",
     "output_type": "stream",
     "text": [
      "0.9"
     ]
    },
    {
     "name": "stdout",
     "output_type": "stream",
     "text": [
      "\n"
     ]
    },
    {
     "name": "stdout",
     "output_type": "stream",
     "text": [
      "Checking whether there is an H2O instance running at http://localhost:54321 "
     ]
    },
    {
     "name": "stdout",
     "output_type": "stream",
     "text": [
      "."
     ]
    },
    {
     "name": "stdout",
     "output_type": "stream",
     "text": [
      "."
     ]
    },
    {
     "name": "stdout",
     "output_type": "stream",
     "text": [
      "."
     ]
    },
    {
     "name": "stdout",
     "output_type": "stream",
     "text": [
      "."
     ]
    },
    {
     "name": "stdout",
     "output_type": "stream",
     "text": [
      "."
     ]
    },
    {
     "name": "stdout",
     "output_type": "stream",
     "text": [
      " not found."
     ]
    },
    {
     "name": "stdout",
     "output_type": "stream",
     "text": [
      "\n"
     ]
    },
    {
     "name": "stdout",
     "output_type": "stream",
     "text": [
      "Attempting to start a local H2O server..."
     ]
    },
    {
     "name": "stdout",
     "output_type": "stream",
     "text": [
      "\n"
     ]
    },
    {
     "name": "stdout",
     "output_type": "stream",
     "text": [
      "  Java Version: openjdk version \"11.0.2\" 2019-01-15; OpenJDK Runtime Environment 18.9 (build 11.0.2+9); OpenJDK 64-Bit Server VM 18.9 (build 11.0.2+9, mixed mode)"
     ]
    },
    {
     "name": "stdout",
     "output_type": "stream",
     "text": [
      "\n"
     ]
    },
    {
     "name": "stdout",
     "output_type": "stream",
     "text": [
      "  Starting server from /wrk/users/thalvari/dpEmu-AutoML/venv/lib/python3.6/site-packages/h2o/backend/bin/h2o.jar"
     ]
    },
    {
     "name": "stdout",
     "output_type": "stream",
     "text": [
      "\n"
     ]
    },
    {
     "name": "stdout",
     "output_type": "stream",
     "text": [
      "  Ice root: /wrk/users/thalvari/tmpekzwu9u0"
     ]
    },
    {
     "name": "stdout",
     "output_type": "stream",
     "text": [
      "\n"
     ]
    },
    {
     "name": "stdout",
     "output_type": "stream",
     "text": [
      "  JVM stdout: /wrk/users/thalvari/tmpekzwu9u0/h2o_thalvari_started_from_python.out"
     ]
    },
    {
     "name": "stdout",
     "output_type": "stream",
     "text": [
      "\n"
     ]
    },
    {
     "name": "stdout",
     "output_type": "stream",
     "text": [
      "  JVM stderr: /wrk/users/thalvari/tmpekzwu9u0/h2o_thalvari_started_from_python.err"
     ]
    },
    {
     "name": "stdout",
     "output_type": "stream",
     "text": [
      "\n"
     ]
    },
    {
     "name": "stdout",
     "output_type": "stream",
     "text": [
      "  Server is running at http://127.0.0.1:54321"
     ]
    },
    {
     "name": "stdout",
     "output_type": "stream",
     "text": [
      "\n"
     ]
    },
    {
     "name": "stdout",
     "output_type": "stream",
     "text": [
      "Connecting to H2O server at http://127.0.0.1:54321 .."
     ]
    },
    {
     "name": "stdout",
     "output_type": "stream",
     "text": [
      "."
     ]
    },
    {
     "name": "stdout",
     "output_type": "stream",
     "text": [
      " successful."
     ]
    },
    {
     "name": "stdout",
     "output_type": "stream",
     "text": [
      "\n"
     ]
    },
    {
     "data": {
      "text/html": [
       "<div style=\"overflow:auto\"><table style=\"width:50%\"><tr><td>H2O cluster uptime:</td>\n",
       "<td>01 secs</td></tr>\n",
       "<tr><td>H2O cluster timezone:</td>\n",
       "<td>Europe/Helsinki</td></tr>\n",
       "<tr><td>H2O data parsing timezone:</td>\n",
       "<td>UTC</td></tr>\n",
       "<tr><td>H2O cluster version:</td>\n",
       "<td>3.26.0.10</td></tr>\n",
       "<tr><td>H2O cluster version age:</td>\n",
       "<td>15 days </td></tr>\n",
       "<tr><td>H2O cluster name:</td>\n",
       "<td>#139556012</td></tr>\n",
       "<tr><td>H2O cluster total nodes:</td>\n",
       "<td>1</td></tr>\n",
       "<tr><td>H2O cluster free memory:</td>\n",
       "<td>29.97 Gb</td></tr>\n",
       "<tr><td>H2O cluster total cores:</td>\n",
       "<td>96</td></tr>\n",
       "<tr><td>H2O cluster allowed cores:</td>\n",
       "<td>48</td></tr>\n",
       "<tr><td>H2O cluster status:</td>\n",
       "<td>accepting new members, healthy</td></tr>\n",
       "<tr><td>H2O connection url:</td>\n",
       "<td>http://127.0.0.1:54321</td></tr>\n",
       "<tr><td>H2O connection proxy:</td>\n",
       "<td>{'http': None, 'https': None}</td></tr>\n",
       "<tr><td>H2O internal security:</td>\n",
       "<td>False</td></tr>\n",
       "<tr><td>H2O API Extensions:</td>\n",
       "<td>Amazon S3, XGBoost, Algos, AutoML, Core V3, TargetEncoder, Core V4</td></tr>\n",
       "<tr><td>Python version:</td>\n",
       "<td>3.6.6 final</td></tr></table></div>"
      ],
      "text/plain": [
       "--------------------------  ------------------------------------------------------------------\n",
       "H2O cluster uptime:         01 secs\n",
       "H2O cluster timezone:       Europe/Helsinki\n",
       "H2O data parsing timezone:  UTC\n",
       "H2O cluster version:        3.26.0.10\n",
       "H2O cluster version age:    15 days\n",
       "H2O cluster name:           #139556012\n",
       "H2O cluster total nodes:    1\n",
       "H2O cluster free memory:    29.97 Gb\n",
       "H2O cluster total cores:    96\n",
       "H2O cluster allowed cores:  48\n",
       "H2O cluster status:         accepting new members, healthy\n",
       "H2O connection url:         http://127.0.0.1:54321\n",
       "H2O connection proxy:       {'http': None, 'https': None}\n",
       "H2O internal security:      False\n",
       "H2O API Extensions:         Amazon S3, XGBoost, Algos, AutoML, Core V3, TargetEncoder, Core V4\n",
       "Python version:             3.6.6 final\n",
       "--------------------------  ------------------------------------------------------------------"
      ]
     },
     "metadata": {},
     "output_type": "display_data"
    },
    {
     "name": "stdout",
     "output_type": "stream",
     "text": [
      "H2O session _sid_bebd closed."
     ]
    },
    {
     "name": "stdout",
     "output_type": "stream",
     "text": [
      "\n"
     ]
    },
    {
     "name": "stdout",
     "output_type": "stream",
     "text": [
      "<class 'h2o.automl.autoh2o.H2OAutoML'>"
     ]
    },
    {
     "name": "stdout",
     "output_type": "stream",
     "text": [
      "\n"
     ]
    },
    {
     "name": "stdout",
     "output_type": "stream",
     "text": [
      "0.901"
     ]
    },
    {
     "name": "stdout",
     "output_type": "stream",
     "text": [
      "\n"
     ]
    },
    {
     "name": "stderr",
     "output_type": "stream",
     "text": [
      "WARNING:root:TimeoutError occurred at train() : "
     ]
    },
    {
     "name": "stderr",
     "output_type": "stream",
     "text": [
      "\n"
     ]
    },
    {
     "name": "stdout",
     "output_type": "stream",
     "text": [
      "<class 'autokeras.image.image_supervised.ImageClassifier'>"
     ]
    },
    {
     "name": "stdout",
     "output_type": "stream",
     "text": [
      "\n"
     ]
    },
    {
     "name": "stdout",
     "output_type": "stream",
     "text": [
      "0.887"
     ]
    },
    {
     "name": "stdout",
     "output_type": "stream",
     "text": [
      "\n"
     ]
    },
    {
     "name": "stderr",
     "output_type": "stream",
     "text": [
      "WARNING:root:TimeoutError occurred at train() : "
     ]
    },
    {
     "name": "stderr",
     "output_type": "stream",
     "text": [
      "\n"
     ]
    },
    {
     "name": "stdout",
     "output_type": "stream",
     "text": [
      "<class 'autokeras.image.image_supervised.ImageClassifier'>"
     ]
    },
    {
     "name": "stdout",
     "output_type": "stream",
     "text": [
      "\n"
     ]
    },
    {
     "name": "stdout",
     "output_type": "stream",
     "text": [
      "0.887"
     ]
    },
    {
     "name": "stdout",
     "output_type": "stream",
     "text": [
      "\n"
     ]
    },
    {
     "name": "stderr",
     "output_type": "stream",
     "text": [
      "\r",
      " 17%|█▋        | 1/6 [21:58:33<109:52:46, 79113.31s/it]"
     ]
    },
    {
     "name": "stdout",
     "output_type": "stream",
     "text": [
      "\n"
     ]
    },
    {
     "name": "stdout",
     "output_type": "stream",
     "text": [
      "242.98 minutes have elapsed. TPOT will close down.\n",
      "TPOT closed during evaluation in one generation.\n",
      "WARNING: TPOT may not provide a good pipeline if TPOT is stopped/interrupted in a early generation."
     ]
    },
    {
     "name": "stdout",
     "output_type": "stream",
     "text": [
      "\n"
     ]
    },
    {
     "name": "stdout",
     "output_type": "stream",
     "text": [
      "\n"
     ]
    },
    {
     "name": "stdout",
     "output_type": "stream",
     "text": [
      "\n",
      "TPOT closed prematurely. Will use the current best pipeline."
     ]
    },
    {
     "name": "stdout",
     "output_type": "stream",
     "text": [
      "\n"
     ]
    },
    {
     "name": "stdout",
     "output_type": "stream",
     "text": [
      "Best pipeline:"
     ]
    },
    {
     "name": "stdout",
     "output_type": "stream",
     "text": [
      " "
     ]
    },
    {
     "name": "stdout",
     "output_type": "stream",
     "text": [
      "RandomForestClassifier(input_matrix, bootstrap=False, criterion=entropy, max_features=0.55, min_samples_leaf=1, min_samples_split=6, n_estimators=100)"
     ]
    },
    {
     "name": "stdout",
     "output_type": "stream",
     "text": [
      "\n"
     ]
    },
    {
     "name": "stdout",
     "output_type": "stream",
     "text": [
      "<class 'tpot.tpot.TPOTClassifier'>"
     ]
    },
    {
     "name": "stdout",
     "output_type": "stream",
     "text": [
      "\n"
     ]
    },
    {
     "name": "stdout",
     "output_type": "stream",
     "text": [
      "0.834"
     ]
    },
    {
     "name": "stdout",
     "output_type": "stream",
     "text": [
      "\n"
     ]
    },
    {
     "name": "stdout",
     "output_type": "stream",
     "text": [
      "\n"
     ]
    },
    {
     "name": "stdout",
     "output_type": "stream",
     "text": [
      "234.98 minutes have elapsed. TPOT will close down.\n",
      "TPOT closed during evaluation in one generation.\n",
      "WARNING: TPOT may not provide a good pipeline if TPOT is stopped/interrupted in a early generation."
     ]
    },
    {
     "name": "stdout",
     "output_type": "stream",
     "text": [
      "\n"
     ]
    },
    {
     "name": "stdout",
     "output_type": "stream",
     "text": [
      "\n"
     ]
    },
    {
     "name": "stdout",
     "output_type": "stream",
     "text": [
      "\n",
      "TPOT closed prematurely. Will use the current best pipeline."
     ]
    },
    {
     "name": "stdout",
     "output_type": "stream",
     "text": [
      "\n"
     ]
    },
    {
     "name": "stdout",
     "output_type": "stream",
     "text": [
      "Best pipeline:"
     ]
    },
    {
     "name": "stdout",
     "output_type": "stream",
     "text": [
      " "
     ]
    },
    {
     "name": "stdout",
     "output_type": "stream",
     "text": [
      "GradientBoostingClassifier(RFE(input_matrix, criterion=gini, max_features=0.45, n_estimators=100, step=0.8), learning_rate=0.1, max_depth=10, max_features=0.05, min_samples_leaf=11, min_samples_split=9, n_estimators=100, subsample=0.35000000000000003)"
     ]
    },
    {
     "name": "stdout",
     "output_type": "stream",
     "text": [
      "\n"
     ]
    },
    {
     "name": "stdout",
     "output_type": "stream",
     "text": [
      "<class 'tpot.tpot.TPOTClassifier'>"
     ]
    },
    {
     "name": "stdout",
     "output_type": "stream",
     "text": [
      "\n"
     ]
    },
    {
     "name": "stdout",
     "output_type": "stream",
     "text": [
      "0.56"
     ]
    },
    {
     "name": "stdout",
     "output_type": "stream",
     "text": [
      "\n"
     ]
    },
    {
     "name": "stdout",
     "output_type": "stream",
     "text": [
      "Checking whether there is an H2O instance running at http://localhost:54321 "
     ]
    },
    {
     "name": "stdout",
     "output_type": "stream",
     "text": [
      "."
     ]
    },
    {
     "name": "stdout",
     "output_type": "stream",
     "text": [
      "."
     ]
    },
    {
     "name": "stdout",
     "output_type": "stream",
     "text": [
      "."
     ]
    },
    {
     "name": "stdout",
     "output_type": "stream",
     "text": [
      "."
     ]
    },
    {
     "name": "stdout",
     "output_type": "stream",
     "text": [
      "."
     ]
    },
    {
     "name": "stdout",
     "output_type": "stream",
     "text": [
      " not found."
     ]
    },
    {
     "name": "stdout",
     "output_type": "stream",
     "text": [
      "\n"
     ]
    },
    {
     "name": "stdout",
     "output_type": "stream",
     "text": [
      "Attempting to start a local H2O server..."
     ]
    },
    {
     "name": "stdout",
     "output_type": "stream",
     "text": [
      "\n"
     ]
    },
    {
     "name": "stdout",
     "output_type": "stream",
     "text": [
      "  Java Version: openjdk version \"11.0.2\" 2019-01-15; OpenJDK Runtime Environment 18.9 (build 11.0.2+9); OpenJDK 64-Bit Server VM 18.9 (build 11.0.2+9, mixed mode)"
     ]
    },
    {
     "name": "stdout",
     "output_type": "stream",
     "text": [
      "\n"
     ]
    },
    {
     "name": "stdout",
     "output_type": "stream",
     "text": [
      "  Starting server from /wrk/users/thalvari/dpEmu-AutoML/venv/lib/python3.6/site-packages/h2o/backend/bin/h2o.jar"
     ]
    },
    {
     "name": "stdout",
     "output_type": "stream",
     "text": [
      "\n"
     ]
    },
    {
     "name": "stdout",
     "output_type": "stream",
     "text": [
      "  Ice root: /wrk/users/thalvari/tmpexhm5ahk"
     ]
    },
    {
     "name": "stdout",
     "output_type": "stream",
     "text": [
      "\n"
     ]
    },
    {
     "name": "stdout",
     "output_type": "stream",
     "text": [
      "  JVM stdout: /wrk/users/thalvari/tmpexhm5ahk/h2o_thalvari_started_from_python.out"
     ]
    },
    {
     "name": "stdout",
     "output_type": "stream",
     "text": [
      "\n"
     ]
    },
    {
     "name": "stdout",
     "output_type": "stream",
     "text": [
      "  JVM stderr: /wrk/users/thalvari/tmpexhm5ahk/h2o_thalvari_started_from_python.err"
     ]
    },
    {
     "name": "stdout",
     "output_type": "stream",
     "text": [
      "\n"
     ]
    },
    {
     "name": "stdout",
     "output_type": "stream",
     "text": [
      "  Server is running at http://127.0.0.1:54321"
     ]
    },
    {
     "name": "stdout",
     "output_type": "stream",
     "text": [
      "\n"
     ]
    },
    {
     "name": "stdout",
     "output_type": "stream",
     "text": [
      "Connecting to H2O server at http://127.0.0.1:54321 .."
     ]
    },
    {
     "name": "stdout",
     "output_type": "stream",
     "text": [
      "."
     ]
    },
    {
     "name": "stdout",
     "output_type": "stream",
     "text": [
      " successful."
     ]
    },
    {
     "name": "stdout",
     "output_type": "stream",
     "text": [
      "\n"
     ]
    },
    {
     "data": {
      "text/html": [
       "<div style=\"overflow:auto\"><table style=\"width:50%\"><tr><td>H2O cluster uptime:</td>\n",
       "<td>02 secs</td></tr>\n",
       "<tr><td>H2O cluster timezone:</td>\n",
       "<td>Europe/Helsinki</td></tr>\n",
       "<tr><td>H2O data parsing timezone:</td>\n",
       "<td>UTC</td></tr>\n",
       "<tr><td>H2O cluster version:</td>\n",
       "<td>3.26.0.10</td></tr>\n",
       "<tr><td>H2O cluster version age:</td>\n",
       "<td>15 days </td></tr>\n",
       "<tr><td>H2O cluster name:</td>\n",
       "<td>#525633083</td></tr>\n",
       "<tr><td>H2O cluster total nodes:</td>\n",
       "<td>1</td></tr>\n",
       "<tr><td>H2O cluster free memory:</td>\n",
       "<td>29.97 Gb</td></tr>\n",
       "<tr><td>H2O cluster total cores:</td>\n",
       "<td>96</td></tr>\n",
       "<tr><td>H2O cluster allowed cores:</td>\n",
       "<td>48</td></tr>\n",
       "<tr><td>H2O cluster status:</td>\n",
       "<td>accepting new members, healthy</td></tr>\n",
       "<tr><td>H2O connection url:</td>\n",
       "<td>http://127.0.0.1:54321</td></tr>\n",
       "<tr><td>H2O connection proxy:</td>\n",
       "<td>{'http': None, 'https': None}</td></tr>\n",
       "<tr><td>H2O internal security:</td>\n",
       "<td>False</td></tr>\n",
       "<tr><td>H2O API Extensions:</td>\n",
       "<td>Amazon S3, XGBoost, Algos, AutoML, Core V3, TargetEncoder, Core V4</td></tr>\n",
       "<tr><td>Python version:</td>\n",
       "<td>3.6.6 final</td></tr></table></div>"
      ],
      "text/plain": [
       "--------------------------  ------------------------------------------------------------------\n",
       "H2O cluster uptime:         02 secs\n",
       "H2O cluster timezone:       Europe/Helsinki\n",
       "H2O data parsing timezone:  UTC\n",
       "H2O cluster version:        3.26.0.10\n",
       "H2O cluster version age:    15 days\n",
       "H2O cluster name:           #525633083\n",
       "H2O cluster total nodes:    1\n",
       "H2O cluster free memory:    29.97 Gb\n",
       "H2O cluster total cores:    96\n",
       "H2O cluster allowed cores:  48\n",
       "H2O cluster status:         accepting new members, healthy\n",
       "H2O connection url:         http://127.0.0.1:54321\n",
       "H2O connection proxy:       {'http': None, 'https': None}\n",
       "H2O internal security:      False\n",
       "H2O API Extensions:         Amazon S3, XGBoost, Algos, AutoML, Core V3, TargetEncoder, Core V4\n",
       "Python version:             3.6.6 final\n",
       "--------------------------  ------------------------------------------------------------------"
      ]
     },
     "metadata": {},
     "output_type": "display_data"
    },
    {
     "name": "stdout",
     "output_type": "stream",
     "text": [
      "H2O session _sid_ac24 closed."
     ]
    },
    {
     "name": "stdout",
     "output_type": "stream",
     "text": [
      "\n"
     ]
    },
    {
     "name": "stdout",
     "output_type": "stream",
     "text": [
      "<class 'h2o.automl.autoh2o.H2OAutoML'>"
     ]
    },
    {
     "name": "stdout",
     "output_type": "stream",
     "text": [
      "\n"
     ]
    },
    {
     "name": "stdout",
     "output_type": "stream",
     "text": [
      "0.857"
     ]
    },
    {
     "name": "stdout",
     "output_type": "stream",
     "text": [
      "\n"
     ]
    },
    {
     "name": "stdout",
     "output_type": "stream",
     "text": [
      "Checking whether there is an H2O instance running at http://localhost:54321 "
     ]
    },
    {
     "name": "stdout",
     "output_type": "stream",
     "text": [
      "."
     ]
    },
    {
     "name": "stdout",
     "output_type": "stream",
     "text": [
      "."
     ]
    },
    {
     "name": "stdout",
     "output_type": "stream",
     "text": [
      "."
     ]
    },
    {
     "name": "stdout",
     "output_type": "stream",
     "text": [
      "."
     ]
    },
    {
     "name": "stdout",
     "output_type": "stream",
     "text": [
      "."
     ]
    },
    {
     "name": "stdout",
     "output_type": "stream",
     "text": [
      " not found."
     ]
    },
    {
     "name": "stdout",
     "output_type": "stream",
     "text": [
      "\n"
     ]
    },
    {
     "name": "stdout",
     "output_type": "stream",
     "text": [
      "Attempting to start a local H2O server..."
     ]
    },
    {
     "name": "stdout",
     "output_type": "stream",
     "text": [
      "\n"
     ]
    },
    {
     "name": "stdout",
     "output_type": "stream",
     "text": [
      "  Java Version: openjdk version \"11.0.2\" 2019-01-15; OpenJDK Runtime Environment 18.9 (build 11.0.2+9); OpenJDK 64-Bit Server VM 18.9 (build 11.0.2+9, mixed mode)"
     ]
    },
    {
     "name": "stdout",
     "output_type": "stream",
     "text": [
      "\n"
     ]
    },
    {
     "name": "stdout",
     "output_type": "stream",
     "text": [
      "  Starting server from /wrk/users/thalvari/dpEmu-AutoML/venv/lib/python3.6/site-packages/h2o/backend/bin/h2o.jar"
     ]
    },
    {
     "name": "stdout",
     "output_type": "stream",
     "text": [
      "\n"
     ]
    },
    {
     "name": "stdout",
     "output_type": "stream",
     "text": [
      "  Ice root: /wrk/users/thalvari/tmpfu6d259z"
     ]
    },
    {
     "name": "stdout",
     "output_type": "stream",
     "text": [
      "\n"
     ]
    },
    {
     "name": "stdout",
     "output_type": "stream",
     "text": [
      "  JVM stdout: /wrk/users/thalvari/tmpfu6d259z/h2o_thalvari_started_from_python.out"
     ]
    },
    {
     "name": "stdout",
     "output_type": "stream",
     "text": [
      "\n"
     ]
    },
    {
     "name": "stdout",
     "output_type": "stream",
     "text": [
      "  JVM stderr: /wrk/users/thalvari/tmpfu6d259z/h2o_thalvari_started_from_python.err"
     ]
    },
    {
     "name": "stdout",
     "output_type": "stream",
     "text": [
      "\n"
     ]
    },
    {
     "name": "stdout",
     "output_type": "stream",
     "text": [
      "  Server is running at http://127.0.0.1:54321"
     ]
    },
    {
     "name": "stdout",
     "output_type": "stream",
     "text": [
      "\n"
     ]
    },
    {
     "name": "stdout",
     "output_type": "stream",
     "text": [
      "Connecting to H2O server at http://127.0.0.1:54321 .."
     ]
    },
    {
     "name": "stdout",
     "output_type": "stream",
     "text": [
      "."
     ]
    },
    {
     "name": "stdout",
     "output_type": "stream",
     "text": [
      " successful."
     ]
    },
    {
     "name": "stdout",
     "output_type": "stream",
     "text": [
      "\n"
     ]
    },
    {
     "data": {
      "text/html": [
       "<div style=\"overflow:auto\"><table style=\"width:50%\"><tr><td>H2O cluster uptime:</td>\n",
       "<td>01 secs</td></tr>\n",
       "<tr><td>H2O cluster timezone:</td>\n",
       "<td>Europe/Helsinki</td></tr>\n",
       "<tr><td>H2O data parsing timezone:</td>\n",
       "<td>UTC</td></tr>\n",
       "<tr><td>H2O cluster version:</td>\n",
       "<td>3.26.0.10</td></tr>\n",
       "<tr><td>H2O cluster version age:</td>\n",
       "<td>15 days </td></tr>\n",
       "<tr><td>H2O cluster name:</td>\n",
       "<td>#119063129</td></tr>\n",
       "<tr><td>H2O cluster total nodes:</td>\n",
       "<td>1</td></tr>\n",
       "<tr><td>H2O cluster free memory:</td>\n",
       "<td>29.97 Gb</td></tr>\n",
       "<tr><td>H2O cluster total cores:</td>\n",
       "<td>96</td></tr>\n",
       "<tr><td>H2O cluster allowed cores:</td>\n",
       "<td>48</td></tr>\n",
       "<tr><td>H2O cluster status:</td>\n",
       "<td>accepting new members, healthy</td></tr>\n",
       "<tr><td>H2O connection url:</td>\n",
       "<td>http://127.0.0.1:54321</td></tr>\n",
       "<tr><td>H2O connection proxy:</td>\n",
       "<td>{'http': None, 'https': None}</td></tr>\n",
       "<tr><td>H2O internal security:</td>\n",
       "<td>False</td></tr>\n",
       "<tr><td>H2O API Extensions:</td>\n",
       "<td>Amazon S3, XGBoost, Algos, AutoML, Core V3, TargetEncoder, Core V4</td></tr>\n",
       "<tr><td>Python version:</td>\n",
       "<td>3.6.6 final</td></tr></table></div>"
      ],
      "text/plain": [
       "--------------------------  ------------------------------------------------------------------\n",
       "H2O cluster uptime:         01 secs\n",
       "H2O cluster timezone:       Europe/Helsinki\n",
       "H2O data parsing timezone:  UTC\n",
       "H2O cluster version:        3.26.0.10\n",
       "H2O cluster version age:    15 days\n",
       "H2O cluster name:           #119063129\n",
       "H2O cluster total nodes:    1\n",
       "H2O cluster free memory:    29.97 Gb\n",
       "H2O cluster total cores:    96\n",
       "H2O cluster allowed cores:  48\n",
       "H2O cluster status:         accepting new members, healthy\n",
       "H2O connection url:         http://127.0.0.1:54321\n",
       "H2O connection proxy:       {'http': None, 'https': None}\n",
       "H2O internal security:      False\n",
       "H2O API Extensions:         Amazon S3, XGBoost, Algos, AutoML, Core V3, TargetEncoder, Core V4\n",
       "Python version:             3.6.6 final\n",
       "--------------------------  ------------------------------------------------------------------"
      ]
     },
     "metadata": {},
     "output_type": "display_data"
    },
    {
     "name": "stdout",
     "output_type": "stream",
     "text": [
      "H2O session _sid_b7ed closed."
     ]
    },
    {
     "name": "stdout",
     "output_type": "stream",
     "text": [
      "\n"
     ]
    },
    {
     "name": "stdout",
     "output_type": "stream",
     "text": [
      "<class 'h2o.automl.autoh2o.H2OAutoML'>"
     ]
    },
    {
     "name": "stdout",
     "output_type": "stream",
     "text": [
      "\n"
     ]
    },
    {
     "name": "stdout",
     "output_type": "stream",
     "text": [
      "0.566"
     ]
    },
    {
     "name": "stdout",
     "output_type": "stream",
     "text": [
      "\n"
     ]
    },
    {
     "name": "stderr",
     "output_type": "stream",
     "text": [
      "WARNING:root:TimeoutError occurred at train() : "
     ]
    },
    {
     "name": "stderr",
     "output_type": "stream",
     "text": [
      "\n"
     ]
    },
    {
     "name": "stdout",
     "output_type": "stream",
     "text": [
      "<class 'autokeras.image.image_supervised.ImageClassifier'>"
     ]
    },
    {
     "name": "stdout",
     "output_type": "stream",
     "text": [
      "\n"
     ]
    },
    {
     "name": "stdout",
     "output_type": "stream",
     "text": [
      "0.868"
     ]
    },
    {
     "name": "stdout",
     "output_type": "stream",
     "text": [
      "\n"
     ]
    },
    {
     "name": "stderr",
     "output_type": "stream",
     "text": [
      "WARNING:root:TimeoutError occurred at train() : "
     ]
    },
    {
     "name": "stderr",
     "output_type": "stream",
     "text": [
      "\n"
     ]
    },
    {
     "name": "stdout",
     "output_type": "stream",
     "text": [
      "<class 'autokeras.image.image_supervised.ImageClassifier'>"
     ]
    },
    {
     "name": "stdout",
     "output_type": "stream",
     "text": [
      "\n"
     ]
    },
    {
     "name": "stdout",
     "output_type": "stream",
     "text": [
      "0.589"
     ]
    },
    {
     "name": "stdout",
     "output_type": "stream",
     "text": [
      "\n"
     ]
    },
    {
     "name": "stderr",
     "output_type": "stream",
     "text": [
      "\r",
      " 33%|███▎      | 2/6 [44:23:35<88:25:59, 79589.87s/it] "
     ]
    },
    {
     "name": "stdout",
     "output_type": "stream",
     "text": [
      "\n"
     ]
    },
    {
     "name": "stdout",
     "output_type": "stream",
     "text": [
      "221.09 minutes have elapsed. TPOT will close down.\n",
      "TPOT closed during evaluation in one generation.\n",
      "WARNING: TPOT may not provide a good pipeline if TPOT is stopped/interrupted in a early generation."
     ]
    },
    {
     "name": "stdout",
     "output_type": "stream",
     "text": [
      "\n"
     ]
    },
    {
     "name": "stdout",
     "output_type": "stream",
     "text": [
      "\n"
     ]
    },
    {
     "name": "stdout",
     "output_type": "stream",
     "text": [
      "\n",
      "TPOT closed prematurely. Will use the current best pipeline."
     ]
    },
    {
     "name": "stdout",
     "output_type": "stream",
     "text": [
      "\n"
     ]
    },
    {
     "name": "stdout",
     "output_type": "stream",
     "text": [
      "Best pipeline:"
     ]
    },
    {
     "name": "stdout",
     "output_type": "stream",
     "text": [
      " "
     ]
    },
    {
     "name": "stdout",
     "output_type": "stream",
     "text": [
      "RandomForestClassifier(input_matrix, bootstrap=True, criterion=gini, max_features=0.1, min_samples_leaf=2, min_samples_split=14, n_estimators=100)"
     ]
    },
    {
     "name": "stdout",
     "output_type": "stream",
     "text": [
      "\n"
     ]
    },
    {
     "name": "stdout",
     "output_type": "stream",
     "text": [
      "<class 'tpot.tpot.TPOTClassifier'>"
     ]
    },
    {
     "name": "stdout",
     "output_type": "stream",
     "text": [
      "\n"
     ]
    },
    {
     "name": "stdout",
     "output_type": "stream",
     "text": [
      "0.794"
     ]
    },
    {
     "name": "stdout",
     "output_type": "stream",
     "text": [
      "\n"
     ]
    },
    {
     "name": "stdout",
     "output_type": "stream",
     "text": [
      "\n"
     ]
    },
    {
     "name": "stdout",
     "output_type": "stream",
     "text": [
      "226.24 minutes have elapsed. TPOT will close down.\n",
      "TPOT closed during evaluation in one generation.\n",
      "WARNING: TPOT may not provide a good pipeline if TPOT is stopped/interrupted in a early generation."
     ]
    },
    {
     "name": "stdout",
     "output_type": "stream",
     "text": [
      "\n"
     ]
    },
    {
     "name": "stdout",
     "output_type": "stream",
     "text": [
      "\n"
     ]
    },
    {
     "name": "stdout",
     "output_type": "stream",
     "text": [
      "\n",
      "TPOT closed prematurely. Will use the current best pipeline."
     ]
    },
    {
     "name": "stdout",
     "output_type": "stream",
     "text": [
      "\n"
     ]
    },
    {
     "name": "stdout",
     "output_type": "stream",
     "text": [
      "Best pipeline:"
     ]
    },
    {
     "name": "stdout",
     "output_type": "stream",
     "text": [
      " "
     ]
    },
    {
     "name": "stdout",
     "output_type": "stream",
     "text": [
      "GradientBoostingClassifier(RFE(input_matrix, criterion=gini, max_features=0.45, n_estimators=100, step=0.8), learning_rate=0.1, max_depth=10, max_features=0.05, min_samples_leaf=11, min_samples_split=9, n_estimators=100, subsample=0.35000000000000003)"
     ]
    },
    {
     "name": "stdout",
     "output_type": "stream",
     "text": [
      "\n"
     ]
    },
    {
     "name": "stdout",
     "output_type": "stream",
     "text": [
      "<class 'tpot.tpot.TPOTClassifier'>"
     ]
    },
    {
     "name": "stdout",
     "output_type": "stream",
     "text": [
      "\n"
     ]
    },
    {
     "name": "stdout",
     "output_type": "stream",
     "text": [
      "0.353"
     ]
    },
    {
     "name": "stdout",
     "output_type": "stream",
     "text": [
      "\n"
     ]
    },
    {
     "name": "stdout",
     "output_type": "stream",
     "text": [
      "Checking whether there is an H2O instance running at http://localhost:54321 "
     ]
    },
    {
     "name": "stdout",
     "output_type": "stream",
     "text": [
      "."
     ]
    },
    {
     "name": "stdout",
     "output_type": "stream",
     "text": [
      "."
     ]
    },
    {
     "name": "stdout",
     "output_type": "stream",
     "text": [
      "."
     ]
    },
    {
     "name": "stdout",
     "output_type": "stream",
     "text": [
      "."
     ]
    },
    {
     "name": "stdout",
     "output_type": "stream",
     "text": [
      "."
     ]
    },
    {
     "name": "stdout",
     "output_type": "stream",
     "text": [
      " not found."
     ]
    },
    {
     "name": "stdout",
     "output_type": "stream",
     "text": [
      "\n"
     ]
    },
    {
     "name": "stdout",
     "output_type": "stream",
     "text": [
      "Attempting to start a local H2O server..."
     ]
    },
    {
     "name": "stdout",
     "output_type": "stream",
     "text": [
      "\n"
     ]
    },
    {
     "name": "stdout",
     "output_type": "stream",
     "text": [
      "  Java Version: openjdk version \"11.0.2\" 2019-01-15; OpenJDK Runtime Environment 18.9 (build 11.0.2+9); OpenJDK 64-Bit Server VM 18.9 (build 11.0.2+9, mixed mode)"
     ]
    },
    {
     "name": "stdout",
     "output_type": "stream",
     "text": [
      "\n"
     ]
    },
    {
     "name": "stdout",
     "output_type": "stream",
     "text": [
      "  Starting server from /wrk/users/thalvari/dpEmu-AutoML/venv/lib/python3.6/site-packages/h2o/backend/bin/h2o.jar"
     ]
    },
    {
     "name": "stdout",
     "output_type": "stream",
     "text": [
      "\n"
     ]
    },
    {
     "name": "stdout",
     "output_type": "stream",
     "text": [
      "  Ice root: /wrk/users/thalvari/tmp52zq5qh9"
     ]
    },
    {
     "name": "stdout",
     "output_type": "stream",
     "text": [
      "\n"
     ]
    },
    {
     "name": "stdout",
     "output_type": "stream",
     "text": [
      "  JVM stdout: /wrk/users/thalvari/tmp52zq5qh9/h2o_thalvari_started_from_python.out"
     ]
    },
    {
     "name": "stdout",
     "output_type": "stream",
     "text": [
      "\n"
     ]
    },
    {
     "name": "stdout",
     "output_type": "stream",
     "text": [
      "  JVM stderr: /wrk/users/thalvari/tmp52zq5qh9/h2o_thalvari_started_from_python.err"
     ]
    },
    {
     "name": "stdout",
     "output_type": "stream",
     "text": [
      "\n"
     ]
    },
    {
     "name": "stdout",
     "output_type": "stream",
     "text": [
      "  Server is running at http://127.0.0.1:54321"
     ]
    },
    {
     "name": "stdout",
     "output_type": "stream",
     "text": [
      "\n"
     ]
    },
    {
     "name": "stdout",
     "output_type": "stream",
     "text": [
      "Connecting to H2O server at http://127.0.0.1:54321 .."
     ]
    },
    {
     "name": "stdout",
     "output_type": "stream",
     "text": [
      "."
     ]
    },
    {
     "name": "stdout",
     "output_type": "stream",
     "text": [
      " successful."
     ]
    },
    {
     "name": "stdout",
     "output_type": "stream",
     "text": [
      "\n"
     ]
    },
    {
     "data": {
      "text/html": [
       "<div style=\"overflow:auto\"><table style=\"width:50%\"><tr><td>H2O cluster uptime:</td>\n",
       "<td>01 secs</td></tr>\n",
       "<tr><td>H2O cluster timezone:</td>\n",
       "<td>Europe/Helsinki</td></tr>\n",
       "<tr><td>H2O data parsing timezone:</td>\n",
       "<td>UTC</td></tr>\n",
       "<tr><td>H2O cluster version:</td>\n",
       "<td>3.26.0.10</td></tr>\n",
       "<tr><td>H2O cluster version age:</td>\n",
       "<td>16 days </td></tr>\n",
       "<tr><td>H2O cluster name:</td>\n",
       "<td>#232303190</td></tr>\n",
       "<tr><td>H2O cluster total nodes:</td>\n",
       "<td>1</td></tr>\n",
       "<tr><td>H2O cluster free memory:</td>\n",
       "<td>29.97 Gb</td></tr>\n",
       "<tr><td>H2O cluster total cores:</td>\n",
       "<td>96</td></tr>\n",
       "<tr><td>H2O cluster allowed cores:</td>\n",
       "<td>48</td></tr>\n",
       "<tr><td>H2O cluster status:</td>\n",
       "<td>accepting new members, healthy</td></tr>\n",
       "<tr><td>H2O connection url:</td>\n",
       "<td>http://127.0.0.1:54321</td></tr>\n",
       "<tr><td>H2O connection proxy:</td>\n",
       "<td>{'http': None, 'https': None}</td></tr>\n",
       "<tr><td>H2O internal security:</td>\n",
       "<td>False</td></tr>\n",
       "<tr><td>H2O API Extensions:</td>\n",
       "<td>Amazon S3, XGBoost, Algos, AutoML, Core V3, TargetEncoder, Core V4</td></tr>\n",
       "<tr><td>Python version:</td>\n",
       "<td>3.6.6 final</td></tr></table></div>"
      ],
      "text/plain": [
       "--------------------------  ------------------------------------------------------------------\n",
       "H2O cluster uptime:         01 secs\n",
       "H2O cluster timezone:       Europe/Helsinki\n",
       "H2O data parsing timezone:  UTC\n",
       "H2O cluster version:        3.26.0.10\n",
       "H2O cluster version age:    16 days\n",
       "H2O cluster name:           #232303190\n",
       "H2O cluster total nodes:    1\n",
       "H2O cluster free memory:    29.97 Gb\n",
       "H2O cluster total cores:    96\n",
       "H2O cluster allowed cores:  48\n",
       "H2O cluster status:         accepting new members, healthy\n",
       "H2O connection url:         http://127.0.0.1:54321\n",
       "H2O connection proxy:       {'http': None, 'https': None}\n",
       "H2O internal security:      False\n",
       "H2O API Extensions:         Amazon S3, XGBoost, Algos, AutoML, Core V3, TargetEncoder, Core V4\n",
       "Python version:             3.6.6 final\n",
       "--------------------------  ------------------------------------------------------------------"
      ]
     },
     "metadata": {},
     "output_type": "display_data"
    },
    {
     "name": "stdout",
     "output_type": "stream",
     "text": [
      "H2O session _sid_863f closed."
     ]
    },
    {
     "name": "stdout",
     "output_type": "stream",
     "text": [
      "\n"
     ]
    },
    {
     "name": "stdout",
     "output_type": "stream",
     "text": [
      "<class 'h2o.automl.autoh2o.H2OAutoML'>"
     ]
    },
    {
     "name": "stdout",
     "output_type": "stream",
     "text": [
      "\n"
     ]
    },
    {
     "name": "stdout",
     "output_type": "stream",
     "text": [
      "0.827"
     ]
    },
    {
     "name": "stdout",
     "output_type": "stream",
     "text": [
      "\n"
     ]
    },
    {
     "name": "stdout",
     "output_type": "stream",
     "text": [
      "Checking whether there is an H2O instance running at http://localhost:54321 "
     ]
    },
    {
     "name": "stdout",
     "output_type": "stream",
     "text": [
      "."
     ]
    },
    {
     "name": "stdout",
     "output_type": "stream",
     "text": [
      "."
     ]
    },
    {
     "name": "stdout",
     "output_type": "stream",
     "text": [
      "."
     ]
    },
    {
     "name": "stdout",
     "output_type": "stream",
     "text": [
      "."
     ]
    },
    {
     "name": "stdout",
     "output_type": "stream",
     "text": [
      "."
     ]
    },
    {
     "name": "stdout",
     "output_type": "stream",
     "text": [
      " not found."
     ]
    },
    {
     "name": "stdout",
     "output_type": "stream",
     "text": [
      "\n"
     ]
    },
    {
     "name": "stdout",
     "output_type": "stream",
     "text": [
      "Attempting to start a local H2O server..."
     ]
    },
    {
     "name": "stdout",
     "output_type": "stream",
     "text": [
      "\n"
     ]
    },
    {
     "name": "stdout",
     "output_type": "stream",
     "text": [
      "  Java Version: openjdk version \"11.0.2\" 2019-01-15; OpenJDK Runtime Environment 18.9 (build 11.0.2+9); OpenJDK 64-Bit Server VM 18.9 (build 11.0.2+9, mixed mode)"
     ]
    },
    {
     "name": "stdout",
     "output_type": "stream",
     "text": [
      "\n"
     ]
    },
    {
     "name": "stdout",
     "output_type": "stream",
     "text": [
      "  Starting server from /wrk/users/thalvari/dpEmu-AutoML/venv/lib/python3.6/site-packages/h2o/backend/bin/h2o.jar"
     ]
    },
    {
     "name": "stdout",
     "output_type": "stream",
     "text": [
      "\n"
     ]
    },
    {
     "name": "stdout",
     "output_type": "stream",
     "text": [
      "  Ice root: /wrk/users/thalvari/tmptrtghx9c"
     ]
    },
    {
     "name": "stdout",
     "output_type": "stream",
     "text": [
      "\n"
     ]
    },
    {
     "name": "stdout",
     "output_type": "stream",
     "text": [
      "  JVM stdout: /wrk/users/thalvari/tmptrtghx9c/h2o_thalvari_started_from_python.out"
     ]
    },
    {
     "name": "stdout",
     "output_type": "stream",
     "text": [
      "\n"
     ]
    },
    {
     "name": "stdout",
     "output_type": "stream",
     "text": [
      "  JVM stderr: /wrk/users/thalvari/tmptrtghx9c/h2o_thalvari_started_from_python.err"
     ]
    },
    {
     "name": "stdout",
     "output_type": "stream",
     "text": [
      "\n"
     ]
    },
    {
     "name": "stdout",
     "output_type": "stream",
     "text": [
      "  Server is running at http://127.0.0.1:54321"
     ]
    },
    {
     "name": "stdout",
     "output_type": "stream",
     "text": [
      "\n"
     ]
    },
    {
     "name": "stdout",
     "output_type": "stream",
     "text": [
      "Connecting to H2O server at http://127.0.0.1:54321 .."
     ]
    },
    {
     "name": "stdout",
     "output_type": "stream",
     "text": [
      "."
     ]
    },
    {
     "name": "stdout",
     "output_type": "stream",
     "text": [
      " successful."
     ]
    },
    {
     "name": "stdout",
     "output_type": "stream",
     "text": [
      "\n"
     ]
    },
    {
     "data": {
      "text/html": [
       "<div style=\"overflow:auto\"><table style=\"width:50%\"><tr><td>H2O cluster uptime:</td>\n",
       "<td>01 secs</td></tr>\n",
       "<tr><td>H2O cluster timezone:</td>\n",
       "<td>Europe/Helsinki</td></tr>\n",
       "<tr><td>H2O data parsing timezone:</td>\n",
       "<td>UTC</td></tr>\n",
       "<tr><td>H2O cluster version:</td>\n",
       "<td>3.26.0.10</td></tr>\n",
       "<tr><td>H2O cluster version age:</td>\n",
       "<td>16 days </td></tr>\n",
       "<tr><td>H2O cluster name:</td>\n",
       "<td>#15411558</td></tr>\n",
       "<tr><td>H2O cluster total nodes:</td>\n",
       "<td>1</td></tr>\n",
       "<tr><td>H2O cluster free memory:</td>\n",
       "<td>29.97 Gb</td></tr>\n",
       "<tr><td>H2O cluster total cores:</td>\n",
       "<td>96</td></tr>\n",
       "<tr><td>H2O cluster allowed cores:</td>\n",
       "<td>48</td></tr>\n",
       "<tr><td>H2O cluster status:</td>\n",
       "<td>accepting new members, healthy</td></tr>\n",
       "<tr><td>H2O connection url:</td>\n",
       "<td>http://127.0.0.1:54321</td></tr>\n",
       "<tr><td>H2O connection proxy:</td>\n",
       "<td>{'http': None, 'https': None}</td></tr>\n",
       "<tr><td>H2O internal security:</td>\n",
       "<td>False</td></tr>\n",
       "<tr><td>H2O API Extensions:</td>\n",
       "<td>Amazon S3, XGBoost, Algos, AutoML, Core V3, TargetEncoder, Core V4</td></tr>\n",
       "<tr><td>Python version:</td>\n",
       "<td>3.6.6 final</td></tr></table></div>"
      ],
      "text/plain": [
       "--------------------------  ------------------------------------------------------------------\n",
       "H2O cluster uptime:         01 secs\n",
       "H2O cluster timezone:       Europe/Helsinki\n",
       "H2O data parsing timezone:  UTC\n",
       "H2O cluster version:        3.26.0.10\n",
       "H2O cluster version age:    16 days\n",
       "H2O cluster name:           #15411558\n",
       "H2O cluster total nodes:    1\n",
       "H2O cluster free memory:    29.97 Gb\n",
       "H2O cluster total cores:    96\n",
       "H2O cluster allowed cores:  48\n",
       "H2O cluster status:         accepting new members, healthy\n",
       "H2O connection url:         http://127.0.0.1:54321\n",
       "H2O connection proxy:       {'http': None, 'https': None}\n",
       "H2O internal security:      False\n",
       "H2O API Extensions:         Amazon S3, XGBoost, Algos, AutoML, Core V3, TargetEncoder, Core V4\n",
       "Python version:             3.6.6 final\n",
       "--------------------------  ------------------------------------------------------------------"
      ]
     },
     "metadata": {},
     "output_type": "display_data"
    },
    {
     "name": "stdout",
     "output_type": "stream",
     "text": [
      "H2O session _sid_a457 closed."
     ]
    },
    {
     "name": "stdout",
     "output_type": "stream",
     "text": [
      "\n"
     ]
    },
    {
     "name": "stdout",
     "output_type": "stream",
     "text": [
      "<class 'h2o.automl.autoh2o.H2OAutoML'>"
     ]
    },
    {
     "name": "stdout",
     "output_type": "stream",
     "text": [
      "\n"
     ]
    },
    {
     "name": "stdout",
     "output_type": "stream",
     "text": [
      "0.358"
     ]
    },
    {
     "name": "stdout",
     "output_type": "stream",
     "text": [
      "\n"
     ]
    },
    {
     "name": "stderr",
     "output_type": "stream",
     "text": [
      "WARNING:root:TimeoutError occurred at train() : "
     ]
    },
    {
     "name": "stderr",
     "output_type": "stream",
     "text": [
      "\n"
     ]
    },
    {
     "name": "stdout",
     "output_type": "stream",
     "text": [
      "<class 'autokeras.image.image_supervised.ImageClassifier'>"
     ]
    },
    {
     "name": "stdout",
     "output_type": "stream",
     "text": [
      "\n"
     ]
    },
    {
     "name": "stdout",
     "output_type": "stream",
     "text": [
      "0.779"
     ]
    },
    {
     "name": "stdout",
     "output_type": "stream",
     "text": [
      "\n"
     ]
    },
    {
     "name": "stderr",
     "output_type": "stream",
     "text": [
      "WARNING:root:TimeoutError occurred at train() : "
     ]
    },
    {
     "name": "stderr",
     "output_type": "stream",
     "text": [
      "\n"
     ]
    },
    {
     "name": "stdout",
     "output_type": "stream",
     "text": [
      "<class 'autokeras.image.image_supervised.ImageClassifier'>"
     ]
    },
    {
     "name": "stdout",
     "output_type": "stream",
     "text": [
      "\n"
     ]
    },
    {
     "name": "stdout",
     "output_type": "stream",
     "text": [
      "0.372"
     ]
    },
    {
     "name": "stdout",
     "output_type": "stream",
     "text": [
      "\n"
     ]
    },
    {
     "name": "stderr",
     "output_type": "stream",
     "text": [
      "\r",
      " 50%|█████     | 3/6 [65:07:48<65:05:27, 78109.03s/it]"
     ]
    },
    {
     "name": "stdout",
     "output_type": "stream",
     "text": [
      "\n"
     ]
    },
    {
     "name": "stdout",
     "output_type": "stream",
     "text": [
      "230.30 minutes have elapsed. TPOT will close down.\n",
      "TPOT closed during evaluation in one generation.\n",
      "WARNING: TPOT may not provide a good pipeline if TPOT is stopped/interrupted in a early generation."
     ]
    },
    {
     "name": "stdout",
     "output_type": "stream",
     "text": [
      "\n"
     ]
    },
    {
     "name": "stdout",
     "output_type": "stream",
     "text": [
      "\n"
     ]
    },
    {
     "name": "stdout",
     "output_type": "stream",
     "text": [
      "\n",
      "TPOT closed prematurely. Will use the current best pipeline."
     ]
    },
    {
     "name": "stdout",
     "output_type": "stream",
     "text": [
      "\n"
     ]
    },
    {
     "name": "stdout",
     "output_type": "stream",
     "text": [
      "Best pipeline:"
     ]
    },
    {
     "name": "stdout",
     "output_type": "stream",
     "text": [
      " "
     ]
    },
    {
     "name": "stdout",
     "output_type": "stream",
     "text": [
      "RandomForestClassifier(input_matrix, bootstrap=True, criterion=gini, max_features=0.1, min_samples_leaf=2, min_samples_split=14, n_estimators=100)"
     ]
    },
    {
     "name": "stdout",
     "output_type": "stream",
     "text": [
      "\n"
     ]
    },
    {
     "name": "stdout",
     "output_type": "stream",
     "text": [
      "<class 'tpot.tpot.TPOTClassifier'>"
     ]
    },
    {
     "name": "stdout",
     "output_type": "stream",
     "text": [
      "\n"
     ]
    },
    {
     "name": "stdout",
     "output_type": "stream",
     "text": [
      "0.77"
     ]
    },
    {
     "name": "stdout",
     "output_type": "stream",
     "text": [
      "\n"
     ]
    },
    {
     "name": "stdout",
     "output_type": "stream",
     "text": [
      "\n"
     ]
    },
    {
     "name": "stdout",
     "output_type": "stream",
     "text": [
      "235.17 minutes have elapsed. TPOT will close down.\n",
      "TPOT closed during evaluation in one generation.\n",
      "WARNING: TPOT may not provide a good pipeline if TPOT is stopped/interrupted in a early generation."
     ]
    },
    {
     "name": "stdout",
     "output_type": "stream",
     "text": [
      "\n"
     ]
    },
    {
     "name": "stdout",
     "output_type": "stream",
     "text": [
      "\n"
     ]
    },
    {
     "name": "stdout",
     "output_type": "stream",
     "text": [
      "\n",
      "TPOT closed prematurely. Will use the current best pipeline."
     ]
    },
    {
     "name": "stdout",
     "output_type": "stream",
     "text": [
      "\n"
     ]
    },
    {
     "name": "stdout",
     "output_type": "stream",
     "text": [
      "Best pipeline:"
     ]
    },
    {
     "name": "stdout",
     "output_type": "stream",
     "text": [
      " "
     ]
    },
    {
     "name": "stdout",
     "output_type": "stream",
     "text": [
      "GradientBoostingClassifier(RFE(input_matrix, criterion=gini, max_features=0.45, n_estimators=100, step=0.8), learning_rate=0.1, max_depth=10, max_features=0.05, min_samples_leaf=11, min_samples_split=9, n_estimators=100, subsample=0.35000000000000003)"
     ]
    },
    {
     "name": "stdout",
     "output_type": "stream",
     "text": [
      "\n"
     ]
    },
    {
     "name": "stdout",
     "output_type": "stream",
     "text": [
      "<class 'tpot.tpot.TPOTClassifier'>"
     ]
    },
    {
     "name": "stdout",
     "output_type": "stream",
     "text": [
      "\n"
     ]
    },
    {
     "name": "stdout",
     "output_type": "stream",
     "text": [
      "0.258"
     ]
    },
    {
     "name": "stdout",
     "output_type": "stream",
     "text": [
      "\n"
     ]
    },
    {
     "name": "stdout",
     "output_type": "stream",
     "text": [
      "Checking whether there is an H2O instance running at http://localhost:54321 "
     ]
    },
    {
     "name": "stdout",
     "output_type": "stream",
     "text": [
      "."
     ]
    },
    {
     "name": "stdout",
     "output_type": "stream",
     "text": [
      "."
     ]
    },
    {
     "name": "stdout",
     "output_type": "stream",
     "text": [
      "."
     ]
    },
    {
     "name": "stdout",
     "output_type": "stream",
     "text": [
      "."
     ]
    },
    {
     "name": "stdout",
     "output_type": "stream",
     "text": [
      "."
     ]
    },
    {
     "name": "stdout",
     "output_type": "stream",
     "text": [
      " not found."
     ]
    },
    {
     "name": "stdout",
     "output_type": "stream",
     "text": [
      "\n"
     ]
    },
    {
     "name": "stdout",
     "output_type": "stream",
     "text": [
      "Attempting to start a local H2O server..."
     ]
    },
    {
     "name": "stdout",
     "output_type": "stream",
     "text": [
      "\n"
     ]
    },
    {
     "name": "stdout",
     "output_type": "stream",
     "text": [
      "  Java Version: openjdk version \"11.0.2\" 2019-01-15; OpenJDK Runtime Environment 18.9 (build 11.0.2+9); OpenJDK 64-Bit Server VM 18.9 (build 11.0.2+9, mixed mode)"
     ]
    },
    {
     "name": "stdout",
     "output_type": "stream",
     "text": [
      "\n"
     ]
    },
    {
     "name": "stdout",
     "output_type": "stream",
     "text": [
      "  Starting server from /wrk/users/thalvari/dpEmu-AutoML/venv/lib/python3.6/site-packages/h2o/backend/bin/h2o.jar"
     ]
    },
    {
     "name": "stdout",
     "output_type": "stream",
     "text": [
      "\n"
     ]
    },
    {
     "name": "stdout",
     "output_type": "stream",
     "text": [
      "  Ice root: /wrk/users/thalvari/tmp6i7a4ahf"
     ]
    },
    {
     "name": "stdout",
     "output_type": "stream",
     "text": [
      "\n"
     ]
    },
    {
     "name": "stdout",
     "output_type": "stream",
     "text": [
      "  JVM stdout: /wrk/users/thalvari/tmp6i7a4ahf/h2o_thalvari_started_from_python.out"
     ]
    },
    {
     "name": "stdout",
     "output_type": "stream",
     "text": [
      "\n"
     ]
    },
    {
     "name": "stdout",
     "output_type": "stream",
     "text": [
      "  JVM stderr: /wrk/users/thalvari/tmp6i7a4ahf/h2o_thalvari_started_from_python.err"
     ]
    },
    {
     "name": "stdout",
     "output_type": "stream",
     "text": [
      "\n"
     ]
    },
    {
     "name": "stdout",
     "output_type": "stream",
     "text": [
      "  Server is running at http://127.0.0.1:54321"
     ]
    },
    {
     "name": "stdout",
     "output_type": "stream",
     "text": [
      "\n"
     ]
    },
    {
     "name": "stdout",
     "output_type": "stream",
     "text": [
      "Connecting to H2O server at http://127.0.0.1:54321 .."
     ]
    },
    {
     "name": "stdout",
     "output_type": "stream",
     "text": [
      "."
     ]
    },
    {
     "name": "stdout",
     "output_type": "stream",
     "text": [
      " successful."
     ]
    },
    {
     "name": "stdout",
     "output_type": "stream",
     "text": [
      "\n"
     ]
    },
    {
     "data": {
      "text/html": [
       "<div style=\"overflow:auto\"><table style=\"width:50%\"><tr><td>H2O cluster uptime:</td>\n",
       "<td>01 secs</td></tr>\n",
       "<tr><td>H2O cluster timezone:</td>\n",
       "<td>Europe/Helsinki</td></tr>\n",
       "<tr><td>H2O data parsing timezone:</td>\n",
       "<td>UTC</td></tr>\n",
       "<tr><td>H2O cluster version:</td>\n",
       "<td>3.26.0.10</td></tr>\n",
       "<tr><td>H2O cluster version age:</td>\n",
       "<td>17 days </td></tr>\n",
       "<tr><td>H2O cluster name:</td>\n",
       "<td>#460063036</td></tr>\n",
       "<tr><td>H2O cluster total nodes:</td>\n",
       "<td>1</td></tr>\n",
       "<tr><td>H2O cluster free memory:</td>\n",
       "<td>29.97 Gb</td></tr>\n",
       "<tr><td>H2O cluster total cores:</td>\n",
       "<td>96</td></tr>\n",
       "<tr><td>H2O cluster allowed cores:</td>\n",
       "<td>48</td></tr>\n",
       "<tr><td>H2O cluster status:</td>\n",
       "<td>accepting new members, healthy</td></tr>\n",
       "<tr><td>H2O connection url:</td>\n",
       "<td>http://127.0.0.1:54321</td></tr>\n",
       "<tr><td>H2O connection proxy:</td>\n",
       "<td>{'http': None, 'https': None}</td></tr>\n",
       "<tr><td>H2O internal security:</td>\n",
       "<td>False</td></tr>\n",
       "<tr><td>H2O API Extensions:</td>\n",
       "<td>Amazon S3, XGBoost, Algos, AutoML, Core V3, TargetEncoder, Core V4</td></tr>\n",
       "<tr><td>Python version:</td>\n",
       "<td>3.6.6 final</td></tr></table></div>"
      ],
      "text/plain": [
       "--------------------------  ------------------------------------------------------------------\n",
       "H2O cluster uptime:         01 secs\n",
       "H2O cluster timezone:       Europe/Helsinki\n",
       "H2O data parsing timezone:  UTC\n",
       "H2O cluster version:        3.26.0.10\n",
       "H2O cluster version age:    17 days\n",
       "H2O cluster name:           #460063036\n",
       "H2O cluster total nodes:    1\n",
       "H2O cluster free memory:    29.97 Gb\n",
       "H2O cluster total cores:    96\n",
       "H2O cluster allowed cores:  48\n",
       "H2O cluster status:         accepting new members, healthy\n",
       "H2O connection url:         http://127.0.0.1:54321\n",
       "H2O connection proxy:       {'http': None, 'https': None}\n",
       "H2O internal security:      False\n",
       "H2O API Extensions:         Amazon S3, XGBoost, Algos, AutoML, Core V3, TargetEncoder, Core V4\n",
       "Python version:             3.6.6 final\n",
       "--------------------------  ------------------------------------------------------------------"
      ]
     },
     "metadata": {},
     "output_type": "display_data"
    },
    {
     "name": "stdout",
     "output_type": "stream",
     "text": [
      "H2O session _sid_aa86 closed."
     ]
    },
    {
     "name": "stdout",
     "output_type": "stream",
     "text": [
      "\n"
     ]
    },
    {
     "name": "stdout",
     "output_type": "stream",
     "text": [
      "<class 'h2o.automl.autoh2o.H2OAutoML'>"
     ]
    },
    {
     "name": "stdout",
     "output_type": "stream",
     "text": [
      "\n"
     ]
    },
    {
     "name": "stdout",
     "output_type": "stream",
     "text": [
      "0.811"
     ]
    },
    {
     "name": "stdout",
     "output_type": "stream",
     "text": [
      "\n"
     ]
    },
    {
     "name": "stdout",
     "output_type": "stream",
     "text": [
      "Checking whether there is an H2O instance running at http://localhost:54321 "
     ]
    },
    {
     "name": "stdout",
     "output_type": "stream",
     "text": [
      "."
     ]
    },
    {
     "name": "stdout",
     "output_type": "stream",
     "text": [
      "."
     ]
    },
    {
     "name": "stdout",
     "output_type": "stream",
     "text": [
      "."
     ]
    },
    {
     "name": "stdout",
     "output_type": "stream",
     "text": [
      "."
     ]
    },
    {
     "name": "stdout",
     "output_type": "stream",
     "text": [
      "."
     ]
    },
    {
     "name": "stdout",
     "output_type": "stream",
     "text": [
      " not found."
     ]
    },
    {
     "name": "stdout",
     "output_type": "stream",
     "text": [
      "\n"
     ]
    },
    {
     "name": "stdout",
     "output_type": "stream",
     "text": [
      "Attempting to start a local H2O server..."
     ]
    },
    {
     "name": "stdout",
     "output_type": "stream",
     "text": [
      "\n"
     ]
    },
    {
     "name": "stdout",
     "output_type": "stream",
     "text": [
      "  Java Version: openjdk version \"11.0.2\" 2019-01-15; OpenJDK Runtime Environment 18.9 (build 11.0.2+9); OpenJDK 64-Bit Server VM 18.9 (build 11.0.2+9, mixed mode)"
     ]
    },
    {
     "name": "stdout",
     "output_type": "stream",
     "text": [
      "\n"
     ]
    },
    {
     "name": "stdout",
     "output_type": "stream",
     "text": [
      "  Starting server from /wrk/users/thalvari/dpEmu-AutoML/venv/lib/python3.6/site-packages/h2o/backend/bin/h2o.jar"
     ]
    },
    {
     "name": "stdout",
     "output_type": "stream",
     "text": [
      "\n"
     ]
    },
    {
     "name": "stdout",
     "output_type": "stream",
     "text": [
      "  Ice root: /wrk/users/thalvari/tmp53sp6655"
     ]
    },
    {
     "name": "stdout",
     "output_type": "stream",
     "text": [
      "\n"
     ]
    },
    {
     "name": "stdout",
     "output_type": "stream",
     "text": [
      "  JVM stdout: /wrk/users/thalvari/tmp53sp6655/h2o_thalvari_started_from_python.out"
     ]
    },
    {
     "name": "stdout",
     "output_type": "stream",
     "text": [
      "\n"
     ]
    },
    {
     "name": "stdout",
     "output_type": "stream",
     "text": [
      "  JVM stderr: /wrk/users/thalvari/tmp53sp6655/h2o_thalvari_started_from_python.err"
     ]
    },
    {
     "name": "stdout",
     "output_type": "stream",
     "text": [
      "\n"
     ]
    },
    {
     "name": "stdout",
     "output_type": "stream",
     "text": [
      "  Server is running at http://127.0.0.1:54321"
     ]
    },
    {
     "name": "stdout",
     "output_type": "stream",
     "text": [
      "\n"
     ]
    },
    {
     "name": "stdout",
     "output_type": "stream",
     "text": [
      "Connecting to H2O server at http://127.0.0.1:54321 .."
     ]
    },
    {
     "name": "stdout",
     "output_type": "stream",
     "text": [
      "."
     ]
    },
    {
     "name": "stdout",
     "output_type": "stream",
     "text": [
      " successful."
     ]
    },
    {
     "name": "stdout",
     "output_type": "stream",
     "text": [
      "\n"
     ]
    },
    {
     "data": {
      "text/html": [
       "<div style=\"overflow:auto\"><table style=\"width:50%\"><tr><td>H2O cluster uptime:</td>\n",
       "<td>01 secs</td></tr>\n",
       "<tr><td>H2O cluster timezone:</td>\n",
       "<td>Europe/Helsinki</td></tr>\n",
       "<tr><td>H2O data parsing timezone:</td>\n",
       "<td>UTC</td></tr>\n",
       "<tr><td>H2O cluster version:</td>\n",
       "<td>3.26.0.10</td></tr>\n",
       "<tr><td>H2O cluster version age:</td>\n",
       "<td>17 days </td></tr>\n",
       "<tr><td>H2O cluster name:</td>\n",
       "<td>#364190167</td></tr>\n",
       "<tr><td>H2O cluster total nodes:</td>\n",
       "<td>1</td></tr>\n",
       "<tr><td>H2O cluster free memory:</td>\n",
       "<td>29.97 Gb</td></tr>\n",
       "<tr><td>H2O cluster total cores:</td>\n",
       "<td>96</td></tr>\n",
       "<tr><td>H2O cluster allowed cores:</td>\n",
       "<td>48</td></tr>\n",
       "<tr><td>H2O cluster status:</td>\n",
       "<td>accepting new members, healthy</td></tr>\n",
       "<tr><td>H2O connection url:</td>\n",
       "<td>http://127.0.0.1:54321</td></tr>\n",
       "<tr><td>H2O connection proxy:</td>\n",
       "<td>{'http': None, 'https': None}</td></tr>\n",
       "<tr><td>H2O internal security:</td>\n",
       "<td>False</td></tr>\n",
       "<tr><td>H2O API Extensions:</td>\n",
       "<td>Amazon S3, XGBoost, Algos, AutoML, Core V3, TargetEncoder, Core V4</td></tr>\n",
       "<tr><td>Python version:</td>\n",
       "<td>3.6.6 final</td></tr></table></div>"
      ],
      "text/plain": [
       "--------------------------  ------------------------------------------------------------------\n",
       "H2O cluster uptime:         01 secs\n",
       "H2O cluster timezone:       Europe/Helsinki\n",
       "H2O data parsing timezone:  UTC\n",
       "H2O cluster version:        3.26.0.10\n",
       "H2O cluster version age:    17 days\n",
       "H2O cluster name:           #364190167\n",
       "H2O cluster total nodes:    1\n",
       "H2O cluster free memory:    29.97 Gb\n",
       "H2O cluster total cores:    96\n",
       "H2O cluster allowed cores:  48\n",
       "H2O cluster status:         accepting new members, healthy\n",
       "H2O connection url:         http://127.0.0.1:54321\n",
       "H2O connection proxy:       {'http': None, 'https': None}\n",
       "H2O internal security:      False\n",
       "H2O API Extensions:         Amazon S3, XGBoost, Algos, AutoML, Core V3, TargetEncoder, Core V4\n",
       "Python version:             3.6.6 final\n",
       "--------------------------  ------------------------------------------------------------------"
      ]
     },
     "metadata": {},
     "output_type": "display_data"
    },
    {
     "name": "stdout",
     "output_type": "stream",
     "text": [
      "H2O session _sid_a685 closed."
     ]
    },
    {
     "name": "stdout",
     "output_type": "stream",
     "text": [
      "\n"
     ]
    },
    {
     "name": "stdout",
     "output_type": "stream",
     "text": [
      "<class 'h2o.automl.autoh2o.H2OAutoML'>"
     ]
    },
    {
     "name": "stdout",
     "output_type": "stream",
     "text": [
      "\n"
     ]
    },
    {
     "name": "stdout",
     "output_type": "stream",
     "text": [
      "0.263"
     ]
    },
    {
     "name": "stdout",
     "output_type": "stream",
     "text": [
      "\n"
     ]
    },
    {
     "name": "stderr",
     "output_type": "stream",
     "text": [
      "WARNING:root:TimeoutError occurred at train() : "
     ]
    },
    {
     "name": "stderr",
     "output_type": "stream",
     "text": [
      "\n"
     ]
    },
    {
     "name": "stdout",
     "output_type": "stream",
     "text": [
      "<class 'autokeras.image.image_supervised.ImageClassifier'>"
     ]
    },
    {
     "name": "stdout",
     "output_type": "stream",
     "text": [
      "\n"
     ]
    },
    {
     "name": "stdout",
     "output_type": "stream",
     "text": [
      "0.734"
     ]
    },
    {
     "name": "stdout",
     "output_type": "stream",
     "text": [
      "\n"
     ]
    },
    {
     "name": "stderr",
     "output_type": "stream",
     "text": [
      "WARNING:root:TimeoutError occurred at train() : "
     ]
    },
    {
     "name": "stderr",
     "output_type": "stream",
     "text": [
      "\n"
     ]
    },
    {
     "name": "stdout",
     "output_type": "stream",
     "text": [
      "<class 'autokeras.image.image_supervised.ImageClassifier'>"
     ]
    },
    {
     "name": "stdout",
     "output_type": "stream",
     "text": [
      "\n"
     ]
    },
    {
     "name": "stdout",
     "output_type": "stream",
     "text": [
      "0.27"
     ]
    },
    {
     "name": "stdout",
     "output_type": "stream",
     "text": [
      "\n"
     ]
    },
    {
     "name": "stderr",
     "output_type": "stream",
     "text": [
      "\r",
      " 67%|██████▋   | 4/6 [86:10:50<43:00:21, 77410.94s/it]"
     ]
    },
    {
     "name": "stdout",
     "output_type": "stream",
     "text": [
      "\n"
     ]
    },
    {
     "name": "stdout",
     "output_type": "stream",
     "text": [
      "215.98 minutes have elapsed. TPOT will close down.\n",
      "TPOT closed during evaluation in one generation.\n",
      "WARNING: TPOT may not provide a good pipeline if TPOT is stopped/interrupted in a early generation."
     ]
    },
    {
     "name": "stdout",
     "output_type": "stream",
     "text": [
      "\n"
     ]
    },
    {
     "name": "stdout",
     "output_type": "stream",
     "text": [
      "\n"
     ]
    },
    {
     "name": "stdout",
     "output_type": "stream",
     "text": [
      "\n",
      "TPOT closed prematurely. Will use the current best pipeline."
     ]
    },
    {
     "name": "stdout",
     "output_type": "stream",
     "text": [
      "\n"
     ]
    },
    {
     "name": "stdout",
     "output_type": "stream",
     "text": [
      "Best pipeline:"
     ]
    },
    {
     "name": "stdout",
     "output_type": "stream",
     "text": [
      " "
     ]
    },
    {
     "name": "stdout",
     "output_type": "stream",
     "text": [
      "RandomForestClassifier(input_matrix, bootstrap=True, criterion=gini, max_features=0.1, min_samples_leaf=2, min_samples_split=14, n_estimators=100)"
     ]
    },
    {
     "name": "stdout",
     "output_type": "stream",
     "text": [
      "\n"
     ]
    },
    {
     "name": "stdout",
     "output_type": "stream",
     "text": [
      "<class 'tpot.tpot.TPOTClassifier'>"
     ]
    },
    {
     "name": "stdout",
     "output_type": "stream",
     "text": [
      "\n"
     ]
    },
    {
     "name": "stdout",
     "output_type": "stream",
     "text": [
      "0.753"
     ]
    },
    {
     "name": "stdout",
     "output_type": "stream",
     "text": [
      "\n"
     ]
    },
    {
     "name": "stdout",
     "output_type": "stream",
     "text": [
      "\n"
     ]
    },
    {
     "name": "stdout",
     "output_type": "stream",
     "text": [
      "234.54 minutes have elapsed. TPOT will close down.\n",
      "TPOT closed during evaluation in one generation.\n",
      "WARNING: TPOT may not provide a good pipeline if TPOT is stopped/interrupted in a early generation."
     ]
    },
    {
     "name": "stdout",
     "output_type": "stream",
     "text": [
      "\n"
     ]
    },
    {
     "name": "stdout",
     "output_type": "stream",
     "text": [
      "\n"
     ]
    },
    {
     "name": "stdout",
     "output_type": "stream",
     "text": [
      "\n",
      "TPOT closed prematurely. Will use the current best pipeline."
     ]
    },
    {
     "name": "stdout",
     "output_type": "stream",
     "text": [
      "\n"
     ]
    },
    {
     "name": "stdout",
     "output_type": "stream",
     "text": [
      "Best pipeline:"
     ]
    },
    {
     "name": "stdout",
     "output_type": "stream",
     "text": [
      " "
     ]
    },
    {
     "name": "stdout",
     "output_type": "stream",
     "text": [
      "GradientBoostingClassifier(RFE(input_matrix, criterion=gini, max_features=0.45, n_estimators=100, step=0.8), learning_rate=0.1, max_depth=10, max_features=0.05, min_samples_leaf=11, min_samples_split=9, n_estimators=100, subsample=0.35000000000000003)"
     ]
    },
    {
     "name": "stdout",
     "output_type": "stream",
     "text": [
      "\n"
     ]
    },
    {
     "name": "stdout",
     "output_type": "stream",
     "text": [
      "<class 'tpot.tpot.TPOTClassifier'>"
     ]
    },
    {
     "name": "stdout",
     "output_type": "stream",
     "text": [
      "\n"
     ]
    },
    {
     "name": "stdout",
     "output_type": "stream",
     "text": [
      "0.228"
     ]
    },
    {
     "name": "stdout",
     "output_type": "stream",
     "text": [
      "\n"
     ]
    },
    {
     "name": "stdout",
     "output_type": "stream",
     "text": [
      "Checking whether there is an H2O instance running at http://localhost:54321 "
     ]
    },
    {
     "name": "stdout",
     "output_type": "stream",
     "text": [
      "."
     ]
    },
    {
     "name": "stdout",
     "output_type": "stream",
     "text": [
      "."
     ]
    },
    {
     "name": "stdout",
     "output_type": "stream",
     "text": [
      "."
     ]
    },
    {
     "name": "stdout",
     "output_type": "stream",
     "text": [
      "."
     ]
    },
    {
     "name": "stdout",
     "output_type": "stream",
     "text": [
      "."
     ]
    },
    {
     "name": "stdout",
     "output_type": "stream",
     "text": [
      " not found."
     ]
    },
    {
     "name": "stdout",
     "output_type": "stream",
     "text": [
      "\n"
     ]
    },
    {
     "name": "stdout",
     "output_type": "stream",
     "text": [
      "Attempting to start a local H2O server..."
     ]
    },
    {
     "name": "stdout",
     "output_type": "stream",
     "text": [
      "\n"
     ]
    },
    {
     "name": "stdout",
     "output_type": "stream",
     "text": [
      "  Java Version: openjdk version \"11.0.2\" 2019-01-15; OpenJDK Runtime Environment 18.9 (build 11.0.2+9); OpenJDK 64-Bit Server VM 18.9 (build 11.0.2+9, mixed mode)"
     ]
    },
    {
     "name": "stdout",
     "output_type": "stream",
     "text": [
      "\n"
     ]
    },
    {
     "name": "stdout",
     "output_type": "stream",
     "text": [
      "  Starting server from /wrk/users/thalvari/dpEmu-AutoML/venv/lib/python3.6/site-packages/h2o/backend/bin/h2o.jar"
     ]
    },
    {
     "name": "stdout",
     "output_type": "stream",
     "text": [
      "\n"
     ]
    },
    {
     "name": "stdout",
     "output_type": "stream",
     "text": [
      "  Ice root: /wrk/users/thalvari/tmptpet35wt"
     ]
    },
    {
     "name": "stdout",
     "output_type": "stream",
     "text": [
      "\n"
     ]
    },
    {
     "name": "stdout",
     "output_type": "stream",
     "text": [
      "  JVM stdout: /wrk/users/thalvari/tmptpet35wt/h2o_thalvari_started_from_python.out"
     ]
    },
    {
     "name": "stdout",
     "output_type": "stream",
     "text": [
      "\n"
     ]
    },
    {
     "name": "stdout",
     "output_type": "stream",
     "text": [
      "  JVM stderr: /wrk/users/thalvari/tmptpet35wt/h2o_thalvari_started_from_python.err"
     ]
    },
    {
     "name": "stdout",
     "output_type": "stream",
     "text": [
      "\n"
     ]
    },
    {
     "name": "stdout",
     "output_type": "stream",
     "text": [
      "  Server is running at http://127.0.0.1:54321"
     ]
    },
    {
     "name": "stdout",
     "output_type": "stream",
     "text": [
      "\n"
     ]
    },
    {
     "name": "stdout",
     "output_type": "stream",
     "text": [
      "Connecting to H2O server at http://127.0.0.1:54321 .."
     ]
    },
    {
     "name": "stdout",
     "output_type": "stream",
     "text": [
      "."
     ]
    },
    {
     "name": "stdout",
     "output_type": "stream",
     "text": [
      " successful."
     ]
    },
    {
     "name": "stdout",
     "output_type": "stream",
     "text": [
      "\n"
     ]
    },
    {
     "data": {
      "text/html": [
       "<div style=\"overflow:auto\"><table style=\"width:50%\"><tr><td>H2O cluster uptime:</td>\n",
       "<td>01 secs</td></tr>\n",
       "<tr><td>H2O cluster timezone:</td>\n",
       "<td>Europe/Helsinki</td></tr>\n",
       "<tr><td>H2O data parsing timezone:</td>\n",
       "<td>UTC</td></tr>\n",
       "<tr><td>H2O cluster version:</td>\n",
       "<td>3.26.0.10</td></tr>\n",
       "<tr><td>H2O cluster version age:</td>\n",
       "<td>18 days </td></tr>\n",
       "<tr><td>H2O cluster name:</td>\n",
       "<td>#970726034</td></tr>\n",
       "<tr><td>H2O cluster total nodes:</td>\n",
       "<td>1</td></tr>\n",
       "<tr><td>H2O cluster free memory:</td>\n",
       "<td>29.97 Gb</td></tr>\n",
       "<tr><td>H2O cluster total cores:</td>\n",
       "<td>96</td></tr>\n",
       "<tr><td>H2O cluster allowed cores:</td>\n",
       "<td>48</td></tr>\n",
       "<tr><td>H2O cluster status:</td>\n",
       "<td>accepting new members, healthy</td></tr>\n",
       "<tr><td>H2O connection url:</td>\n",
       "<td>http://127.0.0.1:54321</td></tr>\n",
       "<tr><td>H2O connection proxy:</td>\n",
       "<td>{'http': None, 'https': None}</td></tr>\n",
       "<tr><td>H2O internal security:</td>\n",
       "<td>False</td></tr>\n",
       "<tr><td>H2O API Extensions:</td>\n",
       "<td>Amazon S3, XGBoost, Algos, AutoML, Core V3, TargetEncoder, Core V4</td></tr>\n",
       "<tr><td>Python version:</td>\n",
       "<td>3.6.6 final</td></tr></table></div>"
      ],
      "text/plain": [
       "--------------------------  ------------------------------------------------------------------\n",
       "H2O cluster uptime:         01 secs\n",
       "H2O cluster timezone:       Europe/Helsinki\n",
       "H2O data parsing timezone:  UTC\n",
       "H2O cluster version:        3.26.0.10\n",
       "H2O cluster version age:    18 days\n",
       "H2O cluster name:           #970726034\n",
       "H2O cluster total nodes:    1\n",
       "H2O cluster free memory:    29.97 Gb\n",
       "H2O cluster total cores:    96\n",
       "H2O cluster allowed cores:  48\n",
       "H2O cluster status:         accepting new members, healthy\n",
       "H2O connection url:         http://127.0.0.1:54321\n",
       "H2O connection proxy:       {'http': None, 'https': None}\n",
       "H2O internal security:      False\n",
       "H2O API Extensions:         Amazon S3, XGBoost, Algos, AutoML, Core V3, TargetEncoder, Core V4\n",
       "Python version:             3.6.6 final\n",
       "--------------------------  ------------------------------------------------------------------"
      ]
     },
     "metadata": {},
     "output_type": "display_data"
    },
    {
     "name": "stdout",
     "output_type": "stream",
     "text": [
      "H2O session _sid_8a1a closed."
     ]
    },
    {
     "name": "stdout",
     "output_type": "stream",
     "text": [
      "\n"
     ]
    },
    {
     "name": "stdout",
     "output_type": "stream",
     "text": [
      "<class 'h2o.automl.autoh2o.H2OAutoML'>"
     ]
    },
    {
     "name": "stdout",
     "output_type": "stream",
     "text": [
      "\n"
     ]
    },
    {
     "name": "stdout",
     "output_type": "stream",
     "text": [
      "0.802"
     ]
    },
    {
     "name": "stdout",
     "output_type": "stream",
     "text": [
      "\n"
     ]
    },
    {
     "name": "stdout",
     "output_type": "stream",
     "text": [
      "Checking whether there is an H2O instance running at http://localhost:54321 "
     ]
    },
    {
     "name": "stdout",
     "output_type": "stream",
     "text": [
      "."
     ]
    },
    {
     "name": "stdout",
     "output_type": "stream",
     "text": [
      "."
     ]
    },
    {
     "name": "stdout",
     "output_type": "stream",
     "text": [
      "."
     ]
    },
    {
     "name": "stdout",
     "output_type": "stream",
     "text": [
      "."
     ]
    },
    {
     "name": "stdout",
     "output_type": "stream",
     "text": [
      "."
     ]
    },
    {
     "name": "stdout",
     "output_type": "stream",
     "text": [
      " not found."
     ]
    },
    {
     "name": "stdout",
     "output_type": "stream",
     "text": [
      "\n"
     ]
    },
    {
     "name": "stdout",
     "output_type": "stream",
     "text": [
      "Attempting to start a local H2O server..."
     ]
    },
    {
     "name": "stdout",
     "output_type": "stream",
     "text": [
      "\n"
     ]
    },
    {
     "name": "stdout",
     "output_type": "stream",
     "text": [
      "  Java Version: openjdk version \"11.0.2\" 2019-01-15; OpenJDK Runtime Environment 18.9 (build 11.0.2+9); OpenJDK 64-Bit Server VM 18.9 (build 11.0.2+9, mixed mode)"
     ]
    },
    {
     "name": "stdout",
     "output_type": "stream",
     "text": [
      "\n"
     ]
    },
    {
     "name": "stdout",
     "output_type": "stream",
     "text": [
      "  Starting server from /wrk/users/thalvari/dpEmu-AutoML/venv/lib/python3.6/site-packages/h2o/backend/bin/h2o.jar"
     ]
    },
    {
     "name": "stdout",
     "output_type": "stream",
     "text": [
      "\n"
     ]
    },
    {
     "name": "stdout",
     "output_type": "stream",
     "text": [
      "  Ice root: /wrk/users/thalvari/tmpj4zlndjt"
     ]
    },
    {
     "name": "stdout",
     "output_type": "stream",
     "text": [
      "\n"
     ]
    },
    {
     "name": "stdout",
     "output_type": "stream",
     "text": [
      "  JVM stdout: /wrk/users/thalvari/tmpj4zlndjt/h2o_thalvari_started_from_python.out"
     ]
    },
    {
     "name": "stdout",
     "output_type": "stream",
     "text": [
      "\n"
     ]
    },
    {
     "name": "stdout",
     "output_type": "stream",
     "text": [
      "  JVM stderr: /wrk/users/thalvari/tmpj4zlndjt/h2o_thalvari_started_from_python.err"
     ]
    },
    {
     "name": "stdout",
     "output_type": "stream",
     "text": [
      "\n"
     ]
    },
    {
     "name": "stdout",
     "output_type": "stream",
     "text": [
      "  Server is running at http://127.0.0.1:54321"
     ]
    },
    {
     "name": "stdout",
     "output_type": "stream",
     "text": [
      "\n"
     ]
    },
    {
     "name": "stdout",
     "output_type": "stream",
     "text": [
      "Connecting to H2O server at http://127.0.0.1:54321 .."
     ]
    },
    {
     "name": "stdout",
     "output_type": "stream",
     "text": [
      "."
     ]
    },
    {
     "name": "stdout",
     "output_type": "stream",
     "text": [
      " successful."
     ]
    },
    {
     "name": "stdout",
     "output_type": "stream",
     "text": [
      "\n"
     ]
    },
    {
     "data": {
      "text/html": [
       "<div style=\"overflow:auto\"><table style=\"width:50%\"><tr><td>H2O cluster uptime:</td>\n",
       "<td>01 secs</td></tr>\n",
       "<tr><td>H2O cluster timezone:</td>\n",
       "<td>Europe/Helsinki</td></tr>\n",
       "<tr><td>H2O data parsing timezone:</td>\n",
       "<td>UTC</td></tr>\n",
       "<tr><td>H2O cluster version:</td>\n",
       "<td>3.26.0.10</td></tr>\n",
       "<tr><td>H2O cluster version age:</td>\n",
       "<td>18 days </td></tr>\n",
       "<tr><td>H2O cluster name:</td>\n",
       "<td>#962821743</td></tr>\n",
       "<tr><td>H2O cluster total nodes:</td>\n",
       "<td>1</td></tr>\n",
       "<tr><td>H2O cluster free memory:</td>\n",
       "<td>29.97 Gb</td></tr>\n",
       "<tr><td>H2O cluster total cores:</td>\n",
       "<td>96</td></tr>\n",
       "<tr><td>H2O cluster allowed cores:</td>\n",
       "<td>48</td></tr>\n",
       "<tr><td>H2O cluster status:</td>\n",
       "<td>accepting new members, healthy</td></tr>\n",
       "<tr><td>H2O connection url:</td>\n",
       "<td>http://127.0.0.1:54321</td></tr>\n",
       "<tr><td>H2O connection proxy:</td>\n",
       "<td>{'http': None, 'https': None}</td></tr>\n",
       "<tr><td>H2O internal security:</td>\n",
       "<td>False</td></tr>\n",
       "<tr><td>H2O API Extensions:</td>\n",
       "<td>Amazon S3, XGBoost, Algos, AutoML, Core V3, TargetEncoder, Core V4</td></tr>\n",
       "<tr><td>Python version:</td>\n",
       "<td>3.6.6 final</td></tr></table></div>"
      ],
      "text/plain": [
       "--------------------------  ------------------------------------------------------------------\n",
       "H2O cluster uptime:         01 secs\n",
       "H2O cluster timezone:       Europe/Helsinki\n",
       "H2O data parsing timezone:  UTC\n",
       "H2O cluster version:        3.26.0.10\n",
       "H2O cluster version age:    18 days\n",
       "H2O cluster name:           #962821743\n",
       "H2O cluster total nodes:    1\n",
       "H2O cluster free memory:    29.97 Gb\n",
       "H2O cluster total cores:    96\n",
       "H2O cluster allowed cores:  48\n",
       "H2O cluster status:         accepting new members, healthy\n",
       "H2O connection url:         http://127.0.0.1:54321\n",
       "H2O connection proxy:       {'http': None, 'https': None}\n",
       "H2O internal security:      False\n",
       "H2O API Extensions:         Amazon S3, XGBoost, Algos, AutoML, Core V3, TargetEncoder, Core V4\n",
       "Python version:             3.6.6 final\n",
       "--------------------------  ------------------------------------------------------------------"
      ]
     },
     "metadata": {},
     "output_type": "display_data"
    },
    {
     "name": "stdout",
     "output_type": "stream",
     "text": [
      "H2O session _sid_bd75 closed."
     ]
    },
    {
     "name": "stdout",
     "output_type": "stream",
     "text": [
      "\n"
     ]
    },
    {
     "name": "stdout",
     "output_type": "stream",
     "text": [
      "<class 'h2o.automl.autoh2o.H2OAutoML'>"
     ]
    },
    {
     "name": "stdout",
     "output_type": "stream",
     "text": [
      "\n"
     ]
    },
    {
     "name": "stdout",
     "output_type": "stream",
     "text": [
      "0.234"
     ]
    },
    {
     "name": "stdout",
     "output_type": "stream",
     "text": [
      "\n"
     ]
    },
    {
     "name": "stderr",
     "output_type": "stream",
     "text": [
      "WARNING:root:TimeoutError occurred at train() : "
     ]
    },
    {
     "name": "stderr",
     "output_type": "stream",
     "text": [
      "\n"
     ]
    },
    {
     "name": "stdout",
     "output_type": "stream",
     "text": [
      "<class 'autokeras.image.image_supervised.ImageClassifier'>"
     ]
    },
    {
     "name": "stdout",
     "output_type": "stream",
     "text": [
      "\n"
     ]
    },
    {
     "name": "stdout",
     "output_type": "stream",
     "text": [
      "0.722"
     ]
    },
    {
     "name": "stdout",
     "output_type": "stream",
     "text": [
      "\n"
     ]
    },
    {
     "name": "stderr",
     "output_type": "stream",
     "text": [
      "WARNING:root:TimeoutError occurred at train() : "
     ]
    },
    {
     "name": "stderr",
     "output_type": "stream",
     "text": [
      "\n"
     ]
    },
    {
     "name": "stdout",
     "output_type": "stream",
     "text": [
      "<class 'autokeras.image.image_supervised.ImageClassifier'>"
     ]
    },
    {
     "name": "stdout",
     "output_type": "stream",
     "text": [
      "\n"
     ]
    },
    {
     "name": "stdout",
     "output_type": "stream",
     "text": [
      "0.232"
     ]
    },
    {
     "name": "stdout",
     "output_type": "stream",
     "text": [
      "\n"
     ]
    },
    {
     "name": "stderr",
     "output_type": "stream",
     "text": [
      "\r",
      " 83%|████████▎ | 5/6 [106:58:37<21:17:27, 76647.77s/it]"
     ]
    },
    {
     "name": "stdout",
     "output_type": "stream",
     "text": [
      "\n"
     ]
    },
    {
     "name": "stdout",
     "output_type": "stream",
     "text": [
      "215.65 minutes have elapsed. TPOT will close down.\n",
      "TPOT closed during evaluation in one generation.\n",
      "WARNING: TPOT may not provide a good pipeline if TPOT is stopped/interrupted in a early generation."
     ]
    },
    {
     "name": "stdout",
     "output_type": "stream",
     "text": [
      "\n"
     ]
    },
    {
     "name": "stdout",
     "output_type": "stream",
     "text": [
      "\n"
     ]
    },
    {
     "name": "stdout",
     "output_type": "stream",
     "text": [
      "\n",
      "TPOT closed prematurely. Will use the current best pipeline."
     ]
    },
    {
     "name": "stdout",
     "output_type": "stream",
     "text": [
      "\n"
     ]
    },
    {
     "name": "stdout",
     "output_type": "stream",
     "text": [
      "Best pipeline:"
     ]
    },
    {
     "name": "stdout",
     "output_type": "stream",
     "text": [
      " "
     ]
    },
    {
     "name": "stdout",
     "output_type": "stream",
     "text": [
      "RandomForestClassifier(input_matrix, bootstrap=True, criterion=gini, max_features=0.1, min_samples_leaf=2, min_samples_split=14, n_estimators=100)"
     ]
    },
    {
     "name": "stdout",
     "output_type": "stream",
     "text": [
      "\n"
     ]
    },
    {
     "name": "stdout",
     "output_type": "stream",
     "text": [
      "<class 'tpot.tpot.TPOTClassifier'>"
     ]
    },
    {
     "name": "stdout",
     "output_type": "stream",
     "text": [
      "\n"
     ]
    },
    {
     "name": "stdout",
     "output_type": "stream",
     "text": [
      "0.74"
     ]
    },
    {
     "name": "stdout",
     "output_type": "stream",
     "text": [
      "\n"
     ]
    },
    {
     "name": "stdout",
     "output_type": "stream",
     "text": [
      "\n"
     ]
    },
    {
     "name": "stdout",
     "output_type": "stream",
     "text": [
      "233.73 minutes have elapsed. TPOT will close down.\n",
      "TPOT closed during evaluation in one generation.\n",
      "WARNING: TPOT may not provide a good pipeline if TPOT is stopped/interrupted in a early generation."
     ]
    },
    {
     "name": "stdout",
     "output_type": "stream",
     "text": [
      "\n"
     ]
    },
    {
     "name": "stdout",
     "output_type": "stream",
     "text": [
      "\n"
     ]
    },
    {
     "name": "stdout",
     "output_type": "stream",
     "text": [
      "\n",
      "TPOT closed prematurely. Will use the current best pipeline."
     ]
    },
    {
     "name": "stdout",
     "output_type": "stream",
     "text": [
      "\n"
     ]
    },
    {
     "name": "stdout",
     "output_type": "stream",
     "text": [
      "Best pipeline:"
     ]
    },
    {
     "name": "stdout",
     "output_type": "stream",
     "text": [
      " "
     ]
    },
    {
     "name": "stdout",
     "output_type": "stream",
     "text": [
      "GradientBoostingClassifier(RFE(input_matrix, criterion=gini, max_features=0.45, n_estimators=100, step=0.8), learning_rate=0.1, max_depth=10, max_features=0.05, min_samples_leaf=11, min_samples_split=9, n_estimators=100, subsample=0.35000000000000003)"
     ]
    },
    {
     "name": "stdout",
     "output_type": "stream",
     "text": [
      "\n"
     ]
    },
    {
     "name": "stdout",
     "output_type": "stream",
     "text": [
      "<class 'tpot.tpot.TPOTClassifier'>"
     ]
    },
    {
     "name": "stdout",
     "output_type": "stream",
     "text": [
      "\n"
     ]
    },
    {
     "name": "stdout",
     "output_type": "stream",
     "text": [
      "0.231"
     ]
    },
    {
     "name": "stdout",
     "output_type": "stream",
     "text": [
      "\n"
     ]
    },
    {
     "name": "stdout",
     "output_type": "stream",
     "text": [
      "Checking whether there is an H2O instance running at http://localhost:54321 "
     ]
    },
    {
     "name": "stdout",
     "output_type": "stream",
     "text": [
      "."
     ]
    },
    {
     "name": "stdout",
     "output_type": "stream",
     "text": [
      "."
     ]
    },
    {
     "name": "stdout",
     "output_type": "stream",
     "text": [
      "."
     ]
    },
    {
     "name": "stdout",
     "output_type": "stream",
     "text": [
      "."
     ]
    },
    {
     "name": "stdout",
     "output_type": "stream",
     "text": [
      "."
     ]
    },
    {
     "name": "stdout",
     "output_type": "stream",
     "text": [
      " not found."
     ]
    },
    {
     "name": "stdout",
     "output_type": "stream",
     "text": [
      "\n"
     ]
    },
    {
     "name": "stdout",
     "output_type": "stream",
     "text": [
      "Attempting to start a local H2O server..."
     ]
    },
    {
     "name": "stdout",
     "output_type": "stream",
     "text": [
      "\n"
     ]
    },
    {
     "name": "stdout",
     "output_type": "stream",
     "text": [
      "  Java Version: openjdk version \"11.0.2\" 2019-01-15; OpenJDK Runtime Environment 18.9 (build 11.0.2+9); OpenJDK 64-Bit Server VM 18.9 (build 11.0.2+9, mixed mode)"
     ]
    },
    {
     "name": "stdout",
     "output_type": "stream",
     "text": [
      "\n"
     ]
    },
    {
     "name": "stdout",
     "output_type": "stream",
     "text": [
      "  Starting server from /wrk/users/thalvari/dpEmu-AutoML/venv/lib/python3.6/site-packages/h2o/backend/bin/h2o.jar"
     ]
    },
    {
     "name": "stdout",
     "output_type": "stream",
     "text": [
      "\n"
     ]
    },
    {
     "name": "stdout",
     "output_type": "stream",
     "text": [
      "  Ice root: /wrk/users/thalvari/tmpn1f9vz8k"
     ]
    },
    {
     "name": "stdout",
     "output_type": "stream",
     "text": [
      "\n"
     ]
    },
    {
     "name": "stdout",
     "output_type": "stream",
     "text": [
      "  JVM stdout: /wrk/users/thalvari/tmpn1f9vz8k/h2o_thalvari_started_from_python.out"
     ]
    },
    {
     "name": "stdout",
     "output_type": "stream",
     "text": [
      "\n"
     ]
    },
    {
     "name": "stdout",
     "output_type": "stream",
     "text": [
      "  JVM stderr: /wrk/users/thalvari/tmpn1f9vz8k/h2o_thalvari_started_from_python.err"
     ]
    },
    {
     "name": "stdout",
     "output_type": "stream",
     "text": [
      "\n"
     ]
    },
    {
     "name": "stdout",
     "output_type": "stream",
     "text": [
      "  Server is running at http://127.0.0.1:54321"
     ]
    },
    {
     "name": "stdout",
     "output_type": "stream",
     "text": [
      "\n"
     ]
    },
    {
     "name": "stdout",
     "output_type": "stream",
     "text": [
      "Connecting to H2O server at http://127.0.0.1:54321 .."
     ]
    },
    {
     "name": "stdout",
     "output_type": "stream",
     "text": [
      "."
     ]
    },
    {
     "name": "stdout",
     "output_type": "stream",
     "text": [
      " successful."
     ]
    },
    {
     "name": "stdout",
     "output_type": "stream",
     "text": [
      "\n"
     ]
    },
    {
     "data": {
      "text/html": [
       "<div style=\"overflow:auto\"><table style=\"width:50%\"><tr><td>H2O cluster uptime:</td>\n",
       "<td>01 secs</td></tr>\n",
       "<tr><td>H2O cluster timezone:</td>\n",
       "<td>Europe/Helsinki</td></tr>\n",
       "<tr><td>H2O data parsing timezone:</td>\n",
       "<td>UTC</td></tr>\n",
       "<tr><td>H2O cluster version:</td>\n",
       "<td>3.26.0.10</td></tr>\n",
       "<tr><td>H2O cluster version age:</td>\n",
       "<td>19 days </td></tr>\n",
       "<tr><td>H2O cluster name:</td>\n",
       "<td>#1070983854</td></tr>\n",
       "<tr><td>H2O cluster total nodes:</td>\n",
       "<td>1</td></tr>\n",
       "<tr><td>H2O cluster free memory:</td>\n",
       "<td>29.97 Gb</td></tr>\n",
       "<tr><td>H2O cluster total cores:</td>\n",
       "<td>96</td></tr>\n",
       "<tr><td>H2O cluster allowed cores:</td>\n",
       "<td>48</td></tr>\n",
       "<tr><td>H2O cluster status:</td>\n",
       "<td>accepting new members, healthy</td></tr>\n",
       "<tr><td>H2O connection url:</td>\n",
       "<td>http://127.0.0.1:54321</td></tr>\n",
       "<tr><td>H2O connection proxy:</td>\n",
       "<td>{'http': None, 'https': None}</td></tr>\n",
       "<tr><td>H2O internal security:</td>\n",
       "<td>False</td></tr>\n",
       "<tr><td>H2O API Extensions:</td>\n",
       "<td>Amazon S3, XGBoost, Algos, AutoML, Core V3, TargetEncoder, Core V4</td></tr>\n",
       "<tr><td>Python version:</td>\n",
       "<td>3.6.6 final</td></tr></table></div>"
      ],
      "text/plain": [
       "--------------------------  ------------------------------------------------------------------\n",
       "H2O cluster uptime:         01 secs\n",
       "H2O cluster timezone:       Europe/Helsinki\n",
       "H2O data parsing timezone:  UTC\n",
       "H2O cluster version:        3.26.0.10\n",
       "H2O cluster version age:    19 days\n",
       "H2O cluster name:           #1070983854\n",
       "H2O cluster total nodes:    1\n",
       "H2O cluster free memory:    29.97 Gb\n",
       "H2O cluster total cores:    96\n",
       "H2O cluster allowed cores:  48\n",
       "H2O cluster status:         accepting new members, healthy\n",
       "H2O connection url:         http://127.0.0.1:54321\n",
       "H2O connection proxy:       {'http': None, 'https': None}\n",
       "H2O internal security:      False\n",
       "H2O API Extensions:         Amazon S3, XGBoost, Algos, AutoML, Core V3, TargetEncoder, Core V4\n",
       "Python version:             3.6.6 final\n",
       "--------------------------  ------------------------------------------------------------------"
      ]
     },
     "metadata": {},
     "output_type": "display_data"
    },
    {
     "name": "stdout",
     "output_type": "stream",
     "text": [
      "H2O session _sid_9634 closed."
     ]
    },
    {
     "name": "stdout",
     "output_type": "stream",
     "text": [
      "\n"
     ]
    },
    {
     "name": "stdout",
     "output_type": "stream",
     "text": [
      "<class 'h2o.automl.autoh2o.H2OAutoML'>"
     ]
    },
    {
     "name": "stdout",
     "output_type": "stream",
     "text": [
      "\n"
     ]
    },
    {
     "name": "stdout",
     "output_type": "stream",
     "text": [
      "0.785"
     ]
    },
    {
     "name": "stdout",
     "output_type": "stream",
     "text": [
      "\n"
     ]
    },
    {
     "name": "stdout",
     "output_type": "stream",
     "text": [
      "Checking whether there is an H2O instance running at http://localhost:54321 "
     ]
    },
    {
     "name": "stdout",
     "output_type": "stream",
     "text": [
      "."
     ]
    },
    {
     "name": "stdout",
     "output_type": "stream",
     "text": [
      "."
     ]
    },
    {
     "name": "stdout",
     "output_type": "stream",
     "text": [
      "."
     ]
    },
    {
     "name": "stdout",
     "output_type": "stream",
     "text": [
      "."
     ]
    },
    {
     "name": "stdout",
     "output_type": "stream",
     "text": [
      "."
     ]
    },
    {
     "name": "stdout",
     "output_type": "stream",
     "text": [
      " not found."
     ]
    },
    {
     "name": "stdout",
     "output_type": "stream",
     "text": [
      "\n"
     ]
    },
    {
     "name": "stdout",
     "output_type": "stream",
     "text": [
      "Attempting to start a local H2O server..."
     ]
    },
    {
     "name": "stdout",
     "output_type": "stream",
     "text": [
      "\n"
     ]
    },
    {
     "name": "stdout",
     "output_type": "stream",
     "text": [
      "  Java Version: openjdk version \"11.0.2\" 2019-01-15; OpenJDK Runtime Environment 18.9 (build 11.0.2+9); OpenJDK 64-Bit Server VM 18.9 (build 11.0.2+9, mixed mode)"
     ]
    },
    {
     "name": "stdout",
     "output_type": "stream",
     "text": [
      "\n"
     ]
    },
    {
     "name": "stdout",
     "output_type": "stream",
     "text": [
      "  Starting server from /wrk/users/thalvari/dpEmu-AutoML/venv/lib/python3.6/site-packages/h2o/backend/bin/h2o.jar"
     ]
    },
    {
     "name": "stdout",
     "output_type": "stream",
     "text": [
      "\n"
     ]
    },
    {
     "name": "stdout",
     "output_type": "stream",
     "text": [
      "  Ice root: /wrk/users/thalvari/tmp5e3lnaxp"
     ]
    },
    {
     "name": "stdout",
     "output_type": "stream",
     "text": [
      "\n"
     ]
    },
    {
     "name": "stdout",
     "output_type": "stream",
     "text": [
      "  JVM stdout: /wrk/users/thalvari/tmp5e3lnaxp/h2o_thalvari_started_from_python.out"
     ]
    },
    {
     "name": "stdout",
     "output_type": "stream",
     "text": [
      "\n"
     ]
    },
    {
     "name": "stdout",
     "output_type": "stream",
     "text": [
      "  JVM stderr: /wrk/users/thalvari/tmp5e3lnaxp/h2o_thalvari_started_from_python.err"
     ]
    },
    {
     "name": "stdout",
     "output_type": "stream",
     "text": [
      "\n"
     ]
    },
    {
     "name": "stdout",
     "output_type": "stream",
     "text": [
      "  Server is running at http://127.0.0.1:54321"
     ]
    },
    {
     "name": "stdout",
     "output_type": "stream",
     "text": [
      "\n"
     ]
    },
    {
     "name": "stdout",
     "output_type": "stream",
     "text": [
      "Connecting to H2O server at http://127.0.0.1:54321 .."
     ]
    },
    {
     "name": "stdout",
     "output_type": "stream",
     "text": [
      "."
     ]
    },
    {
     "name": "stdout",
     "output_type": "stream",
     "text": [
      " successful."
     ]
    },
    {
     "name": "stdout",
     "output_type": "stream",
     "text": [
      "\n"
     ]
    },
    {
     "data": {
      "text/html": [
       "<div style=\"overflow:auto\"><table style=\"width:50%\"><tr><td>H2O cluster uptime:</td>\n",
       "<td>01 secs</td></tr>\n",
       "<tr><td>H2O cluster timezone:</td>\n",
       "<td>Europe/Helsinki</td></tr>\n",
       "<tr><td>H2O data parsing timezone:</td>\n",
       "<td>UTC</td></tr>\n",
       "<tr><td>H2O cluster version:</td>\n",
       "<td>3.26.0.10</td></tr>\n",
       "<tr><td>H2O cluster version age:</td>\n",
       "<td>19 days </td></tr>\n",
       "<tr><td>H2O cluster name:</td>\n",
       "<td>#885103042</td></tr>\n",
       "<tr><td>H2O cluster total nodes:</td>\n",
       "<td>1</td></tr>\n",
       "<tr><td>H2O cluster free memory:</td>\n",
       "<td>29.97 Gb</td></tr>\n",
       "<tr><td>H2O cluster total cores:</td>\n",
       "<td>96</td></tr>\n",
       "<tr><td>H2O cluster allowed cores:</td>\n",
       "<td>48</td></tr>\n",
       "<tr><td>H2O cluster status:</td>\n",
       "<td>accepting new members, healthy</td></tr>\n",
       "<tr><td>H2O connection url:</td>\n",
       "<td>http://127.0.0.1:54321</td></tr>\n",
       "<tr><td>H2O connection proxy:</td>\n",
       "<td>{'http': None, 'https': None}</td></tr>\n",
       "<tr><td>H2O internal security:</td>\n",
       "<td>False</td></tr>\n",
       "<tr><td>H2O API Extensions:</td>\n",
       "<td>Amazon S3, XGBoost, Algos, AutoML, Core V3, TargetEncoder, Core V4</td></tr>\n",
       "<tr><td>Python version:</td>\n",
       "<td>3.6.6 final</td></tr></table></div>"
      ],
      "text/plain": [
       "--------------------------  ------------------------------------------------------------------\n",
       "H2O cluster uptime:         01 secs\n",
       "H2O cluster timezone:       Europe/Helsinki\n",
       "H2O data parsing timezone:  UTC\n",
       "H2O cluster version:        3.26.0.10\n",
       "H2O cluster version age:    19 days\n",
       "H2O cluster name:           #885103042\n",
       "H2O cluster total nodes:    1\n",
       "H2O cluster free memory:    29.97 Gb\n",
       "H2O cluster total cores:    96\n",
       "H2O cluster allowed cores:  48\n",
       "H2O cluster status:         accepting new members, healthy\n",
       "H2O connection url:         http://127.0.0.1:54321\n",
       "H2O connection proxy:       {'http': None, 'https': None}\n",
       "H2O internal security:      False\n",
       "H2O API Extensions:         Amazon S3, XGBoost, Algos, AutoML, Core V3, TargetEncoder, Core V4\n",
       "Python version:             3.6.6 final\n",
       "--------------------------  ------------------------------------------------------------------"
      ]
     },
     "metadata": {},
     "output_type": "display_data"
    },
    {
     "name": "stdout",
     "output_type": "stream",
     "text": [
      "H2O session _sid_8395 closed."
     ]
    },
    {
     "name": "stdout",
     "output_type": "stream",
     "text": [
      "\n"
     ]
    },
    {
     "name": "stdout",
     "output_type": "stream",
     "text": [
      "<class 'h2o.automl.autoh2o.H2OAutoML'>"
     ]
    },
    {
     "name": "stdout",
     "output_type": "stream",
     "text": [
      "\n"
     ]
    },
    {
     "name": "stdout",
     "output_type": "stream",
     "text": [
      "0.238"
     ]
    },
    {
     "name": "stdout",
     "output_type": "stream",
     "text": [
      "\n"
     ]
    },
    {
     "name": "stderr",
     "output_type": "stream",
     "text": [
      "WARNING:root:TimeoutError occurred at train() : "
     ]
    },
    {
     "name": "stderr",
     "output_type": "stream",
     "text": [
      "\n"
     ]
    },
    {
     "name": "stdout",
     "output_type": "stream",
     "text": [
      "<class 'autokeras.image.image_supervised.ImageClassifier'>"
     ]
    },
    {
     "name": "stdout",
     "output_type": "stream",
     "text": [
      "\n"
     ]
    },
    {
     "name": "stdout",
     "output_type": "stream",
     "text": [
      "0.702"
     ]
    },
    {
     "name": "stdout",
     "output_type": "stream",
     "text": [
      "\n"
     ]
    },
    {
     "name": "stderr",
     "output_type": "stream",
     "text": [
      "WARNING:root:TimeoutError occurred at train() : "
     ]
    },
    {
     "name": "stderr",
     "output_type": "stream",
     "text": [
      "\n"
     ]
    },
    {
     "name": "stdout",
     "output_type": "stream",
     "text": [
      "<class 'autokeras.image.image_supervised.ImageClassifier'>"
     ]
    },
    {
     "name": "stdout",
     "output_type": "stream",
     "text": [
      "\n"
     ]
    },
    {
     "name": "stdout",
     "output_type": "stream",
     "text": [
      "0.233"
     ]
    },
    {
     "name": "stdout",
     "output_type": "stream",
     "text": [
      "\n"
     ]
    },
    {
     "name": "stderr",
     "output_type": "stream",
     "text": [
      "\r",
      "100%|██████████| 6/6 [127:45:28<00:00, 76096.64s/it]   "
     ]
    },
    {
     "name": "stderr",
     "output_type": "stream",
     "text": [
      "\r",
      "100%|██████████| 6/6 [127:45:28<00:00, 76654.78s/it]"
     ]
    },
    {
     "name": "stderr",
     "output_type": "stream",
     "text": [
      "\n"
     ]
    }
   ],
   "source": [
    "train_data, test_data, train_labels, test_labels = get_data()\n",
    "\n",
    "df = runner.run(\n",
    "    train_data=train_data,\n",
    "    test_data=test_data,\n",
    "    preproc=Preprocessor,\n",
    "    preproc_params=None,\n",
    "    err_root_node=get_err_root_node(),\n",
    "    err_params_list=get_err_params_list(train_data),\n",
    "    model_params_dict_list=get_model_params_dict_list(train_labels, test_labels),\n",
    "    n_processes=1\n",
    ")"
   ]
  },
  {
   "cell_type": "code",
   "execution_count": 11,
   "metadata": {
    "collapsed": false,
    "papermill": {
     "duration": 3.690798,
     "end_time": "2019-11-27T05:57:24.554185",
     "exception": false,
     "start_time": "2019-11-27T05:57:20.863387",
     "status": "completed"
    },
    "pycharm": {
     "is_executing": false,
     "name": "#%%\n"
    },
    "tags": []
   },
   "outputs": [
    {
     "data": {
      "text/plain": [
       "'AutoKeras #1'"
      ]
     },
     "metadata": {},
     "output_type": "display_data"
    },
    {
     "data": {
      "text/html": [
       "<style  type=\"text/css\" >\n",
       "</style><table id=\"T_c73c57d2_10da_11ea_b803_80000027fe80\" ><thead>    <tr>        <th class=\"col_heading level0 col0\" >max_angle</th>        <th class=\"col_heading level0 col1\" >test_acc</th>        <th class=\"col_heading level0 col2\" >train_acc</th>        <th class=\"col_heading level0 col3\" >time_err</th>        <th class=\"col_heading level0 col4\" >time_pre</th>        <th class=\"col_heading level0 col5\" >time_mod</th>    </tr></thead><tbody>\n",
       "                <tr>\n",
       "                                <td id=\"T_c73c57d2_10da_11ea_b803_80000027fe80row0_col0\" class=\"data row0 col0\" >0</td>\n",
       "                        <td id=\"T_c73c57d2_10da_11ea_b803_80000027fe80row0_col1\" class=\"data row0 col1\" >0.887</td>\n",
       "                        <td id=\"T_c73c57d2_10da_11ea_b803_80000027fe80row0_col2\" class=\"data row0 col2\" >0.928</td>\n",
       "                        <td id=\"T_c73c57d2_10da_11ea_b803_80000027fe80row0_col3\" class=\"data row0 col3\" >6.061</td>\n",
       "                        <td id=\"T_c73c57d2_10da_11ea_b803_80000027fe80row0_col4\" class=\"data row0 col4\" >0.653</td>\n",
       "                        <td id=\"T_c73c57d2_10da_11ea_b803_80000027fe80row0_col5\" class=\"data row0 col5\" >10861.9</td>\n",
       "            </tr>\n",
       "            <tr>\n",
       "                                <td id=\"T_c73c57d2_10da_11ea_b803_80000027fe80row1_col0\" class=\"data row1 col0\" >36</td>\n",
       "                        <td id=\"T_c73c57d2_10da_11ea_b803_80000027fe80row1_col1\" class=\"data row1 col1\" >0.868</td>\n",
       "                        <td id=\"T_c73c57d2_10da_11ea_b803_80000027fe80row1_col2\" class=\"data row1 col2\" >0.931</td>\n",
       "                        <td id=\"T_c73c57d2_10da_11ea_b803_80000027fe80row1_col3\" class=\"data row1 col3\" >8.433</td>\n",
       "                        <td id=\"T_c73c57d2_10da_11ea_b803_80000027fe80row1_col4\" class=\"data row1 col4\" >0.703</td>\n",
       "                        <td id=\"T_c73c57d2_10da_11ea_b803_80000027fe80row1_col5\" class=\"data row1 col5\" >11916</td>\n",
       "            </tr>\n",
       "            <tr>\n",
       "                                <td id=\"T_c73c57d2_10da_11ea_b803_80000027fe80row2_col0\" class=\"data row2 col0\" >72</td>\n",
       "                        <td id=\"T_c73c57d2_10da_11ea_b803_80000027fe80row2_col1\" class=\"data row2 col1\" >0.779</td>\n",
       "                        <td id=\"T_c73c57d2_10da_11ea_b803_80000027fe80row2_col2\" class=\"data row2 col2\" >0.866</td>\n",
       "                        <td id=\"T_c73c57d2_10da_11ea_b803_80000027fe80row2_col3\" class=\"data row2 col3\" >8.152</td>\n",
       "                        <td id=\"T_c73c57d2_10da_11ea_b803_80000027fe80row2_col4\" class=\"data row2 col4\" >0.615</td>\n",
       "                        <td id=\"T_c73c57d2_10da_11ea_b803_80000027fe80row2_col5\" class=\"data row2 col5\" >10857.9</td>\n",
       "            </tr>\n",
       "            <tr>\n",
       "                                <td id=\"T_c73c57d2_10da_11ea_b803_80000027fe80row3_col0\" class=\"data row3 col0\" >108</td>\n",
       "                        <td id=\"T_c73c57d2_10da_11ea_b803_80000027fe80row3_col1\" class=\"data row3 col1\" >0.734</td>\n",
       "                        <td id=\"T_c73c57d2_10da_11ea_b803_80000027fe80row3_col2\" class=\"data row3 col2\" >0.776</td>\n",
       "                        <td id=\"T_c73c57d2_10da_11ea_b803_80000027fe80row3_col3\" class=\"data row3 col3\" >8.156</td>\n",
       "                        <td id=\"T_c73c57d2_10da_11ea_b803_80000027fe80row3_col4\" class=\"data row3 col4\" >0.621</td>\n",
       "                        <td id=\"T_c73c57d2_10da_11ea_b803_80000027fe80row3_col5\" class=\"data row3 col5\" >10856.9</td>\n",
       "            </tr>\n",
       "            <tr>\n",
       "                                <td id=\"T_c73c57d2_10da_11ea_b803_80000027fe80row4_col0\" class=\"data row4 col0\" >144</td>\n",
       "                        <td id=\"T_c73c57d2_10da_11ea_b803_80000027fe80row4_col1\" class=\"data row4 col1\" >0.722</td>\n",
       "                        <td id=\"T_c73c57d2_10da_11ea_b803_80000027fe80row4_col2\" class=\"data row4 col2\" >0.761</td>\n",
       "                        <td id=\"T_c73c57d2_10da_11ea_b803_80000027fe80row4_col3\" class=\"data row4 col3\" >8.563</td>\n",
       "                        <td id=\"T_c73c57d2_10da_11ea_b803_80000027fe80row4_col4\" class=\"data row4 col4\" >0.691</td>\n",
       "                        <td id=\"T_c73c57d2_10da_11ea_b803_80000027fe80row4_col5\" class=\"data row4 col5\" >10859.1</td>\n",
       "            </tr>\n",
       "            <tr>\n",
       "                                <td id=\"T_c73c57d2_10da_11ea_b803_80000027fe80row5_col0\" class=\"data row5 col0\" >180</td>\n",
       "                        <td id=\"T_c73c57d2_10da_11ea_b803_80000027fe80row5_col1\" class=\"data row5 col1\" >0.702</td>\n",
       "                        <td id=\"T_c73c57d2_10da_11ea_b803_80000027fe80row5_col2\" class=\"data row5 col2\" >0.743</td>\n",
       "                        <td id=\"T_c73c57d2_10da_11ea_b803_80000027fe80row5_col3\" class=\"data row5 col3\" >8.278</td>\n",
       "                        <td id=\"T_c73c57d2_10da_11ea_b803_80000027fe80row5_col4\" class=\"data row5 col4\" >0.616</td>\n",
       "                        <td id=\"T_c73c57d2_10da_11ea_b803_80000027fe80row5_col5\" class=\"data row5 col5\" >10857</td>\n",
       "            </tr>\n",
       "    </tbody></table>"
      ],
      "text/plain": [
       "<pandas.io.formats.style.Styler at 0x2b3ab5fa7518>"
      ]
     },
     "metadata": {},
     "output_type": "display_data"
    },
    {
     "data": {
      "text/html": [
       "<style  type=\"text/css\" >\n",
       "</style><table id=\"T_c744749e_10da_11ea_b803_80000027fe80\" ><thead>    <tr>        <th class=\"col_heading level0 col0\" >max_angle</th>        <th class=\"col_heading level0 col1\" >pipe_0</th>        <th class=\"col_heading level0 col2\" >pipe_1</th>        <th class=\"col_heading level0 col3\" >pipe_2</th>        <th class=\"col_heading level0 col4\" >pipe_3</th>        <th class=\"col_heading level0 col5\" >pipe_4</th>        <th class=\"col_heading level0 col6\" >pipe_5</th>        <th class=\"col_heading level0 col7\" >pipe_6</th>        <th class=\"col_heading level0 col8\" >pipe_7</th>        <th class=\"col_heading level0 col9\" >pipe_8</th>        <th class=\"col_heading level0 col10\" >pipe_9</th>        <th class=\"col_heading level0 col11\" >pipe_10</th>        <th class=\"col_heading level0 col12\" >pipe_11</th>        <th class=\"col_heading level0 col13\" >pipe_12</th>        <th class=\"col_heading level0 col14\" >pipe_13</th>        <th class=\"col_heading level0 col15\" >pipe_14</th>        <th class=\"col_heading level0 col16\" >pipe_15</th>        <th class=\"col_heading level0 col17\" >pipe_16</th>        <th class=\"col_heading level0 col18\" >pipe_17</th>        <th class=\"col_heading level0 col19\" >pipe_18</th>        <th class=\"col_heading level0 col20\" >pipe_19</th>        <th class=\"col_heading level0 col21\" >pipe_20</th>        <th class=\"col_heading level0 col22\" >pipe_21</th>        <th class=\"col_heading level0 col23\" >pipe_22</th>        <th class=\"col_heading level0 col24\" >pipe_23</th>        <th class=\"col_heading level0 col25\" >pipe_24</th>        <th class=\"col_heading level0 col26\" >pipe_25</th>        <th class=\"col_heading level0 col27\" >pipe_26</th>        <th class=\"col_heading level0 col28\" >pipe_27</th>        <th class=\"col_heading level0 col29\" >pipe_28</th>        <th class=\"col_heading level0 col30\" >pipe_29</th>        <th class=\"col_heading level0 col31\" >pipe_30</th>        <th class=\"col_heading level0 col32\" >pipe_31</th>        <th class=\"col_heading level0 col33\" >pipe_32</th>        <th class=\"col_heading level0 col34\" >pipe_33</th>        <th class=\"col_heading level0 col35\" >pipe_34</th>        <th class=\"col_heading level0 col36\" >pipe_35</th>        <th class=\"col_heading level0 col37\" >pipe_36</th>        <th class=\"col_heading level0 col38\" >pipe_37</th>        <th class=\"col_heading level0 col39\" >pipe_38</th>        <th class=\"col_heading level0 col40\" >pipe_39</th>        <th class=\"col_heading level0 col41\" >pipe_40</th>        <th class=\"col_heading level0 col42\" >pipe_41</th>        <th class=\"col_heading level0 col43\" >pipe_42</th>        <th class=\"col_heading level0 col44\" >pipe_43</th>        <th class=\"col_heading level0 col45\" >pipe_44</th>        <th class=\"col_heading level0 col46\" >pipe_45</th>        <th class=\"col_heading level0 col47\" >pipe_46</th>        <th class=\"col_heading level0 col48\" >pipe_47</th>        <th class=\"col_heading level0 col49\" >pipe_48</th>        <th class=\"col_heading level0 col50\" >pipe_49</th>        <th class=\"col_heading level0 col51\" >pipe_50</th>        <th class=\"col_heading level0 col52\" >pipe_51</th>        <th class=\"col_heading level0 col53\" >pipe_52</th>        <th class=\"col_heading level0 col54\" >pipe_53</th>        <th class=\"col_heading level0 col55\" >pipe_54</th>        <th class=\"col_heading level0 col56\" >pipe_55</th>        <th class=\"col_heading level0 col57\" >pipe_56</th>        <th class=\"col_heading level0 col58\" >pipe_57</th>        <th class=\"col_heading level0 col59\" >pipe_58</th>        <th class=\"col_heading level0 col60\" >pipe_59</th>        <th class=\"col_heading level0 col61\" >pipe_60</th>        <th class=\"col_heading level0 col62\" >pipe_61</th>        <th class=\"col_heading level0 col63\" >pipe_62</th>        <th class=\"col_heading level0 col64\" >pipe_63</th>        <th class=\"col_heading level0 col65\" >pipe_64</th>        <th class=\"col_heading level0 col66\" >pipe_65</th>        <th class=\"col_heading level0 col67\" >pipe_66</th>        <th class=\"col_heading level0 col68\" >pipe_67</th>        <th class=\"col_heading level0 col69\" >pipe_68</th>        <th class=\"col_heading level0 col70\" >pipe_69</th>        <th class=\"col_heading level0 col71\" >pipe_70</th>        <th class=\"col_heading level0 col72\" >pipe_71</th>        <th class=\"col_heading level0 col73\" >pipe_72</th>        <th class=\"col_heading level0 col74\" >pipe_73</th>        <th class=\"col_heading level0 col75\" >pipe_74</th>        <th class=\"col_heading level0 col76\" >pipe_75</th>    </tr></thead><tbody>\n",
       "                <tr>\n",
       "                                <td id=\"T_c744749e_10da_11ea_b803_80000027fe80row0_col0\" class=\"data row0 col0\" >0</td>\n",
       "                        <td id=\"T_c744749e_10da_11ea_b803_80000027fe80row0_col1\" class=\"data row0 col1\" >ReLU()</td>\n",
       "                        <td id=\"T_c744749e_10da_11ea_b803_80000027fe80row0_col2\" class=\"data row0 col2\" >BatchNorm2d(1, eps=1e-05, momentum=0.1, affine=True, track_running_stats=True)</td>\n",
       "                        <td id=\"T_c744749e_10da_11ea_b803_80000027fe80row0_col3\" class=\"data row0 col3\" >Conv2d(1, 64, kernel_size=(3, 3), stride=(1, 1), padding=(1, 1))</td>\n",
       "                        <td id=\"T_c744749e_10da_11ea_b803_80000027fe80row0_col4\" class=\"data row0 col4\" >MaxPool2d(kernel_size=2, stride=2, padding=0, dilation=1, ceil_mode=False)</td>\n",
       "                        <td id=\"T_c744749e_10da_11ea_b803_80000027fe80row0_col5\" class=\"data row0 col5\" >ReLU()</td>\n",
       "                        <td id=\"T_c744749e_10da_11ea_b803_80000027fe80row0_col6\" class=\"data row0 col6\" >BatchNorm2d(64, eps=1e-05, momentum=0.1, affine=True, track_running_stats=True)</td>\n",
       "                        <td id=\"T_c744749e_10da_11ea_b803_80000027fe80row0_col7\" class=\"data row0 col7\" >Conv2d(64, 64, kernel_size=(3, 3), stride=(1, 1), padding=(1, 1))</td>\n",
       "                        <td id=\"T_c744749e_10da_11ea_b803_80000027fe80row0_col8\" class=\"data row0 col8\" >MaxPool2d(kernel_size=2, stride=2, padding=0, dilation=1, ceil_mode=False)</td>\n",
       "                        <td id=\"T_c744749e_10da_11ea_b803_80000027fe80row0_col9\" class=\"data row0 col9\" >ReLU()</td>\n",
       "                        <td id=\"T_c744749e_10da_11ea_b803_80000027fe80row0_col10\" class=\"data row0 col10\" >BatchNorm2d(64, eps=1e-05, momentum=0.1, affine=True, track_running_stats=True)</td>\n",
       "                        <td id=\"T_c744749e_10da_11ea_b803_80000027fe80row0_col11\" class=\"data row0 col11\" >Conv2d(64, 64, kernel_size=(3, 3), stride=(1, 1), padding=(1, 1))</td>\n",
       "                        <td id=\"T_c744749e_10da_11ea_b803_80000027fe80row0_col12\" class=\"data row0 col12\" >MaxPool2d(kernel_size=2, stride=2, padding=0, dilation=1, ceil_mode=False)</td>\n",
       "                        <td id=\"T_c744749e_10da_11ea_b803_80000027fe80row0_col13\" class=\"data row0 col13\" >GlobalAvgPool2d()</td>\n",
       "                        <td id=\"T_c744749e_10da_11ea_b803_80000027fe80row0_col14\" class=\"data row0 col14\" >Dropout2d(p=0.25)</td>\n",
       "                        <td id=\"T_c744749e_10da_11ea_b803_80000027fe80row0_col15\" class=\"data row0 col15\" >Linear(in_features=64, out_features=64, bias=True)</td>\n",
       "                        <td id=\"T_c744749e_10da_11ea_b803_80000027fe80row0_col16\" class=\"data row0 col16\" >ReLU()</td>\n",
       "                        <td id=\"T_c744749e_10da_11ea_b803_80000027fe80row0_col17\" class=\"data row0 col17\" >Linear(in_features=64, out_features=10, bias=True)</td>\n",
       "                        <td id=\"T_c744749e_10da_11ea_b803_80000027fe80row0_col18\" class=\"data row0 col18\" >nan</td>\n",
       "                        <td id=\"T_c744749e_10da_11ea_b803_80000027fe80row0_col19\" class=\"data row0 col19\" >nan</td>\n",
       "                        <td id=\"T_c744749e_10da_11ea_b803_80000027fe80row0_col20\" class=\"data row0 col20\" >nan</td>\n",
       "                        <td id=\"T_c744749e_10da_11ea_b803_80000027fe80row0_col21\" class=\"data row0 col21\" >nan</td>\n",
       "                        <td id=\"T_c744749e_10da_11ea_b803_80000027fe80row0_col22\" class=\"data row0 col22\" >nan</td>\n",
       "                        <td id=\"T_c744749e_10da_11ea_b803_80000027fe80row0_col23\" class=\"data row0 col23\" >nan</td>\n",
       "                        <td id=\"T_c744749e_10da_11ea_b803_80000027fe80row0_col24\" class=\"data row0 col24\" >nan</td>\n",
       "                        <td id=\"T_c744749e_10da_11ea_b803_80000027fe80row0_col25\" class=\"data row0 col25\" >nan</td>\n",
       "                        <td id=\"T_c744749e_10da_11ea_b803_80000027fe80row0_col26\" class=\"data row0 col26\" >nan</td>\n",
       "                        <td id=\"T_c744749e_10da_11ea_b803_80000027fe80row0_col27\" class=\"data row0 col27\" >nan</td>\n",
       "                        <td id=\"T_c744749e_10da_11ea_b803_80000027fe80row0_col28\" class=\"data row0 col28\" >nan</td>\n",
       "                        <td id=\"T_c744749e_10da_11ea_b803_80000027fe80row0_col29\" class=\"data row0 col29\" >nan</td>\n",
       "                        <td id=\"T_c744749e_10da_11ea_b803_80000027fe80row0_col30\" class=\"data row0 col30\" >nan</td>\n",
       "                        <td id=\"T_c744749e_10da_11ea_b803_80000027fe80row0_col31\" class=\"data row0 col31\" >nan</td>\n",
       "                        <td id=\"T_c744749e_10da_11ea_b803_80000027fe80row0_col32\" class=\"data row0 col32\" >nan</td>\n",
       "                        <td id=\"T_c744749e_10da_11ea_b803_80000027fe80row0_col33\" class=\"data row0 col33\" >nan</td>\n",
       "                        <td id=\"T_c744749e_10da_11ea_b803_80000027fe80row0_col34\" class=\"data row0 col34\" >nan</td>\n",
       "                        <td id=\"T_c744749e_10da_11ea_b803_80000027fe80row0_col35\" class=\"data row0 col35\" >nan</td>\n",
       "                        <td id=\"T_c744749e_10da_11ea_b803_80000027fe80row0_col36\" class=\"data row0 col36\" >nan</td>\n",
       "                        <td id=\"T_c744749e_10da_11ea_b803_80000027fe80row0_col37\" class=\"data row0 col37\" >nan</td>\n",
       "                        <td id=\"T_c744749e_10da_11ea_b803_80000027fe80row0_col38\" class=\"data row0 col38\" >nan</td>\n",
       "                        <td id=\"T_c744749e_10da_11ea_b803_80000027fe80row0_col39\" class=\"data row0 col39\" >nan</td>\n",
       "                        <td id=\"T_c744749e_10da_11ea_b803_80000027fe80row0_col40\" class=\"data row0 col40\" >nan</td>\n",
       "                        <td id=\"T_c744749e_10da_11ea_b803_80000027fe80row0_col41\" class=\"data row0 col41\" >nan</td>\n",
       "                        <td id=\"T_c744749e_10da_11ea_b803_80000027fe80row0_col42\" class=\"data row0 col42\" >nan</td>\n",
       "                        <td id=\"T_c744749e_10da_11ea_b803_80000027fe80row0_col43\" class=\"data row0 col43\" >nan</td>\n",
       "                        <td id=\"T_c744749e_10da_11ea_b803_80000027fe80row0_col44\" class=\"data row0 col44\" >nan</td>\n",
       "                        <td id=\"T_c744749e_10da_11ea_b803_80000027fe80row0_col45\" class=\"data row0 col45\" >nan</td>\n",
       "                        <td id=\"T_c744749e_10da_11ea_b803_80000027fe80row0_col46\" class=\"data row0 col46\" >nan</td>\n",
       "                        <td id=\"T_c744749e_10da_11ea_b803_80000027fe80row0_col47\" class=\"data row0 col47\" >nan</td>\n",
       "                        <td id=\"T_c744749e_10da_11ea_b803_80000027fe80row0_col48\" class=\"data row0 col48\" >nan</td>\n",
       "                        <td id=\"T_c744749e_10da_11ea_b803_80000027fe80row0_col49\" class=\"data row0 col49\" >nan</td>\n",
       "                        <td id=\"T_c744749e_10da_11ea_b803_80000027fe80row0_col50\" class=\"data row0 col50\" >nan</td>\n",
       "                        <td id=\"T_c744749e_10da_11ea_b803_80000027fe80row0_col51\" class=\"data row0 col51\" >nan</td>\n",
       "                        <td id=\"T_c744749e_10da_11ea_b803_80000027fe80row0_col52\" class=\"data row0 col52\" >nan</td>\n",
       "                        <td id=\"T_c744749e_10da_11ea_b803_80000027fe80row0_col53\" class=\"data row0 col53\" >nan</td>\n",
       "                        <td id=\"T_c744749e_10da_11ea_b803_80000027fe80row0_col54\" class=\"data row0 col54\" >nan</td>\n",
       "                        <td id=\"T_c744749e_10da_11ea_b803_80000027fe80row0_col55\" class=\"data row0 col55\" >nan</td>\n",
       "                        <td id=\"T_c744749e_10da_11ea_b803_80000027fe80row0_col56\" class=\"data row0 col56\" >nan</td>\n",
       "                        <td id=\"T_c744749e_10da_11ea_b803_80000027fe80row0_col57\" class=\"data row0 col57\" >nan</td>\n",
       "                        <td id=\"T_c744749e_10da_11ea_b803_80000027fe80row0_col58\" class=\"data row0 col58\" >nan</td>\n",
       "                        <td id=\"T_c744749e_10da_11ea_b803_80000027fe80row0_col59\" class=\"data row0 col59\" >nan</td>\n",
       "                        <td id=\"T_c744749e_10da_11ea_b803_80000027fe80row0_col60\" class=\"data row0 col60\" >nan</td>\n",
       "                        <td id=\"T_c744749e_10da_11ea_b803_80000027fe80row0_col61\" class=\"data row0 col61\" >nan</td>\n",
       "                        <td id=\"T_c744749e_10da_11ea_b803_80000027fe80row0_col62\" class=\"data row0 col62\" >nan</td>\n",
       "                        <td id=\"T_c744749e_10da_11ea_b803_80000027fe80row0_col63\" class=\"data row0 col63\" >nan</td>\n",
       "                        <td id=\"T_c744749e_10da_11ea_b803_80000027fe80row0_col64\" class=\"data row0 col64\" >nan</td>\n",
       "                        <td id=\"T_c744749e_10da_11ea_b803_80000027fe80row0_col65\" class=\"data row0 col65\" >nan</td>\n",
       "                        <td id=\"T_c744749e_10da_11ea_b803_80000027fe80row0_col66\" class=\"data row0 col66\" >nan</td>\n",
       "                        <td id=\"T_c744749e_10da_11ea_b803_80000027fe80row0_col67\" class=\"data row0 col67\" >nan</td>\n",
       "                        <td id=\"T_c744749e_10da_11ea_b803_80000027fe80row0_col68\" class=\"data row0 col68\" >nan</td>\n",
       "                        <td id=\"T_c744749e_10da_11ea_b803_80000027fe80row0_col69\" class=\"data row0 col69\" >nan</td>\n",
       "                        <td id=\"T_c744749e_10da_11ea_b803_80000027fe80row0_col70\" class=\"data row0 col70\" >nan</td>\n",
       "                        <td id=\"T_c744749e_10da_11ea_b803_80000027fe80row0_col71\" class=\"data row0 col71\" >nan</td>\n",
       "                        <td id=\"T_c744749e_10da_11ea_b803_80000027fe80row0_col72\" class=\"data row0 col72\" >nan</td>\n",
       "                        <td id=\"T_c744749e_10da_11ea_b803_80000027fe80row0_col73\" class=\"data row0 col73\" >nan</td>\n",
       "                        <td id=\"T_c744749e_10da_11ea_b803_80000027fe80row0_col74\" class=\"data row0 col74\" >nan</td>\n",
       "                        <td id=\"T_c744749e_10da_11ea_b803_80000027fe80row0_col75\" class=\"data row0 col75\" >nan</td>\n",
       "                        <td id=\"T_c744749e_10da_11ea_b803_80000027fe80row0_col76\" class=\"data row0 col76\" >nan</td>\n",
       "            </tr>\n",
       "            <tr>\n",
       "                                <td id=\"T_c744749e_10da_11ea_b803_80000027fe80row1_col0\" class=\"data row1 col0\" >36</td>\n",
       "                        <td id=\"T_c744749e_10da_11ea_b803_80000027fe80row1_col1\" class=\"data row1 col1\" >Conv2d(1, 64, kernel_size=(3, 3), stride=(1, 1), padding=(1, 1))</td>\n",
       "                        <td id=\"T_c744749e_10da_11ea_b803_80000027fe80row1_col2\" class=\"data row1 col2\" >BatchNorm2d(64, eps=1e-05, momentum=0.1, affine=True, track_running_stats=True)</td>\n",
       "                        <td id=\"T_c744749e_10da_11ea_b803_80000027fe80row1_col3\" class=\"data row1 col3\" >BatchNorm2d(64, eps=1e-05, momentum=0.1, affine=True, track_running_stats=True)</td>\n",
       "                        <td id=\"T_c744749e_10da_11ea_b803_80000027fe80row1_col4\" class=\"data row1 col4\" >ReLU()</td>\n",
       "                        <td id=\"T_c744749e_10da_11ea_b803_80000027fe80row1_col5\" class=\"data row1 col5\" >Conv2d(64, 64, kernel_size=(3, 3), stride=(1, 1), padding=(1, 1))</td>\n",
       "                        <td id=\"T_c744749e_10da_11ea_b803_80000027fe80row1_col6\" class=\"data row1 col6\" >BatchNorm2d(64, eps=1e-05, momentum=0.1, affine=True, track_running_stats=True)</td>\n",
       "                        <td id=\"T_c744749e_10da_11ea_b803_80000027fe80row1_col7\" class=\"data row1 col7\" >ReLU()</td>\n",
       "                        <td id=\"T_c744749e_10da_11ea_b803_80000027fe80row1_col8\" class=\"data row1 col8\" >Conv2d(64, 64, kernel_size=(3, 3), stride=(1, 1), padding=(1, 1))</td>\n",
       "                        <td id=\"T_c744749e_10da_11ea_b803_80000027fe80row1_col9\" class=\"data row1 col9\" >ReLU()</td>\n",
       "                        <td id=\"T_c744749e_10da_11ea_b803_80000027fe80row1_col10\" class=\"data row1 col10\" >Conv2d(64, 64, kernel_size=(1, 1), stride=(1, 1))</td>\n",
       "                        <td id=\"T_c744749e_10da_11ea_b803_80000027fe80row1_col11\" class=\"data row1 col11\" >TorchAdd()</td>\n",
       "                        <td id=\"T_c744749e_10da_11ea_b803_80000027fe80row1_col12\" class=\"data row1 col12\" >BatchNorm2d(64, eps=1e-05, momentum=0.1, affine=True, track_running_stats=True)</td>\n",
       "                        <td id=\"T_c744749e_10da_11ea_b803_80000027fe80row1_col13\" class=\"data row1 col13\" >ReLU()</td>\n",
       "                        <td id=\"T_c744749e_10da_11ea_b803_80000027fe80row1_col14\" class=\"data row1 col14\" >Conv2d(64, 64, kernel_size=(3, 3), stride=(1, 1), padding=(1, 1))</td>\n",
       "                        <td id=\"T_c744749e_10da_11ea_b803_80000027fe80row1_col15\" class=\"data row1 col15\" >BatchNorm2d(64, eps=1e-05, momentum=0.1, affine=True, track_running_stats=True)</td>\n",
       "                        <td id=\"T_c744749e_10da_11ea_b803_80000027fe80row1_col16\" class=\"data row1 col16\" >ReLU()</td>\n",
       "                        <td id=\"T_c744749e_10da_11ea_b803_80000027fe80row1_col17\" class=\"data row1 col17\" >Conv2d(64, 64, kernel_size=(3, 3), stride=(1, 1), padding=(1, 1))</td>\n",
       "                        <td id=\"T_c744749e_10da_11ea_b803_80000027fe80row1_col18\" class=\"data row1 col18\" >ReLU()</td>\n",
       "                        <td id=\"T_c744749e_10da_11ea_b803_80000027fe80row1_col19\" class=\"data row1 col19\" >Conv2d(64, 64, kernel_size=(1, 1), stride=(1, 1))</td>\n",
       "                        <td id=\"T_c744749e_10da_11ea_b803_80000027fe80row1_col20\" class=\"data row1 col20\" >TorchAdd()</td>\n",
       "                        <td id=\"T_c744749e_10da_11ea_b803_80000027fe80row1_col21\" class=\"data row1 col21\" >BatchNorm2d(64, eps=1e-05, momentum=0.1, affine=True, track_running_stats=True)</td>\n",
       "                        <td id=\"T_c744749e_10da_11ea_b803_80000027fe80row1_col22\" class=\"data row1 col22\" >ReLU()</td>\n",
       "                        <td id=\"T_c744749e_10da_11ea_b803_80000027fe80row1_col23\" class=\"data row1 col23\" >Conv2d(64, 128, kernel_size=(3, 3), stride=(2, 2), padding=(1, 1))</td>\n",
       "                        <td id=\"T_c744749e_10da_11ea_b803_80000027fe80row1_col24\" class=\"data row1 col24\" >BatchNorm2d(128, eps=1e-05, momentum=0.1, affine=True, track_running_stats=True)</td>\n",
       "                        <td id=\"T_c744749e_10da_11ea_b803_80000027fe80row1_col25\" class=\"data row1 col25\" >ReLU()</td>\n",
       "                        <td id=\"T_c744749e_10da_11ea_b803_80000027fe80row1_col26\" class=\"data row1 col26\" >Conv2d(128, 128, kernel_size=(3, 3), stride=(1, 1), padding=(1, 1))</td>\n",
       "                        <td id=\"T_c744749e_10da_11ea_b803_80000027fe80row1_col27\" class=\"data row1 col27\" >ReLU()</td>\n",
       "                        <td id=\"T_c744749e_10da_11ea_b803_80000027fe80row1_col28\" class=\"data row1 col28\" >Conv2d(64, 128, kernel_size=(1, 1), stride=(2, 2))</td>\n",
       "                        <td id=\"T_c744749e_10da_11ea_b803_80000027fe80row1_col29\" class=\"data row1 col29\" >TorchAdd()</td>\n",
       "                        <td id=\"T_c744749e_10da_11ea_b803_80000027fe80row1_col30\" class=\"data row1 col30\" >BatchNorm2d(128, eps=1e-05, momentum=0.1, affine=True, track_running_stats=True)</td>\n",
       "                        <td id=\"T_c744749e_10da_11ea_b803_80000027fe80row1_col31\" class=\"data row1 col31\" >ReLU()</td>\n",
       "                        <td id=\"T_c744749e_10da_11ea_b803_80000027fe80row1_col32\" class=\"data row1 col32\" >Conv2d(128, 128, kernel_size=(3, 3), stride=(1, 1), padding=(1, 1))</td>\n",
       "                        <td id=\"T_c744749e_10da_11ea_b803_80000027fe80row1_col33\" class=\"data row1 col33\" >BatchNorm2d(128, eps=1e-05, momentum=0.1, affine=True, track_running_stats=True)</td>\n",
       "                        <td id=\"T_c744749e_10da_11ea_b803_80000027fe80row1_col34\" class=\"data row1 col34\" >ReLU()</td>\n",
       "                        <td id=\"T_c744749e_10da_11ea_b803_80000027fe80row1_col35\" class=\"data row1 col35\" >Conv2d(128, 128, kernel_size=(3, 3), stride=(1, 1), padding=(1, 1))</td>\n",
       "                        <td id=\"T_c744749e_10da_11ea_b803_80000027fe80row1_col36\" class=\"data row1 col36\" >ReLU()</td>\n",
       "                        <td id=\"T_c744749e_10da_11ea_b803_80000027fe80row1_col37\" class=\"data row1 col37\" >Conv2d(128, 128, kernel_size=(1, 1), stride=(1, 1))</td>\n",
       "                        <td id=\"T_c744749e_10da_11ea_b803_80000027fe80row1_col38\" class=\"data row1 col38\" >TorchAdd()</td>\n",
       "                        <td id=\"T_c744749e_10da_11ea_b803_80000027fe80row1_col39\" class=\"data row1 col39\" >BatchNorm2d(128, eps=1e-05, momentum=0.1, affine=True, track_running_stats=True)</td>\n",
       "                        <td id=\"T_c744749e_10da_11ea_b803_80000027fe80row1_col40\" class=\"data row1 col40\" >ReLU()</td>\n",
       "                        <td id=\"T_c744749e_10da_11ea_b803_80000027fe80row1_col41\" class=\"data row1 col41\" >Conv2d(128, 256, kernel_size=(3, 3), stride=(2, 2), padding=(1, 1))</td>\n",
       "                        <td id=\"T_c744749e_10da_11ea_b803_80000027fe80row1_col42\" class=\"data row1 col42\" >BatchNorm2d(256, eps=1e-05, momentum=0.1, affine=True, track_running_stats=True)</td>\n",
       "                        <td id=\"T_c744749e_10da_11ea_b803_80000027fe80row1_col43\" class=\"data row1 col43\" >ReLU()</td>\n",
       "                        <td id=\"T_c744749e_10da_11ea_b803_80000027fe80row1_col44\" class=\"data row1 col44\" >Conv2d(256, 256, kernel_size=(3, 3), stride=(1, 1), padding=(1, 1))</td>\n",
       "                        <td id=\"T_c744749e_10da_11ea_b803_80000027fe80row1_col45\" class=\"data row1 col45\" >ReLU()</td>\n",
       "                        <td id=\"T_c744749e_10da_11ea_b803_80000027fe80row1_col46\" class=\"data row1 col46\" >Conv2d(128, 256, kernel_size=(1, 1), stride=(2, 2))</td>\n",
       "                        <td id=\"T_c744749e_10da_11ea_b803_80000027fe80row1_col47\" class=\"data row1 col47\" >TorchAdd()</td>\n",
       "                        <td id=\"T_c744749e_10da_11ea_b803_80000027fe80row1_col48\" class=\"data row1 col48\" >BatchNorm2d(256, eps=1e-05, momentum=0.1, affine=True, track_running_stats=True)</td>\n",
       "                        <td id=\"T_c744749e_10da_11ea_b803_80000027fe80row1_col49\" class=\"data row1 col49\" >ReLU()</td>\n",
       "                        <td id=\"T_c744749e_10da_11ea_b803_80000027fe80row1_col50\" class=\"data row1 col50\" >Conv2d(256, 256, kernel_size=(3, 3), stride=(1, 1), padding=(1, 1))</td>\n",
       "                        <td id=\"T_c744749e_10da_11ea_b803_80000027fe80row1_col51\" class=\"data row1 col51\" >BatchNorm2d(256, eps=1e-05, momentum=0.1, affine=True, track_running_stats=True)</td>\n",
       "                        <td id=\"T_c744749e_10da_11ea_b803_80000027fe80row1_col52\" class=\"data row1 col52\" >ReLU()</td>\n",
       "                        <td id=\"T_c744749e_10da_11ea_b803_80000027fe80row1_col53\" class=\"data row1 col53\" >Conv2d(256, 256, kernel_size=(3, 3), stride=(1, 1), padding=(1, 1))</td>\n",
       "                        <td id=\"T_c744749e_10da_11ea_b803_80000027fe80row1_col54\" class=\"data row1 col54\" >ReLU()</td>\n",
       "                        <td id=\"T_c744749e_10da_11ea_b803_80000027fe80row1_col55\" class=\"data row1 col55\" >Conv2d(256, 256, kernel_size=(1, 1), stride=(1, 1))</td>\n",
       "                        <td id=\"T_c744749e_10da_11ea_b803_80000027fe80row1_col56\" class=\"data row1 col56\" >TorchAdd()</td>\n",
       "                        <td id=\"T_c744749e_10da_11ea_b803_80000027fe80row1_col57\" class=\"data row1 col57\" >BatchNorm2d(256, eps=1e-05, momentum=0.1, affine=True, track_running_stats=True)</td>\n",
       "                        <td id=\"T_c744749e_10da_11ea_b803_80000027fe80row1_col58\" class=\"data row1 col58\" >ReLU()</td>\n",
       "                        <td id=\"T_c744749e_10da_11ea_b803_80000027fe80row1_col59\" class=\"data row1 col59\" >Conv2d(256, 512, kernel_size=(3, 3), stride=(2, 2), padding=(1, 1))</td>\n",
       "                        <td id=\"T_c744749e_10da_11ea_b803_80000027fe80row1_col60\" class=\"data row1 col60\" >BatchNorm2d(512, eps=1e-05, momentum=0.1, affine=True, track_running_stats=True)</td>\n",
       "                        <td id=\"T_c744749e_10da_11ea_b803_80000027fe80row1_col61\" class=\"data row1 col61\" >ReLU()</td>\n",
       "                        <td id=\"T_c744749e_10da_11ea_b803_80000027fe80row1_col62\" class=\"data row1 col62\" >Conv2d(512, 512, kernel_size=(3, 3), stride=(1, 1), padding=(1, 1))</td>\n",
       "                        <td id=\"T_c744749e_10da_11ea_b803_80000027fe80row1_col63\" class=\"data row1 col63\" >ReLU()</td>\n",
       "                        <td id=\"T_c744749e_10da_11ea_b803_80000027fe80row1_col64\" class=\"data row1 col64\" >Conv2d(256, 512, kernel_size=(1, 1), stride=(2, 2))</td>\n",
       "                        <td id=\"T_c744749e_10da_11ea_b803_80000027fe80row1_col65\" class=\"data row1 col65\" >TorchAdd()</td>\n",
       "                        <td id=\"T_c744749e_10da_11ea_b803_80000027fe80row1_col66\" class=\"data row1 col66\" >BatchNorm2d(512, eps=1e-05, momentum=0.1, affine=True, track_running_stats=True)</td>\n",
       "                        <td id=\"T_c744749e_10da_11ea_b803_80000027fe80row1_col67\" class=\"data row1 col67\" >ReLU()</td>\n",
       "                        <td id=\"T_c744749e_10da_11ea_b803_80000027fe80row1_col68\" class=\"data row1 col68\" >Conv2d(512, 512, kernel_size=(3, 3), stride=(1, 1), padding=(1, 1))</td>\n",
       "                        <td id=\"T_c744749e_10da_11ea_b803_80000027fe80row1_col69\" class=\"data row1 col69\" >BatchNorm2d(512, eps=1e-05, momentum=0.1, affine=True, track_running_stats=True)</td>\n",
       "                        <td id=\"T_c744749e_10da_11ea_b803_80000027fe80row1_col70\" class=\"data row1 col70\" >ReLU()</td>\n",
       "                        <td id=\"T_c744749e_10da_11ea_b803_80000027fe80row1_col71\" class=\"data row1 col71\" >Conv2d(512, 512, kernel_size=(3, 3), stride=(1, 1), padding=(1, 1))</td>\n",
       "                        <td id=\"T_c744749e_10da_11ea_b803_80000027fe80row1_col72\" class=\"data row1 col72\" >ReLU()</td>\n",
       "                        <td id=\"T_c744749e_10da_11ea_b803_80000027fe80row1_col73\" class=\"data row1 col73\" >Conv2d(512, 512, kernel_size=(1, 1), stride=(1, 1))</td>\n",
       "                        <td id=\"T_c744749e_10da_11ea_b803_80000027fe80row1_col74\" class=\"data row1 col74\" >TorchAdd()</td>\n",
       "                        <td id=\"T_c744749e_10da_11ea_b803_80000027fe80row1_col75\" class=\"data row1 col75\" >GlobalAvgPool2d()</td>\n",
       "                        <td id=\"T_c744749e_10da_11ea_b803_80000027fe80row1_col76\" class=\"data row1 col76\" >Linear(in_features=512, out_features=10, bias=True)</td>\n",
       "            </tr>\n",
       "            <tr>\n",
       "                                <td id=\"T_c744749e_10da_11ea_b803_80000027fe80row2_col0\" class=\"data row2 col0\" >72</td>\n",
       "                        <td id=\"T_c744749e_10da_11ea_b803_80000027fe80row2_col1\" class=\"data row2 col1\" >ReLU()</td>\n",
       "                        <td id=\"T_c744749e_10da_11ea_b803_80000027fe80row2_col2\" class=\"data row2 col2\" >BatchNorm2d(1, eps=1e-05, momentum=0.1, affine=True, track_running_stats=True)</td>\n",
       "                        <td id=\"T_c744749e_10da_11ea_b803_80000027fe80row2_col3\" class=\"data row2 col3\" >Conv2d(1, 64, kernel_size=(3, 3), stride=(1, 1), padding=(1, 1))</td>\n",
       "                        <td id=\"T_c744749e_10da_11ea_b803_80000027fe80row2_col4\" class=\"data row2 col4\" >MaxPool2d(kernel_size=2, stride=2, padding=0, dilation=1, ceil_mode=False)</td>\n",
       "                        <td id=\"T_c744749e_10da_11ea_b803_80000027fe80row2_col5\" class=\"data row2 col5\" >ReLU()</td>\n",
       "                        <td id=\"T_c744749e_10da_11ea_b803_80000027fe80row2_col6\" class=\"data row2 col6\" >BatchNorm2d(64, eps=1e-05, momentum=0.1, affine=True, track_running_stats=True)</td>\n",
       "                        <td id=\"T_c744749e_10da_11ea_b803_80000027fe80row2_col7\" class=\"data row2 col7\" >Conv2d(64, 64, kernel_size=(3, 3), stride=(1, 1), padding=(1, 1))</td>\n",
       "                        <td id=\"T_c744749e_10da_11ea_b803_80000027fe80row2_col8\" class=\"data row2 col8\" >MaxPool2d(kernel_size=2, stride=2, padding=0, dilation=1, ceil_mode=False)</td>\n",
       "                        <td id=\"T_c744749e_10da_11ea_b803_80000027fe80row2_col9\" class=\"data row2 col9\" >ReLU()</td>\n",
       "                        <td id=\"T_c744749e_10da_11ea_b803_80000027fe80row2_col10\" class=\"data row2 col10\" >BatchNorm2d(64, eps=1e-05, momentum=0.1, affine=True, track_running_stats=True)</td>\n",
       "                        <td id=\"T_c744749e_10da_11ea_b803_80000027fe80row2_col11\" class=\"data row2 col11\" >Conv2d(64, 64, kernel_size=(3, 3), stride=(1, 1), padding=(1, 1))</td>\n",
       "                        <td id=\"T_c744749e_10da_11ea_b803_80000027fe80row2_col12\" class=\"data row2 col12\" >MaxPool2d(kernel_size=2, stride=2, padding=0, dilation=1, ceil_mode=False)</td>\n",
       "                        <td id=\"T_c744749e_10da_11ea_b803_80000027fe80row2_col13\" class=\"data row2 col13\" >GlobalAvgPool2d()</td>\n",
       "                        <td id=\"T_c744749e_10da_11ea_b803_80000027fe80row2_col14\" class=\"data row2 col14\" >Dropout2d(p=0.25)</td>\n",
       "                        <td id=\"T_c744749e_10da_11ea_b803_80000027fe80row2_col15\" class=\"data row2 col15\" >Linear(in_features=64, out_features=64, bias=True)</td>\n",
       "                        <td id=\"T_c744749e_10da_11ea_b803_80000027fe80row2_col16\" class=\"data row2 col16\" >ReLU()</td>\n",
       "                        <td id=\"T_c744749e_10da_11ea_b803_80000027fe80row2_col17\" class=\"data row2 col17\" >Linear(in_features=64, out_features=10, bias=True)</td>\n",
       "                        <td id=\"T_c744749e_10da_11ea_b803_80000027fe80row2_col18\" class=\"data row2 col18\" >nan</td>\n",
       "                        <td id=\"T_c744749e_10da_11ea_b803_80000027fe80row2_col19\" class=\"data row2 col19\" >nan</td>\n",
       "                        <td id=\"T_c744749e_10da_11ea_b803_80000027fe80row2_col20\" class=\"data row2 col20\" >nan</td>\n",
       "                        <td id=\"T_c744749e_10da_11ea_b803_80000027fe80row2_col21\" class=\"data row2 col21\" >nan</td>\n",
       "                        <td id=\"T_c744749e_10da_11ea_b803_80000027fe80row2_col22\" class=\"data row2 col22\" >nan</td>\n",
       "                        <td id=\"T_c744749e_10da_11ea_b803_80000027fe80row2_col23\" class=\"data row2 col23\" >nan</td>\n",
       "                        <td id=\"T_c744749e_10da_11ea_b803_80000027fe80row2_col24\" class=\"data row2 col24\" >nan</td>\n",
       "                        <td id=\"T_c744749e_10da_11ea_b803_80000027fe80row2_col25\" class=\"data row2 col25\" >nan</td>\n",
       "                        <td id=\"T_c744749e_10da_11ea_b803_80000027fe80row2_col26\" class=\"data row2 col26\" >nan</td>\n",
       "                        <td id=\"T_c744749e_10da_11ea_b803_80000027fe80row2_col27\" class=\"data row2 col27\" >nan</td>\n",
       "                        <td id=\"T_c744749e_10da_11ea_b803_80000027fe80row2_col28\" class=\"data row2 col28\" >nan</td>\n",
       "                        <td id=\"T_c744749e_10da_11ea_b803_80000027fe80row2_col29\" class=\"data row2 col29\" >nan</td>\n",
       "                        <td id=\"T_c744749e_10da_11ea_b803_80000027fe80row2_col30\" class=\"data row2 col30\" >nan</td>\n",
       "                        <td id=\"T_c744749e_10da_11ea_b803_80000027fe80row2_col31\" class=\"data row2 col31\" >nan</td>\n",
       "                        <td id=\"T_c744749e_10da_11ea_b803_80000027fe80row2_col32\" class=\"data row2 col32\" >nan</td>\n",
       "                        <td id=\"T_c744749e_10da_11ea_b803_80000027fe80row2_col33\" class=\"data row2 col33\" >nan</td>\n",
       "                        <td id=\"T_c744749e_10da_11ea_b803_80000027fe80row2_col34\" class=\"data row2 col34\" >nan</td>\n",
       "                        <td id=\"T_c744749e_10da_11ea_b803_80000027fe80row2_col35\" class=\"data row2 col35\" >nan</td>\n",
       "                        <td id=\"T_c744749e_10da_11ea_b803_80000027fe80row2_col36\" class=\"data row2 col36\" >nan</td>\n",
       "                        <td id=\"T_c744749e_10da_11ea_b803_80000027fe80row2_col37\" class=\"data row2 col37\" >nan</td>\n",
       "                        <td id=\"T_c744749e_10da_11ea_b803_80000027fe80row2_col38\" class=\"data row2 col38\" >nan</td>\n",
       "                        <td id=\"T_c744749e_10da_11ea_b803_80000027fe80row2_col39\" class=\"data row2 col39\" >nan</td>\n",
       "                        <td id=\"T_c744749e_10da_11ea_b803_80000027fe80row2_col40\" class=\"data row2 col40\" >nan</td>\n",
       "                        <td id=\"T_c744749e_10da_11ea_b803_80000027fe80row2_col41\" class=\"data row2 col41\" >nan</td>\n",
       "                        <td id=\"T_c744749e_10da_11ea_b803_80000027fe80row2_col42\" class=\"data row2 col42\" >nan</td>\n",
       "                        <td id=\"T_c744749e_10da_11ea_b803_80000027fe80row2_col43\" class=\"data row2 col43\" >nan</td>\n",
       "                        <td id=\"T_c744749e_10da_11ea_b803_80000027fe80row2_col44\" class=\"data row2 col44\" >nan</td>\n",
       "                        <td id=\"T_c744749e_10da_11ea_b803_80000027fe80row2_col45\" class=\"data row2 col45\" >nan</td>\n",
       "                        <td id=\"T_c744749e_10da_11ea_b803_80000027fe80row2_col46\" class=\"data row2 col46\" >nan</td>\n",
       "                        <td id=\"T_c744749e_10da_11ea_b803_80000027fe80row2_col47\" class=\"data row2 col47\" >nan</td>\n",
       "                        <td id=\"T_c744749e_10da_11ea_b803_80000027fe80row2_col48\" class=\"data row2 col48\" >nan</td>\n",
       "                        <td id=\"T_c744749e_10da_11ea_b803_80000027fe80row2_col49\" class=\"data row2 col49\" >nan</td>\n",
       "                        <td id=\"T_c744749e_10da_11ea_b803_80000027fe80row2_col50\" class=\"data row2 col50\" >nan</td>\n",
       "                        <td id=\"T_c744749e_10da_11ea_b803_80000027fe80row2_col51\" class=\"data row2 col51\" >nan</td>\n",
       "                        <td id=\"T_c744749e_10da_11ea_b803_80000027fe80row2_col52\" class=\"data row2 col52\" >nan</td>\n",
       "                        <td id=\"T_c744749e_10da_11ea_b803_80000027fe80row2_col53\" class=\"data row2 col53\" >nan</td>\n",
       "                        <td id=\"T_c744749e_10da_11ea_b803_80000027fe80row2_col54\" class=\"data row2 col54\" >nan</td>\n",
       "                        <td id=\"T_c744749e_10da_11ea_b803_80000027fe80row2_col55\" class=\"data row2 col55\" >nan</td>\n",
       "                        <td id=\"T_c744749e_10da_11ea_b803_80000027fe80row2_col56\" class=\"data row2 col56\" >nan</td>\n",
       "                        <td id=\"T_c744749e_10da_11ea_b803_80000027fe80row2_col57\" class=\"data row2 col57\" >nan</td>\n",
       "                        <td id=\"T_c744749e_10da_11ea_b803_80000027fe80row2_col58\" class=\"data row2 col58\" >nan</td>\n",
       "                        <td id=\"T_c744749e_10da_11ea_b803_80000027fe80row2_col59\" class=\"data row2 col59\" >nan</td>\n",
       "                        <td id=\"T_c744749e_10da_11ea_b803_80000027fe80row2_col60\" class=\"data row2 col60\" >nan</td>\n",
       "                        <td id=\"T_c744749e_10da_11ea_b803_80000027fe80row2_col61\" class=\"data row2 col61\" >nan</td>\n",
       "                        <td id=\"T_c744749e_10da_11ea_b803_80000027fe80row2_col62\" class=\"data row2 col62\" >nan</td>\n",
       "                        <td id=\"T_c744749e_10da_11ea_b803_80000027fe80row2_col63\" class=\"data row2 col63\" >nan</td>\n",
       "                        <td id=\"T_c744749e_10da_11ea_b803_80000027fe80row2_col64\" class=\"data row2 col64\" >nan</td>\n",
       "                        <td id=\"T_c744749e_10da_11ea_b803_80000027fe80row2_col65\" class=\"data row2 col65\" >nan</td>\n",
       "                        <td id=\"T_c744749e_10da_11ea_b803_80000027fe80row2_col66\" class=\"data row2 col66\" >nan</td>\n",
       "                        <td id=\"T_c744749e_10da_11ea_b803_80000027fe80row2_col67\" class=\"data row2 col67\" >nan</td>\n",
       "                        <td id=\"T_c744749e_10da_11ea_b803_80000027fe80row2_col68\" class=\"data row2 col68\" >nan</td>\n",
       "                        <td id=\"T_c744749e_10da_11ea_b803_80000027fe80row2_col69\" class=\"data row2 col69\" >nan</td>\n",
       "                        <td id=\"T_c744749e_10da_11ea_b803_80000027fe80row2_col70\" class=\"data row2 col70\" >nan</td>\n",
       "                        <td id=\"T_c744749e_10da_11ea_b803_80000027fe80row2_col71\" class=\"data row2 col71\" >nan</td>\n",
       "                        <td id=\"T_c744749e_10da_11ea_b803_80000027fe80row2_col72\" class=\"data row2 col72\" >nan</td>\n",
       "                        <td id=\"T_c744749e_10da_11ea_b803_80000027fe80row2_col73\" class=\"data row2 col73\" >nan</td>\n",
       "                        <td id=\"T_c744749e_10da_11ea_b803_80000027fe80row2_col74\" class=\"data row2 col74\" >nan</td>\n",
       "                        <td id=\"T_c744749e_10da_11ea_b803_80000027fe80row2_col75\" class=\"data row2 col75\" >nan</td>\n",
       "                        <td id=\"T_c744749e_10da_11ea_b803_80000027fe80row2_col76\" class=\"data row2 col76\" >nan</td>\n",
       "            </tr>\n",
       "            <tr>\n",
       "                                <td id=\"T_c744749e_10da_11ea_b803_80000027fe80row3_col0\" class=\"data row3 col0\" >108</td>\n",
       "                        <td id=\"T_c744749e_10da_11ea_b803_80000027fe80row3_col1\" class=\"data row3 col1\" >ReLU()</td>\n",
       "                        <td id=\"T_c744749e_10da_11ea_b803_80000027fe80row3_col2\" class=\"data row3 col2\" >BatchNorm2d(1, eps=1e-05, momentum=0.1, affine=True, track_running_stats=True)</td>\n",
       "                        <td id=\"T_c744749e_10da_11ea_b803_80000027fe80row3_col3\" class=\"data row3 col3\" >Conv2d(1, 64, kernel_size=(3, 3), stride=(1, 1), padding=(1, 1))</td>\n",
       "                        <td id=\"T_c744749e_10da_11ea_b803_80000027fe80row3_col4\" class=\"data row3 col4\" >MaxPool2d(kernel_size=2, stride=2, padding=0, dilation=1, ceil_mode=False)</td>\n",
       "                        <td id=\"T_c744749e_10da_11ea_b803_80000027fe80row3_col5\" class=\"data row3 col5\" >ReLU()</td>\n",
       "                        <td id=\"T_c744749e_10da_11ea_b803_80000027fe80row3_col6\" class=\"data row3 col6\" >BatchNorm2d(64, eps=1e-05, momentum=0.1, affine=True, track_running_stats=True)</td>\n",
       "                        <td id=\"T_c744749e_10da_11ea_b803_80000027fe80row3_col7\" class=\"data row3 col7\" >Conv2d(64, 64, kernel_size=(3, 3), stride=(1, 1), padding=(1, 1))</td>\n",
       "                        <td id=\"T_c744749e_10da_11ea_b803_80000027fe80row3_col8\" class=\"data row3 col8\" >MaxPool2d(kernel_size=2, stride=2, padding=0, dilation=1, ceil_mode=False)</td>\n",
       "                        <td id=\"T_c744749e_10da_11ea_b803_80000027fe80row3_col9\" class=\"data row3 col9\" >ReLU()</td>\n",
       "                        <td id=\"T_c744749e_10da_11ea_b803_80000027fe80row3_col10\" class=\"data row3 col10\" >BatchNorm2d(64, eps=1e-05, momentum=0.1, affine=True, track_running_stats=True)</td>\n",
       "                        <td id=\"T_c744749e_10da_11ea_b803_80000027fe80row3_col11\" class=\"data row3 col11\" >Conv2d(64, 64, kernel_size=(3, 3), stride=(1, 1), padding=(1, 1))</td>\n",
       "                        <td id=\"T_c744749e_10da_11ea_b803_80000027fe80row3_col12\" class=\"data row3 col12\" >MaxPool2d(kernel_size=2, stride=2, padding=0, dilation=1, ceil_mode=False)</td>\n",
       "                        <td id=\"T_c744749e_10da_11ea_b803_80000027fe80row3_col13\" class=\"data row3 col13\" >GlobalAvgPool2d()</td>\n",
       "                        <td id=\"T_c744749e_10da_11ea_b803_80000027fe80row3_col14\" class=\"data row3 col14\" >Dropout2d(p=0.25)</td>\n",
       "                        <td id=\"T_c744749e_10da_11ea_b803_80000027fe80row3_col15\" class=\"data row3 col15\" >Linear(in_features=64, out_features=64, bias=True)</td>\n",
       "                        <td id=\"T_c744749e_10da_11ea_b803_80000027fe80row3_col16\" class=\"data row3 col16\" >ReLU()</td>\n",
       "                        <td id=\"T_c744749e_10da_11ea_b803_80000027fe80row3_col17\" class=\"data row3 col17\" >Linear(in_features=64, out_features=10, bias=True)</td>\n",
       "                        <td id=\"T_c744749e_10da_11ea_b803_80000027fe80row3_col18\" class=\"data row3 col18\" >nan</td>\n",
       "                        <td id=\"T_c744749e_10da_11ea_b803_80000027fe80row3_col19\" class=\"data row3 col19\" >nan</td>\n",
       "                        <td id=\"T_c744749e_10da_11ea_b803_80000027fe80row3_col20\" class=\"data row3 col20\" >nan</td>\n",
       "                        <td id=\"T_c744749e_10da_11ea_b803_80000027fe80row3_col21\" class=\"data row3 col21\" >nan</td>\n",
       "                        <td id=\"T_c744749e_10da_11ea_b803_80000027fe80row3_col22\" class=\"data row3 col22\" >nan</td>\n",
       "                        <td id=\"T_c744749e_10da_11ea_b803_80000027fe80row3_col23\" class=\"data row3 col23\" >nan</td>\n",
       "                        <td id=\"T_c744749e_10da_11ea_b803_80000027fe80row3_col24\" class=\"data row3 col24\" >nan</td>\n",
       "                        <td id=\"T_c744749e_10da_11ea_b803_80000027fe80row3_col25\" class=\"data row3 col25\" >nan</td>\n",
       "                        <td id=\"T_c744749e_10da_11ea_b803_80000027fe80row3_col26\" class=\"data row3 col26\" >nan</td>\n",
       "                        <td id=\"T_c744749e_10da_11ea_b803_80000027fe80row3_col27\" class=\"data row3 col27\" >nan</td>\n",
       "                        <td id=\"T_c744749e_10da_11ea_b803_80000027fe80row3_col28\" class=\"data row3 col28\" >nan</td>\n",
       "                        <td id=\"T_c744749e_10da_11ea_b803_80000027fe80row3_col29\" class=\"data row3 col29\" >nan</td>\n",
       "                        <td id=\"T_c744749e_10da_11ea_b803_80000027fe80row3_col30\" class=\"data row3 col30\" >nan</td>\n",
       "                        <td id=\"T_c744749e_10da_11ea_b803_80000027fe80row3_col31\" class=\"data row3 col31\" >nan</td>\n",
       "                        <td id=\"T_c744749e_10da_11ea_b803_80000027fe80row3_col32\" class=\"data row3 col32\" >nan</td>\n",
       "                        <td id=\"T_c744749e_10da_11ea_b803_80000027fe80row3_col33\" class=\"data row3 col33\" >nan</td>\n",
       "                        <td id=\"T_c744749e_10da_11ea_b803_80000027fe80row3_col34\" class=\"data row3 col34\" >nan</td>\n",
       "                        <td id=\"T_c744749e_10da_11ea_b803_80000027fe80row3_col35\" class=\"data row3 col35\" >nan</td>\n",
       "                        <td id=\"T_c744749e_10da_11ea_b803_80000027fe80row3_col36\" class=\"data row3 col36\" >nan</td>\n",
       "                        <td id=\"T_c744749e_10da_11ea_b803_80000027fe80row3_col37\" class=\"data row3 col37\" >nan</td>\n",
       "                        <td id=\"T_c744749e_10da_11ea_b803_80000027fe80row3_col38\" class=\"data row3 col38\" >nan</td>\n",
       "                        <td id=\"T_c744749e_10da_11ea_b803_80000027fe80row3_col39\" class=\"data row3 col39\" >nan</td>\n",
       "                        <td id=\"T_c744749e_10da_11ea_b803_80000027fe80row3_col40\" class=\"data row3 col40\" >nan</td>\n",
       "                        <td id=\"T_c744749e_10da_11ea_b803_80000027fe80row3_col41\" class=\"data row3 col41\" >nan</td>\n",
       "                        <td id=\"T_c744749e_10da_11ea_b803_80000027fe80row3_col42\" class=\"data row3 col42\" >nan</td>\n",
       "                        <td id=\"T_c744749e_10da_11ea_b803_80000027fe80row3_col43\" class=\"data row3 col43\" >nan</td>\n",
       "                        <td id=\"T_c744749e_10da_11ea_b803_80000027fe80row3_col44\" class=\"data row3 col44\" >nan</td>\n",
       "                        <td id=\"T_c744749e_10da_11ea_b803_80000027fe80row3_col45\" class=\"data row3 col45\" >nan</td>\n",
       "                        <td id=\"T_c744749e_10da_11ea_b803_80000027fe80row3_col46\" class=\"data row3 col46\" >nan</td>\n",
       "                        <td id=\"T_c744749e_10da_11ea_b803_80000027fe80row3_col47\" class=\"data row3 col47\" >nan</td>\n",
       "                        <td id=\"T_c744749e_10da_11ea_b803_80000027fe80row3_col48\" class=\"data row3 col48\" >nan</td>\n",
       "                        <td id=\"T_c744749e_10da_11ea_b803_80000027fe80row3_col49\" class=\"data row3 col49\" >nan</td>\n",
       "                        <td id=\"T_c744749e_10da_11ea_b803_80000027fe80row3_col50\" class=\"data row3 col50\" >nan</td>\n",
       "                        <td id=\"T_c744749e_10da_11ea_b803_80000027fe80row3_col51\" class=\"data row3 col51\" >nan</td>\n",
       "                        <td id=\"T_c744749e_10da_11ea_b803_80000027fe80row3_col52\" class=\"data row3 col52\" >nan</td>\n",
       "                        <td id=\"T_c744749e_10da_11ea_b803_80000027fe80row3_col53\" class=\"data row3 col53\" >nan</td>\n",
       "                        <td id=\"T_c744749e_10da_11ea_b803_80000027fe80row3_col54\" class=\"data row3 col54\" >nan</td>\n",
       "                        <td id=\"T_c744749e_10da_11ea_b803_80000027fe80row3_col55\" class=\"data row3 col55\" >nan</td>\n",
       "                        <td id=\"T_c744749e_10da_11ea_b803_80000027fe80row3_col56\" class=\"data row3 col56\" >nan</td>\n",
       "                        <td id=\"T_c744749e_10da_11ea_b803_80000027fe80row3_col57\" class=\"data row3 col57\" >nan</td>\n",
       "                        <td id=\"T_c744749e_10da_11ea_b803_80000027fe80row3_col58\" class=\"data row3 col58\" >nan</td>\n",
       "                        <td id=\"T_c744749e_10da_11ea_b803_80000027fe80row3_col59\" class=\"data row3 col59\" >nan</td>\n",
       "                        <td id=\"T_c744749e_10da_11ea_b803_80000027fe80row3_col60\" class=\"data row3 col60\" >nan</td>\n",
       "                        <td id=\"T_c744749e_10da_11ea_b803_80000027fe80row3_col61\" class=\"data row3 col61\" >nan</td>\n",
       "                        <td id=\"T_c744749e_10da_11ea_b803_80000027fe80row3_col62\" class=\"data row3 col62\" >nan</td>\n",
       "                        <td id=\"T_c744749e_10da_11ea_b803_80000027fe80row3_col63\" class=\"data row3 col63\" >nan</td>\n",
       "                        <td id=\"T_c744749e_10da_11ea_b803_80000027fe80row3_col64\" class=\"data row3 col64\" >nan</td>\n",
       "                        <td id=\"T_c744749e_10da_11ea_b803_80000027fe80row3_col65\" class=\"data row3 col65\" >nan</td>\n",
       "                        <td id=\"T_c744749e_10da_11ea_b803_80000027fe80row3_col66\" class=\"data row3 col66\" >nan</td>\n",
       "                        <td id=\"T_c744749e_10da_11ea_b803_80000027fe80row3_col67\" class=\"data row3 col67\" >nan</td>\n",
       "                        <td id=\"T_c744749e_10da_11ea_b803_80000027fe80row3_col68\" class=\"data row3 col68\" >nan</td>\n",
       "                        <td id=\"T_c744749e_10da_11ea_b803_80000027fe80row3_col69\" class=\"data row3 col69\" >nan</td>\n",
       "                        <td id=\"T_c744749e_10da_11ea_b803_80000027fe80row3_col70\" class=\"data row3 col70\" >nan</td>\n",
       "                        <td id=\"T_c744749e_10da_11ea_b803_80000027fe80row3_col71\" class=\"data row3 col71\" >nan</td>\n",
       "                        <td id=\"T_c744749e_10da_11ea_b803_80000027fe80row3_col72\" class=\"data row3 col72\" >nan</td>\n",
       "                        <td id=\"T_c744749e_10da_11ea_b803_80000027fe80row3_col73\" class=\"data row3 col73\" >nan</td>\n",
       "                        <td id=\"T_c744749e_10da_11ea_b803_80000027fe80row3_col74\" class=\"data row3 col74\" >nan</td>\n",
       "                        <td id=\"T_c744749e_10da_11ea_b803_80000027fe80row3_col75\" class=\"data row3 col75\" >nan</td>\n",
       "                        <td id=\"T_c744749e_10da_11ea_b803_80000027fe80row3_col76\" class=\"data row3 col76\" >nan</td>\n",
       "            </tr>\n",
       "            <tr>\n",
       "                                <td id=\"T_c744749e_10da_11ea_b803_80000027fe80row4_col0\" class=\"data row4 col0\" >144</td>\n",
       "                        <td id=\"T_c744749e_10da_11ea_b803_80000027fe80row4_col1\" class=\"data row4 col1\" >ReLU()</td>\n",
       "                        <td id=\"T_c744749e_10da_11ea_b803_80000027fe80row4_col2\" class=\"data row4 col2\" >BatchNorm2d(1, eps=1e-05, momentum=0.1, affine=True, track_running_stats=True)</td>\n",
       "                        <td id=\"T_c744749e_10da_11ea_b803_80000027fe80row4_col3\" class=\"data row4 col3\" >Conv2d(1, 64, kernel_size=(3, 3), stride=(1, 1), padding=(1, 1))</td>\n",
       "                        <td id=\"T_c744749e_10da_11ea_b803_80000027fe80row4_col4\" class=\"data row4 col4\" >MaxPool2d(kernel_size=2, stride=2, padding=0, dilation=1, ceil_mode=False)</td>\n",
       "                        <td id=\"T_c744749e_10da_11ea_b803_80000027fe80row4_col5\" class=\"data row4 col5\" >ReLU()</td>\n",
       "                        <td id=\"T_c744749e_10da_11ea_b803_80000027fe80row4_col6\" class=\"data row4 col6\" >BatchNorm2d(64, eps=1e-05, momentum=0.1, affine=True, track_running_stats=True)</td>\n",
       "                        <td id=\"T_c744749e_10da_11ea_b803_80000027fe80row4_col7\" class=\"data row4 col7\" >Conv2d(64, 64, kernel_size=(3, 3), stride=(1, 1), padding=(1, 1))</td>\n",
       "                        <td id=\"T_c744749e_10da_11ea_b803_80000027fe80row4_col8\" class=\"data row4 col8\" >MaxPool2d(kernel_size=2, stride=2, padding=0, dilation=1, ceil_mode=False)</td>\n",
       "                        <td id=\"T_c744749e_10da_11ea_b803_80000027fe80row4_col9\" class=\"data row4 col9\" >ReLU()</td>\n",
       "                        <td id=\"T_c744749e_10da_11ea_b803_80000027fe80row4_col10\" class=\"data row4 col10\" >BatchNorm2d(64, eps=1e-05, momentum=0.1, affine=True, track_running_stats=True)</td>\n",
       "                        <td id=\"T_c744749e_10da_11ea_b803_80000027fe80row4_col11\" class=\"data row4 col11\" >Conv2d(64, 64, kernel_size=(3, 3), stride=(1, 1), padding=(1, 1))</td>\n",
       "                        <td id=\"T_c744749e_10da_11ea_b803_80000027fe80row4_col12\" class=\"data row4 col12\" >MaxPool2d(kernel_size=2, stride=2, padding=0, dilation=1, ceil_mode=False)</td>\n",
       "                        <td id=\"T_c744749e_10da_11ea_b803_80000027fe80row4_col13\" class=\"data row4 col13\" >GlobalAvgPool2d()</td>\n",
       "                        <td id=\"T_c744749e_10da_11ea_b803_80000027fe80row4_col14\" class=\"data row4 col14\" >Dropout2d(p=0.25)</td>\n",
       "                        <td id=\"T_c744749e_10da_11ea_b803_80000027fe80row4_col15\" class=\"data row4 col15\" >Linear(in_features=64, out_features=64, bias=True)</td>\n",
       "                        <td id=\"T_c744749e_10da_11ea_b803_80000027fe80row4_col16\" class=\"data row4 col16\" >ReLU()</td>\n",
       "                        <td id=\"T_c744749e_10da_11ea_b803_80000027fe80row4_col17\" class=\"data row4 col17\" >Linear(in_features=64, out_features=10, bias=True)</td>\n",
       "                        <td id=\"T_c744749e_10da_11ea_b803_80000027fe80row4_col18\" class=\"data row4 col18\" >nan</td>\n",
       "                        <td id=\"T_c744749e_10da_11ea_b803_80000027fe80row4_col19\" class=\"data row4 col19\" >nan</td>\n",
       "                        <td id=\"T_c744749e_10da_11ea_b803_80000027fe80row4_col20\" class=\"data row4 col20\" >nan</td>\n",
       "                        <td id=\"T_c744749e_10da_11ea_b803_80000027fe80row4_col21\" class=\"data row4 col21\" >nan</td>\n",
       "                        <td id=\"T_c744749e_10da_11ea_b803_80000027fe80row4_col22\" class=\"data row4 col22\" >nan</td>\n",
       "                        <td id=\"T_c744749e_10da_11ea_b803_80000027fe80row4_col23\" class=\"data row4 col23\" >nan</td>\n",
       "                        <td id=\"T_c744749e_10da_11ea_b803_80000027fe80row4_col24\" class=\"data row4 col24\" >nan</td>\n",
       "                        <td id=\"T_c744749e_10da_11ea_b803_80000027fe80row4_col25\" class=\"data row4 col25\" >nan</td>\n",
       "                        <td id=\"T_c744749e_10da_11ea_b803_80000027fe80row4_col26\" class=\"data row4 col26\" >nan</td>\n",
       "                        <td id=\"T_c744749e_10da_11ea_b803_80000027fe80row4_col27\" class=\"data row4 col27\" >nan</td>\n",
       "                        <td id=\"T_c744749e_10da_11ea_b803_80000027fe80row4_col28\" class=\"data row4 col28\" >nan</td>\n",
       "                        <td id=\"T_c744749e_10da_11ea_b803_80000027fe80row4_col29\" class=\"data row4 col29\" >nan</td>\n",
       "                        <td id=\"T_c744749e_10da_11ea_b803_80000027fe80row4_col30\" class=\"data row4 col30\" >nan</td>\n",
       "                        <td id=\"T_c744749e_10da_11ea_b803_80000027fe80row4_col31\" class=\"data row4 col31\" >nan</td>\n",
       "                        <td id=\"T_c744749e_10da_11ea_b803_80000027fe80row4_col32\" class=\"data row4 col32\" >nan</td>\n",
       "                        <td id=\"T_c744749e_10da_11ea_b803_80000027fe80row4_col33\" class=\"data row4 col33\" >nan</td>\n",
       "                        <td id=\"T_c744749e_10da_11ea_b803_80000027fe80row4_col34\" class=\"data row4 col34\" >nan</td>\n",
       "                        <td id=\"T_c744749e_10da_11ea_b803_80000027fe80row4_col35\" class=\"data row4 col35\" >nan</td>\n",
       "                        <td id=\"T_c744749e_10da_11ea_b803_80000027fe80row4_col36\" class=\"data row4 col36\" >nan</td>\n",
       "                        <td id=\"T_c744749e_10da_11ea_b803_80000027fe80row4_col37\" class=\"data row4 col37\" >nan</td>\n",
       "                        <td id=\"T_c744749e_10da_11ea_b803_80000027fe80row4_col38\" class=\"data row4 col38\" >nan</td>\n",
       "                        <td id=\"T_c744749e_10da_11ea_b803_80000027fe80row4_col39\" class=\"data row4 col39\" >nan</td>\n",
       "                        <td id=\"T_c744749e_10da_11ea_b803_80000027fe80row4_col40\" class=\"data row4 col40\" >nan</td>\n",
       "                        <td id=\"T_c744749e_10da_11ea_b803_80000027fe80row4_col41\" class=\"data row4 col41\" >nan</td>\n",
       "                        <td id=\"T_c744749e_10da_11ea_b803_80000027fe80row4_col42\" class=\"data row4 col42\" >nan</td>\n",
       "                        <td id=\"T_c744749e_10da_11ea_b803_80000027fe80row4_col43\" class=\"data row4 col43\" >nan</td>\n",
       "                        <td id=\"T_c744749e_10da_11ea_b803_80000027fe80row4_col44\" class=\"data row4 col44\" >nan</td>\n",
       "                        <td id=\"T_c744749e_10da_11ea_b803_80000027fe80row4_col45\" class=\"data row4 col45\" >nan</td>\n",
       "                        <td id=\"T_c744749e_10da_11ea_b803_80000027fe80row4_col46\" class=\"data row4 col46\" >nan</td>\n",
       "                        <td id=\"T_c744749e_10da_11ea_b803_80000027fe80row4_col47\" class=\"data row4 col47\" >nan</td>\n",
       "                        <td id=\"T_c744749e_10da_11ea_b803_80000027fe80row4_col48\" class=\"data row4 col48\" >nan</td>\n",
       "                        <td id=\"T_c744749e_10da_11ea_b803_80000027fe80row4_col49\" class=\"data row4 col49\" >nan</td>\n",
       "                        <td id=\"T_c744749e_10da_11ea_b803_80000027fe80row4_col50\" class=\"data row4 col50\" >nan</td>\n",
       "                        <td id=\"T_c744749e_10da_11ea_b803_80000027fe80row4_col51\" class=\"data row4 col51\" >nan</td>\n",
       "                        <td id=\"T_c744749e_10da_11ea_b803_80000027fe80row4_col52\" class=\"data row4 col52\" >nan</td>\n",
       "                        <td id=\"T_c744749e_10da_11ea_b803_80000027fe80row4_col53\" class=\"data row4 col53\" >nan</td>\n",
       "                        <td id=\"T_c744749e_10da_11ea_b803_80000027fe80row4_col54\" class=\"data row4 col54\" >nan</td>\n",
       "                        <td id=\"T_c744749e_10da_11ea_b803_80000027fe80row4_col55\" class=\"data row4 col55\" >nan</td>\n",
       "                        <td id=\"T_c744749e_10da_11ea_b803_80000027fe80row4_col56\" class=\"data row4 col56\" >nan</td>\n",
       "                        <td id=\"T_c744749e_10da_11ea_b803_80000027fe80row4_col57\" class=\"data row4 col57\" >nan</td>\n",
       "                        <td id=\"T_c744749e_10da_11ea_b803_80000027fe80row4_col58\" class=\"data row4 col58\" >nan</td>\n",
       "                        <td id=\"T_c744749e_10da_11ea_b803_80000027fe80row4_col59\" class=\"data row4 col59\" >nan</td>\n",
       "                        <td id=\"T_c744749e_10da_11ea_b803_80000027fe80row4_col60\" class=\"data row4 col60\" >nan</td>\n",
       "                        <td id=\"T_c744749e_10da_11ea_b803_80000027fe80row4_col61\" class=\"data row4 col61\" >nan</td>\n",
       "                        <td id=\"T_c744749e_10da_11ea_b803_80000027fe80row4_col62\" class=\"data row4 col62\" >nan</td>\n",
       "                        <td id=\"T_c744749e_10da_11ea_b803_80000027fe80row4_col63\" class=\"data row4 col63\" >nan</td>\n",
       "                        <td id=\"T_c744749e_10da_11ea_b803_80000027fe80row4_col64\" class=\"data row4 col64\" >nan</td>\n",
       "                        <td id=\"T_c744749e_10da_11ea_b803_80000027fe80row4_col65\" class=\"data row4 col65\" >nan</td>\n",
       "                        <td id=\"T_c744749e_10da_11ea_b803_80000027fe80row4_col66\" class=\"data row4 col66\" >nan</td>\n",
       "                        <td id=\"T_c744749e_10da_11ea_b803_80000027fe80row4_col67\" class=\"data row4 col67\" >nan</td>\n",
       "                        <td id=\"T_c744749e_10da_11ea_b803_80000027fe80row4_col68\" class=\"data row4 col68\" >nan</td>\n",
       "                        <td id=\"T_c744749e_10da_11ea_b803_80000027fe80row4_col69\" class=\"data row4 col69\" >nan</td>\n",
       "                        <td id=\"T_c744749e_10da_11ea_b803_80000027fe80row4_col70\" class=\"data row4 col70\" >nan</td>\n",
       "                        <td id=\"T_c744749e_10da_11ea_b803_80000027fe80row4_col71\" class=\"data row4 col71\" >nan</td>\n",
       "                        <td id=\"T_c744749e_10da_11ea_b803_80000027fe80row4_col72\" class=\"data row4 col72\" >nan</td>\n",
       "                        <td id=\"T_c744749e_10da_11ea_b803_80000027fe80row4_col73\" class=\"data row4 col73\" >nan</td>\n",
       "                        <td id=\"T_c744749e_10da_11ea_b803_80000027fe80row4_col74\" class=\"data row4 col74\" >nan</td>\n",
       "                        <td id=\"T_c744749e_10da_11ea_b803_80000027fe80row4_col75\" class=\"data row4 col75\" >nan</td>\n",
       "                        <td id=\"T_c744749e_10da_11ea_b803_80000027fe80row4_col76\" class=\"data row4 col76\" >nan</td>\n",
       "            </tr>\n",
       "            <tr>\n",
       "                                <td id=\"T_c744749e_10da_11ea_b803_80000027fe80row5_col0\" class=\"data row5 col0\" >180</td>\n",
       "                        <td id=\"T_c744749e_10da_11ea_b803_80000027fe80row5_col1\" class=\"data row5 col1\" >ReLU()</td>\n",
       "                        <td id=\"T_c744749e_10da_11ea_b803_80000027fe80row5_col2\" class=\"data row5 col2\" >BatchNorm2d(1, eps=1e-05, momentum=0.1, affine=True, track_running_stats=True)</td>\n",
       "                        <td id=\"T_c744749e_10da_11ea_b803_80000027fe80row5_col3\" class=\"data row5 col3\" >Conv2d(1, 64, kernel_size=(3, 3), stride=(1, 1), padding=(1, 1))</td>\n",
       "                        <td id=\"T_c744749e_10da_11ea_b803_80000027fe80row5_col4\" class=\"data row5 col4\" >MaxPool2d(kernel_size=2, stride=2, padding=0, dilation=1, ceil_mode=False)</td>\n",
       "                        <td id=\"T_c744749e_10da_11ea_b803_80000027fe80row5_col5\" class=\"data row5 col5\" >ReLU()</td>\n",
       "                        <td id=\"T_c744749e_10da_11ea_b803_80000027fe80row5_col6\" class=\"data row5 col6\" >BatchNorm2d(64, eps=1e-05, momentum=0.1, affine=True, track_running_stats=True)</td>\n",
       "                        <td id=\"T_c744749e_10da_11ea_b803_80000027fe80row5_col7\" class=\"data row5 col7\" >Conv2d(64, 64, kernel_size=(3, 3), stride=(1, 1), padding=(1, 1))</td>\n",
       "                        <td id=\"T_c744749e_10da_11ea_b803_80000027fe80row5_col8\" class=\"data row5 col8\" >MaxPool2d(kernel_size=2, stride=2, padding=0, dilation=1, ceil_mode=False)</td>\n",
       "                        <td id=\"T_c744749e_10da_11ea_b803_80000027fe80row5_col9\" class=\"data row5 col9\" >ReLU()</td>\n",
       "                        <td id=\"T_c744749e_10da_11ea_b803_80000027fe80row5_col10\" class=\"data row5 col10\" >BatchNorm2d(64, eps=1e-05, momentum=0.1, affine=True, track_running_stats=True)</td>\n",
       "                        <td id=\"T_c744749e_10da_11ea_b803_80000027fe80row5_col11\" class=\"data row5 col11\" >Conv2d(64, 64, kernel_size=(3, 3), stride=(1, 1), padding=(1, 1))</td>\n",
       "                        <td id=\"T_c744749e_10da_11ea_b803_80000027fe80row5_col12\" class=\"data row5 col12\" >MaxPool2d(kernel_size=2, stride=2, padding=0, dilation=1, ceil_mode=False)</td>\n",
       "                        <td id=\"T_c744749e_10da_11ea_b803_80000027fe80row5_col13\" class=\"data row5 col13\" >GlobalAvgPool2d()</td>\n",
       "                        <td id=\"T_c744749e_10da_11ea_b803_80000027fe80row5_col14\" class=\"data row5 col14\" >Dropout2d(p=0.25)</td>\n",
       "                        <td id=\"T_c744749e_10da_11ea_b803_80000027fe80row5_col15\" class=\"data row5 col15\" >Linear(in_features=64, out_features=64, bias=True)</td>\n",
       "                        <td id=\"T_c744749e_10da_11ea_b803_80000027fe80row5_col16\" class=\"data row5 col16\" >ReLU()</td>\n",
       "                        <td id=\"T_c744749e_10da_11ea_b803_80000027fe80row5_col17\" class=\"data row5 col17\" >Linear(in_features=64, out_features=10, bias=True)</td>\n",
       "                        <td id=\"T_c744749e_10da_11ea_b803_80000027fe80row5_col18\" class=\"data row5 col18\" >nan</td>\n",
       "                        <td id=\"T_c744749e_10da_11ea_b803_80000027fe80row5_col19\" class=\"data row5 col19\" >nan</td>\n",
       "                        <td id=\"T_c744749e_10da_11ea_b803_80000027fe80row5_col20\" class=\"data row5 col20\" >nan</td>\n",
       "                        <td id=\"T_c744749e_10da_11ea_b803_80000027fe80row5_col21\" class=\"data row5 col21\" >nan</td>\n",
       "                        <td id=\"T_c744749e_10da_11ea_b803_80000027fe80row5_col22\" class=\"data row5 col22\" >nan</td>\n",
       "                        <td id=\"T_c744749e_10da_11ea_b803_80000027fe80row5_col23\" class=\"data row5 col23\" >nan</td>\n",
       "                        <td id=\"T_c744749e_10da_11ea_b803_80000027fe80row5_col24\" class=\"data row5 col24\" >nan</td>\n",
       "                        <td id=\"T_c744749e_10da_11ea_b803_80000027fe80row5_col25\" class=\"data row5 col25\" >nan</td>\n",
       "                        <td id=\"T_c744749e_10da_11ea_b803_80000027fe80row5_col26\" class=\"data row5 col26\" >nan</td>\n",
       "                        <td id=\"T_c744749e_10da_11ea_b803_80000027fe80row5_col27\" class=\"data row5 col27\" >nan</td>\n",
       "                        <td id=\"T_c744749e_10da_11ea_b803_80000027fe80row5_col28\" class=\"data row5 col28\" >nan</td>\n",
       "                        <td id=\"T_c744749e_10da_11ea_b803_80000027fe80row5_col29\" class=\"data row5 col29\" >nan</td>\n",
       "                        <td id=\"T_c744749e_10da_11ea_b803_80000027fe80row5_col30\" class=\"data row5 col30\" >nan</td>\n",
       "                        <td id=\"T_c744749e_10da_11ea_b803_80000027fe80row5_col31\" class=\"data row5 col31\" >nan</td>\n",
       "                        <td id=\"T_c744749e_10da_11ea_b803_80000027fe80row5_col32\" class=\"data row5 col32\" >nan</td>\n",
       "                        <td id=\"T_c744749e_10da_11ea_b803_80000027fe80row5_col33\" class=\"data row5 col33\" >nan</td>\n",
       "                        <td id=\"T_c744749e_10da_11ea_b803_80000027fe80row5_col34\" class=\"data row5 col34\" >nan</td>\n",
       "                        <td id=\"T_c744749e_10da_11ea_b803_80000027fe80row5_col35\" class=\"data row5 col35\" >nan</td>\n",
       "                        <td id=\"T_c744749e_10da_11ea_b803_80000027fe80row5_col36\" class=\"data row5 col36\" >nan</td>\n",
       "                        <td id=\"T_c744749e_10da_11ea_b803_80000027fe80row5_col37\" class=\"data row5 col37\" >nan</td>\n",
       "                        <td id=\"T_c744749e_10da_11ea_b803_80000027fe80row5_col38\" class=\"data row5 col38\" >nan</td>\n",
       "                        <td id=\"T_c744749e_10da_11ea_b803_80000027fe80row5_col39\" class=\"data row5 col39\" >nan</td>\n",
       "                        <td id=\"T_c744749e_10da_11ea_b803_80000027fe80row5_col40\" class=\"data row5 col40\" >nan</td>\n",
       "                        <td id=\"T_c744749e_10da_11ea_b803_80000027fe80row5_col41\" class=\"data row5 col41\" >nan</td>\n",
       "                        <td id=\"T_c744749e_10da_11ea_b803_80000027fe80row5_col42\" class=\"data row5 col42\" >nan</td>\n",
       "                        <td id=\"T_c744749e_10da_11ea_b803_80000027fe80row5_col43\" class=\"data row5 col43\" >nan</td>\n",
       "                        <td id=\"T_c744749e_10da_11ea_b803_80000027fe80row5_col44\" class=\"data row5 col44\" >nan</td>\n",
       "                        <td id=\"T_c744749e_10da_11ea_b803_80000027fe80row5_col45\" class=\"data row5 col45\" >nan</td>\n",
       "                        <td id=\"T_c744749e_10da_11ea_b803_80000027fe80row5_col46\" class=\"data row5 col46\" >nan</td>\n",
       "                        <td id=\"T_c744749e_10da_11ea_b803_80000027fe80row5_col47\" class=\"data row5 col47\" >nan</td>\n",
       "                        <td id=\"T_c744749e_10da_11ea_b803_80000027fe80row5_col48\" class=\"data row5 col48\" >nan</td>\n",
       "                        <td id=\"T_c744749e_10da_11ea_b803_80000027fe80row5_col49\" class=\"data row5 col49\" >nan</td>\n",
       "                        <td id=\"T_c744749e_10da_11ea_b803_80000027fe80row5_col50\" class=\"data row5 col50\" >nan</td>\n",
       "                        <td id=\"T_c744749e_10da_11ea_b803_80000027fe80row5_col51\" class=\"data row5 col51\" >nan</td>\n",
       "                        <td id=\"T_c744749e_10da_11ea_b803_80000027fe80row5_col52\" class=\"data row5 col52\" >nan</td>\n",
       "                        <td id=\"T_c744749e_10da_11ea_b803_80000027fe80row5_col53\" class=\"data row5 col53\" >nan</td>\n",
       "                        <td id=\"T_c744749e_10da_11ea_b803_80000027fe80row5_col54\" class=\"data row5 col54\" >nan</td>\n",
       "                        <td id=\"T_c744749e_10da_11ea_b803_80000027fe80row5_col55\" class=\"data row5 col55\" >nan</td>\n",
       "                        <td id=\"T_c744749e_10da_11ea_b803_80000027fe80row5_col56\" class=\"data row5 col56\" >nan</td>\n",
       "                        <td id=\"T_c744749e_10da_11ea_b803_80000027fe80row5_col57\" class=\"data row5 col57\" >nan</td>\n",
       "                        <td id=\"T_c744749e_10da_11ea_b803_80000027fe80row5_col58\" class=\"data row5 col58\" >nan</td>\n",
       "                        <td id=\"T_c744749e_10da_11ea_b803_80000027fe80row5_col59\" class=\"data row5 col59\" >nan</td>\n",
       "                        <td id=\"T_c744749e_10da_11ea_b803_80000027fe80row5_col60\" class=\"data row5 col60\" >nan</td>\n",
       "                        <td id=\"T_c744749e_10da_11ea_b803_80000027fe80row5_col61\" class=\"data row5 col61\" >nan</td>\n",
       "                        <td id=\"T_c744749e_10da_11ea_b803_80000027fe80row5_col62\" class=\"data row5 col62\" >nan</td>\n",
       "                        <td id=\"T_c744749e_10da_11ea_b803_80000027fe80row5_col63\" class=\"data row5 col63\" >nan</td>\n",
       "                        <td id=\"T_c744749e_10da_11ea_b803_80000027fe80row5_col64\" class=\"data row5 col64\" >nan</td>\n",
       "                        <td id=\"T_c744749e_10da_11ea_b803_80000027fe80row5_col65\" class=\"data row5 col65\" >nan</td>\n",
       "                        <td id=\"T_c744749e_10da_11ea_b803_80000027fe80row5_col66\" class=\"data row5 col66\" >nan</td>\n",
       "                        <td id=\"T_c744749e_10da_11ea_b803_80000027fe80row5_col67\" class=\"data row5 col67\" >nan</td>\n",
       "                        <td id=\"T_c744749e_10da_11ea_b803_80000027fe80row5_col68\" class=\"data row5 col68\" >nan</td>\n",
       "                        <td id=\"T_c744749e_10da_11ea_b803_80000027fe80row5_col69\" class=\"data row5 col69\" >nan</td>\n",
       "                        <td id=\"T_c744749e_10da_11ea_b803_80000027fe80row5_col70\" class=\"data row5 col70\" >nan</td>\n",
       "                        <td id=\"T_c744749e_10da_11ea_b803_80000027fe80row5_col71\" class=\"data row5 col71\" >nan</td>\n",
       "                        <td id=\"T_c744749e_10da_11ea_b803_80000027fe80row5_col72\" class=\"data row5 col72\" >nan</td>\n",
       "                        <td id=\"T_c744749e_10da_11ea_b803_80000027fe80row5_col73\" class=\"data row5 col73\" >nan</td>\n",
       "                        <td id=\"T_c744749e_10da_11ea_b803_80000027fe80row5_col74\" class=\"data row5 col74\" >nan</td>\n",
       "                        <td id=\"T_c744749e_10da_11ea_b803_80000027fe80row5_col75\" class=\"data row5 col75\" >nan</td>\n",
       "                        <td id=\"T_c744749e_10da_11ea_b803_80000027fe80row5_col76\" class=\"data row5 col76\" >nan</td>\n",
       "            </tr>\n",
       "    </tbody></table>"
      ],
      "text/plain": [
       "<pandas.io.formats.style.Styler at 0x2b3ab7dcd278>"
      ]
     },
     "metadata": {},
     "output_type": "display_data"
    },
    {
     "data": {
      "text/plain": [
       "'AutoKerasClean #1'"
      ]
     },
     "metadata": {},
     "output_type": "display_data"
    },
    {
     "data": {
      "text/html": [
       "<style  type=\"text/css\" >\n",
       "</style><table id=\"T_c7504814_10da_11ea_b803_80000027fe80\" ><thead>    <tr>        <th class=\"col_heading level0 col0\" >max_angle</th>        <th class=\"col_heading level0 col1\" >test_acc</th>        <th class=\"col_heading level0 col2\" >train_acc</th>        <th class=\"col_heading level0 col3\" >time_err</th>        <th class=\"col_heading level0 col4\" >time_pre</th>        <th class=\"col_heading level0 col5\" >time_mod</th>    </tr></thead><tbody>\n",
       "                <tr>\n",
       "                                <td id=\"T_c7504814_10da_11ea_b803_80000027fe80row0_col0\" class=\"data row0 col0\" >0</td>\n",
       "                        <td id=\"T_c7504814_10da_11ea_b803_80000027fe80row0_col1\" class=\"data row0 col1\" >0.887</td>\n",
       "                        <td id=\"T_c7504814_10da_11ea_b803_80000027fe80row0_col2\" class=\"data row0 col2\" >0.928</td>\n",
       "                        <td id=\"T_c7504814_10da_11ea_b803_80000027fe80row0_col3\" class=\"data row0 col3\" >6.061</td>\n",
       "                        <td id=\"T_c7504814_10da_11ea_b803_80000027fe80row0_col4\" class=\"data row0 col4\" >0.653</td>\n",
       "                        <td id=\"T_c7504814_10da_11ea_b803_80000027fe80row0_col5\" class=\"data row0 col5\" >10860.9</td>\n",
       "            </tr>\n",
       "            <tr>\n",
       "                                <td id=\"T_c7504814_10da_11ea_b803_80000027fe80row1_col0\" class=\"data row1 col0\" >36</td>\n",
       "                        <td id=\"T_c7504814_10da_11ea_b803_80000027fe80row1_col1\" class=\"data row1 col1\" >0.589</td>\n",
       "                        <td id=\"T_c7504814_10da_11ea_b803_80000027fe80row1_col2\" class=\"data row1 col2\" >0.928</td>\n",
       "                        <td id=\"T_c7504814_10da_11ea_b803_80000027fe80row1_col3\" class=\"data row1 col3\" >8.433</td>\n",
       "                        <td id=\"T_c7504814_10da_11ea_b803_80000027fe80row1_col4\" class=\"data row1 col4\" >0.703</td>\n",
       "                        <td id=\"T_c7504814_10da_11ea_b803_80000027fe80row1_col5\" class=\"data row1 col5\" >10857.1</td>\n",
       "            </tr>\n",
       "            <tr>\n",
       "                                <td id=\"T_c7504814_10da_11ea_b803_80000027fe80row2_col0\" class=\"data row2 col0\" >72</td>\n",
       "                        <td id=\"T_c7504814_10da_11ea_b803_80000027fe80row2_col1\" class=\"data row2 col1\" >0.372</td>\n",
       "                        <td id=\"T_c7504814_10da_11ea_b803_80000027fe80row2_col2\" class=\"data row2 col2\" >0.928</td>\n",
       "                        <td id=\"T_c7504814_10da_11ea_b803_80000027fe80row2_col3\" class=\"data row2 col3\" >8.152</td>\n",
       "                        <td id=\"T_c7504814_10da_11ea_b803_80000027fe80row2_col4\" class=\"data row2 col4\" >0.615</td>\n",
       "                        <td id=\"T_c7504814_10da_11ea_b803_80000027fe80row2_col5\" class=\"data row2 col5\" >10855.3</td>\n",
       "            </tr>\n",
       "            <tr>\n",
       "                                <td id=\"T_c7504814_10da_11ea_b803_80000027fe80row3_col0\" class=\"data row3 col0\" >108</td>\n",
       "                        <td id=\"T_c7504814_10da_11ea_b803_80000027fe80row3_col1\" class=\"data row3 col1\" >0.27</td>\n",
       "                        <td id=\"T_c7504814_10da_11ea_b803_80000027fe80row3_col2\" class=\"data row3 col2\" >0.928</td>\n",
       "                        <td id=\"T_c7504814_10da_11ea_b803_80000027fe80row3_col3\" class=\"data row3 col3\" >8.156</td>\n",
       "                        <td id=\"T_c7504814_10da_11ea_b803_80000027fe80row3_col4\" class=\"data row3 col4\" >0.621</td>\n",
       "                        <td id=\"T_c7504814_10da_11ea_b803_80000027fe80row3_col5\" class=\"data row3 col5\" >10862.3</td>\n",
       "            </tr>\n",
       "            <tr>\n",
       "                                <td id=\"T_c7504814_10da_11ea_b803_80000027fe80row4_col0\" class=\"data row4 col0\" >144</td>\n",
       "                        <td id=\"T_c7504814_10da_11ea_b803_80000027fe80row4_col1\" class=\"data row4 col1\" >0.232</td>\n",
       "                        <td id=\"T_c7504814_10da_11ea_b803_80000027fe80row4_col2\" class=\"data row4 col2\" >0.928</td>\n",
       "                        <td id=\"T_c7504814_10da_11ea_b803_80000027fe80row4_col3\" class=\"data row4 col3\" >8.563</td>\n",
       "                        <td id=\"T_c7504814_10da_11ea_b803_80000027fe80row4_col4\" class=\"data row4 col4\" >0.691</td>\n",
       "                        <td id=\"T_c7504814_10da_11ea_b803_80000027fe80row4_col5\" class=\"data row4 col5\" >10857</td>\n",
       "            </tr>\n",
       "            <tr>\n",
       "                                <td id=\"T_c7504814_10da_11ea_b803_80000027fe80row5_col0\" class=\"data row5 col0\" >180</td>\n",
       "                        <td id=\"T_c7504814_10da_11ea_b803_80000027fe80row5_col1\" class=\"data row5 col1\" >0.233</td>\n",
       "                        <td id=\"T_c7504814_10da_11ea_b803_80000027fe80row5_col2\" class=\"data row5 col2\" >0.928</td>\n",
       "                        <td id=\"T_c7504814_10da_11ea_b803_80000027fe80row5_col3\" class=\"data row5 col3\" >8.278</td>\n",
       "                        <td id=\"T_c7504814_10da_11ea_b803_80000027fe80row5_col4\" class=\"data row5 col4\" >0.616</td>\n",
       "                        <td id=\"T_c7504814_10da_11ea_b803_80000027fe80row5_col5\" class=\"data row5 col5\" >10861.1</td>\n",
       "            </tr>\n",
       "    </tbody></table>"
      ],
      "text/plain": [
       "<pandas.io.formats.style.Styler at 0x2b3ab7dba048>"
      ]
     },
     "metadata": {},
     "output_type": "display_data"
    },
    {
     "data": {
      "text/html": [
       "<style  type=\"text/css\" >\n",
       "</style><table id=\"T_c7538754_10da_11ea_b803_80000027fe80\" ><thead>    <tr>        <th class=\"col_heading level0 col0\" >max_angle</th>        <th class=\"col_heading level0 col1\" >pipe_0</th>        <th class=\"col_heading level0 col2\" >pipe_1</th>        <th class=\"col_heading level0 col3\" >pipe_2</th>        <th class=\"col_heading level0 col4\" >pipe_3</th>        <th class=\"col_heading level0 col5\" >pipe_4</th>        <th class=\"col_heading level0 col6\" >pipe_5</th>        <th class=\"col_heading level0 col7\" >pipe_6</th>        <th class=\"col_heading level0 col8\" >pipe_7</th>        <th class=\"col_heading level0 col9\" >pipe_8</th>        <th class=\"col_heading level0 col10\" >pipe_9</th>        <th class=\"col_heading level0 col11\" >pipe_10</th>        <th class=\"col_heading level0 col12\" >pipe_11</th>        <th class=\"col_heading level0 col13\" >pipe_12</th>        <th class=\"col_heading level0 col14\" >pipe_13</th>        <th class=\"col_heading level0 col15\" >pipe_14</th>        <th class=\"col_heading level0 col16\" >pipe_15</th>        <th class=\"col_heading level0 col17\" >pipe_16</th>    </tr></thead><tbody>\n",
       "                <tr>\n",
       "                                <td id=\"T_c7538754_10da_11ea_b803_80000027fe80row0_col0\" class=\"data row0 col0\" >0</td>\n",
       "                        <td id=\"T_c7538754_10da_11ea_b803_80000027fe80row0_col1\" class=\"data row0 col1\" >ReLU()</td>\n",
       "                        <td id=\"T_c7538754_10da_11ea_b803_80000027fe80row0_col2\" class=\"data row0 col2\" >BatchNorm2d(1, eps=1e-05, momentum=0.1, affine=True, track_running_stats=True)</td>\n",
       "                        <td id=\"T_c7538754_10da_11ea_b803_80000027fe80row0_col3\" class=\"data row0 col3\" >Conv2d(1, 64, kernel_size=(3, 3), stride=(1, 1), padding=(1, 1))</td>\n",
       "                        <td id=\"T_c7538754_10da_11ea_b803_80000027fe80row0_col4\" class=\"data row0 col4\" >MaxPool2d(kernel_size=2, stride=2, padding=0, dilation=1, ceil_mode=False)</td>\n",
       "                        <td id=\"T_c7538754_10da_11ea_b803_80000027fe80row0_col5\" class=\"data row0 col5\" >ReLU()</td>\n",
       "                        <td id=\"T_c7538754_10da_11ea_b803_80000027fe80row0_col6\" class=\"data row0 col6\" >BatchNorm2d(64, eps=1e-05, momentum=0.1, affine=True, track_running_stats=True)</td>\n",
       "                        <td id=\"T_c7538754_10da_11ea_b803_80000027fe80row0_col7\" class=\"data row0 col7\" >Conv2d(64, 64, kernel_size=(3, 3), stride=(1, 1), padding=(1, 1))</td>\n",
       "                        <td id=\"T_c7538754_10da_11ea_b803_80000027fe80row0_col8\" class=\"data row0 col8\" >MaxPool2d(kernel_size=2, stride=2, padding=0, dilation=1, ceil_mode=False)</td>\n",
       "                        <td id=\"T_c7538754_10da_11ea_b803_80000027fe80row0_col9\" class=\"data row0 col9\" >ReLU()</td>\n",
       "                        <td id=\"T_c7538754_10da_11ea_b803_80000027fe80row0_col10\" class=\"data row0 col10\" >BatchNorm2d(64, eps=1e-05, momentum=0.1, affine=True, track_running_stats=True)</td>\n",
       "                        <td id=\"T_c7538754_10da_11ea_b803_80000027fe80row0_col11\" class=\"data row0 col11\" >Conv2d(64, 64, kernel_size=(3, 3), stride=(1, 1), padding=(1, 1))</td>\n",
       "                        <td id=\"T_c7538754_10da_11ea_b803_80000027fe80row0_col12\" class=\"data row0 col12\" >MaxPool2d(kernel_size=2, stride=2, padding=0, dilation=1, ceil_mode=False)</td>\n",
       "                        <td id=\"T_c7538754_10da_11ea_b803_80000027fe80row0_col13\" class=\"data row0 col13\" >GlobalAvgPool2d()</td>\n",
       "                        <td id=\"T_c7538754_10da_11ea_b803_80000027fe80row0_col14\" class=\"data row0 col14\" >Dropout2d(p=0.25)</td>\n",
       "                        <td id=\"T_c7538754_10da_11ea_b803_80000027fe80row0_col15\" class=\"data row0 col15\" >Linear(in_features=64, out_features=64, bias=True)</td>\n",
       "                        <td id=\"T_c7538754_10da_11ea_b803_80000027fe80row0_col16\" class=\"data row0 col16\" >ReLU()</td>\n",
       "                        <td id=\"T_c7538754_10da_11ea_b803_80000027fe80row0_col17\" class=\"data row0 col17\" >Linear(in_features=64, out_features=10, bias=True)</td>\n",
       "            </tr>\n",
       "            <tr>\n",
       "                                <td id=\"T_c7538754_10da_11ea_b803_80000027fe80row1_col0\" class=\"data row1 col0\" >36</td>\n",
       "                        <td id=\"T_c7538754_10da_11ea_b803_80000027fe80row1_col1\" class=\"data row1 col1\" >ReLU()</td>\n",
       "                        <td id=\"T_c7538754_10da_11ea_b803_80000027fe80row1_col2\" class=\"data row1 col2\" >BatchNorm2d(1, eps=1e-05, momentum=0.1, affine=True, track_running_stats=True)</td>\n",
       "                        <td id=\"T_c7538754_10da_11ea_b803_80000027fe80row1_col3\" class=\"data row1 col3\" >Conv2d(1, 64, kernel_size=(3, 3), stride=(1, 1), padding=(1, 1))</td>\n",
       "                        <td id=\"T_c7538754_10da_11ea_b803_80000027fe80row1_col4\" class=\"data row1 col4\" >MaxPool2d(kernel_size=2, stride=2, padding=0, dilation=1, ceil_mode=False)</td>\n",
       "                        <td id=\"T_c7538754_10da_11ea_b803_80000027fe80row1_col5\" class=\"data row1 col5\" >ReLU()</td>\n",
       "                        <td id=\"T_c7538754_10da_11ea_b803_80000027fe80row1_col6\" class=\"data row1 col6\" >BatchNorm2d(64, eps=1e-05, momentum=0.1, affine=True, track_running_stats=True)</td>\n",
       "                        <td id=\"T_c7538754_10da_11ea_b803_80000027fe80row1_col7\" class=\"data row1 col7\" >Conv2d(64, 64, kernel_size=(3, 3), stride=(1, 1), padding=(1, 1))</td>\n",
       "                        <td id=\"T_c7538754_10da_11ea_b803_80000027fe80row1_col8\" class=\"data row1 col8\" >MaxPool2d(kernel_size=2, stride=2, padding=0, dilation=1, ceil_mode=False)</td>\n",
       "                        <td id=\"T_c7538754_10da_11ea_b803_80000027fe80row1_col9\" class=\"data row1 col9\" >ReLU()</td>\n",
       "                        <td id=\"T_c7538754_10da_11ea_b803_80000027fe80row1_col10\" class=\"data row1 col10\" >BatchNorm2d(64, eps=1e-05, momentum=0.1, affine=True, track_running_stats=True)</td>\n",
       "                        <td id=\"T_c7538754_10da_11ea_b803_80000027fe80row1_col11\" class=\"data row1 col11\" >Conv2d(64, 64, kernel_size=(3, 3), stride=(1, 1), padding=(1, 1))</td>\n",
       "                        <td id=\"T_c7538754_10da_11ea_b803_80000027fe80row1_col12\" class=\"data row1 col12\" >MaxPool2d(kernel_size=2, stride=2, padding=0, dilation=1, ceil_mode=False)</td>\n",
       "                        <td id=\"T_c7538754_10da_11ea_b803_80000027fe80row1_col13\" class=\"data row1 col13\" >GlobalAvgPool2d()</td>\n",
       "                        <td id=\"T_c7538754_10da_11ea_b803_80000027fe80row1_col14\" class=\"data row1 col14\" >Dropout2d(p=0.25)</td>\n",
       "                        <td id=\"T_c7538754_10da_11ea_b803_80000027fe80row1_col15\" class=\"data row1 col15\" >Linear(in_features=64, out_features=64, bias=True)</td>\n",
       "                        <td id=\"T_c7538754_10da_11ea_b803_80000027fe80row1_col16\" class=\"data row1 col16\" >ReLU()</td>\n",
       "                        <td id=\"T_c7538754_10da_11ea_b803_80000027fe80row1_col17\" class=\"data row1 col17\" >Linear(in_features=64, out_features=10, bias=True)</td>\n",
       "            </tr>\n",
       "            <tr>\n",
       "                                <td id=\"T_c7538754_10da_11ea_b803_80000027fe80row2_col0\" class=\"data row2 col0\" >72</td>\n",
       "                        <td id=\"T_c7538754_10da_11ea_b803_80000027fe80row2_col1\" class=\"data row2 col1\" >ReLU()</td>\n",
       "                        <td id=\"T_c7538754_10da_11ea_b803_80000027fe80row2_col2\" class=\"data row2 col2\" >BatchNorm2d(1, eps=1e-05, momentum=0.1, affine=True, track_running_stats=True)</td>\n",
       "                        <td id=\"T_c7538754_10da_11ea_b803_80000027fe80row2_col3\" class=\"data row2 col3\" >Conv2d(1, 64, kernel_size=(3, 3), stride=(1, 1), padding=(1, 1))</td>\n",
       "                        <td id=\"T_c7538754_10da_11ea_b803_80000027fe80row2_col4\" class=\"data row2 col4\" >MaxPool2d(kernel_size=2, stride=2, padding=0, dilation=1, ceil_mode=False)</td>\n",
       "                        <td id=\"T_c7538754_10da_11ea_b803_80000027fe80row2_col5\" class=\"data row2 col5\" >ReLU()</td>\n",
       "                        <td id=\"T_c7538754_10da_11ea_b803_80000027fe80row2_col6\" class=\"data row2 col6\" >BatchNorm2d(64, eps=1e-05, momentum=0.1, affine=True, track_running_stats=True)</td>\n",
       "                        <td id=\"T_c7538754_10da_11ea_b803_80000027fe80row2_col7\" class=\"data row2 col7\" >Conv2d(64, 64, kernel_size=(3, 3), stride=(1, 1), padding=(1, 1))</td>\n",
       "                        <td id=\"T_c7538754_10da_11ea_b803_80000027fe80row2_col8\" class=\"data row2 col8\" >MaxPool2d(kernel_size=2, stride=2, padding=0, dilation=1, ceil_mode=False)</td>\n",
       "                        <td id=\"T_c7538754_10da_11ea_b803_80000027fe80row2_col9\" class=\"data row2 col9\" >ReLU()</td>\n",
       "                        <td id=\"T_c7538754_10da_11ea_b803_80000027fe80row2_col10\" class=\"data row2 col10\" >BatchNorm2d(64, eps=1e-05, momentum=0.1, affine=True, track_running_stats=True)</td>\n",
       "                        <td id=\"T_c7538754_10da_11ea_b803_80000027fe80row2_col11\" class=\"data row2 col11\" >Conv2d(64, 64, kernel_size=(3, 3), stride=(1, 1), padding=(1, 1))</td>\n",
       "                        <td id=\"T_c7538754_10da_11ea_b803_80000027fe80row2_col12\" class=\"data row2 col12\" >MaxPool2d(kernel_size=2, stride=2, padding=0, dilation=1, ceil_mode=False)</td>\n",
       "                        <td id=\"T_c7538754_10da_11ea_b803_80000027fe80row2_col13\" class=\"data row2 col13\" >GlobalAvgPool2d()</td>\n",
       "                        <td id=\"T_c7538754_10da_11ea_b803_80000027fe80row2_col14\" class=\"data row2 col14\" >Dropout2d(p=0.25)</td>\n",
       "                        <td id=\"T_c7538754_10da_11ea_b803_80000027fe80row2_col15\" class=\"data row2 col15\" >Linear(in_features=64, out_features=64, bias=True)</td>\n",
       "                        <td id=\"T_c7538754_10da_11ea_b803_80000027fe80row2_col16\" class=\"data row2 col16\" >ReLU()</td>\n",
       "                        <td id=\"T_c7538754_10da_11ea_b803_80000027fe80row2_col17\" class=\"data row2 col17\" >Linear(in_features=64, out_features=10, bias=True)</td>\n",
       "            </tr>\n",
       "            <tr>\n",
       "                                <td id=\"T_c7538754_10da_11ea_b803_80000027fe80row3_col0\" class=\"data row3 col0\" >108</td>\n",
       "                        <td id=\"T_c7538754_10da_11ea_b803_80000027fe80row3_col1\" class=\"data row3 col1\" >ReLU()</td>\n",
       "                        <td id=\"T_c7538754_10da_11ea_b803_80000027fe80row3_col2\" class=\"data row3 col2\" >BatchNorm2d(1, eps=1e-05, momentum=0.1, affine=True, track_running_stats=True)</td>\n",
       "                        <td id=\"T_c7538754_10da_11ea_b803_80000027fe80row3_col3\" class=\"data row3 col3\" >Conv2d(1, 64, kernel_size=(3, 3), stride=(1, 1), padding=(1, 1))</td>\n",
       "                        <td id=\"T_c7538754_10da_11ea_b803_80000027fe80row3_col4\" class=\"data row3 col4\" >MaxPool2d(kernel_size=2, stride=2, padding=0, dilation=1, ceil_mode=False)</td>\n",
       "                        <td id=\"T_c7538754_10da_11ea_b803_80000027fe80row3_col5\" class=\"data row3 col5\" >ReLU()</td>\n",
       "                        <td id=\"T_c7538754_10da_11ea_b803_80000027fe80row3_col6\" class=\"data row3 col6\" >BatchNorm2d(64, eps=1e-05, momentum=0.1, affine=True, track_running_stats=True)</td>\n",
       "                        <td id=\"T_c7538754_10da_11ea_b803_80000027fe80row3_col7\" class=\"data row3 col7\" >Conv2d(64, 64, kernel_size=(3, 3), stride=(1, 1), padding=(1, 1))</td>\n",
       "                        <td id=\"T_c7538754_10da_11ea_b803_80000027fe80row3_col8\" class=\"data row3 col8\" >MaxPool2d(kernel_size=2, stride=2, padding=0, dilation=1, ceil_mode=False)</td>\n",
       "                        <td id=\"T_c7538754_10da_11ea_b803_80000027fe80row3_col9\" class=\"data row3 col9\" >ReLU()</td>\n",
       "                        <td id=\"T_c7538754_10da_11ea_b803_80000027fe80row3_col10\" class=\"data row3 col10\" >BatchNorm2d(64, eps=1e-05, momentum=0.1, affine=True, track_running_stats=True)</td>\n",
       "                        <td id=\"T_c7538754_10da_11ea_b803_80000027fe80row3_col11\" class=\"data row3 col11\" >Conv2d(64, 64, kernel_size=(3, 3), stride=(1, 1), padding=(1, 1))</td>\n",
       "                        <td id=\"T_c7538754_10da_11ea_b803_80000027fe80row3_col12\" class=\"data row3 col12\" >MaxPool2d(kernel_size=2, stride=2, padding=0, dilation=1, ceil_mode=False)</td>\n",
       "                        <td id=\"T_c7538754_10da_11ea_b803_80000027fe80row3_col13\" class=\"data row3 col13\" >GlobalAvgPool2d()</td>\n",
       "                        <td id=\"T_c7538754_10da_11ea_b803_80000027fe80row3_col14\" class=\"data row3 col14\" >Dropout2d(p=0.25)</td>\n",
       "                        <td id=\"T_c7538754_10da_11ea_b803_80000027fe80row3_col15\" class=\"data row3 col15\" >Linear(in_features=64, out_features=64, bias=True)</td>\n",
       "                        <td id=\"T_c7538754_10da_11ea_b803_80000027fe80row3_col16\" class=\"data row3 col16\" >ReLU()</td>\n",
       "                        <td id=\"T_c7538754_10da_11ea_b803_80000027fe80row3_col17\" class=\"data row3 col17\" >Linear(in_features=64, out_features=10, bias=True)</td>\n",
       "            </tr>\n",
       "            <tr>\n",
       "                                <td id=\"T_c7538754_10da_11ea_b803_80000027fe80row4_col0\" class=\"data row4 col0\" >144</td>\n",
       "                        <td id=\"T_c7538754_10da_11ea_b803_80000027fe80row4_col1\" class=\"data row4 col1\" >ReLU()</td>\n",
       "                        <td id=\"T_c7538754_10da_11ea_b803_80000027fe80row4_col2\" class=\"data row4 col2\" >BatchNorm2d(1, eps=1e-05, momentum=0.1, affine=True, track_running_stats=True)</td>\n",
       "                        <td id=\"T_c7538754_10da_11ea_b803_80000027fe80row4_col3\" class=\"data row4 col3\" >Conv2d(1, 64, kernel_size=(3, 3), stride=(1, 1), padding=(1, 1))</td>\n",
       "                        <td id=\"T_c7538754_10da_11ea_b803_80000027fe80row4_col4\" class=\"data row4 col4\" >MaxPool2d(kernel_size=2, stride=2, padding=0, dilation=1, ceil_mode=False)</td>\n",
       "                        <td id=\"T_c7538754_10da_11ea_b803_80000027fe80row4_col5\" class=\"data row4 col5\" >ReLU()</td>\n",
       "                        <td id=\"T_c7538754_10da_11ea_b803_80000027fe80row4_col6\" class=\"data row4 col6\" >BatchNorm2d(64, eps=1e-05, momentum=0.1, affine=True, track_running_stats=True)</td>\n",
       "                        <td id=\"T_c7538754_10da_11ea_b803_80000027fe80row4_col7\" class=\"data row4 col7\" >Conv2d(64, 64, kernel_size=(3, 3), stride=(1, 1), padding=(1, 1))</td>\n",
       "                        <td id=\"T_c7538754_10da_11ea_b803_80000027fe80row4_col8\" class=\"data row4 col8\" >MaxPool2d(kernel_size=2, stride=2, padding=0, dilation=1, ceil_mode=False)</td>\n",
       "                        <td id=\"T_c7538754_10da_11ea_b803_80000027fe80row4_col9\" class=\"data row4 col9\" >ReLU()</td>\n",
       "                        <td id=\"T_c7538754_10da_11ea_b803_80000027fe80row4_col10\" class=\"data row4 col10\" >BatchNorm2d(64, eps=1e-05, momentum=0.1, affine=True, track_running_stats=True)</td>\n",
       "                        <td id=\"T_c7538754_10da_11ea_b803_80000027fe80row4_col11\" class=\"data row4 col11\" >Conv2d(64, 64, kernel_size=(3, 3), stride=(1, 1), padding=(1, 1))</td>\n",
       "                        <td id=\"T_c7538754_10da_11ea_b803_80000027fe80row4_col12\" class=\"data row4 col12\" >MaxPool2d(kernel_size=2, stride=2, padding=0, dilation=1, ceil_mode=False)</td>\n",
       "                        <td id=\"T_c7538754_10da_11ea_b803_80000027fe80row4_col13\" class=\"data row4 col13\" >GlobalAvgPool2d()</td>\n",
       "                        <td id=\"T_c7538754_10da_11ea_b803_80000027fe80row4_col14\" class=\"data row4 col14\" >Dropout2d(p=0.25)</td>\n",
       "                        <td id=\"T_c7538754_10da_11ea_b803_80000027fe80row4_col15\" class=\"data row4 col15\" >Linear(in_features=64, out_features=64, bias=True)</td>\n",
       "                        <td id=\"T_c7538754_10da_11ea_b803_80000027fe80row4_col16\" class=\"data row4 col16\" >ReLU()</td>\n",
       "                        <td id=\"T_c7538754_10da_11ea_b803_80000027fe80row4_col17\" class=\"data row4 col17\" >Linear(in_features=64, out_features=10, bias=True)</td>\n",
       "            </tr>\n",
       "            <tr>\n",
       "                                <td id=\"T_c7538754_10da_11ea_b803_80000027fe80row5_col0\" class=\"data row5 col0\" >180</td>\n",
       "                        <td id=\"T_c7538754_10da_11ea_b803_80000027fe80row5_col1\" class=\"data row5 col1\" >ReLU()</td>\n",
       "                        <td id=\"T_c7538754_10da_11ea_b803_80000027fe80row5_col2\" class=\"data row5 col2\" >BatchNorm2d(1, eps=1e-05, momentum=0.1, affine=True, track_running_stats=True)</td>\n",
       "                        <td id=\"T_c7538754_10da_11ea_b803_80000027fe80row5_col3\" class=\"data row5 col3\" >Conv2d(1, 64, kernel_size=(3, 3), stride=(1, 1), padding=(1, 1))</td>\n",
       "                        <td id=\"T_c7538754_10da_11ea_b803_80000027fe80row5_col4\" class=\"data row5 col4\" >MaxPool2d(kernel_size=2, stride=2, padding=0, dilation=1, ceil_mode=False)</td>\n",
       "                        <td id=\"T_c7538754_10da_11ea_b803_80000027fe80row5_col5\" class=\"data row5 col5\" >ReLU()</td>\n",
       "                        <td id=\"T_c7538754_10da_11ea_b803_80000027fe80row5_col6\" class=\"data row5 col6\" >BatchNorm2d(64, eps=1e-05, momentum=0.1, affine=True, track_running_stats=True)</td>\n",
       "                        <td id=\"T_c7538754_10da_11ea_b803_80000027fe80row5_col7\" class=\"data row5 col7\" >Conv2d(64, 64, kernel_size=(3, 3), stride=(1, 1), padding=(1, 1))</td>\n",
       "                        <td id=\"T_c7538754_10da_11ea_b803_80000027fe80row5_col8\" class=\"data row5 col8\" >MaxPool2d(kernel_size=2, stride=2, padding=0, dilation=1, ceil_mode=False)</td>\n",
       "                        <td id=\"T_c7538754_10da_11ea_b803_80000027fe80row5_col9\" class=\"data row5 col9\" >ReLU()</td>\n",
       "                        <td id=\"T_c7538754_10da_11ea_b803_80000027fe80row5_col10\" class=\"data row5 col10\" >BatchNorm2d(64, eps=1e-05, momentum=0.1, affine=True, track_running_stats=True)</td>\n",
       "                        <td id=\"T_c7538754_10da_11ea_b803_80000027fe80row5_col11\" class=\"data row5 col11\" >Conv2d(64, 64, kernel_size=(3, 3), stride=(1, 1), padding=(1, 1))</td>\n",
       "                        <td id=\"T_c7538754_10da_11ea_b803_80000027fe80row5_col12\" class=\"data row5 col12\" >MaxPool2d(kernel_size=2, stride=2, padding=0, dilation=1, ceil_mode=False)</td>\n",
       "                        <td id=\"T_c7538754_10da_11ea_b803_80000027fe80row5_col13\" class=\"data row5 col13\" >GlobalAvgPool2d()</td>\n",
       "                        <td id=\"T_c7538754_10da_11ea_b803_80000027fe80row5_col14\" class=\"data row5 col14\" >Dropout2d(p=0.25)</td>\n",
       "                        <td id=\"T_c7538754_10da_11ea_b803_80000027fe80row5_col15\" class=\"data row5 col15\" >Linear(in_features=64, out_features=64, bias=True)</td>\n",
       "                        <td id=\"T_c7538754_10da_11ea_b803_80000027fe80row5_col16\" class=\"data row5 col16\" >ReLU()</td>\n",
       "                        <td id=\"T_c7538754_10da_11ea_b803_80000027fe80row5_col17\" class=\"data row5 col17\" >Linear(in_features=64, out_features=10, bias=True)</td>\n",
       "            </tr>\n",
       "    </tbody></table>"
      ],
      "text/plain": [
       "<pandas.io.formats.style.Styler at 0x2b3ab7dd5f60>"
      ]
     },
     "metadata": {},
     "output_type": "display_data"
    },
    {
     "data": {
      "text/plain": [
       "'H2OAutoML #1'"
      ]
     },
     "metadata": {},
     "output_type": "display_data"
    },
    {
     "data": {
      "text/html": [
       "<style  type=\"text/css\" >\n",
       "</style><table id=\"T_c7567e1e_10da_11ea_b803_80000027fe80\" ><thead>    <tr>        <th class=\"col_heading level0 col0\" >max_angle</th>        <th class=\"col_heading level0 col1\" >test_acc</th>        <th class=\"col_heading level0 col2\" >train_acc</th>        <th class=\"col_heading level0 col3\" >time_err</th>        <th class=\"col_heading level0 col4\" >time_pre</th>        <th class=\"col_heading level0 col5\" >time_mod</th>    </tr></thead><tbody>\n",
       "                <tr>\n",
       "                                <td id=\"T_c7567e1e_10da_11ea_b803_80000027fe80row0_col0\" class=\"data row0 col0\" >0</td>\n",
       "                        <td id=\"T_c7567e1e_10da_11ea_b803_80000027fe80row0_col1\" class=\"data row0 col1\" >0.9</td>\n",
       "                        <td id=\"T_c7567e1e_10da_11ea_b803_80000027fe80row0_col2\" class=\"data row0 col2\" >0.999</td>\n",
       "                        <td id=\"T_c7567e1e_10da_11ea_b803_80000027fe80row0_col3\" class=\"data row0 col3\" >6.061</td>\n",
       "                        <td id=\"T_c7567e1e_10da_11ea_b803_80000027fe80row0_col4\" class=\"data row0 col4\" >0.653</td>\n",
       "                        <td id=\"T_c7567e1e_10da_11ea_b803_80000027fe80row0_col5\" class=\"data row0 col5\" >11000.8</td>\n",
       "            </tr>\n",
       "            <tr>\n",
       "                                <td id=\"T_c7567e1e_10da_11ea_b803_80000027fe80row1_col0\" class=\"data row1 col0\" >36</td>\n",
       "                        <td id=\"T_c7567e1e_10da_11ea_b803_80000027fe80row1_col1\" class=\"data row1 col1\" >0.857</td>\n",
       "                        <td id=\"T_c7567e1e_10da_11ea_b803_80000027fe80row1_col2\" class=\"data row1 col2\" >1</td>\n",
       "                        <td id=\"T_c7567e1e_10da_11ea_b803_80000027fe80row1_col3\" class=\"data row1 col3\" >8.433</td>\n",
       "                        <td id=\"T_c7567e1e_10da_11ea_b803_80000027fe80row1_col4\" class=\"data row1 col4\" >0.703</td>\n",
       "                        <td id=\"T_c7567e1e_10da_11ea_b803_80000027fe80row1_col5\" class=\"data row1 col5\" >10920.2</td>\n",
       "            </tr>\n",
       "            <tr>\n",
       "                                <td id=\"T_c7567e1e_10da_11ea_b803_80000027fe80row2_col0\" class=\"data row2 col0\" >72</td>\n",
       "                        <td id=\"T_c7567e1e_10da_11ea_b803_80000027fe80row2_col1\" class=\"data row2 col1\" >0.827</td>\n",
       "                        <td id=\"T_c7567e1e_10da_11ea_b803_80000027fe80row2_col2\" class=\"data row2 col2\" >1</td>\n",
       "                        <td id=\"T_c7567e1e_10da_11ea_b803_80000027fe80row2_col3\" class=\"data row2 col3\" >8.152</td>\n",
       "                        <td id=\"T_c7567e1e_10da_11ea_b803_80000027fe80row2_col4\" class=\"data row2 col4\" >0.615</td>\n",
       "                        <td id=\"T_c7567e1e_10da_11ea_b803_80000027fe80row2_col5\" class=\"data row2 col5\" >10930.2</td>\n",
       "            </tr>\n",
       "            <tr>\n",
       "                                <td id=\"T_c7567e1e_10da_11ea_b803_80000027fe80row3_col0\" class=\"data row3 col0\" >108</td>\n",
       "                        <td id=\"T_c7567e1e_10da_11ea_b803_80000027fe80row3_col1\" class=\"data row3 col1\" >0.811</td>\n",
       "                        <td id=\"T_c7567e1e_10da_11ea_b803_80000027fe80row3_col2\" class=\"data row3 col2\" >1</td>\n",
       "                        <td id=\"T_c7567e1e_10da_11ea_b803_80000027fe80row3_col3\" class=\"data row3 col3\" >8.156</td>\n",
       "                        <td id=\"T_c7567e1e_10da_11ea_b803_80000027fe80row3_col4\" class=\"data row3 col4\" >0.621</td>\n",
       "                        <td id=\"T_c7567e1e_10da_11ea_b803_80000027fe80row3_col5\" class=\"data row3 col5\" >10930</td>\n",
       "            </tr>\n",
       "            <tr>\n",
       "                                <td id=\"T_c7567e1e_10da_11ea_b803_80000027fe80row4_col0\" class=\"data row4 col0\" >144</td>\n",
       "                        <td id=\"T_c7567e1e_10da_11ea_b803_80000027fe80row4_col1\" class=\"data row4 col1\" >0.802</td>\n",
       "                        <td id=\"T_c7567e1e_10da_11ea_b803_80000027fe80row4_col2\" class=\"data row4 col2\" >0.999</td>\n",
       "                        <td id=\"T_c7567e1e_10da_11ea_b803_80000027fe80row4_col3\" class=\"data row4 col3\" >8.563</td>\n",
       "                        <td id=\"T_c7567e1e_10da_11ea_b803_80000027fe80row4_col4\" class=\"data row4 col4\" >0.691</td>\n",
       "                        <td id=\"T_c7567e1e_10da_11ea_b803_80000027fe80row4_col5\" class=\"data row4 col5\" >10997.7</td>\n",
       "            </tr>\n",
       "            <tr>\n",
       "                                <td id=\"T_c7567e1e_10da_11ea_b803_80000027fe80row5_col0\" class=\"data row5 col0\" >180</td>\n",
       "                        <td id=\"T_c7567e1e_10da_11ea_b803_80000027fe80row5_col1\" class=\"data row5 col1\" >0.785</td>\n",
       "                        <td id=\"T_c7567e1e_10da_11ea_b803_80000027fe80row5_col2\" class=\"data row5 col2\" >0.998</td>\n",
       "                        <td id=\"T_c7567e1e_10da_11ea_b803_80000027fe80row5_col3\" class=\"data row5 col3\" >8.278</td>\n",
       "                        <td id=\"T_c7567e1e_10da_11ea_b803_80000027fe80row5_col4\" class=\"data row5 col4\" >0.616</td>\n",
       "                        <td id=\"T_c7567e1e_10da_11ea_b803_80000027fe80row5_col5\" class=\"data row5 col5\" >10957.2</td>\n",
       "            </tr>\n",
       "    </tbody></table>"
      ],
      "text/plain": [
       "<pandas.io.formats.style.Styler at 0x2b3ab7dd5d68>"
      ]
     },
     "metadata": {},
     "output_type": "display_data"
    },
    {
     "data": {
      "text/html": [
       "<style  type=\"text/css\" >\n",
       "</style><table id=\"T_c758dede_10da_11ea_b803_80000027fe80\" ><thead>    <tr>        <th class=\"col_heading level0 col0\" >max_angle</th>        <th class=\"col_heading level0 col1\" >pipe_0</th>        <th class=\"col_heading level0 col2\" >pipe_1</th>        <th class=\"col_heading level0 col3\" >pipe_2</th>        <th class=\"col_heading level0 col4\" >pipe_3</th>        <th class=\"col_heading level0 col5\" >pipe_4</th>        <th class=\"col_heading level0 col6\" >pipe_5</th>        <th class=\"col_heading level0 col7\" >pipe_6</th>        <th class=\"col_heading level0 col8\" >pipe_7</th>        <th class=\"col_heading level0 col9\" >pipe_8</th>        <th class=\"col_heading level0 col10\" >pipe_9</th>        <th class=\"col_heading level0 col11\" >pipe_10</th>        <th class=\"col_heading level0 col12\" >pipe_11</th>    </tr></thead><tbody>\n",
       "                <tr>\n",
       "                                <td id=\"T_c758dede_10da_11ea_b803_80000027fe80row0_col0\" class=\"data row0 col0\" >0</td>\n",
       "                        <td id=\"T_c758dede_10da_11ea_b803_80000027fe80row0_col1\" class=\"data row0 col1\" >StackedEnsemble_AllModels_AutoML_20191122_100313</td>\n",
       "                        <td id=\"T_c758dede_10da_11ea_b803_80000027fe80row0_col2\" class=\"data row0 col2\" >XGBoost_1_AutoML_20191122_100313</td>\n",
       "                        <td id=\"T_c758dede_10da_11ea_b803_80000027fe80row0_col3\" class=\"data row0 col3\" >XGBoost_2_AutoML_20191122_100313</td>\n",
       "                        <td id=\"T_c758dede_10da_11ea_b803_80000027fe80row0_col4\" class=\"data row0 col4\" >GBM_4_AutoML_20191122_100313</td>\n",
       "                        <td id=\"T_c758dede_10da_11ea_b803_80000027fe80row0_col5\" class=\"data row0 col5\" >XGBoost_3_AutoML_20191122_100313</td>\n",
       "                        <td id=\"T_c758dede_10da_11ea_b803_80000027fe80row0_col6\" class=\"data row0 col6\" >GBM_3_AutoML_20191122_100313</td>\n",
       "                        <td id=\"T_c758dede_10da_11ea_b803_80000027fe80row0_col7\" class=\"data row0 col7\" >GBM_2_AutoML_20191122_100313</td>\n",
       "                        <td id=\"T_c758dede_10da_11ea_b803_80000027fe80row0_col8\" class=\"data row0 col8\" >GBM_1_AutoML_20191122_100313</td>\n",
       "                        <td id=\"T_c758dede_10da_11ea_b803_80000027fe80row0_col9\" class=\"data row0 col9\" >GBM_5_AutoML_20191122_100313</td>\n",
       "                        <td id=\"T_c758dede_10da_11ea_b803_80000027fe80row0_col10\" class=\"data row0 col10\" >DRF_1_AutoML_20191122_100313</td>\n",
       "                        <td id=\"T_c758dede_10da_11ea_b803_80000027fe80row0_col11\" class=\"data row0 col11\" >GLM_grid_1_AutoML_20191122_100313_model_1</td>\n",
       "                        <td id=\"T_c758dede_10da_11ea_b803_80000027fe80row0_col12\" class=\"data row0 col12\" >DeepLearning_1_AutoML_20191122_100313</td>\n",
       "            </tr>\n",
       "            <tr>\n",
       "                                <td id=\"T_c758dede_10da_11ea_b803_80000027fe80row1_col0\" class=\"data row1 col0\" >36</td>\n",
       "                        <td id=\"T_c758dede_10da_11ea_b803_80000027fe80row1_col1\" class=\"data row1 col1\" >XGBoost_1_AutoML_20191123_081138</td>\n",
       "                        <td id=\"T_c758dede_10da_11ea_b803_80000027fe80row1_col2\" class=\"data row1 col2\" >nan</td>\n",
       "                        <td id=\"T_c758dede_10da_11ea_b803_80000027fe80row1_col3\" class=\"data row1 col3\" >nan</td>\n",
       "                        <td id=\"T_c758dede_10da_11ea_b803_80000027fe80row1_col4\" class=\"data row1 col4\" >nan</td>\n",
       "                        <td id=\"T_c758dede_10da_11ea_b803_80000027fe80row1_col5\" class=\"data row1 col5\" >nan</td>\n",
       "                        <td id=\"T_c758dede_10da_11ea_b803_80000027fe80row1_col6\" class=\"data row1 col6\" >nan</td>\n",
       "                        <td id=\"T_c758dede_10da_11ea_b803_80000027fe80row1_col7\" class=\"data row1 col7\" >nan</td>\n",
       "                        <td id=\"T_c758dede_10da_11ea_b803_80000027fe80row1_col8\" class=\"data row1 col8\" >nan</td>\n",
       "                        <td id=\"T_c758dede_10da_11ea_b803_80000027fe80row1_col9\" class=\"data row1 col9\" >nan</td>\n",
       "                        <td id=\"T_c758dede_10da_11ea_b803_80000027fe80row1_col10\" class=\"data row1 col10\" >nan</td>\n",
       "                        <td id=\"T_c758dede_10da_11ea_b803_80000027fe80row1_col11\" class=\"data row1 col11\" >nan</td>\n",
       "                        <td id=\"T_c758dede_10da_11ea_b803_80000027fe80row1_col12\" class=\"data row1 col12\" >nan</td>\n",
       "            </tr>\n",
       "            <tr>\n",
       "                                <td id=\"T_c758dede_10da_11ea_b803_80000027fe80row2_col0\" class=\"data row2 col0\" >72</td>\n",
       "                        <td id=\"T_c758dede_10da_11ea_b803_80000027fe80row2_col1\" class=\"data row2 col1\" >StackedEnsemble_BestOfFamily_AutoML_20191124_051324</td>\n",
       "                        <td id=\"T_c758dede_10da_11ea_b803_80000027fe80row2_col2\" class=\"data row2 col2\" >XGBoost_1_AutoML_20191124_051324</td>\n",
       "                        <td id=\"T_c758dede_10da_11ea_b803_80000027fe80row2_col3\" class=\"data row2 col3\" >GBM_1_AutoML_20191124_051324</td>\n",
       "                        <td id=\"T_c758dede_10da_11ea_b803_80000027fe80row2_col4\" class=\"data row2 col4\" >DRF_1_AutoML_20191124_051324</td>\n",
       "                        <td id=\"T_c758dede_10da_11ea_b803_80000027fe80row2_col5\" class=\"data row2 col5\" >GLM_grid_1_AutoML_20191124_051324_model_1</td>\n",
       "                        <td id=\"T_c758dede_10da_11ea_b803_80000027fe80row2_col6\" class=\"data row2 col6\" >nan</td>\n",
       "                        <td id=\"T_c758dede_10da_11ea_b803_80000027fe80row2_col7\" class=\"data row2 col7\" >nan</td>\n",
       "                        <td id=\"T_c758dede_10da_11ea_b803_80000027fe80row2_col8\" class=\"data row2 col8\" >nan</td>\n",
       "                        <td id=\"T_c758dede_10da_11ea_b803_80000027fe80row2_col9\" class=\"data row2 col9\" >nan</td>\n",
       "                        <td id=\"T_c758dede_10da_11ea_b803_80000027fe80row2_col10\" class=\"data row2 col10\" >nan</td>\n",
       "                        <td id=\"T_c758dede_10da_11ea_b803_80000027fe80row2_col11\" class=\"data row2 col11\" >nan</td>\n",
       "                        <td id=\"T_c758dede_10da_11ea_b803_80000027fe80row2_col12\" class=\"data row2 col12\" >nan</td>\n",
       "            </tr>\n",
       "            <tr>\n",
       "                                <td id=\"T_c758dede_10da_11ea_b803_80000027fe80row3_col0\" class=\"data row3 col0\" >108</td>\n",
       "                        <td id=\"T_c758dede_10da_11ea_b803_80000027fe80row3_col1\" class=\"data row3 col1\" >XGBoost_1_AutoML_20191125_021611</td>\n",
       "                        <td id=\"T_c758dede_10da_11ea_b803_80000027fe80row3_col2\" class=\"data row3 col2\" >nan</td>\n",
       "                        <td id=\"T_c758dede_10da_11ea_b803_80000027fe80row3_col3\" class=\"data row3 col3\" >nan</td>\n",
       "                        <td id=\"T_c758dede_10da_11ea_b803_80000027fe80row3_col4\" class=\"data row3 col4\" >nan</td>\n",
       "                        <td id=\"T_c758dede_10da_11ea_b803_80000027fe80row3_col5\" class=\"data row3 col5\" >nan</td>\n",
       "                        <td id=\"T_c758dede_10da_11ea_b803_80000027fe80row3_col6\" class=\"data row3 col6\" >nan</td>\n",
       "                        <td id=\"T_c758dede_10da_11ea_b803_80000027fe80row3_col7\" class=\"data row3 col7\" >nan</td>\n",
       "                        <td id=\"T_c758dede_10da_11ea_b803_80000027fe80row3_col8\" class=\"data row3 col8\" >nan</td>\n",
       "                        <td id=\"T_c758dede_10da_11ea_b803_80000027fe80row3_col9\" class=\"data row3 col9\" >nan</td>\n",
       "                        <td id=\"T_c758dede_10da_11ea_b803_80000027fe80row3_col10\" class=\"data row3 col10\" >nan</td>\n",
       "                        <td id=\"T_c758dede_10da_11ea_b803_80000027fe80row3_col11\" class=\"data row3 col11\" >nan</td>\n",
       "                        <td id=\"T_c758dede_10da_11ea_b803_80000027fe80row3_col12\" class=\"data row3 col12\" >nan</td>\n",
       "            </tr>\n",
       "            <tr>\n",
       "                                <td id=\"T_c758dede_10da_11ea_b803_80000027fe80row4_col0\" class=\"data row4 col0\" >144</td>\n",
       "                        <td id=\"T_c758dede_10da_11ea_b803_80000027fe80row4_col1\" class=\"data row4 col1\" >StackedEnsemble_AllModels_AutoML_20191125_230318</td>\n",
       "                        <td id=\"T_c758dede_10da_11ea_b803_80000027fe80row4_col2\" class=\"data row4 col2\" >XGBoost_1_AutoML_20191125_230318</td>\n",
       "                        <td id=\"T_c758dede_10da_11ea_b803_80000027fe80row4_col3\" class=\"data row4 col3\" >XGBoost_2_AutoML_20191125_230318</td>\n",
       "                        <td id=\"T_c758dede_10da_11ea_b803_80000027fe80row4_col4\" class=\"data row4 col4\" >GBM_1_AutoML_20191125_230318</td>\n",
       "                        <td id=\"T_c758dede_10da_11ea_b803_80000027fe80row4_col5\" class=\"data row4 col5\" >XGBoost_3_AutoML_20191125_230318</td>\n",
       "                        <td id=\"T_c758dede_10da_11ea_b803_80000027fe80row4_col6\" class=\"data row4 col6\" >DRF_1_AutoML_20191125_230318</td>\n",
       "                        <td id=\"T_c758dede_10da_11ea_b803_80000027fe80row4_col7\" class=\"data row4 col7\" >GBM_2_AutoML_20191125_230318</td>\n",
       "                        <td id=\"T_c758dede_10da_11ea_b803_80000027fe80row4_col8\" class=\"data row4 col8\" >GBM_3_AutoML_20191125_230318</td>\n",
       "                        <td id=\"T_c758dede_10da_11ea_b803_80000027fe80row4_col9\" class=\"data row4 col9\" >GLM_grid_1_AutoML_20191125_230318_model_1</td>\n",
       "                        <td id=\"T_c758dede_10da_11ea_b803_80000027fe80row4_col10\" class=\"data row4 col10\" >nan</td>\n",
       "                        <td id=\"T_c758dede_10da_11ea_b803_80000027fe80row4_col11\" class=\"data row4 col11\" >nan</td>\n",
       "                        <td id=\"T_c758dede_10da_11ea_b803_80000027fe80row4_col12\" class=\"data row4 col12\" >nan</td>\n",
       "            </tr>\n",
       "            <tr>\n",
       "                                <td id=\"T_c758dede_10da_11ea_b803_80000027fe80row5_col0\" class=\"data row5 col0\" >180</td>\n",
       "                        <td id=\"T_c758dede_10da_11ea_b803_80000027fe80row5_col1\" class=\"data row5 col1\" >StackedEnsemble_AllModels_AutoML_20191126_195024</td>\n",
       "                        <td id=\"T_c758dede_10da_11ea_b803_80000027fe80row5_col2\" class=\"data row5 col2\" >XGBoost_1_AutoML_20191126_195024</td>\n",
       "                        <td id=\"T_c758dede_10da_11ea_b803_80000027fe80row5_col3\" class=\"data row5 col3\" >XGBoost_2_AutoML_20191126_195024</td>\n",
       "                        <td id=\"T_c758dede_10da_11ea_b803_80000027fe80row5_col4\" class=\"data row5 col4\" >XGBoost_3_AutoML_20191126_195024</td>\n",
       "                        <td id=\"T_c758dede_10da_11ea_b803_80000027fe80row5_col5\" class=\"data row5 col5\" >GBM_1_AutoML_20191126_195024</td>\n",
       "                        <td id=\"T_c758dede_10da_11ea_b803_80000027fe80row5_col6\" class=\"data row5 col6\" >DRF_1_AutoML_20191126_195024</td>\n",
       "                        <td id=\"T_c758dede_10da_11ea_b803_80000027fe80row5_col7\" class=\"data row5 col7\" >GBM_2_AutoML_20191126_195024</td>\n",
       "                        <td id=\"T_c758dede_10da_11ea_b803_80000027fe80row5_col8\" class=\"data row5 col8\" >GLM_grid_1_AutoML_20191126_195024_model_1</td>\n",
       "                        <td id=\"T_c758dede_10da_11ea_b803_80000027fe80row5_col9\" class=\"data row5 col9\" >nan</td>\n",
       "                        <td id=\"T_c758dede_10da_11ea_b803_80000027fe80row5_col10\" class=\"data row5 col10\" >nan</td>\n",
       "                        <td id=\"T_c758dede_10da_11ea_b803_80000027fe80row5_col11\" class=\"data row5 col11\" >nan</td>\n",
       "                        <td id=\"T_c758dede_10da_11ea_b803_80000027fe80row5_col12\" class=\"data row5 col12\" >nan</td>\n",
       "            </tr>\n",
       "    </tbody></table>"
      ],
      "text/plain": [
       "<pandas.io.formats.style.Styler at 0x2b3ab7de2a90>"
      ]
     },
     "metadata": {},
     "output_type": "display_data"
    },
    {
     "data": {
      "text/plain": [
       "'H2OAutoMLClean #1'"
      ]
     },
     "metadata": {},
     "output_type": "display_data"
    },
    {
     "data": {
      "text/html": [
       "<style  type=\"text/css\" >\n",
       "</style><table id=\"T_c75adae0_10da_11ea_b803_80000027fe80\" ><thead>    <tr>        <th class=\"col_heading level0 col0\" >max_angle</th>        <th class=\"col_heading level0 col1\" >test_acc</th>        <th class=\"col_heading level0 col2\" >train_acc</th>        <th class=\"col_heading level0 col3\" >time_err</th>        <th class=\"col_heading level0 col4\" >time_pre</th>        <th class=\"col_heading level0 col5\" >time_mod</th>    </tr></thead><tbody>\n",
       "                <tr>\n",
       "                                <td id=\"T_c75adae0_10da_11ea_b803_80000027fe80row0_col0\" class=\"data row0 col0\" >0</td>\n",
       "                        <td id=\"T_c75adae0_10da_11ea_b803_80000027fe80row0_col1\" class=\"data row0 col1\" >0.901</td>\n",
       "                        <td id=\"T_c75adae0_10da_11ea_b803_80000027fe80row0_col2\" class=\"data row0 col2\" >1</td>\n",
       "                        <td id=\"T_c75adae0_10da_11ea_b803_80000027fe80row0_col3\" class=\"data row0 col3\" >6.061</td>\n",
       "                        <td id=\"T_c75adae0_10da_11ea_b803_80000027fe80row0_col4\" class=\"data row0 col4\" >0.653</td>\n",
       "                        <td id=\"T_c75adae0_10da_11ea_b803_80000027fe80row0_col5\" class=\"data row0 col5\" >10930.3</td>\n",
       "            </tr>\n",
       "            <tr>\n",
       "                                <td id=\"T_c75adae0_10da_11ea_b803_80000027fe80row1_col0\" class=\"data row1 col0\" >36</td>\n",
       "                        <td id=\"T_c75adae0_10da_11ea_b803_80000027fe80row1_col1\" class=\"data row1 col1\" >0.566</td>\n",
       "                        <td id=\"T_c75adae0_10da_11ea_b803_80000027fe80row1_col2\" class=\"data row1 col2\" >1</td>\n",
       "                        <td id=\"T_c75adae0_10da_11ea_b803_80000027fe80row1_col3\" class=\"data row1 col3\" >8.433</td>\n",
       "                        <td id=\"T_c75adae0_10da_11ea_b803_80000027fe80row1_col4\" class=\"data row1 col4\" >0.703</td>\n",
       "                        <td id=\"T_c75adae0_10da_11ea_b803_80000027fe80row1_col5\" class=\"data row1 col5\" >10960.8</td>\n",
       "            </tr>\n",
       "            <tr>\n",
       "                                <td id=\"T_c75adae0_10da_11ea_b803_80000027fe80row2_col0\" class=\"data row2 col0\" >72</td>\n",
       "                        <td id=\"T_c75adae0_10da_11ea_b803_80000027fe80row2_col1\" class=\"data row2 col1\" >0.358</td>\n",
       "                        <td id=\"T_c75adae0_10da_11ea_b803_80000027fe80row2_col2\" class=\"data row2 col2\" >1</td>\n",
       "                        <td id=\"T_c75adae0_10da_11ea_b803_80000027fe80row2_col3\" class=\"data row2 col3\" >8.152</td>\n",
       "                        <td id=\"T_c75adae0_10da_11ea_b803_80000027fe80row2_col4\" class=\"data row2 col4\" >0.615</td>\n",
       "                        <td id=\"T_c75adae0_10da_11ea_b803_80000027fe80row2_col5\" class=\"data row2 col5\" >10956.9</td>\n",
       "            </tr>\n",
       "            <tr>\n",
       "                                <td id=\"T_c75adae0_10da_11ea_b803_80000027fe80row3_col0\" class=\"data row3 col0\" >108</td>\n",
       "                        <td id=\"T_c75adae0_10da_11ea_b803_80000027fe80row3_col1\" class=\"data row3 col1\" >0.263</td>\n",
       "                        <td id=\"T_c75adae0_10da_11ea_b803_80000027fe80row3_col2\" class=\"data row3 col2\" >1</td>\n",
       "                        <td id=\"T_c75adae0_10da_11ea_b803_80000027fe80row3_col3\" class=\"data row3 col3\" >8.156</td>\n",
       "                        <td id=\"T_c75adae0_10da_11ea_b803_80000027fe80row3_col4\" class=\"data row3 col4\" >0.621</td>\n",
       "                        <td id=\"T_c75adae0_10da_11ea_b803_80000027fe80row3_col5\" class=\"data row3 col5\" >10967.1</td>\n",
       "            </tr>\n",
       "            <tr>\n",
       "                                <td id=\"T_c75adae0_10da_11ea_b803_80000027fe80row4_col0\" class=\"data row4 col0\" >144</td>\n",
       "                        <td id=\"T_c75adae0_10da_11ea_b803_80000027fe80row4_col1\" class=\"data row4 col1\" >0.234</td>\n",
       "                        <td id=\"T_c75adae0_10da_11ea_b803_80000027fe80row4_col2\" class=\"data row4 col2\" >1</td>\n",
       "                        <td id=\"T_c75adae0_10da_11ea_b803_80000027fe80row4_col3\" class=\"data row4 col3\" >8.563</td>\n",
       "                        <td id=\"T_c75adae0_10da_11ea_b803_80000027fe80row4_col4\" class=\"data row4 col4\" >0.691</td>\n",
       "                        <td id=\"T_c75adae0_10da_11ea_b803_80000027fe80row4_col5\" class=\"data row4 col5\" >10943.5</td>\n",
       "            </tr>\n",
       "            <tr>\n",
       "                                <td id=\"T_c75adae0_10da_11ea_b803_80000027fe80row5_col0\" class=\"data row5 col0\" >180</td>\n",
       "                        <td id=\"T_c75adae0_10da_11ea_b803_80000027fe80row5_col1\" class=\"data row5 col1\" >0.238</td>\n",
       "                        <td id=\"T_c75adae0_10da_11ea_b803_80000027fe80row5_col2\" class=\"data row5 col2\" >1</td>\n",
       "                        <td id=\"T_c75adae0_10da_11ea_b803_80000027fe80row5_col3\" class=\"data row5 col3\" >8.278</td>\n",
       "                        <td id=\"T_c75adae0_10da_11ea_b803_80000027fe80row5_col4\" class=\"data row5 col4\" >0.616</td>\n",
       "                        <td id=\"T_c75adae0_10da_11ea_b803_80000027fe80row5_col5\" class=\"data row5 col5\" >10968.3</td>\n",
       "            </tr>\n",
       "    </tbody></table>"
      ],
      "text/plain": [
       "<pandas.io.formats.style.Styler at 0x2b3ab792d438>"
      ]
     },
     "metadata": {},
     "output_type": "display_data"
    },
    {
     "data": {
      "text/html": [
       "<style  type=\"text/css\" >\n",
       "</style><table id=\"T_c75c9812_10da_11ea_b803_80000027fe80\" ><thead>    <tr>        <th class=\"col_heading level0 col0\" >max_angle</th>        <th class=\"col_heading level0 col1\" >pipe_0</th>    </tr></thead><tbody>\n",
       "                <tr>\n",
       "                                <td id=\"T_c75c9812_10da_11ea_b803_80000027fe80row0_col0\" class=\"data row0 col0\" >0</td>\n",
       "                        <td id=\"T_c75c9812_10da_11ea_b803_80000027fe80row0_col1\" class=\"data row0 col1\" >XGBoost_1_AutoML_20191122_130635</td>\n",
       "            </tr>\n",
       "            <tr>\n",
       "                                <td id=\"T_c75c9812_10da_11ea_b803_80000027fe80row1_col0\" class=\"data row1 col0\" >36</td>\n",
       "                        <td id=\"T_c75c9812_10da_11ea_b803_80000027fe80row1_col1\" class=\"data row1 col1\" >XGBoost_1_AutoML_20191123_111338</td>\n",
       "            </tr>\n",
       "            <tr>\n",
       "                                <td id=\"T_c75c9812_10da_11ea_b803_80000027fe80row2_col0\" class=\"data row2 col0\" >72</td>\n",
       "                        <td id=\"T_c75c9812_10da_11ea_b803_80000027fe80row2_col1\" class=\"data row2 col1\" >XGBoost_1_AutoML_20191124_081535</td>\n",
       "            </tr>\n",
       "            <tr>\n",
       "                                <td id=\"T_c75c9812_10da_11ea_b803_80000027fe80row3_col0\" class=\"data row3 col0\" >108</td>\n",
       "                        <td id=\"T_c75c9812_10da_11ea_b803_80000027fe80row3_col1\" class=\"data row3 col1\" >XGBoost_1_AutoML_20191125_051821</td>\n",
       "            </tr>\n",
       "            <tr>\n",
       "                                <td id=\"T_c75c9812_10da_11ea_b803_80000027fe80row4_col0\" class=\"data row4 col0\" >144</td>\n",
       "                        <td id=\"T_c75c9812_10da_11ea_b803_80000027fe80row4_col1\" class=\"data row4 col1\" >XGBoost_1_AutoML_20191126_020636</td>\n",
       "            </tr>\n",
       "            <tr>\n",
       "                                <td id=\"T_c75c9812_10da_11ea_b803_80000027fe80row5_col0\" class=\"data row5 col0\" >180</td>\n",
       "                        <td id=\"T_c75c9812_10da_11ea_b803_80000027fe80row5_col1\" class=\"data row5 col1\" >XGBoost_1_AutoML_20191126_225300</td>\n",
       "            </tr>\n",
       "    </tbody></table>"
      ],
      "text/plain": [
       "<pandas.io.formats.style.Styler at 0x2b3ab7dba470>"
      ]
     },
     "metadata": {},
     "output_type": "display_data"
    },
    {
     "data": {
      "text/plain": [
       "'TPOTClassifier #1'"
      ]
     },
     "metadata": {},
     "output_type": "display_data"
    },
    {
     "data": {
      "text/html": [
       "<style  type=\"text/css\" >\n",
       "</style><table id=\"T_c75da5cc_10da_11ea_b803_80000027fe80\" ><thead>    <tr>        <th class=\"col_heading level0 col0\" >max_angle</th>        <th class=\"col_heading level0 col1\" >test_acc</th>        <th class=\"col_heading level0 col2\" >train_acc</th>        <th class=\"col_heading level0 col3\" >time_err</th>        <th class=\"col_heading level0 col4\" >time_pre</th>        <th class=\"col_heading level0 col5\" >time_mod</th>    </tr></thead><tbody>\n",
       "                <tr>\n",
       "                                <td id=\"T_c75da5cc_10da_11ea_b803_80000027fe80row0_col0\" class=\"data row0 col0\" >0</td>\n",
       "                        <td id=\"T_c75da5cc_10da_11ea_b803_80000027fe80row0_col1\" class=\"data row0 col1\" >0.882</td>\n",
       "                        <td id=\"T_c75da5cc_10da_11ea_b803_80000027fe80row0_col2\" class=\"data row0 col2\" >1</td>\n",
       "                        <td id=\"T_c75da5cc_10da_11ea_b803_80000027fe80row0_col3\" class=\"data row0 col3\" >6.061</td>\n",
       "                        <td id=\"T_c75da5cc_10da_11ea_b803_80000027fe80row0_col4\" class=\"data row0 col4\" >0.653</td>\n",
       "                        <td id=\"T_c75da5cc_10da_11ea_b803_80000027fe80row0_col5\" class=\"data row0 col5\" >18389.4</td>\n",
       "            </tr>\n",
       "            <tr>\n",
       "                                <td id=\"T_c75da5cc_10da_11ea_b803_80000027fe80row1_col0\" class=\"data row1 col0\" >36</td>\n",
       "                        <td id=\"T_c75da5cc_10da_11ea_b803_80000027fe80row1_col1\" class=\"data row1 col1\" >0.834</td>\n",
       "                        <td id=\"T_c75da5cc_10da_11ea_b803_80000027fe80row1_col2\" class=\"data row1 col2\" >1</td>\n",
       "                        <td id=\"T_c75da5cc_10da_11ea_b803_80000027fe80row1_col3\" class=\"data row1 col3\" >8.433</td>\n",
       "                        <td id=\"T_c75da5cc_10da_11ea_b803_80000027fe80row1_col4\" class=\"data row1 col4\" >0.703</td>\n",
       "                        <td id=\"T_c75da5cc_10da_11ea_b803_80000027fe80row1_col5\" class=\"data row1 col5\" >18133.9</td>\n",
       "            </tr>\n",
       "            <tr>\n",
       "                                <td id=\"T_c75da5cc_10da_11ea_b803_80000027fe80row2_col0\" class=\"data row2 col0\" >72</td>\n",
       "                        <td id=\"T_c75da5cc_10da_11ea_b803_80000027fe80row2_col1\" class=\"data row2 col1\" >0.794</td>\n",
       "                        <td id=\"T_c75da5cc_10da_11ea_b803_80000027fe80row2_col2\" class=\"data row2 col2\" >0.978</td>\n",
       "                        <td id=\"T_c75da5cc_10da_11ea_b803_80000027fe80row2_col3\" class=\"data row2 col3\" >8.152</td>\n",
       "                        <td id=\"T_c75da5cc_10da_11ea_b803_80000027fe80row2_col4\" class=\"data row2 col4\" >0.615</td>\n",
       "                        <td id=\"T_c75da5cc_10da_11ea_b803_80000027fe80row2_col5\" class=\"data row2 col5\" >13631.1</td>\n",
       "            </tr>\n",
       "            <tr>\n",
       "                                <td id=\"T_c75da5cc_10da_11ea_b803_80000027fe80row3_col0\" class=\"data row3 col0\" >108</td>\n",
       "                        <td id=\"T_c75da5cc_10da_11ea_b803_80000027fe80row3_col1\" class=\"data row3 col1\" >0.77</td>\n",
       "                        <td id=\"T_c75da5cc_10da_11ea_b803_80000027fe80row3_col2\" class=\"data row3 col2\" >0.979</td>\n",
       "                        <td id=\"T_c75da5cc_10da_11ea_b803_80000027fe80row3_col3\" class=\"data row3 col3\" >8.156</td>\n",
       "                        <td id=\"T_c75da5cc_10da_11ea_b803_80000027fe80row3_col4\" class=\"data row3 col4\" >0.621</td>\n",
       "                        <td id=\"T_c75da5cc_10da_11ea_b803_80000027fe80row3_col5\" class=\"data row3 col5\" >14189.8</td>\n",
       "            </tr>\n",
       "            <tr>\n",
       "                                <td id=\"T_c75da5cc_10da_11ea_b803_80000027fe80row4_col0\" class=\"data row4 col0\" >144</td>\n",
       "                        <td id=\"T_c75da5cc_10da_11ea_b803_80000027fe80row4_col1\" class=\"data row4 col1\" >0.753</td>\n",
       "                        <td id=\"T_c75da5cc_10da_11ea_b803_80000027fe80row4_col2\" class=\"data row4 col2\" >0.978</td>\n",
       "                        <td id=\"T_c75da5cc_10da_11ea_b803_80000027fe80row4_col3\" class=\"data row4 col3\" >8.563</td>\n",
       "                        <td id=\"T_c75da5cc_10da_11ea_b803_80000027fe80row4_col4\" class=\"data row4 col4\" >0.691</td>\n",
       "                        <td id=\"T_c75da5cc_10da_11ea_b803_80000027fe80row4_col5\" class=\"data row4 col5\" >13334.6</td>\n",
       "            </tr>\n",
       "            <tr>\n",
       "                                <td id=\"T_c75da5cc_10da_11ea_b803_80000027fe80row5_col0\" class=\"data row5 col0\" >180</td>\n",
       "                        <td id=\"T_c75da5cc_10da_11ea_b803_80000027fe80row5_col1\" class=\"data row5 col1\" >0.74</td>\n",
       "                        <td id=\"T_c75da5cc_10da_11ea_b803_80000027fe80row5_col2\" class=\"data row5 col2\" >0.978</td>\n",
       "                        <td id=\"T_c75da5cc_10da_11ea_b803_80000027fe80row5_col3\" class=\"data row5 col3\" >8.278</td>\n",
       "                        <td id=\"T_c75da5cc_10da_11ea_b803_80000027fe80row5_col4\" class=\"data row5 col4\" >0.616</td>\n",
       "                        <td id=\"T_c75da5cc_10da_11ea_b803_80000027fe80row5_col5\" class=\"data row5 col5\" >13316.2</td>\n",
       "            </tr>\n",
       "    </tbody></table>"
      ],
      "text/plain": [
       "<pandas.io.formats.style.Styler at 0x2b3ab7dba908>"
      ]
     },
     "metadata": {},
     "output_type": "display_data"
    },
    {
     "data": {
      "text/html": [
       "<style  type=\"text/css\" >\n",
       "</style><table id=\"T_c75f50ca_10da_11ea_b803_80000027fe80\" ><thead>    <tr>        <th class=\"col_heading level0 col0\" >max_angle</th>        <th class=\"col_heading level0 col1\" >pipe_0</th>        <th class=\"col_heading level0 col2\" >pipe_1</th>    </tr></thead><tbody>\n",
       "                <tr>\n",
       "                                <td id=\"T_c75f50ca_10da_11ea_b803_80000027fe80row0_col0\" class=\"data row0 col0\" >0</td>\n",
       "                        <td id=\"T_c75f50ca_10da_11ea_b803_80000027fe80row0_col1\" class=\"data row0 col1\" >RFE(estimator=ExtraTreesClassifier(bootstrap=False, class_weight=None,\n",
       "                                   criterion='gini', max_depth=None,\n",
       "                                   max_features=0.45, max_leaf_nodes=None,\n",
       "                                   min_impurity_decrease=0.0,\n",
       "                                   min_impurity_split=None, min_samples_leaf=1,\n",
       "                                   min_samples_split=2,\n",
       "                                   min_weight_fraction_leaf=0.0,\n",
       "                                   n_estimators=100, n_jobs=None,\n",
       "                                   oob_score=False, random_state=42, verbose=0,\n",
       "                                   warm_start=False),\n",
       "    n_features_to_select=None, step=0.8, verbose=0)</td>\n",
       "                        <td id=\"T_c75f50ca_10da_11ea_b803_80000027fe80row0_col2\" class=\"data row0 col2\" >GradientBoostingClassifier(criterion='friedman_mse', init=None,\n",
       "                           learning_rate=0.1, loss='deviance', max_depth=10,\n",
       "                           max_features=0.05, max_leaf_nodes=None,\n",
       "                           min_impurity_decrease=0.0, min_impurity_split=None,\n",
       "                           min_samples_leaf=11, min_samples_split=9,\n",
       "                           min_weight_fraction_leaf=0.0, n_estimators=100,\n",
       "                           n_iter_no_change=None, presort='auto',\n",
       "                           random_state=42, subsample=0.35000000000000003,\n",
       "                           tol=0.0001, validation_fraction=0.1, verbose=0,\n",
       "                           warm_start=False)</td>\n",
       "            </tr>\n",
       "            <tr>\n",
       "                                <td id=\"T_c75f50ca_10da_11ea_b803_80000027fe80row1_col0\" class=\"data row1 col0\" >36</td>\n",
       "                        <td id=\"T_c75f50ca_10da_11ea_b803_80000027fe80row1_col1\" class=\"data row1 col1\" >RandomForestClassifier(bootstrap=False, class_weight=None, criterion='entropy',\n",
       "                       max_depth=None, max_features=0.55, max_leaf_nodes=None,\n",
       "                       min_impurity_decrease=0.0, min_impurity_split=None,\n",
       "                       min_samples_leaf=1, min_samples_split=6,\n",
       "                       min_weight_fraction_leaf=0.0, n_estimators=100,\n",
       "                       n_jobs=None, oob_score=False, random_state=42, verbose=0,\n",
       "                       warm_start=False)</td>\n",
       "                        <td id=\"T_c75f50ca_10da_11ea_b803_80000027fe80row1_col2\" class=\"data row1 col2\" >nan</td>\n",
       "            </tr>\n",
       "            <tr>\n",
       "                                <td id=\"T_c75f50ca_10da_11ea_b803_80000027fe80row2_col0\" class=\"data row2 col0\" >72</td>\n",
       "                        <td id=\"T_c75f50ca_10da_11ea_b803_80000027fe80row2_col1\" class=\"data row2 col1\" >RandomForestClassifier(bootstrap=True, class_weight=None, criterion='gini',\n",
       "                       max_depth=None, max_features=0.1, max_leaf_nodes=None,\n",
       "                       min_impurity_decrease=0.0, min_impurity_split=None,\n",
       "                       min_samples_leaf=2, min_samples_split=14,\n",
       "                       min_weight_fraction_leaf=0.0, n_estimators=100,\n",
       "                       n_jobs=None, oob_score=False, random_state=42, verbose=0,\n",
       "                       warm_start=False)</td>\n",
       "                        <td id=\"T_c75f50ca_10da_11ea_b803_80000027fe80row2_col2\" class=\"data row2 col2\" >nan</td>\n",
       "            </tr>\n",
       "            <tr>\n",
       "                                <td id=\"T_c75f50ca_10da_11ea_b803_80000027fe80row3_col0\" class=\"data row3 col0\" >108</td>\n",
       "                        <td id=\"T_c75f50ca_10da_11ea_b803_80000027fe80row3_col1\" class=\"data row3 col1\" >RandomForestClassifier(bootstrap=True, class_weight=None, criterion='gini',\n",
       "                       max_depth=None, max_features=0.1, max_leaf_nodes=None,\n",
       "                       min_impurity_decrease=0.0, min_impurity_split=None,\n",
       "                       min_samples_leaf=2, min_samples_split=14,\n",
       "                       min_weight_fraction_leaf=0.0, n_estimators=100,\n",
       "                       n_jobs=None, oob_score=False, random_state=42, verbose=0,\n",
       "                       warm_start=False)</td>\n",
       "                        <td id=\"T_c75f50ca_10da_11ea_b803_80000027fe80row3_col2\" class=\"data row3 col2\" >nan</td>\n",
       "            </tr>\n",
       "            <tr>\n",
       "                                <td id=\"T_c75f50ca_10da_11ea_b803_80000027fe80row4_col0\" class=\"data row4 col0\" >144</td>\n",
       "                        <td id=\"T_c75f50ca_10da_11ea_b803_80000027fe80row4_col1\" class=\"data row4 col1\" >RandomForestClassifier(bootstrap=True, class_weight=None, criterion='gini',\n",
       "                       max_depth=None, max_features=0.1, max_leaf_nodes=None,\n",
       "                       min_impurity_decrease=0.0, min_impurity_split=None,\n",
       "                       min_samples_leaf=2, min_samples_split=14,\n",
       "                       min_weight_fraction_leaf=0.0, n_estimators=100,\n",
       "                       n_jobs=None, oob_score=False, random_state=42, verbose=0,\n",
       "                       warm_start=False)</td>\n",
       "                        <td id=\"T_c75f50ca_10da_11ea_b803_80000027fe80row4_col2\" class=\"data row4 col2\" >nan</td>\n",
       "            </tr>\n",
       "            <tr>\n",
       "                                <td id=\"T_c75f50ca_10da_11ea_b803_80000027fe80row5_col0\" class=\"data row5 col0\" >180</td>\n",
       "                        <td id=\"T_c75f50ca_10da_11ea_b803_80000027fe80row5_col1\" class=\"data row5 col1\" >RandomForestClassifier(bootstrap=True, class_weight=None, criterion='gini',\n",
       "                       max_depth=None, max_features=0.1, max_leaf_nodes=None,\n",
       "                       min_impurity_decrease=0.0, min_impurity_split=None,\n",
       "                       min_samples_leaf=2, min_samples_split=14,\n",
       "                       min_weight_fraction_leaf=0.0, n_estimators=100,\n",
       "                       n_jobs=None, oob_score=False, random_state=42, verbose=0,\n",
       "                       warm_start=False)</td>\n",
       "                        <td id=\"T_c75f50ca_10da_11ea_b803_80000027fe80row5_col2\" class=\"data row5 col2\" >nan</td>\n",
       "            </tr>\n",
       "    </tbody></table>"
      ],
      "text/plain": [
       "<pandas.io.formats.style.Styler at 0x2b3ab7dd5b38>"
      ]
     },
     "metadata": {},
     "output_type": "display_data"
    },
    {
     "data": {
      "text/plain": [
       "'TPOTClassifierClean #1'"
      ]
     },
     "metadata": {},
     "output_type": "display_data"
    },
    {
     "data": {
      "text/html": [
       "<style  type=\"text/css\" >\n",
       "</style><table id=\"T_c7629e7e_10da_11ea_b803_80000027fe80\" ><thead>    <tr>        <th class=\"col_heading level0 col0\" >max_angle</th>        <th class=\"col_heading level0 col1\" >test_acc</th>        <th class=\"col_heading level0 col2\" >train_acc</th>        <th class=\"col_heading level0 col3\" >time_err</th>        <th class=\"col_heading level0 col4\" >time_pre</th>        <th class=\"col_heading level0 col5\" >time_mod</th>    </tr></thead><tbody>\n",
       "                <tr>\n",
       "                                <td id=\"T_c7629e7e_10da_11ea_b803_80000027fe80row0_col0\" class=\"data row0 col0\" >0</td>\n",
       "                        <td id=\"T_c7629e7e_10da_11ea_b803_80000027fe80row0_col1\" class=\"data row0 col1\" >0.882</td>\n",
       "                        <td id=\"T_c7629e7e_10da_11ea_b803_80000027fe80row0_col2\" class=\"data row0 col2\" >1</td>\n",
       "                        <td id=\"T_c7629e7e_10da_11ea_b803_80000027fe80row0_col3\" class=\"data row0 col3\" >6.061</td>\n",
       "                        <td id=\"T_c7629e7e_10da_11ea_b803_80000027fe80row0_col4\" class=\"data row0 col4\" >0.653</td>\n",
       "                        <td id=\"T_c7629e7e_10da_11ea_b803_80000027fe80row0_col5\" class=\"data row0 col5\" >17058.8</td>\n",
       "            </tr>\n",
       "            <tr>\n",
       "                                <td id=\"T_c7629e7e_10da_11ea_b803_80000027fe80row1_col0\" class=\"data row1 col0\" >36</td>\n",
       "                        <td id=\"T_c7629e7e_10da_11ea_b803_80000027fe80row1_col1\" class=\"data row1 col1\" >0.56</td>\n",
       "                        <td id=\"T_c7629e7e_10da_11ea_b803_80000027fe80row1_col2\" class=\"data row1 col2\" >1</td>\n",
       "                        <td id=\"T_c7629e7e_10da_11ea_b803_80000027fe80row1_col3\" class=\"data row1 col3\" >8.433</td>\n",
       "                        <td id=\"T_c7629e7e_10da_11ea_b803_80000027fe80row1_col4\" class=\"data row1 col4\" >0.703</td>\n",
       "                        <td id=\"T_c7629e7e_10da_11ea_b803_80000027fe80row1_col5\" class=\"data row1 col5\" >17904</td>\n",
       "            </tr>\n",
       "            <tr>\n",
       "                                <td id=\"T_c7629e7e_10da_11ea_b803_80000027fe80row2_col0\" class=\"data row2 col0\" >72</td>\n",
       "                        <td id=\"T_c7629e7e_10da_11ea_b803_80000027fe80row2_col1\" class=\"data row2 col1\" >0.353</td>\n",
       "                        <td id=\"T_c7629e7e_10da_11ea_b803_80000027fe80row2_col2\" class=\"data row2 col2\" >1</td>\n",
       "                        <td id=\"T_c7629e7e_10da_11ea_b803_80000027fe80row2_col3\" class=\"data row2 col3\" >8.152</td>\n",
       "                        <td id=\"T_c7629e7e_10da_11ea_b803_80000027fe80row2_col4\" class=\"data row2 col4\" >0.615</td>\n",
       "                        <td id=\"T_c7629e7e_10da_11ea_b803_80000027fe80row2_col5\" class=\"data row2 col5\" >17411.6</td>\n",
       "            </tr>\n",
       "            <tr>\n",
       "                                <td id=\"T_c7629e7e_10da_11ea_b803_80000027fe80row3_col0\" class=\"data row3 col0\" >108</td>\n",
       "                        <td id=\"T_c7629e7e_10da_11ea_b803_80000027fe80row3_col1\" class=\"data row3 col1\" >0.258</td>\n",
       "                        <td id=\"T_c7629e7e_10da_11ea_b803_80000027fe80row3_col2\" class=\"data row3 col2\" >1</td>\n",
       "                        <td id=\"T_c7629e7e_10da_11ea_b803_80000027fe80row3_col3\" class=\"data row3 col3\" >8.156</td>\n",
       "                        <td id=\"T_c7629e7e_10da_11ea_b803_80000027fe80row3_col4\" class=\"data row3 col4\" >0.621</td>\n",
       "                        <td id=\"T_c7629e7e_10da_11ea_b803_80000027fe80row3_col5\" class=\"data row3 col5\" >17965.2</td>\n",
       "            </tr>\n",
       "            <tr>\n",
       "                                <td id=\"T_c7629e7e_10da_11ea_b803_80000027fe80row4_col0\" class=\"data row4 col0\" >144</td>\n",
       "                        <td id=\"T_c7629e7e_10da_11ea_b803_80000027fe80row4_col1\" class=\"data row4 col1\" >0.228</td>\n",
       "                        <td id=\"T_c7629e7e_10da_11ea_b803_80000027fe80row4_col2\" class=\"data row4 col2\" >1</td>\n",
       "                        <td id=\"T_c7629e7e_10da_11ea_b803_80000027fe80row4_col3\" class=\"data row4 col3\" >8.563</td>\n",
       "                        <td id=\"T_c7629e7e_10da_11ea_b803_80000027fe80row4_col4\" class=\"data row4 col4\" >0.691</td>\n",
       "                        <td id=\"T_c7629e7e_10da_11ea_b803_80000027fe80row4_col5\" class=\"data row4 col5\" >17863.6</td>\n",
       "            </tr>\n",
       "            <tr>\n",
       "                                <td id=\"T_c7629e7e_10da_11ea_b803_80000027fe80row5_col0\" class=\"data row5 col0\" >180</td>\n",
       "                        <td id=\"T_c7629e7e_10da_11ea_b803_80000027fe80row5_col1\" class=\"data row5 col1\" >0.231</td>\n",
       "                        <td id=\"T_c7629e7e_10da_11ea_b803_80000027fe80row5_col2\" class=\"data row5 col2\" >1</td>\n",
       "                        <td id=\"T_c7629e7e_10da_11ea_b803_80000027fe80row5_col3\" class=\"data row5 col3\" >8.278</td>\n",
       "                        <td id=\"T_c7629e7e_10da_11ea_b803_80000027fe80row5_col4\" class=\"data row5 col4\" >0.616</td>\n",
       "                        <td id=\"T_c7629e7e_10da_11ea_b803_80000027fe80row5_col5\" class=\"data row5 col5\" >17840.1</td>\n",
       "            </tr>\n",
       "    </tbody></table>"
      ],
      "text/plain": [
       "<pandas.io.formats.style.Styler at 0x2b3ab7dba438>"
      ]
     },
     "metadata": {},
     "output_type": "display_data"
    },
    {
     "data": {
      "text/html": [
       "<style  type=\"text/css\" >\n",
       "</style><table id=\"T_c763eca2_10da_11ea_b803_80000027fe80\" ><thead>    <tr>        <th class=\"col_heading level0 col0\" >max_angle</th>        <th class=\"col_heading level0 col1\" >pipe_0</th>        <th class=\"col_heading level0 col2\" >pipe_1</th>    </tr></thead><tbody>\n",
       "                <tr>\n",
       "                                <td id=\"T_c763eca2_10da_11ea_b803_80000027fe80row0_col0\" class=\"data row0 col0\" >0</td>\n",
       "                        <td id=\"T_c763eca2_10da_11ea_b803_80000027fe80row0_col1\" class=\"data row0 col1\" >RFE(estimator=ExtraTreesClassifier(bootstrap=False, class_weight=None,\n",
       "                                   criterion='gini', max_depth=None,\n",
       "                                   max_features=0.45, max_leaf_nodes=None,\n",
       "                                   min_impurity_decrease=0.0,\n",
       "                                   min_impurity_split=None, min_samples_leaf=1,\n",
       "                                   min_samples_split=2,\n",
       "                                   min_weight_fraction_leaf=0.0,\n",
       "                                   n_estimators=100, n_jobs=None,\n",
       "                                   oob_score=False, random_state=42, verbose=0,\n",
       "                                   warm_start=False),\n",
       "    n_features_to_select=None, step=0.8, verbose=0)</td>\n",
       "                        <td id=\"T_c763eca2_10da_11ea_b803_80000027fe80row0_col2\" class=\"data row0 col2\" >GradientBoostingClassifier(criterion='friedman_mse', init=None,\n",
       "                           learning_rate=0.1, loss='deviance', max_depth=10,\n",
       "                           max_features=0.05, max_leaf_nodes=None,\n",
       "                           min_impurity_decrease=0.0, min_impurity_split=None,\n",
       "                           min_samples_leaf=11, min_samples_split=9,\n",
       "                           min_weight_fraction_leaf=0.0, n_estimators=100,\n",
       "                           n_iter_no_change=None, presort='auto',\n",
       "                           random_state=42, subsample=0.35000000000000003,\n",
       "                           tol=0.0001, validation_fraction=0.1, verbose=0,\n",
       "                           warm_start=False)</td>\n",
       "            </tr>\n",
       "            <tr>\n",
       "                                <td id=\"T_c763eca2_10da_11ea_b803_80000027fe80row1_col0\" class=\"data row1 col0\" >36</td>\n",
       "                        <td id=\"T_c763eca2_10da_11ea_b803_80000027fe80row1_col1\" class=\"data row1 col1\" >RFE(estimator=ExtraTreesClassifier(bootstrap=False, class_weight=None,\n",
       "                                   criterion='gini', max_depth=None,\n",
       "                                   max_features=0.45, max_leaf_nodes=None,\n",
       "                                   min_impurity_decrease=0.0,\n",
       "                                   min_impurity_split=None, min_samples_leaf=1,\n",
       "                                   min_samples_split=2,\n",
       "                                   min_weight_fraction_leaf=0.0,\n",
       "                                   n_estimators=100, n_jobs=None,\n",
       "                                   oob_score=False, random_state=42, verbose=0,\n",
       "                                   warm_start=False),\n",
       "    n_features_to_select=None, step=0.8, verbose=0)</td>\n",
       "                        <td id=\"T_c763eca2_10da_11ea_b803_80000027fe80row1_col2\" class=\"data row1 col2\" >GradientBoostingClassifier(criterion='friedman_mse', init=None,\n",
       "                           learning_rate=0.1, loss='deviance', max_depth=10,\n",
       "                           max_features=0.05, max_leaf_nodes=None,\n",
       "                           min_impurity_decrease=0.0, min_impurity_split=None,\n",
       "                           min_samples_leaf=11, min_samples_split=9,\n",
       "                           min_weight_fraction_leaf=0.0, n_estimators=100,\n",
       "                           n_iter_no_change=None, presort='auto',\n",
       "                           random_state=42, subsample=0.35000000000000003,\n",
       "                           tol=0.0001, validation_fraction=0.1, verbose=0,\n",
       "                           warm_start=False)</td>\n",
       "            </tr>\n",
       "            <tr>\n",
       "                                <td id=\"T_c763eca2_10da_11ea_b803_80000027fe80row2_col0\" class=\"data row2 col0\" >72</td>\n",
       "                        <td id=\"T_c763eca2_10da_11ea_b803_80000027fe80row2_col1\" class=\"data row2 col1\" >RFE(estimator=ExtraTreesClassifier(bootstrap=False, class_weight=None,\n",
       "                                   criterion='gini', max_depth=None,\n",
       "                                   max_features=0.45, max_leaf_nodes=None,\n",
       "                                   min_impurity_decrease=0.0,\n",
       "                                   min_impurity_split=None, min_samples_leaf=1,\n",
       "                                   min_samples_split=2,\n",
       "                                   min_weight_fraction_leaf=0.0,\n",
       "                                   n_estimators=100, n_jobs=None,\n",
       "                                   oob_score=False, random_state=42, verbose=0,\n",
       "                                   warm_start=False),\n",
       "    n_features_to_select=None, step=0.8, verbose=0)</td>\n",
       "                        <td id=\"T_c763eca2_10da_11ea_b803_80000027fe80row2_col2\" class=\"data row2 col2\" >GradientBoostingClassifier(criterion='friedman_mse', init=None,\n",
       "                           learning_rate=0.1, loss='deviance', max_depth=10,\n",
       "                           max_features=0.05, max_leaf_nodes=None,\n",
       "                           min_impurity_decrease=0.0, min_impurity_split=None,\n",
       "                           min_samples_leaf=11, min_samples_split=9,\n",
       "                           min_weight_fraction_leaf=0.0, n_estimators=100,\n",
       "                           n_iter_no_change=None, presort='auto',\n",
       "                           random_state=42, subsample=0.35000000000000003,\n",
       "                           tol=0.0001, validation_fraction=0.1, verbose=0,\n",
       "                           warm_start=False)</td>\n",
       "            </tr>\n",
       "            <tr>\n",
       "                                <td id=\"T_c763eca2_10da_11ea_b803_80000027fe80row3_col0\" class=\"data row3 col0\" >108</td>\n",
       "                        <td id=\"T_c763eca2_10da_11ea_b803_80000027fe80row3_col1\" class=\"data row3 col1\" >RFE(estimator=ExtraTreesClassifier(bootstrap=False, class_weight=None,\n",
       "                                   criterion='gini', max_depth=None,\n",
       "                                   max_features=0.45, max_leaf_nodes=None,\n",
       "                                   min_impurity_decrease=0.0,\n",
       "                                   min_impurity_split=None, min_samples_leaf=1,\n",
       "                                   min_samples_split=2,\n",
       "                                   min_weight_fraction_leaf=0.0,\n",
       "                                   n_estimators=100, n_jobs=None,\n",
       "                                   oob_score=False, random_state=42, verbose=0,\n",
       "                                   warm_start=False),\n",
       "    n_features_to_select=None, step=0.8, verbose=0)</td>\n",
       "                        <td id=\"T_c763eca2_10da_11ea_b803_80000027fe80row3_col2\" class=\"data row3 col2\" >GradientBoostingClassifier(criterion='friedman_mse', init=None,\n",
       "                           learning_rate=0.1, loss='deviance', max_depth=10,\n",
       "                           max_features=0.05, max_leaf_nodes=None,\n",
       "                           min_impurity_decrease=0.0, min_impurity_split=None,\n",
       "                           min_samples_leaf=11, min_samples_split=9,\n",
       "                           min_weight_fraction_leaf=0.0, n_estimators=100,\n",
       "                           n_iter_no_change=None, presort='auto',\n",
       "                           random_state=42, subsample=0.35000000000000003,\n",
       "                           tol=0.0001, validation_fraction=0.1, verbose=0,\n",
       "                           warm_start=False)</td>\n",
       "            </tr>\n",
       "            <tr>\n",
       "                                <td id=\"T_c763eca2_10da_11ea_b803_80000027fe80row4_col0\" class=\"data row4 col0\" >144</td>\n",
       "                        <td id=\"T_c763eca2_10da_11ea_b803_80000027fe80row4_col1\" class=\"data row4 col1\" >RFE(estimator=ExtraTreesClassifier(bootstrap=False, class_weight=None,\n",
       "                                   criterion='gini', max_depth=None,\n",
       "                                   max_features=0.45, max_leaf_nodes=None,\n",
       "                                   min_impurity_decrease=0.0,\n",
       "                                   min_impurity_split=None, min_samples_leaf=1,\n",
       "                                   min_samples_split=2,\n",
       "                                   min_weight_fraction_leaf=0.0,\n",
       "                                   n_estimators=100, n_jobs=None,\n",
       "                                   oob_score=False, random_state=42, verbose=0,\n",
       "                                   warm_start=False),\n",
       "    n_features_to_select=None, step=0.8, verbose=0)</td>\n",
       "                        <td id=\"T_c763eca2_10da_11ea_b803_80000027fe80row4_col2\" class=\"data row4 col2\" >GradientBoostingClassifier(criterion='friedman_mse', init=None,\n",
       "                           learning_rate=0.1, loss='deviance', max_depth=10,\n",
       "                           max_features=0.05, max_leaf_nodes=None,\n",
       "                           min_impurity_decrease=0.0, min_impurity_split=None,\n",
       "                           min_samples_leaf=11, min_samples_split=9,\n",
       "                           min_weight_fraction_leaf=0.0, n_estimators=100,\n",
       "                           n_iter_no_change=None, presort='auto',\n",
       "                           random_state=42, subsample=0.35000000000000003,\n",
       "                           tol=0.0001, validation_fraction=0.1, verbose=0,\n",
       "                           warm_start=False)</td>\n",
       "            </tr>\n",
       "            <tr>\n",
       "                                <td id=\"T_c763eca2_10da_11ea_b803_80000027fe80row5_col0\" class=\"data row5 col0\" >180</td>\n",
       "                        <td id=\"T_c763eca2_10da_11ea_b803_80000027fe80row5_col1\" class=\"data row5 col1\" >RFE(estimator=ExtraTreesClassifier(bootstrap=False, class_weight=None,\n",
       "                                   criterion='gini', max_depth=None,\n",
       "                                   max_features=0.45, max_leaf_nodes=None,\n",
       "                                   min_impurity_decrease=0.0,\n",
       "                                   min_impurity_split=None, min_samples_leaf=1,\n",
       "                                   min_samples_split=2,\n",
       "                                   min_weight_fraction_leaf=0.0,\n",
       "                                   n_estimators=100, n_jobs=None,\n",
       "                                   oob_score=False, random_state=42, verbose=0,\n",
       "                                   warm_start=False),\n",
       "    n_features_to_select=None, step=0.8, verbose=0)</td>\n",
       "                        <td id=\"T_c763eca2_10da_11ea_b803_80000027fe80row5_col2\" class=\"data row5 col2\" >GradientBoostingClassifier(criterion='friedman_mse', init=None,\n",
       "                           learning_rate=0.1, loss='deviance', max_depth=10,\n",
       "                           max_features=0.05, max_leaf_nodes=None,\n",
       "                           min_impurity_decrease=0.0, min_impurity_split=None,\n",
       "                           min_samples_leaf=11, min_samples_split=9,\n",
       "                           min_weight_fraction_leaf=0.0, n_estimators=100,\n",
       "                           n_iter_no_change=None, presort='auto',\n",
       "                           random_state=42, subsample=0.35000000000000003,\n",
       "                           tol=0.0001, validation_fraction=0.1, verbose=0,\n",
       "                           warm_start=False)</td>\n",
       "            </tr>\n",
       "    </tbody></table>"
      ],
      "text/plain": [
       "<pandas.io.formats.style.Styler at 0x2b3c3d04bf28>"
      ]
     },
     "metadata": {},
     "output_type": "display_data"
    },
    {
     "data": {
      "image/png": "[encoded data removed]",
      "text/plain": [
       "<Figure size 720x288 with 2 Axes>"
      ]
     },
     "metadata": {
      "needs_background": "light"
     },
     "output_type": "display_data"
    }
   ],
   "source": [
    "print_results_by_model(df,\n",
    "    [\"train_labels\", \"test_labels\"],\n",
    "    # [\"mean\", \"min_val\", \"max_val\", \"train_labels\", \"test_labels\"], \n",
    "    err_param_name=\"max_angle\",\n",
    "    # err_param_name=\"std\",\n",
    "    pipeline_name=\"best_pipeline\"\n",
    ")\n",
    "visualize(df)"
   ]
  },
  {
   "cell_type": "markdown",
   "metadata": {
    "collapsed": false,
    "papermill": {
     "duration": 0.219175,
     "end_time": "2019-11-27T05:57:25.026840",
     "exception": false,
     "start_time": "2019-11-27T05:57:24.807665",
     "status": "completed"
    },
    "pycharm": {
     "name": "#%% md\n"
    },
    "tags": []
   },
   "source": []
  }
 ],
 "metadata": {
  "kernelspec": {
   "display_name": "Python 3",
   "language": "python",
   "name": "python3"
  },
  "language_info": {
   "codemirror_mode": {
    "name": "ipython",
    "version": 3
   },
   "file_extension": ".py",
   "mimetype": "text/x-python",
   "name": "python",
   "nbconvert_exporter": "python",
   "pygments_lexer": "ipython3",
   "version": "3.6.6"
  },
  "papermill": {
   "duration": 459980.304219,
   "end_time": "2019-11-27T05:57:30.449291",
   "environment_variables": {},
   "exception": null,
   "input_path": "docs/case_studies/test3.ipynb",
   "output_path": "docs/case_studies/test3.ipynb",
   "parameters": {},
   "start_time": "2019-11-21T22:11:10.145072",
   "version": "1.2.0"
  },
  "pycharm": {
   "stem_cell": {
    "cell_type": "raw",
    "metadata": {
     "collapsed": false
    },
    "source": []
   }
  },
  "widgets": {
   "application/vnd.jupyter.widget-state+json": {
    "state": {},
    "version_major": 2,
    "version_minor": 0
   }
  }
 },
 "nbformat": 4,
 "nbformat_minor": 0
}