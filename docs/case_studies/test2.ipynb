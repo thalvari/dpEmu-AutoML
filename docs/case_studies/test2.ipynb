{
 "cells": [
  {
   "cell_type": "markdown",
   "metadata": {
    "collapsed": false,
    "papermill": {
     "duration": 0.036793,
     "end_time": "2019-10-21T22:55:25.677065",
     "exception": false,
     "start_time": "2019-10-21T22:55:25.640272",
     "status": "completed"
    },
    "tags": []
   },
   "source": [
    "# AutoML Image Classification: With Rotation (Digits)"
   ]
  },
  {
   "cell_type": "markdown",
   "metadata": {
    "collapsed": false,
    "papermill": {
     "duration": 0.031057,
     "end_time": "2019-10-21T22:55:25.734774",
     "exception": false,
     "start_time": "2019-10-21T22:55:25.703717",
     "status": "completed"
    },
    "tags": []
   },
   "source": [
    "![](imgs/rotation.png)"
   ]
  },
  {
   "cell_type": "code",
   "execution_count": 1,
   "metadata": {
    "collapsed": false,
    "papermill": {
     "duration": 10.195599,
     "end_time": "2019-10-21T22:55:35.962317",
     "exception": false,
     "start_time": "2019-10-21T22:55:25.766718",
     "status": "completed"
    },
    "pycharm": {
     "name": "#%%\n"
    },
    "tags": []
   },
   "outputs": [
    {
     "name": "stdout",
     "output_type": "stream",
     "text": [
      "Better speed can be achieved with apex installed from https://www.github.com/nvidia/apex.\n"
     ]
    }
   ],
   "source": [
    "import random as rn\n",
    "from abc import ABC, abstractmethod\n",
    "\n",
    "import autokeras as ak\n",
    "import h2o\n",
    "import matplotlib.pyplot as plt\n",
    "import numpy as np\n",
    "from h2o.automl import H2OAutoML\n",
    "from numpy.random import RandomState\n",
    "from sklearn.datasets import load_digits\n",
    "from sklearn.metrics import accuracy_score\n",
    "from sklearn.model_selection import train_test_split\n",
    "from tpot import TPOTClassifier\n",
    "\n",
    "from dpemu import runner\n",
    "from dpemu.filters.image import RotationPIL\n",
    "from dpemu.nodes import Array\n",
    "from dpemu.nodes.series import Series\n",
    "from dpemu.plotting_utils import visualize_scores, print_results_by_model\n",
    "from dpemu.utils import generate_tmpdir"
   ]
  },
  {
   "cell_type": "markdown",
   "metadata": {
    "collapsed": false,
    "papermill": {
     "duration": 0.02561,
     "end_time": "2019-10-21T22:55:36.020222",
     "exception": false,
     "start_time": "2019-10-21T22:55:35.994612",
     "status": "completed"
    },
    "pycharm": {
     "name": "#%% md\n"
    },
    "tags": []
   },
   "source": []
  },
  {
   "cell_type": "code",
   "execution_count": 2,
   "metadata": {
    "collapsed": false,
    "papermill": {
     "duration": 0.034653,
     "end_time": "2019-10-21T22:55:36.078894",
     "exception": false,
     "start_time": "2019-10-21T22:55:36.044241",
     "status": "completed"
    },
    "pycharm": {
     "is_executing": false,
     "name": "#%%\n"
    },
    "tags": []
   },
   "outputs": [],
   "source": [
    "def get_data():\n",
    "    random_state = RandomState(42)\n",
    "    digits = load_digits()\n",
    "    return train_test_split(digits[\"data\"], digits[\"target\"], test_size=.2, random_state=random_state)"
   ]
  },
  {
   "cell_type": "markdown",
   "metadata": {
    "collapsed": false,
    "papermill": {
     "duration": 0.018144,
     "end_time": "2019-10-21T22:55:36.116271",
     "exception": false,
     "start_time": "2019-10-21T22:55:36.098127",
     "status": "completed"
    },
    "pycharm": {
     "name": "#%% md\n"
    },
    "tags": []
   },
   "source": []
  },
  {
   "cell_type": "code",
   "execution_count": 3,
   "metadata": {
    "collapsed": false,
    "papermill": {
     "duration": 0.039181,
     "end_time": "2019-10-21T22:55:36.187264",
     "exception": false,
     "start_time": "2019-10-21T22:55:36.148083",
     "status": "completed"
    },
    "pycharm": {
     "is_executing": false,
     "name": "#%%\n"
    },
    "tags": []
   },
   "outputs": [],
   "source": [
    "def get_err_root_node():\n",
    "    err_img_node = Array(reshape=(8, 8))\n",
    "    err_root_node = Series(err_img_node)\n",
    "    err_img_node.addfilter(RotationPIL(\"max_angle\"))\n",
    "    return err_root_node"
   ]
  },
  {
   "cell_type": "markdown",
   "metadata": {
    "collapsed": false,
    "papermill": {
     "duration": 0.020114,
     "end_time": "2019-10-21T22:55:36.230566",
     "exception": false,
     "start_time": "2019-10-21T22:55:36.210452",
     "status": "completed"
    },
    "pycharm": {
     "name": "#%% md\n"
    },
    "tags": []
   },
   "source": []
  },
  {
   "cell_type": "code",
   "execution_count": 4,
   "metadata": {
    "collapsed": false,
    "papermill": {
     "duration": 0.036636,
     "end_time": "2019-10-21T22:55:36.290849",
     "exception": false,
     "start_time": "2019-10-21T22:55:36.254213",
     "status": "completed"
    },
    "pycharm": {
     "is_executing": false,
     "name": "#%%\n"
    },
    "tags": []
   },
   "outputs": [],
   "source": [
    "def get_err_params_list():\n",
    "    angle_steps = np.linspace(0, 84, num=8)\n",
    "    err_params_list = [{\"max_angle\": a} for a in angle_steps]\n",
    "    return err_params_list"
   ]
  },
  {
   "cell_type": "markdown",
   "metadata": {
    "collapsed": false,
    "papermill": {
     "duration": 0.019553,
     "end_time": "2019-10-21T22:55:36.331603",
     "exception": false,
     "start_time": "2019-10-21T22:55:36.312050",
     "status": "completed"
    },
    "pycharm": {
     "name": "#%% md\n"
    },
    "tags": []
   },
   "source": []
  },
  {
   "cell_type": "code",
   "execution_count": 5,
   "metadata": {
    "collapsed": false,
    "papermill": {
     "duration": 0.029557,
     "end_time": "2019-10-21T22:55:36.380054",
     "exception": false,
     "start_time": "2019-10-21T22:55:36.350497",
     "status": "completed"
    },
    "pycharm": {
     "is_executing": false,
     "name": "#%%\n"
    },
    "tags": []
   },
   "outputs": [],
   "source": [
    "class Preprocessor:\n",
    "\n",
    "    def run(self, train_data, test_data, params):\n",
    "        return train_data, test_data, {}"
   ]
  },
  {
   "cell_type": "markdown",
   "metadata": {
    "collapsed": false,
    "papermill": {
     "duration": 0.017043,
     "end_time": "2019-10-21T22:55:36.414756",
     "exception": false,
     "start_time": "2019-10-21T22:55:36.397713",
     "status": "completed"
    },
    "pycharm": {
     "name": "#%% md\n"
    },
    "tags": []
   },
   "source": []
  },
  {
   "cell_type": "code",
   "execution_count": 6,
   "metadata": {
    "collapsed": false,
    "papermill": {
     "duration": 0.079781,
     "end_time": "2019-10-21T22:55:36.512080",
     "exception": false,
     "start_time": "2019-10-21T22:55:36.432299",
     "status": "completed"
    },
    "pycharm": {
     "is_executing": false,
     "name": "#%%\n"
    },
    "tags": []
   },
   "outputs": [],
   "source": [
    "class AbstractModel(ABC):\n",
    "\n",
    "    def __init__(self):\n",
    "        self.time_limit_mins = 60*1\n",
    "        self.seed = 42\n",
    "        self.random_state = RandomState(self.seed)\n",
    "        np.random.seed(self.seed)\n",
    "\n",
    "    @abstractmethod\n",
    "    def get_fitted_model(self, train_data, train_labels, params):\n",
    "        pass\n",
    "\n",
    "    @abstractmethod\n",
    "    def get_accuracy(self, data, labels, fitted_model, params):\n",
    "        pass\n",
    "\n",
    "    @abstractmethod\n",
    "    def get_best_pipeline(self, fitted_model):\n",
    "        pass\n",
    "\n",
    "    def run(self, train_data, test_data, params):\n",
    "        train_labels = params[\"train_labels\"]\n",
    "        test_labels = params[\"test_labels\"]\n",
    "\n",
    "        fitted_model = self.get_fitted_model(train_data, train_labels, params)\n",
    "\n",
    "        return {\n",
    "            \"test_acc\": self.get_accuracy(test_data, test_labels, fitted_model, params),\n",
    "            \"train_acc\": self.get_accuracy(train_data, train_labels, fitted_model, params),\n",
    "            \"best_pipeline\": self.get_best_pipeline(fitted_model),\n",
    "        }\n",
    "\n",
    "class TPOTClassifierModel(AbstractModel):\n",
    "\n",
    "    def __init__(self):\n",
    "        super().__init__()\n",
    "\n",
    "    def get_fitted_model(self, train_data, train_labels, params):\n",
    "        return TPOTClassifier(\n",
    "            max_time_mins=self.time_limit_mins,\n",
    "            n_jobs=-1,\n",
    "            random_state=self.seed,\n",
    "            verbosity=1,\n",
    "        ).fit(train_data, train_labels)\n",
    "    \n",
    "    def get_accuracy(self, data, labels, fitted_model, params):\n",
    "        return round(fitted_model.score(data, labels), 3)\n",
    "\n",
    "    def get_best_pipeline(self, fitted_model):\n",
    "        return [step[1] for step in fitted_model.fitted_pipeline_.steps]\n",
    "\n",
    "class H2OAutoMLModel(AbstractModel):\n",
    "\n",
    "    def __init__(self):\n",
    "        super().__init__()\n",
    "        h2o.init(name=f\"#{rn.SystemRandom().randint(1, 2**30)}\", nthreads=16)\n",
    "        h2o.no_progress()\n",
    "\n",
    "    def get_fitted_model(self, train_data, train_labels, params):\n",
    "        train_data = h2o.H2OFrame(np.concatenate((train_data, train_labels.reshape(-1, 1)), axis=1))\n",
    "        x = np.array(train_data.columns)[:-1].tolist()\n",
    "        y = np.array(train_data.columns)[-1].tolist()\n",
    "        train_data[y] = train_data[y].asfactor()\n",
    "        aml = H2OAutoML(max_runtime_secs=60*self.time_limit_mins, seed=self.seed)\n",
    "        aml.train(x=x, y=y, training_frame=train_data)\n",
    "        return aml\n",
    "\n",
    "    def get_accuracy(self, data, labels, fitted_model, params):\n",
    "        data = h2o.H2OFrame(np.concatenate((data, labels.reshape(-1, 1)), axis=1))\n",
    "        y = np.array(data.columns)[-1].tolist()\n",
    "        data[y] = data[y].asfactor()\n",
    "        pred = fitted_model.predict(data).as_data_frame(header=False)[\"predict\"].values.astype(int)\n",
    "        return np.round(np.mean(pred == labels), 3)\n",
    "\n",
    "    def get_best_pipeline(self, fitted_model):\n",
    "        leader_params = fitted_model.leader.get_params()\n",
    "        best_pipeline = [leader_params[\"model_id\"][\"actual_value\"][\"name\"]]\n",
    "        if \"base_models\" in leader_params:\n",
    "            for base_model in leader_params[\"base_models\"][\"actual_value\"]:\n",
    "                best_pipeline.append(base_model[\"name\"])\n",
    "        h2o.cluster().shutdown()\n",
    "        return best_pipeline\n",
    "\n",
    "class AutoKerasModel(AbstractModel):\n",
    "\n",
    "    def __init__(self):\n",
    "        super().__init__()\n",
    "        import tensorflow as tf\n",
    "        tf.set_random_seed(self.seed)\n",
    "        import torch\n",
    "        torch.multiprocessing.set_sharing_strategy(\"file_system\")\n",
    "        torch.manual_seed(self.seed)\n",
    "\n",
    "    def get_fitted_model(self, x_train, y_train, params):\n",
    "        s = np.sqrt(x_train.shape[1]).astype(int)\n",
    "        x_train = x_train.reshape((len(x_train), s, s)).astype(np.uint8)\n",
    "        x_train = x_train.reshape(x_train.shape + (1,))\n",
    "        y_train = y_train.astype(np.uint8)\n",
    "        clf = ak.ImageClassifier(augment=False, path=generate_tmpdir(), verbose=False)\n",
    "        clf.fit(x_train, y_train, time_limit=60*self.time_limit_mins)\n",
    "        return clf\n",
    "\n",
    "    def get_accuracy(self, x, y, clf, params):\n",
    "        s = np.sqrt(x.shape[1]).astype(int)\n",
    "        x = x.reshape((len(x), s, s)).astype(np.uint8)\n",
    "        x = x.reshape(x.shape + (1,))\n",
    "        y = y.astype(np.uint8)\n",
    "        y_pred = clf.predict(x)\n",
    "        return np.round(accuracy_score(y_true=y, y_pred=y_pred), 3)\n",
    "\n",
    "    def get_best_pipeline(self, clf):\n",
    "        return [m for i, m in enumerate(clf.cnn.best_model.produce_model().modules()) if i > 0]"
   ]
  },
  {
   "cell_type": "markdown",
   "metadata": {
    "collapsed": false,
    "papermill": {
     "duration": 0.024859,
     "end_time": "2019-10-21T22:55:36.567390",
     "exception": false,
     "start_time": "2019-10-21T22:55:36.542531",
     "status": "completed"
    },
    "pycharm": {
     "name": "#%% md\n"
    },
    "tags": []
   },
   "source": []
  },
  {
   "cell_type": "code",
   "execution_count": 7,
   "metadata": {
    "collapsed": false,
    "papermill": {
     "duration": 0.038509,
     "end_time": "2019-10-21T22:55:36.628258",
     "exception": false,
     "start_time": "2019-10-21T22:55:36.589749",
     "status": "completed"
    },
    "pycharm": {
     "name": "#%%\n"
    },
    "tags": []
   },
   "outputs": [],
   "source": [
    "def get_model_params_dict_list(train_labels, test_labels):\n",
    "    model_params_base = {\"train_labels\": train_labels, \"test_labels\": test_labels}\n",
    "    return [\n",
    "        {\n",
    "            \"model\": H2OAutoMLModel,\n",
    "            \"params_list\": [{**model_params_base}],\n",
    "            \"use_clean_train_data\": False\n",
    "        },\n",
    "        {\n",
    "            \"model\": H2OAutoMLModel,\n",
    "            \"params_list\": [{**model_params_base}],\n",
    "            \"use_clean_train_data\": True\n",
    "        },\n",
    "        {\n",
    "            \"model\": TPOTClassifierModel,\n",
    "            \"params_list\": [{**model_params_base}],\n",
    "            \"use_clean_train_data\": False\n",
    "        },\n",
    "        {\n",
    "            \"model\": TPOTClassifierModel,\n",
    "            \"params_list\": [{**model_params_base}],\n",
    "            \"use_clean_train_data\": True\n",
    "        },\n",
    "        {\n",
    "            \"model\": AutoKerasModel,\n",
    "            \"params_list\": [{**model_params_base}],\n",
    "            \"use_clean_train_data\": False\n",
    "        },\n",
    "        {\n",
    "            \"model\": AutoKerasModel,\n",
    "            \"params_list\": [{**model_params_base}],\n",
    "            \"use_clean_train_data\": True\n",
    "        },\n",
    "    ]"
   ]
  },
  {
   "cell_type": "markdown",
   "metadata": {
    "collapsed": false,
    "papermill": {
     "duration": 0.017259,
     "end_time": "2019-10-21T22:55:36.663523",
     "exception": false,
     "start_time": "2019-10-21T22:55:36.646264",
     "status": "completed"
    },
    "pycharm": {
     "is_executing": false,
     "name": "#%% md\n"
    },
    "tags": []
   },
   "source": []
  },
  {
   "cell_type": "code",
   "execution_count": 8,
   "metadata": {
    "collapsed": false,
    "papermill": {
     "duration": 0.029705,
     "end_time": "2019-10-21T22:55:36.711257",
     "exception": false,
     "start_time": "2019-10-21T22:55:36.681552",
     "status": "completed"
    },
    "pycharm": {
     "name": "#%%\n"
    },
    "tags": []
   },
   "outputs": [],
   "source": [
    "def visualize(df):\n",
    "    visualize_scores(\n",
    "        df,\n",
    "        score_names=[\"test_acc\", \"train_acc\"],\n",
    "        is_higher_score_better=[True, True],\n",
    "        err_param_name=\"max_angle\",\n",
    "        title=\"Classification scores with added error\"\n",
    "    )\n",
    "    plt.show()"
   ]
  },
  {
   "cell_type": "markdown",
   "metadata": {
    "collapsed": false,
    "papermill": {
     "duration": 0.017655,
     "end_time": "2019-10-21T22:55:36.746140",
     "exception": false,
     "start_time": "2019-10-21T22:55:36.728485",
     "status": "completed"
    },
    "pycharm": {
     "is_executing": false,
     "name": "#%% md\n"
    },
    "tags": []
   },
   "source": []
  },
  {
   "cell_type": "code",
   "execution_count": 9,
   "metadata": {
    "collapsed": false,
    "papermill": {
     "duration": 28434.40483,
     "end_time": "2019-10-22T06:49:31.169671",
     "exception": false,
     "start_time": "2019-10-21T22:55:36.764841",
     "status": "completed"
    },
    "pycharm": {
     "is_executing": false,
     "name": "#%%\n"
    },
    "tags": []
   },
   "outputs": [
    {
     "name": "stderr",
     "output_type": "stream",
     "text": [
      "\r",
      "  0%|          | 0/8 [00:00<?, ?it/s]"
     ]
    },
    {
     "name": "stdout",
     "output_type": "stream",
     "text": [
      "\n"
     ]
    },
    {
     "name": "stdout",
     "output_type": "stream",
     "text": [
      "60.344500266666664 minutes have elapsed. TPOT will close down.\n",
      "TPOT closed during evaluation in one generation.\n",
      "WARNING: TPOT may not provide a good pipeline if TPOT is stopped/interrupted in a early generation."
     ]
    },
    {
     "name": "stdout",
     "output_type": "stream",
     "text": [
      "\n"
     ]
    },
    {
     "name": "stdout",
     "output_type": "stream",
     "text": [
      "\n"
     ]
    },
    {
     "name": "stdout",
     "output_type": "stream",
     "text": [
      "\n",
      "TPOT closed prematurely. Will use the current best pipeline."
     ]
    },
    {
     "name": "stdout",
     "output_type": "stream",
     "text": [
      "\n"
     ]
    },
    {
     "name": "stdout",
     "output_type": "stream",
     "text": [
      "Best pipeline:"
     ]
    },
    {
     "name": "stdout",
     "output_type": "stream",
     "text": [
      " "
     ]
    },
    {
     "name": "stdout",
     "output_type": "stream",
     "text": [
      "KNeighborsClassifier(ExtraTreesClassifier(input_matrix, bootstrap=False, criterion=gini, max_features=0.4, min_samples_leaf=6, min_samples_split=4, n_estimators=100), n_neighbors=5, p=2, weights=distance)"
     ]
    },
    {
     "name": "stdout",
     "output_type": "stream",
     "text": [
      "\n"
     ]
    },
    {
     "name": "stdout",
     "output_type": "stream",
     "text": [
      "\n"
     ]
    },
    {
     "name": "stdout",
     "output_type": "stream",
     "text": [
      "60.55038173333333 minutes have elapsed. TPOT will close down.\n",
      "TPOT closed during evaluation in one generation.\n",
      "WARNING: TPOT may not provide a good pipeline if TPOT is stopped/interrupted in a early generation."
     ]
    },
    {
     "name": "stdout",
     "output_type": "stream",
     "text": [
      "\n"
     ]
    },
    {
     "name": "stdout",
     "output_type": "stream",
     "text": [
      "\n"
     ]
    },
    {
     "name": "stdout",
     "output_type": "stream",
     "text": [
      "\n",
      "TPOT closed prematurely. Will use the current best pipeline."
     ]
    },
    {
     "name": "stdout",
     "output_type": "stream",
     "text": [
      "\n"
     ]
    },
    {
     "name": "stdout",
     "output_type": "stream",
     "text": [
      "Best pipeline:"
     ]
    },
    {
     "name": "stdout",
     "output_type": "stream",
     "text": [
      " "
     ]
    },
    {
     "name": "stdout",
     "output_type": "stream",
     "text": [
      "LogisticRegression(PolynomialFeatures(input_matrix, degree=2, include_bias=False, interaction_only=False), C=15.0, dual=False, penalty=l2)"
     ]
    },
    {
     "name": "stdout",
     "output_type": "stream",
     "text": [
      "\n"
     ]
    },
    {
     "name": "stdout",
     "output_type": "stream",
     "text": [
      "\n"
     ]
    },
    {
     "name": "stdout",
     "output_type": "stream",
     "text": [
      "61.53614733333333 minutes have elapsed. TPOT will close down.\n",
      "TPOT closed during evaluation in one generation.\n",
      "WARNING: TPOT may not provide a good pipeline if TPOT is stopped/interrupted in a early generation."
     ]
    },
    {
     "name": "stdout",
     "output_type": "stream",
     "text": [
      "\n"
     ]
    },
    {
     "name": "stdout",
     "output_type": "stream",
     "text": [
      "\n"
     ]
    },
    {
     "name": "stdout",
     "output_type": "stream",
     "text": [
      "\n",
      "TPOT closed prematurely. Will use the current best pipeline."
     ]
    },
    {
     "name": "stdout",
     "output_type": "stream",
     "text": [
      "\n"
     ]
    },
    {
     "name": "stdout",
     "output_type": "stream",
     "text": [
      "Best pipeline:"
     ]
    },
    {
     "name": "stdout",
     "output_type": "stream",
     "text": [
      " "
     ]
    },
    {
     "name": "stdout",
     "output_type": "stream",
     "text": [
      "KNeighborsClassifier(input_matrix, n_neighbors=12, p=2, weights=distance)"
     ]
    },
    {
     "name": "stdout",
     "output_type": "stream",
     "text": [
      "\n"
     ]
    },
    {
     "name": "stdout",
     "output_type": "stream",
     "text": [
      "\n"
     ]
    },
    {
     "name": "stdout",
     "output_type": "stream",
     "text": [
      "62.27830526666666 minutes have elapsed. TPOT will close down.\n",
      "TPOT closed during evaluation in one generation.\n",
      "WARNING: TPOT may not provide a good pipeline if TPOT is stopped/interrupted in a early generation."
     ]
    },
    {
     "name": "stdout",
     "output_type": "stream",
     "text": [
      "\n"
     ]
    },
    {
     "name": "stdout",
     "output_type": "stream",
     "text": [
      "\n"
     ]
    },
    {
     "name": "stdout",
     "output_type": "stream",
     "text": [
      "\n",
      "TPOT closed prematurely. Will use the current best pipeline."
     ]
    },
    {
     "name": "stdout",
     "output_type": "stream",
     "text": [
      "\n"
     ]
    },
    {
     "name": "stdout",
     "output_type": "stream",
     "text": [
      "Best pipeline:"
     ]
    },
    {
     "name": "stdout",
     "output_type": "stream",
     "text": [
      " "
     ]
    },
    {
     "name": "stdout",
     "output_type": "stream",
     "text": [
      "LogisticRegression(PolynomialFeatures(StandardScaler(input_matrix), degree=2, include_bias=False, interaction_only=False), C=25.0, dual=False, penalty=l1)"
     ]
    },
    {
     "name": "stdout",
     "output_type": "stream",
     "text": [
      "\n"
     ]
    },
    {
     "name": "stdout",
     "output_type": "stream",
     "text": [
      "\n"
     ]
    },
    {
     "name": "stdout",
     "output_type": "stream",
     "text": [
      "63.50868813333333 minutes have elapsed. TPOT will close down.\n",
      "TPOT closed during evaluation in one generation.\n",
      "WARNING: TPOT may not provide a good pipeline if TPOT is stopped/interrupted in a early generation."
     ]
    },
    {
     "name": "stdout",
     "output_type": "stream",
     "text": [
      "\n"
     ]
    },
    {
     "name": "stdout",
     "output_type": "stream",
     "text": [
      "\n"
     ]
    },
    {
     "name": "stdout",
     "output_type": "stream",
     "text": [
      "\n",
      "TPOT closed prematurely. Will use the current best pipeline."
     ]
    },
    {
     "name": "stdout",
     "output_type": "stream",
     "text": [
      "\n"
     ]
    },
    {
     "name": "stdout",
     "output_type": "stream",
     "text": [
      "Best pipeline:"
     ]
    },
    {
     "name": "stdout",
     "output_type": "stream",
     "text": [
      " "
     ]
    },
    {
     "name": "stdout",
     "output_type": "stream",
     "text": [
      "ExtraTreesClassifier(LinearSVC(PolynomialFeatures(input_matrix, degree=2, include_bias=False, interaction_only=False), C=15.0, dual=False, loss=squared_hinge, penalty=l2, tol=0.1), bootstrap=False, criterion=gini, max_features=0.25, min_samples_leaf=3, min_samples_split=9, n_estimators=100)"
     ]
    },
    {
     "name": "stdout",
     "output_type": "stream",
     "text": [
      "\n"
     ]
    },
    {
     "name": "stdout",
     "output_type": "stream",
     "text": [
      "\n"
     ]
    },
    {
     "name": "stdout",
     "output_type": "stream",
     "text": [
      "63.66282891666666 minutes have elapsed. TPOT will close down.\n",
      "TPOT closed during evaluation in one generation.\n",
      "WARNING: TPOT may not provide a good pipeline if TPOT is stopped/interrupted in a early generation."
     ]
    },
    {
     "name": "stdout",
     "output_type": "stream",
     "text": [
      "\n"
     ]
    },
    {
     "name": "stdout",
     "output_type": "stream",
     "text": [
      "\n"
     ]
    },
    {
     "name": "stdout",
     "output_type": "stream",
     "text": [
      "\n",
      "TPOT closed prematurely. Will use the current best pipeline."
     ]
    },
    {
     "name": "stdout",
     "output_type": "stream",
     "text": [
      "\n"
     ]
    },
    {
     "name": "stdout",
     "output_type": "stream",
     "text": [
      "Best pipeline:"
     ]
    },
    {
     "name": "stdout",
     "output_type": "stream",
     "text": [
      " "
     ]
    },
    {
     "name": "stdout",
     "output_type": "stream",
     "text": [
      "LogisticRegression(PolynomialFeatures(ExtraTreesClassifier(input_matrix, bootstrap=True, criterion=gini, max_features=1.0, min_samples_leaf=9, min_samples_split=2, n_estimators=100), degree=2, include_bias=False, interaction_only=False), C=25.0, dual=False, penalty=l1)"
     ]
    },
    {
     "name": "stdout",
     "output_type": "stream",
     "text": [
      "\n"
     ]
    },
    {
     "name": "stdout",
     "output_type": "stream",
     "text": [
      "\n"
     ]
    },
    {
     "name": "stdout",
     "output_type": "stream",
     "text": [
      "64.92309585 minutes have elapsed. TPOT will close down.\n",
      "TPOT closed during evaluation in one generation.\n",
      "WARNING: TPOT may not provide a good pipeline if TPOT is stopped/interrupted in a early generation."
     ]
    },
    {
     "name": "stdout",
     "output_type": "stream",
     "text": [
      "\n"
     ]
    },
    {
     "name": "stdout",
     "output_type": "stream",
     "text": [
      "\n"
     ]
    },
    {
     "name": "stdout",
     "output_type": "stream",
     "text": [
      "\n",
      "TPOT closed prematurely. Will use the current best pipeline."
     ]
    },
    {
     "name": "stdout",
     "output_type": "stream",
     "text": [
      "\n"
     ]
    },
    {
     "name": "stdout",
     "output_type": "stream",
     "text": [
      "Best pipeline:"
     ]
    },
    {
     "name": "stdout",
     "output_type": "stream",
     "text": [
      " "
     ]
    },
    {
     "name": "stdout",
     "output_type": "stream",
     "text": [
      "KNeighborsClassifier(KNeighborsClassifier(input_matrix, n_neighbors=6, p=1, weights=distance), n_neighbors=3, p=2, weights=distance)"
     ]
    },
    {
     "name": "stdout",
     "output_type": "stream",
     "text": [
      "\n"
     ]
    },
    {
     "name": "stdout",
     "output_type": "stream",
     "text": [
      "\n"
     ]
    },
    {
     "name": "stdout",
     "output_type": "stream",
     "text": [
      "61.45601138333333 minutes have elapsed. TPOT will close down.\n",
      "TPOT closed during evaluation in one generation.\n",
      "WARNING: TPOT may not provide a good pipeline if TPOT is stopped/interrupted in a early generation."
     ]
    },
    {
     "name": "stdout",
     "output_type": "stream",
     "text": [
      "\n"
     ]
    },
    {
     "name": "stdout",
     "output_type": "stream",
     "text": [
      "\n"
     ]
    },
    {
     "name": "stdout",
     "output_type": "stream",
     "text": [
      "\n",
      "TPOT closed prematurely. Will use the current best pipeline."
     ]
    },
    {
     "name": "stdout",
     "output_type": "stream",
     "text": [
      "\n"
     ]
    },
    {
     "name": "stdout",
     "output_type": "stream",
     "text": [
      "Best pipeline:"
     ]
    },
    {
     "name": "stdout",
     "output_type": "stream",
     "text": [
      " "
     ]
    },
    {
     "name": "stdout",
     "output_type": "stream",
     "text": [
      "KNeighborsClassifier(ExtraTreesClassifier(BernoulliNB(input_matrix, alpha=0.01, fit_prior=True), bootstrap=False, criterion=entropy, max_features=0.25, min_samples_leaf=5, min_samples_split=10, n_estimators=100), n_neighbors=3, p=2, weights=distance)"
     ]
    },
    {
     "name": "stdout",
     "output_type": "stream",
     "text": [
      "\n"
     ]
    },
    {
     "name": "stdout",
     "output_type": "stream",
     "text": [
      "Checking whether there is an H2O instance running at http://localhost:54321 "
     ]
    },
    {
     "name": "stdout",
     "output_type": "stream",
     "text": [
      "."
     ]
    },
    {
     "name": "stdout",
     "output_type": "stream",
     "text": [
      "."
     ]
    },
    {
     "name": "stdout",
     "output_type": "stream",
     "text": [
      "."
     ]
    },
    {
     "name": "stdout",
     "output_type": "stream",
     "text": [
      "."
     ]
    },
    {
     "name": "stdout",
     "output_type": "stream",
     "text": [
      "."
     ]
    },
    {
     "name": "stdout",
     "output_type": "stream",
     "text": [
      " not found."
     ]
    },
    {
     "name": "stdout",
     "output_type": "stream",
     "text": [
      "\n"
     ]
    },
    {
     "name": "stdout",
     "output_type": "stream",
     "text": [
      "Attempting to start a local H2O server..."
     ]
    },
    {
     "name": "stdout",
     "output_type": "stream",
     "text": [
      "\n"
     ]
    },
    {
     "name": "stdout",
     "output_type": "stream",
     "text": [
      "  Java Version: openjdk version \"1.8.0_222\"; OpenJDK Runtime Environment (build 1.8.0_222-b10); OpenJDK 64-Bit Server VM (build 25.222-b10, mixed mode)"
     ]
    },
    {
     "name": "stdout",
     "output_type": "stream",
     "text": [
      "\n"
     ]
    },
    {
     "name": "stdout",
     "output_type": "stream",
     "text": [
      "  Starting server from /wrk/users/thalvari/dpEmu/venv/lib/python3.6/site-packages/h2o/backend/bin/h2o.jar"
     ]
    },
    {
     "name": "stdout",
     "output_type": "stream",
     "text": [
      "\n"
     ]
    },
    {
     "name": "stdout",
     "output_type": "stream",
     "text": [
      "  Ice root: /wrk/users/thalvari/tmp053a04yr"
     ]
    },
    {
     "name": "stdout",
     "output_type": "stream",
     "text": [
      "\n"
     ]
    },
    {
     "name": "stdout",
     "output_type": "stream",
     "text": [
      "  JVM stdout: /wrk/users/thalvari/tmp053a04yr/h2o_thalvari_started_from_python.out"
     ]
    },
    {
     "name": "stdout",
     "output_type": "stream",
     "text": [
      "\n"
     ]
    },
    {
     "name": "stdout",
     "output_type": "stream",
     "text": [
      "  JVM stderr: /wrk/users/thalvari/tmp053a04yr/h2o_thalvari_started_from_python.err"
     ]
    },
    {
     "name": "stdout",
     "output_type": "stream",
     "text": [
      "\n"
     ]
    },
    {
     "name": "stdout",
     "output_type": "stream",
     "text": [
      "  Server is running at http://127.0.0.1:54321"
     ]
    },
    {
     "name": "stdout",
     "output_type": "stream",
     "text": [
      "\n"
     ]
    },
    {
     "name": "stdout",
     "output_type": "stream",
     "text": [
      "Connecting to H2O server at http://127.0.0.1:54321 .."
     ]
    },
    {
     "name": "stdout",
     "output_type": "stream",
     "text": [
      "."
     ]
    },
    {
     "name": "stdout",
     "output_type": "stream",
     "text": [
      " successful."
     ]
    },
    {
     "name": "stdout",
     "output_type": "stream",
     "text": [
      "\n"
     ]
    },
    {
     "data": {
      "text/html": [
       "<div style=\"overflow:auto\"><table style=\"width:50%\"><tr><td>H2O cluster uptime:</td>\n",
       "<td>02 secs</td></tr>\n",
       "<tr><td>H2O cluster timezone:</td>\n",
       "<td>Europe/Helsinki</td></tr>\n",
       "<tr><td>H2O data parsing timezone:</td>\n",
       "<td>UTC</td></tr>\n",
       "<tr><td>H2O cluster version:</td>\n",
       "<td>3.26.0.8</td></tr>\n",
       "<tr><td>H2O cluster version age:</td>\n",
       "<td>4 days </td></tr>\n",
       "<tr><td>H2O cluster name:</td>\n",
       "<td>#327529380</td></tr>\n",
       "<tr><td>H2O cluster total nodes:</td>\n",
       "<td>1</td></tr>\n",
       "<tr><td>H2O cluster free memory:</td>\n",
       "<td>26.67 Gb</td></tr>\n",
       "<tr><td>H2O cluster total cores:</td>\n",
       "<td>16</td></tr>\n",
       "<tr><td>H2O cluster allowed cores:</td>\n",
       "<td>16</td></tr>\n",
       "<tr><td>H2O cluster status:</td>\n",
       "<td>accepting new members, healthy</td></tr>\n",
       "<tr><td>H2O connection url:</td>\n",
       "<td>http://127.0.0.1:54321</td></tr>\n",
       "<tr><td>H2O connection proxy:</td>\n",
       "<td>{'http': None, 'https': None}</td></tr>\n",
       "<tr><td>H2O internal security:</td>\n",
       "<td>False</td></tr>\n",
       "<tr><td>H2O API Extensions:</td>\n",
       "<td>Amazon S3, XGBoost, Algos, AutoML, Core V3, TargetEncoder, Core V4</td></tr>\n",
       "<tr><td>Python version:</td>\n",
       "<td>3.6.6 final</td></tr></table></div>"
      ],
      "text/plain": [
       "--------------------------  ------------------------------------------------------------------\n",
       "H2O cluster uptime:         02 secs\n",
       "H2O cluster timezone:       Europe/Helsinki\n",
       "H2O data parsing timezone:  UTC\n",
       "H2O cluster version:        3.26.0.8\n",
       "H2O cluster version age:    4 days\n",
       "H2O cluster name:           #327529380\n",
       "H2O cluster total nodes:    1\n",
       "H2O cluster free memory:    26.67 Gb\n",
       "H2O cluster total cores:    16\n",
       "H2O cluster allowed cores:  16\n",
       "H2O cluster status:         accepting new members, healthy\n",
       "H2O connection url:         http://127.0.0.1:54321\n",
       "H2O connection proxy:       {'http': None, 'https': None}\n",
       "H2O internal security:      False\n",
       "H2O API Extensions:         Amazon S3, XGBoost, Algos, AutoML, Core V3, TargetEncoder, Core V4\n",
       "Python version:             3.6.6 final\n",
       "--------------------------  ------------------------------------------------------------------"
      ]
     },
     "metadata": {},
     "output_type": "display_data"
    },
    {
     "name": "stdout",
     "output_type": "stream",
     "text": [
      "\n"
     ]
    },
    {
     "name": "stdout",
     "output_type": "stream",
     "text": [
      "62.66928266666666 minutes have elapsed. TPOT will close down.\n",
      "TPOT closed during evaluation in one generation.\n",
      "WARNING: TPOT may not provide a good pipeline if TPOT is stopped/interrupted in a early generation."
     ]
    },
    {
     "name": "stdout",
     "output_type": "stream",
     "text": [
      "\n"
     ]
    },
    {
     "name": "stdout",
     "output_type": "stream",
     "text": [
      "\n"
     ]
    },
    {
     "name": "stdout",
     "output_type": "stream",
     "text": [
      "\n",
      "TPOT closed prematurely. Will use the current best pipeline."
     ]
    },
    {
     "name": "stdout",
     "output_type": "stream",
     "text": [
      "\n"
     ]
    },
    {
     "name": "stdout",
     "output_type": "stream",
     "text": [
      "Best pipeline:"
     ]
    },
    {
     "name": "stdout",
     "output_type": "stream",
     "text": [
      " "
     ]
    },
    {
     "name": "stdout",
     "output_type": "stream",
     "text": [
      "KNeighborsClassifier(ExtraTreesClassifier(BernoulliNB(input_matrix, alpha=0.01, fit_prior=True), bootstrap=False, criterion=entropy, max_features=0.25, min_samples_leaf=5, min_samples_split=10, n_estimators=100), n_neighbors=3, p=2, weights=distance)"
     ]
    },
    {
     "name": "stdout",
     "output_type": "stream",
     "text": [
      "\n"
     ]
    },
    {
     "name": "stdout",
     "output_type": "stream",
     "text": [
      "Checking whether there is an H2O instance running at http://localhost:54321 "
     ]
    },
    {
     "name": "stdout",
     "output_type": "stream",
     "text": [
      "."
     ]
    },
    {
     "name": "stdout",
     "output_type": "stream",
     "text": [
      "."
     ]
    },
    {
     "name": "stdout",
     "output_type": "stream",
     "text": [
      "."
     ]
    },
    {
     "name": "stdout",
     "output_type": "stream",
     "text": [
      "."
     ]
    },
    {
     "name": "stdout",
     "output_type": "stream",
     "text": [
      "."
     ]
    },
    {
     "name": "stdout",
     "output_type": "stream",
     "text": [
      " not found."
     ]
    },
    {
     "name": "stdout",
     "output_type": "stream",
     "text": [
      "\n"
     ]
    },
    {
     "name": "stdout",
     "output_type": "stream",
     "text": [
      "Attempting to start a local H2O server..."
     ]
    },
    {
     "name": "stdout",
     "output_type": "stream",
     "text": [
      "\n"
     ]
    },
    {
     "name": "stdout",
     "output_type": "stream",
     "text": [
      "  Java Version: openjdk version \"1.8.0_222\"; OpenJDK Runtime Environment (build 1.8.0_222-b10); OpenJDK 64-Bit Server VM (build 25.222-b10, mixed mode)"
     ]
    },
    {
     "name": "stdout",
     "output_type": "stream",
     "text": [
      "\n"
     ]
    },
    {
     "name": "stdout",
     "output_type": "stream",
     "text": [
      "  Starting server from /wrk/users/thalvari/dpEmu/venv/lib/python3.6/site-packages/h2o/backend/bin/h2o.jar"
     ]
    },
    {
     "name": "stdout",
     "output_type": "stream",
     "text": [
      "\n"
     ]
    },
    {
     "name": "stdout",
     "output_type": "stream",
     "text": [
      "  Ice root: /wrk/users/thalvari/tmp_2_20438"
     ]
    },
    {
     "name": "stdout",
     "output_type": "stream",
     "text": [
      "\n"
     ]
    },
    {
     "name": "stdout",
     "output_type": "stream",
     "text": [
      "  JVM stdout: /wrk/users/thalvari/tmp_2_20438/h2o_thalvari_started_from_python.out"
     ]
    },
    {
     "name": "stdout",
     "output_type": "stream",
     "text": [
      "\n"
     ]
    },
    {
     "name": "stdout",
     "output_type": "stream",
     "text": [
      "  JVM stderr: /wrk/users/thalvari/tmp_2_20438/h2o_thalvari_started_from_python.err"
     ]
    },
    {
     "name": "stdout",
     "output_type": "stream",
     "text": [
      "\n"
     ]
    },
    {
     "name": "stdout",
     "output_type": "stream",
     "text": [
      "  Server is running at http://127.0.0.1:54323"
     ]
    },
    {
     "name": "stdout",
     "output_type": "stream",
     "text": [
      "\n"
     ]
    },
    {
     "name": "stdout",
     "output_type": "stream",
     "text": [
      "Connecting to H2O server at http://127.0.0.1:54323 .."
     ]
    },
    {
     "name": "stdout",
     "output_type": "stream",
     "text": [
      "."
     ]
    },
    {
     "name": "stdout",
     "output_type": "stream",
     "text": [
      " successful."
     ]
    },
    {
     "name": "stdout",
     "output_type": "stream",
     "text": [
      "\n"
     ]
    },
    {
     "data": {
      "text/html": [
       "<div style=\"overflow:auto\"><table style=\"width:50%\"><tr><td>H2O cluster uptime:</td>\n",
       "<td>06 secs</td></tr>\n",
       "<tr><td>H2O cluster timezone:</td>\n",
       "<td>Europe/Helsinki</td></tr>\n",
       "<tr><td>H2O data parsing timezone:</td>\n",
       "<td>UTC</td></tr>\n",
       "<tr><td>H2O cluster version:</td>\n",
       "<td>3.26.0.8</td></tr>\n",
       "<tr><td>H2O cluster version age:</td>\n",
       "<td>4 days </td></tr>\n",
       "<tr><td>H2O cluster name:</td>\n",
       "<td>#571086289</td></tr>\n",
       "<tr><td>H2O cluster total nodes:</td>\n",
       "<td>1</td></tr>\n",
       "<tr><td>H2O cluster free memory:</td>\n",
       "<td>26.63 Gb</td></tr>\n",
       "<tr><td>H2O cluster total cores:</td>\n",
       "<td>16</td></tr>\n",
       "<tr><td>H2O cluster allowed cores:</td>\n",
       "<td>16</td></tr>\n",
       "<tr><td>H2O cluster status:</td>\n",
       "<td>accepting new members, healthy</td></tr>\n",
       "<tr><td>H2O connection url:</td>\n",
       "<td>http://127.0.0.1:54323</td></tr>\n",
       "<tr><td>H2O connection proxy:</td>\n",
       "<td>{'http': None, 'https': None}</td></tr>\n",
       "<tr><td>H2O internal security:</td>\n",
       "<td>False</td></tr>\n",
       "<tr><td>H2O API Extensions:</td>\n",
       "<td>Amazon S3, XGBoost, Algos, AutoML, Core V3, TargetEncoder, Core V4</td></tr>\n",
       "<tr><td>Python version:</td>\n",
       "<td>3.6.6 final</td></tr></table></div>"
      ],
      "text/plain": [
       "--------------------------  ------------------------------------------------------------------\n",
       "H2O cluster uptime:         06 secs\n",
       "H2O cluster timezone:       Europe/Helsinki\n",
       "H2O data parsing timezone:  UTC\n",
       "H2O cluster version:        3.26.0.8\n",
       "H2O cluster version age:    4 days\n",
       "H2O cluster name:           #571086289\n",
       "H2O cluster total nodes:    1\n",
       "H2O cluster free memory:    26.63 Gb\n",
       "H2O cluster total cores:    16\n",
       "H2O cluster allowed cores:  16\n",
       "H2O cluster status:         accepting new members, healthy\n",
       "H2O connection url:         http://127.0.0.1:54323\n",
       "H2O connection proxy:       {'http': None, 'https': None}\n",
       "H2O internal security:      False\n",
       "H2O API Extensions:         Amazon S3, XGBoost, Algos, AutoML, Core V3, TargetEncoder, Core V4\n",
       "Python version:             3.6.6 final\n",
       "--------------------------  ------------------------------------------------------------------"
      ]
     },
     "metadata": {},
     "output_type": "display_data"
    },
    {
     "name": "stdout",
     "output_type": "stream",
     "text": [
      "\n"
     ]
    },
    {
     "name": "stdout",
     "output_type": "stream",
     "text": [
      "61.413508783333334 minutes have elapsed. TPOT will close down.\n",
      "TPOT closed during evaluation in one generation.\n",
      "WARNING: TPOT may not provide a good pipeline if TPOT is stopped/interrupted in a early generation."
     ]
    },
    {
     "name": "stdout",
     "output_type": "stream",
     "text": [
      "\n"
     ]
    },
    {
     "name": "stdout",
     "output_type": "stream",
     "text": [
      "\n"
     ]
    },
    {
     "name": "stdout",
     "output_type": "stream",
     "text": [
      "\n",
      "TPOT closed prematurely. Will use the current best pipeline."
     ]
    },
    {
     "name": "stdout",
     "output_type": "stream",
     "text": [
      "\n"
     ]
    },
    {
     "name": "stdout",
     "output_type": "stream",
     "text": [
      "Best pipeline:"
     ]
    },
    {
     "name": "stdout",
     "output_type": "stream",
     "text": [
      " "
     ]
    },
    {
     "name": "stdout",
     "output_type": "stream",
     "text": [
      "KNeighborsClassifier(LogisticRegression(input_matrix, C=20.0, dual=True, penalty=l2), n_neighbors=3, p=1, weights=distance)"
     ]
    },
    {
     "name": "stdout",
     "output_type": "stream",
     "text": [
      "\n"
     ]
    },
    {
     "name": "stdout",
     "output_type": "stream",
     "text": [
      "Checking whether there is an H2O instance running at http://localhost:54321 "
     ]
    },
    {
     "name": "stdout",
     "output_type": "stream",
     "text": [
      "."
     ]
    },
    {
     "name": "stdout",
     "output_type": "stream",
     "text": [
      "."
     ]
    },
    {
     "name": "stdout",
     "output_type": "stream",
     "text": [
      "."
     ]
    },
    {
     "name": "stdout",
     "output_type": "stream",
     "text": [
      "."
     ]
    },
    {
     "name": "stdout",
     "output_type": "stream",
     "text": [
      "."
     ]
    },
    {
     "name": "stdout",
     "output_type": "stream",
     "text": [
      " not found."
     ]
    },
    {
     "name": "stdout",
     "output_type": "stream",
     "text": [
      "\n"
     ]
    },
    {
     "name": "stdout",
     "output_type": "stream",
     "text": [
      "Attempting to start a local H2O server..."
     ]
    },
    {
     "name": "stdout",
     "output_type": "stream",
     "text": [
      "\n"
     ]
    },
    {
     "name": "stdout",
     "output_type": "stream",
     "text": [
      "  Java Version: openjdk version \"1.8.0_222\"; OpenJDK Runtime Environment (build 1.8.0_222-b10); OpenJDK 64-Bit Server VM (build 25.222-b10, mixed mode)"
     ]
    },
    {
     "name": "stdout",
     "output_type": "stream",
     "text": [
      "\n"
     ]
    },
    {
     "name": "stdout",
     "output_type": "stream",
     "text": [
      "  Starting server from /wrk/users/thalvari/dpEmu/venv/lib/python3.6/site-packages/h2o/backend/bin/h2o.jar"
     ]
    },
    {
     "name": "stdout",
     "output_type": "stream",
     "text": [
      "\n"
     ]
    },
    {
     "name": "stdout",
     "output_type": "stream",
     "text": [
      "  Ice root: /wrk/users/thalvari/tmpxscc7zy5"
     ]
    },
    {
     "name": "stdout",
     "output_type": "stream",
     "text": [
      "\n"
     ]
    },
    {
     "name": "stdout",
     "output_type": "stream",
     "text": [
      "  JVM stdout: /wrk/users/thalvari/tmpxscc7zy5/h2o_thalvari_started_from_python.out"
     ]
    },
    {
     "name": "stdout",
     "output_type": "stream",
     "text": [
      "\n"
     ]
    },
    {
     "name": "stdout",
     "output_type": "stream",
     "text": [
      "  JVM stderr: /wrk/users/thalvari/tmpxscc7zy5/h2o_thalvari_started_from_python.err"
     ]
    },
    {
     "name": "stdout",
     "output_type": "stream",
     "text": [
      "\n"
     ]
    },
    {
     "name": "stdout",
     "output_type": "stream",
     "text": [
      "  Server is running at http://127.0.0.1:54325"
     ]
    },
    {
     "name": "stdout",
     "output_type": "stream",
     "text": [
      "\n"
     ]
    },
    {
     "name": "stdout",
     "output_type": "stream",
     "text": [
      "Connecting to H2O server at http://127.0.0.1:54325 .."
     ]
    },
    {
     "name": "stdout",
     "output_type": "stream",
     "text": [
      "."
     ]
    },
    {
     "name": "stdout",
     "output_type": "stream",
     "text": [
      " successful."
     ]
    },
    {
     "name": "stdout",
     "output_type": "stream",
     "text": [
      "\n"
     ]
    },
    {
     "data": {
      "text/html": [
       "<div style=\"overflow:auto\"><table style=\"width:50%\"><tr><td>H2O cluster uptime:</td>\n",
       "<td>04 secs</td></tr>\n",
       "<tr><td>H2O cluster timezone:</td>\n",
       "<td>Europe/Helsinki</td></tr>\n",
       "<tr><td>H2O data parsing timezone:</td>\n",
       "<td>UTC</td></tr>\n",
       "<tr><td>H2O cluster version:</td>\n",
       "<td>3.26.0.8</td></tr>\n",
       "<tr><td>H2O cluster version age:</td>\n",
       "<td>4 days </td></tr>\n",
       "<tr><td>H2O cluster name:</td>\n",
       "<td>#283219249</td></tr>\n",
       "<tr><td>H2O cluster total nodes:</td>\n",
       "<td>1</td></tr>\n",
       "<tr><td>H2O cluster free memory:</td>\n",
       "<td>26.63 Gb</td></tr>\n",
       "<tr><td>H2O cluster total cores:</td>\n",
       "<td>16</td></tr>\n",
       "<tr><td>H2O cluster allowed cores:</td>\n",
       "<td>16</td></tr>\n",
       "<tr><td>H2O cluster status:</td>\n",
       "<td>accepting new members, healthy</td></tr>\n",
       "<tr><td>H2O connection url:</td>\n",
       "<td>http://127.0.0.1:54325</td></tr>\n",
       "<tr><td>H2O connection proxy:</td>\n",
       "<td>{'http': None, 'https': None}</td></tr>\n",
       "<tr><td>H2O internal security:</td>\n",
       "<td>False</td></tr>\n",
       "<tr><td>H2O API Extensions:</td>\n",
       "<td>Amazon S3, XGBoost, Algos, AutoML, Core V3, TargetEncoder, Core V4</td></tr>\n",
       "<tr><td>Python version:</td>\n",
       "<td>3.6.6 final</td></tr></table></div>"
      ],
      "text/plain": [
       "--------------------------  ------------------------------------------------------------------\n",
       "H2O cluster uptime:         04 secs\n",
       "H2O cluster timezone:       Europe/Helsinki\n",
       "H2O data parsing timezone:  UTC\n",
       "H2O cluster version:        3.26.0.8\n",
       "H2O cluster version age:    4 days\n",
       "H2O cluster name:           #283219249\n",
       "H2O cluster total nodes:    1\n",
       "H2O cluster free memory:    26.63 Gb\n",
       "H2O cluster total cores:    16\n",
       "H2O cluster allowed cores:  16\n",
       "H2O cluster status:         accepting new members, healthy\n",
       "H2O connection url:         http://127.0.0.1:54325\n",
       "H2O connection proxy:       {'http': None, 'https': None}\n",
       "H2O internal security:      False\n",
       "H2O API Extensions:         Amazon S3, XGBoost, Algos, AutoML, Core V3, TargetEncoder, Core V4\n",
       "Python version:             3.6.6 final\n",
       "--------------------------  ------------------------------------------------------------------"
      ]
     },
     "metadata": {},
     "output_type": "display_data"
    },
    {
     "name": "stdout",
     "output_type": "stream",
     "text": [
      "\n"
     ]
    },
    {
     "name": "stdout",
     "output_type": "stream",
     "text": [
      "60.71279618333333 minutes have elapsed. TPOT will close down.\n",
      "TPOT closed during evaluation in one generation.\n",
      "WARNING: TPOT may not provide a good pipeline if TPOT is stopped/interrupted in a early generation."
     ]
    },
    {
     "name": "stdout",
     "output_type": "stream",
     "text": [
      "\n"
     ]
    },
    {
     "name": "stdout",
     "output_type": "stream",
     "text": [
      "\n"
     ]
    },
    {
     "name": "stdout",
     "output_type": "stream",
     "text": [
      "\n",
      "TPOT closed prematurely. Will use the current best pipeline."
     ]
    },
    {
     "name": "stdout",
     "output_type": "stream",
     "text": [
      "\n"
     ]
    },
    {
     "name": "stdout",
     "output_type": "stream",
     "text": [
      "Best pipeline:"
     ]
    },
    {
     "name": "stdout",
     "output_type": "stream",
     "text": [
      " "
     ]
    },
    {
     "name": "stdout",
     "output_type": "stream",
     "text": [
      "KNeighborsClassifier(LogisticRegression(input_matrix, C=20.0, dual=True, penalty=l2), n_neighbors=3, p=1, weights=distance)"
     ]
    },
    {
     "name": "stdout",
     "output_type": "stream",
     "text": [
      "\n"
     ]
    },
    {
     "name": "stdout",
     "output_type": "stream",
     "text": [
      "Checking whether there is an H2O instance running at http://localhost:54321 "
     ]
    },
    {
     "name": "stdout",
     "output_type": "stream",
     "text": [
      "."
     ]
    },
    {
     "name": "stdout",
     "output_type": "stream",
     "text": [
      "."
     ]
    },
    {
     "name": "stdout",
     "output_type": "stream",
     "text": [
      "."
     ]
    },
    {
     "name": "stdout",
     "output_type": "stream",
     "text": [
      "."
     ]
    },
    {
     "name": "stdout",
     "output_type": "stream",
     "text": [
      "."
     ]
    },
    {
     "name": "stdout",
     "output_type": "stream",
     "text": [
      " not found."
     ]
    },
    {
     "name": "stdout",
     "output_type": "stream",
     "text": [
      "\n"
     ]
    },
    {
     "name": "stdout",
     "output_type": "stream",
     "text": [
      "Attempting to start a local H2O server..."
     ]
    },
    {
     "name": "stdout",
     "output_type": "stream",
     "text": [
      "\n"
     ]
    },
    {
     "name": "stdout",
     "output_type": "stream",
     "text": [
      "  Java Version: openjdk version \"1.8.0_222\"; OpenJDK Runtime Environment (build 1.8.0_222-b10); OpenJDK 64-Bit Server VM (build 25.222-b10, mixed mode)"
     ]
    },
    {
     "name": "stdout",
     "output_type": "stream",
     "text": [
      "\n"
     ]
    },
    {
     "name": "stdout",
     "output_type": "stream",
     "text": [
      "  Starting server from /wrk/users/thalvari/dpEmu/venv/lib/python3.6/site-packages/h2o/backend/bin/h2o.jar"
     ]
    },
    {
     "name": "stdout",
     "output_type": "stream",
     "text": [
      "\n"
     ]
    },
    {
     "name": "stdout",
     "output_type": "stream",
     "text": [
      "  Ice root: /wrk/users/thalvari/tmph8j6a__x"
     ]
    },
    {
     "name": "stdout",
     "output_type": "stream",
     "text": [
      "\n"
     ]
    },
    {
     "name": "stdout",
     "output_type": "stream",
     "text": [
      "  JVM stdout: /wrk/users/thalvari/tmph8j6a__x/h2o_thalvari_started_from_python.out"
     ]
    },
    {
     "name": "stdout",
     "output_type": "stream",
     "text": [
      "\n"
     ]
    },
    {
     "name": "stdout",
     "output_type": "stream",
     "text": [
      "  JVM stderr: /wrk/users/thalvari/tmph8j6a__x/h2o_thalvari_started_from_python.err"
     ]
    },
    {
     "name": "stdout",
     "output_type": "stream",
     "text": [
      "\n"
     ]
    },
    {
     "name": "stdout",
     "output_type": "stream",
     "text": [
      "  Server is running at http://127.0.0.1:54327"
     ]
    },
    {
     "name": "stdout",
     "output_type": "stream",
     "text": [
      "\n"
     ]
    },
    {
     "name": "stdout",
     "output_type": "stream",
     "text": [
      "Connecting to H2O server at http://127.0.0.1:54327 .."
     ]
    },
    {
     "name": "stdout",
     "output_type": "stream",
     "text": [
      "."
     ]
    },
    {
     "name": "stdout",
     "output_type": "stream",
     "text": [
      " successful."
     ]
    },
    {
     "name": "stdout",
     "output_type": "stream",
     "text": [
      "\n"
     ]
    },
    {
     "data": {
      "text/html": [
       "<div style=\"overflow:auto\"><table style=\"width:50%\"><tr><td>H2O cluster uptime:</td>\n",
       "<td>02 secs</td></tr>\n",
       "<tr><td>H2O cluster timezone:</td>\n",
       "<td>Europe/Helsinki</td></tr>\n",
       "<tr><td>H2O data parsing timezone:</td>\n",
       "<td>UTC</td></tr>\n",
       "<tr><td>H2O cluster version:</td>\n",
       "<td>3.26.0.8</td></tr>\n",
       "<tr><td>H2O cluster version age:</td>\n",
       "<td>4 days </td></tr>\n",
       "<tr><td>H2O cluster name:</td>\n",
       "<td>#735630719</td></tr>\n",
       "<tr><td>H2O cluster total nodes:</td>\n",
       "<td>1</td></tr>\n",
       "<tr><td>H2O cluster free memory:</td>\n",
       "<td>26.67 Gb</td></tr>\n",
       "<tr><td>H2O cluster total cores:</td>\n",
       "<td>16</td></tr>\n",
       "<tr><td>H2O cluster allowed cores:</td>\n",
       "<td>16</td></tr>\n",
       "<tr><td>H2O cluster status:</td>\n",
       "<td>accepting new members, healthy</td></tr>\n",
       "<tr><td>H2O connection url:</td>\n",
       "<td>http://127.0.0.1:54327</td></tr>\n",
       "<tr><td>H2O connection proxy:</td>\n",
       "<td>{'http': None, 'https': None}</td></tr>\n",
       "<tr><td>H2O internal security:</td>\n",
       "<td>False</td></tr>\n",
       "<tr><td>H2O API Extensions:</td>\n",
       "<td>Amazon S3, XGBoost, Algos, AutoML, Core V3, TargetEncoder, Core V4</td></tr>\n",
       "<tr><td>Python version:</td>\n",
       "<td>3.6.6 final</td></tr></table></div>"
      ],
      "text/plain": [
       "--------------------------  ------------------------------------------------------------------\n",
       "H2O cluster uptime:         02 secs\n",
       "H2O cluster timezone:       Europe/Helsinki\n",
       "H2O data parsing timezone:  UTC\n",
       "H2O cluster version:        3.26.0.8\n",
       "H2O cluster version age:    4 days\n",
       "H2O cluster name:           #735630719\n",
       "H2O cluster total nodes:    1\n",
       "H2O cluster free memory:    26.67 Gb\n",
       "H2O cluster total cores:    16\n",
       "H2O cluster allowed cores:  16\n",
       "H2O cluster status:         accepting new members, healthy\n",
       "H2O connection url:         http://127.0.0.1:54327\n",
       "H2O connection proxy:       {'http': None, 'https': None}\n",
       "H2O internal security:      False\n",
       "H2O API Extensions:         Amazon S3, XGBoost, Algos, AutoML, Core V3, TargetEncoder, Core V4\n",
       "Python version:             3.6.6 final\n",
       "--------------------------  ------------------------------------------------------------------"
      ]
     },
     "metadata": {},
     "output_type": "display_data"
    },
    {
     "name": "stdout",
     "output_type": "stream",
     "text": [
      "\n"
     ]
    },
    {
     "name": "stdout",
     "output_type": "stream",
     "text": [
      "64.58997028333333 minutes have elapsed. TPOT will close down.\n",
      "TPOT closed during evaluation in one generation.\n",
      "WARNING: TPOT may not provide a good pipeline if TPOT is stopped/interrupted in a early generation."
     ]
    },
    {
     "name": "stdout",
     "output_type": "stream",
     "text": [
      "\n"
     ]
    },
    {
     "name": "stdout",
     "output_type": "stream",
     "text": [
      "\n"
     ]
    },
    {
     "name": "stdout",
     "output_type": "stream",
     "text": [
      "\n",
      "TPOT closed prematurely. Will use the current best pipeline."
     ]
    },
    {
     "name": "stdout",
     "output_type": "stream",
     "text": [
      "\n"
     ]
    },
    {
     "name": "stdout",
     "output_type": "stream",
     "text": [
      "Best pipeline:"
     ]
    },
    {
     "name": "stdout",
     "output_type": "stream",
     "text": [
      " "
     ]
    },
    {
     "name": "stdout",
     "output_type": "stream",
     "text": [
      "KNeighborsClassifier(MultinomialNB(input_matrix, alpha=0.001, fit_prior=False), n_neighbors=3, p=2, weights=distance)"
     ]
    },
    {
     "name": "stdout",
     "output_type": "stream",
     "text": [
      "\n"
     ]
    },
    {
     "name": "stdout",
     "output_type": "stream",
     "text": [
      "Checking whether there is an H2O instance running at http://localhost:54321 "
     ]
    },
    {
     "name": "stdout",
     "output_type": "stream",
     "text": [
      "."
     ]
    },
    {
     "name": "stdout",
     "output_type": "stream",
     "text": [
      "."
     ]
    },
    {
     "name": "stdout",
     "output_type": "stream",
     "text": [
      "."
     ]
    },
    {
     "name": "stdout",
     "output_type": "stream",
     "text": [
      "."
     ]
    },
    {
     "name": "stdout",
     "output_type": "stream",
     "text": [
      "."
     ]
    },
    {
     "name": "stdout",
     "output_type": "stream",
     "text": [
      " not found."
     ]
    },
    {
     "name": "stdout",
     "output_type": "stream",
     "text": [
      "\n"
     ]
    },
    {
     "name": "stdout",
     "output_type": "stream",
     "text": [
      "Attempting to start a local H2O server..."
     ]
    },
    {
     "name": "stdout",
     "output_type": "stream",
     "text": [
      "\n"
     ]
    },
    {
     "name": "stdout",
     "output_type": "stream",
     "text": [
      "  Java Version: openjdk version \"1.8.0_222\"; OpenJDK Runtime Environment (build 1.8.0_222-b10); OpenJDK 64-Bit Server VM (build 25.222-b10, mixed mode)"
     ]
    },
    {
     "name": "stdout",
     "output_type": "stream",
     "text": [
      "\n"
     ]
    },
    {
     "name": "stdout",
     "output_type": "stream",
     "text": [
      "  Starting server from /wrk/users/thalvari/dpEmu/venv/lib/python3.6/site-packages/h2o/backend/bin/h2o.jar"
     ]
    },
    {
     "name": "stdout",
     "output_type": "stream",
     "text": [
      "\n"
     ]
    },
    {
     "name": "stdout",
     "output_type": "stream",
     "text": [
      "  Ice root: /wrk/users/thalvari/tmpoxzb7ehg"
     ]
    },
    {
     "name": "stdout",
     "output_type": "stream",
     "text": [
      "\n"
     ]
    },
    {
     "name": "stdout",
     "output_type": "stream",
     "text": [
      "  JVM stdout: /wrk/users/thalvari/tmpoxzb7ehg/h2o_thalvari_started_from_python.out"
     ]
    },
    {
     "name": "stdout",
     "output_type": "stream",
     "text": [
      "\n"
     ]
    },
    {
     "name": "stdout",
     "output_type": "stream",
     "text": [
      "  JVM stderr: /wrk/users/thalvari/tmpoxzb7ehg/h2o_thalvari_started_from_python.err"
     ]
    },
    {
     "name": "stdout",
     "output_type": "stream",
     "text": [
      "\n"
     ]
    },
    {
     "name": "stdout",
     "output_type": "stream",
     "text": [
      "  Server is running at http://127.0.0.1:54329"
     ]
    },
    {
     "name": "stdout",
     "output_type": "stream",
     "text": [
      "\n"
     ]
    },
    {
     "name": "stdout",
     "output_type": "stream",
     "text": [
      "Connecting to H2O server at http://127.0.0.1:54329 .."
     ]
    },
    {
     "name": "stdout",
     "output_type": "stream",
     "text": [
      "."
     ]
    },
    {
     "name": "stdout",
     "output_type": "stream",
     "text": [
      " successful."
     ]
    },
    {
     "name": "stdout",
     "output_type": "stream",
     "text": [
      "\n"
     ]
    },
    {
     "data": {
      "text/html": [
       "<div style=\"overflow:auto\"><table style=\"width:50%\"><tr><td>H2O cluster uptime:</td>\n",
       "<td>03 secs</td></tr>\n",
       "<tr><td>H2O cluster timezone:</td>\n",
       "<td>Europe/Helsinki</td></tr>\n",
       "<tr><td>H2O data parsing timezone:</td>\n",
       "<td>UTC</td></tr>\n",
       "<tr><td>H2O cluster version:</td>\n",
       "<td>3.26.0.8</td></tr>\n",
       "<tr><td>H2O cluster version age:</td>\n",
       "<td>4 days </td></tr>\n",
       "<tr><td>H2O cluster name:</td>\n",
       "<td>#76938772</td></tr>\n",
       "<tr><td>H2O cluster total nodes:</td>\n",
       "<td>1</td></tr>\n",
       "<tr><td>H2O cluster free memory:</td>\n",
       "<td>26.63 Gb</td></tr>\n",
       "<tr><td>H2O cluster total cores:</td>\n",
       "<td>16</td></tr>\n",
       "<tr><td>H2O cluster allowed cores:</td>\n",
       "<td>16</td></tr>\n",
       "<tr><td>H2O cluster status:</td>\n",
       "<td>accepting new members, healthy</td></tr>\n",
       "<tr><td>H2O connection url:</td>\n",
       "<td>http://127.0.0.1:54329</td></tr>\n",
       "<tr><td>H2O connection proxy:</td>\n",
       "<td>{'http': None, 'https': None}</td></tr>\n",
       "<tr><td>H2O internal security:</td>\n",
       "<td>False</td></tr>\n",
       "<tr><td>H2O API Extensions:</td>\n",
       "<td>Amazon S3, XGBoost, Algos, AutoML, Core V3, TargetEncoder, Core V4</td></tr>\n",
       "<tr><td>Python version:</td>\n",
       "<td>3.6.6 final</td></tr></table></div>"
      ],
      "text/plain": [
       "--------------------------  ------------------------------------------------------------------\n",
       "H2O cluster uptime:         03 secs\n",
       "H2O cluster timezone:       Europe/Helsinki\n",
       "H2O data parsing timezone:  UTC\n",
       "H2O cluster version:        3.26.0.8\n",
       "H2O cluster version age:    4 days\n",
       "H2O cluster name:           #76938772\n",
       "H2O cluster total nodes:    1\n",
       "H2O cluster free memory:    26.63 Gb\n",
       "H2O cluster total cores:    16\n",
       "H2O cluster allowed cores:  16\n",
       "H2O cluster status:         accepting new members, healthy\n",
       "H2O connection url:         http://127.0.0.1:54329\n",
       "H2O connection proxy:       {'http': None, 'https': None}\n",
       "H2O internal security:      False\n",
       "H2O API Extensions:         Amazon S3, XGBoost, Algos, AutoML, Core V3, TargetEncoder, Core V4\n",
       "Python version:             3.6.6 final\n",
       "--------------------------  ------------------------------------------------------------------"
      ]
     },
     "metadata": {},
     "output_type": "display_data"
    },
    {
     "name": "stdout",
     "output_type": "stream",
     "text": [
      "\n"
     ]
    },
    {
     "name": "stdout",
     "output_type": "stream",
     "text": [
      "62.13013036666667 minutes have elapsed. TPOT will close down.\n",
      "TPOT closed during evaluation in one generation.\n",
      "WARNING: TPOT may not provide a good pipeline if TPOT is stopped/interrupted in a early generation."
     ]
    },
    {
     "name": "stdout",
     "output_type": "stream",
     "text": [
      "\n"
     ]
    },
    {
     "name": "stdout",
     "output_type": "stream",
     "text": [
      "\n"
     ]
    },
    {
     "name": "stdout",
     "output_type": "stream",
     "text": [
      "\n",
      "TPOT closed prematurely. Will use the current best pipeline."
     ]
    },
    {
     "name": "stdout",
     "output_type": "stream",
     "text": [
      "\n"
     ]
    },
    {
     "name": "stdout",
     "output_type": "stream",
     "text": [
      "Best pipeline:"
     ]
    },
    {
     "name": "stdout",
     "output_type": "stream",
     "text": [
      " "
     ]
    },
    {
     "name": "stdout",
     "output_type": "stream",
     "text": [
      "KNeighborsClassifier(MinMaxScaler(input_matrix), n_neighbors=3, p=2, weights=distance)"
     ]
    },
    {
     "name": "stdout",
     "output_type": "stream",
     "text": [
      "\n"
     ]
    },
    {
     "name": "stdout",
     "output_type": "stream",
     "text": [
      "Checking whether there is an H2O instance running at http://localhost:54321 "
     ]
    },
    {
     "name": "stdout",
     "output_type": "stream",
     "text": [
      "."
     ]
    },
    {
     "name": "stdout",
     "output_type": "stream",
     "text": [
      "."
     ]
    },
    {
     "name": "stdout",
     "output_type": "stream",
     "text": [
      "."
     ]
    },
    {
     "name": "stdout",
     "output_type": "stream",
     "text": [
      "."
     ]
    },
    {
     "name": "stdout",
     "output_type": "stream",
     "text": [
      "."
     ]
    },
    {
     "name": "stdout",
     "output_type": "stream",
     "text": [
      " not found."
     ]
    },
    {
     "name": "stdout",
     "output_type": "stream",
     "text": [
      "\n"
     ]
    },
    {
     "name": "stdout",
     "output_type": "stream",
     "text": [
      "Attempting to start a local H2O server..."
     ]
    },
    {
     "name": "stdout",
     "output_type": "stream",
     "text": [
      "\n"
     ]
    },
    {
     "name": "stdout",
     "output_type": "stream",
     "text": [
      "  Java Version: openjdk version \"1.8.0_222\"; OpenJDK Runtime Environment (build 1.8.0_222-b10); OpenJDK 64-Bit Server VM (build 25.222-b10, mixed mode)"
     ]
    },
    {
     "name": "stdout",
     "output_type": "stream",
     "text": [
      "\n"
     ]
    },
    {
     "name": "stdout",
     "output_type": "stream",
     "text": [
      "  Starting server from /wrk/users/thalvari/dpEmu/venv/lib/python3.6/site-packages/h2o/backend/bin/h2o.jar"
     ]
    },
    {
     "name": "stdout",
     "output_type": "stream",
     "text": [
      "\n"
     ]
    },
    {
     "name": "stdout",
     "output_type": "stream",
     "text": [
      "  Ice root: /wrk/users/thalvari/tmp0uo7nk25"
     ]
    },
    {
     "name": "stdout",
     "output_type": "stream",
     "text": [
      "\n"
     ]
    },
    {
     "name": "stdout",
     "output_type": "stream",
     "text": [
      "  JVM stdout: /wrk/users/thalvari/tmp0uo7nk25/h2o_thalvari_started_from_python.out"
     ]
    },
    {
     "name": "stdout",
     "output_type": "stream",
     "text": [
      "\n"
     ]
    },
    {
     "name": "stdout",
     "output_type": "stream",
     "text": [
      "  JVM stderr: /wrk/users/thalvari/tmp0uo7nk25/h2o_thalvari_started_from_python.err"
     ]
    },
    {
     "name": "stdout",
     "output_type": "stream",
     "text": [
      "\n"
     ]
    },
    {
     "name": "stdout",
     "output_type": "stream",
     "text": [
      "  Server is running at http://127.0.0.1:54331"
     ]
    },
    {
     "name": "stdout",
     "output_type": "stream",
     "text": [
      "\n"
     ]
    },
    {
     "name": "stdout",
     "output_type": "stream",
     "text": [
      "Connecting to H2O server at http://127.0.0.1:54331 .."
     ]
    },
    {
     "name": "stdout",
     "output_type": "stream",
     "text": [
      "."
     ]
    },
    {
     "name": "stdout",
     "output_type": "stream",
     "text": [
      " successful."
     ]
    },
    {
     "name": "stdout",
     "output_type": "stream",
     "text": [
      "\n"
     ]
    },
    {
     "data": {
      "text/html": [
       "<div style=\"overflow:auto\"><table style=\"width:50%\"><tr><td>H2O cluster uptime:</td>\n",
       "<td>07 secs</td></tr>\n",
       "<tr><td>H2O cluster timezone:</td>\n",
       "<td>Europe/Helsinki</td></tr>\n",
       "<tr><td>H2O data parsing timezone:</td>\n",
       "<td>UTC</td></tr>\n",
       "<tr><td>H2O cluster version:</td>\n",
       "<td>3.26.0.8</td></tr>\n",
       "<tr><td>H2O cluster version age:</td>\n",
       "<td>4 days </td></tr>\n",
       "<tr><td>H2O cluster name:</td>\n",
       "<td>#659835378</td></tr>\n",
       "<tr><td>H2O cluster total nodes:</td>\n",
       "<td>1</td></tr>\n",
       "<tr><td>H2O cluster free memory:</td>\n",
       "<td>26.64 Gb</td></tr>\n",
       "<tr><td>H2O cluster total cores:</td>\n",
       "<td>16</td></tr>\n",
       "<tr><td>H2O cluster allowed cores:</td>\n",
       "<td>16</td></tr>\n",
       "<tr><td>H2O cluster status:</td>\n",
       "<td>locked, healthy</td></tr>\n",
       "<tr><td>H2O connection url:</td>\n",
       "<td>http://127.0.0.1:54331</td></tr>\n",
       "<tr><td>H2O connection proxy:</td>\n",
       "<td>{'http': None, 'https': None}</td></tr>\n",
       "<tr><td>H2O internal security:</td>\n",
       "<td>False</td></tr>\n",
       "<tr><td>H2O API Extensions:</td>\n",
       "<td>Amazon S3, XGBoost, Algos, AutoML, Core V3, TargetEncoder, Core V4</td></tr>\n",
       "<tr><td>Python version:</td>\n",
       "<td>3.6.6 final</td></tr></table></div>"
      ],
      "text/plain": [
       "--------------------------  ------------------------------------------------------------------\n",
       "H2O cluster uptime:         07 secs\n",
       "H2O cluster timezone:       Europe/Helsinki\n",
       "H2O data parsing timezone:  UTC\n",
       "H2O cluster version:        3.26.0.8\n",
       "H2O cluster version age:    4 days\n",
       "H2O cluster name:           #659835378\n",
       "H2O cluster total nodes:    1\n",
       "H2O cluster free memory:    26.64 Gb\n",
       "H2O cluster total cores:    16\n",
       "H2O cluster allowed cores:  16\n",
       "H2O cluster status:         locked, healthy\n",
       "H2O connection url:         http://127.0.0.1:54331\n",
       "H2O connection proxy:       {'http': None, 'https': None}\n",
       "H2O internal security:      False\n",
       "H2O API Extensions:         Amazon S3, XGBoost, Algos, AutoML, Core V3, TargetEncoder, Core V4\n",
       "Python version:             3.6.6 final\n",
       "--------------------------  ------------------------------------------------------------------"
      ]
     },
     "metadata": {},
     "output_type": "display_data"
    },
    {
     "name": "stdout",
     "output_type": "stream",
     "text": [
      "\n"
     ]
    },
    {
     "name": "stdout",
     "output_type": "stream",
     "text": [
      "64.29375045 minutes have elapsed. TPOT will close down.\n",
      "TPOT closed during evaluation in one generation.\n",
      "WARNING: TPOT may not provide a good pipeline if TPOT is stopped/interrupted in a early generation."
     ]
    },
    {
     "name": "stdout",
     "output_type": "stream",
     "text": [
      "\n"
     ]
    },
    {
     "name": "stdout",
     "output_type": "stream",
     "text": [
      "\n"
     ]
    },
    {
     "name": "stdout",
     "output_type": "stream",
     "text": [
      "\n",
      "TPOT closed prematurely. Will use the current best pipeline."
     ]
    },
    {
     "name": "stdout",
     "output_type": "stream",
     "text": [
      "\n"
     ]
    },
    {
     "name": "stdout",
     "output_type": "stream",
     "text": [
      "Best pipeline:"
     ]
    },
    {
     "name": "stdout",
     "output_type": "stream",
     "text": [
      " "
     ]
    },
    {
     "name": "stdout",
     "output_type": "stream",
     "text": [
      "KNeighborsClassifier(MinMaxScaler(input_matrix), n_neighbors=3, p=2, weights=distance)"
     ]
    },
    {
     "name": "stdout",
     "output_type": "stream",
     "text": [
      "\n"
     ]
    },
    {
     "name": "stdout",
     "output_type": "stream",
     "text": [
      "Checking whether there is an H2O instance running at http://localhost:54321 "
     ]
    },
    {
     "name": "stdout",
     "output_type": "stream",
     "text": [
      "."
     ]
    },
    {
     "name": "stdout",
     "output_type": "stream",
     "text": [
      "."
     ]
    },
    {
     "name": "stdout",
     "output_type": "stream",
     "text": [
      "."
     ]
    },
    {
     "name": "stdout",
     "output_type": "stream",
     "text": [
      "."
     ]
    },
    {
     "name": "stdout",
     "output_type": "stream",
     "text": [
      "."
     ]
    },
    {
     "name": "stdout",
     "output_type": "stream",
     "text": [
      " not found."
     ]
    },
    {
     "name": "stdout",
     "output_type": "stream",
     "text": [
      "\n"
     ]
    },
    {
     "name": "stdout",
     "output_type": "stream",
     "text": [
      "Attempting to start a local H2O server..."
     ]
    },
    {
     "name": "stdout",
     "output_type": "stream",
     "text": [
      "\n"
     ]
    },
    {
     "name": "stdout",
     "output_type": "stream",
     "text": [
      "  Java Version: openjdk version \"1.8.0_222\"; OpenJDK Runtime Environment (build 1.8.0_222-b10); OpenJDK 64-Bit Server VM (build 25.222-b10, mixed mode)"
     ]
    },
    {
     "name": "stdout",
     "output_type": "stream",
     "text": [
      "\n"
     ]
    },
    {
     "name": "stdout",
     "output_type": "stream",
     "text": [
      "  Starting server from /wrk/users/thalvari/dpEmu/venv/lib/python3.6/site-packages/h2o/backend/bin/h2o.jar"
     ]
    },
    {
     "name": "stdout",
     "output_type": "stream",
     "text": [
      "\n"
     ]
    },
    {
     "name": "stdout",
     "output_type": "stream",
     "text": [
      "  Ice root: /wrk/users/thalvari/tmpehsjf_ge"
     ]
    },
    {
     "name": "stdout",
     "output_type": "stream",
     "text": [
      "\n"
     ]
    },
    {
     "name": "stdout",
     "output_type": "stream",
     "text": [
      "  JVM stdout: /wrk/users/thalvari/tmpehsjf_ge/h2o_thalvari_started_from_python.out"
     ]
    },
    {
     "name": "stdout",
     "output_type": "stream",
     "text": [
      "\n"
     ]
    },
    {
     "name": "stdout",
     "output_type": "stream",
     "text": [
      "  JVM stderr: /wrk/users/thalvari/tmpehsjf_ge/h2o_thalvari_started_from_python.err"
     ]
    },
    {
     "name": "stdout",
     "output_type": "stream",
     "text": [
      "\n"
     ]
    },
    {
     "name": "stdout",
     "output_type": "stream",
     "text": [
      "  Server is running at http://127.0.0.1:54335"
     ]
    },
    {
     "name": "stdout",
     "output_type": "stream",
     "text": [
      "\n"
     ]
    },
    {
     "name": "stdout",
     "output_type": "stream",
     "text": [
      "Connecting to H2O server at http://127.0.0.1:54335 .."
     ]
    },
    {
     "name": "stdout",
     "output_type": "stream",
     "text": [
      "."
     ]
    },
    {
     "name": "stdout",
     "output_type": "stream",
     "text": [
      " successful."
     ]
    },
    {
     "name": "stdout",
     "output_type": "stream",
     "text": [
      "\n"
     ]
    },
    {
     "data": {
      "text/html": [
       "<div style=\"overflow:auto\"><table style=\"width:50%\"><tr><td>H2O cluster uptime:</td>\n",
       "<td>02 secs</td></tr>\n",
       "<tr><td>H2O cluster timezone:</td>\n",
       "<td>Europe/Helsinki</td></tr>\n",
       "<tr><td>H2O data parsing timezone:</td>\n",
       "<td>UTC</td></tr>\n",
       "<tr><td>H2O cluster version:</td>\n",
       "<td>3.26.0.8</td></tr>\n",
       "<tr><td>H2O cluster version age:</td>\n",
       "<td>4 days </td></tr>\n",
       "<tr><td>H2O cluster name:</td>\n",
       "<td>#1002807970</td></tr>\n",
       "<tr><td>H2O cluster total nodes:</td>\n",
       "<td>1</td></tr>\n",
       "<tr><td>H2O cluster free memory:</td>\n",
       "<td>26.67 Gb</td></tr>\n",
       "<tr><td>H2O cluster total cores:</td>\n",
       "<td>16</td></tr>\n",
       "<tr><td>H2O cluster allowed cores:</td>\n",
       "<td>16</td></tr>\n",
       "<tr><td>H2O cluster status:</td>\n",
       "<td>accepting new members, healthy</td></tr>\n",
       "<tr><td>H2O connection url:</td>\n",
       "<td>http://127.0.0.1:54335</td></tr>\n",
       "<tr><td>H2O connection proxy:</td>\n",
       "<td>{'http': None, 'https': None}</td></tr>\n",
       "<tr><td>H2O internal security:</td>\n",
       "<td>False</td></tr>\n",
       "<tr><td>H2O API Extensions:</td>\n",
       "<td>Amazon S3, XGBoost, Algos, AutoML, Core V3, TargetEncoder, Core V4</td></tr>\n",
       "<tr><td>Python version:</td>\n",
       "<td>3.6.6 final</td></tr></table></div>"
      ],
      "text/plain": [
       "--------------------------  ------------------------------------------------------------------\n",
       "H2O cluster uptime:         02 secs\n",
       "H2O cluster timezone:       Europe/Helsinki\n",
       "H2O data parsing timezone:  UTC\n",
       "H2O cluster version:        3.26.0.8\n",
       "H2O cluster version age:    4 days\n",
       "H2O cluster name:           #1002807970\n",
       "H2O cluster total nodes:    1\n",
       "H2O cluster free memory:    26.67 Gb\n",
       "H2O cluster total cores:    16\n",
       "H2O cluster allowed cores:  16\n",
       "H2O cluster status:         accepting new members, healthy\n",
       "H2O connection url:         http://127.0.0.1:54335\n",
       "H2O connection proxy:       {'http': None, 'https': None}\n",
       "H2O internal security:      False\n",
       "H2O API Extensions:         Amazon S3, XGBoost, Algos, AutoML, Core V3, TargetEncoder, Core V4\n",
       "Python version:             3.6.6 final\n",
       "--------------------------  ------------------------------------------------------------------"
      ]
     },
     "metadata": {},
     "output_type": "display_data"
    },
    {
     "name": "stdout",
     "output_type": "stream",
     "text": [
      "\n"
     ]
    },
    {
     "name": "stdout",
     "output_type": "stream",
     "text": [
      "147.30316128333334 minutes have elapsed. TPOT will close down.\n",
      "TPOT closed during evaluation in one generation.\n",
      "WARNING: TPOT may not provide a good pipeline if TPOT is stopped/interrupted in a early generation."
     ]
    },
    {
     "name": "stdout",
     "output_type": "stream",
     "text": [
      "\n"
     ]
    },
    {
     "name": "stdout",
     "output_type": "stream",
     "text": [
      "\n"
     ]
    },
    {
     "name": "stdout",
     "output_type": "stream",
     "text": [
      "\n",
      "TPOT closed prematurely. Will use the current best pipeline."
     ]
    },
    {
     "name": "stdout",
     "output_type": "stream",
     "text": [
      "\n"
     ]
    },
    {
     "name": "stdout",
     "output_type": "stream",
     "text": [
      "Best pipeline:"
     ]
    },
    {
     "name": "stdout",
     "output_type": "stream",
     "text": [
      " "
     ]
    },
    {
     "name": "stdout",
     "output_type": "stream",
     "text": [
      "LogisticRegression(PolynomialFeatures(input_matrix, degree=2, include_bias=False, interaction_only=False), C=10.0, dual=False, penalty=l2)"
     ]
    },
    {
     "name": "stdout",
     "output_type": "stream",
     "text": [
      "\n"
     ]
    },
    {
     "name": "stdout",
     "output_type": "stream",
     "text": [
      "H2O session _sid_81df closed."
     ]
    },
    {
     "name": "stdout",
     "output_type": "stream",
     "text": [
      "\n"
     ]
    },
    {
     "name": "stdout",
     "output_type": "stream",
     "text": [
      "Checking whether there is an H2O instance running at http://localhost:54321 "
     ]
    },
    {
     "name": "stdout",
     "output_type": "stream",
     "text": [
      "."
     ]
    },
    {
     "name": "stdout",
     "output_type": "stream",
     "text": [
      "."
     ]
    },
    {
     "name": "stdout",
     "output_type": "stream",
     "text": [
      "."
     ]
    },
    {
     "name": "stdout",
     "output_type": "stream",
     "text": [
      "."
     ]
    },
    {
     "name": "stdout",
     "output_type": "stream",
     "text": [
      "."
     ]
    },
    {
     "name": "stdout",
     "output_type": "stream",
     "text": [
      " not found."
     ]
    },
    {
     "name": "stdout",
     "output_type": "stream",
     "text": [
      "\n"
     ]
    },
    {
     "name": "stdout",
     "output_type": "stream",
     "text": [
      "Attempting to start a local H2O server..."
     ]
    },
    {
     "name": "stdout",
     "output_type": "stream",
     "text": [
      "\n"
     ]
    },
    {
     "name": "stdout",
     "output_type": "stream",
     "text": [
      "  Java Version: openjdk version \"1.8.0_222\"; OpenJDK Runtime Environment (build 1.8.0_222-b10); OpenJDK 64-Bit Server VM (build 25.222-b10, mixed mode)"
     ]
    },
    {
     "name": "stdout",
     "output_type": "stream",
     "text": [
      "\n"
     ]
    },
    {
     "name": "stdout",
     "output_type": "stream",
     "text": [
      "  Starting server from /wrk/users/thalvari/dpEmu/venv/lib/python3.6/site-packages/h2o/backend/bin/h2o.jar"
     ]
    },
    {
     "name": "stdout",
     "output_type": "stream",
     "text": [
      "\n"
     ]
    },
    {
     "name": "stdout",
     "output_type": "stream",
     "text": [
      "  Ice root: /wrk/users/thalvari/tmpf5vlakgh"
     ]
    },
    {
     "name": "stdout",
     "output_type": "stream",
     "text": [
      "\n"
     ]
    },
    {
     "name": "stdout",
     "output_type": "stream",
     "text": [
      "  JVM stdout: /wrk/users/thalvari/tmpf5vlakgh/h2o_thalvari_started_from_python.out"
     ]
    },
    {
     "name": "stdout",
     "output_type": "stream",
     "text": [
      "\n"
     ]
    },
    {
     "name": "stdout",
     "output_type": "stream",
     "text": [
      "  JVM stderr: /wrk/users/thalvari/tmpf5vlakgh/h2o_thalvari_started_from_python.err"
     ]
    },
    {
     "name": "stdout",
     "output_type": "stream",
     "text": [
      "\n"
     ]
    },
    {
     "name": "stdout",
     "output_type": "stream",
     "text": [
      "  Server is running at http://127.0.0.1:54333"
     ]
    },
    {
     "name": "stdout",
     "output_type": "stream",
     "text": [
      "\n"
     ]
    },
    {
     "name": "stdout",
     "output_type": "stream",
     "text": [
      "Connecting to H2O server at http://127.0.0.1:54333 .."
     ]
    },
    {
     "name": "stdout",
     "output_type": "stream",
     "text": [
      "."
     ]
    },
    {
     "name": "stdout",
     "output_type": "stream",
     "text": [
      " successful."
     ]
    },
    {
     "name": "stdout",
     "output_type": "stream",
     "text": [
      "\n"
     ]
    },
    {
     "data": {
      "text/html": [
       "<div style=\"overflow:auto\"><table style=\"width:50%\"><tr><td>H2O cluster uptime:</td>\n",
       "<td>01 secs</td></tr>\n",
       "<tr><td>H2O cluster timezone:</td>\n",
       "<td>Europe/Helsinki</td></tr>\n",
       "<tr><td>H2O data parsing timezone:</td>\n",
       "<td>UTC</td></tr>\n",
       "<tr><td>H2O cluster version:</td>\n",
       "<td>3.26.0.8</td></tr>\n",
       "<tr><td>H2O cluster version age:</td>\n",
       "<td>4 days </td></tr>\n",
       "<tr><td>H2O cluster name:</td>\n",
       "<td>#495738534</td></tr>\n",
       "<tr><td>H2O cluster total nodes:</td>\n",
       "<td>1</td></tr>\n",
       "<tr><td>H2O cluster free memory:</td>\n",
       "<td>26.67 Gb</td></tr>\n",
       "<tr><td>H2O cluster total cores:</td>\n",
       "<td>16</td></tr>\n",
       "<tr><td>H2O cluster allowed cores:</td>\n",
       "<td>16</td></tr>\n",
       "<tr><td>H2O cluster status:</td>\n",
       "<td>accepting new members, healthy</td></tr>\n",
       "<tr><td>H2O connection url:</td>\n",
       "<td>http://127.0.0.1:54333</td></tr>\n",
       "<tr><td>H2O connection proxy:</td>\n",
       "<td>{'http': None, 'https': None}</td></tr>\n",
       "<tr><td>H2O internal security:</td>\n",
       "<td>False</td></tr>\n",
       "<tr><td>H2O API Extensions:</td>\n",
       "<td>Amazon S3, XGBoost, Algos, AutoML, Core V3, TargetEncoder, Core V4</td></tr>\n",
       "<tr><td>Python version:</td>\n",
       "<td>3.6.6 final</td></tr></table></div>"
      ],
      "text/plain": [
       "--------------------------  ------------------------------------------------------------------\n",
       "H2O cluster uptime:         01 secs\n",
       "H2O cluster timezone:       Europe/Helsinki\n",
       "H2O data parsing timezone:  UTC\n",
       "H2O cluster version:        3.26.0.8\n",
       "H2O cluster version age:    4 days\n",
       "H2O cluster name:           #495738534\n",
       "H2O cluster total nodes:    1\n",
       "H2O cluster free memory:    26.67 Gb\n",
       "H2O cluster total cores:    16\n",
       "H2O cluster allowed cores:  16\n",
       "H2O cluster status:         accepting new members, healthy\n",
       "H2O connection url:         http://127.0.0.1:54333\n",
       "H2O connection proxy:       {'http': None, 'https': None}\n",
       "H2O internal security:      False\n",
       "H2O API Extensions:         Amazon S3, XGBoost, Algos, AutoML, Core V3, TargetEncoder, Core V4\n",
       "Python version:             3.6.6 final\n",
       "--------------------------  ------------------------------------------------------------------"
      ]
     },
     "metadata": {},
     "output_type": "display_data"
    },
    {
     "name": "stdout",
     "output_type": "stream",
     "text": [
      "H2O session _sid_a361 closed."
     ]
    },
    {
     "name": "stdout",
     "output_type": "stream",
     "text": [
      "\n"
     ]
    },
    {
     "name": "stdout",
     "output_type": "stream",
     "text": [
      "Checking whether there is an H2O instance running at http://localhost:54321 "
     ]
    },
    {
     "name": "stdout",
     "output_type": "stream",
     "text": [
      "."
     ]
    },
    {
     "name": "stdout",
     "output_type": "stream",
     "text": [
      "."
     ]
    },
    {
     "name": "stdout",
     "output_type": "stream",
     "text": [
      "."
     ]
    },
    {
     "name": "stdout",
     "output_type": "stream",
     "text": [
      "."
     ]
    },
    {
     "name": "stdout",
     "output_type": "stream",
     "text": [
      "."
     ]
    },
    {
     "name": "stdout",
     "output_type": "stream",
     "text": [
      " not found."
     ]
    },
    {
     "name": "stdout",
     "output_type": "stream",
     "text": [
      "\n"
     ]
    },
    {
     "name": "stdout",
     "output_type": "stream",
     "text": [
      "Attempting to start a local H2O server..."
     ]
    },
    {
     "name": "stdout",
     "output_type": "stream",
     "text": [
      "\n"
     ]
    },
    {
     "name": "stdout",
     "output_type": "stream",
     "text": [
      "  Java Version: openjdk version \"1.8.0_222\"; OpenJDK Runtime Environment (build 1.8.0_222-b10); OpenJDK 64-Bit Server VM (build 25.222-b10, mixed mode)"
     ]
    },
    {
     "name": "stdout",
     "output_type": "stream",
     "text": [
      "\n"
     ]
    },
    {
     "name": "stdout",
     "output_type": "stream",
     "text": [
      "  Starting server from /wrk/users/thalvari/dpEmu/venv/lib/python3.6/site-packages/h2o/backend/bin/h2o.jar"
     ]
    },
    {
     "name": "stdout",
     "output_type": "stream",
     "text": [
      "\n"
     ]
    },
    {
     "name": "stdout",
     "output_type": "stream",
     "text": [
      "  Ice root: /wrk/users/thalvari/tmpvch4d8my"
     ]
    },
    {
     "name": "stdout",
     "output_type": "stream",
     "text": [
      "\n"
     ]
    },
    {
     "name": "stdout",
     "output_type": "stream",
     "text": [
      "  JVM stdout: /wrk/users/thalvari/tmpvch4d8my/h2o_thalvari_started_from_python.out"
     ]
    },
    {
     "name": "stdout",
     "output_type": "stream",
     "text": [
      "\n"
     ]
    },
    {
     "name": "stdout",
     "output_type": "stream",
     "text": [
      "  JVM stderr: /wrk/users/thalvari/tmpvch4d8my/h2o_thalvari_started_from_python.err"
     ]
    },
    {
     "name": "stdout",
     "output_type": "stream",
     "text": [
      "\n"
     ]
    },
    {
     "name": "stdout",
     "output_type": "stream",
     "text": [
      "  Server is running at http://127.0.0.1:54321"
     ]
    },
    {
     "name": "stdout",
     "output_type": "stream",
     "text": [
      "\n"
     ]
    },
    {
     "name": "stdout",
     "output_type": "stream",
     "text": [
      "Connecting to H2O server at http://127.0.0.1:54321 .."
     ]
    },
    {
     "name": "stdout",
     "output_type": "stream",
     "text": [
      "."
     ]
    },
    {
     "name": "stdout",
     "output_type": "stream",
     "text": [
      " successful."
     ]
    },
    {
     "name": "stdout",
     "output_type": "stream",
     "text": [
      "\n"
     ]
    },
    {
     "data": {
      "text/html": [
       "<div style=\"overflow:auto\"><table style=\"width:50%\"><tr><td>H2O cluster uptime:</td>\n",
       "<td>04 secs</td></tr>\n",
       "<tr><td>H2O cluster timezone:</td>\n",
       "<td>Europe/Helsinki</td></tr>\n",
       "<tr><td>H2O data parsing timezone:</td>\n",
       "<td>UTC</td></tr>\n",
       "<tr><td>H2O cluster version:</td>\n",
       "<td>3.26.0.8</td></tr>\n",
       "<tr><td>H2O cluster version age:</td>\n",
       "<td>4 days </td></tr>\n",
       "<tr><td>H2O cluster name:</td>\n",
       "<td>#554925828</td></tr>\n",
       "<tr><td>H2O cluster total nodes:</td>\n",
       "<td>1</td></tr>\n",
       "<tr><td>H2O cluster free memory:</td>\n",
       "<td>26.63 Gb</td></tr>\n",
       "<tr><td>H2O cluster total cores:</td>\n",
       "<td>16</td></tr>\n",
       "<tr><td>H2O cluster allowed cores:</td>\n",
       "<td>16</td></tr>\n",
       "<tr><td>H2O cluster status:</td>\n",
       "<td>accepting new members, healthy</td></tr>\n",
       "<tr><td>H2O connection url:</td>\n",
       "<td>http://127.0.0.1:54321</td></tr>\n",
       "<tr><td>H2O connection proxy:</td>\n",
       "<td>{'http': None, 'https': None}</td></tr>\n",
       "<tr><td>H2O internal security:</td>\n",
       "<td>False</td></tr>\n",
       "<tr><td>H2O API Extensions:</td>\n",
       "<td>Amazon S3, XGBoost, Algos, AutoML, Core V3, TargetEncoder, Core V4</td></tr>\n",
       "<tr><td>Python version:</td>\n",
       "<td>3.6.6 final</td></tr></table></div>"
      ],
      "text/plain": [
       "--------------------------  ------------------------------------------------------------------\n",
       "H2O cluster uptime:         04 secs\n",
       "H2O cluster timezone:       Europe/Helsinki\n",
       "H2O data parsing timezone:  UTC\n",
       "H2O cluster version:        3.26.0.8\n",
       "H2O cluster version age:    4 days\n",
       "H2O cluster name:           #554925828\n",
       "H2O cluster total nodes:    1\n",
       "H2O cluster free memory:    26.63 Gb\n",
       "H2O cluster total cores:    16\n",
       "H2O cluster allowed cores:  16\n",
       "H2O cluster status:         accepting new members, healthy\n",
       "H2O connection url:         http://127.0.0.1:54321\n",
       "H2O connection proxy:       {'http': None, 'https': None}\n",
       "H2O internal security:      False\n",
       "H2O API Extensions:         Amazon S3, XGBoost, Algos, AutoML, Core V3, TargetEncoder, Core V4\n",
       "Python version:             3.6.6 final\n",
       "--------------------------  ------------------------------------------------------------------"
      ]
     },
     "metadata": {},
     "output_type": "display_data"
    },
    {
     "name": "stdout",
     "output_type": "stream",
     "text": [
      "H2O session _sid_a1fe closed."
     ]
    },
    {
     "name": "stdout",
     "output_type": "stream",
     "text": [
      "\n"
     ]
    },
    {
     "name": "stdout",
     "output_type": "stream",
     "text": [
      "Checking whether there is an H2O instance running at http://localhost:54321 "
     ]
    },
    {
     "name": "stdout",
     "output_type": "stream",
     "text": [
      "."
     ]
    },
    {
     "name": "stdout",
     "output_type": "stream",
     "text": [
      "."
     ]
    },
    {
     "name": "stdout",
     "output_type": "stream",
     "text": [
      "."
     ]
    },
    {
     "name": "stdout",
     "output_type": "stream",
     "text": [
      "."
     ]
    },
    {
     "name": "stdout",
     "output_type": "stream",
     "text": [
      "."
     ]
    },
    {
     "name": "stdout",
     "output_type": "stream",
     "text": [
      " not found."
     ]
    },
    {
     "name": "stdout",
     "output_type": "stream",
     "text": [
      "\n"
     ]
    },
    {
     "name": "stdout",
     "output_type": "stream",
     "text": [
      "Attempting to start a local H2O server..."
     ]
    },
    {
     "name": "stdout",
     "output_type": "stream",
     "text": [
      "\n"
     ]
    },
    {
     "name": "stdout",
     "output_type": "stream",
     "text": [
      "  Java Version: openjdk version \"1.8.0_222\"; OpenJDK Runtime Environment (build 1.8.0_222-b10); OpenJDK 64-Bit Server VM (build 25.222-b10, mixed mode)"
     ]
    },
    {
     "name": "stdout",
     "output_type": "stream",
     "text": [
      "\n"
     ]
    },
    {
     "name": "stdout",
     "output_type": "stream",
     "text": [
      "  Starting server from /wrk/users/thalvari/dpEmu/venv/lib/python3.6/site-packages/h2o/backend/bin/h2o.jar"
     ]
    },
    {
     "name": "stdout",
     "output_type": "stream",
     "text": [
      "\n"
     ]
    },
    {
     "name": "stdout",
     "output_type": "stream",
     "text": [
      "  Ice root: /wrk/users/thalvari/tmpltvrec47"
     ]
    },
    {
     "name": "stdout",
     "output_type": "stream",
     "text": [
      "\n"
     ]
    },
    {
     "name": "stdout",
     "output_type": "stream",
     "text": [
      "  JVM stdout: /wrk/users/thalvari/tmpltvrec47/h2o_thalvari_started_from_python.out"
     ]
    },
    {
     "name": "stdout",
     "output_type": "stream",
     "text": [
      "\n"
     ]
    },
    {
     "name": "stdout",
     "output_type": "stream",
     "text": [
      "  JVM stderr: /wrk/users/thalvari/tmpltvrec47/h2o_thalvari_started_from_python.err"
     ]
    },
    {
     "name": "stdout",
     "output_type": "stream",
     "text": [
      "\n"
     ]
    },
    {
     "name": "stdout",
     "output_type": "stream",
     "text": [
      "  Server is running at http://127.0.0.1:54323"
     ]
    },
    {
     "name": "stdout",
     "output_type": "stream",
     "text": [
      "\n"
     ]
    },
    {
     "name": "stdout",
     "output_type": "stream",
     "text": [
      "Connecting to H2O server at http://127.0.0.1:54323 .."
     ]
    },
    {
     "name": "stdout",
     "output_type": "stream",
     "text": [
      "."
     ]
    },
    {
     "name": "stdout",
     "output_type": "stream",
     "text": [
      " successful."
     ]
    },
    {
     "name": "stdout",
     "output_type": "stream",
     "text": [
      "\n"
     ]
    },
    {
     "data": {
      "text/html": [
       "<div style=\"overflow:auto\"><table style=\"width:50%\"><tr><td>H2O cluster uptime:</td>\n",
       "<td>02 secs</td></tr>\n",
       "<tr><td>H2O cluster timezone:</td>\n",
       "<td>Europe/Helsinki</td></tr>\n",
       "<tr><td>H2O data parsing timezone:</td>\n",
       "<td>UTC</td></tr>\n",
       "<tr><td>H2O cluster version:</td>\n",
       "<td>3.26.0.8</td></tr>\n",
       "<tr><td>H2O cluster version age:</td>\n",
       "<td>4 days </td></tr>\n",
       "<tr><td>H2O cluster name:</td>\n",
       "<td>#840519436</td></tr>\n",
       "<tr><td>H2O cluster total nodes:</td>\n",
       "<td>1</td></tr>\n",
       "<tr><td>H2O cluster free memory:</td>\n",
       "<td>26.67 Gb</td></tr>\n",
       "<tr><td>H2O cluster total cores:</td>\n",
       "<td>16</td></tr>\n",
       "<tr><td>H2O cluster allowed cores:</td>\n",
       "<td>16</td></tr>\n",
       "<tr><td>H2O cluster status:</td>\n",
       "<td>accepting new members, healthy</td></tr>\n",
       "<tr><td>H2O connection url:</td>\n",
       "<td>http://127.0.0.1:54323</td></tr>\n",
       "<tr><td>H2O connection proxy:</td>\n",
       "<td>{'http': None, 'https': None}</td></tr>\n",
       "<tr><td>H2O internal security:</td>\n",
       "<td>False</td></tr>\n",
       "<tr><td>H2O API Extensions:</td>\n",
       "<td>Amazon S3, XGBoost, Algos, AutoML, Core V3, TargetEncoder, Core V4</td></tr>\n",
       "<tr><td>Python version:</td>\n",
       "<td>3.6.6 final</td></tr></table></div>"
      ],
      "text/plain": [
       "--------------------------  ------------------------------------------------------------------\n",
       "H2O cluster uptime:         02 secs\n",
       "H2O cluster timezone:       Europe/Helsinki\n",
       "H2O data parsing timezone:  UTC\n",
       "H2O cluster version:        3.26.0.8\n",
       "H2O cluster version age:    4 days\n",
       "H2O cluster name:           #840519436\n",
       "H2O cluster total nodes:    1\n",
       "H2O cluster free memory:    26.67 Gb\n",
       "H2O cluster total cores:    16\n",
       "H2O cluster allowed cores:  16\n",
       "H2O cluster status:         accepting new members, healthy\n",
       "H2O connection url:         http://127.0.0.1:54323\n",
       "H2O connection proxy:       {'http': None, 'https': None}\n",
       "H2O internal security:      False\n",
       "H2O API Extensions:         Amazon S3, XGBoost, Algos, AutoML, Core V3, TargetEncoder, Core V4\n",
       "Python version:             3.6.6 final\n",
       "--------------------------  ------------------------------------------------------------------"
      ]
     },
     "metadata": {},
     "output_type": "display_data"
    },
    {
     "name": "stdout",
     "output_type": "stream",
     "text": [
      "H2O session _sid_aea7 closed."
     ]
    },
    {
     "name": "stdout",
     "output_type": "stream",
     "text": [
      "\n"
     ]
    },
    {
     "name": "stdout",
     "output_type": "stream",
     "text": [
      "Checking whether there is an H2O instance running at http://localhost:54321 "
     ]
    },
    {
     "name": "stdout",
     "output_type": "stream",
     "text": [
      "."
     ]
    },
    {
     "name": "stdout",
     "output_type": "stream",
     "text": [
      "."
     ]
    },
    {
     "name": "stdout",
     "output_type": "stream",
     "text": [
      "."
     ]
    },
    {
     "name": "stdout",
     "output_type": "stream",
     "text": [
      "."
     ]
    },
    {
     "name": "stdout",
     "output_type": "stream",
     "text": [
      "."
     ]
    },
    {
     "name": "stdout",
     "output_type": "stream",
     "text": [
      " not found."
     ]
    },
    {
     "name": "stdout",
     "output_type": "stream",
     "text": [
      "\n"
     ]
    },
    {
     "name": "stdout",
     "output_type": "stream",
     "text": [
      "Attempting to start a local H2O server..."
     ]
    },
    {
     "name": "stdout",
     "output_type": "stream",
     "text": [
      "\n"
     ]
    },
    {
     "name": "stdout",
     "output_type": "stream",
     "text": [
      "  Java Version: openjdk version \"1.8.0_222\"; OpenJDK Runtime Environment (build 1.8.0_222-b10); OpenJDK 64-Bit Server VM (build 25.222-b10, mixed mode)"
     ]
    },
    {
     "name": "stdout",
     "output_type": "stream",
     "text": [
      "\n"
     ]
    },
    {
     "name": "stdout",
     "output_type": "stream",
     "text": [
      "  Starting server from /wrk/users/thalvari/dpEmu/venv/lib/python3.6/site-packages/h2o/backend/bin/h2o.jar"
     ]
    },
    {
     "name": "stdout",
     "output_type": "stream",
     "text": [
      "\n"
     ]
    },
    {
     "name": "stdout",
     "output_type": "stream",
     "text": [
      "  Ice root: /wrk/users/thalvari/tmp7rltvask"
     ]
    },
    {
     "name": "stdout",
     "output_type": "stream",
     "text": [
      "\n"
     ]
    },
    {
     "name": "stdout",
     "output_type": "stream",
     "text": [
      "  JVM stdout: /wrk/users/thalvari/tmp7rltvask/h2o_thalvari_started_from_python.out"
     ]
    },
    {
     "name": "stdout",
     "output_type": "stream",
     "text": [
      "\n"
     ]
    },
    {
     "name": "stdout",
     "output_type": "stream",
     "text": [
      "  JVM stderr: /wrk/users/thalvari/tmp7rltvask/h2o_thalvari_started_from_python.err"
     ]
    },
    {
     "name": "stdout",
     "output_type": "stream",
     "text": [
      "\n"
     ]
    },
    {
     "name": "stdout",
     "output_type": "stream",
     "text": [
      "  Server is running at http://127.0.0.1:54325"
     ]
    },
    {
     "name": "stdout",
     "output_type": "stream",
     "text": [
      "\n"
     ]
    },
    {
     "name": "stdout",
     "output_type": "stream",
     "text": [
      "Connecting to H2O server at http://127.0.0.1:54325 .."
     ]
    },
    {
     "name": "stdout",
     "output_type": "stream",
     "text": [
      "."
     ]
    },
    {
     "name": "stdout",
     "output_type": "stream",
     "text": [
      " successful."
     ]
    },
    {
     "name": "stdout",
     "output_type": "stream",
     "text": [
      "\n"
     ]
    },
    {
     "data": {
      "text/html": [
       "<div style=\"overflow:auto\"><table style=\"width:50%\"><tr><td>H2O cluster uptime:</td>\n",
       "<td>02 secs</td></tr>\n",
       "<tr><td>H2O cluster timezone:</td>\n",
       "<td>Europe/Helsinki</td></tr>\n",
       "<tr><td>H2O data parsing timezone:</td>\n",
       "<td>UTC</td></tr>\n",
       "<tr><td>H2O cluster version:</td>\n",
       "<td>3.26.0.8</td></tr>\n",
       "<tr><td>H2O cluster version age:</td>\n",
       "<td>4 days </td></tr>\n",
       "<tr><td>H2O cluster name:</td>\n",
       "<td>#969460466</td></tr>\n",
       "<tr><td>H2O cluster total nodes:</td>\n",
       "<td>1</td></tr>\n",
       "<tr><td>H2O cluster free memory:</td>\n",
       "<td>26.64 Gb</td></tr>\n",
       "<tr><td>H2O cluster total cores:</td>\n",
       "<td>16</td></tr>\n",
       "<tr><td>H2O cluster allowed cores:</td>\n",
       "<td>16</td></tr>\n",
       "<tr><td>H2O cluster status:</td>\n",
       "<td>accepting new members, healthy</td></tr>\n",
       "<tr><td>H2O connection url:</td>\n",
       "<td>http://127.0.0.1:54325</td></tr>\n",
       "<tr><td>H2O connection proxy:</td>\n",
       "<td>{'http': None, 'https': None}</td></tr>\n",
       "<tr><td>H2O internal security:</td>\n",
       "<td>False</td></tr>\n",
       "<tr><td>H2O API Extensions:</td>\n",
       "<td>Amazon S3, XGBoost, Algos, AutoML, Core V3, TargetEncoder, Core V4</td></tr>\n",
       "<tr><td>Python version:</td>\n",
       "<td>3.6.6 final</td></tr></table></div>"
      ],
      "text/plain": [
       "--------------------------  ------------------------------------------------------------------\n",
       "H2O cluster uptime:         02 secs\n",
       "H2O cluster timezone:       Europe/Helsinki\n",
       "H2O data parsing timezone:  UTC\n",
       "H2O cluster version:        3.26.0.8\n",
       "H2O cluster version age:    4 days\n",
       "H2O cluster name:           #969460466\n",
       "H2O cluster total nodes:    1\n",
       "H2O cluster free memory:    26.64 Gb\n",
       "H2O cluster total cores:    16\n",
       "H2O cluster allowed cores:  16\n",
       "H2O cluster status:         accepting new members, healthy\n",
       "H2O connection url:         http://127.0.0.1:54325\n",
       "H2O connection proxy:       {'http': None, 'https': None}\n",
       "H2O internal security:      False\n",
       "H2O API Extensions:         Amazon S3, XGBoost, Algos, AutoML, Core V3, TargetEncoder, Core V4\n",
       "Python version:             3.6.6 final\n",
       "--------------------------  ------------------------------------------------------------------"
      ]
     },
     "metadata": {},
     "output_type": "display_data"
    },
    {
     "name": "stdout",
     "output_type": "stream",
     "text": [
      "H2O session _sid_bf7a closed."
     ]
    },
    {
     "name": "stdout",
     "output_type": "stream",
     "text": [
      "\n"
     ]
    },
    {
     "name": "stdout",
     "output_type": "stream",
     "text": [
      "Checking whether there is an H2O instance running at http://localhost:54321 "
     ]
    },
    {
     "name": "stdout",
     "output_type": "stream",
     "text": [
      "."
     ]
    },
    {
     "name": "stdout",
     "output_type": "stream",
     "text": [
      "."
     ]
    },
    {
     "name": "stdout",
     "output_type": "stream",
     "text": [
      "."
     ]
    },
    {
     "name": "stdout",
     "output_type": "stream",
     "text": [
      "."
     ]
    },
    {
     "name": "stdout",
     "output_type": "stream",
     "text": [
      "."
     ]
    },
    {
     "name": "stdout",
     "output_type": "stream",
     "text": [
      " not found."
     ]
    },
    {
     "name": "stdout",
     "output_type": "stream",
     "text": [
      "\n"
     ]
    },
    {
     "name": "stdout",
     "output_type": "stream",
     "text": [
      "Attempting to start a local H2O server..."
     ]
    },
    {
     "name": "stdout",
     "output_type": "stream",
     "text": [
      "\n"
     ]
    },
    {
     "name": "stdout",
     "output_type": "stream",
     "text": [
      "  Java Version: openjdk version \"1.8.0_222\"; OpenJDK Runtime Environment (build 1.8.0_222-b10); OpenJDK 64-Bit Server VM (build 25.222-b10, mixed mode)"
     ]
    },
    {
     "name": "stdout",
     "output_type": "stream",
     "text": [
      "\n"
     ]
    },
    {
     "name": "stdout",
     "output_type": "stream",
     "text": [
      "  Starting server from /wrk/users/thalvari/dpEmu/venv/lib/python3.6/site-packages/h2o/backend/bin/h2o.jar"
     ]
    },
    {
     "name": "stdout",
     "output_type": "stream",
     "text": [
      "\n"
     ]
    },
    {
     "name": "stdout",
     "output_type": "stream",
     "text": [
      "  Ice root: /wrk/users/thalvari/tmpjgl75sz3"
     ]
    },
    {
     "name": "stdout",
     "output_type": "stream",
     "text": [
      "\n"
     ]
    },
    {
     "name": "stdout",
     "output_type": "stream",
     "text": [
      "  JVM stdout: /wrk/users/thalvari/tmpjgl75sz3/h2o_thalvari_started_from_python.out"
     ]
    },
    {
     "name": "stdout",
     "output_type": "stream",
     "text": [
      "\n"
     ]
    },
    {
     "name": "stdout",
     "output_type": "stream",
     "text": [
      "  JVM stderr: /wrk/users/thalvari/tmpjgl75sz3/h2o_thalvari_started_from_python.err"
     ]
    },
    {
     "name": "stdout",
     "output_type": "stream",
     "text": [
      "\n"
     ]
    },
    {
     "name": "stdout",
     "output_type": "stream",
     "text": [
      "  Server is running at http://127.0.0.1:54327"
     ]
    },
    {
     "name": "stdout",
     "output_type": "stream",
     "text": [
      "\n"
     ]
    },
    {
     "name": "stdout",
     "output_type": "stream",
     "text": [
      "Connecting to H2O server at http://127.0.0.1:54327 .."
     ]
    },
    {
     "name": "stdout",
     "output_type": "stream",
     "text": [
      "."
     ]
    },
    {
     "name": "stdout",
     "output_type": "stream",
     "text": [
      " successful."
     ]
    },
    {
     "name": "stdout",
     "output_type": "stream",
     "text": [
      "\n"
     ]
    },
    {
     "data": {
      "text/html": [
       "<div style=\"overflow:auto\"><table style=\"width:50%\"><tr><td>H2O cluster uptime:</td>\n",
       "<td>04 secs</td></tr>\n",
       "<tr><td>H2O cluster timezone:</td>\n",
       "<td>Europe/Helsinki</td></tr>\n",
       "<tr><td>H2O data parsing timezone:</td>\n",
       "<td>UTC</td></tr>\n",
       "<tr><td>H2O cluster version:</td>\n",
       "<td>3.26.0.8</td></tr>\n",
       "<tr><td>H2O cluster version age:</td>\n",
       "<td>4 days </td></tr>\n",
       "<tr><td>H2O cluster name:</td>\n",
       "<td>#913791845</td></tr>\n",
       "<tr><td>H2O cluster total nodes:</td>\n",
       "<td>1</td></tr>\n",
       "<tr><td>H2O cluster free memory:</td>\n",
       "<td>26.64 Gb</td></tr>\n",
       "<tr><td>H2O cluster total cores:</td>\n",
       "<td>16</td></tr>\n",
       "<tr><td>H2O cluster allowed cores:</td>\n",
       "<td>16</td></tr>\n",
       "<tr><td>H2O cluster status:</td>\n",
       "<td>accepting new members, healthy</td></tr>\n",
       "<tr><td>H2O connection url:</td>\n",
       "<td>http://127.0.0.1:54327</td></tr>\n",
       "<tr><td>H2O connection proxy:</td>\n",
       "<td>{'http': None, 'https': None}</td></tr>\n",
       "<tr><td>H2O internal security:</td>\n",
       "<td>False</td></tr>\n",
       "<tr><td>H2O API Extensions:</td>\n",
       "<td>Amazon S3, XGBoost, Algos, AutoML, Core V3, TargetEncoder, Core V4</td></tr>\n",
       "<tr><td>Python version:</td>\n",
       "<td>3.6.6 final</td></tr></table></div>"
      ],
      "text/plain": [
       "--------------------------  ------------------------------------------------------------------\n",
       "H2O cluster uptime:         04 secs\n",
       "H2O cluster timezone:       Europe/Helsinki\n",
       "H2O data parsing timezone:  UTC\n",
       "H2O cluster version:        3.26.0.8\n",
       "H2O cluster version age:    4 days\n",
       "H2O cluster name:           #913791845\n",
       "H2O cluster total nodes:    1\n",
       "H2O cluster free memory:    26.64 Gb\n",
       "H2O cluster total cores:    16\n",
       "H2O cluster allowed cores:  16\n",
       "H2O cluster status:         accepting new members, healthy\n",
       "H2O connection url:         http://127.0.0.1:54327\n",
       "H2O connection proxy:       {'http': None, 'https': None}\n",
       "H2O internal security:      False\n",
       "H2O API Extensions:         Amazon S3, XGBoost, Algos, AutoML, Core V3, TargetEncoder, Core V4\n",
       "Python version:             3.6.6 final\n",
       "--------------------------  ------------------------------------------------------------------"
      ]
     },
     "metadata": {},
     "output_type": "display_data"
    },
    {
     "name": "stdout",
     "output_type": "stream",
     "text": [
      "H2O session _sid_aa2c closed."
     ]
    },
    {
     "name": "stdout",
     "output_type": "stream",
     "text": [
      "\n"
     ]
    },
    {
     "name": "stdout",
     "output_type": "stream",
     "text": [
      "Checking whether there is an H2O instance running at http://localhost:54321 "
     ]
    },
    {
     "name": "stdout",
     "output_type": "stream",
     "text": [
      "."
     ]
    },
    {
     "name": "stdout",
     "output_type": "stream",
     "text": [
      "."
     ]
    },
    {
     "name": "stdout",
     "output_type": "stream",
     "text": [
      "."
     ]
    },
    {
     "name": "stdout",
     "output_type": "stream",
     "text": [
      "."
     ]
    },
    {
     "name": "stdout",
     "output_type": "stream",
     "text": [
      "."
     ]
    },
    {
     "name": "stdout",
     "output_type": "stream",
     "text": [
      " not found."
     ]
    },
    {
     "name": "stdout",
     "output_type": "stream",
     "text": [
      "\n"
     ]
    },
    {
     "name": "stdout",
     "output_type": "stream",
     "text": [
      "Attempting to start a local H2O server..."
     ]
    },
    {
     "name": "stdout",
     "output_type": "stream",
     "text": [
      "\n"
     ]
    },
    {
     "name": "stdout",
     "output_type": "stream",
     "text": [
      "  Java Version: openjdk version \"1.8.0_222\"; OpenJDK Runtime Environment (build 1.8.0_222-b10); OpenJDK 64-Bit Server VM (build 25.222-b10, mixed mode)"
     ]
    },
    {
     "name": "stdout",
     "output_type": "stream",
     "text": [
      "\n"
     ]
    },
    {
     "name": "stdout",
     "output_type": "stream",
     "text": [
      "  Starting server from /wrk/users/thalvari/dpEmu/venv/lib/python3.6/site-packages/h2o/backend/bin/h2o.jar"
     ]
    },
    {
     "name": "stdout",
     "output_type": "stream",
     "text": [
      "\n"
     ]
    },
    {
     "name": "stdout",
     "output_type": "stream",
     "text": [
      "  Ice root: /wrk/users/thalvari/tmpkv_dke3r"
     ]
    },
    {
     "name": "stdout",
     "output_type": "stream",
     "text": [
      "\n"
     ]
    },
    {
     "name": "stdout",
     "output_type": "stream",
     "text": [
      "  JVM stdout: /wrk/users/thalvari/tmpkv_dke3r/h2o_thalvari_started_from_python.out"
     ]
    },
    {
     "name": "stdout",
     "output_type": "stream",
     "text": [
      "\n"
     ]
    },
    {
     "name": "stdout",
     "output_type": "stream",
     "text": [
      "  JVM stderr: /wrk/users/thalvari/tmpkv_dke3r/h2o_thalvari_started_from_python.err"
     ]
    },
    {
     "name": "stdout",
     "output_type": "stream",
     "text": [
      "\n"
     ]
    },
    {
     "name": "stdout",
     "output_type": "stream",
     "text": [
      "  Server is running at http://127.0.0.1:54331"
     ]
    },
    {
     "name": "stdout",
     "output_type": "stream",
     "text": [
      "\n"
     ]
    },
    {
     "name": "stdout",
     "output_type": "stream",
     "text": [
      "Connecting to H2O server at http://127.0.0.1:54331 .."
     ]
    },
    {
     "name": "stdout",
     "output_type": "stream",
     "text": [
      "."
     ]
    },
    {
     "name": "stdout",
     "output_type": "stream",
     "text": [
      " successful."
     ]
    },
    {
     "name": "stdout",
     "output_type": "stream",
     "text": [
      "\n"
     ]
    },
    {
     "data": {
      "text/html": [
       "<div style=\"overflow:auto\"><table style=\"width:50%\"><tr><td>H2O cluster uptime:</td>\n",
       "<td>02 secs</td></tr>\n",
       "<tr><td>H2O cluster timezone:</td>\n",
       "<td>Europe/Helsinki</td></tr>\n",
       "<tr><td>H2O data parsing timezone:</td>\n",
       "<td>UTC</td></tr>\n",
       "<tr><td>H2O cluster version:</td>\n",
       "<td>3.26.0.8</td></tr>\n",
       "<tr><td>H2O cluster version age:</td>\n",
       "<td>4 days </td></tr>\n",
       "<tr><td>H2O cluster name:</td>\n",
       "<td>#783821304</td></tr>\n",
       "<tr><td>H2O cluster total nodes:</td>\n",
       "<td>1</td></tr>\n",
       "<tr><td>H2O cluster free memory:</td>\n",
       "<td>26.67 Gb</td></tr>\n",
       "<tr><td>H2O cluster total cores:</td>\n",
       "<td>16</td></tr>\n",
       "<tr><td>H2O cluster allowed cores:</td>\n",
       "<td>16</td></tr>\n",
       "<tr><td>H2O cluster status:</td>\n",
       "<td>accepting new members, healthy</td></tr>\n",
       "<tr><td>H2O connection url:</td>\n",
       "<td>http://127.0.0.1:54331</td></tr>\n",
       "<tr><td>H2O connection proxy:</td>\n",
       "<td>{'http': None, 'https': None}</td></tr>\n",
       "<tr><td>H2O internal security:</td>\n",
       "<td>False</td></tr>\n",
       "<tr><td>H2O API Extensions:</td>\n",
       "<td>Amazon S3, XGBoost, Algos, AutoML, Core V3, TargetEncoder, Core V4</td></tr>\n",
       "<tr><td>Python version:</td>\n",
       "<td>3.6.6 final</td></tr></table></div>"
      ],
      "text/plain": [
       "--------------------------  ------------------------------------------------------------------\n",
       "H2O cluster uptime:         02 secs\n",
       "H2O cluster timezone:       Europe/Helsinki\n",
       "H2O data parsing timezone:  UTC\n",
       "H2O cluster version:        3.26.0.8\n",
       "H2O cluster version age:    4 days\n",
       "H2O cluster name:           #783821304\n",
       "H2O cluster total nodes:    1\n",
       "H2O cluster free memory:    26.67 Gb\n",
       "H2O cluster total cores:    16\n",
       "H2O cluster allowed cores:  16\n",
       "H2O cluster status:         accepting new members, healthy\n",
       "H2O connection url:         http://127.0.0.1:54331\n",
       "H2O connection proxy:       {'http': None, 'https': None}\n",
       "H2O internal security:      False\n",
       "H2O API Extensions:         Amazon S3, XGBoost, Algos, AutoML, Core V3, TargetEncoder, Core V4\n",
       "Python version:             3.6.6 final\n",
       "--------------------------  ------------------------------------------------------------------"
      ]
     },
     "metadata": {},
     "output_type": "display_data"
    },
    {
     "name": "stdout",
     "output_type": "stream",
     "text": [
      "H2O session _sid_8936 closed."
     ]
    },
    {
     "name": "stdout",
     "output_type": "stream",
     "text": [
      "\n"
     ]
    },
    {
     "name": "stdout",
     "output_type": "stream",
     "text": [
      "Checking whether there is an H2O instance running at http://localhost:54321 "
     ]
    },
    {
     "name": "stdout",
     "output_type": "stream",
     "text": [
      "."
     ]
    },
    {
     "name": "stdout",
     "output_type": "stream",
     "text": [
      "."
     ]
    },
    {
     "name": "stdout",
     "output_type": "stream",
     "text": [
      "."
     ]
    },
    {
     "name": "stdout",
     "output_type": "stream",
     "text": [
      "."
     ]
    },
    {
     "name": "stdout",
     "output_type": "stream",
     "text": [
      "."
     ]
    },
    {
     "name": "stdout",
     "output_type": "stream",
     "text": [
      " not found."
     ]
    },
    {
     "name": "stdout",
     "output_type": "stream",
     "text": [
      "\n"
     ]
    },
    {
     "name": "stdout",
     "output_type": "stream",
     "text": [
      "Attempting to start a local H2O server..."
     ]
    },
    {
     "name": "stdout",
     "output_type": "stream",
     "text": [
      "\n"
     ]
    },
    {
     "name": "stdout",
     "output_type": "stream",
     "text": [
      "  Java Version: openjdk version \"1.8.0_222\"; OpenJDK Runtime Environment (build 1.8.0_222-b10); OpenJDK 64-Bit Server VM (build 25.222-b10, mixed mode)"
     ]
    },
    {
     "name": "stdout",
     "output_type": "stream",
     "text": [
      "\n"
     ]
    },
    {
     "name": "stdout",
     "output_type": "stream",
     "text": [
      "  Starting server from /wrk/users/thalvari/dpEmu/venv/lib/python3.6/site-packages/h2o/backend/bin/h2o.jar"
     ]
    },
    {
     "name": "stdout",
     "output_type": "stream",
     "text": [
      "\n"
     ]
    },
    {
     "name": "stdout",
     "output_type": "stream",
     "text": [
      "  Ice root: /wrk/users/thalvari/tmpo_y0ci8j"
     ]
    },
    {
     "name": "stdout",
     "output_type": "stream",
     "text": [
      "\n"
     ]
    },
    {
     "name": "stdout",
     "output_type": "stream",
     "text": [
      "  JVM stdout: /wrk/users/thalvari/tmpo_y0ci8j/h2o_thalvari_started_from_python.out"
     ]
    },
    {
     "name": "stdout",
     "output_type": "stream",
     "text": [
      "\n"
     ]
    },
    {
     "name": "stdout",
     "output_type": "stream",
     "text": [
      "  JVM stderr: /wrk/users/thalvari/tmpo_y0ci8j/h2o_thalvari_started_from_python.err"
     ]
    },
    {
     "name": "stdout",
     "output_type": "stream",
     "text": [
      "\n"
     ]
    },
    {
     "name": "stdout",
     "output_type": "stream",
     "text": [
      "  Server is running at http://127.0.0.1:54329"
     ]
    },
    {
     "name": "stdout",
     "output_type": "stream",
     "text": [
      "\n"
     ]
    },
    {
     "name": "stdout",
     "output_type": "stream",
     "text": [
      "Connecting to H2O server at http://127.0.0.1:54329 .."
     ]
    },
    {
     "name": "stdout",
     "output_type": "stream",
     "text": [
      "."
     ]
    },
    {
     "name": "stdout",
     "output_type": "stream",
     "text": [
      " successful."
     ]
    },
    {
     "name": "stdout",
     "output_type": "stream",
     "text": [
      "\n"
     ]
    },
    {
     "data": {
      "text/html": [
       "<div style=\"overflow:auto\"><table style=\"width:50%\"><tr><td>H2O cluster uptime:</td>\n",
       "<td>05 secs</td></tr>\n",
       "<tr><td>H2O cluster timezone:</td>\n",
       "<td>Europe/Helsinki</td></tr>\n",
       "<tr><td>H2O data parsing timezone:</td>\n",
       "<td>UTC</td></tr>\n",
       "<tr><td>H2O cluster version:</td>\n",
       "<td>3.26.0.8</td></tr>\n",
       "<tr><td>H2O cluster version age:</td>\n",
       "<td>4 days </td></tr>\n",
       "<tr><td>H2O cluster name:</td>\n",
       "<td>#691445177</td></tr>\n",
       "<tr><td>H2O cluster total nodes:</td>\n",
       "<td>1</td></tr>\n",
       "<tr><td>H2O cluster free memory:</td>\n",
       "<td>26.64 Gb</td></tr>\n",
       "<tr><td>H2O cluster total cores:</td>\n",
       "<td>16</td></tr>\n",
       "<tr><td>H2O cluster allowed cores:</td>\n",
       "<td>16</td></tr>\n",
       "<tr><td>H2O cluster status:</td>\n",
       "<td>accepting new members, healthy</td></tr>\n",
       "<tr><td>H2O connection url:</td>\n",
       "<td>http://127.0.0.1:54329</td></tr>\n",
       "<tr><td>H2O connection proxy:</td>\n",
       "<td>{'http': None, 'https': None}</td></tr>\n",
       "<tr><td>H2O internal security:</td>\n",
       "<td>False</td></tr>\n",
       "<tr><td>H2O API Extensions:</td>\n",
       "<td>Amazon S3, XGBoost, Algos, AutoML, Core V3, TargetEncoder, Core V4</td></tr>\n",
       "<tr><td>Python version:</td>\n",
       "<td>3.6.6 final</td></tr></table></div>"
      ],
      "text/plain": [
       "--------------------------  ------------------------------------------------------------------\n",
       "H2O cluster uptime:         05 secs\n",
       "H2O cluster timezone:       Europe/Helsinki\n",
       "H2O data parsing timezone:  UTC\n",
       "H2O cluster version:        3.26.0.8\n",
       "H2O cluster version age:    4 days\n",
       "H2O cluster name:           #691445177\n",
       "H2O cluster total nodes:    1\n",
       "H2O cluster free memory:    26.64 Gb\n",
       "H2O cluster total cores:    16\n",
       "H2O cluster allowed cores:  16\n",
       "H2O cluster status:         accepting new members, healthy\n",
       "H2O connection url:         http://127.0.0.1:54329\n",
       "H2O connection proxy:       {'http': None, 'https': None}\n",
       "H2O internal security:      False\n",
       "H2O API Extensions:         Amazon S3, XGBoost, Algos, AutoML, Core V3, TargetEncoder, Core V4\n",
       "Python version:             3.6.6 final\n",
       "--------------------------  ------------------------------------------------------------------"
      ]
     },
     "metadata": {},
     "output_type": "display_data"
    },
    {
     "name": "stdout",
     "output_type": "stream",
     "text": [
      "\n"
     ]
    },
    {
     "name": "stdout",
     "output_type": "stream",
     "text": [
      "60.94537248333334 minutes have elapsed. TPOT will close down.\n",
      "TPOT closed during evaluation in one generation.\n",
      "WARNING: TPOT may not provide a good pipeline if TPOT is stopped/interrupted in a early generation."
     ]
    },
    {
     "name": "stdout",
     "output_type": "stream",
     "text": [
      "\n"
     ]
    },
    {
     "name": "stdout",
     "output_type": "stream",
     "text": [
      "\n"
     ]
    },
    {
     "name": "stdout",
     "output_type": "stream",
     "text": [
      "\n",
      "TPOT closed prematurely. Will use the current best pipeline."
     ]
    },
    {
     "name": "stdout",
     "output_type": "stream",
     "text": [
      "\n"
     ]
    },
    {
     "name": "stdout",
     "output_type": "stream",
     "text": [
      "Best pipeline:"
     ]
    },
    {
     "name": "stdout",
     "output_type": "stream",
     "text": [
      " "
     ]
    },
    {
     "name": "stdout",
     "output_type": "stream",
     "text": [
      "KNeighborsClassifier(input_matrix, n_neighbors=3, p=2, weights=distance)"
     ]
    },
    {
     "name": "stdout",
     "output_type": "stream",
     "text": [
      "\n"
     ]
    },
    {
     "name": "stdout",
     "output_type": "stream",
     "text": [
      "Checking whether there is an H2O instance running at http://localhost:54321 "
     ]
    },
    {
     "name": "stdout",
     "output_type": "stream",
     "text": [
      "."
     ]
    },
    {
     "name": "stdout",
     "output_type": "stream",
     "text": [
      "."
     ]
    },
    {
     "name": "stdout",
     "output_type": "stream",
     "text": [
      "."
     ]
    },
    {
     "name": "stdout",
     "output_type": "stream",
     "text": [
      "."
     ]
    },
    {
     "name": "stdout",
     "output_type": "stream",
     "text": [
      "."
     ]
    },
    {
     "name": "stdout",
     "output_type": "stream",
     "text": [
      " not found."
     ]
    },
    {
     "name": "stdout",
     "output_type": "stream",
     "text": [
      "\n"
     ]
    },
    {
     "name": "stdout",
     "output_type": "stream",
     "text": [
      "Attempting to start a local H2O server..."
     ]
    },
    {
     "name": "stdout",
     "output_type": "stream",
     "text": [
      "\n"
     ]
    },
    {
     "name": "stdout",
     "output_type": "stream",
     "text": [
      "  Java Version: openjdk version \"1.8.0_222\"; OpenJDK Runtime Environment (build 1.8.0_222-b10); OpenJDK 64-Bit Server VM (build 25.222-b10, mixed mode)"
     ]
    },
    {
     "name": "stdout",
     "output_type": "stream",
     "text": [
      "\n"
     ]
    },
    {
     "name": "stdout",
     "output_type": "stream",
     "text": [
      "  Starting server from /wrk/users/thalvari/dpEmu/venv/lib/python3.6/site-packages/h2o/backend/bin/h2o.jar"
     ]
    },
    {
     "name": "stdout",
     "output_type": "stream",
     "text": [
      "\n"
     ]
    },
    {
     "name": "stdout",
     "output_type": "stream",
     "text": [
      "  Ice root: /wrk/users/thalvari/tmpxhhxjqka"
     ]
    },
    {
     "name": "stdout",
     "output_type": "stream",
     "text": [
      "\n"
     ]
    },
    {
     "name": "stdout",
     "output_type": "stream",
     "text": [
      "  JVM stdout: /wrk/users/thalvari/tmpxhhxjqka/h2o_thalvari_started_from_python.out"
     ]
    },
    {
     "name": "stdout",
     "output_type": "stream",
     "text": [
      "\n"
     ]
    },
    {
     "name": "stdout",
     "output_type": "stream",
     "text": [
      "  JVM stderr: /wrk/users/thalvari/tmpxhhxjqka/h2o_thalvari_started_from_python.err"
     ]
    },
    {
     "name": "stdout",
     "output_type": "stream",
     "text": [
      "\n"
     ]
    },
    {
     "name": "stdout",
     "output_type": "stream",
     "text": [
      "  Server is running at http://127.0.0.1:54335"
     ]
    },
    {
     "name": "stdout",
     "output_type": "stream",
     "text": [
      "\n"
     ]
    },
    {
     "name": "stdout",
     "output_type": "stream",
     "text": [
      "Connecting to H2O server at http://127.0.0.1:54335 .."
     ]
    },
    {
     "name": "stdout",
     "output_type": "stream",
     "text": [
      "."
     ]
    },
    {
     "name": "stdout",
     "output_type": "stream",
     "text": [
      " successful."
     ]
    },
    {
     "name": "stdout",
     "output_type": "stream",
     "text": [
      "\n"
     ]
    },
    {
     "data": {
      "text/html": [
       "<div style=\"overflow:auto\"><table style=\"width:50%\"><tr><td>H2O cluster uptime:</td>\n",
       "<td>02 secs</td></tr>\n",
       "<tr><td>H2O cluster timezone:</td>\n",
       "<td>Europe/Helsinki</td></tr>\n",
       "<tr><td>H2O data parsing timezone:</td>\n",
       "<td>UTC</td></tr>\n",
       "<tr><td>H2O cluster version:</td>\n",
       "<td>3.26.0.8</td></tr>\n",
       "<tr><td>H2O cluster version age:</td>\n",
       "<td>4 days </td></tr>\n",
       "<tr><td>H2O cluster name:</td>\n",
       "<td>#881754642</td></tr>\n",
       "<tr><td>H2O cluster total nodes:</td>\n",
       "<td>1</td></tr>\n",
       "<tr><td>H2O cluster free memory:</td>\n",
       "<td>26.67 Gb</td></tr>\n",
       "<tr><td>H2O cluster total cores:</td>\n",
       "<td>16</td></tr>\n",
       "<tr><td>H2O cluster allowed cores:</td>\n",
       "<td>16</td></tr>\n",
       "<tr><td>H2O cluster status:</td>\n",
       "<td>accepting new members, healthy</td></tr>\n",
       "<tr><td>H2O connection url:</td>\n",
       "<td>http://127.0.0.1:54335</td></tr>\n",
       "<tr><td>H2O connection proxy:</td>\n",
       "<td>{'http': None, 'https': None}</td></tr>\n",
       "<tr><td>H2O internal security:</td>\n",
       "<td>False</td></tr>\n",
       "<tr><td>H2O API Extensions:</td>\n",
       "<td>Amazon S3, XGBoost, Algos, AutoML, Core V3, TargetEncoder, Core V4</td></tr>\n",
       "<tr><td>Python version:</td>\n",
       "<td>3.6.6 final</td></tr></table></div>"
      ],
      "text/plain": [
       "--------------------------  ------------------------------------------------------------------\n",
       "H2O cluster uptime:         02 secs\n",
       "H2O cluster timezone:       Europe/Helsinki\n",
       "H2O data parsing timezone:  UTC\n",
       "H2O cluster version:        3.26.0.8\n",
       "H2O cluster version age:    4 days\n",
       "H2O cluster name:           #881754642\n",
       "H2O cluster total nodes:    1\n",
       "H2O cluster free memory:    26.67 Gb\n",
       "H2O cluster total cores:    16\n",
       "H2O cluster allowed cores:  16\n",
       "H2O cluster status:         accepting new members, healthy\n",
       "H2O connection url:         http://127.0.0.1:54335\n",
       "H2O connection proxy:       {'http': None, 'https': None}\n",
       "H2O internal security:      False\n",
       "H2O API Extensions:         Amazon S3, XGBoost, Algos, AutoML, Core V3, TargetEncoder, Core V4\n",
       "Python version:             3.6.6 final\n",
       "--------------------------  ------------------------------------------------------------------"
      ]
     },
     "metadata": {},
     "output_type": "display_data"
    },
    {
     "name": "stdout",
     "output_type": "stream",
     "text": [
      "H2O session _sid_9301 closed."
     ]
    },
    {
     "name": "stdout",
     "output_type": "stream",
     "text": [
      "\n"
     ]
    },
    {
     "name": "stdout",
     "output_type": "stream",
     "text": [
      "H2O session _sid_bf22 closed."
     ]
    },
    {
     "name": "stdout",
     "output_type": "stream",
     "text": [
      "\n"
     ]
    },
    {
     "name": "stdout",
     "output_type": "stream",
     "text": [
      "H2O session _sid_ab23 closed."
     ]
    },
    {
     "name": "stdout",
     "output_type": "stream",
     "text": [
      "\n"
     ]
    },
    {
     "name": "stdout",
     "output_type": "stream",
     "text": [
      "H2O session _sid_ae48 closed."
     ]
    },
    {
     "name": "stdout",
     "output_type": "stream",
     "text": [
      "\n"
     ]
    },
    {
     "name": "stdout",
     "output_type": "stream",
     "text": [
      "H2O session _sid_835f closed."
     ]
    },
    {
     "name": "stdout",
     "output_type": "stream",
     "text": [
      "\n"
     ]
    },
    {
     "name": "stdout",
     "output_type": "stream",
     "text": [
      "H2O session _sid_b018 closed."
     ]
    },
    {
     "name": "stdout",
     "output_type": "stream",
     "text": [
      "\n"
     ]
    },
    {
     "name": "stdout",
     "output_type": "stream",
     "text": [
      "H2O session _sid_8a63 closed."
     ]
    },
    {
     "name": "stdout",
     "output_type": "stream",
     "text": [
      "\n"
     ]
    },
    {
     "name": "stdout",
     "output_type": "stream",
     "text": [
      "H2O session _sid_8055 closed."
     ]
    },
    {
     "name": "stdout",
     "output_type": "stream",
     "text": [
      "\n"
     ]
    },
    {
     "name": "stdout",
     "output_type": "stream",
     "text": [
      "Checking whether there is an H2O instance running at http://localhost:54321 "
     ]
    },
    {
     "name": "stdout",
     "output_type": "stream",
     "text": [
      "."
     ]
    },
    {
     "name": "stdout",
     "output_type": "stream",
     "text": [
      "."
     ]
    },
    {
     "name": "stdout",
     "output_type": "stream",
     "text": [
      "."
     ]
    },
    {
     "name": "stdout",
     "output_type": "stream",
     "text": [
      "."
     ]
    },
    {
     "name": "stdout",
     "output_type": "stream",
     "text": [
      "."
     ]
    },
    {
     "name": "stdout",
     "output_type": "stream",
     "text": [
      " not found."
     ]
    },
    {
     "name": "stdout",
     "output_type": "stream",
     "text": [
      "\n"
     ]
    },
    {
     "name": "stdout",
     "output_type": "stream",
     "text": [
      "Attempting to start a local H2O server..."
     ]
    },
    {
     "name": "stdout",
     "output_type": "stream",
     "text": [
      "\n"
     ]
    },
    {
     "name": "stdout",
     "output_type": "stream",
     "text": [
      "  Java Version: openjdk version \"1.8.0_222\"; OpenJDK Runtime Environment (build 1.8.0_222-b10); OpenJDK 64-Bit Server VM (build 25.222-b10, mixed mode)"
     ]
    },
    {
     "name": "stdout",
     "output_type": "stream",
     "text": [
      "\n"
     ]
    },
    {
     "name": "stdout",
     "output_type": "stream",
     "text": [
      "  Starting server from /wrk/users/thalvari/dpEmu/venv/lib/python3.6/site-packages/h2o/backend/bin/h2o.jar"
     ]
    },
    {
     "name": "stdout",
     "output_type": "stream",
     "text": [
      "\n"
     ]
    },
    {
     "name": "stdout",
     "output_type": "stream",
     "text": [
      "  Ice root: /wrk/users/thalvari/tmpn_5ut3p3"
     ]
    },
    {
     "name": "stdout",
     "output_type": "stream",
     "text": [
      "\n"
     ]
    },
    {
     "name": "stdout",
     "output_type": "stream",
     "text": [
      "  JVM stdout: /wrk/users/thalvari/tmpn_5ut3p3/h2o_thalvari_started_from_python.out"
     ]
    },
    {
     "name": "stdout",
     "output_type": "stream",
     "text": [
      "\n"
     ]
    },
    {
     "name": "stdout",
     "output_type": "stream",
     "text": [
      "  JVM stderr: /wrk/users/thalvari/tmpn_5ut3p3/h2o_thalvari_started_from_python.err"
     ]
    },
    {
     "name": "stdout",
     "output_type": "stream",
     "text": [
      "\n"
     ]
    },
    {
     "name": "stdout",
     "output_type": "stream",
     "text": [
      "  Server is running at http://127.0.0.1:54321"
     ]
    },
    {
     "name": "stdout",
     "output_type": "stream",
     "text": [
      "\n"
     ]
    },
    {
     "name": "stdout",
     "output_type": "stream",
     "text": [
      "Connecting to H2O server at http://127.0.0.1:54321 .."
     ]
    },
    {
     "name": "stdout",
     "output_type": "stream",
     "text": [
      "."
     ]
    },
    {
     "name": "stdout",
     "output_type": "stream",
     "text": [
      " successful."
     ]
    },
    {
     "name": "stdout",
     "output_type": "stream",
     "text": [
      "\n"
     ]
    },
    {
     "data": {
      "text/html": [
       "<div style=\"overflow:auto\"><table style=\"width:50%\"><tr><td>H2O cluster uptime:</td>\n",
       "<td>08 secs</td></tr>\n",
       "<tr><td>H2O cluster timezone:</td>\n",
       "<td>Europe/Helsinki</td></tr>\n",
       "<tr><td>H2O data parsing timezone:</td>\n",
       "<td>UTC</td></tr>\n",
       "<tr><td>H2O cluster version:</td>\n",
       "<td>3.26.0.8</td></tr>\n",
       "<tr><td>H2O cluster version age:</td>\n",
       "<td>4 days </td></tr>\n",
       "<tr><td>H2O cluster name:</td>\n",
       "<td>#104139076</td></tr>\n",
       "<tr><td>H2O cluster total nodes:</td>\n",
       "<td>1</td></tr>\n",
       "<tr><td>H2O cluster free memory:</td>\n",
       "<td>26.62 Gb</td></tr>\n",
       "<tr><td>H2O cluster total cores:</td>\n",
       "<td>16</td></tr>\n",
       "<tr><td>H2O cluster allowed cores:</td>\n",
       "<td>16</td></tr>\n",
       "<tr><td>H2O cluster status:</td>\n",
       "<td>accepting new members, healthy</td></tr>\n",
       "<tr><td>H2O connection url:</td>\n",
       "<td>http://127.0.0.1:54321</td></tr>\n",
       "<tr><td>H2O connection proxy:</td>\n",
       "<td>{'http': None, 'https': None}</td></tr>\n",
       "<tr><td>H2O internal security:</td>\n",
       "<td>False</td></tr>\n",
       "<tr><td>H2O API Extensions:</td>\n",
       "<td>Amazon S3, XGBoost, Algos, AutoML, Core V3, TargetEncoder, Core V4</td></tr>\n",
       "<tr><td>Python version:</td>\n",
       "<td>3.6.6 final</td></tr></table></div>"
      ],
      "text/plain": [
       "--------------------------  ------------------------------------------------------------------\n",
       "H2O cluster uptime:         08 secs\n",
       "H2O cluster timezone:       Europe/Helsinki\n",
       "H2O data parsing timezone:  UTC\n",
       "H2O cluster version:        3.26.0.8\n",
       "H2O cluster version age:    4 days\n",
       "H2O cluster name:           #104139076\n",
       "H2O cluster total nodes:    1\n",
       "H2O cluster free memory:    26.62 Gb\n",
       "H2O cluster total cores:    16\n",
       "H2O cluster allowed cores:  16\n",
       "H2O cluster status:         accepting new members, healthy\n",
       "H2O connection url:         http://127.0.0.1:54321\n",
       "H2O connection proxy:       {'http': None, 'https': None}\n",
       "H2O internal security:      False\n",
       "H2O API Extensions:         Amazon S3, XGBoost, Algos, AutoML, Core V3, TargetEncoder, Core V4\n",
       "Python version:             3.6.6 final\n",
       "--------------------------  ------------------------------------------------------------------"
      ]
     },
     "metadata": {},
     "output_type": "display_data"
    },
    {
     "name": "stderr",
     "output_type": "stream",
     "text": [
      "WARNING:root:TimeoutError occurred at train() : "
     ]
    },
    {
     "name": "stderr",
     "output_type": "stream",
     "text": [
      "\n"
     ]
    },
    {
     "name": "stderr",
     "output_type": "stream",
     "text": [
      "WARNING:root:TimeoutError occurred at train() : "
     ]
    },
    {
     "name": "stderr",
     "output_type": "stream",
     "text": [
      "\n"
     ]
    },
    {
     "name": "stderr",
     "output_type": "stream",
     "text": [
      "WARNING:root:TimeoutError occurred at train() : "
     ]
    },
    {
     "name": "stderr",
     "output_type": "stream",
     "text": [
      "\n"
     ]
    },
    {
     "name": "stderr",
     "output_type": "stream",
     "text": [
      "WARNING:root:TimeoutError occurred at train() : "
     ]
    },
    {
     "name": "stderr",
     "output_type": "stream",
     "text": [
      "\n"
     ]
    },
    {
     "name": "stderr",
     "output_type": "stream",
     "text": [
      "WARNING:root:TimeoutError occurred at train() : "
     ]
    },
    {
     "name": "stderr",
     "output_type": "stream",
     "text": [
      "\n"
     ]
    },
    {
     "name": "stderr",
     "output_type": "stream",
     "text": [
      "WARNING:root:TimeoutError occurred at train() : "
     ]
    },
    {
     "name": "stderr",
     "output_type": "stream",
     "text": [
      "\n"
     ]
    },
    {
     "name": "stderr",
     "output_type": "stream",
     "text": [
      "WARNING:root:TimeoutError occurred at train() : "
     ]
    },
    {
     "name": "stderr",
     "output_type": "stream",
     "text": [
      "\n"
     ]
    },
    {
     "name": "stdout",
     "output_type": "stream",
     "text": [
      "H2O session _sid_9580 closed."
     ]
    },
    {
     "name": "stdout",
     "output_type": "stream",
     "text": [
      "\n"
     ]
    },
    {
     "name": "stderr",
     "output_type": "stream",
     "text": [
      "WARNING:root:TimeoutError occurred at train() : "
     ]
    },
    {
     "name": "stderr",
     "output_type": "stream",
     "text": [
      "\n"
     ]
    },
    {
     "name": "stderr",
     "output_type": "stream",
     "text": [
      "WARNING:root:TimeoutError occurred at train() : "
     ]
    },
    {
     "name": "stderr",
     "output_type": "stream",
     "text": [
      "\n"
     ]
    },
    {
     "name": "stderr",
     "output_type": "stream",
     "text": [
      "WARNING:root:TimeoutError occurred at train() : "
     ]
    },
    {
     "name": "stderr",
     "output_type": "stream",
     "text": [
      "\n"
     ]
    },
    {
     "name": "stderr",
     "output_type": "stream",
     "text": [
      "WARNING:root:TimeoutError occurred at train() : "
     ]
    },
    {
     "name": "stderr",
     "output_type": "stream",
     "text": [
      "\n"
     ]
    },
    {
     "name": "stderr",
     "output_type": "stream",
     "text": [
      "\r",
      " 12%|█▎        | 1/8 [6:06:30<42:45:32, 21990.38s/it]"
     ]
    },
    {
     "name": "stderr",
     "output_type": "stream",
     "text": [
      "WARNING:root:TimeoutError occurred at train() : "
     ]
    },
    {
     "name": "stderr",
     "output_type": "stream",
     "text": [
      "\n"
     ]
    },
    {
     "name": "stderr",
     "output_type": "stream",
     "text": [
      "\r",
      " 25%|██▌       | 2/8 [6:06:54<25:40:03, 15400.51s/it]"
     ]
    },
    {
     "name": "stderr",
     "output_type": "stream",
     "text": [
      "WARNING:root:TimeoutError occurred at train() : "
     ]
    },
    {
     "name": "stderr",
     "output_type": "stream",
     "text": [
      "\n"
     ]
    },
    {
     "name": "stderr",
     "output_type": "stream",
     "text": [
      "WARNING:root:TimeoutError occurred at train() : "
     ]
    },
    {
     "name": "stderr",
     "output_type": "stream",
     "text": [
      "\n"
     ]
    },
    {
     "name": "stderr",
     "output_type": "stream",
     "text": [
      "\r",
      " 62%|██████▎   | 5/8 [6:14:37<9:01:19, 10826.62s/it] "
     ]
    },
    {
     "name": "stderr",
     "output_type": "stream",
     "text": [
      "\r",
      " 75%|███████▌  | 6/8 [7:53:53<5:12:11, 9365.59s/it] "
     ]
    },
    {
     "name": "stderr",
     "output_type": "stream",
     "text": [
      "\r",
      "100%|██████████| 8/8 [7:53:53<00:00, 3554.21s/it]  "
     ]
    },
    {
     "name": "stderr",
     "output_type": "stream",
     "text": [
      "\n"
     ]
    }
   ],
   "source": [
    "train_data, test_data, train_labels, test_labels = get_data()\n",
    "\n",
    "df = runner.run(\n",
    "    train_data=train_data,\n",
    "    test_data=test_data,\n",
    "    preproc=Preprocessor,\n",
    "    preproc_params=None,\n",
    "    err_root_node=get_err_root_node(),\n",
    "    err_params_list=get_err_params_list(),\n",
    "    model_params_dict_list=get_model_params_dict_list(train_labels, test_labels),\n",
    ")"
   ]
  },
  {
   "cell_type": "code",
   "execution_count": 10,
   "metadata": {
    "collapsed": false,
    "papermill": {
     "duration": 2.43003,
     "end_time": "2019-10-22T06:49:33.941744",
     "exception": false,
     "start_time": "2019-10-22T06:49:31.511714",
     "status": "completed"
    },
    "pycharm": {
     "name": "#%%\n"
    },
    "tags": []
   },
   "outputs": [
    {
     "data": {
      "text/plain": [
       "'AutoKeras #1'"
      ]
     },
     "metadata": {},
     "output_type": "display_data"
    },
    {
     "data": {
      "text/html": [
       "<style  type=\"text/css\" >\n",
       "</style><table id=\"T_1a01134a_f498_11e9_a5fe_008cfafbe83e\" ><thead>    <tr>        <th class=\"col_heading level0 col0\" >max_angle</th>        <th class=\"col_heading level0 col1\" >test_acc</th>        <th class=\"col_heading level0 col2\" >train_acc</th>        <th class=\"col_heading level0 col3\" >time_err</th>        <th class=\"col_heading level0 col4\" >time_pre</th>        <th class=\"col_heading level0 col5\" >time_mod</th>    </tr></thead><tbody>\n",
       "                <tr>\n",
       "                                <td id=\"T_1a01134a_f498_11e9_a5fe_008cfafbe83erow0_col0\" class=\"data row0 col0\" >0</td>\n",
       "                        <td id=\"T_1a01134a_f498_11e9_a5fe_008cfafbe83erow0_col1\" class=\"data row0 col1\" >0.983</td>\n",
       "                        <td id=\"T_1a01134a_f498_11e9_a5fe_008cfafbe83erow0_col2\" class=\"data row0 col2\" >0.995</td>\n",
       "                        <td id=\"T_1a01134a_f498_11e9_a5fe_008cfafbe83erow0_col3\" class=\"data row0 col3\" >0.222</td>\n",
       "                        <td id=\"T_1a01134a_f498_11e9_a5fe_008cfafbe83erow0_col4\" class=\"data row0 col4\" >0</td>\n",
       "                        <td id=\"T_1a01134a_f498_11e9_a5fe_008cfafbe83erow0_col5\" class=\"data row0 col5\" >3610</td>\n",
       "            </tr>\n",
       "            <tr>\n",
       "                                <td id=\"T_1a01134a_f498_11e9_a5fe_008cfafbe83erow1_col0\" class=\"data row1 col0\" >12</td>\n",
       "                        <td id=\"T_1a01134a_f498_11e9_a5fe_008cfafbe83erow1_col1\" class=\"data row1 col1\" >0.964</td>\n",
       "                        <td id=\"T_1a01134a_f498_11e9_a5fe_008cfafbe83erow1_col2\" class=\"data row1 col2\" >0.994</td>\n",
       "                        <td id=\"T_1a01134a_f498_11e9_a5fe_008cfafbe83erow1_col3\" class=\"data row1 col3\" >0.259</td>\n",
       "                        <td id=\"T_1a01134a_f498_11e9_a5fe_008cfafbe83erow1_col4\" class=\"data row1 col4\" >0</td>\n",
       "                        <td id=\"T_1a01134a_f498_11e9_a5fe_008cfafbe83erow1_col5\" class=\"data row1 col5\" >3609.85</td>\n",
       "            </tr>\n",
       "            <tr>\n",
       "                                <td id=\"T_1a01134a_f498_11e9_a5fe_008cfafbe83erow2_col0\" class=\"data row2 col0\" >24</td>\n",
       "                        <td id=\"T_1a01134a_f498_11e9_a5fe_008cfafbe83erow2_col1\" class=\"data row2 col1\" >0.919</td>\n",
       "                        <td id=\"T_1a01134a_f498_11e9_a5fe_008cfafbe83erow2_col2\" class=\"data row2 col2\" >0.989</td>\n",
       "                        <td id=\"T_1a01134a_f498_11e9_a5fe_008cfafbe83erow2_col3\" class=\"data row2 col3\" >0.273</td>\n",
       "                        <td id=\"T_1a01134a_f498_11e9_a5fe_008cfafbe83erow2_col4\" class=\"data row2 col4\" >0</td>\n",
       "                        <td id=\"T_1a01134a_f498_11e9_a5fe_008cfafbe83erow2_col5\" class=\"data row2 col5\" >3604.67</td>\n",
       "            </tr>\n",
       "            <tr>\n",
       "                                <td id=\"T_1a01134a_f498_11e9_a5fe_008cfafbe83erow3_col0\" class=\"data row3 col0\" >36</td>\n",
       "                        <td id=\"T_1a01134a_f498_11e9_a5fe_008cfafbe83erow3_col1\" class=\"data row3 col1\" >0.886</td>\n",
       "                        <td id=\"T_1a01134a_f498_11e9_a5fe_008cfafbe83erow3_col2\" class=\"data row3 col2\" >0.976</td>\n",
       "                        <td id=\"T_1a01134a_f498_11e9_a5fe_008cfafbe83erow3_col3\" class=\"data row3 col3\" >0.283</td>\n",
       "                        <td id=\"T_1a01134a_f498_11e9_a5fe_008cfafbe83erow3_col4\" class=\"data row3 col4\" >0</td>\n",
       "                        <td id=\"T_1a01134a_f498_11e9_a5fe_008cfafbe83erow3_col5\" class=\"data row3 col5\" >3603.78</td>\n",
       "            </tr>\n",
       "            <tr>\n",
       "                                <td id=\"T_1a01134a_f498_11e9_a5fe_008cfafbe83erow4_col0\" class=\"data row4 col0\" >48</td>\n",
       "                        <td id=\"T_1a01134a_f498_11e9_a5fe_008cfafbe83erow4_col1\" class=\"data row4 col1\" >0.861</td>\n",
       "                        <td id=\"T_1a01134a_f498_11e9_a5fe_008cfafbe83erow4_col2\" class=\"data row4 col2\" >0.963</td>\n",
       "                        <td id=\"T_1a01134a_f498_11e9_a5fe_008cfafbe83erow4_col3\" class=\"data row4 col3\" >0.249</td>\n",
       "                        <td id=\"T_1a01134a_f498_11e9_a5fe_008cfafbe83erow4_col4\" class=\"data row4 col4\" >0</td>\n",
       "                        <td id=\"T_1a01134a_f498_11e9_a5fe_008cfafbe83erow4_col5\" class=\"data row4 col5\" >3607.54</td>\n",
       "            </tr>\n",
       "            <tr>\n",
       "                                <td id=\"T_1a01134a_f498_11e9_a5fe_008cfafbe83erow5_col0\" class=\"data row5 col0\" >60</td>\n",
       "                        <td id=\"T_1a01134a_f498_11e9_a5fe_008cfafbe83erow5_col1\" class=\"data row5 col1\" >0.861</td>\n",
       "                        <td id=\"T_1a01134a_f498_11e9_a5fe_008cfafbe83erow5_col2\" class=\"data row5 col2\" >0.987</td>\n",
       "                        <td id=\"T_1a01134a_f498_11e9_a5fe_008cfafbe83erow5_col3\" class=\"data row5 col3\" >0.221</td>\n",
       "                        <td id=\"T_1a01134a_f498_11e9_a5fe_008cfafbe83erow5_col4\" class=\"data row5 col4\" >0</td>\n",
       "                        <td id=\"T_1a01134a_f498_11e9_a5fe_008cfafbe83erow5_col5\" class=\"data row5 col5\" >3603.77</td>\n",
       "            </tr>\n",
       "            <tr>\n",
       "                                <td id=\"T_1a01134a_f498_11e9_a5fe_008cfafbe83erow6_col0\" class=\"data row6 col0\" >72</td>\n",
       "                        <td id=\"T_1a01134a_f498_11e9_a5fe_008cfafbe83erow6_col1\" class=\"data row6 col1\" >0.764</td>\n",
       "                        <td id=\"T_1a01134a_f498_11e9_a5fe_008cfafbe83erow6_col2\" class=\"data row6 col2\" >0.917</td>\n",
       "                        <td id=\"T_1a01134a_f498_11e9_a5fe_008cfafbe83erow6_col3\" class=\"data row6 col3\" >0.275</td>\n",
       "                        <td id=\"T_1a01134a_f498_11e9_a5fe_008cfafbe83erow6_col4\" class=\"data row6 col4\" >0</td>\n",
       "                        <td id=\"T_1a01134a_f498_11e9_a5fe_008cfafbe83erow6_col5\" class=\"data row6 col5\" >3613.65</td>\n",
       "            </tr>\n",
       "            <tr>\n",
       "                                <td id=\"T_1a01134a_f498_11e9_a5fe_008cfafbe83erow7_col0\" class=\"data row7 col0\" >84</td>\n",
       "                        <td id=\"T_1a01134a_f498_11e9_a5fe_008cfafbe83erow7_col1\" class=\"data row7 col1\" >0.689</td>\n",
       "                        <td id=\"T_1a01134a_f498_11e9_a5fe_008cfafbe83erow7_col2\" class=\"data row7 col2\" >0.868</td>\n",
       "                        <td id=\"T_1a01134a_f498_11e9_a5fe_008cfafbe83erow7_col3\" class=\"data row7 col3\" >0.312</td>\n",
       "                        <td id=\"T_1a01134a_f498_11e9_a5fe_008cfafbe83erow7_col4\" class=\"data row7 col4\" >0</td>\n",
       "                        <td id=\"T_1a01134a_f498_11e9_a5fe_008cfafbe83erow7_col5\" class=\"data row7 col5\" >3606.05</td>\n",
       "            </tr>\n",
       "    </tbody></table>"
      ],
      "text/plain": [
       "<pandas.io.formats.style.Styler at 0x2ad7a2629898>"
      ]
     },
     "metadata": {},
     "output_type": "display_data"
    },
    {
     "data": {
      "text/html": [
       "<style  type=\"text/css\" >\n",
       "</style><table id=\"T_1a0bd212_f498_11e9_a5fe_008cfafbe83e\" ><thead>    <tr>        <th class=\"col_heading level0 col0\" >max_angle</th>        <th class=\"col_heading level0 col1\" >pipe_0</th>        <th class=\"col_heading level0 col2\" >pipe_1</th>        <th class=\"col_heading level0 col3\" >pipe_2</th>        <th class=\"col_heading level0 col4\" >pipe_3</th>        <th class=\"col_heading level0 col5\" >pipe_4</th>        <th class=\"col_heading level0 col6\" >pipe_5</th>        <th class=\"col_heading level0 col7\" >pipe_6</th>        <th class=\"col_heading level0 col8\" >pipe_7</th>        <th class=\"col_heading level0 col9\" >pipe_8</th>        <th class=\"col_heading level0 col10\" >pipe_9</th>        <th class=\"col_heading level0 col11\" >pipe_10</th>        <th class=\"col_heading level0 col12\" >pipe_11</th>        <th class=\"col_heading level0 col13\" >pipe_12</th>        <th class=\"col_heading level0 col14\" >pipe_13</th>        <th class=\"col_heading level0 col15\" >pipe_14</th>        <th class=\"col_heading level0 col16\" >pipe_15</th>        <th class=\"col_heading level0 col17\" >pipe_16</th>        <th class=\"col_heading level0 col18\" >pipe_17</th>        <th class=\"col_heading level0 col19\" >pipe_18</th>        <th class=\"col_heading level0 col20\" >pipe_19</th>        <th class=\"col_heading level0 col21\" >pipe_20</th>        <th class=\"col_heading level0 col22\" >pipe_21</th>    </tr></thead><tbody>\n",
       "                <tr>\n",
       "                                <td id=\"T_1a0bd212_f498_11e9_a5fe_008cfafbe83erow0_col0\" class=\"data row0 col0\" >0</td>\n",
       "                        <td id=\"T_1a0bd212_f498_11e9_a5fe_008cfafbe83erow0_col1\" class=\"data row0 col1\" >ReLU()</td>\n",
       "                        <td id=\"T_1a0bd212_f498_11e9_a5fe_008cfafbe83erow0_col2\" class=\"data row0 col2\" >BatchNorm2d(1, eps=1e-05, momentum=0.1, affine=True, track_running_stats=True)</td>\n",
       "                        <td id=\"T_1a0bd212_f498_11e9_a5fe_008cfafbe83erow0_col3\" class=\"data row0 col3\" >Conv2d(1, 64, kernel_size=(3, 3), stride=(1, 1), padding=(1, 1))</td>\n",
       "                        <td id=\"T_1a0bd212_f498_11e9_a5fe_008cfafbe83erow0_col4\" class=\"data row0 col4\" >MaxPool2d(kernel_size=2, stride=2, padding=0, dilation=1, ceil_mode=False)</td>\n",
       "                        <td id=\"T_1a0bd212_f498_11e9_a5fe_008cfafbe83erow0_col5\" class=\"data row0 col5\" >ReLU()</td>\n",
       "                        <td id=\"T_1a0bd212_f498_11e9_a5fe_008cfafbe83erow0_col6\" class=\"data row0 col6\" >BatchNorm2d(64, eps=1e-05, momentum=0.1, affine=True, track_running_stats=True)</td>\n",
       "                        <td id=\"T_1a0bd212_f498_11e9_a5fe_008cfafbe83erow0_col7\" class=\"data row0 col7\" >Conv2d(64, 64, kernel_size=(3, 3), stride=(1, 1), padding=(1, 1))</td>\n",
       "                        <td id=\"T_1a0bd212_f498_11e9_a5fe_008cfafbe83erow0_col8\" class=\"data row0 col8\" >MaxPool2d(kernel_size=2, stride=2, padding=0, dilation=1, ceil_mode=False)</td>\n",
       "                        <td id=\"T_1a0bd212_f498_11e9_a5fe_008cfafbe83erow0_col9\" class=\"data row0 col9\" >ReLU()</td>\n",
       "                        <td id=\"T_1a0bd212_f498_11e9_a5fe_008cfafbe83erow0_col10\" class=\"data row0 col10\" >BatchNorm2d(64, eps=1e-05, momentum=0.1, affine=True, track_running_stats=True)</td>\n",
       "                        <td id=\"T_1a0bd212_f498_11e9_a5fe_008cfafbe83erow0_col11\" class=\"data row0 col11\" >Conv2d(64, 64, kernel_size=(3, 3), stride=(1, 1), padding=(1, 1))</td>\n",
       "                        <td id=\"T_1a0bd212_f498_11e9_a5fe_008cfafbe83erow0_col12\" class=\"data row0 col12\" >MaxPool2d(kernel_size=2, stride=2, padding=0, dilation=1, ceil_mode=False)</td>\n",
       "                        <td id=\"T_1a0bd212_f498_11e9_a5fe_008cfafbe83erow0_col13\" class=\"data row0 col13\" >GlobalAvgPool2d()</td>\n",
       "                        <td id=\"T_1a0bd212_f498_11e9_a5fe_008cfafbe83erow0_col14\" class=\"data row0 col14\" >Dropout2d(p=0.25)</td>\n",
       "                        <td id=\"T_1a0bd212_f498_11e9_a5fe_008cfafbe83erow0_col15\" class=\"data row0 col15\" >Linear(in_features=64, out_features=64, bias=True)</td>\n",
       "                        <td id=\"T_1a0bd212_f498_11e9_a5fe_008cfafbe83erow0_col16\" class=\"data row0 col16\" >ReLU()</td>\n",
       "                        <td id=\"T_1a0bd212_f498_11e9_a5fe_008cfafbe83erow0_col17\" class=\"data row0 col17\" >Linear(in_features=64, out_features=10, bias=True)</td>\n",
       "                        <td id=\"T_1a0bd212_f498_11e9_a5fe_008cfafbe83erow0_col18\" class=\"data row0 col18\" >nan</td>\n",
       "                        <td id=\"T_1a0bd212_f498_11e9_a5fe_008cfafbe83erow0_col19\" class=\"data row0 col19\" >nan</td>\n",
       "                        <td id=\"T_1a0bd212_f498_11e9_a5fe_008cfafbe83erow0_col20\" class=\"data row0 col20\" >nan</td>\n",
       "                        <td id=\"T_1a0bd212_f498_11e9_a5fe_008cfafbe83erow0_col21\" class=\"data row0 col21\" >nan</td>\n",
       "                        <td id=\"T_1a0bd212_f498_11e9_a5fe_008cfafbe83erow0_col22\" class=\"data row0 col22\" >nan</td>\n",
       "            </tr>\n",
       "            <tr>\n",
       "                                <td id=\"T_1a0bd212_f498_11e9_a5fe_008cfafbe83erow1_col0\" class=\"data row1 col0\" >12</td>\n",
       "                        <td id=\"T_1a0bd212_f498_11e9_a5fe_008cfafbe83erow1_col1\" class=\"data row1 col1\" >ReLU()</td>\n",
       "                        <td id=\"T_1a0bd212_f498_11e9_a5fe_008cfafbe83erow1_col2\" class=\"data row1 col2\" >BatchNorm2d(1, eps=1e-05, momentum=0.1, affine=True, track_running_stats=True)</td>\n",
       "                        <td id=\"T_1a0bd212_f498_11e9_a5fe_008cfafbe83erow1_col3\" class=\"data row1 col3\" >Conv2d(1, 64, kernel_size=(3, 3), stride=(1, 1), padding=(1, 1))</td>\n",
       "                        <td id=\"T_1a0bd212_f498_11e9_a5fe_008cfafbe83erow1_col4\" class=\"data row1 col4\" >MaxPool2d(kernel_size=2, stride=2, padding=0, dilation=1, ceil_mode=False)</td>\n",
       "                        <td id=\"T_1a0bd212_f498_11e9_a5fe_008cfafbe83erow1_col5\" class=\"data row1 col5\" >ReLU()</td>\n",
       "                        <td id=\"T_1a0bd212_f498_11e9_a5fe_008cfafbe83erow1_col6\" class=\"data row1 col6\" >BatchNorm2d(64, eps=1e-05, momentum=0.1, affine=True, track_running_stats=True)</td>\n",
       "                        <td id=\"T_1a0bd212_f498_11e9_a5fe_008cfafbe83erow1_col7\" class=\"data row1 col7\" >Conv2d(64, 64, kernel_size=(3, 3), stride=(1, 1), padding=(1, 1))</td>\n",
       "                        <td id=\"T_1a0bd212_f498_11e9_a5fe_008cfafbe83erow1_col8\" class=\"data row1 col8\" >MaxPool2d(kernel_size=2, stride=2, padding=0, dilation=1, ceil_mode=False)</td>\n",
       "                        <td id=\"T_1a0bd212_f498_11e9_a5fe_008cfafbe83erow1_col9\" class=\"data row1 col9\" >ReLU()</td>\n",
       "                        <td id=\"T_1a0bd212_f498_11e9_a5fe_008cfafbe83erow1_col10\" class=\"data row1 col10\" >BatchNorm2d(64, eps=1e-05, momentum=0.1, affine=True, track_running_stats=True)</td>\n",
       "                        <td id=\"T_1a0bd212_f498_11e9_a5fe_008cfafbe83erow1_col11\" class=\"data row1 col11\" >Conv2d(64, 64, kernel_size=(3, 3), stride=(1, 1), padding=(1, 1))</td>\n",
       "                        <td id=\"T_1a0bd212_f498_11e9_a5fe_008cfafbe83erow1_col12\" class=\"data row1 col12\" >MaxPool2d(kernel_size=2, stride=2, padding=0, dilation=1, ceil_mode=False)</td>\n",
       "                        <td id=\"T_1a0bd212_f498_11e9_a5fe_008cfafbe83erow1_col13\" class=\"data row1 col13\" >GlobalAvgPool2d()</td>\n",
       "                        <td id=\"T_1a0bd212_f498_11e9_a5fe_008cfafbe83erow1_col14\" class=\"data row1 col14\" >Dropout2d(p=0.25)</td>\n",
       "                        <td id=\"T_1a0bd212_f498_11e9_a5fe_008cfafbe83erow1_col15\" class=\"data row1 col15\" >Linear(in_features=64, out_features=64, bias=True)</td>\n",
       "                        <td id=\"T_1a0bd212_f498_11e9_a5fe_008cfafbe83erow1_col16\" class=\"data row1 col16\" >ReLU()</td>\n",
       "                        <td id=\"T_1a0bd212_f498_11e9_a5fe_008cfafbe83erow1_col17\" class=\"data row1 col17\" >Linear(in_features=64, out_features=10, bias=True)</td>\n",
       "                        <td id=\"T_1a0bd212_f498_11e9_a5fe_008cfafbe83erow1_col18\" class=\"data row1 col18\" >nan</td>\n",
       "                        <td id=\"T_1a0bd212_f498_11e9_a5fe_008cfafbe83erow1_col19\" class=\"data row1 col19\" >nan</td>\n",
       "                        <td id=\"T_1a0bd212_f498_11e9_a5fe_008cfafbe83erow1_col20\" class=\"data row1 col20\" >nan</td>\n",
       "                        <td id=\"T_1a0bd212_f498_11e9_a5fe_008cfafbe83erow1_col21\" class=\"data row1 col21\" >nan</td>\n",
       "                        <td id=\"T_1a0bd212_f498_11e9_a5fe_008cfafbe83erow1_col22\" class=\"data row1 col22\" >nan</td>\n",
       "            </tr>\n",
       "            <tr>\n",
       "                                <td id=\"T_1a0bd212_f498_11e9_a5fe_008cfafbe83erow2_col0\" class=\"data row2 col0\" >24</td>\n",
       "                        <td id=\"T_1a0bd212_f498_11e9_a5fe_008cfafbe83erow2_col1\" class=\"data row2 col1\" >ReLU()</td>\n",
       "                        <td id=\"T_1a0bd212_f498_11e9_a5fe_008cfafbe83erow2_col2\" class=\"data row2 col2\" >BatchNorm2d(1, eps=1e-05, momentum=0.1, affine=True, track_running_stats=True)</td>\n",
       "                        <td id=\"T_1a0bd212_f498_11e9_a5fe_008cfafbe83erow2_col3\" class=\"data row2 col3\" >Conv2d(1, 64, kernel_size=(3, 3), stride=(1, 1), padding=(1, 1))</td>\n",
       "                        <td id=\"T_1a0bd212_f498_11e9_a5fe_008cfafbe83erow2_col4\" class=\"data row2 col4\" >MaxPool2d(kernel_size=2, stride=2, padding=0, dilation=1, ceil_mode=False)</td>\n",
       "                        <td id=\"T_1a0bd212_f498_11e9_a5fe_008cfafbe83erow2_col5\" class=\"data row2 col5\" >ReLU()</td>\n",
       "                        <td id=\"T_1a0bd212_f498_11e9_a5fe_008cfafbe83erow2_col6\" class=\"data row2 col6\" >BatchNorm2d(64, eps=1e-05, momentum=0.1, affine=True, track_running_stats=True)</td>\n",
       "                        <td id=\"T_1a0bd212_f498_11e9_a5fe_008cfafbe83erow2_col7\" class=\"data row2 col7\" >Conv2d(64, 64, kernel_size=(3, 3), stride=(1, 1), padding=(1, 1))</td>\n",
       "                        <td id=\"T_1a0bd212_f498_11e9_a5fe_008cfafbe83erow2_col8\" class=\"data row2 col8\" >MaxPool2d(kernel_size=2, stride=2, padding=0, dilation=1, ceil_mode=False)</td>\n",
       "                        <td id=\"T_1a0bd212_f498_11e9_a5fe_008cfafbe83erow2_col9\" class=\"data row2 col9\" >ReLU()</td>\n",
       "                        <td id=\"T_1a0bd212_f498_11e9_a5fe_008cfafbe83erow2_col10\" class=\"data row2 col10\" >BatchNorm2d(64, eps=1e-05, momentum=0.1, affine=True, track_running_stats=True)</td>\n",
       "                        <td id=\"T_1a0bd212_f498_11e9_a5fe_008cfafbe83erow2_col11\" class=\"data row2 col11\" >Conv2d(64, 64, kernel_size=(3, 3), stride=(1, 1), padding=(1, 1))</td>\n",
       "                        <td id=\"T_1a0bd212_f498_11e9_a5fe_008cfafbe83erow2_col12\" class=\"data row2 col12\" >MaxPool2d(kernel_size=2, stride=2, padding=0, dilation=1, ceil_mode=False)</td>\n",
       "                        <td id=\"T_1a0bd212_f498_11e9_a5fe_008cfafbe83erow2_col13\" class=\"data row2 col13\" >GlobalAvgPool2d()</td>\n",
       "                        <td id=\"T_1a0bd212_f498_11e9_a5fe_008cfafbe83erow2_col14\" class=\"data row2 col14\" >Dropout2d(p=0.25)</td>\n",
       "                        <td id=\"T_1a0bd212_f498_11e9_a5fe_008cfafbe83erow2_col15\" class=\"data row2 col15\" >Linear(in_features=64, out_features=64, bias=True)</td>\n",
       "                        <td id=\"T_1a0bd212_f498_11e9_a5fe_008cfafbe83erow2_col16\" class=\"data row2 col16\" >ReLU()</td>\n",
       "                        <td id=\"T_1a0bd212_f498_11e9_a5fe_008cfafbe83erow2_col17\" class=\"data row2 col17\" >Linear(in_features=64, out_features=10, bias=True)</td>\n",
       "                        <td id=\"T_1a0bd212_f498_11e9_a5fe_008cfafbe83erow2_col18\" class=\"data row2 col18\" >nan</td>\n",
       "                        <td id=\"T_1a0bd212_f498_11e9_a5fe_008cfafbe83erow2_col19\" class=\"data row2 col19\" >nan</td>\n",
       "                        <td id=\"T_1a0bd212_f498_11e9_a5fe_008cfafbe83erow2_col20\" class=\"data row2 col20\" >nan</td>\n",
       "                        <td id=\"T_1a0bd212_f498_11e9_a5fe_008cfafbe83erow2_col21\" class=\"data row2 col21\" >nan</td>\n",
       "                        <td id=\"T_1a0bd212_f498_11e9_a5fe_008cfafbe83erow2_col22\" class=\"data row2 col22\" >nan</td>\n",
       "            </tr>\n",
       "            <tr>\n",
       "                                <td id=\"T_1a0bd212_f498_11e9_a5fe_008cfafbe83erow3_col0\" class=\"data row3 col0\" >36</td>\n",
       "                        <td id=\"T_1a0bd212_f498_11e9_a5fe_008cfafbe83erow3_col1\" class=\"data row3 col1\" >ReLU()</td>\n",
       "                        <td id=\"T_1a0bd212_f498_11e9_a5fe_008cfafbe83erow3_col2\" class=\"data row3 col2\" >BatchNorm2d(1, eps=1e-05, momentum=0.1, affine=True, track_running_stats=True)</td>\n",
       "                        <td id=\"T_1a0bd212_f498_11e9_a5fe_008cfafbe83erow3_col3\" class=\"data row3 col3\" >Conv2d(1, 64, kernel_size=(3, 3), stride=(1, 1), padding=(1, 1))</td>\n",
       "                        <td id=\"T_1a0bd212_f498_11e9_a5fe_008cfafbe83erow3_col4\" class=\"data row3 col4\" >MaxPool2d(kernel_size=2, stride=2, padding=0, dilation=1, ceil_mode=False)</td>\n",
       "                        <td id=\"T_1a0bd212_f498_11e9_a5fe_008cfafbe83erow3_col5\" class=\"data row3 col5\" >ReLU()</td>\n",
       "                        <td id=\"T_1a0bd212_f498_11e9_a5fe_008cfafbe83erow3_col6\" class=\"data row3 col6\" >BatchNorm2d(64, eps=1e-05, momentum=0.1, affine=True, track_running_stats=True)</td>\n",
       "                        <td id=\"T_1a0bd212_f498_11e9_a5fe_008cfafbe83erow3_col7\" class=\"data row3 col7\" >Conv2d(64, 64, kernel_size=(3, 3), stride=(1, 1), padding=(1, 1))</td>\n",
       "                        <td id=\"T_1a0bd212_f498_11e9_a5fe_008cfafbe83erow3_col8\" class=\"data row3 col8\" >MaxPool2d(kernel_size=2, stride=2, padding=0, dilation=1, ceil_mode=False)</td>\n",
       "                        <td id=\"T_1a0bd212_f498_11e9_a5fe_008cfafbe83erow3_col9\" class=\"data row3 col9\" >ReLU()</td>\n",
       "                        <td id=\"T_1a0bd212_f498_11e9_a5fe_008cfafbe83erow3_col10\" class=\"data row3 col10\" >BatchNorm2d(64, eps=1e-05, momentum=0.1, affine=True, track_running_stats=True)</td>\n",
       "                        <td id=\"T_1a0bd212_f498_11e9_a5fe_008cfafbe83erow3_col11\" class=\"data row3 col11\" >Conv2d(64, 64, kernel_size=(3, 3), stride=(1, 1), padding=(1, 1))</td>\n",
       "                        <td id=\"T_1a0bd212_f498_11e9_a5fe_008cfafbe83erow3_col12\" class=\"data row3 col12\" >MaxPool2d(kernel_size=2, stride=2, padding=0, dilation=1, ceil_mode=False)</td>\n",
       "                        <td id=\"T_1a0bd212_f498_11e9_a5fe_008cfafbe83erow3_col13\" class=\"data row3 col13\" >GlobalAvgPool2d()</td>\n",
       "                        <td id=\"T_1a0bd212_f498_11e9_a5fe_008cfafbe83erow3_col14\" class=\"data row3 col14\" >Dropout2d(p=0.25)</td>\n",
       "                        <td id=\"T_1a0bd212_f498_11e9_a5fe_008cfafbe83erow3_col15\" class=\"data row3 col15\" >Linear(in_features=64, out_features=64, bias=True)</td>\n",
       "                        <td id=\"T_1a0bd212_f498_11e9_a5fe_008cfafbe83erow3_col16\" class=\"data row3 col16\" >ReLU()</td>\n",
       "                        <td id=\"T_1a0bd212_f498_11e9_a5fe_008cfafbe83erow3_col17\" class=\"data row3 col17\" >Linear(in_features=64, out_features=10, bias=True)</td>\n",
       "                        <td id=\"T_1a0bd212_f498_11e9_a5fe_008cfafbe83erow3_col18\" class=\"data row3 col18\" >nan</td>\n",
       "                        <td id=\"T_1a0bd212_f498_11e9_a5fe_008cfafbe83erow3_col19\" class=\"data row3 col19\" >nan</td>\n",
       "                        <td id=\"T_1a0bd212_f498_11e9_a5fe_008cfafbe83erow3_col20\" class=\"data row3 col20\" >nan</td>\n",
       "                        <td id=\"T_1a0bd212_f498_11e9_a5fe_008cfafbe83erow3_col21\" class=\"data row3 col21\" >nan</td>\n",
       "                        <td id=\"T_1a0bd212_f498_11e9_a5fe_008cfafbe83erow3_col22\" class=\"data row3 col22\" >nan</td>\n",
       "            </tr>\n",
       "            <tr>\n",
       "                                <td id=\"T_1a0bd212_f498_11e9_a5fe_008cfafbe83erow4_col0\" class=\"data row4 col0\" >48</td>\n",
       "                        <td id=\"T_1a0bd212_f498_11e9_a5fe_008cfafbe83erow4_col1\" class=\"data row4 col1\" >ReLU()</td>\n",
       "                        <td id=\"T_1a0bd212_f498_11e9_a5fe_008cfafbe83erow4_col2\" class=\"data row4 col2\" >BatchNorm2d(1, eps=1e-05, momentum=0.1, affine=True, track_running_stats=True)</td>\n",
       "                        <td id=\"T_1a0bd212_f498_11e9_a5fe_008cfafbe83erow4_col3\" class=\"data row4 col3\" >Conv2d(1, 64, kernel_size=(3, 3), stride=(1, 1), padding=(1, 1))</td>\n",
       "                        <td id=\"T_1a0bd212_f498_11e9_a5fe_008cfafbe83erow4_col4\" class=\"data row4 col4\" >MaxPool2d(kernel_size=2, stride=2, padding=0, dilation=1, ceil_mode=False)</td>\n",
       "                        <td id=\"T_1a0bd212_f498_11e9_a5fe_008cfafbe83erow4_col5\" class=\"data row4 col5\" >ReLU()</td>\n",
       "                        <td id=\"T_1a0bd212_f498_11e9_a5fe_008cfafbe83erow4_col6\" class=\"data row4 col6\" >BatchNorm2d(64, eps=1e-05, momentum=0.1, affine=True, track_running_stats=True)</td>\n",
       "                        <td id=\"T_1a0bd212_f498_11e9_a5fe_008cfafbe83erow4_col7\" class=\"data row4 col7\" >Conv2d(64, 64, kernel_size=(3, 3), stride=(1, 1), padding=(1, 1))</td>\n",
       "                        <td id=\"T_1a0bd212_f498_11e9_a5fe_008cfafbe83erow4_col8\" class=\"data row4 col8\" >MaxPool2d(kernel_size=2, stride=2, padding=0, dilation=1, ceil_mode=False)</td>\n",
       "                        <td id=\"T_1a0bd212_f498_11e9_a5fe_008cfafbe83erow4_col9\" class=\"data row4 col9\" >ReLU()</td>\n",
       "                        <td id=\"T_1a0bd212_f498_11e9_a5fe_008cfafbe83erow4_col10\" class=\"data row4 col10\" >BatchNorm2d(64, eps=1e-05, momentum=0.1, affine=True, track_running_stats=True)</td>\n",
       "                        <td id=\"T_1a0bd212_f498_11e9_a5fe_008cfafbe83erow4_col11\" class=\"data row4 col11\" >Conv2d(64, 64, kernel_size=(3, 3), stride=(1, 1), padding=(1, 1))</td>\n",
       "                        <td id=\"T_1a0bd212_f498_11e9_a5fe_008cfafbe83erow4_col12\" class=\"data row4 col12\" >MaxPool2d(kernel_size=2, stride=2, padding=0, dilation=1, ceil_mode=False)</td>\n",
       "                        <td id=\"T_1a0bd212_f498_11e9_a5fe_008cfafbe83erow4_col13\" class=\"data row4 col13\" >GlobalAvgPool2d()</td>\n",
       "                        <td id=\"T_1a0bd212_f498_11e9_a5fe_008cfafbe83erow4_col14\" class=\"data row4 col14\" >Dropout2d(p=0.25)</td>\n",
       "                        <td id=\"T_1a0bd212_f498_11e9_a5fe_008cfafbe83erow4_col15\" class=\"data row4 col15\" >Linear(in_features=64, out_features=64, bias=True)</td>\n",
       "                        <td id=\"T_1a0bd212_f498_11e9_a5fe_008cfafbe83erow4_col16\" class=\"data row4 col16\" >ReLU()</td>\n",
       "                        <td id=\"T_1a0bd212_f498_11e9_a5fe_008cfafbe83erow4_col17\" class=\"data row4 col17\" >Linear(in_features=64, out_features=10, bias=True)</td>\n",
       "                        <td id=\"T_1a0bd212_f498_11e9_a5fe_008cfafbe83erow4_col18\" class=\"data row4 col18\" >nan</td>\n",
       "                        <td id=\"T_1a0bd212_f498_11e9_a5fe_008cfafbe83erow4_col19\" class=\"data row4 col19\" >nan</td>\n",
       "                        <td id=\"T_1a0bd212_f498_11e9_a5fe_008cfafbe83erow4_col20\" class=\"data row4 col20\" >nan</td>\n",
       "                        <td id=\"T_1a0bd212_f498_11e9_a5fe_008cfafbe83erow4_col21\" class=\"data row4 col21\" >nan</td>\n",
       "                        <td id=\"T_1a0bd212_f498_11e9_a5fe_008cfafbe83erow4_col22\" class=\"data row4 col22\" >nan</td>\n",
       "            </tr>\n",
       "            <tr>\n",
       "                                <td id=\"T_1a0bd212_f498_11e9_a5fe_008cfafbe83erow5_col0\" class=\"data row5 col0\" >60</td>\n",
       "                        <td id=\"T_1a0bd212_f498_11e9_a5fe_008cfafbe83erow5_col1\" class=\"data row5 col1\" >ReLU()</td>\n",
       "                        <td id=\"T_1a0bd212_f498_11e9_a5fe_008cfafbe83erow5_col2\" class=\"data row5 col2\" >BatchNorm2d(1, eps=1e-05, momentum=0.1, affine=True, track_running_stats=True)</td>\n",
       "                        <td id=\"T_1a0bd212_f498_11e9_a5fe_008cfafbe83erow5_col3\" class=\"data row5 col3\" >Conv2d(1, 128, kernel_size=(3, 3), stride=(1, 1), padding=(1, 1))</td>\n",
       "                        <td id=\"T_1a0bd212_f498_11e9_a5fe_008cfafbe83erow5_col4\" class=\"data row5 col4\" >MaxPool2d(kernel_size=2, stride=2, padding=0, dilation=1, ceil_mode=False)</td>\n",
       "                        <td id=\"T_1a0bd212_f498_11e9_a5fe_008cfafbe83erow5_col5\" class=\"data row5 col5\" >ReLU()</td>\n",
       "                        <td id=\"T_1a0bd212_f498_11e9_a5fe_008cfafbe83erow5_col6\" class=\"data row5 col6\" >BatchNorm2d(128, eps=1e-05, momentum=0.1, affine=True, track_running_stats=True)</td>\n",
       "                        <td id=\"T_1a0bd212_f498_11e9_a5fe_008cfafbe83erow5_col7\" class=\"data row5 col7\" >Conv2d(128, 64, kernel_size=(3, 3), stride=(1, 1), padding=(1, 1))</td>\n",
       "                        <td id=\"T_1a0bd212_f498_11e9_a5fe_008cfafbe83erow5_col8\" class=\"data row5 col8\" >MaxPool2d(kernel_size=2, stride=2, padding=0, dilation=1, ceil_mode=False)</td>\n",
       "                        <td id=\"T_1a0bd212_f498_11e9_a5fe_008cfafbe83erow5_col9\" class=\"data row5 col9\" >ReLU()</td>\n",
       "                        <td id=\"T_1a0bd212_f498_11e9_a5fe_008cfafbe83erow5_col10\" class=\"data row5 col10\" >BatchNorm2d(64, eps=1e-05, momentum=0.1, affine=True, track_running_stats=True)</td>\n",
       "                        <td id=\"T_1a0bd212_f498_11e9_a5fe_008cfafbe83erow5_col11\" class=\"data row5 col11\" >Conv2d(64, 64, kernel_size=(3, 3), stride=(1, 1), padding=(1, 1))</td>\n",
       "                        <td id=\"T_1a0bd212_f498_11e9_a5fe_008cfafbe83erow5_col12\" class=\"data row5 col12\" >MaxPool2d(kernel_size=2, stride=2, padding=0, dilation=1, ceil_mode=False)</td>\n",
       "                        <td id=\"T_1a0bd212_f498_11e9_a5fe_008cfafbe83erow5_col13\" class=\"data row5 col13\" >GlobalAvgPool2d()</td>\n",
       "                        <td id=\"T_1a0bd212_f498_11e9_a5fe_008cfafbe83erow5_col14\" class=\"data row5 col14\" >Dropout2d(p=0.25)</td>\n",
       "                        <td id=\"T_1a0bd212_f498_11e9_a5fe_008cfafbe83erow5_col15\" class=\"data row5 col15\" >Linear(in_features=64, out_features=64, bias=True)</td>\n",
       "                        <td id=\"T_1a0bd212_f498_11e9_a5fe_008cfafbe83erow5_col16\" class=\"data row5 col16\" >ReLU()</td>\n",
       "                        <td id=\"T_1a0bd212_f498_11e9_a5fe_008cfafbe83erow5_col17\" class=\"data row5 col17\" >Linear(in_features=64, out_features=10, bias=True)</td>\n",
       "                        <td id=\"T_1a0bd212_f498_11e9_a5fe_008cfafbe83erow5_col18\" class=\"data row5 col18\" >BatchNorm2d(1, eps=1e-05, momentum=0.1, affine=True, track_running_stats=True)</td>\n",
       "                        <td id=\"T_1a0bd212_f498_11e9_a5fe_008cfafbe83erow5_col19\" class=\"data row5 col19\" >MaxPool2d(kernel_size=2, stride=2, padding=0, dilation=1, ceil_mode=False)</td>\n",
       "                        <td id=\"T_1a0bd212_f498_11e9_a5fe_008cfafbe83erow5_col20\" class=\"data row5 col20\" >ReLU()</td>\n",
       "                        <td id=\"T_1a0bd212_f498_11e9_a5fe_008cfafbe83erow5_col21\" class=\"data row5 col21\" >TorchConcatenate()</td>\n",
       "                        <td id=\"T_1a0bd212_f498_11e9_a5fe_008cfafbe83erow5_col22\" class=\"data row5 col22\" >Conv2d(192, 64, kernel_size=(1, 1), stride=(1, 1))</td>\n",
       "            </tr>\n",
       "            <tr>\n",
       "                                <td id=\"T_1a0bd212_f498_11e9_a5fe_008cfafbe83erow6_col0\" class=\"data row6 col0\" >72</td>\n",
       "                        <td id=\"T_1a0bd212_f498_11e9_a5fe_008cfafbe83erow6_col1\" class=\"data row6 col1\" >ReLU()</td>\n",
       "                        <td id=\"T_1a0bd212_f498_11e9_a5fe_008cfafbe83erow6_col2\" class=\"data row6 col2\" >BatchNorm2d(1, eps=1e-05, momentum=0.1, affine=True, track_running_stats=True)</td>\n",
       "                        <td id=\"T_1a0bd212_f498_11e9_a5fe_008cfafbe83erow6_col3\" class=\"data row6 col3\" >Conv2d(1, 64, kernel_size=(3, 3), stride=(1, 1), padding=(1, 1))</td>\n",
       "                        <td id=\"T_1a0bd212_f498_11e9_a5fe_008cfafbe83erow6_col4\" class=\"data row6 col4\" >MaxPool2d(kernel_size=2, stride=2, padding=0, dilation=1, ceil_mode=False)</td>\n",
       "                        <td id=\"T_1a0bd212_f498_11e9_a5fe_008cfafbe83erow6_col5\" class=\"data row6 col5\" >ReLU()</td>\n",
       "                        <td id=\"T_1a0bd212_f498_11e9_a5fe_008cfafbe83erow6_col6\" class=\"data row6 col6\" >BatchNorm2d(64, eps=1e-05, momentum=0.1, affine=True, track_running_stats=True)</td>\n",
       "                        <td id=\"T_1a0bd212_f498_11e9_a5fe_008cfafbe83erow6_col7\" class=\"data row6 col7\" >Conv2d(64, 64, kernel_size=(3, 3), stride=(1, 1), padding=(1, 1))</td>\n",
       "                        <td id=\"T_1a0bd212_f498_11e9_a5fe_008cfafbe83erow6_col8\" class=\"data row6 col8\" >MaxPool2d(kernel_size=2, stride=2, padding=0, dilation=1, ceil_mode=False)</td>\n",
       "                        <td id=\"T_1a0bd212_f498_11e9_a5fe_008cfafbe83erow6_col9\" class=\"data row6 col9\" >ReLU()</td>\n",
       "                        <td id=\"T_1a0bd212_f498_11e9_a5fe_008cfafbe83erow6_col10\" class=\"data row6 col10\" >BatchNorm2d(64, eps=1e-05, momentum=0.1, affine=True, track_running_stats=True)</td>\n",
       "                        <td id=\"T_1a0bd212_f498_11e9_a5fe_008cfafbe83erow6_col11\" class=\"data row6 col11\" >Conv2d(64, 64, kernel_size=(3, 3), stride=(1, 1), padding=(1, 1))</td>\n",
       "                        <td id=\"T_1a0bd212_f498_11e9_a5fe_008cfafbe83erow6_col12\" class=\"data row6 col12\" >MaxPool2d(kernel_size=2, stride=2, padding=0, dilation=1, ceil_mode=False)</td>\n",
       "                        <td id=\"T_1a0bd212_f498_11e9_a5fe_008cfafbe83erow6_col13\" class=\"data row6 col13\" >GlobalAvgPool2d()</td>\n",
       "                        <td id=\"T_1a0bd212_f498_11e9_a5fe_008cfafbe83erow6_col14\" class=\"data row6 col14\" >Dropout2d(p=0.25)</td>\n",
       "                        <td id=\"T_1a0bd212_f498_11e9_a5fe_008cfafbe83erow6_col15\" class=\"data row6 col15\" >Linear(in_features=64, out_features=64, bias=True)</td>\n",
       "                        <td id=\"T_1a0bd212_f498_11e9_a5fe_008cfafbe83erow6_col16\" class=\"data row6 col16\" >ReLU()</td>\n",
       "                        <td id=\"T_1a0bd212_f498_11e9_a5fe_008cfafbe83erow6_col17\" class=\"data row6 col17\" >Linear(in_features=64, out_features=10, bias=True)</td>\n",
       "                        <td id=\"T_1a0bd212_f498_11e9_a5fe_008cfafbe83erow6_col18\" class=\"data row6 col18\" >nan</td>\n",
       "                        <td id=\"T_1a0bd212_f498_11e9_a5fe_008cfafbe83erow6_col19\" class=\"data row6 col19\" >nan</td>\n",
       "                        <td id=\"T_1a0bd212_f498_11e9_a5fe_008cfafbe83erow6_col20\" class=\"data row6 col20\" >nan</td>\n",
       "                        <td id=\"T_1a0bd212_f498_11e9_a5fe_008cfafbe83erow6_col21\" class=\"data row6 col21\" >nan</td>\n",
       "                        <td id=\"T_1a0bd212_f498_11e9_a5fe_008cfafbe83erow6_col22\" class=\"data row6 col22\" >nan</td>\n",
       "            </tr>\n",
       "            <tr>\n",
       "                                <td id=\"T_1a0bd212_f498_11e9_a5fe_008cfafbe83erow7_col0\" class=\"data row7 col0\" >84</td>\n",
       "                        <td id=\"T_1a0bd212_f498_11e9_a5fe_008cfafbe83erow7_col1\" class=\"data row7 col1\" >ReLU()</td>\n",
       "                        <td id=\"T_1a0bd212_f498_11e9_a5fe_008cfafbe83erow7_col2\" class=\"data row7 col2\" >BatchNorm2d(1, eps=1e-05, momentum=0.1, affine=True, track_running_stats=True)</td>\n",
       "                        <td id=\"T_1a0bd212_f498_11e9_a5fe_008cfafbe83erow7_col3\" class=\"data row7 col3\" >Conv2d(1, 64, kernel_size=(3, 3), stride=(1, 1), padding=(1, 1))</td>\n",
       "                        <td id=\"T_1a0bd212_f498_11e9_a5fe_008cfafbe83erow7_col4\" class=\"data row7 col4\" >MaxPool2d(kernel_size=2, stride=2, padding=0, dilation=1, ceil_mode=False)</td>\n",
       "                        <td id=\"T_1a0bd212_f498_11e9_a5fe_008cfafbe83erow7_col5\" class=\"data row7 col5\" >ReLU()</td>\n",
       "                        <td id=\"T_1a0bd212_f498_11e9_a5fe_008cfafbe83erow7_col6\" class=\"data row7 col6\" >BatchNorm2d(64, eps=1e-05, momentum=0.1, affine=True, track_running_stats=True)</td>\n",
       "                        <td id=\"T_1a0bd212_f498_11e9_a5fe_008cfafbe83erow7_col7\" class=\"data row7 col7\" >Conv2d(64, 64, kernel_size=(3, 3), stride=(1, 1), padding=(1, 1))</td>\n",
       "                        <td id=\"T_1a0bd212_f498_11e9_a5fe_008cfafbe83erow7_col8\" class=\"data row7 col8\" >MaxPool2d(kernel_size=2, stride=2, padding=0, dilation=1, ceil_mode=False)</td>\n",
       "                        <td id=\"T_1a0bd212_f498_11e9_a5fe_008cfafbe83erow7_col9\" class=\"data row7 col9\" >ReLU()</td>\n",
       "                        <td id=\"T_1a0bd212_f498_11e9_a5fe_008cfafbe83erow7_col10\" class=\"data row7 col10\" >BatchNorm2d(64, eps=1e-05, momentum=0.1, affine=True, track_running_stats=True)</td>\n",
       "                        <td id=\"T_1a0bd212_f498_11e9_a5fe_008cfafbe83erow7_col11\" class=\"data row7 col11\" >Conv2d(64, 64, kernel_size=(3, 3), stride=(1, 1), padding=(1, 1))</td>\n",
       "                        <td id=\"T_1a0bd212_f498_11e9_a5fe_008cfafbe83erow7_col12\" class=\"data row7 col12\" >MaxPool2d(kernel_size=2, stride=2, padding=0, dilation=1, ceil_mode=False)</td>\n",
       "                        <td id=\"T_1a0bd212_f498_11e9_a5fe_008cfafbe83erow7_col13\" class=\"data row7 col13\" >GlobalAvgPool2d()</td>\n",
       "                        <td id=\"T_1a0bd212_f498_11e9_a5fe_008cfafbe83erow7_col14\" class=\"data row7 col14\" >Dropout2d(p=0.25)</td>\n",
       "                        <td id=\"T_1a0bd212_f498_11e9_a5fe_008cfafbe83erow7_col15\" class=\"data row7 col15\" >Linear(in_features=64, out_features=64, bias=True)</td>\n",
       "                        <td id=\"T_1a0bd212_f498_11e9_a5fe_008cfafbe83erow7_col16\" class=\"data row7 col16\" >ReLU()</td>\n",
       "                        <td id=\"T_1a0bd212_f498_11e9_a5fe_008cfafbe83erow7_col17\" class=\"data row7 col17\" >Linear(in_features=64, out_features=10, bias=True)</td>\n",
       "                        <td id=\"T_1a0bd212_f498_11e9_a5fe_008cfafbe83erow7_col18\" class=\"data row7 col18\" >nan</td>\n",
       "                        <td id=\"T_1a0bd212_f498_11e9_a5fe_008cfafbe83erow7_col19\" class=\"data row7 col19\" >nan</td>\n",
       "                        <td id=\"T_1a0bd212_f498_11e9_a5fe_008cfafbe83erow7_col20\" class=\"data row7 col20\" >nan</td>\n",
       "                        <td id=\"T_1a0bd212_f498_11e9_a5fe_008cfafbe83erow7_col21\" class=\"data row7 col21\" >nan</td>\n",
       "                        <td id=\"T_1a0bd212_f498_11e9_a5fe_008cfafbe83erow7_col22\" class=\"data row7 col22\" >nan</td>\n",
       "            </tr>\n",
       "    </tbody></table>"
      ],
      "text/plain": [
       "<pandas.io.formats.style.Styler at 0x2ad78c9177b8>"
      ]
     },
     "metadata": {},
     "output_type": "display_data"
    },
    {
     "data": {
      "text/plain": [
       "'AutoKerasClean #1'"
      ]
     },
     "metadata": {},
     "output_type": "display_data"
    },
    {
     "data": {
      "text/html": [
       "<style  type=\"text/css\" >\n",
       "</style><table id=\"T_1a102024_f498_11e9_a5fe_008cfafbe83e\" ><thead>    <tr>        <th class=\"col_heading level0 col0\" >max_angle</th>        <th class=\"col_heading level0 col1\" >test_acc</th>        <th class=\"col_heading level0 col2\" >train_acc</th>        <th class=\"col_heading level0 col3\" >time_err</th>        <th class=\"col_heading level0 col4\" >time_pre</th>        <th class=\"col_heading level0 col5\" >time_mod</th>    </tr></thead><tbody>\n",
       "                <tr>\n",
       "                                <td id=\"T_1a102024_f498_11e9_a5fe_008cfafbe83erow0_col0\" class=\"data row0 col0\" >0</td>\n",
       "                        <td id=\"T_1a102024_f498_11e9_a5fe_008cfafbe83erow0_col1\" class=\"data row0 col1\" >0.983</td>\n",
       "                        <td id=\"T_1a102024_f498_11e9_a5fe_008cfafbe83erow0_col2\" class=\"data row0 col2\" >0.995</td>\n",
       "                        <td id=\"T_1a102024_f498_11e9_a5fe_008cfafbe83erow0_col3\" class=\"data row0 col3\" >0.222</td>\n",
       "                        <td id=\"T_1a102024_f498_11e9_a5fe_008cfafbe83erow0_col4\" class=\"data row0 col4\" >0</td>\n",
       "                        <td id=\"T_1a102024_f498_11e9_a5fe_008cfafbe83erow0_col5\" class=\"data row0 col5\" >3602.94</td>\n",
       "            </tr>\n",
       "            <tr>\n",
       "                                <td id=\"T_1a102024_f498_11e9_a5fe_008cfafbe83erow1_col0\" class=\"data row1 col0\" >12</td>\n",
       "                        <td id=\"T_1a102024_f498_11e9_a5fe_008cfafbe83erow1_col1\" class=\"data row1 col1\" >0.967</td>\n",
       "                        <td id=\"T_1a102024_f498_11e9_a5fe_008cfafbe83erow1_col2\" class=\"data row1 col2\" >0.995</td>\n",
       "                        <td id=\"T_1a102024_f498_11e9_a5fe_008cfafbe83erow1_col3\" class=\"data row1 col3\" >0.259</td>\n",
       "                        <td id=\"T_1a102024_f498_11e9_a5fe_008cfafbe83erow1_col4\" class=\"data row1 col4\" >0</td>\n",
       "                        <td id=\"T_1a102024_f498_11e9_a5fe_008cfafbe83erow1_col5\" class=\"data row1 col5\" >3601.48</td>\n",
       "            </tr>\n",
       "            <tr>\n",
       "                                <td id=\"T_1a102024_f498_11e9_a5fe_008cfafbe83erow2_col0\" class=\"data row2 col0\" >24</td>\n",
       "                        <td id=\"T_1a102024_f498_11e9_a5fe_008cfafbe83erow2_col1\" class=\"data row2 col1\" >0.844</td>\n",
       "                        <td id=\"T_1a102024_f498_11e9_a5fe_008cfafbe83erow2_col2\" class=\"data row2 col2\" >0.995</td>\n",
       "                        <td id=\"T_1a102024_f498_11e9_a5fe_008cfafbe83erow2_col3\" class=\"data row2 col3\" >0.273</td>\n",
       "                        <td id=\"T_1a102024_f498_11e9_a5fe_008cfafbe83erow2_col4\" class=\"data row2 col4\" >0</td>\n",
       "                        <td id=\"T_1a102024_f498_11e9_a5fe_008cfafbe83erow2_col5\" class=\"data row2 col5\" >3610.7</td>\n",
       "            </tr>\n",
       "            <tr>\n",
       "                                <td id=\"T_1a102024_f498_11e9_a5fe_008cfafbe83erow3_col0\" class=\"data row3 col0\" >36</td>\n",
       "                        <td id=\"T_1a102024_f498_11e9_a5fe_008cfafbe83erow3_col1\" class=\"data row3 col1\" >0.708</td>\n",
       "                        <td id=\"T_1a102024_f498_11e9_a5fe_008cfafbe83erow3_col2\" class=\"data row3 col2\" >0.995</td>\n",
       "                        <td id=\"T_1a102024_f498_11e9_a5fe_008cfafbe83erow3_col3\" class=\"data row3 col3\" >0.283</td>\n",
       "                        <td id=\"T_1a102024_f498_11e9_a5fe_008cfafbe83erow3_col4\" class=\"data row3 col4\" >0</td>\n",
       "                        <td id=\"T_1a102024_f498_11e9_a5fe_008cfafbe83erow3_col5\" class=\"data row3 col5\" >3605.6</td>\n",
       "            </tr>\n",
       "            <tr>\n",
       "                                <td id=\"T_1a102024_f498_11e9_a5fe_008cfafbe83erow4_col0\" class=\"data row4 col0\" >48</td>\n",
       "                        <td id=\"T_1a102024_f498_11e9_a5fe_008cfafbe83erow4_col1\" class=\"data row4 col1\" >0.619</td>\n",
       "                        <td id=\"T_1a102024_f498_11e9_a5fe_008cfafbe83erow4_col2\" class=\"data row4 col2\" >0.999</td>\n",
       "                        <td id=\"T_1a102024_f498_11e9_a5fe_008cfafbe83erow4_col3\" class=\"data row4 col3\" >0.249</td>\n",
       "                        <td id=\"T_1a102024_f498_11e9_a5fe_008cfafbe83erow4_col4\" class=\"data row4 col4\" >0</td>\n",
       "                        <td id=\"T_1a102024_f498_11e9_a5fe_008cfafbe83erow4_col5\" class=\"data row4 col5\" >3611.53</td>\n",
       "            </tr>\n",
       "            <tr>\n",
       "                                <td id=\"T_1a102024_f498_11e9_a5fe_008cfafbe83erow5_col0\" class=\"data row5 col0\" >60</td>\n",
       "                        <td id=\"T_1a102024_f498_11e9_a5fe_008cfafbe83erow5_col1\" class=\"data row5 col1\" >0.508</td>\n",
       "                        <td id=\"T_1a102024_f498_11e9_a5fe_008cfafbe83erow5_col2\" class=\"data row5 col2\" >0.999</td>\n",
       "                        <td id=\"T_1a102024_f498_11e9_a5fe_008cfafbe83erow5_col3\" class=\"data row5 col3\" >0.221</td>\n",
       "                        <td id=\"T_1a102024_f498_11e9_a5fe_008cfafbe83erow5_col4\" class=\"data row5 col4\" >0</td>\n",
       "                        <td id=\"T_1a102024_f498_11e9_a5fe_008cfafbe83erow5_col5\" class=\"data row5 col5\" >3622.75</td>\n",
       "            </tr>\n",
       "            <tr>\n",
       "                                <td id=\"T_1a102024_f498_11e9_a5fe_008cfafbe83erow6_col0\" class=\"data row6 col0\" >72</td>\n",
       "                        <td id=\"T_1a102024_f498_11e9_a5fe_008cfafbe83erow6_col1\" class=\"data row6 col1\" >0.456</td>\n",
       "                        <td id=\"T_1a102024_f498_11e9_a5fe_008cfafbe83erow6_col2\" class=\"data row6 col2\" >0.995</td>\n",
       "                        <td id=\"T_1a102024_f498_11e9_a5fe_008cfafbe83erow6_col3\" class=\"data row6 col3\" >0.275</td>\n",
       "                        <td id=\"T_1a102024_f498_11e9_a5fe_008cfafbe83erow6_col4\" class=\"data row6 col4\" >0</td>\n",
       "                        <td id=\"T_1a102024_f498_11e9_a5fe_008cfafbe83erow6_col5\" class=\"data row6 col5\" >3602.55</td>\n",
       "            </tr>\n",
       "            <tr>\n",
       "                                <td id=\"T_1a102024_f498_11e9_a5fe_008cfafbe83erow7_col0\" class=\"data row7 col0\" >84</td>\n",
       "                        <td id=\"T_1a102024_f498_11e9_a5fe_008cfafbe83erow7_col1\" class=\"data row7 col1\" >0.394</td>\n",
       "                        <td id=\"T_1a102024_f498_11e9_a5fe_008cfafbe83erow7_col2\" class=\"data row7 col2\" >0.995</td>\n",
       "                        <td id=\"T_1a102024_f498_11e9_a5fe_008cfafbe83erow7_col3\" class=\"data row7 col3\" >0.312</td>\n",
       "                        <td id=\"T_1a102024_f498_11e9_a5fe_008cfafbe83erow7_col4\" class=\"data row7 col4\" >0</td>\n",
       "                        <td id=\"T_1a102024_f498_11e9_a5fe_008cfafbe83erow7_col5\" class=\"data row7 col5\" >3605.78</td>\n",
       "            </tr>\n",
       "    </tbody></table>"
      ],
      "text/plain": [
       "<pandas.io.formats.style.Styler at 0x2ad7b50f4da0>"
      ]
     },
     "metadata": {},
     "output_type": "display_data"
    },
    {
     "data": {
      "text/html": [
       "<style  type=\"text/css\" >\n",
       "</style><table id=\"T_1a14fe32_f498_11e9_a5fe_008cfafbe83e\" ><thead>    <tr>        <th class=\"col_heading level0 col0\" >max_angle</th>        <th class=\"col_heading level0 col1\" >pipe_0</th>        <th class=\"col_heading level0 col2\" >pipe_1</th>        <th class=\"col_heading level0 col3\" >pipe_2</th>        <th class=\"col_heading level0 col4\" >pipe_3</th>        <th class=\"col_heading level0 col5\" >pipe_4</th>        <th class=\"col_heading level0 col6\" >pipe_5</th>        <th class=\"col_heading level0 col7\" >pipe_6</th>        <th class=\"col_heading level0 col8\" >pipe_7</th>        <th class=\"col_heading level0 col9\" >pipe_8</th>        <th class=\"col_heading level0 col10\" >pipe_9</th>        <th class=\"col_heading level0 col11\" >pipe_10</th>        <th class=\"col_heading level0 col12\" >pipe_11</th>        <th class=\"col_heading level0 col13\" >pipe_12</th>        <th class=\"col_heading level0 col14\" >pipe_13</th>        <th class=\"col_heading level0 col15\" >pipe_14</th>        <th class=\"col_heading level0 col16\" >pipe_15</th>        <th class=\"col_heading level0 col17\" >pipe_16</th>        <th class=\"col_heading level0 col18\" >pipe_17</th>        <th class=\"col_heading level0 col19\" >pipe_18</th>        <th class=\"col_heading level0 col20\" >pipe_19</th>        <th class=\"col_heading level0 col21\" >pipe_20</th>        <th class=\"col_heading level0 col22\" >pipe_21</th>        <th class=\"col_heading level0 col23\" >pipe_22</th>        <th class=\"col_heading level0 col24\" >pipe_23</th>        <th class=\"col_heading level0 col25\" >pipe_24</th>        <th class=\"col_heading level0 col26\" >pipe_25</th>        <th class=\"col_heading level0 col27\" >pipe_26</th>        <th class=\"col_heading level0 col28\" >pipe_27</th>        <th class=\"col_heading level0 col29\" >pipe_28</th>        <th class=\"col_heading level0 col30\" >pipe_29</th>        <th class=\"col_heading level0 col31\" >pipe_30</th>        <th class=\"col_heading level0 col32\" >pipe_31</th>        <th class=\"col_heading level0 col33\" >pipe_32</th>        <th class=\"col_heading level0 col34\" >pipe_33</th>        <th class=\"col_heading level0 col35\" >pipe_34</th>        <th class=\"col_heading level0 col36\" >pipe_35</th>        <th class=\"col_heading level0 col37\" >pipe_36</th>        <th class=\"col_heading level0 col38\" >pipe_37</th>        <th class=\"col_heading level0 col39\" >pipe_38</th>        <th class=\"col_heading level0 col40\" >pipe_39</th>        <th class=\"col_heading level0 col41\" >pipe_40</th>        <th class=\"col_heading level0 col42\" >pipe_41</th>        <th class=\"col_heading level0 col43\" >pipe_42</th>        <th class=\"col_heading level0 col44\" >pipe_43</th>        <th class=\"col_heading level0 col45\" >pipe_44</th>        <th class=\"col_heading level0 col46\" >pipe_45</th>        <th class=\"col_heading level0 col47\" >pipe_46</th>        <th class=\"col_heading level0 col48\" >pipe_47</th>        <th class=\"col_heading level0 col49\" >pipe_48</th>        <th class=\"col_heading level0 col50\" >pipe_49</th>        <th class=\"col_heading level0 col51\" >pipe_50</th>        <th class=\"col_heading level0 col52\" >pipe_51</th>        <th class=\"col_heading level0 col53\" >pipe_52</th>        <th class=\"col_heading level0 col54\" >pipe_53</th>        <th class=\"col_heading level0 col55\" >pipe_54</th>        <th class=\"col_heading level0 col56\" >pipe_55</th>        <th class=\"col_heading level0 col57\" >pipe_56</th>        <th class=\"col_heading level0 col58\" >pipe_57</th>        <th class=\"col_heading level0 col59\" >pipe_58</th>        <th class=\"col_heading level0 col60\" >pipe_59</th>        <th class=\"col_heading level0 col61\" >pipe_60</th>        <th class=\"col_heading level0 col62\" >pipe_61</th>        <th class=\"col_heading level0 col63\" >pipe_62</th>        <th class=\"col_heading level0 col64\" >pipe_63</th>        <th class=\"col_heading level0 col65\" >pipe_64</th>        <th class=\"col_heading level0 col66\" >pipe_65</th>        <th class=\"col_heading level0 col67\" >pipe_66</th>        <th class=\"col_heading level0 col68\" >pipe_67</th>        <th class=\"col_heading level0 col69\" >pipe_68</th>        <th class=\"col_heading level0 col70\" >pipe_69</th>        <th class=\"col_heading level0 col71\" >pipe_70</th>        <th class=\"col_heading level0 col72\" >pipe_71</th>        <th class=\"col_heading level0 col73\" >pipe_72</th>        <th class=\"col_heading level0 col74\" >pipe_73</th>        <th class=\"col_heading level0 col75\" >pipe_74</th>        <th class=\"col_heading level0 col76\" >pipe_75</th>        <th class=\"col_heading level0 col77\" >pipe_76</th>    </tr></thead><tbody>\n",
       "                <tr>\n",
       "                                <td id=\"T_1a14fe32_f498_11e9_a5fe_008cfafbe83erow0_col0\" class=\"data row0 col0\" >0</td>\n",
       "                        <td id=\"T_1a14fe32_f498_11e9_a5fe_008cfafbe83erow0_col1\" class=\"data row0 col1\" >ReLU()</td>\n",
       "                        <td id=\"T_1a14fe32_f498_11e9_a5fe_008cfafbe83erow0_col2\" class=\"data row0 col2\" >BatchNorm2d(1, eps=1e-05, momentum=0.1, affine=True, track_running_stats=True)</td>\n",
       "                        <td id=\"T_1a14fe32_f498_11e9_a5fe_008cfafbe83erow0_col3\" class=\"data row0 col3\" >Conv2d(1, 64, kernel_size=(3, 3), stride=(1, 1), padding=(1, 1))</td>\n",
       "                        <td id=\"T_1a14fe32_f498_11e9_a5fe_008cfafbe83erow0_col4\" class=\"data row0 col4\" >MaxPool2d(kernel_size=2, stride=2, padding=0, dilation=1, ceil_mode=False)</td>\n",
       "                        <td id=\"T_1a14fe32_f498_11e9_a5fe_008cfafbe83erow0_col5\" class=\"data row0 col5\" >ReLU()</td>\n",
       "                        <td id=\"T_1a14fe32_f498_11e9_a5fe_008cfafbe83erow0_col6\" class=\"data row0 col6\" >BatchNorm2d(64, eps=1e-05, momentum=0.1, affine=True, track_running_stats=True)</td>\n",
       "                        <td id=\"T_1a14fe32_f498_11e9_a5fe_008cfafbe83erow0_col7\" class=\"data row0 col7\" >Conv2d(64, 64, kernel_size=(3, 3), stride=(1, 1), padding=(1, 1))</td>\n",
       "                        <td id=\"T_1a14fe32_f498_11e9_a5fe_008cfafbe83erow0_col8\" class=\"data row0 col8\" >MaxPool2d(kernel_size=2, stride=2, padding=0, dilation=1, ceil_mode=False)</td>\n",
       "                        <td id=\"T_1a14fe32_f498_11e9_a5fe_008cfafbe83erow0_col9\" class=\"data row0 col9\" >ReLU()</td>\n",
       "                        <td id=\"T_1a14fe32_f498_11e9_a5fe_008cfafbe83erow0_col10\" class=\"data row0 col10\" >BatchNorm2d(64, eps=1e-05, momentum=0.1, affine=True, track_running_stats=True)</td>\n",
       "                        <td id=\"T_1a14fe32_f498_11e9_a5fe_008cfafbe83erow0_col11\" class=\"data row0 col11\" >Conv2d(64, 64, kernel_size=(3, 3), stride=(1, 1), padding=(1, 1))</td>\n",
       "                        <td id=\"T_1a14fe32_f498_11e9_a5fe_008cfafbe83erow0_col12\" class=\"data row0 col12\" >MaxPool2d(kernel_size=2, stride=2, padding=0, dilation=1, ceil_mode=False)</td>\n",
       "                        <td id=\"T_1a14fe32_f498_11e9_a5fe_008cfafbe83erow0_col13\" class=\"data row0 col13\" >GlobalAvgPool2d()</td>\n",
       "                        <td id=\"T_1a14fe32_f498_11e9_a5fe_008cfafbe83erow0_col14\" class=\"data row0 col14\" >Dropout2d(p=0.25)</td>\n",
       "                        <td id=\"T_1a14fe32_f498_11e9_a5fe_008cfafbe83erow0_col15\" class=\"data row0 col15\" >Linear(in_features=64, out_features=64, bias=True)</td>\n",
       "                        <td id=\"T_1a14fe32_f498_11e9_a5fe_008cfafbe83erow0_col16\" class=\"data row0 col16\" >ReLU()</td>\n",
       "                        <td id=\"T_1a14fe32_f498_11e9_a5fe_008cfafbe83erow0_col17\" class=\"data row0 col17\" >Linear(in_features=64, out_features=10, bias=True)</td>\n",
       "                        <td id=\"T_1a14fe32_f498_11e9_a5fe_008cfafbe83erow0_col18\" class=\"data row0 col18\" >nan</td>\n",
       "                        <td id=\"T_1a14fe32_f498_11e9_a5fe_008cfafbe83erow0_col19\" class=\"data row0 col19\" >nan</td>\n",
       "                        <td id=\"T_1a14fe32_f498_11e9_a5fe_008cfafbe83erow0_col20\" class=\"data row0 col20\" >nan</td>\n",
       "                        <td id=\"T_1a14fe32_f498_11e9_a5fe_008cfafbe83erow0_col21\" class=\"data row0 col21\" >nan</td>\n",
       "                        <td id=\"T_1a14fe32_f498_11e9_a5fe_008cfafbe83erow0_col22\" class=\"data row0 col22\" >nan</td>\n",
       "                        <td id=\"T_1a14fe32_f498_11e9_a5fe_008cfafbe83erow0_col23\" class=\"data row0 col23\" >nan</td>\n",
       "                        <td id=\"T_1a14fe32_f498_11e9_a5fe_008cfafbe83erow0_col24\" class=\"data row0 col24\" >nan</td>\n",
       "                        <td id=\"T_1a14fe32_f498_11e9_a5fe_008cfafbe83erow0_col25\" class=\"data row0 col25\" >nan</td>\n",
       "                        <td id=\"T_1a14fe32_f498_11e9_a5fe_008cfafbe83erow0_col26\" class=\"data row0 col26\" >nan</td>\n",
       "                        <td id=\"T_1a14fe32_f498_11e9_a5fe_008cfafbe83erow0_col27\" class=\"data row0 col27\" >nan</td>\n",
       "                        <td id=\"T_1a14fe32_f498_11e9_a5fe_008cfafbe83erow0_col28\" class=\"data row0 col28\" >nan</td>\n",
       "                        <td id=\"T_1a14fe32_f498_11e9_a5fe_008cfafbe83erow0_col29\" class=\"data row0 col29\" >nan</td>\n",
       "                        <td id=\"T_1a14fe32_f498_11e9_a5fe_008cfafbe83erow0_col30\" class=\"data row0 col30\" >nan</td>\n",
       "                        <td id=\"T_1a14fe32_f498_11e9_a5fe_008cfafbe83erow0_col31\" class=\"data row0 col31\" >nan</td>\n",
       "                        <td id=\"T_1a14fe32_f498_11e9_a5fe_008cfafbe83erow0_col32\" class=\"data row0 col32\" >nan</td>\n",
       "                        <td id=\"T_1a14fe32_f498_11e9_a5fe_008cfafbe83erow0_col33\" class=\"data row0 col33\" >nan</td>\n",
       "                        <td id=\"T_1a14fe32_f498_11e9_a5fe_008cfafbe83erow0_col34\" class=\"data row0 col34\" >nan</td>\n",
       "                        <td id=\"T_1a14fe32_f498_11e9_a5fe_008cfafbe83erow0_col35\" class=\"data row0 col35\" >nan</td>\n",
       "                        <td id=\"T_1a14fe32_f498_11e9_a5fe_008cfafbe83erow0_col36\" class=\"data row0 col36\" >nan</td>\n",
       "                        <td id=\"T_1a14fe32_f498_11e9_a5fe_008cfafbe83erow0_col37\" class=\"data row0 col37\" >nan</td>\n",
       "                        <td id=\"T_1a14fe32_f498_11e9_a5fe_008cfafbe83erow0_col38\" class=\"data row0 col38\" >nan</td>\n",
       "                        <td id=\"T_1a14fe32_f498_11e9_a5fe_008cfafbe83erow0_col39\" class=\"data row0 col39\" >nan</td>\n",
       "                        <td id=\"T_1a14fe32_f498_11e9_a5fe_008cfafbe83erow0_col40\" class=\"data row0 col40\" >nan</td>\n",
       "                        <td id=\"T_1a14fe32_f498_11e9_a5fe_008cfafbe83erow0_col41\" class=\"data row0 col41\" >nan</td>\n",
       "                        <td id=\"T_1a14fe32_f498_11e9_a5fe_008cfafbe83erow0_col42\" class=\"data row0 col42\" >nan</td>\n",
       "                        <td id=\"T_1a14fe32_f498_11e9_a5fe_008cfafbe83erow0_col43\" class=\"data row0 col43\" >nan</td>\n",
       "                        <td id=\"T_1a14fe32_f498_11e9_a5fe_008cfafbe83erow0_col44\" class=\"data row0 col44\" >nan</td>\n",
       "                        <td id=\"T_1a14fe32_f498_11e9_a5fe_008cfafbe83erow0_col45\" class=\"data row0 col45\" >nan</td>\n",
       "                        <td id=\"T_1a14fe32_f498_11e9_a5fe_008cfafbe83erow0_col46\" class=\"data row0 col46\" >nan</td>\n",
       "                        <td id=\"T_1a14fe32_f498_11e9_a5fe_008cfafbe83erow0_col47\" class=\"data row0 col47\" >nan</td>\n",
       "                        <td id=\"T_1a14fe32_f498_11e9_a5fe_008cfafbe83erow0_col48\" class=\"data row0 col48\" >nan</td>\n",
       "                        <td id=\"T_1a14fe32_f498_11e9_a5fe_008cfafbe83erow0_col49\" class=\"data row0 col49\" >nan</td>\n",
       "                        <td id=\"T_1a14fe32_f498_11e9_a5fe_008cfafbe83erow0_col50\" class=\"data row0 col50\" >nan</td>\n",
       "                        <td id=\"T_1a14fe32_f498_11e9_a5fe_008cfafbe83erow0_col51\" class=\"data row0 col51\" >nan</td>\n",
       "                        <td id=\"T_1a14fe32_f498_11e9_a5fe_008cfafbe83erow0_col52\" class=\"data row0 col52\" >nan</td>\n",
       "                        <td id=\"T_1a14fe32_f498_11e9_a5fe_008cfafbe83erow0_col53\" class=\"data row0 col53\" >nan</td>\n",
       "                        <td id=\"T_1a14fe32_f498_11e9_a5fe_008cfafbe83erow0_col54\" class=\"data row0 col54\" >nan</td>\n",
       "                        <td id=\"T_1a14fe32_f498_11e9_a5fe_008cfafbe83erow0_col55\" class=\"data row0 col55\" >nan</td>\n",
       "                        <td id=\"T_1a14fe32_f498_11e9_a5fe_008cfafbe83erow0_col56\" class=\"data row0 col56\" >nan</td>\n",
       "                        <td id=\"T_1a14fe32_f498_11e9_a5fe_008cfafbe83erow0_col57\" class=\"data row0 col57\" >nan</td>\n",
       "                        <td id=\"T_1a14fe32_f498_11e9_a5fe_008cfafbe83erow0_col58\" class=\"data row0 col58\" >nan</td>\n",
       "                        <td id=\"T_1a14fe32_f498_11e9_a5fe_008cfafbe83erow0_col59\" class=\"data row0 col59\" >nan</td>\n",
       "                        <td id=\"T_1a14fe32_f498_11e9_a5fe_008cfafbe83erow0_col60\" class=\"data row0 col60\" >nan</td>\n",
       "                        <td id=\"T_1a14fe32_f498_11e9_a5fe_008cfafbe83erow0_col61\" class=\"data row0 col61\" >nan</td>\n",
       "                        <td id=\"T_1a14fe32_f498_11e9_a5fe_008cfafbe83erow0_col62\" class=\"data row0 col62\" >nan</td>\n",
       "                        <td id=\"T_1a14fe32_f498_11e9_a5fe_008cfafbe83erow0_col63\" class=\"data row0 col63\" >nan</td>\n",
       "                        <td id=\"T_1a14fe32_f498_11e9_a5fe_008cfafbe83erow0_col64\" class=\"data row0 col64\" >nan</td>\n",
       "                        <td id=\"T_1a14fe32_f498_11e9_a5fe_008cfafbe83erow0_col65\" class=\"data row0 col65\" >nan</td>\n",
       "                        <td id=\"T_1a14fe32_f498_11e9_a5fe_008cfafbe83erow0_col66\" class=\"data row0 col66\" >nan</td>\n",
       "                        <td id=\"T_1a14fe32_f498_11e9_a5fe_008cfafbe83erow0_col67\" class=\"data row0 col67\" >nan</td>\n",
       "                        <td id=\"T_1a14fe32_f498_11e9_a5fe_008cfafbe83erow0_col68\" class=\"data row0 col68\" >nan</td>\n",
       "                        <td id=\"T_1a14fe32_f498_11e9_a5fe_008cfafbe83erow0_col69\" class=\"data row0 col69\" >nan</td>\n",
       "                        <td id=\"T_1a14fe32_f498_11e9_a5fe_008cfafbe83erow0_col70\" class=\"data row0 col70\" >nan</td>\n",
       "                        <td id=\"T_1a14fe32_f498_11e9_a5fe_008cfafbe83erow0_col71\" class=\"data row0 col71\" >nan</td>\n",
       "                        <td id=\"T_1a14fe32_f498_11e9_a5fe_008cfafbe83erow0_col72\" class=\"data row0 col72\" >nan</td>\n",
       "                        <td id=\"T_1a14fe32_f498_11e9_a5fe_008cfafbe83erow0_col73\" class=\"data row0 col73\" >nan</td>\n",
       "                        <td id=\"T_1a14fe32_f498_11e9_a5fe_008cfafbe83erow0_col74\" class=\"data row0 col74\" >nan</td>\n",
       "                        <td id=\"T_1a14fe32_f498_11e9_a5fe_008cfafbe83erow0_col75\" class=\"data row0 col75\" >nan</td>\n",
       "                        <td id=\"T_1a14fe32_f498_11e9_a5fe_008cfafbe83erow0_col76\" class=\"data row0 col76\" >nan</td>\n",
       "                        <td id=\"T_1a14fe32_f498_11e9_a5fe_008cfafbe83erow0_col77\" class=\"data row0 col77\" >nan</td>\n",
       "            </tr>\n",
       "            <tr>\n",
       "                                <td id=\"T_1a14fe32_f498_11e9_a5fe_008cfafbe83erow1_col0\" class=\"data row1 col0\" >12</td>\n",
       "                        <td id=\"T_1a14fe32_f498_11e9_a5fe_008cfafbe83erow1_col1\" class=\"data row1 col1\" >ReLU()</td>\n",
       "                        <td id=\"T_1a14fe32_f498_11e9_a5fe_008cfafbe83erow1_col2\" class=\"data row1 col2\" >BatchNorm2d(1, eps=1e-05, momentum=0.1, affine=True, track_running_stats=True)</td>\n",
       "                        <td id=\"T_1a14fe32_f498_11e9_a5fe_008cfafbe83erow1_col3\" class=\"data row1 col3\" >Conv2d(1, 64, kernel_size=(3, 3), stride=(1, 1), padding=(1, 1))</td>\n",
       "                        <td id=\"T_1a14fe32_f498_11e9_a5fe_008cfafbe83erow1_col4\" class=\"data row1 col4\" >MaxPool2d(kernel_size=2, stride=2, padding=0, dilation=1, ceil_mode=False)</td>\n",
       "                        <td id=\"T_1a14fe32_f498_11e9_a5fe_008cfafbe83erow1_col5\" class=\"data row1 col5\" >ReLU()</td>\n",
       "                        <td id=\"T_1a14fe32_f498_11e9_a5fe_008cfafbe83erow1_col6\" class=\"data row1 col6\" >BatchNorm2d(64, eps=1e-05, momentum=0.1, affine=True, track_running_stats=True)</td>\n",
       "                        <td id=\"T_1a14fe32_f498_11e9_a5fe_008cfafbe83erow1_col7\" class=\"data row1 col7\" >Conv2d(64, 64, kernel_size=(3, 3), stride=(1, 1), padding=(1, 1))</td>\n",
       "                        <td id=\"T_1a14fe32_f498_11e9_a5fe_008cfafbe83erow1_col8\" class=\"data row1 col8\" >MaxPool2d(kernel_size=2, stride=2, padding=0, dilation=1, ceil_mode=False)</td>\n",
       "                        <td id=\"T_1a14fe32_f498_11e9_a5fe_008cfafbe83erow1_col9\" class=\"data row1 col9\" >ReLU()</td>\n",
       "                        <td id=\"T_1a14fe32_f498_11e9_a5fe_008cfafbe83erow1_col10\" class=\"data row1 col10\" >BatchNorm2d(64, eps=1e-05, momentum=0.1, affine=True, track_running_stats=True)</td>\n",
       "                        <td id=\"T_1a14fe32_f498_11e9_a5fe_008cfafbe83erow1_col11\" class=\"data row1 col11\" >Conv2d(64, 64, kernel_size=(3, 3), stride=(1, 1), padding=(1, 1))</td>\n",
       "                        <td id=\"T_1a14fe32_f498_11e9_a5fe_008cfafbe83erow1_col12\" class=\"data row1 col12\" >MaxPool2d(kernel_size=2, stride=2, padding=0, dilation=1, ceil_mode=False)</td>\n",
       "                        <td id=\"T_1a14fe32_f498_11e9_a5fe_008cfafbe83erow1_col13\" class=\"data row1 col13\" >GlobalAvgPool2d()</td>\n",
       "                        <td id=\"T_1a14fe32_f498_11e9_a5fe_008cfafbe83erow1_col14\" class=\"data row1 col14\" >Dropout2d(p=0.25)</td>\n",
       "                        <td id=\"T_1a14fe32_f498_11e9_a5fe_008cfafbe83erow1_col15\" class=\"data row1 col15\" >Linear(in_features=64, out_features=64, bias=True)</td>\n",
       "                        <td id=\"T_1a14fe32_f498_11e9_a5fe_008cfafbe83erow1_col16\" class=\"data row1 col16\" >ReLU()</td>\n",
       "                        <td id=\"T_1a14fe32_f498_11e9_a5fe_008cfafbe83erow1_col17\" class=\"data row1 col17\" >Linear(in_features=64, out_features=10, bias=True)</td>\n",
       "                        <td id=\"T_1a14fe32_f498_11e9_a5fe_008cfafbe83erow1_col18\" class=\"data row1 col18\" >nan</td>\n",
       "                        <td id=\"T_1a14fe32_f498_11e9_a5fe_008cfafbe83erow1_col19\" class=\"data row1 col19\" >nan</td>\n",
       "                        <td id=\"T_1a14fe32_f498_11e9_a5fe_008cfafbe83erow1_col20\" class=\"data row1 col20\" >nan</td>\n",
       "                        <td id=\"T_1a14fe32_f498_11e9_a5fe_008cfafbe83erow1_col21\" class=\"data row1 col21\" >nan</td>\n",
       "                        <td id=\"T_1a14fe32_f498_11e9_a5fe_008cfafbe83erow1_col22\" class=\"data row1 col22\" >nan</td>\n",
       "                        <td id=\"T_1a14fe32_f498_11e9_a5fe_008cfafbe83erow1_col23\" class=\"data row1 col23\" >nan</td>\n",
       "                        <td id=\"T_1a14fe32_f498_11e9_a5fe_008cfafbe83erow1_col24\" class=\"data row1 col24\" >nan</td>\n",
       "                        <td id=\"T_1a14fe32_f498_11e9_a5fe_008cfafbe83erow1_col25\" class=\"data row1 col25\" >nan</td>\n",
       "                        <td id=\"T_1a14fe32_f498_11e9_a5fe_008cfafbe83erow1_col26\" class=\"data row1 col26\" >nan</td>\n",
       "                        <td id=\"T_1a14fe32_f498_11e9_a5fe_008cfafbe83erow1_col27\" class=\"data row1 col27\" >nan</td>\n",
       "                        <td id=\"T_1a14fe32_f498_11e9_a5fe_008cfafbe83erow1_col28\" class=\"data row1 col28\" >nan</td>\n",
       "                        <td id=\"T_1a14fe32_f498_11e9_a5fe_008cfafbe83erow1_col29\" class=\"data row1 col29\" >nan</td>\n",
       "                        <td id=\"T_1a14fe32_f498_11e9_a5fe_008cfafbe83erow1_col30\" class=\"data row1 col30\" >nan</td>\n",
       "                        <td id=\"T_1a14fe32_f498_11e9_a5fe_008cfafbe83erow1_col31\" class=\"data row1 col31\" >nan</td>\n",
       "                        <td id=\"T_1a14fe32_f498_11e9_a5fe_008cfafbe83erow1_col32\" class=\"data row1 col32\" >nan</td>\n",
       "                        <td id=\"T_1a14fe32_f498_11e9_a5fe_008cfafbe83erow1_col33\" class=\"data row1 col33\" >nan</td>\n",
       "                        <td id=\"T_1a14fe32_f498_11e9_a5fe_008cfafbe83erow1_col34\" class=\"data row1 col34\" >nan</td>\n",
       "                        <td id=\"T_1a14fe32_f498_11e9_a5fe_008cfafbe83erow1_col35\" class=\"data row1 col35\" >nan</td>\n",
       "                        <td id=\"T_1a14fe32_f498_11e9_a5fe_008cfafbe83erow1_col36\" class=\"data row1 col36\" >nan</td>\n",
       "                        <td id=\"T_1a14fe32_f498_11e9_a5fe_008cfafbe83erow1_col37\" class=\"data row1 col37\" >nan</td>\n",
       "                        <td id=\"T_1a14fe32_f498_11e9_a5fe_008cfafbe83erow1_col38\" class=\"data row1 col38\" >nan</td>\n",
       "                        <td id=\"T_1a14fe32_f498_11e9_a5fe_008cfafbe83erow1_col39\" class=\"data row1 col39\" >nan</td>\n",
       "                        <td id=\"T_1a14fe32_f498_11e9_a5fe_008cfafbe83erow1_col40\" class=\"data row1 col40\" >nan</td>\n",
       "                        <td id=\"T_1a14fe32_f498_11e9_a5fe_008cfafbe83erow1_col41\" class=\"data row1 col41\" >nan</td>\n",
       "                        <td id=\"T_1a14fe32_f498_11e9_a5fe_008cfafbe83erow1_col42\" class=\"data row1 col42\" >nan</td>\n",
       "                        <td id=\"T_1a14fe32_f498_11e9_a5fe_008cfafbe83erow1_col43\" class=\"data row1 col43\" >nan</td>\n",
       "                        <td id=\"T_1a14fe32_f498_11e9_a5fe_008cfafbe83erow1_col44\" class=\"data row1 col44\" >nan</td>\n",
       "                        <td id=\"T_1a14fe32_f498_11e9_a5fe_008cfafbe83erow1_col45\" class=\"data row1 col45\" >nan</td>\n",
       "                        <td id=\"T_1a14fe32_f498_11e9_a5fe_008cfafbe83erow1_col46\" class=\"data row1 col46\" >nan</td>\n",
       "                        <td id=\"T_1a14fe32_f498_11e9_a5fe_008cfafbe83erow1_col47\" class=\"data row1 col47\" >nan</td>\n",
       "                        <td id=\"T_1a14fe32_f498_11e9_a5fe_008cfafbe83erow1_col48\" class=\"data row1 col48\" >nan</td>\n",
       "                        <td id=\"T_1a14fe32_f498_11e9_a5fe_008cfafbe83erow1_col49\" class=\"data row1 col49\" >nan</td>\n",
       "                        <td id=\"T_1a14fe32_f498_11e9_a5fe_008cfafbe83erow1_col50\" class=\"data row1 col50\" >nan</td>\n",
       "                        <td id=\"T_1a14fe32_f498_11e9_a5fe_008cfafbe83erow1_col51\" class=\"data row1 col51\" >nan</td>\n",
       "                        <td id=\"T_1a14fe32_f498_11e9_a5fe_008cfafbe83erow1_col52\" class=\"data row1 col52\" >nan</td>\n",
       "                        <td id=\"T_1a14fe32_f498_11e9_a5fe_008cfafbe83erow1_col53\" class=\"data row1 col53\" >nan</td>\n",
       "                        <td id=\"T_1a14fe32_f498_11e9_a5fe_008cfafbe83erow1_col54\" class=\"data row1 col54\" >nan</td>\n",
       "                        <td id=\"T_1a14fe32_f498_11e9_a5fe_008cfafbe83erow1_col55\" class=\"data row1 col55\" >nan</td>\n",
       "                        <td id=\"T_1a14fe32_f498_11e9_a5fe_008cfafbe83erow1_col56\" class=\"data row1 col56\" >nan</td>\n",
       "                        <td id=\"T_1a14fe32_f498_11e9_a5fe_008cfafbe83erow1_col57\" class=\"data row1 col57\" >nan</td>\n",
       "                        <td id=\"T_1a14fe32_f498_11e9_a5fe_008cfafbe83erow1_col58\" class=\"data row1 col58\" >nan</td>\n",
       "                        <td id=\"T_1a14fe32_f498_11e9_a5fe_008cfafbe83erow1_col59\" class=\"data row1 col59\" >nan</td>\n",
       "                        <td id=\"T_1a14fe32_f498_11e9_a5fe_008cfafbe83erow1_col60\" class=\"data row1 col60\" >nan</td>\n",
       "                        <td id=\"T_1a14fe32_f498_11e9_a5fe_008cfafbe83erow1_col61\" class=\"data row1 col61\" >nan</td>\n",
       "                        <td id=\"T_1a14fe32_f498_11e9_a5fe_008cfafbe83erow1_col62\" class=\"data row1 col62\" >nan</td>\n",
       "                        <td id=\"T_1a14fe32_f498_11e9_a5fe_008cfafbe83erow1_col63\" class=\"data row1 col63\" >nan</td>\n",
       "                        <td id=\"T_1a14fe32_f498_11e9_a5fe_008cfafbe83erow1_col64\" class=\"data row1 col64\" >nan</td>\n",
       "                        <td id=\"T_1a14fe32_f498_11e9_a5fe_008cfafbe83erow1_col65\" class=\"data row1 col65\" >nan</td>\n",
       "                        <td id=\"T_1a14fe32_f498_11e9_a5fe_008cfafbe83erow1_col66\" class=\"data row1 col66\" >nan</td>\n",
       "                        <td id=\"T_1a14fe32_f498_11e9_a5fe_008cfafbe83erow1_col67\" class=\"data row1 col67\" >nan</td>\n",
       "                        <td id=\"T_1a14fe32_f498_11e9_a5fe_008cfafbe83erow1_col68\" class=\"data row1 col68\" >nan</td>\n",
       "                        <td id=\"T_1a14fe32_f498_11e9_a5fe_008cfafbe83erow1_col69\" class=\"data row1 col69\" >nan</td>\n",
       "                        <td id=\"T_1a14fe32_f498_11e9_a5fe_008cfafbe83erow1_col70\" class=\"data row1 col70\" >nan</td>\n",
       "                        <td id=\"T_1a14fe32_f498_11e9_a5fe_008cfafbe83erow1_col71\" class=\"data row1 col71\" >nan</td>\n",
       "                        <td id=\"T_1a14fe32_f498_11e9_a5fe_008cfafbe83erow1_col72\" class=\"data row1 col72\" >nan</td>\n",
       "                        <td id=\"T_1a14fe32_f498_11e9_a5fe_008cfafbe83erow1_col73\" class=\"data row1 col73\" >nan</td>\n",
       "                        <td id=\"T_1a14fe32_f498_11e9_a5fe_008cfafbe83erow1_col74\" class=\"data row1 col74\" >nan</td>\n",
       "                        <td id=\"T_1a14fe32_f498_11e9_a5fe_008cfafbe83erow1_col75\" class=\"data row1 col75\" >nan</td>\n",
       "                        <td id=\"T_1a14fe32_f498_11e9_a5fe_008cfafbe83erow1_col76\" class=\"data row1 col76\" >nan</td>\n",
       "                        <td id=\"T_1a14fe32_f498_11e9_a5fe_008cfafbe83erow1_col77\" class=\"data row1 col77\" >nan</td>\n",
       "            </tr>\n",
       "            <tr>\n",
       "                                <td id=\"T_1a14fe32_f498_11e9_a5fe_008cfafbe83erow2_col0\" class=\"data row2 col0\" >24</td>\n",
       "                        <td id=\"T_1a14fe32_f498_11e9_a5fe_008cfafbe83erow2_col1\" class=\"data row2 col1\" >ReLU()</td>\n",
       "                        <td id=\"T_1a14fe32_f498_11e9_a5fe_008cfafbe83erow2_col2\" class=\"data row2 col2\" >BatchNorm2d(1, eps=1e-05, momentum=0.1, affine=True, track_running_stats=True)</td>\n",
       "                        <td id=\"T_1a14fe32_f498_11e9_a5fe_008cfafbe83erow2_col3\" class=\"data row2 col3\" >Conv2d(1, 64, kernel_size=(3, 3), stride=(1, 1), padding=(1, 1))</td>\n",
       "                        <td id=\"T_1a14fe32_f498_11e9_a5fe_008cfafbe83erow2_col4\" class=\"data row2 col4\" >MaxPool2d(kernel_size=2, stride=2, padding=0, dilation=1, ceil_mode=False)</td>\n",
       "                        <td id=\"T_1a14fe32_f498_11e9_a5fe_008cfafbe83erow2_col5\" class=\"data row2 col5\" >ReLU()</td>\n",
       "                        <td id=\"T_1a14fe32_f498_11e9_a5fe_008cfafbe83erow2_col6\" class=\"data row2 col6\" >BatchNorm2d(64, eps=1e-05, momentum=0.1, affine=True, track_running_stats=True)</td>\n",
       "                        <td id=\"T_1a14fe32_f498_11e9_a5fe_008cfafbe83erow2_col7\" class=\"data row2 col7\" >Conv2d(64, 64, kernel_size=(3, 3), stride=(1, 1), padding=(1, 1))</td>\n",
       "                        <td id=\"T_1a14fe32_f498_11e9_a5fe_008cfafbe83erow2_col8\" class=\"data row2 col8\" >MaxPool2d(kernel_size=2, stride=2, padding=0, dilation=1, ceil_mode=False)</td>\n",
       "                        <td id=\"T_1a14fe32_f498_11e9_a5fe_008cfafbe83erow2_col9\" class=\"data row2 col9\" >ReLU()</td>\n",
       "                        <td id=\"T_1a14fe32_f498_11e9_a5fe_008cfafbe83erow2_col10\" class=\"data row2 col10\" >BatchNorm2d(64, eps=1e-05, momentum=0.1, affine=True, track_running_stats=True)</td>\n",
       "                        <td id=\"T_1a14fe32_f498_11e9_a5fe_008cfafbe83erow2_col11\" class=\"data row2 col11\" >Conv2d(64, 64, kernel_size=(3, 3), stride=(1, 1), padding=(1, 1))</td>\n",
       "                        <td id=\"T_1a14fe32_f498_11e9_a5fe_008cfafbe83erow2_col12\" class=\"data row2 col12\" >MaxPool2d(kernel_size=2, stride=2, padding=0, dilation=1, ceil_mode=False)</td>\n",
       "                        <td id=\"T_1a14fe32_f498_11e9_a5fe_008cfafbe83erow2_col13\" class=\"data row2 col13\" >GlobalAvgPool2d()</td>\n",
       "                        <td id=\"T_1a14fe32_f498_11e9_a5fe_008cfafbe83erow2_col14\" class=\"data row2 col14\" >Dropout2d(p=0.25)</td>\n",
       "                        <td id=\"T_1a14fe32_f498_11e9_a5fe_008cfafbe83erow2_col15\" class=\"data row2 col15\" >Linear(in_features=64, out_features=64, bias=True)</td>\n",
       "                        <td id=\"T_1a14fe32_f498_11e9_a5fe_008cfafbe83erow2_col16\" class=\"data row2 col16\" >ReLU()</td>\n",
       "                        <td id=\"T_1a14fe32_f498_11e9_a5fe_008cfafbe83erow2_col17\" class=\"data row2 col17\" >Linear(in_features=64, out_features=10, bias=True)</td>\n",
       "                        <td id=\"T_1a14fe32_f498_11e9_a5fe_008cfafbe83erow2_col18\" class=\"data row2 col18\" >nan</td>\n",
       "                        <td id=\"T_1a14fe32_f498_11e9_a5fe_008cfafbe83erow2_col19\" class=\"data row2 col19\" >nan</td>\n",
       "                        <td id=\"T_1a14fe32_f498_11e9_a5fe_008cfafbe83erow2_col20\" class=\"data row2 col20\" >nan</td>\n",
       "                        <td id=\"T_1a14fe32_f498_11e9_a5fe_008cfafbe83erow2_col21\" class=\"data row2 col21\" >nan</td>\n",
       "                        <td id=\"T_1a14fe32_f498_11e9_a5fe_008cfafbe83erow2_col22\" class=\"data row2 col22\" >nan</td>\n",
       "                        <td id=\"T_1a14fe32_f498_11e9_a5fe_008cfafbe83erow2_col23\" class=\"data row2 col23\" >nan</td>\n",
       "                        <td id=\"T_1a14fe32_f498_11e9_a5fe_008cfafbe83erow2_col24\" class=\"data row2 col24\" >nan</td>\n",
       "                        <td id=\"T_1a14fe32_f498_11e9_a5fe_008cfafbe83erow2_col25\" class=\"data row2 col25\" >nan</td>\n",
       "                        <td id=\"T_1a14fe32_f498_11e9_a5fe_008cfafbe83erow2_col26\" class=\"data row2 col26\" >nan</td>\n",
       "                        <td id=\"T_1a14fe32_f498_11e9_a5fe_008cfafbe83erow2_col27\" class=\"data row2 col27\" >nan</td>\n",
       "                        <td id=\"T_1a14fe32_f498_11e9_a5fe_008cfafbe83erow2_col28\" class=\"data row2 col28\" >nan</td>\n",
       "                        <td id=\"T_1a14fe32_f498_11e9_a5fe_008cfafbe83erow2_col29\" class=\"data row2 col29\" >nan</td>\n",
       "                        <td id=\"T_1a14fe32_f498_11e9_a5fe_008cfafbe83erow2_col30\" class=\"data row2 col30\" >nan</td>\n",
       "                        <td id=\"T_1a14fe32_f498_11e9_a5fe_008cfafbe83erow2_col31\" class=\"data row2 col31\" >nan</td>\n",
       "                        <td id=\"T_1a14fe32_f498_11e9_a5fe_008cfafbe83erow2_col32\" class=\"data row2 col32\" >nan</td>\n",
       "                        <td id=\"T_1a14fe32_f498_11e9_a5fe_008cfafbe83erow2_col33\" class=\"data row2 col33\" >nan</td>\n",
       "                        <td id=\"T_1a14fe32_f498_11e9_a5fe_008cfafbe83erow2_col34\" class=\"data row2 col34\" >nan</td>\n",
       "                        <td id=\"T_1a14fe32_f498_11e9_a5fe_008cfafbe83erow2_col35\" class=\"data row2 col35\" >nan</td>\n",
       "                        <td id=\"T_1a14fe32_f498_11e9_a5fe_008cfafbe83erow2_col36\" class=\"data row2 col36\" >nan</td>\n",
       "                        <td id=\"T_1a14fe32_f498_11e9_a5fe_008cfafbe83erow2_col37\" class=\"data row2 col37\" >nan</td>\n",
       "                        <td id=\"T_1a14fe32_f498_11e9_a5fe_008cfafbe83erow2_col38\" class=\"data row2 col38\" >nan</td>\n",
       "                        <td id=\"T_1a14fe32_f498_11e9_a5fe_008cfafbe83erow2_col39\" class=\"data row2 col39\" >nan</td>\n",
       "                        <td id=\"T_1a14fe32_f498_11e9_a5fe_008cfafbe83erow2_col40\" class=\"data row2 col40\" >nan</td>\n",
       "                        <td id=\"T_1a14fe32_f498_11e9_a5fe_008cfafbe83erow2_col41\" class=\"data row2 col41\" >nan</td>\n",
       "                        <td id=\"T_1a14fe32_f498_11e9_a5fe_008cfafbe83erow2_col42\" class=\"data row2 col42\" >nan</td>\n",
       "                        <td id=\"T_1a14fe32_f498_11e9_a5fe_008cfafbe83erow2_col43\" class=\"data row2 col43\" >nan</td>\n",
       "                        <td id=\"T_1a14fe32_f498_11e9_a5fe_008cfafbe83erow2_col44\" class=\"data row2 col44\" >nan</td>\n",
       "                        <td id=\"T_1a14fe32_f498_11e9_a5fe_008cfafbe83erow2_col45\" class=\"data row2 col45\" >nan</td>\n",
       "                        <td id=\"T_1a14fe32_f498_11e9_a5fe_008cfafbe83erow2_col46\" class=\"data row2 col46\" >nan</td>\n",
       "                        <td id=\"T_1a14fe32_f498_11e9_a5fe_008cfafbe83erow2_col47\" class=\"data row2 col47\" >nan</td>\n",
       "                        <td id=\"T_1a14fe32_f498_11e9_a5fe_008cfafbe83erow2_col48\" class=\"data row2 col48\" >nan</td>\n",
       "                        <td id=\"T_1a14fe32_f498_11e9_a5fe_008cfafbe83erow2_col49\" class=\"data row2 col49\" >nan</td>\n",
       "                        <td id=\"T_1a14fe32_f498_11e9_a5fe_008cfafbe83erow2_col50\" class=\"data row2 col50\" >nan</td>\n",
       "                        <td id=\"T_1a14fe32_f498_11e9_a5fe_008cfafbe83erow2_col51\" class=\"data row2 col51\" >nan</td>\n",
       "                        <td id=\"T_1a14fe32_f498_11e9_a5fe_008cfafbe83erow2_col52\" class=\"data row2 col52\" >nan</td>\n",
       "                        <td id=\"T_1a14fe32_f498_11e9_a5fe_008cfafbe83erow2_col53\" class=\"data row2 col53\" >nan</td>\n",
       "                        <td id=\"T_1a14fe32_f498_11e9_a5fe_008cfafbe83erow2_col54\" class=\"data row2 col54\" >nan</td>\n",
       "                        <td id=\"T_1a14fe32_f498_11e9_a5fe_008cfafbe83erow2_col55\" class=\"data row2 col55\" >nan</td>\n",
       "                        <td id=\"T_1a14fe32_f498_11e9_a5fe_008cfafbe83erow2_col56\" class=\"data row2 col56\" >nan</td>\n",
       "                        <td id=\"T_1a14fe32_f498_11e9_a5fe_008cfafbe83erow2_col57\" class=\"data row2 col57\" >nan</td>\n",
       "                        <td id=\"T_1a14fe32_f498_11e9_a5fe_008cfafbe83erow2_col58\" class=\"data row2 col58\" >nan</td>\n",
       "                        <td id=\"T_1a14fe32_f498_11e9_a5fe_008cfafbe83erow2_col59\" class=\"data row2 col59\" >nan</td>\n",
       "                        <td id=\"T_1a14fe32_f498_11e9_a5fe_008cfafbe83erow2_col60\" class=\"data row2 col60\" >nan</td>\n",
       "                        <td id=\"T_1a14fe32_f498_11e9_a5fe_008cfafbe83erow2_col61\" class=\"data row2 col61\" >nan</td>\n",
       "                        <td id=\"T_1a14fe32_f498_11e9_a5fe_008cfafbe83erow2_col62\" class=\"data row2 col62\" >nan</td>\n",
       "                        <td id=\"T_1a14fe32_f498_11e9_a5fe_008cfafbe83erow2_col63\" class=\"data row2 col63\" >nan</td>\n",
       "                        <td id=\"T_1a14fe32_f498_11e9_a5fe_008cfafbe83erow2_col64\" class=\"data row2 col64\" >nan</td>\n",
       "                        <td id=\"T_1a14fe32_f498_11e9_a5fe_008cfafbe83erow2_col65\" class=\"data row2 col65\" >nan</td>\n",
       "                        <td id=\"T_1a14fe32_f498_11e9_a5fe_008cfafbe83erow2_col66\" class=\"data row2 col66\" >nan</td>\n",
       "                        <td id=\"T_1a14fe32_f498_11e9_a5fe_008cfafbe83erow2_col67\" class=\"data row2 col67\" >nan</td>\n",
       "                        <td id=\"T_1a14fe32_f498_11e9_a5fe_008cfafbe83erow2_col68\" class=\"data row2 col68\" >nan</td>\n",
       "                        <td id=\"T_1a14fe32_f498_11e9_a5fe_008cfafbe83erow2_col69\" class=\"data row2 col69\" >nan</td>\n",
       "                        <td id=\"T_1a14fe32_f498_11e9_a5fe_008cfafbe83erow2_col70\" class=\"data row2 col70\" >nan</td>\n",
       "                        <td id=\"T_1a14fe32_f498_11e9_a5fe_008cfafbe83erow2_col71\" class=\"data row2 col71\" >nan</td>\n",
       "                        <td id=\"T_1a14fe32_f498_11e9_a5fe_008cfafbe83erow2_col72\" class=\"data row2 col72\" >nan</td>\n",
       "                        <td id=\"T_1a14fe32_f498_11e9_a5fe_008cfafbe83erow2_col73\" class=\"data row2 col73\" >nan</td>\n",
       "                        <td id=\"T_1a14fe32_f498_11e9_a5fe_008cfafbe83erow2_col74\" class=\"data row2 col74\" >nan</td>\n",
       "                        <td id=\"T_1a14fe32_f498_11e9_a5fe_008cfafbe83erow2_col75\" class=\"data row2 col75\" >nan</td>\n",
       "                        <td id=\"T_1a14fe32_f498_11e9_a5fe_008cfafbe83erow2_col76\" class=\"data row2 col76\" >nan</td>\n",
       "                        <td id=\"T_1a14fe32_f498_11e9_a5fe_008cfafbe83erow2_col77\" class=\"data row2 col77\" >nan</td>\n",
       "            </tr>\n",
       "            <tr>\n",
       "                                <td id=\"T_1a14fe32_f498_11e9_a5fe_008cfafbe83erow3_col0\" class=\"data row3 col0\" >36</td>\n",
       "                        <td id=\"T_1a14fe32_f498_11e9_a5fe_008cfafbe83erow3_col1\" class=\"data row3 col1\" >ReLU()</td>\n",
       "                        <td id=\"T_1a14fe32_f498_11e9_a5fe_008cfafbe83erow3_col2\" class=\"data row3 col2\" >BatchNorm2d(1, eps=1e-05, momentum=0.1, affine=True, track_running_stats=True)</td>\n",
       "                        <td id=\"T_1a14fe32_f498_11e9_a5fe_008cfafbe83erow3_col3\" class=\"data row3 col3\" >Conv2d(1, 64, kernel_size=(3, 3), stride=(1, 1), padding=(1, 1))</td>\n",
       "                        <td id=\"T_1a14fe32_f498_11e9_a5fe_008cfafbe83erow3_col4\" class=\"data row3 col4\" >MaxPool2d(kernel_size=2, stride=2, padding=0, dilation=1, ceil_mode=False)</td>\n",
       "                        <td id=\"T_1a14fe32_f498_11e9_a5fe_008cfafbe83erow3_col5\" class=\"data row3 col5\" >ReLU()</td>\n",
       "                        <td id=\"T_1a14fe32_f498_11e9_a5fe_008cfafbe83erow3_col6\" class=\"data row3 col6\" >BatchNorm2d(64, eps=1e-05, momentum=0.1, affine=True, track_running_stats=True)</td>\n",
       "                        <td id=\"T_1a14fe32_f498_11e9_a5fe_008cfafbe83erow3_col7\" class=\"data row3 col7\" >Conv2d(64, 64, kernel_size=(3, 3), stride=(1, 1), padding=(1, 1))</td>\n",
       "                        <td id=\"T_1a14fe32_f498_11e9_a5fe_008cfafbe83erow3_col8\" class=\"data row3 col8\" >MaxPool2d(kernel_size=2, stride=2, padding=0, dilation=1, ceil_mode=False)</td>\n",
       "                        <td id=\"T_1a14fe32_f498_11e9_a5fe_008cfafbe83erow3_col9\" class=\"data row3 col9\" >ReLU()</td>\n",
       "                        <td id=\"T_1a14fe32_f498_11e9_a5fe_008cfafbe83erow3_col10\" class=\"data row3 col10\" >BatchNorm2d(64, eps=1e-05, momentum=0.1, affine=True, track_running_stats=True)</td>\n",
       "                        <td id=\"T_1a14fe32_f498_11e9_a5fe_008cfafbe83erow3_col11\" class=\"data row3 col11\" >Conv2d(64, 64, kernel_size=(3, 3), stride=(1, 1), padding=(1, 1))</td>\n",
       "                        <td id=\"T_1a14fe32_f498_11e9_a5fe_008cfafbe83erow3_col12\" class=\"data row3 col12\" >MaxPool2d(kernel_size=2, stride=2, padding=0, dilation=1, ceil_mode=False)</td>\n",
       "                        <td id=\"T_1a14fe32_f498_11e9_a5fe_008cfafbe83erow3_col13\" class=\"data row3 col13\" >GlobalAvgPool2d()</td>\n",
       "                        <td id=\"T_1a14fe32_f498_11e9_a5fe_008cfafbe83erow3_col14\" class=\"data row3 col14\" >Dropout2d(p=0.25)</td>\n",
       "                        <td id=\"T_1a14fe32_f498_11e9_a5fe_008cfafbe83erow3_col15\" class=\"data row3 col15\" >Linear(in_features=64, out_features=64, bias=True)</td>\n",
       "                        <td id=\"T_1a14fe32_f498_11e9_a5fe_008cfafbe83erow3_col16\" class=\"data row3 col16\" >ReLU()</td>\n",
       "                        <td id=\"T_1a14fe32_f498_11e9_a5fe_008cfafbe83erow3_col17\" class=\"data row3 col17\" >Linear(in_features=64, out_features=10, bias=True)</td>\n",
       "                        <td id=\"T_1a14fe32_f498_11e9_a5fe_008cfafbe83erow3_col18\" class=\"data row3 col18\" >nan</td>\n",
       "                        <td id=\"T_1a14fe32_f498_11e9_a5fe_008cfafbe83erow3_col19\" class=\"data row3 col19\" >nan</td>\n",
       "                        <td id=\"T_1a14fe32_f498_11e9_a5fe_008cfafbe83erow3_col20\" class=\"data row3 col20\" >nan</td>\n",
       "                        <td id=\"T_1a14fe32_f498_11e9_a5fe_008cfafbe83erow3_col21\" class=\"data row3 col21\" >nan</td>\n",
       "                        <td id=\"T_1a14fe32_f498_11e9_a5fe_008cfafbe83erow3_col22\" class=\"data row3 col22\" >nan</td>\n",
       "                        <td id=\"T_1a14fe32_f498_11e9_a5fe_008cfafbe83erow3_col23\" class=\"data row3 col23\" >nan</td>\n",
       "                        <td id=\"T_1a14fe32_f498_11e9_a5fe_008cfafbe83erow3_col24\" class=\"data row3 col24\" >nan</td>\n",
       "                        <td id=\"T_1a14fe32_f498_11e9_a5fe_008cfafbe83erow3_col25\" class=\"data row3 col25\" >nan</td>\n",
       "                        <td id=\"T_1a14fe32_f498_11e9_a5fe_008cfafbe83erow3_col26\" class=\"data row3 col26\" >nan</td>\n",
       "                        <td id=\"T_1a14fe32_f498_11e9_a5fe_008cfafbe83erow3_col27\" class=\"data row3 col27\" >nan</td>\n",
       "                        <td id=\"T_1a14fe32_f498_11e9_a5fe_008cfafbe83erow3_col28\" class=\"data row3 col28\" >nan</td>\n",
       "                        <td id=\"T_1a14fe32_f498_11e9_a5fe_008cfafbe83erow3_col29\" class=\"data row3 col29\" >nan</td>\n",
       "                        <td id=\"T_1a14fe32_f498_11e9_a5fe_008cfafbe83erow3_col30\" class=\"data row3 col30\" >nan</td>\n",
       "                        <td id=\"T_1a14fe32_f498_11e9_a5fe_008cfafbe83erow3_col31\" class=\"data row3 col31\" >nan</td>\n",
       "                        <td id=\"T_1a14fe32_f498_11e9_a5fe_008cfafbe83erow3_col32\" class=\"data row3 col32\" >nan</td>\n",
       "                        <td id=\"T_1a14fe32_f498_11e9_a5fe_008cfafbe83erow3_col33\" class=\"data row3 col33\" >nan</td>\n",
       "                        <td id=\"T_1a14fe32_f498_11e9_a5fe_008cfafbe83erow3_col34\" class=\"data row3 col34\" >nan</td>\n",
       "                        <td id=\"T_1a14fe32_f498_11e9_a5fe_008cfafbe83erow3_col35\" class=\"data row3 col35\" >nan</td>\n",
       "                        <td id=\"T_1a14fe32_f498_11e9_a5fe_008cfafbe83erow3_col36\" class=\"data row3 col36\" >nan</td>\n",
       "                        <td id=\"T_1a14fe32_f498_11e9_a5fe_008cfafbe83erow3_col37\" class=\"data row3 col37\" >nan</td>\n",
       "                        <td id=\"T_1a14fe32_f498_11e9_a5fe_008cfafbe83erow3_col38\" class=\"data row3 col38\" >nan</td>\n",
       "                        <td id=\"T_1a14fe32_f498_11e9_a5fe_008cfafbe83erow3_col39\" class=\"data row3 col39\" >nan</td>\n",
       "                        <td id=\"T_1a14fe32_f498_11e9_a5fe_008cfafbe83erow3_col40\" class=\"data row3 col40\" >nan</td>\n",
       "                        <td id=\"T_1a14fe32_f498_11e9_a5fe_008cfafbe83erow3_col41\" class=\"data row3 col41\" >nan</td>\n",
       "                        <td id=\"T_1a14fe32_f498_11e9_a5fe_008cfafbe83erow3_col42\" class=\"data row3 col42\" >nan</td>\n",
       "                        <td id=\"T_1a14fe32_f498_11e9_a5fe_008cfafbe83erow3_col43\" class=\"data row3 col43\" >nan</td>\n",
       "                        <td id=\"T_1a14fe32_f498_11e9_a5fe_008cfafbe83erow3_col44\" class=\"data row3 col44\" >nan</td>\n",
       "                        <td id=\"T_1a14fe32_f498_11e9_a5fe_008cfafbe83erow3_col45\" class=\"data row3 col45\" >nan</td>\n",
       "                        <td id=\"T_1a14fe32_f498_11e9_a5fe_008cfafbe83erow3_col46\" class=\"data row3 col46\" >nan</td>\n",
       "                        <td id=\"T_1a14fe32_f498_11e9_a5fe_008cfafbe83erow3_col47\" class=\"data row3 col47\" >nan</td>\n",
       "                        <td id=\"T_1a14fe32_f498_11e9_a5fe_008cfafbe83erow3_col48\" class=\"data row3 col48\" >nan</td>\n",
       "                        <td id=\"T_1a14fe32_f498_11e9_a5fe_008cfafbe83erow3_col49\" class=\"data row3 col49\" >nan</td>\n",
       "                        <td id=\"T_1a14fe32_f498_11e9_a5fe_008cfafbe83erow3_col50\" class=\"data row3 col50\" >nan</td>\n",
       "                        <td id=\"T_1a14fe32_f498_11e9_a5fe_008cfafbe83erow3_col51\" class=\"data row3 col51\" >nan</td>\n",
       "                        <td id=\"T_1a14fe32_f498_11e9_a5fe_008cfafbe83erow3_col52\" class=\"data row3 col52\" >nan</td>\n",
       "                        <td id=\"T_1a14fe32_f498_11e9_a5fe_008cfafbe83erow3_col53\" class=\"data row3 col53\" >nan</td>\n",
       "                        <td id=\"T_1a14fe32_f498_11e9_a5fe_008cfafbe83erow3_col54\" class=\"data row3 col54\" >nan</td>\n",
       "                        <td id=\"T_1a14fe32_f498_11e9_a5fe_008cfafbe83erow3_col55\" class=\"data row3 col55\" >nan</td>\n",
       "                        <td id=\"T_1a14fe32_f498_11e9_a5fe_008cfafbe83erow3_col56\" class=\"data row3 col56\" >nan</td>\n",
       "                        <td id=\"T_1a14fe32_f498_11e9_a5fe_008cfafbe83erow3_col57\" class=\"data row3 col57\" >nan</td>\n",
       "                        <td id=\"T_1a14fe32_f498_11e9_a5fe_008cfafbe83erow3_col58\" class=\"data row3 col58\" >nan</td>\n",
       "                        <td id=\"T_1a14fe32_f498_11e9_a5fe_008cfafbe83erow3_col59\" class=\"data row3 col59\" >nan</td>\n",
       "                        <td id=\"T_1a14fe32_f498_11e9_a5fe_008cfafbe83erow3_col60\" class=\"data row3 col60\" >nan</td>\n",
       "                        <td id=\"T_1a14fe32_f498_11e9_a5fe_008cfafbe83erow3_col61\" class=\"data row3 col61\" >nan</td>\n",
       "                        <td id=\"T_1a14fe32_f498_11e9_a5fe_008cfafbe83erow3_col62\" class=\"data row3 col62\" >nan</td>\n",
       "                        <td id=\"T_1a14fe32_f498_11e9_a5fe_008cfafbe83erow3_col63\" class=\"data row3 col63\" >nan</td>\n",
       "                        <td id=\"T_1a14fe32_f498_11e9_a5fe_008cfafbe83erow3_col64\" class=\"data row3 col64\" >nan</td>\n",
       "                        <td id=\"T_1a14fe32_f498_11e9_a5fe_008cfafbe83erow3_col65\" class=\"data row3 col65\" >nan</td>\n",
       "                        <td id=\"T_1a14fe32_f498_11e9_a5fe_008cfafbe83erow3_col66\" class=\"data row3 col66\" >nan</td>\n",
       "                        <td id=\"T_1a14fe32_f498_11e9_a5fe_008cfafbe83erow3_col67\" class=\"data row3 col67\" >nan</td>\n",
       "                        <td id=\"T_1a14fe32_f498_11e9_a5fe_008cfafbe83erow3_col68\" class=\"data row3 col68\" >nan</td>\n",
       "                        <td id=\"T_1a14fe32_f498_11e9_a5fe_008cfafbe83erow3_col69\" class=\"data row3 col69\" >nan</td>\n",
       "                        <td id=\"T_1a14fe32_f498_11e9_a5fe_008cfafbe83erow3_col70\" class=\"data row3 col70\" >nan</td>\n",
       "                        <td id=\"T_1a14fe32_f498_11e9_a5fe_008cfafbe83erow3_col71\" class=\"data row3 col71\" >nan</td>\n",
       "                        <td id=\"T_1a14fe32_f498_11e9_a5fe_008cfafbe83erow3_col72\" class=\"data row3 col72\" >nan</td>\n",
       "                        <td id=\"T_1a14fe32_f498_11e9_a5fe_008cfafbe83erow3_col73\" class=\"data row3 col73\" >nan</td>\n",
       "                        <td id=\"T_1a14fe32_f498_11e9_a5fe_008cfafbe83erow3_col74\" class=\"data row3 col74\" >nan</td>\n",
       "                        <td id=\"T_1a14fe32_f498_11e9_a5fe_008cfafbe83erow3_col75\" class=\"data row3 col75\" >nan</td>\n",
       "                        <td id=\"T_1a14fe32_f498_11e9_a5fe_008cfafbe83erow3_col76\" class=\"data row3 col76\" >nan</td>\n",
       "                        <td id=\"T_1a14fe32_f498_11e9_a5fe_008cfafbe83erow3_col77\" class=\"data row3 col77\" >nan</td>\n",
       "            </tr>\n",
       "            <tr>\n",
       "                                <td id=\"T_1a14fe32_f498_11e9_a5fe_008cfafbe83erow4_col0\" class=\"data row4 col0\" >48</td>\n",
       "                        <td id=\"T_1a14fe32_f498_11e9_a5fe_008cfafbe83erow4_col1\" class=\"data row4 col1\" >Conv2d(1, 64, kernel_size=(3, 3), stride=(1, 1), padding=(1, 1))</td>\n",
       "                        <td id=\"T_1a14fe32_f498_11e9_a5fe_008cfafbe83erow4_col2\" class=\"data row4 col2\" >BatchNorm2d(64, eps=1e-05, momentum=0.1, affine=True, track_running_stats=True)</td>\n",
       "                        <td id=\"T_1a14fe32_f498_11e9_a5fe_008cfafbe83erow4_col3\" class=\"data row4 col3\" >BatchNorm2d(64, eps=1e-05, momentum=0.1, affine=True, track_running_stats=True)</td>\n",
       "                        <td id=\"T_1a14fe32_f498_11e9_a5fe_008cfafbe83erow4_col4\" class=\"data row4 col4\" >ReLU()</td>\n",
       "                        <td id=\"T_1a14fe32_f498_11e9_a5fe_008cfafbe83erow4_col5\" class=\"data row4 col5\" >Conv2d(64, 64, kernel_size=(3, 3), stride=(1, 1), padding=(1, 1))</td>\n",
       "                        <td id=\"T_1a14fe32_f498_11e9_a5fe_008cfafbe83erow4_col6\" class=\"data row4 col6\" >BatchNorm2d(64, eps=1e-05, momentum=0.1, affine=True, track_running_stats=True)</td>\n",
       "                        <td id=\"T_1a14fe32_f498_11e9_a5fe_008cfafbe83erow4_col7\" class=\"data row4 col7\" >ReLU()</td>\n",
       "                        <td id=\"T_1a14fe32_f498_11e9_a5fe_008cfafbe83erow4_col8\" class=\"data row4 col8\" >Conv2d(64, 64, kernel_size=(3, 3), stride=(1, 1), padding=(1, 1))</td>\n",
       "                        <td id=\"T_1a14fe32_f498_11e9_a5fe_008cfafbe83erow4_col9\" class=\"data row4 col9\" >ReLU()</td>\n",
       "                        <td id=\"T_1a14fe32_f498_11e9_a5fe_008cfafbe83erow4_col10\" class=\"data row4 col10\" >Conv2d(64, 64, kernel_size=(1, 1), stride=(1, 1))</td>\n",
       "                        <td id=\"T_1a14fe32_f498_11e9_a5fe_008cfafbe83erow4_col11\" class=\"data row4 col11\" >TorchAdd()</td>\n",
       "                        <td id=\"T_1a14fe32_f498_11e9_a5fe_008cfafbe83erow4_col12\" class=\"data row4 col12\" >BatchNorm2d(64, eps=1e-05, momentum=0.1, affine=True, track_running_stats=True)</td>\n",
       "                        <td id=\"T_1a14fe32_f498_11e9_a5fe_008cfafbe83erow4_col13\" class=\"data row4 col13\" >ReLU()</td>\n",
       "                        <td id=\"T_1a14fe32_f498_11e9_a5fe_008cfafbe83erow4_col14\" class=\"data row4 col14\" >Conv2d(64, 64, kernel_size=(3, 3), stride=(1, 1), padding=(1, 1))</td>\n",
       "                        <td id=\"T_1a14fe32_f498_11e9_a5fe_008cfafbe83erow4_col15\" class=\"data row4 col15\" >BatchNorm2d(64, eps=1e-05, momentum=0.1, affine=True, track_running_stats=True)</td>\n",
       "                        <td id=\"T_1a14fe32_f498_11e9_a5fe_008cfafbe83erow4_col16\" class=\"data row4 col16\" >ReLU()</td>\n",
       "                        <td id=\"T_1a14fe32_f498_11e9_a5fe_008cfafbe83erow4_col17\" class=\"data row4 col17\" >Conv2d(64, 64, kernel_size=(3, 3), stride=(1, 1), padding=(1, 1))</td>\n",
       "                        <td id=\"T_1a14fe32_f498_11e9_a5fe_008cfafbe83erow4_col18\" class=\"data row4 col18\" >ReLU()</td>\n",
       "                        <td id=\"T_1a14fe32_f498_11e9_a5fe_008cfafbe83erow4_col19\" class=\"data row4 col19\" >Conv2d(64, 64, kernel_size=(1, 1), stride=(1, 1))</td>\n",
       "                        <td id=\"T_1a14fe32_f498_11e9_a5fe_008cfafbe83erow4_col20\" class=\"data row4 col20\" >TorchAdd()</td>\n",
       "                        <td id=\"T_1a14fe32_f498_11e9_a5fe_008cfafbe83erow4_col21\" class=\"data row4 col21\" >BatchNorm2d(64, eps=1e-05, momentum=0.1, affine=True, track_running_stats=True)</td>\n",
       "                        <td id=\"T_1a14fe32_f498_11e9_a5fe_008cfafbe83erow4_col22\" class=\"data row4 col22\" >ReLU()</td>\n",
       "                        <td id=\"T_1a14fe32_f498_11e9_a5fe_008cfafbe83erow4_col23\" class=\"data row4 col23\" >Conv2d(64, 128, kernel_size=(3, 3), stride=(2, 2), padding=(1, 1))</td>\n",
       "                        <td id=\"T_1a14fe32_f498_11e9_a5fe_008cfafbe83erow4_col24\" class=\"data row4 col24\" >BatchNorm2d(128, eps=1e-05, momentum=0.1, affine=True, track_running_stats=True)</td>\n",
       "                        <td id=\"T_1a14fe32_f498_11e9_a5fe_008cfafbe83erow4_col25\" class=\"data row4 col25\" >ReLU()</td>\n",
       "                        <td id=\"T_1a14fe32_f498_11e9_a5fe_008cfafbe83erow4_col26\" class=\"data row4 col26\" >Conv2d(128, 128, kernel_size=(3, 3), stride=(1, 1), padding=(1, 1))</td>\n",
       "                        <td id=\"T_1a14fe32_f498_11e9_a5fe_008cfafbe83erow4_col27\" class=\"data row4 col27\" >ReLU()</td>\n",
       "                        <td id=\"T_1a14fe32_f498_11e9_a5fe_008cfafbe83erow4_col28\" class=\"data row4 col28\" >Conv2d(64, 128, kernel_size=(1, 1), stride=(2, 2))</td>\n",
       "                        <td id=\"T_1a14fe32_f498_11e9_a5fe_008cfafbe83erow4_col29\" class=\"data row4 col29\" >TorchAdd()</td>\n",
       "                        <td id=\"T_1a14fe32_f498_11e9_a5fe_008cfafbe83erow4_col30\" class=\"data row4 col30\" >BatchNorm2d(128, eps=1e-05, momentum=0.1, affine=True, track_running_stats=True)</td>\n",
       "                        <td id=\"T_1a14fe32_f498_11e9_a5fe_008cfafbe83erow4_col31\" class=\"data row4 col31\" >ReLU()</td>\n",
       "                        <td id=\"T_1a14fe32_f498_11e9_a5fe_008cfafbe83erow4_col32\" class=\"data row4 col32\" >Conv2d(128, 128, kernel_size=(3, 3), stride=(1, 1), padding=(1, 1))</td>\n",
       "                        <td id=\"T_1a14fe32_f498_11e9_a5fe_008cfafbe83erow4_col33\" class=\"data row4 col33\" >BatchNorm2d(128, eps=1e-05, momentum=0.1, affine=True, track_running_stats=True)</td>\n",
       "                        <td id=\"T_1a14fe32_f498_11e9_a5fe_008cfafbe83erow4_col34\" class=\"data row4 col34\" >ReLU()</td>\n",
       "                        <td id=\"T_1a14fe32_f498_11e9_a5fe_008cfafbe83erow4_col35\" class=\"data row4 col35\" >Conv2d(128, 128, kernel_size=(3, 3), stride=(1, 1), padding=(1, 1))</td>\n",
       "                        <td id=\"T_1a14fe32_f498_11e9_a5fe_008cfafbe83erow4_col36\" class=\"data row4 col36\" >ReLU()</td>\n",
       "                        <td id=\"T_1a14fe32_f498_11e9_a5fe_008cfafbe83erow4_col37\" class=\"data row4 col37\" >Conv2d(128, 128, kernel_size=(1, 1), stride=(1, 1))</td>\n",
       "                        <td id=\"T_1a14fe32_f498_11e9_a5fe_008cfafbe83erow4_col38\" class=\"data row4 col38\" >TorchAdd()</td>\n",
       "                        <td id=\"T_1a14fe32_f498_11e9_a5fe_008cfafbe83erow4_col39\" class=\"data row4 col39\" >BatchNorm2d(128, eps=1e-05, momentum=0.1, affine=True, track_running_stats=True)</td>\n",
       "                        <td id=\"T_1a14fe32_f498_11e9_a5fe_008cfafbe83erow4_col40\" class=\"data row4 col40\" >ReLU()</td>\n",
       "                        <td id=\"T_1a14fe32_f498_11e9_a5fe_008cfafbe83erow4_col41\" class=\"data row4 col41\" >Conv2d(128, 256, kernel_size=(3, 3), stride=(2, 2), padding=(1, 1))</td>\n",
       "                        <td id=\"T_1a14fe32_f498_11e9_a5fe_008cfafbe83erow4_col42\" class=\"data row4 col42\" >BatchNorm2d(256, eps=1e-05, momentum=0.1, affine=True, track_running_stats=True)</td>\n",
       "                        <td id=\"T_1a14fe32_f498_11e9_a5fe_008cfafbe83erow4_col43\" class=\"data row4 col43\" >ReLU()</td>\n",
       "                        <td id=\"T_1a14fe32_f498_11e9_a5fe_008cfafbe83erow4_col44\" class=\"data row4 col44\" >Conv2d(256, 256, kernel_size=(3, 3), stride=(1, 1), padding=(1, 1))</td>\n",
       "                        <td id=\"T_1a14fe32_f498_11e9_a5fe_008cfafbe83erow4_col45\" class=\"data row4 col45\" >ReLU()</td>\n",
       "                        <td id=\"T_1a14fe32_f498_11e9_a5fe_008cfafbe83erow4_col46\" class=\"data row4 col46\" >Conv2d(128, 256, kernel_size=(1, 1), stride=(2, 2))</td>\n",
       "                        <td id=\"T_1a14fe32_f498_11e9_a5fe_008cfafbe83erow4_col47\" class=\"data row4 col47\" >TorchAdd()</td>\n",
       "                        <td id=\"T_1a14fe32_f498_11e9_a5fe_008cfafbe83erow4_col48\" class=\"data row4 col48\" >BatchNorm2d(256, eps=1e-05, momentum=0.1, affine=True, track_running_stats=True)</td>\n",
       "                        <td id=\"T_1a14fe32_f498_11e9_a5fe_008cfafbe83erow4_col49\" class=\"data row4 col49\" >ReLU()</td>\n",
       "                        <td id=\"T_1a14fe32_f498_11e9_a5fe_008cfafbe83erow4_col50\" class=\"data row4 col50\" >Conv2d(256, 256, kernel_size=(3, 3), stride=(1, 1), padding=(1, 1))</td>\n",
       "                        <td id=\"T_1a14fe32_f498_11e9_a5fe_008cfafbe83erow4_col51\" class=\"data row4 col51\" >BatchNorm2d(256, eps=1e-05, momentum=0.1, affine=True, track_running_stats=True)</td>\n",
       "                        <td id=\"T_1a14fe32_f498_11e9_a5fe_008cfafbe83erow4_col52\" class=\"data row4 col52\" >ReLU()</td>\n",
       "                        <td id=\"T_1a14fe32_f498_11e9_a5fe_008cfafbe83erow4_col53\" class=\"data row4 col53\" >Conv2d(256, 256, kernel_size=(3, 3), stride=(1, 1), padding=(1, 1))</td>\n",
       "                        <td id=\"T_1a14fe32_f498_11e9_a5fe_008cfafbe83erow4_col54\" class=\"data row4 col54\" >ReLU()</td>\n",
       "                        <td id=\"T_1a14fe32_f498_11e9_a5fe_008cfafbe83erow4_col55\" class=\"data row4 col55\" >Conv2d(256, 256, kernel_size=(1, 1), stride=(1, 1))</td>\n",
       "                        <td id=\"T_1a14fe32_f498_11e9_a5fe_008cfafbe83erow4_col56\" class=\"data row4 col56\" >TorchAdd()</td>\n",
       "                        <td id=\"T_1a14fe32_f498_11e9_a5fe_008cfafbe83erow4_col57\" class=\"data row4 col57\" >BatchNorm2d(256, eps=1e-05, momentum=0.1, affine=True, track_running_stats=True)</td>\n",
       "                        <td id=\"T_1a14fe32_f498_11e9_a5fe_008cfafbe83erow4_col58\" class=\"data row4 col58\" >ReLU()</td>\n",
       "                        <td id=\"T_1a14fe32_f498_11e9_a5fe_008cfafbe83erow4_col59\" class=\"data row4 col59\" >Conv2d(256, 512, kernel_size=(3, 3), stride=(2, 2), padding=(1, 1))</td>\n",
       "                        <td id=\"T_1a14fe32_f498_11e9_a5fe_008cfafbe83erow4_col60\" class=\"data row4 col60\" >BatchNorm2d(512, eps=1e-05, momentum=0.1, affine=True, track_running_stats=True)</td>\n",
       "                        <td id=\"T_1a14fe32_f498_11e9_a5fe_008cfafbe83erow4_col61\" class=\"data row4 col61\" >ReLU()</td>\n",
       "                        <td id=\"T_1a14fe32_f498_11e9_a5fe_008cfafbe83erow4_col62\" class=\"data row4 col62\" >Conv2d(512, 512, kernel_size=(3, 3), stride=(1, 1), padding=(1, 1))</td>\n",
       "                        <td id=\"T_1a14fe32_f498_11e9_a5fe_008cfafbe83erow4_col63\" class=\"data row4 col63\" >ReLU()</td>\n",
       "                        <td id=\"T_1a14fe32_f498_11e9_a5fe_008cfafbe83erow4_col64\" class=\"data row4 col64\" >Conv2d(256, 512, kernel_size=(1, 1), stride=(2, 2))</td>\n",
       "                        <td id=\"T_1a14fe32_f498_11e9_a5fe_008cfafbe83erow4_col65\" class=\"data row4 col65\" >TorchAdd()</td>\n",
       "                        <td id=\"T_1a14fe32_f498_11e9_a5fe_008cfafbe83erow4_col66\" class=\"data row4 col66\" >BatchNorm2d(512, eps=1e-05, momentum=0.1, affine=True, track_running_stats=True)</td>\n",
       "                        <td id=\"T_1a14fe32_f498_11e9_a5fe_008cfafbe83erow4_col67\" class=\"data row4 col67\" >ReLU()</td>\n",
       "                        <td id=\"T_1a14fe32_f498_11e9_a5fe_008cfafbe83erow4_col68\" class=\"data row4 col68\" >Conv2d(512, 512, kernel_size=(3, 3), stride=(1, 1), padding=(1, 1))</td>\n",
       "                        <td id=\"T_1a14fe32_f498_11e9_a5fe_008cfafbe83erow4_col69\" class=\"data row4 col69\" >BatchNorm2d(512, eps=1e-05, momentum=0.1, affine=True, track_running_stats=True)</td>\n",
       "                        <td id=\"T_1a14fe32_f498_11e9_a5fe_008cfafbe83erow4_col70\" class=\"data row4 col70\" >ReLU()</td>\n",
       "                        <td id=\"T_1a14fe32_f498_11e9_a5fe_008cfafbe83erow4_col71\" class=\"data row4 col71\" >Conv2d(512, 512, kernel_size=(3, 3), stride=(1, 1), padding=(1, 1))</td>\n",
       "                        <td id=\"T_1a14fe32_f498_11e9_a5fe_008cfafbe83erow4_col72\" class=\"data row4 col72\" >ReLU()</td>\n",
       "                        <td id=\"T_1a14fe32_f498_11e9_a5fe_008cfafbe83erow4_col73\" class=\"data row4 col73\" >Conv2d(512, 512, kernel_size=(1, 1), stride=(1, 1))</td>\n",
       "                        <td id=\"T_1a14fe32_f498_11e9_a5fe_008cfafbe83erow4_col74\" class=\"data row4 col74\" >TorchAdd()</td>\n",
       "                        <td id=\"T_1a14fe32_f498_11e9_a5fe_008cfafbe83erow4_col75\" class=\"data row4 col75\" >GlobalAvgPool2d()</td>\n",
       "                        <td id=\"T_1a14fe32_f498_11e9_a5fe_008cfafbe83erow4_col76\" class=\"data row4 col76\" >Linear(in_features=512, out_features=10, bias=True)</td>\n",
       "                        <td id=\"T_1a14fe32_f498_11e9_a5fe_008cfafbe83erow4_col77\" class=\"data row4 col77\" >nan</td>\n",
       "            </tr>\n",
       "            <tr>\n",
       "                                <td id=\"T_1a14fe32_f498_11e9_a5fe_008cfafbe83erow5_col0\" class=\"data row5 col0\" >60</td>\n",
       "                        <td id=\"T_1a14fe32_f498_11e9_a5fe_008cfafbe83erow5_col1\" class=\"data row5 col1\" >Conv2d(1, 64, kernel_size=(3, 3), stride=(1, 1), padding=(1, 1))</td>\n",
       "                        <td id=\"T_1a14fe32_f498_11e9_a5fe_008cfafbe83erow5_col2\" class=\"data row5 col2\" >BatchNorm2d(64, eps=1e-05, momentum=0.1, affine=True, track_running_stats=True)</td>\n",
       "                        <td id=\"T_1a14fe32_f498_11e9_a5fe_008cfafbe83erow5_col3\" class=\"data row5 col3\" >BatchNorm2d(64, eps=1e-05, momentum=0.1, affine=True, track_running_stats=True)</td>\n",
       "                        <td id=\"T_1a14fe32_f498_11e9_a5fe_008cfafbe83erow5_col4\" class=\"data row5 col4\" >ReLU()</td>\n",
       "                        <td id=\"T_1a14fe32_f498_11e9_a5fe_008cfafbe83erow5_col5\" class=\"data row5 col5\" >Conv2d(64, 64, kernel_size=(3, 3), stride=(1, 1), padding=(1, 1))</td>\n",
       "                        <td id=\"T_1a14fe32_f498_11e9_a5fe_008cfafbe83erow5_col6\" class=\"data row5 col6\" >BatchNorm2d(64, eps=1e-05, momentum=0.1, affine=True, track_running_stats=True)</td>\n",
       "                        <td id=\"T_1a14fe32_f498_11e9_a5fe_008cfafbe83erow5_col7\" class=\"data row5 col7\" >ReLU()</td>\n",
       "                        <td id=\"T_1a14fe32_f498_11e9_a5fe_008cfafbe83erow5_col8\" class=\"data row5 col8\" >Conv2d(64, 64, kernel_size=(3, 3), stride=(1, 1), padding=(1, 1))</td>\n",
       "                        <td id=\"T_1a14fe32_f498_11e9_a5fe_008cfafbe83erow5_col9\" class=\"data row5 col9\" >ReLU()</td>\n",
       "                        <td id=\"T_1a14fe32_f498_11e9_a5fe_008cfafbe83erow5_col10\" class=\"data row5 col10\" >Conv2d(64, 64, kernel_size=(1, 1), stride=(1, 1))</td>\n",
       "                        <td id=\"T_1a14fe32_f498_11e9_a5fe_008cfafbe83erow5_col11\" class=\"data row5 col11\" >TorchAdd()</td>\n",
       "                        <td id=\"T_1a14fe32_f498_11e9_a5fe_008cfafbe83erow5_col12\" class=\"data row5 col12\" >BatchNorm2d(64, eps=1e-05, momentum=0.1, affine=True, track_running_stats=True)</td>\n",
       "                        <td id=\"T_1a14fe32_f498_11e9_a5fe_008cfafbe83erow5_col13\" class=\"data row5 col13\" >ReLU()</td>\n",
       "                        <td id=\"T_1a14fe32_f498_11e9_a5fe_008cfafbe83erow5_col14\" class=\"data row5 col14\" >Conv2d(64, 64, kernel_size=(3, 3), stride=(1, 1), padding=(1, 1))</td>\n",
       "                        <td id=\"T_1a14fe32_f498_11e9_a5fe_008cfafbe83erow5_col15\" class=\"data row5 col15\" >BatchNorm2d(64, eps=1e-05, momentum=0.1, affine=True, track_running_stats=True)</td>\n",
       "                        <td id=\"T_1a14fe32_f498_11e9_a5fe_008cfafbe83erow5_col16\" class=\"data row5 col16\" >ReLU()</td>\n",
       "                        <td id=\"T_1a14fe32_f498_11e9_a5fe_008cfafbe83erow5_col17\" class=\"data row5 col17\" >Conv2d(64, 64, kernel_size=(3, 3), stride=(1, 1), padding=(1, 1))</td>\n",
       "                        <td id=\"T_1a14fe32_f498_11e9_a5fe_008cfafbe83erow5_col18\" class=\"data row5 col18\" >ReLU()</td>\n",
       "                        <td id=\"T_1a14fe32_f498_11e9_a5fe_008cfafbe83erow5_col19\" class=\"data row5 col19\" >Conv2d(64, 64, kernel_size=(1, 1), stride=(1, 1))</td>\n",
       "                        <td id=\"T_1a14fe32_f498_11e9_a5fe_008cfafbe83erow5_col20\" class=\"data row5 col20\" >TorchAdd()</td>\n",
       "                        <td id=\"T_1a14fe32_f498_11e9_a5fe_008cfafbe83erow5_col21\" class=\"data row5 col21\" >BatchNorm2d(64, eps=1e-05, momentum=0.1, affine=True, track_running_stats=True)</td>\n",
       "                        <td id=\"T_1a14fe32_f498_11e9_a5fe_008cfafbe83erow5_col22\" class=\"data row5 col22\" >ReLU()</td>\n",
       "                        <td id=\"T_1a14fe32_f498_11e9_a5fe_008cfafbe83erow5_col23\" class=\"data row5 col23\" >Conv2d(64, 128, kernel_size=(3, 3), stride=(2, 2), padding=(1, 1))</td>\n",
       "                        <td id=\"T_1a14fe32_f498_11e9_a5fe_008cfafbe83erow5_col24\" class=\"data row5 col24\" >BatchNorm2d(128, eps=1e-05, momentum=0.1, affine=True, track_running_stats=True)</td>\n",
       "                        <td id=\"T_1a14fe32_f498_11e9_a5fe_008cfafbe83erow5_col25\" class=\"data row5 col25\" >ReLU()</td>\n",
       "                        <td id=\"T_1a14fe32_f498_11e9_a5fe_008cfafbe83erow5_col26\" class=\"data row5 col26\" >Conv2d(128, 128, kernel_size=(3, 3), stride=(1, 1), padding=(1, 1))</td>\n",
       "                        <td id=\"T_1a14fe32_f498_11e9_a5fe_008cfafbe83erow5_col27\" class=\"data row5 col27\" >ReLU()</td>\n",
       "                        <td id=\"T_1a14fe32_f498_11e9_a5fe_008cfafbe83erow5_col28\" class=\"data row5 col28\" >Conv2d(64, 128, kernel_size=(1, 1), stride=(2, 2))</td>\n",
       "                        <td id=\"T_1a14fe32_f498_11e9_a5fe_008cfafbe83erow5_col29\" class=\"data row5 col29\" >TorchAdd()</td>\n",
       "                        <td id=\"T_1a14fe32_f498_11e9_a5fe_008cfafbe83erow5_col30\" class=\"data row5 col30\" >BatchNorm2d(128, eps=1e-05, momentum=0.1, affine=True, track_running_stats=True)</td>\n",
       "                        <td id=\"T_1a14fe32_f498_11e9_a5fe_008cfafbe83erow5_col31\" class=\"data row5 col31\" >ReLU()</td>\n",
       "                        <td id=\"T_1a14fe32_f498_11e9_a5fe_008cfafbe83erow5_col32\" class=\"data row5 col32\" >Conv2d(128, 128, kernel_size=(3, 3), stride=(1, 1), padding=(1, 1))</td>\n",
       "                        <td id=\"T_1a14fe32_f498_11e9_a5fe_008cfafbe83erow5_col33\" class=\"data row5 col33\" >BatchNorm2d(128, eps=1e-05, momentum=0.1, affine=True, track_running_stats=True)</td>\n",
       "                        <td id=\"T_1a14fe32_f498_11e9_a5fe_008cfafbe83erow5_col34\" class=\"data row5 col34\" >ReLU()</td>\n",
       "                        <td id=\"T_1a14fe32_f498_11e9_a5fe_008cfafbe83erow5_col35\" class=\"data row5 col35\" >Conv2d(128, 128, kernel_size=(3, 3), stride=(1, 1), padding=(1, 1))</td>\n",
       "                        <td id=\"T_1a14fe32_f498_11e9_a5fe_008cfafbe83erow5_col36\" class=\"data row5 col36\" >ReLU()</td>\n",
       "                        <td id=\"T_1a14fe32_f498_11e9_a5fe_008cfafbe83erow5_col37\" class=\"data row5 col37\" >Conv2d(128, 128, kernel_size=(1, 1), stride=(1, 1))</td>\n",
       "                        <td id=\"T_1a14fe32_f498_11e9_a5fe_008cfafbe83erow5_col38\" class=\"data row5 col38\" >TorchAdd()</td>\n",
       "                        <td id=\"T_1a14fe32_f498_11e9_a5fe_008cfafbe83erow5_col39\" class=\"data row5 col39\" >BatchNorm2d(128, eps=1e-05, momentum=0.1, affine=True, track_running_stats=True)</td>\n",
       "                        <td id=\"T_1a14fe32_f498_11e9_a5fe_008cfafbe83erow5_col40\" class=\"data row5 col40\" >ReLU()</td>\n",
       "                        <td id=\"T_1a14fe32_f498_11e9_a5fe_008cfafbe83erow5_col41\" class=\"data row5 col41\" >Conv2d(128, 256, kernel_size=(3, 3), stride=(2, 2), padding=(1, 1))</td>\n",
       "                        <td id=\"T_1a14fe32_f498_11e9_a5fe_008cfafbe83erow5_col42\" class=\"data row5 col42\" >BatchNorm2d(256, eps=1e-05, momentum=0.1, affine=True, track_running_stats=True)</td>\n",
       "                        <td id=\"T_1a14fe32_f498_11e9_a5fe_008cfafbe83erow5_col43\" class=\"data row5 col43\" >ReLU()</td>\n",
       "                        <td id=\"T_1a14fe32_f498_11e9_a5fe_008cfafbe83erow5_col44\" class=\"data row5 col44\" >Conv2d(256, 256, kernel_size=(3, 3), stride=(1, 1), padding=(1, 1))</td>\n",
       "                        <td id=\"T_1a14fe32_f498_11e9_a5fe_008cfafbe83erow5_col45\" class=\"data row5 col45\" >ReLU()</td>\n",
       "                        <td id=\"T_1a14fe32_f498_11e9_a5fe_008cfafbe83erow5_col46\" class=\"data row5 col46\" >Conv2d(128, 256, kernel_size=(1, 1), stride=(2, 2))</td>\n",
       "                        <td id=\"T_1a14fe32_f498_11e9_a5fe_008cfafbe83erow5_col47\" class=\"data row5 col47\" >TorchAdd()</td>\n",
       "                        <td id=\"T_1a14fe32_f498_11e9_a5fe_008cfafbe83erow5_col48\" class=\"data row5 col48\" >BatchNorm2d(256, eps=1e-05, momentum=0.1, affine=True, track_running_stats=True)</td>\n",
       "                        <td id=\"T_1a14fe32_f498_11e9_a5fe_008cfafbe83erow5_col49\" class=\"data row5 col49\" >ReLU()</td>\n",
       "                        <td id=\"T_1a14fe32_f498_11e9_a5fe_008cfafbe83erow5_col50\" class=\"data row5 col50\" >Conv2d(256, 256, kernel_size=(3, 3), stride=(1, 1), padding=(1, 1))</td>\n",
       "                        <td id=\"T_1a14fe32_f498_11e9_a5fe_008cfafbe83erow5_col51\" class=\"data row5 col51\" >BatchNorm2d(256, eps=1e-05, momentum=0.1, affine=True, track_running_stats=True)</td>\n",
       "                        <td id=\"T_1a14fe32_f498_11e9_a5fe_008cfafbe83erow5_col52\" class=\"data row5 col52\" >ReLU()</td>\n",
       "                        <td id=\"T_1a14fe32_f498_11e9_a5fe_008cfafbe83erow5_col53\" class=\"data row5 col53\" >Conv2d(256, 256, kernel_size=(3, 3), stride=(1, 1), padding=(1, 1))</td>\n",
       "                        <td id=\"T_1a14fe32_f498_11e9_a5fe_008cfafbe83erow5_col54\" class=\"data row5 col54\" >ReLU()</td>\n",
       "                        <td id=\"T_1a14fe32_f498_11e9_a5fe_008cfafbe83erow5_col55\" class=\"data row5 col55\" >Conv2d(256, 256, kernel_size=(1, 1), stride=(1, 1))</td>\n",
       "                        <td id=\"T_1a14fe32_f498_11e9_a5fe_008cfafbe83erow5_col56\" class=\"data row5 col56\" >TorchAdd()</td>\n",
       "                        <td id=\"T_1a14fe32_f498_11e9_a5fe_008cfafbe83erow5_col57\" class=\"data row5 col57\" >BatchNorm2d(256, eps=1e-05, momentum=0.1, affine=True, track_running_stats=True)</td>\n",
       "                        <td id=\"T_1a14fe32_f498_11e9_a5fe_008cfafbe83erow5_col58\" class=\"data row5 col58\" >ReLU()</td>\n",
       "                        <td id=\"T_1a14fe32_f498_11e9_a5fe_008cfafbe83erow5_col59\" class=\"data row5 col59\" >Conv2d(256, 512, kernel_size=(3, 3), stride=(2, 2), padding=(1, 1))</td>\n",
       "                        <td id=\"T_1a14fe32_f498_11e9_a5fe_008cfafbe83erow5_col60\" class=\"data row5 col60\" >BatchNorm2d(512, eps=1e-05, momentum=0.1, affine=True, track_running_stats=True)</td>\n",
       "                        <td id=\"T_1a14fe32_f498_11e9_a5fe_008cfafbe83erow5_col61\" class=\"data row5 col61\" >ReLU()</td>\n",
       "                        <td id=\"T_1a14fe32_f498_11e9_a5fe_008cfafbe83erow5_col62\" class=\"data row5 col62\" >Conv2d(512, 512, kernel_size=(3, 3), stride=(1, 1), padding=(1, 1))</td>\n",
       "                        <td id=\"T_1a14fe32_f498_11e9_a5fe_008cfafbe83erow5_col63\" class=\"data row5 col63\" >ReLU()</td>\n",
       "                        <td id=\"T_1a14fe32_f498_11e9_a5fe_008cfafbe83erow5_col64\" class=\"data row5 col64\" >Conv2d(256, 512, kernel_size=(1, 1), stride=(2, 2))</td>\n",
       "                        <td id=\"T_1a14fe32_f498_11e9_a5fe_008cfafbe83erow5_col65\" class=\"data row5 col65\" >TorchAdd()</td>\n",
       "                        <td id=\"T_1a14fe32_f498_11e9_a5fe_008cfafbe83erow5_col66\" class=\"data row5 col66\" >BatchNorm2d(512, eps=1e-05, momentum=0.1, affine=True, track_running_stats=True)</td>\n",
       "                        <td id=\"T_1a14fe32_f498_11e9_a5fe_008cfafbe83erow5_col67\" class=\"data row5 col67\" >ReLU()</td>\n",
       "                        <td id=\"T_1a14fe32_f498_11e9_a5fe_008cfafbe83erow5_col68\" class=\"data row5 col68\" >Conv2d(512, 512, kernel_size=(3, 3), stride=(1, 1), padding=(1, 1))</td>\n",
       "                        <td id=\"T_1a14fe32_f498_11e9_a5fe_008cfafbe83erow5_col69\" class=\"data row5 col69\" >BatchNorm2d(512, eps=1e-05, momentum=0.1, affine=True, track_running_stats=True)</td>\n",
       "                        <td id=\"T_1a14fe32_f498_11e9_a5fe_008cfafbe83erow5_col70\" class=\"data row5 col70\" >ReLU()</td>\n",
       "                        <td id=\"T_1a14fe32_f498_11e9_a5fe_008cfafbe83erow5_col71\" class=\"data row5 col71\" >Conv2d(512, 512, kernel_size=(3, 3), stride=(1, 1), padding=(1, 1))</td>\n",
       "                        <td id=\"T_1a14fe32_f498_11e9_a5fe_008cfafbe83erow5_col72\" class=\"data row5 col72\" >ReLU()</td>\n",
       "                        <td id=\"T_1a14fe32_f498_11e9_a5fe_008cfafbe83erow5_col73\" class=\"data row5 col73\" >Conv2d(512, 512, kernel_size=(1, 1), stride=(1, 1))</td>\n",
       "                        <td id=\"T_1a14fe32_f498_11e9_a5fe_008cfafbe83erow5_col74\" class=\"data row5 col74\" >TorchAdd()</td>\n",
       "                        <td id=\"T_1a14fe32_f498_11e9_a5fe_008cfafbe83erow5_col75\" class=\"data row5 col75\" >GlobalAvgPool2d()</td>\n",
       "                        <td id=\"T_1a14fe32_f498_11e9_a5fe_008cfafbe83erow5_col76\" class=\"data row5 col76\" >Linear(in_features=512, out_features=10, bias=True)</td>\n",
       "                        <td id=\"T_1a14fe32_f498_11e9_a5fe_008cfafbe83erow5_col77\" class=\"data row5 col77\" >Conv2d(512, 512, kernel_size=(1, 1), stride=(1, 1))</td>\n",
       "            </tr>\n",
       "            <tr>\n",
       "                                <td id=\"T_1a14fe32_f498_11e9_a5fe_008cfafbe83erow6_col0\" class=\"data row6 col0\" >72</td>\n",
       "                        <td id=\"T_1a14fe32_f498_11e9_a5fe_008cfafbe83erow6_col1\" class=\"data row6 col1\" >ReLU()</td>\n",
       "                        <td id=\"T_1a14fe32_f498_11e9_a5fe_008cfafbe83erow6_col2\" class=\"data row6 col2\" >BatchNorm2d(1, eps=1e-05, momentum=0.1, affine=True, track_running_stats=True)</td>\n",
       "                        <td id=\"T_1a14fe32_f498_11e9_a5fe_008cfafbe83erow6_col3\" class=\"data row6 col3\" >Conv2d(1, 64, kernel_size=(3, 3), stride=(1, 1), padding=(1, 1))</td>\n",
       "                        <td id=\"T_1a14fe32_f498_11e9_a5fe_008cfafbe83erow6_col4\" class=\"data row6 col4\" >MaxPool2d(kernel_size=2, stride=2, padding=0, dilation=1, ceil_mode=False)</td>\n",
       "                        <td id=\"T_1a14fe32_f498_11e9_a5fe_008cfafbe83erow6_col5\" class=\"data row6 col5\" >ReLU()</td>\n",
       "                        <td id=\"T_1a14fe32_f498_11e9_a5fe_008cfafbe83erow6_col6\" class=\"data row6 col6\" >BatchNorm2d(64, eps=1e-05, momentum=0.1, affine=True, track_running_stats=True)</td>\n",
       "                        <td id=\"T_1a14fe32_f498_11e9_a5fe_008cfafbe83erow6_col7\" class=\"data row6 col7\" >Conv2d(64, 64, kernel_size=(3, 3), stride=(1, 1), padding=(1, 1))</td>\n",
       "                        <td id=\"T_1a14fe32_f498_11e9_a5fe_008cfafbe83erow6_col8\" class=\"data row6 col8\" >MaxPool2d(kernel_size=2, stride=2, padding=0, dilation=1, ceil_mode=False)</td>\n",
       "                        <td id=\"T_1a14fe32_f498_11e9_a5fe_008cfafbe83erow6_col9\" class=\"data row6 col9\" >ReLU()</td>\n",
       "                        <td id=\"T_1a14fe32_f498_11e9_a5fe_008cfafbe83erow6_col10\" class=\"data row6 col10\" >BatchNorm2d(64, eps=1e-05, momentum=0.1, affine=True, track_running_stats=True)</td>\n",
       "                        <td id=\"T_1a14fe32_f498_11e9_a5fe_008cfafbe83erow6_col11\" class=\"data row6 col11\" >Conv2d(64, 64, kernel_size=(3, 3), stride=(1, 1), padding=(1, 1))</td>\n",
       "                        <td id=\"T_1a14fe32_f498_11e9_a5fe_008cfafbe83erow6_col12\" class=\"data row6 col12\" >MaxPool2d(kernel_size=2, stride=2, padding=0, dilation=1, ceil_mode=False)</td>\n",
       "                        <td id=\"T_1a14fe32_f498_11e9_a5fe_008cfafbe83erow6_col13\" class=\"data row6 col13\" >GlobalAvgPool2d()</td>\n",
       "                        <td id=\"T_1a14fe32_f498_11e9_a5fe_008cfafbe83erow6_col14\" class=\"data row6 col14\" >Dropout2d(p=0.25)</td>\n",
       "                        <td id=\"T_1a14fe32_f498_11e9_a5fe_008cfafbe83erow6_col15\" class=\"data row6 col15\" >Linear(in_features=64, out_features=64, bias=True)</td>\n",
       "                        <td id=\"T_1a14fe32_f498_11e9_a5fe_008cfafbe83erow6_col16\" class=\"data row6 col16\" >ReLU()</td>\n",
       "                        <td id=\"T_1a14fe32_f498_11e9_a5fe_008cfafbe83erow6_col17\" class=\"data row6 col17\" >Linear(in_features=64, out_features=10, bias=True)</td>\n",
       "                        <td id=\"T_1a14fe32_f498_11e9_a5fe_008cfafbe83erow6_col18\" class=\"data row6 col18\" >nan</td>\n",
       "                        <td id=\"T_1a14fe32_f498_11e9_a5fe_008cfafbe83erow6_col19\" class=\"data row6 col19\" >nan</td>\n",
       "                        <td id=\"T_1a14fe32_f498_11e9_a5fe_008cfafbe83erow6_col20\" class=\"data row6 col20\" >nan</td>\n",
       "                        <td id=\"T_1a14fe32_f498_11e9_a5fe_008cfafbe83erow6_col21\" class=\"data row6 col21\" >nan</td>\n",
       "                        <td id=\"T_1a14fe32_f498_11e9_a5fe_008cfafbe83erow6_col22\" class=\"data row6 col22\" >nan</td>\n",
       "                        <td id=\"T_1a14fe32_f498_11e9_a5fe_008cfafbe83erow6_col23\" class=\"data row6 col23\" >nan</td>\n",
       "                        <td id=\"T_1a14fe32_f498_11e9_a5fe_008cfafbe83erow6_col24\" class=\"data row6 col24\" >nan</td>\n",
       "                        <td id=\"T_1a14fe32_f498_11e9_a5fe_008cfafbe83erow6_col25\" class=\"data row6 col25\" >nan</td>\n",
       "                        <td id=\"T_1a14fe32_f498_11e9_a5fe_008cfafbe83erow6_col26\" class=\"data row6 col26\" >nan</td>\n",
       "                        <td id=\"T_1a14fe32_f498_11e9_a5fe_008cfafbe83erow6_col27\" class=\"data row6 col27\" >nan</td>\n",
       "                        <td id=\"T_1a14fe32_f498_11e9_a5fe_008cfafbe83erow6_col28\" class=\"data row6 col28\" >nan</td>\n",
       "                        <td id=\"T_1a14fe32_f498_11e9_a5fe_008cfafbe83erow6_col29\" class=\"data row6 col29\" >nan</td>\n",
       "                        <td id=\"T_1a14fe32_f498_11e9_a5fe_008cfafbe83erow6_col30\" class=\"data row6 col30\" >nan</td>\n",
       "                        <td id=\"T_1a14fe32_f498_11e9_a5fe_008cfafbe83erow6_col31\" class=\"data row6 col31\" >nan</td>\n",
       "                        <td id=\"T_1a14fe32_f498_11e9_a5fe_008cfafbe83erow6_col32\" class=\"data row6 col32\" >nan</td>\n",
       "                        <td id=\"T_1a14fe32_f498_11e9_a5fe_008cfafbe83erow6_col33\" class=\"data row6 col33\" >nan</td>\n",
       "                        <td id=\"T_1a14fe32_f498_11e9_a5fe_008cfafbe83erow6_col34\" class=\"data row6 col34\" >nan</td>\n",
       "                        <td id=\"T_1a14fe32_f498_11e9_a5fe_008cfafbe83erow6_col35\" class=\"data row6 col35\" >nan</td>\n",
       "                        <td id=\"T_1a14fe32_f498_11e9_a5fe_008cfafbe83erow6_col36\" class=\"data row6 col36\" >nan</td>\n",
       "                        <td id=\"T_1a14fe32_f498_11e9_a5fe_008cfafbe83erow6_col37\" class=\"data row6 col37\" >nan</td>\n",
       "                        <td id=\"T_1a14fe32_f498_11e9_a5fe_008cfafbe83erow6_col38\" class=\"data row6 col38\" >nan</td>\n",
       "                        <td id=\"T_1a14fe32_f498_11e9_a5fe_008cfafbe83erow6_col39\" class=\"data row6 col39\" >nan</td>\n",
       "                        <td id=\"T_1a14fe32_f498_11e9_a5fe_008cfafbe83erow6_col40\" class=\"data row6 col40\" >nan</td>\n",
       "                        <td id=\"T_1a14fe32_f498_11e9_a5fe_008cfafbe83erow6_col41\" class=\"data row6 col41\" >nan</td>\n",
       "                        <td id=\"T_1a14fe32_f498_11e9_a5fe_008cfafbe83erow6_col42\" class=\"data row6 col42\" >nan</td>\n",
       "                        <td id=\"T_1a14fe32_f498_11e9_a5fe_008cfafbe83erow6_col43\" class=\"data row6 col43\" >nan</td>\n",
       "                        <td id=\"T_1a14fe32_f498_11e9_a5fe_008cfafbe83erow6_col44\" class=\"data row6 col44\" >nan</td>\n",
       "                        <td id=\"T_1a14fe32_f498_11e9_a5fe_008cfafbe83erow6_col45\" class=\"data row6 col45\" >nan</td>\n",
       "                        <td id=\"T_1a14fe32_f498_11e9_a5fe_008cfafbe83erow6_col46\" class=\"data row6 col46\" >nan</td>\n",
       "                        <td id=\"T_1a14fe32_f498_11e9_a5fe_008cfafbe83erow6_col47\" class=\"data row6 col47\" >nan</td>\n",
       "                        <td id=\"T_1a14fe32_f498_11e9_a5fe_008cfafbe83erow6_col48\" class=\"data row6 col48\" >nan</td>\n",
       "                        <td id=\"T_1a14fe32_f498_11e9_a5fe_008cfafbe83erow6_col49\" class=\"data row6 col49\" >nan</td>\n",
       "                        <td id=\"T_1a14fe32_f498_11e9_a5fe_008cfafbe83erow6_col50\" class=\"data row6 col50\" >nan</td>\n",
       "                        <td id=\"T_1a14fe32_f498_11e9_a5fe_008cfafbe83erow6_col51\" class=\"data row6 col51\" >nan</td>\n",
       "                        <td id=\"T_1a14fe32_f498_11e9_a5fe_008cfafbe83erow6_col52\" class=\"data row6 col52\" >nan</td>\n",
       "                        <td id=\"T_1a14fe32_f498_11e9_a5fe_008cfafbe83erow6_col53\" class=\"data row6 col53\" >nan</td>\n",
       "                        <td id=\"T_1a14fe32_f498_11e9_a5fe_008cfafbe83erow6_col54\" class=\"data row6 col54\" >nan</td>\n",
       "                        <td id=\"T_1a14fe32_f498_11e9_a5fe_008cfafbe83erow6_col55\" class=\"data row6 col55\" >nan</td>\n",
       "                        <td id=\"T_1a14fe32_f498_11e9_a5fe_008cfafbe83erow6_col56\" class=\"data row6 col56\" >nan</td>\n",
       "                        <td id=\"T_1a14fe32_f498_11e9_a5fe_008cfafbe83erow6_col57\" class=\"data row6 col57\" >nan</td>\n",
       "                        <td id=\"T_1a14fe32_f498_11e9_a5fe_008cfafbe83erow6_col58\" class=\"data row6 col58\" >nan</td>\n",
       "                        <td id=\"T_1a14fe32_f498_11e9_a5fe_008cfafbe83erow6_col59\" class=\"data row6 col59\" >nan</td>\n",
       "                        <td id=\"T_1a14fe32_f498_11e9_a5fe_008cfafbe83erow6_col60\" class=\"data row6 col60\" >nan</td>\n",
       "                        <td id=\"T_1a14fe32_f498_11e9_a5fe_008cfafbe83erow6_col61\" class=\"data row6 col61\" >nan</td>\n",
       "                        <td id=\"T_1a14fe32_f498_11e9_a5fe_008cfafbe83erow6_col62\" class=\"data row6 col62\" >nan</td>\n",
       "                        <td id=\"T_1a14fe32_f498_11e9_a5fe_008cfafbe83erow6_col63\" class=\"data row6 col63\" >nan</td>\n",
       "                        <td id=\"T_1a14fe32_f498_11e9_a5fe_008cfafbe83erow6_col64\" class=\"data row6 col64\" >nan</td>\n",
       "                        <td id=\"T_1a14fe32_f498_11e9_a5fe_008cfafbe83erow6_col65\" class=\"data row6 col65\" >nan</td>\n",
       "                        <td id=\"T_1a14fe32_f498_11e9_a5fe_008cfafbe83erow6_col66\" class=\"data row6 col66\" >nan</td>\n",
       "                        <td id=\"T_1a14fe32_f498_11e9_a5fe_008cfafbe83erow6_col67\" class=\"data row6 col67\" >nan</td>\n",
       "                        <td id=\"T_1a14fe32_f498_11e9_a5fe_008cfafbe83erow6_col68\" class=\"data row6 col68\" >nan</td>\n",
       "                        <td id=\"T_1a14fe32_f498_11e9_a5fe_008cfafbe83erow6_col69\" class=\"data row6 col69\" >nan</td>\n",
       "                        <td id=\"T_1a14fe32_f498_11e9_a5fe_008cfafbe83erow6_col70\" class=\"data row6 col70\" >nan</td>\n",
       "                        <td id=\"T_1a14fe32_f498_11e9_a5fe_008cfafbe83erow6_col71\" class=\"data row6 col71\" >nan</td>\n",
       "                        <td id=\"T_1a14fe32_f498_11e9_a5fe_008cfafbe83erow6_col72\" class=\"data row6 col72\" >nan</td>\n",
       "                        <td id=\"T_1a14fe32_f498_11e9_a5fe_008cfafbe83erow6_col73\" class=\"data row6 col73\" >nan</td>\n",
       "                        <td id=\"T_1a14fe32_f498_11e9_a5fe_008cfafbe83erow6_col74\" class=\"data row6 col74\" >nan</td>\n",
       "                        <td id=\"T_1a14fe32_f498_11e9_a5fe_008cfafbe83erow6_col75\" class=\"data row6 col75\" >nan</td>\n",
       "                        <td id=\"T_1a14fe32_f498_11e9_a5fe_008cfafbe83erow6_col76\" class=\"data row6 col76\" >nan</td>\n",
       "                        <td id=\"T_1a14fe32_f498_11e9_a5fe_008cfafbe83erow6_col77\" class=\"data row6 col77\" >nan</td>\n",
       "            </tr>\n",
       "            <tr>\n",
       "                                <td id=\"T_1a14fe32_f498_11e9_a5fe_008cfafbe83erow7_col0\" class=\"data row7 col0\" >84</td>\n",
       "                        <td id=\"T_1a14fe32_f498_11e9_a5fe_008cfafbe83erow7_col1\" class=\"data row7 col1\" >ReLU()</td>\n",
       "                        <td id=\"T_1a14fe32_f498_11e9_a5fe_008cfafbe83erow7_col2\" class=\"data row7 col2\" >BatchNorm2d(1, eps=1e-05, momentum=0.1, affine=True, track_running_stats=True)</td>\n",
       "                        <td id=\"T_1a14fe32_f498_11e9_a5fe_008cfafbe83erow7_col3\" class=\"data row7 col3\" >Conv2d(1, 64, kernel_size=(3, 3), stride=(1, 1), padding=(1, 1))</td>\n",
       "                        <td id=\"T_1a14fe32_f498_11e9_a5fe_008cfafbe83erow7_col4\" class=\"data row7 col4\" >MaxPool2d(kernel_size=2, stride=2, padding=0, dilation=1, ceil_mode=False)</td>\n",
       "                        <td id=\"T_1a14fe32_f498_11e9_a5fe_008cfafbe83erow7_col5\" class=\"data row7 col5\" >ReLU()</td>\n",
       "                        <td id=\"T_1a14fe32_f498_11e9_a5fe_008cfafbe83erow7_col6\" class=\"data row7 col6\" >BatchNorm2d(64, eps=1e-05, momentum=0.1, affine=True, track_running_stats=True)</td>\n",
       "                        <td id=\"T_1a14fe32_f498_11e9_a5fe_008cfafbe83erow7_col7\" class=\"data row7 col7\" >Conv2d(64, 64, kernel_size=(3, 3), stride=(1, 1), padding=(1, 1))</td>\n",
       "                        <td id=\"T_1a14fe32_f498_11e9_a5fe_008cfafbe83erow7_col8\" class=\"data row7 col8\" >MaxPool2d(kernel_size=2, stride=2, padding=0, dilation=1, ceil_mode=False)</td>\n",
       "                        <td id=\"T_1a14fe32_f498_11e9_a5fe_008cfafbe83erow7_col9\" class=\"data row7 col9\" >ReLU()</td>\n",
       "                        <td id=\"T_1a14fe32_f498_11e9_a5fe_008cfafbe83erow7_col10\" class=\"data row7 col10\" >BatchNorm2d(64, eps=1e-05, momentum=0.1, affine=True, track_running_stats=True)</td>\n",
       "                        <td id=\"T_1a14fe32_f498_11e9_a5fe_008cfafbe83erow7_col11\" class=\"data row7 col11\" >Conv2d(64, 64, kernel_size=(3, 3), stride=(1, 1), padding=(1, 1))</td>\n",
       "                        <td id=\"T_1a14fe32_f498_11e9_a5fe_008cfafbe83erow7_col12\" class=\"data row7 col12\" >MaxPool2d(kernel_size=2, stride=2, padding=0, dilation=1, ceil_mode=False)</td>\n",
       "                        <td id=\"T_1a14fe32_f498_11e9_a5fe_008cfafbe83erow7_col13\" class=\"data row7 col13\" >GlobalAvgPool2d()</td>\n",
       "                        <td id=\"T_1a14fe32_f498_11e9_a5fe_008cfafbe83erow7_col14\" class=\"data row7 col14\" >Dropout2d(p=0.25)</td>\n",
       "                        <td id=\"T_1a14fe32_f498_11e9_a5fe_008cfafbe83erow7_col15\" class=\"data row7 col15\" >Linear(in_features=64, out_features=64, bias=True)</td>\n",
       "                        <td id=\"T_1a14fe32_f498_11e9_a5fe_008cfafbe83erow7_col16\" class=\"data row7 col16\" >ReLU()</td>\n",
       "                        <td id=\"T_1a14fe32_f498_11e9_a5fe_008cfafbe83erow7_col17\" class=\"data row7 col17\" >Linear(in_features=64, out_features=10, bias=True)</td>\n",
       "                        <td id=\"T_1a14fe32_f498_11e9_a5fe_008cfafbe83erow7_col18\" class=\"data row7 col18\" >nan</td>\n",
       "                        <td id=\"T_1a14fe32_f498_11e9_a5fe_008cfafbe83erow7_col19\" class=\"data row7 col19\" >nan</td>\n",
       "                        <td id=\"T_1a14fe32_f498_11e9_a5fe_008cfafbe83erow7_col20\" class=\"data row7 col20\" >nan</td>\n",
       "                        <td id=\"T_1a14fe32_f498_11e9_a5fe_008cfafbe83erow7_col21\" class=\"data row7 col21\" >nan</td>\n",
       "                        <td id=\"T_1a14fe32_f498_11e9_a5fe_008cfafbe83erow7_col22\" class=\"data row7 col22\" >nan</td>\n",
       "                        <td id=\"T_1a14fe32_f498_11e9_a5fe_008cfafbe83erow7_col23\" class=\"data row7 col23\" >nan</td>\n",
       "                        <td id=\"T_1a14fe32_f498_11e9_a5fe_008cfafbe83erow7_col24\" class=\"data row7 col24\" >nan</td>\n",
       "                        <td id=\"T_1a14fe32_f498_11e9_a5fe_008cfafbe83erow7_col25\" class=\"data row7 col25\" >nan</td>\n",
       "                        <td id=\"T_1a14fe32_f498_11e9_a5fe_008cfafbe83erow7_col26\" class=\"data row7 col26\" >nan</td>\n",
       "                        <td id=\"T_1a14fe32_f498_11e9_a5fe_008cfafbe83erow7_col27\" class=\"data row7 col27\" >nan</td>\n",
       "                        <td id=\"T_1a14fe32_f498_11e9_a5fe_008cfafbe83erow7_col28\" class=\"data row7 col28\" >nan</td>\n",
       "                        <td id=\"T_1a14fe32_f498_11e9_a5fe_008cfafbe83erow7_col29\" class=\"data row7 col29\" >nan</td>\n",
       "                        <td id=\"T_1a14fe32_f498_11e9_a5fe_008cfafbe83erow7_col30\" class=\"data row7 col30\" >nan</td>\n",
       "                        <td id=\"T_1a14fe32_f498_11e9_a5fe_008cfafbe83erow7_col31\" class=\"data row7 col31\" >nan</td>\n",
       "                        <td id=\"T_1a14fe32_f498_11e9_a5fe_008cfafbe83erow7_col32\" class=\"data row7 col32\" >nan</td>\n",
       "                        <td id=\"T_1a14fe32_f498_11e9_a5fe_008cfafbe83erow7_col33\" class=\"data row7 col33\" >nan</td>\n",
       "                        <td id=\"T_1a14fe32_f498_11e9_a5fe_008cfafbe83erow7_col34\" class=\"data row7 col34\" >nan</td>\n",
       "                        <td id=\"T_1a14fe32_f498_11e9_a5fe_008cfafbe83erow7_col35\" class=\"data row7 col35\" >nan</td>\n",
       "                        <td id=\"T_1a14fe32_f498_11e9_a5fe_008cfafbe83erow7_col36\" class=\"data row7 col36\" >nan</td>\n",
       "                        <td id=\"T_1a14fe32_f498_11e9_a5fe_008cfafbe83erow7_col37\" class=\"data row7 col37\" >nan</td>\n",
       "                        <td id=\"T_1a14fe32_f498_11e9_a5fe_008cfafbe83erow7_col38\" class=\"data row7 col38\" >nan</td>\n",
       "                        <td id=\"T_1a14fe32_f498_11e9_a5fe_008cfafbe83erow7_col39\" class=\"data row7 col39\" >nan</td>\n",
       "                        <td id=\"T_1a14fe32_f498_11e9_a5fe_008cfafbe83erow7_col40\" class=\"data row7 col40\" >nan</td>\n",
       "                        <td id=\"T_1a14fe32_f498_11e9_a5fe_008cfafbe83erow7_col41\" class=\"data row7 col41\" >nan</td>\n",
       "                        <td id=\"T_1a14fe32_f498_11e9_a5fe_008cfafbe83erow7_col42\" class=\"data row7 col42\" >nan</td>\n",
       "                        <td id=\"T_1a14fe32_f498_11e9_a5fe_008cfafbe83erow7_col43\" class=\"data row7 col43\" >nan</td>\n",
       "                        <td id=\"T_1a14fe32_f498_11e9_a5fe_008cfafbe83erow7_col44\" class=\"data row7 col44\" >nan</td>\n",
       "                        <td id=\"T_1a14fe32_f498_11e9_a5fe_008cfafbe83erow7_col45\" class=\"data row7 col45\" >nan</td>\n",
       "                        <td id=\"T_1a14fe32_f498_11e9_a5fe_008cfafbe83erow7_col46\" class=\"data row7 col46\" >nan</td>\n",
       "                        <td id=\"T_1a14fe32_f498_11e9_a5fe_008cfafbe83erow7_col47\" class=\"data row7 col47\" >nan</td>\n",
       "                        <td id=\"T_1a14fe32_f498_11e9_a5fe_008cfafbe83erow7_col48\" class=\"data row7 col48\" >nan</td>\n",
       "                        <td id=\"T_1a14fe32_f498_11e9_a5fe_008cfafbe83erow7_col49\" class=\"data row7 col49\" >nan</td>\n",
       "                        <td id=\"T_1a14fe32_f498_11e9_a5fe_008cfafbe83erow7_col50\" class=\"data row7 col50\" >nan</td>\n",
       "                        <td id=\"T_1a14fe32_f498_11e9_a5fe_008cfafbe83erow7_col51\" class=\"data row7 col51\" >nan</td>\n",
       "                        <td id=\"T_1a14fe32_f498_11e9_a5fe_008cfafbe83erow7_col52\" class=\"data row7 col52\" >nan</td>\n",
       "                        <td id=\"T_1a14fe32_f498_11e9_a5fe_008cfafbe83erow7_col53\" class=\"data row7 col53\" >nan</td>\n",
       "                        <td id=\"T_1a14fe32_f498_11e9_a5fe_008cfafbe83erow7_col54\" class=\"data row7 col54\" >nan</td>\n",
       "                        <td id=\"T_1a14fe32_f498_11e9_a5fe_008cfafbe83erow7_col55\" class=\"data row7 col55\" >nan</td>\n",
       "                        <td id=\"T_1a14fe32_f498_11e9_a5fe_008cfafbe83erow7_col56\" class=\"data row7 col56\" >nan</td>\n",
       "                        <td id=\"T_1a14fe32_f498_11e9_a5fe_008cfafbe83erow7_col57\" class=\"data row7 col57\" >nan</td>\n",
       "                        <td id=\"T_1a14fe32_f498_11e9_a5fe_008cfafbe83erow7_col58\" class=\"data row7 col58\" >nan</td>\n",
       "                        <td id=\"T_1a14fe32_f498_11e9_a5fe_008cfafbe83erow7_col59\" class=\"data row7 col59\" >nan</td>\n",
       "                        <td id=\"T_1a14fe32_f498_11e9_a5fe_008cfafbe83erow7_col60\" class=\"data row7 col60\" >nan</td>\n",
       "                        <td id=\"T_1a14fe32_f498_11e9_a5fe_008cfafbe83erow7_col61\" class=\"data row7 col61\" >nan</td>\n",
       "                        <td id=\"T_1a14fe32_f498_11e9_a5fe_008cfafbe83erow7_col62\" class=\"data row7 col62\" >nan</td>\n",
       "                        <td id=\"T_1a14fe32_f498_11e9_a5fe_008cfafbe83erow7_col63\" class=\"data row7 col63\" >nan</td>\n",
       "                        <td id=\"T_1a14fe32_f498_11e9_a5fe_008cfafbe83erow7_col64\" class=\"data row7 col64\" >nan</td>\n",
       "                        <td id=\"T_1a14fe32_f498_11e9_a5fe_008cfafbe83erow7_col65\" class=\"data row7 col65\" >nan</td>\n",
       "                        <td id=\"T_1a14fe32_f498_11e9_a5fe_008cfafbe83erow7_col66\" class=\"data row7 col66\" >nan</td>\n",
       "                        <td id=\"T_1a14fe32_f498_11e9_a5fe_008cfafbe83erow7_col67\" class=\"data row7 col67\" >nan</td>\n",
       "                        <td id=\"T_1a14fe32_f498_11e9_a5fe_008cfafbe83erow7_col68\" class=\"data row7 col68\" >nan</td>\n",
       "                        <td id=\"T_1a14fe32_f498_11e9_a5fe_008cfafbe83erow7_col69\" class=\"data row7 col69\" >nan</td>\n",
       "                        <td id=\"T_1a14fe32_f498_11e9_a5fe_008cfafbe83erow7_col70\" class=\"data row7 col70\" >nan</td>\n",
       "                        <td id=\"T_1a14fe32_f498_11e9_a5fe_008cfafbe83erow7_col71\" class=\"data row7 col71\" >nan</td>\n",
       "                        <td id=\"T_1a14fe32_f498_11e9_a5fe_008cfafbe83erow7_col72\" class=\"data row7 col72\" >nan</td>\n",
       "                        <td id=\"T_1a14fe32_f498_11e9_a5fe_008cfafbe83erow7_col73\" class=\"data row7 col73\" >nan</td>\n",
       "                        <td id=\"T_1a14fe32_f498_11e9_a5fe_008cfafbe83erow7_col74\" class=\"data row7 col74\" >nan</td>\n",
       "                        <td id=\"T_1a14fe32_f498_11e9_a5fe_008cfafbe83erow7_col75\" class=\"data row7 col75\" >nan</td>\n",
       "                        <td id=\"T_1a14fe32_f498_11e9_a5fe_008cfafbe83erow7_col76\" class=\"data row7 col76\" >nan</td>\n",
       "                        <td id=\"T_1a14fe32_f498_11e9_a5fe_008cfafbe83erow7_col77\" class=\"data row7 col77\" >nan</td>\n",
       "            </tr>\n",
       "    </tbody></table>"
      ],
      "text/plain": [
       "<pandas.io.formats.style.Styler at 0x2ad7b50f4320>"
      ]
     },
     "metadata": {},
     "output_type": "display_data"
    },
    {
     "data": {
      "text/plain": [
       "'H2OAutoML #1'"
      ]
     },
     "metadata": {},
     "output_type": "display_data"
    },
    {
     "data": {
      "text/html": [
       "<style  type=\"text/css\" >\n",
       "</style><table id=\"T_1a1e76e2_f498_11e9_a5fe_008cfafbe83e\" ><thead>    <tr>        <th class=\"col_heading level0 col0\" >max_angle</th>        <th class=\"col_heading level0 col1\" >test_acc</th>        <th class=\"col_heading level0 col2\" >train_acc</th>        <th class=\"col_heading level0 col3\" >time_err</th>        <th class=\"col_heading level0 col4\" >time_pre</th>        <th class=\"col_heading level0 col5\" >time_mod</th>    </tr></thead><tbody>\n",
       "                <tr>\n",
       "                                <td id=\"T_1a1e76e2_f498_11e9_a5fe_008cfafbe83erow0_col0\" class=\"data row0 col0\" >0</td>\n",
       "                        <td id=\"T_1a1e76e2_f498_11e9_a5fe_008cfafbe83erow0_col1\" class=\"data row0 col1\" >0.986</td>\n",
       "                        <td id=\"T_1a1e76e2_f498_11e9_a5fe_008cfafbe83erow0_col2\" class=\"data row0 col2\" >1</td>\n",
       "                        <td id=\"T_1a1e76e2_f498_11e9_a5fe_008cfafbe83erow0_col3\" class=\"data row0 col3\" >0.222</td>\n",
       "                        <td id=\"T_1a1e76e2_f498_11e9_a5fe_008cfafbe83erow0_col4\" class=\"data row0 col4\" >0</td>\n",
       "                        <td id=\"T_1a1e76e2_f498_11e9_a5fe_008cfafbe83erow0_col5\" class=\"data row0 col5\" >3512.63</td>\n",
       "            </tr>\n",
       "            <tr>\n",
       "                                <td id=\"T_1a1e76e2_f498_11e9_a5fe_008cfafbe83erow1_col0\" class=\"data row1 col0\" >12</td>\n",
       "                        <td id=\"T_1a1e76e2_f498_11e9_a5fe_008cfafbe83erow1_col1\" class=\"data row1 col1\" >0.978</td>\n",
       "                        <td id=\"T_1a1e76e2_f498_11e9_a5fe_008cfafbe83erow1_col2\" class=\"data row1 col2\" >1</td>\n",
       "                        <td id=\"T_1a1e76e2_f498_11e9_a5fe_008cfafbe83erow1_col3\" class=\"data row1 col3\" >0.259</td>\n",
       "                        <td id=\"T_1a1e76e2_f498_11e9_a5fe_008cfafbe83erow1_col4\" class=\"data row1 col4\" >0</td>\n",
       "                        <td id=\"T_1a1e76e2_f498_11e9_a5fe_008cfafbe83erow1_col5\" class=\"data row1 col5\" >3646.02</td>\n",
       "            </tr>\n",
       "            <tr>\n",
       "                                <td id=\"T_1a1e76e2_f498_11e9_a5fe_008cfafbe83erow2_col0\" class=\"data row2 col0\" >24</td>\n",
       "                        <td id=\"T_1a1e76e2_f498_11e9_a5fe_008cfafbe83erow2_col1\" class=\"data row2 col1\" >0.947</td>\n",
       "                        <td id=\"T_1a1e76e2_f498_11e9_a5fe_008cfafbe83erow2_col2\" class=\"data row2 col2\" >1</td>\n",
       "                        <td id=\"T_1a1e76e2_f498_11e9_a5fe_008cfafbe83erow2_col3\" class=\"data row2 col3\" >0.273</td>\n",
       "                        <td id=\"T_1a1e76e2_f498_11e9_a5fe_008cfafbe83erow2_col4\" class=\"data row2 col4\" >0</td>\n",
       "                        <td id=\"T_1a1e76e2_f498_11e9_a5fe_008cfafbe83erow2_col5\" class=\"data row2 col5\" >3679.61</td>\n",
       "            </tr>\n",
       "            <tr>\n",
       "                                <td id=\"T_1a1e76e2_f498_11e9_a5fe_008cfafbe83erow3_col0\" class=\"data row3 col0\" >36</td>\n",
       "                        <td id=\"T_1a1e76e2_f498_11e9_a5fe_008cfafbe83erow3_col1\" class=\"data row3 col1\" >0.947</td>\n",
       "                        <td id=\"T_1a1e76e2_f498_11e9_a5fe_008cfafbe83erow3_col2\" class=\"data row3 col2\" >1</td>\n",
       "                        <td id=\"T_1a1e76e2_f498_11e9_a5fe_008cfafbe83erow3_col3\" class=\"data row3 col3\" >0.283</td>\n",
       "                        <td id=\"T_1a1e76e2_f498_11e9_a5fe_008cfafbe83erow3_col4\" class=\"data row3 col4\" >0</td>\n",
       "                        <td id=\"T_1a1e76e2_f498_11e9_a5fe_008cfafbe83erow3_col5\" class=\"data row3 col5\" >3662.96</td>\n",
       "            </tr>\n",
       "            <tr>\n",
       "                                <td id=\"T_1a1e76e2_f498_11e9_a5fe_008cfafbe83erow4_col0\" class=\"data row4 col0\" >48</td>\n",
       "                        <td id=\"T_1a1e76e2_f498_11e9_a5fe_008cfafbe83erow4_col1\" class=\"data row4 col1\" >0.936</td>\n",
       "                        <td id=\"T_1a1e76e2_f498_11e9_a5fe_008cfafbe83erow4_col2\" class=\"data row4 col2\" >1</td>\n",
       "                        <td id=\"T_1a1e76e2_f498_11e9_a5fe_008cfafbe83erow4_col3\" class=\"data row4 col3\" >0.249</td>\n",
       "                        <td id=\"T_1a1e76e2_f498_11e9_a5fe_008cfafbe83erow4_col4\" class=\"data row4 col4\" >0</td>\n",
       "                        <td id=\"T_1a1e76e2_f498_11e9_a5fe_008cfafbe83erow4_col5\" class=\"data row4 col5\" >3602.03</td>\n",
       "            </tr>\n",
       "            <tr>\n",
       "                                <td id=\"T_1a1e76e2_f498_11e9_a5fe_008cfafbe83erow5_col0\" class=\"data row5 col0\" >60</td>\n",
       "                        <td id=\"T_1a1e76e2_f498_11e9_a5fe_008cfafbe83erow5_col1\" class=\"data row5 col1\" >0.911</td>\n",
       "                        <td id=\"T_1a1e76e2_f498_11e9_a5fe_008cfafbe83erow5_col2\" class=\"data row5 col2\" >1</td>\n",
       "                        <td id=\"T_1a1e76e2_f498_11e9_a5fe_008cfafbe83erow5_col3\" class=\"data row5 col3\" >0.221</td>\n",
       "                        <td id=\"T_1a1e76e2_f498_11e9_a5fe_008cfafbe83erow5_col4\" class=\"data row5 col4\" >0</td>\n",
       "                        <td id=\"T_1a1e76e2_f498_11e9_a5fe_008cfafbe83erow5_col5\" class=\"data row5 col5\" >4575.75</td>\n",
       "            </tr>\n",
       "            <tr>\n",
       "                                <td id=\"T_1a1e76e2_f498_11e9_a5fe_008cfafbe83erow6_col0\" class=\"data row6 col0\" >72</td>\n",
       "                        <td id=\"T_1a1e76e2_f498_11e9_a5fe_008cfafbe83erow6_col1\" class=\"data row6 col1\" >0.922</td>\n",
       "                        <td id=\"T_1a1e76e2_f498_11e9_a5fe_008cfafbe83erow6_col2\" class=\"data row6 col2\" >1</td>\n",
       "                        <td id=\"T_1a1e76e2_f498_11e9_a5fe_008cfafbe83erow6_col3\" class=\"data row6 col3\" >0.275</td>\n",
       "                        <td id=\"T_1a1e76e2_f498_11e9_a5fe_008cfafbe83erow6_col4\" class=\"data row6 col4\" >0</td>\n",
       "                        <td id=\"T_1a1e76e2_f498_11e9_a5fe_008cfafbe83erow6_col5\" class=\"data row6 col5\" >3622.72</td>\n",
       "            </tr>\n",
       "            <tr>\n",
       "                                <td id=\"T_1a1e76e2_f498_11e9_a5fe_008cfafbe83erow7_col0\" class=\"data row7 col0\" >84</td>\n",
       "                        <td id=\"T_1a1e76e2_f498_11e9_a5fe_008cfafbe83erow7_col1\" class=\"data row7 col1\" >0.903</td>\n",
       "                        <td id=\"T_1a1e76e2_f498_11e9_a5fe_008cfafbe83erow7_col2\" class=\"data row7 col2\" >1</td>\n",
       "                        <td id=\"T_1a1e76e2_f498_11e9_a5fe_008cfafbe83erow7_col3\" class=\"data row7 col3\" >0.312</td>\n",
       "                        <td id=\"T_1a1e76e2_f498_11e9_a5fe_008cfafbe83erow7_col4\" class=\"data row7 col4\" >0</td>\n",
       "                        <td id=\"T_1a1e76e2_f498_11e9_a5fe_008cfafbe83erow7_col5\" class=\"data row7 col5\" >3467.36</td>\n",
       "            </tr>\n",
       "    </tbody></table>"
      ],
      "text/plain": [
       "<pandas.io.formats.style.Styler at 0x2ad7b50929e8>"
      ]
     },
     "metadata": {},
     "output_type": "display_data"
    },
    {
     "data": {
      "text/html": [
       "<style  type=\"text/css\" >\n",
       "</style><table id=\"T_1a2241c8_f498_11e9_a5fe_008cfafbe83e\" ><thead>    <tr>        <th class=\"col_heading level0 col0\" >max_angle</th>        <th class=\"col_heading level0 col1\" >pipe_0</th>        <th class=\"col_heading level0 col2\" >pipe_1</th>        <th class=\"col_heading level0 col3\" >pipe_2</th>        <th class=\"col_heading level0 col4\" >pipe_3</th>        <th class=\"col_heading level0 col5\" >pipe_4</th>        <th class=\"col_heading level0 col6\" >pipe_5</th>        <th class=\"col_heading level0 col7\" >pipe_6</th>        <th class=\"col_heading level0 col8\" >pipe_7</th>        <th class=\"col_heading level0 col9\" >pipe_8</th>        <th class=\"col_heading level0 col10\" >pipe_9</th>        <th class=\"col_heading level0 col11\" >pipe_10</th>        <th class=\"col_heading level0 col12\" >pipe_11</th>        <th class=\"col_heading level0 col13\" >pipe_12</th>        <th class=\"col_heading level0 col14\" >pipe_13</th>        <th class=\"col_heading level0 col15\" >pipe_14</th>        <th class=\"col_heading level0 col16\" >pipe_15</th>        <th class=\"col_heading level0 col17\" >pipe_16</th>        <th class=\"col_heading level0 col18\" >pipe_17</th>        <th class=\"col_heading level0 col19\" >pipe_18</th>        <th class=\"col_heading level0 col20\" >pipe_19</th>        <th class=\"col_heading level0 col21\" >pipe_20</th>        <th class=\"col_heading level0 col22\" >pipe_21</th>        <th class=\"col_heading level0 col23\" >pipe_22</th>        <th class=\"col_heading level0 col24\" >pipe_23</th>        <th class=\"col_heading level0 col25\" >pipe_24</th>        <th class=\"col_heading level0 col26\" >pipe_25</th>        <th class=\"col_heading level0 col27\" >pipe_26</th>        <th class=\"col_heading level0 col28\" >pipe_27</th>        <th class=\"col_heading level0 col29\" >pipe_28</th>        <th class=\"col_heading level0 col30\" >pipe_29</th>        <th class=\"col_heading level0 col31\" >pipe_30</th>        <th class=\"col_heading level0 col32\" >pipe_31</th>        <th class=\"col_heading level0 col33\" >pipe_32</th>        <th class=\"col_heading level0 col34\" >pipe_33</th>        <th class=\"col_heading level0 col35\" >pipe_34</th>        <th class=\"col_heading level0 col36\" >pipe_35</th>        <th class=\"col_heading level0 col37\" >pipe_36</th>        <th class=\"col_heading level0 col38\" >pipe_37</th>        <th class=\"col_heading level0 col39\" >pipe_38</th>        <th class=\"col_heading level0 col40\" >pipe_39</th>        <th class=\"col_heading level0 col41\" >pipe_40</th>        <th class=\"col_heading level0 col42\" >pipe_41</th>        <th class=\"col_heading level0 col43\" >pipe_42</th>        <th class=\"col_heading level0 col44\" >pipe_43</th>        <th class=\"col_heading level0 col45\" >pipe_44</th>        <th class=\"col_heading level0 col46\" >pipe_45</th>        <th class=\"col_heading level0 col47\" >pipe_46</th>        <th class=\"col_heading level0 col48\" >pipe_47</th>        <th class=\"col_heading level0 col49\" >pipe_48</th>        <th class=\"col_heading level0 col50\" >pipe_49</th>        <th class=\"col_heading level0 col51\" >pipe_50</th>        <th class=\"col_heading level0 col52\" >pipe_51</th>        <th class=\"col_heading level0 col53\" >pipe_52</th>        <th class=\"col_heading level0 col54\" >pipe_53</th>        <th class=\"col_heading level0 col55\" >pipe_54</th>        <th class=\"col_heading level0 col56\" >pipe_55</th>        <th class=\"col_heading level0 col57\" >pipe_56</th>        <th class=\"col_heading level0 col58\" >pipe_57</th>        <th class=\"col_heading level0 col59\" >pipe_58</th>        <th class=\"col_heading level0 col60\" >pipe_59</th>        <th class=\"col_heading level0 col61\" >pipe_60</th>        <th class=\"col_heading level0 col62\" >pipe_61</th>        <th class=\"col_heading level0 col63\" >pipe_62</th>        <th class=\"col_heading level0 col64\" >pipe_63</th>        <th class=\"col_heading level0 col65\" >pipe_64</th>        <th class=\"col_heading level0 col66\" >pipe_65</th>        <th class=\"col_heading level0 col67\" >pipe_66</th>        <th class=\"col_heading level0 col68\" >pipe_67</th>        <th class=\"col_heading level0 col69\" >pipe_68</th>        <th class=\"col_heading level0 col70\" >pipe_69</th>        <th class=\"col_heading level0 col71\" >pipe_70</th>        <th class=\"col_heading level0 col72\" >pipe_71</th>        <th class=\"col_heading level0 col73\" >pipe_72</th>        <th class=\"col_heading level0 col74\" >pipe_73</th>        <th class=\"col_heading level0 col75\" >pipe_74</th>        <th class=\"col_heading level0 col76\" >pipe_75</th>        <th class=\"col_heading level0 col77\" >pipe_76</th>        <th class=\"col_heading level0 col78\" >pipe_77</th>        <th class=\"col_heading level0 col79\" >pipe_78</th>        <th class=\"col_heading level0 col80\" >pipe_79</th>        <th class=\"col_heading level0 col81\" >pipe_80</th>        <th class=\"col_heading level0 col82\" >pipe_81</th>        <th class=\"col_heading level0 col83\" >pipe_82</th>        <th class=\"col_heading level0 col84\" >pipe_83</th>        <th class=\"col_heading level0 col85\" >pipe_84</th>        <th class=\"col_heading level0 col86\" >pipe_85</th>        <th class=\"col_heading level0 col87\" >pipe_86</th>        <th class=\"col_heading level0 col88\" >pipe_87</th>        <th class=\"col_heading level0 col89\" >pipe_88</th>        <th class=\"col_heading level0 col90\" >pipe_89</th>        <th class=\"col_heading level0 col91\" >pipe_90</th>        <th class=\"col_heading level0 col92\" >pipe_91</th>        <th class=\"col_heading level0 col93\" >pipe_92</th>        <th class=\"col_heading level0 col94\" >pipe_93</th>    </tr></thead><tbody>\n",
       "                <tr>\n",
       "                                <td id=\"T_1a2241c8_f498_11e9_a5fe_008cfafbe83erow0_col0\" class=\"data row0 col0\" >0</td>\n",
       "                        <td id=\"T_1a2241c8_f498_11e9_a5fe_008cfafbe83erow0_col1\" class=\"data row0 col1\" >StackedEnsemble_AllModels_AutoML_20191022_040303</td>\n",
       "                        <td id=\"T_1a2241c8_f498_11e9_a5fe_008cfafbe83erow0_col2\" class=\"data row0 col2\" >DeepLearning_grid_1_AutoML_20191022_040303_model_8</td>\n",
       "                        <td id=\"T_1a2241c8_f498_11e9_a5fe_008cfafbe83erow0_col3\" class=\"data row0 col3\" >GBM_grid_1_AutoML_20191022_040303_model_31</td>\n",
       "                        <td id=\"T_1a2241c8_f498_11e9_a5fe_008cfafbe83erow0_col4\" class=\"data row0 col4\" >GBM_grid_1_AutoML_20191022_040303_model_18</td>\n",
       "                        <td id=\"T_1a2241c8_f498_11e9_a5fe_008cfafbe83erow0_col5\" class=\"data row0 col5\" >DeepLearning_grid_1_AutoML_20191022_040303_model_12</td>\n",
       "                        <td id=\"T_1a2241c8_f498_11e9_a5fe_008cfafbe83erow0_col6\" class=\"data row0 col6\" >GBM_grid_1_AutoML_20191022_040303_model_19</td>\n",
       "                        <td id=\"T_1a2241c8_f498_11e9_a5fe_008cfafbe83erow0_col7\" class=\"data row0 col7\" >DeepLearning_grid_1_AutoML_20191022_040303_model_1</td>\n",
       "                        <td id=\"T_1a2241c8_f498_11e9_a5fe_008cfafbe83erow0_col8\" class=\"data row0 col8\" >DeepLearning_grid_1_AutoML_20191022_040303_model_2</td>\n",
       "                        <td id=\"T_1a2241c8_f498_11e9_a5fe_008cfafbe83erow0_col9\" class=\"data row0 col9\" >DeepLearning_grid_1_AutoML_20191022_040303_model_11</td>\n",
       "                        <td id=\"T_1a2241c8_f498_11e9_a5fe_008cfafbe83erow0_col10\" class=\"data row0 col10\" >DeepLearning_grid_1_AutoML_20191022_040303_model_7</td>\n",
       "                        <td id=\"T_1a2241c8_f498_11e9_a5fe_008cfafbe83erow0_col11\" class=\"data row0 col11\" >DeepLearning_grid_1_AutoML_20191022_040303_model_3</td>\n",
       "                        <td id=\"T_1a2241c8_f498_11e9_a5fe_008cfafbe83erow0_col12\" class=\"data row0 col12\" >XGBoost_grid_1_AutoML_20191022_040303_model_13</td>\n",
       "                        <td id=\"T_1a2241c8_f498_11e9_a5fe_008cfafbe83erow0_col13\" class=\"data row0 col13\" >GBM_grid_1_AutoML_20191022_040303_model_15</td>\n",
       "                        <td id=\"T_1a2241c8_f498_11e9_a5fe_008cfafbe83erow0_col14\" class=\"data row0 col14\" >GBM_2_AutoML_20191022_040303</td>\n",
       "                        <td id=\"T_1a2241c8_f498_11e9_a5fe_008cfafbe83erow0_col15\" class=\"data row0 col15\" >GBM_grid_1_AutoML_20191022_040303_model_3</td>\n",
       "                        <td id=\"T_1a2241c8_f498_11e9_a5fe_008cfafbe83erow0_col16\" class=\"data row0 col16\" >GBM_3_AutoML_20191022_040303</td>\n",
       "                        <td id=\"T_1a2241c8_f498_11e9_a5fe_008cfafbe83erow0_col17\" class=\"data row0 col17\" >GBM_grid_1_AutoML_20191022_040303_model_26</td>\n",
       "                        <td id=\"T_1a2241c8_f498_11e9_a5fe_008cfafbe83erow0_col18\" class=\"data row0 col18\" >GBM_grid_1_AutoML_20191022_040303_model_6</td>\n",
       "                        <td id=\"T_1a2241c8_f498_11e9_a5fe_008cfafbe83erow0_col19\" class=\"data row0 col19\" >GBM_grid_1_AutoML_20191022_040303_model_27</td>\n",
       "                        <td id=\"T_1a2241c8_f498_11e9_a5fe_008cfafbe83erow0_col20\" class=\"data row0 col20\" >GBM_grid_1_AutoML_20191022_040303_model_20</td>\n",
       "                        <td id=\"T_1a2241c8_f498_11e9_a5fe_008cfafbe83erow0_col21\" class=\"data row0 col21\" >GBM_5_AutoML_20191022_040303</td>\n",
       "                        <td id=\"T_1a2241c8_f498_11e9_a5fe_008cfafbe83erow0_col22\" class=\"data row0 col22\" >GBM_grid_1_AutoML_20191022_040303_model_12</td>\n",
       "                        <td id=\"T_1a2241c8_f498_11e9_a5fe_008cfafbe83erow0_col23\" class=\"data row0 col23\" >GBM_4_AutoML_20191022_040303</td>\n",
       "                        <td id=\"T_1a2241c8_f498_11e9_a5fe_008cfafbe83erow0_col24\" class=\"data row0 col24\" >GLM_grid_1_AutoML_20191022_040303_model_1</td>\n",
       "                        <td id=\"T_1a2241c8_f498_11e9_a5fe_008cfafbe83erow0_col25\" class=\"data row0 col25\" >GBM_grid_1_AutoML_20191022_040303_model_17</td>\n",
       "                        <td id=\"T_1a2241c8_f498_11e9_a5fe_008cfafbe83erow0_col26\" class=\"data row0 col26\" >XRT_1_AutoML_20191022_040303</td>\n",
       "                        <td id=\"T_1a2241c8_f498_11e9_a5fe_008cfafbe83erow0_col27\" class=\"data row0 col27\" >GBM_grid_1_AutoML_20191022_040303_model_1</td>\n",
       "                        <td id=\"T_1a2241c8_f498_11e9_a5fe_008cfafbe83erow0_col28\" class=\"data row0 col28\" >GBM_grid_1_AutoML_20191022_040303_model_10</td>\n",
       "                        <td id=\"T_1a2241c8_f498_11e9_a5fe_008cfafbe83erow0_col29\" class=\"data row0 col29\" >XGBoost_grid_1_AutoML_20191022_040303_model_8</td>\n",
       "                        <td id=\"T_1a2241c8_f498_11e9_a5fe_008cfafbe83erow0_col30\" class=\"data row0 col30\" >GBM_1_AutoML_20191022_040303</td>\n",
       "                        <td id=\"T_1a2241c8_f498_11e9_a5fe_008cfafbe83erow0_col31\" class=\"data row0 col31\" >GBM_grid_1_AutoML_20191022_040303_model_14</td>\n",
       "                        <td id=\"T_1a2241c8_f498_11e9_a5fe_008cfafbe83erow0_col32\" class=\"data row0 col32\" >GBM_grid_1_AutoML_20191022_040303_model_11</td>\n",
       "                        <td id=\"T_1a2241c8_f498_11e9_a5fe_008cfafbe83erow0_col33\" class=\"data row0 col33\" >XGBoost_grid_1_AutoML_20191022_040303_model_30</td>\n",
       "                        <td id=\"T_1a2241c8_f498_11e9_a5fe_008cfafbe83erow0_col34\" class=\"data row0 col34\" >GBM_grid_1_AutoML_20191022_040303_model_16</td>\n",
       "                        <td id=\"T_1a2241c8_f498_11e9_a5fe_008cfafbe83erow0_col35\" class=\"data row0 col35\" >GBM_grid_1_AutoML_20191022_040303_model_24</td>\n",
       "                        <td id=\"T_1a2241c8_f498_11e9_a5fe_008cfafbe83erow0_col36\" class=\"data row0 col36\" >DRF_1_AutoML_20191022_040303</td>\n",
       "                        <td id=\"T_1a2241c8_f498_11e9_a5fe_008cfafbe83erow0_col37\" class=\"data row0 col37\" >XGBoost_grid_1_AutoML_20191022_040303_model_17</td>\n",
       "                        <td id=\"T_1a2241c8_f498_11e9_a5fe_008cfafbe83erow0_col38\" class=\"data row0 col38\" >DeepLearning_grid_1_AutoML_20191022_040303_model_5</td>\n",
       "                        <td id=\"T_1a2241c8_f498_11e9_a5fe_008cfafbe83erow0_col39\" class=\"data row0 col39\" >GBM_grid_1_AutoML_20191022_040303_model_32</td>\n",
       "                        <td id=\"T_1a2241c8_f498_11e9_a5fe_008cfafbe83erow0_col40\" class=\"data row0 col40\" >GBM_grid_1_AutoML_20191022_040303_model_13</td>\n",
       "                        <td id=\"T_1a2241c8_f498_11e9_a5fe_008cfafbe83erow0_col41\" class=\"data row0 col41\" >DeepLearning_grid_1_AutoML_20191022_040303_model_6</td>\n",
       "                        <td id=\"T_1a2241c8_f498_11e9_a5fe_008cfafbe83erow0_col42\" class=\"data row0 col42\" >XGBoost_3_AutoML_20191022_040303</td>\n",
       "                        <td id=\"T_1a2241c8_f498_11e9_a5fe_008cfafbe83erow0_col43\" class=\"data row0 col43\" >DeepLearning_grid_1_AutoML_20191022_040303_model_13</td>\n",
       "                        <td id=\"T_1a2241c8_f498_11e9_a5fe_008cfafbe83erow0_col44\" class=\"data row0 col44\" >XGBoost_1_AutoML_20191022_040303</td>\n",
       "                        <td id=\"T_1a2241c8_f498_11e9_a5fe_008cfafbe83erow0_col45\" class=\"data row0 col45\" >XGBoost_grid_1_AutoML_20191022_040303_model_25</td>\n",
       "                        <td id=\"T_1a2241c8_f498_11e9_a5fe_008cfafbe83erow0_col46\" class=\"data row0 col46\" >XGBoost_grid_1_AutoML_20191022_040303_model_21</td>\n",
       "                        <td id=\"T_1a2241c8_f498_11e9_a5fe_008cfafbe83erow0_col47\" class=\"data row0 col47\" >XGBoost_grid_1_AutoML_20191022_040303_model_18</td>\n",
       "                        <td id=\"T_1a2241c8_f498_11e9_a5fe_008cfafbe83erow0_col48\" class=\"data row0 col48\" >DeepLearning_grid_1_AutoML_20191022_040303_model_4</td>\n",
       "                        <td id=\"T_1a2241c8_f498_11e9_a5fe_008cfafbe83erow0_col49\" class=\"data row0 col49\" >XGBoost_grid_1_AutoML_20191022_040303_model_26</td>\n",
       "                        <td id=\"T_1a2241c8_f498_11e9_a5fe_008cfafbe83erow0_col50\" class=\"data row0 col50\" >XGBoost_grid_1_AutoML_20191022_040303_model_15</td>\n",
       "                        <td id=\"T_1a2241c8_f498_11e9_a5fe_008cfafbe83erow0_col51\" class=\"data row0 col51\" >GBM_grid_1_AutoML_20191022_040303_model_8</td>\n",
       "                        <td id=\"T_1a2241c8_f498_11e9_a5fe_008cfafbe83erow0_col52\" class=\"data row0 col52\" >DeepLearning_grid_1_AutoML_20191022_040303_model_14</td>\n",
       "                        <td id=\"T_1a2241c8_f498_11e9_a5fe_008cfafbe83erow0_col53\" class=\"data row0 col53\" >GBM_grid_1_AutoML_20191022_040303_model_9</td>\n",
       "                        <td id=\"T_1a2241c8_f498_11e9_a5fe_008cfafbe83erow0_col54\" class=\"data row0 col54\" >XGBoost_grid_1_AutoML_20191022_040303_model_20</td>\n",
       "                        <td id=\"T_1a2241c8_f498_11e9_a5fe_008cfafbe83erow0_col55\" class=\"data row0 col55\" >XGBoost_grid_1_AutoML_20191022_040303_model_27</td>\n",
       "                        <td id=\"T_1a2241c8_f498_11e9_a5fe_008cfafbe83erow0_col56\" class=\"data row0 col56\" >DeepLearning_grid_1_AutoML_20191022_040303_model_9</td>\n",
       "                        <td id=\"T_1a2241c8_f498_11e9_a5fe_008cfafbe83erow0_col57\" class=\"data row0 col57\" >XGBoost_grid_1_AutoML_20191022_040303_model_4</td>\n",
       "                        <td id=\"T_1a2241c8_f498_11e9_a5fe_008cfafbe83erow0_col58\" class=\"data row0 col58\" >XGBoost_grid_1_AutoML_20191022_040303_model_31</td>\n",
       "                        <td id=\"T_1a2241c8_f498_11e9_a5fe_008cfafbe83erow0_col59\" class=\"data row0 col59\" >XGBoost_grid_1_AutoML_20191022_040303_model_2</td>\n",
       "                        <td id=\"T_1a2241c8_f498_11e9_a5fe_008cfafbe83erow0_col60\" class=\"data row0 col60\" >GBM_grid_1_AutoML_20191022_040303_model_29</td>\n",
       "                        <td id=\"T_1a2241c8_f498_11e9_a5fe_008cfafbe83erow0_col61\" class=\"data row0 col61\" >XGBoost_grid_1_AutoML_20191022_040303_model_29</td>\n",
       "                        <td id=\"T_1a2241c8_f498_11e9_a5fe_008cfafbe83erow0_col62\" class=\"data row0 col62\" >GBM_grid_1_AutoML_20191022_040303_model_28</td>\n",
       "                        <td id=\"T_1a2241c8_f498_11e9_a5fe_008cfafbe83erow0_col63\" class=\"data row0 col63\" >DeepLearning_grid_1_AutoML_20191022_040303_model_10</td>\n",
       "                        <td id=\"T_1a2241c8_f498_11e9_a5fe_008cfafbe83erow0_col64\" class=\"data row0 col64\" >XGBoost_grid_1_AutoML_20191022_040303_model_28</td>\n",
       "                        <td id=\"T_1a2241c8_f498_11e9_a5fe_008cfafbe83erow0_col65\" class=\"data row0 col65\" >XGBoost_grid_1_AutoML_20191022_040303_model_3</td>\n",
       "                        <td id=\"T_1a2241c8_f498_11e9_a5fe_008cfafbe83erow0_col66\" class=\"data row0 col66\" >XGBoost_grid_1_AutoML_20191022_040303_model_23</td>\n",
       "                        <td id=\"T_1a2241c8_f498_11e9_a5fe_008cfafbe83erow0_col67\" class=\"data row0 col67\" >XGBoost_grid_1_AutoML_20191022_040303_model_7</td>\n",
       "                        <td id=\"T_1a2241c8_f498_11e9_a5fe_008cfafbe83erow0_col68\" class=\"data row0 col68\" >XGBoost_grid_1_AutoML_20191022_040303_model_19</td>\n",
       "                        <td id=\"T_1a2241c8_f498_11e9_a5fe_008cfafbe83erow0_col69\" class=\"data row0 col69\" >GBM_grid_1_AutoML_20191022_040303_model_25</td>\n",
       "                        <td id=\"T_1a2241c8_f498_11e9_a5fe_008cfafbe83erow0_col70\" class=\"data row0 col70\" >GBM_grid_1_AutoML_20191022_040303_model_21</td>\n",
       "                        <td id=\"T_1a2241c8_f498_11e9_a5fe_008cfafbe83erow0_col71\" class=\"data row0 col71\" >XGBoost_grid_1_AutoML_20191022_040303_model_32</td>\n",
       "                        <td id=\"T_1a2241c8_f498_11e9_a5fe_008cfafbe83erow0_col72\" class=\"data row0 col72\" >XGBoost_2_AutoML_20191022_040303</td>\n",
       "                        <td id=\"T_1a2241c8_f498_11e9_a5fe_008cfafbe83erow0_col73\" class=\"data row0 col73\" >GBM_grid_1_AutoML_20191022_040303_model_30</td>\n",
       "                        <td id=\"T_1a2241c8_f498_11e9_a5fe_008cfafbe83erow0_col74\" class=\"data row0 col74\" >GBM_grid_1_AutoML_20191022_040303_model_7</td>\n",
       "                        <td id=\"T_1a2241c8_f498_11e9_a5fe_008cfafbe83erow0_col75\" class=\"data row0 col75\" >GBM_grid_1_AutoML_20191022_040303_model_23</td>\n",
       "                        <td id=\"T_1a2241c8_f498_11e9_a5fe_008cfafbe83erow0_col76\" class=\"data row0 col76\" >XGBoost_grid_1_AutoML_20191022_040303_model_5</td>\n",
       "                        <td id=\"T_1a2241c8_f498_11e9_a5fe_008cfafbe83erow0_col77\" class=\"data row0 col77\" >XGBoost_grid_1_AutoML_20191022_040303_model_22</td>\n",
       "                        <td id=\"T_1a2241c8_f498_11e9_a5fe_008cfafbe83erow0_col78\" class=\"data row0 col78\" >XGBoost_grid_1_AutoML_20191022_040303_model_33</td>\n",
       "                        <td id=\"T_1a2241c8_f498_11e9_a5fe_008cfafbe83erow0_col79\" class=\"data row0 col79\" >XGBoost_grid_1_AutoML_20191022_040303_model_12</td>\n",
       "                        <td id=\"T_1a2241c8_f498_11e9_a5fe_008cfafbe83erow0_col80\" class=\"data row0 col80\" >GBM_grid_1_AutoML_20191022_040303_model_5</td>\n",
       "                        <td id=\"T_1a2241c8_f498_11e9_a5fe_008cfafbe83erow0_col81\" class=\"data row0 col81\" >XGBoost_grid_1_AutoML_20191022_040303_model_11</td>\n",
       "                        <td id=\"T_1a2241c8_f498_11e9_a5fe_008cfafbe83erow0_col82\" class=\"data row0 col82\" >XGBoost_grid_1_AutoML_20191022_040303_model_6</td>\n",
       "                        <td id=\"T_1a2241c8_f498_11e9_a5fe_008cfafbe83erow0_col83\" class=\"data row0 col83\" >XGBoost_grid_1_AutoML_20191022_040303_model_1</td>\n",
       "                        <td id=\"T_1a2241c8_f498_11e9_a5fe_008cfafbe83erow0_col84\" class=\"data row0 col84\" >XGBoost_grid_1_AutoML_20191022_040303_model_14</td>\n",
       "                        <td id=\"T_1a2241c8_f498_11e9_a5fe_008cfafbe83erow0_col85\" class=\"data row0 col85\" >XGBoost_grid_1_AutoML_20191022_040303_model_24</td>\n",
       "                        <td id=\"T_1a2241c8_f498_11e9_a5fe_008cfafbe83erow0_col86\" class=\"data row0 col86\" >XGBoost_grid_1_AutoML_20191022_040303_model_10</td>\n",
       "                        <td id=\"T_1a2241c8_f498_11e9_a5fe_008cfafbe83erow0_col87\" class=\"data row0 col87\" >GBM_grid_1_AutoML_20191022_040303_model_4</td>\n",
       "                        <td id=\"T_1a2241c8_f498_11e9_a5fe_008cfafbe83erow0_col88\" class=\"data row0 col88\" >XGBoost_grid_1_AutoML_20191022_040303_model_16</td>\n",
       "                        <td id=\"T_1a2241c8_f498_11e9_a5fe_008cfafbe83erow0_col89\" class=\"data row0 col89\" >GBM_grid_1_AutoML_20191022_040303_model_33</td>\n",
       "                        <td id=\"T_1a2241c8_f498_11e9_a5fe_008cfafbe83erow0_col90\" class=\"data row0 col90\" >XGBoost_grid_1_AutoML_20191022_040303_model_9</td>\n",
       "                        <td id=\"T_1a2241c8_f498_11e9_a5fe_008cfafbe83erow0_col91\" class=\"data row0 col91\" >GBM_grid_1_AutoML_20191022_040303_model_34</td>\n",
       "                        <td id=\"T_1a2241c8_f498_11e9_a5fe_008cfafbe83erow0_col92\" class=\"data row0 col92\" >DeepLearning_1_AutoML_20191022_040303</td>\n",
       "                        <td id=\"T_1a2241c8_f498_11e9_a5fe_008cfafbe83erow0_col93\" class=\"data row0 col93\" >GBM_grid_1_AutoML_20191022_040303_model_2</td>\n",
       "                        <td id=\"T_1a2241c8_f498_11e9_a5fe_008cfafbe83erow0_col94\" class=\"data row0 col94\" >GBM_grid_1_AutoML_20191022_040303_model_22</td>\n",
       "            </tr>\n",
       "            <tr>\n",
       "                                <td id=\"T_1a2241c8_f498_11e9_a5fe_008cfafbe83erow1_col0\" class=\"data row1 col0\" >12</td>\n",
       "                        <td id=\"T_1a2241c8_f498_11e9_a5fe_008cfafbe83erow1_col1\" class=\"data row1 col1\" >StackedEnsemble_AllModels_AutoML_20191022_035943</td>\n",
       "                        <td id=\"T_1a2241c8_f498_11e9_a5fe_008cfafbe83erow1_col2\" class=\"data row1 col2\" >DeepLearning_grid_1_AutoML_20191022_035943_model_8</td>\n",
       "                        <td id=\"T_1a2241c8_f498_11e9_a5fe_008cfafbe83erow1_col3\" class=\"data row1 col3\" >DeepLearning_grid_1_AutoML_20191022_035943_model_11</td>\n",
       "                        <td id=\"T_1a2241c8_f498_11e9_a5fe_008cfafbe83erow1_col4\" class=\"data row1 col4\" >DeepLearning_grid_1_AutoML_20191022_035943_model_2</td>\n",
       "                        <td id=\"T_1a2241c8_f498_11e9_a5fe_008cfafbe83erow1_col5\" class=\"data row1 col5\" >GBM_3_AutoML_20191022_035943</td>\n",
       "                        <td id=\"T_1a2241c8_f498_11e9_a5fe_008cfafbe83erow1_col6\" class=\"data row1 col6\" >GBM_grid_1_AutoML_20191022_035943_model_12</td>\n",
       "                        <td id=\"T_1a2241c8_f498_11e9_a5fe_008cfafbe83erow1_col7\" class=\"data row1 col7\" >GBM_4_AutoML_20191022_035943</td>\n",
       "                        <td id=\"T_1a2241c8_f498_11e9_a5fe_008cfafbe83erow1_col8\" class=\"data row1 col8\" >GBM_2_AutoML_20191022_035943</td>\n",
       "                        <td id=\"T_1a2241c8_f498_11e9_a5fe_008cfafbe83erow1_col9\" class=\"data row1 col9\" >DeepLearning_grid_1_AutoML_20191022_035943_model_7</td>\n",
       "                        <td id=\"T_1a2241c8_f498_11e9_a5fe_008cfafbe83erow1_col10\" class=\"data row1 col10\" >GBM_grid_1_AutoML_20191022_035943_model_15</td>\n",
       "                        <td id=\"T_1a2241c8_f498_11e9_a5fe_008cfafbe83erow1_col11\" class=\"data row1 col11\" >GBM_grid_1_AutoML_20191022_035943_model_31</td>\n",
       "                        <td id=\"T_1a2241c8_f498_11e9_a5fe_008cfafbe83erow1_col12\" class=\"data row1 col12\" >GBM_grid_1_AutoML_20191022_035943_model_19</td>\n",
       "                        <td id=\"T_1a2241c8_f498_11e9_a5fe_008cfafbe83erow1_col13\" class=\"data row1 col13\" >DeepLearning_grid_1_AutoML_20191022_035943_model_1</td>\n",
       "                        <td id=\"T_1a2241c8_f498_11e9_a5fe_008cfafbe83erow1_col14\" class=\"data row1 col14\" >GBM_grid_1_AutoML_20191022_035943_model_3</td>\n",
       "                        <td id=\"T_1a2241c8_f498_11e9_a5fe_008cfafbe83erow1_col15\" class=\"data row1 col15\" >GBM_grid_1_AutoML_20191022_035943_model_26</td>\n",
       "                        <td id=\"T_1a2241c8_f498_11e9_a5fe_008cfafbe83erow1_col16\" class=\"data row1 col16\" >GBM_grid_1_AutoML_20191022_035943_model_18</td>\n",
       "                        <td id=\"T_1a2241c8_f498_11e9_a5fe_008cfafbe83erow1_col17\" class=\"data row1 col17\" >GBM_grid_1_AutoML_20191022_035943_model_20</td>\n",
       "                        <td id=\"T_1a2241c8_f498_11e9_a5fe_008cfafbe83erow1_col18\" class=\"data row1 col18\" >DeepLearning_grid_1_AutoML_20191022_035943_model_10</td>\n",
       "                        <td id=\"T_1a2241c8_f498_11e9_a5fe_008cfafbe83erow1_col19\" class=\"data row1 col19\" >GBM_5_AutoML_20191022_035943</td>\n",
       "                        <td id=\"T_1a2241c8_f498_11e9_a5fe_008cfafbe83erow1_col20\" class=\"data row1 col20\" >GBM_grid_1_AutoML_20191022_035943_model_27</td>\n",
       "                        <td id=\"T_1a2241c8_f498_11e9_a5fe_008cfafbe83erow1_col21\" class=\"data row1 col21\" >GBM_grid_1_AutoML_20191022_035943_model_17</td>\n",
       "                        <td id=\"T_1a2241c8_f498_11e9_a5fe_008cfafbe83erow1_col22\" class=\"data row1 col22\" >GBM_grid_1_AutoML_20191022_035943_model_11</td>\n",
       "                        <td id=\"T_1a2241c8_f498_11e9_a5fe_008cfafbe83erow1_col23\" class=\"data row1 col23\" >XGBoost_grid_1_AutoML_20191022_035943_model_13</td>\n",
       "                        <td id=\"T_1a2241c8_f498_11e9_a5fe_008cfafbe83erow1_col24\" class=\"data row1 col24\" >DeepLearning_grid_1_AutoML_20191022_035943_model_3</td>\n",
       "                        <td id=\"T_1a2241c8_f498_11e9_a5fe_008cfafbe83erow1_col25\" class=\"data row1 col25\" >GBM_grid_1_AutoML_20191022_035943_model_16</td>\n",
       "                        <td id=\"T_1a2241c8_f498_11e9_a5fe_008cfafbe83erow1_col26\" class=\"data row1 col26\" >GBM_grid_1_AutoML_20191022_035943_model_1</td>\n",
       "                        <td id=\"T_1a2241c8_f498_11e9_a5fe_008cfafbe83erow1_col27\" class=\"data row1 col27\" >GLM_grid_1_AutoML_20191022_035943_model_1</td>\n",
       "                        <td id=\"T_1a2241c8_f498_11e9_a5fe_008cfafbe83erow1_col28\" class=\"data row1 col28\" >XGBoost_1_AutoML_20191022_035943</td>\n",
       "                        <td id=\"T_1a2241c8_f498_11e9_a5fe_008cfafbe83erow1_col29\" class=\"data row1 col29\" >DRF_1_AutoML_20191022_035943</td>\n",
       "                        <td id=\"T_1a2241c8_f498_11e9_a5fe_008cfafbe83erow1_col30\" class=\"data row1 col30\" >GBM_grid_1_AutoML_20191022_035943_model_6</td>\n",
       "                        <td id=\"T_1a2241c8_f498_11e9_a5fe_008cfafbe83erow1_col31\" class=\"data row1 col31\" >GBM_grid_1_AutoML_20191022_035943_model_10</td>\n",
       "                        <td id=\"T_1a2241c8_f498_11e9_a5fe_008cfafbe83erow1_col32\" class=\"data row1 col32\" >GBM_grid_1_AutoML_20191022_035943_model_13</td>\n",
       "                        <td id=\"T_1a2241c8_f498_11e9_a5fe_008cfafbe83erow1_col33\" class=\"data row1 col33\" >XGBoost_grid_1_AutoML_20191022_035943_model_33</td>\n",
       "                        <td id=\"T_1a2241c8_f498_11e9_a5fe_008cfafbe83erow1_col34\" class=\"data row1 col34\" >GBM_grid_1_AutoML_20191022_035943_model_24</td>\n",
       "                        <td id=\"T_1a2241c8_f498_11e9_a5fe_008cfafbe83erow1_col35\" class=\"data row1 col35\" >XGBoost_grid_1_AutoML_20191022_035943_model_8</td>\n",
       "                        <td id=\"T_1a2241c8_f498_11e9_a5fe_008cfafbe83erow1_col36\" class=\"data row1 col36\" >DeepLearning_grid_1_AutoML_20191022_035943_model_6</td>\n",
       "                        <td id=\"T_1a2241c8_f498_11e9_a5fe_008cfafbe83erow1_col37\" class=\"data row1 col37\" >XRT_1_AutoML_20191022_035943</td>\n",
       "                        <td id=\"T_1a2241c8_f498_11e9_a5fe_008cfafbe83erow1_col38\" class=\"data row1 col38\" >XGBoost_grid_1_AutoML_20191022_035943_model_18</td>\n",
       "                        <td id=\"T_1a2241c8_f498_11e9_a5fe_008cfafbe83erow1_col39\" class=\"data row1 col39\" >GBM_grid_1_AutoML_20191022_035943_model_8</td>\n",
       "                        <td id=\"T_1a2241c8_f498_11e9_a5fe_008cfafbe83erow1_col40\" class=\"data row1 col40\" >XGBoost_grid_1_AutoML_20191022_035943_model_21</td>\n",
       "                        <td id=\"T_1a2241c8_f498_11e9_a5fe_008cfafbe83erow1_col41\" class=\"data row1 col41\" >GBM_grid_1_AutoML_20191022_035943_model_14</td>\n",
       "                        <td id=\"T_1a2241c8_f498_11e9_a5fe_008cfafbe83erow1_col42\" class=\"data row1 col42\" >DeepLearning_grid_1_AutoML_20191022_035943_model_5</td>\n",
       "                        <td id=\"T_1a2241c8_f498_11e9_a5fe_008cfafbe83erow1_col43\" class=\"data row1 col43\" >XGBoost_grid_1_AutoML_20191022_035943_model_25</td>\n",
       "                        <td id=\"T_1a2241c8_f498_11e9_a5fe_008cfafbe83erow1_col44\" class=\"data row1 col44\" >GBM_grid_1_AutoML_20191022_035943_model_25</td>\n",
       "                        <td id=\"T_1a2241c8_f498_11e9_a5fe_008cfafbe83erow1_col45\" class=\"data row1 col45\" >XGBoost_3_AutoML_20191022_035943</td>\n",
       "                        <td id=\"T_1a2241c8_f498_11e9_a5fe_008cfafbe83erow1_col46\" class=\"data row1 col46\" >GBM_1_AutoML_20191022_035943</td>\n",
       "                        <td id=\"T_1a2241c8_f498_11e9_a5fe_008cfafbe83erow1_col47\" class=\"data row1 col47\" >DeepLearning_grid_1_AutoML_20191022_035943_model_4</td>\n",
       "                        <td id=\"T_1a2241c8_f498_11e9_a5fe_008cfafbe83erow1_col48\" class=\"data row1 col48\" >DeepLearning_grid_1_AutoML_20191022_035943_model_9</td>\n",
       "                        <td id=\"T_1a2241c8_f498_11e9_a5fe_008cfafbe83erow1_col49\" class=\"data row1 col49\" >XGBoost_grid_1_AutoML_20191022_035943_model_17</td>\n",
       "                        <td id=\"T_1a2241c8_f498_11e9_a5fe_008cfafbe83erow1_col50\" class=\"data row1 col50\" >XGBoost_grid_1_AutoML_20191022_035943_model_2</td>\n",
       "                        <td id=\"T_1a2241c8_f498_11e9_a5fe_008cfafbe83erow1_col51\" class=\"data row1 col51\" >XGBoost_grid_1_AutoML_20191022_035943_model_15</td>\n",
       "                        <td id=\"T_1a2241c8_f498_11e9_a5fe_008cfafbe83erow1_col52\" class=\"data row1 col52\" >GBM_grid_1_AutoML_20191022_035943_model_9</td>\n",
       "                        <td id=\"T_1a2241c8_f498_11e9_a5fe_008cfafbe83erow1_col53\" class=\"data row1 col53\" >XGBoost_grid_1_AutoML_20191022_035943_model_4</td>\n",
       "                        <td id=\"T_1a2241c8_f498_11e9_a5fe_008cfafbe83erow1_col54\" class=\"data row1 col54\" >GBM_grid_1_AutoML_20191022_035943_model_21</td>\n",
       "                        <td id=\"T_1a2241c8_f498_11e9_a5fe_008cfafbe83erow1_col55\" class=\"data row1 col55\" >XGBoost_grid_1_AutoML_20191022_035943_model_20</td>\n",
       "                        <td id=\"T_1a2241c8_f498_11e9_a5fe_008cfafbe83erow1_col56\" class=\"data row1 col56\" >XGBoost_grid_1_AutoML_20191022_035943_model_31</td>\n",
       "                        <td id=\"T_1a2241c8_f498_11e9_a5fe_008cfafbe83erow1_col57\" class=\"data row1 col57\" >XGBoost_grid_1_AutoML_20191022_035943_model_30</td>\n",
       "                        <td id=\"T_1a2241c8_f498_11e9_a5fe_008cfafbe83erow1_col58\" class=\"data row1 col58\" >DeepLearning_grid_1_AutoML_20191022_035943_model_12</td>\n",
       "                        <td id=\"T_1a2241c8_f498_11e9_a5fe_008cfafbe83erow1_col59\" class=\"data row1 col59\" >GBM_grid_1_AutoML_20191022_035943_model_32</td>\n",
       "                        <td id=\"T_1a2241c8_f498_11e9_a5fe_008cfafbe83erow1_col60\" class=\"data row1 col60\" >XGBoost_grid_1_AutoML_20191022_035943_model_28</td>\n",
       "                        <td id=\"T_1a2241c8_f498_11e9_a5fe_008cfafbe83erow1_col61\" class=\"data row1 col61\" >GBM_grid_1_AutoML_20191022_035943_model_28</td>\n",
       "                        <td id=\"T_1a2241c8_f498_11e9_a5fe_008cfafbe83erow1_col62\" class=\"data row1 col62\" >GBM_grid_1_AutoML_20191022_035943_model_29</td>\n",
       "                        <td id=\"T_1a2241c8_f498_11e9_a5fe_008cfafbe83erow1_col63\" class=\"data row1 col63\" >XGBoost_grid_1_AutoML_20191022_035943_model_27</td>\n",
       "                        <td id=\"T_1a2241c8_f498_11e9_a5fe_008cfafbe83erow1_col64\" class=\"data row1 col64\" >XGBoost_grid_1_AutoML_20191022_035943_model_26</td>\n",
       "                        <td id=\"T_1a2241c8_f498_11e9_a5fe_008cfafbe83erow1_col65\" class=\"data row1 col65\" >XGBoost_grid_1_AutoML_20191022_035943_model_3</td>\n",
       "                        <td id=\"T_1a2241c8_f498_11e9_a5fe_008cfafbe83erow1_col66\" class=\"data row1 col66\" >XGBoost_grid_1_AutoML_20191022_035943_model_32</td>\n",
       "                        <td id=\"T_1a2241c8_f498_11e9_a5fe_008cfafbe83erow1_col67\" class=\"data row1 col67\" >XGBoost_grid_1_AutoML_20191022_035943_model_19</td>\n",
       "                        <td id=\"T_1a2241c8_f498_11e9_a5fe_008cfafbe83erow1_col68\" class=\"data row1 col68\" >GBM_grid_1_AutoML_20191022_035943_model_7</td>\n",
       "                        <td id=\"T_1a2241c8_f498_11e9_a5fe_008cfafbe83erow1_col69\" class=\"data row1 col69\" >XGBoost_2_AutoML_20191022_035943</td>\n",
       "                        <td id=\"T_1a2241c8_f498_11e9_a5fe_008cfafbe83erow1_col70\" class=\"data row1 col70\" >XGBoost_grid_1_AutoML_20191022_035943_model_7</td>\n",
       "                        <td id=\"T_1a2241c8_f498_11e9_a5fe_008cfafbe83erow1_col71\" class=\"data row1 col71\" >XGBoost_grid_1_AutoML_20191022_035943_model_1</td>\n",
       "                        <td id=\"T_1a2241c8_f498_11e9_a5fe_008cfafbe83erow1_col72\" class=\"data row1 col72\" >XGBoost_grid_1_AutoML_20191022_035943_model_23</td>\n",
       "                        <td id=\"T_1a2241c8_f498_11e9_a5fe_008cfafbe83erow1_col73\" class=\"data row1 col73\" >GBM_grid_1_AutoML_20191022_035943_model_30</td>\n",
       "                        <td id=\"T_1a2241c8_f498_11e9_a5fe_008cfafbe83erow1_col74\" class=\"data row1 col74\" >XGBoost_grid_1_AutoML_20191022_035943_model_29</td>\n",
       "                        <td id=\"T_1a2241c8_f498_11e9_a5fe_008cfafbe83erow1_col75\" class=\"data row1 col75\" >GBM_grid_1_AutoML_20191022_035943_model_23</td>\n",
       "                        <td id=\"T_1a2241c8_f498_11e9_a5fe_008cfafbe83erow1_col76\" class=\"data row1 col76\" >GBM_grid_1_AutoML_20191022_035943_model_5</td>\n",
       "                        <td id=\"T_1a2241c8_f498_11e9_a5fe_008cfafbe83erow1_col77\" class=\"data row1 col77\" >XGBoost_grid_1_AutoML_20191022_035943_model_11</td>\n",
       "                        <td id=\"T_1a2241c8_f498_11e9_a5fe_008cfafbe83erow1_col78\" class=\"data row1 col78\" >XGBoost_grid_1_AutoML_20191022_035943_model_22</td>\n",
       "                        <td id=\"T_1a2241c8_f498_11e9_a5fe_008cfafbe83erow1_col79\" class=\"data row1 col79\" >XGBoost_grid_1_AutoML_20191022_035943_model_6</td>\n",
       "                        <td id=\"T_1a2241c8_f498_11e9_a5fe_008cfafbe83erow1_col80\" class=\"data row1 col80\" >GBM_grid_1_AutoML_20191022_035943_model_4</td>\n",
       "                        <td id=\"T_1a2241c8_f498_11e9_a5fe_008cfafbe83erow1_col81\" class=\"data row1 col81\" >XGBoost_grid_1_AutoML_20191022_035943_model_12</td>\n",
       "                        <td id=\"T_1a2241c8_f498_11e9_a5fe_008cfafbe83erow1_col82\" class=\"data row1 col82\" >XGBoost_grid_1_AutoML_20191022_035943_model_5</td>\n",
       "                        <td id=\"T_1a2241c8_f498_11e9_a5fe_008cfafbe83erow1_col83\" class=\"data row1 col83\" >XGBoost_grid_1_AutoML_20191022_035943_model_14</td>\n",
       "                        <td id=\"T_1a2241c8_f498_11e9_a5fe_008cfafbe83erow1_col84\" class=\"data row1 col84\" >XGBoost_grid_1_AutoML_20191022_035943_model_24</td>\n",
       "                        <td id=\"T_1a2241c8_f498_11e9_a5fe_008cfafbe83erow1_col85\" class=\"data row1 col85\" >XGBoost_grid_1_AutoML_20191022_035943_model_10</td>\n",
       "                        <td id=\"T_1a2241c8_f498_11e9_a5fe_008cfafbe83erow1_col86\" class=\"data row1 col86\" >XGBoost_grid_1_AutoML_20191022_035943_model_16</td>\n",
       "                        <td id=\"T_1a2241c8_f498_11e9_a5fe_008cfafbe83erow1_col87\" class=\"data row1 col87\" >GBM_grid_1_AutoML_20191022_035943_model_33</td>\n",
       "                        <td id=\"T_1a2241c8_f498_11e9_a5fe_008cfafbe83erow1_col88\" class=\"data row1 col88\" >DeepLearning_1_AutoML_20191022_035943</td>\n",
       "                        <td id=\"T_1a2241c8_f498_11e9_a5fe_008cfafbe83erow1_col89\" class=\"data row1 col89\" >XGBoost_grid_1_AutoML_20191022_035943_model_9</td>\n",
       "                        <td id=\"T_1a2241c8_f498_11e9_a5fe_008cfafbe83erow1_col90\" class=\"data row1 col90\" >GBM_grid_1_AutoML_20191022_035943_model_34</td>\n",
       "                        <td id=\"T_1a2241c8_f498_11e9_a5fe_008cfafbe83erow1_col91\" class=\"data row1 col91\" >GBM_grid_1_AutoML_20191022_035943_model_2</td>\n",
       "                        <td id=\"T_1a2241c8_f498_11e9_a5fe_008cfafbe83erow1_col92\" class=\"data row1 col92\" >GBM_grid_1_AutoML_20191022_035943_model_22</td>\n",
       "                        <td id=\"T_1a2241c8_f498_11e9_a5fe_008cfafbe83erow1_col93\" class=\"data row1 col93\" >nan</td>\n",
       "                        <td id=\"T_1a2241c8_f498_11e9_a5fe_008cfafbe83erow1_col94\" class=\"data row1 col94\" >nan</td>\n",
       "            </tr>\n",
       "            <tr>\n",
       "                                <td id=\"T_1a2241c8_f498_11e9_a5fe_008cfafbe83erow2_col0\" class=\"data row2 col0\" >24</td>\n",
       "                        <td id=\"T_1a2241c8_f498_11e9_a5fe_008cfafbe83erow2_col1\" class=\"data row2 col1\" >StackedEnsemble_BestOfFamily_AutoML_20191022_035802</td>\n",
       "                        <td id=\"T_1a2241c8_f498_11e9_a5fe_008cfafbe83erow2_col2\" class=\"data row2 col2\" >GBM_grid_1_AutoML_20191022_035802_model_15</td>\n",
       "                        <td id=\"T_1a2241c8_f498_11e9_a5fe_008cfafbe83erow2_col3\" class=\"data row2 col3\" >DeepLearning_grid_1_AutoML_20191022_035802_model_8</td>\n",
       "                        <td id=\"T_1a2241c8_f498_11e9_a5fe_008cfafbe83erow2_col4\" class=\"data row2 col4\" >XRT_1_AutoML_20191022_035802</td>\n",
       "                        <td id=\"T_1a2241c8_f498_11e9_a5fe_008cfafbe83erow2_col5\" class=\"data row2 col5\" >XGBoost_grid_1_AutoML_20191022_035802_model_13</td>\n",
       "                        <td id=\"T_1a2241c8_f498_11e9_a5fe_008cfafbe83erow2_col6\" class=\"data row2 col6\" >DRF_1_AutoML_20191022_035802</td>\n",
       "                        <td id=\"T_1a2241c8_f498_11e9_a5fe_008cfafbe83erow2_col7\" class=\"data row2 col7\" >GLM_grid_1_AutoML_20191022_035802_model_1</td>\n",
       "                        <td id=\"T_1a2241c8_f498_11e9_a5fe_008cfafbe83erow2_col8\" class=\"data row2 col8\" >nan</td>\n",
       "                        <td id=\"T_1a2241c8_f498_11e9_a5fe_008cfafbe83erow2_col9\" class=\"data row2 col9\" >nan</td>\n",
       "                        <td id=\"T_1a2241c8_f498_11e9_a5fe_008cfafbe83erow2_col10\" class=\"data row2 col10\" >nan</td>\n",
       "                        <td id=\"T_1a2241c8_f498_11e9_a5fe_008cfafbe83erow2_col11\" class=\"data row2 col11\" >nan</td>\n",
       "                        <td id=\"T_1a2241c8_f498_11e9_a5fe_008cfafbe83erow2_col12\" class=\"data row2 col12\" >nan</td>\n",
       "                        <td id=\"T_1a2241c8_f498_11e9_a5fe_008cfafbe83erow2_col13\" class=\"data row2 col13\" >nan</td>\n",
       "                        <td id=\"T_1a2241c8_f498_11e9_a5fe_008cfafbe83erow2_col14\" class=\"data row2 col14\" >nan</td>\n",
       "                        <td id=\"T_1a2241c8_f498_11e9_a5fe_008cfafbe83erow2_col15\" class=\"data row2 col15\" >nan</td>\n",
       "                        <td id=\"T_1a2241c8_f498_11e9_a5fe_008cfafbe83erow2_col16\" class=\"data row2 col16\" >nan</td>\n",
       "                        <td id=\"T_1a2241c8_f498_11e9_a5fe_008cfafbe83erow2_col17\" class=\"data row2 col17\" >nan</td>\n",
       "                        <td id=\"T_1a2241c8_f498_11e9_a5fe_008cfafbe83erow2_col18\" class=\"data row2 col18\" >nan</td>\n",
       "                        <td id=\"T_1a2241c8_f498_11e9_a5fe_008cfafbe83erow2_col19\" class=\"data row2 col19\" >nan</td>\n",
       "                        <td id=\"T_1a2241c8_f498_11e9_a5fe_008cfafbe83erow2_col20\" class=\"data row2 col20\" >nan</td>\n",
       "                        <td id=\"T_1a2241c8_f498_11e9_a5fe_008cfafbe83erow2_col21\" class=\"data row2 col21\" >nan</td>\n",
       "                        <td id=\"T_1a2241c8_f498_11e9_a5fe_008cfafbe83erow2_col22\" class=\"data row2 col22\" >nan</td>\n",
       "                        <td id=\"T_1a2241c8_f498_11e9_a5fe_008cfafbe83erow2_col23\" class=\"data row2 col23\" >nan</td>\n",
       "                        <td id=\"T_1a2241c8_f498_11e9_a5fe_008cfafbe83erow2_col24\" class=\"data row2 col24\" >nan</td>\n",
       "                        <td id=\"T_1a2241c8_f498_11e9_a5fe_008cfafbe83erow2_col25\" class=\"data row2 col25\" >nan</td>\n",
       "                        <td id=\"T_1a2241c8_f498_11e9_a5fe_008cfafbe83erow2_col26\" class=\"data row2 col26\" >nan</td>\n",
       "                        <td id=\"T_1a2241c8_f498_11e9_a5fe_008cfafbe83erow2_col27\" class=\"data row2 col27\" >nan</td>\n",
       "                        <td id=\"T_1a2241c8_f498_11e9_a5fe_008cfafbe83erow2_col28\" class=\"data row2 col28\" >nan</td>\n",
       "                        <td id=\"T_1a2241c8_f498_11e9_a5fe_008cfafbe83erow2_col29\" class=\"data row2 col29\" >nan</td>\n",
       "                        <td id=\"T_1a2241c8_f498_11e9_a5fe_008cfafbe83erow2_col30\" class=\"data row2 col30\" >nan</td>\n",
       "                        <td id=\"T_1a2241c8_f498_11e9_a5fe_008cfafbe83erow2_col31\" class=\"data row2 col31\" >nan</td>\n",
       "                        <td id=\"T_1a2241c8_f498_11e9_a5fe_008cfafbe83erow2_col32\" class=\"data row2 col32\" >nan</td>\n",
       "                        <td id=\"T_1a2241c8_f498_11e9_a5fe_008cfafbe83erow2_col33\" class=\"data row2 col33\" >nan</td>\n",
       "                        <td id=\"T_1a2241c8_f498_11e9_a5fe_008cfafbe83erow2_col34\" class=\"data row2 col34\" >nan</td>\n",
       "                        <td id=\"T_1a2241c8_f498_11e9_a5fe_008cfafbe83erow2_col35\" class=\"data row2 col35\" >nan</td>\n",
       "                        <td id=\"T_1a2241c8_f498_11e9_a5fe_008cfafbe83erow2_col36\" class=\"data row2 col36\" >nan</td>\n",
       "                        <td id=\"T_1a2241c8_f498_11e9_a5fe_008cfafbe83erow2_col37\" class=\"data row2 col37\" >nan</td>\n",
       "                        <td id=\"T_1a2241c8_f498_11e9_a5fe_008cfafbe83erow2_col38\" class=\"data row2 col38\" >nan</td>\n",
       "                        <td id=\"T_1a2241c8_f498_11e9_a5fe_008cfafbe83erow2_col39\" class=\"data row2 col39\" >nan</td>\n",
       "                        <td id=\"T_1a2241c8_f498_11e9_a5fe_008cfafbe83erow2_col40\" class=\"data row2 col40\" >nan</td>\n",
       "                        <td id=\"T_1a2241c8_f498_11e9_a5fe_008cfafbe83erow2_col41\" class=\"data row2 col41\" >nan</td>\n",
       "                        <td id=\"T_1a2241c8_f498_11e9_a5fe_008cfafbe83erow2_col42\" class=\"data row2 col42\" >nan</td>\n",
       "                        <td id=\"T_1a2241c8_f498_11e9_a5fe_008cfafbe83erow2_col43\" class=\"data row2 col43\" >nan</td>\n",
       "                        <td id=\"T_1a2241c8_f498_11e9_a5fe_008cfafbe83erow2_col44\" class=\"data row2 col44\" >nan</td>\n",
       "                        <td id=\"T_1a2241c8_f498_11e9_a5fe_008cfafbe83erow2_col45\" class=\"data row2 col45\" >nan</td>\n",
       "                        <td id=\"T_1a2241c8_f498_11e9_a5fe_008cfafbe83erow2_col46\" class=\"data row2 col46\" >nan</td>\n",
       "                        <td id=\"T_1a2241c8_f498_11e9_a5fe_008cfafbe83erow2_col47\" class=\"data row2 col47\" >nan</td>\n",
       "                        <td id=\"T_1a2241c8_f498_11e9_a5fe_008cfafbe83erow2_col48\" class=\"data row2 col48\" >nan</td>\n",
       "                        <td id=\"T_1a2241c8_f498_11e9_a5fe_008cfafbe83erow2_col49\" class=\"data row2 col49\" >nan</td>\n",
       "                        <td id=\"T_1a2241c8_f498_11e9_a5fe_008cfafbe83erow2_col50\" class=\"data row2 col50\" >nan</td>\n",
       "                        <td id=\"T_1a2241c8_f498_11e9_a5fe_008cfafbe83erow2_col51\" class=\"data row2 col51\" >nan</td>\n",
       "                        <td id=\"T_1a2241c8_f498_11e9_a5fe_008cfafbe83erow2_col52\" class=\"data row2 col52\" >nan</td>\n",
       "                        <td id=\"T_1a2241c8_f498_11e9_a5fe_008cfafbe83erow2_col53\" class=\"data row2 col53\" >nan</td>\n",
       "                        <td id=\"T_1a2241c8_f498_11e9_a5fe_008cfafbe83erow2_col54\" class=\"data row2 col54\" >nan</td>\n",
       "                        <td id=\"T_1a2241c8_f498_11e9_a5fe_008cfafbe83erow2_col55\" class=\"data row2 col55\" >nan</td>\n",
       "                        <td id=\"T_1a2241c8_f498_11e9_a5fe_008cfafbe83erow2_col56\" class=\"data row2 col56\" >nan</td>\n",
       "                        <td id=\"T_1a2241c8_f498_11e9_a5fe_008cfafbe83erow2_col57\" class=\"data row2 col57\" >nan</td>\n",
       "                        <td id=\"T_1a2241c8_f498_11e9_a5fe_008cfafbe83erow2_col58\" class=\"data row2 col58\" >nan</td>\n",
       "                        <td id=\"T_1a2241c8_f498_11e9_a5fe_008cfafbe83erow2_col59\" class=\"data row2 col59\" >nan</td>\n",
       "                        <td id=\"T_1a2241c8_f498_11e9_a5fe_008cfafbe83erow2_col60\" class=\"data row2 col60\" >nan</td>\n",
       "                        <td id=\"T_1a2241c8_f498_11e9_a5fe_008cfafbe83erow2_col61\" class=\"data row2 col61\" >nan</td>\n",
       "                        <td id=\"T_1a2241c8_f498_11e9_a5fe_008cfafbe83erow2_col62\" class=\"data row2 col62\" >nan</td>\n",
       "                        <td id=\"T_1a2241c8_f498_11e9_a5fe_008cfafbe83erow2_col63\" class=\"data row2 col63\" >nan</td>\n",
       "                        <td id=\"T_1a2241c8_f498_11e9_a5fe_008cfafbe83erow2_col64\" class=\"data row2 col64\" >nan</td>\n",
       "                        <td id=\"T_1a2241c8_f498_11e9_a5fe_008cfafbe83erow2_col65\" class=\"data row2 col65\" >nan</td>\n",
       "                        <td id=\"T_1a2241c8_f498_11e9_a5fe_008cfafbe83erow2_col66\" class=\"data row2 col66\" >nan</td>\n",
       "                        <td id=\"T_1a2241c8_f498_11e9_a5fe_008cfafbe83erow2_col67\" class=\"data row2 col67\" >nan</td>\n",
       "                        <td id=\"T_1a2241c8_f498_11e9_a5fe_008cfafbe83erow2_col68\" class=\"data row2 col68\" >nan</td>\n",
       "                        <td id=\"T_1a2241c8_f498_11e9_a5fe_008cfafbe83erow2_col69\" class=\"data row2 col69\" >nan</td>\n",
       "                        <td id=\"T_1a2241c8_f498_11e9_a5fe_008cfafbe83erow2_col70\" class=\"data row2 col70\" >nan</td>\n",
       "                        <td id=\"T_1a2241c8_f498_11e9_a5fe_008cfafbe83erow2_col71\" class=\"data row2 col71\" >nan</td>\n",
       "                        <td id=\"T_1a2241c8_f498_11e9_a5fe_008cfafbe83erow2_col72\" class=\"data row2 col72\" >nan</td>\n",
       "                        <td id=\"T_1a2241c8_f498_11e9_a5fe_008cfafbe83erow2_col73\" class=\"data row2 col73\" >nan</td>\n",
       "                        <td id=\"T_1a2241c8_f498_11e9_a5fe_008cfafbe83erow2_col74\" class=\"data row2 col74\" >nan</td>\n",
       "                        <td id=\"T_1a2241c8_f498_11e9_a5fe_008cfafbe83erow2_col75\" class=\"data row2 col75\" >nan</td>\n",
       "                        <td id=\"T_1a2241c8_f498_11e9_a5fe_008cfafbe83erow2_col76\" class=\"data row2 col76\" >nan</td>\n",
       "                        <td id=\"T_1a2241c8_f498_11e9_a5fe_008cfafbe83erow2_col77\" class=\"data row2 col77\" >nan</td>\n",
       "                        <td id=\"T_1a2241c8_f498_11e9_a5fe_008cfafbe83erow2_col78\" class=\"data row2 col78\" >nan</td>\n",
       "                        <td id=\"T_1a2241c8_f498_11e9_a5fe_008cfafbe83erow2_col79\" class=\"data row2 col79\" >nan</td>\n",
       "                        <td id=\"T_1a2241c8_f498_11e9_a5fe_008cfafbe83erow2_col80\" class=\"data row2 col80\" >nan</td>\n",
       "                        <td id=\"T_1a2241c8_f498_11e9_a5fe_008cfafbe83erow2_col81\" class=\"data row2 col81\" >nan</td>\n",
       "                        <td id=\"T_1a2241c8_f498_11e9_a5fe_008cfafbe83erow2_col82\" class=\"data row2 col82\" >nan</td>\n",
       "                        <td id=\"T_1a2241c8_f498_11e9_a5fe_008cfafbe83erow2_col83\" class=\"data row2 col83\" >nan</td>\n",
       "                        <td id=\"T_1a2241c8_f498_11e9_a5fe_008cfafbe83erow2_col84\" class=\"data row2 col84\" >nan</td>\n",
       "                        <td id=\"T_1a2241c8_f498_11e9_a5fe_008cfafbe83erow2_col85\" class=\"data row2 col85\" >nan</td>\n",
       "                        <td id=\"T_1a2241c8_f498_11e9_a5fe_008cfafbe83erow2_col86\" class=\"data row2 col86\" >nan</td>\n",
       "                        <td id=\"T_1a2241c8_f498_11e9_a5fe_008cfafbe83erow2_col87\" class=\"data row2 col87\" >nan</td>\n",
       "                        <td id=\"T_1a2241c8_f498_11e9_a5fe_008cfafbe83erow2_col88\" class=\"data row2 col88\" >nan</td>\n",
       "                        <td id=\"T_1a2241c8_f498_11e9_a5fe_008cfafbe83erow2_col89\" class=\"data row2 col89\" >nan</td>\n",
       "                        <td id=\"T_1a2241c8_f498_11e9_a5fe_008cfafbe83erow2_col90\" class=\"data row2 col90\" >nan</td>\n",
       "                        <td id=\"T_1a2241c8_f498_11e9_a5fe_008cfafbe83erow2_col91\" class=\"data row2 col91\" >nan</td>\n",
       "                        <td id=\"T_1a2241c8_f498_11e9_a5fe_008cfafbe83erow2_col92\" class=\"data row2 col92\" >nan</td>\n",
       "                        <td id=\"T_1a2241c8_f498_11e9_a5fe_008cfafbe83erow2_col93\" class=\"data row2 col93\" >nan</td>\n",
       "                        <td id=\"T_1a2241c8_f498_11e9_a5fe_008cfafbe83erow2_col94\" class=\"data row2 col94\" >nan</td>\n",
       "            </tr>\n",
       "            <tr>\n",
       "                                <td id=\"T_1a2241c8_f498_11e9_a5fe_008cfafbe83erow3_col0\" class=\"data row3 col0\" >36</td>\n",
       "                        <td id=\"T_1a2241c8_f498_11e9_a5fe_008cfafbe83erow3_col1\" class=\"data row3 col1\" >StackedEnsemble_AllModels_AutoML_20191022_035915</td>\n",
       "                        <td id=\"T_1a2241c8_f498_11e9_a5fe_008cfafbe83erow3_col2\" class=\"data row3 col2\" >DeepLearning_grid_1_AutoML_20191022_035915_model_6</td>\n",
       "                        <td id=\"T_1a2241c8_f498_11e9_a5fe_008cfafbe83erow3_col3\" class=\"data row3 col3\" >GBM_grid_1_AutoML_20191022_035915_model_20</td>\n",
       "                        <td id=\"T_1a2241c8_f498_11e9_a5fe_008cfafbe83erow3_col4\" class=\"data row3 col4\" >GBM_grid_1_AutoML_20191022_035915_model_19</td>\n",
       "                        <td id=\"T_1a2241c8_f498_11e9_a5fe_008cfafbe83erow3_col5\" class=\"data row3 col5\" >GBM_grid_1_AutoML_20191022_035915_model_15</td>\n",
       "                        <td id=\"T_1a2241c8_f498_11e9_a5fe_008cfafbe83erow3_col6\" class=\"data row3 col6\" >GBM_grid_1_AutoML_20191022_035915_model_18</td>\n",
       "                        <td id=\"T_1a2241c8_f498_11e9_a5fe_008cfafbe83erow3_col7\" class=\"data row3 col7\" >GBM_grid_1_AutoML_20191022_035915_model_31</td>\n",
       "                        <td id=\"T_1a2241c8_f498_11e9_a5fe_008cfafbe83erow3_col8\" class=\"data row3 col8\" >DeepLearning_grid_1_AutoML_20191022_035915_model_9</td>\n",
       "                        <td id=\"T_1a2241c8_f498_11e9_a5fe_008cfafbe83erow3_col9\" class=\"data row3 col9\" >GBM_grid_1_AutoML_20191022_035915_model_12</td>\n",
       "                        <td id=\"T_1a2241c8_f498_11e9_a5fe_008cfafbe83erow3_col10\" class=\"data row3 col10\" >GBM_3_AutoML_20191022_035915</td>\n",
       "                        <td id=\"T_1a2241c8_f498_11e9_a5fe_008cfafbe83erow3_col11\" class=\"data row3 col11\" >GBM_4_AutoML_20191022_035915</td>\n",
       "                        <td id=\"T_1a2241c8_f498_11e9_a5fe_008cfafbe83erow3_col12\" class=\"data row3 col12\" >DeepLearning_grid_1_AutoML_20191022_035915_model_2</td>\n",
       "                        <td id=\"T_1a2241c8_f498_11e9_a5fe_008cfafbe83erow3_col13\" class=\"data row3 col13\" >GBM_2_AutoML_20191022_035915</td>\n",
       "                        <td id=\"T_1a2241c8_f498_11e9_a5fe_008cfafbe83erow3_col14\" class=\"data row3 col14\" >GBM_grid_1_AutoML_20191022_035915_model_27</td>\n",
       "                        <td id=\"T_1a2241c8_f498_11e9_a5fe_008cfafbe83erow3_col15\" class=\"data row3 col15\" >XGBoost_grid_1_AutoML_20191022_035915_model_13</td>\n",
       "                        <td id=\"T_1a2241c8_f498_11e9_a5fe_008cfafbe83erow3_col16\" class=\"data row3 col16\" >GBM_grid_1_AutoML_20191022_035915_model_11</td>\n",
       "                        <td id=\"T_1a2241c8_f498_11e9_a5fe_008cfafbe83erow3_col17\" class=\"data row3 col17\" >GBM_grid_1_AutoML_20191022_035915_model_1</td>\n",
       "                        <td id=\"T_1a2241c8_f498_11e9_a5fe_008cfafbe83erow3_col18\" class=\"data row3 col18\" >GBM_1_AutoML_20191022_035915</td>\n",
       "                        <td id=\"T_1a2241c8_f498_11e9_a5fe_008cfafbe83erow3_col19\" class=\"data row3 col19\" >DeepLearning_grid_1_AutoML_20191022_035915_model_3</td>\n",
       "                        <td id=\"T_1a2241c8_f498_11e9_a5fe_008cfafbe83erow3_col20\" class=\"data row3 col20\" >GBM_5_AutoML_20191022_035915</td>\n",
       "                        <td id=\"T_1a2241c8_f498_11e9_a5fe_008cfafbe83erow3_col21\" class=\"data row3 col21\" >GBM_grid_1_AutoML_20191022_035915_model_17</td>\n",
       "                        <td id=\"T_1a2241c8_f498_11e9_a5fe_008cfafbe83erow3_col22\" class=\"data row3 col22\" >GBM_grid_1_AutoML_20191022_035915_model_14</td>\n",
       "                        <td id=\"T_1a2241c8_f498_11e9_a5fe_008cfafbe83erow3_col23\" class=\"data row3 col23\" >GBM_grid_1_AutoML_20191022_035915_model_10</td>\n",
       "                        <td id=\"T_1a2241c8_f498_11e9_a5fe_008cfafbe83erow3_col24\" class=\"data row3 col24\" >GBM_grid_1_AutoML_20191022_035915_model_16</td>\n",
       "                        <td id=\"T_1a2241c8_f498_11e9_a5fe_008cfafbe83erow3_col25\" class=\"data row3 col25\" >GBM_grid_1_AutoML_20191022_035915_model_3</td>\n",
       "                        <td id=\"T_1a2241c8_f498_11e9_a5fe_008cfafbe83erow3_col26\" class=\"data row3 col26\" >XGBoost_grid_1_AutoML_20191022_035915_model_17</td>\n",
       "                        <td id=\"T_1a2241c8_f498_11e9_a5fe_008cfafbe83erow3_col27\" class=\"data row3 col27\" >GBM_grid_1_AutoML_20191022_035915_model_6</td>\n",
       "                        <td id=\"T_1a2241c8_f498_11e9_a5fe_008cfafbe83erow3_col28\" class=\"data row3 col28\" >GBM_grid_1_AutoML_20191022_035915_model_8</td>\n",
       "                        <td id=\"T_1a2241c8_f498_11e9_a5fe_008cfafbe83erow3_col29\" class=\"data row3 col29\" >GBM_grid_1_AutoML_20191022_035915_model_26</td>\n",
       "                        <td id=\"T_1a2241c8_f498_11e9_a5fe_008cfafbe83erow3_col30\" class=\"data row3 col30\" >DRF_1_AutoML_20191022_035915</td>\n",
       "                        <td id=\"T_1a2241c8_f498_11e9_a5fe_008cfafbe83erow3_col31\" class=\"data row3 col31\" >XGBoost_1_AutoML_20191022_035915</td>\n",
       "                        <td id=\"T_1a2241c8_f498_11e9_a5fe_008cfafbe83erow3_col32\" class=\"data row3 col32\" >XRT_1_AutoML_20191022_035915</td>\n",
       "                        <td id=\"T_1a2241c8_f498_11e9_a5fe_008cfafbe83erow3_col33\" class=\"data row3 col33\" >XGBoost_3_AutoML_20191022_035915</td>\n",
       "                        <td id=\"T_1a2241c8_f498_11e9_a5fe_008cfafbe83erow3_col34\" class=\"data row3 col34\" >DeepLearning_grid_1_AutoML_20191022_035915_model_5</td>\n",
       "                        <td id=\"T_1a2241c8_f498_11e9_a5fe_008cfafbe83erow3_col35\" class=\"data row3 col35\" >GBM_grid_1_AutoML_20191022_035915_model_13</td>\n",
       "                        <td id=\"T_1a2241c8_f498_11e9_a5fe_008cfafbe83erow3_col36\" class=\"data row3 col36\" >XGBoost_grid_1_AutoML_20191022_035915_model_2</td>\n",
       "                        <td id=\"T_1a2241c8_f498_11e9_a5fe_008cfafbe83erow3_col37\" class=\"data row3 col37\" >GBM_grid_1_AutoML_20191022_035915_model_24</td>\n",
       "                        <td id=\"T_1a2241c8_f498_11e9_a5fe_008cfafbe83erow3_col38\" class=\"data row3 col38\" >XGBoost_grid_1_AutoML_20191022_035915_model_18</td>\n",
       "                        <td id=\"T_1a2241c8_f498_11e9_a5fe_008cfafbe83erow3_col39\" class=\"data row3 col39\" >DeepLearning_grid_1_AutoML_20191022_035915_model_4</td>\n",
       "                        <td id=\"T_1a2241c8_f498_11e9_a5fe_008cfafbe83erow3_col40\" class=\"data row3 col40\" >XGBoost_grid_1_AutoML_20191022_035915_model_8</td>\n",
       "                        <td id=\"T_1a2241c8_f498_11e9_a5fe_008cfafbe83erow3_col41\" class=\"data row3 col41\" >XGBoost_grid_1_AutoML_20191022_035915_model_21</td>\n",
       "                        <td id=\"T_1a2241c8_f498_11e9_a5fe_008cfafbe83erow3_col42\" class=\"data row3 col42\" >XGBoost_grid_1_AutoML_20191022_035915_model_15</td>\n",
       "                        <td id=\"T_1a2241c8_f498_11e9_a5fe_008cfafbe83erow3_col43\" class=\"data row3 col43\" >GBM_grid_1_AutoML_20191022_035915_model_9</td>\n",
       "                        <td id=\"T_1a2241c8_f498_11e9_a5fe_008cfafbe83erow3_col44\" class=\"data row3 col44\" >GBM_grid_1_AutoML_20191022_035915_model_32</td>\n",
       "                        <td id=\"T_1a2241c8_f498_11e9_a5fe_008cfafbe83erow3_col45\" class=\"data row3 col45\" >XGBoost_grid_1_AutoML_20191022_035915_model_4</td>\n",
       "                        <td id=\"T_1a2241c8_f498_11e9_a5fe_008cfafbe83erow3_col46\" class=\"data row3 col46\" >DeepLearning_grid_1_AutoML_20191022_035915_model_8</td>\n",
       "                        <td id=\"T_1a2241c8_f498_11e9_a5fe_008cfafbe83erow3_col47\" class=\"data row3 col47\" >XGBoost_2_AutoML_20191022_035915</td>\n",
       "                        <td id=\"T_1a2241c8_f498_11e9_a5fe_008cfafbe83erow3_col48\" class=\"data row3 col48\" >DeepLearning_grid_1_AutoML_20191022_035915_model_1</td>\n",
       "                        <td id=\"T_1a2241c8_f498_11e9_a5fe_008cfafbe83erow3_col49\" class=\"data row3 col49\" >XGBoost_grid_1_AutoML_20191022_035915_model_3</td>\n",
       "                        <td id=\"T_1a2241c8_f498_11e9_a5fe_008cfafbe83erow3_col50\" class=\"data row3 col50\" >GBM_grid_1_AutoML_20191022_035915_model_29</td>\n",
       "                        <td id=\"T_1a2241c8_f498_11e9_a5fe_008cfafbe83erow3_col51\" class=\"data row3 col51\" >XGBoost_grid_1_AutoML_20191022_035915_model_20</td>\n",
       "                        <td id=\"T_1a2241c8_f498_11e9_a5fe_008cfafbe83erow3_col52\" class=\"data row3 col52\" >XGBoost_grid_1_AutoML_20191022_035915_model_7</td>\n",
       "                        <td id=\"T_1a2241c8_f498_11e9_a5fe_008cfafbe83erow3_col53\" class=\"data row3 col53\" >XGBoost_grid_1_AutoML_20191022_035915_model_19</td>\n",
       "                        <td id=\"T_1a2241c8_f498_11e9_a5fe_008cfafbe83erow3_col54\" class=\"data row3 col54\" >GBM_grid_1_AutoML_20191022_035915_model_21</td>\n",
       "                        <td id=\"T_1a2241c8_f498_11e9_a5fe_008cfafbe83erow3_col55\" class=\"data row3 col55\" >XGBoost_grid_1_AutoML_20191022_035915_model_1</td>\n",
       "                        <td id=\"T_1a2241c8_f498_11e9_a5fe_008cfafbe83erow3_col56\" class=\"data row3 col56\" >DeepLearning_grid_1_AutoML_20191022_035915_model_10</td>\n",
       "                        <td id=\"T_1a2241c8_f498_11e9_a5fe_008cfafbe83erow3_col57\" class=\"data row3 col57\" >GBM_grid_1_AutoML_20191022_035915_model_7</td>\n",
       "                        <td id=\"T_1a2241c8_f498_11e9_a5fe_008cfafbe83erow3_col58\" class=\"data row3 col58\" >XGBoost_grid_1_AutoML_20191022_035915_model_5</td>\n",
       "                        <td id=\"T_1a2241c8_f498_11e9_a5fe_008cfafbe83erow3_col59\" class=\"data row3 col59\" >GBM_grid_1_AutoML_20191022_035915_model_28</td>\n",
       "                        <td id=\"T_1a2241c8_f498_11e9_a5fe_008cfafbe83erow3_col60\" class=\"data row3 col60\" >GBM_grid_1_AutoML_20191022_035915_model_23</td>\n",
       "                        <td id=\"T_1a2241c8_f498_11e9_a5fe_008cfafbe83erow3_col61\" class=\"data row3 col61\" >GLM_grid_1_AutoML_20191022_035915_model_1</td>\n",
       "                        <td id=\"T_1a2241c8_f498_11e9_a5fe_008cfafbe83erow3_col62\" class=\"data row3 col62\" >XGBoost_grid_1_AutoML_20191022_035915_model_12</td>\n",
       "                        <td id=\"T_1a2241c8_f498_11e9_a5fe_008cfafbe83erow3_col63\" class=\"data row3 col63\" >GBM_grid_1_AutoML_20191022_035915_model_30</td>\n",
       "                        <td id=\"T_1a2241c8_f498_11e9_a5fe_008cfafbe83erow3_col64\" class=\"data row3 col64\" >GBM_grid_1_AutoML_20191022_035915_model_4</td>\n",
       "                        <td id=\"T_1a2241c8_f498_11e9_a5fe_008cfafbe83erow3_col65\" class=\"data row3 col65\" >GBM_grid_1_AutoML_20191022_035915_model_25</td>\n",
       "                        <td id=\"T_1a2241c8_f498_11e9_a5fe_008cfafbe83erow3_col66\" class=\"data row3 col66\" >DeepLearning_grid_1_AutoML_20191022_035915_model_7</td>\n",
       "                        <td id=\"T_1a2241c8_f498_11e9_a5fe_008cfafbe83erow3_col67\" class=\"data row3 col67\" >XGBoost_grid_1_AutoML_20191022_035915_model_14</td>\n",
       "                        <td id=\"T_1a2241c8_f498_11e9_a5fe_008cfafbe83erow3_col68\" class=\"data row3 col68\" >XGBoost_grid_1_AutoML_20191022_035915_model_10</td>\n",
       "                        <td id=\"T_1a2241c8_f498_11e9_a5fe_008cfafbe83erow3_col69\" class=\"data row3 col69\" >XGBoost_grid_1_AutoML_20191022_035915_model_6</td>\n",
       "                        <td id=\"T_1a2241c8_f498_11e9_a5fe_008cfafbe83erow3_col70\" class=\"data row3 col70\" >XGBoost_grid_1_AutoML_20191022_035915_model_22</td>\n",
       "                        <td id=\"T_1a2241c8_f498_11e9_a5fe_008cfafbe83erow3_col71\" class=\"data row3 col71\" >XGBoost_grid_1_AutoML_20191022_035915_model_11</td>\n",
       "                        <td id=\"T_1a2241c8_f498_11e9_a5fe_008cfafbe83erow3_col72\" class=\"data row3 col72\" >XGBoost_grid_1_AutoML_20191022_035915_model_16</td>\n",
       "                        <td id=\"T_1a2241c8_f498_11e9_a5fe_008cfafbe83erow3_col73\" class=\"data row3 col73\" >GBM_grid_1_AutoML_20191022_035915_model_33</td>\n",
       "                        <td id=\"T_1a2241c8_f498_11e9_a5fe_008cfafbe83erow3_col74\" class=\"data row3 col74\" >XGBoost_grid_1_AutoML_20191022_035915_model_9</td>\n",
       "                        <td id=\"T_1a2241c8_f498_11e9_a5fe_008cfafbe83erow3_col75\" class=\"data row3 col75\" >GBM_grid_1_AutoML_20191022_035915_model_34</td>\n",
       "                        <td id=\"T_1a2241c8_f498_11e9_a5fe_008cfafbe83erow3_col76\" class=\"data row3 col76\" >GBM_grid_1_AutoML_20191022_035915_model_2</td>\n",
       "                        <td id=\"T_1a2241c8_f498_11e9_a5fe_008cfafbe83erow3_col77\" class=\"data row3 col77\" >XGBoost_grid_1_AutoML_20191022_035915_model_23</td>\n",
       "                        <td id=\"T_1a2241c8_f498_11e9_a5fe_008cfafbe83erow3_col78\" class=\"data row3 col78\" >DeepLearning_1_AutoML_20191022_035915</td>\n",
       "                        <td id=\"T_1a2241c8_f498_11e9_a5fe_008cfafbe83erow3_col79\" class=\"data row3 col79\" >GBM_grid_1_AutoML_20191022_035915_model_22</td>\n",
       "                        <td id=\"T_1a2241c8_f498_11e9_a5fe_008cfafbe83erow3_col80\" class=\"data row3 col80\" >GBM_grid_1_AutoML_20191022_035915_model_5</td>\n",
       "                        <td id=\"T_1a2241c8_f498_11e9_a5fe_008cfafbe83erow3_col81\" class=\"data row3 col81\" >GBM_grid_1_AutoML_20191022_035915_model_35</td>\n",
       "                        <td id=\"T_1a2241c8_f498_11e9_a5fe_008cfafbe83erow3_col82\" class=\"data row3 col82\" >nan</td>\n",
       "                        <td id=\"T_1a2241c8_f498_11e9_a5fe_008cfafbe83erow3_col83\" class=\"data row3 col83\" >nan</td>\n",
       "                        <td id=\"T_1a2241c8_f498_11e9_a5fe_008cfafbe83erow3_col84\" class=\"data row3 col84\" >nan</td>\n",
       "                        <td id=\"T_1a2241c8_f498_11e9_a5fe_008cfafbe83erow3_col85\" class=\"data row3 col85\" >nan</td>\n",
       "                        <td id=\"T_1a2241c8_f498_11e9_a5fe_008cfafbe83erow3_col86\" class=\"data row3 col86\" >nan</td>\n",
       "                        <td id=\"T_1a2241c8_f498_11e9_a5fe_008cfafbe83erow3_col87\" class=\"data row3 col87\" >nan</td>\n",
       "                        <td id=\"T_1a2241c8_f498_11e9_a5fe_008cfafbe83erow3_col88\" class=\"data row3 col88\" >nan</td>\n",
       "                        <td id=\"T_1a2241c8_f498_11e9_a5fe_008cfafbe83erow3_col89\" class=\"data row3 col89\" >nan</td>\n",
       "                        <td id=\"T_1a2241c8_f498_11e9_a5fe_008cfafbe83erow3_col90\" class=\"data row3 col90\" >nan</td>\n",
       "                        <td id=\"T_1a2241c8_f498_11e9_a5fe_008cfafbe83erow3_col91\" class=\"data row3 col91\" >nan</td>\n",
       "                        <td id=\"T_1a2241c8_f498_11e9_a5fe_008cfafbe83erow3_col92\" class=\"data row3 col92\" >nan</td>\n",
       "                        <td id=\"T_1a2241c8_f498_11e9_a5fe_008cfafbe83erow3_col93\" class=\"data row3 col93\" >nan</td>\n",
       "                        <td id=\"T_1a2241c8_f498_11e9_a5fe_008cfafbe83erow3_col94\" class=\"data row3 col94\" >nan</td>\n",
       "            </tr>\n",
       "            <tr>\n",
       "                                <td id=\"T_1a2241c8_f498_11e9_a5fe_008cfafbe83erow4_col0\" class=\"data row4 col0\" >48</td>\n",
       "                        <td id=\"T_1a2241c8_f498_11e9_a5fe_008cfafbe83erow4_col1\" class=\"data row4 col1\" >StackedEnsemble_AllModels_AutoML_20191022_040353</td>\n",
       "                        <td id=\"T_1a2241c8_f498_11e9_a5fe_008cfafbe83erow4_col2\" class=\"data row4 col2\" >DeepLearning_grid_1_AutoML_20191022_040353_model_8</td>\n",
       "                        <td id=\"T_1a2241c8_f498_11e9_a5fe_008cfafbe83erow4_col3\" class=\"data row4 col3\" >DeepLearning_grid_1_AutoML_20191022_040353_model_11</td>\n",
       "                        <td id=\"T_1a2241c8_f498_11e9_a5fe_008cfafbe83erow4_col4\" class=\"data row4 col4\" >DeepLearning_grid_1_AutoML_20191022_040353_model_2</td>\n",
       "                        <td id=\"T_1a2241c8_f498_11e9_a5fe_008cfafbe83erow4_col5\" class=\"data row4 col5\" >GBM_grid_1_AutoML_20191022_040353_model_15</td>\n",
       "                        <td id=\"T_1a2241c8_f498_11e9_a5fe_008cfafbe83erow4_col6\" class=\"data row4 col6\" >GBM_grid_1_AutoML_20191022_040353_model_18</td>\n",
       "                        <td id=\"T_1a2241c8_f498_11e9_a5fe_008cfafbe83erow4_col7\" class=\"data row4 col7\" >GBM_grid_1_AutoML_20191022_040353_model_20</td>\n",
       "                        <td id=\"T_1a2241c8_f498_11e9_a5fe_008cfafbe83erow4_col8\" class=\"data row4 col8\" >GBM_2_AutoML_20191022_040353</td>\n",
       "                        <td id=\"T_1a2241c8_f498_11e9_a5fe_008cfafbe83erow4_col9\" class=\"data row4 col9\" >GBM_grid_1_AutoML_20191022_040353_model_19</td>\n",
       "                        <td id=\"T_1a2241c8_f498_11e9_a5fe_008cfafbe83erow4_col10\" class=\"data row4 col10\" >GBM_grid_1_AutoML_20191022_040353_model_12</td>\n",
       "                        <td id=\"T_1a2241c8_f498_11e9_a5fe_008cfafbe83erow4_col11\" class=\"data row4 col11\" >GBM_4_AutoML_20191022_040353</td>\n",
       "                        <td id=\"T_1a2241c8_f498_11e9_a5fe_008cfafbe83erow4_col12\" class=\"data row4 col12\" >DeepLearning_grid_1_AutoML_20191022_040353_model_3</td>\n",
       "                        <td id=\"T_1a2241c8_f498_11e9_a5fe_008cfafbe83erow4_col13\" class=\"data row4 col13\" >XRT_1_AutoML_20191022_040353</td>\n",
       "                        <td id=\"T_1a2241c8_f498_11e9_a5fe_008cfafbe83erow4_col14\" class=\"data row4 col14\" >GBM_grid_1_AutoML_20191022_040353_model_3</td>\n",
       "                        <td id=\"T_1a2241c8_f498_11e9_a5fe_008cfafbe83erow4_col15\" class=\"data row4 col15\" >GBM_grid_1_AutoML_20191022_040353_model_11</td>\n",
       "                        <td id=\"T_1a2241c8_f498_11e9_a5fe_008cfafbe83erow4_col16\" class=\"data row4 col16\" >GBM_grid_1_AutoML_20191022_040353_model_14</td>\n",
       "                        <td id=\"T_1a2241c8_f498_11e9_a5fe_008cfafbe83erow4_col17\" class=\"data row4 col17\" >GBM_3_AutoML_20191022_040353</td>\n",
       "                        <td id=\"T_1a2241c8_f498_11e9_a5fe_008cfafbe83erow4_col18\" class=\"data row4 col18\" >GBM_grid_1_AutoML_20191022_040353_model_6</td>\n",
       "                        <td id=\"T_1a2241c8_f498_11e9_a5fe_008cfafbe83erow4_col19\" class=\"data row4 col19\" >GBM_grid_1_AutoML_20191022_040353_model_31</td>\n",
       "                        <td id=\"T_1a2241c8_f498_11e9_a5fe_008cfafbe83erow4_col20\" class=\"data row4 col20\" >DRF_1_AutoML_20191022_040353</td>\n",
       "                        <td id=\"T_1a2241c8_f498_11e9_a5fe_008cfafbe83erow4_col21\" class=\"data row4 col21\" >DeepLearning_grid_1_AutoML_20191022_040353_model_7</td>\n",
       "                        <td id=\"T_1a2241c8_f498_11e9_a5fe_008cfafbe83erow4_col22\" class=\"data row4 col22\" >DeepLearning_grid_1_AutoML_20191022_040353_model_4</td>\n",
       "                        <td id=\"T_1a2241c8_f498_11e9_a5fe_008cfafbe83erow4_col23\" class=\"data row4 col23\" >XGBoost_grid_1_AutoML_20191022_040353_model_13</td>\n",
       "                        <td id=\"T_1a2241c8_f498_11e9_a5fe_008cfafbe83erow4_col24\" class=\"data row4 col24\" >GBM_grid_1_AutoML_20191022_040353_model_26</td>\n",
       "                        <td id=\"T_1a2241c8_f498_11e9_a5fe_008cfafbe83erow4_col25\" class=\"data row4 col25\" >GBM_5_AutoML_20191022_040353</td>\n",
       "                        <td id=\"T_1a2241c8_f498_11e9_a5fe_008cfafbe83erow4_col26\" class=\"data row4 col26\" >GBM_grid_1_AutoML_20191022_040353_model_27</td>\n",
       "                        <td id=\"T_1a2241c8_f498_11e9_a5fe_008cfafbe83erow4_col27\" class=\"data row4 col27\" >XGBoost_grid_1_AutoML_20191022_040353_model_17</td>\n",
       "                        <td id=\"T_1a2241c8_f498_11e9_a5fe_008cfafbe83erow4_col28\" class=\"data row4 col28\" >GBM_1_AutoML_20191022_040353</td>\n",
       "                        <td id=\"T_1a2241c8_f498_11e9_a5fe_008cfafbe83erow4_col29\" class=\"data row4 col29\" >XGBoost_1_AutoML_20191022_040353</td>\n",
       "                        <td id=\"T_1a2241c8_f498_11e9_a5fe_008cfafbe83erow4_col30\" class=\"data row4 col30\" >GBM_grid_1_AutoML_20191022_040353_model_17</td>\n",
       "                        <td id=\"T_1a2241c8_f498_11e9_a5fe_008cfafbe83erow4_col31\" class=\"data row4 col31\" >GBM_grid_1_AutoML_20191022_040353_model_8</td>\n",
       "                        <td id=\"T_1a2241c8_f498_11e9_a5fe_008cfafbe83erow4_col32\" class=\"data row4 col32\" >XGBoost_grid_1_AutoML_20191022_040353_model_8</td>\n",
       "                        <td id=\"T_1a2241c8_f498_11e9_a5fe_008cfafbe83erow4_col33\" class=\"data row4 col33\" >XGBoost_grid_1_AutoML_20191022_040353_model_2</td>\n",
       "                        <td id=\"T_1a2241c8_f498_11e9_a5fe_008cfafbe83erow4_col34\" class=\"data row4 col34\" >GBM_grid_1_AutoML_20191022_040353_model_13</td>\n",
       "                        <td id=\"T_1a2241c8_f498_11e9_a5fe_008cfafbe83erow4_col35\" class=\"data row4 col35\" >GBM_grid_1_AutoML_20191022_040353_model_10</td>\n",
       "                        <td id=\"T_1a2241c8_f498_11e9_a5fe_008cfafbe83erow4_col36\" class=\"data row4 col36\" >XGBoost_grid_1_AutoML_20191022_040353_model_4</td>\n",
       "                        <td id=\"T_1a2241c8_f498_11e9_a5fe_008cfafbe83erow4_col37\" class=\"data row4 col37\" >XGBoost_3_AutoML_20191022_040353</td>\n",
       "                        <td id=\"T_1a2241c8_f498_11e9_a5fe_008cfafbe83erow4_col38\" class=\"data row4 col38\" >XGBoost_grid_1_AutoML_20191022_040353_model_18</td>\n",
       "                        <td id=\"T_1a2241c8_f498_11e9_a5fe_008cfafbe83erow4_col39\" class=\"data row4 col39\" >DeepLearning_grid_1_AutoML_20191022_040353_model_1</td>\n",
       "                        <td id=\"T_1a2241c8_f498_11e9_a5fe_008cfafbe83erow4_col40\" class=\"data row4 col40\" >DeepLearning_grid_1_AutoML_20191022_040353_model_10</td>\n",
       "                        <td id=\"T_1a2241c8_f498_11e9_a5fe_008cfafbe83erow4_col41\" class=\"data row4 col41\" >XGBoost_grid_1_AutoML_20191022_040353_model_15</td>\n",
       "                        <td id=\"T_1a2241c8_f498_11e9_a5fe_008cfafbe83erow4_col42\" class=\"data row4 col42\" >XGBoost_grid_1_AutoML_20191022_040353_model_21</td>\n",
       "                        <td id=\"T_1a2241c8_f498_11e9_a5fe_008cfafbe83erow4_col43\" class=\"data row4 col43\" >GBM_grid_1_AutoML_20191022_040353_model_1</td>\n",
       "                        <td id=\"T_1a2241c8_f498_11e9_a5fe_008cfafbe83erow4_col44\" class=\"data row4 col44\" >DeepLearning_grid_1_AutoML_20191022_040353_model_6</td>\n",
       "                        <td id=\"T_1a2241c8_f498_11e9_a5fe_008cfafbe83erow4_col45\" class=\"data row4 col45\" >XGBoost_grid_1_AutoML_20191022_040353_model_20</td>\n",
       "                        <td id=\"T_1a2241c8_f498_11e9_a5fe_008cfafbe83erow4_col46\" class=\"data row4 col46\" >XGBoost_grid_1_AutoML_20191022_040353_model_19</td>\n",
       "                        <td id=\"T_1a2241c8_f498_11e9_a5fe_008cfafbe83erow4_col47\" class=\"data row4 col47\" >XGBoost_2_AutoML_20191022_040353</td>\n",
       "                        <td id=\"T_1a2241c8_f498_11e9_a5fe_008cfafbe83erow4_col48\" class=\"data row4 col48\" >GBM_grid_1_AutoML_20191022_040353_model_9</td>\n",
       "                        <td id=\"T_1a2241c8_f498_11e9_a5fe_008cfafbe83erow4_col49\" class=\"data row4 col49\" >GBM_grid_1_AutoML_20191022_040353_model_16</td>\n",
       "                        <td id=\"T_1a2241c8_f498_11e9_a5fe_008cfafbe83erow4_col50\" class=\"data row4 col50\" >GBM_grid_1_AutoML_20191022_040353_model_24</td>\n",
       "                        <td id=\"T_1a2241c8_f498_11e9_a5fe_008cfafbe83erow4_col51\" class=\"data row4 col51\" >GBM_grid_1_AutoML_20191022_040353_model_21</td>\n",
       "                        <td id=\"T_1a2241c8_f498_11e9_a5fe_008cfafbe83erow4_col52\" class=\"data row4 col52\" >XGBoost_grid_1_AutoML_20191022_040353_model_7</td>\n",
       "                        <td id=\"T_1a2241c8_f498_11e9_a5fe_008cfafbe83erow4_col53\" class=\"data row4 col53\" >XGBoost_grid_1_AutoML_20191022_040353_model_3</td>\n",
       "                        <td id=\"T_1a2241c8_f498_11e9_a5fe_008cfafbe83erow4_col54\" class=\"data row4 col54\" >DeepLearning_grid_1_AutoML_20191022_040353_model_12</td>\n",
       "                        <td id=\"T_1a2241c8_f498_11e9_a5fe_008cfafbe83erow4_col55\" class=\"data row4 col55\" >DeepLearning_grid_1_AutoML_20191022_040353_model_13</td>\n",
       "                        <td id=\"T_1a2241c8_f498_11e9_a5fe_008cfafbe83erow4_col56\" class=\"data row4 col56\" >DeepLearning_grid_1_AutoML_20191022_040353_model_5</td>\n",
       "                        <td id=\"T_1a2241c8_f498_11e9_a5fe_008cfafbe83erow4_col57\" class=\"data row4 col57\" >XGBoost_grid_1_AutoML_20191022_040353_model_1</td>\n",
       "                        <td id=\"T_1a2241c8_f498_11e9_a5fe_008cfafbe83erow4_col58\" class=\"data row4 col58\" >GBM_grid_1_AutoML_20191022_040353_model_29</td>\n",
       "                        <td id=\"T_1a2241c8_f498_11e9_a5fe_008cfafbe83erow4_col59\" class=\"data row4 col59\" >GBM_grid_1_AutoML_20191022_040353_model_7</td>\n",
       "                        <td id=\"T_1a2241c8_f498_11e9_a5fe_008cfafbe83erow4_col60\" class=\"data row4 col60\" >XGBoost_grid_1_AutoML_20191022_040353_model_23</td>\n",
       "                        <td id=\"T_1a2241c8_f498_11e9_a5fe_008cfafbe83erow4_col61\" class=\"data row4 col61\" >DeepLearning_grid_1_AutoML_20191022_040353_model_9</td>\n",
       "                        <td id=\"T_1a2241c8_f498_11e9_a5fe_008cfafbe83erow4_col62\" class=\"data row4 col62\" >GLM_grid_1_AutoML_20191022_040353_model_1</td>\n",
       "                        <td id=\"T_1a2241c8_f498_11e9_a5fe_008cfafbe83erow4_col63\" class=\"data row4 col63\" >XGBoost_grid_1_AutoML_20191022_040353_model_5</td>\n",
       "                        <td id=\"T_1a2241c8_f498_11e9_a5fe_008cfafbe83erow4_col64\" class=\"data row4 col64\" >XGBoost_grid_1_AutoML_20191022_040353_model_12</td>\n",
       "                        <td id=\"T_1a2241c8_f498_11e9_a5fe_008cfafbe83erow4_col65\" class=\"data row4 col65\" >XGBoost_grid_1_AutoML_20191022_040353_model_10</td>\n",
       "                        <td id=\"T_1a2241c8_f498_11e9_a5fe_008cfafbe83erow4_col66\" class=\"data row4 col66\" >GBM_grid_1_AutoML_20191022_040353_model_23</td>\n",
       "                        <td id=\"T_1a2241c8_f498_11e9_a5fe_008cfafbe83erow4_col67\" class=\"data row4 col67\" >GBM_grid_1_AutoML_20191022_040353_model_25</td>\n",
       "                        <td id=\"T_1a2241c8_f498_11e9_a5fe_008cfafbe83erow4_col68\" class=\"data row4 col68\" >XGBoost_grid_1_AutoML_20191022_040353_model_14</td>\n",
       "                        <td id=\"T_1a2241c8_f498_11e9_a5fe_008cfafbe83erow4_col69\" class=\"data row4 col69\" >GBM_grid_1_AutoML_20191022_040353_model_30</td>\n",
       "                        <td id=\"T_1a2241c8_f498_11e9_a5fe_008cfafbe83erow4_col70\" class=\"data row4 col70\" >XGBoost_grid_1_AutoML_20191022_040353_model_11</td>\n",
       "                        <td id=\"T_1a2241c8_f498_11e9_a5fe_008cfafbe83erow4_col71\" class=\"data row4 col71\" >GBM_grid_1_AutoML_20191022_040353_model_28</td>\n",
       "                        <td id=\"T_1a2241c8_f498_11e9_a5fe_008cfafbe83erow4_col72\" class=\"data row4 col72\" >GBM_grid_1_AutoML_20191022_040353_model_4</td>\n",
       "                        <td id=\"T_1a2241c8_f498_11e9_a5fe_008cfafbe83erow4_col73\" class=\"data row4 col73\" >XGBoost_grid_1_AutoML_20191022_040353_model_22</td>\n",
       "                        <td id=\"T_1a2241c8_f498_11e9_a5fe_008cfafbe83erow4_col74\" class=\"data row4 col74\" >XGBoost_grid_1_AutoML_20191022_040353_model_6</td>\n",
       "                        <td id=\"T_1a2241c8_f498_11e9_a5fe_008cfafbe83erow4_col75\" class=\"data row4 col75\" >XGBoost_grid_1_AutoML_20191022_040353_model_16</td>\n",
       "                        <td id=\"T_1a2241c8_f498_11e9_a5fe_008cfafbe83erow4_col76\" class=\"data row4 col76\" >XGBoost_grid_1_AutoML_20191022_040353_model_24</td>\n",
       "                        <td id=\"T_1a2241c8_f498_11e9_a5fe_008cfafbe83erow4_col77\" class=\"data row4 col77\" >XGBoost_grid_1_AutoML_20191022_040353_model_9</td>\n",
       "                        <td id=\"T_1a2241c8_f498_11e9_a5fe_008cfafbe83erow4_col78\" class=\"data row4 col78\" >GBM_grid_1_AutoML_20191022_040353_model_2</td>\n",
       "                        <td id=\"T_1a2241c8_f498_11e9_a5fe_008cfafbe83erow4_col79\" class=\"data row4 col79\" >XGBoost_grid_1_AutoML_20191022_040353_model_25</td>\n",
       "                        <td id=\"T_1a2241c8_f498_11e9_a5fe_008cfafbe83erow4_col80\" class=\"data row4 col80\" >GBM_grid_1_AutoML_20191022_040353_model_22</td>\n",
       "                        <td id=\"T_1a2241c8_f498_11e9_a5fe_008cfafbe83erow4_col81\" class=\"data row4 col81\" >GBM_grid_1_AutoML_20191022_040353_model_5</td>\n",
       "                        <td id=\"T_1a2241c8_f498_11e9_a5fe_008cfafbe83erow4_col82\" class=\"data row4 col82\" >DeepLearning_1_AutoML_20191022_040353</td>\n",
       "                        <td id=\"T_1a2241c8_f498_11e9_a5fe_008cfafbe83erow4_col83\" class=\"data row4 col83\" >nan</td>\n",
       "                        <td id=\"T_1a2241c8_f498_11e9_a5fe_008cfafbe83erow4_col84\" class=\"data row4 col84\" >nan</td>\n",
       "                        <td id=\"T_1a2241c8_f498_11e9_a5fe_008cfafbe83erow4_col85\" class=\"data row4 col85\" >nan</td>\n",
       "                        <td id=\"T_1a2241c8_f498_11e9_a5fe_008cfafbe83erow4_col86\" class=\"data row4 col86\" >nan</td>\n",
       "                        <td id=\"T_1a2241c8_f498_11e9_a5fe_008cfafbe83erow4_col87\" class=\"data row4 col87\" >nan</td>\n",
       "                        <td id=\"T_1a2241c8_f498_11e9_a5fe_008cfafbe83erow4_col88\" class=\"data row4 col88\" >nan</td>\n",
       "                        <td id=\"T_1a2241c8_f498_11e9_a5fe_008cfafbe83erow4_col89\" class=\"data row4 col89\" >nan</td>\n",
       "                        <td id=\"T_1a2241c8_f498_11e9_a5fe_008cfafbe83erow4_col90\" class=\"data row4 col90\" >nan</td>\n",
       "                        <td id=\"T_1a2241c8_f498_11e9_a5fe_008cfafbe83erow4_col91\" class=\"data row4 col91\" >nan</td>\n",
       "                        <td id=\"T_1a2241c8_f498_11e9_a5fe_008cfafbe83erow4_col92\" class=\"data row4 col92\" >nan</td>\n",
       "                        <td id=\"T_1a2241c8_f498_11e9_a5fe_008cfafbe83erow4_col93\" class=\"data row4 col93\" >nan</td>\n",
       "                        <td id=\"T_1a2241c8_f498_11e9_a5fe_008cfafbe83erow4_col94\" class=\"data row4 col94\" >nan</td>\n",
       "            </tr>\n",
       "            <tr>\n",
       "                                <td id=\"T_1a2241c8_f498_11e9_a5fe_008cfafbe83erow5_col0\" class=\"data row5 col0\" >60</td>\n",
       "                        <td id=\"T_1a2241c8_f498_11e9_a5fe_008cfafbe83erow5_col1\" class=\"data row5 col1\" >StackedEnsemble_AllModels_AutoML_20191022_052406</td>\n",
       "                        <td id=\"T_1a2241c8_f498_11e9_a5fe_008cfafbe83erow5_col2\" class=\"data row5 col2\" >DeepLearning_grid_1_AutoML_20191022_052406_model_2</td>\n",
       "                        <td id=\"T_1a2241c8_f498_11e9_a5fe_008cfafbe83erow5_col3\" class=\"data row5 col3\" >DeepLearning_grid_1_AutoML_20191022_052406_model_7</td>\n",
       "                        <td id=\"T_1a2241c8_f498_11e9_a5fe_008cfafbe83erow5_col4\" class=\"data row5 col4\" >GBM_grid_1_AutoML_20191022_052406_model_19</td>\n",
       "                        <td id=\"T_1a2241c8_f498_11e9_a5fe_008cfafbe83erow5_col5\" class=\"data row5 col5\" >GBM_grid_1_AutoML_20191022_052406_model_20</td>\n",
       "                        <td id=\"T_1a2241c8_f498_11e9_a5fe_008cfafbe83erow5_col6\" class=\"data row5 col6\" >GBM_grid_1_AutoML_20191022_052406_model_39</td>\n",
       "                        <td id=\"T_1a2241c8_f498_11e9_a5fe_008cfafbe83erow5_col7\" class=\"data row5 col7\" >GBM_grid_1_AutoML_20191022_052406_model_41</td>\n",
       "                        <td id=\"T_1a2241c8_f498_11e9_a5fe_008cfafbe83erow5_col8\" class=\"data row5 col8\" >GBM_grid_1_AutoML_20191022_052406_model_15</td>\n",
       "                        <td id=\"T_1a2241c8_f498_11e9_a5fe_008cfafbe83erow5_col9\" class=\"data row5 col9\" >GBM_grid_1_AutoML_20191022_052406_model_31</td>\n",
       "                        <td id=\"T_1a2241c8_f498_11e9_a5fe_008cfafbe83erow5_col10\" class=\"data row5 col10\" >GBM_grid_1_AutoML_20191022_052406_model_18</td>\n",
       "                        <td id=\"T_1a2241c8_f498_11e9_a5fe_008cfafbe83erow5_col11\" class=\"data row5 col11\" >GBM_grid_1_AutoML_20191022_052406_model_35</td>\n",
       "                        <td id=\"T_1a2241c8_f498_11e9_a5fe_008cfafbe83erow5_col12\" class=\"data row5 col12\" >GBM_grid_1_AutoML_20191022_052406_model_12</td>\n",
       "                        <td id=\"T_1a2241c8_f498_11e9_a5fe_008cfafbe83erow5_col13\" class=\"data row5 col13\" >GBM_2_AutoML_20191022_052406</td>\n",
       "                        <td id=\"T_1a2241c8_f498_11e9_a5fe_008cfafbe83erow5_col14\" class=\"data row5 col14\" >GBM_grid_1_AutoML_20191022_052406_model_26</td>\n",
       "                        <td id=\"T_1a2241c8_f498_11e9_a5fe_008cfafbe83erow5_col15\" class=\"data row5 col15\" >GBM_4_AutoML_20191022_052406</td>\n",
       "                        <td id=\"T_1a2241c8_f498_11e9_a5fe_008cfafbe83erow5_col16\" class=\"data row5 col16\" >GBM_3_AutoML_20191022_052406</td>\n",
       "                        <td id=\"T_1a2241c8_f498_11e9_a5fe_008cfafbe83erow5_col17\" class=\"data row5 col17\" >DeepLearning_grid_1_AutoML_20191022_052406_model_10</td>\n",
       "                        <td id=\"T_1a2241c8_f498_11e9_a5fe_008cfafbe83erow5_col18\" class=\"data row5 col18\" >XGBoost_1_AutoML_20191022_052406</td>\n",
       "                        <td id=\"T_1a2241c8_f498_11e9_a5fe_008cfafbe83erow5_col19\" class=\"data row5 col19\" >GBM_grid_1_AutoML_20191022_052406_model_32</td>\n",
       "                        <td id=\"T_1a2241c8_f498_11e9_a5fe_008cfafbe83erow5_col20\" class=\"data row5 col20\" >GBM_grid_1_AutoML_20191022_052406_model_27</td>\n",
       "                        <td id=\"T_1a2241c8_f498_11e9_a5fe_008cfafbe83erow5_col21\" class=\"data row5 col21\" >GBM_grid_1_AutoML_20191022_052406_model_3</td>\n",
       "                        <td id=\"T_1a2241c8_f498_11e9_a5fe_008cfafbe83erow5_col22\" class=\"data row5 col22\" >DRF_1_AutoML_20191022_052406</td>\n",
       "                        <td id=\"T_1a2241c8_f498_11e9_a5fe_008cfafbe83erow5_col23\" class=\"data row5 col23\" >GBM_5_AutoML_20191022_052406</td>\n",
       "                        <td id=\"T_1a2241c8_f498_11e9_a5fe_008cfafbe83erow5_col24\" class=\"data row5 col24\" >GBM_grid_1_AutoML_20191022_052406_model_11</td>\n",
       "                        <td id=\"T_1a2241c8_f498_11e9_a5fe_008cfafbe83erow5_col25\" class=\"data row5 col25\" >XRT_1_AutoML_20191022_052406</td>\n",
       "                        <td id=\"T_1a2241c8_f498_11e9_a5fe_008cfafbe83erow5_col26\" class=\"data row5 col26\" >GBM_grid_1_AutoML_20191022_052406_model_6</td>\n",
       "                        <td id=\"T_1a2241c8_f498_11e9_a5fe_008cfafbe83erow5_col27\" class=\"data row5 col27\" >XGBoost_grid_1_AutoML_20191022_052406_model_8</td>\n",
       "                        <td id=\"T_1a2241c8_f498_11e9_a5fe_008cfafbe83erow5_col28\" class=\"data row5 col28\" >GBM_grid_1_AutoML_20191022_052406_model_17</td>\n",
       "                        <td id=\"T_1a2241c8_f498_11e9_a5fe_008cfafbe83erow5_col29\" class=\"data row5 col29\" >DeepLearning_grid_1_AutoML_20191022_052406_model_6</td>\n",
       "                        <td id=\"T_1a2241c8_f498_11e9_a5fe_008cfafbe83erow5_col30\" class=\"data row5 col30\" >GBM_grid_1_AutoML_20191022_052406_model_14</td>\n",
       "                        <td id=\"T_1a2241c8_f498_11e9_a5fe_008cfafbe83erow5_col31\" class=\"data row5 col31\" >XGBoost_grid_1_AutoML_20191022_052406_model_13</td>\n",
       "                        <td id=\"T_1a2241c8_f498_11e9_a5fe_008cfafbe83erow5_col32\" class=\"data row5 col32\" >XGBoost_3_AutoML_20191022_052406</td>\n",
       "                        <td id=\"T_1a2241c8_f498_11e9_a5fe_008cfafbe83erow5_col33\" class=\"data row5 col33\" >GBM_grid_1_AutoML_20191022_052406_model_1</td>\n",
       "                        <td id=\"T_1a2241c8_f498_11e9_a5fe_008cfafbe83erow5_col34\" class=\"data row5 col34\" >GBM_1_AutoML_20191022_052406</td>\n",
       "                        <td id=\"T_1a2241c8_f498_11e9_a5fe_008cfafbe83erow5_col35\" class=\"data row5 col35\" >GBM_grid_1_AutoML_20191022_052406_model_40</td>\n",
       "                        <td id=\"T_1a2241c8_f498_11e9_a5fe_008cfafbe83erow5_col36\" class=\"data row5 col36\" >XGBoost_grid_1_AutoML_20191022_052406_model_4</td>\n",
       "                        <td id=\"T_1a2241c8_f498_11e9_a5fe_008cfafbe83erow5_col37\" class=\"data row5 col37\" >GBM_grid_1_AutoML_20191022_052406_model_10</td>\n",
       "                        <td id=\"T_1a2241c8_f498_11e9_a5fe_008cfafbe83erow5_col38\" class=\"data row5 col38\" >GBM_grid_1_AutoML_20191022_052406_model_16</td>\n",
       "                        <td id=\"T_1a2241c8_f498_11e9_a5fe_008cfafbe83erow5_col39\" class=\"data row5 col39\" >XGBoost_grid_1_AutoML_20191022_052406_model_3</td>\n",
       "                        <td id=\"T_1a2241c8_f498_11e9_a5fe_008cfafbe83erow5_col40\" class=\"data row5 col40\" >GBM_grid_1_AutoML_20191022_052406_model_8</td>\n",
       "                        <td id=\"T_1a2241c8_f498_11e9_a5fe_008cfafbe83erow5_col41\" class=\"data row5 col41\" >DeepLearning_grid_1_AutoML_20191022_052406_model_3</td>\n",
       "                        <td id=\"T_1a2241c8_f498_11e9_a5fe_008cfafbe83erow5_col42\" class=\"data row5 col42\" >GBM_grid_1_AutoML_20191022_052406_model_21</td>\n",
       "                        <td id=\"T_1a2241c8_f498_11e9_a5fe_008cfafbe83erow5_col43\" class=\"data row5 col43\" >GBM_grid_1_AutoML_20191022_052406_model_9</td>\n",
       "                        <td id=\"T_1a2241c8_f498_11e9_a5fe_008cfafbe83erow5_col44\" class=\"data row5 col44\" >XGBoost_grid_1_AutoML_20191022_052406_model_2</td>\n",
       "                        <td id=\"T_1a2241c8_f498_11e9_a5fe_008cfafbe83erow5_col45\" class=\"data row5 col45\" >GBM_grid_1_AutoML_20191022_052406_model_42</td>\n",
       "                        <td id=\"T_1a2241c8_f498_11e9_a5fe_008cfafbe83erow5_col46\" class=\"data row5 col46\" >XGBoost_grid_1_AutoML_20191022_052406_model_15</td>\n",
       "                        <td id=\"T_1a2241c8_f498_11e9_a5fe_008cfafbe83erow5_col47\" class=\"data row5 col47\" >DeepLearning_grid_1_AutoML_20191022_052406_model_1</td>\n",
       "                        <td id=\"T_1a2241c8_f498_11e9_a5fe_008cfafbe83erow5_col48\" class=\"data row5 col48\" >DeepLearning_grid_1_AutoML_20191022_052406_model_9</td>\n",
       "                        <td id=\"T_1a2241c8_f498_11e9_a5fe_008cfafbe83erow5_col49\" class=\"data row5 col49\" >GBM_grid_1_AutoML_20191022_052406_model_13</td>\n",
       "                        <td id=\"T_1a2241c8_f498_11e9_a5fe_008cfafbe83erow5_col50\" class=\"data row5 col50\" >GBM_grid_1_AutoML_20191022_052406_model_43</td>\n",
       "                        <td id=\"T_1a2241c8_f498_11e9_a5fe_008cfafbe83erow5_col51\" class=\"data row5 col51\" >XGBoost_2_AutoML_20191022_052406</td>\n",
       "                        <td id=\"T_1a2241c8_f498_11e9_a5fe_008cfafbe83erow5_col52\" class=\"data row5 col52\" >XGBoost_grid_1_AutoML_20191022_052406_model_7</td>\n",
       "                        <td id=\"T_1a2241c8_f498_11e9_a5fe_008cfafbe83erow5_col53\" class=\"data row5 col53\" >XGBoost_grid_1_AutoML_20191022_052406_model_17</td>\n",
       "                        <td id=\"T_1a2241c8_f498_11e9_a5fe_008cfafbe83erow5_col54\" class=\"data row5 col54\" >GBM_grid_1_AutoML_20191022_052406_model_29</td>\n",
       "                        <td id=\"T_1a2241c8_f498_11e9_a5fe_008cfafbe83erow5_col55\" class=\"data row5 col55\" >XGBoost_grid_1_AutoML_20191022_052406_model_1</td>\n",
       "                        <td id=\"T_1a2241c8_f498_11e9_a5fe_008cfafbe83erow5_col56\" class=\"data row5 col56\" >DeepLearning_grid_1_AutoML_20191022_052406_model_4</td>\n",
       "                        <td id=\"T_1a2241c8_f498_11e9_a5fe_008cfafbe83erow5_col57\" class=\"data row5 col57\" >XGBoost_grid_1_AutoML_20191022_052406_model_12</td>\n",
       "                        <td id=\"T_1a2241c8_f498_11e9_a5fe_008cfafbe83erow5_col58\" class=\"data row5 col58\" >XGBoost_grid_1_AutoML_20191022_052406_model_5</td>\n",
       "                        <td id=\"T_1a2241c8_f498_11e9_a5fe_008cfafbe83erow5_col59\" class=\"data row5 col59\" >GBM_grid_1_AutoML_20191022_052406_model_24</td>\n",
       "                        <td id=\"T_1a2241c8_f498_11e9_a5fe_008cfafbe83erow5_col60\" class=\"data row5 col60\" >DeepLearning_grid_1_AutoML_20191022_052406_model_11</td>\n",
       "                        <td id=\"T_1a2241c8_f498_11e9_a5fe_008cfafbe83erow5_col61\" class=\"data row5 col61\" >GBM_grid_1_AutoML_20191022_052406_model_38</td>\n",
       "                        <td id=\"T_1a2241c8_f498_11e9_a5fe_008cfafbe83erow5_col62\" class=\"data row5 col62\" >DeepLearning_grid_1_AutoML_20191022_052406_model_8</td>\n",
       "                        <td id=\"T_1a2241c8_f498_11e9_a5fe_008cfafbe83erow5_col63\" class=\"data row5 col63\" >GBM_grid_1_AutoML_20191022_052406_model_7</td>\n",
       "                        <td id=\"T_1a2241c8_f498_11e9_a5fe_008cfafbe83erow5_col64\" class=\"data row5 col64\" >GBM_grid_1_AutoML_20191022_052406_model_23</td>\n",
       "                        <td id=\"T_1a2241c8_f498_11e9_a5fe_008cfafbe83erow5_col65\" class=\"data row5 col65\" >XGBoost_grid_1_AutoML_20191022_052406_model_10</td>\n",
       "                        <td id=\"T_1a2241c8_f498_11e9_a5fe_008cfafbe83erow5_col66\" class=\"data row5 col66\" >GBM_grid_1_AutoML_20191022_052406_model_30</td>\n",
       "                        <td id=\"T_1a2241c8_f498_11e9_a5fe_008cfafbe83erow5_col67\" class=\"data row5 col67\" >GLM_grid_1_AutoML_20191022_052406_model_1</td>\n",
       "                        <td id=\"T_1a2241c8_f498_11e9_a5fe_008cfafbe83erow5_col68\" class=\"data row5 col68\" >XGBoost_grid_1_AutoML_20191022_052406_model_14</td>\n",
       "                        <td id=\"T_1a2241c8_f498_11e9_a5fe_008cfafbe83erow5_col69\" class=\"data row5 col69\" >GBM_grid_1_AutoML_20191022_052406_model_37</td>\n",
       "                        <td id=\"T_1a2241c8_f498_11e9_a5fe_008cfafbe83erow5_col70\" class=\"data row5 col70\" >DeepLearning_grid_1_AutoML_20191022_052406_model_5</td>\n",
       "                        <td id=\"T_1a2241c8_f498_11e9_a5fe_008cfafbe83erow5_col71\" class=\"data row5 col71\" >GBM_grid_1_AutoML_20191022_052406_model_4</td>\n",
       "                        <td id=\"T_1a2241c8_f498_11e9_a5fe_008cfafbe83erow5_col72\" class=\"data row5 col72\" >GBM_grid_1_AutoML_20191022_052406_model_28</td>\n",
       "                        <td id=\"T_1a2241c8_f498_11e9_a5fe_008cfafbe83erow5_col73\" class=\"data row5 col73\" >GBM_grid_1_AutoML_20191022_052406_model_25</td>\n",
       "                        <td id=\"T_1a2241c8_f498_11e9_a5fe_008cfafbe83erow5_col74\" class=\"data row5 col74\" >GBM_grid_1_AutoML_20191022_052406_model_33</td>\n",
       "                        <td id=\"T_1a2241c8_f498_11e9_a5fe_008cfafbe83erow5_col75\" class=\"data row5 col75\" >XGBoost_grid_1_AutoML_20191022_052406_model_18</td>\n",
       "                        <td id=\"T_1a2241c8_f498_11e9_a5fe_008cfafbe83erow5_col76\" class=\"data row5 col76\" >XGBoost_grid_1_AutoML_20191022_052406_model_6</td>\n",
       "                        <td id=\"T_1a2241c8_f498_11e9_a5fe_008cfafbe83erow5_col77\" class=\"data row5 col77\" >GBM_grid_1_AutoML_20191022_052406_model_34</td>\n",
       "                        <td id=\"T_1a2241c8_f498_11e9_a5fe_008cfafbe83erow5_col78\" class=\"data row5 col78\" >XGBoost_grid_1_AutoML_20191022_052406_model_11</td>\n",
       "                        <td id=\"T_1a2241c8_f498_11e9_a5fe_008cfafbe83erow5_col79\" class=\"data row5 col79\" >XGBoost_grid_1_AutoML_20191022_052406_model_16</td>\n",
       "                        <td id=\"T_1a2241c8_f498_11e9_a5fe_008cfafbe83erow5_col80\" class=\"data row5 col80\" >XGBoost_grid_1_AutoML_20191022_052406_model_9</td>\n",
       "                        <td id=\"T_1a2241c8_f498_11e9_a5fe_008cfafbe83erow5_col81\" class=\"data row5 col81\" >GBM_grid_1_AutoML_20191022_052406_model_2</td>\n",
       "                        <td id=\"T_1a2241c8_f498_11e9_a5fe_008cfafbe83erow5_col82\" class=\"data row5 col82\" >GBM_grid_1_AutoML_20191022_052406_model_45</td>\n",
       "                        <td id=\"T_1a2241c8_f498_11e9_a5fe_008cfafbe83erow5_col83\" class=\"data row5 col83\" >DeepLearning_1_AutoML_20191022_052406</td>\n",
       "                        <td id=\"T_1a2241c8_f498_11e9_a5fe_008cfafbe83erow5_col84\" class=\"data row5 col84\" >GBM_grid_1_AutoML_20191022_052406_model_44</td>\n",
       "                        <td id=\"T_1a2241c8_f498_11e9_a5fe_008cfafbe83erow5_col85\" class=\"data row5 col85\" >GBM_grid_1_AutoML_20191022_052406_model_22</td>\n",
       "                        <td id=\"T_1a2241c8_f498_11e9_a5fe_008cfafbe83erow5_col86\" class=\"data row5 col86\" >GBM_grid_1_AutoML_20191022_052406_model_36</td>\n",
       "                        <td id=\"T_1a2241c8_f498_11e9_a5fe_008cfafbe83erow5_col87\" class=\"data row5 col87\" >GBM_grid_1_AutoML_20191022_052406_model_5</td>\n",
       "                        <td id=\"T_1a2241c8_f498_11e9_a5fe_008cfafbe83erow5_col88\" class=\"data row5 col88\" >nan</td>\n",
       "                        <td id=\"T_1a2241c8_f498_11e9_a5fe_008cfafbe83erow5_col89\" class=\"data row5 col89\" >nan</td>\n",
       "                        <td id=\"T_1a2241c8_f498_11e9_a5fe_008cfafbe83erow5_col90\" class=\"data row5 col90\" >nan</td>\n",
       "                        <td id=\"T_1a2241c8_f498_11e9_a5fe_008cfafbe83erow5_col91\" class=\"data row5 col91\" >nan</td>\n",
       "                        <td id=\"T_1a2241c8_f498_11e9_a5fe_008cfafbe83erow5_col92\" class=\"data row5 col92\" >nan</td>\n",
       "                        <td id=\"T_1a2241c8_f498_11e9_a5fe_008cfafbe83erow5_col93\" class=\"data row5 col93\" >nan</td>\n",
       "                        <td id=\"T_1a2241c8_f498_11e9_a5fe_008cfafbe83erow5_col94\" class=\"data row5 col94\" >nan</td>\n",
       "            </tr>\n",
       "            <tr>\n",
       "                                <td id=\"T_1a2241c8_f498_11e9_a5fe_008cfafbe83erow6_col0\" class=\"data row6 col0\" >72</td>\n",
       "                        <td id=\"T_1a2241c8_f498_11e9_a5fe_008cfafbe83erow6_col1\" class=\"data row6 col1\" >StackedEnsemble_AllModels_AutoML_20191022_040014</td>\n",
       "                        <td id=\"T_1a2241c8_f498_11e9_a5fe_008cfafbe83erow6_col2\" class=\"data row6 col2\" >DeepLearning_grid_1_AutoML_20191022_040014_model_7</td>\n",
       "                        <td id=\"T_1a2241c8_f498_11e9_a5fe_008cfafbe83erow6_col3\" class=\"data row6 col3\" >DeepLearning_grid_1_AutoML_20191022_040014_model_2</td>\n",
       "                        <td id=\"T_1a2241c8_f498_11e9_a5fe_008cfafbe83erow6_col4\" class=\"data row6 col4\" >DeepLearning_grid_1_AutoML_20191022_040014_model_10</td>\n",
       "                        <td id=\"T_1a2241c8_f498_11e9_a5fe_008cfafbe83erow6_col5\" class=\"data row6 col5\" >GBM_grid_1_AutoML_20191022_040014_model_20</td>\n",
       "                        <td id=\"T_1a2241c8_f498_11e9_a5fe_008cfafbe83erow6_col6\" class=\"data row6 col6\" >DeepLearning_grid_1_AutoML_20191022_040014_model_3</td>\n",
       "                        <td id=\"T_1a2241c8_f498_11e9_a5fe_008cfafbe83erow6_col7\" class=\"data row6 col7\" >GBM_grid_1_AutoML_20191022_040014_model_15</td>\n",
       "                        <td id=\"T_1a2241c8_f498_11e9_a5fe_008cfafbe83erow6_col8\" class=\"data row6 col8\" >GBM_grid_1_AutoML_20191022_040014_model_19</td>\n",
       "                        <td id=\"T_1a2241c8_f498_11e9_a5fe_008cfafbe83erow6_col9\" class=\"data row6 col9\" >GBM_grid_1_AutoML_20191022_040014_model_18</td>\n",
       "                        <td id=\"T_1a2241c8_f498_11e9_a5fe_008cfafbe83erow6_col10\" class=\"data row6 col10\" >GBM_4_AutoML_20191022_040014</td>\n",
       "                        <td id=\"T_1a2241c8_f498_11e9_a5fe_008cfafbe83erow6_col11\" class=\"data row6 col11\" >GBM_grid_1_AutoML_20191022_040014_model_12</td>\n",
       "                        <td id=\"T_1a2241c8_f498_11e9_a5fe_008cfafbe83erow6_col12\" class=\"data row6 col12\" >XGBoost_1_AutoML_20191022_040014</td>\n",
       "                        <td id=\"T_1a2241c8_f498_11e9_a5fe_008cfafbe83erow6_col13\" class=\"data row6 col13\" >XGBoost_3_AutoML_20191022_040014</td>\n",
       "                        <td id=\"T_1a2241c8_f498_11e9_a5fe_008cfafbe83erow6_col14\" class=\"data row6 col14\" >GBM_3_AutoML_20191022_040014</td>\n",
       "                        <td id=\"T_1a2241c8_f498_11e9_a5fe_008cfafbe83erow6_col15\" class=\"data row6 col15\" >GBM_1_AutoML_20191022_040014</td>\n",
       "                        <td id=\"T_1a2241c8_f498_11e9_a5fe_008cfafbe83erow6_col16\" class=\"data row6 col16\" >GBM_grid_1_AutoML_20191022_040014_model_27</td>\n",
       "                        <td id=\"T_1a2241c8_f498_11e9_a5fe_008cfafbe83erow6_col17\" class=\"data row6 col17\" >GBM_grid_1_AutoML_20191022_040014_model_6</td>\n",
       "                        <td id=\"T_1a2241c8_f498_11e9_a5fe_008cfafbe83erow6_col18\" class=\"data row6 col18\" >DRF_1_AutoML_20191022_040014</td>\n",
       "                        <td id=\"T_1a2241c8_f498_11e9_a5fe_008cfafbe83erow6_col19\" class=\"data row6 col19\" >GBM_2_AutoML_20191022_040014</td>\n",
       "                        <td id=\"T_1a2241c8_f498_11e9_a5fe_008cfafbe83erow6_col20\" class=\"data row6 col20\" >GBM_grid_1_AutoML_20191022_040014_model_26</td>\n",
       "                        <td id=\"T_1a2241c8_f498_11e9_a5fe_008cfafbe83erow6_col21\" class=\"data row6 col21\" >XGBoost_grid_1_AutoML_20191022_040014_model_13</td>\n",
       "                        <td id=\"T_1a2241c8_f498_11e9_a5fe_008cfafbe83erow6_col22\" class=\"data row6 col22\" >GBM_grid_1_AutoML_20191022_040014_model_3</td>\n",
       "                        <td id=\"T_1a2241c8_f498_11e9_a5fe_008cfafbe83erow6_col23\" class=\"data row6 col23\" >GBM_grid_1_AutoML_20191022_040014_model_14</td>\n",
       "                        <td id=\"T_1a2241c8_f498_11e9_a5fe_008cfafbe83erow6_col24\" class=\"data row6 col24\" >XGBoost_grid_1_AutoML_20191022_040014_model_18</td>\n",
       "                        <td id=\"T_1a2241c8_f498_11e9_a5fe_008cfafbe83erow6_col25\" class=\"data row6 col25\" >GBM_grid_1_AutoML_20191022_040014_model_11</td>\n",
       "                        <td id=\"T_1a2241c8_f498_11e9_a5fe_008cfafbe83erow6_col26\" class=\"data row6 col26\" >GBM_grid_1_AutoML_20191022_040014_model_1</td>\n",
       "                        <td id=\"T_1a2241c8_f498_11e9_a5fe_008cfafbe83erow6_col27\" class=\"data row6 col27\" >XRT_1_AutoML_20191022_040014</td>\n",
       "                        <td id=\"T_1a2241c8_f498_11e9_a5fe_008cfafbe83erow6_col28\" class=\"data row6 col28\" >DeepLearning_grid_1_AutoML_20191022_040014_model_4</td>\n",
       "                        <td id=\"T_1a2241c8_f498_11e9_a5fe_008cfafbe83erow6_col29\" class=\"data row6 col29\" >DeepLearning_grid_1_AutoML_20191022_040014_model_6</td>\n",
       "                        <td id=\"T_1a2241c8_f498_11e9_a5fe_008cfafbe83erow6_col30\" class=\"data row6 col30\" >GBM_grid_1_AutoML_20191022_040014_model_17</td>\n",
       "                        <td id=\"T_1a2241c8_f498_11e9_a5fe_008cfafbe83erow6_col31\" class=\"data row6 col31\" >GBM_grid_1_AutoML_20191022_040014_model_16</td>\n",
       "                        <td id=\"T_1a2241c8_f498_11e9_a5fe_008cfafbe83erow6_col32\" class=\"data row6 col32\" >GBM_grid_1_AutoML_20191022_040014_model_10</td>\n",
       "                        <td id=\"T_1a2241c8_f498_11e9_a5fe_008cfafbe83erow6_col33\" class=\"data row6 col33\" >GBM_5_AutoML_20191022_040014</td>\n",
       "                        <td id=\"T_1a2241c8_f498_11e9_a5fe_008cfafbe83erow6_col34\" class=\"data row6 col34\" >XGBoost_grid_1_AutoML_20191022_040014_model_8</td>\n",
       "                        <td id=\"T_1a2241c8_f498_11e9_a5fe_008cfafbe83erow6_col35\" class=\"data row6 col35\" >XGBoost_grid_1_AutoML_20191022_040014_model_17</td>\n",
       "                        <td id=\"T_1a2241c8_f498_11e9_a5fe_008cfafbe83erow6_col36\" class=\"data row6 col36\" >GBM_grid_1_AutoML_20191022_040014_model_8</td>\n",
       "                        <td id=\"T_1a2241c8_f498_11e9_a5fe_008cfafbe83erow6_col37\" class=\"data row6 col37\" >XGBoost_grid_1_AutoML_20191022_040014_model_2</td>\n",
       "                        <td id=\"T_1a2241c8_f498_11e9_a5fe_008cfafbe83erow6_col38\" class=\"data row6 col38\" >XGBoost_grid_1_AutoML_20191022_040014_model_15</td>\n",
       "                        <td id=\"T_1a2241c8_f498_11e9_a5fe_008cfafbe83erow6_col39\" class=\"data row6 col39\" >GBM_grid_1_AutoML_20191022_040014_model_13</td>\n",
       "                        <td id=\"T_1a2241c8_f498_11e9_a5fe_008cfafbe83erow6_col40\" class=\"data row6 col40\" >XGBoost_grid_1_AutoML_20191022_040014_model_4</td>\n",
       "                        <td id=\"T_1a2241c8_f498_11e9_a5fe_008cfafbe83erow6_col41\" class=\"data row6 col41\" >DeepLearning_grid_1_AutoML_20191022_040014_model_1</td>\n",
       "                        <td id=\"T_1a2241c8_f498_11e9_a5fe_008cfafbe83erow6_col42\" class=\"data row6 col42\" >XGBoost_grid_1_AutoML_20191022_040014_model_3</td>\n",
       "                        <td id=\"T_1a2241c8_f498_11e9_a5fe_008cfafbe83erow6_col43\" class=\"data row6 col43\" >DeepLearning_grid_1_AutoML_20191022_040014_model_9</td>\n",
       "                        <td id=\"T_1a2241c8_f498_11e9_a5fe_008cfafbe83erow6_col44\" class=\"data row6 col44\" >XGBoost_2_AutoML_20191022_040014</td>\n",
       "                        <td id=\"T_1a2241c8_f498_11e9_a5fe_008cfafbe83erow6_col45\" class=\"data row6 col45\" >GBM_grid_1_AutoML_20191022_040014_model_21</td>\n",
       "                        <td id=\"T_1a2241c8_f498_11e9_a5fe_008cfafbe83erow6_col46\" class=\"data row6 col46\" >GBM_grid_1_AutoML_20191022_040014_model_9</td>\n",
       "                        <td id=\"T_1a2241c8_f498_11e9_a5fe_008cfafbe83erow6_col47\" class=\"data row6 col47\" >XGBoost_grid_1_AutoML_20191022_040014_model_7</td>\n",
       "                        <td id=\"T_1a2241c8_f498_11e9_a5fe_008cfafbe83erow6_col48\" class=\"data row6 col48\" >DeepLearning_grid_1_AutoML_20191022_040014_model_8</td>\n",
       "                        <td id=\"T_1a2241c8_f498_11e9_a5fe_008cfafbe83erow6_col49\" class=\"data row6 col49\" >GBM_grid_1_AutoML_20191022_040014_model_29</td>\n",
       "                        <td id=\"T_1a2241c8_f498_11e9_a5fe_008cfafbe83erow6_col50\" class=\"data row6 col50\" >GBM_grid_1_AutoML_20191022_040014_model_24</td>\n",
       "                        <td id=\"T_1a2241c8_f498_11e9_a5fe_008cfafbe83erow6_col51\" class=\"data row6 col51\" >XGBoost_grid_1_AutoML_20191022_040014_model_1</td>\n",
       "                        <td id=\"T_1a2241c8_f498_11e9_a5fe_008cfafbe83erow6_col52\" class=\"data row6 col52\" >DeepLearning_grid_1_AutoML_20191022_040014_model_5</td>\n",
       "                        <td id=\"T_1a2241c8_f498_11e9_a5fe_008cfafbe83erow6_col53\" class=\"data row6 col53\" >XGBoost_grid_1_AutoML_20191022_040014_model_12</td>\n",
       "                        <td id=\"T_1a2241c8_f498_11e9_a5fe_008cfafbe83erow6_col54\" class=\"data row6 col54\" >GBM_grid_1_AutoML_20191022_040014_model_7</td>\n",
       "                        <td id=\"T_1a2241c8_f498_11e9_a5fe_008cfafbe83erow6_col55\" class=\"data row6 col55\" >XGBoost_grid_1_AutoML_20191022_040014_model_5</td>\n",
       "                        <td id=\"T_1a2241c8_f498_11e9_a5fe_008cfafbe83erow6_col56\" class=\"data row6 col56\" >DeepLearning_grid_1_AutoML_20191022_040014_model_11</td>\n",
       "                        <td id=\"T_1a2241c8_f498_11e9_a5fe_008cfafbe83erow6_col57\" class=\"data row6 col57\" >GBM_grid_1_AutoML_20191022_040014_model_23</td>\n",
       "                        <td id=\"T_1a2241c8_f498_11e9_a5fe_008cfafbe83erow6_col58\" class=\"data row6 col58\" >XGBoost_grid_1_AutoML_20191022_040014_model_14</td>\n",
       "                        <td id=\"T_1a2241c8_f498_11e9_a5fe_008cfafbe83erow6_col59\" class=\"data row6 col59\" >XGBoost_grid_1_AutoML_20191022_040014_model_6</td>\n",
       "                        <td id=\"T_1a2241c8_f498_11e9_a5fe_008cfafbe83erow6_col60\" class=\"data row6 col60\" >XGBoost_grid_1_AutoML_20191022_040014_model_11</td>\n",
       "                        <td id=\"T_1a2241c8_f498_11e9_a5fe_008cfafbe83erow6_col61\" class=\"data row6 col61\" >GBM_grid_1_AutoML_20191022_040014_model_4</td>\n",
       "                        <td id=\"T_1a2241c8_f498_11e9_a5fe_008cfafbe83erow6_col62\" class=\"data row6 col62\" >XGBoost_grid_1_AutoML_20191022_040014_model_10</td>\n",
       "                        <td id=\"T_1a2241c8_f498_11e9_a5fe_008cfafbe83erow6_col63\" class=\"data row6 col63\" >GLM_grid_1_AutoML_20191022_040014_model_1</td>\n",
       "                        <td id=\"T_1a2241c8_f498_11e9_a5fe_008cfafbe83erow6_col64\" class=\"data row6 col64\" >GBM_grid_1_AutoML_20191022_040014_model_28</td>\n",
       "                        <td id=\"T_1a2241c8_f498_11e9_a5fe_008cfafbe83erow6_col65\" class=\"data row6 col65\" >GBM_grid_1_AutoML_20191022_040014_model_25</td>\n",
       "                        <td id=\"T_1a2241c8_f498_11e9_a5fe_008cfafbe83erow6_col66\" class=\"data row6 col66\" >XGBoost_grid_1_AutoML_20191022_040014_model_19</td>\n",
       "                        <td id=\"T_1a2241c8_f498_11e9_a5fe_008cfafbe83erow6_col67\" class=\"data row6 col67\" >GBM_grid_1_AutoML_20191022_040014_model_30</td>\n",
       "                        <td id=\"T_1a2241c8_f498_11e9_a5fe_008cfafbe83erow6_col68\" class=\"data row6 col68\" >XGBoost_grid_1_AutoML_20191022_040014_model_16</td>\n",
       "                        <td id=\"T_1a2241c8_f498_11e9_a5fe_008cfafbe83erow6_col69\" class=\"data row6 col69\" >XGBoost_grid_1_AutoML_20191022_040014_model_9</td>\n",
       "                        <td id=\"T_1a2241c8_f498_11e9_a5fe_008cfafbe83erow6_col70\" class=\"data row6 col70\" >GBM_grid_1_AutoML_20191022_040014_model_2</td>\n",
       "                        <td id=\"T_1a2241c8_f498_11e9_a5fe_008cfafbe83erow6_col71\" class=\"data row6 col71\" >GBM_grid_1_AutoML_20191022_040014_model_31</td>\n",
       "                        <td id=\"T_1a2241c8_f498_11e9_a5fe_008cfafbe83erow6_col72\" class=\"data row6 col72\" >GBM_grid_1_AutoML_20191022_040014_model_5</td>\n",
       "                        <td id=\"T_1a2241c8_f498_11e9_a5fe_008cfafbe83erow6_col73\" class=\"data row6 col73\" >DeepLearning_1_AutoML_20191022_040014</td>\n",
       "                        <td id=\"T_1a2241c8_f498_11e9_a5fe_008cfafbe83erow6_col74\" class=\"data row6 col74\" >GBM_grid_1_AutoML_20191022_040014_model_22</td>\n",
       "                        <td id=\"T_1a2241c8_f498_11e9_a5fe_008cfafbe83erow6_col75\" class=\"data row6 col75\" >XGBoost_grid_1_AutoML_20191022_040014_model_20</td>\n",
       "                        <td id=\"T_1a2241c8_f498_11e9_a5fe_008cfafbe83erow6_col76\" class=\"data row6 col76\" >nan</td>\n",
       "                        <td id=\"T_1a2241c8_f498_11e9_a5fe_008cfafbe83erow6_col77\" class=\"data row6 col77\" >nan</td>\n",
       "                        <td id=\"T_1a2241c8_f498_11e9_a5fe_008cfafbe83erow6_col78\" class=\"data row6 col78\" >nan</td>\n",
       "                        <td id=\"T_1a2241c8_f498_11e9_a5fe_008cfafbe83erow6_col79\" class=\"data row6 col79\" >nan</td>\n",
       "                        <td id=\"T_1a2241c8_f498_11e9_a5fe_008cfafbe83erow6_col80\" class=\"data row6 col80\" >nan</td>\n",
       "                        <td id=\"T_1a2241c8_f498_11e9_a5fe_008cfafbe83erow6_col81\" class=\"data row6 col81\" >nan</td>\n",
       "                        <td id=\"T_1a2241c8_f498_11e9_a5fe_008cfafbe83erow6_col82\" class=\"data row6 col82\" >nan</td>\n",
       "                        <td id=\"T_1a2241c8_f498_11e9_a5fe_008cfafbe83erow6_col83\" class=\"data row6 col83\" >nan</td>\n",
       "                        <td id=\"T_1a2241c8_f498_11e9_a5fe_008cfafbe83erow6_col84\" class=\"data row6 col84\" >nan</td>\n",
       "                        <td id=\"T_1a2241c8_f498_11e9_a5fe_008cfafbe83erow6_col85\" class=\"data row6 col85\" >nan</td>\n",
       "                        <td id=\"T_1a2241c8_f498_11e9_a5fe_008cfafbe83erow6_col86\" class=\"data row6 col86\" >nan</td>\n",
       "                        <td id=\"T_1a2241c8_f498_11e9_a5fe_008cfafbe83erow6_col87\" class=\"data row6 col87\" >nan</td>\n",
       "                        <td id=\"T_1a2241c8_f498_11e9_a5fe_008cfafbe83erow6_col88\" class=\"data row6 col88\" >nan</td>\n",
       "                        <td id=\"T_1a2241c8_f498_11e9_a5fe_008cfafbe83erow6_col89\" class=\"data row6 col89\" >nan</td>\n",
       "                        <td id=\"T_1a2241c8_f498_11e9_a5fe_008cfafbe83erow6_col90\" class=\"data row6 col90\" >nan</td>\n",
       "                        <td id=\"T_1a2241c8_f498_11e9_a5fe_008cfafbe83erow6_col91\" class=\"data row6 col91\" >nan</td>\n",
       "                        <td id=\"T_1a2241c8_f498_11e9_a5fe_008cfafbe83erow6_col92\" class=\"data row6 col92\" >nan</td>\n",
       "                        <td id=\"T_1a2241c8_f498_11e9_a5fe_008cfafbe83erow6_col93\" class=\"data row6 col93\" >nan</td>\n",
       "                        <td id=\"T_1a2241c8_f498_11e9_a5fe_008cfafbe83erow6_col94\" class=\"data row6 col94\" >nan</td>\n",
       "            </tr>\n",
       "            <tr>\n",
       "                                <td id=\"T_1a2241c8_f498_11e9_a5fe_008cfafbe83erow7_col0\" class=\"data row7 col0\" >84</td>\n",
       "                        <td id=\"T_1a2241c8_f498_11e9_a5fe_008cfafbe83erow7_col1\" class=\"data row7 col1\" >StackedEnsemble_BestOfFamily_AutoML_20191022_040156</td>\n",
       "                        <td id=\"T_1a2241c8_f498_11e9_a5fe_008cfafbe83erow7_col2\" class=\"data row7 col2\" >DeepLearning_grid_1_AutoML_20191022_040156_model_6</td>\n",
       "                        <td id=\"T_1a2241c8_f498_11e9_a5fe_008cfafbe83erow7_col3\" class=\"data row7 col3\" >GBM_grid_1_AutoML_20191022_040156_model_15</td>\n",
       "                        <td id=\"T_1a2241c8_f498_11e9_a5fe_008cfafbe83erow7_col4\" class=\"data row7 col4\" >DRF_1_AutoML_20191022_040156</td>\n",
       "                        <td id=\"T_1a2241c8_f498_11e9_a5fe_008cfafbe83erow7_col5\" class=\"data row7 col5\" >XGBoost_1_AutoML_20191022_040156</td>\n",
       "                        <td id=\"T_1a2241c8_f498_11e9_a5fe_008cfafbe83erow7_col6\" class=\"data row7 col6\" >XRT_1_AutoML_20191022_040156</td>\n",
       "                        <td id=\"T_1a2241c8_f498_11e9_a5fe_008cfafbe83erow7_col7\" class=\"data row7 col7\" >GLM_grid_1_AutoML_20191022_040156_model_1</td>\n",
       "                        <td id=\"T_1a2241c8_f498_11e9_a5fe_008cfafbe83erow7_col8\" class=\"data row7 col8\" >nan</td>\n",
       "                        <td id=\"T_1a2241c8_f498_11e9_a5fe_008cfafbe83erow7_col9\" class=\"data row7 col9\" >nan</td>\n",
       "                        <td id=\"T_1a2241c8_f498_11e9_a5fe_008cfafbe83erow7_col10\" class=\"data row7 col10\" >nan</td>\n",
       "                        <td id=\"T_1a2241c8_f498_11e9_a5fe_008cfafbe83erow7_col11\" class=\"data row7 col11\" >nan</td>\n",
       "                        <td id=\"T_1a2241c8_f498_11e9_a5fe_008cfafbe83erow7_col12\" class=\"data row7 col12\" >nan</td>\n",
       "                        <td id=\"T_1a2241c8_f498_11e9_a5fe_008cfafbe83erow7_col13\" class=\"data row7 col13\" >nan</td>\n",
       "                        <td id=\"T_1a2241c8_f498_11e9_a5fe_008cfafbe83erow7_col14\" class=\"data row7 col14\" >nan</td>\n",
       "                        <td id=\"T_1a2241c8_f498_11e9_a5fe_008cfafbe83erow7_col15\" class=\"data row7 col15\" >nan</td>\n",
       "                        <td id=\"T_1a2241c8_f498_11e9_a5fe_008cfafbe83erow7_col16\" class=\"data row7 col16\" >nan</td>\n",
       "                        <td id=\"T_1a2241c8_f498_11e9_a5fe_008cfafbe83erow7_col17\" class=\"data row7 col17\" >nan</td>\n",
       "                        <td id=\"T_1a2241c8_f498_11e9_a5fe_008cfafbe83erow7_col18\" class=\"data row7 col18\" >nan</td>\n",
       "                        <td id=\"T_1a2241c8_f498_11e9_a5fe_008cfafbe83erow7_col19\" class=\"data row7 col19\" >nan</td>\n",
       "                        <td id=\"T_1a2241c8_f498_11e9_a5fe_008cfafbe83erow7_col20\" class=\"data row7 col20\" >nan</td>\n",
       "                        <td id=\"T_1a2241c8_f498_11e9_a5fe_008cfafbe83erow7_col21\" class=\"data row7 col21\" >nan</td>\n",
       "                        <td id=\"T_1a2241c8_f498_11e9_a5fe_008cfafbe83erow7_col22\" class=\"data row7 col22\" >nan</td>\n",
       "                        <td id=\"T_1a2241c8_f498_11e9_a5fe_008cfafbe83erow7_col23\" class=\"data row7 col23\" >nan</td>\n",
       "                        <td id=\"T_1a2241c8_f498_11e9_a5fe_008cfafbe83erow7_col24\" class=\"data row7 col24\" >nan</td>\n",
       "                        <td id=\"T_1a2241c8_f498_11e9_a5fe_008cfafbe83erow7_col25\" class=\"data row7 col25\" >nan</td>\n",
       "                        <td id=\"T_1a2241c8_f498_11e9_a5fe_008cfafbe83erow7_col26\" class=\"data row7 col26\" >nan</td>\n",
       "                        <td id=\"T_1a2241c8_f498_11e9_a5fe_008cfafbe83erow7_col27\" class=\"data row7 col27\" >nan</td>\n",
       "                        <td id=\"T_1a2241c8_f498_11e9_a5fe_008cfafbe83erow7_col28\" class=\"data row7 col28\" >nan</td>\n",
       "                        <td id=\"T_1a2241c8_f498_11e9_a5fe_008cfafbe83erow7_col29\" class=\"data row7 col29\" >nan</td>\n",
       "                        <td id=\"T_1a2241c8_f498_11e9_a5fe_008cfafbe83erow7_col30\" class=\"data row7 col30\" >nan</td>\n",
       "                        <td id=\"T_1a2241c8_f498_11e9_a5fe_008cfafbe83erow7_col31\" class=\"data row7 col31\" >nan</td>\n",
       "                        <td id=\"T_1a2241c8_f498_11e9_a5fe_008cfafbe83erow7_col32\" class=\"data row7 col32\" >nan</td>\n",
       "                        <td id=\"T_1a2241c8_f498_11e9_a5fe_008cfafbe83erow7_col33\" class=\"data row7 col33\" >nan</td>\n",
       "                        <td id=\"T_1a2241c8_f498_11e9_a5fe_008cfafbe83erow7_col34\" class=\"data row7 col34\" >nan</td>\n",
       "                        <td id=\"T_1a2241c8_f498_11e9_a5fe_008cfafbe83erow7_col35\" class=\"data row7 col35\" >nan</td>\n",
       "                        <td id=\"T_1a2241c8_f498_11e9_a5fe_008cfafbe83erow7_col36\" class=\"data row7 col36\" >nan</td>\n",
       "                        <td id=\"T_1a2241c8_f498_11e9_a5fe_008cfafbe83erow7_col37\" class=\"data row7 col37\" >nan</td>\n",
       "                        <td id=\"T_1a2241c8_f498_11e9_a5fe_008cfafbe83erow7_col38\" class=\"data row7 col38\" >nan</td>\n",
       "                        <td id=\"T_1a2241c8_f498_11e9_a5fe_008cfafbe83erow7_col39\" class=\"data row7 col39\" >nan</td>\n",
       "                        <td id=\"T_1a2241c8_f498_11e9_a5fe_008cfafbe83erow7_col40\" class=\"data row7 col40\" >nan</td>\n",
       "                        <td id=\"T_1a2241c8_f498_11e9_a5fe_008cfafbe83erow7_col41\" class=\"data row7 col41\" >nan</td>\n",
       "                        <td id=\"T_1a2241c8_f498_11e9_a5fe_008cfafbe83erow7_col42\" class=\"data row7 col42\" >nan</td>\n",
       "                        <td id=\"T_1a2241c8_f498_11e9_a5fe_008cfafbe83erow7_col43\" class=\"data row7 col43\" >nan</td>\n",
       "                        <td id=\"T_1a2241c8_f498_11e9_a5fe_008cfafbe83erow7_col44\" class=\"data row7 col44\" >nan</td>\n",
       "                        <td id=\"T_1a2241c8_f498_11e9_a5fe_008cfafbe83erow7_col45\" class=\"data row7 col45\" >nan</td>\n",
       "                        <td id=\"T_1a2241c8_f498_11e9_a5fe_008cfafbe83erow7_col46\" class=\"data row7 col46\" >nan</td>\n",
       "                        <td id=\"T_1a2241c8_f498_11e9_a5fe_008cfafbe83erow7_col47\" class=\"data row7 col47\" >nan</td>\n",
       "                        <td id=\"T_1a2241c8_f498_11e9_a5fe_008cfafbe83erow7_col48\" class=\"data row7 col48\" >nan</td>\n",
       "                        <td id=\"T_1a2241c8_f498_11e9_a5fe_008cfafbe83erow7_col49\" class=\"data row7 col49\" >nan</td>\n",
       "                        <td id=\"T_1a2241c8_f498_11e9_a5fe_008cfafbe83erow7_col50\" class=\"data row7 col50\" >nan</td>\n",
       "                        <td id=\"T_1a2241c8_f498_11e9_a5fe_008cfafbe83erow7_col51\" class=\"data row7 col51\" >nan</td>\n",
       "                        <td id=\"T_1a2241c8_f498_11e9_a5fe_008cfafbe83erow7_col52\" class=\"data row7 col52\" >nan</td>\n",
       "                        <td id=\"T_1a2241c8_f498_11e9_a5fe_008cfafbe83erow7_col53\" class=\"data row7 col53\" >nan</td>\n",
       "                        <td id=\"T_1a2241c8_f498_11e9_a5fe_008cfafbe83erow7_col54\" class=\"data row7 col54\" >nan</td>\n",
       "                        <td id=\"T_1a2241c8_f498_11e9_a5fe_008cfafbe83erow7_col55\" class=\"data row7 col55\" >nan</td>\n",
       "                        <td id=\"T_1a2241c8_f498_11e9_a5fe_008cfafbe83erow7_col56\" class=\"data row7 col56\" >nan</td>\n",
       "                        <td id=\"T_1a2241c8_f498_11e9_a5fe_008cfafbe83erow7_col57\" class=\"data row7 col57\" >nan</td>\n",
       "                        <td id=\"T_1a2241c8_f498_11e9_a5fe_008cfafbe83erow7_col58\" class=\"data row7 col58\" >nan</td>\n",
       "                        <td id=\"T_1a2241c8_f498_11e9_a5fe_008cfafbe83erow7_col59\" class=\"data row7 col59\" >nan</td>\n",
       "                        <td id=\"T_1a2241c8_f498_11e9_a5fe_008cfafbe83erow7_col60\" class=\"data row7 col60\" >nan</td>\n",
       "                        <td id=\"T_1a2241c8_f498_11e9_a5fe_008cfafbe83erow7_col61\" class=\"data row7 col61\" >nan</td>\n",
       "                        <td id=\"T_1a2241c8_f498_11e9_a5fe_008cfafbe83erow7_col62\" class=\"data row7 col62\" >nan</td>\n",
       "                        <td id=\"T_1a2241c8_f498_11e9_a5fe_008cfafbe83erow7_col63\" class=\"data row7 col63\" >nan</td>\n",
       "                        <td id=\"T_1a2241c8_f498_11e9_a5fe_008cfafbe83erow7_col64\" class=\"data row7 col64\" >nan</td>\n",
       "                        <td id=\"T_1a2241c8_f498_11e9_a5fe_008cfafbe83erow7_col65\" class=\"data row7 col65\" >nan</td>\n",
       "                        <td id=\"T_1a2241c8_f498_11e9_a5fe_008cfafbe83erow7_col66\" class=\"data row7 col66\" >nan</td>\n",
       "                        <td id=\"T_1a2241c8_f498_11e9_a5fe_008cfafbe83erow7_col67\" class=\"data row7 col67\" >nan</td>\n",
       "                        <td id=\"T_1a2241c8_f498_11e9_a5fe_008cfafbe83erow7_col68\" class=\"data row7 col68\" >nan</td>\n",
       "                        <td id=\"T_1a2241c8_f498_11e9_a5fe_008cfafbe83erow7_col69\" class=\"data row7 col69\" >nan</td>\n",
       "                        <td id=\"T_1a2241c8_f498_11e9_a5fe_008cfafbe83erow7_col70\" class=\"data row7 col70\" >nan</td>\n",
       "                        <td id=\"T_1a2241c8_f498_11e9_a5fe_008cfafbe83erow7_col71\" class=\"data row7 col71\" >nan</td>\n",
       "                        <td id=\"T_1a2241c8_f498_11e9_a5fe_008cfafbe83erow7_col72\" class=\"data row7 col72\" >nan</td>\n",
       "                        <td id=\"T_1a2241c8_f498_11e9_a5fe_008cfafbe83erow7_col73\" class=\"data row7 col73\" >nan</td>\n",
       "                        <td id=\"T_1a2241c8_f498_11e9_a5fe_008cfafbe83erow7_col74\" class=\"data row7 col74\" >nan</td>\n",
       "                        <td id=\"T_1a2241c8_f498_11e9_a5fe_008cfafbe83erow7_col75\" class=\"data row7 col75\" >nan</td>\n",
       "                        <td id=\"T_1a2241c8_f498_11e9_a5fe_008cfafbe83erow7_col76\" class=\"data row7 col76\" >nan</td>\n",
       "                        <td id=\"T_1a2241c8_f498_11e9_a5fe_008cfafbe83erow7_col77\" class=\"data row7 col77\" >nan</td>\n",
       "                        <td id=\"T_1a2241c8_f498_11e9_a5fe_008cfafbe83erow7_col78\" class=\"data row7 col78\" >nan</td>\n",
       "                        <td id=\"T_1a2241c8_f498_11e9_a5fe_008cfafbe83erow7_col79\" class=\"data row7 col79\" >nan</td>\n",
       "                        <td id=\"T_1a2241c8_f498_11e9_a5fe_008cfafbe83erow7_col80\" class=\"data row7 col80\" >nan</td>\n",
       "                        <td id=\"T_1a2241c8_f498_11e9_a5fe_008cfafbe83erow7_col81\" class=\"data row7 col81\" >nan</td>\n",
       "                        <td id=\"T_1a2241c8_f498_11e9_a5fe_008cfafbe83erow7_col82\" class=\"data row7 col82\" >nan</td>\n",
       "                        <td id=\"T_1a2241c8_f498_11e9_a5fe_008cfafbe83erow7_col83\" class=\"data row7 col83\" >nan</td>\n",
       "                        <td id=\"T_1a2241c8_f498_11e9_a5fe_008cfafbe83erow7_col84\" class=\"data row7 col84\" >nan</td>\n",
       "                        <td id=\"T_1a2241c8_f498_11e9_a5fe_008cfafbe83erow7_col85\" class=\"data row7 col85\" >nan</td>\n",
       "                        <td id=\"T_1a2241c8_f498_11e9_a5fe_008cfafbe83erow7_col86\" class=\"data row7 col86\" >nan</td>\n",
       "                        <td id=\"T_1a2241c8_f498_11e9_a5fe_008cfafbe83erow7_col87\" class=\"data row7 col87\" >nan</td>\n",
       "                        <td id=\"T_1a2241c8_f498_11e9_a5fe_008cfafbe83erow7_col88\" class=\"data row7 col88\" >nan</td>\n",
       "                        <td id=\"T_1a2241c8_f498_11e9_a5fe_008cfafbe83erow7_col89\" class=\"data row7 col89\" >nan</td>\n",
       "                        <td id=\"T_1a2241c8_f498_11e9_a5fe_008cfafbe83erow7_col90\" class=\"data row7 col90\" >nan</td>\n",
       "                        <td id=\"T_1a2241c8_f498_11e9_a5fe_008cfafbe83erow7_col91\" class=\"data row7 col91\" >nan</td>\n",
       "                        <td id=\"T_1a2241c8_f498_11e9_a5fe_008cfafbe83erow7_col92\" class=\"data row7 col92\" >nan</td>\n",
       "                        <td id=\"T_1a2241c8_f498_11e9_a5fe_008cfafbe83erow7_col93\" class=\"data row7 col93\" >nan</td>\n",
       "                        <td id=\"T_1a2241c8_f498_11e9_a5fe_008cfafbe83erow7_col94\" class=\"data row7 col94\" >nan</td>\n",
       "            </tr>\n",
       "    </tbody></table>"
      ],
      "text/plain": [
       "<pandas.io.formats.style.Styler at 0x2ad7b5092c18>"
      ]
     },
     "metadata": {},
     "output_type": "display_data"
    },
    {
     "data": {
      "text/plain": [
       "'H2OAutoMLClean #1'"
      ]
     },
     "metadata": {},
     "output_type": "display_data"
    },
    {
     "data": {
      "text/html": [
       "<style  type=\"text/css\" >\n",
       "</style><table id=\"T_1a29bb74_f498_11e9_a5fe_008cfafbe83e\" ><thead>    <tr>        <th class=\"col_heading level0 col0\" >max_angle</th>        <th class=\"col_heading level0 col1\" >test_acc</th>        <th class=\"col_heading level0 col2\" >train_acc</th>        <th class=\"col_heading level0 col3\" >time_err</th>        <th class=\"col_heading level0 col4\" >time_pre</th>        <th class=\"col_heading level0 col5\" >time_mod</th>    </tr></thead><tbody>\n",
       "                <tr>\n",
       "                                <td id=\"T_1a29bb74_f498_11e9_a5fe_008cfafbe83erow0_col0\" class=\"data row0 col0\" >0</td>\n",
       "                        <td id=\"T_1a29bb74_f498_11e9_a5fe_008cfafbe83erow0_col1\" class=\"data row0 col1\" >0.986</td>\n",
       "                        <td id=\"T_1a29bb74_f498_11e9_a5fe_008cfafbe83erow0_col2\" class=\"data row0 col2\" >1</td>\n",
       "                        <td id=\"T_1a29bb74_f498_11e9_a5fe_008cfafbe83erow0_col3\" class=\"data row0 col3\" >0.222</td>\n",
       "                        <td id=\"T_1a29bb74_f498_11e9_a5fe_008cfafbe83erow0_col4\" class=\"data row0 col4\" >0</td>\n",
       "                        <td id=\"T_1a29bb74_f498_11e9_a5fe_008cfafbe83erow0_col5\" class=\"data row0 col5\" >3637.28</td>\n",
       "            </tr>\n",
       "            <tr>\n",
       "                                <td id=\"T_1a29bb74_f498_11e9_a5fe_008cfafbe83erow1_col0\" class=\"data row1 col0\" >12</td>\n",
       "                        <td id=\"T_1a29bb74_f498_11e9_a5fe_008cfafbe83erow1_col1\" class=\"data row1 col1\" >0.956</td>\n",
       "                        <td id=\"T_1a29bb74_f498_11e9_a5fe_008cfafbe83erow1_col2\" class=\"data row1 col2\" >1</td>\n",
       "                        <td id=\"T_1a29bb74_f498_11e9_a5fe_008cfafbe83erow1_col3\" class=\"data row1 col3\" >0.259</td>\n",
       "                        <td id=\"T_1a29bb74_f498_11e9_a5fe_008cfafbe83erow1_col4\" class=\"data row1 col4\" >0</td>\n",
       "                        <td id=\"T_1a29bb74_f498_11e9_a5fe_008cfafbe83erow1_col5\" class=\"data row1 col5\" >3723.14</td>\n",
       "            </tr>\n",
       "            <tr>\n",
       "                                <td id=\"T_1a29bb74_f498_11e9_a5fe_008cfafbe83erow2_col0\" class=\"data row2 col0\" >24</td>\n",
       "                        <td id=\"T_1a29bb74_f498_11e9_a5fe_008cfafbe83erow2_col1\" class=\"data row2 col1\" >0.831</td>\n",
       "                        <td id=\"T_1a29bb74_f498_11e9_a5fe_008cfafbe83erow2_col2\" class=\"data row2 col2\" >1</td>\n",
       "                        <td id=\"T_1a29bb74_f498_11e9_a5fe_008cfafbe83erow2_col3\" class=\"data row2 col3\" >0.273</td>\n",
       "                        <td id=\"T_1a29bb74_f498_11e9_a5fe_008cfafbe83erow2_col4\" class=\"data row2 col4\" >0</td>\n",
       "                        <td id=\"T_1a29bb74_f498_11e9_a5fe_008cfafbe83erow2_col5\" class=\"data row2 col5\" >3675.84</td>\n",
       "            </tr>\n",
       "            <tr>\n",
       "                                <td id=\"T_1a29bb74_f498_11e9_a5fe_008cfafbe83erow3_col0\" class=\"data row3 col0\" >36</td>\n",
       "                        <td id=\"T_1a29bb74_f498_11e9_a5fe_008cfafbe83erow3_col1\" class=\"data row3 col1\" >0.692</td>\n",
       "                        <td id=\"T_1a29bb74_f498_11e9_a5fe_008cfafbe83erow3_col2\" class=\"data row3 col2\" >1</td>\n",
       "                        <td id=\"T_1a29bb74_f498_11e9_a5fe_008cfafbe83erow3_col3\" class=\"data row3 col3\" >0.283</td>\n",
       "                        <td id=\"T_1a29bb74_f498_11e9_a5fe_008cfafbe83erow3_col4\" class=\"data row3 col4\" >0</td>\n",
       "                        <td id=\"T_1a29bb74_f498_11e9_a5fe_008cfafbe83erow3_col5\" class=\"data row3 col5\" >3624.2</td>\n",
       "            </tr>\n",
       "            <tr>\n",
       "                                <td id=\"T_1a29bb74_f498_11e9_a5fe_008cfafbe83erow4_col0\" class=\"data row4 col0\" >48</td>\n",
       "                        <td id=\"T_1a29bb74_f498_11e9_a5fe_008cfafbe83erow4_col1\" class=\"data row4 col1\" >0.561</td>\n",
       "                        <td id=\"T_1a29bb74_f498_11e9_a5fe_008cfafbe83erow4_col2\" class=\"data row4 col2\" >1</td>\n",
       "                        <td id=\"T_1a29bb74_f498_11e9_a5fe_008cfafbe83erow4_col3\" class=\"data row4 col3\" >0.249</td>\n",
       "                        <td id=\"T_1a29bb74_f498_11e9_a5fe_008cfafbe83erow4_col4\" class=\"data row4 col4\" >0</td>\n",
       "                        <td id=\"T_1a29bb74_f498_11e9_a5fe_008cfafbe83erow4_col5\" class=\"data row4 col5\" >3968.65</td>\n",
       "            </tr>\n",
       "            <tr>\n",
       "                                <td id=\"T_1a29bb74_f498_11e9_a5fe_008cfafbe83erow5_col0\" class=\"data row5 col0\" >60</td>\n",
       "                        <td id=\"T_1a29bb74_f498_11e9_a5fe_008cfafbe83erow5_col1\" class=\"data row5 col1\" >0.472</td>\n",
       "                        <td id=\"T_1a29bb74_f498_11e9_a5fe_008cfafbe83erow5_col2\" class=\"data row5 col2\" >1</td>\n",
       "                        <td id=\"T_1a29bb74_f498_11e9_a5fe_008cfafbe83erow5_col3\" class=\"data row5 col3\" >0.221</td>\n",
       "                        <td id=\"T_1a29bb74_f498_11e9_a5fe_008cfafbe83erow5_col4\" class=\"data row5 col4\" >0</td>\n",
       "                        <td id=\"T_1a29bb74_f498_11e9_a5fe_008cfafbe83erow5_col5\" class=\"data row5 col5\" >4128.89</td>\n",
       "            </tr>\n",
       "            <tr>\n",
       "                                <td id=\"T_1a29bb74_f498_11e9_a5fe_008cfafbe83erow6_col0\" class=\"data row6 col0\" >72</td>\n",
       "                        <td id=\"T_1a29bb74_f498_11e9_a5fe_008cfafbe83erow6_col1\" class=\"data row6 col1\" >0.425</td>\n",
       "                        <td id=\"T_1a29bb74_f498_11e9_a5fe_008cfafbe83erow6_col2\" class=\"data row6 col2\" >1</td>\n",
       "                        <td id=\"T_1a29bb74_f498_11e9_a5fe_008cfafbe83erow6_col3\" class=\"data row6 col3\" >0.275</td>\n",
       "                        <td id=\"T_1a29bb74_f498_11e9_a5fe_008cfafbe83erow6_col4\" class=\"data row6 col4\" >0</td>\n",
       "                        <td id=\"T_1a29bb74_f498_11e9_a5fe_008cfafbe83erow6_col5\" class=\"data row6 col5\" >3841.81</td>\n",
       "            </tr>\n",
       "            <tr>\n",
       "                                <td id=\"T_1a29bb74_f498_11e9_a5fe_008cfafbe83erow7_col0\" class=\"data row7 col0\" >84</td>\n",
       "                        <td id=\"T_1a29bb74_f498_11e9_a5fe_008cfafbe83erow7_col1\" class=\"data row7 col1\" >0.392</td>\n",
       "                        <td id=\"T_1a29bb74_f498_11e9_a5fe_008cfafbe83erow7_col2\" class=\"data row7 col2\" >1</td>\n",
       "                        <td id=\"T_1a29bb74_f498_11e9_a5fe_008cfafbe83erow7_col3\" class=\"data row7 col3\" >0.312</td>\n",
       "                        <td id=\"T_1a29bb74_f498_11e9_a5fe_008cfafbe83erow7_col4\" class=\"data row7 col4\" >0</td>\n",
       "                        <td id=\"T_1a29bb74_f498_11e9_a5fe_008cfafbe83erow7_col5\" class=\"data row7 col5\" >3706.03</td>\n",
       "            </tr>\n",
       "    </tbody></table>"
      ],
      "text/plain": [
       "<pandas.io.formats.style.Styler at 0x2ad78c9177b8>"
      ]
     },
     "metadata": {},
     "output_type": "display_data"
    },
    {
     "data": {
      "text/html": [
       "<style  type=\"text/css\" >\n",
       "</style><table id=\"T_1a2d8aba_f498_11e9_a5fe_008cfafbe83e\" ><thead>    <tr>        <th class=\"col_heading level0 col0\" >max_angle</th>        <th class=\"col_heading level0 col1\" >pipe_0</th>        <th class=\"col_heading level0 col2\" >pipe_1</th>        <th class=\"col_heading level0 col3\" >pipe_2</th>        <th class=\"col_heading level0 col4\" >pipe_3</th>        <th class=\"col_heading level0 col5\" >pipe_4</th>        <th class=\"col_heading level0 col6\" >pipe_5</th>        <th class=\"col_heading level0 col7\" >pipe_6</th>        <th class=\"col_heading level0 col8\" >pipe_7</th>        <th class=\"col_heading level0 col9\" >pipe_8</th>        <th class=\"col_heading level0 col10\" >pipe_9</th>        <th class=\"col_heading level0 col11\" >pipe_10</th>        <th class=\"col_heading level0 col12\" >pipe_11</th>        <th class=\"col_heading level0 col13\" >pipe_12</th>        <th class=\"col_heading level0 col14\" >pipe_13</th>        <th class=\"col_heading level0 col15\" >pipe_14</th>        <th class=\"col_heading level0 col16\" >pipe_15</th>        <th class=\"col_heading level0 col17\" >pipe_16</th>        <th class=\"col_heading level0 col18\" >pipe_17</th>        <th class=\"col_heading level0 col19\" >pipe_18</th>        <th class=\"col_heading level0 col20\" >pipe_19</th>        <th class=\"col_heading level0 col21\" >pipe_20</th>        <th class=\"col_heading level0 col22\" >pipe_21</th>        <th class=\"col_heading level0 col23\" >pipe_22</th>        <th class=\"col_heading level0 col24\" >pipe_23</th>        <th class=\"col_heading level0 col25\" >pipe_24</th>        <th class=\"col_heading level0 col26\" >pipe_25</th>        <th class=\"col_heading level0 col27\" >pipe_26</th>        <th class=\"col_heading level0 col28\" >pipe_27</th>        <th class=\"col_heading level0 col29\" >pipe_28</th>        <th class=\"col_heading level0 col30\" >pipe_29</th>        <th class=\"col_heading level0 col31\" >pipe_30</th>        <th class=\"col_heading level0 col32\" >pipe_31</th>        <th class=\"col_heading level0 col33\" >pipe_32</th>        <th class=\"col_heading level0 col34\" >pipe_33</th>        <th class=\"col_heading level0 col35\" >pipe_34</th>        <th class=\"col_heading level0 col36\" >pipe_35</th>        <th class=\"col_heading level0 col37\" >pipe_36</th>        <th class=\"col_heading level0 col38\" >pipe_37</th>        <th class=\"col_heading level0 col39\" >pipe_38</th>        <th class=\"col_heading level0 col40\" >pipe_39</th>        <th class=\"col_heading level0 col41\" >pipe_40</th>        <th class=\"col_heading level0 col42\" >pipe_41</th>        <th class=\"col_heading level0 col43\" >pipe_42</th>        <th class=\"col_heading level0 col44\" >pipe_43</th>        <th class=\"col_heading level0 col45\" >pipe_44</th>        <th class=\"col_heading level0 col46\" >pipe_45</th>        <th class=\"col_heading level0 col47\" >pipe_46</th>        <th class=\"col_heading level0 col48\" >pipe_47</th>        <th class=\"col_heading level0 col49\" >pipe_48</th>        <th class=\"col_heading level0 col50\" >pipe_49</th>        <th class=\"col_heading level0 col51\" >pipe_50</th>        <th class=\"col_heading level0 col52\" >pipe_51</th>        <th class=\"col_heading level0 col53\" >pipe_52</th>        <th class=\"col_heading level0 col54\" >pipe_53</th>        <th class=\"col_heading level0 col55\" >pipe_54</th>        <th class=\"col_heading level0 col56\" >pipe_55</th>        <th class=\"col_heading level0 col57\" >pipe_56</th>        <th class=\"col_heading level0 col58\" >pipe_57</th>        <th class=\"col_heading level0 col59\" >pipe_58</th>        <th class=\"col_heading level0 col60\" >pipe_59</th>        <th class=\"col_heading level0 col61\" >pipe_60</th>        <th class=\"col_heading level0 col62\" >pipe_61</th>        <th class=\"col_heading level0 col63\" >pipe_62</th>        <th class=\"col_heading level0 col64\" >pipe_63</th>        <th class=\"col_heading level0 col65\" >pipe_64</th>        <th class=\"col_heading level0 col66\" >pipe_65</th>        <th class=\"col_heading level0 col67\" >pipe_66</th>        <th class=\"col_heading level0 col68\" >pipe_67</th>        <th class=\"col_heading level0 col69\" >pipe_68</th>        <th class=\"col_heading level0 col70\" >pipe_69</th>        <th class=\"col_heading level0 col71\" >pipe_70</th>        <th class=\"col_heading level0 col72\" >pipe_71</th>        <th class=\"col_heading level0 col73\" >pipe_72</th>        <th class=\"col_heading level0 col74\" >pipe_73</th>        <th class=\"col_heading level0 col75\" >pipe_74</th>        <th class=\"col_heading level0 col76\" >pipe_75</th>        <th class=\"col_heading level0 col77\" >pipe_76</th>        <th class=\"col_heading level0 col78\" >pipe_77</th>        <th class=\"col_heading level0 col79\" >pipe_78</th>        <th class=\"col_heading level0 col80\" >pipe_79</th>        <th class=\"col_heading level0 col81\" >pipe_80</th>        <th class=\"col_heading level0 col82\" >pipe_81</th>        <th class=\"col_heading level0 col83\" >pipe_82</th>        <th class=\"col_heading level0 col84\" >pipe_83</th>        <th class=\"col_heading level0 col85\" >pipe_84</th>        <th class=\"col_heading level0 col86\" >pipe_85</th>        <th class=\"col_heading level0 col87\" >pipe_86</th>        <th class=\"col_heading level0 col88\" >pipe_87</th>        <th class=\"col_heading level0 col89\" >pipe_88</th>        <th class=\"col_heading level0 col90\" >pipe_89</th>        <th class=\"col_heading level0 col91\" >pipe_90</th>        <th class=\"col_heading level0 col92\" >pipe_91</th>        <th class=\"col_heading level0 col93\" >pipe_92</th>    </tr></thead><tbody>\n",
       "                <tr>\n",
       "                                <td id=\"T_1a2d8aba_f498_11e9_a5fe_008cfafbe83erow0_col0\" class=\"data row0 col0\" >0</td>\n",
       "                        <td id=\"T_1a2d8aba_f498_11e9_a5fe_008cfafbe83erow0_col1\" class=\"data row0 col1\" >StackedEnsemble_AllModels_AutoML_20191022_050126</td>\n",
       "                        <td id=\"T_1a2d8aba_f498_11e9_a5fe_008cfafbe83erow0_col2\" class=\"data row0 col2\" >DeepLearning_grid_1_AutoML_20191022_050126_model_8</td>\n",
       "                        <td id=\"T_1a2d8aba_f498_11e9_a5fe_008cfafbe83erow0_col3\" class=\"data row0 col3\" >DeepLearning_grid_1_AutoML_20191022_050126_model_11</td>\n",
       "                        <td id=\"T_1a2d8aba_f498_11e9_a5fe_008cfafbe83erow0_col4\" class=\"data row0 col4\" >GBM_grid_1_AutoML_20191022_050126_model_18</td>\n",
       "                        <td id=\"T_1a2d8aba_f498_11e9_a5fe_008cfafbe83erow0_col5\" class=\"data row0 col5\" >DeepLearning_grid_1_AutoML_20191022_050126_model_2</td>\n",
       "                        <td id=\"T_1a2d8aba_f498_11e9_a5fe_008cfafbe83erow0_col6\" class=\"data row0 col6\" >GBM_grid_1_AutoML_20191022_050126_model_19</td>\n",
       "                        <td id=\"T_1a2d8aba_f498_11e9_a5fe_008cfafbe83erow0_col7\" class=\"data row0 col7\" >DeepLearning_grid_1_AutoML_20191022_050126_model_1</td>\n",
       "                        <td id=\"T_1a2d8aba_f498_11e9_a5fe_008cfafbe83erow0_col8\" class=\"data row0 col8\" >XGBoost_grid_1_AutoML_20191022_050126_model_13</td>\n",
       "                        <td id=\"T_1a2d8aba_f498_11e9_a5fe_008cfafbe83erow0_col9\" class=\"data row0 col9\" >GBM_grid_1_AutoML_20191022_050126_model_15</td>\n",
       "                        <td id=\"T_1a2d8aba_f498_11e9_a5fe_008cfafbe83erow0_col10\" class=\"data row0 col10\" >GBM_2_AutoML_20191022_050126</td>\n",
       "                        <td id=\"T_1a2d8aba_f498_11e9_a5fe_008cfafbe83erow0_col11\" class=\"data row0 col11\" >DeepLearning_grid_1_AutoML_20191022_050126_model_10</td>\n",
       "                        <td id=\"T_1a2d8aba_f498_11e9_a5fe_008cfafbe83erow0_col12\" class=\"data row0 col12\" >DeepLearning_grid_1_AutoML_20191022_050126_model_4</td>\n",
       "                        <td id=\"T_1a2d8aba_f498_11e9_a5fe_008cfafbe83erow0_col13\" class=\"data row0 col13\" >GBM_grid_1_AutoML_20191022_050126_model_3</td>\n",
       "                        <td id=\"T_1a2d8aba_f498_11e9_a5fe_008cfafbe83erow0_col14\" class=\"data row0 col14\" >GBM_grid_1_AutoML_20191022_050126_model_31</td>\n",
       "                        <td id=\"T_1a2d8aba_f498_11e9_a5fe_008cfafbe83erow0_col15\" class=\"data row0 col15\" >GBM_3_AutoML_20191022_050126</td>\n",
       "                        <td id=\"T_1a2d8aba_f498_11e9_a5fe_008cfafbe83erow0_col16\" class=\"data row0 col16\" >DeepLearning_grid_1_AutoML_20191022_050126_model_7</td>\n",
       "                        <td id=\"T_1a2d8aba_f498_11e9_a5fe_008cfafbe83erow0_col17\" class=\"data row0 col17\" >GBM_grid_1_AutoML_20191022_050126_model_26</td>\n",
       "                        <td id=\"T_1a2d8aba_f498_11e9_a5fe_008cfafbe83erow0_col18\" class=\"data row0 col18\" >GBM_grid_1_AutoML_20191022_050126_model_6</td>\n",
       "                        <td id=\"T_1a2d8aba_f498_11e9_a5fe_008cfafbe83erow0_col19\" class=\"data row0 col19\" >GBM_grid_1_AutoML_20191022_050126_model_27</td>\n",
       "                        <td id=\"T_1a2d8aba_f498_11e9_a5fe_008cfafbe83erow0_col20\" class=\"data row0 col20\" >GBM_grid_1_AutoML_20191022_050126_model_20</td>\n",
       "                        <td id=\"T_1a2d8aba_f498_11e9_a5fe_008cfafbe83erow0_col21\" class=\"data row0 col21\" >DeepLearning_grid_1_AutoML_20191022_050126_model_3</td>\n",
       "                        <td id=\"T_1a2d8aba_f498_11e9_a5fe_008cfafbe83erow0_col22\" class=\"data row0 col22\" >GBM_5_AutoML_20191022_050126</td>\n",
       "                        <td id=\"T_1a2d8aba_f498_11e9_a5fe_008cfafbe83erow0_col23\" class=\"data row0 col23\" >GBM_grid_1_AutoML_20191022_050126_model_12</td>\n",
       "                        <td id=\"T_1a2d8aba_f498_11e9_a5fe_008cfafbe83erow0_col24\" class=\"data row0 col24\" >DeepLearning_grid_1_AutoML_20191022_050126_model_5</td>\n",
       "                        <td id=\"T_1a2d8aba_f498_11e9_a5fe_008cfafbe83erow0_col25\" class=\"data row0 col25\" >GBM_4_AutoML_20191022_050126</td>\n",
       "                        <td id=\"T_1a2d8aba_f498_11e9_a5fe_008cfafbe83erow0_col26\" class=\"data row0 col26\" >GLM_grid_1_AutoML_20191022_050126_model_1</td>\n",
       "                        <td id=\"T_1a2d8aba_f498_11e9_a5fe_008cfafbe83erow0_col27\" class=\"data row0 col27\" >GBM_grid_1_AutoML_20191022_050126_model_17</td>\n",
       "                        <td id=\"T_1a2d8aba_f498_11e9_a5fe_008cfafbe83erow0_col28\" class=\"data row0 col28\" >XRT_1_AutoML_20191022_050126</td>\n",
       "                        <td id=\"T_1a2d8aba_f498_11e9_a5fe_008cfafbe83erow0_col29\" class=\"data row0 col29\" >GBM_grid_1_AutoML_20191022_050126_model_1</td>\n",
       "                        <td id=\"T_1a2d8aba_f498_11e9_a5fe_008cfafbe83erow0_col30\" class=\"data row0 col30\" >GBM_grid_1_AutoML_20191022_050126_model_10</td>\n",
       "                        <td id=\"T_1a2d8aba_f498_11e9_a5fe_008cfafbe83erow0_col31\" class=\"data row0 col31\" >XGBoost_grid_1_AutoML_20191022_050126_model_8</td>\n",
       "                        <td id=\"T_1a2d8aba_f498_11e9_a5fe_008cfafbe83erow0_col32\" class=\"data row0 col32\" >GBM_1_AutoML_20191022_050126</td>\n",
       "                        <td id=\"T_1a2d8aba_f498_11e9_a5fe_008cfafbe83erow0_col33\" class=\"data row0 col33\" >GBM_grid_1_AutoML_20191022_050126_model_14</td>\n",
       "                        <td id=\"T_1a2d8aba_f498_11e9_a5fe_008cfafbe83erow0_col34\" class=\"data row0 col34\" >GBM_grid_1_AutoML_20191022_050126_model_11</td>\n",
       "                        <td id=\"T_1a2d8aba_f498_11e9_a5fe_008cfafbe83erow0_col35\" class=\"data row0 col35\" >GBM_grid_1_AutoML_20191022_050126_model_16</td>\n",
       "                        <td id=\"T_1a2d8aba_f498_11e9_a5fe_008cfafbe83erow0_col36\" class=\"data row0 col36\" >GBM_grid_1_AutoML_20191022_050126_model_24</td>\n",
       "                        <td id=\"T_1a2d8aba_f498_11e9_a5fe_008cfafbe83erow0_col37\" class=\"data row0 col37\" >DRF_1_AutoML_20191022_050126</td>\n",
       "                        <td id=\"T_1a2d8aba_f498_11e9_a5fe_008cfafbe83erow0_col38\" class=\"data row0 col38\" >XGBoost_grid_1_AutoML_20191022_050126_model_17</td>\n",
       "                        <td id=\"T_1a2d8aba_f498_11e9_a5fe_008cfafbe83erow0_col39\" class=\"data row0 col39\" >GBM_grid_1_AutoML_20191022_050126_model_13</td>\n",
       "                        <td id=\"T_1a2d8aba_f498_11e9_a5fe_008cfafbe83erow0_col40\" class=\"data row0 col40\" >XGBoost_3_AutoML_20191022_050126</td>\n",
       "                        <td id=\"T_1a2d8aba_f498_11e9_a5fe_008cfafbe83erow0_col41\" class=\"data row0 col41\" >XGBoost_1_AutoML_20191022_050126</td>\n",
       "                        <td id=\"T_1a2d8aba_f498_11e9_a5fe_008cfafbe83erow0_col42\" class=\"data row0 col42\" >XGBoost_grid_1_AutoML_20191022_050126_model_25</td>\n",
       "                        <td id=\"T_1a2d8aba_f498_11e9_a5fe_008cfafbe83erow0_col43\" class=\"data row0 col43\" >XGBoost_grid_1_AutoML_20191022_050126_model_21</td>\n",
       "                        <td id=\"T_1a2d8aba_f498_11e9_a5fe_008cfafbe83erow0_col44\" class=\"data row0 col44\" >XGBoost_grid_1_AutoML_20191022_050126_model_18</td>\n",
       "                        <td id=\"T_1a2d8aba_f498_11e9_a5fe_008cfafbe83erow0_col45\" class=\"data row0 col45\" >XGBoost_grid_1_AutoML_20191022_050126_model_26</td>\n",
       "                        <td id=\"T_1a2d8aba_f498_11e9_a5fe_008cfafbe83erow0_col46\" class=\"data row0 col46\" >XGBoost_grid_1_AutoML_20191022_050126_model_15</td>\n",
       "                        <td id=\"T_1a2d8aba_f498_11e9_a5fe_008cfafbe83erow0_col47\" class=\"data row0 col47\" >GBM_grid_1_AutoML_20191022_050126_model_8</td>\n",
       "                        <td id=\"T_1a2d8aba_f498_11e9_a5fe_008cfafbe83erow0_col48\" class=\"data row0 col48\" >DeepLearning_grid_1_AutoML_20191022_050126_model_6</td>\n",
       "                        <td id=\"T_1a2d8aba_f498_11e9_a5fe_008cfafbe83erow0_col49\" class=\"data row0 col49\" >DeepLearning_grid_1_AutoML_20191022_050126_model_9</td>\n",
       "                        <td id=\"T_1a2d8aba_f498_11e9_a5fe_008cfafbe83erow0_col50\" class=\"data row0 col50\" >GBM_grid_1_AutoML_20191022_050126_model_9</td>\n",
       "                        <td id=\"T_1a2d8aba_f498_11e9_a5fe_008cfafbe83erow0_col51\" class=\"data row0 col51\" >XGBoost_grid_1_AutoML_20191022_050126_model_20</td>\n",
       "                        <td id=\"T_1a2d8aba_f498_11e9_a5fe_008cfafbe83erow0_col52\" class=\"data row0 col52\" >XGBoost_grid_1_AutoML_20191022_050126_model_27</td>\n",
       "                        <td id=\"T_1a2d8aba_f498_11e9_a5fe_008cfafbe83erow0_col53\" class=\"data row0 col53\" >XGBoost_grid_1_AutoML_20191022_050126_model_4</td>\n",
       "                        <td id=\"T_1a2d8aba_f498_11e9_a5fe_008cfafbe83erow0_col54\" class=\"data row0 col54\" >XGBoost_grid_1_AutoML_20191022_050126_model_2</td>\n",
       "                        <td id=\"T_1a2d8aba_f498_11e9_a5fe_008cfafbe83erow0_col55\" class=\"data row0 col55\" >GBM_grid_1_AutoML_20191022_050126_model_29</td>\n",
       "                        <td id=\"T_1a2d8aba_f498_11e9_a5fe_008cfafbe83erow0_col56\" class=\"data row0 col56\" >GBM_grid_1_AutoML_20191022_050126_model_28</td>\n",
       "                        <td id=\"T_1a2d8aba_f498_11e9_a5fe_008cfafbe83erow0_col57\" class=\"data row0 col57\" >XGBoost_grid_1_AutoML_20191022_050126_model_28</td>\n",
       "                        <td id=\"T_1a2d8aba_f498_11e9_a5fe_008cfafbe83erow0_col58\" class=\"data row0 col58\" >XGBoost_grid_1_AutoML_20191022_050126_model_3</td>\n",
       "                        <td id=\"T_1a2d8aba_f498_11e9_a5fe_008cfafbe83erow0_col59\" class=\"data row0 col59\" >DeepLearning_grid_1_AutoML_20191022_050126_model_12</td>\n",
       "                        <td id=\"T_1a2d8aba_f498_11e9_a5fe_008cfafbe83erow0_col60\" class=\"data row0 col60\" >XGBoost_grid_1_AutoML_20191022_050126_model_23</td>\n",
       "                        <td id=\"T_1a2d8aba_f498_11e9_a5fe_008cfafbe83erow0_col61\" class=\"data row0 col61\" >XGBoost_grid_1_AutoML_20191022_050126_model_7</td>\n",
       "                        <td id=\"T_1a2d8aba_f498_11e9_a5fe_008cfafbe83erow0_col62\" class=\"data row0 col62\" >XGBoost_grid_1_AutoML_20191022_050126_model_19</td>\n",
       "                        <td id=\"T_1a2d8aba_f498_11e9_a5fe_008cfafbe83erow0_col63\" class=\"data row0 col63\" >GBM_grid_1_AutoML_20191022_050126_model_25</td>\n",
       "                        <td id=\"T_1a2d8aba_f498_11e9_a5fe_008cfafbe83erow0_col64\" class=\"data row0 col64\" >GBM_grid_1_AutoML_20191022_050126_model_21</td>\n",
       "                        <td id=\"T_1a2d8aba_f498_11e9_a5fe_008cfafbe83erow0_col65\" class=\"data row0 col65\" >XGBoost_2_AutoML_20191022_050126</td>\n",
       "                        <td id=\"T_1a2d8aba_f498_11e9_a5fe_008cfafbe83erow0_col66\" class=\"data row0 col66\" >GBM_grid_1_AutoML_20191022_050126_model_30</td>\n",
       "                        <td id=\"T_1a2d8aba_f498_11e9_a5fe_008cfafbe83erow0_col67\" class=\"data row0 col67\" >GBM_grid_1_AutoML_20191022_050126_model_7</td>\n",
       "                        <td id=\"T_1a2d8aba_f498_11e9_a5fe_008cfafbe83erow0_col68\" class=\"data row0 col68\" >GBM_grid_1_AutoML_20191022_050126_model_23</td>\n",
       "                        <td id=\"T_1a2d8aba_f498_11e9_a5fe_008cfafbe83erow0_col69\" class=\"data row0 col69\" >XGBoost_grid_1_AutoML_20191022_050126_model_5</td>\n",
       "                        <td id=\"T_1a2d8aba_f498_11e9_a5fe_008cfafbe83erow0_col70\" class=\"data row0 col70\" >XGBoost_grid_1_AutoML_20191022_050126_model_22</td>\n",
       "                        <td id=\"T_1a2d8aba_f498_11e9_a5fe_008cfafbe83erow0_col71\" class=\"data row0 col71\" >XGBoost_grid_1_AutoML_20191022_050126_model_12</td>\n",
       "                        <td id=\"T_1a2d8aba_f498_11e9_a5fe_008cfafbe83erow0_col72\" class=\"data row0 col72\" >XGBoost_grid_1_AutoML_20191022_050126_model_29</td>\n",
       "                        <td id=\"T_1a2d8aba_f498_11e9_a5fe_008cfafbe83erow0_col73\" class=\"data row0 col73\" >GBM_grid_1_AutoML_20191022_050126_model_5</td>\n",
       "                        <td id=\"T_1a2d8aba_f498_11e9_a5fe_008cfafbe83erow0_col74\" class=\"data row0 col74\" >GBM_grid_1_AutoML_20191022_050126_model_32</td>\n",
       "                        <td id=\"T_1a2d8aba_f498_11e9_a5fe_008cfafbe83erow0_col75\" class=\"data row0 col75\" >XGBoost_grid_1_AutoML_20191022_050126_model_11</td>\n",
       "                        <td id=\"T_1a2d8aba_f498_11e9_a5fe_008cfafbe83erow0_col76\" class=\"data row0 col76\" >XGBoost_grid_1_AutoML_20191022_050126_model_6</td>\n",
       "                        <td id=\"T_1a2d8aba_f498_11e9_a5fe_008cfafbe83erow0_col77\" class=\"data row0 col77\" >XGBoost_grid_1_AutoML_20191022_050126_model_1</td>\n",
       "                        <td id=\"T_1a2d8aba_f498_11e9_a5fe_008cfafbe83erow0_col78\" class=\"data row0 col78\" >XGBoost_grid_1_AutoML_20191022_050126_model_14</td>\n",
       "                        <td id=\"T_1a2d8aba_f498_11e9_a5fe_008cfafbe83erow0_col79\" class=\"data row0 col79\" >XGBoost_grid_1_AutoML_20191022_050126_model_24</td>\n",
       "                        <td id=\"T_1a2d8aba_f498_11e9_a5fe_008cfafbe83erow0_col80\" class=\"data row0 col80\" >XGBoost_grid_1_AutoML_20191022_050126_model_10</td>\n",
       "                        <td id=\"T_1a2d8aba_f498_11e9_a5fe_008cfafbe83erow0_col81\" class=\"data row0 col81\" >GBM_grid_1_AutoML_20191022_050126_model_4</td>\n",
       "                        <td id=\"T_1a2d8aba_f498_11e9_a5fe_008cfafbe83erow0_col82\" class=\"data row0 col82\" >XGBoost_grid_1_AutoML_20191022_050126_model_16</td>\n",
       "                        <td id=\"T_1a2d8aba_f498_11e9_a5fe_008cfafbe83erow0_col83\" class=\"data row0 col83\" >XGBoost_grid_1_AutoML_20191022_050126_model_9</td>\n",
       "                        <td id=\"T_1a2d8aba_f498_11e9_a5fe_008cfafbe83erow0_col84\" class=\"data row0 col84\" >DeepLearning_1_AutoML_20191022_050126</td>\n",
       "                        <td id=\"T_1a2d8aba_f498_11e9_a5fe_008cfafbe83erow0_col85\" class=\"data row0 col85\" >GBM_grid_1_AutoML_20191022_050126_model_2</td>\n",
       "                        <td id=\"T_1a2d8aba_f498_11e9_a5fe_008cfafbe83erow0_col86\" class=\"data row0 col86\" >XGBoost_grid_1_AutoML_20191022_050126_model_30</td>\n",
       "                        <td id=\"T_1a2d8aba_f498_11e9_a5fe_008cfafbe83erow0_col87\" class=\"data row0 col87\" >GBM_grid_1_AutoML_20191022_050126_model_33</td>\n",
       "                        <td id=\"T_1a2d8aba_f498_11e9_a5fe_008cfafbe83erow0_col88\" class=\"data row0 col88\" >GBM_grid_1_AutoML_20191022_050126_model_22</td>\n",
       "                        <td id=\"T_1a2d8aba_f498_11e9_a5fe_008cfafbe83erow0_col89\" class=\"data row0 col89\" >nan</td>\n",
       "                        <td id=\"T_1a2d8aba_f498_11e9_a5fe_008cfafbe83erow0_col90\" class=\"data row0 col90\" >nan</td>\n",
       "                        <td id=\"T_1a2d8aba_f498_11e9_a5fe_008cfafbe83erow0_col91\" class=\"data row0 col91\" >nan</td>\n",
       "                        <td id=\"T_1a2d8aba_f498_11e9_a5fe_008cfafbe83erow0_col92\" class=\"data row0 col92\" >nan</td>\n",
       "                        <td id=\"T_1a2d8aba_f498_11e9_a5fe_008cfafbe83erow0_col93\" class=\"data row0 col93\" >nan</td>\n",
       "            </tr>\n",
       "            <tr>\n",
       "                                <td id=\"T_1a2d8aba_f498_11e9_a5fe_008cfafbe83erow1_col0\" class=\"data row1 col0\" >12</td>\n",
       "                        <td id=\"T_1a2d8aba_f498_11e9_a5fe_008cfafbe83erow1_col1\" class=\"data row1 col1\" >StackedEnsemble_AllModels_AutoML_20191022_050024</td>\n",
       "                        <td id=\"T_1a2d8aba_f498_11e9_a5fe_008cfafbe83erow1_col2\" class=\"data row1 col2\" >DeepLearning_grid_1_AutoML_20191022_050024_model_8</td>\n",
       "                        <td id=\"T_1a2d8aba_f498_11e9_a5fe_008cfafbe83erow1_col3\" class=\"data row1 col3\" >GBM_grid_1_AutoML_20191022_050024_model_31</td>\n",
       "                        <td id=\"T_1a2d8aba_f498_11e9_a5fe_008cfafbe83erow1_col4\" class=\"data row1 col4\" >DeepLearning_grid_1_AutoML_20191022_050024_model_1</td>\n",
       "                        <td id=\"T_1a2d8aba_f498_11e9_a5fe_008cfafbe83erow1_col5\" class=\"data row1 col5\" >DeepLearning_grid_1_AutoML_20191022_050024_model_2</td>\n",
       "                        <td id=\"T_1a2d8aba_f498_11e9_a5fe_008cfafbe83erow1_col6\" class=\"data row1 col6\" >GBM_grid_1_AutoML_20191022_050024_model_18</td>\n",
       "                        <td id=\"T_1a2d8aba_f498_11e9_a5fe_008cfafbe83erow1_col7\" class=\"data row1 col7\" >GBM_grid_1_AutoML_20191022_050024_model_19</td>\n",
       "                        <td id=\"T_1a2d8aba_f498_11e9_a5fe_008cfafbe83erow1_col8\" class=\"data row1 col8\" >DeepLearning_grid_1_AutoML_20191022_050024_model_12</td>\n",
       "                        <td id=\"T_1a2d8aba_f498_11e9_a5fe_008cfafbe83erow1_col9\" class=\"data row1 col9\" >DeepLearning_grid_1_AutoML_20191022_050024_model_7</td>\n",
       "                        <td id=\"T_1a2d8aba_f498_11e9_a5fe_008cfafbe83erow1_col10\" class=\"data row1 col10\" >DeepLearning_grid_1_AutoML_20191022_050024_model_11</td>\n",
       "                        <td id=\"T_1a2d8aba_f498_11e9_a5fe_008cfafbe83erow1_col11\" class=\"data row1 col11\" >XGBoost_grid_1_AutoML_20191022_050024_model_13</td>\n",
       "                        <td id=\"T_1a2d8aba_f498_11e9_a5fe_008cfafbe83erow1_col12\" class=\"data row1 col12\" >GBM_grid_1_AutoML_20191022_050024_model_15</td>\n",
       "                        <td id=\"T_1a2d8aba_f498_11e9_a5fe_008cfafbe83erow1_col13\" class=\"data row1 col13\" >GBM_2_AutoML_20191022_050024</td>\n",
       "                        <td id=\"T_1a2d8aba_f498_11e9_a5fe_008cfafbe83erow1_col14\" class=\"data row1 col14\" >GBM_grid_1_AutoML_20191022_050024_model_3</td>\n",
       "                        <td id=\"T_1a2d8aba_f498_11e9_a5fe_008cfafbe83erow1_col15\" class=\"data row1 col15\" >GBM_3_AutoML_20191022_050024</td>\n",
       "                        <td id=\"T_1a2d8aba_f498_11e9_a5fe_008cfafbe83erow1_col16\" class=\"data row1 col16\" >GBM_grid_1_AutoML_20191022_050024_model_26</td>\n",
       "                        <td id=\"T_1a2d8aba_f498_11e9_a5fe_008cfafbe83erow1_col17\" class=\"data row1 col17\" >GBM_grid_1_AutoML_20191022_050024_model_6</td>\n",
       "                        <td id=\"T_1a2d8aba_f498_11e9_a5fe_008cfafbe83erow1_col18\" class=\"data row1 col18\" >GBM_grid_1_AutoML_20191022_050024_model_27</td>\n",
       "                        <td id=\"T_1a2d8aba_f498_11e9_a5fe_008cfafbe83erow1_col19\" class=\"data row1 col19\" >GBM_grid_1_AutoML_20191022_050024_model_20</td>\n",
       "                        <td id=\"T_1a2d8aba_f498_11e9_a5fe_008cfafbe83erow1_col20\" class=\"data row1 col20\" >GBM_5_AutoML_20191022_050024</td>\n",
       "                        <td id=\"T_1a2d8aba_f498_11e9_a5fe_008cfafbe83erow1_col21\" class=\"data row1 col21\" >GBM_grid_1_AutoML_20191022_050024_model_12</td>\n",
       "                        <td id=\"T_1a2d8aba_f498_11e9_a5fe_008cfafbe83erow1_col22\" class=\"data row1 col22\" >DeepLearning_grid_1_AutoML_20191022_050024_model_5</td>\n",
       "                        <td id=\"T_1a2d8aba_f498_11e9_a5fe_008cfafbe83erow1_col23\" class=\"data row1 col23\" >GBM_4_AutoML_20191022_050024</td>\n",
       "                        <td id=\"T_1a2d8aba_f498_11e9_a5fe_008cfafbe83erow1_col24\" class=\"data row1 col24\" >DeepLearning_grid_1_AutoML_20191022_050024_model_4</td>\n",
       "                        <td id=\"T_1a2d8aba_f498_11e9_a5fe_008cfafbe83erow1_col25\" class=\"data row1 col25\" >DeepLearning_grid_1_AutoML_20191022_050024_model_3</td>\n",
       "                        <td id=\"T_1a2d8aba_f498_11e9_a5fe_008cfafbe83erow1_col26\" class=\"data row1 col26\" >GLM_grid_1_AutoML_20191022_050024_model_1</td>\n",
       "                        <td id=\"T_1a2d8aba_f498_11e9_a5fe_008cfafbe83erow1_col27\" class=\"data row1 col27\" >GBM_grid_1_AutoML_20191022_050024_model_17</td>\n",
       "                        <td id=\"T_1a2d8aba_f498_11e9_a5fe_008cfafbe83erow1_col28\" class=\"data row1 col28\" >XRT_1_AutoML_20191022_050024</td>\n",
       "                        <td id=\"T_1a2d8aba_f498_11e9_a5fe_008cfafbe83erow1_col29\" class=\"data row1 col29\" >GBM_grid_1_AutoML_20191022_050024_model_1</td>\n",
       "                        <td id=\"T_1a2d8aba_f498_11e9_a5fe_008cfafbe83erow1_col30\" class=\"data row1 col30\" >GBM_grid_1_AutoML_20191022_050024_model_10</td>\n",
       "                        <td id=\"T_1a2d8aba_f498_11e9_a5fe_008cfafbe83erow1_col31\" class=\"data row1 col31\" >XGBoost_grid_1_AutoML_20191022_050024_model_8</td>\n",
       "                        <td id=\"T_1a2d8aba_f498_11e9_a5fe_008cfafbe83erow1_col32\" class=\"data row1 col32\" >GBM_1_AutoML_20191022_050024</td>\n",
       "                        <td id=\"T_1a2d8aba_f498_11e9_a5fe_008cfafbe83erow1_col33\" class=\"data row1 col33\" >GBM_grid_1_AutoML_20191022_050024_model_14</td>\n",
       "                        <td id=\"T_1a2d8aba_f498_11e9_a5fe_008cfafbe83erow1_col34\" class=\"data row1 col34\" >GBM_grid_1_AutoML_20191022_050024_model_11</td>\n",
       "                        <td id=\"T_1a2d8aba_f498_11e9_a5fe_008cfafbe83erow1_col35\" class=\"data row1 col35\" >GBM_grid_1_AutoML_20191022_050024_model_16</td>\n",
       "                        <td id=\"T_1a2d8aba_f498_11e9_a5fe_008cfafbe83erow1_col36\" class=\"data row1 col36\" >GBM_grid_1_AutoML_20191022_050024_model_24</td>\n",
       "                        <td id=\"T_1a2d8aba_f498_11e9_a5fe_008cfafbe83erow1_col37\" class=\"data row1 col37\" >DRF_1_AutoML_20191022_050024</td>\n",
       "                        <td id=\"T_1a2d8aba_f498_11e9_a5fe_008cfafbe83erow1_col38\" class=\"data row1 col38\" >XGBoost_grid_1_AutoML_20191022_050024_model_17</td>\n",
       "                        <td id=\"T_1a2d8aba_f498_11e9_a5fe_008cfafbe83erow1_col39\" class=\"data row1 col39\" >DeepLearning_grid_1_AutoML_20191022_050024_model_6</td>\n",
       "                        <td id=\"T_1a2d8aba_f498_11e9_a5fe_008cfafbe83erow1_col40\" class=\"data row1 col40\" >GBM_grid_1_AutoML_20191022_050024_model_13</td>\n",
       "                        <td id=\"T_1a2d8aba_f498_11e9_a5fe_008cfafbe83erow1_col41\" class=\"data row1 col41\" >XGBoost_3_AutoML_20191022_050024</td>\n",
       "                        <td id=\"T_1a2d8aba_f498_11e9_a5fe_008cfafbe83erow1_col42\" class=\"data row1 col42\" >XGBoost_1_AutoML_20191022_050024</td>\n",
       "                        <td id=\"T_1a2d8aba_f498_11e9_a5fe_008cfafbe83erow1_col43\" class=\"data row1 col43\" >XGBoost_grid_1_AutoML_20191022_050024_model_25</td>\n",
       "                        <td id=\"T_1a2d8aba_f498_11e9_a5fe_008cfafbe83erow1_col44\" class=\"data row1 col44\" >XGBoost_grid_1_AutoML_20191022_050024_model_21</td>\n",
       "                        <td id=\"T_1a2d8aba_f498_11e9_a5fe_008cfafbe83erow1_col45\" class=\"data row1 col45\" >XGBoost_grid_1_AutoML_20191022_050024_model_18</td>\n",
       "                        <td id=\"T_1a2d8aba_f498_11e9_a5fe_008cfafbe83erow1_col46\" class=\"data row1 col46\" >XGBoost_grid_1_AutoML_20191022_050024_model_26</td>\n",
       "                        <td id=\"T_1a2d8aba_f498_11e9_a5fe_008cfafbe83erow1_col47\" class=\"data row1 col47\" >XGBoost_grid_1_AutoML_20191022_050024_model_15</td>\n",
       "                        <td id=\"T_1a2d8aba_f498_11e9_a5fe_008cfafbe83erow1_col48\" class=\"data row1 col48\" >GBM_grid_1_AutoML_20191022_050024_model_8</td>\n",
       "                        <td id=\"T_1a2d8aba_f498_11e9_a5fe_008cfafbe83erow1_col49\" class=\"data row1 col49\" >GBM_grid_1_AutoML_20191022_050024_model_9</td>\n",
       "                        <td id=\"T_1a2d8aba_f498_11e9_a5fe_008cfafbe83erow1_col50\" class=\"data row1 col50\" >DeepLearning_grid_1_AutoML_20191022_050024_model_9</td>\n",
       "                        <td id=\"T_1a2d8aba_f498_11e9_a5fe_008cfafbe83erow1_col51\" class=\"data row1 col51\" >XGBoost_grid_1_AutoML_20191022_050024_model_20</td>\n",
       "                        <td id=\"T_1a2d8aba_f498_11e9_a5fe_008cfafbe83erow1_col52\" class=\"data row1 col52\" >XGBoost_grid_1_AutoML_20191022_050024_model_27</td>\n",
       "                        <td id=\"T_1a2d8aba_f498_11e9_a5fe_008cfafbe83erow1_col53\" class=\"data row1 col53\" >XGBoost_grid_1_AutoML_20191022_050024_model_4</td>\n",
       "                        <td id=\"T_1a2d8aba_f498_11e9_a5fe_008cfafbe83erow1_col54\" class=\"data row1 col54\" >GBM_grid_1_AutoML_20191022_050024_model_32</td>\n",
       "                        <td id=\"T_1a2d8aba_f498_11e9_a5fe_008cfafbe83erow1_col55\" class=\"data row1 col55\" >XGBoost_grid_1_AutoML_20191022_050024_model_2</td>\n",
       "                        <td id=\"T_1a2d8aba_f498_11e9_a5fe_008cfafbe83erow1_col56\" class=\"data row1 col56\" >DeepLearning_grid_1_AutoML_20191022_050024_model_13</td>\n",
       "                        <td id=\"T_1a2d8aba_f498_11e9_a5fe_008cfafbe83erow1_col57\" class=\"data row1 col57\" >GBM_grid_1_AutoML_20191022_050024_model_29</td>\n",
       "                        <td id=\"T_1a2d8aba_f498_11e9_a5fe_008cfafbe83erow1_col58\" class=\"data row1 col58\" >GBM_grid_1_AutoML_20191022_050024_model_28</td>\n",
       "                        <td id=\"T_1a2d8aba_f498_11e9_a5fe_008cfafbe83erow1_col59\" class=\"data row1 col59\" >XGBoost_grid_1_AutoML_20191022_050024_model_28</td>\n",
       "                        <td id=\"T_1a2d8aba_f498_11e9_a5fe_008cfafbe83erow1_col60\" class=\"data row1 col60\" >XGBoost_grid_1_AutoML_20191022_050024_model_3</td>\n",
       "                        <td id=\"T_1a2d8aba_f498_11e9_a5fe_008cfafbe83erow1_col61\" class=\"data row1 col61\" >DeepLearning_grid_1_AutoML_20191022_050024_model_10</td>\n",
       "                        <td id=\"T_1a2d8aba_f498_11e9_a5fe_008cfafbe83erow1_col62\" class=\"data row1 col62\" >XGBoost_grid_1_AutoML_20191022_050024_model_23</td>\n",
       "                        <td id=\"T_1a2d8aba_f498_11e9_a5fe_008cfafbe83erow1_col63\" class=\"data row1 col63\" >XGBoost_grid_1_AutoML_20191022_050024_model_7</td>\n",
       "                        <td id=\"T_1a2d8aba_f498_11e9_a5fe_008cfafbe83erow1_col64\" class=\"data row1 col64\" >XGBoost_grid_1_AutoML_20191022_050024_model_19</td>\n",
       "                        <td id=\"T_1a2d8aba_f498_11e9_a5fe_008cfafbe83erow1_col65\" class=\"data row1 col65\" >GBM_grid_1_AutoML_20191022_050024_model_25</td>\n",
       "                        <td id=\"T_1a2d8aba_f498_11e9_a5fe_008cfafbe83erow1_col66\" class=\"data row1 col66\" >GBM_grid_1_AutoML_20191022_050024_model_21</td>\n",
       "                        <td id=\"T_1a2d8aba_f498_11e9_a5fe_008cfafbe83erow1_col67\" class=\"data row1 col67\" >XGBoost_2_AutoML_20191022_050024</td>\n",
       "                        <td id=\"T_1a2d8aba_f498_11e9_a5fe_008cfafbe83erow1_col68\" class=\"data row1 col68\" >GBM_grid_1_AutoML_20191022_050024_model_30</td>\n",
       "                        <td id=\"T_1a2d8aba_f498_11e9_a5fe_008cfafbe83erow1_col69\" class=\"data row1 col69\" >GBM_grid_1_AutoML_20191022_050024_model_7</td>\n",
       "                        <td id=\"T_1a2d8aba_f498_11e9_a5fe_008cfafbe83erow1_col70\" class=\"data row1 col70\" >GBM_grid_1_AutoML_20191022_050024_model_23</td>\n",
       "                        <td id=\"T_1a2d8aba_f498_11e9_a5fe_008cfafbe83erow1_col71\" class=\"data row1 col71\" >XGBoost_grid_1_AutoML_20191022_050024_model_5</td>\n",
       "                        <td id=\"T_1a2d8aba_f498_11e9_a5fe_008cfafbe83erow1_col72\" class=\"data row1 col72\" >XGBoost_grid_1_AutoML_20191022_050024_model_22</td>\n",
       "                        <td id=\"T_1a2d8aba_f498_11e9_a5fe_008cfafbe83erow1_col73\" class=\"data row1 col73\" >XGBoost_grid_1_AutoML_20191022_050024_model_12</td>\n",
       "                        <td id=\"T_1a2d8aba_f498_11e9_a5fe_008cfafbe83erow1_col74\" class=\"data row1 col74\" >GBM_grid_1_AutoML_20191022_050024_model_5</td>\n",
       "                        <td id=\"T_1a2d8aba_f498_11e9_a5fe_008cfafbe83erow1_col75\" class=\"data row1 col75\" >XGBoost_grid_1_AutoML_20191022_050024_model_11</td>\n",
       "                        <td id=\"T_1a2d8aba_f498_11e9_a5fe_008cfafbe83erow1_col76\" class=\"data row1 col76\" >XGBoost_grid_1_AutoML_20191022_050024_model_6</td>\n",
       "                        <td id=\"T_1a2d8aba_f498_11e9_a5fe_008cfafbe83erow1_col77\" class=\"data row1 col77\" >XGBoost_grid_1_AutoML_20191022_050024_model_1</td>\n",
       "                        <td id=\"T_1a2d8aba_f498_11e9_a5fe_008cfafbe83erow1_col78\" class=\"data row1 col78\" >XGBoost_grid_1_AutoML_20191022_050024_model_29</td>\n",
       "                        <td id=\"T_1a2d8aba_f498_11e9_a5fe_008cfafbe83erow1_col79\" class=\"data row1 col79\" >XGBoost_grid_1_AutoML_20191022_050024_model_14</td>\n",
       "                        <td id=\"T_1a2d8aba_f498_11e9_a5fe_008cfafbe83erow1_col80\" class=\"data row1 col80\" >XGBoost_grid_1_AutoML_20191022_050024_model_24</td>\n",
       "                        <td id=\"T_1a2d8aba_f498_11e9_a5fe_008cfafbe83erow1_col81\" class=\"data row1 col81\" >XGBoost_grid_1_AutoML_20191022_050024_model_30</td>\n",
       "                        <td id=\"T_1a2d8aba_f498_11e9_a5fe_008cfafbe83erow1_col82\" class=\"data row1 col82\" >XGBoost_grid_1_AutoML_20191022_050024_model_10</td>\n",
       "                        <td id=\"T_1a2d8aba_f498_11e9_a5fe_008cfafbe83erow1_col83\" class=\"data row1 col83\" >GBM_grid_1_AutoML_20191022_050024_model_4</td>\n",
       "                        <td id=\"T_1a2d8aba_f498_11e9_a5fe_008cfafbe83erow1_col84\" class=\"data row1 col84\" >XGBoost_grid_1_AutoML_20191022_050024_model_16</td>\n",
       "                        <td id=\"T_1a2d8aba_f498_11e9_a5fe_008cfafbe83erow1_col85\" class=\"data row1 col85\" >XGBoost_grid_1_AutoML_20191022_050024_model_9</td>\n",
       "                        <td id=\"T_1a2d8aba_f498_11e9_a5fe_008cfafbe83erow1_col86\" class=\"data row1 col86\" >GBM_grid_1_AutoML_20191022_050024_model_33</td>\n",
       "                        <td id=\"T_1a2d8aba_f498_11e9_a5fe_008cfafbe83erow1_col87\" class=\"data row1 col87\" >GBM_grid_1_AutoML_20191022_050024_model_34</td>\n",
       "                        <td id=\"T_1a2d8aba_f498_11e9_a5fe_008cfafbe83erow1_col88\" class=\"data row1 col88\" >DeepLearning_1_AutoML_20191022_050024</td>\n",
       "                        <td id=\"T_1a2d8aba_f498_11e9_a5fe_008cfafbe83erow1_col89\" class=\"data row1 col89\" >GBM_grid_1_AutoML_20191022_050024_model_2</td>\n",
       "                        <td id=\"T_1a2d8aba_f498_11e9_a5fe_008cfafbe83erow1_col90\" class=\"data row1 col90\" >GBM_grid_1_AutoML_20191022_050024_model_22</td>\n",
       "                        <td id=\"T_1a2d8aba_f498_11e9_a5fe_008cfafbe83erow1_col91\" class=\"data row1 col91\" >nan</td>\n",
       "                        <td id=\"T_1a2d8aba_f498_11e9_a5fe_008cfafbe83erow1_col92\" class=\"data row1 col92\" >nan</td>\n",
       "                        <td id=\"T_1a2d8aba_f498_11e9_a5fe_008cfafbe83erow1_col93\" class=\"data row1 col93\" >nan</td>\n",
       "            </tr>\n",
       "            <tr>\n",
       "                                <td id=\"T_1a2d8aba_f498_11e9_a5fe_008cfafbe83erow2_col0\" class=\"data row2 col0\" >24</td>\n",
       "                        <td id=\"T_1a2d8aba_f498_11e9_a5fe_008cfafbe83erow2_col1\" class=\"data row2 col1\" >StackedEnsemble_AllModels_AutoML_20191022_045919</td>\n",
       "                        <td id=\"T_1a2d8aba_f498_11e9_a5fe_008cfafbe83erow2_col2\" class=\"data row2 col2\" >DeepLearning_grid_1_AutoML_20191022_045919_model_2</td>\n",
       "                        <td id=\"T_1a2d8aba_f498_11e9_a5fe_008cfafbe83erow2_col3\" class=\"data row2 col3\" >GBM_grid_1_AutoML_20191022_045919_model_31</td>\n",
       "                        <td id=\"T_1a2d8aba_f498_11e9_a5fe_008cfafbe83erow2_col4\" class=\"data row2 col4\" >DeepLearning_grid_1_AutoML_20191022_045919_model_11</td>\n",
       "                        <td id=\"T_1a2d8aba_f498_11e9_a5fe_008cfafbe83erow2_col5\" class=\"data row2 col5\" >DeepLearning_grid_1_AutoML_20191022_045919_model_10</td>\n",
       "                        <td id=\"T_1a2d8aba_f498_11e9_a5fe_008cfafbe83erow2_col6\" class=\"data row2 col6\" >GBM_grid_1_AutoML_20191022_045919_model_18</td>\n",
       "                        <td id=\"T_1a2d8aba_f498_11e9_a5fe_008cfafbe83erow2_col7\" class=\"data row2 col7\" >DeepLearning_grid_1_AutoML_20191022_045919_model_1</td>\n",
       "                        <td id=\"T_1a2d8aba_f498_11e9_a5fe_008cfafbe83erow2_col8\" class=\"data row2 col8\" >DeepLearning_grid_1_AutoML_20191022_045919_model_8</td>\n",
       "                        <td id=\"T_1a2d8aba_f498_11e9_a5fe_008cfafbe83erow2_col9\" class=\"data row2 col9\" >GBM_grid_1_AutoML_20191022_045919_model_19</td>\n",
       "                        <td id=\"T_1a2d8aba_f498_11e9_a5fe_008cfafbe83erow2_col10\" class=\"data row2 col10\" >XGBoost_grid_1_AutoML_20191022_045919_model_13</td>\n",
       "                        <td id=\"T_1a2d8aba_f498_11e9_a5fe_008cfafbe83erow2_col11\" class=\"data row2 col11\" >GBM_grid_1_AutoML_20191022_045919_model_15</td>\n",
       "                        <td id=\"T_1a2d8aba_f498_11e9_a5fe_008cfafbe83erow2_col12\" class=\"data row2 col12\" >GBM_2_AutoML_20191022_045919</td>\n",
       "                        <td id=\"T_1a2d8aba_f498_11e9_a5fe_008cfafbe83erow2_col13\" class=\"data row2 col13\" >DeepLearning_grid_1_AutoML_20191022_045919_model_7</td>\n",
       "                        <td id=\"T_1a2d8aba_f498_11e9_a5fe_008cfafbe83erow2_col14\" class=\"data row2 col14\" >GBM_grid_1_AutoML_20191022_045919_model_3</td>\n",
       "                        <td id=\"T_1a2d8aba_f498_11e9_a5fe_008cfafbe83erow2_col15\" class=\"data row2 col15\" >GBM_3_AutoML_20191022_045919</td>\n",
       "                        <td id=\"T_1a2d8aba_f498_11e9_a5fe_008cfafbe83erow2_col16\" class=\"data row2 col16\" >GBM_grid_1_AutoML_20191022_045919_model_32</td>\n",
       "                        <td id=\"T_1a2d8aba_f498_11e9_a5fe_008cfafbe83erow2_col17\" class=\"data row2 col17\" >GBM_grid_1_AutoML_20191022_045919_model_26</td>\n",
       "                        <td id=\"T_1a2d8aba_f498_11e9_a5fe_008cfafbe83erow2_col18\" class=\"data row2 col18\" >GBM_grid_1_AutoML_20191022_045919_model_6</td>\n",
       "                        <td id=\"T_1a2d8aba_f498_11e9_a5fe_008cfafbe83erow2_col19\" class=\"data row2 col19\" >GBM_grid_1_AutoML_20191022_045919_model_27</td>\n",
       "                        <td id=\"T_1a2d8aba_f498_11e9_a5fe_008cfafbe83erow2_col20\" class=\"data row2 col20\" >GBM_grid_1_AutoML_20191022_045919_model_20</td>\n",
       "                        <td id=\"T_1a2d8aba_f498_11e9_a5fe_008cfafbe83erow2_col21\" class=\"data row2 col21\" >GBM_5_AutoML_20191022_045919</td>\n",
       "                        <td id=\"T_1a2d8aba_f498_11e9_a5fe_008cfafbe83erow2_col22\" class=\"data row2 col22\" >GBM_grid_1_AutoML_20191022_045919_model_12</td>\n",
       "                        <td id=\"T_1a2d8aba_f498_11e9_a5fe_008cfafbe83erow2_col23\" class=\"data row2 col23\" >DeepLearning_grid_1_AutoML_20191022_045919_model_3</td>\n",
       "                        <td id=\"T_1a2d8aba_f498_11e9_a5fe_008cfafbe83erow2_col24\" class=\"data row2 col24\" >GBM_4_AutoML_20191022_045919</td>\n",
       "                        <td id=\"T_1a2d8aba_f498_11e9_a5fe_008cfafbe83erow2_col25\" class=\"data row2 col25\" >GLM_grid_1_AutoML_20191022_045919_model_1</td>\n",
       "                        <td id=\"T_1a2d8aba_f498_11e9_a5fe_008cfafbe83erow2_col26\" class=\"data row2 col26\" >GBM_grid_1_AutoML_20191022_045919_model_17</td>\n",
       "                        <td id=\"T_1a2d8aba_f498_11e9_a5fe_008cfafbe83erow2_col27\" class=\"data row2 col27\" >XRT_1_AutoML_20191022_045919</td>\n",
       "                        <td id=\"T_1a2d8aba_f498_11e9_a5fe_008cfafbe83erow2_col28\" class=\"data row2 col28\" >GBM_grid_1_AutoML_20191022_045919_model_1</td>\n",
       "                        <td id=\"T_1a2d8aba_f498_11e9_a5fe_008cfafbe83erow2_col29\" class=\"data row2 col29\" >GBM_grid_1_AutoML_20191022_045919_model_10</td>\n",
       "                        <td id=\"T_1a2d8aba_f498_11e9_a5fe_008cfafbe83erow2_col30\" class=\"data row2 col30\" >XGBoost_grid_1_AutoML_20191022_045919_model_8</td>\n",
       "                        <td id=\"T_1a2d8aba_f498_11e9_a5fe_008cfafbe83erow2_col31\" class=\"data row2 col31\" >GBM_1_AutoML_20191022_045919</td>\n",
       "                        <td id=\"T_1a2d8aba_f498_11e9_a5fe_008cfafbe83erow2_col32\" class=\"data row2 col32\" >GBM_grid_1_AutoML_20191022_045919_model_14</td>\n",
       "                        <td id=\"T_1a2d8aba_f498_11e9_a5fe_008cfafbe83erow2_col33\" class=\"data row2 col33\" >GBM_grid_1_AutoML_20191022_045919_model_11</td>\n",
       "                        <td id=\"T_1a2d8aba_f498_11e9_a5fe_008cfafbe83erow2_col34\" class=\"data row2 col34\" >DeepLearning_grid_1_AutoML_20191022_045919_model_5</td>\n",
       "                        <td id=\"T_1a2d8aba_f498_11e9_a5fe_008cfafbe83erow2_col35\" class=\"data row2 col35\" >GBM_grid_1_AutoML_20191022_045919_model_16</td>\n",
       "                        <td id=\"T_1a2d8aba_f498_11e9_a5fe_008cfafbe83erow2_col36\" class=\"data row2 col36\" >GBM_grid_1_AutoML_20191022_045919_model_24</td>\n",
       "                        <td id=\"T_1a2d8aba_f498_11e9_a5fe_008cfafbe83erow2_col37\" class=\"data row2 col37\" >DRF_1_AutoML_20191022_045919</td>\n",
       "                        <td id=\"T_1a2d8aba_f498_11e9_a5fe_008cfafbe83erow2_col38\" class=\"data row2 col38\" >XGBoost_grid_1_AutoML_20191022_045919_model_17</td>\n",
       "                        <td id=\"T_1a2d8aba_f498_11e9_a5fe_008cfafbe83erow2_col39\" class=\"data row2 col39\" >DeepLearning_grid_1_AutoML_20191022_045919_model_6</td>\n",
       "                        <td id=\"T_1a2d8aba_f498_11e9_a5fe_008cfafbe83erow2_col40\" class=\"data row2 col40\" >DeepLearning_grid_1_AutoML_20191022_045919_model_9</td>\n",
       "                        <td id=\"T_1a2d8aba_f498_11e9_a5fe_008cfafbe83erow2_col41\" class=\"data row2 col41\" >GBM_grid_1_AutoML_20191022_045919_model_13</td>\n",
       "                        <td id=\"T_1a2d8aba_f498_11e9_a5fe_008cfafbe83erow2_col42\" class=\"data row2 col42\" >XGBoost_3_AutoML_20191022_045919</td>\n",
       "                        <td id=\"T_1a2d8aba_f498_11e9_a5fe_008cfafbe83erow2_col43\" class=\"data row2 col43\" >XGBoost_1_AutoML_20191022_045919</td>\n",
       "                        <td id=\"T_1a2d8aba_f498_11e9_a5fe_008cfafbe83erow2_col44\" class=\"data row2 col44\" >XGBoost_grid_1_AutoML_20191022_045919_model_25</td>\n",
       "                        <td id=\"T_1a2d8aba_f498_11e9_a5fe_008cfafbe83erow2_col45\" class=\"data row2 col45\" >XGBoost_grid_1_AutoML_20191022_045919_model_21</td>\n",
       "                        <td id=\"T_1a2d8aba_f498_11e9_a5fe_008cfafbe83erow2_col46\" class=\"data row2 col46\" >XGBoost_grid_1_AutoML_20191022_045919_model_18</td>\n",
       "                        <td id=\"T_1a2d8aba_f498_11e9_a5fe_008cfafbe83erow2_col47\" class=\"data row2 col47\" >DeepLearning_grid_1_AutoML_20191022_045919_model_12</td>\n",
       "                        <td id=\"T_1a2d8aba_f498_11e9_a5fe_008cfafbe83erow2_col48\" class=\"data row2 col48\" >DeepLearning_grid_1_AutoML_20191022_045919_model_4</td>\n",
       "                        <td id=\"T_1a2d8aba_f498_11e9_a5fe_008cfafbe83erow2_col49\" class=\"data row2 col49\" >XGBoost_grid_1_AutoML_20191022_045919_model_26</td>\n",
       "                        <td id=\"T_1a2d8aba_f498_11e9_a5fe_008cfafbe83erow2_col50\" class=\"data row2 col50\" >XGBoost_grid_1_AutoML_20191022_045919_model_15</td>\n",
       "                        <td id=\"T_1a2d8aba_f498_11e9_a5fe_008cfafbe83erow2_col51\" class=\"data row2 col51\" >GBM_grid_1_AutoML_20191022_045919_model_8</td>\n",
       "                        <td id=\"T_1a2d8aba_f498_11e9_a5fe_008cfafbe83erow2_col52\" class=\"data row2 col52\" >GBM_grid_1_AutoML_20191022_045919_model_9</td>\n",
       "                        <td id=\"T_1a2d8aba_f498_11e9_a5fe_008cfafbe83erow2_col53\" class=\"data row2 col53\" >XGBoost_grid_1_AutoML_20191022_045919_model_20</td>\n",
       "                        <td id=\"T_1a2d8aba_f498_11e9_a5fe_008cfafbe83erow2_col54\" class=\"data row2 col54\" >XGBoost_grid_1_AutoML_20191022_045919_model_27</td>\n",
       "                        <td id=\"T_1a2d8aba_f498_11e9_a5fe_008cfafbe83erow2_col55\" class=\"data row2 col55\" >XGBoost_grid_1_AutoML_20191022_045919_model_4</td>\n",
       "                        <td id=\"T_1a2d8aba_f498_11e9_a5fe_008cfafbe83erow2_col56\" class=\"data row2 col56\" >XGBoost_grid_1_AutoML_20191022_045919_model_2</td>\n",
       "                        <td id=\"T_1a2d8aba_f498_11e9_a5fe_008cfafbe83erow2_col57\" class=\"data row2 col57\" >GBM_grid_1_AutoML_20191022_045919_model_29</td>\n",
       "                        <td id=\"T_1a2d8aba_f498_11e9_a5fe_008cfafbe83erow2_col58\" class=\"data row2 col58\" >XGBoost_grid_1_AutoML_20191022_045919_model_29</td>\n",
       "                        <td id=\"T_1a2d8aba_f498_11e9_a5fe_008cfafbe83erow2_col59\" class=\"data row2 col59\" >GBM_grid_1_AutoML_20191022_045919_model_28</td>\n",
       "                        <td id=\"T_1a2d8aba_f498_11e9_a5fe_008cfafbe83erow2_col60\" class=\"data row2 col60\" >XGBoost_grid_1_AutoML_20191022_045919_model_28</td>\n",
       "                        <td id=\"T_1a2d8aba_f498_11e9_a5fe_008cfafbe83erow2_col61\" class=\"data row2 col61\" >XGBoost_grid_1_AutoML_20191022_045919_model_3</td>\n",
       "                        <td id=\"T_1a2d8aba_f498_11e9_a5fe_008cfafbe83erow2_col62\" class=\"data row2 col62\" >XGBoost_grid_1_AutoML_20191022_045919_model_23</td>\n",
       "                        <td id=\"T_1a2d8aba_f498_11e9_a5fe_008cfafbe83erow2_col63\" class=\"data row2 col63\" >XGBoost_grid_1_AutoML_20191022_045919_model_7</td>\n",
       "                        <td id=\"T_1a2d8aba_f498_11e9_a5fe_008cfafbe83erow2_col64\" class=\"data row2 col64\" >XGBoost_grid_1_AutoML_20191022_045919_model_19</td>\n",
       "                        <td id=\"T_1a2d8aba_f498_11e9_a5fe_008cfafbe83erow2_col65\" class=\"data row2 col65\" >GBM_grid_1_AutoML_20191022_045919_model_25</td>\n",
       "                        <td id=\"T_1a2d8aba_f498_11e9_a5fe_008cfafbe83erow2_col66\" class=\"data row2 col66\" >GBM_grid_1_AutoML_20191022_045919_model_21</td>\n",
       "                        <td id=\"T_1a2d8aba_f498_11e9_a5fe_008cfafbe83erow2_col67\" class=\"data row2 col67\" >GBM_grid_1_AutoML_20191022_045919_model_35</td>\n",
       "                        <td id=\"T_1a2d8aba_f498_11e9_a5fe_008cfafbe83erow2_col68\" class=\"data row2 col68\" >XGBoost_2_AutoML_20191022_045919</td>\n",
       "                        <td id=\"T_1a2d8aba_f498_11e9_a5fe_008cfafbe83erow2_col69\" class=\"data row2 col69\" >GBM_grid_1_AutoML_20191022_045919_model_30</td>\n",
       "                        <td id=\"T_1a2d8aba_f498_11e9_a5fe_008cfafbe83erow2_col70\" class=\"data row2 col70\" >GBM_grid_1_AutoML_20191022_045919_model_7</td>\n",
       "                        <td id=\"T_1a2d8aba_f498_11e9_a5fe_008cfafbe83erow2_col71\" class=\"data row2 col71\" >XGBoost_grid_1_AutoML_20191022_045919_model_30</td>\n",
       "                        <td id=\"T_1a2d8aba_f498_11e9_a5fe_008cfafbe83erow2_col72\" class=\"data row2 col72\" >GBM_grid_1_AutoML_20191022_045919_model_23</td>\n",
       "                        <td id=\"T_1a2d8aba_f498_11e9_a5fe_008cfafbe83erow2_col73\" class=\"data row2 col73\" >XGBoost_grid_1_AutoML_20191022_045919_model_5</td>\n",
       "                        <td id=\"T_1a2d8aba_f498_11e9_a5fe_008cfafbe83erow2_col74\" class=\"data row2 col74\" >XGBoost_grid_1_AutoML_20191022_045919_model_22</td>\n",
       "                        <td id=\"T_1a2d8aba_f498_11e9_a5fe_008cfafbe83erow2_col75\" class=\"data row2 col75\" >GBM_grid_1_AutoML_20191022_045919_model_33</td>\n",
       "                        <td id=\"T_1a2d8aba_f498_11e9_a5fe_008cfafbe83erow2_col76\" class=\"data row2 col76\" >XGBoost_grid_1_AutoML_20191022_045919_model_12</td>\n",
       "                        <td id=\"T_1a2d8aba_f498_11e9_a5fe_008cfafbe83erow2_col77\" class=\"data row2 col77\" >GBM_grid_1_AutoML_20191022_045919_model_5</td>\n",
       "                        <td id=\"T_1a2d8aba_f498_11e9_a5fe_008cfafbe83erow2_col78\" class=\"data row2 col78\" >XGBoost_grid_1_AutoML_20191022_045919_model_11</td>\n",
       "                        <td id=\"T_1a2d8aba_f498_11e9_a5fe_008cfafbe83erow2_col79\" class=\"data row2 col79\" >XGBoost_grid_1_AutoML_20191022_045919_model_6</td>\n",
       "                        <td id=\"T_1a2d8aba_f498_11e9_a5fe_008cfafbe83erow2_col80\" class=\"data row2 col80\" >XGBoost_grid_1_AutoML_20191022_045919_model_1</td>\n",
       "                        <td id=\"T_1a2d8aba_f498_11e9_a5fe_008cfafbe83erow2_col81\" class=\"data row2 col81\" >XGBoost_grid_1_AutoML_20191022_045919_model_14</td>\n",
       "                        <td id=\"T_1a2d8aba_f498_11e9_a5fe_008cfafbe83erow2_col82\" class=\"data row2 col82\" >XGBoost_grid_1_AutoML_20191022_045919_model_24</td>\n",
       "                        <td id=\"T_1a2d8aba_f498_11e9_a5fe_008cfafbe83erow2_col83\" class=\"data row2 col83\" >XGBoost_grid_1_AutoML_20191022_045919_model_10</td>\n",
       "                        <td id=\"T_1a2d8aba_f498_11e9_a5fe_008cfafbe83erow2_col84\" class=\"data row2 col84\" >GBM_grid_1_AutoML_20191022_045919_model_4</td>\n",
       "                        <td id=\"T_1a2d8aba_f498_11e9_a5fe_008cfafbe83erow2_col85\" class=\"data row2 col85\" >XGBoost_grid_1_AutoML_20191022_045919_model_16</td>\n",
       "                        <td id=\"T_1a2d8aba_f498_11e9_a5fe_008cfafbe83erow2_col86\" class=\"data row2 col86\" >XGBoost_grid_1_AutoML_20191022_045919_model_9</td>\n",
       "                        <td id=\"T_1a2d8aba_f498_11e9_a5fe_008cfafbe83erow2_col87\" class=\"data row2 col87\" >GBM_grid_1_AutoML_20191022_045919_model_34</td>\n",
       "                        <td id=\"T_1a2d8aba_f498_11e9_a5fe_008cfafbe83erow2_col88\" class=\"data row2 col88\" >DeepLearning_1_AutoML_20191022_045919</td>\n",
       "                        <td id=\"T_1a2d8aba_f498_11e9_a5fe_008cfafbe83erow2_col89\" class=\"data row2 col89\" >GBM_grid_1_AutoML_20191022_045919_model_2</td>\n",
       "                        <td id=\"T_1a2d8aba_f498_11e9_a5fe_008cfafbe83erow2_col90\" class=\"data row2 col90\" >GBM_grid_1_AutoML_20191022_045919_model_36</td>\n",
       "                        <td id=\"T_1a2d8aba_f498_11e9_a5fe_008cfafbe83erow2_col91\" class=\"data row2 col91\" >GBM_grid_1_AutoML_20191022_045919_model_22</td>\n",
       "                        <td id=\"T_1a2d8aba_f498_11e9_a5fe_008cfafbe83erow2_col92\" class=\"data row2 col92\" >nan</td>\n",
       "                        <td id=\"T_1a2d8aba_f498_11e9_a5fe_008cfafbe83erow2_col93\" class=\"data row2 col93\" >nan</td>\n",
       "            </tr>\n",
       "            <tr>\n",
       "                                <td id=\"T_1a2d8aba_f498_11e9_a5fe_008cfafbe83erow3_col0\" class=\"data row3 col0\" >36</td>\n",
       "                        <td id=\"T_1a2d8aba_f498_11e9_a5fe_008cfafbe83erow3_col1\" class=\"data row3 col1\" >StackedEnsemble_AllModels_AutoML_20191022_050001</td>\n",
       "                        <td id=\"T_1a2d8aba_f498_11e9_a5fe_008cfafbe83erow3_col2\" class=\"data row3 col2\" >DeepLearning_grid_1_AutoML_20191022_050001_model_8</td>\n",
       "                        <td id=\"T_1a2d8aba_f498_11e9_a5fe_008cfafbe83erow3_col3\" class=\"data row3 col3\" >GBM_grid_1_AutoML_20191022_050001_model_31</td>\n",
       "                        <td id=\"T_1a2d8aba_f498_11e9_a5fe_008cfafbe83erow3_col4\" class=\"data row3 col4\" >DeepLearning_grid_1_AutoML_20191022_050001_model_2</td>\n",
       "                        <td id=\"T_1a2d8aba_f498_11e9_a5fe_008cfafbe83erow3_col5\" class=\"data row3 col5\" >DeepLearning_grid_1_AutoML_20191022_050001_model_11</td>\n",
       "                        <td id=\"T_1a2d8aba_f498_11e9_a5fe_008cfafbe83erow3_col6\" class=\"data row3 col6\" >GBM_grid_1_AutoML_20191022_050001_model_18</td>\n",
       "                        <td id=\"T_1a2d8aba_f498_11e9_a5fe_008cfafbe83erow3_col7\" class=\"data row3 col7\" >GBM_grid_1_AutoML_20191022_050001_model_19</td>\n",
       "                        <td id=\"T_1a2d8aba_f498_11e9_a5fe_008cfafbe83erow3_col8\" class=\"data row3 col8\" >DeepLearning_grid_1_AutoML_20191022_050001_model_1</td>\n",
       "                        <td id=\"T_1a2d8aba_f498_11e9_a5fe_008cfafbe83erow3_col9\" class=\"data row3 col9\" >DeepLearning_grid_1_AutoML_20191022_050001_model_7</td>\n",
       "                        <td id=\"T_1a2d8aba_f498_11e9_a5fe_008cfafbe83erow3_col10\" class=\"data row3 col10\" >XGBoost_grid_1_AutoML_20191022_050001_model_13</td>\n",
       "                        <td id=\"T_1a2d8aba_f498_11e9_a5fe_008cfafbe83erow3_col11\" class=\"data row3 col11\" >GBM_grid_1_AutoML_20191022_050001_model_15</td>\n",
       "                        <td id=\"T_1a2d8aba_f498_11e9_a5fe_008cfafbe83erow3_col12\" class=\"data row3 col12\" >GBM_2_AutoML_20191022_050001</td>\n",
       "                        <td id=\"T_1a2d8aba_f498_11e9_a5fe_008cfafbe83erow3_col13\" class=\"data row3 col13\" >GBM_grid_1_AutoML_20191022_050001_model_3</td>\n",
       "                        <td id=\"T_1a2d8aba_f498_11e9_a5fe_008cfafbe83erow3_col14\" class=\"data row3 col14\" >GBM_3_AutoML_20191022_050001</td>\n",
       "                        <td id=\"T_1a2d8aba_f498_11e9_a5fe_008cfafbe83erow3_col15\" class=\"data row3 col15\" >GBM_grid_1_AutoML_20191022_050001_model_26</td>\n",
       "                        <td id=\"T_1a2d8aba_f498_11e9_a5fe_008cfafbe83erow3_col16\" class=\"data row3 col16\" >DeepLearning_grid_1_AutoML_20191022_050001_model_10</td>\n",
       "                        <td id=\"T_1a2d8aba_f498_11e9_a5fe_008cfafbe83erow3_col17\" class=\"data row3 col17\" >GBM_grid_1_AutoML_20191022_050001_model_6</td>\n",
       "                        <td id=\"T_1a2d8aba_f498_11e9_a5fe_008cfafbe83erow3_col18\" class=\"data row3 col18\" >GBM_grid_1_AutoML_20191022_050001_model_27</td>\n",
       "                        <td id=\"T_1a2d8aba_f498_11e9_a5fe_008cfafbe83erow3_col19\" class=\"data row3 col19\" >GBM_grid_1_AutoML_20191022_050001_model_20</td>\n",
       "                        <td id=\"T_1a2d8aba_f498_11e9_a5fe_008cfafbe83erow3_col20\" class=\"data row3 col20\" >GBM_grid_1_AutoML_20191022_050001_model_32</td>\n",
       "                        <td id=\"T_1a2d8aba_f498_11e9_a5fe_008cfafbe83erow3_col21\" class=\"data row3 col21\" >GBM_5_AutoML_20191022_050001</td>\n",
       "                        <td id=\"T_1a2d8aba_f498_11e9_a5fe_008cfafbe83erow3_col22\" class=\"data row3 col22\" >DeepLearning_grid_1_AutoML_20191022_050001_model_5</td>\n",
       "                        <td id=\"T_1a2d8aba_f498_11e9_a5fe_008cfafbe83erow3_col23\" class=\"data row3 col23\" >GBM_grid_1_AutoML_20191022_050001_model_12</td>\n",
       "                        <td id=\"T_1a2d8aba_f498_11e9_a5fe_008cfafbe83erow3_col24\" class=\"data row3 col24\" >DeepLearning_grid_1_AutoML_20191022_050001_model_3</td>\n",
       "                        <td id=\"T_1a2d8aba_f498_11e9_a5fe_008cfafbe83erow3_col25\" class=\"data row3 col25\" >GBM_4_AutoML_20191022_050001</td>\n",
       "                        <td id=\"T_1a2d8aba_f498_11e9_a5fe_008cfafbe83erow3_col26\" class=\"data row3 col26\" >GLM_grid_1_AutoML_20191022_050001_model_1</td>\n",
       "                        <td id=\"T_1a2d8aba_f498_11e9_a5fe_008cfafbe83erow3_col27\" class=\"data row3 col27\" >GBM_grid_1_AutoML_20191022_050001_model_17</td>\n",
       "                        <td id=\"T_1a2d8aba_f498_11e9_a5fe_008cfafbe83erow3_col28\" class=\"data row3 col28\" >XRT_1_AutoML_20191022_050001</td>\n",
       "                        <td id=\"T_1a2d8aba_f498_11e9_a5fe_008cfafbe83erow3_col29\" class=\"data row3 col29\" >GBM_grid_1_AutoML_20191022_050001_model_1</td>\n",
       "                        <td id=\"T_1a2d8aba_f498_11e9_a5fe_008cfafbe83erow3_col30\" class=\"data row3 col30\" >GBM_grid_1_AutoML_20191022_050001_model_10</td>\n",
       "                        <td id=\"T_1a2d8aba_f498_11e9_a5fe_008cfafbe83erow3_col31\" class=\"data row3 col31\" >DeepLearning_grid_1_AutoML_20191022_050001_model_6</td>\n",
       "                        <td id=\"T_1a2d8aba_f498_11e9_a5fe_008cfafbe83erow3_col32\" class=\"data row3 col32\" >XGBoost_grid_1_AutoML_20191022_050001_model_8</td>\n",
       "                        <td id=\"T_1a2d8aba_f498_11e9_a5fe_008cfafbe83erow3_col33\" class=\"data row3 col33\" >GBM_1_AutoML_20191022_050001</td>\n",
       "                        <td id=\"T_1a2d8aba_f498_11e9_a5fe_008cfafbe83erow3_col34\" class=\"data row3 col34\" >GBM_grid_1_AutoML_20191022_050001_model_14</td>\n",
       "                        <td id=\"T_1a2d8aba_f498_11e9_a5fe_008cfafbe83erow3_col35\" class=\"data row3 col35\" >GBM_grid_1_AutoML_20191022_050001_model_11</td>\n",
       "                        <td id=\"T_1a2d8aba_f498_11e9_a5fe_008cfafbe83erow3_col36\" class=\"data row3 col36\" >GBM_grid_1_AutoML_20191022_050001_model_16</td>\n",
       "                        <td id=\"T_1a2d8aba_f498_11e9_a5fe_008cfafbe83erow3_col37\" class=\"data row3 col37\" >GBM_grid_1_AutoML_20191022_050001_model_24</td>\n",
       "                        <td id=\"T_1a2d8aba_f498_11e9_a5fe_008cfafbe83erow3_col38\" class=\"data row3 col38\" >DRF_1_AutoML_20191022_050001</td>\n",
       "                        <td id=\"T_1a2d8aba_f498_11e9_a5fe_008cfafbe83erow3_col39\" class=\"data row3 col39\" >XGBoost_grid_1_AutoML_20191022_050001_model_17</td>\n",
       "                        <td id=\"T_1a2d8aba_f498_11e9_a5fe_008cfafbe83erow3_col40\" class=\"data row3 col40\" >GBM_grid_1_AutoML_20191022_050001_model_13</td>\n",
       "                        <td id=\"T_1a2d8aba_f498_11e9_a5fe_008cfafbe83erow3_col41\" class=\"data row3 col41\" >XGBoost_3_AutoML_20191022_050001</td>\n",
       "                        <td id=\"T_1a2d8aba_f498_11e9_a5fe_008cfafbe83erow3_col42\" class=\"data row3 col42\" >XGBoost_1_AutoML_20191022_050001</td>\n",
       "                        <td id=\"T_1a2d8aba_f498_11e9_a5fe_008cfafbe83erow3_col43\" class=\"data row3 col43\" >DeepLearning_grid_1_AutoML_20191022_050001_model_4</td>\n",
       "                        <td id=\"T_1a2d8aba_f498_11e9_a5fe_008cfafbe83erow3_col44\" class=\"data row3 col44\" >XGBoost_grid_1_AutoML_20191022_050001_model_25</td>\n",
       "                        <td id=\"T_1a2d8aba_f498_11e9_a5fe_008cfafbe83erow3_col45\" class=\"data row3 col45\" >XGBoost_grid_1_AutoML_20191022_050001_model_21</td>\n",
       "                        <td id=\"T_1a2d8aba_f498_11e9_a5fe_008cfafbe83erow3_col46\" class=\"data row3 col46\" >XGBoost_grid_1_AutoML_20191022_050001_model_18</td>\n",
       "                        <td id=\"T_1a2d8aba_f498_11e9_a5fe_008cfafbe83erow3_col47\" class=\"data row3 col47\" >DeepLearning_grid_1_AutoML_20191022_050001_model_9</td>\n",
       "                        <td id=\"T_1a2d8aba_f498_11e9_a5fe_008cfafbe83erow3_col48\" class=\"data row3 col48\" >XGBoost_grid_1_AutoML_20191022_050001_model_26</td>\n",
       "                        <td id=\"T_1a2d8aba_f498_11e9_a5fe_008cfafbe83erow3_col49\" class=\"data row3 col49\" >XGBoost_grid_1_AutoML_20191022_050001_model_15</td>\n",
       "                        <td id=\"T_1a2d8aba_f498_11e9_a5fe_008cfafbe83erow3_col50\" class=\"data row3 col50\" >GBM_grid_1_AutoML_20191022_050001_model_8</td>\n",
       "                        <td id=\"T_1a2d8aba_f498_11e9_a5fe_008cfafbe83erow3_col51\" class=\"data row3 col51\" >GBM_grid_1_AutoML_20191022_050001_model_9</td>\n",
       "                        <td id=\"T_1a2d8aba_f498_11e9_a5fe_008cfafbe83erow3_col52\" class=\"data row3 col52\" >XGBoost_grid_1_AutoML_20191022_050001_model_20</td>\n",
       "                        <td id=\"T_1a2d8aba_f498_11e9_a5fe_008cfafbe83erow3_col53\" class=\"data row3 col53\" >XGBoost_grid_1_AutoML_20191022_050001_model_27</td>\n",
       "                        <td id=\"T_1a2d8aba_f498_11e9_a5fe_008cfafbe83erow3_col54\" class=\"data row3 col54\" >XGBoost_grid_1_AutoML_20191022_050001_model_4</td>\n",
       "                        <td id=\"T_1a2d8aba_f498_11e9_a5fe_008cfafbe83erow3_col55\" class=\"data row3 col55\" >DeepLearning_grid_1_AutoML_20191022_050001_model_12</td>\n",
       "                        <td id=\"T_1a2d8aba_f498_11e9_a5fe_008cfafbe83erow3_col56\" class=\"data row3 col56\" >XGBoost_grid_1_AutoML_20191022_050001_model_2</td>\n",
       "                        <td id=\"T_1a2d8aba_f498_11e9_a5fe_008cfafbe83erow3_col57\" class=\"data row3 col57\" >GBM_grid_1_AutoML_20191022_050001_model_29</td>\n",
       "                        <td id=\"T_1a2d8aba_f498_11e9_a5fe_008cfafbe83erow3_col58\" class=\"data row3 col58\" >GBM_grid_1_AutoML_20191022_050001_model_28</td>\n",
       "                        <td id=\"T_1a2d8aba_f498_11e9_a5fe_008cfafbe83erow3_col59\" class=\"data row3 col59\" >XGBoost_grid_1_AutoML_20191022_050001_model_28</td>\n",
       "                        <td id=\"T_1a2d8aba_f498_11e9_a5fe_008cfafbe83erow3_col60\" class=\"data row3 col60\" >XGBoost_grid_1_AutoML_20191022_050001_model_29</td>\n",
       "                        <td id=\"T_1a2d8aba_f498_11e9_a5fe_008cfafbe83erow3_col61\" class=\"data row3 col61\" >XGBoost_grid_1_AutoML_20191022_050001_model_3</td>\n",
       "                        <td id=\"T_1a2d8aba_f498_11e9_a5fe_008cfafbe83erow3_col62\" class=\"data row3 col62\" >XGBoost_grid_1_AutoML_20191022_050001_model_23</td>\n",
       "                        <td id=\"T_1a2d8aba_f498_11e9_a5fe_008cfafbe83erow3_col63\" class=\"data row3 col63\" >XGBoost_grid_1_AutoML_20191022_050001_model_7</td>\n",
       "                        <td id=\"T_1a2d8aba_f498_11e9_a5fe_008cfafbe83erow3_col64\" class=\"data row3 col64\" >XGBoost_grid_1_AutoML_20191022_050001_model_19</td>\n",
       "                        <td id=\"T_1a2d8aba_f498_11e9_a5fe_008cfafbe83erow3_col65\" class=\"data row3 col65\" >GBM_grid_1_AutoML_20191022_050001_model_25</td>\n",
       "                        <td id=\"T_1a2d8aba_f498_11e9_a5fe_008cfafbe83erow3_col66\" class=\"data row3 col66\" >GBM_grid_1_AutoML_20191022_050001_model_21</td>\n",
       "                        <td id=\"T_1a2d8aba_f498_11e9_a5fe_008cfafbe83erow3_col67\" class=\"data row3 col67\" >XGBoost_2_AutoML_20191022_050001</td>\n",
       "                        <td id=\"T_1a2d8aba_f498_11e9_a5fe_008cfafbe83erow3_col68\" class=\"data row3 col68\" >GBM_grid_1_AutoML_20191022_050001_model_30</td>\n",
       "                        <td id=\"T_1a2d8aba_f498_11e9_a5fe_008cfafbe83erow3_col69\" class=\"data row3 col69\" >GBM_grid_1_AutoML_20191022_050001_model_7</td>\n",
       "                        <td id=\"T_1a2d8aba_f498_11e9_a5fe_008cfafbe83erow3_col70\" class=\"data row3 col70\" >GBM_grid_1_AutoML_20191022_050001_model_23</td>\n",
       "                        <td id=\"T_1a2d8aba_f498_11e9_a5fe_008cfafbe83erow3_col71\" class=\"data row3 col71\" >XGBoost_grid_1_AutoML_20191022_050001_model_5</td>\n",
       "                        <td id=\"T_1a2d8aba_f498_11e9_a5fe_008cfafbe83erow3_col72\" class=\"data row3 col72\" >XGBoost_grid_1_AutoML_20191022_050001_model_22</td>\n",
       "                        <td id=\"T_1a2d8aba_f498_11e9_a5fe_008cfafbe83erow3_col73\" class=\"data row3 col73\" >XGBoost_grid_1_AutoML_20191022_050001_model_30</td>\n",
       "                        <td id=\"T_1a2d8aba_f498_11e9_a5fe_008cfafbe83erow3_col74\" class=\"data row3 col74\" >XGBoost_grid_1_AutoML_20191022_050001_model_12</td>\n",
       "                        <td id=\"T_1a2d8aba_f498_11e9_a5fe_008cfafbe83erow3_col75\" class=\"data row3 col75\" >GBM_grid_1_AutoML_20191022_050001_model_5</td>\n",
       "                        <td id=\"T_1a2d8aba_f498_11e9_a5fe_008cfafbe83erow3_col76\" class=\"data row3 col76\" >GBM_grid_1_AutoML_20191022_050001_model_33</td>\n",
       "                        <td id=\"T_1a2d8aba_f498_11e9_a5fe_008cfafbe83erow3_col77\" class=\"data row3 col77\" >XGBoost_grid_1_AutoML_20191022_050001_model_11</td>\n",
       "                        <td id=\"T_1a2d8aba_f498_11e9_a5fe_008cfafbe83erow3_col78\" class=\"data row3 col78\" >XGBoost_grid_1_AutoML_20191022_050001_model_6</td>\n",
       "                        <td id=\"T_1a2d8aba_f498_11e9_a5fe_008cfafbe83erow3_col79\" class=\"data row3 col79\" >XGBoost_grid_1_AutoML_20191022_050001_model_1</td>\n",
       "                        <td id=\"T_1a2d8aba_f498_11e9_a5fe_008cfafbe83erow3_col80\" class=\"data row3 col80\" >XGBoost_grid_1_AutoML_20191022_050001_model_14</td>\n",
       "                        <td id=\"T_1a2d8aba_f498_11e9_a5fe_008cfafbe83erow3_col81\" class=\"data row3 col81\" >XGBoost_grid_1_AutoML_20191022_050001_model_24</td>\n",
       "                        <td id=\"T_1a2d8aba_f498_11e9_a5fe_008cfafbe83erow3_col82\" class=\"data row3 col82\" >XGBoost_grid_1_AutoML_20191022_050001_model_10</td>\n",
       "                        <td id=\"T_1a2d8aba_f498_11e9_a5fe_008cfafbe83erow3_col83\" class=\"data row3 col83\" >GBM_grid_1_AutoML_20191022_050001_model_4</td>\n",
       "                        <td id=\"T_1a2d8aba_f498_11e9_a5fe_008cfafbe83erow3_col84\" class=\"data row3 col84\" >XGBoost_grid_1_AutoML_20191022_050001_model_16</td>\n",
       "                        <td id=\"T_1a2d8aba_f498_11e9_a5fe_008cfafbe83erow3_col85\" class=\"data row3 col85\" >XGBoost_grid_1_AutoML_20191022_050001_model_9</td>\n",
       "                        <td id=\"T_1a2d8aba_f498_11e9_a5fe_008cfafbe83erow3_col86\" class=\"data row3 col86\" >GBM_grid_1_AutoML_20191022_050001_model_35</td>\n",
       "                        <td id=\"T_1a2d8aba_f498_11e9_a5fe_008cfafbe83erow3_col87\" class=\"data row3 col87\" >GBM_grid_1_AutoML_20191022_050001_model_34</td>\n",
       "                        <td id=\"T_1a2d8aba_f498_11e9_a5fe_008cfafbe83erow3_col88\" class=\"data row3 col88\" >DeepLearning_1_AutoML_20191022_050001</td>\n",
       "                        <td id=\"T_1a2d8aba_f498_11e9_a5fe_008cfafbe83erow3_col89\" class=\"data row3 col89\" >GBM_grid_1_AutoML_20191022_050001_model_2</td>\n",
       "                        <td id=\"T_1a2d8aba_f498_11e9_a5fe_008cfafbe83erow3_col90\" class=\"data row3 col90\" >GBM_grid_1_AutoML_20191022_050001_model_22</td>\n",
       "                        <td id=\"T_1a2d8aba_f498_11e9_a5fe_008cfafbe83erow3_col91\" class=\"data row3 col91\" >nan</td>\n",
       "                        <td id=\"T_1a2d8aba_f498_11e9_a5fe_008cfafbe83erow3_col92\" class=\"data row3 col92\" >nan</td>\n",
       "                        <td id=\"T_1a2d8aba_f498_11e9_a5fe_008cfafbe83erow3_col93\" class=\"data row3 col93\" >nan</td>\n",
       "            </tr>\n",
       "            <tr>\n",
       "                                <td id=\"T_1a2d8aba_f498_11e9_a5fe_008cfafbe83erow4_col0\" class=\"data row4 col0\" >48</td>\n",
       "                        <td id=\"T_1a2d8aba_f498_11e9_a5fe_008cfafbe83erow4_col1\" class=\"data row4 col1\" >StackedEnsemble_AllModels_AutoML_20191022_050402</td>\n",
       "                        <td id=\"T_1a2d8aba_f498_11e9_a5fe_008cfafbe83erow4_col2\" class=\"data row4 col2\" >GBM_grid_1_AutoML_20191022_050402_model_31</td>\n",
       "                        <td id=\"T_1a2d8aba_f498_11e9_a5fe_008cfafbe83erow4_col3\" class=\"data row4 col3\" >DeepLearning_grid_1_AutoML_20191022_050402_model_11</td>\n",
       "                        <td id=\"T_1a2d8aba_f498_11e9_a5fe_008cfafbe83erow4_col4\" class=\"data row4 col4\" >DeepLearning_grid_1_AutoML_20191022_050402_model_8</td>\n",
       "                        <td id=\"T_1a2d8aba_f498_11e9_a5fe_008cfafbe83erow4_col5\" class=\"data row4 col5\" >GBM_grid_1_AutoML_20191022_050402_model_18</td>\n",
       "                        <td id=\"T_1a2d8aba_f498_11e9_a5fe_008cfafbe83erow4_col6\" class=\"data row4 col6\" >DeepLearning_grid_1_AutoML_20191022_050402_model_2</td>\n",
       "                        <td id=\"T_1a2d8aba_f498_11e9_a5fe_008cfafbe83erow4_col7\" class=\"data row4 col7\" >GBM_grid_1_AutoML_20191022_050402_model_19</td>\n",
       "                        <td id=\"T_1a2d8aba_f498_11e9_a5fe_008cfafbe83erow4_col8\" class=\"data row4 col8\" >DeepLearning_grid_1_AutoML_20191022_050402_model_1</td>\n",
       "                        <td id=\"T_1a2d8aba_f498_11e9_a5fe_008cfafbe83erow4_col9\" class=\"data row4 col9\" >DeepLearning_grid_1_AutoML_20191022_050402_model_7</td>\n",
       "                        <td id=\"T_1a2d8aba_f498_11e9_a5fe_008cfafbe83erow4_col10\" class=\"data row4 col10\" >DeepLearning_grid_1_AutoML_20191022_050402_model_3</td>\n",
       "                        <td id=\"T_1a2d8aba_f498_11e9_a5fe_008cfafbe83erow4_col11\" class=\"data row4 col11\" >XGBoost_grid_1_AutoML_20191022_050402_model_13</td>\n",
       "                        <td id=\"T_1a2d8aba_f498_11e9_a5fe_008cfafbe83erow4_col12\" class=\"data row4 col12\" >GBM_grid_1_AutoML_20191022_050402_model_15</td>\n",
       "                        <td id=\"T_1a2d8aba_f498_11e9_a5fe_008cfafbe83erow4_col13\" class=\"data row4 col13\" >GBM_2_AutoML_20191022_050402</td>\n",
       "                        <td id=\"T_1a2d8aba_f498_11e9_a5fe_008cfafbe83erow4_col14\" class=\"data row4 col14\" >GBM_grid_1_AutoML_20191022_050402_model_3</td>\n",
       "                        <td id=\"T_1a2d8aba_f498_11e9_a5fe_008cfafbe83erow4_col15\" class=\"data row4 col15\" >DeepLearning_grid_1_AutoML_20191022_050402_model_10</td>\n",
       "                        <td id=\"T_1a2d8aba_f498_11e9_a5fe_008cfafbe83erow4_col16\" class=\"data row4 col16\" >GBM_3_AutoML_20191022_050402</td>\n",
       "                        <td id=\"T_1a2d8aba_f498_11e9_a5fe_008cfafbe83erow4_col17\" class=\"data row4 col17\" >GBM_grid_1_AutoML_20191022_050402_model_26</td>\n",
       "                        <td id=\"T_1a2d8aba_f498_11e9_a5fe_008cfafbe83erow4_col18\" class=\"data row4 col18\" >GBM_grid_1_AutoML_20191022_050402_model_32</td>\n",
       "                        <td id=\"T_1a2d8aba_f498_11e9_a5fe_008cfafbe83erow4_col19\" class=\"data row4 col19\" >GBM_grid_1_AutoML_20191022_050402_model_6</td>\n",
       "                        <td id=\"T_1a2d8aba_f498_11e9_a5fe_008cfafbe83erow4_col20\" class=\"data row4 col20\" >GBM_grid_1_AutoML_20191022_050402_model_27</td>\n",
       "                        <td id=\"T_1a2d8aba_f498_11e9_a5fe_008cfafbe83erow4_col21\" class=\"data row4 col21\" >GBM_grid_1_AutoML_20191022_050402_model_20</td>\n",
       "                        <td id=\"T_1a2d8aba_f498_11e9_a5fe_008cfafbe83erow4_col22\" class=\"data row4 col22\" >GBM_5_AutoML_20191022_050402</td>\n",
       "                        <td id=\"T_1a2d8aba_f498_11e9_a5fe_008cfafbe83erow4_col23\" class=\"data row4 col23\" >GBM_grid_1_AutoML_20191022_050402_model_12</td>\n",
       "                        <td id=\"T_1a2d8aba_f498_11e9_a5fe_008cfafbe83erow4_col24\" class=\"data row4 col24\" >GBM_4_AutoML_20191022_050402</td>\n",
       "                        <td id=\"T_1a2d8aba_f498_11e9_a5fe_008cfafbe83erow4_col25\" class=\"data row4 col25\" >DeepLearning_grid_1_AutoML_20191022_050402_model_5</td>\n",
       "                        <td id=\"T_1a2d8aba_f498_11e9_a5fe_008cfafbe83erow4_col26\" class=\"data row4 col26\" >GLM_grid_1_AutoML_20191022_050402_model_1</td>\n",
       "                        <td id=\"T_1a2d8aba_f498_11e9_a5fe_008cfafbe83erow4_col27\" class=\"data row4 col27\" >GBM_grid_1_AutoML_20191022_050402_model_17</td>\n",
       "                        <td id=\"T_1a2d8aba_f498_11e9_a5fe_008cfafbe83erow4_col28\" class=\"data row4 col28\" >XRT_1_AutoML_20191022_050402</td>\n",
       "                        <td id=\"T_1a2d8aba_f498_11e9_a5fe_008cfafbe83erow4_col29\" class=\"data row4 col29\" >DeepLearning_grid_1_AutoML_20191022_050402_model_4</td>\n",
       "                        <td id=\"T_1a2d8aba_f498_11e9_a5fe_008cfafbe83erow4_col30\" class=\"data row4 col30\" >GBM_grid_1_AutoML_20191022_050402_model_1</td>\n",
       "                        <td id=\"T_1a2d8aba_f498_11e9_a5fe_008cfafbe83erow4_col31\" class=\"data row4 col31\" >GBM_grid_1_AutoML_20191022_050402_model_10</td>\n",
       "                        <td id=\"T_1a2d8aba_f498_11e9_a5fe_008cfafbe83erow4_col32\" class=\"data row4 col32\" >XGBoost_grid_1_AutoML_20191022_050402_model_8</td>\n",
       "                        <td id=\"T_1a2d8aba_f498_11e9_a5fe_008cfafbe83erow4_col33\" class=\"data row4 col33\" >GBM_1_AutoML_20191022_050402</td>\n",
       "                        <td id=\"T_1a2d8aba_f498_11e9_a5fe_008cfafbe83erow4_col34\" class=\"data row4 col34\" >GBM_grid_1_AutoML_20191022_050402_model_14</td>\n",
       "                        <td id=\"T_1a2d8aba_f498_11e9_a5fe_008cfafbe83erow4_col35\" class=\"data row4 col35\" >GBM_grid_1_AutoML_20191022_050402_model_11</td>\n",
       "                        <td id=\"T_1a2d8aba_f498_11e9_a5fe_008cfafbe83erow4_col36\" class=\"data row4 col36\" >GBM_grid_1_AutoML_20191022_050402_model_16</td>\n",
       "                        <td id=\"T_1a2d8aba_f498_11e9_a5fe_008cfafbe83erow4_col37\" class=\"data row4 col37\" >GBM_grid_1_AutoML_20191022_050402_model_24</td>\n",
       "                        <td id=\"T_1a2d8aba_f498_11e9_a5fe_008cfafbe83erow4_col38\" class=\"data row4 col38\" >DRF_1_AutoML_20191022_050402</td>\n",
       "                        <td id=\"T_1a2d8aba_f498_11e9_a5fe_008cfafbe83erow4_col39\" class=\"data row4 col39\" >XGBoost_grid_1_AutoML_20191022_050402_model_17</td>\n",
       "                        <td id=\"T_1a2d8aba_f498_11e9_a5fe_008cfafbe83erow4_col40\" class=\"data row4 col40\" >GBM_grid_1_AutoML_20191022_050402_model_13</td>\n",
       "                        <td id=\"T_1a2d8aba_f498_11e9_a5fe_008cfafbe83erow4_col41\" class=\"data row4 col41\" >XGBoost_3_AutoML_20191022_050402</td>\n",
       "                        <td id=\"T_1a2d8aba_f498_11e9_a5fe_008cfafbe83erow4_col42\" class=\"data row4 col42\" >DeepLearning_grid_1_AutoML_20191022_050402_model_12</td>\n",
       "                        <td id=\"T_1a2d8aba_f498_11e9_a5fe_008cfafbe83erow4_col43\" class=\"data row4 col43\" >DeepLearning_grid_1_AutoML_20191022_050402_model_6</td>\n",
       "                        <td id=\"T_1a2d8aba_f498_11e9_a5fe_008cfafbe83erow4_col44\" class=\"data row4 col44\" >XGBoost_1_AutoML_20191022_050402</td>\n",
       "                        <td id=\"T_1a2d8aba_f498_11e9_a5fe_008cfafbe83erow4_col45\" class=\"data row4 col45\" >XGBoost_grid_1_AutoML_20191022_050402_model_25</td>\n",
       "                        <td id=\"T_1a2d8aba_f498_11e9_a5fe_008cfafbe83erow4_col46\" class=\"data row4 col46\" >XGBoost_grid_1_AutoML_20191022_050402_model_21</td>\n",
       "                        <td id=\"T_1a2d8aba_f498_11e9_a5fe_008cfafbe83erow4_col47\" class=\"data row4 col47\" >XGBoost_grid_1_AutoML_20191022_050402_model_18</td>\n",
       "                        <td id=\"T_1a2d8aba_f498_11e9_a5fe_008cfafbe83erow4_col48\" class=\"data row4 col48\" >XGBoost_grid_1_AutoML_20191022_050402_model_26</td>\n",
       "                        <td id=\"T_1a2d8aba_f498_11e9_a5fe_008cfafbe83erow4_col49\" class=\"data row4 col49\" >XGBoost_grid_1_AutoML_20191022_050402_model_15</td>\n",
       "                        <td id=\"T_1a2d8aba_f498_11e9_a5fe_008cfafbe83erow4_col50\" class=\"data row4 col50\" >GBM_grid_1_AutoML_20191022_050402_model_8</td>\n",
       "                        <td id=\"T_1a2d8aba_f498_11e9_a5fe_008cfafbe83erow4_col51\" class=\"data row4 col51\" >DeepLearning_grid_1_AutoML_20191022_050402_model_9</td>\n",
       "                        <td id=\"T_1a2d8aba_f498_11e9_a5fe_008cfafbe83erow4_col52\" class=\"data row4 col52\" >GBM_grid_1_AutoML_20191022_050402_model_9</td>\n",
       "                        <td id=\"T_1a2d8aba_f498_11e9_a5fe_008cfafbe83erow4_col53\" class=\"data row4 col53\" >XGBoost_grid_1_AutoML_20191022_050402_model_20</td>\n",
       "                        <td id=\"T_1a2d8aba_f498_11e9_a5fe_008cfafbe83erow4_col54\" class=\"data row4 col54\" >XGBoost_grid_1_AutoML_20191022_050402_model_27</td>\n",
       "                        <td id=\"T_1a2d8aba_f498_11e9_a5fe_008cfafbe83erow4_col55\" class=\"data row4 col55\" >XGBoost_grid_1_AutoML_20191022_050402_model_4</td>\n",
       "                        <td id=\"T_1a2d8aba_f498_11e9_a5fe_008cfafbe83erow4_col56\" class=\"data row4 col56\" >XGBoost_grid_1_AutoML_20191022_050402_model_2</td>\n",
       "                        <td id=\"T_1a2d8aba_f498_11e9_a5fe_008cfafbe83erow4_col57\" class=\"data row4 col57\" >GBM_grid_1_AutoML_20191022_050402_model_29</td>\n",
       "                        <td id=\"T_1a2d8aba_f498_11e9_a5fe_008cfafbe83erow4_col58\" class=\"data row4 col58\" >GBM_grid_1_AutoML_20191022_050402_model_28</td>\n",
       "                        <td id=\"T_1a2d8aba_f498_11e9_a5fe_008cfafbe83erow4_col59\" class=\"data row4 col59\" >XGBoost_grid_1_AutoML_20191022_050402_model_28</td>\n",
       "                        <td id=\"T_1a2d8aba_f498_11e9_a5fe_008cfafbe83erow4_col60\" class=\"data row4 col60\" >XGBoost_grid_1_AutoML_20191022_050402_model_29</td>\n",
       "                        <td id=\"T_1a2d8aba_f498_11e9_a5fe_008cfafbe83erow4_col61\" class=\"data row4 col61\" >XGBoost_grid_1_AutoML_20191022_050402_model_3</td>\n",
       "                        <td id=\"T_1a2d8aba_f498_11e9_a5fe_008cfafbe83erow4_col62\" class=\"data row4 col62\" >DeepLearning_grid_1_AutoML_20191022_050402_model_13</td>\n",
       "                        <td id=\"T_1a2d8aba_f498_11e9_a5fe_008cfafbe83erow4_col63\" class=\"data row4 col63\" >XGBoost_grid_1_AutoML_20191022_050402_model_23</td>\n",
       "                        <td id=\"T_1a2d8aba_f498_11e9_a5fe_008cfafbe83erow4_col64\" class=\"data row4 col64\" >XGBoost_grid_1_AutoML_20191022_050402_model_7</td>\n",
       "                        <td id=\"T_1a2d8aba_f498_11e9_a5fe_008cfafbe83erow4_col65\" class=\"data row4 col65\" >XGBoost_grid_1_AutoML_20191022_050402_model_19</td>\n",
       "                        <td id=\"T_1a2d8aba_f498_11e9_a5fe_008cfafbe83erow4_col66\" class=\"data row4 col66\" >GBM_grid_1_AutoML_20191022_050402_model_25</td>\n",
       "                        <td id=\"T_1a2d8aba_f498_11e9_a5fe_008cfafbe83erow4_col67\" class=\"data row4 col67\" >GBM_grid_1_AutoML_20191022_050402_model_21</td>\n",
       "                        <td id=\"T_1a2d8aba_f498_11e9_a5fe_008cfafbe83erow4_col68\" class=\"data row4 col68\" >XGBoost_2_AutoML_20191022_050402</td>\n",
       "                        <td id=\"T_1a2d8aba_f498_11e9_a5fe_008cfafbe83erow4_col69\" class=\"data row4 col69\" >GBM_grid_1_AutoML_20191022_050402_model_30</td>\n",
       "                        <td id=\"T_1a2d8aba_f498_11e9_a5fe_008cfafbe83erow4_col70\" class=\"data row4 col70\" >GBM_grid_1_AutoML_20191022_050402_model_7</td>\n",
       "                        <td id=\"T_1a2d8aba_f498_11e9_a5fe_008cfafbe83erow4_col71\" class=\"data row4 col71\" >GBM_grid_1_AutoML_20191022_050402_model_23</td>\n",
       "                        <td id=\"T_1a2d8aba_f498_11e9_a5fe_008cfafbe83erow4_col72\" class=\"data row4 col72\" >XGBoost_grid_1_AutoML_20191022_050402_model_30</td>\n",
       "                        <td id=\"T_1a2d8aba_f498_11e9_a5fe_008cfafbe83erow4_col73\" class=\"data row4 col73\" >XGBoost_grid_1_AutoML_20191022_050402_model_5</td>\n",
       "                        <td id=\"T_1a2d8aba_f498_11e9_a5fe_008cfafbe83erow4_col74\" class=\"data row4 col74\" >XGBoost_grid_1_AutoML_20191022_050402_model_22</td>\n",
       "                        <td id=\"T_1a2d8aba_f498_11e9_a5fe_008cfafbe83erow4_col75\" class=\"data row4 col75\" >GBM_grid_1_AutoML_20191022_050402_model_35</td>\n",
       "                        <td id=\"T_1a2d8aba_f498_11e9_a5fe_008cfafbe83erow4_col76\" class=\"data row4 col76\" >XGBoost_grid_1_AutoML_20191022_050402_model_12</td>\n",
       "                        <td id=\"T_1a2d8aba_f498_11e9_a5fe_008cfafbe83erow4_col77\" class=\"data row4 col77\" >GBM_grid_1_AutoML_20191022_050402_model_5</td>\n",
       "                        <td id=\"T_1a2d8aba_f498_11e9_a5fe_008cfafbe83erow4_col78\" class=\"data row4 col78\" >XGBoost_grid_1_AutoML_20191022_050402_model_11</td>\n",
       "                        <td id=\"T_1a2d8aba_f498_11e9_a5fe_008cfafbe83erow4_col79\" class=\"data row4 col79\" >XGBoost_grid_1_AutoML_20191022_050402_model_6</td>\n",
       "                        <td id=\"T_1a2d8aba_f498_11e9_a5fe_008cfafbe83erow4_col80\" class=\"data row4 col80\" >XGBoost_grid_1_AutoML_20191022_050402_model_1</td>\n",
       "                        <td id=\"T_1a2d8aba_f498_11e9_a5fe_008cfafbe83erow4_col81\" class=\"data row4 col81\" >GBM_grid_1_AutoML_20191022_050402_model_33</td>\n",
       "                        <td id=\"T_1a2d8aba_f498_11e9_a5fe_008cfafbe83erow4_col82\" class=\"data row4 col82\" >XGBoost_grid_1_AutoML_20191022_050402_model_14</td>\n",
       "                        <td id=\"T_1a2d8aba_f498_11e9_a5fe_008cfafbe83erow4_col83\" class=\"data row4 col83\" >XGBoost_grid_1_AutoML_20191022_050402_model_24</td>\n",
       "                        <td id=\"T_1a2d8aba_f498_11e9_a5fe_008cfafbe83erow4_col84\" class=\"data row4 col84\" >XGBoost_grid_1_AutoML_20191022_050402_model_10</td>\n",
       "                        <td id=\"T_1a2d8aba_f498_11e9_a5fe_008cfafbe83erow4_col85\" class=\"data row4 col85\" >GBM_grid_1_AutoML_20191022_050402_model_4</td>\n",
       "                        <td id=\"T_1a2d8aba_f498_11e9_a5fe_008cfafbe83erow4_col86\" class=\"data row4 col86\" >XGBoost_grid_1_AutoML_20191022_050402_model_16</td>\n",
       "                        <td id=\"T_1a2d8aba_f498_11e9_a5fe_008cfafbe83erow4_col87\" class=\"data row4 col87\" >XGBoost_grid_1_AutoML_20191022_050402_model_9</td>\n",
       "                        <td id=\"T_1a2d8aba_f498_11e9_a5fe_008cfafbe83erow4_col88\" class=\"data row4 col88\" >GBM_grid_1_AutoML_20191022_050402_model_34</td>\n",
       "                        <td id=\"T_1a2d8aba_f498_11e9_a5fe_008cfafbe83erow4_col89\" class=\"data row4 col89\" >GBM_grid_1_AutoML_20191022_050402_model_2</td>\n",
       "                        <td id=\"T_1a2d8aba_f498_11e9_a5fe_008cfafbe83erow4_col90\" class=\"data row4 col90\" >DeepLearning_1_AutoML_20191022_050402</td>\n",
       "                        <td id=\"T_1a2d8aba_f498_11e9_a5fe_008cfafbe83erow4_col91\" class=\"data row4 col91\" >GBM_grid_1_AutoML_20191022_050402_model_36</td>\n",
       "                        <td id=\"T_1a2d8aba_f498_11e9_a5fe_008cfafbe83erow4_col92\" class=\"data row4 col92\" >XGBoost_grid_1_AutoML_20191022_050402_model_31</td>\n",
       "                        <td id=\"T_1a2d8aba_f498_11e9_a5fe_008cfafbe83erow4_col93\" class=\"data row4 col93\" >GBM_grid_1_AutoML_20191022_050402_model_22</td>\n",
       "            </tr>\n",
       "            <tr>\n",
       "                                <td id=\"T_1a2d8aba_f498_11e9_a5fe_008cfafbe83erow5_col0\" class=\"data row5 col0\" >60</td>\n",
       "                        <td id=\"T_1a2d8aba_f498_11e9_a5fe_008cfafbe83erow5_col1\" class=\"data row5 col1\" >StackedEnsemble_AllModels_AutoML_20191022_064034</td>\n",
       "                        <td id=\"T_1a2d8aba_f498_11e9_a5fe_008cfafbe83erow5_col2\" class=\"data row5 col2\" >DeepLearning_grid_1_AutoML_20191022_064034_model_2</td>\n",
       "                        <td id=\"T_1a2d8aba_f498_11e9_a5fe_008cfafbe83erow5_col3\" class=\"data row5 col3\" >DeepLearning_grid_1_AutoML_20191022_064034_model_8</td>\n",
       "                        <td id=\"T_1a2d8aba_f498_11e9_a5fe_008cfafbe83erow5_col4\" class=\"data row5 col4\" >DeepLearning_grid_1_AutoML_20191022_064034_model_11</td>\n",
       "                        <td id=\"T_1a2d8aba_f498_11e9_a5fe_008cfafbe83erow5_col5\" class=\"data row5 col5\" >GBM_grid_1_AutoML_20191022_064034_model_18</td>\n",
       "                        <td id=\"T_1a2d8aba_f498_11e9_a5fe_008cfafbe83erow5_col6\" class=\"data row5 col6\" >GBM_grid_1_AutoML_20191022_064034_model_19</td>\n",
       "                        <td id=\"T_1a2d8aba_f498_11e9_a5fe_008cfafbe83erow5_col7\" class=\"data row5 col7\" >DeepLearning_grid_1_AutoML_20191022_064034_model_1</td>\n",
       "                        <td id=\"T_1a2d8aba_f498_11e9_a5fe_008cfafbe83erow5_col8\" class=\"data row5 col8\" >DeepLearning_grid_1_AutoML_20191022_064034_model_7</td>\n",
       "                        <td id=\"T_1a2d8aba_f498_11e9_a5fe_008cfafbe83erow5_col9\" class=\"data row5 col9\" >XGBoost_grid_1_AutoML_20191022_064034_model_13</td>\n",
       "                        <td id=\"T_1a2d8aba_f498_11e9_a5fe_008cfafbe83erow5_col10\" class=\"data row5 col10\" >GBM_grid_1_AutoML_20191022_064034_model_15</td>\n",
       "                        <td id=\"T_1a2d8aba_f498_11e9_a5fe_008cfafbe83erow5_col11\" class=\"data row5 col11\" >GBM_2_AutoML_20191022_064034</td>\n",
       "                        <td id=\"T_1a2d8aba_f498_11e9_a5fe_008cfafbe83erow5_col12\" class=\"data row5 col12\" >GBM_grid_1_AutoML_20191022_064034_model_3</td>\n",
       "                        <td id=\"T_1a2d8aba_f498_11e9_a5fe_008cfafbe83erow5_col13\" class=\"data row5 col13\" >GBM_3_AutoML_20191022_064034</td>\n",
       "                        <td id=\"T_1a2d8aba_f498_11e9_a5fe_008cfafbe83erow5_col14\" class=\"data row5 col14\" >GBM_grid_1_AutoML_20191022_064034_model_6</td>\n",
       "                        <td id=\"T_1a2d8aba_f498_11e9_a5fe_008cfafbe83erow5_col15\" class=\"data row5 col15\" >GBM_grid_1_AutoML_20191022_064034_model_20</td>\n",
       "                        <td id=\"T_1a2d8aba_f498_11e9_a5fe_008cfafbe83erow5_col16\" class=\"data row5 col16\" >GBM_5_AutoML_20191022_064034</td>\n",
       "                        <td id=\"T_1a2d8aba_f498_11e9_a5fe_008cfafbe83erow5_col17\" class=\"data row5 col17\" >DeepLearning_grid_1_AutoML_20191022_064034_model_10</td>\n",
       "                        <td id=\"T_1a2d8aba_f498_11e9_a5fe_008cfafbe83erow5_col18\" class=\"data row5 col18\" >GBM_grid_1_AutoML_20191022_064034_model_12</td>\n",
       "                        <td id=\"T_1a2d8aba_f498_11e9_a5fe_008cfafbe83erow5_col19\" class=\"data row5 col19\" >GBM_4_AutoML_20191022_064034</td>\n",
       "                        <td id=\"T_1a2d8aba_f498_11e9_a5fe_008cfafbe83erow5_col20\" class=\"data row5 col20\" >DeepLearning_grid_1_AutoML_20191022_064034_model_3</td>\n",
       "                        <td id=\"T_1a2d8aba_f498_11e9_a5fe_008cfafbe83erow5_col21\" class=\"data row5 col21\" >GLM_grid_1_AutoML_20191022_064034_model_1</td>\n",
       "                        <td id=\"T_1a2d8aba_f498_11e9_a5fe_008cfafbe83erow5_col22\" class=\"data row5 col22\" >GBM_grid_1_AutoML_20191022_064034_model_17</td>\n",
       "                        <td id=\"T_1a2d8aba_f498_11e9_a5fe_008cfafbe83erow5_col23\" class=\"data row5 col23\" >XRT_1_AutoML_20191022_064034</td>\n",
       "                        <td id=\"T_1a2d8aba_f498_11e9_a5fe_008cfafbe83erow5_col24\" class=\"data row5 col24\" >GBM_grid_1_AutoML_20191022_064034_model_1</td>\n",
       "                        <td id=\"T_1a2d8aba_f498_11e9_a5fe_008cfafbe83erow5_col25\" class=\"data row5 col25\" >GBM_grid_1_AutoML_20191022_064034_model_10</td>\n",
       "                        <td id=\"T_1a2d8aba_f498_11e9_a5fe_008cfafbe83erow5_col26\" class=\"data row5 col26\" >XGBoost_grid_1_AutoML_20191022_064034_model_8</td>\n",
       "                        <td id=\"T_1a2d8aba_f498_11e9_a5fe_008cfafbe83erow5_col27\" class=\"data row5 col27\" >GBM_1_AutoML_20191022_064034</td>\n",
       "                        <td id=\"T_1a2d8aba_f498_11e9_a5fe_008cfafbe83erow5_col28\" class=\"data row5 col28\" >GBM_grid_1_AutoML_20191022_064034_model_14</td>\n",
       "                        <td id=\"T_1a2d8aba_f498_11e9_a5fe_008cfafbe83erow5_col29\" class=\"data row5 col29\" >GBM_grid_1_AutoML_20191022_064034_model_11</td>\n",
       "                        <td id=\"T_1a2d8aba_f498_11e9_a5fe_008cfafbe83erow5_col30\" class=\"data row5 col30\" >GBM_grid_1_AutoML_20191022_064034_model_16</td>\n",
       "                        <td id=\"T_1a2d8aba_f498_11e9_a5fe_008cfafbe83erow5_col31\" class=\"data row5 col31\" >DRF_1_AutoML_20191022_064034</td>\n",
       "                        <td id=\"T_1a2d8aba_f498_11e9_a5fe_008cfafbe83erow5_col32\" class=\"data row5 col32\" >XGBoost_grid_1_AutoML_20191022_064034_model_17</td>\n",
       "                        <td id=\"T_1a2d8aba_f498_11e9_a5fe_008cfafbe83erow5_col33\" class=\"data row5 col33\" >GBM_grid_1_AutoML_20191022_064034_model_13</td>\n",
       "                        <td id=\"T_1a2d8aba_f498_11e9_a5fe_008cfafbe83erow5_col34\" class=\"data row5 col34\" >XGBoost_3_AutoML_20191022_064034</td>\n",
       "                        <td id=\"T_1a2d8aba_f498_11e9_a5fe_008cfafbe83erow5_col35\" class=\"data row5 col35\" >DeepLearning_grid_1_AutoML_20191022_064034_model_6</td>\n",
       "                        <td id=\"T_1a2d8aba_f498_11e9_a5fe_008cfafbe83erow5_col36\" class=\"data row5 col36\" >XGBoost_1_AutoML_20191022_064034</td>\n",
       "                        <td id=\"T_1a2d8aba_f498_11e9_a5fe_008cfafbe83erow5_col37\" class=\"data row5 col37\" >XGBoost_grid_1_AutoML_20191022_064034_model_25</td>\n",
       "                        <td id=\"T_1a2d8aba_f498_11e9_a5fe_008cfafbe83erow5_col38\" class=\"data row5 col38\" >XGBoost_grid_1_AutoML_20191022_064034_model_21</td>\n",
       "                        <td id=\"T_1a2d8aba_f498_11e9_a5fe_008cfafbe83erow5_col39\" class=\"data row5 col39\" >XGBoost_grid_1_AutoML_20191022_064034_model_18</td>\n",
       "                        <td id=\"T_1a2d8aba_f498_11e9_a5fe_008cfafbe83erow5_col40\" class=\"data row5 col40\" >XGBoost_grid_1_AutoML_20191022_064034_model_26</td>\n",
       "                        <td id=\"T_1a2d8aba_f498_11e9_a5fe_008cfafbe83erow5_col41\" class=\"data row5 col41\" >XGBoost_grid_1_AutoML_20191022_064034_model_15</td>\n",
       "                        <td id=\"T_1a2d8aba_f498_11e9_a5fe_008cfafbe83erow5_col42\" class=\"data row5 col42\" >DeepLearning_grid_1_AutoML_20191022_064034_model_5</td>\n",
       "                        <td id=\"T_1a2d8aba_f498_11e9_a5fe_008cfafbe83erow5_col43\" class=\"data row5 col43\" >DeepLearning_grid_1_AutoML_20191022_064034_model_4</td>\n",
       "                        <td id=\"T_1a2d8aba_f498_11e9_a5fe_008cfafbe83erow5_col44\" class=\"data row5 col44\" >GBM_grid_1_AutoML_20191022_064034_model_8</td>\n",
       "                        <td id=\"T_1a2d8aba_f498_11e9_a5fe_008cfafbe83erow5_col45\" class=\"data row5 col45\" >GBM_grid_1_AutoML_20191022_064034_model_9</td>\n",
       "                        <td id=\"T_1a2d8aba_f498_11e9_a5fe_008cfafbe83erow5_col46\" class=\"data row5 col46\" >GBM_grid_1_AutoML_20191022_064034_model_24</td>\n",
       "                        <td id=\"T_1a2d8aba_f498_11e9_a5fe_008cfafbe83erow5_col47\" class=\"data row5 col47\" >XGBoost_grid_1_AutoML_20191022_064034_model_20</td>\n",
       "                        <td id=\"T_1a2d8aba_f498_11e9_a5fe_008cfafbe83erow5_col48\" class=\"data row5 col48\" >XGBoost_grid_1_AutoML_20191022_064034_model_27</td>\n",
       "                        <td id=\"T_1a2d8aba_f498_11e9_a5fe_008cfafbe83erow5_col49\" class=\"data row5 col49\" >XGBoost_grid_1_AutoML_20191022_064034_model_4</td>\n",
       "                        <td id=\"T_1a2d8aba_f498_11e9_a5fe_008cfafbe83erow5_col50\" class=\"data row5 col50\" >XGBoost_grid_1_AutoML_20191022_064034_model_2</td>\n",
       "                        <td id=\"T_1a2d8aba_f498_11e9_a5fe_008cfafbe83erow5_col51\" class=\"data row5 col51\" >GBM_grid_1_AutoML_20191022_064034_model_26</td>\n",
       "                        <td id=\"T_1a2d8aba_f498_11e9_a5fe_008cfafbe83erow5_col52\" class=\"data row5 col52\" >XGBoost_grid_1_AutoML_20191022_064034_model_3</td>\n",
       "                        <td id=\"T_1a2d8aba_f498_11e9_a5fe_008cfafbe83erow5_col53\" class=\"data row5 col53\" >DeepLearning_grid_1_AutoML_20191022_064034_model_9</td>\n",
       "                        <td id=\"T_1a2d8aba_f498_11e9_a5fe_008cfafbe83erow5_col54\" class=\"data row5 col54\" >DeepLearning_grid_1_AutoML_20191022_064034_model_12</td>\n",
       "                        <td id=\"T_1a2d8aba_f498_11e9_a5fe_008cfafbe83erow5_col55\" class=\"data row5 col55\" >XGBoost_grid_1_AutoML_20191022_064034_model_23</td>\n",
       "                        <td id=\"T_1a2d8aba_f498_11e9_a5fe_008cfafbe83erow5_col56\" class=\"data row5 col56\" >XGBoost_grid_1_AutoML_20191022_064034_model_7</td>\n",
       "                        <td id=\"T_1a2d8aba_f498_11e9_a5fe_008cfafbe83erow5_col57\" class=\"data row5 col57\" >XGBoost_grid_1_AutoML_20191022_064034_model_19</td>\n",
       "                        <td id=\"T_1a2d8aba_f498_11e9_a5fe_008cfafbe83erow5_col58\" class=\"data row5 col58\" >GBM_grid_1_AutoML_20191022_064034_model_21</td>\n",
       "                        <td id=\"T_1a2d8aba_f498_11e9_a5fe_008cfafbe83erow5_col59\" class=\"data row5 col59\" >XGBoost_2_AutoML_20191022_064034</td>\n",
       "                        <td id=\"T_1a2d8aba_f498_11e9_a5fe_008cfafbe83erow5_col60\" class=\"data row5 col60\" >GBM_grid_1_AutoML_20191022_064034_model_7</td>\n",
       "                        <td id=\"T_1a2d8aba_f498_11e9_a5fe_008cfafbe83erow5_col61\" class=\"data row5 col61\" >GBM_grid_1_AutoML_20191022_064034_model_23</td>\n",
       "                        <td id=\"T_1a2d8aba_f498_11e9_a5fe_008cfafbe83erow5_col62\" class=\"data row5 col62\" >XGBoost_grid_1_AutoML_20191022_064034_model_5</td>\n",
       "                        <td id=\"T_1a2d8aba_f498_11e9_a5fe_008cfafbe83erow5_col63\" class=\"data row5 col63\" >XGBoost_grid_1_AutoML_20191022_064034_model_22</td>\n",
       "                        <td id=\"T_1a2d8aba_f498_11e9_a5fe_008cfafbe83erow5_col64\" class=\"data row5 col64\" >XGBoost_grid_1_AutoML_20191022_064034_model_12</td>\n",
       "                        <td id=\"T_1a2d8aba_f498_11e9_a5fe_008cfafbe83erow5_col65\" class=\"data row5 col65\" >GBM_grid_1_AutoML_20191022_064034_model_5</td>\n",
       "                        <td id=\"T_1a2d8aba_f498_11e9_a5fe_008cfafbe83erow5_col66\" class=\"data row5 col66\" >XGBoost_grid_1_AutoML_20191022_064034_model_11</td>\n",
       "                        <td id=\"T_1a2d8aba_f498_11e9_a5fe_008cfafbe83erow5_col67\" class=\"data row5 col67\" >XGBoost_grid_1_AutoML_20191022_064034_model_6</td>\n",
       "                        <td id=\"T_1a2d8aba_f498_11e9_a5fe_008cfafbe83erow5_col68\" class=\"data row5 col68\" >XGBoost_grid_1_AutoML_20191022_064034_model_1</td>\n",
       "                        <td id=\"T_1a2d8aba_f498_11e9_a5fe_008cfafbe83erow5_col69\" class=\"data row5 col69\" >XGBoost_grid_1_AutoML_20191022_064034_model_28</td>\n",
       "                        <td id=\"T_1a2d8aba_f498_11e9_a5fe_008cfafbe83erow5_col70\" class=\"data row5 col70\" >XGBoost_grid_1_AutoML_20191022_064034_model_14</td>\n",
       "                        <td id=\"T_1a2d8aba_f498_11e9_a5fe_008cfafbe83erow5_col71\" class=\"data row5 col71\" >XGBoost_grid_1_AutoML_20191022_064034_model_24</td>\n",
       "                        <td id=\"T_1a2d8aba_f498_11e9_a5fe_008cfafbe83erow5_col72\" class=\"data row5 col72\" >GBM_grid_1_AutoML_20191022_064034_model_25</td>\n",
       "                        <td id=\"T_1a2d8aba_f498_11e9_a5fe_008cfafbe83erow5_col73\" class=\"data row5 col73\" >XGBoost_grid_1_AutoML_20191022_064034_model_10</td>\n",
       "                        <td id=\"T_1a2d8aba_f498_11e9_a5fe_008cfafbe83erow5_col74\" class=\"data row5 col74\" >GBM_grid_1_AutoML_20191022_064034_model_4</td>\n",
       "                        <td id=\"T_1a2d8aba_f498_11e9_a5fe_008cfafbe83erow5_col75\" class=\"data row5 col75\" >XGBoost_grid_1_AutoML_20191022_064034_model_16</td>\n",
       "                        <td id=\"T_1a2d8aba_f498_11e9_a5fe_008cfafbe83erow5_col76\" class=\"data row5 col76\" >XGBoost_grid_1_AutoML_20191022_064034_model_9</td>\n",
       "                        <td id=\"T_1a2d8aba_f498_11e9_a5fe_008cfafbe83erow5_col77\" class=\"data row5 col77\" >GBM_grid_1_AutoML_20191022_064034_model_27</td>\n",
       "                        <td id=\"T_1a2d8aba_f498_11e9_a5fe_008cfafbe83erow5_col78\" class=\"data row5 col78\" >DeepLearning_1_AutoML_20191022_064034</td>\n",
       "                        <td id=\"T_1a2d8aba_f498_11e9_a5fe_008cfafbe83erow5_col79\" class=\"data row5 col79\" >GBM_grid_1_AutoML_20191022_064034_model_2</td>\n",
       "                        <td id=\"T_1a2d8aba_f498_11e9_a5fe_008cfafbe83erow5_col80\" class=\"data row5 col80\" >XGBoost_grid_1_AutoML_20191022_064034_model_29</td>\n",
       "                        <td id=\"T_1a2d8aba_f498_11e9_a5fe_008cfafbe83erow5_col81\" class=\"data row5 col81\" >GBM_grid_1_AutoML_20191022_064034_model_28</td>\n",
       "                        <td id=\"T_1a2d8aba_f498_11e9_a5fe_008cfafbe83erow5_col82\" class=\"data row5 col82\" >GBM_grid_1_AutoML_20191022_064034_model_22</td>\n",
       "                        <td id=\"T_1a2d8aba_f498_11e9_a5fe_008cfafbe83erow5_col83\" class=\"data row5 col83\" >nan</td>\n",
       "                        <td id=\"T_1a2d8aba_f498_11e9_a5fe_008cfafbe83erow5_col84\" class=\"data row5 col84\" >nan</td>\n",
       "                        <td id=\"T_1a2d8aba_f498_11e9_a5fe_008cfafbe83erow5_col85\" class=\"data row5 col85\" >nan</td>\n",
       "                        <td id=\"T_1a2d8aba_f498_11e9_a5fe_008cfafbe83erow5_col86\" class=\"data row5 col86\" >nan</td>\n",
       "                        <td id=\"T_1a2d8aba_f498_11e9_a5fe_008cfafbe83erow5_col87\" class=\"data row5 col87\" >nan</td>\n",
       "                        <td id=\"T_1a2d8aba_f498_11e9_a5fe_008cfafbe83erow5_col88\" class=\"data row5 col88\" >nan</td>\n",
       "                        <td id=\"T_1a2d8aba_f498_11e9_a5fe_008cfafbe83erow5_col89\" class=\"data row5 col89\" >nan</td>\n",
       "                        <td id=\"T_1a2d8aba_f498_11e9_a5fe_008cfafbe83erow5_col90\" class=\"data row5 col90\" >nan</td>\n",
       "                        <td id=\"T_1a2d8aba_f498_11e9_a5fe_008cfafbe83erow5_col91\" class=\"data row5 col91\" >nan</td>\n",
       "                        <td id=\"T_1a2d8aba_f498_11e9_a5fe_008cfafbe83erow5_col92\" class=\"data row5 col92\" >nan</td>\n",
       "                        <td id=\"T_1a2d8aba_f498_11e9_a5fe_008cfafbe83erow5_col93\" class=\"data row5 col93\" >nan</td>\n",
       "            </tr>\n",
       "            <tr>\n",
       "                                <td id=\"T_1a2d8aba_f498_11e9_a5fe_008cfafbe83erow6_col0\" class=\"data row6 col0\" >72</td>\n",
       "                        <td id=\"T_1a2d8aba_f498_11e9_a5fe_008cfafbe83erow6_col1\" class=\"data row6 col1\" >StackedEnsemble_AllModels_AutoML_20191022_050041</td>\n",
       "                        <td id=\"T_1a2d8aba_f498_11e9_a5fe_008cfafbe83erow6_col2\" class=\"data row6 col2\" >DeepLearning_grid_1_AutoML_20191022_050041_model_2</td>\n",
       "                        <td id=\"T_1a2d8aba_f498_11e9_a5fe_008cfafbe83erow6_col3\" class=\"data row6 col3\" >DeepLearning_grid_1_AutoML_20191022_050041_model_6</td>\n",
       "                        <td id=\"T_1a2d8aba_f498_11e9_a5fe_008cfafbe83erow6_col4\" class=\"data row6 col4\" >GBM_grid_1_AutoML_20191022_050041_model_18</td>\n",
       "                        <td id=\"T_1a2d8aba_f498_11e9_a5fe_008cfafbe83erow6_col5\" class=\"data row6 col5\" >DeepLearning_grid_1_AutoML_20191022_050041_model_1</td>\n",
       "                        <td id=\"T_1a2d8aba_f498_11e9_a5fe_008cfafbe83erow6_col6\" class=\"data row6 col6\" >DeepLearning_grid_1_AutoML_20191022_050041_model_9</td>\n",
       "                        <td id=\"T_1a2d8aba_f498_11e9_a5fe_008cfafbe83erow6_col7\" class=\"data row6 col7\" >GBM_grid_1_AutoML_20191022_050041_model_19</td>\n",
       "                        <td id=\"T_1a2d8aba_f498_11e9_a5fe_008cfafbe83erow6_col8\" class=\"data row6 col8\" >XGBoost_grid_1_AutoML_20191022_050041_model_13</td>\n",
       "                        <td id=\"T_1a2d8aba_f498_11e9_a5fe_008cfafbe83erow6_col9\" class=\"data row6 col9\" >DeepLearning_grid_1_AutoML_20191022_050041_model_5</td>\n",
       "                        <td id=\"T_1a2d8aba_f498_11e9_a5fe_008cfafbe83erow6_col10\" class=\"data row6 col10\" >GBM_grid_1_AutoML_20191022_050041_model_15</td>\n",
       "                        <td id=\"T_1a2d8aba_f498_11e9_a5fe_008cfafbe83erow6_col11\" class=\"data row6 col11\" >GBM_2_AutoML_20191022_050041</td>\n",
       "                        <td id=\"T_1a2d8aba_f498_11e9_a5fe_008cfafbe83erow6_col12\" class=\"data row6 col12\" >GBM_grid_1_AutoML_20191022_050041_model_3</td>\n",
       "                        <td id=\"T_1a2d8aba_f498_11e9_a5fe_008cfafbe83erow6_col13\" class=\"data row6 col13\" >GBM_3_AutoML_20191022_050041</td>\n",
       "                        <td id=\"T_1a2d8aba_f498_11e9_a5fe_008cfafbe83erow6_col14\" class=\"data row6 col14\" >GBM_grid_1_AutoML_20191022_050041_model_26</td>\n",
       "                        <td id=\"T_1a2d8aba_f498_11e9_a5fe_008cfafbe83erow6_col15\" class=\"data row6 col15\" >GBM_grid_1_AutoML_20191022_050041_model_6</td>\n",
       "                        <td id=\"T_1a2d8aba_f498_11e9_a5fe_008cfafbe83erow6_col16\" class=\"data row6 col16\" >DeepLearning_grid_1_AutoML_20191022_050041_model_8</td>\n",
       "                        <td id=\"T_1a2d8aba_f498_11e9_a5fe_008cfafbe83erow6_col17\" class=\"data row6 col17\" >GBM_grid_1_AutoML_20191022_050041_model_27</td>\n",
       "                        <td id=\"T_1a2d8aba_f498_11e9_a5fe_008cfafbe83erow6_col18\" class=\"data row6 col18\" >DeepLearning_grid_1_AutoML_20191022_050041_model_3</td>\n",
       "                        <td id=\"T_1a2d8aba_f498_11e9_a5fe_008cfafbe83erow6_col19\" class=\"data row6 col19\" >GBM_grid_1_AutoML_20191022_050041_model_31</td>\n",
       "                        <td id=\"T_1a2d8aba_f498_11e9_a5fe_008cfafbe83erow6_col20\" class=\"data row6 col20\" >GBM_grid_1_AutoML_20191022_050041_model_20</td>\n",
       "                        <td id=\"T_1a2d8aba_f498_11e9_a5fe_008cfafbe83erow6_col21\" class=\"data row6 col21\" >GBM_5_AutoML_20191022_050041</td>\n",
       "                        <td id=\"T_1a2d8aba_f498_11e9_a5fe_008cfafbe83erow6_col22\" class=\"data row6 col22\" >GBM_grid_1_AutoML_20191022_050041_model_12</td>\n",
       "                        <td id=\"T_1a2d8aba_f498_11e9_a5fe_008cfafbe83erow6_col23\" class=\"data row6 col23\" >GBM_4_AutoML_20191022_050041</td>\n",
       "                        <td id=\"T_1a2d8aba_f498_11e9_a5fe_008cfafbe83erow6_col24\" class=\"data row6 col24\" >GLM_grid_1_AutoML_20191022_050041_model_1</td>\n",
       "                        <td id=\"T_1a2d8aba_f498_11e9_a5fe_008cfafbe83erow6_col25\" class=\"data row6 col25\" >GBM_grid_1_AutoML_20191022_050041_model_17</td>\n",
       "                        <td id=\"T_1a2d8aba_f498_11e9_a5fe_008cfafbe83erow6_col26\" class=\"data row6 col26\" >XRT_1_AutoML_20191022_050041</td>\n",
       "                        <td id=\"T_1a2d8aba_f498_11e9_a5fe_008cfafbe83erow6_col27\" class=\"data row6 col27\" >GBM_grid_1_AutoML_20191022_050041_model_1</td>\n",
       "                        <td id=\"T_1a2d8aba_f498_11e9_a5fe_008cfafbe83erow6_col28\" class=\"data row6 col28\" >GBM_grid_1_AutoML_20191022_050041_model_10</td>\n",
       "                        <td id=\"T_1a2d8aba_f498_11e9_a5fe_008cfafbe83erow6_col29\" class=\"data row6 col29\" >XGBoost_grid_1_AutoML_20191022_050041_model_8</td>\n",
       "                        <td id=\"T_1a2d8aba_f498_11e9_a5fe_008cfafbe83erow6_col30\" class=\"data row6 col30\" >GBM_1_AutoML_20191022_050041</td>\n",
       "                        <td id=\"T_1a2d8aba_f498_11e9_a5fe_008cfafbe83erow6_col31\" class=\"data row6 col31\" >GBM_grid_1_AutoML_20191022_050041_model_14</td>\n",
       "                        <td id=\"T_1a2d8aba_f498_11e9_a5fe_008cfafbe83erow6_col32\" class=\"data row6 col32\" >GBM_grid_1_AutoML_20191022_050041_model_11</td>\n",
       "                        <td id=\"T_1a2d8aba_f498_11e9_a5fe_008cfafbe83erow6_col33\" class=\"data row6 col33\" >GBM_grid_1_AutoML_20191022_050041_model_16</td>\n",
       "                        <td id=\"T_1a2d8aba_f498_11e9_a5fe_008cfafbe83erow6_col34\" class=\"data row6 col34\" >GBM_grid_1_AutoML_20191022_050041_model_24</td>\n",
       "                        <td id=\"T_1a2d8aba_f498_11e9_a5fe_008cfafbe83erow6_col35\" class=\"data row6 col35\" >DRF_1_AutoML_20191022_050041</td>\n",
       "                        <td id=\"T_1a2d8aba_f498_11e9_a5fe_008cfafbe83erow6_col36\" class=\"data row6 col36\" >XGBoost_grid_1_AutoML_20191022_050041_model_17</td>\n",
       "                        <td id=\"T_1a2d8aba_f498_11e9_a5fe_008cfafbe83erow6_col37\" class=\"data row6 col37\" >GBM_grid_1_AutoML_20191022_050041_model_13</td>\n",
       "                        <td id=\"T_1a2d8aba_f498_11e9_a5fe_008cfafbe83erow6_col38\" class=\"data row6 col38\" >XGBoost_3_AutoML_20191022_050041</td>\n",
       "                        <td id=\"T_1a2d8aba_f498_11e9_a5fe_008cfafbe83erow6_col39\" class=\"data row6 col39\" >XGBoost_1_AutoML_20191022_050041</td>\n",
       "                        <td id=\"T_1a2d8aba_f498_11e9_a5fe_008cfafbe83erow6_col40\" class=\"data row6 col40\" >XGBoost_grid_1_AutoML_20191022_050041_model_25</td>\n",
       "                        <td id=\"T_1a2d8aba_f498_11e9_a5fe_008cfafbe83erow6_col41\" class=\"data row6 col41\" >XGBoost_grid_1_AutoML_20191022_050041_model_21</td>\n",
       "                        <td id=\"T_1a2d8aba_f498_11e9_a5fe_008cfafbe83erow6_col42\" class=\"data row6 col42\" >XGBoost_grid_1_AutoML_20191022_050041_model_18</td>\n",
       "                        <td id=\"T_1a2d8aba_f498_11e9_a5fe_008cfafbe83erow6_col43\" class=\"data row6 col43\" >XGBoost_grid_1_AutoML_20191022_050041_model_26</td>\n",
       "                        <td id=\"T_1a2d8aba_f498_11e9_a5fe_008cfafbe83erow6_col44\" class=\"data row6 col44\" >XGBoost_grid_1_AutoML_20191022_050041_model_15</td>\n",
       "                        <td id=\"T_1a2d8aba_f498_11e9_a5fe_008cfafbe83erow6_col45\" class=\"data row6 col45\" >GBM_grid_1_AutoML_20191022_050041_model_8</td>\n",
       "                        <td id=\"T_1a2d8aba_f498_11e9_a5fe_008cfafbe83erow6_col46\" class=\"data row6 col46\" >GBM_grid_1_AutoML_20191022_050041_model_32</td>\n",
       "                        <td id=\"T_1a2d8aba_f498_11e9_a5fe_008cfafbe83erow6_col47\" class=\"data row6 col47\" >GBM_grid_1_AutoML_20191022_050041_model_9</td>\n",
       "                        <td id=\"T_1a2d8aba_f498_11e9_a5fe_008cfafbe83erow6_col48\" class=\"data row6 col48\" >XGBoost_grid_1_AutoML_20191022_050041_model_20</td>\n",
       "                        <td id=\"T_1a2d8aba_f498_11e9_a5fe_008cfafbe83erow6_col49\" class=\"data row6 col49\" >XGBoost_grid_1_AutoML_20191022_050041_model_27</td>\n",
       "                        <td id=\"T_1a2d8aba_f498_11e9_a5fe_008cfafbe83erow6_col50\" class=\"data row6 col50\" >XGBoost_grid_1_AutoML_20191022_050041_model_4</td>\n",
       "                        <td id=\"T_1a2d8aba_f498_11e9_a5fe_008cfafbe83erow6_col51\" class=\"data row6 col51\" >XGBoost_grid_1_AutoML_20191022_050041_model_2</td>\n",
       "                        <td id=\"T_1a2d8aba_f498_11e9_a5fe_008cfafbe83erow6_col52\" class=\"data row6 col52\" >DeepLearning_grid_1_AutoML_20191022_050041_model_10</td>\n",
       "                        <td id=\"T_1a2d8aba_f498_11e9_a5fe_008cfafbe83erow6_col53\" class=\"data row6 col53\" >GBM_grid_1_AutoML_20191022_050041_model_29</td>\n",
       "                        <td id=\"T_1a2d8aba_f498_11e9_a5fe_008cfafbe83erow6_col54\" class=\"data row6 col54\" >XGBoost_grid_1_AutoML_20191022_050041_model_29</td>\n",
       "                        <td id=\"T_1a2d8aba_f498_11e9_a5fe_008cfafbe83erow6_col55\" class=\"data row6 col55\" >DeepLearning_grid_1_AutoML_20191022_050041_model_4</td>\n",
       "                        <td id=\"T_1a2d8aba_f498_11e9_a5fe_008cfafbe83erow6_col56\" class=\"data row6 col56\" >GBM_grid_1_AutoML_20191022_050041_model_28</td>\n",
       "                        <td id=\"T_1a2d8aba_f498_11e9_a5fe_008cfafbe83erow6_col57\" class=\"data row6 col57\" >XGBoost_grid_1_AutoML_20191022_050041_model_28</td>\n",
       "                        <td id=\"T_1a2d8aba_f498_11e9_a5fe_008cfafbe83erow6_col58\" class=\"data row6 col58\" >XGBoost_grid_1_AutoML_20191022_050041_model_3</td>\n",
       "                        <td id=\"T_1a2d8aba_f498_11e9_a5fe_008cfafbe83erow6_col59\" class=\"data row6 col59\" >XGBoost_grid_1_AutoML_20191022_050041_model_23</td>\n",
       "                        <td id=\"T_1a2d8aba_f498_11e9_a5fe_008cfafbe83erow6_col60\" class=\"data row6 col60\" >XGBoost_grid_1_AutoML_20191022_050041_model_7</td>\n",
       "                        <td id=\"T_1a2d8aba_f498_11e9_a5fe_008cfafbe83erow6_col61\" class=\"data row6 col61\" >XGBoost_grid_1_AutoML_20191022_050041_model_19</td>\n",
       "                        <td id=\"T_1a2d8aba_f498_11e9_a5fe_008cfafbe83erow6_col62\" class=\"data row6 col62\" >GBM_grid_1_AutoML_20191022_050041_model_25</td>\n",
       "                        <td id=\"T_1a2d8aba_f498_11e9_a5fe_008cfafbe83erow6_col63\" class=\"data row6 col63\" >GBM_grid_1_AutoML_20191022_050041_model_21</td>\n",
       "                        <td id=\"T_1a2d8aba_f498_11e9_a5fe_008cfafbe83erow6_col64\" class=\"data row6 col64\" >XGBoost_2_AutoML_20191022_050041</td>\n",
       "                        <td id=\"T_1a2d8aba_f498_11e9_a5fe_008cfafbe83erow6_col65\" class=\"data row6 col65\" >GBM_grid_1_AutoML_20191022_050041_model_30</td>\n",
       "                        <td id=\"T_1a2d8aba_f498_11e9_a5fe_008cfafbe83erow6_col66\" class=\"data row6 col66\" >DeepLearning_grid_1_AutoML_20191022_050041_model_7</td>\n",
       "                        <td id=\"T_1a2d8aba_f498_11e9_a5fe_008cfafbe83erow6_col67\" class=\"data row6 col67\" >GBM_grid_1_AutoML_20191022_050041_model_7</td>\n",
       "                        <td id=\"T_1a2d8aba_f498_11e9_a5fe_008cfafbe83erow6_col68\" class=\"data row6 col68\" >GBM_grid_1_AutoML_20191022_050041_model_23</td>\n",
       "                        <td id=\"T_1a2d8aba_f498_11e9_a5fe_008cfafbe83erow6_col69\" class=\"data row6 col69\" >XGBoost_grid_1_AutoML_20191022_050041_model_5</td>\n",
       "                        <td id=\"T_1a2d8aba_f498_11e9_a5fe_008cfafbe83erow6_col70\" class=\"data row6 col70\" >XGBoost_grid_1_AutoML_20191022_050041_model_22</td>\n",
       "                        <td id=\"T_1a2d8aba_f498_11e9_a5fe_008cfafbe83erow6_col71\" class=\"data row6 col71\" >XGBoost_grid_1_AutoML_20191022_050041_model_12</td>\n",
       "                        <td id=\"T_1a2d8aba_f498_11e9_a5fe_008cfafbe83erow6_col72\" class=\"data row6 col72\" >GBM_grid_1_AutoML_20191022_050041_model_5</td>\n",
       "                        <td id=\"T_1a2d8aba_f498_11e9_a5fe_008cfafbe83erow6_col73\" class=\"data row6 col73\" >XGBoost_grid_1_AutoML_20191022_050041_model_11</td>\n",
       "                        <td id=\"T_1a2d8aba_f498_11e9_a5fe_008cfafbe83erow6_col74\" class=\"data row6 col74\" >XGBoost_grid_1_AutoML_20191022_050041_model_6</td>\n",
       "                        <td id=\"T_1a2d8aba_f498_11e9_a5fe_008cfafbe83erow6_col75\" class=\"data row6 col75\" >XGBoost_grid_1_AutoML_20191022_050041_model_1</td>\n",
       "                        <td id=\"T_1a2d8aba_f498_11e9_a5fe_008cfafbe83erow6_col76\" class=\"data row6 col76\" >XGBoost_grid_1_AutoML_20191022_050041_model_14</td>\n",
       "                        <td id=\"T_1a2d8aba_f498_11e9_a5fe_008cfafbe83erow6_col77\" class=\"data row6 col77\" >XGBoost_grid_1_AutoML_20191022_050041_model_24</td>\n",
       "                        <td id=\"T_1a2d8aba_f498_11e9_a5fe_008cfafbe83erow6_col78\" class=\"data row6 col78\" >XGBoost_grid_1_AutoML_20191022_050041_model_30</td>\n",
       "                        <td id=\"T_1a2d8aba_f498_11e9_a5fe_008cfafbe83erow6_col79\" class=\"data row6 col79\" >XGBoost_grid_1_AutoML_20191022_050041_model_10</td>\n",
       "                        <td id=\"T_1a2d8aba_f498_11e9_a5fe_008cfafbe83erow6_col80\" class=\"data row6 col80\" >GBM_grid_1_AutoML_20191022_050041_model_4</td>\n",
       "                        <td id=\"T_1a2d8aba_f498_11e9_a5fe_008cfafbe83erow6_col81\" class=\"data row6 col81\" >XGBoost_grid_1_AutoML_20191022_050041_model_16</td>\n",
       "                        <td id=\"T_1a2d8aba_f498_11e9_a5fe_008cfafbe83erow6_col82\" class=\"data row6 col82\" >XGBoost_grid_1_AutoML_20191022_050041_model_9</td>\n",
       "                        <td id=\"T_1a2d8aba_f498_11e9_a5fe_008cfafbe83erow6_col83\" class=\"data row6 col83\" >GBM_grid_1_AutoML_20191022_050041_model_33</td>\n",
       "                        <td id=\"T_1a2d8aba_f498_11e9_a5fe_008cfafbe83erow6_col84\" class=\"data row6 col84\" >DeepLearning_1_AutoML_20191022_050041</td>\n",
       "                        <td id=\"T_1a2d8aba_f498_11e9_a5fe_008cfafbe83erow6_col85\" class=\"data row6 col85\" >GBM_grid_1_AutoML_20191022_050041_model_34</td>\n",
       "                        <td id=\"T_1a2d8aba_f498_11e9_a5fe_008cfafbe83erow6_col86\" class=\"data row6 col86\" >GBM_grid_1_AutoML_20191022_050041_model_2</td>\n",
       "                        <td id=\"T_1a2d8aba_f498_11e9_a5fe_008cfafbe83erow6_col87\" class=\"data row6 col87\" >XGBoost_grid_1_AutoML_20191022_050041_model_31</td>\n",
       "                        <td id=\"T_1a2d8aba_f498_11e9_a5fe_008cfafbe83erow6_col88\" class=\"data row6 col88\" >GBM_grid_1_AutoML_20191022_050041_model_22</td>\n",
       "                        <td id=\"T_1a2d8aba_f498_11e9_a5fe_008cfafbe83erow6_col89\" class=\"data row6 col89\" >nan</td>\n",
       "                        <td id=\"T_1a2d8aba_f498_11e9_a5fe_008cfafbe83erow6_col90\" class=\"data row6 col90\" >nan</td>\n",
       "                        <td id=\"T_1a2d8aba_f498_11e9_a5fe_008cfafbe83erow6_col91\" class=\"data row6 col91\" >nan</td>\n",
       "                        <td id=\"T_1a2d8aba_f498_11e9_a5fe_008cfafbe83erow6_col92\" class=\"data row6 col92\" >nan</td>\n",
       "                        <td id=\"T_1a2d8aba_f498_11e9_a5fe_008cfafbe83erow6_col93\" class=\"data row6 col93\" >nan</td>\n",
       "            </tr>\n",
       "            <tr>\n",
       "                                <td id=\"T_1a2d8aba_f498_11e9_a5fe_008cfafbe83erow7_col0\" class=\"data row7 col0\" >84</td>\n",
       "                        <td id=\"T_1a2d8aba_f498_11e9_a5fe_008cfafbe83erow7_col1\" class=\"data row7 col1\" >StackedEnsemble_AllModels_AutoML_20191022_045945</td>\n",
       "                        <td id=\"T_1a2d8aba_f498_11e9_a5fe_008cfafbe83erow7_col2\" class=\"data row7 col2\" >DeepLearning_grid_1_AutoML_20191022_045945_model_8</td>\n",
       "                        <td id=\"T_1a2d8aba_f498_11e9_a5fe_008cfafbe83erow7_col3\" class=\"data row7 col3\" >GBM_grid_1_AutoML_20191022_045945_model_31</td>\n",
       "                        <td id=\"T_1a2d8aba_f498_11e9_a5fe_008cfafbe83erow7_col4\" class=\"data row7 col4\" >GBM_grid_1_AutoML_20191022_045945_model_18</td>\n",
       "                        <td id=\"T_1a2d8aba_f498_11e9_a5fe_008cfafbe83erow7_col5\" class=\"data row7 col5\" >DeepLearning_grid_1_AutoML_20191022_045945_model_2</td>\n",
       "                        <td id=\"T_1a2d8aba_f498_11e9_a5fe_008cfafbe83erow7_col6\" class=\"data row7 col6\" >DeepLearning_grid_1_AutoML_20191022_045945_model_11</td>\n",
       "                        <td id=\"T_1a2d8aba_f498_11e9_a5fe_008cfafbe83erow7_col7\" class=\"data row7 col7\" >GBM_grid_1_AutoML_20191022_045945_model_19</td>\n",
       "                        <td id=\"T_1a2d8aba_f498_11e9_a5fe_008cfafbe83erow7_col8\" class=\"data row7 col8\" >DeepLearning_grid_1_AutoML_20191022_045945_model_12</td>\n",
       "                        <td id=\"T_1a2d8aba_f498_11e9_a5fe_008cfafbe83erow7_col9\" class=\"data row7 col9\" >DeepLearning_grid_1_AutoML_20191022_045945_model_1</td>\n",
       "                        <td id=\"T_1a2d8aba_f498_11e9_a5fe_008cfafbe83erow7_col10\" class=\"data row7 col10\" >XGBoost_grid_1_AutoML_20191022_045945_model_13</td>\n",
       "                        <td id=\"T_1a2d8aba_f498_11e9_a5fe_008cfafbe83erow7_col11\" class=\"data row7 col11\" >GBM_grid_1_AutoML_20191022_045945_model_15</td>\n",
       "                        <td id=\"T_1a2d8aba_f498_11e9_a5fe_008cfafbe83erow7_col12\" class=\"data row7 col12\" >GBM_2_AutoML_20191022_045945</td>\n",
       "                        <td id=\"T_1a2d8aba_f498_11e9_a5fe_008cfafbe83erow7_col13\" class=\"data row7 col13\" >DeepLearning_grid_1_AutoML_20191022_045945_model_7</td>\n",
       "                        <td id=\"T_1a2d8aba_f498_11e9_a5fe_008cfafbe83erow7_col14\" class=\"data row7 col14\" >GBM_grid_1_AutoML_20191022_045945_model_3</td>\n",
       "                        <td id=\"T_1a2d8aba_f498_11e9_a5fe_008cfafbe83erow7_col15\" class=\"data row7 col15\" >GBM_3_AutoML_20191022_045945</td>\n",
       "                        <td id=\"T_1a2d8aba_f498_11e9_a5fe_008cfafbe83erow7_col16\" class=\"data row7 col16\" >GBM_grid_1_AutoML_20191022_045945_model_32</td>\n",
       "                        <td id=\"T_1a2d8aba_f498_11e9_a5fe_008cfafbe83erow7_col17\" class=\"data row7 col17\" >GBM_grid_1_AutoML_20191022_045945_model_26</td>\n",
       "                        <td id=\"T_1a2d8aba_f498_11e9_a5fe_008cfafbe83erow7_col18\" class=\"data row7 col18\" >GBM_grid_1_AutoML_20191022_045945_model_6</td>\n",
       "                        <td id=\"T_1a2d8aba_f498_11e9_a5fe_008cfafbe83erow7_col19\" class=\"data row7 col19\" >GBM_grid_1_AutoML_20191022_045945_model_27</td>\n",
       "                        <td id=\"T_1a2d8aba_f498_11e9_a5fe_008cfafbe83erow7_col20\" class=\"data row7 col20\" >GBM_grid_1_AutoML_20191022_045945_model_20</td>\n",
       "                        <td id=\"T_1a2d8aba_f498_11e9_a5fe_008cfafbe83erow7_col21\" class=\"data row7 col21\" >DeepLearning_grid_1_AutoML_20191022_045945_model_3</td>\n",
       "                        <td id=\"T_1a2d8aba_f498_11e9_a5fe_008cfafbe83erow7_col22\" class=\"data row7 col22\" >GBM_5_AutoML_20191022_045945</td>\n",
       "                        <td id=\"T_1a2d8aba_f498_11e9_a5fe_008cfafbe83erow7_col23\" class=\"data row7 col23\" >GBM_grid_1_AutoML_20191022_045945_model_12</td>\n",
       "                        <td id=\"T_1a2d8aba_f498_11e9_a5fe_008cfafbe83erow7_col24\" class=\"data row7 col24\" >GBM_4_AutoML_20191022_045945</td>\n",
       "                        <td id=\"T_1a2d8aba_f498_11e9_a5fe_008cfafbe83erow7_col25\" class=\"data row7 col25\" >GLM_grid_1_AutoML_20191022_045945_model_1</td>\n",
       "                        <td id=\"T_1a2d8aba_f498_11e9_a5fe_008cfafbe83erow7_col26\" class=\"data row7 col26\" >GBM_grid_1_AutoML_20191022_045945_model_17</td>\n",
       "                        <td id=\"T_1a2d8aba_f498_11e9_a5fe_008cfafbe83erow7_col27\" class=\"data row7 col27\" >XRT_1_AutoML_20191022_045945</td>\n",
       "                        <td id=\"T_1a2d8aba_f498_11e9_a5fe_008cfafbe83erow7_col28\" class=\"data row7 col28\" >GBM_grid_1_AutoML_20191022_045945_model_1</td>\n",
       "                        <td id=\"T_1a2d8aba_f498_11e9_a5fe_008cfafbe83erow7_col29\" class=\"data row7 col29\" >GBM_grid_1_AutoML_20191022_045945_model_10</td>\n",
       "                        <td id=\"T_1a2d8aba_f498_11e9_a5fe_008cfafbe83erow7_col30\" class=\"data row7 col30\" >DeepLearning_grid_1_AutoML_20191022_045945_model_4</td>\n",
       "                        <td id=\"T_1a2d8aba_f498_11e9_a5fe_008cfafbe83erow7_col31\" class=\"data row7 col31\" >XGBoost_grid_1_AutoML_20191022_045945_model_8</td>\n",
       "                        <td id=\"T_1a2d8aba_f498_11e9_a5fe_008cfafbe83erow7_col32\" class=\"data row7 col32\" >GBM_1_AutoML_20191022_045945</td>\n",
       "                        <td id=\"T_1a2d8aba_f498_11e9_a5fe_008cfafbe83erow7_col33\" class=\"data row7 col33\" >GBM_grid_1_AutoML_20191022_045945_model_14</td>\n",
       "                        <td id=\"T_1a2d8aba_f498_11e9_a5fe_008cfafbe83erow7_col34\" class=\"data row7 col34\" >GBM_grid_1_AutoML_20191022_045945_model_11</td>\n",
       "                        <td id=\"T_1a2d8aba_f498_11e9_a5fe_008cfafbe83erow7_col35\" class=\"data row7 col35\" >GBM_grid_1_AutoML_20191022_045945_model_16</td>\n",
       "                        <td id=\"T_1a2d8aba_f498_11e9_a5fe_008cfafbe83erow7_col36\" class=\"data row7 col36\" >GBM_grid_1_AutoML_20191022_045945_model_24</td>\n",
       "                        <td id=\"T_1a2d8aba_f498_11e9_a5fe_008cfafbe83erow7_col37\" class=\"data row7 col37\" >DRF_1_AutoML_20191022_045945</td>\n",
       "                        <td id=\"T_1a2d8aba_f498_11e9_a5fe_008cfafbe83erow7_col38\" class=\"data row7 col38\" >XGBoost_grid_1_AutoML_20191022_045945_model_17</td>\n",
       "                        <td id=\"T_1a2d8aba_f498_11e9_a5fe_008cfafbe83erow7_col39\" class=\"data row7 col39\" >GBM_grid_1_AutoML_20191022_045945_model_13</td>\n",
       "                        <td id=\"T_1a2d8aba_f498_11e9_a5fe_008cfafbe83erow7_col40\" class=\"data row7 col40\" >XGBoost_3_AutoML_20191022_045945</td>\n",
       "                        <td id=\"T_1a2d8aba_f498_11e9_a5fe_008cfafbe83erow7_col41\" class=\"data row7 col41\" >XGBoost_1_AutoML_20191022_045945</td>\n",
       "                        <td id=\"T_1a2d8aba_f498_11e9_a5fe_008cfafbe83erow7_col42\" class=\"data row7 col42\" >XGBoost_grid_1_AutoML_20191022_045945_model_25</td>\n",
       "                        <td id=\"T_1a2d8aba_f498_11e9_a5fe_008cfafbe83erow7_col43\" class=\"data row7 col43\" >DeepLearning_grid_1_AutoML_20191022_045945_model_6</td>\n",
       "                        <td id=\"T_1a2d8aba_f498_11e9_a5fe_008cfafbe83erow7_col44\" class=\"data row7 col44\" >XGBoost_grid_1_AutoML_20191022_045945_model_21</td>\n",
       "                        <td id=\"T_1a2d8aba_f498_11e9_a5fe_008cfafbe83erow7_col45\" class=\"data row7 col45\" >XGBoost_grid_1_AutoML_20191022_045945_model_18</td>\n",
       "                        <td id=\"T_1a2d8aba_f498_11e9_a5fe_008cfafbe83erow7_col46\" class=\"data row7 col46\" >DeepLearning_grid_1_AutoML_20191022_045945_model_5</td>\n",
       "                        <td id=\"T_1a2d8aba_f498_11e9_a5fe_008cfafbe83erow7_col47\" class=\"data row7 col47\" >XGBoost_grid_1_AutoML_20191022_045945_model_26</td>\n",
       "                        <td id=\"T_1a2d8aba_f498_11e9_a5fe_008cfafbe83erow7_col48\" class=\"data row7 col48\" >XGBoost_grid_1_AutoML_20191022_045945_model_15</td>\n",
       "                        <td id=\"T_1a2d8aba_f498_11e9_a5fe_008cfafbe83erow7_col49\" class=\"data row7 col49\" >GBM_grid_1_AutoML_20191022_045945_model_8</td>\n",
       "                        <td id=\"T_1a2d8aba_f498_11e9_a5fe_008cfafbe83erow7_col50\" class=\"data row7 col50\" >XGBoost_grid_1_AutoML_20191022_045945_model_30</td>\n",
       "                        <td id=\"T_1a2d8aba_f498_11e9_a5fe_008cfafbe83erow7_col51\" class=\"data row7 col51\" >GBM_grid_1_AutoML_20191022_045945_model_9</td>\n",
       "                        <td id=\"T_1a2d8aba_f498_11e9_a5fe_008cfafbe83erow7_col52\" class=\"data row7 col52\" >XGBoost_grid_1_AutoML_20191022_045945_model_20</td>\n",
       "                        <td id=\"T_1a2d8aba_f498_11e9_a5fe_008cfafbe83erow7_col53\" class=\"data row7 col53\" >XGBoost_grid_1_AutoML_20191022_045945_model_27</td>\n",
       "                        <td id=\"T_1a2d8aba_f498_11e9_a5fe_008cfafbe83erow7_col54\" class=\"data row7 col54\" >XGBoost_grid_1_AutoML_20191022_045945_model_4</td>\n",
       "                        <td id=\"T_1a2d8aba_f498_11e9_a5fe_008cfafbe83erow7_col55\" class=\"data row7 col55\" >XGBoost_grid_1_AutoML_20191022_045945_model_2</td>\n",
       "                        <td id=\"T_1a2d8aba_f498_11e9_a5fe_008cfafbe83erow7_col56\" class=\"data row7 col56\" >GBM_grid_1_AutoML_20191022_045945_model_29</td>\n",
       "                        <td id=\"T_1a2d8aba_f498_11e9_a5fe_008cfafbe83erow7_col57\" class=\"data row7 col57\" >XGBoost_grid_1_AutoML_20191022_045945_model_29</td>\n",
       "                        <td id=\"T_1a2d8aba_f498_11e9_a5fe_008cfafbe83erow7_col58\" class=\"data row7 col58\" >GBM_grid_1_AutoML_20191022_045945_model_28</td>\n",
       "                        <td id=\"T_1a2d8aba_f498_11e9_a5fe_008cfafbe83erow7_col59\" class=\"data row7 col59\" >DeepLearning_grid_1_AutoML_20191022_045945_model_13</td>\n",
       "                        <td id=\"T_1a2d8aba_f498_11e9_a5fe_008cfafbe83erow7_col60\" class=\"data row7 col60\" >XGBoost_grid_1_AutoML_20191022_045945_model_28</td>\n",
       "                        <td id=\"T_1a2d8aba_f498_11e9_a5fe_008cfafbe83erow7_col61\" class=\"data row7 col61\" >XGBoost_grid_1_AutoML_20191022_045945_model_3</td>\n",
       "                        <td id=\"T_1a2d8aba_f498_11e9_a5fe_008cfafbe83erow7_col62\" class=\"data row7 col62\" >XGBoost_grid_1_AutoML_20191022_045945_model_23</td>\n",
       "                        <td id=\"T_1a2d8aba_f498_11e9_a5fe_008cfafbe83erow7_col63\" class=\"data row7 col63\" >XGBoost_grid_1_AutoML_20191022_045945_model_7</td>\n",
       "                        <td id=\"T_1a2d8aba_f498_11e9_a5fe_008cfafbe83erow7_col64\" class=\"data row7 col64\" >XGBoost_grid_1_AutoML_20191022_045945_model_19</td>\n",
       "                        <td id=\"T_1a2d8aba_f498_11e9_a5fe_008cfafbe83erow7_col65\" class=\"data row7 col65\" >DeepLearning_grid_1_AutoML_20191022_045945_model_10</td>\n",
       "                        <td id=\"T_1a2d8aba_f498_11e9_a5fe_008cfafbe83erow7_col66\" class=\"data row7 col66\" >DeepLearning_grid_1_AutoML_20191022_045945_model_9</td>\n",
       "                        <td id=\"T_1a2d8aba_f498_11e9_a5fe_008cfafbe83erow7_col67\" class=\"data row7 col67\" >GBM_grid_1_AutoML_20191022_045945_model_25</td>\n",
       "                        <td id=\"T_1a2d8aba_f498_11e9_a5fe_008cfafbe83erow7_col68\" class=\"data row7 col68\" >GBM_grid_1_AutoML_20191022_045945_model_21</td>\n",
       "                        <td id=\"T_1a2d8aba_f498_11e9_a5fe_008cfafbe83erow7_col69\" class=\"data row7 col69\" >XGBoost_2_AutoML_20191022_045945</td>\n",
       "                        <td id=\"T_1a2d8aba_f498_11e9_a5fe_008cfafbe83erow7_col70\" class=\"data row7 col70\" >GBM_grid_1_AutoML_20191022_045945_model_30</td>\n",
       "                        <td id=\"T_1a2d8aba_f498_11e9_a5fe_008cfafbe83erow7_col71\" class=\"data row7 col71\" >GBM_grid_1_AutoML_20191022_045945_model_7</td>\n",
       "                        <td id=\"T_1a2d8aba_f498_11e9_a5fe_008cfafbe83erow7_col72\" class=\"data row7 col72\" >GBM_grid_1_AutoML_20191022_045945_model_23</td>\n",
       "                        <td id=\"T_1a2d8aba_f498_11e9_a5fe_008cfafbe83erow7_col73\" class=\"data row7 col73\" >XGBoost_grid_1_AutoML_20191022_045945_model_5</td>\n",
       "                        <td id=\"T_1a2d8aba_f498_11e9_a5fe_008cfafbe83erow7_col74\" class=\"data row7 col74\" >XGBoost_grid_1_AutoML_20191022_045945_model_22</td>\n",
       "                        <td id=\"T_1a2d8aba_f498_11e9_a5fe_008cfafbe83erow7_col75\" class=\"data row7 col75\" >XGBoost_grid_1_AutoML_20191022_045945_model_12</td>\n",
       "                        <td id=\"T_1a2d8aba_f498_11e9_a5fe_008cfafbe83erow7_col76\" class=\"data row7 col76\" >GBM_grid_1_AutoML_20191022_045945_model_5</td>\n",
       "                        <td id=\"T_1a2d8aba_f498_11e9_a5fe_008cfafbe83erow7_col77\" class=\"data row7 col77\" >XGBoost_grid_1_AutoML_20191022_045945_model_11</td>\n",
       "                        <td id=\"T_1a2d8aba_f498_11e9_a5fe_008cfafbe83erow7_col78\" class=\"data row7 col78\" >XGBoost_grid_1_AutoML_20191022_045945_model_6</td>\n",
       "                        <td id=\"T_1a2d8aba_f498_11e9_a5fe_008cfafbe83erow7_col79\" class=\"data row7 col79\" >XGBoost_grid_1_AutoML_20191022_045945_model_1</td>\n",
       "                        <td id=\"T_1a2d8aba_f498_11e9_a5fe_008cfafbe83erow7_col80\" class=\"data row7 col80\" >GBM_grid_1_AutoML_20191022_045945_model_33</td>\n",
       "                        <td id=\"T_1a2d8aba_f498_11e9_a5fe_008cfafbe83erow7_col81\" class=\"data row7 col81\" >XGBoost_grid_1_AutoML_20191022_045945_model_14</td>\n",
       "                        <td id=\"T_1a2d8aba_f498_11e9_a5fe_008cfafbe83erow7_col82\" class=\"data row7 col82\" >XGBoost_grid_1_AutoML_20191022_045945_model_24</td>\n",
       "                        <td id=\"T_1a2d8aba_f498_11e9_a5fe_008cfafbe83erow7_col83\" class=\"data row7 col83\" >XGBoost_grid_1_AutoML_20191022_045945_model_10</td>\n",
       "                        <td id=\"T_1a2d8aba_f498_11e9_a5fe_008cfafbe83erow7_col84\" class=\"data row7 col84\" >GBM_grid_1_AutoML_20191022_045945_model_4</td>\n",
       "                        <td id=\"T_1a2d8aba_f498_11e9_a5fe_008cfafbe83erow7_col85\" class=\"data row7 col85\" >XGBoost_grid_1_AutoML_20191022_045945_model_16</td>\n",
       "                        <td id=\"T_1a2d8aba_f498_11e9_a5fe_008cfafbe83erow7_col86\" class=\"data row7 col86\" >XGBoost_grid_1_AutoML_20191022_045945_model_9</td>\n",
       "                        <td id=\"T_1a2d8aba_f498_11e9_a5fe_008cfafbe83erow7_col87\" class=\"data row7 col87\" >GBM_grid_1_AutoML_20191022_045945_model_34</td>\n",
       "                        <td id=\"T_1a2d8aba_f498_11e9_a5fe_008cfafbe83erow7_col88\" class=\"data row7 col88\" >GBM_grid_1_AutoML_20191022_045945_model_2</td>\n",
       "                        <td id=\"T_1a2d8aba_f498_11e9_a5fe_008cfafbe83erow7_col89\" class=\"data row7 col89\" >DeepLearning_1_AutoML_20191022_045945</td>\n",
       "                        <td id=\"T_1a2d8aba_f498_11e9_a5fe_008cfafbe83erow7_col90\" class=\"data row7 col90\" >GBM_grid_1_AutoML_20191022_045945_model_22</td>\n",
       "                        <td id=\"T_1a2d8aba_f498_11e9_a5fe_008cfafbe83erow7_col91\" class=\"data row7 col91\" >GBM_grid_1_AutoML_20191022_045945_model_35</td>\n",
       "                        <td id=\"T_1a2d8aba_f498_11e9_a5fe_008cfafbe83erow7_col92\" class=\"data row7 col92\" >nan</td>\n",
       "                        <td id=\"T_1a2d8aba_f498_11e9_a5fe_008cfafbe83erow7_col93\" class=\"data row7 col93\" >nan</td>\n",
       "            </tr>\n",
       "    </tbody></table>"
      ],
      "text/plain": [
       "<pandas.io.formats.style.Styler at 0x2ad7b508fb00>"
      ]
     },
     "metadata": {},
     "output_type": "display_data"
    },
    {
     "data": {
      "text/plain": [
       "'TPOTClassifier #1'"
      ]
     },
     "metadata": {},
     "output_type": "display_data"
    },
    {
     "data": {
      "text/html": [
       "<style  type=\"text/css\" >\n",
       "</style><table id=\"T_1a349576_f498_11e9_a5fe_008cfafbe83e\" ><thead>    <tr>        <th class=\"col_heading level0 col0\" >max_angle</th>        <th class=\"col_heading level0 col1\" >test_acc</th>        <th class=\"col_heading level0 col2\" >train_acc</th>        <th class=\"col_heading level0 col3\" >time_err</th>        <th class=\"col_heading level0 col4\" >time_pre</th>        <th class=\"col_heading level0 col5\" >time_mod</th>    </tr></thead><tbody>\n",
       "                <tr>\n",
       "                                <td id=\"T_1a349576_f498_11e9_a5fe_008cfafbe83erow0_col0\" class=\"data row0 col0\" >0</td>\n",
       "                        <td id=\"T_1a349576_f498_11e9_a5fe_008cfafbe83erow0_col1\" class=\"data row0 col1\" >0.981</td>\n",
       "                        <td id=\"T_1a349576_f498_11e9_a5fe_008cfafbe83erow0_col2\" class=\"data row0 col2\" >1</td>\n",
       "                        <td id=\"T_1a349576_f498_11e9_a5fe_008cfafbe83erow0_col3\" class=\"data row0 col3\" >0.222</td>\n",
       "                        <td id=\"T_1a349576_f498_11e9_a5fe_008cfafbe83erow0_col4\" class=\"data row0 col4\" >0</td>\n",
       "                        <td id=\"T_1a349576_f498_11e9_a5fe_008cfafbe83erow0_col5\" class=\"data row0 col5\" >3898.23</td>\n",
       "            </tr>\n",
       "            <tr>\n",
       "                                <td id=\"T_1a349576_f498_11e9_a5fe_008cfafbe83erow1_col0\" class=\"data row1 col0\" >12</td>\n",
       "                        <td id=\"T_1a349576_f498_11e9_a5fe_008cfafbe83erow1_col1\" class=\"data row1 col1\" >0.981</td>\n",
       "                        <td id=\"T_1a349576_f498_11e9_a5fe_008cfafbe83erow1_col2\" class=\"data row1 col2\" >1</td>\n",
       "                        <td id=\"T_1a349576_f498_11e9_a5fe_008cfafbe83erow1_col3\" class=\"data row1 col3\" >0.259</td>\n",
       "                        <td id=\"T_1a349576_f498_11e9_a5fe_008cfafbe83erow1_col4\" class=\"data row1 col4\" >0</td>\n",
       "                        <td id=\"T_1a349576_f498_11e9_a5fe_008cfafbe83erow1_col5\" class=\"data row1 col5\" >3743.57</td>\n",
       "            </tr>\n",
       "            <tr>\n",
       "                                <td id=\"T_1a349576_f498_11e9_a5fe_008cfafbe83erow2_col0\" class=\"data row2 col0\" >24</td>\n",
       "                        <td id=\"T_1a349576_f498_11e9_a5fe_008cfafbe83erow2_col1\" class=\"data row2 col1\" >0.961</td>\n",
       "                        <td id=\"T_1a349576_f498_11e9_a5fe_008cfafbe83erow2_col2\" class=\"data row2 col2\" >1</td>\n",
       "                        <td id=\"T_1a349576_f498_11e9_a5fe_008cfafbe83erow2_col3\" class=\"data row2 col3\" >0.273</td>\n",
       "                        <td id=\"T_1a349576_f498_11e9_a5fe_008cfafbe83erow2_col4\" class=\"data row2 col4\" >0</td>\n",
       "                        <td id=\"T_1a349576_f498_11e9_a5fe_008cfafbe83erow2_col5\" class=\"data row2 col5\" >3643.47</td>\n",
       "            </tr>\n",
       "            <tr>\n",
       "                                <td id=\"T_1a349576_f498_11e9_a5fe_008cfafbe83erow3_col0\" class=\"data row3 col0\" >36</td>\n",
       "                        <td id=\"T_1a349576_f498_11e9_a5fe_008cfafbe83erow3_col1\" class=\"data row3 col1\" >0.961</td>\n",
       "                        <td id=\"T_1a349576_f498_11e9_a5fe_008cfafbe83erow3_col2\" class=\"data row3 col2\" >1</td>\n",
       "                        <td id=\"T_1a349576_f498_11e9_a5fe_008cfafbe83erow3_col3\" class=\"data row3 col3\" >0.283</td>\n",
       "                        <td id=\"T_1a349576_f498_11e9_a5fe_008cfafbe83erow3_col4\" class=\"data row3 col4\" >0</td>\n",
       "                        <td id=\"T_1a349576_f498_11e9_a5fe_008cfafbe83erow3_col5\" class=\"data row3 col5\" >3622.51</td>\n",
       "            </tr>\n",
       "            <tr>\n",
       "                                <td id=\"T_1a349576_f498_11e9_a5fe_008cfafbe83erow4_col0\" class=\"data row4 col0\" >48</td>\n",
       "                        <td id=\"T_1a349576_f498_11e9_a5fe_008cfafbe83erow4_col1\" class=\"data row4 col1\" >0.933</td>\n",
       "                        <td id=\"T_1a349576_f498_11e9_a5fe_008cfafbe83erow4_col2\" class=\"data row4 col2\" >0.999</td>\n",
       "                        <td id=\"T_1a349576_f498_11e9_a5fe_008cfafbe83erow4_col3\" class=\"data row4 col3\" >0.249</td>\n",
       "                        <td id=\"T_1a349576_f498_11e9_a5fe_008cfafbe83erow4_col4\" class=\"data row4 col4\" >0</td>\n",
       "                        <td id=\"T_1a349576_f498_11e9_a5fe_008cfafbe83erow4_col5\" class=\"data row4 col5\" >3824.82</td>\n",
       "            </tr>\n",
       "            <tr>\n",
       "                                <td id=\"T_1a349576_f498_11e9_a5fe_008cfafbe83erow5_col0\" class=\"data row5 col0\" >60</td>\n",
       "                        <td id=\"T_1a349576_f498_11e9_a5fe_008cfafbe83erow5_col1\" class=\"data row5 col1\" >0.933</td>\n",
       "                        <td id=\"T_1a349576_f498_11e9_a5fe_008cfafbe83erow5_col2\" class=\"data row5 col2\" >1</td>\n",
       "                        <td id=\"T_1a349576_f498_11e9_a5fe_008cfafbe83erow5_col3\" class=\"data row5 col3\" >0.221</td>\n",
       "                        <td id=\"T_1a349576_f498_11e9_a5fe_008cfafbe83erow5_col4\" class=\"data row5 col4\" >0</td>\n",
       "                        <td id=\"T_1a349576_f498_11e9_a5fe_008cfafbe83erow5_col5\" class=\"data row5 col5\" >8844.04</td>\n",
       "            </tr>\n",
       "            <tr>\n",
       "                                <td id=\"T_1a349576_f498_11e9_a5fe_008cfafbe83erow6_col0\" class=\"data row6 col0\" >72</td>\n",
       "                        <td id=\"T_1a349576_f498_11e9_a5fe_008cfafbe83erow6_col1\" class=\"data row6 col1\" >0.908</td>\n",
       "                        <td id=\"T_1a349576_f498_11e9_a5fe_008cfafbe83erow6_col2\" class=\"data row6 col2\" >1</td>\n",
       "                        <td id=\"T_1a349576_f498_11e9_a5fe_008cfafbe83erow6_col3\" class=\"data row6 col3\" >0.275</td>\n",
       "                        <td id=\"T_1a349576_f498_11e9_a5fe_008cfafbe83erow6_col4\" class=\"data row6 col4\" >0</td>\n",
       "                        <td id=\"T_1a349576_f498_11e9_a5fe_008cfafbe83erow6_col5\" class=\"data row6 col5\" >3825.27</td>\n",
       "            </tr>\n",
       "            <tr>\n",
       "                                <td id=\"T_1a349576_f498_11e9_a5fe_008cfafbe83erow7_col0\" class=\"data row7 col0\" >84</td>\n",
       "                        <td id=\"T_1a349576_f498_11e9_a5fe_008cfafbe83erow7_col1\" class=\"data row7 col1\" >0.883</td>\n",
       "                        <td id=\"T_1a349576_f498_11e9_a5fe_008cfafbe83erow7_col2\" class=\"data row7 col2\" >1</td>\n",
       "                        <td id=\"T_1a349576_f498_11e9_a5fe_008cfafbe83erow7_col3\" class=\"data row7 col3\" >0.312</td>\n",
       "                        <td id=\"T_1a349576_f498_11e9_a5fe_008cfafbe83erow7_col4\" class=\"data row7 col4\" >0</td>\n",
       "                        <td id=\"T_1a349576_f498_11e9_a5fe_008cfafbe83erow7_col5\" class=\"data row7 col5\" >3692.8</td>\n",
       "            </tr>\n",
       "    </tbody></table>"
      ],
      "text/plain": [
       "<pandas.io.formats.style.Styler at 0x2ad7b508fa20>"
      ]
     },
     "metadata": {},
     "output_type": "display_data"
    },
    {
     "data": {
      "text/html": [
       "<style  type=\"text/css\" >\n",
       "</style><table id=\"T_1a364772_f498_11e9_a5fe_008cfafbe83e\" ><thead>    <tr>        <th class=\"col_heading level0 col0\" >max_angle</th>        <th class=\"col_heading level0 col1\" >pipe_0</th>        <th class=\"col_heading level0 col2\" >pipe_1</th>        <th class=\"col_heading level0 col3\" >pipe_2</th>    </tr></thead><tbody>\n",
       "                <tr>\n",
       "                                <td id=\"T_1a364772_f498_11e9_a5fe_008cfafbe83erow0_col0\" class=\"data row0 col0\" >0</td>\n",
       "                        <td id=\"T_1a364772_f498_11e9_a5fe_008cfafbe83erow0_col1\" class=\"data row0 col1\" >StackingEstimator(estimator=KNeighborsClassifier(algorithm='auto', leaf_size=30, metric='minkowski',\n",
       "           metric_params=None, n_jobs=None, n_neighbors=6, p=1,\n",
       "           weights='distance'))</td>\n",
       "                        <td id=\"T_1a364772_f498_11e9_a5fe_008cfafbe83erow0_col2\" class=\"data row0 col2\" >KNeighborsClassifier(algorithm='auto', leaf_size=30, metric='minkowski',\n",
       "           metric_params=None, n_jobs=None, n_neighbors=3, p=2,\n",
       "           weights='distance')</td>\n",
       "                        <td id=\"T_1a364772_f498_11e9_a5fe_008cfafbe83erow0_col3\" class=\"data row0 col3\" >nan</td>\n",
       "            </tr>\n",
       "            <tr>\n",
       "                                <td id=\"T_1a364772_f498_11e9_a5fe_008cfafbe83erow1_col0\" class=\"data row1 col0\" >12</td>\n",
       "                        <td id=\"T_1a364772_f498_11e9_a5fe_008cfafbe83erow1_col1\" class=\"data row1 col1\" >StandardScaler(copy=True, with_mean=True, with_std=True)</td>\n",
       "                        <td id=\"T_1a364772_f498_11e9_a5fe_008cfafbe83erow1_col2\" class=\"data row1 col2\" >PolynomialFeatures(degree=2, include_bias=False, interaction_only=False)</td>\n",
       "                        <td id=\"T_1a364772_f498_11e9_a5fe_008cfafbe83erow1_col3\" class=\"data row1 col3\" >LogisticRegression(C=25.0, class_weight=None, dual=False, fit_intercept=True,\n",
       "          intercept_scaling=1, max_iter=100, multi_class='warn',\n",
       "          n_jobs=None, penalty='l1', random_state=None, solver='warn',\n",
       "          tol=0.0001, verbose=0, warm_start=False)</td>\n",
       "            </tr>\n",
       "            <tr>\n",
       "                                <td id=\"T_1a364772_f498_11e9_a5fe_008cfafbe83erow2_col0\" class=\"data row2 col0\" >24</td>\n",
       "                        <td id=\"T_1a364772_f498_11e9_a5fe_008cfafbe83erow2_col1\" class=\"data row2 col1\" >PolynomialFeatures(degree=2, include_bias=False, interaction_only=False)</td>\n",
       "                        <td id=\"T_1a364772_f498_11e9_a5fe_008cfafbe83erow2_col2\" class=\"data row2 col2\" >LogisticRegression(C=15.0, class_weight=None, dual=False, fit_intercept=True,\n",
       "          intercept_scaling=1, max_iter=100, multi_class='warn',\n",
       "          n_jobs=None, penalty='l2', random_state=None, solver='warn',\n",
       "          tol=0.0001, verbose=0, warm_start=False)</td>\n",
       "                        <td id=\"T_1a364772_f498_11e9_a5fe_008cfafbe83erow2_col3\" class=\"data row2 col3\" >nan</td>\n",
       "            </tr>\n",
       "            <tr>\n",
       "                                <td id=\"T_1a364772_f498_11e9_a5fe_008cfafbe83erow3_col0\" class=\"data row3 col0\" >36</td>\n",
       "                        <td id=\"T_1a364772_f498_11e9_a5fe_008cfafbe83erow3_col1\" class=\"data row3 col1\" >StackingEstimator(estimator=ExtraTreesClassifier(bootstrap=False, class_weight=None, criterion='gini',\n",
       "           max_depth=None, max_features=0.4, max_leaf_nodes=None,\n",
       "           min_impurity_decrease=0.0, min_impurity_split=None,\n",
       "           min_samples_leaf=6, min_samples_split=4,\n",
       "           min_weight_fraction_leaf=0.0, n_estimators=100, n_jobs=None,\n",
       "           oob_score=False, random_state=None, verbose=0, warm_start=False))</td>\n",
       "                        <td id=\"T_1a364772_f498_11e9_a5fe_008cfafbe83erow3_col2\" class=\"data row3 col2\" >KNeighborsClassifier(algorithm='auto', leaf_size=30, metric='minkowski',\n",
       "           metric_params=None, n_jobs=None, n_neighbors=5, p=2,\n",
       "           weights='distance')</td>\n",
       "                        <td id=\"T_1a364772_f498_11e9_a5fe_008cfafbe83erow3_col3\" class=\"data row3 col3\" >nan</td>\n",
       "            </tr>\n",
       "            <tr>\n",
       "                                <td id=\"T_1a364772_f498_11e9_a5fe_008cfafbe83erow4_col0\" class=\"data row4 col0\" >48</td>\n",
       "                        <td id=\"T_1a364772_f498_11e9_a5fe_008cfafbe83erow4_col1\" class=\"data row4 col1\" >PolynomialFeatures(degree=2, include_bias=False, interaction_only=False)</td>\n",
       "                        <td id=\"T_1a364772_f498_11e9_a5fe_008cfafbe83erow4_col2\" class=\"data row4 col2\" >StackingEstimator(estimator=LinearSVC(C=15.0, class_weight=None, dual=False, fit_intercept=True,\n",
       "     intercept_scaling=1, loss='squared_hinge', max_iter=1000,\n",
       "     multi_class='ovr', penalty='l2', random_state=None, tol=0.1,\n",
       "     verbose=0))</td>\n",
       "                        <td id=\"T_1a364772_f498_11e9_a5fe_008cfafbe83erow4_col3\" class=\"data row4 col3\" >ExtraTreesClassifier(bootstrap=False, class_weight=None, criterion='gini',\n",
       "           max_depth=None, max_features=0.25, max_leaf_nodes=None,\n",
       "           min_impurity_decrease=0.0, min_impurity_split=None,\n",
       "           min_samples_leaf=3, min_samples_split=9,\n",
       "           min_weight_fraction_leaf=0.0, n_estimators=100, n_jobs=None,\n",
       "           oob_score=False, random_state=None, verbose=0, warm_start=False)</td>\n",
       "            </tr>\n",
       "            <tr>\n",
       "                                <td id=\"T_1a364772_f498_11e9_a5fe_008cfafbe83erow5_col0\" class=\"data row5 col0\" >60</td>\n",
       "                        <td id=\"T_1a364772_f498_11e9_a5fe_008cfafbe83erow5_col1\" class=\"data row5 col1\" >PolynomialFeatures(degree=2, include_bias=False, interaction_only=False)</td>\n",
       "                        <td id=\"T_1a364772_f498_11e9_a5fe_008cfafbe83erow5_col2\" class=\"data row5 col2\" >LogisticRegression(C=10.0, class_weight=None, dual=False, fit_intercept=True,\n",
       "          intercept_scaling=1, max_iter=100, multi_class='warn',\n",
       "          n_jobs=None, penalty='l2', random_state=None, solver='warn',\n",
       "          tol=0.0001, verbose=0, warm_start=False)</td>\n",
       "                        <td id=\"T_1a364772_f498_11e9_a5fe_008cfafbe83erow5_col3\" class=\"data row5 col3\" >nan</td>\n",
       "            </tr>\n",
       "            <tr>\n",
       "                                <td id=\"T_1a364772_f498_11e9_a5fe_008cfafbe83erow6_col0\" class=\"data row6 col0\" >72</td>\n",
       "                        <td id=\"T_1a364772_f498_11e9_a5fe_008cfafbe83erow6_col1\" class=\"data row6 col1\" >StackingEstimator(estimator=ExtraTreesClassifier(bootstrap=True, class_weight=None, criterion='gini',\n",
       "           max_depth=None, max_features=1.0, max_leaf_nodes=None,\n",
       "           min_impurity_decrease=0.0, min_impurity_split=None,\n",
       "           min_samples_leaf=9, min_samples_split=2,\n",
       "           min_weight_fraction_leaf=0.0, n_estimators=100, n_jobs=None,\n",
       "           oob_score=False, random_state=None, verbose=0, warm_start=False))</td>\n",
       "                        <td id=\"T_1a364772_f498_11e9_a5fe_008cfafbe83erow6_col2\" class=\"data row6 col2\" >PolynomialFeatures(degree=2, include_bias=False, interaction_only=False)</td>\n",
       "                        <td id=\"T_1a364772_f498_11e9_a5fe_008cfafbe83erow6_col3\" class=\"data row6 col3\" >LogisticRegression(C=25.0, class_weight=None, dual=False, fit_intercept=True,\n",
       "          intercept_scaling=1, max_iter=100, multi_class='warn',\n",
       "          n_jobs=None, penalty='l1', random_state=None, solver='warn',\n",
       "          tol=0.0001, verbose=0, warm_start=False)</td>\n",
       "            </tr>\n",
       "            <tr>\n",
       "                                <td id=\"T_1a364772_f498_11e9_a5fe_008cfafbe83erow7_col0\" class=\"data row7 col0\" >84</td>\n",
       "                        <td id=\"T_1a364772_f498_11e9_a5fe_008cfafbe83erow7_col1\" class=\"data row7 col1\" >KNeighborsClassifier(algorithm='auto', leaf_size=30, metric='minkowski',\n",
       "           metric_params=None, n_jobs=None, n_neighbors=12, p=2,\n",
       "           weights='distance')</td>\n",
       "                        <td id=\"T_1a364772_f498_11e9_a5fe_008cfafbe83erow7_col2\" class=\"data row7 col2\" >nan</td>\n",
       "                        <td id=\"T_1a364772_f498_11e9_a5fe_008cfafbe83erow7_col3\" class=\"data row7 col3\" >nan</td>\n",
       "            </tr>\n",
       "    </tbody></table>"
      ],
      "text/plain": [
       "<pandas.io.formats.style.Styler at 0x2ad7b508f898>"
      ]
     },
     "metadata": {},
     "output_type": "display_data"
    },
    {
     "data": {
      "text/plain": [
       "'TPOTClassifierClean #1'"
      ]
     },
     "metadata": {},
     "output_type": "display_data"
    },
    {
     "data": {
      "text/html": [
       "<style  type=\"text/css\" >\n",
       "</style><table id=\"T_1a37f144_f498_11e9_a5fe_008cfafbe83e\" ><thead>    <tr>        <th class=\"col_heading level0 col0\" >max_angle</th>        <th class=\"col_heading level0 col1\" >test_acc</th>        <th class=\"col_heading level0 col2\" >train_acc</th>        <th class=\"col_heading level0 col3\" >time_err</th>        <th class=\"col_heading level0 col4\" >time_pre</th>        <th class=\"col_heading level0 col5\" >time_mod</th>    </tr></thead><tbody>\n",
       "                <tr>\n",
       "                                <td id=\"T_1a37f144_f498_11e9_a5fe_008cfafbe83erow0_col0\" class=\"data row0 col0\" >0</td>\n",
       "                        <td id=\"T_1a37f144_f498_11e9_a5fe_008cfafbe83erow0_col1\" class=\"data row0 col1\" >0.983</td>\n",
       "                        <td id=\"T_1a37f144_f498_11e9_a5fe_008cfafbe83erow0_col2\" class=\"data row0 col2\" >1</td>\n",
       "                        <td id=\"T_1a37f144_f498_11e9_a5fe_008cfafbe83erow0_col3\" class=\"data row0 col3\" >0.222</td>\n",
       "                        <td id=\"T_1a37f144_f498_11e9_a5fe_008cfafbe83erow0_col4\" class=\"data row0 col4\" >0</td>\n",
       "                        <td id=\"T_1a37f144_f498_11e9_a5fe_008cfafbe83erow0_col5\" class=\"data row0 col5\" >3728.93</td>\n",
       "            </tr>\n",
       "            <tr>\n",
       "                                <td id=\"T_1a37f144_f498_11e9_a5fe_008cfafbe83erow1_col0\" class=\"data row1 col0\" >12</td>\n",
       "                        <td id=\"T_1a37f144_f498_11e9_a5fe_008cfafbe83erow1_col1\" class=\"data row1 col1\" >0.964</td>\n",
       "                        <td id=\"T_1a37f144_f498_11e9_a5fe_008cfafbe83erow1_col2\" class=\"data row1 col2\" >1</td>\n",
       "                        <td id=\"T_1a37f144_f498_11e9_a5fe_008cfafbe83erow1_col3\" class=\"data row1 col3\" >0.259</td>\n",
       "                        <td id=\"T_1a37f144_f498_11e9_a5fe_008cfafbe83erow1_col4\" class=\"data row1 col4\" >0</td>\n",
       "                        <td id=\"T_1a37f144_f498_11e9_a5fe_008cfafbe83erow1_col5\" class=\"data row1 col5\" >3690.12</td>\n",
       "            </tr>\n",
       "            <tr>\n",
       "                                <td id=\"T_1a37f144_f498_11e9_a5fe_008cfafbe83erow2_col0\" class=\"data row2 col0\" >24</td>\n",
       "                        <td id=\"T_1a37f144_f498_11e9_a5fe_008cfafbe83erow2_col1\" class=\"data row2 col1\" >0.886</td>\n",
       "                        <td id=\"T_1a37f144_f498_11e9_a5fe_008cfafbe83erow2_col2\" class=\"data row2 col2\" >1</td>\n",
       "                        <td id=\"T_1a37f144_f498_11e9_a5fe_008cfafbe83erow2_col3\" class=\"data row2 col3\" >0.273</td>\n",
       "                        <td id=\"T_1a37f144_f498_11e9_a5fe_008cfafbe83erow2_col4\" class=\"data row2 col4\" >0</td>\n",
       "                        <td id=\"T_1a37f144_f498_11e9_a5fe_008cfafbe83erow2_col5\" class=\"data row2 col5\" >3693.34</td>\n",
       "            </tr>\n",
       "            <tr>\n",
       "                                <td id=\"T_1a37f144_f498_11e9_a5fe_008cfafbe83erow3_col0\" class=\"data row3 col0\" >36</td>\n",
       "                        <td id=\"T_1a37f144_f498_11e9_a5fe_008cfafbe83erow3_col1\" class=\"data row3 col1\" >0.769</td>\n",
       "                        <td id=\"T_1a37f144_f498_11e9_a5fe_008cfafbe83erow3_col2\" class=\"data row3 col2\" >1</td>\n",
       "                        <td id=\"T_1a37f144_f498_11e9_a5fe_008cfafbe83erow3_col3\" class=\"data row3 col3\" >0.283</td>\n",
       "                        <td id=\"T_1a37f144_f498_11e9_a5fe_008cfafbe83erow3_col4\" class=\"data row3 col4\" >0</td>\n",
       "                        <td id=\"T_1a37f144_f498_11e9_a5fe_008cfafbe83erow3_col5\" class=\"data row3 col5\" >3770.28</td>\n",
       "            </tr>\n",
       "            <tr>\n",
       "                                <td id=\"T_1a37f144_f498_11e9_a5fe_008cfafbe83erow4_col0\" class=\"data row4 col0\" >48</td>\n",
       "                        <td id=\"T_1a37f144_f498_11e9_a5fe_008cfafbe83erow4_col1\" class=\"data row4 col1\" >0.617</td>\n",
       "                        <td id=\"T_1a37f144_f498_11e9_a5fe_008cfafbe83erow4_col2\" class=\"data row4 col2\" >1</td>\n",
       "                        <td id=\"T_1a37f144_f498_11e9_a5fe_008cfafbe83erow4_col3\" class=\"data row4 col3\" >0.249</td>\n",
       "                        <td id=\"T_1a37f144_f498_11e9_a5fe_008cfafbe83erow4_col4\" class=\"data row4 col4\" >0</td>\n",
       "                        <td id=\"T_1a37f144_f498_11e9_a5fe_008cfafbe83erow4_col5\" class=\"data row4 col5\" >3862.05</td>\n",
       "            </tr>\n",
       "            <tr>\n",
       "                                <td id=\"T_1a37f144_f498_11e9_a5fe_008cfafbe83erow5_col0\" class=\"data row5 col0\" >60</td>\n",
       "                        <td id=\"T_1a37f144_f498_11e9_a5fe_008cfafbe83erow5_col1\" class=\"data row5 col1\" >0.578</td>\n",
       "                        <td id=\"T_1a37f144_f498_11e9_a5fe_008cfafbe83erow5_col2\" class=\"data row5 col2\" >1</td>\n",
       "                        <td id=\"T_1a37f144_f498_11e9_a5fe_008cfafbe83erow5_col3\" class=\"data row5 col3\" >0.221</td>\n",
       "                        <td id=\"T_1a37f144_f498_11e9_a5fe_008cfafbe83erow5_col4\" class=\"data row5 col4\" >0</td>\n",
       "                        <td id=\"T_1a37f144_f498_11e9_a5fe_008cfafbe83erow5_col5\" class=\"data row5 col5\" >3657.95</td>\n",
       "            </tr>\n",
       "            <tr>\n",
       "                                <td id=\"T_1a37f144_f498_11e9_a5fe_008cfafbe83erow6_col0\" class=\"data row6 col0\" >72</td>\n",
       "                        <td id=\"T_1a37f144_f498_11e9_a5fe_008cfafbe83erow6_col1\" class=\"data row6 col1\" >0.5</td>\n",
       "                        <td id=\"T_1a37f144_f498_11e9_a5fe_008cfafbe83erow6_col2\" class=\"data row6 col2\" >1</td>\n",
       "                        <td id=\"T_1a37f144_f498_11e9_a5fe_008cfafbe83erow6_col3\" class=\"data row6 col3\" >0.275</td>\n",
       "                        <td id=\"T_1a37f144_f498_11e9_a5fe_008cfafbe83erow6_col4\" class=\"data row6 col4\" >0</td>\n",
       "                        <td id=\"T_1a37f144_f498_11e9_a5fe_008cfafbe83erow6_col5\" class=\"data row6 col5\" >3645.24</td>\n",
       "            </tr>\n",
       "            <tr>\n",
       "                                <td id=\"T_1a37f144_f498_11e9_a5fe_008cfafbe83erow7_col0\" class=\"data row7 col0\" >84</td>\n",
       "                        <td id=\"T_1a37f144_f498_11e9_a5fe_008cfafbe83erow7_col1\" class=\"data row7 col1\" >0.442</td>\n",
       "                        <td id=\"T_1a37f144_f498_11e9_a5fe_008cfafbe83erow7_col2\" class=\"data row7 col2\" >1</td>\n",
       "                        <td id=\"T_1a37f144_f498_11e9_a5fe_008cfafbe83erow7_col3\" class=\"data row7 col3\" >0.312</td>\n",
       "                        <td id=\"T_1a37f144_f498_11e9_a5fe_008cfafbe83erow7_col4\" class=\"data row7 col4\" >0</td>\n",
       "                        <td id=\"T_1a37f144_f498_11e9_a5fe_008cfafbe83erow7_col5\" class=\"data row7 col5\" >3877.18</td>\n",
       "            </tr>\n",
       "    </tbody></table>"
      ],
      "text/plain": [
       "<pandas.io.formats.style.Styler at 0x2ad7b51225f8>"
      ]
     },
     "metadata": {},
     "output_type": "display_data"
    },
    {
     "data": {
      "text/html": [
       "<style  type=\"text/css\" >\n",
       "</style><table id=\"T_1a39a9a8_f498_11e9_a5fe_008cfafbe83e\" ><thead>    <tr>        <th class=\"col_heading level0 col0\" >max_angle</th>        <th class=\"col_heading level0 col1\" >pipe_0</th>        <th class=\"col_heading level0 col2\" >pipe_1</th>        <th class=\"col_heading level0 col3\" >pipe_2</th>    </tr></thead><tbody>\n",
       "                <tr>\n",
       "                                <td id=\"T_1a39a9a8_f498_11e9_a5fe_008cfafbe83erow0_col0\" class=\"data row0 col0\" >0</td>\n",
       "                        <td id=\"T_1a39a9a8_f498_11e9_a5fe_008cfafbe83erow0_col1\" class=\"data row0 col1\" >MinMaxScaler(copy=True, feature_range=(0, 1))</td>\n",
       "                        <td id=\"T_1a39a9a8_f498_11e9_a5fe_008cfafbe83erow0_col2\" class=\"data row0 col2\" >KNeighborsClassifier(algorithm='auto', leaf_size=30, metric='minkowski',\n",
       "           metric_params=None, n_jobs=None, n_neighbors=3, p=2,\n",
       "           weights='distance')</td>\n",
       "                        <td id=\"T_1a39a9a8_f498_11e9_a5fe_008cfafbe83erow0_col3\" class=\"data row0 col3\" >nan</td>\n",
       "            </tr>\n",
       "            <tr>\n",
       "                                <td id=\"T_1a39a9a8_f498_11e9_a5fe_008cfafbe83erow1_col0\" class=\"data row1 col0\" >12</td>\n",
       "                        <td id=\"T_1a39a9a8_f498_11e9_a5fe_008cfafbe83erow1_col1\" class=\"data row1 col1\" >StackingEstimator(estimator=LogisticRegression(C=20.0, class_weight=None, dual=True, fit_intercept=True,\n",
       "          intercept_scaling=1, max_iter=100, multi_class='warn',\n",
       "          n_jobs=None, penalty='l2', random_state=None, solver='warn',\n",
       "          tol=0.0001, verbose=0, warm_start=False))</td>\n",
       "                        <td id=\"T_1a39a9a8_f498_11e9_a5fe_008cfafbe83erow1_col2\" class=\"data row1 col2\" >KNeighborsClassifier(algorithm='auto', leaf_size=30, metric='minkowski',\n",
       "           metric_params=None, n_jobs=None, n_neighbors=3, p=1,\n",
       "           weights='distance')</td>\n",
       "                        <td id=\"T_1a39a9a8_f498_11e9_a5fe_008cfafbe83erow1_col3\" class=\"data row1 col3\" >nan</td>\n",
       "            </tr>\n",
       "            <tr>\n",
       "                                <td id=\"T_1a39a9a8_f498_11e9_a5fe_008cfafbe83erow2_col0\" class=\"data row2 col0\" >24</td>\n",
       "                        <td id=\"T_1a39a9a8_f498_11e9_a5fe_008cfafbe83erow2_col1\" class=\"data row2 col1\" >StackingEstimator(estimator=BernoulliNB(alpha=0.01, binarize=0.0, class_prior=None, fit_prior=True))</td>\n",
       "                        <td id=\"T_1a39a9a8_f498_11e9_a5fe_008cfafbe83erow2_col2\" class=\"data row2 col2\" >StackingEstimator(estimator=ExtraTreesClassifier(bootstrap=False, class_weight=None, criterion='entropy',\n",
       "           max_depth=None, max_features=0.25, max_leaf_nodes=None,\n",
       "           min_impurity_decrease=0.0, min_impurity_split=None,\n",
       "           min_samples_leaf=5, min_samples_split=10,\n",
       "           min_weight_fraction_leaf=0.0, n_estimators=100, n_jobs=None,\n",
       "           oob_score=False, random_state=None, verbose=0, warm_start=False))</td>\n",
       "                        <td id=\"T_1a39a9a8_f498_11e9_a5fe_008cfafbe83erow2_col3\" class=\"data row2 col3\" >KNeighborsClassifier(algorithm='auto', leaf_size=30, metric='minkowski',\n",
       "           metric_params=None, n_jobs=None, n_neighbors=3, p=2,\n",
       "           weights='distance')</td>\n",
       "            </tr>\n",
       "            <tr>\n",
       "                                <td id=\"T_1a39a9a8_f498_11e9_a5fe_008cfafbe83erow3_col0\" class=\"data row3 col0\" >36</td>\n",
       "                        <td id=\"T_1a39a9a8_f498_11e9_a5fe_008cfafbe83erow3_col1\" class=\"data row3 col1\" >StackingEstimator(estimator=BernoulliNB(alpha=0.01, binarize=0.0, class_prior=None, fit_prior=True))</td>\n",
       "                        <td id=\"T_1a39a9a8_f498_11e9_a5fe_008cfafbe83erow3_col2\" class=\"data row3 col2\" >StackingEstimator(estimator=ExtraTreesClassifier(bootstrap=False, class_weight=None, criterion='entropy',\n",
       "           max_depth=None, max_features=0.25, max_leaf_nodes=None,\n",
       "           min_impurity_decrease=0.0, min_impurity_split=None,\n",
       "           min_samples_leaf=5, min_samples_split=10,\n",
       "           min_weight_fraction_leaf=0.0, n_estimators=100, n_jobs=None,\n",
       "           oob_score=False, random_state=None, verbose=0, warm_start=False))</td>\n",
       "                        <td id=\"T_1a39a9a8_f498_11e9_a5fe_008cfafbe83erow3_col3\" class=\"data row3 col3\" >KNeighborsClassifier(algorithm='auto', leaf_size=30, metric='minkowski',\n",
       "           metric_params=None, n_jobs=None, n_neighbors=3, p=2,\n",
       "           weights='distance')</td>\n",
       "            </tr>\n",
       "            <tr>\n",
       "                                <td id=\"T_1a39a9a8_f498_11e9_a5fe_008cfafbe83erow4_col0\" class=\"data row4 col0\" >48</td>\n",
       "                        <td id=\"T_1a39a9a8_f498_11e9_a5fe_008cfafbe83erow4_col1\" class=\"data row4 col1\" >MinMaxScaler(copy=True, feature_range=(0, 1))</td>\n",
       "                        <td id=\"T_1a39a9a8_f498_11e9_a5fe_008cfafbe83erow4_col2\" class=\"data row4 col2\" >KNeighborsClassifier(algorithm='auto', leaf_size=30, metric='minkowski',\n",
       "           metric_params=None, n_jobs=None, n_neighbors=3, p=2,\n",
       "           weights='distance')</td>\n",
       "                        <td id=\"T_1a39a9a8_f498_11e9_a5fe_008cfafbe83erow4_col3\" class=\"data row4 col3\" >nan</td>\n",
       "            </tr>\n",
       "            <tr>\n",
       "                                <td id=\"T_1a39a9a8_f498_11e9_a5fe_008cfafbe83erow5_col0\" class=\"data row5 col0\" >60</td>\n",
       "                        <td id=\"T_1a39a9a8_f498_11e9_a5fe_008cfafbe83erow5_col1\" class=\"data row5 col1\" >KNeighborsClassifier(algorithm='auto', leaf_size=30, metric='minkowski',\n",
       "           metric_params=None, n_jobs=None, n_neighbors=3, p=2,\n",
       "           weights='distance')</td>\n",
       "                        <td id=\"T_1a39a9a8_f498_11e9_a5fe_008cfafbe83erow5_col2\" class=\"data row5 col2\" >nan</td>\n",
       "                        <td id=\"T_1a39a9a8_f498_11e9_a5fe_008cfafbe83erow5_col3\" class=\"data row5 col3\" >nan</td>\n",
       "            </tr>\n",
       "            <tr>\n",
       "                                <td id=\"T_1a39a9a8_f498_11e9_a5fe_008cfafbe83erow6_col0\" class=\"data row6 col0\" >72</td>\n",
       "                        <td id=\"T_1a39a9a8_f498_11e9_a5fe_008cfafbe83erow6_col1\" class=\"data row6 col1\" >StackingEstimator(estimator=LogisticRegression(C=20.0, class_weight=None, dual=True, fit_intercept=True,\n",
       "          intercept_scaling=1, max_iter=100, multi_class='warn',\n",
       "          n_jobs=None, penalty='l2', random_state=None, solver='warn',\n",
       "          tol=0.0001, verbose=0, warm_start=False))</td>\n",
       "                        <td id=\"T_1a39a9a8_f498_11e9_a5fe_008cfafbe83erow6_col2\" class=\"data row6 col2\" >KNeighborsClassifier(algorithm='auto', leaf_size=30, metric='minkowski',\n",
       "           metric_params=None, n_jobs=None, n_neighbors=3, p=1,\n",
       "           weights='distance')</td>\n",
       "                        <td id=\"T_1a39a9a8_f498_11e9_a5fe_008cfafbe83erow6_col3\" class=\"data row6 col3\" >nan</td>\n",
       "            </tr>\n",
       "            <tr>\n",
       "                                <td id=\"T_1a39a9a8_f498_11e9_a5fe_008cfafbe83erow7_col0\" class=\"data row7 col0\" >84</td>\n",
       "                        <td id=\"T_1a39a9a8_f498_11e9_a5fe_008cfafbe83erow7_col1\" class=\"data row7 col1\" >StackingEstimator(estimator=MultinomialNB(alpha=0.001, class_prior=None, fit_prior=False))</td>\n",
       "                        <td id=\"T_1a39a9a8_f498_11e9_a5fe_008cfafbe83erow7_col2\" class=\"data row7 col2\" >KNeighborsClassifier(algorithm='auto', leaf_size=30, metric='minkowski',\n",
       "           metric_params=None, n_jobs=None, n_neighbors=3, p=2,\n",
       "           weights='distance')</td>\n",
       "                        <td id=\"T_1a39a9a8_f498_11e9_a5fe_008cfafbe83erow7_col3\" class=\"data row7 col3\" >nan</td>\n",
       "            </tr>\n",
       "    </tbody></table>"
      ],
      "text/plain": [
       "<pandas.io.formats.style.Styler at 0x2ad6b6866c18>"
      ]
     },
     "metadata": {},
     "output_type": "display_data"
    },
    {
     "data": {
      "image/png": "[encoded data removed]",
      "text/plain": [
       "<Figure size 720x288 with 2 Axes>"
      ]
     },
     "metadata": {
      "needs_background": "light"
     },
     "output_type": "display_data"
    }
   ],
   "source": [
    "print_results_by_model(\n",
    "    df, \n",
    "    [\"train_labels\", \"test_labels\"],\n",
    "    err_param_name=\"max_angle\",\n",
    "    pipeline_name=\"best_pipeline\",\n",
    ")\n",
    "visualize(df)"
   ]
  },
  {
   "cell_type": "markdown",
   "metadata": {
    "collapsed": false,
    "papermill": {
     "duration": 0.312985,
     "end_time": "2019-10-22T06:49:34.589474",
     "exception": false,
     "start_time": "2019-10-22T06:49:34.276489",
     "status": "completed"
    },
    "pycharm": {
     "name": "#%% md\n"
    },
    "tags": []
   },
   "source": []
  }
 ],
 "metadata": {
  "kernelspec": {
   "display_name": "Python 3",
   "language": "python",
   "name": "python3"
  },
  "language_info": {
   "codemirror_mode": {
    "name": "ipython",
    "version": 3
   },
   "file_extension": ".py",
   "mimetype": "text/x-python",
   "name": "python",
   "nbconvert_exporter": "python",
   "pygments_lexer": "ipython3",
   "version": "3.6.6"
  },
  "papermill": {
   "duration": 28457.063519,
   "end_time": "2019-10-22T06:49:39.984611",
   "environment_variables": {},
   "exception": null,
   "input_path": "docs/case_studies/test.ipynb",
   "output_path": "docs/case_studies/test.ipynb",
   "parameters": {},
   "start_time": "2019-10-21T22:55:22.921092",
   "version": "1.2.0"
  },
  "pycharm": {
   "stem_cell": {
    "cell_type": "raw",
    "source": [],
    "metadata": {
     "collapsed": false
    }
   }
  },
  "widgets": {
   "application/vnd.jupyter.widget-state+json": {
    "state": {},
    "version_major": 2,
    "version_minor": 0
   }
  }
 },
 "nbformat": 4,
 "nbformat_minor": 0
}