{
 "cells": [
  {
   "cell_type": "markdown",
   "metadata": {
    "collapsed": false,
    "papermill": {
     "duration": 0.041077,
     "end_time": "2019-12-16T22:14:05.776587",
     "exception": false,
     "start_time": "2019-12-16T22:14:05.735510",
     "status": "completed"
    },
    "tags": []
   },
   "source": [
    "# AutoML Image Classification: With Rotation (Fashion MNIST)"
   ]
  },
  {
   "cell_type": "code",
   "execution_count": 1,
   "metadata": {
    "collapsed": false,
    "papermill": {
     "duration": 0.04163,
     "end_time": "2019-12-16T22:14:05.847884",
     "exception": false,
     "start_time": "2019-12-16T22:14:05.806254",
     "status": "completed"
    },
    "pycharm": {
     "name": "#%%\n"
    },
    "tags": []
   },
   "outputs": [],
   "source": [
    "import warnings\n",
    "warnings.simplefilter(action=\"ignore\", category=FutureWarning)"
   ]
  },
  {
   "cell_type": "markdown",
   "metadata": {
    "collapsed": false,
    "papermill": {
     "duration": 0.024541,
     "end_time": "2019-12-16T22:14:05.898721",
     "exception": false,
     "start_time": "2019-12-16T22:14:05.874180",
     "status": "completed"
    },
    "pycharm": {
     "name": "#%% md\n"
    },
    "tags": []
   },
   "source": [
    "![](imgs/rotation.png)"
   ]
  },
  {
   "cell_type": "code",
   "execution_count": 2,
   "metadata": {
    "collapsed": false,
    "papermill": {
     "duration": 34.330031,
     "end_time": "2019-12-16T22:14:40.249234",
     "exception": false,
     "start_time": "2019-12-16T22:14:05.919203",
     "status": "completed"
    },
    "pycharm": {
     "name": "#%%\n"
    },
    "tags": []
   },
   "outputs": [
    {
     "name": "stdout",
     "output_type": "stream",
     "text": [
      "Better speed can be achieved with apex installed from https://www.github.com/nvidia/apex.\n"
     ]
    },
    {
     "name": "stderr",
     "output_type": "stream",
     "text": [
      "Using TensorFlow backend.\n"
     ]
    }
   ],
   "source": [
    "import random as rn\n",
    "from abc import ABC, abstractmethod\n",
    "\n",
    "import autokeras as ak\n",
    "import h2o\n",
    "import matplotlib.pyplot as plt\n",
    "import numpy as np\n",
    "from h2o.automl import H2OAutoML\n",
    "from keras.datasets import fashion_mnist\n",
    "from numpy.random import RandomState\n",
    "from sklearn.datasets import load_digits\n",
    "from sklearn.metrics import accuracy_score\n",
    "from sklearn.model_selection import train_test_split\n",
    "from tpot import TPOTClassifier\n",
    "\n",
    "from dpemu import runner\n",
    "from dpemu.filters.common import GaussianNoise, Clip\n",
    "from dpemu.filters.image import RotationPIL\n",
    "from dpemu.nodes import Array\n",
    "from dpemu.nodes.series import Series\n",
    "from dpemu.plotting_utils import visualize_scores, print_results_by_model\n",
    "from dpemu.utils import generate_tmpdir"
   ]
  },
  {
   "cell_type": "markdown",
   "metadata": {
    "collapsed": false,
    "papermill": {
     "duration": 0.029828,
     "end_time": "2019-12-16T22:14:40.314357",
     "exception": false,
     "start_time": "2019-12-16T22:14:40.284529",
     "status": "completed"
    },
    "pycharm": {
     "is_executing": false,
     "name": "#%% md\n"
    },
    "tags": []
   },
   "source": []
  },
  {
   "cell_type": "code",
   "execution_count": 3,
   "metadata": {
    "collapsed": false,
    "papermill": {
     "duration": 0.043927,
     "end_time": "2019-12-16T22:14:40.385606",
     "exception": false,
     "start_time": "2019-12-16T22:14:40.341679",
     "status": "completed"
    },
    "pycharm": {
     "name": "#%%\n"
    },
    "tags": []
   },
   "outputs": [],
   "source": [
    "def get_data():\n",
    "    # random_state = RandomState(42)\n",
    "    # x, y = load_digits(return_X_y=True)\n",
    "    # y = y.astype(np.uint8)\n",
    "    # return train_test_split(x, y, test_size=.25, random_state=random_state)\n",
    "    (x_train, y_train), (x_test, y_test) = fashion_mnist.load_data()\n",
    "    s = x_train.shape[1]\n",
    "    x_train = x_train.reshape((len(x_train), s**2)).astype(np.float64)\n",
    "    x_test = x_test.reshape((len(x_test), s**2)).astype(np.float64)\n",
    "    return x_train, x_test, y_train, y_test"
   ]
  },
  {
   "cell_type": "markdown",
   "metadata": {
    "collapsed": false,
    "papermill": {
     "duration": 0.025198,
     "end_time": "2019-12-16T22:14:40.436193",
     "exception": false,
     "start_time": "2019-12-16T22:14:40.410995",
     "status": "completed"
    },
    "pycharm": {
     "is_executing": false,
     "name": "#%% md\n"
    },
    "tags": []
   },
   "source": []
  },
  {
   "cell_type": "code",
   "execution_count": 4,
   "metadata": {
    "collapsed": false,
    "papermill": {
     "duration": 0.031572,
     "end_time": "2019-12-16T22:14:40.489510",
     "exception": false,
     "start_time": "2019-12-16T22:14:40.457938",
     "status": "completed"
    },
    "pycharm": {
     "name": "#%%\n"
    },
    "tags": []
   },
   "outputs": [],
   "source": [
    "def get_err_root_node():\n",
    "    # err_img_node = Array(reshape=(8, 8))\n",
    "    err_img_node = Array(reshape=(28, 28))\n",
    "\n",
    "    err_root_node = Series(err_img_node)\n",
    "    err_img_node.addfilter(RotationPIL(\"max_angle\"))\n",
    "    return err_root_node\n",
    "    # err_root_node = Series(err_img_node)\n",
    "    # err_img_node.addfilter(GaussianNoise(\"mean\", \"std\"))\n",
    "    # err_img_node.addfilter(Clip(\"min_val\", \"max_val\"))\n",
    "    # return err_root_node"
   ]
  },
  {
   "cell_type": "markdown",
   "metadata": {
    "collapsed": false,
    "papermill": {
     "duration": 0.019406,
     "end_time": "2019-12-16T22:14:40.527427",
     "exception": false,
     "start_time": "2019-12-16T22:14:40.508021",
     "status": "completed"
    },
    "pycharm": {
     "is_executing": false,
     "name": "#%% md\n"
    },
    "tags": []
   },
   "source": []
  },
  {
   "cell_type": "code",
   "execution_count": 5,
   "metadata": {
    "collapsed": false,
    "papermill": {
     "duration": 0.03183,
     "end_time": "2019-12-16T22:14:40.578117",
     "exception": false,
     "start_time": "2019-12-16T22:14:40.546287",
     "status": "completed"
    },
    "pycharm": {
     "name": "#%%\n"
    },
    "tags": []
   },
   "outputs": [],
   "source": [
    "def get_err_params_list(data):\n",
    "    angle_steps = np.linspace(0, 180, num=6)\n",
    "    err_params_list = [{\"max_angle\": a} for a in angle_steps]\n",
    "    return err_params_list\n",
    "    # min_val = np.amin(data)\n",
    "    # max_val = np.amax(data)\n",
    "    # std_steps = np.round(np.linspace(0, max_val, num=6), 3)\n",
    "    # err_params_list = [{\"mean\": 0, \"std\": std, \"min_val\": min_val, \"max_val\": max_val} for std in std_steps]\n",
    "    # return err_params_list"
   ]
  },
  {
   "cell_type": "markdown",
   "metadata": {
    "collapsed": false,
    "papermill": {
     "duration": 0.019313,
     "end_time": "2019-12-16T22:14:40.615793",
     "exception": false,
     "start_time": "2019-12-16T22:14:40.596480",
     "status": "completed"
    },
    "pycharm": {
     "is_executing": false,
     "name": "#%% md\n"
    },
    "tags": []
   },
   "source": []
  },
  {
   "cell_type": "code",
   "execution_count": 6,
   "metadata": {
    "collapsed": false,
    "papermill": {
     "duration": 0.032418,
     "end_time": "2019-12-16T22:14:40.666762",
     "exception": false,
     "start_time": "2019-12-16T22:14:40.634344",
     "status": "completed"
    },
    "pycharm": {
     "name": "#%%\n"
    },
    "tags": []
   },
   "outputs": [],
   "source": [
    "class Preprocessor:\n",
    "\n",
    "    def run(self, train_data, test_data, params):\n",
    "        return np.round(train_data).astype(np.uint8), np.round(test_data).astype(np.uint8), {}"
   ]
  },
  {
   "cell_type": "markdown",
   "metadata": {
    "collapsed": false,
    "papermill": {
     "duration": 0.026887,
     "end_time": "2019-12-16T22:14:40.712255",
     "exception": false,
     "start_time": "2019-12-16T22:14:40.685368",
     "status": "completed"
    },
    "pycharm": {
     "is_executing": false,
     "name": "#%% md\n"
    },
    "tags": []
   },
   "source": []
  },
  {
   "cell_type": "code",
   "execution_count": 7,
   "metadata": {
    "collapsed": false,
    "papermill": {
     "duration": 0.084703,
     "end_time": "2019-12-16T22:14:40.818236",
     "exception": false,
     "start_time": "2019-12-16T22:14:40.733533",
     "status": "completed"
    },
    "pycharm": {
     "name": "#%%\n"
    },
    "tags": []
   },
   "outputs": [],
   "source": [
    "class AbstractModel(ABC):\n",
    "\n",
    "    def __init__(self):\n",
    "        self.time_limit_mins = 60*3\n",
    "        self.seed = 42\n",
    "        self.random_state = RandomState(self.seed)\n",
    "        np.random.seed(self.seed)\n",
    "\n",
    "    @abstractmethod\n",
    "    def get_fitted_model(self, train_data, train_labels, params):\n",
    "        pass\n",
    "\n",
    "    @abstractmethod\n",
    "    def get_accuracy(self, data, labels, fitted_model, params):\n",
    "        pass\n",
    "\n",
    "    @abstractmethod\n",
    "    def get_best_pipeline(self, fitted_model):\n",
    "        pass\n",
    "\n",
    "    def run(self, train_data, test_data, params):\n",
    "        train_labels = params[\"train_labels\"]\n",
    "        test_labels = params[\"test_labels\"]\n",
    "\n",
    "        fitted_model = self.get_fitted_model(train_data, train_labels, params)\n",
    "\n",
    "        results = {\n",
    "            \"test_acc\": self.get_accuracy(test_data, test_labels, fitted_model, params),\n",
    "            \"train_acc\": self.get_accuracy(train_data, train_labels, fitted_model, params),\n",
    "            \"best_pipeline\": self.get_best_pipeline(fitted_model),\n",
    "        }\n",
    "        print(type(fitted_model))\n",
    "        print(results[\"test_acc\"])\n",
    "        return results\n",
    "\n",
    "class TPOTClassifierModel(AbstractModel):\n",
    "\n",
    "    def __init__(self):\n",
    "        super().__init__()\n",
    "\n",
    "    def get_fitted_model(self, train_data, train_labels, params):\n",
    "        return TPOTClassifier(\n",
    "            max_time_mins=self.time_limit_mins,\n",
    "            max_eval_time_mins=self.time_limit_mins,\n",
    "            n_jobs=-1,\n",
    "            random_state=self.seed,\n",
    "            verbosity=1,\n",
    "        ).fit(train_data, train_labels)\n",
    "    \n",
    "    def get_accuracy(self, data, labels, fitted_model, params):\n",
    "        return round(fitted_model.score(data, labels), 3)\n",
    "\n",
    "    def get_best_pipeline(self, fitted_model):\n",
    "        return [step[1] for step in fitted_model.fitted_pipeline_.steps]\n",
    "\n",
    "class H2OAutoMLModel(AbstractModel):\n",
    "\n",
    "    def __init__(self):\n",
    "        super().__init__()\n",
    "        h2o.init(name=f\"#{rn.SystemRandom().randint(1, 2**30)}\", nthreads=48)\n",
    "        h2o.no_progress()\n",
    "\n",
    "    def get_fitted_model(self, train_data, train_labels, params):\n",
    "        train_data = h2o.H2OFrame(np.concatenate((train_data, train_labels.reshape(-1, 1)), axis=1))\n",
    "        x = np.array(train_data.columns)[:-1].tolist()\n",
    "        y = np.array(train_data.columns)[-1].tolist()\n",
    "        train_data[y] = train_data[y].asfactor()\n",
    "        aml = H2OAutoML(max_runtime_secs=60*self.time_limit_mins, seed=self.seed)\n",
    "        aml.train(x=x, y=y, training_frame=train_data)\n",
    "        return aml\n",
    "\n",
    "    def get_accuracy(self, data, labels, fitted_model, params):\n",
    "        data = h2o.H2OFrame(np.concatenate((data, labels.reshape(-1, 1)), axis=1))\n",
    "        y = np.array(data.columns)[-1].tolist()\n",
    "        data[y] = data[y].asfactor()\n",
    "        pred = fitted_model.predict(data).as_data_frame(header=False)[\"predict\"].values.astype(int)\n",
    "        return np.round(np.mean(pred == labels), 3)\n",
    "\n",
    "    def get_best_pipeline(self, fitted_model):\n",
    "        leader_params = fitted_model.leader.get_params()\n",
    "        best_pipeline = [leader_params[\"model_id\"][\"actual_value\"][\"name\"]]\n",
    "        if \"base_models\" in leader_params:\n",
    "            for base_model in leader_params[\"base_models\"][\"actual_value\"]:\n",
    "                best_pipeline.append(base_model[\"name\"])\n",
    "        h2o.cluster().shutdown()\n",
    "        return best_pipeline\n",
    "\n",
    "class AutoKerasModel(AbstractModel):\n",
    "\n",
    "    def __init__(self):\n",
    "        super().__init__()\n",
    "        import tensorflow as tf\n",
    "        tf.set_random_seed(self.seed)\n",
    "        import torch\n",
    "        torch.multiprocessing.set_sharing_strategy(\"file_system\")\n",
    "        torch.manual_seed(self.seed)\n",
    "\n",
    "    def get_fitted_model(self, x_train, y_train, params):\n",
    "        s = np.sqrt(x_train.shape[1]).astype(int)\n",
    "        x_train = x_train.reshape((len(x_train), s, s, 1))\n",
    "        clf = ak.ImageClassifier(augment=True, path=generate_tmpdir(), verbose=False)\n",
    "        clf.fit(x_train, y_train, time_limit=60*self.time_limit_mins)\n",
    "        return clf\n",
    "\n",
    "    def get_accuracy(self, x, y, clf, params):\n",
    "        s = np.sqrt(x.shape[1]).astype(int)\n",
    "        x = x.reshape((len(x), s, s, 1))\n",
    "        y_pred = clf.predict(x)\n",
    "        return np.round(accuracy_score(y_true=y, y_pred=y_pred), 3)\n",
    "\n",
    "    def get_best_pipeline(self, clf):\n",
    "        return [m for i, m in enumerate(clf.cnn.best_model.produce_model().modules()) if i > 0]"
   ]
  },
  {
   "cell_type": "markdown",
   "metadata": {
    "collapsed": false,
    "papermill": {
     "duration": 0.032056,
     "end_time": "2019-12-16T22:14:40.884287",
     "exception": false,
     "start_time": "2019-12-16T22:14:40.852231",
     "status": "completed"
    },
    "pycharm": {
     "name": "#%% md\n"
    },
    "tags": []
   },
   "source": []
  },
  {
   "cell_type": "code",
   "execution_count": 8,
   "metadata": {
    "collapsed": false,
    "papermill": {
     "duration": 0.040254,
     "end_time": "2019-12-16T22:14:40.952191",
     "exception": false,
     "start_time": "2019-12-16T22:14:40.911937",
     "status": "completed"
    },
    "pycharm": {
     "name": "#%%\n"
    },
    "tags": []
   },
   "outputs": [],
   "source": [
    "def get_model_params_dict_list(train_labels, test_labels):\n",
    "    model_params_base = {\"train_labels\": train_labels, \"test_labels\": test_labels}\n",
    "    return [\n",
    "        # {\n",
    "        #     \"model\": TPOTClassifierModel,\n",
    "        #     \"params_list\": [{**model_params_base}],\n",
    "        #     \"use_clean_train_data\": False\n",
    "        # },\n",
    "        # {\n",
    "        #     \"model\": TPOTClassifierModel,\n",
    "        #     \"params_list\": [{**model_params_base}],\n",
    "        #     \"use_clean_train_data\": True\n",
    "        # },\n",
    "        # {\n",
    "        #     \"model\": H2OAutoMLModel,\n",
    "        #     \"params_list\": [{**model_params_base}],\n",
    "        #     \"use_clean_train_data\": False\n",
    "        # },\n",
    "        # {\n",
    "        #     \"model\": H2OAutoMLModel,\n",
    "        #     \"params_list\": [{**model_params_base}],\n",
    "        #     \"use_clean_train_data\": True\n",
    "        # },\n",
    "        {\n",
    "            \"model\": AutoKerasModel,\n",
    "            \"params_list\": [{**model_params_base}],\n",
    "            \"use_clean_train_data\": False\n",
    "        },\n",
    "        # {\n",
    "        #     \"model\": AutoKerasModel,\n",
    "        #     \"params_list\": [{**model_params_base}],\n",
    "        #     \"use_clean_train_data\": True\n",
    "        # },\n",
    "    ]"
   ]
  },
  {
   "cell_type": "markdown",
   "metadata": {
    "collapsed": false,
    "papermill": {
     "duration": 0.01854,
     "end_time": "2019-12-16T22:14:40.993948",
     "exception": false,
     "start_time": "2019-12-16T22:14:40.975408",
     "status": "completed"
    },
    "pycharm": {
     "is_executing": false,
     "name": "#%% md\n"
    },
    "tags": []
   },
   "source": []
  },
  {
   "cell_type": "code",
   "execution_count": 9,
   "metadata": {
    "collapsed": false,
    "papermill": {
     "duration": 0.033311,
     "end_time": "2019-12-16T22:14:41.046302",
     "exception": false,
     "start_time": "2019-12-16T22:14:41.012991",
     "status": "completed"
    },
    "pycharm": {
     "name": "#%%\n"
    },
    "tags": []
   },
   "outputs": [],
   "source": [
    "def visualize(df):\n",
    "    visualize_scores(\n",
    "        df,\n",
    "        score_names=[\"test_acc\", \"train_acc\"],\n",
    "        is_higher_score_better=[True, True],\n",
    "        err_param_name=\"max_angle\",\n",
    "        # err_param_name=\"std\",\n",
    "        title=\"Classification scores with added error\"\n",
    "    )\n",
    "    plt.show()"
   ]
  },
  {
   "cell_type": "markdown",
   "metadata": {
    "collapsed": false,
    "papermill": {
     "duration": 0.019479,
     "end_time": "2019-12-16T22:14:41.084493",
     "exception": false,
     "start_time": "2019-12-16T22:14:41.065014",
     "status": "completed"
    },
    "pycharm": {
     "is_executing": false,
     "name": "#%% md\n"
    },
    "tags": []
   },
   "source": []
  },
  {
   "cell_type": "code",
   "execution_count": 10,
   "metadata": {
    "collapsed": false,
    "papermill": {
     "duration": 64956.829579,
     "end_time": "2019-12-17T16:17:17.933472",
     "exception": false,
     "start_time": "2019-12-16T22:14:41.103893",
     "status": "completed"
    },
    "pycharm": {
     "is_executing": false,
     "name": "#%%\n"
    },
    "tags": []
   },
   "outputs": [
    {
     "name": "stderr",
     "output_type": "stream",
     "text": [
      "\r",
      "  0%|          | 0/6 [00:00<?, ?it/s]"
     ]
    },
    {
     "name": "stderr",
     "output_type": "stream",
     "text": [
      "WARNING:root:TimeoutError occurred at train() : "
     ]
    },
    {
     "name": "stderr",
     "output_type": "stream",
     "text": [
      "\n"
     ]
    },
    {
     "name": "stdout",
     "output_type": "stream",
     "text": [
      "<class 'autokeras.image.image_supervised.ImageClassifier'>"
     ]
    },
    {
     "name": "stdout",
     "output_type": "stream",
     "text": [
      "\n"
     ]
    },
    {
     "name": "stdout",
     "output_type": "stream",
     "text": [
      "0.812"
     ]
    },
    {
     "name": "stdout",
     "output_type": "stream",
     "text": [
      "\n"
     ]
    },
    {
     "name": "stderr",
     "output_type": "stream",
     "text": [
      "\r",
      " 17%|█▋        | 1/6 [3:00:24<15:02:01, 10824.34s/it]"
     ]
    },
    {
     "name": "stderr",
     "output_type": "stream",
     "text": [
      "WARNING:root:TimeoutError occurred at train() : "
     ]
    },
    {
     "name": "stderr",
     "output_type": "stream",
     "text": [
      "\n"
     ]
    },
    {
     "name": "stdout",
     "output_type": "stream",
     "text": [
      "<class 'autokeras.image.image_supervised.ImageClassifier'>"
     ]
    },
    {
     "name": "stdout",
     "output_type": "stream",
     "text": [
      "\n"
     ]
    },
    {
     "name": "stdout",
     "output_type": "stream",
     "text": [
      "0.762"
     ]
    },
    {
     "name": "stdout",
     "output_type": "stream",
     "text": [
      "\n"
     ]
    },
    {
     "name": "stderr",
     "output_type": "stream",
     "text": [
      "\r",
      " 33%|███▎      | 2/6 [6:00:51<12:01:41, 10825.27s/it]"
     ]
    },
    {
     "name": "stderr",
     "output_type": "stream",
     "text": [
      "WARNING:root:TimeoutError occurred at train() : "
     ]
    },
    {
     "name": "stderr",
     "output_type": "stream",
     "text": [
      "\n"
     ]
    },
    {
     "name": "stdout",
     "output_type": "stream",
     "text": [
      "<class 'autokeras.image.image_supervised.ImageClassifier'>"
     ]
    },
    {
     "name": "stdout",
     "output_type": "stream",
     "text": [
      "\n"
     ]
    },
    {
     "name": "stdout",
     "output_type": "stream",
     "text": [
      "0.632"
     ]
    },
    {
     "name": "stdout",
     "output_type": "stream",
     "text": [
      "\n"
     ]
    },
    {
     "name": "stderr",
     "output_type": "stream",
     "text": [
      "\r",
      " 50%|█████     | 3/6 [9:01:17<9:01:16, 10825.41s/it] "
     ]
    },
    {
     "name": "stderr",
     "output_type": "stream",
     "text": [
      "WARNING:root:TimeoutError occurred at train() : "
     ]
    },
    {
     "name": "stderr",
     "output_type": "stream",
     "text": [
      "\n"
     ]
    },
    {
     "name": "stdout",
     "output_type": "stream",
     "text": [
      "<class 'autokeras.image.image_supervised.ImageClassifier'>"
     ]
    },
    {
     "name": "stdout",
     "output_type": "stream",
     "text": [
      "\n"
     ]
    },
    {
     "name": "stdout",
     "output_type": "stream",
     "text": [
      "0.647"
     ]
    },
    {
     "name": "stdout",
     "output_type": "stream",
     "text": [
      "\n"
     ]
    },
    {
     "name": "stderr",
     "output_type": "stream",
     "text": [
      "\r",
      " 67%|██████▋   | 4/6 [12:01:43<6:00:51, 10825.65s/it]"
     ]
    },
    {
     "name": "stderr",
     "output_type": "stream",
     "text": [
      "WARNING:root:TimeoutError occurred at train() : "
     ]
    },
    {
     "name": "stderr",
     "output_type": "stream",
     "text": [
      "\n"
     ]
    },
    {
     "name": "stdout",
     "output_type": "stream",
     "text": [
      "<class 'autokeras.image.image_supervised.ImageClassifier'>"
     ]
    },
    {
     "name": "stdout",
     "output_type": "stream",
     "text": [
      "\n"
     ]
    },
    {
     "name": "stdout",
     "output_type": "stream",
     "text": [
      "0.603"
     ]
    },
    {
     "name": "stdout",
     "output_type": "stream",
     "text": [
      "\n"
     ]
    },
    {
     "name": "stderr",
     "output_type": "stream",
     "text": [
      "\r",
      " 83%|████████▎ | 5/6 [15:02:08<3:00:25, 10825.48s/it]"
     ]
    },
    {
     "name": "stderr",
     "output_type": "stream",
     "text": [
      "WARNING:root:TimeoutError occurred at train() : "
     ]
    },
    {
     "name": "stderr",
     "output_type": "stream",
     "text": [
      "\n"
     ]
    },
    {
     "name": "stdout",
     "output_type": "stream",
     "text": [
      "<class 'autokeras.image.image_supervised.ImageClassifier'>"
     ]
    },
    {
     "name": "stdout",
     "output_type": "stream",
     "text": [
      "\n"
     ]
    },
    {
     "name": "stdout",
     "output_type": "stream",
     "text": [
      "0.625"
     ]
    },
    {
     "name": "stdout",
     "output_type": "stream",
     "text": [
      "\n"
     ]
    },
    {
     "name": "stderr",
     "output_type": "stream",
     "text": [
      "\r",
      "100%|██████████| 6/6 [18:02:34<00:00, 10825.54s/it]  "
     ]
    },
    {
     "name": "stderr",
     "output_type": "stream",
     "text": [
      "\r",
      "100%|██████████| 6/6 [18:02:34<00:00, 10825.75s/it]"
     ]
    },
    {
     "name": "stderr",
     "output_type": "stream",
     "text": [
      "\n"
     ]
    }
   ],
   "source": [
    "train_data, test_data, train_labels, test_labels = get_data()\n",
    "\n",
    "df = runner.run(\n",
    "    train_data=train_data,\n",
    "    test_data=test_data,\n",
    "    preproc=Preprocessor,\n",
    "    preproc_params=None,\n",
    "    err_root_node=get_err_root_node(),\n",
    "    err_params_list=get_err_params_list(train_data),\n",
    "    model_params_dict_list=get_model_params_dict_list(train_labels, test_labels),\n",
    "    n_processes=1\n",
    ")"
   ]
  },
  {
   "cell_type": "code",
   "execution_count": 11,
   "metadata": {
    "collapsed": false,
    "papermill": {
     "duration": 1.820958,
     "end_time": "2019-12-17T16:17:19.826161",
     "exception": false,
     "start_time": "2019-12-17T16:17:18.005203",
     "status": "completed"
    },
    "pycharm": {
     "name": "#%%\n"
    },
    "tags": []
   },
   "outputs": [
    {
     "data": {
      "text/plain": [
       "'AutoKeras #1'"
      ]
     },
     "metadata": {},
     "output_type": "display_data"
    },
    {
     "data": {
      "text/html": [
       "<style  type=\"text/css\" >\n",
       "</style><table id=\"T_b23bba30_20e8_11ea_b599_1418772eafb8\" ><thead>    <tr>        <th class=\"col_heading level0 col0\" >max_angle</th>        <th class=\"col_heading level0 col1\" >test_acc</th>        <th class=\"col_heading level0 col2\" >train_acc</th>        <th class=\"col_heading level0 col3\" >time_err</th>        <th class=\"col_heading level0 col4\" >time_pre</th>        <th class=\"col_heading level0 col5\" >time_mod</th>    </tr></thead><tbody>\n",
       "                <tr>\n",
       "                                <td id=\"T_b23bba30_20e8_11ea_b599_1418772eafb8row0_col0\" class=\"data row0 col0\" >0</td>\n",
       "                        <td id=\"T_b23bba30_20e8_11ea_b599_1418772eafb8row0_col1\" class=\"data row0 col1\" >0.812</td>\n",
       "                        <td id=\"T_b23bba30_20e8_11ea_b599_1418772eafb8row0_col2\" class=\"data row0 col2\" >0.826</td>\n",
       "                        <td id=\"T_b23bba30_20e8_11ea_b599_1418772eafb8row0_col3\" class=\"data row0 col3\" >8.21</td>\n",
       "                        <td id=\"T_b23bba30_20e8_11ea_b599_1418772eafb8row0_col4\" class=\"data row0 col4\" >0.772</td>\n",
       "                        <td id=\"T_b23bba30_20e8_11ea_b599_1418772eafb8row0_col5\" class=\"data row0 col5\" >10814.7</td>\n",
       "            </tr>\n",
       "            <tr>\n",
       "                                <td id=\"T_b23bba30_20e8_11ea_b599_1418772eafb8row1_col0\" class=\"data row1 col0\" >36</td>\n",
       "                        <td id=\"T_b23bba30_20e8_11ea_b599_1418772eafb8row1_col1\" class=\"data row1 col1\" >0.762</td>\n",
       "                        <td id=\"T_b23bba30_20e8_11ea_b599_1418772eafb8row1_col2\" class=\"data row1 col2\" >0.768</td>\n",
       "                        <td id=\"T_b23bba30_20e8_11ea_b599_1418772eafb8row1_col3\" class=\"data row1 col3\" >10.566</td>\n",
       "                        <td id=\"T_b23bba30_20e8_11ea_b599_1418772eafb8row1_col4\" class=\"data row1 col4\" >0.768</td>\n",
       "                        <td id=\"T_b23bba30_20e8_11ea_b599_1418772eafb8row1_col5\" class=\"data row1 col5\" >10815.4</td>\n",
       "            </tr>\n",
       "            <tr>\n",
       "                                <td id=\"T_b23bba30_20e8_11ea_b599_1418772eafb8row2_col0\" class=\"data row2 col0\" >72</td>\n",
       "                        <td id=\"T_b23bba30_20e8_11ea_b599_1418772eafb8row2_col1\" class=\"data row2 col1\" >0.632</td>\n",
       "                        <td id=\"T_b23bba30_20e8_11ea_b599_1418772eafb8row2_col2\" class=\"data row2 col2\" >0.634</td>\n",
       "                        <td id=\"T_b23bba30_20e8_11ea_b599_1418772eafb8row2_col3\" class=\"data row2 col3\" >10.469</td>\n",
       "                        <td id=\"T_b23bba30_20e8_11ea_b599_1418772eafb8row2_col4\" class=\"data row2 col4\" >0.753</td>\n",
       "                        <td id=\"T_b23bba30_20e8_11ea_b599_1418772eafb8row2_col5\" class=\"data row2 col5\" >10813.8</td>\n",
       "            </tr>\n",
       "            <tr>\n",
       "                                <td id=\"T_b23bba30_20e8_11ea_b599_1418772eafb8row3_col0\" class=\"data row3 col0\" >108</td>\n",
       "                        <td id=\"T_b23bba30_20e8_11ea_b599_1418772eafb8row3_col1\" class=\"data row3 col1\" >0.647</td>\n",
       "                        <td id=\"T_b23bba30_20e8_11ea_b599_1418772eafb8row3_col2\" class=\"data row3 col2\" >0.653</td>\n",
       "                        <td id=\"T_b23bba30_20e8_11ea_b599_1418772eafb8row3_col3\" class=\"data row3 col3\" >10.527</td>\n",
       "                        <td id=\"T_b23bba30_20e8_11ea_b599_1418772eafb8row3_col4\" class=\"data row3 col4\" >0.764</td>\n",
       "                        <td id=\"T_b23bba30_20e8_11ea_b599_1418772eafb8row3_col5\" class=\"data row3 col5\" >10814.2</td>\n",
       "            </tr>\n",
       "            <tr>\n",
       "                                <td id=\"T_b23bba30_20e8_11ea_b599_1418772eafb8row4_col0\" class=\"data row4 col0\" >144</td>\n",
       "                        <td id=\"T_b23bba30_20e8_11ea_b599_1418772eafb8row4_col1\" class=\"data row4 col1\" >0.603</td>\n",
       "                        <td id=\"T_b23bba30_20e8_11ea_b599_1418772eafb8row4_col2\" class=\"data row4 col2\" >0.608</td>\n",
       "                        <td id=\"T_b23bba30_20e8_11ea_b599_1418772eafb8row4_col3\" class=\"data row4 col3\" >10.655</td>\n",
       "                        <td id=\"T_b23bba30_20e8_11ea_b599_1418772eafb8row4_col4\" class=\"data row4 col4\" >0.751</td>\n",
       "                        <td id=\"T_b23bba30_20e8_11ea_b599_1418772eafb8row4_col5\" class=\"data row4 col5\" >10813</td>\n",
       "            </tr>\n",
       "            <tr>\n",
       "                                <td id=\"T_b23bba30_20e8_11ea_b599_1418772eafb8row5_col0\" class=\"data row5 col0\" >180</td>\n",
       "                        <td id=\"T_b23bba30_20e8_11ea_b599_1418772eafb8row5_col1\" class=\"data row5 col1\" >0.625</td>\n",
       "                        <td id=\"T_b23bba30_20e8_11ea_b599_1418772eafb8row5_col2\" class=\"data row5 col2\" >0.632</td>\n",
       "                        <td id=\"T_b23bba30_20e8_11ea_b599_1418772eafb8row5_col3\" class=\"data row5 col3\" >10.585</td>\n",
       "                        <td id=\"T_b23bba30_20e8_11ea_b599_1418772eafb8row5_col4\" class=\"data row5 col4\" >0.764</td>\n",
       "                        <td id=\"T_b23bba30_20e8_11ea_b599_1418772eafb8row5_col5\" class=\"data row5 col5\" >10813.6</td>\n",
       "            </tr>\n",
       "    </tbody></table>"
      ],
      "text/plain": [
       "<pandas.io.formats.style.Styler at 0x2b58e415ae48>"
      ]
     },
     "metadata": {},
     "output_type": "display_data"
    },
    {
     "data": {
      "text/html": [
       "<style  type=\"text/css\" >\n",
       "</style><table id=\"T_b2407188_20e8_11ea_b599_1418772eafb8\" ><thead>    <tr>        <th class=\"col_heading level0 col0\" >max_angle</th>        <th class=\"col_heading level0 col1\" >pipe_0</th>        <th class=\"col_heading level0 col2\" >pipe_1</th>        <th class=\"col_heading level0 col3\" >pipe_2</th>        <th class=\"col_heading level0 col4\" >pipe_3</th>        <th class=\"col_heading level0 col5\" >pipe_4</th>        <th class=\"col_heading level0 col6\" >pipe_5</th>        <th class=\"col_heading level0 col7\" >pipe_6</th>        <th class=\"col_heading level0 col8\" >pipe_7</th>        <th class=\"col_heading level0 col9\" >pipe_8</th>        <th class=\"col_heading level0 col10\" >pipe_9</th>        <th class=\"col_heading level0 col11\" >pipe_10</th>        <th class=\"col_heading level0 col12\" >pipe_11</th>        <th class=\"col_heading level0 col13\" >pipe_12</th>        <th class=\"col_heading level0 col14\" >pipe_13</th>        <th class=\"col_heading level0 col15\" >pipe_14</th>        <th class=\"col_heading level0 col16\" >pipe_15</th>        <th class=\"col_heading level0 col17\" >pipe_16</th>    </tr></thead><tbody>\n",
       "                <tr>\n",
       "                                <td id=\"T_b2407188_20e8_11ea_b599_1418772eafb8row0_col0\" class=\"data row0 col0\" >0</td>\n",
       "                        <td id=\"T_b2407188_20e8_11ea_b599_1418772eafb8row0_col1\" class=\"data row0 col1\" >ReLU()</td>\n",
       "                        <td id=\"T_b2407188_20e8_11ea_b599_1418772eafb8row0_col2\" class=\"data row0 col2\" >BatchNorm2d(1, eps=1e-05, momentum=0.1, affine=True, track_running_stats=True)</td>\n",
       "                        <td id=\"T_b2407188_20e8_11ea_b599_1418772eafb8row0_col3\" class=\"data row0 col3\" >Conv2d(1, 64, kernel_size=(3, 3), stride=(1, 1), padding=(1, 1))</td>\n",
       "                        <td id=\"T_b2407188_20e8_11ea_b599_1418772eafb8row0_col4\" class=\"data row0 col4\" >MaxPool2d(kernel_size=2, stride=2, padding=0, dilation=1, ceil_mode=False)</td>\n",
       "                        <td id=\"T_b2407188_20e8_11ea_b599_1418772eafb8row0_col5\" class=\"data row0 col5\" >ReLU()</td>\n",
       "                        <td id=\"T_b2407188_20e8_11ea_b599_1418772eafb8row0_col6\" class=\"data row0 col6\" >BatchNorm2d(64, eps=1e-05, momentum=0.1, affine=True, track_running_stats=True)</td>\n",
       "                        <td id=\"T_b2407188_20e8_11ea_b599_1418772eafb8row0_col7\" class=\"data row0 col7\" >Conv2d(64, 64, kernel_size=(3, 3), stride=(1, 1), padding=(1, 1))</td>\n",
       "                        <td id=\"T_b2407188_20e8_11ea_b599_1418772eafb8row0_col8\" class=\"data row0 col8\" >MaxPool2d(kernel_size=2, stride=2, padding=0, dilation=1, ceil_mode=False)</td>\n",
       "                        <td id=\"T_b2407188_20e8_11ea_b599_1418772eafb8row0_col9\" class=\"data row0 col9\" >ReLU()</td>\n",
       "                        <td id=\"T_b2407188_20e8_11ea_b599_1418772eafb8row0_col10\" class=\"data row0 col10\" >BatchNorm2d(64, eps=1e-05, momentum=0.1, affine=True, track_running_stats=True)</td>\n",
       "                        <td id=\"T_b2407188_20e8_11ea_b599_1418772eafb8row0_col11\" class=\"data row0 col11\" >Conv2d(64, 64, kernel_size=(3, 3), stride=(1, 1), padding=(1, 1))</td>\n",
       "                        <td id=\"T_b2407188_20e8_11ea_b599_1418772eafb8row0_col12\" class=\"data row0 col12\" >MaxPool2d(kernel_size=2, stride=2, padding=0, dilation=1, ceil_mode=False)</td>\n",
       "                        <td id=\"T_b2407188_20e8_11ea_b599_1418772eafb8row0_col13\" class=\"data row0 col13\" >GlobalAvgPool2d()</td>\n",
       "                        <td id=\"T_b2407188_20e8_11ea_b599_1418772eafb8row0_col14\" class=\"data row0 col14\" >Dropout2d(p=0.25)</td>\n",
       "                        <td id=\"T_b2407188_20e8_11ea_b599_1418772eafb8row0_col15\" class=\"data row0 col15\" >Linear(in_features=64, out_features=64, bias=True)</td>\n",
       "                        <td id=\"T_b2407188_20e8_11ea_b599_1418772eafb8row0_col16\" class=\"data row0 col16\" >ReLU()</td>\n",
       "                        <td id=\"T_b2407188_20e8_11ea_b599_1418772eafb8row0_col17\" class=\"data row0 col17\" >Linear(in_features=64, out_features=10, bias=True)</td>\n",
       "            </tr>\n",
       "            <tr>\n",
       "                                <td id=\"T_b2407188_20e8_11ea_b599_1418772eafb8row1_col0\" class=\"data row1 col0\" >36</td>\n",
       "                        <td id=\"T_b2407188_20e8_11ea_b599_1418772eafb8row1_col1\" class=\"data row1 col1\" >ReLU()</td>\n",
       "                        <td id=\"T_b2407188_20e8_11ea_b599_1418772eafb8row1_col2\" class=\"data row1 col2\" >BatchNorm2d(1, eps=1e-05, momentum=0.1, affine=True, track_running_stats=True)</td>\n",
       "                        <td id=\"T_b2407188_20e8_11ea_b599_1418772eafb8row1_col3\" class=\"data row1 col3\" >Conv2d(1, 64, kernel_size=(3, 3), stride=(1, 1), padding=(1, 1))</td>\n",
       "                        <td id=\"T_b2407188_20e8_11ea_b599_1418772eafb8row1_col4\" class=\"data row1 col4\" >MaxPool2d(kernel_size=2, stride=2, padding=0, dilation=1, ceil_mode=False)</td>\n",
       "                        <td id=\"T_b2407188_20e8_11ea_b599_1418772eafb8row1_col5\" class=\"data row1 col5\" >ReLU()</td>\n",
       "                        <td id=\"T_b2407188_20e8_11ea_b599_1418772eafb8row1_col6\" class=\"data row1 col6\" >BatchNorm2d(64, eps=1e-05, momentum=0.1, affine=True, track_running_stats=True)</td>\n",
       "                        <td id=\"T_b2407188_20e8_11ea_b599_1418772eafb8row1_col7\" class=\"data row1 col7\" >Conv2d(64, 64, kernel_size=(3, 3), stride=(1, 1), padding=(1, 1))</td>\n",
       "                        <td id=\"T_b2407188_20e8_11ea_b599_1418772eafb8row1_col8\" class=\"data row1 col8\" >MaxPool2d(kernel_size=2, stride=2, padding=0, dilation=1, ceil_mode=False)</td>\n",
       "                        <td id=\"T_b2407188_20e8_11ea_b599_1418772eafb8row1_col9\" class=\"data row1 col9\" >ReLU()</td>\n",
       "                        <td id=\"T_b2407188_20e8_11ea_b599_1418772eafb8row1_col10\" class=\"data row1 col10\" >BatchNorm2d(64, eps=1e-05, momentum=0.1, affine=True, track_running_stats=True)</td>\n",
       "                        <td id=\"T_b2407188_20e8_11ea_b599_1418772eafb8row1_col11\" class=\"data row1 col11\" >Conv2d(64, 64, kernel_size=(3, 3), stride=(1, 1), padding=(1, 1))</td>\n",
       "                        <td id=\"T_b2407188_20e8_11ea_b599_1418772eafb8row1_col12\" class=\"data row1 col12\" >MaxPool2d(kernel_size=2, stride=2, padding=0, dilation=1, ceil_mode=False)</td>\n",
       "                        <td id=\"T_b2407188_20e8_11ea_b599_1418772eafb8row1_col13\" class=\"data row1 col13\" >GlobalAvgPool2d()</td>\n",
       "                        <td id=\"T_b2407188_20e8_11ea_b599_1418772eafb8row1_col14\" class=\"data row1 col14\" >Dropout2d(p=0.25)</td>\n",
       "                        <td id=\"T_b2407188_20e8_11ea_b599_1418772eafb8row1_col15\" class=\"data row1 col15\" >Linear(in_features=64, out_features=64, bias=True)</td>\n",
       "                        <td id=\"T_b2407188_20e8_11ea_b599_1418772eafb8row1_col16\" class=\"data row1 col16\" >ReLU()</td>\n",
       "                        <td id=\"T_b2407188_20e8_11ea_b599_1418772eafb8row1_col17\" class=\"data row1 col17\" >Linear(in_features=64, out_features=10, bias=True)</td>\n",
       "            </tr>\n",
       "            <tr>\n",
       "                                <td id=\"T_b2407188_20e8_11ea_b599_1418772eafb8row2_col0\" class=\"data row2 col0\" >72</td>\n",
       "                        <td id=\"T_b2407188_20e8_11ea_b599_1418772eafb8row2_col1\" class=\"data row2 col1\" >ReLU()</td>\n",
       "                        <td id=\"T_b2407188_20e8_11ea_b599_1418772eafb8row2_col2\" class=\"data row2 col2\" >BatchNorm2d(1, eps=1e-05, momentum=0.1, affine=True, track_running_stats=True)</td>\n",
       "                        <td id=\"T_b2407188_20e8_11ea_b599_1418772eafb8row2_col3\" class=\"data row2 col3\" >Conv2d(1, 64, kernel_size=(3, 3), stride=(1, 1), padding=(1, 1))</td>\n",
       "                        <td id=\"T_b2407188_20e8_11ea_b599_1418772eafb8row2_col4\" class=\"data row2 col4\" >MaxPool2d(kernel_size=2, stride=2, padding=0, dilation=1, ceil_mode=False)</td>\n",
       "                        <td id=\"T_b2407188_20e8_11ea_b599_1418772eafb8row2_col5\" class=\"data row2 col5\" >ReLU()</td>\n",
       "                        <td id=\"T_b2407188_20e8_11ea_b599_1418772eafb8row2_col6\" class=\"data row2 col6\" >BatchNorm2d(64, eps=1e-05, momentum=0.1, affine=True, track_running_stats=True)</td>\n",
       "                        <td id=\"T_b2407188_20e8_11ea_b599_1418772eafb8row2_col7\" class=\"data row2 col7\" >Conv2d(64, 64, kernel_size=(3, 3), stride=(1, 1), padding=(1, 1))</td>\n",
       "                        <td id=\"T_b2407188_20e8_11ea_b599_1418772eafb8row2_col8\" class=\"data row2 col8\" >MaxPool2d(kernel_size=2, stride=2, padding=0, dilation=1, ceil_mode=False)</td>\n",
       "                        <td id=\"T_b2407188_20e8_11ea_b599_1418772eafb8row2_col9\" class=\"data row2 col9\" >ReLU()</td>\n",
       "                        <td id=\"T_b2407188_20e8_11ea_b599_1418772eafb8row2_col10\" class=\"data row2 col10\" >BatchNorm2d(64, eps=1e-05, momentum=0.1, affine=True, track_running_stats=True)</td>\n",
       "                        <td id=\"T_b2407188_20e8_11ea_b599_1418772eafb8row2_col11\" class=\"data row2 col11\" >Conv2d(64, 64, kernel_size=(3, 3), stride=(1, 1), padding=(1, 1))</td>\n",
       "                        <td id=\"T_b2407188_20e8_11ea_b599_1418772eafb8row2_col12\" class=\"data row2 col12\" >MaxPool2d(kernel_size=2, stride=2, padding=0, dilation=1, ceil_mode=False)</td>\n",
       "                        <td id=\"T_b2407188_20e8_11ea_b599_1418772eafb8row2_col13\" class=\"data row2 col13\" >GlobalAvgPool2d()</td>\n",
       "                        <td id=\"T_b2407188_20e8_11ea_b599_1418772eafb8row2_col14\" class=\"data row2 col14\" >Dropout2d(p=0.25)</td>\n",
       "                        <td id=\"T_b2407188_20e8_11ea_b599_1418772eafb8row2_col15\" class=\"data row2 col15\" >Linear(in_features=64, out_features=64, bias=True)</td>\n",
       "                        <td id=\"T_b2407188_20e8_11ea_b599_1418772eafb8row2_col16\" class=\"data row2 col16\" >ReLU()</td>\n",
       "                        <td id=\"T_b2407188_20e8_11ea_b599_1418772eafb8row2_col17\" class=\"data row2 col17\" >Linear(in_features=64, out_features=10, bias=True)</td>\n",
       "            </tr>\n",
       "            <tr>\n",
       "                                <td id=\"T_b2407188_20e8_11ea_b599_1418772eafb8row3_col0\" class=\"data row3 col0\" >108</td>\n",
       "                        <td id=\"T_b2407188_20e8_11ea_b599_1418772eafb8row3_col1\" class=\"data row3 col1\" >ReLU()</td>\n",
       "                        <td id=\"T_b2407188_20e8_11ea_b599_1418772eafb8row3_col2\" class=\"data row3 col2\" >BatchNorm2d(1, eps=1e-05, momentum=0.1, affine=True, track_running_stats=True)</td>\n",
       "                        <td id=\"T_b2407188_20e8_11ea_b599_1418772eafb8row3_col3\" class=\"data row3 col3\" >Conv2d(1, 64, kernel_size=(3, 3), stride=(1, 1), padding=(1, 1))</td>\n",
       "                        <td id=\"T_b2407188_20e8_11ea_b599_1418772eafb8row3_col4\" class=\"data row3 col4\" >MaxPool2d(kernel_size=2, stride=2, padding=0, dilation=1, ceil_mode=False)</td>\n",
       "                        <td id=\"T_b2407188_20e8_11ea_b599_1418772eafb8row3_col5\" class=\"data row3 col5\" >ReLU()</td>\n",
       "                        <td id=\"T_b2407188_20e8_11ea_b599_1418772eafb8row3_col6\" class=\"data row3 col6\" >BatchNorm2d(64, eps=1e-05, momentum=0.1, affine=True, track_running_stats=True)</td>\n",
       "                        <td id=\"T_b2407188_20e8_11ea_b599_1418772eafb8row3_col7\" class=\"data row3 col7\" >Conv2d(64, 64, kernel_size=(3, 3), stride=(1, 1), padding=(1, 1))</td>\n",
       "                        <td id=\"T_b2407188_20e8_11ea_b599_1418772eafb8row3_col8\" class=\"data row3 col8\" >MaxPool2d(kernel_size=2, stride=2, padding=0, dilation=1, ceil_mode=False)</td>\n",
       "                        <td id=\"T_b2407188_20e8_11ea_b599_1418772eafb8row3_col9\" class=\"data row3 col9\" >ReLU()</td>\n",
       "                        <td id=\"T_b2407188_20e8_11ea_b599_1418772eafb8row3_col10\" class=\"data row3 col10\" >BatchNorm2d(64, eps=1e-05, momentum=0.1, affine=True, track_running_stats=True)</td>\n",
       "                        <td id=\"T_b2407188_20e8_11ea_b599_1418772eafb8row3_col11\" class=\"data row3 col11\" >Conv2d(64, 64, kernel_size=(3, 3), stride=(1, 1), padding=(1, 1))</td>\n",
       "                        <td id=\"T_b2407188_20e8_11ea_b599_1418772eafb8row3_col12\" class=\"data row3 col12\" >MaxPool2d(kernel_size=2, stride=2, padding=0, dilation=1, ceil_mode=False)</td>\n",
       "                        <td id=\"T_b2407188_20e8_11ea_b599_1418772eafb8row3_col13\" class=\"data row3 col13\" >GlobalAvgPool2d()</td>\n",
       "                        <td id=\"T_b2407188_20e8_11ea_b599_1418772eafb8row3_col14\" class=\"data row3 col14\" >Dropout2d(p=0.25)</td>\n",
       "                        <td id=\"T_b2407188_20e8_11ea_b599_1418772eafb8row3_col15\" class=\"data row3 col15\" >Linear(in_features=64, out_features=64, bias=True)</td>\n",
       "                        <td id=\"T_b2407188_20e8_11ea_b599_1418772eafb8row3_col16\" class=\"data row3 col16\" >ReLU()</td>\n",
       "                        <td id=\"T_b2407188_20e8_11ea_b599_1418772eafb8row3_col17\" class=\"data row3 col17\" >Linear(in_features=64, out_features=10, bias=True)</td>\n",
       "            </tr>\n",
       "            <tr>\n",
       "                                <td id=\"T_b2407188_20e8_11ea_b599_1418772eafb8row4_col0\" class=\"data row4 col0\" >144</td>\n",
       "                        <td id=\"T_b2407188_20e8_11ea_b599_1418772eafb8row4_col1\" class=\"data row4 col1\" >ReLU()</td>\n",
       "                        <td id=\"T_b2407188_20e8_11ea_b599_1418772eafb8row4_col2\" class=\"data row4 col2\" >BatchNorm2d(1, eps=1e-05, momentum=0.1, affine=True, track_running_stats=True)</td>\n",
       "                        <td id=\"T_b2407188_20e8_11ea_b599_1418772eafb8row4_col3\" class=\"data row4 col3\" >Conv2d(1, 64, kernel_size=(3, 3), stride=(1, 1), padding=(1, 1))</td>\n",
       "                        <td id=\"T_b2407188_20e8_11ea_b599_1418772eafb8row4_col4\" class=\"data row4 col4\" >MaxPool2d(kernel_size=2, stride=2, padding=0, dilation=1, ceil_mode=False)</td>\n",
       "                        <td id=\"T_b2407188_20e8_11ea_b599_1418772eafb8row4_col5\" class=\"data row4 col5\" >ReLU()</td>\n",
       "                        <td id=\"T_b2407188_20e8_11ea_b599_1418772eafb8row4_col6\" class=\"data row4 col6\" >BatchNorm2d(64, eps=1e-05, momentum=0.1, affine=True, track_running_stats=True)</td>\n",
       "                        <td id=\"T_b2407188_20e8_11ea_b599_1418772eafb8row4_col7\" class=\"data row4 col7\" >Conv2d(64, 64, kernel_size=(3, 3), stride=(1, 1), padding=(1, 1))</td>\n",
       "                        <td id=\"T_b2407188_20e8_11ea_b599_1418772eafb8row4_col8\" class=\"data row4 col8\" >MaxPool2d(kernel_size=2, stride=2, padding=0, dilation=1, ceil_mode=False)</td>\n",
       "                        <td id=\"T_b2407188_20e8_11ea_b599_1418772eafb8row4_col9\" class=\"data row4 col9\" >ReLU()</td>\n",
       "                        <td id=\"T_b2407188_20e8_11ea_b599_1418772eafb8row4_col10\" class=\"data row4 col10\" >BatchNorm2d(64, eps=1e-05, momentum=0.1, affine=True, track_running_stats=True)</td>\n",
       "                        <td id=\"T_b2407188_20e8_11ea_b599_1418772eafb8row4_col11\" class=\"data row4 col11\" >Conv2d(64, 64, kernel_size=(3, 3), stride=(1, 1), padding=(1, 1))</td>\n",
       "                        <td id=\"T_b2407188_20e8_11ea_b599_1418772eafb8row4_col12\" class=\"data row4 col12\" >MaxPool2d(kernel_size=2, stride=2, padding=0, dilation=1, ceil_mode=False)</td>\n",
       "                        <td id=\"T_b2407188_20e8_11ea_b599_1418772eafb8row4_col13\" class=\"data row4 col13\" >GlobalAvgPool2d()</td>\n",
       "                        <td id=\"T_b2407188_20e8_11ea_b599_1418772eafb8row4_col14\" class=\"data row4 col14\" >Dropout2d(p=0.25)</td>\n",
       "                        <td id=\"T_b2407188_20e8_11ea_b599_1418772eafb8row4_col15\" class=\"data row4 col15\" >Linear(in_features=64, out_features=64, bias=True)</td>\n",
       "                        <td id=\"T_b2407188_20e8_11ea_b599_1418772eafb8row4_col16\" class=\"data row4 col16\" >ReLU()</td>\n",
       "                        <td id=\"T_b2407188_20e8_11ea_b599_1418772eafb8row4_col17\" class=\"data row4 col17\" >Linear(in_features=64, out_features=10, bias=True)</td>\n",
       "            </tr>\n",
       "            <tr>\n",
       "                                <td id=\"T_b2407188_20e8_11ea_b599_1418772eafb8row5_col0\" class=\"data row5 col0\" >180</td>\n",
       "                        <td id=\"T_b2407188_20e8_11ea_b599_1418772eafb8row5_col1\" class=\"data row5 col1\" >ReLU()</td>\n",
       "                        <td id=\"T_b2407188_20e8_11ea_b599_1418772eafb8row5_col2\" class=\"data row5 col2\" >BatchNorm2d(1, eps=1e-05, momentum=0.1, affine=True, track_running_stats=True)</td>\n",
       "                        <td id=\"T_b2407188_20e8_11ea_b599_1418772eafb8row5_col3\" class=\"data row5 col3\" >Conv2d(1, 64, kernel_size=(3, 3), stride=(1, 1), padding=(1, 1))</td>\n",
       "                        <td id=\"T_b2407188_20e8_11ea_b599_1418772eafb8row5_col4\" class=\"data row5 col4\" >MaxPool2d(kernel_size=2, stride=2, padding=0, dilation=1, ceil_mode=False)</td>\n",
       "                        <td id=\"T_b2407188_20e8_11ea_b599_1418772eafb8row5_col5\" class=\"data row5 col5\" >ReLU()</td>\n",
       "                        <td id=\"T_b2407188_20e8_11ea_b599_1418772eafb8row5_col6\" class=\"data row5 col6\" >BatchNorm2d(64, eps=1e-05, momentum=0.1, affine=True, track_running_stats=True)</td>\n",
       "                        <td id=\"T_b2407188_20e8_11ea_b599_1418772eafb8row5_col7\" class=\"data row5 col7\" >Conv2d(64, 64, kernel_size=(3, 3), stride=(1, 1), padding=(1, 1))</td>\n",
       "                        <td id=\"T_b2407188_20e8_11ea_b599_1418772eafb8row5_col8\" class=\"data row5 col8\" >MaxPool2d(kernel_size=2, stride=2, padding=0, dilation=1, ceil_mode=False)</td>\n",
       "                        <td id=\"T_b2407188_20e8_11ea_b599_1418772eafb8row5_col9\" class=\"data row5 col9\" >ReLU()</td>\n",
       "                        <td id=\"T_b2407188_20e8_11ea_b599_1418772eafb8row5_col10\" class=\"data row5 col10\" >BatchNorm2d(64, eps=1e-05, momentum=0.1, affine=True, track_running_stats=True)</td>\n",
       "                        <td id=\"T_b2407188_20e8_11ea_b599_1418772eafb8row5_col11\" class=\"data row5 col11\" >Conv2d(64, 64, kernel_size=(3, 3), stride=(1, 1), padding=(1, 1))</td>\n",
       "                        <td id=\"T_b2407188_20e8_11ea_b599_1418772eafb8row5_col12\" class=\"data row5 col12\" >MaxPool2d(kernel_size=2, stride=2, padding=0, dilation=1, ceil_mode=False)</td>\n",
       "                        <td id=\"T_b2407188_20e8_11ea_b599_1418772eafb8row5_col13\" class=\"data row5 col13\" >GlobalAvgPool2d()</td>\n",
       "                        <td id=\"T_b2407188_20e8_11ea_b599_1418772eafb8row5_col14\" class=\"data row5 col14\" >Dropout2d(p=0.25)</td>\n",
       "                        <td id=\"T_b2407188_20e8_11ea_b599_1418772eafb8row5_col15\" class=\"data row5 col15\" >Linear(in_features=64, out_features=64, bias=True)</td>\n",
       "                        <td id=\"T_b2407188_20e8_11ea_b599_1418772eafb8row5_col16\" class=\"data row5 col16\" >ReLU()</td>\n",
       "                        <td id=\"T_b2407188_20e8_11ea_b599_1418772eafb8row5_col17\" class=\"data row5 col17\" >Linear(in_features=64, out_features=10, bias=True)</td>\n",
       "            </tr>\n",
       "    </tbody></table>"
      ],
      "text/plain": [
       "<pandas.io.formats.style.Styler at 0x2b574ff0ba90>"
      ]
     },
     "metadata": {},
     "output_type": "display_data"
    },
    {
     "data": {
      "image/png": "[encoded data removed]",
      "text/plain": [
       "<Figure size 720x288 with 2 Axes>"
      ]
     },
     "metadata": {
      "needs_background": "light"
     },
     "output_type": "display_data"
    }
   ],
   "source": [
    "print_results_by_model(df,\n",
    "    [\"train_labels\", \"test_labels\"],\n",
    "    # [\"mean\", \"min_val\", \"max_val\", \"train_labels\", \"test_labels\"], \n",
    "    err_param_name=\"max_angle\",\n",
    "    # err_param_name=\"std\",\n",
    "    pipeline_name=\"best_pipeline\"\n",
    ")\n",
    "visualize(df)"
   ]
  },
  {
   "cell_type": "markdown",
   "metadata": {
    "collapsed": false,
    "papermill": {
     "duration": 0.049747,
     "end_time": "2019-12-17T16:17:19.941205",
     "exception": false,
     "start_time": "2019-12-17T16:17:19.891458",
     "status": "completed"
    },
    "pycharm": {
     "name": "#%% md\n"
    },
    "tags": []
   },
   "source": []
  }
 ],
 "metadata": {
  "kernelspec": {
   "display_name": "Python 3",
   "language": "python",
   "name": "python3"
  },
  "language_info": {
   "codemirror_mode": {
    "name": "ipython",
    "version": 3
   },
   "file_extension": ".py",
   "mimetype": "text/x-python",
   "name": "python",
   "nbconvert_exporter": "python",
   "pygments_lexer": "ipython3",
   "version": "3.6.6"
  },
  "papermill": {
   "duration": 65001.131269,
   "end_time": "2019-12-17T16:17:22.997067",
   "environment_variables": {},
   "exception": null,
   "input_path": "docs/case_studies/test2.ipynb",
   "output_path": "docs/case_studies/test2.ipynb",
   "parameters": {},
   "start_time": "2019-12-16T22:14:01.865798",
   "version": "1.2.0"
  },
  "pycharm": {
   "stem_cell": {
    "cell_type": "raw",
    "metadata": {
     "collapsed": false
    },
    "source": []
   }
  },
  "widgets": {
   "application/vnd.jupyter.widget-state+json": {
    "state": {},
    "version_major": 2,
    "version_minor": 0
   }
  }
 },
 "nbformat": 4,
 "nbformat_minor": 0
}