{
 "cells": [
  {
   "cell_type": "markdown",
   "metadata": {
    "collapsed": false,
    "papermill": {
     "duration": 0.036992,
     "end_time": "2019-11-23T10:43:06.435888",
     "exception": false,
     "start_time": "2019-11-23T10:43:06.398896",
     "status": "completed"
    },
    "tags": []
   },
   "source": [
    "# AutoML Image Classification: Added Noise (Fashion)"
   ]
  },
  {
   "cell_type": "code",
   "execution_count": 1,
   "metadata": {
    "collapsed": false,
    "papermill": {
     "duration": 0.03783,
     "end_time": "2019-11-23T10:43:06.502222",
     "exception": false,
     "start_time": "2019-11-23T10:43:06.464392",
     "status": "completed"
    },
    "pycharm": {
     "name": "#%%\n"
    },
    "tags": []
   },
   "outputs": [],
   "source": [
    "import warnings\n",
    "warnings.simplefilter(action=\"ignore\", category=FutureWarning)"
   ]
  },
  {
   "cell_type": "markdown",
   "metadata": {
    "collapsed": false,
    "papermill": {
     "duration": 0.02078,
     "end_time": "2019-11-23T10:43:06.545750",
     "exception": false,
     "start_time": "2019-11-23T10:43:06.524970",
     "status": "completed"
    },
    "tags": []
   },
   "source": [
    "![](imgs/gaussian_noise.png)"
   ]
  },
  {
   "cell_type": "code",
   "execution_count": 2,
   "metadata": {
    "collapsed": false,
    "papermill": {
     "duration": 38.613365,
     "end_time": "2019-11-23T10:43:45.174042",
     "exception": false,
     "start_time": "2019-11-23T10:43:06.560677",
     "status": "completed"
    },
    "pycharm": {
     "name": "#%%\n"
    },
    "tags": []
   },
   "outputs": [
    {
     "name": "stdout",
     "output_type": "stream",
     "text": [
      "Better speed can be achieved with apex installed from https://www.github.com/nvidia/apex.\n"
     ]
    },
    {
     "name": "stderr",
     "output_type": "stream",
     "text": [
      "Using TensorFlow backend.\n"
     ]
    }
   ],
   "source": [
    "import random as rn\n",
    "from abc import ABC, abstractmethod\n",
    "\n",
    "import autokeras as ak\n",
    "import h2o\n",
    "import matplotlib.pyplot as plt\n",
    "import numpy as np\n",
    "from h2o.automl import H2OAutoML\n",
    "from keras.datasets import fashion_mnist\n",
    "from numpy.random import RandomState\n",
    "from sklearn.datasets import load_digits\n",
    "from sklearn.metrics import accuracy_score\n",
    "from sklearn.model_selection import train_test_split\n",
    "from tpot import TPOTClassifier\n",
    "\n",
    "from dpemu import runner\n",
    "from dpemu.filters.common import GaussianNoise, Clip\n",
    "from dpemu.filters.image import RotationPIL\n",
    "from dpemu.nodes import Array\n",
    "from dpemu.nodes.series import Series\n",
    "from dpemu.plotting_utils import visualize_scores, print_results_by_model\n",
    "from dpemu.utils import generate_tmpdir"
   ]
  },
  {
   "cell_type": "markdown",
   "metadata": {
    "collapsed": false,
    "papermill": {
     "duration": 0.027377,
     "end_time": "2019-11-23T10:43:45.235276",
     "exception": false,
     "start_time": "2019-11-23T10:43:45.207899",
     "status": "completed"
    },
    "pycharm": {
     "name": "#%% md\n"
    },
    "tags": []
   },
   "source": []
  },
  {
   "cell_type": "code",
   "execution_count": 3,
   "metadata": {
    "collapsed": false,
    "papermill": {
     "duration": 0.038139,
     "end_time": "2019-11-23T10:43:45.299046",
     "exception": false,
     "start_time": "2019-11-23T10:43:45.260907",
     "status": "completed"
    },
    "pycharm": {
     "is_executing": false,
     "name": "#%%\n"
    },
    "tags": []
   },
   "outputs": [],
   "source": [
    "def get_data():\n",
    "    # random_state = RandomState(42)\n",
    "    # x, y = load_digits(return_X_y=True)\n",
    "    # y = y.astype(np.uint8)\n",
    "    # return train_test_split(x, y, test_size=.25, random_state=random_state)\n",
    "    (x_train, y_train), (x_test, y_test) = fashion_mnist.load_data()\n",
    "    s = x_train.shape[1]\n",
    "    x_train = x_train.reshape((len(x_train), s**2)).astype(np.float64)\n",
    "    x_test = x_test.reshape((len(x_test), s**2)).astype(np.float64)\n",
    "    return x_train, x_test, y_train, y_test"
   ]
  },
  {
   "cell_type": "markdown",
   "metadata": {
    "collapsed": false,
    "papermill": {
     "duration": 0.014061,
     "end_time": "2019-11-23T10:43:45.333808",
     "exception": false,
     "start_time": "2019-11-23T10:43:45.319747",
     "status": "completed"
    },
    "pycharm": {
     "name": "#%% md\n"
    },
    "tags": []
   },
   "source": []
  },
  {
   "cell_type": "code",
   "execution_count": 4,
   "metadata": {
    "collapsed": false,
    "papermill": {
     "duration": 0.02646,
     "end_time": "2019-11-23T10:43:45.374836",
     "exception": false,
     "start_time": "2019-11-23T10:43:45.348376",
     "status": "completed"
    },
    "pycharm": {
     "is_executing": false,
     "name": "#%%\n"
    },
    "tags": []
   },
   "outputs": [],
   "source": [
    "def get_err_root_node():\n",
    "    # err_img_node = Array(reshape=(8, 8))\n",
    "    err_img_node = Array(reshape=(28, 28))\n",
    "\n",
    "    # err_root_node = Series(err_img_node)\n",
    "    # err_img_node.addfilter(RotationPIL(\"max_angle\"))\n",
    "    # return err_root_node\n",
    "    err_root_node = Series(err_img_node)\n",
    "    err_img_node.addfilter(GaussianNoise(\"mean\", \"std\"))\n",
    "    err_img_node.addfilter(Clip(\"min_val\", \"max_val\"))\n",
    "    return err_root_node"
   ]
  },
  {
   "cell_type": "markdown",
   "metadata": {
    "collapsed": false,
    "papermill": {
     "duration": 0.014078,
     "end_time": "2019-11-23T10:43:45.403297",
     "exception": false,
     "start_time": "2019-11-23T10:43:45.389219",
     "status": "completed"
    },
    "pycharm": {
     "name": "#%% md\n"
    },
    "tags": []
   },
   "source": []
  },
  {
   "cell_type": "code",
   "execution_count": 5,
   "metadata": {
    "collapsed": false,
    "papermill": {
     "duration": 0.028001,
     "end_time": "2019-11-23T10:43:45.445653",
     "exception": false,
     "start_time": "2019-11-23T10:43:45.417652",
     "status": "completed"
    },
    "pycharm": {
     "is_executing": false,
     "name": "#%%\n"
    },
    "tags": []
   },
   "outputs": [],
   "source": [
    "def get_err_params_list(data):\n",
    "    # angle_steps = np.linspace(0, 90, num=6)\n",
    "    # err_params_list = [{\"max_angle\": a} for a in angle_steps]\n",
    "    # return err_params_list\n",
    "    min_val = np.amin(data)\n",
    "    max_val = np.amax(data)\n",
    "    std_steps = np.round(np.linspace(0, max_val, num=6), 3)\n",
    "    err_params_list = [{\"mean\": 0, \"std\": std, \"min_val\": min_val, \"max_val\": max_val} for std in std_steps]\n",
    "    return err_params_list"
   ]
  },
  {
   "cell_type": "markdown",
   "metadata": {
    "collapsed": false,
    "papermill": {
     "duration": 0.014161,
     "end_time": "2019-11-23T10:43:45.473997",
     "exception": false,
     "start_time": "2019-11-23T10:43:45.459836",
     "status": "completed"
    },
    "pycharm": {
     "name": "#%% md\n"
    },
    "tags": []
   },
   "source": []
  },
  {
   "cell_type": "code",
   "execution_count": 6,
   "metadata": {
    "collapsed": false,
    "papermill": {
     "duration": 0.025963,
     "end_time": "2019-11-23T10:43:45.514439",
     "exception": false,
     "start_time": "2019-11-23T10:43:45.488476",
     "status": "completed"
    },
    "pycharm": {
     "is_executing": false,
     "name": "#%%\n"
    },
    "tags": []
   },
   "outputs": [],
   "source": [
    "class Preprocessor:\n",
    "\n",
    "    def run(self, train_data, test_data, params):\n",
    "        return np.round(train_data).astype(np.uint8), np.round(test_data).astype(np.uint8), {}"
   ]
  },
  {
   "cell_type": "markdown",
   "metadata": {
    "collapsed": false,
    "papermill": {
     "duration": 0.014115,
     "end_time": "2019-11-23T10:43:45.542841",
     "exception": false,
     "start_time": "2019-11-23T10:43:45.528726",
     "status": "completed"
    },
    "pycharm": {
     "name": "#%% md\n"
    },
    "tags": []
   },
   "source": []
  },
  {
   "cell_type": "code",
   "execution_count": 7,
   "metadata": {
    "collapsed": false,
    "papermill": {
     "duration": 0.073868,
     "end_time": "2019-11-23T10:43:45.630870",
     "exception": false,
     "start_time": "2019-11-23T10:43:45.557002",
     "status": "completed"
    },
    "pycharm": {
     "is_executing": false,
     "name": "#%%\n"
    },
    "tags": []
   },
   "outputs": [],
   "source": [
    "class AbstractModel(ABC):\n",
    "\n",
    "    def __init__(self):\n",
    "        self.time_limit_mins = 60*6\n",
    "        self.seed = 42\n",
    "        self.random_state = RandomState(self.seed)\n",
    "        np.random.seed(self.seed)\n",
    "\n",
    "    @abstractmethod\n",
    "    def get_fitted_model(self, train_data, train_labels, params):\n",
    "        pass\n",
    "\n",
    "    @abstractmethod\n",
    "    def get_accuracy(self, data, labels, fitted_model, params):\n",
    "        pass\n",
    "\n",
    "    @abstractmethod\n",
    "    def get_best_pipeline(self, fitted_model):\n",
    "        pass\n",
    "\n",
    "    def run(self, train_data, test_data, params):\n",
    "        train_labels = params[\"train_labels\"]\n",
    "        test_labels = params[\"test_labels\"]\n",
    "\n",
    "        fitted_model = self.get_fitted_model(train_data, train_labels, params)\n",
    "\n",
    "        results = {\n",
    "            \"test_acc\": self.get_accuracy(test_data, test_labels, fitted_model, params),\n",
    "            \"train_acc\": self.get_accuracy(train_data, train_labels, fitted_model, params),\n",
    "            \"best_pipeline\": self.get_best_pipeline(fitted_model),\n",
    "        }\n",
    "        print(type(fitted_model))\n",
    "        print(results[\"test_acc\"])\n",
    "        return results\n",
    "\n",
    "class TPOTClassifierModel(AbstractModel):\n",
    "\n",
    "    def __init__(self):\n",
    "        super().__init__()\n",
    "\n",
    "    def get_fitted_model(self, train_data, train_labels, params):\n",
    "        return TPOTClassifier(\n",
    "            max_time_mins=self.time_limit_mins,\n",
    "            max_eval_time_mins=self.time_limit_mins,\n",
    "            n_jobs=-1,\n",
    "            random_state=self.seed,\n",
    "            verbosity=1,\n",
    "        ).fit(train_data, train_labels)\n",
    "    \n",
    "    def get_accuracy(self, data, labels, fitted_model, params):\n",
    "        return round(fitted_model.score(data, labels), 3)\n",
    "\n",
    "    def get_best_pipeline(self, fitted_model):\n",
    "        return [step[1] for step in fitted_model.fitted_pipeline_.steps]\n",
    "\n",
    "class H2OAutoMLModel(AbstractModel):\n",
    "\n",
    "    def __init__(self):\n",
    "        super().__init__()\n",
    "        h2o.init(name=f\"#{rn.SystemRandom().randint(1, 2**30)}\", nthreads=48, max_mem_size_GB=448)\n",
    "        h2o.no_progress()\n",
    "\n",
    "    def get_fitted_model(self, train_data, train_labels, params):\n",
    "        train_data = h2o.H2OFrame(np.concatenate((train_data, train_labels.reshape(-1, 1)), axis=1))\n",
    "        x = np.array(train_data.columns)[:-1].tolist()\n",
    "        y = np.array(train_data.columns)[-1].tolist()\n",
    "        train_data[y] = train_data[y].asfactor()\n",
    "        aml = H2OAutoML(max_runtime_secs=60*self.time_limit_mins, seed=self.seed)\n",
    "        aml.train(x=x, y=y, training_frame=train_data)\n",
    "        return aml\n",
    "\n",
    "    def get_accuracy(self, data, labels, fitted_model, params):\n",
    "        data = h2o.H2OFrame(np.concatenate((data, labels.reshape(-1, 1)), axis=1))\n",
    "        y = np.array(data.columns)[-1].tolist()\n",
    "        data[y] = data[y].asfactor()\n",
    "        pred = fitted_model.predict(data).as_data_frame(header=False)[\"predict\"].values.astype(int)\n",
    "        return np.round(np.mean(pred == labels), 3)\n",
    "\n",
    "    def get_best_pipeline(self, fitted_model):\n",
    "        leader_params = fitted_model.leader.get_params()\n",
    "        best_pipeline = [leader_params[\"model_id\"][\"actual_value\"][\"name\"]]\n",
    "        if \"base_models\" in leader_params:\n",
    "            for base_model in leader_params[\"base_models\"][\"actual_value\"]:\n",
    "                best_pipeline.append(base_model[\"name\"])\n",
    "        print(best_pipeline)\n",
    "        h2o.cluster().shutdown()\n",
    "        return best_pipeline\n",
    "\n",
    "class AutoKerasModel(AbstractModel):\n",
    "\n",
    "    def __init__(self):\n",
    "        super().__init__()\n",
    "        import tensorflow as tf\n",
    "        tf.set_random_seed(self.seed)\n",
    "        import torch\n",
    "        torch.multiprocessing.set_sharing_strategy(\"file_system\")\n",
    "        torch.manual_seed(self.seed)\n",
    "\n",
    "    def get_fitted_model(self, x_train, y_train, params):\n",
    "        s = np.sqrt(x_train.shape[1]).astype(int)\n",
    "        x_train = x_train.reshape((len(x_train), s, s, 1))\n",
    "        clf = ak.ImageClassifier(augment=False, path=generate_tmpdir(), verbose=False)\n",
    "        clf.fit(x_train, y_train, time_limit=60*self.time_limit_mins)\n",
    "        return clf\n",
    "\n",
    "    def get_accuracy(self, x, y, clf, params):\n",
    "        s = np.sqrt(x.shape[1]).astype(int)\n",
    "        x = x.reshape((len(x), s, s, 1))\n",
    "        y_pred = clf.predict(x)\n",
    "        return np.round(accuracy_score(y_true=y, y_pred=y_pred), 3)\n",
    "\n",
    "    def get_best_pipeline(self, clf):\n",
    "        return [m for i, m in enumerate(clf.cnn.best_model.produce_model().modules()) if i > 0]"
   ]
  },
  {
   "cell_type": "markdown",
   "metadata": {
    "collapsed": false,
    "papermill": {
     "duration": 0.021551,
     "end_time": "2019-11-23T10:43:45.676773",
     "exception": false,
     "start_time": "2019-11-23T10:43:45.655222",
     "status": "completed"
    },
    "pycharm": {
     "name": "#%% md\n"
    },
    "tags": []
   },
   "source": []
  },
  {
   "cell_type": "code",
   "execution_count": 8,
   "metadata": {
    "collapsed": false,
    "papermill": {
     "duration": 0.031545,
     "end_time": "2019-11-23T10:43:45.724720",
     "exception": false,
     "start_time": "2019-11-23T10:43:45.693175",
     "status": "completed"
    },
    "pycharm": {
     "name": "#%%\n"
    },
    "tags": []
   },
   "outputs": [],
   "source": [
    "def get_model_params_dict_list(train_labels, test_labels):\n",
    "    model_params_base = {\"train_labels\": train_labels, \"test_labels\": test_labels}\n",
    "    return [\n",
    "        {\n",
    "            \"model\": H2OAutoMLModel,\n",
    "            \"params_list\": [{**model_params_base}],\n",
    "            \"use_clean_train_data\": False\n",
    "        },\n",
    "        # {\n",
    "        #     \"model\": H2OAutoMLModel,\n",
    "        #     \"params_list\": [{**model_params_base}],\n",
    "        #     \"use_clean_train_data\": True\n",
    "        # },\n",
    "        {\n",
    "            \"model\": TPOTClassifierModel,\n",
    "            \"params_list\": [{**model_params_base}],\n",
    "            \"use_clean_train_data\": False\n",
    "        },\n",
    "        # {\n",
    "        #     \"model\": TPOTClassifierModel,\n",
    "        #     \"params_list\": [{**model_params_base}],\n",
    "        #     \"use_clean_train_data\": True\n",
    "        # },\n",
    "        # {\n",
    "        #     \"model\": AutoKerasModel,\n",
    "        #     \"params_list\": [{**model_params_base}],\n",
    "        #     \"use_clean_train_data\": False\n",
    "        # },\n",
    "        # {\n",
    "        #     \"model\": AutoKerasModel,\n",
    "        #     \"params_list\": [{**model_params_base}],\n",
    "        #     \"use_clean_train_data\": True\n",
    "        # },\n",
    "    ]"
   ]
  },
  {
   "cell_type": "markdown",
   "metadata": {
    "collapsed": false,
    "papermill": {
     "duration": 0.014068,
     "end_time": "2019-11-23T10:43:45.753210",
     "exception": false,
     "start_time": "2019-11-23T10:43:45.739142",
     "status": "completed"
    },
    "pycharm": {
     "is_executing": false,
     "name": "#%% md\n"
    },
    "tags": []
   },
   "source": []
  },
  {
   "cell_type": "code",
   "execution_count": 9,
   "metadata": {
    "collapsed": false,
    "papermill": {
     "duration": 0.025827,
     "end_time": "2019-11-23T10:43:45.793316",
     "exception": false,
     "start_time": "2019-11-23T10:43:45.767489",
     "status": "completed"
    },
    "pycharm": {
     "name": "#%%\n"
    },
    "tags": []
   },
   "outputs": [],
   "source": [
    "def visualize(df):\n",
    "    visualize_scores(\n",
    "        df,\n",
    "        score_names=[\"test_acc\", \"train_acc\"],\n",
    "        is_higher_score_better=[True, True],\n",
    "        # err_param_name=\"max_angle\",\n",
    "        err_param_name=\"std\",\n",
    "        title=\"Classification scores with added error\"\n",
    "    )\n",
    "    plt.show()"
   ]
  },
  {
   "cell_type": "markdown",
   "metadata": {
    "collapsed": false,
    "papermill": {
     "duration": 0.014442,
     "end_time": "2019-11-23T10:43:45.821868",
     "exception": false,
     "start_time": "2019-11-23T10:43:45.807426",
     "status": "completed"
    },
    "pycharm": {
     "is_executing": false,
     "name": "#%% md\n"
    },
    "tags": []
   },
   "source": []
  },
  {
   "cell_type": "code",
   "execution_count": 10,
   "metadata": {
    "collapsed": false,
    "papermill": {
     "duration": 453863.793806,
     "end_time": "2019-11-28T16:48:09.630227",
     "exception": false,
     "start_time": "2019-11-23T10:43:45.836421",
     "status": "completed"
    },
    "pycharm": {
     "is_executing": false,
     "name": "#%%\n"
    },
    "tags": []
   },
   "outputs": [
    {
     "name": "stderr",
     "output_type": "stream",
     "text": [
      "\r",
      "  0%|          | 0/6 [00:00<?, ?it/s]"
     ]
    },
    {
     "name": "stdout",
     "output_type": "stream",
     "text": [
      "\n"
     ]
    },
    {
     "name": "stdout",
     "output_type": "stream",
     "text": [
      "234.89 minutes have elapsed. TPOT will close down.\n",
      "TPOT closed during evaluation in one generation.\n",
      "WARNING: TPOT may not provide a good pipeline if TPOT is stopped/interrupted in a early generation."
     ]
    },
    {
     "name": "stdout",
     "output_type": "stream",
     "text": [
      "\n"
     ]
    },
    {
     "name": "stdout",
     "output_type": "stream",
     "text": [
      "\n"
     ]
    },
    {
     "name": "stdout",
     "output_type": "stream",
     "text": [
      "\n",
      "TPOT closed prematurely. Will use the current best pipeline."
     ]
    },
    {
     "name": "stdout",
     "output_type": "stream",
     "text": [
      "\n"
     ]
    },
    {
     "name": "stdout",
     "output_type": "stream",
     "text": [
      "Best pipeline:"
     ]
    },
    {
     "name": "stdout",
     "output_type": "stream",
     "text": [
      " "
     ]
    },
    {
     "name": "stdout",
     "output_type": "stream",
     "text": [
      "GradientBoostingClassifier(RFE(input_matrix, criterion=gini, max_features=0.45, n_estimators=100, step=0.8), learning_rate=0.1, max_depth=10, max_features=0.05, min_samples_leaf=11, min_samples_split=9, n_estimators=100, subsample=0.35000000000000003)"
     ]
    },
    {
     "name": "stdout",
     "output_type": "stream",
     "text": [
      "\n"
     ]
    },
    {
     "name": "stdout",
     "output_type": "stream",
     "text": [
      "<class 'tpot.tpot.TPOTClassifier'>"
     ]
    },
    {
     "name": "stdout",
     "output_type": "stream",
     "text": [
      "\n"
     ]
    },
    {
     "name": "stdout",
     "output_type": "stream",
     "text": [
      "0.882"
     ]
    },
    {
     "name": "stdout",
     "output_type": "stream",
     "text": [
      "\n"
     ]
    },
    {
     "name": "stdout",
     "output_type": "stream",
     "text": [
      "\n"
     ]
    },
    {
     "name": "stdout",
     "output_type": "stream",
     "text": [
      "228.84 minutes have elapsed. TPOT will close down.\n",
      "TPOT closed during evaluation in one generation.\n",
      "WARNING: TPOT may not provide a good pipeline if TPOT is stopped/interrupted in a early generation."
     ]
    },
    {
     "name": "stdout",
     "output_type": "stream",
     "text": [
      "\n"
     ]
    },
    {
     "name": "stdout",
     "output_type": "stream",
     "text": [
      "\n"
     ]
    },
    {
     "name": "stdout",
     "output_type": "stream",
     "text": [
      "\n",
      "TPOT closed prematurely. Will use the current best pipeline."
     ]
    },
    {
     "name": "stdout",
     "output_type": "stream",
     "text": [
      "\n"
     ]
    },
    {
     "name": "stdout",
     "output_type": "stream",
     "text": [
      "Best pipeline:"
     ]
    },
    {
     "name": "stdout",
     "output_type": "stream",
     "text": [
      " "
     ]
    },
    {
     "name": "stdout",
     "output_type": "stream",
     "text": [
      "GradientBoostingClassifier(RFE(input_matrix, criterion=gini, max_features=0.45, n_estimators=100, step=0.8), learning_rate=0.1, max_depth=10, max_features=0.05, min_samples_leaf=11, min_samples_split=9, n_estimators=100, subsample=0.35000000000000003)"
     ]
    },
    {
     "name": "stdout",
     "output_type": "stream",
     "text": [
      "\n"
     ]
    },
    {
     "name": "stdout",
     "output_type": "stream",
     "text": [
      "<class 'tpot.tpot.TPOTClassifier'>"
     ]
    },
    {
     "name": "stdout",
     "output_type": "stream",
     "text": [
      "\n"
     ]
    },
    {
     "name": "stdout",
     "output_type": "stream",
     "text": [
      "0.882"
     ]
    },
    {
     "name": "stdout",
     "output_type": "stream",
     "text": [
      "\n"
     ]
    },
    {
     "name": "stdout",
     "output_type": "stream",
     "text": [
      "Checking whether there is an H2O instance running at http://localhost:54321 "
     ]
    },
    {
     "name": "stdout",
     "output_type": "stream",
     "text": [
      "."
     ]
    },
    {
     "name": "stdout",
     "output_type": "stream",
     "text": [
      "."
     ]
    },
    {
     "name": "stdout",
     "output_type": "stream",
     "text": [
      "."
     ]
    },
    {
     "name": "stdout",
     "output_type": "stream",
     "text": [
      "."
     ]
    },
    {
     "name": "stdout",
     "output_type": "stream",
     "text": [
      "."
     ]
    },
    {
     "name": "stdout",
     "output_type": "stream",
     "text": [
      " not found."
     ]
    },
    {
     "name": "stdout",
     "output_type": "stream",
     "text": [
      "\n"
     ]
    },
    {
     "name": "stdout",
     "output_type": "stream",
     "text": [
      "Attempting to start a local H2O server..."
     ]
    },
    {
     "name": "stdout",
     "output_type": "stream",
     "text": [
      "\n"
     ]
    },
    {
     "name": "stdout",
     "output_type": "stream",
     "text": [
      "  Java Version: openjdk version \"11.0.2\" 2019-01-15; OpenJDK Runtime Environment 18.9 (build 11.0.2+9); OpenJDK 64-Bit Server VM 18.9 (build 11.0.2+9, mixed mode)"
     ]
    },
    {
     "name": "stdout",
     "output_type": "stream",
     "text": [
      "\n"
     ]
    },
    {
     "name": "stdout",
     "output_type": "stream",
     "text": [
      "  Starting server from /wrk/users/thalvari/dpEmu-AutoML/venv/lib/python3.6/site-packages/h2o/backend/bin/h2o.jar"
     ]
    },
    {
     "name": "stdout",
     "output_type": "stream",
     "text": [
      "\n"
     ]
    },
    {
     "name": "stdout",
     "output_type": "stream",
     "text": [
      "  Ice root: /wrk/users/thalvari/tmp8klvgjqb"
     ]
    },
    {
     "name": "stdout",
     "output_type": "stream",
     "text": [
      "\n"
     ]
    },
    {
     "name": "stdout",
     "output_type": "stream",
     "text": [
      "  JVM stdout: /wrk/users/thalvari/tmp8klvgjqb/h2o_thalvari_started_from_python.out"
     ]
    },
    {
     "name": "stdout",
     "output_type": "stream",
     "text": [
      "\n"
     ]
    },
    {
     "name": "stdout",
     "output_type": "stream",
     "text": [
      "  JVM stderr: /wrk/users/thalvari/tmp8klvgjqb/h2o_thalvari_started_from_python.err"
     ]
    },
    {
     "name": "stdout",
     "output_type": "stream",
     "text": [
      "\n"
     ]
    },
    {
     "name": "stdout",
     "output_type": "stream",
     "text": [
      "  Server is running at http://127.0.0.1:54321"
     ]
    },
    {
     "name": "stdout",
     "output_type": "stream",
     "text": [
      "\n"
     ]
    },
    {
     "name": "stdout",
     "output_type": "stream",
     "text": [
      "Connecting to H2O server at http://127.0.0.1:54321 .."
     ]
    },
    {
     "name": "stdout",
     "output_type": "stream",
     "text": [
      "."
     ]
    },
    {
     "name": "stdout",
     "output_type": "stream",
     "text": [
      " successful."
     ]
    },
    {
     "name": "stdout",
     "output_type": "stream",
     "text": [
      "\n"
     ]
    },
    {
     "data": {
      "text/html": [
       "<div style=\"overflow:auto\"><table style=\"width:50%\"><tr><td>H2O cluster uptime:</td>\n",
       "<td>01 secs</td></tr>\n",
       "<tr><td>H2O cluster timezone:</td>\n",
       "<td>Europe/Helsinki</td></tr>\n",
       "<tr><td>H2O data parsing timezone:</td>\n",
       "<td>UTC</td></tr>\n",
       "<tr><td>H2O cluster version:</td>\n",
       "<td>3.26.0.10</td></tr>\n",
       "<tr><td>H2O cluster version age:</td>\n",
       "<td>16 days </td></tr>\n",
       "<tr><td>H2O cluster name:</td>\n",
       "<td>#817987340</td></tr>\n",
       "<tr><td>H2O cluster total nodes:</td>\n",
       "<td>1</td></tr>\n",
       "<tr><td>H2O cluster free memory:</td>\n",
       "<td>29.97 Gb</td></tr>\n",
       "<tr><td>H2O cluster total cores:</td>\n",
       "<td>96</td></tr>\n",
       "<tr><td>H2O cluster allowed cores:</td>\n",
       "<td>48</td></tr>\n",
       "<tr><td>H2O cluster status:</td>\n",
       "<td>accepting new members, healthy</td></tr>\n",
       "<tr><td>H2O connection url:</td>\n",
       "<td>http://127.0.0.1:54321</td></tr>\n",
       "<tr><td>H2O connection proxy:</td>\n",
       "<td>{'http': None, 'https': None}</td></tr>\n",
       "<tr><td>H2O internal security:</td>\n",
       "<td>False</td></tr>\n",
       "<tr><td>H2O API Extensions:</td>\n",
       "<td>Amazon S3, XGBoost, Algos, AutoML, Core V3, TargetEncoder, Core V4</td></tr>\n",
       "<tr><td>Python version:</td>\n",
       "<td>3.6.6 final</td></tr></table></div>"
      ],
      "text/plain": [
       "--------------------------  ------------------------------------------------------------------\n",
       "H2O cluster uptime:         01 secs\n",
       "H2O cluster timezone:       Europe/Helsinki\n",
       "H2O data parsing timezone:  UTC\n",
       "H2O cluster version:        3.26.0.10\n",
       "H2O cluster version age:    16 days\n",
       "H2O cluster name:           #817987340\n",
       "H2O cluster total nodes:    1\n",
       "H2O cluster free memory:    29.97 Gb\n",
       "H2O cluster total cores:    96\n",
       "H2O cluster allowed cores:  48\n",
       "H2O cluster status:         accepting new members, healthy\n",
       "H2O connection url:         http://127.0.0.1:54321\n",
       "H2O connection proxy:       {'http': None, 'https': None}\n",
       "H2O internal security:      False\n",
       "H2O API Extensions:         Amazon S3, XGBoost, Algos, AutoML, Core V3, TargetEncoder, Core V4\n",
       "Python version:             3.6.6 final\n",
       "--------------------------  ------------------------------------------------------------------"
      ]
     },
     "metadata": {},
     "output_type": "display_data"
    },
    {
     "name": "stdout",
     "output_type": "stream",
     "text": [
      "H2O session _sid_8b59 closed."
     ]
    },
    {
     "name": "stdout",
     "output_type": "stream",
     "text": [
      "\n"
     ]
    },
    {
     "name": "stdout",
     "output_type": "stream",
     "text": [
      "<class 'h2o.automl.autoh2o.H2OAutoML'>"
     ]
    },
    {
     "name": "stdout",
     "output_type": "stream",
     "text": [
      "\n"
     ]
    },
    {
     "name": "stdout",
     "output_type": "stream",
     "text": [
      "0.901"
     ]
    },
    {
     "name": "stdout",
     "output_type": "stream",
     "text": [
      "\n"
     ]
    },
    {
     "name": "stdout",
     "output_type": "stream",
     "text": [
      "Checking whether there is an H2O instance running at http://localhost:54321 "
     ]
    },
    {
     "name": "stdout",
     "output_type": "stream",
     "text": [
      "."
     ]
    },
    {
     "name": "stdout",
     "output_type": "stream",
     "text": [
      "."
     ]
    },
    {
     "name": "stdout",
     "output_type": "stream",
     "text": [
      "."
     ]
    },
    {
     "name": "stdout",
     "output_type": "stream",
     "text": [
      "."
     ]
    },
    {
     "name": "stdout",
     "output_type": "stream",
     "text": [
      "."
     ]
    },
    {
     "name": "stdout",
     "output_type": "stream",
     "text": [
      " not found."
     ]
    },
    {
     "name": "stdout",
     "output_type": "stream",
     "text": [
      "\n"
     ]
    },
    {
     "name": "stdout",
     "output_type": "stream",
     "text": [
      "Attempting to start a local H2O server..."
     ]
    },
    {
     "name": "stdout",
     "output_type": "stream",
     "text": [
      "\n"
     ]
    },
    {
     "name": "stdout",
     "output_type": "stream",
     "text": [
      "  Java Version: openjdk version \"11.0.2\" 2019-01-15; OpenJDK Runtime Environment 18.9 (build 11.0.2+9); OpenJDK 64-Bit Server VM 18.9 (build 11.0.2+9, mixed mode)"
     ]
    },
    {
     "name": "stdout",
     "output_type": "stream",
     "text": [
      "\n"
     ]
    },
    {
     "name": "stdout",
     "output_type": "stream",
     "text": [
      "  Starting server from /wrk/users/thalvari/dpEmu-AutoML/venv/lib/python3.6/site-packages/h2o/backend/bin/h2o.jar"
     ]
    },
    {
     "name": "stdout",
     "output_type": "stream",
     "text": [
      "\n"
     ]
    },
    {
     "name": "stdout",
     "output_type": "stream",
     "text": [
      "  Ice root: /wrk/users/thalvari/tmp5ogvjbll"
     ]
    },
    {
     "name": "stdout",
     "output_type": "stream",
     "text": [
      "\n"
     ]
    },
    {
     "name": "stdout",
     "output_type": "stream",
     "text": [
      "  JVM stdout: /wrk/users/thalvari/tmp5ogvjbll/h2o_thalvari_started_from_python.out"
     ]
    },
    {
     "name": "stdout",
     "output_type": "stream",
     "text": [
      "\n"
     ]
    },
    {
     "name": "stdout",
     "output_type": "stream",
     "text": [
      "  JVM stderr: /wrk/users/thalvari/tmp5ogvjbll/h2o_thalvari_started_from_python.err"
     ]
    },
    {
     "name": "stdout",
     "output_type": "stream",
     "text": [
      "\n"
     ]
    },
    {
     "name": "stdout",
     "output_type": "stream",
     "text": [
      "  Server is running at http://127.0.0.1:54321"
     ]
    },
    {
     "name": "stdout",
     "output_type": "stream",
     "text": [
      "\n"
     ]
    },
    {
     "name": "stdout",
     "output_type": "stream",
     "text": [
      "Connecting to H2O server at http://127.0.0.1:54321 .."
     ]
    },
    {
     "name": "stdout",
     "output_type": "stream",
     "text": [
      "."
     ]
    },
    {
     "name": "stdout",
     "output_type": "stream",
     "text": [
      " successful."
     ]
    },
    {
     "name": "stdout",
     "output_type": "stream",
     "text": [
      "\n"
     ]
    },
    {
     "data": {
      "text/html": [
       "<div style=\"overflow:auto\"><table style=\"width:50%\"><tr><td>H2O cluster uptime:</td>\n",
       "<td>01 secs</td></tr>\n",
       "<tr><td>H2O cluster timezone:</td>\n",
       "<td>Europe/Helsinki</td></tr>\n",
       "<tr><td>H2O data parsing timezone:</td>\n",
       "<td>UTC</td></tr>\n",
       "<tr><td>H2O cluster version:</td>\n",
       "<td>3.26.0.10</td></tr>\n",
       "<tr><td>H2O cluster version age:</td>\n",
       "<td>16 days </td></tr>\n",
       "<tr><td>H2O cluster name:</td>\n",
       "<td>#51619644</td></tr>\n",
       "<tr><td>H2O cluster total nodes:</td>\n",
       "<td>1</td></tr>\n",
       "<tr><td>H2O cluster free memory:</td>\n",
       "<td>29.97 Gb</td></tr>\n",
       "<tr><td>H2O cluster total cores:</td>\n",
       "<td>96</td></tr>\n",
       "<tr><td>H2O cluster allowed cores:</td>\n",
       "<td>48</td></tr>\n",
       "<tr><td>H2O cluster status:</td>\n",
       "<td>accepting new members, healthy</td></tr>\n",
       "<tr><td>H2O connection url:</td>\n",
       "<td>http://127.0.0.1:54321</td></tr>\n",
       "<tr><td>H2O connection proxy:</td>\n",
       "<td>{'http': None, 'https': None}</td></tr>\n",
       "<tr><td>H2O internal security:</td>\n",
       "<td>False</td></tr>\n",
       "<tr><td>H2O API Extensions:</td>\n",
       "<td>Amazon S3, XGBoost, Algos, AutoML, Core V3, TargetEncoder, Core V4</td></tr>\n",
       "<tr><td>Python version:</td>\n",
       "<td>3.6.6 final</td></tr></table></div>"
      ],
      "text/plain": [
       "--------------------------  ------------------------------------------------------------------\n",
       "H2O cluster uptime:         01 secs\n",
       "H2O cluster timezone:       Europe/Helsinki\n",
       "H2O data parsing timezone:  UTC\n",
       "H2O cluster version:        3.26.0.10\n",
       "H2O cluster version age:    16 days\n",
       "H2O cluster name:           #51619644\n",
       "H2O cluster total nodes:    1\n",
       "H2O cluster free memory:    29.97 Gb\n",
       "H2O cluster total cores:    96\n",
       "H2O cluster allowed cores:  48\n",
       "H2O cluster status:         accepting new members, healthy\n",
       "H2O connection url:         http://127.0.0.1:54321\n",
       "H2O connection proxy:       {'http': None, 'https': None}\n",
       "H2O internal security:      False\n",
       "H2O API Extensions:         Amazon S3, XGBoost, Algos, AutoML, Core V3, TargetEncoder, Core V4\n",
       "Python version:             3.6.6 final\n",
       "--------------------------  ------------------------------------------------------------------"
      ]
     },
     "metadata": {},
     "output_type": "display_data"
    },
    {
     "name": "stdout",
     "output_type": "stream",
     "text": [
      "H2O session _sid_8aee closed."
     ]
    },
    {
     "name": "stdout",
     "output_type": "stream",
     "text": [
      "\n"
     ]
    },
    {
     "name": "stdout",
     "output_type": "stream",
     "text": [
      "<class 'h2o.automl.autoh2o.H2OAutoML'>"
     ]
    },
    {
     "name": "stdout",
     "output_type": "stream",
     "text": [
      "\n"
     ]
    },
    {
     "name": "stdout",
     "output_type": "stream",
     "text": [
      "0.901"
     ]
    },
    {
     "name": "stdout",
     "output_type": "stream",
     "text": [
      "\n"
     ]
    },
    {
     "name": "stderr",
     "output_type": "stream",
     "text": [
      "WARNING:root:TimeoutError occurred at train() : "
     ]
    },
    {
     "name": "stderr",
     "output_type": "stream",
     "text": [
      "\n"
     ]
    },
    {
     "name": "stdout",
     "output_type": "stream",
     "text": [
      "<class 'autokeras.image.image_supervised.ImageClassifier'>"
     ]
    },
    {
     "name": "stdout",
     "output_type": "stream",
     "text": [
      "\n"
     ]
    },
    {
     "name": "stdout",
     "output_type": "stream",
     "text": [
      "0.887"
     ]
    },
    {
     "name": "stdout",
     "output_type": "stream",
     "text": [
      "\n"
     ]
    },
    {
     "name": "stderr",
     "output_type": "stream",
     "text": [
      "WARNING:root:TimeoutError occurred at train() : "
     ]
    },
    {
     "name": "stderr",
     "output_type": "stream",
     "text": [
      "\n"
     ]
    },
    {
     "name": "stdout",
     "output_type": "stream",
     "text": [
      "<class 'autokeras.image.image_supervised.ImageClassifier'>"
     ]
    },
    {
     "name": "stdout",
     "output_type": "stream",
     "text": [
      "\n"
     ]
    },
    {
     "name": "stdout",
     "output_type": "stream",
     "text": [
      "0.887"
     ]
    },
    {
     "name": "stdout",
     "output_type": "stream",
     "text": [
      "\n"
     ]
    },
    {
     "name": "stderr",
     "output_type": "stream",
     "text": [
      "\r",
      " 17%|█▋        | 1/6 [21:57:58<109:49:54, 79078.84s/it]"
     ]
    },
    {
     "name": "stdout",
     "output_type": "stream",
     "text": [
      "\n"
     ]
    },
    {
     "name": "stdout",
     "output_type": "stream",
     "text": [
      "192.84 minutes have elapsed. TPOT will close down.\n",
      "TPOT closed during evaluation in one generation.\n",
      "WARNING: TPOT may not provide a good pipeline if TPOT is stopped/interrupted in a early generation."
     ]
    },
    {
     "name": "stdout",
     "output_type": "stream",
     "text": [
      "\n"
     ]
    },
    {
     "name": "stdout",
     "output_type": "stream",
     "text": [
      "\n"
     ]
    },
    {
     "name": "stdout",
     "output_type": "stream",
     "text": [
      "\n",
      "TPOT closed prematurely. Will use the current best pipeline."
     ]
    },
    {
     "name": "stdout",
     "output_type": "stream",
     "text": [
      "\n"
     ]
    },
    {
     "name": "stdout",
     "output_type": "stream",
     "text": [
      "Best pipeline:"
     ]
    },
    {
     "name": "stdout",
     "output_type": "stream",
     "text": [
      " "
     ]
    },
    {
     "name": "stdout",
     "output_type": "stream",
     "text": [
      "KNeighborsClassifier(GradientBoostingClassifier(input_matrix, learning_rate=0.01, max_depth=1, max_features=0.45, min_samples_leaf=19, min_samples_split=11, n_estimators=100, subsample=0.45), n_neighbors=3, p=2, weights=distance)"
     ]
    },
    {
     "name": "stdout",
     "output_type": "stream",
     "text": [
      "\n"
     ]
    },
    {
     "name": "stdout",
     "output_type": "stream",
     "text": [
      "<class 'tpot.tpot.TPOTClassifier'>"
     ]
    },
    {
     "name": "stdout",
     "output_type": "stream",
     "text": [
      "\n"
     ]
    },
    {
     "name": "stdout",
     "output_type": "stream",
     "text": [
      "0.834"
     ]
    },
    {
     "name": "stdout",
     "output_type": "stream",
     "text": [
      "\n"
     ]
    },
    {
     "name": "stdout",
     "output_type": "stream",
     "text": [
      "\n"
     ]
    },
    {
     "name": "stdout",
     "output_type": "stream",
     "text": [
      "235.56 minutes have elapsed. TPOT will close down.\n",
      "TPOT closed during evaluation in one generation.\n",
      "WARNING: TPOT may not provide a good pipeline if TPOT is stopped/interrupted in a early generation."
     ]
    },
    {
     "name": "stdout",
     "output_type": "stream",
     "text": [
      "\n"
     ]
    },
    {
     "name": "stdout",
     "output_type": "stream",
     "text": [
      "\n"
     ]
    },
    {
     "name": "stdout",
     "output_type": "stream",
     "text": [
      "\n",
      "TPOT closed prematurely. Will use the current best pipeline."
     ]
    },
    {
     "name": "stdout",
     "output_type": "stream",
     "text": [
      "\n"
     ]
    },
    {
     "name": "stdout",
     "output_type": "stream",
     "text": [
      "Best pipeline:"
     ]
    },
    {
     "name": "stdout",
     "output_type": "stream",
     "text": [
      " "
     ]
    },
    {
     "name": "stdout",
     "output_type": "stream",
     "text": [
      "GradientBoostingClassifier(RFE(input_matrix, criterion=gini, max_features=0.45, n_estimators=100, step=0.8), learning_rate=0.1, max_depth=10, max_features=0.05, min_samples_leaf=11, min_samples_split=9, n_estimators=100, subsample=0.35000000000000003)"
     ]
    },
    {
     "name": "stdout",
     "output_type": "stream",
     "text": [
      "\n"
     ]
    },
    {
     "name": "stdout",
     "output_type": "stream",
     "text": [
      "<class 'tpot.tpot.TPOTClassifier'>"
     ]
    },
    {
     "name": "stdout",
     "output_type": "stream",
     "text": [
      "\n"
     ]
    },
    {
     "name": "stdout",
     "output_type": "stream",
     "text": [
      "0.663"
     ]
    },
    {
     "name": "stdout",
     "output_type": "stream",
     "text": [
      "\n"
     ]
    },
    {
     "name": "stdout",
     "output_type": "stream",
     "text": [
      "Checking whether there is an H2O instance running at http://localhost:54321 "
     ]
    },
    {
     "name": "stdout",
     "output_type": "stream",
     "text": [
      "."
     ]
    },
    {
     "name": "stdout",
     "output_type": "stream",
     "text": [
      "."
     ]
    },
    {
     "name": "stdout",
     "output_type": "stream",
     "text": [
      "."
     ]
    },
    {
     "name": "stdout",
     "output_type": "stream",
     "text": [
      "."
     ]
    },
    {
     "name": "stdout",
     "output_type": "stream",
     "text": [
      "."
     ]
    },
    {
     "name": "stdout",
     "output_type": "stream",
     "text": [
      " not found."
     ]
    },
    {
     "name": "stdout",
     "output_type": "stream",
     "text": [
      "\n"
     ]
    },
    {
     "name": "stdout",
     "output_type": "stream",
     "text": [
      "Attempting to start a local H2O server..."
     ]
    },
    {
     "name": "stdout",
     "output_type": "stream",
     "text": [
      "\n"
     ]
    },
    {
     "name": "stdout",
     "output_type": "stream",
     "text": [
      "  Java Version: openjdk version \"11.0.2\" 2019-01-15; OpenJDK Runtime Environment 18.9 (build 11.0.2+9); OpenJDK 64-Bit Server VM 18.9 (build 11.0.2+9, mixed mode)"
     ]
    },
    {
     "name": "stdout",
     "output_type": "stream",
     "text": [
      "\n"
     ]
    },
    {
     "name": "stdout",
     "output_type": "stream",
     "text": [
      "  Starting server from /wrk/users/thalvari/dpEmu-AutoML/venv/lib/python3.6/site-packages/h2o/backend/bin/h2o.jar"
     ]
    },
    {
     "name": "stdout",
     "output_type": "stream",
     "text": [
      "\n"
     ]
    },
    {
     "name": "stdout",
     "output_type": "stream",
     "text": [
      "  Ice root: /wrk/users/thalvari/tmpljy31qb9"
     ]
    },
    {
     "name": "stdout",
     "output_type": "stream",
     "text": [
      "\n"
     ]
    },
    {
     "name": "stdout",
     "output_type": "stream",
     "text": [
      "  JVM stdout: /wrk/users/thalvari/tmpljy31qb9/h2o_thalvari_started_from_python.out"
     ]
    },
    {
     "name": "stdout",
     "output_type": "stream",
     "text": [
      "\n"
     ]
    },
    {
     "name": "stdout",
     "output_type": "stream",
     "text": [
      "  JVM stderr: /wrk/users/thalvari/tmpljy31qb9/h2o_thalvari_started_from_python.err"
     ]
    },
    {
     "name": "stdout",
     "output_type": "stream",
     "text": [
      "\n"
     ]
    },
    {
     "name": "stdout",
     "output_type": "stream",
     "text": [
      "  Server is running at http://127.0.0.1:54321"
     ]
    },
    {
     "name": "stdout",
     "output_type": "stream",
     "text": [
      "\n"
     ]
    },
    {
     "name": "stdout",
     "output_type": "stream",
     "text": [
      "Connecting to H2O server at http://127.0.0.1:54321 .."
     ]
    },
    {
     "name": "stdout",
     "output_type": "stream",
     "text": [
      "."
     ]
    },
    {
     "name": "stdout",
     "output_type": "stream",
     "text": [
      " successful."
     ]
    },
    {
     "name": "stdout",
     "output_type": "stream",
     "text": [
      "\n"
     ]
    },
    {
     "data": {
      "text/html": [
       "<div style=\"overflow:auto\"><table style=\"width:50%\"><tr><td>H2O cluster uptime:</td>\n",
       "<td>01 secs</td></tr>\n",
       "<tr><td>H2O cluster timezone:</td>\n",
       "<td>Europe/Helsinki</td></tr>\n",
       "<tr><td>H2O data parsing timezone:</td>\n",
       "<td>UTC</td></tr>\n",
       "<tr><td>H2O cluster version:</td>\n",
       "<td>3.26.0.10</td></tr>\n",
       "<tr><td>H2O cluster version age:</td>\n",
       "<td>17 days </td></tr>\n",
       "<tr><td>H2O cluster name:</td>\n",
       "<td>#382206001</td></tr>\n",
       "<tr><td>H2O cluster total nodes:</td>\n",
       "<td>1</td></tr>\n",
       "<tr><td>H2O cluster free memory:</td>\n",
       "<td>29.97 Gb</td></tr>\n",
       "<tr><td>H2O cluster total cores:</td>\n",
       "<td>96</td></tr>\n",
       "<tr><td>H2O cluster allowed cores:</td>\n",
       "<td>48</td></tr>\n",
       "<tr><td>H2O cluster status:</td>\n",
       "<td>accepting new members, healthy</td></tr>\n",
       "<tr><td>H2O connection url:</td>\n",
       "<td>http://127.0.0.1:54321</td></tr>\n",
       "<tr><td>H2O connection proxy:</td>\n",
       "<td>{'http': None, 'https': None}</td></tr>\n",
       "<tr><td>H2O internal security:</td>\n",
       "<td>False</td></tr>\n",
       "<tr><td>H2O API Extensions:</td>\n",
       "<td>Amazon S3, XGBoost, Algos, AutoML, Core V3, TargetEncoder, Core V4</td></tr>\n",
       "<tr><td>Python version:</td>\n",
       "<td>3.6.6 final</td></tr></table></div>"
      ],
      "text/plain": [
       "--------------------------  ------------------------------------------------------------------\n",
       "H2O cluster uptime:         01 secs\n",
       "H2O cluster timezone:       Europe/Helsinki\n",
       "H2O data parsing timezone:  UTC\n",
       "H2O cluster version:        3.26.0.10\n",
       "H2O cluster version age:    17 days\n",
       "H2O cluster name:           #382206001\n",
       "H2O cluster total nodes:    1\n",
       "H2O cluster free memory:    29.97 Gb\n",
       "H2O cluster total cores:    96\n",
       "H2O cluster allowed cores:  48\n",
       "H2O cluster status:         accepting new members, healthy\n",
       "H2O connection url:         http://127.0.0.1:54321\n",
       "H2O connection proxy:       {'http': None, 'https': None}\n",
       "H2O internal security:      False\n",
       "H2O API Extensions:         Amazon S3, XGBoost, Algos, AutoML, Core V3, TargetEncoder, Core V4\n",
       "Python version:             3.6.6 final\n",
       "--------------------------  ------------------------------------------------------------------"
      ]
     },
     "metadata": {},
     "output_type": "display_data"
    },
    {
     "name": "stdout",
     "output_type": "stream",
     "text": [
      "H2O session _sid_8f5c closed."
     ]
    },
    {
     "name": "stdout",
     "output_type": "stream",
     "text": [
      "\n"
     ]
    },
    {
     "name": "stdout",
     "output_type": "stream",
     "text": [
      "<class 'h2o.automl.autoh2o.H2OAutoML'>"
     ]
    },
    {
     "name": "stdout",
     "output_type": "stream",
     "text": [
      "\n"
     ]
    },
    {
     "name": "stdout",
     "output_type": "stream",
     "text": [
      "0.852"
     ]
    },
    {
     "name": "stdout",
     "output_type": "stream",
     "text": [
      "\n"
     ]
    },
    {
     "name": "stdout",
     "output_type": "stream",
     "text": [
      "Checking whether there is an H2O instance running at http://localhost:54321 "
     ]
    },
    {
     "name": "stdout",
     "output_type": "stream",
     "text": [
      "."
     ]
    },
    {
     "name": "stdout",
     "output_type": "stream",
     "text": [
      "."
     ]
    },
    {
     "name": "stdout",
     "output_type": "stream",
     "text": [
      "."
     ]
    },
    {
     "name": "stdout",
     "output_type": "stream",
     "text": [
      "."
     ]
    },
    {
     "name": "stdout",
     "output_type": "stream",
     "text": [
      "."
     ]
    },
    {
     "name": "stdout",
     "output_type": "stream",
     "text": [
      " not found."
     ]
    },
    {
     "name": "stdout",
     "output_type": "stream",
     "text": [
      "\n"
     ]
    },
    {
     "name": "stdout",
     "output_type": "stream",
     "text": [
      "Attempting to start a local H2O server..."
     ]
    },
    {
     "name": "stdout",
     "output_type": "stream",
     "text": [
      "\n"
     ]
    },
    {
     "name": "stdout",
     "output_type": "stream",
     "text": [
      "  Java Version: openjdk version \"11.0.2\" 2019-01-15; OpenJDK Runtime Environment 18.9 (build 11.0.2+9); OpenJDK 64-Bit Server VM 18.9 (build 11.0.2+9, mixed mode)"
     ]
    },
    {
     "name": "stdout",
     "output_type": "stream",
     "text": [
      "\n"
     ]
    },
    {
     "name": "stdout",
     "output_type": "stream",
     "text": [
      "  Starting server from /wrk/users/thalvari/dpEmu-AutoML/venv/lib/python3.6/site-packages/h2o/backend/bin/h2o.jar"
     ]
    },
    {
     "name": "stdout",
     "output_type": "stream",
     "text": [
      "\n"
     ]
    },
    {
     "name": "stdout",
     "output_type": "stream",
     "text": [
      "  Ice root: /wrk/users/thalvari/tmppj2yv1ay"
     ]
    },
    {
     "name": "stdout",
     "output_type": "stream",
     "text": [
      "\n"
     ]
    },
    {
     "name": "stdout",
     "output_type": "stream",
     "text": [
      "  JVM stdout: /wrk/users/thalvari/tmppj2yv1ay/h2o_thalvari_started_from_python.out"
     ]
    },
    {
     "name": "stdout",
     "output_type": "stream",
     "text": [
      "\n"
     ]
    },
    {
     "name": "stdout",
     "output_type": "stream",
     "text": [
      "  JVM stderr: /wrk/users/thalvari/tmppj2yv1ay/h2o_thalvari_started_from_python.err"
     ]
    },
    {
     "name": "stdout",
     "output_type": "stream",
     "text": [
      "\n"
     ]
    },
    {
     "name": "stdout",
     "output_type": "stream",
     "text": [
      "  Server is running at http://127.0.0.1:54321"
     ]
    },
    {
     "name": "stdout",
     "output_type": "stream",
     "text": [
      "\n"
     ]
    },
    {
     "name": "stdout",
     "output_type": "stream",
     "text": [
      "Connecting to H2O server at http://127.0.0.1:54321 .."
     ]
    },
    {
     "name": "stdout",
     "output_type": "stream",
     "text": [
      "."
     ]
    },
    {
     "name": "stdout",
     "output_type": "stream",
     "text": [
      " successful."
     ]
    },
    {
     "name": "stdout",
     "output_type": "stream",
     "text": [
      "\n"
     ]
    },
    {
     "data": {
      "text/html": [
       "<div style=\"overflow:auto\"><table style=\"width:50%\"><tr><td>H2O cluster uptime:</td>\n",
       "<td>01 secs</td></tr>\n",
       "<tr><td>H2O cluster timezone:</td>\n",
       "<td>Europe/Helsinki</td></tr>\n",
       "<tr><td>H2O data parsing timezone:</td>\n",
       "<td>UTC</td></tr>\n",
       "<tr><td>H2O cluster version:</td>\n",
       "<td>3.26.0.10</td></tr>\n",
       "<tr><td>H2O cluster version age:</td>\n",
       "<td>17 days </td></tr>\n",
       "<tr><td>H2O cluster name:</td>\n",
       "<td>#185454009</td></tr>\n",
       "<tr><td>H2O cluster total nodes:</td>\n",
       "<td>1</td></tr>\n",
       "<tr><td>H2O cluster free memory:</td>\n",
       "<td>29.97 Gb</td></tr>\n",
       "<tr><td>H2O cluster total cores:</td>\n",
       "<td>96</td></tr>\n",
       "<tr><td>H2O cluster allowed cores:</td>\n",
       "<td>48</td></tr>\n",
       "<tr><td>H2O cluster status:</td>\n",
       "<td>accepting new members, healthy</td></tr>\n",
       "<tr><td>H2O connection url:</td>\n",
       "<td>http://127.0.0.1:54321</td></tr>\n",
       "<tr><td>H2O connection proxy:</td>\n",
       "<td>{'http': None, 'https': None}</td></tr>\n",
       "<tr><td>H2O internal security:</td>\n",
       "<td>False</td></tr>\n",
       "<tr><td>H2O API Extensions:</td>\n",
       "<td>Amazon S3, XGBoost, Algos, AutoML, Core V3, TargetEncoder, Core V4</td></tr>\n",
       "<tr><td>Python version:</td>\n",
       "<td>3.6.6 final</td></tr></table></div>"
      ],
      "text/plain": [
       "--------------------------  ------------------------------------------------------------------\n",
       "H2O cluster uptime:         01 secs\n",
       "H2O cluster timezone:       Europe/Helsinki\n",
       "H2O data parsing timezone:  UTC\n",
       "H2O cluster version:        3.26.0.10\n",
       "H2O cluster version age:    17 days\n",
       "H2O cluster name:           #185454009\n",
       "H2O cluster total nodes:    1\n",
       "H2O cluster free memory:    29.97 Gb\n",
       "H2O cluster total cores:    96\n",
       "H2O cluster allowed cores:  48\n",
       "H2O cluster status:         accepting new members, healthy\n",
       "H2O connection url:         http://127.0.0.1:54321\n",
       "H2O connection proxy:       {'http': None, 'https': None}\n",
       "H2O internal security:      False\n",
       "H2O API Extensions:         Amazon S3, XGBoost, Algos, AutoML, Core V3, TargetEncoder, Core V4\n",
       "Python version:             3.6.6 final\n",
       "--------------------------  ------------------------------------------------------------------"
      ]
     },
     "metadata": {},
     "output_type": "display_data"
    },
    {
     "name": "stdout",
     "output_type": "stream",
     "text": [
      "H2O session _sid_8380 closed."
     ]
    },
    {
     "name": "stdout",
     "output_type": "stream",
     "text": [
      "\n"
     ]
    },
    {
     "name": "stdout",
     "output_type": "stream",
     "text": [
      "<class 'h2o.automl.autoh2o.H2OAutoML'>"
     ]
    },
    {
     "name": "stdout",
     "output_type": "stream",
     "text": [
      "\n"
     ]
    },
    {
     "name": "stdout",
     "output_type": "stream",
     "text": [
      "0.656"
     ]
    },
    {
     "name": "stdout",
     "output_type": "stream",
     "text": [
      "\n"
     ]
    },
    {
     "name": "stderr",
     "output_type": "stream",
     "text": [
      "WARNING:root:TimeoutError occurred at train() : "
     ]
    },
    {
     "name": "stderr",
     "output_type": "stream",
     "text": [
      "\n"
     ]
    },
    {
     "name": "stdout",
     "output_type": "stream",
     "text": [
      "<class 'autokeras.image.image_supervised.ImageClassifier'>"
     ]
    },
    {
     "name": "stdout",
     "output_type": "stream",
     "text": [
      "\n"
     ]
    },
    {
     "name": "stdout",
     "output_type": "stream",
     "text": [
      "0.866"
     ]
    },
    {
     "name": "stdout",
     "output_type": "stream",
     "text": [
      "\n"
     ]
    },
    {
     "name": "stderr",
     "output_type": "stream",
     "text": [
      "WARNING:root:TimeoutError occurred at train() : "
     ]
    },
    {
     "name": "stderr",
     "output_type": "stream",
     "text": [
      "\n"
     ]
    },
    {
     "name": "stdout",
     "output_type": "stream",
     "text": [
      "<class 'autokeras.image.image_supervised.ImageClassifier'>"
     ]
    },
    {
     "name": "stdout",
     "output_type": "stream",
     "text": [
      "\n"
     ]
    },
    {
     "name": "stdout",
     "output_type": "stream",
     "text": [
      "0.562"
     ]
    },
    {
     "name": "stdout",
     "output_type": "stream",
     "text": [
      "\n"
     ]
    },
    {
     "name": "stderr",
     "output_type": "stream",
     "text": [
      "\r",
      " 33%|███▎      | 2/6 [44:37:54<88:42:15, 79833.83s/it] "
     ]
    },
    {
     "name": "stdout",
     "output_type": "stream",
     "text": [
      "\n"
     ]
    },
    {
     "name": "stdout",
     "output_type": "stream",
     "text": [
      "182.53 minutes have elapsed. TPOT will close down.\n",
      "TPOT closed during evaluation in one generation.\n",
      "WARNING: TPOT may not provide a good pipeline if TPOT is stopped/interrupted in a early generation."
     ]
    },
    {
     "name": "stdout",
     "output_type": "stream",
     "text": [
      "\n"
     ]
    },
    {
     "name": "stdout",
     "output_type": "stream",
     "text": [
      "\n"
     ]
    },
    {
     "name": "stdout",
     "output_type": "stream",
     "text": [
      "\n",
      "TPOT closed prematurely. Will use the current best pipeline."
     ]
    },
    {
     "name": "stdout",
     "output_type": "stream",
     "text": [
      "\n"
     ]
    },
    {
     "name": "stdout",
     "output_type": "stream",
     "text": [
      "Best pipeline:"
     ]
    },
    {
     "name": "stdout",
     "output_type": "stream",
     "text": [
      " "
     ]
    },
    {
     "name": "stdout",
     "output_type": "stream",
     "text": [
      "LinearSVC(MinMaxScaler(input_matrix), C=20.0, dual=False, loss=squared_hinge, penalty=l2, tol=1e-05)"
     ]
    },
    {
     "name": "stdout",
     "output_type": "stream",
     "text": [
      "\n"
     ]
    },
    {
     "name": "stdout",
     "output_type": "stream",
     "text": [
      "<class 'tpot.tpot.TPOTClassifier'>"
     ]
    },
    {
     "name": "stdout",
     "output_type": "stream",
     "text": [
      "\n"
     ]
    },
    {
     "name": "stdout",
     "output_type": "stream",
     "text": [
      "0.774"
     ]
    },
    {
     "name": "stdout",
     "output_type": "stream",
     "text": [
      "\n"
     ]
    },
    {
     "name": "stdout",
     "output_type": "stream",
     "text": [
      "\n"
     ]
    },
    {
     "name": "stdout",
     "output_type": "stream",
     "text": [
      "235.39 minutes have elapsed. TPOT will close down.\n",
      "TPOT closed during evaluation in one generation.\n",
      "WARNING: TPOT may not provide a good pipeline if TPOT is stopped/interrupted in a early generation."
     ]
    },
    {
     "name": "stdout",
     "output_type": "stream",
     "text": [
      "\n"
     ]
    },
    {
     "name": "stdout",
     "output_type": "stream",
     "text": [
      "\n"
     ]
    },
    {
     "name": "stdout",
     "output_type": "stream",
     "text": [
      "\n",
      "TPOT closed prematurely. Will use the current best pipeline."
     ]
    },
    {
     "name": "stdout",
     "output_type": "stream",
     "text": [
      "\n"
     ]
    },
    {
     "name": "stdout",
     "output_type": "stream",
     "text": [
      "Best pipeline:"
     ]
    },
    {
     "name": "stdout",
     "output_type": "stream",
     "text": [
      " "
     ]
    },
    {
     "name": "stdout",
     "output_type": "stream",
     "text": [
      "GradientBoostingClassifier(RFE(input_matrix, criterion=gini, max_features=0.45, n_estimators=100, step=0.8), learning_rate=0.1, max_depth=10, max_features=0.05, min_samples_leaf=11, min_samples_split=9, n_estimators=100, subsample=0.35000000000000003)"
     ]
    },
    {
     "name": "stdout",
     "output_type": "stream",
     "text": [
      "\n"
     ]
    },
    {
     "name": "stdout",
     "output_type": "stream",
     "text": [
      "<class 'tpot.tpot.TPOTClassifier'>"
     ]
    },
    {
     "name": "stdout",
     "output_type": "stream",
     "text": [
      "\n"
     ]
    },
    {
     "name": "stdout",
     "output_type": "stream",
     "text": [
      "0.416"
     ]
    },
    {
     "name": "stdout",
     "output_type": "stream",
     "text": [
      "\n"
     ]
    },
    {
     "name": "stdout",
     "output_type": "stream",
     "text": [
      "Checking whether there is an H2O instance running at http://localhost:54321 "
     ]
    },
    {
     "name": "stdout",
     "output_type": "stream",
     "text": [
      "."
     ]
    },
    {
     "name": "stdout",
     "output_type": "stream",
     "text": [
      "."
     ]
    },
    {
     "name": "stdout",
     "output_type": "stream",
     "text": [
      "."
     ]
    },
    {
     "name": "stdout",
     "output_type": "stream",
     "text": [
      "."
     ]
    },
    {
     "name": "stdout",
     "output_type": "stream",
     "text": [
      "."
     ]
    },
    {
     "name": "stdout",
     "output_type": "stream",
     "text": [
      " not found."
     ]
    },
    {
     "name": "stdout",
     "output_type": "stream",
     "text": [
      "\n"
     ]
    },
    {
     "name": "stdout",
     "output_type": "stream",
     "text": [
      "Attempting to start a local H2O server..."
     ]
    },
    {
     "name": "stdout",
     "output_type": "stream",
     "text": [
      "\n"
     ]
    },
    {
     "name": "stdout",
     "output_type": "stream",
     "text": [
      "  Java Version: openjdk version \"11.0.2\" 2019-01-15; OpenJDK Runtime Environment 18.9 (build 11.0.2+9); OpenJDK 64-Bit Server VM 18.9 (build 11.0.2+9, mixed mode)"
     ]
    },
    {
     "name": "stdout",
     "output_type": "stream",
     "text": [
      "\n"
     ]
    },
    {
     "name": "stdout",
     "output_type": "stream",
     "text": [
      "  Starting server from /wrk/users/thalvari/dpEmu-AutoML/venv/lib/python3.6/site-packages/h2o/backend/bin/h2o.jar"
     ]
    },
    {
     "name": "stdout",
     "output_type": "stream",
     "text": [
      "\n"
     ]
    },
    {
     "name": "stdout",
     "output_type": "stream",
     "text": [
      "  Ice root: /wrk/users/thalvari/tmp7hnzxvkf"
     ]
    },
    {
     "name": "stdout",
     "output_type": "stream",
     "text": [
      "\n"
     ]
    },
    {
     "name": "stdout",
     "output_type": "stream",
     "text": [
      "  JVM stdout: /wrk/users/thalvari/tmp7hnzxvkf/h2o_thalvari_started_from_python.out"
     ]
    },
    {
     "name": "stdout",
     "output_type": "stream",
     "text": [
      "\n"
     ]
    },
    {
     "name": "stdout",
     "output_type": "stream",
     "text": [
      "  JVM stderr: /wrk/users/thalvari/tmp7hnzxvkf/h2o_thalvari_started_from_python.err"
     ]
    },
    {
     "name": "stdout",
     "output_type": "stream",
     "text": [
      "\n"
     ]
    },
    {
     "name": "stdout",
     "output_type": "stream",
     "text": [
      "  Server is running at http://127.0.0.1:54321"
     ]
    },
    {
     "name": "stdout",
     "output_type": "stream",
     "text": [
      "\n"
     ]
    },
    {
     "name": "stdout",
     "output_type": "stream",
     "text": [
      "Connecting to H2O server at http://127.0.0.1:54321 .."
     ]
    },
    {
     "name": "stdout",
     "output_type": "stream",
     "text": [
      "."
     ]
    },
    {
     "name": "stdout",
     "output_type": "stream",
     "text": [
      " successful."
     ]
    },
    {
     "name": "stdout",
     "output_type": "stream",
     "text": [
      "\n"
     ]
    },
    {
     "data": {
      "text/html": [
       "<div style=\"overflow:auto\"><table style=\"width:50%\"><tr><td>H2O cluster uptime:</td>\n",
       "<td>01 secs</td></tr>\n",
       "<tr><td>H2O cluster timezone:</td>\n",
       "<td>Europe/Helsinki</td></tr>\n",
       "<tr><td>H2O data parsing timezone:</td>\n",
       "<td>UTC</td></tr>\n",
       "<tr><td>H2O cluster version:</td>\n",
       "<td>3.26.0.10</td></tr>\n",
       "<tr><td>H2O cluster version age:</td>\n",
       "<td>18 days </td></tr>\n",
       "<tr><td>H2O cluster name:</td>\n",
       "<td>#609319495</td></tr>\n",
       "<tr><td>H2O cluster total nodes:</td>\n",
       "<td>1</td></tr>\n",
       "<tr><td>H2O cluster free memory:</td>\n",
       "<td>29.97 Gb</td></tr>\n",
       "<tr><td>H2O cluster total cores:</td>\n",
       "<td>96</td></tr>\n",
       "<tr><td>H2O cluster allowed cores:</td>\n",
       "<td>48</td></tr>\n",
       "<tr><td>H2O cluster status:</td>\n",
       "<td>accepting new members, healthy</td></tr>\n",
       "<tr><td>H2O connection url:</td>\n",
       "<td>http://127.0.0.1:54321</td></tr>\n",
       "<tr><td>H2O connection proxy:</td>\n",
       "<td>{'http': None, 'https': None}</td></tr>\n",
       "<tr><td>H2O internal security:</td>\n",
       "<td>False</td></tr>\n",
       "<tr><td>H2O API Extensions:</td>\n",
       "<td>Amazon S3, XGBoost, Algos, AutoML, Core V3, TargetEncoder, Core V4</td></tr>\n",
       "<tr><td>Python version:</td>\n",
       "<td>3.6.6 final</td></tr></table></div>"
      ],
      "text/plain": [
       "--------------------------  ------------------------------------------------------------------\n",
       "H2O cluster uptime:         01 secs\n",
       "H2O cluster timezone:       Europe/Helsinki\n",
       "H2O data parsing timezone:  UTC\n",
       "H2O cluster version:        3.26.0.10\n",
       "H2O cluster version age:    18 days\n",
       "H2O cluster name:           #609319495\n",
       "H2O cluster total nodes:    1\n",
       "H2O cluster free memory:    29.97 Gb\n",
       "H2O cluster total cores:    96\n",
       "H2O cluster allowed cores:  48\n",
       "H2O cluster status:         accepting new members, healthy\n",
       "H2O connection url:         http://127.0.0.1:54321\n",
       "H2O connection proxy:       {'http': None, 'https': None}\n",
       "H2O internal security:      False\n",
       "H2O API Extensions:         Amazon S3, XGBoost, Algos, AutoML, Core V3, TargetEncoder, Core V4\n",
       "Python version:             3.6.6 final\n",
       "--------------------------  ------------------------------------------------------------------"
      ]
     },
     "metadata": {},
     "output_type": "display_data"
    },
    {
     "name": "stdout",
     "output_type": "stream",
     "text": [
      "H2O session _sid_aed0 closed."
     ]
    },
    {
     "name": "stdout",
     "output_type": "stream",
     "text": [
      "\n"
     ]
    },
    {
     "name": "stdout",
     "output_type": "stream",
     "text": [
      "<class 'h2o.automl.autoh2o.H2OAutoML'>"
     ]
    },
    {
     "name": "stdout",
     "output_type": "stream",
     "text": [
      "\n"
     ]
    },
    {
     "name": "stdout",
     "output_type": "stream",
     "text": [
      "0.805"
     ]
    },
    {
     "name": "stdout",
     "output_type": "stream",
     "text": [
      "\n"
     ]
    },
    {
     "name": "stdout",
     "output_type": "stream",
     "text": [
      "Checking whether there is an H2O instance running at http://localhost:54321 "
     ]
    },
    {
     "name": "stdout",
     "output_type": "stream",
     "text": [
      "."
     ]
    },
    {
     "name": "stdout",
     "output_type": "stream",
     "text": [
      "."
     ]
    },
    {
     "name": "stdout",
     "output_type": "stream",
     "text": [
      "."
     ]
    },
    {
     "name": "stdout",
     "output_type": "stream",
     "text": [
      "."
     ]
    },
    {
     "name": "stdout",
     "output_type": "stream",
     "text": [
      "."
     ]
    },
    {
     "name": "stdout",
     "output_type": "stream",
     "text": [
      " not found."
     ]
    },
    {
     "name": "stdout",
     "output_type": "stream",
     "text": [
      "\n"
     ]
    },
    {
     "name": "stdout",
     "output_type": "stream",
     "text": [
      "Attempting to start a local H2O server..."
     ]
    },
    {
     "name": "stdout",
     "output_type": "stream",
     "text": [
      "\n"
     ]
    },
    {
     "name": "stdout",
     "output_type": "stream",
     "text": [
      "  Java Version: openjdk version \"11.0.2\" 2019-01-15; OpenJDK Runtime Environment 18.9 (build 11.0.2+9); OpenJDK 64-Bit Server VM 18.9 (build 11.0.2+9, mixed mode)"
     ]
    },
    {
     "name": "stdout",
     "output_type": "stream",
     "text": [
      "\n"
     ]
    },
    {
     "name": "stdout",
     "output_type": "stream",
     "text": [
      "  Starting server from /wrk/users/thalvari/dpEmu-AutoML/venv/lib/python3.6/site-packages/h2o/backend/bin/h2o.jar"
     ]
    },
    {
     "name": "stdout",
     "output_type": "stream",
     "text": [
      "\n"
     ]
    },
    {
     "name": "stdout",
     "output_type": "stream",
     "text": [
      "  Ice root: /wrk/users/thalvari/tmpgscuuou4"
     ]
    },
    {
     "name": "stdout",
     "output_type": "stream",
     "text": [
      "\n"
     ]
    },
    {
     "name": "stdout",
     "output_type": "stream",
     "text": [
      "  JVM stdout: /wrk/users/thalvari/tmpgscuuou4/h2o_thalvari_started_from_python.out"
     ]
    },
    {
     "name": "stdout",
     "output_type": "stream",
     "text": [
      "\n"
     ]
    },
    {
     "name": "stdout",
     "output_type": "stream",
     "text": [
      "  JVM stderr: /wrk/users/thalvari/tmpgscuuou4/h2o_thalvari_started_from_python.err"
     ]
    },
    {
     "name": "stdout",
     "output_type": "stream",
     "text": [
      "\n"
     ]
    },
    {
     "name": "stdout",
     "output_type": "stream",
     "text": [
      "  Server is running at http://127.0.0.1:54321"
     ]
    },
    {
     "name": "stdout",
     "output_type": "stream",
     "text": [
      "\n"
     ]
    },
    {
     "name": "stdout",
     "output_type": "stream",
     "text": [
      "Connecting to H2O server at http://127.0.0.1:54321 .."
     ]
    },
    {
     "name": "stdout",
     "output_type": "stream",
     "text": [
      "."
     ]
    },
    {
     "name": "stdout",
     "output_type": "stream",
     "text": [
      " successful."
     ]
    },
    {
     "name": "stdout",
     "output_type": "stream",
     "text": [
      "\n"
     ]
    },
    {
     "data": {
      "text/html": [
       "<div style=\"overflow:auto\"><table style=\"width:50%\"><tr><td>H2O cluster uptime:</td>\n",
       "<td>01 secs</td></tr>\n",
       "<tr><td>H2O cluster timezone:</td>\n",
       "<td>Europe/Helsinki</td></tr>\n",
       "<tr><td>H2O data parsing timezone:</td>\n",
       "<td>UTC</td></tr>\n",
       "<tr><td>H2O cluster version:</td>\n",
       "<td>3.26.0.10</td></tr>\n",
       "<tr><td>H2O cluster version age:</td>\n",
       "<td>18 days </td></tr>\n",
       "<tr><td>H2O cluster name:</td>\n",
       "<td>#561067247</td></tr>\n",
       "<tr><td>H2O cluster total nodes:</td>\n",
       "<td>1</td></tr>\n",
       "<tr><td>H2O cluster free memory:</td>\n",
       "<td>29.97 Gb</td></tr>\n",
       "<tr><td>H2O cluster total cores:</td>\n",
       "<td>96</td></tr>\n",
       "<tr><td>H2O cluster allowed cores:</td>\n",
       "<td>48</td></tr>\n",
       "<tr><td>H2O cluster status:</td>\n",
       "<td>accepting new members, healthy</td></tr>\n",
       "<tr><td>H2O connection url:</td>\n",
       "<td>http://127.0.0.1:54321</td></tr>\n",
       "<tr><td>H2O connection proxy:</td>\n",
       "<td>{'http': None, 'https': None}</td></tr>\n",
       "<tr><td>H2O internal security:</td>\n",
       "<td>False</td></tr>\n",
       "<tr><td>H2O API Extensions:</td>\n",
       "<td>Amazon S3, XGBoost, Algos, AutoML, Core V3, TargetEncoder, Core V4</td></tr>\n",
       "<tr><td>Python version:</td>\n",
       "<td>3.6.6 final</td></tr></table></div>"
      ],
      "text/plain": [
       "--------------------------  ------------------------------------------------------------------\n",
       "H2O cluster uptime:         01 secs\n",
       "H2O cluster timezone:       Europe/Helsinki\n",
       "H2O data parsing timezone:  UTC\n",
       "H2O cluster version:        3.26.0.10\n",
       "H2O cluster version age:    18 days\n",
       "H2O cluster name:           #561067247\n",
       "H2O cluster total nodes:    1\n",
       "H2O cluster free memory:    29.97 Gb\n",
       "H2O cluster total cores:    96\n",
       "H2O cluster allowed cores:  48\n",
       "H2O cluster status:         accepting new members, healthy\n",
       "H2O connection url:         http://127.0.0.1:54321\n",
       "H2O connection proxy:       {'http': None, 'https': None}\n",
       "H2O internal security:      False\n",
       "H2O API Extensions:         Amazon S3, XGBoost, Algos, AutoML, Core V3, TargetEncoder, Core V4\n",
       "Python version:             3.6.6 final\n",
       "--------------------------  ------------------------------------------------------------------"
      ]
     },
     "metadata": {},
     "output_type": "display_data"
    },
    {
     "name": "stdout",
     "output_type": "stream",
     "text": [
      "H2O session _sid_ae75 closed."
     ]
    },
    {
     "name": "stdout",
     "output_type": "stream",
     "text": [
      "\n"
     ]
    },
    {
     "name": "stdout",
     "output_type": "stream",
     "text": [
      "<class 'h2o.automl.autoh2o.H2OAutoML'>"
     ]
    },
    {
     "name": "stdout",
     "output_type": "stream",
     "text": [
      "\n"
     ]
    },
    {
     "name": "stdout",
     "output_type": "stream",
     "text": [
      "0.447"
     ]
    },
    {
     "name": "stdout",
     "output_type": "stream",
     "text": [
      "\n"
     ]
    },
    {
     "name": "stderr",
     "output_type": "stream",
     "text": [
      "WARNING:root:TimeoutError occurred at train() : "
     ]
    },
    {
     "name": "stderr",
     "output_type": "stream",
     "text": [
      "\n"
     ]
    },
    {
     "name": "stdout",
     "output_type": "stream",
     "text": [
      "<class 'autokeras.image.image_supervised.ImageClassifier'>"
     ]
    },
    {
     "name": "stdout",
     "output_type": "stream",
     "text": [
      "\n"
     ]
    },
    {
     "name": "stdout",
     "output_type": "stream",
     "text": [
      "0.774"
     ]
    },
    {
     "name": "stdout",
     "output_type": "stream",
     "text": [
      "\n"
     ]
    },
    {
     "name": "stderr",
     "output_type": "stream",
     "text": [
      "WARNING:root:TimeoutError occurred at train() : "
     ]
    },
    {
     "name": "stderr",
     "output_type": "stream",
     "text": [
      "\n"
     ]
    },
    {
     "name": "stdout",
     "output_type": "stream",
     "text": [
      "<class 'autokeras.image.image_supervised.ImageClassifier'>"
     ]
    },
    {
     "name": "stdout",
     "output_type": "stream",
     "text": [
      "\n"
     ]
    },
    {
     "name": "stdout",
     "output_type": "stream",
     "text": [
      "0.118"
     ]
    },
    {
     "name": "stdout",
     "output_type": "stream",
     "text": [
      "\n"
     ]
    },
    {
     "name": "stderr",
     "output_type": "stream",
     "text": [
      "\r",
      " 50%|█████     | 3/6 [64:49:12<64:44:21, 77687.09s/it]"
     ]
    },
    {
     "name": "stdout",
     "output_type": "stream",
     "text": [
      "\n"
     ]
    },
    {
     "name": "stdout",
     "output_type": "stream",
     "text": [
      "182.86 minutes have elapsed. TPOT will close down.\n",
      "TPOT closed during evaluation in one generation.\n",
      "WARNING: TPOT may not provide a good pipeline if TPOT is stopped/interrupted in a early generation."
     ]
    },
    {
     "name": "stdout",
     "output_type": "stream",
     "text": [
      "\n"
     ]
    },
    {
     "name": "stdout",
     "output_type": "stream",
     "text": [
      "\n"
     ]
    },
    {
     "name": "stdout",
     "output_type": "stream",
     "text": [
      "\n",
      "TPOT closed prematurely. Will use the current best pipeline."
     ]
    },
    {
     "name": "stdout",
     "output_type": "stream",
     "text": [
      "\n"
     ]
    },
    {
     "name": "stdout",
     "output_type": "stream",
     "text": [
      "Best pipeline:"
     ]
    },
    {
     "name": "stdout",
     "output_type": "stream",
     "text": [
      " "
     ]
    },
    {
     "name": "stdout",
     "output_type": "stream",
     "text": [
      "LogisticRegression(input_matrix, C=25.0, dual=False, penalty=l1)"
     ]
    },
    {
     "name": "stdout",
     "output_type": "stream",
     "text": [
      "\n"
     ]
    },
    {
     "name": "stdout",
     "output_type": "stream",
     "text": [
      "<class 'tpot.tpot.TPOTClassifier'>"
     ]
    },
    {
     "name": "stdout",
     "output_type": "stream",
     "text": [
      "\n"
     ]
    },
    {
     "name": "stdout",
     "output_type": "stream",
     "text": [
      "0.746"
     ]
    },
    {
     "name": "stdout",
     "output_type": "stream",
     "text": [
      "\n"
     ]
    },
    {
     "name": "stdout",
     "output_type": "stream",
     "text": [
      "\n"
     ]
    },
    {
     "name": "stdout",
     "output_type": "stream",
     "text": [
      "239.25 minutes have elapsed. TPOT will close down.\n",
      "TPOT closed during evaluation in one generation.\n",
      "WARNING: TPOT may not provide a good pipeline if TPOT is stopped/interrupted in a early generation."
     ]
    },
    {
     "name": "stdout",
     "output_type": "stream",
     "text": [
      "\n"
     ]
    },
    {
     "name": "stdout",
     "output_type": "stream",
     "text": [
      "\n"
     ]
    },
    {
     "name": "stdout",
     "output_type": "stream",
     "text": [
      "\n",
      "TPOT closed prematurely. Will use the current best pipeline."
     ]
    },
    {
     "name": "stdout",
     "output_type": "stream",
     "text": [
      "\n"
     ]
    },
    {
     "name": "stdout",
     "output_type": "stream",
     "text": [
      "Best pipeline:"
     ]
    },
    {
     "name": "stdout",
     "output_type": "stream",
     "text": [
      " "
     ]
    },
    {
     "name": "stdout",
     "output_type": "stream",
     "text": [
      "GradientBoostingClassifier(RFE(input_matrix, criterion=gini, max_features=0.45, n_estimators=100, step=0.8), learning_rate=0.1, max_depth=10, max_features=0.05, min_samples_leaf=11, min_samples_split=9, n_estimators=100, subsample=0.35000000000000003)"
     ]
    },
    {
     "name": "stdout",
     "output_type": "stream",
     "text": [
      "\n"
     ]
    },
    {
     "name": "stdout",
     "output_type": "stream",
     "text": [
      "<class 'tpot.tpot.TPOTClassifier'>"
     ]
    },
    {
     "name": "stdout",
     "output_type": "stream",
     "text": [
      "\n"
     ]
    },
    {
     "name": "stdout",
     "output_type": "stream",
     "text": [
      "0.298"
     ]
    },
    {
     "name": "stdout",
     "output_type": "stream",
     "text": [
      "\n"
     ]
    },
    {
     "name": "stdout",
     "output_type": "stream",
     "text": [
      "Checking whether there is an H2O instance running at http://localhost:54321 "
     ]
    },
    {
     "name": "stdout",
     "output_type": "stream",
     "text": [
      "."
     ]
    },
    {
     "name": "stdout",
     "output_type": "stream",
     "text": [
      "."
     ]
    },
    {
     "name": "stdout",
     "output_type": "stream",
     "text": [
      "."
     ]
    },
    {
     "name": "stdout",
     "output_type": "stream",
     "text": [
      "."
     ]
    },
    {
     "name": "stdout",
     "output_type": "stream",
     "text": [
      "."
     ]
    },
    {
     "name": "stdout",
     "output_type": "stream",
     "text": [
      " not found."
     ]
    },
    {
     "name": "stdout",
     "output_type": "stream",
     "text": [
      "\n"
     ]
    },
    {
     "name": "stdout",
     "output_type": "stream",
     "text": [
      "Attempting to start a local H2O server..."
     ]
    },
    {
     "name": "stdout",
     "output_type": "stream",
     "text": [
      "\n"
     ]
    },
    {
     "name": "stdout",
     "output_type": "stream",
     "text": [
      "  Java Version: openjdk version \"11.0.2\" 2019-01-15; OpenJDK Runtime Environment 18.9 (build 11.0.2+9); OpenJDK 64-Bit Server VM 18.9 (build 11.0.2+9, mixed mode)"
     ]
    },
    {
     "name": "stdout",
     "output_type": "stream",
     "text": [
      "\n"
     ]
    },
    {
     "name": "stdout",
     "output_type": "stream",
     "text": [
      "  Starting server from /wrk/users/thalvari/dpEmu-AutoML/venv/lib/python3.6/site-packages/h2o/backend/bin/h2o.jar"
     ]
    },
    {
     "name": "stdout",
     "output_type": "stream",
     "text": [
      "\n"
     ]
    },
    {
     "name": "stdout",
     "output_type": "stream",
     "text": [
      "  Ice root: /wrk/users/thalvari/tmpkmvyos6b"
     ]
    },
    {
     "name": "stdout",
     "output_type": "stream",
     "text": [
      "\n"
     ]
    },
    {
     "name": "stdout",
     "output_type": "stream",
     "text": [
      "  JVM stdout: /wrk/users/thalvari/tmpkmvyos6b/h2o_thalvari_started_from_python.out"
     ]
    },
    {
     "name": "stdout",
     "output_type": "stream",
     "text": [
      "\n"
     ]
    },
    {
     "name": "stdout",
     "output_type": "stream",
     "text": [
      "  JVM stderr: /wrk/users/thalvari/tmpkmvyos6b/h2o_thalvari_started_from_python.err"
     ]
    },
    {
     "name": "stdout",
     "output_type": "stream",
     "text": [
      "\n"
     ]
    },
    {
     "name": "stdout",
     "output_type": "stream",
     "text": [
      "  Server is running at http://127.0.0.1:54321"
     ]
    },
    {
     "name": "stdout",
     "output_type": "stream",
     "text": [
      "\n"
     ]
    },
    {
     "name": "stdout",
     "output_type": "stream",
     "text": [
      "Connecting to H2O server at http://127.0.0.1:54321 .."
     ]
    },
    {
     "name": "stdout",
     "output_type": "stream",
     "text": [
      "."
     ]
    },
    {
     "name": "stdout",
     "output_type": "stream",
     "text": [
      " successful."
     ]
    },
    {
     "name": "stdout",
     "output_type": "stream",
     "text": [
      "\n"
     ]
    },
    {
     "data": {
      "text/html": [
       "<div style=\"overflow:auto\"><table style=\"width:50%\"><tr><td>H2O cluster uptime:</td>\n",
       "<td>01 secs</td></tr>\n",
       "<tr><td>H2O cluster timezone:</td>\n",
       "<td>Europe/Helsinki</td></tr>\n",
       "<tr><td>H2O data parsing timezone:</td>\n",
       "<td>UTC</td></tr>\n",
       "<tr><td>H2O cluster version:</td>\n",
       "<td>3.26.0.10</td></tr>\n",
       "<tr><td>H2O cluster version age:</td>\n",
       "<td>19 days </td></tr>\n",
       "<tr><td>H2O cluster name:</td>\n",
       "<td>#789603997</td></tr>\n",
       "<tr><td>H2O cluster total nodes:</td>\n",
       "<td>1</td></tr>\n",
       "<tr><td>H2O cluster free memory:</td>\n",
       "<td>29.97 Gb</td></tr>\n",
       "<tr><td>H2O cluster total cores:</td>\n",
       "<td>96</td></tr>\n",
       "<tr><td>H2O cluster allowed cores:</td>\n",
       "<td>48</td></tr>\n",
       "<tr><td>H2O cluster status:</td>\n",
       "<td>accepting new members, healthy</td></tr>\n",
       "<tr><td>H2O connection url:</td>\n",
       "<td>http://127.0.0.1:54321</td></tr>\n",
       "<tr><td>H2O connection proxy:</td>\n",
       "<td>{'http': None, 'https': None}</td></tr>\n",
       "<tr><td>H2O internal security:</td>\n",
       "<td>False</td></tr>\n",
       "<tr><td>H2O API Extensions:</td>\n",
       "<td>Amazon S3, XGBoost, Algos, AutoML, Core V3, TargetEncoder, Core V4</td></tr>\n",
       "<tr><td>Python version:</td>\n",
       "<td>3.6.6 final</td></tr></table></div>"
      ],
      "text/plain": [
       "--------------------------  ------------------------------------------------------------------\n",
       "H2O cluster uptime:         01 secs\n",
       "H2O cluster timezone:       Europe/Helsinki\n",
       "H2O data parsing timezone:  UTC\n",
       "H2O cluster version:        3.26.0.10\n",
       "H2O cluster version age:    19 days\n",
       "H2O cluster name:           #789603997\n",
       "H2O cluster total nodes:    1\n",
       "H2O cluster free memory:    29.97 Gb\n",
       "H2O cluster total cores:    96\n",
       "H2O cluster allowed cores:  48\n",
       "H2O cluster status:         accepting new members, healthy\n",
       "H2O connection url:         http://127.0.0.1:54321\n",
       "H2O connection proxy:       {'http': None, 'https': None}\n",
       "H2O internal security:      False\n",
       "H2O API Extensions:         Amazon S3, XGBoost, Algos, AutoML, Core V3, TargetEncoder, Core V4\n",
       "Python version:             3.6.6 final\n",
       "--------------------------  ------------------------------------------------------------------"
      ]
     },
     "metadata": {},
     "output_type": "display_data"
    },
    {
     "name": "stdout",
     "output_type": "stream",
     "text": [
      "H2O session _sid_b8d7 closed."
     ]
    },
    {
     "name": "stdout",
     "output_type": "stream",
     "text": [
      "\n"
     ]
    },
    {
     "name": "stdout",
     "output_type": "stream",
     "text": [
      "<class 'h2o.automl.autoh2o.H2OAutoML'>"
     ]
    },
    {
     "name": "stdout",
     "output_type": "stream",
     "text": [
      "\n"
     ]
    },
    {
     "name": "stdout",
     "output_type": "stream",
     "text": [
      "0.759"
     ]
    },
    {
     "name": "stdout",
     "output_type": "stream",
     "text": [
      "\n"
     ]
    },
    {
     "name": "stdout",
     "output_type": "stream",
     "text": [
      "Checking whether there is an H2O instance running at http://localhost:54321 "
     ]
    },
    {
     "name": "stdout",
     "output_type": "stream",
     "text": [
      "."
     ]
    },
    {
     "name": "stdout",
     "output_type": "stream",
     "text": [
      "."
     ]
    },
    {
     "name": "stdout",
     "output_type": "stream",
     "text": [
      "."
     ]
    },
    {
     "name": "stdout",
     "output_type": "stream",
     "text": [
      "."
     ]
    },
    {
     "name": "stdout",
     "output_type": "stream",
     "text": [
      "."
     ]
    },
    {
     "name": "stdout",
     "output_type": "stream",
     "text": [
      " not found."
     ]
    },
    {
     "name": "stdout",
     "output_type": "stream",
     "text": [
      "\n"
     ]
    },
    {
     "name": "stdout",
     "output_type": "stream",
     "text": [
      "Attempting to start a local H2O server..."
     ]
    },
    {
     "name": "stdout",
     "output_type": "stream",
     "text": [
      "\n"
     ]
    },
    {
     "name": "stdout",
     "output_type": "stream",
     "text": [
      "  Java Version: openjdk version \"11.0.2\" 2019-01-15; OpenJDK Runtime Environment 18.9 (build 11.0.2+9); OpenJDK 64-Bit Server VM 18.9 (build 11.0.2+9, mixed mode)"
     ]
    },
    {
     "name": "stdout",
     "output_type": "stream",
     "text": [
      "\n"
     ]
    },
    {
     "name": "stdout",
     "output_type": "stream",
     "text": [
      "  Starting server from /wrk/users/thalvari/dpEmu-AutoML/venv/lib/python3.6/site-packages/h2o/backend/bin/h2o.jar"
     ]
    },
    {
     "name": "stdout",
     "output_type": "stream",
     "text": [
      "\n"
     ]
    },
    {
     "name": "stdout",
     "output_type": "stream",
     "text": [
      "  Ice root: /wrk/users/thalvari/tmpp4ktb7tl"
     ]
    },
    {
     "name": "stdout",
     "output_type": "stream",
     "text": [
      "\n"
     ]
    },
    {
     "name": "stdout",
     "output_type": "stream",
     "text": [
      "  JVM stdout: /wrk/users/thalvari/tmpp4ktb7tl/h2o_thalvari_started_from_python.out"
     ]
    },
    {
     "name": "stdout",
     "output_type": "stream",
     "text": [
      "\n"
     ]
    },
    {
     "name": "stdout",
     "output_type": "stream",
     "text": [
      "  JVM stderr: /wrk/users/thalvari/tmpp4ktb7tl/h2o_thalvari_started_from_python.err"
     ]
    },
    {
     "name": "stdout",
     "output_type": "stream",
     "text": [
      "\n"
     ]
    },
    {
     "name": "stdout",
     "output_type": "stream",
     "text": [
      "  Server is running at http://127.0.0.1:54321"
     ]
    },
    {
     "name": "stdout",
     "output_type": "stream",
     "text": [
      "\n"
     ]
    },
    {
     "name": "stdout",
     "output_type": "stream",
     "text": [
      "Connecting to H2O server at http://127.0.0.1:54321 .."
     ]
    },
    {
     "name": "stdout",
     "output_type": "stream",
     "text": [
      "."
     ]
    },
    {
     "name": "stdout",
     "output_type": "stream",
     "text": [
      " successful."
     ]
    },
    {
     "name": "stdout",
     "output_type": "stream",
     "text": [
      "\n"
     ]
    },
    {
     "data": {
      "text/html": [
       "<div style=\"overflow:auto\"><table style=\"width:50%\"><tr><td>H2O cluster uptime:</td>\n",
       "<td>02 secs</td></tr>\n",
       "<tr><td>H2O cluster timezone:</td>\n",
       "<td>Europe/Helsinki</td></tr>\n",
       "<tr><td>H2O data parsing timezone:</td>\n",
       "<td>UTC</td></tr>\n",
       "<tr><td>H2O cluster version:</td>\n",
       "<td>3.26.0.10</td></tr>\n",
       "<tr><td>H2O cluster version age:</td>\n",
       "<td>19 days </td></tr>\n",
       "<tr><td>H2O cluster name:</td>\n",
       "<td>#270625348</td></tr>\n",
       "<tr><td>H2O cluster total nodes:</td>\n",
       "<td>1</td></tr>\n",
       "<tr><td>H2O cluster free memory:</td>\n",
       "<td>29.97 Gb</td></tr>\n",
       "<tr><td>H2O cluster total cores:</td>\n",
       "<td>96</td></tr>\n",
       "<tr><td>H2O cluster allowed cores:</td>\n",
       "<td>48</td></tr>\n",
       "<tr><td>H2O cluster status:</td>\n",
       "<td>accepting new members, healthy</td></tr>\n",
       "<tr><td>H2O connection url:</td>\n",
       "<td>http://127.0.0.1:54321</td></tr>\n",
       "<tr><td>H2O connection proxy:</td>\n",
       "<td>{'http': None, 'https': None}</td></tr>\n",
       "<tr><td>H2O internal security:</td>\n",
       "<td>False</td></tr>\n",
       "<tr><td>H2O API Extensions:</td>\n",
       "<td>Amazon S3, XGBoost, Algos, AutoML, Core V3, TargetEncoder, Core V4</td></tr>\n",
       "<tr><td>Python version:</td>\n",
       "<td>3.6.6 final</td></tr></table></div>"
      ],
      "text/plain": [
       "--------------------------  ------------------------------------------------------------------\n",
       "H2O cluster uptime:         02 secs\n",
       "H2O cluster timezone:       Europe/Helsinki\n",
       "H2O data parsing timezone:  UTC\n",
       "H2O cluster version:        3.26.0.10\n",
       "H2O cluster version age:    19 days\n",
       "H2O cluster name:           #270625348\n",
       "H2O cluster total nodes:    1\n",
       "H2O cluster free memory:    29.97 Gb\n",
       "H2O cluster total cores:    96\n",
       "H2O cluster allowed cores:  48\n",
       "H2O cluster status:         accepting new members, healthy\n",
       "H2O connection url:         http://127.0.0.1:54321\n",
       "H2O connection proxy:       {'http': None, 'https': None}\n",
       "H2O internal security:      False\n",
       "H2O API Extensions:         Amazon S3, XGBoost, Algos, AutoML, Core V3, TargetEncoder, Core V4\n",
       "Python version:             3.6.6 final\n",
       "--------------------------  ------------------------------------------------------------------"
      ]
     },
     "metadata": {},
     "output_type": "display_data"
    },
    {
     "name": "stdout",
     "output_type": "stream",
     "text": [
      "H2O session _sid_a25d closed."
     ]
    },
    {
     "name": "stdout",
     "output_type": "stream",
     "text": [
      "\n"
     ]
    },
    {
     "name": "stdout",
     "output_type": "stream",
     "text": [
      "<class 'h2o.automl.autoh2o.H2OAutoML'>"
     ]
    },
    {
     "name": "stdout",
     "output_type": "stream",
     "text": [
      "\n"
     ]
    },
    {
     "name": "stdout",
     "output_type": "stream",
     "text": [
      "0.316"
     ]
    },
    {
     "name": "stdout",
     "output_type": "stream",
     "text": [
      "\n"
     ]
    },
    {
     "name": "stderr",
     "output_type": "stream",
     "text": [
      "WARNING:root:TimeoutError occurred at train() : "
     ]
    },
    {
     "name": "stderr",
     "output_type": "stream",
     "text": [
      "\n"
     ]
    },
    {
     "name": "stdout",
     "output_type": "stream",
     "text": [
      "<class 'autokeras.image.image_supervised.ImageClassifier'>"
     ]
    },
    {
     "name": "stdout",
     "output_type": "stream",
     "text": [
      "\n"
     ]
    },
    {
     "name": "stdout",
     "output_type": "stream",
     "text": [
      "0.722"
     ]
    },
    {
     "name": "stdout",
     "output_type": "stream",
     "text": [
      "\n"
     ]
    },
    {
     "name": "stderr",
     "output_type": "stream",
     "text": [
      "WARNING:root:TimeoutError occurred at train() : "
     ]
    },
    {
     "name": "stderr",
     "output_type": "stream",
     "text": [
      "\n"
     ]
    },
    {
     "name": "stdout",
     "output_type": "stream",
     "text": [
      "<class 'autokeras.image.image_supervised.ImageClassifier'>"
     ]
    },
    {
     "name": "stdout",
     "output_type": "stream",
     "text": [
      "\n"
     ]
    },
    {
     "name": "stdout",
     "output_type": "stream",
     "text": [
      "0.101"
     ]
    },
    {
     "name": "stdout",
     "output_type": "stream",
     "text": [
      "\n"
     ]
    },
    {
     "name": "stderr",
     "output_type": "stream",
     "text": [
      "\r",
      " 67%|██████▋   | 4/6 [85:10:30<42:25:28, 76364.41s/it]"
     ]
    },
    {
     "name": "stdout",
     "output_type": "stream",
     "text": [
      "\n"
     ]
    },
    {
     "name": "stdout",
     "output_type": "stream",
     "text": [
      "183.60 minutes have elapsed. TPOT will close down.\n",
      "TPOT closed during evaluation in one generation.\n",
      "WARNING: TPOT may not provide a good pipeline if TPOT is stopped/interrupted in a early generation."
     ]
    },
    {
     "name": "stdout",
     "output_type": "stream",
     "text": [
      "\n"
     ]
    },
    {
     "name": "stdout",
     "output_type": "stream",
     "text": [
      "\n"
     ]
    },
    {
     "name": "stdout",
     "output_type": "stream",
     "text": [
      "\n",
      "TPOT closed prematurely. Will use the current best pipeline."
     ]
    },
    {
     "name": "stdout",
     "output_type": "stream",
     "text": [
      "\n"
     ]
    },
    {
     "name": "stdout",
     "output_type": "stream",
     "text": [
      "Best pipeline:"
     ]
    },
    {
     "name": "stdout",
     "output_type": "stream",
     "text": [
      " "
     ]
    },
    {
     "name": "stdout",
     "output_type": "stream",
     "text": [
      "LogisticRegression(input_matrix, C=25.0, dual=False, penalty=l1)"
     ]
    },
    {
     "name": "stdout",
     "output_type": "stream",
     "text": [
      "\n"
     ]
    },
    {
     "name": "stdout",
     "output_type": "stream",
     "text": [
      "<class 'tpot.tpot.TPOTClassifier'>"
     ]
    },
    {
     "name": "stdout",
     "output_type": "stream",
     "text": [
      "\n"
     ]
    },
    {
     "name": "stdout",
     "output_type": "stream",
     "text": [
      "0.702"
     ]
    },
    {
     "name": "stdout",
     "output_type": "stream",
     "text": [
      "\n"
     ]
    },
    {
     "name": "stdout",
     "output_type": "stream",
     "text": [
      "\n"
     ]
    },
    {
     "name": "stdout",
     "output_type": "stream",
     "text": [
      "223.91 minutes have elapsed. TPOT will close down.\n",
      "TPOT closed during evaluation in one generation.\n",
      "WARNING: TPOT may not provide a good pipeline if TPOT is stopped/interrupted in a early generation."
     ]
    },
    {
     "name": "stdout",
     "output_type": "stream",
     "text": [
      "\n"
     ]
    },
    {
     "name": "stdout",
     "output_type": "stream",
     "text": [
      "\n"
     ]
    },
    {
     "name": "stdout",
     "output_type": "stream",
     "text": [
      "\n",
      "TPOT closed prematurely. Will use the current best pipeline."
     ]
    },
    {
     "name": "stdout",
     "output_type": "stream",
     "text": [
      "\n"
     ]
    },
    {
     "name": "stdout",
     "output_type": "stream",
     "text": [
      "Best pipeline:"
     ]
    },
    {
     "name": "stdout",
     "output_type": "stream",
     "text": [
      " "
     ]
    },
    {
     "name": "stdout",
     "output_type": "stream",
     "text": [
      "GradientBoostingClassifier(RFE(input_matrix, criterion=gini, max_features=0.45, n_estimators=100, step=0.8), learning_rate=0.1, max_depth=10, max_features=0.05, min_samples_leaf=11, min_samples_split=9, n_estimators=100, subsample=0.35000000000000003)"
     ]
    },
    {
     "name": "stdout",
     "output_type": "stream",
     "text": [
      "\n"
     ]
    },
    {
     "name": "stdout",
     "output_type": "stream",
     "text": [
      "<class 'tpot.tpot.TPOTClassifier'>"
     ]
    },
    {
     "name": "stdout",
     "output_type": "stream",
     "text": [
      "\n"
     ]
    },
    {
     "name": "stdout",
     "output_type": "stream",
     "text": [
      "0.232"
     ]
    },
    {
     "name": "stdout",
     "output_type": "stream",
     "text": [
      "\n"
     ]
    },
    {
     "name": "stdout",
     "output_type": "stream",
     "text": [
      "Checking whether there is an H2O instance running at http://localhost:54321 "
     ]
    },
    {
     "name": "stdout",
     "output_type": "stream",
     "text": [
      "."
     ]
    },
    {
     "name": "stdout",
     "output_type": "stream",
     "text": [
      "."
     ]
    },
    {
     "name": "stdout",
     "output_type": "stream",
     "text": [
      "."
     ]
    },
    {
     "name": "stdout",
     "output_type": "stream",
     "text": [
      "."
     ]
    },
    {
     "name": "stdout",
     "output_type": "stream",
     "text": [
      "."
     ]
    },
    {
     "name": "stdout",
     "output_type": "stream",
     "text": [
      " not found."
     ]
    },
    {
     "name": "stdout",
     "output_type": "stream",
     "text": [
      "\n"
     ]
    },
    {
     "name": "stdout",
     "output_type": "stream",
     "text": [
      "Attempting to start a local H2O server..."
     ]
    },
    {
     "name": "stdout",
     "output_type": "stream",
     "text": [
      "\n"
     ]
    },
    {
     "name": "stdout",
     "output_type": "stream",
     "text": [
      "  Java Version: openjdk version \"11.0.2\" 2019-01-15; OpenJDK Runtime Environment 18.9 (build 11.0.2+9); OpenJDK 64-Bit Server VM 18.9 (build 11.0.2+9, mixed mode)"
     ]
    },
    {
     "name": "stdout",
     "output_type": "stream",
     "text": [
      "\n"
     ]
    },
    {
     "name": "stdout",
     "output_type": "stream",
     "text": [
      "  Starting server from /wrk/users/thalvari/dpEmu-AutoML/venv/lib/python3.6/site-packages/h2o/backend/bin/h2o.jar"
     ]
    },
    {
     "name": "stdout",
     "output_type": "stream",
     "text": [
      "\n"
     ]
    },
    {
     "name": "stdout",
     "output_type": "stream",
     "text": [
      "  Ice root: /wrk/users/thalvari/tmpe7soeyxk"
     ]
    },
    {
     "name": "stdout",
     "output_type": "stream",
     "text": [
      "\n"
     ]
    },
    {
     "name": "stdout",
     "output_type": "stream",
     "text": [
      "  JVM stdout: /wrk/users/thalvari/tmpe7soeyxk/h2o_thalvari_started_from_python.out"
     ]
    },
    {
     "name": "stdout",
     "output_type": "stream",
     "text": [
      "\n"
     ]
    },
    {
     "name": "stdout",
     "output_type": "stream",
     "text": [
      "  JVM stderr: /wrk/users/thalvari/tmpe7soeyxk/h2o_thalvari_started_from_python.err"
     ]
    },
    {
     "name": "stdout",
     "output_type": "stream",
     "text": [
      "\n"
     ]
    },
    {
     "name": "stdout",
     "output_type": "stream",
     "text": [
      "  Server is running at http://127.0.0.1:54321"
     ]
    },
    {
     "name": "stdout",
     "output_type": "stream",
     "text": [
      "\n"
     ]
    },
    {
     "name": "stdout",
     "output_type": "stream",
     "text": [
      "Connecting to H2O server at http://127.0.0.1:54321 .."
     ]
    },
    {
     "name": "stdout",
     "output_type": "stream",
     "text": [
      "."
     ]
    },
    {
     "name": "stdout",
     "output_type": "stream",
     "text": [
      " successful."
     ]
    },
    {
     "name": "stdout",
     "output_type": "stream",
     "text": [
      "\n"
     ]
    },
    {
     "data": {
      "text/html": [
       "<div style=\"overflow:auto\"><table style=\"width:50%\"><tr><td>H2O cluster uptime:</td>\n",
       "<td>01 secs</td></tr>\n",
       "<tr><td>H2O cluster timezone:</td>\n",
       "<td>Europe/Helsinki</td></tr>\n",
       "<tr><td>H2O data parsing timezone:</td>\n",
       "<td>UTC</td></tr>\n",
       "<tr><td>H2O cluster version:</td>\n",
       "<td>3.26.0.10</td></tr>\n",
       "<tr><td>H2O cluster version age:</td>\n",
       "<td>19 days </td></tr>\n",
       "<tr><td>H2O cluster name:</td>\n",
       "<td>#901662802</td></tr>\n",
       "<tr><td>H2O cluster total nodes:</td>\n",
       "<td>1</td></tr>\n",
       "<tr><td>H2O cluster free memory:</td>\n",
       "<td>29.97 Gb</td></tr>\n",
       "<tr><td>H2O cluster total cores:</td>\n",
       "<td>96</td></tr>\n",
       "<tr><td>H2O cluster allowed cores:</td>\n",
       "<td>48</td></tr>\n",
       "<tr><td>H2O cluster status:</td>\n",
       "<td>accepting new members, healthy</td></tr>\n",
       "<tr><td>H2O connection url:</td>\n",
       "<td>http://127.0.0.1:54321</td></tr>\n",
       "<tr><td>H2O connection proxy:</td>\n",
       "<td>{'http': None, 'https': None}</td></tr>\n",
       "<tr><td>H2O internal security:</td>\n",
       "<td>False</td></tr>\n",
       "<tr><td>H2O API Extensions:</td>\n",
       "<td>Amazon S3, XGBoost, Algos, AutoML, Core V3, TargetEncoder, Core V4</td></tr>\n",
       "<tr><td>Python version:</td>\n",
       "<td>3.6.6 final</td></tr></table></div>"
      ],
      "text/plain": [
       "--------------------------  ------------------------------------------------------------------\n",
       "H2O cluster uptime:         01 secs\n",
       "H2O cluster timezone:       Europe/Helsinki\n",
       "H2O data parsing timezone:  UTC\n",
       "H2O cluster version:        3.26.0.10\n",
       "H2O cluster version age:    19 days\n",
       "H2O cluster name:           #901662802\n",
       "H2O cluster total nodes:    1\n",
       "H2O cluster free memory:    29.97 Gb\n",
       "H2O cluster total cores:    96\n",
       "H2O cluster allowed cores:  48\n",
       "H2O cluster status:         accepting new members, healthy\n",
       "H2O connection url:         http://127.0.0.1:54321\n",
       "H2O connection proxy:       {'http': None, 'https': None}\n",
       "H2O internal security:      False\n",
       "H2O API Extensions:         Amazon S3, XGBoost, Algos, AutoML, Core V3, TargetEncoder, Core V4\n",
       "Python version:             3.6.6 final\n",
       "--------------------------  ------------------------------------------------------------------"
      ]
     },
     "metadata": {},
     "output_type": "display_data"
    },
    {
     "name": "stdout",
     "output_type": "stream",
     "text": [
      "H2O session _sid_b20a closed."
     ]
    },
    {
     "name": "stdout",
     "output_type": "stream",
     "text": [
      "\n"
     ]
    },
    {
     "name": "stdout",
     "output_type": "stream",
     "text": [
      "<class 'h2o.automl.autoh2o.H2OAutoML'>"
     ]
    },
    {
     "name": "stdout",
     "output_type": "stream",
     "text": [
      "\n"
     ]
    },
    {
     "name": "stdout",
     "output_type": "stream",
     "text": [
      "0.705"
     ]
    },
    {
     "name": "stdout",
     "output_type": "stream",
     "text": [
      "\n"
     ]
    },
    {
     "name": "stdout",
     "output_type": "stream",
     "text": [
      "Checking whether there is an H2O instance running at http://localhost:54321 "
     ]
    },
    {
     "name": "stdout",
     "output_type": "stream",
     "text": [
      "."
     ]
    },
    {
     "name": "stdout",
     "output_type": "stream",
     "text": [
      "."
     ]
    },
    {
     "name": "stdout",
     "output_type": "stream",
     "text": [
      "."
     ]
    },
    {
     "name": "stdout",
     "output_type": "stream",
     "text": [
      "."
     ]
    },
    {
     "name": "stdout",
     "output_type": "stream",
     "text": [
      "."
     ]
    },
    {
     "name": "stdout",
     "output_type": "stream",
     "text": [
      " not found."
     ]
    },
    {
     "name": "stdout",
     "output_type": "stream",
     "text": [
      "\n"
     ]
    },
    {
     "name": "stdout",
     "output_type": "stream",
     "text": [
      "Attempting to start a local H2O server..."
     ]
    },
    {
     "name": "stdout",
     "output_type": "stream",
     "text": [
      "\n"
     ]
    },
    {
     "name": "stdout",
     "output_type": "stream",
     "text": [
      "  Java Version: openjdk version \"11.0.2\" 2019-01-15; OpenJDK Runtime Environment 18.9 (build 11.0.2+9); OpenJDK 64-Bit Server VM 18.9 (build 11.0.2+9, mixed mode)"
     ]
    },
    {
     "name": "stdout",
     "output_type": "stream",
     "text": [
      "\n"
     ]
    },
    {
     "name": "stdout",
     "output_type": "stream",
     "text": [
      "  Starting server from /wrk/users/thalvari/dpEmu-AutoML/venv/lib/python3.6/site-packages/h2o/backend/bin/h2o.jar"
     ]
    },
    {
     "name": "stdout",
     "output_type": "stream",
     "text": [
      "\n"
     ]
    },
    {
     "name": "stdout",
     "output_type": "stream",
     "text": [
      "  Ice root: /wrk/users/thalvari/tmpxvlk2kvw"
     ]
    },
    {
     "name": "stdout",
     "output_type": "stream",
     "text": [
      "\n"
     ]
    },
    {
     "name": "stdout",
     "output_type": "stream",
     "text": [
      "  JVM stdout: /wrk/users/thalvari/tmpxvlk2kvw/h2o_thalvari_started_from_python.out"
     ]
    },
    {
     "name": "stdout",
     "output_type": "stream",
     "text": [
      "\n"
     ]
    },
    {
     "name": "stdout",
     "output_type": "stream",
     "text": [
      "  JVM stderr: /wrk/users/thalvari/tmpxvlk2kvw/h2o_thalvari_started_from_python.err"
     ]
    },
    {
     "name": "stdout",
     "output_type": "stream",
     "text": [
      "\n"
     ]
    },
    {
     "name": "stdout",
     "output_type": "stream",
     "text": [
      "  Server is running at http://127.0.0.1:54321"
     ]
    },
    {
     "name": "stdout",
     "output_type": "stream",
     "text": [
      "\n"
     ]
    },
    {
     "name": "stdout",
     "output_type": "stream",
     "text": [
      "Connecting to H2O server at http://127.0.0.1:54321 .."
     ]
    },
    {
     "name": "stdout",
     "output_type": "stream",
     "text": [
      "."
     ]
    },
    {
     "name": "stdout",
     "output_type": "stream",
     "text": [
      " successful."
     ]
    },
    {
     "name": "stdout",
     "output_type": "stream",
     "text": [
      "\n"
     ]
    },
    {
     "data": {
      "text/html": [
       "<div style=\"overflow:auto\"><table style=\"width:50%\"><tr><td>H2O cluster uptime:</td>\n",
       "<td>01 secs</td></tr>\n",
       "<tr><td>H2O cluster timezone:</td>\n",
       "<td>Europe/Helsinki</td></tr>\n",
       "<tr><td>H2O data parsing timezone:</td>\n",
       "<td>UTC</td></tr>\n",
       "<tr><td>H2O cluster version:</td>\n",
       "<td>3.26.0.10</td></tr>\n",
       "<tr><td>H2O cluster version age:</td>\n",
       "<td>20 days </td></tr>\n",
       "<tr><td>H2O cluster name:</td>\n",
       "<td>#342286494</td></tr>\n",
       "<tr><td>H2O cluster total nodes:</td>\n",
       "<td>1</td></tr>\n",
       "<tr><td>H2O cluster free memory:</td>\n",
       "<td>29.97 Gb</td></tr>\n",
       "<tr><td>H2O cluster total cores:</td>\n",
       "<td>96</td></tr>\n",
       "<tr><td>H2O cluster allowed cores:</td>\n",
       "<td>48</td></tr>\n",
       "<tr><td>H2O cluster status:</td>\n",
       "<td>accepting new members, healthy</td></tr>\n",
       "<tr><td>H2O connection url:</td>\n",
       "<td>http://127.0.0.1:54321</td></tr>\n",
       "<tr><td>H2O connection proxy:</td>\n",
       "<td>{'http': None, 'https': None}</td></tr>\n",
       "<tr><td>H2O internal security:</td>\n",
       "<td>False</td></tr>\n",
       "<tr><td>H2O API Extensions:</td>\n",
       "<td>Amazon S3, XGBoost, Algos, AutoML, Core V3, TargetEncoder, Core V4</td></tr>\n",
       "<tr><td>Python version:</td>\n",
       "<td>3.6.6 final</td></tr></table></div>"
      ],
      "text/plain": [
       "--------------------------  ------------------------------------------------------------------\n",
       "H2O cluster uptime:         01 secs\n",
       "H2O cluster timezone:       Europe/Helsinki\n",
       "H2O data parsing timezone:  UTC\n",
       "H2O cluster version:        3.26.0.10\n",
       "H2O cluster version age:    20 days\n",
       "H2O cluster name:           #342286494\n",
       "H2O cluster total nodes:    1\n",
       "H2O cluster free memory:    29.97 Gb\n",
       "H2O cluster total cores:    96\n",
       "H2O cluster allowed cores:  48\n",
       "H2O cluster status:         accepting new members, healthy\n",
       "H2O connection url:         http://127.0.0.1:54321\n",
       "H2O connection proxy:       {'http': None, 'https': None}\n",
       "H2O internal security:      False\n",
       "H2O API Extensions:         Amazon S3, XGBoost, Algos, AutoML, Core V3, TargetEncoder, Core V4\n",
       "Python version:             3.6.6 final\n",
       "--------------------------  ------------------------------------------------------------------"
      ]
     },
     "metadata": {},
     "output_type": "display_data"
    },
    {
     "name": "stdout",
     "output_type": "stream",
     "text": [
      "H2O session _sid_bf77 closed."
     ]
    },
    {
     "name": "stdout",
     "output_type": "stream",
     "text": [
      "\n"
     ]
    },
    {
     "name": "stdout",
     "output_type": "stream",
     "text": [
      "<class 'h2o.automl.autoh2o.H2OAutoML'>"
     ]
    },
    {
     "name": "stdout",
     "output_type": "stream",
     "text": [
      "\n"
     ]
    },
    {
     "name": "stdout",
     "output_type": "stream",
     "text": [
      "0.232"
     ]
    },
    {
     "name": "stdout",
     "output_type": "stream",
     "text": [
      "\n"
     ]
    },
    {
     "name": "stderr",
     "output_type": "stream",
     "text": [
      "WARNING:root:TimeoutError occurred at train() : "
     ]
    },
    {
     "name": "stderr",
     "output_type": "stream",
     "text": [
      "\n"
     ]
    },
    {
     "name": "stdout",
     "output_type": "stream",
     "text": [
      "<class 'autokeras.image.image_supervised.ImageClassifier'>"
     ]
    },
    {
     "name": "stdout",
     "output_type": "stream",
     "text": [
      "\n"
     ]
    },
    {
     "name": "stdout",
     "output_type": "stream",
     "text": [
      "0.722"
     ]
    },
    {
     "name": "stdout",
     "output_type": "stream",
     "text": [
      "\n"
     ]
    },
    {
     "name": "stderr",
     "output_type": "stream",
     "text": [
      "WARNING:root:TimeoutError occurred at train() : "
     ]
    },
    {
     "name": "stderr",
     "output_type": "stream",
     "text": [
      "\n"
     ]
    },
    {
     "name": "stdout",
     "output_type": "stream",
     "text": [
      "<class 'autokeras.image.image_supervised.ImageClassifier'>"
     ]
    },
    {
     "name": "stdout",
     "output_type": "stream",
     "text": [
      "\n"
     ]
    },
    {
     "name": "stdout",
     "output_type": "stream",
     "text": [
      "0.102"
     ]
    },
    {
     "name": "stdout",
     "output_type": "stream",
     "text": [
      "\n"
     ]
    },
    {
     "name": "stderr",
     "output_type": "stream",
     "text": [
      "\r",
      " 83%|████████▎ | 5/6 [105:35:39<20:58:27, 75507.75s/it]"
     ]
    },
    {
     "name": "stdout",
     "output_type": "stream",
     "text": [
      "\n"
     ]
    },
    {
     "name": "stdout",
     "output_type": "stream",
     "text": [
      "181.96 minutes have elapsed. TPOT will close down.\n",
      "TPOT closed during evaluation in one generation.\n",
      "WARNING: TPOT may not provide a good pipeline if TPOT is stopped/interrupted in a early generation."
     ]
    },
    {
     "name": "stdout",
     "output_type": "stream",
     "text": [
      "\n"
     ]
    },
    {
     "name": "stdout",
     "output_type": "stream",
     "text": [
      "\n"
     ]
    },
    {
     "name": "stdout",
     "output_type": "stream",
     "text": [
      "\n",
      "TPOT closed prematurely. Will use the current best pipeline."
     ]
    },
    {
     "name": "stdout",
     "output_type": "stream",
     "text": [
      "\n"
     ]
    },
    {
     "name": "stdout",
     "output_type": "stream",
     "text": [
      "Best pipeline:"
     ]
    },
    {
     "name": "stdout",
     "output_type": "stream",
     "text": [
      " "
     ]
    },
    {
     "name": "stdout",
     "output_type": "stream",
     "text": [
      "LogisticRegression(input_matrix, C=25.0, dual=False, penalty=l1)"
     ]
    },
    {
     "name": "stdout",
     "output_type": "stream",
     "text": [
      "\n"
     ]
    },
    {
     "name": "stdout",
     "output_type": "stream",
     "text": [
      "<class 'tpot.tpot.TPOTClassifier'>"
     ]
    },
    {
     "name": "stdout",
     "output_type": "stream",
     "text": [
      "\n"
     ]
    },
    {
     "name": "stdout",
     "output_type": "stream",
     "text": [
      "0.666"
     ]
    },
    {
     "name": "stdout",
     "output_type": "stream",
     "text": [
      "\n"
     ]
    },
    {
     "name": "stdout",
     "output_type": "stream",
     "text": [
      "\n"
     ]
    },
    {
     "name": "stdout",
     "output_type": "stream",
     "text": [
      "227.04 minutes have elapsed. TPOT will close down.\n",
      "TPOT closed during evaluation in one generation.\n",
      "WARNING: TPOT may not provide a good pipeline if TPOT is stopped/interrupted in a early generation."
     ]
    },
    {
     "name": "stdout",
     "output_type": "stream",
     "text": [
      "\n"
     ]
    },
    {
     "name": "stdout",
     "output_type": "stream",
     "text": [
      "\n"
     ]
    },
    {
     "name": "stdout",
     "output_type": "stream",
     "text": [
      "\n",
      "TPOT closed prematurely. Will use the current best pipeline."
     ]
    },
    {
     "name": "stdout",
     "output_type": "stream",
     "text": [
      "\n"
     ]
    },
    {
     "name": "stdout",
     "output_type": "stream",
     "text": [
      "Best pipeline:"
     ]
    },
    {
     "name": "stdout",
     "output_type": "stream",
     "text": [
      " "
     ]
    },
    {
     "name": "stdout",
     "output_type": "stream",
     "text": [
      "GradientBoostingClassifier(RFE(input_matrix, criterion=gini, max_features=0.45, n_estimators=100, step=0.8), learning_rate=0.1, max_depth=10, max_features=0.05, min_samples_leaf=11, min_samples_split=9, n_estimators=100, subsample=0.35000000000000003)"
     ]
    },
    {
     "name": "stdout",
     "output_type": "stream",
     "text": [
      "\n"
     ]
    },
    {
     "name": "stdout",
     "output_type": "stream",
     "text": [
      "<class 'tpot.tpot.TPOTClassifier'>"
     ]
    },
    {
     "name": "stdout",
     "output_type": "stream",
     "text": [
      "\n"
     ]
    },
    {
     "name": "stdout",
     "output_type": "stream",
     "text": [
      "0.201"
     ]
    },
    {
     "name": "stdout",
     "output_type": "stream",
     "text": [
      "\n"
     ]
    },
    {
     "name": "stdout",
     "output_type": "stream",
     "text": [
      "Checking whether there is an H2O instance running at http://localhost:54321 "
     ]
    },
    {
     "name": "stdout",
     "output_type": "stream",
     "text": [
      "."
     ]
    },
    {
     "name": "stdout",
     "output_type": "stream",
     "text": [
      "."
     ]
    },
    {
     "name": "stdout",
     "output_type": "stream",
     "text": [
      "."
     ]
    },
    {
     "name": "stdout",
     "output_type": "stream",
     "text": [
      "."
     ]
    },
    {
     "name": "stdout",
     "output_type": "stream",
     "text": [
      "."
     ]
    },
    {
     "name": "stdout",
     "output_type": "stream",
     "text": [
      " not found."
     ]
    },
    {
     "name": "stdout",
     "output_type": "stream",
     "text": [
      "\n"
     ]
    },
    {
     "name": "stdout",
     "output_type": "stream",
     "text": [
      "Attempting to start a local H2O server..."
     ]
    },
    {
     "name": "stdout",
     "output_type": "stream",
     "text": [
      "\n"
     ]
    },
    {
     "name": "stdout",
     "output_type": "stream",
     "text": [
      "  Java Version: openjdk version \"11.0.2\" 2019-01-15; OpenJDK Runtime Environment 18.9 (build 11.0.2+9); OpenJDK 64-Bit Server VM 18.9 (build 11.0.2+9, mixed mode)"
     ]
    },
    {
     "name": "stdout",
     "output_type": "stream",
     "text": [
      "\n"
     ]
    },
    {
     "name": "stdout",
     "output_type": "stream",
     "text": [
      "  Starting server from /wrk/users/thalvari/dpEmu-AutoML/venv/lib/python3.6/site-packages/h2o/backend/bin/h2o.jar"
     ]
    },
    {
     "name": "stdout",
     "output_type": "stream",
     "text": [
      "\n"
     ]
    },
    {
     "name": "stdout",
     "output_type": "stream",
     "text": [
      "  Ice root: /wrk/users/thalvari/tmptx2uuda9"
     ]
    },
    {
     "name": "stdout",
     "output_type": "stream",
     "text": [
      "\n"
     ]
    },
    {
     "name": "stdout",
     "output_type": "stream",
     "text": [
      "  JVM stdout: /wrk/users/thalvari/tmptx2uuda9/h2o_thalvari_started_from_python.out"
     ]
    },
    {
     "name": "stdout",
     "output_type": "stream",
     "text": [
      "\n"
     ]
    },
    {
     "name": "stdout",
     "output_type": "stream",
     "text": [
      "  JVM stderr: /wrk/users/thalvari/tmptx2uuda9/h2o_thalvari_started_from_python.err"
     ]
    },
    {
     "name": "stdout",
     "output_type": "stream",
     "text": [
      "\n"
     ]
    },
    {
     "name": "stdout",
     "output_type": "stream",
     "text": [
      "  Server is running at http://127.0.0.1:54321"
     ]
    },
    {
     "name": "stdout",
     "output_type": "stream",
     "text": [
      "\n"
     ]
    },
    {
     "name": "stdout",
     "output_type": "stream",
     "text": [
      "Connecting to H2O server at http://127.0.0.1:54321 .."
     ]
    },
    {
     "name": "stdout",
     "output_type": "stream",
     "text": [
      "."
     ]
    },
    {
     "name": "stdout",
     "output_type": "stream",
     "text": [
      " successful."
     ]
    },
    {
     "name": "stdout",
     "output_type": "stream",
     "text": [
      "\n"
     ]
    },
    {
     "data": {
      "text/html": [
       "<div style=\"overflow:auto\"><table style=\"width:50%\"><tr><td>H2O cluster uptime:</td>\n",
       "<td>01 secs</td></tr>\n",
       "<tr><td>H2O cluster timezone:</td>\n",
       "<td>Europe/Helsinki</td></tr>\n",
       "<tr><td>H2O data parsing timezone:</td>\n",
       "<td>UTC</td></tr>\n",
       "<tr><td>H2O cluster version:</td>\n",
       "<td>3.26.0.10</td></tr>\n",
       "<tr><td>H2O cluster version age:</td>\n",
       "<td>20 days </td></tr>\n",
       "<tr><td>H2O cluster name:</td>\n",
       "<td>#119204835</td></tr>\n",
       "<tr><td>H2O cluster total nodes:</td>\n",
       "<td>1</td></tr>\n",
       "<tr><td>H2O cluster free memory:</td>\n",
       "<td>29.97 Gb</td></tr>\n",
       "<tr><td>H2O cluster total cores:</td>\n",
       "<td>96</td></tr>\n",
       "<tr><td>H2O cluster allowed cores:</td>\n",
       "<td>48</td></tr>\n",
       "<tr><td>H2O cluster status:</td>\n",
       "<td>accepting new members, healthy</td></tr>\n",
       "<tr><td>H2O connection url:</td>\n",
       "<td>http://127.0.0.1:54321</td></tr>\n",
       "<tr><td>H2O connection proxy:</td>\n",
       "<td>{'http': None, 'https': None}</td></tr>\n",
       "<tr><td>H2O internal security:</td>\n",
       "<td>False</td></tr>\n",
       "<tr><td>H2O API Extensions:</td>\n",
       "<td>Amazon S3, XGBoost, Algos, AutoML, Core V3, TargetEncoder, Core V4</td></tr>\n",
       "<tr><td>Python version:</td>\n",
       "<td>3.6.6 final</td></tr></table></div>"
      ],
      "text/plain": [
       "--------------------------  ------------------------------------------------------------------\n",
       "H2O cluster uptime:         01 secs\n",
       "H2O cluster timezone:       Europe/Helsinki\n",
       "H2O data parsing timezone:  UTC\n",
       "H2O cluster version:        3.26.0.10\n",
       "H2O cluster version age:    20 days\n",
       "H2O cluster name:           #119204835\n",
       "H2O cluster total nodes:    1\n",
       "H2O cluster free memory:    29.97 Gb\n",
       "H2O cluster total cores:    96\n",
       "H2O cluster allowed cores:  48\n",
       "H2O cluster status:         accepting new members, healthy\n",
       "H2O connection url:         http://127.0.0.1:54321\n",
       "H2O connection proxy:       {'http': None, 'https': None}\n",
       "H2O internal security:      False\n",
       "H2O API Extensions:         Amazon S3, XGBoost, Algos, AutoML, Core V3, TargetEncoder, Core V4\n",
       "Python version:             3.6.6 final\n",
       "--------------------------  ------------------------------------------------------------------"
      ]
     },
     "metadata": {},
     "output_type": "display_data"
    },
    {
     "name": "stdout",
     "output_type": "stream",
     "text": [
      "H2O session _sid_bfdf closed."
     ]
    },
    {
     "name": "stdout",
     "output_type": "stream",
     "text": [
      "\n"
     ]
    },
    {
     "name": "stdout",
     "output_type": "stream",
     "text": [
      "<class 'h2o.automl.autoh2o.H2OAutoML'>"
     ]
    },
    {
     "name": "stdout",
     "output_type": "stream",
     "text": [
      "\n"
     ]
    },
    {
     "name": "stdout",
     "output_type": "stream",
     "text": [
      "0.669"
     ]
    },
    {
     "name": "stdout",
     "output_type": "stream",
     "text": [
      "\n"
     ]
    },
    {
     "name": "stdout",
     "output_type": "stream",
     "text": [
      "Checking whether there is an H2O instance running at http://localhost:54321 "
     ]
    },
    {
     "name": "stdout",
     "output_type": "stream",
     "text": [
      "."
     ]
    },
    {
     "name": "stdout",
     "output_type": "stream",
     "text": [
      "."
     ]
    },
    {
     "name": "stdout",
     "output_type": "stream",
     "text": [
      "."
     ]
    },
    {
     "name": "stdout",
     "output_type": "stream",
     "text": [
      "."
     ]
    },
    {
     "name": "stdout",
     "output_type": "stream",
     "text": [
      "."
     ]
    },
    {
     "name": "stdout",
     "output_type": "stream",
     "text": [
      " not found."
     ]
    },
    {
     "name": "stdout",
     "output_type": "stream",
     "text": [
      "\n"
     ]
    },
    {
     "name": "stdout",
     "output_type": "stream",
     "text": [
      "Attempting to start a local H2O server..."
     ]
    },
    {
     "name": "stdout",
     "output_type": "stream",
     "text": [
      "\n"
     ]
    },
    {
     "name": "stdout",
     "output_type": "stream",
     "text": [
      "  Java Version: openjdk version \"11.0.2\" 2019-01-15; OpenJDK Runtime Environment 18.9 (build 11.0.2+9); OpenJDK 64-Bit Server VM 18.9 (build 11.0.2+9, mixed mode)"
     ]
    },
    {
     "name": "stdout",
     "output_type": "stream",
     "text": [
      "\n"
     ]
    },
    {
     "name": "stdout",
     "output_type": "stream",
     "text": [
      "  Starting server from /wrk/users/thalvari/dpEmu-AutoML/venv/lib/python3.6/site-packages/h2o/backend/bin/h2o.jar"
     ]
    },
    {
     "name": "stdout",
     "output_type": "stream",
     "text": [
      "\n"
     ]
    },
    {
     "name": "stdout",
     "output_type": "stream",
     "text": [
      "  Ice root: /wrk/users/thalvari/tmpvhyixvl4"
     ]
    },
    {
     "name": "stdout",
     "output_type": "stream",
     "text": [
      "\n"
     ]
    },
    {
     "name": "stdout",
     "output_type": "stream",
     "text": [
      "  JVM stdout: /wrk/users/thalvari/tmpvhyixvl4/h2o_thalvari_started_from_python.out"
     ]
    },
    {
     "name": "stdout",
     "output_type": "stream",
     "text": [
      "\n"
     ]
    },
    {
     "name": "stdout",
     "output_type": "stream",
     "text": [
      "  JVM stderr: /wrk/users/thalvari/tmpvhyixvl4/h2o_thalvari_started_from_python.err"
     ]
    },
    {
     "name": "stdout",
     "output_type": "stream",
     "text": [
      "\n"
     ]
    },
    {
     "name": "stdout",
     "output_type": "stream",
     "text": [
      "  Server is running at http://127.0.0.1:54321"
     ]
    },
    {
     "name": "stdout",
     "output_type": "stream",
     "text": [
      "\n"
     ]
    },
    {
     "name": "stdout",
     "output_type": "stream",
     "text": [
      "Connecting to H2O server at http://127.0.0.1:54321 .."
     ]
    },
    {
     "name": "stdout",
     "output_type": "stream",
     "text": [
      "."
     ]
    },
    {
     "name": "stdout",
     "output_type": "stream",
     "text": [
      " successful."
     ]
    },
    {
     "name": "stdout",
     "output_type": "stream",
     "text": [
      "\n"
     ]
    },
    {
     "data": {
      "text/html": [
       "<div style=\"overflow:auto\"><table style=\"width:50%\"><tr><td>H2O cluster uptime:</td>\n",
       "<td>01 secs</td></tr>\n",
       "<tr><td>H2O cluster timezone:</td>\n",
       "<td>Europe/Helsinki</td></tr>\n",
       "<tr><td>H2O data parsing timezone:</td>\n",
       "<td>UTC</td></tr>\n",
       "<tr><td>H2O cluster version:</td>\n",
       "<td>3.26.0.10</td></tr>\n",
       "<tr><td>H2O cluster version age:</td>\n",
       "<td>20 days </td></tr>\n",
       "<tr><td>H2O cluster name:</td>\n",
       "<td>#464183655</td></tr>\n",
       "<tr><td>H2O cluster total nodes:</td>\n",
       "<td>1</td></tr>\n",
       "<tr><td>H2O cluster free memory:</td>\n",
       "<td>29.97 Gb</td></tr>\n",
       "<tr><td>H2O cluster total cores:</td>\n",
       "<td>96</td></tr>\n",
       "<tr><td>H2O cluster allowed cores:</td>\n",
       "<td>48</td></tr>\n",
       "<tr><td>H2O cluster status:</td>\n",
       "<td>accepting new members, healthy</td></tr>\n",
       "<tr><td>H2O connection url:</td>\n",
       "<td>http://127.0.0.1:54321</td></tr>\n",
       "<tr><td>H2O connection proxy:</td>\n",
       "<td>{'http': None, 'https': None}</td></tr>\n",
       "<tr><td>H2O internal security:</td>\n",
       "<td>False</td></tr>\n",
       "<tr><td>H2O API Extensions:</td>\n",
       "<td>Amazon S3, XGBoost, Algos, AutoML, Core V3, TargetEncoder, Core V4</td></tr>\n",
       "<tr><td>Python version:</td>\n",
       "<td>3.6.6 final</td></tr></table></div>"
      ],
      "text/plain": [
       "--------------------------  ------------------------------------------------------------------\n",
       "H2O cluster uptime:         01 secs\n",
       "H2O cluster timezone:       Europe/Helsinki\n",
       "H2O data parsing timezone:  UTC\n",
       "H2O cluster version:        3.26.0.10\n",
       "H2O cluster version age:    20 days\n",
       "H2O cluster name:           #464183655\n",
       "H2O cluster total nodes:    1\n",
       "H2O cluster free memory:    29.97 Gb\n",
       "H2O cluster total cores:    96\n",
       "H2O cluster allowed cores:  48\n",
       "H2O cluster status:         accepting new members, healthy\n",
       "H2O connection url:         http://127.0.0.1:54321\n",
       "H2O connection proxy:       {'http': None, 'https': None}\n",
       "H2O internal security:      False\n",
       "H2O API Extensions:         Amazon S3, XGBoost, Algos, AutoML, Core V3, TargetEncoder, Core V4\n",
       "Python version:             3.6.6 final\n",
       "--------------------------  ------------------------------------------------------------------"
      ]
     },
     "metadata": {},
     "output_type": "display_data"
    },
    {
     "name": "stdout",
     "output_type": "stream",
     "text": [
      "H2O session _sid_ae19 closed."
     ]
    },
    {
     "name": "stdout",
     "output_type": "stream",
     "text": [
      "\n"
     ]
    },
    {
     "name": "stdout",
     "output_type": "stream",
     "text": [
      "<class 'h2o.automl.autoh2o.H2OAutoML'>"
     ]
    },
    {
     "name": "stdout",
     "output_type": "stream",
     "text": [
      "\n"
     ]
    },
    {
     "name": "stdout",
     "output_type": "stream",
     "text": [
      "0.206"
     ]
    },
    {
     "name": "stdout",
     "output_type": "stream",
     "text": [
      "\n"
     ]
    },
    {
     "name": "stderr",
     "output_type": "stream",
     "text": [
      "WARNING:root:TimeoutError occurred at train() : "
     ]
    },
    {
     "name": "stderr",
     "output_type": "stream",
     "text": [
      "\n"
     ]
    },
    {
     "name": "stdout",
     "output_type": "stream",
     "text": [
      "<class 'autokeras.image.image_supervised.ImageClassifier'>"
     ]
    },
    {
     "name": "stdout",
     "output_type": "stream",
     "text": [
      "\n"
     ]
    },
    {
     "name": "stdout",
     "output_type": "stream",
     "text": [
      "0.673"
     ]
    },
    {
     "name": "stdout",
     "output_type": "stream",
     "text": [
      "\n"
     ]
    },
    {
     "name": "stderr",
     "output_type": "stream",
     "text": [
      "WARNING:root:TimeoutError occurred at train() : "
     ]
    },
    {
     "name": "stderr",
     "output_type": "stream",
     "text": [
      "\n"
     ]
    },
    {
     "name": "stdout",
     "output_type": "stream",
     "text": [
      "<class 'autokeras.image.image_supervised.ImageClassifier'>"
     ]
    },
    {
     "name": "stdout",
     "output_type": "stream",
     "text": [
      "\n"
     ]
    },
    {
     "name": "stdout",
     "output_type": "stream",
     "text": [
      "0.103"
     ]
    },
    {
     "name": "stdout",
     "output_type": "stream",
     "text": [
      "\n"
     ]
    },
    {
     "name": "stderr",
     "output_type": "stream",
     "text": [
      "\r",
      "100%|██████████| 6/6 [126:04:21<00:00, 74972.01s/it]   "
     ]
    },
    {
     "name": "stderr",
     "output_type": "stream",
     "text": [
      "\r",
      "100%|██████████| 6/6 [126:04:21<00:00, 75643.55s/it]"
     ]
    },
    {
     "name": "stderr",
     "output_type": "stream",
     "text": [
      "\n"
     ]
    }
   ],
   "source": [
    "train_data, test_data, train_labels, test_labels = get_data()\n",
    "\n",
    "df = runner.run(\n",
    "    train_data=train_data,\n",
    "    test_data=test_data,\n",
    "    preproc=Preprocessor,\n",
    "    preproc_params=None,\n",
    "    err_root_node=get_err_root_node(),\n",
    "    # err_params_list=get_err_params_list(),\n",
    "    err_params_list=get_err_params_list(train_data),\n",
    "    model_params_dict_list=get_model_params_dict_list(train_labels, test_labels),\n",
    "    n_processes=1\n",
    ")"
   ]
  },
  {
   "cell_type": "code",
   "execution_count": 11,
   "metadata": {
    "collapsed": false,
    "papermill": {
     "duration": 2.475388,
     "end_time": "2019-11-28T16:48:12.374593",
     "exception": false,
     "start_time": "2019-11-28T16:48:09.899205",
     "status": "completed"
    },
    "pycharm": {
     "name": "#%%\n"
    },
    "tags": []
   },
   "outputs": [
    {
     "data": {
      "text/plain": [
       "'AutoKeras #1'"
      ]
     },
     "metadata": {},
     "output_type": "display_data"
    },
    {
     "data": {
      "text/html": [
       "<style  type=\"text/css\" >\n",
       "</style><table id=\"T_dc623d96_11fe_11ea_94ce_80000027fe80\" ><thead>    <tr>        <th class=\"col_heading level0 col0\" >std</th>        <th class=\"col_heading level0 col1\" >test_acc</th>        <th class=\"col_heading level0 col2\" >train_acc</th>        <th class=\"col_heading level0 col3\" >time_err</th>        <th class=\"col_heading level0 col4\" >time_pre</th>        <th class=\"col_heading level0 col5\" >time_mod</th>    </tr></thead><tbody>\n",
       "                <tr>\n",
       "                                <td id=\"T_dc623d96_11fe_11ea_94ce_80000027fe80row0_col0\" class=\"data row0 col0\" >0</td>\n",
       "                        <td id=\"T_dc623d96_11fe_11ea_94ce_80000027fe80row0_col1\" class=\"data row0 col1\" >0.887</td>\n",
       "                        <td id=\"T_dc623d96_11fe_11ea_94ce_80000027fe80row0_col2\" class=\"data row0 col2\" >0.928</td>\n",
       "                        <td id=\"T_dc623d96_11fe_11ea_94ce_80000027fe80row0_col3\" class=\"data row0 col3\" >5.311</td>\n",
       "                        <td id=\"T_dc623d96_11fe_11ea_94ce_80000027fe80row0_col4\" class=\"data row0 col4\" >0.657</td>\n",
       "                        <td id=\"T_dc623d96_11fe_11ea_94ce_80000027fe80row0_col5\" class=\"data row0 col5\" >10860.9</td>\n",
       "            </tr>\n",
       "            <tr>\n",
       "                                <td id=\"T_dc623d96_11fe_11ea_94ce_80000027fe80row1_col0\" class=\"data row1 col0\" >51</td>\n",
       "                        <td id=\"T_dc623d96_11fe_11ea_94ce_80000027fe80row1_col1\" class=\"data row1 col1\" >0.866</td>\n",
       "                        <td id=\"T_dc623d96_11fe_11ea_94ce_80000027fe80row1_col2\" class=\"data row1 col2\" >0.92</td>\n",
       "                        <td id=\"T_dc623d96_11fe_11ea_94ce_80000027fe80row1_col3\" class=\"data row1 col3\" >5.583</td>\n",
       "                        <td id=\"T_dc623d96_11fe_11ea_94ce_80000027fe80row1_col4\" class=\"data row1 col4\" >0.672</td>\n",
       "                        <td id=\"T_dc623d96_11fe_11ea_94ce_80000027fe80row1_col5\" class=\"data row1 col5\" >11935.9</td>\n",
       "            </tr>\n",
       "            <tr>\n",
       "                                <td id=\"T_dc623d96_11fe_11ea_94ce_80000027fe80row2_col0\" class=\"data row2 col0\" >102</td>\n",
       "                        <td id=\"T_dc623d96_11fe_11ea_94ce_80000027fe80row2_col1\" class=\"data row2 col1\" >0.774</td>\n",
       "                        <td id=\"T_dc623d96_11fe_11ea_94ce_80000027fe80row2_col2\" class=\"data row2 col2\" >0.813</td>\n",
       "                        <td id=\"T_dc623d96_11fe_11ea_94ce_80000027fe80row2_col3\" class=\"data row2 col3\" >5.782</td>\n",
       "                        <td id=\"T_dc623d96_11fe_11ea_94ce_80000027fe80row2_col4\" class=\"data row2 col4\" >0.644</td>\n",
       "                        <td id=\"T_dc623d96_11fe_11ea_94ce_80000027fe80row2_col5\" class=\"data row2 col5\" >10861.4</td>\n",
       "            </tr>\n",
       "            <tr>\n",
       "                                <td id=\"T_dc623d96_11fe_11ea_94ce_80000027fe80row3_col0\" class=\"data row3 col0\" >153</td>\n",
       "                        <td id=\"T_dc623d96_11fe_11ea_94ce_80000027fe80row3_col1\" class=\"data row3 col1\" >0.722</td>\n",
       "                        <td id=\"T_dc623d96_11fe_11ea_94ce_80000027fe80row3_col2\" class=\"data row3 col2\" >0.786</td>\n",
       "                        <td id=\"T_dc623d96_11fe_11ea_94ce_80000027fe80row3_col3\" class=\"data row3 col3\" >5.479</td>\n",
       "                        <td id=\"T_dc623d96_11fe_11ea_94ce_80000027fe80row3_col4\" class=\"data row3 col4\" >0.712</td>\n",
       "                        <td id=\"T_dc623d96_11fe_11ea_94ce_80000027fe80row3_col5\" class=\"data row3 col5\" >10860.7</td>\n",
       "            </tr>\n",
       "            <tr>\n",
       "                                <td id=\"T_dc623d96_11fe_11ea_94ce_80000027fe80row4_col0\" class=\"data row4 col0\" >204</td>\n",
       "                        <td id=\"T_dc623d96_11fe_11ea_94ce_80000027fe80row4_col1\" class=\"data row4 col1\" >0.722</td>\n",
       "                        <td id=\"T_dc623d96_11fe_11ea_94ce_80000027fe80row4_col2\" class=\"data row4 col2\" >0.762</td>\n",
       "                        <td id=\"T_dc623d96_11fe_11ea_94ce_80000027fe80row4_col3\" class=\"data row4 col3\" >5.587</td>\n",
       "                        <td id=\"T_dc623d96_11fe_11ea_94ce_80000027fe80row4_col4\" class=\"data row4 col4\" >0.632</td>\n",
       "                        <td id=\"T_dc623d96_11fe_11ea_94ce_80000027fe80row4_col5\" class=\"data row4 col5\" >11911.1</td>\n",
       "            </tr>\n",
       "            <tr>\n",
       "                                <td id=\"T_dc623d96_11fe_11ea_94ce_80000027fe80row5_col0\" class=\"data row5 col0\" >255</td>\n",
       "                        <td id=\"T_dc623d96_11fe_11ea_94ce_80000027fe80row5_col1\" class=\"data row5 col1\" >0.673</td>\n",
       "                        <td id=\"T_dc623d96_11fe_11ea_94ce_80000027fe80row5_col2\" class=\"data row5 col2\" >0.713</td>\n",
       "                        <td id=\"T_dc623d96_11fe_11ea_94ce_80000027fe80row5_col3\" class=\"data row5 col3\" >5.529</td>\n",
       "                        <td id=\"T_dc623d96_11fe_11ea_94ce_80000027fe80row5_col4\" class=\"data row5 col4\" >0.653</td>\n",
       "                        <td id=\"T_dc623d96_11fe_11ea_94ce_80000027fe80row5_col5\" class=\"data row5 col5\" >11934.2</td>\n",
       "            </tr>\n",
       "    </tbody></table>"
      ],
      "text/plain": [
       "<pandas.io.formats.style.Styler at 0x2b0e9ea78dd8>"
      ]
     },
     "metadata": {},
     "output_type": "display_data"
    },
    {
     "data": {
      "text/html": [
       "<style  type=\"text/css\" >\n",
       "</style><table id=\"T_dc709116_11fe_11ea_94ce_80000027fe80\" ><thead>    <tr>        <th class=\"col_heading level0 col0\" >std</th>        <th class=\"col_heading level0 col1\" >pipe_0</th>        <th class=\"col_heading level0 col2\" >pipe_1</th>        <th class=\"col_heading level0 col3\" >pipe_2</th>        <th class=\"col_heading level0 col4\" >pipe_3</th>        <th class=\"col_heading level0 col5\" >pipe_4</th>        <th class=\"col_heading level0 col6\" >pipe_5</th>        <th class=\"col_heading level0 col7\" >pipe_6</th>        <th class=\"col_heading level0 col8\" >pipe_7</th>        <th class=\"col_heading level0 col9\" >pipe_8</th>        <th class=\"col_heading level0 col10\" >pipe_9</th>        <th class=\"col_heading level0 col11\" >pipe_10</th>        <th class=\"col_heading level0 col12\" >pipe_11</th>        <th class=\"col_heading level0 col13\" >pipe_12</th>        <th class=\"col_heading level0 col14\" >pipe_13</th>        <th class=\"col_heading level0 col15\" >pipe_14</th>        <th class=\"col_heading level0 col16\" >pipe_15</th>        <th class=\"col_heading level0 col17\" >pipe_16</th>        <th class=\"col_heading level0 col18\" >pipe_17</th>        <th class=\"col_heading level0 col19\" >pipe_18</th>        <th class=\"col_heading level0 col20\" >pipe_19</th>        <th class=\"col_heading level0 col21\" >pipe_20</th>        <th class=\"col_heading level0 col22\" >pipe_21</th>        <th class=\"col_heading level0 col23\" >pipe_22</th>        <th class=\"col_heading level0 col24\" >pipe_23</th>        <th class=\"col_heading level0 col25\" >pipe_24</th>        <th class=\"col_heading level0 col26\" >pipe_25</th>        <th class=\"col_heading level0 col27\" >pipe_26</th>        <th class=\"col_heading level0 col28\" >pipe_27</th>        <th class=\"col_heading level0 col29\" >pipe_28</th>        <th class=\"col_heading level0 col30\" >pipe_29</th>        <th class=\"col_heading level0 col31\" >pipe_30</th>        <th class=\"col_heading level0 col32\" >pipe_31</th>        <th class=\"col_heading level0 col33\" >pipe_32</th>        <th class=\"col_heading level0 col34\" >pipe_33</th>        <th class=\"col_heading level0 col35\" >pipe_34</th>        <th class=\"col_heading level0 col36\" >pipe_35</th>        <th class=\"col_heading level0 col37\" >pipe_36</th>        <th class=\"col_heading level0 col38\" >pipe_37</th>        <th class=\"col_heading level0 col39\" >pipe_38</th>        <th class=\"col_heading level0 col40\" >pipe_39</th>        <th class=\"col_heading level0 col41\" >pipe_40</th>        <th class=\"col_heading level0 col42\" >pipe_41</th>        <th class=\"col_heading level0 col43\" >pipe_42</th>        <th class=\"col_heading level0 col44\" >pipe_43</th>        <th class=\"col_heading level0 col45\" >pipe_44</th>        <th class=\"col_heading level0 col46\" >pipe_45</th>        <th class=\"col_heading level0 col47\" >pipe_46</th>        <th class=\"col_heading level0 col48\" >pipe_47</th>        <th class=\"col_heading level0 col49\" >pipe_48</th>        <th class=\"col_heading level0 col50\" >pipe_49</th>        <th class=\"col_heading level0 col51\" >pipe_50</th>        <th class=\"col_heading level0 col52\" >pipe_51</th>        <th class=\"col_heading level0 col53\" >pipe_52</th>        <th class=\"col_heading level0 col54\" >pipe_53</th>        <th class=\"col_heading level0 col55\" >pipe_54</th>        <th class=\"col_heading level0 col56\" >pipe_55</th>        <th class=\"col_heading level0 col57\" >pipe_56</th>        <th class=\"col_heading level0 col58\" >pipe_57</th>        <th class=\"col_heading level0 col59\" >pipe_58</th>        <th class=\"col_heading level0 col60\" >pipe_59</th>        <th class=\"col_heading level0 col61\" >pipe_60</th>        <th class=\"col_heading level0 col62\" >pipe_61</th>        <th class=\"col_heading level0 col63\" >pipe_62</th>        <th class=\"col_heading level0 col64\" >pipe_63</th>        <th class=\"col_heading level0 col65\" >pipe_64</th>        <th class=\"col_heading level0 col66\" >pipe_65</th>        <th class=\"col_heading level0 col67\" >pipe_66</th>        <th class=\"col_heading level0 col68\" >pipe_67</th>        <th class=\"col_heading level0 col69\" >pipe_68</th>        <th class=\"col_heading level0 col70\" >pipe_69</th>        <th class=\"col_heading level0 col71\" >pipe_70</th>        <th class=\"col_heading level0 col72\" >pipe_71</th>        <th class=\"col_heading level0 col73\" >pipe_72</th>        <th class=\"col_heading level0 col74\" >pipe_73</th>        <th class=\"col_heading level0 col75\" >pipe_74</th>        <th class=\"col_heading level0 col76\" >pipe_75</th>    </tr></thead><tbody>\n",
       "                <tr>\n",
       "                                <td id=\"T_dc709116_11fe_11ea_94ce_80000027fe80row0_col0\" class=\"data row0 col0\" >0</td>\n",
       "                        <td id=\"T_dc709116_11fe_11ea_94ce_80000027fe80row0_col1\" class=\"data row0 col1\" >ReLU()</td>\n",
       "                        <td id=\"T_dc709116_11fe_11ea_94ce_80000027fe80row0_col2\" class=\"data row0 col2\" >BatchNorm2d(1, eps=1e-05, momentum=0.1, affine=True, track_running_stats=True)</td>\n",
       "                        <td id=\"T_dc709116_11fe_11ea_94ce_80000027fe80row0_col3\" class=\"data row0 col3\" >Conv2d(1, 64, kernel_size=(3, 3), stride=(1, 1), padding=(1, 1))</td>\n",
       "                        <td id=\"T_dc709116_11fe_11ea_94ce_80000027fe80row0_col4\" class=\"data row0 col4\" >MaxPool2d(kernel_size=2, stride=2, padding=0, dilation=1, ceil_mode=False)</td>\n",
       "                        <td id=\"T_dc709116_11fe_11ea_94ce_80000027fe80row0_col5\" class=\"data row0 col5\" >ReLU()</td>\n",
       "                        <td id=\"T_dc709116_11fe_11ea_94ce_80000027fe80row0_col6\" class=\"data row0 col6\" >BatchNorm2d(64, eps=1e-05, momentum=0.1, affine=True, track_running_stats=True)</td>\n",
       "                        <td id=\"T_dc709116_11fe_11ea_94ce_80000027fe80row0_col7\" class=\"data row0 col7\" >Conv2d(64, 64, kernel_size=(3, 3), stride=(1, 1), padding=(1, 1))</td>\n",
       "                        <td id=\"T_dc709116_11fe_11ea_94ce_80000027fe80row0_col8\" class=\"data row0 col8\" >MaxPool2d(kernel_size=2, stride=2, padding=0, dilation=1, ceil_mode=False)</td>\n",
       "                        <td id=\"T_dc709116_11fe_11ea_94ce_80000027fe80row0_col9\" class=\"data row0 col9\" >ReLU()</td>\n",
       "                        <td id=\"T_dc709116_11fe_11ea_94ce_80000027fe80row0_col10\" class=\"data row0 col10\" >BatchNorm2d(64, eps=1e-05, momentum=0.1, affine=True, track_running_stats=True)</td>\n",
       "                        <td id=\"T_dc709116_11fe_11ea_94ce_80000027fe80row0_col11\" class=\"data row0 col11\" >Conv2d(64, 64, kernel_size=(3, 3), stride=(1, 1), padding=(1, 1))</td>\n",
       "                        <td id=\"T_dc709116_11fe_11ea_94ce_80000027fe80row0_col12\" class=\"data row0 col12\" >MaxPool2d(kernel_size=2, stride=2, padding=0, dilation=1, ceil_mode=False)</td>\n",
       "                        <td id=\"T_dc709116_11fe_11ea_94ce_80000027fe80row0_col13\" class=\"data row0 col13\" >GlobalAvgPool2d()</td>\n",
       "                        <td id=\"T_dc709116_11fe_11ea_94ce_80000027fe80row0_col14\" class=\"data row0 col14\" >Dropout2d(p=0.25)</td>\n",
       "                        <td id=\"T_dc709116_11fe_11ea_94ce_80000027fe80row0_col15\" class=\"data row0 col15\" >Linear(in_features=64, out_features=64, bias=True)</td>\n",
       "                        <td id=\"T_dc709116_11fe_11ea_94ce_80000027fe80row0_col16\" class=\"data row0 col16\" >ReLU()</td>\n",
       "                        <td id=\"T_dc709116_11fe_11ea_94ce_80000027fe80row0_col17\" class=\"data row0 col17\" >Linear(in_features=64, out_features=10, bias=True)</td>\n",
       "                        <td id=\"T_dc709116_11fe_11ea_94ce_80000027fe80row0_col18\" class=\"data row0 col18\" >nan</td>\n",
       "                        <td id=\"T_dc709116_11fe_11ea_94ce_80000027fe80row0_col19\" class=\"data row0 col19\" >nan</td>\n",
       "                        <td id=\"T_dc709116_11fe_11ea_94ce_80000027fe80row0_col20\" class=\"data row0 col20\" >nan</td>\n",
       "                        <td id=\"T_dc709116_11fe_11ea_94ce_80000027fe80row0_col21\" class=\"data row0 col21\" >nan</td>\n",
       "                        <td id=\"T_dc709116_11fe_11ea_94ce_80000027fe80row0_col22\" class=\"data row0 col22\" >nan</td>\n",
       "                        <td id=\"T_dc709116_11fe_11ea_94ce_80000027fe80row0_col23\" class=\"data row0 col23\" >nan</td>\n",
       "                        <td id=\"T_dc709116_11fe_11ea_94ce_80000027fe80row0_col24\" class=\"data row0 col24\" >nan</td>\n",
       "                        <td id=\"T_dc709116_11fe_11ea_94ce_80000027fe80row0_col25\" class=\"data row0 col25\" >nan</td>\n",
       "                        <td id=\"T_dc709116_11fe_11ea_94ce_80000027fe80row0_col26\" class=\"data row0 col26\" >nan</td>\n",
       "                        <td id=\"T_dc709116_11fe_11ea_94ce_80000027fe80row0_col27\" class=\"data row0 col27\" >nan</td>\n",
       "                        <td id=\"T_dc709116_11fe_11ea_94ce_80000027fe80row0_col28\" class=\"data row0 col28\" >nan</td>\n",
       "                        <td id=\"T_dc709116_11fe_11ea_94ce_80000027fe80row0_col29\" class=\"data row0 col29\" >nan</td>\n",
       "                        <td id=\"T_dc709116_11fe_11ea_94ce_80000027fe80row0_col30\" class=\"data row0 col30\" >nan</td>\n",
       "                        <td id=\"T_dc709116_11fe_11ea_94ce_80000027fe80row0_col31\" class=\"data row0 col31\" >nan</td>\n",
       "                        <td id=\"T_dc709116_11fe_11ea_94ce_80000027fe80row0_col32\" class=\"data row0 col32\" >nan</td>\n",
       "                        <td id=\"T_dc709116_11fe_11ea_94ce_80000027fe80row0_col33\" class=\"data row0 col33\" >nan</td>\n",
       "                        <td id=\"T_dc709116_11fe_11ea_94ce_80000027fe80row0_col34\" class=\"data row0 col34\" >nan</td>\n",
       "                        <td id=\"T_dc709116_11fe_11ea_94ce_80000027fe80row0_col35\" class=\"data row0 col35\" >nan</td>\n",
       "                        <td id=\"T_dc709116_11fe_11ea_94ce_80000027fe80row0_col36\" class=\"data row0 col36\" >nan</td>\n",
       "                        <td id=\"T_dc709116_11fe_11ea_94ce_80000027fe80row0_col37\" class=\"data row0 col37\" >nan</td>\n",
       "                        <td id=\"T_dc709116_11fe_11ea_94ce_80000027fe80row0_col38\" class=\"data row0 col38\" >nan</td>\n",
       "                        <td id=\"T_dc709116_11fe_11ea_94ce_80000027fe80row0_col39\" class=\"data row0 col39\" >nan</td>\n",
       "                        <td id=\"T_dc709116_11fe_11ea_94ce_80000027fe80row0_col40\" class=\"data row0 col40\" >nan</td>\n",
       "                        <td id=\"T_dc709116_11fe_11ea_94ce_80000027fe80row0_col41\" class=\"data row0 col41\" >nan</td>\n",
       "                        <td id=\"T_dc709116_11fe_11ea_94ce_80000027fe80row0_col42\" class=\"data row0 col42\" >nan</td>\n",
       "                        <td id=\"T_dc709116_11fe_11ea_94ce_80000027fe80row0_col43\" class=\"data row0 col43\" >nan</td>\n",
       "                        <td id=\"T_dc709116_11fe_11ea_94ce_80000027fe80row0_col44\" class=\"data row0 col44\" >nan</td>\n",
       "                        <td id=\"T_dc709116_11fe_11ea_94ce_80000027fe80row0_col45\" class=\"data row0 col45\" >nan</td>\n",
       "                        <td id=\"T_dc709116_11fe_11ea_94ce_80000027fe80row0_col46\" class=\"data row0 col46\" >nan</td>\n",
       "                        <td id=\"T_dc709116_11fe_11ea_94ce_80000027fe80row0_col47\" class=\"data row0 col47\" >nan</td>\n",
       "                        <td id=\"T_dc709116_11fe_11ea_94ce_80000027fe80row0_col48\" class=\"data row0 col48\" >nan</td>\n",
       "                        <td id=\"T_dc709116_11fe_11ea_94ce_80000027fe80row0_col49\" class=\"data row0 col49\" >nan</td>\n",
       "                        <td id=\"T_dc709116_11fe_11ea_94ce_80000027fe80row0_col50\" class=\"data row0 col50\" >nan</td>\n",
       "                        <td id=\"T_dc709116_11fe_11ea_94ce_80000027fe80row0_col51\" class=\"data row0 col51\" >nan</td>\n",
       "                        <td id=\"T_dc709116_11fe_11ea_94ce_80000027fe80row0_col52\" class=\"data row0 col52\" >nan</td>\n",
       "                        <td id=\"T_dc709116_11fe_11ea_94ce_80000027fe80row0_col53\" class=\"data row0 col53\" >nan</td>\n",
       "                        <td id=\"T_dc709116_11fe_11ea_94ce_80000027fe80row0_col54\" class=\"data row0 col54\" >nan</td>\n",
       "                        <td id=\"T_dc709116_11fe_11ea_94ce_80000027fe80row0_col55\" class=\"data row0 col55\" >nan</td>\n",
       "                        <td id=\"T_dc709116_11fe_11ea_94ce_80000027fe80row0_col56\" class=\"data row0 col56\" >nan</td>\n",
       "                        <td id=\"T_dc709116_11fe_11ea_94ce_80000027fe80row0_col57\" class=\"data row0 col57\" >nan</td>\n",
       "                        <td id=\"T_dc709116_11fe_11ea_94ce_80000027fe80row0_col58\" class=\"data row0 col58\" >nan</td>\n",
       "                        <td id=\"T_dc709116_11fe_11ea_94ce_80000027fe80row0_col59\" class=\"data row0 col59\" >nan</td>\n",
       "                        <td id=\"T_dc709116_11fe_11ea_94ce_80000027fe80row0_col60\" class=\"data row0 col60\" >nan</td>\n",
       "                        <td id=\"T_dc709116_11fe_11ea_94ce_80000027fe80row0_col61\" class=\"data row0 col61\" >nan</td>\n",
       "                        <td id=\"T_dc709116_11fe_11ea_94ce_80000027fe80row0_col62\" class=\"data row0 col62\" >nan</td>\n",
       "                        <td id=\"T_dc709116_11fe_11ea_94ce_80000027fe80row0_col63\" class=\"data row0 col63\" >nan</td>\n",
       "                        <td id=\"T_dc709116_11fe_11ea_94ce_80000027fe80row0_col64\" class=\"data row0 col64\" >nan</td>\n",
       "                        <td id=\"T_dc709116_11fe_11ea_94ce_80000027fe80row0_col65\" class=\"data row0 col65\" >nan</td>\n",
       "                        <td id=\"T_dc709116_11fe_11ea_94ce_80000027fe80row0_col66\" class=\"data row0 col66\" >nan</td>\n",
       "                        <td id=\"T_dc709116_11fe_11ea_94ce_80000027fe80row0_col67\" class=\"data row0 col67\" >nan</td>\n",
       "                        <td id=\"T_dc709116_11fe_11ea_94ce_80000027fe80row0_col68\" class=\"data row0 col68\" >nan</td>\n",
       "                        <td id=\"T_dc709116_11fe_11ea_94ce_80000027fe80row0_col69\" class=\"data row0 col69\" >nan</td>\n",
       "                        <td id=\"T_dc709116_11fe_11ea_94ce_80000027fe80row0_col70\" class=\"data row0 col70\" >nan</td>\n",
       "                        <td id=\"T_dc709116_11fe_11ea_94ce_80000027fe80row0_col71\" class=\"data row0 col71\" >nan</td>\n",
       "                        <td id=\"T_dc709116_11fe_11ea_94ce_80000027fe80row0_col72\" class=\"data row0 col72\" >nan</td>\n",
       "                        <td id=\"T_dc709116_11fe_11ea_94ce_80000027fe80row0_col73\" class=\"data row0 col73\" >nan</td>\n",
       "                        <td id=\"T_dc709116_11fe_11ea_94ce_80000027fe80row0_col74\" class=\"data row0 col74\" >nan</td>\n",
       "                        <td id=\"T_dc709116_11fe_11ea_94ce_80000027fe80row0_col75\" class=\"data row0 col75\" >nan</td>\n",
       "                        <td id=\"T_dc709116_11fe_11ea_94ce_80000027fe80row0_col76\" class=\"data row0 col76\" >nan</td>\n",
       "            </tr>\n",
       "            <tr>\n",
       "                                <td id=\"T_dc709116_11fe_11ea_94ce_80000027fe80row1_col0\" class=\"data row1 col0\" >51</td>\n",
       "                        <td id=\"T_dc709116_11fe_11ea_94ce_80000027fe80row1_col1\" class=\"data row1 col1\" >Conv2d(1, 64, kernel_size=(3, 3), stride=(1, 1), padding=(1, 1))</td>\n",
       "                        <td id=\"T_dc709116_11fe_11ea_94ce_80000027fe80row1_col2\" class=\"data row1 col2\" >BatchNorm2d(64, eps=1e-05, momentum=0.1, affine=True, track_running_stats=True)</td>\n",
       "                        <td id=\"T_dc709116_11fe_11ea_94ce_80000027fe80row1_col3\" class=\"data row1 col3\" >BatchNorm2d(64, eps=1e-05, momentum=0.1, affine=True, track_running_stats=True)</td>\n",
       "                        <td id=\"T_dc709116_11fe_11ea_94ce_80000027fe80row1_col4\" class=\"data row1 col4\" >ReLU()</td>\n",
       "                        <td id=\"T_dc709116_11fe_11ea_94ce_80000027fe80row1_col5\" class=\"data row1 col5\" >Conv2d(64, 64, kernel_size=(3, 3), stride=(1, 1), padding=(1, 1))</td>\n",
       "                        <td id=\"T_dc709116_11fe_11ea_94ce_80000027fe80row1_col6\" class=\"data row1 col6\" >BatchNorm2d(64, eps=1e-05, momentum=0.1, affine=True, track_running_stats=True)</td>\n",
       "                        <td id=\"T_dc709116_11fe_11ea_94ce_80000027fe80row1_col7\" class=\"data row1 col7\" >ReLU()</td>\n",
       "                        <td id=\"T_dc709116_11fe_11ea_94ce_80000027fe80row1_col8\" class=\"data row1 col8\" >Conv2d(64, 64, kernel_size=(3, 3), stride=(1, 1), padding=(1, 1))</td>\n",
       "                        <td id=\"T_dc709116_11fe_11ea_94ce_80000027fe80row1_col9\" class=\"data row1 col9\" >ReLU()</td>\n",
       "                        <td id=\"T_dc709116_11fe_11ea_94ce_80000027fe80row1_col10\" class=\"data row1 col10\" >Conv2d(64, 64, kernel_size=(1, 1), stride=(1, 1))</td>\n",
       "                        <td id=\"T_dc709116_11fe_11ea_94ce_80000027fe80row1_col11\" class=\"data row1 col11\" >TorchAdd()</td>\n",
       "                        <td id=\"T_dc709116_11fe_11ea_94ce_80000027fe80row1_col12\" class=\"data row1 col12\" >BatchNorm2d(64, eps=1e-05, momentum=0.1, affine=True, track_running_stats=True)</td>\n",
       "                        <td id=\"T_dc709116_11fe_11ea_94ce_80000027fe80row1_col13\" class=\"data row1 col13\" >ReLU()</td>\n",
       "                        <td id=\"T_dc709116_11fe_11ea_94ce_80000027fe80row1_col14\" class=\"data row1 col14\" >Conv2d(64, 64, kernel_size=(3, 3), stride=(1, 1), padding=(1, 1))</td>\n",
       "                        <td id=\"T_dc709116_11fe_11ea_94ce_80000027fe80row1_col15\" class=\"data row1 col15\" >BatchNorm2d(64, eps=1e-05, momentum=0.1, affine=True, track_running_stats=True)</td>\n",
       "                        <td id=\"T_dc709116_11fe_11ea_94ce_80000027fe80row1_col16\" class=\"data row1 col16\" >ReLU()</td>\n",
       "                        <td id=\"T_dc709116_11fe_11ea_94ce_80000027fe80row1_col17\" class=\"data row1 col17\" >Conv2d(64, 64, kernel_size=(3, 3), stride=(1, 1), padding=(1, 1))</td>\n",
       "                        <td id=\"T_dc709116_11fe_11ea_94ce_80000027fe80row1_col18\" class=\"data row1 col18\" >ReLU()</td>\n",
       "                        <td id=\"T_dc709116_11fe_11ea_94ce_80000027fe80row1_col19\" class=\"data row1 col19\" >Conv2d(64, 64, kernel_size=(1, 1), stride=(1, 1))</td>\n",
       "                        <td id=\"T_dc709116_11fe_11ea_94ce_80000027fe80row1_col20\" class=\"data row1 col20\" >TorchAdd()</td>\n",
       "                        <td id=\"T_dc709116_11fe_11ea_94ce_80000027fe80row1_col21\" class=\"data row1 col21\" >BatchNorm2d(64, eps=1e-05, momentum=0.1, affine=True, track_running_stats=True)</td>\n",
       "                        <td id=\"T_dc709116_11fe_11ea_94ce_80000027fe80row1_col22\" class=\"data row1 col22\" >ReLU()</td>\n",
       "                        <td id=\"T_dc709116_11fe_11ea_94ce_80000027fe80row1_col23\" class=\"data row1 col23\" >Conv2d(64, 128, kernel_size=(3, 3), stride=(2, 2), padding=(1, 1))</td>\n",
       "                        <td id=\"T_dc709116_11fe_11ea_94ce_80000027fe80row1_col24\" class=\"data row1 col24\" >BatchNorm2d(128, eps=1e-05, momentum=0.1, affine=True, track_running_stats=True)</td>\n",
       "                        <td id=\"T_dc709116_11fe_11ea_94ce_80000027fe80row1_col25\" class=\"data row1 col25\" >ReLU()</td>\n",
       "                        <td id=\"T_dc709116_11fe_11ea_94ce_80000027fe80row1_col26\" class=\"data row1 col26\" >Conv2d(128, 128, kernel_size=(3, 3), stride=(1, 1), padding=(1, 1))</td>\n",
       "                        <td id=\"T_dc709116_11fe_11ea_94ce_80000027fe80row1_col27\" class=\"data row1 col27\" >ReLU()</td>\n",
       "                        <td id=\"T_dc709116_11fe_11ea_94ce_80000027fe80row1_col28\" class=\"data row1 col28\" >Conv2d(64, 128, kernel_size=(1, 1), stride=(2, 2))</td>\n",
       "                        <td id=\"T_dc709116_11fe_11ea_94ce_80000027fe80row1_col29\" class=\"data row1 col29\" >TorchAdd()</td>\n",
       "                        <td id=\"T_dc709116_11fe_11ea_94ce_80000027fe80row1_col30\" class=\"data row1 col30\" >BatchNorm2d(128, eps=1e-05, momentum=0.1, affine=True, track_running_stats=True)</td>\n",
       "                        <td id=\"T_dc709116_11fe_11ea_94ce_80000027fe80row1_col31\" class=\"data row1 col31\" >ReLU()</td>\n",
       "                        <td id=\"T_dc709116_11fe_11ea_94ce_80000027fe80row1_col32\" class=\"data row1 col32\" >Conv2d(128, 128, kernel_size=(3, 3), stride=(1, 1), padding=(1, 1))</td>\n",
       "                        <td id=\"T_dc709116_11fe_11ea_94ce_80000027fe80row1_col33\" class=\"data row1 col33\" >BatchNorm2d(128, eps=1e-05, momentum=0.1, affine=True, track_running_stats=True)</td>\n",
       "                        <td id=\"T_dc709116_11fe_11ea_94ce_80000027fe80row1_col34\" class=\"data row1 col34\" >ReLU()</td>\n",
       "                        <td id=\"T_dc709116_11fe_11ea_94ce_80000027fe80row1_col35\" class=\"data row1 col35\" >Conv2d(128, 128, kernel_size=(3, 3), stride=(1, 1), padding=(1, 1))</td>\n",
       "                        <td id=\"T_dc709116_11fe_11ea_94ce_80000027fe80row1_col36\" class=\"data row1 col36\" >ReLU()</td>\n",
       "                        <td id=\"T_dc709116_11fe_11ea_94ce_80000027fe80row1_col37\" class=\"data row1 col37\" >Conv2d(128, 128, kernel_size=(1, 1), stride=(1, 1))</td>\n",
       "                        <td id=\"T_dc709116_11fe_11ea_94ce_80000027fe80row1_col38\" class=\"data row1 col38\" >TorchAdd()</td>\n",
       "                        <td id=\"T_dc709116_11fe_11ea_94ce_80000027fe80row1_col39\" class=\"data row1 col39\" >BatchNorm2d(128, eps=1e-05, momentum=0.1, affine=True, track_running_stats=True)</td>\n",
       "                        <td id=\"T_dc709116_11fe_11ea_94ce_80000027fe80row1_col40\" class=\"data row1 col40\" >ReLU()</td>\n",
       "                        <td id=\"T_dc709116_11fe_11ea_94ce_80000027fe80row1_col41\" class=\"data row1 col41\" >Conv2d(128, 256, kernel_size=(3, 3), stride=(2, 2), padding=(1, 1))</td>\n",
       "                        <td id=\"T_dc709116_11fe_11ea_94ce_80000027fe80row1_col42\" class=\"data row1 col42\" >BatchNorm2d(256, eps=1e-05, momentum=0.1, affine=True, track_running_stats=True)</td>\n",
       "                        <td id=\"T_dc709116_11fe_11ea_94ce_80000027fe80row1_col43\" class=\"data row1 col43\" >ReLU()</td>\n",
       "                        <td id=\"T_dc709116_11fe_11ea_94ce_80000027fe80row1_col44\" class=\"data row1 col44\" >Conv2d(256, 256, kernel_size=(3, 3), stride=(1, 1), padding=(1, 1))</td>\n",
       "                        <td id=\"T_dc709116_11fe_11ea_94ce_80000027fe80row1_col45\" class=\"data row1 col45\" >ReLU()</td>\n",
       "                        <td id=\"T_dc709116_11fe_11ea_94ce_80000027fe80row1_col46\" class=\"data row1 col46\" >Conv2d(128, 256, kernel_size=(1, 1), stride=(2, 2))</td>\n",
       "                        <td id=\"T_dc709116_11fe_11ea_94ce_80000027fe80row1_col47\" class=\"data row1 col47\" >TorchAdd()</td>\n",
       "                        <td id=\"T_dc709116_11fe_11ea_94ce_80000027fe80row1_col48\" class=\"data row1 col48\" >BatchNorm2d(256, eps=1e-05, momentum=0.1, affine=True, track_running_stats=True)</td>\n",
       "                        <td id=\"T_dc709116_11fe_11ea_94ce_80000027fe80row1_col49\" class=\"data row1 col49\" >ReLU()</td>\n",
       "                        <td id=\"T_dc709116_11fe_11ea_94ce_80000027fe80row1_col50\" class=\"data row1 col50\" >Conv2d(256, 256, kernel_size=(3, 3), stride=(1, 1), padding=(1, 1))</td>\n",
       "                        <td id=\"T_dc709116_11fe_11ea_94ce_80000027fe80row1_col51\" class=\"data row1 col51\" >BatchNorm2d(256, eps=1e-05, momentum=0.1, affine=True, track_running_stats=True)</td>\n",
       "                        <td id=\"T_dc709116_11fe_11ea_94ce_80000027fe80row1_col52\" class=\"data row1 col52\" >ReLU()</td>\n",
       "                        <td id=\"T_dc709116_11fe_11ea_94ce_80000027fe80row1_col53\" class=\"data row1 col53\" >Conv2d(256, 256, kernel_size=(3, 3), stride=(1, 1), padding=(1, 1))</td>\n",
       "                        <td id=\"T_dc709116_11fe_11ea_94ce_80000027fe80row1_col54\" class=\"data row1 col54\" >ReLU()</td>\n",
       "                        <td id=\"T_dc709116_11fe_11ea_94ce_80000027fe80row1_col55\" class=\"data row1 col55\" >Conv2d(256, 256, kernel_size=(1, 1), stride=(1, 1))</td>\n",
       "                        <td id=\"T_dc709116_11fe_11ea_94ce_80000027fe80row1_col56\" class=\"data row1 col56\" >TorchAdd()</td>\n",
       "                        <td id=\"T_dc709116_11fe_11ea_94ce_80000027fe80row1_col57\" class=\"data row1 col57\" >BatchNorm2d(256, eps=1e-05, momentum=0.1, affine=True, track_running_stats=True)</td>\n",
       "                        <td id=\"T_dc709116_11fe_11ea_94ce_80000027fe80row1_col58\" class=\"data row1 col58\" >ReLU()</td>\n",
       "                        <td id=\"T_dc709116_11fe_11ea_94ce_80000027fe80row1_col59\" class=\"data row1 col59\" >Conv2d(256, 512, kernel_size=(3, 3), stride=(2, 2), padding=(1, 1))</td>\n",
       "                        <td id=\"T_dc709116_11fe_11ea_94ce_80000027fe80row1_col60\" class=\"data row1 col60\" >BatchNorm2d(512, eps=1e-05, momentum=0.1, affine=True, track_running_stats=True)</td>\n",
       "                        <td id=\"T_dc709116_11fe_11ea_94ce_80000027fe80row1_col61\" class=\"data row1 col61\" >ReLU()</td>\n",
       "                        <td id=\"T_dc709116_11fe_11ea_94ce_80000027fe80row1_col62\" class=\"data row1 col62\" >Conv2d(512, 512, kernel_size=(3, 3), stride=(1, 1), padding=(1, 1))</td>\n",
       "                        <td id=\"T_dc709116_11fe_11ea_94ce_80000027fe80row1_col63\" class=\"data row1 col63\" >ReLU()</td>\n",
       "                        <td id=\"T_dc709116_11fe_11ea_94ce_80000027fe80row1_col64\" class=\"data row1 col64\" >Conv2d(256, 512, kernel_size=(1, 1), stride=(2, 2))</td>\n",
       "                        <td id=\"T_dc709116_11fe_11ea_94ce_80000027fe80row1_col65\" class=\"data row1 col65\" >TorchAdd()</td>\n",
       "                        <td id=\"T_dc709116_11fe_11ea_94ce_80000027fe80row1_col66\" class=\"data row1 col66\" >BatchNorm2d(512, eps=1e-05, momentum=0.1, affine=True, track_running_stats=True)</td>\n",
       "                        <td id=\"T_dc709116_11fe_11ea_94ce_80000027fe80row1_col67\" class=\"data row1 col67\" >ReLU()</td>\n",
       "                        <td id=\"T_dc709116_11fe_11ea_94ce_80000027fe80row1_col68\" class=\"data row1 col68\" >Conv2d(512, 512, kernel_size=(3, 3), stride=(1, 1), padding=(1, 1))</td>\n",
       "                        <td id=\"T_dc709116_11fe_11ea_94ce_80000027fe80row1_col69\" class=\"data row1 col69\" >BatchNorm2d(512, eps=1e-05, momentum=0.1, affine=True, track_running_stats=True)</td>\n",
       "                        <td id=\"T_dc709116_11fe_11ea_94ce_80000027fe80row1_col70\" class=\"data row1 col70\" >ReLU()</td>\n",
       "                        <td id=\"T_dc709116_11fe_11ea_94ce_80000027fe80row1_col71\" class=\"data row1 col71\" >Conv2d(512, 512, kernel_size=(3, 3), stride=(1, 1), padding=(1, 1))</td>\n",
       "                        <td id=\"T_dc709116_11fe_11ea_94ce_80000027fe80row1_col72\" class=\"data row1 col72\" >ReLU()</td>\n",
       "                        <td id=\"T_dc709116_11fe_11ea_94ce_80000027fe80row1_col73\" class=\"data row1 col73\" >Conv2d(512, 512, kernel_size=(1, 1), stride=(1, 1))</td>\n",
       "                        <td id=\"T_dc709116_11fe_11ea_94ce_80000027fe80row1_col74\" class=\"data row1 col74\" >TorchAdd()</td>\n",
       "                        <td id=\"T_dc709116_11fe_11ea_94ce_80000027fe80row1_col75\" class=\"data row1 col75\" >GlobalAvgPool2d()</td>\n",
       "                        <td id=\"T_dc709116_11fe_11ea_94ce_80000027fe80row1_col76\" class=\"data row1 col76\" >Linear(in_features=512, out_features=10, bias=True)</td>\n",
       "            </tr>\n",
       "            <tr>\n",
       "                                <td id=\"T_dc709116_11fe_11ea_94ce_80000027fe80row2_col0\" class=\"data row2 col0\" >102</td>\n",
       "                        <td id=\"T_dc709116_11fe_11ea_94ce_80000027fe80row2_col1\" class=\"data row2 col1\" >ReLU()</td>\n",
       "                        <td id=\"T_dc709116_11fe_11ea_94ce_80000027fe80row2_col2\" class=\"data row2 col2\" >BatchNorm2d(1, eps=1e-05, momentum=0.1, affine=True, track_running_stats=True)</td>\n",
       "                        <td id=\"T_dc709116_11fe_11ea_94ce_80000027fe80row2_col3\" class=\"data row2 col3\" >Conv2d(1, 64, kernel_size=(3, 3), stride=(1, 1), padding=(1, 1))</td>\n",
       "                        <td id=\"T_dc709116_11fe_11ea_94ce_80000027fe80row2_col4\" class=\"data row2 col4\" >MaxPool2d(kernel_size=2, stride=2, padding=0, dilation=1, ceil_mode=False)</td>\n",
       "                        <td id=\"T_dc709116_11fe_11ea_94ce_80000027fe80row2_col5\" class=\"data row2 col5\" >ReLU()</td>\n",
       "                        <td id=\"T_dc709116_11fe_11ea_94ce_80000027fe80row2_col6\" class=\"data row2 col6\" >BatchNorm2d(64, eps=1e-05, momentum=0.1, affine=True, track_running_stats=True)</td>\n",
       "                        <td id=\"T_dc709116_11fe_11ea_94ce_80000027fe80row2_col7\" class=\"data row2 col7\" >Conv2d(64, 64, kernel_size=(3, 3), stride=(1, 1), padding=(1, 1))</td>\n",
       "                        <td id=\"T_dc709116_11fe_11ea_94ce_80000027fe80row2_col8\" class=\"data row2 col8\" >MaxPool2d(kernel_size=2, stride=2, padding=0, dilation=1, ceil_mode=False)</td>\n",
       "                        <td id=\"T_dc709116_11fe_11ea_94ce_80000027fe80row2_col9\" class=\"data row2 col9\" >ReLU()</td>\n",
       "                        <td id=\"T_dc709116_11fe_11ea_94ce_80000027fe80row2_col10\" class=\"data row2 col10\" >BatchNorm2d(64, eps=1e-05, momentum=0.1, affine=True, track_running_stats=True)</td>\n",
       "                        <td id=\"T_dc709116_11fe_11ea_94ce_80000027fe80row2_col11\" class=\"data row2 col11\" >Conv2d(64, 64, kernel_size=(3, 3), stride=(1, 1), padding=(1, 1))</td>\n",
       "                        <td id=\"T_dc709116_11fe_11ea_94ce_80000027fe80row2_col12\" class=\"data row2 col12\" >MaxPool2d(kernel_size=2, stride=2, padding=0, dilation=1, ceil_mode=False)</td>\n",
       "                        <td id=\"T_dc709116_11fe_11ea_94ce_80000027fe80row2_col13\" class=\"data row2 col13\" >GlobalAvgPool2d()</td>\n",
       "                        <td id=\"T_dc709116_11fe_11ea_94ce_80000027fe80row2_col14\" class=\"data row2 col14\" >Dropout2d(p=0.25)</td>\n",
       "                        <td id=\"T_dc709116_11fe_11ea_94ce_80000027fe80row2_col15\" class=\"data row2 col15\" >Linear(in_features=64, out_features=64, bias=True)</td>\n",
       "                        <td id=\"T_dc709116_11fe_11ea_94ce_80000027fe80row2_col16\" class=\"data row2 col16\" >ReLU()</td>\n",
       "                        <td id=\"T_dc709116_11fe_11ea_94ce_80000027fe80row2_col17\" class=\"data row2 col17\" >Linear(in_features=64, out_features=10, bias=True)</td>\n",
       "                        <td id=\"T_dc709116_11fe_11ea_94ce_80000027fe80row2_col18\" class=\"data row2 col18\" >nan</td>\n",
       "                        <td id=\"T_dc709116_11fe_11ea_94ce_80000027fe80row2_col19\" class=\"data row2 col19\" >nan</td>\n",
       "                        <td id=\"T_dc709116_11fe_11ea_94ce_80000027fe80row2_col20\" class=\"data row2 col20\" >nan</td>\n",
       "                        <td id=\"T_dc709116_11fe_11ea_94ce_80000027fe80row2_col21\" class=\"data row2 col21\" >nan</td>\n",
       "                        <td id=\"T_dc709116_11fe_11ea_94ce_80000027fe80row2_col22\" class=\"data row2 col22\" >nan</td>\n",
       "                        <td id=\"T_dc709116_11fe_11ea_94ce_80000027fe80row2_col23\" class=\"data row2 col23\" >nan</td>\n",
       "                        <td id=\"T_dc709116_11fe_11ea_94ce_80000027fe80row2_col24\" class=\"data row2 col24\" >nan</td>\n",
       "                        <td id=\"T_dc709116_11fe_11ea_94ce_80000027fe80row2_col25\" class=\"data row2 col25\" >nan</td>\n",
       "                        <td id=\"T_dc709116_11fe_11ea_94ce_80000027fe80row2_col26\" class=\"data row2 col26\" >nan</td>\n",
       "                        <td id=\"T_dc709116_11fe_11ea_94ce_80000027fe80row2_col27\" class=\"data row2 col27\" >nan</td>\n",
       "                        <td id=\"T_dc709116_11fe_11ea_94ce_80000027fe80row2_col28\" class=\"data row2 col28\" >nan</td>\n",
       "                        <td id=\"T_dc709116_11fe_11ea_94ce_80000027fe80row2_col29\" class=\"data row2 col29\" >nan</td>\n",
       "                        <td id=\"T_dc709116_11fe_11ea_94ce_80000027fe80row2_col30\" class=\"data row2 col30\" >nan</td>\n",
       "                        <td id=\"T_dc709116_11fe_11ea_94ce_80000027fe80row2_col31\" class=\"data row2 col31\" >nan</td>\n",
       "                        <td id=\"T_dc709116_11fe_11ea_94ce_80000027fe80row2_col32\" class=\"data row2 col32\" >nan</td>\n",
       "                        <td id=\"T_dc709116_11fe_11ea_94ce_80000027fe80row2_col33\" class=\"data row2 col33\" >nan</td>\n",
       "                        <td id=\"T_dc709116_11fe_11ea_94ce_80000027fe80row2_col34\" class=\"data row2 col34\" >nan</td>\n",
       "                        <td id=\"T_dc709116_11fe_11ea_94ce_80000027fe80row2_col35\" class=\"data row2 col35\" >nan</td>\n",
       "                        <td id=\"T_dc709116_11fe_11ea_94ce_80000027fe80row2_col36\" class=\"data row2 col36\" >nan</td>\n",
       "                        <td id=\"T_dc709116_11fe_11ea_94ce_80000027fe80row2_col37\" class=\"data row2 col37\" >nan</td>\n",
       "                        <td id=\"T_dc709116_11fe_11ea_94ce_80000027fe80row2_col38\" class=\"data row2 col38\" >nan</td>\n",
       "                        <td id=\"T_dc709116_11fe_11ea_94ce_80000027fe80row2_col39\" class=\"data row2 col39\" >nan</td>\n",
       "                        <td id=\"T_dc709116_11fe_11ea_94ce_80000027fe80row2_col40\" class=\"data row2 col40\" >nan</td>\n",
       "                        <td id=\"T_dc709116_11fe_11ea_94ce_80000027fe80row2_col41\" class=\"data row2 col41\" >nan</td>\n",
       "                        <td id=\"T_dc709116_11fe_11ea_94ce_80000027fe80row2_col42\" class=\"data row2 col42\" >nan</td>\n",
       "                        <td id=\"T_dc709116_11fe_11ea_94ce_80000027fe80row2_col43\" class=\"data row2 col43\" >nan</td>\n",
       "                        <td id=\"T_dc709116_11fe_11ea_94ce_80000027fe80row2_col44\" class=\"data row2 col44\" >nan</td>\n",
       "                        <td id=\"T_dc709116_11fe_11ea_94ce_80000027fe80row2_col45\" class=\"data row2 col45\" >nan</td>\n",
       "                        <td id=\"T_dc709116_11fe_11ea_94ce_80000027fe80row2_col46\" class=\"data row2 col46\" >nan</td>\n",
       "                        <td id=\"T_dc709116_11fe_11ea_94ce_80000027fe80row2_col47\" class=\"data row2 col47\" >nan</td>\n",
       "                        <td id=\"T_dc709116_11fe_11ea_94ce_80000027fe80row2_col48\" class=\"data row2 col48\" >nan</td>\n",
       "                        <td id=\"T_dc709116_11fe_11ea_94ce_80000027fe80row2_col49\" class=\"data row2 col49\" >nan</td>\n",
       "                        <td id=\"T_dc709116_11fe_11ea_94ce_80000027fe80row2_col50\" class=\"data row2 col50\" >nan</td>\n",
       "                        <td id=\"T_dc709116_11fe_11ea_94ce_80000027fe80row2_col51\" class=\"data row2 col51\" >nan</td>\n",
       "                        <td id=\"T_dc709116_11fe_11ea_94ce_80000027fe80row2_col52\" class=\"data row2 col52\" >nan</td>\n",
       "                        <td id=\"T_dc709116_11fe_11ea_94ce_80000027fe80row2_col53\" class=\"data row2 col53\" >nan</td>\n",
       "                        <td id=\"T_dc709116_11fe_11ea_94ce_80000027fe80row2_col54\" class=\"data row2 col54\" >nan</td>\n",
       "                        <td id=\"T_dc709116_11fe_11ea_94ce_80000027fe80row2_col55\" class=\"data row2 col55\" >nan</td>\n",
       "                        <td id=\"T_dc709116_11fe_11ea_94ce_80000027fe80row2_col56\" class=\"data row2 col56\" >nan</td>\n",
       "                        <td id=\"T_dc709116_11fe_11ea_94ce_80000027fe80row2_col57\" class=\"data row2 col57\" >nan</td>\n",
       "                        <td id=\"T_dc709116_11fe_11ea_94ce_80000027fe80row2_col58\" class=\"data row2 col58\" >nan</td>\n",
       "                        <td id=\"T_dc709116_11fe_11ea_94ce_80000027fe80row2_col59\" class=\"data row2 col59\" >nan</td>\n",
       "                        <td id=\"T_dc709116_11fe_11ea_94ce_80000027fe80row2_col60\" class=\"data row2 col60\" >nan</td>\n",
       "                        <td id=\"T_dc709116_11fe_11ea_94ce_80000027fe80row2_col61\" class=\"data row2 col61\" >nan</td>\n",
       "                        <td id=\"T_dc709116_11fe_11ea_94ce_80000027fe80row2_col62\" class=\"data row2 col62\" >nan</td>\n",
       "                        <td id=\"T_dc709116_11fe_11ea_94ce_80000027fe80row2_col63\" class=\"data row2 col63\" >nan</td>\n",
       "                        <td id=\"T_dc709116_11fe_11ea_94ce_80000027fe80row2_col64\" class=\"data row2 col64\" >nan</td>\n",
       "                        <td id=\"T_dc709116_11fe_11ea_94ce_80000027fe80row2_col65\" class=\"data row2 col65\" >nan</td>\n",
       "                        <td id=\"T_dc709116_11fe_11ea_94ce_80000027fe80row2_col66\" class=\"data row2 col66\" >nan</td>\n",
       "                        <td id=\"T_dc709116_11fe_11ea_94ce_80000027fe80row2_col67\" class=\"data row2 col67\" >nan</td>\n",
       "                        <td id=\"T_dc709116_11fe_11ea_94ce_80000027fe80row2_col68\" class=\"data row2 col68\" >nan</td>\n",
       "                        <td id=\"T_dc709116_11fe_11ea_94ce_80000027fe80row2_col69\" class=\"data row2 col69\" >nan</td>\n",
       "                        <td id=\"T_dc709116_11fe_11ea_94ce_80000027fe80row2_col70\" class=\"data row2 col70\" >nan</td>\n",
       "                        <td id=\"T_dc709116_11fe_11ea_94ce_80000027fe80row2_col71\" class=\"data row2 col71\" >nan</td>\n",
       "                        <td id=\"T_dc709116_11fe_11ea_94ce_80000027fe80row2_col72\" class=\"data row2 col72\" >nan</td>\n",
       "                        <td id=\"T_dc709116_11fe_11ea_94ce_80000027fe80row2_col73\" class=\"data row2 col73\" >nan</td>\n",
       "                        <td id=\"T_dc709116_11fe_11ea_94ce_80000027fe80row2_col74\" class=\"data row2 col74\" >nan</td>\n",
       "                        <td id=\"T_dc709116_11fe_11ea_94ce_80000027fe80row2_col75\" class=\"data row2 col75\" >nan</td>\n",
       "                        <td id=\"T_dc709116_11fe_11ea_94ce_80000027fe80row2_col76\" class=\"data row2 col76\" >nan</td>\n",
       "            </tr>\n",
       "            <tr>\n",
       "                                <td id=\"T_dc709116_11fe_11ea_94ce_80000027fe80row3_col0\" class=\"data row3 col0\" >153</td>\n",
       "                        <td id=\"T_dc709116_11fe_11ea_94ce_80000027fe80row3_col1\" class=\"data row3 col1\" >ReLU()</td>\n",
       "                        <td id=\"T_dc709116_11fe_11ea_94ce_80000027fe80row3_col2\" class=\"data row3 col2\" >BatchNorm2d(1, eps=1e-05, momentum=0.1, affine=True, track_running_stats=True)</td>\n",
       "                        <td id=\"T_dc709116_11fe_11ea_94ce_80000027fe80row3_col3\" class=\"data row3 col3\" >Conv2d(1, 64, kernel_size=(3, 3), stride=(1, 1), padding=(1, 1))</td>\n",
       "                        <td id=\"T_dc709116_11fe_11ea_94ce_80000027fe80row3_col4\" class=\"data row3 col4\" >MaxPool2d(kernel_size=2, stride=2, padding=0, dilation=1, ceil_mode=False)</td>\n",
       "                        <td id=\"T_dc709116_11fe_11ea_94ce_80000027fe80row3_col5\" class=\"data row3 col5\" >ReLU()</td>\n",
       "                        <td id=\"T_dc709116_11fe_11ea_94ce_80000027fe80row3_col6\" class=\"data row3 col6\" >BatchNorm2d(64, eps=1e-05, momentum=0.1, affine=True, track_running_stats=True)</td>\n",
       "                        <td id=\"T_dc709116_11fe_11ea_94ce_80000027fe80row3_col7\" class=\"data row3 col7\" >Conv2d(64, 64, kernel_size=(3, 3), stride=(1, 1), padding=(1, 1))</td>\n",
       "                        <td id=\"T_dc709116_11fe_11ea_94ce_80000027fe80row3_col8\" class=\"data row3 col8\" >MaxPool2d(kernel_size=2, stride=2, padding=0, dilation=1, ceil_mode=False)</td>\n",
       "                        <td id=\"T_dc709116_11fe_11ea_94ce_80000027fe80row3_col9\" class=\"data row3 col9\" >ReLU()</td>\n",
       "                        <td id=\"T_dc709116_11fe_11ea_94ce_80000027fe80row3_col10\" class=\"data row3 col10\" >BatchNorm2d(64, eps=1e-05, momentum=0.1, affine=True, track_running_stats=True)</td>\n",
       "                        <td id=\"T_dc709116_11fe_11ea_94ce_80000027fe80row3_col11\" class=\"data row3 col11\" >Conv2d(64, 64, kernel_size=(3, 3), stride=(1, 1), padding=(1, 1))</td>\n",
       "                        <td id=\"T_dc709116_11fe_11ea_94ce_80000027fe80row3_col12\" class=\"data row3 col12\" >MaxPool2d(kernel_size=2, stride=2, padding=0, dilation=1, ceil_mode=False)</td>\n",
       "                        <td id=\"T_dc709116_11fe_11ea_94ce_80000027fe80row3_col13\" class=\"data row3 col13\" >GlobalAvgPool2d()</td>\n",
       "                        <td id=\"T_dc709116_11fe_11ea_94ce_80000027fe80row3_col14\" class=\"data row3 col14\" >Dropout2d(p=0.25)</td>\n",
       "                        <td id=\"T_dc709116_11fe_11ea_94ce_80000027fe80row3_col15\" class=\"data row3 col15\" >Linear(in_features=64, out_features=64, bias=True)</td>\n",
       "                        <td id=\"T_dc709116_11fe_11ea_94ce_80000027fe80row3_col16\" class=\"data row3 col16\" >ReLU()</td>\n",
       "                        <td id=\"T_dc709116_11fe_11ea_94ce_80000027fe80row3_col17\" class=\"data row3 col17\" >Linear(in_features=64, out_features=10, bias=True)</td>\n",
       "                        <td id=\"T_dc709116_11fe_11ea_94ce_80000027fe80row3_col18\" class=\"data row3 col18\" >nan</td>\n",
       "                        <td id=\"T_dc709116_11fe_11ea_94ce_80000027fe80row3_col19\" class=\"data row3 col19\" >nan</td>\n",
       "                        <td id=\"T_dc709116_11fe_11ea_94ce_80000027fe80row3_col20\" class=\"data row3 col20\" >nan</td>\n",
       "                        <td id=\"T_dc709116_11fe_11ea_94ce_80000027fe80row3_col21\" class=\"data row3 col21\" >nan</td>\n",
       "                        <td id=\"T_dc709116_11fe_11ea_94ce_80000027fe80row3_col22\" class=\"data row3 col22\" >nan</td>\n",
       "                        <td id=\"T_dc709116_11fe_11ea_94ce_80000027fe80row3_col23\" class=\"data row3 col23\" >nan</td>\n",
       "                        <td id=\"T_dc709116_11fe_11ea_94ce_80000027fe80row3_col24\" class=\"data row3 col24\" >nan</td>\n",
       "                        <td id=\"T_dc709116_11fe_11ea_94ce_80000027fe80row3_col25\" class=\"data row3 col25\" >nan</td>\n",
       "                        <td id=\"T_dc709116_11fe_11ea_94ce_80000027fe80row3_col26\" class=\"data row3 col26\" >nan</td>\n",
       "                        <td id=\"T_dc709116_11fe_11ea_94ce_80000027fe80row3_col27\" class=\"data row3 col27\" >nan</td>\n",
       "                        <td id=\"T_dc709116_11fe_11ea_94ce_80000027fe80row3_col28\" class=\"data row3 col28\" >nan</td>\n",
       "                        <td id=\"T_dc709116_11fe_11ea_94ce_80000027fe80row3_col29\" class=\"data row3 col29\" >nan</td>\n",
       "                        <td id=\"T_dc709116_11fe_11ea_94ce_80000027fe80row3_col30\" class=\"data row3 col30\" >nan</td>\n",
       "                        <td id=\"T_dc709116_11fe_11ea_94ce_80000027fe80row3_col31\" class=\"data row3 col31\" >nan</td>\n",
       "                        <td id=\"T_dc709116_11fe_11ea_94ce_80000027fe80row3_col32\" class=\"data row3 col32\" >nan</td>\n",
       "                        <td id=\"T_dc709116_11fe_11ea_94ce_80000027fe80row3_col33\" class=\"data row3 col33\" >nan</td>\n",
       "                        <td id=\"T_dc709116_11fe_11ea_94ce_80000027fe80row3_col34\" class=\"data row3 col34\" >nan</td>\n",
       "                        <td id=\"T_dc709116_11fe_11ea_94ce_80000027fe80row3_col35\" class=\"data row3 col35\" >nan</td>\n",
       "                        <td id=\"T_dc709116_11fe_11ea_94ce_80000027fe80row3_col36\" class=\"data row3 col36\" >nan</td>\n",
       "                        <td id=\"T_dc709116_11fe_11ea_94ce_80000027fe80row3_col37\" class=\"data row3 col37\" >nan</td>\n",
       "                        <td id=\"T_dc709116_11fe_11ea_94ce_80000027fe80row3_col38\" class=\"data row3 col38\" >nan</td>\n",
       "                        <td id=\"T_dc709116_11fe_11ea_94ce_80000027fe80row3_col39\" class=\"data row3 col39\" >nan</td>\n",
       "                        <td id=\"T_dc709116_11fe_11ea_94ce_80000027fe80row3_col40\" class=\"data row3 col40\" >nan</td>\n",
       "                        <td id=\"T_dc709116_11fe_11ea_94ce_80000027fe80row3_col41\" class=\"data row3 col41\" >nan</td>\n",
       "                        <td id=\"T_dc709116_11fe_11ea_94ce_80000027fe80row3_col42\" class=\"data row3 col42\" >nan</td>\n",
       "                        <td id=\"T_dc709116_11fe_11ea_94ce_80000027fe80row3_col43\" class=\"data row3 col43\" >nan</td>\n",
       "                        <td id=\"T_dc709116_11fe_11ea_94ce_80000027fe80row3_col44\" class=\"data row3 col44\" >nan</td>\n",
       "                        <td id=\"T_dc709116_11fe_11ea_94ce_80000027fe80row3_col45\" class=\"data row3 col45\" >nan</td>\n",
       "                        <td id=\"T_dc709116_11fe_11ea_94ce_80000027fe80row3_col46\" class=\"data row3 col46\" >nan</td>\n",
       "                        <td id=\"T_dc709116_11fe_11ea_94ce_80000027fe80row3_col47\" class=\"data row3 col47\" >nan</td>\n",
       "                        <td id=\"T_dc709116_11fe_11ea_94ce_80000027fe80row3_col48\" class=\"data row3 col48\" >nan</td>\n",
       "                        <td id=\"T_dc709116_11fe_11ea_94ce_80000027fe80row3_col49\" class=\"data row3 col49\" >nan</td>\n",
       "                        <td id=\"T_dc709116_11fe_11ea_94ce_80000027fe80row3_col50\" class=\"data row3 col50\" >nan</td>\n",
       "                        <td id=\"T_dc709116_11fe_11ea_94ce_80000027fe80row3_col51\" class=\"data row3 col51\" >nan</td>\n",
       "                        <td id=\"T_dc709116_11fe_11ea_94ce_80000027fe80row3_col52\" class=\"data row3 col52\" >nan</td>\n",
       "                        <td id=\"T_dc709116_11fe_11ea_94ce_80000027fe80row3_col53\" class=\"data row3 col53\" >nan</td>\n",
       "                        <td id=\"T_dc709116_11fe_11ea_94ce_80000027fe80row3_col54\" class=\"data row3 col54\" >nan</td>\n",
       "                        <td id=\"T_dc709116_11fe_11ea_94ce_80000027fe80row3_col55\" class=\"data row3 col55\" >nan</td>\n",
       "                        <td id=\"T_dc709116_11fe_11ea_94ce_80000027fe80row3_col56\" class=\"data row3 col56\" >nan</td>\n",
       "                        <td id=\"T_dc709116_11fe_11ea_94ce_80000027fe80row3_col57\" class=\"data row3 col57\" >nan</td>\n",
       "                        <td id=\"T_dc709116_11fe_11ea_94ce_80000027fe80row3_col58\" class=\"data row3 col58\" >nan</td>\n",
       "                        <td id=\"T_dc709116_11fe_11ea_94ce_80000027fe80row3_col59\" class=\"data row3 col59\" >nan</td>\n",
       "                        <td id=\"T_dc709116_11fe_11ea_94ce_80000027fe80row3_col60\" class=\"data row3 col60\" >nan</td>\n",
       "                        <td id=\"T_dc709116_11fe_11ea_94ce_80000027fe80row3_col61\" class=\"data row3 col61\" >nan</td>\n",
       "                        <td id=\"T_dc709116_11fe_11ea_94ce_80000027fe80row3_col62\" class=\"data row3 col62\" >nan</td>\n",
       "                        <td id=\"T_dc709116_11fe_11ea_94ce_80000027fe80row3_col63\" class=\"data row3 col63\" >nan</td>\n",
       "                        <td id=\"T_dc709116_11fe_11ea_94ce_80000027fe80row3_col64\" class=\"data row3 col64\" >nan</td>\n",
       "                        <td id=\"T_dc709116_11fe_11ea_94ce_80000027fe80row3_col65\" class=\"data row3 col65\" >nan</td>\n",
       "                        <td id=\"T_dc709116_11fe_11ea_94ce_80000027fe80row3_col66\" class=\"data row3 col66\" >nan</td>\n",
       "                        <td id=\"T_dc709116_11fe_11ea_94ce_80000027fe80row3_col67\" class=\"data row3 col67\" >nan</td>\n",
       "                        <td id=\"T_dc709116_11fe_11ea_94ce_80000027fe80row3_col68\" class=\"data row3 col68\" >nan</td>\n",
       "                        <td id=\"T_dc709116_11fe_11ea_94ce_80000027fe80row3_col69\" class=\"data row3 col69\" >nan</td>\n",
       "                        <td id=\"T_dc709116_11fe_11ea_94ce_80000027fe80row3_col70\" class=\"data row3 col70\" >nan</td>\n",
       "                        <td id=\"T_dc709116_11fe_11ea_94ce_80000027fe80row3_col71\" class=\"data row3 col71\" >nan</td>\n",
       "                        <td id=\"T_dc709116_11fe_11ea_94ce_80000027fe80row3_col72\" class=\"data row3 col72\" >nan</td>\n",
       "                        <td id=\"T_dc709116_11fe_11ea_94ce_80000027fe80row3_col73\" class=\"data row3 col73\" >nan</td>\n",
       "                        <td id=\"T_dc709116_11fe_11ea_94ce_80000027fe80row3_col74\" class=\"data row3 col74\" >nan</td>\n",
       "                        <td id=\"T_dc709116_11fe_11ea_94ce_80000027fe80row3_col75\" class=\"data row3 col75\" >nan</td>\n",
       "                        <td id=\"T_dc709116_11fe_11ea_94ce_80000027fe80row3_col76\" class=\"data row3 col76\" >nan</td>\n",
       "            </tr>\n",
       "            <tr>\n",
       "                                <td id=\"T_dc709116_11fe_11ea_94ce_80000027fe80row4_col0\" class=\"data row4 col0\" >204</td>\n",
       "                        <td id=\"T_dc709116_11fe_11ea_94ce_80000027fe80row4_col1\" class=\"data row4 col1\" >Conv2d(1, 64, kernel_size=(3, 3), stride=(1, 1), padding=(1, 1))</td>\n",
       "                        <td id=\"T_dc709116_11fe_11ea_94ce_80000027fe80row4_col2\" class=\"data row4 col2\" >BatchNorm2d(64, eps=1e-05, momentum=0.1, affine=True, track_running_stats=True)</td>\n",
       "                        <td id=\"T_dc709116_11fe_11ea_94ce_80000027fe80row4_col3\" class=\"data row4 col3\" >BatchNorm2d(64, eps=1e-05, momentum=0.1, affine=True, track_running_stats=True)</td>\n",
       "                        <td id=\"T_dc709116_11fe_11ea_94ce_80000027fe80row4_col4\" class=\"data row4 col4\" >ReLU()</td>\n",
       "                        <td id=\"T_dc709116_11fe_11ea_94ce_80000027fe80row4_col5\" class=\"data row4 col5\" >Conv2d(64, 64, kernel_size=(3, 3), stride=(1, 1), padding=(1, 1))</td>\n",
       "                        <td id=\"T_dc709116_11fe_11ea_94ce_80000027fe80row4_col6\" class=\"data row4 col6\" >BatchNorm2d(64, eps=1e-05, momentum=0.1, affine=True, track_running_stats=True)</td>\n",
       "                        <td id=\"T_dc709116_11fe_11ea_94ce_80000027fe80row4_col7\" class=\"data row4 col7\" >ReLU()</td>\n",
       "                        <td id=\"T_dc709116_11fe_11ea_94ce_80000027fe80row4_col8\" class=\"data row4 col8\" >Conv2d(64, 64, kernel_size=(3, 3), stride=(1, 1), padding=(1, 1))</td>\n",
       "                        <td id=\"T_dc709116_11fe_11ea_94ce_80000027fe80row4_col9\" class=\"data row4 col9\" >ReLU()</td>\n",
       "                        <td id=\"T_dc709116_11fe_11ea_94ce_80000027fe80row4_col10\" class=\"data row4 col10\" >Conv2d(64, 64, kernel_size=(1, 1), stride=(1, 1))</td>\n",
       "                        <td id=\"T_dc709116_11fe_11ea_94ce_80000027fe80row4_col11\" class=\"data row4 col11\" >TorchAdd()</td>\n",
       "                        <td id=\"T_dc709116_11fe_11ea_94ce_80000027fe80row4_col12\" class=\"data row4 col12\" >BatchNorm2d(64, eps=1e-05, momentum=0.1, affine=True, track_running_stats=True)</td>\n",
       "                        <td id=\"T_dc709116_11fe_11ea_94ce_80000027fe80row4_col13\" class=\"data row4 col13\" >ReLU()</td>\n",
       "                        <td id=\"T_dc709116_11fe_11ea_94ce_80000027fe80row4_col14\" class=\"data row4 col14\" >Conv2d(64, 64, kernel_size=(3, 3), stride=(1, 1), padding=(1, 1))</td>\n",
       "                        <td id=\"T_dc709116_11fe_11ea_94ce_80000027fe80row4_col15\" class=\"data row4 col15\" >BatchNorm2d(64, eps=1e-05, momentum=0.1, affine=True, track_running_stats=True)</td>\n",
       "                        <td id=\"T_dc709116_11fe_11ea_94ce_80000027fe80row4_col16\" class=\"data row4 col16\" >ReLU()</td>\n",
       "                        <td id=\"T_dc709116_11fe_11ea_94ce_80000027fe80row4_col17\" class=\"data row4 col17\" >Conv2d(64, 64, kernel_size=(3, 3), stride=(1, 1), padding=(1, 1))</td>\n",
       "                        <td id=\"T_dc709116_11fe_11ea_94ce_80000027fe80row4_col18\" class=\"data row4 col18\" >ReLU()</td>\n",
       "                        <td id=\"T_dc709116_11fe_11ea_94ce_80000027fe80row4_col19\" class=\"data row4 col19\" >Conv2d(64, 64, kernel_size=(1, 1), stride=(1, 1))</td>\n",
       "                        <td id=\"T_dc709116_11fe_11ea_94ce_80000027fe80row4_col20\" class=\"data row4 col20\" >TorchAdd()</td>\n",
       "                        <td id=\"T_dc709116_11fe_11ea_94ce_80000027fe80row4_col21\" class=\"data row4 col21\" >BatchNorm2d(64, eps=1e-05, momentum=0.1, affine=True, track_running_stats=True)</td>\n",
       "                        <td id=\"T_dc709116_11fe_11ea_94ce_80000027fe80row4_col22\" class=\"data row4 col22\" >ReLU()</td>\n",
       "                        <td id=\"T_dc709116_11fe_11ea_94ce_80000027fe80row4_col23\" class=\"data row4 col23\" >Conv2d(64, 128, kernel_size=(3, 3), stride=(2, 2), padding=(1, 1))</td>\n",
       "                        <td id=\"T_dc709116_11fe_11ea_94ce_80000027fe80row4_col24\" class=\"data row4 col24\" >BatchNorm2d(128, eps=1e-05, momentum=0.1, affine=True, track_running_stats=True)</td>\n",
       "                        <td id=\"T_dc709116_11fe_11ea_94ce_80000027fe80row4_col25\" class=\"data row4 col25\" >ReLU()</td>\n",
       "                        <td id=\"T_dc709116_11fe_11ea_94ce_80000027fe80row4_col26\" class=\"data row4 col26\" >Conv2d(128, 128, kernel_size=(3, 3), stride=(1, 1), padding=(1, 1))</td>\n",
       "                        <td id=\"T_dc709116_11fe_11ea_94ce_80000027fe80row4_col27\" class=\"data row4 col27\" >ReLU()</td>\n",
       "                        <td id=\"T_dc709116_11fe_11ea_94ce_80000027fe80row4_col28\" class=\"data row4 col28\" >Conv2d(64, 128, kernel_size=(1, 1), stride=(2, 2))</td>\n",
       "                        <td id=\"T_dc709116_11fe_11ea_94ce_80000027fe80row4_col29\" class=\"data row4 col29\" >TorchAdd()</td>\n",
       "                        <td id=\"T_dc709116_11fe_11ea_94ce_80000027fe80row4_col30\" class=\"data row4 col30\" >BatchNorm2d(128, eps=1e-05, momentum=0.1, affine=True, track_running_stats=True)</td>\n",
       "                        <td id=\"T_dc709116_11fe_11ea_94ce_80000027fe80row4_col31\" class=\"data row4 col31\" >ReLU()</td>\n",
       "                        <td id=\"T_dc709116_11fe_11ea_94ce_80000027fe80row4_col32\" class=\"data row4 col32\" >Conv2d(128, 128, kernel_size=(3, 3), stride=(1, 1), padding=(1, 1))</td>\n",
       "                        <td id=\"T_dc709116_11fe_11ea_94ce_80000027fe80row4_col33\" class=\"data row4 col33\" >BatchNorm2d(128, eps=1e-05, momentum=0.1, affine=True, track_running_stats=True)</td>\n",
       "                        <td id=\"T_dc709116_11fe_11ea_94ce_80000027fe80row4_col34\" class=\"data row4 col34\" >ReLU()</td>\n",
       "                        <td id=\"T_dc709116_11fe_11ea_94ce_80000027fe80row4_col35\" class=\"data row4 col35\" >Conv2d(128, 128, kernel_size=(3, 3), stride=(1, 1), padding=(1, 1))</td>\n",
       "                        <td id=\"T_dc709116_11fe_11ea_94ce_80000027fe80row4_col36\" class=\"data row4 col36\" >ReLU()</td>\n",
       "                        <td id=\"T_dc709116_11fe_11ea_94ce_80000027fe80row4_col37\" class=\"data row4 col37\" >Conv2d(128, 128, kernel_size=(1, 1), stride=(1, 1))</td>\n",
       "                        <td id=\"T_dc709116_11fe_11ea_94ce_80000027fe80row4_col38\" class=\"data row4 col38\" >TorchAdd()</td>\n",
       "                        <td id=\"T_dc709116_11fe_11ea_94ce_80000027fe80row4_col39\" class=\"data row4 col39\" >BatchNorm2d(128, eps=1e-05, momentum=0.1, affine=True, track_running_stats=True)</td>\n",
       "                        <td id=\"T_dc709116_11fe_11ea_94ce_80000027fe80row4_col40\" class=\"data row4 col40\" >ReLU()</td>\n",
       "                        <td id=\"T_dc709116_11fe_11ea_94ce_80000027fe80row4_col41\" class=\"data row4 col41\" >Conv2d(128, 256, kernel_size=(3, 3), stride=(2, 2), padding=(1, 1))</td>\n",
       "                        <td id=\"T_dc709116_11fe_11ea_94ce_80000027fe80row4_col42\" class=\"data row4 col42\" >BatchNorm2d(256, eps=1e-05, momentum=0.1, affine=True, track_running_stats=True)</td>\n",
       "                        <td id=\"T_dc709116_11fe_11ea_94ce_80000027fe80row4_col43\" class=\"data row4 col43\" >ReLU()</td>\n",
       "                        <td id=\"T_dc709116_11fe_11ea_94ce_80000027fe80row4_col44\" class=\"data row4 col44\" >Conv2d(256, 256, kernel_size=(3, 3), stride=(1, 1), padding=(1, 1))</td>\n",
       "                        <td id=\"T_dc709116_11fe_11ea_94ce_80000027fe80row4_col45\" class=\"data row4 col45\" >ReLU()</td>\n",
       "                        <td id=\"T_dc709116_11fe_11ea_94ce_80000027fe80row4_col46\" class=\"data row4 col46\" >Conv2d(128, 256, kernel_size=(1, 1), stride=(2, 2))</td>\n",
       "                        <td id=\"T_dc709116_11fe_11ea_94ce_80000027fe80row4_col47\" class=\"data row4 col47\" >TorchAdd()</td>\n",
       "                        <td id=\"T_dc709116_11fe_11ea_94ce_80000027fe80row4_col48\" class=\"data row4 col48\" >BatchNorm2d(256, eps=1e-05, momentum=0.1, affine=True, track_running_stats=True)</td>\n",
       "                        <td id=\"T_dc709116_11fe_11ea_94ce_80000027fe80row4_col49\" class=\"data row4 col49\" >ReLU()</td>\n",
       "                        <td id=\"T_dc709116_11fe_11ea_94ce_80000027fe80row4_col50\" class=\"data row4 col50\" >Conv2d(256, 256, kernel_size=(3, 3), stride=(1, 1), padding=(1, 1))</td>\n",
       "                        <td id=\"T_dc709116_11fe_11ea_94ce_80000027fe80row4_col51\" class=\"data row4 col51\" >BatchNorm2d(256, eps=1e-05, momentum=0.1, affine=True, track_running_stats=True)</td>\n",
       "                        <td id=\"T_dc709116_11fe_11ea_94ce_80000027fe80row4_col52\" class=\"data row4 col52\" >ReLU()</td>\n",
       "                        <td id=\"T_dc709116_11fe_11ea_94ce_80000027fe80row4_col53\" class=\"data row4 col53\" >Conv2d(256, 256, kernel_size=(3, 3), stride=(1, 1), padding=(1, 1))</td>\n",
       "                        <td id=\"T_dc709116_11fe_11ea_94ce_80000027fe80row4_col54\" class=\"data row4 col54\" >ReLU()</td>\n",
       "                        <td id=\"T_dc709116_11fe_11ea_94ce_80000027fe80row4_col55\" class=\"data row4 col55\" >Conv2d(256, 256, kernel_size=(1, 1), stride=(1, 1))</td>\n",
       "                        <td id=\"T_dc709116_11fe_11ea_94ce_80000027fe80row4_col56\" class=\"data row4 col56\" >TorchAdd()</td>\n",
       "                        <td id=\"T_dc709116_11fe_11ea_94ce_80000027fe80row4_col57\" class=\"data row4 col57\" >BatchNorm2d(256, eps=1e-05, momentum=0.1, affine=True, track_running_stats=True)</td>\n",
       "                        <td id=\"T_dc709116_11fe_11ea_94ce_80000027fe80row4_col58\" class=\"data row4 col58\" >ReLU()</td>\n",
       "                        <td id=\"T_dc709116_11fe_11ea_94ce_80000027fe80row4_col59\" class=\"data row4 col59\" >Conv2d(256, 512, kernel_size=(3, 3), stride=(2, 2), padding=(1, 1))</td>\n",
       "                        <td id=\"T_dc709116_11fe_11ea_94ce_80000027fe80row4_col60\" class=\"data row4 col60\" >BatchNorm2d(512, eps=1e-05, momentum=0.1, affine=True, track_running_stats=True)</td>\n",
       "                        <td id=\"T_dc709116_11fe_11ea_94ce_80000027fe80row4_col61\" class=\"data row4 col61\" >ReLU()</td>\n",
       "                        <td id=\"T_dc709116_11fe_11ea_94ce_80000027fe80row4_col62\" class=\"data row4 col62\" >Conv2d(512, 512, kernel_size=(3, 3), stride=(1, 1), padding=(1, 1))</td>\n",
       "                        <td id=\"T_dc709116_11fe_11ea_94ce_80000027fe80row4_col63\" class=\"data row4 col63\" >ReLU()</td>\n",
       "                        <td id=\"T_dc709116_11fe_11ea_94ce_80000027fe80row4_col64\" class=\"data row4 col64\" >Conv2d(256, 512, kernel_size=(1, 1), stride=(2, 2))</td>\n",
       "                        <td id=\"T_dc709116_11fe_11ea_94ce_80000027fe80row4_col65\" class=\"data row4 col65\" >TorchAdd()</td>\n",
       "                        <td id=\"T_dc709116_11fe_11ea_94ce_80000027fe80row4_col66\" class=\"data row4 col66\" >BatchNorm2d(512, eps=1e-05, momentum=0.1, affine=True, track_running_stats=True)</td>\n",
       "                        <td id=\"T_dc709116_11fe_11ea_94ce_80000027fe80row4_col67\" class=\"data row4 col67\" >ReLU()</td>\n",
       "                        <td id=\"T_dc709116_11fe_11ea_94ce_80000027fe80row4_col68\" class=\"data row4 col68\" >Conv2d(512, 512, kernel_size=(3, 3), stride=(1, 1), padding=(1, 1))</td>\n",
       "                        <td id=\"T_dc709116_11fe_11ea_94ce_80000027fe80row4_col69\" class=\"data row4 col69\" >BatchNorm2d(512, eps=1e-05, momentum=0.1, affine=True, track_running_stats=True)</td>\n",
       "                        <td id=\"T_dc709116_11fe_11ea_94ce_80000027fe80row4_col70\" class=\"data row4 col70\" >ReLU()</td>\n",
       "                        <td id=\"T_dc709116_11fe_11ea_94ce_80000027fe80row4_col71\" class=\"data row4 col71\" >Conv2d(512, 512, kernel_size=(3, 3), stride=(1, 1), padding=(1, 1))</td>\n",
       "                        <td id=\"T_dc709116_11fe_11ea_94ce_80000027fe80row4_col72\" class=\"data row4 col72\" >ReLU()</td>\n",
       "                        <td id=\"T_dc709116_11fe_11ea_94ce_80000027fe80row4_col73\" class=\"data row4 col73\" >Conv2d(512, 512, kernel_size=(1, 1), stride=(1, 1))</td>\n",
       "                        <td id=\"T_dc709116_11fe_11ea_94ce_80000027fe80row4_col74\" class=\"data row4 col74\" >TorchAdd()</td>\n",
       "                        <td id=\"T_dc709116_11fe_11ea_94ce_80000027fe80row4_col75\" class=\"data row4 col75\" >GlobalAvgPool2d()</td>\n",
       "                        <td id=\"T_dc709116_11fe_11ea_94ce_80000027fe80row4_col76\" class=\"data row4 col76\" >Linear(in_features=512, out_features=10, bias=True)</td>\n",
       "            </tr>\n",
       "            <tr>\n",
       "                                <td id=\"T_dc709116_11fe_11ea_94ce_80000027fe80row5_col0\" class=\"data row5 col0\" >255</td>\n",
       "                        <td id=\"T_dc709116_11fe_11ea_94ce_80000027fe80row5_col1\" class=\"data row5 col1\" >Conv2d(1, 64, kernel_size=(3, 3), stride=(1, 1), padding=(1, 1))</td>\n",
       "                        <td id=\"T_dc709116_11fe_11ea_94ce_80000027fe80row5_col2\" class=\"data row5 col2\" >BatchNorm2d(64, eps=1e-05, momentum=0.1, affine=True, track_running_stats=True)</td>\n",
       "                        <td id=\"T_dc709116_11fe_11ea_94ce_80000027fe80row5_col3\" class=\"data row5 col3\" >BatchNorm2d(64, eps=1e-05, momentum=0.1, affine=True, track_running_stats=True)</td>\n",
       "                        <td id=\"T_dc709116_11fe_11ea_94ce_80000027fe80row5_col4\" class=\"data row5 col4\" >ReLU()</td>\n",
       "                        <td id=\"T_dc709116_11fe_11ea_94ce_80000027fe80row5_col5\" class=\"data row5 col5\" >Conv2d(64, 64, kernel_size=(3, 3), stride=(1, 1), padding=(1, 1))</td>\n",
       "                        <td id=\"T_dc709116_11fe_11ea_94ce_80000027fe80row5_col6\" class=\"data row5 col6\" >BatchNorm2d(64, eps=1e-05, momentum=0.1, affine=True, track_running_stats=True)</td>\n",
       "                        <td id=\"T_dc709116_11fe_11ea_94ce_80000027fe80row5_col7\" class=\"data row5 col7\" >ReLU()</td>\n",
       "                        <td id=\"T_dc709116_11fe_11ea_94ce_80000027fe80row5_col8\" class=\"data row5 col8\" >Conv2d(64, 64, kernel_size=(3, 3), stride=(1, 1), padding=(1, 1))</td>\n",
       "                        <td id=\"T_dc709116_11fe_11ea_94ce_80000027fe80row5_col9\" class=\"data row5 col9\" >ReLU()</td>\n",
       "                        <td id=\"T_dc709116_11fe_11ea_94ce_80000027fe80row5_col10\" class=\"data row5 col10\" >Conv2d(64, 64, kernel_size=(1, 1), stride=(1, 1))</td>\n",
       "                        <td id=\"T_dc709116_11fe_11ea_94ce_80000027fe80row5_col11\" class=\"data row5 col11\" >TorchAdd()</td>\n",
       "                        <td id=\"T_dc709116_11fe_11ea_94ce_80000027fe80row5_col12\" class=\"data row5 col12\" >BatchNorm2d(64, eps=1e-05, momentum=0.1, affine=True, track_running_stats=True)</td>\n",
       "                        <td id=\"T_dc709116_11fe_11ea_94ce_80000027fe80row5_col13\" class=\"data row5 col13\" >ReLU()</td>\n",
       "                        <td id=\"T_dc709116_11fe_11ea_94ce_80000027fe80row5_col14\" class=\"data row5 col14\" >Conv2d(64, 64, kernel_size=(3, 3), stride=(1, 1), padding=(1, 1))</td>\n",
       "                        <td id=\"T_dc709116_11fe_11ea_94ce_80000027fe80row5_col15\" class=\"data row5 col15\" >BatchNorm2d(64, eps=1e-05, momentum=0.1, affine=True, track_running_stats=True)</td>\n",
       "                        <td id=\"T_dc709116_11fe_11ea_94ce_80000027fe80row5_col16\" class=\"data row5 col16\" >ReLU()</td>\n",
       "                        <td id=\"T_dc709116_11fe_11ea_94ce_80000027fe80row5_col17\" class=\"data row5 col17\" >Conv2d(64, 64, kernel_size=(3, 3), stride=(1, 1), padding=(1, 1))</td>\n",
       "                        <td id=\"T_dc709116_11fe_11ea_94ce_80000027fe80row5_col18\" class=\"data row5 col18\" >ReLU()</td>\n",
       "                        <td id=\"T_dc709116_11fe_11ea_94ce_80000027fe80row5_col19\" class=\"data row5 col19\" >Conv2d(64, 64, kernel_size=(1, 1), stride=(1, 1))</td>\n",
       "                        <td id=\"T_dc709116_11fe_11ea_94ce_80000027fe80row5_col20\" class=\"data row5 col20\" >TorchAdd()</td>\n",
       "                        <td id=\"T_dc709116_11fe_11ea_94ce_80000027fe80row5_col21\" class=\"data row5 col21\" >BatchNorm2d(64, eps=1e-05, momentum=0.1, affine=True, track_running_stats=True)</td>\n",
       "                        <td id=\"T_dc709116_11fe_11ea_94ce_80000027fe80row5_col22\" class=\"data row5 col22\" >ReLU()</td>\n",
       "                        <td id=\"T_dc709116_11fe_11ea_94ce_80000027fe80row5_col23\" class=\"data row5 col23\" >Conv2d(64, 128, kernel_size=(3, 3), stride=(2, 2), padding=(1, 1))</td>\n",
       "                        <td id=\"T_dc709116_11fe_11ea_94ce_80000027fe80row5_col24\" class=\"data row5 col24\" >BatchNorm2d(128, eps=1e-05, momentum=0.1, affine=True, track_running_stats=True)</td>\n",
       "                        <td id=\"T_dc709116_11fe_11ea_94ce_80000027fe80row5_col25\" class=\"data row5 col25\" >ReLU()</td>\n",
       "                        <td id=\"T_dc709116_11fe_11ea_94ce_80000027fe80row5_col26\" class=\"data row5 col26\" >Conv2d(128, 128, kernel_size=(3, 3), stride=(1, 1), padding=(1, 1))</td>\n",
       "                        <td id=\"T_dc709116_11fe_11ea_94ce_80000027fe80row5_col27\" class=\"data row5 col27\" >ReLU()</td>\n",
       "                        <td id=\"T_dc709116_11fe_11ea_94ce_80000027fe80row5_col28\" class=\"data row5 col28\" >Conv2d(64, 128, kernel_size=(1, 1), stride=(2, 2))</td>\n",
       "                        <td id=\"T_dc709116_11fe_11ea_94ce_80000027fe80row5_col29\" class=\"data row5 col29\" >TorchAdd()</td>\n",
       "                        <td id=\"T_dc709116_11fe_11ea_94ce_80000027fe80row5_col30\" class=\"data row5 col30\" >BatchNorm2d(128, eps=1e-05, momentum=0.1, affine=True, track_running_stats=True)</td>\n",
       "                        <td id=\"T_dc709116_11fe_11ea_94ce_80000027fe80row5_col31\" class=\"data row5 col31\" >ReLU()</td>\n",
       "                        <td id=\"T_dc709116_11fe_11ea_94ce_80000027fe80row5_col32\" class=\"data row5 col32\" >Conv2d(128, 128, kernel_size=(3, 3), stride=(1, 1), padding=(1, 1))</td>\n",
       "                        <td id=\"T_dc709116_11fe_11ea_94ce_80000027fe80row5_col33\" class=\"data row5 col33\" >BatchNorm2d(128, eps=1e-05, momentum=0.1, affine=True, track_running_stats=True)</td>\n",
       "                        <td id=\"T_dc709116_11fe_11ea_94ce_80000027fe80row5_col34\" class=\"data row5 col34\" >ReLU()</td>\n",
       "                        <td id=\"T_dc709116_11fe_11ea_94ce_80000027fe80row5_col35\" class=\"data row5 col35\" >Conv2d(128, 128, kernel_size=(3, 3), stride=(1, 1), padding=(1, 1))</td>\n",
       "                        <td id=\"T_dc709116_11fe_11ea_94ce_80000027fe80row5_col36\" class=\"data row5 col36\" >ReLU()</td>\n",
       "                        <td id=\"T_dc709116_11fe_11ea_94ce_80000027fe80row5_col37\" class=\"data row5 col37\" >Conv2d(128, 128, kernel_size=(1, 1), stride=(1, 1))</td>\n",
       "                        <td id=\"T_dc709116_11fe_11ea_94ce_80000027fe80row5_col38\" class=\"data row5 col38\" >TorchAdd()</td>\n",
       "                        <td id=\"T_dc709116_11fe_11ea_94ce_80000027fe80row5_col39\" class=\"data row5 col39\" >BatchNorm2d(128, eps=1e-05, momentum=0.1, affine=True, track_running_stats=True)</td>\n",
       "                        <td id=\"T_dc709116_11fe_11ea_94ce_80000027fe80row5_col40\" class=\"data row5 col40\" >ReLU()</td>\n",
       "                        <td id=\"T_dc709116_11fe_11ea_94ce_80000027fe80row5_col41\" class=\"data row5 col41\" >Conv2d(128, 256, kernel_size=(3, 3), stride=(2, 2), padding=(1, 1))</td>\n",
       "                        <td id=\"T_dc709116_11fe_11ea_94ce_80000027fe80row5_col42\" class=\"data row5 col42\" >BatchNorm2d(256, eps=1e-05, momentum=0.1, affine=True, track_running_stats=True)</td>\n",
       "                        <td id=\"T_dc709116_11fe_11ea_94ce_80000027fe80row5_col43\" class=\"data row5 col43\" >ReLU()</td>\n",
       "                        <td id=\"T_dc709116_11fe_11ea_94ce_80000027fe80row5_col44\" class=\"data row5 col44\" >Conv2d(256, 256, kernel_size=(3, 3), stride=(1, 1), padding=(1, 1))</td>\n",
       "                        <td id=\"T_dc709116_11fe_11ea_94ce_80000027fe80row5_col45\" class=\"data row5 col45\" >ReLU()</td>\n",
       "                        <td id=\"T_dc709116_11fe_11ea_94ce_80000027fe80row5_col46\" class=\"data row5 col46\" >Conv2d(128, 256, kernel_size=(1, 1), stride=(2, 2))</td>\n",
       "                        <td id=\"T_dc709116_11fe_11ea_94ce_80000027fe80row5_col47\" class=\"data row5 col47\" >TorchAdd()</td>\n",
       "                        <td id=\"T_dc709116_11fe_11ea_94ce_80000027fe80row5_col48\" class=\"data row5 col48\" >BatchNorm2d(256, eps=1e-05, momentum=0.1, affine=True, track_running_stats=True)</td>\n",
       "                        <td id=\"T_dc709116_11fe_11ea_94ce_80000027fe80row5_col49\" class=\"data row5 col49\" >ReLU()</td>\n",
       "                        <td id=\"T_dc709116_11fe_11ea_94ce_80000027fe80row5_col50\" class=\"data row5 col50\" >Conv2d(256, 256, kernel_size=(3, 3), stride=(1, 1), padding=(1, 1))</td>\n",
       "                        <td id=\"T_dc709116_11fe_11ea_94ce_80000027fe80row5_col51\" class=\"data row5 col51\" >BatchNorm2d(256, eps=1e-05, momentum=0.1, affine=True, track_running_stats=True)</td>\n",
       "                        <td id=\"T_dc709116_11fe_11ea_94ce_80000027fe80row5_col52\" class=\"data row5 col52\" >ReLU()</td>\n",
       "                        <td id=\"T_dc709116_11fe_11ea_94ce_80000027fe80row5_col53\" class=\"data row5 col53\" >Conv2d(256, 256, kernel_size=(3, 3), stride=(1, 1), padding=(1, 1))</td>\n",
       "                        <td id=\"T_dc709116_11fe_11ea_94ce_80000027fe80row5_col54\" class=\"data row5 col54\" >ReLU()</td>\n",
       "                        <td id=\"T_dc709116_11fe_11ea_94ce_80000027fe80row5_col55\" class=\"data row5 col55\" >Conv2d(256, 256, kernel_size=(1, 1), stride=(1, 1))</td>\n",
       "                        <td id=\"T_dc709116_11fe_11ea_94ce_80000027fe80row5_col56\" class=\"data row5 col56\" >TorchAdd()</td>\n",
       "                        <td id=\"T_dc709116_11fe_11ea_94ce_80000027fe80row5_col57\" class=\"data row5 col57\" >BatchNorm2d(256, eps=1e-05, momentum=0.1, affine=True, track_running_stats=True)</td>\n",
       "                        <td id=\"T_dc709116_11fe_11ea_94ce_80000027fe80row5_col58\" class=\"data row5 col58\" >ReLU()</td>\n",
       "                        <td id=\"T_dc709116_11fe_11ea_94ce_80000027fe80row5_col59\" class=\"data row5 col59\" >Conv2d(256, 512, kernel_size=(3, 3), stride=(2, 2), padding=(1, 1))</td>\n",
       "                        <td id=\"T_dc709116_11fe_11ea_94ce_80000027fe80row5_col60\" class=\"data row5 col60\" >BatchNorm2d(512, eps=1e-05, momentum=0.1, affine=True, track_running_stats=True)</td>\n",
       "                        <td id=\"T_dc709116_11fe_11ea_94ce_80000027fe80row5_col61\" class=\"data row5 col61\" >ReLU()</td>\n",
       "                        <td id=\"T_dc709116_11fe_11ea_94ce_80000027fe80row5_col62\" class=\"data row5 col62\" >Conv2d(512, 512, kernel_size=(3, 3), stride=(1, 1), padding=(1, 1))</td>\n",
       "                        <td id=\"T_dc709116_11fe_11ea_94ce_80000027fe80row5_col63\" class=\"data row5 col63\" >ReLU()</td>\n",
       "                        <td id=\"T_dc709116_11fe_11ea_94ce_80000027fe80row5_col64\" class=\"data row5 col64\" >Conv2d(256, 512, kernel_size=(1, 1), stride=(2, 2))</td>\n",
       "                        <td id=\"T_dc709116_11fe_11ea_94ce_80000027fe80row5_col65\" class=\"data row5 col65\" >TorchAdd()</td>\n",
       "                        <td id=\"T_dc709116_11fe_11ea_94ce_80000027fe80row5_col66\" class=\"data row5 col66\" >BatchNorm2d(512, eps=1e-05, momentum=0.1, affine=True, track_running_stats=True)</td>\n",
       "                        <td id=\"T_dc709116_11fe_11ea_94ce_80000027fe80row5_col67\" class=\"data row5 col67\" >ReLU()</td>\n",
       "                        <td id=\"T_dc709116_11fe_11ea_94ce_80000027fe80row5_col68\" class=\"data row5 col68\" >Conv2d(512, 512, kernel_size=(3, 3), stride=(1, 1), padding=(1, 1))</td>\n",
       "                        <td id=\"T_dc709116_11fe_11ea_94ce_80000027fe80row5_col69\" class=\"data row5 col69\" >BatchNorm2d(512, eps=1e-05, momentum=0.1, affine=True, track_running_stats=True)</td>\n",
       "                        <td id=\"T_dc709116_11fe_11ea_94ce_80000027fe80row5_col70\" class=\"data row5 col70\" >ReLU()</td>\n",
       "                        <td id=\"T_dc709116_11fe_11ea_94ce_80000027fe80row5_col71\" class=\"data row5 col71\" >Conv2d(512, 512, kernel_size=(3, 3), stride=(1, 1), padding=(1, 1))</td>\n",
       "                        <td id=\"T_dc709116_11fe_11ea_94ce_80000027fe80row5_col72\" class=\"data row5 col72\" >ReLU()</td>\n",
       "                        <td id=\"T_dc709116_11fe_11ea_94ce_80000027fe80row5_col73\" class=\"data row5 col73\" >Conv2d(512, 512, kernel_size=(1, 1), stride=(1, 1))</td>\n",
       "                        <td id=\"T_dc709116_11fe_11ea_94ce_80000027fe80row5_col74\" class=\"data row5 col74\" >TorchAdd()</td>\n",
       "                        <td id=\"T_dc709116_11fe_11ea_94ce_80000027fe80row5_col75\" class=\"data row5 col75\" >GlobalAvgPool2d()</td>\n",
       "                        <td id=\"T_dc709116_11fe_11ea_94ce_80000027fe80row5_col76\" class=\"data row5 col76\" >Linear(in_features=512, out_features=10, bias=True)</td>\n",
       "            </tr>\n",
       "    </tbody></table>"
      ],
      "text/plain": [
       "<pandas.io.formats.style.Styler at 0x2b0e884e94e0>"
      ]
     },
     "metadata": {},
     "output_type": "display_data"
    },
    {
     "data": {
      "text/plain": [
       "'AutoKerasClean #1'"
      ]
     },
     "metadata": {},
     "output_type": "display_data"
    },
    {
     "data": {
      "text/html": [
       "<style  type=\"text/css\" >\n",
       "</style><table id=\"T_dc7b9084_11fe_11ea_94ce_80000027fe80\" ><thead>    <tr>        <th class=\"col_heading level0 col0\" >std</th>        <th class=\"col_heading level0 col1\" >test_acc</th>        <th class=\"col_heading level0 col2\" >train_acc</th>        <th class=\"col_heading level0 col3\" >time_err</th>        <th class=\"col_heading level0 col4\" >time_pre</th>        <th class=\"col_heading level0 col5\" >time_mod</th>    </tr></thead><tbody>\n",
       "                <tr>\n",
       "                                <td id=\"T_dc7b9084_11fe_11ea_94ce_80000027fe80row0_col0\" class=\"data row0 col0\" >0</td>\n",
       "                        <td id=\"T_dc7b9084_11fe_11ea_94ce_80000027fe80row0_col1\" class=\"data row0 col1\" >0.887</td>\n",
       "                        <td id=\"T_dc7b9084_11fe_11ea_94ce_80000027fe80row0_col2\" class=\"data row0 col2\" >0.928</td>\n",
       "                        <td id=\"T_dc7b9084_11fe_11ea_94ce_80000027fe80row0_col3\" class=\"data row0 col3\" >5.311</td>\n",
       "                        <td id=\"T_dc7b9084_11fe_11ea_94ce_80000027fe80row0_col4\" class=\"data row0 col4\" >0.657</td>\n",
       "                        <td id=\"T_dc7b9084_11fe_11ea_94ce_80000027fe80row0_col5\" class=\"data row0 col5\" >10858.8</td>\n",
       "            </tr>\n",
       "            <tr>\n",
       "                                <td id=\"T_dc7b9084_11fe_11ea_94ce_80000027fe80row1_col0\" class=\"data row1 col0\" >51</td>\n",
       "                        <td id=\"T_dc7b9084_11fe_11ea_94ce_80000027fe80row1_col1\" class=\"data row1 col1\" >0.562</td>\n",
       "                        <td id=\"T_dc7b9084_11fe_11ea_94ce_80000027fe80row1_col2\" class=\"data row1 col2\" >0.928</td>\n",
       "                        <td id=\"T_dc7b9084_11fe_11ea_94ce_80000027fe80row1_col3\" class=\"data row1 col3\" >5.583</td>\n",
       "                        <td id=\"T_dc7b9084_11fe_11ea_94ce_80000027fe80row1_col4\" class=\"data row1 col4\" >0.672</td>\n",
       "                        <td id=\"T_dc7b9084_11fe_11ea_94ce_80000027fe80row1_col5\" class=\"data row1 col5\" >10855.2</td>\n",
       "            </tr>\n",
       "            <tr>\n",
       "                                <td id=\"T_dc7b9084_11fe_11ea_94ce_80000027fe80row2_col0\" class=\"data row2 col0\" >102</td>\n",
       "                        <td id=\"T_dc7b9084_11fe_11ea_94ce_80000027fe80row2_col1\" class=\"data row2 col1\" >0.118</td>\n",
       "                        <td id=\"T_dc7b9084_11fe_11ea_94ce_80000027fe80row2_col2\" class=\"data row2 col2\" >0.928</td>\n",
       "                        <td id=\"T_dc7b9084_11fe_11ea_94ce_80000027fe80row2_col3\" class=\"data row2 col3\" >5.782</td>\n",
       "                        <td id=\"T_dc7b9084_11fe_11ea_94ce_80000027fe80row2_col4\" class=\"data row2 col4\" >0.644</td>\n",
       "                        <td id=\"T_dc7b9084_11fe_11ea_94ce_80000027fe80row2_col5\" class=\"data row2 col5\" >10860.7</td>\n",
       "            </tr>\n",
       "            <tr>\n",
       "                                <td id=\"T_dc7b9084_11fe_11ea_94ce_80000027fe80row3_col0\" class=\"data row3 col0\" >153</td>\n",
       "                        <td id=\"T_dc7b9084_11fe_11ea_94ce_80000027fe80row3_col1\" class=\"data row3 col1\" >0.101</td>\n",
       "                        <td id=\"T_dc7b9084_11fe_11ea_94ce_80000027fe80row3_col2\" class=\"data row3 col2\" >0.928</td>\n",
       "                        <td id=\"T_dc7b9084_11fe_11ea_94ce_80000027fe80row3_col3\" class=\"data row3 col3\" >5.479</td>\n",
       "                        <td id=\"T_dc7b9084_11fe_11ea_94ce_80000027fe80row3_col4\" class=\"data row3 col4\" >0.712</td>\n",
       "                        <td id=\"T_dc7b9084_11fe_11ea_94ce_80000027fe80row3_col5\" class=\"data row3 col5\" >10860.9</td>\n",
       "            </tr>\n",
       "            <tr>\n",
       "                                <td id=\"T_dc7b9084_11fe_11ea_94ce_80000027fe80row4_col0\" class=\"data row4 col0\" >204</td>\n",
       "                        <td id=\"T_dc7b9084_11fe_11ea_94ce_80000027fe80row4_col1\" class=\"data row4 col1\" >0.102</td>\n",
       "                        <td id=\"T_dc7b9084_11fe_11ea_94ce_80000027fe80row4_col2\" class=\"data row4 col2\" >0.928</td>\n",
       "                        <td id=\"T_dc7b9084_11fe_11ea_94ce_80000027fe80row4_col3\" class=\"data row4 col3\" >5.587</td>\n",
       "                        <td id=\"T_dc7b9084_11fe_11ea_94ce_80000027fe80row4_col4\" class=\"data row4 col4\" >0.632</td>\n",
       "                        <td id=\"T_dc7b9084_11fe_11ea_94ce_80000027fe80row4_col5\" class=\"data row4 col5\" >10859.5</td>\n",
       "            </tr>\n",
       "            <tr>\n",
       "                                <td id=\"T_dc7b9084_11fe_11ea_94ce_80000027fe80row5_col0\" class=\"data row5 col0\" >255</td>\n",
       "                        <td id=\"T_dc7b9084_11fe_11ea_94ce_80000027fe80row5_col1\" class=\"data row5 col1\" >0.103</td>\n",
       "                        <td id=\"T_dc7b9084_11fe_11ea_94ce_80000027fe80row5_col2\" class=\"data row5 col2\" >0.928</td>\n",
       "                        <td id=\"T_dc7b9084_11fe_11ea_94ce_80000027fe80row5_col3\" class=\"data row5 col3\" >5.529</td>\n",
       "                        <td id=\"T_dc7b9084_11fe_11ea_94ce_80000027fe80row5_col4\" class=\"data row5 col4\" >0.653</td>\n",
       "                        <td id=\"T_dc7b9084_11fe_11ea_94ce_80000027fe80row5_col5\" class=\"data row5 col5\" >10857.4</td>\n",
       "            </tr>\n",
       "    </tbody></table>"
      ],
      "text/plain": [
       "<pandas.io.formats.style.Styler at 0x2b0d20117c18>"
      ]
     },
     "metadata": {},
     "output_type": "display_data"
    },
    {
     "data": {
      "text/html": [
       "<style  type=\"text/css\" >\n",
       "</style><table id=\"T_dc7ded7a_11fe_11ea_94ce_80000027fe80\" ><thead>    <tr>        <th class=\"col_heading level0 col0\" >std</th>        <th class=\"col_heading level0 col1\" >pipe_0</th>        <th class=\"col_heading level0 col2\" >pipe_1</th>        <th class=\"col_heading level0 col3\" >pipe_2</th>        <th class=\"col_heading level0 col4\" >pipe_3</th>        <th class=\"col_heading level0 col5\" >pipe_4</th>        <th class=\"col_heading level0 col6\" >pipe_5</th>        <th class=\"col_heading level0 col7\" >pipe_6</th>        <th class=\"col_heading level0 col8\" >pipe_7</th>        <th class=\"col_heading level0 col9\" >pipe_8</th>        <th class=\"col_heading level0 col10\" >pipe_9</th>        <th class=\"col_heading level0 col11\" >pipe_10</th>        <th class=\"col_heading level0 col12\" >pipe_11</th>        <th class=\"col_heading level0 col13\" >pipe_12</th>        <th class=\"col_heading level0 col14\" >pipe_13</th>        <th class=\"col_heading level0 col15\" >pipe_14</th>        <th class=\"col_heading level0 col16\" >pipe_15</th>        <th class=\"col_heading level0 col17\" >pipe_16</th>    </tr></thead><tbody>\n",
       "                <tr>\n",
       "                                <td id=\"T_dc7ded7a_11fe_11ea_94ce_80000027fe80row0_col0\" class=\"data row0 col0\" >0</td>\n",
       "                        <td id=\"T_dc7ded7a_11fe_11ea_94ce_80000027fe80row0_col1\" class=\"data row0 col1\" >ReLU()</td>\n",
       "                        <td id=\"T_dc7ded7a_11fe_11ea_94ce_80000027fe80row0_col2\" class=\"data row0 col2\" >BatchNorm2d(1, eps=1e-05, momentum=0.1, affine=True, track_running_stats=True)</td>\n",
       "                        <td id=\"T_dc7ded7a_11fe_11ea_94ce_80000027fe80row0_col3\" class=\"data row0 col3\" >Conv2d(1, 64, kernel_size=(3, 3), stride=(1, 1), padding=(1, 1))</td>\n",
       "                        <td id=\"T_dc7ded7a_11fe_11ea_94ce_80000027fe80row0_col4\" class=\"data row0 col4\" >MaxPool2d(kernel_size=2, stride=2, padding=0, dilation=1, ceil_mode=False)</td>\n",
       "                        <td id=\"T_dc7ded7a_11fe_11ea_94ce_80000027fe80row0_col5\" class=\"data row0 col5\" >ReLU()</td>\n",
       "                        <td id=\"T_dc7ded7a_11fe_11ea_94ce_80000027fe80row0_col6\" class=\"data row0 col6\" >BatchNorm2d(64, eps=1e-05, momentum=0.1, affine=True, track_running_stats=True)</td>\n",
       "                        <td id=\"T_dc7ded7a_11fe_11ea_94ce_80000027fe80row0_col7\" class=\"data row0 col7\" >Conv2d(64, 64, kernel_size=(3, 3), stride=(1, 1), padding=(1, 1))</td>\n",
       "                        <td id=\"T_dc7ded7a_11fe_11ea_94ce_80000027fe80row0_col8\" class=\"data row0 col8\" >MaxPool2d(kernel_size=2, stride=2, padding=0, dilation=1, ceil_mode=False)</td>\n",
       "                        <td id=\"T_dc7ded7a_11fe_11ea_94ce_80000027fe80row0_col9\" class=\"data row0 col9\" >ReLU()</td>\n",
       "                        <td id=\"T_dc7ded7a_11fe_11ea_94ce_80000027fe80row0_col10\" class=\"data row0 col10\" >BatchNorm2d(64, eps=1e-05, momentum=0.1, affine=True, track_running_stats=True)</td>\n",
       "                        <td id=\"T_dc7ded7a_11fe_11ea_94ce_80000027fe80row0_col11\" class=\"data row0 col11\" >Conv2d(64, 64, kernel_size=(3, 3), stride=(1, 1), padding=(1, 1))</td>\n",
       "                        <td id=\"T_dc7ded7a_11fe_11ea_94ce_80000027fe80row0_col12\" class=\"data row0 col12\" >MaxPool2d(kernel_size=2, stride=2, padding=0, dilation=1, ceil_mode=False)</td>\n",
       "                        <td id=\"T_dc7ded7a_11fe_11ea_94ce_80000027fe80row0_col13\" class=\"data row0 col13\" >GlobalAvgPool2d()</td>\n",
       "                        <td id=\"T_dc7ded7a_11fe_11ea_94ce_80000027fe80row0_col14\" class=\"data row0 col14\" >Dropout2d(p=0.25)</td>\n",
       "                        <td id=\"T_dc7ded7a_11fe_11ea_94ce_80000027fe80row0_col15\" class=\"data row0 col15\" >Linear(in_features=64, out_features=64, bias=True)</td>\n",
       "                        <td id=\"T_dc7ded7a_11fe_11ea_94ce_80000027fe80row0_col16\" class=\"data row0 col16\" >ReLU()</td>\n",
       "                        <td id=\"T_dc7ded7a_11fe_11ea_94ce_80000027fe80row0_col17\" class=\"data row0 col17\" >Linear(in_features=64, out_features=10, bias=True)</td>\n",
       "            </tr>\n",
       "            <tr>\n",
       "                                <td id=\"T_dc7ded7a_11fe_11ea_94ce_80000027fe80row1_col0\" class=\"data row1 col0\" >51</td>\n",
       "                        <td id=\"T_dc7ded7a_11fe_11ea_94ce_80000027fe80row1_col1\" class=\"data row1 col1\" >ReLU()</td>\n",
       "                        <td id=\"T_dc7ded7a_11fe_11ea_94ce_80000027fe80row1_col2\" class=\"data row1 col2\" >BatchNorm2d(1, eps=1e-05, momentum=0.1, affine=True, track_running_stats=True)</td>\n",
       "                        <td id=\"T_dc7ded7a_11fe_11ea_94ce_80000027fe80row1_col3\" class=\"data row1 col3\" >Conv2d(1, 64, kernel_size=(3, 3), stride=(1, 1), padding=(1, 1))</td>\n",
       "                        <td id=\"T_dc7ded7a_11fe_11ea_94ce_80000027fe80row1_col4\" class=\"data row1 col4\" >MaxPool2d(kernel_size=2, stride=2, padding=0, dilation=1, ceil_mode=False)</td>\n",
       "                        <td id=\"T_dc7ded7a_11fe_11ea_94ce_80000027fe80row1_col5\" class=\"data row1 col5\" >ReLU()</td>\n",
       "                        <td id=\"T_dc7ded7a_11fe_11ea_94ce_80000027fe80row1_col6\" class=\"data row1 col6\" >BatchNorm2d(64, eps=1e-05, momentum=0.1, affine=True, track_running_stats=True)</td>\n",
       "                        <td id=\"T_dc7ded7a_11fe_11ea_94ce_80000027fe80row1_col7\" class=\"data row1 col7\" >Conv2d(64, 64, kernel_size=(3, 3), stride=(1, 1), padding=(1, 1))</td>\n",
       "                        <td id=\"T_dc7ded7a_11fe_11ea_94ce_80000027fe80row1_col8\" class=\"data row1 col8\" >MaxPool2d(kernel_size=2, stride=2, padding=0, dilation=1, ceil_mode=False)</td>\n",
       "                        <td id=\"T_dc7ded7a_11fe_11ea_94ce_80000027fe80row1_col9\" class=\"data row1 col9\" >ReLU()</td>\n",
       "                        <td id=\"T_dc7ded7a_11fe_11ea_94ce_80000027fe80row1_col10\" class=\"data row1 col10\" >BatchNorm2d(64, eps=1e-05, momentum=0.1, affine=True, track_running_stats=True)</td>\n",
       "                        <td id=\"T_dc7ded7a_11fe_11ea_94ce_80000027fe80row1_col11\" class=\"data row1 col11\" >Conv2d(64, 64, kernel_size=(3, 3), stride=(1, 1), padding=(1, 1))</td>\n",
       "                        <td id=\"T_dc7ded7a_11fe_11ea_94ce_80000027fe80row1_col12\" class=\"data row1 col12\" >MaxPool2d(kernel_size=2, stride=2, padding=0, dilation=1, ceil_mode=False)</td>\n",
       "                        <td id=\"T_dc7ded7a_11fe_11ea_94ce_80000027fe80row1_col13\" class=\"data row1 col13\" >GlobalAvgPool2d()</td>\n",
       "                        <td id=\"T_dc7ded7a_11fe_11ea_94ce_80000027fe80row1_col14\" class=\"data row1 col14\" >Dropout2d(p=0.25)</td>\n",
       "                        <td id=\"T_dc7ded7a_11fe_11ea_94ce_80000027fe80row1_col15\" class=\"data row1 col15\" >Linear(in_features=64, out_features=64, bias=True)</td>\n",
       "                        <td id=\"T_dc7ded7a_11fe_11ea_94ce_80000027fe80row1_col16\" class=\"data row1 col16\" >ReLU()</td>\n",
       "                        <td id=\"T_dc7ded7a_11fe_11ea_94ce_80000027fe80row1_col17\" class=\"data row1 col17\" >Linear(in_features=64, out_features=10, bias=True)</td>\n",
       "            </tr>\n",
       "            <tr>\n",
       "                                <td id=\"T_dc7ded7a_11fe_11ea_94ce_80000027fe80row2_col0\" class=\"data row2 col0\" >102</td>\n",
       "                        <td id=\"T_dc7ded7a_11fe_11ea_94ce_80000027fe80row2_col1\" class=\"data row2 col1\" >ReLU()</td>\n",
       "                        <td id=\"T_dc7ded7a_11fe_11ea_94ce_80000027fe80row2_col2\" class=\"data row2 col2\" >BatchNorm2d(1, eps=1e-05, momentum=0.1, affine=True, track_running_stats=True)</td>\n",
       "                        <td id=\"T_dc7ded7a_11fe_11ea_94ce_80000027fe80row2_col3\" class=\"data row2 col3\" >Conv2d(1, 64, kernel_size=(3, 3), stride=(1, 1), padding=(1, 1))</td>\n",
       "                        <td id=\"T_dc7ded7a_11fe_11ea_94ce_80000027fe80row2_col4\" class=\"data row2 col4\" >MaxPool2d(kernel_size=2, stride=2, padding=0, dilation=1, ceil_mode=False)</td>\n",
       "                        <td id=\"T_dc7ded7a_11fe_11ea_94ce_80000027fe80row2_col5\" class=\"data row2 col5\" >ReLU()</td>\n",
       "                        <td id=\"T_dc7ded7a_11fe_11ea_94ce_80000027fe80row2_col6\" class=\"data row2 col6\" >BatchNorm2d(64, eps=1e-05, momentum=0.1, affine=True, track_running_stats=True)</td>\n",
       "                        <td id=\"T_dc7ded7a_11fe_11ea_94ce_80000027fe80row2_col7\" class=\"data row2 col7\" >Conv2d(64, 64, kernel_size=(3, 3), stride=(1, 1), padding=(1, 1))</td>\n",
       "                        <td id=\"T_dc7ded7a_11fe_11ea_94ce_80000027fe80row2_col8\" class=\"data row2 col8\" >MaxPool2d(kernel_size=2, stride=2, padding=0, dilation=1, ceil_mode=False)</td>\n",
       "                        <td id=\"T_dc7ded7a_11fe_11ea_94ce_80000027fe80row2_col9\" class=\"data row2 col9\" >ReLU()</td>\n",
       "                        <td id=\"T_dc7ded7a_11fe_11ea_94ce_80000027fe80row2_col10\" class=\"data row2 col10\" >BatchNorm2d(64, eps=1e-05, momentum=0.1, affine=True, track_running_stats=True)</td>\n",
       "                        <td id=\"T_dc7ded7a_11fe_11ea_94ce_80000027fe80row2_col11\" class=\"data row2 col11\" >Conv2d(64, 64, kernel_size=(3, 3), stride=(1, 1), padding=(1, 1))</td>\n",
       "                        <td id=\"T_dc7ded7a_11fe_11ea_94ce_80000027fe80row2_col12\" class=\"data row2 col12\" >MaxPool2d(kernel_size=2, stride=2, padding=0, dilation=1, ceil_mode=False)</td>\n",
       "                        <td id=\"T_dc7ded7a_11fe_11ea_94ce_80000027fe80row2_col13\" class=\"data row2 col13\" >GlobalAvgPool2d()</td>\n",
       "                        <td id=\"T_dc7ded7a_11fe_11ea_94ce_80000027fe80row2_col14\" class=\"data row2 col14\" >Dropout2d(p=0.25)</td>\n",
       "                        <td id=\"T_dc7ded7a_11fe_11ea_94ce_80000027fe80row2_col15\" class=\"data row2 col15\" >Linear(in_features=64, out_features=64, bias=True)</td>\n",
       "                        <td id=\"T_dc7ded7a_11fe_11ea_94ce_80000027fe80row2_col16\" class=\"data row2 col16\" >ReLU()</td>\n",
       "                        <td id=\"T_dc7ded7a_11fe_11ea_94ce_80000027fe80row2_col17\" class=\"data row2 col17\" >Linear(in_features=64, out_features=10, bias=True)</td>\n",
       "            </tr>\n",
       "            <tr>\n",
       "                                <td id=\"T_dc7ded7a_11fe_11ea_94ce_80000027fe80row3_col0\" class=\"data row3 col0\" >153</td>\n",
       "                        <td id=\"T_dc7ded7a_11fe_11ea_94ce_80000027fe80row3_col1\" class=\"data row3 col1\" >ReLU()</td>\n",
       "                        <td id=\"T_dc7ded7a_11fe_11ea_94ce_80000027fe80row3_col2\" class=\"data row3 col2\" >BatchNorm2d(1, eps=1e-05, momentum=0.1, affine=True, track_running_stats=True)</td>\n",
       "                        <td id=\"T_dc7ded7a_11fe_11ea_94ce_80000027fe80row3_col3\" class=\"data row3 col3\" >Conv2d(1, 64, kernel_size=(3, 3), stride=(1, 1), padding=(1, 1))</td>\n",
       "                        <td id=\"T_dc7ded7a_11fe_11ea_94ce_80000027fe80row3_col4\" class=\"data row3 col4\" >MaxPool2d(kernel_size=2, stride=2, padding=0, dilation=1, ceil_mode=False)</td>\n",
       "                        <td id=\"T_dc7ded7a_11fe_11ea_94ce_80000027fe80row3_col5\" class=\"data row3 col5\" >ReLU()</td>\n",
       "                        <td id=\"T_dc7ded7a_11fe_11ea_94ce_80000027fe80row3_col6\" class=\"data row3 col6\" >BatchNorm2d(64, eps=1e-05, momentum=0.1, affine=True, track_running_stats=True)</td>\n",
       "                        <td id=\"T_dc7ded7a_11fe_11ea_94ce_80000027fe80row3_col7\" class=\"data row3 col7\" >Conv2d(64, 64, kernel_size=(3, 3), stride=(1, 1), padding=(1, 1))</td>\n",
       "                        <td id=\"T_dc7ded7a_11fe_11ea_94ce_80000027fe80row3_col8\" class=\"data row3 col8\" >MaxPool2d(kernel_size=2, stride=2, padding=0, dilation=1, ceil_mode=False)</td>\n",
       "                        <td id=\"T_dc7ded7a_11fe_11ea_94ce_80000027fe80row3_col9\" class=\"data row3 col9\" >ReLU()</td>\n",
       "                        <td id=\"T_dc7ded7a_11fe_11ea_94ce_80000027fe80row3_col10\" class=\"data row3 col10\" >BatchNorm2d(64, eps=1e-05, momentum=0.1, affine=True, track_running_stats=True)</td>\n",
       "                        <td id=\"T_dc7ded7a_11fe_11ea_94ce_80000027fe80row3_col11\" class=\"data row3 col11\" >Conv2d(64, 64, kernel_size=(3, 3), stride=(1, 1), padding=(1, 1))</td>\n",
       "                        <td id=\"T_dc7ded7a_11fe_11ea_94ce_80000027fe80row3_col12\" class=\"data row3 col12\" >MaxPool2d(kernel_size=2, stride=2, padding=0, dilation=1, ceil_mode=False)</td>\n",
       "                        <td id=\"T_dc7ded7a_11fe_11ea_94ce_80000027fe80row3_col13\" class=\"data row3 col13\" >GlobalAvgPool2d()</td>\n",
       "                        <td id=\"T_dc7ded7a_11fe_11ea_94ce_80000027fe80row3_col14\" class=\"data row3 col14\" >Dropout2d(p=0.25)</td>\n",
       "                        <td id=\"T_dc7ded7a_11fe_11ea_94ce_80000027fe80row3_col15\" class=\"data row3 col15\" >Linear(in_features=64, out_features=64, bias=True)</td>\n",
       "                        <td id=\"T_dc7ded7a_11fe_11ea_94ce_80000027fe80row3_col16\" class=\"data row3 col16\" >ReLU()</td>\n",
       "                        <td id=\"T_dc7ded7a_11fe_11ea_94ce_80000027fe80row3_col17\" class=\"data row3 col17\" >Linear(in_features=64, out_features=10, bias=True)</td>\n",
       "            </tr>\n",
       "            <tr>\n",
       "                                <td id=\"T_dc7ded7a_11fe_11ea_94ce_80000027fe80row4_col0\" class=\"data row4 col0\" >204</td>\n",
       "                        <td id=\"T_dc7ded7a_11fe_11ea_94ce_80000027fe80row4_col1\" class=\"data row4 col1\" >ReLU()</td>\n",
       "                        <td id=\"T_dc7ded7a_11fe_11ea_94ce_80000027fe80row4_col2\" class=\"data row4 col2\" >BatchNorm2d(1, eps=1e-05, momentum=0.1, affine=True, track_running_stats=True)</td>\n",
       "                        <td id=\"T_dc7ded7a_11fe_11ea_94ce_80000027fe80row4_col3\" class=\"data row4 col3\" >Conv2d(1, 64, kernel_size=(3, 3), stride=(1, 1), padding=(1, 1))</td>\n",
       "                        <td id=\"T_dc7ded7a_11fe_11ea_94ce_80000027fe80row4_col4\" class=\"data row4 col4\" >MaxPool2d(kernel_size=2, stride=2, padding=0, dilation=1, ceil_mode=False)</td>\n",
       "                        <td id=\"T_dc7ded7a_11fe_11ea_94ce_80000027fe80row4_col5\" class=\"data row4 col5\" >ReLU()</td>\n",
       "                        <td id=\"T_dc7ded7a_11fe_11ea_94ce_80000027fe80row4_col6\" class=\"data row4 col6\" >BatchNorm2d(64, eps=1e-05, momentum=0.1, affine=True, track_running_stats=True)</td>\n",
       "                        <td id=\"T_dc7ded7a_11fe_11ea_94ce_80000027fe80row4_col7\" class=\"data row4 col7\" >Conv2d(64, 64, kernel_size=(3, 3), stride=(1, 1), padding=(1, 1))</td>\n",
       "                        <td id=\"T_dc7ded7a_11fe_11ea_94ce_80000027fe80row4_col8\" class=\"data row4 col8\" >MaxPool2d(kernel_size=2, stride=2, padding=0, dilation=1, ceil_mode=False)</td>\n",
       "                        <td id=\"T_dc7ded7a_11fe_11ea_94ce_80000027fe80row4_col9\" class=\"data row4 col9\" >ReLU()</td>\n",
       "                        <td id=\"T_dc7ded7a_11fe_11ea_94ce_80000027fe80row4_col10\" class=\"data row4 col10\" >BatchNorm2d(64, eps=1e-05, momentum=0.1, affine=True, track_running_stats=True)</td>\n",
       "                        <td id=\"T_dc7ded7a_11fe_11ea_94ce_80000027fe80row4_col11\" class=\"data row4 col11\" >Conv2d(64, 64, kernel_size=(3, 3), stride=(1, 1), padding=(1, 1))</td>\n",
       "                        <td id=\"T_dc7ded7a_11fe_11ea_94ce_80000027fe80row4_col12\" class=\"data row4 col12\" >MaxPool2d(kernel_size=2, stride=2, padding=0, dilation=1, ceil_mode=False)</td>\n",
       "                        <td id=\"T_dc7ded7a_11fe_11ea_94ce_80000027fe80row4_col13\" class=\"data row4 col13\" >GlobalAvgPool2d()</td>\n",
       "                        <td id=\"T_dc7ded7a_11fe_11ea_94ce_80000027fe80row4_col14\" class=\"data row4 col14\" >Dropout2d(p=0.25)</td>\n",
       "                        <td id=\"T_dc7ded7a_11fe_11ea_94ce_80000027fe80row4_col15\" class=\"data row4 col15\" >Linear(in_features=64, out_features=64, bias=True)</td>\n",
       "                        <td id=\"T_dc7ded7a_11fe_11ea_94ce_80000027fe80row4_col16\" class=\"data row4 col16\" >ReLU()</td>\n",
       "                        <td id=\"T_dc7ded7a_11fe_11ea_94ce_80000027fe80row4_col17\" class=\"data row4 col17\" >Linear(in_features=64, out_features=10, bias=True)</td>\n",
       "            </tr>\n",
       "            <tr>\n",
       "                                <td id=\"T_dc7ded7a_11fe_11ea_94ce_80000027fe80row5_col0\" class=\"data row5 col0\" >255</td>\n",
       "                        <td id=\"T_dc7ded7a_11fe_11ea_94ce_80000027fe80row5_col1\" class=\"data row5 col1\" >ReLU()</td>\n",
       "                        <td id=\"T_dc7ded7a_11fe_11ea_94ce_80000027fe80row5_col2\" class=\"data row5 col2\" >BatchNorm2d(1, eps=1e-05, momentum=0.1, affine=True, track_running_stats=True)</td>\n",
       "                        <td id=\"T_dc7ded7a_11fe_11ea_94ce_80000027fe80row5_col3\" class=\"data row5 col3\" >Conv2d(1, 64, kernel_size=(3, 3), stride=(1, 1), padding=(1, 1))</td>\n",
       "                        <td id=\"T_dc7ded7a_11fe_11ea_94ce_80000027fe80row5_col4\" class=\"data row5 col4\" >MaxPool2d(kernel_size=2, stride=2, padding=0, dilation=1, ceil_mode=False)</td>\n",
       "                        <td id=\"T_dc7ded7a_11fe_11ea_94ce_80000027fe80row5_col5\" class=\"data row5 col5\" >ReLU()</td>\n",
       "                        <td id=\"T_dc7ded7a_11fe_11ea_94ce_80000027fe80row5_col6\" class=\"data row5 col6\" >BatchNorm2d(64, eps=1e-05, momentum=0.1, affine=True, track_running_stats=True)</td>\n",
       "                        <td id=\"T_dc7ded7a_11fe_11ea_94ce_80000027fe80row5_col7\" class=\"data row5 col7\" >Conv2d(64, 64, kernel_size=(3, 3), stride=(1, 1), padding=(1, 1))</td>\n",
       "                        <td id=\"T_dc7ded7a_11fe_11ea_94ce_80000027fe80row5_col8\" class=\"data row5 col8\" >MaxPool2d(kernel_size=2, stride=2, padding=0, dilation=1, ceil_mode=False)</td>\n",
       "                        <td id=\"T_dc7ded7a_11fe_11ea_94ce_80000027fe80row5_col9\" class=\"data row5 col9\" >ReLU()</td>\n",
       "                        <td id=\"T_dc7ded7a_11fe_11ea_94ce_80000027fe80row5_col10\" class=\"data row5 col10\" >BatchNorm2d(64, eps=1e-05, momentum=0.1, affine=True, track_running_stats=True)</td>\n",
       "                        <td id=\"T_dc7ded7a_11fe_11ea_94ce_80000027fe80row5_col11\" class=\"data row5 col11\" >Conv2d(64, 64, kernel_size=(3, 3), stride=(1, 1), padding=(1, 1))</td>\n",
       "                        <td id=\"T_dc7ded7a_11fe_11ea_94ce_80000027fe80row5_col12\" class=\"data row5 col12\" >MaxPool2d(kernel_size=2, stride=2, padding=0, dilation=1, ceil_mode=False)</td>\n",
       "                        <td id=\"T_dc7ded7a_11fe_11ea_94ce_80000027fe80row5_col13\" class=\"data row5 col13\" >GlobalAvgPool2d()</td>\n",
       "                        <td id=\"T_dc7ded7a_11fe_11ea_94ce_80000027fe80row5_col14\" class=\"data row5 col14\" >Dropout2d(p=0.25)</td>\n",
       "                        <td id=\"T_dc7ded7a_11fe_11ea_94ce_80000027fe80row5_col15\" class=\"data row5 col15\" >Linear(in_features=64, out_features=64, bias=True)</td>\n",
       "                        <td id=\"T_dc7ded7a_11fe_11ea_94ce_80000027fe80row5_col16\" class=\"data row5 col16\" >ReLU()</td>\n",
       "                        <td id=\"T_dc7ded7a_11fe_11ea_94ce_80000027fe80row5_col17\" class=\"data row5 col17\" >Linear(in_features=64, out_features=10, bias=True)</td>\n",
       "            </tr>\n",
       "    </tbody></table>"
      ],
      "text/plain": [
       "<pandas.io.formats.style.Styler at 0x2b0d2230ee80>"
      ]
     },
     "metadata": {},
     "output_type": "display_data"
    },
    {
     "data": {
      "text/plain": [
       "'H2OAutoML #1'"
      ]
     },
     "metadata": {},
     "output_type": "display_data"
    },
    {
     "data": {
      "text/html": [
       "<style  type=\"text/css\" >\n",
       "</style><table id=\"T_dc8038f0_11fe_11ea_94ce_80000027fe80\" ><thead>    <tr>        <th class=\"col_heading level0 col0\" >std</th>        <th class=\"col_heading level0 col1\" >test_acc</th>        <th class=\"col_heading level0 col2\" >train_acc</th>        <th class=\"col_heading level0 col3\" >time_err</th>        <th class=\"col_heading level0 col4\" >time_pre</th>        <th class=\"col_heading level0 col5\" >time_mod</th>    </tr></thead><tbody>\n",
       "                <tr>\n",
       "                                <td id=\"T_dc8038f0_11fe_11ea_94ce_80000027fe80row0_col0\" class=\"data row0 col0\" >0</td>\n",
       "                        <td id=\"T_dc8038f0_11fe_11ea_94ce_80000027fe80row0_col1\" class=\"data row0 col1\" >0.901</td>\n",
       "                        <td id=\"T_dc8038f0_11fe_11ea_94ce_80000027fe80row0_col2\" class=\"data row0 col2\" >1</td>\n",
       "                        <td id=\"T_dc8038f0_11fe_11ea_94ce_80000027fe80row0_col3\" class=\"data row0 col3\" >5.311</td>\n",
       "                        <td id=\"T_dc8038f0_11fe_11ea_94ce_80000027fe80row0_col4\" class=\"data row0 col4\" >0.657</td>\n",
       "                        <td id=\"T_dc8038f0_11fe_11ea_94ce_80000027fe80row0_col5\" class=\"data row0 col5\" >10966.3</td>\n",
       "            </tr>\n",
       "            <tr>\n",
       "                                <td id=\"T_dc8038f0_11fe_11ea_94ce_80000027fe80row1_col0\" class=\"data row1 col0\" >51</td>\n",
       "                        <td id=\"T_dc8038f0_11fe_11ea_94ce_80000027fe80row1_col1\" class=\"data row1 col1\" >0.852</td>\n",
       "                        <td id=\"T_dc8038f0_11fe_11ea_94ce_80000027fe80row1_col2\" class=\"data row1 col2\" >0.998</td>\n",
       "                        <td id=\"T_dc8038f0_11fe_11ea_94ce_80000027fe80row1_col3\" class=\"data row1 col3\" >5.583</td>\n",
       "                        <td id=\"T_dc8038f0_11fe_11ea_94ce_80000027fe80row1_col4\" class=\"data row1 col4\" >0.672</td>\n",
       "                        <td id=\"T_dc8038f0_11fe_11ea_94ce_80000027fe80row1_col5\" class=\"data row1 col5\" >10952.3</td>\n",
       "            </tr>\n",
       "            <tr>\n",
       "                                <td id=\"T_dc8038f0_11fe_11ea_94ce_80000027fe80row2_col0\" class=\"data row2 col0\" >102</td>\n",
       "                        <td id=\"T_dc8038f0_11fe_11ea_94ce_80000027fe80row2_col1\" class=\"data row2 col1\" >0.805</td>\n",
       "                        <td id=\"T_dc8038f0_11fe_11ea_94ce_80000027fe80row2_col2\" class=\"data row2 col2\" >0.992</td>\n",
       "                        <td id=\"T_dc8038f0_11fe_11ea_94ce_80000027fe80row2_col3\" class=\"data row2 col3\" >5.782</td>\n",
       "                        <td id=\"T_dc8038f0_11fe_11ea_94ce_80000027fe80row2_col4\" class=\"data row2 col4\" >0.644</td>\n",
       "                        <td id=\"T_dc8038f0_11fe_11ea_94ce_80000027fe80row2_col5\" class=\"data row2 col5\" >10968.1</td>\n",
       "            </tr>\n",
       "            <tr>\n",
       "                                <td id=\"T_dc8038f0_11fe_11ea_94ce_80000027fe80row3_col0\" class=\"data row3 col0\" >153</td>\n",
       "                        <td id=\"T_dc8038f0_11fe_11ea_94ce_80000027fe80row3_col1\" class=\"data row3 col1\" >0.759</td>\n",
       "                        <td id=\"T_dc8038f0_11fe_11ea_94ce_80000027fe80row3_col2\" class=\"data row3 col2\" >0.985</td>\n",
       "                        <td id=\"T_dc8038f0_11fe_11ea_94ce_80000027fe80row3_col3\" class=\"data row3 col3\" >5.479</td>\n",
       "                        <td id=\"T_dc8038f0_11fe_11ea_94ce_80000027fe80row3_col4\" class=\"data row3 col4\" >0.712</td>\n",
       "                        <td id=\"T_dc8038f0_11fe_11ea_94ce_80000027fe80row3_col5\" class=\"data row3 col5\" >10933.9</td>\n",
       "            </tr>\n",
       "            <tr>\n",
       "                                <td id=\"T_dc8038f0_11fe_11ea_94ce_80000027fe80row4_col0\" class=\"data row4 col0\" >204</td>\n",
       "                        <td id=\"T_dc8038f0_11fe_11ea_94ce_80000027fe80row4_col1\" class=\"data row4 col1\" >0.705</td>\n",
       "                        <td id=\"T_dc8038f0_11fe_11ea_94ce_80000027fe80row4_col2\" class=\"data row4 col2\" >0.999</td>\n",
       "                        <td id=\"T_dc8038f0_11fe_11ea_94ce_80000027fe80row4_col3\" class=\"data row4 col3\" >5.587</td>\n",
       "                        <td id=\"T_dc8038f0_11fe_11ea_94ce_80000027fe80row4_col4\" class=\"data row4 col4\" >0.632</td>\n",
       "                        <td id=\"T_dc8038f0_11fe_11ea_94ce_80000027fe80row4_col5\" class=\"data row4 col5\" >10942.9</td>\n",
       "            </tr>\n",
       "            <tr>\n",
       "                                <td id=\"T_dc8038f0_11fe_11ea_94ce_80000027fe80row5_col0\" class=\"data row5 col0\" >255</td>\n",
       "                        <td id=\"T_dc8038f0_11fe_11ea_94ce_80000027fe80row5_col1\" class=\"data row5 col1\" >0.669</td>\n",
       "                        <td id=\"T_dc8038f0_11fe_11ea_94ce_80000027fe80row5_col2\" class=\"data row5 col2\" >1</td>\n",
       "                        <td id=\"T_dc8038f0_11fe_11ea_94ce_80000027fe80row5_col3\" class=\"data row5 col3\" >5.529</td>\n",
       "                        <td id=\"T_dc8038f0_11fe_11ea_94ce_80000027fe80row5_col4\" class=\"data row5 col4\" >0.653</td>\n",
       "                        <td id=\"T_dc8038f0_11fe_11ea_94ce_80000027fe80row5_col5\" class=\"data row5 col5\" >10899.6</td>\n",
       "            </tr>\n",
       "    </tbody></table>"
      ],
      "text/plain": [
       "<pandas.io.formats.style.Styler at 0x2b0d201229e8>"
      ]
     },
     "metadata": {},
     "output_type": "display_data"
    },
    {
     "data": {
      "text/html": [
       "<style  type=\"text/css\" >\n",
       "</style><table id=\"T_dc82199a_11fe_11ea_94ce_80000027fe80\" ><thead>    <tr>        <th class=\"col_heading level0 col0\" >std</th>        <th class=\"col_heading level0 col1\" >pipe_0</th>        <th class=\"col_heading level0 col2\" >pipe_1</th>        <th class=\"col_heading level0 col3\" >pipe_2</th>        <th class=\"col_heading level0 col4\" >pipe_3</th>        <th class=\"col_heading level0 col5\" >pipe_4</th>        <th class=\"col_heading level0 col6\" >pipe_5</th>        <th class=\"col_heading level0 col7\" >pipe_6</th>        <th class=\"col_heading level0 col8\" >pipe_7</th>        <th class=\"col_heading level0 col9\" >pipe_8</th>        <th class=\"col_heading level0 col10\" >pipe_9</th>        <th class=\"col_heading level0 col11\" >pipe_10</th>    </tr></thead><tbody>\n",
       "                <tr>\n",
       "                                <td id=\"T_dc82199a_11fe_11ea_94ce_80000027fe80row0_col0\" class=\"data row0 col0\" >0</td>\n",
       "                        <td id=\"T_dc82199a_11fe_11ea_94ce_80000027fe80row0_col1\" class=\"data row0 col1\" >XGBoost_1_AutoML_20191123_223510</td>\n",
       "                        <td id=\"T_dc82199a_11fe_11ea_94ce_80000027fe80row0_col2\" class=\"data row0 col2\" >nan</td>\n",
       "                        <td id=\"T_dc82199a_11fe_11ea_94ce_80000027fe80row0_col3\" class=\"data row0 col3\" >nan</td>\n",
       "                        <td id=\"T_dc82199a_11fe_11ea_94ce_80000027fe80row0_col4\" class=\"data row0 col4\" >nan</td>\n",
       "                        <td id=\"T_dc82199a_11fe_11ea_94ce_80000027fe80row0_col5\" class=\"data row0 col5\" >nan</td>\n",
       "                        <td id=\"T_dc82199a_11fe_11ea_94ce_80000027fe80row0_col6\" class=\"data row0 col6\" >nan</td>\n",
       "                        <td id=\"T_dc82199a_11fe_11ea_94ce_80000027fe80row0_col7\" class=\"data row0 col7\" >nan</td>\n",
       "                        <td id=\"T_dc82199a_11fe_11ea_94ce_80000027fe80row0_col8\" class=\"data row0 col8\" >nan</td>\n",
       "                        <td id=\"T_dc82199a_11fe_11ea_94ce_80000027fe80row0_col9\" class=\"data row0 col9\" >nan</td>\n",
       "                        <td id=\"T_dc82199a_11fe_11ea_94ce_80000027fe80row0_col10\" class=\"data row0 col10\" >nan</td>\n",
       "                        <td id=\"T_dc82199a_11fe_11ea_94ce_80000027fe80row0_col11\" class=\"data row0 col11\" >nan</td>\n",
       "            </tr>\n",
       "            <tr>\n",
       "                                <td id=\"T_dc82199a_11fe_11ea_94ce_80000027fe80row1_col0\" class=\"data row1 col0\" >51</td>\n",
       "                        <td id=\"T_dc82199a_11fe_11ea_94ce_80000027fe80row1_col1\" class=\"data row1 col1\" >StackedEnsemble_AllModels_AutoML_20191124_205652</td>\n",
       "                        <td id=\"T_dc82199a_11fe_11ea_94ce_80000027fe80row1_col2\" class=\"data row1 col2\" >XGBoost_1_AutoML_20191124_205652</td>\n",
       "                        <td id=\"T_dc82199a_11fe_11ea_94ce_80000027fe80row1_col3\" class=\"data row1 col3\" >XGBoost_2_AutoML_20191124_205652</td>\n",
       "                        <td id=\"T_dc82199a_11fe_11ea_94ce_80000027fe80row1_col4\" class=\"data row1 col4\" >XGBoost_3_AutoML_20191124_205652</td>\n",
       "                        <td id=\"T_dc82199a_11fe_11ea_94ce_80000027fe80row1_col5\" class=\"data row1 col5\" >GBM_3_AutoML_20191124_205652</td>\n",
       "                        <td id=\"T_dc82199a_11fe_11ea_94ce_80000027fe80row1_col6\" class=\"data row1 col6\" >GBM_1_AutoML_20191124_205652</td>\n",
       "                        <td id=\"T_dc82199a_11fe_11ea_94ce_80000027fe80row1_col7\" class=\"data row1 col7\" >GBM_2_AutoML_20191124_205652</td>\n",
       "                        <td id=\"T_dc82199a_11fe_11ea_94ce_80000027fe80row1_col8\" class=\"data row1 col8\" >GBM_4_AutoML_20191124_205652</td>\n",
       "                        <td id=\"T_dc82199a_11fe_11ea_94ce_80000027fe80row1_col9\" class=\"data row1 col9\" >GLM_grid_1_AutoML_20191124_205652_model_1</td>\n",
       "                        <td id=\"T_dc82199a_11fe_11ea_94ce_80000027fe80row1_col10\" class=\"data row1 col10\" >DRF_1_AutoML_20191124_205652</td>\n",
       "                        <td id=\"T_dc82199a_11fe_11ea_94ce_80000027fe80row1_col11\" class=\"data row1 col11\" >GBM_5_AutoML_20191124_205652</td>\n",
       "            </tr>\n",
       "            <tr>\n",
       "                                <td id=\"T_dc82199a_11fe_11ea_94ce_80000027fe80row2_col0\" class=\"data row2 col0\" >102</td>\n",
       "                        <td id=\"T_dc82199a_11fe_11ea_94ce_80000027fe80row2_col1\" class=\"data row2 col1\" >StackedEnsemble_AllModels_AutoML_20191125_172611</td>\n",
       "                        <td id=\"T_dc82199a_11fe_11ea_94ce_80000027fe80row2_col2\" class=\"data row2 col2\" >XGBoost_1_AutoML_20191125_172611</td>\n",
       "                        <td id=\"T_dc82199a_11fe_11ea_94ce_80000027fe80row2_col3\" class=\"data row2 col3\" >XGBoost_2_AutoML_20191125_172611</td>\n",
       "                        <td id=\"T_dc82199a_11fe_11ea_94ce_80000027fe80row2_col4\" class=\"data row2 col4\" >XGBoost_3_AutoML_20191125_172611</td>\n",
       "                        <td id=\"T_dc82199a_11fe_11ea_94ce_80000027fe80row2_col5\" class=\"data row2 col5\" >GBM_1_AutoML_20191125_172611</td>\n",
       "                        <td id=\"T_dc82199a_11fe_11ea_94ce_80000027fe80row2_col6\" class=\"data row2 col6\" >GBM_2_AutoML_20191125_172611</td>\n",
       "                        <td id=\"T_dc82199a_11fe_11ea_94ce_80000027fe80row2_col7\" class=\"data row2 col7\" >GLM_grid_1_AutoML_20191125_172611_model_1</td>\n",
       "                        <td id=\"T_dc82199a_11fe_11ea_94ce_80000027fe80row2_col8\" class=\"data row2 col8\" >GBM_3_AutoML_20191125_172611</td>\n",
       "                        <td id=\"T_dc82199a_11fe_11ea_94ce_80000027fe80row2_col9\" class=\"data row2 col9\" >DRF_1_AutoML_20191125_172611</td>\n",
       "                        <td id=\"T_dc82199a_11fe_11ea_94ce_80000027fe80row2_col10\" class=\"data row2 col10\" >nan</td>\n",
       "                        <td id=\"T_dc82199a_11fe_11ea_94ce_80000027fe80row2_col11\" class=\"data row2 col11\" >nan</td>\n",
       "            </tr>\n",
       "            <tr>\n",
       "                                <td id=\"T_dc82199a_11fe_11ea_94ce_80000027fe80row3_col0\" class=\"data row3 col0\" >153</td>\n",
       "                        <td id=\"T_dc82199a_11fe_11ea_94ce_80000027fe80row3_col1\" class=\"data row3 col1\" >StackedEnsemble_BestOfFamily_AutoML_20191126_134807</td>\n",
       "                        <td id=\"T_dc82199a_11fe_11ea_94ce_80000027fe80row3_col2\" class=\"data row3 col2\" >GLM_grid_1_AutoML_20191126_134807_model_1</td>\n",
       "                        <td id=\"T_dc82199a_11fe_11ea_94ce_80000027fe80row3_col3\" class=\"data row3 col3\" >XGBoost_1_AutoML_20191126_134807</td>\n",
       "                        <td id=\"T_dc82199a_11fe_11ea_94ce_80000027fe80row3_col4\" class=\"data row3 col4\" >GBM_1_AutoML_20191126_134807</td>\n",
       "                        <td id=\"T_dc82199a_11fe_11ea_94ce_80000027fe80row3_col5\" class=\"data row3 col5\" >DRF_1_AutoML_20191126_134807</td>\n",
       "                        <td id=\"T_dc82199a_11fe_11ea_94ce_80000027fe80row3_col6\" class=\"data row3 col6\" >nan</td>\n",
       "                        <td id=\"T_dc82199a_11fe_11ea_94ce_80000027fe80row3_col7\" class=\"data row3 col7\" >nan</td>\n",
       "                        <td id=\"T_dc82199a_11fe_11ea_94ce_80000027fe80row3_col8\" class=\"data row3 col8\" >nan</td>\n",
       "                        <td id=\"T_dc82199a_11fe_11ea_94ce_80000027fe80row3_col9\" class=\"data row3 col9\" >nan</td>\n",
       "                        <td id=\"T_dc82199a_11fe_11ea_94ce_80000027fe80row3_col10\" class=\"data row3 col10\" >nan</td>\n",
       "                        <td id=\"T_dc82199a_11fe_11ea_94ce_80000027fe80row3_col11\" class=\"data row3 col11\" >nan</td>\n",
       "            </tr>\n",
       "            <tr>\n",
       "                                <td id=\"T_dc82199a_11fe_11ea_94ce_80000027fe80row4_col0\" class=\"data row4 col0\" >204</td>\n",
       "                        <td id=\"T_dc82199a_11fe_11ea_94ce_80000027fe80row4_col1\" class=\"data row4 col1\" >StackedEnsemble_AllModels_AutoML_20191127_095441</td>\n",
       "                        <td id=\"T_dc82199a_11fe_11ea_94ce_80000027fe80row4_col2\" class=\"data row4 col2\" >XGBoost_1_AutoML_20191127_095441</td>\n",
       "                        <td id=\"T_dc82199a_11fe_11ea_94ce_80000027fe80row4_col3\" class=\"data row4 col3\" >XGBoost_2_AutoML_20191127_095441</td>\n",
       "                        <td id=\"T_dc82199a_11fe_11ea_94ce_80000027fe80row4_col4\" class=\"data row4 col4\" >XGBoost_3_AutoML_20191127_095441</td>\n",
       "                        <td id=\"T_dc82199a_11fe_11ea_94ce_80000027fe80row4_col5\" class=\"data row4 col5\" >GLM_grid_1_AutoML_20191127_095441_model_1</td>\n",
       "                        <td id=\"T_dc82199a_11fe_11ea_94ce_80000027fe80row4_col6\" class=\"data row4 col6\" >nan</td>\n",
       "                        <td id=\"T_dc82199a_11fe_11ea_94ce_80000027fe80row4_col7\" class=\"data row4 col7\" >nan</td>\n",
       "                        <td id=\"T_dc82199a_11fe_11ea_94ce_80000027fe80row4_col8\" class=\"data row4 col8\" >nan</td>\n",
       "                        <td id=\"T_dc82199a_11fe_11ea_94ce_80000027fe80row4_col9\" class=\"data row4 col9\" >nan</td>\n",
       "                        <td id=\"T_dc82199a_11fe_11ea_94ce_80000027fe80row4_col10\" class=\"data row4 col10\" >nan</td>\n",
       "                        <td id=\"T_dc82199a_11fe_11ea_94ce_80000027fe80row4_col11\" class=\"data row4 col11\" >nan</td>\n",
       "            </tr>\n",
       "            <tr>\n",
       "                                <td id=\"T_dc82199a_11fe_11ea_94ce_80000027fe80row5_col0\" class=\"data row5 col0\" >255</td>\n",
       "                        <td id=\"T_dc82199a_11fe_11ea_94ce_80000027fe80row5_col1\" class=\"data row5 col1\" >StackedEnsemble_AllModels_AutoML_20191128_062409</td>\n",
       "                        <td id=\"T_dc82199a_11fe_11ea_94ce_80000027fe80row5_col2\" class=\"data row5 col2\" >XGBoost_1_AutoML_20191128_062409</td>\n",
       "                        <td id=\"T_dc82199a_11fe_11ea_94ce_80000027fe80row5_col3\" class=\"data row5 col3\" >XGBoost_2_AutoML_20191128_062409</td>\n",
       "                        <td id=\"T_dc82199a_11fe_11ea_94ce_80000027fe80row5_col4\" class=\"data row5 col4\" >nan</td>\n",
       "                        <td id=\"T_dc82199a_11fe_11ea_94ce_80000027fe80row5_col5\" class=\"data row5 col5\" >nan</td>\n",
       "                        <td id=\"T_dc82199a_11fe_11ea_94ce_80000027fe80row5_col6\" class=\"data row5 col6\" >nan</td>\n",
       "                        <td id=\"T_dc82199a_11fe_11ea_94ce_80000027fe80row5_col7\" class=\"data row5 col7\" >nan</td>\n",
       "                        <td id=\"T_dc82199a_11fe_11ea_94ce_80000027fe80row5_col8\" class=\"data row5 col8\" >nan</td>\n",
       "                        <td id=\"T_dc82199a_11fe_11ea_94ce_80000027fe80row5_col9\" class=\"data row5 col9\" >nan</td>\n",
       "                        <td id=\"T_dc82199a_11fe_11ea_94ce_80000027fe80row5_col10\" class=\"data row5 col10\" >nan</td>\n",
       "                        <td id=\"T_dc82199a_11fe_11ea_94ce_80000027fe80row5_col11\" class=\"data row5 col11\" >nan</td>\n",
       "            </tr>\n",
       "    </tbody></table>"
      ],
      "text/plain": [
       "<pandas.io.formats.style.Styler at 0x2b0d223124e0>"
      ]
     },
     "metadata": {},
     "output_type": "display_data"
    },
    {
     "data": {
      "text/plain": [
       "'H2OAutoMLClean #1'"
      ]
     },
     "metadata": {},
     "output_type": "display_data"
    },
    {
     "data": {
      "text/html": [
       "<style  type=\"text/css\" >\n",
       "</style><table id=\"T_dc8380c8_11fe_11ea_94ce_80000027fe80\" ><thead>    <tr>        <th class=\"col_heading level0 col0\" >std</th>        <th class=\"col_heading level0 col1\" >test_acc</th>        <th class=\"col_heading level0 col2\" >train_acc</th>        <th class=\"col_heading level0 col3\" >time_err</th>        <th class=\"col_heading level0 col4\" >time_pre</th>        <th class=\"col_heading level0 col5\" >time_mod</th>    </tr></thead><tbody>\n",
       "                <tr>\n",
       "                                <td id=\"T_dc8380c8_11fe_11ea_94ce_80000027fe80row0_col0\" class=\"data row0 col0\" >0</td>\n",
       "                        <td id=\"T_dc8380c8_11fe_11ea_94ce_80000027fe80row0_col1\" class=\"data row0 col1\" >0.901</td>\n",
       "                        <td id=\"T_dc8380c8_11fe_11ea_94ce_80000027fe80row0_col2\" class=\"data row0 col2\" >1</td>\n",
       "                        <td id=\"T_dc8380c8_11fe_11ea_94ce_80000027fe80row0_col3\" class=\"data row0 col3\" >5.311</td>\n",
       "                        <td id=\"T_dc8380c8_11fe_11ea_94ce_80000027fe80row0_col4\" class=\"data row0 col4\" >0.657</td>\n",
       "                        <td id=\"T_dc8380c8_11fe_11ea_94ce_80000027fe80row0_col5\" class=\"data row0 col5\" >10935.2</td>\n",
       "            </tr>\n",
       "            <tr>\n",
       "                                <td id=\"T_dc8380c8_11fe_11ea_94ce_80000027fe80row1_col0\" class=\"data row1 col0\" >51</td>\n",
       "                        <td id=\"T_dc8380c8_11fe_11ea_94ce_80000027fe80row1_col1\" class=\"data row1 col1\" >0.656</td>\n",
       "                        <td id=\"T_dc8380c8_11fe_11ea_94ce_80000027fe80row1_col2\" class=\"data row1 col2\" >1</td>\n",
       "                        <td id=\"T_dc8380c8_11fe_11ea_94ce_80000027fe80row1_col3\" class=\"data row1 col3\" >5.583</td>\n",
       "                        <td id=\"T_dc8380c8_11fe_11ea_94ce_80000027fe80row1_col4\" class=\"data row1 col4\" >0.672</td>\n",
       "                        <td id=\"T_dc8380c8_11fe_11ea_94ce_80000027fe80row1_col5\" class=\"data row1 col5\" >10970.9</td>\n",
       "            </tr>\n",
       "            <tr>\n",
       "                                <td id=\"T_dc8380c8_11fe_11ea_94ce_80000027fe80row2_col0\" class=\"data row2 col0\" >102</td>\n",
       "                        <td id=\"T_dc8380c8_11fe_11ea_94ce_80000027fe80row2_col1\" class=\"data row2 col1\" >0.447</td>\n",
       "                        <td id=\"T_dc8380c8_11fe_11ea_94ce_80000027fe80row2_col2\" class=\"data row2 col2\" >1</td>\n",
       "                        <td id=\"T_dc8380c8_11fe_11ea_94ce_80000027fe80row2_col3\" class=\"data row2 col3\" >5.782</td>\n",
       "                        <td id=\"T_dc8380c8_11fe_11ea_94ce_80000027fe80row2_col4\" class=\"data row2 col4\" >0.644</td>\n",
       "                        <td id=\"T_dc8380c8_11fe_11ea_94ce_80000027fe80row2_col5\" class=\"data row2 col5\" >10944.7</td>\n",
       "            </tr>\n",
       "            <tr>\n",
       "                                <td id=\"T_dc8380c8_11fe_11ea_94ce_80000027fe80row3_col0\" class=\"data row3 col0\" >153</td>\n",
       "                        <td id=\"T_dc8380c8_11fe_11ea_94ce_80000027fe80row3_col1\" class=\"data row3 col1\" >0.316</td>\n",
       "                        <td id=\"T_dc8380c8_11fe_11ea_94ce_80000027fe80row3_col2\" class=\"data row3 col2\" >1</td>\n",
       "                        <td id=\"T_dc8380c8_11fe_11ea_94ce_80000027fe80row3_col3\" class=\"data row3 col3\" >5.479</td>\n",
       "                        <td id=\"T_dc8380c8_11fe_11ea_94ce_80000027fe80row3_col4\" class=\"data row3 col4\" >0.712</td>\n",
       "                        <td id=\"T_dc8380c8_11fe_11ea_94ce_80000027fe80row3_col5\" class=\"data row3 col5\" >10942.1</td>\n",
       "            </tr>\n",
       "            <tr>\n",
       "                                <td id=\"T_dc8380c8_11fe_11ea_94ce_80000027fe80row4_col0\" class=\"data row4 col0\" >204</td>\n",
       "                        <td id=\"T_dc8380c8_11fe_11ea_94ce_80000027fe80row4_col1\" class=\"data row4 col1\" >0.232</td>\n",
       "                        <td id=\"T_dc8380c8_11fe_11ea_94ce_80000027fe80row4_col2\" class=\"data row4 col2\" >0.999</td>\n",
       "                        <td id=\"T_dc8380c8_11fe_11ea_94ce_80000027fe80row4_col3\" class=\"data row4 col3\" >5.587</td>\n",
       "                        <td id=\"T_dc8380c8_11fe_11ea_94ce_80000027fe80row4_col4\" class=\"data row4 col4\" >0.632</td>\n",
       "                        <td id=\"T_dc8380c8_11fe_11ea_94ce_80000027fe80row4_col5\" class=\"data row4 col5\" >10998.7</td>\n",
       "            </tr>\n",
       "            <tr>\n",
       "                                <td id=\"T_dc8380c8_11fe_11ea_94ce_80000027fe80row5_col0\" class=\"data row5 col0\" >255</td>\n",
       "                        <td id=\"T_dc8380c8_11fe_11ea_94ce_80000027fe80row5_col1\" class=\"data row5 col1\" >0.206</td>\n",
       "                        <td id=\"T_dc8380c8_11fe_11ea_94ce_80000027fe80row5_col2\" class=\"data row5 col2\" >1</td>\n",
       "                        <td id=\"T_dc8380c8_11fe_11ea_94ce_80000027fe80row5_col3\" class=\"data row5 col3\" >5.529</td>\n",
       "                        <td id=\"T_dc8380c8_11fe_11ea_94ce_80000027fe80row5_col4\" class=\"data row5 col4\" >0.653</td>\n",
       "                        <td id=\"T_dc8380c8_11fe_11ea_94ce_80000027fe80row5_col5\" class=\"data row5 col5\" >10976.3</td>\n",
       "            </tr>\n",
       "    </tbody></table>"
      ],
      "text/plain": [
       "<pandas.io.formats.style.Styler at 0x2b0d20122f28>"
      ]
     },
     "metadata": {},
     "output_type": "display_data"
    },
    {
     "data": {
      "text/html": [
       "<style  type=\"text/css\" >\n",
       "</style><table id=\"T_dc84d496_11fe_11ea_94ce_80000027fe80\" ><thead>    <tr>        <th class=\"col_heading level0 col0\" >std</th>        <th class=\"col_heading level0 col1\" >pipe_0</th>        <th class=\"col_heading level0 col2\" >pipe_1</th>        <th class=\"col_heading level0 col3\" >pipe_2</th>        <th class=\"col_heading level0 col4\" >pipe_3</th>        <th class=\"col_heading level0 col5\" >pipe_4</th>        <th class=\"col_heading level0 col6\" >pipe_5</th>        <th class=\"col_heading level0 col7\" >pipe_6</th>        <th class=\"col_heading level0 col8\" >pipe_7</th>        <th class=\"col_heading level0 col9\" >pipe_8</th>        <th class=\"col_heading level0 col10\" >pipe_9</th>        <th class=\"col_heading level0 col11\" >pipe_10</th>        <th class=\"col_heading level0 col12\" >pipe_11</th>    </tr></thead><tbody>\n",
       "                <tr>\n",
       "                                <td id=\"T_dc84d496_11fe_11ea_94ce_80000027fe80row0_col0\" class=\"data row0 col0\" >0</td>\n",
       "                        <td id=\"T_dc84d496_11fe_11ea_94ce_80000027fe80row0_col1\" class=\"data row0 col1\" >XGBoost_1_AutoML_20191124_013757</td>\n",
       "                        <td id=\"T_dc84d496_11fe_11ea_94ce_80000027fe80row0_col2\" class=\"data row0 col2\" >nan</td>\n",
       "                        <td id=\"T_dc84d496_11fe_11ea_94ce_80000027fe80row0_col3\" class=\"data row0 col3\" >nan</td>\n",
       "                        <td id=\"T_dc84d496_11fe_11ea_94ce_80000027fe80row0_col4\" class=\"data row0 col4\" >nan</td>\n",
       "                        <td id=\"T_dc84d496_11fe_11ea_94ce_80000027fe80row0_col5\" class=\"data row0 col5\" >nan</td>\n",
       "                        <td id=\"T_dc84d496_11fe_11ea_94ce_80000027fe80row0_col6\" class=\"data row0 col6\" >nan</td>\n",
       "                        <td id=\"T_dc84d496_11fe_11ea_94ce_80000027fe80row0_col7\" class=\"data row0 col7\" >nan</td>\n",
       "                        <td id=\"T_dc84d496_11fe_11ea_94ce_80000027fe80row0_col8\" class=\"data row0 col8\" >nan</td>\n",
       "                        <td id=\"T_dc84d496_11fe_11ea_94ce_80000027fe80row0_col9\" class=\"data row0 col9\" >nan</td>\n",
       "                        <td id=\"T_dc84d496_11fe_11ea_94ce_80000027fe80row0_col10\" class=\"data row0 col10\" >nan</td>\n",
       "                        <td id=\"T_dc84d496_11fe_11ea_94ce_80000027fe80row0_col11\" class=\"data row0 col11\" >nan</td>\n",
       "                        <td id=\"T_dc84d496_11fe_11ea_94ce_80000027fe80row0_col12\" class=\"data row0 col12\" >nan</td>\n",
       "            </tr>\n",
       "            <tr>\n",
       "                                <td id=\"T_dc84d496_11fe_11ea_94ce_80000027fe80row1_col0\" class=\"data row1 col0\" >51</td>\n",
       "                        <td id=\"T_dc84d496_11fe_11ea_94ce_80000027fe80row1_col1\" class=\"data row1 col1\" >XGBoost_1_AutoML_20191124_235926</td>\n",
       "                        <td id=\"T_dc84d496_11fe_11ea_94ce_80000027fe80row1_col2\" class=\"data row1 col2\" >nan</td>\n",
       "                        <td id=\"T_dc84d496_11fe_11ea_94ce_80000027fe80row1_col3\" class=\"data row1 col3\" >nan</td>\n",
       "                        <td id=\"T_dc84d496_11fe_11ea_94ce_80000027fe80row1_col4\" class=\"data row1 col4\" >nan</td>\n",
       "                        <td id=\"T_dc84d496_11fe_11ea_94ce_80000027fe80row1_col5\" class=\"data row1 col5\" >nan</td>\n",
       "                        <td id=\"T_dc84d496_11fe_11ea_94ce_80000027fe80row1_col6\" class=\"data row1 col6\" >nan</td>\n",
       "                        <td id=\"T_dc84d496_11fe_11ea_94ce_80000027fe80row1_col7\" class=\"data row1 col7\" >nan</td>\n",
       "                        <td id=\"T_dc84d496_11fe_11ea_94ce_80000027fe80row1_col8\" class=\"data row1 col8\" >nan</td>\n",
       "                        <td id=\"T_dc84d496_11fe_11ea_94ce_80000027fe80row1_col9\" class=\"data row1 col9\" >nan</td>\n",
       "                        <td id=\"T_dc84d496_11fe_11ea_94ce_80000027fe80row1_col10\" class=\"data row1 col10\" >nan</td>\n",
       "                        <td id=\"T_dc84d496_11fe_11ea_94ce_80000027fe80row1_col11\" class=\"data row1 col11\" >nan</td>\n",
       "                        <td id=\"T_dc84d496_11fe_11ea_94ce_80000027fe80row1_col12\" class=\"data row1 col12\" >nan</td>\n",
       "            </tr>\n",
       "            <tr>\n",
       "                                <td id=\"T_dc84d496_11fe_11ea_94ce_80000027fe80row2_col0\" class=\"data row2 col0\" >102</td>\n",
       "                        <td id=\"T_dc84d496_11fe_11ea_94ce_80000027fe80row2_col1\" class=\"data row2 col1\" >XGBoost_1_AutoML_20191125_202900</td>\n",
       "                        <td id=\"T_dc84d496_11fe_11ea_94ce_80000027fe80row2_col2\" class=\"data row2 col2\" >nan</td>\n",
       "                        <td id=\"T_dc84d496_11fe_11ea_94ce_80000027fe80row2_col3\" class=\"data row2 col3\" >nan</td>\n",
       "                        <td id=\"T_dc84d496_11fe_11ea_94ce_80000027fe80row2_col4\" class=\"data row2 col4\" >nan</td>\n",
       "                        <td id=\"T_dc84d496_11fe_11ea_94ce_80000027fe80row2_col5\" class=\"data row2 col5\" >nan</td>\n",
       "                        <td id=\"T_dc84d496_11fe_11ea_94ce_80000027fe80row2_col6\" class=\"data row2 col6\" >nan</td>\n",
       "                        <td id=\"T_dc84d496_11fe_11ea_94ce_80000027fe80row2_col7\" class=\"data row2 col7\" >nan</td>\n",
       "                        <td id=\"T_dc84d496_11fe_11ea_94ce_80000027fe80row2_col8\" class=\"data row2 col8\" >nan</td>\n",
       "                        <td id=\"T_dc84d496_11fe_11ea_94ce_80000027fe80row2_col9\" class=\"data row2 col9\" >nan</td>\n",
       "                        <td id=\"T_dc84d496_11fe_11ea_94ce_80000027fe80row2_col10\" class=\"data row2 col10\" >nan</td>\n",
       "                        <td id=\"T_dc84d496_11fe_11ea_94ce_80000027fe80row2_col11\" class=\"data row2 col11\" >nan</td>\n",
       "                        <td id=\"T_dc84d496_11fe_11ea_94ce_80000027fe80row2_col12\" class=\"data row2 col12\" >nan</td>\n",
       "            </tr>\n",
       "            <tr>\n",
       "                                <td id=\"T_dc84d496_11fe_11ea_94ce_80000027fe80row3_col0\" class=\"data row3 col0\" >153</td>\n",
       "                        <td id=\"T_dc84d496_11fe_11ea_94ce_80000027fe80row3_col1\" class=\"data row3 col1\" >XGBoost_1_AutoML_20191126_165023</td>\n",
       "                        <td id=\"T_dc84d496_11fe_11ea_94ce_80000027fe80row3_col2\" class=\"data row3 col2\" >nan</td>\n",
       "                        <td id=\"T_dc84d496_11fe_11ea_94ce_80000027fe80row3_col3\" class=\"data row3 col3\" >nan</td>\n",
       "                        <td id=\"T_dc84d496_11fe_11ea_94ce_80000027fe80row3_col4\" class=\"data row3 col4\" >nan</td>\n",
       "                        <td id=\"T_dc84d496_11fe_11ea_94ce_80000027fe80row3_col5\" class=\"data row3 col5\" >nan</td>\n",
       "                        <td id=\"T_dc84d496_11fe_11ea_94ce_80000027fe80row3_col6\" class=\"data row3 col6\" >nan</td>\n",
       "                        <td id=\"T_dc84d496_11fe_11ea_94ce_80000027fe80row3_col7\" class=\"data row3 col7\" >nan</td>\n",
       "                        <td id=\"T_dc84d496_11fe_11ea_94ce_80000027fe80row3_col8\" class=\"data row3 col8\" >nan</td>\n",
       "                        <td id=\"T_dc84d496_11fe_11ea_94ce_80000027fe80row3_col9\" class=\"data row3 col9\" >nan</td>\n",
       "                        <td id=\"T_dc84d496_11fe_11ea_94ce_80000027fe80row3_col10\" class=\"data row3 col10\" >nan</td>\n",
       "                        <td id=\"T_dc84d496_11fe_11ea_94ce_80000027fe80row3_col11\" class=\"data row3 col11\" >nan</td>\n",
       "                        <td id=\"T_dc84d496_11fe_11ea_94ce_80000027fe80row3_col12\" class=\"data row3 col12\" >nan</td>\n",
       "            </tr>\n",
       "            <tr>\n",
       "                                <td id=\"T_dc84d496_11fe_11ea_94ce_80000027fe80row4_col0\" class=\"data row4 col0\" >204</td>\n",
       "                        <td id=\"T_dc84d496_11fe_11ea_94ce_80000027fe80row4_col1\" class=\"data row4 col1\" >StackedEnsemble_AllModels_AutoML_20191127_125706</td>\n",
       "                        <td id=\"T_dc84d496_11fe_11ea_94ce_80000027fe80row4_col2\" class=\"data row4 col2\" >XGBoost_1_AutoML_20191127_125706</td>\n",
       "                        <td id=\"T_dc84d496_11fe_11ea_94ce_80000027fe80row4_col3\" class=\"data row4 col3\" >XGBoost_2_AutoML_20191127_125706</td>\n",
       "                        <td id=\"T_dc84d496_11fe_11ea_94ce_80000027fe80row4_col4\" class=\"data row4 col4\" >GBM_4_AutoML_20191127_125706</td>\n",
       "                        <td id=\"T_dc84d496_11fe_11ea_94ce_80000027fe80row4_col5\" class=\"data row4 col5\" >XGBoost_3_AutoML_20191127_125706</td>\n",
       "                        <td id=\"T_dc84d496_11fe_11ea_94ce_80000027fe80row4_col6\" class=\"data row4 col6\" >GBM_3_AutoML_20191127_125706</td>\n",
       "                        <td id=\"T_dc84d496_11fe_11ea_94ce_80000027fe80row4_col7\" class=\"data row4 col7\" >GBM_2_AutoML_20191127_125706</td>\n",
       "                        <td id=\"T_dc84d496_11fe_11ea_94ce_80000027fe80row4_col8\" class=\"data row4 col8\" >GBM_1_AutoML_20191127_125706</td>\n",
       "                        <td id=\"T_dc84d496_11fe_11ea_94ce_80000027fe80row4_col9\" class=\"data row4 col9\" >GBM_5_AutoML_20191127_125706</td>\n",
       "                        <td id=\"T_dc84d496_11fe_11ea_94ce_80000027fe80row4_col10\" class=\"data row4 col10\" >DRF_1_AutoML_20191127_125706</td>\n",
       "                        <td id=\"T_dc84d496_11fe_11ea_94ce_80000027fe80row4_col11\" class=\"data row4 col11\" >GLM_grid_1_AutoML_20191127_125706_model_1</td>\n",
       "                        <td id=\"T_dc84d496_11fe_11ea_94ce_80000027fe80row4_col12\" class=\"data row4 col12\" >DeepLearning_1_AutoML_20191127_125706</td>\n",
       "            </tr>\n",
       "            <tr>\n",
       "                                <td id=\"T_dc84d496_11fe_11ea_94ce_80000027fe80row5_col0\" class=\"data row5 col0\" >255</td>\n",
       "                        <td id=\"T_dc84d496_11fe_11ea_94ce_80000027fe80row5_col1\" class=\"data row5 col1\" >XGBoost_1_AutoML_20191128_092548</td>\n",
       "                        <td id=\"T_dc84d496_11fe_11ea_94ce_80000027fe80row5_col2\" class=\"data row5 col2\" >nan</td>\n",
       "                        <td id=\"T_dc84d496_11fe_11ea_94ce_80000027fe80row5_col3\" class=\"data row5 col3\" >nan</td>\n",
       "                        <td id=\"T_dc84d496_11fe_11ea_94ce_80000027fe80row5_col4\" class=\"data row5 col4\" >nan</td>\n",
       "                        <td id=\"T_dc84d496_11fe_11ea_94ce_80000027fe80row5_col5\" class=\"data row5 col5\" >nan</td>\n",
       "                        <td id=\"T_dc84d496_11fe_11ea_94ce_80000027fe80row5_col6\" class=\"data row5 col6\" >nan</td>\n",
       "                        <td id=\"T_dc84d496_11fe_11ea_94ce_80000027fe80row5_col7\" class=\"data row5 col7\" >nan</td>\n",
       "                        <td id=\"T_dc84d496_11fe_11ea_94ce_80000027fe80row5_col8\" class=\"data row5 col8\" >nan</td>\n",
       "                        <td id=\"T_dc84d496_11fe_11ea_94ce_80000027fe80row5_col9\" class=\"data row5 col9\" >nan</td>\n",
       "                        <td id=\"T_dc84d496_11fe_11ea_94ce_80000027fe80row5_col10\" class=\"data row5 col10\" >nan</td>\n",
       "                        <td id=\"T_dc84d496_11fe_11ea_94ce_80000027fe80row5_col11\" class=\"data row5 col11\" >nan</td>\n",
       "                        <td id=\"T_dc84d496_11fe_11ea_94ce_80000027fe80row5_col12\" class=\"data row5 col12\" >nan</td>\n",
       "            </tr>\n",
       "    </tbody></table>"
      ],
      "text/plain": [
       "<pandas.io.formats.style.Styler at 0x2b0d0362c390>"
      ]
     },
     "metadata": {},
     "output_type": "display_data"
    },
    {
     "data": {
      "text/plain": [
       "'TPOTClassifier #1'"
      ]
     },
     "metadata": {},
     "output_type": "display_data"
    },
    {
     "data": {
      "text/html": [
       "<style  type=\"text/css\" >\n",
       "</style><table id=\"T_dc85fb14_11fe_11ea_94ce_80000027fe80\" ><thead>    <tr>        <th class=\"col_heading level0 col0\" >std</th>        <th class=\"col_heading level0 col1\" >test_acc</th>        <th class=\"col_heading level0 col2\" >train_acc</th>        <th class=\"col_heading level0 col3\" >time_err</th>        <th class=\"col_heading level0 col4\" >time_pre</th>        <th class=\"col_heading level0 col5\" >time_mod</th>    </tr></thead><tbody>\n",
       "                <tr>\n",
       "                                <td id=\"T_dc85fb14_11fe_11ea_94ce_80000027fe80row0_col0\" class=\"data row0 col0\" >0</td>\n",
       "                        <td id=\"T_dc85fb14_11fe_11ea_94ce_80000027fe80row0_col1\" class=\"data row0 col1\" >0.882</td>\n",
       "                        <td id=\"T_dc85fb14_11fe_11ea_94ce_80000027fe80row0_col2\" class=\"data row0 col2\" >1</td>\n",
       "                        <td id=\"T_dc85fb14_11fe_11ea_94ce_80000027fe80row0_col3\" class=\"data row0 col3\" >5.311</td>\n",
       "                        <td id=\"T_dc85fb14_11fe_11ea_94ce_80000027fe80row0_col4\" class=\"data row0 col4\" >0.657</td>\n",
       "                        <td id=\"T_dc85fb14_11fe_11ea_94ce_80000027fe80row0_col5\" class=\"data row0 col5\" >17904.6</td>\n",
       "            </tr>\n",
       "            <tr>\n",
       "                                <td id=\"T_dc85fb14_11fe_11ea_94ce_80000027fe80row1_col0\" class=\"data row1 col0\" >51</td>\n",
       "                        <td id=\"T_dc85fb14_11fe_11ea_94ce_80000027fe80row1_col1\" class=\"data row1 col1\" >0.834</td>\n",
       "                        <td id=\"T_dc85fb14_11fe_11ea_94ce_80000027fe80row1_col2\" class=\"data row1 col2\" >1</td>\n",
       "                        <td id=\"T_dc85fb14_11fe_11ea_94ce_80000027fe80row1_col3\" class=\"data row1 col3\" >5.583</td>\n",
       "                        <td id=\"T_dc85fb14_11fe_11ea_94ce_80000027fe80row1_col4\" class=\"data row1 col4\" >0.672</td>\n",
       "                        <td id=\"T_dc85fb14_11fe_11ea_94ce_80000027fe80row1_col5\" class=\"data row1 col5\" >18912.2</td>\n",
       "            </tr>\n",
       "            <tr>\n",
       "                                <td id=\"T_dc85fb14_11fe_11ea_94ce_80000027fe80row2_col0\" class=\"data row2 col0\" >102</td>\n",
       "                        <td id=\"T_dc85fb14_11fe_11ea_94ce_80000027fe80row2_col1\" class=\"data row2 col1\" >0.774</td>\n",
       "                        <td id=\"T_dc85fb14_11fe_11ea_94ce_80000027fe80row2_col2\" class=\"data row2 col2\" >0.812</td>\n",
       "                        <td id=\"T_dc85fb14_11fe_11ea_94ce_80000027fe80row2_col3\" class=\"data row2 col3\" >5.782</td>\n",
       "                        <td id=\"T_dc85fb14_11fe_11ea_94ce_80000027fe80row2_col4\" class=\"data row2 col4\" >0.644</td>\n",
       "                        <td id=\"T_dc85fb14_11fe_11ea_94ce_80000027fe80row2_col5\" class=\"data row2 col5\" >11085.5</td>\n",
       "            </tr>\n",
       "            <tr>\n",
       "                                <td id=\"T_dc85fb14_11fe_11ea_94ce_80000027fe80row3_col0\" class=\"data row3 col0\" >153</td>\n",
       "                        <td id=\"T_dc85fb14_11fe_11ea_94ce_80000027fe80row3_col1\" class=\"data row3 col1\" >0.746</td>\n",
       "                        <td id=\"T_dc85fb14_11fe_11ea_94ce_80000027fe80row3_col2\" class=\"data row3 col2\" >0.782</td>\n",
       "                        <td id=\"T_dc85fb14_11fe_11ea_94ce_80000027fe80row3_col3\" class=\"data row3 col3\" >5.479</td>\n",
       "                        <td id=\"T_dc85fb14_11fe_11ea_94ce_80000027fe80row3_col4\" class=\"data row3 col4\" >0.712</td>\n",
       "                        <td id=\"T_dc85fb14_11fe_11ea_94ce_80000027fe80row3_col5\" class=\"data row3 col5\" >11461.1</td>\n",
       "            </tr>\n",
       "            <tr>\n",
       "                                <td id=\"T_dc85fb14_11fe_11ea_94ce_80000027fe80row4_col0\" class=\"data row4 col0\" >204</td>\n",
       "                        <td id=\"T_dc85fb14_11fe_11ea_94ce_80000027fe80row4_col1\" class=\"data row4 col1\" >0.702</td>\n",
       "                        <td id=\"T_dc85fb14_11fe_11ea_94ce_80000027fe80row4_col2\" class=\"data row4 col2\" >0.743</td>\n",
       "                        <td id=\"T_dc85fb14_11fe_11ea_94ce_80000027fe80row4_col3\" class=\"data row4 col3\" >5.587</td>\n",
       "                        <td id=\"T_dc85fb14_11fe_11ea_94ce_80000027fe80row4_col4\" class=\"data row4 col4\" >0.632</td>\n",
       "                        <td id=\"T_dc85fb14_11fe_11ea_94ce_80000027fe80row4_col5\" class=\"data row4 col5\" >11516.9</td>\n",
       "            </tr>\n",
       "            <tr>\n",
       "                                <td id=\"T_dc85fb14_11fe_11ea_94ce_80000027fe80row5_col0\" class=\"data row5 col0\" >255</td>\n",
       "                        <td id=\"T_dc85fb14_11fe_11ea_94ce_80000027fe80row5_col1\" class=\"data row5 col1\" >0.666</td>\n",
       "                        <td id=\"T_dc85fb14_11fe_11ea_94ce_80000027fe80row5_col2\" class=\"data row5 col2\" >0.708</td>\n",
       "                        <td id=\"T_dc85fb14_11fe_11ea_94ce_80000027fe80row5_col3\" class=\"data row5 col3\" >5.529</td>\n",
       "                        <td id=\"T_dc85fb14_11fe_11ea_94ce_80000027fe80row5_col4\" class=\"data row5 col4\" >0.653</td>\n",
       "                        <td id=\"T_dc85fb14_11fe_11ea_94ce_80000027fe80row5_col5\" class=\"data row5 col5\" >11595.9</td>\n",
       "            </tr>\n",
       "    </tbody></table>"
      ],
      "text/plain": [
       "<pandas.io.formats.style.Styler at 0x2b0d20122278>"
      ]
     },
     "metadata": {},
     "output_type": "display_data"
    },
    {
     "data": {
      "text/html": [
       "<style  type=\"text/css\" >\n",
       "</style><table id=\"T_dc872034_11fe_11ea_94ce_80000027fe80\" ><thead>    <tr>        <th class=\"col_heading level0 col0\" >std</th>        <th class=\"col_heading level0 col1\" >pipe_0</th>        <th class=\"col_heading level0 col2\" >pipe_1</th>    </tr></thead><tbody>\n",
       "                <tr>\n",
       "                                <td id=\"T_dc872034_11fe_11ea_94ce_80000027fe80row0_col0\" class=\"data row0 col0\" >0</td>\n",
       "                        <td id=\"T_dc872034_11fe_11ea_94ce_80000027fe80row0_col1\" class=\"data row0 col1\" >RFE(estimator=ExtraTreesClassifier(bootstrap=False, class_weight=None,\n",
       "                                   criterion='gini', max_depth=None,\n",
       "                                   max_features=0.45, max_leaf_nodes=None,\n",
       "                                   min_impurity_decrease=0.0,\n",
       "                                   min_impurity_split=None, min_samples_leaf=1,\n",
       "                                   min_samples_split=2,\n",
       "                                   min_weight_fraction_leaf=0.0,\n",
       "                                   n_estimators=100, n_jobs=None,\n",
       "                                   oob_score=False, random_state=42, verbose=0,\n",
       "                                   warm_start=False),\n",
       "    n_features_to_select=None, step=0.8, verbose=0)</td>\n",
       "                        <td id=\"T_dc872034_11fe_11ea_94ce_80000027fe80row0_col2\" class=\"data row0 col2\" >GradientBoostingClassifier(criterion='friedman_mse', init=None,\n",
       "                           learning_rate=0.1, loss='deviance', max_depth=10,\n",
       "                           max_features=0.05, max_leaf_nodes=None,\n",
       "                           min_impurity_decrease=0.0, min_impurity_split=None,\n",
       "                           min_samples_leaf=11, min_samples_split=9,\n",
       "                           min_weight_fraction_leaf=0.0, n_estimators=100,\n",
       "                           n_iter_no_change=None, presort='auto',\n",
       "                           random_state=42, subsample=0.35000000000000003,\n",
       "                           tol=0.0001, validation_fraction=0.1, verbose=0,\n",
       "                           warm_start=False)</td>\n",
       "            </tr>\n",
       "            <tr>\n",
       "                                <td id=\"T_dc872034_11fe_11ea_94ce_80000027fe80row1_col0\" class=\"data row1 col0\" >51</td>\n",
       "                        <td id=\"T_dc872034_11fe_11ea_94ce_80000027fe80row1_col1\" class=\"data row1 col1\" >StackingEstimator(estimator=GradientBoostingClassifier(criterion='friedman_mse',\n",
       "                                                       init=None,\n",
       "                                                       learning_rate=0.01,\n",
       "                                                       loss='deviance',\n",
       "                                                       max_depth=1,\n",
       "                                                       max_features=0.45,\n",
       "                                                       max_leaf_nodes=None,\n",
       "                                                       min_impurity_decrease=0.0,\n",
       "                                                       min_impurity_split=None,\n",
       "                                                       min_samples_leaf=19,\n",
       "                                                       min_samples_split=11,\n",
       "                                                       min_weight_fraction_leaf=0.0,\n",
       "                                                       n_estimators=100,\n",
       "                                                       n_iter_no_change=None,\n",
       "                                                       presort='auto',\n",
       "                                                       random_state=42,\n",
       "                                                       subsample=0.45,\n",
       "                                                       tol=0.0001,\n",
       "                                                       validation_fraction=0.1,\n",
       "                                                       verbose=0,\n",
       "                                                       warm_start=False))</td>\n",
       "                        <td id=\"T_dc872034_11fe_11ea_94ce_80000027fe80row1_col2\" class=\"data row1 col2\" >KNeighborsClassifier(algorithm='auto', leaf_size=30, metric='minkowski',\n",
       "                     metric_params=None, n_jobs=None, n_neighbors=3, p=2,\n",
       "                     weights='distance')</td>\n",
       "            </tr>\n",
       "            <tr>\n",
       "                                <td id=\"T_dc872034_11fe_11ea_94ce_80000027fe80row2_col0\" class=\"data row2 col0\" >102</td>\n",
       "                        <td id=\"T_dc872034_11fe_11ea_94ce_80000027fe80row2_col1\" class=\"data row2 col1\" >MinMaxScaler(copy=True, feature_range=(0, 1))</td>\n",
       "                        <td id=\"T_dc872034_11fe_11ea_94ce_80000027fe80row2_col2\" class=\"data row2 col2\" >LinearSVC(C=20.0, class_weight=None, dual=False, fit_intercept=True,\n",
       "          intercept_scaling=1, loss='squared_hinge', max_iter=1000,\n",
       "          multi_class='ovr', penalty='l2', random_state=42, tol=1e-05,\n",
       "          verbose=0)</td>\n",
       "            </tr>\n",
       "            <tr>\n",
       "                                <td id=\"T_dc872034_11fe_11ea_94ce_80000027fe80row3_col0\" class=\"data row3 col0\" >153</td>\n",
       "                        <td id=\"T_dc872034_11fe_11ea_94ce_80000027fe80row3_col1\" class=\"data row3 col1\" >LogisticRegression(C=25.0, class_weight=None, dual=False, fit_intercept=True,\n",
       "                   intercept_scaling=1, l1_ratio=None, max_iter=100,\n",
       "                   multi_class='warn', n_jobs=None, penalty='l1',\n",
       "                   random_state=42, solver='warn', tol=0.0001, verbose=0,\n",
       "                   warm_start=False)</td>\n",
       "                        <td id=\"T_dc872034_11fe_11ea_94ce_80000027fe80row3_col2\" class=\"data row3 col2\" >nan</td>\n",
       "            </tr>\n",
       "            <tr>\n",
       "                                <td id=\"T_dc872034_11fe_11ea_94ce_80000027fe80row4_col0\" class=\"data row4 col0\" >204</td>\n",
       "                        <td id=\"T_dc872034_11fe_11ea_94ce_80000027fe80row4_col1\" class=\"data row4 col1\" >LogisticRegression(C=25.0, class_weight=None, dual=False, fit_intercept=True,\n",
       "                   intercept_scaling=1, l1_ratio=None, max_iter=100,\n",
       "                   multi_class='warn', n_jobs=None, penalty='l1',\n",
       "                   random_state=42, solver='warn', tol=0.0001, verbose=0,\n",
       "                   warm_start=False)</td>\n",
       "                        <td id=\"T_dc872034_11fe_11ea_94ce_80000027fe80row4_col2\" class=\"data row4 col2\" >nan</td>\n",
       "            </tr>\n",
       "            <tr>\n",
       "                                <td id=\"T_dc872034_11fe_11ea_94ce_80000027fe80row5_col0\" class=\"data row5 col0\" >255</td>\n",
       "                        <td id=\"T_dc872034_11fe_11ea_94ce_80000027fe80row5_col1\" class=\"data row5 col1\" >LogisticRegression(C=25.0, class_weight=None, dual=False, fit_intercept=True,\n",
       "                   intercept_scaling=1, l1_ratio=None, max_iter=100,\n",
       "                   multi_class='warn', n_jobs=None, penalty='l1',\n",
       "                   random_state=42, solver='warn', tol=0.0001, verbose=0,\n",
       "                   warm_start=False)</td>\n",
       "                        <td id=\"T_dc872034_11fe_11ea_94ce_80000027fe80row5_col2\" class=\"data row5 col2\" >nan</td>\n",
       "            </tr>\n",
       "    </tbody></table>"
      ],
      "text/plain": [
       "<pandas.io.formats.style.Styler at 0x2b0d223126d8>"
      ]
     },
     "metadata": {},
     "output_type": "display_data"
    },
    {
     "data": {
      "text/plain": [
       "'TPOTClassifierClean #1'"
      ]
     },
     "metadata": {},
     "output_type": "display_data"
    },
    {
     "data": {
      "text/html": [
       "<style  type=\"text/css\" >\n",
       "</style><table id=\"T_dc8947d8_11fe_11ea_94ce_80000027fe80\" ><thead>    <tr>        <th class=\"col_heading level0 col0\" >std</th>        <th class=\"col_heading level0 col1\" >test_acc</th>        <th class=\"col_heading level0 col2\" >train_acc</th>        <th class=\"col_heading level0 col3\" >time_err</th>        <th class=\"col_heading level0 col4\" >time_pre</th>        <th class=\"col_heading level0 col5\" >time_mod</th>    </tr></thead><tbody>\n",
       "                <tr>\n",
       "                                <td id=\"T_dc8947d8_11fe_11ea_94ce_80000027fe80row0_col0\" class=\"data row0 col0\" >0</td>\n",
       "                        <td id=\"T_dc8947d8_11fe_11ea_94ce_80000027fe80row0_col1\" class=\"data row0 col1\" >0.882</td>\n",
       "                        <td id=\"T_dc8947d8_11fe_11ea_94ce_80000027fe80row0_col2\" class=\"data row0 col2\" >1</td>\n",
       "                        <td id=\"T_dc8947d8_11fe_11ea_94ce_80000027fe80row0_col3\" class=\"data row0 col3\" >5.311</td>\n",
       "                        <td id=\"T_dc8947d8_11fe_11ea_94ce_80000027fe80row0_col4\" class=\"data row0 col4\" >0.657</td>\n",
       "                        <td id=\"T_dc8947d8_11fe_11ea_94ce_80000027fe80row0_col5\" class=\"data row0 col5\" >17543.2</td>\n",
       "            </tr>\n",
       "            <tr>\n",
       "                                <td id=\"T_dc8947d8_11fe_11ea_94ce_80000027fe80row1_col0\" class=\"data row1 col0\" >51</td>\n",
       "                        <td id=\"T_dc8947d8_11fe_11ea_94ce_80000027fe80row1_col1\" class=\"data row1 col1\" >0.663</td>\n",
       "                        <td id=\"T_dc8947d8_11fe_11ea_94ce_80000027fe80row1_col2\" class=\"data row1 col2\" >1</td>\n",
       "                        <td id=\"T_dc8947d8_11fe_11ea_94ce_80000027fe80row1_col3\" class=\"data row1 col3\" >5.583</td>\n",
       "                        <td id=\"T_dc8947d8_11fe_11ea_94ce_80000027fe80row1_col4\" class=\"data row1 col4\" >0.672</td>\n",
       "                        <td id=\"T_dc8947d8_11fe_11ea_94ce_80000027fe80row1_col5\" class=\"data row1 col5\" >17960.6</td>\n",
       "            </tr>\n",
       "            <tr>\n",
       "                                <td id=\"T_dc8947d8_11fe_11ea_94ce_80000027fe80row2_col0\" class=\"data row2 col0\" >102</td>\n",
       "                        <td id=\"T_dc8947d8_11fe_11ea_94ce_80000027fe80row2_col1\" class=\"data row2 col1\" >0.416</td>\n",
       "                        <td id=\"T_dc8947d8_11fe_11ea_94ce_80000027fe80row2_col2\" class=\"data row2 col2\" >1</td>\n",
       "                        <td id=\"T_dc8947d8_11fe_11ea_94ce_80000027fe80row2_col3\" class=\"data row2 col3\" >5.782</td>\n",
       "                        <td id=\"T_dc8947d8_11fe_11ea_94ce_80000027fe80row2_col4\" class=\"data row2 col4\" >0.644</td>\n",
       "                        <td id=\"T_dc8947d8_11fe_11ea_94ce_80000027fe80row2_col5\" class=\"data row2 col5\" >17949.9</td>\n",
       "            </tr>\n",
       "            <tr>\n",
       "                                <td id=\"T_dc8947d8_11fe_11ea_94ce_80000027fe80row3_col0\" class=\"data row3 col0\" >153</td>\n",
       "                        <td id=\"T_dc8947d8_11fe_11ea_94ce_80000027fe80row3_col1\" class=\"data row3 col1\" >0.298</td>\n",
       "                        <td id=\"T_dc8947d8_11fe_11ea_94ce_80000027fe80row3_col2\" class=\"data row3 col2\" >1</td>\n",
       "                        <td id=\"T_dc8947d8_11fe_11ea_94ce_80000027fe80row3_col3\" class=\"data row3 col3\" >5.479</td>\n",
       "                        <td id=\"T_dc8947d8_11fe_11ea_94ce_80000027fe80row3_col4\" class=\"data row3 col4\" >0.712</td>\n",
       "                        <td id=\"T_dc8947d8_11fe_11ea_94ce_80000027fe80row3_col5\" class=\"data row3 col5\" >18211.2</td>\n",
       "            </tr>\n",
       "            <tr>\n",
       "                                <td id=\"T_dc8947d8_11fe_11ea_94ce_80000027fe80row4_col0\" class=\"data row4 col0\" >204</td>\n",
       "                        <td id=\"T_dc8947d8_11fe_11ea_94ce_80000027fe80row4_col1\" class=\"data row4 col1\" >0.232</td>\n",
       "                        <td id=\"T_dc8947d8_11fe_11ea_94ce_80000027fe80row4_col2\" class=\"data row4 col2\" >1</td>\n",
       "                        <td id=\"T_dc8947d8_11fe_11ea_94ce_80000027fe80row4_col3\" class=\"data row4 col3\" >5.587</td>\n",
       "                        <td id=\"T_dc8947d8_11fe_11ea_94ce_80000027fe80row4_col4\" class=\"data row4 col4\" >0.632</td>\n",
       "                        <td id=\"T_dc8947d8_11fe_11ea_94ce_80000027fe80row4_col5\" class=\"data row4 col5\" >17271.4</td>\n",
       "            </tr>\n",
       "            <tr>\n",
       "                                <td id=\"T_dc8947d8_11fe_11ea_94ce_80000027fe80row5_col0\" class=\"data row5 col0\" >255</td>\n",
       "                        <td id=\"T_dc8947d8_11fe_11ea_94ce_80000027fe80row5_col1\" class=\"data row5 col1\" >0.201</td>\n",
       "                        <td id=\"T_dc8947d8_11fe_11ea_94ce_80000027fe80row5_col2\" class=\"data row5 col2\" >1</td>\n",
       "                        <td id=\"T_dc8947d8_11fe_11ea_94ce_80000027fe80row5_col3\" class=\"data row5 col3\" >5.529</td>\n",
       "                        <td id=\"T_dc8947d8_11fe_11ea_94ce_80000027fe80row5_col4\" class=\"data row5 col4\" >0.653</td>\n",
       "                        <td id=\"T_dc8947d8_11fe_11ea_94ce_80000027fe80row5_col5\" class=\"data row5 col5\" >17450.9</td>\n",
       "            </tr>\n",
       "    </tbody></table>"
      ],
      "text/plain": [
       "<pandas.io.formats.style.Styler at 0x2b0d2232cba8>"
      ]
     },
     "metadata": {},
     "output_type": "display_data"
    },
    {
     "data": {
      "text/html": [
       "<style  type=\"text/css\" >\n",
       "</style><table id=\"T_dc8a6d0c_11fe_11ea_94ce_80000027fe80\" ><thead>    <tr>        <th class=\"col_heading level0 col0\" >std</th>        <th class=\"col_heading level0 col1\" >pipe_0</th>        <th class=\"col_heading level0 col2\" >pipe_1</th>    </tr></thead><tbody>\n",
       "                <tr>\n",
       "                                <td id=\"T_dc8a6d0c_11fe_11ea_94ce_80000027fe80row0_col0\" class=\"data row0 col0\" >0</td>\n",
       "                        <td id=\"T_dc8a6d0c_11fe_11ea_94ce_80000027fe80row0_col1\" class=\"data row0 col1\" >RFE(estimator=ExtraTreesClassifier(bootstrap=False, class_weight=None,\n",
       "                                   criterion='gini', max_depth=None,\n",
       "                                   max_features=0.45, max_leaf_nodes=None,\n",
       "                                   min_impurity_decrease=0.0,\n",
       "                                   min_impurity_split=None, min_samples_leaf=1,\n",
       "                                   min_samples_split=2,\n",
       "                                   min_weight_fraction_leaf=0.0,\n",
       "                                   n_estimators=100, n_jobs=None,\n",
       "                                   oob_score=False, random_state=42, verbose=0,\n",
       "                                   warm_start=False),\n",
       "    n_features_to_select=None, step=0.8, verbose=0)</td>\n",
       "                        <td id=\"T_dc8a6d0c_11fe_11ea_94ce_80000027fe80row0_col2\" class=\"data row0 col2\" >GradientBoostingClassifier(criterion='friedman_mse', init=None,\n",
       "                           learning_rate=0.1, loss='deviance', max_depth=10,\n",
       "                           max_features=0.05, max_leaf_nodes=None,\n",
       "                           min_impurity_decrease=0.0, min_impurity_split=None,\n",
       "                           min_samples_leaf=11, min_samples_split=9,\n",
       "                           min_weight_fraction_leaf=0.0, n_estimators=100,\n",
       "                           n_iter_no_change=None, presort='auto',\n",
       "                           random_state=42, subsample=0.35000000000000003,\n",
       "                           tol=0.0001, validation_fraction=0.1, verbose=0,\n",
       "                           warm_start=False)</td>\n",
       "            </tr>\n",
       "            <tr>\n",
       "                                <td id=\"T_dc8a6d0c_11fe_11ea_94ce_80000027fe80row1_col0\" class=\"data row1 col0\" >51</td>\n",
       "                        <td id=\"T_dc8a6d0c_11fe_11ea_94ce_80000027fe80row1_col1\" class=\"data row1 col1\" >RFE(estimator=ExtraTreesClassifier(bootstrap=False, class_weight=None,\n",
       "                                   criterion='gini', max_depth=None,\n",
       "                                   max_features=0.45, max_leaf_nodes=None,\n",
       "                                   min_impurity_decrease=0.0,\n",
       "                                   min_impurity_split=None, min_samples_leaf=1,\n",
       "                                   min_samples_split=2,\n",
       "                                   min_weight_fraction_leaf=0.0,\n",
       "                                   n_estimators=100, n_jobs=None,\n",
       "                                   oob_score=False, random_state=42, verbose=0,\n",
       "                                   warm_start=False),\n",
       "    n_features_to_select=None, step=0.8, verbose=0)</td>\n",
       "                        <td id=\"T_dc8a6d0c_11fe_11ea_94ce_80000027fe80row1_col2\" class=\"data row1 col2\" >GradientBoostingClassifier(criterion='friedman_mse', init=None,\n",
       "                           learning_rate=0.1, loss='deviance', max_depth=10,\n",
       "                           max_features=0.05, max_leaf_nodes=None,\n",
       "                           min_impurity_decrease=0.0, min_impurity_split=None,\n",
       "                           min_samples_leaf=11, min_samples_split=9,\n",
       "                           min_weight_fraction_leaf=0.0, n_estimators=100,\n",
       "                           n_iter_no_change=None, presort='auto',\n",
       "                           random_state=42, subsample=0.35000000000000003,\n",
       "                           tol=0.0001, validation_fraction=0.1, verbose=0,\n",
       "                           warm_start=False)</td>\n",
       "            </tr>\n",
       "            <tr>\n",
       "                                <td id=\"T_dc8a6d0c_11fe_11ea_94ce_80000027fe80row2_col0\" class=\"data row2 col0\" >102</td>\n",
       "                        <td id=\"T_dc8a6d0c_11fe_11ea_94ce_80000027fe80row2_col1\" class=\"data row2 col1\" >RFE(estimator=ExtraTreesClassifier(bootstrap=False, class_weight=None,\n",
       "                                   criterion='gini', max_depth=None,\n",
       "                                   max_features=0.45, max_leaf_nodes=None,\n",
       "                                   min_impurity_decrease=0.0,\n",
       "                                   min_impurity_split=None, min_samples_leaf=1,\n",
       "                                   min_samples_split=2,\n",
       "                                   min_weight_fraction_leaf=0.0,\n",
       "                                   n_estimators=100, n_jobs=None,\n",
       "                                   oob_score=False, random_state=42, verbose=0,\n",
       "                                   warm_start=False),\n",
       "    n_features_to_select=None, step=0.8, verbose=0)</td>\n",
       "                        <td id=\"T_dc8a6d0c_11fe_11ea_94ce_80000027fe80row2_col2\" class=\"data row2 col2\" >GradientBoostingClassifier(criterion='friedman_mse', init=None,\n",
       "                           learning_rate=0.1, loss='deviance', max_depth=10,\n",
       "                           max_features=0.05, max_leaf_nodes=None,\n",
       "                           min_impurity_decrease=0.0, min_impurity_split=None,\n",
       "                           min_samples_leaf=11, min_samples_split=9,\n",
       "                           min_weight_fraction_leaf=0.0, n_estimators=100,\n",
       "                           n_iter_no_change=None, presort='auto',\n",
       "                           random_state=42, subsample=0.35000000000000003,\n",
       "                           tol=0.0001, validation_fraction=0.1, verbose=0,\n",
       "                           warm_start=False)</td>\n",
       "            </tr>\n",
       "            <tr>\n",
       "                                <td id=\"T_dc8a6d0c_11fe_11ea_94ce_80000027fe80row3_col0\" class=\"data row3 col0\" >153</td>\n",
       "                        <td id=\"T_dc8a6d0c_11fe_11ea_94ce_80000027fe80row3_col1\" class=\"data row3 col1\" >RFE(estimator=ExtraTreesClassifier(bootstrap=False, class_weight=None,\n",
       "                                   criterion='gini', max_depth=None,\n",
       "                                   max_features=0.45, max_leaf_nodes=None,\n",
       "                                   min_impurity_decrease=0.0,\n",
       "                                   min_impurity_split=None, min_samples_leaf=1,\n",
       "                                   min_samples_split=2,\n",
       "                                   min_weight_fraction_leaf=0.0,\n",
       "                                   n_estimators=100, n_jobs=None,\n",
       "                                   oob_score=False, random_state=42, verbose=0,\n",
       "                                   warm_start=False),\n",
       "    n_features_to_select=None, step=0.8, verbose=0)</td>\n",
       "                        <td id=\"T_dc8a6d0c_11fe_11ea_94ce_80000027fe80row3_col2\" class=\"data row3 col2\" >GradientBoostingClassifier(criterion='friedman_mse', init=None,\n",
       "                           learning_rate=0.1, loss='deviance', max_depth=10,\n",
       "                           max_features=0.05, max_leaf_nodes=None,\n",
       "                           min_impurity_decrease=0.0, min_impurity_split=None,\n",
       "                           min_samples_leaf=11, min_samples_split=9,\n",
       "                           min_weight_fraction_leaf=0.0, n_estimators=100,\n",
       "                           n_iter_no_change=None, presort='auto',\n",
       "                           random_state=42, subsample=0.35000000000000003,\n",
       "                           tol=0.0001, validation_fraction=0.1, verbose=0,\n",
       "                           warm_start=False)</td>\n",
       "            </tr>\n",
       "            <tr>\n",
       "                                <td id=\"T_dc8a6d0c_11fe_11ea_94ce_80000027fe80row4_col0\" class=\"data row4 col0\" >204</td>\n",
       "                        <td id=\"T_dc8a6d0c_11fe_11ea_94ce_80000027fe80row4_col1\" class=\"data row4 col1\" >RFE(estimator=ExtraTreesClassifier(bootstrap=False, class_weight=None,\n",
       "                                   criterion='gini', max_depth=None,\n",
       "                                   max_features=0.45, max_leaf_nodes=None,\n",
       "                                   min_impurity_decrease=0.0,\n",
       "                                   min_impurity_split=None, min_samples_leaf=1,\n",
       "                                   min_samples_split=2,\n",
       "                                   min_weight_fraction_leaf=0.0,\n",
       "                                   n_estimators=100, n_jobs=None,\n",
       "                                   oob_score=False, random_state=42, verbose=0,\n",
       "                                   warm_start=False),\n",
       "    n_features_to_select=None, step=0.8, verbose=0)</td>\n",
       "                        <td id=\"T_dc8a6d0c_11fe_11ea_94ce_80000027fe80row4_col2\" class=\"data row4 col2\" >GradientBoostingClassifier(criterion='friedman_mse', init=None,\n",
       "                           learning_rate=0.1, loss='deviance', max_depth=10,\n",
       "                           max_features=0.05, max_leaf_nodes=None,\n",
       "                           min_impurity_decrease=0.0, min_impurity_split=None,\n",
       "                           min_samples_leaf=11, min_samples_split=9,\n",
       "                           min_weight_fraction_leaf=0.0, n_estimators=100,\n",
       "                           n_iter_no_change=None, presort='auto',\n",
       "                           random_state=42, subsample=0.35000000000000003,\n",
       "                           tol=0.0001, validation_fraction=0.1, verbose=0,\n",
       "                           warm_start=False)</td>\n",
       "            </tr>\n",
       "            <tr>\n",
       "                                <td id=\"T_dc8a6d0c_11fe_11ea_94ce_80000027fe80row5_col0\" class=\"data row5 col0\" >255</td>\n",
       "                        <td id=\"T_dc8a6d0c_11fe_11ea_94ce_80000027fe80row5_col1\" class=\"data row5 col1\" >RFE(estimator=ExtraTreesClassifier(bootstrap=False, class_weight=None,\n",
       "                                   criterion='gini', max_depth=None,\n",
       "                                   max_features=0.45, max_leaf_nodes=None,\n",
       "                                   min_impurity_decrease=0.0,\n",
       "                                   min_impurity_split=None, min_samples_leaf=1,\n",
       "                                   min_samples_split=2,\n",
       "                                   min_weight_fraction_leaf=0.0,\n",
       "                                   n_estimators=100, n_jobs=None,\n",
       "                                   oob_score=False, random_state=42, verbose=0,\n",
       "                                   warm_start=False),\n",
       "    n_features_to_select=None, step=0.8, verbose=0)</td>\n",
       "                        <td id=\"T_dc8a6d0c_11fe_11ea_94ce_80000027fe80row5_col2\" class=\"data row5 col2\" >GradientBoostingClassifier(criterion='friedman_mse', init=None,\n",
       "                           learning_rate=0.1, loss='deviance', max_depth=10,\n",
       "                           max_features=0.05, max_leaf_nodes=None,\n",
       "                           min_impurity_decrease=0.0, min_impurity_split=None,\n",
       "                           min_samples_leaf=11, min_samples_split=9,\n",
       "                           min_weight_fraction_leaf=0.0, n_estimators=100,\n",
       "                           n_iter_no_change=None, presort='auto',\n",
       "                           random_state=42, subsample=0.35000000000000003,\n",
       "                           tol=0.0001, validation_fraction=0.1, verbose=0,\n",
       "                           warm_start=False)</td>\n",
       "            </tr>\n",
       "    </tbody></table>"
      ],
      "text/plain": [
       "<pandas.io.formats.style.Styler at 0x2b0d20122860>"
      ]
     },
     "metadata": {},
     "output_type": "display_data"
    },
    {
     "data": {
      "image/png": "[encoded data removed]",
      "text/plain": [
       "<Figure size 720x288 with 2 Axes>"
      ]
     },
     "metadata": {
      "needs_background": "light"
     },
     "output_type": "display_data"
    }
   ],
   "source": [
    "print_results_by_model(df,\n",
    "    # [\"train_labels\", \"test_labels\"],\n",
    "    [\"mean\", \"min_val\", \"max_val\", \"train_labels\", \"test_labels\"], \n",
    "    # err_param_name=\"max_angle\",\n",
    "    err_param_name=\"std\",\n",
    "    pipeline_name=\"best_pipeline\"\n",
    ")\n",
    "visualize(df)"
   ]
  },
  {
   "cell_type": "markdown",
   "metadata": {
    "collapsed": false,
    "papermill": {
     "duration": 0.226052,
     "end_time": "2019-11-28T16:48:12.830977",
     "exception": false,
     "start_time": "2019-11-28T16:48:12.604925",
     "status": "completed"
    },
    "pycharm": {
     "name": "#%% md\n"
    },
    "tags": []
   },
   "source": []
  }
 ],
 "metadata": {
  "kernelspec": {
   "display_name": "Python 3",
   "language": "python",
   "name": "python3"
  },
  "language_info": {
   "codemirror_mode": {
    "name": "ipython",
    "version": 3
   },
   "file_extension": ".py",
   "mimetype": "text/x-python",
   "name": "python",
   "nbconvert_exporter": "python",
   "pygments_lexer": "ipython3",
   "version": "3.6.6"
  },
  "papermill": {
   "duration": 453914.885767,
   "end_time": "2019-11-28T16:48:18.212038",
   "environment_variables": {},
   "exception": null,
   "input_path": "docs/case_studies/test7.ipynb",
   "output_path": "docs/case_studies/test7.ipynb",
   "parameters": {},
   "start_time": "2019-11-23T10:43:03.326271",
   "version": "1.2.0"
  },
  "pycharm": {
   "stem_cell": {
    "cell_type": "raw",
    "source": [],
    "metadata": {
     "collapsed": false
    }
   }
  },
  "widgets": {
   "application/vnd.jupyter.widget-state+json": {
    "state": {},
    "version_major": 2,
    "version_minor": 0
   }
  }
 },
 "nbformat": 4,
 "nbformat_minor": 0
}