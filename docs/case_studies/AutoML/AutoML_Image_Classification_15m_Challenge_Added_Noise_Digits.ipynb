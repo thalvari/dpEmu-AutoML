{
 "cells": [
  {
   "cell_type": "markdown",
   "metadata": {
    "collapsed": false,
    "papermill": {
     "duration": 0.038678,
     "end_time": "2019-11-19T12:40:18.019524",
     "exception": false,
     "start_time": "2019-11-19T12:40:17.980846",
     "status": "completed"
    },
    "tags": []
   },
   "source": [
    "# AutoML Image Classification: 15m Challenge Added Noise (Digits)"
   ]
  },
  {
   "cell_type": "code",
   "execution_count": 1,
   "metadata": {
    "collapsed": false,
    "papermill": {
     "duration": 0.036145,
     "end_time": "2019-11-19T12:40:18.082418",
     "exception": false,
     "start_time": "2019-11-19T12:40:18.046273",
     "status": "completed"
    },
    "pycharm": {
     "name": "#%%\n"
    },
    "tags": []
   },
   "outputs": [],
   "source": [
    "import warnings\n",
    "warnings.simplefilter(action=\"ignore\", category=FutureWarning)"
   ]
  },
  {
   "cell_type": "markdown",
   "metadata": {
    "collapsed": false,
    "papermill": {
     "duration": 0.019363,
     "end_time": "2019-11-19T12:40:18.122571",
     "exception": false,
     "start_time": "2019-11-19T12:40:18.103208",
     "status": "completed"
    },
    "tags": []
   },
   "source": [
    "![](imgs/gaussian_noise.png)"
   ]
  },
  {
   "cell_type": "code",
   "execution_count": 2,
   "metadata": {
    "collapsed": false,
    "papermill": {
     "duration": 16.325337,
     "end_time": "2019-11-19T12:40:34.464440",
     "exception": false,
     "start_time": "2019-11-19T12:40:18.139103",
     "status": "completed"
    },
    "pycharm": {
     "is_executing": false,
     "name": "#%%\n"
    },
    "tags": []
   },
   "outputs": [
    {
     "name": "stdout",
     "output_type": "stream",
     "text": [
      "Better speed can be achieved with apex installed from https://www.github.com/nvidia/apex.\n"
     ]
    },
    {
     "name": "stderr",
     "output_type": "stream",
     "text": [
      "Using TensorFlow backend.\n"
     ]
    }
   ],
   "source": [
    "import random as rn\n",
    "from abc import ABC, abstractmethod\n",
    "\n",
    "import autokeras as ak\n",
    "import h2o\n",
    "import matplotlib.pyplot as plt\n",
    "import numpy as np\n",
    "from h2o.automl import H2OAutoML\n",
    "from keras.datasets import fashion_mnist\n",
    "from numpy.random import RandomState\n",
    "from sklearn.datasets import load_digits\n",
    "from sklearn.metrics import accuracy_score\n",
    "from sklearn.model_selection import train_test_split\n",
    "from tpot import TPOTClassifier\n",
    "\n",
    "from dpemu import runner\n",
    "from dpemu.filters.common import GaussianNoise, Clip\n",
    "from dpemu.filters.image import RotationPIL\n",
    "from dpemu.nodes import Array\n",
    "from dpemu.nodes.series import Series\n",
    "from dpemu.plotting_utils import visualize_scores, print_results_by_model\n",
    "from dpemu.utils import generate_tmpdir"
   ]
  },
  {
   "cell_type": "markdown",
   "metadata": {
    "collapsed": false,
    "papermill": {
     "duration": 0.028122,
     "end_time": "2019-11-19T12:40:34.527842",
     "exception": false,
     "start_time": "2019-11-19T12:40:34.499720",
     "status": "completed"
    },
    "pycharm": {
     "name": "#%% md\n"
    },
    "tags": []
   },
   "source": []
  },
  {
   "cell_type": "code",
   "execution_count": 3,
   "metadata": {
    "collapsed": false,
    "papermill": {
     "duration": 0.037017,
     "end_time": "2019-11-19T12:40:34.589765",
     "exception": false,
     "start_time": "2019-11-19T12:40:34.552748",
     "status": "completed"
    },
    "pycharm": {
     "is_executing": false,
     "name": "#%%\n"
    },
    "tags": []
   },
   "outputs": [],
   "source": [
    "def get_data():\n",
    "    random_state = RandomState(42)\n",
    "    x, y = load_digits(return_X_y=True)\n",
    "    y = y.astype(np.uint8)\n",
    "    return train_test_split(x, y, test_size=1/7, random_state=random_state)\n",
    "    # (x_train, y_train), (x_test, y_test) = fashion_mnist.load_data()\n",
    "    # s = x_train.shape[1]\n",
    "    # x_train = x_train.reshape((len(x_train), s**2)).astype(np.float64)\n",
    "    # x_test = x_test.reshape((len(x_test), s**2)).astype(np.float64)    \n",
    "    # return x_train, x_test, y_train, y_test"
   ]
  },
  {
   "cell_type": "markdown",
   "metadata": {
    "collapsed": false,
    "papermill": {
     "duration": 0.016319,
     "end_time": "2019-11-19T12:40:34.627018",
     "exception": false,
     "start_time": "2019-11-19T12:40:34.610699",
     "status": "completed"
    },
    "pycharm": {
     "name": "#%% md\n"
    },
    "tags": []
   },
   "source": []
  },
  {
   "cell_type": "code",
   "execution_count": 4,
   "metadata": {
    "collapsed": false,
    "papermill": {
     "duration": 0.028606,
     "end_time": "2019-11-19T12:40:34.672780",
     "exception": false,
     "start_time": "2019-11-19T12:40:34.644174",
     "status": "completed"
    },
    "pycharm": {
     "is_executing": false,
     "name": "#%%\n"
    },
    "tags": []
   },
   "outputs": [],
   "source": [
    "def get_err_root_node():\n",
    "    err_img_node = Array(reshape=(8, 8))\n",
    "    # err_img_node = Array(reshape=(28, 28))\n",
    "\n",
    "    # err_root_node = Series(err_img_node)\n",
    "    # err_img_node.addfilter(RotationPIL(\"max_angle\"))\n",
    "    # return err_root_node\n",
    "    err_root_node = Series(err_img_node)\n",
    "    err_img_node.addfilter(GaussianNoise(\"mean\", \"std\"))\n",
    "    err_img_node.addfilter(Clip(\"min_val\", \"max_val\"))\n",
    "    return err_root_node"
   ]
  },
  {
   "cell_type": "markdown",
   "metadata": {
    "collapsed": false,
    "papermill": {
     "duration": 0.015924,
     "end_time": "2019-11-19T12:40:34.704512",
     "exception": false,
     "start_time": "2019-11-19T12:40:34.688588",
     "status": "completed"
    },
    "pycharm": {
     "name": "#%% md\n"
    },
    "tags": []
   },
   "source": []
  },
  {
   "cell_type": "code",
   "execution_count": 5,
   "metadata": {
    "collapsed": false,
    "papermill": {
     "duration": 0.029776,
     "end_time": "2019-11-19T12:40:34.749951",
     "exception": false,
     "start_time": "2019-11-19T12:40:34.720175",
     "status": "completed"
    },
    "pycharm": {
     "is_executing": false,
     "name": "#%%\n"
    },
    "tags": []
   },
   "outputs": [],
   "source": [
    "def get_err_params_list(data):\n",
    "    # angle_steps = np.linspace(0, 90, num=6)\n",
    "    # err_params_list = [{\"max_angle\": a} for a in angle_steps]\n",
    "    # return err_params_list\n",
    "    min_val = np.amin(data)\n",
    "    max_val = np.amax(data)\n",
    "    std_steps = np.round(np.linspace(0, max_val, num=6), 3)\n",
    "    err_params_list = [{\"mean\": 0, \"std\": std, \"min_val\": min_val, \"max_val\": max_val} for std in std_steps]\n",
    "    return err_params_list"
   ]
  },
  {
   "cell_type": "markdown",
   "metadata": {
    "collapsed": false,
    "papermill": {
     "duration": 0.015372,
     "end_time": "2019-11-19T12:40:34.780277",
     "exception": false,
     "start_time": "2019-11-19T12:40:34.764905",
     "status": "completed"
    },
    "pycharm": {
     "name": "#%% md\n"
    },
    "tags": []
   },
   "source": []
  },
  {
   "cell_type": "code",
   "execution_count": 6,
   "metadata": {
    "collapsed": false,
    "papermill": {
     "duration": 0.028981,
     "end_time": "2019-11-19T12:40:34.824425",
     "exception": false,
     "start_time": "2019-11-19T12:40:34.795444",
     "status": "completed"
    },
    "pycharm": {
     "is_executing": false,
     "name": "#%%\n"
    },
    "tags": []
   },
   "outputs": [],
   "source": [
    "class Preprocessor:\n",
    "\n",
    "    def run(self, train_data, test_data, params):\n",
    "        return np.round(train_data).astype(np.uint8), np.round(test_data).astype(np.uint8), {}"
   ]
  },
  {
   "cell_type": "markdown",
   "metadata": {
    "collapsed": false,
    "papermill": {
     "duration": 0.024936,
     "end_time": "2019-11-19T12:40:34.878749",
     "exception": false,
     "start_time": "2019-11-19T12:40:34.853813",
     "status": "completed"
    },
    "pycharm": {
     "name": "#%% md\n"
    },
    "tags": []
   },
   "source": []
  },
  {
   "cell_type": "code",
   "execution_count": 7,
   "metadata": {
    "collapsed": false,
    "papermill": {
     "duration": 0.08179,
     "end_time": "2019-11-19T12:40:34.983397",
     "exception": false,
     "start_time": "2019-11-19T12:40:34.901607",
     "status": "completed"
    },
    "pycharm": {
     "is_executing": false,
     "name": "#%%\n"
    },
    "tags": []
   },
   "outputs": [],
   "source": [
    "class AbstractModel(ABC):\n",
    "\n",
    "    def __init__(self):\n",
    "        self.time_limit_mins = 15\n",
    "        self.seed = 42\n",
    "        self.random_state = RandomState(self.seed)\n",
    "        np.random.seed(self.seed)\n",
    "\n",
    "    @abstractmethod\n",
    "    def get_fitted_model(self, train_data, train_labels, params):\n",
    "        pass\n",
    "\n",
    "    @abstractmethod\n",
    "    def get_accuracy(self, data, labels, fitted_model, params):\n",
    "        pass\n",
    "\n",
    "    @abstractmethod\n",
    "    def get_best_pipeline(self, fitted_model):\n",
    "        pass\n",
    "\n",
    "    def run(self, train_data, test_data, params):\n",
    "        train_labels = params[\"train_labels\"]\n",
    "        test_labels = params[\"test_labels\"]\n",
    "\n",
    "        fitted_model = self.get_fitted_model(train_data, train_labels, params)\n",
    "\n",
    "        results = {\n",
    "            \"test_acc\": self.get_accuracy(test_data, test_labels, fitted_model, params),\n",
    "            \"train_acc\": self.get_accuracy(train_data, train_labels, fitted_model, params),\n",
    "            \"best_pipeline\": self.get_best_pipeline(fitted_model),\n",
    "        }\n",
    "        print(type(fitted_model))\n",
    "        print(results[\"test_acc\"])\n",
    "        return results\n",
    "\n",
    "class TPOTClassifierModel(AbstractModel):\n",
    "\n",
    "    def __init__(self):\n",
    "        super().__init__()\n",
    "\n",
    "    def get_fitted_model(self, train_data, train_labels, params):\n",
    "        return TPOTClassifier(\n",
    "            max_time_mins=self.time_limit_mins,\n",
    "            max_eval_time_mins=self.time_limit_mins,\n",
    "            n_jobs=-1,\n",
    "            random_state=self.seed,\n",
    "            verbosity=1,\n",
    "        ).fit(train_data, train_labels)\n",
    "\n",
    "    def get_accuracy(self, data, labels, fitted_model, params):\n",
    "        return round(fitted_model.score(data, labels), 3)\n",
    "\n",
    "    def get_best_pipeline(self, fitted_model):\n",
    "        return [step[1] for step in fitted_model.fitted_pipeline_.steps]\n",
    "\n",
    "class H2OAutoMLModel(AbstractModel):\n",
    "\n",
    "    def __init__(self):\n",
    "        super().__init__()\n",
    "        h2o.init(name=f\"#{rn.SystemRandom().randint(1, 2**30)}\", nthreads=20)\n",
    "        h2o.no_progress()\n",
    "\n",
    "    def get_fitted_model(self, train_data, train_labels, params):\n",
    "        train_data = h2o.H2OFrame(np.concatenate((train_data, train_labels.reshape(-1, 1)), axis=1))\n",
    "        x = np.array(train_data.columns)[:-1].tolist()\n",
    "        y = np.array(train_data.columns)[-1].tolist()\n",
    "        train_data[y] = train_data[y].asfactor()\n",
    "        aml = H2OAutoML(max_runtime_secs=60*self.time_limit_mins, seed=self.seed)\n",
    "        aml.train(x=x, y=y, training_frame=train_data)\n",
    "        return aml\n",
    "\n",
    "    def get_accuracy(self, data, labels, fitted_model, params):\n",
    "        data = h2o.H2OFrame(np.concatenate((data, labels.reshape(-1, 1)), axis=1))\n",
    "        y = np.array(data.columns)[-1].tolist()\n",
    "        data[y] = data[y].asfactor()\n",
    "        pred = fitted_model.predict(data).as_data_frame(header=False)[\"predict\"].values.astype(int)\n",
    "        return np.round(np.mean(pred == labels), 3)\n",
    "\n",
    "    def get_best_pipeline(self, fitted_model):\n",
    "        leader_params = fitted_model.leader.get_params()\n",
    "        best_pipeline = [leader_params[\"model_id\"][\"actual_value\"][\"name\"]]\n",
    "        if \"base_models\" in leader_params:\n",
    "            for base_model in leader_params[\"base_models\"][\"actual_value\"]:\n",
    "                best_pipeline.append(base_model[\"name\"])\n",
    "        h2o.cluster().shutdown()\n",
    "        return best_pipeline\n",
    "\n",
    "class AutoKerasModel(AbstractModel):\n",
    "\n",
    "    def __init__(self):\n",
    "        super().__init__()\n",
    "        import tensorflow as tf\n",
    "        tf.set_random_seed(self.seed)\n",
    "        import torch\n",
    "        torch.multiprocessing.set_sharing_strategy(\"file_system\")\n",
    "        torch.manual_seed(self.seed)\n",
    "\n",
    "    def get_fitted_model(self, x_train, y_train, params):\n",
    "        s = np.sqrt(x_train.shape[1]).astype(int)\n",
    "        x_train = x_train.reshape((len(x_train), s, s, 1))\n",
    "        clf = ak.ImageClassifier(augment=False, path=generate_tmpdir(), verbose=False)\n",
    "        clf.fit(x_train, y_train, time_limit=60*self.time_limit_mins)\n",
    "        return clf\n",
    "\n",
    "    def get_accuracy(self, x, y, clf, params):\n",
    "        s = np.sqrt(x.shape[1]).astype(int)\n",
    "        x = x.reshape((len(x), s, s, 1))\n",
    "        y_pred = clf.predict(x)\n",
    "        return np.round(accuracy_score(y_true=y, y_pred=y_pred), 3)\n",
    "\n",
    "    def get_best_pipeline(self, clf):\n",
    "        return [m for i, m in enumerate(clf.cnn.best_model.produce_model().modules()) if i > 0]"
   ]
  },
  {
   "cell_type": "markdown",
   "metadata": {
    "collapsed": false,
    "papermill": {
     "duration": 0.030337,
     "end_time": "2019-11-19T12:40:35.046845",
     "exception": false,
     "start_time": "2019-11-19T12:40:35.016508",
     "status": "completed"
    },
    "pycharm": {
     "name": "#%% md\n"
    },
    "tags": []
   },
   "source": []
  },
  {
   "cell_type": "code",
   "execution_count": 8,
   "metadata": {
    "collapsed": false,
    "papermill": {
     "duration": 0.047351,
     "end_time": "2019-11-19T12:40:35.126289",
     "exception": false,
     "start_time": "2019-11-19T12:40:35.078938",
     "status": "completed"
    },
    "pycharm": {
     "is_executing": false,
     "name": "#%%\n"
    },
    "tags": []
   },
   "outputs": [],
   "source": [
    "def get_model_params_dict_list(train_labels, test_labels):\n",
    "    model_params_base = {\"train_labels\": train_labels, \"test_labels\": test_labels}\n",
    "    return [\n",
    "        {\n",
    "            \"model\": AutoKerasModel,\n",
    "            \"params_list\": [{**model_params_base}],\n",
    "            \"use_clean_train_data\": False\n",
    "        },\n",
    "        {\n",
    "            \"model\": AutoKerasModel,\n",
    "            \"params_list\": [{**model_params_base}],\n",
    "            \"use_clean_train_data\": True\n",
    "        },\n",
    "        {\n",
    "            \"model\": TPOTClassifierModel,\n",
    "            \"params_list\": [{**model_params_base}],\n",
    "            \"use_clean_train_data\": False\n",
    "        },\n",
    "        {\n",
    "            \"model\": TPOTClassifierModel,\n",
    "            \"params_list\": [{**model_params_base}],\n",
    "            \"use_clean_train_data\": True\n",
    "        },\n",
    "        {\n",
    "            \"model\": H2OAutoMLModel,\n",
    "            \"params_list\": [{**model_params_base}],\n",
    "            \"use_clean_train_data\": False\n",
    "        },\n",
    "        {\n",
    "            \"model\": H2OAutoMLModel,\n",
    "            \"params_list\": [{**model_params_base}],\n",
    "            \"use_clean_train_data\": True\n",
    "        },\n",
    "    ]"
   ]
  },
  {
   "cell_type": "markdown",
   "metadata": {
    "collapsed": false,
    "papermill": {
     "duration": 0.027472,
     "end_time": "2019-11-19T12:40:35.186847",
     "exception": false,
     "start_time": "2019-11-19T12:40:35.159375",
     "status": "completed"
    },
    "pycharm": {
     "is_executing": false,
     "name": "#%% md\n"
    },
    "tags": []
   },
   "source": []
  },
  {
   "cell_type": "code",
   "execution_count": 9,
   "metadata": {
    "collapsed": false,
    "papermill": {
     "duration": 0.046178,
     "end_time": "2019-11-19T12:40:35.261021",
     "exception": false,
     "start_time": "2019-11-19T12:40:35.214843",
     "status": "completed"
    },
    "pycharm": {
     "is_executing": false,
     "name": "#%%\n"
    },
    "tags": []
   },
   "outputs": [],
   "source": [
    "def visualize(df):\n",
    "    visualize_scores(\n",
    "        df,\n",
    "        score_names=[\"test_acc\", \"train_acc\"],\n",
    "        is_higher_score_better=[True, True],\n",
    "        # err_param_name=\"max_angle\",\n",
    "        err_param_name=\"std\",\n",
    "        title=\"Classification scores with added error\"\n",
    "    )\n",
    "    plt.show()"
   ]
  },
  {
   "cell_type": "markdown",
   "metadata": {
    "collapsed": false,
    "papermill": {
     "duration": 0.02727,
     "end_time": "2019-11-19T12:40:35.321357",
     "exception": false,
     "start_time": "2019-11-19T12:40:35.294087",
     "status": "completed"
    },
    "pycharm": {
     "is_executing": false,
     "name": "#%% md\n"
    },
    "tags": []
   },
   "source": []
  },
  {
   "cell_type": "code",
   "execution_count": 10,
   "metadata": {
    "collapsed": false,
    "papermill": {
     "duration": 33854.242556,
     "end_time": "2019-11-19T22:04:49.588541",
     "exception": false,
     "start_time": "2019-11-19T12:40:35.345985",
     "status": "completed"
    },
    "pycharm": {
     "is_executing": false,
     "name": "#%%\n"
    },
    "tags": []
   },
   "outputs": [
    {
     "name": "stderr",
     "output_type": "stream",
     "text": [
      "\r",
      "  0%|          | 0/6 [00:00<?, ?it/s]"
     ]
    },
    {
     "name": "stderr",
     "output_type": "stream",
     "text": [
      "WARNING:root:TimeoutError occurred at train() : "
     ]
    },
    {
     "name": "stderr",
     "output_type": "stream",
     "text": [
      "\n"
     ]
    },
    {
     "name": "stdout",
     "output_type": "stream",
     "text": [
      "<class 'autokeras.image.image_supervised.ImageClassifier'>"
     ]
    },
    {
     "name": "stdout",
     "output_type": "stream",
     "text": [
      "\n"
     ]
    },
    {
     "name": "stdout",
     "output_type": "stream",
     "text": [
      "0.988"
     ]
    },
    {
     "name": "stdout",
     "output_type": "stream",
     "text": [
      "\n"
     ]
    },
    {
     "name": "stderr",
     "output_type": "stream",
     "text": [
      "WARNING:root:TimeoutError occurred at train() : "
     ]
    },
    {
     "name": "stderr",
     "output_type": "stream",
     "text": [
      "\n"
     ]
    },
    {
     "name": "stdout",
     "output_type": "stream",
     "text": [
      "<class 'autokeras.image.image_supervised.ImageClassifier'>"
     ]
    },
    {
     "name": "stdout",
     "output_type": "stream",
     "text": [
      "\n"
     ]
    },
    {
     "name": "stdout",
     "output_type": "stream",
     "text": [
      "0.988"
     ]
    },
    {
     "name": "stdout",
     "output_type": "stream",
     "text": [
      "\n"
     ]
    },
    {
     "name": "stdout",
     "output_type": "stream",
     "text": [
      "\n"
     ]
    },
    {
     "name": "stdout",
     "output_type": "stream",
     "text": [
      "15.37 minutes have elapsed. TPOT will close down.\n",
      "TPOT closed during evaluation in one generation.\n",
      "WARNING: TPOT may not provide a good pipeline if TPOT is stopped/interrupted in a early generation."
     ]
    },
    {
     "name": "stdout",
     "output_type": "stream",
     "text": [
      "\n"
     ]
    },
    {
     "name": "stdout",
     "output_type": "stream",
     "text": [
      "\n"
     ]
    },
    {
     "name": "stdout",
     "output_type": "stream",
     "text": [
      "\n",
      "TPOT closed prematurely. Will use the current best pipeline."
     ]
    },
    {
     "name": "stdout",
     "output_type": "stream",
     "text": [
      "\n"
     ]
    },
    {
     "name": "stdout",
     "output_type": "stream",
     "text": [
      "Best pipeline:"
     ]
    },
    {
     "name": "stdout",
     "output_type": "stream",
     "text": [
      " "
     ]
    },
    {
     "name": "stdout",
     "output_type": "stream",
     "text": [
      "KNeighborsClassifier(LogisticRegression(input_matrix, C=0.5, dual=False, penalty=l1), n_neighbors=12, p=2, weights=distance)"
     ]
    },
    {
     "name": "stdout",
     "output_type": "stream",
     "text": [
      "\n"
     ]
    },
    {
     "name": "stdout",
     "output_type": "stream",
     "text": [
      "<class 'tpot.tpot.TPOTClassifier'>"
     ]
    },
    {
     "name": "stdout",
     "output_type": "stream",
     "text": [
      "\n"
     ]
    },
    {
     "name": "stdout",
     "output_type": "stream",
     "text": [
      "0.984"
     ]
    },
    {
     "name": "stdout",
     "output_type": "stream",
     "text": [
      "\n"
     ]
    },
    {
     "name": "stdout",
     "output_type": "stream",
     "text": [
      "\n"
     ]
    },
    {
     "name": "stdout",
     "output_type": "stream",
     "text": [
      "15.59 minutes have elapsed. TPOT will close down.\n",
      "TPOT closed during evaluation in one generation.\n",
      "WARNING: TPOT may not provide a good pipeline if TPOT is stopped/interrupted in a early generation."
     ]
    },
    {
     "name": "stdout",
     "output_type": "stream",
     "text": [
      "\n"
     ]
    },
    {
     "name": "stdout",
     "output_type": "stream",
     "text": [
      "\n"
     ]
    },
    {
     "name": "stdout",
     "output_type": "stream",
     "text": [
      "\n",
      "TPOT closed prematurely. Will use the current best pipeline."
     ]
    },
    {
     "name": "stdout",
     "output_type": "stream",
     "text": [
      "\n"
     ]
    },
    {
     "name": "stdout",
     "output_type": "stream",
     "text": [
      "Best pipeline:"
     ]
    },
    {
     "name": "stdout",
     "output_type": "stream",
     "text": [
      " "
     ]
    },
    {
     "name": "stdout",
     "output_type": "stream",
     "text": [
      "KNeighborsClassifier(LogisticRegression(input_matrix, C=0.5, dual=False, penalty=l1), n_neighbors=12, p=2, weights=distance)"
     ]
    },
    {
     "name": "stdout",
     "output_type": "stream",
     "text": [
      "\n"
     ]
    },
    {
     "name": "stdout",
     "output_type": "stream",
     "text": [
      "<class 'tpot.tpot.TPOTClassifier'>"
     ]
    },
    {
     "name": "stdout",
     "output_type": "stream",
     "text": [
      "\n"
     ]
    },
    {
     "name": "stdout",
     "output_type": "stream",
     "text": [
      "0.984"
     ]
    },
    {
     "name": "stdout",
     "output_type": "stream",
     "text": [
      "\n"
     ]
    },
    {
     "name": "stdout",
     "output_type": "stream",
     "text": [
      "Checking whether there is an H2O instance running at http://localhost:54321 "
     ]
    },
    {
     "name": "stdout",
     "output_type": "stream",
     "text": [
      "."
     ]
    },
    {
     "name": "stdout",
     "output_type": "stream",
     "text": [
      "."
     ]
    },
    {
     "name": "stdout",
     "output_type": "stream",
     "text": [
      "."
     ]
    },
    {
     "name": "stdout",
     "output_type": "stream",
     "text": [
      "."
     ]
    },
    {
     "name": "stdout",
     "output_type": "stream",
     "text": [
      "."
     ]
    },
    {
     "name": "stdout",
     "output_type": "stream",
     "text": [
      " not found."
     ]
    },
    {
     "name": "stdout",
     "output_type": "stream",
     "text": [
      "\n"
     ]
    },
    {
     "name": "stdout",
     "output_type": "stream",
     "text": [
      "Attempting to start a local H2O server..."
     ]
    },
    {
     "name": "stdout",
     "output_type": "stream",
     "text": [
      "\n"
     ]
    },
    {
     "name": "stdout",
     "output_type": "stream",
     "text": [
      "  Java Version: openjdk version \"11.0.2\" 2019-01-15; OpenJDK Runtime Environment 18.9 (build 11.0.2+9); OpenJDK 64-Bit Server VM 18.9 (build 11.0.2+9, mixed mode)"
     ]
    },
    {
     "name": "stdout",
     "output_type": "stream",
     "text": [
      "\n"
     ]
    },
    {
     "name": "stdout",
     "output_type": "stream",
     "text": [
      "  Starting server from /wrk/users/thalvari/dpEmu-AutoML/venv/lib/python3.6/site-packages/h2o/backend/bin/h2o.jar"
     ]
    },
    {
     "name": "stdout",
     "output_type": "stream",
     "text": [
      "\n"
     ]
    },
    {
     "name": "stdout",
     "output_type": "stream",
     "text": [
      "  Ice root: /wrk/users/thalvari/tmpxr2z6fel"
     ]
    },
    {
     "name": "stdout",
     "output_type": "stream",
     "text": [
      "\n"
     ]
    },
    {
     "name": "stdout",
     "output_type": "stream",
     "text": [
      "  JVM stdout: /wrk/users/thalvari/tmpxr2z6fel/h2o_thalvari_started_from_python.out"
     ]
    },
    {
     "name": "stdout",
     "output_type": "stream",
     "text": [
      "\n"
     ]
    },
    {
     "name": "stdout",
     "output_type": "stream",
     "text": [
      "  JVM stderr: /wrk/users/thalvari/tmpxr2z6fel/h2o_thalvari_started_from_python.err"
     ]
    },
    {
     "name": "stdout",
     "output_type": "stream",
     "text": [
      "\n"
     ]
    },
    {
     "name": "stdout",
     "output_type": "stream",
     "text": [
      "  Server is running at http://127.0.0.1:54321"
     ]
    },
    {
     "name": "stdout",
     "output_type": "stream",
     "text": [
      "\n"
     ]
    },
    {
     "name": "stdout",
     "output_type": "stream",
     "text": [
      "Connecting to H2O server at http://127.0.0.1:54321 .."
     ]
    },
    {
     "name": "stdout",
     "output_type": "stream",
     "text": [
      "."
     ]
    },
    {
     "name": "stdout",
     "output_type": "stream",
     "text": [
      " successful."
     ]
    },
    {
     "name": "stdout",
     "output_type": "stream",
     "text": [
      "\n"
     ]
    },
    {
     "data": {
      "text/html": [
       "<div style=\"overflow:auto\"><table style=\"width:50%\"><tr><td>H2O cluster uptime:</td>\n",
       "<td>02 secs</td></tr>\n",
       "<tr><td>H2O cluster timezone:</td>\n",
       "<td>Europe/Helsinki</td></tr>\n",
       "<tr><td>H2O data parsing timezone:</td>\n",
       "<td>UTC</td></tr>\n",
       "<tr><td>H2O cluster version:</td>\n",
       "<td>3.26.0.10</td></tr>\n",
       "<tr><td>H2O cluster version age:</td>\n",
       "<td>12 days </td></tr>\n",
       "<tr><td>H2O cluster name:</td>\n",
       "<td>#187886847</td></tr>\n",
       "<tr><td>H2O cluster total nodes:</td>\n",
       "<td>1</td></tr>\n",
       "<tr><td>H2O cluster free memory:</td>\n",
       "<td>29.97 Gb</td></tr>\n",
       "<tr><td>H2O cluster total cores:</td>\n",
       "<td>40</td></tr>\n",
       "<tr><td>H2O cluster allowed cores:</td>\n",
       "<td>20</td></tr>\n",
       "<tr><td>H2O cluster status:</td>\n",
       "<td>accepting new members, healthy</td></tr>\n",
       "<tr><td>H2O connection url:</td>\n",
       "<td>http://127.0.0.1:54321</td></tr>\n",
       "<tr><td>H2O connection proxy:</td>\n",
       "<td>{'http': None, 'https': None}</td></tr>\n",
       "<tr><td>H2O internal security:</td>\n",
       "<td>False</td></tr>\n",
       "<tr><td>H2O API Extensions:</td>\n",
       "<td>Amazon S3, XGBoost, Algos, AutoML, Core V3, TargetEncoder, Core V4</td></tr>\n",
       "<tr><td>Python version:</td>\n",
       "<td>3.6.6 final</td></tr></table></div>"
      ],
      "text/plain": [
       "--------------------------  ------------------------------------------------------------------\n",
       "H2O cluster uptime:         02 secs\n",
       "H2O cluster timezone:       Europe/Helsinki\n",
       "H2O data parsing timezone:  UTC\n",
       "H2O cluster version:        3.26.0.10\n",
       "H2O cluster version age:    12 days\n",
       "H2O cluster name:           #187886847\n",
       "H2O cluster total nodes:    1\n",
       "H2O cluster free memory:    29.97 Gb\n",
       "H2O cluster total cores:    40\n",
       "H2O cluster allowed cores:  20\n",
       "H2O cluster status:         accepting new members, healthy\n",
       "H2O connection url:         http://127.0.0.1:54321\n",
       "H2O connection proxy:       {'http': None, 'https': None}\n",
       "H2O internal security:      False\n",
       "H2O API Extensions:         Amazon S3, XGBoost, Algos, AutoML, Core V3, TargetEncoder, Core V4\n",
       "Python version:             3.6.6 final\n",
       "--------------------------  ------------------------------------------------------------------"
      ]
     },
     "metadata": {},
     "output_type": "display_data"
    },
    {
     "name": "stdout",
     "output_type": "stream",
     "text": [
      "H2O session _sid_b17d closed."
     ]
    },
    {
     "name": "stdout",
     "output_type": "stream",
     "text": [
      "\n"
     ]
    },
    {
     "name": "stdout",
     "output_type": "stream",
     "text": [
      "<class 'h2o.automl.autoh2o.H2OAutoML'>"
     ]
    },
    {
     "name": "stdout",
     "output_type": "stream",
     "text": [
      "\n"
     ]
    },
    {
     "name": "stdout",
     "output_type": "stream",
     "text": [
      "0.973"
     ]
    },
    {
     "name": "stdout",
     "output_type": "stream",
     "text": [
      "\n"
     ]
    },
    {
     "name": "stdout",
     "output_type": "stream",
     "text": [
      "Checking whether there is an H2O instance running at http://localhost:54321 "
     ]
    },
    {
     "name": "stdout",
     "output_type": "stream",
     "text": [
      "."
     ]
    },
    {
     "name": "stdout",
     "output_type": "stream",
     "text": [
      "."
     ]
    },
    {
     "name": "stdout",
     "output_type": "stream",
     "text": [
      "."
     ]
    },
    {
     "name": "stdout",
     "output_type": "stream",
     "text": [
      "."
     ]
    },
    {
     "name": "stdout",
     "output_type": "stream",
     "text": [
      "."
     ]
    },
    {
     "name": "stdout",
     "output_type": "stream",
     "text": [
      " not found."
     ]
    },
    {
     "name": "stdout",
     "output_type": "stream",
     "text": [
      "\n"
     ]
    },
    {
     "name": "stdout",
     "output_type": "stream",
     "text": [
      "Attempting to start a local H2O server..."
     ]
    },
    {
     "name": "stdout",
     "output_type": "stream",
     "text": [
      "\n"
     ]
    },
    {
     "name": "stdout",
     "output_type": "stream",
     "text": [
      "  Java Version: openjdk version \"11.0.2\" 2019-01-15; OpenJDK Runtime Environment 18.9 (build 11.0.2+9); OpenJDK 64-Bit Server VM 18.9 (build 11.0.2+9, mixed mode)"
     ]
    },
    {
     "name": "stdout",
     "output_type": "stream",
     "text": [
      "\n"
     ]
    },
    {
     "name": "stdout",
     "output_type": "stream",
     "text": [
      "  Starting server from /wrk/users/thalvari/dpEmu-AutoML/venv/lib/python3.6/site-packages/h2o/backend/bin/h2o.jar"
     ]
    },
    {
     "name": "stdout",
     "output_type": "stream",
     "text": [
      "\n"
     ]
    },
    {
     "name": "stdout",
     "output_type": "stream",
     "text": [
      "  Ice root: /wrk/users/thalvari/tmp1k9l1ruk"
     ]
    },
    {
     "name": "stdout",
     "output_type": "stream",
     "text": [
      "\n"
     ]
    },
    {
     "name": "stdout",
     "output_type": "stream",
     "text": [
      "  JVM stdout: /wrk/users/thalvari/tmp1k9l1ruk/h2o_thalvari_started_from_python.out"
     ]
    },
    {
     "name": "stdout",
     "output_type": "stream",
     "text": [
      "\n"
     ]
    },
    {
     "name": "stdout",
     "output_type": "stream",
     "text": [
      "  JVM stderr: /wrk/users/thalvari/tmp1k9l1ruk/h2o_thalvari_started_from_python.err"
     ]
    },
    {
     "name": "stdout",
     "output_type": "stream",
     "text": [
      "\n"
     ]
    },
    {
     "name": "stdout",
     "output_type": "stream",
     "text": [
      "  Server is running at http://127.0.0.1:54321"
     ]
    },
    {
     "name": "stdout",
     "output_type": "stream",
     "text": [
      "\n"
     ]
    },
    {
     "name": "stdout",
     "output_type": "stream",
     "text": [
      "Connecting to H2O server at http://127.0.0.1:54321 .."
     ]
    },
    {
     "name": "stdout",
     "output_type": "stream",
     "text": [
      "."
     ]
    },
    {
     "name": "stdout",
     "output_type": "stream",
     "text": [
      " successful."
     ]
    },
    {
     "name": "stdout",
     "output_type": "stream",
     "text": [
      "\n"
     ]
    },
    {
     "data": {
      "text/html": [
       "<div style=\"overflow:auto\"><table style=\"width:50%\"><tr><td>H2O cluster uptime:</td>\n",
       "<td>01 secs</td></tr>\n",
       "<tr><td>H2O cluster timezone:</td>\n",
       "<td>Europe/Helsinki</td></tr>\n",
       "<tr><td>H2O data parsing timezone:</td>\n",
       "<td>UTC</td></tr>\n",
       "<tr><td>H2O cluster version:</td>\n",
       "<td>3.26.0.10</td></tr>\n",
       "<tr><td>H2O cluster version age:</td>\n",
       "<td>12 days </td></tr>\n",
       "<tr><td>H2O cluster name:</td>\n",
       "<td>#728410001</td></tr>\n",
       "<tr><td>H2O cluster total nodes:</td>\n",
       "<td>1</td></tr>\n",
       "<tr><td>H2O cluster free memory:</td>\n",
       "<td>29.97 Gb</td></tr>\n",
       "<tr><td>H2O cluster total cores:</td>\n",
       "<td>40</td></tr>\n",
       "<tr><td>H2O cluster allowed cores:</td>\n",
       "<td>20</td></tr>\n",
       "<tr><td>H2O cluster status:</td>\n",
       "<td>accepting new members, healthy</td></tr>\n",
       "<tr><td>H2O connection url:</td>\n",
       "<td>http://127.0.0.1:54321</td></tr>\n",
       "<tr><td>H2O connection proxy:</td>\n",
       "<td>{'http': None, 'https': None}</td></tr>\n",
       "<tr><td>H2O internal security:</td>\n",
       "<td>False</td></tr>\n",
       "<tr><td>H2O API Extensions:</td>\n",
       "<td>Amazon S3, XGBoost, Algos, AutoML, Core V3, TargetEncoder, Core V4</td></tr>\n",
       "<tr><td>Python version:</td>\n",
       "<td>3.6.6 final</td></tr></table></div>"
      ],
      "text/plain": [
       "--------------------------  ------------------------------------------------------------------\n",
       "H2O cluster uptime:         01 secs\n",
       "H2O cluster timezone:       Europe/Helsinki\n",
       "H2O data parsing timezone:  UTC\n",
       "H2O cluster version:        3.26.0.10\n",
       "H2O cluster version age:    12 days\n",
       "H2O cluster name:           #728410001\n",
       "H2O cluster total nodes:    1\n",
       "H2O cluster free memory:    29.97 Gb\n",
       "H2O cluster total cores:    40\n",
       "H2O cluster allowed cores:  20\n",
       "H2O cluster status:         accepting new members, healthy\n",
       "H2O connection url:         http://127.0.0.1:54321\n",
       "H2O connection proxy:       {'http': None, 'https': None}\n",
       "H2O internal security:      False\n",
       "H2O API Extensions:         Amazon S3, XGBoost, Algos, AutoML, Core V3, TargetEncoder, Core V4\n",
       "Python version:             3.6.6 final\n",
       "--------------------------  ------------------------------------------------------------------"
      ]
     },
     "metadata": {},
     "output_type": "display_data"
    },
    {
     "name": "stdout",
     "output_type": "stream",
     "text": [
      "H2O session _sid_98e7 closed."
     ]
    },
    {
     "name": "stdout",
     "output_type": "stream",
     "text": [
      "\n"
     ]
    },
    {
     "name": "stdout",
     "output_type": "stream",
     "text": [
      "<class 'h2o.automl.autoh2o.H2OAutoML'>"
     ]
    },
    {
     "name": "stdout",
     "output_type": "stream",
     "text": [
      "\n"
     ]
    },
    {
     "name": "stdout",
     "output_type": "stream",
     "text": [
      "0.984"
     ]
    },
    {
     "name": "stdout",
     "output_type": "stream",
     "text": [
      "\n"
     ]
    },
    {
     "name": "stderr",
     "output_type": "stream",
     "text": [
      "\r",
      " 17%|█▋        | 1/6 [1:33:13<7:46:05, 5593.16s/it]"
     ]
    },
    {
     "name": "stderr",
     "output_type": "stream",
     "text": [
      "WARNING:root:TimeoutError occurred at train() : "
     ]
    },
    {
     "name": "stderr",
     "output_type": "stream",
     "text": [
      "\n"
     ]
    },
    {
     "name": "stdout",
     "output_type": "stream",
     "text": [
      "<class 'autokeras.image.image_supervised.ImageClassifier'>"
     ]
    },
    {
     "name": "stdout",
     "output_type": "stream",
     "text": [
      "\n"
     ]
    },
    {
     "name": "stdout",
     "output_type": "stream",
     "text": [
      "0.895"
     ]
    },
    {
     "name": "stdout",
     "output_type": "stream",
     "text": [
      "\n"
     ]
    },
    {
     "name": "stderr",
     "output_type": "stream",
     "text": [
      "WARNING:root:TimeoutError occurred at train() : "
     ]
    },
    {
     "name": "stderr",
     "output_type": "stream",
     "text": [
      "\n"
     ]
    },
    {
     "name": "stdout",
     "output_type": "stream",
     "text": [
      "<class 'autokeras.image.image_supervised.ImageClassifier'>"
     ]
    },
    {
     "name": "stdout",
     "output_type": "stream",
     "text": [
      "\n"
     ]
    },
    {
     "name": "stdout",
     "output_type": "stream",
     "text": [
      "0.942"
     ]
    },
    {
     "name": "stdout",
     "output_type": "stream",
     "text": [
      "\n"
     ]
    },
    {
     "name": "stdout",
     "output_type": "stream",
     "text": [
      "\n"
     ]
    },
    {
     "name": "stdout",
     "output_type": "stream",
     "text": [
      "16.18 minutes have elapsed. TPOT will close down.\n",
      "TPOT closed during evaluation in one generation.\n",
      "WARNING: TPOT may not provide a good pipeline if TPOT is stopped/interrupted in a early generation."
     ]
    },
    {
     "name": "stdout",
     "output_type": "stream",
     "text": [
      "\n"
     ]
    },
    {
     "name": "stdout",
     "output_type": "stream",
     "text": [
      "\n"
     ]
    },
    {
     "name": "stdout",
     "output_type": "stream",
     "text": [
      "\n",
      "TPOT closed prematurely. Will use the current best pipeline."
     ]
    },
    {
     "name": "stdout",
     "output_type": "stream",
     "text": [
      "\n"
     ]
    },
    {
     "name": "stdout",
     "output_type": "stream",
     "text": [
      "Best pipeline:"
     ]
    },
    {
     "name": "stdout",
     "output_type": "stream",
     "text": [
      " "
     ]
    },
    {
     "name": "stdout",
     "output_type": "stream",
     "text": [
      "KNeighborsClassifier(LinearSVC(input_matrix, C=10.0, dual=False, loss=squared_hinge, penalty=l2, tol=0.0001), n_neighbors=12, p=2, weights=distance)"
     ]
    },
    {
     "name": "stdout",
     "output_type": "stream",
     "text": [
      "\n"
     ]
    },
    {
     "name": "stdout",
     "output_type": "stream",
     "text": [
      "<class 'tpot.tpot.TPOTClassifier'>"
     ]
    },
    {
     "name": "stdout",
     "output_type": "stream",
     "text": [
      "\n"
     ]
    },
    {
     "name": "stdout",
     "output_type": "stream",
     "text": [
      "0.957"
     ]
    },
    {
     "name": "stdout",
     "output_type": "stream",
     "text": [
      "\n"
     ]
    },
    {
     "name": "stdout",
     "output_type": "stream",
     "text": [
      "\n"
     ]
    },
    {
     "name": "stdout",
     "output_type": "stream",
     "text": [
      "15.36 minutes have elapsed. TPOT will close down.\n",
      "TPOT closed during evaluation in one generation.\n",
      "WARNING: TPOT may not provide a good pipeline if TPOT is stopped/interrupted in a early generation."
     ]
    },
    {
     "name": "stdout",
     "output_type": "stream",
     "text": [
      "\n"
     ]
    },
    {
     "name": "stdout",
     "output_type": "stream",
     "text": [
      "\n"
     ]
    },
    {
     "name": "stdout",
     "output_type": "stream",
     "text": [
      "\n",
      "TPOT closed prematurely. Will use the current best pipeline."
     ]
    },
    {
     "name": "stdout",
     "output_type": "stream",
     "text": [
      "\n"
     ]
    },
    {
     "name": "stdout",
     "output_type": "stream",
     "text": [
      "Best pipeline:"
     ]
    },
    {
     "name": "stdout",
     "output_type": "stream",
     "text": [
      " "
     ]
    },
    {
     "name": "stdout",
     "output_type": "stream",
     "text": [
      "KNeighborsClassifier(LogisticRegression(input_matrix, C=0.5, dual=False, penalty=l1), n_neighbors=12, p=2, weights=distance)"
     ]
    },
    {
     "name": "stdout",
     "output_type": "stream",
     "text": [
      "\n"
     ]
    },
    {
     "name": "stdout",
     "output_type": "stream",
     "text": [
      "<class 'tpot.tpot.TPOTClassifier'>"
     ]
    },
    {
     "name": "stdout",
     "output_type": "stream",
     "text": [
      "\n"
     ]
    },
    {
     "name": "stdout",
     "output_type": "stream",
     "text": [
      "0.965"
     ]
    },
    {
     "name": "stdout",
     "output_type": "stream",
     "text": [
      "\n"
     ]
    },
    {
     "name": "stdout",
     "output_type": "stream",
     "text": [
      "Checking whether there is an H2O instance running at http://localhost:54321 "
     ]
    },
    {
     "name": "stdout",
     "output_type": "stream",
     "text": [
      "."
     ]
    },
    {
     "name": "stdout",
     "output_type": "stream",
     "text": [
      "."
     ]
    },
    {
     "name": "stdout",
     "output_type": "stream",
     "text": [
      "."
     ]
    },
    {
     "name": "stdout",
     "output_type": "stream",
     "text": [
      "."
     ]
    },
    {
     "name": "stdout",
     "output_type": "stream",
     "text": [
      "."
     ]
    },
    {
     "name": "stdout",
     "output_type": "stream",
     "text": [
      " not found."
     ]
    },
    {
     "name": "stdout",
     "output_type": "stream",
     "text": [
      "\n"
     ]
    },
    {
     "name": "stdout",
     "output_type": "stream",
     "text": [
      "Attempting to start a local H2O server..."
     ]
    },
    {
     "name": "stdout",
     "output_type": "stream",
     "text": [
      "\n"
     ]
    },
    {
     "name": "stdout",
     "output_type": "stream",
     "text": [
      "  Java Version: openjdk version \"11.0.2\" 2019-01-15; OpenJDK Runtime Environment 18.9 (build 11.0.2+9); OpenJDK 64-Bit Server VM 18.9 (build 11.0.2+9, mixed mode)"
     ]
    },
    {
     "name": "stdout",
     "output_type": "stream",
     "text": [
      "\n"
     ]
    },
    {
     "name": "stdout",
     "output_type": "stream",
     "text": [
      "  Starting server from /wrk/users/thalvari/dpEmu-AutoML/venv/lib/python3.6/site-packages/h2o/backend/bin/h2o.jar"
     ]
    },
    {
     "name": "stdout",
     "output_type": "stream",
     "text": [
      "\n"
     ]
    },
    {
     "name": "stdout",
     "output_type": "stream",
     "text": [
      "  Ice root: /wrk/users/thalvari/tmpk2iy2_38"
     ]
    },
    {
     "name": "stdout",
     "output_type": "stream",
     "text": [
      "\n"
     ]
    },
    {
     "name": "stdout",
     "output_type": "stream",
     "text": [
      "  JVM stdout: /wrk/users/thalvari/tmpk2iy2_38/h2o_thalvari_started_from_python.out"
     ]
    },
    {
     "name": "stdout",
     "output_type": "stream",
     "text": [
      "\n"
     ]
    },
    {
     "name": "stdout",
     "output_type": "stream",
     "text": [
      "  JVM stderr: /wrk/users/thalvari/tmpk2iy2_38/h2o_thalvari_started_from_python.err"
     ]
    },
    {
     "name": "stdout",
     "output_type": "stream",
     "text": [
      "\n"
     ]
    },
    {
     "name": "stdout",
     "output_type": "stream",
     "text": [
      "  Server is running at http://127.0.0.1:54321"
     ]
    },
    {
     "name": "stdout",
     "output_type": "stream",
     "text": [
      "\n"
     ]
    },
    {
     "name": "stdout",
     "output_type": "stream",
     "text": [
      "Connecting to H2O server at http://127.0.0.1:54321 .."
     ]
    },
    {
     "name": "stdout",
     "output_type": "stream",
     "text": [
      "."
     ]
    },
    {
     "name": "stdout",
     "output_type": "stream",
     "text": [
      " successful."
     ]
    },
    {
     "name": "stdout",
     "output_type": "stream",
     "text": [
      "\n"
     ]
    },
    {
     "data": {
      "text/html": [
       "<div style=\"overflow:auto\"><table style=\"width:50%\"><tr><td>H2O cluster uptime:</td>\n",
       "<td>01 secs</td></tr>\n",
       "<tr><td>H2O cluster timezone:</td>\n",
       "<td>Europe/Helsinki</td></tr>\n",
       "<tr><td>H2O data parsing timezone:</td>\n",
       "<td>UTC</td></tr>\n",
       "<tr><td>H2O cluster version:</td>\n",
       "<td>3.26.0.10</td></tr>\n",
       "<tr><td>H2O cluster version age:</td>\n",
       "<td>12 days </td></tr>\n",
       "<tr><td>H2O cluster name:</td>\n",
       "<td>#652134232</td></tr>\n",
       "<tr><td>H2O cluster total nodes:</td>\n",
       "<td>1</td></tr>\n",
       "<tr><td>H2O cluster free memory:</td>\n",
       "<td>29.97 Gb</td></tr>\n",
       "<tr><td>H2O cluster total cores:</td>\n",
       "<td>40</td></tr>\n",
       "<tr><td>H2O cluster allowed cores:</td>\n",
       "<td>20</td></tr>\n",
       "<tr><td>H2O cluster status:</td>\n",
       "<td>accepting new members, healthy</td></tr>\n",
       "<tr><td>H2O connection url:</td>\n",
       "<td>http://127.0.0.1:54321</td></tr>\n",
       "<tr><td>H2O connection proxy:</td>\n",
       "<td>{'http': None, 'https': None}</td></tr>\n",
       "<tr><td>H2O internal security:</td>\n",
       "<td>False</td></tr>\n",
       "<tr><td>H2O API Extensions:</td>\n",
       "<td>Amazon S3, XGBoost, Algos, AutoML, Core V3, TargetEncoder, Core V4</td></tr>\n",
       "<tr><td>Python version:</td>\n",
       "<td>3.6.6 final</td></tr></table></div>"
      ],
      "text/plain": [
       "--------------------------  ------------------------------------------------------------------\n",
       "H2O cluster uptime:         01 secs\n",
       "H2O cluster timezone:       Europe/Helsinki\n",
       "H2O data parsing timezone:  UTC\n",
       "H2O cluster version:        3.26.0.10\n",
       "H2O cluster version age:    12 days\n",
       "H2O cluster name:           #652134232\n",
       "H2O cluster total nodes:    1\n",
       "H2O cluster free memory:    29.97 Gb\n",
       "H2O cluster total cores:    40\n",
       "H2O cluster allowed cores:  20\n",
       "H2O cluster status:         accepting new members, healthy\n",
       "H2O connection url:         http://127.0.0.1:54321\n",
       "H2O connection proxy:       {'http': None, 'https': None}\n",
       "H2O internal security:      False\n",
       "H2O API Extensions:         Amazon S3, XGBoost, Algos, AutoML, Core V3, TargetEncoder, Core V4\n",
       "Python version:             3.6.6 final\n",
       "--------------------------  ------------------------------------------------------------------"
      ]
     },
     "metadata": {},
     "output_type": "display_data"
    },
    {
     "name": "stdout",
     "output_type": "stream",
     "text": [
      "H2O session _sid_9a37 closed."
     ]
    },
    {
     "name": "stdout",
     "output_type": "stream",
     "text": [
      "\n"
     ]
    },
    {
     "name": "stdout",
     "output_type": "stream",
     "text": [
      "<class 'h2o.automl.autoh2o.H2OAutoML'>"
     ]
    },
    {
     "name": "stdout",
     "output_type": "stream",
     "text": [
      "\n"
     ]
    },
    {
     "name": "stdout",
     "output_type": "stream",
     "text": [
      "0.93"
     ]
    },
    {
     "name": "stdout",
     "output_type": "stream",
     "text": [
      "\n"
     ]
    },
    {
     "name": "stdout",
     "output_type": "stream",
     "text": [
      "Checking whether there is an H2O instance running at http://localhost:54321 "
     ]
    },
    {
     "name": "stdout",
     "output_type": "stream",
     "text": [
      "."
     ]
    },
    {
     "name": "stdout",
     "output_type": "stream",
     "text": [
      "."
     ]
    },
    {
     "name": "stdout",
     "output_type": "stream",
     "text": [
      "."
     ]
    },
    {
     "name": "stdout",
     "output_type": "stream",
     "text": [
      "."
     ]
    },
    {
     "name": "stdout",
     "output_type": "stream",
     "text": [
      "."
     ]
    },
    {
     "name": "stdout",
     "output_type": "stream",
     "text": [
      " not found."
     ]
    },
    {
     "name": "stdout",
     "output_type": "stream",
     "text": [
      "\n"
     ]
    },
    {
     "name": "stdout",
     "output_type": "stream",
     "text": [
      "Attempting to start a local H2O server..."
     ]
    },
    {
     "name": "stdout",
     "output_type": "stream",
     "text": [
      "\n"
     ]
    },
    {
     "name": "stdout",
     "output_type": "stream",
     "text": [
      "  Java Version: openjdk version \"11.0.2\" 2019-01-15; OpenJDK Runtime Environment 18.9 (build 11.0.2+9); OpenJDK 64-Bit Server VM 18.9 (build 11.0.2+9, mixed mode)"
     ]
    },
    {
     "name": "stdout",
     "output_type": "stream",
     "text": [
      "\n"
     ]
    },
    {
     "name": "stdout",
     "output_type": "stream",
     "text": [
      "  Starting server from /wrk/users/thalvari/dpEmu-AutoML/venv/lib/python3.6/site-packages/h2o/backend/bin/h2o.jar"
     ]
    },
    {
     "name": "stdout",
     "output_type": "stream",
     "text": [
      "\n"
     ]
    },
    {
     "name": "stdout",
     "output_type": "stream",
     "text": [
      "  Ice root: /wrk/users/thalvari/tmptr84iyvn"
     ]
    },
    {
     "name": "stdout",
     "output_type": "stream",
     "text": [
      "\n"
     ]
    },
    {
     "name": "stdout",
     "output_type": "stream",
     "text": [
      "  JVM stdout: /wrk/users/thalvari/tmptr84iyvn/h2o_thalvari_started_from_python.out"
     ]
    },
    {
     "name": "stdout",
     "output_type": "stream",
     "text": [
      "\n"
     ]
    },
    {
     "name": "stdout",
     "output_type": "stream",
     "text": [
      "  JVM stderr: /wrk/users/thalvari/tmptr84iyvn/h2o_thalvari_started_from_python.err"
     ]
    },
    {
     "name": "stdout",
     "output_type": "stream",
     "text": [
      "\n"
     ]
    },
    {
     "name": "stdout",
     "output_type": "stream",
     "text": [
      "  Server is running at http://127.0.0.1:54321"
     ]
    },
    {
     "name": "stdout",
     "output_type": "stream",
     "text": [
      "\n"
     ]
    },
    {
     "name": "stdout",
     "output_type": "stream",
     "text": [
      "Connecting to H2O server at http://127.0.0.1:54321 .."
     ]
    },
    {
     "name": "stdout",
     "output_type": "stream",
     "text": [
      "."
     ]
    },
    {
     "name": "stdout",
     "output_type": "stream",
     "text": [
      " successful."
     ]
    },
    {
     "name": "stdout",
     "output_type": "stream",
     "text": [
      "\n"
     ]
    },
    {
     "data": {
      "text/html": [
       "<div style=\"overflow:auto\"><table style=\"width:50%\"><tr><td>H2O cluster uptime:</td>\n",
       "<td>01 secs</td></tr>\n",
       "<tr><td>H2O cluster timezone:</td>\n",
       "<td>Europe/Helsinki</td></tr>\n",
       "<tr><td>H2O data parsing timezone:</td>\n",
       "<td>UTC</td></tr>\n",
       "<tr><td>H2O cluster version:</td>\n",
       "<td>3.26.0.10</td></tr>\n",
       "<tr><td>H2O cluster version age:</td>\n",
       "<td>12 days </td></tr>\n",
       "<tr><td>H2O cluster name:</td>\n",
       "<td>#97864931</td></tr>\n",
       "<tr><td>H2O cluster total nodes:</td>\n",
       "<td>1</td></tr>\n",
       "<tr><td>H2O cluster free memory:</td>\n",
       "<td>29.97 Gb</td></tr>\n",
       "<tr><td>H2O cluster total cores:</td>\n",
       "<td>40</td></tr>\n",
       "<tr><td>H2O cluster allowed cores:</td>\n",
       "<td>20</td></tr>\n",
       "<tr><td>H2O cluster status:</td>\n",
       "<td>accepting new members, healthy</td></tr>\n",
       "<tr><td>H2O connection url:</td>\n",
       "<td>http://127.0.0.1:54321</td></tr>\n",
       "<tr><td>H2O connection proxy:</td>\n",
       "<td>{'http': None, 'https': None}</td></tr>\n",
       "<tr><td>H2O internal security:</td>\n",
       "<td>False</td></tr>\n",
       "<tr><td>H2O API Extensions:</td>\n",
       "<td>Amazon S3, XGBoost, Algos, AutoML, Core V3, TargetEncoder, Core V4</td></tr>\n",
       "<tr><td>Python version:</td>\n",
       "<td>3.6.6 final</td></tr></table></div>"
      ],
      "text/plain": [
       "--------------------------  ------------------------------------------------------------------\n",
       "H2O cluster uptime:         01 secs\n",
       "H2O cluster timezone:       Europe/Helsinki\n",
       "H2O data parsing timezone:  UTC\n",
       "H2O cluster version:        3.26.0.10\n",
       "H2O cluster version age:    12 days\n",
       "H2O cluster name:           #97864931\n",
       "H2O cluster total nodes:    1\n",
       "H2O cluster free memory:    29.97 Gb\n",
       "H2O cluster total cores:    40\n",
       "H2O cluster allowed cores:  20\n",
       "H2O cluster status:         accepting new members, healthy\n",
       "H2O connection url:         http://127.0.0.1:54321\n",
       "H2O connection proxy:       {'http': None, 'https': None}\n",
       "H2O internal security:      False\n",
       "H2O API Extensions:         Amazon S3, XGBoost, Algos, AutoML, Core V3, TargetEncoder, Core V4\n",
       "Python version:             3.6.6 final\n",
       "--------------------------  ------------------------------------------------------------------"
      ]
     },
     "metadata": {},
     "output_type": "display_data"
    },
    {
     "name": "stdout",
     "output_type": "stream",
     "text": [
      "H2O session _sid_b106 closed."
     ]
    },
    {
     "name": "stdout",
     "output_type": "stream",
     "text": [
      "\n"
     ]
    },
    {
     "name": "stdout",
     "output_type": "stream",
     "text": [
      "<class 'h2o.automl.autoh2o.H2OAutoML'>"
     ]
    },
    {
     "name": "stdout",
     "output_type": "stream",
     "text": [
      "\n"
     ]
    },
    {
     "name": "stdout",
     "output_type": "stream",
     "text": [
      "0.86"
     ]
    },
    {
     "name": "stdout",
     "output_type": "stream",
     "text": [
      "\n"
     ]
    },
    {
     "name": "stderr",
     "output_type": "stream",
     "text": [
      "\r",
      " 33%|███▎      | 2/6 [3:07:16<6:13:53, 5608.29s/it]"
     ]
    },
    {
     "name": "stderr",
     "output_type": "stream",
     "text": [
      "WARNING:root:TimeoutError occurred at train() : "
     ]
    },
    {
     "name": "stderr",
     "output_type": "stream",
     "text": [
      "\n"
     ]
    },
    {
     "name": "stdout",
     "output_type": "stream",
     "text": [
      "<class 'autokeras.image.image_supervised.ImageClassifier'>"
     ]
    },
    {
     "name": "stdout",
     "output_type": "stream",
     "text": [
      "\n"
     ]
    },
    {
     "name": "stdout",
     "output_type": "stream",
     "text": [
      "0.696"
     ]
    },
    {
     "name": "stdout",
     "output_type": "stream",
     "text": [
      "\n"
     ]
    },
    {
     "name": "stderr",
     "output_type": "stream",
     "text": [
      "WARNING:root:TimeoutError occurred at train() : "
     ]
    },
    {
     "name": "stderr",
     "output_type": "stream",
     "text": [
      "\n"
     ]
    },
    {
     "name": "stdout",
     "output_type": "stream",
     "text": [
      "<class 'autokeras.image.image_supervised.ImageClassifier'>"
     ]
    },
    {
     "name": "stdout",
     "output_type": "stream",
     "text": [
      "\n"
     ]
    },
    {
     "name": "stdout",
     "output_type": "stream",
     "text": [
      "0.728"
     ]
    },
    {
     "name": "stdout",
     "output_type": "stream",
     "text": [
      "\n"
     ]
    },
    {
     "name": "stdout",
     "output_type": "stream",
     "text": [
      "\n"
     ]
    },
    {
     "name": "stdout",
     "output_type": "stream",
     "text": [
      "22.07 minutes have elapsed. TPOT will close down.\n",
      "TPOT closed during evaluation in one generation.\n",
      "WARNING: TPOT may not provide a good pipeline if TPOT is stopped/interrupted in a early generation."
     ]
    },
    {
     "name": "stdout",
     "output_type": "stream",
     "text": [
      "\n"
     ]
    },
    {
     "name": "stdout",
     "output_type": "stream",
     "text": [
      "\n"
     ]
    },
    {
     "name": "stdout",
     "output_type": "stream",
     "text": [
      "\n",
      "TPOT closed prematurely. Will use the current best pipeline."
     ]
    },
    {
     "name": "stdout",
     "output_type": "stream",
     "text": [
      "\n"
     ]
    },
    {
     "name": "stdout",
     "output_type": "stream",
     "text": [
      "Best pipeline:"
     ]
    },
    {
     "name": "stdout",
     "output_type": "stream",
     "text": [
      " "
     ]
    },
    {
     "name": "stdout",
     "output_type": "stream",
     "text": [
      "KNeighborsClassifier(input_matrix, n_neighbors=70, p=2, weights=distance)"
     ]
    },
    {
     "name": "stdout",
     "output_type": "stream",
     "text": [
      "\n"
     ]
    },
    {
     "name": "stdout",
     "output_type": "stream",
     "text": [
      "<class 'tpot.tpot.TPOTClassifier'>"
     ]
    },
    {
     "name": "stdout",
     "output_type": "stream",
     "text": [
      "\n"
     ]
    },
    {
     "name": "stdout",
     "output_type": "stream",
     "text": [
      "0.825"
     ]
    },
    {
     "name": "stdout",
     "output_type": "stream",
     "text": [
      "\n"
     ]
    },
    {
     "name": "stdout",
     "output_type": "stream",
     "text": [
      "\n"
     ]
    },
    {
     "name": "stdout",
     "output_type": "stream",
     "text": [
      "15.33 minutes have elapsed. TPOT will close down.\n",
      "TPOT closed during evaluation in one generation.\n",
      "WARNING: TPOT may not provide a good pipeline if TPOT is stopped/interrupted in a early generation."
     ]
    },
    {
     "name": "stdout",
     "output_type": "stream",
     "text": [
      "\n"
     ]
    },
    {
     "name": "stdout",
     "output_type": "stream",
     "text": [
      "\n"
     ]
    },
    {
     "name": "stdout",
     "output_type": "stream",
     "text": [
      "\n",
      "TPOT closed prematurely. Will use the current best pipeline."
     ]
    },
    {
     "name": "stdout",
     "output_type": "stream",
     "text": [
      "\n"
     ]
    },
    {
     "name": "stdout",
     "output_type": "stream",
     "text": [
      "Best pipeline:"
     ]
    },
    {
     "name": "stdout",
     "output_type": "stream",
     "text": [
      " "
     ]
    },
    {
     "name": "stdout",
     "output_type": "stream",
     "text": [
      "KNeighborsClassifier(LogisticRegression(input_matrix, C=0.5, dual=False, penalty=l1), n_neighbors=12, p=2, weights=distance)"
     ]
    },
    {
     "name": "stdout",
     "output_type": "stream",
     "text": [
      "\n"
     ]
    },
    {
     "name": "stdout",
     "output_type": "stream",
     "text": [
      "<class 'tpot.tpot.TPOTClassifier'>"
     ]
    },
    {
     "name": "stdout",
     "output_type": "stream",
     "text": [
      "\n"
     ]
    },
    {
     "name": "stdout",
     "output_type": "stream",
     "text": [
      "0.899"
     ]
    },
    {
     "name": "stdout",
     "output_type": "stream",
     "text": [
      "\n"
     ]
    },
    {
     "name": "stdout",
     "output_type": "stream",
     "text": [
      "Checking whether there is an H2O instance running at http://localhost:54321 "
     ]
    },
    {
     "name": "stdout",
     "output_type": "stream",
     "text": [
      "."
     ]
    },
    {
     "name": "stdout",
     "output_type": "stream",
     "text": [
      "."
     ]
    },
    {
     "name": "stdout",
     "output_type": "stream",
     "text": [
      "."
     ]
    },
    {
     "name": "stdout",
     "output_type": "stream",
     "text": [
      "."
     ]
    },
    {
     "name": "stdout",
     "output_type": "stream",
     "text": [
      "."
     ]
    },
    {
     "name": "stdout",
     "output_type": "stream",
     "text": [
      " not found."
     ]
    },
    {
     "name": "stdout",
     "output_type": "stream",
     "text": [
      "\n"
     ]
    },
    {
     "name": "stdout",
     "output_type": "stream",
     "text": [
      "Attempting to start a local H2O server..."
     ]
    },
    {
     "name": "stdout",
     "output_type": "stream",
     "text": [
      "\n"
     ]
    },
    {
     "name": "stdout",
     "output_type": "stream",
     "text": [
      "  Java Version: openjdk version \"11.0.2\" 2019-01-15; OpenJDK Runtime Environment 18.9 (build 11.0.2+9); OpenJDK 64-Bit Server VM 18.9 (build 11.0.2+9, mixed mode)"
     ]
    },
    {
     "name": "stdout",
     "output_type": "stream",
     "text": [
      "\n"
     ]
    },
    {
     "name": "stdout",
     "output_type": "stream",
     "text": [
      "  Starting server from /wrk/users/thalvari/dpEmu-AutoML/venv/lib/python3.6/site-packages/h2o/backend/bin/h2o.jar"
     ]
    },
    {
     "name": "stdout",
     "output_type": "stream",
     "text": [
      "\n"
     ]
    },
    {
     "name": "stdout",
     "output_type": "stream",
     "text": [
      "  Ice root: /wrk/users/thalvari/tmp5fp2mpit"
     ]
    },
    {
     "name": "stdout",
     "output_type": "stream",
     "text": [
      "\n"
     ]
    },
    {
     "name": "stdout",
     "output_type": "stream",
     "text": [
      "  JVM stdout: /wrk/users/thalvari/tmp5fp2mpit/h2o_thalvari_started_from_python.out"
     ]
    },
    {
     "name": "stdout",
     "output_type": "stream",
     "text": [
      "\n"
     ]
    },
    {
     "name": "stdout",
     "output_type": "stream",
     "text": [
      "  JVM stderr: /wrk/users/thalvari/tmp5fp2mpit/h2o_thalvari_started_from_python.err"
     ]
    },
    {
     "name": "stdout",
     "output_type": "stream",
     "text": [
      "\n"
     ]
    },
    {
     "name": "stdout",
     "output_type": "stream",
     "text": [
      "  Server is running at http://127.0.0.1:54321"
     ]
    },
    {
     "name": "stdout",
     "output_type": "stream",
     "text": [
      "\n"
     ]
    },
    {
     "name": "stdout",
     "output_type": "stream",
     "text": [
      "Connecting to H2O server at http://127.0.0.1:54321 .."
     ]
    },
    {
     "name": "stdout",
     "output_type": "stream",
     "text": [
      "."
     ]
    },
    {
     "name": "stdout",
     "output_type": "stream",
     "text": [
      " successful."
     ]
    },
    {
     "name": "stdout",
     "output_type": "stream",
     "text": [
      "\n"
     ]
    },
    {
     "data": {
      "text/html": [
       "<div style=\"overflow:auto\"><table style=\"width:50%\"><tr><td>H2O cluster uptime:</td>\n",
       "<td>01 secs</td></tr>\n",
       "<tr><td>H2O cluster timezone:</td>\n",
       "<td>Europe/Helsinki</td></tr>\n",
       "<tr><td>H2O data parsing timezone:</td>\n",
       "<td>UTC</td></tr>\n",
       "<tr><td>H2O cluster version:</td>\n",
       "<td>3.26.0.10</td></tr>\n",
       "<tr><td>H2O cluster version age:</td>\n",
       "<td>12 days </td></tr>\n",
       "<tr><td>H2O cluster name:</td>\n",
       "<td>#310299227</td></tr>\n",
       "<tr><td>H2O cluster total nodes:</td>\n",
       "<td>1</td></tr>\n",
       "<tr><td>H2O cluster free memory:</td>\n",
       "<td>29.97 Gb</td></tr>\n",
       "<tr><td>H2O cluster total cores:</td>\n",
       "<td>40</td></tr>\n",
       "<tr><td>H2O cluster allowed cores:</td>\n",
       "<td>20</td></tr>\n",
       "<tr><td>H2O cluster status:</td>\n",
       "<td>accepting new members, healthy</td></tr>\n",
       "<tr><td>H2O connection url:</td>\n",
       "<td>http://127.0.0.1:54321</td></tr>\n",
       "<tr><td>H2O connection proxy:</td>\n",
       "<td>{'http': None, 'https': None}</td></tr>\n",
       "<tr><td>H2O internal security:</td>\n",
       "<td>False</td></tr>\n",
       "<tr><td>H2O API Extensions:</td>\n",
       "<td>Amazon S3, XGBoost, Algos, AutoML, Core V3, TargetEncoder, Core V4</td></tr>\n",
       "<tr><td>Python version:</td>\n",
       "<td>3.6.6 final</td></tr></table></div>"
      ],
      "text/plain": [
       "--------------------------  ------------------------------------------------------------------\n",
       "H2O cluster uptime:         01 secs\n",
       "H2O cluster timezone:       Europe/Helsinki\n",
       "H2O data parsing timezone:  UTC\n",
       "H2O cluster version:        3.26.0.10\n",
       "H2O cluster version age:    12 days\n",
       "H2O cluster name:           #310299227\n",
       "H2O cluster total nodes:    1\n",
       "H2O cluster free memory:    29.97 Gb\n",
       "H2O cluster total cores:    40\n",
       "H2O cluster allowed cores:  20\n",
       "H2O cluster status:         accepting new members, healthy\n",
       "H2O connection url:         http://127.0.0.1:54321\n",
       "H2O connection proxy:       {'http': None, 'https': None}\n",
       "H2O internal security:      False\n",
       "H2O API Extensions:         Amazon S3, XGBoost, Algos, AutoML, Core V3, TargetEncoder, Core V4\n",
       "Python version:             3.6.6 final\n",
       "--------------------------  ------------------------------------------------------------------"
      ]
     },
     "metadata": {},
     "output_type": "display_data"
    },
    {
     "name": "stdout",
     "output_type": "stream",
     "text": [
      "H2O session _sid_8fe2 closed."
     ]
    },
    {
     "name": "stdout",
     "output_type": "stream",
     "text": [
      "\n"
     ]
    },
    {
     "name": "stdout",
     "output_type": "stream",
     "text": [
      "<class 'h2o.automl.autoh2o.H2OAutoML'>"
     ]
    },
    {
     "name": "stdout",
     "output_type": "stream",
     "text": [
      "\n"
     ]
    },
    {
     "name": "stdout",
     "output_type": "stream",
     "text": [
      "0.802"
     ]
    },
    {
     "name": "stdout",
     "output_type": "stream",
     "text": [
      "\n"
     ]
    },
    {
     "name": "stdout",
     "output_type": "stream",
     "text": [
      "Checking whether there is an H2O instance running at http://localhost:54321 "
     ]
    },
    {
     "name": "stdout",
     "output_type": "stream",
     "text": [
      "."
     ]
    },
    {
     "name": "stdout",
     "output_type": "stream",
     "text": [
      "."
     ]
    },
    {
     "name": "stdout",
     "output_type": "stream",
     "text": [
      "."
     ]
    },
    {
     "name": "stdout",
     "output_type": "stream",
     "text": [
      "."
     ]
    },
    {
     "name": "stdout",
     "output_type": "stream",
     "text": [
      "."
     ]
    },
    {
     "name": "stdout",
     "output_type": "stream",
     "text": [
      " not found."
     ]
    },
    {
     "name": "stdout",
     "output_type": "stream",
     "text": [
      "\n"
     ]
    },
    {
     "name": "stdout",
     "output_type": "stream",
     "text": [
      "Attempting to start a local H2O server..."
     ]
    },
    {
     "name": "stdout",
     "output_type": "stream",
     "text": [
      "\n"
     ]
    },
    {
     "name": "stdout",
     "output_type": "stream",
     "text": [
      "  Java Version: openjdk version \"11.0.2\" 2019-01-15; OpenJDK Runtime Environment 18.9 (build 11.0.2+9); OpenJDK 64-Bit Server VM 18.9 (build 11.0.2+9, mixed mode)"
     ]
    },
    {
     "name": "stdout",
     "output_type": "stream",
     "text": [
      "\n"
     ]
    },
    {
     "name": "stdout",
     "output_type": "stream",
     "text": [
      "  Starting server from /wrk/users/thalvari/dpEmu-AutoML/venv/lib/python3.6/site-packages/h2o/backend/bin/h2o.jar"
     ]
    },
    {
     "name": "stdout",
     "output_type": "stream",
     "text": [
      "\n"
     ]
    },
    {
     "name": "stdout",
     "output_type": "stream",
     "text": [
      "  Ice root: /wrk/users/thalvari/tmpfxk942ru"
     ]
    },
    {
     "name": "stdout",
     "output_type": "stream",
     "text": [
      "\n"
     ]
    },
    {
     "name": "stdout",
     "output_type": "stream",
     "text": [
      "  JVM stdout: /wrk/users/thalvari/tmpfxk942ru/h2o_thalvari_started_from_python.out"
     ]
    },
    {
     "name": "stdout",
     "output_type": "stream",
     "text": [
      "\n"
     ]
    },
    {
     "name": "stdout",
     "output_type": "stream",
     "text": [
      "  JVM stderr: /wrk/users/thalvari/tmpfxk942ru/h2o_thalvari_started_from_python.err"
     ]
    },
    {
     "name": "stdout",
     "output_type": "stream",
     "text": [
      "\n"
     ]
    },
    {
     "name": "stdout",
     "output_type": "stream",
     "text": [
      "  Server is running at http://127.0.0.1:54321"
     ]
    },
    {
     "name": "stdout",
     "output_type": "stream",
     "text": [
      "\n"
     ]
    },
    {
     "name": "stdout",
     "output_type": "stream",
     "text": [
      "Connecting to H2O server at http://127.0.0.1:54321 .."
     ]
    },
    {
     "name": "stdout",
     "output_type": "stream",
     "text": [
      "."
     ]
    },
    {
     "name": "stdout",
     "output_type": "stream",
     "text": [
      " successful."
     ]
    },
    {
     "name": "stdout",
     "output_type": "stream",
     "text": [
      "\n"
     ]
    },
    {
     "data": {
      "text/html": [
       "<div style=\"overflow:auto\"><table style=\"width:50%\"><tr><td>H2O cluster uptime:</td>\n",
       "<td>01 secs</td></tr>\n",
       "<tr><td>H2O cluster timezone:</td>\n",
       "<td>Europe/Helsinki</td></tr>\n",
       "<tr><td>H2O data parsing timezone:</td>\n",
       "<td>UTC</td></tr>\n",
       "<tr><td>H2O cluster version:</td>\n",
       "<td>3.26.0.10</td></tr>\n",
       "<tr><td>H2O cluster version age:</td>\n",
       "<td>12 days </td></tr>\n",
       "<tr><td>H2O cluster name:</td>\n",
       "<td>#511443949</td></tr>\n",
       "<tr><td>H2O cluster total nodes:</td>\n",
       "<td>1</td></tr>\n",
       "<tr><td>H2O cluster free memory:</td>\n",
       "<td>29.97 Gb</td></tr>\n",
       "<tr><td>H2O cluster total cores:</td>\n",
       "<td>40</td></tr>\n",
       "<tr><td>H2O cluster allowed cores:</td>\n",
       "<td>20</td></tr>\n",
       "<tr><td>H2O cluster status:</td>\n",
       "<td>accepting new members, healthy</td></tr>\n",
       "<tr><td>H2O connection url:</td>\n",
       "<td>http://127.0.0.1:54321</td></tr>\n",
       "<tr><td>H2O connection proxy:</td>\n",
       "<td>{'http': None, 'https': None}</td></tr>\n",
       "<tr><td>H2O internal security:</td>\n",
       "<td>False</td></tr>\n",
       "<tr><td>H2O API Extensions:</td>\n",
       "<td>Amazon S3, XGBoost, Algos, AutoML, Core V3, TargetEncoder, Core V4</td></tr>\n",
       "<tr><td>Python version:</td>\n",
       "<td>3.6.6 final</td></tr></table></div>"
      ],
      "text/plain": [
       "--------------------------  ------------------------------------------------------------------\n",
       "H2O cluster uptime:         01 secs\n",
       "H2O cluster timezone:       Europe/Helsinki\n",
       "H2O data parsing timezone:  UTC\n",
       "H2O cluster version:        3.26.0.10\n",
       "H2O cluster version age:    12 days\n",
       "H2O cluster name:           #511443949\n",
       "H2O cluster total nodes:    1\n",
       "H2O cluster free memory:    29.97 Gb\n",
       "H2O cluster total cores:    40\n",
       "H2O cluster allowed cores:  20\n",
       "H2O cluster status:         accepting new members, healthy\n",
       "H2O connection url:         http://127.0.0.1:54321\n",
       "H2O connection proxy:       {'http': None, 'https': None}\n",
       "H2O internal security:      False\n",
       "H2O API Extensions:         Amazon S3, XGBoost, Algos, AutoML, Core V3, TargetEncoder, Core V4\n",
       "Python version:             3.6.6 final\n",
       "--------------------------  ------------------------------------------------------------------"
      ]
     },
     "metadata": {},
     "output_type": "display_data"
    },
    {
     "name": "stdout",
     "output_type": "stream",
     "text": [
      "H2O session _sid_b9e6 closed."
     ]
    },
    {
     "name": "stdout",
     "output_type": "stream",
     "text": [
      "\n"
     ]
    },
    {
     "name": "stdout",
     "output_type": "stream",
     "text": [
      "<class 'h2o.automl.autoh2o.H2OAutoML'>"
     ]
    },
    {
     "name": "stdout",
     "output_type": "stream",
     "text": [
      "\n"
     ]
    },
    {
     "name": "stdout",
     "output_type": "stream",
     "text": [
      "0.541"
     ]
    },
    {
     "name": "stdout",
     "output_type": "stream",
     "text": [
      "\n"
     ]
    },
    {
     "name": "stderr",
     "output_type": "stream",
     "text": [
      "\r",
      " 50%|█████     | 3/6 [4:47:21<4:46:21, 5727.12s/it]"
     ]
    },
    {
     "name": "stdout",
     "output_type": "stream",
     "text": [
      "<class 'autokeras.image.image_supervised.ImageClassifier'>"
     ]
    },
    {
     "name": "stdout",
     "output_type": "stream",
     "text": [
      "\n"
     ]
    },
    {
     "name": "stdout",
     "output_type": "stream",
     "text": [
      "0.463"
     ]
    },
    {
     "name": "stdout",
     "output_type": "stream",
     "text": [
      "\n"
     ]
    },
    {
     "name": "stderr",
     "output_type": "stream",
     "text": [
      "WARNING:root:TimeoutError occurred at train() : "
     ]
    },
    {
     "name": "stderr",
     "output_type": "stream",
     "text": [
      "\n"
     ]
    },
    {
     "name": "stdout",
     "output_type": "stream",
     "text": [
      "<class 'autokeras.image.image_supervised.ImageClassifier'>"
     ]
    },
    {
     "name": "stdout",
     "output_type": "stream",
     "text": [
      "\n"
     ]
    },
    {
     "name": "stdout",
     "output_type": "stream",
     "text": [
      "0.486"
     ]
    },
    {
     "name": "stdout",
     "output_type": "stream",
     "text": [
      "\n"
     ]
    },
    {
     "name": "stdout",
     "output_type": "stream",
     "text": [
      "\n"
     ]
    },
    {
     "name": "stdout",
     "output_type": "stream",
     "text": [
      "16.17 minutes have elapsed. TPOT will close down.\n",
      "TPOT closed during evaluation in one generation.\n",
      "WARNING: TPOT may not provide a good pipeline if TPOT is stopped/interrupted in a early generation."
     ]
    },
    {
     "name": "stdout",
     "output_type": "stream",
     "text": [
      "\n"
     ]
    },
    {
     "name": "stdout",
     "output_type": "stream",
     "text": [
      "\n"
     ]
    },
    {
     "name": "stdout",
     "output_type": "stream",
     "text": [
      "\n",
      "TPOT closed prematurely. Will use the current best pipeline."
     ]
    },
    {
     "name": "stdout",
     "output_type": "stream",
     "text": [
      "\n"
     ]
    },
    {
     "name": "stdout",
     "output_type": "stream",
     "text": [
      "Best pipeline:"
     ]
    },
    {
     "name": "stdout",
     "output_type": "stream",
     "text": [
      " "
     ]
    },
    {
     "name": "stdout",
     "output_type": "stream",
     "text": [
      "MultinomialNB(XGBClassifier(input_matrix, learning_rate=0.1, max_depth=4, min_child_weight=9, n_estimators=100, nthread=1, subsample=0.6000000000000001), alpha=100.0, fit_prior=False)"
     ]
    },
    {
     "name": "stdout",
     "output_type": "stream",
     "text": [
      "\n"
     ]
    },
    {
     "name": "stdout",
     "output_type": "stream",
     "text": [
      "<class 'tpot.tpot.TPOTClassifier'>"
     ]
    },
    {
     "name": "stdout",
     "output_type": "stream",
     "text": [
      "\n"
     ]
    },
    {
     "name": "stdout",
     "output_type": "stream",
     "text": [
      "0.669"
     ]
    },
    {
     "name": "stdout",
     "output_type": "stream",
     "text": [
      "\n"
     ]
    },
    {
     "name": "stdout",
     "output_type": "stream",
     "text": [
      "\n"
     ]
    },
    {
     "name": "stdout",
     "output_type": "stream",
     "text": [
      "15.14 minutes have elapsed. TPOT will close down.\n",
      "TPOT closed during evaluation in one generation.\n",
      "WARNING: TPOT may not provide a good pipeline if TPOT is stopped/interrupted in a early generation."
     ]
    },
    {
     "name": "stdout",
     "output_type": "stream",
     "text": [
      "\n"
     ]
    },
    {
     "name": "stdout",
     "output_type": "stream",
     "text": [
      "\n"
     ]
    },
    {
     "name": "stdout",
     "output_type": "stream",
     "text": [
      "\n",
      "TPOT closed prematurely. Will use the current best pipeline."
     ]
    },
    {
     "name": "stdout",
     "output_type": "stream",
     "text": [
      "\n"
     ]
    },
    {
     "name": "stdout",
     "output_type": "stream",
     "text": [
      "Best pipeline:"
     ]
    },
    {
     "name": "stdout",
     "output_type": "stream",
     "text": [
      " "
     ]
    },
    {
     "name": "stdout",
     "output_type": "stream",
     "text": [
      "KNeighborsClassifier(LogisticRegression(input_matrix, C=0.5, dual=False, penalty=l1), n_neighbors=12, p=2, weights=distance)"
     ]
    },
    {
     "name": "stdout",
     "output_type": "stream",
     "text": [
      "\n"
     ]
    },
    {
     "name": "stdout",
     "output_type": "stream",
     "text": [
      "<class 'tpot.tpot.TPOTClassifier'>"
     ]
    },
    {
     "name": "stdout",
     "output_type": "stream",
     "text": [
      "\n"
     ]
    },
    {
     "name": "stdout",
     "output_type": "stream",
     "text": [
      "0.728"
     ]
    },
    {
     "name": "stdout",
     "output_type": "stream",
     "text": [
      "\n"
     ]
    },
    {
     "name": "stdout",
     "output_type": "stream",
     "text": [
      "Checking whether there is an H2O instance running at http://localhost:54321 "
     ]
    },
    {
     "name": "stdout",
     "output_type": "stream",
     "text": [
      "."
     ]
    },
    {
     "name": "stdout",
     "output_type": "stream",
     "text": [
      "."
     ]
    },
    {
     "name": "stdout",
     "output_type": "stream",
     "text": [
      "."
     ]
    },
    {
     "name": "stdout",
     "output_type": "stream",
     "text": [
      "."
     ]
    },
    {
     "name": "stdout",
     "output_type": "stream",
     "text": [
      "."
     ]
    },
    {
     "name": "stdout",
     "output_type": "stream",
     "text": [
      " not found."
     ]
    },
    {
     "name": "stdout",
     "output_type": "stream",
     "text": [
      "\n"
     ]
    },
    {
     "name": "stdout",
     "output_type": "stream",
     "text": [
      "Attempting to start a local H2O server..."
     ]
    },
    {
     "name": "stdout",
     "output_type": "stream",
     "text": [
      "\n"
     ]
    },
    {
     "name": "stdout",
     "output_type": "stream",
     "text": [
      "  Java Version: openjdk version \"11.0.2\" 2019-01-15; OpenJDK Runtime Environment 18.9 (build 11.0.2+9); OpenJDK 64-Bit Server VM 18.9 (build 11.0.2+9, mixed mode)"
     ]
    },
    {
     "name": "stdout",
     "output_type": "stream",
     "text": [
      "\n"
     ]
    },
    {
     "name": "stdout",
     "output_type": "stream",
     "text": [
      "  Starting server from /wrk/users/thalvari/dpEmu-AutoML/venv/lib/python3.6/site-packages/h2o/backend/bin/h2o.jar"
     ]
    },
    {
     "name": "stdout",
     "output_type": "stream",
     "text": [
      "\n"
     ]
    },
    {
     "name": "stdout",
     "output_type": "stream",
     "text": [
      "  Ice root: /wrk/users/thalvari/tmp7pkd_hrl"
     ]
    },
    {
     "name": "stdout",
     "output_type": "stream",
     "text": [
      "\n"
     ]
    },
    {
     "name": "stdout",
     "output_type": "stream",
     "text": [
      "  JVM stdout: /wrk/users/thalvari/tmp7pkd_hrl/h2o_thalvari_started_from_python.out"
     ]
    },
    {
     "name": "stdout",
     "output_type": "stream",
     "text": [
      "\n"
     ]
    },
    {
     "name": "stdout",
     "output_type": "stream",
     "text": [
      "  JVM stderr: /wrk/users/thalvari/tmp7pkd_hrl/h2o_thalvari_started_from_python.err"
     ]
    },
    {
     "name": "stdout",
     "output_type": "stream",
     "text": [
      "\n"
     ]
    },
    {
     "name": "stdout",
     "output_type": "stream",
     "text": [
      "  Server is running at http://127.0.0.1:54321"
     ]
    },
    {
     "name": "stdout",
     "output_type": "stream",
     "text": [
      "\n"
     ]
    },
    {
     "name": "stdout",
     "output_type": "stream",
     "text": [
      "Connecting to H2O server at http://127.0.0.1:54321 .."
     ]
    },
    {
     "name": "stdout",
     "output_type": "stream",
     "text": [
      "."
     ]
    },
    {
     "name": "stdout",
     "output_type": "stream",
     "text": [
      " successful."
     ]
    },
    {
     "name": "stdout",
     "output_type": "stream",
     "text": [
      "\n"
     ]
    },
    {
     "data": {
      "text/html": [
       "<div style=\"overflow:auto\"><table style=\"width:50%\"><tr><td>H2O cluster uptime:</td>\n",
       "<td>01 secs</td></tr>\n",
       "<tr><td>H2O cluster timezone:</td>\n",
       "<td>Europe/Helsinki</td></tr>\n",
       "<tr><td>H2O data parsing timezone:</td>\n",
       "<td>UTC</td></tr>\n",
       "<tr><td>H2O cluster version:</td>\n",
       "<td>3.26.0.10</td></tr>\n",
       "<tr><td>H2O cluster version age:</td>\n",
       "<td>12 days </td></tr>\n",
       "<tr><td>H2O cluster name:</td>\n",
       "<td>#988592068</td></tr>\n",
       "<tr><td>H2O cluster total nodes:</td>\n",
       "<td>1</td></tr>\n",
       "<tr><td>H2O cluster free memory:</td>\n",
       "<td>29.97 Gb</td></tr>\n",
       "<tr><td>H2O cluster total cores:</td>\n",
       "<td>40</td></tr>\n",
       "<tr><td>H2O cluster allowed cores:</td>\n",
       "<td>20</td></tr>\n",
       "<tr><td>H2O cluster status:</td>\n",
       "<td>accepting new members, healthy</td></tr>\n",
       "<tr><td>H2O connection url:</td>\n",
       "<td>http://127.0.0.1:54321</td></tr>\n",
       "<tr><td>H2O connection proxy:</td>\n",
       "<td>{'http': None, 'https': None}</td></tr>\n",
       "<tr><td>H2O internal security:</td>\n",
       "<td>False</td></tr>\n",
       "<tr><td>H2O API Extensions:</td>\n",
       "<td>Amazon S3, XGBoost, Algos, AutoML, Core V3, TargetEncoder, Core V4</td></tr>\n",
       "<tr><td>Python version:</td>\n",
       "<td>3.6.6 final</td></tr></table></div>"
      ],
      "text/plain": [
       "--------------------------  ------------------------------------------------------------------\n",
       "H2O cluster uptime:         01 secs\n",
       "H2O cluster timezone:       Europe/Helsinki\n",
       "H2O data parsing timezone:  UTC\n",
       "H2O cluster version:        3.26.0.10\n",
       "H2O cluster version age:    12 days\n",
       "H2O cluster name:           #988592068\n",
       "H2O cluster total nodes:    1\n",
       "H2O cluster free memory:    29.97 Gb\n",
       "H2O cluster total cores:    40\n",
       "H2O cluster allowed cores:  20\n",
       "H2O cluster status:         accepting new members, healthy\n",
       "H2O connection url:         http://127.0.0.1:54321\n",
       "H2O connection proxy:       {'http': None, 'https': None}\n",
       "H2O internal security:      False\n",
       "H2O API Extensions:         Amazon S3, XGBoost, Algos, AutoML, Core V3, TargetEncoder, Core V4\n",
       "Python version:             3.6.6 final\n",
       "--------------------------  ------------------------------------------------------------------"
      ]
     },
     "metadata": {},
     "output_type": "display_data"
    },
    {
     "name": "stdout",
     "output_type": "stream",
     "text": [
      "H2O session _sid_b63a closed."
     ]
    },
    {
     "name": "stdout",
     "output_type": "stream",
     "text": [
      "\n"
     ]
    },
    {
     "name": "stdout",
     "output_type": "stream",
     "text": [
      "<class 'h2o.automl.autoh2o.H2OAutoML'>"
     ]
    },
    {
     "name": "stdout",
     "output_type": "stream",
     "text": [
      "\n"
     ]
    },
    {
     "name": "stdout",
     "output_type": "stream",
     "text": [
      "0.689"
     ]
    },
    {
     "name": "stdout",
     "output_type": "stream",
     "text": [
      "\n"
     ]
    },
    {
     "name": "stdout",
     "output_type": "stream",
     "text": [
      "Checking whether there is an H2O instance running at http://localhost:54321 "
     ]
    },
    {
     "name": "stdout",
     "output_type": "stream",
     "text": [
      "."
     ]
    },
    {
     "name": "stdout",
     "output_type": "stream",
     "text": [
      "."
     ]
    },
    {
     "name": "stdout",
     "output_type": "stream",
     "text": [
      "."
     ]
    },
    {
     "name": "stdout",
     "output_type": "stream",
     "text": [
      "."
     ]
    },
    {
     "name": "stdout",
     "output_type": "stream",
     "text": [
      "."
     ]
    },
    {
     "name": "stdout",
     "output_type": "stream",
     "text": [
      " not found."
     ]
    },
    {
     "name": "stdout",
     "output_type": "stream",
     "text": [
      "\n"
     ]
    },
    {
     "name": "stdout",
     "output_type": "stream",
     "text": [
      "Attempting to start a local H2O server..."
     ]
    },
    {
     "name": "stdout",
     "output_type": "stream",
     "text": [
      "\n"
     ]
    },
    {
     "name": "stdout",
     "output_type": "stream",
     "text": [
      "  Java Version: openjdk version \"11.0.2\" 2019-01-15; OpenJDK Runtime Environment 18.9 (build 11.0.2+9); OpenJDK 64-Bit Server VM 18.9 (build 11.0.2+9, mixed mode)"
     ]
    },
    {
     "name": "stdout",
     "output_type": "stream",
     "text": [
      "\n"
     ]
    },
    {
     "name": "stdout",
     "output_type": "stream",
     "text": [
      "  Starting server from /wrk/users/thalvari/dpEmu-AutoML/venv/lib/python3.6/site-packages/h2o/backend/bin/h2o.jar"
     ]
    },
    {
     "name": "stdout",
     "output_type": "stream",
     "text": [
      "\n"
     ]
    },
    {
     "name": "stdout",
     "output_type": "stream",
     "text": [
      "  Ice root: /wrk/users/thalvari/tmpa62c1ecw"
     ]
    },
    {
     "name": "stdout",
     "output_type": "stream",
     "text": [
      "\n"
     ]
    },
    {
     "name": "stdout",
     "output_type": "stream",
     "text": [
      "  JVM stdout: /wrk/users/thalvari/tmpa62c1ecw/h2o_thalvari_started_from_python.out"
     ]
    },
    {
     "name": "stdout",
     "output_type": "stream",
     "text": [
      "\n"
     ]
    },
    {
     "name": "stdout",
     "output_type": "stream",
     "text": [
      "  JVM stderr: /wrk/users/thalvari/tmpa62c1ecw/h2o_thalvari_started_from_python.err"
     ]
    },
    {
     "name": "stdout",
     "output_type": "stream",
     "text": [
      "\n"
     ]
    },
    {
     "name": "stdout",
     "output_type": "stream",
     "text": [
      "  Server is running at http://127.0.0.1:54321"
     ]
    },
    {
     "name": "stdout",
     "output_type": "stream",
     "text": [
      "\n"
     ]
    },
    {
     "name": "stdout",
     "output_type": "stream",
     "text": [
      "Connecting to H2O server at http://127.0.0.1:54321 .."
     ]
    },
    {
     "name": "stdout",
     "output_type": "stream",
     "text": [
      "."
     ]
    },
    {
     "name": "stdout",
     "output_type": "stream",
     "text": [
      " successful."
     ]
    },
    {
     "name": "stdout",
     "output_type": "stream",
     "text": [
      "\n"
     ]
    },
    {
     "data": {
      "text/html": [
       "<div style=\"overflow:auto\"><table style=\"width:50%\"><tr><td>H2O cluster uptime:</td>\n",
       "<td>01 secs</td></tr>\n",
       "<tr><td>H2O cluster timezone:</td>\n",
       "<td>Europe/Helsinki</td></tr>\n",
       "<tr><td>H2O data parsing timezone:</td>\n",
       "<td>UTC</td></tr>\n",
       "<tr><td>H2O cluster version:</td>\n",
       "<td>3.26.0.10</td></tr>\n",
       "<tr><td>H2O cluster version age:</td>\n",
       "<td>12 days </td></tr>\n",
       "<tr><td>H2O cluster name:</td>\n",
       "<td>#190106896</td></tr>\n",
       "<tr><td>H2O cluster total nodes:</td>\n",
       "<td>1</td></tr>\n",
       "<tr><td>H2O cluster free memory:</td>\n",
       "<td>29.97 Gb</td></tr>\n",
       "<tr><td>H2O cluster total cores:</td>\n",
       "<td>40</td></tr>\n",
       "<tr><td>H2O cluster allowed cores:</td>\n",
       "<td>20</td></tr>\n",
       "<tr><td>H2O cluster status:</td>\n",
       "<td>accepting new members, healthy</td></tr>\n",
       "<tr><td>H2O connection url:</td>\n",
       "<td>http://127.0.0.1:54321</td></tr>\n",
       "<tr><td>H2O connection proxy:</td>\n",
       "<td>{'http': None, 'https': None}</td></tr>\n",
       "<tr><td>H2O internal security:</td>\n",
       "<td>False</td></tr>\n",
       "<tr><td>H2O API Extensions:</td>\n",
       "<td>Amazon S3, XGBoost, Algos, AutoML, Core V3, TargetEncoder, Core V4</td></tr>\n",
       "<tr><td>Python version:</td>\n",
       "<td>3.6.6 final</td></tr></table></div>"
      ],
      "text/plain": [
       "--------------------------  ------------------------------------------------------------------\n",
       "H2O cluster uptime:         01 secs\n",
       "H2O cluster timezone:       Europe/Helsinki\n",
       "H2O data parsing timezone:  UTC\n",
       "H2O cluster version:        3.26.0.10\n",
       "H2O cluster version age:    12 days\n",
       "H2O cluster name:           #190106896\n",
       "H2O cluster total nodes:    1\n",
       "H2O cluster free memory:    29.97 Gb\n",
       "H2O cluster total cores:    40\n",
       "H2O cluster allowed cores:  20\n",
       "H2O cluster status:         accepting new members, healthy\n",
       "H2O connection url:         http://127.0.0.1:54321\n",
       "H2O connection proxy:       {'http': None, 'https': None}\n",
       "H2O internal security:      False\n",
       "H2O API Extensions:         Amazon S3, XGBoost, Algos, AutoML, Core V3, TargetEncoder, Core V4\n",
       "Python version:             3.6.6 final\n",
       "--------------------------  ------------------------------------------------------------------"
      ]
     },
     "metadata": {},
     "output_type": "display_data"
    },
    {
     "name": "stdout",
     "output_type": "stream",
     "text": [
      "H2O session _sid_9704 closed."
     ]
    },
    {
     "name": "stdout",
     "output_type": "stream",
     "text": [
      "\n"
     ]
    },
    {
     "name": "stdout",
     "output_type": "stream",
     "text": [
      "<class 'h2o.automl.autoh2o.H2OAutoML'>"
     ]
    },
    {
     "name": "stdout",
     "output_type": "stream",
     "text": [
      "\n"
     ]
    },
    {
     "name": "stdout",
     "output_type": "stream",
     "text": [
      "0.339"
     ]
    },
    {
     "name": "stdout",
     "output_type": "stream",
     "text": [
      "\n"
     ]
    },
    {
     "name": "stderr",
     "output_type": "stream",
     "text": [
      "\r",
      " 67%|██████▋   | 4/6 [6:21:31<3:10:08, 5704.23s/it]"
     ]
    },
    {
     "name": "stdout",
     "output_type": "stream",
     "text": [
      "<class 'autokeras.image.image_supervised.ImageClassifier'>"
     ]
    },
    {
     "name": "stdout",
     "output_type": "stream",
     "text": [
      "\n"
     ]
    },
    {
     "name": "stdout",
     "output_type": "stream",
     "text": [
      "0.342"
     ]
    },
    {
     "name": "stdout",
     "output_type": "stream",
     "text": [
      "\n"
     ]
    },
    {
     "name": "stderr",
     "output_type": "stream",
     "text": [
      "WARNING:root:TimeoutError occurred at train() : "
     ]
    },
    {
     "name": "stderr",
     "output_type": "stream",
     "text": [
      "\n"
     ]
    },
    {
     "name": "stdout",
     "output_type": "stream",
     "text": [
      "<class 'autokeras.image.image_supervised.ImageClassifier'>"
     ]
    },
    {
     "name": "stdout",
     "output_type": "stream",
     "text": [
      "\n"
     ]
    },
    {
     "name": "stdout",
     "output_type": "stream",
     "text": [
      "0.346"
     ]
    },
    {
     "name": "stdout",
     "output_type": "stream",
     "text": [
      "\n"
     ]
    },
    {
     "name": "stdout",
     "output_type": "stream",
     "text": [
      "\n"
     ]
    },
    {
     "name": "stdout",
     "output_type": "stream",
     "text": [
      "15.39 minutes have elapsed. TPOT will close down.\n",
      "TPOT closed during evaluation in one generation.\n",
      "WARNING: TPOT may not provide a good pipeline if TPOT is stopped/interrupted in a early generation."
     ]
    },
    {
     "name": "stdout",
     "output_type": "stream",
     "text": [
      "\n"
     ]
    },
    {
     "name": "stdout",
     "output_type": "stream",
     "text": [
      "\n"
     ]
    },
    {
     "name": "stdout",
     "output_type": "stream",
     "text": [
      "\n",
      "TPOT closed prematurely. Will use the current best pipeline."
     ]
    },
    {
     "name": "stdout",
     "output_type": "stream",
     "text": [
      "\n"
     ]
    },
    {
     "name": "stdout",
     "output_type": "stream",
     "text": [
      "Best pipeline:"
     ]
    },
    {
     "name": "stdout",
     "output_type": "stream",
     "text": [
      " "
     ]
    },
    {
     "name": "stdout",
     "output_type": "stream",
     "text": [
      "GaussianNB(MultinomialNB(SelectPercentile(input_matrix, percentile=67), alpha=0.001, fit_prior=True))"
     ]
    },
    {
     "name": "stdout",
     "output_type": "stream",
     "text": [
      "\n"
     ]
    },
    {
     "name": "stdout",
     "output_type": "stream",
     "text": [
      "<class 'tpot.tpot.TPOTClassifier'>"
     ]
    },
    {
     "name": "stdout",
     "output_type": "stream",
     "text": [
      "\n"
     ]
    },
    {
     "name": "stdout",
     "output_type": "stream",
     "text": [
      "0.498"
     ]
    },
    {
     "name": "stdout",
     "output_type": "stream",
     "text": [
      "\n"
     ]
    },
    {
     "name": "stdout",
     "output_type": "stream",
     "text": [
      "\n"
     ]
    },
    {
     "name": "stdout",
     "output_type": "stream",
     "text": [
      "15.66 minutes have elapsed. TPOT will close down.\n",
      "TPOT closed during evaluation in one generation.\n",
      "WARNING: TPOT may not provide a good pipeline if TPOT is stopped/interrupted in a early generation."
     ]
    },
    {
     "name": "stdout",
     "output_type": "stream",
     "text": [
      "\n"
     ]
    },
    {
     "name": "stdout",
     "output_type": "stream",
     "text": [
      "\n"
     ]
    },
    {
     "name": "stdout",
     "output_type": "stream",
     "text": [
      "\n",
      "TPOT closed prematurely. Will use the current best pipeline."
     ]
    },
    {
     "name": "stdout",
     "output_type": "stream",
     "text": [
      "\n"
     ]
    },
    {
     "name": "stdout",
     "output_type": "stream",
     "text": [
      "Best pipeline:"
     ]
    },
    {
     "name": "stdout",
     "output_type": "stream",
     "text": [
      " "
     ]
    },
    {
     "name": "stdout",
     "output_type": "stream",
     "text": [
      "KNeighborsClassifier(LogisticRegression(input_matrix, C=0.5, dual=False, penalty=l1), n_neighbors=12, p=2, weights=distance)"
     ]
    },
    {
     "name": "stdout",
     "output_type": "stream",
     "text": [
      "\n"
     ]
    },
    {
     "name": "stdout",
     "output_type": "stream",
     "text": [
      "<class 'tpot.tpot.TPOTClassifier'>"
     ]
    },
    {
     "name": "stdout",
     "output_type": "stream",
     "text": [
      "\n"
     ]
    },
    {
     "name": "stdout",
     "output_type": "stream",
     "text": [
      "0.533"
     ]
    },
    {
     "name": "stdout",
     "output_type": "stream",
     "text": [
      "\n"
     ]
    },
    {
     "name": "stdout",
     "output_type": "stream",
     "text": [
      "Checking whether there is an H2O instance running at http://localhost:54321 "
     ]
    },
    {
     "name": "stdout",
     "output_type": "stream",
     "text": [
      "."
     ]
    },
    {
     "name": "stdout",
     "output_type": "stream",
     "text": [
      "."
     ]
    },
    {
     "name": "stdout",
     "output_type": "stream",
     "text": [
      "."
     ]
    },
    {
     "name": "stdout",
     "output_type": "stream",
     "text": [
      "."
     ]
    },
    {
     "name": "stdout",
     "output_type": "stream",
     "text": [
      "."
     ]
    },
    {
     "name": "stdout",
     "output_type": "stream",
     "text": [
      " not found."
     ]
    },
    {
     "name": "stdout",
     "output_type": "stream",
     "text": [
      "\n"
     ]
    },
    {
     "name": "stdout",
     "output_type": "stream",
     "text": [
      "Attempting to start a local H2O server..."
     ]
    },
    {
     "name": "stdout",
     "output_type": "stream",
     "text": [
      "\n"
     ]
    },
    {
     "name": "stdout",
     "output_type": "stream",
     "text": [
      "  Java Version: openjdk version \"11.0.2\" 2019-01-15; OpenJDK Runtime Environment 18.9 (build 11.0.2+9); OpenJDK 64-Bit Server VM 18.9 (build 11.0.2+9, mixed mode)"
     ]
    },
    {
     "name": "stdout",
     "output_type": "stream",
     "text": [
      "\n"
     ]
    },
    {
     "name": "stdout",
     "output_type": "stream",
     "text": [
      "  Starting server from /wrk/users/thalvari/dpEmu-AutoML/venv/lib/python3.6/site-packages/h2o/backend/bin/h2o.jar"
     ]
    },
    {
     "name": "stdout",
     "output_type": "stream",
     "text": [
      "\n"
     ]
    },
    {
     "name": "stdout",
     "output_type": "stream",
     "text": [
      "  Ice root: /wrk/users/thalvari/tmpeb8hopca"
     ]
    },
    {
     "name": "stdout",
     "output_type": "stream",
     "text": [
      "\n"
     ]
    },
    {
     "name": "stdout",
     "output_type": "stream",
     "text": [
      "  JVM stdout: /wrk/users/thalvari/tmpeb8hopca/h2o_thalvari_started_from_python.out"
     ]
    },
    {
     "name": "stdout",
     "output_type": "stream",
     "text": [
      "\n"
     ]
    },
    {
     "name": "stdout",
     "output_type": "stream",
     "text": [
      "  JVM stderr: /wrk/users/thalvari/tmpeb8hopca/h2o_thalvari_started_from_python.err"
     ]
    },
    {
     "name": "stdout",
     "output_type": "stream",
     "text": [
      "\n"
     ]
    },
    {
     "name": "stdout",
     "output_type": "stream",
     "text": [
      "  Server is running at http://127.0.0.1:54321"
     ]
    },
    {
     "name": "stdout",
     "output_type": "stream",
     "text": [
      "\n"
     ]
    },
    {
     "name": "stdout",
     "output_type": "stream",
     "text": [
      "Connecting to H2O server at http://127.0.0.1:54321 .."
     ]
    },
    {
     "name": "stdout",
     "output_type": "stream",
     "text": [
      "."
     ]
    },
    {
     "name": "stdout",
     "output_type": "stream",
     "text": [
      " successful."
     ]
    },
    {
     "name": "stdout",
     "output_type": "stream",
     "text": [
      "\n"
     ]
    },
    {
     "data": {
      "text/html": [
       "<div style=\"overflow:auto\"><table style=\"width:50%\"><tr><td>H2O cluster uptime:</td>\n",
       "<td>01 secs</td></tr>\n",
       "<tr><td>H2O cluster timezone:</td>\n",
       "<td>Europe/Helsinki</td></tr>\n",
       "<tr><td>H2O data parsing timezone:</td>\n",
       "<td>UTC</td></tr>\n",
       "<tr><td>H2O cluster version:</td>\n",
       "<td>3.26.0.10</td></tr>\n",
       "<tr><td>H2O cluster version age:</td>\n",
       "<td>12 days </td></tr>\n",
       "<tr><td>H2O cluster name:</td>\n",
       "<td>#1024128550</td></tr>\n",
       "<tr><td>H2O cluster total nodes:</td>\n",
       "<td>1</td></tr>\n",
       "<tr><td>H2O cluster free memory:</td>\n",
       "<td>29.97 Gb</td></tr>\n",
       "<tr><td>H2O cluster total cores:</td>\n",
       "<td>40</td></tr>\n",
       "<tr><td>H2O cluster allowed cores:</td>\n",
       "<td>20</td></tr>\n",
       "<tr><td>H2O cluster status:</td>\n",
       "<td>accepting new members, healthy</td></tr>\n",
       "<tr><td>H2O connection url:</td>\n",
       "<td>http://127.0.0.1:54321</td></tr>\n",
       "<tr><td>H2O connection proxy:</td>\n",
       "<td>{'http': None, 'https': None}</td></tr>\n",
       "<tr><td>H2O internal security:</td>\n",
       "<td>False</td></tr>\n",
       "<tr><td>H2O API Extensions:</td>\n",
       "<td>Amazon S3, XGBoost, Algos, AutoML, Core V3, TargetEncoder, Core V4</td></tr>\n",
       "<tr><td>Python version:</td>\n",
       "<td>3.6.6 final</td></tr></table></div>"
      ],
      "text/plain": [
       "--------------------------  ------------------------------------------------------------------\n",
       "H2O cluster uptime:         01 secs\n",
       "H2O cluster timezone:       Europe/Helsinki\n",
       "H2O data parsing timezone:  UTC\n",
       "H2O cluster version:        3.26.0.10\n",
       "H2O cluster version age:    12 days\n",
       "H2O cluster name:           #1024128550\n",
       "H2O cluster total nodes:    1\n",
       "H2O cluster free memory:    29.97 Gb\n",
       "H2O cluster total cores:    40\n",
       "H2O cluster allowed cores:  20\n",
       "H2O cluster status:         accepting new members, healthy\n",
       "H2O connection url:         http://127.0.0.1:54321\n",
       "H2O connection proxy:       {'http': None, 'https': None}\n",
       "H2O internal security:      False\n",
       "H2O API Extensions:         Amazon S3, XGBoost, Algos, AutoML, Core V3, TargetEncoder, Core V4\n",
       "Python version:             3.6.6 final\n",
       "--------------------------  ------------------------------------------------------------------"
      ]
     },
     "metadata": {},
     "output_type": "display_data"
    },
    {
     "name": "stdout",
     "output_type": "stream",
     "text": [
      "H2O session _sid_a145 closed."
     ]
    },
    {
     "name": "stdout",
     "output_type": "stream",
     "text": [
      "\n"
     ]
    },
    {
     "name": "stdout",
     "output_type": "stream",
     "text": [
      "<class 'h2o.automl.autoh2o.H2OAutoML'>"
     ]
    },
    {
     "name": "stdout",
     "output_type": "stream",
     "text": [
      "\n"
     ]
    },
    {
     "name": "stdout",
     "output_type": "stream",
     "text": [
      "0.482"
     ]
    },
    {
     "name": "stdout",
     "output_type": "stream",
     "text": [
      "\n"
     ]
    },
    {
     "name": "stdout",
     "output_type": "stream",
     "text": [
      "Checking whether there is an H2O instance running at http://localhost:54321 "
     ]
    },
    {
     "name": "stdout",
     "output_type": "stream",
     "text": [
      "."
     ]
    },
    {
     "name": "stdout",
     "output_type": "stream",
     "text": [
      "."
     ]
    },
    {
     "name": "stdout",
     "output_type": "stream",
     "text": [
      "."
     ]
    },
    {
     "name": "stdout",
     "output_type": "stream",
     "text": [
      "."
     ]
    },
    {
     "name": "stdout",
     "output_type": "stream",
     "text": [
      "."
     ]
    },
    {
     "name": "stdout",
     "output_type": "stream",
     "text": [
      " not found."
     ]
    },
    {
     "name": "stdout",
     "output_type": "stream",
     "text": [
      "\n"
     ]
    },
    {
     "name": "stdout",
     "output_type": "stream",
     "text": [
      "Attempting to start a local H2O server..."
     ]
    },
    {
     "name": "stdout",
     "output_type": "stream",
     "text": [
      "\n"
     ]
    },
    {
     "name": "stdout",
     "output_type": "stream",
     "text": [
      "  Java Version: openjdk version \"11.0.2\" 2019-01-15; OpenJDK Runtime Environment 18.9 (build 11.0.2+9); OpenJDK 64-Bit Server VM 18.9 (build 11.0.2+9, mixed mode)"
     ]
    },
    {
     "name": "stdout",
     "output_type": "stream",
     "text": [
      "\n"
     ]
    },
    {
     "name": "stdout",
     "output_type": "stream",
     "text": [
      "  Starting server from /wrk/users/thalvari/dpEmu-AutoML/venv/lib/python3.6/site-packages/h2o/backend/bin/h2o.jar"
     ]
    },
    {
     "name": "stdout",
     "output_type": "stream",
     "text": [
      "\n"
     ]
    },
    {
     "name": "stdout",
     "output_type": "stream",
     "text": [
      "  Ice root: /wrk/users/thalvari/tmp25_u5gwj"
     ]
    },
    {
     "name": "stdout",
     "output_type": "stream",
     "text": [
      "\n"
     ]
    },
    {
     "name": "stdout",
     "output_type": "stream",
     "text": [
      "  JVM stdout: /wrk/users/thalvari/tmp25_u5gwj/h2o_thalvari_started_from_python.out"
     ]
    },
    {
     "name": "stdout",
     "output_type": "stream",
     "text": [
      "\n"
     ]
    },
    {
     "name": "stdout",
     "output_type": "stream",
     "text": [
      "  JVM stderr: /wrk/users/thalvari/tmp25_u5gwj/h2o_thalvari_started_from_python.err"
     ]
    },
    {
     "name": "stdout",
     "output_type": "stream",
     "text": [
      "\n"
     ]
    },
    {
     "name": "stdout",
     "output_type": "stream",
     "text": [
      "  Server is running at http://127.0.0.1:54321"
     ]
    },
    {
     "name": "stdout",
     "output_type": "stream",
     "text": [
      "\n"
     ]
    },
    {
     "name": "stdout",
     "output_type": "stream",
     "text": [
      "Connecting to H2O server at http://127.0.0.1:54321 .."
     ]
    },
    {
     "name": "stdout",
     "output_type": "stream",
     "text": [
      "."
     ]
    },
    {
     "name": "stdout",
     "output_type": "stream",
     "text": [
      " successful."
     ]
    },
    {
     "name": "stdout",
     "output_type": "stream",
     "text": [
      "\n"
     ]
    },
    {
     "data": {
      "text/html": [
       "<div style=\"overflow:auto\"><table style=\"width:50%\"><tr><td>H2O cluster uptime:</td>\n",
       "<td>01 secs</td></tr>\n",
       "<tr><td>H2O cluster timezone:</td>\n",
       "<td>Europe/Helsinki</td></tr>\n",
       "<tr><td>H2O data parsing timezone:</td>\n",
       "<td>UTC</td></tr>\n",
       "<tr><td>H2O cluster version:</td>\n",
       "<td>3.26.0.10</td></tr>\n",
       "<tr><td>H2O cluster version age:</td>\n",
       "<td>12 days </td></tr>\n",
       "<tr><td>H2O cluster name:</td>\n",
       "<td>#2352767</td></tr>\n",
       "<tr><td>H2O cluster total nodes:</td>\n",
       "<td>1</td></tr>\n",
       "<tr><td>H2O cluster free memory:</td>\n",
       "<td>29.97 Gb</td></tr>\n",
       "<tr><td>H2O cluster total cores:</td>\n",
       "<td>40</td></tr>\n",
       "<tr><td>H2O cluster allowed cores:</td>\n",
       "<td>20</td></tr>\n",
       "<tr><td>H2O cluster status:</td>\n",
       "<td>accepting new members, healthy</td></tr>\n",
       "<tr><td>H2O connection url:</td>\n",
       "<td>http://127.0.0.1:54321</td></tr>\n",
       "<tr><td>H2O connection proxy:</td>\n",
       "<td>{'http': None, 'https': None}</td></tr>\n",
       "<tr><td>H2O internal security:</td>\n",
       "<td>False</td></tr>\n",
       "<tr><td>H2O API Extensions:</td>\n",
       "<td>Amazon S3, XGBoost, Algos, AutoML, Core V3, TargetEncoder, Core V4</td></tr>\n",
       "<tr><td>Python version:</td>\n",
       "<td>3.6.6 final</td></tr></table></div>"
      ],
      "text/plain": [
       "--------------------------  ------------------------------------------------------------------\n",
       "H2O cluster uptime:         01 secs\n",
       "H2O cluster timezone:       Europe/Helsinki\n",
       "H2O data parsing timezone:  UTC\n",
       "H2O cluster version:        3.26.0.10\n",
       "H2O cluster version age:    12 days\n",
       "H2O cluster name:           #2352767\n",
       "H2O cluster total nodes:    1\n",
       "H2O cluster free memory:    29.97 Gb\n",
       "H2O cluster total cores:    40\n",
       "H2O cluster allowed cores:  20\n",
       "H2O cluster status:         accepting new members, healthy\n",
       "H2O connection url:         http://127.0.0.1:54321\n",
       "H2O connection proxy:       {'http': None, 'https': None}\n",
       "H2O internal security:      False\n",
       "H2O API Extensions:         Amazon S3, XGBoost, Algos, AutoML, Core V3, TargetEncoder, Core V4\n",
       "Python version:             3.6.6 final\n",
       "--------------------------  ------------------------------------------------------------------"
      ]
     },
     "metadata": {},
     "output_type": "display_data"
    },
    {
     "name": "stdout",
     "output_type": "stream",
     "text": [
      "H2O session _sid_b284 closed."
     ]
    },
    {
     "name": "stdout",
     "output_type": "stream",
     "text": [
      "\n"
     ]
    },
    {
     "name": "stdout",
     "output_type": "stream",
     "text": [
      "<class 'h2o.automl.autoh2o.H2OAutoML'>"
     ]
    },
    {
     "name": "stdout",
     "output_type": "stream",
     "text": [
      "\n"
     ]
    },
    {
     "name": "stdout",
     "output_type": "stream",
     "text": [
      "0.428"
     ]
    },
    {
     "name": "stdout",
     "output_type": "stream",
     "text": [
      "\n"
     ]
    },
    {
     "name": "stderr",
     "output_type": "stream",
     "text": [
      "\r",
      " 83%|████████▎ | 5/6 [7:52:24<1:33:48, 5628.87s/it]"
     ]
    },
    {
     "name": "stdout",
     "output_type": "stream",
     "text": [
      "<class 'autokeras.image.image_supervised.ImageClassifier'>"
     ]
    },
    {
     "name": "stdout",
     "output_type": "stream",
     "text": [
      "\n"
     ]
    },
    {
     "name": "stdout",
     "output_type": "stream",
     "text": [
      "0.222"
     ]
    },
    {
     "name": "stdout",
     "output_type": "stream",
     "text": [
      "\n"
     ]
    },
    {
     "name": "stderr",
     "output_type": "stream",
     "text": [
      "WARNING:root:TimeoutError occurred at train() : "
     ]
    },
    {
     "name": "stderr",
     "output_type": "stream",
     "text": [
      "\n"
     ]
    },
    {
     "name": "stdout",
     "output_type": "stream",
     "text": [
      "<class 'autokeras.image.image_supervised.ImageClassifier'>"
     ]
    },
    {
     "name": "stdout",
     "output_type": "stream",
     "text": [
      "\n"
     ]
    },
    {
     "name": "stdout",
     "output_type": "stream",
     "text": [
      "0.257"
     ]
    },
    {
     "name": "stdout",
     "output_type": "stream",
     "text": [
      "\n"
     ]
    },
    {
     "name": "stdout",
     "output_type": "stream",
     "text": [
      "\n"
     ]
    },
    {
     "name": "stdout",
     "output_type": "stream",
     "text": [
      "16.84 minutes have elapsed. TPOT will close down.\n",
      "TPOT closed during evaluation in one generation.\n",
      "WARNING: TPOT may not provide a good pipeline if TPOT is stopped/interrupted in a early generation."
     ]
    },
    {
     "name": "stdout",
     "output_type": "stream",
     "text": [
      "\n"
     ]
    },
    {
     "name": "stdout",
     "output_type": "stream",
     "text": [
      "\n"
     ]
    },
    {
     "name": "stdout",
     "output_type": "stream",
     "text": [
      "\n",
      "TPOT closed prematurely. Will use the current best pipeline."
     ]
    },
    {
     "name": "stdout",
     "output_type": "stream",
     "text": [
      "\n"
     ]
    },
    {
     "name": "stdout",
     "output_type": "stream",
     "text": [
      "Best pipeline:"
     ]
    },
    {
     "name": "stdout",
     "output_type": "stream",
     "text": [
      " "
     ]
    },
    {
     "name": "stdout",
     "output_type": "stream",
     "text": [
      "MultinomialNB(RFE(input_matrix, criterion=gini, max_features=0.4, n_estimators=100, step=0.8), alpha=10.0, fit_prior=False)"
     ]
    },
    {
     "name": "stdout",
     "output_type": "stream",
     "text": [
      "\n"
     ]
    },
    {
     "name": "stdout",
     "output_type": "stream",
     "text": [
      "<class 'tpot.tpot.TPOTClassifier'>"
     ]
    },
    {
     "name": "stdout",
     "output_type": "stream",
     "text": [
      "\n"
     ]
    },
    {
     "name": "stdout",
     "output_type": "stream",
     "text": [
      "0.358"
     ]
    },
    {
     "name": "stdout",
     "output_type": "stream",
     "text": [
      "\n"
     ]
    },
    {
     "name": "stdout",
     "output_type": "stream",
     "text": [
      "\n"
     ]
    },
    {
     "name": "stdout",
     "output_type": "stream",
     "text": [
      "15.23 minutes have elapsed. TPOT will close down.\n",
      "TPOT closed during evaluation in one generation.\n",
      "WARNING: TPOT may not provide a good pipeline if TPOT is stopped/interrupted in a early generation."
     ]
    },
    {
     "name": "stdout",
     "output_type": "stream",
     "text": [
      "\n"
     ]
    },
    {
     "name": "stdout",
     "output_type": "stream",
     "text": [
      "\n"
     ]
    },
    {
     "name": "stdout",
     "output_type": "stream",
     "text": [
      "\n",
      "TPOT closed prematurely. Will use the current best pipeline."
     ]
    },
    {
     "name": "stdout",
     "output_type": "stream",
     "text": [
      "\n"
     ]
    },
    {
     "name": "stdout",
     "output_type": "stream",
     "text": [
      "Best pipeline:"
     ]
    },
    {
     "name": "stdout",
     "output_type": "stream",
     "text": [
      " "
     ]
    },
    {
     "name": "stdout",
     "output_type": "stream",
     "text": [
      "KNeighborsClassifier(LogisticRegression(input_matrix, C=0.5, dual=False, penalty=l1), n_neighbors=12, p=2, weights=distance)"
     ]
    },
    {
     "name": "stdout",
     "output_type": "stream",
     "text": [
      "\n"
     ]
    },
    {
     "name": "stdout",
     "output_type": "stream",
     "text": [
      "<class 'tpot.tpot.TPOTClassifier'>"
     ]
    },
    {
     "name": "stdout",
     "output_type": "stream",
     "text": [
      "\n"
     ]
    },
    {
     "name": "stdout",
     "output_type": "stream",
     "text": [
      "0.377"
     ]
    },
    {
     "name": "stdout",
     "output_type": "stream",
     "text": [
      "\n"
     ]
    },
    {
     "name": "stdout",
     "output_type": "stream",
     "text": [
      "Checking whether there is an H2O instance running at http://localhost:54321 "
     ]
    },
    {
     "name": "stdout",
     "output_type": "stream",
     "text": [
      "."
     ]
    },
    {
     "name": "stdout",
     "output_type": "stream",
     "text": [
      "."
     ]
    },
    {
     "name": "stdout",
     "output_type": "stream",
     "text": [
      "."
     ]
    },
    {
     "name": "stdout",
     "output_type": "stream",
     "text": [
      "."
     ]
    },
    {
     "name": "stdout",
     "output_type": "stream",
     "text": [
      "."
     ]
    },
    {
     "name": "stdout",
     "output_type": "stream",
     "text": [
      " not found."
     ]
    },
    {
     "name": "stdout",
     "output_type": "stream",
     "text": [
      "\n"
     ]
    },
    {
     "name": "stdout",
     "output_type": "stream",
     "text": [
      "Attempting to start a local H2O server..."
     ]
    },
    {
     "name": "stdout",
     "output_type": "stream",
     "text": [
      "\n"
     ]
    },
    {
     "name": "stdout",
     "output_type": "stream",
     "text": [
      "  Java Version: openjdk version \"11.0.2\" 2019-01-15; OpenJDK Runtime Environment 18.9 (build 11.0.2+9); OpenJDK 64-Bit Server VM 18.9 (build 11.0.2+9, mixed mode)"
     ]
    },
    {
     "name": "stdout",
     "output_type": "stream",
     "text": [
      "\n"
     ]
    },
    {
     "name": "stdout",
     "output_type": "stream",
     "text": [
      "  Starting server from /wrk/users/thalvari/dpEmu-AutoML/venv/lib/python3.6/site-packages/h2o/backend/bin/h2o.jar"
     ]
    },
    {
     "name": "stdout",
     "output_type": "stream",
     "text": [
      "\n"
     ]
    },
    {
     "name": "stdout",
     "output_type": "stream",
     "text": [
      "  Ice root: /wrk/users/thalvari/tmpl0mm20yz"
     ]
    },
    {
     "name": "stdout",
     "output_type": "stream",
     "text": [
      "\n"
     ]
    },
    {
     "name": "stdout",
     "output_type": "stream",
     "text": [
      "  JVM stdout: /wrk/users/thalvari/tmpl0mm20yz/h2o_thalvari_started_from_python.out"
     ]
    },
    {
     "name": "stdout",
     "output_type": "stream",
     "text": [
      "\n"
     ]
    },
    {
     "name": "stdout",
     "output_type": "stream",
     "text": [
      "  JVM stderr: /wrk/users/thalvari/tmpl0mm20yz/h2o_thalvari_started_from_python.err"
     ]
    },
    {
     "name": "stdout",
     "output_type": "stream",
     "text": [
      "\n"
     ]
    },
    {
     "name": "stdout",
     "output_type": "stream",
     "text": [
      "  Server is running at http://127.0.0.1:54321"
     ]
    },
    {
     "name": "stdout",
     "output_type": "stream",
     "text": [
      "\n"
     ]
    },
    {
     "name": "stdout",
     "output_type": "stream",
     "text": [
      "Connecting to H2O server at http://127.0.0.1:54321 .."
     ]
    },
    {
     "name": "stdout",
     "output_type": "stream",
     "text": [
      "."
     ]
    },
    {
     "name": "stdout",
     "output_type": "stream",
     "text": [
      " successful."
     ]
    },
    {
     "name": "stdout",
     "output_type": "stream",
     "text": [
      "\n"
     ]
    },
    {
     "data": {
      "text/html": [
       "<div style=\"overflow:auto\"><table style=\"width:50%\"><tr><td>H2O cluster uptime:</td>\n",
       "<td>01 secs</td></tr>\n",
       "<tr><td>H2O cluster timezone:</td>\n",
       "<td>Europe/Helsinki</td></tr>\n",
       "<tr><td>H2O data parsing timezone:</td>\n",
       "<td>UTC</td></tr>\n",
       "<tr><td>H2O cluster version:</td>\n",
       "<td>3.26.0.10</td></tr>\n",
       "<tr><td>H2O cluster version age:</td>\n",
       "<td>12 days </td></tr>\n",
       "<tr><td>H2O cluster name:</td>\n",
       "<td>#272016698</td></tr>\n",
       "<tr><td>H2O cluster total nodes:</td>\n",
       "<td>1</td></tr>\n",
       "<tr><td>H2O cluster free memory:</td>\n",
       "<td>29.97 Gb</td></tr>\n",
       "<tr><td>H2O cluster total cores:</td>\n",
       "<td>40</td></tr>\n",
       "<tr><td>H2O cluster allowed cores:</td>\n",
       "<td>20</td></tr>\n",
       "<tr><td>H2O cluster status:</td>\n",
       "<td>accepting new members, healthy</td></tr>\n",
       "<tr><td>H2O connection url:</td>\n",
       "<td>http://127.0.0.1:54321</td></tr>\n",
       "<tr><td>H2O connection proxy:</td>\n",
       "<td>{'http': None, 'https': None}</td></tr>\n",
       "<tr><td>H2O internal security:</td>\n",
       "<td>False</td></tr>\n",
       "<tr><td>H2O API Extensions:</td>\n",
       "<td>Amazon S3, XGBoost, Algos, AutoML, Core V3, TargetEncoder, Core V4</td></tr>\n",
       "<tr><td>Python version:</td>\n",
       "<td>3.6.6 final</td></tr></table></div>"
      ],
      "text/plain": [
       "--------------------------  ------------------------------------------------------------------\n",
       "H2O cluster uptime:         01 secs\n",
       "H2O cluster timezone:       Europe/Helsinki\n",
       "H2O data parsing timezone:  UTC\n",
       "H2O cluster version:        3.26.0.10\n",
       "H2O cluster version age:    12 days\n",
       "H2O cluster name:           #272016698\n",
       "H2O cluster total nodes:    1\n",
       "H2O cluster free memory:    29.97 Gb\n",
       "H2O cluster total cores:    40\n",
       "H2O cluster allowed cores:  20\n",
       "H2O cluster status:         accepting new members, healthy\n",
       "H2O connection url:         http://127.0.0.1:54321\n",
       "H2O connection proxy:       {'http': None, 'https': None}\n",
       "H2O internal security:      False\n",
       "H2O API Extensions:         Amazon S3, XGBoost, Algos, AutoML, Core V3, TargetEncoder, Core V4\n",
       "Python version:             3.6.6 final\n",
       "--------------------------  ------------------------------------------------------------------"
      ]
     },
     "metadata": {},
     "output_type": "display_data"
    },
    {
     "name": "stdout",
     "output_type": "stream",
     "text": [
      "H2O session _sid_b075 closed."
     ]
    },
    {
     "name": "stdout",
     "output_type": "stream",
     "text": [
      "\n"
     ]
    },
    {
     "name": "stdout",
     "output_type": "stream",
     "text": [
      "<class 'h2o.automl.autoh2o.H2OAutoML'>"
     ]
    },
    {
     "name": "stdout",
     "output_type": "stream",
     "text": [
      "\n"
     ]
    },
    {
     "name": "stdout",
     "output_type": "stream",
     "text": [
      "0.346"
     ]
    },
    {
     "name": "stdout",
     "output_type": "stream",
     "text": [
      "\n"
     ]
    },
    {
     "name": "stdout",
     "output_type": "stream",
     "text": [
      "Checking whether there is an H2O instance running at http://localhost:54321 "
     ]
    },
    {
     "name": "stdout",
     "output_type": "stream",
     "text": [
      "."
     ]
    },
    {
     "name": "stdout",
     "output_type": "stream",
     "text": [
      "."
     ]
    },
    {
     "name": "stdout",
     "output_type": "stream",
     "text": [
      "."
     ]
    },
    {
     "name": "stdout",
     "output_type": "stream",
     "text": [
      "."
     ]
    },
    {
     "name": "stdout",
     "output_type": "stream",
     "text": [
      "."
     ]
    },
    {
     "name": "stdout",
     "output_type": "stream",
     "text": [
      " not found."
     ]
    },
    {
     "name": "stdout",
     "output_type": "stream",
     "text": [
      "\n"
     ]
    },
    {
     "name": "stdout",
     "output_type": "stream",
     "text": [
      "Attempting to start a local H2O server..."
     ]
    },
    {
     "name": "stdout",
     "output_type": "stream",
     "text": [
      "\n"
     ]
    },
    {
     "name": "stdout",
     "output_type": "stream",
     "text": [
      "  Java Version: openjdk version \"11.0.2\" 2019-01-15; OpenJDK Runtime Environment 18.9 (build 11.0.2+9); OpenJDK 64-Bit Server VM 18.9 (build 11.0.2+9, mixed mode)"
     ]
    },
    {
     "name": "stdout",
     "output_type": "stream",
     "text": [
      "\n"
     ]
    },
    {
     "name": "stdout",
     "output_type": "stream",
     "text": [
      "  Starting server from /wrk/users/thalvari/dpEmu-AutoML/venv/lib/python3.6/site-packages/h2o/backend/bin/h2o.jar"
     ]
    },
    {
     "name": "stdout",
     "output_type": "stream",
     "text": [
      "\n"
     ]
    },
    {
     "name": "stdout",
     "output_type": "stream",
     "text": [
      "  Ice root: /wrk/users/thalvari/tmp3k6jpo94"
     ]
    },
    {
     "name": "stdout",
     "output_type": "stream",
     "text": [
      "\n"
     ]
    },
    {
     "name": "stdout",
     "output_type": "stream",
     "text": [
      "  JVM stdout: /wrk/users/thalvari/tmp3k6jpo94/h2o_thalvari_started_from_python.out"
     ]
    },
    {
     "name": "stdout",
     "output_type": "stream",
     "text": [
      "\n"
     ]
    },
    {
     "name": "stdout",
     "output_type": "stream",
     "text": [
      "  JVM stderr: /wrk/users/thalvari/tmp3k6jpo94/h2o_thalvari_started_from_python.err"
     ]
    },
    {
     "name": "stdout",
     "output_type": "stream",
     "text": [
      "\n"
     ]
    },
    {
     "name": "stdout",
     "output_type": "stream",
     "text": [
      "  Server is running at http://127.0.0.1:54321"
     ]
    },
    {
     "name": "stdout",
     "output_type": "stream",
     "text": [
      "\n"
     ]
    },
    {
     "name": "stdout",
     "output_type": "stream",
     "text": [
      "Connecting to H2O server at http://127.0.0.1:54321 .."
     ]
    },
    {
     "name": "stdout",
     "output_type": "stream",
     "text": [
      "."
     ]
    },
    {
     "name": "stdout",
     "output_type": "stream",
     "text": [
      " successful."
     ]
    },
    {
     "name": "stdout",
     "output_type": "stream",
     "text": [
      "\n"
     ]
    },
    {
     "data": {
      "text/html": [
       "<div style=\"overflow:auto\"><table style=\"width:50%\"><tr><td>H2O cluster uptime:</td>\n",
       "<td>01 secs</td></tr>\n",
       "<tr><td>H2O cluster timezone:</td>\n",
       "<td>Europe/Helsinki</td></tr>\n",
       "<tr><td>H2O data parsing timezone:</td>\n",
       "<td>UTC</td></tr>\n",
       "<tr><td>H2O cluster version:</td>\n",
       "<td>3.26.0.10</td></tr>\n",
       "<tr><td>H2O cluster version age:</td>\n",
       "<td>12 days </td></tr>\n",
       "<tr><td>H2O cluster name:</td>\n",
       "<td>#1060273213</td></tr>\n",
       "<tr><td>H2O cluster total nodes:</td>\n",
       "<td>1</td></tr>\n",
       "<tr><td>H2O cluster free memory:</td>\n",
       "<td>29.97 Gb</td></tr>\n",
       "<tr><td>H2O cluster total cores:</td>\n",
       "<td>40</td></tr>\n",
       "<tr><td>H2O cluster allowed cores:</td>\n",
       "<td>20</td></tr>\n",
       "<tr><td>H2O cluster status:</td>\n",
       "<td>accepting new members, healthy</td></tr>\n",
       "<tr><td>H2O connection url:</td>\n",
       "<td>http://127.0.0.1:54321</td></tr>\n",
       "<tr><td>H2O connection proxy:</td>\n",
       "<td>{'http': None, 'https': None}</td></tr>\n",
       "<tr><td>H2O internal security:</td>\n",
       "<td>False</td></tr>\n",
       "<tr><td>H2O API Extensions:</td>\n",
       "<td>Amazon S3, XGBoost, Algos, AutoML, Core V3, TargetEncoder, Core V4</td></tr>\n",
       "<tr><td>Python version:</td>\n",
       "<td>3.6.6 final</td></tr></table></div>"
      ],
      "text/plain": [
       "--------------------------  ------------------------------------------------------------------\n",
       "H2O cluster uptime:         01 secs\n",
       "H2O cluster timezone:       Europe/Helsinki\n",
       "H2O data parsing timezone:  UTC\n",
       "H2O cluster version:        3.26.0.10\n",
       "H2O cluster version age:    12 days\n",
       "H2O cluster name:           #1060273213\n",
       "H2O cluster total nodes:    1\n",
       "H2O cluster free memory:    29.97 Gb\n",
       "H2O cluster total cores:    40\n",
       "H2O cluster allowed cores:  20\n",
       "H2O cluster status:         accepting new members, healthy\n",
       "H2O connection url:         http://127.0.0.1:54321\n",
       "H2O connection proxy:       {'http': None, 'https': None}\n",
       "H2O internal security:      False\n",
       "H2O API Extensions:         Amazon S3, XGBoost, Algos, AutoML, Core V3, TargetEncoder, Core V4\n",
       "Python version:             3.6.6 final\n",
       "--------------------------  ------------------------------------------------------------------"
      ]
     },
     "metadata": {},
     "output_type": "display_data"
    },
    {
     "name": "stdout",
     "output_type": "stream",
     "text": [
      "H2O session _sid_9b90 closed."
     ]
    },
    {
     "name": "stdout",
     "output_type": "stream",
     "text": [
      "\n"
     ]
    },
    {
     "name": "stdout",
     "output_type": "stream",
     "text": [
      "<class 'h2o.automl.autoh2o.H2OAutoML'>"
     ]
    },
    {
     "name": "stdout",
     "output_type": "stream",
     "text": [
      "\n"
     ]
    },
    {
     "name": "stdout",
     "output_type": "stream",
     "text": [
      "0.171"
     ]
    },
    {
     "name": "stdout",
     "output_type": "stream",
     "text": [
      "\n"
     ]
    },
    {
     "name": "stderr",
     "output_type": "stream",
     "text": [
      "\r",
      "100%|██████████| 6/6 [9:24:13<00:00, 5592.84s/it]  "
     ]
    },
    {
     "name": "stderr",
     "output_type": "stream",
     "text": [
      "\r",
      "100%|██████████| 6/6 [9:24:13<00:00, 5642.29s/it]"
     ]
    },
    {
     "name": "stderr",
     "output_type": "stream",
     "text": [
      "\n"
     ]
    }
   ],
   "source": [
    "train_data, test_data, train_labels, test_labels = get_data()\n",
    "\n",
    "df = runner.run(\n",
    "    train_data=train_data,\n",
    "    test_data=test_data,\n",
    "    preproc=Preprocessor,\n",
    "    preproc_params=None,\n",
    "    err_root_node=get_err_root_node(),\n",
    "    # err_params_list=get_err_params_list(),\n",
    "    err_params_list=get_err_params_list(train_data),\n",
    "    model_params_dict_list=get_model_params_dict_list(train_labels, test_labels),\n",
    "    n_processes=1\n",
    ")"
   ]
  },
  {
   "cell_type": "code",
   "execution_count": 11,
   "metadata": {
    "collapsed": false,
    "papermill": {
     "duration": 2.244933,
     "end_time": "2019-11-19T22:04:52.100207",
     "exception": false,
     "start_time": "2019-11-19T22:04:49.855274",
     "status": "completed"
    },
    "pycharm": {
     "is_executing": false,
     "name": "#%%\n"
    },
    "tags": []
   },
   "outputs": [
    {
     "data": {
      "text/plain": [
       "'AutoKeras #1'"
      ]
     },
     "metadata": {},
     "output_type": "display_data"
    },
    {
     "data": {
      "text/html": [
       "<style  type=\"text/css\" >\n",
       "</style><table id=\"T_9b6de0a2_0b18_11ea_a184_80000208fe80\" ><thead>    <tr>        <th class=\"col_heading level0 col0\" >std</th>        <th class=\"col_heading level0 col1\" >test_acc</th>        <th class=\"col_heading level0 col2\" >train_acc</th>        <th class=\"col_heading level0 col3\" >time_err</th>        <th class=\"col_heading level0 col4\" >time_pre</th>        <th class=\"col_heading level0 col5\" >time_mod</th>    </tr></thead><tbody>\n",
       "                <tr>\n",
       "                                <td id=\"T_9b6de0a2_0b18_11ea_a184_80000208fe80row0_col0\" class=\"data row0 col0\" >0</td>\n",
       "                        <td id=\"T_9b6de0a2_0b18_11ea_a184_80000208fe80row0_col1\" class=\"data row0 col1\" >0.988</td>\n",
       "                        <td id=\"T_9b6de0a2_0b18_11ea_a184_80000208fe80row0_col2\" class=\"data row0 col2\" >0.999</td>\n",
       "                        <td id=\"T_9b6de0a2_0b18_11ea_a184_80000208fe80row0_col3\" class=\"data row0 col3\" >0.149</td>\n",
       "                        <td id=\"T_9b6de0a2_0b18_11ea_a184_80000208fe80row0_col4\" class=\"data row0 col4\" >0.001</td>\n",
       "                        <td id=\"T_9b6de0a2_0b18_11ea_a184_80000208fe80row0_col5\" class=\"data row0 col5\" >902.195</td>\n",
       "            </tr>\n",
       "            <tr>\n",
       "                                <td id=\"T_9b6de0a2_0b18_11ea_a184_80000208fe80row1_col0\" class=\"data row1 col0\" >3.2</td>\n",
       "                        <td id=\"T_9b6de0a2_0b18_11ea_a184_80000208fe80row1_col1\" class=\"data row1 col1\" >0.895</td>\n",
       "                        <td id=\"T_9b6de0a2_0b18_11ea_a184_80000208fe80row1_col2\" class=\"data row1 col2\" >0.984</td>\n",
       "                        <td id=\"T_9b6de0a2_0b18_11ea_a184_80000208fe80row1_col3\" class=\"data row1 col3\" >0.096</td>\n",
       "                        <td id=\"T_9b6de0a2_0b18_11ea_a184_80000208fe80row1_col4\" class=\"data row1 col4\" >0.001</td>\n",
       "                        <td id=\"T_9b6de0a2_0b18_11ea_a184_80000208fe80row1_col5\" class=\"data row1 col5\" >901.8</td>\n",
       "            </tr>\n",
       "            <tr>\n",
       "                                <td id=\"T_9b6de0a2_0b18_11ea_a184_80000208fe80row2_col0\" class=\"data row2 col0\" >6.4</td>\n",
       "                        <td id=\"T_9b6de0a2_0b18_11ea_a184_80000208fe80row2_col1\" class=\"data row2 col1\" >0.696</td>\n",
       "                        <td id=\"T_9b6de0a2_0b18_11ea_a184_80000208fe80row2_col2\" class=\"data row2 col2\" >0.874</td>\n",
       "                        <td id=\"T_9b6de0a2_0b18_11ea_a184_80000208fe80row2_col3\" class=\"data row2 col3\" >0.102</td>\n",
       "                        <td id=\"T_9b6de0a2_0b18_11ea_a184_80000208fe80row2_col4\" class=\"data row2 col4\" >0.002</td>\n",
       "                        <td id=\"T_9b6de0a2_0b18_11ea_a184_80000208fe80row2_col5\" class=\"data row2 col5\" >901.585</td>\n",
       "            </tr>\n",
       "            <tr>\n",
       "                                <td id=\"T_9b6de0a2_0b18_11ea_a184_80000208fe80row3_col0\" class=\"data row3 col0\" >9.6</td>\n",
       "                        <td id=\"T_9b6de0a2_0b18_11ea_a184_80000208fe80row3_col1\" class=\"data row3 col1\" >0.463</td>\n",
       "                        <td id=\"T_9b6de0a2_0b18_11ea_a184_80000208fe80row3_col2\" class=\"data row3 col2\" >0.923</td>\n",
       "                        <td id=\"T_9b6de0a2_0b18_11ea_a184_80000208fe80row3_col3\" class=\"data row3 col3\" >0.135</td>\n",
       "                        <td id=\"T_9b6de0a2_0b18_11ea_a184_80000208fe80row3_col4\" class=\"data row3 col4\" >0.001</td>\n",
       "                        <td id=\"T_9b6de0a2_0b18_11ea_a184_80000208fe80row3_col5\" class=\"data row3 col5\" >911.516</td>\n",
       "            </tr>\n",
       "            <tr>\n",
       "                                <td id=\"T_9b6de0a2_0b18_11ea_a184_80000208fe80row4_col0\" class=\"data row4 col0\" >12.8</td>\n",
       "                        <td id=\"T_9b6de0a2_0b18_11ea_a184_80000208fe80row4_col1\" class=\"data row4 col1\" >0.342</td>\n",
       "                        <td id=\"T_9b6de0a2_0b18_11ea_a184_80000208fe80row4_col2\" class=\"data row4 col2\" >0.845</td>\n",
       "                        <td id=\"T_9b6de0a2_0b18_11ea_a184_80000208fe80row4_col3\" class=\"data row4 col3\" >0.129</td>\n",
       "                        <td id=\"T_9b6de0a2_0b18_11ea_a184_80000208fe80row4_col4\" class=\"data row4 col4\" >0.001</td>\n",
       "                        <td id=\"T_9b6de0a2_0b18_11ea_a184_80000208fe80row4_col5\" class=\"data row4 col5\" >908.317</td>\n",
       "            </tr>\n",
       "            <tr>\n",
       "                                <td id=\"T_9b6de0a2_0b18_11ea_a184_80000208fe80row5_col0\" class=\"data row5 col0\" >16</td>\n",
       "                        <td id=\"T_9b6de0a2_0b18_11ea_a184_80000208fe80row5_col1\" class=\"data row5 col1\" >0.222</td>\n",
       "                        <td id=\"T_9b6de0a2_0b18_11ea_a184_80000208fe80row5_col2\" class=\"data row5 col2\" >0.697</td>\n",
       "                        <td id=\"T_9b6de0a2_0b18_11ea_a184_80000208fe80row5_col3\" class=\"data row5 col3\" >0.098</td>\n",
       "                        <td id=\"T_9b6de0a2_0b18_11ea_a184_80000208fe80row5_col4\" class=\"data row5 col4\" >0.001</td>\n",
       "                        <td id=\"T_9b6de0a2_0b18_11ea_a184_80000208fe80row5_col5\" class=\"data row5 col5\" >906.439</td>\n",
       "            </tr>\n",
       "    </tbody></table>"
      ],
      "text/plain": [
       "<pandas.io.formats.style.Styler at 0x2aedef92a400>"
      ]
     },
     "metadata": {},
     "output_type": "display_data"
    },
    {
     "data": {
      "text/html": [
       "<style  type=\"text/css\" >\n",
       "</style><table id=\"T_9b807154_0b18_11ea_a184_80000208fe80\" ><thead>    <tr>        <th class=\"col_heading level0 col0\" >std</th>        <th class=\"col_heading level0 col1\" >pipe_0</th>        <th class=\"col_heading level0 col2\" >pipe_1</th>        <th class=\"col_heading level0 col3\" >pipe_2</th>        <th class=\"col_heading level0 col4\" >pipe_3</th>        <th class=\"col_heading level0 col5\" >pipe_4</th>        <th class=\"col_heading level0 col6\" >pipe_5</th>        <th class=\"col_heading level0 col7\" >pipe_6</th>        <th class=\"col_heading level0 col8\" >pipe_7</th>        <th class=\"col_heading level0 col9\" >pipe_8</th>        <th class=\"col_heading level0 col10\" >pipe_9</th>        <th class=\"col_heading level0 col11\" >pipe_10</th>        <th class=\"col_heading level0 col12\" >pipe_11</th>        <th class=\"col_heading level0 col13\" >pipe_12</th>        <th class=\"col_heading level0 col14\" >pipe_13</th>        <th class=\"col_heading level0 col15\" >pipe_14</th>        <th class=\"col_heading level0 col16\" >pipe_15</th>        <th class=\"col_heading level0 col17\" >pipe_16</th>        <th class=\"col_heading level0 col18\" >pipe_17</th>        <th class=\"col_heading level0 col19\" >pipe_18</th>        <th class=\"col_heading level0 col20\" >pipe_19</th>        <th class=\"col_heading level0 col21\" >pipe_20</th>        <th class=\"col_heading level0 col22\" >pipe_21</th>        <th class=\"col_heading level0 col23\" >pipe_22</th>        <th class=\"col_heading level0 col24\" >pipe_23</th>        <th class=\"col_heading level0 col25\" >pipe_24</th>        <th class=\"col_heading level0 col26\" >pipe_25</th>        <th class=\"col_heading level0 col27\" >pipe_26</th>        <th class=\"col_heading level0 col28\" >pipe_27</th>        <th class=\"col_heading level0 col29\" >pipe_28</th>        <th class=\"col_heading level0 col30\" >pipe_29</th>        <th class=\"col_heading level0 col31\" >pipe_30</th>        <th class=\"col_heading level0 col32\" >pipe_31</th>        <th class=\"col_heading level0 col33\" >pipe_32</th>        <th class=\"col_heading level0 col34\" >pipe_33</th>        <th class=\"col_heading level0 col35\" >pipe_34</th>        <th class=\"col_heading level0 col36\" >pipe_35</th>        <th class=\"col_heading level0 col37\" >pipe_36</th>        <th class=\"col_heading level0 col38\" >pipe_37</th>        <th class=\"col_heading level0 col39\" >pipe_38</th>        <th class=\"col_heading level0 col40\" >pipe_39</th>        <th class=\"col_heading level0 col41\" >pipe_40</th>        <th class=\"col_heading level0 col42\" >pipe_41</th>        <th class=\"col_heading level0 col43\" >pipe_42</th>        <th class=\"col_heading level0 col44\" >pipe_43</th>        <th class=\"col_heading level0 col45\" >pipe_44</th>        <th class=\"col_heading level0 col46\" >pipe_45</th>        <th class=\"col_heading level0 col47\" >pipe_46</th>        <th class=\"col_heading level0 col48\" >pipe_47</th>        <th class=\"col_heading level0 col49\" >pipe_48</th>        <th class=\"col_heading level0 col50\" >pipe_49</th>        <th class=\"col_heading level0 col51\" >pipe_50</th>        <th class=\"col_heading level0 col52\" >pipe_51</th>        <th class=\"col_heading level0 col53\" >pipe_52</th>        <th class=\"col_heading level0 col54\" >pipe_53</th>        <th class=\"col_heading level0 col55\" >pipe_54</th>        <th class=\"col_heading level0 col56\" >pipe_55</th>        <th class=\"col_heading level0 col57\" >pipe_56</th>        <th class=\"col_heading level0 col58\" >pipe_57</th>        <th class=\"col_heading level0 col59\" >pipe_58</th>        <th class=\"col_heading level0 col60\" >pipe_59</th>        <th class=\"col_heading level0 col61\" >pipe_60</th>        <th class=\"col_heading level0 col62\" >pipe_61</th>        <th class=\"col_heading level0 col63\" >pipe_62</th>        <th class=\"col_heading level0 col64\" >pipe_63</th>        <th class=\"col_heading level0 col65\" >pipe_64</th>        <th class=\"col_heading level0 col66\" >pipe_65</th>        <th class=\"col_heading level0 col67\" >pipe_66</th>        <th class=\"col_heading level0 col68\" >pipe_67</th>        <th class=\"col_heading level0 col69\" >pipe_68</th>        <th class=\"col_heading level0 col70\" >pipe_69</th>        <th class=\"col_heading level0 col71\" >pipe_70</th>        <th class=\"col_heading level0 col72\" >pipe_71</th>        <th class=\"col_heading level0 col73\" >pipe_72</th>        <th class=\"col_heading level0 col74\" >pipe_73</th>        <th class=\"col_heading level0 col75\" >pipe_74</th>        <th class=\"col_heading level0 col76\" >pipe_75</th>    </tr></thead><tbody>\n",
       "                <tr>\n",
       "                                <td id=\"T_9b807154_0b18_11ea_a184_80000208fe80row0_col0\" class=\"data row0 col0\" >0</td>\n",
       "                        <td id=\"T_9b807154_0b18_11ea_a184_80000208fe80row0_col1\" class=\"data row0 col1\" >Conv2d(1, 64, kernel_size=(3, 3), stride=(1, 1), padding=(1, 1))</td>\n",
       "                        <td id=\"T_9b807154_0b18_11ea_a184_80000208fe80row0_col2\" class=\"data row0 col2\" >BatchNorm2d(64, eps=1e-05, momentum=0.1, affine=True, track_running_stats=True)</td>\n",
       "                        <td id=\"T_9b807154_0b18_11ea_a184_80000208fe80row0_col3\" class=\"data row0 col3\" >BatchNorm2d(64, eps=1e-05, momentum=0.1, affine=True, track_running_stats=True)</td>\n",
       "                        <td id=\"T_9b807154_0b18_11ea_a184_80000208fe80row0_col4\" class=\"data row0 col4\" >ReLU()</td>\n",
       "                        <td id=\"T_9b807154_0b18_11ea_a184_80000208fe80row0_col5\" class=\"data row0 col5\" >Conv2d(64, 64, kernel_size=(3, 3), stride=(1, 1), padding=(1, 1))</td>\n",
       "                        <td id=\"T_9b807154_0b18_11ea_a184_80000208fe80row0_col6\" class=\"data row0 col6\" >BatchNorm2d(64, eps=1e-05, momentum=0.1, affine=True, track_running_stats=True)</td>\n",
       "                        <td id=\"T_9b807154_0b18_11ea_a184_80000208fe80row0_col7\" class=\"data row0 col7\" >ReLU()</td>\n",
       "                        <td id=\"T_9b807154_0b18_11ea_a184_80000208fe80row0_col8\" class=\"data row0 col8\" >Conv2d(64, 64, kernel_size=(3, 3), stride=(1, 1), padding=(1, 1))</td>\n",
       "                        <td id=\"T_9b807154_0b18_11ea_a184_80000208fe80row0_col9\" class=\"data row0 col9\" >ReLU()</td>\n",
       "                        <td id=\"T_9b807154_0b18_11ea_a184_80000208fe80row0_col10\" class=\"data row0 col10\" >Conv2d(64, 64, kernel_size=(1, 1), stride=(1, 1))</td>\n",
       "                        <td id=\"T_9b807154_0b18_11ea_a184_80000208fe80row0_col11\" class=\"data row0 col11\" >TorchAdd()</td>\n",
       "                        <td id=\"T_9b807154_0b18_11ea_a184_80000208fe80row0_col12\" class=\"data row0 col12\" >BatchNorm2d(64, eps=1e-05, momentum=0.1, affine=True, track_running_stats=True)</td>\n",
       "                        <td id=\"T_9b807154_0b18_11ea_a184_80000208fe80row0_col13\" class=\"data row0 col13\" >ReLU()</td>\n",
       "                        <td id=\"T_9b807154_0b18_11ea_a184_80000208fe80row0_col14\" class=\"data row0 col14\" >Conv2d(64, 64, kernel_size=(3, 3), stride=(1, 1), padding=(1, 1))</td>\n",
       "                        <td id=\"T_9b807154_0b18_11ea_a184_80000208fe80row0_col15\" class=\"data row0 col15\" >BatchNorm2d(64, eps=1e-05, momentum=0.1, affine=True, track_running_stats=True)</td>\n",
       "                        <td id=\"T_9b807154_0b18_11ea_a184_80000208fe80row0_col16\" class=\"data row0 col16\" >ReLU()</td>\n",
       "                        <td id=\"T_9b807154_0b18_11ea_a184_80000208fe80row0_col17\" class=\"data row0 col17\" >Conv2d(64, 64, kernel_size=(3, 3), stride=(1, 1), padding=(1, 1))</td>\n",
       "                        <td id=\"T_9b807154_0b18_11ea_a184_80000208fe80row0_col18\" class=\"data row0 col18\" >ReLU()</td>\n",
       "                        <td id=\"T_9b807154_0b18_11ea_a184_80000208fe80row0_col19\" class=\"data row0 col19\" >Conv2d(64, 64, kernel_size=(1, 1), stride=(1, 1))</td>\n",
       "                        <td id=\"T_9b807154_0b18_11ea_a184_80000208fe80row0_col20\" class=\"data row0 col20\" >TorchAdd()</td>\n",
       "                        <td id=\"T_9b807154_0b18_11ea_a184_80000208fe80row0_col21\" class=\"data row0 col21\" >BatchNorm2d(64, eps=1e-05, momentum=0.1, affine=True, track_running_stats=True)</td>\n",
       "                        <td id=\"T_9b807154_0b18_11ea_a184_80000208fe80row0_col22\" class=\"data row0 col22\" >ReLU()</td>\n",
       "                        <td id=\"T_9b807154_0b18_11ea_a184_80000208fe80row0_col23\" class=\"data row0 col23\" >Conv2d(64, 128, kernel_size=(3, 3), stride=(2, 2), padding=(1, 1))</td>\n",
       "                        <td id=\"T_9b807154_0b18_11ea_a184_80000208fe80row0_col24\" class=\"data row0 col24\" >BatchNorm2d(128, eps=1e-05, momentum=0.1, affine=True, track_running_stats=True)</td>\n",
       "                        <td id=\"T_9b807154_0b18_11ea_a184_80000208fe80row0_col25\" class=\"data row0 col25\" >ReLU()</td>\n",
       "                        <td id=\"T_9b807154_0b18_11ea_a184_80000208fe80row0_col26\" class=\"data row0 col26\" >Conv2d(128, 128, kernel_size=(3, 3), stride=(1, 1), padding=(1, 1))</td>\n",
       "                        <td id=\"T_9b807154_0b18_11ea_a184_80000208fe80row0_col27\" class=\"data row0 col27\" >ReLU()</td>\n",
       "                        <td id=\"T_9b807154_0b18_11ea_a184_80000208fe80row0_col28\" class=\"data row0 col28\" >Conv2d(64, 128, kernel_size=(1, 1), stride=(2, 2))</td>\n",
       "                        <td id=\"T_9b807154_0b18_11ea_a184_80000208fe80row0_col29\" class=\"data row0 col29\" >TorchAdd()</td>\n",
       "                        <td id=\"T_9b807154_0b18_11ea_a184_80000208fe80row0_col30\" class=\"data row0 col30\" >BatchNorm2d(128, eps=1e-05, momentum=0.1, affine=True, track_running_stats=True)</td>\n",
       "                        <td id=\"T_9b807154_0b18_11ea_a184_80000208fe80row0_col31\" class=\"data row0 col31\" >ReLU()</td>\n",
       "                        <td id=\"T_9b807154_0b18_11ea_a184_80000208fe80row0_col32\" class=\"data row0 col32\" >Conv2d(128, 128, kernel_size=(3, 3), stride=(1, 1), padding=(1, 1))</td>\n",
       "                        <td id=\"T_9b807154_0b18_11ea_a184_80000208fe80row0_col33\" class=\"data row0 col33\" >BatchNorm2d(128, eps=1e-05, momentum=0.1, affine=True, track_running_stats=True)</td>\n",
       "                        <td id=\"T_9b807154_0b18_11ea_a184_80000208fe80row0_col34\" class=\"data row0 col34\" >ReLU()</td>\n",
       "                        <td id=\"T_9b807154_0b18_11ea_a184_80000208fe80row0_col35\" class=\"data row0 col35\" >Conv2d(128, 128, kernel_size=(3, 3), stride=(1, 1), padding=(1, 1))</td>\n",
       "                        <td id=\"T_9b807154_0b18_11ea_a184_80000208fe80row0_col36\" class=\"data row0 col36\" >ReLU()</td>\n",
       "                        <td id=\"T_9b807154_0b18_11ea_a184_80000208fe80row0_col37\" class=\"data row0 col37\" >Conv2d(128, 128, kernel_size=(1, 1), stride=(1, 1))</td>\n",
       "                        <td id=\"T_9b807154_0b18_11ea_a184_80000208fe80row0_col38\" class=\"data row0 col38\" >TorchAdd()</td>\n",
       "                        <td id=\"T_9b807154_0b18_11ea_a184_80000208fe80row0_col39\" class=\"data row0 col39\" >BatchNorm2d(128, eps=1e-05, momentum=0.1, affine=True, track_running_stats=True)</td>\n",
       "                        <td id=\"T_9b807154_0b18_11ea_a184_80000208fe80row0_col40\" class=\"data row0 col40\" >ReLU()</td>\n",
       "                        <td id=\"T_9b807154_0b18_11ea_a184_80000208fe80row0_col41\" class=\"data row0 col41\" >Conv2d(128, 256, kernel_size=(3, 3), stride=(2, 2), padding=(1, 1))</td>\n",
       "                        <td id=\"T_9b807154_0b18_11ea_a184_80000208fe80row0_col42\" class=\"data row0 col42\" >BatchNorm2d(256, eps=1e-05, momentum=0.1, affine=True, track_running_stats=True)</td>\n",
       "                        <td id=\"T_9b807154_0b18_11ea_a184_80000208fe80row0_col43\" class=\"data row0 col43\" >ReLU()</td>\n",
       "                        <td id=\"T_9b807154_0b18_11ea_a184_80000208fe80row0_col44\" class=\"data row0 col44\" >Conv2d(256, 256, kernel_size=(3, 3), stride=(1, 1), padding=(1, 1))</td>\n",
       "                        <td id=\"T_9b807154_0b18_11ea_a184_80000208fe80row0_col45\" class=\"data row0 col45\" >ReLU()</td>\n",
       "                        <td id=\"T_9b807154_0b18_11ea_a184_80000208fe80row0_col46\" class=\"data row0 col46\" >Conv2d(128, 256, kernel_size=(1, 1), stride=(2, 2))</td>\n",
       "                        <td id=\"T_9b807154_0b18_11ea_a184_80000208fe80row0_col47\" class=\"data row0 col47\" >TorchAdd()</td>\n",
       "                        <td id=\"T_9b807154_0b18_11ea_a184_80000208fe80row0_col48\" class=\"data row0 col48\" >BatchNorm2d(256, eps=1e-05, momentum=0.1, affine=True, track_running_stats=True)</td>\n",
       "                        <td id=\"T_9b807154_0b18_11ea_a184_80000208fe80row0_col49\" class=\"data row0 col49\" >ReLU()</td>\n",
       "                        <td id=\"T_9b807154_0b18_11ea_a184_80000208fe80row0_col50\" class=\"data row0 col50\" >Conv2d(256, 256, kernel_size=(3, 3), stride=(1, 1), padding=(1, 1))</td>\n",
       "                        <td id=\"T_9b807154_0b18_11ea_a184_80000208fe80row0_col51\" class=\"data row0 col51\" >BatchNorm2d(256, eps=1e-05, momentum=0.1, affine=True, track_running_stats=True)</td>\n",
       "                        <td id=\"T_9b807154_0b18_11ea_a184_80000208fe80row0_col52\" class=\"data row0 col52\" >ReLU()</td>\n",
       "                        <td id=\"T_9b807154_0b18_11ea_a184_80000208fe80row0_col53\" class=\"data row0 col53\" >Conv2d(256, 256, kernel_size=(3, 3), stride=(1, 1), padding=(1, 1))</td>\n",
       "                        <td id=\"T_9b807154_0b18_11ea_a184_80000208fe80row0_col54\" class=\"data row0 col54\" >ReLU()</td>\n",
       "                        <td id=\"T_9b807154_0b18_11ea_a184_80000208fe80row0_col55\" class=\"data row0 col55\" >Conv2d(256, 256, kernel_size=(1, 1), stride=(1, 1))</td>\n",
       "                        <td id=\"T_9b807154_0b18_11ea_a184_80000208fe80row0_col56\" class=\"data row0 col56\" >TorchAdd()</td>\n",
       "                        <td id=\"T_9b807154_0b18_11ea_a184_80000208fe80row0_col57\" class=\"data row0 col57\" >BatchNorm2d(256, eps=1e-05, momentum=0.1, affine=True, track_running_stats=True)</td>\n",
       "                        <td id=\"T_9b807154_0b18_11ea_a184_80000208fe80row0_col58\" class=\"data row0 col58\" >ReLU()</td>\n",
       "                        <td id=\"T_9b807154_0b18_11ea_a184_80000208fe80row0_col59\" class=\"data row0 col59\" >Conv2d(256, 512, kernel_size=(3, 3), stride=(2, 2), padding=(1, 1))</td>\n",
       "                        <td id=\"T_9b807154_0b18_11ea_a184_80000208fe80row0_col60\" class=\"data row0 col60\" >BatchNorm2d(512, eps=1e-05, momentum=0.1, affine=True, track_running_stats=True)</td>\n",
       "                        <td id=\"T_9b807154_0b18_11ea_a184_80000208fe80row0_col61\" class=\"data row0 col61\" >ReLU()</td>\n",
       "                        <td id=\"T_9b807154_0b18_11ea_a184_80000208fe80row0_col62\" class=\"data row0 col62\" >Conv2d(512, 512, kernel_size=(3, 3), stride=(1, 1), padding=(1, 1))</td>\n",
       "                        <td id=\"T_9b807154_0b18_11ea_a184_80000208fe80row0_col63\" class=\"data row0 col63\" >ReLU()</td>\n",
       "                        <td id=\"T_9b807154_0b18_11ea_a184_80000208fe80row0_col64\" class=\"data row0 col64\" >Conv2d(256, 512, kernel_size=(1, 1), stride=(2, 2))</td>\n",
       "                        <td id=\"T_9b807154_0b18_11ea_a184_80000208fe80row0_col65\" class=\"data row0 col65\" >TorchAdd()</td>\n",
       "                        <td id=\"T_9b807154_0b18_11ea_a184_80000208fe80row0_col66\" class=\"data row0 col66\" >BatchNorm2d(512, eps=1e-05, momentum=0.1, affine=True, track_running_stats=True)</td>\n",
       "                        <td id=\"T_9b807154_0b18_11ea_a184_80000208fe80row0_col67\" class=\"data row0 col67\" >ReLU()</td>\n",
       "                        <td id=\"T_9b807154_0b18_11ea_a184_80000208fe80row0_col68\" class=\"data row0 col68\" >Conv2d(512, 512, kernel_size=(3, 3), stride=(1, 1), padding=(1, 1))</td>\n",
       "                        <td id=\"T_9b807154_0b18_11ea_a184_80000208fe80row0_col69\" class=\"data row0 col69\" >BatchNorm2d(512, eps=1e-05, momentum=0.1, affine=True, track_running_stats=True)</td>\n",
       "                        <td id=\"T_9b807154_0b18_11ea_a184_80000208fe80row0_col70\" class=\"data row0 col70\" >ReLU()</td>\n",
       "                        <td id=\"T_9b807154_0b18_11ea_a184_80000208fe80row0_col71\" class=\"data row0 col71\" >Conv2d(512, 512, kernel_size=(3, 3), stride=(1, 1), padding=(1, 1))</td>\n",
       "                        <td id=\"T_9b807154_0b18_11ea_a184_80000208fe80row0_col72\" class=\"data row0 col72\" >ReLU()</td>\n",
       "                        <td id=\"T_9b807154_0b18_11ea_a184_80000208fe80row0_col73\" class=\"data row0 col73\" >Conv2d(512, 512, kernel_size=(1, 1), stride=(1, 1))</td>\n",
       "                        <td id=\"T_9b807154_0b18_11ea_a184_80000208fe80row0_col74\" class=\"data row0 col74\" >TorchAdd()</td>\n",
       "                        <td id=\"T_9b807154_0b18_11ea_a184_80000208fe80row0_col75\" class=\"data row0 col75\" >GlobalAvgPool2d()</td>\n",
       "                        <td id=\"T_9b807154_0b18_11ea_a184_80000208fe80row0_col76\" class=\"data row0 col76\" >Linear(in_features=512, out_features=10, bias=True)</td>\n",
       "            </tr>\n",
       "            <tr>\n",
       "                                <td id=\"T_9b807154_0b18_11ea_a184_80000208fe80row1_col0\" class=\"data row1 col0\" >3.2</td>\n",
       "                        <td id=\"T_9b807154_0b18_11ea_a184_80000208fe80row1_col1\" class=\"data row1 col1\" >ReLU()</td>\n",
       "                        <td id=\"T_9b807154_0b18_11ea_a184_80000208fe80row1_col2\" class=\"data row1 col2\" >BatchNorm2d(1, eps=1e-05, momentum=0.1, affine=True, track_running_stats=True)</td>\n",
       "                        <td id=\"T_9b807154_0b18_11ea_a184_80000208fe80row1_col3\" class=\"data row1 col3\" >Conv2d(1, 64, kernel_size=(3, 3), stride=(1, 1), padding=(1, 1))</td>\n",
       "                        <td id=\"T_9b807154_0b18_11ea_a184_80000208fe80row1_col4\" class=\"data row1 col4\" >MaxPool2d(kernel_size=2, stride=2, padding=0, dilation=1, ceil_mode=False)</td>\n",
       "                        <td id=\"T_9b807154_0b18_11ea_a184_80000208fe80row1_col5\" class=\"data row1 col5\" >ReLU()</td>\n",
       "                        <td id=\"T_9b807154_0b18_11ea_a184_80000208fe80row1_col6\" class=\"data row1 col6\" >BatchNorm2d(64, eps=1e-05, momentum=0.1, affine=True, track_running_stats=True)</td>\n",
       "                        <td id=\"T_9b807154_0b18_11ea_a184_80000208fe80row1_col7\" class=\"data row1 col7\" >Conv2d(64, 64, kernel_size=(3, 3), stride=(1, 1), padding=(1, 1))</td>\n",
       "                        <td id=\"T_9b807154_0b18_11ea_a184_80000208fe80row1_col8\" class=\"data row1 col8\" >MaxPool2d(kernel_size=2, stride=2, padding=0, dilation=1, ceil_mode=False)</td>\n",
       "                        <td id=\"T_9b807154_0b18_11ea_a184_80000208fe80row1_col9\" class=\"data row1 col9\" >ReLU()</td>\n",
       "                        <td id=\"T_9b807154_0b18_11ea_a184_80000208fe80row1_col10\" class=\"data row1 col10\" >BatchNorm2d(64, eps=1e-05, momentum=0.1, affine=True, track_running_stats=True)</td>\n",
       "                        <td id=\"T_9b807154_0b18_11ea_a184_80000208fe80row1_col11\" class=\"data row1 col11\" >Conv2d(64, 64, kernel_size=(3, 3), stride=(1, 1), padding=(1, 1))</td>\n",
       "                        <td id=\"T_9b807154_0b18_11ea_a184_80000208fe80row1_col12\" class=\"data row1 col12\" >MaxPool2d(kernel_size=2, stride=2, padding=0, dilation=1, ceil_mode=False)</td>\n",
       "                        <td id=\"T_9b807154_0b18_11ea_a184_80000208fe80row1_col13\" class=\"data row1 col13\" >GlobalAvgPool2d()</td>\n",
       "                        <td id=\"T_9b807154_0b18_11ea_a184_80000208fe80row1_col14\" class=\"data row1 col14\" >Dropout2d(p=0.25)</td>\n",
       "                        <td id=\"T_9b807154_0b18_11ea_a184_80000208fe80row1_col15\" class=\"data row1 col15\" >Linear(in_features=64, out_features=64, bias=True)</td>\n",
       "                        <td id=\"T_9b807154_0b18_11ea_a184_80000208fe80row1_col16\" class=\"data row1 col16\" >ReLU()</td>\n",
       "                        <td id=\"T_9b807154_0b18_11ea_a184_80000208fe80row1_col17\" class=\"data row1 col17\" >Linear(in_features=64, out_features=10, bias=True)</td>\n",
       "                        <td id=\"T_9b807154_0b18_11ea_a184_80000208fe80row1_col18\" class=\"data row1 col18\" >nan</td>\n",
       "                        <td id=\"T_9b807154_0b18_11ea_a184_80000208fe80row1_col19\" class=\"data row1 col19\" >nan</td>\n",
       "                        <td id=\"T_9b807154_0b18_11ea_a184_80000208fe80row1_col20\" class=\"data row1 col20\" >nan</td>\n",
       "                        <td id=\"T_9b807154_0b18_11ea_a184_80000208fe80row1_col21\" class=\"data row1 col21\" >nan</td>\n",
       "                        <td id=\"T_9b807154_0b18_11ea_a184_80000208fe80row1_col22\" class=\"data row1 col22\" >nan</td>\n",
       "                        <td id=\"T_9b807154_0b18_11ea_a184_80000208fe80row1_col23\" class=\"data row1 col23\" >nan</td>\n",
       "                        <td id=\"T_9b807154_0b18_11ea_a184_80000208fe80row1_col24\" class=\"data row1 col24\" >nan</td>\n",
       "                        <td id=\"T_9b807154_0b18_11ea_a184_80000208fe80row1_col25\" class=\"data row1 col25\" >nan</td>\n",
       "                        <td id=\"T_9b807154_0b18_11ea_a184_80000208fe80row1_col26\" class=\"data row1 col26\" >nan</td>\n",
       "                        <td id=\"T_9b807154_0b18_11ea_a184_80000208fe80row1_col27\" class=\"data row1 col27\" >nan</td>\n",
       "                        <td id=\"T_9b807154_0b18_11ea_a184_80000208fe80row1_col28\" class=\"data row1 col28\" >nan</td>\n",
       "                        <td id=\"T_9b807154_0b18_11ea_a184_80000208fe80row1_col29\" class=\"data row1 col29\" >nan</td>\n",
       "                        <td id=\"T_9b807154_0b18_11ea_a184_80000208fe80row1_col30\" class=\"data row1 col30\" >nan</td>\n",
       "                        <td id=\"T_9b807154_0b18_11ea_a184_80000208fe80row1_col31\" class=\"data row1 col31\" >nan</td>\n",
       "                        <td id=\"T_9b807154_0b18_11ea_a184_80000208fe80row1_col32\" class=\"data row1 col32\" >nan</td>\n",
       "                        <td id=\"T_9b807154_0b18_11ea_a184_80000208fe80row1_col33\" class=\"data row1 col33\" >nan</td>\n",
       "                        <td id=\"T_9b807154_0b18_11ea_a184_80000208fe80row1_col34\" class=\"data row1 col34\" >nan</td>\n",
       "                        <td id=\"T_9b807154_0b18_11ea_a184_80000208fe80row1_col35\" class=\"data row1 col35\" >nan</td>\n",
       "                        <td id=\"T_9b807154_0b18_11ea_a184_80000208fe80row1_col36\" class=\"data row1 col36\" >nan</td>\n",
       "                        <td id=\"T_9b807154_0b18_11ea_a184_80000208fe80row1_col37\" class=\"data row1 col37\" >nan</td>\n",
       "                        <td id=\"T_9b807154_0b18_11ea_a184_80000208fe80row1_col38\" class=\"data row1 col38\" >nan</td>\n",
       "                        <td id=\"T_9b807154_0b18_11ea_a184_80000208fe80row1_col39\" class=\"data row1 col39\" >nan</td>\n",
       "                        <td id=\"T_9b807154_0b18_11ea_a184_80000208fe80row1_col40\" class=\"data row1 col40\" >nan</td>\n",
       "                        <td id=\"T_9b807154_0b18_11ea_a184_80000208fe80row1_col41\" class=\"data row1 col41\" >nan</td>\n",
       "                        <td id=\"T_9b807154_0b18_11ea_a184_80000208fe80row1_col42\" class=\"data row1 col42\" >nan</td>\n",
       "                        <td id=\"T_9b807154_0b18_11ea_a184_80000208fe80row1_col43\" class=\"data row1 col43\" >nan</td>\n",
       "                        <td id=\"T_9b807154_0b18_11ea_a184_80000208fe80row1_col44\" class=\"data row1 col44\" >nan</td>\n",
       "                        <td id=\"T_9b807154_0b18_11ea_a184_80000208fe80row1_col45\" class=\"data row1 col45\" >nan</td>\n",
       "                        <td id=\"T_9b807154_0b18_11ea_a184_80000208fe80row1_col46\" class=\"data row1 col46\" >nan</td>\n",
       "                        <td id=\"T_9b807154_0b18_11ea_a184_80000208fe80row1_col47\" class=\"data row1 col47\" >nan</td>\n",
       "                        <td id=\"T_9b807154_0b18_11ea_a184_80000208fe80row1_col48\" class=\"data row1 col48\" >nan</td>\n",
       "                        <td id=\"T_9b807154_0b18_11ea_a184_80000208fe80row1_col49\" class=\"data row1 col49\" >nan</td>\n",
       "                        <td id=\"T_9b807154_0b18_11ea_a184_80000208fe80row1_col50\" class=\"data row1 col50\" >nan</td>\n",
       "                        <td id=\"T_9b807154_0b18_11ea_a184_80000208fe80row1_col51\" class=\"data row1 col51\" >nan</td>\n",
       "                        <td id=\"T_9b807154_0b18_11ea_a184_80000208fe80row1_col52\" class=\"data row1 col52\" >nan</td>\n",
       "                        <td id=\"T_9b807154_0b18_11ea_a184_80000208fe80row1_col53\" class=\"data row1 col53\" >nan</td>\n",
       "                        <td id=\"T_9b807154_0b18_11ea_a184_80000208fe80row1_col54\" class=\"data row1 col54\" >nan</td>\n",
       "                        <td id=\"T_9b807154_0b18_11ea_a184_80000208fe80row1_col55\" class=\"data row1 col55\" >nan</td>\n",
       "                        <td id=\"T_9b807154_0b18_11ea_a184_80000208fe80row1_col56\" class=\"data row1 col56\" >nan</td>\n",
       "                        <td id=\"T_9b807154_0b18_11ea_a184_80000208fe80row1_col57\" class=\"data row1 col57\" >nan</td>\n",
       "                        <td id=\"T_9b807154_0b18_11ea_a184_80000208fe80row1_col58\" class=\"data row1 col58\" >nan</td>\n",
       "                        <td id=\"T_9b807154_0b18_11ea_a184_80000208fe80row1_col59\" class=\"data row1 col59\" >nan</td>\n",
       "                        <td id=\"T_9b807154_0b18_11ea_a184_80000208fe80row1_col60\" class=\"data row1 col60\" >nan</td>\n",
       "                        <td id=\"T_9b807154_0b18_11ea_a184_80000208fe80row1_col61\" class=\"data row1 col61\" >nan</td>\n",
       "                        <td id=\"T_9b807154_0b18_11ea_a184_80000208fe80row1_col62\" class=\"data row1 col62\" >nan</td>\n",
       "                        <td id=\"T_9b807154_0b18_11ea_a184_80000208fe80row1_col63\" class=\"data row1 col63\" >nan</td>\n",
       "                        <td id=\"T_9b807154_0b18_11ea_a184_80000208fe80row1_col64\" class=\"data row1 col64\" >nan</td>\n",
       "                        <td id=\"T_9b807154_0b18_11ea_a184_80000208fe80row1_col65\" class=\"data row1 col65\" >nan</td>\n",
       "                        <td id=\"T_9b807154_0b18_11ea_a184_80000208fe80row1_col66\" class=\"data row1 col66\" >nan</td>\n",
       "                        <td id=\"T_9b807154_0b18_11ea_a184_80000208fe80row1_col67\" class=\"data row1 col67\" >nan</td>\n",
       "                        <td id=\"T_9b807154_0b18_11ea_a184_80000208fe80row1_col68\" class=\"data row1 col68\" >nan</td>\n",
       "                        <td id=\"T_9b807154_0b18_11ea_a184_80000208fe80row1_col69\" class=\"data row1 col69\" >nan</td>\n",
       "                        <td id=\"T_9b807154_0b18_11ea_a184_80000208fe80row1_col70\" class=\"data row1 col70\" >nan</td>\n",
       "                        <td id=\"T_9b807154_0b18_11ea_a184_80000208fe80row1_col71\" class=\"data row1 col71\" >nan</td>\n",
       "                        <td id=\"T_9b807154_0b18_11ea_a184_80000208fe80row1_col72\" class=\"data row1 col72\" >nan</td>\n",
       "                        <td id=\"T_9b807154_0b18_11ea_a184_80000208fe80row1_col73\" class=\"data row1 col73\" >nan</td>\n",
       "                        <td id=\"T_9b807154_0b18_11ea_a184_80000208fe80row1_col74\" class=\"data row1 col74\" >nan</td>\n",
       "                        <td id=\"T_9b807154_0b18_11ea_a184_80000208fe80row1_col75\" class=\"data row1 col75\" >nan</td>\n",
       "                        <td id=\"T_9b807154_0b18_11ea_a184_80000208fe80row1_col76\" class=\"data row1 col76\" >nan</td>\n",
       "            </tr>\n",
       "            <tr>\n",
       "                                <td id=\"T_9b807154_0b18_11ea_a184_80000208fe80row2_col0\" class=\"data row2 col0\" >6.4</td>\n",
       "                        <td id=\"T_9b807154_0b18_11ea_a184_80000208fe80row2_col1\" class=\"data row2 col1\" >ReLU()</td>\n",
       "                        <td id=\"T_9b807154_0b18_11ea_a184_80000208fe80row2_col2\" class=\"data row2 col2\" >BatchNorm2d(1, eps=1e-05, momentum=0.1, affine=True, track_running_stats=True)</td>\n",
       "                        <td id=\"T_9b807154_0b18_11ea_a184_80000208fe80row2_col3\" class=\"data row2 col3\" >Conv2d(1, 64, kernel_size=(3, 3), stride=(1, 1), padding=(1, 1))</td>\n",
       "                        <td id=\"T_9b807154_0b18_11ea_a184_80000208fe80row2_col4\" class=\"data row2 col4\" >MaxPool2d(kernel_size=2, stride=2, padding=0, dilation=1, ceil_mode=False)</td>\n",
       "                        <td id=\"T_9b807154_0b18_11ea_a184_80000208fe80row2_col5\" class=\"data row2 col5\" >ReLU()</td>\n",
       "                        <td id=\"T_9b807154_0b18_11ea_a184_80000208fe80row2_col6\" class=\"data row2 col6\" >BatchNorm2d(64, eps=1e-05, momentum=0.1, affine=True, track_running_stats=True)</td>\n",
       "                        <td id=\"T_9b807154_0b18_11ea_a184_80000208fe80row2_col7\" class=\"data row2 col7\" >Conv2d(64, 64, kernel_size=(3, 3), stride=(1, 1), padding=(1, 1))</td>\n",
       "                        <td id=\"T_9b807154_0b18_11ea_a184_80000208fe80row2_col8\" class=\"data row2 col8\" >MaxPool2d(kernel_size=2, stride=2, padding=0, dilation=1, ceil_mode=False)</td>\n",
       "                        <td id=\"T_9b807154_0b18_11ea_a184_80000208fe80row2_col9\" class=\"data row2 col9\" >ReLU()</td>\n",
       "                        <td id=\"T_9b807154_0b18_11ea_a184_80000208fe80row2_col10\" class=\"data row2 col10\" >BatchNorm2d(64, eps=1e-05, momentum=0.1, affine=True, track_running_stats=True)</td>\n",
       "                        <td id=\"T_9b807154_0b18_11ea_a184_80000208fe80row2_col11\" class=\"data row2 col11\" >Conv2d(64, 64, kernel_size=(3, 3), stride=(1, 1), padding=(1, 1))</td>\n",
       "                        <td id=\"T_9b807154_0b18_11ea_a184_80000208fe80row2_col12\" class=\"data row2 col12\" >MaxPool2d(kernel_size=2, stride=2, padding=0, dilation=1, ceil_mode=False)</td>\n",
       "                        <td id=\"T_9b807154_0b18_11ea_a184_80000208fe80row2_col13\" class=\"data row2 col13\" >GlobalAvgPool2d()</td>\n",
       "                        <td id=\"T_9b807154_0b18_11ea_a184_80000208fe80row2_col14\" class=\"data row2 col14\" >Dropout2d(p=0.25)</td>\n",
       "                        <td id=\"T_9b807154_0b18_11ea_a184_80000208fe80row2_col15\" class=\"data row2 col15\" >Linear(in_features=64, out_features=64, bias=True)</td>\n",
       "                        <td id=\"T_9b807154_0b18_11ea_a184_80000208fe80row2_col16\" class=\"data row2 col16\" >ReLU()</td>\n",
       "                        <td id=\"T_9b807154_0b18_11ea_a184_80000208fe80row2_col17\" class=\"data row2 col17\" >Linear(in_features=64, out_features=10, bias=True)</td>\n",
       "                        <td id=\"T_9b807154_0b18_11ea_a184_80000208fe80row2_col18\" class=\"data row2 col18\" >nan</td>\n",
       "                        <td id=\"T_9b807154_0b18_11ea_a184_80000208fe80row2_col19\" class=\"data row2 col19\" >nan</td>\n",
       "                        <td id=\"T_9b807154_0b18_11ea_a184_80000208fe80row2_col20\" class=\"data row2 col20\" >nan</td>\n",
       "                        <td id=\"T_9b807154_0b18_11ea_a184_80000208fe80row2_col21\" class=\"data row2 col21\" >nan</td>\n",
       "                        <td id=\"T_9b807154_0b18_11ea_a184_80000208fe80row2_col22\" class=\"data row2 col22\" >nan</td>\n",
       "                        <td id=\"T_9b807154_0b18_11ea_a184_80000208fe80row2_col23\" class=\"data row2 col23\" >nan</td>\n",
       "                        <td id=\"T_9b807154_0b18_11ea_a184_80000208fe80row2_col24\" class=\"data row2 col24\" >nan</td>\n",
       "                        <td id=\"T_9b807154_0b18_11ea_a184_80000208fe80row2_col25\" class=\"data row2 col25\" >nan</td>\n",
       "                        <td id=\"T_9b807154_0b18_11ea_a184_80000208fe80row2_col26\" class=\"data row2 col26\" >nan</td>\n",
       "                        <td id=\"T_9b807154_0b18_11ea_a184_80000208fe80row2_col27\" class=\"data row2 col27\" >nan</td>\n",
       "                        <td id=\"T_9b807154_0b18_11ea_a184_80000208fe80row2_col28\" class=\"data row2 col28\" >nan</td>\n",
       "                        <td id=\"T_9b807154_0b18_11ea_a184_80000208fe80row2_col29\" class=\"data row2 col29\" >nan</td>\n",
       "                        <td id=\"T_9b807154_0b18_11ea_a184_80000208fe80row2_col30\" class=\"data row2 col30\" >nan</td>\n",
       "                        <td id=\"T_9b807154_0b18_11ea_a184_80000208fe80row2_col31\" class=\"data row2 col31\" >nan</td>\n",
       "                        <td id=\"T_9b807154_0b18_11ea_a184_80000208fe80row2_col32\" class=\"data row2 col32\" >nan</td>\n",
       "                        <td id=\"T_9b807154_0b18_11ea_a184_80000208fe80row2_col33\" class=\"data row2 col33\" >nan</td>\n",
       "                        <td id=\"T_9b807154_0b18_11ea_a184_80000208fe80row2_col34\" class=\"data row2 col34\" >nan</td>\n",
       "                        <td id=\"T_9b807154_0b18_11ea_a184_80000208fe80row2_col35\" class=\"data row2 col35\" >nan</td>\n",
       "                        <td id=\"T_9b807154_0b18_11ea_a184_80000208fe80row2_col36\" class=\"data row2 col36\" >nan</td>\n",
       "                        <td id=\"T_9b807154_0b18_11ea_a184_80000208fe80row2_col37\" class=\"data row2 col37\" >nan</td>\n",
       "                        <td id=\"T_9b807154_0b18_11ea_a184_80000208fe80row2_col38\" class=\"data row2 col38\" >nan</td>\n",
       "                        <td id=\"T_9b807154_0b18_11ea_a184_80000208fe80row2_col39\" class=\"data row2 col39\" >nan</td>\n",
       "                        <td id=\"T_9b807154_0b18_11ea_a184_80000208fe80row2_col40\" class=\"data row2 col40\" >nan</td>\n",
       "                        <td id=\"T_9b807154_0b18_11ea_a184_80000208fe80row2_col41\" class=\"data row2 col41\" >nan</td>\n",
       "                        <td id=\"T_9b807154_0b18_11ea_a184_80000208fe80row2_col42\" class=\"data row2 col42\" >nan</td>\n",
       "                        <td id=\"T_9b807154_0b18_11ea_a184_80000208fe80row2_col43\" class=\"data row2 col43\" >nan</td>\n",
       "                        <td id=\"T_9b807154_0b18_11ea_a184_80000208fe80row2_col44\" class=\"data row2 col44\" >nan</td>\n",
       "                        <td id=\"T_9b807154_0b18_11ea_a184_80000208fe80row2_col45\" class=\"data row2 col45\" >nan</td>\n",
       "                        <td id=\"T_9b807154_0b18_11ea_a184_80000208fe80row2_col46\" class=\"data row2 col46\" >nan</td>\n",
       "                        <td id=\"T_9b807154_0b18_11ea_a184_80000208fe80row2_col47\" class=\"data row2 col47\" >nan</td>\n",
       "                        <td id=\"T_9b807154_0b18_11ea_a184_80000208fe80row2_col48\" class=\"data row2 col48\" >nan</td>\n",
       "                        <td id=\"T_9b807154_0b18_11ea_a184_80000208fe80row2_col49\" class=\"data row2 col49\" >nan</td>\n",
       "                        <td id=\"T_9b807154_0b18_11ea_a184_80000208fe80row2_col50\" class=\"data row2 col50\" >nan</td>\n",
       "                        <td id=\"T_9b807154_0b18_11ea_a184_80000208fe80row2_col51\" class=\"data row2 col51\" >nan</td>\n",
       "                        <td id=\"T_9b807154_0b18_11ea_a184_80000208fe80row2_col52\" class=\"data row2 col52\" >nan</td>\n",
       "                        <td id=\"T_9b807154_0b18_11ea_a184_80000208fe80row2_col53\" class=\"data row2 col53\" >nan</td>\n",
       "                        <td id=\"T_9b807154_0b18_11ea_a184_80000208fe80row2_col54\" class=\"data row2 col54\" >nan</td>\n",
       "                        <td id=\"T_9b807154_0b18_11ea_a184_80000208fe80row2_col55\" class=\"data row2 col55\" >nan</td>\n",
       "                        <td id=\"T_9b807154_0b18_11ea_a184_80000208fe80row2_col56\" class=\"data row2 col56\" >nan</td>\n",
       "                        <td id=\"T_9b807154_0b18_11ea_a184_80000208fe80row2_col57\" class=\"data row2 col57\" >nan</td>\n",
       "                        <td id=\"T_9b807154_0b18_11ea_a184_80000208fe80row2_col58\" class=\"data row2 col58\" >nan</td>\n",
       "                        <td id=\"T_9b807154_0b18_11ea_a184_80000208fe80row2_col59\" class=\"data row2 col59\" >nan</td>\n",
       "                        <td id=\"T_9b807154_0b18_11ea_a184_80000208fe80row2_col60\" class=\"data row2 col60\" >nan</td>\n",
       "                        <td id=\"T_9b807154_0b18_11ea_a184_80000208fe80row2_col61\" class=\"data row2 col61\" >nan</td>\n",
       "                        <td id=\"T_9b807154_0b18_11ea_a184_80000208fe80row2_col62\" class=\"data row2 col62\" >nan</td>\n",
       "                        <td id=\"T_9b807154_0b18_11ea_a184_80000208fe80row2_col63\" class=\"data row2 col63\" >nan</td>\n",
       "                        <td id=\"T_9b807154_0b18_11ea_a184_80000208fe80row2_col64\" class=\"data row2 col64\" >nan</td>\n",
       "                        <td id=\"T_9b807154_0b18_11ea_a184_80000208fe80row2_col65\" class=\"data row2 col65\" >nan</td>\n",
       "                        <td id=\"T_9b807154_0b18_11ea_a184_80000208fe80row2_col66\" class=\"data row2 col66\" >nan</td>\n",
       "                        <td id=\"T_9b807154_0b18_11ea_a184_80000208fe80row2_col67\" class=\"data row2 col67\" >nan</td>\n",
       "                        <td id=\"T_9b807154_0b18_11ea_a184_80000208fe80row2_col68\" class=\"data row2 col68\" >nan</td>\n",
       "                        <td id=\"T_9b807154_0b18_11ea_a184_80000208fe80row2_col69\" class=\"data row2 col69\" >nan</td>\n",
       "                        <td id=\"T_9b807154_0b18_11ea_a184_80000208fe80row2_col70\" class=\"data row2 col70\" >nan</td>\n",
       "                        <td id=\"T_9b807154_0b18_11ea_a184_80000208fe80row2_col71\" class=\"data row2 col71\" >nan</td>\n",
       "                        <td id=\"T_9b807154_0b18_11ea_a184_80000208fe80row2_col72\" class=\"data row2 col72\" >nan</td>\n",
       "                        <td id=\"T_9b807154_0b18_11ea_a184_80000208fe80row2_col73\" class=\"data row2 col73\" >nan</td>\n",
       "                        <td id=\"T_9b807154_0b18_11ea_a184_80000208fe80row2_col74\" class=\"data row2 col74\" >nan</td>\n",
       "                        <td id=\"T_9b807154_0b18_11ea_a184_80000208fe80row2_col75\" class=\"data row2 col75\" >nan</td>\n",
       "                        <td id=\"T_9b807154_0b18_11ea_a184_80000208fe80row2_col76\" class=\"data row2 col76\" >nan</td>\n",
       "            </tr>\n",
       "            <tr>\n",
       "                                <td id=\"T_9b807154_0b18_11ea_a184_80000208fe80row3_col0\" class=\"data row3 col0\" >9.6</td>\n",
       "                        <td id=\"T_9b807154_0b18_11ea_a184_80000208fe80row3_col1\" class=\"data row3 col1\" >Conv2d(1, 64, kernel_size=(3, 3), stride=(1, 1), padding=(1, 1))</td>\n",
       "                        <td id=\"T_9b807154_0b18_11ea_a184_80000208fe80row3_col2\" class=\"data row3 col2\" >BatchNorm2d(64, eps=1e-05, momentum=0.1, affine=True, track_running_stats=True)</td>\n",
       "                        <td id=\"T_9b807154_0b18_11ea_a184_80000208fe80row3_col3\" class=\"data row3 col3\" >BatchNorm2d(64, eps=1e-05, momentum=0.1, affine=True, track_running_stats=True)</td>\n",
       "                        <td id=\"T_9b807154_0b18_11ea_a184_80000208fe80row3_col4\" class=\"data row3 col4\" >ReLU()</td>\n",
       "                        <td id=\"T_9b807154_0b18_11ea_a184_80000208fe80row3_col5\" class=\"data row3 col5\" >Conv2d(64, 64, kernel_size=(3, 3), stride=(1, 1), padding=(1, 1))</td>\n",
       "                        <td id=\"T_9b807154_0b18_11ea_a184_80000208fe80row3_col6\" class=\"data row3 col6\" >BatchNorm2d(64, eps=1e-05, momentum=0.1, affine=True, track_running_stats=True)</td>\n",
       "                        <td id=\"T_9b807154_0b18_11ea_a184_80000208fe80row3_col7\" class=\"data row3 col7\" >ReLU()</td>\n",
       "                        <td id=\"T_9b807154_0b18_11ea_a184_80000208fe80row3_col8\" class=\"data row3 col8\" >Conv2d(64, 64, kernel_size=(3, 3), stride=(1, 1), padding=(1, 1))</td>\n",
       "                        <td id=\"T_9b807154_0b18_11ea_a184_80000208fe80row3_col9\" class=\"data row3 col9\" >ReLU()</td>\n",
       "                        <td id=\"T_9b807154_0b18_11ea_a184_80000208fe80row3_col10\" class=\"data row3 col10\" >Conv2d(64, 64, kernel_size=(1, 1), stride=(1, 1))</td>\n",
       "                        <td id=\"T_9b807154_0b18_11ea_a184_80000208fe80row3_col11\" class=\"data row3 col11\" >TorchAdd()</td>\n",
       "                        <td id=\"T_9b807154_0b18_11ea_a184_80000208fe80row3_col12\" class=\"data row3 col12\" >BatchNorm2d(64, eps=1e-05, momentum=0.1, affine=True, track_running_stats=True)</td>\n",
       "                        <td id=\"T_9b807154_0b18_11ea_a184_80000208fe80row3_col13\" class=\"data row3 col13\" >ReLU()</td>\n",
       "                        <td id=\"T_9b807154_0b18_11ea_a184_80000208fe80row3_col14\" class=\"data row3 col14\" >Conv2d(64, 64, kernel_size=(3, 3), stride=(1, 1), padding=(1, 1))</td>\n",
       "                        <td id=\"T_9b807154_0b18_11ea_a184_80000208fe80row3_col15\" class=\"data row3 col15\" >BatchNorm2d(64, eps=1e-05, momentum=0.1, affine=True, track_running_stats=True)</td>\n",
       "                        <td id=\"T_9b807154_0b18_11ea_a184_80000208fe80row3_col16\" class=\"data row3 col16\" >ReLU()</td>\n",
       "                        <td id=\"T_9b807154_0b18_11ea_a184_80000208fe80row3_col17\" class=\"data row3 col17\" >Conv2d(64, 64, kernel_size=(3, 3), stride=(1, 1), padding=(1, 1))</td>\n",
       "                        <td id=\"T_9b807154_0b18_11ea_a184_80000208fe80row3_col18\" class=\"data row3 col18\" >ReLU()</td>\n",
       "                        <td id=\"T_9b807154_0b18_11ea_a184_80000208fe80row3_col19\" class=\"data row3 col19\" >Conv2d(64, 64, kernel_size=(1, 1), stride=(1, 1))</td>\n",
       "                        <td id=\"T_9b807154_0b18_11ea_a184_80000208fe80row3_col20\" class=\"data row3 col20\" >TorchAdd()</td>\n",
       "                        <td id=\"T_9b807154_0b18_11ea_a184_80000208fe80row3_col21\" class=\"data row3 col21\" >BatchNorm2d(64, eps=1e-05, momentum=0.1, affine=True, track_running_stats=True)</td>\n",
       "                        <td id=\"T_9b807154_0b18_11ea_a184_80000208fe80row3_col22\" class=\"data row3 col22\" >ReLU()</td>\n",
       "                        <td id=\"T_9b807154_0b18_11ea_a184_80000208fe80row3_col23\" class=\"data row3 col23\" >Conv2d(64, 128, kernel_size=(3, 3), stride=(2, 2), padding=(1, 1))</td>\n",
       "                        <td id=\"T_9b807154_0b18_11ea_a184_80000208fe80row3_col24\" class=\"data row3 col24\" >BatchNorm2d(128, eps=1e-05, momentum=0.1, affine=True, track_running_stats=True)</td>\n",
       "                        <td id=\"T_9b807154_0b18_11ea_a184_80000208fe80row3_col25\" class=\"data row3 col25\" >ReLU()</td>\n",
       "                        <td id=\"T_9b807154_0b18_11ea_a184_80000208fe80row3_col26\" class=\"data row3 col26\" >Conv2d(128, 128, kernel_size=(3, 3), stride=(1, 1), padding=(1, 1))</td>\n",
       "                        <td id=\"T_9b807154_0b18_11ea_a184_80000208fe80row3_col27\" class=\"data row3 col27\" >ReLU()</td>\n",
       "                        <td id=\"T_9b807154_0b18_11ea_a184_80000208fe80row3_col28\" class=\"data row3 col28\" >Conv2d(64, 128, kernel_size=(1, 1), stride=(2, 2))</td>\n",
       "                        <td id=\"T_9b807154_0b18_11ea_a184_80000208fe80row3_col29\" class=\"data row3 col29\" >TorchAdd()</td>\n",
       "                        <td id=\"T_9b807154_0b18_11ea_a184_80000208fe80row3_col30\" class=\"data row3 col30\" >BatchNorm2d(128, eps=1e-05, momentum=0.1, affine=True, track_running_stats=True)</td>\n",
       "                        <td id=\"T_9b807154_0b18_11ea_a184_80000208fe80row3_col31\" class=\"data row3 col31\" >ReLU()</td>\n",
       "                        <td id=\"T_9b807154_0b18_11ea_a184_80000208fe80row3_col32\" class=\"data row3 col32\" >Conv2d(128, 128, kernel_size=(3, 3), stride=(1, 1), padding=(1, 1))</td>\n",
       "                        <td id=\"T_9b807154_0b18_11ea_a184_80000208fe80row3_col33\" class=\"data row3 col33\" >BatchNorm2d(128, eps=1e-05, momentum=0.1, affine=True, track_running_stats=True)</td>\n",
       "                        <td id=\"T_9b807154_0b18_11ea_a184_80000208fe80row3_col34\" class=\"data row3 col34\" >ReLU()</td>\n",
       "                        <td id=\"T_9b807154_0b18_11ea_a184_80000208fe80row3_col35\" class=\"data row3 col35\" >Conv2d(128, 128, kernel_size=(3, 3), stride=(1, 1), padding=(1, 1))</td>\n",
       "                        <td id=\"T_9b807154_0b18_11ea_a184_80000208fe80row3_col36\" class=\"data row3 col36\" >ReLU()</td>\n",
       "                        <td id=\"T_9b807154_0b18_11ea_a184_80000208fe80row3_col37\" class=\"data row3 col37\" >Conv2d(128, 128, kernel_size=(1, 1), stride=(1, 1))</td>\n",
       "                        <td id=\"T_9b807154_0b18_11ea_a184_80000208fe80row3_col38\" class=\"data row3 col38\" >TorchAdd()</td>\n",
       "                        <td id=\"T_9b807154_0b18_11ea_a184_80000208fe80row3_col39\" class=\"data row3 col39\" >BatchNorm2d(128, eps=1e-05, momentum=0.1, affine=True, track_running_stats=True)</td>\n",
       "                        <td id=\"T_9b807154_0b18_11ea_a184_80000208fe80row3_col40\" class=\"data row3 col40\" >ReLU()</td>\n",
       "                        <td id=\"T_9b807154_0b18_11ea_a184_80000208fe80row3_col41\" class=\"data row3 col41\" >Conv2d(128, 256, kernel_size=(3, 3), stride=(2, 2), padding=(1, 1))</td>\n",
       "                        <td id=\"T_9b807154_0b18_11ea_a184_80000208fe80row3_col42\" class=\"data row3 col42\" >BatchNorm2d(256, eps=1e-05, momentum=0.1, affine=True, track_running_stats=True)</td>\n",
       "                        <td id=\"T_9b807154_0b18_11ea_a184_80000208fe80row3_col43\" class=\"data row3 col43\" >ReLU()</td>\n",
       "                        <td id=\"T_9b807154_0b18_11ea_a184_80000208fe80row3_col44\" class=\"data row3 col44\" >Conv2d(256, 256, kernel_size=(3, 3), stride=(1, 1), padding=(1, 1))</td>\n",
       "                        <td id=\"T_9b807154_0b18_11ea_a184_80000208fe80row3_col45\" class=\"data row3 col45\" >ReLU()</td>\n",
       "                        <td id=\"T_9b807154_0b18_11ea_a184_80000208fe80row3_col46\" class=\"data row3 col46\" >Conv2d(128, 256, kernel_size=(1, 1), stride=(2, 2))</td>\n",
       "                        <td id=\"T_9b807154_0b18_11ea_a184_80000208fe80row3_col47\" class=\"data row3 col47\" >TorchAdd()</td>\n",
       "                        <td id=\"T_9b807154_0b18_11ea_a184_80000208fe80row3_col48\" class=\"data row3 col48\" >BatchNorm2d(256, eps=1e-05, momentum=0.1, affine=True, track_running_stats=True)</td>\n",
       "                        <td id=\"T_9b807154_0b18_11ea_a184_80000208fe80row3_col49\" class=\"data row3 col49\" >ReLU()</td>\n",
       "                        <td id=\"T_9b807154_0b18_11ea_a184_80000208fe80row3_col50\" class=\"data row3 col50\" >Conv2d(256, 256, kernel_size=(3, 3), stride=(1, 1), padding=(1, 1))</td>\n",
       "                        <td id=\"T_9b807154_0b18_11ea_a184_80000208fe80row3_col51\" class=\"data row3 col51\" >BatchNorm2d(256, eps=1e-05, momentum=0.1, affine=True, track_running_stats=True)</td>\n",
       "                        <td id=\"T_9b807154_0b18_11ea_a184_80000208fe80row3_col52\" class=\"data row3 col52\" >ReLU()</td>\n",
       "                        <td id=\"T_9b807154_0b18_11ea_a184_80000208fe80row3_col53\" class=\"data row3 col53\" >Conv2d(256, 256, kernel_size=(3, 3), stride=(1, 1), padding=(1, 1))</td>\n",
       "                        <td id=\"T_9b807154_0b18_11ea_a184_80000208fe80row3_col54\" class=\"data row3 col54\" >ReLU()</td>\n",
       "                        <td id=\"T_9b807154_0b18_11ea_a184_80000208fe80row3_col55\" class=\"data row3 col55\" >Conv2d(256, 256, kernel_size=(1, 1), stride=(1, 1))</td>\n",
       "                        <td id=\"T_9b807154_0b18_11ea_a184_80000208fe80row3_col56\" class=\"data row3 col56\" >TorchAdd()</td>\n",
       "                        <td id=\"T_9b807154_0b18_11ea_a184_80000208fe80row3_col57\" class=\"data row3 col57\" >BatchNorm2d(256, eps=1e-05, momentum=0.1, affine=True, track_running_stats=True)</td>\n",
       "                        <td id=\"T_9b807154_0b18_11ea_a184_80000208fe80row3_col58\" class=\"data row3 col58\" >ReLU()</td>\n",
       "                        <td id=\"T_9b807154_0b18_11ea_a184_80000208fe80row3_col59\" class=\"data row3 col59\" >Conv2d(256, 512, kernel_size=(3, 3), stride=(2, 2), padding=(1, 1))</td>\n",
       "                        <td id=\"T_9b807154_0b18_11ea_a184_80000208fe80row3_col60\" class=\"data row3 col60\" >BatchNorm2d(512, eps=1e-05, momentum=0.1, affine=True, track_running_stats=True)</td>\n",
       "                        <td id=\"T_9b807154_0b18_11ea_a184_80000208fe80row3_col61\" class=\"data row3 col61\" >ReLU()</td>\n",
       "                        <td id=\"T_9b807154_0b18_11ea_a184_80000208fe80row3_col62\" class=\"data row3 col62\" >Conv2d(512, 512, kernel_size=(3, 3), stride=(1, 1), padding=(1, 1))</td>\n",
       "                        <td id=\"T_9b807154_0b18_11ea_a184_80000208fe80row3_col63\" class=\"data row3 col63\" >ReLU()</td>\n",
       "                        <td id=\"T_9b807154_0b18_11ea_a184_80000208fe80row3_col64\" class=\"data row3 col64\" >Conv2d(256, 512, kernel_size=(1, 1), stride=(2, 2))</td>\n",
       "                        <td id=\"T_9b807154_0b18_11ea_a184_80000208fe80row3_col65\" class=\"data row3 col65\" >TorchAdd()</td>\n",
       "                        <td id=\"T_9b807154_0b18_11ea_a184_80000208fe80row3_col66\" class=\"data row3 col66\" >BatchNorm2d(512, eps=1e-05, momentum=0.1, affine=True, track_running_stats=True)</td>\n",
       "                        <td id=\"T_9b807154_0b18_11ea_a184_80000208fe80row3_col67\" class=\"data row3 col67\" >ReLU()</td>\n",
       "                        <td id=\"T_9b807154_0b18_11ea_a184_80000208fe80row3_col68\" class=\"data row3 col68\" >Conv2d(512, 512, kernel_size=(3, 3), stride=(1, 1), padding=(1, 1))</td>\n",
       "                        <td id=\"T_9b807154_0b18_11ea_a184_80000208fe80row3_col69\" class=\"data row3 col69\" >BatchNorm2d(512, eps=1e-05, momentum=0.1, affine=True, track_running_stats=True)</td>\n",
       "                        <td id=\"T_9b807154_0b18_11ea_a184_80000208fe80row3_col70\" class=\"data row3 col70\" >ReLU()</td>\n",
       "                        <td id=\"T_9b807154_0b18_11ea_a184_80000208fe80row3_col71\" class=\"data row3 col71\" >Conv2d(512, 512, kernel_size=(3, 3), stride=(1, 1), padding=(1, 1))</td>\n",
       "                        <td id=\"T_9b807154_0b18_11ea_a184_80000208fe80row3_col72\" class=\"data row3 col72\" >ReLU()</td>\n",
       "                        <td id=\"T_9b807154_0b18_11ea_a184_80000208fe80row3_col73\" class=\"data row3 col73\" >Conv2d(512, 512, kernel_size=(1, 1), stride=(1, 1))</td>\n",
       "                        <td id=\"T_9b807154_0b18_11ea_a184_80000208fe80row3_col74\" class=\"data row3 col74\" >TorchAdd()</td>\n",
       "                        <td id=\"T_9b807154_0b18_11ea_a184_80000208fe80row3_col75\" class=\"data row3 col75\" >GlobalAvgPool2d()</td>\n",
       "                        <td id=\"T_9b807154_0b18_11ea_a184_80000208fe80row3_col76\" class=\"data row3 col76\" >Linear(in_features=512, out_features=10, bias=True)</td>\n",
       "            </tr>\n",
       "            <tr>\n",
       "                                <td id=\"T_9b807154_0b18_11ea_a184_80000208fe80row4_col0\" class=\"data row4 col0\" >12.8</td>\n",
       "                        <td id=\"T_9b807154_0b18_11ea_a184_80000208fe80row4_col1\" class=\"data row4 col1\" >Conv2d(1, 64, kernel_size=(3, 3), stride=(1, 1), padding=(1, 1))</td>\n",
       "                        <td id=\"T_9b807154_0b18_11ea_a184_80000208fe80row4_col2\" class=\"data row4 col2\" >BatchNorm2d(64, eps=1e-05, momentum=0.1, affine=True, track_running_stats=True)</td>\n",
       "                        <td id=\"T_9b807154_0b18_11ea_a184_80000208fe80row4_col3\" class=\"data row4 col3\" >BatchNorm2d(64, eps=1e-05, momentum=0.1, affine=True, track_running_stats=True)</td>\n",
       "                        <td id=\"T_9b807154_0b18_11ea_a184_80000208fe80row4_col4\" class=\"data row4 col4\" >ReLU()</td>\n",
       "                        <td id=\"T_9b807154_0b18_11ea_a184_80000208fe80row4_col5\" class=\"data row4 col5\" >Conv2d(64, 64, kernel_size=(3, 3), stride=(1, 1), padding=(1, 1))</td>\n",
       "                        <td id=\"T_9b807154_0b18_11ea_a184_80000208fe80row4_col6\" class=\"data row4 col6\" >BatchNorm2d(64, eps=1e-05, momentum=0.1, affine=True, track_running_stats=True)</td>\n",
       "                        <td id=\"T_9b807154_0b18_11ea_a184_80000208fe80row4_col7\" class=\"data row4 col7\" >ReLU()</td>\n",
       "                        <td id=\"T_9b807154_0b18_11ea_a184_80000208fe80row4_col8\" class=\"data row4 col8\" >Conv2d(64, 64, kernel_size=(3, 3), stride=(1, 1), padding=(1, 1))</td>\n",
       "                        <td id=\"T_9b807154_0b18_11ea_a184_80000208fe80row4_col9\" class=\"data row4 col9\" >ReLU()</td>\n",
       "                        <td id=\"T_9b807154_0b18_11ea_a184_80000208fe80row4_col10\" class=\"data row4 col10\" >Conv2d(64, 64, kernel_size=(1, 1), stride=(1, 1))</td>\n",
       "                        <td id=\"T_9b807154_0b18_11ea_a184_80000208fe80row4_col11\" class=\"data row4 col11\" >TorchAdd()</td>\n",
       "                        <td id=\"T_9b807154_0b18_11ea_a184_80000208fe80row4_col12\" class=\"data row4 col12\" >BatchNorm2d(64, eps=1e-05, momentum=0.1, affine=True, track_running_stats=True)</td>\n",
       "                        <td id=\"T_9b807154_0b18_11ea_a184_80000208fe80row4_col13\" class=\"data row4 col13\" >ReLU()</td>\n",
       "                        <td id=\"T_9b807154_0b18_11ea_a184_80000208fe80row4_col14\" class=\"data row4 col14\" >Conv2d(64, 64, kernel_size=(3, 3), stride=(1, 1), padding=(1, 1))</td>\n",
       "                        <td id=\"T_9b807154_0b18_11ea_a184_80000208fe80row4_col15\" class=\"data row4 col15\" >BatchNorm2d(64, eps=1e-05, momentum=0.1, affine=True, track_running_stats=True)</td>\n",
       "                        <td id=\"T_9b807154_0b18_11ea_a184_80000208fe80row4_col16\" class=\"data row4 col16\" >ReLU()</td>\n",
       "                        <td id=\"T_9b807154_0b18_11ea_a184_80000208fe80row4_col17\" class=\"data row4 col17\" >Conv2d(64, 64, kernel_size=(3, 3), stride=(1, 1), padding=(1, 1))</td>\n",
       "                        <td id=\"T_9b807154_0b18_11ea_a184_80000208fe80row4_col18\" class=\"data row4 col18\" >ReLU()</td>\n",
       "                        <td id=\"T_9b807154_0b18_11ea_a184_80000208fe80row4_col19\" class=\"data row4 col19\" >Conv2d(64, 64, kernel_size=(1, 1), stride=(1, 1))</td>\n",
       "                        <td id=\"T_9b807154_0b18_11ea_a184_80000208fe80row4_col20\" class=\"data row4 col20\" >TorchAdd()</td>\n",
       "                        <td id=\"T_9b807154_0b18_11ea_a184_80000208fe80row4_col21\" class=\"data row4 col21\" >BatchNorm2d(64, eps=1e-05, momentum=0.1, affine=True, track_running_stats=True)</td>\n",
       "                        <td id=\"T_9b807154_0b18_11ea_a184_80000208fe80row4_col22\" class=\"data row4 col22\" >ReLU()</td>\n",
       "                        <td id=\"T_9b807154_0b18_11ea_a184_80000208fe80row4_col23\" class=\"data row4 col23\" >Conv2d(64, 128, kernel_size=(3, 3), stride=(2, 2), padding=(1, 1))</td>\n",
       "                        <td id=\"T_9b807154_0b18_11ea_a184_80000208fe80row4_col24\" class=\"data row4 col24\" >BatchNorm2d(128, eps=1e-05, momentum=0.1, affine=True, track_running_stats=True)</td>\n",
       "                        <td id=\"T_9b807154_0b18_11ea_a184_80000208fe80row4_col25\" class=\"data row4 col25\" >ReLU()</td>\n",
       "                        <td id=\"T_9b807154_0b18_11ea_a184_80000208fe80row4_col26\" class=\"data row4 col26\" >Conv2d(128, 128, kernel_size=(3, 3), stride=(1, 1), padding=(1, 1))</td>\n",
       "                        <td id=\"T_9b807154_0b18_11ea_a184_80000208fe80row4_col27\" class=\"data row4 col27\" >ReLU()</td>\n",
       "                        <td id=\"T_9b807154_0b18_11ea_a184_80000208fe80row4_col28\" class=\"data row4 col28\" >Conv2d(64, 128, kernel_size=(1, 1), stride=(2, 2))</td>\n",
       "                        <td id=\"T_9b807154_0b18_11ea_a184_80000208fe80row4_col29\" class=\"data row4 col29\" >TorchAdd()</td>\n",
       "                        <td id=\"T_9b807154_0b18_11ea_a184_80000208fe80row4_col30\" class=\"data row4 col30\" >BatchNorm2d(128, eps=1e-05, momentum=0.1, affine=True, track_running_stats=True)</td>\n",
       "                        <td id=\"T_9b807154_0b18_11ea_a184_80000208fe80row4_col31\" class=\"data row4 col31\" >ReLU()</td>\n",
       "                        <td id=\"T_9b807154_0b18_11ea_a184_80000208fe80row4_col32\" class=\"data row4 col32\" >Conv2d(128, 128, kernel_size=(3, 3), stride=(1, 1), padding=(1, 1))</td>\n",
       "                        <td id=\"T_9b807154_0b18_11ea_a184_80000208fe80row4_col33\" class=\"data row4 col33\" >BatchNorm2d(128, eps=1e-05, momentum=0.1, affine=True, track_running_stats=True)</td>\n",
       "                        <td id=\"T_9b807154_0b18_11ea_a184_80000208fe80row4_col34\" class=\"data row4 col34\" >ReLU()</td>\n",
       "                        <td id=\"T_9b807154_0b18_11ea_a184_80000208fe80row4_col35\" class=\"data row4 col35\" >Conv2d(128, 128, kernel_size=(3, 3), stride=(1, 1), padding=(1, 1))</td>\n",
       "                        <td id=\"T_9b807154_0b18_11ea_a184_80000208fe80row4_col36\" class=\"data row4 col36\" >ReLU()</td>\n",
       "                        <td id=\"T_9b807154_0b18_11ea_a184_80000208fe80row4_col37\" class=\"data row4 col37\" >Conv2d(128, 128, kernel_size=(1, 1), stride=(1, 1))</td>\n",
       "                        <td id=\"T_9b807154_0b18_11ea_a184_80000208fe80row4_col38\" class=\"data row4 col38\" >TorchAdd()</td>\n",
       "                        <td id=\"T_9b807154_0b18_11ea_a184_80000208fe80row4_col39\" class=\"data row4 col39\" >BatchNorm2d(128, eps=1e-05, momentum=0.1, affine=True, track_running_stats=True)</td>\n",
       "                        <td id=\"T_9b807154_0b18_11ea_a184_80000208fe80row4_col40\" class=\"data row4 col40\" >ReLU()</td>\n",
       "                        <td id=\"T_9b807154_0b18_11ea_a184_80000208fe80row4_col41\" class=\"data row4 col41\" >Conv2d(128, 256, kernel_size=(3, 3), stride=(2, 2), padding=(1, 1))</td>\n",
       "                        <td id=\"T_9b807154_0b18_11ea_a184_80000208fe80row4_col42\" class=\"data row4 col42\" >BatchNorm2d(256, eps=1e-05, momentum=0.1, affine=True, track_running_stats=True)</td>\n",
       "                        <td id=\"T_9b807154_0b18_11ea_a184_80000208fe80row4_col43\" class=\"data row4 col43\" >ReLU()</td>\n",
       "                        <td id=\"T_9b807154_0b18_11ea_a184_80000208fe80row4_col44\" class=\"data row4 col44\" >Conv2d(256, 256, kernel_size=(3, 3), stride=(1, 1), padding=(1, 1))</td>\n",
       "                        <td id=\"T_9b807154_0b18_11ea_a184_80000208fe80row4_col45\" class=\"data row4 col45\" >ReLU()</td>\n",
       "                        <td id=\"T_9b807154_0b18_11ea_a184_80000208fe80row4_col46\" class=\"data row4 col46\" >Conv2d(128, 256, kernel_size=(1, 1), stride=(2, 2))</td>\n",
       "                        <td id=\"T_9b807154_0b18_11ea_a184_80000208fe80row4_col47\" class=\"data row4 col47\" >TorchAdd()</td>\n",
       "                        <td id=\"T_9b807154_0b18_11ea_a184_80000208fe80row4_col48\" class=\"data row4 col48\" >BatchNorm2d(256, eps=1e-05, momentum=0.1, affine=True, track_running_stats=True)</td>\n",
       "                        <td id=\"T_9b807154_0b18_11ea_a184_80000208fe80row4_col49\" class=\"data row4 col49\" >ReLU()</td>\n",
       "                        <td id=\"T_9b807154_0b18_11ea_a184_80000208fe80row4_col50\" class=\"data row4 col50\" >Conv2d(256, 256, kernel_size=(3, 3), stride=(1, 1), padding=(1, 1))</td>\n",
       "                        <td id=\"T_9b807154_0b18_11ea_a184_80000208fe80row4_col51\" class=\"data row4 col51\" >BatchNorm2d(256, eps=1e-05, momentum=0.1, affine=True, track_running_stats=True)</td>\n",
       "                        <td id=\"T_9b807154_0b18_11ea_a184_80000208fe80row4_col52\" class=\"data row4 col52\" >ReLU()</td>\n",
       "                        <td id=\"T_9b807154_0b18_11ea_a184_80000208fe80row4_col53\" class=\"data row4 col53\" >Conv2d(256, 256, kernel_size=(3, 3), stride=(1, 1), padding=(1, 1))</td>\n",
       "                        <td id=\"T_9b807154_0b18_11ea_a184_80000208fe80row4_col54\" class=\"data row4 col54\" >ReLU()</td>\n",
       "                        <td id=\"T_9b807154_0b18_11ea_a184_80000208fe80row4_col55\" class=\"data row4 col55\" >Conv2d(256, 256, kernel_size=(1, 1), stride=(1, 1))</td>\n",
       "                        <td id=\"T_9b807154_0b18_11ea_a184_80000208fe80row4_col56\" class=\"data row4 col56\" >TorchAdd()</td>\n",
       "                        <td id=\"T_9b807154_0b18_11ea_a184_80000208fe80row4_col57\" class=\"data row4 col57\" >BatchNorm2d(256, eps=1e-05, momentum=0.1, affine=True, track_running_stats=True)</td>\n",
       "                        <td id=\"T_9b807154_0b18_11ea_a184_80000208fe80row4_col58\" class=\"data row4 col58\" >ReLU()</td>\n",
       "                        <td id=\"T_9b807154_0b18_11ea_a184_80000208fe80row4_col59\" class=\"data row4 col59\" >Conv2d(256, 512, kernel_size=(3, 3), stride=(2, 2), padding=(1, 1))</td>\n",
       "                        <td id=\"T_9b807154_0b18_11ea_a184_80000208fe80row4_col60\" class=\"data row4 col60\" >BatchNorm2d(512, eps=1e-05, momentum=0.1, affine=True, track_running_stats=True)</td>\n",
       "                        <td id=\"T_9b807154_0b18_11ea_a184_80000208fe80row4_col61\" class=\"data row4 col61\" >ReLU()</td>\n",
       "                        <td id=\"T_9b807154_0b18_11ea_a184_80000208fe80row4_col62\" class=\"data row4 col62\" >Conv2d(512, 512, kernel_size=(3, 3), stride=(1, 1), padding=(1, 1))</td>\n",
       "                        <td id=\"T_9b807154_0b18_11ea_a184_80000208fe80row4_col63\" class=\"data row4 col63\" >ReLU()</td>\n",
       "                        <td id=\"T_9b807154_0b18_11ea_a184_80000208fe80row4_col64\" class=\"data row4 col64\" >Conv2d(256, 512, kernel_size=(1, 1), stride=(2, 2))</td>\n",
       "                        <td id=\"T_9b807154_0b18_11ea_a184_80000208fe80row4_col65\" class=\"data row4 col65\" >TorchAdd()</td>\n",
       "                        <td id=\"T_9b807154_0b18_11ea_a184_80000208fe80row4_col66\" class=\"data row4 col66\" >BatchNorm2d(512, eps=1e-05, momentum=0.1, affine=True, track_running_stats=True)</td>\n",
       "                        <td id=\"T_9b807154_0b18_11ea_a184_80000208fe80row4_col67\" class=\"data row4 col67\" >ReLU()</td>\n",
       "                        <td id=\"T_9b807154_0b18_11ea_a184_80000208fe80row4_col68\" class=\"data row4 col68\" >Conv2d(512, 512, kernel_size=(3, 3), stride=(1, 1), padding=(1, 1))</td>\n",
       "                        <td id=\"T_9b807154_0b18_11ea_a184_80000208fe80row4_col69\" class=\"data row4 col69\" >BatchNorm2d(512, eps=1e-05, momentum=0.1, affine=True, track_running_stats=True)</td>\n",
       "                        <td id=\"T_9b807154_0b18_11ea_a184_80000208fe80row4_col70\" class=\"data row4 col70\" >ReLU()</td>\n",
       "                        <td id=\"T_9b807154_0b18_11ea_a184_80000208fe80row4_col71\" class=\"data row4 col71\" >Conv2d(512, 512, kernel_size=(3, 3), stride=(1, 1), padding=(1, 1))</td>\n",
       "                        <td id=\"T_9b807154_0b18_11ea_a184_80000208fe80row4_col72\" class=\"data row4 col72\" >ReLU()</td>\n",
       "                        <td id=\"T_9b807154_0b18_11ea_a184_80000208fe80row4_col73\" class=\"data row4 col73\" >Conv2d(512, 512, kernel_size=(1, 1), stride=(1, 1))</td>\n",
       "                        <td id=\"T_9b807154_0b18_11ea_a184_80000208fe80row4_col74\" class=\"data row4 col74\" >TorchAdd()</td>\n",
       "                        <td id=\"T_9b807154_0b18_11ea_a184_80000208fe80row4_col75\" class=\"data row4 col75\" >GlobalAvgPool2d()</td>\n",
       "                        <td id=\"T_9b807154_0b18_11ea_a184_80000208fe80row4_col76\" class=\"data row4 col76\" >Linear(in_features=512, out_features=10, bias=True)</td>\n",
       "            </tr>\n",
       "            <tr>\n",
       "                                <td id=\"T_9b807154_0b18_11ea_a184_80000208fe80row5_col0\" class=\"data row5 col0\" >16</td>\n",
       "                        <td id=\"T_9b807154_0b18_11ea_a184_80000208fe80row5_col1\" class=\"data row5 col1\" >Conv2d(1, 64, kernel_size=(3, 3), stride=(1, 1), padding=(1, 1))</td>\n",
       "                        <td id=\"T_9b807154_0b18_11ea_a184_80000208fe80row5_col2\" class=\"data row5 col2\" >BatchNorm2d(64, eps=1e-05, momentum=0.1, affine=True, track_running_stats=True)</td>\n",
       "                        <td id=\"T_9b807154_0b18_11ea_a184_80000208fe80row5_col3\" class=\"data row5 col3\" >BatchNorm2d(64, eps=1e-05, momentum=0.1, affine=True, track_running_stats=True)</td>\n",
       "                        <td id=\"T_9b807154_0b18_11ea_a184_80000208fe80row5_col4\" class=\"data row5 col4\" >ReLU()</td>\n",
       "                        <td id=\"T_9b807154_0b18_11ea_a184_80000208fe80row5_col5\" class=\"data row5 col5\" >Conv2d(64, 64, kernel_size=(3, 3), stride=(1, 1), padding=(1, 1))</td>\n",
       "                        <td id=\"T_9b807154_0b18_11ea_a184_80000208fe80row5_col6\" class=\"data row5 col6\" >BatchNorm2d(64, eps=1e-05, momentum=0.1, affine=True, track_running_stats=True)</td>\n",
       "                        <td id=\"T_9b807154_0b18_11ea_a184_80000208fe80row5_col7\" class=\"data row5 col7\" >ReLU()</td>\n",
       "                        <td id=\"T_9b807154_0b18_11ea_a184_80000208fe80row5_col8\" class=\"data row5 col8\" >Conv2d(64, 64, kernel_size=(3, 3), stride=(1, 1), padding=(1, 1))</td>\n",
       "                        <td id=\"T_9b807154_0b18_11ea_a184_80000208fe80row5_col9\" class=\"data row5 col9\" >ReLU()</td>\n",
       "                        <td id=\"T_9b807154_0b18_11ea_a184_80000208fe80row5_col10\" class=\"data row5 col10\" >Conv2d(64, 64, kernel_size=(1, 1), stride=(1, 1))</td>\n",
       "                        <td id=\"T_9b807154_0b18_11ea_a184_80000208fe80row5_col11\" class=\"data row5 col11\" >TorchAdd()</td>\n",
       "                        <td id=\"T_9b807154_0b18_11ea_a184_80000208fe80row5_col12\" class=\"data row5 col12\" >BatchNorm2d(64, eps=1e-05, momentum=0.1, affine=True, track_running_stats=True)</td>\n",
       "                        <td id=\"T_9b807154_0b18_11ea_a184_80000208fe80row5_col13\" class=\"data row5 col13\" >ReLU()</td>\n",
       "                        <td id=\"T_9b807154_0b18_11ea_a184_80000208fe80row5_col14\" class=\"data row5 col14\" >Conv2d(64, 64, kernel_size=(3, 3), stride=(1, 1), padding=(1, 1))</td>\n",
       "                        <td id=\"T_9b807154_0b18_11ea_a184_80000208fe80row5_col15\" class=\"data row5 col15\" >BatchNorm2d(64, eps=1e-05, momentum=0.1, affine=True, track_running_stats=True)</td>\n",
       "                        <td id=\"T_9b807154_0b18_11ea_a184_80000208fe80row5_col16\" class=\"data row5 col16\" >ReLU()</td>\n",
       "                        <td id=\"T_9b807154_0b18_11ea_a184_80000208fe80row5_col17\" class=\"data row5 col17\" >Conv2d(64, 64, kernel_size=(3, 3), stride=(1, 1), padding=(1, 1))</td>\n",
       "                        <td id=\"T_9b807154_0b18_11ea_a184_80000208fe80row5_col18\" class=\"data row5 col18\" >ReLU()</td>\n",
       "                        <td id=\"T_9b807154_0b18_11ea_a184_80000208fe80row5_col19\" class=\"data row5 col19\" >Conv2d(64, 64, kernel_size=(1, 1), stride=(1, 1))</td>\n",
       "                        <td id=\"T_9b807154_0b18_11ea_a184_80000208fe80row5_col20\" class=\"data row5 col20\" >TorchAdd()</td>\n",
       "                        <td id=\"T_9b807154_0b18_11ea_a184_80000208fe80row5_col21\" class=\"data row5 col21\" >BatchNorm2d(64, eps=1e-05, momentum=0.1, affine=True, track_running_stats=True)</td>\n",
       "                        <td id=\"T_9b807154_0b18_11ea_a184_80000208fe80row5_col22\" class=\"data row5 col22\" >ReLU()</td>\n",
       "                        <td id=\"T_9b807154_0b18_11ea_a184_80000208fe80row5_col23\" class=\"data row5 col23\" >Conv2d(64, 128, kernel_size=(3, 3), stride=(2, 2), padding=(1, 1))</td>\n",
       "                        <td id=\"T_9b807154_0b18_11ea_a184_80000208fe80row5_col24\" class=\"data row5 col24\" >BatchNorm2d(128, eps=1e-05, momentum=0.1, affine=True, track_running_stats=True)</td>\n",
       "                        <td id=\"T_9b807154_0b18_11ea_a184_80000208fe80row5_col25\" class=\"data row5 col25\" >ReLU()</td>\n",
       "                        <td id=\"T_9b807154_0b18_11ea_a184_80000208fe80row5_col26\" class=\"data row5 col26\" >Conv2d(128, 128, kernel_size=(3, 3), stride=(1, 1), padding=(1, 1))</td>\n",
       "                        <td id=\"T_9b807154_0b18_11ea_a184_80000208fe80row5_col27\" class=\"data row5 col27\" >ReLU()</td>\n",
       "                        <td id=\"T_9b807154_0b18_11ea_a184_80000208fe80row5_col28\" class=\"data row5 col28\" >Conv2d(64, 128, kernel_size=(1, 1), stride=(2, 2))</td>\n",
       "                        <td id=\"T_9b807154_0b18_11ea_a184_80000208fe80row5_col29\" class=\"data row5 col29\" >TorchAdd()</td>\n",
       "                        <td id=\"T_9b807154_0b18_11ea_a184_80000208fe80row5_col30\" class=\"data row5 col30\" >BatchNorm2d(128, eps=1e-05, momentum=0.1, affine=True, track_running_stats=True)</td>\n",
       "                        <td id=\"T_9b807154_0b18_11ea_a184_80000208fe80row5_col31\" class=\"data row5 col31\" >ReLU()</td>\n",
       "                        <td id=\"T_9b807154_0b18_11ea_a184_80000208fe80row5_col32\" class=\"data row5 col32\" >Conv2d(128, 128, kernel_size=(3, 3), stride=(1, 1), padding=(1, 1))</td>\n",
       "                        <td id=\"T_9b807154_0b18_11ea_a184_80000208fe80row5_col33\" class=\"data row5 col33\" >BatchNorm2d(128, eps=1e-05, momentum=0.1, affine=True, track_running_stats=True)</td>\n",
       "                        <td id=\"T_9b807154_0b18_11ea_a184_80000208fe80row5_col34\" class=\"data row5 col34\" >ReLU()</td>\n",
       "                        <td id=\"T_9b807154_0b18_11ea_a184_80000208fe80row5_col35\" class=\"data row5 col35\" >Conv2d(128, 128, kernel_size=(3, 3), stride=(1, 1), padding=(1, 1))</td>\n",
       "                        <td id=\"T_9b807154_0b18_11ea_a184_80000208fe80row5_col36\" class=\"data row5 col36\" >ReLU()</td>\n",
       "                        <td id=\"T_9b807154_0b18_11ea_a184_80000208fe80row5_col37\" class=\"data row5 col37\" >Conv2d(128, 128, kernel_size=(1, 1), stride=(1, 1))</td>\n",
       "                        <td id=\"T_9b807154_0b18_11ea_a184_80000208fe80row5_col38\" class=\"data row5 col38\" >TorchAdd()</td>\n",
       "                        <td id=\"T_9b807154_0b18_11ea_a184_80000208fe80row5_col39\" class=\"data row5 col39\" >BatchNorm2d(128, eps=1e-05, momentum=0.1, affine=True, track_running_stats=True)</td>\n",
       "                        <td id=\"T_9b807154_0b18_11ea_a184_80000208fe80row5_col40\" class=\"data row5 col40\" >ReLU()</td>\n",
       "                        <td id=\"T_9b807154_0b18_11ea_a184_80000208fe80row5_col41\" class=\"data row5 col41\" >Conv2d(128, 256, kernel_size=(3, 3), stride=(2, 2), padding=(1, 1))</td>\n",
       "                        <td id=\"T_9b807154_0b18_11ea_a184_80000208fe80row5_col42\" class=\"data row5 col42\" >BatchNorm2d(256, eps=1e-05, momentum=0.1, affine=True, track_running_stats=True)</td>\n",
       "                        <td id=\"T_9b807154_0b18_11ea_a184_80000208fe80row5_col43\" class=\"data row5 col43\" >ReLU()</td>\n",
       "                        <td id=\"T_9b807154_0b18_11ea_a184_80000208fe80row5_col44\" class=\"data row5 col44\" >Conv2d(256, 256, kernel_size=(3, 3), stride=(1, 1), padding=(1, 1))</td>\n",
       "                        <td id=\"T_9b807154_0b18_11ea_a184_80000208fe80row5_col45\" class=\"data row5 col45\" >ReLU()</td>\n",
       "                        <td id=\"T_9b807154_0b18_11ea_a184_80000208fe80row5_col46\" class=\"data row5 col46\" >Conv2d(128, 256, kernel_size=(1, 1), stride=(2, 2))</td>\n",
       "                        <td id=\"T_9b807154_0b18_11ea_a184_80000208fe80row5_col47\" class=\"data row5 col47\" >TorchAdd()</td>\n",
       "                        <td id=\"T_9b807154_0b18_11ea_a184_80000208fe80row5_col48\" class=\"data row5 col48\" >BatchNorm2d(256, eps=1e-05, momentum=0.1, affine=True, track_running_stats=True)</td>\n",
       "                        <td id=\"T_9b807154_0b18_11ea_a184_80000208fe80row5_col49\" class=\"data row5 col49\" >ReLU()</td>\n",
       "                        <td id=\"T_9b807154_0b18_11ea_a184_80000208fe80row5_col50\" class=\"data row5 col50\" >Conv2d(256, 256, kernel_size=(3, 3), stride=(1, 1), padding=(1, 1))</td>\n",
       "                        <td id=\"T_9b807154_0b18_11ea_a184_80000208fe80row5_col51\" class=\"data row5 col51\" >BatchNorm2d(256, eps=1e-05, momentum=0.1, affine=True, track_running_stats=True)</td>\n",
       "                        <td id=\"T_9b807154_0b18_11ea_a184_80000208fe80row5_col52\" class=\"data row5 col52\" >ReLU()</td>\n",
       "                        <td id=\"T_9b807154_0b18_11ea_a184_80000208fe80row5_col53\" class=\"data row5 col53\" >Conv2d(256, 256, kernel_size=(3, 3), stride=(1, 1), padding=(1, 1))</td>\n",
       "                        <td id=\"T_9b807154_0b18_11ea_a184_80000208fe80row5_col54\" class=\"data row5 col54\" >ReLU()</td>\n",
       "                        <td id=\"T_9b807154_0b18_11ea_a184_80000208fe80row5_col55\" class=\"data row5 col55\" >Conv2d(256, 256, kernel_size=(1, 1), stride=(1, 1))</td>\n",
       "                        <td id=\"T_9b807154_0b18_11ea_a184_80000208fe80row5_col56\" class=\"data row5 col56\" >TorchAdd()</td>\n",
       "                        <td id=\"T_9b807154_0b18_11ea_a184_80000208fe80row5_col57\" class=\"data row5 col57\" >BatchNorm2d(256, eps=1e-05, momentum=0.1, affine=True, track_running_stats=True)</td>\n",
       "                        <td id=\"T_9b807154_0b18_11ea_a184_80000208fe80row5_col58\" class=\"data row5 col58\" >ReLU()</td>\n",
       "                        <td id=\"T_9b807154_0b18_11ea_a184_80000208fe80row5_col59\" class=\"data row5 col59\" >Conv2d(256, 512, kernel_size=(3, 3), stride=(2, 2), padding=(1, 1))</td>\n",
       "                        <td id=\"T_9b807154_0b18_11ea_a184_80000208fe80row5_col60\" class=\"data row5 col60\" >BatchNorm2d(512, eps=1e-05, momentum=0.1, affine=True, track_running_stats=True)</td>\n",
       "                        <td id=\"T_9b807154_0b18_11ea_a184_80000208fe80row5_col61\" class=\"data row5 col61\" >ReLU()</td>\n",
       "                        <td id=\"T_9b807154_0b18_11ea_a184_80000208fe80row5_col62\" class=\"data row5 col62\" >Conv2d(512, 512, kernel_size=(3, 3), stride=(1, 1), padding=(1, 1))</td>\n",
       "                        <td id=\"T_9b807154_0b18_11ea_a184_80000208fe80row5_col63\" class=\"data row5 col63\" >ReLU()</td>\n",
       "                        <td id=\"T_9b807154_0b18_11ea_a184_80000208fe80row5_col64\" class=\"data row5 col64\" >Conv2d(256, 512, kernel_size=(1, 1), stride=(2, 2))</td>\n",
       "                        <td id=\"T_9b807154_0b18_11ea_a184_80000208fe80row5_col65\" class=\"data row5 col65\" >TorchAdd()</td>\n",
       "                        <td id=\"T_9b807154_0b18_11ea_a184_80000208fe80row5_col66\" class=\"data row5 col66\" >BatchNorm2d(512, eps=1e-05, momentum=0.1, affine=True, track_running_stats=True)</td>\n",
       "                        <td id=\"T_9b807154_0b18_11ea_a184_80000208fe80row5_col67\" class=\"data row5 col67\" >ReLU()</td>\n",
       "                        <td id=\"T_9b807154_0b18_11ea_a184_80000208fe80row5_col68\" class=\"data row5 col68\" >Conv2d(512, 512, kernel_size=(3, 3), stride=(1, 1), padding=(1, 1))</td>\n",
       "                        <td id=\"T_9b807154_0b18_11ea_a184_80000208fe80row5_col69\" class=\"data row5 col69\" >BatchNorm2d(512, eps=1e-05, momentum=0.1, affine=True, track_running_stats=True)</td>\n",
       "                        <td id=\"T_9b807154_0b18_11ea_a184_80000208fe80row5_col70\" class=\"data row5 col70\" >ReLU()</td>\n",
       "                        <td id=\"T_9b807154_0b18_11ea_a184_80000208fe80row5_col71\" class=\"data row5 col71\" >Conv2d(512, 512, kernel_size=(3, 3), stride=(1, 1), padding=(1, 1))</td>\n",
       "                        <td id=\"T_9b807154_0b18_11ea_a184_80000208fe80row5_col72\" class=\"data row5 col72\" >ReLU()</td>\n",
       "                        <td id=\"T_9b807154_0b18_11ea_a184_80000208fe80row5_col73\" class=\"data row5 col73\" >Conv2d(512, 512, kernel_size=(1, 1), stride=(1, 1))</td>\n",
       "                        <td id=\"T_9b807154_0b18_11ea_a184_80000208fe80row5_col74\" class=\"data row5 col74\" >TorchAdd()</td>\n",
       "                        <td id=\"T_9b807154_0b18_11ea_a184_80000208fe80row5_col75\" class=\"data row5 col75\" >GlobalAvgPool2d()</td>\n",
       "                        <td id=\"T_9b807154_0b18_11ea_a184_80000208fe80row5_col76\" class=\"data row5 col76\" >Linear(in_features=512, out_features=10, bias=True)</td>\n",
       "            </tr>\n",
       "    </tbody></table>"
      ],
      "text/plain": [
       "<pandas.io.formats.style.Styler at 0x2aedd94d4a90>"
      ]
     },
     "metadata": {},
     "output_type": "display_data"
    },
    {
     "data": {
      "text/plain": [
       "'AutoKerasClean #1'"
      ]
     },
     "metadata": {},
     "output_type": "display_data"
    },
    {
     "data": {
      "text/html": [
       "<style  type=\"text/css\" >\n",
       "</style><table id=\"T_9b8aae6c_0b18_11ea_a184_80000208fe80\" ><thead>    <tr>        <th class=\"col_heading level0 col0\" >std</th>        <th class=\"col_heading level0 col1\" >test_acc</th>        <th class=\"col_heading level0 col2\" >train_acc</th>        <th class=\"col_heading level0 col3\" >time_err</th>        <th class=\"col_heading level0 col4\" >time_pre</th>        <th class=\"col_heading level0 col5\" >time_mod</th>    </tr></thead><tbody>\n",
       "                <tr>\n",
       "                                <td id=\"T_9b8aae6c_0b18_11ea_a184_80000208fe80row0_col0\" class=\"data row0 col0\" >0</td>\n",
       "                        <td id=\"T_9b8aae6c_0b18_11ea_a184_80000208fe80row0_col1\" class=\"data row0 col1\" >0.988</td>\n",
       "                        <td id=\"T_9b8aae6c_0b18_11ea_a184_80000208fe80row0_col2\" class=\"data row0 col2\" >0.999</td>\n",
       "                        <td id=\"T_9b8aae6c_0b18_11ea_a184_80000208fe80row0_col3\" class=\"data row0 col3\" >0.149</td>\n",
       "                        <td id=\"T_9b8aae6c_0b18_11ea_a184_80000208fe80row0_col4\" class=\"data row0 col4\" >0.001</td>\n",
       "                        <td id=\"T_9b8aae6c_0b18_11ea_a184_80000208fe80row0_col5\" class=\"data row0 col5\" >903.8</td>\n",
       "            </tr>\n",
       "            <tr>\n",
       "                                <td id=\"T_9b8aae6c_0b18_11ea_a184_80000208fe80row1_col0\" class=\"data row1 col0\" >3.2</td>\n",
       "                        <td id=\"T_9b8aae6c_0b18_11ea_a184_80000208fe80row1_col1\" class=\"data row1 col1\" >0.942</td>\n",
       "                        <td id=\"T_9b8aae6c_0b18_11ea_a184_80000208fe80row1_col2\" class=\"data row1 col2\" >0.999</td>\n",
       "                        <td id=\"T_9b8aae6c_0b18_11ea_a184_80000208fe80row1_col3\" class=\"data row1 col3\" >0.096</td>\n",
       "                        <td id=\"T_9b8aae6c_0b18_11ea_a184_80000208fe80row1_col4\" class=\"data row1 col4\" >0.001</td>\n",
       "                        <td id=\"T_9b8aae6c_0b18_11ea_a184_80000208fe80row1_col5\" class=\"data row1 col5\" >905.834</td>\n",
       "            </tr>\n",
       "            <tr>\n",
       "                                <td id=\"T_9b8aae6c_0b18_11ea_a184_80000208fe80row2_col0\" class=\"data row2 col0\" >6.4</td>\n",
       "                        <td id=\"T_9b8aae6c_0b18_11ea_a184_80000208fe80row2_col1\" class=\"data row2 col1\" >0.728</td>\n",
       "                        <td id=\"T_9b8aae6c_0b18_11ea_a184_80000208fe80row2_col2\" class=\"data row2 col2\" >0.999</td>\n",
       "                        <td id=\"T_9b8aae6c_0b18_11ea_a184_80000208fe80row2_col3\" class=\"data row2 col3\" >0.102</td>\n",
       "                        <td id=\"T_9b8aae6c_0b18_11ea_a184_80000208fe80row2_col4\" class=\"data row2 col4\" >0.002</td>\n",
       "                        <td id=\"T_9b8aae6c_0b18_11ea_a184_80000208fe80row2_col5\" class=\"data row2 col5\" >905.856</td>\n",
       "            </tr>\n",
       "            <tr>\n",
       "                                <td id=\"T_9b8aae6c_0b18_11ea_a184_80000208fe80row3_col0\" class=\"data row3 col0\" >9.6</td>\n",
       "                        <td id=\"T_9b8aae6c_0b18_11ea_a184_80000208fe80row3_col1\" class=\"data row3 col1\" >0.486</td>\n",
       "                        <td id=\"T_9b8aae6c_0b18_11ea_a184_80000208fe80row3_col2\" class=\"data row3 col2\" >0.999</td>\n",
       "                        <td id=\"T_9b8aae6c_0b18_11ea_a184_80000208fe80row3_col3\" class=\"data row3 col3\" >0.135</td>\n",
       "                        <td id=\"T_9b8aae6c_0b18_11ea_a184_80000208fe80row3_col4\" class=\"data row3 col4\" >0.001</td>\n",
       "                        <td id=\"T_9b8aae6c_0b18_11ea_a184_80000208fe80row3_col5\" class=\"data row3 col5\" >904.61</td>\n",
       "            </tr>\n",
       "            <tr>\n",
       "                                <td id=\"T_9b8aae6c_0b18_11ea_a184_80000208fe80row4_col0\" class=\"data row4 col0\" >12.8</td>\n",
       "                        <td id=\"T_9b8aae6c_0b18_11ea_a184_80000208fe80row4_col1\" class=\"data row4 col1\" >0.346</td>\n",
       "                        <td id=\"T_9b8aae6c_0b18_11ea_a184_80000208fe80row4_col2\" class=\"data row4 col2\" >0.999</td>\n",
       "                        <td id=\"T_9b8aae6c_0b18_11ea_a184_80000208fe80row4_col3\" class=\"data row4 col3\" >0.129</td>\n",
       "                        <td id=\"T_9b8aae6c_0b18_11ea_a184_80000208fe80row4_col4\" class=\"data row4 col4\" >0.001</td>\n",
       "                        <td id=\"T_9b8aae6c_0b18_11ea_a184_80000208fe80row4_col5\" class=\"data row4 col5\" >904.732</td>\n",
       "            </tr>\n",
       "            <tr>\n",
       "                                <td id=\"T_9b8aae6c_0b18_11ea_a184_80000208fe80row5_col0\" class=\"data row5 col0\" >16</td>\n",
       "                        <td id=\"T_9b8aae6c_0b18_11ea_a184_80000208fe80row5_col1\" class=\"data row5 col1\" >0.257</td>\n",
       "                        <td id=\"T_9b8aae6c_0b18_11ea_a184_80000208fe80row5_col2\" class=\"data row5 col2\" >0.999</td>\n",
       "                        <td id=\"T_9b8aae6c_0b18_11ea_a184_80000208fe80row5_col3\" class=\"data row5 col3\" >0.098</td>\n",
       "                        <td id=\"T_9b8aae6c_0b18_11ea_a184_80000208fe80row5_col4\" class=\"data row5 col4\" >0.001</td>\n",
       "                        <td id=\"T_9b8aae6c_0b18_11ea_a184_80000208fe80row5_col5\" class=\"data row5 col5\" >916.142</td>\n",
       "            </tr>\n",
       "    </tbody></table>"
      ],
      "text/plain": [
       "<pandas.io.formats.style.Styler at 0x2aedac8b8390>"
      ]
     },
     "metadata": {},
     "output_type": "display_data"
    },
    {
     "data": {
      "text/html": [
       "<style  type=\"text/css\" >\n",
       "</style><table id=\"T_9b8e952c_0b18_11ea_a184_80000208fe80\" ><thead>    <tr>        <th class=\"col_heading level0 col0\" >std</th>        <th class=\"col_heading level0 col1\" >pipe_0</th>        <th class=\"col_heading level0 col2\" >pipe_1</th>        <th class=\"col_heading level0 col3\" >pipe_2</th>        <th class=\"col_heading level0 col4\" >pipe_3</th>        <th class=\"col_heading level0 col5\" >pipe_4</th>        <th class=\"col_heading level0 col6\" >pipe_5</th>        <th class=\"col_heading level0 col7\" >pipe_6</th>        <th class=\"col_heading level0 col8\" >pipe_7</th>        <th class=\"col_heading level0 col9\" >pipe_8</th>        <th class=\"col_heading level0 col10\" >pipe_9</th>        <th class=\"col_heading level0 col11\" >pipe_10</th>        <th class=\"col_heading level0 col12\" >pipe_11</th>        <th class=\"col_heading level0 col13\" >pipe_12</th>        <th class=\"col_heading level0 col14\" >pipe_13</th>        <th class=\"col_heading level0 col15\" >pipe_14</th>        <th class=\"col_heading level0 col16\" >pipe_15</th>        <th class=\"col_heading level0 col17\" >pipe_16</th>        <th class=\"col_heading level0 col18\" >pipe_17</th>        <th class=\"col_heading level0 col19\" >pipe_18</th>        <th class=\"col_heading level0 col20\" >pipe_19</th>        <th class=\"col_heading level0 col21\" >pipe_20</th>        <th class=\"col_heading level0 col22\" >pipe_21</th>        <th class=\"col_heading level0 col23\" >pipe_22</th>        <th class=\"col_heading level0 col24\" >pipe_23</th>        <th class=\"col_heading level0 col25\" >pipe_24</th>        <th class=\"col_heading level0 col26\" >pipe_25</th>        <th class=\"col_heading level0 col27\" >pipe_26</th>        <th class=\"col_heading level0 col28\" >pipe_27</th>        <th class=\"col_heading level0 col29\" >pipe_28</th>        <th class=\"col_heading level0 col30\" >pipe_29</th>        <th class=\"col_heading level0 col31\" >pipe_30</th>        <th class=\"col_heading level0 col32\" >pipe_31</th>        <th class=\"col_heading level0 col33\" >pipe_32</th>        <th class=\"col_heading level0 col34\" >pipe_33</th>        <th class=\"col_heading level0 col35\" >pipe_34</th>        <th class=\"col_heading level0 col36\" >pipe_35</th>        <th class=\"col_heading level0 col37\" >pipe_36</th>        <th class=\"col_heading level0 col38\" >pipe_37</th>        <th class=\"col_heading level0 col39\" >pipe_38</th>        <th class=\"col_heading level0 col40\" >pipe_39</th>        <th class=\"col_heading level0 col41\" >pipe_40</th>        <th class=\"col_heading level0 col42\" >pipe_41</th>        <th class=\"col_heading level0 col43\" >pipe_42</th>        <th class=\"col_heading level0 col44\" >pipe_43</th>        <th class=\"col_heading level0 col45\" >pipe_44</th>        <th class=\"col_heading level0 col46\" >pipe_45</th>        <th class=\"col_heading level0 col47\" >pipe_46</th>        <th class=\"col_heading level0 col48\" >pipe_47</th>        <th class=\"col_heading level0 col49\" >pipe_48</th>        <th class=\"col_heading level0 col50\" >pipe_49</th>        <th class=\"col_heading level0 col51\" >pipe_50</th>        <th class=\"col_heading level0 col52\" >pipe_51</th>        <th class=\"col_heading level0 col53\" >pipe_52</th>        <th class=\"col_heading level0 col54\" >pipe_53</th>        <th class=\"col_heading level0 col55\" >pipe_54</th>        <th class=\"col_heading level0 col56\" >pipe_55</th>        <th class=\"col_heading level0 col57\" >pipe_56</th>        <th class=\"col_heading level0 col58\" >pipe_57</th>        <th class=\"col_heading level0 col59\" >pipe_58</th>        <th class=\"col_heading level0 col60\" >pipe_59</th>        <th class=\"col_heading level0 col61\" >pipe_60</th>        <th class=\"col_heading level0 col62\" >pipe_61</th>        <th class=\"col_heading level0 col63\" >pipe_62</th>        <th class=\"col_heading level0 col64\" >pipe_63</th>        <th class=\"col_heading level0 col65\" >pipe_64</th>        <th class=\"col_heading level0 col66\" >pipe_65</th>        <th class=\"col_heading level0 col67\" >pipe_66</th>        <th class=\"col_heading level0 col68\" >pipe_67</th>        <th class=\"col_heading level0 col69\" >pipe_68</th>        <th class=\"col_heading level0 col70\" >pipe_69</th>        <th class=\"col_heading level0 col71\" >pipe_70</th>        <th class=\"col_heading level0 col72\" >pipe_71</th>        <th class=\"col_heading level0 col73\" >pipe_72</th>        <th class=\"col_heading level0 col74\" >pipe_73</th>        <th class=\"col_heading level0 col75\" >pipe_74</th>        <th class=\"col_heading level0 col76\" >pipe_75</th>    </tr></thead><tbody>\n",
       "                <tr>\n",
       "                                <td id=\"T_9b8e952c_0b18_11ea_a184_80000208fe80row0_col0\" class=\"data row0 col0\" >0</td>\n",
       "                        <td id=\"T_9b8e952c_0b18_11ea_a184_80000208fe80row0_col1\" class=\"data row0 col1\" >Conv2d(1, 64, kernel_size=(3, 3), stride=(1, 1), padding=(1, 1))</td>\n",
       "                        <td id=\"T_9b8e952c_0b18_11ea_a184_80000208fe80row0_col2\" class=\"data row0 col2\" >BatchNorm2d(64, eps=1e-05, momentum=0.1, affine=True, track_running_stats=True)</td>\n",
       "                        <td id=\"T_9b8e952c_0b18_11ea_a184_80000208fe80row0_col3\" class=\"data row0 col3\" >BatchNorm2d(64, eps=1e-05, momentum=0.1, affine=True, track_running_stats=True)</td>\n",
       "                        <td id=\"T_9b8e952c_0b18_11ea_a184_80000208fe80row0_col4\" class=\"data row0 col4\" >ReLU()</td>\n",
       "                        <td id=\"T_9b8e952c_0b18_11ea_a184_80000208fe80row0_col5\" class=\"data row0 col5\" >Conv2d(64, 64, kernel_size=(3, 3), stride=(1, 1), padding=(1, 1))</td>\n",
       "                        <td id=\"T_9b8e952c_0b18_11ea_a184_80000208fe80row0_col6\" class=\"data row0 col6\" >BatchNorm2d(64, eps=1e-05, momentum=0.1, affine=True, track_running_stats=True)</td>\n",
       "                        <td id=\"T_9b8e952c_0b18_11ea_a184_80000208fe80row0_col7\" class=\"data row0 col7\" >ReLU()</td>\n",
       "                        <td id=\"T_9b8e952c_0b18_11ea_a184_80000208fe80row0_col8\" class=\"data row0 col8\" >Conv2d(64, 64, kernel_size=(3, 3), stride=(1, 1), padding=(1, 1))</td>\n",
       "                        <td id=\"T_9b8e952c_0b18_11ea_a184_80000208fe80row0_col9\" class=\"data row0 col9\" >ReLU()</td>\n",
       "                        <td id=\"T_9b8e952c_0b18_11ea_a184_80000208fe80row0_col10\" class=\"data row0 col10\" >Conv2d(64, 64, kernel_size=(1, 1), stride=(1, 1))</td>\n",
       "                        <td id=\"T_9b8e952c_0b18_11ea_a184_80000208fe80row0_col11\" class=\"data row0 col11\" >TorchAdd()</td>\n",
       "                        <td id=\"T_9b8e952c_0b18_11ea_a184_80000208fe80row0_col12\" class=\"data row0 col12\" >BatchNorm2d(64, eps=1e-05, momentum=0.1, affine=True, track_running_stats=True)</td>\n",
       "                        <td id=\"T_9b8e952c_0b18_11ea_a184_80000208fe80row0_col13\" class=\"data row0 col13\" >ReLU()</td>\n",
       "                        <td id=\"T_9b8e952c_0b18_11ea_a184_80000208fe80row0_col14\" class=\"data row0 col14\" >Conv2d(64, 64, kernel_size=(3, 3), stride=(1, 1), padding=(1, 1))</td>\n",
       "                        <td id=\"T_9b8e952c_0b18_11ea_a184_80000208fe80row0_col15\" class=\"data row0 col15\" >BatchNorm2d(64, eps=1e-05, momentum=0.1, affine=True, track_running_stats=True)</td>\n",
       "                        <td id=\"T_9b8e952c_0b18_11ea_a184_80000208fe80row0_col16\" class=\"data row0 col16\" >ReLU()</td>\n",
       "                        <td id=\"T_9b8e952c_0b18_11ea_a184_80000208fe80row0_col17\" class=\"data row0 col17\" >Conv2d(64, 64, kernel_size=(3, 3), stride=(1, 1), padding=(1, 1))</td>\n",
       "                        <td id=\"T_9b8e952c_0b18_11ea_a184_80000208fe80row0_col18\" class=\"data row0 col18\" >ReLU()</td>\n",
       "                        <td id=\"T_9b8e952c_0b18_11ea_a184_80000208fe80row0_col19\" class=\"data row0 col19\" >Conv2d(64, 64, kernel_size=(1, 1), stride=(1, 1))</td>\n",
       "                        <td id=\"T_9b8e952c_0b18_11ea_a184_80000208fe80row0_col20\" class=\"data row0 col20\" >TorchAdd()</td>\n",
       "                        <td id=\"T_9b8e952c_0b18_11ea_a184_80000208fe80row0_col21\" class=\"data row0 col21\" >BatchNorm2d(64, eps=1e-05, momentum=0.1, affine=True, track_running_stats=True)</td>\n",
       "                        <td id=\"T_9b8e952c_0b18_11ea_a184_80000208fe80row0_col22\" class=\"data row0 col22\" >ReLU()</td>\n",
       "                        <td id=\"T_9b8e952c_0b18_11ea_a184_80000208fe80row0_col23\" class=\"data row0 col23\" >Conv2d(64, 128, kernel_size=(3, 3), stride=(2, 2), padding=(1, 1))</td>\n",
       "                        <td id=\"T_9b8e952c_0b18_11ea_a184_80000208fe80row0_col24\" class=\"data row0 col24\" >BatchNorm2d(128, eps=1e-05, momentum=0.1, affine=True, track_running_stats=True)</td>\n",
       "                        <td id=\"T_9b8e952c_0b18_11ea_a184_80000208fe80row0_col25\" class=\"data row0 col25\" >ReLU()</td>\n",
       "                        <td id=\"T_9b8e952c_0b18_11ea_a184_80000208fe80row0_col26\" class=\"data row0 col26\" >Conv2d(128, 128, kernel_size=(3, 3), stride=(1, 1), padding=(1, 1))</td>\n",
       "                        <td id=\"T_9b8e952c_0b18_11ea_a184_80000208fe80row0_col27\" class=\"data row0 col27\" >ReLU()</td>\n",
       "                        <td id=\"T_9b8e952c_0b18_11ea_a184_80000208fe80row0_col28\" class=\"data row0 col28\" >Conv2d(64, 128, kernel_size=(1, 1), stride=(2, 2))</td>\n",
       "                        <td id=\"T_9b8e952c_0b18_11ea_a184_80000208fe80row0_col29\" class=\"data row0 col29\" >TorchAdd()</td>\n",
       "                        <td id=\"T_9b8e952c_0b18_11ea_a184_80000208fe80row0_col30\" class=\"data row0 col30\" >BatchNorm2d(128, eps=1e-05, momentum=0.1, affine=True, track_running_stats=True)</td>\n",
       "                        <td id=\"T_9b8e952c_0b18_11ea_a184_80000208fe80row0_col31\" class=\"data row0 col31\" >ReLU()</td>\n",
       "                        <td id=\"T_9b8e952c_0b18_11ea_a184_80000208fe80row0_col32\" class=\"data row0 col32\" >Conv2d(128, 128, kernel_size=(3, 3), stride=(1, 1), padding=(1, 1))</td>\n",
       "                        <td id=\"T_9b8e952c_0b18_11ea_a184_80000208fe80row0_col33\" class=\"data row0 col33\" >BatchNorm2d(128, eps=1e-05, momentum=0.1, affine=True, track_running_stats=True)</td>\n",
       "                        <td id=\"T_9b8e952c_0b18_11ea_a184_80000208fe80row0_col34\" class=\"data row0 col34\" >ReLU()</td>\n",
       "                        <td id=\"T_9b8e952c_0b18_11ea_a184_80000208fe80row0_col35\" class=\"data row0 col35\" >Conv2d(128, 128, kernel_size=(3, 3), stride=(1, 1), padding=(1, 1))</td>\n",
       "                        <td id=\"T_9b8e952c_0b18_11ea_a184_80000208fe80row0_col36\" class=\"data row0 col36\" >ReLU()</td>\n",
       "                        <td id=\"T_9b8e952c_0b18_11ea_a184_80000208fe80row0_col37\" class=\"data row0 col37\" >Conv2d(128, 128, kernel_size=(1, 1), stride=(1, 1))</td>\n",
       "                        <td id=\"T_9b8e952c_0b18_11ea_a184_80000208fe80row0_col38\" class=\"data row0 col38\" >TorchAdd()</td>\n",
       "                        <td id=\"T_9b8e952c_0b18_11ea_a184_80000208fe80row0_col39\" class=\"data row0 col39\" >BatchNorm2d(128, eps=1e-05, momentum=0.1, affine=True, track_running_stats=True)</td>\n",
       "                        <td id=\"T_9b8e952c_0b18_11ea_a184_80000208fe80row0_col40\" class=\"data row0 col40\" >ReLU()</td>\n",
       "                        <td id=\"T_9b8e952c_0b18_11ea_a184_80000208fe80row0_col41\" class=\"data row0 col41\" >Conv2d(128, 256, kernel_size=(3, 3), stride=(2, 2), padding=(1, 1))</td>\n",
       "                        <td id=\"T_9b8e952c_0b18_11ea_a184_80000208fe80row0_col42\" class=\"data row0 col42\" >BatchNorm2d(256, eps=1e-05, momentum=0.1, affine=True, track_running_stats=True)</td>\n",
       "                        <td id=\"T_9b8e952c_0b18_11ea_a184_80000208fe80row0_col43\" class=\"data row0 col43\" >ReLU()</td>\n",
       "                        <td id=\"T_9b8e952c_0b18_11ea_a184_80000208fe80row0_col44\" class=\"data row0 col44\" >Conv2d(256, 256, kernel_size=(3, 3), stride=(1, 1), padding=(1, 1))</td>\n",
       "                        <td id=\"T_9b8e952c_0b18_11ea_a184_80000208fe80row0_col45\" class=\"data row0 col45\" >ReLU()</td>\n",
       "                        <td id=\"T_9b8e952c_0b18_11ea_a184_80000208fe80row0_col46\" class=\"data row0 col46\" >Conv2d(128, 256, kernel_size=(1, 1), stride=(2, 2))</td>\n",
       "                        <td id=\"T_9b8e952c_0b18_11ea_a184_80000208fe80row0_col47\" class=\"data row0 col47\" >TorchAdd()</td>\n",
       "                        <td id=\"T_9b8e952c_0b18_11ea_a184_80000208fe80row0_col48\" class=\"data row0 col48\" >BatchNorm2d(256, eps=1e-05, momentum=0.1, affine=True, track_running_stats=True)</td>\n",
       "                        <td id=\"T_9b8e952c_0b18_11ea_a184_80000208fe80row0_col49\" class=\"data row0 col49\" >ReLU()</td>\n",
       "                        <td id=\"T_9b8e952c_0b18_11ea_a184_80000208fe80row0_col50\" class=\"data row0 col50\" >Conv2d(256, 256, kernel_size=(3, 3), stride=(1, 1), padding=(1, 1))</td>\n",
       "                        <td id=\"T_9b8e952c_0b18_11ea_a184_80000208fe80row0_col51\" class=\"data row0 col51\" >BatchNorm2d(256, eps=1e-05, momentum=0.1, affine=True, track_running_stats=True)</td>\n",
       "                        <td id=\"T_9b8e952c_0b18_11ea_a184_80000208fe80row0_col52\" class=\"data row0 col52\" >ReLU()</td>\n",
       "                        <td id=\"T_9b8e952c_0b18_11ea_a184_80000208fe80row0_col53\" class=\"data row0 col53\" >Conv2d(256, 256, kernel_size=(3, 3), stride=(1, 1), padding=(1, 1))</td>\n",
       "                        <td id=\"T_9b8e952c_0b18_11ea_a184_80000208fe80row0_col54\" class=\"data row0 col54\" >ReLU()</td>\n",
       "                        <td id=\"T_9b8e952c_0b18_11ea_a184_80000208fe80row0_col55\" class=\"data row0 col55\" >Conv2d(256, 256, kernel_size=(1, 1), stride=(1, 1))</td>\n",
       "                        <td id=\"T_9b8e952c_0b18_11ea_a184_80000208fe80row0_col56\" class=\"data row0 col56\" >TorchAdd()</td>\n",
       "                        <td id=\"T_9b8e952c_0b18_11ea_a184_80000208fe80row0_col57\" class=\"data row0 col57\" >BatchNorm2d(256, eps=1e-05, momentum=0.1, affine=True, track_running_stats=True)</td>\n",
       "                        <td id=\"T_9b8e952c_0b18_11ea_a184_80000208fe80row0_col58\" class=\"data row0 col58\" >ReLU()</td>\n",
       "                        <td id=\"T_9b8e952c_0b18_11ea_a184_80000208fe80row0_col59\" class=\"data row0 col59\" >Conv2d(256, 512, kernel_size=(3, 3), stride=(2, 2), padding=(1, 1))</td>\n",
       "                        <td id=\"T_9b8e952c_0b18_11ea_a184_80000208fe80row0_col60\" class=\"data row0 col60\" >BatchNorm2d(512, eps=1e-05, momentum=0.1, affine=True, track_running_stats=True)</td>\n",
       "                        <td id=\"T_9b8e952c_0b18_11ea_a184_80000208fe80row0_col61\" class=\"data row0 col61\" >ReLU()</td>\n",
       "                        <td id=\"T_9b8e952c_0b18_11ea_a184_80000208fe80row0_col62\" class=\"data row0 col62\" >Conv2d(512, 512, kernel_size=(3, 3), stride=(1, 1), padding=(1, 1))</td>\n",
       "                        <td id=\"T_9b8e952c_0b18_11ea_a184_80000208fe80row0_col63\" class=\"data row0 col63\" >ReLU()</td>\n",
       "                        <td id=\"T_9b8e952c_0b18_11ea_a184_80000208fe80row0_col64\" class=\"data row0 col64\" >Conv2d(256, 512, kernel_size=(1, 1), stride=(2, 2))</td>\n",
       "                        <td id=\"T_9b8e952c_0b18_11ea_a184_80000208fe80row0_col65\" class=\"data row0 col65\" >TorchAdd()</td>\n",
       "                        <td id=\"T_9b8e952c_0b18_11ea_a184_80000208fe80row0_col66\" class=\"data row0 col66\" >BatchNorm2d(512, eps=1e-05, momentum=0.1, affine=True, track_running_stats=True)</td>\n",
       "                        <td id=\"T_9b8e952c_0b18_11ea_a184_80000208fe80row0_col67\" class=\"data row0 col67\" >ReLU()</td>\n",
       "                        <td id=\"T_9b8e952c_0b18_11ea_a184_80000208fe80row0_col68\" class=\"data row0 col68\" >Conv2d(512, 512, kernel_size=(3, 3), stride=(1, 1), padding=(1, 1))</td>\n",
       "                        <td id=\"T_9b8e952c_0b18_11ea_a184_80000208fe80row0_col69\" class=\"data row0 col69\" >BatchNorm2d(512, eps=1e-05, momentum=0.1, affine=True, track_running_stats=True)</td>\n",
       "                        <td id=\"T_9b8e952c_0b18_11ea_a184_80000208fe80row0_col70\" class=\"data row0 col70\" >ReLU()</td>\n",
       "                        <td id=\"T_9b8e952c_0b18_11ea_a184_80000208fe80row0_col71\" class=\"data row0 col71\" >Conv2d(512, 512, kernel_size=(3, 3), stride=(1, 1), padding=(1, 1))</td>\n",
       "                        <td id=\"T_9b8e952c_0b18_11ea_a184_80000208fe80row0_col72\" class=\"data row0 col72\" >ReLU()</td>\n",
       "                        <td id=\"T_9b8e952c_0b18_11ea_a184_80000208fe80row0_col73\" class=\"data row0 col73\" >Conv2d(512, 512, kernel_size=(1, 1), stride=(1, 1))</td>\n",
       "                        <td id=\"T_9b8e952c_0b18_11ea_a184_80000208fe80row0_col74\" class=\"data row0 col74\" >TorchAdd()</td>\n",
       "                        <td id=\"T_9b8e952c_0b18_11ea_a184_80000208fe80row0_col75\" class=\"data row0 col75\" >GlobalAvgPool2d()</td>\n",
       "                        <td id=\"T_9b8e952c_0b18_11ea_a184_80000208fe80row0_col76\" class=\"data row0 col76\" >Linear(in_features=512, out_features=10, bias=True)</td>\n",
       "            </tr>\n",
       "            <tr>\n",
       "                                <td id=\"T_9b8e952c_0b18_11ea_a184_80000208fe80row1_col0\" class=\"data row1 col0\" >3.2</td>\n",
       "                        <td id=\"T_9b8e952c_0b18_11ea_a184_80000208fe80row1_col1\" class=\"data row1 col1\" >Conv2d(1, 64, kernel_size=(3, 3), stride=(1, 1), padding=(1, 1))</td>\n",
       "                        <td id=\"T_9b8e952c_0b18_11ea_a184_80000208fe80row1_col2\" class=\"data row1 col2\" >BatchNorm2d(64, eps=1e-05, momentum=0.1, affine=True, track_running_stats=True)</td>\n",
       "                        <td id=\"T_9b8e952c_0b18_11ea_a184_80000208fe80row1_col3\" class=\"data row1 col3\" >BatchNorm2d(64, eps=1e-05, momentum=0.1, affine=True, track_running_stats=True)</td>\n",
       "                        <td id=\"T_9b8e952c_0b18_11ea_a184_80000208fe80row1_col4\" class=\"data row1 col4\" >ReLU()</td>\n",
       "                        <td id=\"T_9b8e952c_0b18_11ea_a184_80000208fe80row1_col5\" class=\"data row1 col5\" >Conv2d(64, 64, kernel_size=(3, 3), stride=(1, 1), padding=(1, 1))</td>\n",
       "                        <td id=\"T_9b8e952c_0b18_11ea_a184_80000208fe80row1_col6\" class=\"data row1 col6\" >BatchNorm2d(64, eps=1e-05, momentum=0.1, affine=True, track_running_stats=True)</td>\n",
       "                        <td id=\"T_9b8e952c_0b18_11ea_a184_80000208fe80row1_col7\" class=\"data row1 col7\" >ReLU()</td>\n",
       "                        <td id=\"T_9b8e952c_0b18_11ea_a184_80000208fe80row1_col8\" class=\"data row1 col8\" >Conv2d(64, 64, kernel_size=(3, 3), stride=(1, 1), padding=(1, 1))</td>\n",
       "                        <td id=\"T_9b8e952c_0b18_11ea_a184_80000208fe80row1_col9\" class=\"data row1 col9\" >ReLU()</td>\n",
       "                        <td id=\"T_9b8e952c_0b18_11ea_a184_80000208fe80row1_col10\" class=\"data row1 col10\" >Conv2d(64, 64, kernel_size=(1, 1), stride=(1, 1))</td>\n",
       "                        <td id=\"T_9b8e952c_0b18_11ea_a184_80000208fe80row1_col11\" class=\"data row1 col11\" >TorchAdd()</td>\n",
       "                        <td id=\"T_9b8e952c_0b18_11ea_a184_80000208fe80row1_col12\" class=\"data row1 col12\" >BatchNorm2d(64, eps=1e-05, momentum=0.1, affine=True, track_running_stats=True)</td>\n",
       "                        <td id=\"T_9b8e952c_0b18_11ea_a184_80000208fe80row1_col13\" class=\"data row1 col13\" >ReLU()</td>\n",
       "                        <td id=\"T_9b8e952c_0b18_11ea_a184_80000208fe80row1_col14\" class=\"data row1 col14\" >Conv2d(64, 64, kernel_size=(3, 3), stride=(1, 1), padding=(1, 1))</td>\n",
       "                        <td id=\"T_9b8e952c_0b18_11ea_a184_80000208fe80row1_col15\" class=\"data row1 col15\" >BatchNorm2d(64, eps=1e-05, momentum=0.1, affine=True, track_running_stats=True)</td>\n",
       "                        <td id=\"T_9b8e952c_0b18_11ea_a184_80000208fe80row1_col16\" class=\"data row1 col16\" >ReLU()</td>\n",
       "                        <td id=\"T_9b8e952c_0b18_11ea_a184_80000208fe80row1_col17\" class=\"data row1 col17\" >Conv2d(64, 64, kernel_size=(3, 3), stride=(1, 1), padding=(1, 1))</td>\n",
       "                        <td id=\"T_9b8e952c_0b18_11ea_a184_80000208fe80row1_col18\" class=\"data row1 col18\" >ReLU()</td>\n",
       "                        <td id=\"T_9b8e952c_0b18_11ea_a184_80000208fe80row1_col19\" class=\"data row1 col19\" >Conv2d(64, 64, kernel_size=(1, 1), stride=(1, 1))</td>\n",
       "                        <td id=\"T_9b8e952c_0b18_11ea_a184_80000208fe80row1_col20\" class=\"data row1 col20\" >TorchAdd()</td>\n",
       "                        <td id=\"T_9b8e952c_0b18_11ea_a184_80000208fe80row1_col21\" class=\"data row1 col21\" >BatchNorm2d(64, eps=1e-05, momentum=0.1, affine=True, track_running_stats=True)</td>\n",
       "                        <td id=\"T_9b8e952c_0b18_11ea_a184_80000208fe80row1_col22\" class=\"data row1 col22\" >ReLU()</td>\n",
       "                        <td id=\"T_9b8e952c_0b18_11ea_a184_80000208fe80row1_col23\" class=\"data row1 col23\" >Conv2d(64, 128, kernel_size=(3, 3), stride=(2, 2), padding=(1, 1))</td>\n",
       "                        <td id=\"T_9b8e952c_0b18_11ea_a184_80000208fe80row1_col24\" class=\"data row1 col24\" >BatchNorm2d(128, eps=1e-05, momentum=0.1, affine=True, track_running_stats=True)</td>\n",
       "                        <td id=\"T_9b8e952c_0b18_11ea_a184_80000208fe80row1_col25\" class=\"data row1 col25\" >ReLU()</td>\n",
       "                        <td id=\"T_9b8e952c_0b18_11ea_a184_80000208fe80row1_col26\" class=\"data row1 col26\" >Conv2d(128, 128, kernel_size=(3, 3), stride=(1, 1), padding=(1, 1))</td>\n",
       "                        <td id=\"T_9b8e952c_0b18_11ea_a184_80000208fe80row1_col27\" class=\"data row1 col27\" >ReLU()</td>\n",
       "                        <td id=\"T_9b8e952c_0b18_11ea_a184_80000208fe80row1_col28\" class=\"data row1 col28\" >Conv2d(64, 128, kernel_size=(1, 1), stride=(2, 2))</td>\n",
       "                        <td id=\"T_9b8e952c_0b18_11ea_a184_80000208fe80row1_col29\" class=\"data row1 col29\" >TorchAdd()</td>\n",
       "                        <td id=\"T_9b8e952c_0b18_11ea_a184_80000208fe80row1_col30\" class=\"data row1 col30\" >BatchNorm2d(128, eps=1e-05, momentum=0.1, affine=True, track_running_stats=True)</td>\n",
       "                        <td id=\"T_9b8e952c_0b18_11ea_a184_80000208fe80row1_col31\" class=\"data row1 col31\" >ReLU()</td>\n",
       "                        <td id=\"T_9b8e952c_0b18_11ea_a184_80000208fe80row1_col32\" class=\"data row1 col32\" >Conv2d(128, 128, kernel_size=(3, 3), stride=(1, 1), padding=(1, 1))</td>\n",
       "                        <td id=\"T_9b8e952c_0b18_11ea_a184_80000208fe80row1_col33\" class=\"data row1 col33\" >BatchNorm2d(128, eps=1e-05, momentum=0.1, affine=True, track_running_stats=True)</td>\n",
       "                        <td id=\"T_9b8e952c_0b18_11ea_a184_80000208fe80row1_col34\" class=\"data row1 col34\" >ReLU()</td>\n",
       "                        <td id=\"T_9b8e952c_0b18_11ea_a184_80000208fe80row1_col35\" class=\"data row1 col35\" >Conv2d(128, 128, kernel_size=(3, 3), stride=(1, 1), padding=(1, 1))</td>\n",
       "                        <td id=\"T_9b8e952c_0b18_11ea_a184_80000208fe80row1_col36\" class=\"data row1 col36\" >ReLU()</td>\n",
       "                        <td id=\"T_9b8e952c_0b18_11ea_a184_80000208fe80row1_col37\" class=\"data row1 col37\" >Conv2d(128, 128, kernel_size=(1, 1), stride=(1, 1))</td>\n",
       "                        <td id=\"T_9b8e952c_0b18_11ea_a184_80000208fe80row1_col38\" class=\"data row1 col38\" >TorchAdd()</td>\n",
       "                        <td id=\"T_9b8e952c_0b18_11ea_a184_80000208fe80row1_col39\" class=\"data row1 col39\" >BatchNorm2d(128, eps=1e-05, momentum=0.1, affine=True, track_running_stats=True)</td>\n",
       "                        <td id=\"T_9b8e952c_0b18_11ea_a184_80000208fe80row1_col40\" class=\"data row1 col40\" >ReLU()</td>\n",
       "                        <td id=\"T_9b8e952c_0b18_11ea_a184_80000208fe80row1_col41\" class=\"data row1 col41\" >Conv2d(128, 256, kernel_size=(3, 3), stride=(2, 2), padding=(1, 1))</td>\n",
       "                        <td id=\"T_9b8e952c_0b18_11ea_a184_80000208fe80row1_col42\" class=\"data row1 col42\" >BatchNorm2d(256, eps=1e-05, momentum=0.1, affine=True, track_running_stats=True)</td>\n",
       "                        <td id=\"T_9b8e952c_0b18_11ea_a184_80000208fe80row1_col43\" class=\"data row1 col43\" >ReLU()</td>\n",
       "                        <td id=\"T_9b8e952c_0b18_11ea_a184_80000208fe80row1_col44\" class=\"data row1 col44\" >Conv2d(256, 256, kernel_size=(3, 3), stride=(1, 1), padding=(1, 1))</td>\n",
       "                        <td id=\"T_9b8e952c_0b18_11ea_a184_80000208fe80row1_col45\" class=\"data row1 col45\" >ReLU()</td>\n",
       "                        <td id=\"T_9b8e952c_0b18_11ea_a184_80000208fe80row1_col46\" class=\"data row1 col46\" >Conv2d(128, 256, kernel_size=(1, 1), stride=(2, 2))</td>\n",
       "                        <td id=\"T_9b8e952c_0b18_11ea_a184_80000208fe80row1_col47\" class=\"data row1 col47\" >TorchAdd()</td>\n",
       "                        <td id=\"T_9b8e952c_0b18_11ea_a184_80000208fe80row1_col48\" class=\"data row1 col48\" >BatchNorm2d(256, eps=1e-05, momentum=0.1, affine=True, track_running_stats=True)</td>\n",
       "                        <td id=\"T_9b8e952c_0b18_11ea_a184_80000208fe80row1_col49\" class=\"data row1 col49\" >ReLU()</td>\n",
       "                        <td id=\"T_9b8e952c_0b18_11ea_a184_80000208fe80row1_col50\" class=\"data row1 col50\" >Conv2d(256, 256, kernel_size=(3, 3), stride=(1, 1), padding=(1, 1))</td>\n",
       "                        <td id=\"T_9b8e952c_0b18_11ea_a184_80000208fe80row1_col51\" class=\"data row1 col51\" >BatchNorm2d(256, eps=1e-05, momentum=0.1, affine=True, track_running_stats=True)</td>\n",
       "                        <td id=\"T_9b8e952c_0b18_11ea_a184_80000208fe80row1_col52\" class=\"data row1 col52\" >ReLU()</td>\n",
       "                        <td id=\"T_9b8e952c_0b18_11ea_a184_80000208fe80row1_col53\" class=\"data row1 col53\" >Conv2d(256, 256, kernel_size=(3, 3), stride=(1, 1), padding=(1, 1))</td>\n",
       "                        <td id=\"T_9b8e952c_0b18_11ea_a184_80000208fe80row1_col54\" class=\"data row1 col54\" >ReLU()</td>\n",
       "                        <td id=\"T_9b8e952c_0b18_11ea_a184_80000208fe80row1_col55\" class=\"data row1 col55\" >Conv2d(256, 256, kernel_size=(1, 1), stride=(1, 1))</td>\n",
       "                        <td id=\"T_9b8e952c_0b18_11ea_a184_80000208fe80row1_col56\" class=\"data row1 col56\" >TorchAdd()</td>\n",
       "                        <td id=\"T_9b8e952c_0b18_11ea_a184_80000208fe80row1_col57\" class=\"data row1 col57\" >BatchNorm2d(256, eps=1e-05, momentum=0.1, affine=True, track_running_stats=True)</td>\n",
       "                        <td id=\"T_9b8e952c_0b18_11ea_a184_80000208fe80row1_col58\" class=\"data row1 col58\" >ReLU()</td>\n",
       "                        <td id=\"T_9b8e952c_0b18_11ea_a184_80000208fe80row1_col59\" class=\"data row1 col59\" >Conv2d(256, 512, kernel_size=(3, 3), stride=(2, 2), padding=(1, 1))</td>\n",
       "                        <td id=\"T_9b8e952c_0b18_11ea_a184_80000208fe80row1_col60\" class=\"data row1 col60\" >BatchNorm2d(512, eps=1e-05, momentum=0.1, affine=True, track_running_stats=True)</td>\n",
       "                        <td id=\"T_9b8e952c_0b18_11ea_a184_80000208fe80row1_col61\" class=\"data row1 col61\" >ReLU()</td>\n",
       "                        <td id=\"T_9b8e952c_0b18_11ea_a184_80000208fe80row1_col62\" class=\"data row1 col62\" >Conv2d(512, 512, kernel_size=(3, 3), stride=(1, 1), padding=(1, 1))</td>\n",
       "                        <td id=\"T_9b8e952c_0b18_11ea_a184_80000208fe80row1_col63\" class=\"data row1 col63\" >ReLU()</td>\n",
       "                        <td id=\"T_9b8e952c_0b18_11ea_a184_80000208fe80row1_col64\" class=\"data row1 col64\" >Conv2d(256, 512, kernel_size=(1, 1), stride=(2, 2))</td>\n",
       "                        <td id=\"T_9b8e952c_0b18_11ea_a184_80000208fe80row1_col65\" class=\"data row1 col65\" >TorchAdd()</td>\n",
       "                        <td id=\"T_9b8e952c_0b18_11ea_a184_80000208fe80row1_col66\" class=\"data row1 col66\" >BatchNorm2d(512, eps=1e-05, momentum=0.1, affine=True, track_running_stats=True)</td>\n",
       "                        <td id=\"T_9b8e952c_0b18_11ea_a184_80000208fe80row1_col67\" class=\"data row1 col67\" >ReLU()</td>\n",
       "                        <td id=\"T_9b8e952c_0b18_11ea_a184_80000208fe80row1_col68\" class=\"data row1 col68\" >Conv2d(512, 512, kernel_size=(3, 3), stride=(1, 1), padding=(1, 1))</td>\n",
       "                        <td id=\"T_9b8e952c_0b18_11ea_a184_80000208fe80row1_col69\" class=\"data row1 col69\" >BatchNorm2d(512, eps=1e-05, momentum=0.1, affine=True, track_running_stats=True)</td>\n",
       "                        <td id=\"T_9b8e952c_0b18_11ea_a184_80000208fe80row1_col70\" class=\"data row1 col70\" >ReLU()</td>\n",
       "                        <td id=\"T_9b8e952c_0b18_11ea_a184_80000208fe80row1_col71\" class=\"data row1 col71\" >Conv2d(512, 512, kernel_size=(3, 3), stride=(1, 1), padding=(1, 1))</td>\n",
       "                        <td id=\"T_9b8e952c_0b18_11ea_a184_80000208fe80row1_col72\" class=\"data row1 col72\" >ReLU()</td>\n",
       "                        <td id=\"T_9b8e952c_0b18_11ea_a184_80000208fe80row1_col73\" class=\"data row1 col73\" >Conv2d(512, 512, kernel_size=(1, 1), stride=(1, 1))</td>\n",
       "                        <td id=\"T_9b8e952c_0b18_11ea_a184_80000208fe80row1_col74\" class=\"data row1 col74\" >TorchAdd()</td>\n",
       "                        <td id=\"T_9b8e952c_0b18_11ea_a184_80000208fe80row1_col75\" class=\"data row1 col75\" >GlobalAvgPool2d()</td>\n",
       "                        <td id=\"T_9b8e952c_0b18_11ea_a184_80000208fe80row1_col76\" class=\"data row1 col76\" >Linear(in_features=512, out_features=10, bias=True)</td>\n",
       "            </tr>\n",
       "            <tr>\n",
       "                                <td id=\"T_9b8e952c_0b18_11ea_a184_80000208fe80row2_col0\" class=\"data row2 col0\" >6.4</td>\n",
       "                        <td id=\"T_9b8e952c_0b18_11ea_a184_80000208fe80row2_col1\" class=\"data row2 col1\" >Conv2d(1, 64, kernel_size=(3, 3), stride=(1, 1), padding=(1, 1))</td>\n",
       "                        <td id=\"T_9b8e952c_0b18_11ea_a184_80000208fe80row2_col2\" class=\"data row2 col2\" >BatchNorm2d(64, eps=1e-05, momentum=0.1, affine=True, track_running_stats=True)</td>\n",
       "                        <td id=\"T_9b8e952c_0b18_11ea_a184_80000208fe80row2_col3\" class=\"data row2 col3\" >BatchNorm2d(64, eps=1e-05, momentum=0.1, affine=True, track_running_stats=True)</td>\n",
       "                        <td id=\"T_9b8e952c_0b18_11ea_a184_80000208fe80row2_col4\" class=\"data row2 col4\" >ReLU()</td>\n",
       "                        <td id=\"T_9b8e952c_0b18_11ea_a184_80000208fe80row2_col5\" class=\"data row2 col5\" >Conv2d(64, 64, kernel_size=(3, 3), stride=(1, 1), padding=(1, 1))</td>\n",
       "                        <td id=\"T_9b8e952c_0b18_11ea_a184_80000208fe80row2_col6\" class=\"data row2 col6\" >BatchNorm2d(64, eps=1e-05, momentum=0.1, affine=True, track_running_stats=True)</td>\n",
       "                        <td id=\"T_9b8e952c_0b18_11ea_a184_80000208fe80row2_col7\" class=\"data row2 col7\" >ReLU()</td>\n",
       "                        <td id=\"T_9b8e952c_0b18_11ea_a184_80000208fe80row2_col8\" class=\"data row2 col8\" >Conv2d(64, 64, kernel_size=(3, 3), stride=(1, 1), padding=(1, 1))</td>\n",
       "                        <td id=\"T_9b8e952c_0b18_11ea_a184_80000208fe80row2_col9\" class=\"data row2 col9\" >ReLU()</td>\n",
       "                        <td id=\"T_9b8e952c_0b18_11ea_a184_80000208fe80row2_col10\" class=\"data row2 col10\" >Conv2d(64, 64, kernel_size=(1, 1), stride=(1, 1))</td>\n",
       "                        <td id=\"T_9b8e952c_0b18_11ea_a184_80000208fe80row2_col11\" class=\"data row2 col11\" >TorchAdd()</td>\n",
       "                        <td id=\"T_9b8e952c_0b18_11ea_a184_80000208fe80row2_col12\" class=\"data row2 col12\" >BatchNorm2d(64, eps=1e-05, momentum=0.1, affine=True, track_running_stats=True)</td>\n",
       "                        <td id=\"T_9b8e952c_0b18_11ea_a184_80000208fe80row2_col13\" class=\"data row2 col13\" >ReLU()</td>\n",
       "                        <td id=\"T_9b8e952c_0b18_11ea_a184_80000208fe80row2_col14\" class=\"data row2 col14\" >Conv2d(64, 64, kernel_size=(3, 3), stride=(1, 1), padding=(1, 1))</td>\n",
       "                        <td id=\"T_9b8e952c_0b18_11ea_a184_80000208fe80row2_col15\" class=\"data row2 col15\" >BatchNorm2d(64, eps=1e-05, momentum=0.1, affine=True, track_running_stats=True)</td>\n",
       "                        <td id=\"T_9b8e952c_0b18_11ea_a184_80000208fe80row2_col16\" class=\"data row2 col16\" >ReLU()</td>\n",
       "                        <td id=\"T_9b8e952c_0b18_11ea_a184_80000208fe80row2_col17\" class=\"data row2 col17\" >Conv2d(64, 64, kernel_size=(3, 3), stride=(1, 1), padding=(1, 1))</td>\n",
       "                        <td id=\"T_9b8e952c_0b18_11ea_a184_80000208fe80row2_col18\" class=\"data row2 col18\" >ReLU()</td>\n",
       "                        <td id=\"T_9b8e952c_0b18_11ea_a184_80000208fe80row2_col19\" class=\"data row2 col19\" >Conv2d(64, 64, kernel_size=(1, 1), stride=(1, 1))</td>\n",
       "                        <td id=\"T_9b8e952c_0b18_11ea_a184_80000208fe80row2_col20\" class=\"data row2 col20\" >TorchAdd()</td>\n",
       "                        <td id=\"T_9b8e952c_0b18_11ea_a184_80000208fe80row2_col21\" class=\"data row2 col21\" >BatchNorm2d(64, eps=1e-05, momentum=0.1, affine=True, track_running_stats=True)</td>\n",
       "                        <td id=\"T_9b8e952c_0b18_11ea_a184_80000208fe80row2_col22\" class=\"data row2 col22\" >ReLU()</td>\n",
       "                        <td id=\"T_9b8e952c_0b18_11ea_a184_80000208fe80row2_col23\" class=\"data row2 col23\" >Conv2d(64, 128, kernel_size=(3, 3), stride=(2, 2), padding=(1, 1))</td>\n",
       "                        <td id=\"T_9b8e952c_0b18_11ea_a184_80000208fe80row2_col24\" class=\"data row2 col24\" >BatchNorm2d(128, eps=1e-05, momentum=0.1, affine=True, track_running_stats=True)</td>\n",
       "                        <td id=\"T_9b8e952c_0b18_11ea_a184_80000208fe80row2_col25\" class=\"data row2 col25\" >ReLU()</td>\n",
       "                        <td id=\"T_9b8e952c_0b18_11ea_a184_80000208fe80row2_col26\" class=\"data row2 col26\" >Conv2d(128, 128, kernel_size=(3, 3), stride=(1, 1), padding=(1, 1))</td>\n",
       "                        <td id=\"T_9b8e952c_0b18_11ea_a184_80000208fe80row2_col27\" class=\"data row2 col27\" >ReLU()</td>\n",
       "                        <td id=\"T_9b8e952c_0b18_11ea_a184_80000208fe80row2_col28\" class=\"data row2 col28\" >Conv2d(64, 128, kernel_size=(1, 1), stride=(2, 2))</td>\n",
       "                        <td id=\"T_9b8e952c_0b18_11ea_a184_80000208fe80row2_col29\" class=\"data row2 col29\" >TorchAdd()</td>\n",
       "                        <td id=\"T_9b8e952c_0b18_11ea_a184_80000208fe80row2_col30\" class=\"data row2 col30\" >BatchNorm2d(128, eps=1e-05, momentum=0.1, affine=True, track_running_stats=True)</td>\n",
       "                        <td id=\"T_9b8e952c_0b18_11ea_a184_80000208fe80row2_col31\" class=\"data row2 col31\" >ReLU()</td>\n",
       "                        <td id=\"T_9b8e952c_0b18_11ea_a184_80000208fe80row2_col32\" class=\"data row2 col32\" >Conv2d(128, 128, kernel_size=(3, 3), stride=(1, 1), padding=(1, 1))</td>\n",
       "                        <td id=\"T_9b8e952c_0b18_11ea_a184_80000208fe80row2_col33\" class=\"data row2 col33\" >BatchNorm2d(128, eps=1e-05, momentum=0.1, affine=True, track_running_stats=True)</td>\n",
       "                        <td id=\"T_9b8e952c_0b18_11ea_a184_80000208fe80row2_col34\" class=\"data row2 col34\" >ReLU()</td>\n",
       "                        <td id=\"T_9b8e952c_0b18_11ea_a184_80000208fe80row2_col35\" class=\"data row2 col35\" >Conv2d(128, 128, kernel_size=(3, 3), stride=(1, 1), padding=(1, 1))</td>\n",
       "                        <td id=\"T_9b8e952c_0b18_11ea_a184_80000208fe80row2_col36\" class=\"data row2 col36\" >ReLU()</td>\n",
       "                        <td id=\"T_9b8e952c_0b18_11ea_a184_80000208fe80row2_col37\" class=\"data row2 col37\" >Conv2d(128, 128, kernel_size=(1, 1), stride=(1, 1))</td>\n",
       "                        <td id=\"T_9b8e952c_0b18_11ea_a184_80000208fe80row2_col38\" class=\"data row2 col38\" >TorchAdd()</td>\n",
       "                        <td id=\"T_9b8e952c_0b18_11ea_a184_80000208fe80row2_col39\" class=\"data row2 col39\" >BatchNorm2d(128, eps=1e-05, momentum=0.1, affine=True, track_running_stats=True)</td>\n",
       "                        <td id=\"T_9b8e952c_0b18_11ea_a184_80000208fe80row2_col40\" class=\"data row2 col40\" >ReLU()</td>\n",
       "                        <td id=\"T_9b8e952c_0b18_11ea_a184_80000208fe80row2_col41\" class=\"data row2 col41\" >Conv2d(128, 256, kernel_size=(3, 3), stride=(2, 2), padding=(1, 1))</td>\n",
       "                        <td id=\"T_9b8e952c_0b18_11ea_a184_80000208fe80row2_col42\" class=\"data row2 col42\" >BatchNorm2d(256, eps=1e-05, momentum=0.1, affine=True, track_running_stats=True)</td>\n",
       "                        <td id=\"T_9b8e952c_0b18_11ea_a184_80000208fe80row2_col43\" class=\"data row2 col43\" >ReLU()</td>\n",
       "                        <td id=\"T_9b8e952c_0b18_11ea_a184_80000208fe80row2_col44\" class=\"data row2 col44\" >Conv2d(256, 256, kernel_size=(3, 3), stride=(1, 1), padding=(1, 1))</td>\n",
       "                        <td id=\"T_9b8e952c_0b18_11ea_a184_80000208fe80row2_col45\" class=\"data row2 col45\" >ReLU()</td>\n",
       "                        <td id=\"T_9b8e952c_0b18_11ea_a184_80000208fe80row2_col46\" class=\"data row2 col46\" >Conv2d(128, 256, kernel_size=(1, 1), stride=(2, 2))</td>\n",
       "                        <td id=\"T_9b8e952c_0b18_11ea_a184_80000208fe80row2_col47\" class=\"data row2 col47\" >TorchAdd()</td>\n",
       "                        <td id=\"T_9b8e952c_0b18_11ea_a184_80000208fe80row2_col48\" class=\"data row2 col48\" >BatchNorm2d(256, eps=1e-05, momentum=0.1, affine=True, track_running_stats=True)</td>\n",
       "                        <td id=\"T_9b8e952c_0b18_11ea_a184_80000208fe80row2_col49\" class=\"data row2 col49\" >ReLU()</td>\n",
       "                        <td id=\"T_9b8e952c_0b18_11ea_a184_80000208fe80row2_col50\" class=\"data row2 col50\" >Conv2d(256, 256, kernel_size=(3, 3), stride=(1, 1), padding=(1, 1))</td>\n",
       "                        <td id=\"T_9b8e952c_0b18_11ea_a184_80000208fe80row2_col51\" class=\"data row2 col51\" >BatchNorm2d(256, eps=1e-05, momentum=0.1, affine=True, track_running_stats=True)</td>\n",
       "                        <td id=\"T_9b8e952c_0b18_11ea_a184_80000208fe80row2_col52\" class=\"data row2 col52\" >ReLU()</td>\n",
       "                        <td id=\"T_9b8e952c_0b18_11ea_a184_80000208fe80row2_col53\" class=\"data row2 col53\" >Conv2d(256, 256, kernel_size=(3, 3), stride=(1, 1), padding=(1, 1))</td>\n",
       "                        <td id=\"T_9b8e952c_0b18_11ea_a184_80000208fe80row2_col54\" class=\"data row2 col54\" >ReLU()</td>\n",
       "                        <td id=\"T_9b8e952c_0b18_11ea_a184_80000208fe80row2_col55\" class=\"data row2 col55\" >Conv2d(256, 256, kernel_size=(1, 1), stride=(1, 1))</td>\n",
       "                        <td id=\"T_9b8e952c_0b18_11ea_a184_80000208fe80row2_col56\" class=\"data row2 col56\" >TorchAdd()</td>\n",
       "                        <td id=\"T_9b8e952c_0b18_11ea_a184_80000208fe80row2_col57\" class=\"data row2 col57\" >BatchNorm2d(256, eps=1e-05, momentum=0.1, affine=True, track_running_stats=True)</td>\n",
       "                        <td id=\"T_9b8e952c_0b18_11ea_a184_80000208fe80row2_col58\" class=\"data row2 col58\" >ReLU()</td>\n",
       "                        <td id=\"T_9b8e952c_0b18_11ea_a184_80000208fe80row2_col59\" class=\"data row2 col59\" >Conv2d(256, 512, kernel_size=(3, 3), stride=(2, 2), padding=(1, 1))</td>\n",
       "                        <td id=\"T_9b8e952c_0b18_11ea_a184_80000208fe80row2_col60\" class=\"data row2 col60\" >BatchNorm2d(512, eps=1e-05, momentum=0.1, affine=True, track_running_stats=True)</td>\n",
       "                        <td id=\"T_9b8e952c_0b18_11ea_a184_80000208fe80row2_col61\" class=\"data row2 col61\" >ReLU()</td>\n",
       "                        <td id=\"T_9b8e952c_0b18_11ea_a184_80000208fe80row2_col62\" class=\"data row2 col62\" >Conv2d(512, 512, kernel_size=(3, 3), stride=(1, 1), padding=(1, 1))</td>\n",
       "                        <td id=\"T_9b8e952c_0b18_11ea_a184_80000208fe80row2_col63\" class=\"data row2 col63\" >ReLU()</td>\n",
       "                        <td id=\"T_9b8e952c_0b18_11ea_a184_80000208fe80row2_col64\" class=\"data row2 col64\" >Conv2d(256, 512, kernel_size=(1, 1), stride=(2, 2))</td>\n",
       "                        <td id=\"T_9b8e952c_0b18_11ea_a184_80000208fe80row2_col65\" class=\"data row2 col65\" >TorchAdd()</td>\n",
       "                        <td id=\"T_9b8e952c_0b18_11ea_a184_80000208fe80row2_col66\" class=\"data row2 col66\" >BatchNorm2d(512, eps=1e-05, momentum=0.1, affine=True, track_running_stats=True)</td>\n",
       "                        <td id=\"T_9b8e952c_0b18_11ea_a184_80000208fe80row2_col67\" class=\"data row2 col67\" >ReLU()</td>\n",
       "                        <td id=\"T_9b8e952c_0b18_11ea_a184_80000208fe80row2_col68\" class=\"data row2 col68\" >Conv2d(512, 512, kernel_size=(3, 3), stride=(1, 1), padding=(1, 1))</td>\n",
       "                        <td id=\"T_9b8e952c_0b18_11ea_a184_80000208fe80row2_col69\" class=\"data row2 col69\" >BatchNorm2d(512, eps=1e-05, momentum=0.1, affine=True, track_running_stats=True)</td>\n",
       "                        <td id=\"T_9b8e952c_0b18_11ea_a184_80000208fe80row2_col70\" class=\"data row2 col70\" >ReLU()</td>\n",
       "                        <td id=\"T_9b8e952c_0b18_11ea_a184_80000208fe80row2_col71\" class=\"data row2 col71\" >Conv2d(512, 512, kernel_size=(3, 3), stride=(1, 1), padding=(1, 1))</td>\n",
       "                        <td id=\"T_9b8e952c_0b18_11ea_a184_80000208fe80row2_col72\" class=\"data row2 col72\" >ReLU()</td>\n",
       "                        <td id=\"T_9b8e952c_0b18_11ea_a184_80000208fe80row2_col73\" class=\"data row2 col73\" >Conv2d(512, 512, kernel_size=(1, 1), stride=(1, 1))</td>\n",
       "                        <td id=\"T_9b8e952c_0b18_11ea_a184_80000208fe80row2_col74\" class=\"data row2 col74\" >TorchAdd()</td>\n",
       "                        <td id=\"T_9b8e952c_0b18_11ea_a184_80000208fe80row2_col75\" class=\"data row2 col75\" >GlobalAvgPool2d()</td>\n",
       "                        <td id=\"T_9b8e952c_0b18_11ea_a184_80000208fe80row2_col76\" class=\"data row2 col76\" >Linear(in_features=512, out_features=10, bias=True)</td>\n",
       "            </tr>\n",
       "            <tr>\n",
       "                                <td id=\"T_9b8e952c_0b18_11ea_a184_80000208fe80row3_col0\" class=\"data row3 col0\" >9.6</td>\n",
       "                        <td id=\"T_9b8e952c_0b18_11ea_a184_80000208fe80row3_col1\" class=\"data row3 col1\" >Conv2d(1, 64, kernel_size=(3, 3), stride=(1, 1), padding=(1, 1))</td>\n",
       "                        <td id=\"T_9b8e952c_0b18_11ea_a184_80000208fe80row3_col2\" class=\"data row3 col2\" >BatchNorm2d(64, eps=1e-05, momentum=0.1, affine=True, track_running_stats=True)</td>\n",
       "                        <td id=\"T_9b8e952c_0b18_11ea_a184_80000208fe80row3_col3\" class=\"data row3 col3\" >BatchNorm2d(64, eps=1e-05, momentum=0.1, affine=True, track_running_stats=True)</td>\n",
       "                        <td id=\"T_9b8e952c_0b18_11ea_a184_80000208fe80row3_col4\" class=\"data row3 col4\" >ReLU()</td>\n",
       "                        <td id=\"T_9b8e952c_0b18_11ea_a184_80000208fe80row3_col5\" class=\"data row3 col5\" >Conv2d(64, 64, kernel_size=(3, 3), stride=(1, 1), padding=(1, 1))</td>\n",
       "                        <td id=\"T_9b8e952c_0b18_11ea_a184_80000208fe80row3_col6\" class=\"data row3 col6\" >BatchNorm2d(64, eps=1e-05, momentum=0.1, affine=True, track_running_stats=True)</td>\n",
       "                        <td id=\"T_9b8e952c_0b18_11ea_a184_80000208fe80row3_col7\" class=\"data row3 col7\" >ReLU()</td>\n",
       "                        <td id=\"T_9b8e952c_0b18_11ea_a184_80000208fe80row3_col8\" class=\"data row3 col8\" >Conv2d(64, 64, kernel_size=(3, 3), stride=(1, 1), padding=(1, 1))</td>\n",
       "                        <td id=\"T_9b8e952c_0b18_11ea_a184_80000208fe80row3_col9\" class=\"data row3 col9\" >ReLU()</td>\n",
       "                        <td id=\"T_9b8e952c_0b18_11ea_a184_80000208fe80row3_col10\" class=\"data row3 col10\" >Conv2d(64, 64, kernel_size=(1, 1), stride=(1, 1))</td>\n",
       "                        <td id=\"T_9b8e952c_0b18_11ea_a184_80000208fe80row3_col11\" class=\"data row3 col11\" >TorchAdd()</td>\n",
       "                        <td id=\"T_9b8e952c_0b18_11ea_a184_80000208fe80row3_col12\" class=\"data row3 col12\" >BatchNorm2d(64, eps=1e-05, momentum=0.1, affine=True, track_running_stats=True)</td>\n",
       "                        <td id=\"T_9b8e952c_0b18_11ea_a184_80000208fe80row3_col13\" class=\"data row3 col13\" >ReLU()</td>\n",
       "                        <td id=\"T_9b8e952c_0b18_11ea_a184_80000208fe80row3_col14\" class=\"data row3 col14\" >Conv2d(64, 64, kernel_size=(3, 3), stride=(1, 1), padding=(1, 1))</td>\n",
       "                        <td id=\"T_9b8e952c_0b18_11ea_a184_80000208fe80row3_col15\" class=\"data row3 col15\" >BatchNorm2d(64, eps=1e-05, momentum=0.1, affine=True, track_running_stats=True)</td>\n",
       "                        <td id=\"T_9b8e952c_0b18_11ea_a184_80000208fe80row3_col16\" class=\"data row3 col16\" >ReLU()</td>\n",
       "                        <td id=\"T_9b8e952c_0b18_11ea_a184_80000208fe80row3_col17\" class=\"data row3 col17\" >Conv2d(64, 64, kernel_size=(3, 3), stride=(1, 1), padding=(1, 1))</td>\n",
       "                        <td id=\"T_9b8e952c_0b18_11ea_a184_80000208fe80row3_col18\" class=\"data row3 col18\" >ReLU()</td>\n",
       "                        <td id=\"T_9b8e952c_0b18_11ea_a184_80000208fe80row3_col19\" class=\"data row3 col19\" >Conv2d(64, 64, kernel_size=(1, 1), stride=(1, 1))</td>\n",
       "                        <td id=\"T_9b8e952c_0b18_11ea_a184_80000208fe80row3_col20\" class=\"data row3 col20\" >TorchAdd()</td>\n",
       "                        <td id=\"T_9b8e952c_0b18_11ea_a184_80000208fe80row3_col21\" class=\"data row3 col21\" >BatchNorm2d(64, eps=1e-05, momentum=0.1, affine=True, track_running_stats=True)</td>\n",
       "                        <td id=\"T_9b8e952c_0b18_11ea_a184_80000208fe80row3_col22\" class=\"data row3 col22\" >ReLU()</td>\n",
       "                        <td id=\"T_9b8e952c_0b18_11ea_a184_80000208fe80row3_col23\" class=\"data row3 col23\" >Conv2d(64, 128, kernel_size=(3, 3), stride=(2, 2), padding=(1, 1))</td>\n",
       "                        <td id=\"T_9b8e952c_0b18_11ea_a184_80000208fe80row3_col24\" class=\"data row3 col24\" >BatchNorm2d(128, eps=1e-05, momentum=0.1, affine=True, track_running_stats=True)</td>\n",
       "                        <td id=\"T_9b8e952c_0b18_11ea_a184_80000208fe80row3_col25\" class=\"data row3 col25\" >ReLU()</td>\n",
       "                        <td id=\"T_9b8e952c_0b18_11ea_a184_80000208fe80row3_col26\" class=\"data row3 col26\" >Conv2d(128, 128, kernel_size=(3, 3), stride=(1, 1), padding=(1, 1))</td>\n",
       "                        <td id=\"T_9b8e952c_0b18_11ea_a184_80000208fe80row3_col27\" class=\"data row3 col27\" >ReLU()</td>\n",
       "                        <td id=\"T_9b8e952c_0b18_11ea_a184_80000208fe80row3_col28\" class=\"data row3 col28\" >Conv2d(64, 128, kernel_size=(1, 1), stride=(2, 2))</td>\n",
       "                        <td id=\"T_9b8e952c_0b18_11ea_a184_80000208fe80row3_col29\" class=\"data row3 col29\" >TorchAdd()</td>\n",
       "                        <td id=\"T_9b8e952c_0b18_11ea_a184_80000208fe80row3_col30\" class=\"data row3 col30\" >BatchNorm2d(128, eps=1e-05, momentum=0.1, affine=True, track_running_stats=True)</td>\n",
       "                        <td id=\"T_9b8e952c_0b18_11ea_a184_80000208fe80row3_col31\" class=\"data row3 col31\" >ReLU()</td>\n",
       "                        <td id=\"T_9b8e952c_0b18_11ea_a184_80000208fe80row3_col32\" class=\"data row3 col32\" >Conv2d(128, 128, kernel_size=(3, 3), stride=(1, 1), padding=(1, 1))</td>\n",
       "                        <td id=\"T_9b8e952c_0b18_11ea_a184_80000208fe80row3_col33\" class=\"data row3 col33\" >BatchNorm2d(128, eps=1e-05, momentum=0.1, affine=True, track_running_stats=True)</td>\n",
       "                        <td id=\"T_9b8e952c_0b18_11ea_a184_80000208fe80row3_col34\" class=\"data row3 col34\" >ReLU()</td>\n",
       "                        <td id=\"T_9b8e952c_0b18_11ea_a184_80000208fe80row3_col35\" class=\"data row3 col35\" >Conv2d(128, 128, kernel_size=(3, 3), stride=(1, 1), padding=(1, 1))</td>\n",
       "                        <td id=\"T_9b8e952c_0b18_11ea_a184_80000208fe80row3_col36\" class=\"data row3 col36\" >ReLU()</td>\n",
       "                        <td id=\"T_9b8e952c_0b18_11ea_a184_80000208fe80row3_col37\" class=\"data row3 col37\" >Conv2d(128, 128, kernel_size=(1, 1), stride=(1, 1))</td>\n",
       "                        <td id=\"T_9b8e952c_0b18_11ea_a184_80000208fe80row3_col38\" class=\"data row3 col38\" >TorchAdd()</td>\n",
       "                        <td id=\"T_9b8e952c_0b18_11ea_a184_80000208fe80row3_col39\" class=\"data row3 col39\" >BatchNorm2d(128, eps=1e-05, momentum=0.1, affine=True, track_running_stats=True)</td>\n",
       "                        <td id=\"T_9b8e952c_0b18_11ea_a184_80000208fe80row3_col40\" class=\"data row3 col40\" >ReLU()</td>\n",
       "                        <td id=\"T_9b8e952c_0b18_11ea_a184_80000208fe80row3_col41\" class=\"data row3 col41\" >Conv2d(128, 256, kernel_size=(3, 3), stride=(2, 2), padding=(1, 1))</td>\n",
       "                        <td id=\"T_9b8e952c_0b18_11ea_a184_80000208fe80row3_col42\" class=\"data row3 col42\" >BatchNorm2d(256, eps=1e-05, momentum=0.1, affine=True, track_running_stats=True)</td>\n",
       "                        <td id=\"T_9b8e952c_0b18_11ea_a184_80000208fe80row3_col43\" class=\"data row3 col43\" >ReLU()</td>\n",
       "                        <td id=\"T_9b8e952c_0b18_11ea_a184_80000208fe80row3_col44\" class=\"data row3 col44\" >Conv2d(256, 256, kernel_size=(3, 3), stride=(1, 1), padding=(1, 1))</td>\n",
       "                        <td id=\"T_9b8e952c_0b18_11ea_a184_80000208fe80row3_col45\" class=\"data row3 col45\" >ReLU()</td>\n",
       "                        <td id=\"T_9b8e952c_0b18_11ea_a184_80000208fe80row3_col46\" class=\"data row3 col46\" >Conv2d(128, 256, kernel_size=(1, 1), stride=(2, 2))</td>\n",
       "                        <td id=\"T_9b8e952c_0b18_11ea_a184_80000208fe80row3_col47\" class=\"data row3 col47\" >TorchAdd()</td>\n",
       "                        <td id=\"T_9b8e952c_0b18_11ea_a184_80000208fe80row3_col48\" class=\"data row3 col48\" >BatchNorm2d(256, eps=1e-05, momentum=0.1, affine=True, track_running_stats=True)</td>\n",
       "                        <td id=\"T_9b8e952c_0b18_11ea_a184_80000208fe80row3_col49\" class=\"data row3 col49\" >ReLU()</td>\n",
       "                        <td id=\"T_9b8e952c_0b18_11ea_a184_80000208fe80row3_col50\" class=\"data row3 col50\" >Conv2d(256, 256, kernel_size=(3, 3), stride=(1, 1), padding=(1, 1))</td>\n",
       "                        <td id=\"T_9b8e952c_0b18_11ea_a184_80000208fe80row3_col51\" class=\"data row3 col51\" >BatchNorm2d(256, eps=1e-05, momentum=0.1, affine=True, track_running_stats=True)</td>\n",
       "                        <td id=\"T_9b8e952c_0b18_11ea_a184_80000208fe80row3_col52\" class=\"data row3 col52\" >ReLU()</td>\n",
       "                        <td id=\"T_9b8e952c_0b18_11ea_a184_80000208fe80row3_col53\" class=\"data row3 col53\" >Conv2d(256, 256, kernel_size=(3, 3), stride=(1, 1), padding=(1, 1))</td>\n",
       "                        <td id=\"T_9b8e952c_0b18_11ea_a184_80000208fe80row3_col54\" class=\"data row3 col54\" >ReLU()</td>\n",
       "                        <td id=\"T_9b8e952c_0b18_11ea_a184_80000208fe80row3_col55\" class=\"data row3 col55\" >Conv2d(256, 256, kernel_size=(1, 1), stride=(1, 1))</td>\n",
       "                        <td id=\"T_9b8e952c_0b18_11ea_a184_80000208fe80row3_col56\" class=\"data row3 col56\" >TorchAdd()</td>\n",
       "                        <td id=\"T_9b8e952c_0b18_11ea_a184_80000208fe80row3_col57\" class=\"data row3 col57\" >BatchNorm2d(256, eps=1e-05, momentum=0.1, affine=True, track_running_stats=True)</td>\n",
       "                        <td id=\"T_9b8e952c_0b18_11ea_a184_80000208fe80row3_col58\" class=\"data row3 col58\" >ReLU()</td>\n",
       "                        <td id=\"T_9b8e952c_0b18_11ea_a184_80000208fe80row3_col59\" class=\"data row3 col59\" >Conv2d(256, 512, kernel_size=(3, 3), stride=(2, 2), padding=(1, 1))</td>\n",
       "                        <td id=\"T_9b8e952c_0b18_11ea_a184_80000208fe80row3_col60\" class=\"data row3 col60\" >BatchNorm2d(512, eps=1e-05, momentum=0.1, affine=True, track_running_stats=True)</td>\n",
       "                        <td id=\"T_9b8e952c_0b18_11ea_a184_80000208fe80row3_col61\" class=\"data row3 col61\" >ReLU()</td>\n",
       "                        <td id=\"T_9b8e952c_0b18_11ea_a184_80000208fe80row3_col62\" class=\"data row3 col62\" >Conv2d(512, 512, kernel_size=(3, 3), stride=(1, 1), padding=(1, 1))</td>\n",
       "                        <td id=\"T_9b8e952c_0b18_11ea_a184_80000208fe80row3_col63\" class=\"data row3 col63\" >ReLU()</td>\n",
       "                        <td id=\"T_9b8e952c_0b18_11ea_a184_80000208fe80row3_col64\" class=\"data row3 col64\" >Conv2d(256, 512, kernel_size=(1, 1), stride=(2, 2))</td>\n",
       "                        <td id=\"T_9b8e952c_0b18_11ea_a184_80000208fe80row3_col65\" class=\"data row3 col65\" >TorchAdd()</td>\n",
       "                        <td id=\"T_9b8e952c_0b18_11ea_a184_80000208fe80row3_col66\" class=\"data row3 col66\" >BatchNorm2d(512, eps=1e-05, momentum=0.1, affine=True, track_running_stats=True)</td>\n",
       "                        <td id=\"T_9b8e952c_0b18_11ea_a184_80000208fe80row3_col67\" class=\"data row3 col67\" >ReLU()</td>\n",
       "                        <td id=\"T_9b8e952c_0b18_11ea_a184_80000208fe80row3_col68\" class=\"data row3 col68\" >Conv2d(512, 512, kernel_size=(3, 3), stride=(1, 1), padding=(1, 1))</td>\n",
       "                        <td id=\"T_9b8e952c_0b18_11ea_a184_80000208fe80row3_col69\" class=\"data row3 col69\" >BatchNorm2d(512, eps=1e-05, momentum=0.1, affine=True, track_running_stats=True)</td>\n",
       "                        <td id=\"T_9b8e952c_0b18_11ea_a184_80000208fe80row3_col70\" class=\"data row3 col70\" >ReLU()</td>\n",
       "                        <td id=\"T_9b8e952c_0b18_11ea_a184_80000208fe80row3_col71\" class=\"data row3 col71\" >Conv2d(512, 512, kernel_size=(3, 3), stride=(1, 1), padding=(1, 1))</td>\n",
       "                        <td id=\"T_9b8e952c_0b18_11ea_a184_80000208fe80row3_col72\" class=\"data row3 col72\" >ReLU()</td>\n",
       "                        <td id=\"T_9b8e952c_0b18_11ea_a184_80000208fe80row3_col73\" class=\"data row3 col73\" >Conv2d(512, 512, kernel_size=(1, 1), stride=(1, 1))</td>\n",
       "                        <td id=\"T_9b8e952c_0b18_11ea_a184_80000208fe80row3_col74\" class=\"data row3 col74\" >TorchAdd()</td>\n",
       "                        <td id=\"T_9b8e952c_0b18_11ea_a184_80000208fe80row3_col75\" class=\"data row3 col75\" >GlobalAvgPool2d()</td>\n",
       "                        <td id=\"T_9b8e952c_0b18_11ea_a184_80000208fe80row3_col76\" class=\"data row3 col76\" >Linear(in_features=512, out_features=10, bias=True)</td>\n",
       "            </tr>\n",
       "            <tr>\n",
       "                                <td id=\"T_9b8e952c_0b18_11ea_a184_80000208fe80row4_col0\" class=\"data row4 col0\" >12.8</td>\n",
       "                        <td id=\"T_9b8e952c_0b18_11ea_a184_80000208fe80row4_col1\" class=\"data row4 col1\" >Conv2d(1, 64, kernel_size=(3, 3), stride=(1, 1), padding=(1, 1))</td>\n",
       "                        <td id=\"T_9b8e952c_0b18_11ea_a184_80000208fe80row4_col2\" class=\"data row4 col2\" >BatchNorm2d(64, eps=1e-05, momentum=0.1, affine=True, track_running_stats=True)</td>\n",
       "                        <td id=\"T_9b8e952c_0b18_11ea_a184_80000208fe80row4_col3\" class=\"data row4 col3\" >BatchNorm2d(64, eps=1e-05, momentum=0.1, affine=True, track_running_stats=True)</td>\n",
       "                        <td id=\"T_9b8e952c_0b18_11ea_a184_80000208fe80row4_col4\" class=\"data row4 col4\" >ReLU()</td>\n",
       "                        <td id=\"T_9b8e952c_0b18_11ea_a184_80000208fe80row4_col5\" class=\"data row4 col5\" >Conv2d(64, 64, kernel_size=(3, 3), stride=(1, 1), padding=(1, 1))</td>\n",
       "                        <td id=\"T_9b8e952c_0b18_11ea_a184_80000208fe80row4_col6\" class=\"data row4 col6\" >BatchNorm2d(64, eps=1e-05, momentum=0.1, affine=True, track_running_stats=True)</td>\n",
       "                        <td id=\"T_9b8e952c_0b18_11ea_a184_80000208fe80row4_col7\" class=\"data row4 col7\" >ReLU()</td>\n",
       "                        <td id=\"T_9b8e952c_0b18_11ea_a184_80000208fe80row4_col8\" class=\"data row4 col8\" >Conv2d(64, 64, kernel_size=(3, 3), stride=(1, 1), padding=(1, 1))</td>\n",
       "                        <td id=\"T_9b8e952c_0b18_11ea_a184_80000208fe80row4_col9\" class=\"data row4 col9\" >ReLU()</td>\n",
       "                        <td id=\"T_9b8e952c_0b18_11ea_a184_80000208fe80row4_col10\" class=\"data row4 col10\" >Conv2d(64, 64, kernel_size=(1, 1), stride=(1, 1))</td>\n",
       "                        <td id=\"T_9b8e952c_0b18_11ea_a184_80000208fe80row4_col11\" class=\"data row4 col11\" >TorchAdd()</td>\n",
       "                        <td id=\"T_9b8e952c_0b18_11ea_a184_80000208fe80row4_col12\" class=\"data row4 col12\" >BatchNorm2d(64, eps=1e-05, momentum=0.1, affine=True, track_running_stats=True)</td>\n",
       "                        <td id=\"T_9b8e952c_0b18_11ea_a184_80000208fe80row4_col13\" class=\"data row4 col13\" >ReLU()</td>\n",
       "                        <td id=\"T_9b8e952c_0b18_11ea_a184_80000208fe80row4_col14\" class=\"data row4 col14\" >Conv2d(64, 64, kernel_size=(3, 3), stride=(1, 1), padding=(1, 1))</td>\n",
       "                        <td id=\"T_9b8e952c_0b18_11ea_a184_80000208fe80row4_col15\" class=\"data row4 col15\" >BatchNorm2d(64, eps=1e-05, momentum=0.1, affine=True, track_running_stats=True)</td>\n",
       "                        <td id=\"T_9b8e952c_0b18_11ea_a184_80000208fe80row4_col16\" class=\"data row4 col16\" >ReLU()</td>\n",
       "                        <td id=\"T_9b8e952c_0b18_11ea_a184_80000208fe80row4_col17\" class=\"data row4 col17\" >Conv2d(64, 64, kernel_size=(3, 3), stride=(1, 1), padding=(1, 1))</td>\n",
       "                        <td id=\"T_9b8e952c_0b18_11ea_a184_80000208fe80row4_col18\" class=\"data row4 col18\" >ReLU()</td>\n",
       "                        <td id=\"T_9b8e952c_0b18_11ea_a184_80000208fe80row4_col19\" class=\"data row4 col19\" >Conv2d(64, 64, kernel_size=(1, 1), stride=(1, 1))</td>\n",
       "                        <td id=\"T_9b8e952c_0b18_11ea_a184_80000208fe80row4_col20\" class=\"data row4 col20\" >TorchAdd()</td>\n",
       "                        <td id=\"T_9b8e952c_0b18_11ea_a184_80000208fe80row4_col21\" class=\"data row4 col21\" >BatchNorm2d(64, eps=1e-05, momentum=0.1, affine=True, track_running_stats=True)</td>\n",
       "                        <td id=\"T_9b8e952c_0b18_11ea_a184_80000208fe80row4_col22\" class=\"data row4 col22\" >ReLU()</td>\n",
       "                        <td id=\"T_9b8e952c_0b18_11ea_a184_80000208fe80row4_col23\" class=\"data row4 col23\" >Conv2d(64, 128, kernel_size=(3, 3), stride=(2, 2), padding=(1, 1))</td>\n",
       "                        <td id=\"T_9b8e952c_0b18_11ea_a184_80000208fe80row4_col24\" class=\"data row4 col24\" >BatchNorm2d(128, eps=1e-05, momentum=0.1, affine=True, track_running_stats=True)</td>\n",
       "                        <td id=\"T_9b8e952c_0b18_11ea_a184_80000208fe80row4_col25\" class=\"data row4 col25\" >ReLU()</td>\n",
       "                        <td id=\"T_9b8e952c_0b18_11ea_a184_80000208fe80row4_col26\" class=\"data row4 col26\" >Conv2d(128, 128, kernel_size=(3, 3), stride=(1, 1), padding=(1, 1))</td>\n",
       "                        <td id=\"T_9b8e952c_0b18_11ea_a184_80000208fe80row4_col27\" class=\"data row4 col27\" >ReLU()</td>\n",
       "                        <td id=\"T_9b8e952c_0b18_11ea_a184_80000208fe80row4_col28\" class=\"data row4 col28\" >Conv2d(64, 128, kernel_size=(1, 1), stride=(2, 2))</td>\n",
       "                        <td id=\"T_9b8e952c_0b18_11ea_a184_80000208fe80row4_col29\" class=\"data row4 col29\" >TorchAdd()</td>\n",
       "                        <td id=\"T_9b8e952c_0b18_11ea_a184_80000208fe80row4_col30\" class=\"data row4 col30\" >BatchNorm2d(128, eps=1e-05, momentum=0.1, affine=True, track_running_stats=True)</td>\n",
       "                        <td id=\"T_9b8e952c_0b18_11ea_a184_80000208fe80row4_col31\" class=\"data row4 col31\" >ReLU()</td>\n",
       "                        <td id=\"T_9b8e952c_0b18_11ea_a184_80000208fe80row4_col32\" class=\"data row4 col32\" >Conv2d(128, 128, kernel_size=(3, 3), stride=(1, 1), padding=(1, 1))</td>\n",
       "                        <td id=\"T_9b8e952c_0b18_11ea_a184_80000208fe80row4_col33\" class=\"data row4 col33\" >BatchNorm2d(128, eps=1e-05, momentum=0.1, affine=True, track_running_stats=True)</td>\n",
       "                        <td id=\"T_9b8e952c_0b18_11ea_a184_80000208fe80row4_col34\" class=\"data row4 col34\" >ReLU()</td>\n",
       "                        <td id=\"T_9b8e952c_0b18_11ea_a184_80000208fe80row4_col35\" class=\"data row4 col35\" >Conv2d(128, 128, kernel_size=(3, 3), stride=(1, 1), padding=(1, 1))</td>\n",
       "                        <td id=\"T_9b8e952c_0b18_11ea_a184_80000208fe80row4_col36\" class=\"data row4 col36\" >ReLU()</td>\n",
       "                        <td id=\"T_9b8e952c_0b18_11ea_a184_80000208fe80row4_col37\" class=\"data row4 col37\" >Conv2d(128, 128, kernel_size=(1, 1), stride=(1, 1))</td>\n",
       "                        <td id=\"T_9b8e952c_0b18_11ea_a184_80000208fe80row4_col38\" class=\"data row4 col38\" >TorchAdd()</td>\n",
       "                        <td id=\"T_9b8e952c_0b18_11ea_a184_80000208fe80row4_col39\" class=\"data row4 col39\" >BatchNorm2d(128, eps=1e-05, momentum=0.1, affine=True, track_running_stats=True)</td>\n",
       "                        <td id=\"T_9b8e952c_0b18_11ea_a184_80000208fe80row4_col40\" class=\"data row4 col40\" >ReLU()</td>\n",
       "                        <td id=\"T_9b8e952c_0b18_11ea_a184_80000208fe80row4_col41\" class=\"data row4 col41\" >Conv2d(128, 256, kernel_size=(3, 3), stride=(2, 2), padding=(1, 1))</td>\n",
       "                        <td id=\"T_9b8e952c_0b18_11ea_a184_80000208fe80row4_col42\" class=\"data row4 col42\" >BatchNorm2d(256, eps=1e-05, momentum=0.1, affine=True, track_running_stats=True)</td>\n",
       "                        <td id=\"T_9b8e952c_0b18_11ea_a184_80000208fe80row4_col43\" class=\"data row4 col43\" >ReLU()</td>\n",
       "                        <td id=\"T_9b8e952c_0b18_11ea_a184_80000208fe80row4_col44\" class=\"data row4 col44\" >Conv2d(256, 256, kernel_size=(3, 3), stride=(1, 1), padding=(1, 1))</td>\n",
       "                        <td id=\"T_9b8e952c_0b18_11ea_a184_80000208fe80row4_col45\" class=\"data row4 col45\" >ReLU()</td>\n",
       "                        <td id=\"T_9b8e952c_0b18_11ea_a184_80000208fe80row4_col46\" class=\"data row4 col46\" >Conv2d(128, 256, kernel_size=(1, 1), stride=(2, 2))</td>\n",
       "                        <td id=\"T_9b8e952c_0b18_11ea_a184_80000208fe80row4_col47\" class=\"data row4 col47\" >TorchAdd()</td>\n",
       "                        <td id=\"T_9b8e952c_0b18_11ea_a184_80000208fe80row4_col48\" class=\"data row4 col48\" >BatchNorm2d(256, eps=1e-05, momentum=0.1, affine=True, track_running_stats=True)</td>\n",
       "                        <td id=\"T_9b8e952c_0b18_11ea_a184_80000208fe80row4_col49\" class=\"data row4 col49\" >ReLU()</td>\n",
       "                        <td id=\"T_9b8e952c_0b18_11ea_a184_80000208fe80row4_col50\" class=\"data row4 col50\" >Conv2d(256, 256, kernel_size=(3, 3), stride=(1, 1), padding=(1, 1))</td>\n",
       "                        <td id=\"T_9b8e952c_0b18_11ea_a184_80000208fe80row4_col51\" class=\"data row4 col51\" >BatchNorm2d(256, eps=1e-05, momentum=0.1, affine=True, track_running_stats=True)</td>\n",
       "                        <td id=\"T_9b8e952c_0b18_11ea_a184_80000208fe80row4_col52\" class=\"data row4 col52\" >ReLU()</td>\n",
       "                        <td id=\"T_9b8e952c_0b18_11ea_a184_80000208fe80row4_col53\" class=\"data row4 col53\" >Conv2d(256, 256, kernel_size=(3, 3), stride=(1, 1), padding=(1, 1))</td>\n",
       "                        <td id=\"T_9b8e952c_0b18_11ea_a184_80000208fe80row4_col54\" class=\"data row4 col54\" >ReLU()</td>\n",
       "                        <td id=\"T_9b8e952c_0b18_11ea_a184_80000208fe80row4_col55\" class=\"data row4 col55\" >Conv2d(256, 256, kernel_size=(1, 1), stride=(1, 1))</td>\n",
       "                        <td id=\"T_9b8e952c_0b18_11ea_a184_80000208fe80row4_col56\" class=\"data row4 col56\" >TorchAdd()</td>\n",
       "                        <td id=\"T_9b8e952c_0b18_11ea_a184_80000208fe80row4_col57\" class=\"data row4 col57\" >BatchNorm2d(256, eps=1e-05, momentum=0.1, affine=True, track_running_stats=True)</td>\n",
       "                        <td id=\"T_9b8e952c_0b18_11ea_a184_80000208fe80row4_col58\" class=\"data row4 col58\" >ReLU()</td>\n",
       "                        <td id=\"T_9b8e952c_0b18_11ea_a184_80000208fe80row4_col59\" class=\"data row4 col59\" >Conv2d(256, 512, kernel_size=(3, 3), stride=(2, 2), padding=(1, 1))</td>\n",
       "                        <td id=\"T_9b8e952c_0b18_11ea_a184_80000208fe80row4_col60\" class=\"data row4 col60\" >BatchNorm2d(512, eps=1e-05, momentum=0.1, affine=True, track_running_stats=True)</td>\n",
       "                        <td id=\"T_9b8e952c_0b18_11ea_a184_80000208fe80row4_col61\" class=\"data row4 col61\" >ReLU()</td>\n",
       "                        <td id=\"T_9b8e952c_0b18_11ea_a184_80000208fe80row4_col62\" class=\"data row4 col62\" >Conv2d(512, 512, kernel_size=(3, 3), stride=(1, 1), padding=(1, 1))</td>\n",
       "                        <td id=\"T_9b8e952c_0b18_11ea_a184_80000208fe80row4_col63\" class=\"data row4 col63\" >ReLU()</td>\n",
       "                        <td id=\"T_9b8e952c_0b18_11ea_a184_80000208fe80row4_col64\" class=\"data row4 col64\" >Conv2d(256, 512, kernel_size=(1, 1), stride=(2, 2))</td>\n",
       "                        <td id=\"T_9b8e952c_0b18_11ea_a184_80000208fe80row4_col65\" class=\"data row4 col65\" >TorchAdd()</td>\n",
       "                        <td id=\"T_9b8e952c_0b18_11ea_a184_80000208fe80row4_col66\" class=\"data row4 col66\" >BatchNorm2d(512, eps=1e-05, momentum=0.1, affine=True, track_running_stats=True)</td>\n",
       "                        <td id=\"T_9b8e952c_0b18_11ea_a184_80000208fe80row4_col67\" class=\"data row4 col67\" >ReLU()</td>\n",
       "                        <td id=\"T_9b8e952c_0b18_11ea_a184_80000208fe80row4_col68\" class=\"data row4 col68\" >Conv2d(512, 512, kernel_size=(3, 3), stride=(1, 1), padding=(1, 1))</td>\n",
       "                        <td id=\"T_9b8e952c_0b18_11ea_a184_80000208fe80row4_col69\" class=\"data row4 col69\" >BatchNorm2d(512, eps=1e-05, momentum=0.1, affine=True, track_running_stats=True)</td>\n",
       "                        <td id=\"T_9b8e952c_0b18_11ea_a184_80000208fe80row4_col70\" class=\"data row4 col70\" >ReLU()</td>\n",
       "                        <td id=\"T_9b8e952c_0b18_11ea_a184_80000208fe80row4_col71\" class=\"data row4 col71\" >Conv2d(512, 512, kernel_size=(3, 3), stride=(1, 1), padding=(1, 1))</td>\n",
       "                        <td id=\"T_9b8e952c_0b18_11ea_a184_80000208fe80row4_col72\" class=\"data row4 col72\" >ReLU()</td>\n",
       "                        <td id=\"T_9b8e952c_0b18_11ea_a184_80000208fe80row4_col73\" class=\"data row4 col73\" >Conv2d(512, 512, kernel_size=(1, 1), stride=(1, 1))</td>\n",
       "                        <td id=\"T_9b8e952c_0b18_11ea_a184_80000208fe80row4_col74\" class=\"data row4 col74\" >TorchAdd()</td>\n",
       "                        <td id=\"T_9b8e952c_0b18_11ea_a184_80000208fe80row4_col75\" class=\"data row4 col75\" >GlobalAvgPool2d()</td>\n",
       "                        <td id=\"T_9b8e952c_0b18_11ea_a184_80000208fe80row4_col76\" class=\"data row4 col76\" >Linear(in_features=512, out_features=10, bias=True)</td>\n",
       "            </tr>\n",
       "            <tr>\n",
       "                                <td id=\"T_9b8e952c_0b18_11ea_a184_80000208fe80row5_col0\" class=\"data row5 col0\" >16</td>\n",
       "                        <td id=\"T_9b8e952c_0b18_11ea_a184_80000208fe80row5_col1\" class=\"data row5 col1\" >Conv2d(1, 64, kernel_size=(3, 3), stride=(1, 1), padding=(1, 1))</td>\n",
       "                        <td id=\"T_9b8e952c_0b18_11ea_a184_80000208fe80row5_col2\" class=\"data row5 col2\" >BatchNorm2d(64, eps=1e-05, momentum=0.1, affine=True, track_running_stats=True)</td>\n",
       "                        <td id=\"T_9b8e952c_0b18_11ea_a184_80000208fe80row5_col3\" class=\"data row5 col3\" >BatchNorm2d(64, eps=1e-05, momentum=0.1, affine=True, track_running_stats=True)</td>\n",
       "                        <td id=\"T_9b8e952c_0b18_11ea_a184_80000208fe80row5_col4\" class=\"data row5 col4\" >ReLU()</td>\n",
       "                        <td id=\"T_9b8e952c_0b18_11ea_a184_80000208fe80row5_col5\" class=\"data row5 col5\" >Conv2d(64, 64, kernel_size=(3, 3), stride=(1, 1), padding=(1, 1))</td>\n",
       "                        <td id=\"T_9b8e952c_0b18_11ea_a184_80000208fe80row5_col6\" class=\"data row5 col6\" >BatchNorm2d(64, eps=1e-05, momentum=0.1, affine=True, track_running_stats=True)</td>\n",
       "                        <td id=\"T_9b8e952c_0b18_11ea_a184_80000208fe80row5_col7\" class=\"data row5 col7\" >ReLU()</td>\n",
       "                        <td id=\"T_9b8e952c_0b18_11ea_a184_80000208fe80row5_col8\" class=\"data row5 col8\" >Conv2d(64, 64, kernel_size=(3, 3), stride=(1, 1), padding=(1, 1))</td>\n",
       "                        <td id=\"T_9b8e952c_0b18_11ea_a184_80000208fe80row5_col9\" class=\"data row5 col9\" >ReLU()</td>\n",
       "                        <td id=\"T_9b8e952c_0b18_11ea_a184_80000208fe80row5_col10\" class=\"data row5 col10\" >Conv2d(64, 64, kernel_size=(1, 1), stride=(1, 1))</td>\n",
       "                        <td id=\"T_9b8e952c_0b18_11ea_a184_80000208fe80row5_col11\" class=\"data row5 col11\" >TorchAdd()</td>\n",
       "                        <td id=\"T_9b8e952c_0b18_11ea_a184_80000208fe80row5_col12\" class=\"data row5 col12\" >BatchNorm2d(64, eps=1e-05, momentum=0.1, affine=True, track_running_stats=True)</td>\n",
       "                        <td id=\"T_9b8e952c_0b18_11ea_a184_80000208fe80row5_col13\" class=\"data row5 col13\" >ReLU()</td>\n",
       "                        <td id=\"T_9b8e952c_0b18_11ea_a184_80000208fe80row5_col14\" class=\"data row5 col14\" >Conv2d(64, 64, kernel_size=(3, 3), stride=(1, 1), padding=(1, 1))</td>\n",
       "                        <td id=\"T_9b8e952c_0b18_11ea_a184_80000208fe80row5_col15\" class=\"data row5 col15\" >BatchNorm2d(64, eps=1e-05, momentum=0.1, affine=True, track_running_stats=True)</td>\n",
       "                        <td id=\"T_9b8e952c_0b18_11ea_a184_80000208fe80row5_col16\" class=\"data row5 col16\" >ReLU()</td>\n",
       "                        <td id=\"T_9b8e952c_0b18_11ea_a184_80000208fe80row5_col17\" class=\"data row5 col17\" >Conv2d(64, 64, kernel_size=(3, 3), stride=(1, 1), padding=(1, 1))</td>\n",
       "                        <td id=\"T_9b8e952c_0b18_11ea_a184_80000208fe80row5_col18\" class=\"data row5 col18\" >ReLU()</td>\n",
       "                        <td id=\"T_9b8e952c_0b18_11ea_a184_80000208fe80row5_col19\" class=\"data row5 col19\" >Conv2d(64, 64, kernel_size=(1, 1), stride=(1, 1))</td>\n",
       "                        <td id=\"T_9b8e952c_0b18_11ea_a184_80000208fe80row5_col20\" class=\"data row5 col20\" >TorchAdd()</td>\n",
       "                        <td id=\"T_9b8e952c_0b18_11ea_a184_80000208fe80row5_col21\" class=\"data row5 col21\" >BatchNorm2d(64, eps=1e-05, momentum=0.1, affine=True, track_running_stats=True)</td>\n",
       "                        <td id=\"T_9b8e952c_0b18_11ea_a184_80000208fe80row5_col22\" class=\"data row5 col22\" >ReLU()</td>\n",
       "                        <td id=\"T_9b8e952c_0b18_11ea_a184_80000208fe80row5_col23\" class=\"data row5 col23\" >Conv2d(64, 128, kernel_size=(3, 3), stride=(2, 2), padding=(1, 1))</td>\n",
       "                        <td id=\"T_9b8e952c_0b18_11ea_a184_80000208fe80row5_col24\" class=\"data row5 col24\" >BatchNorm2d(128, eps=1e-05, momentum=0.1, affine=True, track_running_stats=True)</td>\n",
       "                        <td id=\"T_9b8e952c_0b18_11ea_a184_80000208fe80row5_col25\" class=\"data row5 col25\" >ReLU()</td>\n",
       "                        <td id=\"T_9b8e952c_0b18_11ea_a184_80000208fe80row5_col26\" class=\"data row5 col26\" >Conv2d(128, 128, kernel_size=(3, 3), stride=(1, 1), padding=(1, 1))</td>\n",
       "                        <td id=\"T_9b8e952c_0b18_11ea_a184_80000208fe80row5_col27\" class=\"data row5 col27\" >ReLU()</td>\n",
       "                        <td id=\"T_9b8e952c_0b18_11ea_a184_80000208fe80row5_col28\" class=\"data row5 col28\" >Conv2d(64, 128, kernel_size=(1, 1), stride=(2, 2))</td>\n",
       "                        <td id=\"T_9b8e952c_0b18_11ea_a184_80000208fe80row5_col29\" class=\"data row5 col29\" >TorchAdd()</td>\n",
       "                        <td id=\"T_9b8e952c_0b18_11ea_a184_80000208fe80row5_col30\" class=\"data row5 col30\" >BatchNorm2d(128, eps=1e-05, momentum=0.1, affine=True, track_running_stats=True)</td>\n",
       "                        <td id=\"T_9b8e952c_0b18_11ea_a184_80000208fe80row5_col31\" class=\"data row5 col31\" >ReLU()</td>\n",
       "                        <td id=\"T_9b8e952c_0b18_11ea_a184_80000208fe80row5_col32\" class=\"data row5 col32\" >Conv2d(128, 128, kernel_size=(3, 3), stride=(1, 1), padding=(1, 1))</td>\n",
       "                        <td id=\"T_9b8e952c_0b18_11ea_a184_80000208fe80row5_col33\" class=\"data row5 col33\" >BatchNorm2d(128, eps=1e-05, momentum=0.1, affine=True, track_running_stats=True)</td>\n",
       "                        <td id=\"T_9b8e952c_0b18_11ea_a184_80000208fe80row5_col34\" class=\"data row5 col34\" >ReLU()</td>\n",
       "                        <td id=\"T_9b8e952c_0b18_11ea_a184_80000208fe80row5_col35\" class=\"data row5 col35\" >Conv2d(128, 128, kernel_size=(3, 3), stride=(1, 1), padding=(1, 1))</td>\n",
       "                        <td id=\"T_9b8e952c_0b18_11ea_a184_80000208fe80row5_col36\" class=\"data row5 col36\" >ReLU()</td>\n",
       "                        <td id=\"T_9b8e952c_0b18_11ea_a184_80000208fe80row5_col37\" class=\"data row5 col37\" >Conv2d(128, 128, kernel_size=(1, 1), stride=(1, 1))</td>\n",
       "                        <td id=\"T_9b8e952c_0b18_11ea_a184_80000208fe80row5_col38\" class=\"data row5 col38\" >TorchAdd()</td>\n",
       "                        <td id=\"T_9b8e952c_0b18_11ea_a184_80000208fe80row5_col39\" class=\"data row5 col39\" >BatchNorm2d(128, eps=1e-05, momentum=0.1, affine=True, track_running_stats=True)</td>\n",
       "                        <td id=\"T_9b8e952c_0b18_11ea_a184_80000208fe80row5_col40\" class=\"data row5 col40\" >ReLU()</td>\n",
       "                        <td id=\"T_9b8e952c_0b18_11ea_a184_80000208fe80row5_col41\" class=\"data row5 col41\" >Conv2d(128, 256, kernel_size=(3, 3), stride=(2, 2), padding=(1, 1))</td>\n",
       "                        <td id=\"T_9b8e952c_0b18_11ea_a184_80000208fe80row5_col42\" class=\"data row5 col42\" >BatchNorm2d(256, eps=1e-05, momentum=0.1, affine=True, track_running_stats=True)</td>\n",
       "                        <td id=\"T_9b8e952c_0b18_11ea_a184_80000208fe80row5_col43\" class=\"data row5 col43\" >ReLU()</td>\n",
       "                        <td id=\"T_9b8e952c_0b18_11ea_a184_80000208fe80row5_col44\" class=\"data row5 col44\" >Conv2d(256, 256, kernel_size=(3, 3), stride=(1, 1), padding=(1, 1))</td>\n",
       "                        <td id=\"T_9b8e952c_0b18_11ea_a184_80000208fe80row5_col45\" class=\"data row5 col45\" >ReLU()</td>\n",
       "                        <td id=\"T_9b8e952c_0b18_11ea_a184_80000208fe80row5_col46\" class=\"data row5 col46\" >Conv2d(128, 256, kernel_size=(1, 1), stride=(2, 2))</td>\n",
       "                        <td id=\"T_9b8e952c_0b18_11ea_a184_80000208fe80row5_col47\" class=\"data row5 col47\" >TorchAdd()</td>\n",
       "                        <td id=\"T_9b8e952c_0b18_11ea_a184_80000208fe80row5_col48\" class=\"data row5 col48\" >BatchNorm2d(256, eps=1e-05, momentum=0.1, affine=True, track_running_stats=True)</td>\n",
       "                        <td id=\"T_9b8e952c_0b18_11ea_a184_80000208fe80row5_col49\" class=\"data row5 col49\" >ReLU()</td>\n",
       "                        <td id=\"T_9b8e952c_0b18_11ea_a184_80000208fe80row5_col50\" class=\"data row5 col50\" >Conv2d(256, 256, kernel_size=(3, 3), stride=(1, 1), padding=(1, 1))</td>\n",
       "                        <td id=\"T_9b8e952c_0b18_11ea_a184_80000208fe80row5_col51\" class=\"data row5 col51\" >BatchNorm2d(256, eps=1e-05, momentum=0.1, affine=True, track_running_stats=True)</td>\n",
       "                        <td id=\"T_9b8e952c_0b18_11ea_a184_80000208fe80row5_col52\" class=\"data row5 col52\" >ReLU()</td>\n",
       "                        <td id=\"T_9b8e952c_0b18_11ea_a184_80000208fe80row5_col53\" class=\"data row5 col53\" >Conv2d(256, 256, kernel_size=(3, 3), stride=(1, 1), padding=(1, 1))</td>\n",
       "                        <td id=\"T_9b8e952c_0b18_11ea_a184_80000208fe80row5_col54\" class=\"data row5 col54\" >ReLU()</td>\n",
       "                        <td id=\"T_9b8e952c_0b18_11ea_a184_80000208fe80row5_col55\" class=\"data row5 col55\" >Conv2d(256, 256, kernel_size=(1, 1), stride=(1, 1))</td>\n",
       "                        <td id=\"T_9b8e952c_0b18_11ea_a184_80000208fe80row5_col56\" class=\"data row5 col56\" >TorchAdd()</td>\n",
       "                        <td id=\"T_9b8e952c_0b18_11ea_a184_80000208fe80row5_col57\" class=\"data row5 col57\" >BatchNorm2d(256, eps=1e-05, momentum=0.1, affine=True, track_running_stats=True)</td>\n",
       "                        <td id=\"T_9b8e952c_0b18_11ea_a184_80000208fe80row5_col58\" class=\"data row5 col58\" >ReLU()</td>\n",
       "                        <td id=\"T_9b8e952c_0b18_11ea_a184_80000208fe80row5_col59\" class=\"data row5 col59\" >Conv2d(256, 512, kernel_size=(3, 3), stride=(2, 2), padding=(1, 1))</td>\n",
       "                        <td id=\"T_9b8e952c_0b18_11ea_a184_80000208fe80row5_col60\" class=\"data row5 col60\" >BatchNorm2d(512, eps=1e-05, momentum=0.1, affine=True, track_running_stats=True)</td>\n",
       "                        <td id=\"T_9b8e952c_0b18_11ea_a184_80000208fe80row5_col61\" class=\"data row5 col61\" >ReLU()</td>\n",
       "                        <td id=\"T_9b8e952c_0b18_11ea_a184_80000208fe80row5_col62\" class=\"data row5 col62\" >Conv2d(512, 512, kernel_size=(3, 3), stride=(1, 1), padding=(1, 1))</td>\n",
       "                        <td id=\"T_9b8e952c_0b18_11ea_a184_80000208fe80row5_col63\" class=\"data row5 col63\" >ReLU()</td>\n",
       "                        <td id=\"T_9b8e952c_0b18_11ea_a184_80000208fe80row5_col64\" class=\"data row5 col64\" >Conv2d(256, 512, kernel_size=(1, 1), stride=(2, 2))</td>\n",
       "                        <td id=\"T_9b8e952c_0b18_11ea_a184_80000208fe80row5_col65\" class=\"data row5 col65\" >TorchAdd()</td>\n",
       "                        <td id=\"T_9b8e952c_0b18_11ea_a184_80000208fe80row5_col66\" class=\"data row5 col66\" >BatchNorm2d(512, eps=1e-05, momentum=0.1, affine=True, track_running_stats=True)</td>\n",
       "                        <td id=\"T_9b8e952c_0b18_11ea_a184_80000208fe80row5_col67\" class=\"data row5 col67\" >ReLU()</td>\n",
       "                        <td id=\"T_9b8e952c_0b18_11ea_a184_80000208fe80row5_col68\" class=\"data row5 col68\" >Conv2d(512, 512, kernel_size=(3, 3), stride=(1, 1), padding=(1, 1))</td>\n",
       "                        <td id=\"T_9b8e952c_0b18_11ea_a184_80000208fe80row5_col69\" class=\"data row5 col69\" >BatchNorm2d(512, eps=1e-05, momentum=0.1, affine=True, track_running_stats=True)</td>\n",
       "                        <td id=\"T_9b8e952c_0b18_11ea_a184_80000208fe80row5_col70\" class=\"data row5 col70\" >ReLU()</td>\n",
       "                        <td id=\"T_9b8e952c_0b18_11ea_a184_80000208fe80row5_col71\" class=\"data row5 col71\" >Conv2d(512, 512, kernel_size=(3, 3), stride=(1, 1), padding=(1, 1))</td>\n",
       "                        <td id=\"T_9b8e952c_0b18_11ea_a184_80000208fe80row5_col72\" class=\"data row5 col72\" >ReLU()</td>\n",
       "                        <td id=\"T_9b8e952c_0b18_11ea_a184_80000208fe80row5_col73\" class=\"data row5 col73\" >Conv2d(512, 512, kernel_size=(1, 1), stride=(1, 1))</td>\n",
       "                        <td id=\"T_9b8e952c_0b18_11ea_a184_80000208fe80row5_col74\" class=\"data row5 col74\" >TorchAdd()</td>\n",
       "                        <td id=\"T_9b8e952c_0b18_11ea_a184_80000208fe80row5_col75\" class=\"data row5 col75\" >GlobalAvgPool2d()</td>\n",
       "                        <td id=\"T_9b8e952c_0b18_11ea_a184_80000208fe80row5_col76\" class=\"data row5 col76\" >Linear(in_features=512, out_features=10, bias=True)</td>\n",
       "            </tr>\n",
       "    </tbody></table>"
      ],
      "text/plain": [
       "<pandas.io.formats.style.Styler at 0x2aedac8b8860>"
      ]
     },
     "metadata": {},
     "output_type": "display_data"
    },
    {
     "data": {
      "text/plain": [
       "'H2OAutoML #1'"
      ]
     },
     "metadata": {},
     "output_type": "display_data"
    },
    {
     "data": {
      "text/html": [
       "<style  type=\"text/css\" >\n",
       "</style><table id=\"T_9b944b2a_0b18_11ea_a184_80000208fe80\" ><thead>    <tr>        <th class=\"col_heading level0 col0\" >std</th>        <th class=\"col_heading level0 col1\" >test_acc</th>        <th class=\"col_heading level0 col2\" >train_acc</th>        <th class=\"col_heading level0 col3\" >time_err</th>        <th class=\"col_heading level0 col4\" >time_pre</th>        <th class=\"col_heading level0 col5\" >time_mod</th>    </tr></thead><tbody>\n",
       "                <tr>\n",
       "                                <td id=\"T_9b944b2a_0b18_11ea_a184_80000208fe80row0_col0\" class=\"data row0 col0\" >0</td>\n",
       "                        <td id=\"T_9b944b2a_0b18_11ea_a184_80000208fe80row0_col1\" class=\"data row0 col1\" >0.973</td>\n",
       "                        <td id=\"T_9b944b2a_0b18_11ea_a184_80000208fe80row0_col2\" class=\"data row0 col2\" >1</td>\n",
       "                        <td id=\"T_9b944b2a_0b18_11ea_a184_80000208fe80row0_col3\" class=\"data row0 col3\" >0.149</td>\n",
       "                        <td id=\"T_9b944b2a_0b18_11ea_a184_80000208fe80row0_col4\" class=\"data row0 col4\" >0.001</td>\n",
       "                        <td id=\"T_9b944b2a_0b18_11ea_a184_80000208fe80row0_col5\" class=\"data row0 col5\" >961.124</td>\n",
       "            </tr>\n",
       "            <tr>\n",
       "                                <td id=\"T_9b944b2a_0b18_11ea_a184_80000208fe80row1_col0\" class=\"data row1 col0\" >3.2</td>\n",
       "                        <td id=\"T_9b944b2a_0b18_11ea_a184_80000208fe80row1_col1\" class=\"data row1 col1\" >0.93</td>\n",
       "                        <td id=\"T_9b944b2a_0b18_11ea_a184_80000208fe80row1_col2\" class=\"data row1 col2\" >1</td>\n",
       "                        <td id=\"T_9b944b2a_0b18_11ea_a184_80000208fe80row1_col3\" class=\"data row1 col3\" >0.096</td>\n",
       "                        <td id=\"T_9b944b2a_0b18_11ea_a184_80000208fe80row1_col4\" class=\"data row1 col4\" >0.001</td>\n",
       "                        <td id=\"T_9b944b2a_0b18_11ea_a184_80000208fe80row1_col5\" class=\"data row1 col5\" >965.329</td>\n",
       "            </tr>\n",
       "            <tr>\n",
       "                                <td id=\"T_9b944b2a_0b18_11ea_a184_80000208fe80row2_col0\" class=\"data row2 col0\" >6.4</td>\n",
       "                        <td id=\"T_9b944b2a_0b18_11ea_a184_80000208fe80row2_col1\" class=\"data row2 col1\" >0.802</td>\n",
       "                        <td id=\"T_9b944b2a_0b18_11ea_a184_80000208fe80row2_col2\" class=\"data row2 col2\" >1</td>\n",
       "                        <td id=\"T_9b944b2a_0b18_11ea_a184_80000208fe80row2_col3\" class=\"data row2 col3\" >0.102</td>\n",
       "                        <td id=\"T_9b944b2a_0b18_11ea_a184_80000208fe80row2_col4\" class=\"data row2 col4\" >0.002</td>\n",
       "                        <td id=\"T_9b944b2a_0b18_11ea_a184_80000208fe80row2_col5\" class=\"data row2 col5\" >994</td>\n",
       "            </tr>\n",
       "            <tr>\n",
       "                                <td id=\"T_9b944b2a_0b18_11ea_a184_80000208fe80row3_col0\" class=\"data row3 col0\" >9.6</td>\n",
       "                        <td id=\"T_9b944b2a_0b18_11ea_a184_80000208fe80row3_col1\" class=\"data row3 col1\" >0.689</td>\n",
       "                        <td id=\"T_9b944b2a_0b18_11ea_a184_80000208fe80row3_col2\" class=\"data row3 col2\" >0.999</td>\n",
       "                        <td id=\"T_9b944b2a_0b18_11ea_a184_80000208fe80row3_col3\" class=\"data row3 col3\" >0.135</td>\n",
       "                        <td id=\"T_9b944b2a_0b18_11ea_a184_80000208fe80row3_col4\" class=\"data row3 col4\" >0.001</td>\n",
       "                        <td id=\"T_9b944b2a_0b18_11ea_a184_80000208fe80row3_col5\" class=\"data row3 col5\" >988.709</td>\n",
       "            </tr>\n",
       "            <tr>\n",
       "                                <td id=\"T_9b944b2a_0b18_11ea_a184_80000208fe80row4_col0\" class=\"data row4 col0\" >12.8</td>\n",
       "                        <td id=\"T_9b944b2a_0b18_11ea_a184_80000208fe80row4_col1\" class=\"data row4 col1\" >0.482</td>\n",
       "                        <td id=\"T_9b944b2a_0b18_11ea_a184_80000208fe80row4_col2\" class=\"data row4 col2\" >1</td>\n",
       "                        <td id=\"T_9b944b2a_0b18_11ea_a184_80000208fe80row4_col3\" class=\"data row4 col3\" >0.129</td>\n",
       "                        <td id=\"T_9b944b2a_0b18_11ea_a184_80000208fe80row4_col4\" class=\"data row4 col4\" >0.001</td>\n",
       "                        <td id=\"T_9b944b2a_0b18_11ea_a184_80000208fe80row4_col5\" class=\"data row4 col5\" >785.375</td>\n",
       "            </tr>\n",
       "            <tr>\n",
       "                                <td id=\"T_9b944b2a_0b18_11ea_a184_80000208fe80row5_col0\" class=\"data row5 col0\" >16</td>\n",
       "                        <td id=\"T_9b944b2a_0b18_11ea_a184_80000208fe80row5_col1\" class=\"data row5 col1\" >0.346</td>\n",
       "                        <td id=\"T_9b944b2a_0b18_11ea_a184_80000208fe80row5_col2\" class=\"data row5 col2\" >0.482</td>\n",
       "                        <td id=\"T_9b944b2a_0b18_11ea_a184_80000208fe80row5_col3\" class=\"data row5 col3\" >0.098</td>\n",
       "                        <td id=\"T_9b944b2a_0b18_11ea_a184_80000208fe80row5_col4\" class=\"data row5 col4\" >0.001</td>\n",
       "                        <td id=\"T_9b944b2a_0b18_11ea_a184_80000208fe80row5_col5\" class=\"data row5 col5\" >794.191</td>\n",
       "            </tr>\n",
       "    </tbody></table>"
      ],
      "text/plain": [
       "<pandas.io.formats.style.Styler at 0x2aedac8b89e8>"
      ]
     },
     "metadata": {},
     "output_type": "display_data"
    },
    {
     "data": {
      "text/html": [
       "<style  type=\"text/css\" >\n",
       "</style><table id=\"T_9b9752fc_0b18_11ea_a184_80000208fe80\" ><thead>    <tr>        <th class=\"col_heading level0 col0\" >std</th>        <th class=\"col_heading level0 col1\" >pipe_0</th>        <th class=\"col_heading level0 col2\" >pipe_1</th>        <th class=\"col_heading level0 col3\" >pipe_2</th>        <th class=\"col_heading level0 col4\" >pipe_3</th>        <th class=\"col_heading level0 col5\" >pipe_4</th>        <th class=\"col_heading level0 col6\" >pipe_5</th>        <th class=\"col_heading level0 col7\" >pipe_6</th>        <th class=\"col_heading level0 col8\" >pipe_7</th>        <th class=\"col_heading level0 col9\" >pipe_8</th>        <th class=\"col_heading level0 col10\" >pipe_9</th>        <th class=\"col_heading level0 col11\" >pipe_10</th>        <th class=\"col_heading level0 col12\" >pipe_11</th>        <th class=\"col_heading level0 col13\" >pipe_12</th>        <th class=\"col_heading level0 col14\" >pipe_13</th>        <th class=\"col_heading level0 col15\" >pipe_14</th>        <th class=\"col_heading level0 col16\" >pipe_15</th>        <th class=\"col_heading level0 col17\" >pipe_16</th>        <th class=\"col_heading level0 col18\" >pipe_17</th>        <th class=\"col_heading level0 col19\" >pipe_18</th>        <th class=\"col_heading level0 col20\" >pipe_19</th>        <th class=\"col_heading level0 col21\" >pipe_20</th>        <th class=\"col_heading level0 col22\" >pipe_21</th>        <th class=\"col_heading level0 col23\" >pipe_22</th>        <th class=\"col_heading level0 col24\" >pipe_23</th>        <th class=\"col_heading level0 col25\" >pipe_24</th>        <th class=\"col_heading level0 col26\" >pipe_25</th>        <th class=\"col_heading level0 col27\" >pipe_26</th>        <th class=\"col_heading level0 col28\" >pipe_27</th>        <th class=\"col_heading level0 col29\" >pipe_28</th>        <th class=\"col_heading level0 col30\" >pipe_29</th>        <th class=\"col_heading level0 col31\" >pipe_30</th>        <th class=\"col_heading level0 col32\" >pipe_31</th>        <th class=\"col_heading level0 col33\" >pipe_32</th>        <th class=\"col_heading level0 col34\" >pipe_33</th>        <th class=\"col_heading level0 col35\" >pipe_34</th>        <th class=\"col_heading level0 col36\" >pipe_35</th>        <th class=\"col_heading level0 col37\" >pipe_36</th>        <th class=\"col_heading level0 col38\" >pipe_37</th>        <th class=\"col_heading level0 col39\" >pipe_38</th>        <th class=\"col_heading level0 col40\" >pipe_39</th>        <th class=\"col_heading level0 col41\" >pipe_40</th>        <th class=\"col_heading level0 col42\" >pipe_41</th>        <th class=\"col_heading level0 col43\" >pipe_42</th>        <th class=\"col_heading level0 col44\" >pipe_43</th>        <th class=\"col_heading level0 col45\" >pipe_44</th>        <th class=\"col_heading level0 col46\" >pipe_45</th>        <th class=\"col_heading level0 col47\" >pipe_46</th>        <th class=\"col_heading level0 col48\" >pipe_47</th>        <th class=\"col_heading level0 col49\" >pipe_48</th>        <th class=\"col_heading level0 col50\" >pipe_49</th>        <th class=\"col_heading level0 col51\" >pipe_50</th>        <th class=\"col_heading level0 col52\" >pipe_51</th>        <th class=\"col_heading level0 col53\" >pipe_52</th>        <th class=\"col_heading level0 col54\" >pipe_53</th>        <th class=\"col_heading level0 col55\" >pipe_54</th>        <th class=\"col_heading level0 col56\" >pipe_55</th>        <th class=\"col_heading level0 col57\" >pipe_56</th>        <th class=\"col_heading level0 col58\" >pipe_57</th>        <th class=\"col_heading level0 col59\" >pipe_58</th>        <th class=\"col_heading level0 col60\" >pipe_59</th>        <th class=\"col_heading level0 col61\" >pipe_60</th>        <th class=\"col_heading level0 col62\" >pipe_61</th>        <th class=\"col_heading level0 col63\" >pipe_62</th>        <th class=\"col_heading level0 col64\" >pipe_63</th>        <th class=\"col_heading level0 col65\" >pipe_64</th>        <th class=\"col_heading level0 col66\" >pipe_65</th>        <th class=\"col_heading level0 col67\" >pipe_66</th>        <th class=\"col_heading level0 col68\" >pipe_67</th>        <th class=\"col_heading level0 col69\" >pipe_68</th>        <th class=\"col_heading level0 col70\" >pipe_69</th>        <th class=\"col_heading level0 col71\" >pipe_70</th>        <th class=\"col_heading level0 col72\" >pipe_71</th>        <th class=\"col_heading level0 col73\" >pipe_72</th>        <th class=\"col_heading level0 col74\" >pipe_73</th>        <th class=\"col_heading level0 col75\" >pipe_74</th>        <th class=\"col_heading level0 col76\" >pipe_75</th>        <th class=\"col_heading level0 col77\" >pipe_76</th>        <th class=\"col_heading level0 col78\" >pipe_77</th>        <th class=\"col_heading level0 col79\" >pipe_78</th>        <th class=\"col_heading level0 col80\" >pipe_79</th>        <th class=\"col_heading level0 col81\" >pipe_80</th>        <th class=\"col_heading level0 col82\" >pipe_81</th>        <th class=\"col_heading level0 col83\" >pipe_82</th>        <th class=\"col_heading level0 col84\" >pipe_83</th>        <th class=\"col_heading level0 col85\" >pipe_84</th>        <th class=\"col_heading level0 col86\" >pipe_85</th>        <th class=\"col_heading level0 col87\" >pipe_86</th>        <th class=\"col_heading level0 col88\" >pipe_87</th>        <th class=\"col_heading level0 col89\" >pipe_88</th>        <th class=\"col_heading level0 col90\" >pipe_89</th>        <th class=\"col_heading level0 col91\" >pipe_90</th>        <th class=\"col_heading level0 col92\" >pipe_91</th>        <th class=\"col_heading level0 col93\" >pipe_92</th>        <th class=\"col_heading level0 col94\" >pipe_93</th>        <th class=\"col_heading level0 col95\" >pipe_94</th>        <th class=\"col_heading level0 col96\" >pipe_95</th>        <th class=\"col_heading level0 col97\" >pipe_96</th>        <th class=\"col_heading level0 col98\" >pipe_97</th>        <th class=\"col_heading level0 col99\" >pipe_98</th>        <th class=\"col_heading level0 col100\" >pipe_99</th>        <th class=\"col_heading level0 col101\" >pipe_100</th>        <th class=\"col_heading level0 col102\" >pipe_101</th>        <th class=\"col_heading level0 col103\" >pipe_102</th>    </tr></thead><tbody>\n",
       "                <tr>\n",
       "                                <td id=\"T_9b9752fc_0b18_11ea_a184_80000208fe80row0_col0\" class=\"data row0 col0\" >0</td>\n",
       "                        <td id=\"T_9b9752fc_0b18_11ea_a184_80000208fe80row0_col1\" class=\"data row0 col1\" >StackedEnsemble_BestOfFamily_AutoML_20191119_154149</td>\n",
       "                        <td id=\"T_9b9752fc_0b18_11ea_a184_80000208fe80row0_col2\" class=\"data row0 col2\" >DeepLearning_grid_1_AutoML_20191119_154149_model_6</td>\n",
       "                        <td id=\"T_9b9752fc_0b18_11ea_a184_80000208fe80row0_col3\" class=\"data row0 col3\" >GBM_grid_1_AutoML_20191119_154149_model_39</td>\n",
       "                        <td id=\"T_9b9752fc_0b18_11ea_a184_80000208fe80row0_col4\" class=\"data row0 col4\" >XGBoost_grid_1_AutoML_20191119_154149_model_13</td>\n",
       "                        <td id=\"T_9b9752fc_0b18_11ea_a184_80000208fe80row0_col5\" class=\"data row0 col5\" >DRF_1_AutoML_20191119_154149</td>\n",
       "                        <td id=\"T_9b9752fc_0b18_11ea_a184_80000208fe80row0_col6\" class=\"data row0 col6\" >XRT_1_AutoML_20191119_154149</td>\n",
       "                        <td id=\"T_9b9752fc_0b18_11ea_a184_80000208fe80row0_col7\" class=\"data row0 col7\" >GLM_grid_1_AutoML_20191119_154149_model_1</td>\n",
       "                        <td id=\"T_9b9752fc_0b18_11ea_a184_80000208fe80row0_col8\" class=\"data row0 col8\" >nan</td>\n",
       "                        <td id=\"T_9b9752fc_0b18_11ea_a184_80000208fe80row0_col9\" class=\"data row0 col9\" >nan</td>\n",
       "                        <td id=\"T_9b9752fc_0b18_11ea_a184_80000208fe80row0_col10\" class=\"data row0 col10\" >nan</td>\n",
       "                        <td id=\"T_9b9752fc_0b18_11ea_a184_80000208fe80row0_col11\" class=\"data row0 col11\" >nan</td>\n",
       "                        <td id=\"T_9b9752fc_0b18_11ea_a184_80000208fe80row0_col12\" class=\"data row0 col12\" >nan</td>\n",
       "                        <td id=\"T_9b9752fc_0b18_11ea_a184_80000208fe80row0_col13\" class=\"data row0 col13\" >nan</td>\n",
       "                        <td id=\"T_9b9752fc_0b18_11ea_a184_80000208fe80row0_col14\" class=\"data row0 col14\" >nan</td>\n",
       "                        <td id=\"T_9b9752fc_0b18_11ea_a184_80000208fe80row0_col15\" class=\"data row0 col15\" >nan</td>\n",
       "                        <td id=\"T_9b9752fc_0b18_11ea_a184_80000208fe80row0_col16\" class=\"data row0 col16\" >nan</td>\n",
       "                        <td id=\"T_9b9752fc_0b18_11ea_a184_80000208fe80row0_col17\" class=\"data row0 col17\" >nan</td>\n",
       "                        <td id=\"T_9b9752fc_0b18_11ea_a184_80000208fe80row0_col18\" class=\"data row0 col18\" >nan</td>\n",
       "                        <td id=\"T_9b9752fc_0b18_11ea_a184_80000208fe80row0_col19\" class=\"data row0 col19\" >nan</td>\n",
       "                        <td id=\"T_9b9752fc_0b18_11ea_a184_80000208fe80row0_col20\" class=\"data row0 col20\" >nan</td>\n",
       "                        <td id=\"T_9b9752fc_0b18_11ea_a184_80000208fe80row0_col21\" class=\"data row0 col21\" >nan</td>\n",
       "                        <td id=\"T_9b9752fc_0b18_11ea_a184_80000208fe80row0_col22\" class=\"data row0 col22\" >nan</td>\n",
       "                        <td id=\"T_9b9752fc_0b18_11ea_a184_80000208fe80row0_col23\" class=\"data row0 col23\" >nan</td>\n",
       "                        <td id=\"T_9b9752fc_0b18_11ea_a184_80000208fe80row0_col24\" class=\"data row0 col24\" >nan</td>\n",
       "                        <td id=\"T_9b9752fc_0b18_11ea_a184_80000208fe80row0_col25\" class=\"data row0 col25\" >nan</td>\n",
       "                        <td id=\"T_9b9752fc_0b18_11ea_a184_80000208fe80row0_col26\" class=\"data row0 col26\" >nan</td>\n",
       "                        <td id=\"T_9b9752fc_0b18_11ea_a184_80000208fe80row0_col27\" class=\"data row0 col27\" >nan</td>\n",
       "                        <td id=\"T_9b9752fc_0b18_11ea_a184_80000208fe80row0_col28\" class=\"data row0 col28\" >nan</td>\n",
       "                        <td id=\"T_9b9752fc_0b18_11ea_a184_80000208fe80row0_col29\" class=\"data row0 col29\" >nan</td>\n",
       "                        <td id=\"T_9b9752fc_0b18_11ea_a184_80000208fe80row0_col30\" class=\"data row0 col30\" >nan</td>\n",
       "                        <td id=\"T_9b9752fc_0b18_11ea_a184_80000208fe80row0_col31\" class=\"data row0 col31\" >nan</td>\n",
       "                        <td id=\"T_9b9752fc_0b18_11ea_a184_80000208fe80row0_col32\" class=\"data row0 col32\" >nan</td>\n",
       "                        <td id=\"T_9b9752fc_0b18_11ea_a184_80000208fe80row0_col33\" class=\"data row0 col33\" >nan</td>\n",
       "                        <td id=\"T_9b9752fc_0b18_11ea_a184_80000208fe80row0_col34\" class=\"data row0 col34\" >nan</td>\n",
       "                        <td id=\"T_9b9752fc_0b18_11ea_a184_80000208fe80row0_col35\" class=\"data row0 col35\" >nan</td>\n",
       "                        <td id=\"T_9b9752fc_0b18_11ea_a184_80000208fe80row0_col36\" class=\"data row0 col36\" >nan</td>\n",
       "                        <td id=\"T_9b9752fc_0b18_11ea_a184_80000208fe80row0_col37\" class=\"data row0 col37\" >nan</td>\n",
       "                        <td id=\"T_9b9752fc_0b18_11ea_a184_80000208fe80row0_col38\" class=\"data row0 col38\" >nan</td>\n",
       "                        <td id=\"T_9b9752fc_0b18_11ea_a184_80000208fe80row0_col39\" class=\"data row0 col39\" >nan</td>\n",
       "                        <td id=\"T_9b9752fc_0b18_11ea_a184_80000208fe80row0_col40\" class=\"data row0 col40\" >nan</td>\n",
       "                        <td id=\"T_9b9752fc_0b18_11ea_a184_80000208fe80row0_col41\" class=\"data row0 col41\" >nan</td>\n",
       "                        <td id=\"T_9b9752fc_0b18_11ea_a184_80000208fe80row0_col42\" class=\"data row0 col42\" >nan</td>\n",
       "                        <td id=\"T_9b9752fc_0b18_11ea_a184_80000208fe80row0_col43\" class=\"data row0 col43\" >nan</td>\n",
       "                        <td id=\"T_9b9752fc_0b18_11ea_a184_80000208fe80row0_col44\" class=\"data row0 col44\" >nan</td>\n",
       "                        <td id=\"T_9b9752fc_0b18_11ea_a184_80000208fe80row0_col45\" class=\"data row0 col45\" >nan</td>\n",
       "                        <td id=\"T_9b9752fc_0b18_11ea_a184_80000208fe80row0_col46\" class=\"data row0 col46\" >nan</td>\n",
       "                        <td id=\"T_9b9752fc_0b18_11ea_a184_80000208fe80row0_col47\" class=\"data row0 col47\" >nan</td>\n",
       "                        <td id=\"T_9b9752fc_0b18_11ea_a184_80000208fe80row0_col48\" class=\"data row0 col48\" >nan</td>\n",
       "                        <td id=\"T_9b9752fc_0b18_11ea_a184_80000208fe80row0_col49\" class=\"data row0 col49\" >nan</td>\n",
       "                        <td id=\"T_9b9752fc_0b18_11ea_a184_80000208fe80row0_col50\" class=\"data row0 col50\" >nan</td>\n",
       "                        <td id=\"T_9b9752fc_0b18_11ea_a184_80000208fe80row0_col51\" class=\"data row0 col51\" >nan</td>\n",
       "                        <td id=\"T_9b9752fc_0b18_11ea_a184_80000208fe80row0_col52\" class=\"data row0 col52\" >nan</td>\n",
       "                        <td id=\"T_9b9752fc_0b18_11ea_a184_80000208fe80row0_col53\" class=\"data row0 col53\" >nan</td>\n",
       "                        <td id=\"T_9b9752fc_0b18_11ea_a184_80000208fe80row0_col54\" class=\"data row0 col54\" >nan</td>\n",
       "                        <td id=\"T_9b9752fc_0b18_11ea_a184_80000208fe80row0_col55\" class=\"data row0 col55\" >nan</td>\n",
       "                        <td id=\"T_9b9752fc_0b18_11ea_a184_80000208fe80row0_col56\" class=\"data row0 col56\" >nan</td>\n",
       "                        <td id=\"T_9b9752fc_0b18_11ea_a184_80000208fe80row0_col57\" class=\"data row0 col57\" >nan</td>\n",
       "                        <td id=\"T_9b9752fc_0b18_11ea_a184_80000208fe80row0_col58\" class=\"data row0 col58\" >nan</td>\n",
       "                        <td id=\"T_9b9752fc_0b18_11ea_a184_80000208fe80row0_col59\" class=\"data row0 col59\" >nan</td>\n",
       "                        <td id=\"T_9b9752fc_0b18_11ea_a184_80000208fe80row0_col60\" class=\"data row0 col60\" >nan</td>\n",
       "                        <td id=\"T_9b9752fc_0b18_11ea_a184_80000208fe80row0_col61\" class=\"data row0 col61\" >nan</td>\n",
       "                        <td id=\"T_9b9752fc_0b18_11ea_a184_80000208fe80row0_col62\" class=\"data row0 col62\" >nan</td>\n",
       "                        <td id=\"T_9b9752fc_0b18_11ea_a184_80000208fe80row0_col63\" class=\"data row0 col63\" >nan</td>\n",
       "                        <td id=\"T_9b9752fc_0b18_11ea_a184_80000208fe80row0_col64\" class=\"data row0 col64\" >nan</td>\n",
       "                        <td id=\"T_9b9752fc_0b18_11ea_a184_80000208fe80row0_col65\" class=\"data row0 col65\" >nan</td>\n",
       "                        <td id=\"T_9b9752fc_0b18_11ea_a184_80000208fe80row0_col66\" class=\"data row0 col66\" >nan</td>\n",
       "                        <td id=\"T_9b9752fc_0b18_11ea_a184_80000208fe80row0_col67\" class=\"data row0 col67\" >nan</td>\n",
       "                        <td id=\"T_9b9752fc_0b18_11ea_a184_80000208fe80row0_col68\" class=\"data row0 col68\" >nan</td>\n",
       "                        <td id=\"T_9b9752fc_0b18_11ea_a184_80000208fe80row0_col69\" class=\"data row0 col69\" >nan</td>\n",
       "                        <td id=\"T_9b9752fc_0b18_11ea_a184_80000208fe80row0_col70\" class=\"data row0 col70\" >nan</td>\n",
       "                        <td id=\"T_9b9752fc_0b18_11ea_a184_80000208fe80row0_col71\" class=\"data row0 col71\" >nan</td>\n",
       "                        <td id=\"T_9b9752fc_0b18_11ea_a184_80000208fe80row0_col72\" class=\"data row0 col72\" >nan</td>\n",
       "                        <td id=\"T_9b9752fc_0b18_11ea_a184_80000208fe80row0_col73\" class=\"data row0 col73\" >nan</td>\n",
       "                        <td id=\"T_9b9752fc_0b18_11ea_a184_80000208fe80row0_col74\" class=\"data row0 col74\" >nan</td>\n",
       "                        <td id=\"T_9b9752fc_0b18_11ea_a184_80000208fe80row0_col75\" class=\"data row0 col75\" >nan</td>\n",
       "                        <td id=\"T_9b9752fc_0b18_11ea_a184_80000208fe80row0_col76\" class=\"data row0 col76\" >nan</td>\n",
       "                        <td id=\"T_9b9752fc_0b18_11ea_a184_80000208fe80row0_col77\" class=\"data row0 col77\" >nan</td>\n",
       "                        <td id=\"T_9b9752fc_0b18_11ea_a184_80000208fe80row0_col78\" class=\"data row0 col78\" >nan</td>\n",
       "                        <td id=\"T_9b9752fc_0b18_11ea_a184_80000208fe80row0_col79\" class=\"data row0 col79\" >nan</td>\n",
       "                        <td id=\"T_9b9752fc_0b18_11ea_a184_80000208fe80row0_col80\" class=\"data row0 col80\" >nan</td>\n",
       "                        <td id=\"T_9b9752fc_0b18_11ea_a184_80000208fe80row0_col81\" class=\"data row0 col81\" >nan</td>\n",
       "                        <td id=\"T_9b9752fc_0b18_11ea_a184_80000208fe80row0_col82\" class=\"data row0 col82\" >nan</td>\n",
       "                        <td id=\"T_9b9752fc_0b18_11ea_a184_80000208fe80row0_col83\" class=\"data row0 col83\" >nan</td>\n",
       "                        <td id=\"T_9b9752fc_0b18_11ea_a184_80000208fe80row0_col84\" class=\"data row0 col84\" >nan</td>\n",
       "                        <td id=\"T_9b9752fc_0b18_11ea_a184_80000208fe80row0_col85\" class=\"data row0 col85\" >nan</td>\n",
       "                        <td id=\"T_9b9752fc_0b18_11ea_a184_80000208fe80row0_col86\" class=\"data row0 col86\" >nan</td>\n",
       "                        <td id=\"T_9b9752fc_0b18_11ea_a184_80000208fe80row0_col87\" class=\"data row0 col87\" >nan</td>\n",
       "                        <td id=\"T_9b9752fc_0b18_11ea_a184_80000208fe80row0_col88\" class=\"data row0 col88\" >nan</td>\n",
       "                        <td id=\"T_9b9752fc_0b18_11ea_a184_80000208fe80row0_col89\" class=\"data row0 col89\" >nan</td>\n",
       "                        <td id=\"T_9b9752fc_0b18_11ea_a184_80000208fe80row0_col90\" class=\"data row0 col90\" >nan</td>\n",
       "                        <td id=\"T_9b9752fc_0b18_11ea_a184_80000208fe80row0_col91\" class=\"data row0 col91\" >nan</td>\n",
       "                        <td id=\"T_9b9752fc_0b18_11ea_a184_80000208fe80row0_col92\" class=\"data row0 col92\" >nan</td>\n",
       "                        <td id=\"T_9b9752fc_0b18_11ea_a184_80000208fe80row0_col93\" class=\"data row0 col93\" >nan</td>\n",
       "                        <td id=\"T_9b9752fc_0b18_11ea_a184_80000208fe80row0_col94\" class=\"data row0 col94\" >nan</td>\n",
       "                        <td id=\"T_9b9752fc_0b18_11ea_a184_80000208fe80row0_col95\" class=\"data row0 col95\" >nan</td>\n",
       "                        <td id=\"T_9b9752fc_0b18_11ea_a184_80000208fe80row0_col96\" class=\"data row0 col96\" >nan</td>\n",
       "                        <td id=\"T_9b9752fc_0b18_11ea_a184_80000208fe80row0_col97\" class=\"data row0 col97\" >nan</td>\n",
       "                        <td id=\"T_9b9752fc_0b18_11ea_a184_80000208fe80row0_col98\" class=\"data row0 col98\" >nan</td>\n",
       "                        <td id=\"T_9b9752fc_0b18_11ea_a184_80000208fe80row0_col99\" class=\"data row0 col99\" >nan</td>\n",
       "                        <td id=\"T_9b9752fc_0b18_11ea_a184_80000208fe80row0_col100\" class=\"data row0 col100\" >nan</td>\n",
       "                        <td id=\"T_9b9752fc_0b18_11ea_a184_80000208fe80row0_col101\" class=\"data row0 col101\" >nan</td>\n",
       "                        <td id=\"T_9b9752fc_0b18_11ea_a184_80000208fe80row0_col102\" class=\"data row0 col102\" >nan</td>\n",
       "                        <td id=\"T_9b9752fc_0b18_11ea_a184_80000208fe80row0_col103\" class=\"data row0 col103\" >nan</td>\n",
       "            </tr>\n",
       "            <tr>\n",
       "                                <td id=\"T_9b9752fc_0b18_11ea_a184_80000208fe80row1_col0\" class=\"data row1 col0\" >3.2</td>\n",
       "                        <td id=\"T_9b9752fc_0b18_11ea_a184_80000208fe80row1_col1\" class=\"data row1 col1\" >StackedEnsemble_BestOfFamily_AutoML_20191119_171536</td>\n",
       "                        <td id=\"T_9b9752fc_0b18_11ea_a184_80000208fe80row1_col2\" class=\"data row1 col2\" >GBM_grid_1_AutoML_20191119_171536_model_31</td>\n",
       "                        <td id=\"T_9b9752fc_0b18_11ea_a184_80000208fe80row1_col3\" class=\"data row1 col3\" >DeepLearning_grid_1_AutoML_20191119_171536_model_2</td>\n",
       "                        <td id=\"T_9b9752fc_0b18_11ea_a184_80000208fe80row1_col4\" class=\"data row1 col4\" >XGBoost_grid_1_AutoML_20191119_171536_model_13</td>\n",
       "                        <td id=\"T_9b9752fc_0b18_11ea_a184_80000208fe80row1_col5\" class=\"data row1 col5\" >DRF_1_AutoML_20191119_171536</td>\n",
       "                        <td id=\"T_9b9752fc_0b18_11ea_a184_80000208fe80row1_col6\" class=\"data row1 col6\" >XRT_1_AutoML_20191119_171536</td>\n",
       "                        <td id=\"T_9b9752fc_0b18_11ea_a184_80000208fe80row1_col7\" class=\"data row1 col7\" >GLM_grid_1_AutoML_20191119_171536_model_1</td>\n",
       "                        <td id=\"T_9b9752fc_0b18_11ea_a184_80000208fe80row1_col8\" class=\"data row1 col8\" >nan</td>\n",
       "                        <td id=\"T_9b9752fc_0b18_11ea_a184_80000208fe80row1_col9\" class=\"data row1 col9\" >nan</td>\n",
       "                        <td id=\"T_9b9752fc_0b18_11ea_a184_80000208fe80row1_col10\" class=\"data row1 col10\" >nan</td>\n",
       "                        <td id=\"T_9b9752fc_0b18_11ea_a184_80000208fe80row1_col11\" class=\"data row1 col11\" >nan</td>\n",
       "                        <td id=\"T_9b9752fc_0b18_11ea_a184_80000208fe80row1_col12\" class=\"data row1 col12\" >nan</td>\n",
       "                        <td id=\"T_9b9752fc_0b18_11ea_a184_80000208fe80row1_col13\" class=\"data row1 col13\" >nan</td>\n",
       "                        <td id=\"T_9b9752fc_0b18_11ea_a184_80000208fe80row1_col14\" class=\"data row1 col14\" >nan</td>\n",
       "                        <td id=\"T_9b9752fc_0b18_11ea_a184_80000208fe80row1_col15\" class=\"data row1 col15\" >nan</td>\n",
       "                        <td id=\"T_9b9752fc_0b18_11ea_a184_80000208fe80row1_col16\" class=\"data row1 col16\" >nan</td>\n",
       "                        <td id=\"T_9b9752fc_0b18_11ea_a184_80000208fe80row1_col17\" class=\"data row1 col17\" >nan</td>\n",
       "                        <td id=\"T_9b9752fc_0b18_11ea_a184_80000208fe80row1_col18\" class=\"data row1 col18\" >nan</td>\n",
       "                        <td id=\"T_9b9752fc_0b18_11ea_a184_80000208fe80row1_col19\" class=\"data row1 col19\" >nan</td>\n",
       "                        <td id=\"T_9b9752fc_0b18_11ea_a184_80000208fe80row1_col20\" class=\"data row1 col20\" >nan</td>\n",
       "                        <td id=\"T_9b9752fc_0b18_11ea_a184_80000208fe80row1_col21\" class=\"data row1 col21\" >nan</td>\n",
       "                        <td id=\"T_9b9752fc_0b18_11ea_a184_80000208fe80row1_col22\" class=\"data row1 col22\" >nan</td>\n",
       "                        <td id=\"T_9b9752fc_0b18_11ea_a184_80000208fe80row1_col23\" class=\"data row1 col23\" >nan</td>\n",
       "                        <td id=\"T_9b9752fc_0b18_11ea_a184_80000208fe80row1_col24\" class=\"data row1 col24\" >nan</td>\n",
       "                        <td id=\"T_9b9752fc_0b18_11ea_a184_80000208fe80row1_col25\" class=\"data row1 col25\" >nan</td>\n",
       "                        <td id=\"T_9b9752fc_0b18_11ea_a184_80000208fe80row1_col26\" class=\"data row1 col26\" >nan</td>\n",
       "                        <td id=\"T_9b9752fc_0b18_11ea_a184_80000208fe80row1_col27\" class=\"data row1 col27\" >nan</td>\n",
       "                        <td id=\"T_9b9752fc_0b18_11ea_a184_80000208fe80row1_col28\" class=\"data row1 col28\" >nan</td>\n",
       "                        <td id=\"T_9b9752fc_0b18_11ea_a184_80000208fe80row1_col29\" class=\"data row1 col29\" >nan</td>\n",
       "                        <td id=\"T_9b9752fc_0b18_11ea_a184_80000208fe80row1_col30\" class=\"data row1 col30\" >nan</td>\n",
       "                        <td id=\"T_9b9752fc_0b18_11ea_a184_80000208fe80row1_col31\" class=\"data row1 col31\" >nan</td>\n",
       "                        <td id=\"T_9b9752fc_0b18_11ea_a184_80000208fe80row1_col32\" class=\"data row1 col32\" >nan</td>\n",
       "                        <td id=\"T_9b9752fc_0b18_11ea_a184_80000208fe80row1_col33\" class=\"data row1 col33\" >nan</td>\n",
       "                        <td id=\"T_9b9752fc_0b18_11ea_a184_80000208fe80row1_col34\" class=\"data row1 col34\" >nan</td>\n",
       "                        <td id=\"T_9b9752fc_0b18_11ea_a184_80000208fe80row1_col35\" class=\"data row1 col35\" >nan</td>\n",
       "                        <td id=\"T_9b9752fc_0b18_11ea_a184_80000208fe80row1_col36\" class=\"data row1 col36\" >nan</td>\n",
       "                        <td id=\"T_9b9752fc_0b18_11ea_a184_80000208fe80row1_col37\" class=\"data row1 col37\" >nan</td>\n",
       "                        <td id=\"T_9b9752fc_0b18_11ea_a184_80000208fe80row1_col38\" class=\"data row1 col38\" >nan</td>\n",
       "                        <td id=\"T_9b9752fc_0b18_11ea_a184_80000208fe80row1_col39\" class=\"data row1 col39\" >nan</td>\n",
       "                        <td id=\"T_9b9752fc_0b18_11ea_a184_80000208fe80row1_col40\" class=\"data row1 col40\" >nan</td>\n",
       "                        <td id=\"T_9b9752fc_0b18_11ea_a184_80000208fe80row1_col41\" class=\"data row1 col41\" >nan</td>\n",
       "                        <td id=\"T_9b9752fc_0b18_11ea_a184_80000208fe80row1_col42\" class=\"data row1 col42\" >nan</td>\n",
       "                        <td id=\"T_9b9752fc_0b18_11ea_a184_80000208fe80row1_col43\" class=\"data row1 col43\" >nan</td>\n",
       "                        <td id=\"T_9b9752fc_0b18_11ea_a184_80000208fe80row1_col44\" class=\"data row1 col44\" >nan</td>\n",
       "                        <td id=\"T_9b9752fc_0b18_11ea_a184_80000208fe80row1_col45\" class=\"data row1 col45\" >nan</td>\n",
       "                        <td id=\"T_9b9752fc_0b18_11ea_a184_80000208fe80row1_col46\" class=\"data row1 col46\" >nan</td>\n",
       "                        <td id=\"T_9b9752fc_0b18_11ea_a184_80000208fe80row1_col47\" class=\"data row1 col47\" >nan</td>\n",
       "                        <td id=\"T_9b9752fc_0b18_11ea_a184_80000208fe80row1_col48\" class=\"data row1 col48\" >nan</td>\n",
       "                        <td id=\"T_9b9752fc_0b18_11ea_a184_80000208fe80row1_col49\" class=\"data row1 col49\" >nan</td>\n",
       "                        <td id=\"T_9b9752fc_0b18_11ea_a184_80000208fe80row1_col50\" class=\"data row1 col50\" >nan</td>\n",
       "                        <td id=\"T_9b9752fc_0b18_11ea_a184_80000208fe80row1_col51\" class=\"data row1 col51\" >nan</td>\n",
       "                        <td id=\"T_9b9752fc_0b18_11ea_a184_80000208fe80row1_col52\" class=\"data row1 col52\" >nan</td>\n",
       "                        <td id=\"T_9b9752fc_0b18_11ea_a184_80000208fe80row1_col53\" class=\"data row1 col53\" >nan</td>\n",
       "                        <td id=\"T_9b9752fc_0b18_11ea_a184_80000208fe80row1_col54\" class=\"data row1 col54\" >nan</td>\n",
       "                        <td id=\"T_9b9752fc_0b18_11ea_a184_80000208fe80row1_col55\" class=\"data row1 col55\" >nan</td>\n",
       "                        <td id=\"T_9b9752fc_0b18_11ea_a184_80000208fe80row1_col56\" class=\"data row1 col56\" >nan</td>\n",
       "                        <td id=\"T_9b9752fc_0b18_11ea_a184_80000208fe80row1_col57\" class=\"data row1 col57\" >nan</td>\n",
       "                        <td id=\"T_9b9752fc_0b18_11ea_a184_80000208fe80row1_col58\" class=\"data row1 col58\" >nan</td>\n",
       "                        <td id=\"T_9b9752fc_0b18_11ea_a184_80000208fe80row1_col59\" class=\"data row1 col59\" >nan</td>\n",
       "                        <td id=\"T_9b9752fc_0b18_11ea_a184_80000208fe80row1_col60\" class=\"data row1 col60\" >nan</td>\n",
       "                        <td id=\"T_9b9752fc_0b18_11ea_a184_80000208fe80row1_col61\" class=\"data row1 col61\" >nan</td>\n",
       "                        <td id=\"T_9b9752fc_0b18_11ea_a184_80000208fe80row1_col62\" class=\"data row1 col62\" >nan</td>\n",
       "                        <td id=\"T_9b9752fc_0b18_11ea_a184_80000208fe80row1_col63\" class=\"data row1 col63\" >nan</td>\n",
       "                        <td id=\"T_9b9752fc_0b18_11ea_a184_80000208fe80row1_col64\" class=\"data row1 col64\" >nan</td>\n",
       "                        <td id=\"T_9b9752fc_0b18_11ea_a184_80000208fe80row1_col65\" class=\"data row1 col65\" >nan</td>\n",
       "                        <td id=\"T_9b9752fc_0b18_11ea_a184_80000208fe80row1_col66\" class=\"data row1 col66\" >nan</td>\n",
       "                        <td id=\"T_9b9752fc_0b18_11ea_a184_80000208fe80row1_col67\" class=\"data row1 col67\" >nan</td>\n",
       "                        <td id=\"T_9b9752fc_0b18_11ea_a184_80000208fe80row1_col68\" class=\"data row1 col68\" >nan</td>\n",
       "                        <td id=\"T_9b9752fc_0b18_11ea_a184_80000208fe80row1_col69\" class=\"data row1 col69\" >nan</td>\n",
       "                        <td id=\"T_9b9752fc_0b18_11ea_a184_80000208fe80row1_col70\" class=\"data row1 col70\" >nan</td>\n",
       "                        <td id=\"T_9b9752fc_0b18_11ea_a184_80000208fe80row1_col71\" class=\"data row1 col71\" >nan</td>\n",
       "                        <td id=\"T_9b9752fc_0b18_11ea_a184_80000208fe80row1_col72\" class=\"data row1 col72\" >nan</td>\n",
       "                        <td id=\"T_9b9752fc_0b18_11ea_a184_80000208fe80row1_col73\" class=\"data row1 col73\" >nan</td>\n",
       "                        <td id=\"T_9b9752fc_0b18_11ea_a184_80000208fe80row1_col74\" class=\"data row1 col74\" >nan</td>\n",
       "                        <td id=\"T_9b9752fc_0b18_11ea_a184_80000208fe80row1_col75\" class=\"data row1 col75\" >nan</td>\n",
       "                        <td id=\"T_9b9752fc_0b18_11ea_a184_80000208fe80row1_col76\" class=\"data row1 col76\" >nan</td>\n",
       "                        <td id=\"T_9b9752fc_0b18_11ea_a184_80000208fe80row1_col77\" class=\"data row1 col77\" >nan</td>\n",
       "                        <td id=\"T_9b9752fc_0b18_11ea_a184_80000208fe80row1_col78\" class=\"data row1 col78\" >nan</td>\n",
       "                        <td id=\"T_9b9752fc_0b18_11ea_a184_80000208fe80row1_col79\" class=\"data row1 col79\" >nan</td>\n",
       "                        <td id=\"T_9b9752fc_0b18_11ea_a184_80000208fe80row1_col80\" class=\"data row1 col80\" >nan</td>\n",
       "                        <td id=\"T_9b9752fc_0b18_11ea_a184_80000208fe80row1_col81\" class=\"data row1 col81\" >nan</td>\n",
       "                        <td id=\"T_9b9752fc_0b18_11ea_a184_80000208fe80row1_col82\" class=\"data row1 col82\" >nan</td>\n",
       "                        <td id=\"T_9b9752fc_0b18_11ea_a184_80000208fe80row1_col83\" class=\"data row1 col83\" >nan</td>\n",
       "                        <td id=\"T_9b9752fc_0b18_11ea_a184_80000208fe80row1_col84\" class=\"data row1 col84\" >nan</td>\n",
       "                        <td id=\"T_9b9752fc_0b18_11ea_a184_80000208fe80row1_col85\" class=\"data row1 col85\" >nan</td>\n",
       "                        <td id=\"T_9b9752fc_0b18_11ea_a184_80000208fe80row1_col86\" class=\"data row1 col86\" >nan</td>\n",
       "                        <td id=\"T_9b9752fc_0b18_11ea_a184_80000208fe80row1_col87\" class=\"data row1 col87\" >nan</td>\n",
       "                        <td id=\"T_9b9752fc_0b18_11ea_a184_80000208fe80row1_col88\" class=\"data row1 col88\" >nan</td>\n",
       "                        <td id=\"T_9b9752fc_0b18_11ea_a184_80000208fe80row1_col89\" class=\"data row1 col89\" >nan</td>\n",
       "                        <td id=\"T_9b9752fc_0b18_11ea_a184_80000208fe80row1_col90\" class=\"data row1 col90\" >nan</td>\n",
       "                        <td id=\"T_9b9752fc_0b18_11ea_a184_80000208fe80row1_col91\" class=\"data row1 col91\" >nan</td>\n",
       "                        <td id=\"T_9b9752fc_0b18_11ea_a184_80000208fe80row1_col92\" class=\"data row1 col92\" >nan</td>\n",
       "                        <td id=\"T_9b9752fc_0b18_11ea_a184_80000208fe80row1_col93\" class=\"data row1 col93\" >nan</td>\n",
       "                        <td id=\"T_9b9752fc_0b18_11ea_a184_80000208fe80row1_col94\" class=\"data row1 col94\" >nan</td>\n",
       "                        <td id=\"T_9b9752fc_0b18_11ea_a184_80000208fe80row1_col95\" class=\"data row1 col95\" >nan</td>\n",
       "                        <td id=\"T_9b9752fc_0b18_11ea_a184_80000208fe80row1_col96\" class=\"data row1 col96\" >nan</td>\n",
       "                        <td id=\"T_9b9752fc_0b18_11ea_a184_80000208fe80row1_col97\" class=\"data row1 col97\" >nan</td>\n",
       "                        <td id=\"T_9b9752fc_0b18_11ea_a184_80000208fe80row1_col98\" class=\"data row1 col98\" >nan</td>\n",
       "                        <td id=\"T_9b9752fc_0b18_11ea_a184_80000208fe80row1_col99\" class=\"data row1 col99\" >nan</td>\n",
       "                        <td id=\"T_9b9752fc_0b18_11ea_a184_80000208fe80row1_col100\" class=\"data row1 col100\" >nan</td>\n",
       "                        <td id=\"T_9b9752fc_0b18_11ea_a184_80000208fe80row1_col101\" class=\"data row1 col101\" >nan</td>\n",
       "                        <td id=\"T_9b9752fc_0b18_11ea_a184_80000208fe80row1_col102\" class=\"data row1 col102\" >nan</td>\n",
       "                        <td id=\"T_9b9752fc_0b18_11ea_a184_80000208fe80row1_col103\" class=\"data row1 col103\" >nan</td>\n",
       "            </tr>\n",
       "            <tr>\n",
       "                                <td id=\"T_9b9752fc_0b18_11ea_a184_80000208fe80row2_col0\" class=\"data row2 col0\" >6.4</td>\n",
       "                        <td id=\"T_9b9752fc_0b18_11ea_a184_80000208fe80row2_col1\" class=\"data row2 col1\" >StackedEnsemble_AllModels_AutoML_20191119_185531</td>\n",
       "                        <td id=\"T_9b9752fc_0b18_11ea_a184_80000208fe80row2_col2\" class=\"data row2 col2\" >DeepLearning_grid_1_AutoML_20191119_185531_model_2</td>\n",
       "                        <td id=\"T_9b9752fc_0b18_11ea_a184_80000208fe80row2_col3\" class=\"data row2 col3\" >DeepLearning_grid_1_AutoML_20191119_185531_model_6</td>\n",
       "                        <td id=\"T_9b9752fc_0b18_11ea_a184_80000208fe80row2_col4\" class=\"data row2 col4\" >DeepLearning_grid_1_AutoML_20191119_185531_model_9</td>\n",
       "                        <td id=\"T_9b9752fc_0b18_11ea_a184_80000208fe80row2_col5\" class=\"data row2 col5\" >DeepLearning_grid_1_AutoML_20191119_185531_model_1</td>\n",
       "                        <td id=\"T_9b9752fc_0b18_11ea_a184_80000208fe80row2_col6\" class=\"data row2 col6\" >GLM_grid_1_AutoML_20191119_185531_model_1</td>\n",
       "                        <td id=\"T_9b9752fc_0b18_11ea_a184_80000208fe80row2_col7\" class=\"data row2 col7\" >XGBoost_1_AutoML_20191119_185531</td>\n",
       "                        <td id=\"T_9b9752fc_0b18_11ea_a184_80000208fe80row2_col8\" class=\"data row2 col8\" >DeepLearning_grid_1_AutoML_20191119_185531_model_5</td>\n",
       "                        <td id=\"T_9b9752fc_0b18_11ea_a184_80000208fe80row2_col9\" class=\"data row2 col9\" >DeepLearning_grid_1_AutoML_20191119_185531_model_3</td>\n",
       "                        <td id=\"T_9b9752fc_0b18_11ea_a184_80000208fe80row2_col10\" class=\"data row2 col10\" >GBM_grid_1_AutoML_20191119_185531_model_31</td>\n",
       "                        <td id=\"T_9b9752fc_0b18_11ea_a184_80000208fe80row2_col11\" class=\"data row2 col11\" >XGBoost_grid_1_AutoML_20191119_185531_model_20</td>\n",
       "                        <td id=\"T_9b9752fc_0b18_11ea_a184_80000208fe80row2_col12\" class=\"data row2 col12\" >GBM_grid_1_AutoML_20191119_185531_model_20</td>\n",
       "                        <td id=\"T_9b9752fc_0b18_11ea_a184_80000208fe80row2_col13\" class=\"data row2 col13\" >XGBoost_grid_1_AutoML_20191119_185531_model_18</td>\n",
       "                        <td id=\"T_9b9752fc_0b18_11ea_a184_80000208fe80row2_col14\" class=\"data row2 col14\" >XGBoost_3_AutoML_20191119_185531</td>\n",
       "                        <td id=\"T_9b9752fc_0b18_11ea_a184_80000208fe80row2_col15\" class=\"data row2 col15\" >GBM_grid_1_AutoML_20191119_185531_model_27</td>\n",
       "                        <td id=\"T_9b9752fc_0b18_11ea_a184_80000208fe80row2_col16\" class=\"data row2 col16\" >XGBoost_grid_1_AutoML_20191119_185531_model_2</td>\n",
       "                        <td id=\"T_9b9752fc_0b18_11ea_a184_80000208fe80row2_col17\" class=\"data row2 col17\" >XGBoost_grid_1_AutoML_20191119_185531_model_7</td>\n",
       "                        <td id=\"T_9b9752fc_0b18_11ea_a184_80000208fe80row2_col18\" class=\"data row2 col18\" >GBM_grid_1_AutoML_20191119_185531_model_15</td>\n",
       "                        <td id=\"T_9b9752fc_0b18_11ea_a184_80000208fe80row2_col19\" class=\"data row2 col19\" >XGBoost_grid_1_AutoML_20191119_185531_model_8</td>\n",
       "                        <td id=\"T_9b9752fc_0b18_11ea_a184_80000208fe80row2_col20\" class=\"data row2 col20\" >GBM_grid_1_AutoML_20191119_185531_model_19</td>\n",
       "                        <td id=\"T_9b9752fc_0b18_11ea_a184_80000208fe80row2_col21\" class=\"data row2 col21\" >GBM_4_AutoML_20191119_185531</td>\n",
       "                        <td id=\"T_9b9752fc_0b18_11ea_a184_80000208fe80row2_col22\" class=\"data row2 col22\" >XGBoost_grid_1_AutoML_20191119_185531_model_21</td>\n",
       "                        <td id=\"T_9b9752fc_0b18_11ea_a184_80000208fe80row2_col23\" class=\"data row2 col23\" >XGBoost_grid_1_AutoML_20191119_185531_model_15</td>\n",
       "                        <td id=\"T_9b9752fc_0b18_11ea_a184_80000208fe80row2_col24\" class=\"data row2 col24\" >XGBoost_2_AutoML_20191119_185531</td>\n",
       "                        <td id=\"T_9b9752fc_0b18_11ea_a184_80000208fe80row2_col25\" class=\"data row2 col25\" >XGBoost_grid_1_AutoML_20191119_185531_model_17</td>\n",
       "                        <td id=\"T_9b9752fc_0b18_11ea_a184_80000208fe80row2_col26\" class=\"data row2 col26\" >GBM_grid_1_AutoML_20191119_185531_model_8</td>\n",
       "                        <td id=\"T_9b9752fc_0b18_11ea_a184_80000208fe80row2_col27\" class=\"data row2 col27\" >GBM_grid_1_AutoML_20191119_185531_model_17</td>\n",
       "                        <td id=\"T_9b9752fc_0b18_11ea_a184_80000208fe80row2_col28\" class=\"data row2 col28\" >GBM_grid_1_AutoML_20191119_185531_model_29</td>\n",
       "                        <td id=\"T_9b9752fc_0b18_11ea_a184_80000208fe80row2_col29\" class=\"data row2 col29\" >GBM_grid_1_AutoML_20191119_185531_model_6</td>\n",
       "                        <td id=\"T_9b9752fc_0b18_11ea_a184_80000208fe80row2_col30\" class=\"data row2 col30\" >GBM_grid_1_AutoML_20191119_185531_model_1</td>\n",
       "                        <td id=\"T_9b9752fc_0b18_11ea_a184_80000208fe80row2_col31\" class=\"data row2 col31\" >GBM_2_AutoML_20191119_185531</td>\n",
       "                        <td id=\"T_9b9752fc_0b18_11ea_a184_80000208fe80row2_col32\" class=\"data row2 col32\" >GBM_grid_1_AutoML_20191119_185531_model_26</td>\n",
       "                        <td id=\"T_9b9752fc_0b18_11ea_a184_80000208fe80row2_col33\" class=\"data row2 col33\" >GBM_grid_1_AutoML_20191119_185531_model_12</td>\n",
       "                        <td id=\"T_9b9752fc_0b18_11ea_a184_80000208fe80row2_col34\" class=\"data row2 col34\" >GBM_grid_1_AutoML_20191119_185531_model_21</td>\n",
       "                        <td id=\"T_9b9752fc_0b18_11ea_a184_80000208fe80row2_col35\" class=\"data row2 col35\" >GBM_grid_1_AutoML_20191119_185531_model_13</td>\n",
       "                        <td id=\"T_9b9752fc_0b18_11ea_a184_80000208fe80row2_col36\" class=\"data row2 col36\" >GBM_grid_1_AutoML_20191119_185531_model_14</td>\n",
       "                        <td id=\"T_9b9752fc_0b18_11ea_a184_80000208fe80row2_col37\" class=\"data row2 col37\" >XGBoost_grid_1_AutoML_20191119_185531_model_13</td>\n",
       "                        <td id=\"T_9b9752fc_0b18_11ea_a184_80000208fe80row2_col38\" class=\"data row2 col38\" >XGBoost_grid_1_AutoML_20191119_185531_model_19</td>\n",
       "                        <td id=\"T_9b9752fc_0b18_11ea_a184_80000208fe80row2_col39\" class=\"data row2 col39\" >XGBoost_grid_1_AutoML_20191119_185531_model_5</td>\n",
       "                        <td id=\"T_9b9752fc_0b18_11ea_a184_80000208fe80row2_col40\" class=\"data row2 col40\" >GBM_1_AutoML_20191119_185531</td>\n",
       "                        <td id=\"T_9b9752fc_0b18_11ea_a184_80000208fe80row2_col41\" class=\"data row2 col41\" >XGBoost_grid_1_AutoML_20191119_185531_model_4</td>\n",
       "                        <td id=\"T_9b9752fc_0b18_11ea_a184_80000208fe80row2_col42\" class=\"data row2 col42\" >GBM_grid_1_AutoML_20191119_185531_model_3</td>\n",
       "                        <td id=\"T_9b9752fc_0b18_11ea_a184_80000208fe80row2_col43\" class=\"data row2 col43\" >GBM_5_AutoML_20191119_185531</td>\n",
       "                        <td id=\"T_9b9752fc_0b18_11ea_a184_80000208fe80row2_col44\" class=\"data row2 col44\" >GBM_grid_1_AutoML_20191119_185531_model_32</td>\n",
       "                        <td id=\"T_9b9752fc_0b18_11ea_a184_80000208fe80row2_col45\" class=\"data row2 col45\" >GBM_3_AutoML_20191119_185531</td>\n",
       "                        <td id=\"T_9b9752fc_0b18_11ea_a184_80000208fe80row2_col46\" class=\"data row2 col46\" >XGBoost_grid_1_AutoML_20191119_185531_model_12</td>\n",
       "                        <td id=\"T_9b9752fc_0b18_11ea_a184_80000208fe80row2_col47\" class=\"data row2 col47\" >XGBoost_grid_1_AutoML_20191119_185531_model_3</td>\n",
       "                        <td id=\"T_9b9752fc_0b18_11ea_a184_80000208fe80row2_col48\" class=\"data row2 col48\" >XGBoost_grid_1_AutoML_20191119_185531_model_1</td>\n",
       "                        <td id=\"T_9b9752fc_0b18_11ea_a184_80000208fe80row2_col49\" class=\"data row2 col49\" >GBM_grid_1_AutoML_20191119_185531_model_7</td>\n",
       "                        <td id=\"T_9b9752fc_0b18_11ea_a184_80000208fe80row2_col50\" class=\"data row2 col50\" >GBM_grid_1_AutoML_20191119_185531_model_16</td>\n",
       "                        <td id=\"T_9b9752fc_0b18_11ea_a184_80000208fe80row2_col51\" class=\"data row2 col51\" >XGBoost_grid_1_AutoML_20191119_185531_model_10</td>\n",
       "                        <td id=\"T_9b9752fc_0b18_11ea_a184_80000208fe80row2_col52\" class=\"data row2 col52\" >XRT_1_AutoML_20191119_185531</td>\n",
       "                        <td id=\"T_9b9752fc_0b18_11ea_a184_80000208fe80row2_col53\" class=\"data row2 col53\" >DRF_1_AutoML_20191119_185531</td>\n",
       "                        <td id=\"T_9b9752fc_0b18_11ea_a184_80000208fe80row2_col54\" class=\"data row2 col54\" >GBM_grid_1_AutoML_20191119_185531_model_10</td>\n",
       "                        <td id=\"T_9b9752fc_0b18_11ea_a184_80000208fe80row2_col55\" class=\"data row2 col55\" >XGBoost_grid_1_AutoML_20191119_185531_model_14</td>\n",
       "                        <td id=\"T_9b9752fc_0b18_11ea_a184_80000208fe80row2_col56\" class=\"data row2 col56\" >DeepLearning_grid_1_AutoML_20191119_185531_model_4</td>\n",
       "                        <td id=\"T_9b9752fc_0b18_11ea_a184_80000208fe80row2_col57\" class=\"data row2 col57\" >GBM_grid_1_AutoML_20191119_185531_model_18</td>\n",
       "                        <td id=\"T_9b9752fc_0b18_11ea_a184_80000208fe80row2_col58\" class=\"data row2 col58\" >GBM_grid_1_AutoML_20191119_185531_model_11</td>\n",
       "                        <td id=\"T_9b9752fc_0b18_11ea_a184_80000208fe80row2_col59\" class=\"data row2 col59\" >GBM_grid_1_AutoML_20191119_185531_model_35</td>\n",
       "                        <td id=\"T_9b9752fc_0b18_11ea_a184_80000208fe80row2_col60\" class=\"data row2 col60\" >GBM_grid_1_AutoML_20191119_185531_model_9</td>\n",
       "                        <td id=\"T_9b9752fc_0b18_11ea_a184_80000208fe80row2_col61\" class=\"data row2 col61\" >DeepLearning_grid_1_AutoML_20191119_185531_model_7</td>\n",
       "                        <td id=\"T_9b9752fc_0b18_11ea_a184_80000208fe80row2_col62\" class=\"data row2 col62\" >DeepLearning_grid_1_AutoML_20191119_185531_model_10</td>\n",
       "                        <td id=\"T_9b9752fc_0b18_11ea_a184_80000208fe80row2_col63\" class=\"data row2 col63\" >GBM_grid_1_AutoML_20191119_185531_model_4</td>\n",
       "                        <td id=\"T_9b9752fc_0b18_11ea_a184_80000208fe80row2_col64\" class=\"data row2 col64\" >DeepLearning_grid_1_AutoML_20191119_185531_model_8</td>\n",
       "                        <td id=\"T_9b9752fc_0b18_11ea_a184_80000208fe80row2_col65\" class=\"data row2 col65\" >XGBoost_grid_1_AutoML_20191119_185531_model_16</td>\n",
       "                        <td id=\"T_9b9752fc_0b18_11ea_a184_80000208fe80row2_col66\" class=\"data row2 col66\" >GBM_grid_1_AutoML_20191119_185531_model_30</td>\n",
       "                        <td id=\"T_9b9752fc_0b18_11ea_a184_80000208fe80row2_col67\" class=\"data row2 col67\" >XGBoost_grid_1_AutoML_20191119_185531_model_6</td>\n",
       "                        <td id=\"T_9b9752fc_0b18_11ea_a184_80000208fe80row2_col68\" class=\"data row2 col68\" >GBM_grid_1_AutoML_20191119_185531_model_23</td>\n",
       "                        <td id=\"T_9b9752fc_0b18_11ea_a184_80000208fe80row2_col69\" class=\"data row2 col69\" >XGBoost_grid_1_AutoML_20191119_185531_model_11</td>\n",
       "                        <td id=\"T_9b9752fc_0b18_11ea_a184_80000208fe80row2_col70\" class=\"data row2 col70\" >XGBoost_grid_1_AutoML_20191119_185531_model_22</td>\n",
       "                        <td id=\"T_9b9752fc_0b18_11ea_a184_80000208fe80row2_col71\" class=\"data row2 col71\" >GBM_grid_1_AutoML_20191119_185531_model_37</td>\n",
       "                        <td id=\"T_9b9752fc_0b18_11ea_a184_80000208fe80row2_col72\" class=\"data row2 col72\" >GBM_grid_1_AutoML_20191119_185531_model_38</td>\n",
       "                        <td id=\"T_9b9752fc_0b18_11ea_a184_80000208fe80row2_col73\" class=\"data row2 col73\" >GBM_grid_1_AutoML_20191119_185531_model_24</td>\n",
       "                        <td id=\"T_9b9752fc_0b18_11ea_a184_80000208fe80row2_col74\" class=\"data row2 col74\" >XGBoost_grid_1_AutoML_20191119_185531_model_23</td>\n",
       "                        <td id=\"T_9b9752fc_0b18_11ea_a184_80000208fe80row2_col75\" class=\"data row2 col75\" >GBM_grid_1_AutoML_20191119_185531_model_2</td>\n",
       "                        <td id=\"T_9b9752fc_0b18_11ea_a184_80000208fe80row2_col76\" class=\"data row2 col76\" >GBM_grid_1_AutoML_20191119_185531_model_34</td>\n",
       "                        <td id=\"T_9b9752fc_0b18_11ea_a184_80000208fe80row2_col77\" class=\"data row2 col77\" >GBM_grid_1_AutoML_20191119_185531_model_33</td>\n",
       "                        <td id=\"T_9b9752fc_0b18_11ea_a184_80000208fe80row2_col78\" class=\"data row2 col78\" >XGBoost_grid_1_AutoML_20191119_185531_model_9</td>\n",
       "                        <td id=\"T_9b9752fc_0b18_11ea_a184_80000208fe80row2_col79\" class=\"data row2 col79\" >GBM_grid_1_AutoML_20191119_185531_model_28</td>\n",
       "                        <td id=\"T_9b9752fc_0b18_11ea_a184_80000208fe80row2_col80\" class=\"data row2 col80\" >GBM_grid_1_AutoML_20191119_185531_model_25</td>\n",
       "                        <td id=\"T_9b9752fc_0b18_11ea_a184_80000208fe80row2_col81\" class=\"data row2 col81\" >DeepLearning_1_AutoML_20191119_185531</td>\n",
       "                        <td id=\"T_9b9752fc_0b18_11ea_a184_80000208fe80row2_col82\" class=\"data row2 col82\" >GBM_grid_1_AutoML_20191119_185531_model_39</td>\n",
       "                        <td id=\"T_9b9752fc_0b18_11ea_a184_80000208fe80row2_col83\" class=\"data row2 col83\" >GBM_grid_1_AutoML_20191119_185531_model_22</td>\n",
       "                        <td id=\"T_9b9752fc_0b18_11ea_a184_80000208fe80row2_col84\" class=\"data row2 col84\" >GBM_grid_1_AutoML_20191119_185531_model_5</td>\n",
       "                        <td id=\"T_9b9752fc_0b18_11ea_a184_80000208fe80row2_col85\" class=\"data row2 col85\" >GBM_grid_1_AutoML_20191119_185531_model_36</td>\n",
       "                        <td id=\"T_9b9752fc_0b18_11ea_a184_80000208fe80row2_col86\" class=\"data row2 col86\" >XGBoost_grid_1_AutoML_20191119_185531_model_24</td>\n",
       "                        <td id=\"T_9b9752fc_0b18_11ea_a184_80000208fe80row2_col87\" class=\"data row2 col87\" >nan</td>\n",
       "                        <td id=\"T_9b9752fc_0b18_11ea_a184_80000208fe80row2_col88\" class=\"data row2 col88\" >nan</td>\n",
       "                        <td id=\"T_9b9752fc_0b18_11ea_a184_80000208fe80row2_col89\" class=\"data row2 col89\" >nan</td>\n",
       "                        <td id=\"T_9b9752fc_0b18_11ea_a184_80000208fe80row2_col90\" class=\"data row2 col90\" >nan</td>\n",
       "                        <td id=\"T_9b9752fc_0b18_11ea_a184_80000208fe80row2_col91\" class=\"data row2 col91\" >nan</td>\n",
       "                        <td id=\"T_9b9752fc_0b18_11ea_a184_80000208fe80row2_col92\" class=\"data row2 col92\" >nan</td>\n",
       "                        <td id=\"T_9b9752fc_0b18_11ea_a184_80000208fe80row2_col93\" class=\"data row2 col93\" >nan</td>\n",
       "                        <td id=\"T_9b9752fc_0b18_11ea_a184_80000208fe80row2_col94\" class=\"data row2 col94\" >nan</td>\n",
       "                        <td id=\"T_9b9752fc_0b18_11ea_a184_80000208fe80row2_col95\" class=\"data row2 col95\" >nan</td>\n",
       "                        <td id=\"T_9b9752fc_0b18_11ea_a184_80000208fe80row2_col96\" class=\"data row2 col96\" >nan</td>\n",
       "                        <td id=\"T_9b9752fc_0b18_11ea_a184_80000208fe80row2_col97\" class=\"data row2 col97\" >nan</td>\n",
       "                        <td id=\"T_9b9752fc_0b18_11ea_a184_80000208fe80row2_col98\" class=\"data row2 col98\" >nan</td>\n",
       "                        <td id=\"T_9b9752fc_0b18_11ea_a184_80000208fe80row2_col99\" class=\"data row2 col99\" >nan</td>\n",
       "                        <td id=\"T_9b9752fc_0b18_11ea_a184_80000208fe80row2_col100\" class=\"data row2 col100\" >nan</td>\n",
       "                        <td id=\"T_9b9752fc_0b18_11ea_a184_80000208fe80row2_col101\" class=\"data row2 col101\" >nan</td>\n",
       "                        <td id=\"T_9b9752fc_0b18_11ea_a184_80000208fe80row2_col102\" class=\"data row2 col102\" >nan</td>\n",
       "                        <td id=\"T_9b9752fc_0b18_11ea_a184_80000208fe80row2_col103\" class=\"data row2 col103\" >nan</td>\n",
       "            </tr>\n",
       "            <tr>\n",
       "                                <td id=\"T_9b9752fc_0b18_11ea_a184_80000208fe80row3_col0\" class=\"data row3 col0\" >9.6</td>\n",
       "                        <td id=\"T_9b9752fc_0b18_11ea_a184_80000208fe80row3_col1\" class=\"data row3 col1\" >StackedEnsemble_AllModels_AutoML_20191119_202945</td>\n",
       "                        <td id=\"T_9b9752fc_0b18_11ea_a184_80000208fe80row3_col2\" class=\"data row3 col2\" >GLM_grid_1_AutoML_20191119_202945_model_1</td>\n",
       "                        <td id=\"T_9b9752fc_0b18_11ea_a184_80000208fe80row3_col3\" class=\"data row3 col3\" >DeepLearning_grid_1_AutoML_20191119_202945_model_2</td>\n",
       "                        <td id=\"T_9b9752fc_0b18_11ea_a184_80000208fe80row3_col4\" class=\"data row3 col4\" >DeepLearning_grid_1_AutoML_20191119_202945_model_8</td>\n",
       "                        <td id=\"T_9b9752fc_0b18_11ea_a184_80000208fe80row3_col5\" class=\"data row3 col5\" >DeepLearning_grid_1_AutoML_20191119_202945_model_7</td>\n",
       "                        <td id=\"T_9b9752fc_0b18_11ea_a184_80000208fe80row3_col6\" class=\"data row3 col6\" >DeepLearning_grid_1_AutoML_20191119_202945_model_11</td>\n",
       "                        <td id=\"T_9b9752fc_0b18_11ea_a184_80000208fe80row3_col7\" class=\"data row3 col7\" >XGBoost_1_AutoML_20191119_202945</td>\n",
       "                        <td id=\"T_9b9752fc_0b18_11ea_a184_80000208fe80row3_col8\" class=\"data row3 col8\" >DeepLearning_grid_1_AutoML_20191119_202945_model_3</td>\n",
       "                        <td id=\"T_9b9752fc_0b18_11ea_a184_80000208fe80row3_col9\" class=\"data row3 col9\" >DeepLearning_grid_1_AutoML_20191119_202945_model_1</td>\n",
       "                        <td id=\"T_9b9752fc_0b18_11ea_a184_80000208fe80row3_col10\" class=\"data row3 col10\" >XGBoost_grid_1_AutoML_20191119_202945_model_20</td>\n",
       "                        <td id=\"T_9b9752fc_0b18_11ea_a184_80000208fe80row3_col11\" class=\"data row3 col11\" >XGBoost_grid_1_AutoML_20191119_202945_model_18</td>\n",
       "                        <td id=\"T_9b9752fc_0b18_11ea_a184_80000208fe80row3_col12\" class=\"data row3 col12\" >DeepLearning_grid_1_AutoML_20191119_202945_model_10</td>\n",
       "                        <td id=\"T_9b9752fc_0b18_11ea_a184_80000208fe80row3_col13\" class=\"data row3 col13\" >XGBoost_grid_1_AutoML_20191119_202945_model_7</td>\n",
       "                        <td id=\"T_9b9752fc_0b18_11ea_a184_80000208fe80row3_col14\" class=\"data row3 col14\" >GBM_grid_1_AutoML_20191119_202945_model_1</td>\n",
       "                        <td id=\"T_9b9752fc_0b18_11ea_a184_80000208fe80row3_col15\" class=\"data row3 col15\" >DeepLearning_grid_1_AutoML_20191119_202945_model_5</td>\n",
       "                        <td id=\"T_9b9752fc_0b18_11ea_a184_80000208fe80row3_col16\" class=\"data row3 col16\" >XGBoost_grid_1_AutoML_20191119_202945_model_31</td>\n",
       "                        <td id=\"T_9b9752fc_0b18_11ea_a184_80000208fe80row3_col17\" class=\"data row3 col17\" >XGBoost_grid_1_AutoML_20191119_202945_model_21</td>\n",
       "                        <td id=\"T_9b9752fc_0b18_11ea_a184_80000208fe80row3_col18\" class=\"data row3 col18\" >GBM_grid_1_AutoML_20191119_202945_model_31</td>\n",
       "                        <td id=\"T_9b9752fc_0b18_11ea_a184_80000208fe80row3_col19\" class=\"data row3 col19\" >XGBoost_grid_1_AutoML_20191119_202945_model_2</td>\n",
       "                        <td id=\"T_9b9752fc_0b18_11ea_a184_80000208fe80row3_col20\" class=\"data row3 col20\" >XGBoost_grid_1_AutoML_20191119_202945_model_8</td>\n",
       "                        <td id=\"T_9b9752fc_0b18_11ea_a184_80000208fe80row3_col21\" class=\"data row3 col21\" >XGBoost_2_AutoML_20191119_202945</td>\n",
       "                        <td id=\"T_9b9752fc_0b18_11ea_a184_80000208fe80row3_col22\" class=\"data row3 col22\" >GBM_grid_1_AutoML_20191119_202945_model_40</td>\n",
       "                        <td id=\"T_9b9752fc_0b18_11ea_a184_80000208fe80row3_col23\" class=\"data row3 col23\" >XGBoost_grid_1_AutoML_20191119_202945_model_28</td>\n",
       "                        <td id=\"T_9b9752fc_0b18_11ea_a184_80000208fe80row3_col24\" class=\"data row3 col24\" >XGBoost_3_AutoML_20191119_202945</td>\n",
       "                        <td id=\"T_9b9752fc_0b18_11ea_a184_80000208fe80row3_col25\" class=\"data row3 col25\" >GBM_grid_1_AutoML_20191119_202945_model_39</td>\n",
       "                        <td id=\"T_9b9752fc_0b18_11ea_a184_80000208fe80row3_col26\" class=\"data row3 col26\" >XGBoost_grid_1_AutoML_20191119_202945_model_14</td>\n",
       "                        <td id=\"T_9b9752fc_0b18_11ea_a184_80000208fe80row3_col27\" class=\"data row3 col27\" >XGBoost_grid_1_AutoML_20191119_202945_model_29</td>\n",
       "                        <td id=\"T_9b9752fc_0b18_11ea_a184_80000208fe80row3_col28\" class=\"data row3 col28\" >GBM_grid_1_AutoML_20191119_202945_model_27</td>\n",
       "                        <td id=\"T_9b9752fc_0b18_11ea_a184_80000208fe80row3_col29\" class=\"data row3 col29\" >XGBoost_grid_1_AutoML_20191119_202945_model_12</td>\n",
       "                        <td id=\"T_9b9752fc_0b18_11ea_a184_80000208fe80row3_col30\" class=\"data row3 col30\" >XGBoost_grid_1_AutoML_20191119_202945_model_10</td>\n",
       "                        <td id=\"T_9b9752fc_0b18_11ea_a184_80000208fe80row3_col31\" class=\"data row3 col31\" >XGBoost_grid_1_AutoML_20191119_202945_model_30</td>\n",
       "                        <td id=\"T_9b9752fc_0b18_11ea_a184_80000208fe80row3_col32\" class=\"data row3 col32\" >GBM_grid_1_AutoML_20191119_202945_model_26</td>\n",
       "                        <td id=\"T_9b9752fc_0b18_11ea_a184_80000208fe80row3_col33\" class=\"data row3 col33\" >GBM_grid_1_AutoML_20191119_202945_model_8</td>\n",
       "                        <td id=\"T_9b9752fc_0b18_11ea_a184_80000208fe80row3_col34\" class=\"data row3 col34\" >XGBoost_grid_1_AutoML_20191119_202945_model_17</td>\n",
       "                        <td id=\"T_9b9752fc_0b18_11ea_a184_80000208fe80row3_col35\" class=\"data row3 col35\" >GBM_grid_1_AutoML_20191119_202945_model_19</td>\n",
       "                        <td id=\"T_9b9752fc_0b18_11ea_a184_80000208fe80row3_col36\" class=\"data row3 col36\" >GBM_grid_1_AutoML_20191119_202945_model_3</td>\n",
       "                        <td id=\"T_9b9752fc_0b18_11ea_a184_80000208fe80row3_col37\" class=\"data row3 col37\" >GBM_grid_1_AutoML_20191119_202945_model_14</td>\n",
       "                        <td id=\"T_9b9752fc_0b18_11ea_a184_80000208fe80row3_col38\" class=\"data row3 col38\" >GBM_5_AutoML_20191119_202945</td>\n",
       "                        <td id=\"T_9b9752fc_0b18_11ea_a184_80000208fe80row3_col39\" class=\"data row3 col39\" >GBM_grid_1_AutoML_20191119_202945_model_41</td>\n",
       "                        <td id=\"T_9b9752fc_0b18_11ea_a184_80000208fe80row3_col40\" class=\"data row3 col40\" >XGBoost_grid_1_AutoML_20191119_202945_model_15</td>\n",
       "                        <td id=\"T_9b9752fc_0b18_11ea_a184_80000208fe80row3_col41\" class=\"data row3 col41\" >XGBoost_grid_1_AutoML_20191119_202945_model_1</td>\n",
       "                        <td id=\"T_9b9752fc_0b18_11ea_a184_80000208fe80row3_col42\" class=\"data row3 col42\" >XGBoost_grid_1_AutoML_20191119_202945_model_5</td>\n",
       "                        <td id=\"T_9b9752fc_0b18_11ea_a184_80000208fe80row3_col43\" class=\"data row3 col43\" >GBM_grid_1_AutoML_20191119_202945_model_29</td>\n",
       "                        <td id=\"T_9b9752fc_0b18_11ea_a184_80000208fe80row3_col44\" class=\"data row3 col44\" >XGBoost_grid_1_AutoML_20191119_202945_model_4</td>\n",
       "                        <td id=\"T_9b9752fc_0b18_11ea_a184_80000208fe80row3_col45\" class=\"data row3 col45\" >XGBoost_grid_1_AutoML_20191119_202945_model_19</td>\n",
       "                        <td id=\"T_9b9752fc_0b18_11ea_a184_80000208fe80row3_col46\" class=\"data row3 col46\" >XGBoost_grid_1_AutoML_20191119_202945_model_24</td>\n",
       "                        <td id=\"T_9b9752fc_0b18_11ea_a184_80000208fe80row3_col47\" class=\"data row3 col47\" >GBM_3_AutoML_20191119_202945</td>\n",
       "                        <td id=\"T_9b9752fc_0b18_11ea_a184_80000208fe80row3_col48\" class=\"data row3 col48\" >GBM_grid_1_AutoML_20191119_202945_model_20</td>\n",
       "                        <td id=\"T_9b9752fc_0b18_11ea_a184_80000208fe80row3_col49\" class=\"data row3 col49\" >GBM_2_AutoML_20191119_202945</td>\n",
       "                        <td id=\"T_9b9752fc_0b18_11ea_a184_80000208fe80row3_col50\" class=\"data row3 col50\" >XGBoost_grid_1_AutoML_20191119_202945_model_13</td>\n",
       "                        <td id=\"T_9b9752fc_0b18_11ea_a184_80000208fe80row3_col51\" class=\"data row3 col51\" >XGBoost_grid_1_AutoML_20191119_202945_model_23</td>\n",
       "                        <td id=\"T_9b9752fc_0b18_11ea_a184_80000208fe80row3_col52\" class=\"data row3 col52\" >XGBoost_grid_1_AutoML_20191119_202945_model_3</td>\n",
       "                        <td id=\"T_9b9752fc_0b18_11ea_a184_80000208fe80row3_col53\" class=\"data row3 col53\" >GBM_grid_1_AutoML_20191119_202945_model_6</td>\n",
       "                        <td id=\"T_9b9752fc_0b18_11ea_a184_80000208fe80row3_col54\" class=\"data row3 col54\" >GBM_grid_1_AutoML_20191119_202945_model_38</td>\n",
       "                        <td id=\"T_9b9752fc_0b18_11ea_a184_80000208fe80row3_col55\" class=\"data row3 col55\" >GBM_grid_1_AutoML_20191119_202945_model_17</td>\n",
       "                        <td id=\"T_9b9752fc_0b18_11ea_a184_80000208fe80row3_col56\" class=\"data row3 col56\" >XGBoost_grid_1_AutoML_20191119_202945_model_25</td>\n",
       "                        <td id=\"T_9b9752fc_0b18_11ea_a184_80000208fe80row3_col57\" class=\"data row3 col57\" >GBM_4_AutoML_20191119_202945</td>\n",
       "                        <td id=\"T_9b9752fc_0b18_11ea_a184_80000208fe80row3_col58\" class=\"data row3 col58\" >GBM_grid_1_AutoML_20191119_202945_model_7</td>\n",
       "                        <td id=\"T_9b9752fc_0b18_11ea_a184_80000208fe80row3_col59\" class=\"data row3 col59\" >XGBoost_grid_1_AutoML_20191119_202945_model_27</td>\n",
       "                        <td id=\"T_9b9752fc_0b18_11ea_a184_80000208fe80row3_col60\" class=\"data row3 col60\" >GBM_grid_1_AutoML_20191119_202945_model_45</td>\n",
       "                        <td id=\"T_9b9752fc_0b18_11ea_a184_80000208fe80row3_col61\" class=\"data row3 col61\" >GBM_grid_1_AutoML_20191119_202945_model_15</td>\n",
       "                        <td id=\"T_9b9752fc_0b18_11ea_a184_80000208fe80row3_col62\" class=\"data row3 col62\" >GBM_grid_1_AutoML_20191119_202945_model_16</td>\n",
       "                        <td id=\"T_9b9752fc_0b18_11ea_a184_80000208fe80row3_col63\" class=\"data row3 col63\" >GBM_grid_1_AutoML_20191119_202945_model_18</td>\n",
       "                        <td id=\"T_9b9752fc_0b18_11ea_a184_80000208fe80row3_col64\" class=\"data row3 col64\" >GBM_grid_1_AutoML_20191119_202945_model_21</td>\n",
       "                        <td id=\"T_9b9752fc_0b18_11ea_a184_80000208fe80row3_col65\" class=\"data row3 col65\" >GBM_grid_1_AutoML_20191119_202945_model_10</td>\n",
       "                        <td id=\"T_9b9752fc_0b18_11ea_a184_80000208fe80row3_col66\" class=\"data row3 col66\" >GBM_grid_1_AutoML_20191119_202945_model_32</td>\n",
       "                        <td id=\"T_9b9752fc_0b18_11ea_a184_80000208fe80row3_col67\" class=\"data row3 col67\" >GBM_grid_1_AutoML_20191119_202945_model_13</td>\n",
       "                        <td id=\"T_9b9752fc_0b18_11ea_a184_80000208fe80row3_col68\" class=\"data row3 col68\" >GBM_grid_1_AutoML_20191119_202945_model_4</td>\n",
       "                        <td id=\"T_9b9752fc_0b18_11ea_a184_80000208fe80row3_col69\" class=\"data row3 col69\" >XRT_1_AutoML_20191119_202945</td>\n",
       "                        <td id=\"T_9b9752fc_0b18_11ea_a184_80000208fe80row3_col70\" class=\"data row3 col70\" >DRF_1_AutoML_20191119_202945</td>\n",
       "                        <td id=\"T_9b9752fc_0b18_11ea_a184_80000208fe80row3_col71\" class=\"data row3 col71\" >GBM_grid_1_AutoML_20191119_202945_model_12</td>\n",
       "                        <td id=\"T_9b9752fc_0b18_11ea_a184_80000208fe80row3_col72\" class=\"data row3 col72\" >DeepLearning_grid_1_AutoML_20191119_202945_model_9</td>\n",
       "                        <td id=\"T_9b9752fc_0b18_11ea_a184_80000208fe80row3_col73\" class=\"data row3 col73\" >DeepLearning_grid_1_AutoML_20191119_202945_model_6</td>\n",
       "                        <td id=\"T_9b9752fc_0b18_11ea_a184_80000208fe80row3_col74\" class=\"data row3 col74\" >GBM_grid_1_AutoML_20191119_202945_model_11</td>\n",
       "                        <td id=\"T_9b9752fc_0b18_11ea_a184_80000208fe80row3_col75\" class=\"data row3 col75\" >DeepLearning_grid_1_AutoML_20191119_202945_model_4</td>\n",
       "                        <td id=\"T_9b9752fc_0b18_11ea_a184_80000208fe80row3_col76\" class=\"data row3 col76\" >GBM_grid_1_AutoML_20191119_202945_model_35</td>\n",
       "                        <td id=\"T_9b9752fc_0b18_11ea_a184_80000208fe80row3_col77\" class=\"data row3 col77\" >DeepLearning_grid_1_AutoML_20191119_202945_model_12</td>\n",
       "                        <td id=\"T_9b9752fc_0b18_11ea_a184_80000208fe80row3_col78\" class=\"data row3 col78\" >GBM_grid_1_AutoML_20191119_202945_model_46</td>\n",
       "                        <td id=\"T_9b9752fc_0b18_11ea_a184_80000208fe80row3_col79\" class=\"data row3 col79\" >XGBoost_grid_1_AutoML_20191119_202945_model_26</td>\n",
       "                        <td id=\"T_9b9752fc_0b18_11ea_a184_80000208fe80row3_col80\" class=\"data row3 col80\" >GBM_grid_1_AutoML_20191119_202945_model_42</td>\n",
       "                        <td id=\"T_9b9752fc_0b18_11ea_a184_80000208fe80row3_col81\" class=\"data row3 col81\" >XGBoost_grid_1_AutoML_20191119_202945_model_16</td>\n",
       "                        <td id=\"T_9b9752fc_0b18_11ea_a184_80000208fe80row3_col82\" class=\"data row3 col82\" >GBM_1_AutoML_20191119_202945</td>\n",
       "                        <td id=\"T_9b9752fc_0b18_11ea_a184_80000208fe80row3_col83\" class=\"data row3 col83\" >GBM_grid_1_AutoML_20191119_202945_model_9</td>\n",
       "                        <td id=\"T_9b9752fc_0b18_11ea_a184_80000208fe80row3_col84\" class=\"data row3 col84\" >GBM_grid_1_AutoML_20191119_202945_model_37</td>\n",
       "                        <td id=\"T_9b9752fc_0b18_11ea_a184_80000208fe80row3_col85\" class=\"data row3 col85\" >GBM_grid_1_AutoML_20191119_202945_model_43</td>\n",
       "                        <td id=\"T_9b9752fc_0b18_11ea_a184_80000208fe80row3_col86\" class=\"data row3 col86\" >XGBoost_grid_1_AutoML_20191119_202945_model_6</td>\n",
       "                        <td id=\"T_9b9752fc_0b18_11ea_a184_80000208fe80row3_col87\" class=\"data row3 col87\" >XGBoost_grid_1_AutoML_20191119_202945_model_22</td>\n",
       "                        <td id=\"T_9b9752fc_0b18_11ea_a184_80000208fe80row3_col88\" class=\"data row3 col88\" >GBM_grid_1_AutoML_20191119_202945_model_23</td>\n",
       "                        <td id=\"T_9b9752fc_0b18_11ea_a184_80000208fe80row3_col89\" class=\"data row3 col89\" >GBM_grid_1_AutoML_20191119_202945_model_30</td>\n",
       "                        <td id=\"T_9b9752fc_0b18_11ea_a184_80000208fe80row3_col90\" class=\"data row3 col90\" >GBM_grid_1_AutoML_20191119_202945_model_2</td>\n",
       "                        <td id=\"T_9b9752fc_0b18_11ea_a184_80000208fe80row3_col91\" class=\"data row3 col91\" >XGBoost_grid_1_AutoML_20191119_202945_model_11</td>\n",
       "                        <td id=\"T_9b9752fc_0b18_11ea_a184_80000208fe80row3_col92\" class=\"data row3 col92\" >GBM_grid_1_AutoML_20191119_202945_model_33</td>\n",
       "                        <td id=\"T_9b9752fc_0b18_11ea_a184_80000208fe80row3_col93\" class=\"data row3 col93\" >XGBoost_grid_1_AutoML_20191119_202945_model_9</td>\n",
       "                        <td id=\"T_9b9752fc_0b18_11ea_a184_80000208fe80row3_col94\" class=\"data row3 col94\" >GBM_grid_1_AutoML_20191119_202945_model_34</td>\n",
       "                        <td id=\"T_9b9752fc_0b18_11ea_a184_80000208fe80row3_col95\" class=\"data row3 col95\" >GBM_grid_1_AutoML_20191119_202945_model_44</td>\n",
       "                        <td id=\"T_9b9752fc_0b18_11ea_a184_80000208fe80row3_col96\" class=\"data row3 col96\" >GBM_grid_1_AutoML_20191119_202945_model_24</td>\n",
       "                        <td id=\"T_9b9752fc_0b18_11ea_a184_80000208fe80row3_col97\" class=\"data row3 col97\" >GBM_grid_1_AutoML_20191119_202945_model_28</td>\n",
       "                        <td id=\"T_9b9752fc_0b18_11ea_a184_80000208fe80row3_col98\" class=\"data row3 col98\" >DeepLearning_1_AutoML_20191119_202945</td>\n",
       "                        <td id=\"T_9b9752fc_0b18_11ea_a184_80000208fe80row3_col99\" class=\"data row3 col99\" >GBM_grid_1_AutoML_20191119_202945_model_22</td>\n",
       "                        <td id=\"T_9b9752fc_0b18_11ea_a184_80000208fe80row3_col100\" class=\"data row3 col100\" >GBM_grid_1_AutoML_20191119_202945_model_25</td>\n",
       "                        <td id=\"T_9b9752fc_0b18_11ea_a184_80000208fe80row3_col101\" class=\"data row3 col101\" >GBM_grid_1_AutoML_20191119_202945_model_36</td>\n",
       "                        <td id=\"T_9b9752fc_0b18_11ea_a184_80000208fe80row3_col102\" class=\"data row3 col102\" >GBM_grid_1_AutoML_20191119_202945_model_5</td>\n",
       "                        <td id=\"T_9b9752fc_0b18_11ea_a184_80000208fe80row3_col103\" class=\"data row3 col103\" >GBM_grid_1_AutoML_20191119_202945_model_47</td>\n",
       "            </tr>\n",
       "            <tr>\n",
       "                                <td id=\"T_9b9752fc_0b18_11ea_a184_80000208fe80row4_col0\" class=\"data row4 col0\" >12.8</td>\n",
       "                        <td id=\"T_9b9752fc_0b18_11ea_a184_80000208fe80row4_col1\" class=\"data row4 col1\" >StackedEnsemble_AllModels_AutoML_20191119_220330</td>\n",
       "                        <td id=\"T_9b9752fc_0b18_11ea_a184_80000208fe80row4_col2\" class=\"data row4 col2\" >GLM_grid_1_AutoML_20191119_220330_model_1</td>\n",
       "                        <td id=\"T_9b9752fc_0b18_11ea_a184_80000208fe80row4_col3\" class=\"data row4 col3\" >DeepLearning_grid_1_AutoML_20191119_220330_model_7</td>\n",
       "                        <td id=\"T_9b9752fc_0b18_11ea_a184_80000208fe80row4_col4\" class=\"data row4 col4\" >XGBoost_1_AutoML_20191119_220330</td>\n",
       "                        <td id=\"T_9b9752fc_0b18_11ea_a184_80000208fe80row4_col5\" class=\"data row4 col5\" >DeepLearning_grid_1_AutoML_20191119_220330_model_16</td>\n",
       "                        <td id=\"T_9b9752fc_0b18_11ea_a184_80000208fe80row4_col6\" class=\"data row4 col6\" >XGBoost_grid_1_AutoML_20191119_220330_model_7</td>\n",
       "                        <td id=\"T_9b9752fc_0b18_11ea_a184_80000208fe80row4_col7\" class=\"data row4 col7\" >XGBoost_grid_1_AutoML_20191119_220330_model_5</td>\n",
       "                        <td id=\"T_9b9752fc_0b18_11ea_a184_80000208fe80row4_col8\" class=\"data row4 col8\" >XGBoost_2_AutoML_20191119_220330</td>\n",
       "                        <td id=\"T_9b9752fc_0b18_11ea_a184_80000208fe80row4_col9\" class=\"data row4 col9\" >DeepLearning_grid_1_AutoML_20191119_220330_model_3</td>\n",
       "                        <td id=\"T_9b9752fc_0b18_11ea_a184_80000208fe80row4_col10\" class=\"data row4 col10\" >XGBoost_grid_1_AutoML_20191119_220330_model_12</td>\n",
       "                        <td id=\"T_9b9752fc_0b18_11ea_a184_80000208fe80row4_col11\" class=\"data row4 col11\" >GBM_grid_1_AutoML_20191119_220330_model_1</td>\n",
       "                        <td id=\"T_9b9752fc_0b18_11ea_a184_80000208fe80row4_col12\" class=\"data row4 col12\" >XGBoost_grid_1_AutoML_20191119_220330_model_3</td>\n",
       "                        <td id=\"T_9b9752fc_0b18_11ea_a184_80000208fe80row4_col13\" class=\"data row4 col13\" >DeepLearning_grid_1_AutoML_20191119_220330_model_2</td>\n",
       "                        <td id=\"T_9b9752fc_0b18_11ea_a184_80000208fe80row4_col14\" class=\"data row4 col14\" >XGBoost_grid_1_AutoML_20191119_220330_model_8</td>\n",
       "                        <td id=\"T_9b9752fc_0b18_11ea_a184_80000208fe80row4_col15\" class=\"data row4 col15\" >GBM_grid_1_AutoML_20191119_220330_model_13</td>\n",
       "                        <td id=\"T_9b9752fc_0b18_11ea_a184_80000208fe80row4_col16\" class=\"data row4 col16\" >XGBoost_3_AutoML_20191119_220330</td>\n",
       "                        <td id=\"T_9b9752fc_0b18_11ea_a184_80000208fe80row4_col17\" class=\"data row4 col17\" >GBM_grid_1_AutoML_20191119_220330_model_7</td>\n",
       "                        <td id=\"T_9b9752fc_0b18_11ea_a184_80000208fe80row4_col18\" class=\"data row4 col18\" >XGBoost_grid_1_AutoML_20191119_220330_model_1</td>\n",
       "                        <td id=\"T_9b9752fc_0b18_11ea_a184_80000208fe80row4_col19\" class=\"data row4 col19\" >DeepLearning_grid_1_AutoML_20191119_220330_model_10</td>\n",
       "                        <td id=\"T_9b9752fc_0b18_11ea_a184_80000208fe80row4_col20\" class=\"data row4 col20\" >GBM_5_AutoML_20191119_220330</td>\n",
       "                        <td id=\"T_9b9752fc_0b18_11ea_a184_80000208fe80row4_col21\" class=\"data row4 col21\" >DeepLearning_grid_1_AutoML_20191119_220330_model_1</td>\n",
       "                        <td id=\"T_9b9752fc_0b18_11ea_a184_80000208fe80row4_col22\" class=\"data row4 col22\" >XGBoost_grid_1_AutoML_20191119_220330_model_2</td>\n",
       "                        <td id=\"T_9b9752fc_0b18_11ea_a184_80000208fe80row4_col23\" class=\"data row4 col23\" >GBM_grid_1_AutoML_20191119_220330_model_4</td>\n",
       "                        <td id=\"T_9b9752fc_0b18_11ea_a184_80000208fe80row4_col24\" class=\"data row4 col24\" >XGBoost_grid_1_AutoML_20191119_220330_model_10</td>\n",
       "                        <td id=\"T_9b9752fc_0b18_11ea_a184_80000208fe80row4_col25\" class=\"data row4 col25\" >DeepLearning_grid_1_AutoML_20191119_220330_model_15</td>\n",
       "                        <td id=\"T_9b9752fc_0b18_11ea_a184_80000208fe80row4_col26\" class=\"data row4 col26\" >DeepLearning_grid_1_AutoML_20191119_220330_model_6</td>\n",
       "                        <td id=\"T_9b9752fc_0b18_11ea_a184_80000208fe80row4_col27\" class=\"data row4 col27\" >DeepLearning_grid_1_AutoML_20191119_220330_model_19</td>\n",
       "                        <td id=\"T_9b9752fc_0b18_11ea_a184_80000208fe80row4_col28\" class=\"data row4 col28\" >GBM_4_AutoML_20191119_220330</td>\n",
       "                        <td id=\"T_9b9752fc_0b18_11ea_a184_80000208fe80row4_col29\" class=\"data row4 col29\" >DeepLearning_grid_1_AutoML_20191119_220330_model_11</td>\n",
       "                        <td id=\"T_9b9752fc_0b18_11ea_a184_80000208fe80row4_col30\" class=\"data row4 col30\" >GBM_grid_1_AutoML_20191119_220330_model_14</td>\n",
       "                        <td id=\"T_9b9752fc_0b18_11ea_a184_80000208fe80row4_col31\" class=\"data row4 col31\" >GBM_grid_1_AutoML_20191119_220330_model_9</td>\n",
       "                        <td id=\"T_9b9752fc_0b18_11ea_a184_80000208fe80row4_col32\" class=\"data row4 col32\" >GBM_grid_1_AutoML_20191119_220330_model_10</td>\n",
       "                        <td id=\"T_9b9752fc_0b18_11ea_a184_80000208fe80row4_col33\" class=\"data row4 col33\" >GBM_2_AutoML_20191119_220330</td>\n",
       "                        <td id=\"T_9b9752fc_0b18_11ea_a184_80000208fe80row4_col34\" class=\"data row4 col34\" >DeepLearning_grid_1_AutoML_20191119_220330_model_5</td>\n",
       "                        <td id=\"T_9b9752fc_0b18_11ea_a184_80000208fe80row4_col35\" class=\"data row4 col35\" >XGBoost_grid_1_AutoML_20191119_220330_model_4</td>\n",
       "                        <td id=\"T_9b9752fc_0b18_11ea_a184_80000208fe80row4_col36\" class=\"data row4 col36\" >GBM_grid_1_AutoML_20191119_220330_model_8</td>\n",
       "                        <td id=\"T_9b9752fc_0b18_11ea_a184_80000208fe80row4_col37\" class=\"data row4 col37\" >DeepLearning_grid_1_AutoML_20191119_220330_model_9</td>\n",
       "                        <td id=\"T_9b9752fc_0b18_11ea_a184_80000208fe80row4_col38\" class=\"data row4 col38\" >GBM_grid_1_AutoML_20191119_220330_model_3</td>\n",
       "                        <td id=\"T_9b9752fc_0b18_11ea_a184_80000208fe80row4_col39\" class=\"data row4 col39\" >DeepLearning_grid_1_AutoML_20191119_220330_model_17</td>\n",
       "                        <td id=\"T_9b9752fc_0b18_11ea_a184_80000208fe80row4_col40\" class=\"data row4 col40\" >GBM_grid_1_AutoML_20191119_220330_model_12</td>\n",
       "                        <td id=\"T_9b9752fc_0b18_11ea_a184_80000208fe80row4_col41\" class=\"data row4 col41\" >GBM_grid_1_AutoML_20191119_220330_model_6</td>\n",
       "                        <td id=\"T_9b9752fc_0b18_11ea_a184_80000208fe80row4_col42\" class=\"data row4 col42\" >DeepLearning_grid_1_AutoML_20191119_220330_model_4</td>\n",
       "                        <td id=\"T_9b9752fc_0b18_11ea_a184_80000208fe80row4_col43\" class=\"data row4 col43\" >DeepLearning_grid_1_AutoML_20191119_220330_model_13</td>\n",
       "                        <td id=\"T_9b9752fc_0b18_11ea_a184_80000208fe80row4_col44\" class=\"data row4 col44\" >GBM_1_AutoML_20191119_220330</td>\n",
       "                        <td id=\"T_9b9752fc_0b18_11ea_a184_80000208fe80row4_col45\" class=\"data row4 col45\" >DeepLearning_grid_1_AutoML_20191119_220330_model_12</td>\n",
       "                        <td id=\"T_9b9752fc_0b18_11ea_a184_80000208fe80row4_col46\" class=\"data row4 col46\" >GBM_grid_1_AutoML_20191119_220330_model_11</td>\n",
       "                        <td id=\"T_9b9752fc_0b18_11ea_a184_80000208fe80row4_col47\" class=\"data row4 col47\" >GBM_3_AutoML_20191119_220330</td>\n",
       "                        <td id=\"T_9b9752fc_0b18_11ea_a184_80000208fe80row4_col48\" class=\"data row4 col48\" >DRF_1_AutoML_20191119_220330</td>\n",
       "                        <td id=\"T_9b9752fc_0b18_11ea_a184_80000208fe80row4_col49\" class=\"data row4 col49\" >GBM_grid_1_AutoML_20191119_220330_model_2</td>\n",
       "                        <td id=\"T_9b9752fc_0b18_11ea_a184_80000208fe80row4_col50\" class=\"data row4 col50\" >XGBoost_grid_1_AutoML_20191119_220330_model_9</td>\n",
       "                        <td id=\"T_9b9752fc_0b18_11ea_a184_80000208fe80row4_col51\" class=\"data row4 col51\" >XRT_1_AutoML_20191119_220330</td>\n",
       "                        <td id=\"T_9b9752fc_0b18_11ea_a184_80000208fe80row4_col52\" class=\"data row4 col52\" >GBM_grid_1_AutoML_20191119_220330_model_15</td>\n",
       "                        <td id=\"T_9b9752fc_0b18_11ea_a184_80000208fe80row4_col53\" class=\"data row4 col53\" >XGBoost_grid_1_AutoML_20191119_220330_model_6</td>\n",
       "                        <td id=\"T_9b9752fc_0b18_11ea_a184_80000208fe80row4_col54\" class=\"data row4 col54\" >DeepLearning_grid_1_AutoML_20191119_220330_model_14</td>\n",
       "                        <td id=\"T_9b9752fc_0b18_11ea_a184_80000208fe80row4_col55\" class=\"data row4 col55\" >DeepLearning_grid_1_AutoML_20191119_220330_model_20</td>\n",
       "                        <td id=\"T_9b9752fc_0b18_11ea_a184_80000208fe80row4_col56\" class=\"data row4 col56\" >XGBoost_grid_1_AutoML_20191119_220330_model_11</td>\n",
       "                        <td id=\"T_9b9752fc_0b18_11ea_a184_80000208fe80row4_col57\" class=\"data row4 col57\" >DeepLearning_grid_1_AutoML_20191119_220330_model_8</td>\n",
       "                        <td id=\"T_9b9752fc_0b18_11ea_a184_80000208fe80row4_col58\" class=\"data row4 col58\" >DeepLearning_grid_1_AutoML_20191119_220330_model_18</td>\n",
       "                        <td id=\"T_9b9752fc_0b18_11ea_a184_80000208fe80row4_col59\" class=\"data row4 col59\" >DeepLearning_1_AutoML_20191119_220330</td>\n",
       "                        <td id=\"T_9b9752fc_0b18_11ea_a184_80000208fe80row4_col60\" class=\"data row4 col60\" >GBM_grid_1_AutoML_20191119_220330_model_5</td>\n",
       "                        <td id=\"T_9b9752fc_0b18_11ea_a184_80000208fe80row4_col61\" class=\"data row4 col61\" >nan</td>\n",
       "                        <td id=\"T_9b9752fc_0b18_11ea_a184_80000208fe80row4_col62\" class=\"data row4 col62\" >nan</td>\n",
       "                        <td id=\"T_9b9752fc_0b18_11ea_a184_80000208fe80row4_col63\" class=\"data row4 col63\" >nan</td>\n",
       "                        <td id=\"T_9b9752fc_0b18_11ea_a184_80000208fe80row4_col64\" class=\"data row4 col64\" >nan</td>\n",
       "                        <td id=\"T_9b9752fc_0b18_11ea_a184_80000208fe80row4_col65\" class=\"data row4 col65\" >nan</td>\n",
       "                        <td id=\"T_9b9752fc_0b18_11ea_a184_80000208fe80row4_col66\" class=\"data row4 col66\" >nan</td>\n",
       "                        <td id=\"T_9b9752fc_0b18_11ea_a184_80000208fe80row4_col67\" class=\"data row4 col67\" >nan</td>\n",
       "                        <td id=\"T_9b9752fc_0b18_11ea_a184_80000208fe80row4_col68\" class=\"data row4 col68\" >nan</td>\n",
       "                        <td id=\"T_9b9752fc_0b18_11ea_a184_80000208fe80row4_col69\" class=\"data row4 col69\" >nan</td>\n",
       "                        <td id=\"T_9b9752fc_0b18_11ea_a184_80000208fe80row4_col70\" class=\"data row4 col70\" >nan</td>\n",
       "                        <td id=\"T_9b9752fc_0b18_11ea_a184_80000208fe80row4_col71\" class=\"data row4 col71\" >nan</td>\n",
       "                        <td id=\"T_9b9752fc_0b18_11ea_a184_80000208fe80row4_col72\" class=\"data row4 col72\" >nan</td>\n",
       "                        <td id=\"T_9b9752fc_0b18_11ea_a184_80000208fe80row4_col73\" class=\"data row4 col73\" >nan</td>\n",
       "                        <td id=\"T_9b9752fc_0b18_11ea_a184_80000208fe80row4_col74\" class=\"data row4 col74\" >nan</td>\n",
       "                        <td id=\"T_9b9752fc_0b18_11ea_a184_80000208fe80row4_col75\" class=\"data row4 col75\" >nan</td>\n",
       "                        <td id=\"T_9b9752fc_0b18_11ea_a184_80000208fe80row4_col76\" class=\"data row4 col76\" >nan</td>\n",
       "                        <td id=\"T_9b9752fc_0b18_11ea_a184_80000208fe80row4_col77\" class=\"data row4 col77\" >nan</td>\n",
       "                        <td id=\"T_9b9752fc_0b18_11ea_a184_80000208fe80row4_col78\" class=\"data row4 col78\" >nan</td>\n",
       "                        <td id=\"T_9b9752fc_0b18_11ea_a184_80000208fe80row4_col79\" class=\"data row4 col79\" >nan</td>\n",
       "                        <td id=\"T_9b9752fc_0b18_11ea_a184_80000208fe80row4_col80\" class=\"data row4 col80\" >nan</td>\n",
       "                        <td id=\"T_9b9752fc_0b18_11ea_a184_80000208fe80row4_col81\" class=\"data row4 col81\" >nan</td>\n",
       "                        <td id=\"T_9b9752fc_0b18_11ea_a184_80000208fe80row4_col82\" class=\"data row4 col82\" >nan</td>\n",
       "                        <td id=\"T_9b9752fc_0b18_11ea_a184_80000208fe80row4_col83\" class=\"data row4 col83\" >nan</td>\n",
       "                        <td id=\"T_9b9752fc_0b18_11ea_a184_80000208fe80row4_col84\" class=\"data row4 col84\" >nan</td>\n",
       "                        <td id=\"T_9b9752fc_0b18_11ea_a184_80000208fe80row4_col85\" class=\"data row4 col85\" >nan</td>\n",
       "                        <td id=\"T_9b9752fc_0b18_11ea_a184_80000208fe80row4_col86\" class=\"data row4 col86\" >nan</td>\n",
       "                        <td id=\"T_9b9752fc_0b18_11ea_a184_80000208fe80row4_col87\" class=\"data row4 col87\" >nan</td>\n",
       "                        <td id=\"T_9b9752fc_0b18_11ea_a184_80000208fe80row4_col88\" class=\"data row4 col88\" >nan</td>\n",
       "                        <td id=\"T_9b9752fc_0b18_11ea_a184_80000208fe80row4_col89\" class=\"data row4 col89\" >nan</td>\n",
       "                        <td id=\"T_9b9752fc_0b18_11ea_a184_80000208fe80row4_col90\" class=\"data row4 col90\" >nan</td>\n",
       "                        <td id=\"T_9b9752fc_0b18_11ea_a184_80000208fe80row4_col91\" class=\"data row4 col91\" >nan</td>\n",
       "                        <td id=\"T_9b9752fc_0b18_11ea_a184_80000208fe80row4_col92\" class=\"data row4 col92\" >nan</td>\n",
       "                        <td id=\"T_9b9752fc_0b18_11ea_a184_80000208fe80row4_col93\" class=\"data row4 col93\" >nan</td>\n",
       "                        <td id=\"T_9b9752fc_0b18_11ea_a184_80000208fe80row4_col94\" class=\"data row4 col94\" >nan</td>\n",
       "                        <td id=\"T_9b9752fc_0b18_11ea_a184_80000208fe80row4_col95\" class=\"data row4 col95\" >nan</td>\n",
       "                        <td id=\"T_9b9752fc_0b18_11ea_a184_80000208fe80row4_col96\" class=\"data row4 col96\" >nan</td>\n",
       "                        <td id=\"T_9b9752fc_0b18_11ea_a184_80000208fe80row4_col97\" class=\"data row4 col97\" >nan</td>\n",
       "                        <td id=\"T_9b9752fc_0b18_11ea_a184_80000208fe80row4_col98\" class=\"data row4 col98\" >nan</td>\n",
       "                        <td id=\"T_9b9752fc_0b18_11ea_a184_80000208fe80row4_col99\" class=\"data row4 col99\" >nan</td>\n",
       "                        <td id=\"T_9b9752fc_0b18_11ea_a184_80000208fe80row4_col100\" class=\"data row4 col100\" >nan</td>\n",
       "                        <td id=\"T_9b9752fc_0b18_11ea_a184_80000208fe80row4_col101\" class=\"data row4 col101\" >nan</td>\n",
       "                        <td id=\"T_9b9752fc_0b18_11ea_a184_80000208fe80row4_col102\" class=\"data row4 col102\" >nan</td>\n",
       "                        <td id=\"T_9b9752fc_0b18_11ea_a184_80000208fe80row4_col103\" class=\"data row4 col103\" >nan</td>\n",
       "            </tr>\n",
       "            <tr>\n",
       "                                <td id=\"T_9b9752fc_0b18_11ea_a184_80000208fe80row5_col0\" class=\"data row5 col0\" >16</td>\n",
       "                        <td id=\"T_9b9752fc_0b18_11ea_a184_80000208fe80row5_col1\" class=\"data row5 col1\" >GLM_grid_1_AutoML_20191119_233536_model_1</td>\n",
       "                        <td id=\"T_9b9752fc_0b18_11ea_a184_80000208fe80row5_col2\" class=\"data row5 col2\" >nan</td>\n",
       "                        <td id=\"T_9b9752fc_0b18_11ea_a184_80000208fe80row5_col3\" class=\"data row5 col3\" >nan</td>\n",
       "                        <td id=\"T_9b9752fc_0b18_11ea_a184_80000208fe80row5_col4\" class=\"data row5 col4\" >nan</td>\n",
       "                        <td id=\"T_9b9752fc_0b18_11ea_a184_80000208fe80row5_col5\" class=\"data row5 col5\" >nan</td>\n",
       "                        <td id=\"T_9b9752fc_0b18_11ea_a184_80000208fe80row5_col6\" class=\"data row5 col6\" >nan</td>\n",
       "                        <td id=\"T_9b9752fc_0b18_11ea_a184_80000208fe80row5_col7\" class=\"data row5 col7\" >nan</td>\n",
       "                        <td id=\"T_9b9752fc_0b18_11ea_a184_80000208fe80row5_col8\" class=\"data row5 col8\" >nan</td>\n",
       "                        <td id=\"T_9b9752fc_0b18_11ea_a184_80000208fe80row5_col9\" class=\"data row5 col9\" >nan</td>\n",
       "                        <td id=\"T_9b9752fc_0b18_11ea_a184_80000208fe80row5_col10\" class=\"data row5 col10\" >nan</td>\n",
       "                        <td id=\"T_9b9752fc_0b18_11ea_a184_80000208fe80row5_col11\" class=\"data row5 col11\" >nan</td>\n",
       "                        <td id=\"T_9b9752fc_0b18_11ea_a184_80000208fe80row5_col12\" class=\"data row5 col12\" >nan</td>\n",
       "                        <td id=\"T_9b9752fc_0b18_11ea_a184_80000208fe80row5_col13\" class=\"data row5 col13\" >nan</td>\n",
       "                        <td id=\"T_9b9752fc_0b18_11ea_a184_80000208fe80row5_col14\" class=\"data row5 col14\" >nan</td>\n",
       "                        <td id=\"T_9b9752fc_0b18_11ea_a184_80000208fe80row5_col15\" class=\"data row5 col15\" >nan</td>\n",
       "                        <td id=\"T_9b9752fc_0b18_11ea_a184_80000208fe80row5_col16\" class=\"data row5 col16\" >nan</td>\n",
       "                        <td id=\"T_9b9752fc_0b18_11ea_a184_80000208fe80row5_col17\" class=\"data row5 col17\" >nan</td>\n",
       "                        <td id=\"T_9b9752fc_0b18_11ea_a184_80000208fe80row5_col18\" class=\"data row5 col18\" >nan</td>\n",
       "                        <td id=\"T_9b9752fc_0b18_11ea_a184_80000208fe80row5_col19\" class=\"data row5 col19\" >nan</td>\n",
       "                        <td id=\"T_9b9752fc_0b18_11ea_a184_80000208fe80row5_col20\" class=\"data row5 col20\" >nan</td>\n",
       "                        <td id=\"T_9b9752fc_0b18_11ea_a184_80000208fe80row5_col21\" class=\"data row5 col21\" >nan</td>\n",
       "                        <td id=\"T_9b9752fc_0b18_11ea_a184_80000208fe80row5_col22\" class=\"data row5 col22\" >nan</td>\n",
       "                        <td id=\"T_9b9752fc_0b18_11ea_a184_80000208fe80row5_col23\" class=\"data row5 col23\" >nan</td>\n",
       "                        <td id=\"T_9b9752fc_0b18_11ea_a184_80000208fe80row5_col24\" class=\"data row5 col24\" >nan</td>\n",
       "                        <td id=\"T_9b9752fc_0b18_11ea_a184_80000208fe80row5_col25\" class=\"data row5 col25\" >nan</td>\n",
       "                        <td id=\"T_9b9752fc_0b18_11ea_a184_80000208fe80row5_col26\" class=\"data row5 col26\" >nan</td>\n",
       "                        <td id=\"T_9b9752fc_0b18_11ea_a184_80000208fe80row5_col27\" class=\"data row5 col27\" >nan</td>\n",
       "                        <td id=\"T_9b9752fc_0b18_11ea_a184_80000208fe80row5_col28\" class=\"data row5 col28\" >nan</td>\n",
       "                        <td id=\"T_9b9752fc_0b18_11ea_a184_80000208fe80row5_col29\" class=\"data row5 col29\" >nan</td>\n",
       "                        <td id=\"T_9b9752fc_0b18_11ea_a184_80000208fe80row5_col30\" class=\"data row5 col30\" >nan</td>\n",
       "                        <td id=\"T_9b9752fc_0b18_11ea_a184_80000208fe80row5_col31\" class=\"data row5 col31\" >nan</td>\n",
       "                        <td id=\"T_9b9752fc_0b18_11ea_a184_80000208fe80row5_col32\" class=\"data row5 col32\" >nan</td>\n",
       "                        <td id=\"T_9b9752fc_0b18_11ea_a184_80000208fe80row5_col33\" class=\"data row5 col33\" >nan</td>\n",
       "                        <td id=\"T_9b9752fc_0b18_11ea_a184_80000208fe80row5_col34\" class=\"data row5 col34\" >nan</td>\n",
       "                        <td id=\"T_9b9752fc_0b18_11ea_a184_80000208fe80row5_col35\" class=\"data row5 col35\" >nan</td>\n",
       "                        <td id=\"T_9b9752fc_0b18_11ea_a184_80000208fe80row5_col36\" class=\"data row5 col36\" >nan</td>\n",
       "                        <td id=\"T_9b9752fc_0b18_11ea_a184_80000208fe80row5_col37\" class=\"data row5 col37\" >nan</td>\n",
       "                        <td id=\"T_9b9752fc_0b18_11ea_a184_80000208fe80row5_col38\" class=\"data row5 col38\" >nan</td>\n",
       "                        <td id=\"T_9b9752fc_0b18_11ea_a184_80000208fe80row5_col39\" class=\"data row5 col39\" >nan</td>\n",
       "                        <td id=\"T_9b9752fc_0b18_11ea_a184_80000208fe80row5_col40\" class=\"data row5 col40\" >nan</td>\n",
       "                        <td id=\"T_9b9752fc_0b18_11ea_a184_80000208fe80row5_col41\" class=\"data row5 col41\" >nan</td>\n",
       "                        <td id=\"T_9b9752fc_0b18_11ea_a184_80000208fe80row5_col42\" class=\"data row5 col42\" >nan</td>\n",
       "                        <td id=\"T_9b9752fc_0b18_11ea_a184_80000208fe80row5_col43\" class=\"data row5 col43\" >nan</td>\n",
       "                        <td id=\"T_9b9752fc_0b18_11ea_a184_80000208fe80row5_col44\" class=\"data row5 col44\" >nan</td>\n",
       "                        <td id=\"T_9b9752fc_0b18_11ea_a184_80000208fe80row5_col45\" class=\"data row5 col45\" >nan</td>\n",
       "                        <td id=\"T_9b9752fc_0b18_11ea_a184_80000208fe80row5_col46\" class=\"data row5 col46\" >nan</td>\n",
       "                        <td id=\"T_9b9752fc_0b18_11ea_a184_80000208fe80row5_col47\" class=\"data row5 col47\" >nan</td>\n",
       "                        <td id=\"T_9b9752fc_0b18_11ea_a184_80000208fe80row5_col48\" class=\"data row5 col48\" >nan</td>\n",
       "                        <td id=\"T_9b9752fc_0b18_11ea_a184_80000208fe80row5_col49\" class=\"data row5 col49\" >nan</td>\n",
       "                        <td id=\"T_9b9752fc_0b18_11ea_a184_80000208fe80row5_col50\" class=\"data row5 col50\" >nan</td>\n",
       "                        <td id=\"T_9b9752fc_0b18_11ea_a184_80000208fe80row5_col51\" class=\"data row5 col51\" >nan</td>\n",
       "                        <td id=\"T_9b9752fc_0b18_11ea_a184_80000208fe80row5_col52\" class=\"data row5 col52\" >nan</td>\n",
       "                        <td id=\"T_9b9752fc_0b18_11ea_a184_80000208fe80row5_col53\" class=\"data row5 col53\" >nan</td>\n",
       "                        <td id=\"T_9b9752fc_0b18_11ea_a184_80000208fe80row5_col54\" class=\"data row5 col54\" >nan</td>\n",
       "                        <td id=\"T_9b9752fc_0b18_11ea_a184_80000208fe80row5_col55\" class=\"data row5 col55\" >nan</td>\n",
       "                        <td id=\"T_9b9752fc_0b18_11ea_a184_80000208fe80row5_col56\" class=\"data row5 col56\" >nan</td>\n",
       "                        <td id=\"T_9b9752fc_0b18_11ea_a184_80000208fe80row5_col57\" class=\"data row5 col57\" >nan</td>\n",
       "                        <td id=\"T_9b9752fc_0b18_11ea_a184_80000208fe80row5_col58\" class=\"data row5 col58\" >nan</td>\n",
       "                        <td id=\"T_9b9752fc_0b18_11ea_a184_80000208fe80row5_col59\" class=\"data row5 col59\" >nan</td>\n",
       "                        <td id=\"T_9b9752fc_0b18_11ea_a184_80000208fe80row5_col60\" class=\"data row5 col60\" >nan</td>\n",
       "                        <td id=\"T_9b9752fc_0b18_11ea_a184_80000208fe80row5_col61\" class=\"data row5 col61\" >nan</td>\n",
       "                        <td id=\"T_9b9752fc_0b18_11ea_a184_80000208fe80row5_col62\" class=\"data row5 col62\" >nan</td>\n",
       "                        <td id=\"T_9b9752fc_0b18_11ea_a184_80000208fe80row5_col63\" class=\"data row5 col63\" >nan</td>\n",
       "                        <td id=\"T_9b9752fc_0b18_11ea_a184_80000208fe80row5_col64\" class=\"data row5 col64\" >nan</td>\n",
       "                        <td id=\"T_9b9752fc_0b18_11ea_a184_80000208fe80row5_col65\" class=\"data row5 col65\" >nan</td>\n",
       "                        <td id=\"T_9b9752fc_0b18_11ea_a184_80000208fe80row5_col66\" class=\"data row5 col66\" >nan</td>\n",
       "                        <td id=\"T_9b9752fc_0b18_11ea_a184_80000208fe80row5_col67\" class=\"data row5 col67\" >nan</td>\n",
       "                        <td id=\"T_9b9752fc_0b18_11ea_a184_80000208fe80row5_col68\" class=\"data row5 col68\" >nan</td>\n",
       "                        <td id=\"T_9b9752fc_0b18_11ea_a184_80000208fe80row5_col69\" class=\"data row5 col69\" >nan</td>\n",
       "                        <td id=\"T_9b9752fc_0b18_11ea_a184_80000208fe80row5_col70\" class=\"data row5 col70\" >nan</td>\n",
       "                        <td id=\"T_9b9752fc_0b18_11ea_a184_80000208fe80row5_col71\" class=\"data row5 col71\" >nan</td>\n",
       "                        <td id=\"T_9b9752fc_0b18_11ea_a184_80000208fe80row5_col72\" class=\"data row5 col72\" >nan</td>\n",
       "                        <td id=\"T_9b9752fc_0b18_11ea_a184_80000208fe80row5_col73\" class=\"data row5 col73\" >nan</td>\n",
       "                        <td id=\"T_9b9752fc_0b18_11ea_a184_80000208fe80row5_col74\" class=\"data row5 col74\" >nan</td>\n",
       "                        <td id=\"T_9b9752fc_0b18_11ea_a184_80000208fe80row5_col75\" class=\"data row5 col75\" >nan</td>\n",
       "                        <td id=\"T_9b9752fc_0b18_11ea_a184_80000208fe80row5_col76\" class=\"data row5 col76\" >nan</td>\n",
       "                        <td id=\"T_9b9752fc_0b18_11ea_a184_80000208fe80row5_col77\" class=\"data row5 col77\" >nan</td>\n",
       "                        <td id=\"T_9b9752fc_0b18_11ea_a184_80000208fe80row5_col78\" class=\"data row5 col78\" >nan</td>\n",
       "                        <td id=\"T_9b9752fc_0b18_11ea_a184_80000208fe80row5_col79\" class=\"data row5 col79\" >nan</td>\n",
       "                        <td id=\"T_9b9752fc_0b18_11ea_a184_80000208fe80row5_col80\" class=\"data row5 col80\" >nan</td>\n",
       "                        <td id=\"T_9b9752fc_0b18_11ea_a184_80000208fe80row5_col81\" class=\"data row5 col81\" >nan</td>\n",
       "                        <td id=\"T_9b9752fc_0b18_11ea_a184_80000208fe80row5_col82\" class=\"data row5 col82\" >nan</td>\n",
       "                        <td id=\"T_9b9752fc_0b18_11ea_a184_80000208fe80row5_col83\" class=\"data row5 col83\" >nan</td>\n",
       "                        <td id=\"T_9b9752fc_0b18_11ea_a184_80000208fe80row5_col84\" class=\"data row5 col84\" >nan</td>\n",
       "                        <td id=\"T_9b9752fc_0b18_11ea_a184_80000208fe80row5_col85\" class=\"data row5 col85\" >nan</td>\n",
       "                        <td id=\"T_9b9752fc_0b18_11ea_a184_80000208fe80row5_col86\" class=\"data row5 col86\" >nan</td>\n",
       "                        <td id=\"T_9b9752fc_0b18_11ea_a184_80000208fe80row5_col87\" class=\"data row5 col87\" >nan</td>\n",
       "                        <td id=\"T_9b9752fc_0b18_11ea_a184_80000208fe80row5_col88\" class=\"data row5 col88\" >nan</td>\n",
       "                        <td id=\"T_9b9752fc_0b18_11ea_a184_80000208fe80row5_col89\" class=\"data row5 col89\" >nan</td>\n",
       "                        <td id=\"T_9b9752fc_0b18_11ea_a184_80000208fe80row5_col90\" class=\"data row5 col90\" >nan</td>\n",
       "                        <td id=\"T_9b9752fc_0b18_11ea_a184_80000208fe80row5_col91\" class=\"data row5 col91\" >nan</td>\n",
       "                        <td id=\"T_9b9752fc_0b18_11ea_a184_80000208fe80row5_col92\" class=\"data row5 col92\" >nan</td>\n",
       "                        <td id=\"T_9b9752fc_0b18_11ea_a184_80000208fe80row5_col93\" class=\"data row5 col93\" >nan</td>\n",
       "                        <td id=\"T_9b9752fc_0b18_11ea_a184_80000208fe80row5_col94\" class=\"data row5 col94\" >nan</td>\n",
       "                        <td id=\"T_9b9752fc_0b18_11ea_a184_80000208fe80row5_col95\" class=\"data row5 col95\" >nan</td>\n",
       "                        <td id=\"T_9b9752fc_0b18_11ea_a184_80000208fe80row5_col96\" class=\"data row5 col96\" >nan</td>\n",
       "                        <td id=\"T_9b9752fc_0b18_11ea_a184_80000208fe80row5_col97\" class=\"data row5 col97\" >nan</td>\n",
       "                        <td id=\"T_9b9752fc_0b18_11ea_a184_80000208fe80row5_col98\" class=\"data row5 col98\" >nan</td>\n",
       "                        <td id=\"T_9b9752fc_0b18_11ea_a184_80000208fe80row5_col99\" class=\"data row5 col99\" >nan</td>\n",
       "                        <td id=\"T_9b9752fc_0b18_11ea_a184_80000208fe80row5_col100\" class=\"data row5 col100\" >nan</td>\n",
       "                        <td id=\"T_9b9752fc_0b18_11ea_a184_80000208fe80row5_col101\" class=\"data row5 col101\" >nan</td>\n",
       "                        <td id=\"T_9b9752fc_0b18_11ea_a184_80000208fe80row5_col102\" class=\"data row5 col102\" >nan</td>\n",
       "                        <td id=\"T_9b9752fc_0b18_11ea_a184_80000208fe80row5_col103\" class=\"data row5 col103\" >nan</td>\n",
       "            </tr>\n",
       "    </tbody></table>"
      ],
      "text/plain": [
       "<pandas.io.formats.style.Styler at 0x2aedac8b89b0>"
      ]
     },
     "metadata": {},
     "output_type": "display_data"
    },
    {
     "data": {
      "text/plain": [
       "'H2OAutoMLClean #1'"
      ]
     },
     "metadata": {},
     "output_type": "display_data"
    },
    {
     "data": {
      "text/html": [
       "<style  type=\"text/css\" >\n",
       "</style><table id=\"T_9b9c40f0_0b18_11ea_a184_80000208fe80\" ><thead>    <tr>        <th class=\"col_heading level0 col0\" >std</th>        <th class=\"col_heading level0 col1\" >test_acc</th>        <th class=\"col_heading level0 col2\" >train_acc</th>        <th class=\"col_heading level0 col3\" >time_err</th>        <th class=\"col_heading level0 col4\" >time_pre</th>        <th class=\"col_heading level0 col5\" >time_mod</th>    </tr></thead><tbody>\n",
       "                <tr>\n",
       "                                <td id=\"T_9b9c40f0_0b18_11ea_a184_80000208fe80row0_col0\" class=\"data row0 col0\" >0</td>\n",
       "                        <td id=\"T_9b9c40f0_0b18_11ea_a184_80000208fe80row0_col1\" class=\"data row0 col1\" >0.984</td>\n",
       "                        <td id=\"T_9b9c40f0_0b18_11ea_a184_80000208fe80row0_col2\" class=\"data row0 col2\" >1</td>\n",
       "                        <td id=\"T_9b9c40f0_0b18_11ea_a184_80000208fe80row0_col3\" class=\"data row0 col3\" >0.149</td>\n",
       "                        <td id=\"T_9b9c40f0_0b18_11ea_a184_80000208fe80row0_col4\" class=\"data row0 col4\" >0.001</td>\n",
       "                        <td id=\"T_9b9c40f0_0b18_11ea_a184_80000208fe80row0_col5\" class=\"data row0 col5\" >963.986</td>\n",
       "            </tr>\n",
       "            <tr>\n",
       "                                <td id=\"T_9b9c40f0_0b18_11ea_a184_80000208fe80row1_col0\" class=\"data row1 col0\" >3.2</td>\n",
       "                        <td id=\"T_9b9c40f0_0b18_11ea_a184_80000208fe80row1_col1\" class=\"data row1 col1\" >0.86</td>\n",
       "                        <td id=\"T_9b9c40f0_0b18_11ea_a184_80000208fe80row1_col2\" class=\"data row1 col2\" >1</td>\n",
       "                        <td id=\"T_9b9c40f0_0b18_11ea_a184_80000208fe80row1_col3\" class=\"data row1 col3\" >0.096</td>\n",
       "                        <td id=\"T_9b9c40f0_0b18_11ea_a184_80000208fe80row1_col4\" class=\"data row1 col4\" >0.001</td>\n",
       "                        <td id=\"T_9b9c40f0_0b18_11ea_a184_80000208fe80row1_col5\" class=\"data row1 col5\" >975.22</td>\n",
       "            </tr>\n",
       "            <tr>\n",
       "                                <td id=\"T_9b9c40f0_0b18_11ea_a184_80000208fe80row2_col0\" class=\"data row2 col0\" >6.4</td>\n",
       "                        <td id=\"T_9b9c40f0_0b18_11ea_a184_80000208fe80row2_col1\" class=\"data row2 col1\" >0.541</td>\n",
       "                        <td id=\"T_9b9c40f0_0b18_11ea_a184_80000208fe80row2_col2\" class=\"data row2 col2\" >1</td>\n",
       "                        <td id=\"T_9b9c40f0_0b18_11ea_a184_80000208fe80row2_col3\" class=\"data row2 col3\" >0.102</td>\n",
       "                        <td id=\"T_9b9c40f0_0b18_11ea_a184_80000208fe80row2_col4\" class=\"data row2 col4\" >0.002</td>\n",
       "                        <td id=\"T_9b9c40f0_0b18_11ea_a184_80000208fe80row2_col5\" class=\"data row2 col5\" >956.36</td>\n",
       "            </tr>\n",
       "            <tr>\n",
       "                                <td id=\"T_9b9c40f0_0b18_11ea_a184_80000208fe80row3_col0\" class=\"data row3 col0\" >9.6</td>\n",
       "                        <td id=\"T_9b9c40f0_0b18_11ea_a184_80000208fe80row3_col1\" class=\"data row3 col1\" >0.339</td>\n",
       "                        <td id=\"T_9b9c40f0_0b18_11ea_a184_80000208fe80row3_col2\" class=\"data row3 col2\" >1</td>\n",
       "                        <td id=\"T_9b9c40f0_0b18_11ea_a184_80000208fe80row3_col3\" class=\"data row3 col3\" >0.135</td>\n",
       "                        <td id=\"T_9b9c40f0_0b18_11ea_a184_80000208fe80row3_col4\" class=\"data row3 col4\" >0.001</td>\n",
       "                        <td id=\"T_9b9c40f0_0b18_11ea_a184_80000208fe80row3_col5\" class=\"data row3 col5\" >958.191</td>\n",
       "            </tr>\n",
       "            <tr>\n",
       "                                <td id=\"T_9b9c40f0_0b18_11ea_a184_80000208fe80row4_col0\" class=\"data row4 col0\" >12.8</td>\n",
       "                        <td id=\"T_9b9c40f0_0b18_11ea_a184_80000208fe80row4_col1\" class=\"data row4 col1\" >0.428</td>\n",
       "                        <td id=\"T_9b9c40f0_0b18_11ea_a184_80000208fe80row4_col2\" class=\"data row4 col2\" >1</td>\n",
       "                        <td id=\"T_9b9c40f0_0b18_11ea_a184_80000208fe80row4_col3\" class=\"data row4 col3\" >0.129</td>\n",
       "                        <td id=\"T_9b9c40f0_0b18_11ea_a184_80000208fe80row4_col4\" class=\"data row4 col4\" >0.001</td>\n",
       "                        <td id=\"T_9b9c40f0_0b18_11ea_a184_80000208fe80row4_col5\" class=\"data row4 col5\" >989.783</td>\n",
       "            </tr>\n",
       "            <tr>\n",
       "                                <td id=\"T_9b9c40f0_0b18_11ea_a184_80000208fe80row5_col0\" class=\"data row5 col0\" >16</td>\n",
       "                        <td id=\"T_9b9c40f0_0b18_11ea_a184_80000208fe80row5_col1\" class=\"data row5 col1\" >0.171</td>\n",
       "                        <td id=\"T_9b9c40f0_0b18_11ea_a184_80000208fe80row5_col2\" class=\"data row5 col2\" >1</td>\n",
       "                        <td id=\"T_9b9c40f0_0b18_11ea_a184_80000208fe80row5_col3\" class=\"data row5 col3\" >0.098</td>\n",
       "                        <td id=\"T_9b9c40f0_0b18_11ea_a184_80000208fe80row5_col4\" class=\"data row5 col4\" >0.001</td>\n",
       "                        <td id=\"T_9b9c40f0_0b18_11ea_a184_80000208fe80row5_col5\" class=\"data row5 col5\" >962.702</td>\n",
       "            </tr>\n",
       "    </tbody></table>"
      ],
      "text/plain": [
       "<pandas.io.formats.style.Styler at 0x2aedaa5e0c18>"
      ]
     },
     "metadata": {},
     "output_type": "display_data"
    },
    {
     "data": {
      "text/html": [
       "<style  type=\"text/css\" >\n",
       "</style><table id=\"T_9b9f390e_0b18_11ea_a184_80000208fe80\" ><thead>    <tr>        <th class=\"col_heading level0 col0\" >std</th>        <th class=\"col_heading level0 col1\" >pipe_0</th>        <th class=\"col_heading level0 col2\" >pipe_1</th>        <th class=\"col_heading level0 col3\" >pipe_2</th>        <th class=\"col_heading level0 col4\" >pipe_3</th>        <th class=\"col_heading level0 col5\" >pipe_4</th>        <th class=\"col_heading level0 col6\" >pipe_5</th>        <th class=\"col_heading level0 col7\" >pipe_6</th>        <th class=\"col_heading level0 col8\" >pipe_7</th>        <th class=\"col_heading level0 col9\" >pipe_8</th>        <th class=\"col_heading level0 col10\" >pipe_9</th>        <th class=\"col_heading level0 col11\" >pipe_10</th>        <th class=\"col_heading level0 col12\" >pipe_11</th>        <th class=\"col_heading level0 col13\" >pipe_12</th>        <th class=\"col_heading level0 col14\" >pipe_13</th>        <th class=\"col_heading level0 col15\" >pipe_14</th>        <th class=\"col_heading level0 col16\" >pipe_15</th>        <th class=\"col_heading level0 col17\" >pipe_16</th>        <th class=\"col_heading level0 col18\" >pipe_17</th>        <th class=\"col_heading level0 col19\" >pipe_18</th>        <th class=\"col_heading level0 col20\" >pipe_19</th>        <th class=\"col_heading level0 col21\" >pipe_20</th>        <th class=\"col_heading level0 col22\" >pipe_21</th>        <th class=\"col_heading level0 col23\" >pipe_22</th>        <th class=\"col_heading level0 col24\" >pipe_23</th>        <th class=\"col_heading level0 col25\" >pipe_24</th>        <th class=\"col_heading level0 col26\" >pipe_25</th>        <th class=\"col_heading level0 col27\" >pipe_26</th>        <th class=\"col_heading level0 col28\" >pipe_27</th>        <th class=\"col_heading level0 col29\" >pipe_28</th>        <th class=\"col_heading level0 col30\" >pipe_29</th>        <th class=\"col_heading level0 col31\" >pipe_30</th>        <th class=\"col_heading level0 col32\" >pipe_31</th>        <th class=\"col_heading level0 col33\" >pipe_32</th>        <th class=\"col_heading level0 col34\" >pipe_33</th>        <th class=\"col_heading level0 col35\" >pipe_34</th>        <th class=\"col_heading level0 col36\" >pipe_35</th>        <th class=\"col_heading level0 col37\" >pipe_36</th>        <th class=\"col_heading level0 col38\" >pipe_37</th>        <th class=\"col_heading level0 col39\" >pipe_38</th>        <th class=\"col_heading level0 col40\" >pipe_39</th>        <th class=\"col_heading level0 col41\" >pipe_40</th>        <th class=\"col_heading level0 col42\" >pipe_41</th>        <th class=\"col_heading level0 col43\" >pipe_42</th>        <th class=\"col_heading level0 col44\" >pipe_43</th>        <th class=\"col_heading level0 col45\" >pipe_44</th>        <th class=\"col_heading level0 col46\" >pipe_45</th>        <th class=\"col_heading level0 col47\" >pipe_46</th>        <th class=\"col_heading level0 col48\" >pipe_47</th>        <th class=\"col_heading level0 col49\" >pipe_48</th>        <th class=\"col_heading level0 col50\" >pipe_49</th>        <th class=\"col_heading level0 col51\" >pipe_50</th>        <th class=\"col_heading level0 col52\" >pipe_51</th>        <th class=\"col_heading level0 col53\" >pipe_52</th>        <th class=\"col_heading level0 col54\" >pipe_53</th>        <th class=\"col_heading level0 col55\" >pipe_54</th>        <th class=\"col_heading level0 col56\" >pipe_55</th>        <th class=\"col_heading level0 col57\" >pipe_56</th>        <th class=\"col_heading level0 col58\" >pipe_57</th>        <th class=\"col_heading level0 col59\" >pipe_58</th>        <th class=\"col_heading level0 col60\" >pipe_59</th>        <th class=\"col_heading level0 col61\" >pipe_60</th>        <th class=\"col_heading level0 col62\" >pipe_61</th>        <th class=\"col_heading level0 col63\" >pipe_62</th>        <th class=\"col_heading level0 col64\" >pipe_63</th>        <th class=\"col_heading level0 col65\" >pipe_64</th>        <th class=\"col_heading level0 col66\" >pipe_65</th>        <th class=\"col_heading level0 col67\" >pipe_66</th>        <th class=\"col_heading level0 col68\" >pipe_67</th>        <th class=\"col_heading level0 col69\" >pipe_68</th>        <th class=\"col_heading level0 col70\" >pipe_69</th>        <th class=\"col_heading level0 col71\" >pipe_70</th>        <th class=\"col_heading level0 col72\" >pipe_71</th>        <th class=\"col_heading level0 col73\" >pipe_72</th>        <th class=\"col_heading level0 col74\" >pipe_73</th>        <th class=\"col_heading level0 col75\" >pipe_74</th>        <th class=\"col_heading level0 col76\" >pipe_75</th>        <th class=\"col_heading level0 col77\" >pipe_76</th>        <th class=\"col_heading level0 col78\" >pipe_77</th>        <th class=\"col_heading level0 col79\" >pipe_78</th>        <th class=\"col_heading level0 col80\" >pipe_79</th>        <th class=\"col_heading level0 col81\" >pipe_80</th>        <th class=\"col_heading level0 col82\" >pipe_81</th>        <th class=\"col_heading level0 col83\" >pipe_82</th>        <th class=\"col_heading level0 col84\" >pipe_83</th>        <th class=\"col_heading level0 col85\" >pipe_84</th>        <th class=\"col_heading level0 col86\" >pipe_85</th>        <th class=\"col_heading level0 col87\" >pipe_86</th>        <th class=\"col_heading level0 col88\" >pipe_87</th>        <th class=\"col_heading level0 col89\" >pipe_88</th>        <th class=\"col_heading level0 col90\" >pipe_89</th>        <th class=\"col_heading level0 col91\" >pipe_90</th>        <th class=\"col_heading level0 col92\" >pipe_91</th>        <th class=\"col_heading level0 col93\" >pipe_92</th>        <th class=\"col_heading level0 col94\" >pipe_93</th>        <th class=\"col_heading level0 col95\" >pipe_94</th>        <th class=\"col_heading level0 col96\" >pipe_95</th>        <th class=\"col_heading level0 col97\" >pipe_96</th>        <th class=\"col_heading level0 col98\" >pipe_97</th>        <th class=\"col_heading level0 col99\" >pipe_98</th>        <th class=\"col_heading level0 col100\" >pipe_99</th>    </tr></thead><tbody>\n",
       "                <tr>\n",
       "                                <td id=\"T_9b9f390e_0b18_11ea_a184_80000208fe80row0_col0\" class=\"data row0 col0\" >0</td>\n",
       "                        <td id=\"T_9b9f390e_0b18_11ea_a184_80000208fe80row0_col1\" class=\"data row0 col1\" >StackedEnsemble_BestOfFamily_AutoML_20191119_155749</td>\n",
       "                        <td id=\"T_9b9f390e_0b18_11ea_a184_80000208fe80row0_col2\" class=\"data row0 col2\" >GBM_grid_1_AutoML_20191119_155749_model_39</td>\n",
       "                        <td id=\"T_9b9f390e_0b18_11ea_a184_80000208fe80row0_col3\" class=\"data row0 col3\" >DeepLearning_grid_1_AutoML_20191119_155749_model_2</td>\n",
       "                        <td id=\"T_9b9f390e_0b18_11ea_a184_80000208fe80row0_col4\" class=\"data row0 col4\" >XGBoost_grid_1_AutoML_20191119_155749_model_13</td>\n",
       "                        <td id=\"T_9b9f390e_0b18_11ea_a184_80000208fe80row0_col5\" class=\"data row0 col5\" >DRF_1_AutoML_20191119_155749</td>\n",
       "                        <td id=\"T_9b9f390e_0b18_11ea_a184_80000208fe80row0_col6\" class=\"data row0 col6\" >XRT_1_AutoML_20191119_155749</td>\n",
       "                        <td id=\"T_9b9f390e_0b18_11ea_a184_80000208fe80row0_col7\" class=\"data row0 col7\" >GLM_grid_1_AutoML_20191119_155749_model_1</td>\n",
       "                        <td id=\"T_9b9f390e_0b18_11ea_a184_80000208fe80row0_col8\" class=\"data row0 col8\" >nan</td>\n",
       "                        <td id=\"T_9b9f390e_0b18_11ea_a184_80000208fe80row0_col9\" class=\"data row0 col9\" >nan</td>\n",
       "                        <td id=\"T_9b9f390e_0b18_11ea_a184_80000208fe80row0_col10\" class=\"data row0 col10\" >nan</td>\n",
       "                        <td id=\"T_9b9f390e_0b18_11ea_a184_80000208fe80row0_col11\" class=\"data row0 col11\" >nan</td>\n",
       "                        <td id=\"T_9b9f390e_0b18_11ea_a184_80000208fe80row0_col12\" class=\"data row0 col12\" >nan</td>\n",
       "                        <td id=\"T_9b9f390e_0b18_11ea_a184_80000208fe80row0_col13\" class=\"data row0 col13\" >nan</td>\n",
       "                        <td id=\"T_9b9f390e_0b18_11ea_a184_80000208fe80row0_col14\" class=\"data row0 col14\" >nan</td>\n",
       "                        <td id=\"T_9b9f390e_0b18_11ea_a184_80000208fe80row0_col15\" class=\"data row0 col15\" >nan</td>\n",
       "                        <td id=\"T_9b9f390e_0b18_11ea_a184_80000208fe80row0_col16\" class=\"data row0 col16\" >nan</td>\n",
       "                        <td id=\"T_9b9f390e_0b18_11ea_a184_80000208fe80row0_col17\" class=\"data row0 col17\" >nan</td>\n",
       "                        <td id=\"T_9b9f390e_0b18_11ea_a184_80000208fe80row0_col18\" class=\"data row0 col18\" >nan</td>\n",
       "                        <td id=\"T_9b9f390e_0b18_11ea_a184_80000208fe80row0_col19\" class=\"data row0 col19\" >nan</td>\n",
       "                        <td id=\"T_9b9f390e_0b18_11ea_a184_80000208fe80row0_col20\" class=\"data row0 col20\" >nan</td>\n",
       "                        <td id=\"T_9b9f390e_0b18_11ea_a184_80000208fe80row0_col21\" class=\"data row0 col21\" >nan</td>\n",
       "                        <td id=\"T_9b9f390e_0b18_11ea_a184_80000208fe80row0_col22\" class=\"data row0 col22\" >nan</td>\n",
       "                        <td id=\"T_9b9f390e_0b18_11ea_a184_80000208fe80row0_col23\" class=\"data row0 col23\" >nan</td>\n",
       "                        <td id=\"T_9b9f390e_0b18_11ea_a184_80000208fe80row0_col24\" class=\"data row0 col24\" >nan</td>\n",
       "                        <td id=\"T_9b9f390e_0b18_11ea_a184_80000208fe80row0_col25\" class=\"data row0 col25\" >nan</td>\n",
       "                        <td id=\"T_9b9f390e_0b18_11ea_a184_80000208fe80row0_col26\" class=\"data row0 col26\" >nan</td>\n",
       "                        <td id=\"T_9b9f390e_0b18_11ea_a184_80000208fe80row0_col27\" class=\"data row0 col27\" >nan</td>\n",
       "                        <td id=\"T_9b9f390e_0b18_11ea_a184_80000208fe80row0_col28\" class=\"data row0 col28\" >nan</td>\n",
       "                        <td id=\"T_9b9f390e_0b18_11ea_a184_80000208fe80row0_col29\" class=\"data row0 col29\" >nan</td>\n",
       "                        <td id=\"T_9b9f390e_0b18_11ea_a184_80000208fe80row0_col30\" class=\"data row0 col30\" >nan</td>\n",
       "                        <td id=\"T_9b9f390e_0b18_11ea_a184_80000208fe80row0_col31\" class=\"data row0 col31\" >nan</td>\n",
       "                        <td id=\"T_9b9f390e_0b18_11ea_a184_80000208fe80row0_col32\" class=\"data row0 col32\" >nan</td>\n",
       "                        <td id=\"T_9b9f390e_0b18_11ea_a184_80000208fe80row0_col33\" class=\"data row0 col33\" >nan</td>\n",
       "                        <td id=\"T_9b9f390e_0b18_11ea_a184_80000208fe80row0_col34\" class=\"data row0 col34\" >nan</td>\n",
       "                        <td id=\"T_9b9f390e_0b18_11ea_a184_80000208fe80row0_col35\" class=\"data row0 col35\" >nan</td>\n",
       "                        <td id=\"T_9b9f390e_0b18_11ea_a184_80000208fe80row0_col36\" class=\"data row0 col36\" >nan</td>\n",
       "                        <td id=\"T_9b9f390e_0b18_11ea_a184_80000208fe80row0_col37\" class=\"data row0 col37\" >nan</td>\n",
       "                        <td id=\"T_9b9f390e_0b18_11ea_a184_80000208fe80row0_col38\" class=\"data row0 col38\" >nan</td>\n",
       "                        <td id=\"T_9b9f390e_0b18_11ea_a184_80000208fe80row0_col39\" class=\"data row0 col39\" >nan</td>\n",
       "                        <td id=\"T_9b9f390e_0b18_11ea_a184_80000208fe80row0_col40\" class=\"data row0 col40\" >nan</td>\n",
       "                        <td id=\"T_9b9f390e_0b18_11ea_a184_80000208fe80row0_col41\" class=\"data row0 col41\" >nan</td>\n",
       "                        <td id=\"T_9b9f390e_0b18_11ea_a184_80000208fe80row0_col42\" class=\"data row0 col42\" >nan</td>\n",
       "                        <td id=\"T_9b9f390e_0b18_11ea_a184_80000208fe80row0_col43\" class=\"data row0 col43\" >nan</td>\n",
       "                        <td id=\"T_9b9f390e_0b18_11ea_a184_80000208fe80row0_col44\" class=\"data row0 col44\" >nan</td>\n",
       "                        <td id=\"T_9b9f390e_0b18_11ea_a184_80000208fe80row0_col45\" class=\"data row0 col45\" >nan</td>\n",
       "                        <td id=\"T_9b9f390e_0b18_11ea_a184_80000208fe80row0_col46\" class=\"data row0 col46\" >nan</td>\n",
       "                        <td id=\"T_9b9f390e_0b18_11ea_a184_80000208fe80row0_col47\" class=\"data row0 col47\" >nan</td>\n",
       "                        <td id=\"T_9b9f390e_0b18_11ea_a184_80000208fe80row0_col48\" class=\"data row0 col48\" >nan</td>\n",
       "                        <td id=\"T_9b9f390e_0b18_11ea_a184_80000208fe80row0_col49\" class=\"data row0 col49\" >nan</td>\n",
       "                        <td id=\"T_9b9f390e_0b18_11ea_a184_80000208fe80row0_col50\" class=\"data row0 col50\" >nan</td>\n",
       "                        <td id=\"T_9b9f390e_0b18_11ea_a184_80000208fe80row0_col51\" class=\"data row0 col51\" >nan</td>\n",
       "                        <td id=\"T_9b9f390e_0b18_11ea_a184_80000208fe80row0_col52\" class=\"data row0 col52\" >nan</td>\n",
       "                        <td id=\"T_9b9f390e_0b18_11ea_a184_80000208fe80row0_col53\" class=\"data row0 col53\" >nan</td>\n",
       "                        <td id=\"T_9b9f390e_0b18_11ea_a184_80000208fe80row0_col54\" class=\"data row0 col54\" >nan</td>\n",
       "                        <td id=\"T_9b9f390e_0b18_11ea_a184_80000208fe80row0_col55\" class=\"data row0 col55\" >nan</td>\n",
       "                        <td id=\"T_9b9f390e_0b18_11ea_a184_80000208fe80row0_col56\" class=\"data row0 col56\" >nan</td>\n",
       "                        <td id=\"T_9b9f390e_0b18_11ea_a184_80000208fe80row0_col57\" class=\"data row0 col57\" >nan</td>\n",
       "                        <td id=\"T_9b9f390e_0b18_11ea_a184_80000208fe80row0_col58\" class=\"data row0 col58\" >nan</td>\n",
       "                        <td id=\"T_9b9f390e_0b18_11ea_a184_80000208fe80row0_col59\" class=\"data row0 col59\" >nan</td>\n",
       "                        <td id=\"T_9b9f390e_0b18_11ea_a184_80000208fe80row0_col60\" class=\"data row0 col60\" >nan</td>\n",
       "                        <td id=\"T_9b9f390e_0b18_11ea_a184_80000208fe80row0_col61\" class=\"data row0 col61\" >nan</td>\n",
       "                        <td id=\"T_9b9f390e_0b18_11ea_a184_80000208fe80row0_col62\" class=\"data row0 col62\" >nan</td>\n",
       "                        <td id=\"T_9b9f390e_0b18_11ea_a184_80000208fe80row0_col63\" class=\"data row0 col63\" >nan</td>\n",
       "                        <td id=\"T_9b9f390e_0b18_11ea_a184_80000208fe80row0_col64\" class=\"data row0 col64\" >nan</td>\n",
       "                        <td id=\"T_9b9f390e_0b18_11ea_a184_80000208fe80row0_col65\" class=\"data row0 col65\" >nan</td>\n",
       "                        <td id=\"T_9b9f390e_0b18_11ea_a184_80000208fe80row0_col66\" class=\"data row0 col66\" >nan</td>\n",
       "                        <td id=\"T_9b9f390e_0b18_11ea_a184_80000208fe80row0_col67\" class=\"data row0 col67\" >nan</td>\n",
       "                        <td id=\"T_9b9f390e_0b18_11ea_a184_80000208fe80row0_col68\" class=\"data row0 col68\" >nan</td>\n",
       "                        <td id=\"T_9b9f390e_0b18_11ea_a184_80000208fe80row0_col69\" class=\"data row0 col69\" >nan</td>\n",
       "                        <td id=\"T_9b9f390e_0b18_11ea_a184_80000208fe80row0_col70\" class=\"data row0 col70\" >nan</td>\n",
       "                        <td id=\"T_9b9f390e_0b18_11ea_a184_80000208fe80row0_col71\" class=\"data row0 col71\" >nan</td>\n",
       "                        <td id=\"T_9b9f390e_0b18_11ea_a184_80000208fe80row0_col72\" class=\"data row0 col72\" >nan</td>\n",
       "                        <td id=\"T_9b9f390e_0b18_11ea_a184_80000208fe80row0_col73\" class=\"data row0 col73\" >nan</td>\n",
       "                        <td id=\"T_9b9f390e_0b18_11ea_a184_80000208fe80row0_col74\" class=\"data row0 col74\" >nan</td>\n",
       "                        <td id=\"T_9b9f390e_0b18_11ea_a184_80000208fe80row0_col75\" class=\"data row0 col75\" >nan</td>\n",
       "                        <td id=\"T_9b9f390e_0b18_11ea_a184_80000208fe80row0_col76\" class=\"data row0 col76\" >nan</td>\n",
       "                        <td id=\"T_9b9f390e_0b18_11ea_a184_80000208fe80row0_col77\" class=\"data row0 col77\" >nan</td>\n",
       "                        <td id=\"T_9b9f390e_0b18_11ea_a184_80000208fe80row0_col78\" class=\"data row0 col78\" >nan</td>\n",
       "                        <td id=\"T_9b9f390e_0b18_11ea_a184_80000208fe80row0_col79\" class=\"data row0 col79\" >nan</td>\n",
       "                        <td id=\"T_9b9f390e_0b18_11ea_a184_80000208fe80row0_col80\" class=\"data row0 col80\" >nan</td>\n",
       "                        <td id=\"T_9b9f390e_0b18_11ea_a184_80000208fe80row0_col81\" class=\"data row0 col81\" >nan</td>\n",
       "                        <td id=\"T_9b9f390e_0b18_11ea_a184_80000208fe80row0_col82\" class=\"data row0 col82\" >nan</td>\n",
       "                        <td id=\"T_9b9f390e_0b18_11ea_a184_80000208fe80row0_col83\" class=\"data row0 col83\" >nan</td>\n",
       "                        <td id=\"T_9b9f390e_0b18_11ea_a184_80000208fe80row0_col84\" class=\"data row0 col84\" >nan</td>\n",
       "                        <td id=\"T_9b9f390e_0b18_11ea_a184_80000208fe80row0_col85\" class=\"data row0 col85\" >nan</td>\n",
       "                        <td id=\"T_9b9f390e_0b18_11ea_a184_80000208fe80row0_col86\" class=\"data row0 col86\" >nan</td>\n",
       "                        <td id=\"T_9b9f390e_0b18_11ea_a184_80000208fe80row0_col87\" class=\"data row0 col87\" >nan</td>\n",
       "                        <td id=\"T_9b9f390e_0b18_11ea_a184_80000208fe80row0_col88\" class=\"data row0 col88\" >nan</td>\n",
       "                        <td id=\"T_9b9f390e_0b18_11ea_a184_80000208fe80row0_col89\" class=\"data row0 col89\" >nan</td>\n",
       "                        <td id=\"T_9b9f390e_0b18_11ea_a184_80000208fe80row0_col90\" class=\"data row0 col90\" >nan</td>\n",
       "                        <td id=\"T_9b9f390e_0b18_11ea_a184_80000208fe80row0_col91\" class=\"data row0 col91\" >nan</td>\n",
       "                        <td id=\"T_9b9f390e_0b18_11ea_a184_80000208fe80row0_col92\" class=\"data row0 col92\" >nan</td>\n",
       "                        <td id=\"T_9b9f390e_0b18_11ea_a184_80000208fe80row0_col93\" class=\"data row0 col93\" >nan</td>\n",
       "                        <td id=\"T_9b9f390e_0b18_11ea_a184_80000208fe80row0_col94\" class=\"data row0 col94\" >nan</td>\n",
       "                        <td id=\"T_9b9f390e_0b18_11ea_a184_80000208fe80row0_col95\" class=\"data row0 col95\" >nan</td>\n",
       "                        <td id=\"T_9b9f390e_0b18_11ea_a184_80000208fe80row0_col96\" class=\"data row0 col96\" >nan</td>\n",
       "                        <td id=\"T_9b9f390e_0b18_11ea_a184_80000208fe80row0_col97\" class=\"data row0 col97\" >nan</td>\n",
       "                        <td id=\"T_9b9f390e_0b18_11ea_a184_80000208fe80row0_col98\" class=\"data row0 col98\" >nan</td>\n",
       "                        <td id=\"T_9b9f390e_0b18_11ea_a184_80000208fe80row0_col99\" class=\"data row0 col99\" >nan</td>\n",
       "                        <td id=\"T_9b9f390e_0b18_11ea_a184_80000208fe80row0_col100\" class=\"data row0 col100\" >nan</td>\n",
       "            </tr>\n",
       "            <tr>\n",
       "                                <td id=\"T_9b9f390e_0b18_11ea_a184_80000208fe80row1_col0\" class=\"data row1 col0\" >3.2</td>\n",
       "                        <td id=\"T_9b9f390e_0b18_11ea_a184_80000208fe80row1_col1\" class=\"data row1 col1\" >StackedEnsemble_BestOfFamily_AutoML_20191119_173142</td>\n",
       "                        <td id=\"T_9b9f390e_0b18_11ea_a184_80000208fe80row1_col2\" class=\"data row1 col2\" >DeepLearning_grid_1_AutoML_20191119_173142_model_6</td>\n",
       "                        <td id=\"T_9b9f390e_0b18_11ea_a184_80000208fe80row1_col3\" class=\"data row1 col3\" >GBM_grid_1_AutoML_20191119_173142_model_39</td>\n",
       "                        <td id=\"T_9b9f390e_0b18_11ea_a184_80000208fe80row1_col4\" class=\"data row1 col4\" >XGBoost_grid_1_AutoML_20191119_173142_model_13</td>\n",
       "                        <td id=\"T_9b9f390e_0b18_11ea_a184_80000208fe80row1_col5\" class=\"data row1 col5\" >DRF_1_AutoML_20191119_173142</td>\n",
       "                        <td id=\"T_9b9f390e_0b18_11ea_a184_80000208fe80row1_col6\" class=\"data row1 col6\" >XRT_1_AutoML_20191119_173142</td>\n",
       "                        <td id=\"T_9b9f390e_0b18_11ea_a184_80000208fe80row1_col7\" class=\"data row1 col7\" >GLM_grid_1_AutoML_20191119_173142_model_1</td>\n",
       "                        <td id=\"T_9b9f390e_0b18_11ea_a184_80000208fe80row1_col8\" class=\"data row1 col8\" >nan</td>\n",
       "                        <td id=\"T_9b9f390e_0b18_11ea_a184_80000208fe80row1_col9\" class=\"data row1 col9\" >nan</td>\n",
       "                        <td id=\"T_9b9f390e_0b18_11ea_a184_80000208fe80row1_col10\" class=\"data row1 col10\" >nan</td>\n",
       "                        <td id=\"T_9b9f390e_0b18_11ea_a184_80000208fe80row1_col11\" class=\"data row1 col11\" >nan</td>\n",
       "                        <td id=\"T_9b9f390e_0b18_11ea_a184_80000208fe80row1_col12\" class=\"data row1 col12\" >nan</td>\n",
       "                        <td id=\"T_9b9f390e_0b18_11ea_a184_80000208fe80row1_col13\" class=\"data row1 col13\" >nan</td>\n",
       "                        <td id=\"T_9b9f390e_0b18_11ea_a184_80000208fe80row1_col14\" class=\"data row1 col14\" >nan</td>\n",
       "                        <td id=\"T_9b9f390e_0b18_11ea_a184_80000208fe80row1_col15\" class=\"data row1 col15\" >nan</td>\n",
       "                        <td id=\"T_9b9f390e_0b18_11ea_a184_80000208fe80row1_col16\" class=\"data row1 col16\" >nan</td>\n",
       "                        <td id=\"T_9b9f390e_0b18_11ea_a184_80000208fe80row1_col17\" class=\"data row1 col17\" >nan</td>\n",
       "                        <td id=\"T_9b9f390e_0b18_11ea_a184_80000208fe80row1_col18\" class=\"data row1 col18\" >nan</td>\n",
       "                        <td id=\"T_9b9f390e_0b18_11ea_a184_80000208fe80row1_col19\" class=\"data row1 col19\" >nan</td>\n",
       "                        <td id=\"T_9b9f390e_0b18_11ea_a184_80000208fe80row1_col20\" class=\"data row1 col20\" >nan</td>\n",
       "                        <td id=\"T_9b9f390e_0b18_11ea_a184_80000208fe80row1_col21\" class=\"data row1 col21\" >nan</td>\n",
       "                        <td id=\"T_9b9f390e_0b18_11ea_a184_80000208fe80row1_col22\" class=\"data row1 col22\" >nan</td>\n",
       "                        <td id=\"T_9b9f390e_0b18_11ea_a184_80000208fe80row1_col23\" class=\"data row1 col23\" >nan</td>\n",
       "                        <td id=\"T_9b9f390e_0b18_11ea_a184_80000208fe80row1_col24\" class=\"data row1 col24\" >nan</td>\n",
       "                        <td id=\"T_9b9f390e_0b18_11ea_a184_80000208fe80row1_col25\" class=\"data row1 col25\" >nan</td>\n",
       "                        <td id=\"T_9b9f390e_0b18_11ea_a184_80000208fe80row1_col26\" class=\"data row1 col26\" >nan</td>\n",
       "                        <td id=\"T_9b9f390e_0b18_11ea_a184_80000208fe80row1_col27\" class=\"data row1 col27\" >nan</td>\n",
       "                        <td id=\"T_9b9f390e_0b18_11ea_a184_80000208fe80row1_col28\" class=\"data row1 col28\" >nan</td>\n",
       "                        <td id=\"T_9b9f390e_0b18_11ea_a184_80000208fe80row1_col29\" class=\"data row1 col29\" >nan</td>\n",
       "                        <td id=\"T_9b9f390e_0b18_11ea_a184_80000208fe80row1_col30\" class=\"data row1 col30\" >nan</td>\n",
       "                        <td id=\"T_9b9f390e_0b18_11ea_a184_80000208fe80row1_col31\" class=\"data row1 col31\" >nan</td>\n",
       "                        <td id=\"T_9b9f390e_0b18_11ea_a184_80000208fe80row1_col32\" class=\"data row1 col32\" >nan</td>\n",
       "                        <td id=\"T_9b9f390e_0b18_11ea_a184_80000208fe80row1_col33\" class=\"data row1 col33\" >nan</td>\n",
       "                        <td id=\"T_9b9f390e_0b18_11ea_a184_80000208fe80row1_col34\" class=\"data row1 col34\" >nan</td>\n",
       "                        <td id=\"T_9b9f390e_0b18_11ea_a184_80000208fe80row1_col35\" class=\"data row1 col35\" >nan</td>\n",
       "                        <td id=\"T_9b9f390e_0b18_11ea_a184_80000208fe80row1_col36\" class=\"data row1 col36\" >nan</td>\n",
       "                        <td id=\"T_9b9f390e_0b18_11ea_a184_80000208fe80row1_col37\" class=\"data row1 col37\" >nan</td>\n",
       "                        <td id=\"T_9b9f390e_0b18_11ea_a184_80000208fe80row1_col38\" class=\"data row1 col38\" >nan</td>\n",
       "                        <td id=\"T_9b9f390e_0b18_11ea_a184_80000208fe80row1_col39\" class=\"data row1 col39\" >nan</td>\n",
       "                        <td id=\"T_9b9f390e_0b18_11ea_a184_80000208fe80row1_col40\" class=\"data row1 col40\" >nan</td>\n",
       "                        <td id=\"T_9b9f390e_0b18_11ea_a184_80000208fe80row1_col41\" class=\"data row1 col41\" >nan</td>\n",
       "                        <td id=\"T_9b9f390e_0b18_11ea_a184_80000208fe80row1_col42\" class=\"data row1 col42\" >nan</td>\n",
       "                        <td id=\"T_9b9f390e_0b18_11ea_a184_80000208fe80row1_col43\" class=\"data row1 col43\" >nan</td>\n",
       "                        <td id=\"T_9b9f390e_0b18_11ea_a184_80000208fe80row1_col44\" class=\"data row1 col44\" >nan</td>\n",
       "                        <td id=\"T_9b9f390e_0b18_11ea_a184_80000208fe80row1_col45\" class=\"data row1 col45\" >nan</td>\n",
       "                        <td id=\"T_9b9f390e_0b18_11ea_a184_80000208fe80row1_col46\" class=\"data row1 col46\" >nan</td>\n",
       "                        <td id=\"T_9b9f390e_0b18_11ea_a184_80000208fe80row1_col47\" class=\"data row1 col47\" >nan</td>\n",
       "                        <td id=\"T_9b9f390e_0b18_11ea_a184_80000208fe80row1_col48\" class=\"data row1 col48\" >nan</td>\n",
       "                        <td id=\"T_9b9f390e_0b18_11ea_a184_80000208fe80row1_col49\" class=\"data row1 col49\" >nan</td>\n",
       "                        <td id=\"T_9b9f390e_0b18_11ea_a184_80000208fe80row1_col50\" class=\"data row1 col50\" >nan</td>\n",
       "                        <td id=\"T_9b9f390e_0b18_11ea_a184_80000208fe80row1_col51\" class=\"data row1 col51\" >nan</td>\n",
       "                        <td id=\"T_9b9f390e_0b18_11ea_a184_80000208fe80row1_col52\" class=\"data row1 col52\" >nan</td>\n",
       "                        <td id=\"T_9b9f390e_0b18_11ea_a184_80000208fe80row1_col53\" class=\"data row1 col53\" >nan</td>\n",
       "                        <td id=\"T_9b9f390e_0b18_11ea_a184_80000208fe80row1_col54\" class=\"data row1 col54\" >nan</td>\n",
       "                        <td id=\"T_9b9f390e_0b18_11ea_a184_80000208fe80row1_col55\" class=\"data row1 col55\" >nan</td>\n",
       "                        <td id=\"T_9b9f390e_0b18_11ea_a184_80000208fe80row1_col56\" class=\"data row1 col56\" >nan</td>\n",
       "                        <td id=\"T_9b9f390e_0b18_11ea_a184_80000208fe80row1_col57\" class=\"data row1 col57\" >nan</td>\n",
       "                        <td id=\"T_9b9f390e_0b18_11ea_a184_80000208fe80row1_col58\" class=\"data row1 col58\" >nan</td>\n",
       "                        <td id=\"T_9b9f390e_0b18_11ea_a184_80000208fe80row1_col59\" class=\"data row1 col59\" >nan</td>\n",
       "                        <td id=\"T_9b9f390e_0b18_11ea_a184_80000208fe80row1_col60\" class=\"data row1 col60\" >nan</td>\n",
       "                        <td id=\"T_9b9f390e_0b18_11ea_a184_80000208fe80row1_col61\" class=\"data row1 col61\" >nan</td>\n",
       "                        <td id=\"T_9b9f390e_0b18_11ea_a184_80000208fe80row1_col62\" class=\"data row1 col62\" >nan</td>\n",
       "                        <td id=\"T_9b9f390e_0b18_11ea_a184_80000208fe80row1_col63\" class=\"data row1 col63\" >nan</td>\n",
       "                        <td id=\"T_9b9f390e_0b18_11ea_a184_80000208fe80row1_col64\" class=\"data row1 col64\" >nan</td>\n",
       "                        <td id=\"T_9b9f390e_0b18_11ea_a184_80000208fe80row1_col65\" class=\"data row1 col65\" >nan</td>\n",
       "                        <td id=\"T_9b9f390e_0b18_11ea_a184_80000208fe80row1_col66\" class=\"data row1 col66\" >nan</td>\n",
       "                        <td id=\"T_9b9f390e_0b18_11ea_a184_80000208fe80row1_col67\" class=\"data row1 col67\" >nan</td>\n",
       "                        <td id=\"T_9b9f390e_0b18_11ea_a184_80000208fe80row1_col68\" class=\"data row1 col68\" >nan</td>\n",
       "                        <td id=\"T_9b9f390e_0b18_11ea_a184_80000208fe80row1_col69\" class=\"data row1 col69\" >nan</td>\n",
       "                        <td id=\"T_9b9f390e_0b18_11ea_a184_80000208fe80row1_col70\" class=\"data row1 col70\" >nan</td>\n",
       "                        <td id=\"T_9b9f390e_0b18_11ea_a184_80000208fe80row1_col71\" class=\"data row1 col71\" >nan</td>\n",
       "                        <td id=\"T_9b9f390e_0b18_11ea_a184_80000208fe80row1_col72\" class=\"data row1 col72\" >nan</td>\n",
       "                        <td id=\"T_9b9f390e_0b18_11ea_a184_80000208fe80row1_col73\" class=\"data row1 col73\" >nan</td>\n",
       "                        <td id=\"T_9b9f390e_0b18_11ea_a184_80000208fe80row1_col74\" class=\"data row1 col74\" >nan</td>\n",
       "                        <td id=\"T_9b9f390e_0b18_11ea_a184_80000208fe80row1_col75\" class=\"data row1 col75\" >nan</td>\n",
       "                        <td id=\"T_9b9f390e_0b18_11ea_a184_80000208fe80row1_col76\" class=\"data row1 col76\" >nan</td>\n",
       "                        <td id=\"T_9b9f390e_0b18_11ea_a184_80000208fe80row1_col77\" class=\"data row1 col77\" >nan</td>\n",
       "                        <td id=\"T_9b9f390e_0b18_11ea_a184_80000208fe80row1_col78\" class=\"data row1 col78\" >nan</td>\n",
       "                        <td id=\"T_9b9f390e_0b18_11ea_a184_80000208fe80row1_col79\" class=\"data row1 col79\" >nan</td>\n",
       "                        <td id=\"T_9b9f390e_0b18_11ea_a184_80000208fe80row1_col80\" class=\"data row1 col80\" >nan</td>\n",
       "                        <td id=\"T_9b9f390e_0b18_11ea_a184_80000208fe80row1_col81\" class=\"data row1 col81\" >nan</td>\n",
       "                        <td id=\"T_9b9f390e_0b18_11ea_a184_80000208fe80row1_col82\" class=\"data row1 col82\" >nan</td>\n",
       "                        <td id=\"T_9b9f390e_0b18_11ea_a184_80000208fe80row1_col83\" class=\"data row1 col83\" >nan</td>\n",
       "                        <td id=\"T_9b9f390e_0b18_11ea_a184_80000208fe80row1_col84\" class=\"data row1 col84\" >nan</td>\n",
       "                        <td id=\"T_9b9f390e_0b18_11ea_a184_80000208fe80row1_col85\" class=\"data row1 col85\" >nan</td>\n",
       "                        <td id=\"T_9b9f390e_0b18_11ea_a184_80000208fe80row1_col86\" class=\"data row1 col86\" >nan</td>\n",
       "                        <td id=\"T_9b9f390e_0b18_11ea_a184_80000208fe80row1_col87\" class=\"data row1 col87\" >nan</td>\n",
       "                        <td id=\"T_9b9f390e_0b18_11ea_a184_80000208fe80row1_col88\" class=\"data row1 col88\" >nan</td>\n",
       "                        <td id=\"T_9b9f390e_0b18_11ea_a184_80000208fe80row1_col89\" class=\"data row1 col89\" >nan</td>\n",
       "                        <td id=\"T_9b9f390e_0b18_11ea_a184_80000208fe80row1_col90\" class=\"data row1 col90\" >nan</td>\n",
       "                        <td id=\"T_9b9f390e_0b18_11ea_a184_80000208fe80row1_col91\" class=\"data row1 col91\" >nan</td>\n",
       "                        <td id=\"T_9b9f390e_0b18_11ea_a184_80000208fe80row1_col92\" class=\"data row1 col92\" >nan</td>\n",
       "                        <td id=\"T_9b9f390e_0b18_11ea_a184_80000208fe80row1_col93\" class=\"data row1 col93\" >nan</td>\n",
       "                        <td id=\"T_9b9f390e_0b18_11ea_a184_80000208fe80row1_col94\" class=\"data row1 col94\" >nan</td>\n",
       "                        <td id=\"T_9b9f390e_0b18_11ea_a184_80000208fe80row1_col95\" class=\"data row1 col95\" >nan</td>\n",
       "                        <td id=\"T_9b9f390e_0b18_11ea_a184_80000208fe80row1_col96\" class=\"data row1 col96\" >nan</td>\n",
       "                        <td id=\"T_9b9f390e_0b18_11ea_a184_80000208fe80row1_col97\" class=\"data row1 col97\" >nan</td>\n",
       "                        <td id=\"T_9b9f390e_0b18_11ea_a184_80000208fe80row1_col98\" class=\"data row1 col98\" >nan</td>\n",
       "                        <td id=\"T_9b9f390e_0b18_11ea_a184_80000208fe80row1_col99\" class=\"data row1 col99\" >nan</td>\n",
       "                        <td id=\"T_9b9f390e_0b18_11ea_a184_80000208fe80row1_col100\" class=\"data row1 col100\" >nan</td>\n",
       "            </tr>\n",
       "            <tr>\n",
       "                                <td id=\"T_9b9f390e_0b18_11ea_a184_80000208fe80row2_col0\" class=\"data row2 col0\" >6.4</td>\n",
       "                        <td id=\"T_9b9f390e_0b18_11ea_a184_80000208fe80row2_col1\" class=\"data row2 col1\" >StackedEnsemble_BestOfFamily_AutoML_20191119_191204</td>\n",
       "                        <td id=\"T_9b9f390e_0b18_11ea_a184_80000208fe80row2_col2\" class=\"data row2 col2\" >DeepLearning_grid_1_AutoML_20191119_191204_model_9</td>\n",
       "                        <td id=\"T_9b9f390e_0b18_11ea_a184_80000208fe80row2_col3\" class=\"data row2 col3\" >GBM_grid_1_AutoML_20191119_191204_model_39</td>\n",
       "                        <td id=\"T_9b9f390e_0b18_11ea_a184_80000208fe80row2_col4\" class=\"data row2 col4\" >XGBoost_grid_1_AutoML_20191119_191204_model_13</td>\n",
       "                        <td id=\"T_9b9f390e_0b18_11ea_a184_80000208fe80row2_col5\" class=\"data row2 col5\" >DRF_1_AutoML_20191119_191204</td>\n",
       "                        <td id=\"T_9b9f390e_0b18_11ea_a184_80000208fe80row2_col6\" class=\"data row2 col6\" >XRT_1_AutoML_20191119_191204</td>\n",
       "                        <td id=\"T_9b9f390e_0b18_11ea_a184_80000208fe80row2_col7\" class=\"data row2 col7\" >GLM_grid_1_AutoML_20191119_191204_model_1</td>\n",
       "                        <td id=\"T_9b9f390e_0b18_11ea_a184_80000208fe80row2_col8\" class=\"data row2 col8\" >nan</td>\n",
       "                        <td id=\"T_9b9f390e_0b18_11ea_a184_80000208fe80row2_col9\" class=\"data row2 col9\" >nan</td>\n",
       "                        <td id=\"T_9b9f390e_0b18_11ea_a184_80000208fe80row2_col10\" class=\"data row2 col10\" >nan</td>\n",
       "                        <td id=\"T_9b9f390e_0b18_11ea_a184_80000208fe80row2_col11\" class=\"data row2 col11\" >nan</td>\n",
       "                        <td id=\"T_9b9f390e_0b18_11ea_a184_80000208fe80row2_col12\" class=\"data row2 col12\" >nan</td>\n",
       "                        <td id=\"T_9b9f390e_0b18_11ea_a184_80000208fe80row2_col13\" class=\"data row2 col13\" >nan</td>\n",
       "                        <td id=\"T_9b9f390e_0b18_11ea_a184_80000208fe80row2_col14\" class=\"data row2 col14\" >nan</td>\n",
       "                        <td id=\"T_9b9f390e_0b18_11ea_a184_80000208fe80row2_col15\" class=\"data row2 col15\" >nan</td>\n",
       "                        <td id=\"T_9b9f390e_0b18_11ea_a184_80000208fe80row2_col16\" class=\"data row2 col16\" >nan</td>\n",
       "                        <td id=\"T_9b9f390e_0b18_11ea_a184_80000208fe80row2_col17\" class=\"data row2 col17\" >nan</td>\n",
       "                        <td id=\"T_9b9f390e_0b18_11ea_a184_80000208fe80row2_col18\" class=\"data row2 col18\" >nan</td>\n",
       "                        <td id=\"T_9b9f390e_0b18_11ea_a184_80000208fe80row2_col19\" class=\"data row2 col19\" >nan</td>\n",
       "                        <td id=\"T_9b9f390e_0b18_11ea_a184_80000208fe80row2_col20\" class=\"data row2 col20\" >nan</td>\n",
       "                        <td id=\"T_9b9f390e_0b18_11ea_a184_80000208fe80row2_col21\" class=\"data row2 col21\" >nan</td>\n",
       "                        <td id=\"T_9b9f390e_0b18_11ea_a184_80000208fe80row2_col22\" class=\"data row2 col22\" >nan</td>\n",
       "                        <td id=\"T_9b9f390e_0b18_11ea_a184_80000208fe80row2_col23\" class=\"data row2 col23\" >nan</td>\n",
       "                        <td id=\"T_9b9f390e_0b18_11ea_a184_80000208fe80row2_col24\" class=\"data row2 col24\" >nan</td>\n",
       "                        <td id=\"T_9b9f390e_0b18_11ea_a184_80000208fe80row2_col25\" class=\"data row2 col25\" >nan</td>\n",
       "                        <td id=\"T_9b9f390e_0b18_11ea_a184_80000208fe80row2_col26\" class=\"data row2 col26\" >nan</td>\n",
       "                        <td id=\"T_9b9f390e_0b18_11ea_a184_80000208fe80row2_col27\" class=\"data row2 col27\" >nan</td>\n",
       "                        <td id=\"T_9b9f390e_0b18_11ea_a184_80000208fe80row2_col28\" class=\"data row2 col28\" >nan</td>\n",
       "                        <td id=\"T_9b9f390e_0b18_11ea_a184_80000208fe80row2_col29\" class=\"data row2 col29\" >nan</td>\n",
       "                        <td id=\"T_9b9f390e_0b18_11ea_a184_80000208fe80row2_col30\" class=\"data row2 col30\" >nan</td>\n",
       "                        <td id=\"T_9b9f390e_0b18_11ea_a184_80000208fe80row2_col31\" class=\"data row2 col31\" >nan</td>\n",
       "                        <td id=\"T_9b9f390e_0b18_11ea_a184_80000208fe80row2_col32\" class=\"data row2 col32\" >nan</td>\n",
       "                        <td id=\"T_9b9f390e_0b18_11ea_a184_80000208fe80row2_col33\" class=\"data row2 col33\" >nan</td>\n",
       "                        <td id=\"T_9b9f390e_0b18_11ea_a184_80000208fe80row2_col34\" class=\"data row2 col34\" >nan</td>\n",
       "                        <td id=\"T_9b9f390e_0b18_11ea_a184_80000208fe80row2_col35\" class=\"data row2 col35\" >nan</td>\n",
       "                        <td id=\"T_9b9f390e_0b18_11ea_a184_80000208fe80row2_col36\" class=\"data row2 col36\" >nan</td>\n",
       "                        <td id=\"T_9b9f390e_0b18_11ea_a184_80000208fe80row2_col37\" class=\"data row2 col37\" >nan</td>\n",
       "                        <td id=\"T_9b9f390e_0b18_11ea_a184_80000208fe80row2_col38\" class=\"data row2 col38\" >nan</td>\n",
       "                        <td id=\"T_9b9f390e_0b18_11ea_a184_80000208fe80row2_col39\" class=\"data row2 col39\" >nan</td>\n",
       "                        <td id=\"T_9b9f390e_0b18_11ea_a184_80000208fe80row2_col40\" class=\"data row2 col40\" >nan</td>\n",
       "                        <td id=\"T_9b9f390e_0b18_11ea_a184_80000208fe80row2_col41\" class=\"data row2 col41\" >nan</td>\n",
       "                        <td id=\"T_9b9f390e_0b18_11ea_a184_80000208fe80row2_col42\" class=\"data row2 col42\" >nan</td>\n",
       "                        <td id=\"T_9b9f390e_0b18_11ea_a184_80000208fe80row2_col43\" class=\"data row2 col43\" >nan</td>\n",
       "                        <td id=\"T_9b9f390e_0b18_11ea_a184_80000208fe80row2_col44\" class=\"data row2 col44\" >nan</td>\n",
       "                        <td id=\"T_9b9f390e_0b18_11ea_a184_80000208fe80row2_col45\" class=\"data row2 col45\" >nan</td>\n",
       "                        <td id=\"T_9b9f390e_0b18_11ea_a184_80000208fe80row2_col46\" class=\"data row2 col46\" >nan</td>\n",
       "                        <td id=\"T_9b9f390e_0b18_11ea_a184_80000208fe80row2_col47\" class=\"data row2 col47\" >nan</td>\n",
       "                        <td id=\"T_9b9f390e_0b18_11ea_a184_80000208fe80row2_col48\" class=\"data row2 col48\" >nan</td>\n",
       "                        <td id=\"T_9b9f390e_0b18_11ea_a184_80000208fe80row2_col49\" class=\"data row2 col49\" >nan</td>\n",
       "                        <td id=\"T_9b9f390e_0b18_11ea_a184_80000208fe80row2_col50\" class=\"data row2 col50\" >nan</td>\n",
       "                        <td id=\"T_9b9f390e_0b18_11ea_a184_80000208fe80row2_col51\" class=\"data row2 col51\" >nan</td>\n",
       "                        <td id=\"T_9b9f390e_0b18_11ea_a184_80000208fe80row2_col52\" class=\"data row2 col52\" >nan</td>\n",
       "                        <td id=\"T_9b9f390e_0b18_11ea_a184_80000208fe80row2_col53\" class=\"data row2 col53\" >nan</td>\n",
       "                        <td id=\"T_9b9f390e_0b18_11ea_a184_80000208fe80row2_col54\" class=\"data row2 col54\" >nan</td>\n",
       "                        <td id=\"T_9b9f390e_0b18_11ea_a184_80000208fe80row2_col55\" class=\"data row2 col55\" >nan</td>\n",
       "                        <td id=\"T_9b9f390e_0b18_11ea_a184_80000208fe80row2_col56\" class=\"data row2 col56\" >nan</td>\n",
       "                        <td id=\"T_9b9f390e_0b18_11ea_a184_80000208fe80row2_col57\" class=\"data row2 col57\" >nan</td>\n",
       "                        <td id=\"T_9b9f390e_0b18_11ea_a184_80000208fe80row2_col58\" class=\"data row2 col58\" >nan</td>\n",
       "                        <td id=\"T_9b9f390e_0b18_11ea_a184_80000208fe80row2_col59\" class=\"data row2 col59\" >nan</td>\n",
       "                        <td id=\"T_9b9f390e_0b18_11ea_a184_80000208fe80row2_col60\" class=\"data row2 col60\" >nan</td>\n",
       "                        <td id=\"T_9b9f390e_0b18_11ea_a184_80000208fe80row2_col61\" class=\"data row2 col61\" >nan</td>\n",
       "                        <td id=\"T_9b9f390e_0b18_11ea_a184_80000208fe80row2_col62\" class=\"data row2 col62\" >nan</td>\n",
       "                        <td id=\"T_9b9f390e_0b18_11ea_a184_80000208fe80row2_col63\" class=\"data row2 col63\" >nan</td>\n",
       "                        <td id=\"T_9b9f390e_0b18_11ea_a184_80000208fe80row2_col64\" class=\"data row2 col64\" >nan</td>\n",
       "                        <td id=\"T_9b9f390e_0b18_11ea_a184_80000208fe80row2_col65\" class=\"data row2 col65\" >nan</td>\n",
       "                        <td id=\"T_9b9f390e_0b18_11ea_a184_80000208fe80row2_col66\" class=\"data row2 col66\" >nan</td>\n",
       "                        <td id=\"T_9b9f390e_0b18_11ea_a184_80000208fe80row2_col67\" class=\"data row2 col67\" >nan</td>\n",
       "                        <td id=\"T_9b9f390e_0b18_11ea_a184_80000208fe80row2_col68\" class=\"data row2 col68\" >nan</td>\n",
       "                        <td id=\"T_9b9f390e_0b18_11ea_a184_80000208fe80row2_col69\" class=\"data row2 col69\" >nan</td>\n",
       "                        <td id=\"T_9b9f390e_0b18_11ea_a184_80000208fe80row2_col70\" class=\"data row2 col70\" >nan</td>\n",
       "                        <td id=\"T_9b9f390e_0b18_11ea_a184_80000208fe80row2_col71\" class=\"data row2 col71\" >nan</td>\n",
       "                        <td id=\"T_9b9f390e_0b18_11ea_a184_80000208fe80row2_col72\" class=\"data row2 col72\" >nan</td>\n",
       "                        <td id=\"T_9b9f390e_0b18_11ea_a184_80000208fe80row2_col73\" class=\"data row2 col73\" >nan</td>\n",
       "                        <td id=\"T_9b9f390e_0b18_11ea_a184_80000208fe80row2_col74\" class=\"data row2 col74\" >nan</td>\n",
       "                        <td id=\"T_9b9f390e_0b18_11ea_a184_80000208fe80row2_col75\" class=\"data row2 col75\" >nan</td>\n",
       "                        <td id=\"T_9b9f390e_0b18_11ea_a184_80000208fe80row2_col76\" class=\"data row2 col76\" >nan</td>\n",
       "                        <td id=\"T_9b9f390e_0b18_11ea_a184_80000208fe80row2_col77\" class=\"data row2 col77\" >nan</td>\n",
       "                        <td id=\"T_9b9f390e_0b18_11ea_a184_80000208fe80row2_col78\" class=\"data row2 col78\" >nan</td>\n",
       "                        <td id=\"T_9b9f390e_0b18_11ea_a184_80000208fe80row2_col79\" class=\"data row2 col79\" >nan</td>\n",
       "                        <td id=\"T_9b9f390e_0b18_11ea_a184_80000208fe80row2_col80\" class=\"data row2 col80\" >nan</td>\n",
       "                        <td id=\"T_9b9f390e_0b18_11ea_a184_80000208fe80row2_col81\" class=\"data row2 col81\" >nan</td>\n",
       "                        <td id=\"T_9b9f390e_0b18_11ea_a184_80000208fe80row2_col82\" class=\"data row2 col82\" >nan</td>\n",
       "                        <td id=\"T_9b9f390e_0b18_11ea_a184_80000208fe80row2_col83\" class=\"data row2 col83\" >nan</td>\n",
       "                        <td id=\"T_9b9f390e_0b18_11ea_a184_80000208fe80row2_col84\" class=\"data row2 col84\" >nan</td>\n",
       "                        <td id=\"T_9b9f390e_0b18_11ea_a184_80000208fe80row2_col85\" class=\"data row2 col85\" >nan</td>\n",
       "                        <td id=\"T_9b9f390e_0b18_11ea_a184_80000208fe80row2_col86\" class=\"data row2 col86\" >nan</td>\n",
       "                        <td id=\"T_9b9f390e_0b18_11ea_a184_80000208fe80row2_col87\" class=\"data row2 col87\" >nan</td>\n",
       "                        <td id=\"T_9b9f390e_0b18_11ea_a184_80000208fe80row2_col88\" class=\"data row2 col88\" >nan</td>\n",
       "                        <td id=\"T_9b9f390e_0b18_11ea_a184_80000208fe80row2_col89\" class=\"data row2 col89\" >nan</td>\n",
       "                        <td id=\"T_9b9f390e_0b18_11ea_a184_80000208fe80row2_col90\" class=\"data row2 col90\" >nan</td>\n",
       "                        <td id=\"T_9b9f390e_0b18_11ea_a184_80000208fe80row2_col91\" class=\"data row2 col91\" >nan</td>\n",
       "                        <td id=\"T_9b9f390e_0b18_11ea_a184_80000208fe80row2_col92\" class=\"data row2 col92\" >nan</td>\n",
       "                        <td id=\"T_9b9f390e_0b18_11ea_a184_80000208fe80row2_col93\" class=\"data row2 col93\" >nan</td>\n",
       "                        <td id=\"T_9b9f390e_0b18_11ea_a184_80000208fe80row2_col94\" class=\"data row2 col94\" >nan</td>\n",
       "                        <td id=\"T_9b9f390e_0b18_11ea_a184_80000208fe80row2_col95\" class=\"data row2 col95\" >nan</td>\n",
       "                        <td id=\"T_9b9f390e_0b18_11ea_a184_80000208fe80row2_col96\" class=\"data row2 col96\" >nan</td>\n",
       "                        <td id=\"T_9b9f390e_0b18_11ea_a184_80000208fe80row2_col97\" class=\"data row2 col97\" >nan</td>\n",
       "                        <td id=\"T_9b9f390e_0b18_11ea_a184_80000208fe80row2_col98\" class=\"data row2 col98\" >nan</td>\n",
       "                        <td id=\"T_9b9f390e_0b18_11ea_a184_80000208fe80row2_col99\" class=\"data row2 col99\" >nan</td>\n",
       "                        <td id=\"T_9b9f390e_0b18_11ea_a184_80000208fe80row2_col100\" class=\"data row2 col100\" >nan</td>\n",
       "            </tr>\n",
       "            <tr>\n",
       "                                <td id=\"T_9b9f390e_0b18_11ea_a184_80000208fe80row3_col0\" class=\"data row3 col0\" >9.6</td>\n",
       "                        <td id=\"T_9b9f390e_0b18_11ea_a184_80000208fe80row3_col1\" class=\"data row3 col1\" >StackedEnsemble_BestOfFamily_AutoML_20191119_204613</td>\n",
       "                        <td id=\"T_9b9f390e_0b18_11ea_a184_80000208fe80row3_col2\" class=\"data row3 col2\" >DeepLearning_grid_1_AutoML_20191119_204613_model_2</td>\n",
       "                        <td id=\"T_9b9f390e_0b18_11ea_a184_80000208fe80row3_col3\" class=\"data row3 col3\" >GBM_grid_1_AutoML_20191119_204613_model_39</td>\n",
       "                        <td id=\"T_9b9f390e_0b18_11ea_a184_80000208fe80row3_col4\" class=\"data row3 col4\" >XGBoost_grid_1_AutoML_20191119_204613_model_13</td>\n",
       "                        <td id=\"T_9b9f390e_0b18_11ea_a184_80000208fe80row3_col5\" class=\"data row3 col5\" >DRF_1_AutoML_20191119_204613</td>\n",
       "                        <td id=\"T_9b9f390e_0b18_11ea_a184_80000208fe80row3_col6\" class=\"data row3 col6\" >XRT_1_AutoML_20191119_204613</td>\n",
       "                        <td id=\"T_9b9f390e_0b18_11ea_a184_80000208fe80row3_col7\" class=\"data row3 col7\" >GLM_grid_1_AutoML_20191119_204613_model_1</td>\n",
       "                        <td id=\"T_9b9f390e_0b18_11ea_a184_80000208fe80row3_col8\" class=\"data row3 col8\" >nan</td>\n",
       "                        <td id=\"T_9b9f390e_0b18_11ea_a184_80000208fe80row3_col9\" class=\"data row3 col9\" >nan</td>\n",
       "                        <td id=\"T_9b9f390e_0b18_11ea_a184_80000208fe80row3_col10\" class=\"data row3 col10\" >nan</td>\n",
       "                        <td id=\"T_9b9f390e_0b18_11ea_a184_80000208fe80row3_col11\" class=\"data row3 col11\" >nan</td>\n",
       "                        <td id=\"T_9b9f390e_0b18_11ea_a184_80000208fe80row3_col12\" class=\"data row3 col12\" >nan</td>\n",
       "                        <td id=\"T_9b9f390e_0b18_11ea_a184_80000208fe80row3_col13\" class=\"data row3 col13\" >nan</td>\n",
       "                        <td id=\"T_9b9f390e_0b18_11ea_a184_80000208fe80row3_col14\" class=\"data row3 col14\" >nan</td>\n",
       "                        <td id=\"T_9b9f390e_0b18_11ea_a184_80000208fe80row3_col15\" class=\"data row3 col15\" >nan</td>\n",
       "                        <td id=\"T_9b9f390e_0b18_11ea_a184_80000208fe80row3_col16\" class=\"data row3 col16\" >nan</td>\n",
       "                        <td id=\"T_9b9f390e_0b18_11ea_a184_80000208fe80row3_col17\" class=\"data row3 col17\" >nan</td>\n",
       "                        <td id=\"T_9b9f390e_0b18_11ea_a184_80000208fe80row3_col18\" class=\"data row3 col18\" >nan</td>\n",
       "                        <td id=\"T_9b9f390e_0b18_11ea_a184_80000208fe80row3_col19\" class=\"data row3 col19\" >nan</td>\n",
       "                        <td id=\"T_9b9f390e_0b18_11ea_a184_80000208fe80row3_col20\" class=\"data row3 col20\" >nan</td>\n",
       "                        <td id=\"T_9b9f390e_0b18_11ea_a184_80000208fe80row3_col21\" class=\"data row3 col21\" >nan</td>\n",
       "                        <td id=\"T_9b9f390e_0b18_11ea_a184_80000208fe80row3_col22\" class=\"data row3 col22\" >nan</td>\n",
       "                        <td id=\"T_9b9f390e_0b18_11ea_a184_80000208fe80row3_col23\" class=\"data row3 col23\" >nan</td>\n",
       "                        <td id=\"T_9b9f390e_0b18_11ea_a184_80000208fe80row3_col24\" class=\"data row3 col24\" >nan</td>\n",
       "                        <td id=\"T_9b9f390e_0b18_11ea_a184_80000208fe80row3_col25\" class=\"data row3 col25\" >nan</td>\n",
       "                        <td id=\"T_9b9f390e_0b18_11ea_a184_80000208fe80row3_col26\" class=\"data row3 col26\" >nan</td>\n",
       "                        <td id=\"T_9b9f390e_0b18_11ea_a184_80000208fe80row3_col27\" class=\"data row3 col27\" >nan</td>\n",
       "                        <td id=\"T_9b9f390e_0b18_11ea_a184_80000208fe80row3_col28\" class=\"data row3 col28\" >nan</td>\n",
       "                        <td id=\"T_9b9f390e_0b18_11ea_a184_80000208fe80row3_col29\" class=\"data row3 col29\" >nan</td>\n",
       "                        <td id=\"T_9b9f390e_0b18_11ea_a184_80000208fe80row3_col30\" class=\"data row3 col30\" >nan</td>\n",
       "                        <td id=\"T_9b9f390e_0b18_11ea_a184_80000208fe80row3_col31\" class=\"data row3 col31\" >nan</td>\n",
       "                        <td id=\"T_9b9f390e_0b18_11ea_a184_80000208fe80row3_col32\" class=\"data row3 col32\" >nan</td>\n",
       "                        <td id=\"T_9b9f390e_0b18_11ea_a184_80000208fe80row3_col33\" class=\"data row3 col33\" >nan</td>\n",
       "                        <td id=\"T_9b9f390e_0b18_11ea_a184_80000208fe80row3_col34\" class=\"data row3 col34\" >nan</td>\n",
       "                        <td id=\"T_9b9f390e_0b18_11ea_a184_80000208fe80row3_col35\" class=\"data row3 col35\" >nan</td>\n",
       "                        <td id=\"T_9b9f390e_0b18_11ea_a184_80000208fe80row3_col36\" class=\"data row3 col36\" >nan</td>\n",
       "                        <td id=\"T_9b9f390e_0b18_11ea_a184_80000208fe80row3_col37\" class=\"data row3 col37\" >nan</td>\n",
       "                        <td id=\"T_9b9f390e_0b18_11ea_a184_80000208fe80row3_col38\" class=\"data row3 col38\" >nan</td>\n",
       "                        <td id=\"T_9b9f390e_0b18_11ea_a184_80000208fe80row3_col39\" class=\"data row3 col39\" >nan</td>\n",
       "                        <td id=\"T_9b9f390e_0b18_11ea_a184_80000208fe80row3_col40\" class=\"data row3 col40\" >nan</td>\n",
       "                        <td id=\"T_9b9f390e_0b18_11ea_a184_80000208fe80row3_col41\" class=\"data row3 col41\" >nan</td>\n",
       "                        <td id=\"T_9b9f390e_0b18_11ea_a184_80000208fe80row3_col42\" class=\"data row3 col42\" >nan</td>\n",
       "                        <td id=\"T_9b9f390e_0b18_11ea_a184_80000208fe80row3_col43\" class=\"data row3 col43\" >nan</td>\n",
       "                        <td id=\"T_9b9f390e_0b18_11ea_a184_80000208fe80row3_col44\" class=\"data row3 col44\" >nan</td>\n",
       "                        <td id=\"T_9b9f390e_0b18_11ea_a184_80000208fe80row3_col45\" class=\"data row3 col45\" >nan</td>\n",
       "                        <td id=\"T_9b9f390e_0b18_11ea_a184_80000208fe80row3_col46\" class=\"data row3 col46\" >nan</td>\n",
       "                        <td id=\"T_9b9f390e_0b18_11ea_a184_80000208fe80row3_col47\" class=\"data row3 col47\" >nan</td>\n",
       "                        <td id=\"T_9b9f390e_0b18_11ea_a184_80000208fe80row3_col48\" class=\"data row3 col48\" >nan</td>\n",
       "                        <td id=\"T_9b9f390e_0b18_11ea_a184_80000208fe80row3_col49\" class=\"data row3 col49\" >nan</td>\n",
       "                        <td id=\"T_9b9f390e_0b18_11ea_a184_80000208fe80row3_col50\" class=\"data row3 col50\" >nan</td>\n",
       "                        <td id=\"T_9b9f390e_0b18_11ea_a184_80000208fe80row3_col51\" class=\"data row3 col51\" >nan</td>\n",
       "                        <td id=\"T_9b9f390e_0b18_11ea_a184_80000208fe80row3_col52\" class=\"data row3 col52\" >nan</td>\n",
       "                        <td id=\"T_9b9f390e_0b18_11ea_a184_80000208fe80row3_col53\" class=\"data row3 col53\" >nan</td>\n",
       "                        <td id=\"T_9b9f390e_0b18_11ea_a184_80000208fe80row3_col54\" class=\"data row3 col54\" >nan</td>\n",
       "                        <td id=\"T_9b9f390e_0b18_11ea_a184_80000208fe80row3_col55\" class=\"data row3 col55\" >nan</td>\n",
       "                        <td id=\"T_9b9f390e_0b18_11ea_a184_80000208fe80row3_col56\" class=\"data row3 col56\" >nan</td>\n",
       "                        <td id=\"T_9b9f390e_0b18_11ea_a184_80000208fe80row3_col57\" class=\"data row3 col57\" >nan</td>\n",
       "                        <td id=\"T_9b9f390e_0b18_11ea_a184_80000208fe80row3_col58\" class=\"data row3 col58\" >nan</td>\n",
       "                        <td id=\"T_9b9f390e_0b18_11ea_a184_80000208fe80row3_col59\" class=\"data row3 col59\" >nan</td>\n",
       "                        <td id=\"T_9b9f390e_0b18_11ea_a184_80000208fe80row3_col60\" class=\"data row3 col60\" >nan</td>\n",
       "                        <td id=\"T_9b9f390e_0b18_11ea_a184_80000208fe80row3_col61\" class=\"data row3 col61\" >nan</td>\n",
       "                        <td id=\"T_9b9f390e_0b18_11ea_a184_80000208fe80row3_col62\" class=\"data row3 col62\" >nan</td>\n",
       "                        <td id=\"T_9b9f390e_0b18_11ea_a184_80000208fe80row3_col63\" class=\"data row3 col63\" >nan</td>\n",
       "                        <td id=\"T_9b9f390e_0b18_11ea_a184_80000208fe80row3_col64\" class=\"data row3 col64\" >nan</td>\n",
       "                        <td id=\"T_9b9f390e_0b18_11ea_a184_80000208fe80row3_col65\" class=\"data row3 col65\" >nan</td>\n",
       "                        <td id=\"T_9b9f390e_0b18_11ea_a184_80000208fe80row3_col66\" class=\"data row3 col66\" >nan</td>\n",
       "                        <td id=\"T_9b9f390e_0b18_11ea_a184_80000208fe80row3_col67\" class=\"data row3 col67\" >nan</td>\n",
       "                        <td id=\"T_9b9f390e_0b18_11ea_a184_80000208fe80row3_col68\" class=\"data row3 col68\" >nan</td>\n",
       "                        <td id=\"T_9b9f390e_0b18_11ea_a184_80000208fe80row3_col69\" class=\"data row3 col69\" >nan</td>\n",
       "                        <td id=\"T_9b9f390e_0b18_11ea_a184_80000208fe80row3_col70\" class=\"data row3 col70\" >nan</td>\n",
       "                        <td id=\"T_9b9f390e_0b18_11ea_a184_80000208fe80row3_col71\" class=\"data row3 col71\" >nan</td>\n",
       "                        <td id=\"T_9b9f390e_0b18_11ea_a184_80000208fe80row3_col72\" class=\"data row3 col72\" >nan</td>\n",
       "                        <td id=\"T_9b9f390e_0b18_11ea_a184_80000208fe80row3_col73\" class=\"data row3 col73\" >nan</td>\n",
       "                        <td id=\"T_9b9f390e_0b18_11ea_a184_80000208fe80row3_col74\" class=\"data row3 col74\" >nan</td>\n",
       "                        <td id=\"T_9b9f390e_0b18_11ea_a184_80000208fe80row3_col75\" class=\"data row3 col75\" >nan</td>\n",
       "                        <td id=\"T_9b9f390e_0b18_11ea_a184_80000208fe80row3_col76\" class=\"data row3 col76\" >nan</td>\n",
       "                        <td id=\"T_9b9f390e_0b18_11ea_a184_80000208fe80row3_col77\" class=\"data row3 col77\" >nan</td>\n",
       "                        <td id=\"T_9b9f390e_0b18_11ea_a184_80000208fe80row3_col78\" class=\"data row3 col78\" >nan</td>\n",
       "                        <td id=\"T_9b9f390e_0b18_11ea_a184_80000208fe80row3_col79\" class=\"data row3 col79\" >nan</td>\n",
       "                        <td id=\"T_9b9f390e_0b18_11ea_a184_80000208fe80row3_col80\" class=\"data row3 col80\" >nan</td>\n",
       "                        <td id=\"T_9b9f390e_0b18_11ea_a184_80000208fe80row3_col81\" class=\"data row3 col81\" >nan</td>\n",
       "                        <td id=\"T_9b9f390e_0b18_11ea_a184_80000208fe80row3_col82\" class=\"data row3 col82\" >nan</td>\n",
       "                        <td id=\"T_9b9f390e_0b18_11ea_a184_80000208fe80row3_col83\" class=\"data row3 col83\" >nan</td>\n",
       "                        <td id=\"T_9b9f390e_0b18_11ea_a184_80000208fe80row3_col84\" class=\"data row3 col84\" >nan</td>\n",
       "                        <td id=\"T_9b9f390e_0b18_11ea_a184_80000208fe80row3_col85\" class=\"data row3 col85\" >nan</td>\n",
       "                        <td id=\"T_9b9f390e_0b18_11ea_a184_80000208fe80row3_col86\" class=\"data row3 col86\" >nan</td>\n",
       "                        <td id=\"T_9b9f390e_0b18_11ea_a184_80000208fe80row3_col87\" class=\"data row3 col87\" >nan</td>\n",
       "                        <td id=\"T_9b9f390e_0b18_11ea_a184_80000208fe80row3_col88\" class=\"data row3 col88\" >nan</td>\n",
       "                        <td id=\"T_9b9f390e_0b18_11ea_a184_80000208fe80row3_col89\" class=\"data row3 col89\" >nan</td>\n",
       "                        <td id=\"T_9b9f390e_0b18_11ea_a184_80000208fe80row3_col90\" class=\"data row3 col90\" >nan</td>\n",
       "                        <td id=\"T_9b9f390e_0b18_11ea_a184_80000208fe80row3_col91\" class=\"data row3 col91\" >nan</td>\n",
       "                        <td id=\"T_9b9f390e_0b18_11ea_a184_80000208fe80row3_col92\" class=\"data row3 col92\" >nan</td>\n",
       "                        <td id=\"T_9b9f390e_0b18_11ea_a184_80000208fe80row3_col93\" class=\"data row3 col93\" >nan</td>\n",
       "                        <td id=\"T_9b9f390e_0b18_11ea_a184_80000208fe80row3_col94\" class=\"data row3 col94\" >nan</td>\n",
       "                        <td id=\"T_9b9f390e_0b18_11ea_a184_80000208fe80row3_col95\" class=\"data row3 col95\" >nan</td>\n",
       "                        <td id=\"T_9b9f390e_0b18_11ea_a184_80000208fe80row3_col96\" class=\"data row3 col96\" >nan</td>\n",
       "                        <td id=\"T_9b9f390e_0b18_11ea_a184_80000208fe80row3_col97\" class=\"data row3 col97\" >nan</td>\n",
       "                        <td id=\"T_9b9f390e_0b18_11ea_a184_80000208fe80row3_col98\" class=\"data row3 col98\" >nan</td>\n",
       "                        <td id=\"T_9b9f390e_0b18_11ea_a184_80000208fe80row3_col99\" class=\"data row3 col99\" >nan</td>\n",
       "                        <td id=\"T_9b9f390e_0b18_11ea_a184_80000208fe80row3_col100\" class=\"data row3 col100\" >nan</td>\n",
       "            </tr>\n",
       "            <tr>\n",
       "                                <td id=\"T_9b9f390e_0b18_11ea_a184_80000208fe80row4_col0\" class=\"data row4 col0\" >12.8</td>\n",
       "                        <td id=\"T_9b9f390e_0b18_11ea_a184_80000208fe80row4_col1\" class=\"data row4 col1\" >StackedEnsemble_AllModels_AutoML_20191119_221635</td>\n",
       "                        <td id=\"T_9b9f390e_0b18_11ea_a184_80000208fe80row4_col2\" class=\"data row4 col2\" >GBM_grid_1_AutoML_20191119_221635_model_39</td>\n",
       "                        <td id=\"T_9b9f390e_0b18_11ea_a184_80000208fe80row4_col3\" class=\"data row4 col3\" >DeepLearning_grid_1_AutoML_20191119_221635_model_10</td>\n",
       "                        <td id=\"T_9b9f390e_0b18_11ea_a184_80000208fe80row4_col4\" class=\"data row4 col4\" >DeepLearning_grid_1_AutoML_20191119_221635_model_2</td>\n",
       "                        <td id=\"T_9b9f390e_0b18_11ea_a184_80000208fe80row4_col5\" class=\"data row4 col5\" >DeepLearning_grid_1_AutoML_20191119_221635_model_7</td>\n",
       "                        <td id=\"T_9b9f390e_0b18_11ea_a184_80000208fe80row4_col6\" class=\"data row4 col6\" >GBM_grid_1_AutoML_20191119_221635_model_31</td>\n",
       "                        <td id=\"T_9b9f390e_0b18_11ea_a184_80000208fe80row4_col7\" class=\"data row4 col7\" >GBM_grid_1_AutoML_20191119_221635_model_35</td>\n",
       "                        <td id=\"T_9b9f390e_0b18_11ea_a184_80000208fe80row4_col8\" class=\"data row4 col8\" >GBM_grid_1_AutoML_20191119_221635_model_18</td>\n",
       "                        <td id=\"T_9b9f390e_0b18_11ea_a184_80000208fe80row4_col9\" class=\"data row4 col9\" >DeepLearning_grid_1_AutoML_20191119_221635_model_1</td>\n",
       "                        <td id=\"T_9b9f390e_0b18_11ea_a184_80000208fe80row4_col10\" class=\"data row4 col10\" >GBM_grid_1_AutoML_20191119_221635_model_12</td>\n",
       "                        <td id=\"T_9b9f390e_0b18_11ea_a184_80000208fe80row4_col11\" class=\"data row4 col11\" >GBM_3_AutoML_20191119_221635</td>\n",
       "                        <td id=\"T_9b9f390e_0b18_11ea_a184_80000208fe80row4_col12\" class=\"data row4 col12\" >GBM_grid_1_AutoML_20191119_221635_model_27</td>\n",
       "                        <td id=\"T_9b9f390e_0b18_11ea_a184_80000208fe80row4_col13\" class=\"data row4 col13\" >GBM_grid_1_AutoML_20191119_221635_model_19</td>\n",
       "                        <td id=\"T_9b9f390e_0b18_11ea_a184_80000208fe80row4_col14\" class=\"data row4 col14\" >GBM_grid_1_AutoML_20191119_221635_model_40</td>\n",
       "                        <td id=\"T_9b9f390e_0b18_11ea_a184_80000208fe80row4_col15\" class=\"data row4 col15\" >DeepLearning_grid_1_AutoML_20191119_221635_model_6</td>\n",
       "                        <td id=\"T_9b9f390e_0b18_11ea_a184_80000208fe80row4_col16\" class=\"data row4 col16\" >XGBoost_grid_1_AutoML_20191119_221635_model_13</td>\n",
       "                        <td id=\"T_9b9f390e_0b18_11ea_a184_80000208fe80row4_col17\" class=\"data row4 col17\" >GBM_grid_1_AutoML_20191119_221635_model_1</td>\n",
       "                        <td id=\"T_9b9f390e_0b18_11ea_a184_80000208fe80row4_col18\" class=\"data row4 col18\" >GBM_grid_1_AutoML_20191119_221635_model_20</td>\n",
       "                        <td id=\"T_9b9f390e_0b18_11ea_a184_80000208fe80row4_col19\" class=\"data row4 col19\" >GBM_2_AutoML_20191119_221635</td>\n",
       "                        <td id=\"T_9b9f390e_0b18_11ea_a184_80000208fe80row4_col20\" class=\"data row4 col20\" >GBM_grid_1_AutoML_20191119_221635_model_15</td>\n",
       "                        <td id=\"T_9b9f390e_0b18_11ea_a184_80000208fe80row4_col21\" class=\"data row4 col21\" >DRF_1_AutoML_20191119_221635</td>\n",
       "                        <td id=\"T_9b9f390e_0b18_11ea_a184_80000208fe80row4_col22\" class=\"data row4 col22\" >GBM_4_AutoML_20191119_221635</td>\n",
       "                        <td id=\"T_9b9f390e_0b18_11ea_a184_80000208fe80row4_col23\" class=\"data row4 col23\" >XRT_1_AutoML_20191119_221635</td>\n",
       "                        <td id=\"T_9b9f390e_0b18_11ea_a184_80000208fe80row4_col24\" class=\"data row4 col24\" >GBM_grid_1_AutoML_20191119_221635_model_13</td>\n",
       "                        <td id=\"T_9b9f390e_0b18_11ea_a184_80000208fe80row4_col25\" class=\"data row4 col25\" >GBM_grid_1_AutoML_20191119_221635_model_32</td>\n",
       "                        <td id=\"T_9b9f390e_0b18_11ea_a184_80000208fe80row4_col26\" class=\"data row4 col26\" >GBM_grid_1_AutoML_20191119_221635_model_16</td>\n",
       "                        <td id=\"T_9b9f390e_0b18_11ea_a184_80000208fe80row4_col27\" class=\"data row4 col27\" >XGBoost_grid_1_AutoML_20191119_221635_model_8</td>\n",
       "                        <td id=\"T_9b9f390e_0b18_11ea_a184_80000208fe80row4_col28\" class=\"data row4 col28\" >GBM_grid_1_AutoML_20191119_221635_model_17</td>\n",
       "                        <td id=\"T_9b9f390e_0b18_11ea_a184_80000208fe80row4_col29\" class=\"data row4 col29\" >GBM_grid_1_AutoML_20191119_221635_model_41</td>\n",
       "                        <td id=\"T_9b9f390e_0b18_11ea_a184_80000208fe80row4_col30\" class=\"data row4 col30\" >GBM_grid_1_AutoML_20191119_221635_model_26</td>\n",
       "                        <td id=\"T_9b9f390e_0b18_11ea_a184_80000208fe80row4_col31\" class=\"data row4 col31\" >GBM_5_AutoML_20191119_221635</td>\n",
       "                        <td id=\"T_9b9f390e_0b18_11ea_a184_80000208fe80row4_col32\" class=\"data row4 col32\" >GBM_grid_1_AutoML_20191119_221635_model_6</td>\n",
       "                        <td id=\"T_9b9f390e_0b18_11ea_a184_80000208fe80row4_col33\" class=\"data row4 col33\" >GBM_grid_1_AutoML_20191119_221635_model_24</td>\n",
       "                        <td id=\"T_9b9f390e_0b18_11ea_a184_80000208fe80row4_col34\" class=\"data row4 col34\" >GBM_grid_1_AutoML_20191119_221635_model_10</td>\n",
       "                        <td id=\"T_9b9f390e_0b18_11ea_a184_80000208fe80row4_col35\" class=\"data row4 col35\" >DeepLearning_grid_1_AutoML_20191119_221635_model_9</td>\n",
       "                        <td id=\"T_9b9f390e_0b18_11ea_a184_80000208fe80row4_col36\" class=\"data row4 col36\" >DeepLearning_grid_1_AutoML_20191119_221635_model_3</td>\n",
       "                        <td id=\"T_9b9f390e_0b18_11ea_a184_80000208fe80row4_col37\" class=\"data row4 col37\" >GBM_grid_1_AutoML_20191119_221635_model_3</td>\n",
       "                        <td id=\"T_9b9f390e_0b18_11ea_a184_80000208fe80row4_col38\" class=\"data row4 col38\" >GBM_1_AutoML_20191119_221635</td>\n",
       "                        <td id=\"T_9b9f390e_0b18_11ea_a184_80000208fe80row4_col39\" class=\"data row4 col39\" >GLM_grid_1_AutoML_20191119_221635_model_1</td>\n",
       "                        <td id=\"T_9b9f390e_0b18_11ea_a184_80000208fe80row4_col40\" class=\"data row4 col40\" >XGBoost_grid_1_AutoML_20191119_221635_model_30</td>\n",
       "                        <td id=\"T_9b9f390e_0b18_11ea_a184_80000208fe80row4_col41\" class=\"data row4 col41\" >GBM_grid_1_AutoML_20191119_221635_model_14</td>\n",
       "                        <td id=\"T_9b9f390e_0b18_11ea_a184_80000208fe80row4_col42\" class=\"data row4 col42\" >XGBoost_3_AutoML_20191119_221635</td>\n",
       "                        <td id=\"T_9b9f390e_0b18_11ea_a184_80000208fe80row4_col43\" class=\"data row4 col43\" >XGBoost_grid_1_AutoML_20191119_221635_model_15</td>\n",
       "                        <td id=\"T_9b9f390e_0b18_11ea_a184_80000208fe80row4_col44\" class=\"data row4 col44\" >XGBoost_grid_1_AutoML_20191119_221635_model_17</td>\n",
       "                        <td id=\"T_9b9f390e_0b18_11ea_a184_80000208fe80row4_col45\" class=\"data row4 col45\" >GBM_grid_1_AutoML_20191119_221635_model_11</td>\n",
       "                        <td id=\"T_9b9f390e_0b18_11ea_a184_80000208fe80row4_col46\" class=\"data row4 col46\" >XGBoost_1_AutoML_20191119_221635</td>\n",
       "                        <td id=\"T_9b9f390e_0b18_11ea_a184_80000208fe80row4_col47\" class=\"data row4 col47\" >XGBoost_grid_1_AutoML_20191119_221635_model_25</td>\n",
       "                        <td id=\"T_9b9f390e_0b18_11ea_a184_80000208fe80row4_col48\" class=\"data row4 col48\" >GBM_grid_1_AutoML_20191119_221635_model_8</td>\n",
       "                        <td id=\"T_9b9f390e_0b18_11ea_a184_80000208fe80row4_col49\" class=\"data row4 col49\" >XGBoost_grid_1_AutoML_20191119_221635_model_4</td>\n",
       "                        <td id=\"T_9b9f390e_0b18_11ea_a184_80000208fe80row4_col50\" class=\"data row4 col50\" >XGBoost_grid_1_AutoML_20191119_221635_model_18</td>\n",
       "                        <td id=\"T_9b9f390e_0b18_11ea_a184_80000208fe80row4_col51\" class=\"data row4 col51\" >XGBoost_grid_1_AutoML_20191119_221635_model_21</td>\n",
       "                        <td id=\"T_9b9f390e_0b18_11ea_a184_80000208fe80row4_col52\" class=\"data row4 col52\" >XGBoost_grid_1_AutoML_20191119_221635_model_26</td>\n",
       "                        <td id=\"T_9b9f390e_0b18_11ea_a184_80000208fe80row4_col53\" class=\"data row4 col53\" >XGBoost_grid_1_AutoML_20191119_221635_model_33</td>\n",
       "                        <td id=\"T_9b9f390e_0b18_11ea_a184_80000208fe80row4_col54\" class=\"data row4 col54\" >XGBoost_grid_1_AutoML_20191119_221635_model_2</td>\n",
       "                        <td id=\"T_9b9f390e_0b18_11ea_a184_80000208fe80row4_col55\" class=\"data row4 col55\" >XGBoost_grid_1_AutoML_20191119_221635_model_20</td>\n",
       "                        <td id=\"T_9b9f390e_0b18_11ea_a184_80000208fe80row4_col56\" class=\"data row4 col56\" >GBM_grid_1_AutoML_20191119_221635_model_9</td>\n",
       "                        <td id=\"T_9b9f390e_0b18_11ea_a184_80000208fe80row4_col57\" class=\"data row4 col57\" >XGBoost_grid_1_AutoML_20191119_221635_model_27</td>\n",
       "                        <td id=\"T_9b9f390e_0b18_11ea_a184_80000208fe80row4_col58\" class=\"data row4 col58\" >DeepLearning_grid_1_AutoML_20191119_221635_model_8</td>\n",
       "                        <td id=\"T_9b9f390e_0b18_11ea_a184_80000208fe80row4_col59\" class=\"data row4 col59\" >DeepLearning_grid_1_AutoML_20191119_221635_model_5</td>\n",
       "                        <td id=\"T_9b9f390e_0b18_11ea_a184_80000208fe80row4_col60\" class=\"data row4 col60\" >GBM_grid_1_AutoML_20191119_221635_model_29</td>\n",
       "                        <td id=\"T_9b9f390e_0b18_11ea_a184_80000208fe80row4_col61\" class=\"data row4 col61\" >XGBoost_grid_1_AutoML_20191119_221635_model_3</td>\n",
       "                        <td id=\"T_9b9f390e_0b18_11ea_a184_80000208fe80row4_col62\" class=\"data row4 col62\" >GBM_grid_1_AutoML_20191119_221635_model_42</td>\n",
       "                        <td id=\"T_9b9f390e_0b18_11ea_a184_80000208fe80row4_col63\" class=\"data row4 col63\" >XGBoost_grid_1_AutoML_20191119_221635_model_29</td>\n",
       "                        <td id=\"T_9b9f390e_0b18_11ea_a184_80000208fe80row4_col64\" class=\"data row4 col64\" >XGBoost_grid_1_AutoML_20191119_221635_model_28</td>\n",
       "                        <td id=\"T_9b9f390e_0b18_11ea_a184_80000208fe80row4_col65\" class=\"data row4 col65\" >DeepLearning_grid_1_AutoML_20191119_221635_model_4</td>\n",
       "                        <td id=\"T_9b9f390e_0b18_11ea_a184_80000208fe80row4_col66\" class=\"data row4 col66\" >GBM_grid_1_AutoML_20191119_221635_model_28</td>\n",
       "                        <td id=\"T_9b9f390e_0b18_11ea_a184_80000208fe80row4_col67\" class=\"data row4 col67\" >DeepLearning_grid_1_AutoML_20191119_221635_model_11</td>\n",
       "                        <td id=\"T_9b9f390e_0b18_11ea_a184_80000208fe80row4_col68\" class=\"data row4 col68\" >XGBoost_grid_1_AutoML_20191119_221635_model_31</td>\n",
       "                        <td id=\"T_9b9f390e_0b18_11ea_a184_80000208fe80row4_col69\" class=\"data row4 col69\" >XGBoost_grid_1_AutoML_20191119_221635_model_32</td>\n",
       "                        <td id=\"T_9b9f390e_0b18_11ea_a184_80000208fe80row4_col70\" class=\"data row4 col70\" >GBM_grid_1_AutoML_20191119_221635_model_21</td>\n",
       "                        <td id=\"T_9b9f390e_0b18_11ea_a184_80000208fe80row4_col71\" class=\"data row4 col71\" >XGBoost_grid_1_AutoML_20191119_221635_model_7</td>\n",
       "                        <td id=\"T_9b9f390e_0b18_11ea_a184_80000208fe80row4_col72\" class=\"data row4 col72\" >XGBoost_grid_1_AutoML_20191119_221635_model_19</td>\n",
       "                        <td id=\"T_9b9f390e_0b18_11ea_a184_80000208fe80row4_col73\" class=\"data row4 col73\" >XGBoost_grid_1_AutoML_20191119_221635_model_23</td>\n",
       "                        <td id=\"T_9b9f390e_0b18_11ea_a184_80000208fe80row4_col74\" class=\"data row4 col74\" >GBM_grid_1_AutoML_20191119_221635_model_23</td>\n",
       "                        <td id=\"T_9b9f390e_0b18_11ea_a184_80000208fe80row4_col75\" class=\"data row4 col75\" >GBM_grid_1_AutoML_20191119_221635_model_30</td>\n",
       "                        <td id=\"T_9b9f390e_0b18_11ea_a184_80000208fe80row4_col76\" class=\"data row4 col76\" >XGBoost_2_AutoML_20191119_221635</td>\n",
       "                        <td id=\"T_9b9f390e_0b18_11ea_a184_80000208fe80row4_col77\" class=\"data row4 col77\" >XGBoost_grid_1_AutoML_20191119_221635_model_1</td>\n",
       "                        <td id=\"T_9b9f390e_0b18_11ea_a184_80000208fe80row4_col78\" class=\"data row4 col78\" >GBM_grid_1_AutoML_20191119_221635_model_25</td>\n",
       "                        <td id=\"T_9b9f390e_0b18_11ea_a184_80000208fe80row4_col79\" class=\"data row4 col79\" >GBM_grid_1_AutoML_20191119_221635_model_7</td>\n",
       "                        <td id=\"T_9b9f390e_0b18_11ea_a184_80000208fe80row4_col80\" class=\"data row4 col80\" >GBM_grid_1_AutoML_20191119_221635_model_38</td>\n",
       "                        <td id=\"T_9b9f390e_0b18_11ea_a184_80000208fe80row4_col81\" class=\"data row4 col81\" >GBM_grid_1_AutoML_20191119_221635_model_5</td>\n",
       "                        <td id=\"T_9b9f390e_0b18_11ea_a184_80000208fe80row4_col82\" class=\"data row4 col82\" >GBM_grid_1_AutoML_20191119_221635_model_33</td>\n",
       "                        <td id=\"T_9b9f390e_0b18_11ea_a184_80000208fe80row4_col83\" class=\"data row4 col83\" >XGBoost_grid_1_AutoML_20191119_221635_model_11</td>\n",
       "                        <td id=\"T_9b9f390e_0b18_11ea_a184_80000208fe80row4_col84\" class=\"data row4 col84\" >XGBoost_grid_1_AutoML_20191119_221635_model_22</td>\n",
       "                        <td id=\"T_9b9f390e_0b18_11ea_a184_80000208fe80row4_col85\" class=\"data row4 col85\" >XGBoost_grid_1_AutoML_20191119_221635_model_12</td>\n",
       "                        <td id=\"T_9b9f390e_0b18_11ea_a184_80000208fe80row4_col86\" class=\"data row4 col86\" >GBM_grid_1_AutoML_20191119_221635_model_37</td>\n",
       "                        <td id=\"T_9b9f390e_0b18_11ea_a184_80000208fe80row4_col87\" class=\"data row4 col87\" >XGBoost_grid_1_AutoML_20191119_221635_model_5</td>\n",
       "                        <td id=\"T_9b9f390e_0b18_11ea_a184_80000208fe80row4_col88\" class=\"data row4 col88\" >XGBoost_grid_1_AutoML_20191119_221635_model_6</td>\n",
       "                        <td id=\"T_9b9f390e_0b18_11ea_a184_80000208fe80row4_col89\" class=\"data row4 col89\" >XGBoost_grid_1_AutoML_20191119_221635_model_24</td>\n",
       "                        <td id=\"T_9b9f390e_0b18_11ea_a184_80000208fe80row4_col90\" class=\"data row4 col90\" >GBM_grid_1_AutoML_20191119_221635_model_4</td>\n",
       "                        <td id=\"T_9b9f390e_0b18_11ea_a184_80000208fe80row4_col91\" class=\"data row4 col91\" >XGBoost_grid_1_AutoML_20191119_221635_model_10</td>\n",
       "                        <td id=\"T_9b9f390e_0b18_11ea_a184_80000208fe80row4_col92\" class=\"data row4 col92\" >XGBoost_grid_1_AutoML_20191119_221635_model_14</td>\n",
       "                        <td id=\"T_9b9f390e_0b18_11ea_a184_80000208fe80row4_col93\" class=\"data row4 col93\" >XGBoost_grid_1_AutoML_20191119_221635_model_16</td>\n",
       "                        <td id=\"T_9b9f390e_0b18_11ea_a184_80000208fe80row4_col94\" class=\"data row4 col94\" >GBM_grid_1_AutoML_20191119_221635_model_34</td>\n",
       "                        <td id=\"T_9b9f390e_0b18_11ea_a184_80000208fe80row4_col95\" class=\"data row4 col95\" >GBM_grid_1_AutoML_20191119_221635_model_43</td>\n",
       "                        <td id=\"T_9b9f390e_0b18_11ea_a184_80000208fe80row4_col96\" class=\"data row4 col96\" >XGBoost_grid_1_AutoML_20191119_221635_model_9</td>\n",
       "                        <td id=\"T_9b9f390e_0b18_11ea_a184_80000208fe80row4_col97\" class=\"data row4 col97\" >DeepLearning_1_AutoML_20191119_221635</td>\n",
       "                        <td id=\"T_9b9f390e_0b18_11ea_a184_80000208fe80row4_col98\" class=\"data row4 col98\" >GBM_grid_1_AutoML_20191119_221635_model_2</td>\n",
       "                        <td id=\"T_9b9f390e_0b18_11ea_a184_80000208fe80row4_col99\" class=\"data row4 col99\" >GBM_grid_1_AutoML_20191119_221635_model_22</td>\n",
       "                        <td id=\"T_9b9f390e_0b18_11ea_a184_80000208fe80row4_col100\" class=\"data row4 col100\" >GBM_grid_1_AutoML_20191119_221635_model_36</td>\n",
       "            </tr>\n",
       "            <tr>\n",
       "                                <td id=\"T_9b9f390e_0b18_11ea_a184_80000208fe80row5_col0\" class=\"data row5 col0\" >16</td>\n",
       "                        <td id=\"T_9b9f390e_0b18_11ea_a184_80000208fe80row5_col1\" class=\"data row5 col1\" >StackedEnsemble_BestOfFamily_AutoML_20191119_234850</td>\n",
       "                        <td id=\"T_9b9f390e_0b18_11ea_a184_80000208fe80row5_col2\" class=\"data row5 col2\" >DeepLearning_grid_1_AutoML_20191119_234850_model_7</td>\n",
       "                        <td id=\"T_9b9f390e_0b18_11ea_a184_80000208fe80row5_col3\" class=\"data row5 col3\" >GBM_grid_1_AutoML_20191119_234850_model_39</td>\n",
       "                        <td id=\"T_9b9f390e_0b18_11ea_a184_80000208fe80row5_col4\" class=\"data row5 col4\" >XGBoost_grid_1_AutoML_20191119_234850_model_13</td>\n",
       "                        <td id=\"T_9b9f390e_0b18_11ea_a184_80000208fe80row5_col5\" class=\"data row5 col5\" >DRF_1_AutoML_20191119_234850</td>\n",
       "                        <td id=\"T_9b9f390e_0b18_11ea_a184_80000208fe80row5_col6\" class=\"data row5 col6\" >XRT_1_AutoML_20191119_234850</td>\n",
       "                        <td id=\"T_9b9f390e_0b18_11ea_a184_80000208fe80row5_col7\" class=\"data row5 col7\" >GLM_grid_1_AutoML_20191119_234850_model_1</td>\n",
       "                        <td id=\"T_9b9f390e_0b18_11ea_a184_80000208fe80row5_col8\" class=\"data row5 col8\" >nan</td>\n",
       "                        <td id=\"T_9b9f390e_0b18_11ea_a184_80000208fe80row5_col9\" class=\"data row5 col9\" >nan</td>\n",
       "                        <td id=\"T_9b9f390e_0b18_11ea_a184_80000208fe80row5_col10\" class=\"data row5 col10\" >nan</td>\n",
       "                        <td id=\"T_9b9f390e_0b18_11ea_a184_80000208fe80row5_col11\" class=\"data row5 col11\" >nan</td>\n",
       "                        <td id=\"T_9b9f390e_0b18_11ea_a184_80000208fe80row5_col12\" class=\"data row5 col12\" >nan</td>\n",
       "                        <td id=\"T_9b9f390e_0b18_11ea_a184_80000208fe80row5_col13\" class=\"data row5 col13\" >nan</td>\n",
       "                        <td id=\"T_9b9f390e_0b18_11ea_a184_80000208fe80row5_col14\" class=\"data row5 col14\" >nan</td>\n",
       "                        <td id=\"T_9b9f390e_0b18_11ea_a184_80000208fe80row5_col15\" class=\"data row5 col15\" >nan</td>\n",
       "                        <td id=\"T_9b9f390e_0b18_11ea_a184_80000208fe80row5_col16\" class=\"data row5 col16\" >nan</td>\n",
       "                        <td id=\"T_9b9f390e_0b18_11ea_a184_80000208fe80row5_col17\" class=\"data row5 col17\" >nan</td>\n",
       "                        <td id=\"T_9b9f390e_0b18_11ea_a184_80000208fe80row5_col18\" class=\"data row5 col18\" >nan</td>\n",
       "                        <td id=\"T_9b9f390e_0b18_11ea_a184_80000208fe80row5_col19\" class=\"data row5 col19\" >nan</td>\n",
       "                        <td id=\"T_9b9f390e_0b18_11ea_a184_80000208fe80row5_col20\" class=\"data row5 col20\" >nan</td>\n",
       "                        <td id=\"T_9b9f390e_0b18_11ea_a184_80000208fe80row5_col21\" class=\"data row5 col21\" >nan</td>\n",
       "                        <td id=\"T_9b9f390e_0b18_11ea_a184_80000208fe80row5_col22\" class=\"data row5 col22\" >nan</td>\n",
       "                        <td id=\"T_9b9f390e_0b18_11ea_a184_80000208fe80row5_col23\" class=\"data row5 col23\" >nan</td>\n",
       "                        <td id=\"T_9b9f390e_0b18_11ea_a184_80000208fe80row5_col24\" class=\"data row5 col24\" >nan</td>\n",
       "                        <td id=\"T_9b9f390e_0b18_11ea_a184_80000208fe80row5_col25\" class=\"data row5 col25\" >nan</td>\n",
       "                        <td id=\"T_9b9f390e_0b18_11ea_a184_80000208fe80row5_col26\" class=\"data row5 col26\" >nan</td>\n",
       "                        <td id=\"T_9b9f390e_0b18_11ea_a184_80000208fe80row5_col27\" class=\"data row5 col27\" >nan</td>\n",
       "                        <td id=\"T_9b9f390e_0b18_11ea_a184_80000208fe80row5_col28\" class=\"data row5 col28\" >nan</td>\n",
       "                        <td id=\"T_9b9f390e_0b18_11ea_a184_80000208fe80row5_col29\" class=\"data row5 col29\" >nan</td>\n",
       "                        <td id=\"T_9b9f390e_0b18_11ea_a184_80000208fe80row5_col30\" class=\"data row5 col30\" >nan</td>\n",
       "                        <td id=\"T_9b9f390e_0b18_11ea_a184_80000208fe80row5_col31\" class=\"data row5 col31\" >nan</td>\n",
       "                        <td id=\"T_9b9f390e_0b18_11ea_a184_80000208fe80row5_col32\" class=\"data row5 col32\" >nan</td>\n",
       "                        <td id=\"T_9b9f390e_0b18_11ea_a184_80000208fe80row5_col33\" class=\"data row5 col33\" >nan</td>\n",
       "                        <td id=\"T_9b9f390e_0b18_11ea_a184_80000208fe80row5_col34\" class=\"data row5 col34\" >nan</td>\n",
       "                        <td id=\"T_9b9f390e_0b18_11ea_a184_80000208fe80row5_col35\" class=\"data row5 col35\" >nan</td>\n",
       "                        <td id=\"T_9b9f390e_0b18_11ea_a184_80000208fe80row5_col36\" class=\"data row5 col36\" >nan</td>\n",
       "                        <td id=\"T_9b9f390e_0b18_11ea_a184_80000208fe80row5_col37\" class=\"data row5 col37\" >nan</td>\n",
       "                        <td id=\"T_9b9f390e_0b18_11ea_a184_80000208fe80row5_col38\" class=\"data row5 col38\" >nan</td>\n",
       "                        <td id=\"T_9b9f390e_0b18_11ea_a184_80000208fe80row5_col39\" class=\"data row5 col39\" >nan</td>\n",
       "                        <td id=\"T_9b9f390e_0b18_11ea_a184_80000208fe80row5_col40\" class=\"data row5 col40\" >nan</td>\n",
       "                        <td id=\"T_9b9f390e_0b18_11ea_a184_80000208fe80row5_col41\" class=\"data row5 col41\" >nan</td>\n",
       "                        <td id=\"T_9b9f390e_0b18_11ea_a184_80000208fe80row5_col42\" class=\"data row5 col42\" >nan</td>\n",
       "                        <td id=\"T_9b9f390e_0b18_11ea_a184_80000208fe80row5_col43\" class=\"data row5 col43\" >nan</td>\n",
       "                        <td id=\"T_9b9f390e_0b18_11ea_a184_80000208fe80row5_col44\" class=\"data row5 col44\" >nan</td>\n",
       "                        <td id=\"T_9b9f390e_0b18_11ea_a184_80000208fe80row5_col45\" class=\"data row5 col45\" >nan</td>\n",
       "                        <td id=\"T_9b9f390e_0b18_11ea_a184_80000208fe80row5_col46\" class=\"data row5 col46\" >nan</td>\n",
       "                        <td id=\"T_9b9f390e_0b18_11ea_a184_80000208fe80row5_col47\" class=\"data row5 col47\" >nan</td>\n",
       "                        <td id=\"T_9b9f390e_0b18_11ea_a184_80000208fe80row5_col48\" class=\"data row5 col48\" >nan</td>\n",
       "                        <td id=\"T_9b9f390e_0b18_11ea_a184_80000208fe80row5_col49\" class=\"data row5 col49\" >nan</td>\n",
       "                        <td id=\"T_9b9f390e_0b18_11ea_a184_80000208fe80row5_col50\" class=\"data row5 col50\" >nan</td>\n",
       "                        <td id=\"T_9b9f390e_0b18_11ea_a184_80000208fe80row5_col51\" class=\"data row5 col51\" >nan</td>\n",
       "                        <td id=\"T_9b9f390e_0b18_11ea_a184_80000208fe80row5_col52\" class=\"data row5 col52\" >nan</td>\n",
       "                        <td id=\"T_9b9f390e_0b18_11ea_a184_80000208fe80row5_col53\" class=\"data row5 col53\" >nan</td>\n",
       "                        <td id=\"T_9b9f390e_0b18_11ea_a184_80000208fe80row5_col54\" class=\"data row5 col54\" >nan</td>\n",
       "                        <td id=\"T_9b9f390e_0b18_11ea_a184_80000208fe80row5_col55\" class=\"data row5 col55\" >nan</td>\n",
       "                        <td id=\"T_9b9f390e_0b18_11ea_a184_80000208fe80row5_col56\" class=\"data row5 col56\" >nan</td>\n",
       "                        <td id=\"T_9b9f390e_0b18_11ea_a184_80000208fe80row5_col57\" class=\"data row5 col57\" >nan</td>\n",
       "                        <td id=\"T_9b9f390e_0b18_11ea_a184_80000208fe80row5_col58\" class=\"data row5 col58\" >nan</td>\n",
       "                        <td id=\"T_9b9f390e_0b18_11ea_a184_80000208fe80row5_col59\" class=\"data row5 col59\" >nan</td>\n",
       "                        <td id=\"T_9b9f390e_0b18_11ea_a184_80000208fe80row5_col60\" class=\"data row5 col60\" >nan</td>\n",
       "                        <td id=\"T_9b9f390e_0b18_11ea_a184_80000208fe80row5_col61\" class=\"data row5 col61\" >nan</td>\n",
       "                        <td id=\"T_9b9f390e_0b18_11ea_a184_80000208fe80row5_col62\" class=\"data row5 col62\" >nan</td>\n",
       "                        <td id=\"T_9b9f390e_0b18_11ea_a184_80000208fe80row5_col63\" class=\"data row5 col63\" >nan</td>\n",
       "                        <td id=\"T_9b9f390e_0b18_11ea_a184_80000208fe80row5_col64\" class=\"data row5 col64\" >nan</td>\n",
       "                        <td id=\"T_9b9f390e_0b18_11ea_a184_80000208fe80row5_col65\" class=\"data row5 col65\" >nan</td>\n",
       "                        <td id=\"T_9b9f390e_0b18_11ea_a184_80000208fe80row5_col66\" class=\"data row5 col66\" >nan</td>\n",
       "                        <td id=\"T_9b9f390e_0b18_11ea_a184_80000208fe80row5_col67\" class=\"data row5 col67\" >nan</td>\n",
       "                        <td id=\"T_9b9f390e_0b18_11ea_a184_80000208fe80row5_col68\" class=\"data row5 col68\" >nan</td>\n",
       "                        <td id=\"T_9b9f390e_0b18_11ea_a184_80000208fe80row5_col69\" class=\"data row5 col69\" >nan</td>\n",
       "                        <td id=\"T_9b9f390e_0b18_11ea_a184_80000208fe80row5_col70\" class=\"data row5 col70\" >nan</td>\n",
       "                        <td id=\"T_9b9f390e_0b18_11ea_a184_80000208fe80row5_col71\" class=\"data row5 col71\" >nan</td>\n",
       "                        <td id=\"T_9b9f390e_0b18_11ea_a184_80000208fe80row5_col72\" class=\"data row5 col72\" >nan</td>\n",
       "                        <td id=\"T_9b9f390e_0b18_11ea_a184_80000208fe80row5_col73\" class=\"data row5 col73\" >nan</td>\n",
       "                        <td id=\"T_9b9f390e_0b18_11ea_a184_80000208fe80row5_col74\" class=\"data row5 col74\" >nan</td>\n",
       "                        <td id=\"T_9b9f390e_0b18_11ea_a184_80000208fe80row5_col75\" class=\"data row5 col75\" >nan</td>\n",
       "                        <td id=\"T_9b9f390e_0b18_11ea_a184_80000208fe80row5_col76\" class=\"data row5 col76\" >nan</td>\n",
       "                        <td id=\"T_9b9f390e_0b18_11ea_a184_80000208fe80row5_col77\" class=\"data row5 col77\" >nan</td>\n",
       "                        <td id=\"T_9b9f390e_0b18_11ea_a184_80000208fe80row5_col78\" class=\"data row5 col78\" >nan</td>\n",
       "                        <td id=\"T_9b9f390e_0b18_11ea_a184_80000208fe80row5_col79\" class=\"data row5 col79\" >nan</td>\n",
       "                        <td id=\"T_9b9f390e_0b18_11ea_a184_80000208fe80row5_col80\" class=\"data row5 col80\" >nan</td>\n",
       "                        <td id=\"T_9b9f390e_0b18_11ea_a184_80000208fe80row5_col81\" class=\"data row5 col81\" >nan</td>\n",
       "                        <td id=\"T_9b9f390e_0b18_11ea_a184_80000208fe80row5_col82\" class=\"data row5 col82\" >nan</td>\n",
       "                        <td id=\"T_9b9f390e_0b18_11ea_a184_80000208fe80row5_col83\" class=\"data row5 col83\" >nan</td>\n",
       "                        <td id=\"T_9b9f390e_0b18_11ea_a184_80000208fe80row5_col84\" class=\"data row5 col84\" >nan</td>\n",
       "                        <td id=\"T_9b9f390e_0b18_11ea_a184_80000208fe80row5_col85\" class=\"data row5 col85\" >nan</td>\n",
       "                        <td id=\"T_9b9f390e_0b18_11ea_a184_80000208fe80row5_col86\" class=\"data row5 col86\" >nan</td>\n",
       "                        <td id=\"T_9b9f390e_0b18_11ea_a184_80000208fe80row5_col87\" class=\"data row5 col87\" >nan</td>\n",
       "                        <td id=\"T_9b9f390e_0b18_11ea_a184_80000208fe80row5_col88\" class=\"data row5 col88\" >nan</td>\n",
       "                        <td id=\"T_9b9f390e_0b18_11ea_a184_80000208fe80row5_col89\" class=\"data row5 col89\" >nan</td>\n",
       "                        <td id=\"T_9b9f390e_0b18_11ea_a184_80000208fe80row5_col90\" class=\"data row5 col90\" >nan</td>\n",
       "                        <td id=\"T_9b9f390e_0b18_11ea_a184_80000208fe80row5_col91\" class=\"data row5 col91\" >nan</td>\n",
       "                        <td id=\"T_9b9f390e_0b18_11ea_a184_80000208fe80row5_col92\" class=\"data row5 col92\" >nan</td>\n",
       "                        <td id=\"T_9b9f390e_0b18_11ea_a184_80000208fe80row5_col93\" class=\"data row5 col93\" >nan</td>\n",
       "                        <td id=\"T_9b9f390e_0b18_11ea_a184_80000208fe80row5_col94\" class=\"data row5 col94\" >nan</td>\n",
       "                        <td id=\"T_9b9f390e_0b18_11ea_a184_80000208fe80row5_col95\" class=\"data row5 col95\" >nan</td>\n",
       "                        <td id=\"T_9b9f390e_0b18_11ea_a184_80000208fe80row5_col96\" class=\"data row5 col96\" >nan</td>\n",
       "                        <td id=\"T_9b9f390e_0b18_11ea_a184_80000208fe80row5_col97\" class=\"data row5 col97\" >nan</td>\n",
       "                        <td id=\"T_9b9f390e_0b18_11ea_a184_80000208fe80row5_col98\" class=\"data row5 col98\" >nan</td>\n",
       "                        <td id=\"T_9b9f390e_0b18_11ea_a184_80000208fe80row5_col99\" class=\"data row5 col99\" >nan</td>\n",
       "                        <td id=\"T_9b9f390e_0b18_11ea_a184_80000208fe80row5_col100\" class=\"data row5 col100\" >nan</td>\n",
       "            </tr>\n",
       "    </tbody></table>"
      ],
      "text/plain": [
       "<pandas.io.formats.style.Styler at 0x2aedaa616fd0>"
      ]
     },
     "metadata": {},
     "output_type": "display_data"
    },
    {
     "data": {
      "text/plain": [
       "'TPOTClassifier #1'"
      ]
     },
     "metadata": {},
     "output_type": "display_data"
    },
    {
     "data": {
      "text/html": [
       "<style  type=\"text/css\" >\n",
       "</style><table id=\"T_9ba41578_0b18_11ea_a184_80000208fe80\" ><thead>    <tr>        <th class=\"col_heading level0 col0\" >std</th>        <th class=\"col_heading level0 col1\" >test_acc</th>        <th class=\"col_heading level0 col2\" >train_acc</th>        <th class=\"col_heading level0 col3\" >time_err</th>        <th class=\"col_heading level0 col4\" >time_pre</th>        <th class=\"col_heading level0 col5\" >time_mod</th>    </tr></thead><tbody>\n",
       "                <tr>\n",
       "                                <td id=\"T_9ba41578_0b18_11ea_a184_80000208fe80row0_col0\" class=\"data row0 col0\" >0</td>\n",
       "                        <td id=\"T_9ba41578_0b18_11ea_a184_80000208fe80row0_col1\" class=\"data row0 col1\" >0.984</td>\n",
       "                        <td id=\"T_9ba41578_0b18_11ea_a184_80000208fe80row0_col2\" class=\"data row0 col2\" >1</td>\n",
       "                        <td id=\"T_9ba41578_0b18_11ea_a184_80000208fe80row0_col3\" class=\"data row0 col3\" >0.149</td>\n",
       "                        <td id=\"T_9ba41578_0b18_11ea_a184_80000208fe80row0_col4\" class=\"data row0 col4\" >0.001</td>\n",
       "                        <td id=\"T_9ba41578_0b18_11ea_a184_80000208fe80row0_col5\" class=\"data row0 col5\" >924.05</td>\n",
       "            </tr>\n",
       "            <tr>\n",
       "                                <td id=\"T_9ba41578_0b18_11ea_a184_80000208fe80row1_col0\" class=\"data row1 col0\" >3.2</td>\n",
       "                        <td id=\"T_9ba41578_0b18_11ea_a184_80000208fe80row1_col1\" class=\"data row1 col1\" >0.957</td>\n",
       "                        <td id=\"T_9ba41578_0b18_11ea_a184_80000208fe80row1_col2\" class=\"data row1 col2\" >1</td>\n",
       "                        <td id=\"T_9ba41578_0b18_11ea_a184_80000208fe80row1_col3\" class=\"data row1 col3\" >0.096</td>\n",
       "                        <td id=\"T_9ba41578_0b18_11ea_a184_80000208fe80row1_col4\" class=\"data row1 col4\" >0.001</td>\n",
       "                        <td id=\"T_9ba41578_0b18_11ea_a184_80000208fe80row1_col5\" class=\"data row1 col5\" >972.35</td>\n",
       "            </tr>\n",
       "            <tr>\n",
       "                                <td id=\"T_9ba41578_0b18_11ea_a184_80000208fe80row2_col0\" class=\"data row2 col0\" >6.4</td>\n",
       "                        <td id=\"T_9ba41578_0b18_11ea_a184_80000208fe80row2_col1\" class=\"data row2 col1\" >0.825</td>\n",
       "                        <td id=\"T_9ba41578_0b18_11ea_a184_80000208fe80row2_col2\" class=\"data row2 col2\" >1</td>\n",
       "                        <td id=\"T_9ba41578_0b18_11ea_a184_80000208fe80row2_col3\" class=\"data row2 col3\" >0.102</td>\n",
       "                        <td id=\"T_9ba41578_0b18_11ea_a184_80000208fe80row2_col4\" class=\"data row2 col4\" >0.002</td>\n",
       "                        <td id=\"T_9ba41578_0b18_11ea_a184_80000208fe80row2_col5\" class=\"data row2 col5\" >1325.36</td>\n",
       "            </tr>\n",
       "            <tr>\n",
       "                                <td id=\"T_9ba41578_0b18_11ea_a184_80000208fe80row3_col0\" class=\"data row3 col0\" >9.6</td>\n",
       "                        <td id=\"T_9ba41578_0b18_11ea_a184_80000208fe80row3_col1\" class=\"data row3 col1\" >0.669</td>\n",
       "                        <td id=\"T_9ba41578_0b18_11ea_a184_80000208fe80row3_col2\" class=\"data row3 col2\" >0.737</td>\n",
       "                        <td id=\"T_9ba41578_0b18_11ea_a184_80000208fe80row3_col3\" class=\"data row3 col3\" >0.135</td>\n",
       "                        <td id=\"T_9ba41578_0b18_11ea_a184_80000208fe80row3_col4\" class=\"data row3 col4\" >0.001</td>\n",
       "                        <td id=\"T_9ba41578_0b18_11ea_a184_80000208fe80row3_col5\" class=\"data row3 col5\" >977.832</td>\n",
       "            </tr>\n",
       "            <tr>\n",
       "                                <td id=\"T_9ba41578_0b18_11ea_a184_80000208fe80row4_col0\" class=\"data row4 col0\" >12.8</td>\n",
       "                        <td id=\"T_9ba41578_0b18_11ea_a184_80000208fe80row4_col1\" class=\"data row4 col1\" >0.498</td>\n",
       "                        <td id=\"T_9ba41578_0b18_11ea_a184_80000208fe80row4_col2\" class=\"data row4 col2\" >0.506</td>\n",
       "                        <td id=\"T_9ba41578_0b18_11ea_a184_80000208fe80row4_col3\" class=\"data row4 col3\" >0.129</td>\n",
       "                        <td id=\"T_9ba41578_0b18_11ea_a184_80000208fe80row4_col4\" class=\"data row4 col4\" >0.001</td>\n",
       "                        <td id=\"T_9ba41578_0b18_11ea_a184_80000208fe80row4_col5\" class=\"data row4 col5\" >924.061</td>\n",
       "            </tr>\n",
       "            <tr>\n",
       "                                <td id=\"T_9ba41578_0b18_11ea_a184_80000208fe80row5_col0\" class=\"data row5 col0\" >16</td>\n",
       "                        <td id=\"T_9ba41578_0b18_11ea_a184_80000208fe80row5_col1\" class=\"data row5 col1\" >0.358</td>\n",
       "                        <td id=\"T_9ba41578_0b18_11ea_a184_80000208fe80row5_col2\" class=\"data row5 col2\" >0.418</td>\n",
       "                        <td id=\"T_9ba41578_0b18_11ea_a184_80000208fe80row5_col3\" class=\"data row5 col3\" >0.098</td>\n",
       "                        <td id=\"T_9ba41578_0b18_11ea_a184_80000208fe80row5_col4\" class=\"data row5 col4\" >0.001</td>\n",
       "                        <td id=\"T_9ba41578_0b18_11ea_a184_80000208fe80row5_col5\" class=\"data row5 col5\" >1013.54</td>\n",
       "            </tr>\n",
       "    </tbody></table>"
      ],
      "text/plain": [
       "<pandas.io.formats.style.Styler at 0x2aedaa63a240>"
      ]
     },
     "metadata": {},
     "output_type": "display_data"
    },
    {
     "data": {
      "text/html": [
       "<style  type=\"text/css\" >\n",
       "</style><table id=\"T_9ba55df2_0b18_11ea_a184_80000208fe80\" ><thead>    <tr>        <th class=\"col_heading level0 col0\" >std</th>        <th class=\"col_heading level0 col1\" >pipe_0</th>        <th class=\"col_heading level0 col2\" >pipe_1</th>        <th class=\"col_heading level0 col3\" >pipe_2</th>    </tr></thead><tbody>\n",
       "                <tr>\n",
       "                                <td id=\"T_9ba55df2_0b18_11ea_a184_80000208fe80row0_col0\" class=\"data row0 col0\" >0</td>\n",
       "                        <td id=\"T_9ba55df2_0b18_11ea_a184_80000208fe80row0_col1\" class=\"data row0 col1\" >StackingEstimator(estimator=LogisticRegression(C=0.5, class_weight=None,\n",
       "                                               dual=False, fit_intercept=True,\n",
       "                                               intercept_scaling=1,\n",
       "                                               l1_ratio=None, max_iter=100,\n",
       "                                               multi_class='warn', n_jobs=None,\n",
       "                                               penalty='l1', random_state=42,\n",
       "                                               solver='warn', tol=0.0001,\n",
       "                                               verbose=0, warm_start=False))</td>\n",
       "                        <td id=\"T_9ba55df2_0b18_11ea_a184_80000208fe80row0_col2\" class=\"data row0 col2\" >KNeighborsClassifier(algorithm='auto', leaf_size=30, metric='minkowski',\n",
       "                     metric_params=None, n_jobs=None, n_neighbors=12, p=2,\n",
       "                     weights='distance')</td>\n",
       "                        <td id=\"T_9ba55df2_0b18_11ea_a184_80000208fe80row0_col3\" class=\"data row0 col3\" >nan</td>\n",
       "            </tr>\n",
       "            <tr>\n",
       "                                <td id=\"T_9ba55df2_0b18_11ea_a184_80000208fe80row1_col0\" class=\"data row1 col0\" >3.2</td>\n",
       "                        <td id=\"T_9ba55df2_0b18_11ea_a184_80000208fe80row1_col1\" class=\"data row1 col1\" >StackingEstimator(estimator=LinearSVC(C=10.0, class_weight=None, dual=False,\n",
       "                                      fit_intercept=True, intercept_scaling=1,\n",
       "                                      loss='squared_hinge', max_iter=1000,\n",
       "                                      multi_class='ovr', penalty='l2',\n",
       "                                      random_state=42, tol=0.0001, verbose=0))</td>\n",
       "                        <td id=\"T_9ba55df2_0b18_11ea_a184_80000208fe80row1_col2\" class=\"data row1 col2\" >KNeighborsClassifier(algorithm='auto', leaf_size=30, metric='minkowski',\n",
       "                     metric_params=None, n_jobs=None, n_neighbors=12, p=2,\n",
       "                     weights='distance')</td>\n",
       "                        <td id=\"T_9ba55df2_0b18_11ea_a184_80000208fe80row1_col3\" class=\"data row1 col3\" >nan</td>\n",
       "            </tr>\n",
       "            <tr>\n",
       "                                <td id=\"T_9ba55df2_0b18_11ea_a184_80000208fe80row2_col0\" class=\"data row2 col0\" >6.4</td>\n",
       "                        <td id=\"T_9ba55df2_0b18_11ea_a184_80000208fe80row2_col1\" class=\"data row2 col1\" >KNeighborsClassifier(algorithm='auto', leaf_size=30, metric='minkowski',\n",
       "                     metric_params=None, n_jobs=None, n_neighbors=70, p=2,\n",
       "                     weights='distance')</td>\n",
       "                        <td id=\"T_9ba55df2_0b18_11ea_a184_80000208fe80row2_col2\" class=\"data row2 col2\" >nan</td>\n",
       "                        <td id=\"T_9ba55df2_0b18_11ea_a184_80000208fe80row2_col3\" class=\"data row2 col3\" >nan</td>\n",
       "            </tr>\n",
       "            <tr>\n",
       "                                <td id=\"T_9ba55df2_0b18_11ea_a184_80000208fe80row3_col0\" class=\"data row3 col0\" >9.6</td>\n",
       "                        <td id=\"T_9ba55df2_0b18_11ea_a184_80000208fe80row3_col1\" class=\"data row3 col1\" >StackingEstimator(estimator=XGBClassifier(base_score=0.5, booster='gbtree',\n",
       "                                          colsample_bylevel=1,\n",
       "                                          colsample_bynode=1,\n",
       "                                          colsample_bytree=1, gamma=0,\n",
       "                                          learning_rate=0.1, max_delta_step=0,\n",
       "                                          max_depth=4, min_child_weight=9,\n",
       "                                          missing=nan, n_estimators=100,\n",
       "                                          n_jobs=1, nthread=1,\n",
       "                                          objective='multi:softprob',\n",
       "                                          random_state=42, reg_alpha=0,\n",
       "                                          reg_lambda=1, scale_pos_weight=1,\n",
       "                                          seed=None, silent=None,\n",
       "                                          subsample=0.6000000000000001,\n",
       "                                          verbosity=1))</td>\n",
       "                        <td id=\"T_9ba55df2_0b18_11ea_a184_80000208fe80row3_col2\" class=\"data row3 col2\" >MultinomialNB(alpha=100.0, class_prior=None, fit_prior=False)</td>\n",
       "                        <td id=\"T_9ba55df2_0b18_11ea_a184_80000208fe80row3_col3\" class=\"data row3 col3\" >nan</td>\n",
       "            </tr>\n",
       "            <tr>\n",
       "                                <td id=\"T_9ba55df2_0b18_11ea_a184_80000208fe80row4_col0\" class=\"data row4 col0\" >12.8</td>\n",
       "                        <td id=\"T_9ba55df2_0b18_11ea_a184_80000208fe80row4_col1\" class=\"data row4 col1\" >SelectPercentile(percentile=67,\n",
       "                 score_func=<function f_classif at 0x2aede46ecc80>)</td>\n",
       "                        <td id=\"T_9ba55df2_0b18_11ea_a184_80000208fe80row4_col2\" class=\"data row4 col2\" >StackingEstimator(estimator=MultinomialNB(alpha=0.001, class_prior=None,\n",
       "                                          fit_prior=True))</td>\n",
       "                        <td id=\"T_9ba55df2_0b18_11ea_a184_80000208fe80row4_col3\" class=\"data row4 col3\" >GaussianNB(priors=None, var_smoothing=1e-09)</td>\n",
       "            </tr>\n",
       "            <tr>\n",
       "                                <td id=\"T_9ba55df2_0b18_11ea_a184_80000208fe80row5_col0\" class=\"data row5 col0\" >16</td>\n",
       "                        <td id=\"T_9ba55df2_0b18_11ea_a184_80000208fe80row5_col1\" class=\"data row5 col1\" >RFE(estimator=ExtraTreesClassifier(bootstrap=False, class_weight=None,\n",
       "                                   criterion='gini', max_depth=None,\n",
       "                                   max_features=0.4, max_leaf_nodes=None,\n",
       "                                   min_impurity_decrease=0.0,\n",
       "                                   min_impurity_split=None, min_samples_leaf=1,\n",
       "                                   min_samples_split=2,\n",
       "                                   min_weight_fraction_leaf=0.0,\n",
       "                                   n_estimators=100, n_jobs=None,\n",
       "                                   oob_score=False, random_state=42, verbose=0,\n",
       "                                   warm_start=False),\n",
       "    n_features_to_select=None, step=0.8, verbose=0)</td>\n",
       "                        <td id=\"T_9ba55df2_0b18_11ea_a184_80000208fe80row5_col2\" class=\"data row5 col2\" >MultinomialNB(alpha=10.0, class_prior=None, fit_prior=False)</td>\n",
       "                        <td id=\"T_9ba55df2_0b18_11ea_a184_80000208fe80row5_col3\" class=\"data row5 col3\" >nan</td>\n",
       "            </tr>\n",
       "    </tbody></table>"
      ],
      "text/plain": [
       "<pandas.io.formats.style.Styler at 0x2aedaa64bac8>"
      ]
     },
     "metadata": {},
     "output_type": "display_data"
    },
    {
     "data": {
      "text/plain": [
       "'TPOTClassifierClean #1'"
      ]
     },
     "metadata": {},
     "output_type": "display_data"
    },
    {
     "data": {
      "text/html": [
       "<style  type=\"text/css\" >\n",
       "</style><table id=\"T_9ba9c5f4_0b18_11ea_a184_80000208fe80\" ><thead>    <tr>        <th class=\"col_heading level0 col0\" >std</th>        <th class=\"col_heading level0 col1\" >test_acc</th>        <th class=\"col_heading level0 col2\" >train_acc</th>        <th class=\"col_heading level0 col3\" >time_err</th>        <th class=\"col_heading level0 col4\" >time_pre</th>        <th class=\"col_heading level0 col5\" >time_mod</th>    </tr></thead><tbody>\n",
       "                <tr>\n",
       "                                <td id=\"T_9ba9c5f4_0b18_11ea_a184_80000208fe80row0_col0\" class=\"data row0 col0\" >0</td>\n",
       "                        <td id=\"T_9ba9c5f4_0b18_11ea_a184_80000208fe80row0_col1\" class=\"data row0 col1\" >0.984</td>\n",
       "                        <td id=\"T_9ba9c5f4_0b18_11ea_a184_80000208fe80row0_col2\" class=\"data row0 col2\" >1</td>\n",
       "                        <td id=\"T_9ba9c5f4_0b18_11ea_a184_80000208fe80row0_col3\" class=\"data row0 col3\" >0.149</td>\n",
       "                        <td id=\"T_9ba9c5f4_0b18_11ea_a184_80000208fe80row0_col4\" class=\"data row0 col4\" >0.001</td>\n",
       "                        <td id=\"T_9ba9c5f4_0b18_11ea_a184_80000208fe80row0_col5\" class=\"data row0 col5\" >937.412</td>\n",
       "            </tr>\n",
       "            <tr>\n",
       "                                <td id=\"T_9ba9c5f4_0b18_11ea_a184_80000208fe80row1_col0\" class=\"data row1 col0\" >3.2</td>\n",
       "                        <td id=\"T_9ba9c5f4_0b18_11ea_a184_80000208fe80row1_col1\" class=\"data row1 col1\" >0.965</td>\n",
       "                        <td id=\"T_9ba9c5f4_0b18_11ea_a184_80000208fe80row1_col2\" class=\"data row1 col2\" >1</td>\n",
       "                        <td id=\"T_9ba9c5f4_0b18_11ea_a184_80000208fe80row1_col3\" class=\"data row1 col3\" >0.096</td>\n",
       "                        <td id=\"T_9ba9c5f4_0b18_11ea_a184_80000208fe80row1_col4\" class=\"data row1 col4\" >0.001</td>\n",
       "                        <td id=\"T_9ba9c5f4_0b18_11ea_a184_80000208fe80row1_col5\" class=\"data row1 col5\" >922.867</td>\n",
       "            </tr>\n",
       "            <tr>\n",
       "                                <td id=\"T_9ba9c5f4_0b18_11ea_a184_80000208fe80row2_col0\" class=\"data row2 col0\" >6.4</td>\n",
       "                        <td id=\"T_9ba9c5f4_0b18_11ea_a184_80000208fe80row2_col1\" class=\"data row2 col1\" >0.899</td>\n",
       "                        <td id=\"T_9ba9c5f4_0b18_11ea_a184_80000208fe80row2_col2\" class=\"data row2 col2\" >1</td>\n",
       "                        <td id=\"T_9ba9c5f4_0b18_11ea_a184_80000208fe80row2_col3\" class=\"data row2 col3\" >0.102</td>\n",
       "                        <td id=\"T_9ba9c5f4_0b18_11ea_a184_80000208fe80row2_col4\" class=\"data row2 col4\" >0.002</td>\n",
       "                        <td id=\"T_9ba9c5f4_0b18_11ea_a184_80000208fe80row2_col5\" class=\"data row2 col5\" >920.957</td>\n",
       "            </tr>\n",
       "            <tr>\n",
       "                                <td id=\"T_9ba9c5f4_0b18_11ea_a184_80000208fe80row3_col0\" class=\"data row3 col0\" >9.6</td>\n",
       "                        <td id=\"T_9ba9c5f4_0b18_11ea_a184_80000208fe80row3_col1\" class=\"data row3 col1\" >0.728</td>\n",
       "                        <td id=\"T_9ba9c5f4_0b18_11ea_a184_80000208fe80row3_col2\" class=\"data row3 col2\" >1</td>\n",
       "                        <td id=\"T_9ba9c5f4_0b18_11ea_a184_80000208fe80row3_col3\" class=\"data row3 col3\" >0.135</td>\n",
       "                        <td id=\"T_9ba9c5f4_0b18_11ea_a184_80000208fe80row3_col4\" class=\"data row3 col4\" >0.001</td>\n",
       "                        <td id=\"T_9ba9c5f4_0b18_11ea_a184_80000208fe80row3_col5\" class=\"data row3 col5\" >909.364</td>\n",
       "            </tr>\n",
       "            <tr>\n",
       "                                <td id=\"T_9ba9c5f4_0b18_11ea_a184_80000208fe80row4_col0\" class=\"data row4 col0\" >12.8</td>\n",
       "                        <td id=\"T_9ba9c5f4_0b18_11ea_a184_80000208fe80row4_col1\" class=\"data row4 col1\" >0.533</td>\n",
       "                        <td id=\"T_9ba9c5f4_0b18_11ea_a184_80000208fe80row4_col2\" class=\"data row4 col2\" >1</td>\n",
       "                        <td id=\"T_9ba9c5f4_0b18_11ea_a184_80000208fe80row4_col3\" class=\"data row4 col3\" >0.129</td>\n",
       "                        <td id=\"T_9ba9c5f4_0b18_11ea_a184_80000208fe80row4_col4\" class=\"data row4 col4\" >0.001</td>\n",
       "                        <td id=\"T_9ba9c5f4_0b18_11ea_a184_80000208fe80row4_col5\" class=\"data row4 col5\" >940.722</td>\n",
       "            </tr>\n",
       "            <tr>\n",
       "                                <td id=\"T_9ba9c5f4_0b18_11ea_a184_80000208fe80row5_col0\" class=\"data row5 col0\" >16</td>\n",
       "                        <td id=\"T_9ba9c5f4_0b18_11ea_a184_80000208fe80row5_col1\" class=\"data row5 col1\" >0.377</td>\n",
       "                        <td id=\"T_9ba9c5f4_0b18_11ea_a184_80000208fe80row5_col2\" class=\"data row5 col2\" >1</td>\n",
       "                        <td id=\"T_9ba9c5f4_0b18_11ea_a184_80000208fe80row5_col3\" class=\"data row5 col3\" >0.098</td>\n",
       "                        <td id=\"T_9ba9c5f4_0b18_11ea_a184_80000208fe80row5_col4\" class=\"data row5 col4\" >0.001</td>\n",
       "                        <td id=\"T_9ba9c5f4_0b18_11ea_a184_80000208fe80row5_col5\" class=\"data row5 col5\" >915.157</td>\n",
       "            </tr>\n",
       "    </tbody></table>"
      ],
      "text/plain": [
       "<pandas.io.formats.style.Styler at 0x2aedaa63acc0>"
      ]
     },
     "metadata": {},
     "output_type": "display_data"
    },
    {
     "data": {
      "text/html": [
       "<style  type=\"text/css\" >\n",
       "</style><table id=\"T_9bac7dda_0b18_11ea_a184_80000208fe80\" ><thead>    <tr>        <th class=\"col_heading level0 col0\" >std</th>        <th class=\"col_heading level0 col1\" >pipe_0</th>        <th class=\"col_heading level0 col2\" >pipe_1</th>    </tr></thead><tbody>\n",
       "                <tr>\n",
       "                                <td id=\"T_9bac7dda_0b18_11ea_a184_80000208fe80row0_col0\" class=\"data row0 col0\" >0</td>\n",
       "                        <td id=\"T_9bac7dda_0b18_11ea_a184_80000208fe80row0_col1\" class=\"data row0 col1\" >StackingEstimator(estimator=LogisticRegression(C=0.5, class_weight=None,\n",
       "                                               dual=False, fit_intercept=True,\n",
       "                                               intercept_scaling=1,\n",
       "                                               l1_ratio=None, max_iter=100,\n",
       "                                               multi_class='warn', n_jobs=None,\n",
       "                                               penalty='l1', random_state=42,\n",
       "                                               solver='warn', tol=0.0001,\n",
       "                                               verbose=0, warm_start=False))</td>\n",
       "                        <td id=\"T_9bac7dda_0b18_11ea_a184_80000208fe80row0_col2\" class=\"data row0 col2\" >KNeighborsClassifier(algorithm='auto', leaf_size=30, metric='minkowski',\n",
       "                     metric_params=None, n_jobs=None, n_neighbors=12, p=2,\n",
       "                     weights='distance')</td>\n",
       "            </tr>\n",
       "            <tr>\n",
       "                                <td id=\"T_9bac7dda_0b18_11ea_a184_80000208fe80row1_col0\" class=\"data row1 col0\" >3.2</td>\n",
       "                        <td id=\"T_9bac7dda_0b18_11ea_a184_80000208fe80row1_col1\" class=\"data row1 col1\" >StackingEstimator(estimator=LogisticRegression(C=0.5, class_weight=None,\n",
       "                                               dual=False, fit_intercept=True,\n",
       "                                               intercept_scaling=1,\n",
       "                                               l1_ratio=None, max_iter=100,\n",
       "                                               multi_class='warn', n_jobs=None,\n",
       "                                               penalty='l1', random_state=42,\n",
       "                                               solver='warn', tol=0.0001,\n",
       "                                               verbose=0, warm_start=False))</td>\n",
       "                        <td id=\"T_9bac7dda_0b18_11ea_a184_80000208fe80row1_col2\" class=\"data row1 col2\" >KNeighborsClassifier(algorithm='auto', leaf_size=30, metric='minkowski',\n",
       "                     metric_params=None, n_jobs=None, n_neighbors=12, p=2,\n",
       "                     weights='distance')</td>\n",
       "            </tr>\n",
       "            <tr>\n",
       "                                <td id=\"T_9bac7dda_0b18_11ea_a184_80000208fe80row2_col0\" class=\"data row2 col0\" >6.4</td>\n",
       "                        <td id=\"T_9bac7dda_0b18_11ea_a184_80000208fe80row2_col1\" class=\"data row2 col1\" >StackingEstimator(estimator=LogisticRegression(C=0.5, class_weight=None,\n",
       "                                               dual=False, fit_intercept=True,\n",
       "                                               intercept_scaling=1,\n",
       "                                               l1_ratio=None, max_iter=100,\n",
       "                                               multi_class='warn', n_jobs=None,\n",
       "                                               penalty='l1', random_state=42,\n",
       "                                               solver='warn', tol=0.0001,\n",
       "                                               verbose=0, warm_start=False))</td>\n",
       "                        <td id=\"T_9bac7dda_0b18_11ea_a184_80000208fe80row2_col2\" class=\"data row2 col2\" >KNeighborsClassifier(algorithm='auto', leaf_size=30, metric='minkowski',\n",
       "                     metric_params=None, n_jobs=None, n_neighbors=12, p=2,\n",
       "                     weights='distance')</td>\n",
       "            </tr>\n",
       "            <tr>\n",
       "                                <td id=\"T_9bac7dda_0b18_11ea_a184_80000208fe80row3_col0\" class=\"data row3 col0\" >9.6</td>\n",
       "                        <td id=\"T_9bac7dda_0b18_11ea_a184_80000208fe80row3_col1\" class=\"data row3 col1\" >StackingEstimator(estimator=LogisticRegression(C=0.5, class_weight=None,\n",
       "                                               dual=False, fit_intercept=True,\n",
       "                                               intercept_scaling=1,\n",
       "                                               l1_ratio=None, max_iter=100,\n",
       "                                               multi_class='warn', n_jobs=None,\n",
       "                                               penalty='l1', random_state=42,\n",
       "                                               solver='warn', tol=0.0001,\n",
       "                                               verbose=0, warm_start=False))</td>\n",
       "                        <td id=\"T_9bac7dda_0b18_11ea_a184_80000208fe80row3_col2\" class=\"data row3 col2\" >KNeighborsClassifier(algorithm='auto', leaf_size=30, metric='minkowski',\n",
       "                     metric_params=None, n_jobs=None, n_neighbors=12, p=2,\n",
       "                     weights='distance')</td>\n",
       "            </tr>\n",
       "            <tr>\n",
       "                                <td id=\"T_9bac7dda_0b18_11ea_a184_80000208fe80row4_col0\" class=\"data row4 col0\" >12.8</td>\n",
       "                        <td id=\"T_9bac7dda_0b18_11ea_a184_80000208fe80row4_col1\" class=\"data row4 col1\" >StackingEstimator(estimator=LogisticRegression(C=0.5, class_weight=None,\n",
       "                                               dual=False, fit_intercept=True,\n",
       "                                               intercept_scaling=1,\n",
       "                                               l1_ratio=None, max_iter=100,\n",
       "                                               multi_class='warn', n_jobs=None,\n",
       "                                               penalty='l1', random_state=42,\n",
       "                                               solver='warn', tol=0.0001,\n",
       "                                               verbose=0, warm_start=False))</td>\n",
       "                        <td id=\"T_9bac7dda_0b18_11ea_a184_80000208fe80row4_col2\" class=\"data row4 col2\" >KNeighborsClassifier(algorithm='auto', leaf_size=30, metric='minkowski',\n",
       "                     metric_params=None, n_jobs=None, n_neighbors=12, p=2,\n",
       "                     weights='distance')</td>\n",
       "            </tr>\n",
       "            <tr>\n",
       "                                <td id=\"T_9bac7dda_0b18_11ea_a184_80000208fe80row5_col0\" class=\"data row5 col0\" >16</td>\n",
       "                        <td id=\"T_9bac7dda_0b18_11ea_a184_80000208fe80row5_col1\" class=\"data row5 col1\" >StackingEstimator(estimator=LogisticRegression(C=0.5, class_weight=None,\n",
       "                                               dual=False, fit_intercept=True,\n",
       "                                               intercept_scaling=1,\n",
       "                                               l1_ratio=None, max_iter=100,\n",
       "                                               multi_class='warn', n_jobs=None,\n",
       "                                               penalty='l1', random_state=42,\n",
       "                                               solver='warn', tol=0.0001,\n",
       "                                               verbose=0, warm_start=False))</td>\n",
       "                        <td id=\"T_9bac7dda_0b18_11ea_a184_80000208fe80row5_col2\" class=\"data row5 col2\" >KNeighborsClassifier(algorithm='auto', leaf_size=30, metric='minkowski',\n",
       "                     metric_params=None, n_jobs=None, n_neighbors=12, p=2,\n",
       "                     weights='distance')</td>\n",
       "            </tr>\n",
       "    </tbody></table>"
      ],
      "text/plain": [
       "<pandas.io.formats.style.Styler at 0x2aedaa6369e8>"
      ]
     },
     "metadata": {},
     "output_type": "display_data"
    },
    {
     "data": {
      "image/png": "[encoded data removed]",
      "text/plain": [
       "<Figure size 720x288 with 2 Axes>"
      ]
     },
     "metadata": {
      "needs_background": "light"
     },
     "output_type": "display_data"
    }
   ],
   "source": [
    "print_results_by_model(df,\n",
    "    # [\"train_labels\", \"test_labels\"],\n",
    "    [\"mean\", \"min_val\", \"max_val\", \"train_labels\", \"test_labels\"], \n",
    "    # err_param_name=\"max_angle\",\n",
    "    err_param_name=\"std\",\n",
    "    pipeline_name=\"best_pipeline\"\n",
    ")\n",
    "visualize(df)"
   ]
  },
  {
   "cell_type": "markdown",
   "metadata": {
    "collapsed": false,
    "papermill": {
     "duration": 0.236759,
     "end_time": "2019-11-19T22:04:52.606370",
     "exception": false,
     "start_time": "2019-11-19T22:04:52.369611",
     "status": "completed"
    },
    "pycharm": {
     "name": "#%% md\n"
    },
    "tags": []
   },
   "source": []
  }
 ],
 "metadata": {
  "kernelspec": {
   "display_name": "Python 3",
   "language": "python",
   "name": "python3"
  },
  "language_info": {
   "codemirror_mode": {
    "name": "ipython",
    "version": 3
   },
   "file_extension": ".py",
   "mimetype": "text/x-python",
   "name": "python",
   "nbconvert_exporter": "python",
   "pygments_lexer": "ipython3",
   "version": "3.6.6"
  },
  "papermill": {
   "duration": 33881.971802,
   "end_time": "2019-11-19T22:04:55.660502",
   "environment_variables": {},
   "exception": null,
   "input_path": "docs/case_studies/test14.ipynb",
   "output_path": "docs/case_studies/test14.ipynb",
   "parameters": {},
   "start_time": "2019-11-19T12:40:13.688700",
   "version": "1.2.0"
  },
  "pycharm": {
   "stem_cell": {
    "cell_type": "raw",
    "source": [],
    "metadata": {
     "collapsed": false
    }
   }
  },
  "widgets": {
   "application/vnd.jupyter.widget-state+json": {
    "state": {},
    "version_major": 2,
    "version_minor": 0
   }
  }
 },
 "nbformat": 4,
 "nbformat_minor": 0
}