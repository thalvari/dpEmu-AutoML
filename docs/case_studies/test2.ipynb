{
 "cells": [
  {
   "cell_type": "markdown",
   "metadata": {
    "collapsed": false,
    "papermill": {
     "duration": 0.043837,
     "end_time": "2019-10-20T19:44:37.860420",
     "exception": false,
     "start_time": "2019-10-20T19:44:37.816583",
     "status": "completed"
    },
    "tags": []
   },
   "source": [
    "# AutoML Image Classification: With Rotation (Digits)"
   ]
  },
  {
   "cell_type": "markdown",
   "metadata": {
    "collapsed": false,
    "papermill": {
     "duration": 0.028943,
     "end_time": "2019-10-20T19:44:37.925811",
     "exception": false,
     "start_time": "2019-10-20T19:44:37.896868",
     "status": "completed"
    },
    "tags": []
   },
   "source": [
    "![](imgs/rotation.png)"
   ]
  },
  {
   "cell_type": "code",
   "execution_count": 1,
   "metadata": {
    "collapsed": false,
    "papermill": {
     "duration": 5.39245,
     "end_time": "2019-10-20T19:44:43.344672",
     "exception": false,
     "start_time": "2019-10-20T19:44:37.952222",
     "status": "completed"
    },
    "pycharm": {
     "is_executing": false,
     "name": "#%%\n"
    },
    "tags": []
   },
   "outputs": [
    {
     "name": "stderr",
     "output_type": "stream",
     "text": [
      "Using TensorFlow backend.\n"
     ]
    },
    {
     "name": "stdout",
     "output_type": "stream",
     "text": [
      "Better speed can be achieved with apex installed from https://www.github.com/nvidia/apex.\n"
     ]
    }
   ],
   "source": [
    "import random as rn\n",
    "from abc import ABC, abstractmethod\n",
    "\n",
    "import autokeras as ak\n",
    "import h2o\n",
    "import matplotlib.pyplot as plt\n",
    "import numpy as np\n",
    "import tensorflow as tf\n",
    "import torch\n",
    "from h2o.automl import H2OAutoML\n",
    "from numpy.random import RandomState\n",
    "from sklearn.datasets import load_digits\n",
    "from sklearn.metrics import accuracy_score\n",
    "from sklearn.model_selection import train_test_split\n",
    "from tpot import TPOTClassifier\n",
    "\n",
    "from dpemu import runner\n",
    "from dpemu.filters.image import RotationPIL\n",
    "from dpemu.nodes import Array\n",
    "from dpemu.nodes.series import Series\n",
    "from dpemu.plotting_utils import visualize_scores, print_results_by_model\n",
    "from dpemu.utils import generate_tmpdir"
   ]
  },
  {
   "cell_type": "markdown",
   "metadata": {
    "collapsed": false,
    "papermill": {
     "duration": 0.043954,
     "end_time": "2019-10-20T19:44:43.425795",
     "exception": false,
     "start_time": "2019-10-20T19:44:43.381841",
     "status": "completed"
    },
    "pycharm": {
     "name": "#%% md\n"
    },
    "tags": []
   },
   "source": []
  },
  {
   "cell_type": "code",
   "metadata": {
    "collapsed": false,
    "papermill": {
     "duration": 0.024564,
     "end_time": "2019-10-20T19:44:43.478276",
     "exception": false,
     "start_time": "2019-10-20T19:44:43.453712",
     "status": "completed"
    },
    "pycharm": {
     "is_executing": false,
     "name": "#%%\n"
    },
    "tags": []
   },
   "source": [
    "def get_data():\n",
    "    random_state = RandomState(42)\n",
    "    digits = load_digits()\n",
    "    return train_test_split(digits[\"data\"], digits[\"target\"], test_size=.2, random_state=random_state)"
   ],
   "execution_count": null,
   "outputs": []
  },
  {
   "cell_type": "markdown",
   "metadata": {
    "collapsed": false,
    "papermill": {
     "duration": 0.033425,
     "end_time": "2019-10-20T19:44:43.534408",
     "exception": false,
     "start_time": "2019-10-20T19:44:43.500983",
     "status": "completed"
    },
    "pycharm": {
     "name": "#%% md\n"
    },
    "tags": []
   },
   "source": []
  },
  {
   "cell_type": "code",
   "metadata": {
    "collapsed": false,
    "papermill": {
     "duration": 0.020794,
     "end_time": "2019-10-20T19:44:43.576650",
     "exception": false,
     "start_time": "2019-10-20T19:44:43.555856",
     "status": "completed"
    },
    "pycharm": {
     "is_executing": false,
     "name": "#%%\n"
    },
    "tags": []
   },
   "source": [
    "def get_err_root_node():\n",
    "    err_img_node = Array(reshape=(8, 8))\n",
    "    err_root_node = Series(err_img_node)\n",
    "    err_img_node.addfilter(RotationPIL(\"max_angle\"))\n",
    "    return err_root_node"
   ],
   "execution_count": null,
   "outputs": []
  },
  {
   "cell_type": "markdown",
   "metadata": {
    "collapsed": false,
    "papermill": {
     "duration": 0.03303,
     "end_time": "2019-10-20T19:44:43.630617",
     "exception": false,
     "start_time": "2019-10-20T19:44:43.597587",
     "status": "completed"
    },
    "pycharm": {
     "name": "#%% md\n"
    },
    "tags": []
   },
   "source": []
  },
  {
   "cell_type": "code",
   "metadata": {
    "collapsed": false,
    "papermill": {
     "duration": 0.020549,
     "end_time": "2019-10-20T19:44:43.672289",
     "exception": false,
     "start_time": "2019-10-20T19:44:43.651740",
     "status": "completed"
    },
    "pycharm": {
     "is_executing": false,
     "name": "#%%\n"
    },
    "tags": []
   },
   "source": [
    "def get_err_params_list():\n",
    "    angle_steps = np.linspace(0, 84, num=8)\n",
    "    err_params_list = [{\"max_angle\": a} for a in angle_steps]\n",
    "    return err_params_list"
   ],
   "execution_count": null,
   "outputs": []
  },
  {
   "cell_type": "markdown",
   "metadata": {
    "collapsed": false,
    "papermill": {
     "duration": 0.03268,
     "end_time": "2019-10-20T19:44:43.725872",
     "exception": false,
     "start_time": "2019-10-20T19:44:43.693192",
     "status": "completed"
    },
    "pycharm": {
     "name": "#%% md\n"
    },
    "tags": []
   },
   "source": []
  },
  {
   "cell_type": "code",
   "metadata": {
    "collapsed": false,
    "papermill": {
     "duration": 0.020687,
     "end_time": "2019-10-20T19:44:43.767395",
     "exception": false,
     "start_time": "2019-10-20T19:44:43.746708",
     "status": "completed"
    },
    "pycharm": {
     "is_executing": false,
     "name": "#%%\n"
    },
    "tags": []
   },
   "source": [
    "class Preprocessor:\n",
    "\n",
    "    def run(self, train_data, test_data, params):\n",
    "        return train_data, test_data, {}"
   ],
   "execution_count": null,
   "outputs": []
  },
  {
   "cell_type": "markdown",
   "metadata": {
    "collapsed": false,
    "papermill": {
     "duration": 0.03433,
     "end_time": "2019-10-20T19:44:43.823300",
     "exception": false,
     "start_time": "2019-10-20T19:44:43.788970",
     "status": "completed"
    },
    "pycharm": {
     "name": "#%% md\n"
    },
    "tags": []
   },
   "source": []
  },
  {
   "cell_type": "code",
   "metadata": {
    "collapsed": false,
    "papermill": {
     "duration": 0.021056,
     "end_time": "2019-10-20T19:44:43.865545",
     "exception": false,
     "start_time": "2019-10-20T19:44:43.844489",
     "status": "completed"
    },
    "pycharm": {
     "is_executing": false,
     "name": "#%%\n"
    },
    "tags": []
   },
   "source": [
    "class AbstractModel(ABC):\n",
    "\n",
    "    def __init__(self):\n",
    "        self.seed = 42\n",
    "        self.random_state = RandomState(self.seed)\n",
    "        np.random.seed(self.seed)\n",
    "        tf.set_random_seed(self.seed)\n",
    "        torch.manual_seed(self.seed)\n",
    "\n",
    "\n",
    "    @abstractmethod\n",
    "    def get_fitted_model(self, train_data, train_labels, params):\n",
    "        pass\n",
    "\n",
    "    @abstractmethod\n",
    "    def get_accuracy(self, data, labels, fitted_model, params):\n",
    "        pass\n",
    "\n",
    "    @abstractmethod\n",
    "    def get_best_pipeline(self, fitted_model):\n",
    "        pass\n",
    "\n",
    "    def run(self, train_data, test_data, params):\n",
    "        train_labels = params[\"train_labels\"]\n",
    "        test_labels = params[\"test_labels\"]\n",
    "\n",
    "        fitted_model = self.get_fitted_model(train_data, train_labels, params)\n",
    "\n",
    "        return {\n",
    "            \"test_acc\": self.get_accuracy(test_data, test_labels, fitted_model, params),\n",
    "            \"train_acc\": self.get_accuracy(train_data, train_labels, fitted_model, params),\n",
    "            \"best_pipeline\": self.get_best_pipeline(fitted_model),\n",
    "        }\n",
    "\n",
    "class TPOTClassifierModel(AbstractModel):\n",
    "\n",
    "    def __init__(self):\n",
    "        super().__init__()\n",
    "\n",
    "    def get_fitted_model(self, train_data, train_labels, params):\n",
    "        return TPOTClassifier(\n",
    "            generations=5,\n",
    "            population_size=20,\n",
    "            n_jobs=-1,\n",
    "            random_state=self.seed,\n",
    "            verbosity=0,\n",
    "        ).fit(train_data, train_labels)\n",
    "    \n",
    "    def get_accuracy(self, data, labels, fitted_model, params):\n",
    "        return round(fitted_model.score(data, labels), 3)\n",
    "\n",
    "    def get_best_pipeline(self, fitted_model):\n",
    "        return [step[1] for step in fitted_model.fitted_pipeline_.steps]\n",
    "\n",
    "class H2OAutoMLModel(AbstractModel):\n",
    "\n",
    "    def __init__(self):\n",
    "        super().__init__()\n",
    "        h2o.init(name=f\"#{rn.SystemRandom().randint(1, 2**30)}\")\n",
    "        h2o.no_progress()\n",
    "\n",
    "    def get_fitted_model(self, train_data, train_labels, params):\n",
    "        train_data = h2o.H2OFrame(np.concatenate((train_data, train_labels.reshape(-1, 1)), axis=1))\n",
    "        x = np.array(train_data.columns)[:-1].tolist()\n",
    "        y = np.array(train_data.columns)[-1].tolist()\n",
    "        train_data[y] = train_data[y].asfactor()\n",
    "        aml = H2OAutoML(max_models=20, seed=self.seed)\n",
    "        aml.train(x=x, y=y, training_frame=train_data)\n",
    "        return aml\n",
    "\n",
    "    def get_accuracy(self, data, labels, fitted_model, params):\n",
    "        data = h2o.H2OFrame(np.concatenate((data, labels.reshape(-1, 1)), axis=1))\n",
    "        y = np.array(data.columns)[-1].tolist()\n",
    "        data[y] = data[y].asfactor()\n",
    "        pred = fitted_model.predict(data).as_data_frame(header=False)[\"predict\"].values.astype(int)\n",
    "        return np.round(np.mean(pred == labels), 3)\n",
    "\n",
    "    def get_best_pipeline(self, fitted_model):\n",
    "        leader_params = fitted_model.leader.get_params()\n",
    "        best_pipeline = [leader_params[\"model_id\"][\"actual_value\"][\"name\"]]\n",
    "        if \"base_models\" in leader_params:\n",
    "            for base_model in leader_params[\"base_models\"][\"actual_value\"]:\n",
    "                best_pipeline.append(base_model[\"name\"])\n",
    "        h2o.cluster().shutdown()\n",
    "        return best_pipeline\n",
    "\n",
    "class AutoKerasModel(AbstractModel):\n",
    "\n",
    "    def __init__(self):\n",
    "        super().__init__()\n",
    "\n",
    "    def get_fitted_model(self, x_train, y_train, params):\n",
    "        s = np.sqrt(x_train.shape[1]).astype(int)\n",
    "        x_train = x_train.reshape((len(x_train), s, s)).astype(np.uint8)\n",
    "        x_train = x_train.reshape(x_train.shape + (1,))\n",
    "        y_train = y_train.astype(np.uint8)\n",
    "        clf = ak.ImageClassifier(augment=False, path=generate_tmpdir(), verbose=False)\n",
    "        clf.fit(x_train, y_train, time_limit=60*60*3)\n",
    "        return clf\n",
    "\n",
    "    def get_accuracy(self, x, y, clf, params):\n",
    "        s = np.sqrt(x.shape[1]).astype(int)\n",
    "        x = x.reshape((len(x), s, s)).astype(np.uint8)\n",
    "        x = x.reshape(x.shape + (1,))\n",
    "        y = y.astype(np.uint8)\n",
    "        y_pred = clf.predict(x)\n",
    "        return np.round(accuracy_score(y_true=y, y_pred=y_pred), 3)\n",
    "\n",
    "    def get_best_pipeline(self, clf):\n",
    "        return [m for i, m in enumerate(clf.cnn.best_model.produce_model().modules()) if i > 0]"
   ],
   "execution_count": null,
   "outputs": []
  },
  {
   "cell_type": "markdown",
   "metadata": {
    "collapsed": false,
    "papermill": {
     "duration": 0.08338,
     "end_time": "2019-10-20T19:44:43.970749",
     "exception": false,
     "start_time": "2019-10-20T19:44:43.887369",
     "status": "completed"
    },
    "pycharm": {
     "name": "#%% md\n"
    },
    "tags": []
   },
   "source": []
  },
  {
   "cell_type": "code",
   "metadata": {
    "collapsed": false,
    "papermill": {
     "duration": 0.029768,
     "end_time": "2019-10-20T19:44:44.036385",
     "exception": false,
     "start_time": "2019-10-20T19:44:44.006617",
     "status": "completed"
    },
    "pycharm": {
     "is_executing": false,
     "name": "#%%\n"
    },
    "tags": []
   },
   "source": [
    "def get_model_params_dict_list(train_labels, test_labels):\n",
    "    model_params_base = {\"train_labels\": train_labels, \"test_labels\": test_labels}\n",
    "    return [\n",
    "        {\n",
    "            \"model\": H2OAutoMLModel,\n",
    "            \"params_list\": [{**model_params_base}],\n",
    "            \"use_clean_train_data\": False\n",
    "        },\n",
    "        {\n",
    "            \"model\": H2OAutoMLModel,\n",
    "            \"params_list\": [{**model_params_base}],\n",
    "            \"use_clean_train_data\": True\n",
    "        },\n",
    "        {\n",
    "            \"model\": AutoKerasModel,\n",
    "            \"params_list\": [{**model_params_base}],\n",
    "            \"use_clean_train_data\": False\n",
    "        },\n",
    "        {\n",
    "            \"model\": AutoKerasModel,\n",
    "            \"params_list\": [{**model_params_base}],\n",
    "            \"use_clean_train_data\": True\n",
    "        },\n",
    "        {\n",
    "            \"model\": TPOTClassifierModel,\n",
    "            \"params_list\": [{**model_params_base}],\n",
    "            \"use_clean_train_data\": False\n",
    "        },\n",
    "        {\n",
    "            \"model\": TPOTClassifierModel,\n",
    "            \"params_list\": [{**model_params_base}],\n",
    "            \"use_clean_train_data\": True\n",
    "        },\n",
    "    ]"
   ],
   "execution_count": null,
   "outputs": []
  },
  {
   "cell_type": "markdown",
   "metadata": {
    "collapsed": false,
    "papermill": {
     "duration": 0.022053,
     "end_time": "2019-10-20T19:44:44.148496",
     "exception": false,
     "start_time": "2019-10-20T19:44:44.126443",
     "status": "completed"
    },
    "pycharm": {
     "is_executing": false,
     "name": "#%% md\n"
    },
    "tags": []
   },
   "source": []
  },
  {
   "cell_type": "code",
   "execution_count": 9,
   "metadata": {
    "collapsed": false,
    "papermill": {
     "duration": 0.033116,
     "end_time": "2019-10-20T19:44:44.202661",
     "exception": false,
     "start_time": "2019-10-20T19:44:44.169545",
     "status": "completed"
    },
    "pycharm": {
     "name": "#%%\n"
    },
    "tags": []
   },
   "outputs": [],
   "source": [
    "def visualize(df):\n",
    "    visualize_scores(\n",
    "        df,\n",
    "        score_names=[\"test_acc\", \"train_acc\"],\n",
    "        is_higher_score_better=[True, True],\n",
    "        err_param_name=\"max_angle\",\n",
    "        title=\"Classification scores with added error\"\n",
    "    )\n",
    "    plt.show()"
   ]
  },
  {
   "cell_type": "markdown",
   "metadata": {
    "collapsed": false,
    "papermill": {
     "duration": 0.020623,
     "end_time": "2019-10-20T19:44:44.244422",
     "exception": false,
     "start_time": "2019-10-20T19:44:44.223799",
     "status": "completed"
    },
    "pycharm": {
     "is_executing": false,
     "name": "#%% md\n"
    },
    "tags": []
   },
   "source": []
  },
  {
   "cell_type": "code",
   "execution_count": 10,
   "metadata": {
    "collapsed": false,
    "papermill": {
     "duration": 7219.510465,
     "end_time": "2019-10-20T21:45:03.776067",
     "exception": false,
     "start_time": "2019-10-20T19:44:44.265602",
     "status": "completed"
    },
    "pycharm": {
     "name": "#%%\n"
    },
    "tags": []
   },
   "outputs": [
    {
     "name": "stderr",
     "output_type": "stream",
     "text": [
      "\r",
      "  0%|          | 0/8 [00:00<?, ?it/s]"
     ]
    },
    {
     "name": "stderr",
     "output_type": "stream",
     "text": [
      "WARNING:root:TimeoutError occurred at train() : "
     ]
    },
    {
     "name": "stderr",
     "output_type": "stream",
     "text": [
      "\n"
     ]
    },
    {
     "name": "stderr",
     "output_type": "stream",
     "text": [
      "WARNING:root:TimeoutError occurred at train() : "
     ]
    },
    {
     "name": "stderr",
     "output_type": "stream",
     "text": [
      "\n"
     ]
    },
    {
     "name": "stderr",
     "output_type": "stream",
     "text": [
      "WARNING:root:TimeoutError occurred at train() : "
     ]
    },
    {
     "name": "stderr",
     "output_type": "stream",
     "text": [
      "\n"
     ]
    },
    {
     "name": "stderr",
     "output_type": "stream",
     "text": [
      "WARNING:root:TimeoutError occurred at train() : "
     ]
    },
    {
     "name": "stderr",
     "output_type": "stream",
     "text": [
      "\n"
     ]
    },
    {
     "name": "stderr",
     "output_type": "stream",
     "text": [
      "WARNING:root:TimeoutError occurred at train() : "
     ]
    },
    {
     "name": "stderr",
     "output_type": "stream",
     "text": [
      "\n"
     ]
    },
    {
     "name": "stderr",
     "output_type": "stream",
     "text": [
      "WARNING:root:TimeoutError occurred at train() : "
     ]
    },
    {
     "name": "stderr",
     "output_type": "stream",
     "text": [
      "\n"
     ]
    },
    {
     "name": "stderr",
     "output_type": "stream",
     "text": [
      "WARNING:root:TimeoutError occurred at train() : "
     ]
    },
    {
     "name": "stderr",
     "output_type": "stream",
     "text": [
      "\n"
     ]
    },
    {
     "name": "stderr",
     "output_type": "stream",
     "text": [
      "\r",
      " 12%|█▎        | 1/8 [2:00:09<14:01:08, 7209.82s/it]"
     ]
    },
    {
     "name": "stderr",
     "output_type": "stream",
     "text": [
      "WARNING:root:TimeoutError occurred at train() : "
     ]
    },
    {
     "name": "stderr",
     "output_type": "stream",
     "text": [
      "\n"
     ]
    },
    {
     "name": "stderr",
     "output_type": "stream",
     "text": [
      "\r",
      " 25%|██▌       | 2/8 [2:00:18<8:24:57, 5049.63s/it] "
     ]
    },
    {
     "name": "stderr",
     "output_type": "stream",
     "text": [
      "\r",
      "100%|██████████| 8/8 [2:00:18<00:00, 902.37s/it]   "
     ]
    },
    {
     "name": "stderr",
     "output_type": "stream",
     "text": [
      "\n"
     ]
    }
   ],
   "source": [
    "train_data, test_data, train_labels, test_labels = get_data()\n",
    "\n",
    "df = runner.run(\n",
    "    train_data=train_data,\n",
    "    test_data=test_data,\n",
    "    preproc=Preprocessor,\n",
    "    preproc_params=None,\n",
    "    err_root_node=get_err_root_node(),\n",
    "    err_params_list=get_err_params_list(),\n",
    "    model_params_dict_list=get_model_params_dict_list(train_labels, test_labels),\n",
    ")"
   ]
  },
  {
   "cell_type": "code",
   "execution_count": 11,
   "metadata": {
    "collapsed": false,
    "papermill": {
     "duration": 1.610302,
     "end_time": "2019-10-20T21:45:05.421827",
     "exception": false,
     "start_time": "2019-10-20T21:45:03.811525",
     "status": "completed"
    },
    "pycharm": {
     "name": "#%%\n"
    },
    "tags": []
   },
   "outputs": [
    {
     "data": {
      "text/plain": [
       "'AutoKeras #1'"
      ]
     },
     "metadata": {},
     "output_type": "display_data"
    },
    {
     "data": {
      "text/html": [
       "<style  type=\"text/css\" >\n",
       "</style><table id=\"T_dffac346_f382_11e9_bf46_008cfafbe8bc\" ><thead>    <tr>        <th class=\"col_heading level0 col0\" >max_angle</th>        <th class=\"col_heading level0 col1\" >test_acc</th>        <th class=\"col_heading level0 col2\" >train_acc</th>        <th class=\"col_heading level0 col3\" >time_err</th>        <th class=\"col_heading level0 col4\" >time_pre</th>        <th class=\"col_heading level0 col5\" >time_mod</th>    </tr></thead><tbody>\n",
       "                <tr>\n",
       "                                <td id=\"T_dffac346_f382_11e9_bf46_008cfafbe8bcrow0_col0\" class=\"data row0 col0\" >0</td>\n",
       "                        <td id=\"T_dffac346_f382_11e9_bf46_008cfafbe8bcrow0_col1\" class=\"data row0 col1\" >0.986</td>\n",
       "                        <td id=\"T_dffac346_f382_11e9_bf46_008cfafbe8bcrow0_col2\" class=\"data row0 col2\" >0.997</td>\n",
       "                        <td id=\"T_dffac346_f382_11e9_bf46_008cfafbe8bcrow0_col3\" class=\"data row0 col3\" >0.222</td>\n",
       "                        <td id=\"T_dffac346_f382_11e9_bf46_008cfafbe8bcrow0_col4\" class=\"data row0 col4\" >0</td>\n",
       "                        <td id=\"T_dffac346_f382_11e9_bf46_008cfafbe8bcrow0_col5\" class=\"data row0 col5\" >7209.57</td>\n",
       "            </tr>\n",
       "            <tr>\n",
       "                                <td id=\"T_dffac346_f382_11e9_bf46_008cfafbe8bcrow1_col0\" class=\"data row1 col0\" >12</td>\n",
       "                        <td id=\"T_dffac346_f382_11e9_bf46_008cfafbe8bcrow1_col1\" class=\"data row1 col1\" >0.975</td>\n",
       "                        <td id=\"T_dffac346_f382_11e9_bf46_008cfafbe8bcrow1_col2\" class=\"data row1 col2\" >0.997</td>\n",
       "                        <td id=\"T_dffac346_f382_11e9_bf46_008cfafbe8bcrow1_col3\" class=\"data row1 col3\" >0.281</td>\n",
       "                        <td id=\"T_dffac346_f382_11e9_bf46_008cfafbe8bcrow1_col4\" class=\"data row1 col4\" >0</td>\n",
       "                        <td id=\"T_dffac346_f382_11e9_bf46_008cfafbe8bcrow1_col5\" class=\"data row1 col5\" >7218.56</td>\n",
       "            </tr>\n",
       "            <tr>\n",
       "                                <td id=\"T_dffac346_f382_11e9_bf46_008cfafbe8bcrow2_col0\" class=\"data row2 col0\" >24</td>\n",
       "                        <td id=\"T_dffac346_f382_11e9_bf46_008cfafbe8bcrow2_col1\" class=\"data row2 col1\" >0.922</td>\n",
       "                        <td id=\"T_dffac346_f382_11e9_bf46_008cfafbe8bcrow2_col2\" class=\"data row2 col2\" >0.989</td>\n",
       "                        <td id=\"T_dffac346_f382_11e9_bf46_008cfafbe8bcrow2_col3\" class=\"data row2 col3\" >0.245</td>\n",
       "                        <td id=\"T_dffac346_f382_11e9_bf46_008cfafbe8bcrow2_col4\" class=\"data row2 col4\" >0</td>\n",
       "                        <td id=\"T_dffac346_f382_11e9_bf46_008cfafbe8bcrow2_col5\" class=\"data row2 col5\" >7209.21</td>\n",
       "            </tr>\n",
       "            <tr>\n",
       "                                <td id=\"T_dffac346_f382_11e9_bf46_008cfafbe8bcrow3_col0\" class=\"data row3 col0\" >36</td>\n",
       "                        <td id=\"T_dffac346_f382_11e9_bf46_008cfafbe8bcrow3_col1\" class=\"data row3 col1\" >0.911</td>\n",
       "                        <td id=\"T_dffac346_f382_11e9_bf46_008cfafbe8bcrow3_col2\" class=\"data row3 col2\" >0.987</td>\n",
       "                        <td id=\"T_dffac346_f382_11e9_bf46_008cfafbe8bcrow3_col3\" class=\"data row3 col3\" >0.285</td>\n",
       "                        <td id=\"T_dffac346_f382_11e9_bf46_008cfafbe8bcrow3_col4\" class=\"data row3 col4\" >0</td>\n",
       "                        <td id=\"T_dffac346_f382_11e9_bf46_008cfafbe8bcrow3_col5\" class=\"data row3 col5\" >7206.47</td>\n",
       "            </tr>\n",
       "            <tr>\n",
       "                                <td id=\"T_dffac346_f382_11e9_bf46_008cfafbe8bcrow4_col0\" class=\"data row4 col0\" >48</td>\n",
       "                        <td id=\"T_dffac346_f382_11e9_bf46_008cfafbe8bcrow4_col1\" class=\"data row4 col1\" >0.853</td>\n",
       "                        <td id=\"T_dffac346_f382_11e9_bf46_008cfafbe8bcrow4_col2\" class=\"data row4 col2\" >0.987</td>\n",
       "                        <td id=\"T_dffac346_f382_11e9_bf46_008cfafbe8bcrow4_col3\" class=\"data row4 col3\" >0.286</td>\n",
       "                        <td id=\"T_dffac346_f382_11e9_bf46_008cfafbe8bcrow4_col4\" class=\"data row4 col4\" >0</td>\n",
       "                        <td id=\"T_dffac346_f382_11e9_bf46_008cfafbe8bcrow4_col5\" class=\"data row4 col5\" >7217.35</td>\n",
       "            </tr>\n",
       "            <tr>\n",
       "                                <td id=\"T_dffac346_f382_11e9_bf46_008cfafbe8bcrow5_col0\" class=\"data row5 col0\" >60</td>\n",
       "                        <td id=\"T_dffac346_f382_11e9_bf46_008cfafbe8bcrow5_col1\" class=\"data row5 col1\" >0.828</td>\n",
       "                        <td id=\"T_dffac346_f382_11e9_bf46_008cfafbe8bcrow5_col2\" class=\"data row5 col2\" >0.964</td>\n",
       "                        <td id=\"T_dffac346_f382_11e9_bf46_008cfafbe8bcrow5_col3\" class=\"data row5 col3\" >0.238</td>\n",
       "                        <td id=\"T_dffac346_f382_11e9_bf46_008cfafbe8bcrow5_col4\" class=\"data row5 col4\" >0</td>\n",
       "                        <td id=\"T_dffac346_f382_11e9_bf46_008cfafbe8bcrow5_col5\" class=\"data row5 col5\" >7203.79</td>\n",
       "            </tr>\n",
       "            <tr>\n",
       "                                <td id=\"T_dffac346_f382_11e9_bf46_008cfafbe8bcrow6_col0\" class=\"data row6 col0\" >72</td>\n",
       "                        <td id=\"T_dffac346_f382_11e9_bf46_008cfafbe8bcrow6_col1\" class=\"data row6 col1\" >0.783</td>\n",
       "                        <td id=\"T_dffac346_f382_11e9_bf46_008cfafbe8bcrow6_col2\" class=\"data row6 col2\" >0.933</td>\n",
       "                        <td id=\"T_dffac346_f382_11e9_bf46_008cfafbe8bcrow6_col3\" class=\"data row6 col3\" >0.284</td>\n",
       "                        <td id=\"T_dffac346_f382_11e9_bf46_008cfafbe8bcrow6_col4\" class=\"data row6 col4\" >0</td>\n",
       "                        <td id=\"T_dffac346_f382_11e9_bf46_008cfafbe8bcrow6_col5\" class=\"data row6 col5\" >7204.43</td>\n",
       "            </tr>\n",
       "            <tr>\n",
       "                                <td id=\"T_dffac346_f382_11e9_bf46_008cfafbe8bcrow7_col0\" class=\"data row7 col0\" >84</td>\n",
       "                        <td id=\"T_dffac346_f382_11e9_bf46_008cfafbe8bcrow7_col1\" class=\"data row7 col1\" >0.694</td>\n",
       "                        <td id=\"T_dffac346_f382_11e9_bf46_008cfafbe8bcrow7_col2\" class=\"data row7 col2\" >0.979</td>\n",
       "                        <td id=\"T_dffac346_f382_11e9_bf46_008cfafbe8bcrow7_col3\" class=\"data row7 col3\" >0.275</td>\n",
       "                        <td id=\"T_dffac346_f382_11e9_bf46_008cfafbe8bcrow7_col4\" class=\"data row7 col4\" >0</td>\n",
       "                        <td id=\"T_dffac346_f382_11e9_bf46_008cfafbe8bcrow7_col5\" class=\"data row7 col5\" >7212.37</td>\n",
       "            </tr>\n",
       "    </tbody></table>"
      ],
      "text/plain": [
       "<pandas.io.formats.style.Styler at 0x2b5dc5118f98>"
      ]
     },
     "metadata": {},
     "output_type": "display_data"
    },
    {
     "data": {
      "text/html": [
       "<style  type=\"text/css\" >\n",
       "</style><table id=\"T_e000c17e_f382_11e9_bf46_008cfafbe8bc\" ><thead>    <tr>        <th class=\"col_heading level0 col0\" >max_angle</th>        <th class=\"col_heading level0 col1\" >pipe_0</th>        <th class=\"col_heading level0 col2\" >pipe_1</th>        <th class=\"col_heading level0 col3\" >pipe_2</th>        <th class=\"col_heading level0 col4\" >pipe_3</th>        <th class=\"col_heading level0 col5\" >pipe_4</th>        <th class=\"col_heading level0 col6\" >pipe_5</th>        <th class=\"col_heading level0 col7\" >pipe_6</th>        <th class=\"col_heading level0 col8\" >pipe_7</th>        <th class=\"col_heading level0 col9\" >pipe_8</th>        <th class=\"col_heading level0 col10\" >pipe_9</th>        <th class=\"col_heading level0 col11\" >pipe_10</th>        <th class=\"col_heading level0 col12\" >pipe_11</th>        <th class=\"col_heading level0 col13\" >pipe_12</th>        <th class=\"col_heading level0 col14\" >pipe_13</th>        <th class=\"col_heading level0 col15\" >pipe_14</th>        <th class=\"col_heading level0 col16\" >pipe_15</th>        <th class=\"col_heading level0 col17\" >pipe_16</th>        <th class=\"col_heading level0 col18\" >pipe_17</th>        <th class=\"col_heading level0 col19\" >pipe_18</th>        <th class=\"col_heading level0 col20\" >pipe_19</th>        <th class=\"col_heading level0 col21\" >pipe_20</th>        <th class=\"col_heading level0 col22\" >pipe_21</th>        <th class=\"col_heading level0 col23\" >pipe_22</th>        <th class=\"col_heading level0 col24\" >pipe_23</th>        <th class=\"col_heading level0 col25\" >pipe_24</th>        <th class=\"col_heading level0 col26\" >pipe_25</th>        <th class=\"col_heading level0 col27\" >pipe_26</th>        <th class=\"col_heading level0 col28\" >pipe_27</th>        <th class=\"col_heading level0 col29\" >pipe_28</th>        <th class=\"col_heading level0 col30\" >pipe_29</th>        <th class=\"col_heading level0 col31\" >pipe_30</th>        <th class=\"col_heading level0 col32\" >pipe_31</th>        <th class=\"col_heading level0 col33\" >pipe_32</th>        <th class=\"col_heading level0 col34\" >pipe_33</th>        <th class=\"col_heading level0 col35\" >pipe_34</th>        <th class=\"col_heading level0 col36\" >pipe_35</th>        <th class=\"col_heading level0 col37\" >pipe_36</th>        <th class=\"col_heading level0 col38\" >pipe_37</th>        <th class=\"col_heading level0 col39\" >pipe_38</th>        <th class=\"col_heading level0 col40\" >pipe_39</th>        <th class=\"col_heading level0 col41\" >pipe_40</th>        <th class=\"col_heading level0 col42\" >pipe_41</th>        <th class=\"col_heading level0 col43\" >pipe_42</th>        <th class=\"col_heading level0 col44\" >pipe_43</th>        <th class=\"col_heading level0 col45\" >pipe_44</th>        <th class=\"col_heading level0 col46\" >pipe_45</th>        <th class=\"col_heading level0 col47\" >pipe_46</th>        <th class=\"col_heading level0 col48\" >pipe_47</th>        <th class=\"col_heading level0 col49\" >pipe_48</th>        <th class=\"col_heading level0 col50\" >pipe_49</th>        <th class=\"col_heading level0 col51\" >pipe_50</th>        <th class=\"col_heading level0 col52\" >pipe_51</th>        <th class=\"col_heading level0 col53\" >pipe_52</th>        <th class=\"col_heading level0 col54\" >pipe_53</th>        <th class=\"col_heading level0 col55\" >pipe_54</th>        <th class=\"col_heading level0 col56\" >pipe_55</th>        <th class=\"col_heading level0 col57\" >pipe_56</th>        <th class=\"col_heading level0 col58\" >pipe_57</th>        <th class=\"col_heading level0 col59\" >pipe_58</th>        <th class=\"col_heading level0 col60\" >pipe_59</th>        <th class=\"col_heading level0 col61\" >pipe_60</th>        <th class=\"col_heading level0 col62\" >pipe_61</th>        <th class=\"col_heading level0 col63\" >pipe_62</th>        <th class=\"col_heading level0 col64\" >pipe_63</th>        <th class=\"col_heading level0 col65\" >pipe_64</th>        <th class=\"col_heading level0 col66\" >pipe_65</th>        <th class=\"col_heading level0 col67\" >pipe_66</th>        <th class=\"col_heading level0 col68\" >pipe_67</th>        <th class=\"col_heading level0 col69\" >pipe_68</th>        <th class=\"col_heading level0 col70\" >pipe_69</th>        <th class=\"col_heading level0 col71\" >pipe_70</th>        <th class=\"col_heading level0 col72\" >pipe_71</th>        <th class=\"col_heading level0 col73\" >pipe_72</th>        <th class=\"col_heading level0 col74\" >pipe_73</th>        <th class=\"col_heading level0 col75\" >pipe_74</th>        <th class=\"col_heading level0 col76\" >pipe_75</th>    </tr></thead><tbody>\n",
       "                <tr>\n",
       "                                <td id=\"T_e000c17e_f382_11e9_bf46_008cfafbe8bcrow0_col0\" class=\"data row0 col0\" >0</td>\n",
       "                        <td id=\"T_e000c17e_f382_11e9_bf46_008cfafbe8bcrow0_col1\" class=\"data row0 col1\" >ReLU()</td>\n",
       "                        <td id=\"T_e000c17e_f382_11e9_bf46_008cfafbe8bcrow0_col2\" class=\"data row0 col2\" >BatchNorm2d(1, eps=1e-05, momentum=0.1, affine=True, track_running_stats=True)</td>\n",
       "                        <td id=\"T_e000c17e_f382_11e9_bf46_008cfafbe8bcrow0_col3\" class=\"data row0 col3\" >Conv2d(1, 64, kernel_size=(3, 3), stride=(1, 1), padding=(1, 1))</td>\n",
       "                        <td id=\"T_e000c17e_f382_11e9_bf46_008cfafbe8bcrow0_col4\" class=\"data row0 col4\" >MaxPool2d(kernel_size=2, stride=2, padding=0, dilation=1, ceil_mode=False)</td>\n",
       "                        <td id=\"T_e000c17e_f382_11e9_bf46_008cfafbe8bcrow0_col5\" class=\"data row0 col5\" >ReLU()</td>\n",
       "                        <td id=\"T_e000c17e_f382_11e9_bf46_008cfafbe8bcrow0_col6\" class=\"data row0 col6\" >BatchNorm2d(64, eps=1e-05, momentum=0.1, affine=True, track_running_stats=True)</td>\n",
       "                        <td id=\"T_e000c17e_f382_11e9_bf46_008cfafbe8bcrow0_col7\" class=\"data row0 col7\" >Conv2d(64, 64, kernel_size=(3, 3), stride=(1, 1), padding=(1, 1))</td>\n",
       "                        <td id=\"T_e000c17e_f382_11e9_bf46_008cfafbe8bcrow0_col8\" class=\"data row0 col8\" >MaxPool2d(kernel_size=2, stride=2, padding=0, dilation=1, ceil_mode=False)</td>\n",
       "                        <td id=\"T_e000c17e_f382_11e9_bf46_008cfafbe8bcrow0_col9\" class=\"data row0 col9\" >ReLU()</td>\n",
       "                        <td id=\"T_e000c17e_f382_11e9_bf46_008cfafbe8bcrow0_col10\" class=\"data row0 col10\" >BatchNorm2d(64, eps=1e-05, momentum=0.1, affine=True, track_running_stats=True)</td>\n",
       "                        <td id=\"T_e000c17e_f382_11e9_bf46_008cfafbe8bcrow0_col11\" class=\"data row0 col11\" >Conv2d(64, 64, kernel_size=(3, 3), stride=(1, 1), padding=(1, 1))</td>\n",
       "                        <td id=\"T_e000c17e_f382_11e9_bf46_008cfafbe8bcrow0_col12\" class=\"data row0 col12\" >MaxPool2d(kernel_size=2, stride=2, padding=0, dilation=1, ceil_mode=False)</td>\n",
       "                        <td id=\"T_e000c17e_f382_11e9_bf46_008cfafbe8bcrow0_col13\" class=\"data row0 col13\" >GlobalAvgPool2d()</td>\n",
       "                        <td id=\"T_e000c17e_f382_11e9_bf46_008cfafbe8bcrow0_col14\" class=\"data row0 col14\" >Dropout2d(p=0.25)</td>\n",
       "                        <td id=\"T_e000c17e_f382_11e9_bf46_008cfafbe8bcrow0_col15\" class=\"data row0 col15\" >Linear(in_features=64, out_features=64, bias=True)</td>\n",
       "                        <td id=\"T_e000c17e_f382_11e9_bf46_008cfafbe8bcrow0_col16\" class=\"data row0 col16\" >ReLU()</td>\n",
       "                        <td id=\"T_e000c17e_f382_11e9_bf46_008cfafbe8bcrow0_col17\" class=\"data row0 col17\" >Linear(in_features=64, out_features=10, bias=True)</td>\n",
       "                        <td id=\"T_e000c17e_f382_11e9_bf46_008cfafbe8bcrow0_col18\" class=\"data row0 col18\" >nan</td>\n",
       "                        <td id=\"T_e000c17e_f382_11e9_bf46_008cfafbe8bcrow0_col19\" class=\"data row0 col19\" >nan</td>\n",
       "                        <td id=\"T_e000c17e_f382_11e9_bf46_008cfafbe8bcrow0_col20\" class=\"data row0 col20\" >nan</td>\n",
       "                        <td id=\"T_e000c17e_f382_11e9_bf46_008cfafbe8bcrow0_col21\" class=\"data row0 col21\" >nan</td>\n",
       "                        <td id=\"T_e000c17e_f382_11e9_bf46_008cfafbe8bcrow0_col22\" class=\"data row0 col22\" >nan</td>\n",
       "                        <td id=\"T_e000c17e_f382_11e9_bf46_008cfafbe8bcrow0_col23\" class=\"data row0 col23\" >nan</td>\n",
       "                        <td id=\"T_e000c17e_f382_11e9_bf46_008cfafbe8bcrow0_col24\" class=\"data row0 col24\" >nan</td>\n",
       "                        <td id=\"T_e000c17e_f382_11e9_bf46_008cfafbe8bcrow0_col25\" class=\"data row0 col25\" >nan</td>\n",
       "                        <td id=\"T_e000c17e_f382_11e9_bf46_008cfafbe8bcrow0_col26\" class=\"data row0 col26\" >nan</td>\n",
       "                        <td id=\"T_e000c17e_f382_11e9_bf46_008cfafbe8bcrow0_col27\" class=\"data row0 col27\" >nan</td>\n",
       "                        <td id=\"T_e000c17e_f382_11e9_bf46_008cfafbe8bcrow0_col28\" class=\"data row0 col28\" >nan</td>\n",
       "                        <td id=\"T_e000c17e_f382_11e9_bf46_008cfafbe8bcrow0_col29\" class=\"data row0 col29\" >nan</td>\n",
       "                        <td id=\"T_e000c17e_f382_11e9_bf46_008cfafbe8bcrow0_col30\" class=\"data row0 col30\" >nan</td>\n",
       "                        <td id=\"T_e000c17e_f382_11e9_bf46_008cfafbe8bcrow0_col31\" class=\"data row0 col31\" >nan</td>\n",
       "                        <td id=\"T_e000c17e_f382_11e9_bf46_008cfafbe8bcrow0_col32\" class=\"data row0 col32\" >nan</td>\n",
       "                        <td id=\"T_e000c17e_f382_11e9_bf46_008cfafbe8bcrow0_col33\" class=\"data row0 col33\" >nan</td>\n",
       "                        <td id=\"T_e000c17e_f382_11e9_bf46_008cfafbe8bcrow0_col34\" class=\"data row0 col34\" >nan</td>\n",
       "                        <td id=\"T_e000c17e_f382_11e9_bf46_008cfafbe8bcrow0_col35\" class=\"data row0 col35\" >nan</td>\n",
       "                        <td id=\"T_e000c17e_f382_11e9_bf46_008cfafbe8bcrow0_col36\" class=\"data row0 col36\" >nan</td>\n",
       "                        <td id=\"T_e000c17e_f382_11e9_bf46_008cfafbe8bcrow0_col37\" class=\"data row0 col37\" >nan</td>\n",
       "                        <td id=\"T_e000c17e_f382_11e9_bf46_008cfafbe8bcrow0_col38\" class=\"data row0 col38\" >nan</td>\n",
       "                        <td id=\"T_e000c17e_f382_11e9_bf46_008cfafbe8bcrow0_col39\" class=\"data row0 col39\" >nan</td>\n",
       "                        <td id=\"T_e000c17e_f382_11e9_bf46_008cfafbe8bcrow0_col40\" class=\"data row0 col40\" >nan</td>\n",
       "                        <td id=\"T_e000c17e_f382_11e9_bf46_008cfafbe8bcrow0_col41\" class=\"data row0 col41\" >nan</td>\n",
       "                        <td id=\"T_e000c17e_f382_11e9_bf46_008cfafbe8bcrow0_col42\" class=\"data row0 col42\" >nan</td>\n",
       "                        <td id=\"T_e000c17e_f382_11e9_bf46_008cfafbe8bcrow0_col43\" class=\"data row0 col43\" >nan</td>\n",
       "                        <td id=\"T_e000c17e_f382_11e9_bf46_008cfafbe8bcrow0_col44\" class=\"data row0 col44\" >nan</td>\n",
       "                        <td id=\"T_e000c17e_f382_11e9_bf46_008cfafbe8bcrow0_col45\" class=\"data row0 col45\" >nan</td>\n",
       "                        <td id=\"T_e000c17e_f382_11e9_bf46_008cfafbe8bcrow0_col46\" class=\"data row0 col46\" >nan</td>\n",
       "                        <td id=\"T_e000c17e_f382_11e9_bf46_008cfafbe8bcrow0_col47\" class=\"data row0 col47\" >nan</td>\n",
       "                        <td id=\"T_e000c17e_f382_11e9_bf46_008cfafbe8bcrow0_col48\" class=\"data row0 col48\" >nan</td>\n",
       "                        <td id=\"T_e000c17e_f382_11e9_bf46_008cfafbe8bcrow0_col49\" class=\"data row0 col49\" >nan</td>\n",
       "                        <td id=\"T_e000c17e_f382_11e9_bf46_008cfafbe8bcrow0_col50\" class=\"data row0 col50\" >nan</td>\n",
       "                        <td id=\"T_e000c17e_f382_11e9_bf46_008cfafbe8bcrow0_col51\" class=\"data row0 col51\" >nan</td>\n",
       "                        <td id=\"T_e000c17e_f382_11e9_bf46_008cfafbe8bcrow0_col52\" class=\"data row0 col52\" >nan</td>\n",
       "                        <td id=\"T_e000c17e_f382_11e9_bf46_008cfafbe8bcrow0_col53\" class=\"data row0 col53\" >nan</td>\n",
       "                        <td id=\"T_e000c17e_f382_11e9_bf46_008cfafbe8bcrow0_col54\" class=\"data row0 col54\" >nan</td>\n",
       "                        <td id=\"T_e000c17e_f382_11e9_bf46_008cfafbe8bcrow0_col55\" class=\"data row0 col55\" >nan</td>\n",
       "                        <td id=\"T_e000c17e_f382_11e9_bf46_008cfafbe8bcrow0_col56\" class=\"data row0 col56\" >nan</td>\n",
       "                        <td id=\"T_e000c17e_f382_11e9_bf46_008cfafbe8bcrow0_col57\" class=\"data row0 col57\" >nan</td>\n",
       "                        <td id=\"T_e000c17e_f382_11e9_bf46_008cfafbe8bcrow0_col58\" class=\"data row0 col58\" >nan</td>\n",
       "                        <td id=\"T_e000c17e_f382_11e9_bf46_008cfafbe8bcrow0_col59\" class=\"data row0 col59\" >nan</td>\n",
       "                        <td id=\"T_e000c17e_f382_11e9_bf46_008cfafbe8bcrow0_col60\" class=\"data row0 col60\" >nan</td>\n",
       "                        <td id=\"T_e000c17e_f382_11e9_bf46_008cfafbe8bcrow0_col61\" class=\"data row0 col61\" >nan</td>\n",
       "                        <td id=\"T_e000c17e_f382_11e9_bf46_008cfafbe8bcrow0_col62\" class=\"data row0 col62\" >nan</td>\n",
       "                        <td id=\"T_e000c17e_f382_11e9_bf46_008cfafbe8bcrow0_col63\" class=\"data row0 col63\" >nan</td>\n",
       "                        <td id=\"T_e000c17e_f382_11e9_bf46_008cfafbe8bcrow0_col64\" class=\"data row0 col64\" >nan</td>\n",
       "                        <td id=\"T_e000c17e_f382_11e9_bf46_008cfafbe8bcrow0_col65\" class=\"data row0 col65\" >nan</td>\n",
       "                        <td id=\"T_e000c17e_f382_11e9_bf46_008cfafbe8bcrow0_col66\" class=\"data row0 col66\" >nan</td>\n",
       "                        <td id=\"T_e000c17e_f382_11e9_bf46_008cfafbe8bcrow0_col67\" class=\"data row0 col67\" >nan</td>\n",
       "                        <td id=\"T_e000c17e_f382_11e9_bf46_008cfafbe8bcrow0_col68\" class=\"data row0 col68\" >nan</td>\n",
       "                        <td id=\"T_e000c17e_f382_11e9_bf46_008cfafbe8bcrow0_col69\" class=\"data row0 col69\" >nan</td>\n",
       "                        <td id=\"T_e000c17e_f382_11e9_bf46_008cfafbe8bcrow0_col70\" class=\"data row0 col70\" >nan</td>\n",
       "                        <td id=\"T_e000c17e_f382_11e9_bf46_008cfafbe8bcrow0_col71\" class=\"data row0 col71\" >nan</td>\n",
       "                        <td id=\"T_e000c17e_f382_11e9_bf46_008cfafbe8bcrow0_col72\" class=\"data row0 col72\" >nan</td>\n",
       "                        <td id=\"T_e000c17e_f382_11e9_bf46_008cfafbe8bcrow0_col73\" class=\"data row0 col73\" >nan</td>\n",
       "                        <td id=\"T_e000c17e_f382_11e9_bf46_008cfafbe8bcrow0_col74\" class=\"data row0 col74\" >nan</td>\n",
       "                        <td id=\"T_e000c17e_f382_11e9_bf46_008cfafbe8bcrow0_col75\" class=\"data row0 col75\" >nan</td>\n",
       "                        <td id=\"T_e000c17e_f382_11e9_bf46_008cfafbe8bcrow0_col76\" class=\"data row0 col76\" >nan</td>\n",
       "            </tr>\n",
       "            <tr>\n",
       "                                <td id=\"T_e000c17e_f382_11e9_bf46_008cfafbe8bcrow1_col0\" class=\"data row1 col0\" >12</td>\n",
       "                        <td id=\"T_e000c17e_f382_11e9_bf46_008cfafbe8bcrow1_col1\" class=\"data row1 col1\" >Conv2d(1, 64, kernel_size=(3, 3), stride=(1, 1), padding=(1, 1))</td>\n",
       "                        <td id=\"T_e000c17e_f382_11e9_bf46_008cfafbe8bcrow1_col2\" class=\"data row1 col2\" >BatchNorm2d(64, eps=1e-05, momentum=0.1, affine=True, track_running_stats=True)</td>\n",
       "                        <td id=\"T_e000c17e_f382_11e9_bf46_008cfafbe8bcrow1_col3\" class=\"data row1 col3\" >BatchNorm2d(64, eps=1e-05, momentum=0.1, affine=True, track_running_stats=True)</td>\n",
       "                        <td id=\"T_e000c17e_f382_11e9_bf46_008cfafbe8bcrow1_col4\" class=\"data row1 col4\" >ReLU()</td>\n",
       "                        <td id=\"T_e000c17e_f382_11e9_bf46_008cfafbe8bcrow1_col5\" class=\"data row1 col5\" >Conv2d(64, 64, kernel_size=(3, 3), stride=(1, 1), padding=(1, 1))</td>\n",
       "                        <td id=\"T_e000c17e_f382_11e9_bf46_008cfafbe8bcrow1_col6\" class=\"data row1 col6\" >BatchNorm2d(64, eps=1e-05, momentum=0.1, affine=True, track_running_stats=True)</td>\n",
       "                        <td id=\"T_e000c17e_f382_11e9_bf46_008cfafbe8bcrow1_col7\" class=\"data row1 col7\" >ReLU()</td>\n",
       "                        <td id=\"T_e000c17e_f382_11e9_bf46_008cfafbe8bcrow1_col8\" class=\"data row1 col8\" >Conv2d(64, 64, kernel_size=(3, 3), stride=(1, 1), padding=(1, 1))</td>\n",
       "                        <td id=\"T_e000c17e_f382_11e9_bf46_008cfafbe8bcrow1_col9\" class=\"data row1 col9\" >ReLU()</td>\n",
       "                        <td id=\"T_e000c17e_f382_11e9_bf46_008cfafbe8bcrow1_col10\" class=\"data row1 col10\" >Conv2d(64, 64, kernel_size=(1, 1), stride=(1, 1))</td>\n",
       "                        <td id=\"T_e000c17e_f382_11e9_bf46_008cfafbe8bcrow1_col11\" class=\"data row1 col11\" >TorchAdd()</td>\n",
       "                        <td id=\"T_e000c17e_f382_11e9_bf46_008cfafbe8bcrow1_col12\" class=\"data row1 col12\" >BatchNorm2d(64, eps=1e-05, momentum=0.1, affine=True, track_running_stats=True)</td>\n",
       "                        <td id=\"T_e000c17e_f382_11e9_bf46_008cfafbe8bcrow1_col13\" class=\"data row1 col13\" >ReLU()</td>\n",
       "                        <td id=\"T_e000c17e_f382_11e9_bf46_008cfafbe8bcrow1_col14\" class=\"data row1 col14\" >Conv2d(64, 64, kernel_size=(3, 3), stride=(1, 1), padding=(1, 1))</td>\n",
       "                        <td id=\"T_e000c17e_f382_11e9_bf46_008cfafbe8bcrow1_col15\" class=\"data row1 col15\" >BatchNorm2d(64, eps=1e-05, momentum=0.1, affine=True, track_running_stats=True)</td>\n",
       "                        <td id=\"T_e000c17e_f382_11e9_bf46_008cfafbe8bcrow1_col16\" class=\"data row1 col16\" >ReLU()</td>\n",
       "                        <td id=\"T_e000c17e_f382_11e9_bf46_008cfafbe8bcrow1_col17\" class=\"data row1 col17\" >Conv2d(64, 64, kernel_size=(3, 3), stride=(1, 1), padding=(1, 1))</td>\n",
       "                        <td id=\"T_e000c17e_f382_11e9_bf46_008cfafbe8bcrow1_col18\" class=\"data row1 col18\" >ReLU()</td>\n",
       "                        <td id=\"T_e000c17e_f382_11e9_bf46_008cfafbe8bcrow1_col19\" class=\"data row1 col19\" >Conv2d(64, 64, kernel_size=(1, 1), stride=(1, 1))</td>\n",
       "                        <td id=\"T_e000c17e_f382_11e9_bf46_008cfafbe8bcrow1_col20\" class=\"data row1 col20\" >TorchAdd()</td>\n",
       "                        <td id=\"T_e000c17e_f382_11e9_bf46_008cfafbe8bcrow1_col21\" class=\"data row1 col21\" >BatchNorm2d(64, eps=1e-05, momentum=0.1, affine=True, track_running_stats=True)</td>\n",
       "                        <td id=\"T_e000c17e_f382_11e9_bf46_008cfafbe8bcrow1_col22\" class=\"data row1 col22\" >ReLU()</td>\n",
       "                        <td id=\"T_e000c17e_f382_11e9_bf46_008cfafbe8bcrow1_col23\" class=\"data row1 col23\" >Conv2d(64, 128, kernel_size=(3, 3), stride=(2, 2), padding=(1, 1))</td>\n",
       "                        <td id=\"T_e000c17e_f382_11e9_bf46_008cfafbe8bcrow1_col24\" class=\"data row1 col24\" >BatchNorm2d(128, eps=1e-05, momentum=0.1, affine=True, track_running_stats=True)</td>\n",
       "                        <td id=\"T_e000c17e_f382_11e9_bf46_008cfafbe8bcrow1_col25\" class=\"data row1 col25\" >ReLU()</td>\n",
       "                        <td id=\"T_e000c17e_f382_11e9_bf46_008cfafbe8bcrow1_col26\" class=\"data row1 col26\" >Conv2d(128, 128, kernel_size=(3, 3), stride=(1, 1), padding=(1, 1))</td>\n",
       "                        <td id=\"T_e000c17e_f382_11e9_bf46_008cfafbe8bcrow1_col27\" class=\"data row1 col27\" >ReLU()</td>\n",
       "                        <td id=\"T_e000c17e_f382_11e9_bf46_008cfafbe8bcrow1_col28\" class=\"data row1 col28\" >Conv2d(64, 128, kernel_size=(1, 1), stride=(2, 2))</td>\n",
       "                        <td id=\"T_e000c17e_f382_11e9_bf46_008cfafbe8bcrow1_col29\" class=\"data row1 col29\" >TorchAdd()</td>\n",
       "                        <td id=\"T_e000c17e_f382_11e9_bf46_008cfafbe8bcrow1_col30\" class=\"data row1 col30\" >BatchNorm2d(128, eps=1e-05, momentum=0.1, affine=True, track_running_stats=True)</td>\n",
       "                        <td id=\"T_e000c17e_f382_11e9_bf46_008cfafbe8bcrow1_col31\" class=\"data row1 col31\" >ReLU()</td>\n",
       "                        <td id=\"T_e000c17e_f382_11e9_bf46_008cfafbe8bcrow1_col32\" class=\"data row1 col32\" >Conv2d(128, 128, kernel_size=(3, 3), stride=(1, 1), padding=(1, 1))</td>\n",
       "                        <td id=\"T_e000c17e_f382_11e9_bf46_008cfafbe8bcrow1_col33\" class=\"data row1 col33\" >BatchNorm2d(128, eps=1e-05, momentum=0.1, affine=True, track_running_stats=True)</td>\n",
       "                        <td id=\"T_e000c17e_f382_11e9_bf46_008cfafbe8bcrow1_col34\" class=\"data row1 col34\" >ReLU()</td>\n",
       "                        <td id=\"T_e000c17e_f382_11e9_bf46_008cfafbe8bcrow1_col35\" class=\"data row1 col35\" >Conv2d(128, 128, kernel_size=(3, 3), stride=(1, 1), padding=(1, 1))</td>\n",
       "                        <td id=\"T_e000c17e_f382_11e9_bf46_008cfafbe8bcrow1_col36\" class=\"data row1 col36\" >ReLU()</td>\n",
       "                        <td id=\"T_e000c17e_f382_11e9_bf46_008cfafbe8bcrow1_col37\" class=\"data row1 col37\" >Conv2d(128, 128, kernel_size=(1, 1), stride=(1, 1))</td>\n",
       "                        <td id=\"T_e000c17e_f382_11e9_bf46_008cfafbe8bcrow1_col38\" class=\"data row1 col38\" >TorchAdd()</td>\n",
       "                        <td id=\"T_e000c17e_f382_11e9_bf46_008cfafbe8bcrow1_col39\" class=\"data row1 col39\" >BatchNorm2d(128, eps=1e-05, momentum=0.1, affine=True, track_running_stats=True)</td>\n",
       "                        <td id=\"T_e000c17e_f382_11e9_bf46_008cfafbe8bcrow1_col40\" class=\"data row1 col40\" >ReLU()</td>\n",
       "                        <td id=\"T_e000c17e_f382_11e9_bf46_008cfafbe8bcrow1_col41\" class=\"data row1 col41\" >Conv2d(128, 256, kernel_size=(3, 3), stride=(2, 2), padding=(1, 1))</td>\n",
       "                        <td id=\"T_e000c17e_f382_11e9_bf46_008cfafbe8bcrow1_col42\" class=\"data row1 col42\" >BatchNorm2d(256, eps=1e-05, momentum=0.1, affine=True, track_running_stats=True)</td>\n",
       "                        <td id=\"T_e000c17e_f382_11e9_bf46_008cfafbe8bcrow1_col43\" class=\"data row1 col43\" >ReLU()</td>\n",
       "                        <td id=\"T_e000c17e_f382_11e9_bf46_008cfafbe8bcrow1_col44\" class=\"data row1 col44\" >Conv2d(256, 256, kernel_size=(3, 3), stride=(1, 1), padding=(1, 1))</td>\n",
       "                        <td id=\"T_e000c17e_f382_11e9_bf46_008cfafbe8bcrow1_col45\" class=\"data row1 col45\" >ReLU()</td>\n",
       "                        <td id=\"T_e000c17e_f382_11e9_bf46_008cfafbe8bcrow1_col46\" class=\"data row1 col46\" >Conv2d(128, 256, kernel_size=(1, 1), stride=(2, 2))</td>\n",
       "                        <td id=\"T_e000c17e_f382_11e9_bf46_008cfafbe8bcrow1_col47\" class=\"data row1 col47\" >TorchAdd()</td>\n",
       "                        <td id=\"T_e000c17e_f382_11e9_bf46_008cfafbe8bcrow1_col48\" class=\"data row1 col48\" >BatchNorm2d(256, eps=1e-05, momentum=0.1, affine=True, track_running_stats=True)</td>\n",
       "                        <td id=\"T_e000c17e_f382_11e9_bf46_008cfafbe8bcrow1_col49\" class=\"data row1 col49\" >ReLU()</td>\n",
       "                        <td id=\"T_e000c17e_f382_11e9_bf46_008cfafbe8bcrow1_col50\" class=\"data row1 col50\" >Conv2d(256, 256, kernel_size=(3, 3), stride=(1, 1), padding=(1, 1))</td>\n",
       "                        <td id=\"T_e000c17e_f382_11e9_bf46_008cfafbe8bcrow1_col51\" class=\"data row1 col51\" >BatchNorm2d(256, eps=1e-05, momentum=0.1, affine=True, track_running_stats=True)</td>\n",
       "                        <td id=\"T_e000c17e_f382_11e9_bf46_008cfafbe8bcrow1_col52\" class=\"data row1 col52\" >ReLU()</td>\n",
       "                        <td id=\"T_e000c17e_f382_11e9_bf46_008cfafbe8bcrow1_col53\" class=\"data row1 col53\" >Conv2d(256, 256, kernel_size=(3, 3), stride=(1, 1), padding=(1, 1))</td>\n",
       "                        <td id=\"T_e000c17e_f382_11e9_bf46_008cfafbe8bcrow1_col54\" class=\"data row1 col54\" >ReLU()</td>\n",
       "                        <td id=\"T_e000c17e_f382_11e9_bf46_008cfafbe8bcrow1_col55\" class=\"data row1 col55\" >Conv2d(256, 256, kernel_size=(1, 1), stride=(1, 1))</td>\n",
       "                        <td id=\"T_e000c17e_f382_11e9_bf46_008cfafbe8bcrow1_col56\" class=\"data row1 col56\" >TorchAdd()</td>\n",
       "                        <td id=\"T_e000c17e_f382_11e9_bf46_008cfafbe8bcrow1_col57\" class=\"data row1 col57\" >BatchNorm2d(256, eps=1e-05, momentum=0.1, affine=True, track_running_stats=True)</td>\n",
       "                        <td id=\"T_e000c17e_f382_11e9_bf46_008cfafbe8bcrow1_col58\" class=\"data row1 col58\" >ReLU()</td>\n",
       "                        <td id=\"T_e000c17e_f382_11e9_bf46_008cfafbe8bcrow1_col59\" class=\"data row1 col59\" >Conv2d(256, 512, kernel_size=(3, 3), stride=(2, 2), padding=(1, 1))</td>\n",
       "                        <td id=\"T_e000c17e_f382_11e9_bf46_008cfafbe8bcrow1_col60\" class=\"data row1 col60\" >BatchNorm2d(512, eps=1e-05, momentum=0.1, affine=True, track_running_stats=True)</td>\n",
       "                        <td id=\"T_e000c17e_f382_11e9_bf46_008cfafbe8bcrow1_col61\" class=\"data row1 col61\" >ReLU()</td>\n",
       "                        <td id=\"T_e000c17e_f382_11e9_bf46_008cfafbe8bcrow1_col62\" class=\"data row1 col62\" >Conv2d(512, 512, kernel_size=(3, 3), stride=(1, 1), padding=(1, 1))</td>\n",
       "                        <td id=\"T_e000c17e_f382_11e9_bf46_008cfafbe8bcrow1_col63\" class=\"data row1 col63\" >ReLU()</td>\n",
       "                        <td id=\"T_e000c17e_f382_11e9_bf46_008cfafbe8bcrow1_col64\" class=\"data row1 col64\" >Conv2d(256, 512, kernel_size=(1, 1), stride=(2, 2))</td>\n",
       "                        <td id=\"T_e000c17e_f382_11e9_bf46_008cfafbe8bcrow1_col65\" class=\"data row1 col65\" >TorchAdd()</td>\n",
       "                        <td id=\"T_e000c17e_f382_11e9_bf46_008cfafbe8bcrow1_col66\" class=\"data row1 col66\" >BatchNorm2d(512, eps=1e-05, momentum=0.1, affine=True, track_running_stats=True)</td>\n",
       "                        <td id=\"T_e000c17e_f382_11e9_bf46_008cfafbe8bcrow1_col67\" class=\"data row1 col67\" >ReLU()</td>\n",
       "                        <td id=\"T_e000c17e_f382_11e9_bf46_008cfafbe8bcrow1_col68\" class=\"data row1 col68\" >Conv2d(512, 512, kernel_size=(3, 3), stride=(1, 1), padding=(1, 1))</td>\n",
       "                        <td id=\"T_e000c17e_f382_11e9_bf46_008cfafbe8bcrow1_col69\" class=\"data row1 col69\" >BatchNorm2d(512, eps=1e-05, momentum=0.1, affine=True, track_running_stats=True)</td>\n",
       "                        <td id=\"T_e000c17e_f382_11e9_bf46_008cfafbe8bcrow1_col70\" class=\"data row1 col70\" >ReLU()</td>\n",
       "                        <td id=\"T_e000c17e_f382_11e9_bf46_008cfafbe8bcrow1_col71\" class=\"data row1 col71\" >Conv2d(512, 512, kernel_size=(3, 3), stride=(1, 1), padding=(1, 1))</td>\n",
       "                        <td id=\"T_e000c17e_f382_11e9_bf46_008cfafbe8bcrow1_col72\" class=\"data row1 col72\" >ReLU()</td>\n",
       "                        <td id=\"T_e000c17e_f382_11e9_bf46_008cfafbe8bcrow1_col73\" class=\"data row1 col73\" >Conv2d(512, 512, kernel_size=(1, 1), stride=(1, 1))</td>\n",
       "                        <td id=\"T_e000c17e_f382_11e9_bf46_008cfafbe8bcrow1_col74\" class=\"data row1 col74\" >TorchAdd()</td>\n",
       "                        <td id=\"T_e000c17e_f382_11e9_bf46_008cfafbe8bcrow1_col75\" class=\"data row1 col75\" >GlobalAvgPool2d()</td>\n",
       "                        <td id=\"T_e000c17e_f382_11e9_bf46_008cfafbe8bcrow1_col76\" class=\"data row1 col76\" >Linear(in_features=512, out_features=10, bias=True)</td>\n",
       "            </tr>\n",
       "            <tr>\n",
       "                                <td id=\"T_e000c17e_f382_11e9_bf46_008cfafbe8bcrow2_col0\" class=\"data row2 col0\" >24</td>\n",
       "                        <td id=\"T_e000c17e_f382_11e9_bf46_008cfafbe8bcrow2_col1\" class=\"data row2 col1\" >ReLU()</td>\n",
       "                        <td id=\"T_e000c17e_f382_11e9_bf46_008cfafbe8bcrow2_col2\" class=\"data row2 col2\" >BatchNorm2d(1, eps=1e-05, momentum=0.1, affine=True, track_running_stats=True)</td>\n",
       "                        <td id=\"T_e000c17e_f382_11e9_bf46_008cfafbe8bcrow2_col3\" class=\"data row2 col3\" >Conv2d(1, 64, kernel_size=(3, 3), stride=(1, 1), padding=(1, 1))</td>\n",
       "                        <td id=\"T_e000c17e_f382_11e9_bf46_008cfafbe8bcrow2_col4\" class=\"data row2 col4\" >MaxPool2d(kernel_size=2, stride=2, padding=0, dilation=1, ceil_mode=False)</td>\n",
       "                        <td id=\"T_e000c17e_f382_11e9_bf46_008cfafbe8bcrow2_col5\" class=\"data row2 col5\" >ReLU()</td>\n",
       "                        <td id=\"T_e000c17e_f382_11e9_bf46_008cfafbe8bcrow2_col6\" class=\"data row2 col6\" >BatchNorm2d(64, eps=1e-05, momentum=0.1, affine=True, track_running_stats=True)</td>\n",
       "                        <td id=\"T_e000c17e_f382_11e9_bf46_008cfafbe8bcrow2_col7\" class=\"data row2 col7\" >Conv2d(64, 64, kernel_size=(3, 3), stride=(1, 1), padding=(1, 1))</td>\n",
       "                        <td id=\"T_e000c17e_f382_11e9_bf46_008cfafbe8bcrow2_col8\" class=\"data row2 col8\" >MaxPool2d(kernel_size=2, stride=2, padding=0, dilation=1, ceil_mode=False)</td>\n",
       "                        <td id=\"T_e000c17e_f382_11e9_bf46_008cfafbe8bcrow2_col9\" class=\"data row2 col9\" >ReLU()</td>\n",
       "                        <td id=\"T_e000c17e_f382_11e9_bf46_008cfafbe8bcrow2_col10\" class=\"data row2 col10\" >BatchNorm2d(64, eps=1e-05, momentum=0.1, affine=True, track_running_stats=True)</td>\n",
       "                        <td id=\"T_e000c17e_f382_11e9_bf46_008cfafbe8bcrow2_col11\" class=\"data row2 col11\" >Conv2d(64, 64, kernel_size=(3, 3), stride=(1, 1), padding=(1, 1))</td>\n",
       "                        <td id=\"T_e000c17e_f382_11e9_bf46_008cfafbe8bcrow2_col12\" class=\"data row2 col12\" >MaxPool2d(kernel_size=2, stride=2, padding=0, dilation=1, ceil_mode=False)</td>\n",
       "                        <td id=\"T_e000c17e_f382_11e9_bf46_008cfafbe8bcrow2_col13\" class=\"data row2 col13\" >GlobalAvgPool2d()</td>\n",
       "                        <td id=\"T_e000c17e_f382_11e9_bf46_008cfafbe8bcrow2_col14\" class=\"data row2 col14\" >Dropout2d(p=0.25)</td>\n",
       "                        <td id=\"T_e000c17e_f382_11e9_bf46_008cfafbe8bcrow2_col15\" class=\"data row2 col15\" >Linear(in_features=64, out_features=64, bias=True)</td>\n",
       "                        <td id=\"T_e000c17e_f382_11e9_bf46_008cfafbe8bcrow2_col16\" class=\"data row2 col16\" >ReLU()</td>\n",
       "                        <td id=\"T_e000c17e_f382_11e9_bf46_008cfafbe8bcrow2_col17\" class=\"data row2 col17\" >Linear(in_features=64, out_features=10, bias=True)</td>\n",
       "                        <td id=\"T_e000c17e_f382_11e9_bf46_008cfafbe8bcrow2_col18\" class=\"data row2 col18\" >nan</td>\n",
       "                        <td id=\"T_e000c17e_f382_11e9_bf46_008cfafbe8bcrow2_col19\" class=\"data row2 col19\" >nan</td>\n",
       "                        <td id=\"T_e000c17e_f382_11e9_bf46_008cfafbe8bcrow2_col20\" class=\"data row2 col20\" >nan</td>\n",
       "                        <td id=\"T_e000c17e_f382_11e9_bf46_008cfafbe8bcrow2_col21\" class=\"data row2 col21\" >nan</td>\n",
       "                        <td id=\"T_e000c17e_f382_11e9_bf46_008cfafbe8bcrow2_col22\" class=\"data row2 col22\" >nan</td>\n",
       "                        <td id=\"T_e000c17e_f382_11e9_bf46_008cfafbe8bcrow2_col23\" class=\"data row2 col23\" >nan</td>\n",
       "                        <td id=\"T_e000c17e_f382_11e9_bf46_008cfafbe8bcrow2_col24\" class=\"data row2 col24\" >nan</td>\n",
       "                        <td id=\"T_e000c17e_f382_11e9_bf46_008cfafbe8bcrow2_col25\" class=\"data row2 col25\" >nan</td>\n",
       "                        <td id=\"T_e000c17e_f382_11e9_bf46_008cfafbe8bcrow2_col26\" class=\"data row2 col26\" >nan</td>\n",
       "                        <td id=\"T_e000c17e_f382_11e9_bf46_008cfafbe8bcrow2_col27\" class=\"data row2 col27\" >nan</td>\n",
       "                        <td id=\"T_e000c17e_f382_11e9_bf46_008cfafbe8bcrow2_col28\" class=\"data row2 col28\" >nan</td>\n",
       "                        <td id=\"T_e000c17e_f382_11e9_bf46_008cfafbe8bcrow2_col29\" class=\"data row2 col29\" >nan</td>\n",
       "                        <td id=\"T_e000c17e_f382_11e9_bf46_008cfafbe8bcrow2_col30\" class=\"data row2 col30\" >nan</td>\n",
       "                        <td id=\"T_e000c17e_f382_11e9_bf46_008cfafbe8bcrow2_col31\" class=\"data row2 col31\" >nan</td>\n",
       "                        <td id=\"T_e000c17e_f382_11e9_bf46_008cfafbe8bcrow2_col32\" class=\"data row2 col32\" >nan</td>\n",
       "                        <td id=\"T_e000c17e_f382_11e9_bf46_008cfafbe8bcrow2_col33\" class=\"data row2 col33\" >nan</td>\n",
       "                        <td id=\"T_e000c17e_f382_11e9_bf46_008cfafbe8bcrow2_col34\" class=\"data row2 col34\" >nan</td>\n",
       "                        <td id=\"T_e000c17e_f382_11e9_bf46_008cfafbe8bcrow2_col35\" class=\"data row2 col35\" >nan</td>\n",
       "                        <td id=\"T_e000c17e_f382_11e9_bf46_008cfafbe8bcrow2_col36\" class=\"data row2 col36\" >nan</td>\n",
       "                        <td id=\"T_e000c17e_f382_11e9_bf46_008cfafbe8bcrow2_col37\" class=\"data row2 col37\" >nan</td>\n",
       "                        <td id=\"T_e000c17e_f382_11e9_bf46_008cfafbe8bcrow2_col38\" class=\"data row2 col38\" >nan</td>\n",
       "                        <td id=\"T_e000c17e_f382_11e9_bf46_008cfafbe8bcrow2_col39\" class=\"data row2 col39\" >nan</td>\n",
       "                        <td id=\"T_e000c17e_f382_11e9_bf46_008cfafbe8bcrow2_col40\" class=\"data row2 col40\" >nan</td>\n",
       "                        <td id=\"T_e000c17e_f382_11e9_bf46_008cfafbe8bcrow2_col41\" class=\"data row2 col41\" >nan</td>\n",
       "                        <td id=\"T_e000c17e_f382_11e9_bf46_008cfafbe8bcrow2_col42\" class=\"data row2 col42\" >nan</td>\n",
       "                        <td id=\"T_e000c17e_f382_11e9_bf46_008cfafbe8bcrow2_col43\" class=\"data row2 col43\" >nan</td>\n",
       "                        <td id=\"T_e000c17e_f382_11e9_bf46_008cfafbe8bcrow2_col44\" class=\"data row2 col44\" >nan</td>\n",
       "                        <td id=\"T_e000c17e_f382_11e9_bf46_008cfafbe8bcrow2_col45\" class=\"data row2 col45\" >nan</td>\n",
       "                        <td id=\"T_e000c17e_f382_11e9_bf46_008cfafbe8bcrow2_col46\" class=\"data row2 col46\" >nan</td>\n",
       "                        <td id=\"T_e000c17e_f382_11e9_bf46_008cfafbe8bcrow2_col47\" class=\"data row2 col47\" >nan</td>\n",
       "                        <td id=\"T_e000c17e_f382_11e9_bf46_008cfafbe8bcrow2_col48\" class=\"data row2 col48\" >nan</td>\n",
       "                        <td id=\"T_e000c17e_f382_11e9_bf46_008cfafbe8bcrow2_col49\" class=\"data row2 col49\" >nan</td>\n",
       "                        <td id=\"T_e000c17e_f382_11e9_bf46_008cfafbe8bcrow2_col50\" class=\"data row2 col50\" >nan</td>\n",
       "                        <td id=\"T_e000c17e_f382_11e9_bf46_008cfafbe8bcrow2_col51\" class=\"data row2 col51\" >nan</td>\n",
       "                        <td id=\"T_e000c17e_f382_11e9_bf46_008cfafbe8bcrow2_col52\" class=\"data row2 col52\" >nan</td>\n",
       "                        <td id=\"T_e000c17e_f382_11e9_bf46_008cfafbe8bcrow2_col53\" class=\"data row2 col53\" >nan</td>\n",
       "                        <td id=\"T_e000c17e_f382_11e9_bf46_008cfafbe8bcrow2_col54\" class=\"data row2 col54\" >nan</td>\n",
       "                        <td id=\"T_e000c17e_f382_11e9_bf46_008cfafbe8bcrow2_col55\" class=\"data row2 col55\" >nan</td>\n",
       "                        <td id=\"T_e000c17e_f382_11e9_bf46_008cfafbe8bcrow2_col56\" class=\"data row2 col56\" >nan</td>\n",
       "                        <td id=\"T_e000c17e_f382_11e9_bf46_008cfafbe8bcrow2_col57\" class=\"data row2 col57\" >nan</td>\n",
       "                        <td id=\"T_e000c17e_f382_11e9_bf46_008cfafbe8bcrow2_col58\" class=\"data row2 col58\" >nan</td>\n",
       "                        <td id=\"T_e000c17e_f382_11e9_bf46_008cfafbe8bcrow2_col59\" class=\"data row2 col59\" >nan</td>\n",
       "                        <td id=\"T_e000c17e_f382_11e9_bf46_008cfafbe8bcrow2_col60\" class=\"data row2 col60\" >nan</td>\n",
       "                        <td id=\"T_e000c17e_f382_11e9_bf46_008cfafbe8bcrow2_col61\" class=\"data row2 col61\" >nan</td>\n",
       "                        <td id=\"T_e000c17e_f382_11e9_bf46_008cfafbe8bcrow2_col62\" class=\"data row2 col62\" >nan</td>\n",
       "                        <td id=\"T_e000c17e_f382_11e9_bf46_008cfafbe8bcrow2_col63\" class=\"data row2 col63\" >nan</td>\n",
       "                        <td id=\"T_e000c17e_f382_11e9_bf46_008cfafbe8bcrow2_col64\" class=\"data row2 col64\" >nan</td>\n",
       "                        <td id=\"T_e000c17e_f382_11e9_bf46_008cfafbe8bcrow2_col65\" class=\"data row2 col65\" >nan</td>\n",
       "                        <td id=\"T_e000c17e_f382_11e9_bf46_008cfafbe8bcrow2_col66\" class=\"data row2 col66\" >nan</td>\n",
       "                        <td id=\"T_e000c17e_f382_11e9_bf46_008cfafbe8bcrow2_col67\" class=\"data row2 col67\" >nan</td>\n",
       "                        <td id=\"T_e000c17e_f382_11e9_bf46_008cfafbe8bcrow2_col68\" class=\"data row2 col68\" >nan</td>\n",
       "                        <td id=\"T_e000c17e_f382_11e9_bf46_008cfafbe8bcrow2_col69\" class=\"data row2 col69\" >nan</td>\n",
       "                        <td id=\"T_e000c17e_f382_11e9_bf46_008cfafbe8bcrow2_col70\" class=\"data row2 col70\" >nan</td>\n",
       "                        <td id=\"T_e000c17e_f382_11e9_bf46_008cfafbe8bcrow2_col71\" class=\"data row2 col71\" >nan</td>\n",
       "                        <td id=\"T_e000c17e_f382_11e9_bf46_008cfafbe8bcrow2_col72\" class=\"data row2 col72\" >nan</td>\n",
       "                        <td id=\"T_e000c17e_f382_11e9_bf46_008cfafbe8bcrow2_col73\" class=\"data row2 col73\" >nan</td>\n",
       "                        <td id=\"T_e000c17e_f382_11e9_bf46_008cfafbe8bcrow2_col74\" class=\"data row2 col74\" >nan</td>\n",
       "                        <td id=\"T_e000c17e_f382_11e9_bf46_008cfafbe8bcrow2_col75\" class=\"data row2 col75\" >nan</td>\n",
       "                        <td id=\"T_e000c17e_f382_11e9_bf46_008cfafbe8bcrow2_col76\" class=\"data row2 col76\" >nan</td>\n",
       "            </tr>\n",
       "            <tr>\n",
       "                                <td id=\"T_e000c17e_f382_11e9_bf46_008cfafbe8bcrow3_col0\" class=\"data row3 col0\" >36</td>\n",
       "                        <td id=\"T_e000c17e_f382_11e9_bf46_008cfafbe8bcrow3_col1\" class=\"data row3 col1\" >ReLU()</td>\n",
       "                        <td id=\"T_e000c17e_f382_11e9_bf46_008cfafbe8bcrow3_col2\" class=\"data row3 col2\" >BatchNorm2d(1, eps=1e-05, momentum=0.1, affine=True, track_running_stats=True)</td>\n",
       "                        <td id=\"T_e000c17e_f382_11e9_bf46_008cfafbe8bcrow3_col3\" class=\"data row3 col3\" >Conv2d(1, 64, kernel_size=(3, 3), stride=(1, 1), padding=(1, 1))</td>\n",
       "                        <td id=\"T_e000c17e_f382_11e9_bf46_008cfafbe8bcrow3_col4\" class=\"data row3 col4\" >MaxPool2d(kernel_size=2, stride=2, padding=0, dilation=1, ceil_mode=False)</td>\n",
       "                        <td id=\"T_e000c17e_f382_11e9_bf46_008cfafbe8bcrow3_col5\" class=\"data row3 col5\" >ReLU()</td>\n",
       "                        <td id=\"T_e000c17e_f382_11e9_bf46_008cfafbe8bcrow3_col6\" class=\"data row3 col6\" >BatchNorm2d(64, eps=1e-05, momentum=0.1, affine=True, track_running_stats=True)</td>\n",
       "                        <td id=\"T_e000c17e_f382_11e9_bf46_008cfafbe8bcrow3_col7\" class=\"data row3 col7\" >Conv2d(64, 64, kernel_size=(3, 3), stride=(1, 1), padding=(1, 1))</td>\n",
       "                        <td id=\"T_e000c17e_f382_11e9_bf46_008cfafbe8bcrow3_col8\" class=\"data row3 col8\" >MaxPool2d(kernel_size=2, stride=2, padding=0, dilation=1, ceil_mode=False)</td>\n",
       "                        <td id=\"T_e000c17e_f382_11e9_bf46_008cfafbe8bcrow3_col9\" class=\"data row3 col9\" >ReLU()</td>\n",
       "                        <td id=\"T_e000c17e_f382_11e9_bf46_008cfafbe8bcrow3_col10\" class=\"data row3 col10\" >BatchNorm2d(64, eps=1e-05, momentum=0.1, affine=True, track_running_stats=True)</td>\n",
       "                        <td id=\"T_e000c17e_f382_11e9_bf46_008cfafbe8bcrow3_col11\" class=\"data row3 col11\" >Conv2d(64, 64, kernel_size=(3, 3), stride=(1, 1), padding=(1, 1))</td>\n",
       "                        <td id=\"T_e000c17e_f382_11e9_bf46_008cfafbe8bcrow3_col12\" class=\"data row3 col12\" >MaxPool2d(kernel_size=2, stride=2, padding=0, dilation=1, ceil_mode=False)</td>\n",
       "                        <td id=\"T_e000c17e_f382_11e9_bf46_008cfafbe8bcrow3_col13\" class=\"data row3 col13\" >GlobalAvgPool2d()</td>\n",
       "                        <td id=\"T_e000c17e_f382_11e9_bf46_008cfafbe8bcrow3_col14\" class=\"data row3 col14\" >Dropout2d(p=0.25)</td>\n",
       "                        <td id=\"T_e000c17e_f382_11e9_bf46_008cfafbe8bcrow3_col15\" class=\"data row3 col15\" >Linear(in_features=64, out_features=64, bias=True)</td>\n",
       "                        <td id=\"T_e000c17e_f382_11e9_bf46_008cfafbe8bcrow3_col16\" class=\"data row3 col16\" >ReLU()</td>\n",
       "                        <td id=\"T_e000c17e_f382_11e9_bf46_008cfafbe8bcrow3_col17\" class=\"data row3 col17\" >Linear(in_features=64, out_features=10, bias=True)</td>\n",
       "                        <td id=\"T_e000c17e_f382_11e9_bf46_008cfafbe8bcrow3_col18\" class=\"data row3 col18\" >nan</td>\n",
       "                        <td id=\"T_e000c17e_f382_11e9_bf46_008cfafbe8bcrow3_col19\" class=\"data row3 col19\" >nan</td>\n",
       "                        <td id=\"T_e000c17e_f382_11e9_bf46_008cfafbe8bcrow3_col20\" class=\"data row3 col20\" >nan</td>\n",
       "                        <td id=\"T_e000c17e_f382_11e9_bf46_008cfafbe8bcrow3_col21\" class=\"data row3 col21\" >nan</td>\n",
       "                        <td id=\"T_e000c17e_f382_11e9_bf46_008cfafbe8bcrow3_col22\" class=\"data row3 col22\" >nan</td>\n",
       "                        <td id=\"T_e000c17e_f382_11e9_bf46_008cfafbe8bcrow3_col23\" class=\"data row3 col23\" >nan</td>\n",
       "                        <td id=\"T_e000c17e_f382_11e9_bf46_008cfafbe8bcrow3_col24\" class=\"data row3 col24\" >nan</td>\n",
       "                        <td id=\"T_e000c17e_f382_11e9_bf46_008cfafbe8bcrow3_col25\" class=\"data row3 col25\" >nan</td>\n",
       "                        <td id=\"T_e000c17e_f382_11e9_bf46_008cfafbe8bcrow3_col26\" class=\"data row3 col26\" >nan</td>\n",
       "                        <td id=\"T_e000c17e_f382_11e9_bf46_008cfafbe8bcrow3_col27\" class=\"data row3 col27\" >nan</td>\n",
       "                        <td id=\"T_e000c17e_f382_11e9_bf46_008cfafbe8bcrow3_col28\" class=\"data row3 col28\" >nan</td>\n",
       "                        <td id=\"T_e000c17e_f382_11e9_bf46_008cfafbe8bcrow3_col29\" class=\"data row3 col29\" >nan</td>\n",
       "                        <td id=\"T_e000c17e_f382_11e9_bf46_008cfafbe8bcrow3_col30\" class=\"data row3 col30\" >nan</td>\n",
       "                        <td id=\"T_e000c17e_f382_11e9_bf46_008cfafbe8bcrow3_col31\" class=\"data row3 col31\" >nan</td>\n",
       "                        <td id=\"T_e000c17e_f382_11e9_bf46_008cfafbe8bcrow3_col32\" class=\"data row3 col32\" >nan</td>\n",
       "                        <td id=\"T_e000c17e_f382_11e9_bf46_008cfafbe8bcrow3_col33\" class=\"data row3 col33\" >nan</td>\n",
       "                        <td id=\"T_e000c17e_f382_11e9_bf46_008cfafbe8bcrow3_col34\" class=\"data row3 col34\" >nan</td>\n",
       "                        <td id=\"T_e000c17e_f382_11e9_bf46_008cfafbe8bcrow3_col35\" class=\"data row3 col35\" >nan</td>\n",
       "                        <td id=\"T_e000c17e_f382_11e9_bf46_008cfafbe8bcrow3_col36\" class=\"data row3 col36\" >nan</td>\n",
       "                        <td id=\"T_e000c17e_f382_11e9_bf46_008cfafbe8bcrow3_col37\" class=\"data row3 col37\" >nan</td>\n",
       "                        <td id=\"T_e000c17e_f382_11e9_bf46_008cfafbe8bcrow3_col38\" class=\"data row3 col38\" >nan</td>\n",
       "                        <td id=\"T_e000c17e_f382_11e9_bf46_008cfafbe8bcrow3_col39\" class=\"data row3 col39\" >nan</td>\n",
       "                        <td id=\"T_e000c17e_f382_11e9_bf46_008cfafbe8bcrow3_col40\" class=\"data row3 col40\" >nan</td>\n",
       "                        <td id=\"T_e000c17e_f382_11e9_bf46_008cfafbe8bcrow3_col41\" class=\"data row3 col41\" >nan</td>\n",
       "                        <td id=\"T_e000c17e_f382_11e9_bf46_008cfafbe8bcrow3_col42\" class=\"data row3 col42\" >nan</td>\n",
       "                        <td id=\"T_e000c17e_f382_11e9_bf46_008cfafbe8bcrow3_col43\" class=\"data row3 col43\" >nan</td>\n",
       "                        <td id=\"T_e000c17e_f382_11e9_bf46_008cfafbe8bcrow3_col44\" class=\"data row3 col44\" >nan</td>\n",
       "                        <td id=\"T_e000c17e_f382_11e9_bf46_008cfafbe8bcrow3_col45\" class=\"data row3 col45\" >nan</td>\n",
       "                        <td id=\"T_e000c17e_f382_11e9_bf46_008cfafbe8bcrow3_col46\" class=\"data row3 col46\" >nan</td>\n",
       "                        <td id=\"T_e000c17e_f382_11e9_bf46_008cfafbe8bcrow3_col47\" class=\"data row3 col47\" >nan</td>\n",
       "                        <td id=\"T_e000c17e_f382_11e9_bf46_008cfafbe8bcrow3_col48\" class=\"data row3 col48\" >nan</td>\n",
       "                        <td id=\"T_e000c17e_f382_11e9_bf46_008cfafbe8bcrow3_col49\" class=\"data row3 col49\" >nan</td>\n",
       "                        <td id=\"T_e000c17e_f382_11e9_bf46_008cfafbe8bcrow3_col50\" class=\"data row3 col50\" >nan</td>\n",
       "                        <td id=\"T_e000c17e_f382_11e9_bf46_008cfafbe8bcrow3_col51\" class=\"data row3 col51\" >nan</td>\n",
       "                        <td id=\"T_e000c17e_f382_11e9_bf46_008cfafbe8bcrow3_col52\" class=\"data row3 col52\" >nan</td>\n",
       "                        <td id=\"T_e000c17e_f382_11e9_bf46_008cfafbe8bcrow3_col53\" class=\"data row3 col53\" >nan</td>\n",
       "                        <td id=\"T_e000c17e_f382_11e9_bf46_008cfafbe8bcrow3_col54\" class=\"data row3 col54\" >nan</td>\n",
       "                        <td id=\"T_e000c17e_f382_11e9_bf46_008cfafbe8bcrow3_col55\" class=\"data row3 col55\" >nan</td>\n",
       "                        <td id=\"T_e000c17e_f382_11e9_bf46_008cfafbe8bcrow3_col56\" class=\"data row3 col56\" >nan</td>\n",
       "                        <td id=\"T_e000c17e_f382_11e9_bf46_008cfafbe8bcrow3_col57\" class=\"data row3 col57\" >nan</td>\n",
       "                        <td id=\"T_e000c17e_f382_11e9_bf46_008cfafbe8bcrow3_col58\" class=\"data row3 col58\" >nan</td>\n",
       "                        <td id=\"T_e000c17e_f382_11e9_bf46_008cfafbe8bcrow3_col59\" class=\"data row3 col59\" >nan</td>\n",
       "                        <td id=\"T_e000c17e_f382_11e9_bf46_008cfafbe8bcrow3_col60\" class=\"data row3 col60\" >nan</td>\n",
       "                        <td id=\"T_e000c17e_f382_11e9_bf46_008cfafbe8bcrow3_col61\" class=\"data row3 col61\" >nan</td>\n",
       "                        <td id=\"T_e000c17e_f382_11e9_bf46_008cfafbe8bcrow3_col62\" class=\"data row3 col62\" >nan</td>\n",
       "                        <td id=\"T_e000c17e_f382_11e9_bf46_008cfafbe8bcrow3_col63\" class=\"data row3 col63\" >nan</td>\n",
       "                        <td id=\"T_e000c17e_f382_11e9_bf46_008cfafbe8bcrow3_col64\" class=\"data row3 col64\" >nan</td>\n",
       "                        <td id=\"T_e000c17e_f382_11e9_bf46_008cfafbe8bcrow3_col65\" class=\"data row3 col65\" >nan</td>\n",
       "                        <td id=\"T_e000c17e_f382_11e9_bf46_008cfafbe8bcrow3_col66\" class=\"data row3 col66\" >nan</td>\n",
       "                        <td id=\"T_e000c17e_f382_11e9_bf46_008cfafbe8bcrow3_col67\" class=\"data row3 col67\" >nan</td>\n",
       "                        <td id=\"T_e000c17e_f382_11e9_bf46_008cfafbe8bcrow3_col68\" class=\"data row3 col68\" >nan</td>\n",
       "                        <td id=\"T_e000c17e_f382_11e9_bf46_008cfafbe8bcrow3_col69\" class=\"data row3 col69\" >nan</td>\n",
       "                        <td id=\"T_e000c17e_f382_11e9_bf46_008cfafbe8bcrow3_col70\" class=\"data row3 col70\" >nan</td>\n",
       "                        <td id=\"T_e000c17e_f382_11e9_bf46_008cfafbe8bcrow3_col71\" class=\"data row3 col71\" >nan</td>\n",
       "                        <td id=\"T_e000c17e_f382_11e9_bf46_008cfafbe8bcrow3_col72\" class=\"data row3 col72\" >nan</td>\n",
       "                        <td id=\"T_e000c17e_f382_11e9_bf46_008cfafbe8bcrow3_col73\" class=\"data row3 col73\" >nan</td>\n",
       "                        <td id=\"T_e000c17e_f382_11e9_bf46_008cfafbe8bcrow3_col74\" class=\"data row3 col74\" >nan</td>\n",
       "                        <td id=\"T_e000c17e_f382_11e9_bf46_008cfafbe8bcrow3_col75\" class=\"data row3 col75\" >nan</td>\n",
       "                        <td id=\"T_e000c17e_f382_11e9_bf46_008cfafbe8bcrow3_col76\" class=\"data row3 col76\" >nan</td>\n",
       "            </tr>\n",
       "            <tr>\n",
       "                                <td id=\"T_e000c17e_f382_11e9_bf46_008cfafbe8bcrow4_col0\" class=\"data row4 col0\" >48</td>\n",
       "                        <td id=\"T_e000c17e_f382_11e9_bf46_008cfafbe8bcrow4_col1\" class=\"data row4 col1\" >Conv2d(1, 64, kernel_size=(3, 3), stride=(1, 1), padding=(1, 1))</td>\n",
       "                        <td id=\"T_e000c17e_f382_11e9_bf46_008cfafbe8bcrow4_col2\" class=\"data row4 col2\" >BatchNorm2d(64, eps=1e-05, momentum=0.1, affine=True, track_running_stats=True)</td>\n",
       "                        <td id=\"T_e000c17e_f382_11e9_bf46_008cfafbe8bcrow4_col3\" class=\"data row4 col3\" >BatchNorm2d(64, eps=1e-05, momentum=0.1, affine=True, track_running_stats=True)</td>\n",
       "                        <td id=\"T_e000c17e_f382_11e9_bf46_008cfafbe8bcrow4_col4\" class=\"data row4 col4\" >ReLU()</td>\n",
       "                        <td id=\"T_e000c17e_f382_11e9_bf46_008cfafbe8bcrow4_col5\" class=\"data row4 col5\" >Conv2d(64, 64, kernel_size=(3, 3), stride=(1, 1), padding=(1, 1))</td>\n",
       "                        <td id=\"T_e000c17e_f382_11e9_bf46_008cfafbe8bcrow4_col6\" class=\"data row4 col6\" >BatchNorm2d(64, eps=1e-05, momentum=0.1, affine=True, track_running_stats=True)</td>\n",
       "                        <td id=\"T_e000c17e_f382_11e9_bf46_008cfafbe8bcrow4_col7\" class=\"data row4 col7\" >ReLU()</td>\n",
       "                        <td id=\"T_e000c17e_f382_11e9_bf46_008cfafbe8bcrow4_col8\" class=\"data row4 col8\" >Conv2d(64, 64, kernel_size=(3, 3), stride=(1, 1), padding=(1, 1))</td>\n",
       "                        <td id=\"T_e000c17e_f382_11e9_bf46_008cfafbe8bcrow4_col9\" class=\"data row4 col9\" >ReLU()</td>\n",
       "                        <td id=\"T_e000c17e_f382_11e9_bf46_008cfafbe8bcrow4_col10\" class=\"data row4 col10\" >Conv2d(64, 64, kernel_size=(1, 1), stride=(1, 1))</td>\n",
       "                        <td id=\"T_e000c17e_f382_11e9_bf46_008cfafbe8bcrow4_col11\" class=\"data row4 col11\" >TorchAdd()</td>\n",
       "                        <td id=\"T_e000c17e_f382_11e9_bf46_008cfafbe8bcrow4_col12\" class=\"data row4 col12\" >BatchNorm2d(64, eps=1e-05, momentum=0.1, affine=True, track_running_stats=True)</td>\n",
       "                        <td id=\"T_e000c17e_f382_11e9_bf46_008cfafbe8bcrow4_col13\" class=\"data row4 col13\" >ReLU()</td>\n",
       "                        <td id=\"T_e000c17e_f382_11e9_bf46_008cfafbe8bcrow4_col14\" class=\"data row4 col14\" >Conv2d(64, 64, kernel_size=(3, 3), stride=(1, 1), padding=(1, 1))</td>\n",
       "                        <td id=\"T_e000c17e_f382_11e9_bf46_008cfafbe8bcrow4_col15\" class=\"data row4 col15\" >BatchNorm2d(64, eps=1e-05, momentum=0.1, affine=True, track_running_stats=True)</td>\n",
       "                        <td id=\"T_e000c17e_f382_11e9_bf46_008cfafbe8bcrow4_col16\" class=\"data row4 col16\" >ReLU()</td>\n",
       "                        <td id=\"T_e000c17e_f382_11e9_bf46_008cfafbe8bcrow4_col17\" class=\"data row4 col17\" >Conv2d(64, 64, kernel_size=(3, 3), stride=(1, 1), padding=(1, 1))</td>\n",
       "                        <td id=\"T_e000c17e_f382_11e9_bf46_008cfafbe8bcrow4_col18\" class=\"data row4 col18\" >ReLU()</td>\n",
       "                        <td id=\"T_e000c17e_f382_11e9_bf46_008cfafbe8bcrow4_col19\" class=\"data row4 col19\" >Conv2d(64, 64, kernel_size=(1, 1), stride=(1, 1))</td>\n",
       "                        <td id=\"T_e000c17e_f382_11e9_bf46_008cfafbe8bcrow4_col20\" class=\"data row4 col20\" >TorchAdd()</td>\n",
       "                        <td id=\"T_e000c17e_f382_11e9_bf46_008cfafbe8bcrow4_col21\" class=\"data row4 col21\" >BatchNorm2d(64, eps=1e-05, momentum=0.1, affine=True, track_running_stats=True)</td>\n",
       "                        <td id=\"T_e000c17e_f382_11e9_bf46_008cfafbe8bcrow4_col22\" class=\"data row4 col22\" >ReLU()</td>\n",
       "                        <td id=\"T_e000c17e_f382_11e9_bf46_008cfafbe8bcrow4_col23\" class=\"data row4 col23\" >Conv2d(64, 128, kernel_size=(3, 3), stride=(2, 2), padding=(1, 1))</td>\n",
       "                        <td id=\"T_e000c17e_f382_11e9_bf46_008cfafbe8bcrow4_col24\" class=\"data row4 col24\" >BatchNorm2d(128, eps=1e-05, momentum=0.1, affine=True, track_running_stats=True)</td>\n",
       "                        <td id=\"T_e000c17e_f382_11e9_bf46_008cfafbe8bcrow4_col25\" class=\"data row4 col25\" >ReLU()</td>\n",
       "                        <td id=\"T_e000c17e_f382_11e9_bf46_008cfafbe8bcrow4_col26\" class=\"data row4 col26\" >Conv2d(128, 128, kernel_size=(3, 3), stride=(1, 1), padding=(1, 1))</td>\n",
       "                        <td id=\"T_e000c17e_f382_11e9_bf46_008cfafbe8bcrow4_col27\" class=\"data row4 col27\" >ReLU()</td>\n",
       "                        <td id=\"T_e000c17e_f382_11e9_bf46_008cfafbe8bcrow4_col28\" class=\"data row4 col28\" >Conv2d(64, 128, kernel_size=(1, 1), stride=(2, 2))</td>\n",
       "                        <td id=\"T_e000c17e_f382_11e9_bf46_008cfafbe8bcrow4_col29\" class=\"data row4 col29\" >TorchAdd()</td>\n",
       "                        <td id=\"T_e000c17e_f382_11e9_bf46_008cfafbe8bcrow4_col30\" class=\"data row4 col30\" >BatchNorm2d(128, eps=1e-05, momentum=0.1, affine=True, track_running_stats=True)</td>\n",
       "                        <td id=\"T_e000c17e_f382_11e9_bf46_008cfafbe8bcrow4_col31\" class=\"data row4 col31\" >ReLU()</td>\n",
       "                        <td id=\"T_e000c17e_f382_11e9_bf46_008cfafbe8bcrow4_col32\" class=\"data row4 col32\" >Conv2d(128, 128, kernel_size=(3, 3), stride=(1, 1), padding=(1, 1))</td>\n",
       "                        <td id=\"T_e000c17e_f382_11e9_bf46_008cfafbe8bcrow4_col33\" class=\"data row4 col33\" >BatchNorm2d(128, eps=1e-05, momentum=0.1, affine=True, track_running_stats=True)</td>\n",
       "                        <td id=\"T_e000c17e_f382_11e9_bf46_008cfafbe8bcrow4_col34\" class=\"data row4 col34\" >ReLU()</td>\n",
       "                        <td id=\"T_e000c17e_f382_11e9_bf46_008cfafbe8bcrow4_col35\" class=\"data row4 col35\" >Conv2d(128, 128, kernel_size=(3, 3), stride=(1, 1), padding=(1, 1))</td>\n",
       "                        <td id=\"T_e000c17e_f382_11e9_bf46_008cfafbe8bcrow4_col36\" class=\"data row4 col36\" >ReLU()</td>\n",
       "                        <td id=\"T_e000c17e_f382_11e9_bf46_008cfafbe8bcrow4_col37\" class=\"data row4 col37\" >Conv2d(128, 128, kernel_size=(1, 1), stride=(1, 1))</td>\n",
       "                        <td id=\"T_e000c17e_f382_11e9_bf46_008cfafbe8bcrow4_col38\" class=\"data row4 col38\" >TorchAdd()</td>\n",
       "                        <td id=\"T_e000c17e_f382_11e9_bf46_008cfafbe8bcrow4_col39\" class=\"data row4 col39\" >BatchNorm2d(128, eps=1e-05, momentum=0.1, affine=True, track_running_stats=True)</td>\n",
       "                        <td id=\"T_e000c17e_f382_11e9_bf46_008cfafbe8bcrow4_col40\" class=\"data row4 col40\" >ReLU()</td>\n",
       "                        <td id=\"T_e000c17e_f382_11e9_bf46_008cfafbe8bcrow4_col41\" class=\"data row4 col41\" >Conv2d(128, 256, kernel_size=(3, 3), stride=(2, 2), padding=(1, 1))</td>\n",
       "                        <td id=\"T_e000c17e_f382_11e9_bf46_008cfafbe8bcrow4_col42\" class=\"data row4 col42\" >BatchNorm2d(256, eps=1e-05, momentum=0.1, affine=True, track_running_stats=True)</td>\n",
       "                        <td id=\"T_e000c17e_f382_11e9_bf46_008cfafbe8bcrow4_col43\" class=\"data row4 col43\" >ReLU()</td>\n",
       "                        <td id=\"T_e000c17e_f382_11e9_bf46_008cfafbe8bcrow4_col44\" class=\"data row4 col44\" >Conv2d(256, 256, kernel_size=(3, 3), stride=(1, 1), padding=(1, 1))</td>\n",
       "                        <td id=\"T_e000c17e_f382_11e9_bf46_008cfafbe8bcrow4_col45\" class=\"data row4 col45\" >ReLU()</td>\n",
       "                        <td id=\"T_e000c17e_f382_11e9_bf46_008cfafbe8bcrow4_col46\" class=\"data row4 col46\" >Conv2d(128, 256, kernel_size=(1, 1), stride=(2, 2))</td>\n",
       "                        <td id=\"T_e000c17e_f382_11e9_bf46_008cfafbe8bcrow4_col47\" class=\"data row4 col47\" >TorchAdd()</td>\n",
       "                        <td id=\"T_e000c17e_f382_11e9_bf46_008cfafbe8bcrow4_col48\" class=\"data row4 col48\" >BatchNorm2d(256, eps=1e-05, momentum=0.1, affine=True, track_running_stats=True)</td>\n",
       "                        <td id=\"T_e000c17e_f382_11e9_bf46_008cfafbe8bcrow4_col49\" class=\"data row4 col49\" >ReLU()</td>\n",
       "                        <td id=\"T_e000c17e_f382_11e9_bf46_008cfafbe8bcrow4_col50\" class=\"data row4 col50\" >Conv2d(256, 256, kernel_size=(3, 3), stride=(1, 1), padding=(1, 1))</td>\n",
       "                        <td id=\"T_e000c17e_f382_11e9_bf46_008cfafbe8bcrow4_col51\" class=\"data row4 col51\" >BatchNorm2d(256, eps=1e-05, momentum=0.1, affine=True, track_running_stats=True)</td>\n",
       "                        <td id=\"T_e000c17e_f382_11e9_bf46_008cfafbe8bcrow4_col52\" class=\"data row4 col52\" >ReLU()</td>\n",
       "                        <td id=\"T_e000c17e_f382_11e9_bf46_008cfafbe8bcrow4_col53\" class=\"data row4 col53\" >Conv2d(256, 256, kernel_size=(3, 3), stride=(1, 1), padding=(1, 1))</td>\n",
       "                        <td id=\"T_e000c17e_f382_11e9_bf46_008cfafbe8bcrow4_col54\" class=\"data row4 col54\" >ReLU()</td>\n",
       "                        <td id=\"T_e000c17e_f382_11e9_bf46_008cfafbe8bcrow4_col55\" class=\"data row4 col55\" >Conv2d(256, 256, kernel_size=(1, 1), stride=(1, 1))</td>\n",
       "                        <td id=\"T_e000c17e_f382_11e9_bf46_008cfafbe8bcrow4_col56\" class=\"data row4 col56\" >TorchAdd()</td>\n",
       "                        <td id=\"T_e000c17e_f382_11e9_bf46_008cfafbe8bcrow4_col57\" class=\"data row4 col57\" >BatchNorm2d(256, eps=1e-05, momentum=0.1, affine=True, track_running_stats=True)</td>\n",
       "                        <td id=\"T_e000c17e_f382_11e9_bf46_008cfafbe8bcrow4_col58\" class=\"data row4 col58\" >ReLU()</td>\n",
       "                        <td id=\"T_e000c17e_f382_11e9_bf46_008cfafbe8bcrow4_col59\" class=\"data row4 col59\" >Conv2d(256, 512, kernel_size=(3, 3), stride=(2, 2), padding=(1, 1))</td>\n",
       "                        <td id=\"T_e000c17e_f382_11e9_bf46_008cfafbe8bcrow4_col60\" class=\"data row4 col60\" >BatchNorm2d(512, eps=1e-05, momentum=0.1, affine=True, track_running_stats=True)</td>\n",
       "                        <td id=\"T_e000c17e_f382_11e9_bf46_008cfafbe8bcrow4_col61\" class=\"data row4 col61\" >ReLU()</td>\n",
       "                        <td id=\"T_e000c17e_f382_11e9_bf46_008cfafbe8bcrow4_col62\" class=\"data row4 col62\" >Conv2d(512, 512, kernel_size=(3, 3), stride=(1, 1), padding=(1, 1))</td>\n",
       "                        <td id=\"T_e000c17e_f382_11e9_bf46_008cfafbe8bcrow4_col63\" class=\"data row4 col63\" >ReLU()</td>\n",
       "                        <td id=\"T_e000c17e_f382_11e9_bf46_008cfafbe8bcrow4_col64\" class=\"data row4 col64\" >Conv2d(256, 512, kernel_size=(1, 1), stride=(2, 2))</td>\n",
       "                        <td id=\"T_e000c17e_f382_11e9_bf46_008cfafbe8bcrow4_col65\" class=\"data row4 col65\" >TorchAdd()</td>\n",
       "                        <td id=\"T_e000c17e_f382_11e9_bf46_008cfafbe8bcrow4_col66\" class=\"data row4 col66\" >BatchNorm2d(512, eps=1e-05, momentum=0.1, affine=True, track_running_stats=True)</td>\n",
       "                        <td id=\"T_e000c17e_f382_11e9_bf46_008cfafbe8bcrow4_col67\" class=\"data row4 col67\" >ReLU()</td>\n",
       "                        <td id=\"T_e000c17e_f382_11e9_bf46_008cfafbe8bcrow4_col68\" class=\"data row4 col68\" >Conv2d(512, 512, kernel_size=(3, 3), stride=(1, 1), padding=(1, 1))</td>\n",
       "                        <td id=\"T_e000c17e_f382_11e9_bf46_008cfafbe8bcrow4_col69\" class=\"data row4 col69\" >BatchNorm2d(512, eps=1e-05, momentum=0.1, affine=True, track_running_stats=True)</td>\n",
       "                        <td id=\"T_e000c17e_f382_11e9_bf46_008cfafbe8bcrow4_col70\" class=\"data row4 col70\" >ReLU()</td>\n",
       "                        <td id=\"T_e000c17e_f382_11e9_bf46_008cfafbe8bcrow4_col71\" class=\"data row4 col71\" >Conv2d(512, 512, kernel_size=(3, 3), stride=(1, 1), padding=(1, 1))</td>\n",
       "                        <td id=\"T_e000c17e_f382_11e9_bf46_008cfafbe8bcrow4_col72\" class=\"data row4 col72\" >ReLU()</td>\n",
       "                        <td id=\"T_e000c17e_f382_11e9_bf46_008cfafbe8bcrow4_col73\" class=\"data row4 col73\" >Conv2d(512, 512, kernel_size=(1, 1), stride=(1, 1))</td>\n",
       "                        <td id=\"T_e000c17e_f382_11e9_bf46_008cfafbe8bcrow4_col74\" class=\"data row4 col74\" >TorchAdd()</td>\n",
       "                        <td id=\"T_e000c17e_f382_11e9_bf46_008cfafbe8bcrow4_col75\" class=\"data row4 col75\" >GlobalAvgPool2d()</td>\n",
       "                        <td id=\"T_e000c17e_f382_11e9_bf46_008cfafbe8bcrow4_col76\" class=\"data row4 col76\" >Linear(in_features=512, out_features=10, bias=True)</td>\n",
       "            </tr>\n",
       "            <tr>\n",
       "                                <td id=\"T_e000c17e_f382_11e9_bf46_008cfafbe8bcrow5_col0\" class=\"data row5 col0\" >60</td>\n",
       "                        <td id=\"T_e000c17e_f382_11e9_bf46_008cfafbe8bcrow5_col1\" class=\"data row5 col1\" >ReLU()</td>\n",
       "                        <td id=\"T_e000c17e_f382_11e9_bf46_008cfafbe8bcrow5_col2\" class=\"data row5 col2\" >BatchNorm2d(1, eps=1e-05, momentum=0.1, affine=True, track_running_stats=True)</td>\n",
       "                        <td id=\"T_e000c17e_f382_11e9_bf46_008cfafbe8bcrow5_col3\" class=\"data row5 col3\" >Conv2d(1, 64, kernel_size=(3, 3), stride=(1, 1), padding=(1, 1))</td>\n",
       "                        <td id=\"T_e000c17e_f382_11e9_bf46_008cfafbe8bcrow5_col4\" class=\"data row5 col4\" >MaxPool2d(kernel_size=2, stride=2, padding=0, dilation=1, ceil_mode=False)</td>\n",
       "                        <td id=\"T_e000c17e_f382_11e9_bf46_008cfafbe8bcrow5_col5\" class=\"data row5 col5\" >ReLU()</td>\n",
       "                        <td id=\"T_e000c17e_f382_11e9_bf46_008cfafbe8bcrow5_col6\" class=\"data row5 col6\" >BatchNorm2d(64, eps=1e-05, momentum=0.1, affine=True, track_running_stats=True)</td>\n",
       "                        <td id=\"T_e000c17e_f382_11e9_bf46_008cfafbe8bcrow5_col7\" class=\"data row5 col7\" >Conv2d(64, 64, kernel_size=(3, 3), stride=(1, 1), padding=(1, 1))</td>\n",
       "                        <td id=\"T_e000c17e_f382_11e9_bf46_008cfafbe8bcrow5_col8\" class=\"data row5 col8\" >MaxPool2d(kernel_size=2, stride=2, padding=0, dilation=1, ceil_mode=False)</td>\n",
       "                        <td id=\"T_e000c17e_f382_11e9_bf46_008cfafbe8bcrow5_col9\" class=\"data row5 col9\" >ReLU()</td>\n",
       "                        <td id=\"T_e000c17e_f382_11e9_bf46_008cfafbe8bcrow5_col10\" class=\"data row5 col10\" >BatchNorm2d(64, eps=1e-05, momentum=0.1, affine=True, track_running_stats=True)</td>\n",
       "                        <td id=\"T_e000c17e_f382_11e9_bf46_008cfafbe8bcrow5_col11\" class=\"data row5 col11\" >Conv2d(64, 64, kernel_size=(3, 3), stride=(1, 1), padding=(1, 1))</td>\n",
       "                        <td id=\"T_e000c17e_f382_11e9_bf46_008cfafbe8bcrow5_col12\" class=\"data row5 col12\" >MaxPool2d(kernel_size=2, stride=2, padding=0, dilation=1, ceil_mode=False)</td>\n",
       "                        <td id=\"T_e000c17e_f382_11e9_bf46_008cfafbe8bcrow5_col13\" class=\"data row5 col13\" >GlobalAvgPool2d()</td>\n",
       "                        <td id=\"T_e000c17e_f382_11e9_bf46_008cfafbe8bcrow5_col14\" class=\"data row5 col14\" >Dropout2d(p=0.25)</td>\n",
       "                        <td id=\"T_e000c17e_f382_11e9_bf46_008cfafbe8bcrow5_col15\" class=\"data row5 col15\" >Linear(in_features=64, out_features=64, bias=True)</td>\n",
       "                        <td id=\"T_e000c17e_f382_11e9_bf46_008cfafbe8bcrow5_col16\" class=\"data row5 col16\" >ReLU()</td>\n",
       "                        <td id=\"T_e000c17e_f382_11e9_bf46_008cfafbe8bcrow5_col17\" class=\"data row5 col17\" >Linear(in_features=64, out_features=10, bias=True)</td>\n",
       "                        <td id=\"T_e000c17e_f382_11e9_bf46_008cfafbe8bcrow5_col18\" class=\"data row5 col18\" >nan</td>\n",
       "                        <td id=\"T_e000c17e_f382_11e9_bf46_008cfafbe8bcrow5_col19\" class=\"data row5 col19\" >nan</td>\n",
       "                        <td id=\"T_e000c17e_f382_11e9_bf46_008cfafbe8bcrow5_col20\" class=\"data row5 col20\" >nan</td>\n",
       "                        <td id=\"T_e000c17e_f382_11e9_bf46_008cfafbe8bcrow5_col21\" class=\"data row5 col21\" >nan</td>\n",
       "                        <td id=\"T_e000c17e_f382_11e9_bf46_008cfafbe8bcrow5_col22\" class=\"data row5 col22\" >nan</td>\n",
       "                        <td id=\"T_e000c17e_f382_11e9_bf46_008cfafbe8bcrow5_col23\" class=\"data row5 col23\" >nan</td>\n",
       "                        <td id=\"T_e000c17e_f382_11e9_bf46_008cfafbe8bcrow5_col24\" class=\"data row5 col24\" >nan</td>\n",
       "                        <td id=\"T_e000c17e_f382_11e9_bf46_008cfafbe8bcrow5_col25\" class=\"data row5 col25\" >nan</td>\n",
       "                        <td id=\"T_e000c17e_f382_11e9_bf46_008cfafbe8bcrow5_col26\" class=\"data row5 col26\" >nan</td>\n",
       "                        <td id=\"T_e000c17e_f382_11e9_bf46_008cfafbe8bcrow5_col27\" class=\"data row5 col27\" >nan</td>\n",
       "                        <td id=\"T_e000c17e_f382_11e9_bf46_008cfafbe8bcrow5_col28\" class=\"data row5 col28\" >nan</td>\n",
       "                        <td id=\"T_e000c17e_f382_11e9_bf46_008cfafbe8bcrow5_col29\" class=\"data row5 col29\" >nan</td>\n",
       "                        <td id=\"T_e000c17e_f382_11e9_bf46_008cfafbe8bcrow5_col30\" class=\"data row5 col30\" >nan</td>\n",
       "                        <td id=\"T_e000c17e_f382_11e9_bf46_008cfafbe8bcrow5_col31\" class=\"data row5 col31\" >nan</td>\n",
       "                        <td id=\"T_e000c17e_f382_11e9_bf46_008cfafbe8bcrow5_col32\" class=\"data row5 col32\" >nan</td>\n",
       "                        <td id=\"T_e000c17e_f382_11e9_bf46_008cfafbe8bcrow5_col33\" class=\"data row5 col33\" >nan</td>\n",
       "                        <td id=\"T_e000c17e_f382_11e9_bf46_008cfafbe8bcrow5_col34\" class=\"data row5 col34\" >nan</td>\n",
       "                        <td id=\"T_e000c17e_f382_11e9_bf46_008cfafbe8bcrow5_col35\" class=\"data row5 col35\" >nan</td>\n",
       "                        <td id=\"T_e000c17e_f382_11e9_bf46_008cfafbe8bcrow5_col36\" class=\"data row5 col36\" >nan</td>\n",
       "                        <td id=\"T_e000c17e_f382_11e9_bf46_008cfafbe8bcrow5_col37\" class=\"data row5 col37\" >nan</td>\n",
       "                        <td id=\"T_e000c17e_f382_11e9_bf46_008cfafbe8bcrow5_col38\" class=\"data row5 col38\" >nan</td>\n",
       "                        <td id=\"T_e000c17e_f382_11e9_bf46_008cfafbe8bcrow5_col39\" class=\"data row5 col39\" >nan</td>\n",
       "                        <td id=\"T_e000c17e_f382_11e9_bf46_008cfafbe8bcrow5_col40\" class=\"data row5 col40\" >nan</td>\n",
       "                        <td id=\"T_e000c17e_f382_11e9_bf46_008cfafbe8bcrow5_col41\" class=\"data row5 col41\" >nan</td>\n",
       "                        <td id=\"T_e000c17e_f382_11e9_bf46_008cfafbe8bcrow5_col42\" class=\"data row5 col42\" >nan</td>\n",
       "                        <td id=\"T_e000c17e_f382_11e9_bf46_008cfafbe8bcrow5_col43\" class=\"data row5 col43\" >nan</td>\n",
       "                        <td id=\"T_e000c17e_f382_11e9_bf46_008cfafbe8bcrow5_col44\" class=\"data row5 col44\" >nan</td>\n",
       "                        <td id=\"T_e000c17e_f382_11e9_bf46_008cfafbe8bcrow5_col45\" class=\"data row5 col45\" >nan</td>\n",
       "                        <td id=\"T_e000c17e_f382_11e9_bf46_008cfafbe8bcrow5_col46\" class=\"data row5 col46\" >nan</td>\n",
       "                        <td id=\"T_e000c17e_f382_11e9_bf46_008cfafbe8bcrow5_col47\" class=\"data row5 col47\" >nan</td>\n",
       "                        <td id=\"T_e000c17e_f382_11e9_bf46_008cfafbe8bcrow5_col48\" class=\"data row5 col48\" >nan</td>\n",
       "                        <td id=\"T_e000c17e_f382_11e9_bf46_008cfafbe8bcrow5_col49\" class=\"data row5 col49\" >nan</td>\n",
       "                        <td id=\"T_e000c17e_f382_11e9_bf46_008cfafbe8bcrow5_col50\" class=\"data row5 col50\" >nan</td>\n",
       "                        <td id=\"T_e000c17e_f382_11e9_bf46_008cfafbe8bcrow5_col51\" class=\"data row5 col51\" >nan</td>\n",
       "                        <td id=\"T_e000c17e_f382_11e9_bf46_008cfafbe8bcrow5_col52\" class=\"data row5 col52\" >nan</td>\n",
       "                        <td id=\"T_e000c17e_f382_11e9_bf46_008cfafbe8bcrow5_col53\" class=\"data row5 col53\" >nan</td>\n",
       "                        <td id=\"T_e000c17e_f382_11e9_bf46_008cfafbe8bcrow5_col54\" class=\"data row5 col54\" >nan</td>\n",
       "                        <td id=\"T_e000c17e_f382_11e9_bf46_008cfafbe8bcrow5_col55\" class=\"data row5 col55\" >nan</td>\n",
       "                        <td id=\"T_e000c17e_f382_11e9_bf46_008cfafbe8bcrow5_col56\" class=\"data row5 col56\" >nan</td>\n",
       "                        <td id=\"T_e000c17e_f382_11e9_bf46_008cfafbe8bcrow5_col57\" class=\"data row5 col57\" >nan</td>\n",
       "                        <td id=\"T_e000c17e_f382_11e9_bf46_008cfafbe8bcrow5_col58\" class=\"data row5 col58\" >nan</td>\n",
       "                        <td id=\"T_e000c17e_f382_11e9_bf46_008cfafbe8bcrow5_col59\" class=\"data row5 col59\" >nan</td>\n",
       "                        <td id=\"T_e000c17e_f382_11e9_bf46_008cfafbe8bcrow5_col60\" class=\"data row5 col60\" >nan</td>\n",
       "                        <td id=\"T_e000c17e_f382_11e9_bf46_008cfafbe8bcrow5_col61\" class=\"data row5 col61\" >nan</td>\n",
       "                        <td id=\"T_e000c17e_f382_11e9_bf46_008cfafbe8bcrow5_col62\" class=\"data row5 col62\" >nan</td>\n",
       "                        <td id=\"T_e000c17e_f382_11e9_bf46_008cfafbe8bcrow5_col63\" class=\"data row5 col63\" >nan</td>\n",
       "                        <td id=\"T_e000c17e_f382_11e9_bf46_008cfafbe8bcrow5_col64\" class=\"data row5 col64\" >nan</td>\n",
       "                        <td id=\"T_e000c17e_f382_11e9_bf46_008cfafbe8bcrow5_col65\" class=\"data row5 col65\" >nan</td>\n",
       "                        <td id=\"T_e000c17e_f382_11e9_bf46_008cfafbe8bcrow5_col66\" class=\"data row5 col66\" >nan</td>\n",
       "                        <td id=\"T_e000c17e_f382_11e9_bf46_008cfafbe8bcrow5_col67\" class=\"data row5 col67\" >nan</td>\n",
       "                        <td id=\"T_e000c17e_f382_11e9_bf46_008cfafbe8bcrow5_col68\" class=\"data row5 col68\" >nan</td>\n",
       "                        <td id=\"T_e000c17e_f382_11e9_bf46_008cfafbe8bcrow5_col69\" class=\"data row5 col69\" >nan</td>\n",
       "                        <td id=\"T_e000c17e_f382_11e9_bf46_008cfafbe8bcrow5_col70\" class=\"data row5 col70\" >nan</td>\n",
       "                        <td id=\"T_e000c17e_f382_11e9_bf46_008cfafbe8bcrow5_col71\" class=\"data row5 col71\" >nan</td>\n",
       "                        <td id=\"T_e000c17e_f382_11e9_bf46_008cfafbe8bcrow5_col72\" class=\"data row5 col72\" >nan</td>\n",
       "                        <td id=\"T_e000c17e_f382_11e9_bf46_008cfafbe8bcrow5_col73\" class=\"data row5 col73\" >nan</td>\n",
       "                        <td id=\"T_e000c17e_f382_11e9_bf46_008cfafbe8bcrow5_col74\" class=\"data row5 col74\" >nan</td>\n",
       "                        <td id=\"T_e000c17e_f382_11e9_bf46_008cfafbe8bcrow5_col75\" class=\"data row5 col75\" >nan</td>\n",
       "                        <td id=\"T_e000c17e_f382_11e9_bf46_008cfafbe8bcrow5_col76\" class=\"data row5 col76\" >nan</td>\n",
       "            </tr>\n",
       "            <tr>\n",
       "                                <td id=\"T_e000c17e_f382_11e9_bf46_008cfafbe8bcrow6_col0\" class=\"data row6 col0\" >72</td>\n",
       "                        <td id=\"T_e000c17e_f382_11e9_bf46_008cfafbe8bcrow6_col1\" class=\"data row6 col1\" >ReLU()</td>\n",
       "                        <td id=\"T_e000c17e_f382_11e9_bf46_008cfafbe8bcrow6_col2\" class=\"data row6 col2\" >BatchNorm2d(1, eps=1e-05, momentum=0.1, affine=True, track_running_stats=True)</td>\n",
       "                        <td id=\"T_e000c17e_f382_11e9_bf46_008cfafbe8bcrow6_col3\" class=\"data row6 col3\" >Conv2d(1, 64, kernel_size=(3, 3), stride=(1, 1), padding=(1, 1))</td>\n",
       "                        <td id=\"T_e000c17e_f382_11e9_bf46_008cfafbe8bcrow6_col4\" class=\"data row6 col4\" >MaxPool2d(kernel_size=2, stride=2, padding=0, dilation=1, ceil_mode=False)</td>\n",
       "                        <td id=\"T_e000c17e_f382_11e9_bf46_008cfafbe8bcrow6_col5\" class=\"data row6 col5\" >ReLU()</td>\n",
       "                        <td id=\"T_e000c17e_f382_11e9_bf46_008cfafbe8bcrow6_col6\" class=\"data row6 col6\" >BatchNorm2d(64, eps=1e-05, momentum=0.1, affine=True, track_running_stats=True)</td>\n",
       "                        <td id=\"T_e000c17e_f382_11e9_bf46_008cfafbe8bcrow6_col7\" class=\"data row6 col7\" >Conv2d(64, 64, kernel_size=(3, 3), stride=(1, 1), padding=(1, 1))</td>\n",
       "                        <td id=\"T_e000c17e_f382_11e9_bf46_008cfafbe8bcrow6_col8\" class=\"data row6 col8\" >MaxPool2d(kernel_size=2, stride=2, padding=0, dilation=1, ceil_mode=False)</td>\n",
       "                        <td id=\"T_e000c17e_f382_11e9_bf46_008cfafbe8bcrow6_col9\" class=\"data row6 col9\" >ReLU()</td>\n",
       "                        <td id=\"T_e000c17e_f382_11e9_bf46_008cfafbe8bcrow6_col10\" class=\"data row6 col10\" >BatchNorm2d(64, eps=1e-05, momentum=0.1, affine=True, track_running_stats=True)</td>\n",
       "                        <td id=\"T_e000c17e_f382_11e9_bf46_008cfafbe8bcrow6_col11\" class=\"data row6 col11\" >Conv2d(64, 64, kernel_size=(3, 3), stride=(1, 1), padding=(1, 1))</td>\n",
       "                        <td id=\"T_e000c17e_f382_11e9_bf46_008cfafbe8bcrow6_col12\" class=\"data row6 col12\" >MaxPool2d(kernel_size=2, stride=2, padding=0, dilation=1, ceil_mode=False)</td>\n",
       "                        <td id=\"T_e000c17e_f382_11e9_bf46_008cfafbe8bcrow6_col13\" class=\"data row6 col13\" >GlobalAvgPool2d()</td>\n",
       "                        <td id=\"T_e000c17e_f382_11e9_bf46_008cfafbe8bcrow6_col14\" class=\"data row6 col14\" >Dropout2d(p=0.25)</td>\n",
       "                        <td id=\"T_e000c17e_f382_11e9_bf46_008cfafbe8bcrow6_col15\" class=\"data row6 col15\" >Linear(in_features=64, out_features=64, bias=True)</td>\n",
       "                        <td id=\"T_e000c17e_f382_11e9_bf46_008cfafbe8bcrow6_col16\" class=\"data row6 col16\" >ReLU()</td>\n",
       "                        <td id=\"T_e000c17e_f382_11e9_bf46_008cfafbe8bcrow6_col17\" class=\"data row6 col17\" >Linear(in_features=64, out_features=10, bias=True)</td>\n",
       "                        <td id=\"T_e000c17e_f382_11e9_bf46_008cfafbe8bcrow6_col18\" class=\"data row6 col18\" >nan</td>\n",
       "                        <td id=\"T_e000c17e_f382_11e9_bf46_008cfafbe8bcrow6_col19\" class=\"data row6 col19\" >nan</td>\n",
       "                        <td id=\"T_e000c17e_f382_11e9_bf46_008cfafbe8bcrow6_col20\" class=\"data row6 col20\" >nan</td>\n",
       "                        <td id=\"T_e000c17e_f382_11e9_bf46_008cfafbe8bcrow6_col21\" class=\"data row6 col21\" >nan</td>\n",
       "                        <td id=\"T_e000c17e_f382_11e9_bf46_008cfafbe8bcrow6_col22\" class=\"data row6 col22\" >nan</td>\n",
       "                        <td id=\"T_e000c17e_f382_11e9_bf46_008cfafbe8bcrow6_col23\" class=\"data row6 col23\" >nan</td>\n",
       "                        <td id=\"T_e000c17e_f382_11e9_bf46_008cfafbe8bcrow6_col24\" class=\"data row6 col24\" >nan</td>\n",
       "                        <td id=\"T_e000c17e_f382_11e9_bf46_008cfafbe8bcrow6_col25\" class=\"data row6 col25\" >nan</td>\n",
       "                        <td id=\"T_e000c17e_f382_11e9_bf46_008cfafbe8bcrow6_col26\" class=\"data row6 col26\" >nan</td>\n",
       "                        <td id=\"T_e000c17e_f382_11e9_bf46_008cfafbe8bcrow6_col27\" class=\"data row6 col27\" >nan</td>\n",
       "                        <td id=\"T_e000c17e_f382_11e9_bf46_008cfafbe8bcrow6_col28\" class=\"data row6 col28\" >nan</td>\n",
       "                        <td id=\"T_e000c17e_f382_11e9_bf46_008cfafbe8bcrow6_col29\" class=\"data row6 col29\" >nan</td>\n",
       "                        <td id=\"T_e000c17e_f382_11e9_bf46_008cfafbe8bcrow6_col30\" class=\"data row6 col30\" >nan</td>\n",
       "                        <td id=\"T_e000c17e_f382_11e9_bf46_008cfafbe8bcrow6_col31\" class=\"data row6 col31\" >nan</td>\n",
       "                        <td id=\"T_e000c17e_f382_11e9_bf46_008cfafbe8bcrow6_col32\" class=\"data row6 col32\" >nan</td>\n",
       "                        <td id=\"T_e000c17e_f382_11e9_bf46_008cfafbe8bcrow6_col33\" class=\"data row6 col33\" >nan</td>\n",
       "                        <td id=\"T_e000c17e_f382_11e9_bf46_008cfafbe8bcrow6_col34\" class=\"data row6 col34\" >nan</td>\n",
       "                        <td id=\"T_e000c17e_f382_11e9_bf46_008cfafbe8bcrow6_col35\" class=\"data row6 col35\" >nan</td>\n",
       "                        <td id=\"T_e000c17e_f382_11e9_bf46_008cfafbe8bcrow6_col36\" class=\"data row6 col36\" >nan</td>\n",
       "                        <td id=\"T_e000c17e_f382_11e9_bf46_008cfafbe8bcrow6_col37\" class=\"data row6 col37\" >nan</td>\n",
       "                        <td id=\"T_e000c17e_f382_11e9_bf46_008cfafbe8bcrow6_col38\" class=\"data row6 col38\" >nan</td>\n",
       "                        <td id=\"T_e000c17e_f382_11e9_bf46_008cfafbe8bcrow6_col39\" class=\"data row6 col39\" >nan</td>\n",
       "                        <td id=\"T_e000c17e_f382_11e9_bf46_008cfafbe8bcrow6_col40\" class=\"data row6 col40\" >nan</td>\n",
       "                        <td id=\"T_e000c17e_f382_11e9_bf46_008cfafbe8bcrow6_col41\" class=\"data row6 col41\" >nan</td>\n",
       "                        <td id=\"T_e000c17e_f382_11e9_bf46_008cfafbe8bcrow6_col42\" class=\"data row6 col42\" >nan</td>\n",
       "                        <td id=\"T_e000c17e_f382_11e9_bf46_008cfafbe8bcrow6_col43\" class=\"data row6 col43\" >nan</td>\n",
       "                        <td id=\"T_e000c17e_f382_11e9_bf46_008cfafbe8bcrow6_col44\" class=\"data row6 col44\" >nan</td>\n",
       "                        <td id=\"T_e000c17e_f382_11e9_bf46_008cfafbe8bcrow6_col45\" class=\"data row6 col45\" >nan</td>\n",
       "                        <td id=\"T_e000c17e_f382_11e9_bf46_008cfafbe8bcrow6_col46\" class=\"data row6 col46\" >nan</td>\n",
       "                        <td id=\"T_e000c17e_f382_11e9_bf46_008cfafbe8bcrow6_col47\" class=\"data row6 col47\" >nan</td>\n",
       "                        <td id=\"T_e000c17e_f382_11e9_bf46_008cfafbe8bcrow6_col48\" class=\"data row6 col48\" >nan</td>\n",
       "                        <td id=\"T_e000c17e_f382_11e9_bf46_008cfafbe8bcrow6_col49\" class=\"data row6 col49\" >nan</td>\n",
       "                        <td id=\"T_e000c17e_f382_11e9_bf46_008cfafbe8bcrow6_col50\" class=\"data row6 col50\" >nan</td>\n",
       "                        <td id=\"T_e000c17e_f382_11e9_bf46_008cfafbe8bcrow6_col51\" class=\"data row6 col51\" >nan</td>\n",
       "                        <td id=\"T_e000c17e_f382_11e9_bf46_008cfafbe8bcrow6_col52\" class=\"data row6 col52\" >nan</td>\n",
       "                        <td id=\"T_e000c17e_f382_11e9_bf46_008cfafbe8bcrow6_col53\" class=\"data row6 col53\" >nan</td>\n",
       "                        <td id=\"T_e000c17e_f382_11e9_bf46_008cfafbe8bcrow6_col54\" class=\"data row6 col54\" >nan</td>\n",
       "                        <td id=\"T_e000c17e_f382_11e9_bf46_008cfafbe8bcrow6_col55\" class=\"data row6 col55\" >nan</td>\n",
       "                        <td id=\"T_e000c17e_f382_11e9_bf46_008cfafbe8bcrow6_col56\" class=\"data row6 col56\" >nan</td>\n",
       "                        <td id=\"T_e000c17e_f382_11e9_bf46_008cfafbe8bcrow6_col57\" class=\"data row6 col57\" >nan</td>\n",
       "                        <td id=\"T_e000c17e_f382_11e9_bf46_008cfafbe8bcrow6_col58\" class=\"data row6 col58\" >nan</td>\n",
       "                        <td id=\"T_e000c17e_f382_11e9_bf46_008cfafbe8bcrow6_col59\" class=\"data row6 col59\" >nan</td>\n",
       "                        <td id=\"T_e000c17e_f382_11e9_bf46_008cfafbe8bcrow6_col60\" class=\"data row6 col60\" >nan</td>\n",
       "                        <td id=\"T_e000c17e_f382_11e9_bf46_008cfafbe8bcrow6_col61\" class=\"data row6 col61\" >nan</td>\n",
       "                        <td id=\"T_e000c17e_f382_11e9_bf46_008cfafbe8bcrow6_col62\" class=\"data row6 col62\" >nan</td>\n",
       "                        <td id=\"T_e000c17e_f382_11e9_bf46_008cfafbe8bcrow6_col63\" class=\"data row6 col63\" >nan</td>\n",
       "                        <td id=\"T_e000c17e_f382_11e9_bf46_008cfafbe8bcrow6_col64\" class=\"data row6 col64\" >nan</td>\n",
       "                        <td id=\"T_e000c17e_f382_11e9_bf46_008cfafbe8bcrow6_col65\" class=\"data row6 col65\" >nan</td>\n",
       "                        <td id=\"T_e000c17e_f382_11e9_bf46_008cfafbe8bcrow6_col66\" class=\"data row6 col66\" >nan</td>\n",
       "                        <td id=\"T_e000c17e_f382_11e9_bf46_008cfafbe8bcrow6_col67\" class=\"data row6 col67\" >nan</td>\n",
       "                        <td id=\"T_e000c17e_f382_11e9_bf46_008cfafbe8bcrow6_col68\" class=\"data row6 col68\" >nan</td>\n",
       "                        <td id=\"T_e000c17e_f382_11e9_bf46_008cfafbe8bcrow6_col69\" class=\"data row6 col69\" >nan</td>\n",
       "                        <td id=\"T_e000c17e_f382_11e9_bf46_008cfafbe8bcrow6_col70\" class=\"data row6 col70\" >nan</td>\n",
       "                        <td id=\"T_e000c17e_f382_11e9_bf46_008cfafbe8bcrow6_col71\" class=\"data row6 col71\" >nan</td>\n",
       "                        <td id=\"T_e000c17e_f382_11e9_bf46_008cfafbe8bcrow6_col72\" class=\"data row6 col72\" >nan</td>\n",
       "                        <td id=\"T_e000c17e_f382_11e9_bf46_008cfafbe8bcrow6_col73\" class=\"data row6 col73\" >nan</td>\n",
       "                        <td id=\"T_e000c17e_f382_11e9_bf46_008cfafbe8bcrow6_col74\" class=\"data row6 col74\" >nan</td>\n",
       "                        <td id=\"T_e000c17e_f382_11e9_bf46_008cfafbe8bcrow6_col75\" class=\"data row6 col75\" >nan</td>\n",
       "                        <td id=\"T_e000c17e_f382_11e9_bf46_008cfafbe8bcrow6_col76\" class=\"data row6 col76\" >nan</td>\n",
       "            </tr>\n",
       "            <tr>\n",
       "                                <td id=\"T_e000c17e_f382_11e9_bf46_008cfafbe8bcrow7_col0\" class=\"data row7 col0\" >84</td>\n",
       "                        <td id=\"T_e000c17e_f382_11e9_bf46_008cfafbe8bcrow7_col1\" class=\"data row7 col1\" >Conv2d(1, 64, kernel_size=(3, 3), stride=(1, 1), padding=(1, 1))</td>\n",
       "                        <td id=\"T_e000c17e_f382_11e9_bf46_008cfafbe8bcrow7_col2\" class=\"data row7 col2\" >BatchNorm2d(64, eps=1e-05, momentum=0.1, affine=True, track_running_stats=True)</td>\n",
       "                        <td id=\"T_e000c17e_f382_11e9_bf46_008cfafbe8bcrow7_col3\" class=\"data row7 col3\" >BatchNorm2d(64, eps=1e-05, momentum=0.1, affine=True, track_running_stats=True)</td>\n",
       "                        <td id=\"T_e000c17e_f382_11e9_bf46_008cfafbe8bcrow7_col4\" class=\"data row7 col4\" >ReLU()</td>\n",
       "                        <td id=\"T_e000c17e_f382_11e9_bf46_008cfafbe8bcrow7_col5\" class=\"data row7 col5\" >Conv2d(64, 64, kernel_size=(3, 3), stride=(1, 1), padding=(1, 1))</td>\n",
       "                        <td id=\"T_e000c17e_f382_11e9_bf46_008cfafbe8bcrow7_col6\" class=\"data row7 col6\" >BatchNorm2d(64, eps=1e-05, momentum=0.1, affine=True, track_running_stats=True)</td>\n",
       "                        <td id=\"T_e000c17e_f382_11e9_bf46_008cfafbe8bcrow7_col7\" class=\"data row7 col7\" >ReLU()</td>\n",
       "                        <td id=\"T_e000c17e_f382_11e9_bf46_008cfafbe8bcrow7_col8\" class=\"data row7 col8\" >Conv2d(64, 64, kernel_size=(3, 3), stride=(1, 1), padding=(1, 1))</td>\n",
       "                        <td id=\"T_e000c17e_f382_11e9_bf46_008cfafbe8bcrow7_col9\" class=\"data row7 col9\" >ReLU()</td>\n",
       "                        <td id=\"T_e000c17e_f382_11e9_bf46_008cfafbe8bcrow7_col10\" class=\"data row7 col10\" >Conv2d(64, 64, kernel_size=(1, 1), stride=(1, 1))</td>\n",
       "                        <td id=\"T_e000c17e_f382_11e9_bf46_008cfafbe8bcrow7_col11\" class=\"data row7 col11\" >TorchAdd()</td>\n",
       "                        <td id=\"T_e000c17e_f382_11e9_bf46_008cfafbe8bcrow7_col12\" class=\"data row7 col12\" >BatchNorm2d(64, eps=1e-05, momentum=0.1, affine=True, track_running_stats=True)</td>\n",
       "                        <td id=\"T_e000c17e_f382_11e9_bf46_008cfafbe8bcrow7_col13\" class=\"data row7 col13\" >ReLU()</td>\n",
       "                        <td id=\"T_e000c17e_f382_11e9_bf46_008cfafbe8bcrow7_col14\" class=\"data row7 col14\" >Conv2d(64, 64, kernel_size=(3, 3), stride=(1, 1), padding=(1, 1))</td>\n",
       "                        <td id=\"T_e000c17e_f382_11e9_bf46_008cfafbe8bcrow7_col15\" class=\"data row7 col15\" >BatchNorm2d(64, eps=1e-05, momentum=0.1, affine=True, track_running_stats=True)</td>\n",
       "                        <td id=\"T_e000c17e_f382_11e9_bf46_008cfafbe8bcrow7_col16\" class=\"data row7 col16\" >ReLU()</td>\n",
       "                        <td id=\"T_e000c17e_f382_11e9_bf46_008cfafbe8bcrow7_col17\" class=\"data row7 col17\" >Conv2d(64, 64, kernel_size=(3, 3), stride=(1, 1), padding=(1, 1))</td>\n",
       "                        <td id=\"T_e000c17e_f382_11e9_bf46_008cfafbe8bcrow7_col18\" class=\"data row7 col18\" >ReLU()</td>\n",
       "                        <td id=\"T_e000c17e_f382_11e9_bf46_008cfafbe8bcrow7_col19\" class=\"data row7 col19\" >Conv2d(64, 64, kernel_size=(1, 1), stride=(1, 1))</td>\n",
       "                        <td id=\"T_e000c17e_f382_11e9_bf46_008cfafbe8bcrow7_col20\" class=\"data row7 col20\" >TorchAdd()</td>\n",
       "                        <td id=\"T_e000c17e_f382_11e9_bf46_008cfafbe8bcrow7_col21\" class=\"data row7 col21\" >BatchNorm2d(64, eps=1e-05, momentum=0.1, affine=True, track_running_stats=True)</td>\n",
       "                        <td id=\"T_e000c17e_f382_11e9_bf46_008cfafbe8bcrow7_col22\" class=\"data row7 col22\" >ReLU()</td>\n",
       "                        <td id=\"T_e000c17e_f382_11e9_bf46_008cfafbe8bcrow7_col23\" class=\"data row7 col23\" >Conv2d(64, 128, kernel_size=(3, 3), stride=(2, 2), padding=(1, 1))</td>\n",
       "                        <td id=\"T_e000c17e_f382_11e9_bf46_008cfafbe8bcrow7_col24\" class=\"data row7 col24\" >BatchNorm2d(128, eps=1e-05, momentum=0.1, affine=True, track_running_stats=True)</td>\n",
       "                        <td id=\"T_e000c17e_f382_11e9_bf46_008cfafbe8bcrow7_col25\" class=\"data row7 col25\" >ReLU()</td>\n",
       "                        <td id=\"T_e000c17e_f382_11e9_bf46_008cfafbe8bcrow7_col26\" class=\"data row7 col26\" >Conv2d(128, 128, kernel_size=(3, 3), stride=(1, 1), padding=(1, 1))</td>\n",
       "                        <td id=\"T_e000c17e_f382_11e9_bf46_008cfafbe8bcrow7_col27\" class=\"data row7 col27\" >ReLU()</td>\n",
       "                        <td id=\"T_e000c17e_f382_11e9_bf46_008cfafbe8bcrow7_col28\" class=\"data row7 col28\" >Conv2d(64, 128, kernel_size=(1, 1), stride=(2, 2))</td>\n",
       "                        <td id=\"T_e000c17e_f382_11e9_bf46_008cfafbe8bcrow7_col29\" class=\"data row7 col29\" >TorchAdd()</td>\n",
       "                        <td id=\"T_e000c17e_f382_11e9_bf46_008cfafbe8bcrow7_col30\" class=\"data row7 col30\" >BatchNorm2d(128, eps=1e-05, momentum=0.1, affine=True, track_running_stats=True)</td>\n",
       "                        <td id=\"T_e000c17e_f382_11e9_bf46_008cfafbe8bcrow7_col31\" class=\"data row7 col31\" >ReLU()</td>\n",
       "                        <td id=\"T_e000c17e_f382_11e9_bf46_008cfafbe8bcrow7_col32\" class=\"data row7 col32\" >Conv2d(128, 128, kernel_size=(3, 3), stride=(1, 1), padding=(1, 1))</td>\n",
       "                        <td id=\"T_e000c17e_f382_11e9_bf46_008cfafbe8bcrow7_col33\" class=\"data row7 col33\" >BatchNorm2d(128, eps=1e-05, momentum=0.1, affine=True, track_running_stats=True)</td>\n",
       "                        <td id=\"T_e000c17e_f382_11e9_bf46_008cfafbe8bcrow7_col34\" class=\"data row7 col34\" >ReLU()</td>\n",
       "                        <td id=\"T_e000c17e_f382_11e9_bf46_008cfafbe8bcrow7_col35\" class=\"data row7 col35\" >Conv2d(128, 128, kernel_size=(3, 3), stride=(1, 1), padding=(1, 1))</td>\n",
       "                        <td id=\"T_e000c17e_f382_11e9_bf46_008cfafbe8bcrow7_col36\" class=\"data row7 col36\" >ReLU()</td>\n",
       "                        <td id=\"T_e000c17e_f382_11e9_bf46_008cfafbe8bcrow7_col37\" class=\"data row7 col37\" >Conv2d(128, 128, kernel_size=(1, 1), stride=(1, 1))</td>\n",
       "                        <td id=\"T_e000c17e_f382_11e9_bf46_008cfafbe8bcrow7_col38\" class=\"data row7 col38\" >TorchAdd()</td>\n",
       "                        <td id=\"T_e000c17e_f382_11e9_bf46_008cfafbe8bcrow7_col39\" class=\"data row7 col39\" >BatchNorm2d(128, eps=1e-05, momentum=0.1, affine=True, track_running_stats=True)</td>\n",
       "                        <td id=\"T_e000c17e_f382_11e9_bf46_008cfafbe8bcrow7_col40\" class=\"data row7 col40\" >ReLU()</td>\n",
       "                        <td id=\"T_e000c17e_f382_11e9_bf46_008cfafbe8bcrow7_col41\" class=\"data row7 col41\" >Conv2d(128, 256, kernel_size=(3, 3), stride=(2, 2), padding=(1, 1))</td>\n",
       "                        <td id=\"T_e000c17e_f382_11e9_bf46_008cfafbe8bcrow7_col42\" class=\"data row7 col42\" >BatchNorm2d(256, eps=1e-05, momentum=0.1, affine=True, track_running_stats=True)</td>\n",
       "                        <td id=\"T_e000c17e_f382_11e9_bf46_008cfafbe8bcrow7_col43\" class=\"data row7 col43\" >ReLU()</td>\n",
       "                        <td id=\"T_e000c17e_f382_11e9_bf46_008cfafbe8bcrow7_col44\" class=\"data row7 col44\" >Conv2d(256, 256, kernel_size=(3, 3), stride=(1, 1), padding=(1, 1))</td>\n",
       "                        <td id=\"T_e000c17e_f382_11e9_bf46_008cfafbe8bcrow7_col45\" class=\"data row7 col45\" >ReLU()</td>\n",
       "                        <td id=\"T_e000c17e_f382_11e9_bf46_008cfafbe8bcrow7_col46\" class=\"data row7 col46\" >Conv2d(128, 256, kernel_size=(1, 1), stride=(2, 2))</td>\n",
       "                        <td id=\"T_e000c17e_f382_11e9_bf46_008cfafbe8bcrow7_col47\" class=\"data row7 col47\" >TorchAdd()</td>\n",
       "                        <td id=\"T_e000c17e_f382_11e9_bf46_008cfafbe8bcrow7_col48\" class=\"data row7 col48\" >BatchNorm2d(256, eps=1e-05, momentum=0.1, affine=True, track_running_stats=True)</td>\n",
       "                        <td id=\"T_e000c17e_f382_11e9_bf46_008cfafbe8bcrow7_col49\" class=\"data row7 col49\" >ReLU()</td>\n",
       "                        <td id=\"T_e000c17e_f382_11e9_bf46_008cfafbe8bcrow7_col50\" class=\"data row7 col50\" >Conv2d(256, 256, kernel_size=(3, 3), stride=(1, 1), padding=(1, 1))</td>\n",
       "                        <td id=\"T_e000c17e_f382_11e9_bf46_008cfafbe8bcrow7_col51\" class=\"data row7 col51\" >BatchNorm2d(256, eps=1e-05, momentum=0.1, affine=True, track_running_stats=True)</td>\n",
       "                        <td id=\"T_e000c17e_f382_11e9_bf46_008cfafbe8bcrow7_col52\" class=\"data row7 col52\" >ReLU()</td>\n",
       "                        <td id=\"T_e000c17e_f382_11e9_bf46_008cfafbe8bcrow7_col53\" class=\"data row7 col53\" >Conv2d(256, 256, kernel_size=(3, 3), stride=(1, 1), padding=(1, 1))</td>\n",
       "                        <td id=\"T_e000c17e_f382_11e9_bf46_008cfafbe8bcrow7_col54\" class=\"data row7 col54\" >ReLU()</td>\n",
       "                        <td id=\"T_e000c17e_f382_11e9_bf46_008cfafbe8bcrow7_col55\" class=\"data row7 col55\" >Conv2d(256, 256, kernel_size=(1, 1), stride=(1, 1))</td>\n",
       "                        <td id=\"T_e000c17e_f382_11e9_bf46_008cfafbe8bcrow7_col56\" class=\"data row7 col56\" >TorchAdd()</td>\n",
       "                        <td id=\"T_e000c17e_f382_11e9_bf46_008cfafbe8bcrow7_col57\" class=\"data row7 col57\" >BatchNorm2d(256, eps=1e-05, momentum=0.1, affine=True, track_running_stats=True)</td>\n",
       "                        <td id=\"T_e000c17e_f382_11e9_bf46_008cfafbe8bcrow7_col58\" class=\"data row7 col58\" >ReLU()</td>\n",
       "                        <td id=\"T_e000c17e_f382_11e9_bf46_008cfafbe8bcrow7_col59\" class=\"data row7 col59\" >Conv2d(256, 512, kernel_size=(3, 3), stride=(2, 2), padding=(1, 1))</td>\n",
       "                        <td id=\"T_e000c17e_f382_11e9_bf46_008cfafbe8bcrow7_col60\" class=\"data row7 col60\" >BatchNorm2d(512, eps=1e-05, momentum=0.1, affine=True, track_running_stats=True)</td>\n",
       "                        <td id=\"T_e000c17e_f382_11e9_bf46_008cfafbe8bcrow7_col61\" class=\"data row7 col61\" >ReLU()</td>\n",
       "                        <td id=\"T_e000c17e_f382_11e9_bf46_008cfafbe8bcrow7_col62\" class=\"data row7 col62\" >Conv2d(512, 512, kernel_size=(3, 3), stride=(1, 1), padding=(1, 1))</td>\n",
       "                        <td id=\"T_e000c17e_f382_11e9_bf46_008cfafbe8bcrow7_col63\" class=\"data row7 col63\" >ReLU()</td>\n",
       "                        <td id=\"T_e000c17e_f382_11e9_bf46_008cfafbe8bcrow7_col64\" class=\"data row7 col64\" >Conv2d(256, 512, kernel_size=(1, 1), stride=(2, 2))</td>\n",
       "                        <td id=\"T_e000c17e_f382_11e9_bf46_008cfafbe8bcrow7_col65\" class=\"data row7 col65\" >TorchAdd()</td>\n",
       "                        <td id=\"T_e000c17e_f382_11e9_bf46_008cfafbe8bcrow7_col66\" class=\"data row7 col66\" >BatchNorm2d(512, eps=1e-05, momentum=0.1, affine=True, track_running_stats=True)</td>\n",
       "                        <td id=\"T_e000c17e_f382_11e9_bf46_008cfafbe8bcrow7_col67\" class=\"data row7 col67\" >ReLU()</td>\n",
       "                        <td id=\"T_e000c17e_f382_11e9_bf46_008cfafbe8bcrow7_col68\" class=\"data row7 col68\" >Conv2d(512, 512, kernel_size=(3, 3), stride=(1, 1), padding=(1, 1))</td>\n",
       "                        <td id=\"T_e000c17e_f382_11e9_bf46_008cfafbe8bcrow7_col69\" class=\"data row7 col69\" >BatchNorm2d(512, eps=1e-05, momentum=0.1, affine=True, track_running_stats=True)</td>\n",
       "                        <td id=\"T_e000c17e_f382_11e9_bf46_008cfafbe8bcrow7_col70\" class=\"data row7 col70\" >ReLU()</td>\n",
       "                        <td id=\"T_e000c17e_f382_11e9_bf46_008cfafbe8bcrow7_col71\" class=\"data row7 col71\" >Conv2d(512, 512, kernel_size=(3, 3), stride=(1, 1), padding=(1, 1))</td>\n",
       "                        <td id=\"T_e000c17e_f382_11e9_bf46_008cfafbe8bcrow7_col72\" class=\"data row7 col72\" >ReLU()</td>\n",
       "                        <td id=\"T_e000c17e_f382_11e9_bf46_008cfafbe8bcrow7_col73\" class=\"data row7 col73\" >Conv2d(512, 512, kernel_size=(1, 1), stride=(1, 1))</td>\n",
       "                        <td id=\"T_e000c17e_f382_11e9_bf46_008cfafbe8bcrow7_col74\" class=\"data row7 col74\" >TorchAdd()</td>\n",
       "                        <td id=\"T_e000c17e_f382_11e9_bf46_008cfafbe8bcrow7_col75\" class=\"data row7 col75\" >GlobalAvgPool2d()</td>\n",
       "                        <td id=\"T_e000c17e_f382_11e9_bf46_008cfafbe8bcrow7_col76\" class=\"data row7 col76\" >Linear(in_features=512, out_features=10, bias=True)</td>\n",
       "            </tr>\n",
       "    </tbody></table>"
      ],
      "text/plain": [
       "<pandas.io.formats.style.Styler at 0x2b5daf1dc828>"
      ]
     },
     "metadata": {},
     "output_type": "display_data"
    },
    {
     "data": {
      "image/png": "[encoded data removed]",
      "text/plain": [
       "<Figure size 720x288 with 2 Axes>"
      ]
     },
     "metadata": {
      "needs_background": "light"
     },
     "output_type": "display_data"
    }
   ],
   "source": [
    "print_results_by_model(\n",
    "    df, \n",
    "    [\"train_labels\", \"test_labels\"],\n",
    "    err_param_name=\"max_angle\",\n",
    "    pipeline_name=\"best_pipeline\",\n",
    ")\n",
    "visualize(df)"
   ]
  },
  {
   "cell_type": "markdown",
   "metadata": {
    "collapsed": false,
    "papermill": {
     "duration": 0.044416,
     "end_time": "2019-10-20T21:45:05.527165",
     "exception": false,
     "start_time": "2019-10-20T21:45:05.482749",
     "status": "completed"
    },
    "tags": []
   },
   "source": []
  }
 ],
 "metadata": {
  "kernelspec": {
   "display_name": "Python 3",
   "language": "python",
   "name": "python3"
  },
  "language_info": {
   "codemirror_mode": {
    "name": "ipython",
    "version": 3
   },
   "file_extension": ".py",
   "mimetype": "text/x-python",
   "name": "python",
   "nbconvert_exporter": "python",
   "pygments_lexer": "ipython3",
   "version": "3.6.6"
  },
  "papermill": {
   "duration": 7231.585991,
   "end_time": "2019-10-20T21:45:06.780102",
   "environment_variables": {},
   "exception": null,
   "input_path": "docs/case_studies/test2.ipynb",
   "output_path": "docs/case_studies/test2.ipynb",
   "parameters": {},
   "start_time": "2019-10-20T19:44:35.194111",
   "version": "1.2.0"
  },
  "pycharm": {
   "stem_cell": {
    "cell_type": "raw",
    "source": [],
    "metadata": {
     "collapsed": false
    }
   }
  },
  "widgets": {
   "application/vnd.jupyter.widget-state+json": {
    "state": {
     "0f66695844eb459785bd4dfe897e5a76": {
      "model_module": "@jupyter-widgets/controls",
      "model_module_version": "1.5.0",
      "model_name": "DescriptionStyleModel",
      "state": {
       "_model_module": "@jupyter-widgets/controls",
       "_model_module_version": "1.5.0",
       "_model_name": "DescriptionStyleModel",
       "_view_count": null,
       "_view_module": "@jupyter-widgets/base",
       "_view_module_version": "1.2.0",
       "_view_name": "StyleView",
       "description_width": ""
      }
     },
     "7aa790ddebd74900acccfdc0cdf7c468": {
      "model_module": "@jupyter-widgets/controls",
      "model_module_version": "1.5.0",
      "model_name": "HBoxModel",
      "state": {
       "_dom_classes": [],
       "_model_module": "@jupyter-widgets/controls",
       "_model_module_version": "1.5.0",
       "_model_name": "HBoxModel",
       "_view_count": null,
       "_view_module": "@jupyter-widgets/controls",
       "_view_module_version": "1.5.0",
       "_view_name": "HBoxView",
       "box_style": "",
       "children": [
        "IPY_MODEL_94b06a19225e4f459cff00d6952e5037",
        "IPY_MODEL_e98da40ee025423faa243d7324e9ca0b"
       ],
       "layout": "IPY_MODEL_ad2abe26f6f44ab1bda30337413e8c1d"
      }
     },
     "7bd2d1608f124777a2ea17ffd41bcc0e": {
      "model_module": "@jupyter-widgets/base",
      "model_module_version": "1.2.0",
      "model_name": "LayoutModel",
      "state": {
       "_model_module": "@jupyter-widgets/base",
       "_model_module_version": "1.2.0",
       "_model_name": "LayoutModel",
       "_view_count": null,
       "_view_module": "@jupyter-widgets/base",
       "_view_module_version": "1.2.0",
       "_view_name": "LayoutView",
       "align_content": null,
       "align_items": null,
       "align_self": null,
       "border": null,
       "bottom": null,
       "display": null,
       "flex": null,
       "flex_flow": null,
       "grid_area": null,
       "grid_auto_columns": null,
       "grid_auto_flow": null,
       "grid_auto_rows": null,
       "grid_column": null,
       "grid_gap": null,
       "grid_row": null,
       "grid_template_areas": null,
       "grid_template_columns": null,
       "grid_template_rows": null,
       "height": null,
       "justify_content": null,
       "justify_items": null,
       "left": null,
       "margin": null,
       "max_height": null,
       "max_width": null,
       "min_height": null,
       "min_width": null,
       "object_fit": null,
       "object_position": null,
       "order": null,
       "overflow": null,
       "overflow_x": null,
       "overflow_y": null,
       "padding": null,
       "right": null,
       "top": null,
       "visibility": null,
       "width": null
      }
     },
     "94b06a19225e4f459cff00d6952e5037": {
      "model_module": "@jupyter-widgets/controls",
      "model_module_version": "1.5.0",
      "model_name": "IntProgressModel",
      "state": {
       "_dom_classes": [],
       "_model_module": "@jupyter-widgets/controls",
       "_model_module_version": "1.5.0",
       "_model_name": "IntProgressModel",
       "_view_count": null,
       "_view_module": "@jupyter-widgets/controls",
       "_view_module_version": "1.5.0",
       "_view_name": "ProgressView",
       "bar_style": "",
       "description": "Optimization Progress",
       "description_tooltip": null,
       "layout": "IPY_MODEL_d8c3a604f71f4f71a66e91a4200c31e7",
       "max": 2,
       "min": 0,
       "orientation": "horizontal",
       "style": "IPY_MODEL_9f245e3bc2664c29a9f34c0176886b93",
       "value": 2
      }
     },
     "9f245e3bc2664c29a9f34c0176886b93": {
      "model_module": "@jupyter-widgets/controls",
      "model_module_version": "1.5.0",
      "model_name": "ProgressStyleModel",
      "state": {
       "_model_module": "@jupyter-widgets/controls",
       "_model_module_version": "1.5.0",
       "_model_name": "ProgressStyleModel",
       "_view_count": null,
       "_view_module": "@jupyter-widgets/base",
       "_view_module_version": "1.2.0",
       "_view_name": "StyleView",
       "bar_color": null,
       "description_width": "initial"
      }
     },
     "ad2abe26f6f44ab1bda30337413e8c1d": {
      "model_module": "@jupyter-widgets/base",
      "model_module_version": "1.2.0",
      "model_name": "LayoutModel",
      "state": {
       "_model_module": "@jupyter-widgets/base",
       "_model_module_version": "1.2.0",
       "_model_name": "LayoutModel",
       "_view_count": null,
       "_view_module": "@jupyter-widgets/base",
       "_view_module_version": "1.2.0",
       "_view_name": "LayoutView",
       "align_content": null,
       "align_items": null,
       "align_self": null,
       "border": null,
       "bottom": null,
       "display": null,
       "flex": null,
       "flex_flow": null,
       "grid_area": null,
       "grid_auto_columns": null,
       "grid_auto_flow": null,
       "grid_auto_rows": null,
       "grid_column": null,
       "grid_gap": null,
       "grid_row": null,
       "grid_template_areas": null,
       "grid_template_columns": null,
       "grid_template_rows": null,
       "height": null,
       "justify_content": null,
       "justify_items": null,
       "left": null,
       "margin": null,
       "max_height": null,
       "max_width": null,
       "min_height": null,
       "min_width": null,
       "object_fit": null,
       "object_position": null,
       "order": null,
       "overflow": null,
       "overflow_x": null,
       "overflow_y": null,
       "padding": null,
       "right": null,
       "top": null,
       "visibility": null,
       "width": null
      }
     },
     "d8c3a604f71f4f71a66e91a4200c31e7": {
      "model_module": "@jupyter-widgets/base",
      "model_module_version": "1.2.0",
      "model_name": "LayoutModel",
      "state": {
       "_model_module": "@jupyter-widgets/base",
       "_model_module_version": "1.2.0",
       "_model_name": "LayoutModel",
       "_view_count": null,
       "_view_module": "@jupyter-widgets/base",
       "_view_module_version": "1.2.0",
       "_view_name": "LayoutView",
       "align_content": null,
       "align_items": null,
       "align_self": null,
       "border": null,
       "bottom": null,
       "display": null,
       "flex": null,
       "flex_flow": null,
       "grid_area": null,
       "grid_auto_columns": null,
       "grid_auto_flow": null,
       "grid_auto_rows": null,
       "grid_column": null,
       "grid_gap": null,
       "grid_row": null,
       "grid_template_areas": null,
       "grid_template_columns": null,
       "grid_template_rows": null,
       "height": null,
       "justify_content": null,
       "justify_items": null,
       "left": null,
       "margin": null,
       "max_height": null,
       "max_width": null,
       "min_height": null,
       "min_width": null,
       "object_fit": null,
       "object_position": null,
       "order": null,
       "overflow": null,
       "overflow_x": null,
       "overflow_y": null,
       "padding": null,
       "right": null,
       "top": null,
       "visibility": null,
       "width": null
      }
     },
     "e98da40ee025423faa243d7324e9ca0b": {
      "model_module": "@jupyter-widgets/controls",
      "model_module_version": "1.5.0",
      "model_name": "HTMLModel",
      "state": {
       "_dom_classes": [],
       "_model_module": "@jupyter-widgets/controls",
       "_model_module_version": "1.5.0",
       "_model_name": "HTMLModel",
       "_view_count": null,
       "_view_module": "@jupyter-widgets/controls",
       "_view_module_version": "1.5.0",
       "_view_name": "HTMLView",
       "description": "",
       "description_tooltip": null,
       "layout": "IPY_MODEL_7bd2d1608f124777a2ea17ffd41bcc0e",
       "placeholder": "​",
       "style": "IPY_MODEL_0f66695844eb459785bd4dfe897e5a76",
       "value": "100% 2/2 [00:08&lt;00:00,  4.22s/pipeline]"
      }
     }
    },
    "version_major": 2,
    "version_minor": 0
   }
  }
 },
 "nbformat": 4,
 "nbformat_minor": 0
}