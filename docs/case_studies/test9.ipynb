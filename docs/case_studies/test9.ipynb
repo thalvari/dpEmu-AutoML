{
 "cells": [
  {
   "cell_type": "markdown",
   "metadata": {
    "collapsed": false,
    "papermill": {
     "duration": 0.035067,
     "end_time": "2019-10-24T11:59:03.181657",
     "exception": false,
     "start_time": "2019-10-24T11:59:03.146590",
     "status": "completed"
    },
    "tags": []
   },
   "source": [
    "# AutoML Image Classification: Added Noise (Digits)"
   ]
  },
  {
   "cell_type": "markdown",
   "metadata": {
    "collapsed": false,
    "papermill": {
     "duration": 0.024137,
     "end_time": "2019-10-24T11:59:03.231316",
     "exception": false,
     "start_time": "2019-10-24T11:59:03.207179",
     "status": "completed"
    },
    "tags": []
   },
   "source": [
    "![](imgs/gaussian_noise.png)"
   ]
  },
  {
   "cell_type": "code",
   "execution_count": 1,
   "metadata": {
    "collapsed": false,
    "papermill": {
     "duration": 11.653323,
     "end_time": "2019-10-24T11:59:14.906160",
     "exception": false,
     "start_time": "2019-10-24T11:59:03.252837",
     "status": "completed"
    },
    "pycharm": {
     "name": "#%%\n"
    },
    "tags": []
   },
   "outputs": [
    {
     "name": "stderr",
     "output_type": "stream",
     "text": [
      "/wrk/users/thalvari/dpEmu-AutoML/venv/lib/python3.6/site-packages/tensorflow/python/framework/dtypes.py:526: FutureWarning: Passing (type, 1) or '1type' as a synonym of type is deprecated; in a future version of numpy, it will be understood as (type, (1,)) / '(1,)type'.\n",
      "  _np_qint8 = np.dtype([(\"qint8\", np.int8, 1)])\n",
      "/wrk/users/thalvari/dpEmu-AutoML/venv/lib/python3.6/site-packages/tensorflow/python/framework/dtypes.py:527: FutureWarning: Passing (type, 1) or '1type' as a synonym of type is deprecated; in a future version of numpy, it will be understood as (type, (1,)) / '(1,)type'.\n",
      "  _np_quint8 = np.dtype([(\"quint8\", np.uint8, 1)])\n",
      "/wrk/users/thalvari/dpEmu-AutoML/venv/lib/python3.6/site-packages/tensorflow/python/framework/dtypes.py:528: FutureWarning: Passing (type, 1) or '1type' as a synonym of type is deprecated; in a future version of numpy, it will be understood as (type, (1,)) / '(1,)type'.\n",
      "  _np_qint16 = np.dtype([(\"qint16\", np.int16, 1)])\n",
      "/wrk/users/thalvari/dpEmu-AutoML/venv/lib/python3.6/site-packages/tensorflow/python/framework/dtypes.py:529: FutureWarning: Passing (type, 1) or '1type' as a synonym of type is deprecated; in a future version of numpy, it will be understood as (type, (1,)) / '(1,)type'.\n",
      "  _np_quint16 = np.dtype([(\"quint16\", np.uint16, 1)])\n",
      "/wrk/users/thalvari/dpEmu-AutoML/venv/lib/python3.6/site-packages/tensorflow/python/framework/dtypes.py:530: FutureWarning: Passing (type, 1) or '1type' as a synonym of type is deprecated; in a future version of numpy, it will be understood as (type, (1,)) / '(1,)type'.\n",
      "  _np_qint32 = np.dtype([(\"qint32\", np.int32, 1)])\n",
      "/wrk/users/thalvari/dpEmu-AutoML/venv/lib/python3.6/site-packages/tensorflow/python/framework/dtypes.py:535: FutureWarning: Passing (type, 1) or '1type' as a synonym of type is deprecated; in a future version of numpy, it will be understood as (type, (1,)) / '(1,)type'.\n",
      "  np_resource = np.dtype([(\"resource\", np.ubyte, 1)])\n"
     ]
    },
    {
     "name": "stdout",
     "output_type": "stream",
     "text": [
      "Better speed can be achieved with apex installed from https://www.github.com/nvidia/apex.\n"
     ]
    },
    {
     "name": "stderr",
     "output_type": "stream",
     "text": [
      "Using TensorFlow backend.\n"
     ]
    }
   ],
   "source": [
    "import random as rn\n",
    "from abc import ABC, abstractmethod\n",
    "\n",
    "import autokeras as ak\n",
    "import h2o\n",
    "import matplotlib.pyplot as plt\n",
    "import numpy as np\n",
    "from h2o.automl import H2OAutoML\n",
    "from keras.datasets import fashion_mnist\n",
    "from numpy.random import RandomState\n",
    "from sklearn.datasets import load_digits\n",
    "from sklearn.metrics import accuracy_score\n",
    "from sklearn.model_selection import train_test_split\n",
    "from tpot import TPOTClassifier\n",
    "\n",
    "from dpemu import runner\n",
    "from dpemu.filters.common import GaussianNoise, Clip\n",
    "from dpemu.filters.image import RotationPIL\n",
    "from dpemu.nodes import Array\n",
    "from dpemu.nodes.series import Series\n",
    "from dpemu.plotting_utils import visualize_scores, print_results_by_model\n",
    "from dpemu.utils import generate_tmpdir"
   ]
  },
  {
   "cell_type": "markdown",
   "metadata": {
    "collapsed": false,
    "papermill": {
     "duration": 0.025976,
     "end_time": "2019-10-24T11:59:14.962715",
     "exception": false,
     "start_time": "2019-10-24T11:59:14.936739",
     "status": "completed"
    },
    "pycharm": {
     "name": "#%% md\n"
    },
    "tags": []
   },
   "source": []
  },
  {
   "cell_type": "code",
   "execution_count": 2,
   "metadata": {
    "collapsed": false,
    "papermill": {
     "duration": 0.03525,
     "end_time": "2019-10-24T11:59:15.022415",
     "exception": false,
     "start_time": "2019-10-24T11:59:14.987165",
     "status": "completed"
    },
    "pycharm": {
     "is_executing": false,
     "name": "#%%\n"
    },
    "tags": []
   },
   "outputs": [],
   "source": [
    "def get_data():\n",
    "    random_state = RandomState(42)\n",
    "    x, y = load_digits(return_X_y=True)\n",
    "    return train_test_split(x, y, test_size=.2, random_state=random_state)\n",
    "    # (x_train, y_train), (x_test, y_test) = fashion_mnist.load_data()\n",
    "    # s = x_train.shape[1]\n",
    "    # x_train = x_train.reshape((len(x_train), s ** 2))\n",
    "    # x_test = x_test.reshape((len(x_test), s ** 2))\n",
    "    # return x_train, x_test, y_train, y_test"
   ]
  },
  {
   "cell_type": "markdown",
   "metadata": {
    "collapsed": false,
    "papermill": {
     "duration": 0.019116,
     "end_time": "2019-10-24T11:59:15.061294",
     "exception": false,
     "start_time": "2019-10-24T11:59:15.042178",
     "status": "completed"
    },
    "pycharm": {
     "name": "#%% md\n"
    },
    "tags": []
   },
   "source": []
  },
  {
   "cell_type": "code",
   "execution_count": 3,
   "metadata": {
    "collapsed": false,
    "papermill": {
     "duration": 0.033552,
     "end_time": "2019-10-24T11:59:15.114363",
     "exception": false,
     "start_time": "2019-10-24T11:59:15.080811",
     "status": "completed"
    },
    "pycharm": {
     "is_executing": false,
     "name": "#%%\n"
    },
    "tags": []
   },
   "outputs": [],
   "source": [
    "def get_err_root_node():\n",
    "    err_img_node = Array(reshape=(8, 8))\n",
    "    # err_img_node = Array(reshape=(28, 28))\n",
    "\n",
    "    # err_root_node = Series(err_img_node)\n",
    "    # err_img_node.addfilter(RotationPIL(\"max_angle\"))\n",
    "    # return err_root_node\n",
    "    err_root_node = Series(err_img_node)\n",
    "    err_img_node.addfilter(GaussianNoise(\"mean\", \"std\"))\n",
    "    err_img_node.addfilter(Clip(\"min_val\", \"max_val\"))\n",
    "    return err_root_node"
   ]
  },
  {
   "cell_type": "markdown",
   "metadata": {
    "collapsed": false,
    "papermill": {
     "duration": 0.019465,
     "end_time": "2019-10-24T11:59:15.153200",
     "exception": false,
     "start_time": "2019-10-24T11:59:15.133735",
     "status": "completed"
    },
    "pycharm": {
     "name": "#%% md\n"
    },
    "tags": []
   },
   "source": []
  },
  {
   "cell_type": "code",
   "execution_count": 4,
   "metadata": {
    "collapsed": false,
    "papermill": {
     "duration": 0.034522,
     "end_time": "2019-10-24T11:59:15.207323",
     "exception": false,
     "start_time": "2019-10-24T11:59:15.172801",
     "status": "completed"
    },
    "pycharm": {
     "is_executing": false,
     "name": "#%%\n"
    },
    "tags": []
   },
   "outputs": [],
   "source": [
    "def get_err_params_list(data):\n",
    "    # angle_steps = np.linspace(0, 90, num=6)\n",
    "    # err_params_list = [{\"max_angle\": a} for a in angle_steps]\n",
    "    # return err_params_list\n",
    "    min_val = np.amin(data)\n",
    "    max_val = np.amax(data)\n",
    "    std_steps = np.round(np.linspace(0, max_val, num=1), 3)\n",
    "    err_params_list = [{\"mean\": 0, \"std\": std, \"min_val\": min_val, \"max_val\": max_val} for std in std_steps]\n",
    "    return err_params_list"
   ]
  },
  {
   "cell_type": "markdown",
   "metadata": {
    "collapsed": false,
    "papermill": {
     "duration": 0.019456,
     "end_time": "2019-10-24T11:59:15.245954",
     "exception": false,
     "start_time": "2019-10-24T11:59:15.226498",
     "status": "completed"
    },
    "pycharm": {
     "name": "#%% md\n"
    },
    "tags": []
   },
   "source": []
  },
  {
   "cell_type": "code",
   "execution_count": 5,
   "metadata": {
    "collapsed": false,
    "papermill": {
     "duration": 0.031281,
     "end_time": "2019-10-24T11:59:15.296686",
     "exception": false,
     "start_time": "2019-10-24T11:59:15.265405",
     "status": "completed"
    },
    "pycharm": {
     "is_executing": false,
     "name": "#%%\n"
    },
    "tags": []
   },
   "outputs": [],
   "source": [
    "class Preprocessor:\n",
    "\n",
    "    def run(self, train_data, test_data, params):\n",
    "        return np.round(train_data), np.round(test_data), {}"
   ]
  },
  {
   "cell_type": "markdown",
   "metadata": {
    "collapsed": false,
    "papermill": {
     "duration": 0.019479,
     "end_time": "2019-10-24T11:59:15.335245",
     "exception": false,
     "start_time": "2019-10-24T11:59:15.315766",
     "status": "completed"
    },
    "pycharm": {
     "name": "#%% md\n"
    },
    "tags": []
   },
   "source": []
  },
  {
   "cell_type": "code",
   "execution_count": 6,
   "metadata": {
    "collapsed": false,
    "papermill": {
     "duration": 0.081776,
     "end_time": "2019-10-24T11:59:15.436596",
     "exception": false,
     "start_time": "2019-10-24T11:59:15.354820",
     "status": "completed"
    },
    "pycharm": {
     "is_executing": false,
     "name": "#%%\n"
    },
    "tags": []
   },
   "outputs": [],
   "source": [
    "class AbstractModel(ABC):\n",
    "\n",
    "    def __init__(self):\n",
    "        self.time_limit_mins = 60*1\n",
    "        self.seed = 42\n",
    "        self.random_state = RandomState(self.seed)\n",
    "        np.random.seed(self.seed)\n",
    "\n",
    "    @abstractmethod\n",
    "    def get_fitted_model(self, train_data, train_labels, params):\n",
    "        pass\n",
    "\n",
    "    @abstractmethod\n",
    "    def get_accuracy(self, data, labels, fitted_model, params):\n",
    "        pass\n",
    "\n",
    "    @abstractmethod\n",
    "    def get_best_pipeline(self, fitted_model):\n",
    "        pass\n",
    "\n",
    "    def run(self, train_data, test_data, params):\n",
    "        train_labels = params[\"train_labels\"]\n",
    "        test_labels = params[\"test_labels\"]\n",
    "\n",
    "        fitted_model = self.get_fitted_model(train_data, train_labels, params)\n",
    "\n",
    "        return {\n",
    "            \"test_acc\": self.get_accuracy(test_data, test_labels, fitted_model, params),\n",
    "            \"train_acc\": self.get_accuracy(train_data, train_labels, fitted_model, params),\n",
    "            \"best_pipeline\": self.get_best_pipeline(fitted_model),\n",
    "        }\n",
    "\n",
    "class TPOTClassifierModel(AbstractModel):\n",
    "\n",
    "    def __init__(self):\n",
    "        super().__init__()\n",
    "\n",
    "    def get_fitted_model(self, train_data, train_labels, params):\n",
    "        return TPOTClassifier(\n",
    "            max_time_mins=self.time_limit_mins,\n",
    "            n_jobs=-1,\n",
    "            random_state=self.seed,\n",
    "            verbosity=1,\n",
    "        ).fit(train_data, train_labels)\n",
    "    \n",
    "    def get_accuracy(self, data, labels, fitted_model, params):\n",
    "        return round(fitted_model.score(data, labels), 3)\n",
    "\n",
    "    def get_best_pipeline(self, fitted_model):\n",
    "        return [step[1] for step in fitted_model.fitted_pipeline_.steps]\n",
    "\n",
    "class H2OAutoMLModel(AbstractModel):\n",
    "\n",
    "    def __init__(self):\n",
    "        super().__init__()\n",
    "        h2o.init(name=f\"#{rn.SystemRandom().randint(1, 2**30)}\")\n",
    "        h2o.no_progress()\n",
    "\n",
    "    def get_fitted_model(self, train_data, train_labels, params):\n",
    "        train_data = h2o.H2OFrame(np.concatenate((train_data, train_labels.reshape(-1, 1)), axis=1))\n",
    "        x = np.array(train_data.columns)[:-1].tolist()\n",
    "        y = np.array(train_data.columns)[-1].tolist()\n",
    "        train_data[y] = train_data[y].asfactor()\n",
    "        aml = H2OAutoML(max_runtime_secs=60*self.time_limit_mins, seed=self.seed)\n",
    "        aml.train(x=x, y=y, training_frame=train_data)\n",
    "        return aml\n",
    "\n",
    "    def get_accuracy(self, data, labels, fitted_model, params):\n",
    "        data = h2o.H2OFrame(np.concatenate((data, labels.reshape(-1, 1)), axis=1))\n",
    "        y = np.array(data.columns)[-1].tolist()\n",
    "        data[y] = data[y].asfactor()\n",
    "        pred = fitted_model.predict(data).as_data_frame(header=False)[\"predict\"].values.astype(int)\n",
    "        return np.round(np.mean(pred == labels), 3)\n",
    "\n",
    "    def get_best_pipeline(self, fitted_model):\n",
    "        leader_params = fitted_model.leader.get_params()\n",
    "        best_pipeline = [leader_params[\"model_id\"][\"actual_value\"][\"name\"]]\n",
    "        if \"base_models\" in leader_params:\n",
    "            for base_model in leader_params[\"base_models\"][\"actual_value\"]:\n",
    "                best_pipeline.append(base_model[\"name\"])\n",
    "        h2o.cluster().shutdown()\n",
    "        return best_pipeline\n",
    "\n",
    "class AutoKerasModel(AbstractModel):\n",
    "\n",
    "    def __init__(self):\n",
    "        super().__init__()\n",
    "        import tensorflow as tf\n",
    "        tf.set_random_seed(self.seed)\n",
    "        import torch\n",
    "        torch.multiprocessing.set_sharing_strategy(\"file_system\")\n",
    "        torch.manual_seed(self.seed)\n",
    "\n",
    "    def get_fitted_model(self, x_train, y_train, params):\n",
    "        s = np.sqrt(x_train.shape[1]).astype(int)\n",
    "        x_train = x_train.reshape((len(x_train), s, s, 1))\n",
    "        clf = ak.ImageClassifier(augment=False, path=generate_tmpdir(), verbose=False)\n",
    "        clf.fit(x_train, y_train, time_limit=60*self.time_limit_mins)\n",
    "        return clf\n",
    "\n",
    "    def get_accuracy(self, x, y, clf, params):\n",
    "        s = np.sqrt(x.shape[1]).astype(int)\n",
    "        x = x.reshape((len(x), s, s, 1))\n",
    "        y_pred = clf.predict(x)\n",
    "        return np.round(accuracy_score(y_true=y, y_pred=y_pred), 3)\n",
    "\n",
    "    def get_best_pipeline(self, clf):\n",
    "        return [m for i, m in enumerate(clf.cnn.best_model.produce_model().modules()) if i > 0]"
   ]
  },
  {
   "cell_type": "markdown",
   "metadata": {
    "collapsed": false,
    "papermill": {
     "duration": 0.029522,
     "end_time": "2019-10-24T11:59:15.500678",
     "exception": false,
     "start_time": "2019-10-24T11:59:15.471156",
     "status": "completed"
    },
    "pycharm": {
     "name": "#%% md\n"
    },
    "tags": []
   },
   "source": []
  },
  {
   "cell_type": "code",
   "execution_count": 7,
   "metadata": {
    "collapsed": false,
    "papermill": {
     "duration": 0.040856,
     "end_time": "2019-10-24T11:59:15.568523",
     "exception": false,
     "start_time": "2019-10-24T11:59:15.527667",
     "status": "completed"
    },
    "pycharm": {
     "name": "#%%\n"
    },
    "tags": []
   },
   "outputs": [],
   "source": [
    "def get_model_params_dict_list(train_labels, test_labels):\n",
    "    model_params_base = {\"train_labels\": train_labels, \"test_labels\": test_labels}\n",
    "    return [\n",
    "        # {\n",
    "        #     \"model\": H2OAutoMLModel,\n",
    "        #     \"params_list\": [{**model_params_base}],\n",
    "        #     \"use_clean_train_data\": False\n",
    "        # },\n",
    "        # {\n",
    "        #     \"model\": H2OAutoMLModel,\n",
    "        #     \"params_list\": [{**model_params_base}],\n",
    "        #     \"use_clean_train_data\": True\n",
    "        # },\n",
    "        # {\n",
    "        #     \"model\": TPOTClassifierModel,\n",
    "        #     \"params_list\": [{**model_params_base}],\n",
    "        #     \"use_clean_train_data\": False\n",
    "        # },\n",
    "        # {\n",
    "        #     \"model\": TPOTClassifierModel,\n",
    "        #     \"params_list\": [{**model_params_base}],\n",
    "        #     \"use_clean_train_data\": True\n",
    "        # },\n",
    "        {\n",
    "            \"model\": AutoKerasModel,\n",
    "            \"params_list\": [{**model_params_base}],\n",
    "            \"use_clean_train_data\": False\n",
    "        },\n",
    "        # {\n",
    "        #     \"model\": AutoKerasModel,\n",
    "        #     \"params_list\": [{**model_params_base}],\n",
    "        #     \"use_clean_train_data\": True\n",
    "        # },\n",
    "    ]"
   ]
  },
  {
   "cell_type": "markdown",
   "metadata": {
    "collapsed": false,
    "papermill": {
     "duration": 0.023833,
     "end_time": "2019-10-24T11:59:15.618599",
     "exception": false,
     "start_time": "2019-10-24T11:59:15.594766",
     "status": "completed"
    },
    "pycharm": {
     "is_executing": false,
     "name": "#%% md\n"
    },
    "tags": []
   },
   "source": []
  },
  {
   "cell_type": "code",
   "execution_count": 8,
   "metadata": {
    "collapsed": false,
    "papermill": {
     "duration": 0.033541,
     "end_time": "2019-10-24T11:59:15.674935",
     "exception": false,
     "start_time": "2019-10-24T11:59:15.641394",
     "status": "completed"
    },
    "pycharm": {
     "name": "#%%\n"
    },
    "tags": []
   },
   "outputs": [],
   "source": [
    "def visualize(df):\n",
    "    visualize_scores(\n",
    "        df,\n",
    "        score_names=[\"test_acc\", \"train_acc\"],\n",
    "        is_higher_score_better=[True, True],\n",
    "        # err_param_name=\"max_angle\",\n",
    "        err_param_name=\"std\",\n",
    "        title=\"Classification scores with added error\"\n",
    "    )\n",
    "    plt.show()"
   ]
  },
  {
   "cell_type": "markdown",
   "metadata": {
    "collapsed": false,
    "papermill": {
     "duration": 0.01924,
     "end_time": "2019-10-24T11:59:15.713856",
     "exception": false,
     "start_time": "2019-10-24T11:59:15.694616",
     "status": "completed"
    },
    "pycharm": {
     "is_executing": false,
     "name": "#%% md\n"
    },
    "tags": []
   },
   "source": []
  },
  {
   "cell_type": "code",
   "execution_count": 9,
   "metadata": {
    "collapsed": false,
    "papermill": {
     "duration": 3927.783376,
     "end_time": "2019-10-24T13:04:43.516721",
     "exception": false,
     "start_time": "2019-10-24T11:59:15.733345",
     "status": "completed"
    },
    "pycharm": {
     "is_executing": false,
     "name": "#%%\n"
    },
    "tags": []
   },
   "outputs": [
    {
     "name": "stderr",
     "output_type": "stream",
     "text": [
      "\r",
      "  0%|          | 0/1 [00:00<?, ?it/s]"
     ]
    },
    {
     "name": "stderr",
     "output_type": "stream",
     "text": [
      "\r",
      "100%|██████████| 1/1 [1:05:27<00:00, 3927.32s/it]"
     ]
    },
    {
     "name": "stderr",
     "output_type": "stream",
     "text": [
      "\r",
      "100%|██████████| 1/1 [1:05:27<00:00, 3927.32s/it]"
     ]
    },
    {
     "name": "stderr",
     "output_type": "stream",
     "text": [
      "\n"
     ]
    }
   ],
   "source": [
    "train_data, test_data, train_labels, test_labels = get_data()\n",
    "\n",
    "df = runner.run(\n",
    "    train_data=train_data,\n",
    "    test_data=test_data,\n",
    "    preproc=Preprocessor,\n",
    "    preproc_params=None,\n",
    "    err_root_node=get_err_root_node(),\n",
    "    # err_params_list=get_err_params_list(),\n",
    "    err_params_list=get_err_params_list(train_data),\n",
    "    model_params_dict_list=get_model_params_dict_list(train_labels, test_labels),\n",
    "    n_processes=1\n",
    ")"
   ]
  },
  {
   "cell_type": "code",
   "execution_count": 10,
   "metadata": {
    "collapsed": false,
    "papermill": {
     "duration": 1.964057,
     "end_time": "2019-10-24T13:04:45.520452",
     "exception": false,
     "start_time": "2019-10-24T13:04:43.556395",
     "status": "completed"
    },
    "pycharm": {
     "name": "#%%\n"
    },
    "tags": []
   },
   "outputs": [
    {
     "data": {
      "text/plain": [
       "'AutoKeras #1'"
      ]
     },
     "metadata": {},
     "output_type": "display_data"
    },
    {
     "data": {
      "text/html": [
       "<style  type=\"text/css\" >\n",
       "</style><table id=\"T_d8e97ffa_f65e_11e9_a849_1418772eafb8\" ><thead>    <tr>        <th class=\"col_heading level0 col0\" >std</th>        <th class=\"col_heading level0 col1\" >test_acc</th>        <th class=\"col_heading level0 col2\" >train_acc</th>        <th class=\"col_heading level0 col3\" >time_err</th>        <th class=\"col_heading level0 col4\" >time_pre</th>        <th class=\"col_heading level0 col5\" >time_mod</th>    </tr></thead><tbody>\n",
       "                <tr>\n",
       "                                <td id=\"T_d8e97ffa_f65e_11e9_a849_1418772eafb8row0_col0\" class=\"data row0 col0\" >0</td>\n",
       "                        <td id=\"T_d8e97ffa_f65e_11e9_a849_1418772eafb8row0_col1\" class=\"data row0 col1\" >0.989</td>\n",
       "                        <td id=\"T_d8e97ffa_f65e_11e9_a849_1418772eafb8row0_col2\" class=\"data row0 col2\" >0.999</td>\n",
       "                        <td id=\"T_d8e97ffa_f65e_11e9_a849_1418772eafb8row0_col3\" class=\"data row0 col3\" >0.144</td>\n",
       "                        <td id=\"T_d8e97ffa_f65e_11e9_a849_1418772eafb8row0_col4\" class=\"data row0 col4\" >0.002</td>\n",
       "                        <td id=\"T_d8e97ffa_f65e_11e9_a849_1418772eafb8row0_col5\" class=\"data row0 col5\" >3926.68</td>\n",
       "            </tr>\n",
       "    </tbody></table>"
      ],
      "text/plain": [
       "<pandas.io.formats.style.Styler at 0x2ae83eba1a58>"
      ]
     },
     "metadata": {},
     "output_type": "display_data"
    },
    {
     "data": {
      "text/html": [
       "<style  type=\"text/css\" >\n",
       "</style><table id=\"T_d9139a7e_f65e_11e9_a849_1418772eafb8\" ><thead>    <tr>        <th class=\"col_heading level0 col0\" >std</th>        <th class=\"col_heading level0 col1\" >pipe_0</th>        <th class=\"col_heading level0 col2\" >pipe_1</th>        <th class=\"col_heading level0 col3\" >pipe_2</th>        <th class=\"col_heading level0 col4\" >pipe_3</th>        <th class=\"col_heading level0 col5\" >pipe_4</th>        <th class=\"col_heading level0 col6\" >pipe_5</th>        <th class=\"col_heading level0 col7\" >pipe_6</th>        <th class=\"col_heading level0 col8\" >pipe_7</th>        <th class=\"col_heading level0 col9\" >pipe_8</th>        <th class=\"col_heading level0 col10\" >pipe_9</th>        <th class=\"col_heading level0 col11\" >pipe_10</th>        <th class=\"col_heading level0 col12\" >pipe_11</th>        <th class=\"col_heading level0 col13\" >pipe_12</th>        <th class=\"col_heading level0 col14\" >pipe_13</th>        <th class=\"col_heading level0 col15\" >pipe_14</th>        <th class=\"col_heading level0 col16\" >pipe_15</th>        <th class=\"col_heading level0 col17\" >pipe_16</th>        <th class=\"col_heading level0 col18\" >pipe_17</th>        <th class=\"col_heading level0 col19\" >pipe_18</th>        <th class=\"col_heading level0 col20\" >pipe_19</th>        <th class=\"col_heading level0 col21\" >pipe_20</th>        <th class=\"col_heading level0 col22\" >pipe_21</th>        <th class=\"col_heading level0 col23\" >pipe_22</th>        <th class=\"col_heading level0 col24\" >pipe_23</th>        <th class=\"col_heading level0 col25\" >pipe_24</th>        <th class=\"col_heading level0 col26\" >pipe_25</th>        <th class=\"col_heading level0 col27\" >pipe_26</th>        <th class=\"col_heading level0 col28\" >pipe_27</th>        <th class=\"col_heading level0 col29\" >pipe_28</th>        <th class=\"col_heading level0 col30\" >pipe_29</th>        <th class=\"col_heading level0 col31\" >pipe_30</th>        <th class=\"col_heading level0 col32\" >pipe_31</th>        <th class=\"col_heading level0 col33\" >pipe_32</th>        <th class=\"col_heading level0 col34\" >pipe_33</th>        <th class=\"col_heading level0 col35\" >pipe_34</th>        <th class=\"col_heading level0 col36\" >pipe_35</th>        <th class=\"col_heading level0 col37\" >pipe_36</th>        <th class=\"col_heading level0 col38\" >pipe_37</th>        <th class=\"col_heading level0 col39\" >pipe_38</th>        <th class=\"col_heading level0 col40\" >pipe_39</th>        <th class=\"col_heading level0 col41\" >pipe_40</th>        <th class=\"col_heading level0 col42\" >pipe_41</th>        <th class=\"col_heading level0 col43\" >pipe_42</th>        <th class=\"col_heading level0 col44\" >pipe_43</th>        <th class=\"col_heading level0 col45\" >pipe_44</th>        <th class=\"col_heading level0 col46\" >pipe_45</th>        <th class=\"col_heading level0 col47\" >pipe_46</th>        <th class=\"col_heading level0 col48\" >pipe_47</th>        <th class=\"col_heading level0 col49\" >pipe_48</th>        <th class=\"col_heading level0 col50\" >pipe_49</th>        <th class=\"col_heading level0 col51\" >pipe_50</th>        <th class=\"col_heading level0 col52\" >pipe_51</th>        <th class=\"col_heading level0 col53\" >pipe_52</th>        <th class=\"col_heading level0 col54\" >pipe_53</th>        <th class=\"col_heading level0 col55\" >pipe_54</th>        <th class=\"col_heading level0 col56\" >pipe_55</th>        <th class=\"col_heading level0 col57\" >pipe_56</th>        <th class=\"col_heading level0 col58\" >pipe_57</th>        <th class=\"col_heading level0 col59\" >pipe_58</th>        <th class=\"col_heading level0 col60\" >pipe_59</th>        <th class=\"col_heading level0 col61\" >pipe_60</th>        <th class=\"col_heading level0 col62\" >pipe_61</th>        <th class=\"col_heading level0 col63\" >pipe_62</th>        <th class=\"col_heading level0 col64\" >pipe_63</th>        <th class=\"col_heading level0 col65\" >pipe_64</th>        <th class=\"col_heading level0 col66\" >pipe_65</th>        <th class=\"col_heading level0 col67\" >pipe_66</th>        <th class=\"col_heading level0 col68\" >pipe_67</th>        <th class=\"col_heading level0 col69\" >pipe_68</th>        <th class=\"col_heading level0 col70\" >pipe_69</th>        <th class=\"col_heading level0 col71\" >pipe_70</th>        <th class=\"col_heading level0 col72\" >pipe_71</th>        <th class=\"col_heading level0 col73\" >pipe_72</th>        <th class=\"col_heading level0 col74\" >pipe_73</th>        <th class=\"col_heading level0 col75\" >pipe_74</th>        <th class=\"col_heading level0 col76\" >pipe_75</th>        <th class=\"col_heading level0 col77\" >pipe_76</th>        <th class=\"col_heading level0 col78\" >pipe_77</th>        <th class=\"col_heading level0 col79\" >pipe_78</th>        <th class=\"col_heading level0 col80\" >pipe_79</th>        <th class=\"col_heading level0 col81\" >pipe_80</th>        <th class=\"col_heading level0 col82\" >pipe_81</th>        <th class=\"col_heading level0 col83\" >pipe_82</th>        <th class=\"col_heading level0 col84\" >pipe_83</th>        <th class=\"col_heading level0 col85\" >pipe_84</th>        <th class=\"col_heading level0 col86\" >pipe_85</th>        <th class=\"col_heading level0 col87\" >pipe_86</th>        <th class=\"col_heading level0 col88\" >pipe_87</th>        <th class=\"col_heading level0 col89\" >pipe_88</th>        <th class=\"col_heading level0 col90\" >pipe_89</th>        <th class=\"col_heading level0 col91\" >pipe_90</th>        <th class=\"col_heading level0 col92\" >pipe_91</th>        <th class=\"col_heading level0 col93\" >pipe_92</th>        <th class=\"col_heading level0 col94\" >pipe_93</th>        <th class=\"col_heading level0 col95\" >pipe_94</th>        <th class=\"col_heading level0 col96\" >pipe_95</th>        <th class=\"col_heading level0 col97\" >pipe_96</th>        <th class=\"col_heading level0 col98\" >pipe_97</th>        <th class=\"col_heading level0 col99\" >pipe_98</th>        <th class=\"col_heading level0 col100\" >pipe_99</th>        <th class=\"col_heading level0 col101\" >pipe_100</th>        <th class=\"col_heading level0 col102\" >pipe_101</th>        <th class=\"col_heading level0 col103\" >pipe_102</th>        <th class=\"col_heading level0 col104\" >pipe_103</th>        <th class=\"col_heading level0 col105\" >pipe_104</th>        <th class=\"col_heading level0 col106\" >pipe_105</th>        <th class=\"col_heading level0 col107\" >pipe_106</th>        <th class=\"col_heading level0 col108\" >pipe_107</th>        <th class=\"col_heading level0 col109\" >pipe_108</th>        <th class=\"col_heading level0 col110\" >pipe_109</th>        <th class=\"col_heading level0 col111\" >pipe_110</th>        <th class=\"col_heading level0 col112\" >pipe_111</th>        <th class=\"col_heading level0 col113\" >pipe_112</th>        <th class=\"col_heading level0 col114\" >pipe_113</th>        <th class=\"col_heading level0 col115\" >pipe_114</th>        <th class=\"col_heading level0 col116\" >pipe_115</th>        <th class=\"col_heading level0 col117\" >pipe_116</th>        <th class=\"col_heading level0 col118\" >pipe_117</th>        <th class=\"col_heading level0 col119\" >pipe_118</th>        <th class=\"col_heading level0 col120\" >pipe_119</th>        <th class=\"col_heading level0 col121\" >pipe_120</th>        <th class=\"col_heading level0 col122\" >pipe_121</th>        <th class=\"col_heading level0 col123\" >pipe_122</th>        <th class=\"col_heading level0 col124\" >pipe_123</th>        <th class=\"col_heading level0 col125\" >pipe_124</th>        <th class=\"col_heading level0 col126\" >pipe_125</th>        <th class=\"col_heading level0 col127\" >pipe_126</th>        <th class=\"col_heading level0 col128\" >pipe_127</th>        <th class=\"col_heading level0 col129\" >pipe_128</th>        <th class=\"col_heading level0 col130\" >pipe_129</th>        <th class=\"col_heading level0 col131\" >pipe_130</th>        <th class=\"col_heading level0 col132\" >pipe_131</th>        <th class=\"col_heading level0 col133\" >pipe_132</th>        <th class=\"col_heading level0 col134\" >pipe_133</th>        <th class=\"col_heading level0 col135\" >pipe_134</th>        <th class=\"col_heading level0 col136\" >pipe_135</th>        <th class=\"col_heading level0 col137\" >pipe_136</th>        <th class=\"col_heading level0 col138\" >pipe_137</th>        <th class=\"col_heading level0 col139\" >pipe_138</th>        <th class=\"col_heading level0 col140\" >pipe_139</th>        <th class=\"col_heading level0 col141\" >pipe_140</th>        <th class=\"col_heading level0 col142\" >pipe_141</th>        <th class=\"col_heading level0 col143\" >pipe_142</th>        <th class=\"col_heading level0 col144\" >pipe_143</th>        <th class=\"col_heading level0 col145\" >pipe_144</th>        <th class=\"col_heading level0 col146\" >pipe_145</th>        <th class=\"col_heading level0 col147\" >pipe_146</th>        <th class=\"col_heading level0 col148\" >pipe_147</th>        <th class=\"col_heading level0 col149\" >pipe_148</th>        <th class=\"col_heading level0 col150\" >pipe_149</th>        <th class=\"col_heading level0 col151\" >pipe_150</th>        <th class=\"col_heading level0 col152\" >pipe_151</th>        <th class=\"col_heading level0 col153\" >pipe_152</th>        <th class=\"col_heading level0 col154\" >pipe_153</th>        <th class=\"col_heading level0 col155\" >pipe_154</th>        <th class=\"col_heading level0 col156\" >pipe_155</th>        <th class=\"col_heading level0 col157\" >pipe_156</th>        <th class=\"col_heading level0 col158\" >pipe_157</th>        <th class=\"col_heading level0 col159\" >pipe_158</th>        <th class=\"col_heading level0 col160\" >pipe_159</th>        <th class=\"col_heading level0 col161\" >pipe_160</th>        <th class=\"col_heading level0 col162\" >pipe_161</th>        <th class=\"col_heading level0 col163\" >pipe_162</th>        <th class=\"col_heading level0 col164\" >pipe_163</th>        <th class=\"col_heading level0 col165\" >pipe_164</th>        <th class=\"col_heading level0 col166\" >pipe_165</th>        <th class=\"col_heading level0 col167\" >pipe_166</th>        <th class=\"col_heading level0 col168\" >pipe_167</th>        <th class=\"col_heading level0 col169\" >pipe_168</th>        <th class=\"col_heading level0 col170\" >pipe_169</th>        <th class=\"col_heading level0 col171\" >pipe_170</th>        <th class=\"col_heading level0 col172\" >pipe_171</th>        <th class=\"col_heading level0 col173\" >pipe_172</th>        <th class=\"col_heading level0 col174\" >pipe_173</th>        <th class=\"col_heading level0 col175\" >pipe_174</th>        <th class=\"col_heading level0 col176\" >pipe_175</th>        <th class=\"col_heading level0 col177\" >pipe_176</th>        <th class=\"col_heading level0 col178\" >pipe_177</th>        <th class=\"col_heading level0 col179\" >pipe_178</th>        <th class=\"col_heading level0 col180\" >pipe_179</th>        <th class=\"col_heading level0 col181\" >pipe_180</th>        <th class=\"col_heading level0 col182\" >pipe_181</th>        <th class=\"col_heading level0 col183\" >pipe_182</th>        <th class=\"col_heading level0 col184\" >pipe_183</th>        <th class=\"col_heading level0 col185\" >pipe_184</th>        <th class=\"col_heading level0 col186\" >pipe_185</th>        <th class=\"col_heading level0 col187\" >pipe_186</th>        <th class=\"col_heading level0 col188\" >pipe_187</th>        <th class=\"col_heading level0 col189\" >pipe_188</th>        <th class=\"col_heading level0 col190\" >pipe_189</th>        <th class=\"col_heading level0 col191\" >pipe_190</th>        <th class=\"col_heading level0 col192\" >pipe_191</th>        <th class=\"col_heading level0 col193\" >pipe_192</th>        <th class=\"col_heading level0 col194\" >pipe_193</th>        <th class=\"col_heading level0 col195\" >pipe_194</th>        <th class=\"col_heading level0 col196\" >pipe_195</th>        <th class=\"col_heading level0 col197\" >pipe_196</th>        <th class=\"col_heading level0 col198\" >pipe_197</th>        <th class=\"col_heading level0 col199\" >pipe_198</th>        <th class=\"col_heading level0 col200\" >pipe_199</th>        <th class=\"col_heading level0 col201\" >pipe_200</th>        <th class=\"col_heading level0 col202\" >pipe_201</th>        <th class=\"col_heading level0 col203\" >pipe_202</th>        <th class=\"col_heading level0 col204\" >pipe_203</th>        <th class=\"col_heading level0 col205\" >pipe_204</th>        <th class=\"col_heading level0 col206\" >pipe_205</th>        <th class=\"col_heading level0 col207\" >pipe_206</th>        <th class=\"col_heading level0 col208\" >pipe_207</th>        <th class=\"col_heading level0 col209\" >pipe_208</th>        <th class=\"col_heading level0 col210\" >pipe_209</th>        <th class=\"col_heading level0 col211\" >pipe_210</th>        <th class=\"col_heading level0 col212\" >pipe_211</th>        <th class=\"col_heading level0 col213\" >pipe_212</th>        <th class=\"col_heading level0 col214\" >pipe_213</th>        <th class=\"col_heading level0 col215\" >pipe_214</th>        <th class=\"col_heading level0 col216\" >pipe_215</th>        <th class=\"col_heading level0 col217\" >pipe_216</th>        <th class=\"col_heading level0 col218\" >pipe_217</th>        <th class=\"col_heading level0 col219\" >pipe_218</th>        <th class=\"col_heading level0 col220\" >pipe_219</th>        <th class=\"col_heading level0 col221\" >pipe_220</th>        <th class=\"col_heading level0 col222\" >pipe_221</th>        <th class=\"col_heading level0 col223\" >pipe_222</th>        <th class=\"col_heading level0 col224\" >pipe_223</th>        <th class=\"col_heading level0 col225\" >pipe_224</th>        <th class=\"col_heading level0 col226\" >pipe_225</th>        <th class=\"col_heading level0 col227\" >pipe_226</th>        <th class=\"col_heading level0 col228\" >pipe_227</th>        <th class=\"col_heading level0 col229\" >pipe_228</th>        <th class=\"col_heading level0 col230\" >pipe_229</th>        <th class=\"col_heading level0 col231\" >pipe_230</th>        <th class=\"col_heading level0 col232\" >pipe_231</th>        <th class=\"col_heading level0 col233\" >pipe_232</th>        <th class=\"col_heading level0 col234\" >pipe_233</th>        <th class=\"col_heading level0 col235\" >pipe_234</th>        <th class=\"col_heading level0 col236\" >pipe_235</th>        <th class=\"col_heading level0 col237\" >pipe_236</th>        <th class=\"col_heading level0 col238\" >pipe_237</th>        <th class=\"col_heading level0 col239\" >pipe_238</th>        <th class=\"col_heading level0 col240\" >pipe_239</th>        <th class=\"col_heading level0 col241\" >pipe_240</th>        <th class=\"col_heading level0 col242\" >pipe_241</th>        <th class=\"col_heading level0 col243\" >pipe_242</th>        <th class=\"col_heading level0 col244\" >pipe_243</th>        <th class=\"col_heading level0 col245\" >pipe_244</th>        <th class=\"col_heading level0 col246\" >pipe_245</th>        <th class=\"col_heading level0 col247\" >pipe_246</th>        <th class=\"col_heading level0 col248\" >pipe_247</th>        <th class=\"col_heading level0 col249\" >pipe_248</th>        <th class=\"col_heading level0 col250\" >pipe_249</th>        <th class=\"col_heading level0 col251\" >pipe_250</th>        <th class=\"col_heading level0 col252\" >pipe_251</th>        <th class=\"col_heading level0 col253\" >pipe_252</th>        <th class=\"col_heading level0 col254\" >pipe_253</th>        <th class=\"col_heading level0 col255\" >pipe_254</th>        <th class=\"col_heading level0 col256\" >pipe_255</th>        <th class=\"col_heading level0 col257\" >pipe_256</th>        <th class=\"col_heading level0 col258\" >pipe_257</th>        <th class=\"col_heading level0 col259\" >pipe_258</th>        <th class=\"col_heading level0 col260\" >pipe_259</th>        <th class=\"col_heading level0 col261\" >pipe_260</th>        <th class=\"col_heading level0 col262\" >pipe_261</th>        <th class=\"col_heading level0 col263\" >pipe_262</th>        <th class=\"col_heading level0 col264\" >pipe_263</th>        <th class=\"col_heading level0 col265\" >pipe_264</th>        <th class=\"col_heading level0 col266\" >pipe_265</th>        <th class=\"col_heading level0 col267\" >pipe_266</th>        <th class=\"col_heading level0 col268\" >pipe_267</th>        <th class=\"col_heading level0 col269\" >pipe_268</th>        <th class=\"col_heading level0 col270\" >pipe_269</th>        <th class=\"col_heading level0 col271\" >pipe_270</th>        <th class=\"col_heading level0 col272\" >pipe_271</th>        <th class=\"col_heading level0 col273\" >pipe_272</th>        <th class=\"col_heading level0 col274\" >pipe_273</th>        <th class=\"col_heading level0 col275\" >pipe_274</th>        <th class=\"col_heading level0 col276\" >pipe_275</th>        <th class=\"col_heading level0 col277\" >pipe_276</th>        <th class=\"col_heading level0 col278\" >pipe_277</th>        <th class=\"col_heading level0 col279\" >pipe_278</th>        <th class=\"col_heading level0 col280\" >pipe_279</th>        <th class=\"col_heading level0 col281\" >pipe_280</th>        <th class=\"col_heading level0 col282\" >pipe_281</th>        <th class=\"col_heading level0 col283\" >pipe_282</th>        <th class=\"col_heading level0 col284\" >pipe_283</th>        <th class=\"col_heading level0 col285\" >pipe_284</th>        <th class=\"col_heading level0 col286\" >pipe_285</th>        <th class=\"col_heading level0 col287\" >pipe_286</th>        <th class=\"col_heading level0 col288\" >pipe_287</th>        <th class=\"col_heading level0 col289\" >pipe_288</th>        <th class=\"col_heading level0 col290\" >pipe_289</th>        <th class=\"col_heading level0 col291\" >pipe_290</th>        <th class=\"col_heading level0 col292\" >pipe_291</th>        <th class=\"col_heading level0 col293\" >pipe_292</th>        <th class=\"col_heading level0 col294\" >pipe_293</th>        <th class=\"col_heading level0 col295\" >pipe_294</th>        <th class=\"col_heading level0 col296\" >pipe_295</th>        <th class=\"col_heading level0 col297\" >pipe_296</th>        <th class=\"col_heading level0 col298\" >pipe_297</th>        <th class=\"col_heading level0 col299\" >pipe_298</th>        <th class=\"col_heading level0 col300\" >pipe_299</th>        <th class=\"col_heading level0 col301\" >pipe_300</th>        <th class=\"col_heading level0 col302\" >pipe_301</th>        <th class=\"col_heading level0 col303\" >pipe_302</th>        <th class=\"col_heading level0 col304\" >pipe_303</th>        <th class=\"col_heading level0 col305\" >pipe_304</th>        <th class=\"col_heading level0 col306\" >pipe_305</th>        <th class=\"col_heading level0 col307\" >pipe_306</th>        <th class=\"col_heading level0 col308\" >pipe_307</th>        <th class=\"col_heading level0 col309\" >pipe_308</th>        <th class=\"col_heading level0 col310\" >pipe_309</th>        <th class=\"col_heading level0 col311\" >pipe_310</th>        <th class=\"col_heading level0 col312\" >pipe_311</th>        <th class=\"col_heading level0 col313\" >pipe_312</th>        <th class=\"col_heading level0 col314\" >pipe_313</th>        <th class=\"col_heading level0 col315\" >pipe_314</th>        <th class=\"col_heading level0 col316\" >pipe_315</th>        <th class=\"col_heading level0 col317\" >pipe_316</th>        <th class=\"col_heading level0 col318\" >pipe_317</th>        <th class=\"col_heading level0 col319\" >pipe_318</th>        <th class=\"col_heading level0 col320\" >pipe_319</th>        <th class=\"col_heading level0 col321\" >pipe_320</th>        <th class=\"col_heading level0 col322\" >pipe_321</th>        <th class=\"col_heading level0 col323\" >pipe_322</th>        <th class=\"col_heading level0 col324\" >pipe_323</th>        <th class=\"col_heading level0 col325\" >pipe_324</th>        <th class=\"col_heading level0 col326\" >pipe_325</th>        <th class=\"col_heading level0 col327\" >pipe_326</th>        <th class=\"col_heading level0 col328\" >pipe_327</th>        <th class=\"col_heading level0 col329\" >pipe_328</th>        <th class=\"col_heading level0 col330\" >pipe_329</th>        <th class=\"col_heading level0 col331\" >pipe_330</th>        <th class=\"col_heading level0 col332\" >pipe_331</th>        <th class=\"col_heading level0 col333\" >pipe_332</th>        <th class=\"col_heading level0 col334\" >pipe_333</th>        <th class=\"col_heading level0 col335\" >pipe_334</th>        <th class=\"col_heading level0 col336\" >pipe_335</th>        <th class=\"col_heading level0 col337\" >pipe_336</th>        <th class=\"col_heading level0 col338\" >pipe_337</th>        <th class=\"col_heading level0 col339\" >pipe_338</th>        <th class=\"col_heading level0 col340\" >pipe_339</th>        <th class=\"col_heading level0 col341\" >pipe_340</th>        <th class=\"col_heading level0 col342\" >pipe_341</th>        <th class=\"col_heading level0 col343\" >pipe_342</th>        <th class=\"col_heading level0 col344\" >pipe_343</th>        <th class=\"col_heading level0 col345\" >pipe_344</th>        <th class=\"col_heading level0 col346\" >pipe_345</th>        <th class=\"col_heading level0 col347\" >pipe_346</th>        <th class=\"col_heading level0 col348\" >pipe_347</th>        <th class=\"col_heading level0 col349\" >pipe_348</th>        <th class=\"col_heading level0 col350\" >pipe_349</th>        <th class=\"col_heading level0 col351\" >pipe_350</th>        <th class=\"col_heading level0 col352\" >pipe_351</th>        <th class=\"col_heading level0 col353\" >pipe_352</th>        <th class=\"col_heading level0 col354\" >pipe_353</th>        <th class=\"col_heading level0 col355\" >pipe_354</th>        <th class=\"col_heading level0 col356\" >pipe_355</th>        <th class=\"col_heading level0 col357\" >pipe_356</th>        <th class=\"col_heading level0 col358\" >pipe_357</th>        <th class=\"col_heading level0 col359\" >pipe_358</th>        <th class=\"col_heading level0 col360\" >pipe_359</th>        <th class=\"col_heading level0 col361\" >pipe_360</th>        <th class=\"col_heading level0 col362\" >pipe_361</th>        <th class=\"col_heading level0 col363\" >pipe_362</th>        <th class=\"col_heading level0 col364\" >pipe_363</th>        <th class=\"col_heading level0 col365\" >pipe_364</th>        <th class=\"col_heading level0 col366\" >pipe_365</th>        <th class=\"col_heading level0 col367\" >pipe_366</th>        <th class=\"col_heading level0 col368\" >pipe_367</th>        <th class=\"col_heading level0 col369\" >pipe_368</th>        <th class=\"col_heading level0 col370\" >pipe_369</th>        <th class=\"col_heading level0 col371\" >pipe_370</th>        <th class=\"col_heading level0 col372\" >pipe_371</th>        <th class=\"col_heading level0 col373\" >pipe_372</th>        <th class=\"col_heading level0 col374\" >pipe_373</th>        <th class=\"col_heading level0 col375\" >pipe_374</th>        <th class=\"col_heading level0 col376\" >pipe_375</th>        <th class=\"col_heading level0 col377\" >pipe_376</th>        <th class=\"col_heading level0 col378\" >pipe_377</th>        <th class=\"col_heading level0 col379\" >pipe_378</th>        <th class=\"col_heading level0 col380\" >pipe_379</th>        <th class=\"col_heading level0 col381\" >pipe_380</th>        <th class=\"col_heading level0 col382\" >pipe_381</th>        <th class=\"col_heading level0 col383\" >pipe_382</th>        <th class=\"col_heading level0 col384\" >pipe_383</th>        <th class=\"col_heading level0 col385\" >pipe_384</th>        <th class=\"col_heading level0 col386\" >pipe_385</th>        <th class=\"col_heading level0 col387\" >pipe_386</th>        <th class=\"col_heading level0 col388\" >pipe_387</th>        <th class=\"col_heading level0 col389\" >pipe_388</th>        <th class=\"col_heading level0 col390\" >pipe_389</th>        <th class=\"col_heading level0 col391\" >pipe_390</th>        <th class=\"col_heading level0 col392\" >pipe_391</th>        <th class=\"col_heading level0 col393\" >pipe_392</th>        <th class=\"col_heading level0 col394\" >pipe_393</th>        <th class=\"col_heading level0 col395\" >pipe_394</th>        <th class=\"col_heading level0 col396\" >pipe_395</th>        <th class=\"col_heading level0 col397\" >pipe_396</th>        <th class=\"col_heading level0 col398\" >pipe_397</th>        <th class=\"col_heading level0 col399\" >pipe_398</th>        <th class=\"col_heading level0 col400\" >pipe_399</th>        <th class=\"col_heading level0 col401\" >pipe_400</th>        <th class=\"col_heading level0 col402\" >pipe_401</th>        <th class=\"col_heading level0 col403\" >pipe_402</th>        <th class=\"col_heading level0 col404\" >pipe_403</th>        <th class=\"col_heading level0 col405\" >pipe_404</th>        <th class=\"col_heading level0 col406\" >pipe_405</th>        <th class=\"col_heading level0 col407\" >pipe_406</th>        <th class=\"col_heading level0 col408\" >pipe_407</th>        <th class=\"col_heading level0 col409\" >pipe_408</th>        <th class=\"col_heading level0 col410\" >pipe_409</th>        <th class=\"col_heading level0 col411\" >pipe_410</th>        <th class=\"col_heading level0 col412\" >pipe_411</th>        <th class=\"col_heading level0 col413\" >pipe_412</th>        <th class=\"col_heading level0 col414\" >pipe_413</th>        <th class=\"col_heading level0 col415\" >pipe_414</th>        <th class=\"col_heading level0 col416\" >pipe_415</th>        <th class=\"col_heading level0 col417\" >pipe_416</th>        <th class=\"col_heading level0 col418\" >pipe_417</th>        <th class=\"col_heading level0 col419\" >pipe_418</th>        <th class=\"col_heading level0 col420\" >pipe_419</th>        <th class=\"col_heading level0 col421\" >pipe_420</th>        <th class=\"col_heading level0 col422\" >pipe_421</th>        <th class=\"col_heading level0 col423\" >pipe_422</th>        <th class=\"col_heading level0 col424\" >pipe_423</th>        <th class=\"col_heading level0 col425\" >pipe_424</th>        <th class=\"col_heading level0 col426\" >pipe_425</th>        <th class=\"col_heading level0 col427\" >pipe_426</th>        <th class=\"col_heading level0 col428\" >pipe_427</th>        <th class=\"col_heading level0 col429\" >pipe_428</th>        <th class=\"col_heading level0 col430\" >pipe_429</th>        <th class=\"col_heading level0 col431\" >pipe_430</th>        <th class=\"col_heading level0 col432\" >pipe_431</th>        <th class=\"col_heading level0 col433\" >pipe_432</th>        <th class=\"col_heading level0 col434\" >pipe_433</th>        <th class=\"col_heading level0 col435\" >pipe_434</th>        <th class=\"col_heading level0 col436\" >pipe_435</th>        <th class=\"col_heading level0 col437\" >pipe_436</th>        <th class=\"col_heading level0 col438\" >pipe_437</th>        <th class=\"col_heading level0 col439\" >pipe_438</th>        <th class=\"col_heading level0 col440\" >pipe_439</th>        <th class=\"col_heading level0 col441\" >pipe_440</th>        <th class=\"col_heading level0 col442\" >pipe_441</th>        <th class=\"col_heading level0 col443\" >pipe_442</th>        <th class=\"col_heading level0 col444\" >pipe_443</th>        <th class=\"col_heading level0 col445\" >pipe_444</th>        <th class=\"col_heading level0 col446\" >pipe_445</th>        <th class=\"col_heading level0 col447\" >pipe_446</th>        <th class=\"col_heading level0 col448\" >pipe_447</th>        <th class=\"col_heading level0 col449\" >pipe_448</th>        <th class=\"col_heading level0 col450\" >pipe_449</th>        <th class=\"col_heading level0 col451\" >pipe_450</th>        <th class=\"col_heading level0 col452\" >pipe_451</th>        <th class=\"col_heading level0 col453\" >pipe_452</th>        <th class=\"col_heading level0 col454\" >pipe_453</th>        <th class=\"col_heading level0 col455\" >pipe_454</th>        <th class=\"col_heading level0 col456\" >pipe_455</th>        <th class=\"col_heading level0 col457\" >pipe_456</th>        <th class=\"col_heading level0 col458\" >pipe_457</th>        <th class=\"col_heading level0 col459\" >pipe_458</th>        <th class=\"col_heading level0 col460\" >pipe_459</th>        <th class=\"col_heading level0 col461\" >pipe_460</th>        <th class=\"col_heading level0 col462\" >pipe_461</th>        <th class=\"col_heading level0 col463\" >pipe_462</th>        <th class=\"col_heading level0 col464\" >pipe_463</th>        <th class=\"col_heading level0 col465\" >pipe_464</th>        <th class=\"col_heading level0 col466\" >pipe_465</th>        <th class=\"col_heading level0 col467\" >pipe_466</th>        <th class=\"col_heading level0 col468\" >pipe_467</th>        <th class=\"col_heading level0 col469\" >pipe_468</th>        <th class=\"col_heading level0 col470\" >pipe_469</th>        <th class=\"col_heading level0 col471\" >pipe_470</th>        <th class=\"col_heading level0 col472\" >pipe_471</th>        <th class=\"col_heading level0 col473\" >pipe_472</th>        <th class=\"col_heading level0 col474\" >pipe_473</th>        <th class=\"col_heading level0 col475\" >pipe_474</th>        <th class=\"col_heading level0 col476\" >pipe_475</th>        <th class=\"col_heading level0 col477\" >pipe_476</th>        <th class=\"col_heading level0 col478\" >pipe_477</th>        <th class=\"col_heading level0 col479\" >pipe_478</th>        <th class=\"col_heading level0 col480\" >pipe_479</th>        <th class=\"col_heading level0 col481\" >pipe_480</th>        <th class=\"col_heading level0 col482\" >pipe_481</th>        <th class=\"col_heading level0 col483\" >pipe_482</th>        <th class=\"col_heading level0 col484\" >pipe_483</th>    </tr></thead><tbody>\n",
       "                <tr>\n",
       "                                <td id=\"T_d9139a7e_f65e_11e9_a849_1418772eafb8row0_col0\" class=\"data row0 col0\" >0</td>\n",
       "                        <td id=\"T_d9139a7e_f65e_11e9_a849_1418772eafb8row0_col1\" class=\"data row0 col1\" >Conv2d(1, 64, kernel_size=(7, 7), stride=(1, 1), padding=(3, 3))</td>\n",
       "                        <td id=\"T_d9139a7e_f65e_11e9_a849_1418772eafb8row0_col2\" class=\"data row0 col2\" >BatchNorm2d(64, eps=1e-05, momentum=0.1, affine=True, track_running_stats=True)</td>\n",
       "                        <td id=\"T_d9139a7e_f65e_11e9_a849_1418772eafb8row0_col3\" class=\"data row0 col3\" >ReLU()</td>\n",
       "                        <td id=\"T_d9139a7e_f65e_11e9_a849_1418772eafb8row0_col4\" class=\"data row0 col4\" >MaxPool2d(kernel_size=3, stride=2, padding=0, dilation=1, ceil_mode=False)</td>\n",
       "                        <td id=\"T_d9139a7e_f65e_11e9_a849_1418772eafb8row0_col5\" class=\"data row0 col5\" >BatchNorm2d(64, eps=1e-05, momentum=0.1, affine=True, track_running_stats=True)</td>\n",
       "                        <td id=\"T_d9139a7e_f65e_11e9_a849_1418772eafb8row0_col6\" class=\"data row0 col6\" >ReLU()</td>\n",
       "                        <td id=\"T_d9139a7e_f65e_11e9_a849_1418772eafb8row0_col7\" class=\"data row0 col7\" >Conv2d(64, 128, kernel_size=(1, 1), stride=(1, 1))</td>\n",
       "                        <td id=\"T_d9139a7e_f65e_11e9_a849_1418772eafb8row0_col8\" class=\"data row0 col8\" >BatchNorm2d(128, eps=1e-05, momentum=0.1, affine=True, track_running_stats=True)</td>\n",
       "                        <td id=\"T_d9139a7e_f65e_11e9_a849_1418772eafb8row0_col9\" class=\"data row0 col9\" >ReLU()</td>\n",
       "                        <td id=\"T_d9139a7e_f65e_11e9_a849_1418772eafb8row0_col10\" class=\"data row0 col10\" >Conv2d(128, 32, kernel_size=(3, 3), stride=(1, 1), padding=(1, 1))</td>\n",
       "                        <td id=\"T_d9139a7e_f65e_11e9_a849_1418772eafb8row0_col11\" class=\"data row0 col11\" >Dropout2d(p=0)</td>\n",
       "                        <td id=\"T_d9139a7e_f65e_11e9_a849_1418772eafb8row0_col12\" class=\"data row0 col12\" >TorchConcatenate()</td>\n",
       "                        <td id=\"T_d9139a7e_f65e_11e9_a849_1418772eafb8row0_col13\" class=\"data row0 col13\" >BatchNorm2d(96, eps=1e-05, momentum=0.1, affine=True, track_running_stats=True)</td>\n",
       "                        <td id=\"T_d9139a7e_f65e_11e9_a849_1418772eafb8row0_col14\" class=\"data row0 col14\" >ReLU()</td>\n",
       "                        <td id=\"T_d9139a7e_f65e_11e9_a849_1418772eafb8row0_col15\" class=\"data row0 col15\" >Conv2d(96, 128, kernel_size=(1, 1), stride=(1, 1))</td>\n",
       "                        <td id=\"T_d9139a7e_f65e_11e9_a849_1418772eafb8row0_col16\" class=\"data row0 col16\" >BatchNorm2d(128, eps=1e-05, momentum=0.1, affine=True, track_running_stats=True)</td>\n",
       "                        <td id=\"T_d9139a7e_f65e_11e9_a849_1418772eafb8row0_col17\" class=\"data row0 col17\" >ReLU()</td>\n",
       "                        <td id=\"T_d9139a7e_f65e_11e9_a849_1418772eafb8row0_col18\" class=\"data row0 col18\" >Conv2d(128, 32, kernel_size=(3, 3), stride=(1, 1), padding=(1, 1))</td>\n",
       "                        <td id=\"T_d9139a7e_f65e_11e9_a849_1418772eafb8row0_col19\" class=\"data row0 col19\" >Dropout2d(p=0)</td>\n",
       "                        <td id=\"T_d9139a7e_f65e_11e9_a849_1418772eafb8row0_col20\" class=\"data row0 col20\" >TorchConcatenate()</td>\n",
       "                        <td id=\"T_d9139a7e_f65e_11e9_a849_1418772eafb8row0_col21\" class=\"data row0 col21\" >BatchNorm2d(128, eps=1e-05, momentum=0.1, affine=True, track_running_stats=True)</td>\n",
       "                        <td id=\"T_d9139a7e_f65e_11e9_a849_1418772eafb8row0_col22\" class=\"data row0 col22\" >ReLU()</td>\n",
       "                        <td id=\"T_d9139a7e_f65e_11e9_a849_1418772eafb8row0_col23\" class=\"data row0 col23\" >Conv2d(128, 128, kernel_size=(1, 1), stride=(1, 1))</td>\n",
       "                        <td id=\"T_d9139a7e_f65e_11e9_a849_1418772eafb8row0_col24\" class=\"data row0 col24\" >BatchNorm2d(128, eps=1e-05, momentum=0.1, affine=True, track_running_stats=True)</td>\n",
       "                        <td id=\"T_d9139a7e_f65e_11e9_a849_1418772eafb8row0_col25\" class=\"data row0 col25\" >ReLU()</td>\n",
       "                        <td id=\"T_d9139a7e_f65e_11e9_a849_1418772eafb8row0_col26\" class=\"data row0 col26\" >Conv2d(128, 32, kernel_size=(3, 3), stride=(1, 1), padding=(1, 1))</td>\n",
       "                        <td id=\"T_d9139a7e_f65e_11e9_a849_1418772eafb8row0_col27\" class=\"data row0 col27\" >Dropout2d(p=0)</td>\n",
       "                        <td id=\"T_d9139a7e_f65e_11e9_a849_1418772eafb8row0_col28\" class=\"data row0 col28\" >TorchConcatenate()</td>\n",
       "                        <td id=\"T_d9139a7e_f65e_11e9_a849_1418772eafb8row0_col29\" class=\"data row0 col29\" >BatchNorm2d(160, eps=1e-05, momentum=0.1, affine=True, track_running_stats=True)</td>\n",
       "                        <td id=\"T_d9139a7e_f65e_11e9_a849_1418772eafb8row0_col30\" class=\"data row0 col30\" >ReLU()</td>\n",
       "                        <td id=\"T_d9139a7e_f65e_11e9_a849_1418772eafb8row0_col31\" class=\"data row0 col31\" >Conv2d(160, 128, kernel_size=(1, 1), stride=(1, 1))</td>\n",
       "                        <td id=\"T_d9139a7e_f65e_11e9_a849_1418772eafb8row0_col32\" class=\"data row0 col32\" >BatchNorm2d(128, eps=1e-05, momentum=0.1, affine=True, track_running_stats=True)</td>\n",
       "                        <td id=\"T_d9139a7e_f65e_11e9_a849_1418772eafb8row0_col33\" class=\"data row0 col33\" >ReLU()</td>\n",
       "                        <td id=\"T_d9139a7e_f65e_11e9_a849_1418772eafb8row0_col34\" class=\"data row0 col34\" >Conv2d(128, 32, kernel_size=(3, 3), stride=(1, 1), padding=(1, 1))</td>\n",
       "                        <td id=\"T_d9139a7e_f65e_11e9_a849_1418772eafb8row0_col35\" class=\"data row0 col35\" >Dropout2d(p=0)</td>\n",
       "                        <td id=\"T_d9139a7e_f65e_11e9_a849_1418772eafb8row0_col36\" class=\"data row0 col36\" >TorchConcatenate()</td>\n",
       "                        <td id=\"T_d9139a7e_f65e_11e9_a849_1418772eafb8row0_col37\" class=\"data row0 col37\" >BatchNorm2d(192, eps=1e-05, momentum=0.1, affine=True, track_running_stats=True)</td>\n",
       "                        <td id=\"T_d9139a7e_f65e_11e9_a849_1418772eafb8row0_col38\" class=\"data row0 col38\" >ReLU()</td>\n",
       "                        <td id=\"T_d9139a7e_f65e_11e9_a849_1418772eafb8row0_col39\" class=\"data row0 col39\" >Conv2d(192, 128, kernel_size=(1, 1), stride=(1, 1))</td>\n",
       "                        <td id=\"T_d9139a7e_f65e_11e9_a849_1418772eafb8row0_col40\" class=\"data row0 col40\" >BatchNorm2d(128, eps=1e-05, momentum=0.1, affine=True, track_running_stats=True)</td>\n",
       "                        <td id=\"T_d9139a7e_f65e_11e9_a849_1418772eafb8row0_col41\" class=\"data row0 col41\" >ReLU()</td>\n",
       "                        <td id=\"T_d9139a7e_f65e_11e9_a849_1418772eafb8row0_col42\" class=\"data row0 col42\" >Conv2d(128, 32, kernel_size=(3, 3), stride=(1, 1), padding=(1, 1))</td>\n",
       "                        <td id=\"T_d9139a7e_f65e_11e9_a849_1418772eafb8row0_col43\" class=\"data row0 col43\" >Dropout2d(p=0)</td>\n",
       "                        <td id=\"T_d9139a7e_f65e_11e9_a849_1418772eafb8row0_col44\" class=\"data row0 col44\" >TorchConcatenate()</td>\n",
       "                        <td id=\"T_d9139a7e_f65e_11e9_a849_1418772eafb8row0_col45\" class=\"data row0 col45\" >BatchNorm2d(224, eps=1e-05, momentum=0.1, affine=True, track_running_stats=True)</td>\n",
       "                        <td id=\"T_d9139a7e_f65e_11e9_a849_1418772eafb8row0_col46\" class=\"data row0 col46\" >ReLU()</td>\n",
       "                        <td id=\"T_d9139a7e_f65e_11e9_a849_1418772eafb8row0_col47\" class=\"data row0 col47\" >Conv2d(224, 128, kernel_size=(1, 1), stride=(1, 1))</td>\n",
       "                        <td id=\"T_d9139a7e_f65e_11e9_a849_1418772eafb8row0_col48\" class=\"data row0 col48\" >BatchNorm2d(128, eps=1e-05, momentum=0.1, affine=True, track_running_stats=True)</td>\n",
       "                        <td id=\"T_d9139a7e_f65e_11e9_a849_1418772eafb8row0_col49\" class=\"data row0 col49\" >ReLU()</td>\n",
       "                        <td id=\"T_d9139a7e_f65e_11e9_a849_1418772eafb8row0_col50\" class=\"data row0 col50\" >Conv2d(128, 32, kernel_size=(3, 3), stride=(1, 1), padding=(1, 1))</td>\n",
       "                        <td id=\"T_d9139a7e_f65e_11e9_a849_1418772eafb8row0_col51\" class=\"data row0 col51\" >Dropout2d(p=0)</td>\n",
       "                        <td id=\"T_d9139a7e_f65e_11e9_a849_1418772eafb8row0_col52\" class=\"data row0 col52\" >TorchConcatenate()</td>\n",
       "                        <td id=\"T_d9139a7e_f65e_11e9_a849_1418772eafb8row0_col53\" class=\"data row0 col53\" >BatchNorm2d(256, eps=1e-05, momentum=0.1, affine=True, track_running_stats=True)</td>\n",
       "                        <td id=\"T_d9139a7e_f65e_11e9_a849_1418772eafb8row0_col54\" class=\"data row0 col54\" >ReLU()</td>\n",
       "                        <td id=\"T_d9139a7e_f65e_11e9_a849_1418772eafb8row0_col55\" class=\"data row0 col55\" >Conv2d(256, 128, kernel_size=(1, 1), stride=(1, 1))</td>\n",
       "                        <td id=\"T_d9139a7e_f65e_11e9_a849_1418772eafb8row0_col56\" class=\"data row0 col56\" >AvgPool2d(kernel_size=2, stride=2, padding=0)</td>\n",
       "                        <td id=\"T_d9139a7e_f65e_11e9_a849_1418772eafb8row0_col57\" class=\"data row0 col57\" >BatchNorm2d(128, eps=1e-05, momentum=0.1, affine=True, track_running_stats=True)</td>\n",
       "                        <td id=\"T_d9139a7e_f65e_11e9_a849_1418772eafb8row0_col58\" class=\"data row0 col58\" >ReLU()</td>\n",
       "                        <td id=\"T_d9139a7e_f65e_11e9_a849_1418772eafb8row0_col59\" class=\"data row0 col59\" >Conv2d(128, 128, kernel_size=(1, 1), stride=(1, 1))</td>\n",
       "                        <td id=\"T_d9139a7e_f65e_11e9_a849_1418772eafb8row0_col60\" class=\"data row0 col60\" >BatchNorm2d(128, eps=1e-05, momentum=0.1, affine=True, track_running_stats=True)</td>\n",
       "                        <td id=\"T_d9139a7e_f65e_11e9_a849_1418772eafb8row0_col61\" class=\"data row0 col61\" >ReLU()</td>\n",
       "                        <td id=\"T_d9139a7e_f65e_11e9_a849_1418772eafb8row0_col62\" class=\"data row0 col62\" >Conv2d(128, 32, kernel_size=(3, 3), stride=(1, 1), padding=(1, 1))</td>\n",
       "                        <td id=\"T_d9139a7e_f65e_11e9_a849_1418772eafb8row0_col63\" class=\"data row0 col63\" >Dropout2d(p=0)</td>\n",
       "                        <td id=\"T_d9139a7e_f65e_11e9_a849_1418772eafb8row0_col64\" class=\"data row0 col64\" >TorchConcatenate()</td>\n",
       "                        <td id=\"T_d9139a7e_f65e_11e9_a849_1418772eafb8row0_col65\" class=\"data row0 col65\" >BatchNorm2d(160, eps=1e-05, momentum=0.1, affine=True, track_running_stats=True)</td>\n",
       "                        <td id=\"T_d9139a7e_f65e_11e9_a849_1418772eafb8row0_col66\" class=\"data row0 col66\" >ReLU()</td>\n",
       "                        <td id=\"T_d9139a7e_f65e_11e9_a849_1418772eafb8row0_col67\" class=\"data row0 col67\" >Conv2d(160, 128, kernel_size=(1, 1), stride=(1, 1))</td>\n",
       "                        <td id=\"T_d9139a7e_f65e_11e9_a849_1418772eafb8row0_col68\" class=\"data row0 col68\" >BatchNorm2d(128, eps=1e-05, momentum=0.1, affine=True, track_running_stats=True)</td>\n",
       "                        <td id=\"T_d9139a7e_f65e_11e9_a849_1418772eafb8row0_col69\" class=\"data row0 col69\" >ReLU()</td>\n",
       "                        <td id=\"T_d9139a7e_f65e_11e9_a849_1418772eafb8row0_col70\" class=\"data row0 col70\" >Conv2d(128, 32, kernel_size=(3, 3), stride=(1, 1), padding=(1, 1))</td>\n",
       "                        <td id=\"T_d9139a7e_f65e_11e9_a849_1418772eafb8row0_col71\" class=\"data row0 col71\" >Dropout2d(p=0)</td>\n",
       "                        <td id=\"T_d9139a7e_f65e_11e9_a849_1418772eafb8row0_col72\" class=\"data row0 col72\" >TorchConcatenate()</td>\n",
       "                        <td id=\"T_d9139a7e_f65e_11e9_a849_1418772eafb8row0_col73\" class=\"data row0 col73\" >BatchNorm2d(192, eps=1e-05, momentum=0.1, affine=True, track_running_stats=True)</td>\n",
       "                        <td id=\"T_d9139a7e_f65e_11e9_a849_1418772eafb8row0_col74\" class=\"data row0 col74\" >ReLU()</td>\n",
       "                        <td id=\"T_d9139a7e_f65e_11e9_a849_1418772eafb8row0_col75\" class=\"data row0 col75\" >Conv2d(192, 128, kernel_size=(1, 1), stride=(1, 1))</td>\n",
       "                        <td id=\"T_d9139a7e_f65e_11e9_a849_1418772eafb8row0_col76\" class=\"data row0 col76\" >BatchNorm2d(128, eps=1e-05, momentum=0.1, affine=True, track_running_stats=True)</td>\n",
       "                        <td id=\"T_d9139a7e_f65e_11e9_a849_1418772eafb8row0_col77\" class=\"data row0 col77\" >ReLU()</td>\n",
       "                        <td id=\"T_d9139a7e_f65e_11e9_a849_1418772eafb8row0_col78\" class=\"data row0 col78\" >Conv2d(128, 32, kernel_size=(3, 3), stride=(1, 1), padding=(1, 1))</td>\n",
       "                        <td id=\"T_d9139a7e_f65e_11e9_a849_1418772eafb8row0_col79\" class=\"data row0 col79\" >Dropout2d(p=0)</td>\n",
       "                        <td id=\"T_d9139a7e_f65e_11e9_a849_1418772eafb8row0_col80\" class=\"data row0 col80\" >TorchConcatenate()</td>\n",
       "                        <td id=\"T_d9139a7e_f65e_11e9_a849_1418772eafb8row0_col81\" class=\"data row0 col81\" >BatchNorm2d(224, eps=1e-05, momentum=0.1, affine=True, track_running_stats=True)</td>\n",
       "                        <td id=\"T_d9139a7e_f65e_11e9_a849_1418772eafb8row0_col82\" class=\"data row0 col82\" >ReLU()</td>\n",
       "                        <td id=\"T_d9139a7e_f65e_11e9_a849_1418772eafb8row0_col83\" class=\"data row0 col83\" >Conv2d(224, 128, kernel_size=(1, 1), stride=(1, 1))</td>\n",
       "                        <td id=\"T_d9139a7e_f65e_11e9_a849_1418772eafb8row0_col84\" class=\"data row0 col84\" >BatchNorm2d(128, eps=1e-05, momentum=0.1, affine=True, track_running_stats=True)</td>\n",
       "                        <td id=\"T_d9139a7e_f65e_11e9_a849_1418772eafb8row0_col85\" class=\"data row0 col85\" >ReLU()</td>\n",
       "                        <td id=\"T_d9139a7e_f65e_11e9_a849_1418772eafb8row0_col86\" class=\"data row0 col86\" >Conv2d(128, 32, kernel_size=(3, 3), stride=(1, 1), padding=(1, 1))</td>\n",
       "                        <td id=\"T_d9139a7e_f65e_11e9_a849_1418772eafb8row0_col87\" class=\"data row0 col87\" >Dropout2d(p=0)</td>\n",
       "                        <td id=\"T_d9139a7e_f65e_11e9_a849_1418772eafb8row0_col88\" class=\"data row0 col88\" >TorchConcatenate()</td>\n",
       "                        <td id=\"T_d9139a7e_f65e_11e9_a849_1418772eafb8row0_col89\" class=\"data row0 col89\" >BatchNorm2d(256, eps=1e-05, momentum=0.1, affine=True, track_running_stats=True)</td>\n",
       "                        <td id=\"T_d9139a7e_f65e_11e9_a849_1418772eafb8row0_col90\" class=\"data row0 col90\" >ReLU()</td>\n",
       "                        <td id=\"T_d9139a7e_f65e_11e9_a849_1418772eafb8row0_col91\" class=\"data row0 col91\" >Conv2d(256, 128, kernel_size=(1, 1), stride=(1, 1))</td>\n",
       "                        <td id=\"T_d9139a7e_f65e_11e9_a849_1418772eafb8row0_col92\" class=\"data row0 col92\" >BatchNorm2d(128, eps=1e-05, momentum=0.1, affine=True, track_running_stats=True)</td>\n",
       "                        <td id=\"T_d9139a7e_f65e_11e9_a849_1418772eafb8row0_col93\" class=\"data row0 col93\" >ReLU()</td>\n",
       "                        <td id=\"T_d9139a7e_f65e_11e9_a849_1418772eafb8row0_col94\" class=\"data row0 col94\" >Conv2d(128, 32, kernel_size=(3, 3), stride=(1, 1), padding=(1, 1))</td>\n",
       "                        <td id=\"T_d9139a7e_f65e_11e9_a849_1418772eafb8row0_col95\" class=\"data row0 col95\" >Dropout2d(p=0)</td>\n",
       "                        <td id=\"T_d9139a7e_f65e_11e9_a849_1418772eafb8row0_col96\" class=\"data row0 col96\" >TorchConcatenate()</td>\n",
       "                        <td id=\"T_d9139a7e_f65e_11e9_a849_1418772eafb8row0_col97\" class=\"data row0 col97\" >BatchNorm2d(288, eps=1e-05, momentum=0.1, affine=True, track_running_stats=True)</td>\n",
       "                        <td id=\"T_d9139a7e_f65e_11e9_a849_1418772eafb8row0_col98\" class=\"data row0 col98\" >ReLU()</td>\n",
       "                        <td id=\"T_d9139a7e_f65e_11e9_a849_1418772eafb8row0_col99\" class=\"data row0 col99\" >Conv2d(288, 128, kernel_size=(1, 1), stride=(1, 1))</td>\n",
       "                        <td id=\"T_d9139a7e_f65e_11e9_a849_1418772eafb8row0_col100\" class=\"data row0 col100\" >BatchNorm2d(128, eps=1e-05, momentum=0.1, affine=True, track_running_stats=True)</td>\n",
       "                        <td id=\"T_d9139a7e_f65e_11e9_a849_1418772eafb8row0_col101\" class=\"data row0 col101\" >ReLU()</td>\n",
       "                        <td id=\"T_d9139a7e_f65e_11e9_a849_1418772eafb8row0_col102\" class=\"data row0 col102\" >Conv2d(128, 32, kernel_size=(3, 3), stride=(1, 1), padding=(1, 1))</td>\n",
       "                        <td id=\"T_d9139a7e_f65e_11e9_a849_1418772eafb8row0_col103\" class=\"data row0 col103\" >Dropout2d(p=0)</td>\n",
       "                        <td id=\"T_d9139a7e_f65e_11e9_a849_1418772eafb8row0_col104\" class=\"data row0 col104\" >TorchConcatenate()</td>\n",
       "                        <td id=\"T_d9139a7e_f65e_11e9_a849_1418772eafb8row0_col105\" class=\"data row0 col105\" >BatchNorm2d(320, eps=1e-05, momentum=0.1, affine=True, track_running_stats=True)</td>\n",
       "                        <td id=\"T_d9139a7e_f65e_11e9_a849_1418772eafb8row0_col106\" class=\"data row0 col106\" >ReLU()</td>\n",
       "                        <td id=\"T_d9139a7e_f65e_11e9_a849_1418772eafb8row0_col107\" class=\"data row0 col107\" >Conv2d(320, 128, kernel_size=(1, 1), stride=(1, 1))</td>\n",
       "                        <td id=\"T_d9139a7e_f65e_11e9_a849_1418772eafb8row0_col108\" class=\"data row0 col108\" >BatchNorm2d(128, eps=1e-05, momentum=0.1, affine=True, track_running_stats=True)</td>\n",
       "                        <td id=\"T_d9139a7e_f65e_11e9_a849_1418772eafb8row0_col109\" class=\"data row0 col109\" >ReLU()</td>\n",
       "                        <td id=\"T_d9139a7e_f65e_11e9_a849_1418772eafb8row0_col110\" class=\"data row0 col110\" >Conv2d(128, 32, kernel_size=(3, 3), stride=(1, 1), padding=(1, 1))</td>\n",
       "                        <td id=\"T_d9139a7e_f65e_11e9_a849_1418772eafb8row0_col111\" class=\"data row0 col111\" >Dropout2d(p=0)</td>\n",
       "                        <td id=\"T_d9139a7e_f65e_11e9_a849_1418772eafb8row0_col112\" class=\"data row0 col112\" >TorchConcatenate()</td>\n",
       "                        <td id=\"T_d9139a7e_f65e_11e9_a849_1418772eafb8row0_col113\" class=\"data row0 col113\" >BatchNorm2d(352, eps=1e-05, momentum=0.1, affine=True, track_running_stats=True)</td>\n",
       "                        <td id=\"T_d9139a7e_f65e_11e9_a849_1418772eafb8row0_col114\" class=\"data row0 col114\" >ReLU()</td>\n",
       "                        <td id=\"T_d9139a7e_f65e_11e9_a849_1418772eafb8row0_col115\" class=\"data row0 col115\" >Conv2d(352, 128, kernel_size=(1, 1), stride=(1, 1))</td>\n",
       "                        <td id=\"T_d9139a7e_f65e_11e9_a849_1418772eafb8row0_col116\" class=\"data row0 col116\" >BatchNorm2d(128, eps=1e-05, momentum=0.1, affine=True, track_running_stats=True)</td>\n",
       "                        <td id=\"T_d9139a7e_f65e_11e9_a849_1418772eafb8row0_col117\" class=\"data row0 col117\" >ReLU()</td>\n",
       "                        <td id=\"T_d9139a7e_f65e_11e9_a849_1418772eafb8row0_col118\" class=\"data row0 col118\" >Conv2d(128, 32, kernel_size=(3, 3), stride=(1, 1), padding=(1, 1))</td>\n",
       "                        <td id=\"T_d9139a7e_f65e_11e9_a849_1418772eafb8row0_col119\" class=\"data row0 col119\" >Dropout2d(p=0)</td>\n",
       "                        <td id=\"T_d9139a7e_f65e_11e9_a849_1418772eafb8row0_col120\" class=\"data row0 col120\" >TorchConcatenate()</td>\n",
       "                        <td id=\"T_d9139a7e_f65e_11e9_a849_1418772eafb8row0_col121\" class=\"data row0 col121\" >BatchNorm2d(384, eps=1e-05, momentum=0.1, affine=True, track_running_stats=True)</td>\n",
       "                        <td id=\"T_d9139a7e_f65e_11e9_a849_1418772eafb8row0_col122\" class=\"data row0 col122\" >ReLU()</td>\n",
       "                        <td id=\"T_d9139a7e_f65e_11e9_a849_1418772eafb8row0_col123\" class=\"data row0 col123\" >Conv2d(384, 128, kernel_size=(1, 1), stride=(1, 1))</td>\n",
       "                        <td id=\"T_d9139a7e_f65e_11e9_a849_1418772eafb8row0_col124\" class=\"data row0 col124\" >BatchNorm2d(128, eps=1e-05, momentum=0.1, affine=True, track_running_stats=True)</td>\n",
       "                        <td id=\"T_d9139a7e_f65e_11e9_a849_1418772eafb8row0_col125\" class=\"data row0 col125\" >ReLU()</td>\n",
       "                        <td id=\"T_d9139a7e_f65e_11e9_a849_1418772eafb8row0_col126\" class=\"data row0 col126\" >Conv2d(128, 32, kernel_size=(3, 3), stride=(1, 1), padding=(1, 1))</td>\n",
       "                        <td id=\"T_d9139a7e_f65e_11e9_a849_1418772eafb8row0_col127\" class=\"data row0 col127\" >Dropout2d(p=0)</td>\n",
       "                        <td id=\"T_d9139a7e_f65e_11e9_a849_1418772eafb8row0_col128\" class=\"data row0 col128\" >TorchConcatenate()</td>\n",
       "                        <td id=\"T_d9139a7e_f65e_11e9_a849_1418772eafb8row0_col129\" class=\"data row0 col129\" >BatchNorm2d(416, eps=1e-05, momentum=0.1, affine=True, track_running_stats=True)</td>\n",
       "                        <td id=\"T_d9139a7e_f65e_11e9_a849_1418772eafb8row0_col130\" class=\"data row0 col130\" >ReLU()</td>\n",
       "                        <td id=\"T_d9139a7e_f65e_11e9_a849_1418772eafb8row0_col131\" class=\"data row0 col131\" >Conv2d(416, 128, kernel_size=(1, 1), stride=(1, 1))</td>\n",
       "                        <td id=\"T_d9139a7e_f65e_11e9_a849_1418772eafb8row0_col132\" class=\"data row0 col132\" >BatchNorm2d(128, eps=1e-05, momentum=0.1, affine=True, track_running_stats=True)</td>\n",
       "                        <td id=\"T_d9139a7e_f65e_11e9_a849_1418772eafb8row0_col133\" class=\"data row0 col133\" >ReLU()</td>\n",
       "                        <td id=\"T_d9139a7e_f65e_11e9_a849_1418772eafb8row0_col134\" class=\"data row0 col134\" >Conv2d(128, 32, kernel_size=(3, 3), stride=(1, 1), padding=(1, 1))</td>\n",
       "                        <td id=\"T_d9139a7e_f65e_11e9_a849_1418772eafb8row0_col135\" class=\"data row0 col135\" >Dropout2d(p=0)</td>\n",
       "                        <td id=\"T_d9139a7e_f65e_11e9_a849_1418772eafb8row0_col136\" class=\"data row0 col136\" >TorchConcatenate()</td>\n",
       "                        <td id=\"T_d9139a7e_f65e_11e9_a849_1418772eafb8row0_col137\" class=\"data row0 col137\" >BatchNorm2d(448, eps=1e-05, momentum=0.1, affine=True, track_running_stats=True)</td>\n",
       "                        <td id=\"T_d9139a7e_f65e_11e9_a849_1418772eafb8row0_col138\" class=\"data row0 col138\" >ReLU()</td>\n",
       "                        <td id=\"T_d9139a7e_f65e_11e9_a849_1418772eafb8row0_col139\" class=\"data row0 col139\" >Conv2d(448, 128, kernel_size=(1, 1), stride=(1, 1))</td>\n",
       "                        <td id=\"T_d9139a7e_f65e_11e9_a849_1418772eafb8row0_col140\" class=\"data row0 col140\" >BatchNorm2d(128, eps=1e-05, momentum=0.1, affine=True, track_running_stats=True)</td>\n",
       "                        <td id=\"T_d9139a7e_f65e_11e9_a849_1418772eafb8row0_col141\" class=\"data row0 col141\" >ReLU()</td>\n",
       "                        <td id=\"T_d9139a7e_f65e_11e9_a849_1418772eafb8row0_col142\" class=\"data row0 col142\" >Conv2d(128, 32, kernel_size=(3, 3), stride=(1, 1), padding=(1, 1))</td>\n",
       "                        <td id=\"T_d9139a7e_f65e_11e9_a849_1418772eafb8row0_col143\" class=\"data row0 col143\" >Dropout2d(p=0)</td>\n",
       "                        <td id=\"T_d9139a7e_f65e_11e9_a849_1418772eafb8row0_col144\" class=\"data row0 col144\" >TorchConcatenate()</td>\n",
       "                        <td id=\"T_d9139a7e_f65e_11e9_a849_1418772eafb8row0_col145\" class=\"data row0 col145\" >BatchNorm2d(480, eps=1e-05, momentum=0.1, affine=True, track_running_stats=True)</td>\n",
       "                        <td id=\"T_d9139a7e_f65e_11e9_a849_1418772eafb8row0_col146\" class=\"data row0 col146\" >ReLU()</td>\n",
       "                        <td id=\"T_d9139a7e_f65e_11e9_a849_1418772eafb8row0_col147\" class=\"data row0 col147\" >Conv2d(480, 128, kernel_size=(1, 1), stride=(1, 1))</td>\n",
       "                        <td id=\"T_d9139a7e_f65e_11e9_a849_1418772eafb8row0_col148\" class=\"data row0 col148\" >BatchNorm2d(128, eps=1e-05, momentum=0.1, affine=True, track_running_stats=True)</td>\n",
       "                        <td id=\"T_d9139a7e_f65e_11e9_a849_1418772eafb8row0_col149\" class=\"data row0 col149\" >ReLU()</td>\n",
       "                        <td id=\"T_d9139a7e_f65e_11e9_a849_1418772eafb8row0_col150\" class=\"data row0 col150\" >Conv2d(128, 32, kernel_size=(3, 3), stride=(1, 1), padding=(1, 1))</td>\n",
       "                        <td id=\"T_d9139a7e_f65e_11e9_a849_1418772eafb8row0_col151\" class=\"data row0 col151\" >Dropout2d(p=0)</td>\n",
       "                        <td id=\"T_d9139a7e_f65e_11e9_a849_1418772eafb8row0_col152\" class=\"data row0 col152\" >TorchConcatenate()</td>\n",
       "                        <td id=\"T_d9139a7e_f65e_11e9_a849_1418772eafb8row0_col153\" class=\"data row0 col153\" >BatchNorm2d(512, eps=1e-05, momentum=0.1, affine=True, track_running_stats=True)</td>\n",
       "                        <td id=\"T_d9139a7e_f65e_11e9_a849_1418772eafb8row0_col154\" class=\"data row0 col154\" >ReLU()</td>\n",
       "                        <td id=\"T_d9139a7e_f65e_11e9_a849_1418772eafb8row0_col155\" class=\"data row0 col155\" >Conv2d(512, 256, kernel_size=(1, 1), stride=(1, 1))</td>\n",
       "                        <td id=\"T_d9139a7e_f65e_11e9_a849_1418772eafb8row0_col156\" class=\"data row0 col156\" >AvgPool2d(kernel_size=2, stride=2, padding=0)</td>\n",
       "                        <td id=\"T_d9139a7e_f65e_11e9_a849_1418772eafb8row0_col157\" class=\"data row0 col157\" >BatchNorm2d(256, eps=1e-05, momentum=0.1, affine=True, track_running_stats=True)</td>\n",
       "                        <td id=\"T_d9139a7e_f65e_11e9_a849_1418772eafb8row0_col158\" class=\"data row0 col158\" >ReLU()</td>\n",
       "                        <td id=\"T_d9139a7e_f65e_11e9_a849_1418772eafb8row0_col159\" class=\"data row0 col159\" >Conv2d(256, 128, kernel_size=(1, 1), stride=(1, 1))</td>\n",
       "                        <td id=\"T_d9139a7e_f65e_11e9_a849_1418772eafb8row0_col160\" class=\"data row0 col160\" >BatchNorm2d(128, eps=1e-05, momentum=0.1, affine=True, track_running_stats=True)</td>\n",
       "                        <td id=\"T_d9139a7e_f65e_11e9_a849_1418772eafb8row0_col161\" class=\"data row0 col161\" >ReLU()</td>\n",
       "                        <td id=\"T_d9139a7e_f65e_11e9_a849_1418772eafb8row0_col162\" class=\"data row0 col162\" >Conv2d(128, 32, kernel_size=(3, 3), stride=(1, 1), padding=(1, 1))</td>\n",
       "                        <td id=\"T_d9139a7e_f65e_11e9_a849_1418772eafb8row0_col163\" class=\"data row0 col163\" >Dropout2d(p=0)</td>\n",
       "                        <td id=\"T_d9139a7e_f65e_11e9_a849_1418772eafb8row0_col164\" class=\"data row0 col164\" >TorchConcatenate()</td>\n",
       "                        <td id=\"T_d9139a7e_f65e_11e9_a849_1418772eafb8row0_col165\" class=\"data row0 col165\" >BatchNorm2d(288, eps=1e-05, momentum=0.1, affine=True, track_running_stats=True)</td>\n",
       "                        <td id=\"T_d9139a7e_f65e_11e9_a849_1418772eafb8row0_col166\" class=\"data row0 col166\" >ReLU()</td>\n",
       "                        <td id=\"T_d9139a7e_f65e_11e9_a849_1418772eafb8row0_col167\" class=\"data row0 col167\" >Conv2d(288, 128, kernel_size=(1, 1), stride=(1, 1))</td>\n",
       "                        <td id=\"T_d9139a7e_f65e_11e9_a849_1418772eafb8row0_col168\" class=\"data row0 col168\" >BatchNorm2d(128, eps=1e-05, momentum=0.1, affine=True, track_running_stats=True)</td>\n",
       "                        <td id=\"T_d9139a7e_f65e_11e9_a849_1418772eafb8row0_col169\" class=\"data row0 col169\" >ReLU()</td>\n",
       "                        <td id=\"T_d9139a7e_f65e_11e9_a849_1418772eafb8row0_col170\" class=\"data row0 col170\" >Conv2d(128, 32, kernel_size=(3, 3), stride=(1, 1), padding=(1, 1))</td>\n",
       "                        <td id=\"T_d9139a7e_f65e_11e9_a849_1418772eafb8row0_col171\" class=\"data row0 col171\" >Dropout2d(p=0)</td>\n",
       "                        <td id=\"T_d9139a7e_f65e_11e9_a849_1418772eafb8row0_col172\" class=\"data row0 col172\" >TorchConcatenate()</td>\n",
       "                        <td id=\"T_d9139a7e_f65e_11e9_a849_1418772eafb8row0_col173\" class=\"data row0 col173\" >BatchNorm2d(320, eps=1e-05, momentum=0.1, affine=True, track_running_stats=True)</td>\n",
       "                        <td id=\"T_d9139a7e_f65e_11e9_a849_1418772eafb8row0_col174\" class=\"data row0 col174\" >ReLU()</td>\n",
       "                        <td id=\"T_d9139a7e_f65e_11e9_a849_1418772eafb8row0_col175\" class=\"data row0 col175\" >Conv2d(320, 128, kernel_size=(1, 1), stride=(1, 1))</td>\n",
       "                        <td id=\"T_d9139a7e_f65e_11e9_a849_1418772eafb8row0_col176\" class=\"data row0 col176\" >BatchNorm2d(128, eps=1e-05, momentum=0.1, affine=True, track_running_stats=True)</td>\n",
       "                        <td id=\"T_d9139a7e_f65e_11e9_a849_1418772eafb8row0_col177\" class=\"data row0 col177\" >ReLU()</td>\n",
       "                        <td id=\"T_d9139a7e_f65e_11e9_a849_1418772eafb8row0_col178\" class=\"data row0 col178\" >Conv2d(128, 32, kernel_size=(3, 3), stride=(1, 1), padding=(1, 1))</td>\n",
       "                        <td id=\"T_d9139a7e_f65e_11e9_a849_1418772eafb8row0_col179\" class=\"data row0 col179\" >Dropout2d(p=0)</td>\n",
       "                        <td id=\"T_d9139a7e_f65e_11e9_a849_1418772eafb8row0_col180\" class=\"data row0 col180\" >TorchConcatenate()</td>\n",
       "                        <td id=\"T_d9139a7e_f65e_11e9_a849_1418772eafb8row0_col181\" class=\"data row0 col181\" >BatchNorm2d(352, eps=1e-05, momentum=0.1, affine=True, track_running_stats=True)</td>\n",
       "                        <td id=\"T_d9139a7e_f65e_11e9_a849_1418772eafb8row0_col182\" class=\"data row0 col182\" >ReLU()</td>\n",
       "                        <td id=\"T_d9139a7e_f65e_11e9_a849_1418772eafb8row0_col183\" class=\"data row0 col183\" >Conv2d(352, 128, kernel_size=(1, 1), stride=(1, 1))</td>\n",
       "                        <td id=\"T_d9139a7e_f65e_11e9_a849_1418772eafb8row0_col184\" class=\"data row0 col184\" >BatchNorm2d(128, eps=1e-05, momentum=0.1, affine=True, track_running_stats=True)</td>\n",
       "                        <td id=\"T_d9139a7e_f65e_11e9_a849_1418772eafb8row0_col185\" class=\"data row0 col185\" >ReLU()</td>\n",
       "                        <td id=\"T_d9139a7e_f65e_11e9_a849_1418772eafb8row0_col186\" class=\"data row0 col186\" >Conv2d(128, 32, kernel_size=(3, 3), stride=(1, 1), padding=(1, 1))</td>\n",
       "                        <td id=\"T_d9139a7e_f65e_11e9_a849_1418772eafb8row0_col187\" class=\"data row0 col187\" >Dropout2d(p=0)</td>\n",
       "                        <td id=\"T_d9139a7e_f65e_11e9_a849_1418772eafb8row0_col188\" class=\"data row0 col188\" >TorchConcatenate()</td>\n",
       "                        <td id=\"T_d9139a7e_f65e_11e9_a849_1418772eafb8row0_col189\" class=\"data row0 col189\" >BatchNorm2d(384, eps=1e-05, momentum=0.1, affine=True, track_running_stats=True)</td>\n",
       "                        <td id=\"T_d9139a7e_f65e_11e9_a849_1418772eafb8row0_col190\" class=\"data row0 col190\" >ReLU()</td>\n",
       "                        <td id=\"T_d9139a7e_f65e_11e9_a849_1418772eafb8row0_col191\" class=\"data row0 col191\" >Conv2d(384, 128, kernel_size=(1, 1), stride=(1, 1))</td>\n",
       "                        <td id=\"T_d9139a7e_f65e_11e9_a849_1418772eafb8row0_col192\" class=\"data row0 col192\" >BatchNorm2d(128, eps=1e-05, momentum=0.1, affine=True, track_running_stats=True)</td>\n",
       "                        <td id=\"T_d9139a7e_f65e_11e9_a849_1418772eafb8row0_col193\" class=\"data row0 col193\" >ReLU()</td>\n",
       "                        <td id=\"T_d9139a7e_f65e_11e9_a849_1418772eafb8row0_col194\" class=\"data row0 col194\" >Conv2d(128, 32, kernel_size=(3, 3), stride=(1, 1), padding=(1, 1))</td>\n",
       "                        <td id=\"T_d9139a7e_f65e_11e9_a849_1418772eafb8row0_col195\" class=\"data row0 col195\" >Dropout2d(p=0)</td>\n",
       "                        <td id=\"T_d9139a7e_f65e_11e9_a849_1418772eafb8row0_col196\" class=\"data row0 col196\" >TorchConcatenate()</td>\n",
       "                        <td id=\"T_d9139a7e_f65e_11e9_a849_1418772eafb8row0_col197\" class=\"data row0 col197\" >BatchNorm2d(416, eps=1e-05, momentum=0.1, affine=True, track_running_stats=True)</td>\n",
       "                        <td id=\"T_d9139a7e_f65e_11e9_a849_1418772eafb8row0_col198\" class=\"data row0 col198\" >ReLU()</td>\n",
       "                        <td id=\"T_d9139a7e_f65e_11e9_a849_1418772eafb8row0_col199\" class=\"data row0 col199\" >Conv2d(416, 128, kernel_size=(1, 1), stride=(1, 1))</td>\n",
       "                        <td id=\"T_d9139a7e_f65e_11e9_a849_1418772eafb8row0_col200\" class=\"data row0 col200\" >BatchNorm2d(128, eps=1e-05, momentum=0.1, affine=True, track_running_stats=True)</td>\n",
       "                        <td id=\"T_d9139a7e_f65e_11e9_a849_1418772eafb8row0_col201\" class=\"data row0 col201\" >ReLU()</td>\n",
       "                        <td id=\"T_d9139a7e_f65e_11e9_a849_1418772eafb8row0_col202\" class=\"data row0 col202\" >Conv2d(128, 32, kernel_size=(3, 3), stride=(1, 1), padding=(1, 1))</td>\n",
       "                        <td id=\"T_d9139a7e_f65e_11e9_a849_1418772eafb8row0_col203\" class=\"data row0 col203\" >Dropout2d(p=0)</td>\n",
       "                        <td id=\"T_d9139a7e_f65e_11e9_a849_1418772eafb8row0_col204\" class=\"data row0 col204\" >TorchConcatenate()</td>\n",
       "                        <td id=\"T_d9139a7e_f65e_11e9_a849_1418772eafb8row0_col205\" class=\"data row0 col205\" >BatchNorm2d(448, eps=1e-05, momentum=0.1, affine=True, track_running_stats=True)</td>\n",
       "                        <td id=\"T_d9139a7e_f65e_11e9_a849_1418772eafb8row0_col206\" class=\"data row0 col206\" >ReLU()</td>\n",
       "                        <td id=\"T_d9139a7e_f65e_11e9_a849_1418772eafb8row0_col207\" class=\"data row0 col207\" >Conv2d(448, 128, kernel_size=(1, 1), stride=(1, 1))</td>\n",
       "                        <td id=\"T_d9139a7e_f65e_11e9_a849_1418772eafb8row0_col208\" class=\"data row0 col208\" >BatchNorm2d(128, eps=1e-05, momentum=0.1, affine=True, track_running_stats=True)</td>\n",
       "                        <td id=\"T_d9139a7e_f65e_11e9_a849_1418772eafb8row0_col209\" class=\"data row0 col209\" >ReLU()</td>\n",
       "                        <td id=\"T_d9139a7e_f65e_11e9_a849_1418772eafb8row0_col210\" class=\"data row0 col210\" >Conv2d(128, 32, kernel_size=(3, 3), stride=(1, 1), padding=(1, 1))</td>\n",
       "                        <td id=\"T_d9139a7e_f65e_11e9_a849_1418772eafb8row0_col211\" class=\"data row0 col211\" >Dropout2d(p=0)</td>\n",
       "                        <td id=\"T_d9139a7e_f65e_11e9_a849_1418772eafb8row0_col212\" class=\"data row0 col212\" >TorchConcatenate()</td>\n",
       "                        <td id=\"T_d9139a7e_f65e_11e9_a849_1418772eafb8row0_col213\" class=\"data row0 col213\" >BatchNorm2d(480, eps=1e-05, momentum=0.1, affine=True, track_running_stats=True)</td>\n",
       "                        <td id=\"T_d9139a7e_f65e_11e9_a849_1418772eafb8row0_col214\" class=\"data row0 col214\" >ReLU()</td>\n",
       "                        <td id=\"T_d9139a7e_f65e_11e9_a849_1418772eafb8row0_col215\" class=\"data row0 col215\" >Conv2d(480, 128, kernel_size=(1, 1), stride=(1, 1))</td>\n",
       "                        <td id=\"T_d9139a7e_f65e_11e9_a849_1418772eafb8row0_col216\" class=\"data row0 col216\" >BatchNorm2d(128, eps=1e-05, momentum=0.1, affine=True, track_running_stats=True)</td>\n",
       "                        <td id=\"T_d9139a7e_f65e_11e9_a849_1418772eafb8row0_col217\" class=\"data row0 col217\" >ReLU()</td>\n",
       "                        <td id=\"T_d9139a7e_f65e_11e9_a849_1418772eafb8row0_col218\" class=\"data row0 col218\" >Conv2d(128, 32, kernel_size=(3, 3), stride=(1, 1), padding=(1, 1))</td>\n",
       "                        <td id=\"T_d9139a7e_f65e_11e9_a849_1418772eafb8row0_col219\" class=\"data row0 col219\" >Dropout2d(p=0)</td>\n",
       "                        <td id=\"T_d9139a7e_f65e_11e9_a849_1418772eafb8row0_col220\" class=\"data row0 col220\" >TorchConcatenate()</td>\n",
       "                        <td id=\"T_d9139a7e_f65e_11e9_a849_1418772eafb8row0_col221\" class=\"data row0 col221\" >BatchNorm2d(512, eps=1e-05, momentum=0.1, affine=True, track_running_stats=True)</td>\n",
       "                        <td id=\"T_d9139a7e_f65e_11e9_a849_1418772eafb8row0_col222\" class=\"data row0 col222\" >ReLU()</td>\n",
       "                        <td id=\"T_d9139a7e_f65e_11e9_a849_1418772eafb8row0_col223\" class=\"data row0 col223\" >Conv2d(512, 128, kernel_size=(1, 1), stride=(1, 1))</td>\n",
       "                        <td id=\"T_d9139a7e_f65e_11e9_a849_1418772eafb8row0_col224\" class=\"data row0 col224\" >BatchNorm2d(128, eps=1e-05, momentum=0.1, affine=True, track_running_stats=True)</td>\n",
       "                        <td id=\"T_d9139a7e_f65e_11e9_a849_1418772eafb8row0_col225\" class=\"data row0 col225\" >ReLU()</td>\n",
       "                        <td id=\"T_d9139a7e_f65e_11e9_a849_1418772eafb8row0_col226\" class=\"data row0 col226\" >Conv2d(128, 32, kernel_size=(3, 3), stride=(1, 1), padding=(1, 1))</td>\n",
       "                        <td id=\"T_d9139a7e_f65e_11e9_a849_1418772eafb8row0_col227\" class=\"data row0 col227\" >Dropout2d(p=0)</td>\n",
       "                        <td id=\"T_d9139a7e_f65e_11e9_a849_1418772eafb8row0_col228\" class=\"data row0 col228\" >TorchConcatenate()</td>\n",
       "                        <td id=\"T_d9139a7e_f65e_11e9_a849_1418772eafb8row0_col229\" class=\"data row0 col229\" >BatchNorm2d(544, eps=1e-05, momentum=0.1, affine=True, track_running_stats=True)</td>\n",
       "                        <td id=\"T_d9139a7e_f65e_11e9_a849_1418772eafb8row0_col230\" class=\"data row0 col230\" >ReLU()</td>\n",
       "                        <td id=\"T_d9139a7e_f65e_11e9_a849_1418772eafb8row0_col231\" class=\"data row0 col231\" >Conv2d(544, 128, kernel_size=(1, 1), stride=(1, 1))</td>\n",
       "                        <td id=\"T_d9139a7e_f65e_11e9_a849_1418772eafb8row0_col232\" class=\"data row0 col232\" >BatchNorm2d(128, eps=1e-05, momentum=0.1, affine=True, track_running_stats=True)</td>\n",
       "                        <td id=\"T_d9139a7e_f65e_11e9_a849_1418772eafb8row0_col233\" class=\"data row0 col233\" >ReLU()</td>\n",
       "                        <td id=\"T_d9139a7e_f65e_11e9_a849_1418772eafb8row0_col234\" class=\"data row0 col234\" >Conv2d(128, 32, kernel_size=(3, 3), stride=(1, 1), padding=(1, 1))</td>\n",
       "                        <td id=\"T_d9139a7e_f65e_11e9_a849_1418772eafb8row0_col235\" class=\"data row0 col235\" >Dropout2d(p=0)</td>\n",
       "                        <td id=\"T_d9139a7e_f65e_11e9_a849_1418772eafb8row0_col236\" class=\"data row0 col236\" >TorchConcatenate()</td>\n",
       "                        <td id=\"T_d9139a7e_f65e_11e9_a849_1418772eafb8row0_col237\" class=\"data row0 col237\" >BatchNorm2d(576, eps=1e-05, momentum=0.1, affine=True, track_running_stats=True)</td>\n",
       "                        <td id=\"T_d9139a7e_f65e_11e9_a849_1418772eafb8row0_col238\" class=\"data row0 col238\" >ReLU()</td>\n",
       "                        <td id=\"T_d9139a7e_f65e_11e9_a849_1418772eafb8row0_col239\" class=\"data row0 col239\" >Conv2d(576, 128, kernel_size=(1, 1), stride=(1, 1))</td>\n",
       "                        <td id=\"T_d9139a7e_f65e_11e9_a849_1418772eafb8row0_col240\" class=\"data row0 col240\" >BatchNorm2d(128, eps=1e-05, momentum=0.1, affine=True, track_running_stats=True)</td>\n",
       "                        <td id=\"T_d9139a7e_f65e_11e9_a849_1418772eafb8row0_col241\" class=\"data row0 col241\" >ReLU()</td>\n",
       "                        <td id=\"T_d9139a7e_f65e_11e9_a849_1418772eafb8row0_col242\" class=\"data row0 col242\" >Conv2d(128, 32, kernel_size=(3, 3), stride=(1, 1), padding=(1, 1))</td>\n",
       "                        <td id=\"T_d9139a7e_f65e_11e9_a849_1418772eafb8row0_col243\" class=\"data row0 col243\" >Dropout2d(p=0)</td>\n",
       "                        <td id=\"T_d9139a7e_f65e_11e9_a849_1418772eafb8row0_col244\" class=\"data row0 col244\" >TorchConcatenate()</td>\n",
       "                        <td id=\"T_d9139a7e_f65e_11e9_a849_1418772eafb8row0_col245\" class=\"data row0 col245\" >BatchNorm2d(608, eps=1e-05, momentum=0.1, affine=True, track_running_stats=True)</td>\n",
       "                        <td id=\"T_d9139a7e_f65e_11e9_a849_1418772eafb8row0_col246\" class=\"data row0 col246\" >ReLU()</td>\n",
       "                        <td id=\"T_d9139a7e_f65e_11e9_a849_1418772eafb8row0_col247\" class=\"data row0 col247\" >Conv2d(608, 128, kernel_size=(1, 1), stride=(1, 1))</td>\n",
       "                        <td id=\"T_d9139a7e_f65e_11e9_a849_1418772eafb8row0_col248\" class=\"data row0 col248\" >BatchNorm2d(128, eps=1e-05, momentum=0.1, affine=True, track_running_stats=True)</td>\n",
       "                        <td id=\"T_d9139a7e_f65e_11e9_a849_1418772eafb8row0_col249\" class=\"data row0 col249\" >ReLU()</td>\n",
       "                        <td id=\"T_d9139a7e_f65e_11e9_a849_1418772eafb8row0_col250\" class=\"data row0 col250\" >Conv2d(128, 32, kernel_size=(3, 3), stride=(1, 1), padding=(1, 1))</td>\n",
       "                        <td id=\"T_d9139a7e_f65e_11e9_a849_1418772eafb8row0_col251\" class=\"data row0 col251\" >Dropout2d(p=0)</td>\n",
       "                        <td id=\"T_d9139a7e_f65e_11e9_a849_1418772eafb8row0_col252\" class=\"data row0 col252\" >TorchConcatenate()</td>\n",
       "                        <td id=\"T_d9139a7e_f65e_11e9_a849_1418772eafb8row0_col253\" class=\"data row0 col253\" >BatchNorm2d(640, eps=1e-05, momentum=0.1, affine=True, track_running_stats=True)</td>\n",
       "                        <td id=\"T_d9139a7e_f65e_11e9_a849_1418772eafb8row0_col254\" class=\"data row0 col254\" >ReLU()</td>\n",
       "                        <td id=\"T_d9139a7e_f65e_11e9_a849_1418772eafb8row0_col255\" class=\"data row0 col255\" >Conv2d(640, 128, kernel_size=(1, 1), stride=(1, 1))</td>\n",
       "                        <td id=\"T_d9139a7e_f65e_11e9_a849_1418772eafb8row0_col256\" class=\"data row0 col256\" >BatchNorm2d(128, eps=1e-05, momentum=0.1, affine=True, track_running_stats=True)</td>\n",
       "                        <td id=\"T_d9139a7e_f65e_11e9_a849_1418772eafb8row0_col257\" class=\"data row0 col257\" >ReLU()</td>\n",
       "                        <td id=\"T_d9139a7e_f65e_11e9_a849_1418772eafb8row0_col258\" class=\"data row0 col258\" >Conv2d(128, 32, kernel_size=(3, 3), stride=(1, 1), padding=(1, 1))</td>\n",
       "                        <td id=\"T_d9139a7e_f65e_11e9_a849_1418772eafb8row0_col259\" class=\"data row0 col259\" >Dropout2d(p=0)</td>\n",
       "                        <td id=\"T_d9139a7e_f65e_11e9_a849_1418772eafb8row0_col260\" class=\"data row0 col260\" >TorchConcatenate()</td>\n",
       "                        <td id=\"T_d9139a7e_f65e_11e9_a849_1418772eafb8row0_col261\" class=\"data row0 col261\" >BatchNorm2d(672, eps=1e-05, momentum=0.1, affine=True, track_running_stats=True)</td>\n",
       "                        <td id=\"T_d9139a7e_f65e_11e9_a849_1418772eafb8row0_col262\" class=\"data row0 col262\" >ReLU()</td>\n",
       "                        <td id=\"T_d9139a7e_f65e_11e9_a849_1418772eafb8row0_col263\" class=\"data row0 col263\" >Conv2d(672, 128, kernel_size=(1, 1), stride=(1, 1))</td>\n",
       "                        <td id=\"T_d9139a7e_f65e_11e9_a849_1418772eafb8row0_col264\" class=\"data row0 col264\" >BatchNorm2d(128, eps=1e-05, momentum=0.1, affine=True, track_running_stats=True)</td>\n",
       "                        <td id=\"T_d9139a7e_f65e_11e9_a849_1418772eafb8row0_col265\" class=\"data row0 col265\" >ReLU()</td>\n",
       "                        <td id=\"T_d9139a7e_f65e_11e9_a849_1418772eafb8row0_col266\" class=\"data row0 col266\" >Conv2d(128, 32, kernel_size=(3, 3), stride=(1, 1), padding=(1, 1))</td>\n",
       "                        <td id=\"T_d9139a7e_f65e_11e9_a849_1418772eafb8row0_col267\" class=\"data row0 col267\" >Dropout2d(p=0)</td>\n",
       "                        <td id=\"T_d9139a7e_f65e_11e9_a849_1418772eafb8row0_col268\" class=\"data row0 col268\" >TorchConcatenate()</td>\n",
       "                        <td id=\"T_d9139a7e_f65e_11e9_a849_1418772eafb8row0_col269\" class=\"data row0 col269\" >BatchNorm2d(704, eps=1e-05, momentum=0.1, affine=True, track_running_stats=True)</td>\n",
       "                        <td id=\"T_d9139a7e_f65e_11e9_a849_1418772eafb8row0_col270\" class=\"data row0 col270\" >ReLU()</td>\n",
       "                        <td id=\"T_d9139a7e_f65e_11e9_a849_1418772eafb8row0_col271\" class=\"data row0 col271\" >Conv2d(704, 128, kernel_size=(1, 1), stride=(1, 1))</td>\n",
       "                        <td id=\"T_d9139a7e_f65e_11e9_a849_1418772eafb8row0_col272\" class=\"data row0 col272\" >BatchNorm2d(128, eps=1e-05, momentum=0.1, affine=True, track_running_stats=True)</td>\n",
       "                        <td id=\"T_d9139a7e_f65e_11e9_a849_1418772eafb8row0_col273\" class=\"data row0 col273\" >ReLU()</td>\n",
       "                        <td id=\"T_d9139a7e_f65e_11e9_a849_1418772eafb8row0_col274\" class=\"data row0 col274\" >Conv2d(128, 32, kernel_size=(3, 3), stride=(1, 1), padding=(1, 1))</td>\n",
       "                        <td id=\"T_d9139a7e_f65e_11e9_a849_1418772eafb8row0_col275\" class=\"data row0 col275\" >Dropout2d(p=0)</td>\n",
       "                        <td id=\"T_d9139a7e_f65e_11e9_a849_1418772eafb8row0_col276\" class=\"data row0 col276\" >TorchConcatenate()</td>\n",
       "                        <td id=\"T_d9139a7e_f65e_11e9_a849_1418772eafb8row0_col277\" class=\"data row0 col277\" >BatchNorm2d(736, eps=1e-05, momentum=0.1, affine=True, track_running_stats=True)</td>\n",
       "                        <td id=\"T_d9139a7e_f65e_11e9_a849_1418772eafb8row0_col278\" class=\"data row0 col278\" >ReLU()</td>\n",
       "                        <td id=\"T_d9139a7e_f65e_11e9_a849_1418772eafb8row0_col279\" class=\"data row0 col279\" >Conv2d(736, 128, kernel_size=(1, 1), stride=(1, 1))</td>\n",
       "                        <td id=\"T_d9139a7e_f65e_11e9_a849_1418772eafb8row0_col280\" class=\"data row0 col280\" >BatchNorm2d(128, eps=1e-05, momentum=0.1, affine=True, track_running_stats=True)</td>\n",
       "                        <td id=\"T_d9139a7e_f65e_11e9_a849_1418772eafb8row0_col281\" class=\"data row0 col281\" >ReLU()</td>\n",
       "                        <td id=\"T_d9139a7e_f65e_11e9_a849_1418772eafb8row0_col282\" class=\"data row0 col282\" >Conv2d(128, 32, kernel_size=(3, 3), stride=(1, 1), padding=(1, 1))</td>\n",
       "                        <td id=\"T_d9139a7e_f65e_11e9_a849_1418772eafb8row0_col283\" class=\"data row0 col283\" >Dropout2d(p=0)</td>\n",
       "                        <td id=\"T_d9139a7e_f65e_11e9_a849_1418772eafb8row0_col284\" class=\"data row0 col284\" >TorchConcatenate()</td>\n",
       "                        <td id=\"T_d9139a7e_f65e_11e9_a849_1418772eafb8row0_col285\" class=\"data row0 col285\" >BatchNorm2d(768, eps=1e-05, momentum=0.1, affine=True, track_running_stats=True)</td>\n",
       "                        <td id=\"T_d9139a7e_f65e_11e9_a849_1418772eafb8row0_col286\" class=\"data row0 col286\" >ReLU()</td>\n",
       "                        <td id=\"T_d9139a7e_f65e_11e9_a849_1418772eafb8row0_col287\" class=\"data row0 col287\" >Conv2d(768, 128, kernel_size=(1, 1), stride=(1, 1))</td>\n",
       "                        <td id=\"T_d9139a7e_f65e_11e9_a849_1418772eafb8row0_col288\" class=\"data row0 col288\" >BatchNorm2d(128, eps=1e-05, momentum=0.1, affine=True, track_running_stats=True)</td>\n",
       "                        <td id=\"T_d9139a7e_f65e_11e9_a849_1418772eafb8row0_col289\" class=\"data row0 col289\" >ReLU()</td>\n",
       "                        <td id=\"T_d9139a7e_f65e_11e9_a849_1418772eafb8row0_col290\" class=\"data row0 col290\" >Conv2d(128, 32, kernel_size=(3, 3), stride=(1, 1), padding=(1, 1))</td>\n",
       "                        <td id=\"T_d9139a7e_f65e_11e9_a849_1418772eafb8row0_col291\" class=\"data row0 col291\" >Dropout2d(p=0)</td>\n",
       "                        <td id=\"T_d9139a7e_f65e_11e9_a849_1418772eafb8row0_col292\" class=\"data row0 col292\" >TorchConcatenate()</td>\n",
       "                        <td id=\"T_d9139a7e_f65e_11e9_a849_1418772eafb8row0_col293\" class=\"data row0 col293\" >BatchNorm2d(800, eps=1e-05, momentum=0.1, affine=True, track_running_stats=True)</td>\n",
       "                        <td id=\"T_d9139a7e_f65e_11e9_a849_1418772eafb8row0_col294\" class=\"data row0 col294\" >ReLU()</td>\n",
       "                        <td id=\"T_d9139a7e_f65e_11e9_a849_1418772eafb8row0_col295\" class=\"data row0 col295\" >Conv2d(800, 128, kernel_size=(1, 1), stride=(1, 1))</td>\n",
       "                        <td id=\"T_d9139a7e_f65e_11e9_a849_1418772eafb8row0_col296\" class=\"data row0 col296\" >BatchNorm2d(128, eps=1e-05, momentum=0.1, affine=True, track_running_stats=True)</td>\n",
       "                        <td id=\"T_d9139a7e_f65e_11e9_a849_1418772eafb8row0_col297\" class=\"data row0 col297\" >ReLU()</td>\n",
       "                        <td id=\"T_d9139a7e_f65e_11e9_a849_1418772eafb8row0_col298\" class=\"data row0 col298\" >Conv2d(128, 32, kernel_size=(3, 3), stride=(1, 1), padding=(1, 1))</td>\n",
       "                        <td id=\"T_d9139a7e_f65e_11e9_a849_1418772eafb8row0_col299\" class=\"data row0 col299\" >Dropout2d(p=0)</td>\n",
       "                        <td id=\"T_d9139a7e_f65e_11e9_a849_1418772eafb8row0_col300\" class=\"data row0 col300\" >TorchConcatenate()</td>\n",
       "                        <td id=\"T_d9139a7e_f65e_11e9_a849_1418772eafb8row0_col301\" class=\"data row0 col301\" >BatchNorm2d(832, eps=1e-05, momentum=0.1, affine=True, track_running_stats=True)</td>\n",
       "                        <td id=\"T_d9139a7e_f65e_11e9_a849_1418772eafb8row0_col302\" class=\"data row0 col302\" >ReLU()</td>\n",
       "                        <td id=\"T_d9139a7e_f65e_11e9_a849_1418772eafb8row0_col303\" class=\"data row0 col303\" >Conv2d(832, 128, kernel_size=(1, 1), stride=(1, 1))</td>\n",
       "                        <td id=\"T_d9139a7e_f65e_11e9_a849_1418772eafb8row0_col304\" class=\"data row0 col304\" >BatchNorm2d(128, eps=1e-05, momentum=0.1, affine=True, track_running_stats=True)</td>\n",
       "                        <td id=\"T_d9139a7e_f65e_11e9_a849_1418772eafb8row0_col305\" class=\"data row0 col305\" >ReLU()</td>\n",
       "                        <td id=\"T_d9139a7e_f65e_11e9_a849_1418772eafb8row0_col306\" class=\"data row0 col306\" >Conv2d(128, 32, kernel_size=(3, 3), stride=(1, 1), padding=(1, 1))</td>\n",
       "                        <td id=\"T_d9139a7e_f65e_11e9_a849_1418772eafb8row0_col307\" class=\"data row0 col307\" >Dropout2d(p=0)</td>\n",
       "                        <td id=\"T_d9139a7e_f65e_11e9_a849_1418772eafb8row0_col308\" class=\"data row0 col308\" >TorchConcatenate()</td>\n",
       "                        <td id=\"T_d9139a7e_f65e_11e9_a849_1418772eafb8row0_col309\" class=\"data row0 col309\" >BatchNorm2d(864, eps=1e-05, momentum=0.1, affine=True, track_running_stats=True)</td>\n",
       "                        <td id=\"T_d9139a7e_f65e_11e9_a849_1418772eafb8row0_col310\" class=\"data row0 col310\" >ReLU()</td>\n",
       "                        <td id=\"T_d9139a7e_f65e_11e9_a849_1418772eafb8row0_col311\" class=\"data row0 col311\" >Conv2d(864, 128, kernel_size=(1, 1), stride=(1, 1))</td>\n",
       "                        <td id=\"T_d9139a7e_f65e_11e9_a849_1418772eafb8row0_col312\" class=\"data row0 col312\" >BatchNorm2d(128, eps=1e-05, momentum=0.1, affine=True, track_running_stats=True)</td>\n",
       "                        <td id=\"T_d9139a7e_f65e_11e9_a849_1418772eafb8row0_col313\" class=\"data row0 col313\" >ReLU()</td>\n",
       "                        <td id=\"T_d9139a7e_f65e_11e9_a849_1418772eafb8row0_col314\" class=\"data row0 col314\" >Conv2d(128, 32, kernel_size=(3, 3), stride=(1, 1), padding=(1, 1))</td>\n",
       "                        <td id=\"T_d9139a7e_f65e_11e9_a849_1418772eafb8row0_col315\" class=\"data row0 col315\" >Dropout2d(p=0)</td>\n",
       "                        <td id=\"T_d9139a7e_f65e_11e9_a849_1418772eafb8row0_col316\" class=\"data row0 col316\" >TorchConcatenate()</td>\n",
       "                        <td id=\"T_d9139a7e_f65e_11e9_a849_1418772eafb8row0_col317\" class=\"data row0 col317\" >BatchNorm2d(896, eps=1e-05, momentum=0.1, affine=True, track_running_stats=True)</td>\n",
       "                        <td id=\"T_d9139a7e_f65e_11e9_a849_1418772eafb8row0_col318\" class=\"data row0 col318\" >ReLU()</td>\n",
       "                        <td id=\"T_d9139a7e_f65e_11e9_a849_1418772eafb8row0_col319\" class=\"data row0 col319\" >Conv2d(896, 128, kernel_size=(1, 1), stride=(1, 1))</td>\n",
       "                        <td id=\"T_d9139a7e_f65e_11e9_a849_1418772eafb8row0_col320\" class=\"data row0 col320\" >BatchNorm2d(128, eps=1e-05, momentum=0.1, affine=True, track_running_stats=True)</td>\n",
       "                        <td id=\"T_d9139a7e_f65e_11e9_a849_1418772eafb8row0_col321\" class=\"data row0 col321\" >ReLU()</td>\n",
       "                        <td id=\"T_d9139a7e_f65e_11e9_a849_1418772eafb8row0_col322\" class=\"data row0 col322\" >Conv2d(128, 32, kernel_size=(3, 3), stride=(1, 1), padding=(1, 1))</td>\n",
       "                        <td id=\"T_d9139a7e_f65e_11e9_a849_1418772eafb8row0_col323\" class=\"data row0 col323\" >Dropout2d(p=0)</td>\n",
       "                        <td id=\"T_d9139a7e_f65e_11e9_a849_1418772eafb8row0_col324\" class=\"data row0 col324\" >TorchConcatenate()</td>\n",
       "                        <td id=\"T_d9139a7e_f65e_11e9_a849_1418772eafb8row0_col325\" class=\"data row0 col325\" >BatchNorm2d(928, eps=1e-05, momentum=0.1, affine=True, track_running_stats=True)</td>\n",
       "                        <td id=\"T_d9139a7e_f65e_11e9_a849_1418772eafb8row0_col326\" class=\"data row0 col326\" >ReLU()</td>\n",
       "                        <td id=\"T_d9139a7e_f65e_11e9_a849_1418772eafb8row0_col327\" class=\"data row0 col327\" >Conv2d(928, 128, kernel_size=(1, 1), stride=(1, 1))</td>\n",
       "                        <td id=\"T_d9139a7e_f65e_11e9_a849_1418772eafb8row0_col328\" class=\"data row0 col328\" >BatchNorm2d(128, eps=1e-05, momentum=0.1, affine=True, track_running_stats=True)</td>\n",
       "                        <td id=\"T_d9139a7e_f65e_11e9_a849_1418772eafb8row0_col329\" class=\"data row0 col329\" >ReLU()</td>\n",
       "                        <td id=\"T_d9139a7e_f65e_11e9_a849_1418772eafb8row0_col330\" class=\"data row0 col330\" >Conv2d(128, 32, kernel_size=(3, 3), stride=(1, 1), padding=(1, 1))</td>\n",
       "                        <td id=\"T_d9139a7e_f65e_11e9_a849_1418772eafb8row0_col331\" class=\"data row0 col331\" >Dropout2d(p=0)</td>\n",
       "                        <td id=\"T_d9139a7e_f65e_11e9_a849_1418772eafb8row0_col332\" class=\"data row0 col332\" >TorchConcatenate()</td>\n",
       "                        <td id=\"T_d9139a7e_f65e_11e9_a849_1418772eafb8row0_col333\" class=\"data row0 col333\" >BatchNorm2d(960, eps=1e-05, momentum=0.1, affine=True, track_running_stats=True)</td>\n",
       "                        <td id=\"T_d9139a7e_f65e_11e9_a849_1418772eafb8row0_col334\" class=\"data row0 col334\" >ReLU()</td>\n",
       "                        <td id=\"T_d9139a7e_f65e_11e9_a849_1418772eafb8row0_col335\" class=\"data row0 col335\" >Conv2d(960, 128, kernel_size=(1, 1), stride=(1, 1))</td>\n",
       "                        <td id=\"T_d9139a7e_f65e_11e9_a849_1418772eafb8row0_col336\" class=\"data row0 col336\" >BatchNorm2d(128, eps=1e-05, momentum=0.1, affine=True, track_running_stats=True)</td>\n",
       "                        <td id=\"T_d9139a7e_f65e_11e9_a849_1418772eafb8row0_col337\" class=\"data row0 col337\" >ReLU()</td>\n",
       "                        <td id=\"T_d9139a7e_f65e_11e9_a849_1418772eafb8row0_col338\" class=\"data row0 col338\" >Conv2d(128, 32, kernel_size=(3, 3), stride=(1, 1), padding=(1, 1))</td>\n",
       "                        <td id=\"T_d9139a7e_f65e_11e9_a849_1418772eafb8row0_col339\" class=\"data row0 col339\" >Dropout2d(p=0)</td>\n",
       "                        <td id=\"T_d9139a7e_f65e_11e9_a849_1418772eafb8row0_col340\" class=\"data row0 col340\" >TorchConcatenate()</td>\n",
       "                        <td id=\"T_d9139a7e_f65e_11e9_a849_1418772eafb8row0_col341\" class=\"data row0 col341\" >BatchNorm2d(992, eps=1e-05, momentum=0.1, affine=True, track_running_stats=True)</td>\n",
       "                        <td id=\"T_d9139a7e_f65e_11e9_a849_1418772eafb8row0_col342\" class=\"data row0 col342\" >ReLU()</td>\n",
       "                        <td id=\"T_d9139a7e_f65e_11e9_a849_1418772eafb8row0_col343\" class=\"data row0 col343\" >Conv2d(992, 128, kernel_size=(1, 1), stride=(1, 1))</td>\n",
       "                        <td id=\"T_d9139a7e_f65e_11e9_a849_1418772eafb8row0_col344\" class=\"data row0 col344\" >BatchNorm2d(128, eps=1e-05, momentum=0.1, affine=True, track_running_stats=True)</td>\n",
       "                        <td id=\"T_d9139a7e_f65e_11e9_a849_1418772eafb8row0_col345\" class=\"data row0 col345\" >ReLU()</td>\n",
       "                        <td id=\"T_d9139a7e_f65e_11e9_a849_1418772eafb8row0_col346\" class=\"data row0 col346\" >Conv2d(128, 32, kernel_size=(3, 3), stride=(1, 1), padding=(1, 1))</td>\n",
       "                        <td id=\"T_d9139a7e_f65e_11e9_a849_1418772eafb8row0_col347\" class=\"data row0 col347\" >Dropout2d(p=0)</td>\n",
       "                        <td id=\"T_d9139a7e_f65e_11e9_a849_1418772eafb8row0_col348\" class=\"data row0 col348\" >TorchConcatenate()</td>\n",
       "                        <td id=\"T_d9139a7e_f65e_11e9_a849_1418772eafb8row0_col349\" class=\"data row0 col349\" >BatchNorm2d(1024, eps=1e-05, momentum=0.1, affine=True, track_running_stats=True)</td>\n",
       "                        <td id=\"T_d9139a7e_f65e_11e9_a849_1418772eafb8row0_col350\" class=\"data row0 col350\" >ReLU()</td>\n",
       "                        <td id=\"T_d9139a7e_f65e_11e9_a849_1418772eafb8row0_col351\" class=\"data row0 col351\" >Conv2d(1024, 512, kernel_size=(1, 1), stride=(1, 1))</td>\n",
       "                        <td id=\"T_d9139a7e_f65e_11e9_a849_1418772eafb8row0_col352\" class=\"data row0 col352\" >AvgPool2d(kernel_size=2, stride=2, padding=0)</td>\n",
       "                        <td id=\"T_d9139a7e_f65e_11e9_a849_1418772eafb8row0_col353\" class=\"data row0 col353\" >BatchNorm2d(512, eps=1e-05, momentum=0.1, affine=True, track_running_stats=True)</td>\n",
       "                        <td id=\"T_d9139a7e_f65e_11e9_a849_1418772eafb8row0_col354\" class=\"data row0 col354\" >ReLU()</td>\n",
       "                        <td id=\"T_d9139a7e_f65e_11e9_a849_1418772eafb8row0_col355\" class=\"data row0 col355\" >Conv2d(512, 128, kernel_size=(1, 1), stride=(1, 1))</td>\n",
       "                        <td id=\"T_d9139a7e_f65e_11e9_a849_1418772eafb8row0_col356\" class=\"data row0 col356\" >BatchNorm2d(128, eps=1e-05, momentum=0.1, affine=True, track_running_stats=True)</td>\n",
       "                        <td id=\"T_d9139a7e_f65e_11e9_a849_1418772eafb8row0_col357\" class=\"data row0 col357\" >ReLU()</td>\n",
       "                        <td id=\"T_d9139a7e_f65e_11e9_a849_1418772eafb8row0_col358\" class=\"data row0 col358\" >Conv2d(128, 32, kernel_size=(3, 3), stride=(1, 1), padding=(1, 1))</td>\n",
       "                        <td id=\"T_d9139a7e_f65e_11e9_a849_1418772eafb8row0_col359\" class=\"data row0 col359\" >Dropout2d(p=0)</td>\n",
       "                        <td id=\"T_d9139a7e_f65e_11e9_a849_1418772eafb8row0_col360\" class=\"data row0 col360\" >TorchConcatenate()</td>\n",
       "                        <td id=\"T_d9139a7e_f65e_11e9_a849_1418772eafb8row0_col361\" class=\"data row0 col361\" >BatchNorm2d(544, eps=1e-05, momentum=0.1, affine=True, track_running_stats=True)</td>\n",
       "                        <td id=\"T_d9139a7e_f65e_11e9_a849_1418772eafb8row0_col362\" class=\"data row0 col362\" >ReLU()</td>\n",
       "                        <td id=\"T_d9139a7e_f65e_11e9_a849_1418772eafb8row0_col363\" class=\"data row0 col363\" >Conv2d(544, 128, kernel_size=(1, 1), stride=(1, 1))</td>\n",
       "                        <td id=\"T_d9139a7e_f65e_11e9_a849_1418772eafb8row0_col364\" class=\"data row0 col364\" >BatchNorm2d(128, eps=1e-05, momentum=0.1, affine=True, track_running_stats=True)</td>\n",
       "                        <td id=\"T_d9139a7e_f65e_11e9_a849_1418772eafb8row0_col365\" class=\"data row0 col365\" >ReLU()</td>\n",
       "                        <td id=\"T_d9139a7e_f65e_11e9_a849_1418772eafb8row0_col366\" class=\"data row0 col366\" >Conv2d(128, 32, kernel_size=(3, 3), stride=(1, 1), padding=(1, 1))</td>\n",
       "                        <td id=\"T_d9139a7e_f65e_11e9_a849_1418772eafb8row0_col367\" class=\"data row0 col367\" >Dropout2d(p=0)</td>\n",
       "                        <td id=\"T_d9139a7e_f65e_11e9_a849_1418772eafb8row0_col368\" class=\"data row0 col368\" >TorchConcatenate()</td>\n",
       "                        <td id=\"T_d9139a7e_f65e_11e9_a849_1418772eafb8row0_col369\" class=\"data row0 col369\" >BatchNorm2d(576, eps=1e-05, momentum=0.1, affine=True, track_running_stats=True)</td>\n",
       "                        <td id=\"T_d9139a7e_f65e_11e9_a849_1418772eafb8row0_col370\" class=\"data row0 col370\" >ReLU()</td>\n",
       "                        <td id=\"T_d9139a7e_f65e_11e9_a849_1418772eafb8row0_col371\" class=\"data row0 col371\" >Conv2d(576, 128, kernel_size=(1, 1), stride=(1, 1))</td>\n",
       "                        <td id=\"T_d9139a7e_f65e_11e9_a849_1418772eafb8row0_col372\" class=\"data row0 col372\" >BatchNorm2d(128, eps=1e-05, momentum=0.1, affine=True, track_running_stats=True)</td>\n",
       "                        <td id=\"T_d9139a7e_f65e_11e9_a849_1418772eafb8row0_col373\" class=\"data row0 col373\" >ReLU()</td>\n",
       "                        <td id=\"T_d9139a7e_f65e_11e9_a849_1418772eafb8row0_col374\" class=\"data row0 col374\" >Conv2d(128, 32, kernel_size=(3, 3), stride=(1, 1), padding=(1, 1))</td>\n",
       "                        <td id=\"T_d9139a7e_f65e_11e9_a849_1418772eafb8row0_col375\" class=\"data row0 col375\" >Dropout2d(p=0)</td>\n",
       "                        <td id=\"T_d9139a7e_f65e_11e9_a849_1418772eafb8row0_col376\" class=\"data row0 col376\" >TorchConcatenate()</td>\n",
       "                        <td id=\"T_d9139a7e_f65e_11e9_a849_1418772eafb8row0_col377\" class=\"data row0 col377\" >BatchNorm2d(608, eps=1e-05, momentum=0.1, affine=True, track_running_stats=True)</td>\n",
       "                        <td id=\"T_d9139a7e_f65e_11e9_a849_1418772eafb8row0_col378\" class=\"data row0 col378\" >ReLU()</td>\n",
       "                        <td id=\"T_d9139a7e_f65e_11e9_a849_1418772eafb8row0_col379\" class=\"data row0 col379\" >Conv2d(608, 128, kernel_size=(1, 1), stride=(1, 1))</td>\n",
       "                        <td id=\"T_d9139a7e_f65e_11e9_a849_1418772eafb8row0_col380\" class=\"data row0 col380\" >BatchNorm2d(128, eps=1e-05, momentum=0.1, affine=True, track_running_stats=True)</td>\n",
       "                        <td id=\"T_d9139a7e_f65e_11e9_a849_1418772eafb8row0_col381\" class=\"data row0 col381\" >ReLU()</td>\n",
       "                        <td id=\"T_d9139a7e_f65e_11e9_a849_1418772eafb8row0_col382\" class=\"data row0 col382\" >Conv2d(128, 32, kernel_size=(3, 3), stride=(1, 1), padding=(1, 1))</td>\n",
       "                        <td id=\"T_d9139a7e_f65e_11e9_a849_1418772eafb8row0_col383\" class=\"data row0 col383\" >Dropout2d(p=0)</td>\n",
       "                        <td id=\"T_d9139a7e_f65e_11e9_a849_1418772eafb8row0_col384\" class=\"data row0 col384\" >TorchConcatenate()</td>\n",
       "                        <td id=\"T_d9139a7e_f65e_11e9_a849_1418772eafb8row0_col385\" class=\"data row0 col385\" >BatchNorm2d(640, eps=1e-05, momentum=0.1, affine=True, track_running_stats=True)</td>\n",
       "                        <td id=\"T_d9139a7e_f65e_11e9_a849_1418772eafb8row0_col386\" class=\"data row0 col386\" >ReLU()</td>\n",
       "                        <td id=\"T_d9139a7e_f65e_11e9_a849_1418772eafb8row0_col387\" class=\"data row0 col387\" >Conv2d(640, 128, kernel_size=(1, 1), stride=(1, 1))</td>\n",
       "                        <td id=\"T_d9139a7e_f65e_11e9_a849_1418772eafb8row0_col388\" class=\"data row0 col388\" >BatchNorm2d(128, eps=1e-05, momentum=0.1, affine=True, track_running_stats=True)</td>\n",
       "                        <td id=\"T_d9139a7e_f65e_11e9_a849_1418772eafb8row0_col389\" class=\"data row0 col389\" >ReLU()</td>\n",
       "                        <td id=\"T_d9139a7e_f65e_11e9_a849_1418772eafb8row0_col390\" class=\"data row0 col390\" >Conv2d(128, 32, kernel_size=(3, 3), stride=(1, 1), padding=(1, 1))</td>\n",
       "                        <td id=\"T_d9139a7e_f65e_11e9_a849_1418772eafb8row0_col391\" class=\"data row0 col391\" >Dropout2d(p=0)</td>\n",
       "                        <td id=\"T_d9139a7e_f65e_11e9_a849_1418772eafb8row0_col392\" class=\"data row0 col392\" >TorchConcatenate()</td>\n",
       "                        <td id=\"T_d9139a7e_f65e_11e9_a849_1418772eafb8row0_col393\" class=\"data row0 col393\" >BatchNorm2d(672, eps=1e-05, momentum=0.1, affine=True, track_running_stats=True)</td>\n",
       "                        <td id=\"T_d9139a7e_f65e_11e9_a849_1418772eafb8row0_col394\" class=\"data row0 col394\" >ReLU()</td>\n",
       "                        <td id=\"T_d9139a7e_f65e_11e9_a849_1418772eafb8row0_col395\" class=\"data row0 col395\" >Conv2d(672, 128, kernel_size=(1, 1), stride=(1, 1))</td>\n",
       "                        <td id=\"T_d9139a7e_f65e_11e9_a849_1418772eafb8row0_col396\" class=\"data row0 col396\" >BatchNorm2d(128, eps=1e-05, momentum=0.1, affine=True, track_running_stats=True)</td>\n",
       "                        <td id=\"T_d9139a7e_f65e_11e9_a849_1418772eafb8row0_col397\" class=\"data row0 col397\" >ReLU()</td>\n",
       "                        <td id=\"T_d9139a7e_f65e_11e9_a849_1418772eafb8row0_col398\" class=\"data row0 col398\" >Conv2d(128, 32, kernel_size=(3, 3), stride=(1, 1), padding=(1, 1))</td>\n",
       "                        <td id=\"T_d9139a7e_f65e_11e9_a849_1418772eafb8row0_col399\" class=\"data row0 col399\" >Dropout2d(p=0)</td>\n",
       "                        <td id=\"T_d9139a7e_f65e_11e9_a849_1418772eafb8row0_col400\" class=\"data row0 col400\" >TorchConcatenate()</td>\n",
       "                        <td id=\"T_d9139a7e_f65e_11e9_a849_1418772eafb8row0_col401\" class=\"data row0 col401\" >BatchNorm2d(704, eps=1e-05, momentum=0.1, affine=True, track_running_stats=True)</td>\n",
       "                        <td id=\"T_d9139a7e_f65e_11e9_a849_1418772eafb8row0_col402\" class=\"data row0 col402\" >ReLU()</td>\n",
       "                        <td id=\"T_d9139a7e_f65e_11e9_a849_1418772eafb8row0_col403\" class=\"data row0 col403\" >Conv2d(704, 128, kernel_size=(1, 1), stride=(1, 1))</td>\n",
       "                        <td id=\"T_d9139a7e_f65e_11e9_a849_1418772eafb8row0_col404\" class=\"data row0 col404\" >BatchNorm2d(128, eps=1e-05, momentum=0.1, affine=True, track_running_stats=True)</td>\n",
       "                        <td id=\"T_d9139a7e_f65e_11e9_a849_1418772eafb8row0_col405\" class=\"data row0 col405\" >ReLU()</td>\n",
       "                        <td id=\"T_d9139a7e_f65e_11e9_a849_1418772eafb8row0_col406\" class=\"data row0 col406\" >Conv2d(128, 32, kernel_size=(3, 3), stride=(1, 1), padding=(1, 1))</td>\n",
       "                        <td id=\"T_d9139a7e_f65e_11e9_a849_1418772eafb8row0_col407\" class=\"data row0 col407\" >Dropout2d(p=0)</td>\n",
       "                        <td id=\"T_d9139a7e_f65e_11e9_a849_1418772eafb8row0_col408\" class=\"data row0 col408\" >TorchConcatenate()</td>\n",
       "                        <td id=\"T_d9139a7e_f65e_11e9_a849_1418772eafb8row0_col409\" class=\"data row0 col409\" >BatchNorm2d(736, eps=1e-05, momentum=0.1, affine=True, track_running_stats=True)</td>\n",
       "                        <td id=\"T_d9139a7e_f65e_11e9_a849_1418772eafb8row0_col410\" class=\"data row0 col410\" >ReLU()</td>\n",
       "                        <td id=\"T_d9139a7e_f65e_11e9_a849_1418772eafb8row0_col411\" class=\"data row0 col411\" >Conv2d(736, 128, kernel_size=(1, 1), stride=(1, 1))</td>\n",
       "                        <td id=\"T_d9139a7e_f65e_11e9_a849_1418772eafb8row0_col412\" class=\"data row0 col412\" >BatchNorm2d(128, eps=1e-05, momentum=0.1, affine=True, track_running_stats=True)</td>\n",
       "                        <td id=\"T_d9139a7e_f65e_11e9_a849_1418772eafb8row0_col413\" class=\"data row0 col413\" >ReLU()</td>\n",
       "                        <td id=\"T_d9139a7e_f65e_11e9_a849_1418772eafb8row0_col414\" class=\"data row0 col414\" >Conv2d(128, 32, kernel_size=(3, 3), stride=(1, 1), padding=(1, 1))</td>\n",
       "                        <td id=\"T_d9139a7e_f65e_11e9_a849_1418772eafb8row0_col415\" class=\"data row0 col415\" >Dropout2d(p=0)</td>\n",
       "                        <td id=\"T_d9139a7e_f65e_11e9_a849_1418772eafb8row0_col416\" class=\"data row0 col416\" >TorchConcatenate()</td>\n",
       "                        <td id=\"T_d9139a7e_f65e_11e9_a849_1418772eafb8row0_col417\" class=\"data row0 col417\" >BatchNorm2d(768, eps=1e-05, momentum=0.1, affine=True, track_running_stats=True)</td>\n",
       "                        <td id=\"T_d9139a7e_f65e_11e9_a849_1418772eafb8row0_col418\" class=\"data row0 col418\" >ReLU()</td>\n",
       "                        <td id=\"T_d9139a7e_f65e_11e9_a849_1418772eafb8row0_col419\" class=\"data row0 col419\" >Conv2d(768, 128, kernel_size=(1, 1), stride=(1, 1))</td>\n",
       "                        <td id=\"T_d9139a7e_f65e_11e9_a849_1418772eafb8row0_col420\" class=\"data row0 col420\" >BatchNorm2d(128, eps=1e-05, momentum=0.1, affine=True, track_running_stats=True)</td>\n",
       "                        <td id=\"T_d9139a7e_f65e_11e9_a849_1418772eafb8row0_col421\" class=\"data row0 col421\" >ReLU()</td>\n",
       "                        <td id=\"T_d9139a7e_f65e_11e9_a849_1418772eafb8row0_col422\" class=\"data row0 col422\" >Conv2d(128, 32, kernel_size=(3, 3), stride=(1, 1), padding=(1, 1))</td>\n",
       "                        <td id=\"T_d9139a7e_f65e_11e9_a849_1418772eafb8row0_col423\" class=\"data row0 col423\" >Dropout2d(p=0)</td>\n",
       "                        <td id=\"T_d9139a7e_f65e_11e9_a849_1418772eafb8row0_col424\" class=\"data row0 col424\" >TorchConcatenate()</td>\n",
       "                        <td id=\"T_d9139a7e_f65e_11e9_a849_1418772eafb8row0_col425\" class=\"data row0 col425\" >BatchNorm2d(800, eps=1e-05, momentum=0.1, affine=True, track_running_stats=True)</td>\n",
       "                        <td id=\"T_d9139a7e_f65e_11e9_a849_1418772eafb8row0_col426\" class=\"data row0 col426\" >ReLU()</td>\n",
       "                        <td id=\"T_d9139a7e_f65e_11e9_a849_1418772eafb8row0_col427\" class=\"data row0 col427\" >Conv2d(800, 128, kernel_size=(1, 1), stride=(1, 1))</td>\n",
       "                        <td id=\"T_d9139a7e_f65e_11e9_a849_1418772eafb8row0_col428\" class=\"data row0 col428\" >BatchNorm2d(128, eps=1e-05, momentum=0.1, affine=True, track_running_stats=True)</td>\n",
       "                        <td id=\"T_d9139a7e_f65e_11e9_a849_1418772eafb8row0_col429\" class=\"data row0 col429\" >ReLU()</td>\n",
       "                        <td id=\"T_d9139a7e_f65e_11e9_a849_1418772eafb8row0_col430\" class=\"data row0 col430\" >Conv2d(128, 32, kernel_size=(3, 3), stride=(1, 1), padding=(1, 1))</td>\n",
       "                        <td id=\"T_d9139a7e_f65e_11e9_a849_1418772eafb8row0_col431\" class=\"data row0 col431\" >Dropout2d(p=0)</td>\n",
       "                        <td id=\"T_d9139a7e_f65e_11e9_a849_1418772eafb8row0_col432\" class=\"data row0 col432\" >TorchConcatenate()</td>\n",
       "                        <td id=\"T_d9139a7e_f65e_11e9_a849_1418772eafb8row0_col433\" class=\"data row0 col433\" >BatchNorm2d(832, eps=1e-05, momentum=0.1, affine=True, track_running_stats=True)</td>\n",
       "                        <td id=\"T_d9139a7e_f65e_11e9_a849_1418772eafb8row0_col434\" class=\"data row0 col434\" >ReLU()</td>\n",
       "                        <td id=\"T_d9139a7e_f65e_11e9_a849_1418772eafb8row0_col435\" class=\"data row0 col435\" >Conv2d(832, 128, kernel_size=(1, 1), stride=(1, 1))</td>\n",
       "                        <td id=\"T_d9139a7e_f65e_11e9_a849_1418772eafb8row0_col436\" class=\"data row0 col436\" >BatchNorm2d(128, eps=1e-05, momentum=0.1, affine=True, track_running_stats=True)</td>\n",
       "                        <td id=\"T_d9139a7e_f65e_11e9_a849_1418772eafb8row0_col437\" class=\"data row0 col437\" >ReLU()</td>\n",
       "                        <td id=\"T_d9139a7e_f65e_11e9_a849_1418772eafb8row0_col438\" class=\"data row0 col438\" >Conv2d(128, 32, kernel_size=(3, 3), stride=(1, 1), padding=(1, 1))</td>\n",
       "                        <td id=\"T_d9139a7e_f65e_11e9_a849_1418772eafb8row0_col439\" class=\"data row0 col439\" >Dropout2d(p=0)</td>\n",
       "                        <td id=\"T_d9139a7e_f65e_11e9_a849_1418772eafb8row0_col440\" class=\"data row0 col440\" >TorchConcatenate()</td>\n",
       "                        <td id=\"T_d9139a7e_f65e_11e9_a849_1418772eafb8row0_col441\" class=\"data row0 col441\" >BatchNorm2d(864, eps=1e-05, momentum=0.1, affine=True, track_running_stats=True)</td>\n",
       "                        <td id=\"T_d9139a7e_f65e_11e9_a849_1418772eafb8row0_col442\" class=\"data row0 col442\" >ReLU()</td>\n",
       "                        <td id=\"T_d9139a7e_f65e_11e9_a849_1418772eafb8row0_col443\" class=\"data row0 col443\" >Conv2d(864, 128, kernel_size=(1, 1), stride=(1, 1))</td>\n",
       "                        <td id=\"T_d9139a7e_f65e_11e9_a849_1418772eafb8row0_col444\" class=\"data row0 col444\" >BatchNorm2d(128, eps=1e-05, momentum=0.1, affine=True, track_running_stats=True)</td>\n",
       "                        <td id=\"T_d9139a7e_f65e_11e9_a849_1418772eafb8row0_col445\" class=\"data row0 col445\" >ReLU()</td>\n",
       "                        <td id=\"T_d9139a7e_f65e_11e9_a849_1418772eafb8row0_col446\" class=\"data row0 col446\" >Conv2d(128, 32, kernel_size=(3, 3), stride=(1, 1), padding=(1, 1))</td>\n",
       "                        <td id=\"T_d9139a7e_f65e_11e9_a849_1418772eafb8row0_col447\" class=\"data row0 col447\" >Dropout2d(p=0)</td>\n",
       "                        <td id=\"T_d9139a7e_f65e_11e9_a849_1418772eafb8row0_col448\" class=\"data row0 col448\" >TorchConcatenate()</td>\n",
       "                        <td id=\"T_d9139a7e_f65e_11e9_a849_1418772eafb8row0_col449\" class=\"data row0 col449\" >BatchNorm2d(896, eps=1e-05, momentum=0.1, affine=True, track_running_stats=True)</td>\n",
       "                        <td id=\"T_d9139a7e_f65e_11e9_a849_1418772eafb8row0_col450\" class=\"data row0 col450\" >ReLU()</td>\n",
       "                        <td id=\"T_d9139a7e_f65e_11e9_a849_1418772eafb8row0_col451\" class=\"data row0 col451\" >Conv2d(896, 128, kernel_size=(1, 1), stride=(1, 1))</td>\n",
       "                        <td id=\"T_d9139a7e_f65e_11e9_a849_1418772eafb8row0_col452\" class=\"data row0 col452\" >BatchNorm2d(128, eps=1e-05, momentum=0.1, affine=True, track_running_stats=True)</td>\n",
       "                        <td id=\"T_d9139a7e_f65e_11e9_a849_1418772eafb8row0_col453\" class=\"data row0 col453\" >ReLU()</td>\n",
       "                        <td id=\"T_d9139a7e_f65e_11e9_a849_1418772eafb8row0_col454\" class=\"data row0 col454\" >Conv2d(128, 32, kernel_size=(3, 3), stride=(1, 1), padding=(1, 1))</td>\n",
       "                        <td id=\"T_d9139a7e_f65e_11e9_a849_1418772eafb8row0_col455\" class=\"data row0 col455\" >Dropout2d(p=0)</td>\n",
       "                        <td id=\"T_d9139a7e_f65e_11e9_a849_1418772eafb8row0_col456\" class=\"data row0 col456\" >TorchConcatenate()</td>\n",
       "                        <td id=\"T_d9139a7e_f65e_11e9_a849_1418772eafb8row0_col457\" class=\"data row0 col457\" >BatchNorm2d(928, eps=1e-05, momentum=0.1, affine=True, track_running_stats=True)</td>\n",
       "                        <td id=\"T_d9139a7e_f65e_11e9_a849_1418772eafb8row0_col458\" class=\"data row0 col458\" >ReLU()</td>\n",
       "                        <td id=\"T_d9139a7e_f65e_11e9_a849_1418772eafb8row0_col459\" class=\"data row0 col459\" >Conv2d(928, 128, kernel_size=(1, 1), stride=(1, 1))</td>\n",
       "                        <td id=\"T_d9139a7e_f65e_11e9_a849_1418772eafb8row0_col460\" class=\"data row0 col460\" >BatchNorm2d(128, eps=1e-05, momentum=0.1, affine=True, track_running_stats=True)</td>\n",
       "                        <td id=\"T_d9139a7e_f65e_11e9_a849_1418772eafb8row0_col461\" class=\"data row0 col461\" >ReLU()</td>\n",
       "                        <td id=\"T_d9139a7e_f65e_11e9_a849_1418772eafb8row0_col462\" class=\"data row0 col462\" >Conv2d(128, 32, kernel_size=(3, 3), stride=(1, 1), padding=(1, 1))</td>\n",
       "                        <td id=\"T_d9139a7e_f65e_11e9_a849_1418772eafb8row0_col463\" class=\"data row0 col463\" >Dropout2d(p=0)</td>\n",
       "                        <td id=\"T_d9139a7e_f65e_11e9_a849_1418772eafb8row0_col464\" class=\"data row0 col464\" >TorchConcatenate()</td>\n",
       "                        <td id=\"T_d9139a7e_f65e_11e9_a849_1418772eafb8row0_col465\" class=\"data row0 col465\" >BatchNorm2d(960, eps=1e-05, momentum=0.1, affine=True, track_running_stats=True)</td>\n",
       "                        <td id=\"T_d9139a7e_f65e_11e9_a849_1418772eafb8row0_col466\" class=\"data row0 col466\" >ReLU()</td>\n",
       "                        <td id=\"T_d9139a7e_f65e_11e9_a849_1418772eafb8row0_col467\" class=\"data row0 col467\" >Conv2d(960, 128, kernel_size=(1, 1), stride=(1, 1))</td>\n",
       "                        <td id=\"T_d9139a7e_f65e_11e9_a849_1418772eafb8row0_col468\" class=\"data row0 col468\" >BatchNorm2d(128, eps=1e-05, momentum=0.1, affine=True, track_running_stats=True)</td>\n",
       "                        <td id=\"T_d9139a7e_f65e_11e9_a849_1418772eafb8row0_col469\" class=\"data row0 col469\" >ReLU()</td>\n",
       "                        <td id=\"T_d9139a7e_f65e_11e9_a849_1418772eafb8row0_col470\" class=\"data row0 col470\" >Conv2d(128, 32, kernel_size=(3, 3), stride=(1, 1), padding=(1, 1))</td>\n",
       "                        <td id=\"T_d9139a7e_f65e_11e9_a849_1418772eafb8row0_col471\" class=\"data row0 col471\" >Dropout2d(p=0)</td>\n",
       "                        <td id=\"T_d9139a7e_f65e_11e9_a849_1418772eafb8row0_col472\" class=\"data row0 col472\" >TorchConcatenate()</td>\n",
       "                        <td id=\"T_d9139a7e_f65e_11e9_a849_1418772eafb8row0_col473\" class=\"data row0 col473\" >BatchNorm2d(992, eps=1e-05, momentum=0.1, affine=True, track_running_stats=True)</td>\n",
       "                        <td id=\"T_d9139a7e_f65e_11e9_a849_1418772eafb8row0_col474\" class=\"data row0 col474\" >ReLU()</td>\n",
       "                        <td id=\"T_d9139a7e_f65e_11e9_a849_1418772eafb8row0_col475\" class=\"data row0 col475\" >Conv2d(992, 128, kernel_size=(1, 1), stride=(1, 1))</td>\n",
       "                        <td id=\"T_d9139a7e_f65e_11e9_a849_1418772eafb8row0_col476\" class=\"data row0 col476\" >BatchNorm2d(128, eps=1e-05, momentum=0.1, affine=True, track_running_stats=True)</td>\n",
       "                        <td id=\"T_d9139a7e_f65e_11e9_a849_1418772eafb8row0_col477\" class=\"data row0 col477\" >ReLU()</td>\n",
       "                        <td id=\"T_d9139a7e_f65e_11e9_a849_1418772eafb8row0_col478\" class=\"data row0 col478\" >Conv2d(128, 32, kernel_size=(3, 3), stride=(1, 1), padding=(1, 1))</td>\n",
       "                        <td id=\"T_d9139a7e_f65e_11e9_a849_1418772eafb8row0_col479\" class=\"data row0 col479\" >Dropout2d(p=0)</td>\n",
       "                        <td id=\"T_d9139a7e_f65e_11e9_a849_1418772eafb8row0_col480\" class=\"data row0 col480\" >TorchConcatenate()</td>\n",
       "                        <td id=\"T_d9139a7e_f65e_11e9_a849_1418772eafb8row0_col481\" class=\"data row0 col481\" >BatchNorm2d(1024, eps=1e-05, momentum=0.1, affine=True, track_running_stats=True)</td>\n",
       "                        <td id=\"T_d9139a7e_f65e_11e9_a849_1418772eafb8row0_col482\" class=\"data row0 col482\" >ReLU()</td>\n",
       "                        <td id=\"T_d9139a7e_f65e_11e9_a849_1418772eafb8row0_col483\" class=\"data row0 col483\" >GlobalAvgPool2d()</td>\n",
       "                        <td id=\"T_d9139a7e_f65e_11e9_a849_1418772eafb8row0_col484\" class=\"data row0 col484\" >Linear(in_features=1024, out_features=10, bias=True)</td>\n",
       "            </tr>\n",
       "    </tbody></table>"
      ],
      "text/plain": [
       "<pandas.io.formats.style.Styler at 0x2ae839a73b38>"
      ]
     },
     "metadata": {},
     "output_type": "display_data"
    },
    {
     "name": "stderr",
     "output_type": "stream",
     "text": [
      "/wrk/users/thalvari/dpEmu-AutoML/dpemu/plotting_utils.py:79: UserWarning: Attempting to set identical left == right == 0.0 results in singular transformations; automatically expanding.\n",
      "  ax.set_xlim([df_[err_param_name].min(), df_[err_param_name].max()])\n"
     ]
    },
    {
     "data": {
      "image/png": "[encoded data removed]",
      "text/plain": [
       "<Figure size 720x288 with 2 Axes>"
      ]
     },
     "metadata": {
      "needs_background": "light"
     },
     "output_type": "display_data"
    }
   ],
   "source": [
    "print_results_by_model(df,\n",
    "    # [\"train_labels\", \"test_labels\"],\n",
    "    [\"mean\", \"min_val\", \"max_val\", \"train_labels\", \"test_labels\"], \n",
    "    # err_param_name=\"max_angle\",\n",
    "    err_param_name=\"std\",\n",
    "    pipeline_name=\"best_pipeline\"\n",
    ")\n",
    "visualize(df)"
   ]
  },
  {
   "cell_type": "markdown",
   "metadata": {
    "collapsed": false,
    "papermill": {
     "duration": 0.025051,
     "end_time": "2019-10-24T13:04:45.574916",
     "exception": false,
     "start_time": "2019-10-24T13:04:45.549865",
     "status": "completed"
    },
    "pycharm": {
     "name": "#%% md\n"
    },
    "tags": []
   },
   "source": []
  }
 ],
 "metadata": {
  "kernelspec": {
   "display_name": "Python 3",
   "language": "python",
   "name": "python3"
  },
  "language_info": {
   "codemirror_mode": {
    "name": "ipython",
    "version": 3
   },
   "file_extension": ".py",
   "mimetype": "text/x-python",
   "name": "python",
   "nbconvert_exporter": "python",
   "pygments_lexer": "ipython3",
   "version": "3.6.6"
  },
  "papermill": {
   "duration": 3946.89024,
   "end_time": "2019-10-24T13:04:47.715754",
   "environment_variables": {},
   "exception": null,
   "input_path": "docs/case_studies/test9.ipynb",
   "output_path": "docs/case_studies/test9.ipynb",
   "parameters": {},
   "start_time": "2019-10-24T11:59:00.825514",
   "version": "1.2.0"
  },
  "pycharm": {
   "stem_cell": {
    "cell_type": "raw",
    "metadata": {
     "collapsed": false
    },
    "source": []
   }
  },
  "widgets": {
   "application/vnd.jupyter.widget-state+json": {
    "state": {},
    "version_major": 2,
    "version_minor": 0
   }
  }
 },
 "nbformat": 4,
 "nbformat_minor": 0
}