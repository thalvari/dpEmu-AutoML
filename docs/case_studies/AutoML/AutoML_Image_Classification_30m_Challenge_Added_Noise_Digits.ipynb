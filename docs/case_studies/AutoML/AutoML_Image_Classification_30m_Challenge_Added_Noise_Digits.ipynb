{
 "cells": [
  {
   "cell_type": "markdown",
   "metadata": {
    "collapsed": false,
    "papermill": {
     "duration": 0.037675,
     "end_time": "2019-11-19T05:01:34.145694",
     "exception": false,
     "start_time": "2019-11-19T05:01:34.108019",
     "status": "completed"
    },
    "tags": []
   },
   "source": [
    "# AutoML Image Classification: Added Noise (Digits)"
   ]
  },
  {
   "cell_type": "code",
   "execution_count": 1,
   "metadata": {
    "collapsed": false,
    "papermill": {
     "duration": 0.038362,
     "end_time": "2019-11-19T05:01:34.212384",
     "exception": false,
     "start_time": "2019-11-19T05:01:34.174022",
     "status": "completed"
    },
    "pycharm": {
     "name": "#%%\n"
    },
    "tags": []
   },
   "outputs": [],
   "source": [
    "import warnings\n",
    "warnings.simplefilter(action=\"ignore\", category=FutureWarning)"
   ]
  },
  {
   "cell_type": "markdown",
   "metadata": {
    "collapsed": false,
    "papermill": {
     "duration": 0.020411,
     "end_time": "2019-11-19T05:01:34.254769",
     "exception": false,
     "start_time": "2019-11-19T05:01:34.234358",
     "status": "completed"
    },
    "tags": []
   },
   "source": [
    "![](imgs/gaussian_noise.png)"
   ]
  },
  {
   "cell_type": "code",
   "execution_count": 2,
   "metadata": {
    "collapsed": false,
    "papermill": {
     "duration": 16.872716,
     "end_time": "2019-11-19T05:01:51.147225",
     "exception": false,
     "start_time": "2019-11-19T05:01:34.274509",
     "status": "completed"
    },
    "pycharm": {
     "is_executing": false,
     "name": "#%%\n"
    },
    "tags": []
   },
   "outputs": [
    {
     "name": "stdout",
     "output_type": "stream",
     "text": [
      "Better speed can be achieved with apex installed from https://www.github.com/nvidia/apex.\n"
     ]
    },
    {
     "name": "stderr",
     "output_type": "stream",
     "text": [
      "Using TensorFlow backend.\n"
     ]
    }
   ],
   "source": [
    "import random as rn\n",
    "from abc import ABC, abstractmethod\n",
    "\n",
    "import autokeras as ak\n",
    "import h2o\n",
    "import matplotlib.pyplot as plt\n",
    "import numpy as np\n",
    "from h2o.automl import H2OAutoML\n",
    "from keras.datasets import fashion_mnist\n",
    "from numpy.random import RandomState\n",
    "from sklearn.datasets import load_digits\n",
    "from sklearn.metrics import accuracy_score\n",
    "from sklearn.model_selection import train_test_split\n",
    "from tpot import TPOTClassifier\n",
    "\n",
    "from dpemu import runner\n",
    "from dpemu.filters.common import GaussianNoise, Clip\n",
    "from dpemu.filters.image import RotationPIL\n",
    "from dpemu.nodes import Array\n",
    "from dpemu.nodes.series import Series\n",
    "from dpemu.plotting_utils import visualize_scores, print_results_by_model\n",
    "from dpemu.utils import generate_tmpdir"
   ]
  },
  {
   "cell_type": "markdown",
   "metadata": {
    "collapsed": false,
    "papermill": {
     "duration": 0.027,
     "end_time": "2019-11-19T05:01:51.206804",
     "exception": false,
     "start_time": "2019-11-19T05:01:51.179804",
     "status": "completed"
    },
    "pycharm": {
     "name": "#%% md\n"
    },
    "tags": []
   },
   "source": []
  },
  {
   "cell_type": "code",
   "execution_count": 3,
   "metadata": {
    "collapsed": false,
    "papermill": {
     "duration": 0.034933,
     "end_time": "2019-11-19T05:01:51.265510",
     "exception": false,
     "start_time": "2019-11-19T05:01:51.230577",
     "status": "completed"
    },
    "pycharm": {
     "is_executing": false,
     "name": "#%%\n"
    },
    "tags": []
   },
   "outputs": [],
   "source": [
    "def get_data():\n",
    "    random_state = RandomState(42)\n",
    "    x, y = load_digits(return_X_y=True)\n",
    "    y = y.astype(np.uint8)\n",
    "    return train_test_split(x, y, test_size=1/7, random_state=random_state)\n",
    "    # (x_train, y_train), (x_test, y_test) = fashion_mnist.load_data()\n",
    "    # s = x_train.shape[1]\n",
    "    # x_train = x_train.reshape((len(x_train), s**2)).astype(np.float64)\n",
    "    # x_test = x_test.reshape((len(x_test), s**2)).astype(np.float64)    \n",
    "    # return x_train, x_test, y_train, y_test"
   ]
  },
  {
   "cell_type": "markdown",
   "metadata": {
    "collapsed": false,
    "papermill": {
     "duration": 0.017141,
     "end_time": "2019-11-19T05:01:51.303376",
     "exception": false,
     "start_time": "2019-11-19T05:01:51.286235",
     "status": "completed"
    },
    "pycharm": {
     "name": "#%% md\n"
    },
    "tags": []
   },
   "source": []
  },
  {
   "cell_type": "code",
   "execution_count": 4,
   "metadata": {
    "collapsed": false,
    "papermill": {
     "duration": 0.027819,
     "end_time": "2019-11-19T05:01:51.346047",
     "exception": false,
     "start_time": "2019-11-19T05:01:51.318228",
     "status": "completed"
    },
    "pycharm": {
     "is_executing": false,
     "name": "#%%\n"
    },
    "tags": []
   },
   "outputs": [],
   "source": [
    "def get_err_root_node():\n",
    "    err_img_node = Array(reshape=(8, 8))\n",
    "    # err_img_node = Array(reshape=(28, 28))\n",
    "\n",
    "    # err_root_node = Series(err_img_node)\n",
    "    # err_img_node.addfilter(RotationPIL(\"max_angle\"))\n",
    "    # return err_root_node\n",
    "    err_root_node = Series(err_img_node)\n",
    "    err_img_node.addfilter(GaussianNoise(\"mean\", \"std\"))\n",
    "    err_img_node.addfilter(Clip(\"min_val\", \"max_val\"))\n",
    "    return err_root_node"
   ]
  },
  {
   "cell_type": "markdown",
   "metadata": {
    "collapsed": false,
    "papermill": {
     "duration": 0.015286,
     "end_time": "2019-11-19T05:01:51.376737",
     "exception": false,
     "start_time": "2019-11-19T05:01:51.361451",
     "status": "completed"
    },
    "pycharm": {
     "name": "#%% md\n"
    },
    "tags": []
   },
   "source": []
  },
  {
   "cell_type": "code",
   "execution_count": 5,
   "metadata": {
    "collapsed": false,
    "papermill": {
     "duration": 0.029045,
     "end_time": "2019-11-19T05:01:51.420952",
     "exception": false,
     "start_time": "2019-11-19T05:01:51.391907",
     "status": "completed"
    },
    "pycharm": {
     "is_executing": false,
     "name": "#%%\n"
    },
    "tags": []
   },
   "outputs": [],
   "source": [
    "def get_err_params_list(data):\n",
    "    # angle_steps = np.linspace(0, 90, num=6)\n",
    "    # err_params_list = [{\"max_angle\": a} for a in angle_steps]\n",
    "    # return err_params_list\n",
    "    min_val = np.amin(data)\n",
    "    max_val = np.amax(data)\n",
    "    std_steps = np.round(np.linspace(0, max_val, num=6), 3)\n",
    "    err_params_list = [{\"mean\": 0, \"std\": std, \"min_val\": min_val, \"max_val\": max_val} for std in std_steps]\n",
    "    return err_params_list"
   ]
  },
  {
   "cell_type": "markdown",
   "metadata": {
    "collapsed": false,
    "papermill": {
     "duration": 0.01604,
     "end_time": "2019-11-19T05:01:51.453112",
     "exception": false,
     "start_time": "2019-11-19T05:01:51.437072",
     "status": "completed"
    },
    "pycharm": {
     "name": "#%% md\n"
    },
    "tags": []
   },
   "source": []
  },
  {
   "cell_type": "code",
   "execution_count": 6,
   "metadata": {
    "collapsed": false,
    "papermill": {
     "duration": 0.026568,
     "end_time": "2019-11-19T05:01:51.495424",
     "exception": false,
     "start_time": "2019-11-19T05:01:51.468856",
     "status": "completed"
    },
    "pycharm": {
     "is_executing": false,
     "name": "#%%\n"
    },
    "tags": []
   },
   "outputs": [],
   "source": [
    "class Preprocessor:\n",
    "\n",
    "    def run(self, train_data, test_data, params):\n",
    "        return np.round(train_data).astype(np.uint8), np.round(test_data).astype(np.uint8), {}"
   ]
  },
  {
   "cell_type": "markdown",
   "metadata": {
    "collapsed": false,
    "papermill": {
     "duration": 0.014882,
     "end_time": "2019-11-19T05:01:51.525949",
     "exception": false,
     "start_time": "2019-11-19T05:01:51.511067",
     "status": "completed"
    },
    "pycharm": {
     "name": "#%% md\n"
    },
    "tags": []
   },
   "source": []
  },
  {
   "cell_type": "code",
   "execution_count": 7,
   "metadata": {
    "collapsed": false,
    "papermill": {
     "duration": 0.074145,
     "end_time": "2019-11-19T05:01:51.615561",
     "exception": false,
     "start_time": "2019-11-19T05:01:51.541416",
     "status": "completed"
    },
    "pycharm": {
     "is_executing": false,
     "name": "#%%\n"
    },
    "tags": []
   },
   "outputs": [],
   "source": [
    "class AbstractModel(ABC):\n",
    "\n",
    "    def __init__(self):\n",
    "        self.time_limit_mins = 30\n",
    "        self.seed = 42\n",
    "        self.random_state = RandomState(self.seed)\n",
    "        np.random.seed(self.seed)\n",
    "\n",
    "    @abstractmethod\n",
    "    def get_fitted_model(self, train_data, train_labels, params):\n",
    "        pass\n",
    "\n",
    "    @abstractmethod\n",
    "    def get_accuracy(self, data, labels, fitted_model, params):\n",
    "        pass\n",
    "\n",
    "    @abstractmethod\n",
    "    def get_best_pipeline(self, fitted_model):\n",
    "        pass\n",
    "\n",
    "    def run(self, train_data, test_data, params):\n",
    "        train_labels = params[\"train_labels\"]\n",
    "        test_labels = params[\"test_labels\"]\n",
    "\n",
    "        fitted_model = self.get_fitted_model(train_data, train_labels, params)\n",
    "\n",
    "        results = {\n",
    "            \"test_acc\": self.get_accuracy(test_data, test_labels, fitted_model, params),\n",
    "            \"train_acc\": self.get_accuracy(train_data, train_labels, fitted_model, params),\n",
    "            \"best_pipeline\": self.get_best_pipeline(fitted_model),\n",
    "        }\n",
    "        print(type(fitted_model))\n",
    "        print(results[\"test_acc\"])\n",
    "        return results\n",
    "\n",
    "class TPOTClassifierModel(AbstractModel):\n",
    "\n",
    "    def __init__(self):\n",
    "        super().__init__()\n",
    "\n",
    "    def get_fitted_model(self, train_data, train_labels, params):\n",
    "        return TPOTClassifier(\n",
    "            max_time_mins=self.time_limit_mins,\n",
    "            max_eval_time_mins=self.time_limit_mins,\n",
    "            n_jobs=-1,\n",
    "            random_state=self.seed,\n",
    "            verbosity=1,\n",
    "        ).fit(train_data, train_labels)\n",
    "\n",
    "    def get_accuracy(self, data, labels, fitted_model, params):\n",
    "        return round(fitted_model.score(data, labels), 3)\n",
    "\n",
    "    def get_best_pipeline(self, fitted_model):\n",
    "        return [step[1] for step in fitted_model.fitted_pipeline_.steps]\n",
    "\n",
    "class H2OAutoMLModel(AbstractModel):\n",
    "\n",
    "    def __init__(self):\n",
    "        super().__init__()\n",
    "        h2o.init(name=f\"#{rn.SystemRandom().randint(1, 2**30)}\", nthreads=20)\n",
    "        h2o.no_progress()\n",
    "\n",
    "    def get_fitted_model(self, train_data, train_labels, params):\n",
    "        train_data = h2o.H2OFrame(np.concatenate((train_data, train_labels.reshape(-1, 1)), axis=1))\n",
    "        x = np.array(train_data.columns)[:-1].tolist()\n",
    "        y = np.array(train_data.columns)[-1].tolist()\n",
    "        train_data[y] = train_data[y].asfactor()\n",
    "        aml = H2OAutoML(max_runtime_secs=60*self.time_limit_mins, seed=self.seed)\n",
    "        aml.train(x=x, y=y, training_frame=train_data)\n",
    "        return aml\n",
    "\n",
    "    def get_accuracy(self, data, labels, fitted_model, params):\n",
    "        data = h2o.H2OFrame(np.concatenate((data, labels.reshape(-1, 1)), axis=1))\n",
    "        y = np.array(data.columns)[-1].tolist()\n",
    "        data[y] = data[y].asfactor()\n",
    "        pred = fitted_model.predict(data).as_data_frame(header=False)[\"predict\"].values.astype(int)\n",
    "        return np.round(np.mean(pred == labels), 3)\n",
    "\n",
    "    def get_best_pipeline(self, fitted_model):\n",
    "        leader_params = fitted_model.leader.get_params()\n",
    "        best_pipeline = [leader_params[\"model_id\"][\"actual_value\"][\"name\"]]\n",
    "        if \"base_models\" in leader_params:\n",
    "            for base_model in leader_params[\"base_models\"][\"actual_value\"]:\n",
    "                best_pipeline.append(base_model[\"name\"])\n",
    "        h2o.cluster().shutdown()\n",
    "        return best_pipeline\n",
    "\n",
    "class AutoKerasModel(AbstractModel):\n",
    "\n",
    "    def __init__(self):\n",
    "        super().__init__()\n",
    "        import tensorflow as tf\n",
    "        tf.set_random_seed(self.seed)\n",
    "        import torch\n",
    "        torch.multiprocessing.set_sharing_strategy(\"file_system\")\n",
    "        torch.manual_seed(self.seed)\n",
    "\n",
    "    def get_fitted_model(self, x_train, y_train, params):\n",
    "        s = np.sqrt(x_train.shape[1]).astype(int)\n",
    "        x_train = x_train.reshape((len(x_train), s, s, 1))\n",
    "        clf = ak.ImageClassifier(augment=False, path=generate_tmpdir(), verbose=False)\n",
    "        clf.fit(x_train, y_train, time_limit=60*self.time_limit_mins)\n",
    "        return clf\n",
    "\n",
    "    def get_accuracy(self, x, y, clf, params):\n",
    "        s = np.sqrt(x.shape[1]).astype(int)\n",
    "        x = x.reshape((len(x), s, s, 1))\n",
    "        y_pred = clf.predict(x)\n",
    "        return np.round(accuracy_score(y_true=y, y_pred=y_pred), 3)\n",
    "\n",
    "    def get_best_pipeline(self, clf):\n",
    "        return [m for i, m in enumerate(clf.cnn.best_model.produce_model().modules()) if i > 0]"
   ]
  },
  {
   "cell_type": "markdown",
   "metadata": {
    "collapsed": false,
    "papermill": {
     "duration": 0.024549,
     "end_time": "2019-11-19T05:01:51.667306",
     "exception": false,
     "start_time": "2019-11-19T05:01:51.642757",
     "status": "completed"
    },
    "pycharm": {
     "name": "#%% md\n"
    },
    "tags": []
   },
   "source": []
  },
  {
   "cell_type": "code",
   "execution_count": 8,
   "metadata": {
    "collapsed": false,
    "papermill": {
     "duration": 0.038079,
     "end_time": "2019-11-19T05:01:51.727568",
     "exception": false,
     "start_time": "2019-11-19T05:01:51.689489",
     "status": "completed"
    },
    "pycharm": {
     "is_executing": false,
     "name": "#%%\n"
    },
    "tags": []
   },
   "outputs": [],
   "source": [
    "def get_model_params_dict_list(train_labels, test_labels):\n",
    "    model_params_base = {\"train_labels\": train_labels, \"test_labels\": test_labels}\n",
    "    return [\n",
    "        {\n",
    "            \"model\": AutoKerasModel,\n",
    "            \"params_list\": [{**model_params_base}],\n",
    "            \"use_clean_train_data\": False\n",
    "        },\n",
    "        {\n",
    "            \"model\": AutoKerasModel,\n",
    "            \"params_list\": [{**model_params_base}],\n",
    "            \"use_clean_train_data\": True\n",
    "        },\n",
    "        {\n",
    "            \"model\": TPOTClassifierModel,\n",
    "            \"params_list\": [{**model_params_base}],\n",
    "            \"use_clean_train_data\": False\n",
    "        },\n",
    "        {\n",
    "            \"model\": TPOTClassifierModel,\n",
    "            \"params_list\": [{**model_params_base}],\n",
    "            \"use_clean_train_data\": True\n",
    "        },\n",
    "        {\n",
    "            \"model\": H2OAutoMLModel,\n",
    "            \"params_list\": [{**model_params_base}],\n",
    "            \"use_clean_train_data\": False\n",
    "        },\n",
    "        {\n",
    "            \"model\": H2OAutoMLModel,\n",
    "            \"params_list\": [{**model_params_base}],\n",
    "            \"use_clean_train_data\": True\n",
    "        },\n",
    "    ]"
   ]
  },
  {
   "cell_type": "markdown",
   "metadata": {
    "collapsed": false,
    "papermill": {
     "duration": 0.015552,
     "end_time": "2019-11-19T05:01:51.761184",
     "exception": false,
     "start_time": "2019-11-19T05:01:51.745632",
     "status": "completed"
    },
    "pycharm": {
     "is_executing": false,
     "name": "#%% md\n"
    },
    "tags": []
   },
   "source": []
  },
  {
   "cell_type": "code",
   "execution_count": 9,
   "metadata": {
    "collapsed": false,
    "papermill": {
     "duration": 0.02826,
     "end_time": "2019-11-19T05:01:51.805087",
     "exception": false,
     "start_time": "2019-11-19T05:01:51.776827",
     "status": "completed"
    },
    "pycharm": {
     "is_executing": false,
     "name": "#%%\n"
    },
    "tags": []
   },
   "outputs": [],
   "source": [
    "def visualize(df):\n",
    "    visualize_scores(\n",
    "        df,\n",
    "        score_names=[\"test_acc\", \"train_acc\"],\n",
    "        is_higher_score_better=[True, True],\n",
    "        # err_param_name=\"max_angle\",\n",
    "        err_param_name=\"std\",\n",
    "        title=\"Classification scores with added error\"\n",
    "    )\n",
    "    plt.show()"
   ]
  },
  {
   "cell_type": "markdown",
   "metadata": {
    "collapsed": false,
    "papermill": {
     "duration": 0.015888,
     "end_time": "2019-11-19T05:01:51.836547",
     "exception": false,
     "start_time": "2019-11-19T05:01:51.820659",
     "status": "completed"
    },
    "pycharm": {
     "is_executing": false,
     "name": "#%% md\n"
    },
    "tags": []
   },
   "source": []
  },
  {
   "cell_type": "code",
   "execution_count": 10,
   "metadata": {
    "collapsed": false,
    "papermill": {
     "duration": 65561.258394,
     "end_time": "2019-11-19T23:14:33.110177",
     "exception": false,
     "start_time": "2019-11-19T05:01:51.851783",
     "status": "completed"
    },
    "pycharm": {
     "is_executing": false,
     "name": "#%%\n"
    },
    "tags": []
   },
   "outputs": [
    {
     "name": "stderr",
     "output_type": "stream",
     "text": [
      "\r",
      "  0%|          | 0/6 [00:00<?, ?it/s]"
     ]
    },
    {
     "name": "stderr",
     "output_type": "stream",
     "text": [
      "WARNING:root:TimeoutError occurred at train() : "
     ]
    },
    {
     "name": "stderr",
     "output_type": "stream",
     "text": [
      "\n"
     ]
    },
    {
     "name": "stdout",
     "output_type": "stream",
     "text": [
      "<class 'autokeras.image.image_supervised.ImageClassifier'>"
     ]
    },
    {
     "name": "stdout",
     "output_type": "stream",
     "text": [
      "\n"
     ]
    },
    {
     "name": "stdout",
     "output_type": "stream",
     "text": [
      "0.988"
     ]
    },
    {
     "name": "stdout",
     "output_type": "stream",
     "text": [
      "\n"
     ]
    },
    {
     "name": "stderr",
     "output_type": "stream",
     "text": [
      "WARNING:root:TimeoutError occurred at train() : "
     ]
    },
    {
     "name": "stderr",
     "output_type": "stream",
     "text": [
      "\n"
     ]
    },
    {
     "name": "stdout",
     "output_type": "stream",
     "text": [
      "<class 'autokeras.image.image_supervised.ImageClassifier'>"
     ]
    },
    {
     "name": "stdout",
     "output_type": "stream",
     "text": [
      "\n"
     ]
    },
    {
     "name": "stdout",
     "output_type": "stream",
     "text": [
      "0.988"
     ]
    },
    {
     "name": "stdout",
     "output_type": "stream",
     "text": [
      "\n"
     ]
    },
    {
     "name": "stdout",
     "output_type": "stream",
     "text": [
      "\n"
     ]
    },
    {
     "name": "stdout",
     "output_type": "stream",
     "text": [
      "30.49 minutes have elapsed. TPOT will close down.\n",
      "TPOT closed during evaluation in one generation.\n",
      "WARNING: TPOT may not provide a good pipeline if TPOT is stopped/interrupted in a early generation."
     ]
    },
    {
     "name": "stdout",
     "output_type": "stream",
     "text": [
      "\n"
     ]
    },
    {
     "name": "stdout",
     "output_type": "stream",
     "text": [
      "\n"
     ]
    },
    {
     "name": "stdout",
     "output_type": "stream",
     "text": [
      "\n",
      "TPOT closed prematurely. Will use the current best pipeline."
     ]
    },
    {
     "name": "stdout",
     "output_type": "stream",
     "text": [
      "\n"
     ]
    },
    {
     "name": "stdout",
     "output_type": "stream",
     "text": [
      "Best pipeline:"
     ]
    },
    {
     "name": "stdout",
     "output_type": "stream",
     "text": [
      " "
     ]
    },
    {
     "name": "stdout",
     "output_type": "stream",
     "text": [
      "KNeighborsClassifier(ExtraTreesClassifier(ZeroCount(input_matrix), bootstrap=False, criterion=entropy, max_features=0.45, min_samples_leaf=9, min_samples_split=5, n_estimators=100), n_neighbors=4, p=2, weights=distance)"
     ]
    },
    {
     "name": "stdout",
     "output_type": "stream",
     "text": [
      "\n"
     ]
    },
    {
     "name": "stdout",
     "output_type": "stream",
     "text": [
      "<class 'tpot.tpot.TPOTClassifier'>"
     ]
    },
    {
     "name": "stdout",
     "output_type": "stream",
     "text": [
      "\n"
     ]
    },
    {
     "name": "stdout",
     "output_type": "stream",
     "text": [
      "0.981"
     ]
    },
    {
     "name": "stdout",
     "output_type": "stream",
     "text": [
      "\n"
     ]
    },
    {
     "name": "stdout",
     "output_type": "stream",
     "text": [
      "\n"
     ]
    },
    {
     "name": "stdout",
     "output_type": "stream",
     "text": [
      "30.43 minutes have elapsed. TPOT will close down.\n",
      "TPOT closed during evaluation in one generation.\n",
      "WARNING: TPOT may not provide a good pipeline if TPOT is stopped/interrupted in a early generation."
     ]
    },
    {
     "name": "stdout",
     "output_type": "stream",
     "text": [
      "\n"
     ]
    },
    {
     "name": "stdout",
     "output_type": "stream",
     "text": [
      "\n"
     ]
    },
    {
     "name": "stdout",
     "output_type": "stream",
     "text": [
      "\n",
      "TPOT closed prematurely. Will use the current best pipeline."
     ]
    },
    {
     "name": "stdout",
     "output_type": "stream",
     "text": [
      "\n"
     ]
    },
    {
     "name": "stdout",
     "output_type": "stream",
     "text": [
      "Best pipeline:"
     ]
    },
    {
     "name": "stdout",
     "output_type": "stream",
     "text": [
      " "
     ]
    },
    {
     "name": "stdout",
     "output_type": "stream",
     "text": [
      "KNeighborsClassifier(ExtraTreesClassifier(ZeroCount(input_matrix), bootstrap=False, criterion=entropy, max_features=0.45, min_samples_leaf=9, min_samples_split=5, n_estimators=100), n_neighbors=4, p=2, weights=distance)"
     ]
    },
    {
     "name": "stdout",
     "output_type": "stream",
     "text": [
      "\n"
     ]
    },
    {
     "name": "stdout",
     "output_type": "stream",
     "text": [
      "<class 'tpot.tpot.TPOTClassifier'>"
     ]
    },
    {
     "name": "stdout",
     "output_type": "stream",
     "text": [
      "\n"
     ]
    },
    {
     "name": "stdout",
     "output_type": "stream",
     "text": [
      "0.981"
     ]
    },
    {
     "name": "stdout",
     "output_type": "stream",
     "text": [
      "\n"
     ]
    },
    {
     "name": "stdout",
     "output_type": "stream",
     "text": [
      "Checking whether there is an H2O instance running at http://localhost:54321 "
     ]
    },
    {
     "name": "stdout",
     "output_type": "stream",
     "text": [
      "."
     ]
    },
    {
     "name": "stdout",
     "output_type": "stream",
     "text": [
      "."
     ]
    },
    {
     "name": "stdout",
     "output_type": "stream",
     "text": [
      "."
     ]
    },
    {
     "name": "stdout",
     "output_type": "stream",
     "text": [
      "."
     ]
    },
    {
     "name": "stdout",
     "output_type": "stream",
     "text": [
      "."
     ]
    },
    {
     "name": "stdout",
     "output_type": "stream",
     "text": [
      " not found."
     ]
    },
    {
     "name": "stdout",
     "output_type": "stream",
     "text": [
      "\n"
     ]
    },
    {
     "name": "stdout",
     "output_type": "stream",
     "text": [
      "Attempting to start a local H2O server..."
     ]
    },
    {
     "name": "stdout",
     "output_type": "stream",
     "text": [
      "\n"
     ]
    },
    {
     "name": "stdout",
     "output_type": "stream",
     "text": [
      "  Java Version: openjdk version \"11.0.2\" 2019-01-15; OpenJDK Runtime Environment 18.9 (build 11.0.2+9); OpenJDK 64-Bit Server VM 18.9 (build 11.0.2+9, mixed mode)"
     ]
    },
    {
     "name": "stdout",
     "output_type": "stream",
     "text": [
      "\n"
     ]
    },
    {
     "name": "stdout",
     "output_type": "stream",
     "text": [
      "  Starting server from /wrk/users/thalvari/dpEmu-AutoML/venv/lib/python3.6/site-packages/h2o/backend/bin/h2o.jar"
     ]
    },
    {
     "name": "stdout",
     "output_type": "stream",
     "text": [
      "\n"
     ]
    },
    {
     "name": "stdout",
     "output_type": "stream",
     "text": [
      "  Ice root: /wrk/users/thalvari/tmpkv8ox1tl"
     ]
    },
    {
     "name": "stdout",
     "output_type": "stream",
     "text": [
      "\n"
     ]
    },
    {
     "name": "stdout",
     "output_type": "stream",
     "text": [
      "  JVM stdout: /wrk/users/thalvari/tmpkv8ox1tl/h2o_thalvari_started_from_python.out"
     ]
    },
    {
     "name": "stdout",
     "output_type": "stream",
     "text": [
      "\n"
     ]
    },
    {
     "name": "stdout",
     "output_type": "stream",
     "text": [
      "  JVM stderr: /wrk/users/thalvari/tmpkv8ox1tl/h2o_thalvari_started_from_python.err"
     ]
    },
    {
     "name": "stdout",
     "output_type": "stream",
     "text": [
      "\n"
     ]
    },
    {
     "name": "stdout",
     "output_type": "stream",
     "text": [
      "  Server is running at http://127.0.0.1:54321"
     ]
    },
    {
     "name": "stdout",
     "output_type": "stream",
     "text": [
      "\n"
     ]
    },
    {
     "name": "stdout",
     "output_type": "stream",
     "text": [
      "Connecting to H2O server at http://127.0.0.1:54321 .."
     ]
    },
    {
     "name": "stdout",
     "output_type": "stream",
     "text": [
      "."
     ]
    },
    {
     "name": "stdout",
     "output_type": "stream",
     "text": [
      " successful."
     ]
    },
    {
     "name": "stdout",
     "output_type": "stream",
     "text": [
      "\n"
     ]
    },
    {
     "data": {
      "text/html": [
       "<div style=\"overflow:auto\"><table style=\"width:50%\"><tr><td>H2O cluster uptime:</td>\n",
       "<td>01 secs</td></tr>\n",
       "<tr><td>H2O cluster timezone:</td>\n",
       "<td>Europe/Helsinki</td></tr>\n",
       "<tr><td>H2O data parsing timezone:</td>\n",
       "<td>UTC</td></tr>\n",
       "<tr><td>H2O cluster version:</td>\n",
       "<td>3.26.0.10</td></tr>\n",
       "<tr><td>H2O cluster version age:</td>\n",
       "<td>11 days </td></tr>\n",
       "<tr><td>H2O cluster name:</td>\n",
       "<td>#729092787</td></tr>\n",
       "<tr><td>H2O cluster total nodes:</td>\n",
       "<td>1</td></tr>\n",
       "<tr><td>H2O cluster free memory:</td>\n",
       "<td>29.97 Gb</td></tr>\n",
       "<tr><td>H2O cluster total cores:</td>\n",
       "<td>40</td></tr>\n",
       "<tr><td>H2O cluster allowed cores:</td>\n",
       "<td>20</td></tr>\n",
       "<tr><td>H2O cluster status:</td>\n",
       "<td>accepting new members, healthy</td></tr>\n",
       "<tr><td>H2O connection url:</td>\n",
       "<td>http://127.0.0.1:54321</td></tr>\n",
       "<tr><td>H2O connection proxy:</td>\n",
       "<td>{'http': None, 'https': None}</td></tr>\n",
       "<tr><td>H2O internal security:</td>\n",
       "<td>False</td></tr>\n",
       "<tr><td>H2O API Extensions:</td>\n",
       "<td>Amazon S3, XGBoost, Algos, AutoML, Core V3, TargetEncoder, Core V4</td></tr>\n",
       "<tr><td>Python version:</td>\n",
       "<td>3.6.6 final</td></tr></table></div>"
      ],
      "text/plain": [
       "--------------------------  ------------------------------------------------------------------\n",
       "H2O cluster uptime:         01 secs\n",
       "H2O cluster timezone:       Europe/Helsinki\n",
       "H2O data parsing timezone:  UTC\n",
       "H2O cluster version:        3.26.0.10\n",
       "H2O cluster version age:    11 days\n",
       "H2O cluster name:           #729092787\n",
       "H2O cluster total nodes:    1\n",
       "H2O cluster free memory:    29.97 Gb\n",
       "H2O cluster total cores:    40\n",
       "H2O cluster allowed cores:  20\n",
       "H2O cluster status:         accepting new members, healthy\n",
       "H2O connection url:         http://127.0.0.1:54321\n",
       "H2O connection proxy:       {'http': None, 'https': None}\n",
       "H2O internal security:      False\n",
       "H2O API Extensions:         Amazon S3, XGBoost, Algos, AutoML, Core V3, TargetEncoder, Core V4\n",
       "Python version:             3.6.6 final\n",
       "--------------------------  ------------------------------------------------------------------"
      ]
     },
     "metadata": {},
     "output_type": "display_data"
    },
    {
     "name": "stdout",
     "output_type": "stream",
     "text": [
      "H2O session _sid_a780 closed."
     ]
    },
    {
     "name": "stdout",
     "output_type": "stream",
     "text": [
      "\n"
     ]
    },
    {
     "name": "stdout",
     "output_type": "stream",
     "text": [
      "<class 'h2o.automl.autoh2o.H2OAutoML'>"
     ]
    },
    {
     "name": "stdout",
     "output_type": "stream",
     "text": [
      "\n"
     ]
    },
    {
     "name": "stdout",
     "output_type": "stream",
     "text": [
      "0.984"
     ]
    },
    {
     "name": "stdout",
     "output_type": "stream",
     "text": [
      "\n"
     ]
    },
    {
     "name": "stdout",
     "output_type": "stream",
     "text": [
      "Checking whether there is an H2O instance running at http://localhost:54321 "
     ]
    },
    {
     "name": "stdout",
     "output_type": "stream",
     "text": [
      "."
     ]
    },
    {
     "name": "stdout",
     "output_type": "stream",
     "text": [
      "."
     ]
    },
    {
     "name": "stdout",
     "output_type": "stream",
     "text": [
      "."
     ]
    },
    {
     "name": "stdout",
     "output_type": "stream",
     "text": [
      "."
     ]
    },
    {
     "name": "stdout",
     "output_type": "stream",
     "text": [
      "."
     ]
    },
    {
     "name": "stdout",
     "output_type": "stream",
     "text": [
      " not found."
     ]
    },
    {
     "name": "stdout",
     "output_type": "stream",
     "text": [
      "\n"
     ]
    },
    {
     "name": "stdout",
     "output_type": "stream",
     "text": [
      "Attempting to start a local H2O server..."
     ]
    },
    {
     "name": "stdout",
     "output_type": "stream",
     "text": [
      "\n"
     ]
    },
    {
     "name": "stdout",
     "output_type": "stream",
     "text": [
      "  Java Version: openjdk version \"11.0.2\" 2019-01-15; OpenJDK Runtime Environment 18.9 (build 11.0.2+9); OpenJDK 64-Bit Server VM 18.9 (build 11.0.2+9, mixed mode)"
     ]
    },
    {
     "name": "stdout",
     "output_type": "stream",
     "text": [
      "\n"
     ]
    },
    {
     "name": "stdout",
     "output_type": "stream",
     "text": [
      "  Starting server from /wrk/users/thalvari/dpEmu-AutoML/venv/lib/python3.6/site-packages/h2o/backend/bin/h2o.jar"
     ]
    },
    {
     "name": "stdout",
     "output_type": "stream",
     "text": [
      "\n"
     ]
    },
    {
     "name": "stdout",
     "output_type": "stream",
     "text": [
      "  Ice root: /wrk/users/thalvari/tmpb2bmaus5"
     ]
    },
    {
     "name": "stdout",
     "output_type": "stream",
     "text": [
      "\n"
     ]
    },
    {
     "name": "stdout",
     "output_type": "stream",
     "text": [
      "  JVM stdout: /wrk/users/thalvari/tmpb2bmaus5/h2o_thalvari_started_from_python.out"
     ]
    },
    {
     "name": "stdout",
     "output_type": "stream",
     "text": [
      "\n"
     ]
    },
    {
     "name": "stdout",
     "output_type": "stream",
     "text": [
      "  JVM stderr: /wrk/users/thalvari/tmpb2bmaus5/h2o_thalvari_started_from_python.err"
     ]
    },
    {
     "name": "stdout",
     "output_type": "stream",
     "text": [
      "\n"
     ]
    },
    {
     "name": "stdout",
     "output_type": "stream",
     "text": [
      "  Server is running at http://127.0.0.1:54321"
     ]
    },
    {
     "name": "stdout",
     "output_type": "stream",
     "text": [
      "\n"
     ]
    },
    {
     "name": "stdout",
     "output_type": "stream",
     "text": [
      "Connecting to H2O server at http://127.0.0.1:54321 .."
     ]
    },
    {
     "name": "stdout",
     "output_type": "stream",
     "text": [
      "."
     ]
    },
    {
     "name": "stdout",
     "output_type": "stream",
     "text": [
      " successful."
     ]
    },
    {
     "name": "stdout",
     "output_type": "stream",
     "text": [
      "\n"
     ]
    },
    {
     "data": {
      "text/html": [
       "<div style=\"overflow:auto\"><table style=\"width:50%\"><tr><td>H2O cluster uptime:</td>\n",
       "<td>01 secs</td></tr>\n",
       "<tr><td>H2O cluster timezone:</td>\n",
       "<td>Europe/Helsinki</td></tr>\n",
       "<tr><td>H2O data parsing timezone:</td>\n",
       "<td>UTC</td></tr>\n",
       "<tr><td>H2O cluster version:</td>\n",
       "<td>3.26.0.10</td></tr>\n",
       "<tr><td>H2O cluster version age:</td>\n",
       "<td>11 days </td></tr>\n",
       "<tr><td>H2O cluster name:</td>\n",
       "<td>#1052907033</td></tr>\n",
       "<tr><td>H2O cluster total nodes:</td>\n",
       "<td>1</td></tr>\n",
       "<tr><td>H2O cluster free memory:</td>\n",
       "<td>29.97 Gb</td></tr>\n",
       "<tr><td>H2O cluster total cores:</td>\n",
       "<td>40</td></tr>\n",
       "<tr><td>H2O cluster allowed cores:</td>\n",
       "<td>20</td></tr>\n",
       "<tr><td>H2O cluster status:</td>\n",
       "<td>accepting new members, healthy</td></tr>\n",
       "<tr><td>H2O connection url:</td>\n",
       "<td>http://127.0.0.1:54321</td></tr>\n",
       "<tr><td>H2O connection proxy:</td>\n",
       "<td>{'http': None, 'https': None}</td></tr>\n",
       "<tr><td>H2O internal security:</td>\n",
       "<td>False</td></tr>\n",
       "<tr><td>H2O API Extensions:</td>\n",
       "<td>Amazon S3, XGBoost, Algos, AutoML, Core V3, TargetEncoder, Core V4</td></tr>\n",
       "<tr><td>Python version:</td>\n",
       "<td>3.6.6 final</td></tr></table></div>"
      ],
      "text/plain": [
       "--------------------------  ------------------------------------------------------------------\n",
       "H2O cluster uptime:         01 secs\n",
       "H2O cluster timezone:       Europe/Helsinki\n",
       "H2O data parsing timezone:  UTC\n",
       "H2O cluster version:        3.26.0.10\n",
       "H2O cluster version age:    11 days\n",
       "H2O cluster name:           #1052907033\n",
       "H2O cluster total nodes:    1\n",
       "H2O cluster free memory:    29.97 Gb\n",
       "H2O cluster total cores:    40\n",
       "H2O cluster allowed cores:  20\n",
       "H2O cluster status:         accepting new members, healthy\n",
       "H2O connection url:         http://127.0.0.1:54321\n",
       "H2O connection proxy:       {'http': None, 'https': None}\n",
       "H2O internal security:      False\n",
       "H2O API Extensions:         Amazon S3, XGBoost, Algos, AutoML, Core V3, TargetEncoder, Core V4\n",
       "Python version:             3.6.6 final\n",
       "--------------------------  ------------------------------------------------------------------"
      ]
     },
     "metadata": {},
     "output_type": "display_data"
    },
    {
     "name": "stdout",
     "output_type": "stream",
     "text": [
      "H2O session _sid_80d6 closed."
     ]
    },
    {
     "name": "stdout",
     "output_type": "stream",
     "text": [
      "\n"
     ]
    },
    {
     "name": "stdout",
     "output_type": "stream",
     "text": [
      "<class 'h2o.automl.autoh2o.H2OAutoML'>"
     ]
    },
    {
     "name": "stdout",
     "output_type": "stream",
     "text": [
      "\n"
     ]
    },
    {
     "name": "stdout",
     "output_type": "stream",
     "text": [
      "0.977"
     ]
    },
    {
     "name": "stdout",
     "output_type": "stream",
     "text": [
      "\n"
     ]
    },
    {
     "name": "stderr",
     "output_type": "stream",
     "text": [
      "\r",
      " 17%|█▋        | 1/6 [3:03:54<15:19:31, 11034.22s/it]"
     ]
    },
    {
     "name": "stdout",
     "output_type": "stream",
     "text": [
      "<class 'autokeras.image.image_supervised.ImageClassifier'>"
     ]
    },
    {
     "name": "stdout",
     "output_type": "stream",
     "text": [
      "\n"
     ]
    },
    {
     "name": "stdout",
     "output_type": "stream",
     "text": [
      "0.891"
     ]
    },
    {
     "name": "stdout",
     "output_type": "stream",
     "text": [
      "\n"
     ]
    },
    {
     "name": "stderr",
     "output_type": "stream",
     "text": [
      "WARNING:root:TimeoutError occurred at train() : "
     ]
    },
    {
     "name": "stderr",
     "output_type": "stream",
     "text": [
      "\n"
     ]
    },
    {
     "name": "stdout",
     "output_type": "stream",
     "text": [
      "<class 'autokeras.image.image_supervised.ImageClassifier'>"
     ]
    },
    {
     "name": "stdout",
     "output_type": "stream",
     "text": [
      "\n"
     ]
    },
    {
     "name": "stdout",
     "output_type": "stream",
     "text": [
      "0.942"
     ]
    },
    {
     "name": "stdout",
     "output_type": "stream",
     "text": [
      "\n"
     ]
    },
    {
     "name": "stdout",
     "output_type": "stream",
     "text": [
      "\n"
     ]
    },
    {
     "name": "stdout",
     "output_type": "stream",
     "text": [
      "31.33 minutes have elapsed. TPOT will close down.\n",
      "TPOT closed during evaluation in one generation.\n",
      "WARNING: TPOT may not provide a good pipeline if TPOT is stopped/interrupted in a early generation."
     ]
    },
    {
     "name": "stdout",
     "output_type": "stream",
     "text": [
      "\n"
     ]
    },
    {
     "name": "stdout",
     "output_type": "stream",
     "text": [
      "\n"
     ]
    },
    {
     "name": "stdout",
     "output_type": "stream",
     "text": [
      "\n",
      "TPOT closed prematurely. Will use the current best pipeline."
     ]
    },
    {
     "name": "stdout",
     "output_type": "stream",
     "text": [
      "\n"
     ]
    },
    {
     "name": "stdout",
     "output_type": "stream",
     "text": [
      "Best pipeline:"
     ]
    },
    {
     "name": "stdout",
     "output_type": "stream",
     "text": [
      " "
     ]
    },
    {
     "name": "stdout",
     "output_type": "stream",
     "text": [
      "ExtraTreesClassifier(KNeighborsClassifier(ExtraTreesClassifier(input_matrix, bootstrap=False, criterion=gini, max_features=1.0, min_samples_leaf=5, min_samples_split=9, n_estimators=100), n_neighbors=12, p=2, weights=distance), bootstrap=False, criterion=gini, max_features=0.1, min_samples_leaf=15, min_samples_split=15, n_estimators=100)"
     ]
    },
    {
     "name": "stdout",
     "output_type": "stream",
     "text": [
      "\n"
     ]
    },
    {
     "name": "stdout",
     "output_type": "stream",
     "text": [
      "<class 'tpot.tpot.TPOTClassifier'>"
     ]
    },
    {
     "name": "stdout",
     "output_type": "stream",
     "text": [
      "\n"
     ]
    },
    {
     "name": "stdout",
     "output_type": "stream",
     "text": [
      "0.953"
     ]
    },
    {
     "name": "stdout",
     "output_type": "stream",
     "text": [
      "\n"
     ]
    },
    {
     "name": "stdout",
     "output_type": "stream",
     "text": [
      "\n"
     ]
    },
    {
     "name": "stdout",
     "output_type": "stream",
     "text": [
      "30.80 minutes have elapsed. TPOT will close down.\n",
      "TPOT closed during evaluation in one generation.\n",
      "WARNING: TPOT may not provide a good pipeline if TPOT is stopped/interrupted in a early generation."
     ]
    },
    {
     "name": "stdout",
     "output_type": "stream",
     "text": [
      "\n"
     ]
    },
    {
     "name": "stdout",
     "output_type": "stream",
     "text": [
      "\n"
     ]
    },
    {
     "name": "stdout",
     "output_type": "stream",
     "text": [
      "\n",
      "TPOT closed prematurely. Will use the current best pipeline."
     ]
    },
    {
     "name": "stdout",
     "output_type": "stream",
     "text": [
      "\n"
     ]
    },
    {
     "name": "stdout",
     "output_type": "stream",
     "text": [
      "Best pipeline:"
     ]
    },
    {
     "name": "stdout",
     "output_type": "stream",
     "text": [
      " "
     ]
    },
    {
     "name": "stdout",
     "output_type": "stream",
     "text": [
      "KNeighborsClassifier(ExtraTreesClassifier(ZeroCount(input_matrix), bootstrap=False, criterion=entropy, max_features=0.45, min_samples_leaf=9, min_samples_split=5, n_estimators=100), n_neighbors=4, p=2, weights=distance)"
     ]
    },
    {
     "name": "stdout",
     "output_type": "stream",
     "text": [
      "\n"
     ]
    },
    {
     "name": "stdout",
     "output_type": "stream",
     "text": [
      "<class 'tpot.tpot.TPOTClassifier'>"
     ]
    },
    {
     "name": "stdout",
     "output_type": "stream",
     "text": [
      "\n"
     ]
    },
    {
     "name": "stdout",
     "output_type": "stream",
     "text": [
      "0.957"
     ]
    },
    {
     "name": "stdout",
     "output_type": "stream",
     "text": [
      "\n"
     ]
    },
    {
     "name": "stdout",
     "output_type": "stream",
     "text": [
      "Checking whether there is an H2O instance running at http://localhost:54321 "
     ]
    },
    {
     "name": "stdout",
     "output_type": "stream",
     "text": [
      "."
     ]
    },
    {
     "name": "stdout",
     "output_type": "stream",
     "text": [
      "."
     ]
    },
    {
     "name": "stdout",
     "output_type": "stream",
     "text": [
      "."
     ]
    },
    {
     "name": "stdout",
     "output_type": "stream",
     "text": [
      "."
     ]
    },
    {
     "name": "stdout",
     "output_type": "stream",
     "text": [
      "."
     ]
    },
    {
     "name": "stdout",
     "output_type": "stream",
     "text": [
      " not found."
     ]
    },
    {
     "name": "stdout",
     "output_type": "stream",
     "text": [
      "\n"
     ]
    },
    {
     "name": "stdout",
     "output_type": "stream",
     "text": [
      "Attempting to start a local H2O server..."
     ]
    },
    {
     "name": "stdout",
     "output_type": "stream",
     "text": [
      "\n"
     ]
    },
    {
     "name": "stdout",
     "output_type": "stream",
     "text": [
      "  Java Version: openjdk version \"11.0.2\" 2019-01-15; OpenJDK Runtime Environment 18.9 (build 11.0.2+9); OpenJDK 64-Bit Server VM 18.9 (build 11.0.2+9, mixed mode)"
     ]
    },
    {
     "name": "stdout",
     "output_type": "stream",
     "text": [
      "\n"
     ]
    },
    {
     "name": "stdout",
     "output_type": "stream",
     "text": [
      "  Starting server from /wrk/users/thalvari/dpEmu-AutoML/venv/lib/python3.6/site-packages/h2o/backend/bin/h2o.jar"
     ]
    },
    {
     "name": "stdout",
     "output_type": "stream",
     "text": [
      "\n"
     ]
    },
    {
     "name": "stdout",
     "output_type": "stream",
     "text": [
      "  Ice root: /wrk/users/thalvari/tmpmdsc6hkp"
     ]
    },
    {
     "name": "stdout",
     "output_type": "stream",
     "text": [
      "\n"
     ]
    },
    {
     "name": "stdout",
     "output_type": "stream",
     "text": [
      "  JVM stdout: /wrk/users/thalvari/tmpmdsc6hkp/h2o_thalvari_started_from_python.out"
     ]
    },
    {
     "name": "stdout",
     "output_type": "stream",
     "text": [
      "\n"
     ]
    },
    {
     "name": "stdout",
     "output_type": "stream",
     "text": [
      "  JVM stderr: /wrk/users/thalvari/tmpmdsc6hkp/h2o_thalvari_started_from_python.err"
     ]
    },
    {
     "name": "stdout",
     "output_type": "stream",
     "text": [
      "\n"
     ]
    },
    {
     "name": "stdout",
     "output_type": "stream",
     "text": [
      "  Server is running at http://127.0.0.1:54321"
     ]
    },
    {
     "name": "stdout",
     "output_type": "stream",
     "text": [
      "\n"
     ]
    },
    {
     "name": "stdout",
     "output_type": "stream",
     "text": [
      "Connecting to H2O server at http://127.0.0.1:54321 .."
     ]
    },
    {
     "name": "stdout",
     "output_type": "stream",
     "text": [
      "."
     ]
    },
    {
     "name": "stdout",
     "output_type": "stream",
     "text": [
      " successful."
     ]
    },
    {
     "name": "stdout",
     "output_type": "stream",
     "text": [
      "\n"
     ]
    },
    {
     "data": {
      "text/html": [
       "<div style=\"overflow:auto\"><table style=\"width:50%\"><tr><td>H2O cluster uptime:</td>\n",
       "<td>01 secs</td></tr>\n",
       "<tr><td>H2O cluster timezone:</td>\n",
       "<td>Europe/Helsinki</td></tr>\n",
       "<tr><td>H2O data parsing timezone:</td>\n",
       "<td>UTC</td></tr>\n",
       "<tr><td>H2O cluster version:</td>\n",
       "<td>3.26.0.10</td></tr>\n",
       "<tr><td>H2O cluster version age:</td>\n",
       "<td>11 days </td></tr>\n",
       "<tr><td>H2O cluster name:</td>\n",
       "<td>#254210436</td></tr>\n",
       "<tr><td>H2O cluster total nodes:</td>\n",
       "<td>1</td></tr>\n",
       "<tr><td>H2O cluster free memory:</td>\n",
       "<td>29.97 Gb</td></tr>\n",
       "<tr><td>H2O cluster total cores:</td>\n",
       "<td>40</td></tr>\n",
       "<tr><td>H2O cluster allowed cores:</td>\n",
       "<td>20</td></tr>\n",
       "<tr><td>H2O cluster status:</td>\n",
       "<td>accepting new members, healthy</td></tr>\n",
       "<tr><td>H2O connection url:</td>\n",
       "<td>http://127.0.0.1:54321</td></tr>\n",
       "<tr><td>H2O connection proxy:</td>\n",
       "<td>{'http': None, 'https': None}</td></tr>\n",
       "<tr><td>H2O internal security:</td>\n",
       "<td>False</td></tr>\n",
       "<tr><td>H2O API Extensions:</td>\n",
       "<td>Amazon S3, XGBoost, Algos, AutoML, Core V3, TargetEncoder, Core V4</td></tr>\n",
       "<tr><td>Python version:</td>\n",
       "<td>3.6.6 final</td></tr></table></div>"
      ],
      "text/plain": [
       "--------------------------  ------------------------------------------------------------------\n",
       "H2O cluster uptime:         01 secs\n",
       "H2O cluster timezone:       Europe/Helsinki\n",
       "H2O data parsing timezone:  UTC\n",
       "H2O cluster version:        3.26.0.10\n",
       "H2O cluster version age:    11 days\n",
       "H2O cluster name:           #254210436\n",
       "H2O cluster total nodes:    1\n",
       "H2O cluster free memory:    29.97 Gb\n",
       "H2O cluster total cores:    40\n",
       "H2O cluster allowed cores:  20\n",
       "H2O cluster status:         accepting new members, healthy\n",
       "H2O connection url:         http://127.0.0.1:54321\n",
       "H2O connection proxy:       {'http': None, 'https': None}\n",
       "H2O internal security:      False\n",
       "H2O API Extensions:         Amazon S3, XGBoost, Algos, AutoML, Core V3, TargetEncoder, Core V4\n",
       "Python version:             3.6.6 final\n",
       "--------------------------  ------------------------------------------------------------------"
      ]
     },
     "metadata": {},
     "output_type": "display_data"
    },
    {
     "name": "stdout",
     "output_type": "stream",
     "text": [
      "H2O session _sid_b960 closed."
     ]
    },
    {
     "name": "stdout",
     "output_type": "stream",
     "text": [
      "\n"
     ]
    },
    {
     "name": "stdout",
     "output_type": "stream",
     "text": [
      "<class 'h2o.automl.autoh2o.H2OAutoML'>"
     ]
    },
    {
     "name": "stdout",
     "output_type": "stream",
     "text": [
      "\n"
     ]
    },
    {
     "name": "stdout",
     "output_type": "stream",
     "text": [
      "0.934"
     ]
    },
    {
     "name": "stdout",
     "output_type": "stream",
     "text": [
      "\n"
     ]
    },
    {
     "name": "stdout",
     "output_type": "stream",
     "text": [
      "Checking whether there is an H2O instance running at http://localhost:54321 "
     ]
    },
    {
     "name": "stdout",
     "output_type": "stream",
     "text": [
      "."
     ]
    },
    {
     "name": "stdout",
     "output_type": "stream",
     "text": [
      "."
     ]
    },
    {
     "name": "stdout",
     "output_type": "stream",
     "text": [
      "."
     ]
    },
    {
     "name": "stdout",
     "output_type": "stream",
     "text": [
      "."
     ]
    },
    {
     "name": "stdout",
     "output_type": "stream",
     "text": [
      "."
     ]
    },
    {
     "name": "stdout",
     "output_type": "stream",
     "text": [
      " not found."
     ]
    },
    {
     "name": "stdout",
     "output_type": "stream",
     "text": [
      "\n"
     ]
    },
    {
     "name": "stdout",
     "output_type": "stream",
     "text": [
      "Attempting to start a local H2O server..."
     ]
    },
    {
     "name": "stdout",
     "output_type": "stream",
     "text": [
      "\n"
     ]
    },
    {
     "name": "stdout",
     "output_type": "stream",
     "text": [
      "  Java Version: openjdk version \"11.0.2\" 2019-01-15; OpenJDK Runtime Environment 18.9 (build 11.0.2+9); OpenJDK 64-Bit Server VM 18.9 (build 11.0.2+9, mixed mode)"
     ]
    },
    {
     "name": "stdout",
     "output_type": "stream",
     "text": [
      "\n"
     ]
    },
    {
     "name": "stdout",
     "output_type": "stream",
     "text": [
      "  Starting server from /wrk/users/thalvari/dpEmu-AutoML/venv/lib/python3.6/site-packages/h2o/backend/bin/h2o.jar"
     ]
    },
    {
     "name": "stdout",
     "output_type": "stream",
     "text": [
      "\n"
     ]
    },
    {
     "name": "stdout",
     "output_type": "stream",
     "text": [
      "  Ice root: /wrk/users/thalvari/tmp7zgu3hnt"
     ]
    },
    {
     "name": "stdout",
     "output_type": "stream",
     "text": [
      "\n"
     ]
    },
    {
     "name": "stdout",
     "output_type": "stream",
     "text": [
      "  JVM stdout: /wrk/users/thalvari/tmp7zgu3hnt/h2o_thalvari_started_from_python.out"
     ]
    },
    {
     "name": "stdout",
     "output_type": "stream",
     "text": [
      "\n"
     ]
    },
    {
     "name": "stdout",
     "output_type": "stream",
     "text": [
      "  JVM stderr: /wrk/users/thalvari/tmp7zgu3hnt/h2o_thalvari_started_from_python.err"
     ]
    },
    {
     "name": "stdout",
     "output_type": "stream",
     "text": [
      "\n"
     ]
    },
    {
     "name": "stdout",
     "output_type": "stream",
     "text": [
      "  Server is running at http://127.0.0.1:54321"
     ]
    },
    {
     "name": "stdout",
     "output_type": "stream",
     "text": [
      "\n"
     ]
    },
    {
     "name": "stdout",
     "output_type": "stream",
     "text": [
      "Connecting to H2O server at http://127.0.0.1:54321 .."
     ]
    },
    {
     "name": "stdout",
     "output_type": "stream",
     "text": [
      "."
     ]
    },
    {
     "name": "stdout",
     "output_type": "stream",
     "text": [
      " successful."
     ]
    },
    {
     "name": "stdout",
     "output_type": "stream",
     "text": [
      "\n"
     ]
    },
    {
     "data": {
      "text/html": [
       "<div style=\"overflow:auto\"><table style=\"width:50%\"><tr><td>H2O cluster uptime:</td>\n",
       "<td>01 secs</td></tr>\n",
       "<tr><td>H2O cluster timezone:</td>\n",
       "<td>Europe/Helsinki</td></tr>\n",
       "<tr><td>H2O data parsing timezone:</td>\n",
       "<td>UTC</td></tr>\n",
       "<tr><td>H2O cluster version:</td>\n",
       "<td>3.26.0.10</td></tr>\n",
       "<tr><td>H2O cluster version age:</td>\n",
       "<td>12 days </td></tr>\n",
       "<tr><td>H2O cluster name:</td>\n",
       "<td>#363917470</td></tr>\n",
       "<tr><td>H2O cluster total nodes:</td>\n",
       "<td>1</td></tr>\n",
       "<tr><td>H2O cluster free memory:</td>\n",
       "<td>29.97 Gb</td></tr>\n",
       "<tr><td>H2O cluster total cores:</td>\n",
       "<td>40</td></tr>\n",
       "<tr><td>H2O cluster allowed cores:</td>\n",
       "<td>20</td></tr>\n",
       "<tr><td>H2O cluster status:</td>\n",
       "<td>accepting new members, healthy</td></tr>\n",
       "<tr><td>H2O connection url:</td>\n",
       "<td>http://127.0.0.1:54321</td></tr>\n",
       "<tr><td>H2O connection proxy:</td>\n",
       "<td>{'http': None, 'https': None}</td></tr>\n",
       "<tr><td>H2O internal security:</td>\n",
       "<td>False</td></tr>\n",
       "<tr><td>H2O API Extensions:</td>\n",
       "<td>Amazon S3, XGBoost, Algos, AutoML, Core V3, TargetEncoder, Core V4</td></tr>\n",
       "<tr><td>Python version:</td>\n",
       "<td>3.6.6 final</td></tr></table></div>"
      ],
      "text/plain": [
       "--------------------------  ------------------------------------------------------------------\n",
       "H2O cluster uptime:         01 secs\n",
       "H2O cluster timezone:       Europe/Helsinki\n",
       "H2O data parsing timezone:  UTC\n",
       "H2O cluster version:        3.26.0.10\n",
       "H2O cluster version age:    12 days\n",
       "H2O cluster name:           #363917470\n",
       "H2O cluster total nodes:    1\n",
       "H2O cluster free memory:    29.97 Gb\n",
       "H2O cluster total cores:    40\n",
       "H2O cluster allowed cores:  20\n",
       "H2O cluster status:         accepting new members, healthy\n",
       "H2O connection url:         http://127.0.0.1:54321\n",
       "H2O connection proxy:       {'http': None, 'https': None}\n",
       "H2O internal security:      False\n",
       "H2O API Extensions:         Amazon S3, XGBoost, Algos, AutoML, Core V3, TargetEncoder, Core V4\n",
       "Python version:             3.6.6 final\n",
       "--------------------------  ------------------------------------------------------------------"
      ]
     },
     "metadata": {},
     "output_type": "display_data"
    },
    {
     "name": "stdout",
     "output_type": "stream",
     "text": [
      "H2O session _sid_91d0 closed."
     ]
    },
    {
     "name": "stdout",
     "output_type": "stream",
     "text": [
      "\n"
     ]
    },
    {
     "name": "stdout",
     "output_type": "stream",
     "text": [
      "<class 'h2o.automl.autoh2o.H2OAutoML'>"
     ]
    },
    {
     "name": "stdout",
     "output_type": "stream",
     "text": [
      "\n"
     ]
    },
    {
     "name": "stdout",
     "output_type": "stream",
     "text": [
      "0.907"
     ]
    },
    {
     "name": "stdout",
     "output_type": "stream",
     "text": [
      "\n"
     ]
    },
    {
     "name": "stderr",
     "output_type": "stream",
     "text": [
      "\r",
      " 33%|███▎      | 2/6 [6:08:45<12:16:45, 11051.44s/it]"
     ]
    },
    {
     "name": "stdout",
     "output_type": "stream",
     "text": [
      "<class 'autokeras.image.image_supervised.ImageClassifier'>"
     ]
    },
    {
     "name": "stdout",
     "output_type": "stream",
     "text": [
      "\n"
     ]
    },
    {
     "name": "stdout",
     "output_type": "stream",
     "text": [
      "0.728"
     ]
    },
    {
     "name": "stdout",
     "output_type": "stream",
     "text": [
      "\n"
     ]
    },
    {
     "name": "stdout",
     "output_type": "stream",
     "text": [
      "<class 'autokeras.image.image_supervised.ImageClassifier'>"
     ]
    },
    {
     "name": "stdout",
     "output_type": "stream",
     "text": [
      "\n"
     ]
    },
    {
     "name": "stdout",
     "output_type": "stream",
     "text": [
      "0.728"
     ]
    },
    {
     "name": "stdout",
     "output_type": "stream",
     "text": [
      "\n"
     ]
    },
    {
     "name": "stdout",
     "output_type": "stream",
     "text": [
      "\n"
     ]
    },
    {
     "name": "stdout",
     "output_type": "stream",
     "text": [
      "31.74 minutes have elapsed. TPOT will close down.\n",
      "TPOT closed during evaluation in one generation.\n",
      "WARNING: TPOT may not provide a good pipeline if TPOT is stopped/interrupted in a early generation."
     ]
    },
    {
     "name": "stdout",
     "output_type": "stream",
     "text": [
      "\n"
     ]
    },
    {
     "name": "stdout",
     "output_type": "stream",
     "text": [
      "\n"
     ]
    },
    {
     "name": "stdout",
     "output_type": "stream",
     "text": [
      "\n",
      "TPOT closed prematurely. Will use the current best pipeline."
     ]
    },
    {
     "name": "stdout",
     "output_type": "stream",
     "text": [
      "\n"
     ]
    },
    {
     "name": "stdout",
     "output_type": "stream",
     "text": [
      "Best pipeline:"
     ]
    },
    {
     "name": "stdout",
     "output_type": "stream",
     "text": [
      " "
     ]
    },
    {
     "name": "stdout",
     "output_type": "stream",
     "text": [
      "KNeighborsClassifier(SelectFwe(LinearSVC(GradientBoostingClassifier(input_matrix, learning_rate=0.5, max_depth=9, max_features=0.9000000000000001, min_samples_leaf=13, min_samples_split=4, n_estimators=100, subsample=0.4), C=0.01, dual=False, loss=squared_hinge, penalty=l2, tol=0.1), alpha=0.03), n_neighbors=41, p=2, weights=distance)"
     ]
    },
    {
     "name": "stdout",
     "output_type": "stream",
     "text": [
      "\n"
     ]
    },
    {
     "name": "stdout",
     "output_type": "stream",
     "text": [
      "<class 'tpot.tpot.TPOTClassifier'>"
     ]
    },
    {
     "name": "stdout",
     "output_type": "stream",
     "text": [
      "\n"
     ]
    },
    {
     "name": "stdout",
     "output_type": "stream",
     "text": [
      "0.833"
     ]
    },
    {
     "name": "stdout",
     "output_type": "stream",
     "text": [
      "\n"
     ]
    },
    {
     "name": "stdout",
     "output_type": "stream",
     "text": [
      "\n"
     ]
    },
    {
     "name": "stdout",
     "output_type": "stream",
     "text": [
      "31.33 minutes have elapsed. TPOT will close down.\n",
      "TPOT closed during evaluation in one generation.\n",
      "WARNING: TPOT may not provide a good pipeline if TPOT is stopped/interrupted in a early generation."
     ]
    },
    {
     "name": "stdout",
     "output_type": "stream",
     "text": [
      "\n"
     ]
    },
    {
     "name": "stdout",
     "output_type": "stream",
     "text": [
      "\n"
     ]
    },
    {
     "name": "stdout",
     "output_type": "stream",
     "text": [
      "\n",
      "TPOT closed prematurely. Will use the current best pipeline."
     ]
    },
    {
     "name": "stdout",
     "output_type": "stream",
     "text": [
      "\n"
     ]
    },
    {
     "name": "stdout",
     "output_type": "stream",
     "text": [
      "Best pipeline:"
     ]
    },
    {
     "name": "stdout",
     "output_type": "stream",
     "text": [
      " "
     ]
    },
    {
     "name": "stdout",
     "output_type": "stream",
     "text": [
      "KNeighborsClassifier(ExtraTreesClassifier(ZeroCount(input_matrix), bootstrap=False, criterion=entropy, max_features=0.45, min_samples_leaf=9, min_samples_split=5, n_estimators=100), n_neighbors=4, p=2, weights=distance)"
     ]
    },
    {
     "name": "stdout",
     "output_type": "stream",
     "text": [
      "\n"
     ]
    },
    {
     "name": "stdout",
     "output_type": "stream",
     "text": [
      "<class 'tpot.tpot.TPOTClassifier'>"
     ]
    },
    {
     "name": "stdout",
     "output_type": "stream",
     "text": [
      "\n"
     ]
    },
    {
     "name": "stdout",
     "output_type": "stream",
     "text": [
      "0.875"
     ]
    },
    {
     "name": "stdout",
     "output_type": "stream",
     "text": [
      "\n"
     ]
    },
    {
     "name": "stdout",
     "output_type": "stream",
     "text": [
      "Checking whether there is an H2O instance running at http://localhost:54321 "
     ]
    },
    {
     "name": "stdout",
     "output_type": "stream",
     "text": [
      "."
     ]
    },
    {
     "name": "stdout",
     "output_type": "stream",
     "text": [
      "."
     ]
    },
    {
     "name": "stdout",
     "output_type": "stream",
     "text": [
      "."
     ]
    },
    {
     "name": "stdout",
     "output_type": "stream",
     "text": [
      "."
     ]
    },
    {
     "name": "stdout",
     "output_type": "stream",
     "text": [
      "."
     ]
    },
    {
     "name": "stdout",
     "output_type": "stream",
     "text": [
      " not found."
     ]
    },
    {
     "name": "stdout",
     "output_type": "stream",
     "text": [
      "\n"
     ]
    },
    {
     "name": "stdout",
     "output_type": "stream",
     "text": [
      "Attempting to start a local H2O server..."
     ]
    },
    {
     "name": "stdout",
     "output_type": "stream",
     "text": [
      "\n"
     ]
    },
    {
     "name": "stdout",
     "output_type": "stream",
     "text": [
      "  Java Version: openjdk version \"11.0.2\" 2019-01-15; OpenJDK Runtime Environment 18.9 (build 11.0.2+9); OpenJDK 64-Bit Server VM 18.9 (build 11.0.2+9, mixed mode)"
     ]
    },
    {
     "name": "stdout",
     "output_type": "stream",
     "text": [
      "\n"
     ]
    },
    {
     "name": "stdout",
     "output_type": "stream",
     "text": [
      "  Starting server from /wrk/users/thalvari/dpEmu-AutoML/venv/lib/python3.6/site-packages/h2o/backend/bin/h2o.jar"
     ]
    },
    {
     "name": "stdout",
     "output_type": "stream",
     "text": [
      "\n"
     ]
    },
    {
     "name": "stdout",
     "output_type": "stream",
     "text": [
      "  Ice root: /wrk/users/thalvari/tmp0lx9u25c"
     ]
    },
    {
     "name": "stdout",
     "output_type": "stream",
     "text": [
      "\n"
     ]
    },
    {
     "name": "stdout",
     "output_type": "stream",
     "text": [
      "  JVM stdout: /wrk/users/thalvari/tmp0lx9u25c/h2o_thalvari_started_from_python.out"
     ]
    },
    {
     "name": "stdout",
     "output_type": "stream",
     "text": [
      "\n"
     ]
    },
    {
     "name": "stdout",
     "output_type": "stream",
     "text": [
      "  JVM stderr: /wrk/users/thalvari/tmp0lx9u25c/h2o_thalvari_started_from_python.err"
     ]
    },
    {
     "name": "stdout",
     "output_type": "stream",
     "text": [
      "\n"
     ]
    },
    {
     "name": "stdout",
     "output_type": "stream",
     "text": [
      "  Server is running at http://127.0.0.1:54321"
     ]
    },
    {
     "name": "stdout",
     "output_type": "stream",
     "text": [
      "\n"
     ]
    },
    {
     "name": "stdout",
     "output_type": "stream",
     "text": [
      "Connecting to H2O server at http://127.0.0.1:54321 .."
     ]
    },
    {
     "name": "stdout",
     "output_type": "stream",
     "text": [
      "."
     ]
    },
    {
     "name": "stdout",
     "output_type": "stream",
     "text": [
      " successful."
     ]
    },
    {
     "name": "stdout",
     "output_type": "stream",
     "text": [
      "\n"
     ]
    },
    {
     "data": {
      "text/html": [
       "<div style=\"overflow:auto\"><table style=\"width:50%\"><tr><td>H2O cluster uptime:</td>\n",
       "<td>01 secs</td></tr>\n",
       "<tr><td>H2O cluster timezone:</td>\n",
       "<td>Europe/Helsinki</td></tr>\n",
       "<tr><td>H2O data parsing timezone:</td>\n",
       "<td>UTC</td></tr>\n",
       "<tr><td>H2O cluster version:</td>\n",
       "<td>3.26.0.10</td></tr>\n",
       "<tr><td>H2O cluster version age:</td>\n",
       "<td>12 days </td></tr>\n",
       "<tr><td>H2O cluster name:</td>\n",
       "<td>#578082632</td></tr>\n",
       "<tr><td>H2O cluster total nodes:</td>\n",
       "<td>1</td></tr>\n",
       "<tr><td>H2O cluster free memory:</td>\n",
       "<td>29.97 Gb</td></tr>\n",
       "<tr><td>H2O cluster total cores:</td>\n",
       "<td>40</td></tr>\n",
       "<tr><td>H2O cluster allowed cores:</td>\n",
       "<td>20</td></tr>\n",
       "<tr><td>H2O cluster status:</td>\n",
       "<td>accepting new members, healthy</td></tr>\n",
       "<tr><td>H2O connection url:</td>\n",
       "<td>http://127.0.0.1:54321</td></tr>\n",
       "<tr><td>H2O connection proxy:</td>\n",
       "<td>{'http': None, 'https': None}</td></tr>\n",
       "<tr><td>H2O internal security:</td>\n",
       "<td>False</td></tr>\n",
       "<tr><td>H2O API Extensions:</td>\n",
       "<td>Amazon S3, XGBoost, Algos, AutoML, Core V3, TargetEncoder, Core V4</td></tr>\n",
       "<tr><td>Python version:</td>\n",
       "<td>3.6.6 final</td></tr></table></div>"
      ],
      "text/plain": [
       "--------------------------  ------------------------------------------------------------------\n",
       "H2O cluster uptime:         01 secs\n",
       "H2O cluster timezone:       Europe/Helsinki\n",
       "H2O data parsing timezone:  UTC\n",
       "H2O cluster version:        3.26.0.10\n",
       "H2O cluster version age:    12 days\n",
       "H2O cluster name:           #578082632\n",
       "H2O cluster total nodes:    1\n",
       "H2O cluster free memory:    29.97 Gb\n",
       "H2O cluster total cores:    40\n",
       "H2O cluster allowed cores:  20\n",
       "H2O cluster status:         accepting new members, healthy\n",
       "H2O connection url:         http://127.0.0.1:54321\n",
       "H2O connection proxy:       {'http': None, 'https': None}\n",
       "H2O internal security:      False\n",
       "H2O API Extensions:         Amazon S3, XGBoost, Algos, AutoML, Core V3, TargetEncoder, Core V4\n",
       "Python version:             3.6.6 final\n",
       "--------------------------  ------------------------------------------------------------------"
      ]
     },
     "metadata": {},
     "output_type": "display_data"
    },
    {
     "name": "stdout",
     "output_type": "stream",
     "text": [
      "H2O session _sid_aaff closed."
     ]
    },
    {
     "name": "stdout",
     "output_type": "stream",
     "text": [
      "\n"
     ]
    },
    {
     "name": "stdout",
     "output_type": "stream",
     "text": [
      "<class 'h2o.automl.autoh2o.H2OAutoML'>"
     ]
    },
    {
     "name": "stdout",
     "output_type": "stream",
     "text": [
      "\n"
     ]
    },
    {
     "name": "stdout",
     "output_type": "stream",
     "text": [
      "0.798"
     ]
    },
    {
     "name": "stdout",
     "output_type": "stream",
     "text": [
      "\n"
     ]
    },
    {
     "name": "stdout",
     "output_type": "stream",
     "text": [
      "Checking whether there is an H2O instance running at http://localhost:54321 "
     ]
    },
    {
     "name": "stdout",
     "output_type": "stream",
     "text": [
      "."
     ]
    },
    {
     "name": "stdout",
     "output_type": "stream",
     "text": [
      "."
     ]
    },
    {
     "name": "stdout",
     "output_type": "stream",
     "text": [
      "."
     ]
    },
    {
     "name": "stdout",
     "output_type": "stream",
     "text": [
      "."
     ]
    },
    {
     "name": "stdout",
     "output_type": "stream",
     "text": [
      "."
     ]
    },
    {
     "name": "stdout",
     "output_type": "stream",
     "text": [
      " not found."
     ]
    },
    {
     "name": "stdout",
     "output_type": "stream",
     "text": [
      "\n"
     ]
    },
    {
     "name": "stdout",
     "output_type": "stream",
     "text": [
      "Attempting to start a local H2O server..."
     ]
    },
    {
     "name": "stdout",
     "output_type": "stream",
     "text": [
      "\n"
     ]
    },
    {
     "name": "stdout",
     "output_type": "stream",
     "text": [
      "  Java Version: openjdk version \"11.0.2\" 2019-01-15; OpenJDK Runtime Environment 18.9 (build 11.0.2+9); OpenJDK 64-Bit Server VM 18.9 (build 11.0.2+9, mixed mode)"
     ]
    },
    {
     "name": "stdout",
     "output_type": "stream",
     "text": [
      "\n"
     ]
    },
    {
     "name": "stdout",
     "output_type": "stream",
     "text": [
      "  Starting server from /wrk/users/thalvari/dpEmu-AutoML/venv/lib/python3.6/site-packages/h2o/backend/bin/h2o.jar"
     ]
    },
    {
     "name": "stdout",
     "output_type": "stream",
     "text": [
      "\n"
     ]
    },
    {
     "name": "stdout",
     "output_type": "stream",
     "text": [
      "  Ice root: /wrk/users/thalvari/tmpokgq2sjr"
     ]
    },
    {
     "name": "stdout",
     "output_type": "stream",
     "text": [
      "\n"
     ]
    },
    {
     "name": "stdout",
     "output_type": "stream",
     "text": [
      "  JVM stdout: /wrk/users/thalvari/tmpokgq2sjr/h2o_thalvari_started_from_python.out"
     ]
    },
    {
     "name": "stdout",
     "output_type": "stream",
     "text": [
      "\n"
     ]
    },
    {
     "name": "stdout",
     "output_type": "stream",
     "text": [
      "  JVM stderr: /wrk/users/thalvari/tmpokgq2sjr/h2o_thalvari_started_from_python.err"
     ]
    },
    {
     "name": "stdout",
     "output_type": "stream",
     "text": [
      "\n"
     ]
    },
    {
     "name": "stdout",
     "output_type": "stream",
     "text": [
      "  Server is running at http://127.0.0.1:54321"
     ]
    },
    {
     "name": "stdout",
     "output_type": "stream",
     "text": [
      "\n"
     ]
    },
    {
     "name": "stdout",
     "output_type": "stream",
     "text": [
      "Connecting to H2O server at http://127.0.0.1:54321 .."
     ]
    },
    {
     "name": "stdout",
     "output_type": "stream",
     "text": [
      "."
     ]
    },
    {
     "name": "stdout",
     "output_type": "stream",
     "text": [
      " successful."
     ]
    },
    {
     "name": "stdout",
     "output_type": "stream",
     "text": [
      "\n"
     ]
    },
    {
     "data": {
      "text/html": [
       "<div style=\"overflow:auto\"><table style=\"width:50%\"><tr><td>H2O cluster uptime:</td>\n",
       "<td>01 secs</td></tr>\n",
       "<tr><td>H2O cluster timezone:</td>\n",
       "<td>Europe/Helsinki</td></tr>\n",
       "<tr><td>H2O data parsing timezone:</td>\n",
       "<td>UTC</td></tr>\n",
       "<tr><td>H2O cluster version:</td>\n",
       "<td>3.26.0.10</td></tr>\n",
       "<tr><td>H2O cluster version age:</td>\n",
       "<td>12 days </td></tr>\n",
       "<tr><td>H2O cluster name:</td>\n",
       "<td>#890442259</td></tr>\n",
       "<tr><td>H2O cluster total nodes:</td>\n",
       "<td>1</td></tr>\n",
       "<tr><td>H2O cluster free memory:</td>\n",
       "<td>29.97 Gb</td></tr>\n",
       "<tr><td>H2O cluster total cores:</td>\n",
       "<td>40</td></tr>\n",
       "<tr><td>H2O cluster allowed cores:</td>\n",
       "<td>20</td></tr>\n",
       "<tr><td>H2O cluster status:</td>\n",
       "<td>accepting new members, healthy</td></tr>\n",
       "<tr><td>H2O connection url:</td>\n",
       "<td>http://127.0.0.1:54321</td></tr>\n",
       "<tr><td>H2O connection proxy:</td>\n",
       "<td>{'http': None, 'https': None}</td></tr>\n",
       "<tr><td>H2O internal security:</td>\n",
       "<td>False</td></tr>\n",
       "<tr><td>H2O API Extensions:</td>\n",
       "<td>Amazon S3, XGBoost, Algos, AutoML, Core V3, TargetEncoder, Core V4</td></tr>\n",
       "<tr><td>Python version:</td>\n",
       "<td>3.6.6 final</td></tr></table></div>"
      ],
      "text/plain": [
       "--------------------------  ------------------------------------------------------------------\n",
       "H2O cluster uptime:         01 secs\n",
       "H2O cluster timezone:       Europe/Helsinki\n",
       "H2O data parsing timezone:  UTC\n",
       "H2O cluster version:        3.26.0.10\n",
       "H2O cluster version age:    12 days\n",
       "H2O cluster name:           #890442259\n",
       "H2O cluster total nodes:    1\n",
       "H2O cluster free memory:    29.97 Gb\n",
       "H2O cluster total cores:    40\n",
       "H2O cluster allowed cores:  20\n",
       "H2O cluster status:         accepting new members, healthy\n",
       "H2O connection url:         http://127.0.0.1:54321\n",
       "H2O connection proxy:       {'http': None, 'https': None}\n",
       "H2O internal security:      False\n",
       "H2O API Extensions:         Amazon S3, XGBoost, Algos, AutoML, Core V3, TargetEncoder, Core V4\n",
       "Python version:             3.6.6 final\n",
       "--------------------------  ------------------------------------------------------------------"
      ]
     },
     "metadata": {},
     "output_type": "display_data"
    },
    {
     "name": "stdout",
     "output_type": "stream",
     "text": [
      "H2O session _sid_8103 closed."
     ]
    },
    {
     "name": "stdout",
     "output_type": "stream",
     "text": [
      "\n"
     ]
    },
    {
     "name": "stdout",
     "output_type": "stream",
     "text": [
      "<class 'h2o.automl.autoh2o.H2OAutoML'>"
     ]
    },
    {
     "name": "stdout",
     "output_type": "stream",
     "text": [
      "\n"
     ]
    },
    {
     "name": "stdout",
     "output_type": "stream",
     "text": [
      "0.494"
     ]
    },
    {
     "name": "stdout",
     "output_type": "stream",
     "text": [
      "\n"
     ]
    },
    {
     "name": "stderr",
     "output_type": "stream",
     "text": [
      "\r",
      " 50%|█████     | 3/6 [9:12:52<9:12:29, 11049.90s/it] "
     ]
    },
    {
     "name": "stdout",
     "output_type": "stream",
     "text": [
      "<class 'autokeras.image.image_supervised.ImageClassifier'>"
     ]
    },
    {
     "name": "stdout",
     "output_type": "stream",
     "text": [
      "\n"
     ]
    },
    {
     "name": "stdout",
     "output_type": "stream",
     "text": [
      "0.463"
     ]
    },
    {
     "name": "stdout",
     "output_type": "stream",
     "text": [
      "\n"
     ]
    },
    {
     "name": "stdout",
     "output_type": "stream",
     "text": [
      "<class 'autokeras.image.image_supervised.ImageClassifier'>"
     ]
    },
    {
     "name": "stdout",
     "output_type": "stream",
     "text": [
      "\n"
     ]
    },
    {
     "name": "stdout",
     "output_type": "stream",
     "text": [
      "0.486"
     ]
    },
    {
     "name": "stdout",
     "output_type": "stream",
     "text": [
      "\n"
     ]
    },
    {
     "name": "stdout",
     "output_type": "stream",
     "text": [
      "\n"
     ]
    },
    {
     "name": "stdout",
     "output_type": "stream",
     "text": [
      "30.53 minutes have elapsed. TPOT will close down.\n",
      "TPOT closed during evaluation in one generation.\n",
      "WARNING: TPOT may not provide a good pipeline if TPOT is stopped/interrupted in a early generation."
     ]
    },
    {
     "name": "stdout",
     "output_type": "stream",
     "text": [
      "\n"
     ]
    },
    {
     "name": "stdout",
     "output_type": "stream",
     "text": [
      "\n"
     ]
    },
    {
     "name": "stdout",
     "output_type": "stream",
     "text": [
      "\n",
      "TPOT closed prematurely. Will use the current best pipeline."
     ]
    },
    {
     "name": "stdout",
     "output_type": "stream",
     "text": [
      "\n"
     ]
    },
    {
     "name": "stdout",
     "output_type": "stream",
     "text": [
      "Best pipeline:"
     ]
    },
    {
     "name": "stdout",
     "output_type": "stream",
     "text": [
      " "
     ]
    },
    {
     "name": "stdout",
     "output_type": "stream",
     "text": [
      "KNeighborsClassifier(SelectFwe(LinearSVC(RandomForestClassifier(input_matrix, bootstrap=False, criterion=gini, max_features=0.45, min_samples_leaf=5, min_samples_split=20, n_estimators=100), C=0.01, dual=False, loss=squared_hinge, penalty=l2, tol=0.0001), alpha=0.021), n_neighbors=99, p=2, weights=uniform)"
     ]
    },
    {
     "name": "stdout",
     "output_type": "stream",
     "text": [
      "\n"
     ]
    },
    {
     "name": "stdout",
     "output_type": "stream",
     "text": [
      "<class 'tpot.tpot.TPOTClassifier'>"
     ]
    },
    {
     "name": "stdout",
     "output_type": "stream",
     "text": [
      "\n"
     ]
    },
    {
     "name": "stdout",
     "output_type": "stream",
     "text": [
      "0.681"
     ]
    },
    {
     "name": "stdout",
     "output_type": "stream",
     "text": [
      "\n"
     ]
    },
    {
     "name": "stdout",
     "output_type": "stream",
     "text": [
      "\n"
     ]
    },
    {
     "name": "stdout",
     "output_type": "stream",
     "text": [
      "31.50 minutes have elapsed. TPOT will close down.\n",
      "TPOT closed during evaluation in one generation.\n",
      "WARNING: TPOT may not provide a good pipeline if TPOT is stopped/interrupted in a early generation."
     ]
    },
    {
     "name": "stdout",
     "output_type": "stream",
     "text": [
      "\n"
     ]
    },
    {
     "name": "stdout",
     "output_type": "stream",
     "text": [
      "\n"
     ]
    },
    {
     "name": "stdout",
     "output_type": "stream",
     "text": [
      "\n",
      "TPOT closed prematurely. Will use the current best pipeline."
     ]
    },
    {
     "name": "stdout",
     "output_type": "stream",
     "text": [
      "\n"
     ]
    },
    {
     "name": "stdout",
     "output_type": "stream",
     "text": [
      "Best pipeline:"
     ]
    },
    {
     "name": "stdout",
     "output_type": "stream",
     "text": [
      " "
     ]
    },
    {
     "name": "stdout",
     "output_type": "stream",
     "text": [
      "KNeighborsClassifier(ExtraTreesClassifier(ZeroCount(input_matrix), bootstrap=False, criterion=entropy, max_features=0.45, min_samples_leaf=9, min_samples_split=5, n_estimators=100), n_neighbors=4, p=2, weights=distance)"
     ]
    },
    {
     "name": "stdout",
     "output_type": "stream",
     "text": [
      "\n"
     ]
    },
    {
     "name": "stdout",
     "output_type": "stream",
     "text": [
      "<class 'tpot.tpot.TPOTClassifier'>"
     ]
    },
    {
     "name": "stdout",
     "output_type": "stream",
     "text": [
      "\n"
     ]
    },
    {
     "name": "stdout",
     "output_type": "stream",
     "text": [
      "0.677"
     ]
    },
    {
     "name": "stdout",
     "output_type": "stream",
     "text": [
      "\n"
     ]
    },
    {
     "name": "stdout",
     "output_type": "stream",
     "text": [
      "Checking whether there is an H2O instance running at http://localhost:54321 "
     ]
    },
    {
     "name": "stdout",
     "output_type": "stream",
     "text": [
      "."
     ]
    },
    {
     "name": "stdout",
     "output_type": "stream",
     "text": [
      "."
     ]
    },
    {
     "name": "stdout",
     "output_type": "stream",
     "text": [
      "."
     ]
    },
    {
     "name": "stdout",
     "output_type": "stream",
     "text": [
      "."
     ]
    },
    {
     "name": "stdout",
     "output_type": "stream",
     "text": [
      "."
     ]
    },
    {
     "name": "stdout",
     "output_type": "stream",
     "text": [
      " not found."
     ]
    },
    {
     "name": "stdout",
     "output_type": "stream",
     "text": [
      "\n"
     ]
    },
    {
     "name": "stdout",
     "output_type": "stream",
     "text": [
      "Attempting to start a local H2O server..."
     ]
    },
    {
     "name": "stdout",
     "output_type": "stream",
     "text": [
      "\n"
     ]
    },
    {
     "name": "stdout",
     "output_type": "stream",
     "text": [
      "  Java Version: openjdk version \"11.0.2\" 2019-01-15; OpenJDK Runtime Environment 18.9 (build 11.0.2+9); OpenJDK 64-Bit Server VM 18.9 (build 11.0.2+9, mixed mode)"
     ]
    },
    {
     "name": "stdout",
     "output_type": "stream",
     "text": [
      "\n"
     ]
    },
    {
     "name": "stdout",
     "output_type": "stream",
     "text": [
      "  Starting server from /wrk/users/thalvari/dpEmu-AutoML/venv/lib/python3.6/site-packages/h2o/backend/bin/h2o.jar"
     ]
    },
    {
     "name": "stdout",
     "output_type": "stream",
     "text": [
      "\n"
     ]
    },
    {
     "name": "stdout",
     "output_type": "stream",
     "text": [
      "  Ice root: /wrk/users/thalvari/tmp9pyth0qw"
     ]
    },
    {
     "name": "stdout",
     "output_type": "stream",
     "text": [
      "\n"
     ]
    },
    {
     "name": "stdout",
     "output_type": "stream",
     "text": [
      "  JVM stdout: /wrk/users/thalvari/tmp9pyth0qw/h2o_thalvari_started_from_python.out"
     ]
    },
    {
     "name": "stdout",
     "output_type": "stream",
     "text": [
      "\n"
     ]
    },
    {
     "name": "stdout",
     "output_type": "stream",
     "text": [
      "  JVM stderr: /wrk/users/thalvari/tmp9pyth0qw/h2o_thalvari_started_from_python.err"
     ]
    },
    {
     "name": "stdout",
     "output_type": "stream",
     "text": [
      "\n"
     ]
    },
    {
     "name": "stdout",
     "output_type": "stream",
     "text": [
      "  Server is running at http://127.0.0.1:54321"
     ]
    },
    {
     "name": "stdout",
     "output_type": "stream",
     "text": [
      "\n"
     ]
    },
    {
     "name": "stdout",
     "output_type": "stream",
     "text": [
      "Connecting to H2O server at http://127.0.0.1:54321 .."
     ]
    },
    {
     "name": "stdout",
     "output_type": "stream",
     "text": [
      "."
     ]
    },
    {
     "name": "stdout",
     "output_type": "stream",
     "text": [
      " successful."
     ]
    },
    {
     "name": "stdout",
     "output_type": "stream",
     "text": [
      "\n"
     ]
    },
    {
     "data": {
      "text/html": [
       "<div style=\"overflow:auto\"><table style=\"width:50%\"><tr><td>H2O cluster uptime:</td>\n",
       "<td>01 secs</td></tr>\n",
       "<tr><td>H2O cluster timezone:</td>\n",
       "<td>Europe/Helsinki</td></tr>\n",
       "<tr><td>H2O data parsing timezone:</td>\n",
       "<td>UTC</td></tr>\n",
       "<tr><td>H2O cluster version:</td>\n",
       "<td>3.26.0.10</td></tr>\n",
       "<tr><td>H2O cluster version age:</td>\n",
       "<td>12 days </td></tr>\n",
       "<tr><td>H2O cluster name:</td>\n",
       "<td>#895856512</td></tr>\n",
       "<tr><td>H2O cluster total nodes:</td>\n",
       "<td>1</td></tr>\n",
       "<tr><td>H2O cluster free memory:</td>\n",
       "<td>29.97 Gb</td></tr>\n",
       "<tr><td>H2O cluster total cores:</td>\n",
       "<td>40</td></tr>\n",
       "<tr><td>H2O cluster allowed cores:</td>\n",
       "<td>20</td></tr>\n",
       "<tr><td>H2O cluster status:</td>\n",
       "<td>accepting new members, healthy</td></tr>\n",
       "<tr><td>H2O connection url:</td>\n",
       "<td>http://127.0.0.1:54321</td></tr>\n",
       "<tr><td>H2O connection proxy:</td>\n",
       "<td>{'http': None, 'https': None}</td></tr>\n",
       "<tr><td>H2O internal security:</td>\n",
       "<td>False</td></tr>\n",
       "<tr><td>H2O API Extensions:</td>\n",
       "<td>Amazon S3, XGBoost, Algos, AutoML, Core V3, TargetEncoder, Core V4</td></tr>\n",
       "<tr><td>Python version:</td>\n",
       "<td>3.6.6 final</td></tr></table></div>"
      ],
      "text/plain": [
       "--------------------------  ------------------------------------------------------------------\n",
       "H2O cluster uptime:         01 secs\n",
       "H2O cluster timezone:       Europe/Helsinki\n",
       "H2O data parsing timezone:  UTC\n",
       "H2O cluster version:        3.26.0.10\n",
       "H2O cluster version age:    12 days\n",
       "H2O cluster name:           #895856512\n",
       "H2O cluster total nodes:    1\n",
       "H2O cluster free memory:    29.97 Gb\n",
       "H2O cluster total cores:    40\n",
       "H2O cluster allowed cores:  20\n",
       "H2O cluster status:         accepting new members, healthy\n",
       "H2O connection url:         http://127.0.0.1:54321\n",
       "H2O connection proxy:       {'http': None, 'https': None}\n",
       "H2O internal security:      False\n",
       "H2O API Extensions:         Amazon S3, XGBoost, Algos, AutoML, Core V3, TargetEncoder, Core V4\n",
       "Python version:             3.6.6 final\n",
       "--------------------------  ------------------------------------------------------------------"
      ]
     },
     "metadata": {},
     "output_type": "display_data"
    },
    {
     "name": "stdout",
     "output_type": "stream",
     "text": [
      "H2O session _sid_8399 closed."
     ]
    },
    {
     "name": "stdout",
     "output_type": "stream",
     "text": [
      "\n"
     ]
    },
    {
     "name": "stdout",
     "output_type": "stream",
     "text": [
      "<class 'h2o.automl.autoh2o.H2OAutoML'>"
     ]
    },
    {
     "name": "stdout",
     "output_type": "stream",
     "text": [
      "\n"
     ]
    },
    {
     "name": "stdout",
     "output_type": "stream",
     "text": [
      "0.658"
     ]
    },
    {
     "name": "stdout",
     "output_type": "stream",
     "text": [
      "\n"
     ]
    },
    {
     "name": "stdout",
     "output_type": "stream",
     "text": [
      "Checking whether there is an H2O instance running at http://localhost:54321 "
     ]
    },
    {
     "name": "stdout",
     "output_type": "stream",
     "text": [
      "."
     ]
    },
    {
     "name": "stdout",
     "output_type": "stream",
     "text": [
      "."
     ]
    },
    {
     "name": "stdout",
     "output_type": "stream",
     "text": [
      "."
     ]
    },
    {
     "name": "stdout",
     "output_type": "stream",
     "text": [
      "."
     ]
    },
    {
     "name": "stdout",
     "output_type": "stream",
     "text": [
      "."
     ]
    },
    {
     "name": "stdout",
     "output_type": "stream",
     "text": [
      " not found."
     ]
    },
    {
     "name": "stdout",
     "output_type": "stream",
     "text": [
      "\n"
     ]
    },
    {
     "name": "stdout",
     "output_type": "stream",
     "text": [
      "Attempting to start a local H2O server..."
     ]
    },
    {
     "name": "stdout",
     "output_type": "stream",
     "text": [
      "\n"
     ]
    },
    {
     "name": "stdout",
     "output_type": "stream",
     "text": [
      "  Java Version: openjdk version \"11.0.2\" 2019-01-15; OpenJDK Runtime Environment 18.9 (build 11.0.2+9); OpenJDK 64-Bit Server VM 18.9 (build 11.0.2+9, mixed mode)"
     ]
    },
    {
     "name": "stdout",
     "output_type": "stream",
     "text": [
      "\n"
     ]
    },
    {
     "name": "stdout",
     "output_type": "stream",
     "text": [
      "  Starting server from /wrk/users/thalvari/dpEmu-AutoML/venv/lib/python3.6/site-packages/h2o/backend/bin/h2o.jar"
     ]
    },
    {
     "name": "stdout",
     "output_type": "stream",
     "text": [
      "\n"
     ]
    },
    {
     "name": "stdout",
     "output_type": "stream",
     "text": [
      "  Ice root: /wrk/users/thalvari/tmp8tyc_096"
     ]
    },
    {
     "name": "stdout",
     "output_type": "stream",
     "text": [
      "\n"
     ]
    },
    {
     "name": "stdout",
     "output_type": "stream",
     "text": [
      "  JVM stdout: /wrk/users/thalvari/tmp8tyc_096/h2o_thalvari_started_from_python.out"
     ]
    },
    {
     "name": "stdout",
     "output_type": "stream",
     "text": [
      "\n"
     ]
    },
    {
     "name": "stdout",
     "output_type": "stream",
     "text": [
      "  JVM stderr: /wrk/users/thalvari/tmp8tyc_096/h2o_thalvari_started_from_python.err"
     ]
    },
    {
     "name": "stdout",
     "output_type": "stream",
     "text": [
      "\n"
     ]
    },
    {
     "name": "stdout",
     "output_type": "stream",
     "text": [
      "  Server is running at http://127.0.0.1:54321"
     ]
    },
    {
     "name": "stdout",
     "output_type": "stream",
     "text": [
      "\n"
     ]
    },
    {
     "name": "stdout",
     "output_type": "stream",
     "text": [
      "Connecting to H2O server at http://127.0.0.1:54321 .."
     ]
    },
    {
     "name": "stdout",
     "output_type": "stream",
     "text": [
      "."
     ]
    },
    {
     "name": "stdout",
     "output_type": "stream",
     "text": [
      " successful."
     ]
    },
    {
     "name": "stdout",
     "output_type": "stream",
     "text": [
      "\n"
     ]
    },
    {
     "data": {
      "text/html": [
       "<div style=\"overflow:auto\"><table style=\"width:50%\"><tr><td>H2O cluster uptime:</td>\n",
       "<td>01 secs</td></tr>\n",
       "<tr><td>H2O cluster timezone:</td>\n",
       "<td>Europe/Helsinki</td></tr>\n",
       "<tr><td>H2O data parsing timezone:</td>\n",
       "<td>UTC</td></tr>\n",
       "<tr><td>H2O cluster version:</td>\n",
       "<td>3.26.0.10</td></tr>\n",
       "<tr><td>H2O cluster version age:</td>\n",
       "<td>12 days </td></tr>\n",
       "<tr><td>H2O cluster name:</td>\n",
       "<td>#684533559</td></tr>\n",
       "<tr><td>H2O cluster total nodes:</td>\n",
       "<td>1</td></tr>\n",
       "<tr><td>H2O cluster free memory:</td>\n",
       "<td>29.97 Gb</td></tr>\n",
       "<tr><td>H2O cluster total cores:</td>\n",
       "<td>40</td></tr>\n",
       "<tr><td>H2O cluster allowed cores:</td>\n",
       "<td>20</td></tr>\n",
       "<tr><td>H2O cluster status:</td>\n",
       "<td>accepting new members, healthy</td></tr>\n",
       "<tr><td>H2O connection url:</td>\n",
       "<td>http://127.0.0.1:54321</td></tr>\n",
       "<tr><td>H2O connection proxy:</td>\n",
       "<td>{'http': None, 'https': None}</td></tr>\n",
       "<tr><td>H2O internal security:</td>\n",
       "<td>False</td></tr>\n",
       "<tr><td>H2O API Extensions:</td>\n",
       "<td>Amazon S3, XGBoost, Algos, AutoML, Core V3, TargetEncoder, Core V4</td></tr>\n",
       "<tr><td>Python version:</td>\n",
       "<td>3.6.6 final</td></tr></table></div>"
      ],
      "text/plain": [
       "--------------------------  ------------------------------------------------------------------\n",
       "H2O cluster uptime:         01 secs\n",
       "H2O cluster timezone:       Europe/Helsinki\n",
       "H2O data parsing timezone:  UTC\n",
       "H2O cluster version:        3.26.0.10\n",
       "H2O cluster version age:    12 days\n",
       "H2O cluster name:           #684533559\n",
       "H2O cluster total nodes:    1\n",
       "H2O cluster free memory:    29.97 Gb\n",
       "H2O cluster total cores:    40\n",
       "H2O cluster allowed cores:  20\n",
       "H2O cluster status:         accepting new members, healthy\n",
       "H2O connection url:         http://127.0.0.1:54321\n",
       "H2O connection proxy:       {'http': None, 'https': None}\n",
       "H2O internal security:      False\n",
       "H2O API Extensions:         Amazon S3, XGBoost, Algos, AutoML, Core V3, TargetEncoder, Core V4\n",
       "Python version:             3.6.6 final\n",
       "--------------------------  ------------------------------------------------------------------"
      ]
     },
     "metadata": {},
     "output_type": "display_data"
    },
    {
     "name": "stdout",
     "output_type": "stream",
     "text": [
      "H2O session _sid_ad8b closed."
     ]
    },
    {
     "name": "stdout",
     "output_type": "stream",
     "text": [
      "\n"
     ]
    },
    {
     "name": "stdout",
     "output_type": "stream",
     "text": [
      "<class 'h2o.automl.autoh2o.H2OAutoML'>"
     ]
    },
    {
     "name": "stdout",
     "output_type": "stream",
     "text": [
      "\n"
     ]
    },
    {
     "name": "stdout",
     "output_type": "stream",
     "text": [
      "0.381"
     ]
    },
    {
     "name": "stdout",
     "output_type": "stream",
     "text": [
      "\n"
     ]
    },
    {
     "name": "stderr",
     "output_type": "stream",
     "text": [
      "\r",
      " 67%|██████▋   | 4/6 [12:14:13<6:06:38, 10999.33s/it]"
     ]
    },
    {
     "name": "stdout",
     "output_type": "stream",
     "text": [
      "<class 'autokeras.image.image_supervised.ImageClassifier'>"
     ]
    },
    {
     "name": "stdout",
     "output_type": "stream",
     "text": [
      "\n"
     ]
    },
    {
     "name": "stdout",
     "output_type": "stream",
     "text": [
      "0.342"
     ]
    },
    {
     "name": "stdout",
     "output_type": "stream",
     "text": [
      "\n"
     ]
    },
    {
     "name": "stdout",
     "output_type": "stream",
     "text": [
      "<class 'autokeras.image.image_supervised.ImageClassifier'>"
     ]
    },
    {
     "name": "stdout",
     "output_type": "stream",
     "text": [
      "\n"
     ]
    },
    {
     "name": "stdout",
     "output_type": "stream",
     "text": [
      "0.346"
     ]
    },
    {
     "name": "stdout",
     "output_type": "stream",
     "text": [
      "\n"
     ]
    },
    {
     "name": "stdout",
     "output_type": "stream",
     "text": [
      "\n"
     ]
    },
    {
     "name": "stdout",
     "output_type": "stream",
     "text": [
      "30.57 minutes have elapsed. TPOT will close down.\n",
      "TPOT closed during evaluation in one generation.\n",
      "WARNING: TPOT may not provide a good pipeline if TPOT is stopped/interrupted in a early generation."
     ]
    },
    {
     "name": "stdout",
     "output_type": "stream",
     "text": [
      "\n"
     ]
    },
    {
     "name": "stdout",
     "output_type": "stream",
     "text": [
      "\n"
     ]
    },
    {
     "name": "stdout",
     "output_type": "stream",
     "text": [
      "\n",
      "TPOT closed prematurely. Will use the current best pipeline."
     ]
    },
    {
     "name": "stdout",
     "output_type": "stream",
     "text": [
      "\n"
     ]
    },
    {
     "name": "stdout",
     "output_type": "stream",
     "text": [
      "Best pipeline:"
     ]
    },
    {
     "name": "stdout",
     "output_type": "stream",
     "text": [
      " "
     ]
    },
    {
     "name": "stdout",
     "output_type": "stream",
     "text": [
      "MultinomialNB(SelectPercentile(MaxAbsScaler(input_matrix), percentile=76), alpha=100.0, fit_prior=False)"
     ]
    },
    {
     "name": "stdout",
     "output_type": "stream",
     "text": [
      "\n"
     ]
    },
    {
     "name": "stdout",
     "output_type": "stream",
     "text": [
      "<class 'tpot.tpot.TPOTClassifier'>"
     ]
    },
    {
     "name": "stdout",
     "output_type": "stream",
     "text": [
      "\n"
     ]
    },
    {
     "name": "stdout",
     "output_type": "stream",
     "text": [
      "0.498"
     ]
    },
    {
     "name": "stdout",
     "output_type": "stream",
     "text": [
      "\n"
     ]
    },
    {
     "name": "stdout",
     "output_type": "stream",
     "text": [
      "\n"
     ]
    },
    {
     "name": "stdout",
     "output_type": "stream",
     "text": [
      "30.43 minutes have elapsed. TPOT will close down.\n",
      "TPOT closed during evaluation in one generation.\n",
      "WARNING: TPOT may not provide a good pipeline if TPOT is stopped/interrupted in a early generation."
     ]
    },
    {
     "name": "stdout",
     "output_type": "stream",
     "text": [
      "\n"
     ]
    },
    {
     "name": "stdout",
     "output_type": "stream",
     "text": [
      "\n"
     ]
    },
    {
     "name": "stdout",
     "output_type": "stream",
     "text": [
      "\n",
      "TPOT closed prematurely. Will use the current best pipeline."
     ]
    },
    {
     "name": "stdout",
     "output_type": "stream",
     "text": [
      "\n"
     ]
    },
    {
     "name": "stdout",
     "output_type": "stream",
     "text": [
      "Best pipeline:"
     ]
    },
    {
     "name": "stdout",
     "output_type": "stream",
     "text": [
      " "
     ]
    },
    {
     "name": "stdout",
     "output_type": "stream",
     "text": [
      "KNeighborsClassifier(ExtraTreesClassifier(ZeroCount(input_matrix), bootstrap=False, criterion=entropy, max_features=0.45, min_samples_leaf=9, min_samples_split=5, n_estimators=100), n_neighbors=4, p=2, weights=distance)"
     ]
    },
    {
     "name": "stdout",
     "output_type": "stream",
     "text": [
      "\n"
     ]
    },
    {
     "name": "stdout",
     "output_type": "stream",
     "text": [
      "<class 'tpot.tpot.TPOTClassifier'>"
     ]
    },
    {
     "name": "stdout",
     "output_type": "stream",
     "text": [
      "\n"
     ]
    },
    {
     "name": "stdout",
     "output_type": "stream",
     "text": [
      "0.521"
     ]
    },
    {
     "name": "stdout",
     "output_type": "stream",
     "text": [
      "\n"
     ]
    },
    {
     "name": "stdout",
     "output_type": "stream",
     "text": [
      "Checking whether there is an H2O instance running at http://localhost:54321 "
     ]
    },
    {
     "name": "stdout",
     "output_type": "stream",
     "text": [
      "."
     ]
    },
    {
     "name": "stdout",
     "output_type": "stream",
     "text": [
      "."
     ]
    },
    {
     "name": "stdout",
     "output_type": "stream",
     "text": [
      "."
     ]
    },
    {
     "name": "stdout",
     "output_type": "stream",
     "text": [
      "."
     ]
    },
    {
     "name": "stdout",
     "output_type": "stream",
     "text": [
      "."
     ]
    },
    {
     "name": "stdout",
     "output_type": "stream",
     "text": [
      " not found."
     ]
    },
    {
     "name": "stdout",
     "output_type": "stream",
     "text": [
      "\n"
     ]
    },
    {
     "name": "stdout",
     "output_type": "stream",
     "text": [
      "Attempting to start a local H2O server..."
     ]
    },
    {
     "name": "stdout",
     "output_type": "stream",
     "text": [
      "\n"
     ]
    },
    {
     "name": "stdout",
     "output_type": "stream",
     "text": [
      "  Java Version: openjdk version \"11.0.2\" 2019-01-15; OpenJDK Runtime Environment 18.9 (build 11.0.2+9); OpenJDK 64-Bit Server VM 18.9 (build 11.0.2+9, mixed mode)"
     ]
    },
    {
     "name": "stdout",
     "output_type": "stream",
     "text": [
      "\n"
     ]
    },
    {
     "name": "stdout",
     "output_type": "stream",
     "text": [
      "  Starting server from /wrk/users/thalvari/dpEmu-AutoML/venv/lib/python3.6/site-packages/h2o/backend/bin/h2o.jar"
     ]
    },
    {
     "name": "stdout",
     "output_type": "stream",
     "text": [
      "\n"
     ]
    },
    {
     "name": "stdout",
     "output_type": "stream",
     "text": [
      "  Ice root: /wrk/users/thalvari/tmpm9auhauh"
     ]
    },
    {
     "name": "stdout",
     "output_type": "stream",
     "text": [
      "\n"
     ]
    },
    {
     "name": "stdout",
     "output_type": "stream",
     "text": [
      "  JVM stdout: /wrk/users/thalvari/tmpm9auhauh/h2o_thalvari_started_from_python.out"
     ]
    },
    {
     "name": "stdout",
     "output_type": "stream",
     "text": [
      "\n"
     ]
    },
    {
     "name": "stdout",
     "output_type": "stream",
     "text": [
      "  JVM stderr: /wrk/users/thalvari/tmpm9auhauh/h2o_thalvari_started_from_python.err"
     ]
    },
    {
     "name": "stdout",
     "output_type": "stream",
     "text": [
      "\n"
     ]
    },
    {
     "name": "stdout",
     "output_type": "stream",
     "text": [
      "  Server is running at http://127.0.0.1:54321"
     ]
    },
    {
     "name": "stdout",
     "output_type": "stream",
     "text": [
      "\n"
     ]
    },
    {
     "name": "stdout",
     "output_type": "stream",
     "text": [
      "Connecting to H2O server at http://127.0.0.1:54321 .."
     ]
    },
    {
     "name": "stdout",
     "output_type": "stream",
     "text": [
      "."
     ]
    },
    {
     "name": "stdout",
     "output_type": "stream",
     "text": [
      " successful."
     ]
    },
    {
     "name": "stdout",
     "output_type": "stream",
     "text": [
      "\n"
     ]
    },
    {
     "data": {
      "text/html": [
       "<div style=\"overflow:auto\"><table style=\"width:50%\"><tr><td>H2O cluster uptime:</td>\n",
       "<td>01 secs</td></tr>\n",
       "<tr><td>H2O cluster timezone:</td>\n",
       "<td>Europe/Helsinki</td></tr>\n",
       "<tr><td>H2O data parsing timezone:</td>\n",
       "<td>UTC</td></tr>\n",
       "<tr><td>H2O cluster version:</td>\n",
       "<td>3.26.0.10</td></tr>\n",
       "<tr><td>H2O cluster version age:</td>\n",
       "<td>12 days </td></tr>\n",
       "<tr><td>H2O cluster name:</td>\n",
       "<td>#276354364</td></tr>\n",
       "<tr><td>H2O cluster total nodes:</td>\n",
       "<td>1</td></tr>\n",
       "<tr><td>H2O cluster free memory:</td>\n",
       "<td>29.97 Gb</td></tr>\n",
       "<tr><td>H2O cluster total cores:</td>\n",
       "<td>40</td></tr>\n",
       "<tr><td>H2O cluster allowed cores:</td>\n",
       "<td>20</td></tr>\n",
       "<tr><td>H2O cluster status:</td>\n",
       "<td>accepting new members, healthy</td></tr>\n",
       "<tr><td>H2O connection url:</td>\n",
       "<td>http://127.0.0.1:54321</td></tr>\n",
       "<tr><td>H2O connection proxy:</td>\n",
       "<td>{'http': None, 'https': None}</td></tr>\n",
       "<tr><td>H2O internal security:</td>\n",
       "<td>False</td></tr>\n",
       "<tr><td>H2O API Extensions:</td>\n",
       "<td>Amazon S3, XGBoost, Algos, AutoML, Core V3, TargetEncoder, Core V4</td></tr>\n",
       "<tr><td>Python version:</td>\n",
       "<td>3.6.6 final</td></tr></table></div>"
      ],
      "text/plain": [
       "--------------------------  ------------------------------------------------------------------\n",
       "H2O cluster uptime:         01 secs\n",
       "H2O cluster timezone:       Europe/Helsinki\n",
       "H2O data parsing timezone:  UTC\n",
       "H2O cluster version:        3.26.0.10\n",
       "H2O cluster version age:    12 days\n",
       "H2O cluster name:           #276354364\n",
       "H2O cluster total nodes:    1\n",
       "H2O cluster free memory:    29.97 Gb\n",
       "H2O cluster total cores:    40\n",
       "H2O cluster allowed cores:  20\n",
       "H2O cluster status:         accepting new members, healthy\n",
       "H2O connection url:         http://127.0.0.1:54321\n",
       "H2O connection proxy:       {'http': None, 'https': None}\n",
       "H2O internal security:      False\n",
       "H2O API Extensions:         Amazon S3, XGBoost, Algos, AutoML, Core V3, TargetEncoder, Core V4\n",
       "Python version:             3.6.6 final\n",
       "--------------------------  ------------------------------------------------------------------"
      ]
     },
     "metadata": {},
     "output_type": "display_data"
    },
    {
     "name": "stdout",
     "output_type": "stream",
     "text": [
      "H2O session _sid_992e closed."
     ]
    },
    {
     "name": "stdout",
     "output_type": "stream",
     "text": [
      "\n"
     ]
    },
    {
     "name": "stdout",
     "output_type": "stream",
     "text": [
      "<class 'h2o.automl.autoh2o.H2OAutoML'>"
     ]
    },
    {
     "name": "stdout",
     "output_type": "stream",
     "text": [
      "\n"
     ]
    },
    {
     "name": "stdout",
     "output_type": "stream",
     "text": [
      "0.482"
     ]
    },
    {
     "name": "stdout",
     "output_type": "stream",
     "text": [
      "\n"
     ]
    },
    {
     "name": "stdout",
     "output_type": "stream",
     "text": [
      "Checking whether there is an H2O instance running at http://localhost:54321 "
     ]
    },
    {
     "name": "stdout",
     "output_type": "stream",
     "text": [
      "."
     ]
    },
    {
     "name": "stdout",
     "output_type": "stream",
     "text": [
      "."
     ]
    },
    {
     "name": "stdout",
     "output_type": "stream",
     "text": [
      "."
     ]
    },
    {
     "name": "stdout",
     "output_type": "stream",
     "text": [
      "."
     ]
    },
    {
     "name": "stdout",
     "output_type": "stream",
     "text": [
      "."
     ]
    },
    {
     "name": "stdout",
     "output_type": "stream",
     "text": [
      " not found."
     ]
    },
    {
     "name": "stdout",
     "output_type": "stream",
     "text": [
      "\n"
     ]
    },
    {
     "name": "stdout",
     "output_type": "stream",
     "text": [
      "Attempting to start a local H2O server..."
     ]
    },
    {
     "name": "stdout",
     "output_type": "stream",
     "text": [
      "\n"
     ]
    },
    {
     "name": "stdout",
     "output_type": "stream",
     "text": [
      "  Java Version: openjdk version \"11.0.2\" 2019-01-15; OpenJDK Runtime Environment 18.9 (build 11.0.2+9); OpenJDK 64-Bit Server VM 18.9 (build 11.0.2+9, mixed mode)"
     ]
    },
    {
     "name": "stdout",
     "output_type": "stream",
     "text": [
      "\n"
     ]
    },
    {
     "name": "stdout",
     "output_type": "stream",
     "text": [
      "  Starting server from /wrk/users/thalvari/dpEmu-AutoML/venv/lib/python3.6/site-packages/h2o/backend/bin/h2o.jar"
     ]
    },
    {
     "name": "stdout",
     "output_type": "stream",
     "text": [
      "\n"
     ]
    },
    {
     "name": "stdout",
     "output_type": "stream",
     "text": [
      "  Ice root: /wrk/users/thalvari/tmpt_mv9i0u"
     ]
    },
    {
     "name": "stdout",
     "output_type": "stream",
     "text": [
      "\n"
     ]
    },
    {
     "name": "stdout",
     "output_type": "stream",
     "text": [
      "  JVM stdout: /wrk/users/thalvari/tmpt_mv9i0u/h2o_thalvari_started_from_python.out"
     ]
    },
    {
     "name": "stdout",
     "output_type": "stream",
     "text": [
      "\n"
     ]
    },
    {
     "name": "stdout",
     "output_type": "stream",
     "text": [
      "  JVM stderr: /wrk/users/thalvari/tmpt_mv9i0u/h2o_thalvari_started_from_python.err"
     ]
    },
    {
     "name": "stdout",
     "output_type": "stream",
     "text": [
      "\n"
     ]
    },
    {
     "name": "stdout",
     "output_type": "stream",
     "text": [
      "  Server is running at http://127.0.0.1:54321"
     ]
    },
    {
     "name": "stdout",
     "output_type": "stream",
     "text": [
      "\n"
     ]
    },
    {
     "name": "stdout",
     "output_type": "stream",
     "text": [
      "Connecting to H2O server at http://127.0.0.1:54321 .."
     ]
    },
    {
     "name": "stdout",
     "output_type": "stream",
     "text": [
      "."
     ]
    },
    {
     "name": "stdout",
     "output_type": "stream",
     "text": [
      " successful."
     ]
    },
    {
     "name": "stdout",
     "output_type": "stream",
     "text": [
      "\n"
     ]
    },
    {
     "data": {
      "text/html": [
       "<div style=\"overflow:auto\"><table style=\"width:50%\"><tr><td>H2O cluster uptime:</td>\n",
       "<td>01 secs</td></tr>\n",
       "<tr><td>H2O cluster timezone:</td>\n",
       "<td>Europe/Helsinki</td></tr>\n",
       "<tr><td>H2O data parsing timezone:</td>\n",
       "<td>UTC</td></tr>\n",
       "<tr><td>H2O cluster version:</td>\n",
       "<td>3.26.0.10</td></tr>\n",
       "<tr><td>H2O cluster version age:</td>\n",
       "<td>12 days </td></tr>\n",
       "<tr><td>H2O cluster name:</td>\n",
       "<td>#181159859</td></tr>\n",
       "<tr><td>H2O cluster total nodes:</td>\n",
       "<td>1</td></tr>\n",
       "<tr><td>H2O cluster free memory:</td>\n",
       "<td>29.97 Gb</td></tr>\n",
       "<tr><td>H2O cluster total cores:</td>\n",
       "<td>40</td></tr>\n",
       "<tr><td>H2O cluster allowed cores:</td>\n",
       "<td>20</td></tr>\n",
       "<tr><td>H2O cluster status:</td>\n",
       "<td>accepting new members, healthy</td></tr>\n",
       "<tr><td>H2O connection url:</td>\n",
       "<td>http://127.0.0.1:54321</td></tr>\n",
       "<tr><td>H2O connection proxy:</td>\n",
       "<td>{'http': None, 'https': None}</td></tr>\n",
       "<tr><td>H2O internal security:</td>\n",
       "<td>False</td></tr>\n",
       "<tr><td>H2O API Extensions:</td>\n",
       "<td>Amazon S3, XGBoost, Algos, AutoML, Core V3, TargetEncoder, Core V4</td></tr>\n",
       "<tr><td>Python version:</td>\n",
       "<td>3.6.6 final</td></tr></table></div>"
      ],
      "text/plain": [
       "--------------------------  ------------------------------------------------------------------\n",
       "H2O cluster uptime:         01 secs\n",
       "H2O cluster timezone:       Europe/Helsinki\n",
       "H2O data parsing timezone:  UTC\n",
       "H2O cluster version:        3.26.0.10\n",
       "H2O cluster version age:    12 days\n",
       "H2O cluster name:           #181159859\n",
       "H2O cluster total nodes:    1\n",
       "H2O cluster free memory:    29.97 Gb\n",
       "H2O cluster total cores:    40\n",
       "H2O cluster allowed cores:  20\n",
       "H2O cluster status:         accepting new members, healthy\n",
       "H2O connection url:         http://127.0.0.1:54321\n",
       "H2O connection proxy:       {'http': None, 'https': None}\n",
       "H2O internal security:      False\n",
       "H2O API Extensions:         Amazon S3, XGBoost, Algos, AutoML, Core V3, TargetEncoder, Core V4\n",
       "Python version:             3.6.6 final\n",
       "--------------------------  ------------------------------------------------------------------"
      ]
     },
     "metadata": {},
     "output_type": "display_data"
    },
    {
     "name": "stdout",
     "output_type": "stream",
     "text": [
      "H2O session _sid_9af0 closed."
     ]
    },
    {
     "name": "stdout",
     "output_type": "stream",
     "text": [
      "\n"
     ]
    },
    {
     "name": "stdout",
     "output_type": "stream",
     "text": [
      "<class 'h2o.automl.autoh2o.H2OAutoML'>"
     ]
    },
    {
     "name": "stdout",
     "output_type": "stream",
     "text": [
      "\n"
     ]
    },
    {
     "name": "stdout",
     "output_type": "stream",
     "text": [
      "0.261"
     ]
    },
    {
     "name": "stdout",
     "output_type": "stream",
     "text": [
      "\n"
     ]
    },
    {
     "name": "stderr",
     "output_type": "stream",
     "text": [
      "\r",
      " 83%|████████▎ | 5/6 [15:10:05<3:01:05, 10865.05s/it]"
     ]
    },
    {
     "name": "stdout",
     "output_type": "stream",
     "text": [
      "<class 'autokeras.image.image_supervised.ImageClassifier'>"
     ]
    },
    {
     "name": "stdout",
     "output_type": "stream",
     "text": [
      "\n"
     ]
    },
    {
     "name": "stdout",
     "output_type": "stream",
     "text": [
      "0.222"
     ]
    },
    {
     "name": "stdout",
     "output_type": "stream",
     "text": [
      "\n"
     ]
    },
    {
     "name": "stdout",
     "output_type": "stream",
     "text": [
      "<class 'autokeras.image.image_supervised.ImageClassifier'>"
     ]
    },
    {
     "name": "stdout",
     "output_type": "stream",
     "text": [
      "\n"
     ]
    },
    {
     "name": "stdout",
     "output_type": "stream",
     "text": [
      "0.253"
     ]
    },
    {
     "name": "stdout",
     "output_type": "stream",
     "text": [
      "\n"
     ]
    },
    {
     "name": "stdout",
     "output_type": "stream",
     "text": [
      "\n"
     ]
    },
    {
     "name": "stdout",
     "output_type": "stream",
     "text": [
      "36.42 minutes have elapsed. TPOT will close down.\n",
      "TPOT closed during evaluation in one generation.\n",
      "WARNING: TPOT may not provide a good pipeline if TPOT is stopped/interrupted in a early generation."
     ]
    },
    {
     "name": "stdout",
     "output_type": "stream",
     "text": [
      "\n"
     ]
    },
    {
     "name": "stdout",
     "output_type": "stream",
     "text": [
      "\n"
     ]
    },
    {
     "name": "stdout",
     "output_type": "stream",
     "text": [
      "\n",
      "TPOT closed prematurely. Will use the current best pipeline."
     ]
    },
    {
     "name": "stdout",
     "output_type": "stream",
     "text": [
      "\n"
     ]
    },
    {
     "name": "stdout",
     "output_type": "stream",
     "text": [
      "Best pipeline:"
     ]
    },
    {
     "name": "stdout",
     "output_type": "stream",
     "text": [
      " "
     ]
    },
    {
     "name": "stdout",
     "output_type": "stream",
     "text": [
      "MultinomialNB(LogisticRegression(CombineDFs(input_matrix, RFE(input_matrix, criterion=gini, max_features=0.4, n_estimators=100, step=0.8)), C=15.0, dual=False, penalty=l1), alpha=1.0, fit_prior=False)"
     ]
    },
    {
     "name": "stdout",
     "output_type": "stream",
     "text": [
      "\n"
     ]
    },
    {
     "name": "stdout",
     "output_type": "stream",
     "text": [
      "<class 'tpot.tpot.TPOTClassifier'>"
     ]
    },
    {
     "name": "stdout",
     "output_type": "stream",
     "text": [
      "\n"
     ]
    },
    {
     "name": "stdout",
     "output_type": "stream",
     "text": [
      "0.35"
     ]
    },
    {
     "name": "stdout",
     "output_type": "stream",
     "text": [
      "\n"
     ]
    },
    {
     "name": "stdout",
     "output_type": "stream",
     "text": [
      "\n"
     ]
    },
    {
     "name": "stdout",
     "output_type": "stream",
     "text": [
      "30.62 minutes have elapsed. TPOT will close down.\n",
      "TPOT closed during evaluation in one generation.\n",
      "WARNING: TPOT may not provide a good pipeline if TPOT is stopped/interrupted in a early generation."
     ]
    },
    {
     "name": "stdout",
     "output_type": "stream",
     "text": [
      "\n"
     ]
    },
    {
     "name": "stdout",
     "output_type": "stream",
     "text": [
      "\n"
     ]
    },
    {
     "name": "stdout",
     "output_type": "stream",
     "text": [
      "\n",
      "TPOT closed prematurely. Will use the current best pipeline."
     ]
    },
    {
     "name": "stdout",
     "output_type": "stream",
     "text": [
      "\n"
     ]
    },
    {
     "name": "stdout",
     "output_type": "stream",
     "text": [
      "Best pipeline:"
     ]
    },
    {
     "name": "stdout",
     "output_type": "stream",
     "text": [
      " "
     ]
    },
    {
     "name": "stdout",
     "output_type": "stream",
     "text": [
      "KNeighborsClassifier(ExtraTreesClassifier(ZeroCount(input_matrix), bootstrap=False, criterion=entropy, max_features=0.45, min_samples_leaf=9, min_samples_split=5, n_estimators=100), n_neighbors=4, p=2, weights=distance)"
     ]
    },
    {
     "name": "stdout",
     "output_type": "stream",
     "text": [
      "\n"
     ]
    },
    {
     "name": "stdout",
     "output_type": "stream",
     "text": [
      "<class 'tpot.tpot.TPOTClassifier'>"
     ]
    },
    {
     "name": "stdout",
     "output_type": "stream",
     "text": [
      "\n"
     ]
    },
    {
     "name": "stdout",
     "output_type": "stream",
     "text": [
      "0.374"
     ]
    },
    {
     "name": "stdout",
     "output_type": "stream",
     "text": [
      "\n"
     ]
    },
    {
     "name": "stdout",
     "output_type": "stream",
     "text": [
      "Checking whether there is an H2O instance running at http://localhost:54321 "
     ]
    },
    {
     "name": "stdout",
     "output_type": "stream",
     "text": [
      "."
     ]
    },
    {
     "name": "stdout",
     "output_type": "stream",
     "text": [
      "."
     ]
    },
    {
     "name": "stdout",
     "output_type": "stream",
     "text": [
      "."
     ]
    },
    {
     "name": "stdout",
     "output_type": "stream",
     "text": [
      "."
     ]
    },
    {
     "name": "stdout",
     "output_type": "stream",
     "text": [
      "."
     ]
    },
    {
     "name": "stdout",
     "output_type": "stream",
     "text": [
      " not found."
     ]
    },
    {
     "name": "stdout",
     "output_type": "stream",
     "text": [
      "\n"
     ]
    },
    {
     "name": "stdout",
     "output_type": "stream",
     "text": [
      "Attempting to start a local H2O server..."
     ]
    },
    {
     "name": "stdout",
     "output_type": "stream",
     "text": [
      "\n"
     ]
    },
    {
     "name": "stdout",
     "output_type": "stream",
     "text": [
      "  Java Version: openjdk version \"11.0.2\" 2019-01-15; OpenJDK Runtime Environment 18.9 (build 11.0.2+9); OpenJDK 64-Bit Server VM 18.9 (build 11.0.2+9, mixed mode)"
     ]
    },
    {
     "name": "stdout",
     "output_type": "stream",
     "text": [
      "\n"
     ]
    },
    {
     "name": "stdout",
     "output_type": "stream",
     "text": [
      "  Starting server from /wrk/users/thalvari/dpEmu-AutoML/venv/lib/python3.6/site-packages/h2o/backend/bin/h2o.jar"
     ]
    },
    {
     "name": "stdout",
     "output_type": "stream",
     "text": [
      "\n"
     ]
    },
    {
     "name": "stdout",
     "output_type": "stream",
     "text": [
      "  Ice root: /wrk/users/thalvari/tmp8hvwvqma"
     ]
    },
    {
     "name": "stdout",
     "output_type": "stream",
     "text": [
      "\n"
     ]
    },
    {
     "name": "stdout",
     "output_type": "stream",
     "text": [
      "  JVM stdout: /wrk/users/thalvari/tmp8hvwvqma/h2o_thalvari_started_from_python.out"
     ]
    },
    {
     "name": "stdout",
     "output_type": "stream",
     "text": [
      "\n"
     ]
    },
    {
     "name": "stdout",
     "output_type": "stream",
     "text": [
      "  JVM stderr: /wrk/users/thalvari/tmp8hvwvqma/h2o_thalvari_started_from_python.err"
     ]
    },
    {
     "name": "stdout",
     "output_type": "stream",
     "text": [
      "\n"
     ]
    },
    {
     "name": "stdout",
     "output_type": "stream",
     "text": [
      "  Server is running at http://127.0.0.1:54321"
     ]
    },
    {
     "name": "stdout",
     "output_type": "stream",
     "text": [
      "\n"
     ]
    },
    {
     "name": "stdout",
     "output_type": "stream",
     "text": [
      "Connecting to H2O server at http://127.0.0.1:54321 .."
     ]
    },
    {
     "name": "stdout",
     "output_type": "stream",
     "text": [
      "."
     ]
    },
    {
     "name": "stdout",
     "output_type": "stream",
     "text": [
      " successful."
     ]
    },
    {
     "name": "stdout",
     "output_type": "stream",
     "text": [
      "\n"
     ]
    },
    {
     "data": {
      "text/html": [
       "<div style=\"overflow:auto\"><table style=\"width:50%\"><tr><td>H2O cluster uptime:</td>\n",
       "<td>01 secs</td></tr>\n",
       "<tr><td>H2O cluster timezone:</td>\n",
       "<td>Europe/Helsinki</td></tr>\n",
       "<tr><td>H2O data parsing timezone:</td>\n",
       "<td>UTC</td></tr>\n",
       "<tr><td>H2O cluster version:</td>\n",
       "<td>3.26.0.10</td></tr>\n",
       "<tr><td>H2O cluster version age:</td>\n",
       "<td>12 days </td></tr>\n",
       "<tr><td>H2O cluster name:</td>\n",
       "<td>#798473603</td></tr>\n",
       "<tr><td>H2O cluster total nodes:</td>\n",
       "<td>1</td></tr>\n",
       "<tr><td>H2O cluster free memory:</td>\n",
       "<td>29.97 Gb</td></tr>\n",
       "<tr><td>H2O cluster total cores:</td>\n",
       "<td>40</td></tr>\n",
       "<tr><td>H2O cluster allowed cores:</td>\n",
       "<td>20</td></tr>\n",
       "<tr><td>H2O cluster status:</td>\n",
       "<td>accepting new members, healthy</td></tr>\n",
       "<tr><td>H2O connection url:</td>\n",
       "<td>http://127.0.0.1:54321</td></tr>\n",
       "<tr><td>H2O connection proxy:</td>\n",
       "<td>{'http': None, 'https': None}</td></tr>\n",
       "<tr><td>H2O internal security:</td>\n",
       "<td>False</td></tr>\n",
       "<tr><td>H2O API Extensions:</td>\n",
       "<td>Amazon S3, XGBoost, Algos, AutoML, Core V3, TargetEncoder, Core V4</td></tr>\n",
       "<tr><td>Python version:</td>\n",
       "<td>3.6.6 final</td></tr></table></div>"
      ],
      "text/plain": [
       "--------------------------  ------------------------------------------------------------------\n",
       "H2O cluster uptime:         01 secs\n",
       "H2O cluster timezone:       Europe/Helsinki\n",
       "H2O data parsing timezone:  UTC\n",
       "H2O cluster version:        3.26.0.10\n",
       "H2O cluster version age:    12 days\n",
       "H2O cluster name:           #798473603\n",
       "H2O cluster total nodes:    1\n",
       "H2O cluster free memory:    29.97 Gb\n",
       "H2O cluster total cores:    40\n",
       "H2O cluster allowed cores:  20\n",
       "H2O cluster status:         accepting new members, healthy\n",
       "H2O connection url:         http://127.0.0.1:54321\n",
       "H2O connection proxy:       {'http': None, 'https': None}\n",
       "H2O internal security:      False\n",
       "H2O API Extensions:         Amazon S3, XGBoost, Algos, AutoML, Core V3, TargetEncoder, Core V4\n",
       "Python version:             3.6.6 final\n",
       "--------------------------  ------------------------------------------------------------------"
      ]
     },
     "metadata": {},
     "output_type": "display_data"
    },
    {
     "name": "stdout",
     "output_type": "stream",
     "text": [
      "H2O session _sid_a214 closed."
     ]
    },
    {
     "name": "stdout",
     "output_type": "stream",
     "text": [
      "\n"
     ]
    },
    {
     "name": "stdout",
     "output_type": "stream",
     "text": [
      "<class 'h2o.automl.autoh2o.H2OAutoML'>"
     ]
    },
    {
     "name": "stdout",
     "output_type": "stream",
     "text": [
      "\n"
     ]
    },
    {
     "name": "stdout",
     "output_type": "stream",
     "text": [
      "0.315"
     ]
    },
    {
     "name": "stdout",
     "output_type": "stream",
     "text": [
      "\n"
     ]
    },
    {
     "name": "stdout",
     "output_type": "stream",
     "text": [
      "Checking whether there is an H2O instance running at http://localhost:54321 "
     ]
    },
    {
     "name": "stdout",
     "output_type": "stream",
     "text": [
      "."
     ]
    },
    {
     "name": "stdout",
     "output_type": "stream",
     "text": [
      "."
     ]
    },
    {
     "name": "stdout",
     "output_type": "stream",
     "text": [
      "."
     ]
    },
    {
     "name": "stdout",
     "output_type": "stream",
     "text": [
      "."
     ]
    },
    {
     "name": "stdout",
     "output_type": "stream",
     "text": [
      "."
     ]
    },
    {
     "name": "stdout",
     "output_type": "stream",
     "text": [
      " not found."
     ]
    },
    {
     "name": "stdout",
     "output_type": "stream",
     "text": [
      "\n"
     ]
    },
    {
     "name": "stdout",
     "output_type": "stream",
     "text": [
      "Attempting to start a local H2O server..."
     ]
    },
    {
     "name": "stdout",
     "output_type": "stream",
     "text": [
      "\n"
     ]
    },
    {
     "name": "stdout",
     "output_type": "stream",
     "text": [
      "  Java Version: openjdk version \"11.0.2\" 2019-01-15; OpenJDK Runtime Environment 18.9 (build 11.0.2+9); OpenJDK 64-Bit Server VM 18.9 (build 11.0.2+9, mixed mode)"
     ]
    },
    {
     "name": "stdout",
     "output_type": "stream",
     "text": [
      "\n"
     ]
    },
    {
     "name": "stdout",
     "output_type": "stream",
     "text": [
      "  Starting server from /wrk/users/thalvari/dpEmu-AutoML/venv/lib/python3.6/site-packages/h2o/backend/bin/h2o.jar"
     ]
    },
    {
     "name": "stdout",
     "output_type": "stream",
     "text": [
      "\n"
     ]
    },
    {
     "name": "stdout",
     "output_type": "stream",
     "text": [
      "  Ice root: /wrk/users/thalvari/tmpd5pb0hd8"
     ]
    },
    {
     "name": "stdout",
     "output_type": "stream",
     "text": [
      "\n"
     ]
    },
    {
     "name": "stdout",
     "output_type": "stream",
     "text": [
      "  JVM stdout: /wrk/users/thalvari/tmpd5pb0hd8/h2o_thalvari_started_from_python.out"
     ]
    },
    {
     "name": "stdout",
     "output_type": "stream",
     "text": [
      "\n"
     ]
    },
    {
     "name": "stdout",
     "output_type": "stream",
     "text": [
      "  JVM stderr: /wrk/users/thalvari/tmpd5pb0hd8/h2o_thalvari_started_from_python.err"
     ]
    },
    {
     "name": "stdout",
     "output_type": "stream",
     "text": [
      "\n"
     ]
    },
    {
     "name": "stdout",
     "output_type": "stream",
     "text": [
      "  Server is running at http://127.0.0.1:54321"
     ]
    },
    {
     "name": "stdout",
     "output_type": "stream",
     "text": [
      "\n"
     ]
    },
    {
     "name": "stdout",
     "output_type": "stream",
     "text": [
      "Connecting to H2O server at http://127.0.0.1:54321 .."
     ]
    },
    {
     "name": "stdout",
     "output_type": "stream",
     "text": [
      "."
     ]
    },
    {
     "name": "stdout",
     "output_type": "stream",
     "text": [
      " successful."
     ]
    },
    {
     "name": "stdout",
     "output_type": "stream",
     "text": [
      "\n"
     ]
    },
    {
     "data": {
      "text/html": [
       "<div style=\"overflow:auto\"><table style=\"width:50%\"><tr><td>H2O cluster uptime:</td>\n",
       "<td>01 secs</td></tr>\n",
       "<tr><td>H2O cluster timezone:</td>\n",
       "<td>Europe/Helsinki</td></tr>\n",
       "<tr><td>H2O data parsing timezone:</td>\n",
       "<td>UTC</td></tr>\n",
       "<tr><td>H2O cluster version:</td>\n",
       "<td>3.26.0.10</td></tr>\n",
       "<tr><td>H2O cluster version age:</td>\n",
       "<td>12 days </td></tr>\n",
       "<tr><td>H2O cluster name:</td>\n",
       "<td>#536885468</td></tr>\n",
       "<tr><td>H2O cluster total nodes:</td>\n",
       "<td>1</td></tr>\n",
       "<tr><td>H2O cluster free memory:</td>\n",
       "<td>29.97 Gb</td></tr>\n",
       "<tr><td>H2O cluster total cores:</td>\n",
       "<td>40</td></tr>\n",
       "<tr><td>H2O cluster allowed cores:</td>\n",
       "<td>20</td></tr>\n",
       "<tr><td>H2O cluster status:</td>\n",
       "<td>accepting new members, healthy</td></tr>\n",
       "<tr><td>H2O connection url:</td>\n",
       "<td>http://127.0.0.1:54321</td></tr>\n",
       "<tr><td>H2O connection proxy:</td>\n",
       "<td>{'http': None, 'https': None}</td></tr>\n",
       "<tr><td>H2O internal security:</td>\n",
       "<td>False</td></tr>\n",
       "<tr><td>H2O API Extensions:</td>\n",
       "<td>Amazon S3, XGBoost, Algos, AutoML, Core V3, TargetEncoder, Core V4</td></tr>\n",
       "<tr><td>Python version:</td>\n",
       "<td>3.6.6 final</td></tr></table></div>"
      ],
      "text/plain": [
       "--------------------------  ------------------------------------------------------------------\n",
       "H2O cluster uptime:         01 secs\n",
       "H2O cluster timezone:       Europe/Helsinki\n",
       "H2O data parsing timezone:  UTC\n",
       "H2O cluster version:        3.26.0.10\n",
       "H2O cluster version age:    12 days\n",
       "H2O cluster name:           #536885468\n",
       "H2O cluster total nodes:    1\n",
       "H2O cluster free memory:    29.97 Gb\n",
       "H2O cluster total cores:    40\n",
       "H2O cluster allowed cores:  20\n",
       "H2O cluster status:         accepting new members, healthy\n",
       "H2O connection url:         http://127.0.0.1:54321\n",
       "H2O connection proxy:       {'http': None, 'https': None}\n",
       "H2O internal security:      False\n",
       "H2O API Extensions:         Amazon S3, XGBoost, Algos, AutoML, Core V3, TargetEncoder, Core V4\n",
       "Python version:             3.6.6 final\n",
       "--------------------------  ------------------------------------------------------------------"
      ]
     },
     "metadata": {},
     "output_type": "display_data"
    },
    {
     "name": "stdout",
     "output_type": "stream",
     "text": [
      "H2O session _sid_ad74 closed."
     ]
    },
    {
     "name": "stdout",
     "output_type": "stream",
     "text": [
      "\n"
     ]
    },
    {
     "name": "stdout",
     "output_type": "stream",
     "text": [
      "<class 'h2o.automl.autoh2o.H2OAutoML'>"
     ]
    },
    {
     "name": "stdout",
     "output_type": "stream",
     "text": [
      "\n"
     ]
    },
    {
     "name": "stdout",
     "output_type": "stream",
     "text": [
      "0.195"
     ]
    },
    {
     "name": "stdout",
     "output_type": "stream",
     "text": [
      "\n"
     ]
    },
    {
     "name": "stderr",
     "output_type": "stream",
     "text": [
      "\r",
      "100%|██████████| 6/6 [18:12:40<00:00, 10892.25s/it]  "
     ]
    },
    {
     "name": "stderr",
     "output_type": "stream",
     "text": [
      "\r",
      "100%|██████████| 6/6 [18:12:40<00:00, 10926.82s/it]"
     ]
    },
    {
     "name": "stderr",
     "output_type": "stream",
     "text": [
      "\n"
     ]
    }
   ],
   "source": [
    "train_data, test_data, train_labels, test_labels = get_data()\n",
    "\n",
    "df = runner.run(\n",
    "    train_data=train_data,\n",
    "    test_data=test_data,\n",
    "    preproc=Preprocessor,\n",
    "    preproc_params=None,\n",
    "    err_root_node=get_err_root_node(),\n",
    "    # err_params_list=get_err_params_list(),\n",
    "    err_params_list=get_err_params_list(train_data),\n",
    "    model_params_dict_list=get_model_params_dict_list(train_labels, test_labels),\n",
    "    n_processes=1\n",
    ")"
   ]
  },
  {
   "cell_type": "code",
   "execution_count": 11,
   "metadata": {
    "collapsed": false,
    "papermill": {
     "duration": 2.025392,
     "end_time": "2019-11-19T23:14:35.401117",
     "exception": false,
     "start_time": "2019-11-19T23:14:33.375725",
     "status": "completed"
    },
    "pycharm": {
     "is_executing": false,
     "name": "#%%\n"
    },
    "tags": []
   },
   "outputs": [
    {
     "data": {
      "text/plain": [
       "'AutoKeras #1'"
      ]
     },
     "metadata": {},
     "output_type": "display_data"
    },
    {
     "data": {
      "text/html": [
       "<style  type=\"text/css\" >\n",
       "</style><table id=\"T_59022aa2_0b22_11ea_9a7a_80000208fe80\" ><thead>    <tr>        <th class=\"col_heading level0 col0\" >std</th>        <th class=\"col_heading level0 col1\" >test_acc</th>        <th class=\"col_heading level0 col2\" >train_acc</th>        <th class=\"col_heading level0 col3\" >time_err</th>        <th class=\"col_heading level0 col4\" >time_pre</th>        <th class=\"col_heading level0 col5\" >time_mod</th>    </tr></thead><tbody>\n",
       "                <tr>\n",
       "                                <td id=\"T_59022aa2_0b22_11ea_9a7a_80000208fe80row0_col0\" class=\"data row0 col0\" >0</td>\n",
       "                        <td id=\"T_59022aa2_0b22_11ea_9a7a_80000208fe80row0_col1\" class=\"data row0 col1\" >0.988</td>\n",
       "                        <td id=\"T_59022aa2_0b22_11ea_9a7a_80000208fe80row0_col2\" class=\"data row0 col2\" >0.999</td>\n",
       "                        <td id=\"T_59022aa2_0b22_11ea_9a7a_80000208fe80row0_col3\" class=\"data row0 col3\" >0.141</td>\n",
       "                        <td id=\"T_59022aa2_0b22_11ea_9a7a_80000208fe80row0_col4\" class=\"data row0 col4\" >0.001</td>\n",
       "                        <td id=\"T_59022aa2_0b22_11ea_9a7a_80000208fe80row0_col5\" class=\"data row0 col5\" >1804.47</td>\n",
       "            </tr>\n",
       "            <tr>\n",
       "                                <td id=\"T_59022aa2_0b22_11ea_9a7a_80000208fe80row1_col0\" class=\"data row1 col0\" >3.2</td>\n",
       "                        <td id=\"T_59022aa2_0b22_11ea_9a7a_80000208fe80row1_col1\" class=\"data row1 col1\" >0.891</td>\n",
       "                        <td id=\"T_59022aa2_0b22_11ea_9a7a_80000208fe80row1_col2\" class=\"data row1 col2\" >0.984</td>\n",
       "                        <td id=\"T_59022aa2_0b22_11ea_9a7a_80000208fe80row1_col3\" class=\"data row1 col3\" >0.106</td>\n",
       "                        <td id=\"T_59022aa2_0b22_11ea_9a7a_80000208fe80row1_col4\" class=\"data row1 col4\" >0.001</td>\n",
       "                        <td id=\"T_59022aa2_0b22_11ea_9a7a_80000208fe80row1_col5\" class=\"data row1 col5\" >1802.63</td>\n",
       "            </tr>\n",
       "            <tr>\n",
       "                                <td id=\"T_59022aa2_0b22_11ea_9a7a_80000208fe80row2_col0\" class=\"data row2 col0\" >6.4</td>\n",
       "                        <td id=\"T_59022aa2_0b22_11ea_9a7a_80000208fe80row2_col1\" class=\"data row2 col1\" >0.728</td>\n",
       "                        <td id=\"T_59022aa2_0b22_11ea_9a7a_80000208fe80row2_col2\" class=\"data row2 col2\" >0.967</td>\n",
       "                        <td id=\"T_59022aa2_0b22_11ea_9a7a_80000208fe80row2_col3\" class=\"data row2 col3\" >0.115</td>\n",
       "                        <td id=\"T_59022aa2_0b22_11ea_9a7a_80000208fe80row2_col4\" class=\"data row2 col4\" >0.002</td>\n",
       "                        <td id=\"T_59022aa2_0b22_11ea_9a7a_80000208fe80row2_col5\" class=\"data row2 col5\" >1803.7</td>\n",
       "            </tr>\n",
       "            <tr>\n",
       "                                <td id=\"T_59022aa2_0b22_11ea_9a7a_80000208fe80row3_col0\" class=\"data row3 col0\" >9.6</td>\n",
       "                        <td id=\"T_59022aa2_0b22_11ea_9a7a_80000208fe80row3_col1\" class=\"data row3 col1\" >0.463</td>\n",
       "                        <td id=\"T_59022aa2_0b22_11ea_9a7a_80000208fe80row3_col2\" class=\"data row3 col2\" >0.923</td>\n",
       "                        <td id=\"T_59022aa2_0b22_11ea_9a7a_80000208fe80row3_col3\" class=\"data row3 col3\" >0.105</td>\n",
       "                        <td id=\"T_59022aa2_0b22_11ea_9a7a_80000208fe80row3_col4\" class=\"data row3 col4\" >0.001</td>\n",
       "                        <td id=\"T_59022aa2_0b22_11ea_9a7a_80000208fe80row3_col5\" class=\"data row3 col5\" >1818.08</td>\n",
       "            </tr>\n",
       "            <tr>\n",
       "                                <td id=\"T_59022aa2_0b22_11ea_9a7a_80000208fe80row4_col0\" class=\"data row4 col0\" >12.8</td>\n",
       "                        <td id=\"T_59022aa2_0b22_11ea_9a7a_80000208fe80row4_col1\" class=\"data row4 col1\" >0.342</td>\n",
       "                        <td id=\"T_59022aa2_0b22_11ea_9a7a_80000208fe80row4_col2\" class=\"data row4 col2\" >0.845</td>\n",
       "                        <td id=\"T_59022aa2_0b22_11ea_9a7a_80000208fe80row4_col3\" class=\"data row4 col3\" >0.1</td>\n",
       "                        <td id=\"T_59022aa2_0b22_11ea_9a7a_80000208fe80row4_col4\" class=\"data row4 col4\" >0.001</td>\n",
       "                        <td id=\"T_59022aa2_0b22_11ea_9a7a_80000208fe80row4_col5\" class=\"data row4 col5\" >1812.14</td>\n",
       "            </tr>\n",
       "            <tr>\n",
       "                                <td id=\"T_59022aa2_0b22_11ea_9a7a_80000208fe80row5_col0\" class=\"data row5 col0\" >16</td>\n",
       "                        <td id=\"T_59022aa2_0b22_11ea_9a7a_80000208fe80row5_col1\" class=\"data row5 col1\" >0.222</td>\n",
       "                        <td id=\"T_59022aa2_0b22_11ea_9a7a_80000208fe80row5_col2\" class=\"data row5 col2\" >0.697</td>\n",
       "                        <td id=\"T_59022aa2_0b22_11ea_9a7a_80000208fe80row5_col3\" class=\"data row5 col3\" >0.1</td>\n",
       "                        <td id=\"T_59022aa2_0b22_11ea_9a7a_80000208fe80row5_col4\" class=\"data row5 col4\" >0.001</td>\n",
       "                        <td id=\"T_59022aa2_0b22_11ea_9a7a_80000208fe80row5_col5\" class=\"data row5 col5\" >1806.56</td>\n",
       "            </tr>\n",
       "    </tbody></table>"
      ],
      "text/plain": [
       "<pandas.io.formats.style.Styler at 0x2b02cebb58d0>"
      ]
     },
     "metadata": {},
     "output_type": "display_data"
    },
    {
     "data": {
      "text/html": [
       "<style  type=\"text/css\" >\n",
       "</style><table id=\"T_5908f18e_0b22_11ea_9a7a_80000208fe80\" ><thead>    <tr>        <th class=\"col_heading level0 col0\" >std</th>        <th class=\"col_heading level0 col1\" >pipe_0</th>        <th class=\"col_heading level0 col2\" >pipe_1</th>        <th class=\"col_heading level0 col3\" >pipe_2</th>        <th class=\"col_heading level0 col4\" >pipe_3</th>        <th class=\"col_heading level0 col5\" >pipe_4</th>        <th class=\"col_heading level0 col6\" >pipe_5</th>        <th class=\"col_heading level0 col7\" >pipe_6</th>        <th class=\"col_heading level0 col8\" >pipe_7</th>        <th class=\"col_heading level0 col9\" >pipe_8</th>        <th class=\"col_heading level0 col10\" >pipe_9</th>        <th class=\"col_heading level0 col11\" >pipe_10</th>        <th class=\"col_heading level0 col12\" >pipe_11</th>        <th class=\"col_heading level0 col13\" >pipe_12</th>        <th class=\"col_heading level0 col14\" >pipe_13</th>        <th class=\"col_heading level0 col15\" >pipe_14</th>        <th class=\"col_heading level0 col16\" >pipe_15</th>        <th class=\"col_heading level0 col17\" >pipe_16</th>        <th class=\"col_heading level0 col18\" >pipe_17</th>        <th class=\"col_heading level0 col19\" >pipe_18</th>        <th class=\"col_heading level0 col20\" >pipe_19</th>        <th class=\"col_heading level0 col21\" >pipe_20</th>        <th class=\"col_heading level0 col22\" >pipe_21</th>        <th class=\"col_heading level0 col23\" >pipe_22</th>        <th class=\"col_heading level0 col24\" >pipe_23</th>        <th class=\"col_heading level0 col25\" >pipe_24</th>        <th class=\"col_heading level0 col26\" >pipe_25</th>        <th class=\"col_heading level0 col27\" >pipe_26</th>        <th class=\"col_heading level0 col28\" >pipe_27</th>        <th class=\"col_heading level0 col29\" >pipe_28</th>        <th class=\"col_heading level0 col30\" >pipe_29</th>        <th class=\"col_heading level0 col31\" >pipe_30</th>        <th class=\"col_heading level0 col32\" >pipe_31</th>        <th class=\"col_heading level0 col33\" >pipe_32</th>        <th class=\"col_heading level0 col34\" >pipe_33</th>        <th class=\"col_heading level0 col35\" >pipe_34</th>        <th class=\"col_heading level0 col36\" >pipe_35</th>        <th class=\"col_heading level0 col37\" >pipe_36</th>        <th class=\"col_heading level0 col38\" >pipe_37</th>        <th class=\"col_heading level0 col39\" >pipe_38</th>        <th class=\"col_heading level0 col40\" >pipe_39</th>        <th class=\"col_heading level0 col41\" >pipe_40</th>        <th class=\"col_heading level0 col42\" >pipe_41</th>        <th class=\"col_heading level0 col43\" >pipe_42</th>        <th class=\"col_heading level0 col44\" >pipe_43</th>        <th class=\"col_heading level0 col45\" >pipe_44</th>        <th class=\"col_heading level0 col46\" >pipe_45</th>        <th class=\"col_heading level0 col47\" >pipe_46</th>        <th class=\"col_heading level0 col48\" >pipe_47</th>        <th class=\"col_heading level0 col49\" >pipe_48</th>        <th class=\"col_heading level0 col50\" >pipe_49</th>        <th class=\"col_heading level0 col51\" >pipe_50</th>        <th class=\"col_heading level0 col52\" >pipe_51</th>        <th class=\"col_heading level0 col53\" >pipe_52</th>        <th class=\"col_heading level0 col54\" >pipe_53</th>        <th class=\"col_heading level0 col55\" >pipe_54</th>        <th class=\"col_heading level0 col56\" >pipe_55</th>        <th class=\"col_heading level0 col57\" >pipe_56</th>        <th class=\"col_heading level0 col58\" >pipe_57</th>        <th class=\"col_heading level0 col59\" >pipe_58</th>        <th class=\"col_heading level0 col60\" >pipe_59</th>        <th class=\"col_heading level0 col61\" >pipe_60</th>        <th class=\"col_heading level0 col62\" >pipe_61</th>        <th class=\"col_heading level0 col63\" >pipe_62</th>        <th class=\"col_heading level0 col64\" >pipe_63</th>        <th class=\"col_heading level0 col65\" >pipe_64</th>        <th class=\"col_heading level0 col66\" >pipe_65</th>        <th class=\"col_heading level0 col67\" >pipe_66</th>        <th class=\"col_heading level0 col68\" >pipe_67</th>        <th class=\"col_heading level0 col69\" >pipe_68</th>        <th class=\"col_heading level0 col70\" >pipe_69</th>        <th class=\"col_heading level0 col71\" >pipe_70</th>        <th class=\"col_heading level0 col72\" >pipe_71</th>        <th class=\"col_heading level0 col73\" >pipe_72</th>        <th class=\"col_heading level0 col74\" >pipe_73</th>        <th class=\"col_heading level0 col75\" >pipe_74</th>        <th class=\"col_heading level0 col76\" >pipe_75</th>    </tr></thead><tbody>\n",
       "                <tr>\n",
       "                                <td id=\"T_5908f18e_0b22_11ea_9a7a_80000208fe80row0_col0\" class=\"data row0 col0\" >0</td>\n",
       "                        <td id=\"T_5908f18e_0b22_11ea_9a7a_80000208fe80row0_col1\" class=\"data row0 col1\" >Conv2d(1, 64, kernel_size=(3, 3), stride=(1, 1), padding=(1, 1))</td>\n",
       "                        <td id=\"T_5908f18e_0b22_11ea_9a7a_80000208fe80row0_col2\" class=\"data row0 col2\" >BatchNorm2d(64, eps=1e-05, momentum=0.1, affine=True, track_running_stats=True)</td>\n",
       "                        <td id=\"T_5908f18e_0b22_11ea_9a7a_80000208fe80row0_col3\" class=\"data row0 col3\" >BatchNorm2d(64, eps=1e-05, momentum=0.1, affine=True, track_running_stats=True)</td>\n",
       "                        <td id=\"T_5908f18e_0b22_11ea_9a7a_80000208fe80row0_col4\" class=\"data row0 col4\" >ReLU()</td>\n",
       "                        <td id=\"T_5908f18e_0b22_11ea_9a7a_80000208fe80row0_col5\" class=\"data row0 col5\" >Conv2d(64, 64, kernel_size=(3, 3), stride=(1, 1), padding=(1, 1))</td>\n",
       "                        <td id=\"T_5908f18e_0b22_11ea_9a7a_80000208fe80row0_col6\" class=\"data row0 col6\" >BatchNorm2d(64, eps=1e-05, momentum=0.1, affine=True, track_running_stats=True)</td>\n",
       "                        <td id=\"T_5908f18e_0b22_11ea_9a7a_80000208fe80row0_col7\" class=\"data row0 col7\" >ReLU()</td>\n",
       "                        <td id=\"T_5908f18e_0b22_11ea_9a7a_80000208fe80row0_col8\" class=\"data row0 col8\" >Conv2d(64, 64, kernel_size=(3, 3), stride=(1, 1), padding=(1, 1))</td>\n",
       "                        <td id=\"T_5908f18e_0b22_11ea_9a7a_80000208fe80row0_col9\" class=\"data row0 col9\" >ReLU()</td>\n",
       "                        <td id=\"T_5908f18e_0b22_11ea_9a7a_80000208fe80row0_col10\" class=\"data row0 col10\" >Conv2d(64, 64, kernel_size=(1, 1), stride=(1, 1))</td>\n",
       "                        <td id=\"T_5908f18e_0b22_11ea_9a7a_80000208fe80row0_col11\" class=\"data row0 col11\" >TorchAdd()</td>\n",
       "                        <td id=\"T_5908f18e_0b22_11ea_9a7a_80000208fe80row0_col12\" class=\"data row0 col12\" >BatchNorm2d(64, eps=1e-05, momentum=0.1, affine=True, track_running_stats=True)</td>\n",
       "                        <td id=\"T_5908f18e_0b22_11ea_9a7a_80000208fe80row0_col13\" class=\"data row0 col13\" >ReLU()</td>\n",
       "                        <td id=\"T_5908f18e_0b22_11ea_9a7a_80000208fe80row0_col14\" class=\"data row0 col14\" >Conv2d(64, 64, kernel_size=(3, 3), stride=(1, 1), padding=(1, 1))</td>\n",
       "                        <td id=\"T_5908f18e_0b22_11ea_9a7a_80000208fe80row0_col15\" class=\"data row0 col15\" >BatchNorm2d(64, eps=1e-05, momentum=0.1, affine=True, track_running_stats=True)</td>\n",
       "                        <td id=\"T_5908f18e_0b22_11ea_9a7a_80000208fe80row0_col16\" class=\"data row0 col16\" >ReLU()</td>\n",
       "                        <td id=\"T_5908f18e_0b22_11ea_9a7a_80000208fe80row0_col17\" class=\"data row0 col17\" >Conv2d(64, 64, kernel_size=(3, 3), stride=(1, 1), padding=(1, 1))</td>\n",
       "                        <td id=\"T_5908f18e_0b22_11ea_9a7a_80000208fe80row0_col18\" class=\"data row0 col18\" >ReLU()</td>\n",
       "                        <td id=\"T_5908f18e_0b22_11ea_9a7a_80000208fe80row0_col19\" class=\"data row0 col19\" >Conv2d(64, 64, kernel_size=(1, 1), stride=(1, 1))</td>\n",
       "                        <td id=\"T_5908f18e_0b22_11ea_9a7a_80000208fe80row0_col20\" class=\"data row0 col20\" >TorchAdd()</td>\n",
       "                        <td id=\"T_5908f18e_0b22_11ea_9a7a_80000208fe80row0_col21\" class=\"data row0 col21\" >BatchNorm2d(64, eps=1e-05, momentum=0.1, affine=True, track_running_stats=True)</td>\n",
       "                        <td id=\"T_5908f18e_0b22_11ea_9a7a_80000208fe80row0_col22\" class=\"data row0 col22\" >ReLU()</td>\n",
       "                        <td id=\"T_5908f18e_0b22_11ea_9a7a_80000208fe80row0_col23\" class=\"data row0 col23\" >Conv2d(64, 128, kernel_size=(3, 3), stride=(2, 2), padding=(1, 1))</td>\n",
       "                        <td id=\"T_5908f18e_0b22_11ea_9a7a_80000208fe80row0_col24\" class=\"data row0 col24\" >BatchNorm2d(128, eps=1e-05, momentum=0.1, affine=True, track_running_stats=True)</td>\n",
       "                        <td id=\"T_5908f18e_0b22_11ea_9a7a_80000208fe80row0_col25\" class=\"data row0 col25\" >ReLU()</td>\n",
       "                        <td id=\"T_5908f18e_0b22_11ea_9a7a_80000208fe80row0_col26\" class=\"data row0 col26\" >Conv2d(128, 128, kernel_size=(3, 3), stride=(1, 1), padding=(1, 1))</td>\n",
       "                        <td id=\"T_5908f18e_0b22_11ea_9a7a_80000208fe80row0_col27\" class=\"data row0 col27\" >ReLU()</td>\n",
       "                        <td id=\"T_5908f18e_0b22_11ea_9a7a_80000208fe80row0_col28\" class=\"data row0 col28\" >Conv2d(64, 128, kernel_size=(1, 1), stride=(2, 2))</td>\n",
       "                        <td id=\"T_5908f18e_0b22_11ea_9a7a_80000208fe80row0_col29\" class=\"data row0 col29\" >TorchAdd()</td>\n",
       "                        <td id=\"T_5908f18e_0b22_11ea_9a7a_80000208fe80row0_col30\" class=\"data row0 col30\" >BatchNorm2d(128, eps=1e-05, momentum=0.1, affine=True, track_running_stats=True)</td>\n",
       "                        <td id=\"T_5908f18e_0b22_11ea_9a7a_80000208fe80row0_col31\" class=\"data row0 col31\" >ReLU()</td>\n",
       "                        <td id=\"T_5908f18e_0b22_11ea_9a7a_80000208fe80row0_col32\" class=\"data row0 col32\" >Conv2d(128, 128, kernel_size=(3, 3), stride=(1, 1), padding=(1, 1))</td>\n",
       "                        <td id=\"T_5908f18e_0b22_11ea_9a7a_80000208fe80row0_col33\" class=\"data row0 col33\" >BatchNorm2d(128, eps=1e-05, momentum=0.1, affine=True, track_running_stats=True)</td>\n",
       "                        <td id=\"T_5908f18e_0b22_11ea_9a7a_80000208fe80row0_col34\" class=\"data row0 col34\" >ReLU()</td>\n",
       "                        <td id=\"T_5908f18e_0b22_11ea_9a7a_80000208fe80row0_col35\" class=\"data row0 col35\" >Conv2d(128, 128, kernel_size=(3, 3), stride=(1, 1), padding=(1, 1))</td>\n",
       "                        <td id=\"T_5908f18e_0b22_11ea_9a7a_80000208fe80row0_col36\" class=\"data row0 col36\" >ReLU()</td>\n",
       "                        <td id=\"T_5908f18e_0b22_11ea_9a7a_80000208fe80row0_col37\" class=\"data row0 col37\" >Conv2d(128, 128, kernel_size=(1, 1), stride=(1, 1))</td>\n",
       "                        <td id=\"T_5908f18e_0b22_11ea_9a7a_80000208fe80row0_col38\" class=\"data row0 col38\" >TorchAdd()</td>\n",
       "                        <td id=\"T_5908f18e_0b22_11ea_9a7a_80000208fe80row0_col39\" class=\"data row0 col39\" >BatchNorm2d(128, eps=1e-05, momentum=0.1, affine=True, track_running_stats=True)</td>\n",
       "                        <td id=\"T_5908f18e_0b22_11ea_9a7a_80000208fe80row0_col40\" class=\"data row0 col40\" >ReLU()</td>\n",
       "                        <td id=\"T_5908f18e_0b22_11ea_9a7a_80000208fe80row0_col41\" class=\"data row0 col41\" >Conv2d(128, 256, kernel_size=(3, 3), stride=(2, 2), padding=(1, 1))</td>\n",
       "                        <td id=\"T_5908f18e_0b22_11ea_9a7a_80000208fe80row0_col42\" class=\"data row0 col42\" >BatchNorm2d(256, eps=1e-05, momentum=0.1, affine=True, track_running_stats=True)</td>\n",
       "                        <td id=\"T_5908f18e_0b22_11ea_9a7a_80000208fe80row0_col43\" class=\"data row0 col43\" >ReLU()</td>\n",
       "                        <td id=\"T_5908f18e_0b22_11ea_9a7a_80000208fe80row0_col44\" class=\"data row0 col44\" >Conv2d(256, 256, kernel_size=(3, 3), stride=(1, 1), padding=(1, 1))</td>\n",
       "                        <td id=\"T_5908f18e_0b22_11ea_9a7a_80000208fe80row0_col45\" class=\"data row0 col45\" >ReLU()</td>\n",
       "                        <td id=\"T_5908f18e_0b22_11ea_9a7a_80000208fe80row0_col46\" class=\"data row0 col46\" >Conv2d(128, 256, kernel_size=(1, 1), stride=(2, 2))</td>\n",
       "                        <td id=\"T_5908f18e_0b22_11ea_9a7a_80000208fe80row0_col47\" class=\"data row0 col47\" >TorchAdd()</td>\n",
       "                        <td id=\"T_5908f18e_0b22_11ea_9a7a_80000208fe80row0_col48\" class=\"data row0 col48\" >BatchNorm2d(256, eps=1e-05, momentum=0.1, affine=True, track_running_stats=True)</td>\n",
       "                        <td id=\"T_5908f18e_0b22_11ea_9a7a_80000208fe80row0_col49\" class=\"data row0 col49\" >ReLU()</td>\n",
       "                        <td id=\"T_5908f18e_0b22_11ea_9a7a_80000208fe80row0_col50\" class=\"data row0 col50\" >Conv2d(256, 256, kernel_size=(3, 3), stride=(1, 1), padding=(1, 1))</td>\n",
       "                        <td id=\"T_5908f18e_0b22_11ea_9a7a_80000208fe80row0_col51\" class=\"data row0 col51\" >BatchNorm2d(256, eps=1e-05, momentum=0.1, affine=True, track_running_stats=True)</td>\n",
       "                        <td id=\"T_5908f18e_0b22_11ea_9a7a_80000208fe80row0_col52\" class=\"data row0 col52\" >ReLU()</td>\n",
       "                        <td id=\"T_5908f18e_0b22_11ea_9a7a_80000208fe80row0_col53\" class=\"data row0 col53\" >Conv2d(256, 256, kernel_size=(3, 3), stride=(1, 1), padding=(1, 1))</td>\n",
       "                        <td id=\"T_5908f18e_0b22_11ea_9a7a_80000208fe80row0_col54\" class=\"data row0 col54\" >ReLU()</td>\n",
       "                        <td id=\"T_5908f18e_0b22_11ea_9a7a_80000208fe80row0_col55\" class=\"data row0 col55\" >Conv2d(256, 256, kernel_size=(1, 1), stride=(1, 1))</td>\n",
       "                        <td id=\"T_5908f18e_0b22_11ea_9a7a_80000208fe80row0_col56\" class=\"data row0 col56\" >TorchAdd()</td>\n",
       "                        <td id=\"T_5908f18e_0b22_11ea_9a7a_80000208fe80row0_col57\" class=\"data row0 col57\" >BatchNorm2d(256, eps=1e-05, momentum=0.1, affine=True, track_running_stats=True)</td>\n",
       "                        <td id=\"T_5908f18e_0b22_11ea_9a7a_80000208fe80row0_col58\" class=\"data row0 col58\" >ReLU()</td>\n",
       "                        <td id=\"T_5908f18e_0b22_11ea_9a7a_80000208fe80row0_col59\" class=\"data row0 col59\" >Conv2d(256, 512, kernel_size=(3, 3), stride=(2, 2), padding=(1, 1))</td>\n",
       "                        <td id=\"T_5908f18e_0b22_11ea_9a7a_80000208fe80row0_col60\" class=\"data row0 col60\" >BatchNorm2d(512, eps=1e-05, momentum=0.1, affine=True, track_running_stats=True)</td>\n",
       "                        <td id=\"T_5908f18e_0b22_11ea_9a7a_80000208fe80row0_col61\" class=\"data row0 col61\" >ReLU()</td>\n",
       "                        <td id=\"T_5908f18e_0b22_11ea_9a7a_80000208fe80row0_col62\" class=\"data row0 col62\" >Conv2d(512, 512, kernel_size=(3, 3), stride=(1, 1), padding=(1, 1))</td>\n",
       "                        <td id=\"T_5908f18e_0b22_11ea_9a7a_80000208fe80row0_col63\" class=\"data row0 col63\" >ReLU()</td>\n",
       "                        <td id=\"T_5908f18e_0b22_11ea_9a7a_80000208fe80row0_col64\" class=\"data row0 col64\" >Conv2d(256, 512, kernel_size=(1, 1), stride=(2, 2))</td>\n",
       "                        <td id=\"T_5908f18e_0b22_11ea_9a7a_80000208fe80row0_col65\" class=\"data row0 col65\" >TorchAdd()</td>\n",
       "                        <td id=\"T_5908f18e_0b22_11ea_9a7a_80000208fe80row0_col66\" class=\"data row0 col66\" >BatchNorm2d(512, eps=1e-05, momentum=0.1, affine=True, track_running_stats=True)</td>\n",
       "                        <td id=\"T_5908f18e_0b22_11ea_9a7a_80000208fe80row0_col67\" class=\"data row0 col67\" >ReLU()</td>\n",
       "                        <td id=\"T_5908f18e_0b22_11ea_9a7a_80000208fe80row0_col68\" class=\"data row0 col68\" >Conv2d(512, 512, kernel_size=(3, 3), stride=(1, 1), padding=(1, 1))</td>\n",
       "                        <td id=\"T_5908f18e_0b22_11ea_9a7a_80000208fe80row0_col69\" class=\"data row0 col69\" >BatchNorm2d(512, eps=1e-05, momentum=0.1, affine=True, track_running_stats=True)</td>\n",
       "                        <td id=\"T_5908f18e_0b22_11ea_9a7a_80000208fe80row0_col70\" class=\"data row0 col70\" >ReLU()</td>\n",
       "                        <td id=\"T_5908f18e_0b22_11ea_9a7a_80000208fe80row0_col71\" class=\"data row0 col71\" >Conv2d(512, 512, kernel_size=(3, 3), stride=(1, 1), padding=(1, 1))</td>\n",
       "                        <td id=\"T_5908f18e_0b22_11ea_9a7a_80000208fe80row0_col72\" class=\"data row0 col72\" >ReLU()</td>\n",
       "                        <td id=\"T_5908f18e_0b22_11ea_9a7a_80000208fe80row0_col73\" class=\"data row0 col73\" >Conv2d(512, 512, kernel_size=(1, 1), stride=(1, 1))</td>\n",
       "                        <td id=\"T_5908f18e_0b22_11ea_9a7a_80000208fe80row0_col74\" class=\"data row0 col74\" >TorchAdd()</td>\n",
       "                        <td id=\"T_5908f18e_0b22_11ea_9a7a_80000208fe80row0_col75\" class=\"data row0 col75\" >GlobalAvgPool2d()</td>\n",
       "                        <td id=\"T_5908f18e_0b22_11ea_9a7a_80000208fe80row0_col76\" class=\"data row0 col76\" >Linear(in_features=512, out_features=10, bias=True)</td>\n",
       "            </tr>\n",
       "            <tr>\n",
       "                                <td id=\"T_5908f18e_0b22_11ea_9a7a_80000208fe80row1_col0\" class=\"data row1 col0\" >3.2</td>\n",
       "                        <td id=\"T_5908f18e_0b22_11ea_9a7a_80000208fe80row1_col1\" class=\"data row1 col1\" >ReLU()</td>\n",
       "                        <td id=\"T_5908f18e_0b22_11ea_9a7a_80000208fe80row1_col2\" class=\"data row1 col2\" >BatchNorm2d(1, eps=1e-05, momentum=0.1, affine=True, track_running_stats=True)</td>\n",
       "                        <td id=\"T_5908f18e_0b22_11ea_9a7a_80000208fe80row1_col3\" class=\"data row1 col3\" >Conv2d(1, 64, kernel_size=(3, 3), stride=(1, 1), padding=(1, 1))</td>\n",
       "                        <td id=\"T_5908f18e_0b22_11ea_9a7a_80000208fe80row1_col4\" class=\"data row1 col4\" >MaxPool2d(kernel_size=2, stride=2, padding=0, dilation=1, ceil_mode=False)</td>\n",
       "                        <td id=\"T_5908f18e_0b22_11ea_9a7a_80000208fe80row1_col5\" class=\"data row1 col5\" >ReLU()</td>\n",
       "                        <td id=\"T_5908f18e_0b22_11ea_9a7a_80000208fe80row1_col6\" class=\"data row1 col6\" >BatchNorm2d(64, eps=1e-05, momentum=0.1, affine=True, track_running_stats=True)</td>\n",
       "                        <td id=\"T_5908f18e_0b22_11ea_9a7a_80000208fe80row1_col7\" class=\"data row1 col7\" >Conv2d(64, 64, kernel_size=(3, 3), stride=(1, 1), padding=(1, 1))</td>\n",
       "                        <td id=\"T_5908f18e_0b22_11ea_9a7a_80000208fe80row1_col8\" class=\"data row1 col8\" >MaxPool2d(kernel_size=2, stride=2, padding=0, dilation=1, ceil_mode=False)</td>\n",
       "                        <td id=\"T_5908f18e_0b22_11ea_9a7a_80000208fe80row1_col9\" class=\"data row1 col9\" >ReLU()</td>\n",
       "                        <td id=\"T_5908f18e_0b22_11ea_9a7a_80000208fe80row1_col10\" class=\"data row1 col10\" >BatchNorm2d(64, eps=1e-05, momentum=0.1, affine=True, track_running_stats=True)</td>\n",
       "                        <td id=\"T_5908f18e_0b22_11ea_9a7a_80000208fe80row1_col11\" class=\"data row1 col11\" >Conv2d(64, 64, kernel_size=(3, 3), stride=(1, 1), padding=(1, 1))</td>\n",
       "                        <td id=\"T_5908f18e_0b22_11ea_9a7a_80000208fe80row1_col12\" class=\"data row1 col12\" >MaxPool2d(kernel_size=2, stride=2, padding=0, dilation=1, ceil_mode=False)</td>\n",
       "                        <td id=\"T_5908f18e_0b22_11ea_9a7a_80000208fe80row1_col13\" class=\"data row1 col13\" >GlobalAvgPool2d()</td>\n",
       "                        <td id=\"T_5908f18e_0b22_11ea_9a7a_80000208fe80row1_col14\" class=\"data row1 col14\" >Dropout2d(p=0.25)</td>\n",
       "                        <td id=\"T_5908f18e_0b22_11ea_9a7a_80000208fe80row1_col15\" class=\"data row1 col15\" >Linear(in_features=64, out_features=64, bias=True)</td>\n",
       "                        <td id=\"T_5908f18e_0b22_11ea_9a7a_80000208fe80row1_col16\" class=\"data row1 col16\" >ReLU()</td>\n",
       "                        <td id=\"T_5908f18e_0b22_11ea_9a7a_80000208fe80row1_col17\" class=\"data row1 col17\" >Linear(in_features=64, out_features=10, bias=True)</td>\n",
       "                        <td id=\"T_5908f18e_0b22_11ea_9a7a_80000208fe80row1_col18\" class=\"data row1 col18\" >BatchNorm2d(64, eps=1e-05, momentum=0.1, affine=True, track_running_stats=True)</td>\n",
       "                        <td id=\"T_5908f18e_0b22_11ea_9a7a_80000208fe80row1_col19\" class=\"data row1 col19\" >nan</td>\n",
       "                        <td id=\"T_5908f18e_0b22_11ea_9a7a_80000208fe80row1_col20\" class=\"data row1 col20\" >nan</td>\n",
       "                        <td id=\"T_5908f18e_0b22_11ea_9a7a_80000208fe80row1_col21\" class=\"data row1 col21\" >nan</td>\n",
       "                        <td id=\"T_5908f18e_0b22_11ea_9a7a_80000208fe80row1_col22\" class=\"data row1 col22\" >nan</td>\n",
       "                        <td id=\"T_5908f18e_0b22_11ea_9a7a_80000208fe80row1_col23\" class=\"data row1 col23\" >nan</td>\n",
       "                        <td id=\"T_5908f18e_0b22_11ea_9a7a_80000208fe80row1_col24\" class=\"data row1 col24\" >nan</td>\n",
       "                        <td id=\"T_5908f18e_0b22_11ea_9a7a_80000208fe80row1_col25\" class=\"data row1 col25\" >nan</td>\n",
       "                        <td id=\"T_5908f18e_0b22_11ea_9a7a_80000208fe80row1_col26\" class=\"data row1 col26\" >nan</td>\n",
       "                        <td id=\"T_5908f18e_0b22_11ea_9a7a_80000208fe80row1_col27\" class=\"data row1 col27\" >nan</td>\n",
       "                        <td id=\"T_5908f18e_0b22_11ea_9a7a_80000208fe80row1_col28\" class=\"data row1 col28\" >nan</td>\n",
       "                        <td id=\"T_5908f18e_0b22_11ea_9a7a_80000208fe80row1_col29\" class=\"data row1 col29\" >nan</td>\n",
       "                        <td id=\"T_5908f18e_0b22_11ea_9a7a_80000208fe80row1_col30\" class=\"data row1 col30\" >nan</td>\n",
       "                        <td id=\"T_5908f18e_0b22_11ea_9a7a_80000208fe80row1_col31\" class=\"data row1 col31\" >nan</td>\n",
       "                        <td id=\"T_5908f18e_0b22_11ea_9a7a_80000208fe80row1_col32\" class=\"data row1 col32\" >nan</td>\n",
       "                        <td id=\"T_5908f18e_0b22_11ea_9a7a_80000208fe80row1_col33\" class=\"data row1 col33\" >nan</td>\n",
       "                        <td id=\"T_5908f18e_0b22_11ea_9a7a_80000208fe80row1_col34\" class=\"data row1 col34\" >nan</td>\n",
       "                        <td id=\"T_5908f18e_0b22_11ea_9a7a_80000208fe80row1_col35\" class=\"data row1 col35\" >nan</td>\n",
       "                        <td id=\"T_5908f18e_0b22_11ea_9a7a_80000208fe80row1_col36\" class=\"data row1 col36\" >nan</td>\n",
       "                        <td id=\"T_5908f18e_0b22_11ea_9a7a_80000208fe80row1_col37\" class=\"data row1 col37\" >nan</td>\n",
       "                        <td id=\"T_5908f18e_0b22_11ea_9a7a_80000208fe80row1_col38\" class=\"data row1 col38\" >nan</td>\n",
       "                        <td id=\"T_5908f18e_0b22_11ea_9a7a_80000208fe80row1_col39\" class=\"data row1 col39\" >nan</td>\n",
       "                        <td id=\"T_5908f18e_0b22_11ea_9a7a_80000208fe80row1_col40\" class=\"data row1 col40\" >nan</td>\n",
       "                        <td id=\"T_5908f18e_0b22_11ea_9a7a_80000208fe80row1_col41\" class=\"data row1 col41\" >nan</td>\n",
       "                        <td id=\"T_5908f18e_0b22_11ea_9a7a_80000208fe80row1_col42\" class=\"data row1 col42\" >nan</td>\n",
       "                        <td id=\"T_5908f18e_0b22_11ea_9a7a_80000208fe80row1_col43\" class=\"data row1 col43\" >nan</td>\n",
       "                        <td id=\"T_5908f18e_0b22_11ea_9a7a_80000208fe80row1_col44\" class=\"data row1 col44\" >nan</td>\n",
       "                        <td id=\"T_5908f18e_0b22_11ea_9a7a_80000208fe80row1_col45\" class=\"data row1 col45\" >nan</td>\n",
       "                        <td id=\"T_5908f18e_0b22_11ea_9a7a_80000208fe80row1_col46\" class=\"data row1 col46\" >nan</td>\n",
       "                        <td id=\"T_5908f18e_0b22_11ea_9a7a_80000208fe80row1_col47\" class=\"data row1 col47\" >nan</td>\n",
       "                        <td id=\"T_5908f18e_0b22_11ea_9a7a_80000208fe80row1_col48\" class=\"data row1 col48\" >nan</td>\n",
       "                        <td id=\"T_5908f18e_0b22_11ea_9a7a_80000208fe80row1_col49\" class=\"data row1 col49\" >nan</td>\n",
       "                        <td id=\"T_5908f18e_0b22_11ea_9a7a_80000208fe80row1_col50\" class=\"data row1 col50\" >nan</td>\n",
       "                        <td id=\"T_5908f18e_0b22_11ea_9a7a_80000208fe80row1_col51\" class=\"data row1 col51\" >nan</td>\n",
       "                        <td id=\"T_5908f18e_0b22_11ea_9a7a_80000208fe80row1_col52\" class=\"data row1 col52\" >nan</td>\n",
       "                        <td id=\"T_5908f18e_0b22_11ea_9a7a_80000208fe80row1_col53\" class=\"data row1 col53\" >nan</td>\n",
       "                        <td id=\"T_5908f18e_0b22_11ea_9a7a_80000208fe80row1_col54\" class=\"data row1 col54\" >nan</td>\n",
       "                        <td id=\"T_5908f18e_0b22_11ea_9a7a_80000208fe80row1_col55\" class=\"data row1 col55\" >nan</td>\n",
       "                        <td id=\"T_5908f18e_0b22_11ea_9a7a_80000208fe80row1_col56\" class=\"data row1 col56\" >nan</td>\n",
       "                        <td id=\"T_5908f18e_0b22_11ea_9a7a_80000208fe80row1_col57\" class=\"data row1 col57\" >nan</td>\n",
       "                        <td id=\"T_5908f18e_0b22_11ea_9a7a_80000208fe80row1_col58\" class=\"data row1 col58\" >nan</td>\n",
       "                        <td id=\"T_5908f18e_0b22_11ea_9a7a_80000208fe80row1_col59\" class=\"data row1 col59\" >nan</td>\n",
       "                        <td id=\"T_5908f18e_0b22_11ea_9a7a_80000208fe80row1_col60\" class=\"data row1 col60\" >nan</td>\n",
       "                        <td id=\"T_5908f18e_0b22_11ea_9a7a_80000208fe80row1_col61\" class=\"data row1 col61\" >nan</td>\n",
       "                        <td id=\"T_5908f18e_0b22_11ea_9a7a_80000208fe80row1_col62\" class=\"data row1 col62\" >nan</td>\n",
       "                        <td id=\"T_5908f18e_0b22_11ea_9a7a_80000208fe80row1_col63\" class=\"data row1 col63\" >nan</td>\n",
       "                        <td id=\"T_5908f18e_0b22_11ea_9a7a_80000208fe80row1_col64\" class=\"data row1 col64\" >nan</td>\n",
       "                        <td id=\"T_5908f18e_0b22_11ea_9a7a_80000208fe80row1_col65\" class=\"data row1 col65\" >nan</td>\n",
       "                        <td id=\"T_5908f18e_0b22_11ea_9a7a_80000208fe80row1_col66\" class=\"data row1 col66\" >nan</td>\n",
       "                        <td id=\"T_5908f18e_0b22_11ea_9a7a_80000208fe80row1_col67\" class=\"data row1 col67\" >nan</td>\n",
       "                        <td id=\"T_5908f18e_0b22_11ea_9a7a_80000208fe80row1_col68\" class=\"data row1 col68\" >nan</td>\n",
       "                        <td id=\"T_5908f18e_0b22_11ea_9a7a_80000208fe80row1_col69\" class=\"data row1 col69\" >nan</td>\n",
       "                        <td id=\"T_5908f18e_0b22_11ea_9a7a_80000208fe80row1_col70\" class=\"data row1 col70\" >nan</td>\n",
       "                        <td id=\"T_5908f18e_0b22_11ea_9a7a_80000208fe80row1_col71\" class=\"data row1 col71\" >nan</td>\n",
       "                        <td id=\"T_5908f18e_0b22_11ea_9a7a_80000208fe80row1_col72\" class=\"data row1 col72\" >nan</td>\n",
       "                        <td id=\"T_5908f18e_0b22_11ea_9a7a_80000208fe80row1_col73\" class=\"data row1 col73\" >nan</td>\n",
       "                        <td id=\"T_5908f18e_0b22_11ea_9a7a_80000208fe80row1_col74\" class=\"data row1 col74\" >nan</td>\n",
       "                        <td id=\"T_5908f18e_0b22_11ea_9a7a_80000208fe80row1_col75\" class=\"data row1 col75\" >nan</td>\n",
       "                        <td id=\"T_5908f18e_0b22_11ea_9a7a_80000208fe80row1_col76\" class=\"data row1 col76\" >nan</td>\n",
       "            </tr>\n",
       "            <tr>\n",
       "                                <td id=\"T_5908f18e_0b22_11ea_9a7a_80000208fe80row2_col0\" class=\"data row2 col0\" >6.4</td>\n",
       "                        <td id=\"T_5908f18e_0b22_11ea_9a7a_80000208fe80row2_col1\" class=\"data row2 col1\" >ReLU()</td>\n",
       "                        <td id=\"T_5908f18e_0b22_11ea_9a7a_80000208fe80row2_col2\" class=\"data row2 col2\" >BatchNorm2d(1, eps=1e-05, momentum=0.1, affine=True, track_running_stats=True)</td>\n",
       "                        <td id=\"T_5908f18e_0b22_11ea_9a7a_80000208fe80row2_col3\" class=\"data row2 col3\" >Conv2d(1, 64, kernel_size=(3, 3), stride=(1, 1), padding=(1, 1))</td>\n",
       "                        <td id=\"T_5908f18e_0b22_11ea_9a7a_80000208fe80row2_col4\" class=\"data row2 col4\" >MaxPool2d(kernel_size=2, stride=2, padding=0, dilation=1, ceil_mode=False)</td>\n",
       "                        <td id=\"T_5908f18e_0b22_11ea_9a7a_80000208fe80row2_col5\" class=\"data row2 col5\" >ReLU()</td>\n",
       "                        <td id=\"T_5908f18e_0b22_11ea_9a7a_80000208fe80row2_col6\" class=\"data row2 col6\" >BatchNorm2d(64, eps=1e-05, momentum=0.1, affine=True, track_running_stats=True)</td>\n",
       "                        <td id=\"T_5908f18e_0b22_11ea_9a7a_80000208fe80row2_col7\" class=\"data row2 col7\" >Conv2d(64, 128, kernel_size=(3, 3), stride=(1, 1), padding=(1, 1))</td>\n",
       "                        <td id=\"T_5908f18e_0b22_11ea_9a7a_80000208fe80row2_col8\" class=\"data row2 col8\" >MaxPool2d(kernel_size=2, stride=2, padding=0, dilation=1, ceil_mode=False)</td>\n",
       "                        <td id=\"T_5908f18e_0b22_11ea_9a7a_80000208fe80row2_col9\" class=\"data row2 col9\" >ReLU()</td>\n",
       "                        <td id=\"T_5908f18e_0b22_11ea_9a7a_80000208fe80row2_col10\" class=\"data row2 col10\" >BatchNorm2d(128, eps=1e-05, momentum=0.1, affine=True, track_running_stats=True)</td>\n",
       "                        <td id=\"T_5908f18e_0b22_11ea_9a7a_80000208fe80row2_col11\" class=\"data row2 col11\" >Conv2d(128, 64, kernel_size=(3, 3), stride=(1, 1), padding=(1, 1))</td>\n",
       "                        <td id=\"T_5908f18e_0b22_11ea_9a7a_80000208fe80row2_col12\" class=\"data row2 col12\" >MaxPool2d(kernel_size=2, stride=2, padding=0, dilation=1, ceil_mode=False)</td>\n",
       "                        <td id=\"T_5908f18e_0b22_11ea_9a7a_80000208fe80row2_col13\" class=\"data row2 col13\" >GlobalAvgPool2d()</td>\n",
       "                        <td id=\"T_5908f18e_0b22_11ea_9a7a_80000208fe80row2_col14\" class=\"data row2 col14\" >Dropout2d(p=0.25)</td>\n",
       "                        <td id=\"T_5908f18e_0b22_11ea_9a7a_80000208fe80row2_col15\" class=\"data row2 col15\" >Linear(in_features=64, out_features=64, bias=True)</td>\n",
       "                        <td id=\"T_5908f18e_0b22_11ea_9a7a_80000208fe80row2_col16\" class=\"data row2 col16\" >ReLU()</td>\n",
       "                        <td id=\"T_5908f18e_0b22_11ea_9a7a_80000208fe80row2_col17\" class=\"data row2 col17\" >Linear(in_features=64, out_features=10, bias=True)</td>\n",
       "                        <td id=\"T_5908f18e_0b22_11ea_9a7a_80000208fe80row2_col18\" class=\"data row2 col18\" >BatchNorm2d(64, eps=1e-05, momentum=0.1, affine=True, track_running_stats=True)</td>\n",
       "                        <td id=\"T_5908f18e_0b22_11ea_9a7a_80000208fe80row2_col19\" class=\"data row2 col19\" >nan</td>\n",
       "                        <td id=\"T_5908f18e_0b22_11ea_9a7a_80000208fe80row2_col20\" class=\"data row2 col20\" >nan</td>\n",
       "                        <td id=\"T_5908f18e_0b22_11ea_9a7a_80000208fe80row2_col21\" class=\"data row2 col21\" >nan</td>\n",
       "                        <td id=\"T_5908f18e_0b22_11ea_9a7a_80000208fe80row2_col22\" class=\"data row2 col22\" >nan</td>\n",
       "                        <td id=\"T_5908f18e_0b22_11ea_9a7a_80000208fe80row2_col23\" class=\"data row2 col23\" >nan</td>\n",
       "                        <td id=\"T_5908f18e_0b22_11ea_9a7a_80000208fe80row2_col24\" class=\"data row2 col24\" >nan</td>\n",
       "                        <td id=\"T_5908f18e_0b22_11ea_9a7a_80000208fe80row2_col25\" class=\"data row2 col25\" >nan</td>\n",
       "                        <td id=\"T_5908f18e_0b22_11ea_9a7a_80000208fe80row2_col26\" class=\"data row2 col26\" >nan</td>\n",
       "                        <td id=\"T_5908f18e_0b22_11ea_9a7a_80000208fe80row2_col27\" class=\"data row2 col27\" >nan</td>\n",
       "                        <td id=\"T_5908f18e_0b22_11ea_9a7a_80000208fe80row2_col28\" class=\"data row2 col28\" >nan</td>\n",
       "                        <td id=\"T_5908f18e_0b22_11ea_9a7a_80000208fe80row2_col29\" class=\"data row2 col29\" >nan</td>\n",
       "                        <td id=\"T_5908f18e_0b22_11ea_9a7a_80000208fe80row2_col30\" class=\"data row2 col30\" >nan</td>\n",
       "                        <td id=\"T_5908f18e_0b22_11ea_9a7a_80000208fe80row2_col31\" class=\"data row2 col31\" >nan</td>\n",
       "                        <td id=\"T_5908f18e_0b22_11ea_9a7a_80000208fe80row2_col32\" class=\"data row2 col32\" >nan</td>\n",
       "                        <td id=\"T_5908f18e_0b22_11ea_9a7a_80000208fe80row2_col33\" class=\"data row2 col33\" >nan</td>\n",
       "                        <td id=\"T_5908f18e_0b22_11ea_9a7a_80000208fe80row2_col34\" class=\"data row2 col34\" >nan</td>\n",
       "                        <td id=\"T_5908f18e_0b22_11ea_9a7a_80000208fe80row2_col35\" class=\"data row2 col35\" >nan</td>\n",
       "                        <td id=\"T_5908f18e_0b22_11ea_9a7a_80000208fe80row2_col36\" class=\"data row2 col36\" >nan</td>\n",
       "                        <td id=\"T_5908f18e_0b22_11ea_9a7a_80000208fe80row2_col37\" class=\"data row2 col37\" >nan</td>\n",
       "                        <td id=\"T_5908f18e_0b22_11ea_9a7a_80000208fe80row2_col38\" class=\"data row2 col38\" >nan</td>\n",
       "                        <td id=\"T_5908f18e_0b22_11ea_9a7a_80000208fe80row2_col39\" class=\"data row2 col39\" >nan</td>\n",
       "                        <td id=\"T_5908f18e_0b22_11ea_9a7a_80000208fe80row2_col40\" class=\"data row2 col40\" >nan</td>\n",
       "                        <td id=\"T_5908f18e_0b22_11ea_9a7a_80000208fe80row2_col41\" class=\"data row2 col41\" >nan</td>\n",
       "                        <td id=\"T_5908f18e_0b22_11ea_9a7a_80000208fe80row2_col42\" class=\"data row2 col42\" >nan</td>\n",
       "                        <td id=\"T_5908f18e_0b22_11ea_9a7a_80000208fe80row2_col43\" class=\"data row2 col43\" >nan</td>\n",
       "                        <td id=\"T_5908f18e_0b22_11ea_9a7a_80000208fe80row2_col44\" class=\"data row2 col44\" >nan</td>\n",
       "                        <td id=\"T_5908f18e_0b22_11ea_9a7a_80000208fe80row2_col45\" class=\"data row2 col45\" >nan</td>\n",
       "                        <td id=\"T_5908f18e_0b22_11ea_9a7a_80000208fe80row2_col46\" class=\"data row2 col46\" >nan</td>\n",
       "                        <td id=\"T_5908f18e_0b22_11ea_9a7a_80000208fe80row2_col47\" class=\"data row2 col47\" >nan</td>\n",
       "                        <td id=\"T_5908f18e_0b22_11ea_9a7a_80000208fe80row2_col48\" class=\"data row2 col48\" >nan</td>\n",
       "                        <td id=\"T_5908f18e_0b22_11ea_9a7a_80000208fe80row2_col49\" class=\"data row2 col49\" >nan</td>\n",
       "                        <td id=\"T_5908f18e_0b22_11ea_9a7a_80000208fe80row2_col50\" class=\"data row2 col50\" >nan</td>\n",
       "                        <td id=\"T_5908f18e_0b22_11ea_9a7a_80000208fe80row2_col51\" class=\"data row2 col51\" >nan</td>\n",
       "                        <td id=\"T_5908f18e_0b22_11ea_9a7a_80000208fe80row2_col52\" class=\"data row2 col52\" >nan</td>\n",
       "                        <td id=\"T_5908f18e_0b22_11ea_9a7a_80000208fe80row2_col53\" class=\"data row2 col53\" >nan</td>\n",
       "                        <td id=\"T_5908f18e_0b22_11ea_9a7a_80000208fe80row2_col54\" class=\"data row2 col54\" >nan</td>\n",
       "                        <td id=\"T_5908f18e_0b22_11ea_9a7a_80000208fe80row2_col55\" class=\"data row2 col55\" >nan</td>\n",
       "                        <td id=\"T_5908f18e_0b22_11ea_9a7a_80000208fe80row2_col56\" class=\"data row2 col56\" >nan</td>\n",
       "                        <td id=\"T_5908f18e_0b22_11ea_9a7a_80000208fe80row2_col57\" class=\"data row2 col57\" >nan</td>\n",
       "                        <td id=\"T_5908f18e_0b22_11ea_9a7a_80000208fe80row2_col58\" class=\"data row2 col58\" >nan</td>\n",
       "                        <td id=\"T_5908f18e_0b22_11ea_9a7a_80000208fe80row2_col59\" class=\"data row2 col59\" >nan</td>\n",
       "                        <td id=\"T_5908f18e_0b22_11ea_9a7a_80000208fe80row2_col60\" class=\"data row2 col60\" >nan</td>\n",
       "                        <td id=\"T_5908f18e_0b22_11ea_9a7a_80000208fe80row2_col61\" class=\"data row2 col61\" >nan</td>\n",
       "                        <td id=\"T_5908f18e_0b22_11ea_9a7a_80000208fe80row2_col62\" class=\"data row2 col62\" >nan</td>\n",
       "                        <td id=\"T_5908f18e_0b22_11ea_9a7a_80000208fe80row2_col63\" class=\"data row2 col63\" >nan</td>\n",
       "                        <td id=\"T_5908f18e_0b22_11ea_9a7a_80000208fe80row2_col64\" class=\"data row2 col64\" >nan</td>\n",
       "                        <td id=\"T_5908f18e_0b22_11ea_9a7a_80000208fe80row2_col65\" class=\"data row2 col65\" >nan</td>\n",
       "                        <td id=\"T_5908f18e_0b22_11ea_9a7a_80000208fe80row2_col66\" class=\"data row2 col66\" >nan</td>\n",
       "                        <td id=\"T_5908f18e_0b22_11ea_9a7a_80000208fe80row2_col67\" class=\"data row2 col67\" >nan</td>\n",
       "                        <td id=\"T_5908f18e_0b22_11ea_9a7a_80000208fe80row2_col68\" class=\"data row2 col68\" >nan</td>\n",
       "                        <td id=\"T_5908f18e_0b22_11ea_9a7a_80000208fe80row2_col69\" class=\"data row2 col69\" >nan</td>\n",
       "                        <td id=\"T_5908f18e_0b22_11ea_9a7a_80000208fe80row2_col70\" class=\"data row2 col70\" >nan</td>\n",
       "                        <td id=\"T_5908f18e_0b22_11ea_9a7a_80000208fe80row2_col71\" class=\"data row2 col71\" >nan</td>\n",
       "                        <td id=\"T_5908f18e_0b22_11ea_9a7a_80000208fe80row2_col72\" class=\"data row2 col72\" >nan</td>\n",
       "                        <td id=\"T_5908f18e_0b22_11ea_9a7a_80000208fe80row2_col73\" class=\"data row2 col73\" >nan</td>\n",
       "                        <td id=\"T_5908f18e_0b22_11ea_9a7a_80000208fe80row2_col74\" class=\"data row2 col74\" >nan</td>\n",
       "                        <td id=\"T_5908f18e_0b22_11ea_9a7a_80000208fe80row2_col75\" class=\"data row2 col75\" >nan</td>\n",
       "                        <td id=\"T_5908f18e_0b22_11ea_9a7a_80000208fe80row2_col76\" class=\"data row2 col76\" >nan</td>\n",
       "            </tr>\n",
       "            <tr>\n",
       "                                <td id=\"T_5908f18e_0b22_11ea_9a7a_80000208fe80row3_col0\" class=\"data row3 col0\" >9.6</td>\n",
       "                        <td id=\"T_5908f18e_0b22_11ea_9a7a_80000208fe80row3_col1\" class=\"data row3 col1\" >Conv2d(1, 64, kernel_size=(3, 3), stride=(1, 1), padding=(1, 1))</td>\n",
       "                        <td id=\"T_5908f18e_0b22_11ea_9a7a_80000208fe80row3_col2\" class=\"data row3 col2\" >BatchNorm2d(64, eps=1e-05, momentum=0.1, affine=True, track_running_stats=True)</td>\n",
       "                        <td id=\"T_5908f18e_0b22_11ea_9a7a_80000208fe80row3_col3\" class=\"data row3 col3\" >BatchNorm2d(64, eps=1e-05, momentum=0.1, affine=True, track_running_stats=True)</td>\n",
       "                        <td id=\"T_5908f18e_0b22_11ea_9a7a_80000208fe80row3_col4\" class=\"data row3 col4\" >ReLU()</td>\n",
       "                        <td id=\"T_5908f18e_0b22_11ea_9a7a_80000208fe80row3_col5\" class=\"data row3 col5\" >Conv2d(64, 64, kernel_size=(3, 3), stride=(1, 1), padding=(1, 1))</td>\n",
       "                        <td id=\"T_5908f18e_0b22_11ea_9a7a_80000208fe80row3_col6\" class=\"data row3 col6\" >BatchNorm2d(64, eps=1e-05, momentum=0.1, affine=True, track_running_stats=True)</td>\n",
       "                        <td id=\"T_5908f18e_0b22_11ea_9a7a_80000208fe80row3_col7\" class=\"data row3 col7\" >ReLU()</td>\n",
       "                        <td id=\"T_5908f18e_0b22_11ea_9a7a_80000208fe80row3_col8\" class=\"data row3 col8\" >Conv2d(64, 64, kernel_size=(3, 3), stride=(1, 1), padding=(1, 1))</td>\n",
       "                        <td id=\"T_5908f18e_0b22_11ea_9a7a_80000208fe80row3_col9\" class=\"data row3 col9\" >ReLU()</td>\n",
       "                        <td id=\"T_5908f18e_0b22_11ea_9a7a_80000208fe80row3_col10\" class=\"data row3 col10\" >Conv2d(64, 64, kernel_size=(1, 1), stride=(1, 1))</td>\n",
       "                        <td id=\"T_5908f18e_0b22_11ea_9a7a_80000208fe80row3_col11\" class=\"data row3 col11\" >TorchAdd()</td>\n",
       "                        <td id=\"T_5908f18e_0b22_11ea_9a7a_80000208fe80row3_col12\" class=\"data row3 col12\" >BatchNorm2d(64, eps=1e-05, momentum=0.1, affine=True, track_running_stats=True)</td>\n",
       "                        <td id=\"T_5908f18e_0b22_11ea_9a7a_80000208fe80row3_col13\" class=\"data row3 col13\" >ReLU()</td>\n",
       "                        <td id=\"T_5908f18e_0b22_11ea_9a7a_80000208fe80row3_col14\" class=\"data row3 col14\" >Conv2d(64, 64, kernel_size=(3, 3), stride=(1, 1), padding=(1, 1))</td>\n",
       "                        <td id=\"T_5908f18e_0b22_11ea_9a7a_80000208fe80row3_col15\" class=\"data row3 col15\" >BatchNorm2d(64, eps=1e-05, momentum=0.1, affine=True, track_running_stats=True)</td>\n",
       "                        <td id=\"T_5908f18e_0b22_11ea_9a7a_80000208fe80row3_col16\" class=\"data row3 col16\" >ReLU()</td>\n",
       "                        <td id=\"T_5908f18e_0b22_11ea_9a7a_80000208fe80row3_col17\" class=\"data row3 col17\" >Conv2d(64, 64, kernel_size=(3, 3), stride=(1, 1), padding=(1, 1))</td>\n",
       "                        <td id=\"T_5908f18e_0b22_11ea_9a7a_80000208fe80row3_col18\" class=\"data row3 col18\" >ReLU()</td>\n",
       "                        <td id=\"T_5908f18e_0b22_11ea_9a7a_80000208fe80row3_col19\" class=\"data row3 col19\" >Conv2d(64, 64, kernel_size=(1, 1), stride=(1, 1))</td>\n",
       "                        <td id=\"T_5908f18e_0b22_11ea_9a7a_80000208fe80row3_col20\" class=\"data row3 col20\" >TorchAdd()</td>\n",
       "                        <td id=\"T_5908f18e_0b22_11ea_9a7a_80000208fe80row3_col21\" class=\"data row3 col21\" >BatchNorm2d(64, eps=1e-05, momentum=0.1, affine=True, track_running_stats=True)</td>\n",
       "                        <td id=\"T_5908f18e_0b22_11ea_9a7a_80000208fe80row3_col22\" class=\"data row3 col22\" >ReLU()</td>\n",
       "                        <td id=\"T_5908f18e_0b22_11ea_9a7a_80000208fe80row3_col23\" class=\"data row3 col23\" >Conv2d(64, 128, kernel_size=(3, 3), stride=(2, 2), padding=(1, 1))</td>\n",
       "                        <td id=\"T_5908f18e_0b22_11ea_9a7a_80000208fe80row3_col24\" class=\"data row3 col24\" >BatchNorm2d(128, eps=1e-05, momentum=0.1, affine=True, track_running_stats=True)</td>\n",
       "                        <td id=\"T_5908f18e_0b22_11ea_9a7a_80000208fe80row3_col25\" class=\"data row3 col25\" >ReLU()</td>\n",
       "                        <td id=\"T_5908f18e_0b22_11ea_9a7a_80000208fe80row3_col26\" class=\"data row3 col26\" >Conv2d(128, 128, kernel_size=(3, 3), stride=(1, 1), padding=(1, 1))</td>\n",
       "                        <td id=\"T_5908f18e_0b22_11ea_9a7a_80000208fe80row3_col27\" class=\"data row3 col27\" >ReLU()</td>\n",
       "                        <td id=\"T_5908f18e_0b22_11ea_9a7a_80000208fe80row3_col28\" class=\"data row3 col28\" >Conv2d(64, 128, kernel_size=(1, 1), stride=(2, 2))</td>\n",
       "                        <td id=\"T_5908f18e_0b22_11ea_9a7a_80000208fe80row3_col29\" class=\"data row3 col29\" >TorchAdd()</td>\n",
       "                        <td id=\"T_5908f18e_0b22_11ea_9a7a_80000208fe80row3_col30\" class=\"data row3 col30\" >BatchNorm2d(128, eps=1e-05, momentum=0.1, affine=True, track_running_stats=True)</td>\n",
       "                        <td id=\"T_5908f18e_0b22_11ea_9a7a_80000208fe80row3_col31\" class=\"data row3 col31\" >ReLU()</td>\n",
       "                        <td id=\"T_5908f18e_0b22_11ea_9a7a_80000208fe80row3_col32\" class=\"data row3 col32\" >Conv2d(128, 128, kernel_size=(3, 3), stride=(1, 1), padding=(1, 1))</td>\n",
       "                        <td id=\"T_5908f18e_0b22_11ea_9a7a_80000208fe80row3_col33\" class=\"data row3 col33\" >BatchNorm2d(128, eps=1e-05, momentum=0.1, affine=True, track_running_stats=True)</td>\n",
       "                        <td id=\"T_5908f18e_0b22_11ea_9a7a_80000208fe80row3_col34\" class=\"data row3 col34\" >ReLU()</td>\n",
       "                        <td id=\"T_5908f18e_0b22_11ea_9a7a_80000208fe80row3_col35\" class=\"data row3 col35\" >Conv2d(128, 128, kernel_size=(3, 3), stride=(1, 1), padding=(1, 1))</td>\n",
       "                        <td id=\"T_5908f18e_0b22_11ea_9a7a_80000208fe80row3_col36\" class=\"data row3 col36\" >ReLU()</td>\n",
       "                        <td id=\"T_5908f18e_0b22_11ea_9a7a_80000208fe80row3_col37\" class=\"data row3 col37\" >Conv2d(128, 128, kernel_size=(1, 1), stride=(1, 1))</td>\n",
       "                        <td id=\"T_5908f18e_0b22_11ea_9a7a_80000208fe80row3_col38\" class=\"data row3 col38\" >TorchAdd()</td>\n",
       "                        <td id=\"T_5908f18e_0b22_11ea_9a7a_80000208fe80row3_col39\" class=\"data row3 col39\" >BatchNorm2d(128, eps=1e-05, momentum=0.1, affine=True, track_running_stats=True)</td>\n",
       "                        <td id=\"T_5908f18e_0b22_11ea_9a7a_80000208fe80row3_col40\" class=\"data row3 col40\" >ReLU()</td>\n",
       "                        <td id=\"T_5908f18e_0b22_11ea_9a7a_80000208fe80row3_col41\" class=\"data row3 col41\" >Conv2d(128, 256, kernel_size=(3, 3), stride=(2, 2), padding=(1, 1))</td>\n",
       "                        <td id=\"T_5908f18e_0b22_11ea_9a7a_80000208fe80row3_col42\" class=\"data row3 col42\" >BatchNorm2d(256, eps=1e-05, momentum=0.1, affine=True, track_running_stats=True)</td>\n",
       "                        <td id=\"T_5908f18e_0b22_11ea_9a7a_80000208fe80row3_col43\" class=\"data row3 col43\" >ReLU()</td>\n",
       "                        <td id=\"T_5908f18e_0b22_11ea_9a7a_80000208fe80row3_col44\" class=\"data row3 col44\" >Conv2d(256, 256, kernel_size=(3, 3), stride=(1, 1), padding=(1, 1))</td>\n",
       "                        <td id=\"T_5908f18e_0b22_11ea_9a7a_80000208fe80row3_col45\" class=\"data row3 col45\" >ReLU()</td>\n",
       "                        <td id=\"T_5908f18e_0b22_11ea_9a7a_80000208fe80row3_col46\" class=\"data row3 col46\" >Conv2d(128, 256, kernel_size=(1, 1), stride=(2, 2))</td>\n",
       "                        <td id=\"T_5908f18e_0b22_11ea_9a7a_80000208fe80row3_col47\" class=\"data row3 col47\" >TorchAdd()</td>\n",
       "                        <td id=\"T_5908f18e_0b22_11ea_9a7a_80000208fe80row3_col48\" class=\"data row3 col48\" >BatchNorm2d(256, eps=1e-05, momentum=0.1, affine=True, track_running_stats=True)</td>\n",
       "                        <td id=\"T_5908f18e_0b22_11ea_9a7a_80000208fe80row3_col49\" class=\"data row3 col49\" >ReLU()</td>\n",
       "                        <td id=\"T_5908f18e_0b22_11ea_9a7a_80000208fe80row3_col50\" class=\"data row3 col50\" >Conv2d(256, 256, kernel_size=(3, 3), stride=(1, 1), padding=(1, 1))</td>\n",
       "                        <td id=\"T_5908f18e_0b22_11ea_9a7a_80000208fe80row3_col51\" class=\"data row3 col51\" >BatchNorm2d(256, eps=1e-05, momentum=0.1, affine=True, track_running_stats=True)</td>\n",
       "                        <td id=\"T_5908f18e_0b22_11ea_9a7a_80000208fe80row3_col52\" class=\"data row3 col52\" >ReLU()</td>\n",
       "                        <td id=\"T_5908f18e_0b22_11ea_9a7a_80000208fe80row3_col53\" class=\"data row3 col53\" >Conv2d(256, 256, kernel_size=(3, 3), stride=(1, 1), padding=(1, 1))</td>\n",
       "                        <td id=\"T_5908f18e_0b22_11ea_9a7a_80000208fe80row3_col54\" class=\"data row3 col54\" >ReLU()</td>\n",
       "                        <td id=\"T_5908f18e_0b22_11ea_9a7a_80000208fe80row3_col55\" class=\"data row3 col55\" >Conv2d(256, 256, kernel_size=(1, 1), stride=(1, 1))</td>\n",
       "                        <td id=\"T_5908f18e_0b22_11ea_9a7a_80000208fe80row3_col56\" class=\"data row3 col56\" >TorchAdd()</td>\n",
       "                        <td id=\"T_5908f18e_0b22_11ea_9a7a_80000208fe80row3_col57\" class=\"data row3 col57\" >BatchNorm2d(256, eps=1e-05, momentum=0.1, affine=True, track_running_stats=True)</td>\n",
       "                        <td id=\"T_5908f18e_0b22_11ea_9a7a_80000208fe80row3_col58\" class=\"data row3 col58\" >ReLU()</td>\n",
       "                        <td id=\"T_5908f18e_0b22_11ea_9a7a_80000208fe80row3_col59\" class=\"data row3 col59\" >Conv2d(256, 512, kernel_size=(3, 3), stride=(2, 2), padding=(1, 1))</td>\n",
       "                        <td id=\"T_5908f18e_0b22_11ea_9a7a_80000208fe80row3_col60\" class=\"data row3 col60\" >BatchNorm2d(512, eps=1e-05, momentum=0.1, affine=True, track_running_stats=True)</td>\n",
       "                        <td id=\"T_5908f18e_0b22_11ea_9a7a_80000208fe80row3_col61\" class=\"data row3 col61\" >ReLU()</td>\n",
       "                        <td id=\"T_5908f18e_0b22_11ea_9a7a_80000208fe80row3_col62\" class=\"data row3 col62\" >Conv2d(512, 512, kernel_size=(3, 3), stride=(1, 1), padding=(1, 1))</td>\n",
       "                        <td id=\"T_5908f18e_0b22_11ea_9a7a_80000208fe80row3_col63\" class=\"data row3 col63\" >ReLU()</td>\n",
       "                        <td id=\"T_5908f18e_0b22_11ea_9a7a_80000208fe80row3_col64\" class=\"data row3 col64\" >Conv2d(256, 512, kernel_size=(1, 1), stride=(2, 2))</td>\n",
       "                        <td id=\"T_5908f18e_0b22_11ea_9a7a_80000208fe80row3_col65\" class=\"data row3 col65\" >TorchAdd()</td>\n",
       "                        <td id=\"T_5908f18e_0b22_11ea_9a7a_80000208fe80row3_col66\" class=\"data row3 col66\" >BatchNorm2d(512, eps=1e-05, momentum=0.1, affine=True, track_running_stats=True)</td>\n",
       "                        <td id=\"T_5908f18e_0b22_11ea_9a7a_80000208fe80row3_col67\" class=\"data row3 col67\" >ReLU()</td>\n",
       "                        <td id=\"T_5908f18e_0b22_11ea_9a7a_80000208fe80row3_col68\" class=\"data row3 col68\" >Conv2d(512, 512, kernel_size=(3, 3), stride=(1, 1), padding=(1, 1))</td>\n",
       "                        <td id=\"T_5908f18e_0b22_11ea_9a7a_80000208fe80row3_col69\" class=\"data row3 col69\" >BatchNorm2d(512, eps=1e-05, momentum=0.1, affine=True, track_running_stats=True)</td>\n",
       "                        <td id=\"T_5908f18e_0b22_11ea_9a7a_80000208fe80row3_col70\" class=\"data row3 col70\" >ReLU()</td>\n",
       "                        <td id=\"T_5908f18e_0b22_11ea_9a7a_80000208fe80row3_col71\" class=\"data row3 col71\" >Conv2d(512, 512, kernel_size=(3, 3), stride=(1, 1), padding=(1, 1))</td>\n",
       "                        <td id=\"T_5908f18e_0b22_11ea_9a7a_80000208fe80row3_col72\" class=\"data row3 col72\" >ReLU()</td>\n",
       "                        <td id=\"T_5908f18e_0b22_11ea_9a7a_80000208fe80row3_col73\" class=\"data row3 col73\" >Conv2d(512, 512, kernel_size=(1, 1), stride=(1, 1))</td>\n",
       "                        <td id=\"T_5908f18e_0b22_11ea_9a7a_80000208fe80row3_col74\" class=\"data row3 col74\" >TorchAdd()</td>\n",
       "                        <td id=\"T_5908f18e_0b22_11ea_9a7a_80000208fe80row3_col75\" class=\"data row3 col75\" >GlobalAvgPool2d()</td>\n",
       "                        <td id=\"T_5908f18e_0b22_11ea_9a7a_80000208fe80row3_col76\" class=\"data row3 col76\" >Linear(in_features=512, out_features=10, bias=True)</td>\n",
       "            </tr>\n",
       "            <tr>\n",
       "                                <td id=\"T_5908f18e_0b22_11ea_9a7a_80000208fe80row4_col0\" class=\"data row4 col0\" >12.8</td>\n",
       "                        <td id=\"T_5908f18e_0b22_11ea_9a7a_80000208fe80row4_col1\" class=\"data row4 col1\" >Conv2d(1, 64, kernel_size=(3, 3), stride=(1, 1), padding=(1, 1))</td>\n",
       "                        <td id=\"T_5908f18e_0b22_11ea_9a7a_80000208fe80row4_col2\" class=\"data row4 col2\" >BatchNorm2d(64, eps=1e-05, momentum=0.1, affine=True, track_running_stats=True)</td>\n",
       "                        <td id=\"T_5908f18e_0b22_11ea_9a7a_80000208fe80row4_col3\" class=\"data row4 col3\" >BatchNorm2d(64, eps=1e-05, momentum=0.1, affine=True, track_running_stats=True)</td>\n",
       "                        <td id=\"T_5908f18e_0b22_11ea_9a7a_80000208fe80row4_col4\" class=\"data row4 col4\" >ReLU()</td>\n",
       "                        <td id=\"T_5908f18e_0b22_11ea_9a7a_80000208fe80row4_col5\" class=\"data row4 col5\" >Conv2d(64, 64, kernel_size=(3, 3), stride=(1, 1), padding=(1, 1))</td>\n",
       "                        <td id=\"T_5908f18e_0b22_11ea_9a7a_80000208fe80row4_col6\" class=\"data row4 col6\" >BatchNorm2d(64, eps=1e-05, momentum=0.1, affine=True, track_running_stats=True)</td>\n",
       "                        <td id=\"T_5908f18e_0b22_11ea_9a7a_80000208fe80row4_col7\" class=\"data row4 col7\" >ReLU()</td>\n",
       "                        <td id=\"T_5908f18e_0b22_11ea_9a7a_80000208fe80row4_col8\" class=\"data row4 col8\" >Conv2d(64, 64, kernel_size=(3, 3), stride=(1, 1), padding=(1, 1))</td>\n",
       "                        <td id=\"T_5908f18e_0b22_11ea_9a7a_80000208fe80row4_col9\" class=\"data row4 col9\" >ReLU()</td>\n",
       "                        <td id=\"T_5908f18e_0b22_11ea_9a7a_80000208fe80row4_col10\" class=\"data row4 col10\" >Conv2d(64, 64, kernel_size=(1, 1), stride=(1, 1))</td>\n",
       "                        <td id=\"T_5908f18e_0b22_11ea_9a7a_80000208fe80row4_col11\" class=\"data row4 col11\" >TorchAdd()</td>\n",
       "                        <td id=\"T_5908f18e_0b22_11ea_9a7a_80000208fe80row4_col12\" class=\"data row4 col12\" >BatchNorm2d(64, eps=1e-05, momentum=0.1, affine=True, track_running_stats=True)</td>\n",
       "                        <td id=\"T_5908f18e_0b22_11ea_9a7a_80000208fe80row4_col13\" class=\"data row4 col13\" >ReLU()</td>\n",
       "                        <td id=\"T_5908f18e_0b22_11ea_9a7a_80000208fe80row4_col14\" class=\"data row4 col14\" >Conv2d(64, 64, kernel_size=(3, 3), stride=(1, 1), padding=(1, 1))</td>\n",
       "                        <td id=\"T_5908f18e_0b22_11ea_9a7a_80000208fe80row4_col15\" class=\"data row4 col15\" >BatchNorm2d(64, eps=1e-05, momentum=0.1, affine=True, track_running_stats=True)</td>\n",
       "                        <td id=\"T_5908f18e_0b22_11ea_9a7a_80000208fe80row4_col16\" class=\"data row4 col16\" >ReLU()</td>\n",
       "                        <td id=\"T_5908f18e_0b22_11ea_9a7a_80000208fe80row4_col17\" class=\"data row4 col17\" >Conv2d(64, 64, kernel_size=(3, 3), stride=(1, 1), padding=(1, 1))</td>\n",
       "                        <td id=\"T_5908f18e_0b22_11ea_9a7a_80000208fe80row4_col18\" class=\"data row4 col18\" >ReLU()</td>\n",
       "                        <td id=\"T_5908f18e_0b22_11ea_9a7a_80000208fe80row4_col19\" class=\"data row4 col19\" >Conv2d(64, 64, kernel_size=(1, 1), stride=(1, 1))</td>\n",
       "                        <td id=\"T_5908f18e_0b22_11ea_9a7a_80000208fe80row4_col20\" class=\"data row4 col20\" >TorchAdd()</td>\n",
       "                        <td id=\"T_5908f18e_0b22_11ea_9a7a_80000208fe80row4_col21\" class=\"data row4 col21\" >BatchNorm2d(64, eps=1e-05, momentum=0.1, affine=True, track_running_stats=True)</td>\n",
       "                        <td id=\"T_5908f18e_0b22_11ea_9a7a_80000208fe80row4_col22\" class=\"data row4 col22\" >ReLU()</td>\n",
       "                        <td id=\"T_5908f18e_0b22_11ea_9a7a_80000208fe80row4_col23\" class=\"data row4 col23\" >Conv2d(64, 128, kernel_size=(3, 3), stride=(2, 2), padding=(1, 1))</td>\n",
       "                        <td id=\"T_5908f18e_0b22_11ea_9a7a_80000208fe80row4_col24\" class=\"data row4 col24\" >BatchNorm2d(128, eps=1e-05, momentum=0.1, affine=True, track_running_stats=True)</td>\n",
       "                        <td id=\"T_5908f18e_0b22_11ea_9a7a_80000208fe80row4_col25\" class=\"data row4 col25\" >ReLU()</td>\n",
       "                        <td id=\"T_5908f18e_0b22_11ea_9a7a_80000208fe80row4_col26\" class=\"data row4 col26\" >Conv2d(128, 128, kernel_size=(3, 3), stride=(1, 1), padding=(1, 1))</td>\n",
       "                        <td id=\"T_5908f18e_0b22_11ea_9a7a_80000208fe80row4_col27\" class=\"data row4 col27\" >ReLU()</td>\n",
       "                        <td id=\"T_5908f18e_0b22_11ea_9a7a_80000208fe80row4_col28\" class=\"data row4 col28\" >Conv2d(64, 128, kernel_size=(1, 1), stride=(2, 2))</td>\n",
       "                        <td id=\"T_5908f18e_0b22_11ea_9a7a_80000208fe80row4_col29\" class=\"data row4 col29\" >TorchAdd()</td>\n",
       "                        <td id=\"T_5908f18e_0b22_11ea_9a7a_80000208fe80row4_col30\" class=\"data row4 col30\" >BatchNorm2d(128, eps=1e-05, momentum=0.1, affine=True, track_running_stats=True)</td>\n",
       "                        <td id=\"T_5908f18e_0b22_11ea_9a7a_80000208fe80row4_col31\" class=\"data row4 col31\" >ReLU()</td>\n",
       "                        <td id=\"T_5908f18e_0b22_11ea_9a7a_80000208fe80row4_col32\" class=\"data row4 col32\" >Conv2d(128, 128, kernel_size=(3, 3), stride=(1, 1), padding=(1, 1))</td>\n",
       "                        <td id=\"T_5908f18e_0b22_11ea_9a7a_80000208fe80row4_col33\" class=\"data row4 col33\" >BatchNorm2d(128, eps=1e-05, momentum=0.1, affine=True, track_running_stats=True)</td>\n",
       "                        <td id=\"T_5908f18e_0b22_11ea_9a7a_80000208fe80row4_col34\" class=\"data row4 col34\" >ReLU()</td>\n",
       "                        <td id=\"T_5908f18e_0b22_11ea_9a7a_80000208fe80row4_col35\" class=\"data row4 col35\" >Conv2d(128, 128, kernel_size=(3, 3), stride=(1, 1), padding=(1, 1))</td>\n",
       "                        <td id=\"T_5908f18e_0b22_11ea_9a7a_80000208fe80row4_col36\" class=\"data row4 col36\" >ReLU()</td>\n",
       "                        <td id=\"T_5908f18e_0b22_11ea_9a7a_80000208fe80row4_col37\" class=\"data row4 col37\" >Conv2d(128, 128, kernel_size=(1, 1), stride=(1, 1))</td>\n",
       "                        <td id=\"T_5908f18e_0b22_11ea_9a7a_80000208fe80row4_col38\" class=\"data row4 col38\" >TorchAdd()</td>\n",
       "                        <td id=\"T_5908f18e_0b22_11ea_9a7a_80000208fe80row4_col39\" class=\"data row4 col39\" >BatchNorm2d(128, eps=1e-05, momentum=0.1, affine=True, track_running_stats=True)</td>\n",
       "                        <td id=\"T_5908f18e_0b22_11ea_9a7a_80000208fe80row4_col40\" class=\"data row4 col40\" >ReLU()</td>\n",
       "                        <td id=\"T_5908f18e_0b22_11ea_9a7a_80000208fe80row4_col41\" class=\"data row4 col41\" >Conv2d(128, 256, kernel_size=(3, 3), stride=(2, 2), padding=(1, 1))</td>\n",
       "                        <td id=\"T_5908f18e_0b22_11ea_9a7a_80000208fe80row4_col42\" class=\"data row4 col42\" >BatchNorm2d(256, eps=1e-05, momentum=0.1, affine=True, track_running_stats=True)</td>\n",
       "                        <td id=\"T_5908f18e_0b22_11ea_9a7a_80000208fe80row4_col43\" class=\"data row4 col43\" >ReLU()</td>\n",
       "                        <td id=\"T_5908f18e_0b22_11ea_9a7a_80000208fe80row4_col44\" class=\"data row4 col44\" >Conv2d(256, 256, kernel_size=(3, 3), stride=(1, 1), padding=(1, 1))</td>\n",
       "                        <td id=\"T_5908f18e_0b22_11ea_9a7a_80000208fe80row4_col45\" class=\"data row4 col45\" >ReLU()</td>\n",
       "                        <td id=\"T_5908f18e_0b22_11ea_9a7a_80000208fe80row4_col46\" class=\"data row4 col46\" >Conv2d(128, 256, kernel_size=(1, 1), stride=(2, 2))</td>\n",
       "                        <td id=\"T_5908f18e_0b22_11ea_9a7a_80000208fe80row4_col47\" class=\"data row4 col47\" >TorchAdd()</td>\n",
       "                        <td id=\"T_5908f18e_0b22_11ea_9a7a_80000208fe80row4_col48\" class=\"data row4 col48\" >BatchNorm2d(256, eps=1e-05, momentum=0.1, affine=True, track_running_stats=True)</td>\n",
       "                        <td id=\"T_5908f18e_0b22_11ea_9a7a_80000208fe80row4_col49\" class=\"data row4 col49\" >ReLU()</td>\n",
       "                        <td id=\"T_5908f18e_0b22_11ea_9a7a_80000208fe80row4_col50\" class=\"data row4 col50\" >Conv2d(256, 256, kernel_size=(3, 3), stride=(1, 1), padding=(1, 1))</td>\n",
       "                        <td id=\"T_5908f18e_0b22_11ea_9a7a_80000208fe80row4_col51\" class=\"data row4 col51\" >BatchNorm2d(256, eps=1e-05, momentum=0.1, affine=True, track_running_stats=True)</td>\n",
       "                        <td id=\"T_5908f18e_0b22_11ea_9a7a_80000208fe80row4_col52\" class=\"data row4 col52\" >ReLU()</td>\n",
       "                        <td id=\"T_5908f18e_0b22_11ea_9a7a_80000208fe80row4_col53\" class=\"data row4 col53\" >Conv2d(256, 256, kernel_size=(3, 3), stride=(1, 1), padding=(1, 1))</td>\n",
       "                        <td id=\"T_5908f18e_0b22_11ea_9a7a_80000208fe80row4_col54\" class=\"data row4 col54\" >ReLU()</td>\n",
       "                        <td id=\"T_5908f18e_0b22_11ea_9a7a_80000208fe80row4_col55\" class=\"data row4 col55\" >Conv2d(256, 256, kernel_size=(1, 1), stride=(1, 1))</td>\n",
       "                        <td id=\"T_5908f18e_0b22_11ea_9a7a_80000208fe80row4_col56\" class=\"data row4 col56\" >TorchAdd()</td>\n",
       "                        <td id=\"T_5908f18e_0b22_11ea_9a7a_80000208fe80row4_col57\" class=\"data row4 col57\" >BatchNorm2d(256, eps=1e-05, momentum=0.1, affine=True, track_running_stats=True)</td>\n",
       "                        <td id=\"T_5908f18e_0b22_11ea_9a7a_80000208fe80row4_col58\" class=\"data row4 col58\" >ReLU()</td>\n",
       "                        <td id=\"T_5908f18e_0b22_11ea_9a7a_80000208fe80row4_col59\" class=\"data row4 col59\" >Conv2d(256, 512, kernel_size=(3, 3), stride=(2, 2), padding=(1, 1))</td>\n",
       "                        <td id=\"T_5908f18e_0b22_11ea_9a7a_80000208fe80row4_col60\" class=\"data row4 col60\" >BatchNorm2d(512, eps=1e-05, momentum=0.1, affine=True, track_running_stats=True)</td>\n",
       "                        <td id=\"T_5908f18e_0b22_11ea_9a7a_80000208fe80row4_col61\" class=\"data row4 col61\" >ReLU()</td>\n",
       "                        <td id=\"T_5908f18e_0b22_11ea_9a7a_80000208fe80row4_col62\" class=\"data row4 col62\" >Conv2d(512, 512, kernel_size=(3, 3), stride=(1, 1), padding=(1, 1))</td>\n",
       "                        <td id=\"T_5908f18e_0b22_11ea_9a7a_80000208fe80row4_col63\" class=\"data row4 col63\" >ReLU()</td>\n",
       "                        <td id=\"T_5908f18e_0b22_11ea_9a7a_80000208fe80row4_col64\" class=\"data row4 col64\" >Conv2d(256, 512, kernel_size=(1, 1), stride=(2, 2))</td>\n",
       "                        <td id=\"T_5908f18e_0b22_11ea_9a7a_80000208fe80row4_col65\" class=\"data row4 col65\" >TorchAdd()</td>\n",
       "                        <td id=\"T_5908f18e_0b22_11ea_9a7a_80000208fe80row4_col66\" class=\"data row4 col66\" >BatchNorm2d(512, eps=1e-05, momentum=0.1, affine=True, track_running_stats=True)</td>\n",
       "                        <td id=\"T_5908f18e_0b22_11ea_9a7a_80000208fe80row4_col67\" class=\"data row4 col67\" >ReLU()</td>\n",
       "                        <td id=\"T_5908f18e_0b22_11ea_9a7a_80000208fe80row4_col68\" class=\"data row4 col68\" >Conv2d(512, 512, kernel_size=(3, 3), stride=(1, 1), padding=(1, 1))</td>\n",
       "                        <td id=\"T_5908f18e_0b22_11ea_9a7a_80000208fe80row4_col69\" class=\"data row4 col69\" >BatchNorm2d(512, eps=1e-05, momentum=0.1, affine=True, track_running_stats=True)</td>\n",
       "                        <td id=\"T_5908f18e_0b22_11ea_9a7a_80000208fe80row4_col70\" class=\"data row4 col70\" >ReLU()</td>\n",
       "                        <td id=\"T_5908f18e_0b22_11ea_9a7a_80000208fe80row4_col71\" class=\"data row4 col71\" >Conv2d(512, 512, kernel_size=(3, 3), stride=(1, 1), padding=(1, 1))</td>\n",
       "                        <td id=\"T_5908f18e_0b22_11ea_9a7a_80000208fe80row4_col72\" class=\"data row4 col72\" >ReLU()</td>\n",
       "                        <td id=\"T_5908f18e_0b22_11ea_9a7a_80000208fe80row4_col73\" class=\"data row4 col73\" >Conv2d(512, 512, kernel_size=(1, 1), stride=(1, 1))</td>\n",
       "                        <td id=\"T_5908f18e_0b22_11ea_9a7a_80000208fe80row4_col74\" class=\"data row4 col74\" >TorchAdd()</td>\n",
       "                        <td id=\"T_5908f18e_0b22_11ea_9a7a_80000208fe80row4_col75\" class=\"data row4 col75\" >GlobalAvgPool2d()</td>\n",
       "                        <td id=\"T_5908f18e_0b22_11ea_9a7a_80000208fe80row4_col76\" class=\"data row4 col76\" >Linear(in_features=512, out_features=10, bias=True)</td>\n",
       "            </tr>\n",
       "            <tr>\n",
       "                                <td id=\"T_5908f18e_0b22_11ea_9a7a_80000208fe80row5_col0\" class=\"data row5 col0\" >16</td>\n",
       "                        <td id=\"T_5908f18e_0b22_11ea_9a7a_80000208fe80row5_col1\" class=\"data row5 col1\" >Conv2d(1, 64, kernel_size=(3, 3), stride=(1, 1), padding=(1, 1))</td>\n",
       "                        <td id=\"T_5908f18e_0b22_11ea_9a7a_80000208fe80row5_col2\" class=\"data row5 col2\" >BatchNorm2d(64, eps=1e-05, momentum=0.1, affine=True, track_running_stats=True)</td>\n",
       "                        <td id=\"T_5908f18e_0b22_11ea_9a7a_80000208fe80row5_col3\" class=\"data row5 col3\" >BatchNorm2d(64, eps=1e-05, momentum=0.1, affine=True, track_running_stats=True)</td>\n",
       "                        <td id=\"T_5908f18e_0b22_11ea_9a7a_80000208fe80row5_col4\" class=\"data row5 col4\" >ReLU()</td>\n",
       "                        <td id=\"T_5908f18e_0b22_11ea_9a7a_80000208fe80row5_col5\" class=\"data row5 col5\" >Conv2d(64, 64, kernel_size=(3, 3), stride=(1, 1), padding=(1, 1))</td>\n",
       "                        <td id=\"T_5908f18e_0b22_11ea_9a7a_80000208fe80row5_col6\" class=\"data row5 col6\" >BatchNorm2d(64, eps=1e-05, momentum=0.1, affine=True, track_running_stats=True)</td>\n",
       "                        <td id=\"T_5908f18e_0b22_11ea_9a7a_80000208fe80row5_col7\" class=\"data row5 col7\" >ReLU()</td>\n",
       "                        <td id=\"T_5908f18e_0b22_11ea_9a7a_80000208fe80row5_col8\" class=\"data row5 col8\" >Conv2d(64, 64, kernel_size=(3, 3), stride=(1, 1), padding=(1, 1))</td>\n",
       "                        <td id=\"T_5908f18e_0b22_11ea_9a7a_80000208fe80row5_col9\" class=\"data row5 col9\" >ReLU()</td>\n",
       "                        <td id=\"T_5908f18e_0b22_11ea_9a7a_80000208fe80row5_col10\" class=\"data row5 col10\" >Conv2d(64, 64, kernel_size=(1, 1), stride=(1, 1))</td>\n",
       "                        <td id=\"T_5908f18e_0b22_11ea_9a7a_80000208fe80row5_col11\" class=\"data row5 col11\" >TorchAdd()</td>\n",
       "                        <td id=\"T_5908f18e_0b22_11ea_9a7a_80000208fe80row5_col12\" class=\"data row5 col12\" >BatchNorm2d(64, eps=1e-05, momentum=0.1, affine=True, track_running_stats=True)</td>\n",
       "                        <td id=\"T_5908f18e_0b22_11ea_9a7a_80000208fe80row5_col13\" class=\"data row5 col13\" >ReLU()</td>\n",
       "                        <td id=\"T_5908f18e_0b22_11ea_9a7a_80000208fe80row5_col14\" class=\"data row5 col14\" >Conv2d(64, 64, kernel_size=(3, 3), stride=(1, 1), padding=(1, 1))</td>\n",
       "                        <td id=\"T_5908f18e_0b22_11ea_9a7a_80000208fe80row5_col15\" class=\"data row5 col15\" >BatchNorm2d(64, eps=1e-05, momentum=0.1, affine=True, track_running_stats=True)</td>\n",
       "                        <td id=\"T_5908f18e_0b22_11ea_9a7a_80000208fe80row5_col16\" class=\"data row5 col16\" >ReLU()</td>\n",
       "                        <td id=\"T_5908f18e_0b22_11ea_9a7a_80000208fe80row5_col17\" class=\"data row5 col17\" >Conv2d(64, 64, kernel_size=(3, 3), stride=(1, 1), padding=(1, 1))</td>\n",
       "                        <td id=\"T_5908f18e_0b22_11ea_9a7a_80000208fe80row5_col18\" class=\"data row5 col18\" >ReLU()</td>\n",
       "                        <td id=\"T_5908f18e_0b22_11ea_9a7a_80000208fe80row5_col19\" class=\"data row5 col19\" >Conv2d(64, 64, kernel_size=(1, 1), stride=(1, 1))</td>\n",
       "                        <td id=\"T_5908f18e_0b22_11ea_9a7a_80000208fe80row5_col20\" class=\"data row5 col20\" >TorchAdd()</td>\n",
       "                        <td id=\"T_5908f18e_0b22_11ea_9a7a_80000208fe80row5_col21\" class=\"data row5 col21\" >BatchNorm2d(64, eps=1e-05, momentum=0.1, affine=True, track_running_stats=True)</td>\n",
       "                        <td id=\"T_5908f18e_0b22_11ea_9a7a_80000208fe80row5_col22\" class=\"data row5 col22\" >ReLU()</td>\n",
       "                        <td id=\"T_5908f18e_0b22_11ea_9a7a_80000208fe80row5_col23\" class=\"data row5 col23\" >Conv2d(64, 128, kernel_size=(3, 3), stride=(2, 2), padding=(1, 1))</td>\n",
       "                        <td id=\"T_5908f18e_0b22_11ea_9a7a_80000208fe80row5_col24\" class=\"data row5 col24\" >BatchNorm2d(128, eps=1e-05, momentum=0.1, affine=True, track_running_stats=True)</td>\n",
       "                        <td id=\"T_5908f18e_0b22_11ea_9a7a_80000208fe80row5_col25\" class=\"data row5 col25\" >ReLU()</td>\n",
       "                        <td id=\"T_5908f18e_0b22_11ea_9a7a_80000208fe80row5_col26\" class=\"data row5 col26\" >Conv2d(128, 128, kernel_size=(3, 3), stride=(1, 1), padding=(1, 1))</td>\n",
       "                        <td id=\"T_5908f18e_0b22_11ea_9a7a_80000208fe80row5_col27\" class=\"data row5 col27\" >ReLU()</td>\n",
       "                        <td id=\"T_5908f18e_0b22_11ea_9a7a_80000208fe80row5_col28\" class=\"data row5 col28\" >Conv2d(64, 128, kernel_size=(1, 1), stride=(2, 2))</td>\n",
       "                        <td id=\"T_5908f18e_0b22_11ea_9a7a_80000208fe80row5_col29\" class=\"data row5 col29\" >TorchAdd()</td>\n",
       "                        <td id=\"T_5908f18e_0b22_11ea_9a7a_80000208fe80row5_col30\" class=\"data row5 col30\" >BatchNorm2d(128, eps=1e-05, momentum=0.1, affine=True, track_running_stats=True)</td>\n",
       "                        <td id=\"T_5908f18e_0b22_11ea_9a7a_80000208fe80row5_col31\" class=\"data row5 col31\" >ReLU()</td>\n",
       "                        <td id=\"T_5908f18e_0b22_11ea_9a7a_80000208fe80row5_col32\" class=\"data row5 col32\" >Conv2d(128, 128, kernel_size=(3, 3), stride=(1, 1), padding=(1, 1))</td>\n",
       "                        <td id=\"T_5908f18e_0b22_11ea_9a7a_80000208fe80row5_col33\" class=\"data row5 col33\" >BatchNorm2d(128, eps=1e-05, momentum=0.1, affine=True, track_running_stats=True)</td>\n",
       "                        <td id=\"T_5908f18e_0b22_11ea_9a7a_80000208fe80row5_col34\" class=\"data row5 col34\" >ReLU()</td>\n",
       "                        <td id=\"T_5908f18e_0b22_11ea_9a7a_80000208fe80row5_col35\" class=\"data row5 col35\" >Conv2d(128, 128, kernel_size=(3, 3), stride=(1, 1), padding=(1, 1))</td>\n",
       "                        <td id=\"T_5908f18e_0b22_11ea_9a7a_80000208fe80row5_col36\" class=\"data row5 col36\" >ReLU()</td>\n",
       "                        <td id=\"T_5908f18e_0b22_11ea_9a7a_80000208fe80row5_col37\" class=\"data row5 col37\" >Conv2d(128, 128, kernel_size=(1, 1), stride=(1, 1))</td>\n",
       "                        <td id=\"T_5908f18e_0b22_11ea_9a7a_80000208fe80row5_col38\" class=\"data row5 col38\" >TorchAdd()</td>\n",
       "                        <td id=\"T_5908f18e_0b22_11ea_9a7a_80000208fe80row5_col39\" class=\"data row5 col39\" >BatchNorm2d(128, eps=1e-05, momentum=0.1, affine=True, track_running_stats=True)</td>\n",
       "                        <td id=\"T_5908f18e_0b22_11ea_9a7a_80000208fe80row5_col40\" class=\"data row5 col40\" >ReLU()</td>\n",
       "                        <td id=\"T_5908f18e_0b22_11ea_9a7a_80000208fe80row5_col41\" class=\"data row5 col41\" >Conv2d(128, 256, kernel_size=(3, 3), stride=(2, 2), padding=(1, 1))</td>\n",
       "                        <td id=\"T_5908f18e_0b22_11ea_9a7a_80000208fe80row5_col42\" class=\"data row5 col42\" >BatchNorm2d(256, eps=1e-05, momentum=0.1, affine=True, track_running_stats=True)</td>\n",
       "                        <td id=\"T_5908f18e_0b22_11ea_9a7a_80000208fe80row5_col43\" class=\"data row5 col43\" >ReLU()</td>\n",
       "                        <td id=\"T_5908f18e_0b22_11ea_9a7a_80000208fe80row5_col44\" class=\"data row5 col44\" >Conv2d(256, 256, kernel_size=(3, 3), stride=(1, 1), padding=(1, 1))</td>\n",
       "                        <td id=\"T_5908f18e_0b22_11ea_9a7a_80000208fe80row5_col45\" class=\"data row5 col45\" >ReLU()</td>\n",
       "                        <td id=\"T_5908f18e_0b22_11ea_9a7a_80000208fe80row5_col46\" class=\"data row5 col46\" >Conv2d(128, 256, kernel_size=(1, 1), stride=(2, 2))</td>\n",
       "                        <td id=\"T_5908f18e_0b22_11ea_9a7a_80000208fe80row5_col47\" class=\"data row5 col47\" >TorchAdd()</td>\n",
       "                        <td id=\"T_5908f18e_0b22_11ea_9a7a_80000208fe80row5_col48\" class=\"data row5 col48\" >BatchNorm2d(256, eps=1e-05, momentum=0.1, affine=True, track_running_stats=True)</td>\n",
       "                        <td id=\"T_5908f18e_0b22_11ea_9a7a_80000208fe80row5_col49\" class=\"data row5 col49\" >ReLU()</td>\n",
       "                        <td id=\"T_5908f18e_0b22_11ea_9a7a_80000208fe80row5_col50\" class=\"data row5 col50\" >Conv2d(256, 256, kernel_size=(3, 3), stride=(1, 1), padding=(1, 1))</td>\n",
       "                        <td id=\"T_5908f18e_0b22_11ea_9a7a_80000208fe80row5_col51\" class=\"data row5 col51\" >BatchNorm2d(256, eps=1e-05, momentum=0.1, affine=True, track_running_stats=True)</td>\n",
       "                        <td id=\"T_5908f18e_0b22_11ea_9a7a_80000208fe80row5_col52\" class=\"data row5 col52\" >ReLU()</td>\n",
       "                        <td id=\"T_5908f18e_0b22_11ea_9a7a_80000208fe80row5_col53\" class=\"data row5 col53\" >Conv2d(256, 256, kernel_size=(3, 3), stride=(1, 1), padding=(1, 1))</td>\n",
       "                        <td id=\"T_5908f18e_0b22_11ea_9a7a_80000208fe80row5_col54\" class=\"data row5 col54\" >ReLU()</td>\n",
       "                        <td id=\"T_5908f18e_0b22_11ea_9a7a_80000208fe80row5_col55\" class=\"data row5 col55\" >Conv2d(256, 256, kernel_size=(1, 1), stride=(1, 1))</td>\n",
       "                        <td id=\"T_5908f18e_0b22_11ea_9a7a_80000208fe80row5_col56\" class=\"data row5 col56\" >TorchAdd()</td>\n",
       "                        <td id=\"T_5908f18e_0b22_11ea_9a7a_80000208fe80row5_col57\" class=\"data row5 col57\" >BatchNorm2d(256, eps=1e-05, momentum=0.1, affine=True, track_running_stats=True)</td>\n",
       "                        <td id=\"T_5908f18e_0b22_11ea_9a7a_80000208fe80row5_col58\" class=\"data row5 col58\" >ReLU()</td>\n",
       "                        <td id=\"T_5908f18e_0b22_11ea_9a7a_80000208fe80row5_col59\" class=\"data row5 col59\" >Conv2d(256, 512, kernel_size=(3, 3), stride=(2, 2), padding=(1, 1))</td>\n",
       "                        <td id=\"T_5908f18e_0b22_11ea_9a7a_80000208fe80row5_col60\" class=\"data row5 col60\" >BatchNorm2d(512, eps=1e-05, momentum=0.1, affine=True, track_running_stats=True)</td>\n",
       "                        <td id=\"T_5908f18e_0b22_11ea_9a7a_80000208fe80row5_col61\" class=\"data row5 col61\" >ReLU()</td>\n",
       "                        <td id=\"T_5908f18e_0b22_11ea_9a7a_80000208fe80row5_col62\" class=\"data row5 col62\" >Conv2d(512, 512, kernel_size=(3, 3), stride=(1, 1), padding=(1, 1))</td>\n",
       "                        <td id=\"T_5908f18e_0b22_11ea_9a7a_80000208fe80row5_col63\" class=\"data row5 col63\" >ReLU()</td>\n",
       "                        <td id=\"T_5908f18e_0b22_11ea_9a7a_80000208fe80row5_col64\" class=\"data row5 col64\" >Conv2d(256, 512, kernel_size=(1, 1), stride=(2, 2))</td>\n",
       "                        <td id=\"T_5908f18e_0b22_11ea_9a7a_80000208fe80row5_col65\" class=\"data row5 col65\" >TorchAdd()</td>\n",
       "                        <td id=\"T_5908f18e_0b22_11ea_9a7a_80000208fe80row5_col66\" class=\"data row5 col66\" >BatchNorm2d(512, eps=1e-05, momentum=0.1, affine=True, track_running_stats=True)</td>\n",
       "                        <td id=\"T_5908f18e_0b22_11ea_9a7a_80000208fe80row5_col67\" class=\"data row5 col67\" >ReLU()</td>\n",
       "                        <td id=\"T_5908f18e_0b22_11ea_9a7a_80000208fe80row5_col68\" class=\"data row5 col68\" >Conv2d(512, 512, kernel_size=(3, 3), stride=(1, 1), padding=(1, 1))</td>\n",
       "                        <td id=\"T_5908f18e_0b22_11ea_9a7a_80000208fe80row5_col69\" class=\"data row5 col69\" >BatchNorm2d(512, eps=1e-05, momentum=0.1, affine=True, track_running_stats=True)</td>\n",
       "                        <td id=\"T_5908f18e_0b22_11ea_9a7a_80000208fe80row5_col70\" class=\"data row5 col70\" >ReLU()</td>\n",
       "                        <td id=\"T_5908f18e_0b22_11ea_9a7a_80000208fe80row5_col71\" class=\"data row5 col71\" >Conv2d(512, 512, kernel_size=(3, 3), stride=(1, 1), padding=(1, 1))</td>\n",
       "                        <td id=\"T_5908f18e_0b22_11ea_9a7a_80000208fe80row5_col72\" class=\"data row5 col72\" >ReLU()</td>\n",
       "                        <td id=\"T_5908f18e_0b22_11ea_9a7a_80000208fe80row5_col73\" class=\"data row5 col73\" >Conv2d(512, 512, kernel_size=(1, 1), stride=(1, 1))</td>\n",
       "                        <td id=\"T_5908f18e_0b22_11ea_9a7a_80000208fe80row5_col74\" class=\"data row5 col74\" >TorchAdd()</td>\n",
       "                        <td id=\"T_5908f18e_0b22_11ea_9a7a_80000208fe80row5_col75\" class=\"data row5 col75\" >GlobalAvgPool2d()</td>\n",
       "                        <td id=\"T_5908f18e_0b22_11ea_9a7a_80000208fe80row5_col76\" class=\"data row5 col76\" >Linear(in_features=512, out_features=10, bias=True)</td>\n",
       "            </tr>\n",
       "    </tbody></table>"
      ],
      "text/plain": [
       "<pandas.io.formats.style.Styler at 0x2b02b8a7d550>"
      ]
     },
     "metadata": {},
     "output_type": "display_data"
    },
    {
     "data": {
      "text/plain": [
       "'AutoKerasClean #1'"
      ]
     },
     "metadata": {},
     "output_type": "display_data"
    },
    {
     "data": {
      "text/html": [
       "<style  type=\"text/css\" >\n",
       "</style><table id=\"T_591360b0_0b22_11ea_9a7a_80000208fe80\" ><thead>    <tr>        <th class=\"col_heading level0 col0\" >std</th>        <th class=\"col_heading level0 col1\" >test_acc</th>        <th class=\"col_heading level0 col2\" >train_acc</th>        <th class=\"col_heading level0 col3\" >time_err</th>        <th class=\"col_heading level0 col4\" >time_pre</th>        <th class=\"col_heading level0 col5\" >time_mod</th>    </tr></thead><tbody>\n",
       "                <tr>\n",
       "                                <td id=\"T_591360b0_0b22_11ea_9a7a_80000208fe80row0_col0\" class=\"data row0 col0\" >0</td>\n",
       "                        <td id=\"T_591360b0_0b22_11ea_9a7a_80000208fe80row0_col1\" class=\"data row0 col1\" >0.988</td>\n",
       "                        <td id=\"T_591360b0_0b22_11ea_9a7a_80000208fe80row0_col2\" class=\"data row0 col2\" >0.999</td>\n",
       "                        <td id=\"T_591360b0_0b22_11ea_9a7a_80000208fe80row0_col3\" class=\"data row0 col3\" >0.141</td>\n",
       "                        <td id=\"T_591360b0_0b22_11ea_9a7a_80000208fe80row0_col4\" class=\"data row0 col4\" >0.001</td>\n",
       "                        <td id=\"T_591360b0_0b22_11ea_9a7a_80000208fe80row0_col5\" class=\"data row0 col5\" >1805.11</td>\n",
       "            </tr>\n",
       "            <tr>\n",
       "                                <td id=\"T_591360b0_0b22_11ea_9a7a_80000208fe80row1_col0\" class=\"data row1 col0\" >3.2</td>\n",
       "                        <td id=\"T_591360b0_0b22_11ea_9a7a_80000208fe80row1_col1\" class=\"data row1 col1\" >0.942</td>\n",
       "                        <td id=\"T_591360b0_0b22_11ea_9a7a_80000208fe80row1_col2\" class=\"data row1 col2\" >0.999</td>\n",
       "                        <td id=\"T_591360b0_0b22_11ea_9a7a_80000208fe80row1_col3\" class=\"data row1 col3\" >0.106</td>\n",
       "                        <td id=\"T_591360b0_0b22_11ea_9a7a_80000208fe80row1_col4\" class=\"data row1 col4\" >0.001</td>\n",
       "                        <td id=\"T_591360b0_0b22_11ea_9a7a_80000208fe80row1_col5\" class=\"data row1 col5\" >1811.22</td>\n",
       "            </tr>\n",
       "            <tr>\n",
       "                                <td id=\"T_591360b0_0b22_11ea_9a7a_80000208fe80row2_col0\" class=\"data row2 col0\" >6.4</td>\n",
       "                        <td id=\"T_591360b0_0b22_11ea_9a7a_80000208fe80row2_col1\" class=\"data row2 col1\" >0.728</td>\n",
       "                        <td id=\"T_591360b0_0b22_11ea_9a7a_80000208fe80row2_col2\" class=\"data row2 col2\" >0.999</td>\n",
       "                        <td id=\"T_591360b0_0b22_11ea_9a7a_80000208fe80row2_col3\" class=\"data row2 col3\" >0.115</td>\n",
       "                        <td id=\"T_591360b0_0b22_11ea_9a7a_80000208fe80row2_col4\" class=\"data row2 col4\" >0.002</td>\n",
       "                        <td id=\"T_591360b0_0b22_11ea_9a7a_80000208fe80row2_col5\" class=\"data row2 col5\" >1811.54</td>\n",
       "            </tr>\n",
       "            <tr>\n",
       "                                <td id=\"T_591360b0_0b22_11ea_9a7a_80000208fe80row3_col0\" class=\"data row3 col0\" >9.6</td>\n",
       "                        <td id=\"T_591360b0_0b22_11ea_9a7a_80000208fe80row3_col1\" class=\"data row3 col1\" >0.486</td>\n",
       "                        <td id=\"T_591360b0_0b22_11ea_9a7a_80000208fe80row3_col2\" class=\"data row3 col2\" >0.999</td>\n",
       "                        <td id=\"T_591360b0_0b22_11ea_9a7a_80000208fe80row3_col3\" class=\"data row3 col3\" >0.105</td>\n",
       "                        <td id=\"T_591360b0_0b22_11ea_9a7a_80000208fe80row3_col4\" class=\"data row3 col4\" >0.001</td>\n",
       "                        <td id=\"T_591360b0_0b22_11ea_9a7a_80000208fe80row3_col5\" class=\"data row3 col5\" >1818.42</td>\n",
       "            </tr>\n",
       "            <tr>\n",
       "                                <td id=\"T_591360b0_0b22_11ea_9a7a_80000208fe80row4_col0\" class=\"data row4 col0\" >12.8</td>\n",
       "                        <td id=\"T_591360b0_0b22_11ea_9a7a_80000208fe80row4_col1\" class=\"data row4 col1\" >0.346</td>\n",
       "                        <td id=\"T_591360b0_0b22_11ea_9a7a_80000208fe80row4_col2\" class=\"data row4 col2\" >0.999</td>\n",
       "                        <td id=\"T_591360b0_0b22_11ea_9a7a_80000208fe80row4_col3\" class=\"data row4 col3\" >0.1</td>\n",
       "                        <td id=\"T_591360b0_0b22_11ea_9a7a_80000208fe80row4_col4\" class=\"data row4 col4\" >0.001</td>\n",
       "                        <td id=\"T_591360b0_0b22_11ea_9a7a_80000208fe80row4_col5\" class=\"data row4 col5\" >1817.5</td>\n",
       "            </tr>\n",
       "            <tr>\n",
       "                                <td id=\"T_591360b0_0b22_11ea_9a7a_80000208fe80row5_col0\" class=\"data row5 col0\" >16</td>\n",
       "                        <td id=\"T_591360b0_0b22_11ea_9a7a_80000208fe80row5_col1\" class=\"data row5 col1\" >0.253</td>\n",
       "                        <td id=\"T_591360b0_0b22_11ea_9a7a_80000208fe80row5_col2\" class=\"data row5 col2\" >0.999</td>\n",
       "                        <td id=\"T_591360b0_0b22_11ea_9a7a_80000208fe80row5_col3\" class=\"data row5 col3\" >0.1</td>\n",
       "                        <td id=\"T_591360b0_0b22_11ea_9a7a_80000208fe80row5_col4\" class=\"data row5 col4\" >0.001</td>\n",
       "                        <td id=\"T_591360b0_0b22_11ea_9a7a_80000208fe80row5_col5\" class=\"data row5 col5\" >1822.51</td>\n",
       "            </tr>\n",
       "    </tbody></table>"
      ],
      "text/plain": [
       "<pandas.io.formats.style.Styler at 0x2b01dc6aaa20>"
      ]
     },
     "metadata": {},
     "output_type": "display_data"
    },
    {
     "data": {
      "text/html": [
       "<style  type=\"text/css\" >\n",
       "</style><table id=\"T_5918efbc_0b22_11ea_9a7a_80000208fe80\" ><thead>    <tr>        <th class=\"col_heading level0 col0\" >std</th>        <th class=\"col_heading level0 col1\" >pipe_0</th>        <th class=\"col_heading level0 col2\" >pipe_1</th>        <th class=\"col_heading level0 col3\" >pipe_2</th>        <th class=\"col_heading level0 col4\" >pipe_3</th>        <th class=\"col_heading level0 col5\" >pipe_4</th>        <th class=\"col_heading level0 col6\" >pipe_5</th>        <th class=\"col_heading level0 col7\" >pipe_6</th>        <th class=\"col_heading level0 col8\" >pipe_7</th>        <th class=\"col_heading level0 col9\" >pipe_8</th>        <th class=\"col_heading level0 col10\" >pipe_9</th>        <th class=\"col_heading level0 col11\" >pipe_10</th>        <th class=\"col_heading level0 col12\" >pipe_11</th>        <th class=\"col_heading level0 col13\" >pipe_12</th>        <th class=\"col_heading level0 col14\" >pipe_13</th>        <th class=\"col_heading level0 col15\" >pipe_14</th>        <th class=\"col_heading level0 col16\" >pipe_15</th>        <th class=\"col_heading level0 col17\" >pipe_16</th>        <th class=\"col_heading level0 col18\" >pipe_17</th>        <th class=\"col_heading level0 col19\" >pipe_18</th>        <th class=\"col_heading level0 col20\" >pipe_19</th>        <th class=\"col_heading level0 col21\" >pipe_20</th>        <th class=\"col_heading level0 col22\" >pipe_21</th>        <th class=\"col_heading level0 col23\" >pipe_22</th>        <th class=\"col_heading level0 col24\" >pipe_23</th>        <th class=\"col_heading level0 col25\" >pipe_24</th>        <th class=\"col_heading level0 col26\" >pipe_25</th>        <th class=\"col_heading level0 col27\" >pipe_26</th>        <th class=\"col_heading level0 col28\" >pipe_27</th>        <th class=\"col_heading level0 col29\" >pipe_28</th>        <th class=\"col_heading level0 col30\" >pipe_29</th>        <th class=\"col_heading level0 col31\" >pipe_30</th>        <th class=\"col_heading level0 col32\" >pipe_31</th>        <th class=\"col_heading level0 col33\" >pipe_32</th>        <th class=\"col_heading level0 col34\" >pipe_33</th>        <th class=\"col_heading level0 col35\" >pipe_34</th>        <th class=\"col_heading level0 col36\" >pipe_35</th>        <th class=\"col_heading level0 col37\" >pipe_36</th>        <th class=\"col_heading level0 col38\" >pipe_37</th>        <th class=\"col_heading level0 col39\" >pipe_38</th>        <th class=\"col_heading level0 col40\" >pipe_39</th>        <th class=\"col_heading level0 col41\" >pipe_40</th>        <th class=\"col_heading level0 col42\" >pipe_41</th>        <th class=\"col_heading level0 col43\" >pipe_42</th>        <th class=\"col_heading level0 col44\" >pipe_43</th>        <th class=\"col_heading level0 col45\" >pipe_44</th>        <th class=\"col_heading level0 col46\" >pipe_45</th>        <th class=\"col_heading level0 col47\" >pipe_46</th>        <th class=\"col_heading level0 col48\" >pipe_47</th>        <th class=\"col_heading level0 col49\" >pipe_48</th>        <th class=\"col_heading level0 col50\" >pipe_49</th>        <th class=\"col_heading level0 col51\" >pipe_50</th>        <th class=\"col_heading level0 col52\" >pipe_51</th>        <th class=\"col_heading level0 col53\" >pipe_52</th>        <th class=\"col_heading level0 col54\" >pipe_53</th>        <th class=\"col_heading level0 col55\" >pipe_54</th>        <th class=\"col_heading level0 col56\" >pipe_55</th>        <th class=\"col_heading level0 col57\" >pipe_56</th>        <th class=\"col_heading level0 col58\" >pipe_57</th>        <th class=\"col_heading level0 col59\" >pipe_58</th>        <th class=\"col_heading level0 col60\" >pipe_59</th>        <th class=\"col_heading level0 col61\" >pipe_60</th>        <th class=\"col_heading level0 col62\" >pipe_61</th>        <th class=\"col_heading level0 col63\" >pipe_62</th>        <th class=\"col_heading level0 col64\" >pipe_63</th>        <th class=\"col_heading level0 col65\" >pipe_64</th>        <th class=\"col_heading level0 col66\" >pipe_65</th>        <th class=\"col_heading level0 col67\" >pipe_66</th>        <th class=\"col_heading level0 col68\" >pipe_67</th>        <th class=\"col_heading level0 col69\" >pipe_68</th>        <th class=\"col_heading level0 col70\" >pipe_69</th>        <th class=\"col_heading level0 col71\" >pipe_70</th>        <th class=\"col_heading level0 col72\" >pipe_71</th>        <th class=\"col_heading level0 col73\" >pipe_72</th>        <th class=\"col_heading level0 col74\" >pipe_73</th>        <th class=\"col_heading level0 col75\" >pipe_74</th>        <th class=\"col_heading level0 col76\" >pipe_75</th>        <th class=\"col_heading level0 col77\" >pipe_76</th>    </tr></thead><tbody>\n",
       "                <tr>\n",
       "                                <td id=\"T_5918efbc_0b22_11ea_9a7a_80000208fe80row0_col0\" class=\"data row0 col0\" >0</td>\n",
       "                        <td id=\"T_5918efbc_0b22_11ea_9a7a_80000208fe80row0_col1\" class=\"data row0 col1\" >Conv2d(1, 64, kernel_size=(3, 3), stride=(1, 1), padding=(1, 1))</td>\n",
       "                        <td id=\"T_5918efbc_0b22_11ea_9a7a_80000208fe80row0_col2\" class=\"data row0 col2\" >BatchNorm2d(64, eps=1e-05, momentum=0.1, affine=True, track_running_stats=True)</td>\n",
       "                        <td id=\"T_5918efbc_0b22_11ea_9a7a_80000208fe80row0_col3\" class=\"data row0 col3\" >BatchNorm2d(64, eps=1e-05, momentum=0.1, affine=True, track_running_stats=True)</td>\n",
       "                        <td id=\"T_5918efbc_0b22_11ea_9a7a_80000208fe80row0_col4\" class=\"data row0 col4\" >ReLU()</td>\n",
       "                        <td id=\"T_5918efbc_0b22_11ea_9a7a_80000208fe80row0_col5\" class=\"data row0 col5\" >Conv2d(64, 64, kernel_size=(3, 3), stride=(1, 1), padding=(1, 1))</td>\n",
       "                        <td id=\"T_5918efbc_0b22_11ea_9a7a_80000208fe80row0_col6\" class=\"data row0 col6\" >BatchNorm2d(64, eps=1e-05, momentum=0.1, affine=True, track_running_stats=True)</td>\n",
       "                        <td id=\"T_5918efbc_0b22_11ea_9a7a_80000208fe80row0_col7\" class=\"data row0 col7\" >ReLU()</td>\n",
       "                        <td id=\"T_5918efbc_0b22_11ea_9a7a_80000208fe80row0_col8\" class=\"data row0 col8\" >Conv2d(64, 64, kernel_size=(3, 3), stride=(1, 1), padding=(1, 1))</td>\n",
       "                        <td id=\"T_5918efbc_0b22_11ea_9a7a_80000208fe80row0_col9\" class=\"data row0 col9\" >ReLU()</td>\n",
       "                        <td id=\"T_5918efbc_0b22_11ea_9a7a_80000208fe80row0_col10\" class=\"data row0 col10\" >Conv2d(64, 64, kernel_size=(1, 1), stride=(1, 1))</td>\n",
       "                        <td id=\"T_5918efbc_0b22_11ea_9a7a_80000208fe80row0_col11\" class=\"data row0 col11\" >TorchAdd()</td>\n",
       "                        <td id=\"T_5918efbc_0b22_11ea_9a7a_80000208fe80row0_col12\" class=\"data row0 col12\" >BatchNorm2d(64, eps=1e-05, momentum=0.1, affine=True, track_running_stats=True)</td>\n",
       "                        <td id=\"T_5918efbc_0b22_11ea_9a7a_80000208fe80row0_col13\" class=\"data row0 col13\" >ReLU()</td>\n",
       "                        <td id=\"T_5918efbc_0b22_11ea_9a7a_80000208fe80row0_col14\" class=\"data row0 col14\" >Conv2d(64, 64, kernel_size=(3, 3), stride=(1, 1), padding=(1, 1))</td>\n",
       "                        <td id=\"T_5918efbc_0b22_11ea_9a7a_80000208fe80row0_col15\" class=\"data row0 col15\" >BatchNorm2d(64, eps=1e-05, momentum=0.1, affine=True, track_running_stats=True)</td>\n",
       "                        <td id=\"T_5918efbc_0b22_11ea_9a7a_80000208fe80row0_col16\" class=\"data row0 col16\" >ReLU()</td>\n",
       "                        <td id=\"T_5918efbc_0b22_11ea_9a7a_80000208fe80row0_col17\" class=\"data row0 col17\" >Conv2d(64, 64, kernel_size=(3, 3), stride=(1, 1), padding=(1, 1))</td>\n",
       "                        <td id=\"T_5918efbc_0b22_11ea_9a7a_80000208fe80row0_col18\" class=\"data row0 col18\" >ReLU()</td>\n",
       "                        <td id=\"T_5918efbc_0b22_11ea_9a7a_80000208fe80row0_col19\" class=\"data row0 col19\" >Conv2d(64, 64, kernel_size=(1, 1), stride=(1, 1))</td>\n",
       "                        <td id=\"T_5918efbc_0b22_11ea_9a7a_80000208fe80row0_col20\" class=\"data row0 col20\" >TorchAdd()</td>\n",
       "                        <td id=\"T_5918efbc_0b22_11ea_9a7a_80000208fe80row0_col21\" class=\"data row0 col21\" >BatchNorm2d(64, eps=1e-05, momentum=0.1, affine=True, track_running_stats=True)</td>\n",
       "                        <td id=\"T_5918efbc_0b22_11ea_9a7a_80000208fe80row0_col22\" class=\"data row0 col22\" >ReLU()</td>\n",
       "                        <td id=\"T_5918efbc_0b22_11ea_9a7a_80000208fe80row0_col23\" class=\"data row0 col23\" >Conv2d(64, 128, kernel_size=(3, 3), stride=(2, 2), padding=(1, 1))</td>\n",
       "                        <td id=\"T_5918efbc_0b22_11ea_9a7a_80000208fe80row0_col24\" class=\"data row0 col24\" >BatchNorm2d(128, eps=1e-05, momentum=0.1, affine=True, track_running_stats=True)</td>\n",
       "                        <td id=\"T_5918efbc_0b22_11ea_9a7a_80000208fe80row0_col25\" class=\"data row0 col25\" >ReLU()</td>\n",
       "                        <td id=\"T_5918efbc_0b22_11ea_9a7a_80000208fe80row0_col26\" class=\"data row0 col26\" >Conv2d(128, 128, kernel_size=(3, 3), stride=(1, 1), padding=(1, 1))</td>\n",
       "                        <td id=\"T_5918efbc_0b22_11ea_9a7a_80000208fe80row0_col27\" class=\"data row0 col27\" >ReLU()</td>\n",
       "                        <td id=\"T_5918efbc_0b22_11ea_9a7a_80000208fe80row0_col28\" class=\"data row0 col28\" >Conv2d(64, 128, kernel_size=(1, 1), stride=(2, 2))</td>\n",
       "                        <td id=\"T_5918efbc_0b22_11ea_9a7a_80000208fe80row0_col29\" class=\"data row0 col29\" >TorchAdd()</td>\n",
       "                        <td id=\"T_5918efbc_0b22_11ea_9a7a_80000208fe80row0_col30\" class=\"data row0 col30\" >BatchNorm2d(128, eps=1e-05, momentum=0.1, affine=True, track_running_stats=True)</td>\n",
       "                        <td id=\"T_5918efbc_0b22_11ea_9a7a_80000208fe80row0_col31\" class=\"data row0 col31\" >ReLU()</td>\n",
       "                        <td id=\"T_5918efbc_0b22_11ea_9a7a_80000208fe80row0_col32\" class=\"data row0 col32\" >Conv2d(128, 128, kernel_size=(3, 3), stride=(1, 1), padding=(1, 1))</td>\n",
       "                        <td id=\"T_5918efbc_0b22_11ea_9a7a_80000208fe80row0_col33\" class=\"data row0 col33\" >BatchNorm2d(128, eps=1e-05, momentum=0.1, affine=True, track_running_stats=True)</td>\n",
       "                        <td id=\"T_5918efbc_0b22_11ea_9a7a_80000208fe80row0_col34\" class=\"data row0 col34\" >ReLU()</td>\n",
       "                        <td id=\"T_5918efbc_0b22_11ea_9a7a_80000208fe80row0_col35\" class=\"data row0 col35\" >Conv2d(128, 128, kernel_size=(3, 3), stride=(1, 1), padding=(1, 1))</td>\n",
       "                        <td id=\"T_5918efbc_0b22_11ea_9a7a_80000208fe80row0_col36\" class=\"data row0 col36\" >ReLU()</td>\n",
       "                        <td id=\"T_5918efbc_0b22_11ea_9a7a_80000208fe80row0_col37\" class=\"data row0 col37\" >Conv2d(128, 128, kernel_size=(1, 1), stride=(1, 1))</td>\n",
       "                        <td id=\"T_5918efbc_0b22_11ea_9a7a_80000208fe80row0_col38\" class=\"data row0 col38\" >TorchAdd()</td>\n",
       "                        <td id=\"T_5918efbc_0b22_11ea_9a7a_80000208fe80row0_col39\" class=\"data row0 col39\" >BatchNorm2d(128, eps=1e-05, momentum=0.1, affine=True, track_running_stats=True)</td>\n",
       "                        <td id=\"T_5918efbc_0b22_11ea_9a7a_80000208fe80row0_col40\" class=\"data row0 col40\" >ReLU()</td>\n",
       "                        <td id=\"T_5918efbc_0b22_11ea_9a7a_80000208fe80row0_col41\" class=\"data row0 col41\" >Conv2d(128, 256, kernel_size=(3, 3), stride=(2, 2), padding=(1, 1))</td>\n",
       "                        <td id=\"T_5918efbc_0b22_11ea_9a7a_80000208fe80row0_col42\" class=\"data row0 col42\" >BatchNorm2d(256, eps=1e-05, momentum=0.1, affine=True, track_running_stats=True)</td>\n",
       "                        <td id=\"T_5918efbc_0b22_11ea_9a7a_80000208fe80row0_col43\" class=\"data row0 col43\" >ReLU()</td>\n",
       "                        <td id=\"T_5918efbc_0b22_11ea_9a7a_80000208fe80row0_col44\" class=\"data row0 col44\" >Conv2d(256, 256, kernel_size=(3, 3), stride=(1, 1), padding=(1, 1))</td>\n",
       "                        <td id=\"T_5918efbc_0b22_11ea_9a7a_80000208fe80row0_col45\" class=\"data row0 col45\" >ReLU()</td>\n",
       "                        <td id=\"T_5918efbc_0b22_11ea_9a7a_80000208fe80row0_col46\" class=\"data row0 col46\" >Conv2d(128, 256, kernel_size=(1, 1), stride=(2, 2))</td>\n",
       "                        <td id=\"T_5918efbc_0b22_11ea_9a7a_80000208fe80row0_col47\" class=\"data row0 col47\" >TorchAdd()</td>\n",
       "                        <td id=\"T_5918efbc_0b22_11ea_9a7a_80000208fe80row0_col48\" class=\"data row0 col48\" >BatchNorm2d(256, eps=1e-05, momentum=0.1, affine=True, track_running_stats=True)</td>\n",
       "                        <td id=\"T_5918efbc_0b22_11ea_9a7a_80000208fe80row0_col49\" class=\"data row0 col49\" >ReLU()</td>\n",
       "                        <td id=\"T_5918efbc_0b22_11ea_9a7a_80000208fe80row0_col50\" class=\"data row0 col50\" >Conv2d(256, 256, kernel_size=(3, 3), stride=(1, 1), padding=(1, 1))</td>\n",
       "                        <td id=\"T_5918efbc_0b22_11ea_9a7a_80000208fe80row0_col51\" class=\"data row0 col51\" >BatchNorm2d(256, eps=1e-05, momentum=0.1, affine=True, track_running_stats=True)</td>\n",
       "                        <td id=\"T_5918efbc_0b22_11ea_9a7a_80000208fe80row0_col52\" class=\"data row0 col52\" >ReLU()</td>\n",
       "                        <td id=\"T_5918efbc_0b22_11ea_9a7a_80000208fe80row0_col53\" class=\"data row0 col53\" >Conv2d(256, 256, kernel_size=(3, 3), stride=(1, 1), padding=(1, 1))</td>\n",
       "                        <td id=\"T_5918efbc_0b22_11ea_9a7a_80000208fe80row0_col54\" class=\"data row0 col54\" >ReLU()</td>\n",
       "                        <td id=\"T_5918efbc_0b22_11ea_9a7a_80000208fe80row0_col55\" class=\"data row0 col55\" >Conv2d(256, 256, kernel_size=(1, 1), stride=(1, 1))</td>\n",
       "                        <td id=\"T_5918efbc_0b22_11ea_9a7a_80000208fe80row0_col56\" class=\"data row0 col56\" >TorchAdd()</td>\n",
       "                        <td id=\"T_5918efbc_0b22_11ea_9a7a_80000208fe80row0_col57\" class=\"data row0 col57\" >BatchNorm2d(256, eps=1e-05, momentum=0.1, affine=True, track_running_stats=True)</td>\n",
       "                        <td id=\"T_5918efbc_0b22_11ea_9a7a_80000208fe80row0_col58\" class=\"data row0 col58\" >ReLU()</td>\n",
       "                        <td id=\"T_5918efbc_0b22_11ea_9a7a_80000208fe80row0_col59\" class=\"data row0 col59\" >Conv2d(256, 512, kernel_size=(3, 3), stride=(2, 2), padding=(1, 1))</td>\n",
       "                        <td id=\"T_5918efbc_0b22_11ea_9a7a_80000208fe80row0_col60\" class=\"data row0 col60\" >BatchNorm2d(512, eps=1e-05, momentum=0.1, affine=True, track_running_stats=True)</td>\n",
       "                        <td id=\"T_5918efbc_0b22_11ea_9a7a_80000208fe80row0_col61\" class=\"data row0 col61\" >ReLU()</td>\n",
       "                        <td id=\"T_5918efbc_0b22_11ea_9a7a_80000208fe80row0_col62\" class=\"data row0 col62\" >Conv2d(512, 512, kernel_size=(3, 3), stride=(1, 1), padding=(1, 1))</td>\n",
       "                        <td id=\"T_5918efbc_0b22_11ea_9a7a_80000208fe80row0_col63\" class=\"data row0 col63\" >ReLU()</td>\n",
       "                        <td id=\"T_5918efbc_0b22_11ea_9a7a_80000208fe80row0_col64\" class=\"data row0 col64\" >Conv2d(256, 512, kernel_size=(1, 1), stride=(2, 2))</td>\n",
       "                        <td id=\"T_5918efbc_0b22_11ea_9a7a_80000208fe80row0_col65\" class=\"data row0 col65\" >TorchAdd()</td>\n",
       "                        <td id=\"T_5918efbc_0b22_11ea_9a7a_80000208fe80row0_col66\" class=\"data row0 col66\" >BatchNorm2d(512, eps=1e-05, momentum=0.1, affine=True, track_running_stats=True)</td>\n",
       "                        <td id=\"T_5918efbc_0b22_11ea_9a7a_80000208fe80row0_col67\" class=\"data row0 col67\" >ReLU()</td>\n",
       "                        <td id=\"T_5918efbc_0b22_11ea_9a7a_80000208fe80row0_col68\" class=\"data row0 col68\" >Conv2d(512, 512, kernel_size=(3, 3), stride=(1, 1), padding=(1, 1))</td>\n",
       "                        <td id=\"T_5918efbc_0b22_11ea_9a7a_80000208fe80row0_col69\" class=\"data row0 col69\" >BatchNorm2d(512, eps=1e-05, momentum=0.1, affine=True, track_running_stats=True)</td>\n",
       "                        <td id=\"T_5918efbc_0b22_11ea_9a7a_80000208fe80row0_col70\" class=\"data row0 col70\" >ReLU()</td>\n",
       "                        <td id=\"T_5918efbc_0b22_11ea_9a7a_80000208fe80row0_col71\" class=\"data row0 col71\" >Conv2d(512, 512, kernel_size=(3, 3), stride=(1, 1), padding=(1, 1))</td>\n",
       "                        <td id=\"T_5918efbc_0b22_11ea_9a7a_80000208fe80row0_col72\" class=\"data row0 col72\" >ReLU()</td>\n",
       "                        <td id=\"T_5918efbc_0b22_11ea_9a7a_80000208fe80row0_col73\" class=\"data row0 col73\" >Conv2d(512, 512, kernel_size=(1, 1), stride=(1, 1))</td>\n",
       "                        <td id=\"T_5918efbc_0b22_11ea_9a7a_80000208fe80row0_col74\" class=\"data row0 col74\" >TorchAdd()</td>\n",
       "                        <td id=\"T_5918efbc_0b22_11ea_9a7a_80000208fe80row0_col75\" class=\"data row0 col75\" >GlobalAvgPool2d()</td>\n",
       "                        <td id=\"T_5918efbc_0b22_11ea_9a7a_80000208fe80row0_col76\" class=\"data row0 col76\" >Linear(in_features=512, out_features=10, bias=True)</td>\n",
       "                        <td id=\"T_5918efbc_0b22_11ea_9a7a_80000208fe80row0_col77\" class=\"data row0 col77\" >nan</td>\n",
       "            </tr>\n",
       "            <tr>\n",
       "                                <td id=\"T_5918efbc_0b22_11ea_9a7a_80000208fe80row1_col0\" class=\"data row1 col0\" >3.2</td>\n",
       "                        <td id=\"T_5918efbc_0b22_11ea_9a7a_80000208fe80row1_col1\" class=\"data row1 col1\" >Conv2d(1, 64, kernel_size=(3, 3), stride=(1, 1), padding=(1, 1))</td>\n",
       "                        <td id=\"T_5918efbc_0b22_11ea_9a7a_80000208fe80row1_col2\" class=\"data row1 col2\" >BatchNorm2d(64, eps=1e-05, momentum=0.1, affine=True, track_running_stats=True)</td>\n",
       "                        <td id=\"T_5918efbc_0b22_11ea_9a7a_80000208fe80row1_col3\" class=\"data row1 col3\" >BatchNorm2d(64, eps=1e-05, momentum=0.1, affine=True, track_running_stats=True)</td>\n",
       "                        <td id=\"T_5918efbc_0b22_11ea_9a7a_80000208fe80row1_col4\" class=\"data row1 col4\" >ReLU()</td>\n",
       "                        <td id=\"T_5918efbc_0b22_11ea_9a7a_80000208fe80row1_col5\" class=\"data row1 col5\" >Conv2d(64, 64, kernel_size=(3, 3), stride=(1, 1), padding=(1, 1))</td>\n",
       "                        <td id=\"T_5918efbc_0b22_11ea_9a7a_80000208fe80row1_col6\" class=\"data row1 col6\" >BatchNorm2d(64, eps=1e-05, momentum=0.1, affine=True, track_running_stats=True)</td>\n",
       "                        <td id=\"T_5918efbc_0b22_11ea_9a7a_80000208fe80row1_col7\" class=\"data row1 col7\" >ReLU()</td>\n",
       "                        <td id=\"T_5918efbc_0b22_11ea_9a7a_80000208fe80row1_col8\" class=\"data row1 col8\" >Conv2d(64, 64, kernel_size=(3, 3), stride=(1, 1), padding=(1, 1))</td>\n",
       "                        <td id=\"T_5918efbc_0b22_11ea_9a7a_80000208fe80row1_col9\" class=\"data row1 col9\" >ReLU()</td>\n",
       "                        <td id=\"T_5918efbc_0b22_11ea_9a7a_80000208fe80row1_col10\" class=\"data row1 col10\" >Conv2d(64, 64, kernel_size=(1, 1), stride=(1, 1))</td>\n",
       "                        <td id=\"T_5918efbc_0b22_11ea_9a7a_80000208fe80row1_col11\" class=\"data row1 col11\" >TorchAdd()</td>\n",
       "                        <td id=\"T_5918efbc_0b22_11ea_9a7a_80000208fe80row1_col12\" class=\"data row1 col12\" >BatchNorm2d(64, eps=1e-05, momentum=0.1, affine=True, track_running_stats=True)</td>\n",
       "                        <td id=\"T_5918efbc_0b22_11ea_9a7a_80000208fe80row1_col13\" class=\"data row1 col13\" >ReLU()</td>\n",
       "                        <td id=\"T_5918efbc_0b22_11ea_9a7a_80000208fe80row1_col14\" class=\"data row1 col14\" >Conv2d(64, 64, kernel_size=(3, 3), stride=(1, 1), padding=(1, 1))</td>\n",
       "                        <td id=\"T_5918efbc_0b22_11ea_9a7a_80000208fe80row1_col15\" class=\"data row1 col15\" >BatchNorm2d(64, eps=1e-05, momentum=0.1, affine=True, track_running_stats=True)</td>\n",
       "                        <td id=\"T_5918efbc_0b22_11ea_9a7a_80000208fe80row1_col16\" class=\"data row1 col16\" >ReLU()</td>\n",
       "                        <td id=\"T_5918efbc_0b22_11ea_9a7a_80000208fe80row1_col17\" class=\"data row1 col17\" >Conv2d(64, 64, kernel_size=(3, 3), stride=(1, 1), padding=(1, 1))</td>\n",
       "                        <td id=\"T_5918efbc_0b22_11ea_9a7a_80000208fe80row1_col18\" class=\"data row1 col18\" >ReLU()</td>\n",
       "                        <td id=\"T_5918efbc_0b22_11ea_9a7a_80000208fe80row1_col19\" class=\"data row1 col19\" >Conv2d(64, 64, kernel_size=(1, 1), stride=(1, 1))</td>\n",
       "                        <td id=\"T_5918efbc_0b22_11ea_9a7a_80000208fe80row1_col20\" class=\"data row1 col20\" >TorchAdd()</td>\n",
       "                        <td id=\"T_5918efbc_0b22_11ea_9a7a_80000208fe80row1_col21\" class=\"data row1 col21\" >BatchNorm2d(64, eps=1e-05, momentum=0.1, affine=True, track_running_stats=True)</td>\n",
       "                        <td id=\"T_5918efbc_0b22_11ea_9a7a_80000208fe80row1_col22\" class=\"data row1 col22\" >ReLU()</td>\n",
       "                        <td id=\"T_5918efbc_0b22_11ea_9a7a_80000208fe80row1_col23\" class=\"data row1 col23\" >Conv2d(64, 128, kernel_size=(3, 3), stride=(2, 2), padding=(1, 1))</td>\n",
       "                        <td id=\"T_5918efbc_0b22_11ea_9a7a_80000208fe80row1_col24\" class=\"data row1 col24\" >BatchNorm2d(128, eps=1e-05, momentum=0.1, affine=True, track_running_stats=True)</td>\n",
       "                        <td id=\"T_5918efbc_0b22_11ea_9a7a_80000208fe80row1_col25\" class=\"data row1 col25\" >ReLU()</td>\n",
       "                        <td id=\"T_5918efbc_0b22_11ea_9a7a_80000208fe80row1_col26\" class=\"data row1 col26\" >Conv2d(128, 128, kernel_size=(3, 3), stride=(1, 1), padding=(1, 1))</td>\n",
       "                        <td id=\"T_5918efbc_0b22_11ea_9a7a_80000208fe80row1_col27\" class=\"data row1 col27\" >ReLU()</td>\n",
       "                        <td id=\"T_5918efbc_0b22_11ea_9a7a_80000208fe80row1_col28\" class=\"data row1 col28\" >Conv2d(64, 128, kernel_size=(1, 1), stride=(2, 2))</td>\n",
       "                        <td id=\"T_5918efbc_0b22_11ea_9a7a_80000208fe80row1_col29\" class=\"data row1 col29\" >TorchAdd()</td>\n",
       "                        <td id=\"T_5918efbc_0b22_11ea_9a7a_80000208fe80row1_col30\" class=\"data row1 col30\" >BatchNorm2d(128, eps=1e-05, momentum=0.1, affine=True, track_running_stats=True)</td>\n",
       "                        <td id=\"T_5918efbc_0b22_11ea_9a7a_80000208fe80row1_col31\" class=\"data row1 col31\" >ReLU()</td>\n",
       "                        <td id=\"T_5918efbc_0b22_11ea_9a7a_80000208fe80row1_col32\" class=\"data row1 col32\" >Conv2d(128, 128, kernel_size=(3, 3), stride=(1, 1), padding=(1, 1))</td>\n",
       "                        <td id=\"T_5918efbc_0b22_11ea_9a7a_80000208fe80row1_col33\" class=\"data row1 col33\" >BatchNorm2d(128, eps=1e-05, momentum=0.1, affine=True, track_running_stats=True)</td>\n",
       "                        <td id=\"T_5918efbc_0b22_11ea_9a7a_80000208fe80row1_col34\" class=\"data row1 col34\" >ReLU()</td>\n",
       "                        <td id=\"T_5918efbc_0b22_11ea_9a7a_80000208fe80row1_col35\" class=\"data row1 col35\" >Conv2d(128, 128, kernel_size=(3, 3), stride=(1, 1), padding=(1, 1))</td>\n",
       "                        <td id=\"T_5918efbc_0b22_11ea_9a7a_80000208fe80row1_col36\" class=\"data row1 col36\" >ReLU()</td>\n",
       "                        <td id=\"T_5918efbc_0b22_11ea_9a7a_80000208fe80row1_col37\" class=\"data row1 col37\" >Conv2d(128, 128, kernel_size=(1, 1), stride=(1, 1))</td>\n",
       "                        <td id=\"T_5918efbc_0b22_11ea_9a7a_80000208fe80row1_col38\" class=\"data row1 col38\" >TorchAdd()</td>\n",
       "                        <td id=\"T_5918efbc_0b22_11ea_9a7a_80000208fe80row1_col39\" class=\"data row1 col39\" >BatchNorm2d(128, eps=1e-05, momentum=0.1, affine=True, track_running_stats=True)</td>\n",
       "                        <td id=\"T_5918efbc_0b22_11ea_9a7a_80000208fe80row1_col40\" class=\"data row1 col40\" >ReLU()</td>\n",
       "                        <td id=\"T_5918efbc_0b22_11ea_9a7a_80000208fe80row1_col41\" class=\"data row1 col41\" >Conv2d(128, 256, kernel_size=(3, 3), stride=(2, 2), padding=(1, 1))</td>\n",
       "                        <td id=\"T_5918efbc_0b22_11ea_9a7a_80000208fe80row1_col42\" class=\"data row1 col42\" >BatchNorm2d(256, eps=1e-05, momentum=0.1, affine=True, track_running_stats=True)</td>\n",
       "                        <td id=\"T_5918efbc_0b22_11ea_9a7a_80000208fe80row1_col43\" class=\"data row1 col43\" >ReLU()</td>\n",
       "                        <td id=\"T_5918efbc_0b22_11ea_9a7a_80000208fe80row1_col44\" class=\"data row1 col44\" >Conv2d(256, 256, kernel_size=(3, 3), stride=(1, 1), padding=(1, 1))</td>\n",
       "                        <td id=\"T_5918efbc_0b22_11ea_9a7a_80000208fe80row1_col45\" class=\"data row1 col45\" >ReLU()</td>\n",
       "                        <td id=\"T_5918efbc_0b22_11ea_9a7a_80000208fe80row1_col46\" class=\"data row1 col46\" >Conv2d(128, 256, kernel_size=(1, 1), stride=(2, 2))</td>\n",
       "                        <td id=\"T_5918efbc_0b22_11ea_9a7a_80000208fe80row1_col47\" class=\"data row1 col47\" >TorchAdd()</td>\n",
       "                        <td id=\"T_5918efbc_0b22_11ea_9a7a_80000208fe80row1_col48\" class=\"data row1 col48\" >BatchNorm2d(256, eps=1e-05, momentum=0.1, affine=True, track_running_stats=True)</td>\n",
       "                        <td id=\"T_5918efbc_0b22_11ea_9a7a_80000208fe80row1_col49\" class=\"data row1 col49\" >ReLU()</td>\n",
       "                        <td id=\"T_5918efbc_0b22_11ea_9a7a_80000208fe80row1_col50\" class=\"data row1 col50\" >Conv2d(256, 256, kernel_size=(3, 3), stride=(1, 1), padding=(1, 1))</td>\n",
       "                        <td id=\"T_5918efbc_0b22_11ea_9a7a_80000208fe80row1_col51\" class=\"data row1 col51\" >BatchNorm2d(256, eps=1e-05, momentum=0.1, affine=True, track_running_stats=True)</td>\n",
       "                        <td id=\"T_5918efbc_0b22_11ea_9a7a_80000208fe80row1_col52\" class=\"data row1 col52\" >ReLU()</td>\n",
       "                        <td id=\"T_5918efbc_0b22_11ea_9a7a_80000208fe80row1_col53\" class=\"data row1 col53\" >Conv2d(256, 256, kernel_size=(3, 3), stride=(1, 1), padding=(1, 1))</td>\n",
       "                        <td id=\"T_5918efbc_0b22_11ea_9a7a_80000208fe80row1_col54\" class=\"data row1 col54\" >ReLU()</td>\n",
       "                        <td id=\"T_5918efbc_0b22_11ea_9a7a_80000208fe80row1_col55\" class=\"data row1 col55\" >Conv2d(256, 256, kernel_size=(1, 1), stride=(1, 1))</td>\n",
       "                        <td id=\"T_5918efbc_0b22_11ea_9a7a_80000208fe80row1_col56\" class=\"data row1 col56\" >TorchAdd()</td>\n",
       "                        <td id=\"T_5918efbc_0b22_11ea_9a7a_80000208fe80row1_col57\" class=\"data row1 col57\" >BatchNorm2d(256, eps=1e-05, momentum=0.1, affine=True, track_running_stats=True)</td>\n",
       "                        <td id=\"T_5918efbc_0b22_11ea_9a7a_80000208fe80row1_col58\" class=\"data row1 col58\" >ReLU()</td>\n",
       "                        <td id=\"T_5918efbc_0b22_11ea_9a7a_80000208fe80row1_col59\" class=\"data row1 col59\" >Conv2d(256, 512, kernel_size=(3, 3), stride=(2, 2), padding=(1, 1))</td>\n",
       "                        <td id=\"T_5918efbc_0b22_11ea_9a7a_80000208fe80row1_col60\" class=\"data row1 col60\" >BatchNorm2d(512, eps=1e-05, momentum=0.1, affine=True, track_running_stats=True)</td>\n",
       "                        <td id=\"T_5918efbc_0b22_11ea_9a7a_80000208fe80row1_col61\" class=\"data row1 col61\" >ReLU()</td>\n",
       "                        <td id=\"T_5918efbc_0b22_11ea_9a7a_80000208fe80row1_col62\" class=\"data row1 col62\" >Conv2d(512, 512, kernel_size=(3, 3), stride=(1, 1), padding=(1, 1))</td>\n",
       "                        <td id=\"T_5918efbc_0b22_11ea_9a7a_80000208fe80row1_col63\" class=\"data row1 col63\" >ReLU()</td>\n",
       "                        <td id=\"T_5918efbc_0b22_11ea_9a7a_80000208fe80row1_col64\" class=\"data row1 col64\" >Conv2d(256, 512, kernel_size=(1, 1), stride=(2, 2))</td>\n",
       "                        <td id=\"T_5918efbc_0b22_11ea_9a7a_80000208fe80row1_col65\" class=\"data row1 col65\" >TorchAdd()</td>\n",
       "                        <td id=\"T_5918efbc_0b22_11ea_9a7a_80000208fe80row1_col66\" class=\"data row1 col66\" >BatchNorm2d(512, eps=1e-05, momentum=0.1, affine=True, track_running_stats=True)</td>\n",
       "                        <td id=\"T_5918efbc_0b22_11ea_9a7a_80000208fe80row1_col67\" class=\"data row1 col67\" >ReLU()</td>\n",
       "                        <td id=\"T_5918efbc_0b22_11ea_9a7a_80000208fe80row1_col68\" class=\"data row1 col68\" >Conv2d(512, 512, kernel_size=(3, 3), stride=(1, 1), padding=(1, 1))</td>\n",
       "                        <td id=\"T_5918efbc_0b22_11ea_9a7a_80000208fe80row1_col69\" class=\"data row1 col69\" >BatchNorm2d(512, eps=1e-05, momentum=0.1, affine=True, track_running_stats=True)</td>\n",
       "                        <td id=\"T_5918efbc_0b22_11ea_9a7a_80000208fe80row1_col70\" class=\"data row1 col70\" >ReLU()</td>\n",
       "                        <td id=\"T_5918efbc_0b22_11ea_9a7a_80000208fe80row1_col71\" class=\"data row1 col71\" >Conv2d(512, 512, kernel_size=(3, 3), stride=(1, 1), padding=(1, 1))</td>\n",
       "                        <td id=\"T_5918efbc_0b22_11ea_9a7a_80000208fe80row1_col72\" class=\"data row1 col72\" >ReLU()</td>\n",
       "                        <td id=\"T_5918efbc_0b22_11ea_9a7a_80000208fe80row1_col73\" class=\"data row1 col73\" >Conv2d(512, 512, kernel_size=(1, 1), stride=(1, 1))</td>\n",
       "                        <td id=\"T_5918efbc_0b22_11ea_9a7a_80000208fe80row1_col74\" class=\"data row1 col74\" >TorchAdd()</td>\n",
       "                        <td id=\"T_5918efbc_0b22_11ea_9a7a_80000208fe80row1_col75\" class=\"data row1 col75\" >GlobalAvgPool2d()</td>\n",
       "                        <td id=\"T_5918efbc_0b22_11ea_9a7a_80000208fe80row1_col76\" class=\"data row1 col76\" >Linear(in_features=512, out_features=10, bias=True)</td>\n",
       "                        <td id=\"T_5918efbc_0b22_11ea_9a7a_80000208fe80row1_col77\" class=\"data row1 col77\" >nan</td>\n",
       "            </tr>\n",
       "            <tr>\n",
       "                                <td id=\"T_5918efbc_0b22_11ea_9a7a_80000208fe80row2_col0\" class=\"data row2 col0\" >6.4</td>\n",
       "                        <td id=\"T_5918efbc_0b22_11ea_9a7a_80000208fe80row2_col1\" class=\"data row2 col1\" >Conv2d(1, 64, kernel_size=(3, 3), stride=(1, 1), padding=(1, 1))</td>\n",
       "                        <td id=\"T_5918efbc_0b22_11ea_9a7a_80000208fe80row2_col2\" class=\"data row2 col2\" >BatchNorm2d(64, eps=1e-05, momentum=0.1, affine=True, track_running_stats=True)</td>\n",
       "                        <td id=\"T_5918efbc_0b22_11ea_9a7a_80000208fe80row2_col3\" class=\"data row2 col3\" >BatchNorm2d(64, eps=1e-05, momentum=0.1, affine=True, track_running_stats=True)</td>\n",
       "                        <td id=\"T_5918efbc_0b22_11ea_9a7a_80000208fe80row2_col4\" class=\"data row2 col4\" >ReLU()</td>\n",
       "                        <td id=\"T_5918efbc_0b22_11ea_9a7a_80000208fe80row2_col5\" class=\"data row2 col5\" >Conv2d(64, 64, kernel_size=(3, 3), stride=(1, 1), padding=(1, 1))</td>\n",
       "                        <td id=\"T_5918efbc_0b22_11ea_9a7a_80000208fe80row2_col6\" class=\"data row2 col6\" >BatchNorm2d(64, eps=1e-05, momentum=0.1, affine=True, track_running_stats=True)</td>\n",
       "                        <td id=\"T_5918efbc_0b22_11ea_9a7a_80000208fe80row2_col7\" class=\"data row2 col7\" >ReLU()</td>\n",
       "                        <td id=\"T_5918efbc_0b22_11ea_9a7a_80000208fe80row2_col8\" class=\"data row2 col8\" >Conv2d(64, 64, kernel_size=(3, 3), stride=(1, 1), padding=(1, 1))</td>\n",
       "                        <td id=\"T_5918efbc_0b22_11ea_9a7a_80000208fe80row2_col9\" class=\"data row2 col9\" >ReLU()</td>\n",
       "                        <td id=\"T_5918efbc_0b22_11ea_9a7a_80000208fe80row2_col10\" class=\"data row2 col10\" >Conv2d(64, 64, kernel_size=(1, 1), stride=(1, 1))</td>\n",
       "                        <td id=\"T_5918efbc_0b22_11ea_9a7a_80000208fe80row2_col11\" class=\"data row2 col11\" >TorchAdd()</td>\n",
       "                        <td id=\"T_5918efbc_0b22_11ea_9a7a_80000208fe80row2_col12\" class=\"data row2 col12\" >BatchNorm2d(64, eps=1e-05, momentum=0.1, affine=True, track_running_stats=True)</td>\n",
       "                        <td id=\"T_5918efbc_0b22_11ea_9a7a_80000208fe80row2_col13\" class=\"data row2 col13\" >ReLU()</td>\n",
       "                        <td id=\"T_5918efbc_0b22_11ea_9a7a_80000208fe80row2_col14\" class=\"data row2 col14\" >Conv2d(64, 64, kernel_size=(3, 3), stride=(1, 1), padding=(1, 1))</td>\n",
       "                        <td id=\"T_5918efbc_0b22_11ea_9a7a_80000208fe80row2_col15\" class=\"data row2 col15\" >BatchNorm2d(64, eps=1e-05, momentum=0.1, affine=True, track_running_stats=True)</td>\n",
       "                        <td id=\"T_5918efbc_0b22_11ea_9a7a_80000208fe80row2_col16\" class=\"data row2 col16\" >ReLU()</td>\n",
       "                        <td id=\"T_5918efbc_0b22_11ea_9a7a_80000208fe80row2_col17\" class=\"data row2 col17\" >Conv2d(64, 64, kernel_size=(3, 3), stride=(1, 1), padding=(1, 1))</td>\n",
       "                        <td id=\"T_5918efbc_0b22_11ea_9a7a_80000208fe80row2_col18\" class=\"data row2 col18\" >ReLU()</td>\n",
       "                        <td id=\"T_5918efbc_0b22_11ea_9a7a_80000208fe80row2_col19\" class=\"data row2 col19\" >Conv2d(64, 64, kernel_size=(1, 1), stride=(1, 1))</td>\n",
       "                        <td id=\"T_5918efbc_0b22_11ea_9a7a_80000208fe80row2_col20\" class=\"data row2 col20\" >TorchAdd()</td>\n",
       "                        <td id=\"T_5918efbc_0b22_11ea_9a7a_80000208fe80row2_col21\" class=\"data row2 col21\" >BatchNorm2d(64, eps=1e-05, momentum=0.1, affine=True, track_running_stats=True)</td>\n",
       "                        <td id=\"T_5918efbc_0b22_11ea_9a7a_80000208fe80row2_col22\" class=\"data row2 col22\" >ReLU()</td>\n",
       "                        <td id=\"T_5918efbc_0b22_11ea_9a7a_80000208fe80row2_col23\" class=\"data row2 col23\" >Conv2d(64, 128, kernel_size=(3, 3), stride=(2, 2), padding=(1, 1))</td>\n",
       "                        <td id=\"T_5918efbc_0b22_11ea_9a7a_80000208fe80row2_col24\" class=\"data row2 col24\" >BatchNorm2d(128, eps=1e-05, momentum=0.1, affine=True, track_running_stats=True)</td>\n",
       "                        <td id=\"T_5918efbc_0b22_11ea_9a7a_80000208fe80row2_col25\" class=\"data row2 col25\" >ReLU()</td>\n",
       "                        <td id=\"T_5918efbc_0b22_11ea_9a7a_80000208fe80row2_col26\" class=\"data row2 col26\" >Conv2d(128, 128, kernel_size=(3, 3), stride=(1, 1), padding=(1, 1))</td>\n",
       "                        <td id=\"T_5918efbc_0b22_11ea_9a7a_80000208fe80row2_col27\" class=\"data row2 col27\" >ReLU()</td>\n",
       "                        <td id=\"T_5918efbc_0b22_11ea_9a7a_80000208fe80row2_col28\" class=\"data row2 col28\" >Conv2d(64, 128, kernel_size=(1, 1), stride=(2, 2))</td>\n",
       "                        <td id=\"T_5918efbc_0b22_11ea_9a7a_80000208fe80row2_col29\" class=\"data row2 col29\" >TorchAdd()</td>\n",
       "                        <td id=\"T_5918efbc_0b22_11ea_9a7a_80000208fe80row2_col30\" class=\"data row2 col30\" >BatchNorm2d(128, eps=1e-05, momentum=0.1, affine=True, track_running_stats=True)</td>\n",
       "                        <td id=\"T_5918efbc_0b22_11ea_9a7a_80000208fe80row2_col31\" class=\"data row2 col31\" >ReLU()</td>\n",
       "                        <td id=\"T_5918efbc_0b22_11ea_9a7a_80000208fe80row2_col32\" class=\"data row2 col32\" >Conv2d(128, 128, kernel_size=(3, 3), stride=(1, 1), padding=(1, 1))</td>\n",
       "                        <td id=\"T_5918efbc_0b22_11ea_9a7a_80000208fe80row2_col33\" class=\"data row2 col33\" >BatchNorm2d(128, eps=1e-05, momentum=0.1, affine=True, track_running_stats=True)</td>\n",
       "                        <td id=\"T_5918efbc_0b22_11ea_9a7a_80000208fe80row2_col34\" class=\"data row2 col34\" >ReLU()</td>\n",
       "                        <td id=\"T_5918efbc_0b22_11ea_9a7a_80000208fe80row2_col35\" class=\"data row2 col35\" >Conv2d(128, 128, kernel_size=(3, 3), stride=(1, 1), padding=(1, 1))</td>\n",
       "                        <td id=\"T_5918efbc_0b22_11ea_9a7a_80000208fe80row2_col36\" class=\"data row2 col36\" >ReLU()</td>\n",
       "                        <td id=\"T_5918efbc_0b22_11ea_9a7a_80000208fe80row2_col37\" class=\"data row2 col37\" >Conv2d(128, 128, kernel_size=(1, 1), stride=(1, 1))</td>\n",
       "                        <td id=\"T_5918efbc_0b22_11ea_9a7a_80000208fe80row2_col38\" class=\"data row2 col38\" >TorchAdd()</td>\n",
       "                        <td id=\"T_5918efbc_0b22_11ea_9a7a_80000208fe80row2_col39\" class=\"data row2 col39\" >BatchNorm2d(128, eps=1e-05, momentum=0.1, affine=True, track_running_stats=True)</td>\n",
       "                        <td id=\"T_5918efbc_0b22_11ea_9a7a_80000208fe80row2_col40\" class=\"data row2 col40\" >ReLU()</td>\n",
       "                        <td id=\"T_5918efbc_0b22_11ea_9a7a_80000208fe80row2_col41\" class=\"data row2 col41\" >Conv2d(128, 256, kernel_size=(3, 3), stride=(2, 2), padding=(1, 1))</td>\n",
       "                        <td id=\"T_5918efbc_0b22_11ea_9a7a_80000208fe80row2_col42\" class=\"data row2 col42\" >BatchNorm2d(256, eps=1e-05, momentum=0.1, affine=True, track_running_stats=True)</td>\n",
       "                        <td id=\"T_5918efbc_0b22_11ea_9a7a_80000208fe80row2_col43\" class=\"data row2 col43\" >ReLU()</td>\n",
       "                        <td id=\"T_5918efbc_0b22_11ea_9a7a_80000208fe80row2_col44\" class=\"data row2 col44\" >Conv2d(256, 256, kernel_size=(3, 3), stride=(1, 1), padding=(1, 1))</td>\n",
       "                        <td id=\"T_5918efbc_0b22_11ea_9a7a_80000208fe80row2_col45\" class=\"data row2 col45\" >ReLU()</td>\n",
       "                        <td id=\"T_5918efbc_0b22_11ea_9a7a_80000208fe80row2_col46\" class=\"data row2 col46\" >Conv2d(128, 256, kernel_size=(1, 1), stride=(2, 2))</td>\n",
       "                        <td id=\"T_5918efbc_0b22_11ea_9a7a_80000208fe80row2_col47\" class=\"data row2 col47\" >TorchAdd()</td>\n",
       "                        <td id=\"T_5918efbc_0b22_11ea_9a7a_80000208fe80row2_col48\" class=\"data row2 col48\" >BatchNorm2d(256, eps=1e-05, momentum=0.1, affine=True, track_running_stats=True)</td>\n",
       "                        <td id=\"T_5918efbc_0b22_11ea_9a7a_80000208fe80row2_col49\" class=\"data row2 col49\" >ReLU()</td>\n",
       "                        <td id=\"T_5918efbc_0b22_11ea_9a7a_80000208fe80row2_col50\" class=\"data row2 col50\" >Conv2d(256, 256, kernel_size=(3, 3), stride=(1, 1), padding=(1, 1))</td>\n",
       "                        <td id=\"T_5918efbc_0b22_11ea_9a7a_80000208fe80row2_col51\" class=\"data row2 col51\" >BatchNorm2d(256, eps=1e-05, momentum=0.1, affine=True, track_running_stats=True)</td>\n",
       "                        <td id=\"T_5918efbc_0b22_11ea_9a7a_80000208fe80row2_col52\" class=\"data row2 col52\" >ReLU()</td>\n",
       "                        <td id=\"T_5918efbc_0b22_11ea_9a7a_80000208fe80row2_col53\" class=\"data row2 col53\" >Conv2d(256, 256, kernel_size=(3, 3), stride=(1, 1), padding=(1, 1))</td>\n",
       "                        <td id=\"T_5918efbc_0b22_11ea_9a7a_80000208fe80row2_col54\" class=\"data row2 col54\" >ReLU()</td>\n",
       "                        <td id=\"T_5918efbc_0b22_11ea_9a7a_80000208fe80row2_col55\" class=\"data row2 col55\" >Conv2d(256, 256, kernel_size=(1, 1), stride=(1, 1))</td>\n",
       "                        <td id=\"T_5918efbc_0b22_11ea_9a7a_80000208fe80row2_col56\" class=\"data row2 col56\" >TorchAdd()</td>\n",
       "                        <td id=\"T_5918efbc_0b22_11ea_9a7a_80000208fe80row2_col57\" class=\"data row2 col57\" >BatchNorm2d(256, eps=1e-05, momentum=0.1, affine=True, track_running_stats=True)</td>\n",
       "                        <td id=\"T_5918efbc_0b22_11ea_9a7a_80000208fe80row2_col58\" class=\"data row2 col58\" >ReLU()</td>\n",
       "                        <td id=\"T_5918efbc_0b22_11ea_9a7a_80000208fe80row2_col59\" class=\"data row2 col59\" >Conv2d(256, 512, kernel_size=(3, 3), stride=(2, 2), padding=(1, 1))</td>\n",
       "                        <td id=\"T_5918efbc_0b22_11ea_9a7a_80000208fe80row2_col60\" class=\"data row2 col60\" >BatchNorm2d(512, eps=1e-05, momentum=0.1, affine=True, track_running_stats=True)</td>\n",
       "                        <td id=\"T_5918efbc_0b22_11ea_9a7a_80000208fe80row2_col61\" class=\"data row2 col61\" >ReLU()</td>\n",
       "                        <td id=\"T_5918efbc_0b22_11ea_9a7a_80000208fe80row2_col62\" class=\"data row2 col62\" >Conv2d(512, 512, kernel_size=(3, 3), stride=(1, 1), padding=(1, 1))</td>\n",
       "                        <td id=\"T_5918efbc_0b22_11ea_9a7a_80000208fe80row2_col63\" class=\"data row2 col63\" >ReLU()</td>\n",
       "                        <td id=\"T_5918efbc_0b22_11ea_9a7a_80000208fe80row2_col64\" class=\"data row2 col64\" >Conv2d(256, 512, kernel_size=(1, 1), stride=(2, 2))</td>\n",
       "                        <td id=\"T_5918efbc_0b22_11ea_9a7a_80000208fe80row2_col65\" class=\"data row2 col65\" >TorchAdd()</td>\n",
       "                        <td id=\"T_5918efbc_0b22_11ea_9a7a_80000208fe80row2_col66\" class=\"data row2 col66\" >BatchNorm2d(512, eps=1e-05, momentum=0.1, affine=True, track_running_stats=True)</td>\n",
       "                        <td id=\"T_5918efbc_0b22_11ea_9a7a_80000208fe80row2_col67\" class=\"data row2 col67\" >ReLU()</td>\n",
       "                        <td id=\"T_5918efbc_0b22_11ea_9a7a_80000208fe80row2_col68\" class=\"data row2 col68\" >Conv2d(512, 512, kernel_size=(3, 3), stride=(1, 1), padding=(1, 1))</td>\n",
       "                        <td id=\"T_5918efbc_0b22_11ea_9a7a_80000208fe80row2_col69\" class=\"data row2 col69\" >BatchNorm2d(512, eps=1e-05, momentum=0.1, affine=True, track_running_stats=True)</td>\n",
       "                        <td id=\"T_5918efbc_0b22_11ea_9a7a_80000208fe80row2_col70\" class=\"data row2 col70\" >ReLU()</td>\n",
       "                        <td id=\"T_5918efbc_0b22_11ea_9a7a_80000208fe80row2_col71\" class=\"data row2 col71\" >Conv2d(512, 512, kernel_size=(3, 3), stride=(1, 1), padding=(1, 1))</td>\n",
       "                        <td id=\"T_5918efbc_0b22_11ea_9a7a_80000208fe80row2_col72\" class=\"data row2 col72\" >ReLU()</td>\n",
       "                        <td id=\"T_5918efbc_0b22_11ea_9a7a_80000208fe80row2_col73\" class=\"data row2 col73\" >Conv2d(512, 512, kernel_size=(1, 1), stride=(1, 1))</td>\n",
       "                        <td id=\"T_5918efbc_0b22_11ea_9a7a_80000208fe80row2_col74\" class=\"data row2 col74\" >TorchAdd()</td>\n",
       "                        <td id=\"T_5918efbc_0b22_11ea_9a7a_80000208fe80row2_col75\" class=\"data row2 col75\" >GlobalAvgPool2d()</td>\n",
       "                        <td id=\"T_5918efbc_0b22_11ea_9a7a_80000208fe80row2_col76\" class=\"data row2 col76\" >Linear(in_features=512, out_features=10, bias=True)</td>\n",
       "                        <td id=\"T_5918efbc_0b22_11ea_9a7a_80000208fe80row2_col77\" class=\"data row2 col77\" >nan</td>\n",
       "            </tr>\n",
       "            <tr>\n",
       "                                <td id=\"T_5918efbc_0b22_11ea_9a7a_80000208fe80row3_col0\" class=\"data row3 col0\" >9.6</td>\n",
       "                        <td id=\"T_5918efbc_0b22_11ea_9a7a_80000208fe80row3_col1\" class=\"data row3 col1\" >Conv2d(1, 64, kernel_size=(3, 3), stride=(1, 1), padding=(1, 1))</td>\n",
       "                        <td id=\"T_5918efbc_0b22_11ea_9a7a_80000208fe80row3_col2\" class=\"data row3 col2\" >BatchNorm2d(64, eps=1e-05, momentum=0.1, affine=True, track_running_stats=True)</td>\n",
       "                        <td id=\"T_5918efbc_0b22_11ea_9a7a_80000208fe80row3_col3\" class=\"data row3 col3\" >BatchNorm2d(64, eps=1e-05, momentum=0.1, affine=True, track_running_stats=True)</td>\n",
       "                        <td id=\"T_5918efbc_0b22_11ea_9a7a_80000208fe80row3_col4\" class=\"data row3 col4\" >ReLU()</td>\n",
       "                        <td id=\"T_5918efbc_0b22_11ea_9a7a_80000208fe80row3_col5\" class=\"data row3 col5\" >Conv2d(64, 64, kernel_size=(3, 3), stride=(1, 1), padding=(1, 1))</td>\n",
       "                        <td id=\"T_5918efbc_0b22_11ea_9a7a_80000208fe80row3_col6\" class=\"data row3 col6\" >BatchNorm2d(64, eps=1e-05, momentum=0.1, affine=True, track_running_stats=True)</td>\n",
       "                        <td id=\"T_5918efbc_0b22_11ea_9a7a_80000208fe80row3_col7\" class=\"data row3 col7\" >ReLU()</td>\n",
       "                        <td id=\"T_5918efbc_0b22_11ea_9a7a_80000208fe80row3_col8\" class=\"data row3 col8\" >Conv2d(64, 64, kernel_size=(3, 3), stride=(1, 1), padding=(1, 1))</td>\n",
       "                        <td id=\"T_5918efbc_0b22_11ea_9a7a_80000208fe80row3_col9\" class=\"data row3 col9\" >ReLU()</td>\n",
       "                        <td id=\"T_5918efbc_0b22_11ea_9a7a_80000208fe80row3_col10\" class=\"data row3 col10\" >Conv2d(64, 64, kernel_size=(1, 1), stride=(1, 1))</td>\n",
       "                        <td id=\"T_5918efbc_0b22_11ea_9a7a_80000208fe80row3_col11\" class=\"data row3 col11\" >TorchAdd()</td>\n",
       "                        <td id=\"T_5918efbc_0b22_11ea_9a7a_80000208fe80row3_col12\" class=\"data row3 col12\" >BatchNorm2d(64, eps=1e-05, momentum=0.1, affine=True, track_running_stats=True)</td>\n",
       "                        <td id=\"T_5918efbc_0b22_11ea_9a7a_80000208fe80row3_col13\" class=\"data row3 col13\" >ReLU()</td>\n",
       "                        <td id=\"T_5918efbc_0b22_11ea_9a7a_80000208fe80row3_col14\" class=\"data row3 col14\" >Conv2d(64, 64, kernel_size=(3, 3), stride=(1, 1), padding=(1, 1))</td>\n",
       "                        <td id=\"T_5918efbc_0b22_11ea_9a7a_80000208fe80row3_col15\" class=\"data row3 col15\" >BatchNorm2d(64, eps=1e-05, momentum=0.1, affine=True, track_running_stats=True)</td>\n",
       "                        <td id=\"T_5918efbc_0b22_11ea_9a7a_80000208fe80row3_col16\" class=\"data row3 col16\" >ReLU()</td>\n",
       "                        <td id=\"T_5918efbc_0b22_11ea_9a7a_80000208fe80row3_col17\" class=\"data row3 col17\" >Conv2d(64, 64, kernel_size=(3, 3), stride=(1, 1), padding=(1, 1))</td>\n",
       "                        <td id=\"T_5918efbc_0b22_11ea_9a7a_80000208fe80row3_col18\" class=\"data row3 col18\" >ReLU()</td>\n",
       "                        <td id=\"T_5918efbc_0b22_11ea_9a7a_80000208fe80row3_col19\" class=\"data row3 col19\" >Conv2d(64, 64, kernel_size=(1, 1), stride=(1, 1))</td>\n",
       "                        <td id=\"T_5918efbc_0b22_11ea_9a7a_80000208fe80row3_col20\" class=\"data row3 col20\" >TorchAdd()</td>\n",
       "                        <td id=\"T_5918efbc_0b22_11ea_9a7a_80000208fe80row3_col21\" class=\"data row3 col21\" >BatchNorm2d(64, eps=1e-05, momentum=0.1, affine=True, track_running_stats=True)</td>\n",
       "                        <td id=\"T_5918efbc_0b22_11ea_9a7a_80000208fe80row3_col22\" class=\"data row3 col22\" >ReLU()</td>\n",
       "                        <td id=\"T_5918efbc_0b22_11ea_9a7a_80000208fe80row3_col23\" class=\"data row3 col23\" >Conv2d(64, 128, kernel_size=(3, 3), stride=(2, 2), padding=(1, 1))</td>\n",
       "                        <td id=\"T_5918efbc_0b22_11ea_9a7a_80000208fe80row3_col24\" class=\"data row3 col24\" >BatchNorm2d(128, eps=1e-05, momentum=0.1, affine=True, track_running_stats=True)</td>\n",
       "                        <td id=\"T_5918efbc_0b22_11ea_9a7a_80000208fe80row3_col25\" class=\"data row3 col25\" >ReLU()</td>\n",
       "                        <td id=\"T_5918efbc_0b22_11ea_9a7a_80000208fe80row3_col26\" class=\"data row3 col26\" >Conv2d(128, 128, kernel_size=(3, 3), stride=(1, 1), padding=(1, 1))</td>\n",
       "                        <td id=\"T_5918efbc_0b22_11ea_9a7a_80000208fe80row3_col27\" class=\"data row3 col27\" >ReLU()</td>\n",
       "                        <td id=\"T_5918efbc_0b22_11ea_9a7a_80000208fe80row3_col28\" class=\"data row3 col28\" >Conv2d(64, 128, kernel_size=(1, 1), stride=(2, 2))</td>\n",
       "                        <td id=\"T_5918efbc_0b22_11ea_9a7a_80000208fe80row3_col29\" class=\"data row3 col29\" >TorchAdd()</td>\n",
       "                        <td id=\"T_5918efbc_0b22_11ea_9a7a_80000208fe80row3_col30\" class=\"data row3 col30\" >BatchNorm2d(128, eps=1e-05, momentum=0.1, affine=True, track_running_stats=True)</td>\n",
       "                        <td id=\"T_5918efbc_0b22_11ea_9a7a_80000208fe80row3_col31\" class=\"data row3 col31\" >ReLU()</td>\n",
       "                        <td id=\"T_5918efbc_0b22_11ea_9a7a_80000208fe80row3_col32\" class=\"data row3 col32\" >Conv2d(128, 128, kernel_size=(3, 3), stride=(1, 1), padding=(1, 1))</td>\n",
       "                        <td id=\"T_5918efbc_0b22_11ea_9a7a_80000208fe80row3_col33\" class=\"data row3 col33\" >BatchNorm2d(128, eps=1e-05, momentum=0.1, affine=True, track_running_stats=True)</td>\n",
       "                        <td id=\"T_5918efbc_0b22_11ea_9a7a_80000208fe80row3_col34\" class=\"data row3 col34\" >ReLU()</td>\n",
       "                        <td id=\"T_5918efbc_0b22_11ea_9a7a_80000208fe80row3_col35\" class=\"data row3 col35\" >Conv2d(128, 128, kernel_size=(3, 3), stride=(1, 1), padding=(1, 1))</td>\n",
       "                        <td id=\"T_5918efbc_0b22_11ea_9a7a_80000208fe80row3_col36\" class=\"data row3 col36\" >ReLU()</td>\n",
       "                        <td id=\"T_5918efbc_0b22_11ea_9a7a_80000208fe80row3_col37\" class=\"data row3 col37\" >Conv2d(128, 128, kernel_size=(1, 1), stride=(1, 1))</td>\n",
       "                        <td id=\"T_5918efbc_0b22_11ea_9a7a_80000208fe80row3_col38\" class=\"data row3 col38\" >TorchAdd()</td>\n",
       "                        <td id=\"T_5918efbc_0b22_11ea_9a7a_80000208fe80row3_col39\" class=\"data row3 col39\" >BatchNorm2d(128, eps=1e-05, momentum=0.1, affine=True, track_running_stats=True)</td>\n",
       "                        <td id=\"T_5918efbc_0b22_11ea_9a7a_80000208fe80row3_col40\" class=\"data row3 col40\" >ReLU()</td>\n",
       "                        <td id=\"T_5918efbc_0b22_11ea_9a7a_80000208fe80row3_col41\" class=\"data row3 col41\" >Conv2d(128, 256, kernel_size=(3, 3), stride=(2, 2), padding=(1, 1))</td>\n",
       "                        <td id=\"T_5918efbc_0b22_11ea_9a7a_80000208fe80row3_col42\" class=\"data row3 col42\" >BatchNorm2d(256, eps=1e-05, momentum=0.1, affine=True, track_running_stats=True)</td>\n",
       "                        <td id=\"T_5918efbc_0b22_11ea_9a7a_80000208fe80row3_col43\" class=\"data row3 col43\" >ReLU()</td>\n",
       "                        <td id=\"T_5918efbc_0b22_11ea_9a7a_80000208fe80row3_col44\" class=\"data row3 col44\" >Conv2d(256, 256, kernel_size=(3, 3), stride=(1, 1), padding=(1, 1))</td>\n",
       "                        <td id=\"T_5918efbc_0b22_11ea_9a7a_80000208fe80row3_col45\" class=\"data row3 col45\" >ReLU()</td>\n",
       "                        <td id=\"T_5918efbc_0b22_11ea_9a7a_80000208fe80row3_col46\" class=\"data row3 col46\" >Conv2d(128, 256, kernel_size=(1, 1), stride=(2, 2))</td>\n",
       "                        <td id=\"T_5918efbc_0b22_11ea_9a7a_80000208fe80row3_col47\" class=\"data row3 col47\" >TorchAdd()</td>\n",
       "                        <td id=\"T_5918efbc_0b22_11ea_9a7a_80000208fe80row3_col48\" class=\"data row3 col48\" >BatchNorm2d(256, eps=1e-05, momentum=0.1, affine=True, track_running_stats=True)</td>\n",
       "                        <td id=\"T_5918efbc_0b22_11ea_9a7a_80000208fe80row3_col49\" class=\"data row3 col49\" >ReLU()</td>\n",
       "                        <td id=\"T_5918efbc_0b22_11ea_9a7a_80000208fe80row3_col50\" class=\"data row3 col50\" >Conv2d(256, 256, kernel_size=(3, 3), stride=(1, 1), padding=(1, 1))</td>\n",
       "                        <td id=\"T_5918efbc_0b22_11ea_9a7a_80000208fe80row3_col51\" class=\"data row3 col51\" >BatchNorm2d(256, eps=1e-05, momentum=0.1, affine=True, track_running_stats=True)</td>\n",
       "                        <td id=\"T_5918efbc_0b22_11ea_9a7a_80000208fe80row3_col52\" class=\"data row3 col52\" >ReLU()</td>\n",
       "                        <td id=\"T_5918efbc_0b22_11ea_9a7a_80000208fe80row3_col53\" class=\"data row3 col53\" >Conv2d(256, 256, kernel_size=(3, 3), stride=(1, 1), padding=(1, 1))</td>\n",
       "                        <td id=\"T_5918efbc_0b22_11ea_9a7a_80000208fe80row3_col54\" class=\"data row3 col54\" >ReLU()</td>\n",
       "                        <td id=\"T_5918efbc_0b22_11ea_9a7a_80000208fe80row3_col55\" class=\"data row3 col55\" >Conv2d(256, 256, kernel_size=(1, 1), stride=(1, 1))</td>\n",
       "                        <td id=\"T_5918efbc_0b22_11ea_9a7a_80000208fe80row3_col56\" class=\"data row3 col56\" >TorchAdd()</td>\n",
       "                        <td id=\"T_5918efbc_0b22_11ea_9a7a_80000208fe80row3_col57\" class=\"data row3 col57\" >BatchNorm2d(256, eps=1e-05, momentum=0.1, affine=True, track_running_stats=True)</td>\n",
       "                        <td id=\"T_5918efbc_0b22_11ea_9a7a_80000208fe80row3_col58\" class=\"data row3 col58\" >ReLU()</td>\n",
       "                        <td id=\"T_5918efbc_0b22_11ea_9a7a_80000208fe80row3_col59\" class=\"data row3 col59\" >Conv2d(256, 512, kernel_size=(3, 3), stride=(2, 2), padding=(1, 1))</td>\n",
       "                        <td id=\"T_5918efbc_0b22_11ea_9a7a_80000208fe80row3_col60\" class=\"data row3 col60\" >BatchNorm2d(512, eps=1e-05, momentum=0.1, affine=True, track_running_stats=True)</td>\n",
       "                        <td id=\"T_5918efbc_0b22_11ea_9a7a_80000208fe80row3_col61\" class=\"data row3 col61\" >ReLU()</td>\n",
       "                        <td id=\"T_5918efbc_0b22_11ea_9a7a_80000208fe80row3_col62\" class=\"data row3 col62\" >Conv2d(512, 512, kernel_size=(3, 3), stride=(1, 1), padding=(1, 1))</td>\n",
       "                        <td id=\"T_5918efbc_0b22_11ea_9a7a_80000208fe80row3_col63\" class=\"data row3 col63\" >ReLU()</td>\n",
       "                        <td id=\"T_5918efbc_0b22_11ea_9a7a_80000208fe80row3_col64\" class=\"data row3 col64\" >Conv2d(256, 512, kernel_size=(1, 1), stride=(2, 2))</td>\n",
       "                        <td id=\"T_5918efbc_0b22_11ea_9a7a_80000208fe80row3_col65\" class=\"data row3 col65\" >TorchAdd()</td>\n",
       "                        <td id=\"T_5918efbc_0b22_11ea_9a7a_80000208fe80row3_col66\" class=\"data row3 col66\" >BatchNorm2d(512, eps=1e-05, momentum=0.1, affine=True, track_running_stats=True)</td>\n",
       "                        <td id=\"T_5918efbc_0b22_11ea_9a7a_80000208fe80row3_col67\" class=\"data row3 col67\" >ReLU()</td>\n",
       "                        <td id=\"T_5918efbc_0b22_11ea_9a7a_80000208fe80row3_col68\" class=\"data row3 col68\" >Conv2d(512, 512, kernel_size=(3, 3), stride=(1, 1), padding=(1, 1))</td>\n",
       "                        <td id=\"T_5918efbc_0b22_11ea_9a7a_80000208fe80row3_col69\" class=\"data row3 col69\" >BatchNorm2d(512, eps=1e-05, momentum=0.1, affine=True, track_running_stats=True)</td>\n",
       "                        <td id=\"T_5918efbc_0b22_11ea_9a7a_80000208fe80row3_col70\" class=\"data row3 col70\" >ReLU()</td>\n",
       "                        <td id=\"T_5918efbc_0b22_11ea_9a7a_80000208fe80row3_col71\" class=\"data row3 col71\" >Conv2d(512, 512, kernel_size=(3, 3), stride=(1, 1), padding=(1, 1))</td>\n",
       "                        <td id=\"T_5918efbc_0b22_11ea_9a7a_80000208fe80row3_col72\" class=\"data row3 col72\" >ReLU()</td>\n",
       "                        <td id=\"T_5918efbc_0b22_11ea_9a7a_80000208fe80row3_col73\" class=\"data row3 col73\" >Conv2d(512, 512, kernel_size=(1, 1), stride=(1, 1))</td>\n",
       "                        <td id=\"T_5918efbc_0b22_11ea_9a7a_80000208fe80row3_col74\" class=\"data row3 col74\" >TorchAdd()</td>\n",
       "                        <td id=\"T_5918efbc_0b22_11ea_9a7a_80000208fe80row3_col75\" class=\"data row3 col75\" >GlobalAvgPool2d()</td>\n",
       "                        <td id=\"T_5918efbc_0b22_11ea_9a7a_80000208fe80row3_col76\" class=\"data row3 col76\" >Linear(in_features=512, out_features=10, bias=True)</td>\n",
       "                        <td id=\"T_5918efbc_0b22_11ea_9a7a_80000208fe80row3_col77\" class=\"data row3 col77\" >nan</td>\n",
       "            </tr>\n",
       "            <tr>\n",
       "                                <td id=\"T_5918efbc_0b22_11ea_9a7a_80000208fe80row4_col0\" class=\"data row4 col0\" >12.8</td>\n",
       "                        <td id=\"T_5918efbc_0b22_11ea_9a7a_80000208fe80row4_col1\" class=\"data row4 col1\" >Conv2d(1, 64, kernel_size=(3, 3), stride=(1, 1), padding=(1, 1))</td>\n",
       "                        <td id=\"T_5918efbc_0b22_11ea_9a7a_80000208fe80row4_col2\" class=\"data row4 col2\" >BatchNorm2d(64, eps=1e-05, momentum=0.1, affine=True, track_running_stats=True)</td>\n",
       "                        <td id=\"T_5918efbc_0b22_11ea_9a7a_80000208fe80row4_col3\" class=\"data row4 col3\" >BatchNorm2d(64, eps=1e-05, momentum=0.1, affine=True, track_running_stats=True)</td>\n",
       "                        <td id=\"T_5918efbc_0b22_11ea_9a7a_80000208fe80row4_col4\" class=\"data row4 col4\" >ReLU()</td>\n",
       "                        <td id=\"T_5918efbc_0b22_11ea_9a7a_80000208fe80row4_col5\" class=\"data row4 col5\" >Conv2d(64, 64, kernel_size=(3, 3), stride=(1, 1), padding=(1, 1))</td>\n",
       "                        <td id=\"T_5918efbc_0b22_11ea_9a7a_80000208fe80row4_col6\" class=\"data row4 col6\" >BatchNorm2d(64, eps=1e-05, momentum=0.1, affine=True, track_running_stats=True)</td>\n",
       "                        <td id=\"T_5918efbc_0b22_11ea_9a7a_80000208fe80row4_col7\" class=\"data row4 col7\" >ReLU()</td>\n",
       "                        <td id=\"T_5918efbc_0b22_11ea_9a7a_80000208fe80row4_col8\" class=\"data row4 col8\" >Conv2d(64, 64, kernel_size=(3, 3), stride=(1, 1), padding=(1, 1))</td>\n",
       "                        <td id=\"T_5918efbc_0b22_11ea_9a7a_80000208fe80row4_col9\" class=\"data row4 col9\" >ReLU()</td>\n",
       "                        <td id=\"T_5918efbc_0b22_11ea_9a7a_80000208fe80row4_col10\" class=\"data row4 col10\" >Conv2d(64, 64, kernel_size=(1, 1), stride=(1, 1))</td>\n",
       "                        <td id=\"T_5918efbc_0b22_11ea_9a7a_80000208fe80row4_col11\" class=\"data row4 col11\" >TorchAdd()</td>\n",
       "                        <td id=\"T_5918efbc_0b22_11ea_9a7a_80000208fe80row4_col12\" class=\"data row4 col12\" >BatchNorm2d(64, eps=1e-05, momentum=0.1, affine=True, track_running_stats=True)</td>\n",
       "                        <td id=\"T_5918efbc_0b22_11ea_9a7a_80000208fe80row4_col13\" class=\"data row4 col13\" >ReLU()</td>\n",
       "                        <td id=\"T_5918efbc_0b22_11ea_9a7a_80000208fe80row4_col14\" class=\"data row4 col14\" >Conv2d(64, 64, kernel_size=(3, 3), stride=(1, 1), padding=(1, 1))</td>\n",
       "                        <td id=\"T_5918efbc_0b22_11ea_9a7a_80000208fe80row4_col15\" class=\"data row4 col15\" >BatchNorm2d(64, eps=1e-05, momentum=0.1, affine=True, track_running_stats=True)</td>\n",
       "                        <td id=\"T_5918efbc_0b22_11ea_9a7a_80000208fe80row4_col16\" class=\"data row4 col16\" >ReLU()</td>\n",
       "                        <td id=\"T_5918efbc_0b22_11ea_9a7a_80000208fe80row4_col17\" class=\"data row4 col17\" >Conv2d(64, 64, kernel_size=(3, 3), stride=(1, 1), padding=(1, 1))</td>\n",
       "                        <td id=\"T_5918efbc_0b22_11ea_9a7a_80000208fe80row4_col18\" class=\"data row4 col18\" >ReLU()</td>\n",
       "                        <td id=\"T_5918efbc_0b22_11ea_9a7a_80000208fe80row4_col19\" class=\"data row4 col19\" >Conv2d(64, 64, kernel_size=(1, 1), stride=(1, 1))</td>\n",
       "                        <td id=\"T_5918efbc_0b22_11ea_9a7a_80000208fe80row4_col20\" class=\"data row4 col20\" >TorchAdd()</td>\n",
       "                        <td id=\"T_5918efbc_0b22_11ea_9a7a_80000208fe80row4_col21\" class=\"data row4 col21\" >BatchNorm2d(64, eps=1e-05, momentum=0.1, affine=True, track_running_stats=True)</td>\n",
       "                        <td id=\"T_5918efbc_0b22_11ea_9a7a_80000208fe80row4_col22\" class=\"data row4 col22\" >ReLU()</td>\n",
       "                        <td id=\"T_5918efbc_0b22_11ea_9a7a_80000208fe80row4_col23\" class=\"data row4 col23\" >Conv2d(64, 128, kernel_size=(3, 3), stride=(2, 2), padding=(1, 1))</td>\n",
       "                        <td id=\"T_5918efbc_0b22_11ea_9a7a_80000208fe80row4_col24\" class=\"data row4 col24\" >BatchNorm2d(128, eps=1e-05, momentum=0.1, affine=True, track_running_stats=True)</td>\n",
       "                        <td id=\"T_5918efbc_0b22_11ea_9a7a_80000208fe80row4_col25\" class=\"data row4 col25\" >ReLU()</td>\n",
       "                        <td id=\"T_5918efbc_0b22_11ea_9a7a_80000208fe80row4_col26\" class=\"data row4 col26\" >Conv2d(128, 128, kernel_size=(3, 3), stride=(1, 1), padding=(1, 1))</td>\n",
       "                        <td id=\"T_5918efbc_0b22_11ea_9a7a_80000208fe80row4_col27\" class=\"data row4 col27\" >ReLU()</td>\n",
       "                        <td id=\"T_5918efbc_0b22_11ea_9a7a_80000208fe80row4_col28\" class=\"data row4 col28\" >Conv2d(64, 128, kernel_size=(1, 1), stride=(2, 2))</td>\n",
       "                        <td id=\"T_5918efbc_0b22_11ea_9a7a_80000208fe80row4_col29\" class=\"data row4 col29\" >TorchAdd()</td>\n",
       "                        <td id=\"T_5918efbc_0b22_11ea_9a7a_80000208fe80row4_col30\" class=\"data row4 col30\" >BatchNorm2d(128, eps=1e-05, momentum=0.1, affine=True, track_running_stats=True)</td>\n",
       "                        <td id=\"T_5918efbc_0b22_11ea_9a7a_80000208fe80row4_col31\" class=\"data row4 col31\" >ReLU()</td>\n",
       "                        <td id=\"T_5918efbc_0b22_11ea_9a7a_80000208fe80row4_col32\" class=\"data row4 col32\" >Conv2d(128, 128, kernel_size=(3, 3), stride=(1, 1), padding=(1, 1))</td>\n",
       "                        <td id=\"T_5918efbc_0b22_11ea_9a7a_80000208fe80row4_col33\" class=\"data row4 col33\" >BatchNorm2d(128, eps=1e-05, momentum=0.1, affine=True, track_running_stats=True)</td>\n",
       "                        <td id=\"T_5918efbc_0b22_11ea_9a7a_80000208fe80row4_col34\" class=\"data row4 col34\" >ReLU()</td>\n",
       "                        <td id=\"T_5918efbc_0b22_11ea_9a7a_80000208fe80row4_col35\" class=\"data row4 col35\" >Conv2d(128, 128, kernel_size=(3, 3), stride=(1, 1), padding=(1, 1))</td>\n",
       "                        <td id=\"T_5918efbc_0b22_11ea_9a7a_80000208fe80row4_col36\" class=\"data row4 col36\" >ReLU()</td>\n",
       "                        <td id=\"T_5918efbc_0b22_11ea_9a7a_80000208fe80row4_col37\" class=\"data row4 col37\" >Conv2d(128, 128, kernel_size=(1, 1), stride=(1, 1))</td>\n",
       "                        <td id=\"T_5918efbc_0b22_11ea_9a7a_80000208fe80row4_col38\" class=\"data row4 col38\" >TorchAdd()</td>\n",
       "                        <td id=\"T_5918efbc_0b22_11ea_9a7a_80000208fe80row4_col39\" class=\"data row4 col39\" >BatchNorm2d(128, eps=1e-05, momentum=0.1, affine=True, track_running_stats=True)</td>\n",
       "                        <td id=\"T_5918efbc_0b22_11ea_9a7a_80000208fe80row4_col40\" class=\"data row4 col40\" >ReLU()</td>\n",
       "                        <td id=\"T_5918efbc_0b22_11ea_9a7a_80000208fe80row4_col41\" class=\"data row4 col41\" >Conv2d(128, 256, kernel_size=(3, 3), stride=(2, 2), padding=(1, 1))</td>\n",
       "                        <td id=\"T_5918efbc_0b22_11ea_9a7a_80000208fe80row4_col42\" class=\"data row4 col42\" >BatchNorm2d(256, eps=1e-05, momentum=0.1, affine=True, track_running_stats=True)</td>\n",
       "                        <td id=\"T_5918efbc_0b22_11ea_9a7a_80000208fe80row4_col43\" class=\"data row4 col43\" >ReLU()</td>\n",
       "                        <td id=\"T_5918efbc_0b22_11ea_9a7a_80000208fe80row4_col44\" class=\"data row4 col44\" >Conv2d(256, 256, kernel_size=(3, 3), stride=(1, 1), padding=(1, 1))</td>\n",
       "                        <td id=\"T_5918efbc_0b22_11ea_9a7a_80000208fe80row4_col45\" class=\"data row4 col45\" >ReLU()</td>\n",
       "                        <td id=\"T_5918efbc_0b22_11ea_9a7a_80000208fe80row4_col46\" class=\"data row4 col46\" >Conv2d(128, 256, kernel_size=(1, 1), stride=(2, 2))</td>\n",
       "                        <td id=\"T_5918efbc_0b22_11ea_9a7a_80000208fe80row4_col47\" class=\"data row4 col47\" >TorchAdd()</td>\n",
       "                        <td id=\"T_5918efbc_0b22_11ea_9a7a_80000208fe80row4_col48\" class=\"data row4 col48\" >BatchNorm2d(256, eps=1e-05, momentum=0.1, affine=True, track_running_stats=True)</td>\n",
       "                        <td id=\"T_5918efbc_0b22_11ea_9a7a_80000208fe80row4_col49\" class=\"data row4 col49\" >ReLU()</td>\n",
       "                        <td id=\"T_5918efbc_0b22_11ea_9a7a_80000208fe80row4_col50\" class=\"data row4 col50\" >Conv2d(256, 256, kernel_size=(3, 3), stride=(1, 1), padding=(1, 1))</td>\n",
       "                        <td id=\"T_5918efbc_0b22_11ea_9a7a_80000208fe80row4_col51\" class=\"data row4 col51\" >BatchNorm2d(256, eps=1e-05, momentum=0.1, affine=True, track_running_stats=True)</td>\n",
       "                        <td id=\"T_5918efbc_0b22_11ea_9a7a_80000208fe80row4_col52\" class=\"data row4 col52\" >ReLU()</td>\n",
       "                        <td id=\"T_5918efbc_0b22_11ea_9a7a_80000208fe80row4_col53\" class=\"data row4 col53\" >Conv2d(256, 256, kernel_size=(3, 3), stride=(1, 1), padding=(1, 1))</td>\n",
       "                        <td id=\"T_5918efbc_0b22_11ea_9a7a_80000208fe80row4_col54\" class=\"data row4 col54\" >ReLU()</td>\n",
       "                        <td id=\"T_5918efbc_0b22_11ea_9a7a_80000208fe80row4_col55\" class=\"data row4 col55\" >Conv2d(256, 256, kernel_size=(1, 1), stride=(1, 1))</td>\n",
       "                        <td id=\"T_5918efbc_0b22_11ea_9a7a_80000208fe80row4_col56\" class=\"data row4 col56\" >TorchAdd()</td>\n",
       "                        <td id=\"T_5918efbc_0b22_11ea_9a7a_80000208fe80row4_col57\" class=\"data row4 col57\" >BatchNorm2d(256, eps=1e-05, momentum=0.1, affine=True, track_running_stats=True)</td>\n",
       "                        <td id=\"T_5918efbc_0b22_11ea_9a7a_80000208fe80row4_col58\" class=\"data row4 col58\" >ReLU()</td>\n",
       "                        <td id=\"T_5918efbc_0b22_11ea_9a7a_80000208fe80row4_col59\" class=\"data row4 col59\" >Conv2d(256, 512, kernel_size=(3, 3), stride=(2, 2), padding=(1, 1))</td>\n",
       "                        <td id=\"T_5918efbc_0b22_11ea_9a7a_80000208fe80row4_col60\" class=\"data row4 col60\" >BatchNorm2d(512, eps=1e-05, momentum=0.1, affine=True, track_running_stats=True)</td>\n",
       "                        <td id=\"T_5918efbc_0b22_11ea_9a7a_80000208fe80row4_col61\" class=\"data row4 col61\" >ReLU()</td>\n",
       "                        <td id=\"T_5918efbc_0b22_11ea_9a7a_80000208fe80row4_col62\" class=\"data row4 col62\" >Conv2d(512, 512, kernel_size=(3, 3), stride=(1, 1), padding=(1, 1))</td>\n",
       "                        <td id=\"T_5918efbc_0b22_11ea_9a7a_80000208fe80row4_col63\" class=\"data row4 col63\" >ReLU()</td>\n",
       "                        <td id=\"T_5918efbc_0b22_11ea_9a7a_80000208fe80row4_col64\" class=\"data row4 col64\" >Conv2d(256, 512, kernel_size=(1, 1), stride=(2, 2))</td>\n",
       "                        <td id=\"T_5918efbc_0b22_11ea_9a7a_80000208fe80row4_col65\" class=\"data row4 col65\" >TorchAdd()</td>\n",
       "                        <td id=\"T_5918efbc_0b22_11ea_9a7a_80000208fe80row4_col66\" class=\"data row4 col66\" >BatchNorm2d(512, eps=1e-05, momentum=0.1, affine=True, track_running_stats=True)</td>\n",
       "                        <td id=\"T_5918efbc_0b22_11ea_9a7a_80000208fe80row4_col67\" class=\"data row4 col67\" >ReLU()</td>\n",
       "                        <td id=\"T_5918efbc_0b22_11ea_9a7a_80000208fe80row4_col68\" class=\"data row4 col68\" >Conv2d(512, 512, kernel_size=(3, 3), stride=(1, 1), padding=(1, 1))</td>\n",
       "                        <td id=\"T_5918efbc_0b22_11ea_9a7a_80000208fe80row4_col69\" class=\"data row4 col69\" >BatchNorm2d(512, eps=1e-05, momentum=0.1, affine=True, track_running_stats=True)</td>\n",
       "                        <td id=\"T_5918efbc_0b22_11ea_9a7a_80000208fe80row4_col70\" class=\"data row4 col70\" >ReLU()</td>\n",
       "                        <td id=\"T_5918efbc_0b22_11ea_9a7a_80000208fe80row4_col71\" class=\"data row4 col71\" >Conv2d(512, 512, kernel_size=(3, 3), stride=(1, 1), padding=(1, 1))</td>\n",
       "                        <td id=\"T_5918efbc_0b22_11ea_9a7a_80000208fe80row4_col72\" class=\"data row4 col72\" >ReLU()</td>\n",
       "                        <td id=\"T_5918efbc_0b22_11ea_9a7a_80000208fe80row4_col73\" class=\"data row4 col73\" >Conv2d(512, 512, kernel_size=(1, 1), stride=(1, 1))</td>\n",
       "                        <td id=\"T_5918efbc_0b22_11ea_9a7a_80000208fe80row4_col74\" class=\"data row4 col74\" >TorchAdd()</td>\n",
       "                        <td id=\"T_5918efbc_0b22_11ea_9a7a_80000208fe80row4_col75\" class=\"data row4 col75\" >GlobalAvgPool2d()</td>\n",
       "                        <td id=\"T_5918efbc_0b22_11ea_9a7a_80000208fe80row4_col76\" class=\"data row4 col76\" >Linear(in_features=512, out_features=10, bias=True)</td>\n",
       "                        <td id=\"T_5918efbc_0b22_11ea_9a7a_80000208fe80row4_col77\" class=\"data row4 col77\" >nan</td>\n",
       "            </tr>\n",
       "            <tr>\n",
       "                                <td id=\"T_5918efbc_0b22_11ea_9a7a_80000208fe80row5_col0\" class=\"data row5 col0\" >16</td>\n",
       "                        <td id=\"T_5918efbc_0b22_11ea_9a7a_80000208fe80row5_col1\" class=\"data row5 col1\" >Conv2d(1, 64, kernel_size=(3, 3), stride=(1, 1), padding=(1, 1))</td>\n",
       "                        <td id=\"T_5918efbc_0b22_11ea_9a7a_80000208fe80row5_col2\" class=\"data row5 col2\" >BatchNorm2d(64, eps=1e-05, momentum=0.1, affine=True, track_running_stats=True)</td>\n",
       "                        <td id=\"T_5918efbc_0b22_11ea_9a7a_80000208fe80row5_col3\" class=\"data row5 col3\" >BatchNorm2d(64, eps=1e-05, momentum=0.1, affine=True, track_running_stats=True)</td>\n",
       "                        <td id=\"T_5918efbc_0b22_11ea_9a7a_80000208fe80row5_col4\" class=\"data row5 col4\" >ReLU()</td>\n",
       "                        <td id=\"T_5918efbc_0b22_11ea_9a7a_80000208fe80row5_col5\" class=\"data row5 col5\" >Conv2d(64, 64, kernel_size=(3, 3), stride=(1, 1), padding=(1, 1))</td>\n",
       "                        <td id=\"T_5918efbc_0b22_11ea_9a7a_80000208fe80row5_col6\" class=\"data row5 col6\" >BatchNorm2d(64, eps=1e-05, momentum=0.1, affine=True, track_running_stats=True)</td>\n",
       "                        <td id=\"T_5918efbc_0b22_11ea_9a7a_80000208fe80row5_col7\" class=\"data row5 col7\" >ReLU()</td>\n",
       "                        <td id=\"T_5918efbc_0b22_11ea_9a7a_80000208fe80row5_col8\" class=\"data row5 col8\" >Conv2d(64, 64, kernel_size=(3, 3), stride=(1, 1), padding=(1, 1))</td>\n",
       "                        <td id=\"T_5918efbc_0b22_11ea_9a7a_80000208fe80row5_col9\" class=\"data row5 col9\" >ReLU()</td>\n",
       "                        <td id=\"T_5918efbc_0b22_11ea_9a7a_80000208fe80row5_col10\" class=\"data row5 col10\" >Conv2d(64, 64, kernel_size=(1, 1), stride=(1, 1))</td>\n",
       "                        <td id=\"T_5918efbc_0b22_11ea_9a7a_80000208fe80row5_col11\" class=\"data row5 col11\" >TorchAdd()</td>\n",
       "                        <td id=\"T_5918efbc_0b22_11ea_9a7a_80000208fe80row5_col12\" class=\"data row5 col12\" >BatchNorm2d(64, eps=1e-05, momentum=0.1, affine=True, track_running_stats=True)</td>\n",
       "                        <td id=\"T_5918efbc_0b22_11ea_9a7a_80000208fe80row5_col13\" class=\"data row5 col13\" >ReLU()</td>\n",
       "                        <td id=\"T_5918efbc_0b22_11ea_9a7a_80000208fe80row5_col14\" class=\"data row5 col14\" >Conv2d(64, 64, kernel_size=(3, 3), stride=(1, 1), padding=(1, 1))</td>\n",
       "                        <td id=\"T_5918efbc_0b22_11ea_9a7a_80000208fe80row5_col15\" class=\"data row5 col15\" >BatchNorm2d(64, eps=1e-05, momentum=0.1, affine=True, track_running_stats=True)</td>\n",
       "                        <td id=\"T_5918efbc_0b22_11ea_9a7a_80000208fe80row5_col16\" class=\"data row5 col16\" >ReLU()</td>\n",
       "                        <td id=\"T_5918efbc_0b22_11ea_9a7a_80000208fe80row5_col17\" class=\"data row5 col17\" >Conv2d(64, 64, kernel_size=(3, 3), stride=(1, 1), padding=(1, 1))</td>\n",
       "                        <td id=\"T_5918efbc_0b22_11ea_9a7a_80000208fe80row5_col18\" class=\"data row5 col18\" >ReLU()</td>\n",
       "                        <td id=\"T_5918efbc_0b22_11ea_9a7a_80000208fe80row5_col19\" class=\"data row5 col19\" >Conv2d(64, 64, kernel_size=(1, 1), stride=(1, 1))</td>\n",
       "                        <td id=\"T_5918efbc_0b22_11ea_9a7a_80000208fe80row5_col20\" class=\"data row5 col20\" >TorchAdd()</td>\n",
       "                        <td id=\"T_5918efbc_0b22_11ea_9a7a_80000208fe80row5_col21\" class=\"data row5 col21\" >BatchNorm2d(64, eps=1e-05, momentum=0.1, affine=True, track_running_stats=True)</td>\n",
       "                        <td id=\"T_5918efbc_0b22_11ea_9a7a_80000208fe80row5_col22\" class=\"data row5 col22\" >ReLU()</td>\n",
       "                        <td id=\"T_5918efbc_0b22_11ea_9a7a_80000208fe80row5_col23\" class=\"data row5 col23\" >Conv2d(64, 128, kernel_size=(3, 3), stride=(2, 2), padding=(1, 1))</td>\n",
       "                        <td id=\"T_5918efbc_0b22_11ea_9a7a_80000208fe80row5_col24\" class=\"data row5 col24\" >BatchNorm2d(128, eps=1e-05, momentum=0.1, affine=True, track_running_stats=True)</td>\n",
       "                        <td id=\"T_5918efbc_0b22_11ea_9a7a_80000208fe80row5_col25\" class=\"data row5 col25\" >ReLU()</td>\n",
       "                        <td id=\"T_5918efbc_0b22_11ea_9a7a_80000208fe80row5_col26\" class=\"data row5 col26\" >Conv2d(128, 128, kernel_size=(3, 3), stride=(1, 1), padding=(1, 1))</td>\n",
       "                        <td id=\"T_5918efbc_0b22_11ea_9a7a_80000208fe80row5_col27\" class=\"data row5 col27\" >ReLU()</td>\n",
       "                        <td id=\"T_5918efbc_0b22_11ea_9a7a_80000208fe80row5_col28\" class=\"data row5 col28\" >Conv2d(64, 128, kernel_size=(1, 1), stride=(2, 2))</td>\n",
       "                        <td id=\"T_5918efbc_0b22_11ea_9a7a_80000208fe80row5_col29\" class=\"data row5 col29\" >TorchAdd()</td>\n",
       "                        <td id=\"T_5918efbc_0b22_11ea_9a7a_80000208fe80row5_col30\" class=\"data row5 col30\" >BatchNorm2d(128, eps=1e-05, momentum=0.1, affine=True, track_running_stats=True)</td>\n",
       "                        <td id=\"T_5918efbc_0b22_11ea_9a7a_80000208fe80row5_col31\" class=\"data row5 col31\" >ReLU()</td>\n",
       "                        <td id=\"T_5918efbc_0b22_11ea_9a7a_80000208fe80row5_col32\" class=\"data row5 col32\" >Conv2d(128, 128, kernel_size=(3, 3), stride=(1, 1), padding=(1, 1))</td>\n",
       "                        <td id=\"T_5918efbc_0b22_11ea_9a7a_80000208fe80row5_col33\" class=\"data row5 col33\" >BatchNorm2d(128, eps=1e-05, momentum=0.1, affine=True, track_running_stats=True)</td>\n",
       "                        <td id=\"T_5918efbc_0b22_11ea_9a7a_80000208fe80row5_col34\" class=\"data row5 col34\" >ReLU()</td>\n",
       "                        <td id=\"T_5918efbc_0b22_11ea_9a7a_80000208fe80row5_col35\" class=\"data row5 col35\" >Conv2d(128, 128, kernel_size=(3, 3), stride=(1, 1), padding=(1, 1))</td>\n",
       "                        <td id=\"T_5918efbc_0b22_11ea_9a7a_80000208fe80row5_col36\" class=\"data row5 col36\" >ReLU()</td>\n",
       "                        <td id=\"T_5918efbc_0b22_11ea_9a7a_80000208fe80row5_col37\" class=\"data row5 col37\" >Conv2d(128, 128, kernel_size=(1, 1), stride=(1, 1))</td>\n",
       "                        <td id=\"T_5918efbc_0b22_11ea_9a7a_80000208fe80row5_col38\" class=\"data row5 col38\" >TorchAdd()</td>\n",
       "                        <td id=\"T_5918efbc_0b22_11ea_9a7a_80000208fe80row5_col39\" class=\"data row5 col39\" >BatchNorm2d(128, eps=1e-05, momentum=0.1, affine=True, track_running_stats=True)</td>\n",
       "                        <td id=\"T_5918efbc_0b22_11ea_9a7a_80000208fe80row5_col40\" class=\"data row5 col40\" >ReLU()</td>\n",
       "                        <td id=\"T_5918efbc_0b22_11ea_9a7a_80000208fe80row5_col41\" class=\"data row5 col41\" >Conv2d(128, 256, kernel_size=(3, 3), stride=(2, 2), padding=(1, 1))</td>\n",
       "                        <td id=\"T_5918efbc_0b22_11ea_9a7a_80000208fe80row5_col42\" class=\"data row5 col42\" >BatchNorm2d(256, eps=1e-05, momentum=0.1, affine=True, track_running_stats=True)</td>\n",
       "                        <td id=\"T_5918efbc_0b22_11ea_9a7a_80000208fe80row5_col43\" class=\"data row5 col43\" >ReLU()</td>\n",
       "                        <td id=\"T_5918efbc_0b22_11ea_9a7a_80000208fe80row5_col44\" class=\"data row5 col44\" >Conv2d(256, 256, kernel_size=(3, 3), stride=(1, 1), padding=(1, 1))</td>\n",
       "                        <td id=\"T_5918efbc_0b22_11ea_9a7a_80000208fe80row5_col45\" class=\"data row5 col45\" >ReLU()</td>\n",
       "                        <td id=\"T_5918efbc_0b22_11ea_9a7a_80000208fe80row5_col46\" class=\"data row5 col46\" >Conv2d(128, 256, kernel_size=(1, 1), stride=(2, 2))</td>\n",
       "                        <td id=\"T_5918efbc_0b22_11ea_9a7a_80000208fe80row5_col47\" class=\"data row5 col47\" >TorchAdd()</td>\n",
       "                        <td id=\"T_5918efbc_0b22_11ea_9a7a_80000208fe80row5_col48\" class=\"data row5 col48\" >BatchNorm2d(256, eps=1e-05, momentum=0.1, affine=True, track_running_stats=True)</td>\n",
       "                        <td id=\"T_5918efbc_0b22_11ea_9a7a_80000208fe80row5_col49\" class=\"data row5 col49\" >ReLU()</td>\n",
       "                        <td id=\"T_5918efbc_0b22_11ea_9a7a_80000208fe80row5_col50\" class=\"data row5 col50\" >Conv2d(256, 256, kernel_size=(3, 3), stride=(1, 1), padding=(1, 1))</td>\n",
       "                        <td id=\"T_5918efbc_0b22_11ea_9a7a_80000208fe80row5_col51\" class=\"data row5 col51\" >BatchNorm2d(256, eps=1e-05, momentum=0.1, affine=True, track_running_stats=True)</td>\n",
       "                        <td id=\"T_5918efbc_0b22_11ea_9a7a_80000208fe80row5_col52\" class=\"data row5 col52\" >ReLU()</td>\n",
       "                        <td id=\"T_5918efbc_0b22_11ea_9a7a_80000208fe80row5_col53\" class=\"data row5 col53\" >Conv2d(256, 256, kernel_size=(3, 3), stride=(1, 1), padding=(1, 1))</td>\n",
       "                        <td id=\"T_5918efbc_0b22_11ea_9a7a_80000208fe80row5_col54\" class=\"data row5 col54\" >ReLU()</td>\n",
       "                        <td id=\"T_5918efbc_0b22_11ea_9a7a_80000208fe80row5_col55\" class=\"data row5 col55\" >Conv2d(256, 256, kernel_size=(1, 1), stride=(1, 1))</td>\n",
       "                        <td id=\"T_5918efbc_0b22_11ea_9a7a_80000208fe80row5_col56\" class=\"data row5 col56\" >TorchAdd()</td>\n",
       "                        <td id=\"T_5918efbc_0b22_11ea_9a7a_80000208fe80row5_col57\" class=\"data row5 col57\" >BatchNorm2d(256, eps=1e-05, momentum=0.1, affine=True, track_running_stats=True)</td>\n",
       "                        <td id=\"T_5918efbc_0b22_11ea_9a7a_80000208fe80row5_col58\" class=\"data row5 col58\" >ReLU()</td>\n",
       "                        <td id=\"T_5918efbc_0b22_11ea_9a7a_80000208fe80row5_col59\" class=\"data row5 col59\" >Conv2d(256, 512, kernel_size=(3, 3), stride=(2, 2), padding=(1, 1))</td>\n",
       "                        <td id=\"T_5918efbc_0b22_11ea_9a7a_80000208fe80row5_col60\" class=\"data row5 col60\" >BatchNorm2d(512, eps=1e-05, momentum=0.1, affine=True, track_running_stats=True)</td>\n",
       "                        <td id=\"T_5918efbc_0b22_11ea_9a7a_80000208fe80row5_col61\" class=\"data row5 col61\" >ReLU()</td>\n",
       "                        <td id=\"T_5918efbc_0b22_11ea_9a7a_80000208fe80row5_col62\" class=\"data row5 col62\" >Conv2d(512, 512, kernel_size=(3, 3), stride=(1, 1), padding=(1, 1))</td>\n",
       "                        <td id=\"T_5918efbc_0b22_11ea_9a7a_80000208fe80row5_col63\" class=\"data row5 col63\" >ReLU()</td>\n",
       "                        <td id=\"T_5918efbc_0b22_11ea_9a7a_80000208fe80row5_col64\" class=\"data row5 col64\" >Conv2d(256, 512, kernel_size=(1, 1), stride=(2, 2))</td>\n",
       "                        <td id=\"T_5918efbc_0b22_11ea_9a7a_80000208fe80row5_col65\" class=\"data row5 col65\" >TorchAdd()</td>\n",
       "                        <td id=\"T_5918efbc_0b22_11ea_9a7a_80000208fe80row5_col66\" class=\"data row5 col66\" >BatchNorm2d(512, eps=1e-05, momentum=0.1, affine=True, track_running_stats=True)</td>\n",
       "                        <td id=\"T_5918efbc_0b22_11ea_9a7a_80000208fe80row5_col67\" class=\"data row5 col67\" >ReLU()</td>\n",
       "                        <td id=\"T_5918efbc_0b22_11ea_9a7a_80000208fe80row5_col68\" class=\"data row5 col68\" >Conv2d(512, 512, kernel_size=(3, 3), stride=(1, 1), padding=(1, 1))</td>\n",
       "                        <td id=\"T_5918efbc_0b22_11ea_9a7a_80000208fe80row5_col69\" class=\"data row5 col69\" >BatchNorm2d(512, eps=1e-05, momentum=0.1, affine=True, track_running_stats=True)</td>\n",
       "                        <td id=\"T_5918efbc_0b22_11ea_9a7a_80000208fe80row5_col70\" class=\"data row5 col70\" >ReLU()</td>\n",
       "                        <td id=\"T_5918efbc_0b22_11ea_9a7a_80000208fe80row5_col71\" class=\"data row5 col71\" >Conv2d(512, 512, kernel_size=(3, 3), stride=(1, 1), padding=(1, 1))</td>\n",
       "                        <td id=\"T_5918efbc_0b22_11ea_9a7a_80000208fe80row5_col72\" class=\"data row5 col72\" >ReLU()</td>\n",
       "                        <td id=\"T_5918efbc_0b22_11ea_9a7a_80000208fe80row5_col73\" class=\"data row5 col73\" >Conv2d(512, 512, kernel_size=(1, 1), stride=(1, 1))</td>\n",
       "                        <td id=\"T_5918efbc_0b22_11ea_9a7a_80000208fe80row5_col74\" class=\"data row5 col74\" >TorchAdd()</td>\n",
       "                        <td id=\"T_5918efbc_0b22_11ea_9a7a_80000208fe80row5_col75\" class=\"data row5 col75\" >GlobalAvgPool2d()</td>\n",
       "                        <td id=\"T_5918efbc_0b22_11ea_9a7a_80000208fe80row5_col76\" class=\"data row5 col76\" >Linear(in_features=512, out_features=10, bias=True)</td>\n",
       "                        <td id=\"T_5918efbc_0b22_11ea_9a7a_80000208fe80row5_col77\" class=\"data row5 col77\" >Conv2d(512, 512, kernel_size=(5, 5), stride=(1, 1), padding=(2, 2))</td>\n",
       "            </tr>\n",
       "    </tbody></table>"
      ],
      "text/plain": [
       "<pandas.io.formats.style.Styler at 0x2b01dc6aae48>"
      ]
     },
     "metadata": {},
     "output_type": "display_data"
    },
    {
     "data": {
      "text/plain": [
       "'H2OAutoML #1'"
      ]
     },
     "metadata": {},
     "output_type": "display_data"
    },
    {
     "data": {
      "text/html": [
       "<style  type=\"text/css\" >\n",
       "</style><table id=\"T_5920393e_0b22_11ea_9a7a_80000208fe80\" ><thead>    <tr>        <th class=\"col_heading level0 col0\" >std</th>        <th class=\"col_heading level0 col1\" >test_acc</th>        <th class=\"col_heading level0 col2\" >train_acc</th>        <th class=\"col_heading level0 col3\" >time_err</th>        <th class=\"col_heading level0 col4\" >time_pre</th>        <th class=\"col_heading level0 col5\" >time_mod</th>    </tr></thead><tbody>\n",
       "                <tr>\n",
       "                                <td id=\"T_5920393e_0b22_11ea_9a7a_80000208fe80row0_col0\" class=\"data row0 col0\" >0</td>\n",
       "                        <td id=\"T_5920393e_0b22_11ea_9a7a_80000208fe80row0_col1\" class=\"data row0 col1\" >0.984</td>\n",
       "                        <td id=\"T_5920393e_0b22_11ea_9a7a_80000208fe80row0_col2\" class=\"data row0 col2\" >1</td>\n",
       "                        <td id=\"T_5920393e_0b22_11ea_9a7a_80000208fe80row0_col3\" class=\"data row0 col3\" >0.141</td>\n",
       "                        <td id=\"T_5920393e_0b22_11ea_9a7a_80000208fe80row0_col4\" class=\"data row0 col4\" >0.001</td>\n",
       "                        <td id=\"T_5920393e_0b22_11ea_9a7a_80000208fe80row0_col5\" class=\"data row0 col5\" >1892.79</td>\n",
       "            </tr>\n",
       "            <tr>\n",
       "                                <td id=\"T_5920393e_0b22_11ea_9a7a_80000208fe80row1_col0\" class=\"data row1 col0\" >3.2</td>\n",
       "                        <td id=\"T_5920393e_0b22_11ea_9a7a_80000208fe80row1_col1\" class=\"data row1 col1\" >0.934</td>\n",
       "                        <td id=\"T_5920393e_0b22_11ea_9a7a_80000208fe80row1_col2\" class=\"data row1 col2\" >1</td>\n",
       "                        <td id=\"T_5920393e_0b22_11ea_9a7a_80000208fe80row1_col3\" class=\"data row1 col3\" >0.106</td>\n",
       "                        <td id=\"T_5920393e_0b22_11ea_9a7a_80000208fe80row1_col4\" class=\"data row1 col4\" >0.001</td>\n",
       "                        <td id=\"T_5920393e_0b22_11ea_9a7a_80000208fe80row1_col5\" class=\"data row1 col5\" >1839.39</td>\n",
       "            </tr>\n",
       "            <tr>\n",
       "                                <td id=\"T_5920393e_0b22_11ea_9a7a_80000208fe80row2_col0\" class=\"data row2 col0\" >6.4</td>\n",
       "                        <td id=\"T_5920393e_0b22_11ea_9a7a_80000208fe80row2_col1\" class=\"data row2 col1\" >0.798</td>\n",
       "                        <td id=\"T_5920393e_0b22_11ea_9a7a_80000208fe80row2_col2\" class=\"data row2 col2\" >1</td>\n",
       "                        <td id=\"T_5920393e_0b22_11ea_9a7a_80000208fe80row2_col3\" class=\"data row2 col3\" >0.115</td>\n",
       "                        <td id=\"T_5920393e_0b22_11ea_9a7a_80000208fe80row2_col4\" class=\"data row2 col4\" >0.002</td>\n",
       "                        <td id=\"T_5920393e_0b22_11ea_9a7a_80000208fe80row2_col5\" class=\"data row2 col5\" >1766.73</td>\n",
       "            </tr>\n",
       "            <tr>\n",
       "                                <td id=\"T_5920393e_0b22_11ea_9a7a_80000208fe80row3_col0\" class=\"data row3 col0\" >9.6</td>\n",
       "                        <td id=\"T_5920393e_0b22_11ea_9a7a_80000208fe80row3_col1\" class=\"data row3 col1\" >0.658</td>\n",
       "                        <td id=\"T_5920393e_0b22_11ea_9a7a_80000208fe80row3_col2\" class=\"data row3 col2\" >1</td>\n",
       "                        <td id=\"T_5920393e_0b22_11ea_9a7a_80000208fe80row3_col3\" class=\"data row3 col3\" >0.105</td>\n",
       "                        <td id=\"T_5920393e_0b22_11ea_9a7a_80000208fe80row3_col4\" class=\"data row3 col4\" >0.001</td>\n",
       "                        <td id=\"T_5920393e_0b22_11ea_9a7a_80000208fe80row3_col5\" class=\"data row3 col5\" >1657.44</td>\n",
       "            </tr>\n",
       "            <tr>\n",
       "                                <td id=\"T_5920393e_0b22_11ea_9a7a_80000208fe80row4_col0\" class=\"data row4 col0\" >12.8</td>\n",
       "                        <td id=\"T_5920393e_0b22_11ea_9a7a_80000208fe80row4_col1\" class=\"data row4 col1\" >0.482</td>\n",
       "                        <td id=\"T_5920393e_0b22_11ea_9a7a_80000208fe80row4_col2\" class=\"data row4 col2\" >0.923</td>\n",
       "                        <td id=\"T_5920393e_0b22_11ea_9a7a_80000208fe80row4_col3\" class=\"data row4 col3\" >0.1</td>\n",
       "                        <td id=\"T_5920393e_0b22_11ea_9a7a_80000208fe80row4_col4\" class=\"data row4 col4\" >0.001</td>\n",
       "                        <td id=\"T_5920393e_0b22_11ea_9a7a_80000208fe80row4_col5\" class=\"data row4 col5\" >1393.36</td>\n",
       "            </tr>\n",
       "            <tr>\n",
       "                                <td id=\"T_5920393e_0b22_11ea_9a7a_80000208fe80row5_col0\" class=\"data row5 col0\" >16</td>\n",
       "                        <td id=\"T_5920393e_0b22_11ea_9a7a_80000208fe80row5_col1\" class=\"data row5 col1\" >0.315</td>\n",
       "                        <td id=\"T_5920393e_0b22_11ea_9a7a_80000208fe80row5_col2\" class=\"data row5 col2\" >0.962</td>\n",
       "                        <td id=\"T_5920393e_0b22_11ea_9a7a_80000208fe80row5_col3\" class=\"data row5 col3\" >0.1</td>\n",
       "                        <td id=\"T_5920393e_0b22_11ea_9a7a_80000208fe80row5_col4\" class=\"data row5 col4\" >0.001</td>\n",
       "                        <td id=\"T_5920393e_0b22_11ea_9a7a_80000208fe80row5_col5\" class=\"data row5 col5\" >1437.27</td>\n",
       "            </tr>\n",
       "    </tbody></table>"
      ],
      "text/plain": [
       "<pandas.io.formats.style.Styler at 0x2b01dc6aaa58>"
      ]
     },
     "metadata": {},
     "output_type": "display_data"
    },
    {
     "data": {
      "text/html": [
       "<style  type=\"text/css\" >\n",
       "</style><table id=\"T_59267286_0b22_11ea_9a7a_80000208fe80\" ><thead>    <tr>        <th class=\"col_heading level0 col0\" >std</th>        <th class=\"col_heading level0 col1\" >pipe_0</th>        <th class=\"col_heading level0 col2\" >pipe_1</th>        <th class=\"col_heading level0 col3\" >pipe_2</th>        <th class=\"col_heading level0 col4\" >pipe_3</th>        <th class=\"col_heading level0 col5\" >pipe_4</th>        <th class=\"col_heading level0 col6\" >pipe_5</th>        <th class=\"col_heading level0 col7\" >pipe_6</th>        <th class=\"col_heading level0 col8\" >pipe_7</th>        <th class=\"col_heading level0 col9\" >pipe_8</th>        <th class=\"col_heading level0 col10\" >pipe_9</th>        <th class=\"col_heading level0 col11\" >pipe_10</th>        <th class=\"col_heading level0 col12\" >pipe_11</th>        <th class=\"col_heading level0 col13\" >pipe_12</th>        <th class=\"col_heading level0 col14\" >pipe_13</th>        <th class=\"col_heading level0 col15\" >pipe_14</th>        <th class=\"col_heading level0 col16\" >pipe_15</th>        <th class=\"col_heading level0 col17\" >pipe_16</th>        <th class=\"col_heading level0 col18\" >pipe_17</th>        <th class=\"col_heading level0 col19\" >pipe_18</th>        <th class=\"col_heading level0 col20\" >pipe_19</th>        <th class=\"col_heading level0 col21\" >pipe_20</th>        <th class=\"col_heading level0 col22\" >pipe_21</th>        <th class=\"col_heading level0 col23\" >pipe_22</th>        <th class=\"col_heading level0 col24\" >pipe_23</th>        <th class=\"col_heading level0 col25\" >pipe_24</th>        <th class=\"col_heading level0 col26\" >pipe_25</th>        <th class=\"col_heading level0 col27\" >pipe_26</th>        <th class=\"col_heading level0 col28\" >pipe_27</th>        <th class=\"col_heading level0 col29\" >pipe_28</th>        <th class=\"col_heading level0 col30\" >pipe_29</th>        <th class=\"col_heading level0 col31\" >pipe_30</th>        <th class=\"col_heading level0 col32\" >pipe_31</th>        <th class=\"col_heading level0 col33\" >pipe_32</th>        <th class=\"col_heading level0 col34\" >pipe_33</th>        <th class=\"col_heading level0 col35\" >pipe_34</th>        <th class=\"col_heading level0 col36\" >pipe_35</th>        <th class=\"col_heading level0 col37\" >pipe_36</th>        <th class=\"col_heading level0 col38\" >pipe_37</th>        <th class=\"col_heading level0 col39\" >pipe_38</th>        <th class=\"col_heading level0 col40\" >pipe_39</th>        <th class=\"col_heading level0 col41\" >pipe_40</th>        <th class=\"col_heading level0 col42\" >pipe_41</th>        <th class=\"col_heading level0 col43\" >pipe_42</th>        <th class=\"col_heading level0 col44\" >pipe_43</th>        <th class=\"col_heading level0 col45\" >pipe_44</th>        <th class=\"col_heading level0 col46\" >pipe_45</th>        <th class=\"col_heading level0 col47\" >pipe_46</th>        <th class=\"col_heading level0 col48\" >pipe_47</th>        <th class=\"col_heading level0 col49\" >pipe_48</th>        <th class=\"col_heading level0 col50\" >pipe_49</th>        <th class=\"col_heading level0 col51\" >pipe_50</th>        <th class=\"col_heading level0 col52\" >pipe_51</th>        <th class=\"col_heading level0 col53\" >pipe_52</th>        <th class=\"col_heading level0 col54\" >pipe_53</th>        <th class=\"col_heading level0 col55\" >pipe_54</th>        <th class=\"col_heading level0 col56\" >pipe_55</th>        <th class=\"col_heading level0 col57\" >pipe_56</th>        <th class=\"col_heading level0 col58\" >pipe_57</th>        <th class=\"col_heading level0 col59\" >pipe_58</th>        <th class=\"col_heading level0 col60\" >pipe_59</th>        <th class=\"col_heading level0 col61\" >pipe_60</th>        <th class=\"col_heading level0 col62\" >pipe_61</th>        <th class=\"col_heading level0 col63\" >pipe_62</th>        <th class=\"col_heading level0 col64\" >pipe_63</th>        <th class=\"col_heading level0 col65\" >pipe_64</th>        <th class=\"col_heading level0 col66\" >pipe_65</th>        <th class=\"col_heading level0 col67\" >pipe_66</th>        <th class=\"col_heading level0 col68\" >pipe_67</th>        <th class=\"col_heading level0 col69\" >pipe_68</th>        <th class=\"col_heading level0 col70\" >pipe_69</th>        <th class=\"col_heading level0 col71\" >pipe_70</th>        <th class=\"col_heading level0 col72\" >pipe_71</th>        <th class=\"col_heading level0 col73\" >pipe_72</th>        <th class=\"col_heading level0 col74\" >pipe_73</th>        <th class=\"col_heading level0 col75\" >pipe_74</th>        <th class=\"col_heading level0 col76\" >pipe_75</th>        <th class=\"col_heading level0 col77\" >pipe_76</th>        <th class=\"col_heading level0 col78\" >pipe_77</th>        <th class=\"col_heading level0 col79\" >pipe_78</th>        <th class=\"col_heading level0 col80\" >pipe_79</th>        <th class=\"col_heading level0 col81\" >pipe_80</th>        <th class=\"col_heading level0 col82\" >pipe_81</th>        <th class=\"col_heading level0 col83\" >pipe_82</th>        <th class=\"col_heading level0 col84\" >pipe_83</th>        <th class=\"col_heading level0 col85\" >pipe_84</th>        <th class=\"col_heading level0 col86\" >pipe_85</th>        <th class=\"col_heading level0 col87\" >pipe_86</th>        <th class=\"col_heading level0 col88\" >pipe_87</th>        <th class=\"col_heading level0 col89\" >pipe_88</th>        <th class=\"col_heading level0 col90\" >pipe_89</th>        <th class=\"col_heading level0 col91\" >pipe_90</th>        <th class=\"col_heading level0 col92\" >pipe_91</th>        <th class=\"col_heading level0 col93\" >pipe_92</th>        <th class=\"col_heading level0 col94\" >pipe_93</th>        <th class=\"col_heading level0 col95\" >pipe_94</th>        <th class=\"col_heading level0 col96\" >pipe_95</th>        <th class=\"col_heading level0 col97\" >pipe_96</th>        <th class=\"col_heading level0 col98\" >pipe_97</th>        <th class=\"col_heading level0 col99\" >pipe_98</th>        <th class=\"col_heading level0 col100\" >pipe_99</th>        <th class=\"col_heading level0 col101\" >pipe_100</th>        <th class=\"col_heading level0 col102\" >pipe_101</th>        <th class=\"col_heading level0 col103\" >pipe_102</th>        <th class=\"col_heading level0 col104\" >pipe_103</th>        <th class=\"col_heading level0 col105\" >pipe_104</th>        <th class=\"col_heading level0 col106\" >pipe_105</th>        <th class=\"col_heading level0 col107\" >pipe_106</th>        <th class=\"col_heading level0 col108\" >pipe_107</th>        <th class=\"col_heading level0 col109\" >pipe_108</th>        <th class=\"col_heading level0 col110\" >pipe_109</th>        <th class=\"col_heading level0 col111\" >pipe_110</th>        <th class=\"col_heading level0 col112\" >pipe_111</th>        <th class=\"col_heading level0 col113\" >pipe_112</th>        <th class=\"col_heading level0 col114\" >pipe_113</th>        <th class=\"col_heading level0 col115\" >pipe_114</th>        <th class=\"col_heading level0 col116\" >pipe_115</th>        <th class=\"col_heading level0 col117\" >pipe_116</th>        <th class=\"col_heading level0 col118\" >pipe_117</th>        <th class=\"col_heading level0 col119\" >pipe_118</th>        <th class=\"col_heading level0 col120\" >pipe_119</th>        <th class=\"col_heading level0 col121\" >pipe_120</th>        <th class=\"col_heading level0 col122\" >pipe_121</th>        <th class=\"col_heading level0 col123\" >pipe_122</th>        <th class=\"col_heading level0 col124\" >pipe_123</th>        <th class=\"col_heading level0 col125\" >pipe_124</th>        <th class=\"col_heading level0 col126\" >pipe_125</th>        <th class=\"col_heading level0 col127\" >pipe_126</th>        <th class=\"col_heading level0 col128\" >pipe_127</th>        <th class=\"col_heading level0 col129\" >pipe_128</th>        <th class=\"col_heading level0 col130\" >pipe_129</th>        <th class=\"col_heading level0 col131\" >pipe_130</th>        <th class=\"col_heading level0 col132\" >pipe_131</th>        <th class=\"col_heading level0 col133\" >pipe_132</th>        <th class=\"col_heading level0 col134\" >pipe_133</th>        <th class=\"col_heading level0 col135\" >pipe_134</th>        <th class=\"col_heading level0 col136\" >pipe_135</th>        <th class=\"col_heading level0 col137\" >pipe_136</th>        <th class=\"col_heading level0 col138\" >pipe_137</th>        <th class=\"col_heading level0 col139\" >pipe_138</th>        <th class=\"col_heading level0 col140\" >pipe_139</th>        <th class=\"col_heading level0 col141\" >pipe_140</th>        <th class=\"col_heading level0 col142\" >pipe_141</th>        <th class=\"col_heading level0 col143\" >pipe_142</th>        <th class=\"col_heading level0 col144\" >pipe_143</th>        <th class=\"col_heading level0 col145\" >pipe_144</th>        <th class=\"col_heading level0 col146\" >pipe_145</th>        <th class=\"col_heading level0 col147\" >pipe_146</th>        <th class=\"col_heading level0 col148\" >pipe_147</th>        <th class=\"col_heading level0 col149\" >pipe_148</th>        <th class=\"col_heading level0 col150\" >pipe_149</th>        <th class=\"col_heading level0 col151\" >pipe_150</th>        <th class=\"col_heading level0 col152\" >pipe_151</th>        <th class=\"col_heading level0 col153\" >pipe_152</th>        <th class=\"col_heading level0 col154\" >pipe_153</th>        <th class=\"col_heading level0 col155\" >pipe_154</th>        <th class=\"col_heading level0 col156\" >pipe_155</th>        <th class=\"col_heading level0 col157\" >pipe_156</th>        <th class=\"col_heading level0 col158\" >pipe_157</th>        <th class=\"col_heading level0 col159\" >pipe_158</th>        <th class=\"col_heading level0 col160\" >pipe_159</th>        <th class=\"col_heading level0 col161\" >pipe_160</th>        <th class=\"col_heading level0 col162\" >pipe_161</th>        <th class=\"col_heading level0 col163\" >pipe_162</th>        <th class=\"col_heading level0 col164\" >pipe_163</th>        <th class=\"col_heading level0 col165\" >pipe_164</th>        <th class=\"col_heading level0 col166\" >pipe_165</th>        <th class=\"col_heading level0 col167\" >pipe_166</th>        <th class=\"col_heading level0 col168\" >pipe_167</th>        <th class=\"col_heading level0 col169\" >pipe_168</th>        <th class=\"col_heading level0 col170\" >pipe_169</th>        <th class=\"col_heading level0 col171\" >pipe_170</th>        <th class=\"col_heading level0 col172\" >pipe_171</th>        <th class=\"col_heading level0 col173\" >pipe_172</th>        <th class=\"col_heading level0 col174\" >pipe_173</th>        <th class=\"col_heading level0 col175\" >pipe_174</th>        <th class=\"col_heading level0 col176\" >pipe_175</th>        <th class=\"col_heading level0 col177\" >pipe_176</th>        <th class=\"col_heading level0 col178\" >pipe_177</th>        <th class=\"col_heading level0 col179\" >pipe_178</th>        <th class=\"col_heading level0 col180\" >pipe_179</th>        <th class=\"col_heading level0 col181\" >pipe_180</th>        <th class=\"col_heading level0 col182\" >pipe_181</th>        <th class=\"col_heading level0 col183\" >pipe_182</th>        <th class=\"col_heading level0 col184\" >pipe_183</th>        <th class=\"col_heading level0 col185\" >pipe_184</th>        <th class=\"col_heading level0 col186\" >pipe_185</th>        <th class=\"col_heading level0 col187\" >pipe_186</th>    </tr></thead><tbody>\n",
       "                <tr>\n",
       "                                <td id=\"T_59267286_0b22_11ea_9a7a_80000208fe80row0_col0\" class=\"data row0 col0\" >0</td>\n",
       "                        <td id=\"T_59267286_0b22_11ea_9a7a_80000208fe80row0_col1\" class=\"data row0 col1\" >StackedEnsemble_AllModels_AutoML_20191119_090305</td>\n",
       "                        <td id=\"T_59267286_0b22_11ea_9a7a_80000208fe80row0_col2\" class=\"data row0 col2\" >DeepLearning_grid_1_AutoML_20191119_090305_model_2</td>\n",
       "                        <td id=\"T_59267286_0b22_11ea_9a7a_80000208fe80row0_col3\" class=\"data row0 col3\" >DeepLearning_grid_1_AutoML_20191119_090305_model_10</td>\n",
       "                        <td id=\"T_59267286_0b22_11ea_9a7a_80000208fe80row0_col4\" class=\"data row0 col4\" >GBM_grid_1_AutoML_20191119_090305_model_39</td>\n",
       "                        <td id=\"T_59267286_0b22_11ea_9a7a_80000208fe80row0_col5\" class=\"data row0 col5\" >DeepLearning_grid_1_AutoML_20191119_090305_model_14</td>\n",
       "                        <td id=\"T_59267286_0b22_11ea_9a7a_80000208fe80row0_col6\" class=\"data row0 col6\" >GBM_grid_1_AutoML_20191119_090305_model_55</td>\n",
       "                        <td id=\"T_59267286_0b22_11ea_9a7a_80000208fe80row0_col7\" class=\"data row0 col7\" >DeepLearning_grid_1_AutoML_20191119_090305_model_3</td>\n",
       "                        <td id=\"T_59267286_0b22_11ea_9a7a_80000208fe80row0_col8\" class=\"data row0 col8\" >GBM_grid_1_AutoML_20191119_090305_model_31</td>\n",
       "                        <td id=\"T_59267286_0b22_11ea_9a7a_80000208fe80row0_col9\" class=\"data row0 col9\" >GBM_grid_1_AutoML_20191119_090305_model_35</td>\n",
       "                        <td id=\"T_59267286_0b22_11ea_9a7a_80000208fe80row0_col10\" class=\"data row0 col10\" >DeepLearning_grid_1_AutoML_20191119_090305_model_1</td>\n",
       "                        <td id=\"T_59267286_0b22_11ea_9a7a_80000208fe80row0_col11\" class=\"data row0 col11\" >GBM_grid_1_AutoML_20191119_090305_model_46</td>\n",
       "                        <td id=\"T_59267286_0b22_11ea_9a7a_80000208fe80row0_col12\" class=\"data row0 col12\" >GBM_grid_1_AutoML_20191119_090305_model_18</td>\n",
       "                        <td id=\"T_59267286_0b22_11ea_9a7a_80000208fe80row0_col13\" class=\"data row0 col13\" >DeepLearning_grid_1_AutoML_20191119_090305_model_4</td>\n",
       "                        <td id=\"T_59267286_0b22_11ea_9a7a_80000208fe80row0_col14\" class=\"data row0 col14\" >GBM_grid_1_AutoML_20191119_090305_model_47</td>\n",
       "                        <td id=\"T_59267286_0b22_11ea_9a7a_80000208fe80row0_col15\" class=\"data row0 col15\" >GBM_grid_1_AutoML_20191119_090305_model_48</td>\n",
       "                        <td id=\"T_59267286_0b22_11ea_9a7a_80000208fe80row0_col16\" class=\"data row0 col16\" >DeepLearning_grid_1_AutoML_20191119_090305_model_9</td>\n",
       "                        <td id=\"T_59267286_0b22_11ea_9a7a_80000208fe80row0_col17\" class=\"data row0 col17\" >DeepLearning_grid_1_AutoML_20191119_090305_model_6</td>\n",
       "                        <td id=\"T_59267286_0b22_11ea_9a7a_80000208fe80row0_col18\" class=\"data row0 col18\" >GBM_grid_1_AutoML_20191119_090305_model_12</td>\n",
       "                        <td id=\"T_59267286_0b22_11ea_9a7a_80000208fe80row0_col19\" class=\"data row0 col19\" >GBM_3_AutoML_20191119_090305</td>\n",
       "                        <td id=\"T_59267286_0b22_11ea_9a7a_80000208fe80row0_col20\" class=\"data row0 col20\" >GBM_grid_1_AutoML_20191119_090305_model_27</td>\n",
       "                        <td id=\"T_59267286_0b22_11ea_9a7a_80000208fe80row0_col21\" class=\"data row0 col21\" >GBM_grid_1_AutoML_20191119_090305_model_19</td>\n",
       "                        <td id=\"T_59267286_0b22_11ea_9a7a_80000208fe80row0_col22\" class=\"data row0 col22\" >GBM_grid_1_AutoML_20191119_090305_model_40</td>\n",
       "                        <td id=\"T_59267286_0b22_11ea_9a7a_80000208fe80row0_col23\" class=\"data row0 col23\" >GBM_grid_1_AutoML_20191119_090305_model_56</td>\n",
       "                        <td id=\"T_59267286_0b22_11ea_9a7a_80000208fe80row0_col24\" class=\"data row0 col24\" >GBM_grid_1_AutoML_20191119_090305_model_57</td>\n",
       "                        <td id=\"T_59267286_0b22_11ea_9a7a_80000208fe80row0_col25\" class=\"data row0 col25\" >GBM_grid_1_AutoML_20191119_090305_model_72</td>\n",
       "                        <td id=\"T_59267286_0b22_11ea_9a7a_80000208fe80row0_col26\" class=\"data row0 col26\" >XGBoost_grid_1_AutoML_20191119_090305_model_13</td>\n",
       "                        <td id=\"T_59267286_0b22_11ea_9a7a_80000208fe80row0_col27\" class=\"data row0 col27\" >DeepLearning_grid_1_AutoML_20191119_090305_model_13</td>\n",
       "                        <td id=\"T_59267286_0b22_11ea_9a7a_80000208fe80row0_col28\" class=\"data row0 col28\" >DeepLearning_grid_1_AutoML_20191119_090305_model_5</td>\n",
       "                        <td id=\"T_59267286_0b22_11ea_9a7a_80000208fe80row0_col29\" class=\"data row0 col29\" >GBM_grid_1_AutoML_20191119_090305_model_75</td>\n",
       "                        <td id=\"T_59267286_0b22_11ea_9a7a_80000208fe80row0_col30\" class=\"data row0 col30\" >GBM_grid_1_AutoML_20191119_090305_model_1</td>\n",
       "                        <td id=\"T_59267286_0b22_11ea_9a7a_80000208fe80row0_col31\" class=\"data row0 col31\" >GBM_grid_1_AutoML_20191119_090305_model_41</td>\n",
       "                        <td id=\"T_59267286_0b22_11ea_9a7a_80000208fe80row0_col32\" class=\"data row0 col32\" >GBM_grid_1_AutoML_20191119_090305_model_20</td>\n",
       "                        <td id=\"T_59267286_0b22_11ea_9a7a_80000208fe80row0_col33\" class=\"data row0 col33\" >GBM_grid_1_AutoML_20191119_090305_model_67</td>\n",
       "                        <td id=\"T_59267286_0b22_11ea_9a7a_80000208fe80row0_col34\" class=\"data row0 col34\" >GBM_2_AutoML_20191119_090305</td>\n",
       "                        <td id=\"T_59267286_0b22_11ea_9a7a_80000208fe80row0_col35\" class=\"data row0 col35\" >GBM_grid_1_AutoML_20191119_090305_model_43</td>\n",
       "                        <td id=\"T_59267286_0b22_11ea_9a7a_80000208fe80row0_col36\" class=\"data row0 col36\" >GBM_grid_1_AutoML_20191119_090305_model_15</td>\n",
       "                        <td id=\"T_59267286_0b22_11ea_9a7a_80000208fe80row0_col37\" class=\"data row0 col37\" >DRF_1_AutoML_20191119_090305</td>\n",
       "                        <td id=\"T_59267286_0b22_11ea_9a7a_80000208fe80row0_col38\" class=\"data row0 col38\" >GBM_4_AutoML_20191119_090305</td>\n",
       "                        <td id=\"T_59267286_0b22_11ea_9a7a_80000208fe80row0_col39\" class=\"data row0 col39\" >XGBoost_grid_1_AutoML_20191119_090305_model_33</td>\n",
       "                        <td id=\"T_59267286_0b22_11ea_9a7a_80000208fe80row0_col40\" class=\"data row0 col40\" >XRT_1_AutoML_20191119_090305</td>\n",
       "                        <td id=\"T_59267286_0b22_11ea_9a7a_80000208fe80row0_col41\" class=\"data row0 col41\" >GBM_grid_1_AutoML_20191119_090305_model_13</td>\n",
       "                        <td id=\"T_59267286_0b22_11ea_9a7a_80000208fe80row0_col42\" class=\"data row0 col42\" >GBM_grid_1_AutoML_20191119_090305_model_45</td>\n",
       "                        <td id=\"T_59267286_0b22_11ea_9a7a_80000208fe80row0_col43\" class=\"data row0 col43\" >GBM_grid_1_AutoML_20191119_090305_model_32</td>\n",
       "                        <td id=\"T_59267286_0b22_11ea_9a7a_80000208fe80row0_col44\" class=\"data row0 col44\" >GBM_grid_1_AutoML_20191119_090305_model_76</td>\n",
       "                        <td id=\"T_59267286_0b22_11ea_9a7a_80000208fe80row0_col45\" class=\"data row0 col45\" >GBM_grid_1_AutoML_20191119_090305_model_58</td>\n",
       "                        <td id=\"T_59267286_0b22_11ea_9a7a_80000208fe80row0_col46\" class=\"data row0 col46\" >XGBoost_grid_1_AutoML_20191119_090305_model_52</td>\n",
       "                        <td id=\"T_59267286_0b22_11ea_9a7a_80000208fe80row0_col47\" class=\"data row0 col47\" >GBM_grid_1_AutoML_20191119_090305_model_16</td>\n",
       "                        <td id=\"T_59267286_0b22_11ea_9a7a_80000208fe80row0_col48\" class=\"data row0 col48\" >GBM_grid_1_AutoML_20191119_090305_model_66</td>\n",
       "                        <td id=\"T_59267286_0b22_11ea_9a7a_80000208fe80row0_col49\" class=\"data row0 col49\" >XGBoost_grid_1_AutoML_20191119_090305_model_8</td>\n",
       "                        <td id=\"T_59267286_0b22_11ea_9a7a_80000208fe80row0_col50\" class=\"data row0 col50\" >GBM_grid_1_AutoML_20191119_090305_model_17</td>\n",
       "                        <td id=\"T_59267286_0b22_11ea_9a7a_80000208fe80row0_col51\" class=\"data row0 col51\" >DeepLearning_grid_1_AutoML_20191119_090305_model_11</td>\n",
       "                        <td id=\"T_59267286_0b22_11ea_9a7a_80000208fe80row0_col52\" class=\"data row0 col52\" >GBM_grid_1_AutoML_20191119_090305_model_26</td>\n",
       "                        <td id=\"T_59267286_0b22_11ea_9a7a_80000208fe80row0_col53\" class=\"data row0 col53\" >GBM_5_AutoML_20191119_090305</td>\n",
       "                        <td id=\"T_59267286_0b22_11ea_9a7a_80000208fe80row0_col54\" class=\"data row0 col54\" >GBM_grid_1_AutoML_20191119_090305_model_6</td>\n",
       "                        <td id=\"T_59267286_0b22_11ea_9a7a_80000208fe80row0_col55\" class=\"data row0 col55\" >GBM_grid_1_AutoML_20191119_090305_model_24</td>\n",
       "                        <td id=\"T_59267286_0b22_11ea_9a7a_80000208fe80row0_col56\" class=\"data row0 col56\" >GBM_grid_1_AutoML_20191119_090305_model_77</td>\n",
       "                        <td id=\"T_59267286_0b22_11ea_9a7a_80000208fe80row0_col57\" class=\"data row0 col57\" >GBM_grid_1_AutoML_20191119_090305_model_63</td>\n",
       "                        <td id=\"T_59267286_0b22_11ea_9a7a_80000208fe80row0_col58\" class=\"data row0 col58\" >XGBoost_grid_1_AutoML_20191119_090305_model_61</td>\n",
       "                        <td id=\"T_59267286_0b22_11ea_9a7a_80000208fe80row0_col59\" class=\"data row0 col59\" >XGBoost_grid_1_AutoML_20191119_090305_model_38</td>\n",
       "                        <td id=\"T_59267286_0b22_11ea_9a7a_80000208fe80row0_col60\" class=\"data row0 col60\" >GBM_grid_1_AutoML_20191119_090305_model_10</td>\n",
       "                        <td id=\"T_59267286_0b22_11ea_9a7a_80000208fe80row0_col61\" class=\"data row0 col61\" >XGBoost_grid_1_AutoML_20191119_090305_model_68</td>\n",
       "                        <td id=\"T_59267286_0b22_11ea_9a7a_80000208fe80row0_col62\" class=\"data row0 col62\" >GBM_grid_1_AutoML_20191119_090305_model_78</td>\n",
       "                        <td id=\"T_59267286_0b22_11ea_9a7a_80000208fe80row0_col63\" class=\"data row0 col63\" >GBM_grid_1_AutoML_20191119_090305_model_59</td>\n",
       "                        <td id=\"T_59267286_0b22_11ea_9a7a_80000208fe80row0_col64\" class=\"data row0 col64\" >GBM_grid_1_AutoML_20191119_090305_model_42</td>\n",
       "                        <td id=\"T_59267286_0b22_11ea_9a7a_80000208fe80row0_col65\" class=\"data row0 col65\" >GBM_grid_1_AutoML_20191119_090305_model_3</td>\n",
       "                        <td id=\"T_59267286_0b22_11ea_9a7a_80000208fe80row0_col66\" class=\"data row0 col66\" >GBM_grid_1_AutoML_20191119_090305_model_62</td>\n",
       "                        <td id=\"T_59267286_0b22_11ea_9a7a_80000208fe80row0_col67\" class=\"data row0 col67\" >GBM_grid_1_AutoML_20191119_090305_model_54</td>\n",
       "                        <td id=\"T_59267286_0b22_11ea_9a7a_80000208fe80row0_col68\" class=\"data row0 col68\" >GBM_1_AutoML_20191119_090305</td>\n",
       "                        <td id=\"T_59267286_0b22_11ea_9a7a_80000208fe80row0_col69\" class=\"data row0 col69\" >GLM_grid_1_AutoML_20191119_090305_model_1</td>\n",
       "                        <td id=\"T_59267286_0b22_11ea_9a7a_80000208fe80row0_col70\" class=\"data row0 col70\" >XGBoost_grid_1_AutoML_20191119_090305_model_30</td>\n",
       "                        <td id=\"T_59267286_0b22_11ea_9a7a_80000208fe80row0_col71\" class=\"data row0 col71\" >GBM_grid_1_AutoML_20191119_090305_model_14</td>\n",
       "                        <td id=\"T_59267286_0b22_11ea_9a7a_80000208fe80row0_col72\" class=\"data row0 col72\" >DeepLearning_grid_1_AutoML_20191119_090305_model_16</td>\n",
       "                        <td id=\"T_59267286_0b22_11ea_9a7a_80000208fe80row0_col73\" class=\"data row0 col73\" >XGBoost_3_AutoML_20191119_090305</td>\n",
       "                        <td id=\"T_59267286_0b22_11ea_9a7a_80000208fe80row0_col74\" class=\"data row0 col74\" >XGBoost_grid_1_AutoML_20191119_090305_model_15</td>\n",
       "                        <td id=\"T_59267286_0b22_11ea_9a7a_80000208fe80row0_col75\" class=\"data row0 col75\" >GBM_grid_1_AutoML_20191119_090305_model_64</td>\n",
       "                        <td id=\"T_59267286_0b22_11ea_9a7a_80000208fe80row0_col76\" class=\"data row0 col76\" >XGBoost_grid_1_AutoML_20191119_090305_model_17</td>\n",
       "                        <td id=\"T_59267286_0b22_11ea_9a7a_80000208fe80row0_col77\" class=\"data row0 col77\" >XGBoost_grid_1_AutoML_20191119_090305_model_55</td>\n",
       "                        <td id=\"T_59267286_0b22_11ea_9a7a_80000208fe80row0_col78\" class=\"data row0 col78\" >XGBoost_grid_1_AutoML_20191119_090305_model_48</td>\n",
       "                        <td id=\"T_59267286_0b22_11ea_9a7a_80000208fe80row0_col79\" class=\"data row0 col79\" >XGBoost_grid_1_AutoML_20191119_090305_model_49</td>\n",
       "                        <td id=\"T_59267286_0b22_11ea_9a7a_80000208fe80row0_col80\" class=\"data row0 col80\" >GBM_grid_1_AutoML_20191119_090305_model_11</td>\n",
       "                        <td id=\"T_59267286_0b22_11ea_9a7a_80000208fe80row0_col81\" class=\"data row0 col81\" >XGBoost_1_AutoML_20191119_090305</td>\n",
       "                        <td id=\"T_59267286_0b22_11ea_9a7a_80000208fe80row0_col82\" class=\"data row0 col82\" >XGBoost_grid_1_AutoML_20191119_090305_model_47</td>\n",
       "                        <td id=\"T_59267286_0b22_11ea_9a7a_80000208fe80row0_col83\" class=\"data row0 col83\" >XGBoost_grid_1_AutoML_20191119_090305_model_25</td>\n",
       "                        <td id=\"T_59267286_0b22_11ea_9a7a_80000208fe80row0_col84\" class=\"data row0 col84\" >XGBoost_grid_1_AutoML_20191119_090305_model_37</td>\n",
       "                        <td id=\"T_59267286_0b22_11ea_9a7a_80000208fe80row0_col85\" class=\"data row0 col85\" >XGBoost_grid_1_AutoML_20191119_090305_model_45</td>\n",
       "                        <td id=\"T_59267286_0b22_11ea_9a7a_80000208fe80row0_col86\" class=\"data row0 col86\" >XGBoost_grid_1_AutoML_20191119_090305_model_46</td>\n",
       "                        <td id=\"T_59267286_0b22_11ea_9a7a_80000208fe80row0_col87\" class=\"data row0 col87\" >GBM_grid_1_AutoML_20191119_090305_model_68</td>\n",
       "                        <td id=\"T_59267286_0b22_11ea_9a7a_80000208fe80row0_col88\" class=\"data row0 col88\" >GBM_grid_1_AutoML_20191119_090305_model_8</td>\n",
       "                        <td id=\"T_59267286_0b22_11ea_9a7a_80000208fe80row0_col89\" class=\"data row0 col89\" >XGBoost_grid_1_AutoML_20191119_090305_model_71</td>\n",
       "                        <td id=\"T_59267286_0b22_11ea_9a7a_80000208fe80row0_col90\" class=\"data row0 col90\" >XGBoost_grid_1_AutoML_20191119_090305_model_57</td>\n",
       "                        <td id=\"T_59267286_0b22_11ea_9a7a_80000208fe80row0_col91\" class=\"data row0 col91\" >XGBoost_grid_1_AutoML_20191119_090305_model_4</td>\n",
       "                        <td id=\"T_59267286_0b22_11ea_9a7a_80000208fe80row0_col92\" class=\"data row0 col92\" >XGBoost_grid_1_AutoML_20191119_090305_model_35</td>\n",
       "                        <td id=\"T_59267286_0b22_11ea_9a7a_80000208fe80row0_col93\" class=\"data row0 col93\" >XGBoost_grid_1_AutoML_20191119_090305_model_67</td>\n",
       "                        <td id=\"T_59267286_0b22_11ea_9a7a_80000208fe80row0_col94\" class=\"data row0 col94\" >GBM_grid_1_AutoML_20191119_090305_model_70</td>\n",
       "                        <td id=\"T_59267286_0b22_11ea_9a7a_80000208fe80row0_col95\" class=\"data row0 col95\" >XGBoost_grid_1_AutoML_20191119_090305_model_18</td>\n",
       "                        <td id=\"T_59267286_0b22_11ea_9a7a_80000208fe80row0_col96\" class=\"data row0 col96\" >GBM_grid_1_AutoML_20191119_090305_model_73</td>\n",
       "                        <td id=\"T_59267286_0b22_11ea_9a7a_80000208fe80row0_col97\" class=\"data row0 col97\" >DeepLearning_grid_1_AutoML_20191119_090305_model_15</td>\n",
       "                        <td id=\"T_59267286_0b22_11ea_9a7a_80000208fe80row0_col98\" class=\"data row0 col98\" >XGBoost_grid_1_AutoML_20191119_090305_model_21</td>\n",
       "                        <td id=\"T_59267286_0b22_11ea_9a7a_80000208fe80row0_col99\" class=\"data row0 col99\" >XGBoost_grid_1_AutoML_20191119_090305_model_66</td>\n",
       "                        <td id=\"T_59267286_0b22_11ea_9a7a_80000208fe80row0_col100\" class=\"data row0 col100\" >XGBoost_grid_1_AutoML_20191119_090305_model_26</td>\n",
       "                        <td id=\"T_59267286_0b22_11ea_9a7a_80000208fe80row0_col101\" class=\"data row0 col101\" >XGBoost_grid_1_AutoML_20191119_090305_model_2</td>\n",
       "                        <td id=\"T_59267286_0b22_11ea_9a7a_80000208fe80row0_col102\" class=\"data row0 col102\" >XGBoost_grid_1_AutoML_20191119_090305_model_20</td>\n",
       "                        <td id=\"T_59267286_0b22_11ea_9a7a_80000208fe80row0_col103\" class=\"data row0 col103\" >GBM_grid_1_AutoML_20191119_090305_model_9</td>\n",
       "                        <td id=\"T_59267286_0b22_11ea_9a7a_80000208fe80row0_col104\" class=\"data row0 col104\" >GBM_grid_1_AutoML_20191119_090305_model_52</td>\n",
       "                        <td id=\"T_59267286_0b22_11ea_9a7a_80000208fe80row0_col105\" class=\"data row0 col105\" >XGBoost_grid_1_AutoML_20191119_090305_model_41</td>\n",
       "                        <td id=\"T_59267286_0b22_11ea_9a7a_80000208fe80row0_col106\" class=\"data row0 col106\" >XGBoost_grid_1_AutoML_20191119_090305_model_27</td>\n",
       "                        <td id=\"T_59267286_0b22_11ea_9a7a_80000208fe80row0_col107\" class=\"data row0 col107\" >GBM_grid_1_AutoML_20191119_090305_model_53</td>\n",
       "                        <td id=\"T_59267286_0b22_11ea_9a7a_80000208fe80row0_col108\" class=\"data row0 col108\" >XGBoost_grid_1_AutoML_20191119_090305_model_69</td>\n",
       "                        <td id=\"T_59267286_0b22_11ea_9a7a_80000208fe80row0_col109\" class=\"data row0 col109\" >XGBoost_grid_1_AutoML_20191119_090305_model_62</td>\n",
       "                        <td id=\"T_59267286_0b22_11ea_9a7a_80000208fe80row0_col110\" class=\"data row0 col110\" >DeepLearning_grid_1_AutoML_20191119_090305_model_8</td>\n",
       "                        <td id=\"T_59267286_0b22_11ea_9a7a_80000208fe80row0_col111\" class=\"data row0 col111\" >XGBoost_grid_1_AutoML_20191119_090305_model_59</td>\n",
       "                        <td id=\"T_59267286_0b22_11ea_9a7a_80000208fe80row0_col112\" class=\"data row0 col112\" >XGBoost_grid_1_AutoML_20191119_090305_model_50</td>\n",
       "                        <td id=\"T_59267286_0b22_11ea_9a7a_80000208fe80row0_col113\" class=\"data row0 col113\" >XGBoost_grid_1_AutoML_20191119_090305_model_36</td>\n",
       "                        <td id=\"T_59267286_0b22_11ea_9a7a_80000208fe80row0_col114\" class=\"data row0 col114\" >XGBoost_grid_1_AutoML_20191119_090305_model_34</td>\n",
       "                        <td id=\"T_59267286_0b22_11ea_9a7a_80000208fe80row0_col115\" class=\"data row0 col115\" >GBM_grid_1_AutoML_20191119_090305_model_29</td>\n",
       "                        <td id=\"T_59267286_0b22_11ea_9a7a_80000208fe80row0_col116\" class=\"data row0 col116\" >GBM_grid_1_AutoML_20191119_090305_model_81</td>\n",
       "                        <td id=\"T_59267286_0b22_11ea_9a7a_80000208fe80row0_col117\" class=\"data row0 col117\" >XGBoost_grid_1_AutoML_20191119_090305_model_3</td>\n",
       "                        <td id=\"T_59267286_0b22_11ea_9a7a_80000208fe80row0_col118\" class=\"data row0 col118\" >XGBoost_grid_1_AutoML_20191119_090305_model_29</td>\n",
       "                        <td id=\"T_59267286_0b22_11ea_9a7a_80000208fe80row0_col119\" class=\"data row0 col119\" >XGBoost_grid_1_AutoML_20191119_090305_model_28</td>\n",
       "                        <td id=\"T_59267286_0b22_11ea_9a7a_80000208fe80row0_col120\" class=\"data row0 col120\" >GBM_grid_1_AutoML_20191119_090305_model_28</td>\n",
       "                        <td id=\"T_59267286_0b22_11ea_9a7a_80000208fe80row0_col121\" class=\"data row0 col121\" >GBM_grid_1_AutoML_20191119_090305_model_80</td>\n",
       "                        <td id=\"T_59267286_0b22_11ea_9a7a_80000208fe80row0_col122\" class=\"data row0 col122\" >XGBoost_grid_1_AutoML_20191119_090305_model_65</td>\n",
       "                        <td id=\"T_59267286_0b22_11ea_9a7a_80000208fe80row0_col123\" class=\"data row0 col123\" >DeepLearning_grid_1_AutoML_20191119_090305_model_7</td>\n",
       "                        <td id=\"T_59267286_0b22_11ea_9a7a_80000208fe80row0_col124\" class=\"data row0 col124\" >XGBoost_grid_1_AutoML_20191119_090305_model_31</td>\n",
       "                        <td id=\"T_59267286_0b22_11ea_9a7a_80000208fe80row0_col125\" class=\"data row0 col125\" >XGBoost_grid_1_AutoML_20191119_090305_model_32</td>\n",
       "                        <td id=\"T_59267286_0b22_11ea_9a7a_80000208fe80row0_col126\" class=\"data row0 col126\" >GBM_grid_1_AutoML_20191119_090305_model_21</td>\n",
       "                        <td id=\"T_59267286_0b22_11ea_9a7a_80000208fe80row0_col127\" class=\"data row0 col127\" >XGBoost_grid_1_AutoML_20191119_090305_model_7</td>\n",
       "                        <td id=\"T_59267286_0b22_11ea_9a7a_80000208fe80row0_col128\" class=\"data row0 col128\" >XGBoost_grid_1_AutoML_20191119_090305_model_53</td>\n",
       "                        <td id=\"T_59267286_0b22_11ea_9a7a_80000208fe80row0_col129\" class=\"data row0 col129\" >XGBoost_grid_1_AutoML_20191119_090305_model_19</td>\n",
       "                        <td id=\"T_59267286_0b22_11ea_9a7a_80000208fe80row0_col130\" class=\"data row0 col130\" >XGBoost_grid_1_AutoML_20191119_090305_model_23</td>\n",
       "                        <td id=\"T_59267286_0b22_11ea_9a7a_80000208fe80row0_col131\" class=\"data row0 col131\" >GBM_grid_1_AutoML_20191119_090305_model_23</td>\n",
       "                        <td id=\"T_59267286_0b22_11ea_9a7a_80000208fe80row0_col132\" class=\"data row0 col132\" >GBM_grid_1_AutoML_20191119_090305_model_30</td>\n",
       "                        <td id=\"T_59267286_0b22_11ea_9a7a_80000208fe80row0_col133\" class=\"data row0 col133\" >XGBoost_2_AutoML_20191119_090305</td>\n",
       "                        <td id=\"T_59267286_0b22_11ea_9a7a_80000208fe80row0_col134\" class=\"data row0 col134\" >XGBoost_grid_1_AutoML_20191119_090305_model_1</td>\n",
       "                        <td id=\"T_59267286_0b22_11ea_9a7a_80000208fe80row0_col135\" class=\"data row0 col135\" >XGBoost_grid_1_AutoML_20191119_090305_model_42</td>\n",
       "                        <td id=\"T_59267286_0b22_11ea_9a7a_80000208fe80row0_col136\" class=\"data row0 col136\" >GBM_grid_1_AutoML_20191119_090305_model_25</td>\n",
       "                        <td id=\"T_59267286_0b22_11ea_9a7a_80000208fe80row0_col137\" class=\"data row0 col137\" >GBM_grid_1_AutoML_20191119_090305_model_7</td>\n",
       "                        <td id=\"T_59267286_0b22_11ea_9a7a_80000208fe80row0_col138\" class=\"data row0 col138\" >GBM_grid_1_AutoML_20191119_090305_model_84</td>\n",
       "                        <td id=\"T_59267286_0b22_11ea_9a7a_80000208fe80row0_col139\" class=\"data row0 col139\" >XGBoost_grid_1_AutoML_20191119_090305_model_63</td>\n",
       "                        <td id=\"T_59267286_0b22_11ea_9a7a_80000208fe80row0_col140\" class=\"data row0 col140\" >GBM_grid_1_AutoML_20191119_090305_model_38</td>\n",
       "                        <td id=\"T_59267286_0b22_11ea_9a7a_80000208fe80row0_col141\" class=\"data row0 col141\" >GBM_grid_1_AutoML_20191119_090305_model_74</td>\n",
       "                        <td id=\"T_59267286_0b22_11ea_9a7a_80000208fe80row0_col142\" class=\"data row0 col142\" >GBM_grid_1_AutoML_20191119_090305_model_5</td>\n",
       "                        <td id=\"T_59267286_0b22_11ea_9a7a_80000208fe80row0_col143\" class=\"data row0 col143\" >GBM_grid_1_AutoML_20191119_090305_model_33</td>\n",
       "                        <td id=\"T_59267286_0b22_11ea_9a7a_80000208fe80row0_col144\" class=\"data row0 col144\" >GBM_grid_1_AutoML_20191119_090305_model_61</td>\n",
       "                        <td id=\"T_59267286_0b22_11ea_9a7a_80000208fe80row0_col145\" class=\"data row0 col145\" >XGBoost_grid_1_AutoML_20191119_090305_model_58</td>\n",
       "                        <td id=\"T_59267286_0b22_11ea_9a7a_80000208fe80row0_col146\" class=\"data row0 col146\" >DeepLearning_grid_1_AutoML_20191119_090305_model_12</td>\n",
       "                        <td id=\"T_59267286_0b22_11ea_9a7a_80000208fe80row0_col147\" class=\"data row0 col147\" >XGBoost_grid_1_AutoML_20191119_090305_model_11</td>\n",
       "                        <td id=\"T_59267286_0b22_11ea_9a7a_80000208fe80row0_col148\" class=\"data row0 col148\" >XGBoost_grid_1_AutoML_20191119_090305_model_70</td>\n",
       "                        <td id=\"T_59267286_0b22_11ea_9a7a_80000208fe80row0_col149\" class=\"data row0 col149\" >XGBoost_grid_1_AutoML_20191119_090305_model_43</td>\n",
       "                        <td id=\"T_59267286_0b22_11ea_9a7a_80000208fe80row0_col150\" class=\"data row0 col150\" >XGBoost_grid_1_AutoML_20191119_090305_model_56</td>\n",
       "                        <td id=\"T_59267286_0b22_11ea_9a7a_80000208fe80row0_col151\" class=\"data row0 col151\" >XGBoost_grid_1_AutoML_20191119_090305_model_44</td>\n",
       "                        <td id=\"T_59267286_0b22_11ea_9a7a_80000208fe80row0_col152\" class=\"data row0 col152\" >XGBoost_grid_1_AutoML_20191119_090305_model_22</td>\n",
       "                        <td id=\"T_59267286_0b22_11ea_9a7a_80000208fe80row0_col153\" class=\"data row0 col153\" >XGBoost_grid_1_AutoML_20191119_090305_model_12</td>\n",
       "                        <td id=\"T_59267286_0b22_11ea_9a7a_80000208fe80row0_col154\" class=\"data row0 col154\" >XGBoost_grid_1_AutoML_20191119_090305_model_54</td>\n",
       "                        <td id=\"T_59267286_0b22_11ea_9a7a_80000208fe80row0_col155\" class=\"data row0 col155\" >GBM_grid_1_AutoML_20191119_090305_model_37</td>\n",
       "                        <td id=\"T_59267286_0b22_11ea_9a7a_80000208fe80row0_col156\" class=\"data row0 col156\" >XGBoost_grid_1_AutoML_20191119_090305_model_5</td>\n",
       "                        <td id=\"T_59267286_0b22_11ea_9a7a_80000208fe80row0_col157\" class=\"data row0 col157\" >XGBoost_grid_1_AutoML_20191119_090305_model_6</td>\n",
       "                        <td id=\"T_59267286_0b22_11ea_9a7a_80000208fe80row0_col158\" class=\"data row0 col158\" >XGBoost_grid_1_AutoML_20191119_090305_model_39</td>\n",
       "                        <td id=\"T_59267286_0b22_11ea_9a7a_80000208fe80row0_col159\" class=\"data row0 col159\" >XGBoost_grid_1_AutoML_20191119_090305_model_24</td>\n",
       "                        <td id=\"T_59267286_0b22_11ea_9a7a_80000208fe80row0_col160\" class=\"data row0 col160\" >XGBoost_grid_1_AutoML_20191119_090305_model_64</td>\n",
       "                        <td id=\"T_59267286_0b22_11ea_9a7a_80000208fe80row0_col161\" class=\"data row0 col161\" >XGBoost_grid_1_AutoML_20191119_090305_model_60</td>\n",
       "                        <td id=\"T_59267286_0b22_11ea_9a7a_80000208fe80row0_col162\" class=\"data row0 col162\" >GBM_grid_1_AutoML_20191119_090305_model_4</td>\n",
       "                        <td id=\"T_59267286_0b22_11ea_9a7a_80000208fe80row0_col163\" class=\"data row0 col163\" >XGBoost_grid_1_AutoML_20191119_090305_model_40</td>\n",
       "                        <td id=\"T_59267286_0b22_11ea_9a7a_80000208fe80row0_col164\" class=\"data row0 col164\" >XGBoost_grid_1_AutoML_20191119_090305_model_10</td>\n",
       "                        <td id=\"T_59267286_0b22_11ea_9a7a_80000208fe80row0_col165\" class=\"data row0 col165\" >XGBoost_grid_1_AutoML_20191119_090305_model_14</td>\n",
       "                        <td id=\"T_59267286_0b22_11ea_9a7a_80000208fe80row0_col166\" class=\"data row0 col166\" >GBM_grid_1_AutoML_20191119_090305_model_71</td>\n",
       "                        <td id=\"T_59267286_0b22_11ea_9a7a_80000208fe80row0_col167\" class=\"data row0 col167\" >XGBoost_grid_1_AutoML_20191119_090305_model_16</td>\n",
       "                        <td id=\"T_59267286_0b22_11ea_9a7a_80000208fe80row0_col168\" class=\"data row0 col168\" >GBM_grid_1_AutoML_20191119_090305_model_49</td>\n",
       "                        <td id=\"T_59267286_0b22_11ea_9a7a_80000208fe80row0_col169\" class=\"data row0 col169\" >GBM_grid_1_AutoML_20191119_090305_model_34</td>\n",
       "                        <td id=\"T_59267286_0b22_11ea_9a7a_80000208fe80row0_col170\" class=\"data row0 col170\" >XGBoost_grid_1_AutoML_20191119_090305_model_51</td>\n",
       "                        <td id=\"T_59267286_0b22_11ea_9a7a_80000208fe80row0_col171\" class=\"data row0 col171\" >GBM_grid_1_AutoML_20191119_090305_model_50</td>\n",
       "                        <td id=\"T_59267286_0b22_11ea_9a7a_80000208fe80row0_col172\" class=\"data row0 col172\" >GBM_grid_1_AutoML_20191119_090305_model_85</td>\n",
       "                        <td id=\"T_59267286_0b22_11ea_9a7a_80000208fe80row0_col173\" class=\"data row0 col173\" >GBM_grid_1_AutoML_20191119_090305_model_51</td>\n",
       "                        <td id=\"T_59267286_0b22_11ea_9a7a_80000208fe80row0_col174\" class=\"data row0 col174\" >XGBoost_grid_1_AutoML_20191119_090305_model_9</td>\n",
       "                        <td id=\"T_59267286_0b22_11ea_9a7a_80000208fe80row0_col175\" class=\"data row0 col175\" >XGBoost_grid_1_AutoML_20191119_090305_model_72</td>\n",
       "                        <td id=\"T_59267286_0b22_11ea_9a7a_80000208fe80row0_col176\" class=\"data row0 col176\" >GBM_grid_1_AutoML_20191119_090305_model_79</td>\n",
       "                        <td id=\"T_59267286_0b22_11ea_9a7a_80000208fe80row0_col177\" class=\"data row0 col177\" >DeepLearning_1_AutoML_20191119_090305</td>\n",
       "                        <td id=\"T_59267286_0b22_11ea_9a7a_80000208fe80row0_col178\" class=\"data row0 col178\" >GBM_grid_1_AutoML_20191119_090305_model_2</td>\n",
       "                        <td id=\"T_59267286_0b22_11ea_9a7a_80000208fe80row0_col179\" class=\"data row0 col179\" >GBM_grid_1_AutoML_20191119_090305_model_69</td>\n",
       "                        <td id=\"T_59267286_0b22_11ea_9a7a_80000208fe80row0_col180\" class=\"data row0 col180\" >GBM_grid_1_AutoML_20191119_090305_model_44</td>\n",
       "                        <td id=\"T_59267286_0b22_11ea_9a7a_80000208fe80row0_col181\" class=\"data row0 col181\" >GBM_grid_1_AutoML_20191119_090305_model_22</td>\n",
       "                        <td id=\"T_59267286_0b22_11ea_9a7a_80000208fe80row0_col182\" class=\"data row0 col182\" >GBM_grid_1_AutoML_20191119_090305_model_86</td>\n",
       "                        <td id=\"T_59267286_0b22_11ea_9a7a_80000208fe80row0_col183\" class=\"data row0 col183\" >GBM_grid_1_AutoML_20191119_090305_model_60</td>\n",
       "                        <td id=\"T_59267286_0b22_11ea_9a7a_80000208fe80row0_col184\" class=\"data row0 col184\" >GBM_grid_1_AutoML_20191119_090305_model_82</td>\n",
       "                        <td id=\"T_59267286_0b22_11ea_9a7a_80000208fe80row0_col185\" class=\"data row0 col185\" >GBM_grid_1_AutoML_20191119_090305_model_83</td>\n",
       "                        <td id=\"T_59267286_0b22_11ea_9a7a_80000208fe80row0_col186\" class=\"data row0 col186\" >GBM_grid_1_AutoML_20191119_090305_model_65</td>\n",
       "                        <td id=\"T_59267286_0b22_11ea_9a7a_80000208fe80row0_col187\" class=\"data row0 col187\" >GBM_grid_1_AutoML_20191119_090305_model_36</td>\n",
       "            </tr>\n",
       "            <tr>\n",
       "                                <td id=\"T_59267286_0b22_11ea_9a7a_80000208fe80row1_col0\" class=\"data row1 col0\" >3.2</td>\n",
       "                        <td id=\"T_59267286_0b22_11ea_9a7a_80000208fe80row1_col1\" class=\"data row1 col1\" >StackedEnsemble_BestOfFamily_AutoML_20191119_120824</td>\n",
       "                        <td id=\"T_59267286_0b22_11ea_9a7a_80000208fe80row1_col2\" class=\"data row1 col2\" >DeepLearning_grid_1_AutoML_20191119_120824_model_12</td>\n",
       "                        <td id=\"T_59267286_0b22_11ea_9a7a_80000208fe80row1_col3\" class=\"data row1 col3\" >GBM_grid_1_AutoML_20191119_120824_model_31</td>\n",
       "                        <td id=\"T_59267286_0b22_11ea_9a7a_80000208fe80row1_col4\" class=\"data row1 col4\" >XGBoost_grid_1_AutoML_20191119_120824_model_13</td>\n",
       "                        <td id=\"T_59267286_0b22_11ea_9a7a_80000208fe80row1_col5\" class=\"data row1 col5\" >DRF_1_AutoML_20191119_120824</td>\n",
       "                        <td id=\"T_59267286_0b22_11ea_9a7a_80000208fe80row1_col6\" class=\"data row1 col6\" >XRT_1_AutoML_20191119_120824</td>\n",
       "                        <td id=\"T_59267286_0b22_11ea_9a7a_80000208fe80row1_col7\" class=\"data row1 col7\" >GLM_grid_1_AutoML_20191119_120824_model_1</td>\n",
       "                        <td id=\"T_59267286_0b22_11ea_9a7a_80000208fe80row1_col8\" class=\"data row1 col8\" >nan</td>\n",
       "                        <td id=\"T_59267286_0b22_11ea_9a7a_80000208fe80row1_col9\" class=\"data row1 col9\" >nan</td>\n",
       "                        <td id=\"T_59267286_0b22_11ea_9a7a_80000208fe80row1_col10\" class=\"data row1 col10\" >nan</td>\n",
       "                        <td id=\"T_59267286_0b22_11ea_9a7a_80000208fe80row1_col11\" class=\"data row1 col11\" >nan</td>\n",
       "                        <td id=\"T_59267286_0b22_11ea_9a7a_80000208fe80row1_col12\" class=\"data row1 col12\" >nan</td>\n",
       "                        <td id=\"T_59267286_0b22_11ea_9a7a_80000208fe80row1_col13\" class=\"data row1 col13\" >nan</td>\n",
       "                        <td id=\"T_59267286_0b22_11ea_9a7a_80000208fe80row1_col14\" class=\"data row1 col14\" >nan</td>\n",
       "                        <td id=\"T_59267286_0b22_11ea_9a7a_80000208fe80row1_col15\" class=\"data row1 col15\" >nan</td>\n",
       "                        <td id=\"T_59267286_0b22_11ea_9a7a_80000208fe80row1_col16\" class=\"data row1 col16\" >nan</td>\n",
       "                        <td id=\"T_59267286_0b22_11ea_9a7a_80000208fe80row1_col17\" class=\"data row1 col17\" >nan</td>\n",
       "                        <td id=\"T_59267286_0b22_11ea_9a7a_80000208fe80row1_col18\" class=\"data row1 col18\" >nan</td>\n",
       "                        <td id=\"T_59267286_0b22_11ea_9a7a_80000208fe80row1_col19\" class=\"data row1 col19\" >nan</td>\n",
       "                        <td id=\"T_59267286_0b22_11ea_9a7a_80000208fe80row1_col20\" class=\"data row1 col20\" >nan</td>\n",
       "                        <td id=\"T_59267286_0b22_11ea_9a7a_80000208fe80row1_col21\" class=\"data row1 col21\" >nan</td>\n",
       "                        <td id=\"T_59267286_0b22_11ea_9a7a_80000208fe80row1_col22\" class=\"data row1 col22\" >nan</td>\n",
       "                        <td id=\"T_59267286_0b22_11ea_9a7a_80000208fe80row1_col23\" class=\"data row1 col23\" >nan</td>\n",
       "                        <td id=\"T_59267286_0b22_11ea_9a7a_80000208fe80row1_col24\" class=\"data row1 col24\" >nan</td>\n",
       "                        <td id=\"T_59267286_0b22_11ea_9a7a_80000208fe80row1_col25\" class=\"data row1 col25\" >nan</td>\n",
       "                        <td id=\"T_59267286_0b22_11ea_9a7a_80000208fe80row1_col26\" class=\"data row1 col26\" >nan</td>\n",
       "                        <td id=\"T_59267286_0b22_11ea_9a7a_80000208fe80row1_col27\" class=\"data row1 col27\" >nan</td>\n",
       "                        <td id=\"T_59267286_0b22_11ea_9a7a_80000208fe80row1_col28\" class=\"data row1 col28\" >nan</td>\n",
       "                        <td id=\"T_59267286_0b22_11ea_9a7a_80000208fe80row1_col29\" class=\"data row1 col29\" >nan</td>\n",
       "                        <td id=\"T_59267286_0b22_11ea_9a7a_80000208fe80row1_col30\" class=\"data row1 col30\" >nan</td>\n",
       "                        <td id=\"T_59267286_0b22_11ea_9a7a_80000208fe80row1_col31\" class=\"data row1 col31\" >nan</td>\n",
       "                        <td id=\"T_59267286_0b22_11ea_9a7a_80000208fe80row1_col32\" class=\"data row1 col32\" >nan</td>\n",
       "                        <td id=\"T_59267286_0b22_11ea_9a7a_80000208fe80row1_col33\" class=\"data row1 col33\" >nan</td>\n",
       "                        <td id=\"T_59267286_0b22_11ea_9a7a_80000208fe80row1_col34\" class=\"data row1 col34\" >nan</td>\n",
       "                        <td id=\"T_59267286_0b22_11ea_9a7a_80000208fe80row1_col35\" class=\"data row1 col35\" >nan</td>\n",
       "                        <td id=\"T_59267286_0b22_11ea_9a7a_80000208fe80row1_col36\" class=\"data row1 col36\" >nan</td>\n",
       "                        <td id=\"T_59267286_0b22_11ea_9a7a_80000208fe80row1_col37\" class=\"data row1 col37\" >nan</td>\n",
       "                        <td id=\"T_59267286_0b22_11ea_9a7a_80000208fe80row1_col38\" class=\"data row1 col38\" >nan</td>\n",
       "                        <td id=\"T_59267286_0b22_11ea_9a7a_80000208fe80row1_col39\" class=\"data row1 col39\" >nan</td>\n",
       "                        <td id=\"T_59267286_0b22_11ea_9a7a_80000208fe80row1_col40\" class=\"data row1 col40\" >nan</td>\n",
       "                        <td id=\"T_59267286_0b22_11ea_9a7a_80000208fe80row1_col41\" class=\"data row1 col41\" >nan</td>\n",
       "                        <td id=\"T_59267286_0b22_11ea_9a7a_80000208fe80row1_col42\" class=\"data row1 col42\" >nan</td>\n",
       "                        <td id=\"T_59267286_0b22_11ea_9a7a_80000208fe80row1_col43\" class=\"data row1 col43\" >nan</td>\n",
       "                        <td id=\"T_59267286_0b22_11ea_9a7a_80000208fe80row1_col44\" class=\"data row1 col44\" >nan</td>\n",
       "                        <td id=\"T_59267286_0b22_11ea_9a7a_80000208fe80row1_col45\" class=\"data row1 col45\" >nan</td>\n",
       "                        <td id=\"T_59267286_0b22_11ea_9a7a_80000208fe80row1_col46\" class=\"data row1 col46\" >nan</td>\n",
       "                        <td id=\"T_59267286_0b22_11ea_9a7a_80000208fe80row1_col47\" class=\"data row1 col47\" >nan</td>\n",
       "                        <td id=\"T_59267286_0b22_11ea_9a7a_80000208fe80row1_col48\" class=\"data row1 col48\" >nan</td>\n",
       "                        <td id=\"T_59267286_0b22_11ea_9a7a_80000208fe80row1_col49\" class=\"data row1 col49\" >nan</td>\n",
       "                        <td id=\"T_59267286_0b22_11ea_9a7a_80000208fe80row1_col50\" class=\"data row1 col50\" >nan</td>\n",
       "                        <td id=\"T_59267286_0b22_11ea_9a7a_80000208fe80row1_col51\" class=\"data row1 col51\" >nan</td>\n",
       "                        <td id=\"T_59267286_0b22_11ea_9a7a_80000208fe80row1_col52\" class=\"data row1 col52\" >nan</td>\n",
       "                        <td id=\"T_59267286_0b22_11ea_9a7a_80000208fe80row1_col53\" class=\"data row1 col53\" >nan</td>\n",
       "                        <td id=\"T_59267286_0b22_11ea_9a7a_80000208fe80row1_col54\" class=\"data row1 col54\" >nan</td>\n",
       "                        <td id=\"T_59267286_0b22_11ea_9a7a_80000208fe80row1_col55\" class=\"data row1 col55\" >nan</td>\n",
       "                        <td id=\"T_59267286_0b22_11ea_9a7a_80000208fe80row1_col56\" class=\"data row1 col56\" >nan</td>\n",
       "                        <td id=\"T_59267286_0b22_11ea_9a7a_80000208fe80row1_col57\" class=\"data row1 col57\" >nan</td>\n",
       "                        <td id=\"T_59267286_0b22_11ea_9a7a_80000208fe80row1_col58\" class=\"data row1 col58\" >nan</td>\n",
       "                        <td id=\"T_59267286_0b22_11ea_9a7a_80000208fe80row1_col59\" class=\"data row1 col59\" >nan</td>\n",
       "                        <td id=\"T_59267286_0b22_11ea_9a7a_80000208fe80row1_col60\" class=\"data row1 col60\" >nan</td>\n",
       "                        <td id=\"T_59267286_0b22_11ea_9a7a_80000208fe80row1_col61\" class=\"data row1 col61\" >nan</td>\n",
       "                        <td id=\"T_59267286_0b22_11ea_9a7a_80000208fe80row1_col62\" class=\"data row1 col62\" >nan</td>\n",
       "                        <td id=\"T_59267286_0b22_11ea_9a7a_80000208fe80row1_col63\" class=\"data row1 col63\" >nan</td>\n",
       "                        <td id=\"T_59267286_0b22_11ea_9a7a_80000208fe80row1_col64\" class=\"data row1 col64\" >nan</td>\n",
       "                        <td id=\"T_59267286_0b22_11ea_9a7a_80000208fe80row1_col65\" class=\"data row1 col65\" >nan</td>\n",
       "                        <td id=\"T_59267286_0b22_11ea_9a7a_80000208fe80row1_col66\" class=\"data row1 col66\" >nan</td>\n",
       "                        <td id=\"T_59267286_0b22_11ea_9a7a_80000208fe80row1_col67\" class=\"data row1 col67\" >nan</td>\n",
       "                        <td id=\"T_59267286_0b22_11ea_9a7a_80000208fe80row1_col68\" class=\"data row1 col68\" >nan</td>\n",
       "                        <td id=\"T_59267286_0b22_11ea_9a7a_80000208fe80row1_col69\" class=\"data row1 col69\" >nan</td>\n",
       "                        <td id=\"T_59267286_0b22_11ea_9a7a_80000208fe80row1_col70\" class=\"data row1 col70\" >nan</td>\n",
       "                        <td id=\"T_59267286_0b22_11ea_9a7a_80000208fe80row1_col71\" class=\"data row1 col71\" >nan</td>\n",
       "                        <td id=\"T_59267286_0b22_11ea_9a7a_80000208fe80row1_col72\" class=\"data row1 col72\" >nan</td>\n",
       "                        <td id=\"T_59267286_0b22_11ea_9a7a_80000208fe80row1_col73\" class=\"data row1 col73\" >nan</td>\n",
       "                        <td id=\"T_59267286_0b22_11ea_9a7a_80000208fe80row1_col74\" class=\"data row1 col74\" >nan</td>\n",
       "                        <td id=\"T_59267286_0b22_11ea_9a7a_80000208fe80row1_col75\" class=\"data row1 col75\" >nan</td>\n",
       "                        <td id=\"T_59267286_0b22_11ea_9a7a_80000208fe80row1_col76\" class=\"data row1 col76\" >nan</td>\n",
       "                        <td id=\"T_59267286_0b22_11ea_9a7a_80000208fe80row1_col77\" class=\"data row1 col77\" >nan</td>\n",
       "                        <td id=\"T_59267286_0b22_11ea_9a7a_80000208fe80row1_col78\" class=\"data row1 col78\" >nan</td>\n",
       "                        <td id=\"T_59267286_0b22_11ea_9a7a_80000208fe80row1_col79\" class=\"data row1 col79\" >nan</td>\n",
       "                        <td id=\"T_59267286_0b22_11ea_9a7a_80000208fe80row1_col80\" class=\"data row1 col80\" >nan</td>\n",
       "                        <td id=\"T_59267286_0b22_11ea_9a7a_80000208fe80row1_col81\" class=\"data row1 col81\" >nan</td>\n",
       "                        <td id=\"T_59267286_0b22_11ea_9a7a_80000208fe80row1_col82\" class=\"data row1 col82\" >nan</td>\n",
       "                        <td id=\"T_59267286_0b22_11ea_9a7a_80000208fe80row1_col83\" class=\"data row1 col83\" >nan</td>\n",
       "                        <td id=\"T_59267286_0b22_11ea_9a7a_80000208fe80row1_col84\" class=\"data row1 col84\" >nan</td>\n",
       "                        <td id=\"T_59267286_0b22_11ea_9a7a_80000208fe80row1_col85\" class=\"data row1 col85\" >nan</td>\n",
       "                        <td id=\"T_59267286_0b22_11ea_9a7a_80000208fe80row1_col86\" class=\"data row1 col86\" >nan</td>\n",
       "                        <td id=\"T_59267286_0b22_11ea_9a7a_80000208fe80row1_col87\" class=\"data row1 col87\" >nan</td>\n",
       "                        <td id=\"T_59267286_0b22_11ea_9a7a_80000208fe80row1_col88\" class=\"data row1 col88\" >nan</td>\n",
       "                        <td id=\"T_59267286_0b22_11ea_9a7a_80000208fe80row1_col89\" class=\"data row1 col89\" >nan</td>\n",
       "                        <td id=\"T_59267286_0b22_11ea_9a7a_80000208fe80row1_col90\" class=\"data row1 col90\" >nan</td>\n",
       "                        <td id=\"T_59267286_0b22_11ea_9a7a_80000208fe80row1_col91\" class=\"data row1 col91\" >nan</td>\n",
       "                        <td id=\"T_59267286_0b22_11ea_9a7a_80000208fe80row1_col92\" class=\"data row1 col92\" >nan</td>\n",
       "                        <td id=\"T_59267286_0b22_11ea_9a7a_80000208fe80row1_col93\" class=\"data row1 col93\" >nan</td>\n",
       "                        <td id=\"T_59267286_0b22_11ea_9a7a_80000208fe80row1_col94\" class=\"data row1 col94\" >nan</td>\n",
       "                        <td id=\"T_59267286_0b22_11ea_9a7a_80000208fe80row1_col95\" class=\"data row1 col95\" >nan</td>\n",
       "                        <td id=\"T_59267286_0b22_11ea_9a7a_80000208fe80row1_col96\" class=\"data row1 col96\" >nan</td>\n",
       "                        <td id=\"T_59267286_0b22_11ea_9a7a_80000208fe80row1_col97\" class=\"data row1 col97\" >nan</td>\n",
       "                        <td id=\"T_59267286_0b22_11ea_9a7a_80000208fe80row1_col98\" class=\"data row1 col98\" >nan</td>\n",
       "                        <td id=\"T_59267286_0b22_11ea_9a7a_80000208fe80row1_col99\" class=\"data row1 col99\" >nan</td>\n",
       "                        <td id=\"T_59267286_0b22_11ea_9a7a_80000208fe80row1_col100\" class=\"data row1 col100\" >nan</td>\n",
       "                        <td id=\"T_59267286_0b22_11ea_9a7a_80000208fe80row1_col101\" class=\"data row1 col101\" >nan</td>\n",
       "                        <td id=\"T_59267286_0b22_11ea_9a7a_80000208fe80row1_col102\" class=\"data row1 col102\" >nan</td>\n",
       "                        <td id=\"T_59267286_0b22_11ea_9a7a_80000208fe80row1_col103\" class=\"data row1 col103\" >nan</td>\n",
       "                        <td id=\"T_59267286_0b22_11ea_9a7a_80000208fe80row1_col104\" class=\"data row1 col104\" >nan</td>\n",
       "                        <td id=\"T_59267286_0b22_11ea_9a7a_80000208fe80row1_col105\" class=\"data row1 col105\" >nan</td>\n",
       "                        <td id=\"T_59267286_0b22_11ea_9a7a_80000208fe80row1_col106\" class=\"data row1 col106\" >nan</td>\n",
       "                        <td id=\"T_59267286_0b22_11ea_9a7a_80000208fe80row1_col107\" class=\"data row1 col107\" >nan</td>\n",
       "                        <td id=\"T_59267286_0b22_11ea_9a7a_80000208fe80row1_col108\" class=\"data row1 col108\" >nan</td>\n",
       "                        <td id=\"T_59267286_0b22_11ea_9a7a_80000208fe80row1_col109\" class=\"data row1 col109\" >nan</td>\n",
       "                        <td id=\"T_59267286_0b22_11ea_9a7a_80000208fe80row1_col110\" class=\"data row1 col110\" >nan</td>\n",
       "                        <td id=\"T_59267286_0b22_11ea_9a7a_80000208fe80row1_col111\" class=\"data row1 col111\" >nan</td>\n",
       "                        <td id=\"T_59267286_0b22_11ea_9a7a_80000208fe80row1_col112\" class=\"data row1 col112\" >nan</td>\n",
       "                        <td id=\"T_59267286_0b22_11ea_9a7a_80000208fe80row1_col113\" class=\"data row1 col113\" >nan</td>\n",
       "                        <td id=\"T_59267286_0b22_11ea_9a7a_80000208fe80row1_col114\" class=\"data row1 col114\" >nan</td>\n",
       "                        <td id=\"T_59267286_0b22_11ea_9a7a_80000208fe80row1_col115\" class=\"data row1 col115\" >nan</td>\n",
       "                        <td id=\"T_59267286_0b22_11ea_9a7a_80000208fe80row1_col116\" class=\"data row1 col116\" >nan</td>\n",
       "                        <td id=\"T_59267286_0b22_11ea_9a7a_80000208fe80row1_col117\" class=\"data row1 col117\" >nan</td>\n",
       "                        <td id=\"T_59267286_0b22_11ea_9a7a_80000208fe80row1_col118\" class=\"data row1 col118\" >nan</td>\n",
       "                        <td id=\"T_59267286_0b22_11ea_9a7a_80000208fe80row1_col119\" class=\"data row1 col119\" >nan</td>\n",
       "                        <td id=\"T_59267286_0b22_11ea_9a7a_80000208fe80row1_col120\" class=\"data row1 col120\" >nan</td>\n",
       "                        <td id=\"T_59267286_0b22_11ea_9a7a_80000208fe80row1_col121\" class=\"data row1 col121\" >nan</td>\n",
       "                        <td id=\"T_59267286_0b22_11ea_9a7a_80000208fe80row1_col122\" class=\"data row1 col122\" >nan</td>\n",
       "                        <td id=\"T_59267286_0b22_11ea_9a7a_80000208fe80row1_col123\" class=\"data row1 col123\" >nan</td>\n",
       "                        <td id=\"T_59267286_0b22_11ea_9a7a_80000208fe80row1_col124\" class=\"data row1 col124\" >nan</td>\n",
       "                        <td id=\"T_59267286_0b22_11ea_9a7a_80000208fe80row1_col125\" class=\"data row1 col125\" >nan</td>\n",
       "                        <td id=\"T_59267286_0b22_11ea_9a7a_80000208fe80row1_col126\" class=\"data row1 col126\" >nan</td>\n",
       "                        <td id=\"T_59267286_0b22_11ea_9a7a_80000208fe80row1_col127\" class=\"data row1 col127\" >nan</td>\n",
       "                        <td id=\"T_59267286_0b22_11ea_9a7a_80000208fe80row1_col128\" class=\"data row1 col128\" >nan</td>\n",
       "                        <td id=\"T_59267286_0b22_11ea_9a7a_80000208fe80row1_col129\" class=\"data row1 col129\" >nan</td>\n",
       "                        <td id=\"T_59267286_0b22_11ea_9a7a_80000208fe80row1_col130\" class=\"data row1 col130\" >nan</td>\n",
       "                        <td id=\"T_59267286_0b22_11ea_9a7a_80000208fe80row1_col131\" class=\"data row1 col131\" >nan</td>\n",
       "                        <td id=\"T_59267286_0b22_11ea_9a7a_80000208fe80row1_col132\" class=\"data row1 col132\" >nan</td>\n",
       "                        <td id=\"T_59267286_0b22_11ea_9a7a_80000208fe80row1_col133\" class=\"data row1 col133\" >nan</td>\n",
       "                        <td id=\"T_59267286_0b22_11ea_9a7a_80000208fe80row1_col134\" class=\"data row1 col134\" >nan</td>\n",
       "                        <td id=\"T_59267286_0b22_11ea_9a7a_80000208fe80row1_col135\" class=\"data row1 col135\" >nan</td>\n",
       "                        <td id=\"T_59267286_0b22_11ea_9a7a_80000208fe80row1_col136\" class=\"data row1 col136\" >nan</td>\n",
       "                        <td id=\"T_59267286_0b22_11ea_9a7a_80000208fe80row1_col137\" class=\"data row1 col137\" >nan</td>\n",
       "                        <td id=\"T_59267286_0b22_11ea_9a7a_80000208fe80row1_col138\" class=\"data row1 col138\" >nan</td>\n",
       "                        <td id=\"T_59267286_0b22_11ea_9a7a_80000208fe80row1_col139\" class=\"data row1 col139\" >nan</td>\n",
       "                        <td id=\"T_59267286_0b22_11ea_9a7a_80000208fe80row1_col140\" class=\"data row1 col140\" >nan</td>\n",
       "                        <td id=\"T_59267286_0b22_11ea_9a7a_80000208fe80row1_col141\" class=\"data row1 col141\" >nan</td>\n",
       "                        <td id=\"T_59267286_0b22_11ea_9a7a_80000208fe80row1_col142\" class=\"data row1 col142\" >nan</td>\n",
       "                        <td id=\"T_59267286_0b22_11ea_9a7a_80000208fe80row1_col143\" class=\"data row1 col143\" >nan</td>\n",
       "                        <td id=\"T_59267286_0b22_11ea_9a7a_80000208fe80row1_col144\" class=\"data row1 col144\" >nan</td>\n",
       "                        <td id=\"T_59267286_0b22_11ea_9a7a_80000208fe80row1_col145\" class=\"data row1 col145\" >nan</td>\n",
       "                        <td id=\"T_59267286_0b22_11ea_9a7a_80000208fe80row1_col146\" class=\"data row1 col146\" >nan</td>\n",
       "                        <td id=\"T_59267286_0b22_11ea_9a7a_80000208fe80row1_col147\" class=\"data row1 col147\" >nan</td>\n",
       "                        <td id=\"T_59267286_0b22_11ea_9a7a_80000208fe80row1_col148\" class=\"data row1 col148\" >nan</td>\n",
       "                        <td id=\"T_59267286_0b22_11ea_9a7a_80000208fe80row1_col149\" class=\"data row1 col149\" >nan</td>\n",
       "                        <td id=\"T_59267286_0b22_11ea_9a7a_80000208fe80row1_col150\" class=\"data row1 col150\" >nan</td>\n",
       "                        <td id=\"T_59267286_0b22_11ea_9a7a_80000208fe80row1_col151\" class=\"data row1 col151\" >nan</td>\n",
       "                        <td id=\"T_59267286_0b22_11ea_9a7a_80000208fe80row1_col152\" class=\"data row1 col152\" >nan</td>\n",
       "                        <td id=\"T_59267286_0b22_11ea_9a7a_80000208fe80row1_col153\" class=\"data row1 col153\" >nan</td>\n",
       "                        <td id=\"T_59267286_0b22_11ea_9a7a_80000208fe80row1_col154\" class=\"data row1 col154\" >nan</td>\n",
       "                        <td id=\"T_59267286_0b22_11ea_9a7a_80000208fe80row1_col155\" class=\"data row1 col155\" >nan</td>\n",
       "                        <td id=\"T_59267286_0b22_11ea_9a7a_80000208fe80row1_col156\" class=\"data row1 col156\" >nan</td>\n",
       "                        <td id=\"T_59267286_0b22_11ea_9a7a_80000208fe80row1_col157\" class=\"data row1 col157\" >nan</td>\n",
       "                        <td id=\"T_59267286_0b22_11ea_9a7a_80000208fe80row1_col158\" class=\"data row1 col158\" >nan</td>\n",
       "                        <td id=\"T_59267286_0b22_11ea_9a7a_80000208fe80row1_col159\" class=\"data row1 col159\" >nan</td>\n",
       "                        <td id=\"T_59267286_0b22_11ea_9a7a_80000208fe80row1_col160\" class=\"data row1 col160\" >nan</td>\n",
       "                        <td id=\"T_59267286_0b22_11ea_9a7a_80000208fe80row1_col161\" class=\"data row1 col161\" >nan</td>\n",
       "                        <td id=\"T_59267286_0b22_11ea_9a7a_80000208fe80row1_col162\" class=\"data row1 col162\" >nan</td>\n",
       "                        <td id=\"T_59267286_0b22_11ea_9a7a_80000208fe80row1_col163\" class=\"data row1 col163\" >nan</td>\n",
       "                        <td id=\"T_59267286_0b22_11ea_9a7a_80000208fe80row1_col164\" class=\"data row1 col164\" >nan</td>\n",
       "                        <td id=\"T_59267286_0b22_11ea_9a7a_80000208fe80row1_col165\" class=\"data row1 col165\" >nan</td>\n",
       "                        <td id=\"T_59267286_0b22_11ea_9a7a_80000208fe80row1_col166\" class=\"data row1 col166\" >nan</td>\n",
       "                        <td id=\"T_59267286_0b22_11ea_9a7a_80000208fe80row1_col167\" class=\"data row1 col167\" >nan</td>\n",
       "                        <td id=\"T_59267286_0b22_11ea_9a7a_80000208fe80row1_col168\" class=\"data row1 col168\" >nan</td>\n",
       "                        <td id=\"T_59267286_0b22_11ea_9a7a_80000208fe80row1_col169\" class=\"data row1 col169\" >nan</td>\n",
       "                        <td id=\"T_59267286_0b22_11ea_9a7a_80000208fe80row1_col170\" class=\"data row1 col170\" >nan</td>\n",
       "                        <td id=\"T_59267286_0b22_11ea_9a7a_80000208fe80row1_col171\" class=\"data row1 col171\" >nan</td>\n",
       "                        <td id=\"T_59267286_0b22_11ea_9a7a_80000208fe80row1_col172\" class=\"data row1 col172\" >nan</td>\n",
       "                        <td id=\"T_59267286_0b22_11ea_9a7a_80000208fe80row1_col173\" class=\"data row1 col173\" >nan</td>\n",
       "                        <td id=\"T_59267286_0b22_11ea_9a7a_80000208fe80row1_col174\" class=\"data row1 col174\" >nan</td>\n",
       "                        <td id=\"T_59267286_0b22_11ea_9a7a_80000208fe80row1_col175\" class=\"data row1 col175\" >nan</td>\n",
       "                        <td id=\"T_59267286_0b22_11ea_9a7a_80000208fe80row1_col176\" class=\"data row1 col176\" >nan</td>\n",
       "                        <td id=\"T_59267286_0b22_11ea_9a7a_80000208fe80row1_col177\" class=\"data row1 col177\" >nan</td>\n",
       "                        <td id=\"T_59267286_0b22_11ea_9a7a_80000208fe80row1_col178\" class=\"data row1 col178\" >nan</td>\n",
       "                        <td id=\"T_59267286_0b22_11ea_9a7a_80000208fe80row1_col179\" class=\"data row1 col179\" >nan</td>\n",
       "                        <td id=\"T_59267286_0b22_11ea_9a7a_80000208fe80row1_col180\" class=\"data row1 col180\" >nan</td>\n",
       "                        <td id=\"T_59267286_0b22_11ea_9a7a_80000208fe80row1_col181\" class=\"data row1 col181\" >nan</td>\n",
       "                        <td id=\"T_59267286_0b22_11ea_9a7a_80000208fe80row1_col182\" class=\"data row1 col182\" >nan</td>\n",
       "                        <td id=\"T_59267286_0b22_11ea_9a7a_80000208fe80row1_col183\" class=\"data row1 col183\" >nan</td>\n",
       "                        <td id=\"T_59267286_0b22_11ea_9a7a_80000208fe80row1_col184\" class=\"data row1 col184\" >nan</td>\n",
       "                        <td id=\"T_59267286_0b22_11ea_9a7a_80000208fe80row1_col185\" class=\"data row1 col185\" >nan</td>\n",
       "                        <td id=\"T_59267286_0b22_11ea_9a7a_80000208fe80row1_col186\" class=\"data row1 col186\" >nan</td>\n",
       "                        <td id=\"T_59267286_0b22_11ea_9a7a_80000208fe80row1_col187\" class=\"data row1 col187\" >nan</td>\n",
       "            </tr>\n",
       "            <tr>\n",
       "                                <td id=\"T_59267286_0b22_11ea_9a7a_80000208fe80row2_col0\" class=\"data row2 col0\" >6.4</td>\n",
       "                        <td id=\"T_59267286_0b22_11ea_9a7a_80000208fe80row2_col1\" class=\"data row2 col1\" >StackedEnsemble_AllModels_AutoML_20191119_151425</td>\n",
       "                        <td id=\"T_59267286_0b22_11ea_9a7a_80000208fe80row2_col2\" class=\"data row2 col2\" >DeepLearning_grid_1_AutoML_20191119_151425_model_3</td>\n",
       "                        <td id=\"T_59267286_0b22_11ea_9a7a_80000208fe80row2_col3\" class=\"data row2 col3\" >DeepLearning_grid_1_AutoML_20191119_151425_model_13</td>\n",
       "                        <td id=\"T_59267286_0b22_11ea_9a7a_80000208fe80row2_col4\" class=\"data row2 col4\" >DeepLearning_grid_1_AutoML_20191119_151425_model_6</td>\n",
       "                        <td id=\"T_59267286_0b22_11ea_9a7a_80000208fe80row2_col5\" class=\"data row2 col5\" >DeepLearning_grid_1_AutoML_20191119_151425_model_19</td>\n",
       "                        <td id=\"T_59267286_0b22_11ea_9a7a_80000208fe80row2_col6\" class=\"data row2 col6\" >DeepLearning_grid_1_AutoML_20191119_151425_model_2</td>\n",
       "                        <td id=\"T_59267286_0b22_11ea_9a7a_80000208fe80row2_col7\" class=\"data row2 col7\" >DeepLearning_grid_1_AutoML_20191119_151425_model_12</td>\n",
       "                        <td id=\"T_59267286_0b22_11ea_9a7a_80000208fe80row2_col8\" class=\"data row2 col8\" >DeepLearning_grid_1_AutoML_20191119_151425_model_4</td>\n",
       "                        <td id=\"T_59267286_0b22_11ea_9a7a_80000208fe80row2_col9\" class=\"data row2 col9\" >DeepLearning_grid_1_AutoML_20191119_151425_model_20</td>\n",
       "                        <td id=\"T_59267286_0b22_11ea_9a7a_80000208fe80row2_col10\" class=\"data row2 col10\" >DeepLearning_grid_1_AutoML_20191119_151425_model_7</td>\n",
       "                        <td id=\"T_59267286_0b22_11ea_9a7a_80000208fe80row2_col11\" class=\"data row2 col11\" >GLM_grid_1_AutoML_20191119_151425_model_1</td>\n",
       "                        <td id=\"T_59267286_0b22_11ea_9a7a_80000208fe80row2_col12\" class=\"data row2 col12\" >XGBoost_1_AutoML_20191119_151425</td>\n",
       "                        <td id=\"T_59267286_0b22_11ea_9a7a_80000208fe80row2_col13\" class=\"data row2 col13\" >DeepLearning_grid_1_AutoML_20191119_151425_model_11</td>\n",
       "                        <td id=\"T_59267286_0b22_11ea_9a7a_80000208fe80row2_col14\" class=\"data row2 col14\" >DeepLearning_grid_1_AutoML_20191119_151425_model_1</td>\n",
       "                        <td id=\"T_59267286_0b22_11ea_9a7a_80000208fe80row2_col15\" class=\"data row2 col15\" >DeepLearning_grid_1_AutoML_20191119_151425_model_16</td>\n",
       "                        <td id=\"T_59267286_0b22_11ea_9a7a_80000208fe80row2_col16\" class=\"data row2 col16\" >GBM_grid_1_AutoML_20191119_151425_model_31</td>\n",
       "                        <td id=\"T_59267286_0b22_11ea_9a7a_80000208fe80row2_col17\" class=\"data row2 col17\" >DeepLearning_grid_1_AutoML_20191119_151425_model_18</td>\n",
       "                        <td id=\"T_59267286_0b22_11ea_9a7a_80000208fe80row2_col18\" class=\"data row2 col18\" >DeepLearning_grid_1_AutoML_20191119_151425_model_14</td>\n",
       "                        <td id=\"T_59267286_0b22_11ea_9a7a_80000208fe80row2_col19\" class=\"data row2 col19\" >DeepLearning_grid_1_AutoML_20191119_151425_model_9</td>\n",
       "                        <td id=\"T_59267286_0b22_11ea_9a7a_80000208fe80row2_col20\" class=\"data row2 col20\" >DeepLearning_grid_1_AutoML_20191119_151425_model_22</td>\n",
       "                        <td id=\"T_59267286_0b22_11ea_9a7a_80000208fe80row2_col21\" class=\"data row2 col21\" >XGBoost_grid_1_AutoML_20191119_151425_model_37</td>\n",
       "                        <td id=\"T_59267286_0b22_11ea_9a7a_80000208fe80row2_col22\" class=\"data row2 col22\" >GBM_grid_1_AutoML_20191119_151425_model_39</td>\n",
       "                        <td id=\"T_59267286_0b22_11ea_9a7a_80000208fe80row2_col23\" class=\"data row2 col23\" >DeepLearning_grid_1_AutoML_20191119_151425_model_5</td>\n",
       "                        <td id=\"T_59267286_0b22_11ea_9a7a_80000208fe80row2_col24\" class=\"data row2 col24\" >XGBoost_grid_1_AutoML_20191119_151425_model_33</td>\n",
       "                        <td id=\"T_59267286_0b22_11ea_9a7a_80000208fe80row2_col25\" class=\"data row2 col25\" >XGBoost_grid_1_AutoML_20191119_151425_model_20</td>\n",
       "                        <td id=\"T_59267286_0b22_11ea_9a7a_80000208fe80row2_col26\" class=\"data row2 col26\" >GBM_grid_1_AutoML_20191119_151425_model_20</td>\n",
       "                        <td id=\"T_59267286_0b22_11ea_9a7a_80000208fe80row2_col27\" class=\"data row2 col27\" >DeepLearning_grid_1_AutoML_20191119_151425_model_8</td>\n",
       "                        <td id=\"T_59267286_0b22_11ea_9a7a_80000208fe80row2_col28\" class=\"data row2 col28\" >XGBoost_grid_1_AutoML_20191119_151425_model_18</td>\n",
       "                        <td id=\"T_59267286_0b22_11ea_9a7a_80000208fe80row2_col29\" class=\"data row2 col29\" >XGBoost_3_AutoML_20191119_151425</td>\n",
       "                        <td id=\"T_59267286_0b22_11ea_9a7a_80000208fe80row2_col30\" class=\"data row2 col30\" >GBM_grid_1_AutoML_20191119_151425_model_27</td>\n",
       "                        <td id=\"T_59267286_0b22_11ea_9a7a_80000208fe80row2_col31\" class=\"data row2 col31\" >XGBoost_grid_1_AutoML_20191119_151425_model_2</td>\n",
       "                        <td id=\"T_59267286_0b22_11ea_9a7a_80000208fe80row2_col32\" class=\"data row2 col32\" >XGBoost_grid_1_AutoML_20191119_151425_model_34</td>\n",
       "                        <td id=\"T_59267286_0b22_11ea_9a7a_80000208fe80row2_col33\" class=\"data row2 col33\" >XGBoost_grid_1_AutoML_20191119_151425_model_28</td>\n",
       "                        <td id=\"T_59267286_0b22_11ea_9a7a_80000208fe80row2_col34\" class=\"data row2 col34\" >XGBoost_grid_1_AutoML_20191119_151425_model_31</td>\n",
       "                        <td id=\"T_59267286_0b22_11ea_9a7a_80000208fe80row2_col35\" class=\"data row2 col35\" >XGBoost_grid_1_AutoML_20191119_151425_model_7</td>\n",
       "                        <td id=\"T_59267286_0b22_11ea_9a7a_80000208fe80row2_col36\" class=\"data row2 col36\" >XGBoost_grid_1_AutoML_20191119_151425_model_35</td>\n",
       "                        <td id=\"T_59267286_0b22_11ea_9a7a_80000208fe80row2_col37\" class=\"data row2 col37\" >GBM_grid_1_AutoML_20191119_151425_model_15</td>\n",
       "                        <td id=\"T_59267286_0b22_11ea_9a7a_80000208fe80row2_col38\" class=\"data row2 col38\" >XGBoost_grid_1_AutoML_20191119_151425_model_8</td>\n",
       "                        <td id=\"T_59267286_0b22_11ea_9a7a_80000208fe80row2_col39\" class=\"data row2 col39\" >XGBoost_grid_1_AutoML_20191119_151425_model_45</td>\n",
       "                        <td id=\"T_59267286_0b22_11ea_9a7a_80000208fe80row2_col40\" class=\"data row2 col40\" >GBM_grid_1_AutoML_20191119_151425_model_19</td>\n",
       "                        <td id=\"T_59267286_0b22_11ea_9a7a_80000208fe80row2_col41\" class=\"data row2 col41\" >DeepLearning_grid_1_AutoML_20191119_151425_model_15</td>\n",
       "                        <td id=\"T_59267286_0b22_11ea_9a7a_80000208fe80row2_col42\" class=\"data row2 col42\" >XGBoost_grid_1_AutoML_20191119_151425_model_38</td>\n",
       "                        <td id=\"T_59267286_0b22_11ea_9a7a_80000208fe80row2_col43\" class=\"data row2 col43\" >XGBoost_grid_1_AutoML_20191119_151425_model_36</td>\n",
       "                        <td id=\"T_59267286_0b22_11ea_9a7a_80000208fe80row2_col44\" class=\"data row2 col44\" >GBM_4_AutoML_20191119_151425</td>\n",
       "                        <td id=\"T_59267286_0b22_11ea_9a7a_80000208fe80row2_col45\" class=\"data row2 col45\" >XGBoost_grid_1_AutoML_20191119_151425_model_21</td>\n",
       "                        <td id=\"T_59267286_0b22_11ea_9a7a_80000208fe80row2_col46\" class=\"data row2 col46\" >XGBoost_grid_1_AutoML_20191119_151425_model_15</td>\n",
       "                        <td id=\"T_59267286_0b22_11ea_9a7a_80000208fe80row2_col47\" class=\"data row2 col47\" >XGBoost_2_AutoML_20191119_151425</td>\n",
       "                        <td id=\"T_59267286_0b22_11ea_9a7a_80000208fe80row2_col48\" class=\"data row2 col48\" >DeepLearning_grid_1_AutoML_20191119_151425_model_23</td>\n",
       "                        <td id=\"T_59267286_0b22_11ea_9a7a_80000208fe80row2_col49\" class=\"data row2 col49\" >XGBoost_grid_1_AutoML_20191119_151425_model_17</td>\n",
       "                        <td id=\"T_59267286_0b22_11ea_9a7a_80000208fe80row2_col50\" class=\"data row2 col50\" >GBM_grid_1_AutoML_20191119_151425_model_8</td>\n",
       "                        <td id=\"T_59267286_0b22_11ea_9a7a_80000208fe80row2_col51\" class=\"data row2 col51\" >GBM_grid_1_AutoML_20191119_151425_model_17</td>\n",
       "                        <td id=\"T_59267286_0b22_11ea_9a7a_80000208fe80row2_col52\" class=\"data row2 col52\" >DeepLearning_grid_1_AutoML_20191119_151425_model_21</td>\n",
       "                        <td id=\"T_59267286_0b22_11ea_9a7a_80000208fe80row2_col53\" class=\"data row2 col53\" >XGBoost_grid_1_AutoML_20191119_151425_model_32</td>\n",
       "                        <td id=\"T_59267286_0b22_11ea_9a7a_80000208fe80row2_col54\" class=\"data row2 col54\" >GBM_grid_1_AutoML_20191119_151425_model_29</td>\n",
       "                        <td id=\"T_59267286_0b22_11ea_9a7a_80000208fe80row2_col55\" class=\"data row2 col55\" >GBM_grid_1_AutoML_20191119_151425_model_6</td>\n",
       "                        <td id=\"T_59267286_0b22_11ea_9a7a_80000208fe80row2_col56\" class=\"data row2 col56\" >XGBoost_grid_1_AutoML_20191119_151425_model_29</td>\n",
       "                        <td id=\"T_59267286_0b22_11ea_9a7a_80000208fe80row2_col57\" class=\"data row2 col57\" >GBM_grid_1_AutoML_20191119_151425_model_1</td>\n",
       "                        <td id=\"T_59267286_0b22_11ea_9a7a_80000208fe80row2_col58\" class=\"data row2 col58\" >GBM_2_AutoML_20191119_151425</td>\n",
       "                        <td id=\"T_59267286_0b22_11ea_9a7a_80000208fe80row2_col59\" class=\"data row2 col59\" >GBM_grid_1_AutoML_20191119_151425_model_26</td>\n",
       "                        <td id=\"T_59267286_0b22_11ea_9a7a_80000208fe80row2_col60\" class=\"data row2 col60\" >GBM_grid_1_AutoML_20191119_151425_model_12</td>\n",
       "                        <td id=\"T_59267286_0b22_11ea_9a7a_80000208fe80row2_col61\" class=\"data row2 col61\" >GBM_grid_1_AutoML_20191119_151425_model_21</td>\n",
       "                        <td id=\"T_59267286_0b22_11ea_9a7a_80000208fe80row2_col62\" class=\"data row2 col62\" >XGBoost_grid_1_AutoML_20191119_151425_model_27</td>\n",
       "                        <td id=\"T_59267286_0b22_11ea_9a7a_80000208fe80row2_col63\" class=\"data row2 col63\" >GBM_grid_1_AutoML_20191119_151425_model_13</td>\n",
       "                        <td id=\"T_59267286_0b22_11ea_9a7a_80000208fe80row2_col64\" class=\"data row2 col64\" >GBM_grid_1_AutoML_20191119_151425_model_14</td>\n",
       "                        <td id=\"T_59267286_0b22_11ea_9a7a_80000208fe80row2_col65\" class=\"data row2 col65\" >XGBoost_grid_1_AutoML_20191119_151425_model_13</td>\n",
       "                        <td id=\"T_59267286_0b22_11ea_9a7a_80000208fe80row2_col66\" class=\"data row2 col66\" >DeepLearning_grid_1_AutoML_20191119_151425_model_10</td>\n",
       "                        <td id=\"T_59267286_0b22_11ea_9a7a_80000208fe80row2_col67\" class=\"data row2 col67\" >XGBoost_grid_1_AutoML_20191119_151425_model_19</td>\n",
       "                        <td id=\"T_59267286_0b22_11ea_9a7a_80000208fe80row2_col68\" class=\"data row2 col68\" >XGBoost_grid_1_AutoML_20191119_151425_model_5</td>\n",
       "                        <td id=\"T_59267286_0b22_11ea_9a7a_80000208fe80row2_col69\" class=\"data row2 col69\" >GBM_1_AutoML_20191119_151425</td>\n",
       "                        <td id=\"T_59267286_0b22_11ea_9a7a_80000208fe80row2_col70\" class=\"data row2 col70\" >XGBoost_grid_1_AutoML_20191119_151425_model_30</td>\n",
       "                        <td id=\"T_59267286_0b22_11ea_9a7a_80000208fe80row2_col71\" class=\"data row2 col71\" >XGBoost_grid_1_AutoML_20191119_151425_model_43</td>\n",
       "                        <td id=\"T_59267286_0b22_11ea_9a7a_80000208fe80row2_col72\" class=\"data row2 col72\" >XGBoost_grid_1_AutoML_20191119_151425_model_42</td>\n",
       "                        <td id=\"T_59267286_0b22_11ea_9a7a_80000208fe80row2_col73\" class=\"data row2 col73\" >XGBoost_grid_1_AutoML_20191119_151425_model_4</td>\n",
       "                        <td id=\"T_59267286_0b22_11ea_9a7a_80000208fe80row2_col74\" class=\"data row2 col74\" >GBM_grid_1_AutoML_20191119_151425_model_3</td>\n",
       "                        <td id=\"T_59267286_0b22_11ea_9a7a_80000208fe80row2_col75\" class=\"data row2 col75\" >XGBoost_grid_1_AutoML_20191119_151425_model_23</td>\n",
       "                        <td id=\"T_59267286_0b22_11ea_9a7a_80000208fe80row2_col76\" class=\"data row2 col76\" >GBM_5_AutoML_20191119_151425</td>\n",
       "                        <td id=\"T_59267286_0b22_11ea_9a7a_80000208fe80row2_col77\" class=\"data row2 col77\" >GBM_grid_1_AutoML_20191119_151425_model_32</td>\n",
       "                        <td id=\"T_59267286_0b22_11ea_9a7a_80000208fe80row2_col78\" class=\"data row2 col78\" >GBM_3_AutoML_20191119_151425</td>\n",
       "                        <td id=\"T_59267286_0b22_11ea_9a7a_80000208fe80row2_col79\" class=\"data row2 col79\" >XGBoost_grid_1_AutoML_20191119_151425_model_12</td>\n",
       "                        <td id=\"T_59267286_0b22_11ea_9a7a_80000208fe80row2_col80\" class=\"data row2 col80\" >XGBoost_grid_1_AutoML_20191119_151425_model_3</td>\n",
       "                        <td id=\"T_59267286_0b22_11ea_9a7a_80000208fe80row2_col81\" class=\"data row2 col81\" >XGBoost_grid_1_AutoML_20191119_151425_model_41</td>\n",
       "                        <td id=\"T_59267286_0b22_11ea_9a7a_80000208fe80row2_col82\" class=\"data row2 col82\" >XGBoost_grid_1_AutoML_20191119_151425_model_25</td>\n",
       "                        <td id=\"T_59267286_0b22_11ea_9a7a_80000208fe80row2_col83\" class=\"data row2 col83\" >XGBoost_grid_1_AutoML_20191119_151425_model_1</td>\n",
       "                        <td id=\"T_59267286_0b22_11ea_9a7a_80000208fe80row2_col84\" class=\"data row2 col84\" >XGBoost_grid_1_AutoML_20191119_151425_model_40</td>\n",
       "                        <td id=\"T_59267286_0b22_11ea_9a7a_80000208fe80row2_col85\" class=\"data row2 col85\" >GBM_grid_1_AutoML_20191119_151425_model_7</td>\n",
       "                        <td id=\"T_59267286_0b22_11ea_9a7a_80000208fe80row2_col86\" class=\"data row2 col86\" >GBM_grid_1_AutoML_20191119_151425_model_16</td>\n",
       "                        <td id=\"T_59267286_0b22_11ea_9a7a_80000208fe80row2_col87\" class=\"data row2 col87\" >XGBoost_grid_1_AutoML_20191119_151425_model_24</td>\n",
       "                        <td id=\"T_59267286_0b22_11ea_9a7a_80000208fe80row2_col88\" class=\"data row2 col88\" >XGBoost_grid_1_AutoML_20191119_151425_model_10</td>\n",
       "                        <td id=\"T_59267286_0b22_11ea_9a7a_80000208fe80row2_col89\" class=\"data row2 col89\" >XRT_1_AutoML_20191119_151425</td>\n",
       "                        <td id=\"T_59267286_0b22_11ea_9a7a_80000208fe80row2_col90\" class=\"data row2 col90\" >XGBoost_grid_1_AutoML_20191119_151425_model_39</td>\n",
       "                        <td id=\"T_59267286_0b22_11ea_9a7a_80000208fe80row2_col91\" class=\"data row2 col91\" >DRF_1_AutoML_20191119_151425</td>\n",
       "                        <td id=\"T_59267286_0b22_11ea_9a7a_80000208fe80row2_col92\" class=\"data row2 col92\" >XGBoost_grid_1_AutoML_20191119_151425_model_26</td>\n",
       "                        <td id=\"T_59267286_0b22_11ea_9a7a_80000208fe80row2_col93\" class=\"data row2 col93\" >GBM_grid_1_AutoML_20191119_151425_model_10</td>\n",
       "                        <td id=\"T_59267286_0b22_11ea_9a7a_80000208fe80row2_col94\" class=\"data row2 col94\" >XGBoost_grid_1_AutoML_20191119_151425_model_14</td>\n",
       "                        <td id=\"T_59267286_0b22_11ea_9a7a_80000208fe80row2_col95\" class=\"data row2 col95\" >GBM_grid_1_AutoML_20191119_151425_model_18</td>\n",
       "                        <td id=\"T_59267286_0b22_11ea_9a7a_80000208fe80row2_col96\" class=\"data row2 col96\" >GBM_grid_1_AutoML_20191119_151425_model_11</td>\n",
       "                        <td id=\"T_59267286_0b22_11ea_9a7a_80000208fe80row2_col97\" class=\"data row2 col97\" >GBM_grid_1_AutoML_20191119_151425_model_35</td>\n",
       "                        <td id=\"T_59267286_0b22_11ea_9a7a_80000208fe80row2_col98\" class=\"data row2 col98\" >GBM_grid_1_AutoML_20191119_151425_model_38</td>\n",
       "                        <td id=\"T_59267286_0b22_11ea_9a7a_80000208fe80row2_col99\" class=\"data row2 col99\" >GBM_grid_1_AutoML_20191119_151425_model_9</td>\n",
       "                        <td id=\"T_59267286_0b22_11ea_9a7a_80000208fe80row2_col100\" class=\"data row2 col100\" >GBM_grid_1_AutoML_20191119_151425_model_4</td>\n",
       "                        <td id=\"T_59267286_0b22_11ea_9a7a_80000208fe80row2_col101\" class=\"data row2 col101\" >DeepLearning_grid_1_AutoML_20191119_151425_model_17</td>\n",
       "                        <td id=\"T_59267286_0b22_11ea_9a7a_80000208fe80row2_col102\" class=\"data row2 col102\" >XGBoost_grid_1_AutoML_20191119_151425_model_44</td>\n",
       "                        <td id=\"T_59267286_0b22_11ea_9a7a_80000208fe80row2_col103\" class=\"data row2 col103\" >XGBoost_grid_1_AutoML_20191119_151425_model_16</td>\n",
       "                        <td id=\"T_59267286_0b22_11ea_9a7a_80000208fe80row2_col104\" class=\"data row2 col104\" >GBM_grid_1_AutoML_20191119_151425_model_30</td>\n",
       "                        <td id=\"T_59267286_0b22_11ea_9a7a_80000208fe80row2_col105\" class=\"data row2 col105\" >XGBoost_grid_1_AutoML_20191119_151425_model_6</td>\n",
       "                        <td id=\"T_59267286_0b22_11ea_9a7a_80000208fe80row2_col106\" class=\"data row2 col106\" >GBM_grid_1_AutoML_20191119_151425_model_23</td>\n",
       "                        <td id=\"T_59267286_0b22_11ea_9a7a_80000208fe80row2_col107\" class=\"data row2 col107\" >XGBoost_grid_1_AutoML_20191119_151425_model_11</td>\n",
       "                        <td id=\"T_59267286_0b22_11ea_9a7a_80000208fe80row2_col108\" class=\"data row2 col108\" >XGBoost_grid_1_AutoML_20191119_151425_model_22</td>\n",
       "                        <td id=\"T_59267286_0b22_11ea_9a7a_80000208fe80row2_col109\" class=\"data row2 col109\" >GBM_grid_1_AutoML_20191119_151425_model_37</td>\n",
       "                        <td id=\"T_59267286_0b22_11ea_9a7a_80000208fe80row2_col110\" class=\"data row2 col110\" >GBM_grid_1_AutoML_20191119_151425_model_24</td>\n",
       "                        <td id=\"T_59267286_0b22_11ea_9a7a_80000208fe80row2_col111\" class=\"data row2 col111\" >GBM_grid_1_AutoML_20191119_151425_model_2</td>\n",
       "                        <td id=\"T_59267286_0b22_11ea_9a7a_80000208fe80row2_col112\" class=\"data row2 col112\" >GBM_grid_1_AutoML_20191119_151425_model_34</td>\n",
       "                        <td id=\"T_59267286_0b22_11ea_9a7a_80000208fe80row2_col113\" class=\"data row2 col113\" >GBM_grid_1_AutoML_20191119_151425_model_33</td>\n",
       "                        <td id=\"T_59267286_0b22_11ea_9a7a_80000208fe80row2_col114\" class=\"data row2 col114\" >XGBoost_grid_1_AutoML_20191119_151425_model_9</td>\n",
       "                        <td id=\"T_59267286_0b22_11ea_9a7a_80000208fe80row2_col115\" class=\"data row2 col115\" >GBM_grid_1_AutoML_20191119_151425_model_28</td>\n",
       "                        <td id=\"T_59267286_0b22_11ea_9a7a_80000208fe80row2_col116\" class=\"data row2 col116\" >GBM_grid_1_AutoML_20191119_151425_model_25</td>\n",
       "                        <td id=\"T_59267286_0b22_11ea_9a7a_80000208fe80row2_col117\" class=\"data row2 col117\" >DeepLearning_1_AutoML_20191119_151425</td>\n",
       "                        <td id=\"T_59267286_0b22_11ea_9a7a_80000208fe80row2_col118\" class=\"data row2 col118\" >GBM_grid_1_AutoML_20191119_151425_model_22</td>\n",
       "                        <td id=\"T_59267286_0b22_11ea_9a7a_80000208fe80row2_col119\" class=\"data row2 col119\" >GBM_grid_1_AutoML_20191119_151425_model_5</td>\n",
       "                        <td id=\"T_59267286_0b22_11ea_9a7a_80000208fe80row2_col120\" class=\"data row2 col120\" >GBM_grid_1_AutoML_20191119_151425_model_36</td>\n",
       "                        <td id=\"T_59267286_0b22_11ea_9a7a_80000208fe80row2_col121\" class=\"data row2 col121\" >nan</td>\n",
       "                        <td id=\"T_59267286_0b22_11ea_9a7a_80000208fe80row2_col122\" class=\"data row2 col122\" >nan</td>\n",
       "                        <td id=\"T_59267286_0b22_11ea_9a7a_80000208fe80row2_col123\" class=\"data row2 col123\" >nan</td>\n",
       "                        <td id=\"T_59267286_0b22_11ea_9a7a_80000208fe80row2_col124\" class=\"data row2 col124\" >nan</td>\n",
       "                        <td id=\"T_59267286_0b22_11ea_9a7a_80000208fe80row2_col125\" class=\"data row2 col125\" >nan</td>\n",
       "                        <td id=\"T_59267286_0b22_11ea_9a7a_80000208fe80row2_col126\" class=\"data row2 col126\" >nan</td>\n",
       "                        <td id=\"T_59267286_0b22_11ea_9a7a_80000208fe80row2_col127\" class=\"data row2 col127\" >nan</td>\n",
       "                        <td id=\"T_59267286_0b22_11ea_9a7a_80000208fe80row2_col128\" class=\"data row2 col128\" >nan</td>\n",
       "                        <td id=\"T_59267286_0b22_11ea_9a7a_80000208fe80row2_col129\" class=\"data row2 col129\" >nan</td>\n",
       "                        <td id=\"T_59267286_0b22_11ea_9a7a_80000208fe80row2_col130\" class=\"data row2 col130\" >nan</td>\n",
       "                        <td id=\"T_59267286_0b22_11ea_9a7a_80000208fe80row2_col131\" class=\"data row2 col131\" >nan</td>\n",
       "                        <td id=\"T_59267286_0b22_11ea_9a7a_80000208fe80row2_col132\" class=\"data row2 col132\" >nan</td>\n",
       "                        <td id=\"T_59267286_0b22_11ea_9a7a_80000208fe80row2_col133\" class=\"data row2 col133\" >nan</td>\n",
       "                        <td id=\"T_59267286_0b22_11ea_9a7a_80000208fe80row2_col134\" class=\"data row2 col134\" >nan</td>\n",
       "                        <td id=\"T_59267286_0b22_11ea_9a7a_80000208fe80row2_col135\" class=\"data row2 col135\" >nan</td>\n",
       "                        <td id=\"T_59267286_0b22_11ea_9a7a_80000208fe80row2_col136\" class=\"data row2 col136\" >nan</td>\n",
       "                        <td id=\"T_59267286_0b22_11ea_9a7a_80000208fe80row2_col137\" class=\"data row2 col137\" >nan</td>\n",
       "                        <td id=\"T_59267286_0b22_11ea_9a7a_80000208fe80row2_col138\" class=\"data row2 col138\" >nan</td>\n",
       "                        <td id=\"T_59267286_0b22_11ea_9a7a_80000208fe80row2_col139\" class=\"data row2 col139\" >nan</td>\n",
       "                        <td id=\"T_59267286_0b22_11ea_9a7a_80000208fe80row2_col140\" class=\"data row2 col140\" >nan</td>\n",
       "                        <td id=\"T_59267286_0b22_11ea_9a7a_80000208fe80row2_col141\" class=\"data row2 col141\" >nan</td>\n",
       "                        <td id=\"T_59267286_0b22_11ea_9a7a_80000208fe80row2_col142\" class=\"data row2 col142\" >nan</td>\n",
       "                        <td id=\"T_59267286_0b22_11ea_9a7a_80000208fe80row2_col143\" class=\"data row2 col143\" >nan</td>\n",
       "                        <td id=\"T_59267286_0b22_11ea_9a7a_80000208fe80row2_col144\" class=\"data row2 col144\" >nan</td>\n",
       "                        <td id=\"T_59267286_0b22_11ea_9a7a_80000208fe80row2_col145\" class=\"data row2 col145\" >nan</td>\n",
       "                        <td id=\"T_59267286_0b22_11ea_9a7a_80000208fe80row2_col146\" class=\"data row2 col146\" >nan</td>\n",
       "                        <td id=\"T_59267286_0b22_11ea_9a7a_80000208fe80row2_col147\" class=\"data row2 col147\" >nan</td>\n",
       "                        <td id=\"T_59267286_0b22_11ea_9a7a_80000208fe80row2_col148\" class=\"data row2 col148\" >nan</td>\n",
       "                        <td id=\"T_59267286_0b22_11ea_9a7a_80000208fe80row2_col149\" class=\"data row2 col149\" >nan</td>\n",
       "                        <td id=\"T_59267286_0b22_11ea_9a7a_80000208fe80row2_col150\" class=\"data row2 col150\" >nan</td>\n",
       "                        <td id=\"T_59267286_0b22_11ea_9a7a_80000208fe80row2_col151\" class=\"data row2 col151\" >nan</td>\n",
       "                        <td id=\"T_59267286_0b22_11ea_9a7a_80000208fe80row2_col152\" class=\"data row2 col152\" >nan</td>\n",
       "                        <td id=\"T_59267286_0b22_11ea_9a7a_80000208fe80row2_col153\" class=\"data row2 col153\" >nan</td>\n",
       "                        <td id=\"T_59267286_0b22_11ea_9a7a_80000208fe80row2_col154\" class=\"data row2 col154\" >nan</td>\n",
       "                        <td id=\"T_59267286_0b22_11ea_9a7a_80000208fe80row2_col155\" class=\"data row2 col155\" >nan</td>\n",
       "                        <td id=\"T_59267286_0b22_11ea_9a7a_80000208fe80row2_col156\" class=\"data row2 col156\" >nan</td>\n",
       "                        <td id=\"T_59267286_0b22_11ea_9a7a_80000208fe80row2_col157\" class=\"data row2 col157\" >nan</td>\n",
       "                        <td id=\"T_59267286_0b22_11ea_9a7a_80000208fe80row2_col158\" class=\"data row2 col158\" >nan</td>\n",
       "                        <td id=\"T_59267286_0b22_11ea_9a7a_80000208fe80row2_col159\" class=\"data row2 col159\" >nan</td>\n",
       "                        <td id=\"T_59267286_0b22_11ea_9a7a_80000208fe80row2_col160\" class=\"data row2 col160\" >nan</td>\n",
       "                        <td id=\"T_59267286_0b22_11ea_9a7a_80000208fe80row2_col161\" class=\"data row2 col161\" >nan</td>\n",
       "                        <td id=\"T_59267286_0b22_11ea_9a7a_80000208fe80row2_col162\" class=\"data row2 col162\" >nan</td>\n",
       "                        <td id=\"T_59267286_0b22_11ea_9a7a_80000208fe80row2_col163\" class=\"data row2 col163\" >nan</td>\n",
       "                        <td id=\"T_59267286_0b22_11ea_9a7a_80000208fe80row2_col164\" class=\"data row2 col164\" >nan</td>\n",
       "                        <td id=\"T_59267286_0b22_11ea_9a7a_80000208fe80row2_col165\" class=\"data row2 col165\" >nan</td>\n",
       "                        <td id=\"T_59267286_0b22_11ea_9a7a_80000208fe80row2_col166\" class=\"data row2 col166\" >nan</td>\n",
       "                        <td id=\"T_59267286_0b22_11ea_9a7a_80000208fe80row2_col167\" class=\"data row2 col167\" >nan</td>\n",
       "                        <td id=\"T_59267286_0b22_11ea_9a7a_80000208fe80row2_col168\" class=\"data row2 col168\" >nan</td>\n",
       "                        <td id=\"T_59267286_0b22_11ea_9a7a_80000208fe80row2_col169\" class=\"data row2 col169\" >nan</td>\n",
       "                        <td id=\"T_59267286_0b22_11ea_9a7a_80000208fe80row2_col170\" class=\"data row2 col170\" >nan</td>\n",
       "                        <td id=\"T_59267286_0b22_11ea_9a7a_80000208fe80row2_col171\" class=\"data row2 col171\" >nan</td>\n",
       "                        <td id=\"T_59267286_0b22_11ea_9a7a_80000208fe80row2_col172\" class=\"data row2 col172\" >nan</td>\n",
       "                        <td id=\"T_59267286_0b22_11ea_9a7a_80000208fe80row2_col173\" class=\"data row2 col173\" >nan</td>\n",
       "                        <td id=\"T_59267286_0b22_11ea_9a7a_80000208fe80row2_col174\" class=\"data row2 col174\" >nan</td>\n",
       "                        <td id=\"T_59267286_0b22_11ea_9a7a_80000208fe80row2_col175\" class=\"data row2 col175\" >nan</td>\n",
       "                        <td id=\"T_59267286_0b22_11ea_9a7a_80000208fe80row2_col176\" class=\"data row2 col176\" >nan</td>\n",
       "                        <td id=\"T_59267286_0b22_11ea_9a7a_80000208fe80row2_col177\" class=\"data row2 col177\" >nan</td>\n",
       "                        <td id=\"T_59267286_0b22_11ea_9a7a_80000208fe80row2_col178\" class=\"data row2 col178\" >nan</td>\n",
       "                        <td id=\"T_59267286_0b22_11ea_9a7a_80000208fe80row2_col179\" class=\"data row2 col179\" >nan</td>\n",
       "                        <td id=\"T_59267286_0b22_11ea_9a7a_80000208fe80row2_col180\" class=\"data row2 col180\" >nan</td>\n",
       "                        <td id=\"T_59267286_0b22_11ea_9a7a_80000208fe80row2_col181\" class=\"data row2 col181\" >nan</td>\n",
       "                        <td id=\"T_59267286_0b22_11ea_9a7a_80000208fe80row2_col182\" class=\"data row2 col182\" >nan</td>\n",
       "                        <td id=\"T_59267286_0b22_11ea_9a7a_80000208fe80row2_col183\" class=\"data row2 col183\" >nan</td>\n",
       "                        <td id=\"T_59267286_0b22_11ea_9a7a_80000208fe80row2_col184\" class=\"data row2 col184\" >nan</td>\n",
       "                        <td id=\"T_59267286_0b22_11ea_9a7a_80000208fe80row2_col185\" class=\"data row2 col185\" >nan</td>\n",
       "                        <td id=\"T_59267286_0b22_11ea_9a7a_80000208fe80row2_col186\" class=\"data row2 col186\" >nan</td>\n",
       "                        <td id=\"T_59267286_0b22_11ea_9a7a_80000208fe80row2_col187\" class=\"data row2 col187\" >nan</td>\n",
       "            </tr>\n",
       "            <tr>\n",
       "                                <td id=\"T_59267286_0b22_11ea_9a7a_80000208fe80row3_col0\" class=\"data row3 col0\" >9.6</td>\n",
       "                        <td id=\"T_59267286_0b22_11ea_9a7a_80000208fe80row3_col1\" class=\"data row3 col1\" >StackedEnsemble_AllModels_AutoML_20191119_181732</td>\n",
       "                        <td id=\"T_59267286_0b22_11ea_9a7a_80000208fe80row3_col2\" class=\"data row3 col2\" >DeepLearning_grid_1_AutoML_20191119_181732_model_7</td>\n",
       "                        <td id=\"T_59267286_0b22_11ea_9a7a_80000208fe80row3_col3\" class=\"data row3 col3\" >DeepLearning_grid_1_AutoML_20191119_181732_model_21</td>\n",
       "                        <td id=\"T_59267286_0b22_11ea_9a7a_80000208fe80row3_col4\" class=\"data row3 col4\" >DeepLearning_grid_1_AutoML_20191119_181732_model_6</td>\n",
       "                        <td id=\"T_59267286_0b22_11ea_9a7a_80000208fe80row3_col5\" class=\"data row3 col5\" >DeepLearning_grid_1_AutoML_20191119_181732_model_3</td>\n",
       "                        <td id=\"T_59267286_0b22_11ea_9a7a_80000208fe80row3_col6\" class=\"data row3 col6\" >GLM_grid_1_AutoML_20191119_181732_model_1</td>\n",
       "                        <td id=\"T_59267286_0b22_11ea_9a7a_80000208fe80row3_col7\" class=\"data row3 col7\" >DeepLearning_grid_1_AutoML_20191119_181732_model_2</td>\n",
       "                        <td id=\"T_59267286_0b22_11ea_9a7a_80000208fe80row3_col8\" class=\"data row3 col8\" >DeepLearning_grid_1_AutoML_20191119_181732_model_14</td>\n",
       "                        <td id=\"T_59267286_0b22_11ea_9a7a_80000208fe80row3_col9\" class=\"data row3 col9\" >DeepLearning_grid_1_AutoML_20191119_181732_model_15</td>\n",
       "                        <td id=\"T_59267286_0b22_11ea_9a7a_80000208fe80row3_col10\" class=\"data row3 col10\" >XGBoost_1_AutoML_20191119_181732</td>\n",
       "                        <td id=\"T_59267286_0b22_11ea_9a7a_80000208fe80row3_col11\" class=\"data row3 col11\" >DeepLearning_grid_1_AutoML_20191119_181732_model_22</td>\n",
       "                        <td id=\"T_59267286_0b22_11ea_9a7a_80000208fe80row3_col12\" class=\"data row3 col12\" >DeepLearning_grid_1_AutoML_20191119_181732_model_13</td>\n",
       "                        <td id=\"T_59267286_0b22_11ea_9a7a_80000208fe80row3_col13\" class=\"data row3 col13\" >DeepLearning_grid_1_AutoML_20191119_181732_model_9</td>\n",
       "                        <td id=\"T_59267286_0b22_11ea_9a7a_80000208fe80row3_col14\" class=\"data row3 col14\" >DeepLearning_grid_1_AutoML_20191119_181732_model_1</td>\n",
       "                        <td id=\"T_59267286_0b22_11ea_9a7a_80000208fe80row3_col15\" class=\"data row3 col15\" >DeepLearning_grid_1_AutoML_20191119_181732_model_4</td>\n",
       "                        <td id=\"T_59267286_0b22_11ea_9a7a_80000208fe80row3_col16\" class=\"data row3 col16\" >GBM_grid_1_AutoML_20191119_181732_model_46</td>\n",
       "                        <td id=\"T_59267286_0b22_11ea_9a7a_80000208fe80row3_col17\" class=\"data row3 col17\" >XGBoost_grid_1_AutoML_20191119_181732_model_20</td>\n",
       "                        <td id=\"T_59267286_0b22_11ea_9a7a_80000208fe80row3_col18\" class=\"data row3 col18\" >DeepLearning_grid_1_AutoML_20191119_181732_model_18</td>\n",
       "                        <td id=\"T_59267286_0b22_11ea_9a7a_80000208fe80row3_col19\" class=\"data row3 col19\" >DeepLearning_grid_1_AutoML_20191119_181732_model_20</td>\n",
       "                        <td id=\"T_59267286_0b22_11ea_9a7a_80000208fe80row3_col20\" class=\"data row3 col20\" >DeepLearning_grid_1_AutoML_20191119_181732_model_10</td>\n",
       "                        <td id=\"T_59267286_0b22_11ea_9a7a_80000208fe80row3_col21\" class=\"data row3 col21\" >DeepLearning_grid_1_AutoML_20191119_181732_model_8</td>\n",
       "                        <td id=\"T_59267286_0b22_11ea_9a7a_80000208fe80row3_col22\" class=\"data row3 col22\" >XGBoost_grid_1_AutoML_20191119_181732_model_18</td>\n",
       "                        <td id=\"T_59267286_0b22_11ea_9a7a_80000208fe80row3_col23\" class=\"data row3 col23\" >XGBoost_grid_1_AutoML_20191119_181732_model_7</td>\n",
       "                        <td id=\"T_59267286_0b22_11ea_9a7a_80000208fe80row3_col24\" class=\"data row3 col24\" >GBM_grid_1_AutoML_20191119_181732_model_1</td>\n",
       "                        <td id=\"T_59267286_0b22_11ea_9a7a_80000208fe80row3_col25\" class=\"data row3 col25\" >DeepLearning_grid_1_AutoML_20191119_181732_model_5</td>\n",
       "                        <td id=\"T_59267286_0b22_11ea_9a7a_80000208fe80row3_col26\" class=\"data row3 col26\" >XGBoost_grid_1_AutoML_20191119_181732_model_31</td>\n",
       "                        <td id=\"T_59267286_0b22_11ea_9a7a_80000208fe80row3_col27\" class=\"data row3 col27\" >XGBoost_grid_1_AutoML_20191119_181732_model_21</td>\n",
       "                        <td id=\"T_59267286_0b22_11ea_9a7a_80000208fe80row3_col28\" class=\"data row3 col28\" >GBM_grid_1_AutoML_20191119_181732_model_31</td>\n",
       "                        <td id=\"T_59267286_0b22_11ea_9a7a_80000208fe80row3_col29\" class=\"data row3 col29\" >XGBoost_grid_1_AutoML_20191119_181732_model_2</td>\n",
       "                        <td id=\"T_59267286_0b22_11ea_9a7a_80000208fe80row3_col30\" class=\"data row3 col30\" >XGBoost_grid_1_AutoML_20191119_181732_model_8</td>\n",
       "                        <td id=\"T_59267286_0b22_11ea_9a7a_80000208fe80row3_col31\" class=\"data row3 col31\" >XGBoost_2_AutoML_20191119_181732</td>\n",
       "                        <td id=\"T_59267286_0b22_11ea_9a7a_80000208fe80row3_col32\" class=\"data row3 col32\" >GBM_grid_1_AutoML_20191119_181732_model_40</td>\n",
       "                        <td id=\"T_59267286_0b22_11ea_9a7a_80000208fe80row3_col33\" class=\"data row3 col33\" >XGBoost_grid_1_AutoML_20191119_181732_model_28</td>\n",
       "                        <td id=\"T_59267286_0b22_11ea_9a7a_80000208fe80row3_col34\" class=\"data row3 col34\" >GBM_grid_1_AutoML_20191119_181732_model_52</td>\n",
       "                        <td id=\"T_59267286_0b22_11ea_9a7a_80000208fe80row3_col35\" class=\"data row3 col35\" >XGBoost_3_AutoML_20191119_181732</td>\n",
       "                        <td id=\"T_59267286_0b22_11ea_9a7a_80000208fe80row3_col36\" class=\"data row3 col36\" >GBM_grid_1_AutoML_20191119_181732_model_39</td>\n",
       "                        <td id=\"T_59267286_0b22_11ea_9a7a_80000208fe80row3_col37\" class=\"data row3 col37\" >XGBoost_grid_1_AutoML_20191119_181732_model_14</td>\n",
       "                        <td id=\"T_59267286_0b22_11ea_9a7a_80000208fe80row3_col38\" class=\"data row3 col38\" >DeepLearning_grid_1_AutoML_20191119_181732_model_24</td>\n",
       "                        <td id=\"T_59267286_0b22_11ea_9a7a_80000208fe80row3_col39\" class=\"data row3 col39\" >XGBoost_grid_1_AutoML_20191119_181732_model_29</td>\n",
       "                        <td id=\"T_59267286_0b22_11ea_9a7a_80000208fe80row3_col40\" class=\"data row3 col40\" >GBM_grid_1_AutoML_20191119_181732_model_55</td>\n",
       "                        <td id=\"T_59267286_0b22_11ea_9a7a_80000208fe80row3_col41\" class=\"data row3 col41\" >DeepLearning_grid_1_AutoML_20191119_181732_model_17</td>\n",
       "                        <td id=\"T_59267286_0b22_11ea_9a7a_80000208fe80row3_col42\" class=\"data row3 col42\" >DeepLearning_grid_1_AutoML_20191119_181732_model_16</td>\n",
       "                        <td id=\"T_59267286_0b22_11ea_9a7a_80000208fe80row3_col43\" class=\"data row3 col43\" >GBM_grid_1_AutoML_20191119_181732_model_27</td>\n",
       "                        <td id=\"T_59267286_0b22_11ea_9a7a_80000208fe80row3_col44\" class=\"data row3 col44\" >XGBoost_grid_1_AutoML_20191119_181732_model_12</td>\n",
       "                        <td id=\"T_59267286_0b22_11ea_9a7a_80000208fe80row3_col45\" class=\"data row3 col45\" >XGBoost_grid_1_AutoML_20191119_181732_model_10</td>\n",
       "                        <td id=\"T_59267286_0b22_11ea_9a7a_80000208fe80row3_col46\" class=\"data row3 col46\" >XGBoost_grid_1_AutoML_20191119_181732_model_30</td>\n",
       "                        <td id=\"T_59267286_0b22_11ea_9a7a_80000208fe80row3_col47\" class=\"data row3 col47\" >GBM_grid_1_AutoML_20191119_181732_model_26</td>\n",
       "                        <td id=\"T_59267286_0b22_11ea_9a7a_80000208fe80row3_col48\" class=\"data row3 col48\" >GBM_grid_1_AutoML_20191119_181732_model_8</td>\n",
       "                        <td id=\"T_59267286_0b22_11ea_9a7a_80000208fe80row3_col49\" class=\"data row3 col49\" >XGBoost_grid_1_AutoML_20191119_181732_model_17</td>\n",
       "                        <td id=\"T_59267286_0b22_11ea_9a7a_80000208fe80row3_col50\" class=\"data row3 col50\" >GBM_grid_1_AutoML_20191119_181732_model_19</td>\n",
       "                        <td id=\"T_59267286_0b22_11ea_9a7a_80000208fe80row3_col51\" class=\"data row3 col51\" >GBM_grid_1_AutoML_20191119_181732_model_3</td>\n",
       "                        <td id=\"T_59267286_0b22_11ea_9a7a_80000208fe80row3_col52\" class=\"data row3 col52\" >GBM_grid_1_AutoML_20191119_181732_model_14</td>\n",
       "                        <td id=\"T_59267286_0b22_11ea_9a7a_80000208fe80row3_col53\" class=\"data row3 col53\" >GBM_5_AutoML_20191119_181732</td>\n",
       "                        <td id=\"T_59267286_0b22_11ea_9a7a_80000208fe80row3_col54\" class=\"data row3 col54\" >GBM_grid_1_AutoML_20191119_181732_model_41</td>\n",
       "                        <td id=\"T_59267286_0b22_11ea_9a7a_80000208fe80row3_col55\" class=\"data row3 col55\" >XGBoost_grid_1_AutoML_20191119_181732_model_15</td>\n",
       "                        <td id=\"T_59267286_0b22_11ea_9a7a_80000208fe80row3_col56\" class=\"data row3 col56\" >XGBoost_grid_1_AutoML_20191119_181732_model_1</td>\n",
       "                        <td id=\"T_59267286_0b22_11ea_9a7a_80000208fe80row3_col57\" class=\"data row3 col57\" >DeepLearning_grid_1_AutoML_20191119_181732_model_12</td>\n",
       "                        <td id=\"T_59267286_0b22_11ea_9a7a_80000208fe80row3_col58\" class=\"data row3 col58\" >XGBoost_grid_1_AutoML_20191119_181732_model_5</td>\n",
       "                        <td id=\"T_59267286_0b22_11ea_9a7a_80000208fe80row3_col59\" class=\"data row3 col59\" >GBM_grid_1_AutoML_20191119_181732_model_29</td>\n",
       "                        <td id=\"T_59267286_0b22_11ea_9a7a_80000208fe80row3_col60\" class=\"data row3 col60\" >XGBoost_grid_1_AutoML_20191119_181732_model_4</td>\n",
       "                        <td id=\"T_59267286_0b22_11ea_9a7a_80000208fe80row3_col61\" class=\"data row3 col61\" >XGBoost_grid_1_AutoML_20191119_181732_model_19</td>\n",
       "                        <td id=\"T_59267286_0b22_11ea_9a7a_80000208fe80row3_col62\" class=\"data row3 col62\" >XGBoost_grid_1_AutoML_20191119_181732_model_24</td>\n",
       "                        <td id=\"T_59267286_0b22_11ea_9a7a_80000208fe80row3_col63\" class=\"data row3 col63\" >GBM_3_AutoML_20191119_181732</td>\n",
       "                        <td id=\"T_59267286_0b22_11ea_9a7a_80000208fe80row3_col64\" class=\"data row3 col64\" >GBM_grid_1_AutoML_20191119_181732_model_20</td>\n",
       "                        <td id=\"T_59267286_0b22_11ea_9a7a_80000208fe80row3_col65\" class=\"data row3 col65\" >GBM_grid_1_AutoML_20191119_181732_model_48</td>\n",
       "                        <td id=\"T_59267286_0b22_11ea_9a7a_80000208fe80row3_col66\" class=\"data row3 col66\" >GBM_2_AutoML_20191119_181732</td>\n",
       "                        <td id=\"T_59267286_0b22_11ea_9a7a_80000208fe80row3_col67\" class=\"data row3 col67\" >DeepLearning_grid_1_AutoML_20191119_181732_model_25</td>\n",
       "                        <td id=\"T_59267286_0b22_11ea_9a7a_80000208fe80row3_col68\" class=\"data row3 col68\" >XGBoost_grid_1_AutoML_20191119_181732_model_13</td>\n",
       "                        <td id=\"T_59267286_0b22_11ea_9a7a_80000208fe80row3_col69\" class=\"data row3 col69\" >XGBoost_grid_1_AutoML_20191119_181732_model_23</td>\n",
       "                        <td id=\"T_59267286_0b22_11ea_9a7a_80000208fe80row3_col70\" class=\"data row3 col70\" >GBM_grid_1_AutoML_20191119_181732_model_53</td>\n",
       "                        <td id=\"T_59267286_0b22_11ea_9a7a_80000208fe80row3_col71\" class=\"data row3 col71\" >XGBoost_grid_1_AutoML_20191119_181732_model_3</td>\n",
       "                        <td id=\"T_59267286_0b22_11ea_9a7a_80000208fe80row3_col72\" class=\"data row3 col72\" >GBM_grid_1_AutoML_20191119_181732_model_6</td>\n",
       "                        <td id=\"T_59267286_0b22_11ea_9a7a_80000208fe80row3_col73\" class=\"data row3 col73\" >GBM_grid_1_AutoML_20191119_181732_model_38</td>\n",
       "                        <td id=\"T_59267286_0b22_11ea_9a7a_80000208fe80row3_col74\" class=\"data row3 col74\" >GBM_grid_1_AutoML_20191119_181732_model_17</td>\n",
       "                        <td id=\"T_59267286_0b22_11ea_9a7a_80000208fe80row3_col75\" class=\"data row3 col75\" >XGBoost_grid_1_AutoML_20191119_181732_model_25</td>\n",
       "                        <td id=\"T_59267286_0b22_11ea_9a7a_80000208fe80row3_col76\" class=\"data row3 col76\" >GBM_4_AutoML_20191119_181732</td>\n",
       "                        <td id=\"T_59267286_0b22_11ea_9a7a_80000208fe80row3_col77\" class=\"data row3 col77\" >GBM_grid_1_AutoML_20191119_181732_model_7</td>\n",
       "                        <td id=\"T_59267286_0b22_11ea_9a7a_80000208fe80row3_col78\" class=\"data row3 col78\" >XGBoost_grid_1_AutoML_20191119_181732_model_27</td>\n",
       "                        <td id=\"T_59267286_0b22_11ea_9a7a_80000208fe80row3_col79\" class=\"data row3 col79\" >GBM_grid_1_AutoML_20191119_181732_model_45</td>\n",
       "                        <td id=\"T_59267286_0b22_11ea_9a7a_80000208fe80row3_col80\" class=\"data row3 col80\" >GBM_grid_1_AutoML_20191119_181732_model_15</td>\n",
       "                        <td id=\"T_59267286_0b22_11ea_9a7a_80000208fe80row3_col81\" class=\"data row3 col81\" >DeepLearning_grid_1_AutoML_20191119_181732_model_19</td>\n",
       "                        <td id=\"T_59267286_0b22_11ea_9a7a_80000208fe80row3_col82\" class=\"data row3 col82\" >GBM_grid_1_AutoML_20191119_181732_model_16</td>\n",
       "                        <td id=\"T_59267286_0b22_11ea_9a7a_80000208fe80row3_col83\" class=\"data row3 col83\" >GBM_grid_1_AutoML_20191119_181732_model_18</td>\n",
       "                        <td id=\"T_59267286_0b22_11ea_9a7a_80000208fe80row3_col84\" class=\"data row3 col84\" >GBM_grid_1_AutoML_20191119_181732_model_21</td>\n",
       "                        <td id=\"T_59267286_0b22_11ea_9a7a_80000208fe80row3_col85\" class=\"data row3 col85\" >GBM_grid_1_AutoML_20191119_181732_model_10</td>\n",
       "                        <td id=\"T_59267286_0b22_11ea_9a7a_80000208fe80row3_col86\" class=\"data row3 col86\" >GBM_grid_1_AutoML_20191119_181732_model_32</td>\n",
       "                        <td id=\"T_59267286_0b22_11ea_9a7a_80000208fe80row3_col87\" class=\"data row3 col87\" >GBM_grid_1_AutoML_20191119_181732_model_13</td>\n",
       "                        <td id=\"T_59267286_0b22_11ea_9a7a_80000208fe80row3_col88\" class=\"data row3 col88\" >GBM_grid_1_AutoML_20191119_181732_model_4</td>\n",
       "                        <td id=\"T_59267286_0b22_11ea_9a7a_80000208fe80row3_col89\" class=\"data row3 col89\" >XRT_1_AutoML_20191119_181732</td>\n",
       "                        <td id=\"T_59267286_0b22_11ea_9a7a_80000208fe80row3_col90\" class=\"data row3 col90\" >DRF_1_AutoML_20191119_181732</td>\n",
       "                        <td id=\"T_59267286_0b22_11ea_9a7a_80000208fe80row3_col91\" class=\"data row3 col91\" >GBM_grid_1_AutoML_20191119_181732_model_12</td>\n",
       "                        <td id=\"T_59267286_0b22_11ea_9a7a_80000208fe80row3_col92\" class=\"data row3 col92\" >DeepLearning_grid_1_AutoML_20191119_181732_model_11</td>\n",
       "                        <td id=\"T_59267286_0b22_11ea_9a7a_80000208fe80row3_col93\" class=\"data row3 col93\" >DeepLearning_grid_1_AutoML_20191119_181732_model_23</td>\n",
       "                        <td id=\"T_59267286_0b22_11ea_9a7a_80000208fe80row3_col94\" class=\"data row3 col94\" >GBM_grid_1_AutoML_20191119_181732_model_47</td>\n",
       "                        <td id=\"T_59267286_0b22_11ea_9a7a_80000208fe80row3_col95\" class=\"data row3 col95\" >GBM_grid_1_AutoML_20191119_181732_model_11</td>\n",
       "                        <td id=\"T_59267286_0b22_11ea_9a7a_80000208fe80row3_col96\" class=\"data row3 col96\" >GBM_grid_1_AutoML_20191119_181732_model_35</td>\n",
       "                        <td id=\"T_59267286_0b22_11ea_9a7a_80000208fe80row3_col97\" class=\"data row3 col97\" >XGBoost_grid_1_AutoML_20191119_181732_model_26</td>\n",
       "                        <td id=\"T_59267286_0b22_11ea_9a7a_80000208fe80row3_col98\" class=\"data row3 col98\" >GBM_grid_1_AutoML_20191119_181732_model_42</td>\n",
       "                        <td id=\"T_59267286_0b22_11ea_9a7a_80000208fe80row3_col99\" class=\"data row3 col99\" >GBM_grid_1_AutoML_20191119_181732_model_54</td>\n",
       "                        <td id=\"T_59267286_0b22_11ea_9a7a_80000208fe80row3_col100\" class=\"data row3 col100\" >XGBoost_grid_1_AutoML_20191119_181732_model_16</td>\n",
       "                        <td id=\"T_59267286_0b22_11ea_9a7a_80000208fe80row3_col101\" class=\"data row3 col101\" >GBM_1_AutoML_20191119_181732</td>\n",
       "                        <td id=\"T_59267286_0b22_11ea_9a7a_80000208fe80row3_col102\" class=\"data row3 col102\" >GBM_grid_1_AutoML_20191119_181732_model_9</td>\n",
       "                        <td id=\"T_59267286_0b22_11ea_9a7a_80000208fe80row3_col103\" class=\"data row3 col103\" >GBM_grid_1_AutoML_20191119_181732_model_37</td>\n",
       "                        <td id=\"T_59267286_0b22_11ea_9a7a_80000208fe80row3_col104\" class=\"data row3 col104\" >GBM_grid_1_AutoML_20191119_181732_model_43</td>\n",
       "                        <td id=\"T_59267286_0b22_11ea_9a7a_80000208fe80row3_col105\" class=\"data row3 col105\" >XGBoost_grid_1_AutoML_20191119_181732_model_6</td>\n",
       "                        <td id=\"T_59267286_0b22_11ea_9a7a_80000208fe80row3_col106\" class=\"data row3 col106\" >XGBoost_grid_1_AutoML_20191119_181732_model_22</td>\n",
       "                        <td id=\"T_59267286_0b22_11ea_9a7a_80000208fe80row3_col107\" class=\"data row3 col107\" >GBM_grid_1_AutoML_20191119_181732_model_23</td>\n",
       "                        <td id=\"T_59267286_0b22_11ea_9a7a_80000208fe80row3_col108\" class=\"data row3 col108\" >GBM_grid_1_AutoML_20191119_181732_model_49</td>\n",
       "                        <td id=\"T_59267286_0b22_11ea_9a7a_80000208fe80row3_col109\" class=\"data row3 col109\" >GBM_grid_1_AutoML_20191119_181732_model_30</td>\n",
       "                        <td id=\"T_59267286_0b22_11ea_9a7a_80000208fe80row3_col110\" class=\"data row3 col110\" >GBM_grid_1_AutoML_20191119_181732_model_2</td>\n",
       "                        <td id=\"T_59267286_0b22_11ea_9a7a_80000208fe80row3_col111\" class=\"data row3 col111\" >XGBoost_grid_1_AutoML_20191119_181732_model_11</td>\n",
       "                        <td id=\"T_59267286_0b22_11ea_9a7a_80000208fe80row3_col112\" class=\"data row3 col112\" >GBM_grid_1_AutoML_20191119_181732_model_51</td>\n",
       "                        <td id=\"T_59267286_0b22_11ea_9a7a_80000208fe80row3_col113\" class=\"data row3 col113\" >GBM_grid_1_AutoML_20191119_181732_model_33</td>\n",
       "                        <td id=\"T_59267286_0b22_11ea_9a7a_80000208fe80row3_col114\" class=\"data row3 col114\" >XGBoost_grid_1_AutoML_20191119_181732_model_9</td>\n",
       "                        <td id=\"T_59267286_0b22_11ea_9a7a_80000208fe80row3_col115\" class=\"data row3 col115\" >GBM_grid_1_AutoML_20191119_181732_model_34</td>\n",
       "                        <td id=\"T_59267286_0b22_11ea_9a7a_80000208fe80row3_col116\" class=\"data row3 col116\" >GBM_grid_1_AutoML_20191119_181732_model_44</td>\n",
       "                        <td id=\"T_59267286_0b22_11ea_9a7a_80000208fe80row3_col117\" class=\"data row3 col117\" >GBM_grid_1_AutoML_20191119_181732_model_24</td>\n",
       "                        <td id=\"T_59267286_0b22_11ea_9a7a_80000208fe80row3_col118\" class=\"data row3 col118\" >GBM_grid_1_AutoML_20191119_181732_model_28</td>\n",
       "                        <td id=\"T_59267286_0b22_11ea_9a7a_80000208fe80row3_col119\" class=\"data row3 col119\" >DeepLearning_1_AutoML_20191119_181732</td>\n",
       "                        <td id=\"T_59267286_0b22_11ea_9a7a_80000208fe80row3_col120\" class=\"data row3 col120\" >GBM_grid_1_AutoML_20191119_181732_model_50</td>\n",
       "                        <td id=\"T_59267286_0b22_11ea_9a7a_80000208fe80row3_col121\" class=\"data row3 col121\" >GBM_grid_1_AutoML_20191119_181732_model_22</td>\n",
       "                        <td id=\"T_59267286_0b22_11ea_9a7a_80000208fe80row3_col122\" class=\"data row3 col122\" >GBM_grid_1_AutoML_20191119_181732_model_25</td>\n",
       "                        <td id=\"T_59267286_0b22_11ea_9a7a_80000208fe80row3_col123\" class=\"data row3 col123\" >GBM_grid_1_AutoML_20191119_181732_model_36</td>\n",
       "                        <td id=\"T_59267286_0b22_11ea_9a7a_80000208fe80row3_col124\" class=\"data row3 col124\" >GBM_grid_1_AutoML_20191119_181732_model_5</td>\n",
       "                        <td id=\"T_59267286_0b22_11ea_9a7a_80000208fe80row3_col125\" class=\"data row3 col125\" >nan</td>\n",
       "                        <td id=\"T_59267286_0b22_11ea_9a7a_80000208fe80row3_col126\" class=\"data row3 col126\" >nan</td>\n",
       "                        <td id=\"T_59267286_0b22_11ea_9a7a_80000208fe80row3_col127\" class=\"data row3 col127\" >nan</td>\n",
       "                        <td id=\"T_59267286_0b22_11ea_9a7a_80000208fe80row3_col128\" class=\"data row3 col128\" >nan</td>\n",
       "                        <td id=\"T_59267286_0b22_11ea_9a7a_80000208fe80row3_col129\" class=\"data row3 col129\" >nan</td>\n",
       "                        <td id=\"T_59267286_0b22_11ea_9a7a_80000208fe80row3_col130\" class=\"data row3 col130\" >nan</td>\n",
       "                        <td id=\"T_59267286_0b22_11ea_9a7a_80000208fe80row3_col131\" class=\"data row3 col131\" >nan</td>\n",
       "                        <td id=\"T_59267286_0b22_11ea_9a7a_80000208fe80row3_col132\" class=\"data row3 col132\" >nan</td>\n",
       "                        <td id=\"T_59267286_0b22_11ea_9a7a_80000208fe80row3_col133\" class=\"data row3 col133\" >nan</td>\n",
       "                        <td id=\"T_59267286_0b22_11ea_9a7a_80000208fe80row3_col134\" class=\"data row3 col134\" >nan</td>\n",
       "                        <td id=\"T_59267286_0b22_11ea_9a7a_80000208fe80row3_col135\" class=\"data row3 col135\" >nan</td>\n",
       "                        <td id=\"T_59267286_0b22_11ea_9a7a_80000208fe80row3_col136\" class=\"data row3 col136\" >nan</td>\n",
       "                        <td id=\"T_59267286_0b22_11ea_9a7a_80000208fe80row3_col137\" class=\"data row3 col137\" >nan</td>\n",
       "                        <td id=\"T_59267286_0b22_11ea_9a7a_80000208fe80row3_col138\" class=\"data row3 col138\" >nan</td>\n",
       "                        <td id=\"T_59267286_0b22_11ea_9a7a_80000208fe80row3_col139\" class=\"data row3 col139\" >nan</td>\n",
       "                        <td id=\"T_59267286_0b22_11ea_9a7a_80000208fe80row3_col140\" class=\"data row3 col140\" >nan</td>\n",
       "                        <td id=\"T_59267286_0b22_11ea_9a7a_80000208fe80row3_col141\" class=\"data row3 col141\" >nan</td>\n",
       "                        <td id=\"T_59267286_0b22_11ea_9a7a_80000208fe80row3_col142\" class=\"data row3 col142\" >nan</td>\n",
       "                        <td id=\"T_59267286_0b22_11ea_9a7a_80000208fe80row3_col143\" class=\"data row3 col143\" >nan</td>\n",
       "                        <td id=\"T_59267286_0b22_11ea_9a7a_80000208fe80row3_col144\" class=\"data row3 col144\" >nan</td>\n",
       "                        <td id=\"T_59267286_0b22_11ea_9a7a_80000208fe80row3_col145\" class=\"data row3 col145\" >nan</td>\n",
       "                        <td id=\"T_59267286_0b22_11ea_9a7a_80000208fe80row3_col146\" class=\"data row3 col146\" >nan</td>\n",
       "                        <td id=\"T_59267286_0b22_11ea_9a7a_80000208fe80row3_col147\" class=\"data row3 col147\" >nan</td>\n",
       "                        <td id=\"T_59267286_0b22_11ea_9a7a_80000208fe80row3_col148\" class=\"data row3 col148\" >nan</td>\n",
       "                        <td id=\"T_59267286_0b22_11ea_9a7a_80000208fe80row3_col149\" class=\"data row3 col149\" >nan</td>\n",
       "                        <td id=\"T_59267286_0b22_11ea_9a7a_80000208fe80row3_col150\" class=\"data row3 col150\" >nan</td>\n",
       "                        <td id=\"T_59267286_0b22_11ea_9a7a_80000208fe80row3_col151\" class=\"data row3 col151\" >nan</td>\n",
       "                        <td id=\"T_59267286_0b22_11ea_9a7a_80000208fe80row3_col152\" class=\"data row3 col152\" >nan</td>\n",
       "                        <td id=\"T_59267286_0b22_11ea_9a7a_80000208fe80row3_col153\" class=\"data row3 col153\" >nan</td>\n",
       "                        <td id=\"T_59267286_0b22_11ea_9a7a_80000208fe80row3_col154\" class=\"data row3 col154\" >nan</td>\n",
       "                        <td id=\"T_59267286_0b22_11ea_9a7a_80000208fe80row3_col155\" class=\"data row3 col155\" >nan</td>\n",
       "                        <td id=\"T_59267286_0b22_11ea_9a7a_80000208fe80row3_col156\" class=\"data row3 col156\" >nan</td>\n",
       "                        <td id=\"T_59267286_0b22_11ea_9a7a_80000208fe80row3_col157\" class=\"data row3 col157\" >nan</td>\n",
       "                        <td id=\"T_59267286_0b22_11ea_9a7a_80000208fe80row3_col158\" class=\"data row3 col158\" >nan</td>\n",
       "                        <td id=\"T_59267286_0b22_11ea_9a7a_80000208fe80row3_col159\" class=\"data row3 col159\" >nan</td>\n",
       "                        <td id=\"T_59267286_0b22_11ea_9a7a_80000208fe80row3_col160\" class=\"data row3 col160\" >nan</td>\n",
       "                        <td id=\"T_59267286_0b22_11ea_9a7a_80000208fe80row3_col161\" class=\"data row3 col161\" >nan</td>\n",
       "                        <td id=\"T_59267286_0b22_11ea_9a7a_80000208fe80row3_col162\" class=\"data row3 col162\" >nan</td>\n",
       "                        <td id=\"T_59267286_0b22_11ea_9a7a_80000208fe80row3_col163\" class=\"data row3 col163\" >nan</td>\n",
       "                        <td id=\"T_59267286_0b22_11ea_9a7a_80000208fe80row3_col164\" class=\"data row3 col164\" >nan</td>\n",
       "                        <td id=\"T_59267286_0b22_11ea_9a7a_80000208fe80row3_col165\" class=\"data row3 col165\" >nan</td>\n",
       "                        <td id=\"T_59267286_0b22_11ea_9a7a_80000208fe80row3_col166\" class=\"data row3 col166\" >nan</td>\n",
       "                        <td id=\"T_59267286_0b22_11ea_9a7a_80000208fe80row3_col167\" class=\"data row3 col167\" >nan</td>\n",
       "                        <td id=\"T_59267286_0b22_11ea_9a7a_80000208fe80row3_col168\" class=\"data row3 col168\" >nan</td>\n",
       "                        <td id=\"T_59267286_0b22_11ea_9a7a_80000208fe80row3_col169\" class=\"data row3 col169\" >nan</td>\n",
       "                        <td id=\"T_59267286_0b22_11ea_9a7a_80000208fe80row3_col170\" class=\"data row3 col170\" >nan</td>\n",
       "                        <td id=\"T_59267286_0b22_11ea_9a7a_80000208fe80row3_col171\" class=\"data row3 col171\" >nan</td>\n",
       "                        <td id=\"T_59267286_0b22_11ea_9a7a_80000208fe80row3_col172\" class=\"data row3 col172\" >nan</td>\n",
       "                        <td id=\"T_59267286_0b22_11ea_9a7a_80000208fe80row3_col173\" class=\"data row3 col173\" >nan</td>\n",
       "                        <td id=\"T_59267286_0b22_11ea_9a7a_80000208fe80row3_col174\" class=\"data row3 col174\" >nan</td>\n",
       "                        <td id=\"T_59267286_0b22_11ea_9a7a_80000208fe80row3_col175\" class=\"data row3 col175\" >nan</td>\n",
       "                        <td id=\"T_59267286_0b22_11ea_9a7a_80000208fe80row3_col176\" class=\"data row3 col176\" >nan</td>\n",
       "                        <td id=\"T_59267286_0b22_11ea_9a7a_80000208fe80row3_col177\" class=\"data row3 col177\" >nan</td>\n",
       "                        <td id=\"T_59267286_0b22_11ea_9a7a_80000208fe80row3_col178\" class=\"data row3 col178\" >nan</td>\n",
       "                        <td id=\"T_59267286_0b22_11ea_9a7a_80000208fe80row3_col179\" class=\"data row3 col179\" >nan</td>\n",
       "                        <td id=\"T_59267286_0b22_11ea_9a7a_80000208fe80row3_col180\" class=\"data row3 col180\" >nan</td>\n",
       "                        <td id=\"T_59267286_0b22_11ea_9a7a_80000208fe80row3_col181\" class=\"data row3 col181\" >nan</td>\n",
       "                        <td id=\"T_59267286_0b22_11ea_9a7a_80000208fe80row3_col182\" class=\"data row3 col182\" >nan</td>\n",
       "                        <td id=\"T_59267286_0b22_11ea_9a7a_80000208fe80row3_col183\" class=\"data row3 col183\" >nan</td>\n",
       "                        <td id=\"T_59267286_0b22_11ea_9a7a_80000208fe80row3_col184\" class=\"data row3 col184\" >nan</td>\n",
       "                        <td id=\"T_59267286_0b22_11ea_9a7a_80000208fe80row3_col185\" class=\"data row3 col185\" >nan</td>\n",
       "                        <td id=\"T_59267286_0b22_11ea_9a7a_80000208fe80row3_col186\" class=\"data row3 col186\" >nan</td>\n",
       "                        <td id=\"T_59267286_0b22_11ea_9a7a_80000208fe80row3_col187\" class=\"data row3 col187\" >nan</td>\n",
       "            </tr>\n",
       "            <tr>\n",
       "                                <td id=\"T_59267286_0b22_11ea_9a7a_80000208fe80row4_col0\" class=\"data row4 col0\" >12.8</td>\n",
       "                        <td id=\"T_59267286_0b22_11ea_9a7a_80000208fe80row4_col1\" class=\"data row4 col1\" >DeepLearning_grid_1_AutoML_20191119_211741_model_7</td>\n",
       "                        <td id=\"T_59267286_0b22_11ea_9a7a_80000208fe80row4_col2\" class=\"data row4 col2\" >nan</td>\n",
       "                        <td id=\"T_59267286_0b22_11ea_9a7a_80000208fe80row4_col3\" class=\"data row4 col3\" >nan</td>\n",
       "                        <td id=\"T_59267286_0b22_11ea_9a7a_80000208fe80row4_col4\" class=\"data row4 col4\" >nan</td>\n",
       "                        <td id=\"T_59267286_0b22_11ea_9a7a_80000208fe80row4_col5\" class=\"data row4 col5\" >nan</td>\n",
       "                        <td id=\"T_59267286_0b22_11ea_9a7a_80000208fe80row4_col6\" class=\"data row4 col6\" >nan</td>\n",
       "                        <td id=\"T_59267286_0b22_11ea_9a7a_80000208fe80row4_col7\" class=\"data row4 col7\" >nan</td>\n",
       "                        <td id=\"T_59267286_0b22_11ea_9a7a_80000208fe80row4_col8\" class=\"data row4 col8\" >nan</td>\n",
       "                        <td id=\"T_59267286_0b22_11ea_9a7a_80000208fe80row4_col9\" class=\"data row4 col9\" >nan</td>\n",
       "                        <td id=\"T_59267286_0b22_11ea_9a7a_80000208fe80row4_col10\" class=\"data row4 col10\" >nan</td>\n",
       "                        <td id=\"T_59267286_0b22_11ea_9a7a_80000208fe80row4_col11\" class=\"data row4 col11\" >nan</td>\n",
       "                        <td id=\"T_59267286_0b22_11ea_9a7a_80000208fe80row4_col12\" class=\"data row4 col12\" >nan</td>\n",
       "                        <td id=\"T_59267286_0b22_11ea_9a7a_80000208fe80row4_col13\" class=\"data row4 col13\" >nan</td>\n",
       "                        <td id=\"T_59267286_0b22_11ea_9a7a_80000208fe80row4_col14\" class=\"data row4 col14\" >nan</td>\n",
       "                        <td id=\"T_59267286_0b22_11ea_9a7a_80000208fe80row4_col15\" class=\"data row4 col15\" >nan</td>\n",
       "                        <td id=\"T_59267286_0b22_11ea_9a7a_80000208fe80row4_col16\" class=\"data row4 col16\" >nan</td>\n",
       "                        <td id=\"T_59267286_0b22_11ea_9a7a_80000208fe80row4_col17\" class=\"data row4 col17\" >nan</td>\n",
       "                        <td id=\"T_59267286_0b22_11ea_9a7a_80000208fe80row4_col18\" class=\"data row4 col18\" >nan</td>\n",
       "                        <td id=\"T_59267286_0b22_11ea_9a7a_80000208fe80row4_col19\" class=\"data row4 col19\" >nan</td>\n",
       "                        <td id=\"T_59267286_0b22_11ea_9a7a_80000208fe80row4_col20\" class=\"data row4 col20\" >nan</td>\n",
       "                        <td id=\"T_59267286_0b22_11ea_9a7a_80000208fe80row4_col21\" class=\"data row4 col21\" >nan</td>\n",
       "                        <td id=\"T_59267286_0b22_11ea_9a7a_80000208fe80row4_col22\" class=\"data row4 col22\" >nan</td>\n",
       "                        <td id=\"T_59267286_0b22_11ea_9a7a_80000208fe80row4_col23\" class=\"data row4 col23\" >nan</td>\n",
       "                        <td id=\"T_59267286_0b22_11ea_9a7a_80000208fe80row4_col24\" class=\"data row4 col24\" >nan</td>\n",
       "                        <td id=\"T_59267286_0b22_11ea_9a7a_80000208fe80row4_col25\" class=\"data row4 col25\" >nan</td>\n",
       "                        <td id=\"T_59267286_0b22_11ea_9a7a_80000208fe80row4_col26\" class=\"data row4 col26\" >nan</td>\n",
       "                        <td id=\"T_59267286_0b22_11ea_9a7a_80000208fe80row4_col27\" class=\"data row4 col27\" >nan</td>\n",
       "                        <td id=\"T_59267286_0b22_11ea_9a7a_80000208fe80row4_col28\" class=\"data row4 col28\" >nan</td>\n",
       "                        <td id=\"T_59267286_0b22_11ea_9a7a_80000208fe80row4_col29\" class=\"data row4 col29\" >nan</td>\n",
       "                        <td id=\"T_59267286_0b22_11ea_9a7a_80000208fe80row4_col30\" class=\"data row4 col30\" >nan</td>\n",
       "                        <td id=\"T_59267286_0b22_11ea_9a7a_80000208fe80row4_col31\" class=\"data row4 col31\" >nan</td>\n",
       "                        <td id=\"T_59267286_0b22_11ea_9a7a_80000208fe80row4_col32\" class=\"data row4 col32\" >nan</td>\n",
       "                        <td id=\"T_59267286_0b22_11ea_9a7a_80000208fe80row4_col33\" class=\"data row4 col33\" >nan</td>\n",
       "                        <td id=\"T_59267286_0b22_11ea_9a7a_80000208fe80row4_col34\" class=\"data row4 col34\" >nan</td>\n",
       "                        <td id=\"T_59267286_0b22_11ea_9a7a_80000208fe80row4_col35\" class=\"data row4 col35\" >nan</td>\n",
       "                        <td id=\"T_59267286_0b22_11ea_9a7a_80000208fe80row4_col36\" class=\"data row4 col36\" >nan</td>\n",
       "                        <td id=\"T_59267286_0b22_11ea_9a7a_80000208fe80row4_col37\" class=\"data row4 col37\" >nan</td>\n",
       "                        <td id=\"T_59267286_0b22_11ea_9a7a_80000208fe80row4_col38\" class=\"data row4 col38\" >nan</td>\n",
       "                        <td id=\"T_59267286_0b22_11ea_9a7a_80000208fe80row4_col39\" class=\"data row4 col39\" >nan</td>\n",
       "                        <td id=\"T_59267286_0b22_11ea_9a7a_80000208fe80row4_col40\" class=\"data row4 col40\" >nan</td>\n",
       "                        <td id=\"T_59267286_0b22_11ea_9a7a_80000208fe80row4_col41\" class=\"data row4 col41\" >nan</td>\n",
       "                        <td id=\"T_59267286_0b22_11ea_9a7a_80000208fe80row4_col42\" class=\"data row4 col42\" >nan</td>\n",
       "                        <td id=\"T_59267286_0b22_11ea_9a7a_80000208fe80row4_col43\" class=\"data row4 col43\" >nan</td>\n",
       "                        <td id=\"T_59267286_0b22_11ea_9a7a_80000208fe80row4_col44\" class=\"data row4 col44\" >nan</td>\n",
       "                        <td id=\"T_59267286_0b22_11ea_9a7a_80000208fe80row4_col45\" class=\"data row4 col45\" >nan</td>\n",
       "                        <td id=\"T_59267286_0b22_11ea_9a7a_80000208fe80row4_col46\" class=\"data row4 col46\" >nan</td>\n",
       "                        <td id=\"T_59267286_0b22_11ea_9a7a_80000208fe80row4_col47\" class=\"data row4 col47\" >nan</td>\n",
       "                        <td id=\"T_59267286_0b22_11ea_9a7a_80000208fe80row4_col48\" class=\"data row4 col48\" >nan</td>\n",
       "                        <td id=\"T_59267286_0b22_11ea_9a7a_80000208fe80row4_col49\" class=\"data row4 col49\" >nan</td>\n",
       "                        <td id=\"T_59267286_0b22_11ea_9a7a_80000208fe80row4_col50\" class=\"data row4 col50\" >nan</td>\n",
       "                        <td id=\"T_59267286_0b22_11ea_9a7a_80000208fe80row4_col51\" class=\"data row4 col51\" >nan</td>\n",
       "                        <td id=\"T_59267286_0b22_11ea_9a7a_80000208fe80row4_col52\" class=\"data row4 col52\" >nan</td>\n",
       "                        <td id=\"T_59267286_0b22_11ea_9a7a_80000208fe80row4_col53\" class=\"data row4 col53\" >nan</td>\n",
       "                        <td id=\"T_59267286_0b22_11ea_9a7a_80000208fe80row4_col54\" class=\"data row4 col54\" >nan</td>\n",
       "                        <td id=\"T_59267286_0b22_11ea_9a7a_80000208fe80row4_col55\" class=\"data row4 col55\" >nan</td>\n",
       "                        <td id=\"T_59267286_0b22_11ea_9a7a_80000208fe80row4_col56\" class=\"data row4 col56\" >nan</td>\n",
       "                        <td id=\"T_59267286_0b22_11ea_9a7a_80000208fe80row4_col57\" class=\"data row4 col57\" >nan</td>\n",
       "                        <td id=\"T_59267286_0b22_11ea_9a7a_80000208fe80row4_col58\" class=\"data row4 col58\" >nan</td>\n",
       "                        <td id=\"T_59267286_0b22_11ea_9a7a_80000208fe80row4_col59\" class=\"data row4 col59\" >nan</td>\n",
       "                        <td id=\"T_59267286_0b22_11ea_9a7a_80000208fe80row4_col60\" class=\"data row4 col60\" >nan</td>\n",
       "                        <td id=\"T_59267286_0b22_11ea_9a7a_80000208fe80row4_col61\" class=\"data row4 col61\" >nan</td>\n",
       "                        <td id=\"T_59267286_0b22_11ea_9a7a_80000208fe80row4_col62\" class=\"data row4 col62\" >nan</td>\n",
       "                        <td id=\"T_59267286_0b22_11ea_9a7a_80000208fe80row4_col63\" class=\"data row4 col63\" >nan</td>\n",
       "                        <td id=\"T_59267286_0b22_11ea_9a7a_80000208fe80row4_col64\" class=\"data row4 col64\" >nan</td>\n",
       "                        <td id=\"T_59267286_0b22_11ea_9a7a_80000208fe80row4_col65\" class=\"data row4 col65\" >nan</td>\n",
       "                        <td id=\"T_59267286_0b22_11ea_9a7a_80000208fe80row4_col66\" class=\"data row4 col66\" >nan</td>\n",
       "                        <td id=\"T_59267286_0b22_11ea_9a7a_80000208fe80row4_col67\" class=\"data row4 col67\" >nan</td>\n",
       "                        <td id=\"T_59267286_0b22_11ea_9a7a_80000208fe80row4_col68\" class=\"data row4 col68\" >nan</td>\n",
       "                        <td id=\"T_59267286_0b22_11ea_9a7a_80000208fe80row4_col69\" class=\"data row4 col69\" >nan</td>\n",
       "                        <td id=\"T_59267286_0b22_11ea_9a7a_80000208fe80row4_col70\" class=\"data row4 col70\" >nan</td>\n",
       "                        <td id=\"T_59267286_0b22_11ea_9a7a_80000208fe80row4_col71\" class=\"data row4 col71\" >nan</td>\n",
       "                        <td id=\"T_59267286_0b22_11ea_9a7a_80000208fe80row4_col72\" class=\"data row4 col72\" >nan</td>\n",
       "                        <td id=\"T_59267286_0b22_11ea_9a7a_80000208fe80row4_col73\" class=\"data row4 col73\" >nan</td>\n",
       "                        <td id=\"T_59267286_0b22_11ea_9a7a_80000208fe80row4_col74\" class=\"data row4 col74\" >nan</td>\n",
       "                        <td id=\"T_59267286_0b22_11ea_9a7a_80000208fe80row4_col75\" class=\"data row4 col75\" >nan</td>\n",
       "                        <td id=\"T_59267286_0b22_11ea_9a7a_80000208fe80row4_col76\" class=\"data row4 col76\" >nan</td>\n",
       "                        <td id=\"T_59267286_0b22_11ea_9a7a_80000208fe80row4_col77\" class=\"data row4 col77\" >nan</td>\n",
       "                        <td id=\"T_59267286_0b22_11ea_9a7a_80000208fe80row4_col78\" class=\"data row4 col78\" >nan</td>\n",
       "                        <td id=\"T_59267286_0b22_11ea_9a7a_80000208fe80row4_col79\" class=\"data row4 col79\" >nan</td>\n",
       "                        <td id=\"T_59267286_0b22_11ea_9a7a_80000208fe80row4_col80\" class=\"data row4 col80\" >nan</td>\n",
       "                        <td id=\"T_59267286_0b22_11ea_9a7a_80000208fe80row4_col81\" class=\"data row4 col81\" >nan</td>\n",
       "                        <td id=\"T_59267286_0b22_11ea_9a7a_80000208fe80row4_col82\" class=\"data row4 col82\" >nan</td>\n",
       "                        <td id=\"T_59267286_0b22_11ea_9a7a_80000208fe80row4_col83\" class=\"data row4 col83\" >nan</td>\n",
       "                        <td id=\"T_59267286_0b22_11ea_9a7a_80000208fe80row4_col84\" class=\"data row4 col84\" >nan</td>\n",
       "                        <td id=\"T_59267286_0b22_11ea_9a7a_80000208fe80row4_col85\" class=\"data row4 col85\" >nan</td>\n",
       "                        <td id=\"T_59267286_0b22_11ea_9a7a_80000208fe80row4_col86\" class=\"data row4 col86\" >nan</td>\n",
       "                        <td id=\"T_59267286_0b22_11ea_9a7a_80000208fe80row4_col87\" class=\"data row4 col87\" >nan</td>\n",
       "                        <td id=\"T_59267286_0b22_11ea_9a7a_80000208fe80row4_col88\" class=\"data row4 col88\" >nan</td>\n",
       "                        <td id=\"T_59267286_0b22_11ea_9a7a_80000208fe80row4_col89\" class=\"data row4 col89\" >nan</td>\n",
       "                        <td id=\"T_59267286_0b22_11ea_9a7a_80000208fe80row4_col90\" class=\"data row4 col90\" >nan</td>\n",
       "                        <td id=\"T_59267286_0b22_11ea_9a7a_80000208fe80row4_col91\" class=\"data row4 col91\" >nan</td>\n",
       "                        <td id=\"T_59267286_0b22_11ea_9a7a_80000208fe80row4_col92\" class=\"data row4 col92\" >nan</td>\n",
       "                        <td id=\"T_59267286_0b22_11ea_9a7a_80000208fe80row4_col93\" class=\"data row4 col93\" >nan</td>\n",
       "                        <td id=\"T_59267286_0b22_11ea_9a7a_80000208fe80row4_col94\" class=\"data row4 col94\" >nan</td>\n",
       "                        <td id=\"T_59267286_0b22_11ea_9a7a_80000208fe80row4_col95\" class=\"data row4 col95\" >nan</td>\n",
       "                        <td id=\"T_59267286_0b22_11ea_9a7a_80000208fe80row4_col96\" class=\"data row4 col96\" >nan</td>\n",
       "                        <td id=\"T_59267286_0b22_11ea_9a7a_80000208fe80row4_col97\" class=\"data row4 col97\" >nan</td>\n",
       "                        <td id=\"T_59267286_0b22_11ea_9a7a_80000208fe80row4_col98\" class=\"data row4 col98\" >nan</td>\n",
       "                        <td id=\"T_59267286_0b22_11ea_9a7a_80000208fe80row4_col99\" class=\"data row4 col99\" >nan</td>\n",
       "                        <td id=\"T_59267286_0b22_11ea_9a7a_80000208fe80row4_col100\" class=\"data row4 col100\" >nan</td>\n",
       "                        <td id=\"T_59267286_0b22_11ea_9a7a_80000208fe80row4_col101\" class=\"data row4 col101\" >nan</td>\n",
       "                        <td id=\"T_59267286_0b22_11ea_9a7a_80000208fe80row4_col102\" class=\"data row4 col102\" >nan</td>\n",
       "                        <td id=\"T_59267286_0b22_11ea_9a7a_80000208fe80row4_col103\" class=\"data row4 col103\" >nan</td>\n",
       "                        <td id=\"T_59267286_0b22_11ea_9a7a_80000208fe80row4_col104\" class=\"data row4 col104\" >nan</td>\n",
       "                        <td id=\"T_59267286_0b22_11ea_9a7a_80000208fe80row4_col105\" class=\"data row4 col105\" >nan</td>\n",
       "                        <td id=\"T_59267286_0b22_11ea_9a7a_80000208fe80row4_col106\" class=\"data row4 col106\" >nan</td>\n",
       "                        <td id=\"T_59267286_0b22_11ea_9a7a_80000208fe80row4_col107\" class=\"data row4 col107\" >nan</td>\n",
       "                        <td id=\"T_59267286_0b22_11ea_9a7a_80000208fe80row4_col108\" class=\"data row4 col108\" >nan</td>\n",
       "                        <td id=\"T_59267286_0b22_11ea_9a7a_80000208fe80row4_col109\" class=\"data row4 col109\" >nan</td>\n",
       "                        <td id=\"T_59267286_0b22_11ea_9a7a_80000208fe80row4_col110\" class=\"data row4 col110\" >nan</td>\n",
       "                        <td id=\"T_59267286_0b22_11ea_9a7a_80000208fe80row4_col111\" class=\"data row4 col111\" >nan</td>\n",
       "                        <td id=\"T_59267286_0b22_11ea_9a7a_80000208fe80row4_col112\" class=\"data row4 col112\" >nan</td>\n",
       "                        <td id=\"T_59267286_0b22_11ea_9a7a_80000208fe80row4_col113\" class=\"data row4 col113\" >nan</td>\n",
       "                        <td id=\"T_59267286_0b22_11ea_9a7a_80000208fe80row4_col114\" class=\"data row4 col114\" >nan</td>\n",
       "                        <td id=\"T_59267286_0b22_11ea_9a7a_80000208fe80row4_col115\" class=\"data row4 col115\" >nan</td>\n",
       "                        <td id=\"T_59267286_0b22_11ea_9a7a_80000208fe80row4_col116\" class=\"data row4 col116\" >nan</td>\n",
       "                        <td id=\"T_59267286_0b22_11ea_9a7a_80000208fe80row4_col117\" class=\"data row4 col117\" >nan</td>\n",
       "                        <td id=\"T_59267286_0b22_11ea_9a7a_80000208fe80row4_col118\" class=\"data row4 col118\" >nan</td>\n",
       "                        <td id=\"T_59267286_0b22_11ea_9a7a_80000208fe80row4_col119\" class=\"data row4 col119\" >nan</td>\n",
       "                        <td id=\"T_59267286_0b22_11ea_9a7a_80000208fe80row4_col120\" class=\"data row4 col120\" >nan</td>\n",
       "                        <td id=\"T_59267286_0b22_11ea_9a7a_80000208fe80row4_col121\" class=\"data row4 col121\" >nan</td>\n",
       "                        <td id=\"T_59267286_0b22_11ea_9a7a_80000208fe80row4_col122\" class=\"data row4 col122\" >nan</td>\n",
       "                        <td id=\"T_59267286_0b22_11ea_9a7a_80000208fe80row4_col123\" class=\"data row4 col123\" >nan</td>\n",
       "                        <td id=\"T_59267286_0b22_11ea_9a7a_80000208fe80row4_col124\" class=\"data row4 col124\" >nan</td>\n",
       "                        <td id=\"T_59267286_0b22_11ea_9a7a_80000208fe80row4_col125\" class=\"data row4 col125\" >nan</td>\n",
       "                        <td id=\"T_59267286_0b22_11ea_9a7a_80000208fe80row4_col126\" class=\"data row4 col126\" >nan</td>\n",
       "                        <td id=\"T_59267286_0b22_11ea_9a7a_80000208fe80row4_col127\" class=\"data row4 col127\" >nan</td>\n",
       "                        <td id=\"T_59267286_0b22_11ea_9a7a_80000208fe80row4_col128\" class=\"data row4 col128\" >nan</td>\n",
       "                        <td id=\"T_59267286_0b22_11ea_9a7a_80000208fe80row4_col129\" class=\"data row4 col129\" >nan</td>\n",
       "                        <td id=\"T_59267286_0b22_11ea_9a7a_80000208fe80row4_col130\" class=\"data row4 col130\" >nan</td>\n",
       "                        <td id=\"T_59267286_0b22_11ea_9a7a_80000208fe80row4_col131\" class=\"data row4 col131\" >nan</td>\n",
       "                        <td id=\"T_59267286_0b22_11ea_9a7a_80000208fe80row4_col132\" class=\"data row4 col132\" >nan</td>\n",
       "                        <td id=\"T_59267286_0b22_11ea_9a7a_80000208fe80row4_col133\" class=\"data row4 col133\" >nan</td>\n",
       "                        <td id=\"T_59267286_0b22_11ea_9a7a_80000208fe80row4_col134\" class=\"data row4 col134\" >nan</td>\n",
       "                        <td id=\"T_59267286_0b22_11ea_9a7a_80000208fe80row4_col135\" class=\"data row4 col135\" >nan</td>\n",
       "                        <td id=\"T_59267286_0b22_11ea_9a7a_80000208fe80row4_col136\" class=\"data row4 col136\" >nan</td>\n",
       "                        <td id=\"T_59267286_0b22_11ea_9a7a_80000208fe80row4_col137\" class=\"data row4 col137\" >nan</td>\n",
       "                        <td id=\"T_59267286_0b22_11ea_9a7a_80000208fe80row4_col138\" class=\"data row4 col138\" >nan</td>\n",
       "                        <td id=\"T_59267286_0b22_11ea_9a7a_80000208fe80row4_col139\" class=\"data row4 col139\" >nan</td>\n",
       "                        <td id=\"T_59267286_0b22_11ea_9a7a_80000208fe80row4_col140\" class=\"data row4 col140\" >nan</td>\n",
       "                        <td id=\"T_59267286_0b22_11ea_9a7a_80000208fe80row4_col141\" class=\"data row4 col141\" >nan</td>\n",
       "                        <td id=\"T_59267286_0b22_11ea_9a7a_80000208fe80row4_col142\" class=\"data row4 col142\" >nan</td>\n",
       "                        <td id=\"T_59267286_0b22_11ea_9a7a_80000208fe80row4_col143\" class=\"data row4 col143\" >nan</td>\n",
       "                        <td id=\"T_59267286_0b22_11ea_9a7a_80000208fe80row4_col144\" class=\"data row4 col144\" >nan</td>\n",
       "                        <td id=\"T_59267286_0b22_11ea_9a7a_80000208fe80row4_col145\" class=\"data row4 col145\" >nan</td>\n",
       "                        <td id=\"T_59267286_0b22_11ea_9a7a_80000208fe80row4_col146\" class=\"data row4 col146\" >nan</td>\n",
       "                        <td id=\"T_59267286_0b22_11ea_9a7a_80000208fe80row4_col147\" class=\"data row4 col147\" >nan</td>\n",
       "                        <td id=\"T_59267286_0b22_11ea_9a7a_80000208fe80row4_col148\" class=\"data row4 col148\" >nan</td>\n",
       "                        <td id=\"T_59267286_0b22_11ea_9a7a_80000208fe80row4_col149\" class=\"data row4 col149\" >nan</td>\n",
       "                        <td id=\"T_59267286_0b22_11ea_9a7a_80000208fe80row4_col150\" class=\"data row4 col150\" >nan</td>\n",
       "                        <td id=\"T_59267286_0b22_11ea_9a7a_80000208fe80row4_col151\" class=\"data row4 col151\" >nan</td>\n",
       "                        <td id=\"T_59267286_0b22_11ea_9a7a_80000208fe80row4_col152\" class=\"data row4 col152\" >nan</td>\n",
       "                        <td id=\"T_59267286_0b22_11ea_9a7a_80000208fe80row4_col153\" class=\"data row4 col153\" >nan</td>\n",
       "                        <td id=\"T_59267286_0b22_11ea_9a7a_80000208fe80row4_col154\" class=\"data row4 col154\" >nan</td>\n",
       "                        <td id=\"T_59267286_0b22_11ea_9a7a_80000208fe80row4_col155\" class=\"data row4 col155\" >nan</td>\n",
       "                        <td id=\"T_59267286_0b22_11ea_9a7a_80000208fe80row4_col156\" class=\"data row4 col156\" >nan</td>\n",
       "                        <td id=\"T_59267286_0b22_11ea_9a7a_80000208fe80row4_col157\" class=\"data row4 col157\" >nan</td>\n",
       "                        <td id=\"T_59267286_0b22_11ea_9a7a_80000208fe80row4_col158\" class=\"data row4 col158\" >nan</td>\n",
       "                        <td id=\"T_59267286_0b22_11ea_9a7a_80000208fe80row4_col159\" class=\"data row4 col159\" >nan</td>\n",
       "                        <td id=\"T_59267286_0b22_11ea_9a7a_80000208fe80row4_col160\" class=\"data row4 col160\" >nan</td>\n",
       "                        <td id=\"T_59267286_0b22_11ea_9a7a_80000208fe80row4_col161\" class=\"data row4 col161\" >nan</td>\n",
       "                        <td id=\"T_59267286_0b22_11ea_9a7a_80000208fe80row4_col162\" class=\"data row4 col162\" >nan</td>\n",
       "                        <td id=\"T_59267286_0b22_11ea_9a7a_80000208fe80row4_col163\" class=\"data row4 col163\" >nan</td>\n",
       "                        <td id=\"T_59267286_0b22_11ea_9a7a_80000208fe80row4_col164\" class=\"data row4 col164\" >nan</td>\n",
       "                        <td id=\"T_59267286_0b22_11ea_9a7a_80000208fe80row4_col165\" class=\"data row4 col165\" >nan</td>\n",
       "                        <td id=\"T_59267286_0b22_11ea_9a7a_80000208fe80row4_col166\" class=\"data row4 col166\" >nan</td>\n",
       "                        <td id=\"T_59267286_0b22_11ea_9a7a_80000208fe80row4_col167\" class=\"data row4 col167\" >nan</td>\n",
       "                        <td id=\"T_59267286_0b22_11ea_9a7a_80000208fe80row4_col168\" class=\"data row4 col168\" >nan</td>\n",
       "                        <td id=\"T_59267286_0b22_11ea_9a7a_80000208fe80row4_col169\" class=\"data row4 col169\" >nan</td>\n",
       "                        <td id=\"T_59267286_0b22_11ea_9a7a_80000208fe80row4_col170\" class=\"data row4 col170\" >nan</td>\n",
       "                        <td id=\"T_59267286_0b22_11ea_9a7a_80000208fe80row4_col171\" class=\"data row4 col171\" >nan</td>\n",
       "                        <td id=\"T_59267286_0b22_11ea_9a7a_80000208fe80row4_col172\" class=\"data row4 col172\" >nan</td>\n",
       "                        <td id=\"T_59267286_0b22_11ea_9a7a_80000208fe80row4_col173\" class=\"data row4 col173\" >nan</td>\n",
       "                        <td id=\"T_59267286_0b22_11ea_9a7a_80000208fe80row4_col174\" class=\"data row4 col174\" >nan</td>\n",
       "                        <td id=\"T_59267286_0b22_11ea_9a7a_80000208fe80row4_col175\" class=\"data row4 col175\" >nan</td>\n",
       "                        <td id=\"T_59267286_0b22_11ea_9a7a_80000208fe80row4_col176\" class=\"data row4 col176\" >nan</td>\n",
       "                        <td id=\"T_59267286_0b22_11ea_9a7a_80000208fe80row4_col177\" class=\"data row4 col177\" >nan</td>\n",
       "                        <td id=\"T_59267286_0b22_11ea_9a7a_80000208fe80row4_col178\" class=\"data row4 col178\" >nan</td>\n",
       "                        <td id=\"T_59267286_0b22_11ea_9a7a_80000208fe80row4_col179\" class=\"data row4 col179\" >nan</td>\n",
       "                        <td id=\"T_59267286_0b22_11ea_9a7a_80000208fe80row4_col180\" class=\"data row4 col180\" >nan</td>\n",
       "                        <td id=\"T_59267286_0b22_11ea_9a7a_80000208fe80row4_col181\" class=\"data row4 col181\" >nan</td>\n",
       "                        <td id=\"T_59267286_0b22_11ea_9a7a_80000208fe80row4_col182\" class=\"data row4 col182\" >nan</td>\n",
       "                        <td id=\"T_59267286_0b22_11ea_9a7a_80000208fe80row4_col183\" class=\"data row4 col183\" >nan</td>\n",
       "                        <td id=\"T_59267286_0b22_11ea_9a7a_80000208fe80row4_col184\" class=\"data row4 col184\" >nan</td>\n",
       "                        <td id=\"T_59267286_0b22_11ea_9a7a_80000208fe80row4_col185\" class=\"data row4 col185\" >nan</td>\n",
       "                        <td id=\"T_59267286_0b22_11ea_9a7a_80000208fe80row4_col186\" class=\"data row4 col186\" >nan</td>\n",
       "                        <td id=\"T_59267286_0b22_11ea_9a7a_80000208fe80row4_col187\" class=\"data row4 col187\" >nan</td>\n",
       "            </tr>\n",
       "            <tr>\n",
       "                                <td id=\"T_59267286_0b22_11ea_9a7a_80000208fe80row5_col0\" class=\"data row5 col0\" >16</td>\n",
       "                        <td id=\"T_59267286_0b22_11ea_9a7a_80000208fe80row5_col1\" class=\"data row5 col1\" >DeepLearning_grid_1_AutoML_20191120_001942_model_7</td>\n",
       "                        <td id=\"T_59267286_0b22_11ea_9a7a_80000208fe80row5_col2\" class=\"data row5 col2\" >nan</td>\n",
       "                        <td id=\"T_59267286_0b22_11ea_9a7a_80000208fe80row5_col3\" class=\"data row5 col3\" >nan</td>\n",
       "                        <td id=\"T_59267286_0b22_11ea_9a7a_80000208fe80row5_col4\" class=\"data row5 col4\" >nan</td>\n",
       "                        <td id=\"T_59267286_0b22_11ea_9a7a_80000208fe80row5_col5\" class=\"data row5 col5\" >nan</td>\n",
       "                        <td id=\"T_59267286_0b22_11ea_9a7a_80000208fe80row5_col6\" class=\"data row5 col6\" >nan</td>\n",
       "                        <td id=\"T_59267286_0b22_11ea_9a7a_80000208fe80row5_col7\" class=\"data row5 col7\" >nan</td>\n",
       "                        <td id=\"T_59267286_0b22_11ea_9a7a_80000208fe80row5_col8\" class=\"data row5 col8\" >nan</td>\n",
       "                        <td id=\"T_59267286_0b22_11ea_9a7a_80000208fe80row5_col9\" class=\"data row5 col9\" >nan</td>\n",
       "                        <td id=\"T_59267286_0b22_11ea_9a7a_80000208fe80row5_col10\" class=\"data row5 col10\" >nan</td>\n",
       "                        <td id=\"T_59267286_0b22_11ea_9a7a_80000208fe80row5_col11\" class=\"data row5 col11\" >nan</td>\n",
       "                        <td id=\"T_59267286_0b22_11ea_9a7a_80000208fe80row5_col12\" class=\"data row5 col12\" >nan</td>\n",
       "                        <td id=\"T_59267286_0b22_11ea_9a7a_80000208fe80row5_col13\" class=\"data row5 col13\" >nan</td>\n",
       "                        <td id=\"T_59267286_0b22_11ea_9a7a_80000208fe80row5_col14\" class=\"data row5 col14\" >nan</td>\n",
       "                        <td id=\"T_59267286_0b22_11ea_9a7a_80000208fe80row5_col15\" class=\"data row5 col15\" >nan</td>\n",
       "                        <td id=\"T_59267286_0b22_11ea_9a7a_80000208fe80row5_col16\" class=\"data row5 col16\" >nan</td>\n",
       "                        <td id=\"T_59267286_0b22_11ea_9a7a_80000208fe80row5_col17\" class=\"data row5 col17\" >nan</td>\n",
       "                        <td id=\"T_59267286_0b22_11ea_9a7a_80000208fe80row5_col18\" class=\"data row5 col18\" >nan</td>\n",
       "                        <td id=\"T_59267286_0b22_11ea_9a7a_80000208fe80row5_col19\" class=\"data row5 col19\" >nan</td>\n",
       "                        <td id=\"T_59267286_0b22_11ea_9a7a_80000208fe80row5_col20\" class=\"data row5 col20\" >nan</td>\n",
       "                        <td id=\"T_59267286_0b22_11ea_9a7a_80000208fe80row5_col21\" class=\"data row5 col21\" >nan</td>\n",
       "                        <td id=\"T_59267286_0b22_11ea_9a7a_80000208fe80row5_col22\" class=\"data row5 col22\" >nan</td>\n",
       "                        <td id=\"T_59267286_0b22_11ea_9a7a_80000208fe80row5_col23\" class=\"data row5 col23\" >nan</td>\n",
       "                        <td id=\"T_59267286_0b22_11ea_9a7a_80000208fe80row5_col24\" class=\"data row5 col24\" >nan</td>\n",
       "                        <td id=\"T_59267286_0b22_11ea_9a7a_80000208fe80row5_col25\" class=\"data row5 col25\" >nan</td>\n",
       "                        <td id=\"T_59267286_0b22_11ea_9a7a_80000208fe80row5_col26\" class=\"data row5 col26\" >nan</td>\n",
       "                        <td id=\"T_59267286_0b22_11ea_9a7a_80000208fe80row5_col27\" class=\"data row5 col27\" >nan</td>\n",
       "                        <td id=\"T_59267286_0b22_11ea_9a7a_80000208fe80row5_col28\" class=\"data row5 col28\" >nan</td>\n",
       "                        <td id=\"T_59267286_0b22_11ea_9a7a_80000208fe80row5_col29\" class=\"data row5 col29\" >nan</td>\n",
       "                        <td id=\"T_59267286_0b22_11ea_9a7a_80000208fe80row5_col30\" class=\"data row5 col30\" >nan</td>\n",
       "                        <td id=\"T_59267286_0b22_11ea_9a7a_80000208fe80row5_col31\" class=\"data row5 col31\" >nan</td>\n",
       "                        <td id=\"T_59267286_0b22_11ea_9a7a_80000208fe80row5_col32\" class=\"data row5 col32\" >nan</td>\n",
       "                        <td id=\"T_59267286_0b22_11ea_9a7a_80000208fe80row5_col33\" class=\"data row5 col33\" >nan</td>\n",
       "                        <td id=\"T_59267286_0b22_11ea_9a7a_80000208fe80row5_col34\" class=\"data row5 col34\" >nan</td>\n",
       "                        <td id=\"T_59267286_0b22_11ea_9a7a_80000208fe80row5_col35\" class=\"data row5 col35\" >nan</td>\n",
       "                        <td id=\"T_59267286_0b22_11ea_9a7a_80000208fe80row5_col36\" class=\"data row5 col36\" >nan</td>\n",
       "                        <td id=\"T_59267286_0b22_11ea_9a7a_80000208fe80row5_col37\" class=\"data row5 col37\" >nan</td>\n",
       "                        <td id=\"T_59267286_0b22_11ea_9a7a_80000208fe80row5_col38\" class=\"data row5 col38\" >nan</td>\n",
       "                        <td id=\"T_59267286_0b22_11ea_9a7a_80000208fe80row5_col39\" class=\"data row5 col39\" >nan</td>\n",
       "                        <td id=\"T_59267286_0b22_11ea_9a7a_80000208fe80row5_col40\" class=\"data row5 col40\" >nan</td>\n",
       "                        <td id=\"T_59267286_0b22_11ea_9a7a_80000208fe80row5_col41\" class=\"data row5 col41\" >nan</td>\n",
       "                        <td id=\"T_59267286_0b22_11ea_9a7a_80000208fe80row5_col42\" class=\"data row5 col42\" >nan</td>\n",
       "                        <td id=\"T_59267286_0b22_11ea_9a7a_80000208fe80row5_col43\" class=\"data row5 col43\" >nan</td>\n",
       "                        <td id=\"T_59267286_0b22_11ea_9a7a_80000208fe80row5_col44\" class=\"data row5 col44\" >nan</td>\n",
       "                        <td id=\"T_59267286_0b22_11ea_9a7a_80000208fe80row5_col45\" class=\"data row5 col45\" >nan</td>\n",
       "                        <td id=\"T_59267286_0b22_11ea_9a7a_80000208fe80row5_col46\" class=\"data row5 col46\" >nan</td>\n",
       "                        <td id=\"T_59267286_0b22_11ea_9a7a_80000208fe80row5_col47\" class=\"data row5 col47\" >nan</td>\n",
       "                        <td id=\"T_59267286_0b22_11ea_9a7a_80000208fe80row5_col48\" class=\"data row5 col48\" >nan</td>\n",
       "                        <td id=\"T_59267286_0b22_11ea_9a7a_80000208fe80row5_col49\" class=\"data row5 col49\" >nan</td>\n",
       "                        <td id=\"T_59267286_0b22_11ea_9a7a_80000208fe80row5_col50\" class=\"data row5 col50\" >nan</td>\n",
       "                        <td id=\"T_59267286_0b22_11ea_9a7a_80000208fe80row5_col51\" class=\"data row5 col51\" >nan</td>\n",
       "                        <td id=\"T_59267286_0b22_11ea_9a7a_80000208fe80row5_col52\" class=\"data row5 col52\" >nan</td>\n",
       "                        <td id=\"T_59267286_0b22_11ea_9a7a_80000208fe80row5_col53\" class=\"data row5 col53\" >nan</td>\n",
       "                        <td id=\"T_59267286_0b22_11ea_9a7a_80000208fe80row5_col54\" class=\"data row5 col54\" >nan</td>\n",
       "                        <td id=\"T_59267286_0b22_11ea_9a7a_80000208fe80row5_col55\" class=\"data row5 col55\" >nan</td>\n",
       "                        <td id=\"T_59267286_0b22_11ea_9a7a_80000208fe80row5_col56\" class=\"data row5 col56\" >nan</td>\n",
       "                        <td id=\"T_59267286_0b22_11ea_9a7a_80000208fe80row5_col57\" class=\"data row5 col57\" >nan</td>\n",
       "                        <td id=\"T_59267286_0b22_11ea_9a7a_80000208fe80row5_col58\" class=\"data row5 col58\" >nan</td>\n",
       "                        <td id=\"T_59267286_0b22_11ea_9a7a_80000208fe80row5_col59\" class=\"data row5 col59\" >nan</td>\n",
       "                        <td id=\"T_59267286_0b22_11ea_9a7a_80000208fe80row5_col60\" class=\"data row5 col60\" >nan</td>\n",
       "                        <td id=\"T_59267286_0b22_11ea_9a7a_80000208fe80row5_col61\" class=\"data row5 col61\" >nan</td>\n",
       "                        <td id=\"T_59267286_0b22_11ea_9a7a_80000208fe80row5_col62\" class=\"data row5 col62\" >nan</td>\n",
       "                        <td id=\"T_59267286_0b22_11ea_9a7a_80000208fe80row5_col63\" class=\"data row5 col63\" >nan</td>\n",
       "                        <td id=\"T_59267286_0b22_11ea_9a7a_80000208fe80row5_col64\" class=\"data row5 col64\" >nan</td>\n",
       "                        <td id=\"T_59267286_0b22_11ea_9a7a_80000208fe80row5_col65\" class=\"data row5 col65\" >nan</td>\n",
       "                        <td id=\"T_59267286_0b22_11ea_9a7a_80000208fe80row5_col66\" class=\"data row5 col66\" >nan</td>\n",
       "                        <td id=\"T_59267286_0b22_11ea_9a7a_80000208fe80row5_col67\" class=\"data row5 col67\" >nan</td>\n",
       "                        <td id=\"T_59267286_0b22_11ea_9a7a_80000208fe80row5_col68\" class=\"data row5 col68\" >nan</td>\n",
       "                        <td id=\"T_59267286_0b22_11ea_9a7a_80000208fe80row5_col69\" class=\"data row5 col69\" >nan</td>\n",
       "                        <td id=\"T_59267286_0b22_11ea_9a7a_80000208fe80row5_col70\" class=\"data row5 col70\" >nan</td>\n",
       "                        <td id=\"T_59267286_0b22_11ea_9a7a_80000208fe80row5_col71\" class=\"data row5 col71\" >nan</td>\n",
       "                        <td id=\"T_59267286_0b22_11ea_9a7a_80000208fe80row5_col72\" class=\"data row5 col72\" >nan</td>\n",
       "                        <td id=\"T_59267286_0b22_11ea_9a7a_80000208fe80row5_col73\" class=\"data row5 col73\" >nan</td>\n",
       "                        <td id=\"T_59267286_0b22_11ea_9a7a_80000208fe80row5_col74\" class=\"data row5 col74\" >nan</td>\n",
       "                        <td id=\"T_59267286_0b22_11ea_9a7a_80000208fe80row5_col75\" class=\"data row5 col75\" >nan</td>\n",
       "                        <td id=\"T_59267286_0b22_11ea_9a7a_80000208fe80row5_col76\" class=\"data row5 col76\" >nan</td>\n",
       "                        <td id=\"T_59267286_0b22_11ea_9a7a_80000208fe80row5_col77\" class=\"data row5 col77\" >nan</td>\n",
       "                        <td id=\"T_59267286_0b22_11ea_9a7a_80000208fe80row5_col78\" class=\"data row5 col78\" >nan</td>\n",
       "                        <td id=\"T_59267286_0b22_11ea_9a7a_80000208fe80row5_col79\" class=\"data row5 col79\" >nan</td>\n",
       "                        <td id=\"T_59267286_0b22_11ea_9a7a_80000208fe80row5_col80\" class=\"data row5 col80\" >nan</td>\n",
       "                        <td id=\"T_59267286_0b22_11ea_9a7a_80000208fe80row5_col81\" class=\"data row5 col81\" >nan</td>\n",
       "                        <td id=\"T_59267286_0b22_11ea_9a7a_80000208fe80row5_col82\" class=\"data row5 col82\" >nan</td>\n",
       "                        <td id=\"T_59267286_0b22_11ea_9a7a_80000208fe80row5_col83\" class=\"data row5 col83\" >nan</td>\n",
       "                        <td id=\"T_59267286_0b22_11ea_9a7a_80000208fe80row5_col84\" class=\"data row5 col84\" >nan</td>\n",
       "                        <td id=\"T_59267286_0b22_11ea_9a7a_80000208fe80row5_col85\" class=\"data row5 col85\" >nan</td>\n",
       "                        <td id=\"T_59267286_0b22_11ea_9a7a_80000208fe80row5_col86\" class=\"data row5 col86\" >nan</td>\n",
       "                        <td id=\"T_59267286_0b22_11ea_9a7a_80000208fe80row5_col87\" class=\"data row5 col87\" >nan</td>\n",
       "                        <td id=\"T_59267286_0b22_11ea_9a7a_80000208fe80row5_col88\" class=\"data row5 col88\" >nan</td>\n",
       "                        <td id=\"T_59267286_0b22_11ea_9a7a_80000208fe80row5_col89\" class=\"data row5 col89\" >nan</td>\n",
       "                        <td id=\"T_59267286_0b22_11ea_9a7a_80000208fe80row5_col90\" class=\"data row5 col90\" >nan</td>\n",
       "                        <td id=\"T_59267286_0b22_11ea_9a7a_80000208fe80row5_col91\" class=\"data row5 col91\" >nan</td>\n",
       "                        <td id=\"T_59267286_0b22_11ea_9a7a_80000208fe80row5_col92\" class=\"data row5 col92\" >nan</td>\n",
       "                        <td id=\"T_59267286_0b22_11ea_9a7a_80000208fe80row5_col93\" class=\"data row5 col93\" >nan</td>\n",
       "                        <td id=\"T_59267286_0b22_11ea_9a7a_80000208fe80row5_col94\" class=\"data row5 col94\" >nan</td>\n",
       "                        <td id=\"T_59267286_0b22_11ea_9a7a_80000208fe80row5_col95\" class=\"data row5 col95\" >nan</td>\n",
       "                        <td id=\"T_59267286_0b22_11ea_9a7a_80000208fe80row5_col96\" class=\"data row5 col96\" >nan</td>\n",
       "                        <td id=\"T_59267286_0b22_11ea_9a7a_80000208fe80row5_col97\" class=\"data row5 col97\" >nan</td>\n",
       "                        <td id=\"T_59267286_0b22_11ea_9a7a_80000208fe80row5_col98\" class=\"data row5 col98\" >nan</td>\n",
       "                        <td id=\"T_59267286_0b22_11ea_9a7a_80000208fe80row5_col99\" class=\"data row5 col99\" >nan</td>\n",
       "                        <td id=\"T_59267286_0b22_11ea_9a7a_80000208fe80row5_col100\" class=\"data row5 col100\" >nan</td>\n",
       "                        <td id=\"T_59267286_0b22_11ea_9a7a_80000208fe80row5_col101\" class=\"data row5 col101\" >nan</td>\n",
       "                        <td id=\"T_59267286_0b22_11ea_9a7a_80000208fe80row5_col102\" class=\"data row5 col102\" >nan</td>\n",
       "                        <td id=\"T_59267286_0b22_11ea_9a7a_80000208fe80row5_col103\" class=\"data row5 col103\" >nan</td>\n",
       "                        <td id=\"T_59267286_0b22_11ea_9a7a_80000208fe80row5_col104\" class=\"data row5 col104\" >nan</td>\n",
       "                        <td id=\"T_59267286_0b22_11ea_9a7a_80000208fe80row5_col105\" class=\"data row5 col105\" >nan</td>\n",
       "                        <td id=\"T_59267286_0b22_11ea_9a7a_80000208fe80row5_col106\" class=\"data row5 col106\" >nan</td>\n",
       "                        <td id=\"T_59267286_0b22_11ea_9a7a_80000208fe80row5_col107\" class=\"data row5 col107\" >nan</td>\n",
       "                        <td id=\"T_59267286_0b22_11ea_9a7a_80000208fe80row5_col108\" class=\"data row5 col108\" >nan</td>\n",
       "                        <td id=\"T_59267286_0b22_11ea_9a7a_80000208fe80row5_col109\" class=\"data row5 col109\" >nan</td>\n",
       "                        <td id=\"T_59267286_0b22_11ea_9a7a_80000208fe80row5_col110\" class=\"data row5 col110\" >nan</td>\n",
       "                        <td id=\"T_59267286_0b22_11ea_9a7a_80000208fe80row5_col111\" class=\"data row5 col111\" >nan</td>\n",
       "                        <td id=\"T_59267286_0b22_11ea_9a7a_80000208fe80row5_col112\" class=\"data row5 col112\" >nan</td>\n",
       "                        <td id=\"T_59267286_0b22_11ea_9a7a_80000208fe80row5_col113\" class=\"data row5 col113\" >nan</td>\n",
       "                        <td id=\"T_59267286_0b22_11ea_9a7a_80000208fe80row5_col114\" class=\"data row5 col114\" >nan</td>\n",
       "                        <td id=\"T_59267286_0b22_11ea_9a7a_80000208fe80row5_col115\" class=\"data row5 col115\" >nan</td>\n",
       "                        <td id=\"T_59267286_0b22_11ea_9a7a_80000208fe80row5_col116\" class=\"data row5 col116\" >nan</td>\n",
       "                        <td id=\"T_59267286_0b22_11ea_9a7a_80000208fe80row5_col117\" class=\"data row5 col117\" >nan</td>\n",
       "                        <td id=\"T_59267286_0b22_11ea_9a7a_80000208fe80row5_col118\" class=\"data row5 col118\" >nan</td>\n",
       "                        <td id=\"T_59267286_0b22_11ea_9a7a_80000208fe80row5_col119\" class=\"data row5 col119\" >nan</td>\n",
       "                        <td id=\"T_59267286_0b22_11ea_9a7a_80000208fe80row5_col120\" class=\"data row5 col120\" >nan</td>\n",
       "                        <td id=\"T_59267286_0b22_11ea_9a7a_80000208fe80row5_col121\" class=\"data row5 col121\" >nan</td>\n",
       "                        <td id=\"T_59267286_0b22_11ea_9a7a_80000208fe80row5_col122\" class=\"data row5 col122\" >nan</td>\n",
       "                        <td id=\"T_59267286_0b22_11ea_9a7a_80000208fe80row5_col123\" class=\"data row5 col123\" >nan</td>\n",
       "                        <td id=\"T_59267286_0b22_11ea_9a7a_80000208fe80row5_col124\" class=\"data row5 col124\" >nan</td>\n",
       "                        <td id=\"T_59267286_0b22_11ea_9a7a_80000208fe80row5_col125\" class=\"data row5 col125\" >nan</td>\n",
       "                        <td id=\"T_59267286_0b22_11ea_9a7a_80000208fe80row5_col126\" class=\"data row5 col126\" >nan</td>\n",
       "                        <td id=\"T_59267286_0b22_11ea_9a7a_80000208fe80row5_col127\" class=\"data row5 col127\" >nan</td>\n",
       "                        <td id=\"T_59267286_0b22_11ea_9a7a_80000208fe80row5_col128\" class=\"data row5 col128\" >nan</td>\n",
       "                        <td id=\"T_59267286_0b22_11ea_9a7a_80000208fe80row5_col129\" class=\"data row5 col129\" >nan</td>\n",
       "                        <td id=\"T_59267286_0b22_11ea_9a7a_80000208fe80row5_col130\" class=\"data row5 col130\" >nan</td>\n",
       "                        <td id=\"T_59267286_0b22_11ea_9a7a_80000208fe80row5_col131\" class=\"data row5 col131\" >nan</td>\n",
       "                        <td id=\"T_59267286_0b22_11ea_9a7a_80000208fe80row5_col132\" class=\"data row5 col132\" >nan</td>\n",
       "                        <td id=\"T_59267286_0b22_11ea_9a7a_80000208fe80row5_col133\" class=\"data row5 col133\" >nan</td>\n",
       "                        <td id=\"T_59267286_0b22_11ea_9a7a_80000208fe80row5_col134\" class=\"data row5 col134\" >nan</td>\n",
       "                        <td id=\"T_59267286_0b22_11ea_9a7a_80000208fe80row5_col135\" class=\"data row5 col135\" >nan</td>\n",
       "                        <td id=\"T_59267286_0b22_11ea_9a7a_80000208fe80row5_col136\" class=\"data row5 col136\" >nan</td>\n",
       "                        <td id=\"T_59267286_0b22_11ea_9a7a_80000208fe80row5_col137\" class=\"data row5 col137\" >nan</td>\n",
       "                        <td id=\"T_59267286_0b22_11ea_9a7a_80000208fe80row5_col138\" class=\"data row5 col138\" >nan</td>\n",
       "                        <td id=\"T_59267286_0b22_11ea_9a7a_80000208fe80row5_col139\" class=\"data row5 col139\" >nan</td>\n",
       "                        <td id=\"T_59267286_0b22_11ea_9a7a_80000208fe80row5_col140\" class=\"data row5 col140\" >nan</td>\n",
       "                        <td id=\"T_59267286_0b22_11ea_9a7a_80000208fe80row5_col141\" class=\"data row5 col141\" >nan</td>\n",
       "                        <td id=\"T_59267286_0b22_11ea_9a7a_80000208fe80row5_col142\" class=\"data row5 col142\" >nan</td>\n",
       "                        <td id=\"T_59267286_0b22_11ea_9a7a_80000208fe80row5_col143\" class=\"data row5 col143\" >nan</td>\n",
       "                        <td id=\"T_59267286_0b22_11ea_9a7a_80000208fe80row5_col144\" class=\"data row5 col144\" >nan</td>\n",
       "                        <td id=\"T_59267286_0b22_11ea_9a7a_80000208fe80row5_col145\" class=\"data row5 col145\" >nan</td>\n",
       "                        <td id=\"T_59267286_0b22_11ea_9a7a_80000208fe80row5_col146\" class=\"data row5 col146\" >nan</td>\n",
       "                        <td id=\"T_59267286_0b22_11ea_9a7a_80000208fe80row5_col147\" class=\"data row5 col147\" >nan</td>\n",
       "                        <td id=\"T_59267286_0b22_11ea_9a7a_80000208fe80row5_col148\" class=\"data row5 col148\" >nan</td>\n",
       "                        <td id=\"T_59267286_0b22_11ea_9a7a_80000208fe80row5_col149\" class=\"data row5 col149\" >nan</td>\n",
       "                        <td id=\"T_59267286_0b22_11ea_9a7a_80000208fe80row5_col150\" class=\"data row5 col150\" >nan</td>\n",
       "                        <td id=\"T_59267286_0b22_11ea_9a7a_80000208fe80row5_col151\" class=\"data row5 col151\" >nan</td>\n",
       "                        <td id=\"T_59267286_0b22_11ea_9a7a_80000208fe80row5_col152\" class=\"data row5 col152\" >nan</td>\n",
       "                        <td id=\"T_59267286_0b22_11ea_9a7a_80000208fe80row5_col153\" class=\"data row5 col153\" >nan</td>\n",
       "                        <td id=\"T_59267286_0b22_11ea_9a7a_80000208fe80row5_col154\" class=\"data row5 col154\" >nan</td>\n",
       "                        <td id=\"T_59267286_0b22_11ea_9a7a_80000208fe80row5_col155\" class=\"data row5 col155\" >nan</td>\n",
       "                        <td id=\"T_59267286_0b22_11ea_9a7a_80000208fe80row5_col156\" class=\"data row5 col156\" >nan</td>\n",
       "                        <td id=\"T_59267286_0b22_11ea_9a7a_80000208fe80row5_col157\" class=\"data row5 col157\" >nan</td>\n",
       "                        <td id=\"T_59267286_0b22_11ea_9a7a_80000208fe80row5_col158\" class=\"data row5 col158\" >nan</td>\n",
       "                        <td id=\"T_59267286_0b22_11ea_9a7a_80000208fe80row5_col159\" class=\"data row5 col159\" >nan</td>\n",
       "                        <td id=\"T_59267286_0b22_11ea_9a7a_80000208fe80row5_col160\" class=\"data row5 col160\" >nan</td>\n",
       "                        <td id=\"T_59267286_0b22_11ea_9a7a_80000208fe80row5_col161\" class=\"data row5 col161\" >nan</td>\n",
       "                        <td id=\"T_59267286_0b22_11ea_9a7a_80000208fe80row5_col162\" class=\"data row5 col162\" >nan</td>\n",
       "                        <td id=\"T_59267286_0b22_11ea_9a7a_80000208fe80row5_col163\" class=\"data row5 col163\" >nan</td>\n",
       "                        <td id=\"T_59267286_0b22_11ea_9a7a_80000208fe80row5_col164\" class=\"data row5 col164\" >nan</td>\n",
       "                        <td id=\"T_59267286_0b22_11ea_9a7a_80000208fe80row5_col165\" class=\"data row5 col165\" >nan</td>\n",
       "                        <td id=\"T_59267286_0b22_11ea_9a7a_80000208fe80row5_col166\" class=\"data row5 col166\" >nan</td>\n",
       "                        <td id=\"T_59267286_0b22_11ea_9a7a_80000208fe80row5_col167\" class=\"data row5 col167\" >nan</td>\n",
       "                        <td id=\"T_59267286_0b22_11ea_9a7a_80000208fe80row5_col168\" class=\"data row5 col168\" >nan</td>\n",
       "                        <td id=\"T_59267286_0b22_11ea_9a7a_80000208fe80row5_col169\" class=\"data row5 col169\" >nan</td>\n",
       "                        <td id=\"T_59267286_0b22_11ea_9a7a_80000208fe80row5_col170\" class=\"data row5 col170\" >nan</td>\n",
       "                        <td id=\"T_59267286_0b22_11ea_9a7a_80000208fe80row5_col171\" class=\"data row5 col171\" >nan</td>\n",
       "                        <td id=\"T_59267286_0b22_11ea_9a7a_80000208fe80row5_col172\" class=\"data row5 col172\" >nan</td>\n",
       "                        <td id=\"T_59267286_0b22_11ea_9a7a_80000208fe80row5_col173\" class=\"data row5 col173\" >nan</td>\n",
       "                        <td id=\"T_59267286_0b22_11ea_9a7a_80000208fe80row5_col174\" class=\"data row5 col174\" >nan</td>\n",
       "                        <td id=\"T_59267286_0b22_11ea_9a7a_80000208fe80row5_col175\" class=\"data row5 col175\" >nan</td>\n",
       "                        <td id=\"T_59267286_0b22_11ea_9a7a_80000208fe80row5_col176\" class=\"data row5 col176\" >nan</td>\n",
       "                        <td id=\"T_59267286_0b22_11ea_9a7a_80000208fe80row5_col177\" class=\"data row5 col177\" >nan</td>\n",
       "                        <td id=\"T_59267286_0b22_11ea_9a7a_80000208fe80row5_col178\" class=\"data row5 col178\" >nan</td>\n",
       "                        <td id=\"T_59267286_0b22_11ea_9a7a_80000208fe80row5_col179\" class=\"data row5 col179\" >nan</td>\n",
       "                        <td id=\"T_59267286_0b22_11ea_9a7a_80000208fe80row5_col180\" class=\"data row5 col180\" >nan</td>\n",
       "                        <td id=\"T_59267286_0b22_11ea_9a7a_80000208fe80row5_col181\" class=\"data row5 col181\" >nan</td>\n",
       "                        <td id=\"T_59267286_0b22_11ea_9a7a_80000208fe80row5_col182\" class=\"data row5 col182\" >nan</td>\n",
       "                        <td id=\"T_59267286_0b22_11ea_9a7a_80000208fe80row5_col183\" class=\"data row5 col183\" >nan</td>\n",
       "                        <td id=\"T_59267286_0b22_11ea_9a7a_80000208fe80row5_col184\" class=\"data row5 col184\" >nan</td>\n",
       "                        <td id=\"T_59267286_0b22_11ea_9a7a_80000208fe80row5_col185\" class=\"data row5 col185\" >nan</td>\n",
       "                        <td id=\"T_59267286_0b22_11ea_9a7a_80000208fe80row5_col186\" class=\"data row5 col186\" >nan</td>\n",
       "                        <td id=\"T_59267286_0b22_11ea_9a7a_80000208fe80row5_col187\" class=\"data row5 col187\" >nan</td>\n",
       "            </tr>\n",
       "    </tbody></table>"
      ],
      "text/plain": [
       "<pandas.io.formats.style.Styler at 0x2b01dc6aabe0>"
      ]
     },
     "metadata": {},
     "output_type": "display_data"
    },
    {
     "data": {
      "text/plain": [
       "'H2OAutoMLClean #1'"
      ]
     },
     "metadata": {},
     "output_type": "display_data"
    },
    {
     "data": {
      "text/html": [
       "<style  type=\"text/css\" >\n",
       "</style><table id=\"T_592f02a2_0b22_11ea_9a7a_80000208fe80\" ><thead>    <tr>        <th class=\"col_heading level0 col0\" >std</th>        <th class=\"col_heading level0 col1\" >test_acc</th>        <th class=\"col_heading level0 col2\" >train_acc</th>        <th class=\"col_heading level0 col3\" >time_err</th>        <th class=\"col_heading level0 col4\" >time_pre</th>        <th class=\"col_heading level0 col5\" >time_mod</th>    </tr></thead><tbody>\n",
       "                <tr>\n",
       "                                <td id=\"T_592f02a2_0b22_11ea_9a7a_80000208fe80row0_col0\" class=\"data row0 col0\" >0</td>\n",
       "                        <td id=\"T_592f02a2_0b22_11ea_9a7a_80000208fe80row0_col1\" class=\"data row0 col1\" >0.977</td>\n",
       "                        <td id=\"T_592f02a2_0b22_11ea_9a7a_80000208fe80row0_col2\" class=\"data row0 col2\" >1</td>\n",
       "                        <td id=\"T_592f02a2_0b22_11ea_9a7a_80000208fe80row0_col3\" class=\"data row0 col3\" >0.141</td>\n",
       "                        <td id=\"T_592f02a2_0b22_11ea_9a7a_80000208fe80row0_col4\" class=\"data row0 col4\" >0.001</td>\n",
       "                        <td id=\"T_592f02a2_0b22_11ea_9a7a_80000208fe80row0_col5\" class=\"data row0 col5\" >1872.15</td>\n",
       "            </tr>\n",
       "            <tr>\n",
       "                                <td id=\"T_592f02a2_0b22_11ea_9a7a_80000208fe80row1_col0\" class=\"data row1 col0\" >3.2</td>\n",
       "                        <td id=\"T_592f02a2_0b22_11ea_9a7a_80000208fe80row1_col1\" class=\"data row1 col1\" >0.907</td>\n",
       "                        <td id=\"T_592f02a2_0b22_11ea_9a7a_80000208fe80row1_col2\" class=\"data row1 col2\" >1</td>\n",
       "                        <td id=\"T_592f02a2_0b22_11ea_9a7a_80000208fe80row1_col3\" class=\"data row1 col3\" >0.106</td>\n",
       "                        <td id=\"T_592f02a2_0b22_11ea_9a7a_80000208fe80row1_col4\" class=\"data row1 col4\" >0.001</td>\n",
       "                        <td id=\"T_592f02a2_0b22_11ea_9a7a_80000208fe80row1_col5\" class=\"data row1 col5\" >1898.38</td>\n",
       "            </tr>\n",
       "            <tr>\n",
       "                                <td id=\"T_592f02a2_0b22_11ea_9a7a_80000208fe80row2_col0\" class=\"data row2 col0\" >6.4</td>\n",
       "                        <td id=\"T_592f02a2_0b22_11ea_9a7a_80000208fe80row2_col1\" class=\"data row2 col1\" >0.494</td>\n",
       "                        <td id=\"T_592f02a2_0b22_11ea_9a7a_80000208fe80row2_col2\" class=\"data row2 col2\" >1</td>\n",
       "                        <td id=\"T_592f02a2_0b22_11ea_9a7a_80000208fe80row2_col3\" class=\"data row2 col3\" >0.115</td>\n",
       "                        <td id=\"T_592f02a2_0b22_11ea_9a7a_80000208fe80row2_col4\" class=\"data row2 col4\" >0.002</td>\n",
       "                        <td id=\"T_592f02a2_0b22_11ea_9a7a_80000208fe80row2_col5\" class=\"data row2 col5\" >1856.43</td>\n",
       "            </tr>\n",
       "            <tr>\n",
       "                                <td id=\"T_592f02a2_0b22_11ea_9a7a_80000208fe80row3_col0\" class=\"data row3 col0\" >9.6</td>\n",
       "                        <td id=\"T_592f02a2_0b22_11ea_9a7a_80000208fe80row3_col1\" class=\"data row3 col1\" >0.381</td>\n",
       "                        <td id=\"T_592f02a2_0b22_11ea_9a7a_80000208fe80row3_col2\" class=\"data row3 col2\" >1</td>\n",
       "                        <td id=\"T_592f02a2_0b22_11ea_9a7a_80000208fe80row3_col3\" class=\"data row3 col3\" >0.105</td>\n",
       "                        <td id=\"T_592f02a2_0b22_11ea_9a7a_80000208fe80row3_col4\" class=\"data row3 col4\" >0.001</td>\n",
       "                        <td id=\"T_592f02a2_0b22_11ea_9a7a_80000208fe80row3_col5\" class=\"data row3 col5\" >1860.48</td>\n",
       "            </tr>\n",
       "            <tr>\n",
       "                                <td id=\"T_592f02a2_0b22_11ea_9a7a_80000208fe80row4_col0\" class=\"data row4 col0\" >12.8</td>\n",
       "                        <td id=\"T_592f02a2_0b22_11ea_9a7a_80000208fe80row4_col1\" class=\"data row4 col1\" >0.261</td>\n",
       "                        <td id=\"T_592f02a2_0b22_11ea_9a7a_80000208fe80row4_col2\" class=\"data row4 col2\" >1</td>\n",
       "                        <td id=\"T_592f02a2_0b22_11ea_9a7a_80000208fe80row4_col3\" class=\"data row4 col3\" >0.1</td>\n",
       "                        <td id=\"T_592f02a2_0b22_11ea_9a7a_80000208fe80row4_col4\" class=\"data row4 col4\" >0.001</td>\n",
       "                        <td id=\"T_592f02a2_0b22_11ea_9a7a_80000208fe80row4_col5\" class=\"data row4 col5\" >1866.76</td>\n",
       "            </tr>\n",
       "            <tr>\n",
       "                                <td id=\"T_592f02a2_0b22_11ea_9a7a_80000208fe80row5_col0\" class=\"data row5 col0\" >16</td>\n",
       "                        <td id=\"T_592f02a2_0b22_11ea_9a7a_80000208fe80row5_col1\" class=\"data row5 col1\" >0.195</td>\n",
       "                        <td id=\"T_592f02a2_0b22_11ea_9a7a_80000208fe80row5_col2\" class=\"data row5 col2\" >1</td>\n",
       "                        <td id=\"T_592f02a2_0b22_11ea_9a7a_80000208fe80row5_col3\" class=\"data row5 col3\" >0.1</td>\n",
       "                        <td id=\"T_592f02a2_0b22_11ea_9a7a_80000208fe80row5_col4\" class=\"data row5 col4\" >0.001</td>\n",
       "                        <td id=\"T_592f02a2_0b22_11ea_9a7a_80000208fe80row5_col5\" class=\"data row5 col5\" >1857.45</td>\n",
       "            </tr>\n",
       "    </tbody></table>"
      ],
      "text/plain": [
       "<pandas.io.formats.style.Styler at 0x2b01d868e748>"
      ]
     },
     "metadata": {},
     "output_type": "display_data"
    },
    {
     "data": {
      "text/html": [
       "<style  type=\"text/css\" >\n",
       "</style><table id=\"T_5933b630_0b22_11ea_9a7a_80000208fe80\" ><thead>    <tr>        <th class=\"col_heading level0 col0\" >std</th>        <th class=\"col_heading level0 col1\" >pipe_0</th>        <th class=\"col_heading level0 col2\" >pipe_1</th>        <th class=\"col_heading level0 col3\" >pipe_2</th>        <th class=\"col_heading level0 col4\" >pipe_3</th>        <th class=\"col_heading level0 col5\" >pipe_4</th>        <th class=\"col_heading level0 col6\" >pipe_5</th>        <th class=\"col_heading level0 col7\" >pipe_6</th>        <th class=\"col_heading level0 col8\" >pipe_7</th>        <th class=\"col_heading level0 col9\" >pipe_8</th>        <th class=\"col_heading level0 col10\" >pipe_9</th>        <th class=\"col_heading level0 col11\" >pipe_10</th>        <th class=\"col_heading level0 col12\" >pipe_11</th>        <th class=\"col_heading level0 col13\" >pipe_12</th>        <th class=\"col_heading level0 col14\" >pipe_13</th>        <th class=\"col_heading level0 col15\" >pipe_14</th>        <th class=\"col_heading level0 col16\" >pipe_15</th>        <th class=\"col_heading level0 col17\" >pipe_16</th>        <th class=\"col_heading level0 col18\" >pipe_17</th>        <th class=\"col_heading level0 col19\" >pipe_18</th>        <th class=\"col_heading level0 col20\" >pipe_19</th>        <th class=\"col_heading level0 col21\" >pipe_20</th>        <th class=\"col_heading level0 col22\" >pipe_21</th>        <th class=\"col_heading level0 col23\" >pipe_22</th>        <th class=\"col_heading level0 col24\" >pipe_23</th>        <th class=\"col_heading level0 col25\" >pipe_24</th>        <th class=\"col_heading level0 col26\" >pipe_25</th>        <th class=\"col_heading level0 col27\" >pipe_26</th>        <th class=\"col_heading level0 col28\" >pipe_27</th>        <th class=\"col_heading level0 col29\" >pipe_28</th>        <th class=\"col_heading level0 col30\" >pipe_29</th>        <th class=\"col_heading level0 col31\" >pipe_30</th>        <th class=\"col_heading level0 col32\" >pipe_31</th>        <th class=\"col_heading level0 col33\" >pipe_32</th>        <th class=\"col_heading level0 col34\" >pipe_33</th>        <th class=\"col_heading level0 col35\" >pipe_34</th>        <th class=\"col_heading level0 col36\" >pipe_35</th>        <th class=\"col_heading level0 col37\" >pipe_36</th>        <th class=\"col_heading level0 col38\" >pipe_37</th>        <th class=\"col_heading level0 col39\" >pipe_38</th>        <th class=\"col_heading level0 col40\" >pipe_39</th>        <th class=\"col_heading level0 col41\" >pipe_40</th>        <th class=\"col_heading level0 col42\" >pipe_41</th>        <th class=\"col_heading level0 col43\" >pipe_42</th>        <th class=\"col_heading level0 col44\" >pipe_43</th>        <th class=\"col_heading level0 col45\" >pipe_44</th>        <th class=\"col_heading level0 col46\" >pipe_45</th>        <th class=\"col_heading level0 col47\" >pipe_46</th>        <th class=\"col_heading level0 col48\" >pipe_47</th>        <th class=\"col_heading level0 col49\" >pipe_48</th>        <th class=\"col_heading level0 col50\" >pipe_49</th>        <th class=\"col_heading level0 col51\" >pipe_50</th>        <th class=\"col_heading level0 col52\" >pipe_51</th>        <th class=\"col_heading level0 col53\" >pipe_52</th>        <th class=\"col_heading level0 col54\" >pipe_53</th>        <th class=\"col_heading level0 col55\" >pipe_54</th>        <th class=\"col_heading level0 col56\" >pipe_55</th>        <th class=\"col_heading level0 col57\" >pipe_56</th>        <th class=\"col_heading level0 col58\" >pipe_57</th>        <th class=\"col_heading level0 col59\" >pipe_58</th>        <th class=\"col_heading level0 col60\" >pipe_59</th>        <th class=\"col_heading level0 col61\" >pipe_60</th>        <th class=\"col_heading level0 col62\" >pipe_61</th>        <th class=\"col_heading level0 col63\" >pipe_62</th>        <th class=\"col_heading level0 col64\" >pipe_63</th>        <th class=\"col_heading level0 col65\" >pipe_64</th>        <th class=\"col_heading level0 col66\" >pipe_65</th>        <th class=\"col_heading level0 col67\" >pipe_66</th>        <th class=\"col_heading level0 col68\" >pipe_67</th>        <th class=\"col_heading level0 col69\" >pipe_68</th>        <th class=\"col_heading level0 col70\" >pipe_69</th>        <th class=\"col_heading level0 col71\" >pipe_70</th>        <th class=\"col_heading level0 col72\" >pipe_71</th>        <th class=\"col_heading level0 col73\" >pipe_72</th>        <th class=\"col_heading level0 col74\" >pipe_73</th>        <th class=\"col_heading level0 col75\" >pipe_74</th>        <th class=\"col_heading level0 col76\" >pipe_75</th>        <th class=\"col_heading level0 col77\" >pipe_76</th>        <th class=\"col_heading level0 col78\" >pipe_77</th>        <th class=\"col_heading level0 col79\" >pipe_78</th>        <th class=\"col_heading level0 col80\" >pipe_79</th>        <th class=\"col_heading level0 col81\" >pipe_80</th>        <th class=\"col_heading level0 col82\" >pipe_81</th>        <th class=\"col_heading level0 col83\" >pipe_82</th>        <th class=\"col_heading level0 col84\" >pipe_83</th>        <th class=\"col_heading level0 col85\" >pipe_84</th>        <th class=\"col_heading level0 col86\" >pipe_85</th>        <th class=\"col_heading level0 col87\" >pipe_86</th>        <th class=\"col_heading level0 col88\" >pipe_87</th>        <th class=\"col_heading level0 col89\" >pipe_88</th>        <th class=\"col_heading level0 col90\" >pipe_89</th>        <th class=\"col_heading level0 col91\" >pipe_90</th>        <th class=\"col_heading level0 col92\" >pipe_91</th>        <th class=\"col_heading level0 col93\" >pipe_92</th>        <th class=\"col_heading level0 col94\" >pipe_93</th>        <th class=\"col_heading level0 col95\" >pipe_94</th>        <th class=\"col_heading level0 col96\" >pipe_95</th>        <th class=\"col_heading level0 col97\" >pipe_96</th>        <th class=\"col_heading level0 col98\" >pipe_97</th>        <th class=\"col_heading level0 col99\" >pipe_98</th>        <th class=\"col_heading level0 col100\" >pipe_99</th>        <th class=\"col_heading level0 col101\" >pipe_100</th>        <th class=\"col_heading level0 col102\" >pipe_101</th>        <th class=\"col_heading level0 col103\" >pipe_102</th>        <th class=\"col_heading level0 col104\" >pipe_103</th>        <th class=\"col_heading level0 col105\" >pipe_104</th>        <th class=\"col_heading level0 col106\" >pipe_105</th>        <th class=\"col_heading level0 col107\" >pipe_106</th>        <th class=\"col_heading level0 col108\" >pipe_107</th>        <th class=\"col_heading level0 col109\" >pipe_108</th>        <th class=\"col_heading level0 col110\" >pipe_109</th>        <th class=\"col_heading level0 col111\" >pipe_110</th>        <th class=\"col_heading level0 col112\" >pipe_111</th>        <th class=\"col_heading level0 col113\" >pipe_112</th>        <th class=\"col_heading level0 col114\" >pipe_113</th>        <th class=\"col_heading level0 col115\" >pipe_114</th>        <th class=\"col_heading level0 col116\" >pipe_115</th>        <th class=\"col_heading level0 col117\" >pipe_116</th>        <th class=\"col_heading level0 col118\" >pipe_117</th>        <th class=\"col_heading level0 col119\" >pipe_118</th>        <th class=\"col_heading level0 col120\" >pipe_119</th>        <th class=\"col_heading level0 col121\" >pipe_120</th>        <th class=\"col_heading level0 col122\" >pipe_121</th>        <th class=\"col_heading level0 col123\" >pipe_122</th>        <th class=\"col_heading level0 col124\" >pipe_123</th>        <th class=\"col_heading level0 col125\" >pipe_124</th>        <th class=\"col_heading level0 col126\" >pipe_125</th>        <th class=\"col_heading level0 col127\" >pipe_126</th>        <th class=\"col_heading level0 col128\" >pipe_127</th>        <th class=\"col_heading level0 col129\" >pipe_128</th>        <th class=\"col_heading level0 col130\" >pipe_129</th>        <th class=\"col_heading level0 col131\" >pipe_130</th>        <th class=\"col_heading level0 col132\" >pipe_131</th>        <th class=\"col_heading level0 col133\" >pipe_132</th>        <th class=\"col_heading level0 col134\" >pipe_133</th>        <th class=\"col_heading level0 col135\" >pipe_134</th>        <th class=\"col_heading level0 col136\" >pipe_135</th>        <th class=\"col_heading level0 col137\" >pipe_136</th>        <th class=\"col_heading level0 col138\" >pipe_137</th>        <th class=\"col_heading level0 col139\" >pipe_138</th>        <th class=\"col_heading level0 col140\" >pipe_139</th>        <th class=\"col_heading level0 col141\" >pipe_140</th>        <th class=\"col_heading level0 col142\" >pipe_141</th>        <th class=\"col_heading level0 col143\" >pipe_142</th>        <th class=\"col_heading level0 col144\" >pipe_143</th>        <th class=\"col_heading level0 col145\" >pipe_144</th>        <th class=\"col_heading level0 col146\" >pipe_145</th>        <th class=\"col_heading level0 col147\" >pipe_146</th>        <th class=\"col_heading level0 col148\" >pipe_147</th>        <th class=\"col_heading level0 col149\" >pipe_148</th>        <th class=\"col_heading level0 col150\" >pipe_149</th>        <th class=\"col_heading level0 col151\" >pipe_150</th>        <th class=\"col_heading level0 col152\" >pipe_151</th>        <th class=\"col_heading level0 col153\" >pipe_152</th>        <th class=\"col_heading level0 col154\" >pipe_153</th>        <th class=\"col_heading level0 col155\" >pipe_154</th>        <th class=\"col_heading level0 col156\" >pipe_155</th>        <th class=\"col_heading level0 col157\" >pipe_156</th>        <th class=\"col_heading level0 col158\" >pipe_157</th>        <th class=\"col_heading level0 col159\" >pipe_158</th>        <th class=\"col_heading level0 col160\" >pipe_159</th>        <th class=\"col_heading level0 col161\" >pipe_160</th>        <th class=\"col_heading level0 col162\" >pipe_161</th>        <th class=\"col_heading level0 col163\" >pipe_162</th>        <th class=\"col_heading level0 col164\" >pipe_163</th>        <th class=\"col_heading level0 col165\" >pipe_164</th>        <th class=\"col_heading level0 col166\" >pipe_165</th>        <th class=\"col_heading level0 col167\" >pipe_166</th>        <th class=\"col_heading level0 col168\" >pipe_167</th>        <th class=\"col_heading level0 col169\" >pipe_168</th>        <th class=\"col_heading level0 col170\" >pipe_169</th>        <th class=\"col_heading level0 col171\" >pipe_170</th>        <th class=\"col_heading level0 col172\" >pipe_171</th>        <th class=\"col_heading level0 col173\" >pipe_172</th>        <th class=\"col_heading level0 col174\" >pipe_173</th>        <th class=\"col_heading level0 col175\" >pipe_174</th>        <th class=\"col_heading level0 col176\" >pipe_175</th>        <th class=\"col_heading level0 col177\" >pipe_176</th>        <th class=\"col_heading level0 col178\" >pipe_177</th>        <th class=\"col_heading level0 col179\" >pipe_178</th>        <th class=\"col_heading level0 col180\" >pipe_179</th>        <th class=\"col_heading level0 col181\" >pipe_180</th>        <th class=\"col_heading level0 col182\" >pipe_181</th>        <th class=\"col_heading level0 col183\" >pipe_182</th>        <th class=\"col_heading level0 col184\" >pipe_183</th>        <th class=\"col_heading level0 col185\" >pipe_184</th>        <th class=\"col_heading level0 col186\" >pipe_185</th>        <th class=\"col_heading level0 col187\" >pipe_186</th>        <th class=\"col_heading level0 col188\" >pipe_187</th>    </tr></thead><tbody>\n",
       "                <tr>\n",
       "                                <td id=\"T_5933b630_0b22_11ea_9a7a_80000208fe80row0_col0\" class=\"data row0 col0\" >0</td>\n",
       "                        <td id=\"T_5933b630_0b22_11ea_9a7a_80000208fe80row0_col1\" class=\"data row0 col1\" >StackedEnsemble_BestOfFamily_AutoML_20191119_093437</td>\n",
       "                        <td id=\"T_5933b630_0b22_11ea_9a7a_80000208fe80row0_col2\" class=\"data row0 col2\" >DeepLearning_grid_1_AutoML_20191119_093437_model_9</td>\n",
       "                        <td id=\"T_5933b630_0b22_11ea_9a7a_80000208fe80row0_col3\" class=\"data row0 col3\" >GBM_grid_1_AutoML_20191119_093437_model_39</td>\n",
       "                        <td id=\"T_5933b630_0b22_11ea_9a7a_80000208fe80row0_col4\" class=\"data row0 col4\" >XGBoost_grid_1_AutoML_20191119_093437_model_13</td>\n",
       "                        <td id=\"T_5933b630_0b22_11ea_9a7a_80000208fe80row0_col5\" class=\"data row0 col5\" >DRF_1_AutoML_20191119_093437</td>\n",
       "                        <td id=\"T_5933b630_0b22_11ea_9a7a_80000208fe80row0_col6\" class=\"data row0 col6\" >XRT_1_AutoML_20191119_093437</td>\n",
       "                        <td id=\"T_5933b630_0b22_11ea_9a7a_80000208fe80row0_col7\" class=\"data row0 col7\" >GLM_grid_1_AutoML_20191119_093437_model_1</td>\n",
       "                        <td id=\"T_5933b630_0b22_11ea_9a7a_80000208fe80row0_col8\" class=\"data row0 col8\" >nan</td>\n",
       "                        <td id=\"T_5933b630_0b22_11ea_9a7a_80000208fe80row0_col9\" class=\"data row0 col9\" >nan</td>\n",
       "                        <td id=\"T_5933b630_0b22_11ea_9a7a_80000208fe80row0_col10\" class=\"data row0 col10\" >nan</td>\n",
       "                        <td id=\"T_5933b630_0b22_11ea_9a7a_80000208fe80row0_col11\" class=\"data row0 col11\" >nan</td>\n",
       "                        <td id=\"T_5933b630_0b22_11ea_9a7a_80000208fe80row0_col12\" class=\"data row0 col12\" >nan</td>\n",
       "                        <td id=\"T_5933b630_0b22_11ea_9a7a_80000208fe80row0_col13\" class=\"data row0 col13\" >nan</td>\n",
       "                        <td id=\"T_5933b630_0b22_11ea_9a7a_80000208fe80row0_col14\" class=\"data row0 col14\" >nan</td>\n",
       "                        <td id=\"T_5933b630_0b22_11ea_9a7a_80000208fe80row0_col15\" class=\"data row0 col15\" >nan</td>\n",
       "                        <td id=\"T_5933b630_0b22_11ea_9a7a_80000208fe80row0_col16\" class=\"data row0 col16\" >nan</td>\n",
       "                        <td id=\"T_5933b630_0b22_11ea_9a7a_80000208fe80row0_col17\" class=\"data row0 col17\" >nan</td>\n",
       "                        <td id=\"T_5933b630_0b22_11ea_9a7a_80000208fe80row0_col18\" class=\"data row0 col18\" >nan</td>\n",
       "                        <td id=\"T_5933b630_0b22_11ea_9a7a_80000208fe80row0_col19\" class=\"data row0 col19\" >nan</td>\n",
       "                        <td id=\"T_5933b630_0b22_11ea_9a7a_80000208fe80row0_col20\" class=\"data row0 col20\" >nan</td>\n",
       "                        <td id=\"T_5933b630_0b22_11ea_9a7a_80000208fe80row0_col21\" class=\"data row0 col21\" >nan</td>\n",
       "                        <td id=\"T_5933b630_0b22_11ea_9a7a_80000208fe80row0_col22\" class=\"data row0 col22\" >nan</td>\n",
       "                        <td id=\"T_5933b630_0b22_11ea_9a7a_80000208fe80row0_col23\" class=\"data row0 col23\" >nan</td>\n",
       "                        <td id=\"T_5933b630_0b22_11ea_9a7a_80000208fe80row0_col24\" class=\"data row0 col24\" >nan</td>\n",
       "                        <td id=\"T_5933b630_0b22_11ea_9a7a_80000208fe80row0_col25\" class=\"data row0 col25\" >nan</td>\n",
       "                        <td id=\"T_5933b630_0b22_11ea_9a7a_80000208fe80row0_col26\" class=\"data row0 col26\" >nan</td>\n",
       "                        <td id=\"T_5933b630_0b22_11ea_9a7a_80000208fe80row0_col27\" class=\"data row0 col27\" >nan</td>\n",
       "                        <td id=\"T_5933b630_0b22_11ea_9a7a_80000208fe80row0_col28\" class=\"data row0 col28\" >nan</td>\n",
       "                        <td id=\"T_5933b630_0b22_11ea_9a7a_80000208fe80row0_col29\" class=\"data row0 col29\" >nan</td>\n",
       "                        <td id=\"T_5933b630_0b22_11ea_9a7a_80000208fe80row0_col30\" class=\"data row0 col30\" >nan</td>\n",
       "                        <td id=\"T_5933b630_0b22_11ea_9a7a_80000208fe80row0_col31\" class=\"data row0 col31\" >nan</td>\n",
       "                        <td id=\"T_5933b630_0b22_11ea_9a7a_80000208fe80row0_col32\" class=\"data row0 col32\" >nan</td>\n",
       "                        <td id=\"T_5933b630_0b22_11ea_9a7a_80000208fe80row0_col33\" class=\"data row0 col33\" >nan</td>\n",
       "                        <td id=\"T_5933b630_0b22_11ea_9a7a_80000208fe80row0_col34\" class=\"data row0 col34\" >nan</td>\n",
       "                        <td id=\"T_5933b630_0b22_11ea_9a7a_80000208fe80row0_col35\" class=\"data row0 col35\" >nan</td>\n",
       "                        <td id=\"T_5933b630_0b22_11ea_9a7a_80000208fe80row0_col36\" class=\"data row0 col36\" >nan</td>\n",
       "                        <td id=\"T_5933b630_0b22_11ea_9a7a_80000208fe80row0_col37\" class=\"data row0 col37\" >nan</td>\n",
       "                        <td id=\"T_5933b630_0b22_11ea_9a7a_80000208fe80row0_col38\" class=\"data row0 col38\" >nan</td>\n",
       "                        <td id=\"T_5933b630_0b22_11ea_9a7a_80000208fe80row0_col39\" class=\"data row0 col39\" >nan</td>\n",
       "                        <td id=\"T_5933b630_0b22_11ea_9a7a_80000208fe80row0_col40\" class=\"data row0 col40\" >nan</td>\n",
       "                        <td id=\"T_5933b630_0b22_11ea_9a7a_80000208fe80row0_col41\" class=\"data row0 col41\" >nan</td>\n",
       "                        <td id=\"T_5933b630_0b22_11ea_9a7a_80000208fe80row0_col42\" class=\"data row0 col42\" >nan</td>\n",
       "                        <td id=\"T_5933b630_0b22_11ea_9a7a_80000208fe80row0_col43\" class=\"data row0 col43\" >nan</td>\n",
       "                        <td id=\"T_5933b630_0b22_11ea_9a7a_80000208fe80row0_col44\" class=\"data row0 col44\" >nan</td>\n",
       "                        <td id=\"T_5933b630_0b22_11ea_9a7a_80000208fe80row0_col45\" class=\"data row0 col45\" >nan</td>\n",
       "                        <td id=\"T_5933b630_0b22_11ea_9a7a_80000208fe80row0_col46\" class=\"data row0 col46\" >nan</td>\n",
       "                        <td id=\"T_5933b630_0b22_11ea_9a7a_80000208fe80row0_col47\" class=\"data row0 col47\" >nan</td>\n",
       "                        <td id=\"T_5933b630_0b22_11ea_9a7a_80000208fe80row0_col48\" class=\"data row0 col48\" >nan</td>\n",
       "                        <td id=\"T_5933b630_0b22_11ea_9a7a_80000208fe80row0_col49\" class=\"data row0 col49\" >nan</td>\n",
       "                        <td id=\"T_5933b630_0b22_11ea_9a7a_80000208fe80row0_col50\" class=\"data row0 col50\" >nan</td>\n",
       "                        <td id=\"T_5933b630_0b22_11ea_9a7a_80000208fe80row0_col51\" class=\"data row0 col51\" >nan</td>\n",
       "                        <td id=\"T_5933b630_0b22_11ea_9a7a_80000208fe80row0_col52\" class=\"data row0 col52\" >nan</td>\n",
       "                        <td id=\"T_5933b630_0b22_11ea_9a7a_80000208fe80row0_col53\" class=\"data row0 col53\" >nan</td>\n",
       "                        <td id=\"T_5933b630_0b22_11ea_9a7a_80000208fe80row0_col54\" class=\"data row0 col54\" >nan</td>\n",
       "                        <td id=\"T_5933b630_0b22_11ea_9a7a_80000208fe80row0_col55\" class=\"data row0 col55\" >nan</td>\n",
       "                        <td id=\"T_5933b630_0b22_11ea_9a7a_80000208fe80row0_col56\" class=\"data row0 col56\" >nan</td>\n",
       "                        <td id=\"T_5933b630_0b22_11ea_9a7a_80000208fe80row0_col57\" class=\"data row0 col57\" >nan</td>\n",
       "                        <td id=\"T_5933b630_0b22_11ea_9a7a_80000208fe80row0_col58\" class=\"data row0 col58\" >nan</td>\n",
       "                        <td id=\"T_5933b630_0b22_11ea_9a7a_80000208fe80row0_col59\" class=\"data row0 col59\" >nan</td>\n",
       "                        <td id=\"T_5933b630_0b22_11ea_9a7a_80000208fe80row0_col60\" class=\"data row0 col60\" >nan</td>\n",
       "                        <td id=\"T_5933b630_0b22_11ea_9a7a_80000208fe80row0_col61\" class=\"data row0 col61\" >nan</td>\n",
       "                        <td id=\"T_5933b630_0b22_11ea_9a7a_80000208fe80row0_col62\" class=\"data row0 col62\" >nan</td>\n",
       "                        <td id=\"T_5933b630_0b22_11ea_9a7a_80000208fe80row0_col63\" class=\"data row0 col63\" >nan</td>\n",
       "                        <td id=\"T_5933b630_0b22_11ea_9a7a_80000208fe80row0_col64\" class=\"data row0 col64\" >nan</td>\n",
       "                        <td id=\"T_5933b630_0b22_11ea_9a7a_80000208fe80row0_col65\" class=\"data row0 col65\" >nan</td>\n",
       "                        <td id=\"T_5933b630_0b22_11ea_9a7a_80000208fe80row0_col66\" class=\"data row0 col66\" >nan</td>\n",
       "                        <td id=\"T_5933b630_0b22_11ea_9a7a_80000208fe80row0_col67\" class=\"data row0 col67\" >nan</td>\n",
       "                        <td id=\"T_5933b630_0b22_11ea_9a7a_80000208fe80row0_col68\" class=\"data row0 col68\" >nan</td>\n",
       "                        <td id=\"T_5933b630_0b22_11ea_9a7a_80000208fe80row0_col69\" class=\"data row0 col69\" >nan</td>\n",
       "                        <td id=\"T_5933b630_0b22_11ea_9a7a_80000208fe80row0_col70\" class=\"data row0 col70\" >nan</td>\n",
       "                        <td id=\"T_5933b630_0b22_11ea_9a7a_80000208fe80row0_col71\" class=\"data row0 col71\" >nan</td>\n",
       "                        <td id=\"T_5933b630_0b22_11ea_9a7a_80000208fe80row0_col72\" class=\"data row0 col72\" >nan</td>\n",
       "                        <td id=\"T_5933b630_0b22_11ea_9a7a_80000208fe80row0_col73\" class=\"data row0 col73\" >nan</td>\n",
       "                        <td id=\"T_5933b630_0b22_11ea_9a7a_80000208fe80row0_col74\" class=\"data row0 col74\" >nan</td>\n",
       "                        <td id=\"T_5933b630_0b22_11ea_9a7a_80000208fe80row0_col75\" class=\"data row0 col75\" >nan</td>\n",
       "                        <td id=\"T_5933b630_0b22_11ea_9a7a_80000208fe80row0_col76\" class=\"data row0 col76\" >nan</td>\n",
       "                        <td id=\"T_5933b630_0b22_11ea_9a7a_80000208fe80row0_col77\" class=\"data row0 col77\" >nan</td>\n",
       "                        <td id=\"T_5933b630_0b22_11ea_9a7a_80000208fe80row0_col78\" class=\"data row0 col78\" >nan</td>\n",
       "                        <td id=\"T_5933b630_0b22_11ea_9a7a_80000208fe80row0_col79\" class=\"data row0 col79\" >nan</td>\n",
       "                        <td id=\"T_5933b630_0b22_11ea_9a7a_80000208fe80row0_col80\" class=\"data row0 col80\" >nan</td>\n",
       "                        <td id=\"T_5933b630_0b22_11ea_9a7a_80000208fe80row0_col81\" class=\"data row0 col81\" >nan</td>\n",
       "                        <td id=\"T_5933b630_0b22_11ea_9a7a_80000208fe80row0_col82\" class=\"data row0 col82\" >nan</td>\n",
       "                        <td id=\"T_5933b630_0b22_11ea_9a7a_80000208fe80row0_col83\" class=\"data row0 col83\" >nan</td>\n",
       "                        <td id=\"T_5933b630_0b22_11ea_9a7a_80000208fe80row0_col84\" class=\"data row0 col84\" >nan</td>\n",
       "                        <td id=\"T_5933b630_0b22_11ea_9a7a_80000208fe80row0_col85\" class=\"data row0 col85\" >nan</td>\n",
       "                        <td id=\"T_5933b630_0b22_11ea_9a7a_80000208fe80row0_col86\" class=\"data row0 col86\" >nan</td>\n",
       "                        <td id=\"T_5933b630_0b22_11ea_9a7a_80000208fe80row0_col87\" class=\"data row0 col87\" >nan</td>\n",
       "                        <td id=\"T_5933b630_0b22_11ea_9a7a_80000208fe80row0_col88\" class=\"data row0 col88\" >nan</td>\n",
       "                        <td id=\"T_5933b630_0b22_11ea_9a7a_80000208fe80row0_col89\" class=\"data row0 col89\" >nan</td>\n",
       "                        <td id=\"T_5933b630_0b22_11ea_9a7a_80000208fe80row0_col90\" class=\"data row0 col90\" >nan</td>\n",
       "                        <td id=\"T_5933b630_0b22_11ea_9a7a_80000208fe80row0_col91\" class=\"data row0 col91\" >nan</td>\n",
       "                        <td id=\"T_5933b630_0b22_11ea_9a7a_80000208fe80row0_col92\" class=\"data row0 col92\" >nan</td>\n",
       "                        <td id=\"T_5933b630_0b22_11ea_9a7a_80000208fe80row0_col93\" class=\"data row0 col93\" >nan</td>\n",
       "                        <td id=\"T_5933b630_0b22_11ea_9a7a_80000208fe80row0_col94\" class=\"data row0 col94\" >nan</td>\n",
       "                        <td id=\"T_5933b630_0b22_11ea_9a7a_80000208fe80row0_col95\" class=\"data row0 col95\" >nan</td>\n",
       "                        <td id=\"T_5933b630_0b22_11ea_9a7a_80000208fe80row0_col96\" class=\"data row0 col96\" >nan</td>\n",
       "                        <td id=\"T_5933b630_0b22_11ea_9a7a_80000208fe80row0_col97\" class=\"data row0 col97\" >nan</td>\n",
       "                        <td id=\"T_5933b630_0b22_11ea_9a7a_80000208fe80row0_col98\" class=\"data row0 col98\" >nan</td>\n",
       "                        <td id=\"T_5933b630_0b22_11ea_9a7a_80000208fe80row0_col99\" class=\"data row0 col99\" >nan</td>\n",
       "                        <td id=\"T_5933b630_0b22_11ea_9a7a_80000208fe80row0_col100\" class=\"data row0 col100\" >nan</td>\n",
       "                        <td id=\"T_5933b630_0b22_11ea_9a7a_80000208fe80row0_col101\" class=\"data row0 col101\" >nan</td>\n",
       "                        <td id=\"T_5933b630_0b22_11ea_9a7a_80000208fe80row0_col102\" class=\"data row0 col102\" >nan</td>\n",
       "                        <td id=\"T_5933b630_0b22_11ea_9a7a_80000208fe80row0_col103\" class=\"data row0 col103\" >nan</td>\n",
       "                        <td id=\"T_5933b630_0b22_11ea_9a7a_80000208fe80row0_col104\" class=\"data row0 col104\" >nan</td>\n",
       "                        <td id=\"T_5933b630_0b22_11ea_9a7a_80000208fe80row0_col105\" class=\"data row0 col105\" >nan</td>\n",
       "                        <td id=\"T_5933b630_0b22_11ea_9a7a_80000208fe80row0_col106\" class=\"data row0 col106\" >nan</td>\n",
       "                        <td id=\"T_5933b630_0b22_11ea_9a7a_80000208fe80row0_col107\" class=\"data row0 col107\" >nan</td>\n",
       "                        <td id=\"T_5933b630_0b22_11ea_9a7a_80000208fe80row0_col108\" class=\"data row0 col108\" >nan</td>\n",
       "                        <td id=\"T_5933b630_0b22_11ea_9a7a_80000208fe80row0_col109\" class=\"data row0 col109\" >nan</td>\n",
       "                        <td id=\"T_5933b630_0b22_11ea_9a7a_80000208fe80row0_col110\" class=\"data row0 col110\" >nan</td>\n",
       "                        <td id=\"T_5933b630_0b22_11ea_9a7a_80000208fe80row0_col111\" class=\"data row0 col111\" >nan</td>\n",
       "                        <td id=\"T_5933b630_0b22_11ea_9a7a_80000208fe80row0_col112\" class=\"data row0 col112\" >nan</td>\n",
       "                        <td id=\"T_5933b630_0b22_11ea_9a7a_80000208fe80row0_col113\" class=\"data row0 col113\" >nan</td>\n",
       "                        <td id=\"T_5933b630_0b22_11ea_9a7a_80000208fe80row0_col114\" class=\"data row0 col114\" >nan</td>\n",
       "                        <td id=\"T_5933b630_0b22_11ea_9a7a_80000208fe80row0_col115\" class=\"data row0 col115\" >nan</td>\n",
       "                        <td id=\"T_5933b630_0b22_11ea_9a7a_80000208fe80row0_col116\" class=\"data row0 col116\" >nan</td>\n",
       "                        <td id=\"T_5933b630_0b22_11ea_9a7a_80000208fe80row0_col117\" class=\"data row0 col117\" >nan</td>\n",
       "                        <td id=\"T_5933b630_0b22_11ea_9a7a_80000208fe80row0_col118\" class=\"data row0 col118\" >nan</td>\n",
       "                        <td id=\"T_5933b630_0b22_11ea_9a7a_80000208fe80row0_col119\" class=\"data row0 col119\" >nan</td>\n",
       "                        <td id=\"T_5933b630_0b22_11ea_9a7a_80000208fe80row0_col120\" class=\"data row0 col120\" >nan</td>\n",
       "                        <td id=\"T_5933b630_0b22_11ea_9a7a_80000208fe80row0_col121\" class=\"data row0 col121\" >nan</td>\n",
       "                        <td id=\"T_5933b630_0b22_11ea_9a7a_80000208fe80row0_col122\" class=\"data row0 col122\" >nan</td>\n",
       "                        <td id=\"T_5933b630_0b22_11ea_9a7a_80000208fe80row0_col123\" class=\"data row0 col123\" >nan</td>\n",
       "                        <td id=\"T_5933b630_0b22_11ea_9a7a_80000208fe80row0_col124\" class=\"data row0 col124\" >nan</td>\n",
       "                        <td id=\"T_5933b630_0b22_11ea_9a7a_80000208fe80row0_col125\" class=\"data row0 col125\" >nan</td>\n",
       "                        <td id=\"T_5933b630_0b22_11ea_9a7a_80000208fe80row0_col126\" class=\"data row0 col126\" >nan</td>\n",
       "                        <td id=\"T_5933b630_0b22_11ea_9a7a_80000208fe80row0_col127\" class=\"data row0 col127\" >nan</td>\n",
       "                        <td id=\"T_5933b630_0b22_11ea_9a7a_80000208fe80row0_col128\" class=\"data row0 col128\" >nan</td>\n",
       "                        <td id=\"T_5933b630_0b22_11ea_9a7a_80000208fe80row0_col129\" class=\"data row0 col129\" >nan</td>\n",
       "                        <td id=\"T_5933b630_0b22_11ea_9a7a_80000208fe80row0_col130\" class=\"data row0 col130\" >nan</td>\n",
       "                        <td id=\"T_5933b630_0b22_11ea_9a7a_80000208fe80row0_col131\" class=\"data row0 col131\" >nan</td>\n",
       "                        <td id=\"T_5933b630_0b22_11ea_9a7a_80000208fe80row0_col132\" class=\"data row0 col132\" >nan</td>\n",
       "                        <td id=\"T_5933b630_0b22_11ea_9a7a_80000208fe80row0_col133\" class=\"data row0 col133\" >nan</td>\n",
       "                        <td id=\"T_5933b630_0b22_11ea_9a7a_80000208fe80row0_col134\" class=\"data row0 col134\" >nan</td>\n",
       "                        <td id=\"T_5933b630_0b22_11ea_9a7a_80000208fe80row0_col135\" class=\"data row0 col135\" >nan</td>\n",
       "                        <td id=\"T_5933b630_0b22_11ea_9a7a_80000208fe80row0_col136\" class=\"data row0 col136\" >nan</td>\n",
       "                        <td id=\"T_5933b630_0b22_11ea_9a7a_80000208fe80row0_col137\" class=\"data row0 col137\" >nan</td>\n",
       "                        <td id=\"T_5933b630_0b22_11ea_9a7a_80000208fe80row0_col138\" class=\"data row0 col138\" >nan</td>\n",
       "                        <td id=\"T_5933b630_0b22_11ea_9a7a_80000208fe80row0_col139\" class=\"data row0 col139\" >nan</td>\n",
       "                        <td id=\"T_5933b630_0b22_11ea_9a7a_80000208fe80row0_col140\" class=\"data row0 col140\" >nan</td>\n",
       "                        <td id=\"T_5933b630_0b22_11ea_9a7a_80000208fe80row0_col141\" class=\"data row0 col141\" >nan</td>\n",
       "                        <td id=\"T_5933b630_0b22_11ea_9a7a_80000208fe80row0_col142\" class=\"data row0 col142\" >nan</td>\n",
       "                        <td id=\"T_5933b630_0b22_11ea_9a7a_80000208fe80row0_col143\" class=\"data row0 col143\" >nan</td>\n",
       "                        <td id=\"T_5933b630_0b22_11ea_9a7a_80000208fe80row0_col144\" class=\"data row0 col144\" >nan</td>\n",
       "                        <td id=\"T_5933b630_0b22_11ea_9a7a_80000208fe80row0_col145\" class=\"data row0 col145\" >nan</td>\n",
       "                        <td id=\"T_5933b630_0b22_11ea_9a7a_80000208fe80row0_col146\" class=\"data row0 col146\" >nan</td>\n",
       "                        <td id=\"T_5933b630_0b22_11ea_9a7a_80000208fe80row0_col147\" class=\"data row0 col147\" >nan</td>\n",
       "                        <td id=\"T_5933b630_0b22_11ea_9a7a_80000208fe80row0_col148\" class=\"data row0 col148\" >nan</td>\n",
       "                        <td id=\"T_5933b630_0b22_11ea_9a7a_80000208fe80row0_col149\" class=\"data row0 col149\" >nan</td>\n",
       "                        <td id=\"T_5933b630_0b22_11ea_9a7a_80000208fe80row0_col150\" class=\"data row0 col150\" >nan</td>\n",
       "                        <td id=\"T_5933b630_0b22_11ea_9a7a_80000208fe80row0_col151\" class=\"data row0 col151\" >nan</td>\n",
       "                        <td id=\"T_5933b630_0b22_11ea_9a7a_80000208fe80row0_col152\" class=\"data row0 col152\" >nan</td>\n",
       "                        <td id=\"T_5933b630_0b22_11ea_9a7a_80000208fe80row0_col153\" class=\"data row0 col153\" >nan</td>\n",
       "                        <td id=\"T_5933b630_0b22_11ea_9a7a_80000208fe80row0_col154\" class=\"data row0 col154\" >nan</td>\n",
       "                        <td id=\"T_5933b630_0b22_11ea_9a7a_80000208fe80row0_col155\" class=\"data row0 col155\" >nan</td>\n",
       "                        <td id=\"T_5933b630_0b22_11ea_9a7a_80000208fe80row0_col156\" class=\"data row0 col156\" >nan</td>\n",
       "                        <td id=\"T_5933b630_0b22_11ea_9a7a_80000208fe80row0_col157\" class=\"data row0 col157\" >nan</td>\n",
       "                        <td id=\"T_5933b630_0b22_11ea_9a7a_80000208fe80row0_col158\" class=\"data row0 col158\" >nan</td>\n",
       "                        <td id=\"T_5933b630_0b22_11ea_9a7a_80000208fe80row0_col159\" class=\"data row0 col159\" >nan</td>\n",
       "                        <td id=\"T_5933b630_0b22_11ea_9a7a_80000208fe80row0_col160\" class=\"data row0 col160\" >nan</td>\n",
       "                        <td id=\"T_5933b630_0b22_11ea_9a7a_80000208fe80row0_col161\" class=\"data row0 col161\" >nan</td>\n",
       "                        <td id=\"T_5933b630_0b22_11ea_9a7a_80000208fe80row0_col162\" class=\"data row0 col162\" >nan</td>\n",
       "                        <td id=\"T_5933b630_0b22_11ea_9a7a_80000208fe80row0_col163\" class=\"data row0 col163\" >nan</td>\n",
       "                        <td id=\"T_5933b630_0b22_11ea_9a7a_80000208fe80row0_col164\" class=\"data row0 col164\" >nan</td>\n",
       "                        <td id=\"T_5933b630_0b22_11ea_9a7a_80000208fe80row0_col165\" class=\"data row0 col165\" >nan</td>\n",
       "                        <td id=\"T_5933b630_0b22_11ea_9a7a_80000208fe80row0_col166\" class=\"data row0 col166\" >nan</td>\n",
       "                        <td id=\"T_5933b630_0b22_11ea_9a7a_80000208fe80row0_col167\" class=\"data row0 col167\" >nan</td>\n",
       "                        <td id=\"T_5933b630_0b22_11ea_9a7a_80000208fe80row0_col168\" class=\"data row0 col168\" >nan</td>\n",
       "                        <td id=\"T_5933b630_0b22_11ea_9a7a_80000208fe80row0_col169\" class=\"data row0 col169\" >nan</td>\n",
       "                        <td id=\"T_5933b630_0b22_11ea_9a7a_80000208fe80row0_col170\" class=\"data row0 col170\" >nan</td>\n",
       "                        <td id=\"T_5933b630_0b22_11ea_9a7a_80000208fe80row0_col171\" class=\"data row0 col171\" >nan</td>\n",
       "                        <td id=\"T_5933b630_0b22_11ea_9a7a_80000208fe80row0_col172\" class=\"data row0 col172\" >nan</td>\n",
       "                        <td id=\"T_5933b630_0b22_11ea_9a7a_80000208fe80row0_col173\" class=\"data row0 col173\" >nan</td>\n",
       "                        <td id=\"T_5933b630_0b22_11ea_9a7a_80000208fe80row0_col174\" class=\"data row0 col174\" >nan</td>\n",
       "                        <td id=\"T_5933b630_0b22_11ea_9a7a_80000208fe80row0_col175\" class=\"data row0 col175\" >nan</td>\n",
       "                        <td id=\"T_5933b630_0b22_11ea_9a7a_80000208fe80row0_col176\" class=\"data row0 col176\" >nan</td>\n",
       "                        <td id=\"T_5933b630_0b22_11ea_9a7a_80000208fe80row0_col177\" class=\"data row0 col177\" >nan</td>\n",
       "                        <td id=\"T_5933b630_0b22_11ea_9a7a_80000208fe80row0_col178\" class=\"data row0 col178\" >nan</td>\n",
       "                        <td id=\"T_5933b630_0b22_11ea_9a7a_80000208fe80row0_col179\" class=\"data row0 col179\" >nan</td>\n",
       "                        <td id=\"T_5933b630_0b22_11ea_9a7a_80000208fe80row0_col180\" class=\"data row0 col180\" >nan</td>\n",
       "                        <td id=\"T_5933b630_0b22_11ea_9a7a_80000208fe80row0_col181\" class=\"data row0 col181\" >nan</td>\n",
       "                        <td id=\"T_5933b630_0b22_11ea_9a7a_80000208fe80row0_col182\" class=\"data row0 col182\" >nan</td>\n",
       "                        <td id=\"T_5933b630_0b22_11ea_9a7a_80000208fe80row0_col183\" class=\"data row0 col183\" >nan</td>\n",
       "                        <td id=\"T_5933b630_0b22_11ea_9a7a_80000208fe80row0_col184\" class=\"data row0 col184\" >nan</td>\n",
       "                        <td id=\"T_5933b630_0b22_11ea_9a7a_80000208fe80row0_col185\" class=\"data row0 col185\" >nan</td>\n",
       "                        <td id=\"T_5933b630_0b22_11ea_9a7a_80000208fe80row0_col186\" class=\"data row0 col186\" >nan</td>\n",
       "                        <td id=\"T_5933b630_0b22_11ea_9a7a_80000208fe80row0_col187\" class=\"data row0 col187\" >nan</td>\n",
       "                        <td id=\"T_5933b630_0b22_11ea_9a7a_80000208fe80row0_col188\" class=\"data row0 col188\" >nan</td>\n",
       "            </tr>\n",
       "            <tr>\n",
       "                                <td id=\"T_5933b630_0b22_11ea_9a7a_80000208fe80row1_col0\" class=\"data row1 col0\" >3.2</td>\n",
       "                        <td id=\"T_5933b630_0b22_11ea_9a7a_80000208fe80row1_col1\" class=\"data row1 col1\" >StackedEnsemble_AllModels_AutoML_20191119_123904</td>\n",
       "                        <td id=\"T_5933b630_0b22_11ea_9a7a_80000208fe80row1_col2\" class=\"data row1 col2\" >GBM_grid_1_AutoML_20191119_123904_model_39</td>\n",
       "                        <td id=\"T_5933b630_0b22_11ea_9a7a_80000208fe80row1_col3\" class=\"data row1 col3\" >DeepLearning_grid_1_AutoML_20191119_123904_model_15</td>\n",
       "                        <td id=\"T_5933b630_0b22_11ea_9a7a_80000208fe80row1_col4\" class=\"data row1 col4\" >GBM_grid_1_AutoML_20191119_123904_model_55</td>\n",
       "                        <td id=\"T_5933b630_0b22_11ea_9a7a_80000208fe80row1_col5\" class=\"data row1 col5\" >DeepLearning_grid_1_AutoML_20191119_123904_model_9</td>\n",
       "                        <td id=\"T_5933b630_0b22_11ea_9a7a_80000208fe80row1_col6\" class=\"data row1 col6\" >DeepLearning_grid_1_AutoML_20191119_123904_model_3</td>\n",
       "                        <td id=\"T_5933b630_0b22_11ea_9a7a_80000208fe80row1_col7\" class=\"data row1 col7\" >DeepLearning_grid_1_AutoML_20191119_123904_model_1</td>\n",
       "                        <td id=\"T_5933b630_0b22_11ea_9a7a_80000208fe80row1_col8\" class=\"data row1 col8\" >GBM_grid_1_AutoML_20191119_123904_model_31</td>\n",
       "                        <td id=\"T_5933b630_0b22_11ea_9a7a_80000208fe80row1_col9\" class=\"data row1 col9\" >GBM_grid_1_AutoML_20191119_123904_model_35</td>\n",
       "                        <td id=\"T_5933b630_0b22_11ea_9a7a_80000208fe80row1_col10\" class=\"data row1 col10\" >DeepLearning_grid_1_AutoML_20191119_123904_model_12</td>\n",
       "                        <td id=\"T_5933b630_0b22_11ea_9a7a_80000208fe80row1_col11\" class=\"data row1 col11\" >GBM_grid_1_AutoML_20191119_123904_model_46</td>\n",
       "                        <td id=\"T_5933b630_0b22_11ea_9a7a_80000208fe80row1_col12\" class=\"data row1 col12\" >GBM_grid_1_AutoML_20191119_123904_model_18</td>\n",
       "                        <td id=\"T_5933b630_0b22_11ea_9a7a_80000208fe80row1_col13\" class=\"data row1 col13\" >DeepLearning_grid_1_AutoML_20191119_123904_model_2</td>\n",
       "                        <td id=\"T_5933b630_0b22_11ea_9a7a_80000208fe80row1_col14\" class=\"data row1 col14\" >GBM_grid_1_AutoML_20191119_123904_model_47</td>\n",
       "                        <td id=\"T_5933b630_0b22_11ea_9a7a_80000208fe80row1_col15\" class=\"data row1 col15\" >GBM_grid_1_AutoML_20191119_123904_model_48</td>\n",
       "                        <td id=\"T_5933b630_0b22_11ea_9a7a_80000208fe80row1_col16\" class=\"data row1 col16\" >DeepLearning_grid_1_AutoML_20191119_123904_model_8</td>\n",
       "                        <td id=\"T_5933b630_0b22_11ea_9a7a_80000208fe80row1_col17\" class=\"data row1 col17\" >GBM_grid_1_AutoML_20191119_123904_model_12</td>\n",
       "                        <td id=\"T_5933b630_0b22_11ea_9a7a_80000208fe80row1_col18\" class=\"data row1 col18\" >GBM_3_AutoML_20191119_123904</td>\n",
       "                        <td id=\"T_5933b630_0b22_11ea_9a7a_80000208fe80row1_col19\" class=\"data row1 col19\" >GBM_grid_1_AutoML_20191119_123904_model_27</td>\n",
       "                        <td id=\"T_5933b630_0b22_11ea_9a7a_80000208fe80row1_col20\" class=\"data row1 col20\" >GBM_grid_1_AutoML_20191119_123904_model_19</td>\n",
       "                        <td id=\"T_5933b630_0b22_11ea_9a7a_80000208fe80row1_col21\" class=\"data row1 col21\" >DeepLearning_grid_1_AutoML_20191119_123904_model_4</td>\n",
       "                        <td id=\"T_5933b630_0b22_11ea_9a7a_80000208fe80row1_col22\" class=\"data row1 col22\" >GBM_grid_1_AutoML_20191119_123904_model_40</td>\n",
       "                        <td id=\"T_5933b630_0b22_11ea_9a7a_80000208fe80row1_col23\" class=\"data row1 col23\" >DeepLearning_grid_1_AutoML_20191119_123904_model_5</td>\n",
       "                        <td id=\"T_5933b630_0b22_11ea_9a7a_80000208fe80row1_col24\" class=\"data row1 col24\" >GBM_grid_1_AutoML_20191119_123904_model_56</td>\n",
       "                        <td id=\"T_5933b630_0b22_11ea_9a7a_80000208fe80row1_col25\" class=\"data row1 col25\" >GBM_grid_1_AutoML_20191119_123904_model_57</td>\n",
       "                        <td id=\"T_5933b630_0b22_11ea_9a7a_80000208fe80row1_col26\" class=\"data row1 col26\" >GBM_grid_1_AutoML_20191119_123904_model_72</td>\n",
       "                        <td id=\"T_5933b630_0b22_11ea_9a7a_80000208fe80row1_col27\" class=\"data row1 col27\" >DeepLearning_grid_1_AutoML_20191119_123904_model_10</td>\n",
       "                        <td id=\"T_5933b630_0b22_11ea_9a7a_80000208fe80row1_col28\" class=\"data row1 col28\" >XGBoost_grid_1_AutoML_20191119_123904_model_13</td>\n",
       "                        <td id=\"T_5933b630_0b22_11ea_9a7a_80000208fe80row1_col29\" class=\"data row1 col29\" >GBM_grid_1_AutoML_20191119_123904_model_75</td>\n",
       "                        <td id=\"T_5933b630_0b22_11ea_9a7a_80000208fe80row1_col30\" class=\"data row1 col30\" >GBM_grid_1_AutoML_20191119_123904_model_1</td>\n",
       "                        <td id=\"T_5933b630_0b22_11ea_9a7a_80000208fe80row1_col31\" class=\"data row1 col31\" >GBM_grid_1_AutoML_20191119_123904_model_41</td>\n",
       "                        <td id=\"T_5933b630_0b22_11ea_9a7a_80000208fe80row1_col32\" class=\"data row1 col32\" >DeepLearning_grid_1_AutoML_20191119_123904_model_14</td>\n",
       "                        <td id=\"T_5933b630_0b22_11ea_9a7a_80000208fe80row1_col33\" class=\"data row1 col33\" >GBM_grid_1_AutoML_20191119_123904_model_20</td>\n",
       "                        <td id=\"T_5933b630_0b22_11ea_9a7a_80000208fe80row1_col34\" class=\"data row1 col34\" >GBM_grid_1_AutoML_20191119_123904_model_67</td>\n",
       "                        <td id=\"T_5933b630_0b22_11ea_9a7a_80000208fe80row1_col35\" class=\"data row1 col35\" >GBM_2_AutoML_20191119_123904</td>\n",
       "                        <td id=\"T_5933b630_0b22_11ea_9a7a_80000208fe80row1_col36\" class=\"data row1 col36\" >GBM_grid_1_AutoML_20191119_123904_model_43</td>\n",
       "                        <td id=\"T_5933b630_0b22_11ea_9a7a_80000208fe80row1_col37\" class=\"data row1 col37\" >GBM_grid_1_AutoML_20191119_123904_model_15</td>\n",
       "                        <td id=\"T_5933b630_0b22_11ea_9a7a_80000208fe80row1_col38\" class=\"data row1 col38\" >DRF_1_AutoML_20191119_123904</td>\n",
       "                        <td id=\"T_5933b630_0b22_11ea_9a7a_80000208fe80row1_col39\" class=\"data row1 col39\" >GBM_4_AutoML_20191119_123904</td>\n",
       "                        <td id=\"T_5933b630_0b22_11ea_9a7a_80000208fe80row1_col40\" class=\"data row1 col40\" >XGBoost_grid_1_AutoML_20191119_123904_model_33</td>\n",
       "                        <td id=\"T_5933b630_0b22_11ea_9a7a_80000208fe80row1_col41\" class=\"data row1 col41\" >XRT_1_AutoML_20191119_123904</td>\n",
       "                        <td id=\"T_5933b630_0b22_11ea_9a7a_80000208fe80row1_col42\" class=\"data row1 col42\" >GBM_grid_1_AutoML_20191119_123904_model_13</td>\n",
       "                        <td id=\"T_5933b630_0b22_11ea_9a7a_80000208fe80row1_col43\" class=\"data row1 col43\" >GBM_grid_1_AutoML_20191119_123904_model_45</td>\n",
       "                        <td id=\"T_5933b630_0b22_11ea_9a7a_80000208fe80row1_col44\" class=\"data row1 col44\" >GBM_grid_1_AutoML_20191119_123904_model_32</td>\n",
       "                        <td id=\"T_5933b630_0b22_11ea_9a7a_80000208fe80row1_col45\" class=\"data row1 col45\" >GBM_grid_1_AutoML_20191119_123904_model_76</td>\n",
       "                        <td id=\"T_5933b630_0b22_11ea_9a7a_80000208fe80row1_col46\" class=\"data row1 col46\" >GBM_grid_1_AutoML_20191119_123904_model_58</td>\n",
       "                        <td id=\"T_5933b630_0b22_11ea_9a7a_80000208fe80row1_col47\" class=\"data row1 col47\" >XGBoost_grid_1_AutoML_20191119_123904_model_52</td>\n",
       "                        <td id=\"T_5933b630_0b22_11ea_9a7a_80000208fe80row1_col48\" class=\"data row1 col48\" >GBM_grid_1_AutoML_20191119_123904_model_16</td>\n",
       "                        <td id=\"T_5933b630_0b22_11ea_9a7a_80000208fe80row1_col49\" class=\"data row1 col49\" >GBM_grid_1_AutoML_20191119_123904_model_66</td>\n",
       "                        <td id=\"T_5933b630_0b22_11ea_9a7a_80000208fe80row1_col50\" class=\"data row1 col50\" >XGBoost_grid_1_AutoML_20191119_123904_model_8</td>\n",
       "                        <td id=\"T_5933b630_0b22_11ea_9a7a_80000208fe80row1_col51\" class=\"data row1 col51\" >GBM_grid_1_AutoML_20191119_123904_model_17</td>\n",
       "                        <td id=\"T_5933b630_0b22_11ea_9a7a_80000208fe80row1_col52\" class=\"data row1 col52\" >GBM_grid_1_AutoML_20191119_123904_model_26</td>\n",
       "                        <td id=\"T_5933b630_0b22_11ea_9a7a_80000208fe80row1_col53\" class=\"data row1 col53\" >GBM_5_AutoML_20191119_123904</td>\n",
       "                        <td id=\"T_5933b630_0b22_11ea_9a7a_80000208fe80row1_col54\" class=\"data row1 col54\" >GBM_grid_1_AutoML_20191119_123904_model_6</td>\n",
       "                        <td id=\"T_5933b630_0b22_11ea_9a7a_80000208fe80row1_col55\" class=\"data row1 col55\" >GBM_grid_1_AutoML_20191119_123904_model_24</td>\n",
       "                        <td id=\"T_5933b630_0b22_11ea_9a7a_80000208fe80row1_col56\" class=\"data row1 col56\" >GBM_grid_1_AutoML_20191119_123904_model_77</td>\n",
       "                        <td id=\"T_5933b630_0b22_11ea_9a7a_80000208fe80row1_col57\" class=\"data row1 col57\" >GBM_grid_1_AutoML_20191119_123904_model_63</td>\n",
       "                        <td id=\"T_5933b630_0b22_11ea_9a7a_80000208fe80row1_col58\" class=\"data row1 col58\" >XGBoost_grid_1_AutoML_20191119_123904_model_61</td>\n",
       "                        <td id=\"T_5933b630_0b22_11ea_9a7a_80000208fe80row1_col59\" class=\"data row1 col59\" >XGBoost_grid_1_AutoML_20191119_123904_model_38</td>\n",
       "                        <td id=\"T_5933b630_0b22_11ea_9a7a_80000208fe80row1_col60\" class=\"data row1 col60\" >DeepLearning_grid_1_AutoML_20191119_123904_model_16</td>\n",
       "                        <td id=\"T_5933b630_0b22_11ea_9a7a_80000208fe80row1_col61\" class=\"data row1 col61\" >GBM_grid_1_AutoML_20191119_123904_model_10</td>\n",
       "                        <td id=\"T_5933b630_0b22_11ea_9a7a_80000208fe80row1_col62\" class=\"data row1 col62\" >XGBoost_grid_1_AutoML_20191119_123904_model_68</td>\n",
       "                        <td id=\"T_5933b630_0b22_11ea_9a7a_80000208fe80row1_col63\" class=\"data row1 col63\" >GBM_grid_1_AutoML_20191119_123904_model_78</td>\n",
       "                        <td id=\"T_5933b630_0b22_11ea_9a7a_80000208fe80row1_col64\" class=\"data row1 col64\" >GBM_grid_1_AutoML_20191119_123904_model_59</td>\n",
       "                        <td id=\"T_5933b630_0b22_11ea_9a7a_80000208fe80row1_col65\" class=\"data row1 col65\" >GBM_grid_1_AutoML_20191119_123904_model_42</td>\n",
       "                        <td id=\"T_5933b630_0b22_11ea_9a7a_80000208fe80row1_col66\" class=\"data row1 col66\" >DeepLearning_grid_1_AutoML_20191119_123904_model_11</td>\n",
       "                        <td id=\"T_5933b630_0b22_11ea_9a7a_80000208fe80row1_col67\" class=\"data row1 col67\" >GBM_grid_1_AutoML_20191119_123904_model_3</td>\n",
       "                        <td id=\"T_5933b630_0b22_11ea_9a7a_80000208fe80row1_col68\" class=\"data row1 col68\" >GBM_grid_1_AutoML_20191119_123904_model_62</td>\n",
       "                        <td id=\"T_5933b630_0b22_11ea_9a7a_80000208fe80row1_col69\" class=\"data row1 col69\" >GBM_grid_1_AutoML_20191119_123904_model_54</td>\n",
       "                        <td id=\"T_5933b630_0b22_11ea_9a7a_80000208fe80row1_col70\" class=\"data row1 col70\" >GBM_1_AutoML_20191119_123904</td>\n",
       "                        <td id=\"T_5933b630_0b22_11ea_9a7a_80000208fe80row1_col71\" class=\"data row1 col71\" >GLM_grid_1_AutoML_20191119_123904_model_1</td>\n",
       "                        <td id=\"T_5933b630_0b22_11ea_9a7a_80000208fe80row1_col72\" class=\"data row1 col72\" >XGBoost_grid_1_AutoML_20191119_123904_model_30</td>\n",
       "                        <td id=\"T_5933b630_0b22_11ea_9a7a_80000208fe80row1_col73\" class=\"data row1 col73\" >GBM_grid_1_AutoML_20191119_123904_model_14</td>\n",
       "                        <td id=\"T_5933b630_0b22_11ea_9a7a_80000208fe80row1_col74\" class=\"data row1 col74\" >XGBoost_3_AutoML_20191119_123904</td>\n",
       "                        <td id=\"T_5933b630_0b22_11ea_9a7a_80000208fe80row1_col75\" class=\"data row1 col75\" >XGBoost_grid_1_AutoML_20191119_123904_model_15</td>\n",
       "                        <td id=\"T_5933b630_0b22_11ea_9a7a_80000208fe80row1_col76\" class=\"data row1 col76\" >GBM_grid_1_AutoML_20191119_123904_model_64</td>\n",
       "                        <td id=\"T_5933b630_0b22_11ea_9a7a_80000208fe80row1_col77\" class=\"data row1 col77\" >XGBoost_grid_1_AutoML_20191119_123904_model_17</td>\n",
       "                        <td id=\"T_5933b630_0b22_11ea_9a7a_80000208fe80row1_col78\" class=\"data row1 col78\" >XGBoost_grid_1_AutoML_20191119_123904_model_55</td>\n",
       "                        <td id=\"T_5933b630_0b22_11ea_9a7a_80000208fe80row1_col79\" class=\"data row1 col79\" >XGBoost_grid_1_AutoML_20191119_123904_model_48</td>\n",
       "                        <td id=\"T_5933b630_0b22_11ea_9a7a_80000208fe80row1_col80\" class=\"data row1 col80\" >XGBoost_grid_1_AutoML_20191119_123904_model_49</td>\n",
       "                        <td id=\"T_5933b630_0b22_11ea_9a7a_80000208fe80row1_col81\" class=\"data row1 col81\" >GBM_grid_1_AutoML_20191119_123904_model_11</td>\n",
       "                        <td id=\"T_5933b630_0b22_11ea_9a7a_80000208fe80row1_col82\" class=\"data row1 col82\" >XGBoost_1_AutoML_20191119_123904</td>\n",
       "                        <td id=\"T_5933b630_0b22_11ea_9a7a_80000208fe80row1_col83\" class=\"data row1 col83\" >XGBoost_grid_1_AutoML_20191119_123904_model_47</td>\n",
       "                        <td id=\"T_5933b630_0b22_11ea_9a7a_80000208fe80row1_col84\" class=\"data row1 col84\" >XGBoost_grid_1_AutoML_20191119_123904_model_25</td>\n",
       "                        <td id=\"T_5933b630_0b22_11ea_9a7a_80000208fe80row1_col85\" class=\"data row1 col85\" >XGBoost_grid_1_AutoML_20191119_123904_model_37</td>\n",
       "                        <td id=\"T_5933b630_0b22_11ea_9a7a_80000208fe80row1_col86\" class=\"data row1 col86\" >XGBoost_grid_1_AutoML_20191119_123904_model_45</td>\n",
       "                        <td id=\"T_5933b630_0b22_11ea_9a7a_80000208fe80row1_col87\" class=\"data row1 col87\" >XGBoost_grid_1_AutoML_20191119_123904_model_46</td>\n",
       "                        <td id=\"T_5933b630_0b22_11ea_9a7a_80000208fe80row1_col88\" class=\"data row1 col88\" >GBM_grid_1_AutoML_20191119_123904_model_68</td>\n",
       "                        <td id=\"T_5933b630_0b22_11ea_9a7a_80000208fe80row1_col89\" class=\"data row1 col89\" >GBM_grid_1_AutoML_20191119_123904_model_8</td>\n",
       "                        <td id=\"T_5933b630_0b22_11ea_9a7a_80000208fe80row1_col90\" class=\"data row1 col90\" >DeepLearning_grid_1_AutoML_20191119_123904_model_6</td>\n",
       "                        <td id=\"T_5933b630_0b22_11ea_9a7a_80000208fe80row1_col91\" class=\"data row1 col91\" >XGBoost_grid_1_AutoML_20191119_123904_model_57</td>\n",
       "                        <td id=\"T_5933b630_0b22_11ea_9a7a_80000208fe80row1_col92\" class=\"data row1 col92\" >XGBoost_grid_1_AutoML_20191119_123904_model_4</td>\n",
       "                        <td id=\"T_5933b630_0b22_11ea_9a7a_80000208fe80row1_col93\" class=\"data row1 col93\" >XGBoost_grid_1_AutoML_20191119_123904_model_35</td>\n",
       "                        <td id=\"T_5933b630_0b22_11ea_9a7a_80000208fe80row1_col94\" class=\"data row1 col94\" >XGBoost_grid_1_AutoML_20191119_123904_model_67</td>\n",
       "                        <td id=\"T_5933b630_0b22_11ea_9a7a_80000208fe80row1_col95\" class=\"data row1 col95\" >GBM_grid_1_AutoML_20191119_123904_model_70</td>\n",
       "                        <td id=\"T_5933b630_0b22_11ea_9a7a_80000208fe80row1_col96\" class=\"data row1 col96\" >XGBoost_grid_1_AutoML_20191119_123904_model_18</td>\n",
       "                        <td id=\"T_5933b630_0b22_11ea_9a7a_80000208fe80row1_col97\" class=\"data row1 col97\" >GBM_grid_1_AutoML_20191119_123904_model_73</td>\n",
       "                        <td id=\"T_5933b630_0b22_11ea_9a7a_80000208fe80row1_col98\" class=\"data row1 col98\" >XGBoost_grid_1_AutoML_20191119_123904_model_21</td>\n",
       "                        <td id=\"T_5933b630_0b22_11ea_9a7a_80000208fe80row1_col99\" class=\"data row1 col99\" >XGBoost_grid_1_AutoML_20191119_123904_model_66</td>\n",
       "                        <td id=\"T_5933b630_0b22_11ea_9a7a_80000208fe80row1_col100\" class=\"data row1 col100\" >XGBoost_grid_1_AutoML_20191119_123904_model_26</td>\n",
       "                        <td id=\"T_5933b630_0b22_11ea_9a7a_80000208fe80row1_col101\" class=\"data row1 col101\" >XGBoost_grid_1_AutoML_20191119_123904_model_2</td>\n",
       "                        <td id=\"T_5933b630_0b22_11ea_9a7a_80000208fe80row1_col102\" class=\"data row1 col102\" >XGBoost_grid_1_AutoML_20191119_123904_model_20</td>\n",
       "                        <td id=\"T_5933b630_0b22_11ea_9a7a_80000208fe80row1_col103\" class=\"data row1 col103\" >GBM_grid_1_AutoML_20191119_123904_model_9</td>\n",
       "                        <td id=\"T_5933b630_0b22_11ea_9a7a_80000208fe80row1_col104\" class=\"data row1 col104\" >GBM_grid_1_AutoML_20191119_123904_model_52</td>\n",
       "                        <td id=\"T_5933b630_0b22_11ea_9a7a_80000208fe80row1_col105\" class=\"data row1 col105\" >XGBoost_grid_1_AutoML_20191119_123904_model_41</td>\n",
       "                        <td id=\"T_5933b630_0b22_11ea_9a7a_80000208fe80row1_col106\" class=\"data row1 col106\" >XGBoost_grid_1_AutoML_20191119_123904_model_27</td>\n",
       "                        <td id=\"T_5933b630_0b22_11ea_9a7a_80000208fe80row1_col107\" class=\"data row1 col107\" >GBM_grid_1_AutoML_20191119_123904_model_53</td>\n",
       "                        <td id=\"T_5933b630_0b22_11ea_9a7a_80000208fe80row1_col108\" class=\"data row1 col108\" >XGBoost_grid_1_AutoML_20191119_123904_model_69</td>\n",
       "                        <td id=\"T_5933b630_0b22_11ea_9a7a_80000208fe80row1_col109\" class=\"data row1 col109\" >XGBoost_grid_1_AutoML_20191119_123904_model_62</td>\n",
       "                        <td id=\"T_5933b630_0b22_11ea_9a7a_80000208fe80row1_col110\" class=\"data row1 col110\" >XGBoost_grid_1_AutoML_20191119_123904_model_59</td>\n",
       "                        <td id=\"T_5933b630_0b22_11ea_9a7a_80000208fe80row1_col111\" class=\"data row1 col111\" >XGBoost_grid_1_AutoML_20191119_123904_model_50</td>\n",
       "                        <td id=\"T_5933b630_0b22_11ea_9a7a_80000208fe80row1_col112\" class=\"data row1 col112\" >DeepLearning_grid_1_AutoML_20191119_123904_model_13</td>\n",
       "                        <td id=\"T_5933b630_0b22_11ea_9a7a_80000208fe80row1_col113\" class=\"data row1 col113\" >XGBoost_grid_1_AutoML_20191119_123904_model_36</td>\n",
       "                        <td id=\"T_5933b630_0b22_11ea_9a7a_80000208fe80row1_col114\" class=\"data row1 col114\" >DeepLearning_grid_1_AutoML_20191119_123904_model_17</td>\n",
       "                        <td id=\"T_5933b630_0b22_11ea_9a7a_80000208fe80row1_col115\" class=\"data row1 col115\" >XGBoost_grid_1_AutoML_20191119_123904_model_34</td>\n",
       "                        <td id=\"T_5933b630_0b22_11ea_9a7a_80000208fe80row1_col116\" class=\"data row1 col116\" >DeepLearning_grid_1_AutoML_20191119_123904_model_18</td>\n",
       "                        <td id=\"T_5933b630_0b22_11ea_9a7a_80000208fe80row1_col117\" class=\"data row1 col117\" >GBM_grid_1_AutoML_20191119_123904_model_29</td>\n",
       "                        <td id=\"T_5933b630_0b22_11ea_9a7a_80000208fe80row1_col118\" class=\"data row1 col118\" >GBM_grid_1_AutoML_20191119_123904_model_81</td>\n",
       "                        <td id=\"T_5933b630_0b22_11ea_9a7a_80000208fe80row1_col119\" class=\"data row1 col119\" >XGBoost_grid_1_AutoML_20191119_123904_model_3</td>\n",
       "                        <td id=\"T_5933b630_0b22_11ea_9a7a_80000208fe80row1_col120\" class=\"data row1 col120\" >XGBoost_grid_1_AutoML_20191119_123904_model_29</td>\n",
       "                        <td id=\"T_5933b630_0b22_11ea_9a7a_80000208fe80row1_col121\" class=\"data row1 col121\" >XGBoost_grid_1_AutoML_20191119_123904_model_28</td>\n",
       "                        <td id=\"T_5933b630_0b22_11ea_9a7a_80000208fe80row1_col122\" class=\"data row1 col122\" >GBM_grid_1_AutoML_20191119_123904_model_28</td>\n",
       "                        <td id=\"T_5933b630_0b22_11ea_9a7a_80000208fe80row1_col123\" class=\"data row1 col123\" >GBM_grid_1_AutoML_20191119_123904_model_80</td>\n",
       "                        <td id=\"T_5933b630_0b22_11ea_9a7a_80000208fe80row1_col124\" class=\"data row1 col124\" >XGBoost_grid_1_AutoML_20191119_123904_model_65</td>\n",
       "                        <td id=\"T_5933b630_0b22_11ea_9a7a_80000208fe80row1_col125\" class=\"data row1 col125\" >XGBoost_grid_1_AutoML_20191119_123904_model_31</td>\n",
       "                        <td id=\"T_5933b630_0b22_11ea_9a7a_80000208fe80row1_col126\" class=\"data row1 col126\" >XGBoost_grid_1_AutoML_20191119_123904_model_32</td>\n",
       "                        <td id=\"T_5933b630_0b22_11ea_9a7a_80000208fe80row1_col127\" class=\"data row1 col127\" >GBM_grid_1_AutoML_20191119_123904_model_21</td>\n",
       "                        <td id=\"T_5933b630_0b22_11ea_9a7a_80000208fe80row1_col128\" class=\"data row1 col128\" >XGBoost_grid_1_AutoML_20191119_123904_model_7</td>\n",
       "                        <td id=\"T_5933b630_0b22_11ea_9a7a_80000208fe80row1_col129\" class=\"data row1 col129\" >XGBoost_grid_1_AutoML_20191119_123904_model_53</td>\n",
       "                        <td id=\"T_5933b630_0b22_11ea_9a7a_80000208fe80row1_col130\" class=\"data row1 col130\" >XGBoost_grid_1_AutoML_20191119_123904_model_19</td>\n",
       "                        <td id=\"T_5933b630_0b22_11ea_9a7a_80000208fe80row1_col131\" class=\"data row1 col131\" >XGBoost_grid_1_AutoML_20191119_123904_model_23</td>\n",
       "                        <td id=\"T_5933b630_0b22_11ea_9a7a_80000208fe80row1_col132\" class=\"data row1 col132\" >GBM_grid_1_AutoML_20191119_123904_model_23</td>\n",
       "                        <td id=\"T_5933b630_0b22_11ea_9a7a_80000208fe80row1_col133\" class=\"data row1 col133\" >GBM_grid_1_AutoML_20191119_123904_model_30</td>\n",
       "                        <td id=\"T_5933b630_0b22_11ea_9a7a_80000208fe80row1_col134\" class=\"data row1 col134\" >XGBoost_grid_1_AutoML_20191119_123904_model_71</td>\n",
       "                        <td id=\"T_5933b630_0b22_11ea_9a7a_80000208fe80row1_col135\" class=\"data row1 col135\" >XGBoost_2_AutoML_20191119_123904</td>\n",
       "                        <td id=\"T_5933b630_0b22_11ea_9a7a_80000208fe80row1_col136\" class=\"data row1 col136\" >XGBoost_grid_1_AutoML_20191119_123904_model_1</td>\n",
       "                        <td id=\"T_5933b630_0b22_11ea_9a7a_80000208fe80row1_col137\" class=\"data row1 col137\" >XGBoost_grid_1_AutoML_20191119_123904_model_42</td>\n",
       "                        <td id=\"T_5933b630_0b22_11ea_9a7a_80000208fe80row1_col138\" class=\"data row1 col138\" >GBM_grid_1_AutoML_20191119_123904_model_25</td>\n",
       "                        <td id=\"T_5933b630_0b22_11ea_9a7a_80000208fe80row1_col139\" class=\"data row1 col139\" >GBM_grid_1_AutoML_20191119_123904_model_7</td>\n",
       "                        <td id=\"T_5933b630_0b22_11ea_9a7a_80000208fe80row1_col140\" class=\"data row1 col140\" >XGBoost_grid_1_AutoML_20191119_123904_model_63</td>\n",
       "                        <td id=\"T_5933b630_0b22_11ea_9a7a_80000208fe80row1_col141\" class=\"data row1 col141\" >GBM_grid_1_AutoML_20191119_123904_model_38</td>\n",
       "                        <td id=\"T_5933b630_0b22_11ea_9a7a_80000208fe80row1_col142\" class=\"data row1 col142\" >GBM_grid_1_AutoML_20191119_123904_model_74</td>\n",
       "                        <td id=\"T_5933b630_0b22_11ea_9a7a_80000208fe80row1_col143\" class=\"data row1 col143\" >GBM_grid_1_AutoML_20191119_123904_model_5</td>\n",
       "                        <td id=\"T_5933b630_0b22_11ea_9a7a_80000208fe80row1_col144\" class=\"data row1 col144\" >GBM_grid_1_AutoML_20191119_123904_model_33</td>\n",
       "                        <td id=\"T_5933b630_0b22_11ea_9a7a_80000208fe80row1_col145\" class=\"data row1 col145\" >GBM_grid_1_AutoML_20191119_123904_model_61</td>\n",
       "                        <td id=\"T_5933b630_0b22_11ea_9a7a_80000208fe80row1_col146\" class=\"data row1 col146\" >XGBoost_grid_1_AutoML_20191119_123904_model_58</td>\n",
       "                        <td id=\"T_5933b630_0b22_11ea_9a7a_80000208fe80row1_col147\" class=\"data row1 col147\" >XGBoost_grid_1_AutoML_20191119_123904_model_11</td>\n",
       "                        <td id=\"T_5933b630_0b22_11ea_9a7a_80000208fe80row1_col148\" class=\"data row1 col148\" >XGBoost_grid_1_AutoML_20191119_123904_model_70</td>\n",
       "                        <td id=\"T_5933b630_0b22_11ea_9a7a_80000208fe80row1_col149\" class=\"data row1 col149\" >XGBoost_grid_1_AutoML_20191119_123904_model_43</td>\n",
       "                        <td id=\"T_5933b630_0b22_11ea_9a7a_80000208fe80row1_col150\" class=\"data row1 col150\" >XGBoost_grid_1_AutoML_20191119_123904_model_56</td>\n",
       "                        <td id=\"T_5933b630_0b22_11ea_9a7a_80000208fe80row1_col151\" class=\"data row1 col151\" >XGBoost_grid_1_AutoML_20191119_123904_model_44</td>\n",
       "                        <td id=\"T_5933b630_0b22_11ea_9a7a_80000208fe80row1_col152\" class=\"data row1 col152\" >XGBoost_grid_1_AutoML_20191119_123904_model_22</td>\n",
       "                        <td id=\"T_5933b630_0b22_11ea_9a7a_80000208fe80row1_col153\" class=\"data row1 col153\" >DeepLearning_grid_1_AutoML_20191119_123904_model_7</td>\n",
       "                        <td id=\"T_5933b630_0b22_11ea_9a7a_80000208fe80row1_col154\" class=\"data row1 col154\" >XGBoost_grid_1_AutoML_20191119_123904_model_12</td>\n",
       "                        <td id=\"T_5933b630_0b22_11ea_9a7a_80000208fe80row1_col155\" class=\"data row1 col155\" >XGBoost_grid_1_AutoML_20191119_123904_model_54</td>\n",
       "                        <td id=\"T_5933b630_0b22_11ea_9a7a_80000208fe80row1_col156\" class=\"data row1 col156\" >GBM_grid_1_AutoML_20191119_123904_model_37</td>\n",
       "                        <td id=\"T_5933b630_0b22_11ea_9a7a_80000208fe80row1_col157\" class=\"data row1 col157\" >XGBoost_grid_1_AutoML_20191119_123904_model_5</td>\n",
       "                        <td id=\"T_5933b630_0b22_11ea_9a7a_80000208fe80row1_col158\" class=\"data row1 col158\" >XGBoost_grid_1_AutoML_20191119_123904_model_6</td>\n",
       "                        <td id=\"T_5933b630_0b22_11ea_9a7a_80000208fe80row1_col159\" class=\"data row1 col159\" >XGBoost_grid_1_AutoML_20191119_123904_model_39</td>\n",
       "                        <td id=\"T_5933b630_0b22_11ea_9a7a_80000208fe80row1_col160\" class=\"data row1 col160\" >XGBoost_grid_1_AutoML_20191119_123904_model_24</td>\n",
       "                        <td id=\"T_5933b630_0b22_11ea_9a7a_80000208fe80row1_col161\" class=\"data row1 col161\" >XGBoost_grid_1_AutoML_20191119_123904_model_64</td>\n",
       "                        <td id=\"T_5933b630_0b22_11ea_9a7a_80000208fe80row1_col162\" class=\"data row1 col162\" >XGBoost_grid_1_AutoML_20191119_123904_model_60</td>\n",
       "                        <td id=\"T_5933b630_0b22_11ea_9a7a_80000208fe80row1_col163\" class=\"data row1 col163\" >GBM_grid_1_AutoML_20191119_123904_model_4</td>\n",
       "                        <td id=\"T_5933b630_0b22_11ea_9a7a_80000208fe80row1_col164\" class=\"data row1 col164\" >XGBoost_grid_1_AutoML_20191119_123904_model_40</td>\n",
       "                        <td id=\"T_5933b630_0b22_11ea_9a7a_80000208fe80row1_col165\" class=\"data row1 col165\" >XGBoost_grid_1_AutoML_20191119_123904_model_10</td>\n",
       "                        <td id=\"T_5933b630_0b22_11ea_9a7a_80000208fe80row1_col166\" class=\"data row1 col166\" >XGBoost_grid_1_AutoML_20191119_123904_model_14</td>\n",
       "                        <td id=\"T_5933b630_0b22_11ea_9a7a_80000208fe80row1_col167\" class=\"data row1 col167\" >GBM_grid_1_AutoML_20191119_123904_model_71</td>\n",
       "                        <td id=\"T_5933b630_0b22_11ea_9a7a_80000208fe80row1_col168\" class=\"data row1 col168\" >XGBoost_grid_1_AutoML_20191119_123904_model_16</td>\n",
       "                        <td id=\"T_5933b630_0b22_11ea_9a7a_80000208fe80row1_col169\" class=\"data row1 col169\" >GBM_grid_1_AutoML_20191119_123904_model_49</td>\n",
       "                        <td id=\"T_5933b630_0b22_11ea_9a7a_80000208fe80row1_col170\" class=\"data row1 col170\" >GBM_grid_1_AutoML_20191119_123904_model_34</td>\n",
       "                        <td id=\"T_5933b630_0b22_11ea_9a7a_80000208fe80row1_col171\" class=\"data row1 col171\" >XGBoost_grid_1_AutoML_20191119_123904_model_51</td>\n",
       "                        <td id=\"T_5933b630_0b22_11ea_9a7a_80000208fe80row1_col172\" class=\"data row1 col172\" >GBM_grid_1_AutoML_20191119_123904_model_50</td>\n",
       "                        <td id=\"T_5933b630_0b22_11ea_9a7a_80000208fe80row1_col173\" class=\"data row1 col173\" >GBM_grid_1_AutoML_20191119_123904_model_51</td>\n",
       "                        <td id=\"T_5933b630_0b22_11ea_9a7a_80000208fe80row1_col174\" class=\"data row1 col174\" >GBM_grid_1_AutoML_20191119_123904_model_84</td>\n",
       "                        <td id=\"T_5933b630_0b22_11ea_9a7a_80000208fe80row1_col175\" class=\"data row1 col175\" >XGBoost_grid_1_AutoML_20191119_123904_model_9</td>\n",
       "                        <td id=\"T_5933b630_0b22_11ea_9a7a_80000208fe80row1_col176\" class=\"data row1 col176\" >DeepLearning_1_AutoML_20191119_123904</td>\n",
       "                        <td id=\"T_5933b630_0b22_11ea_9a7a_80000208fe80row1_col177\" class=\"data row1 col177\" >GBM_grid_1_AutoML_20191119_123904_model_79</td>\n",
       "                        <td id=\"T_5933b630_0b22_11ea_9a7a_80000208fe80row1_col178\" class=\"data row1 col178\" >XGBoost_grid_1_AutoML_20191119_123904_model_72</td>\n",
       "                        <td id=\"T_5933b630_0b22_11ea_9a7a_80000208fe80row1_col179\" class=\"data row1 col179\" >GBM_grid_1_AutoML_20191119_123904_model_2</td>\n",
       "                        <td id=\"T_5933b630_0b22_11ea_9a7a_80000208fe80row1_col180\" class=\"data row1 col180\" >GBM_grid_1_AutoML_20191119_123904_model_69</td>\n",
       "                        <td id=\"T_5933b630_0b22_11ea_9a7a_80000208fe80row1_col181\" class=\"data row1 col181\" >GBM_grid_1_AutoML_20191119_123904_model_44</td>\n",
       "                        <td id=\"T_5933b630_0b22_11ea_9a7a_80000208fe80row1_col182\" class=\"data row1 col182\" >GBM_grid_1_AutoML_20191119_123904_model_22</td>\n",
       "                        <td id=\"T_5933b630_0b22_11ea_9a7a_80000208fe80row1_col183\" class=\"data row1 col183\" >GBM_grid_1_AutoML_20191119_123904_model_60</td>\n",
       "                        <td id=\"T_5933b630_0b22_11ea_9a7a_80000208fe80row1_col184\" class=\"data row1 col184\" >GBM_grid_1_AutoML_20191119_123904_model_82</td>\n",
       "                        <td id=\"T_5933b630_0b22_11ea_9a7a_80000208fe80row1_col185\" class=\"data row1 col185\" >GBM_grid_1_AutoML_20191119_123904_model_83</td>\n",
       "                        <td id=\"T_5933b630_0b22_11ea_9a7a_80000208fe80row1_col186\" class=\"data row1 col186\" >GBM_grid_1_AutoML_20191119_123904_model_85</td>\n",
       "                        <td id=\"T_5933b630_0b22_11ea_9a7a_80000208fe80row1_col187\" class=\"data row1 col187\" >GBM_grid_1_AutoML_20191119_123904_model_65</td>\n",
       "                        <td id=\"T_5933b630_0b22_11ea_9a7a_80000208fe80row1_col188\" class=\"data row1 col188\" >GBM_grid_1_AutoML_20191119_123904_model_36</td>\n",
       "            </tr>\n",
       "            <tr>\n",
       "                                <td id=\"T_5933b630_0b22_11ea_9a7a_80000208fe80row2_col0\" class=\"data row2 col0\" >6.4</td>\n",
       "                        <td id=\"T_5933b630_0b22_11ea_9a7a_80000208fe80row2_col1\" class=\"data row2 col1\" >StackedEnsemble_BestOfFamily_AutoML_20191119_154352</td>\n",
       "                        <td id=\"T_5933b630_0b22_11ea_9a7a_80000208fe80row2_col2\" class=\"data row2 col2\" >DeepLearning_grid_1_AutoML_20191119_154352_model_2</td>\n",
       "                        <td id=\"T_5933b630_0b22_11ea_9a7a_80000208fe80row2_col3\" class=\"data row2 col3\" >GBM_grid_1_AutoML_20191119_154352_model_39</td>\n",
       "                        <td id=\"T_5933b630_0b22_11ea_9a7a_80000208fe80row2_col4\" class=\"data row2 col4\" >XGBoost_grid_1_AutoML_20191119_154352_model_13</td>\n",
       "                        <td id=\"T_5933b630_0b22_11ea_9a7a_80000208fe80row2_col5\" class=\"data row2 col5\" >DRF_1_AutoML_20191119_154352</td>\n",
       "                        <td id=\"T_5933b630_0b22_11ea_9a7a_80000208fe80row2_col6\" class=\"data row2 col6\" >XRT_1_AutoML_20191119_154352</td>\n",
       "                        <td id=\"T_5933b630_0b22_11ea_9a7a_80000208fe80row2_col7\" class=\"data row2 col7\" >GLM_grid_1_AutoML_20191119_154352_model_1</td>\n",
       "                        <td id=\"T_5933b630_0b22_11ea_9a7a_80000208fe80row2_col8\" class=\"data row2 col8\" >nan</td>\n",
       "                        <td id=\"T_5933b630_0b22_11ea_9a7a_80000208fe80row2_col9\" class=\"data row2 col9\" >nan</td>\n",
       "                        <td id=\"T_5933b630_0b22_11ea_9a7a_80000208fe80row2_col10\" class=\"data row2 col10\" >nan</td>\n",
       "                        <td id=\"T_5933b630_0b22_11ea_9a7a_80000208fe80row2_col11\" class=\"data row2 col11\" >nan</td>\n",
       "                        <td id=\"T_5933b630_0b22_11ea_9a7a_80000208fe80row2_col12\" class=\"data row2 col12\" >nan</td>\n",
       "                        <td id=\"T_5933b630_0b22_11ea_9a7a_80000208fe80row2_col13\" class=\"data row2 col13\" >nan</td>\n",
       "                        <td id=\"T_5933b630_0b22_11ea_9a7a_80000208fe80row2_col14\" class=\"data row2 col14\" >nan</td>\n",
       "                        <td id=\"T_5933b630_0b22_11ea_9a7a_80000208fe80row2_col15\" class=\"data row2 col15\" >nan</td>\n",
       "                        <td id=\"T_5933b630_0b22_11ea_9a7a_80000208fe80row2_col16\" class=\"data row2 col16\" >nan</td>\n",
       "                        <td id=\"T_5933b630_0b22_11ea_9a7a_80000208fe80row2_col17\" class=\"data row2 col17\" >nan</td>\n",
       "                        <td id=\"T_5933b630_0b22_11ea_9a7a_80000208fe80row2_col18\" class=\"data row2 col18\" >nan</td>\n",
       "                        <td id=\"T_5933b630_0b22_11ea_9a7a_80000208fe80row2_col19\" class=\"data row2 col19\" >nan</td>\n",
       "                        <td id=\"T_5933b630_0b22_11ea_9a7a_80000208fe80row2_col20\" class=\"data row2 col20\" >nan</td>\n",
       "                        <td id=\"T_5933b630_0b22_11ea_9a7a_80000208fe80row2_col21\" class=\"data row2 col21\" >nan</td>\n",
       "                        <td id=\"T_5933b630_0b22_11ea_9a7a_80000208fe80row2_col22\" class=\"data row2 col22\" >nan</td>\n",
       "                        <td id=\"T_5933b630_0b22_11ea_9a7a_80000208fe80row2_col23\" class=\"data row2 col23\" >nan</td>\n",
       "                        <td id=\"T_5933b630_0b22_11ea_9a7a_80000208fe80row2_col24\" class=\"data row2 col24\" >nan</td>\n",
       "                        <td id=\"T_5933b630_0b22_11ea_9a7a_80000208fe80row2_col25\" class=\"data row2 col25\" >nan</td>\n",
       "                        <td id=\"T_5933b630_0b22_11ea_9a7a_80000208fe80row2_col26\" class=\"data row2 col26\" >nan</td>\n",
       "                        <td id=\"T_5933b630_0b22_11ea_9a7a_80000208fe80row2_col27\" class=\"data row2 col27\" >nan</td>\n",
       "                        <td id=\"T_5933b630_0b22_11ea_9a7a_80000208fe80row2_col28\" class=\"data row2 col28\" >nan</td>\n",
       "                        <td id=\"T_5933b630_0b22_11ea_9a7a_80000208fe80row2_col29\" class=\"data row2 col29\" >nan</td>\n",
       "                        <td id=\"T_5933b630_0b22_11ea_9a7a_80000208fe80row2_col30\" class=\"data row2 col30\" >nan</td>\n",
       "                        <td id=\"T_5933b630_0b22_11ea_9a7a_80000208fe80row2_col31\" class=\"data row2 col31\" >nan</td>\n",
       "                        <td id=\"T_5933b630_0b22_11ea_9a7a_80000208fe80row2_col32\" class=\"data row2 col32\" >nan</td>\n",
       "                        <td id=\"T_5933b630_0b22_11ea_9a7a_80000208fe80row2_col33\" class=\"data row2 col33\" >nan</td>\n",
       "                        <td id=\"T_5933b630_0b22_11ea_9a7a_80000208fe80row2_col34\" class=\"data row2 col34\" >nan</td>\n",
       "                        <td id=\"T_5933b630_0b22_11ea_9a7a_80000208fe80row2_col35\" class=\"data row2 col35\" >nan</td>\n",
       "                        <td id=\"T_5933b630_0b22_11ea_9a7a_80000208fe80row2_col36\" class=\"data row2 col36\" >nan</td>\n",
       "                        <td id=\"T_5933b630_0b22_11ea_9a7a_80000208fe80row2_col37\" class=\"data row2 col37\" >nan</td>\n",
       "                        <td id=\"T_5933b630_0b22_11ea_9a7a_80000208fe80row2_col38\" class=\"data row2 col38\" >nan</td>\n",
       "                        <td id=\"T_5933b630_0b22_11ea_9a7a_80000208fe80row2_col39\" class=\"data row2 col39\" >nan</td>\n",
       "                        <td id=\"T_5933b630_0b22_11ea_9a7a_80000208fe80row2_col40\" class=\"data row2 col40\" >nan</td>\n",
       "                        <td id=\"T_5933b630_0b22_11ea_9a7a_80000208fe80row2_col41\" class=\"data row2 col41\" >nan</td>\n",
       "                        <td id=\"T_5933b630_0b22_11ea_9a7a_80000208fe80row2_col42\" class=\"data row2 col42\" >nan</td>\n",
       "                        <td id=\"T_5933b630_0b22_11ea_9a7a_80000208fe80row2_col43\" class=\"data row2 col43\" >nan</td>\n",
       "                        <td id=\"T_5933b630_0b22_11ea_9a7a_80000208fe80row2_col44\" class=\"data row2 col44\" >nan</td>\n",
       "                        <td id=\"T_5933b630_0b22_11ea_9a7a_80000208fe80row2_col45\" class=\"data row2 col45\" >nan</td>\n",
       "                        <td id=\"T_5933b630_0b22_11ea_9a7a_80000208fe80row2_col46\" class=\"data row2 col46\" >nan</td>\n",
       "                        <td id=\"T_5933b630_0b22_11ea_9a7a_80000208fe80row2_col47\" class=\"data row2 col47\" >nan</td>\n",
       "                        <td id=\"T_5933b630_0b22_11ea_9a7a_80000208fe80row2_col48\" class=\"data row2 col48\" >nan</td>\n",
       "                        <td id=\"T_5933b630_0b22_11ea_9a7a_80000208fe80row2_col49\" class=\"data row2 col49\" >nan</td>\n",
       "                        <td id=\"T_5933b630_0b22_11ea_9a7a_80000208fe80row2_col50\" class=\"data row2 col50\" >nan</td>\n",
       "                        <td id=\"T_5933b630_0b22_11ea_9a7a_80000208fe80row2_col51\" class=\"data row2 col51\" >nan</td>\n",
       "                        <td id=\"T_5933b630_0b22_11ea_9a7a_80000208fe80row2_col52\" class=\"data row2 col52\" >nan</td>\n",
       "                        <td id=\"T_5933b630_0b22_11ea_9a7a_80000208fe80row2_col53\" class=\"data row2 col53\" >nan</td>\n",
       "                        <td id=\"T_5933b630_0b22_11ea_9a7a_80000208fe80row2_col54\" class=\"data row2 col54\" >nan</td>\n",
       "                        <td id=\"T_5933b630_0b22_11ea_9a7a_80000208fe80row2_col55\" class=\"data row2 col55\" >nan</td>\n",
       "                        <td id=\"T_5933b630_0b22_11ea_9a7a_80000208fe80row2_col56\" class=\"data row2 col56\" >nan</td>\n",
       "                        <td id=\"T_5933b630_0b22_11ea_9a7a_80000208fe80row2_col57\" class=\"data row2 col57\" >nan</td>\n",
       "                        <td id=\"T_5933b630_0b22_11ea_9a7a_80000208fe80row2_col58\" class=\"data row2 col58\" >nan</td>\n",
       "                        <td id=\"T_5933b630_0b22_11ea_9a7a_80000208fe80row2_col59\" class=\"data row2 col59\" >nan</td>\n",
       "                        <td id=\"T_5933b630_0b22_11ea_9a7a_80000208fe80row2_col60\" class=\"data row2 col60\" >nan</td>\n",
       "                        <td id=\"T_5933b630_0b22_11ea_9a7a_80000208fe80row2_col61\" class=\"data row2 col61\" >nan</td>\n",
       "                        <td id=\"T_5933b630_0b22_11ea_9a7a_80000208fe80row2_col62\" class=\"data row2 col62\" >nan</td>\n",
       "                        <td id=\"T_5933b630_0b22_11ea_9a7a_80000208fe80row2_col63\" class=\"data row2 col63\" >nan</td>\n",
       "                        <td id=\"T_5933b630_0b22_11ea_9a7a_80000208fe80row2_col64\" class=\"data row2 col64\" >nan</td>\n",
       "                        <td id=\"T_5933b630_0b22_11ea_9a7a_80000208fe80row2_col65\" class=\"data row2 col65\" >nan</td>\n",
       "                        <td id=\"T_5933b630_0b22_11ea_9a7a_80000208fe80row2_col66\" class=\"data row2 col66\" >nan</td>\n",
       "                        <td id=\"T_5933b630_0b22_11ea_9a7a_80000208fe80row2_col67\" class=\"data row2 col67\" >nan</td>\n",
       "                        <td id=\"T_5933b630_0b22_11ea_9a7a_80000208fe80row2_col68\" class=\"data row2 col68\" >nan</td>\n",
       "                        <td id=\"T_5933b630_0b22_11ea_9a7a_80000208fe80row2_col69\" class=\"data row2 col69\" >nan</td>\n",
       "                        <td id=\"T_5933b630_0b22_11ea_9a7a_80000208fe80row2_col70\" class=\"data row2 col70\" >nan</td>\n",
       "                        <td id=\"T_5933b630_0b22_11ea_9a7a_80000208fe80row2_col71\" class=\"data row2 col71\" >nan</td>\n",
       "                        <td id=\"T_5933b630_0b22_11ea_9a7a_80000208fe80row2_col72\" class=\"data row2 col72\" >nan</td>\n",
       "                        <td id=\"T_5933b630_0b22_11ea_9a7a_80000208fe80row2_col73\" class=\"data row2 col73\" >nan</td>\n",
       "                        <td id=\"T_5933b630_0b22_11ea_9a7a_80000208fe80row2_col74\" class=\"data row2 col74\" >nan</td>\n",
       "                        <td id=\"T_5933b630_0b22_11ea_9a7a_80000208fe80row2_col75\" class=\"data row2 col75\" >nan</td>\n",
       "                        <td id=\"T_5933b630_0b22_11ea_9a7a_80000208fe80row2_col76\" class=\"data row2 col76\" >nan</td>\n",
       "                        <td id=\"T_5933b630_0b22_11ea_9a7a_80000208fe80row2_col77\" class=\"data row2 col77\" >nan</td>\n",
       "                        <td id=\"T_5933b630_0b22_11ea_9a7a_80000208fe80row2_col78\" class=\"data row2 col78\" >nan</td>\n",
       "                        <td id=\"T_5933b630_0b22_11ea_9a7a_80000208fe80row2_col79\" class=\"data row2 col79\" >nan</td>\n",
       "                        <td id=\"T_5933b630_0b22_11ea_9a7a_80000208fe80row2_col80\" class=\"data row2 col80\" >nan</td>\n",
       "                        <td id=\"T_5933b630_0b22_11ea_9a7a_80000208fe80row2_col81\" class=\"data row2 col81\" >nan</td>\n",
       "                        <td id=\"T_5933b630_0b22_11ea_9a7a_80000208fe80row2_col82\" class=\"data row2 col82\" >nan</td>\n",
       "                        <td id=\"T_5933b630_0b22_11ea_9a7a_80000208fe80row2_col83\" class=\"data row2 col83\" >nan</td>\n",
       "                        <td id=\"T_5933b630_0b22_11ea_9a7a_80000208fe80row2_col84\" class=\"data row2 col84\" >nan</td>\n",
       "                        <td id=\"T_5933b630_0b22_11ea_9a7a_80000208fe80row2_col85\" class=\"data row2 col85\" >nan</td>\n",
       "                        <td id=\"T_5933b630_0b22_11ea_9a7a_80000208fe80row2_col86\" class=\"data row2 col86\" >nan</td>\n",
       "                        <td id=\"T_5933b630_0b22_11ea_9a7a_80000208fe80row2_col87\" class=\"data row2 col87\" >nan</td>\n",
       "                        <td id=\"T_5933b630_0b22_11ea_9a7a_80000208fe80row2_col88\" class=\"data row2 col88\" >nan</td>\n",
       "                        <td id=\"T_5933b630_0b22_11ea_9a7a_80000208fe80row2_col89\" class=\"data row2 col89\" >nan</td>\n",
       "                        <td id=\"T_5933b630_0b22_11ea_9a7a_80000208fe80row2_col90\" class=\"data row2 col90\" >nan</td>\n",
       "                        <td id=\"T_5933b630_0b22_11ea_9a7a_80000208fe80row2_col91\" class=\"data row2 col91\" >nan</td>\n",
       "                        <td id=\"T_5933b630_0b22_11ea_9a7a_80000208fe80row2_col92\" class=\"data row2 col92\" >nan</td>\n",
       "                        <td id=\"T_5933b630_0b22_11ea_9a7a_80000208fe80row2_col93\" class=\"data row2 col93\" >nan</td>\n",
       "                        <td id=\"T_5933b630_0b22_11ea_9a7a_80000208fe80row2_col94\" class=\"data row2 col94\" >nan</td>\n",
       "                        <td id=\"T_5933b630_0b22_11ea_9a7a_80000208fe80row2_col95\" class=\"data row2 col95\" >nan</td>\n",
       "                        <td id=\"T_5933b630_0b22_11ea_9a7a_80000208fe80row2_col96\" class=\"data row2 col96\" >nan</td>\n",
       "                        <td id=\"T_5933b630_0b22_11ea_9a7a_80000208fe80row2_col97\" class=\"data row2 col97\" >nan</td>\n",
       "                        <td id=\"T_5933b630_0b22_11ea_9a7a_80000208fe80row2_col98\" class=\"data row2 col98\" >nan</td>\n",
       "                        <td id=\"T_5933b630_0b22_11ea_9a7a_80000208fe80row2_col99\" class=\"data row2 col99\" >nan</td>\n",
       "                        <td id=\"T_5933b630_0b22_11ea_9a7a_80000208fe80row2_col100\" class=\"data row2 col100\" >nan</td>\n",
       "                        <td id=\"T_5933b630_0b22_11ea_9a7a_80000208fe80row2_col101\" class=\"data row2 col101\" >nan</td>\n",
       "                        <td id=\"T_5933b630_0b22_11ea_9a7a_80000208fe80row2_col102\" class=\"data row2 col102\" >nan</td>\n",
       "                        <td id=\"T_5933b630_0b22_11ea_9a7a_80000208fe80row2_col103\" class=\"data row2 col103\" >nan</td>\n",
       "                        <td id=\"T_5933b630_0b22_11ea_9a7a_80000208fe80row2_col104\" class=\"data row2 col104\" >nan</td>\n",
       "                        <td id=\"T_5933b630_0b22_11ea_9a7a_80000208fe80row2_col105\" class=\"data row2 col105\" >nan</td>\n",
       "                        <td id=\"T_5933b630_0b22_11ea_9a7a_80000208fe80row2_col106\" class=\"data row2 col106\" >nan</td>\n",
       "                        <td id=\"T_5933b630_0b22_11ea_9a7a_80000208fe80row2_col107\" class=\"data row2 col107\" >nan</td>\n",
       "                        <td id=\"T_5933b630_0b22_11ea_9a7a_80000208fe80row2_col108\" class=\"data row2 col108\" >nan</td>\n",
       "                        <td id=\"T_5933b630_0b22_11ea_9a7a_80000208fe80row2_col109\" class=\"data row2 col109\" >nan</td>\n",
       "                        <td id=\"T_5933b630_0b22_11ea_9a7a_80000208fe80row2_col110\" class=\"data row2 col110\" >nan</td>\n",
       "                        <td id=\"T_5933b630_0b22_11ea_9a7a_80000208fe80row2_col111\" class=\"data row2 col111\" >nan</td>\n",
       "                        <td id=\"T_5933b630_0b22_11ea_9a7a_80000208fe80row2_col112\" class=\"data row2 col112\" >nan</td>\n",
       "                        <td id=\"T_5933b630_0b22_11ea_9a7a_80000208fe80row2_col113\" class=\"data row2 col113\" >nan</td>\n",
       "                        <td id=\"T_5933b630_0b22_11ea_9a7a_80000208fe80row2_col114\" class=\"data row2 col114\" >nan</td>\n",
       "                        <td id=\"T_5933b630_0b22_11ea_9a7a_80000208fe80row2_col115\" class=\"data row2 col115\" >nan</td>\n",
       "                        <td id=\"T_5933b630_0b22_11ea_9a7a_80000208fe80row2_col116\" class=\"data row2 col116\" >nan</td>\n",
       "                        <td id=\"T_5933b630_0b22_11ea_9a7a_80000208fe80row2_col117\" class=\"data row2 col117\" >nan</td>\n",
       "                        <td id=\"T_5933b630_0b22_11ea_9a7a_80000208fe80row2_col118\" class=\"data row2 col118\" >nan</td>\n",
       "                        <td id=\"T_5933b630_0b22_11ea_9a7a_80000208fe80row2_col119\" class=\"data row2 col119\" >nan</td>\n",
       "                        <td id=\"T_5933b630_0b22_11ea_9a7a_80000208fe80row2_col120\" class=\"data row2 col120\" >nan</td>\n",
       "                        <td id=\"T_5933b630_0b22_11ea_9a7a_80000208fe80row2_col121\" class=\"data row2 col121\" >nan</td>\n",
       "                        <td id=\"T_5933b630_0b22_11ea_9a7a_80000208fe80row2_col122\" class=\"data row2 col122\" >nan</td>\n",
       "                        <td id=\"T_5933b630_0b22_11ea_9a7a_80000208fe80row2_col123\" class=\"data row2 col123\" >nan</td>\n",
       "                        <td id=\"T_5933b630_0b22_11ea_9a7a_80000208fe80row2_col124\" class=\"data row2 col124\" >nan</td>\n",
       "                        <td id=\"T_5933b630_0b22_11ea_9a7a_80000208fe80row2_col125\" class=\"data row2 col125\" >nan</td>\n",
       "                        <td id=\"T_5933b630_0b22_11ea_9a7a_80000208fe80row2_col126\" class=\"data row2 col126\" >nan</td>\n",
       "                        <td id=\"T_5933b630_0b22_11ea_9a7a_80000208fe80row2_col127\" class=\"data row2 col127\" >nan</td>\n",
       "                        <td id=\"T_5933b630_0b22_11ea_9a7a_80000208fe80row2_col128\" class=\"data row2 col128\" >nan</td>\n",
       "                        <td id=\"T_5933b630_0b22_11ea_9a7a_80000208fe80row2_col129\" class=\"data row2 col129\" >nan</td>\n",
       "                        <td id=\"T_5933b630_0b22_11ea_9a7a_80000208fe80row2_col130\" class=\"data row2 col130\" >nan</td>\n",
       "                        <td id=\"T_5933b630_0b22_11ea_9a7a_80000208fe80row2_col131\" class=\"data row2 col131\" >nan</td>\n",
       "                        <td id=\"T_5933b630_0b22_11ea_9a7a_80000208fe80row2_col132\" class=\"data row2 col132\" >nan</td>\n",
       "                        <td id=\"T_5933b630_0b22_11ea_9a7a_80000208fe80row2_col133\" class=\"data row2 col133\" >nan</td>\n",
       "                        <td id=\"T_5933b630_0b22_11ea_9a7a_80000208fe80row2_col134\" class=\"data row2 col134\" >nan</td>\n",
       "                        <td id=\"T_5933b630_0b22_11ea_9a7a_80000208fe80row2_col135\" class=\"data row2 col135\" >nan</td>\n",
       "                        <td id=\"T_5933b630_0b22_11ea_9a7a_80000208fe80row2_col136\" class=\"data row2 col136\" >nan</td>\n",
       "                        <td id=\"T_5933b630_0b22_11ea_9a7a_80000208fe80row2_col137\" class=\"data row2 col137\" >nan</td>\n",
       "                        <td id=\"T_5933b630_0b22_11ea_9a7a_80000208fe80row2_col138\" class=\"data row2 col138\" >nan</td>\n",
       "                        <td id=\"T_5933b630_0b22_11ea_9a7a_80000208fe80row2_col139\" class=\"data row2 col139\" >nan</td>\n",
       "                        <td id=\"T_5933b630_0b22_11ea_9a7a_80000208fe80row2_col140\" class=\"data row2 col140\" >nan</td>\n",
       "                        <td id=\"T_5933b630_0b22_11ea_9a7a_80000208fe80row2_col141\" class=\"data row2 col141\" >nan</td>\n",
       "                        <td id=\"T_5933b630_0b22_11ea_9a7a_80000208fe80row2_col142\" class=\"data row2 col142\" >nan</td>\n",
       "                        <td id=\"T_5933b630_0b22_11ea_9a7a_80000208fe80row2_col143\" class=\"data row2 col143\" >nan</td>\n",
       "                        <td id=\"T_5933b630_0b22_11ea_9a7a_80000208fe80row2_col144\" class=\"data row2 col144\" >nan</td>\n",
       "                        <td id=\"T_5933b630_0b22_11ea_9a7a_80000208fe80row2_col145\" class=\"data row2 col145\" >nan</td>\n",
       "                        <td id=\"T_5933b630_0b22_11ea_9a7a_80000208fe80row2_col146\" class=\"data row2 col146\" >nan</td>\n",
       "                        <td id=\"T_5933b630_0b22_11ea_9a7a_80000208fe80row2_col147\" class=\"data row2 col147\" >nan</td>\n",
       "                        <td id=\"T_5933b630_0b22_11ea_9a7a_80000208fe80row2_col148\" class=\"data row2 col148\" >nan</td>\n",
       "                        <td id=\"T_5933b630_0b22_11ea_9a7a_80000208fe80row2_col149\" class=\"data row2 col149\" >nan</td>\n",
       "                        <td id=\"T_5933b630_0b22_11ea_9a7a_80000208fe80row2_col150\" class=\"data row2 col150\" >nan</td>\n",
       "                        <td id=\"T_5933b630_0b22_11ea_9a7a_80000208fe80row2_col151\" class=\"data row2 col151\" >nan</td>\n",
       "                        <td id=\"T_5933b630_0b22_11ea_9a7a_80000208fe80row2_col152\" class=\"data row2 col152\" >nan</td>\n",
       "                        <td id=\"T_5933b630_0b22_11ea_9a7a_80000208fe80row2_col153\" class=\"data row2 col153\" >nan</td>\n",
       "                        <td id=\"T_5933b630_0b22_11ea_9a7a_80000208fe80row2_col154\" class=\"data row2 col154\" >nan</td>\n",
       "                        <td id=\"T_5933b630_0b22_11ea_9a7a_80000208fe80row2_col155\" class=\"data row2 col155\" >nan</td>\n",
       "                        <td id=\"T_5933b630_0b22_11ea_9a7a_80000208fe80row2_col156\" class=\"data row2 col156\" >nan</td>\n",
       "                        <td id=\"T_5933b630_0b22_11ea_9a7a_80000208fe80row2_col157\" class=\"data row2 col157\" >nan</td>\n",
       "                        <td id=\"T_5933b630_0b22_11ea_9a7a_80000208fe80row2_col158\" class=\"data row2 col158\" >nan</td>\n",
       "                        <td id=\"T_5933b630_0b22_11ea_9a7a_80000208fe80row2_col159\" class=\"data row2 col159\" >nan</td>\n",
       "                        <td id=\"T_5933b630_0b22_11ea_9a7a_80000208fe80row2_col160\" class=\"data row2 col160\" >nan</td>\n",
       "                        <td id=\"T_5933b630_0b22_11ea_9a7a_80000208fe80row2_col161\" class=\"data row2 col161\" >nan</td>\n",
       "                        <td id=\"T_5933b630_0b22_11ea_9a7a_80000208fe80row2_col162\" class=\"data row2 col162\" >nan</td>\n",
       "                        <td id=\"T_5933b630_0b22_11ea_9a7a_80000208fe80row2_col163\" class=\"data row2 col163\" >nan</td>\n",
       "                        <td id=\"T_5933b630_0b22_11ea_9a7a_80000208fe80row2_col164\" class=\"data row2 col164\" >nan</td>\n",
       "                        <td id=\"T_5933b630_0b22_11ea_9a7a_80000208fe80row2_col165\" class=\"data row2 col165\" >nan</td>\n",
       "                        <td id=\"T_5933b630_0b22_11ea_9a7a_80000208fe80row2_col166\" class=\"data row2 col166\" >nan</td>\n",
       "                        <td id=\"T_5933b630_0b22_11ea_9a7a_80000208fe80row2_col167\" class=\"data row2 col167\" >nan</td>\n",
       "                        <td id=\"T_5933b630_0b22_11ea_9a7a_80000208fe80row2_col168\" class=\"data row2 col168\" >nan</td>\n",
       "                        <td id=\"T_5933b630_0b22_11ea_9a7a_80000208fe80row2_col169\" class=\"data row2 col169\" >nan</td>\n",
       "                        <td id=\"T_5933b630_0b22_11ea_9a7a_80000208fe80row2_col170\" class=\"data row2 col170\" >nan</td>\n",
       "                        <td id=\"T_5933b630_0b22_11ea_9a7a_80000208fe80row2_col171\" class=\"data row2 col171\" >nan</td>\n",
       "                        <td id=\"T_5933b630_0b22_11ea_9a7a_80000208fe80row2_col172\" class=\"data row2 col172\" >nan</td>\n",
       "                        <td id=\"T_5933b630_0b22_11ea_9a7a_80000208fe80row2_col173\" class=\"data row2 col173\" >nan</td>\n",
       "                        <td id=\"T_5933b630_0b22_11ea_9a7a_80000208fe80row2_col174\" class=\"data row2 col174\" >nan</td>\n",
       "                        <td id=\"T_5933b630_0b22_11ea_9a7a_80000208fe80row2_col175\" class=\"data row2 col175\" >nan</td>\n",
       "                        <td id=\"T_5933b630_0b22_11ea_9a7a_80000208fe80row2_col176\" class=\"data row2 col176\" >nan</td>\n",
       "                        <td id=\"T_5933b630_0b22_11ea_9a7a_80000208fe80row2_col177\" class=\"data row2 col177\" >nan</td>\n",
       "                        <td id=\"T_5933b630_0b22_11ea_9a7a_80000208fe80row2_col178\" class=\"data row2 col178\" >nan</td>\n",
       "                        <td id=\"T_5933b630_0b22_11ea_9a7a_80000208fe80row2_col179\" class=\"data row2 col179\" >nan</td>\n",
       "                        <td id=\"T_5933b630_0b22_11ea_9a7a_80000208fe80row2_col180\" class=\"data row2 col180\" >nan</td>\n",
       "                        <td id=\"T_5933b630_0b22_11ea_9a7a_80000208fe80row2_col181\" class=\"data row2 col181\" >nan</td>\n",
       "                        <td id=\"T_5933b630_0b22_11ea_9a7a_80000208fe80row2_col182\" class=\"data row2 col182\" >nan</td>\n",
       "                        <td id=\"T_5933b630_0b22_11ea_9a7a_80000208fe80row2_col183\" class=\"data row2 col183\" >nan</td>\n",
       "                        <td id=\"T_5933b630_0b22_11ea_9a7a_80000208fe80row2_col184\" class=\"data row2 col184\" >nan</td>\n",
       "                        <td id=\"T_5933b630_0b22_11ea_9a7a_80000208fe80row2_col185\" class=\"data row2 col185\" >nan</td>\n",
       "                        <td id=\"T_5933b630_0b22_11ea_9a7a_80000208fe80row2_col186\" class=\"data row2 col186\" >nan</td>\n",
       "                        <td id=\"T_5933b630_0b22_11ea_9a7a_80000208fe80row2_col187\" class=\"data row2 col187\" >nan</td>\n",
       "                        <td id=\"T_5933b630_0b22_11ea_9a7a_80000208fe80row2_col188\" class=\"data row2 col188\" >nan</td>\n",
       "            </tr>\n",
       "            <tr>\n",
       "                                <td id=\"T_5933b630_0b22_11ea_9a7a_80000208fe80row3_col0\" class=\"data row3 col0\" >9.6</td>\n",
       "                        <td id=\"T_5933b630_0b22_11ea_9a7a_80000208fe80row3_col1\" class=\"data row3 col1\" >StackedEnsemble_BestOfFamily_AutoML_20191119_184509</td>\n",
       "                        <td id=\"T_5933b630_0b22_11ea_9a7a_80000208fe80row3_col2\" class=\"data row3 col2\" >DeepLearning_grid_1_AutoML_20191119_184509_model_10</td>\n",
       "                        <td id=\"T_5933b630_0b22_11ea_9a7a_80000208fe80row3_col3\" class=\"data row3 col3\" >GBM_grid_1_AutoML_20191119_184509_model_39</td>\n",
       "                        <td id=\"T_5933b630_0b22_11ea_9a7a_80000208fe80row3_col4\" class=\"data row3 col4\" >XGBoost_grid_1_AutoML_20191119_184509_model_13</td>\n",
       "                        <td id=\"T_5933b630_0b22_11ea_9a7a_80000208fe80row3_col5\" class=\"data row3 col5\" >DRF_1_AutoML_20191119_184509</td>\n",
       "                        <td id=\"T_5933b630_0b22_11ea_9a7a_80000208fe80row3_col6\" class=\"data row3 col6\" >XRT_1_AutoML_20191119_184509</td>\n",
       "                        <td id=\"T_5933b630_0b22_11ea_9a7a_80000208fe80row3_col7\" class=\"data row3 col7\" >GLM_grid_1_AutoML_20191119_184509_model_1</td>\n",
       "                        <td id=\"T_5933b630_0b22_11ea_9a7a_80000208fe80row3_col8\" class=\"data row3 col8\" >nan</td>\n",
       "                        <td id=\"T_5933b630_0b22_11ea_9a7a_80000208fe80row3_col9\" class=\"data row3 col9\" >nan</td>\n",
       "                        <td id=\"T_5933b630_0b22_11ea_9a7a_80000208fe80row3_col10\" class=\"data row3 col10\" >nan</td>\n",
       "                        <td id=\"T_5933b630_0b22_11ea_9a7a_80000208fe80row3_col11\" class=\"data row3 col11\" >nan</td>\n",
       "                        <td id=\"T_5933b630_0b22_11ea_9a7a_80000208fe80row3_col12\" class=\"data row3 col12\" >nan</td>\n",
       "                        <td id=\"T_5933b630_0b22_11ea_9a7a_80000208fe80row3_col13\" class=\"data row3 col13\" >nan</td>\n",
       "                        <td id=\"T_5933b630_0b22_11ea_9a7a_80000208fe80row3_col14\" class=\"data row3 col14\" >nan</td>\n",
       "                        <td id=\"T_5933b630_0b22_11ea_9a7a_80000208fe80row3_col15\" class=\"data row3 col15\" >nan</td>\n",
       "                        <td id=\"T_5933b630_0b22_11ea_9a7a_80000208fe80row3_col16\" class=\"data row3 col16\" >nan</td>\n",
       "                        <td id=\"T_5933b630_0b22_11ea_9a7a_80000208fe80row3_col17\" class=\"data row3 col17\" >nan</td>\n",
       "                        <td id=\"T_5933b630_0b22_11ea_9a7a_80000208fe80row3_col18\" class=\"data row3 col18\" >nan</td>\n",
       "                        <td id=\"T_5933b630_0b22_11ea_9a7a_80000208fe80row3_col19\" class=\"data row3 col19\" >nan</td>\n",
       "                        <td id=\"T_5933b630_0b22_11ea_9a7a_80000208fe80row3_col20\" class=\"data row3 col20\" >nan</td>\n",
       "                        <td id=\"T_5933b630_0b22_11ea_9a7a_80000208fe80row3_col21\" class=\"data row3 col21\" >nan</td>\n",
       "                        <td id=\"T_5933b630_0b22_11ea_9a7a_80000208fe80row3_col22\" class=\"data row3 col22\" >nan</td>\n",
       "                        <td id=\"T_5933b630_0b22_11ea_9a7a_80000208fe80row3_col23\" class=\"data row3 col23\" >nan</td>\n",
       "                        <td id=\"T_5933b630_0b22_11ea_9a7a_80000208fe80row3_col24\" class=\"data row3 col24\" >nan</td>\n",
       "                        <td id=\"T_5933b630_0b22_11ea_9a7a_80000208fe80row3_col25\" class=\"data row3 col25\" >nan</td>\n",
       "                        <td id=\"T_5933b630_0b22_11ea_9a7a_80000208fe80row3_col26\" class=\"data row3 col26\" >nan</td>\n",
       "                        <td id=\"T_5933b630_0b22_11ea_9a7a_80000208fe80row3_col27\" class=\"data row3 col27\" >nan</td>\n",
       "                        <td id=\"T_5933b630_0b22_11ea_9a7a_80000208fe80row3_col28\" class=\"data row3 col28\" >nan</td>\n",
       "                        <td id=\"T_5933b630_0b22_11ea_9a7a_80000208fe80row3_col29\" class=\"data row3 col29\" >nan</td>\n",
       "                        <td id=\"T_5933b630_0b22_11ea_9a7a_80000208fe80row3_col30\" class=\"data row3 col30\" >nan</td>\n",
       "                        <td id=\"T_5933b630_0b22_11ea_9a7a_80000208fe80row3_col31\" class=\"data row3 col31\" >nan</td>\n",
       "                        <td id=\"T_5933b630_0b22_11ea_9a7a_80000208fe80row3_col32\" class=\"data row3 col32\" >nan</td>\n",
       "                        <td id=\"T_5933b630_0b22_11ea_9a7a_80000208fe80row3_col33\" class=\"data row3 col33\" >nan</td>\n",
       "                        <td id=\"T_5933b630_0b22_11ea_9a7a_80000208fe80row3_col34\" class=\"data row3 col34\" >nan</td>\n",
       "                        <td id=\"T_5933b630_0b22_11ea_9a7a_80000208fe80row3_col35\" class=\"data row3 col35\" >nan</td>\n",
       "                        <td id=\"T_5933b630_0b22_11ea_9a7a_80000208fe80row3_col36\" class=\"data row3 col36\" >nan</td>\n",
       "                        <td id=\"T_5933b630_0b22_11ea_9a7a_80000208fe80row3_col37\" class=\"data row3 col37\" >nan</td>\n",
       "                        <td id=\"T_5933b630_0b22_11ea_9a7a_80000208fe80row3_col38\" class=\"data row3 col38\" >nan</td>\n",
       "                        <td id=\"T_5933b630_0b22_11ea_9a7a_80000208fe80row3_col39\" class=\"data row3 col39\" >nan</td>\n",
       "                        <td id=\"T_5933b630_0b22_11ea_9a7a_80000208fe80row3_col40\" class=\"data row3 col40\" >nan</td>\n",
       "                        <td id=\"T_5933b630_0b22_11ea_9a7a_80000208fe80row3_col41\" class=\"data row3 col41\" >nan</td>\n",
       "                        <td id=\"T_5933b630_0b22_11ea_9a7a_80000208fe80row3_col42\" class=\"data row3 col42\" >nan</td>\n",
       "                        <td id=\"T_5933b630_0b22_11ea_9a7a_80000208fe80row3_col43\" class=\"data row3 col43\" >nan</td>\n",
       "                        <td id=\"T_5933b630_0b22_11ea_9a7a_80000208fe80row3_col44\" class=\"data row3 col44\" >nan</td>\n",
       "                        <td id=\"T_5933b630_0b22_11ea_9a7a_80000208fe80row3_col45\" class=\"data row3 col45\" >nan</td>\n",
       "                        <td id=\"T_5933b630_0b22_11ea_9a7a_80000208fe80row3_col46\" class=\"data row3 col46\" >nan</td>\n",
       "                        <td id=\"T_5933b630_0b22_11ea_9a7a_80000208fe80row3_col47\" class=\"data row3 col47\" >nan</td>\n",
       "                        <td id=\"T_5933b630_0b22_11ea_9a7a_80000208fe80row3_col48\" class=\"data row3 col48\" >nan</td>\n",
       "                        <td id=\"T_5933b630_0b22_11ea_9a7a_80000208fe80row3_col49\" class=\"data row3 col49\" >nan</td>\n",
       "                        <td id=\"T_5933b630_0b22_11ea_9a7a_80000208fe80row3_col50\" class=\"data row3 col50\" >nan</td>\n",
       "                        <td id=\"T_5933b630_0b22_11ea_9a7a_80000208fe80row3_col51\" class=\"data row3 col51\" >nan</td>\n",
       "                        <td id=\"T_5933b630_0b22_11ea_9a7a_80000208fe80row3_col52\" class=\"data row3 col52\" >nan</td>\n",
       "                        <td id=\"T_5933b630_0b22_11ea_9a7a_80000208fe80row3_col53\" class=\"data row3 col53\" >nan</td>\n",
       "                        <td id=\"T_5933b630_0b22_11ea_9a7a_80000208fe80row3_col54\" class=\"data row3 col54\" >nan</td>\n",
       "                        <td id=\"T_5933b630_0b22_11ea_9a7a_80000208fe80row3_col55\" class=\"data row3 col55\" >nan</td>\n",
       "                        <td id=\"T_5933b630_0b22_11ea_9a7a_80000208fe80row3_col56\" class=\"data row3 col56\" >nan</td>\n",
       "                        <td id=\"T_5933b630_0b22_11ea_9a7a_80000208fe80row3_col57\" class=\"data row3 col57\" >nan</td>\n",
       "                        <td id=\"T_5933b630_0b22_11ea_9a7a_80000208fe80row3_col58\" class=\"data row3 col58\" >nan</td>\n",
       "                        <td id=\"T_5933b630_0b22_11ea_9a7a_80000208fe80row3_col59\" class=\"data row3 col59\" >nan</td>\n",
       "                        <td id=\"T_5933b630_0b22_11ea_9a7a_80000208fe80row3_col60\" class=\"data row3 col60\" >nan</td>\n",
       "                        <td id=\"T_5933b630_0b22_11ea_9a7a_80000208fe80row3_col61\" class=\"data row3 col61\" >nan</td>\n",
       "                        <td id=\"T_5933b630_0b22_11ea_9a7a_80000208fe80row3_col62\" class=\"data row3 col62\" >nan</td>\n",
       "                        <td id=\"T_5933b630_0b22_11ea_9a7a_80000208fe80row3_col63\" class=\"data row3 col63\" >nan</td>\n",
       "                        <td id=\"T_5933b630_0b22_11ea_9a7a_80000208fe80row3_col64\" class=\"data row3 col64\" >nan</td>\n",
       "                        <td id=\"T_5933b630_0b22_11ea_9a7a_80000208fe80row3_col65\" class=\"data row3 col65\" >nan</td>\n",
       "                        <td id=\"T_5933b630_0b22_11ea_9a7a_80000208fe80row3_col66\" class=\"data row3 col66\" >nan</td>\n",
       "                        <td id=\"T_5933b630_0b22_11ea_9a7a_80000208fe80row3_col67\" class=\"data row3 col67\" >nan</td>\n",
       "                        <td id=\"T_5933b630_0b22_11ea_9a7a_80000208fe80row3_col68\" class=\"data row3 col68\" >nan</td>\n",
       "                        <td id=\"T_5933b630_0b22_11ea_9a7a_80000208fe80row3_col69\" class=\"data row3 col69\" >nan</td>\n",
       "                        <td id=\"T_5933b630_0b22_11ea_9a7a_80000208fe80row3_col70\" class=\"data row3 col70\" >nan</td>\n",
       "                        <td id=\"T_5933b630_0b22_11ea_9a7a_80000208fe80row3_col71\" class=\"data row3 col71\" >nan</td>\n",
       "                        <td id=\"T_5933b630_0b22_11ea_9a7a_80000208fe80row3_col72\" class=\"data row3 col72\" >nan</td>\n",
       "                        <td id=\"T_5933b630_0b22_11ea_9a7a_80000208fe80row3_col73\" class=\"data row3 col73\" >nan</td>\n",
       "                        <td id=\"T_5933b630_0b22_11ea_9a7a_80000208fe80row3_col74\" class=\"data row3 col74\" >nan</td>\n",
       "                        <td id=\"T_5933b630_0b22_11ea_9a7a_80000208fe80row3_col75\" class=\"data row3 col75\" >nan</td>\n",
       "                        <td id=\"T_5933b630_0b22_11ea_9a7a_80000208fe80row3_col76\" class=\"data row3 col76\" >nan</td>\n",
       "                        <td id=\"T_5933b630_0b22_11ea_9a7a_80000208fe80row3_col77\" class=\"data row3 col77\" >nan</td>\n",
       "                        <td id=\"T_5933b630_0b22_11ea_9a7a_80000208fe80row3_col78\" class=\"data row3 col78\" >nan</td>\n",
       "                        <td id=\"T_5933b630_0b22_11ea_9a7a_80000208fe80row3_col79\" class=\"data row3 col79\" >nan</td>\n",
       "                        <td id=\"T_5933b630_0b22_11ea_9a7a_80000208fe80row3_col80\" class=\"data row3 col80\" >nan</td>\n",
       "                        <td id=\"T_5933b630_0b22_11ea_9a7a_80000208fe80row3_col81\" class=\"data row3 col81\" >nan</td>\n",
       "                        <td id=\"T_5933b630_0b22_11ea_9a7a_80000208fe80row3_col82\" class=\"data row3 col82\" >nan</td>\n",
       "                        <td id=\"T_5933b630_0b22_11ea_9a7a_80000208fe80row3_col83\" class=\"data row3 col83\" >nan</td>\n",
       "                        <td id=\"T_5933b630_0b22_11ea_9a7a_80000208fe80row3_col84\" class=\"data row3 col84\" >nan</td>\n",
       "                        <td id=\"T_5933b630_0b22_11ea_9a7a_80000208fe80row3_col85\" class=\"data row3 col85\" >nan</td>\n",
       "                        <td id=\"T_5933b630_0b22_11ea_9a7a_80000208fe80row3_col86\" class=\"data row3 col86\" >nan</td>\n",
       "                        <td id=\"T_5933b630_0b22_11ea_9a7a_80000208fe80row3_col87\" class=\"data row3 col87\" >nan</td>\n",
       "                        <td id=\"T_5933b630_0b22_11ea_9a7a_80000208fe80row3_col88\" class=\"data row3 col88\" >nan</td>\n",
       "                        <td id=\"T_5933b630_0b22_11ea_9a7a_80000208fe80row3_col89\" class=\"data row3 col89\" >nan</td>\n",
       "                        <td id=\"T_5933b630_0b22_11ea_9a7a_80000208fe80row3_col90\" class=\"data row3 col90\" >nan</td>\n",
       "                        <td id=\"T_5933b630_0b22_11ea_9a7a_80000208fe80row3_col91\" class=\"data row3 col91\" >nan</td>\n",
       "                        <td id=\"T_5933b630_0b22_11ea_9a7a_80000208fe80row3_col92\" class=\"data row3 col92\" >nan</td>\n",
       "                        <td id=\"T_5933b630_0b22_11ea_9a7a_80000208fe80row3_col93\" class=\"data row3 col93\" >nan</td>\n",
       "                        <td id=\"T_5933b630_0b22_11ea_9a7a_80000208fe80row3_col94\" class=\"data row3 col94\" >nan</td>\n",
       "                        <td id=\"T_5933b630_0b22_11ea_9a7a_80000208fe80row3_col95\" class=\"data row3 col95\" >nan</td>\n",
       "                        <td id=\"T_5933b630_0b22_11ea_9a7a_80000208fe80row3_col96\" class=\"data row3 col96\" >nan</td>\n",
       "                        <td id=\"T_5933b630_0b22_11ea_9a7a_80000208fe80row3_col97\" class=\"data row3 col97\" >nan</td>\n",
       "                        <td id=\"T_5933b630_0b22_11ea_9a7a_80000208fe80row3_col98\" class=\"data row3 col98\" >nan</td>\n",
       "                        <td id=\"T_5933b630_0b22_11ea_9a7a_80000208fe80row3_col99\" class=\"data row3 col99\" >nan</td>\n",
       "                        <td id=\"T_5933b630_0b22_11ea_9a7a_80000208fe80row3_col100\" class=\"data row3 col100\" >nan</td>\n",
       "                        <td id=\"T_5933b630_0b22_11ea_9a7a_80000208fe80row3_col101\" class=\"data row3 col101\" >nan</td>\n",
       "                        <td id=\"T_5933b630_0b22_11ea_9a7a_80000208fe80row3_col102\" class=\"data row3 col102\" >nan</td>\n",
       "                        <td id=\"T_5933b630_0b22_11ea_9a7a_80000208fe80row3_col103\" class=\"data row3 col103\" >nan</td>\n",
       "                        <td id=\"T_5933b630_0b22_11ea_9a7a_80000208fe80row3_col104\" class=\"data row3 col104\" >nan</td>\n",
       "                        <td id=\"T_5933b630_0b22_11ea_9a7a_80000208fe80row3_col105\" class=\"data row3 col105\" >nan</td>\n",
       "                        <td id=\"T_5933b630_0b22_11ea_9a7a_80000208fe80row3_col106\" class=\"data row3 col106\" >nan</td>\n",
       "                        <td id=\"T_5933b630_0b22_11ea_9a7a_80000208fe80row3_col107\" class=\"data row3 col107\" >nan</td>\n",
       "                        <td id=\"T_5933b630_0b22_11ea_9a7a_80000208fe80row3_col108\" class=\"data row3 col108\" >nan</td>\n",
       "                        <td id=\"T_5933b630_0b22_11ea_9a7a_80000208fe80row3_col109\" class=\"data row3 col109\" >nan</td>\n",
       "                        <td id=\"T_5933b630_0b22_11ea_9a7a_80000208fe80row3_col110\" class=\"data row3 col110\" >nan</td>\n",
       "                        <td id=\"T_5933b630_0b22_11ea_9a7a_80000208fe80row3_col111\" class=\"data row3 col111\" >nan</td>\n",
       "                        <td id=\"T_5933b630_0b22_11ea_9a7a_80000208fe80row3_col112\" class=\"data row3 col112\" >nan</td>\n",
       "                        <td id=\"T_5933b630_0b22_11ea_9a7a_80000208fe80row3_col113\" class=\"data row3 col113\" >nan</td>\n",
       "                        <td id=\"T_5933b630_0b22_11ea_9a7a_80000208fe80row3_col114\" class=\"data row3 col114\" >nan</td>\n",
       "                        <td id=\"T_5933b630_0b22_11ea_9a7a_80000208fe80row3_col115\" class=\"data row3 col115\" >nan</td>\n",
       "                        <td id=\"T_5933b630_0b22_11ea_9a7a_80000208fe80row3_col116\" class=\"data row3 col116\" >nan</td>\n",
       "                        <td id=\"T_5933b630_0b22_11ea_9a7a_80000208fe80row3_col117\" class=\"data row3 col117\" >nan</td>\n",
       "                        <td id=\"T_5933b630_0b22_11ea_9a7a_80000208fe80row3_col118\" class=\"data row3 col118\" >nan</td>\n",
       "                        <td id=\"T_5933b630_0b22_11ea_9a7a_80000208fe80row3_col119\" class=\"data row3 col119\" >nan</td>\n",
       "                        <td id=\"T_5933b630_0b22_11ea_9a7a_80000208fe80row3_col120\" class=\"data row3 col120\" >nan</td>\n",
       "                        <td id=\"T_5933b630_0b22_11ea_9a7a_80000208fe80row3_col121\" class=\"data row3 col121\" >nan</td>\n",
       "                        <td id=\"T_5933b630_0b22_11ea_9a7a_80000208fe80row3_col122\" class=\"data row3 col122\" >nan</td>\n",
       "                        <td id=\"T_5933b630_0b22_11ea_9a7a_80000208fe80row3_col123\" class=\"data row3 col123\" >nan</td>\n",
       "                        <td id=\"T_5933b630_0b22_11ea_9a7a_80000208fe80row3_col124\" class=\"data row3 col124\" >nan</td>\n",
       "                        <td id=\"T_5933b630_0b22_11ea_9a7a_80000208fe80row3_col125\" class=\"data row3 col125\" >nan</td>\n",
       "                        <td id=\"T_5933b630_0b22_11ea_9a7a_80000208fe80row3_col126\" class=\"data row3 col126\" >nan</td>\n",
       "                        <td id=\"T_5933b630_0b22_11ea_9a7a_80000208fe80row3_col127\" class=\"data row3 col127\" >nan</td>\n",
       "                        <td id=\"T_5933b630_0b22_11ea_9a7a_80000208fe80row3_col128\" class=\"data row3 col128\" >nan</td>\n",
       "                        <td id=\"T_5933b630_0b22_11ea_9a7a_80000208fe80row3_col129\" class=\"data row3 col129\" >nan</td>\n",
       "                        <td id=\"T_5933b630_0b22_11ea_9a7a_80000208fe80row3_col130\" class=\"data row3 col130\" >nan</td>\n",
       "                        <td id=\"T_5933b630_0b22_11ea_9a7a_80000208fe80row3_col131\" class=\"data row3 col131\" >nan</td>\n",
       "                        <td id=\"T_5933b630_0b22_11ea_9a7a_80000208fe80row3_col132\" class=\"data row3 col132\" >nan</td>\n",
       "                        <td id=\"T_5933b630_0b22_11ea_9a7a_80000208fe80row3_col133\" class=\"data row3 col133\" >nan</td>\n",
       "                        <td id=\"T_5933b630_0b22_11ea_9a7a_80000208fe80row3_col134\" class=\"data row3 col134\" >nan</td>\n",
       "                        <td id=\"T_5933b630_0b22_11ea_9a7a_80000208fe80row3_col135\" class=\"data row3 col135\" >nan</td>\n",
       "                        <td id=\"T_5933b630_0b22_11ea_9a7a_80000208fe80row3_col136\" class=\"data row3 col136\" >nan</td>\n",
       "                        <td id=\"T_5933b630_0b22_11ea_9a7a_80000208fe80row3_col137\" class=\"data row3 col137\" >nan</td>\n",
       "                        <td id=\"T_5933b630_0b22_11ea_9a7a_80000208fe80row3_col138\" class=\"data row3 col138\" >nan</td>\n",
       "                        <td id=\"T_5933b630_0b22_11ea_9a7a_80000208fe80row3_col139\" class=\"data row3 col139\" >nan</td>\n",
       "                        <td id=\"T_5933b630_0b22_11ea_9a7a_80000208fe80row3_col140\" class=\"data row3 col140\" >nan</td>\n",
       "                        <td id=\"T_5933b630_0b22_11ea_9a7a_80000208fe80row3_col141\" class=\"data row3 col141\" >nan</td>\n",
       "                        <td id=\"T_5933b630_0b22_11ea_9a7a_80000208fe80row3_col142\" class=\"data row3 col142\" >nan</td>\n",
       "                        <td id=\"T_5933b630_0b22_11ea_9a7a_80000208fe80row3_col143\" class=\"data row3 col143\" >nan</td>\n",
       "                        <td id=\"T_5933b630_0b22_11ea_9a7a_80000208fe80row3_col144\" class=\"data row3 col144\" >nan</td>\n",
       "                        <td id=\"T_5933b630_0b22_11ea_9a7a_80000208fe80row3_col145\" class=\"data row3 col145\" >nan</td>\n",
       "                        <td id=\"T_5933b630_0b22_11ea_9a7a_80000208fe80row3_col146\" class=\"data row3 col146\" >nan</td>\n",
       "                        <td id=\"T_5933b630_0b22_11ea_9a7a_80000208fe80row3_col147\" class=\"data row3 col147\" >nan</td>\n",
       "                        <td id=\"T_5933b630_0b22_11ea_9a7a_80000208fe80row3_col148\" class=\"data row3 col148\" >nan</td>\n",
       "                        <td id=\"T_5933b630_0b22_11ea_9a7a_80000208fe80row3_col149\" class=\"data row3 col149\" >nan</td>\n",
       "                        <td id=\"T_5933b630_0b22_11ea_9a7a_80000208fe80row3_col150\" class=\"data row3 col150\" >nan</td>\n",
       "                        <td id=\"T_5933b630_0b22_11ea_9a7a_80000208fe80row3_col151\" class=\"data row3 col151\" >nan</td>\n",
       "                        <td id=\"T_5933b630_0b22_11ea_9a7a_80000208fe80row3_col152\" class=\"data row3 col152\" >nan</td>\n",
       "                        <td id=\"T_5933b630_0b22_11ea_9a7a_80000208fe80row3_col153\" class=\"data row3 col153\" >nan</td>\n",
       "                        <td id=\"T_5933b630_0b22_11ea_9a7a_80000208fe80row3_col154\" class=\"data row3 col154\" >nan</td>\n",
       "                        <td id=\"T_5933b630_0b22_11ea_9a7a_80000208fe80row3_col155\" class=\"data row3 col155\" >nan</td>\n",
       "                        <td id=\"T_5933b630_0b22_11ea_9a7a_80000208fe80row3_col156\" class=\"data row3 col156\" >nan</td>\n",
       "                        <td id=\"T_5933b630_0b22_11ea_9a7a_80000208fe80row3_col157\" class=\"data row3 col157\" >nan</td>\n",
       "                        <td id=\"T_5933b630_0b22_11ea_9a7a_80000208fe80row3_col158\" class=\"data row3 col158\" >nan</td>\n",
       "                        <td id=\"T_5933b630_0b22_11ea_9a7a_80000208fe80row3_col159\" class=\"data row3 col159\" >nan</td>\n",
       "                        <td id=\"T_5933b630_0b22_11ea_9a7a_80000208fe80row3_col160\" class=\"data row3 col160\" >nan</td>\n",
       "                        <td id=\"T_5933b630_0b22_11ea_9a7a_80000208fe80row3_col161\" class=\"data row3 col161\" >nan</td>\n",
       "                        <td id=\"T_5933b630_0b22_11ea_9a7a_80000208fe80row3_col162\" class=\"data row3 col162\" >nan</td>\n",
       "                        <td id=\"T_5933b630_0b22_11ea_9a7a_80000208fe80row3_col163\" class=\"data row3 col163\" >nan</td>\n",
       "                        <td id=\"T_5933b630_0b22_11ea_9a7a_80000208fe80row3_col164\" class=\"data row3 col164\" >nan</td>\n",
       "                        <td id=\"T_5933b630_0b22_11ea_9a7a_80000208fe80row3_col165\" class=\"data row3 col165\" >nan</td>\n",
       "                        <td id=\"T_5933b630_0b22_11ea_9a7a_80000208fe80row3_col166\" class=\"data row3 col166\" >nan</td>\n",
       "                        <td id=\"T_5933b630_0b22_11ea_9a7a_80000208fe80row3_col167\" class=\"data row3 col167\" >nan</td>\n",
       "                        <td id=\"T_5933b630_0b22_11ea_9a7a_80000208fe80row3_col168\" class=\"data row3 col168\" >nan</td>\n",
       "                        <td id=\"T_5933b630_0b22_11ea_9a7a_80000208fe80row3_col169\" class=\"data row3 col169\" >nan</td>\n",
       "                        <td id=\"T_5933b630_0b22_11ea_9a7a_80000208fe80row3_col170\" class=\"data row3 col170\" >nan</td>\n",
       "                        <td id=\"T_5933b630_0b22_11ea_9a7a_80000208fe80row3_col171\" class=\"data row3 col171\" >nan</td>\n",
       "                        <td id=\"T_5933b630_0b22_11ea_9a7a_80000208fe80row3_col172\" class=\"data row3 col172\" >nan</td>\n",
       "                        <td id=\"T_5933b630_0b22_11ea_9a7a_80000208fe80row3_col173\" class=\"data row3 col173\" >nan</td>\n",
       "                        <td id=\"T_5933b630_0b22_11ea_9a7a_80000208fe80row3_col174\" class=\"data row3 col174\" >nan</td>\n",
       "                        <td id=\"T_5933b630_0b22_11ea_9a7a_80000208fe80row3_col175\" class=\"data row3 col175\" >nan</td>\n",
       "                        <td id=\"T_5933b630_0b22_11ea_9a7a_80000208fe80row3_col176\" class=\"data row3 col176\" >nan</td>\n",
       "                        <td id=\"T_5933b630_0b22_11ea_9a7a_80000208fe80row3_col177\" class=\"data row3 col177\" >nan</td>\n",
       "                        <td id=\"T_5933b630_0b22_11ea_9a7a_80000208fe80row3_col178\" class=\"data row3 col178\" >nan</td>\n",
       "                        <td id=\"T_5933b630_0b22_11ea_9a7a_80000208fe80row3_col179\" class=\"data row3 col179\" >nan</td>\n",
       "                        <td id=\"T_5933b630_0b22_11ea_9a7a_80000208fe80row3_col180\" class=\"data row3 col180\" >nan</td>\n",
       "                        <td id=\"T_5933b630_0b22_11ea_9a7a_80000208fe80row3_col181\" class=\"data row3 col181\" >nan</td>\n",
       "                        <td id=\"T_5933b630_0b22_11ea_9a7a_80000208fe80row3_col182\" class=\"data row3 col182\" >nan</td>\n",
       "                        <td id=\"T_5933b630_0b22_11ea_9a7a_80000208fe80row3_col183\" class=\"data row3 col183\" >nan</td>\n",
       "                        <td id=\"T_5933b630_0b22_11ea_9a7a_80000208fe80row3_col184\" class=\"data row3 col184\" >nan</td>\n",
       "                        <td id=\"T_5933b630_0b22_11ea_9a7a_80000208fe80row3_col185\" class=\"data row3 col185\" >nan</td>\n",
       "                        <td id=\"T_5933b630_0b22_11ea_9a7a_80000208fe80row3_col186\" class=\"data row3 col186\" >nan</td>\n",
       "                        <td id=\"T_5933b630_0b22_11ea_9a7a_80000208fe80row3_col187\" class=\"data row3 col187\" >nan</td>\n",
       "                        <td id=\"T_5933b630_0b22_11ea_9a7a_80000208fe80row3_col188\" class=\"data row3 col188\" >nan</td>\n",
       "            </tr>\n",
       "            <tr>\n",
       "                                <td id=\"T_5933b630_0b22_11ea_9a7a_80000208fe80row4_col0\" class=\"data row4 col0\" >12.8</td>\n",
       "                        <td id=\"T_5933b630_0b22_11ea_9a7a_80000208fe80row4_col1\" class=\"data row4 col1\" >StackedEnsemble_BestOfFamily_AutoML_20191119_214055</td>\n",
       "                        <td id=\"T_5933b630_0b22_11ea_9a7a_80000208fe80row4_col2\" class=\"data row4 col2\" >DeepLearning_grid_1_AutoML_20191119_214055_model_2</td>\n",
       "                        <td id=\"T_5933b630_0b22_11ea_9a7a_80000208fe80row4_col3\" class=\"data row4 col3\" >GBM_grid_1_AutoML_20191119_214055_model_39</td>\n",
       "                        <td id=\"T_5933b630_0b22_11ea_9a7a_80000208fe80row4_col4\" class=\"data row4 col4\" >XGBoost_grid_1_AutoML_20191119_214055_model_13</td>\n",
       "                        <td id=\"T_5933b630_0b22_11ea_9a7a_80000208fe80row4_col5\" class=\"data row4 col5\" >DRF_1_AutoML_20191119_214055</td>\n",
       "                        <td id=\"T_5933b630_0b22_11ea_9a7a_80000208fe80row4_col6\" class=\"data row4 col6\" >XRT_1_AutoML_20191119_214055</td>\n",
       "                        <td id=\"T_5933b630_0b22_11ea_9a7a_80000208fe80row4_col7\" class=\"data row4 col7\" >GLM_grid_1_AutoML_20191119_214055_model_1</td>\n",
       "                        <td id=\"T_5933b630_0b22_11ea_9a7a_80000208fe80row4_col8\" class=\"data row4 col8\" >nan</td>\n",
       "                        <td id=\"T_5933b630_0b22_11ea_9a7a_80000208fe80row4_col9\" class=\"data row4 col9\" >nan</td>\n",
       "                        <td id=\"T_5933b630_0b22_11ea_9a7a_80000208fe80row4_col10\" class=\"data row4 col10\" >nan</td>\n",
       "                        <td id=\"T_5933b630_0b22_11ea_9a7a_80000208fe80row4_col11\" class=\"data row4 col11\" >nan</td>\n",
       "                        <td id=\"T_5933b630_0b22_11ea_9a7a_80000208fe80row4_col12\" class=\"data row4 col12\" >nan</td>\n",
       "                        <td id=\"T_5933b630_0b22_11ea_9a7a_80000208fe80row4_col13\" class=\"data row4 col13\" >nan</td>\n",
       "                        <td id=\"T_5933b630_0b22_11ea_9a7a_80000208fe80row4_col14\" class=\"data row4 col14\" >nan</td>\n",
       "                        <td id=\"T_5933b630_0b22_11ea_9a7a_80000208fe80row4_col15\" class=\"data row4 col15\" >nan</td>\n",
       "                        <td id=\"T_5933b630_0b22_11ea_9a7a_80000208fe80row4_col16\" class=\"data row4 col16\" >nan</td>\n",
       "                        <td id=\"T_5933b630_0b22_11ea_9a7a_80000208fe80row4_col17\" class=\"data row4 col17\" >nan</td>\n",
       "                        <td id=\"T_5933b630_0b22_11ea_9a7a_80000208fe80row4_col18\" class=\"data row4 col18\" >nan</td>\n",
       "                        <td id=\"T_5933b630_0b22_11ea_9a7a_80000208fe80row4_col19\" class=\"data row4 col19\" >nan</td>\n",
       "                        <td id=\"T_5933b630_0b22_11ea_9a7a_80000208fe80row4_col20\" class=\"data row4 col20\" >nan</td>\n",
       "                        <td id=\"T_5933b630_0b22_11ea_9a7a_80000208fe80row4_col21\" class=\"data row4 col21\" >nan</td>\n",
       "                        <td id=\"T_5933b630_0b22_11ea_9a7a_80000208fe80row4_col22\" class=\"data row4 col22\" >nan</td>\n",
       "                        <td id=\"T_5933b630_0b22_11ea_9a7a_80000208fe80row4_col23\" class=\"data row4 col23\" >nan</td>\n",
       "                        <td id=\"T_5933b630_0b22_11ea_9a7a_80000208fe80row4_col24\" class=\"data row4 col24\" >nan</td>\n",
       "                        <td id=\"T_5933b630_0b22_11ea_9a7a_80000208fe80row4_col25\" class=\"data row4 col25\" >nan</td>\n",
       "                        <td id=\"T_5933b630_0b22_11ea_9a7a_80000208fe80row4_col26\" class=\"data row4 col26\" >nan</td>\n",
       "                        <td id=\"T_5933b630_0b22_11ea_9a7a_80000208fe80row4_col27\" class=\"data row4 col27\" >nan</td>\n",
       "                        <td id=\"T_5933b630_0b22_11ea_9a7a_80000208fe80row4_col28\" class=\"data row4 col28\" >nan</td>\n",
       "                        <td id=\"T_5933b630_0b22_11ea_9a7a_80000208fe80row4_col29\" class=\"data row4 col29\" >nan</td>\n",
       "                        <td id=\"T_5933b630_0b22_11ea_9a7a_80000208fe80row4_col30\" class=\"data row4 col30\" >nan</td>\n",
       "                        <td id=\"T_5933b630_0b22_11ea_9a7a_80000208fe80row4_col31\" class=\"data row4 col31\" >nan</td>\n",
       "                        <td id=\"T_5933b630_0b22_11ea_9a7a_80000208fe80row4_col32\" class=\"data row4 col32\" >nan</td>\n",
       "                        <td id=\"T_5933b630_0b22_11ea_9a7a_80000208fe80row4_col33\" class=\"data row4 col33\" >nan</td>\n",
       "                        <td id=\"T_5933b630_0b22_11ea_9a7a_80000208fe80row4_col34\" class=\"data row4 col34\" >nan</td>\n",
       "                        <td id=\"T_5933b630_0b22_11ea_9a7a_80000208fe80row4_col35\" class=\"data row4 col35\" >nan</td>\n",
       "                        <td id=\"T_5933b630_0b22_11ea_9a7a_80000208fe80row4_col36\" class=\"data row4 col36\" >nan</td>\n",
       "                        <td id=\"T_5933b630_0b22_11ea_9a7a_80000208fe80row4_col37\" class=\"data row4 col37\" >nan</td>\n",
       "                        <td id=\"T_5933b630_0b22_11ea_9a7a_80000208fe80row4_col38\" class=\"data row4 col38\" >nan</td>\n",
       "                        <td id=\"T_5933b630_0b22_11ea_9a7a_80000208fe80row4_col39\" class=\"data row4 col39\" >nan</td>\n",
       "                        <td id=\"T_5933b630_0b22_11ea_9a7a_80000208fe80row4_col40\" class=\"data row4 col40\" >nan</td>\n",
       "                        <td id=\"T_5933b630_0b22_11ea_9a7a_80000208fe80row4_col41\" class=\"data row4 col41\" >nan</td>\n",
       "                        <td id=\"T_5933b630_0b22_11ea_9a7a_80000208fe80row4_col42\" class=\"data row4 col42\" >nan</td>\n",
       "                        <td id=\"T_5933b630_0b22_11ea_9a7a_80000208fe80row4_col43\" class=\"data row4 col43\" >nan</td>\n",
       "                        <td id=\"T_5933b630_0b22_11ea_9a7a_80000208fe80row4_col44\" class=\"data row4 col44\" >nan</td>\n",
       "                        <td id=\"T_5933b630_0b22_11ea_9a7a_80000208fe80row4_col45\" class=\"data row4 col45\" >nan</td>\n",
       "                        <td id=\"T_5933b630_0b22_11ea_9a7a_80000208fe80row4_col46\" class=\"data row4 col46\" >nan</td>\n",
       "                        <td id=\"T_5933b630_0b22_11ea_9a7a_80000208fe80row4_col47\" class=\"data row4 col47\" >nan</td>\n",
       "                        <td id=\"T_5933b630_0b22_11ea_9a7a_80000208fe80row4_col48\" class=\"data row4 col48\" >nan</td>\n",
       "                        <td id=\"T_5933b630_0b22_11ea_9a7a_80000208fe80row4_col49\" class=\"data row4 col49\" >nan</td>\n",
       "                        <td id=\"T_5933b630_0b22_11ea_9a7a_80000208fe80row4_col50\" class=\"data row4 col50\" >nan</td>\n",
       "                        <td id=\"T_5933b630_0b22_11ea_9a7a_80000208fe80row4_col51\" class=\"data row4 col51\" >nan</td>\n",
       "                        <td id=\"T_5933b630_0b22_11ea_9a7a_80000208fe80row4_col52\" class=\"data row4 col52\" >nan</td>\n",
       "                        <td id=\"T_5933b630_0b22_11ea_9a7a_80000208fe80row4_col53\" class=\"data row4 col53\" >nan</td>\n",
       "                        <td id=\"T_5933b630_0b22_11ea_9a7a_80000208fe80row4_col54\" class=\"data row4 col54\" >nan</td>\n",
       "                        <td id=\"T_5933b630_0b22_11ea_9a7a_80000208fe80row4_col55\" class=\"data row4 col55\" >nan</td>\n",
       "                        <td id=\"T_5933b630_0b22_11ea_9a7a_80000208fe80row4_col56\" class=\"data row4 col56\" >nan</td>\n",
       "                        <td id=\"T_5933b630_0b22_11ea_9a7a_80000208fe80row4_col57\" class=\"data row4 col57\" >nan</td>\n",
       "                        <td id=\"T_5933b630_0b22_11ea_9a7a_80000208fe80row4_col58\" class=\"data row4 col58\" >nan</td>\n",
       "                        <td id=\"T_5933b630_0b22_11ea_9a7a_80000208fe80row4_col59\" class=\"data row4 col59\" >nan</td>\n",
       "                        <td id=\"T_5933b630_0b22_11ea_9a7a_80000208fe80row4_col60\" class=\"data row4 col60\" >nan</td>\n",
       "                        <td id=\"T_5933b630_0b22_11ea_9a7a_80000208fe80row4_col61\" class=\"data row4 col61\" >nan</td>\n",
       "                        <td id=\"T_5933b630_0b22_11ea_9a7a_80000208fe80row4_col62\" class=\"data row4 col62\" >nan</td>\n",
       "                        <td id=\"T_5933b630_0b22_11ea_9a7a_80000208fe80row4_col63\" class=\"data row4 col63\" >nan</td>\n",
       "                        <td id=\"T_5933b630_0b22_11ea_9a7a_80000208fe80row4_col64\" class=\"data row4 col64\" >nan</td>\n",
       "                        <td id=\"T_5933b630_0b22_11ea_9a7a_80000208fe80row4_col65\" class=\"data row4 col65\" >nan</td>\n",
       "                        <td id=\"T_5933b630_0b22_11ea_9a7a_80000208fe80row4_col66\" class=\"data row4 col66\" >nan</td>\n",
       "                        <td id=\"T_5933b630_0b22_11ea_9a7a_80000208fe80row4_col67\" class=\"data row4 col67\" >nan</td>\n",
       "                        <td id=\"T_5933b630_0b22_11ea_9a7a_80000208fe80row4_col68\" class=\"data row4 col68\" >nan</td>\n",
       "                        <td id=\"T_5933b630_0b22_11ea_9a7a_80000208fe80row4_col69\" class=\"data row4 col69\" >nan</td>\n",
       "                        <td id=\"T_5933b630_0b22_11ea_9a7a_80000208fe80row4_col70\" class=\"data row4 col70\" >nan</td>\n",
       "                        <td id=\"T_5933b630_0b22_11ea_9a7a_80000208fe80row4_col71\" class=\"data row4 col71\" >nan</td>\n",
       "                        <td id=\"T_5933b630_0b22_11ea_9a7a_80000208fe80row4_col72\" class=\"data row4 col72\" >nan</td>\n",
       "                        <td id=\"T_5933b630_0b22_11ea_9a7a_80000208fe80row4_col73\" class=\"data row4 col73\" >nan</td>\n",
       "                        <td id=\"T_5933b630_0b22_11ea_9a7a_80000208fe80row4_col74\" class=\"data row4 col74\" >nan</td>\n",
       "                        <td id=\"T_5933b630_0b22_11ea_9a7a_80000208fe80row4_col75\" class=\"data row4 col75\" >nan</td>\n",
       "                        <td id=\"T_5933b630_0b22_11ea_9a7a_80000208fe80row4_col76\" class=\"data row4 col76\" >nan</td>\n",
       "                        <td id=\"T_5933b630_0b22_11ea_9a7a_80000208fe80row4_col77\" class=\"data row4 col77\" >nan</td>\n",
       "                        <td id=\"T_5933b630_0b22_11ea_9a7a_80000208fe80row4_col78\" class=\"data row4 col78\" >nan</td>\n",
       "                        <td id=\"T_5933b630_0b22_11ea_9a7a_80000208fe80row4_col79\" class=\"data row4 col79\" >nan</td>\n",
       "                        <td id=\"T_5933b630_0b22_11ea_9a7a_80000208fe80row4_col80\" class=\"data row4 col80\" >nan</td>\n",
       "                        <td id=\"T_5933b630_0b22_11ea_9a7a_80000208fe80row4_col81\" class=\"data row4 col81\" >nan</td>\n",
       "                        <td id=\"T_5933b630_0b22_11ea_9a7a_80000208fe80row4_col82\" class=\"data row4 col82\" >nan</td>\n",
       "                        <td id=\"T_5933b630_0b22_11ea_9a7a_80000208fe80row4_col83\" class=\"data row4 col83\" >nan</td>\n",
       "                        <td id=\"T_5933b630_0b22_11ea_9a7a_80000208fe80row4_col84\" class=\"data row4 col84\" >nan</td>\n",
       "                        <td id=\"T_5933b630_0b22_11ea_9a7a_80000208fe80row4_col85\" class=\"data row4 col85\" >nan</td>\n",
       "                        <td id=\"T_5933b630_0b22_11ea_9a7a_80000208fe80row4_col86\" class=\"data row4 col86\" >nan</td>\n",
       "                        <td id=\"T_5933b630_0b22_11ea_9a7a_80000208fe80row4_col87\" class=\"data row4 col87\" >nan</td>\n",
       "                        <td id=\"T_5933b630_0b22_11ea_9a7a_80000208fe80row4_col88\" class=\"data row4 col88\" >nan</td>\n",
       "                        <td id=\"T_5933b630_0b22_11ea_9a7a_80000208fe80row4_col89\" class=\"data row4 col89\" >nan</td>\n",
       "                        <td id=\"T_5933b630_0b22_11ea_9a7a_80000208fe80row4_col90\" class=\"data row4 col90\" >nan</td>\n",
       "                        <td id=\"T_5933b630_0b22_11ea_9a7a_80000208fe80row4_col91\" class=\"data row4 col91\" >nan</td>\n",
       "                        <td id=\"T_5933b630_0b22_11ea_9a7a_80000208fe80row4_col92\" class=\"data row4 col92\" >nan</td>\n",
       "                        <td id=\"T_5933b630_0b22_11ea_9a7a_80000208fe80row4_col93\" class=\"data row4 col93\" >nan</td>\n",
       "                        <td id=\"T_5933b630_0b22_11ea_9a7a_80000208fe80row4_col94\" class=\"data row4 col94\" >nan</td>\n",
       "                        <td id=\"T_5933b630_0b22_11ea_9a7a_80000208fe80row4_col95\" class=\"data row4 col95\" >nan</td>\n",
       "                        <td id=\"T_5933b630_0b22_11ea_9a7a_80000208fe80row4_col96\" class=\"data row4 col96\" >nan</td>\n",
       "                        <td id=\"T_5933b630_0b22_11ea_9a7a_80000208fe80row4_col97\" class=\"data row4 col97\" >nan</td>\n",
       "                        <td id=\"T_5933b630_0b22_11ea_9a7a_80000208fe80row4_col98\" class=\"data row4 col98\" >nan</td>\n",
       "                        <td id=\"T_5933b630_0b22_11ea_9a7a_80000208fe80row4_col99\" class=\"data row4 col99\" >nan</td>\n",
       "                        <td id=\"T_5933b630_0b22_11ea_9a7a_80000208fe80row4_col100\" class=\"data row4 col100\" >nan</td>\n",
       "                        <td id=\"T_5933b630_0b22_11ea_9a7a_80000208fe80row4_col101\" class=\"data row4 col101\" >nan</td>\n",
       "                        <td id=\"T_5933b630_0b22_11ea_9a7a_80000208fe80row4_col102\" class=\"data row4 col102\" >nan</td>\n",
       "                        <td id=\"T_5933b630_0b22_11ea_9a7a_80000208fe80row4_col103\" class=\"data row4 col103\" >nan</td>\n",
       "                        <td id=\"T_5933b630_0b22_11ea_9a7a_80000208fe80row4_col104\" class=\"data row4 col104\" >nan</td>\n",
       "                        <td id=\"T_5933b630_0b22_11ea_9a7a_80000208fe80row4_col105\" class=\"data row4 col105\" >nan</td>\n",
       "                        <td id=\"T_5933b630_0b22_11ea_9a7a_80000208fe80row4_col106\" class=\"data row4 col106\" >nan</td>\n",
       "                        <td id=\"T_5933b630_0b22_11ea_9a7a_80000208fe80row4_col107\" class=\"data row4 col107\" >nan</td>\n",
       "                        <td id=\"T_5933b630_0b22_11ea_9a7a_80000208fe80row4_col108\" class=\"data row4 col108\" >nan</td>\n",
       "                        <td id=\"T_5933b630_0b22_11ea_9a7a_80000208fe80row4_col109\" class=\"data row4 col109\" >nan</td>\n",
       "                        <td id=\"T_5933b630_0b22_11ea_9a7a_80000208fe80row4_col110\" class=\"data row4 col110\" >nan</td>\n",
       "                        <td id=\"T_5933b630_0b22_11ea_9a7a_80000208fe80row4_col111\" class=\"data row4 col111\" >nan</td>\n",
       "                        <td id=\"T_5933b630_0b22_11ea_9a7a_80000208fe80row4_col112\" class=\"data row4 col112\" >nan</td>\n",
       "                        <td id=\"T_5933b630_0b22_11ea_9a7a_80000208fe80row4_col113\" class=\"data row4 col113\" >nan</td>\n",
       "                        <td id=\"T_5933b630_0b22_11ea_9a7a_80000208fe80row4_col114\" class=\"data row4 col114\" >nan</td>\n",
       "                        <td id=\"T_5933b630_0b22_11ea_9a7a_80000208fe80row4_col115\" class=\"data row4 col115\" >nan</td>\n",
       "                        <td id=\"T_5933b630_0b22_11ea_9a7a_80000208fe80row4_col116\" class=\"data row4 col116\" >nan</td>\n",
       "                        <td id=\"T_5933b630_0b22_11ea_9a7a_80000208fe80row4_col117\" class=\"data row4 col117\" >nan</td>\n",
       "                        <td id=\"T_5933b630_0b22_11ea_9a7a_80000208fe80row4_col118\" class=\"data row4 col118\" >nan</td>\n",
       "                        <td id=\"T_5933b630_0b22_11ea_9a7a_80000208fe80row4_col119\" class=\"data row4 col119\" >nan</td>\n",
       "                        <td id=\"T_5933b630_0b22_11ea_9a7a_80000208fe80row4_col120\" class=\"data row4 col120\" >nan</td>\n",
       "                        <td id=\"T_5933b630_0b22_11ea_9a7a_80000208fe80row4_col121\" class=\"data row4 col121\" >nan</td>\n",
       "                        <td id=\"T_5933b630_0b22_11ea_9a7a_80000208fe80row4_col122\" class=\"data row4 col122\" >nan</td>\n",
       "                        <td id=\"T_5933b630_0b22_11ea_9a7a_80000208fe80row4_col123\" class=\"data row4 col123\" >nan</td>\n",
       "                        <td id=\"T_5933b630_0b22_11ea_9a7a_80000208fe80row4_col124\" class=\"data row4 col124\" >nan</td>\n",
       "                        <td id=\"T_5933b630_0b22_11ea_9a7a_80000208fe80row4_col125\" class=\"data row4 col125\" >nan</td>\n",
       "                        <td id=\"T_5933b630_0b22_11ea_9a7a_80000208fe80row4_col126\" class=\"data row4 col126\" >nan</td>\n",
       "                        <td id=\"T_5933b630_0b22_11ea_9a7a_80000208fe80row4_col127\" class=\"data row4 col127\" >nan</td>\n",
       "                        <td id=\"T_5933b630_0b22_11ea_9a7a_80000208fe80row4_col128\" class=\"data row4 col128\" >nan</td>\n",
       "                        <td id=\"T_5933b630_0b22_11ea_9a7a_80000208fe80row4_col129\" class=\"data row4 col129\" >nan</td>\n",
       "                        <td id=\"T_5933b630_0b22_11ea_9a7a_80000208fe80row4_col130\" class=\"data row4 col130\" >nan</td>\n",
       "                        <td id=\"T_5933b630_0b22_11ea_9a7a_80000208fe80row4_col131\" class=\"data row4 col131\" >nan</td>\n",
       "                        <td id=\"T_5933b630_0b22_11ea_9a7a_80000208fe80row4_col132\" class=\"data row4 col132\" >nan</td>\n",
       "                        <td id=\"T_5933b630_0b22_11ea_9a7a_80000208fe80row4_col133\" class=\"data row4 col133\" >nan</td>\n",
       "                        <td id=\"T_5933b630_0b22_11ea_9a7a_80000208fe80row4_col134\" class=\"data row4 col134\" >nan</td>\n",
       "                        <td id=\"T_5933b630_0b22_11ea_9a7a_80000208fe80row4_col135\" class=\"data row4 col135\" >nan</td>\n",
       "                        <td id=\"T_5933b630_0b22_11ea_9a7a_80000208fe80row4_col136\" class=\"data row4 col136\" >nan</td>\n",
       "                        <td id=\"T_5933b630_0b22_11ea_9a7a_80000208fe80row4_col137\" class=\"data row4 col137\" >nan</td>\n",
       "                        <td id=\"T_5933b630_0b22_11ea_9a7a_80000208fe80row4_col138\" class=\"data row4 col138\" >nan</td>\n",
       "                        <td id=\"T_5933b630_0b22_11ea_9a7a_80000208fe80row4_col139\" class=\"data row4 col139\" >nan</td>\n",
       "                        <td id=\"T_5933b630_0b22_11ea_9a7a_80000208fe80row4_col140\" class=\"data row4 col140\" >nan</td>\n",
       "                        <td id=\"T_5933b630_0b22_11ea_9a7a_80000208fe80row4_col141\" class=\"data row4 col141\" >nan</td>\n",
       "                        <td id=\"T_5933b630_0b22_11ea_9a7a_80000208fe80row4_col142\" class=\"data row4 col142\" >nan</td>\n",
       "                        <td id=\"T_5933b630_0b22_11ea_9a7a_80000208fe80row4_col143\" class=\"data row4 col143\" >nan</td>\n",
       "                        <td id=\"T_5933b630_0b22_11ea_9a7a_80000208fe80row4_col144\" class=\"data row4 col144\" >nan</td>\n",
       "                        <td id=\"T_5933b630_0b22_11ea_9a7a_80000208fe80row4_col145\" class=\"data row4 col145\" >nan</td>\n",
       "                        <td id=\"T_5933b630_0b22_11ea_9a7a_80000208fe80row4_col146\" class=\"data row4 col146\" >nan</td>\n",
       "                        <td id=\"T_5933b630_0b22_11ea_9a7a_80000208fe80row4_col147\" class=\"data row4 col147\" >nan</td>\n",
       "                        <td id=\"T_5933b630_0b22_11ea_9a7a_80000208fe80row4_col148\" class=\"data row4 col148\" >nan</td>\n",
       "                        <td id=\"T_5933b630_0b22_11ea_9a7a_80000208fe80row4_col149\" class=\"data row4 col149\" >nan</td>\n",
       "                        <td id=\"T_5933b630_0b22_11ea_9a7a_80000208fe80row4_col150\" class=\"data row4 col150\" >nan</td>\n",
       "                        <td id=\"T_5933b630_0b22_11ea_9a7a_80000208fe80row4_col151\" class=\"data row4 col151\" >nan</td>\n",
       "                        <td id=\"T_5933b630_0b22_11ea_9a7a_80000208fe80row4_col152\" class=\"data row4 col152\" >nan</td>\n",
       "                        <td id=\"T_5933b630_0b22_11ea_9a7a_80000208fe80row4_col153\" class=\"data row4 col153\" >nan</td>\n",
       "                        <td id=\"T_5933b630_0b22_11ea_9a7a_80000208fe80row4_col154\" class=\"data row4 col154\" >nan</td>\n",
       "                        <td id=\"T_5933b630_0b22_11ea_9a7a_80000208fe80row4_col155\" class=\"data row4 col155\" >nan</td>\n",
       "                        <td id=\"T_5933b630_0b22_11ea_9a7a_80000208fe80row4_col156\" class=\"data row4 col156\" >nan</td>\n",
       "                        <td id=\"T_5933b630_0b22_11ea_9a7a_80000208fe80row4_col157\" class=\"data row4 col157\" >nan</td>\n",
       "                        <td id=\"T_5933b630_0b22_11ea_9a7a_80000208fe80row4_col158\" class=\"data row4 col158\" >nan</td>\n",
       "                        <td id=\"T_5933b630_0b22_11ea_9a7a_80000208fe80row4_col159\" class=\"data row4 col159\" >nan</td>\n",
       "                        <td id=\"T_5933b630_0b22_11ea_9a7a_80000208fe80row4_col160\" class=\"data row4 col160\" >nan</td>\n",
       "                        <td id=\"T_5933b630_0b22_11ea_9a7a_80000208fe80row4_col161\" class=\"data row4 col161\" >nan</td>\n",
       "                        <td id=\"T_5933b630_0b22_11ea_9a7a_80000208fe80row4_col162\" class=\"data row4 col162\" >nan</td>\n",
       "                        <td id=\"T_5933b630_0b22_11ea_9a7a_80000208fe80row4_col163\" class=\"data row4 col163\" >nan</td>\n",
       "                        <td id=\"T_5933b630_0b22_11ea_9a7a_80000208fe80row4_col164\" class=\"data row4 col164\" >nan</td>\n",
       "                        <td id=\"T_5933b630_0b22_11ea_9a7a_80000208fe80row4_col165\" class=\"data row4 col165\" >nan</td>\n",
       "                        <td id=\"T_5933b630_0b22_11ea_9a7a_80000208fe80row4_col166\" class=\"data row4 col166\" >nan</td>\n",
       "                        <td id=\"T_5933b630_0b22_11ea_9a7a_80000208fe80row4_col167\" class=\"data row4 col167\" >nan</td>\n",
       "                        <td id=\"T_5933b630_0b22_11ea_9a7a_80000208fe80row4_col168\" class=\"data row4 col168\" >nan</td>\n",
       "                        <td id=\"T_5933b630_0b22_11ea_9a7a_80000208fe80row4_col169\" class=\"data row4 col169\" >nan</td>\n",
       "                        <td id=\"T_5933b630_0b22_11ea_9a7a_80000208fe80row4_col170\" class=\"data row4 col170\" >nan</td>\n",
       "                        <td id=\"T_5933b630_0b22_11ea_9a7a_80000208fe80row4_col171\" class=\"data row4 col171\" >nan</td>\n",
       "                        <td id=\"T_5933b630_0b22_11ea_9a7a_80000208fe80row4_col172\" class=\"data row4 col172\" >nan</td>\n",
       "                        <td id=\"T_5933b630_0b22_11ea_9a7a_80000208fe80row4_col173\" class=\"data row4 col173\" >nan</td>\n",
       "                        <td id=\"T_5933b630_0b22_11ea_9a7a_80000208fe80row4_col174\" class=\"data row4 col174\" >nan</td>\n",
       "                        <td id=\"T_5933b630_0b22_11ea_9a7a_80000208fe80row4_col175\" class=\"data row4 col175\" >nan</td>\n",
       "                        <td id=\"T_5933b630_0b22_11ea_9a7a_80000208fe80row4_col176\" class=\"data row4 col176\" >nan</td>\n",
       "                        <td id=\"T_5933b630_0b22_11ea_9a7a_80000208fe80row4_col177\" class=\"data row4 col177\" >nan</td>\n",
       "                        <td id=\"T_5933b630_0b22_11ea_9a7a_80000208fe80row4_col178\" class=\"data row4 col178\" >nan</td>\n",
       "                        <td id=\"T_5933b630_0b22_11ea_9a7a_80000208fe80row4_col179\" class=\"data row4 col179\" >nan</td>\n",
       "                        <td id=\"T_5933b630_0b22_11ea_9a7a_80000208fe80row4_col180\" class=\"data row4 col180\" >nan</td>\n",
       "                        <td id=\"T_5933b630_0b22_11ea_9a7a_80000208fe80row4_col181\" class=\"data row4 col181\" >nan</td>\n",
       "                        <td id=\"T_5933b630_0b22_11ea_9a7a_80000208fe80row4_col182\" class=\"data row4 col182\" >nan</td>\n",
       "                        <td id=\"T_5933b630_0b22_11ea_9a7a_80000208fe80row4_col183\" class=\"data row4 col183\" >nan</td>\n",
       "                        <td id=\"T_5933b630_0b22_11ea_9a7a_80000208fe80row4_col184\" class=\"data row4 col184\" >nan</td>\n",
       "                        <td id=\"T_5933b630_0b22_11ea_9a7a_80000208fe80row4_col185\" class=\"data row4 col185\" >nan</td>\n",
       "                        <td id=\"T_5933b630_0b22_11ea_9a7a_80000208fe80row4_col186\" class=\"data row4 col186\" >nan</td>\n",
       "                        <td id=\"T_5933b630_0b22_11ea_9a7a_80000208fe80row4_col187\" class=\"data row4 col187\" >nan</td>\n",
       "                        <td id=\"T_5933b630_0b22_11ea_9a7a_80000208fe80row4_col188\" class=\"data row4 col188\" >nan</td>\n",
       "            </tr>\n",
       "            <tr>\n",
       "                                <td id=\"T_5933b630_0b22_11ea_9a7a_80000208fe80row5_col0\" class=\"data row5 col0\" >16</td>\n",
       "                        <td id=\"T_5933b630_0b22_11ea_9a7a_80000208fe80row5_col1\" class=\"data row5 col1\" >StackedEnsemble_BestOfFamily_AutoML_20191120_004339</td>\n",
       "                        <td id=\"T_5933b630_0b22_11ea_9a7a_80000208fe80row5_col2\" class=\"data row5 col2\" >DeepLearning_grid_1_AutoML_20191120_004339_model_4</td>\n",
       "                        <td id=\"T_5933b630_0b22_11ea_9a7a_80000208fe80row5_col3\" class=\"data row5 col3\" >GBM_grid_1_AutoML_20191120_004339_model_39</td>\n",
       "                        <td id=\"T_5933b630_0b22_11ea_9a7a_80000208fe80row5_col4\" class=\"data row5 col4\" >XGBoost_grid_1_AutoML_20191120_004339_model_13</td>\n",
       "                        <td id=\"T_5933b630_0b22_11ea_9a7a_80000208fe80row5_col5\" class=\"data row5 col5\" >DRF_1_AutoML_20191120_004339</td>\n",
       "                        <td id=\"T_5933b630_0b22_11ea_9a7a_80000208fe80row5_col6\" class=\"data row5 col6\" >XRT_1_AutoML_20191120_004339</td>\n",
       "                        <td id=\"T_5933b630_0b22_11ea_9a7a_80000208fe80row5_col7\" class=\"data row5 col7\" >GLM_grid_1_AutoML_20191120_004339_model_1</td>\n",
       "                        <td id=\"T_5933b630_0b22_11ea_9a7a_80000208fe80row5_col8\" class=\"data row5 col8\" >nan</td>\n",
       "                        <td id=\"T_5933b630_0b22_11ea_9a7a_80000208fe80row5_col9\" class=\"data row5 col9\" >nan</td>\n",
       "                        <td id=\"T_5933b630_0b22_11ea_9a7a_80000208fe80row5_col10\" class=\"data row5 col10\" >nan</td>\n",
       "                        <td id=\"T_5933b630_0b22_11ea_9a7a_80000208fe80row5_col11\" class=\"data row5 col11\" >nan</td>\n",
       "                        <td id=\"T_5933b630_0b22_11ea_9a7a_80000208fe80row5_col12\" class=\"data row5 col12\" >nan</td>\n",
       "                        <td id=\"T_5933b630_0b22_11ea_9a7a_80000208fe80row5_col13\" class=\"data row5 col13\" >nan</td>\n",
       "                        <td id=\"T_5933b630_0b22_11ea_9a7a_80000208fe80row5_col14\" class=\"data row5 col14\" >nan</td>\n",
       "                        <td id=\"T_5933b630_0b22_11ea_9a7a_80000208fe80row5_col15\" class=\"data row5 col15\" >nan</td>\n",
       "                        <td id=\"T_5933b630_0b22_11ea_9a7a_80000208fe80row5_col16\" class=\"data row5 col16\" >nan</td>\n",
       "                        <td id=\"T_5933b630_0b22_11ea_9a7a_80000208fe80row5_col17\" class=\"data row5 col17\" >nan</td>\n",
       "                        <td id=\"T_5933b630_0b22_11ea_9a7a_80000208fe80row5_col18\" class=\"data row5 col18\" >nan</td>\n",
       "                        <td id=\"T_5933b630_0b22_11ea_9a7a_80000208fe80row5_col19\" class=\"data row5 col19\" >nan</td>\n",
       "                        <td id=\"T_5933b630_0b22_11ea_9a7a_80000208fe80row5_col20\" class=\"data row5 col20\" >nan</td>\n",
       "                        <td id=\"T_5933b630_0b22_11ea_9a7a_80000208fe80row5_col21\" class=\"data row5 col21\" >nan</td>\n",
       "                        <td id=\"T_5933b630_0b22_11ea_9a7a_80000208fe80row5_col22\" class=\"data row5 col22\" >nan</td>\n",
       "                        <td id=\"T_5933b630_0b22_11ea_9a7a_80000208fe80row5_col23\" class=\"data row5 col23\" >nan</td>\n",
       "                        <td id=\"T_5933b630_0b22_11ea_9a7a_80000208fe80row5_col24\" class=\"data row5 col24\" >nan</td>\n",
       "                        <td id=\"T_5933b630_0b22_11ea_9a7a_80000208fe80row5_col25\" class=\"data row5 col25\" >nan</td>\n",
       "                        <td id=\"T_5933b630_0b22_11ea_9a7a_80000208fe80row5_col26\" class=\"data row5 col26\" >nan</td>\n",
       "                        <td id=\"T_5933b630_0b22_11ea_9a7a_80000208fe80row5_col27\" class=\"data row5 col27\" >nan</td>\n",
       "                        <td id=\"T_5933b630_0b22_11ea_9a7a_80000208fe80row5_col28\" class=\"data row5 col28\" >nan</td>\n",
       "                        <td id=\"T_5933b630_0b22_11ea_9a7a_80000208fe80row5_col29\" class=\"data row5 col29\" >nan</td>\n",
       "                        <td id=\"T_5933b630_0b22_11ea_9a7a_80000208fe80row5_col30\" class=\"data row5 col30\" >nan</td>\n",
       "                        <td id=\"T_5933b630_0b22_11ea_9a7a_80000208fe80row5_col31\" class=\"data row5 col31\" >nan</td>\n",
       "                        <td id=\"T_5933b630_0b22_11ea_9a7a_80000208fe80row5_col32\" class=\"data row5 col32\" >nan</td>\n",
       "                        <td id=\"T_5933b630_0b22_11ea_9a7a_80000208fe80row5_col33\" class=\"data row5 col33\" >nan</td>\n",
       "                        <td id=\"T_5933b630_0b22_11ea_9a7a_80000208fe80row5_col34\" class=\"data row5 col34\" >nan</td>\n",
       "                        <td id=\"T_5933b630_0b22_11ea_9a7a_80000208fe80row5_col35\" class=\"data row5 col35\" >nan</td>\n",
       "                        <td id=\"T_5933b630_0b22_11ea_9a7a_80000208fe80row5_col36\" class=\"data row5 col36\" >nan</td>\n",
       "                        <td id=\"T_5933b630_0b22_11ea_9a7a_80000208fe80row5_col37\" class=\"data row5 col37\" >nan</td>\n",
       "                        <td id=\"T_5933b630_0b22_11ea_9a7a_80000208fe80row5_col38\" class=\"data row5 col38\" >nan</td>\n",
       "                        <td id=\"T_5933b630_0b22_11ea_9a7a_80000208fe80row5_col39\" class=\"data row5 col39\" >nan</td>\n",
       "                        <td id=\"T_5933b630_0b22_11ea_9a7a_80000208fe80row5_col40\" class=\"data row5 col40\" >nan</td>\n",
       "                        <td id=\"T_5933b630_0b22_11ea_9a7a_80000208fe80row5_col41\" class=\"data row5 col41\" >nan</td>\n",
       "                        <td id=\"T_5933b630_0b22_11ea_9a7a_80000208fe80row5_col42\" class=\"data row5 col42\" >nan</td>\n",
       "                        <td id=\"T_5933b630_0b22_11ea_9a7a_80000208fe80row5_col43\" class=\"data row5 col43\" >nan</td>\n",
       "                        <td id=\"T_5933b630_0b22_11ea_9a7a_80000208fe80row5_col44\" class=\"data row5 col44\" >nan</td>\n",
       "                        <td id=\"T_5933b630_0b22_11ea_9a7a_80000208fe80row5_col45\" class=\"data row5 col45\" >nan</td>\n",
       "                        <td id=\"T_5933b630_0b22_11ea_9a7a_80000208fe80row5_col46\" class=\"data row5 col46\" >nan</td>\n",
       "                        <td id=\"T_5933b630_0b22_11ea_9a7a_80000208fe80row5_col47\" class=\"data row5 col47\" >nan</td>\n",
       "                        <td id=\"T_5933b630_0b22_11ea_9a7a_80000208fe80row5_col48\" class=\"data row5 col48\" >nan</td>\n",
       "                        <td id=\"T_5933b630_0b22_11ea_9a7a_80000208fe80row5_col49\" class=\"data row5 col49\" >nan</td>\n",
       "                        <td id=\"T_5933b630_0b22_11ea_9a7a_80000208fe80row5_col50\" class=\"data row5 col50\" >nan</td>\n",
       "                        <td id=\"T_5933b630_0b22_11ea_9a7a_80000208fe80row5_col51\" class=\"data row5 col51\" >nan</td>\n",
       "                        <td id=\"T_5933b630_0b22_11ea_9a7a_80000208fe80row5_col52\" class=\"data row5 col52\" >nan</td>\n",
       "                        <td id=\"T_5933b630_0b22_11ea_9a7a_80000208fe80row5_col53\" class=\"data row5 col53\" >nan</td>\n",
       "                        <td id=\"T_5933b630_0b22_11ea_9a7a_80000208fe80row5_col54\" class=\"data row5 col54\" >nan</td>\n",
       "                        <td id=\"T_5933b630_0b22_11ea_9a7a_80000208fe80row5_col55\" class=\"data row5 col55\" >nan</td>\n",
       "                        <td id=\"T_5933b630_0b22_11ea_9a7a_80000208fe80row5_col56\" class=\"data row5 col56\" >nan</td>\n",
       "                        <td id=\"T_5933b630_0b22_11ea_9a7a_80000208fe80row5_col57\" class=\"data row5 col57\" >nan</td>\n",
       "                        <td id=\"T_5933b630_0b22_11ea_9a7a_80000208fe80row5_col58\" class=\"data row5 col58\" >nan</td>\n",
       "                        <td id=\"T_5933b630_0b22_11ea_9a7a_80000208fe80row5_col59\" class=\"data row5 col59\" >nan</td>\n",
       "                        <td id=\"T_5933b630_0b22_11ea_9a7a_80000208fe80row5_col60\" class=\"data row5 col60\" >nan</td>\n",
       "                        <td id=\"T_5933b630_0b22_11ea_9a7a_80000208fe80row5_col61\" class=\"data row5 col61\" >nan</td>\n",
       "                        <td id=\"T_5933b630_0b22_11ea_9a7a_80000208fe80row5_col62\" class=\"data row5 col62\" >nan</td>\n",
       "                        <td id=\"T_5933b630_0b22_11ea_9a7a_80000208fe80row5_col63\" class=\"data row5 col63\" >nan</td>\n",
       "                        <td id=\"T_5933b630_0b22_11ea_9a7a_80000208fe80row5_col64\" class=\"data row5 col64\" >nan</td>\n",
       "                        <td id=\"T_5933b630_0b22_11ea_9a7a_80000208fe80row5_col65\" class=\"data row5 col65\" >nan</td>\n",
       "                        <td id=\"T_5933b630_0b22_11ea_9a7a_80000208fe80row5_col66\" class=\"data row5 col66\" >nan</td>\n",
       "                        <td id=\"T_5933b630_0b22_11ea_9a7a_80000208fe80row5_col67\" class=\"data row5 col67\" >nan</td>\n",
       "                        <td id=\"T_5933b630_0b22_11ea_9a7a_80000208fe80row5_col68\" class=\"data row5 col68\" >nan</td>\n",
       "                        <td id=\"T_5933b630_0b22_11ea_9a7a_80000208fe80row5_col69\" class=\"data row5 col69\" >nan</td>\n",
       "                        <td id=\"T_5933b630_0b22_11ea_9a7a_80000208fe80row5_col70\" class=\"data row5 col70\" >nan</td>\n",
       "                        <td id=\"T_5933b630_0b22_11ea_9a7a_80000208fe80row5_col71\" class=\"data row5 col71\" >nan</td>\n",
       "                        <td id=\"T_5933b630_0b22_11ea_9a7a_80000208fe80row5_col72\" class=\"data row5 col72\" >nan</td>\n",
       "                        <td id=\"T_5933b630_0b22_11ea_9a7a_80000208fe80row5_col73\" class=\"data row5 col73\" >nan</td>\n",
       "                        <td id=\"T_5933b630_0b22_11ea_9a7a_80000208fe80row5_col74\" class=\"data row5 col74\" >nan</td>\n",
       "                        <td id=\"T_5933b630_0b22_11ea_9a7a_80000208fe80row5_col75\" class=\"data row5 col75\" >nan</td>\n",
       "                        <td id=\"T_5933b630_0b22_11ea_9a7a_80000208fe80row5_col76\" class=\"data row5 col76\" >nan</td>\n",
       "                        <td id=\"T_5933b630_0b22_11ea_9a7a_80000208fe80row5_col77\" class=\"data row5 col77\" >nan</td>\n",
       "                        <td id=\"T_5933b630_0b22_11ea_9a7a_80000208fe80row5_col78\" class=\"data row5 col78\" >nan</td>\n",
       "                        <td id=\"T_5933b630_0b22_11ea_9a7a_80000208fe80row5_col79\" class=\"data row5 col79\" >nan</td>\n",
       "                        <td id=\"T_5933b630_0b22_11ea_9a7a_80000208fe80row5_col80\" class=\"data row5 col80\" >nan</td>\n",
       "                        <td id=\"T_5933b630_0b22_11ea_9a7a_80000208fe80row5_col81\" class=\"data row5 col81\" >nan</td>\n",
       "                        <td id=\"T_5933b630_0b22_11ea_9a7a_80000208fe80row5_col82\" class=\"data row5 col82\" >nan</td>\n",
       "                        <td id=\"T_5933b630_0b22_11ea_9a7a_80000208fe80row5_col83\" class=\"data row5 col83\" >nan</td>\n",
       "                        <td id=\"T_5933b630_0b22_11ea_9a7a_80000208fe80row5_col84\" class=\"data row5 col84\" >nan</td>\n",
       "                        <td id=\"T_5933b630_0b22_11ea_9a7a_80000208fe80row5_col85\" class=\"data row5 col85\" >nan</td>\n",
       "                        <td id=\"T_5933b630_0b22_11ea_9a7a_80000208fe80row5_col86\" class=\"data row5 col86\" >nan</td>\n",
       "                        <td id=\"T_5933b630_0b22_11ea_9a7a_80000208fe80row5_col87\" class=\"data row5 col87\" >nan</td>\n",
       "                        <td id=\"T_5933b630_0b22_11ea_9a7a_80000208fe80row5_col88\" class=\"data row5 col88\" >nan</td>\n",
       "                        <td id=\"T_5933b630_0b22_11ea_9a7a_80000208fe80row5_col89\" class=\"data row5 col89\" >nan</td>\n",
       "                        <td id=\"T_5933b630_0b22_11ea_9a7a_80000208fe80row5_col90\" class=\"data row5 col90\" >nan</td>\n",
       "                        <td id=\"T_5933b630_0b22_11ea_9a7a_80000208fe80row5_col91\" class=\"data row5 col91\" >nan</td>\n",
       "                        <td id=\"T_5933b630_0b22_11ea_9a7a_80000208fe80row5_col92\" class=\"data row5 col92\" >nan</td>\n",
       "                        <td id=\"T_5933b630_0b22_11ea_9a7a_80000208fe80row5_col93\" class=\"data row5 col93\" >nan</td>\n",
       "                        <td id=\"T_5933b630_0b22_11ea_9a7a_80000208fe80row5_col94\" class=\"data row5 col94\" >nan</td>\n",
       "                        <td id=\"T_5933b630_0b22_11ea_9a7a_80000208fe80row5_col95\" class=\"data row5 col95\" >nan</td>\n",
       "                        <td id=\"T_5933b630_0b22_11ea_9a7a_80000208fe80row5_col96\" class=\"data row5 col96\" >nan</td>\n",
       "                        <td id=\"T_5933b630_0b22_11ea_9a7a_80000208fe80row5_col97\" class=\"data row5 col97\" >nan</td>\n",
       "                        <td id=\"T_5933b630_0b22_11ea_9a7a_80000208fe80row5_col98\" class=\"data row5 col98\" >nan</td>\n",
       "                        <td id=\"T_5933b630_0b22_11ea_9a7a_80000208fe80row5_col99\" class=\"data row5 col99\" >nan</td>\n",
       "                        <td id=\"T_5933b630_0b22_11ea_9a7a_80000208fe80row5_col100\" class=\"data row5 col100\" >nan</td>\n",
       "                        <td id=\"T_5933b630_0b22_11ea_9a7a_80000208fe80row5_col101\" class=\"data row5 col101\" >nan</td>\n",
       "                        <td id=\"T_5933b630_0b22_11ea_9a7a_80000208fe80row5_col102\" class=\"data row5 col102\" >nan</td>\n",
       "                        <td id=\"T_5933b630_0b22_11ea_9a7a_80000208fe80row5_col103\" class=\"data row5 col103\" >nan</td>\n",
       "                        <td id=\"T_5933b630_0b22_11ea_9a7a_80000208fe80row5_col104\" class=\"data row5 col104\" >nan</td>\n",
       "                        <td id=\"T_5933b630_0b22_11ea_9a7a_80000208fe80row5_col105\" class=\"data row5 col105\" >nan</td>\n",
       "                        <td id=\"T_5933b630_0b22_11ea_9a7a_80000208fe80row5_col106\" class=\"data row5 col106\" >nan</td>\n",
       "                        <td id=\"T_5933b630_0b22_11ea_9a7a_80000208fe80row5_col107\" class=\"data row5 col107\" >nan</td>\n",
       "                        <td id=\"T_5933b630_0b22_11ea_9a7a_80000208fe80row5_col108\" class=\"data row5 col108\" >nan</td>\n",
       "                        <td id=\"T_5933b630_0b22_11ea_9a7a_80000208fe80row5_col109\" class=\"data row5 col109\" >nan</td>\n",
       "                        <td id=\"T_5933b630_0b22_11ea_9a7a_80000208fe80row5_col110\" class=\"data row5 col110\" >nan</td>\n",
       "                        <td id=\"T_5933b630_0b22_11ea_9a7a_80000208fe80row5_col111\" class=\"data row5 col111\" >nan</td>\n",
       "                        <td id=\"T_5933b630_0b22_11ea_9a7a_80000208fe80row5_col112\" class=\"data row5 col112\" >nan</td>\n",
       "                        <td id=\"T_5933b630_0b22_11ea_9a7a_80000208fe80row5_col113\" class=\"data row5 col113\" >nan</td>\n",
       "                        <td id=\"T_5933b630_0b22_11ea_9a7a_80000208fe80row5_col114\" class=\"data row5 col114\" >nan</td>\n",
       "                        <td id=\"T_5933b630_0b22_11ea_9a7a_80000208fe80row5_col115\" class=\"data row5 col115\" >nan</td>\n",
       "                        <td id=\"T_5933b630_0b22_11ea_9a7a_80000208fe80row5_col116\" class=\"data row5 col116\" >nan</td>\n",
       "                        <td id=\"T_5933b630_0b22_11ea_9a7a_80000208fe80row5_col117\" class=\"data row5 col117\" >nan</td>\n",
       "                        <td id=\"T_5933b630_0b22_11ea_9a7a_80000208fe80row5_col118\" class=\"data row5 col118\" >nan</td>\n",
       "                        <td id=\"T_5933b630_0b22_11ea_9a7a_80000208fe80row5_col119\" class=\"data row5 col119\" >nan</td>\n",
       "                        <td id=\"T_5933b630_0b22_11ea_9a7a_80000208fe80row5_col120\" class=\"data row5 col120\" >nan</td>\n",
       "                        <td id=\"T_5933b630_0b22_11ea_9a7a_80000208fe80row5_col121\" class=\"data row5 col121\" >nan</td>\n",
       "                        <td id=\"T_5933b630_0b22_11ea_9a7a_80000208fe80row5_col122\" class=\"data row5 col122\" >nan</td>\n",
       "                        <td id=\"T_5933b630_0b22_11ea_9a7a_80000208fe80row5_col123\" class=\"data row5 col123\" >nan</td>\n",
       "                        <td id=\"T_5933b630_0b22_11ea_9a7a_80000208fe80row5_col124\" class=\"data row5 col124\" >nan</td>\n",
       "                        <td id=\"T_5933b630_0b22_11ea_9a7a_80000208fe80row5_col125\" class=\"data row5 col125\" >nan</td>\n",
       "                        <td id=\"T_5933b630_0b22_11ea_9a7a_80000208fe80row5_col126\" class=\"data row5 col126\" >nan</td>\n",
       "                        <td id=\"T_5933b630_0b22_11ea_9a7a_80000208fe80row5_col127\" class=\"data row5 col127\" >nan</td>\n",
       "                        <td id=\"T_5933b630_0b22_11ea_9a7a_80000208fe80row5_col128\" class=\"data row5 col128\" >nan</td>\n",
       "                        <td id=\"T_5933b630_0b22_11ea_9a7a_80000208fe80row5_col129\" class=\"data row5 col129\" >nan</td>\n",
       "                        <td id=\"T_5933b630_0b22_11ea_9a7a_80000208fe80row5_col130\" class=\"data row5 col130\" >nan</td>\n",
       "                        <td id=\"T_5933b630_0b22_11ea_9a7a_80000208fe80row5_col131\" class=\"data row5 col131\" >nan</td>\n",
       "                        <td id=\"T_5933b630_0b22_11ea_9a7a_80000208fe80row5_col132\" class=\"data row5 col132\" >nan</td>\n",
       "                        <td id=\"T_5933b630_0b22_11ea_9a7a_80000208fe80row5_col133\" class=\"data row5 col133\" >nan</td>\n",
       "                        <td id=\"T_5933b630_0b22_11ea_9a7a_80000208fe80row5_col134\" class=\"data row5 col134\" >nan</td>\n",
       "                        <td id=\"T_5933b630_0b22_11ea_9a7a_80000208fe80row5_col135\" class=\"data row5 col135\" >nan</td>\n",
       "                        <td id=\"T_5933b630_0b22_11ea_9a7a_80000208fe80row5_col136\" class=\"data row5 col136\" >nan</td>\n",
       "                        <td id=\"T_5933b630_0b22_11ea_9a7a_80000208fe80row5_col137\" class=\"data row5 col137\" >nan</td>\n",
       "                        <td id=\"T_5933b630_0b22_11ea_9a7a_80000208fe80row5_col138\" class=\"data row5 col138\" >nan</td>\n",
       "                        <td id=\"T_5933b630_0b22_11ea_9a7a_80000208fe80row5_col139\" class=\"data row5 col139\" >nan</td>\n",
       "                        <td id=\"T_5933b630_0b22_11ea_9a7a_80000208fe80row5_col140\" class=\"data row5 col140\" >nan</td>\n",
       "                        <td id=\"T_5933b630_0b22_11ea_9a7a_80000208fe80row5_col141\" class=\"data row5 col141\" >nan</td>\n",
       "                        <td id=\"T_5933b630_0b22_11ea_9a7a_80000208fe80row5_col142\" class=\"data row5 col142\" >nan</td>\n",
       "                        <td id=\"T_5933b630_0b22_11ea_9a7a_80000208fe80row5_col143\" class=\"data row5 col143\" >nan</td>\n",
       "                        <td id=\"T_5933b630_0b22_11ea_9a7a_80000208fe80row5_col144\" class=\"data row5 col144\" >nan</td>\n",
       "                        <td id=\"T_5933b630_0b22_11ea_9a7a_80000208fe80row5_col145\" class=\"data row5 col145\" >nan</td>\n",
       "                        <td id=\"T_5933b630_0b22_11ea_9a7a_80000208fe80row5_col146\" class=\"data row5 col146\" >nan</td>\n",
       "                        <td id=\"T_5933b630_0b22_11ea_9a7a_80000208fe80row5_col147\" class=\"data row5 col147\" >nan</td>\n",
       "                        <td id=\"T_5933b630_0b22_11ea_9a7a_80000208fe80row5_col148\" class=\"data row5 col148\" >nan</td>\n",
       "                        <td id=\"T_5933b630_0b22_11ea_9a7a_80000208fe80row5_col149\" class=\"data row5 col149\" >nan</td>\n",
       "                        <td id=\"T_5933b630_0b22_11ea_9a7a_80000208fe80row5_col150\" class=\"data row5 col150\" >nan</td>\n",
       "                        <td id=\"T_5933b630_0b22_11ea_9a7a_80000208fe80row5_col151\" class=\"data row5 col151\" >nan</td>\n",
       "                        <td id=\"T_5933b630_0b22_11ea_9a7a_80000208fe80row5_col152\" class=\"data row5 col152\" >nan</td>\n",
       "                        <td id=\"T_5933b630_0b22_11ea_9a7a_80000208fe80row5_col153\" class=\"data row5 col153\" >nan</td>\n",
       "                        <td id=\"T_5933b630_0b22_11ea_9a7a_80000208fe80row5_col154\" class=\"data row5 col154\" >nan</td>\n",
       "                        <td id=\"T_5933b630_0b22_11ea_9a7a_80000208fe80row5_col155\" class=\"data row5 col155\" >nan</td>\n",
       "                        <td id=\"T_5933b630_0b22_11ea_9a7a_80000208fe80row5_col156\" class=\"data row5 col156\" >nan</td>\n",
       "                        <td id=\"T_5933b630_0b22_11ea_9a7a_80000208fe80row5_col157\" class=\"data row5 col157\" >nan</td>\n",
       "                        <td id=\"T_5933b630_0b22_11ea_9a7a_80000208fe80row5_col158\" class=\"data row5 col158\" >nan</td>\n",
       "                        <td id=\"T_5933b630_0b22_11ea_9a7a_80000208fe80row5_col159\" class=\"data row5 col159\" >nan</td>\n",
       "                        <td id=\"T_5933b630_0b22_11ea_9a7a_80000208fe80row5_col160\" class=\"data row5 col160\" >nan</td>\n",
       "                        <td id=\"T_5933b630_0b22_11ea_9a7a_80000208fe80row5_col161\" class=\"data row5 col161\" >nan</td>\n",
       "                        <td id=\"T_5933b630_0b22_11ea_9a7a_80000208fe80row5_col162\" class=\"data row5 col162\" >nan</td>\n",
       "                        <td id=\"T_5933b630_0b22_11ea_9a7a_80000208fe80row5_col163\" class=\"data row5 col163\" >nan</td>\n",
       "                        <td id=\"T_5933b630_0b22_11ea_9a7a_80000208fe80row5_col164\" class=\"data row5 col164\" >nan</td>\n",
       "                        <td id=\"T_5933b630_0b22_11ea_9a7a_80000208fe80row5_col165\" class=\"data row5 col165\" >nan</td>\n",
       "                        <td id=\"T_5933b630_0b22_11ea_9a7a_80000208fe80row5_col166\" class=\"data row5 col166\" >nan</td>\n",
       "                        <td id=\"T_5933b630_0b22_11ea_9a7a_80000208fe80row5_col167\" class=\"data row5 col167\" >nan</td>\n",
       "                        <td id=\"T_5933b630_0b22_11ea_9a7a_80000208fe80row5_col168\" class=\"data row5 col168\" >nan</td>\n",
       "                        <td id=\"T_5933b630_0b22_11ea_9a7a_80000208fe80row5_col169\" class=\"data row5 col169\" >nan</td>\n",
       "                        <td id=\"T_5933b630_0b22_11ea_9a7a_80000208fe80row5_col170\" class=\"data row5 col170\" >nan</td>\n",
       "                        <td id=\"T_5933b630_0b22_11ea_9a7a_80000208fe80row5_col171\" class=\"data row5 col171\" >nan</td>\n",
       "                        <td id=\"T_5933b630_0b22_11ea_9a7a_80000208fe80row5_col172\" class=\"data row5 col172\" >nan</td>\n",
       "                        <td id=\"T_5933b630_0b22_11ea_9a7a_80000208fe80row5_col173\" class=\"data row5 col173\" >nan</td>\n",
       "                        <td id=\"T_5933b630_0b22_11ea_9a7a_80000208fe80row5_col174\" class=\"data row5 col174\" >nan</td>\n",
       "                        <td id=\"T_5933b630_0b22_11ea_9a7a_80000208fe80row5_col175\" class=\"data row5 col175\" >nan</td>\n",
       "                        <td id=\"T_5933b630_0b22_11ea_9a7a_80000208fe80row5_col176\" class=\"data row5 col176\" >nan</td>\n",
       "                        <td id=\"T_5933b630_0b22_11ea_9a7a_80000208fe80row5_col177\" class=\"data row5 col177\" >nan</td>\n",
       "                        <td id=\"T_5933b630_0b22_11ea_9a7a_80000208fe80row5_col178\" class=\"data row5 col178\" >nan</td>\n",
       "                        <td id=\"T_5933b630_0b22_11ea_9a7a_80000208fe80row5_col179\" class=\"data row5 col179\" >nan</td>\n",
       "                        <td id=\"T_5933b630_0b22_11ea_9a7a_80000208fe80row5_col180\" class=\"data row5 col180\" >nan</td>\n",
       "                        <td id=\"T_5933b630_0b22_11ea_9a7a_80000208fe80row5_col181\" class=\"data row5 col181\" >nan</td>\n",
       "                        <td id=\"T_5933b630_0b22_11ea_9a7a_80000208fe80row5_col182\" class=\"data row5 col182\" >nan</td>\n",
       "                        <td id=\"T_5933b630_0b22_11ea_9a7a_80000208fe80row5_col183\" class=\"data row5 col183\" >nan</td>\n",
       "                        <td id=\"T_5933b630_0b22_11ea_9a7a_80000208fe80row5_col184\" class=\"data row5 col184\" >nan</td>\n",
       "                        <td id=\"T_5933b630_0b22_11ea_9a7a_80000208fe80row5_col185\" class=\"data row5 col185\" >nan</td>\n",
       "                        <td id=\"T_5933b630_0b22_11ea_9a7a_80000208fe80row5_col186\" class=\"data row5 col186\" >nan</td>\n",
       "                        <td id=\"T_5933b630_0b22_11ea_9a7a_80000208fe80row5_col187\" class=\"data row5 col187\" >nan</td>\n",
       "                        <td id=\"T_5933b630_0b22_11ea_9a7a_80000208fe80row5_col188\" class=\"data row5 col188\" >nan</td>\n",
       "            </tr>\n",
       "    </tbody></table>"
      ],
      "text/plain": [
       "<pandas.io.formats.style.Styler at 0x2b01d868ea90>"
      ]
     },
     "metadata": {},
     "output_type": "display_data"
    },
    {
     "data": {
      "text/plain": [
       "'TPOTClassifier #1'"
      ]
     },
     "metadata": {},
     "output_type": "display_data"
    },
    {
     "data": {
      "text/html": [
       "<style  type=\"text/css\" >\n",
       "</style><table id=\"T_593c7176_0b22_11ea_9a7a_80000208fe80\" ><thead>    <tr>        <th class=\"col_heading level0 col0\" >std</th>        <th class=\"col_heading level0 col1\" >test_acc</th>        <th class=\"col_heading level0 col2\" >train_acc</th>        <th class=\"col_heading level0 col3\" >time_err</th>        <th class=\"col_heading level0 col4\" >time_pre</th>        <th class=\"col_heading level0 col5\" >time_mod</th>    </tr></thead><tbody>\n",
       "                <tr>\n",
       "                                <td id=\"T_593c7176_0b22_11ea_9a7a_80000208fe80row0_col0\" class=\"data row0 col0\" >0</td>\n",
       "                        <td id=\"T_593c7176_0b22_11ea_9a7a_80000208fe80row0_col1\" class=\"data row0 col1\" >0.981</td>\n",
       "                        <td id=\"T_593c7176_0b22_11ea_9a7a_80000208fe80row0_col2\" class=\"data row0 col2\" >1</td>\n",
       "                        <td id=\"T_593c7176_0b22_11ea_9a7a_80000208fe80row0_col3\" class=\"data row0 col3\" >0.141</td>\n",
       "                        <td id=\"T_593c7176_0b22_11ea_9a7a_80000208fe80row0_col4\" class=\"data row0 col4\" >0.001</td>\n",
       "                        <td id=\"T_593c7176_0b22_11ea_9a7a_80000208fe80row0_col5\" class=\"data row0 col5\" >1831.97</td>\n",
       "            </tr>\n",
       "            <tr>\n",
       "                                <td id=\"T_593c7176_0b22_11ea_9a7a_80000208fe80row1_col0\" class=\"data row1 col0\" >3.2</td>\n",
       "                        <td id=\"T_593c7176_0b22_11ea_9a7a_80000208fe80row1_col1\" class=\"data row1 col1\" >0.953</td>\n",
       "                        <td id=\"T_593c7176_0b22_11ea_9a7a_80000208fe80row1_col2\" class=\"data row1 col2\" >1</td>\n",
       "                        <td id=\"T_593c7176_0b22_11ea_9a7a_80000208fe80row1_col3\" class=\"data row1 col3\" >0.106</td>\n",
       "                        <td id=\"T_593c7176_0b22_11ea_9a7a_80000208fe80row1_col4\" class=\"data row1 col4\" >0.001</td>\n",
       "                        <td id=\"T_593c7176_0b22_11ea_9a7a_80000208fe80row1_col5\" class=\"data row1 col5\" >1890.57</td>\n",
       "            </tr>\n",
       "            <tr>\n",
       "                                <td id=\"T_593c7176_0b22_11ea_9a7a_80000208fe80row2_col0\" class=\"data row2 col0\" >6.4</td>\n",
       "                        <td id=\"T_593c7176_0b22_11ea_9a7a_80000208fe80row2_col1\" class=\"data row2 col1\" >0.833</td>\n",
       "                        <td id=\"T_593c7176_0b22_11ea_9a7a_80000208fe80row2_col2\" class=\"data row2 col2\" >1</td>\n",
       "                        <td id=\"T_593c7176_0b22_11ea_9a7a_80000208fe80row2_col3\" class=\"data row2 col3\" >0.115</td>\n",
       "                        <td id=\"T_593c7176_0b22_11ea_9a7a_80000208fe80row2_col4\" class=\"data row2 col4\" >0.002</td>\n",
       "                        <td id=\"T_593c7176_0b22_11ea_9a7a_80000208fe80row2_col5\" class=\"data row2 col5\" >1926.03</td>\n",
       "            </tr>\n",
       "            <tr>\n",
       "                                <td id=\"T_593c7176_0b22_11ea_9a7a_80000208fe80row3_col0\" class=\"data row3 col0\" >9.6</td>\n",
       "                        <td id=\"T_593c7176_0b22_11ea_9a7a_80000208fe80row3_col1\" class=\"data row3 col1\" >0.681</td>\n",
       "                        <td id=\"T_593c7176_0b22_11ea_9a7a_80000208fe80row3_col2\" class=\"data row3 col2\" >0.708</td>\n",
       "                        <td id=\"T_593c7176_0b22_11ea_9a7a_80000208fe80row3_col3\" class=\"data row3 col3\" >0.105</td>\n",
       "                        <td id=\"T_593c7176_0b22_11ea_9a7a_80000208fe80row3_col4\" class=\"data row3 col4\" >0.001</td>\n",
       "                        <td id=\"T_593c7176_0b22_11ea_9a7a_80000208fe80row3_col5\" class=\"data row3 col5\" >1835.5</td>\n",
       "            </tr>\n",
       "            <tr>\n",
       "                                <td id=\"T_593c7176_0b22_11ea_9a7a_80000208fe80row4_col0\" class=\"data row4 col0\" >12.8</td>\n",
       "                        <td id=\"T_593c7176_0b22_11ea_9a7a_80000208fe80row4_col1\" class=\"data row4 col1\" >0.498</td>\n",
       "                        <td id=\"T_593c7176_0b22_11ea_9a7a_80000208fe80row4_col2\" class=\"data row4 col2\" >0.525</td>\n",
       "                        <td id=\"T_593c7176_0b22_11ea_9a7a_80000208fe80row4_col3\" class=\"data row4 col3\" >0.1</td>\n",
       "                        <td id=\"T_593c7176_0b22_11ea_9a7a_80000208fe80row4_col4\" class=\"data row4 col4\" >0.001</td>\n",
       "                        <td id=\"T_593c7176_0b22_11ea_9a7a_80000208fe80row4_col5\" class=\"data row4 col5\" >1834.58</td>\n",
       "            </tr>\n",
       "            <tr>\n",
       "                                <td id=\"T_593c7176_0b22_11ea_9a7a_80000208fe80row5_col0\" class=\"data row5 col0\" >16</td>\n",
       "                        <td id=\"T_593c7176_0b22_11ea_9a7a_80000208fe80row5_col1\" class=\"data row5 col1\" >0.35</td>\n",
       "                        <td id=\"T_593c7176_0b22_11ea_9a7a_80000208fe80row5_col2\" class=\"data row5 col2\" >0.466</td>\n",
       "                        <td id=\"T_593c7176_0b22_11ea_9a7a_80000208fe80row5_col3\" class=\"data row5 col3\" >0.1</td>\n",
       "                        <td id=\"T_593c7176_0b22_11ea_9a7a_80000208fe80row5_col4\" class=\"data row5 col4\" >0.001</td>\n",
       "                        <td id=\"T_593c7176_0b22_11ea_9a7a_80000208fe80row5_col5\" class=\"data row5 col5\" >2193.03</td>\n",
       "            </tr>\n",
       "    </tbody></table>"
      ],
      "text/plain": [
       "<pandas.io.formats.style.Styler at 0x2b01dc6aaf28>"
      ]
     },
     "metadata": {},
     "output_type": "display_data"
    },
    {
     "data": {
      "text/html": [
       "<style  type=\"text/css\" >\n",
       "</style><table id=\"T_593db5ea_0b22_11ea_9a7a_80000208fe80\" ><thead>    <tr>        <th class=\"col_heading level0 col0\" >std</th>        <th class=\"col_heading level0 col1\" >pipe_0</th>        <th class=\"col_heading level0 col2\" >pipe_1</th>        <th class=\"col_heading level0 col3\" >pipe_2</th>        <th class=\"col_heading level0 col4\" >pipe_3</th>    </tr></thead><tbody>\n",
       "                <tr>\n",
       "                                <td id=\"T_593db5ea_0b22_11ea_9a7a_80000208fe80row0_col0\" class=\"data row0 col0\" >0</td>\n",
       "                        <td id=\"T_593db5ea_0b22_11ea_9a7a_80000208fe80row0_col1\" class=\"data row0 col1\" >ZeroCount()</td>\n",
       "                        <td id=\"T_593db5ea_0b22_11ea_9a7a_80000208fe80row0_col2\" class=\"data row0 col2\" >StackingEstimator(estimator=ExtraTreesClassifier(bootstrap=False,\n",
       "                                                 class_weight=None,\n",
       "                                                 criterion='entropy',\n",
       "                                                 max_depth=None,\n",
       "                                                 max_features=0.45,\n",
       "                                                 max_leaf_nodes=None,\n",
       "                                                 min_impurity_decrease=0.0,\n",
       "                                                 min_impurity_split=None,\n",
       "                                                 min_samples_leaf=9,\n",
       "                                                 min_samples_split=5,\n",
       "                                                 min_weight_fraction_leaf=0.0,\n",
       "                                                 n_estimators=100, n_jobs=None,\n",
       "                                                 oob_score=False,\n",
       "                                                 random_state=42, verbose=0,\n",
       "                                                 warm_start=False))</td>\n",
       "                        <td id=\"T_593db5ea_0b22_11ea_9a7a_80000208fe80row0_col3\" class=\"data row0 col3\" >KNeighborsClassifier(algorithm='auto', leaf_size=30, metric='minkowski',\n",
       "                     metric_params=None, n_jobs=None, n_neighbors=4, p=2,\n",
       "                     weights='distance')</td>\n",
       "                        <td id=\"T_593db5ea_0b22_11ea_9a7a_80000208fe80row0_col4\" class=\"data row0 col4\" >nan</td>\n",
       "            </tr>\n",
       "            <tr>\n",
       "                                <td id=\"T_593db5ea_0b22_11ea_9a7a_80000208fe80row1_col0\" class=\"data row1 col0\" >3.2</td>\n",
       "                        <td id=\"T_593db5ea_0b22_11ea_9a7a_80000208fe80row1_col1\" class=\"data row1 col1\" >StackingEstimator(estimator=ExtraTreesClassifier(bootstrap=False,\n",
       "                                                 class_weight=None,\n",
       "                                                 criterion='gini',\n",
       "                                                 max_depth=None,\n",
       "                                                 max_features=1.0,\n",
       "                                                 max_leaf_nodes=None,\n",
       "                                                 min_impurity_decrease=0.0,\n",
       "                                                 min_impurity_split=None,\n",
       "                                                 min_samples_leaf=5,\n",
       "                                                 min_samples_split=9,\n",
       "                                                 min_weight_fraction_leaf=0.0,\n",
       "                                                 n_estimators=100, n_jobs=None,\n",
       "                                                 oob_score=False,\n",
       "                                                 random_state=42, verbose=0,\n",
       "                                                 warm_start=False))</td>\n",
       "                        <td id=\"T_593db5ea_0b22_11ea_9a7a_80000208fe80row1_col2\" class=\"data row1 col2\" >StackingEstimator(estimator=KNeighborsClassifier(algorithm='auto', leaf_size=30,\n",
       "                                                 metric='minkowski',\n",
       "                                                 metric_params=None,\n",
       "                                                 n_jobs=None, n_neighbors=12,\n",
       "                                                 p=2, weights='distance'))</td>\n",
       "                        <td id=\"T_593db5ea_0b22_11ea_9a7a_80000208fe80row1_col3\" class=\"data row1 col3\" >ExtraTreesClassifier(bootstrap=False, class_weight=None, criterion='gini',\n",
       "                     max_depth=None, max_features=0.1, max_leaf_nodes=None,\n",
       "                     min_impurity_decrease=0.0, min_impurity_split=None,\n",
       "                     min_samples_leaf=15, min_samples_split=15,\n",
       "                     min_weight_fraction_leaf=0.0, n_estimators=100,\n",
       "                     n_jobs=None, oob_score=False, random_state=42, verbose=0,\n",
       "                     warm_start=False)</td>\n",
       "                        <td id=\"T_593db5ea_0b22_11ea_9a7a_80000208fe80row1_col4\" class=\"data row1 col4\" >nan</td>\n",
       "            </tr>\n",
       "            <tr>\n",
       "                                <td id=\"T_593db5ea_0b22_11ea_9a7a_80000208fe80row2_col0\" class=\"data row2 col0\" >6.4</td>\n",
       "                        <td id=\"T_593db5ea_0b22_11ea_9a7a_80000208fe80row2_col1\" class=\"data row2 col1\" >StackingEstimator(estimator=GradientBoostingClassifier(criterion='friedman_mse',\n",
       "                                                       init=None,\n",
       "                                                       learning_rate=0.5,\n",
       "                                                       loss='deviance',\n",
       "                                                       max_depth=9,\n",
       "                                                       max_features=0.9000000000000001,\n",
       "                                                       max_leaf_nodes=None,\n",
       "                                                       min_impurity_decrease=0.0,\n",
       "                                                       min_impurity_split=None,\n",
       "                                                       min_samples_leaf=13,\n",
       "                                                       min_samples_split=4,\n",
       "                                                       min_weight_fraction_leaf=0.0,\n",
       "                                                       n_estimators=100,\n",
       "                                                       n_iter_no_change=None,\n",
       "                                                       presort='auto',\n",
       "                                                       random_state=42,\n",
       "                                                       subsample=0.4,\n",
       "                                                       tol=0.0001,\n",
       "                                                       validation_fraction=0.1,\n",
       "                                                       verbose=0,\n",
       "                                                       warm_start=False))</td>\n",
       "                        <td id=\"T_593db5ea_0b22_11ea_9a7a_80000208fe80row2_col2\" class=\"data row2 col2\" >StackingEstimator(estimator=LinearSVC(C=0.01, class_weight=None, dual=False,\n",
       "                                      fit_intercept=True, intercept_scaling=1,\n",
       "                                      loss='squared_hinge', max_iter=1000,\n",
       "                                      multi_class='ovr', penalty='l2',\n",
       "                                      random_state=42, tol=0.1, verbose=0))</td>\n",
       "                        <td id=\"T_593db5ea_0b22_11ea_9a7a_80000208fe80row2_col3\" class=\"data row2 col3\" >SelectFwe(alpha=0.03, score_func=<function f_classif at 0x2b02c3c82c80>)</td>\n",
       "                        <td id=\"T_593db5ea_0b22_11ea_9a7a_80000208fe80row2_col4\" class=\"data row2 col4\" >KNeighborsClassifier(algorithm='auto', leaf_size=30, metric='minkowski',\n",
       "                     metric_params=None, n_jobs=None, n_neighbors=41, p=2,\n",
       "                     weights='distance')</td>\n",
       "            </tr>\n",
       "            <tr>\n",
       "                                <td id=\"T_593db5ea_0b22_11ea_9a7a_80000208fe80row3_col0\" class=\"data row3 col0\" >9.6</td>\n",
       "                        <td id=\"T_593db5ea_0b22_11ea_9a7a_80000208fe80row3_col1\" class=\"data row3 col1\" >StackingEstimator(estimator=RandomForestClassifier(bootstrap=False,\n",
       "                                                   class_weight=None,\n",
       "                                                   criterion='gini',\n",
       "                                                   max_depth=None,\n",
       "                                                   max_features=0.45,\n",
       "                                                   max_leaf_nodes=None,\n",
       "                                                   min_impurity_decrease=0.0,\n",
       "                                                   min_impurity_split=None,\n",
       "                                                   min_samples_leaf=5,\n",
       "                                                   min_samples_split=20,\n",
       "                                                   min_weight_fraction_leaf=0.0,\n",
       "                                                   n_estimators=100,\n",
       "                                                   n_jobs=None, oob_score=False,\n",
       "                                                   random_state=42, verbose=0,\n",
       "                                                   warm_start=False))</td>\n",
       "                        <td id=\"T_593db5ea_0b22_11ea_9a7a_80000208fe80row3_col2\" class=\"data row3 col2\" >StackingEstimator(estimator=LinearSVC(C=0.01, class_weight=None, dual=False,\n",
       "                                      fit_intercept=True, intercept_scaling=1,\n",
       "                                      loss='squared_hinge', max_iter=1000,\n",
       "                                      multi_class='ovr', penalty='l2',\n",
       "                                      random_state=42, tol=0.0001, verbose=0))</td>\n",
       "                        <td id=\"T_593db5ea_0b22_11ea_9a7a_80000208fe80row3_col3\" class=\"data row3 col3\" >SelectFwe(alpha=0.021, score_func=<function f_classif at 0x2b02c3c82c80>)</td>\n",
       "                        <td id=\"T_593db5ea_0b22_11ea_9a7a_80000208fe80row3_col4\" class=\"data row3 col4\" >KNeighborsClassifier(algorithm='auto', leaf_size=30, metric='minkowski',\n",
       "                     metric_params=None, n_jobs=None, n_neighbors=99, p=2,\n",
       "                     weights='uniform')</td>\n",
       "            </tr>\n",
       "            <tr>\n",
       "                                <td id=\"T_593db5ea_0b22_11ea_9a7a_80000208fe80row4_col0\" class=\"data row4 col0\" >12.8</td>\n",
       "                        <td id=\"T_593db5ea_0b22_11ea_9a7a_80000208fe80row4_col1\" class=\"data row4 col1\" >MaxAbsScaler(copy=True)</td>\n",
       "                        <td id=\"T_593db5ea_0b22_11ea_9a7a_80000208fe80row4_col2\" class=\"data row4 col2\" >SelectPercentile(percentile=76,\n",
       "                 score_func=<function f_classif at 0x2b02c3c82c80>)</td>\n",
       "                        <td id=\"T_593db5ea_0b22_11ea_9a7a_80000208fe80row4_col3\" class=\"data row4 col3\" >MultinomialNB(alpha=100.0, class_prior=None, fit_prior=False)</td>\n",
       "                        <td id=\"T_593db5ea_0b22_11ea_9a7a_80000208fe80row4_col4\" class=\"data row4 col4\" >nan</td>\n",
       "            </tr>\n",
       "            <tr>\n",
       "                                <td id=\"T_593db5ea_0b22_11ea_9a7a_80000208fe80row5_col0\" class=\"data row5 col0\" >16</td>\n",
       "                        <td id=\"T_593db5ea_0b22_11ea_9a7a_80000208fe80row5_col1\" class=\"data row5 col1\" >FeatureUnion(n_jobs=None,\n",
       "             transformer_list=[('functiontransformer',\n",
       "                                FunctionTransformer(accept_sparse=False,\n",
       "                                                    check_inverse=True,\n",
       "                                                    func=<function copy at 0x2b01956fa158>,\n",
       "                                                    inv_kw_args=None,\n",
       "                                                    inverse_func=None,\n",
       "                                                    kw_args=None,\n",
       "                                                    pass_y='deprecated',\n",
       "                                                    validate=None)),\n",
       "                               ('rfe',\n",
       "                                RFE(estimator=ExtraTreesClassifier(bootstrap=False,\n",
       "                                                                   class_weight=None,\n",
       "                                                                   criterion='gini',\n",
       "                                                                   max_depth=None,\n",
       "                                                                   max_features=0.4,\n",
       "                                                                   max_leaf_nodes=None,\n",
       "                                                                   min_impurity_decrease=0.0,\n",
       "                                                                   min_impurity_split=None,\n",
       "                                                                   min_samples_leaf=1,\n",
       "                                                                   min_samples_split=2,\n",
       "                                                                   min_weight_fraction_leaf=0.0,\n",
       "                                                                   n_estimators=100,\n",
       "                                                                   n_jobs=None,\n",
       "                                                                   oob_score=False,\n",
       "                                                                   random_state=42,\n",
       "                                                                   verbose=0,\n",
       "                                                                   warm_start=False),\n",
       "                                    n_features_to_select=None, step=0.8,\n",
       "                                    verbose=0))],\n",
       "             transformer_weights=None, verbose=False)</td>\n",
       "                        <td id=\"T_593db5ea_0b22_11ea_9a7a_80000208fe80row5_col2\" class=\"data row5 col2\" >StackingEstimator(estimator=LogisticRegression(C=15.0, class_weight=None,\n",
       "                                               dual=False, fit_intercept=True,\n",
       "                                               intercept_scaling=1,\n",
       "                                               l1_ratio=None, max_iter=100,\n",
       "                                               multi_class='warn', n_jobs=None,\n",
       "                                               penalty='l1', random_state=42,\n",
       "                                               solver='warn', tol=0.0001,\n",
       "                                               verbose=0, warm_start=False))</td>\n",
       "                        <td id=\"T_593db5ea_0b22_11ea_9a7a_80000208fe80row5_col3\" class=\"data row5 col3\" >MultinomialNB(alpha=1.0, class_prior=None, fit_prior=False)</td>\n",
       "                        <td id=\"T_593db5ea_0b22_11ea_9a7a_80000208fe80row5_col4\" class=\"data row5 col4\" >nan</td>\n",
       "            </tr>\n",
       "    </tbody></table>"
      ],
      "text/plain": [
       "<pandas.io.formats.style.Styler at 0x2b02ceb8e7f0>"
      ]
     },
     "metadata": {},
     "output_type": "display_data"
    },
    {
     "data": {
      "text/plain": [
       "'TPOTClassifierClean #1'"
      ]
     },
     "metadata": {},
     "output_type": "display_data"
    },
    {
     "data": {
      "text/html": [
       "<style  type=\"text/css\" >\n",
       "</style><table id=\"T_5941d242_0b22_11ea_9a7a_80000208fe80\" ><thead>    <tr>        <th class=\"col_heading level0 col0\" >std</th>        <th class=\"col_heading level0 col1\" >test_acc</th>        <th class=\"col_heading level0 col2\" >train_acc</th>        <th class=\"col_heading level0 col3\" >time_err</th>        <th class=\"col_heading level0 col4\" >time_pre</th>        <th class=\"col_heading level0 col5\" >time_mod</th>    </tr></thead><tbody>\n",
       "                <tr>\n",
       "                                <td id=\"T_5941d242_0b22_11ea_9a7a_80000208fe80row0_col0\" class=\"data row0 col0\" >0</td>\n",
       "                        <td id=\"T_5941d242_0b22_11ea_9a7a_80000208fe80row0_col1\" class=\"data row0 col1\" >0.981</td>\n",
       "                        <td id=\"T_5941d242_0b22_11ea_9a7a_80000208fe80row0_col2\" class=\"data row0 col2\" >1</td>\n",
       "                        <td id=\"T_5941d242_0b22_11ea_9a7a_80000208fe80row0_col3\" class=\"data row0 col3\" >0.141</td>\n",
       "                        <td id=\"T_5941d242_0b22_11ea_9a7a_80000208fe80row0_col4\" class=\"data row0 col4\" >0.001</td>\n",
       "                        <td id=\"T_5941d242_0b22_11ea_9a7a_80000208fe80row0_col5\" class=\"data row0 col5\" >1826.92</td>\n",
       "            </tr>\n",
       "            <tr>\n",
       "                                <td id=\"T_5941d242_0b22_11ea_9a7a_80000208fe80row1_col0\" class=\"data row1 col0\" >3.2</td>\n",
       "                        <td id=\"T_5941d242_0b22_11ea_9a7a_80000208fe80row1_col1\" class=\"data row1 col1\" >0.957</td>\n",
       "                        <td id=\"T_5941d242_0b22_11ea_9a7a_80000208fe80row1_col2\" class=\"data row1 col2\" >1</td>\n",
       "                        <td id=\"T_5941d242_0b22_11ea_9a7a_80000208fe80row1_col3\" class=\"data row1 col3\" >0.106</td>\n",
       "                        <td id=\"T_5941d242_0b22_11ea_9a7a_80000208fe80row1_col4\" class=\"data row1 col4\" >0.001</td>\n",
       "                        <td id=\"T_5941d242_0b22_11ea_9a7a_80000208fe80row1_col5\" class=\"data row1 col5\" >1849.23</td>\n",
       "            </tr>\n",
       "            <tr>\n",
       "                                <td id=\"T_5941d242_0b22_11ea_9a7a_80000208fe80row2_col0\" class=\"data row2 col0\" >6.4</td>\n",
       "                        <td id=\"T_5941d242_0b22_11ea_9a7a_80000208fe80row2_col1\" class=\"data row2 col1\" >0.875</td>\n",
       "                        <td id=\"T_5941d242_0b22_11ea_9a7a_80000208fe80row2_col2\" class=\"data row2 col2\" >1</td>\n",
       "                        <td id=\"T_5941d242_0b22_11ea_9a7a_80000208fe80row2_col3\" class=\"data row2 col3\" >0.115</td>\n",
       "                        <td id=\"T_5941d242_0b22_11ea_9a7a_80000208fe80row2_col4\" class=\"data row2 col4\" >0.002</td>\n",
       "                        <td id=\"T_5941d242_0b22_11ea_9a7a_80000208fe80row2_col5\" class=\"data row2 col5\" >1881.41</td>\n",
       "            </tr>\n",
       "            <tr>\n",
       "                                <td id=\"T_5941d242_0b22_11ea_9a7a_80000208fe80row3_col0\" class=\"data row3 col0\" >9.6</td>\n",
       "                        <td id=\"T_5941d242_0b22_11ea_9a7a_80000208fe80row3_col1\" class=\"data row3 col1\" >0.677</td>\n",
       "                        <td id=\"T_5941d242_0b22_11ea_9a7a_80000208fe80row3_col2\" class=\"data row3 col2\" >1</td>\n",
       "                        <td id=\"T_5941d242_0b22_11ea_9a7a_80000208fe80row3_col3\" class=\"data row3 col3\" >0.105</td>\n",
       "                        <td id=\"T_5941d242_0b22_11ea_9a7a_80000208fe80row3_col4\" class=\"data row3 col4\" >0.001</td>\n",
       "                        <td id=\"T_5941d242_0b22_11ea_9a7a_80000208fe80row3_col5\" class=\"data row3 col5\" >1891.22</td>\n",
       "            </tr>\n",
       "            <tr>\n",
       "                                <td id=\"T_5941d242_0b22_11ea_9a7a_80000208fe80row4_col0\" class=\"data row4 col0\" >12.8</td>\n",
       "                        <td id=\"T_5941d242_0b22_11ea_9a7a_80000208fe80row4_col1\" class=\"data row4 col1\" >0.521</td>\n",
       "                        <td id=\"T_5941d242_0b22_11ea_9a7a_80000208fe80row4_col2\" class=\"data row4 col2\" >1</td>\n",
       "                        <td id=\"T_5941d242_0b22_11ea_9a7a_80000208fe80row4_col3\" class=\"data row4 col3\" >0.1</td>\n",
       "                        <td id=\"T_5941d242_0b22_11ea_9a7a_80000208fe80row4_col4\" class=\"data row4 col4\" >0.001</td>\n",
       "                        <td id=\"T_5941d242_0b22_11ea_9a7a_80000208fe80row4_col5\" class=\"data row4 col5\" >1827.1</td>\n",
       "            </tr>\n",
       "            <tr>\n",
       "                                <td id=\"T_5941d242_0b22_11ea_9a7a_80000208fe80row5_col0\" class=\"data row5 col0\" >16</td>\n",
       "                        <td id=\"T_5941d242_0b22_11ea_9a7a_80000208fe80row5_col1\" class=\"data row5 col1\" >0.374</td>\n",
       "                        <td id=\"T_5941d242_0b22_11ea_9a7a_80000208fe80row5_col2\" class=\"data row5 col2\" >1</td>\n",
       "                        <td id=\"T_5941d242_0b22_11ea_9a7a_80000208fe80row5_col3\" class=\"data row5 col3\" >0.1</td>\n",
       "                        <td id=\"T_5941d242_0b22_11ea_9a7a_80000208fe80row5_col4\" class=\"data row5 col4\" >0.001</td>\n",
       "                        <td id=\"T_5941d242_0b22_11ea_9a7a_80000208fe80row5_col5\" class=\"data row5 col5\" >1838.46</td>\n",
       "            </tr>\n",
       "    </tbody></table>"
      ],
      "text/plain": [
       "<pandas.io.formats.style.Styler at 0x2b01dc6aab00>"
      ]
     },
     "metadata": {},
     "output_type": "display_data"
    },
    {
     "data": {
      "text/html": [
       "<style  type=\"text/css\" >\n",
       "</style><table id=\"T_59431058_0b22_11ea_9a7a_80000208fe80\" ><thead>    <tr>        <th class=\"col_heading level0 col0\" >std</th>        <th class=\"col_heading level0 col1\" >pipe_0</th>        <th class=\"col_heading level0 col2\" >pipe_1</th>        <th class=\"col_heading level0 col3\" >pipe_2</th>    </tr></thead><tbody>\n",
       "                <tr>\n",
       "                                <td id=\"T_59431058_0b22_11ea_9a7a_80000208fe80row0_col0\" class=\"data row0 col0\" >0</td>\n",
       "                        <td id=\"T_59431058_0b22_11ea_9a7a_80000208fe80row0_col1\" class=\"data row0 col1\" >ZeroCount()</td>\n",
       "                        <td id=\"T_59431058_0b22_11ea_9a7a_80000208fe80row0_col2\" class=\"data row0 col2\" >StackingEstimator(estimator=ExtraTreesClassifier(bootstrap=False,\n",
       "                                                 class_weight=None,\n",
       "                                                 criterion='entropy',\n",
       "                                                 max_depth=None,\n",
       "                                                 max_features=0.45,\n",
       "                                                 max_leaf_nodes=None,\n",
       "                                                 min_impurity_decrease=0.0,\n",
       "                                                 min_impurity_split=None,\n",
       "                                                 min_samples_leaf=9,\n",
       "                                                 min_samples_split=5,\n",
       "                                                 min_weight_fraction_leaf=0.0,\n",
       "                                                 n_estimators=100, n_jobs=None,\n",
       "                                                 oob_score=False,\n",
       "                                                 random_state=42, verbose=0,\n",
       "                                                 warm_start=False))</td>\n",
       "                        <td id=\"T_59431058_0b22_11ea_9a7a_80000208fe80row0_col3\" class=\"data row0 col3\" >KNeighborsClassifier(algorithm='auto', leaf_size=30, metric='minkowski',\n",
       "                     metric_params=None, n_jobs=None, n_neighbors=4, p=2,\n",
       "                     weights='distance')</td>\n",
       "            </tr>\n",
       "            <tr>\n",
       "                                <td id=\"T_59431058_0b22_11ea_9a7a_80000208fe80row1_col0\" class=\"data row1 col0\" >3.2</td>\n",
       "                        <td id=\"T_59431058_0b22_11ea_9a7a_80000208fe80row1_col1\" class=\"data row1 col1\" >ZeroCount()</td>\n",
       "                        <td id=\"T_59431058_0b22_11ea_9a7a_80000208fe80row1_col2\" class=\"data row1 col2\" >StackingEstimator(estimator=ExtraTreesClassifier(bootstrap=False,\n",
       "                                                 class_weight=None,\n",
       "                                                 criterion='entropy',\n",
       "                                                 max_depth=None,\n",
       "                                                 max_features=0.45,\n",
       "                                                 max_leaf_nodes=None,\n",
       "                                                 min_impurity_decrease=0.0,\n",
       "                                                 min_impurity_split=None,\n",
       "                                                 min_samples_leaf=9,\n",
       "                                                 min_samples_split=5,\n",
       "                                                 min_weight_fraction_leaf=0.0,\n",
       "                                                 n_estimators=100, n_jobs=None,\n",
       "                                                 oob_score=False,\n",
       "                                                 random_state=42, verbose=0,\n",
       "                                                 warm_start=False))</td>\n",
       "                        <td id=\"T_59431058_0b22_11ea_9a7a_80000208fe80row1_col3\" class=\"data row1 col3\" >KNeighborsClassifier(algorithm='auto', leaf_size=30, metric='minkowski',\n",
       "                     metric_params=None, n_jobs=None, n_neighbors=4, p=2,\n",
       "                     weights='distance')</td>\n",
       "            </tr>\n",
       "            <tr>\n",
       "                                <td id=\"T_59431058_0b22_11ea_9a7a_80000208fe80row2_col0\" class=\"data row2 col0\" >6.4</td>\n",
       "                        <td id=\"T_59431058_0b22_11ea_9a7a_80000208fe80row2_col1\" class=\"data row2 col1\" >ZeroCount()</td>\n",
       "                        <td id=\"T_59431058_0b22_11ea_9a7a_80000208fe80row2_col2\" class=\"data row2 col2\" >StackingEstimator(estimator=ExtraTreesClassifier(bootstrap=False,\n",
       "                                                 class_weight=None,\n",
       "                                                 criterion='entropy',\n",
       "                                                 max_depth=None,\n",
       "                                                 max_features=0.45,\n",
       "                                                 max_leaf_nodes=None,\n",
       "                                                 min_impurity_decrease=0.0,\n",
       "                                                 min_impurity_split=None,\n",
       "                                                 min_samples_leaf=9,\n",
       "                                                 min_samples_split=5,\n",
       "                                                 min_weight_fraction_leaf=0.0,\n",
       "                                                 n_estimators=100, n_jobs=None,\n",
       "                                                 oob_score=False,\n",
       "                                                 random_state=42, verbose=0,\n",
       "                                                 warm_start=False))</td>\n",
       "                        <td id=\"T_59431058_0b22_11ea_9a7a_80000208fe80row2_col3\" class=\"data row2 col3\" >KNeighborsClassifier(algorithm='auto', leaf_size=30, metric='minkowski',\n",
       "                     metric_params=None, n_jobs=None, n_neighbors=4, p=2,\n",
       "                     weights='distance')</td>\n",
       "            </tr>\n",
       "            <tr>\n",
       "                                <td id=\"T_59431058_0b22_11ea_9a7a_80000208fe80row3_col0\" class=\"data row3 col0\" >9.6</td>\n",
       "                        <td id=\"T_59431058_0b22_11ea_9a7a_80000208fe80row3_col1\" class=\"data row3 col1\" >ZeroCount()</td>\n",
       "                        <td id=\"T_59431058_0b22_11ea_9a7a_80000208fe80row3_col2\" class=\"data row3 col2\" >StackingEstimator(estimator=ExtraTreesClassifier(bootstrap=False,\n",
       "                                                 class_weight=None,\n",
       "                                                 criterion='entropy',\n",
       "                                                 max_depth=None,\n",
       "                                                 max_features=0.45,\n",
       "                                                 max_leaf_nodes=None,\n",
       "                                                 min_impurity_decrease=0.0,\n",
       "                                                 min_impurity_split=None,\n",
       "                                                 min_samples_leaf=9,\n",
       "                                                 min_samples_split=5,\n",
       "                                                 min_weight_fraction_leaf=0.0,\n",
       "                                                 n_estimators=100, n_jobs=None,\n",
       "                                                 oob_score=False,\n",
       "                                                 random_state=42, verbose=0,\n",
       "                                                 warm_start=False))</td>\n",
       "                        <td id=\"T_59431058_0b22_11ea_9a7a_80000208fe80row3_col3\" class=\"data row3 col3\" >KNeighborsClassifier(algorithm='auto', leaf_size=30, metric='minkowski',\n",
       "                     metric_params=None, n_jobs=None, n_neighbors=4, p=2,\n",
       "                     weights='distance')</td>\n",
       "            </tr>\n",
       "            <tr>\n",
       "                                <td id=\"T_59431058_0b22_11ea_9a7a_80000208fe80row4_col0\" class=\"data row4 col0\" >12.8</td>\n",
       "                        <td id=\"T_59431058_0b22_11ea_9a7a_80000208fe80row4_col1\" class=\"data row4 col1\" >ZeroCount()</td>\n",
       "                        <td id=\"T_59431058_0b22_11ea_9a7a_80000208fe80row4_col2\" class=\"data row4 col2\" >StackingEstimator(estimator=ExtraTreesClassifier(bootstrap=False,\n",
       "                                                 class_weight=None,\n",
       "                                                 criterion='entropy',\n",
       "                                                 max_depth=None,\n",
       "                                                 max_features=0.45,\n",
       "                                                 max_leaf_nodes=None,\n",
       "                                                 min_impurity_decrease=0.0,\n",
       "                                                 min_impurity_split=None,\n",
       "                                                 min_samples_leaf=9,\n",
       "                                                 min_samples_split=5,\n",
       "                                                 min_weight_fraction_leaf=0.0,\n",
       "                                                 n_estimators=100, n_jobs=None,\n",
       "                                                 oob_score=False,\n",
       "                                                 random_state=42, verbose=0,\n",
       "                                                 warm_start=False))</td>\n",
       "                        <td id=\"T_59431058_0b22_11ea_9a7a_80000208fe80row4_col3\" class=\"data row4 col3\" >KNeighborsClassifier(algorithm='auto', leaf_size=30, metric='minkowski',\n",
       "                     metric_params=None, n_jobs=None, n_neighbors=4, p=2,\n",
       "                     weights='distance')</td>\n",
       "            </tr>\n",
       "            <tr>\n",
       "                                <td id=\"T_59431058_0b22_11ea_9a7a_80000208fe80row5_col0\" class=\"data row5 col0\" >16</td>\n",
       "                        <td id=\"T_59431058_0b22_11ea_9a7a_80000208fe80row5_col1\" class=\"data row5 col1\" >ZeroCount()</td>\n",
       "                        <td id=\"T_59431058_0b22_11ea_9a7a_80000208fe80row5_col2\" class=\"data row5 col2\" >StackingEstimator(estimator=ExtraTreesClassifier(bootstrap=False,\n",
       "                                                 class_weight=None,\n",
       "                                                 criterion='entropy',\n",
       "                                                 max_depth=None,\n",
       "                                                 max_features=0.45,\n",
       "                                                 max_leaf_nodes=None,\n",
       "                                                 min_impurity_decrease=0.0,\n",
       "                                                 min_impurity_split=None,\n",
       "                                                 min_samples_leaf=9,\n",
       "                                                 min_samples_split=5,\n",
       "                                                 min_weight_fraction_leaf=0.0,\n",
       "                                                 n_estimators=100, n_jobs=None,\n",
       "                                                 oob_score=False,\n",
       "                                                 random_state=42, verbose=0,\n",
       "                                                 warm_start=False))</td>\n",
       "                        <td id=\"T_59431058_0b22_11ea_9a7a_80000208fe80row5_col3\" class=\"data row5 col3\" >KNeighborsClassifier(algorithm='auto', leaf_size=30, metric='minkowski',\n",
       "                     metric_params=None, n_jobs=None, n_neighbors=4, p=2,\n",
       "                     weights='distance')</td>\n",
       "            </tr>\n",
       "    </tbody></table>"
      ],
      "text/plain": [
       "<pandas.io.formats.style.Styler at 0x2b01dc6aa5c0>"
      ]
     },
     "metadata": {},
     "output_type": "display_data"
    },
    {
     "data": {
      "image/png": "[encoded data removed]",
      "text/plain": [
       "<Figure size 720x288 with 2 Axes>"
      ]
     },
     "metadata": {
      "needs_background": "light"
     },
     "output_type": "display_data"
    }
   ],
   "source": [
    "print_results_by_model(df,\n",
    "    # [\"train_labels\", \"test_labels\"],\n",
    "    [\"mean\", \"min_val\", \"max_val\", \"train_labels\", \"test_labels\"], \n",
    "    # err_param_name=\"max_angle\",\n",
    "    err_param_name=\"std\",\n",
    "    pipeline_name=\"best_pipeline\"\n",
    ")\n",
    "visualize(df)"
   ]
  },
  {
   "cell_type": "markdown",
   "metadata": {
    "collapsed": false,
    "papermill": {
     "duration": 0.231524,
     "end_time": "2019-11-19T23:14:35.899032",
     "exception": false,
     "start_time": "2019-11-19T23:14:35.667508",
     "status": "completed"
    },
    "pycharm": {
     "name": "#%% md\n"
    },
    "tags": []
   },
   "source": []
  }
 ],
 "metadata": {
  "kernelspec": {
   "display_name": "Python 3",
   "language": "python",
   "name": "python3"
  },
  "language_info": {
   "codemirror_mode": {
    "name": "ipython",
    "version": 3
   },
   "file_extension": ".py",
   "mimetype": "text/x-python",
   "name": "python",
   "nbconvert_exporter": "python",
   "pygments_lexer": "ipython3",
   "version": "3.6.6"
  },
  "papermill": {
   "duration": 65586.624695,
   "end_time": "2019-11-19T23:14:37.540060",
   "environment_variables": {},
   "exception": null,
   "input_path": "docs/case_studies/test16.ipynb",
   "output_path": "docs/case_studies/test16.ipynb",
   "parameters": {},
   "start_time": "2019-11-19T05:01:30.915365",
   "version": "1.2.0"
  },
  "pycharm": {
   "stem_cell": {
    "cell_type": "raw",
    "metadata": {
     "collapsed": false
    },
    "source": []
   }
  },
  "widgets": {
   "application/vnd.jupyter.widget-state+json": {
    "state": {},
    "version_major": 2,
    "version_minor": 0
   }
  }
 },
 "nbformat": 4,
 "nbformat_minor": 0
}