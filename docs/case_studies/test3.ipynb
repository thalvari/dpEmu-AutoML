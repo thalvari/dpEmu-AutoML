{
 "cells": [
  {
   "cell_type": "markdown",
   "metadata": {
    "collapsed": false,
    "papermill": {
     "duration": 0.04063,
     "end_time": "2019-10-21T13:08:31.727736",
     "exception": false,
     "start_time": "2019-10-21T13:08:31.687106",
     "status": "completed"
    },
    "tags": []
   },
   "source": [
    "# AutoML Image Classification: With Rotation (Digits)"
   ]
  },
  {
   "cell_type": "markdown",
   "metadata": {
    "collapsed": false,
    "papermill": {
     "duration": 0.027562,
     "end_time": "2019-10-21T13:08:31.785737",
     "exception": false,
     "start_time": "2019-10-21T13:08:31.758175",
     "status": "completed"
    },
    "tags": []
   },
   "source": [
    "![](imgs/rotation.png)"
   ]
  },
  {
   "cell_type": "code",
   "execution_count": 1,
   "metadata": {
    "collapsed": false,
    "papermill": {
     "duration": 4.978524,
     "end_time": "2019-10-21T13:08:36.787924",
     "exception": false,
     "start_time": "2019-10-21T13:08:31.809400",
     "status": "completed"
    },
    "pycharm": {
     "is_executing": false,
     "name": "#%%\n"
    },
    "tags": []
   },
   "outputs": [
    {
     "name": "stdout",
     "output_type": "stream",
     "text": [
      "Better speed can be achieved with apex installed from https://www.github.com/nvidia/apex.\n"
     ]
    }
   ],
   "source": [
    "import random as rn\n",
    "from abc import ABC, abstractmethod\n",
    "\n",
    "import autokeras as ak\n",
    "import h2o\n",
    "import matplotlib.pyplot as plt\n",
    "import numpy as np\n",
    "import tensorflow as tf\n",
    "import torch\n",
    "from h2o.automl import H2OAutoML\n",
    "from keras.datasets import fashion_mnist\n",
    "from numpy.random import RandomState\n",
    "from sklearn.metrics import accuracy_score\n",
    "from sklearn.model_selection import train_test_split\n",
    "from tpot import TPOTClassifier\n",
    "\n",
    "from dpemu import runner\n",
    "from dpemu.filters.image import RotationPIL\n",
    "from dpemu.nodes import Array\n",
    "from dpemu.nodes.series import Series\n",
    "from dpemu.plotting_utils import visualize_scores, print_results_by_model\n",
    "from dpemu.utils import generate_tmpdir"
   ]
  },
  {
   "cell_type": "markdown",
   "metadata": {
    "collapsed": false,
    "papermill": {
     "duration": 0.029337,
     "end_time": "2019-10-21T13:08:36.851060",
     "exception": false,
     "start_time": "2019-10-21T13:08:36.821723",
     "status": "completed"
    },
    "tags": []
   },
   "source": []
  },
  {
   "cell_type": "code",
   "execution_count": 2,
   "metadata": {
    "collapsed": false,
    "papermill": {
     "duration": 0.038611,
     "end_time": "2019-10-21T13:08:36.916847",
     "exception": false,
     "start_time": "2019-10-21T13:08:36.878236",
     "status": "completed"
    },
    "pycharm": {
     "is_executing": false,
     "name": "#%%\n"
    },
    "tags": []
   },
   "outputs": [],
   "source": [
    "def get_data():\n",
    "    (x_train, y_train), (x_test, y_test) = fashion_mnist.load_data()\n",
    "    s = x_train.shape[1]\n",
    "    x_train = x_train.reshape((len(x_train), s**2))\n",
    "    x_test = x_test.reshape((len(x_test), s**2))\n",
    "    return x_train, x_test, y_train, y_test"
   ]
  },
  {
   "cell_type": "markdown",
   "metadata": {
    "collapsed": false,
    "papermill": {
     "duration": 0.022038,
     "end_time": "2019-10-21T13:08:36.962755",
     "exception": false,
     "start_time": "2019-10-21T13:08:36.940717",
     "status": "completed"
    },
    "tags": []
   },
   "source": []
  },
  {
   "cell_type": "code",
   "execution_count": 3,
   "metadata": {
    "collapsed": false,
    "papermill": {
     "duration": 0.031971,
     "end_time": "2019-10-21T13:08:37.015847",
     "exception": false,
     "start_time": "2019-10-21T13:08:36.983876",
     "status": "completed"
    },
    "pycharm": {
     "is_executing": false,
     "name": "#%%\n"
    },
    "tags": []
   },
   "outputs": [],
   "source": [
    "def get_err_root_node():\n",
    "    err_img_node = Array(reshape=(28, 28))\n",
    "    err_root_node = Series(err_img_node)\n",
    "    err_img_node.addfilter(RotationPIL(\"max_angle\"))\n",
    "    return err_root_node"
   ]
  },
  {
   "cell_type": "markdown",
   "metadata": {
    "collapsed": false,
    "papermill": {
     "duration": 0.019784,
     "end_time": "2019-10-21T13:08:37.055655",
     "exception": false,
     "start_time": "2019-10-21T13:08:37.035871",
     "status": "completed"
    },
    "tags": []
   },
   "source": []
  },
  {
   "cell_type": "code",
   "execution_count": 4,
   "metadata": {
    "collapsed": false,
    "papermill": {
     "duration": 0.032213,
     "end_time": "2019-10-21T13:08:37.107715",
     "exception": false,
     "start_time": "2019-10-21T13:08:37.075502",
     "status": "completed"
    },
    "pycharm": {
     "is_executing": false,
     "name": "#%%\n"
    },
    "tags": []
   },
   "outputs": [],
   "source": [
    "def get_err_params_list():\n",
    "    angle_steps = np.linspace(0, 84, num=8)\n",
    "    err_params_list = [{\"max_angle\": a} for a in angle_steps]\n",
    "    return err_params_list"
   ]
  },
  {
   "cell_type": "markdown",
   "metadata": {
    "collapsed": false,
    "papermill": {
     "duration": 0.020961,
     "end_time": "2019-10-21T13:08:37.148609",
     "exception": false,
     "start_time": "2019-10-21T13:08:37.127648",
     "status": "completed"
    },
    "tags": []
   },
   "source": []
  },
  {
   "cell_type": "code",
   "execution_count": 5,
   "metadata": {
    "collapsed": false,
    "papermill": {
     "duration": 0.032061,
     "end_time": "2019-10-21T13:08:37.201120",
     "exception": false,
     "start_time": "2019-10-21T13:08:37.169059",
     "status": "completed"
    },
    "pycharm": {
     "is_executing": false,
     "name": "#%%\n"
    },
    "tags": []
   },
   "outputs": [],
   "source": [
    "class Preprocessor:\n",
    "\n",
    "    def run(self, train_data, test_data, params):\n",
    "        return train_data, test_data, {}"
   ]
  },
  {
   "cell_type": "markdown",
   "metadata": {
    "collapsed": false,
    "papermill": {
     "duration": 0.020404,
     "end_time": "2019-10-21T13:08:37.241616",
     "exception": false,
     "start_time": "2019-10-21T13:08:37.221212",
     "status": "completed"
    },
    "tags": []
   },
   "source": []
  },
  {
   "cell_type": "code",
   "execution_count": 6,
   "metadata": {
    "collapsed": false,
    "papermill": {
     "duration": 0.083345,
     "end_time": "2019-10-21T13:08:37.345490",
     "exception": false,
     "start_time": "2019-10-21T13:08:37.262145",
     "status": "completed"
    },
    "pycharm": {
     "is_executing": false,
     "name": "#%%\n"
    },
    "tags": []
   },
   "outputs": [],
   "source": [
    "class AbstractModel(ABC):\n",
    "\n",
    "    def __init__(self):\n",
    "        self.time_limit_mins = 60\n",
    "        self.seed = 42\n",
    "        self.random_state = RandomState(self.seed)\n",
    "        np.random.seed(self.seed)\n",
    "        tf.set_random_seed(self.seed)\n",
    "        torch.manual_seed(self.seed)\n",
    "\n",
    "\n",
    "    @abstractmethod\n",
    "    def get_fitted_model(self, train_data, train_labels, params):\n",
    "        pass\n",
    "\n",
    "    @abstractmethod\n",
    "    def get_accuracy(self, data, labels, fitted_model, params):\n",
    "        pass\n",
    "\n",
    "    @abstractmethod\n",
    "    def get_best_pipeline(self, fitted_model):\n",
    "        pass\n",
    "\n",
    "    def run(self, train_data, test_data, params):\n",
    "        train_labels = params[\"train_labels\"]\n",
    "        test_labels = params[\"test_labels\"]\n",
    "\n",
    "        fitted_model = self.get_fitted_model(train_data, train_labels, params)\n",
    "\n",
    "        return {\n",
    "            \"test_acc\": self.get_accuracy(test_data, test_labels, fitted_model, params),\n",
    "            \"train_acc\": self.get_accuracy(train_data, train_labels, fitted_model, params),\n",
    "            \"best_pipeline\": self.get_best_pipeline(fitted_model),\n",
    "        }\n",
    "\n",
    "class TPOTClassifierModel(AbstractModel):\n",
    "\n",
    "    def __init__(self):\n",
    "        super().__init__()\n",
    "\n",
    "    def get_fitted_model(self, train_data, train_labels, params):\n",
    "        return TPOTClassifier(\n",
    "            max_time_mins=self.time_limit_mins,\n",
    "            n_jobs=4,\n",
    "            random_state=self.seed,\n",
    "            verbosity=1,\n",
    "        ).fit(train_data, train_labels)\n",
    "    \n",
    "    def get_accuracy(self, data, labels, fitted_model, params):\n",
    "        return round(fitted_model.score(data, labels), 3)\n",
    "\n",
    "    def get_best_pipeline(self, fitted_model):\n",
    "        return [step[1] for step in fitted_model.fitted_pipeline_.steps]\n",
    "\n",
    "class H2OAutoMLModel(AbstractModel):\n",
    "\n",
    "    def __init__(self):\n",
    "        super().__init__()\n",
    "        h2o.init(name=f\"#{rn.SystemRandom().randint(1, 2**30)}\")\n",
    "        h2o.no_progress()\n",
    "\n",
    "    def get_fitted_model(self, train_data, train_labels, params):\n",
    "        train_data = h2o.H2OFrame(np.concatenate((train_data, train_labels.reshape(-1, 1)), axis=1))\n",
    "        x = np.array(train_data.columns)[:-1].tolist()\n",
    "        y = np.array(train_data.columns)[-1].tolist()\n",
    "        train_data[y] = train_data[y].asfactor()\n",
    "        aml = H2OAutoML(max_runtime_secs=60*self.time_limit_mins, seed=self.seed)\n",
    "        aml.train(x=x, y=y, training_frame=train_data)\n",
    "        return aml\n",
    "\n",
    "    def get_accuracy(self, data, labels, fitted_model, params):\n",
    "        data = h2o.H2OFrame(np.concatenate((data, labels.reshape(-1, 1)), axis=1))\n",
    "        y = np.array(data.columns)[-1].tolist()\n",
    "        data[y] = data[y].asfactor()\n",
    "        pred = fitted_model.predict(data).as_data_frame(header=False)[\"predict\"].values.astype(int)\n",
    "        return np.round(np.mean(pred == labels), 3)\n",
    "\n",
    "    def get_best_pipeline(self, fitted_model):\n",
    "        leader_params = fitted_model.leader.get_params()\n",
    "        best_pipeline = [leader_params[\"model_id\"][\"actual_value\"][\"name\"]]\n",
    "        if \"base_models\" in leader_params:\n",
    "            for base_model in leader_params[\"base_models\"][\"actual_value\"]:\n",
    "                best_pipeline.append(base_model[\"name\"])\n",
    "        h2o.cluster().shutdown()\n",
    "        return best_pipeline\n",
    "\n",
    "class AutoKerasModel(AbstractModel):\n",
    "\n",
    "    def __init__(self):\n",
    "        super().__init__()\n",
    "\n",
    "    def get_fitted_model(self, x_train, y_train, params):\n",
    "        s = np.sqrt(x_train.shape[1]).astype(int)\n",
    "        x_train = x_train.reshape((len(x_train), s, s)).astype(np.uint8)\n",
    "        x_train = x_train.reshape(x_train.shape + (1,))\n",
    "        y_train = y_train.astype(np.uint8)\n",
    "        clf = ak.ImageClassifier(augment=False, path=generate_tmpdir(), verbose=False)\n",
    "        clf.fit(x_train, y_train, time_limit=60*self.time_limit_mins)\n",
    "        return clf\n",
    "\n",
    "    def get_accuracy(self, x, y, clf, params):\n",
    "        s = np.sqrt(x.shape[1]).astype(int)\n",
    "        x = x.reshape((len(x), s, s)).astype(np.uint8)\n",
    "        x = x.reshape(x.shape + (1,))\n",
    "        y = y.astype(np.uint8)\n",
    "        y_pred = clf.predict(x)\n",
    "        return np.round(accuracy_score(y_true=y, y_pred=y_pred), 3)\n",
    "\n",
    "    def get_best_pipeline(self, clf):\n",
    "        return [m for i, m in enumerate(clf.cnn.best_model.produce_model().modules()) if i > 0]"
   ]
  },
  {
   "cell_type": "markdown",
   "metadata": {
    "collapsed": false,
    "papermill": {
     "duration": 0.030524,
     "end_time": "2019-10-21T13:08:37.411478",
     "exception": false,
     "start_time": "2019-10-21T13:08:37.380954",
     "status": "completed"
    },
    "tags": []
   },
   "source": []
  },
  {
   "cell_type": "code",
   "execution_count": 7,
   "metadata": {
    "collapsed": false,
    "papermill": {
     "duration": 0.041217,
     "end_time": "2019-10-21T13:08:37.479341",
     "exception": false,
     "start_time": "2019-10-21T13:08:37.438124",
     "status": "completed"
    },
    "pycharm": {
     "is_executing": false,
     "name": "#%%\n"
    },
    "tags": []
   },
   "outputs": [],
   "source": [
    "def get_model_params_dict_list(train_labels, test_labels):\n",
    "    model_params_base = {\"train_labels\": train_labels, \"test_labels\": test_labels}\n",
    "    return [\n",
    "        {\n",
    "            \"model\": TPOTClassifierModel,\n",
    "            \"params_list\": [{**model_params_base}],\n",
    "            \"use_clean_train_data\": False\n",
    "        },\n",
    "        {\n",
    "            \"model\": TPOTClassifierModel,\n",
    "            \"params_list\": [{**model_params_base}],\n",
    "            \"use_clean_train_data\": True\n",
    "        },\n",
    "        {\n",
    "            \"model\": H2OAutoMLModel,\n",
    "            \"params_list\": [{**model_params_base}],\n",
    "            \"use_clean_train_data\": False\n",
    "        },\n",
    "        {\n",
    "            \"model\": H2OAutoMLModel,\n",
    "            \"params_list\": [{**model_params_base}],\n",
    "            \"use_clean_train_data\": True\n",
    "        },\n",
    "        {\n",
    "            \"model\": AutoKerasModel,\n",
    "            \"params_list\": [{**model_params_base}],\n",
    "            \"use_clean_train_data\": False\n",
    "        },\n",
    "        {\n",
    "            \"model\": AutoKerasModel,\n",
    "            \"params_list\": [{**model_params_base}],\n",
    "            \"use_clean_train_data\": True\n",
    "        },\n",
    "    ]"
   ]
  },
  {
   "cell_type": "markdown",
   "metadata": {
    "collapsed": false,
    "papermill": {
     "duration": 0.022267,
     "end_time": "2019-10-21T13:08:37.526000",
     "exception": false,
     "start_time": "2019-10-21T13:08:37.503733",
     "status": "completed"
    },
    "tags": []
   },
   "source": []
  },
  {
   "cell_type": "code",
   "execution_count": 8,
   "metadata": {
    "collapsed": false,
    "papermill": {
     "duration": 0.032782,
     "end_time": "2019-10-21T13:08:37.579858",
     "exception": false,
     "start_time": "2019-10-21T13:08:37.547076",
     "status": "completed"
    },
    "pycharm": {
     "is_executing": false,
     "name": "#%%\n"
    },
    "tags": []
   },
   "outputs": [],
   "source": [
    "def visualize(df):\n",
    "    visualize_scores(\n",
    "        df,\n",
    "        score_names=[\"test_acc\", \"train_acc\"],\n",
    "        is_higher_score_better=[True, True],\n",
    "        err_param_name=\"max_angle\",\n",
    "        title=\"Classification scores with added error\"\n",
    "    )\n",
    "    plt.show()"
   ]
  },
  {
   "cell_type": "markdown",
   "metadata": {
    "collapsed": false,
    "papermill": {
     "duration": 0.019983,
     "end_time": "2019-10-21T13:08:37.620066",
     "exception": false,
     "start_time": "2019-10-21T13:08:37.600083",
     "status": "completed"
    },
    "tags": []
   },
   "source": []
  },
  {
   "cell_type": "code",
   "execution_count": 9,
   "metadata": {
    "collapsed": false,
    "papermill": {
     "duration": 2946.183826,
     "end_time": "2019-10-21T13:57:43.825590",
     "exception": false,
     "start_time": "2019-10-21T13:08:37.641764",
     "status": "completed"
    },
    "pycharm": {
     "is_executing": false,
     "name": "#%%\n"
    },
    "tags": []
   },
   "outputs": [
    {
     "name": "stderr",
     "output_type": "stream",
     "text": [
      "\r",
      "  0%|          | 0/8 [00:00<?, ?it/s]"
     ]
    },
    {
     "name": "stderr",
     "output_type": "stream",
     "text": [
      "/wrk/users/thalvari/dpEmu/venv/lib/python3.6/site-packages/sklearn/preprocessing/_function_transformer.py:98: FutureWarning: The default validate=True will be replaced by validate=False in 0.22.\n",
      "  \"validate=False in 0.22.\", FutureWarning)\n"
     ]
    },
    {
     "name": "stderr",
     "output_type": "stream",
     "text": [
      "/wrk/users/thalvari/dpEmu/venv/lib/python3.6/site-packages/sklearn/preprocessing/_function_transformer.py:98: FutureWarning: The default validate=True will be replaced by validate=False in 0.22.\n",
      "  \"validate=False in 0.22.\", FutureWarning)\n"
     ]
    },
    {
     "name": "stderr",
     "output_type": "stream",
     "text": [
      "/wrk/users/thalvari/dpEmu/venv/lib/python3.6/site-packages/sklearn/preprocessing/_function_transformer.py:98: FutureWarning: The default validate=True will be replaced by validate=False in 0.22.\n",
      "  \"validate=False in 0.22.\", FutureWarning)\n"
     ]
    },
    {
     "name": "stderr",
     "output_type": "stream",
     "text": [
      "/wrk/users/thalvari/dpEmu/venv/lib/python3.6/site-packages/sklearn/preprocessing/_function_transformer.py:98: FutureWarning: The default validate=True will be replaced by validate=False in 0.22.\n",
      "  \"validate=False in 0.22.\", FutureWarning)\n"
     ]
    },
    {
     "name": "stderr",
     "output_type": "stream",
     "text": [
      "\r",
      " 12%|█▎        | 1/8 [36:16<4:13:58, 2176.94s/it]"
     ]
    },
    {
     "name": "stderr",
     "output_type": "stream",
     "text": [
      "\r",
      " 38%|███▊      | 3/8 [47:52<2:15:41, 1628.25s/it]"
     ]
    },
    {
     "name": "stderr",
     "output_type": "stream",
     "text": [
      "\r",
      " 50%|█████     | 4/8 [49:03<1:17:23, 1160.88s/it]"
     ]
    },
    {
     "name": "stderr",
     "output_type": "stream",
     "text": [
      "\r",
      "100%|██████████| 8/8 [49:03<00:00, 367.90s/it]   "
     ]
    },
    {
     "name": "stderr",
     "output_type": "stream",
     "text": [
      "\n"
     ]
    }
   ],
   "source": [
    "train_data, test_data, train_labels, test_labels = get_data()\n",
    "\n",
    "df = runner.run(\n",
    "    train_data=train_data,\n",
    "    test_data=test_data,\n",
    "    preproc=Preprocessor,\n",
    "    preproc_params=None,\n",
    "    err_root_node=get_err_root_node(),\n",
    "    err_params_list=get_err_params_list(),\n",
    "    model_params_dict_list=get_model_params_dict_list(train_labels, test_labels),\n",
    ")"
   ]
  },
  {
   "cell_type": "code",
   "execution_count": 10,
   "metadata": {
    "collapsed": false,
    "papermill": {
     "duration": 1.188938,
     "end_time": "2019-10-21T13:57:45.059147",
     "exception": false,
     "start_time": "2019-10-21T13:57:43.870209",
     "status": "completed"
    },
    "pycharm": {
     "is_executing": false,
     "name": "#%%\n"
    },
    "tags": []
   },
   "outputs": [
    {
     "data": {
      "text/plain": [
       "'TPOTClassifier #1'"
      ]
     },
     "metadata": {},
     "output_type": "display_data"
    },
    {
     "data": {
      "text/html": [
       "<style  type=\"text/css\" >\n",
       "</style><table id=\"T_c13ad526_f40a_11e9_873d_008cfafbf396\" ><thead>    <tr>        <th class=\"col_heading level0 col0\" >max_angle</th>        <th class=\"col_heading level0 col1\" >test_acc</th>        <th class=\"col_heading level0 col2\" >train_acc</th>        <th class=\"col_heading level0 col3\" >time_err</th>        <th class=\"col_heading level0 col4\" >time_pre</th>        <th class=\"col_heading level0 col5\" >time_mod</th>    </tr></thead><tbody>\n",
       "                <tr>\n",
       "                                <td id=\"T_c13ad526_f40a_11e9_873d_008cfafbf396row0_col0\" class=\"data row0 col0\" >0</td>\n",
       "                        <td id=\"T_c13ad526_f40a_11e9_873d_008cfafbf396row0_col1\" class=\"data row0 col1\" >0.989</td>\n",
       "                        <td id=\"T_c13ad526_f40a_11e9_873d_008cfafbf396row0_col2\" class=\"data row0 col2\" >1</td>\n",
       "                        <td id=\"T_c13ad526_f40a_11e9_873d_008cfafbf396row0_col3\" class=\"data row0 col3\" >0.173</td>\n",
       "                        <td id=\"T_c13ad526_f40a_11e9_873d_008cfafbf396row0_col4\" class=\"data row0 col4\" >0</td>\n",
       "                        <td id=\"T_c13ad526_f40a_11e9_873d_008cfafbf396row0_col5\" class=\"data row0 col5\" >1179.5</td>\n",
       "            </tr>\n",
       "            <tr>\n",
       "                                <td id=\"T_c13ad526_f40a_11e9_873d_008cfafbf396row1_col0\" class=\"data row1 col0\" >12</td>\n",
       "                        <td id=\"T_c13ad526_f40a_11e9_873d_008cfafbf396row1_col1\" class=\"data row1 col1\" >0.994</td>\n",
       "                        <td id=\"T_c13ad526_f40a_11e9_873d_008cfafbf396row1_col2\" class=\"data row1 col2\" >1</td>\n",
       "                        <td id=\"T_c13ad526_f40a_11e9_873d_008cfafbf396row1_col3\" class=\"data row1 col3\" >0.286</td>\n",
       "                        <td id=\"T_c13ad526_f40a_11e9_873d_008cfafbf396row1_col4\" class=\"data row1 col4\" >0</td>\n",
       "                        <td id=\"T_c13ad526_f40a_11e9_873d_008cfafbf396row1_col5\" class=\"data row1 col5\" >1057.56</td>\n",
       "            </tr>\n",
       "            <tr>\n",
       "                                <td id=\"T_c13ad526_f40a_11e9_873d_008cfafbf396row2_col0\" class=\"data row2 col0\" >24</td>\n",
       "                        <td id=\"T_c13ad526_f40a_11e9_873d_008cfafbf396row2_col1\" class=\"data row2 col1\" >0.961</td>\n",
       "                        <td id=\"T_c13ad526_f40a_11e9_873d_008cfafbf396row2_col2\" class=\"data row2 col2\" >1</td>\n",
       "                        <td id=\"T_c13ad526_f40a_11e9_873d_008cfafbf396row2_col3\" class=\"data row2 col3\" >0.284</td>\n",
       "                        <td id=\"T_c13ad526_f40a_11e9_873d_008cfafbf396row2_col4\" class=\"data row2 col4\" >0</td>\n",
       "                        <td id=\"T_c13ad526_f40a_11e9_873d_008cfafbf396row2_col5\" class=\"data row2 col5\" >1890.24</td>\n",
       "            </tr>\n",
       "            <tr>\n",
       "                                <td id=\"T_c13ad526_f40a_11e9_873d_008cfafbf396row3_col0\" class=\"data row3 col0\" >36</td>\n",
       "                        <td id=\"T_c13ad526_f40a_11e9_873d_008cfafbf396row3_col1\" class=\"data row3 col1\" >0.964</td>\n",
       "                        <td id=\"T_c13ad526_f40a_11e9_873d_008cfafbf396row3_col2\" class=\"data row3 col2\" >1</td>\n",
       "                        <td id=\"T_c13ad526_f40a_11e9_873d_008cfafbf396row3_col3\" class=\"data row3 col3\" >0.283</td>\n",
       "                        <td id=\"T_c13ad526_f40a_11e9_873d_008cfafbf396row3_col4\" class=\"data row3 col4\" >0</td>\n",
       "                        <td id=\"T_c13ad526_f40a_11e9_873d_008cfafbf396row3_col5\" class=\"data row3 col5\" >2009.27</td>\n",
       "            </tr>\n",
       "            <tr>\n",
       "                                <td id=\"T_c13ad526_f40a_11e9_873d_008cfafbf396row4_col0\" class=\"data row4 col0\" >48</td>\n",
       "                        <td id=\"T_c13ad526_f40a_11e9_873d_008cfafbf396row4_col1\" class=\"data row4 col1\" >0.953</td>\n",
       "                        <td id=\"T_c13ad526_f40a_11e9_873d_008cfafbf396row4_col2\" class=\"data row4 col2\" >1</td>\n",
       "                        <td id=\"T_c13ad526_f40a_11e9_873d_008cfafbf396row4_col3\" class=\"data row4 col3\" >0.279</td>\n",
       "                        <td id=\"T_c13ad526_f40a_11e9_873d_008cfafbf396row4_col4\" class=\"data row4 col4\" >0</td>\n",
       "                        <td id=\"T_c13ad526_f40a_11e9_873d_008cfafbf396row4_col5\" class=\"data row4 col5\" >1755.77</td>\n",
       "            </tr>\n",
       "            <tr>\n",
       "                                <td id=\"T_c13ad526_f40a_11e9_873d_008cfafbf396row5_col0\" class=\"data row5 col0\" >60</td>\n",
       "                        <td id=\"T_c13ad526_f40a_11e9_873d_008cfafbf396row5_col1\" class=\"data row5 col1\" >0.911</td>\n",
       "                        <td id=\"T_c13ad526_f40a_11e9_873d_008cfafbf396row5_col2\" class=\"data row5 col2\" >0.943</td>\n",
       "                        <td id=\"T_c13ad526_f40a_11e9_873d_008cfafbf396row5_col3\" class=\"data row5 col3\" >0.275</td>\n",
       "                        <td id=\"T_c13ad526_f40a_11e9_873d_008cfafbf396row5_col4\" class=\"data row5 col4\" >0</td>\n",
       "                        <td id=\"T_c13ad526_f40a_11e9_873d_008cfafbf396row5_col5\" class=\"data row5 col5\" >1731.59</td>\n",
       "            </tr>\n",
       "            <tr>\n",
       "                                <td id=\"T_c13ad526_f40a_11e9_873d_008cfafbf396row6_col0\" class=\"data row6 col0\" >72</td>\n",
       "                        <td id=\"T_c13ad526_f40a_11e9_873d_008cfafbf396row6_col1\" class=\"data row6 col1\" >0.914</td>\n",
       "                        <td id=\"T_c13ad526_f40a_11e9_873d_008cfafbf396row6_col2\" class=\"data row6 col2\" >1</td>\n",
       "                        <td id=\"T_c13ad526_f40a_11e9_873d_008cfafbf396row6_col3\" class=\"data row6 col3\" >0.319</td>\n",
       "                        <td id=\"T_c13ad526_f40a_11e9_873d_008cfafbf396row6_col4\" class=\"data row6 col4\" >0</td>\n",
       "                        <td id=\"T_c13ad526_f40a_11e9_873d_008cfafbf396row6_col5\" class=\"data row6 col5\" >1734.8</td>\n",
       "            </tr>\n",
       "            <tr>\n",
       "                                <td id=\"T_c13ad526_f40a_11e9_873d_008cfafbf396row7_col0\" class=\"data row7 col0\" >84</td>\n",
       "                        <td id=\"T_c13ad526_f40a_11e9_873d_008cfafbf396row7_col1\" class=\"data row7 col1\" >0.828</td>\n",
       "                        <td id=\"T_c13ad526_f40a_11e9_873d_008cfafbf396row7_col2\" class=\"data row7 col2\" >1</td>\n",
       "                        <td id=\"T_c13ad526_f40a_11e9_873d_008cfafbf396row7_col3\" class=\"data row7 col3\" >0.268</td>\n",
       "                        <td id=\"T_c13ad526_f40a_11e9_873d_008cfafbf396row7_col4\" class=\"data row7 col4\" >0</td>\n",
       "                        <td id=\"T_c13ad526_f40a_11e9_873d_008cfafbf396row7_col5\" class=\"data row7 col5\" >1934.42</td>\n",
       "            </tr>\n",
       "    </tbody></table>"
      ],
      "text/plain": [
       "<pandas.io.formats.style.Styler at 0x2aac53871550>"
      ]
     },
     "metadata": {},
     "output_type": "display_data"
    },
    {
     "data": {
      "text/html": [
       "<style  type=\"text/css\" >\n",
       "</style><table id=\"T_c13dba98_f40a_11e9_873d_008cfafbf396\" ><thead>    <tr>        <th class=\"col_heading level0 col0\" >max_angle</th>        <th class=\"col_heading level0 col1\" >pipe_0</th>        <th class=\"col_heading level0 col2\" >pipe_1</th>        <th class=\"col_heading level0 col3\" >pipe_2</th>        <th class=\"col_heading level0 col4\" >pipe_3</th>        <th class=\"col_heading level0 col5\" >pipe_4</th>    </tr></thead><tbody>\n",
       "                <tr>\n",
       "                                <td id=\"T_c13dba98_f40a_11e9_873d_008cfafbf396row0_col0\" class=\"data row0 col0\" >0</td>\n",
       "                        <td id=\"T_c13dba98_f40a_11e9_873d_008cfafbf396row0_col1\" class=\"data row0 col1\" >PolynomialFeatures(degree=2, include_bias=False, interaction_only=False)</td>\n",
       "                        <td id=\"T_c13dba98_f40a_11e9_873d_008cfafbf396row0_col2\" class=\"data row0 col2\" >LogisticRegression(C=0.001, class_weight=None, dual=False, fit_intercept=True,\n",
       "          intercept_scaling=1, max_iter=100, multi_class='warn',\n",
       "          n_jobs=None, penalty='l2', random_state=None, solver='warn',\n",
       "          tol=0.0001, verbose=0, warm_start=False)</td>\n",
       "                        <td id=\"T_c13dba98_f40a_11e9_873d_008cfafbf396row0_col3\" class=\"data row0 col3\" >nan</td>\n",
       "                        <td id=\"T_c13dba98_f40a_11e9_873d_008cfafbf396row0_col4\" class=\"data row0 col4\" >nan</td>\n",
       "                        <td id=\"T_c13dba98_f40a_11e9_873d_008cfafbf396row0_col5\" class=\"data row0 col5\" >nan</td>\n",
       "            </tr>\n",
       "            <tr>\n",
       "                                <td id=\"T_c13dba98_f40a_11e9_873d_008cfafbf396row1_col0\" class=\"data row1 col0\" >12</td>\n",
       "                        <td id=\"T_c13dba98_f40a_11e9_873d_008cfafbf396row1_col1\" class=\"data row1 col1\" >PolynomialFeatures(degree=2, include_bias=False, interaction_only=False)</td>\n",
       "                        <td id=\"T_c13dba98_f40a_11e9_873d_008cfafbf396row1_col2\" class=\"data row1 col2\" >LinearSVC(C=0.001, class_weight=None, dual=True, fit_intercept=True,\n",
       "     intercept_scaling=1, loss='hinge', max_iter=1000, multi_class='ovr',\n",
       "     penalty='l2', random_state=None, tol=0.1, verbose=0)</td>\n",
       "                        <td id=\"T_c13dba98_f40a_11e9_873d_008cfafbf396row1_col3\" class=\"data row1 col3\" >nan</td>\n",
       "                        <td id=\"T_c13dba98_f40a_11e9_873d_008cfafbf396row1_col4\" class=\"data row1 col4\" >nan</td>\n",
       "                        <td id=\"T_c13dba98_f40a_11e9_873d_008cfafbf396row1_col5\" class=\"data row1 col5\" >nan</td>\n",
       "            </tr>\n",
       "            <tr>\n",
       "                                <td id=\"T_c13dba98_f40a_11e9_873d_008cfafbf396row2_col0\" class=\"data row2 col0\" >24</td>\n",
       "                        <td id=\"T_c13dba98_f40a_11e9_873d_008cfafbf396row2_col1\" class=\"data row2 col1\" >SelectFwe(alpha=0.008, score_func=<function f_classif at 0x2aac489f0158>)</td>\n",
       "                        <td id=\"T_c13dba98_f40a_11e9_873d_008cfafbf396row2_col2\" class=\"data row2 col2\" >StackingEstimator(estimator=RandomForestClassifier(bootstrap=False, class_weight=None,\n",
       "            criterion='entropy', max_depth=None,\n",
       "            max_features=0.15000000000000002, max_leaf_nodes=None,\n",
       "            min_impurity_decrease=0.0, min_impurity_split=None,\n",
       "            min_samples_leaf=13, min_samples_split=5,\n",
       "            min_weight_fraction_leaf=0.0, n_estimators=100, n_jobs=None,\n",
       "            oob_score=False, random_state=None, verbose=0,\n",
       "            warm_start=False))</td>\n",
       "                        <td id=\"T_c13dba98_f40a_11e9_873d_008cfafbf396row2_col3\" class=\"data row2 col3\" >PCA(copy=True, iterated_power=6, n_components=None, random_state=None,\n",
       "  svd_solver='randomized', tol=0.0, whiten=False)</td>\n",
       "                        <td id=\"T_c13dba98_f40a_11e9_873d_008cfafbf396row2_col4\" class=\"data row2 col4\" >PolynomialFeatures(degree=2, include_bias=False, interaction_only=False)</td>\n",
       "                        <td id=\"T_c13dba98_f40a_11e9_873d_008cfafbf396row2_col5\" class=\"data row2 col5\" >LogisticRegression(C=15.0, class_weight=None, dual=True, fit_intercept=True,\n",
       "          intercept_scaling=1, max_iter=100, multi_class='warn',\n",
       "          n_jobs=None, penalty='l2', random_state=None, solver='warn',\n",
       "          tol=0.0001, verbose=0, warm_start=False)</td>\n",
       "            </tr>\n",
       "            <tr>\n",
       "                                <td id=\"T_c13dba98_f40a_11e9_873d_008cfafbf396row3_col0\" class=\"data row3 col0\" >36</td>\n",
       "                        <td id=\"T_c13dba98_f40a_11e9_873d_008cfafbf396row3_col1\" class=\"data row3 col1\" >PolynomialFeatures(degree=2, include_bias=False, interaction_only=False)</td>\n",
       "                        <td id=\"T_c13dba98_f40a_11e9_873d_008cfafbf396row3_col2\" class=\"data row3 col2\" >StackingEstimator(estimator=LogisticRegression(C=25.0, class_weight=None, dual=False, fit_intercept=True,\n",
       "          intercept_scaling=1, max_iter=100, multi_class='warn',\n",
       "          n_jobs=None, penalty='l1', random_state=None, solver='warn',\n",
       "          tol=0.0001, verbose=0, warm_start=False))</td>\n",
       "                        <td id=\"T_c13dba98_f40a_11e9_873d_008cfafbf396row3_col3\" class=\"data row3 col3\" >RandomForestClassifier(bootstrap=False, class_weight=None, criterion='gini',\n",
       "            max_depth=None, max_features=0.35000000000000003,\n",
       "            max_leaf_nodes=None, min_impurity_decrease=0.0,\n",
       "            min_impurity_split=None, min_samples_leaf=9,\n",
       "            min_samples_split=20, min_weight_fraction_leaf=0.0,\n",
       "            n_estimators=100, n_jobs=None, oob_score=False,\n",
       "            random_state=None, verbose=0, warm_start=False)</td>\n",
       "                        <td id=\"T_c13dba98_f40a_11e9_873d_008cfafbf396row3_col4\" class=\"data row3 col4\" >nan</td>\n",
       "                        <td id=\"T_c13dba98_f40a_11e9_873d_008cfafbf396row3_col5\" class=\"data row3 col5\" >nan</td>\n",
       "            </tr>\n",
       "            <tr>\n",
       "                                <td id=\"T_c13dba98_f40a_11e9_873d_008cfafbf396row4_col0\" class=\"data row4 col0\" >48</td>\n",
       "                        <td id=\"T_c13dba98_f40a_11e9_873d_008cfafbf396row4_col1\" class=\"data row4 col1\" >KNeighborsClassifier(algorithm='auto', leaf_size=30, metric='minkowski',\n",
       "           metric_params=None, n_jobs=None, n_neighbors=4, p=2,\n",
       "           weights='distance')</td>\n",
       "                        <td id=\"T_c13dba98_f40a_11e9_873d_008cfafbf396row4_col2\" class=\"data row4 col2\" >nan</td>\n",
       "                        <td id=\"T_c13dba98_f40a_11e9_873d_008cfafbf396row4_col3\" class=\"data row4 col3\" >nan</td>\n",
       "                        <td id=\"T_c13dba98_f40a_11e9_873d_008cfafbf396row4_col4\" class=\"data row4 col4\" >nan</td>\n",
       "                        <td id=\"T_c13dba98_f40a_11e9_873d_008cfafbf396row4_col5\" class=\"data row4 col5\" >nan</td>\n",
       "            </tr>\n",
       "            <tr>\n",
       "                                <td id=\"T_c13dba98_f40a_11e9_873d_008cfafbf396row5_col0\" class=\"data row5 col0\" >60</td>\n",
       "                        <td id=\"T_c13dba98_f40a_11e9_873d_008cfafbf396row5_col1\" class=\"data row5 col1\" >MinMaxScaler(copy=True, feature_range=(0, 1))</td>\n",
       "                        <td id=\"T_c13dba98_f40a_11e9_873d_008cfafbf396row5_col2\" class=\"data row5 col2\" >KNeighborsClassifier(algorithm='auto', leaf_size=30, metric='minkowski',\n",
       "           metric_params=None, n_jobs=None, n_neighbors=7, p=2,\n",
       "           weights='uniform')</td>\n",
       "                        <td id=\"T_c13dba98_f40a_11e9_873d_008cfafbf396row5_col3\" class=\"data row5 col3\" >nan</td>\n",
       "                        <td id=\"T_c13dba98_f40a_11e9_873d_008cfafbf396row5_col4\" class=\"data row5 col4\" >nan</td>\n",
       "                        <td id=\"T_c13dba98_f40a_11e9_873d_008cfafbf396row5_col5\" class=\"data row5 col5\" >nan</td>\n",
       "            </tr>\n",
       "            <tr>\n",
       "                                <td id=\"T_c13dba98_f40a_11e9_873d_008cfafbf396row6_col0\" class=\"data row6 col0\" >72</td>\n",
       "                        <td id=\"T_c13dba98_f40a_11e9_873d_008cfafbf396row6_col1\" class=\"data row6 col1\" >StackingEstimator(estimator=GradientBoostingClassifier(criterion='friedman_mse', init=None,\n",
       "              learning_rate=0.1, loss='deviance', max_depth=10,\n",
       "              max_features=0.15000000000000002, max_leaf_nodes=None,\n",
       "              min_impurity_decrease=0.0, min_impurity_split=None,\n",
       "              min_samples_l...=0.8500000000000001, tol=0.0001,\n",
       "              validation_fraction=0.1, verbose=0, warm_start=False))</td>\n",
       "                        <td id=\"T_c13dba98_f40a_11e9_873d_008cfafbf396row6_col2\" class=\"data row6 col2\" >ExtraTreesClassifier(bootstrap=True, class_weight=None, criterion='entropy',\n",
       "           max_depth=None, max_features=0.6000000000000001,\n",
       "           max_leaf_nodes=None, min_impurity_decrease=0.0,\n",
       "           min_impurity_split=None, min_samples_leaf=20,\n",
       "           min_samples_split=11, min_weight_fraction_leaf=0.0,\n",
       "           n_estimators=100, n_jobs=None, oob_score=False,\n",
       "           random_state=None, verbose=0, warm_start=False)</td>\n",
       "                        <td id=\"T_c13dba98_f40a_11e9_873d_008cfafbf396row6_col3\" class=\"data row6 col3\" >nan</td>\n",
       "                        <td id=\"T_c13dba98_f40a_11e9_873d_008cfafbf396row6_col4\" class=\"data row6 col4\" >nan</td>\n",
       "                        <td id=\"T_c13dba98_f40a_11e9_873d_008cfafbf396row6_col5\" class=\"data row6 col5\" >nan</td>\n",
       "            </tr>\n",
       "            <tr>\n",
       "                                <td id=\"T_c13dba98_f40a_11e9_873d_008cfafbf396row7_col0\" class=\"data row7 col0\" >84</td>\n",
       "                        <td id=\"T_c13dba98_f40a_11e9_873d_008cfafbf396row7_col1\" class=\"data row7 col1\" >FeatureUnion(n_jobs=None,\n",
       "       transformer_list=[('functiontransformer-1', FunctionTransformer(accept_sparse=False, check_inverse=True,\n",
       "          func=<function copy at 0x2aab62b59840>, inv_kw_args=None,\n",
       "          inverse_func=None, kw_args=None, pass_y='deprecated',\n",
       "          validate=None)), ('functiontransformer-2', FunctionTr...rgs=None,\n",
       "          inverse_func=None, kw_args=None, pass_y='deprecated',\n",
       "          validate=None))],\n",
       "       transformer_weights=None)</td>\n",
       "                        <td id=\"T_c13dba98_f40a_11e9_873d_008cfafbf396row7_col2\" class=\"data row7 col2\" >ExtraTreesClassifier(bootstrap=False, class_weight=None, criterion='gini',\n",
       "           max_depth=None, max_features=0.3, max_leaf_nodes=None,\n",
       "           min_impurity_decrease=0.0, min_impurity_split=None,\n",
       "           min_samples_leaf=3, min_samples_split=2,\n",
       "           min_weight_fraction_leaf=0.0, n_estimators=100, n_jobs=None,\n",
       "           oob_score=False, random_state=None, verbose=0, warm_start=False)</td>\n",
       "                        <td id=\"T_c13dba98_f40a_11e9_873d_008cfafbf396row7_col3\" class=\"data row7 col3\" >nan</td>\n",
       "                        <td id=\"T_c13dba98_f40a_11e9_873d_008cfafbf396row7_col4\" class=\"data row7 col4\" >nan</td>\n",
       "                        <td id=\"T_c13dba98_f40a_11e9_873d_008cfafbf396row7_col5\" class=\"data row7 col5\" >nan</td>\n",
       "            </tr>\n",
       "    </tbody></table>"
      ],
      "text/plain": [
       "<pandas.io.formats.style.Styler at 0x2aac3db5f8d0>"
      ]
     },
     "metadata": {},
     "output_type": "display_data"
    },
    {
     "data": {
      "text/plain": [
       "'TPOTClassifierClean #1'"
      ]
     },
     "metadata": {},
     "output_type": "display_data"
    },
    {
     "data": {
      "text/html": [
       "<style  type=\"text/css\" >\n",
       "</style><table id=\"T_c13fc176_f40a_11e9_873d_008cfafbf396\" ><thead>    <tr>        <th class=\"col_heading level0 col0\" >max_angle</th>        <th class=\"col_heading level0 col1\" >test_acc</th>        <th class=\"col_heading level0 col2\" >train_acc</th>        <th class=\"col_heading level0 col3\" >time_err</th>        <th class=\"col_heading level0 col4\" >time_pre</th>        <th class=\"col_heading level0 col5\" >time_mod</th>    </tr></thead><tbody>\n",
       "                <tr>\n",
       "                                <td id=\"T_c13fc176_f40a_11e9_873d_008cfafbf396row0_col0\" class=\"data row0 col0\" >0</td>\n",
       "                        <td id=\"T_c13fc176_f40a_11e9_873d_008cfafbf396row0_col1\" class=\"data row0 col1\" >0.989</td>\n",
       "                        <td id=\"T_c13fc176_f40a_11e9_873d_008cfafbf396row0_col2\" class=\"data row0 col2\" >1</td>\n",
       "                        <td id=\"T_c13fc176_f40a_11e9_873d_008cfafbf396row0_col3\" class=\"data row0 col3\" >0.173</td>\n",
       "                        <td id=\"T_c13fc176_f40a_11e9_873d_008cfafbf396row0_col4\" class=\"data row0 col4\" >0</td>\n",
       "                        <td id=\"T_c13fc176_f40a_11e9_873d_008cfafbf396row0_col5\" class=\"data row0 col5\" >997.243</td>\n",
       "            </tr>\n",
       "            <tr>\n",
       "                                <td id=\"T_c13fc176_f40a_11e9_873d_008cfafbf396row1_col0\" class=\"data row1 col0\" >12</td>\n",
       "                        <td id=\"T_c13fc176_f40a_11e9_873d_008cfafbf396row1_col1\" class=\"data row1 col1\" >0.975</td>\n",
       "                        <td id=\"T_c13fc176_f40a_11e9_873d_008cfafbf396row1_col2\" class=\"data row1 col2\" >1</td>\n",
       "                        <td id=\"T_c13fc176_f40a_11e9_873d_008cfafbf396row1_col3\" class=\"data row1 col3\" >0.286</td>\n",
       "                        <td id=\"T_c13fc176_f40a_11e9_873d_008cfafbf396row1_col4\" class=\"data row1 col4\" >0</td>\n",
       "                        <td id=\"T_c13fc176_f40a_11e9_873d_008cfafbf396row1_col5\" class=\"data row1 col5\" >1079.67</td>\n",
       "            </tr>\n",
       "            <tr>\n",
       "                                <td id=\"T_c13fc176_f40a_11e9_873d_008cfafbf396row2_col0\" class=\"data row2 col0\" >24</td>\n",
       "                        <td id=\"T_c13fc176_f40a_11e9_873d_008cfafbf396row2_col1\" class=\"data row2 col1\" >0.822</td>\n",
       "                        <td id=\"T_c13fc176_f40a_11e9_873d_008cfafbf396row2_col2\" class=\"data row2 col2\" >1</td>\n",
       "                        <td id=\"T_c13fc176_f40a_11e9_873d_008cfafbf396row2_col3\" class=\"data row2 col3\" >0.284</td>\n",
       "                        <td id=\"T_c13fc176_f40a_11e9_873d_008cfafbf396row2_col4\" class=\"data row2 col4\" >0</td>\n",
       "                        <td id=\"T_c13fc176_f40a_11e9_873d_008cfafbf396row2_col5\" class=\"data row2 col5\" >982.293</td>\n",
       "            </tr>\n",
       "            <tr>\n",
       "                                <td id=\"T_c13fc176_f40a_11e9_873d_008cfafbf396row3_col0\" class=\"data row3 col0\" >36</td>\n",
       "                        <td id=\"T_c13fc176_f40a_11e9_873d_008cfafbf396row3_col1\" class=\"data row3 col1\" >0.692</td>\n",
       "                        <td id=\"T_c13fc176_f40a_11e9_873d_008cfafbf396row3_col2\" class=\"data row3 col2\" >1</td>\n",
       "                        <td id=\"T_c13fc176_f40a_11e9_873d_008cfafbf396row3_col3\" class=\"data row3 col3\" >0.283</td>\n",
       "                        <td id=\"T_c13fc176_f40a_11e9_873d_008cfafbf396row3_col4\" class=\"data row3 col4\" >0</td>\n",
       "                        <td id=\"T_c13fc176_f40a_11e9_873d_008cfafbf396row3_col5\" class=\"data row3 col5\" >933.646</td>\n",
       "            </tr>\n",
       "            <tr>\n",
       "                                <td id=\"T_c13fc176_f40a_11e9_873d_008cfafbf396row4_col0\" class=\"data row4 col0\" >48</td>\n",
       "                        <td id=\"T_c13fc176_f40a_11e9_873d_008cfafbf396row4_col1\" class=\"data row4 col1\" >0.594</td>\n",
       "                        <td id=\"T_c13fc176_f40a_11e9_873d_008cfafbf396row4_col2\" class=\"data row4 col2\" >1</td>\n",
       "                        <td id=\"T_c13fc176_f40a_11e9_873d_008cfafbf396row4_col3\" class=\"data row4 col3\" >0.279</td>\n",
       "                        <td id=\"T_c13fc176_f40a_11e9_873d_008cfafbf396row4_col4\" class=\"data row4 col4\" >0</td>\n",
       "                        <td id=\"T_c13fc176_f40a_11e9_873d_008cfafbf396row4_col5\" class=\"data row4 col5\" >1000.97</td>\n",
       "            </tr>\n",
       "            <tr>\n",
       "                                <td id=\"T_c13fc176_f40a_11e9_873d_008cfafbf396row5_col0\" class=\"data row5 col0\" >60</td>\n",
       "                        <td id=\"T_c13fc176_f40a_11e9_873d_008cfafbf396row5_col1\" class=\"data row5 col1\" >0.519</td>\n",
       "                        <td id=\"T_c13fc176_f40a_11e9_873d_008cfafbf396row5_col2\" class=\"data row5 col2\" >1</td>\n",
       "                        <td id=\"T_c13fc176_f40a_11e9_873d_008cfafbf396row5_col3\" class=\"data row5 col3\" >0.275</td>\n",
       "                        <td id=\"T_c13fc176_f40a_11e9_873d_008cfafbf396row5_col4\" class=\"data row5 col4\" >0</td>\n",
       "                        <td id=\"T_c13fc176_f40a_11e9_873d_008cfafbf396row5_col5\" class=\"data row5 col5\" >919.665</td>\n",
       "            </tr>\n",
       "            <tr>\n",
       "                                <td id=\"T_c13fc176_f40a_11e9_873d_008cfafbf396row6_col0\" class=\"data row6 col0\" >72</td>\n",
       "                        <td id=\"T_c13fc176_f40a_11e9_873d_008cfafbf396row6_col1\" class=\"data row6 col1\" >0.444</td>\n",
       "                        <td id=\"T_c13fc176_f40a_11e9_873d_008cfafbf396row6_col2\" class=\"data row6 col2\" >1</td>\n",
       "                        <td id=\"T_c13fc176_f40a_11e9_873d_008cfafbf396row6_col3\" class=\"data row6 col3\" >0.319</td>\n",
       "                        <td id=\"T_c13fc176_f40a_11e9_873d_008cfafbf396row6_col4\" class=\"data row6 col4\" >0</td>\n",
       "                        <td id=\"T_c13fc176_f40a_11e9_873d_008cfafbf396row6_col5\" class=\"data row6 col5\" >1027.67</td>\n",
       "            </tr>\n",
       "            <tr>\n",
       "                                <td id=\"T_c13fc176_f40a_11e9_873d_008cfafbf396row7_col0\" class=\"data row7 col0\" >84</td>\n",
       "                        <td id=\"T_c13fc176_f40a_11e9_873d_008cfafbf396row7_col1\" class=\"data row7 col1\" >0.394</td>\n",
       "                        <td id=\"T_c13fc176_f40a_11e9_873d_008cfafbf396row7_col2\" class=\"data row7 col2\" >1</td>\n",
       "                        <td id=\"T_c13fc176_f40a_11e9_873d_008cfafbf396row7_col3\" class=\"data row7 col3\" >0.268</td>\n",
       "                        <td id=\"T_c13fc176_f40a_11e9_873d_008cfafbf396row7_col4\" class=\"data row7 col4\" >0</td>\n",
       "                        <td id=\"T_c13fc176_f40a_11e9_873d_008cfafbf396row7_col5\" class=\"data row7 col5\" >949.106</td>\n",
       "            </tr>\n",
       "    </tbody></table>"
      ],
      "text/plain": [
       "<pandas.io.formats.style.Styler at 0x2aac397ec6d8>"
      ]
     },
     "metadata": {},
     "output_type": "display_data"
    },
    {
     "data": {
      "text/html": [
       "<style  type=\"text/css\" >\n",
       "</style><table id=\"T_c1417700_f40a_11e9_873d_008cfafbf396\" ><thead>    <tr>        <th class=\"col_heading level0 col0\" >max_angle</th>        <th class=\"col_heading level0 col1\" >pipe_0</th>        <th class=\"col_heading level0 col2\" >pipe_1</th>    </tr></thead><tbody>\n",
       "                <tr>\n",
       "                                <td id=\"T_c1417700_f40a_11e9_873d_008cfafbf396row0_col0\" class=\"data row0 col0\" >0</td>\n",
       "                        <td id=\"T_c1417700_f40a_11e9_873d_008cfafbf396row0_col1\" class=\"data row0 col1\" >PolynomialFeatures(degree=2, include_bias=False, interaction_only=False)</td>\n",
       "                        <td id=\"T_c1417700_f40a_11e9_873d_008cfafbf396row0_col2\" class=\"data row0 col2\" >LogisticRegression(C=0.001, class_weight=None, dual=False, fit_intercept=True,\n",
       "          intercept_scaling=1, max_iter=100, multi_class='warn',\n",
       "          n_jobs=None, penalty='l2', random_state=None, solver='warn',\n",
       "          tol=0.0001, verbose=0, warm_start=False)</td>\n",
       "            </tr>\n",
       "            <tr>\n",
       "                                <td id=\"T_c1417700_f40a_11e9_873d_008cfafbf396row1_col0\" class=\"data row1 col0\" >12</td>\n",
       "                        <td id=\"T_c1417700_f40a_11e9_873d_008cfafbf396row1_col1\" class=\"data row1 col1\" >PolynomialFeatures(degree=2, include_bias=False, interaction_only=False)</td>\n",
       "                        <td id=\"T_c1417700_f40a_11e9_873d_008cfafbf396row1_col2\" class=\"data row1 col2\" >LogisticRegression(C=0.001, class_weight=None, dual=False, fit_intercept=True,\n",
       "          intercept_scaling=1, max_iter=100, multi_class='warn',\n",
       "          n_jobs=None, penalty='l2', random_state=None, solver='warn',\n",
       "          tol=0.0001, verbose=0, warm_start=False)</td>\n",
       "            </tr>\n",
       "            <tr>\n",
       "                                <td id=\"T_c1417700_f40a_11e9_873d_008cfafbf396row2_col0\" class=\"data row2 col0\" >24</td>\n",
       "                        <td id=\"T_c1417700_f40a_11e9_873d_008cfafbf396row2_col1\" class=\"data row2 col1\" >PolynomialFeatures(degree=2, include_bias=False, interaction_only=False)</td>\n",
       "                        <td id=\"T_c1417700_f40a_11e9_873d_008cfafbf396row2_col2\" class=\"data row2 col2\" >LogisticRegression(C=0.001, class_weight=None, dual=False, fit_intercept=True,\n",
       "          intercept_scaling=1, max_iter=100, multi_class='warn',\n",
       "          n_jobs=None, penalty='l2', random_state=None, solver='warn',\n",
       "          tol=0.0001, verbose=0, warm_start=False)</td>\n",
       "            </tr>\n",
       "            <tr>\n",
       "                                <td id=\"T_c1417700_f40a_11e9_873d_008cfafbf396row3_col0\" class=\"data row3 col0\" >36</td>\n",
       "                        <td id=\"T_c1417700_f40a_11e9_873d_008cfafbf396row3_col1\" class=\"data row3 col1\" >PolynomialFeatures(degree=2, include_bias=False, interaction_only=False)</td>\n",
       "                        <td id=\"T_c1417700_f40a_11e9_873d_008cfafbf396row3_col2\" class=\"data row3 col2\" >LogisticRegression(C=0.001, class_weight=None, dual=False, fit_intercept=True,\n",
       "          intercept_scaling=1, max_iter=100, multi_class='warn',\n",
       "          n_jobs=None, penalty='l2', random_state=None, solver='warn',\n",
       "          tol=0.0001, verbose=0, warm_start=False)</td>\n",
       "            </tr>\n",
       "            <tr>\n",
       "                                <td id=\"T_c1417700_f40a_11e9_873d_008cfafbf396row4_col0\" class=\"data row4 col0\" >48</td>\n",
       "                        <td id=\"T_c1417700_f40a_11e9_873d_008cfafbf396row4_col1\" class=\"data row4 col1\" >PolynomialFeatures(degree=2, include_bias=False, interaction_only=False)</td>\n",
       "                        <td id=\"T_c1417700_f40a_11e9_873d_008cfafbf396row4_col2\" class=\"data row4 col2\" >LogisticRegression(C=0.001, class_weight=None, dual=False, fit_intercept=True,\n",
       "          intercept_scaling=1, max_iter=100, multi_class='warn',\n",
       "          n_jobs=None, penalty='l2', random_state=None, solver='warn',\n",
       "          tol=0.0001, verbose=0, warm_start=False)</td>\n",
       "            </tr>\n",
       "            <tr>\n",
       "                                <td id=\"T_c1417700_f40a_11e9_873d_008cfafbf396row5_col0\" class=\"data row5 col0\" >60</td>\n",
       "                        <td id=\"T_c1417700_f40a_11e9_873d_008cfafbf396row5_col1\" class=\"data row5 col1\" >PolynomialFeatures(degree=2, include_bias=False, interaction_only=False)</td>\n",
       "                        <td id=\"T_c1417700_f40a_11e9_873d_008cfafbf396row5_col2\" class=\"data row5 col2\" >LogisticRegression(C=0.001, class_weight=None, dual=False, fit_intercept=True,\n",
       "          intercept_scaling=1, max_iter=100, multi_class='warn',\n",
       "          n_jobs=None, penalty='l2', random_state=None, solver='warn',\n",
       "          tol=0.0001, verbose=0, warm_start=False)</td>\n",
       "            </tr>\n",
       "            <tr>\n",
       "                                <td id=\"T_c1417700_f40a_11e9_873d_008cfafbf396row6_col0\" class=\"data row6 col0\" >72</td>\n",
       "                        <td id=\"T_c1417700_f40a_11e9_873d_008cfafbf396row6_col1\" class=\"data row6 col1\" >PolynomialFeatures(degree=2, include_bias=False, interaction_only=False)</td>\n",
       "                        <td id=\"T_c1417700_f40a_11e9_873d_008cfafbf396row6_col2\" class=\"data row6 col2\" >LogisticRegression(C=0.001, class_weight=None, dual=False, fit_intercept=True,\n",
       "          intercept_scaling=1, max_iter=100, multi_class='warn',\n",
       "          n_jobs=None, penalty='l2', random_state=None, solver='warn',\n",
       "          tol=0.0001, verbose=0, warm_start=False)</td>\n",
       "            </tr>\n",
       "            <tr>\n",
       "                                <td id=\"T_c1417700_f40a_11e9_873d_008cfafbf396row7_col0\" class=\"data row7 col0\" >84</td>\n",
       "                        <td id=\"T_c1417700_f40a_11e9_873d_008cfafbf396row7_col1\" class=\"data row7 col1\" >PolynomialFeatures(degree=2, include_bias=False, interaction_only=False)</td>\n",
       "                        <td id=\"T_c1417700_f40a_11e9_873d_008cfafbf396row7_col2\" class=\"data row7 col2\" >LogisticRegression(C=0.001, class_weight=None, dual=False, fit_intercept=True,\n",
       "          intercept_scaling=1, max_iter=100, multi_class='warn',\n",
       "          n_jobs=None, penalty='l2', random_state=None, solver='warn',\n",
       "          tol=0.0001, verbose=0, warm_start=False)</td>\n",
       "            </tr>\n",
       "    </tbody></table>"
      ],
      "text/plain": [
       "<pandas.io.formats.style.Styler at 0x2aab66c24ac8>"
      ]
     },
     "metadata": {},
     "output_type": "display_data"
    },
    {
     "data": {
      "image/png": "[encoded data removed]",
      "text/plain": [
       "<Figure size 720x288 with 2 Axes>"
      ]
     },
     "metadata": {
      "needs_background": "light"
     },
     "output_type": "display_data"
    }
   ],
   "source": [
    "print_results_by_model(\n",
    "    df, \n",
    "    [\"train_labels\", \"test_labels\"],\n",
    "    err_param_name=\"max_angle\",\n",
    "    pipeline_name=\"best_pipeline\",\n",
    ")\n",
    "visualize(df)"
   ]
  },
  {
   "cell_type": "markdown",
   "metadata": {
    "collapsed": false,
    "papermill": {
     "duration": 0.03836,
     "end_time": "2019-10-21T13:57:45.145033",
     "exception": false,
     "start_time": "2019-10-21T13:57:45.106673",
     "status": "completed"
    },
    "tags": []
   },
   "source": []
  }
 ],
 "metadata": {
  "kernelspec": {
   "display_name": "Python 3",
   "language": "python",
   "name": "python3"
  },
  "language_info": {
   "codemirror_mode": {
    "name": "ipython",
    "version": 3
   },
   "file_extension": ".py",
   "mimetype": "text/x-python",
   "name": "python",
   "nbconvert_exporter": "python",
   "pygments_lexer": "ipython3",
   "version": "3.6.6"
  },
  "papermill": {
   "duration": 2956.637751,
   "end_time": "2019-10-21T13:57:45.992522",
   "environment_variables": {},
   "exception": null,
   "input_path": "docs/case_studies/test3.ipynb",
   "output_path": "docs/case_studies/test3.ipynb",
   "parameters": {},
   "start_time": "2019-10-21T13:08:29.354771",
   "version": "1.2.0"
  },
  "pycharm": {
   "stem_cell": {
    "cell_type": "raw",
    "source": [],
    "metadata": {
     "collapsed": false
    }
   }
  },
  "widgets": {
   "application/vnd.jupyter.widget-state+json": {
    "state": {
     "0f66695844eb459785bd4dfe897e5a76": {
      "model_module": "@jupyter-widgets/controls",
      "model_module_version": "1.5.0",
      "model_name": "DescriptionStyleModel",
      "state": {
       "_model_module": "@jupyter-widgets/controls",
       "_model_module_version": "1.5.0",
       "_model_name": "DescriptionStyleModel",
       "_view_count": null,
       "_view_module": "@jupyter-widgets/base",
       "_view_module_version": "1.2.0",
       "_view_name": "StyleView",
       "description_width": ""
      }
     },
     "7aa790ddebd74900acccfdc0cdf7c468": {
      "model_module": "@jupyter-widgets/controls",
      "model_module_version": "1.5.0",
      "model_name": "HBoxModel",
      "state": {
       "_dom_classes": [],
       "_model_module": "@jupyter-widgets/controls",
       "_model_module_version": "1.5.0",
       "_model_name": "HBoxModel",
       "_view_count": null,
       "_view_module": "@jupyter-widgets/controls",
       "_view_module_version": "1.5.0",
       "_view_name": "HBoxView",
       "box_style": "",
       "children": [
        "IPY_MODEL_94b06a19225e4f459cff00d6952e5037",
        "IPY_MODEL_e98da40ee025423faa243d7324e9ca0b"
       ],
       "layout": "IPY_MODEL_ad2abe26f6f44ab1bda30337413e8c1d"
      }
     },
     "7bd2d1608f124777a2ea17ffd41bcc0e": {
      "model_module": "@jupyter-widgets/base",
      "model_module_version": "1.2.0",
      "model_name": "LayoutModel",
      "state": {
       "_model_module": "@jupyter-widgets/base",
       "_model_module_version": "1.2.0",
       "_model_name": "LayoutModel",
       "_view_count": null,
       "_view_module": "@jupyter-widgets/base",
       "_view_module_version": "1.2.0",
       "_view_name": "LayoutView",
       "align_content": null,
       "align_items": null,
       "align_self": null,
       "border": null,
       "bottom": null,
       "display": null,
       "flex": null,
       "flex_flow": null,
       "grid_area": null,
       "grid_auto_columns": null,
       "grid_auto_flow": null,
       "grid_auto_rows": null,
       "grid_column": null,
       "grid_gap": null,
       "grid_row": null,
       "grid_template_areas": null,
       "grid_template_columns": null,
       "grid_template_rows": null,
       "height": null,
       "justify_content": null,
       "justify_items": null,
       "left": null,
       "margin": null,
       "max_height": null,
       "max_width": null,
       "min_height": null,
       "min_width": null,
       "object_fit": null,
       "object_position": null,
       "order": null,
       "overflow": null,
       "overflow_x": null,
       "overflow_y": null,
       "padding": null,
       "right": null,
       "top": null,
       "visibility": null,
       "width": null
      }
     },
     "94b06a19225e4f459cff00d6952e5037": {
      "model_module": "@jupyter-widgets/controls",
      "model_module_version": "1.5.0",
      "model_name": "IntProgressModel",
      "state": {
       "_dom_classes": [],
       "_model_module": "@jupyter-widgets/controls",
       "_model_module_version": "1.5.0",
       "_model_name": "IntProgressModel",
       "_view_count": null,
       "_view_module": "@jupyter-widgets/controls",
       "_view_module_version": "1.5.0",
       "_view_name": "ProgressView",
       "bar_style": "",
       "description": "Optimization Progress",
       "description_tooltip": null,
       "layout": "IPY_MODEL_d8c3a604f71f4f71a66e91a4200c31e7",
       "max": 2,
       "min": 0,
       "orientation": "horizontal",
       "style": "IPY_MODEL_9f245e3bc2664c29a9f34c0176886b93",
       "value": 2
      }
     },
     "9f245e3bc2664c29a9f34c0176886b93": {
      "model_module": "@jupyter-widgets/controls",
      "model_module_version": "1.5.0",
      "model_name": "ProgressStyleModel",
      "state": {
       "_model_module": "@jupyter-widgets/controls",
       "_model_module_version": "1.5.0",
       "_model_name": "ProgressStyleModel",
       "_view_count": null,
       "_view_module": "@jupyter-widgets/base",
       "_view_module_version": "1.2.0",
       "_view_name": "StyleView",
       "bar_color": null,
       "description_width": "initial"
      }
     },
     "ad2abe26f6f44ab1bda30337413e8c1d": {
      "model_module": "@jupyter-widgets/base",
      "model_module_version": "1.2.0",
      "model_name": "LayoutModel",
      "state": {
       "_model_module": "@jupyter-widgets/base",
       "_model_module_version": "1.2.0",
       "_model_name": "LayoutModel",
       "_view_count": null,
       "_view_module": "@jupyter-widgets/base",
       "_view_module_version": "1.2.0",
       "_view_name": "LayoutView",
       "align_content": null,
       "align_items": null,
       "align_self": null,
       "border": null,
       "bottom": null,
       "display": null,
       "flex": null,
       "flex_flow": null,
       "grid_area": null,
       "grid_auto_columns": null,
       "grid_auto_flow": null,
       "grid_auto_rows": null,
       "grid_column": null,
       "grid_gap": null,
       "grid_row": null,
       "grid_template_areas": null,
       "grid_template_columns": null,
       "grid_template_rows": null,
       "height": null,
       "justify_content": null,
       "justify_items": null,
       "left": null,
       "margin": null,
       "max_height": null,
       "max_width": null,
       "min_height": null,
       "min_width": null,
       "object_fit": null,
       "object_position": null,
       "order": null,
       "overflow": null,
       "overflow_x": null,
       "overflow_y": null,
       "padding": null,
       "right": null,
       "top": null,
       "visibility": null,
       "width": null
      }
     },
     "d8c3a604f71f4f71a66e91a4200c31e7": {
      "model_module": "@jupyter-widgets/base",
      "model_module_version": "1.2.0",
      "model_name": "LayoutModel",
      "state": {
       "_model_module": "@jupyter-widgets/base",
       "_model_module_version": "1.2.0",
       "_model_name": "LayoutModel",
       "_view_count": null,
       "_view_module": "@jupyter-widgets/base",
       "_view_module_version": "1.2.0",
       "_view_name": "LayoutView",
       "align_content": null,
       "align_items": null,
       "align_self": null,
       "border": null,
       "bottom": null,
       "display": null,
       "flex": null,
       "flex_flow": null,
       "grid_area": null,
       "grid_auto_columns": null,
       "grid_auto_flow": null,
       "grid_auto_rows": null,
       "grid_column": null,
       "grid_gap": null,
       "grid_row": null,
       "grid_template_areas": null,
       "grid_template_columns": null,
       "grid_template_rows": null,
       "height": null,
       "justify_content": null,
       "justify_items": null,
       "left": null,
       "margin": null,
       "max_height": null,
       "max_width": null,
       "min_height": null,
       "min_width": null,
       "object_fit": null,
       "object_position": null,
       "order": null,
       "overflow": null,
       "overflow_x": null,
       "overflow_y": null,
       "padding": null,
       "right": null,
       "top": null,
       "visibility": null,
       "width": null
      }
     },
     "e98da40ee025423faa243d7324e9ca0b": {
      "model_module": "@jupyter-widgets/controls",
      "model_module_version": "1.5.0",
      "model_name": "HTMLModel",
      "state": {
       "_dom_classes": [],
       "_model_module": "@jupyter-widgets/controls",
       "_model_module_version": "1.5.0",
       "_model_name": "HTMLModel",
       "_view_count": null,
       "_view_module": "@jupyter-widgets/controls",
       "_view_module_version": "1.5.0",
       "_view_name": "HTMLView",
       "description": "",
       "description_tooltip": null,
       "layout": "IPY_MODEL_7bd2d1608f124777a2ea17ffd41bcc0e",
       "placeholder": "​",
       "style": "IPY_MODEL_0f66695844eb459785bd4dfe897e5a76",
       "value": "100% 2/2 [00:08&lt;00:00,  4.22s/pipeline]"
      }
     }
    },
    "version_major": 2,
    "version_minor": 0
   }
  }
 },
 "nbformat": 4,
 "nbformat_minor": 0
}