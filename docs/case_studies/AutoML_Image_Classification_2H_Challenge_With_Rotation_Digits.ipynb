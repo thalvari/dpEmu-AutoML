{
 "cells": [
  {
   "cell_type": "markdown",
   "metadata": {
    "collapsed": false,
    "papermill": {
     "duration": 0.041904,
     "end_time": "2019-10-21T23:02:24.299837",
     "exception": false,
     "start_time": "2019-10-21T23:02:24.257933",
     "status": "completed"
    },
    "tags": []
   },
   "source": [
    "# AutoML Image Classification 2H Challenge: With Rotation (Digits)"
   ]
  },
  {
   "cell_type": "markdown",
   "metadata": {
    "collapsed": false,
    "papermill": {
     "duration": 0.028584,
     "end_time": "2019-10-21T23:02:24.360878",
     "exception": false,
     "start_time": "2019-10-21T23:02:24.332294",
     "status": "completed"
    },
    "tags": []
   },
   "source": [
    "![](imgs/rotation.png)"
   ]
  },
  {
   "cell_type": "code",
   "execution_count": 1,
   "metadata": {
    "collapsed": false,
    "papermill": {
     "duration": 13.138801,
     "end_time": "2019-10-21T23:02:37.526263",
     "exception": false,
     "start_time": "2019-10-21T23:02:24.387462",
     "status": "completed"
    },
    "pycharm": {
     "is_executing": false,
     "name": "#%%\n"
    },
    "tags": []
   },
   "outputs": [
    {
     "name": "stdout",
     "output_type": "stream",
     "text": [
      "Better speed can be achieved with apex installed from https://www.github.com/nvidia/apex.\n"
     ]
    }
   ],
   "source": [
    "import random as rn\n",
    "from abc import ABC, abstractmethod\n",
    "\n",
    "import autokeras as ak\n",
    "import h2o\n",
    "import matplotlib.pyplot as plt\n",
    "import numpy as np\n",
    "from h2o.automl import H2OAutoML\n",
    "from numpy.random import RandomState\n",
    "from sklearn.datasets import load_digits\n",
    "from sklearn.metrics import accuracy_score\n",
    "from sklearn.model_selection import train_test_split\n",
    "from tpot import TPOTClassifier\n",
    "\n",
    "from dpemu import runner\n",
    "from dpemu.filters.image import RotationPIL\n",
    "from dpemu.nodes import Array\n",
    "from dpemu.nodes.series import Series\n",
    "from dpemu.plotting_utils import visualize_scores, print_results_by_model\n",
    "from dpemu.utils import generate_tmpdir"
   ]
  },
  {
   "cell_type": "markdown",
   "metadata": {
    "collapsed": false,
    "papermill": {
     "duration": 0.037769,
     "end_time": "2019-10-21T23:02:37.605330",
     "exception": false,
     "start_time": "2019-10-21T23:02:37.567561",
     "status": "completed"
    },
    "pycharm": {
     "name": "#%% md\n"
    },
    "tags": []
   },
   "source": []
  },
  {
   "cell_type": "code",
   "execution_count": 2,
   "metadata": {
    "collapsed": false,
    "papermill": {
     "duration": 0.040364,
     "end_time": "2019-10-21T23:02:37.677397",
     "exception": false,
     "start_time": "2019-10-21T23:02:37.637033",
     "status": "completed"
    },
    "pycharm": {
     "is_executing": false,
     "name": "#%%\n"
    },
    "tags": []
   },
   "outputs": [],
   "source": [
    "def get_data():\n",
    "    random_state = RandomState(42)\n",
    "    digits = load_digits()\n",
    "    return train_test_split(digits[\"data\"], digits[\"target\"], test_size=.2, random_state=random_state)"
   ]
  },
  {
   "cell_type": "markdown",
   "metadata": {
    "collapsed": false,
    "papermill": {
     "duration": 0.023603,
     "end_time": "2019-10-21T23:02:37.726768",
     "exception": false,
     "start_time": "2019-10-21T23:02:37.703165",
     "status": "completed"
    },
    "pycharm": {
     "name": "#%% md\n"
    },
    "tags": []
   },
   "source": []
  },
  {
   "cell_type": "code",
   "execution_count": 3,
   "metadata": {
    "collapsed": false,
    "papermill": {
     "duration": 0.035328,
     "end_time": "2019-10-21T23:02:37.783110",
     "exception": false,
     "start_time": "2019-10-21T23:02:37.747782",
     "status": "completed"
    },
    "pycharm": {
     "is_executing": false,
     "name": "#%%\n"
    },
    "tags": []
   },
   "outputs": [],
   "source": [
    "def get_err_root_node():\n",
    "    err_img_node = Array(reshape=(8, 8))\n",
    "    err_root_node = Series(err_img_node)\n",
    "    err_img_node.addfilter(RotationPIL(\"max_angle\"))\n",
    "    return err_root_node"
   ]
  },
  {
   "cell_type": "markdown",
   "metadata": {
    "collapsed": false,
    "papermill": {
     "duration": 0.027342,
     "end_time": "2019-10-21T23:02:37.843567",
     "exception": false,
     "start_time": "2019-10-21T23:02:37.816225",
     "status": "completed"
    },
    "pycharm": {
     "name": "#%% md\n"
    },
    "tags": []
   },
   "source": []
  },
  {
   "cell_type": "code",
   "execution_count": 4,
   "metadata": {
    "collapsed": false,
    "papermill": {
     "duration": 0.038022,
     "end_time": "2019-10-21T23:02:37.906878",
     "exception": false,
     "start_time": "2019-10-21T23:02:37.868856",
     "status": "completed"
    },
    "pycharm": {
     "is_executing": false,
     "name": "#%%\n"
    },
    "tags": []
   },
   "outputs": [],
   "source": [
    "def get_err_params_list():\n",
    "    angle_steps = np.linspace(0, 84, num=8)\n",
    "    err_params_list = [{\"max_angle\": a} for a in angle_steps]\n",
    "    return err_params_list"
   ]
  },
  {
   "cell_type": "markdown",
   "metadata": {
    "collapsed": false,
    "papermill": {
     "duration": 0.021823,
     "end_time": "2019-10-21T23:02:37.951361",
     "exception": false,
     "start_time": "2019-10-21T23:02:37.929538",
     "status": "completed"
    },
    "pycharm": {
     "name": "#%% md\n"
    },
    "tags": []
   },
   "source": []
  },
  {
   "cell_type": "code",
   "execution_count": 5,
   "metadata": {
    "collapsed": false,
    "papermill": {
     "duration": 0.033221,
     "end_time": "2019-10-21T23:02:38.007768",
     "exception": false,
     "start_time": "2019-10-21T23:02:37.974547",
     "status": "completed"
    },
    "pycharm": {
     "is_executing": false,
     "name": "#%%\n"
    },
    "tags": []
   },
   "outputs": [],
   "source": [
    "class Preprocessor:\n",
    "\n",
    "    def run(self, train_data, test_data, params):\n",
    "        return train_data, test_data, {}"
   ]
  },
  {
   "cell_type": "markdown",
   "metadata": {
    "collapsed": false,
    "papermill": {
     "duration": 0.02011,
     "end_time": "2019-10-21T23:02:38.049562",
     "exception": false,
     "start_time": "2019-10-21T23:02:38.029452",
     "status": "completed"
    },
    "pycharm": {
     "name": "#%% md\n"
    },
    "tags": []
   },
   "source": []
  },
  {
   "cell_type": "code",
   "execution_count": 6,
   "metadata": {
    "collapsed": false,
    "papermill": {
     "duration": 0.084792,
     "end_time": "2019-10-21T23:02:38.155681",
     "exception": false,
     "start_time": "2019-10-21T23:02:38.070889",
     "status": "completed"
    },
    "pycharm": {
     "is_executing": false,
     "name": "#%%\n"
    },
    "tags": []
   },
   "outputs": [],
   "source": [
    "class AbstractModel(ABC):\n",
    "\n",
    "    def __init__(self):\n",
    "        self.time_limit_mins = 60*2\n",
    "        self.seed = 42\n",
    "        self.random_state = RandomState(self.seed)\n",
    "        np.random.seed(self.seed)\n",
    "\n",
    "    @abstractmethod\n",
    "    def get_fitted_model(self, train_data, train_labels, params):\n",
    "        pass\n",
    "\n",
    "    @abstractmethod\n",
    "    def get_accuracy(self, data, labels, fitted_model, params):\n",
    "        pass\n",
    "\n",
    "    @abstractmethod\n",
    "    def get_best_pipeline(self, fitted_model):\n",
    "        pass\n",
    "\n",
    "    def run(self, train_data, test_data, params):\n",
    "        train_labels = params[\"train_labels\"]\n",
    "        test_labels = params[\"test_labels\"]\n",
    "\n",
    "        fitted_model = self.get_fitted_model(train_data, train_labels, params)\n",
    "\n",
    "        return {\n",
    "            \"test_acc\": self.get_accuracy(test_data, test_labels, fitted_model, params),\n",
    "            \"train_acc\": self.get_accuracy(train_data, train_labels, fitted_model, params),\n",
    "            \"best_pipeline\": self.get_best_pipeline(fitted_model),\n",
    "        }\n",
    "\n",
    "class TPOTClassifierModel(AbstractModel):\n",
    "\n",
    "    def __init__(self):\n",
    "        super().__init__()\n",
    "\n",
    "    def get_fitted_model(self, train_data, train_labels, params):\n",
    "        return TPOTClassifier(\n",
    "            max_time_mins=self.time_limit_mins,\n",
    "            n_jobs=-1,\n",
    "            random_state=self.seed,\n",
    "            verbosity=1,\n",
    "        ).fit(train_data, train_labels)\n",
    "    \n",
    "    def get_accuracy(self, data, labels, fitted_model, params):\n",
    "        return round(fitted_model.score(data, labels), 3)\n",
    "\n",
    "    def get_best_pipeline(self, fitted_model):\n",
    "        return [step[1] for step in fitted_model.fitted_pipeline_.steps]\n",
    "\n",
    "class H2OAutoMLModel(AbstractModel):\n",
    "\n",
    "    def __init__(self):\n",
    "        super().__init__()\n",
    "        h2o.init(name=f\"#{rn.SystemRandom().randint(1, 2**30)}\")\n",
    "        h2o.no_progress()\n",
    "\n",
    "    def get_fitted_model(self, train_data, train_labels, params):\n",
    "        train_data = h2o.H2OFrame(np.concatenate((train_data, train_labels.reshape(-1, 1)), axis=1))\n",
    "        x = np.array(train_data.columns)[:-1].tolist()\n",
    "        y = np.array(train_data.columns)[-1].tolist()\n",
    "        train_data[y] = train_data[y].asfactor()\n",
    "        aml = H2OAutoML(max_runtime_secs=60*self.time_limit_mins, seed=self.seed)\n",
    "        aml.train(x=x, y=y, training_frame=train_data)\n",
    "        return aml\n",
    "\n",
    "    def get_accuracy(self, data, labels, fitted_model, params):\n",
    "        data = h2o.H2OFrame(np.concatenate((data, labels.reshape(-1, 1)), axis=1))\n",
    "        y = np.array(data.columns)[-1].tolist()\n",
    "        data[y] = data[y].asfactor()\n",
    "        pred = fitted_model.predict(data).as_data_frame(header=False)[\"predict\"].values.astype(int)\n",
    "        return np.round(np.mean(pred == labels), 3)\n",
    "\n",
    "    def get_best_pipeline(self, fitted_model):\n",
    "        leader_params = fitted_model.leader.get_params()\n",
    "        best_pipeline = [leader_params[\"model_id\"][\"actual_value\"][\"name\"]]\n",
    "        if \"base_models\" in leader_params:\n",
    "            for base_model in leader_params[\"base_models\"][\"actual_value\"]:\n",
    "                best_pipeline.append(base_model[\"name\"])\n",
    "        h2o.cluster().shutdown()\n",
    "        return best_pipeline\n",
    "\n",
    "class AutoKerasModel(AbstractModel):\n",
    "\n",
    "    def __init__(self):\n",
    "        super().__init__()\n",
    "        import tensorflow as tf\n",
    "        tf.set_random_seed(self.seed)\n",
    "        import torch\n",
    "        torch.multiprocessing.set_sharing_strategy(\"file_system\")\n",
    "        torch.manual_seed(self.seed)\n",
    "\n",
    "    def get_fitted_model(self, x_train, y_train, params):\n",
    "        s = np.sqrt(x_train.shape[1]).astype(int)\n",
    "        x_train = x_train.reshape((len(x_train), s, s)).astype(np.uint8)\n",
    "        x_train = x_train.reshape(x_train.shape + (1,))\n",
    "        y_train = y_train.astype(np.uint8)\n",
    "        clf = ak.ImageClassifier(augment=False, path=generate_tmpdir(), verbose=False)\n",
    "        clf.fit(x_train, y_train, time_limit=60*self.time_limit_mins)\n",
    "        return clf\n",
    "\n",
    "    def get_accuracy(self, x, y, clf, params):\n",
    "        s = np.sqrt(x.shape[1]).astype(int)\n",
    "        x = x.reshape((len(x), s, s)).astype(np.uint8)\n",
    "        x = x.reshape(x.shape + (1,))\n",
    "        y = y.astype(np.uint8)\n",
    "        y_pred = clf.predict(x)\n",
    "        return np.round(accuracy_score(y_true=y, y_pred=y_pred), 3)\n",
    "\n",
    "    def get_best_pipeline(self, clf):\n",
    "        return [m for i, m in enumerate(clf.cnn.best_model.produce_model().modules()) if i > 0]"
   ]
  },
  {
   "cell_type": "markdown",
   "metadata": {
    "collapsed": false,
    "papermill": {
     "duration": 0.030498,
     "end_time": "2019-10-21T23:02:38.222652",
     "exception": false,
     "start_time": "2019-10-21T23:02:38.192154",
     "status": "completed"
    },
    "pycharm": {
     "name": "#%% md\n"
    },
    "tags": []
   },
   "source": []
  },
  {
   "cell_type": "code",
   "execution_count": 7,
   "metadata": {
    "collapsed": false,
    "papermill": {
     "duration": 0.04328,
     "end_time": "2019-10-21T23:02:38.293727",
     "exception": false,
     "start_time": "2019-10-21T23:02:38.250447",
     "status": "completed"
    },
    "pycharm": {
     "is_executing": false,
     "name": "#%%\n"
    },
    "tags": []
   },
   "outputs": [],
   "source": [
    "def get_model_params_dict_list(train_labels, test_labels):\n",
    "    model_params_base = {\"train_labels\": train_labels, \"test_labels\": test_labels}\n",
    "    return [\n",
    "        {\n",
    "            \"model\": TPOTClassifierModel,\n",
    "            \"params_list\": [{**model_params_base}],\n",
    "            \"use_clean_train_data\": False\n",
    "        },\n",
    "        {\n",
    "            \"model\": TPOTClassifierModel,\n",
    "            \"params_list\": [{**model_params_base}],\n",
    "            \"use_clean_train_data\": True\n",
    "        },\n",
    "        {\n",
    "            \"model\": H2OAutoMLModel,\n",
    "            \"params_list\": [{**model_params_base}],\n",
    "            \"use_clean_train_data\": False\n",
    "        },\n",
    "        {\n",
    "            \"model\": H2OAutoMLModel,\n",
    "            \"params_list\": [{**model_params_base}],\n",
    "            \"use_clean_train_data\": True\n",
    "        },\n",
    "        {\n",
    "            \"model\": AutoKerasModel,\n",
    "            \"params_list\": [{**model_params_base}],\n",
    "            \"use_clean_train_data\": False\n",
    "        },\n",
    "        {\n",
    "            \"model\": AutoKerasModel,\n",
    "            \"params_list\": [{**model_params_base}],\n",
    "            \"use_clean_train_data\": True\n",
    "        },\n",
    "    ]"
   ]
  },
  {
   "cell_type": "markdown",
   "metadata": {
    "collapsed": false,
    "papermill": {
     "duration": 0.02611,
     "end_time": "2019-10-21T23:02:38.348568",
     "exception": false,
     "start_time": "2019-10-21T23:02:38.322458",
     "status": "completed"
    },
    "pycharm": {
     "is_executing": false,
     "name": "#%% md\n"
    },
    "tags": []
   },
   "source": []
  },
  {
   "cell_type": "code",
   "execution_count": 8,
   "metadata": {
    "collapsed": false,
    "papermill": {
     "duration": 0.035203,
     "end_time": "2019-10-21T23:02:38.408583",
     "exception": false,
     "start_time": "2019-10-21T23:02:38.373380",
     "status": "completed"
    },
    "pycharm": {
     "name": "#%%\n"
    },
    "tags": []
   },
   "outputs": [],
   "source": [
    "def visualize(df):\n",
    "    visualize_scores(\n",
    "        df,\n",
    "        score_names=[\"test_acc\", \"train_acc\"],\n",
    "        is_higher_score_better=[True, True],\n",
    "        err_param_name=\"max_angle\",\n",
    "        title=\"Classification scores with added error\"\n",
    "    )\n",
    "    plt.show()"
   ]
  },
  {
   "cell_type": "markdown",
   "metadata": {
    "collapsed": false,
    "papermill": {
     "duration": 0.022569,
     "end_time": "2019-10-21T23:02:38.454204",
     "exception": false,
     "start_time": "2019-10-21T23:02:38.431635",
     "status": "completed"
    },
    "pycharm": {
     "is_executing": false,
     "name": "#%% md\n"
    },
    "tags": []
   },
   "source": []
  },
  {
   "cell_type": "code",
   "execution_count": 9,
   "metadata": {
    "collapsed": false,
    "papermill": {
     "duration": 45661.418401,
     "end_time": "2019-10-22T11:43:39.893886",
     "exception": false,
     "start_time": "2019-10-21T23:02:38.475485",
     "status": "completed"
    },
    "pycharm": {
     "name": "#%%\n"
    },
    "tags": []
   },
   "outputs": [
    {
     "name": "stderr",
     "output_type": "stream",
     "text": [
      "\r",
      "  0%|          | 0/8 [00:00<?, ?it/s]"
     ]
    },
    {
     "name": "stdout",
     "output_type": "stream",
     "text": [
      "\n"
     ]
    },
    {
     "name": "stdout",
     "output_type": "stream",
     "text": [
      "120.46414421666667 minutes have elapsed. TPOT will close down.\n",
      "TPOT closed during evaluation in one generation.\n",
      "WARNING: TPOT may not provide a good pipeline if TPOT is stopped/interrupted in a early generation."
     ]
    },
    {
     "name": "stdout",
     "output_type": "stream",
     "text": [
      "\n"
     ]
    },
    {
     "name": "stdout",
     "output_type": "stream",
     "text": [
      "\n"
     ]
    },
    {
     "name": "stdout",
     "output_type": "stream",
     "text": [
      "\n",
      "TPOT closed prematurely. Will use the current best pipeline."
     ]
    },
    {
     "name": "stdout",
     "output_type": "stream",
     "text": [
      "\n"
     ]
    },
    {
     "name": "stdout",
     "output_type": "stream",
     "text": [
      "Best pipeline:"
     ]
    },
    {
     "name": "stdout",
     "output_type": "stream",
     "text": [
      " "
     ]
    },
    {
     "name": "stdout",
     "output_type": "stream",
     "text": [
      "LogisticRegression(ZeroCount(PolynomialFeatures(input_matrix, degree=2, include_bias=False, interaction_only=False)), C=0.1, dual=False, penalty=l2)"
     ]
    },
    {
     "name": "stdout",
     "output_type": "stream",
     "text": [
      "\n"
     ]
    },
    {
     "name": "stdout",
     "output_type": "stream",
     "text": [
      "\n"
     ]
    },
    {
     "name": "stdout",
     "output_type": "stream",
     "text": [
      "121.64091423333333 minutes have elapsed. TPOT will close down.\n",
      "TPOT closed during evaluation in one generation.\n",
      "WARNING: TPOT may not provide a good pipeline if TPOT is stopped/interrupted in a early generation."
     ]
    },
    {
     "name": "stdout",
     "output_type": "stream",
     "text": [
      "\n"
     ]
    },
    {
     "name": "stdout",
     "output_type": "stream",
     "text": [
      "\n"
     ]
    },
    {
     "name": "stdout",
     "output_type": "stream",
     "text": [
      "\n",
      "TPOT closed prematurely. Will use the current best pipeline."
     ]
    },
    {
     "name": "stdout",
     "output_type": "stream",
     "text": [
      "\n"
     ]
    },
    {
     "name": "stdout",
     "output_type": "stream",
     "text": [
      "Best pipeline:"
     ]
    },
    {
     "name": "stdout",
     "output_type": "stream",
     "text": [
      " "
     ]
    },
    {
     "name": "stdout",
     "output_type": "stream",
     "text": [
      "KNeighborsClassifier(MinMaxScaler(SelectFromModel(ExtraTreesClassifier(input_matrix, bootstrap=False, criterion=entropy, max_features=0.9000000000000001, min_samples_leaf=6, min_samples_split=8, n_estimators=100), criterion=gini, max_features=0.1, n_estimators=100, threshold=0.0)), n_neighbors=1, p=2, weights=distance)"
     ]
    },
    {
     "name": "stdout",
     "output_type": "stream",
     "text": [
      "\n"
     ]
    },
    {
     "name": "stdout",
     "output_type": "stream",
     "text": [
      "\n"
     ]
    },
    {
     "name": "stdout",
     "output_type": "stream",
     "text": [
      "121.75994996666667 minutes have elapsed. TPOT will close down.\n",
      "TPOT closed during evaluation in one generation.\n",
      "WARNING: TPOT may not provide a good pipeline if TPOT is stopped/interrupted in a early generation."
     ]
    },
    {
     "name": "stdout",
     "output_type": "stream",
     "text": [
      "\n"
     ]
    },
    {
     "name": "stdout",
     "output_type": "stream",
     "text": [
      "\n"
     ]
    },
    {
     "name": "stdout",
     "output_type": "stream",
     "text": [
      "\n",
      "TPOT closed prematurely. Will use the current best pipeline."
     ]
    },
    {
     "name": "stdout",
     "output_type": "stream",
     "text": [
      "\n"
     ]
    },
    {
     "name": "stdout",
     "output_type": "stream",
     "text": [
      "Best pipeline:"
     ]
    },
    {
     "name": "stdout",
     "output_type": "stream",
     "text": [
      " "
     ]
    },
    {
     "name": "stdout",
     "output_type": "stream",
     "text": [
      "KNeighborsClassifier(MinMaxScaler(ExtraTreesClassifier(input_matrix, bootstrap=False, criterion=gini, max_features=0.25, min_samples_leaf=6, min_samples_split=4, n_estimators=100)), n_neighbors=7, p=2, weights=distance)"
     ]
    },
    {
     "name": "stdout",
     "output_type": "stream",
     "text": [
      "\n"
     ]
    },
    {
     "name": "stdout",
     "output_type": "stream",
     "text": [
      "\n"
     ]
    },
    {
     "name": "stdout",
     "output_type": "stream",
     "text": [
      "121.8434793 minutes have elapsed. TPOT will close down.\n",
      "TPOT closed during evaluation in one generation.\n",
      "WARNING: TPOT may not provide a good pipeline if TPOT is stopped/interrupted in a early generation."
     ]
    },
    {
     "name": "stdout",
     "output_type": "stream",
     "text": [
      "\n"
     ]
    },
    {
     "name": "stdout",
     "output_type": "stream",
     "text": [
      "\n"
     ]
    },
    {
     "name": "stdout",
     "output_type": "stream",
     "text": [
      "\n",
      "TPOT closed prematurely. Will use the current best pipeline."
     ]
    },
    {
     "name": "stdout",
     "output_type": "stream",
     "text": [
      "\n"
     ]
    },
    {
     "name": "stdout",
     "output_type": "stream",
     "text": [
      "Best pipeline:"
     ]
    },
    {
     "name": "stdout",
     "output_type": "stream",
     "text": [
      " "
     ]
    },
    {
     "name": "stdout",
     "output_type": "stream",
     "text": [
      "KNeighborsClassifier(StandardScaler(ExtraTreesClassifier(input_matrix, bootstrap=False, criterion=gini, max_features=0.9500000000000001, min_samples_leaf=1, min_samples_split=16, n_estimators=100)), n_neighbors=15, p=1, weights=distance)"
     ]
    },
    {
     "name": "stdout",
     "output_type": "stream",
     "text": [
      "\n"
     ]
    },
    {
     "name": "stdout",
     "output_type": "stream",
     "text": [
      "\n"
     ]
    },
    {
     "name": "stdout",
     "output_type": "stream",
     "text": [
      "124.25910760000001 minutes have elapsed. TPOT will close down.\n",
      "TPOT closed during evaluation in one generation.\n",
      "WARNING: TPOT may not provide a good pipeline if TPOT is stopped/interrupted in a early generation."
     ]
    },
    {
     "name": "stdout",
     "output_type": "stream",
     "text": [
      "\n"
     ]
    },
    {
     "name": "stdout",
     "output_type": "stream",
     "text": [
      "\n"
     ]
    },
    {
     "name": "stdout",
     "output_type": "stream",
     "text": [
      "\n",
      "TPOT closed prematurely. Will use the current best pipeline."
     ]
    },
    {
     "name": "stdout",
     "output_type": "stream",
     "text": [
      "\n"
     ]
    },
    {
     "name": "stdout",
     "output_type": "stream",
     "text": [
      "Best pipeline:"
     ]
    },
    {
     "name": "stdout",
     "output_type": "stream",
     "text": [
      " "
     ]
    },
    {
     "name": "stdout",
     "output_type": "stream",
     "text": [
      "KNeighborsClassifier(BernoulliNB(input_matrix, alpha=0.1, fit_prior=True), n_neighbors=3, p=2, weights=uniform)"
     ]
    },
    {
     "name": "stdout",
     "output_type": "stream",
     "text": [
      "\n"
     ]
    },
    {
     "name": "stdout",
     "output_type": "stream",
     "text": [
      "\n"
     ]
    },
    {
     "name": "stdout",
     "output_type": "stream",
     "text": [
      "124.30342311666666 minutes have elapsed. TPOT will close down.\n",
      "TPOT closed during evaluation in one generation.\n",
      "WARNING: TPOT may not provide a good pipeline if TPOT is stopped/interrupted in a early generation."
     ]
    },
    {
     "name": "stdout",
     "output_type": "stream",
     "text": [
      "\n"
     ]
    },
    {
     "name": "stdout",
     "output_type": "stream",
     "text": [
      "\n"
     ]
    },
    {
     "name": "stdout",
     "output_type": "stream",
     "text": [
      "\n",
      "TPOT closed prematurely. Will use the current best pipeline."
     ]
    },
    {
     "name": "stdout",
     "output_type": "stream",
     "text": [
      "\n"
     ]
    },
    {
     "name": "stdout",
     "output_type": "stream",
     "text": [
      "Best pipeline:"
     ]
    },
    {
     "name": "stdout",
     "output_type": "stream",
     "text": [
      " "
     ]
    },
    {
     "name": "stdout",
     "output_type": "stream",
     "text": [
      "LogisticRegression(PolynomialFeatures(OneHotEncoder(GaussianNB(SelectFwe(input_matrix, alpha=0.012)), minimum_fraction=0.25, sparse=False, threshold=10), degree=2, include_bias=False, interaction_only=False), C=10.0, dual=False, penalty=l2)"
     ]
    },
    {
     "name": "stdout",
     "output_type": "stream",
     "text": [
      "\n"
     ]
    },
    {
     "name": "stdout",
     "output_type": "stream",
     "text": [
      "\n"
     ]
    },
    {
     "name": "stdout",
     "output_type": "stream",
     "text": [
      "140.09999340000002 minutes have elapsed. TPOT will close down.\n",
      "TPOT closed during evaluation in one generation.\n",
      "WARNING: TPOT may not provide a good pipeline if TPOT is stopped/interrupted in a early generation."
     ]
    },
    {
     "name": "stdout",
     "output_type": "stream",
     "text": [
      "\n"
     ]
    },
    {
     "name": "stdout",
     "output_type": "stream",
     "text": [
      "\n"
     ]
    },
    {
     "name": "stdout",
     "output_type": "stream",
     "text": [
      "\n",
      "TPOT closed prematurely. Will use the current best pipeline."
     ]
    },
    {
     "name": "stdout",
     "output_type": "stream",
     "text": [
      "\n"
     ]
    },
    {
     "name": "stdout",
     "output_type": "stream",
     "text": [
      "Best pipeline:"
     ]
    },
    {
     "name": "stdout",
     "output_type": "stream",
     "text": [
      " "
     ]
    },
    {
     "name": "stdout",
     "output_type": "stream",
     "text": [
      "LogisticRegression(PolynomialFeatures(StandardScaler(input_matrix), degree=2, include_bias=False, interaction_only=False), C=25.0, dual=False, penalty=l1)"
     ]
    },
    {
     "name": "stdout",
     "output_type": "stream",
     "text": [
      "\n"
     ]
    },
    {
     "name": "stdout",
     "output_type": "stream",
     "text": [
      "\n"
     ]
    },
    {
     "name": "stdout",
     "output_type": "stream",
     "text": [
      "149.92358608333333 minutes have elapsed. TPOT will close down.\n",
      "TPOT closed during evaluation in one generation.\n",
      "WARNING: TPOT may not provide a good pipeline if TPOT is stopped/interrupted in a early generation."
     ]
    },
    {
     "name": "stdout",
     "output_type": "stream",
     "text": [
      "\n"
     ]
    },
    {
     "name": "stdout",
     "output_type": "stream",
     "text": [
      "\n"
     ]
    },
    {
     "name": "stdout",
     "output_type": "stream",
     "text": [
      "\n",
      "TPOT closed prematurely. Will use the current best pipeline."
     ]
    },
    {
     "name": "stdout",
     "output_type": "stream",
     "text": [
      "\n"
     ]
    },
    {
     "name": "stdout",
     "output_type": "stream",
     "text": [
      "Best pipeline:"
     ]
    },
    {
     "name": "stdout",
     "output_type": "stream",
     "text": [
      " "
     ]
    },
    {
     "name": "stdout",
     "output_type": "stream",
     "text": [
      "LogisticRegression(PolynomialFeatures(input_matrix, degree=2, include_bias=False, interaction_only=False), C=10.0, dual=False, penalty=l2)"
     ]
    },
    {
     "name": "stdout",
     "output_type": "stream",
     "text": [
      "\n"
     ]
    },
    {
     "name": "stdout",
     "output_type": "stream",
     "text": [
      "\n"
     ]
    },
    {
     "name": "stdout",
     "output_type": "stream",
     "text": [
      "120.64045205000001 minutes have elapsed. TPOT will close down.\n",
      "TPOT closed during evaluation in one generation.\n",
      "WARNING: TPOT may not provide a good pipeline if TPOT is stopped/interrupted in a early generation."
     ]
    },
    {
     "name": "stdout",
     "output_type": "stream",
     "text": [
      "\n"
     ]
    },
    {
     "name": "stdout",
     "output_type": "stream",
     "text": [
      "\n"
     ]
    },
    {
     "name": "stdout",
     "output_type": "stream",
     "text": [
      "\n",
      "TPOT closed prematurely. Will use the current best pipeline."
     ]
    },
    {
     "name": "stdout",
     "output_type": "stream",
     "text": [
      "\n"
     ]
    },
    {
     "name": "stdout",
     "output_type": "stream",
     "text": [
      "Best pipeline:"
     ]
    },
    {
     "name": "stdout",
     "output_type": "stream",
     "text": [
      " "
     ]
    },
    {
     "name": "stdout",
     "output_type": "stream",
     "text": [
      "KNeighborsClassifier(PCA(MultinomialNB(input_matrix, alpha=0.001, fit_prior=True), iterated_power=10, svd_solver=randomized), n_neighbors=3, p=1, weights=distance)"
     ]
    },
    {
     "name": "stdout",
     "output_type": "stream",
     "text": [
      "\n"
     ]
    },
    {
     "name": "stdout",
     "output_type": "stream",
     "text": [
      "Checking whether there is an H2O instance running at http://localhost:54321 "
     ]
    },
    {
     "name": "stdout",
     "output_type": "stream",
     "text": [
      "."
     ]
    },
    {
     "name": "stdout",
     "output_type": "stream",
     "text": [
      "."
     ]
    },
    {
     "name": "stdout",
     "output_type": "stream",
     "text": [
      "."
     ]
    },
    {
     "name": "stdout",
     "output_type": "stream",
     "text": [
      "."
     ]
    },
    {
     "name": "stdout",
     "output_type": "stream",
     "text": [
      "."
     ]
    },
    {
     "name": "stdout",
     "output_type": "stream",
     "text": [
      " not found."
     ]
    },
    {
     "name": "stdout",
     "output_type": "stream",
     "text": [
      "\n"
     ]
    },
    {
     "name": "stdout",
     "output_type": "stream",
     "text": [
      "Attempting to start a local H2O server..."
     ]
    },
    {
     "name": "stdout",
     "output_type": "stream",
     "text": [
      "\n"
     ]
    },
    {
     "name": "stdout",
     "output_type": "stream",
     "text": [
      "  Java Version: openjdk version \"1.8.0_222\"; OpenJDK Runtime Environment (build 1.8.0_222-b10); OpenJDK 64-Bit Server VM (build 25.222-b10, mixed mode)"
     ]
    },
    {
     "name": "stdout",
     "output_type": "stream",
     "text": [
      "\n"
     ]
    },
    {
     "name": "stdout",
     "output_type": "stream",
     "text": [
      "  Starting server from /wrk/users/thalvari/dpEmu/venv/lib/python3.6/site-packages/h2o/backend/bin/h2o.jar"
     ]
    },
    {
     "name": "stdout",
     "output_type": "stream",
     "text": [
      "\n"
     ]
    },
    {
     "name": "stdout",
     "output_type": "stream",
     "text": [
      "  Ice root: /wrk/users/thalvari/tmpt18ytis6"
     ]
    },
    {
     "name": "stdout",
     "output_type": "stream",
     "text": [
      "\n"
     ]
    },
    {
     "name": "stdout",
     "output_type": "stream",
     "text": [
      "  JVM stdout: /wrk/users/thalvari/tmpt18ytis6/h2o_thalvari_started_from_python.out"
     ]
    },
    {
     "name": "stdout",
     "output_type": "stream",
     "text": [
      "\n"
     ]
    },
    {
     "name": "stdout",
     "output_type": "stream",
     "text": [
      "  JVM stderr: /wrk/users/thalvari/tmpt18ytis6/h2o_thalvari_started_from_python.err"
     ]
    },
    {
     "name": "stdout",
     "output_type": "stream",
     "text": [
      "\n"
     ]
    },
    {
     "name": "stdout",
     "output_type": "stream",
     "text": [
      "  Server is running at http://127.0.0.1:54321"
     ]
    },
    {
     "name": "stdout",
     "output_type": "stream",
     "text": [
      "\n"
     ]
    },
    {
     "name": "stdout",
     "output_type": "stream",
     "text": [
      "Connecting to H2O server at http://127.0.0.1:54321 .."
     ]
    },
    {
     "name": "stdout",
     "output_type": "stream",
     "text": [
      "."
     ]
    },
    {
     "name": "stdout",
     "output_type": "stream",
     "text": [
      " successful."
     ]
    },
    {
     "name": "stdout",
     "output_type": "stream",
     "text": [
      "\n"
     ]
    },
    {
     "data": {
      "text/html": [
       "<div style=\"overflow:auto\"><table style=\"width:50%\"><tr><td>H2O cluster uptime:</td>\n",
       "<td>05 secs</td></tr>\n",
       "<tr><td>H2O cluster timezone:</td>\n",
       "<td>Europe/Helsinki</td></tr>\n",
       "<tr><td>H2O data parsing timezone:</td>\n",
       "<td>UTC</td></tr>\n",
       "<tr><td>H2O cluster version:</td>\n",
       "<td>3.26.0.8</td></tr>\n",
       "<tr><td>H2O cluster version age:</td>\n",
       "<td>4 days </td></tr>\n",
       "<tr><td>H2O cluster name:</td>\n",
       "<td>#663264232</td></tr>\n",
       "<tr><td>H2O cluster total nodes:</td>\n",
       "<td>1</td></tr>\n",
       "<tr><td>H2O cluster free memory:</td>\n",
       "<td>26.63 Gb</td></tr>\n",
       "<tr><td>H2O cluster total cores:</td>\n",
       "<td>16</td></tr>\n",
       "<tr><td>H2O cluster allowed cores:</td>\n",
       "<td>16</td></tr>\n",
       "<tr><td>H2O cluster status:</td>\n",
       "<td>accepting new members, healthy</td></tr>\n",
       "<tr><td>H2O connection url:</td>\n",
       "<td>http://127.0.0.1:54321</td></tr>\n",
       "<tr><td>H2O connection proxy:</td>\n",
       "<td>{'http': None, 'https': None}</td></tr>\n",
       "<tr><td>H2O internal security:</td>\n",
       "<td>False</td></tr>\n",
       "<tr><td>H2O API Extensions:</td>\n",
       "<td>Amazon S3, XGBoost, Algos, AutoML, Core V3, TargetEncoder, Core V4</td></tr>\n",
       "<tr><td>Python version:</td>\n",
       "<td>3.6.6 final</td></tr></table></div>"
      ],
      "text/plain": [
       "--------------------------  ------------------------------------------------------------------\n",
       "H2O cluster uptime:         05 secs\n",
       "H2O cluster timezone:       Europe/Helsinki\n",
       "H2O data parsing timezone:  UTC\n",
       "H2O cluster version:        3.26.0.8\n",
       "H2O cluster version age:    4 days\n",
       "H2O cluster name:           #663264232\n",
       "H2O cluster total nodes:    1\n",
       "H2O cluster free memory:    26.63 Gb\n",
       "H2O cluster total cores:    16\n",
       "H2O cluster allowed cores:  16\n",
       "H2O cluster status:         accepting new members, healthy\n",
       "H2O connection url:         http://127.0.0.1:54321\n",
       "H2O connection proxy:       {'http': None, 'https': None}\n",
       "H2O internal security:      False\n",
       "H2O API Extensions:         Amazon S3, XGBoost, Algos, AutoML, Core V3, TargetEncoder, Core V4\n",
       "Python version:             3.6.6 final\n",
       "--------------------------  ------------------------------------------------------------------"
      ]
     },
     "metadata": {},
     "output_type": "display_data"
    },
    {
     "name": "stdout",
     "output_type": "stream",
     "text": [
      "\n"
     ]
    },
    {
     "name": "stdout",
     "output_type": "stream",
     "text": [
      "121.78101433333333 minutes have elapsed. TPOT will close down.\n",
      "TPOT closed during evaluation in one generation.\n",
      "WARNING: TPOT may not provide a good pipeline if TPOT is stopped/interrupted in a early generation."
     ]
    },
    {
     "name": "stdout",
     "output_type": "stream",
     "text": [
      "\n"
     ]
    },
    {
     "name": "stdout",
     "output_type": "stream",
     "text": [
      "\n"
     ]
    },
    {
     "name": "stdout",
     "output_type": "stream",
     "text": [
      "\n",
      "TPOT closed prematurely. Will use the current best pipeline."
     ]
    },
    {
     "name": "stdout",
     "output_type": "stream",
     "text": [
      "\n"
     ]
    },
    {
     "name": "stdout",
     "output_type": "stream",
     "text": [
      "Best pipeline:"
     ]
    },
    {
     "name": "stdout",
     "output_type": "stream",
     "text": [
      " "
     ]
    },
    {
     "name": "stdout",
     "output_type": "stream",
     "text": [
      "KNeighborsClassifier(PCA(MultinomialNB(input_matrix, alpha=0.001, fit_prior=True), iterated_power=10, svd_solver=randomized), n_neighbors=3, p=1, weights=distance)"
     ]
    },
    {
     "name": "stdout",
     "output_type": "stream",
     "text": [
      "\n"
     ]
    },
    {
     "name": "stdout",
     "output_type": "stream",
     "text": [
      "\n"
     ]
    },
    {
     "name": "stdout",
     "output_type": "stream",
     "text": [
      "121.75159201666666 minutes have elapsed. TPOT will close down.\n",
      "TPOT closed during evaluation in one generation.\n",
      "WARNING: TPOT may not provide a good pipeline if TPOT is stopped/interrupted in a early generation."
     ]
    },
    {
     "name": "stdout",
     "output_type": "stream",
     "text": [
      "\n"
     ]
    },
    {
     "name": "stdout",
     "output_type": "stream",
     "text": [
      "\n"
     ]
    },
    {
     "name": "stdout",
     "output_type": "stream",
     "text": [
      "\n",
      "TPOT closed prematurely. Will use the current best pipeline."
     ]
    },
    {
     "name": "stdout",
     "output_type": "stream",
     "text": [
      "\n"
     ]
    },
    {
     "name": "stdout",
     "output_type": "stream",
     "text": [
      "Checking whether there is an H2O instance running at http://localhost:54321 "
     ]
    },
    {
     "name": "stdout",
     "output_type": "stream",
     "text": [
      "."
     ]
    },
    {
     "name": "stdout",
     "output_type": "stream",
     "text": [
      "."
     ]
    },
    {
     "name": "stdout",
     "output_type": "stream",
     "text": [
      "."
     ]
    },
    {
     "name": "stdout",
     "output_type": "stream",
     "text": [
      "Best pipeline:"
     ]
    },
    {
     "name": "stdout",
     "output_type": "stream",
     "text": [
      " "
     ]
    },
    {
     "name": "stdout",
     "output_type": "stream",
     "text": [
      "KNeighborsClassifier(PCA(MultinomialNB(input_matrix, alpha=0.001, fit_prior=True), iterated_power=10, svd_solver=randomized), n_neighbors=3, p=1, weights=distance)"
     ]
    },
    {
     "name": "stdout",
     "output_type": "stream",
     "text": [
      "\n"
     ]
    },
    {
     "name": "stdout",
     "output_type": "stream",
     "text": [
      "."
     ]
    },
    {
     "name": "stdout",
     "output_type": "stream",
     "text": [
      "."
     ]
    },
    {
     "name": "stdout",
     "output_type": "stream",
     "text": [
      " not found."
     ]
    },
    {
     "name": "stdout",
     "output_type": "stream",
     "text": [
      "\n"
     ]
    },
    {
     "name": "stdout",
     "output_type": "stream",
     "text": [
      "Attempting to start a local H2O server..."
     ]
    },
    {
     "name": "stdout",
     "output_type": "stream",
     "text": [
      "\n"
     ]
    },
    {
     "name": "stdout",
     "output_type": "stream",
     "text": [
      "  Java Version: openjdk version \"1.8.0_222\"; OpenJDK Runtime Environment (build 1.8.0_222-b10); OpenJDK 64-Bit Server VM (build 25.222-b10, mixed mode)"
     ]
    },
    {
     "name": "stdout",
     "output_type": "stream",
     "text": [
      "\n"
     ]
    },
    {
     "name": "stdout",
     "output_type": "stream",
     "text": [
      "  Starting server from /wrk/users/thalvari/dpEmu/venv/lib/python3.6/site-packages/h2o/backend/bin/h2o.jar"
     ]
    },
    {
     "name": "stdout",
     "output_type": "stream",
     "text": [
      "\n"
     ]
    },
    {
     "name": "stdout",
     "output_type": "stream",
     "text": [
      "  Ice root: /wrk/users/thalvari/tmpnc9y2gam"
     ]
    },
    {
     "name": "stdout",
     "output_type": "stream",
     "text": [
      "\n"
     ]
    },
    {
     "name": "stdout",
     "output_type": "stream",
     "text": [
      "  JVM stdout: /wrk/users/thalvari/tmpnc9y2gam/h2o_thalvari_started_from_python.out"
     ]
    },
    {
     "name": "stdout",
     "output_type": "stream",
     "text": [
      "\n"
     ]
    },
    {
     "name": "stdout",
     "output_type": "stream",
     "text": [
      "  JVM stderr: /wrk/users/thalvari/tmpnc9y2gam/h2o_thalvari_started_from_python.err"
     ]
    },
    {
     "name": "stdout",
     "output_type": "stream",
     "text": [
      "\n"
     ]
    },
    {
     "name": "stdout",
     "output_type": "stream",
     "text": [
      "Checking whether there is an H2O instance running at http://localhost:54321 "
     ]
    },
    {
     "name": "stdout",
     "output_type": "stream",
     "text": [
      "."
     ]
    },
    {
     "name": "stdout",
     "output_type": "stream",
     "text": [
      "."
     ]
    },
    {
     "name": "stdout",
     "output_type": "stream",
     "text": [
      "."
     ]
    },
    {
     "name": "stdout",
     "output_type": "stream",
     "text": [
      "."
     ]
    },
    {
     "name": "stdout",
     "output_type": "stream",
     "text": [
      "."
     ]
    },
    {
     "name": "stdout",
     "output_type": "stream",
     "text": [
      " not found."
     ]
    },
    {
     "name": "stdout",
     "output_type": "stream",
     "text": [
      "\n"
     ]
    },
    {
     "name": "stdout",
     "output_type": "stream",
     "text": [
      "Attempting to start a local H2O server..."
     ]
    },
    {
     "name": "stdout",
     "output_type": "stream",
     "text": [
      "\n"
     ]
    },
    {
     "name": "stdout",
     "output_type": "stream",
     "text": [
      "  Java Version: openjdk version \"1.8.0_222\"; OpenJDK Runtime Environment (build 1.8.0_222-b10); OpenJDK 64-Bit Server VM (build 25.222-b10, mixed mode)"
     ]
    },
    {
     "name": "stdout",
     "output_type": "stream",
     "text": [
      "\n"
     ]
    },
    {
     "name": "stdout",
     "output_type": "stream",
     "text": [
      "  Starting server from /wrk/users/thalvari/dpEmu/venv/lib/python3.6/site-packages/h2o/backend/bin/h2o.jar"
     ]
    },
    {
     "name": "stdout",
     "output_type": "stream",
     "text": [
      "\n"
     ]
    },
    {
     "name": "stdout",
     "output_type": "stream",
     "text": [
      "  Ice root: /wrk/users/thalvari/tmpngz6enm6"
     ]
    },
    {
     "name": "stdout",
     "output_type": "stream",
     "text": [
      "\n"
     ]
    },
    {
     "name": "stdout",
     "output_type": "stream",
     "text": [
      "  JVM stdout: /wrk/users/thalvari/tmpngz6enm6/h2o_thalvari_started_from_python.out"
     ]
    },
    {
     "name": "stdout",
     "output_type": "stream",
     "text": [
      "\n"
     ]
    },
    {
     "name": "stdout",
     "output_type": "stream",
     "text": [
      "  JVM stderr: /wrk/users/thalvari/tmpngz6enm6/h2o_thalvari_started_from_python.err"
     ]
    },
    {
     "name": "stdout",
     "output_type": "stream",
     "text": [
      "\n"
     ]
    },
    {
     "name": "stdout",
     "output_type": "stream",
     "text": [
      "  Server is running at http://127.0.0.1:54323"
     ]
    },
    {
     "name": "stdout",
     "output_type": "stream",
     "text": [
      "\n"
     ]
    },
    {
     "name": "stdout",
     "output_type": "stream",
     "text": [
      "Connecting to H2O server at http://127.0.0.1:54323 .."
     ]
    },
    {
     "name": "stdout",
     "output_type": "stream",
     "text": [
      "."
     ]
    },
    {
     "name": "stdout",
     "output_type": "stream",
     "text": [
      " successful."
     ]
    },
    {
     "name": "stdout",
     "output_type": "stream",
     "text": [
      "\n"
     ]
    },
    {
     "data": {
      "text/html": [
       "<div style=\"overflow:auto\"><table style=\"width:50%\"><tr><td>H2O cluster uptime:</td>\n",
       "<td>04 secs</td></tr>\n",
       "<tr><td>H2O cluster timezone:</td>\n",
       "<td>Europe/Helsinki</td></tr>\n",
       "<tr><td>H2O data parsing timezone:</td>\n",
       "<td>UTC</td></tr>\n",
       "<tr><td>H2O cluster version:</td>\n",
       "<td>3.26.0.8</td></tr>\n",
       "<tr><td>H2O cluster version age:</td>\n",
       "<td>4 days </td></tr>\n",
       "<tr><td>H2O cluster name:</td>\n",
       "<td>#690683465</td></tr>\n",
       "<tr><td>H2O cluster total nodes:</td>\n",
       "<td>1</td></tr>\n",
       "<tr><td>H2O cluster free memory:</td>\n",
       "<td>26.62 Gb</td></tr>\n",
       "<tr><td>H2O cluster total cores:</td>\n",
       "<td>16</td></tr>\n",
       "<tr><td>H2O cluster allowed cores:</td>\n",
       "<td>16</td></tr>\n",
       "<tr><td>H2O cluster status:</td>\n",
       "<td>accepting new members, healthy</td></tr>\n",
       "<tr><td>H2O connection url:</td>\n",
       "<td>http://127.0.0.1:54323</td></tr>\n",
       "<tr><td>H2O connection proxy:</td>\n",
       "<td>{'http': None, 'https': None}</td></tr>\n",
       "<tr><td>H2O internal security:</td>\n",
       "<td>False</td></tr>\n",
       "<tr><td>H2O API Extensions:</td>\n",
       "<td>Amazon S3, XGBoost, Algos, AutoML, Core V3, TargetEncoder, Core V4</td></tr>\n",
       "<tr><td>Python version:</td>\n",
       "<td>3.6.6 final</td></tr></table></div>"
      ],
      "text/plain": [
       "--------------------------  ------------------------------------------------------------------\n",
       "H2O cluster uptime:         04 secs\n",
       "H2O cluster timezone:       Europe/Helsinki\n",
       "H2O data parsing timezone:  UTC\n",
       "H2O cluster version:        3.26.0.8\n",
       "H2O cluster version age:    4 days\n",
       "H2O cluster name:           #690683465\n",
       "H2O cluster total nodes:    1\n",
       "H2O cluster free memory:    26.62 Gb\n",
       "H2O cluster total cores:    16\n",
       "H2O cluster allowed cores:  16\n",
       "H2O cluster status:         accepting new members, healthy\n",
       "H2O connection url:         http://127.0.0.1:54323\n",
       "H2O connection proxy:       {'http': None, 'https': None}\n",
       "H2O internal security:      False\n",
       "H2O API Extensions:         Amazon S3, XGBoost, Algos, AutoML, Core V3, TargetEncoder, Core V4\n",
       "Python version:             3.6.6 final\n",
       "--------------------------  ------------------------------------------------------------------"
      ]
     },
     "metadata": {},
     "output_type": "display_data"
    },
    {
     "name": "stdout",
     "output_type": "stream",
     "text": [
      "  Server is running at http://127.0.0.1:54325"
     ]
    },
    {
     "name": "stdout",
     "output_type": "stream",
     "text": [
      "\n"
     ]
    },
    {
     "name": "stdout",
     "output_type": "stream",
     "text": [
      "Connecting to H2O server at http://127.0.0.1:54325 .."
     ]
    },
    {
     "name": "stdout",
     "output_type": "stream",
     "text": [
      "."
     ]
    },
    {
     "name": "stdout",
     "output_type": "stream",
     "text": [
      " successful."
     ]
    },
    {
     "name": "stdout",
     "output_type": "stream",
     "text": [
      "\n"
     ]
    },
    {
     "data": {
      "text/html": [
       "<div style=\"overflow:auto\"><table style=\"width:50%\"><tr><td>H2O cluster uptime:</td>\n",
       "<td>05 secs</td></tr>\n",
       "<tr><td>H2O cluster timezone:</td>\n",
       "<td>Europe/Helsinki</td></tr>\n",
       "<tr><td>H2O data parsing timezone:</td>\n",
       "<td>UTC</td></tr>\n",
       "<tr><td>H2O cluster version:</td>\n",
       "<td>3.26.0.8</td></tr>\n",
       "<tr><td>H2O cluster version age:</td>\n",
       "<td>4 days </td></tr>\n",
       "<tr><td>H2O cluster name:</td>\n",
       "<td>#275147829</td></tr>\n",
       "<tr><td>H2O cluster total nodes:</td>\n",
       "<td>1</td></tr>\n",
       "<tr><td>H2O cluster free memory:</td>\n",
       "<td>26.64 Gb</td></tr>\n",
       "<tr><td>H2O cluster total cores:</td>\n",
       "<td>16</td></tr>\n",
       "<tr><td>H2O cluster allowed cores:</td>\n",
       "<td>16</td></tr>\n",
       "<tr><td>H2O cluster status:</td>\n",
       "<td>accepting new members, healthy</td></tr>\n",
       "<tr><td>H2O connection url:</td>\n",
       "<td>http://127.0.0.1:54325</td></tr>\n",
       "<tr><td>H2O connection proxy:</td>\n",
       "<td>{'http': None, 'https': None}</td></tr>\n",
       "<tr><td>H2O internal security:</td>\n",
       "<td>False</td></tr>\n",
       "<tr><td>H2O API Extensions:</td>\n",
       "<td>Amazon S3, XGBoost, Algos, AutoML, Core V3, TargetEncoder, Core V4</td></tr>\n",
       "<tr><td>Python version:</td>\n",
       "<td>3.6.6 final</td></tr></table></div>"
      ],
      "text/plain": [
       "--------------------------  ------------------------------------------------------------------\n",
       "H2O cluster uptime:         05 secs\n",
       "H2O cluster timezone:       Europe/Helsinki\n",
       "H2O data parsing timezone:  UTC\n",
       "H2O cluster version:        3.26.0.8\n",
       "H2O cluster version age:    4 days\n",
       "H2O cluster name:           #275147829\n",
       "H2O cluster total nodes:    1\n",
       "H2O cluster free memory:    26.64 Gb\n",
       "H2O cluster total cores:    16\n",
       "H2O cluster allowed cores:  16\n",
       "H2O cluster status:         accepting new members, healthy\n",
       "H2O connection url:         http://127.0.0.1:54325\n",
       "H2O connection proxy:       {'http': None, 'https': None}\n",
       "H2O internal security:      False\n",
       "H2O API Extensions:         Amazon S3, XGBoost, Algos, AutoML, Core V3, TargetEncoder, Core V4\n",
       "Python version:             3.6.6 final\n",
       "--------------------------  ------------------------------------------------------------------"
      ]
     },
     "metadata": {},
     "output_type": "display_data"
    },
    {
     "name": "stdout",
     "output_type": "stream",
     "text": [
      "\n"
     ]
    },
    {
     "name": "stdout",
     "output_type": "stream",
     "text": [
      "120.5278277 minutes have elapsed. TPOT will close down.\n",
      "TPOT closed during evaluation in one generation.\n",
      "WARNING: TPOT may not provide a good pipeline if TPOT is stopped/interrupted in a early generation."
     ]
    },
    {
     "name": "stdout",
     "output_type": "stream",
     "text": [
      "\n"
     ]
    },
    {
     "name": "stdout",
     "output_type": "stream",
     "text": [
      "\n"
     ]
    },
    {
     "name": "stdout",
     "output_type": "stream",
     "text": [
      "\n",
      "TPOT closed prematurely. Will use the current best pipeline."
     ]
    },
    {
     "name": "stdout",
     "output_type": "stream",
     "text": [
      "\n"
     ]
    },
    {
     "name": "stdout",
     "output_type": "stream",
     "text": [
      "Best pipeline:"
     ]
    },
    {
     "name": "stdout",
     "output_type": "stream",
     "text": [
      " "
     ]
    },
    {
     "name": "stdout",
     "output_type": "stream",
     "text": [
      "KNeighborsClassifier(XGBClassifier(ExtraTreesClassifier(BernoulliNB(input_matrix, alpha=0.01, fit_prior=True), bootstrap=False, criterion=entropy, max_features=0.25, min_samples_leaf=5, min_samples_split=10, n_estimators=100), learning_rate=0.5, max_depth=7, min_child_weight=12, n_estimators=100, nthread=1, subsample=0.9000000000000001), n_neighbors=3, p=2, weights=distance)"
     ]
    },
    {
     "name": "stdout",
     "output_type": "stream",
     "text": [
      "\n"
     ]
    },
    {
     "name": "stdout",
     "output_type": "stream",
     "text": [
      "Checking whether there is an H2O instance running at http://localhost:54321 "
     ]
    },
    {
     "name": "stdout",
     "output_type": "stream",
     "text": [
      "."
     ]
    },
    {
     "name": "stdout",
     "output_type": "stream",
     "text": [
      "."
     ]
    },
    {
     "name": "stdout",
     "output_type": "stream",
     "text": [
      "."
     ]
    },
    {
     "name": "stdout",
     "output_type": "stream",
     "text": [
      "."
     ]
    },
    {
     "name": "stdout",
     "output_type": "stream",
     "text": [
      "."
     ]
    },
    {
     "name": "stdout",
     "output_type": "stream",
     "text": [
      " not found."
     ]
    },
    {
     "name": "stdout",
     "output_type": "stream",
     "text": [
      "\n"
     ]
    },
    {
     "name": "stdout",
     "output_type": "stream",
     "text": [
      "Attempting to start a local H2O server..."
     ]
    },
    {
     "name": "stdout",
     "output_type": "stream",
     "text": [
      "\n"
     ]
    },
    {
     "name": "stdout",
     "output_type": "stream",
     "text": [
      "  Java Version: openjdk version \"1.8.0_222\"; OpenJDK Runtime Environment (build 1.8.0_222-b10); OpenJDK 64-Bit Server VM (build 25.222-b10, mixed mode)"
     ]
    },
    {
     "name": "stdout",
     "output_type": "stream",
     "text": [
      "\n"
     ]
    },
    {
     "name": "stdout",
     "output_type": "stream",
     "text": [
      "  Starting server from /wrk/users/thalvari/dpEmu/venv/lib/python3.6/site-packages/h2o/backend/bin/h2o.jar"
     ]
    },
    {
     "name": "stdout",
     "output_type": "stream",
     "text": [
      "\n"
     ]
    },
    {
     "name": "stdout",
     "output_type": "stream",
     "text": [
      "  Ice root: /wrk/users/thalvari/tmp0d045de0"
     ]
    },
    {
     "name": "stdout",
     "output_type": "stream",
     "text": [
      "\n"
     ]
    },
    {
     "name": "stdout",
     "output_type": "stream",
     "text": [
      "  JVM stdout: /wrk/users/thalvari/tmp0d045de0/h2o_thalvari_started_from_python.out"
     ]
    },
    {
     "name": "stdout",
     "output_type": "stream",
     "text": [
      "\n"
     ]
    },
    {
     "name": "stdout",
     "output_type": "stream",
     "text": [
      "  JVM stderr: /wrk/users/thalvari/tmp0d045de0/h2o_thalvari_started_from_python.err"
     ]
    },
    {
     "name": "stdout",
     "output_type": "stream",
     "text": [
      "\n"
     ]
    },
    {
     "name": "stdout",
     "output_type": "stream",
     "text": [
      "  Server is running at http://127.0.0.1:54327"
     ]
    },
    {
     "name": "stdout",
     "output_type": "stream",
     "text": [
      "\n"
     ]
    },
    {
     "name": "stdout",
     "output_type": "stream",
     "text": [
      "Connecting to H2O server at http://127.0.0.1:54327 .."
     ]
    },
    {
     "name": "stdout",
     "output_type": "stream",
     "text": [
      "."
     ]
    },
    {
     "name": "stdout",
     "output_type": "stream",
     "text": [
      " successful."
     ]
    },
    {
     "name": "stdout",
     "output_type": "stream",
     "text": [
      "\n"
     ]
    },
    {
     "data": {
      "text/html": [
       "<div style=\"overflow:auto\"><table style=\"width:50%\"><tr><td>H2O cluster uptime:</td>\n",
       "<td>05 secs</td></tr>\n",
       "<tr><td>H2O cluster timezone:</td>\n",
       "<td>Europe/Helsinki</td></tr>\n",
       "<tr><td>H2O data parsing timezone:</td>\n",
       "<td>UTC</td></tr>\n",
       "<tr><td>H2O cluster version:</td>\n",
       "<td>3.26.0.8</td></tr>\n",
       "<tr><td>H2O cluster version age:</td>\n",
       "<td>4 days </td></tr>\n",
       "<tr><td>H2O cluster name:</td>\n",
       "<td>#483309732</td></tr>\n",
       "<tr><td>H2O cluster total nodes:</td>\n",
       "<td>1</td></tr>\n",
       "<tr><td>H2O cluster free memory:</td>\n",
       "<td>26.64 Gb</td></tr>\n",
       "<tr><td>H2O cluster total cores:</td>\n",
       "<td>16</td></tr>\n",
       "<tr><td>H2O cluster allowed cores:</td>\n",
       "<td>16</td></tr>\n",
       "<tr><td>H2O cluster status:</td>\n",
       "<td>accepting new members, healthy</td></tr>\n",
       "<tr><td>H2O connection url:</td>\n",
       "<td>http://127.0.0.1:54327</td></tr>\n",
       "<tr><td>H2O connection proxy:</td>\n",
       "<td>{'http': None, 'https': None}</td></tr>\n",
       "<tr><td>H2O internal security:</td>\n",
       "<td>False</td></tr>\n",
       "<tr><td>H2O API Extensions:</td>\n",
       "<td>Amazon S3, XGBoost, Algos, AutoML, Core V3, TargetEncoder, Core V4</td></tr>\n",
       "<tr><td>Python version:</td>\n",
       "<td>3.6.6 final</td></tr></table></div>"
      ],
      "text/plain": [
       "--------------------------  ------------------------------------------------------------------\n",
       "H2O cluster uptime:         05 secs\n",
       "H2O cluster timezone:       Europe/Helsinki\n",
       "H2O data parsing timezone:  UTC\n",
       "H2O cluster version:        3.26.0.8\n",
       "H2O cluster version age:    4 days\n",
       "H2O cluster name:           #483309732\n",
       "H2O cluster total nodes:    1\n",
       "H2O cluster free memory:    26.64 Gb\n",
       "H2O cluster total cores:    16\n",
       "H2O cluster allowed cores:  16\n",
       "H2O cluster status:         accepting new members, healthy\n",
       "H2O connection url:         http://127.0.0.1:54327\n",
       "H2O connection proxy:       {'http': None, 'https': None}\n",
       "H2O internal security:      False\n",
       "H2O API Extensions:         Amazon S3, XGBoost, Algos, AutoML, Core V3, TargetEncoder, Core V4\n",
       "Python version:             3.6.6 final\n",
       "--------------------------  ------------------------------------------------------------------"
      ]
     },
     "metadata": {},
     "output_type": "display_data"
    },
    {
     "name": "stdout",
     "output_type": "stream",
     "text": [
      "\n"
     ]
    },
    {
     "name": "stdout",
     "output_type": "stream",
     "text": [
      "124.13802591666666 minutes have elapsed. TPOT will close down.\n",
      "TPOT closed during evaluation in one generation.\n",
      "WARNING: TPOT may not provide a good pipeline if TPOT is stopped/interrupted in a early generation."
     ]
    },
    {
     "name": "stdout",
     "output_type": "stream",
     "text": [
      "\n"
     ]
    },
    {
     "name": "stdout",
     "output_type": "stream",
     "text": [
      "\n"
     ]
    },
    {
     "name": "stdout",
     "output_type": "stream",
     "text": [
      "\n",
      "TPOT closed prematurely. Will use the current best pipeline."
     ]
    },
    {
     "name": "stdout",
     "output_type": "stream",
     "text": [
      "\n"
     ]
    },
    {
     "name": "stdout",
     "output_type": "stream",
     "text": [
      "Best pipeline:"
     ]
    },
    {
     "name": "stdout",
     "output_type": "stream",
     "text": [
      " "
     ]
    },
    {
     "name": "stdout",
     "output_type": "stream",
     "text": [
      "KNeighborsClassifier(PCA(MultinomialNB(input_matrix, alpha=0.001, fit_prior=True), iterated_power=10, svd_solver=randomized), n_neighbors=3, p=1, weights=distance)"
     ]
    },
    {
     "name": "stdout",
     "output_type": "stream",
     "text": [
      "\n"
     ]
    },
    {
     "name": "stdout",
     "output_type": "stream",
     "text": [
      "Checking whether there is an H2O instance running at http://localhost:54321 "
     ]
    },
    {
     "name": "stdout",
     "output_type": "stream",
     "text": [
      "."
     ]
    },
    {
     "name": "stdout",
     "output_type": "stream",
     "text": [
      "."
     ]
    },
    {
     "name": "stdout",
     "output_type": "stream",
     "text": [
      "."
     ]
    },
    {
     "name": "stdout",
     "output_type": "stream",
     "text": [
      "."
     ]
    },
    {
     "name": "stdout",
     "output_type": "stream",
     "text": [
      "."
     ]
    },
    {
     "name": "stdout",
     "output_type": "stream",
     "text": [
      " not found."
     ]
    },
    {
     "name": "stdout",
     "output_type": "stream",
     "text": [
      "\n"
     ]
    },
    {
     "name": "stdout",
     "output_type": "stream",
     "text": [
      "Attempting to start a local H2O server..."
     ]
    },
    {
     "name": "stdout",
     "output_type": "stream",
     "text": [
      "\n"
     ]
    },
    {
     "name": "stdout",
     "output_type": "stream",
     "text": [
      "  Java Version: openjdk version \"1.8.0_222\"; OpenJDK Runtime Environment (build 1.8.0_222-b10); OpenJDK 64-Bit Server VM (build 25.222-b10, mixed mode)"
     ]
    },
    {
     "name": "stdout",
     "output_type": "stream",
     "text": [
      "\n"
     ]
    },
    {
     "name": "stdout",
     "output_type": "stream",
     "text": [
      "  Starting server from /wrk/users/thalvari/dpEmu/venv/lib/python3.6/site-packages/h2o/backend/bin/h2o.jar"
     ]
    },
    {
     "name": "stdout",
     "output_type": "stream",
     "text": [
      "\n"
     ]
    },
    {
     "name": "stdout",
     "output_type": "stream",
     "text": [
      "  Ice root: /wrk/users/thalvari/tmpdrdk4l3k"
     ]
    },
    {
     "name": "stdout",
     "output_type": "stream",
     "text": [
      "\n"
     ]
    },
    {
     "name": "stdout",
     "output_type": "stream",
     "text": [
      "  JVM stdout: /wrk/users/thalvari/tmpdrdk4l3k/h2o_thalvari_started_from_python.out"
     ]
    },
    {
     "name": "stdout",
     "output_type": "stream",
     "text": [
      "\n"
     ]
    },
    {
     "name": "stdout",
     "output_type": "stream",
     "text": [
      "  JVM stderr: /wrk/users/thalvari/tmpdrdk4l3k/h2o_thalvari_started_from_python.err"
     ]
    },
    {
     "name": "stdout",
     "output_type": "stream",
     "text": [
      "\n"
     ]
    },
    {
     "name": "stdout",
     "output_type": "stream",
     "text": [
      "  Server is running at http://127.0.0.1:54329"
     ]
    },
    {
     "name": "stdout",
     "output_type": "stream",
     "text": [
      "\n"
     ]
    },
    {
     "name": "stdout",
     "output_type": "stream",
     "text": [
      "Connecting to H2O server at http://127.0.0.1:54329 .."
     ]
    },
    {
     "name": "stdout",
     "output_type": "stream",
     "text": [
      "."
     ]
    },
    {
     "name": "stdout",
     "output_type": "stream",
     "text": [
      " successful."
     ]
    },
    {
     "name": "stdout",
     "output_type": "stream",
     "text": [
      "\n"
     ]
    },
    {
     "data": {
      "text/html": [
       "<div style=\"overflow:auto\"><table style=\"width:50%\"><tr><td>H2O cluster uptime:</td>\n",
       "<td>05 secs</td></tr>\n",
       "<tr><td>H2O cluster timezone:</td>\n",
       "<td>Europe/Helsinki</td></tr>\n",
       "<tr><td>H2O data parsing timezone:</td>\n",
       "<td>UTC</td></tr>\n",
       "<tr><td>H2O cluster version:</td>\n",
       "<td>3.26.0.8</td></tr>\n",
       "<tr><td>H2O cluster version age:</td>\n",
       "<td>4 days </td></tr>\n",
       "<tr><td>H2O cluster name:</td>\n",
       "<td>#507094742</td></tr>\n",
       "<tr><td>H2O cluster total nodes:</td>\n",
       "<td>1</td></tr>\n",
       "<tr><td>H2O cluster free memory:</td>\n",
       "<td>26.62 Gb</td></tr>\n",
       "<tr><td>H2O cluster total cores:</td>\n",
       "<td>16</td></tr>\n",
       "<tr><td>H2O cluster allowed cores:</td>\n",
       "<td>16</td></tr>\n",
       "<tr><td>H2O cluster status:</td>\n",
       "<td>accepting new members, healthy</td></tr>\n",
       "<tr><td>H2O connection url:</td>\n",
       "<td>http://127.0.0.1:54329</td></tr>\n",
       "<tr><td>H2O connection proxy:</td>\n",
       "<td>{'http': None, 'https': None}</td></tr>\n",
       "<tr><td>H2O internal security:</td>\n",
       "<td>False</td></tr>\n",
       "<tr><td>H2O API Extensions:</td>\n",
       "<td>Amazon S3, XGBoost, Algos, AutoML, Core V3, TargetEncoder, Core V4</td></tr>\n",
       "<tr><td>Python version:</td>\n",
       "<td>3.6.6 final</td></tr></table></div>"
      ],
      "text/plain": [
       "--------------------------  ------------------------------------------------------------------\n",
       "H2O cluster uptime:         05 secs\n",
       "H2O cluster timezone:       Europe/Helsinki\n",
       "H2O data parsing timezone:  UTC\n",
       "H2O cluster version:        3.26.0.8\n",
       "H2O cluster version age:    4 days\n",
       "H2O cluster name:           #507094742\n",
       "H2O cluster total nodes:    1\n",
       "H2O cluster free memory:    26.62 Gb\n",
       "H2O cluster total cores:    16\n",
       "H2O cluster allowed cores:  16\n",
       "H2O cluster status:         accepting new members, healthy\n",
       "H2O connection url:         http://127.0.0.1:54329\n",
       "H2O connection proxy:       {'http': None, 'https': None}\n",
       "H2O internal security:      False\n",
       "H2O API Extensions:         Amazon S3, XGBoost, Algos, AutoML, Core V3, TargetEncoder, Core V4\n",
       "Python version:             3.6.6 final\n",
       "--------------------------  ------------------------------------------------------------------"
      ]
     },
     "metadata": {},
     "output_type": "display_data"
    },
    {
     "name": "stdout",
     "output_type": "stream",
     "text": [
      "\n"
     ]
    },
    {
     "name": "stdout",
     "output_type": "stream",
     "text": [
      "128.19118121666668 minutes have elapsed. TPOT will close down.\n",
      "TPOT closed during evaluation in one generation.\n",
      "WARNING: TPOT may not provide a good pipeline if TPOT is stopped/interrupted in a early generation."
     ]
    },
    {
     "name": "stdout",
     "output_type": "stream",
     "text": [
      "\n"
     ]
    },
    {
     "name": "stdout",
     "output_type": "stream",
     "text": [
      "\n"
     ]
    },
    {
     "name": "stdout",
     "output_type": "stream",
     "text": [
      "\n",
      "TPOT closed prematurely. Will use the current best pipeline."
     ]
    },
    {
     "name": "stdout",
     "output_type": "stream",
     "text": [
      "\n"
     ]
    },
    {
     "name": "stdout",
     "output_type": "stream",
     "text": [
      "Best pipeline:"
     ]
    },
    {
     "name": "stdout",
     "output_type": "stream",
     "text": [
      " "
     ]
    },
    {
     "name": "stdout",
     "output_type": "stream",
     "text": [
      "KNeighborsClassifier(BernoulliNB(input_matrix, alpha=0.1, fit_prior=True), n_neighbors=3, p=2, weights=distance)"
     ]
    },
    {
     "name": "stdout",
     "output_type": "stream",
     "text": [
      "\n"
     ]
    },
    {
     "name": "stdout",
     "output_type": "stream",
     "text": [
      "Checking whether there is an H2O instance running at http://localhost:54321 "
     ]
    },
    {
     "name": "stdout",
     "output_type": "stream",
     "text": [
      "."
     ]
    },
    {
     "name": "stdout",
     "output_type": "stream",
     "text": [
      "."
     ]
    },
    {
     "name": "stdout",
     "output_type": "stream",
     "text": [
      "."
     ]
    },
    {
     "name": "stdout",
     "output_type": "stream",
     "text": [
      "."
     ]
    },
    {
     "name": "stdout",
     "output_type": "stream",
     "text": [
      "."
     ]
    },
    {
     "name": "stdout",
     "output_type": "stream",
     "text": [
      " not found."
     ]
    },
    {
     "name": "stdout",
     "output_type": "stream",
     "text": [
      "\n"
     ]
    },
    {
     "name": "stdout",
     "output_type": "stream",
     "text": [
      "Attempting to start a local H2O server..."
     ]
    },
    {
     "name": "stdout",
     "output_type": "stream",
     "text": [
      "\n"
     ]
    },
    {
     "name": "stdout",
     "output_type": "stream",
     "text": [
      "  Java Version: openjdk version \"1.8.0_222\"; OpenJDK Runtime Environment (build 1.8.0_222-b10); OpenJDK 64-Bit Server VM (build 25.222-b10, mixed mode)"
     ]
    },
    {
     "name": "stdout",
     "output_type": "stream",
     "text": [
      "\n"
     ]
    },
    {
     "name": "stdout",
     "output_type": "stream",
     "text": [
      "  Starting server from /wrk/users/thalvari/dpEmu/venv/lib/python3.6/site-packages/h2o/backend/bin/h2o.jar"
     ]
    },
    {
     "name": "stdout",
     "output_type": "stream",
     "text": [
      "\n"
     ]
    },
    {
     "name": "stdout",
     "output_type": "stream",
     "text": [
      "  Ice root: /wrk/users/thalvari/tmpjvtv3ckg"
     ]
    },
    {
     "name": "stdout",
     "output_type": "stream",
     "text": [
      "\n"
     ]
    },
    {
     "name": "stdout",
     "output_type": "stream",
     "text": [
      "  JVM stdout: /wrk/users/thalvari/tmpjvtv3ckg/h2o_thalvari_started_from_python.out"
     ]
    },
    {
     "name": "stdout",
     "output_type": "stream",
     "text": [
      "\n"
     ]
    },
    {
     "name": "stdout",
     "output_type": "stream",
     "text": [
      "  JVM stderr: /wrk/users/thalvari/tmpjvtv3ckg/h2o_thalvari_started_from_python.err"
     ]
    },
    {
     "name": "stdout",
     "output_type": "stream",
     "text": [
      "\n"
     ]
    },
    {
     "name": "stdout",
     "output_type": "stream",
     "text": [
      "  Server is running at http://127.0.0.1:54331"
     ]
    },
    {
     "name": "stdout",
     "output_type": "stream",
     "text": [
      "\n"
     ]
    },
    {
     "name": "stdout",
     "output_type": "stream",
     "text": [
      "Connecting to H2O server at http://127.0.0.1:54331 .."
     ]
    },
    {
     "name": "stdout",
     "output_type": "stream",
     "text": [
      "."
     ]
    },
    {
     "name": "stdout",
     "output_type": "stream",
     "text": [
      " successful."
     ]
    },
    {
     "name": "stdout",
     "output_type": "stream",
     "text": [
      "\n"
     ]
    },
    {
     "data": {
      "text/html": [
       "<div style=\"overflow:auto\"><table style=\"width:50%\"><tr><td>H2O cluster uptime:</td>\n",
       "<td>04 secs</td></tr>\n",
       "<tr><td>H2O cluster timezone:</td>\n",
       "<td>Europe/Helsinki</td></tr>\n",
       "<tr><td>H2O data parsing timezone:</td>\n",
       "<td>UTC</td></tr>\n",
       "<tr><td>H2O cluster version:</td>\n",
       "<td>3.26.0.8</td></tr>\n",
       "<tr><td>H2O cluster version age:</td>\n",
       "<td>4 days </td></tr>\n",
       "<tr><td>H2O cluster name:</td>\n",
       "<td>#393159278</td></tr>\n",
       "<tr><td>H2O cluster total nodes:</td>\n",
       "<td>1</td></tr>\n",
       "<tr><td>H2O cluster free memory:</td>\n",
       "<td>26.63 Gb</td></tr>\n",
       "<tr><td>H2O cluster total cores:</td>\n",
       "<td>16</td></tr>\n",
       "<tr><td>H2O cluster allowed cores:</td>\n",
       "<td>16</td></tr>\n",
       "<tr><td>H2O cluster status:</td>\n",
       "<td>locked, healthy</td></tr>\n",
       "<tr><td>H2O connection url:</td>\n",
       "<td>http://127.0.0.1:54331</td></tr>\n",
       "<tr><td>H2O connection proxy:</td>\n",
       "<td>{'http': None, 'https': None}</td></tr>\n",
       "<tr><td>H2O internal security:</td>\n",
       "<td>False</td></tr>\n",
       "<tr><td>H2O API Extensions:</td>\n",
       "<td>Amazon S3, XGBoost, Algos, AutoML, Core V3, TargetEncoder, Core V4</td></tr>\n",
       "<tr><td>Python version:</td>\n",
       "<td>3.6.6 final</td></tr></table></div>"
      ],
      "text/plain": [
       "--------------------------  ------------------------------------------------------------------\n",
       "H2O cluster uptime:         04 secs\n",
       "H2O cluster timezone:       Europe/Helsinki\n",
       "H2O data parsing timezone:  UTC\n",
       "H2O cluster version:        3.26.0.8\n",
       "H2O cluster version age:    4 days\n",
       "H2O cluster name:           #393159278\n",
       "H2O cluster total nodes:    1\n",
       "H2O cluster free memory:    26.63 Gb\n",
       "H2O cluster total cores:    16\n",
       "H2O cluster allowed cores:  16\n",
       "H2O cluster status:         locked, healthy\n",
       "H2O connection url:         http://127.0.0.1:54331\n",
       "H2O connection proxy:       {'http': None, 'https': None}\n",
       "H2O internal security:      False\n",
       "H2O API Extensions:         Amazon S3, XGBoost, Algos, AutoML, Core V3, TargetEncoder, Core V4\n",
       "Python version:             3.6.6 final\n",
       "--------------------------  ------------------------------------------------------------------"
      ]
     },
     "metadata": {},
     "output_type": "display_data"
    },
    {
     "name": "stdout",
     "output_type": "stream",
     "text": [
      "\n"
     ]
    },
    {
     "name": "stdout",
     "output_type": "stream",
     "text": [
      "124.25136718333333 minutes have elapsed. TPOT will close down.\n",
      "TPOT closed during evaluation in one generation.\n",
      "WARNING: TPOT may not provide a good pipeline if TPOT is stopped/interrupted in a early generation."
     ]
    },
    {
     "name": "stdout",
     "output_type": "stream",
     "text": [
      "\n"
     ]
    },
    {
     "name": "stdout",
     "output_type": "stream",
     "text": [
      "\n"
     ]
    },
    {
     "name": "stdout",
     "output_type": "stream",
     "text": [
      "\n",
      "TPOT closed prematurely. Will use the current best pipeline."
     ]
    },
    {
     "name": "stdout",
     "output_type": "stream",
     "text": [
      "\n"
     ]
    },
    {
     "name": "stdout",
     "output_type": "stream",
     "text": [
      "Best pipeline:"
     ]
    },
    {
     "name": "stdout",
     "output_type": "stream",
     "text": [
      " "
     ]
    },
    {
     "name": "stdout",
     "output_type": "stream",
     "text": [
      "KNeighborsClassifier(ExtraTreesClassifier(OneHotEncoder(input_matrix, minimum_fraction=0.25, sparse=False, threshold=10), bootstrap=True, criterion=entropy, max_features=0.5, min_samples_leaf=15, min_samples_split=15, n_estimators=100), n_neighbors=2, p=2, weights=distance)"
     ]
    },
    {
     "name": "stdout",
     "output_type": "stream",
     "text": [
      "\n"
     ]
    },
    {
     "name": "stdout",
     "output_type": "stream",
     "text": [
      "Checking whether there is an H2O instance running at http://localhost:54321 "
     ]
    },
    {
     "name": "stdout",
     "output_type": "stream",
     "text": [
      "."
     ]
    },
    {
     "name": "stdout",
     "output_type": "stream",
     "text": [
      "."
     ]
    },
    {
     "name": "stdout",
     "output_type": "stream",
     "text": [
      "."
     ]
    },
    {
     "name": "stdout",
     "output_type": "stream",
     "text": [
      "."
     ]
    },
    {
     "name": "stdout",
     "output_type": "stream",
     "text": [
      "."
     ]
    },
    {
     "name": "stdout",
     "output_type": "stream",
     "text": [
      " not found."
     ]
    },
    {
     "name": "stdout",
     "output_type": "stream",
     "text": [
      "\n"
     ]
    },
    {
     "name": "stdout",
     "output_type": "stream",
     "text": [
      "Attempting to start a local H2O server..."
     ]
    },
    {
     "name": "stdout",
     "output_type": "stream",
     "text": [
      "\n"
     ]
    },
    {
     "name": "stdout",
     "output_type": "stream",
     "text": [
      "  Java Version: openjdk version \"1.8.0_222\"; OpenJDK Runtime Environment (build 1.8.0_222-b10); OpenJDK 64-Bit Server VM (build 25.222-b10, mixed mode)"
     ]
    },
    {
     "name": "stdout",
     "output_type": "stream",
     "text": [
      "\n"
     ]
    },
    {
     "name": "stdout",
     "output_type": "stream",
     "text": [
      "  Starting server from /wrk/users/thalvari/dpEmu/venv/lib/python3.6/site-packages/h2o/backend/bin/h2o.jar"
     ]
    },
    {
     "name": "stdout",
     "output_type": "stream",
     "text": [
      "\n"
     ]
    },
    {
     "name": "stdout",
     "output_type": "stream",
     "text": [
      "  Ice root: /wrk/users/thalvari/tmpdbelfzjl"
     ]
    },
    {
     "name": "stdout",
     "output_type": "stream",
     "text": [
      "\n"
     ]
    },
    {
     "name": "stdout",
     "output_type": "stream",
     "text": [
      "  JVM stdout: /wrk/users/thalvari/tmpdbelfzjl/h2o_thalvari_started_from_python.out"
     ]
    },
    {
     "name": "stdout",
     "output_type": "stream",
     "text": [
      "\n"
     ]
    },
    {
     "name": "stdout",
     "output_type": "stream",
     "text": [
      "  JVM stderr: /wrk/users/thalvari/tmpdbelfzjl/h2o_thalvari_started_from_python.err"
     ]
    },
    {
     "name": "stdout",
     "output_type": "stream",
     "text": [
      "\n"
     ]
    },
    {
     "name": "stdout",
     "output_type": "stream",
     "text": [
      "  Server is running at http://127.0.0.1:54333"
     ]
    },
    {
     "name": "stdout",
     "output_type": "stream",
     "text": [
      "\n"
     ]
    },
    {
     "name": "stdout",
     "output_type": "stream",
     "text": [
      "Connecting to H2O server at http://127.0.0.1:54333 .."
     ]
    },
    {
     "name": "stdout",
     "output_type": "stream",
     "text": [
      "."
     ]
    },
    {
     "name": "stdout",
     "output_type": "stream",
     "text": [
      " successful."
     ]
    },
    {
     "name": "stdout",
     "output_type": "stream",
     "text": [
      "\n"
     ]
    },
    {
     "data": {
      "text/html": [
       "<div style=\"overflow:auto\"><table style=\"width:50%\"><tr><td>H2O cluster uptime:</td>\n",
       "<td>03 secs</td></tr>\n",
       "<tr><td>H2O cluster timezone:</td>\n",
       "<td>Europe/Helsinki</td></tr>\n",
       "<tr><td>H2O data parsing timezone:</td>\n",
       "<td>UTC</td></tr>\n",
       "<tr><td>H2O cluster version:</td>\n",
       "<td>3.26.0.8</td></tr>\n",
       "<tr><td>H2O cluster version age:</td>\n",
       "<td>4 days </td></tr>\n",
       "<tr><td>H2O cluster name:</td>\n",
       "<td>#128328691</td></tr>\n",
       "<tr><td>H2O cluster total nodes:</td>\n",
       "<td>1</td></tr>\n",
       "<tr><td>H2O cluster free memory:</td>\n",
       "<td>26.67 Gb</td></tr>\n",
       "<tr><td>H2O cluster total cores:</td>\n",
       "<td>16</td></tr>\n",
       "<tr><td>H2O cluster allowed cores:</td>\n",
       "<td>16</td></tr>\n",
       "<tr><td>H2O cluster status:</td>\n",
       "<td>accepting new members, healthy</td></tr>\n",
       "<tr><td>H2O connection url:</td>\n",
       "<td>http://127.0.0.1:54333</td></tr>\n",
       "<tr><td>H2O connection proxy:</td>\n",
       "<td>{'http': None, 'https': None}</td></tr>\n",
       "<tr><td>H2O internal security:</td>\n",
       "<td>False</td></tr>\n",
       "<tr><td>H2O API Extensions:</td>\n",
       "<td>Amazon S3, XGBoost, Algos, AutoML, Core V3, TargetEncoder, Core V4</td></tr>\n",
       "<tr><td>Python version:</td>\n",
       "<td>3.6.6 final</td></tr></table></div>"
      ],
      "text/plain": [
       "--------------------------  ------------------------------------------------------------------\n",
       "H2O cluster uptime:         03 secs\n",
       "H2O cluster timezone:       Europe/Helsinki\n",
       "H2O data parsing timezone:  UTC\n",
       "H2O cluster version:        3.26.0.8\n",
       "H2O cluster version age:    4 days\n",
       "H2O cluster name:           #128328691\n",
       "H2O cluster total nodes:    1\n",
       "H2O cluster free memory:    26.67 Gb\n",
       "H2O cluster total cores:    16\n",
       "H2O cluster allowed cores:  16\n",
       "H2O cluster status:         accepting new members, healthy\n",
       "H2O connection url:         http://127.0.0.1:54333\n",
       "H2O connection proxy:       {'http': None, 'https': None}\n",
       "H2O internal security:      False\n",
       "H2O API Extensions:         Amazon S3, XGBoost, Algos, AutoML, Core V3, TargetEncoder, Core V4\n",
       "Python version:             3.6.6 final\n",
       "--------------------------  ------------------------------------------------------------------"
      ]
     },
     "metadata": {},
     "output_type": "display_data"
    },
    {
     "name": "stdout",
     "output_type": "stream",
     "text": [
      "\n"
     ]
    },
    {
     "name": "stdout",
     "output_type": "stream",
     "text": [
      "120.01140466666668 minutes have elapsed. TPOT will close down.\n",
      "TPOT closed during evaluation in one generation.\n",
      "WARNING: TPOT may not provide a good pipeline if TPOT is stopped/interrupted in a early generation."
     ]
    },
    {
     "name": "stdout",
     "output_type": "stream",
     "text": [
      "\n"
     ]
    },
    {
     "name": "stdout",
     "output_type": "stream",
     "text": [
      "\n"
     ]
    },
    {
     "name": "stdout",
     "output_type": "stream",
     "text": [
      "\n",
      "TPOT closed prematurely. Will use the current best pipeline."
     ]
    },
    {
     "name": "stdout",
     "output_type": "stream",
     "text": [
      "\n"
     ]
    },
    {
     "name": "stdout",
     "output_type": "stream",
     "text": [
      "Best pipeline:"
     ]
    },
    {
     "name": "stdout",
     "output_type": "stream",
     "text": [
      " "
     ]
    },
    {
     "name": "stdout",
     "output_type": "stream",
     "text": [
      "KNeighborsClassifier(Normalizer(ExtraTreesClassifier(RandomForestClassifier(OneHotEncoder(input_matrix, minimum_fraction=0.25, sparse=False, threshold=10), bootstrap=True, criterion=gini, max_features=0.3, min_samples_leaf=13, min_samples_split=17, n_estimators=100), bootstrap=True, criterion=entropy, max_features=0.5, min_samples_leaf=15, min_samples_split=15, n_estimators=100), norm=l2), n_neighbors=2, p=2, weights=distance)"
     ]
    },
    {
     "name": "stdout",
     "output_type": "stream",
     "text": [
      "\n"
     ]
    },
    {
     "name": "stdout",
     "output_type": "stream",
     "text": [
      "Checking whether there is an H2O instance running at http://localhost:54321 "
     ]
    },
    {
     "name": "stdout",
     "output_type": "stream",
     "text": [
      "."
     ]
    },
    {
     "name": "stdout",
     "output_type": "stream",
     "text": [
      "."
     ]
    },
    {
     "name": "stdout",
     "output_type": "stream",
     "text": [
      "."
     ]
    },
    {
     "name": "stdout",
     "output_type": "stream",
     "text": [
      "."
     ]
    },
    {
     "name": "stdout",
     "output_type": "stream",
     "text": [
      "."
     ]
    },
    {
     "name": "stdout",
     "output_type": "stream",
     "text": [
      " not found."
     ]
    },
    {
     "name": "stdout",
     "output_type": "stream",
     "text": [
      "\n"
     ]
    },
    {
     "name": "stdout",
     "output_type": "stream",
     "text": [
      "Attempting to start a local H2O server..."
     ]
    },
    {
     "name": "stdout",
     "output_type": "stream",
     "text": [
      "\n"
     ]
    },
    {
     "name": "stdout",
     "output_type": "stream",
     "text": [
      "  Java Version: openjdk version \"1.8.0_222\"; OpenJDK Runtime Environment (build 1.8.0_222-b10); OpenJDK 64-Bit Server VM (build 25.222-b10, mixed mode)"
     ]
    },
    {
     "name": "stdout",
     "output_type": "stream",
     "text": [
      "\n"
     ]
    },
    {
     "name": "stdout",
     "output_type": "stream",
     "text": [
      "  Starting server from /wrk/users/thalvari/dpEmu/venv/lib/python3.6/site-packages/h2o/backend/bin/h2o.jar"
     ]
    },
    {
     "name": "stdout",
     "output_type": "stream",
     "text": [
      "\n"
     ]
    },
    {
     "name": "stdout",
     "output_type": "stream",
     "text": [
      "  Ice root: /wrk/users/thalvari/tmpo38bluzr"
     ]
    },
    {
     "name": "stdout",
     "output_type": "stream",
     "text": [
      "\n"
     ]
    },
    {
     "name": "stdout",
     "output_type": "stream",
     "text": [
      "  JVM stdout: /wrk/users/thalvari/tmpo38bluzr/h2o_thalvari_started_from_python.out"
     ]
    },
    {
     "name": "stdout",
     "output_type": "stream",
     "text": [
      "\n"
     ]
    },
    {
     "name": "stdout",
     "output_type": "stream",
     "text": [
      "  JVM stderr: /wrk/users/thalvari/tmpo38bluzr/h2o_thalvari_started_from_python.err"
     ]
    },
    {
     "name": "stdout",
     "output_type": "stream",
     "text": [
      "\n"
     ]
    },
    {
     "name": "stdout",
     "output_type": "stream",
     "text": [
      "  Server is running at http://127.0.0.1:54337"
     ]
    },
    {
     "name": "stdout",
     "output_type": "stream",
     "text": [
      "\n"
     ]
    },
    {
     "name": "stdout",
     "output_type": "stream",
     "text": [
      "Connecting to H2O server at http://127.0.0.1:54337 .."
     ]
    },
    {
     "name": "stdout",
     "output_type": "stream",
     "text": [
      "."
     ]
    },
    {
     "name": "stdout",
     "output_type": "stream",
     "text": [
      " successful."
     ]
    },
    {
     "name": "stdout",
     "output_type": "stream",
     "text": [
      "\n"
     ]
    },
    {
     "data": {
      "text/html": [
       "<div style=\"overflow:auto\"><table style=\"width:50%\"><tr><td>H2O cluster uptime:</td>\n",
       "<td>02 secs</td></tr>\n",
       "<tr><td>H2O cluster timezone:</td>\n",
       "<td>Europe/Helsinki</td></tr>\n",
       "<tr><td>H2O data parsing timezone:</td>\n",
       "<td>UTC</td></tr>\n",
       "<tr><td>H2O cluster version:</td>\n",
       "<td>3.26.0.8</td></tr>\n",
       "<tr><td>H2O cluster version age:</td>\n",
       "<td>4 days </td></tr>\n",
       "<tr><td>H2O cluster name:</td>\n",
       "<td>#104791892</td></tr>\n",
       "<tr><td>H2O cluster total nodes:</td>\n",
       "<td>1</td></tr>\n",
       "<tr><td>H2O cluster free memory:</td>\n",
       "<td>26.67 Gb</td></tr>\n",
       "<tr><td>H2O cluster total cores:</td>\n",
       "<td>16</td></tr>\n",
       "<tr><td>H2O cluster allowed cores:</td>\n",
       "<td>16</td></tr>\n",
       "<tr><td>H2O cluster status:</td>\n",
       "<td>accepting new members, healthy</td></tr>\n",
       "<tr><td>H2O connection url:</td>\n",
       "<td>http://127.0.0.1:54337</td></tr>\n",
       "<tr><td>H2O connection proxy:</td>\n",
       "<td>{'http': None, 'https': None}</td></tr>\n",
       "<tr><td>H2O internal security:</td>\n",
       "<td>False</td></tr>\n",
       "<tr><td>H2O API Extensions:</td>\n",
       "<td>Amazon S3, XGBoost, Algos, AutoML, Core V3, TargetEncoder, Core V4</td></tr>\n",
       "<tr><td>Python version:</td>\n",
       "<td>3.6.6 final</td></tr></table></div>"
      ],
      "text/plain": [
       "--------------------------  ------------------------------------------------------------------\n",
       "H2O cluster uptime:         02 secs\n",
       "H2O cluster timezone:       Europe/Helsinki\n",
       "H2O data parsing timezone:  UTC\n",
       "H2O cluster version:        3.26.0.8\n",
       "H2O cluster version age:    4 days\n",
       "H2O cluster name:           #104791892\n",
       "H2O cluster total nodes:    1\n",
       "H2O cluster free memory:    26.67 Gb\n",
       "H2O cluster total cores:    16\n",
       "H2O cluster allowed cores:  16\n",
       "H2O cluster status:         accepting new members, healthy\n",
       "H2O connection url:         http://127.0.0.1:54337\n",
       "H2O connection proxy:       {'http': None, 'https': None}\n",
       "H2O internal security:      False\n",
       "H2O API Extensions:         Amazon S3, XGBoost, Algos, AutoML, Core V3, TargetEncoder, Core V4\n",
       "Python version:             3.6.6 final\n",
       "--------------------------  ------------------------------------------------------------------"
      ]
     },
     "metadata": {},
     "output_type": "display_data"
    },
    {
     "name": "stdout",
     "output_type": "stream",
     "text": [
      "H2O session _sid_bedc closed."
     ]
    },
    {
     "name": "stdout",
     "output_type": "stream",
     "text": [
      "\n"
     ]
    },
    {
     "name": "stdout",
     "output_type": "stream",
     "text": [
      "Checking whether there is an H2O instance running at http://localhost:54321 "
     ]
    },
    {
     "name": "stdout",
     "output_type": "stream",
     "text": [
      "."
     ]
    },
    {
     "name": "stdout",
     "output_type": "stream",
     "text": [
      "."
     ]
    },
    {
     "name": "stdout",
     "output_type": "stream",
     "text": [
      "."
     ]
    },
    {
     "name": "stdout",
     "output_type": "stream",
     "text": [
      "."
     ]
    },
    {
     "name": "stdout",
     "output_type": "stream",
     "text": [
      "."
     ]
    },
    {
     "name": "stdout",
     "output_type": "stream",
     "text": [
      " not found."
     ]
    },
    {
     "name": "stdout",
     "output_type": "stream",
     "text": [
      "\n"
     ]
    },
    {
     "name": "stdout",
     "output_type": "stream",
     "text": [
      "Attempting to start a local H2O server..."
     ]
    },
    {
     "name": "stdout",
     "output_type": "stream",
     "text": [
      "\n"
     ]
    },
    {
     "name": "stdout",
     "output_type": "stream",
     "text": [
      "  Java Version: openjdk version \"1.8.0_222\"; OpenJDK Runtime Environment (build 1.8.0_222-b10); OpenJDK 64-Bit Server VM (build 25.222-b10, mixed mode)"
     ]
    },
    {
     "name": "stdout",
     "output_type": "stream",
     "text": [
      "\n"
     ]
    },
    {
     "name": "stdout",
     "output_type": "stream",
     "text": [
      "  Starting server from /wrk/users/thalvari/dpEmu/venv/lib/python3.6/site-packages/h2o/backend/bin/h2o.jar"
     ]
    },
    {
     "name": "stdout",
     "output_type": "stream",
     "text": [
      "\n"
     ]
    },
    {
     "name": "stdout",
     "output_type": "stream",
     "text": [
      "  Ice root: /wrk/users/thalvari/tmp3o87ahpy"
     ]
    },
    {
     "name": "stdout",
     "output_type": "stream",
     "text": [
      "\n"
     ]
    },
    {
     "name": "stdout",
     "output_type": "stream",
     "text": [
      "  JVM stdout: /wrk/users/thalvari/tmp3o87ahpy/h2o_thalvari_started_from_python.out"
     ]
    },
    {
     "name": "stdout",
     "output_type": "stream",
     "text": [
      "\n"
     ]
    },
    {
     "name": "stdout",
     "output_type": "stream",
     "text": [
      "  JVM stderr: /wrk/users/thalvari/tmp3o87ahpy/h2o_thalvari_started_from_python.err"
     ]
    },
    {
     "name": "stdout",
     "output_type": "stream",
     "text": [
      "\n"
     ]
    },
    {
     "name": "stdout",
     "output_type": "stream",
     "text": [
      "  Server is running at http://127.0.0.1:54321"
     ]
    },
    {
     "name": "stdout",
     "output_type": "stream",
     "text": [
      "\n"
     ]
    },
    {
     "name": "stdout",
     "output_type": "stream",
     "text": [
      "Connecting to H2O server at http://127.0.0.1:54321 .."
     ]
    },
    {
     "name": "stdout",
     "output_type": "stream",
     "text": [
      "."
     ]
    },
    {
     "name": "stdout",
     "output_type": "stream",
     "text": [
      " successful."
     ]
    },
    {
     "name": "stdout",
     "output_type": "stream",
     "text": [
      "\n"
     ]
    },
    {
     "data": {
      "text/html": [
       "<div style=\"overflow:auto\"><table style=\"width:50%\"><tr><td>H2O cluster uptime:</td>\n",
       "<td>03 secs</td></tr>\n",
       "<tr><td>H2O cluster timezone:</td>\n",
       "<td>Europe/Helsinki</td></tr>\n",
       "<tr><td>H2O data parsing timezone:</td>\n",
       "<td>UTC</td></tr>\n",
       "<tr><td>H2O cluster version:</td>\n",
       "<td>3.26.0.8</td></tr>\n",
       "<tr><td>H2O cluster version age:</td>\n",
       "<td>4 days </td></tr>\n",
       "<tr><td>H2O cluster name:</td>\n",
       "<td>#851547178</td></tr>\n",
       "<tr><td>H2O cluster total nodes:</td>\n",
       "<td>1</td></tr>\n",
       "<tr><td>H2O cluster free memory:</td>\n",
       "<td>26.67 Gb</td></tr>\n",
       "<tr><td>H2O cluster total cores:</td>\n",
       "<td>16</td></tr>\n",
       "<tr><td>H2O cluster allowed cores:</td>\n",
       "<td>16</td></tr>\n",
       "<tr><td>H2O cluster status:</td>\n",
       "<td>accepting new members, healthy</td></tr>\n",
       "<tr><td>H2O connection url:</td>\n",
       "<td>http://127.0.0.1:54321</td></tr>\n",
       "<tr><td>H2O connection proxy:</td>\n",
       "<td>{'http': None, 'https': None}</td></tr>\n",
       "<tr><td>H2O internal security:</td>\n",
       "<td>False</td></tr>\n",
       "<tr><td>H2O API Extensions:</td>\n",
       "<td>Amazon S3, XGBoost, Algos, AutoML, Core V3, TargetEncoder, Core V4</td></tr>\n",
       "<tr><td>Python version:</td>\n",
       "<td>3.6.6 final</td></tr></table></div>"
      ],
      "text/plain": [
       "--------------------------  ------------------------------------------------------------------\n",
       "H2O cluster uptime:         03 secs\n",
       "H2O cluster timezone:       Europe/Helsinki\n",
       "H2O data parsing timezone:  UTC\n",
       "H2O cluster version:        3.26.0.8\n",
       "H2O cluster version age:    4 days\n",
       "H2O cluster name:           #851547178\n",
       "H2O cluster total nodes:    1\n",
       "H2O cluster free memory:    26.67 Gb\n",
       "H2O cluster total cores:    16\n",
       "H2O cluster allowed cores:  16\n",
       "H2O cluster status:         accepting new members, healthy\n",
       "H2O connection url:         http://127.0.0.1:54321\n",
       "H2O connection proxy:       {'http': None, 'https': None}\n",
       "H2O internal security:      False\n",
       "H2O API Extensions:         Amazon S3, XGBoost, Algos, AutoML, Core V3, TargetEncoder, Core V4\n",
       "Python version:             3.6.6 final\n",
       "--------------------------  ------------------------------------------------------------------"
      ]
     },
     "metadata": {},
     "output_type": "display_data"
    },
    {
     "name": "stdout",
     "output_type": "stream",
     "text": [
      "H2O session _sid_9b4f closed."
     ]
    },
    {
     "name": "stdout",
     "output_type": "stream",
     "text": [
      "\n"
     ]
    },
    {
     "name": "stdout",
     "output_type": "stream",
     "text": [
      "Checking whether there is an H2O instance running at http://localhost:54321 "
     ]
    },
    {
     "name": "stdout",
     "output_type": "stream",
     "text": [
      "."
     ]
    },
    {
     "name": "stdout",
     "output_type": "stream",
     "text": [
      "."
     ]
    },
    {
     "name": "stdout",
     "output_type": "stream",
     "text": [
      "."
     ]
    },
    {
     "name": "stdout",
     "output_type": "stream",
     "text": [
      "."
     ]
    },
    {
     "name": "stdout",
     "output_type": "stream",
     "text": [
      "."
     ]
    },
    {
     "name": "stdout",
     "output_type": "stream",
     "text": [
      " not found."
     ]
    },
    {
     "name": "stdout",
     "output_type": "stream",
     "text": [
      "\n"
     ]
    },
    {
     "name": "stdout",
     "output_type": "stream",
     "text": [
      "Attempting to start a local H2O server..."
     ]
    },
    {
     "name": "stdout",
     "output_type": "stream",
     "text": [
      "\n"
     ]
    },
    {
     "name": "stdout",
     "output_type": "stream",
     "text": [
      "  Java Version: openjdk version \"1.8.0_222\"; OpenJDK Runtime Environment (build 1.8.0_222-b10); OpenJDK 64-Bit Server VM (build 25.222-b10, mixed mode)"
     ]
    },
    {
     "name": "stdout",
     "output_type": "stream",
     "text": [
      "\n"
     ]
    },
    {
     "name": "stdout",
     "output_type": "stream",
     "text": [
      "  Starting server from /wrk/users/thalvari/dpEmu/venv/lib/python3.6/site-packages/h2o/backend/bin/h2o.jar"
     ]
    },
    {
     "name": "stdout",
     "output_type": "stream",
     "text": [
      "\n"
     ]
    },
    {
     "name": "stdout",
     "output_type": "stream",
     "text": [
      "  Ice root: /wrk/users/thalvari/tmprz064mvb"
     ]
    },
    {
     "name": "stdout",
     "output_type": "stream",
     "text": [
      "\n"
     ]
    },
    {
     "name": "stdout",
     "output_type": "stream",
     "text": [
      "  JVM stdout: /wrk/users/thalvari/tmprz064mvb/h2o_thalvari_started_from_python.out"
     ]
    },
    {
     "name": "stdout",
     "output_type": "stream",
     "text": [
      "\n"
     ]
    },
    {
     "name": "stdout",
     "output_type": "stream",
     "text": [
      "  JVM stderr: /wrk/users/thalvari/tmprz064mvb/h2o_thalvari_started_from_python.err"
     ]
    },
    {
     "name": "stdout",
     "output_type": "stream",
     "text": [
      "\n"
     ]
    },
    {
     "name": "stdout",
     "output_type": "stream",
     "text": [
      "  Server is running at http://127.0.0.1:54325"
     ]
    },
    {
     "name": "stdout",
     "output_type": "stream",
     "text": [
      "\n"
     ]
    },
    {
     "name": "stdout",
     "output_type": "stream",
     "text": [
      "Connecting to H2O server at http://127.0.0.1:54325 .."
     ]
    },
    {
     "name": "stdout",
     "output_type": "stream",
     "text": [
      "."
     ]
    },
    {
     "name": "stdout",
     "output_type": "stream",
     "text": [
      " successful."
     ]
    },
    {
     "name": "stdout",
     "output_type": "stream",
     "text": [
      "\n"
     ]
    },
    {
     "data": {
      "text/html": [
       "<div style=\"overflow:auto\"><table style=\"width:50%\"><tr><td>H2O cluster uptime:</td>\n",
       "<td>06 secs</td></tr>\n",
       "<tr><td>H2O cluster timezone:</td>\n",
       "<td>Europe/Helsinki</td></tr>\n",
       "<tr><td>H2O data parsing timezone:</td>\n",
       "<td>UTC</td></tr>\n",
       "<tr><td>H2O cluster version:</td>\n",
       "<td>3.26.0.8</td></tr>\n",
       "<tr><td>H2O cluster version age:</td>\n",
       "<td>4 days </td></tr>\n",
       "<tr><td>H2O cluster name:</td>\n",
       "<td>#175427467</td></tr>\n",
       "<tr><td>H2O cluster total nodes:</td>\n",
       "<td>1</td></tr>\n",
       "<tr><td>H2O cluster free memory:</td>\n",
       "<td>26.61 Gb</td></tr>\n",
       "<tr><td>H2O cluster total cores:</td>\n",
       "<td>16</td></tr>\n",
       "<tr><td>H2O cluster allowed cores:</td>\n",
       "<td>16</td></tr>\n",
       "<tr><td>H2O cluster status:</td>\n",
       "<td>accepting new members, healthy</td></tr>\n",
       "<tr><td>H2O connection url:</td>\n",
       "<td>http://127.0.0.1:54325</td></tr>\n",
       "<tr><td>H2O connection proxy:</td>\n",
       "<td>{'http': None, 'https': None}</td></tr>\n",
       "<tr><td>H2O internal security:</td>\n",
       "<td>False</td></tr>\n",
       "<tr><td>H2O API Extensions:</td>\n",
       "<td>Amazon S3, XGBoost, Algos, AutoML, Core V3, TargetEncoder, Core V4</td></tr>\n",
       "<tr><td>Python version:</td>\n",
       "<td>3.6.6 final</td></tr></table></div>"
      ],
      "text/plain": [
       "--------------------------  ------------------------------------------------------------------\n",
       "H2O cluster uptime:         06 secs\n",
       "H2O cluster timezone:       Europe/Helsinki\n",
       "H2O data parsing timezone:  UTC\n",
       "H2O cluster version:        3.26.0.8\n",
       "H2O cluster version age:    4 days\n",
       "H2O cluster name:           #175427467\n",
       "H2O cluster total nodes:    1\n",
       "H2O cluster free memory:    26.61 Gb\n",
       "H2O cluster total cores:    16\n",
       "H2O cluster allowed cores:  16\n",
       "H2O cluster status:         accepting new members, healthy\n",
       "H2O connection url:         http://127.0.0.1:54325\n",
       "H2O connection proxy:       {'http': None, 'https': None}\n",
       "H2O internal security:      False\n",
       "H2O API Extensions:         Amazon S3, XGBoost, Algos, AutoML, Core V3, TargetEncoder, Core V4\n",
       "Python version:             3.6.6 final\n",
       "--------------------------  ------------------------------------------------------------------"
      ]
     },
     "metadata": {},
     "output_type": "display_data"
    },
    {
     "name": "stdout",
     "output_type": "stream",
     "text": [
      "H2O session _sid_b8c3 closed."
     ]
    },
    {
     "name": "stdout",
     "output_type": "stream",
     "text": [
      "\n"
     ]
    },
    {
     "name": "stdout",
     "output_type": "stream",
     "text": [
      "Checking whether there is an H2O instance running at http://localhost:54321 "
     ]
    },
    {
     "name": "stdout",
     "output_type": "stream",
     "text": [
      "."
     ]
    },
    {
     "name": "stdout",
     "output_type": "stream",
     "text": [
      "."
     ]
    },
    {
     "name": "stdout",
     "output_type": "stream",
     "text": [
      "."
     ]
    },
    {
     "name": "stdout",
     "output_type": "stream",
     "text": [
      "."
     ]
    },
    {
     "name": "stdout",
     "output_type": "stream",
     "text": [
      "."
     ]
    },
    {
     "name": "stdout",
     "output_type": "stream",
     "text": [
      " not found."
     ]
    },
    {
     "name": "stdout",
     "output_type": "stream",
     "text": [
      "\n"
     ]
    },
    {
     "name": "stdout",
     "output_type": "stream",
     "text": [
      "Attempting to start a local H2O server..."
     ]
    },
    {
     "name": "stdout",
     "output_type": "stream",
     "text": [
      "\n"
     ]
    },
    {
     "name": "stdout",
     "output_type": "stream",
     "text": [
      "  Java Version: openjdk version \"1.8.0_222\"; OpenJDK Runtime Environment (build 1.8.0_222-b10); OpenJDK 64-Bit Server VM (build 25.222-b10, mixed mode)"
     ]
    },
    {
     "name": "stdout",
     "output_type": "stream",
     "text": [
      "\n"
     ]
    },
    {
     "name": "stdout",
     "output_type": "stream",
     "text": [
      "  Starting server from /wrk/users/thalvari/dpEmu/venv/lib/python3.6/site-packages/h2o/backend/bin/h2o.jar"
     ]
    },
    {
     "name": "stdout",
     "output_type": "stream",
     "text": [
      "\n"
     ]
    },
    {
     "name": "stdout",
     "output_type": "stream",
     "text": [
      "  Ice root: /wrk/users/thalvari/tmpvod2fzgo"
     ]
    },
    {
     "name": "stdout",
     "output_type": "stream",
     "text": [
      "\n"
     ]
    },
    {
     "name": "stdout",
     "output_type": "stream",
     "text": [
      "  JVM stdout: /wrk/users/thalvari/tmpvod2fzgo/h2o_thalvari_started_from_python.out"
     ]
    },
    {
     "name": "stdout",
     "output_type": "stream",
     "text": [
      "\n"
     ]
    },
    {
     "name": "stdout",
     "output_type": "stream",
     "text": [
      "  JVM stderr: /wrk/users/thalvari/tmpvod2fzgo/h2o_thalvari_started_from_python.err"
     ]
    },
    {
     "name": "stdout",
     "output_type": "stream",
     "text": [
      "\n"
     ]
    },
    {
     "name": "stdout",
     "output_type": "stream",
     "text": [
      "  Server is running at http://127.0.0.1:54327"
     ]
    },
    {
     "name": "stdout",
     "output_type": "stream",
     "text": [
      "\n"
     ]
    },
    {
     "name": "stdout",
     "output_type": "stream",
     "text": [
      "Connecting to H2O server at http://127.0.0.1:54327 .."
     ]
    },
    {
     "name": "stdout",
     "output_type": "stream",
     "text": [
      "."
     ]
    },
    {
     "name": "stdout",
     "output_type": "stream",
     "text": [
      " successful."
     ]
    },
    {
     "name": "stdout",
     "output_type": "stream",
     "text": [
      "\n"
     ]
    },
    {
     "data": {
      "text/html": [
       "<div style=\"overflow:auto\"><table style=\"width:50%\"><tr><td>H2O cluster uptime:</td>\n",
       "<td>05 secs</td></tr>\n",
       "<tr><td>H2O cluster timezone:</td>\n",
       "<td>Europe/Helsinki</td></tr>\n",
       "<tr><td>H2O data parsing timezone:</td>\n",
       "<td>UTC</td></tr>\n",
       "<tr><td>H2O cluster version:</td>\n",
       "<td>3.26.0.8</td></tr>\n",
       "<tr><td>H2O cluster version age:</td>\n",
       "<td>4 days </td></tr>\n",
       "<tr><td>H2O cluster name:</td>\n",
       "<td>#399869204</td></tr>\n",
       "<tr><td>H2O cluster total nodes:</td>\n",
       "<td>1</td></tr>\n",
       "<tr><td>H2O cluster free memory:</td>\n",
       "<td>26.63 Gb</td></tr>\n",
       "<tr><td>H2O cluster total cores:</td>\n",
       "<td>16</td></tr>\n",
       "<tr><td>H2O cluster allowed cores:</td>\n",
       "<td>16</td></tr>\n",
       "<tr><td>H2O cluster status:</td>\n",
       "<td>accepting new members, healthy</td></tr>\n",
       "<tr><td>H2O connection url:</td>\n",
       "<td>http://127.0.0.1:54327</td></tr>\n",
       "<tr><td>H2O connection proxy:</td>\n",
       "<td>{'http': None, 'https': None}</td></tr>\n",
       "<tr><td>H2O internal security:</td>\n",
       "<td>False</td></tr>\n",
       "<tr><td>H2O API Extensions:</td>\n",
       "<td>Amazon S3, XGBoost, Algos, AutoML, Core V3, TargetEncoder, Core V4</td></tr>\n",
       "<tr><td>Python version:</td>\n",
       "<td>3.6.6 final</td></tr></table></div>"
      ],
      "text/plain": [
       "--------------------------  ------------------------------------------------------------------\n",
       "H2O cluster uptime:         05 secs\n",
       "H2O cluster timezone:       Europe/Helsinki\n",
       "H2O data parsing timezone:  UTC\n",
       "H2O cluster version:        3.26.0.8\n",
       "H2O cluster version age:    4 days\n",
       "H2O cluster name:           #399869204\n",
       "H2O cluster total nodes:    1\n",
       "H2O cluster free memory:    26.63 Gb\n",
       "H2O cluster total cores:    16\n",
       "H2O cluster allowed cores:  16\n",
       "H2O cluster status:         accepting new members, healthy\n",
       "H2O connection url:         http://127.0.0.1:54327\n",
       "H2O connection proxy:       {'http': None, 'https': None}\n",
       "H2O internal security:      False\n",
       "H2O API Extensions:         Amazon S3, XGBoost, Algos, AutoML, Core V3, TargetEncoder, Core V4\n",
       "Python version:             3.6.6 final\n",
       "--------------------------  ------------------------------------------------------------------"
      ]
     },
     "metadata": {},
     "output_type": "display_data"
    },
    {
     "name": "stdout",
     "output_type": "stream",
     "text": [
      "H2O session _sid_9f79 closed."
     ]
    },
    {
     "name": "stdout",
     "output_type": "stream",
     "text": [
      "\n"
     ]
    },
    {
     "name": "stdout",
     "output_type": "stream",
     "text": [
      "Checking whether there is an H2O instance running at http://localhost:54321 "
     ]
    },
    {
     "name": "stdout",
     "output_type": "stream",
     "text": [
      "."
     ]
    },
    {
     "name": "stdout",
     "output_type": "stream",
     "text": [
      "."
     ]
    },
    {
     "name": "stdout",
     "output_type": "stream",
     "text": [
      "."
     ]
    },
    {
     "name": "stdout",
     "output_type": "stream",
     "text": [
      "."
     ]
    },
    {
     "name": "stdout",
     "output_type": "stream",
     "text": [
      "."
     ]
    },
    {
     "name": "stdout",
     "output_type": "stream",
     "text": [
      " not found."
     ]
    },
    {
     "name": "stdout",
     "output_type": "stream",
     "text": [
      "\n"
     ]
    },
    {
     "name": "stdout",
     "output_type": "stream",
     "text": [
      "Attempting to start a local H2O server..."
     ]
    },
    {
     "name": "stdout",
     "output_type": "stream",
     "text": [
      "\n"
     ]
    },
    {
     "name": "stdout",
     "output_type": "stream",
     "text": [
      "  Java Version: openjdk version \"1.8.0_222\"; OpenJDK Runtime Environment (build 1.8.0_222-b10); OpenJDK 64-Bit Server VM (build 25.222-b10, mixed mode)"
     ]
    },
    {
     "name": "stdout",
     "output_type": "stream",
     "text": [
      "\n"
     ]
    },
    {
     "name": "stdout",
     "output_type": "stream",
     "text": [
      "  Starting server from /wrk/users/thalvari/dpEmu/venv/lib/python3.6/site-packages/h2o/backend/bin/h2o.jar"
     ]
    },
    {
     "name": "stdout",
     "output_type": "stream",
     "text": [
      "\n"
     ]
    },
    {
     "name": "stdout",
     "output_type": "stream",
     "text": [
      "  Ice root: /wrk/users/thalvari/tmpoozeyzcv"
     ]
    },
    {
     "name": "stdout",
     "output_type": "stream",
     "text": [
      "\n"
     ]
    },
    {
     "name": "stdout",
     "output_type": "stream",
     "text": [
      "  JVM stdout: /wrk/users/thalvari/tmpoozeyzcv/h2o_thalvari_started_from_python.out"
     ]
    },
    {
     "name": "stdout",
     "output_type": "stream",
     "text": [
      "\n"
     ]
    },
    {
     "name": "stdout",
     "output_type": "stream",
     "text": [
      "  JVM stderr: /wrk/users/thalvari/tmpoozeyzcv/h2o_thalvari_started_from_python.err"
     ]
    },
    {
     "name": "stdout",
     "output_type": "stream",
     "text": [
      "\n"
     ]
    },
    {
     "name": "stdout",
     "output_type": "stream",
     "text": [
      "  Server is running at http://127.0.0.1:54323"
     ]
    },
    {
     "name": "stdout",
     "output_type": "stream",
     "text": [
      "\n"
     ]
    },
    {
     "name": "stdout",
     "output_type": "stream",
     "text": [
      "Connecting to H2O server at http://127.0.0.1:54323 .."
     ]
    },
    {
     "name": "stdout",
     "output_type": "stream",
     "text": [
      "."
     ]
    },
    {
     "name": "stdout",
     "output_type": "stream",
     "text": [
      " successful."
     ]
    },
    {
     "name": "stdout",
     "output_type": "stream",
     "text": [
      "\n"
     ]
    },
    {
     "data": {
      "text/html": [
       "<div style=\"overflow:auto\"><table style=\"width:50%\"><tr><td>H2O cluster uptime:</td>\n",
       "<td>05 secs</td></tr>\n",
       "<tr><td>H2O cluster timezone:</td>\n",
       "<td>Europe/Helsinki</td></tr>\n",
       "<tr><td>H2O data parsing timezone:</td>\n",
       "<td>UTC</td></tr>\n",
       "<tr><td>H2O cluster version:</td>\n",
       "<td>3.26.0.8</td></tr>\n",
       "<tr><td>H2O cluster version age:</td>\n",
       "<td>4 days </td></tr>\n",
       "<tr><td>H2O cluster name:</td>\n",
       "<td>#171994428</td></tr>\n",
       "<tr><td>H2O cluster total nodes:</td>\n",
       "<td>1</td></tr>\n",
       "<tr><td>H2O cluster free memory:</td>\n",
       "<td>26.64 Gb</td></tr>\n",
       "<tr><td>H2O cluster total cores:</td>\n",
       "<td>16</td></tr>\n",
       "<tr><td>H2O cluster allowed cores:</td>\n",
       "<td>16</td></tr>\n",
       "<tr><td>H2O cluster status:</td>\n",
       "<td>accepting new members, healthy</td></tr>\n",
       "<tr><td>H2O connection url:</td>\n",
       "<td>http://127.0.0.1:54323</td></tr>\n",
       "<tr><td>H2O connection proxy:</td>\n",
       "<td>{'http': None, 'https': None}</td></tr>\n",
       "<tr><td>H2O internal security:</td>\n",
       "<td>False</td></tr>\n",
       "<tr><td>H2O API Extensions:</td>\n",
       "<td>Amazon S3, XGBoost, Algos, AutoML, Core V3, TargetEncoder, Core V4</td></tr>\n",
       "<tr><td>Python version:</td>\n",
       "<td>3.6.6 final</td></tr></table></div>"
      ],
      "text/plain": [
       "--------------------------  ------------------------------------------------------------------\n",
       "H2O cluster uptime:         05 secs\n",
       "H2O cluster timezone:       Europe/Helsinki\n",
       "H2O data parsing timezone:  UTC\n",
       "H2O cluster version:        3.26.0.8\n",
       "H2O cluster version age:    4 days\n",
       "H2O cluster name:           #171994428\n",
       "H2O cluster total nodes:    1\n",
       "H2O cluster free memory:    26.64 Gb\n",
       "H2O cluster total cores:    16\n",
       "H2O cluster allowed cores:  16\n",
       "H2O cluster status:         accepting new members, healthy\n",
       "H2O connection url:         http://127.0.0.1:54323\n",
       "H2O connection proxy:       {'http': None, 'https': None}\n",
       "H2O internal security:      False\n",
       "H2O API Extensions:         Amazon S3, XGBoost, Algos, AutoML, Core V3, TargetEncoder, Core V4\n",
       "Python version:             3.6.6 final\n",
       "--------------------------  ------------------------------------------------------------------"
      ]
     },
     "metadata": {},
     "output_type": "display_data"
    },
    {
     "name": "stdout",
     "output_type": "stream",
     "text": [
      "H2O session _sid_9609 closed."
     ]
    },
    {
     "name": "stdout",
     "output_type": "stream",
     "text": [
      "\n"
     ]
    },
    {
     "name": "stdout",
     "output_type": "stream",
     "text": [
      "Checking whether there is an H2O instance running at http://localhost:54321 "
     ]
    },
    {
     "name": "stdout",
     "output_type": "stream",
     "text": [
      "."
     ]
    },
    {
     "name": "stdout",
     "output_type": "stream",
     "text": [
      "."
     ]
    },
    {
     "name": "stdout",
     "output_type": "stream",
     "text": [
      "."
     ]
    },
    {
     "name": "stdout",
     "output_type": "stream",
     "text": [
      "."
     ]
    },
    {
     "name": "stdout",
     "output_type": "stream",
     "text": [
      "."
     ]
    },
    {
     "name": "stdout",
     "output_type": "stream",
     "text": [
      " not found."
     ]
    },
    {
     "name": "stdout",
     "output_type": "stream",
     "text": [
      "\n"
     ]
    },
    {
     "name": "stdout",
     "output_type": "stream",
     "text": [
      "Attempting to start a local H2O server..."
     ]
    },
    {
     "name": "stdout",
     "output_type": "stream",
     "text": [
      "\n"
     ]
    },
    {
     "name": "stdout",
     "output_type": "stream",
     "text": [
      "  Java Version: openjdk version \"1.8.0_222\"; OpenJDK Runtime Environment (build 1.8.0_222-b10); OpenJDK 64-Bit Server VM (build 25.222-b10, mixed mode)"
     ]
    },
    {
     "name": "stdout",
     "output_type": "stream",
     "text": [
      "\n"
     ]
    },
    {
     "name": "stdout",
     "output_type": "stream",
     "text": [
      "  Starting server from /wrk/users/thalvari/dpEmu/venv/lib/python3.6/site-packages/h2o/backend/bin/h2o.jar"
     ]
    },
    {
     "name": "stdout",
     "output_type": "stream",
     "text": [
      "\n"
     ]
    },
    {
     "name": "stdout",
     "output_type": "stream",
     "text": [
      "  Ice root: /wrk/users/thalvari/tmpn4ckc7uc"
     ]
    },
    {
     "name": "stdout",
     "output_type": "stream",
     "text": [
      "\n"
     ]
    },
    {
     "name": "stdout",
     "output_type": "stream",
     "text": [
      "  JVM stdout: /wrk/users/thalvari/tmpn4ckc7uc/h2o_thalvari_started_from_python.out"
     ]
    },
    {
     "name": "stdout",
     "output_type": "stream",
     "text": [
      "\n"
     ]
    },
    {
     "name": "stdout",
     "output_type": "stream",
     "text": [
      "  JVM stderr: /wrk/users/thalvari/tmpn4ckc7uc/h2o_thalvari_started_from_python.err"
     ]
    },
    {
     "name": "stdout",
     "output_type": "stream",
     "text": [
      "\n"
     ]
    },
    {
     "name": "stdout",
     "output_type": "stream",
     "text": [
      "  Server is running at http://127.0.0.1:54329"
     ]
    },
    {
     "name": "stdout",
     "output_type": "stream",
     "text": [
      "\n"
     ]
    },
    {
     "name": "stdout",
     "output_type": "stream",
     "text": [
      "Connecting to H2O server at http://127.0.0.1:54329 .."
     ]
    },
    {
     "name": "stdout",
     "output_type": "stream",
     "text": [
      "."
     ]
    },
    {
     "name": "stdout",
     "output_type": "stream",
     "text": [
      " successful."
     ]
    },
    {
     "name": "stdout",
     "output_type": "stream",
     "text": [
      "\n"
     ]
    },
    {
     "data": {
      "text/html": [
       "<div style=\"overflow:auto\"><table style=\"width:50%\"><tr><td>H2O cluster uptime:</td>\n",
       "<td>05 secs</td></tr>\n",
       "<tr><td>H2O cluster timezone:</td>\n",
       "<td>Europe/Helsinki</td></tr>\n",
       "<tr><td>H2O data parsing timezone:</td>\n",
       "<td>UTC</td></tr>\n",
       "<tr><td>H2O cluster version:</td>\n",
       "<td>3.26.0.8</td></tr>\n",
       "<tr><td>H2O cluster version age:</td>\n",
       "<td>4 days </td></tr>\n",
       "<tr><td>H2O cluster name:</td>\n",
       "<td>#230771634</td></tr>\n",
       "<tr><td>H2O cluster total nodes:</td>\n",
       "<td>1</td></tr>\n",
       "<tr><td>H2O cluster free memory:</td>\n",
       "<td>26.62 Gb</td></tr>\n",
       "<tr><td>H2O cluster total cores:</td>\n",
       "<td>16</td></tr>\n",
       "<tr><td>H2O cluster allowed cores:</td>\n",
       "<td>16</td></tr>\n",
       "<tr><td>H2O cluster status:</td>\n",
       "<td>accepting new members, healthy</td></tr>\n",
       "<tr><td>H2O connection url:</td>\n",
       "<td>http://127.0.0.1:54329</td></tr>\n",
       "<tr><td>H2O connection proxy:</td>\n",
       "<td>{'http': None, 'https': None}</td></tr>\n",
       "<tr><td>H2O internal security:</td>\n",
       "<td>False</td></tr>\n",
       "<tr><td>H2O API Extensions:</td>\n",
       "<td>Amazon S3, XGBoost, Algos, AutoML, Core V3, TargetEncoder, Core V4</td></tr>\n",
       "<tr><td>Python version:</td>\n",
       "<td>3.6.6 final</td></tr></table></div>"
      ],
      "text/plain": [
       "--------------------------  ------------------------------------------------------------------\n",
       "H2O cluster uptime:         05 secs\n",
       "H2O cluster timezone:       Europe/Helsinki\n",
       "H2O data parsing timezone:  UTC\n",
       "H2O cluster version:        3.26.0.8\n",
       "H2O cluster version age:    4 days\n",
       "H2O cluster name:           #230771634\n",
       "H2O cluster total nodes:    1\n",
       "H2O cluster free memory:    26.62 Gb\n",
       "H2O cluster total cores:    16\n",
       "H2O cluster allowed cores:  16\n",
       "H2O cluster status:         accepting new members, healthy\n",
       "H2O connection url:         http://127.0.0.1:54329\n",
       "H2O connection proxy:       {'http': None, 'https': None}\n",
       "H2O internal security:      False\n",
       "H2O API Extensions:         Amazon S3, XGBoost, Algos, AutoML, Core V3, TargetEncoder, Core V4\n",
       "Python version:             3.6.6 final\n",
       "--------------------------  ------------------------------------------------------------------"
      ]
     },
     "metadata": {},
     "output_type": "display_data"
    },
    {
     "name": "stdout",
     "output_type": "stream",
     "text": [
      "H2O session _sid_a4e4 closed."
     ]
    },
    {
     "name": "stdout",
     "output_type": "stream",
     "text": [
      "\n"
     ]
    },
    {
     "name": "stdout",
     "output_type": "stream",
     "text": [
      "Checking whether there is an H2O instance running at http://localhost:54321 "
     ]
    },
    {
     "name": "stdout",
     "output_type": "stream",
     "text": [
      "."
     ]
    },
    {
     "name": "stdout",
     "output_type": "stream",
     "text": [
      "."
     ]
    },
    {
     "name": "stdout",
     "output_type": "stream",
     "text": [
      "."
     ]
    },
    {
     "name": "stdout",
     "output_type": "stream",
     "text": [
      "."
     ]
    },
    {
     "name": "stdout",
     "output_type": "stream",
     "text": [
      "."
     ]
    },
    {
     "name": "stdout",
     "output_type": "stream",
     "text": [
      " not found."
     ]
    },
    {
     "name": "stdout",
     "output_type": "stream",
     "text": [
      "\n"
     ]
    },
    {
     "name": "stdout",
     "output_type": "stream",
     "text": [
      "Attempting to start a local H2O server..."
     ]
    },
    {
     "name": "stdout",
     "output_type": "stream",
     "text": [
      "\n"
     ]
    },
    {
     "name": "stdout",
     "output_type": "stream",
     "text": [
      "  Java Version: openjdk version \"1.8.0_222\"; OpenJDK Runtime Environment (build 1.8.0_222-b10); OpenJDK 64-Bit Server VM (build 25.222-b10, mixed mode)"
     ]
    },
    {
     "name": "stdout",
     "output_type": "stream",
     "text": [
      "\n"
     ]
    },
    {
     "name": "stdout",
     "output_type": "stream",
     "text": [
      "  Starting server from /wrk/users/thalvari/dpEmu/venv/lib/python3.6/site-packages/h2o/backend/bin/h2o.jar"
     ]
    },
    {
     "name": "stdout",
     "output_type": "stream",
     "text": [
      "\n"
     ]
    },
    {
     "name": "stdout",
     "output_type": "stream",
     "text": [
      "  Ice root: /wrk/users/thalvari/tmp12tmh29o"
     ]
    },
    {
     "name": "stdout",
     "output_type": "stream",
     "text": [
      "\n"
     ]
    },
    {
     "name": "stdout",
     "output_type": "stream",
     "text": [
      "  JVM stdout: /wrk/users/thalvari/tmp12tmh29o/h2o_thalvari_started_from_python.out"
     ]
    },
    {
     "name": "stdout",
     "output_type": "stream",
     "text": [
      "\n"
     ]
    },
    {
     "name": "stdout",
     "output_type": "stream",
     "text": [
      "  JVM stderr: /wrk/users/thalvari/tmp12tmh29o/h2o_thalvari_started_from_python.err"
     ]
    },
    {
     "name": "stdout",
     "output_type": "stream",
     "text": [
      "\n"
     ]
    },
    {
     "name": "stdout",
     "output_type": "stream",
     "text": [
      "  Server is running at http://127.0.0.1:54331"
     ]
    },
    {
     "name": "stdout",
     "output_type": "stream",
     "text": [
      "\n"
     ]
    },
    {
     "name": "stdout",
     "output_type": "stream",
     "text": [
      "Connecting to H2O server at http://127.0.0.1:54331 .."
     ]
    },
    {
     "name": "stdout",
     "output_type": "stream",
     "text": [
      "."
     ]
    },
    {
     "name": "stdout",
     "output_type": "stream",
     "text": [
      " successful."
     ]
    },
    {
     "name": "stdout",
     "output_type": "stream",
     "text": [
      "\n"
     ]
    },
    {
     "data": {
      "text/html": [
       "<div style=\"overflow:auto\"><table style=\"width:50%\"><tr><td>H2O cluster uptime:</td>\n",
       "<td>05 secs</td></tr>\n",
       "<tr><td>H2O cluster timezone:</td>\n",
       "<td>Europe/Helsinki</td></tr>\n",
       "<tr><td>H2O data parsing timezone:</td>\n",
       "<td>UTC</td></tr>\n",
       "<tr><td>H2O cluster version:</td>\n",
       "<td>3.26.0.8</td></tr>\n",
       "<tr><td>H2O cluster version age:</td>\n",
       "<td>4 days </td></tr>\n",
       "<tr><td>H2O cluster name:</td>\n",
       "<td>#559157296</td></tr>\n",
       "<tr><td>H2O cluster total nodes:</td>\n",
       "<td>1</td></tr>\n",
       "<tr><td>H2O cluster free memory:</td>\n",
       "<td>26.67 Gb</td></tr>\n",
       "<tr><td>H2O cluster total cores:</td>\n",
       "<td>16</td></tr>\n",
       "<tr><td>H2O cluster allowed cores:</td>\n",
       "<td>16</td></tr>\n",
       "<tr><td>H2O cluster status:</td>\n",
       "<td>accepting new members, healthy</td></tr>\n",
       "<tr><td>H2O connection url:</td>\n",
       "<td>http://127.0.0.1:54331</td></tr>\n",
       "<tr><td>H2O connection proxy:</td>\n",
       "<td>{'http': None, 'https': None}</td></tr>\n",
       "<tr><td>H2O internal security:</td>\n",
       "<td>False</td></tr>\n",
       "<tr><td>H2O API Extensions:</td>\n",
       "<td>Amazon S3, XGBoost, Algos, AutoML, Core V3, TargetEncoder, Core V4</td></tr>\n",
       "<tr><td>Python version:</td>\n",
       "<td>3.6.6 final</td></tr></table></div>"
      ],
      "text/plain": [
       "--------------------------  ------------------------------------------------------------------\n",
       "H2O cluster uptime:         05 secs\n",
       "H2O cluster timezone:       Europe/Helsinki\n",
       "H2O data parsing timezone:  UTC\n",
       "H2O cluster version:        3.26.0.8\n",
       "H2O cluster version age:    4 days\n",
       "H2O cluster name:           #559157296\n",
       "H2O cluster total nodes:    1\n",
       "H2O cluster free memory:    26.67 Gb\n",
       "H2O cluster total cores:    16\n",
       "H2O cluster allowed cores:  16\n",
       "H2O cluster status:         accepting new members, healthy\n",
       "H2O connection url:         http://127.0.0.1:54331\n",
       "H2O connection proxy:       {'http': None, 'https': None}\n",
       "H2O internal security:      False\n",
       "H2O API Extensions:         Amazon S3, XGBoost, Algos, AutoML, Core V3, TargetEncoder, Core V4\n",
       "Python version:             3.6.6 final\n",
       "--------------------------  ------------------------------------------------------------------"
      ]
     },
     "metadata": {},
     "output_type": "display_data"
    },
    {
     "name": "stdout",
     "output_type": "stream",
     "text": [
      "H2O session _sid_aac5 closed."
     ]
    },
    {
     "name": "stdout",
     "output_type": "stream",
     "text": [
      "\n"
     ]
    },
    {
     "name": "stdout",
     "output_type": "stream",
     "text": [
      "Checking whether there is an H2O instance running at http://localhost:54321 "
     ]
    },
    {
     "name": "stdout",
     "output_type": "stream",
     "text": [
      "."
     ]
    },
    {
     "name": "stdout",
     "output_type": "stream",
     "text": [
      "."
     ]
    },
    {
     "name": "stdout",
     "output_type": "stream",
     "text": [
      "."
     ]
    },
    {
     "name": "stdout",
     "output_type": "stream",
     "text": [
      "."
     ]
    },
    {
     "name": "stdout",
     "output_type": "stream",
     "text": [
      "."
     ]
    },
    {
     "name": "stdout",
     "output_type": "stream",
     "text": [
      " not found."
     ]
    },
    {
     "name": "stdout",
     "output_type": "stream",
     "text": [
      "\n"
     ]
    },
    {
     "name": "stdout",
     "output_type": "stream",
     "text": [
      "Attempting to start a local H2O server..."
     ]
    },
    {
     "name": "stdout",
     "output_type": "stream",
     "text": [
      "\n"
     ]
    },
    {
     "name": "stdout",
     "output_type": "stream",
     "text": [
      "  Java Version: openjdk version \"1.8.0_222\"; OpenJDK Runtime Environment (build 1.8.0_222-b10); OpenJDK 64-Bit Server VM (build 25.222-b10, mixed mode)"
     ]
    },
    {
     "name": "stdout",
     "output_type": "stream",
     "text": [
      "\n"
     ]
    },
    {
     "name": "stdout",
     "output_type": "stream",
     "text": [
      "  Starting server from /wrk/users/thalvari/dpEmu/venv/lib/python3.6/site-packages/h2o/backend/bin/h2o.jar"
     ]
    },
    {
     "name": "stdout",
     "output_type": "stream",
     "text": [
      "\n"
     ]
    },
    {
     "name": "stdout",
     "output_type": "stream",
     "text": [
      "  Ice root: /wrk/users/thalvari/tmpnvrfe9x8"
     ]
    },
    {
     "name": "stdout",
     "output_type": "stream",
     "text": [
      "\n"
     ]
    },
    {
     "name": "stdout",
     "output_type": "stream",
     "text": [
      "  JVM stdout: /wrk/users/thalvari/tmpnvrfe9x8/h2o_thalvari_started_from_python.out"
     ]
    },
    {
     "name": "stdout",
     "output_type": "stream",
     "text": [
      "\n"
     ]
    },
    {
     "name": "stdout",
     "output_type": "stream",
     "text": [
      "  JVM stderr: /wrk/users/thalvari/tmpnvrfe9x8/h2o_thalvari_started_from_python.err"
     ]
    },
    {
     "name": "stdout",
     "output_type": "stream",
     "text": [
      "\n"
     ]
    },
    {
     "name": "stdout",
     "output_type": "stream",
     "text": [
      "  Server is running at http://127.0.0.1:54333"
     ]
    },
    {
     "name": "stdout",
     "output_type": "stream",
     "text": [
      "\n"
     ]
    },
    {
     "name": "stdout",
     "output_type": "stream",
     "text": [
      "Connecting to H2O server at http://127.0.0.1:54333 .."
     ]
    },
    {
     "name": "stdout",
     "output_type": "stream",
     "text": [
      "."
     ]
    },
    {
     "name": "stdout",
     "output_type": "stream",
     "text": [
      " successful."
     ]
    },
    {
     "name": "stdout",
     "output_type": "stream",
     "text": [
      "\n"
     ]
    },
    {
     "data": {
      "text/html": [
       "<div style=\"overflow:auto\"><table style=\"width:50%\"><tr><td>H2O cluster uptime:</td>\n",
       "<td>03 secs</td></tr>\n",
       "<tr><td>H2O cluster timezone:</td>\n",
       "<td>Europe/Helsinki</td></tr>\n",
       "<tr><td>H2O data parsing timezone:</td>\n",
       "<td>UTC</td></tr>\n",
       "<tr><td>H2O cluster version:</td>\n",
       "<td>3.26.0.8</td></tr>\n",
       "<tr><td>H2O cluster version age:</td>\n",
       "<td>4 days </td></tr>\n",
       "<tr><td>H2O cluster name:</td>\n",
       "<td>#606934309</td></tr>\n",
       "<tr><td>H2O cluster total nodes:</td>\n",
       "<td>1</td></tr>\n",
       "<tr><td>H2O cluster free memory:</td>\n",
       "<td>26.64 Gb</td></tr>\n",
       "<tr><td>H2O cluster total cores:</td>\n",
       "<td>16</td></tr>\n",
       "<tr><td>H2O cluster allowed cores:</td>\n",
       "<td>16</td></tr>\n",
       "<tr><td>H2O cluster status:</td>\n",
       "<td>accepting new members, healthy</td></tr>\n",
       "<tr><td>H2O connection url:</td>\n",
       "<td>http://127.0.0.1:54333</td></tr>\n",
       "<tr><td>H2O connection proxy:</td>\n",
       "<td>{'http': None, 'https': None}</td></tr>\n",
       "<tr><td>H2O internal security:</td>\n",
       "<td>False</td></tr>\n",
       "<tr><td>H2O API Extensions:</td>\n",
       "<td>Amazon S3, XGBoost, Algos, AutoML, Core V3, TargetEncoder, Core V4</td></tr>\n",
       "<tr><td>Python version:</td>\n",
       "<td>3.6.6 final</td></tr></table></div>"
      ],
      "text/plain": [
       "--------------------------  ------------------------------------------------------------------\n",
       "H2O cluster uptime:         03 secs\n",
       "H2O cluster timezone:       Europe/Helsinki\n",
       "H2O data parsing timezone:  UTC\n",
       "H2O cluster version:        3.26.0.8\n",
       "H2O cluster version age:    4 days\n",
       "H2O cluster name:           #606934309\n",
       "H2O cluster total nodes:    1\n",
       "H2O cluster free memory:    26.64 Gb\n",
       "H2O cluster total cores:    16\n",
       "H2O cluster allowed cores:  16\n",
       "H2O cluster status:         accepting new members, healthy\n",
       "H2O connection url:         http://127.0.0.1:54333\n",
       "H2O connection proxy:       {'http': None, 'https': None}\n",
       "H2O internal security:      False\n",
       "H2O API Extensions:         Amazon S3, XGBoost, Algos, AutoML, Core V3, TargetEncoder, Core V4\n",
       "Python version:             3.6.6 final\n",
       "--------------------------  ------------------------------------------------------------------"
      ]
     },
     "metadata": {},
     "output_type": "display_data"
    },
    {
     "name": "stdout",
     "output_type": "stream",
     "text": [
      "H2O session _sid_9722 closed."
     ]
    },
    {
     "name": "stdout",
     "output_type": "stream",
     "text": [
      "\n"
     ]
    },
    {
     "name": "stdout",
     "output_type": "stream",
     "text": [
      "Checking whether there is an H2O instance running at http://localhost:54321 "
     ]
    },
    {
     "name": "stdout",
     "output_type": "stream",
     "text": [
      "."
     ]
    },
    {
     "name": "stdout",
     "output_type": "stream",
     "text": [
      "."
     ]
    },
    {
     "name": "stdout",
     "output_type": "stream",
     "text": [
      "."
     ]
    },
    {
     "name": "stdout",
     "output_type": "stream",
     "text": [
      "."
     ]
    },
    {
     "name": "stdout",
     "output_type": "stream",
     "text": [
      "."
     ]
    },
    {
     "name": "stdout",
     "output_type": "stream",
     "text": [
      " not found."
     ]
    },
    {
     "name": "stdout",
     "output_type": "stream",
     "text": [
      "\n"
     ]
    },
    {
     "name": "stdout",
     "output_type": "stream",
     "text": [
      "Attempting to start a local H2O server..."
     ]
    },
    {
     "name": "stdout",
     "output_type": "stream",
     "text": [
      "\n"
     ]
    },
    {
     "name": "stdout",
     "output_type": "stream",
     "text": [
      "  Java Version: openjdk version \"1.8.0_222\"; OpenJDK Runtime Environment (build 1.8.0_222-b10); OpenJDK 64-Bit Server VM (build 25.222-b10, mixed mode)"
     ]
    },
    {
     "name": "stdout",
     "output_type": "stream",
     "text": [
      "\n"
     ]
    },
    {
     "name": "stdout",
     "output_type": "stream",
     "text": [
      "  Starting server from /wrk/users/thalvari/dpEmu/venv/lib/python3.6/site-packages/h2o/backend/bin/h2o.jar"
     ]
    },
    {
     "name": "stdout",
     "output_type": "stream",
     "text": [
      "\n"
     ]
    },
    {
     "name": "stdout",
     "output_type": "stream",
     "text": [
      "  Ice root: /wrk/users/thalvari/tmp4l_wglsm"
     ]
    },
    {
     "name": "stdout",
     "output_type": "stream",
     "text": [
      "\n"
     ]
    },
    {
     "name": "stdout",
     "output_type": "stream",
     "text": [
      "  JVM stdout: /wrk/users/thalvari/tmp4l_wglsm/h2o_thalvari_started_from_python.out"
     ]
    },
    {
     "name": "stdout",
     "output_type": "stream",
     "text": [
      "\n"
     ]
    },
    {
     "name": "stdout",
     "output_type": "stream",
     "text": [
      "  JVM stderr: /wrk/users/thalvari/tmp4l_wglsm/h2o_thalvari_started_from_python.err"
     ]
    },
    {
     "name": "stdout",
     "output_type": "stream",
     "text": [
      "\n"
     ]
    },
    {
     "name": "stdout",
     "output_type": "stream",
     "text": [
      "  Server is running at http://127.0.0.1:54335"
     ]
    },
    {
     "name": "stdout",
     "output_type": "stream",
     "text": [
      "\n"
     ]
    },
    {
     "name": "stdout",
     "output_type": "stream",
     "text": [
      "Connecting to H2O server at http://127.0.0.1:54335 .."
     ]
    },
    {
     "name": "stdout",
     "output_type": "stream",
     "text": [
      "."
     ]
    },
    {
     "name": "stdout",
     "output_type": "stream",
     "text": [
      " successful."
     ]
    },
    {
     "name": "stdout",
     "output_type": "stream",
     "text": [
      "\n"
     ]
    },
    {
     "data": {
      "text/html": [
       "<div style=\"overflow:auto\"><table style=\"width:50%\"><tr><td>H2O cluster uptime:</td>\n",
       "<td>02 secs</td></tr>\n",
       "<tr><td>H2O cluster timezone:</td>\n",
       "<td>Europe/Helsinki</td></tr>\n",
       "<tr><td>H2O data parsing timezone:</td>\n",
       "<td>UTC</td></tr>\n",
       "<tr><td>H2O cluster version:</td>\n",
       "<td>3.26.0.8</td></tr>\n",
       "<tr><td>H2O cluster version age:</td>\n",
       "<td>4 days </td></tr>\n",
       "<tr><td>H2O cluster name:</td>\n",
       "<td>#329693890</td></tr>\n",
       "<tr><td>H2O cluster total nodes:</td>\n",
       "<td>1</td></tr>\n",
       "<tr><td>H2O cluster free memory:</td>\n",
       "<td>26.67 Gb</td></tr>\n",
       "<tr><td>H2O cluster total cores:</td>\n",
       "<td>16</td></tr>\n",
       "<tr><td>H2O cluster allowed cores:</td>\n",
       "<td>16</td></tr>\n",
       "<tr><td>H2O cluster status:</td>\n",
       "<td>accepting new members, healthy</td></tr>\n",
       "<tr><td>H2O connection url:</td>\n",
       "<td>http://127.0.0.1:54335</td></tr>\n",
       "<tr><td>H2O connection proxy:</td>\n",
       "<td>{'http': None, 'https': None}</td></tr>\n",
       "<tr><td>H2O internal security:</td>\n",
       "<td>False</td></tr>\n",
       "<tr><td>H2O API Extensions:</td>\n",
       "<td>Amazon S3, XGBoost, Algos, AutoML, Core V3, TargetEncoder, Core V4</td></tr>\n",
       "<tr><td>Python version:</td>\n",
       "<td>3.6.6 final</td></tr></table></div>"
      ],
      "text/plain": [
       "--------------------------  ------------------------------------------------------------------\n",
       "H2O cluster uptime:         02 secs\n",
       "H2O cluster timezone:       Europe/Helsinki\n",
       "H2O data parsing timezone:  UTC\n",
       "H2O cluster version:        3.26.0.8\n",
       "H2O cluster version age:    4 days\n",
       "H2O cluster name:           #329693890\n",
       "H2O cluster total nodes:    1\n",
       "H2O cluster free memory:    26.67 Gb\n",
       "H2O cluster total cores:    16\n",
       "H2O cluster allowed cores:  16\n",
       "H2O cluster status:         accepting new members, healthy\n",
       "H2O connection url:         http://127.0.0.1:54335\n",
       "H2O connection proxy:       {'http': None, 'https': None}\n",
       "H2O internal security:      False\n",
       "H2O API Extensions:         Amazon S3, XGBoost, Algos, AutoML, Core V3, TargetEncoder, Core V4\n",
       "Python version:             3.6.6 final\n",
       "--------------------------  ------------------------------------------------------------------"
      ]
     },
     "metadata": {},
     "output_type": "display_data"
    },
    {
     "name": "stdout",
     "output_type": "stream",
     "text": [
      "H2O session _sid_8c7a closed."
     ]
    },
    {
     "name": "stdout",
     "output_type": "stream",
     "text": [
      "\n"
     ]
    },
    {
     "name": "stdout",
     "output_type": "stream",
     "text": [
      "H2O session _sid_bd61 closed."
     ]
    },
    {
     "name": "stdout",
     "output_type": "stream",
     "text": [
      "\n"
     ]
    },
    {
     "name": "stdout",
     "output_type": "stream",
     "text": [
      "H2O session _sid_98f5 closed."
     ]
    },
    {
     "name": "stdout",
     "output_type": "stream",
     "text": [
      "\n"
     ]
    },
    {
     "name": "stdout",
     "output_type": "stream",
     "text": [
      "H2O session _sid_880a closed."
     ]
    },
    {
     "name": "stdout",
     "output_type": "stream",
     "text": [
      "\n"
     ]
    },
    {
     "name": "stdout",
     "output_type": "stream",
     "text": [
      "H2O session _sid_9060 closed."
     ]
    },
    {
     "name": "stdout",
     "output_type": "stream",
     "text": [
      "\n"
     ]
    },
    {
     "name": "stdout",
     "output_type": "stream",
     "text": [
      "H2O session _sid_88ba closed."
     ]
    },
    {
     "name": "stdout",
     "output_type": "stream",
     "text": [
      "\n"
     ]
    },
    {
     "name": "stdout",
     "output_type": "stream",
     "text": [
      "H2O session _sid_a57b closed."
     ]
    },
    {
     "name": "stdout",
     "output_type": "stream",
     "text": [
      "\n"
     ]
    },
    {
     "name": "stdout",
     "output_type": "stream",
     "text": [
      "H2O session _sid_a6df closed."
     ]
    },
    {
     "name": "stdout",
     "output_type": "stream",
     "text": [
      "\n"
     ]
    },
    {
     "name": "stderr",
     "output_type": "stream",
     "text": [
      "WARNING:root:TimeoutError occurred at train() : "
     ]
    },
    {
     "name": "stderr",
     "output_type": "stream",
     "text": [
      "\n"
     ]
    },
    {
     "name": "stderr",
     "output_type": "stream",
     "text": [
      "WARNING:root:TimeoutError occurred at train() : "
     ]
    },
    {
     "name": "stderr",
     "output_type": "stream",
     "text": [
      "\n"
     ]
    },
    {
     "name": "stderr",
     "output_type": "stream",
     "text": [
      "WARNING:root:TimeoutError occurred at train() : "
     ]
    },
    {
     "name": "stderr",
     "output_type": "stream",
     "text": [
      "\n"
     ]
    },
    {
     "name": "stderr",
     "output_type": "stream",
     "text": [
      "WARNING:root:TimeoutError occurred at train() : "
     ]
    },
    {
     "name": "stderr",
     "output_type": "stream",
     "text": [
      "\n"
     ]
    },
    {
     "name": "stderr",
     "output_type": "stream",
     "text": [
      "WARNING:root:TimeoutError occurred at train() : "
     ]
    },
    {
     "name": "stderr",
     "output_type": "stream",
     "text": [
      "\n"
     ]
    },
    {
     "name": "stderr",
     "output_type": "stream",
     "text": [
      "WARNING:root:TimeoutError occurred at train() : "
     ]
    },
    {
     "name": "stderr",
     "output_type": "stream",
     "text": [
      "\n"
     ]
    },
    {
     "name": "stderr",
     "output_type": "stream",
     "text": [
      "WARNING:root:TimeoutError occurred at train() : "
     ]
    },
    {
     "name": "stderr",
     "output_type": "stream",
     "text": [
      "\n"
     ]
    },
    {
     "name": "stderr",
     "output_type": "stream",
     "text": [
      "WARNING:root:TimeoutError occurred at train() : "
     ]
    },
    {
     "name": "stderr",
     "output_type": "stream",
     "text": [
      "\n"
     ]
    },
    {
     "name": "stderr",
     "output_type": "stream",
     "text": [
      "WARNING:root:TimeoutError occurred at train() : "
     ]
    },
    {
     "name": "stderr",
     "output_type": "stream",
     "text": [
      "\n"
     ]
    },
    {
     "name": "stderr",
     "output_type": "stream",
     "text": [
      "WARNING:root:TimeoutError occurred at train() : "
     ]
    },
    {
     "name": "stderr",
     "output_type": "stream",
     "text": [
      "\n"
     ]
    },
    {
     "name": "stderr",
     "output_type": "stream",
     "text": [
      "WARNING:root:TimeoutError occurred at train() : "
     ]
    },
    {
     "name": "stderr",
     "output_type": "stream",
     "text": [
      "\n"
     ]
    },
    {
     "name": "stderr",
     "output_type": "stream",
     "text": [
      "WARNING:root:TimeoutError occurred at train() : "
     ]
    },
    {
     "name": "stderr",
     "output_type": "stream",
     "text": [
      "\n"
     ]
    },
    {
     "name": "stderr",
     "output_type": "stream",
     "text": [
      "WARNING:root:TimeoutError occurred at train() : "
     ]
    },
    {
     "name": "stderr",
     "output_type": "stream",
     "text": [
      "\n"
     ]
    },
    {
     "name": "stderr",
     "output_type": "stream",
     "text": [
      "\r",
      " 12%|█▎        | 1/8 [12:25:17<86:57:01, 44717.29s/it]"
     ]
    },
    {
     "name": "stderr",
     "output_type": "stream",
     "text": [
      "WARNING:root:TimeoutError occurred at train() : "
     ]
    },
    {
     "name": "stderr",
     "output_type": "stream",
     "text": [
      "\n"
     ]
    },
    {
     "name": "stderr",
     "output_type": "stream",
     "text": [
      "\r",
      " 25%|██▌       | 2/8 [12:38:19<52:33:40, 31536.73s/it]"
     ]
    },
    {
     "name": "stderr",
     "output_type": "stream",
     "text": [
      "WARNING:root:TimeoutError occurred at train() : "
     ]
    },
    {
     "name": "stderr",
     "output_type": "stream",
     "text": [
      "\n"
     ]
    },
    {
     "name": "stderr",
     "output_type": "stream",
     "text": [
      "\r",
      " 75%|███████▌  | 6/8 [12:41:00<12:16:15, 22087.82s/it]"
     ]
    },
    {
     "name": "stderr",
     "output_type": "stream",
     "text": [
      "\r",
      "100%|██████████| 8/8 [12:41:00<00:00, 5707.61s/it]    "
     ]
    },
    {
     "name": "stderr",
     "output_type": "stream",
     "text": [
      "\n"
     ]
    }
   ],
   "source": [
    "train_data, test_data, train_labels, test_labels = get_data()\n",
    "\n",
    "df = runner.run(\n",
    "    train_data=train_data,\n",
    "    test_data=test_data,\n",
    "    preproc=Preprocessor,\n",
    "    preproc_params=None,\n",
    "    err_root_node=get_err_root_node(),\n",
    "    err_params_list=get_err_params_list(),\n",
    "    model_params_dict_list=get_model_params_dict_list(train_labels, test_labels),\n",
    ")"
   ]
  },
  {
   "cell_type": "code",
   "execution_count": 10,
   "metadata": {
    "collapsed": false,
    "papermill": {
     "duration": 2.732125,
     "end_time": "2019-10-22T11:43:42.963272",
     "exception": false,
     "start_time": "2019-10-22T11:43:40.231147",
     "status": "completed"
    },
    "pycharm": {
     "name": "#%%\n"
    },
    "tags": []
   },
   "outputs": [
    {
     "data": {
      "text/plain": [
       "'AutoKeras #1'"
      ]
     },
     "metadata": {},
     "output_type": "display_data"
    },
    {
     "data": {
      "text/html": [
       "<style  type=\"text/css\" >\n",
       "</style><table id=\"T_3176ff7a_f4c1_11e9_84d2_008cfafbf396\" ><thead>    <tr>        <th class=\"col_heading level0 col0\" >max_angle</th>        <th class=\"col_heading level0 col1\" >test_acc</th>        <th class=\"col_heading level0 col2\" >train_acc</th>        <th class=\"col_heading level0 col3\" >time_err</th>        <th class=\"col_heading level0 col4\" >time_pre</th>        <th class=\"col_heading level0 col5\" >time_mod</th>    </tr></thead><tbody>\n",
       "                <tr>\n",
       "                                <td id=\"T_3176ff7a_f4c1_11e9_84d2_008cfafbf396row0_col0\" class=\"data row0 col0\" >0</td>\n",
       "                        <td id=\"T_3176ff7a_f4c1_11e9_84d2_008cfafbf396row0_col1\" class=\"data row0 col1\" >0.989</td>\n",
       "                        <td id=\"T_3176ff7a_f4c1_11e9_84d2_008cfafbf396row0_col2\" class=\"data row0 col2\" >0.999</td>\n",
       "                        <td id=\"T_3176ff7a_f4c1_11e9_84d2_008cfafbf396row0_col3\" class=\"data row0 col3\" >0.194</td>\n",
       "                        <td id=\"T_3176ff7a_f4c1_11e9_84d2_008cfafbf396row0_col4\" class=\"data row0 col4\" >0</td>\n",
       "                        <td id=\"T_3176ff7a_f4c1_11e9_84d2_008cfafbf396row0_col5\" class=\"data row0 col5\" >7265.15</td>\n",
       "            </tr>\n",
       "            <tr>\n",
       "                                <td id=\"T_3176ff7a_f4c1_11e9_84d2_008cfafbf396row1_col0\" class=\"data row1 col0\" >12</td>\n",
       "                        <td id=\"T_3176ff7a_f4c1_11e9_84d2_008cfafbf396row1_col1\" class=\"data row1 col1\" >0.978</td>\n",
       "                        <td id=\"T_3176ff7a_f4c1_11e9_84d2_008cfafbf396row1_col2\" class=\"data row1 col2\" >0.997</td>\n",
       "                        <td id=\"T_3176ff7a_f4c1_11e9_84d2_008cfafbf396row1_col3\" class=\"data row1 col3\" >0.262</td>\n",
       "                        <td id=\"T_3176ff7a_f4c1_11e9_84d2_008cfafbf396row1_col4\" class=\"data row1 col4\" >0</td>\n",
       "                        <td id=\"T_3176ff7a_f4c1_11e9_84d2_008cfafbf396row1_col5\" class=\"data row1 col5\" >7258.87</td>\n",
       "            </tr>\n",
       "            <tr>\n",
       "                                <td id=\"T_3176ff7a_f4c1_11e9_84d2_008cfafbf396row2_col0\" class=\"data row2 col0\" >24</td>\n",
       "                        <td id=\"T_3176ff7a_f4c1_11e9_84d2_008cfafbf396row2_col1\" class=\"data row2 col1\" >0.919</td>\n",
       "                        <td id=\"T_3176ff7a_f4c1_11e9_84d2_008cfafbf396row2_col2\" class=\"data row2 col2\" >0.989</td>\n",
       "                        <td id=\"T_3176ff7a_f4c1_11e9_84d2_008cfafbf396row2_col3\" class=\"data row2 col3\" >0.249</td>\n",
       "                        <td id=\"T_3176ff7a_f4c1_11e9_84d2_008cfafbf396row2_col4\" class=\"data row2 col4\" >0</td>\n",
       "                        <td id=\"T_3176ff7a_f4c1_11e9_84d2_008cfafbf396row2_col5\" class=\"data row2 col5\" >7204.62</td>\n",
       "            </tr>\n",
       "            <tr>\n",
       "                                <td id=\"T_3176ff7a_f4c1_11e9_84d2_008cfafbf396row3_col0\" class=\"data row3 col0\" >36</td>\n",
       "                        <td id=\"T_3176ff7a_f4c1_11e9_84d2_008cfafbf396row3_col1\" class=\"data row3 col1\" >0.886</td>\n",
       "                        <td id=\"T_3176ff7a_f4c1_11e9_84d2_008cfafbf396row3_col2\" class=\"data row3 col2\" >0.976</td>\n",
       "                        <td id=\"T_3176ff7a_f4c1_11e9_84d2_008cfafbf396row3_col3\" class=\"data row3 col3\" >0.273</td>\n",
       "                        <td id=\"T_3176ff7a_f4c1_11e9_84d2_008cfafbf396row3_col4\" class=\"data row3 col4\" >0</td>\n",
       "                        <td id=\"T_3176ff7a_f4c1_11e9_84d2_008cfafbf396row3_col5\" class=\"data row3 col5\" >7215.37</td>\n",
       "            </tr>\n",
       "            <tr>\n",
       "                                <td id=\"T_3176ff7a_f4c1_11e9_84d2_008cfafbf396row4_col0\" class=\"data row4 col0\" >48</td>\n",
       "                        <td id=\"T_3176ff7a_f4c1_11e9_84d2_008cfafbf396row4_col1\" class=\"data row4 col1\" >0.861</td>\n",
       "                        <td id=\"T_3176ff7a_f4c1_11e9_84d2_008cfafbf396row4_col2\" class=\"data row4 col2\" >0.963</td>\n",
       "                        <td id=\"T_3176ff7a_f4c1_11e9_84d2_008cfafbf396row4_col3\" class=\"data row4 col3\" >0.271</td>\n",
       "                        <td id=\"T_3176ff7a_f4c1_11e9_84d2_008cfafbf396row4_col4\" class=\"data row4 col4\" >0</td>\n",
       "                        <td id=\"T_3176ff7a_f4c1_11e9_84d2_008cfafbf396row4_col5\" class=\"data row4 col5\" >7205.21</td>\n",
       "            </tr>\n",
       "            <tr>\n",
       "                                <td id=\"T_3176ff7a_f4c1_11e9_84d2_008cfafbf396row5_col0\" class=\"data row5 col0\" >60</td>\n",
       "                        <td id=\"T_3176ff7a_f4c1_11e9_84d2_008cfafbf396row5_col1\" class=\"data row5 col1\" >0.828</td>\n",
       "                        <td id=\"T_3176ff7a_f4c1_11e9_84d2_008cfafbf396row5_col2\" class=\"data row5 col2\" >0.944</td>\n",
       "                        <td id=\"T_3176ff7a_f4c1_11e9_84d2_008cfafbf396row5_col3\" class=\"data row5 col3\" >0.269</td>\n",
       "                        <td id=\"T_3176ff7a_f4c1_11e9_84d2_008cfafbf396row5_col4\" class=\"data row5 col4\" >0</td>\n",
       "                        <td id=\"T_3176ff7a_f4c1_11e9_84d2_008cfafbf396row5_col5\" class=\"data row5 col5\" >7205.33</td>\n",
       "            </tr>\n",
       "            <tr>\n",
       "                                <td id=\"T_3176ff7a_f4c1_11e9_84d2_008cfafbf396row6_col0\" class=\"data row6 col0\" >72</td>\n",
       "                        <td id=\"T_3176ff7a_f4c1_11e9_84d2_008cfafbf396row6_col1\" class=\"data row6 col1\" >0.803</td>\n",
       "                        <td id=\"T_3176ff7a_f4c1_11e9_84d2_008cfafbf396row6_col2\" class=\"data row6 col2\" >0.979</td>\n",
       "                        <td id=\"T_3176ff7a_f4c1_11e9_84d2_008cfafbf396row6_col3\" class=\"data row6 col3\" >0.265</td>\n",
       "                        <td id=\"T_3176ff7a_f4c1_11e9_84d2_008cfafbf396row6_col4\" class=\"data row6 col4\" >0</td>\n",
       "                        <td id=\"T_3176ff7a_f4c1_11e9_84d2_008cfafbf396row6_col5\" class=\"data row6 col5\" >7283.34</td>\n",
       "            </tr>\n",
       "            <tr>\n",
       "                                <td id=\"T_3176ff7a_f4c1_11e9_84d2_008cfafbf396row7_col0\" class=\"data row7 col0\" >84</td>\n",
       "                        <td id=\"T_3176ff7a_f4c1_11e9_84d2_008cfafbf396row7_col1\" class=\"data row7 col1\" >0.775</td>\n",
       "                        <td id=\"T_3176ff7a_f4c1_11e9_84d2_008cfafbf396row7_col2\" class=\"data row7 col2\" >0.976</td>\n",
       "                        <td id=\"T_3176ff7a_f4c1_11e9_84d2_008cfafbf396row7_col3\" class=\"data row7 col3\" >0.276</td>\n",
       "                        <td id=\"T_3176ff7a_f4c1_11e9_84d2_008cfafbf396row7_col4\" class=\"data row7 col4\" >0</td>\n",
       "                        <td id=\"T_3176ff7a_f4c1_11e9_84d2_008cfafbf396row7_col5\" class=\"data row7 col5\" >7264.25</td>\n",
       "            </tr>\n",
       "    </tbody></table>"
      ],
      "text/plain": [
       "<pandas.io.formats.style.Styler at 0x2ab348515f98>"
      ]
     },
     "metadata": {},
     "output_type": "display_data"
    },
    {
     "data": {
      "text/html": [
       "<style  type=\"text/css\" >\n",
       "</style><table id=\"T_317c8012_f4c1_11e9_84d2_008cfafbf396\" ><thead>    <tr>        <th class=\"col_heading level0 col0\" >max_angle</th>        <th class=\"col_heading level0 col1\" >pipe_0</th>        <th class=\"col_heading level0 col2\" >pipe_1</th>        <th class=\"col_heading level0 col3\" >pipe_2</th>        <th class=\"col_heading level0 col4\" >pipe_3</th>        <th class=\"col_heading level0 col5\" >pipe_4</th>        <th class=\"col_heading level0 col6\" >pipe_5</th>        <th class=\"col_heading level0 col7\" >pipe_6</th>        <th class=\"col_heading level0 col8\" >pipe_7</th>        <th class=\"col_heading level0 col9\" >pipe_8</th>        <th class=\"col_heading level0 col10\" >pipe_9</th>        <th class=\"col_heading level0 col11\" >pipe_10</th>        <th class=\"col_heading level0 col12\" >pipe_11</th>        <th class=\"col_heading level0 col13\" >pipe_12</th>        <th class=\"col_heading level0 col14\" >pipe_13</th>        <th class=\"col_heading level0 col15\" >pipe_14</th>        <th class=\"col_heading level0 col16\" >pipe_15</th>        <th class=\"col_heading level0 col17\" >pipe_16</th>        <th class=\"col_heading level0 col18\" >pipe_17</th>        <th class=\"col_heading level0 col19\" >pipe_18</th>        <th class=\"col_heading level0 col20\" >pipe_19</th>        <th class=\"col_heading level0 col21\" >pipe_20</th>        <th class=\"col_heading level0 col22\" >pipe_21</th>        <th class=\"col_heading level0 col23\" >pipe_22</th>        <th class=\"col_heading level0 col24\" >pipe_23</th>        <th class=\"col_heading level0 col25\" >pipe_24</th>        <th class=\"col_heading level0 col26\" >pipe_25</th>        <th class=\"col_heading level0 col27\" >pipe_26</th>        <th class=\"col_heading level0 col28\" >pipe_27</th>        <th class=\"col_heading level0 col29\" >pipe_28</th>        <th class=\"col_heading level0 col30\" >pipe_29</th>        <th class=\"col_heading level0 col31\" >pipe_30</th>        <th class=\"col_heading level0 col32\" >pipe_31</th>        <th class=\"col_heading level0 col33\" >pipe_32</th>        <th class=\"col_heading level0 col34\" >pipe_33</th>        <th class=\"col_heading level0 col35\" >pipe_34</th>        <th class=\"col_heading level0 col36\" >pipe_35</th>        <th class=\"col_heading level0 col37\" >pipe_36</th>        <th class=\"col_heading level0 col38\" >pipe_37</th>        <th class=\"col_heading level0 col39\" >pipe_38</th>        <th class=\"col_heading level0 col40\" >pipe_39</th>        <th class=\"col_heading level0 col41\" >pipe_40</th>        <th class=\"col_heading level0 col42\" >pipe_41</th>        <th class=\"col_heading level0 col43\" >pipe_42</th>        <th class=\"col_heading level0 col44\" >pipe_43</th>        <th class=\"col_heading level0 col45\" >pipe_44</th>        <th class=\"col_heading level0 col46\" >pipe_45</th>        <th class=\"col_heading level0 col47\" >pipe_46</th>        <th class=\"col_heading level0 col48\" >pipe_47</th>        <th class=\"col_heading level0 col49\" >pipe_48</th>        <th class=\"col_heading level0 col50\" >pipe_49</th>        <th class=\"col_heading level0 col51\" >pipe_50</th>        <th class=\"col_heading level0 col52\" >pipe_51</th>        <th class=\"col_heading level0 col53\" >pipe_52</th>        <th class=\"col_heading level0 col54\" >pipe_53</th>        <th class=\"col_heading level0 col55\" >pipe_54</th>        <th class=\"col_heading level0 col56\" >pipe_55</th>        <th class=\"col_heading level0 col57\" >pipe_56</th>        <th class=\"col_heading level0 col58\" >pipe_57</th>        <th class=\"col_heading level0 col59\" >pipe_58</th>        <th class=\"col_heading level0 col60\" >pipe_59</th>        <th class=\"col_heading level0 col61\" >pipe_60</th>        <th class=\"col_heading level0 col62\" >pipe_61</th>        <th class=\"col_heading level0 col63\" >pipe_62</th>        <th class=\"col_heading level0 col64\" >pipe_63</th>        <th class=\"col_heading level0 col65\" >pipe_64</th>        <th class=\"col_heading level0 col66\" >pipe_65</th>        <th class=\"col_heading level0 col67\" >pipe_66</th>        <th class=\"col_heading level0 col68\" >pipe_67</th>        <th class=\"col_heading level0 col69\" >pipe_68</th>        <th class=\"col_heading level0 col70\" >pipe_69</th>        <th class=\"col_heading level0 col71\" >pipe_70</th>        <th class=\"col_heading level0 col72\" >pipe_71</th>        <th class=\"col_heading level0 col73\" >pipe_72</th>        <th class=\"col_heading level0 col74\" >pipe_73</th>        <th class=\"col_heading level0 col75\" >pipe_74</th>        <th class=\"col_heading level0 col76\" >pipe_75</th>    </tr></thead><tbody>\n",
       "                <tr>\n",
       "                                <td id=\"T_317c8012_f4c1_11e9_84d2_008cfafbf396row0_col0\" class=\"data row0 col0\" >0</td>\n",
       "                        <td id=\"T_317c8012_f4c1_11e9_84d2_008cfafbf396row0_col1\" class=\"data row0 col1\" >Conv2d(1, 64, kernel_size=(3, 3), stride=(1, 1), padding=(1, 1))</td>\n",
       "                        <td id=\"T_317c8012_f4c1_11e9_84d2_008cfafbf396row0_col2\" class=\"data row0 col2\" >BatchNorm2d(64, eps=1e-05, momentum=0.1, affine=True, track_running_stats=True)</td>\n",
       "                        <td id=\"T_317c8012_f4c1_11e9_84d2_008cfafbf396row0_col3\" class=\"data row0 col3\" >BatchNorm2d(64, eps=1e-05, momentum=0.1, affine=True, track_running_stats=True)</td>\n",
       "                        <td id=\"T_317c8012_f4c1_11e9_84d2_008cfafbf396row0_col4\" class=\"data row0 col4\" >ReLU()</td>\n",
       "                        <td id=\"T_317c8012_f4c1_11e9_84d2_008cfafbf396row0_col5\" class=\"data row0 col5\" >Conv2d(64, 64, kernel_size=(3, 3), stride=(1, 1), padding=(1, 1))</td>\n",
       "                        <td id=\"T_317c8012_f4c1_11e9_84d2_008cfafbf396row0_col6\" class=\"data row0 col6\" >BatchNorm2d(64, eps=1e-05, momentum=0.1, affine=True, track_running_stats=True)</td>\n",
       "                        <td id=\"T_317c8012_f4c1_11e9_84d2_008cfafbf396row0_col7\" class=\"data row0 col7\" >ReLU()</td>\n",
       "                        <td id=\"T_317c8012_f4c1_11e9_84d2_008cfafbf396row0_col8\" class=\"data row0 col8\" >Conv2d(64, 64, kernel_size=(3, 3), stride=(1, 1), padding=(1, 1))</td>\n",
       "                        <td id=\"T_317c8012_f4c1_11e9_84d2_008cfafbf396row0_col9\" class=\"data row0 col9\" >ReLU()</td>\n",
       "                        <td id=\"T_317c8012_f4c1_11e9_84d2_008cfafbf396row0_col10\" class=\"data row0 col10\" >Conv2d(64, 64, kernel_size=(1, 1), stride=(1, 1))</td>\n",
       "                        <td id=\"T_317c8012_f4c1_11e9_84d2_008cfafbf396row0_col11\" class=\"data row0 col11\" >TorchAdd()</td>\n",
       "                        <td id=\"T_317c8012_f4c1_11e9_84d2_008cfafbf396row0_col12\" class=\"data row0 col12\" >BatchNorm2d(64, eps=1e-05, momentum=0.1, affine=True, track_running_stats=True)</td>\n",
       "                        <td id=\"T_317c8012_f4c1_11e9_84d2_008cfafbf396row0_col13\" class=\"data row0 col13\" >ReLU()</td>\n",
       "                        <td id=\"T_317c8012_f4c1_11e9_84d2_008cfafbf396row0_col14\" class=\"data row0 col14\" >Conv2d(64, 64, kernel_size=(3, 3), stride=(1, 1), padding=(1, 1))</td>\n",
       "                        <td id=\"T_317c8012_f4c1_11e9_84d2_008cfafbf396row0_col15\" class=\"data row0 col15\" >BatchNorm2d(64, eps=1e-05, momentum=0.1, affine=True, track_running_stats=True)</td>\n",
       "                        <td id=\"T_317c8012_f4c1_11e9_84d2_008cfafbf396row0_col16\" class=\"data row0 col16\" >ReLU()</td>\n",
       "                        <td id=\"T_317c8012_f4c1_11e9_84d2_008cfafbf396row0_col17\" class=\"data row0 col17\" >Conv2d(64, 64, kernel_size=(3, 3), stride=(1, 1), padding=(1, 1))</td>\n",
       "                        <td id=\"T_317c8012_f4c1_11e9_84d2_008cfafbf396row0_col18\" class=\"data row0 col18\" >ReLU()</td>\n",
       "                        <td id=\"T_317c8012_f4c1_11e9_84d2_008cfafbf396row0_col19\" class=\"data row0 col19\" >Conv2d(64, 64, kernel_size=(1, 1), stride=(1, 1))</td>\n",
       "                        <td id=\"T_317c8012_f4c1_11e9_84d2_008cfafbf396row0_col20\" class=\"data row0 col20\" >TorchAdd()</td>\n",
       "                        <td id=\"T_317c8012_f4c1_11e9_84d2_008cfafbf396row0_col21\" class=\"data row0 col21\" >BatchNorm2d(64, eps=1e-05, momentum=0.1, affine=True, track_running_stats=True)</td>\n",
       "                        <td id=\"T_317c8012_f4c1_11e9_84d2_008cfafbf396row0_col22\" class=\"data row0 col22\" >ReLU()</td>\n",
       "                        <td id=\"T_317c8012_f4c1_11e9_84d2_008cfafbf396row0_col23\" class=\"data row0 col23\" >Conv2d(64, 128, kernel_size=(3, 3), stride=(2, 2), padding=(1, 1))</td>\n",
       "                        <td id=\"T_317c8012_f4c1_11e9_84d2_008cfafbf396row0_col24\" class=\"data row0 col24\" >BatchNorm2d(128, eps=1e-05, momentum=0.1, affine=True, track_running_stats=True)</td>\n",
       "                        <td id=\"T_317c8012_f4c1_11e9_84d2_008cfafbf396row0_col25\" class=\"data row0 col25\" >ReLU()</td>\n",
       "                        <td id=\"T_317c8012_f4c1_11e9_84d2_008cfafbf396row0_col26\" class=\"data row0 col26\" >Conv2d(128, 128, kernel_size=(3, 3), stride=(1, 1), padding=(1, 1))</td>\n",
       "                        <td id=\"T_317c8012_f4c1_11e9_84d2_008cfafbf396row0_col27\" class=\"data row0 col27\" >ReLU()</td>\n",
       "                        <td id=\"T_317c8012_f4c1_11e9_84d2_008cfafbf396row0_col28\" class=\"data row0 col28\" >Conv2d(64, 128, kernel_size=(1, 1), stride=(2, 2))</td>\n",
       "                        <td id=\"T_317c8012_f4c1_11e9_84d2_008cfafbf396row0_col29\" class=\"data row0 col29\" >TorchAdd()</td>\n",
       "                        <td id=\"T_317c8012_f4c1_11e9_84d2_008cfafbf396row0_col30\" class=\"data row0 col30\" >BatchNorm2d(128, eps=1e-05, momentum=0.1, affine=True, track_running_stats=True)</td>\n",
       "                        <td id=\"T_317c8012_f4c1_11e9_84d2_008cfafbf396row0_col31\" class=\"data row0 col31\" >ReLU()</td>\n",
       "                        <td id=\"T_317c8012_f4c1_11e9_84d2_008cfafbf396row0_col32\" class=\"data row0 col32\" >Conv2d(128, 128, kernel_size=(3, 3), stride=(1, 1), padding=(1, 1))</td>\n",
       "                        <td id=\"T_317c8012_f4c1_11e9_84d2_008cfafbf396row0_col33\" class=\"data row0 col33\" >BatchNorm2d(128, eps=1e-05, momentum=0.1, affine=True, track_running_stats=True)</td>\n",
       "                        <td id=\"T_317c8012_f4c1_11e9_84d2_008cfafbf396row0_col34\" class=\"data row0 col34\" >ReLU()</td>\n",
       "                        <td id=\"T_317c8012_f4c1_11e9_84d2_008cfafbf396row0_col35\" class=\"data row0 col35\" >Conv2d(128, 128, kernel_size=(3, 3), stride=(1, 1), padding=(1, 1))</td>\n",
       "                        <td id=\"T_317c8012_f4c1_11e9_84d2_008cfafbf396row0_col36\" class=\"data row0 col36\" >ReLU()</td>\n",
       "                        <td id=\"T_317c8012_f4c1_11e9_84d2_008cfafbf396row0_col37\" class=\"data row0 col37\" >Conv2d(128, 128, kernel_size=(1, 1), stride=(1, 1))</td>\n",
       "                        <td id=\"T_317c8012_f4c1_11e9_84d2_008cfafbf396row0_col38\" class=\"data row0 col38\" >TorchAdd()</td>\n",
       "                        <td id=\"T_317c8012_f4c1_11e9_84d2_008cfafbf396row0_col39\" class=\"data row0 col39\" >BatchNorm2d(128, eps=1e-05, momentum=0.1, affine=True, track_running_stats=True)</td>\n",
       "                        <td id=\"T_317c8012_f4c1_11e9_84d2_008cfafbf396row0_col40\" class=\"data row0 col40\" >ReLU()</td>\n",
       "                        <td id=\"T_317c8012_f4c1_11e9_84d2_008cfafbf396row0_col41\" class=\"data row0 col41\" >Conv2d(128, 256, kernel_size=(3, 3), stride=(2, 2), padding=(1, 1))</td>\n",
       "                        <td id=\"T_317c8012_f4c1_11e9_84d2_008cfafbf396row0_col42\" class=\"data row0 col42\" >BatchNorm2d(256, eps=1e-05, momentum=0.1, affine=True, track_running_stats=True)</td>\n",
       "                        <td id=\"T_317c8012_f4c1_11e9_84d2_008cfafbf396row0_col43\" class=\"data row0 col43\" >ReLU()</td>\n",
       "                        <td id=\"T_317c8012_f4c1_11e9_84d2_008cfafbf396row0_col44\" class=\"data row0 col44\" >Conv2d(256, 256, kernel_size=(3, 3), stride=(1, 1), padding=(1, 1))</td>\n",
       "                        <td id=\"T_317c8012_f4c1_11e9_84d2_008cfafbf396row0_col45\" class=\"data row0 col45\" >ReLU()</td>\n",
       "                        <td id=\"T_317c8012_f4c1_11e9_84d2_008cfafbf396row0_col46\" class=\"data row0 col46\" >Conv2d(128, 256, kernel_size=(1, 1), stride=(2, 2))</td>\n",
       "                        <td id=\"T_317c8012_f4c1_11e9_84d2_008cfafbf396row0_col47\" class=\"data row0 col47\" >TorchAdd()</td>\n",
       "                        <td id=\"T_317c8012_f4c1_11e9_84d2_008cfafbf396row0_col48\" class=\"data row0 col48\" >BatchNorm2d(256, eps=1e-05, momentum=0.1, affine=True, track_running_stats=True)</td>\n",
       "                        <td id=\"T_317c8012_f4c1_11e9_84d2_008cfafbf396row0_col49\" class=\"data row0 col49\" >ReLU()</td>\n",
       "                        <td id=\"T_317c8012_f4c1_11e9_84d2_008cfafbf396row0_col50\" class=\"data row0 col50\" >Conv2d(256, 256, kernel_size=(3, 3), stride=(1, 1), padding=(1, 1))</td>\n",
       "                        <td id=\"T_317c8012_f4c1_11e9_84d2_008cfafbf396row0_col51\" class=\"data row0 col51\" >BatchNorm2d(256, eps=1e-05, momentum=0.1, affine=True, track_running_stats=True)</td>\n",
       "                        <td id=\"T_317c8012_f4c1_11e9_84d2_008cfafbf396row0_col52\" class=\"data row0 col52\" >ReLU()</td>\n",
       "                        <td id=\"T_317c8012_f4c1_11e9_84d2_008cfafbf396row0_col53\" class=\"data row0 col53\" >Conv2d(256, 256, kernel_size=(3, 3), stride=(1, 1), padding=(1, 1))</td>\n",
       "                        <td id=\"T_317c8012_f4c1_11e9_84d2_008cfafbf396row0_col54\" class=\"data row0 col54\" >ReLU()</td>\n",
       "                        <td id=\"T_317c8012_f4c1_11e9_84d2_008cfafbf396row0_col55\" class=\"data row0 col55\" >Conv2d(256, 256, kernel_size=(1, 1), stride=(1, 1))</td>\n",
       "                        <td id=\"T_317c8012_f4c1_11e9_84d2_008cfafbf396row0_col56\" class=\"data row0 col56\" >TorchAdd()</td>\n",
       "                        <td id=\"T_317c8012_f4c1_11e9_84d2_008cfafbf396row0_col57\" class=\"data row0 col57\" >BatchNorm2d(256, eps=1e-05, momentum=0.1, affine=True, track_running_stats=True)</td>\n",
       "                        <td id=\"T_317c8012_f4c1_11e9_84d2_008cfafbf396row0_col58\" class=\"data row0 col58\" >ReLU()</td>\n",
       "                        <td id=\"T_317c8012_f4c1_11e9_84d2_008cfafbf396row0_col59\" class=\"data row0 col59\" >Conv2d(256, 512, kernel_size=(3, 3), stride=(2, 2), padding=(1, 1))</td>\n",
       "                        <td id=\"T_317c8012_f4c1_11e9_84d2_008cfafbf396row0_col60\" class=\"data row0 col60\" >BatchNorm2d(512, eps=1e-05, momentum=0.1, affine=True, track_running_stats=True)</td>\n",
       "                        <td id=\"T_317c8012_f4c1_11e9_84d2_008cfafbf396row0_col61\" class=\"data row0 col61\" >ReLU()</td>\n",
       "                        <td id=\"T_317c8012_f4c1_11e9_84d2_008cfafbf396row0_col62\" class=\"data row0 col62\" >Conv2d(512, 512, kernel_size=(3, 3), stride=(1, 1), padding=(1, 1))</td>\n",
       "                        <td id=\"T_317c8012_f4c1_11e9_84d2_008cfafbf396row0_col63\" class=\"data row0 col63\" >ReLU()</td>\n",
       "                        <td id=\"T_317c8012_f4c1_11e9_84d2_008cfafbf396row0_col64\" class=\"data row0 col64\" >Conv2d(256, 512, kernel_size=(1, 1), stride=(2, 2))</td>\n",
       "                        <td id=\"T_317c8012_f4c1_11e9_84d2_008cfafbf396row0_col65\" class=\"data row0 col65\" >TorchAdd()</td>\n",
       "                        <td id=\"T_317c8012_f4c1_11e9_84d2_008cfafbf396row0_col66\" class=\"data row0 col66\" >BatchNorm2d(512, eps=1e-05, momentum=0.1, affine=True, track_running_stats=True)</td>\n",
       "                        <td id=\"T_317c8012_f4c1_11e9_84d2_008cfafbf396row0_col67\" class=\"data row0 col67\" >ReLU()</td>\n",
       "                        <td id=\"T_317c8012_f4c1_11e9_84d2_008cfafbf396row0_col68\" class=\"data row0 col68\" >Conv2d(512, 512, kernel_size=(3, 3), stride=(1, 1), padding=(1, 1))</td>\n",
       "                        <td id=\"T_317c8012_f4c1_11e9_84d2_008cfafbf396row0_col69\" class=\"data row0 col69\" >BatchNorm2d(512, eps=1e-05, momentum=0.1, affine=True, track_running_stats=True)</td>\n",
       "                        <td id=\"T_317c8012_f4c1_11e9_84d2_008cfafbf396row0_col70\" class=\"data row0 col70\" >ReLU()</td>\n",
       "                        <td id=\"T_317c8012_f4c1_11e9_84d2_008cfafbf396row0_col71\" class=\"data row0 col71\" >Conv2d(512, 512, kernel_size=(3, 3), stride=(1, 1), padding=(1, 1))</td>\n",
       "                        <td id=\"T_317c8012_f4c1_11e9_84d2_008cfafbf396row0_col72\" class=\"data row0 col72\" >ReLU()</td>\n",
       "                        <td id=\"T_317c8012_f4c1_11e9_84d2_008cfafbf396row0_col73\" class=\"data row0 col73\" >Conv2d(512, 512, kernel_size=(1, 1), stride=(1, 1))</td>\n",
       "                        <td id=\"T_317c8012_f4c1_11e9_84d2_008cfafbf396row0_col74\" class=\"data row0 col74\" >TorchAdd()</td>\n",
       "                        <td id=\"T_317c8012_f4c1_11e9_84d2_008cfafbf396row0_col75\" class=\"data row0 col75\" >GlobalAvgPool2d()</td>\n",
       "                        <td id=\"T_317c8012_f4c1_11e9_84d2_008cfafbf396row0_col76\" class=\"data row0 col76\" >Linear(in_features=512, out_features=10, bias=True)</td>\n",
       "            </tr>\n",
       "            <tr>\n",
       "                                <td id=\"T_317c8012_f4c1_11e9_84d2_008cfafbf396row1_col0\" class=\"data row1 col0\" >12</td>\n",
       "                        <td id=\"T_317c8012_f4c1_11e9_84d2_008cfafbf396row1_col1\" class=\"data row1 col1\" >Conv2d(1, 64, kernel_size=(3, 3), stride=(1, 1), padding=(1, 1))</td>\n",
       "                        <td id=\"T_317c8012_f4c1_11e9_84d2_008cfafbf396row1_col2\" class=\"data row1 col2\" >BatchNorm2d(64, eps=1e-05, momentum=0.1, affine=True, track_running_stats=True)</td>\n",
       "                        <td id=\"T_317c8012_f4c1_11e9_84d2_008cfafbf396row1_col3\" class=\"data row1 col3\" >BatchNorm2d(64, eps=1e-05, momentum=0.1, affine=True, track_running_stats=True)</td>\n",
       "                        <td id=\"T_317c8012_f4c1_11e9_84d2_008cfafbf396row1_col4\" class=\"data row1 col4\" >ReLU()</td>\n",
       "                        <td id=\"T_317c8012_f4c1_11e9_84d2_008cfafbf396row1_col5\" class=\"data row1 col5\" >Conv2d(64, 64, kernel_size=(3, 3), stride=(1, 1), padding=(1, 1))</td>\n",
       "                        <td id=\"T_317c8012_f4c1_11e9_84d2_008cfafbf396row1_col6\" class=\"data row1 col6\" >BatchNorm2d(64, eps=1e-05, momentum=0.1, affine=True, track_running_stats=True)</td>\n",
       "                        <td id=\"T_317c8012_f4c1_11e9_84d2_008cfafbf396row1_col7\" class=\"data row1 col7\" >ReLU()</td>\n",
       "                        <td id=\"T_317c8012_f4c1_11e9_84d2_008cfafbf396row1_col8\" class=\"data row1 col8\" >Conv2d(64, 64, kernel_size=(3, 3), stride=(1, 1), padding=(1, 1))</td>\n",
       "                        <td id=\"T_317c8012_f4c1_11e9_84d2_008cfafbf396row1_col9\" class=\"data row1 col9\" >ReLU()</td>\n",
       "                        <td id=\"T_317c8012_f4c1_11e9_84d2_008cfafbf396row1_col10\" class=\"data row1 col10\" >Conv2d(64, 64, kernel_size=(1, 1), stride=(1, 1))</td>\n",
       "                        <td id=\"T_317c8012_f4c1_11e9_84d2_008cfafbf396row1_col11\" class=\"data row1 col11\" >TorchAdd()</td>\n",
       "                        <td id=\"T_317c8012_f4c1_11e9_84d2_008cfafbf396row1_col12\" class=\"data row1 col12\" >BatchNorm2d(64, eps=1e-05, momentum=0.1, affine=True, track_running_stats=True)</td>\n",
       "                        <td id=\"T_317c8012_f4c1_11e9_84d2_008cfafbf396row1_col13\" class=\"data row1 col13\" >ReLU()</td>\n",
       "                        <td id=\"T_317c8012_f4c1_11e9_84d2_008cfafbf396row1_col14\" class=\"data row1 col14\" >Conv2d(64, 64, kernel_size=(3, 3), stride=(1, 1), padding=(1, 1))</td>\n",
       "                        <td id=\"T_317c8012_f4c1_11e9_84d2_008cfafbf396row1_col15\" class=\"data row1 col15\" >BatchNorm2d(64, eps=1e-05, momentum=0.1, affine=True, track_running_stats=True)</td>\n",
       "                        <td id=\"T_317c8012_f4c1_11e9_84d2_008cfafbf396row1_col16\" class=\"data row1 col16\" >ReLU()</td>\n",
       "                        <td id=\"T_317c8012_f4c1_11e9_84d2_008cfafbf396row1_col17\" class=\"data row1 col17\" >Conv2d(64, 64, kernel_size=(3, 3), stride=(1, 1), padding=(1, 1))</td>\n",
       "                        <td id=\"T_317c8012_f4c1_11e9_84d2_008cfafbf396row1_col18\" class=\"data row1 col18\" >ReLU()</td>\n",
       "                        <td id=\"T_317c8012_f4c1_11e9_84d2_008cfafbf396row1_col19\" class=\"data row1 col19\" >Conv2d(64, 64, kernel_size=(1, 1), stride=(1, 1))</td>\n",
       "                        <td id=\"T_317c8012_f4c1_11e9_84d2_008cfafbf396row1_col20\" class=\"data row1 col20\" >TorchAdd()</td>\n",
       "                        <td id=\"T_317c8012_f4c1_11e9_84d2_008cfafbf396row1_col21\" class=\"data row1 col21\" >BatchNorm2d(64, eps=1e-05, momentum=0.1, affine=True, track_running_stats=True)</td>\n",
       "                        <td id=\"T_317c8012_f4c1_11e9_84d2_008cfafbf396row1_col22\" class=\"data row1 col22\" >ReLU()</td>\n",
       "                        <td id=\"T_317c8012_f4c1_11e9_84d2_008cfafbf396row1_col23\" class=\"data row1 col23\" >Conv2d(64, 128, kernel_size=(3, 3), stride=(2, 2), padding=(1, 1))</td>\n",
       "                        <td id=\"T_317c8012_f4c1_11e9_84d2_008cfafbf396row1_col24\" class=\"data row1 col24\" >BatchNorm2d(128, eps=1e-05, momentum=0.1, affine=True, track_running_stats=True)</td>\n",
       "                        <td id=\"T_317c8012_f4c1_11e9_84d2_008cfafbf396row1_col25\" class=\"data row1 col25\" >ReLU()</td>\n",
       "                        <td id=\"T_317c8012_f4c1_11e9_84d2_008cfafbf396row1_col26\" class=\"data row1 col26\" >Conv2d(128, 128, kernel_size=(3, 3), stride=(1, 1), padding=(1, 1))</td>\n",
       "                        <td id=\"T_317c8012_f4c1_11e9_84d2_008cfafbf396row1_col27\" class=\"data row1 col27\" >ReLU()</td>\n",
       "                        <td id=\"T_317c8012_f4c1_11e9_84d2_008cfafbf396row1_col28\" class=\"data row1 col28\" >Conv2d(64, 128, kernel_size=(1, 1), stride=(2, 2))</td>\n",
       "                        <td id=\"T_317c8012_f4c1_11e9_84d2_008cfafbf396row1_col29\" class=\"data row1 col29\" >TorchAdd()</td>\n",
       "                        <td id=\"T_317c8012_f4c1_11e9_84d2_008cfafbf396row1_col30\" class=\"data row1 col30\" >BatchNorm2d(128, eps=1e-05, momentum=0.1, affine=True, track_running_stats=True)</td>\n",
       "                        <td id=\"T_317c8012_f4c1_11e9_84d2_008cfafbf396row1_col31\" class=\"data row1 col31\" >ReLU()</td>\n",
       "                        <td id=\"T_317c8012_f4c1_11e9_84d2_008cfafbf396row1_col32\" class=\"data row1 col32\" >Conv2d(128, 128, kernel_size=(3, 3), stride=(1, 1), padding=(1, 1))</td>\n",
       "                        <td id=\"T_317c8012_f4c1_11e9_84d2_008cfafbf396row1_col33\" class=\"data row1 col33\" >BatchNorm2d(128, eps=1e-05, momentum=0.1, affine=True, track_running_stats=True)</td>\n",
       "                        <td id=\"T_317c8012_f4c1_11e9_84d2_008cfafbf396row1_col34\" class=\"data row1 col34\" >ReLU()</td>\n",
       "                        <td id=\"T_317c8012_f4c1_11e9_84d2_008cfafbf396row1_col35\" class=\"data row1 col35\" >Conv2d(128, 128, kernel_size=(3, 3), stride=(1, 1), padding=(1, 1))</td>\n",
       "                        <td id=\"T_317c8012_f4c1_11e9_84d2_008cfafbf396row1_col36\" class=\"data row1 col36\" >ReLU()</td>\n",
       "                        <td id=\"T_317c8012_f4c1_11e9_84d2_008cfafbf396row1_col37\" class=\"data row1 col37\" >Conv2d(128, 128, kernel_size=(1, 1), stride=(1, 1))</td>\n",
       "                        <td id=\"T_317c8012_f4c1_11e9_84d2_008cfafbf396row1_col38\" class=\"data row1 col38\" >TorchAdd()</td>\n",
       "                        <td id=\"T_317c8012_f4c1_11e9_84d2_008cfafbf396row1_col39\" class=\"data row1 col39\" >BatchNorm2d(128, eps=1e-05, momentum=0.1, affine=True, track_running_stats=True)</td>\n",
       "                        <td id=\"T_317c8012_f4c1_11e9_84d2_008cfafbf396row1_col40\" class=\"data row1 col40\" >ReLU()</td>\n",
       "                        <td id=\"T_317c8012_f4c1_11e9_84d2_008cfafbf396row1_col41\" class=\"data row1 col41\" >Conv2d(128, 256, kernel_size=(3, 3), stride=(2, 2), padding=(1, 1))</td>\n",
       "                        <td id=\"T_317c8012_f4c1_11e9_84d2_008cfafbf396row1_col42\" class=\"data row1 col42\" >BatchNorm2d(256, eps=1e-05, momentum=0.1, affine=True, track_running_stats=True)</td>\n",
       "                        <td id=\"T_317c8012_f4c1_11e9_84d2_008cfafbf396row1_col43\" class=\"data row1 col43\" >ReLU()</td>\n",
       "                        <td id=\"T_317c8012_f4c1_11e9_84d2_008cfafbf396row1_col44\" class=\"data row1 col44\" >Conv2d(256, 256, kernel_size=(3, 3), stride=(1, 1), padding=(1, 1))</td>\n",
       "                        <td id=\"T_317c8012_f4c1_11e9_84d2_008cfafbf396row1_col45\" class=\"data row1 col45\" >ReLU()</td>\n",
       "                        <td id=\"T_317c8012_f4c1_11e9_84d2_008cfafbf396row1_col46\" class=\"data row1 col46\" >Conv2d(128, 256, kernel_size=(1, 1), stride=(2, 2))</td>\n",
       "                        <td id=\"T_317c8012_f4c1_11e9_84d2_008cfafbf396row1_col47\" class=\"data row1 col47\" >TorchAdd()</td>\n",
       "                        <td id=\"T_317c8012_f4c1_11e9_84d2_008cfafbf396row1_col48\" class=\"data row1 col48\" >BatchNorm2d(256, eps=1e-05, momentum=0.1, affine=True, track_running_stats=True)</td>\n",
       "                        <td id=\"T_317c8012_f4c1_11e9_84d2_008cfafbf396row1_col49\" class=\"data row1 col49\" >ReLU()</td>\n",
       "                        <td id=\"T_317c8012_f4c1_11e9_84d2_008cfafbf396row1_col50\" class=\"data row1 col50\" >Conv2d(256, 256, kernel_size=(3, 3), stride=(1, 1), padding=(1, 1))</td>\n",
       "                        <td id=\"T_317c8012_f4c1_11e9_84d2_008cfafbf396row1_col51\" class=\"data row1 col51\" >BatchNorm2d(256, eps=1e-05, momentum=0.1, affine=True, track_running_stats=True)</td>\n",
       "                        <td id=\"T_317c8012_f4c1_11e9_84d2_008cfafbf396row1_col52\" class=\"data row1 col52\" >ReLU()</td>\n",
       "                        <td id=\"T_317c8012_f4c1_11e9_84d2_008cfafbf396row1_col53\" class=\"data row1 col53\" >Conv2d(256, 256, kernel_size=(3, 3), stride=(1, 1), padding=(1, 1))</td>\n",
       "                        <td id=\"T_317c8012_f4c1_11e9_84d2_008cfafbf396row1_col54\" class=\"data row1 col54\" >ReLU()</td>\n",
       "                        <td id=\"T_317c8012_f4c1_11e9_84d2_008cfafbf396row1_col55\" class=\"data row1 col55\" >Conv2d(256, 256, kernel_size=(1, 1), stride=(1, 1))</td>\n",
       "                        <td id=\"T_317c8012_f4c1_11e9_84d2_008cfafbf396row1_col56\" class=\"data row1 col56\" >TorchAdd()</td>\n",
       "                        <td id=\"T_317c8012_f4c1_11e9_84d2_008cfafbf396row1_col57\" class=\"data row1 col57\" >BatchNorm2d(256, eps=1e-05, momentum=0.1, affine=True, track_running_stats=True)</td>\n",
       "                        <td id=\"T_317c8012_f4c1_11e9_84d2_008cfafbf396row1_col58\" class=\"data row1 col58\" >ReLU()</td>\n",
       "                        <td id=\"T_317c8012_f4c1_11e9_84d2_008cfafbf396row1_col59\" class=\"data row1 col59\" >Conv2d(256, 512, kernel_size=(3, 3), stride=(2, 2), padding=(1, 1))</td>\n",
       "                        <td id=\"T_317c8012_f4c1_11e9_84d2_008cfafbf396row1_col60\" class=\"data row1 col60\" >BatchNorm2d(512, eps=1e-05, momentum=0.1, affine=True, track_running_stats=True)</td>\n",
       "                        <td id=\"T_317c8012_f4c1_11e9_84d2_008cfafbf396row1_col61\" class=\"data row1 col61\" >ReLU()</td>\n",
       "                        <td id=\"T_317c8012_f4c1_11e9_84d2_008cfafbf396row1_col62\" class=\"data row1 col62\" >Conv2d(512, 512, kernel_size=(3, 3), stride=(1, 1), padding=(1, 1))</td>\n",
       "                        <td id=\"T_317c8012_f4c1_11e9_84d2_008cfafbf396row1_col63\" class=\"data row1 col63\" >ReLU()</td>\n",
       "                        <td id=\"T_317c8012_f4c1_11e9_84d2_008cfafbf396row1_col64\" class=\"data row1 col64\" >Conv2d(256, 512, kernel_size=(1, 1), stride=(2, 2))</td>\n",
       "                        <td id=\"T_317c8012_f4c1_11e9_84d2_008cfafbf396row1_col65\" class=\"data row1 col65\" >TorchAdd()</td>\n",
       "                        <td id=\"T_317c8012_f4c1_11e9_84d2_008cfafbf396row1_col66\" class=\"data row1 col66\" >BatchNorm2d(512, eps=1e-05, momentum=0.1, affine=True, track_running_stats=True)</td>\n",
       "                        <td id=\"T_317c8012_f4c1_11e9_84d2_008cfafbf396row1_col67\" class=\"data row1 col67\" >ReLU()</td>\n",
       "                        <td id=\"T_317c8012_f4c1_11e9_84d2_008cfafbf396row1_col68\" class=\"data row1 col68\" >Conv2d(512, 512, kernel_size=(3, 3), stride=(1, 1), padding=(1, 1))</td>\n",
       "                        <td id=\"T_317c8012_f4c1_11e9_84d2_008cfafbf396row1_col69\" class=\"data row1 col69\" >BatchNorm2d(512, eps=1e-05, momentum=0.1, affine=True, track_running_stats=True)</td>\n",
       "                        <td id=\"T_317c8012_f4c1_11e9_84d2_008cfafbf396row1_col70\" class=\"data row1 col70\" >ReLU()</td>\n",
       "                        <td id=\"T_317c8012_f4c1_11e9_84d2_008cfafbf396row1_col71\" class=\"data row1 col71\" >Conv2d(512, 512, kernel_size=(3, 3), stride=(1, 1), padding=(1, 1))</td>\n",
       "                        <td id=\"T_317c8012_f4c1_11e9_84d2_008cfafbf396row1_col72\" class=\"data row1 col72\" >ReLU()</td>\n",
       "                        <td id=\"T_317c8012_f4c1_11e9_84d2_008cfafbf396row1_col73\" class=\"data row1 col73\" >Conv2d(512, 512, kernel_size=(1, 1), stride=(1, 1))</td>\n",
       "                        <td id=\"T_317c8012_f4c1_11e9_84d2_008cfafbf396row1_col74\" class=\"data row1 col74\" >TorchAdd()</td>\n",
       "                        <td id=\"T_317c8012_f4c1_11e9_84d2_008cfafbf396row1_col75\" class=\"data row1 col75\" >GlobalAvgPool2d()</td>\n",
       "                        <td id=\"T_317c8012_f4c1_11e9_84d2_008cfafbf396row1_col76\" class=\"data row1 col76\" >Linear(in_features=512, out_features=10, bias=True)</td>\n",
       "            </tr>\n",
       "            <tr>\n",
       "                                <td id=\"T_317c8012_f4c1_11e9_84d2_008cfafbf396row2_col0\" class=\"data row2 col0\" >24</td>\n",
       "                        <td id=\"T_317c8012_f4c1_11e9_84d2_008cfafbf396row2_col1\" class=\"data row2 col1\" >ReLU()</td>\n",
       "                        <td id=\"T_317c8012_f4c1_11e9_84d2_008cfafbf396row2_col2\" class=\"data row2 col2\" >BatchNorm2d(1, eps=1e-05, momentum=0.1, affine=True, track_running_stats=True)</td>\n",
       "                        <td id=\"T_317c8012_f4c1_11e9_84d2_008cfafbf396row2_col3\" class=\"data row2 col3\" >Conv2d(1, 64, kernel_size=(3, 3), stride=(1, 1), padding=(1, 1))</td>\n",
       "                        <td id=\"T_317c8012_f4c1_11e9_84d2_008cfafbf396row2_col4\" class=\"data row2 col4\" >MaxPool2d(kernel_size=2, stride=2, padding=0, dilation=1, ceil_mode=False)</td>\n",
       "                        <td id=\"T_317c8012_f4c1_11e9_84d2_008cfafbf396row2_col5\" class=\"data row2 col5\" >ReLU()</td>\n",
       "                        <td id=\"T_317c8012_f4c1_11e9_84d2_008cfafbf396row2_col6\" class=\"data row2 col6\" >BatchNorm2d(64, eps=1e-05, momentum=0.1, affine=True, track_running_stats=True)</td>\n",
       "                        <td id=\"T_317c8012_f4c1_11e9_84d2_008cfafbf396row2_col7\" class=\"data row2 col7\" >Conv2d(64, 64, kernel_size=(3, 3), stride=(1, 1), padding=(1, 1))</td>\n",
       "                        <td id=\"T_317c8012_f4c1_11e9_84d2_008cfafbf396row2_col8\" class=\"data row2 col8\" >MaxPool2d(kernel_size=2, stride=2, padding=0, dilation=1, ceil_mode=False)</td>\n",
       "                        <td id=\"T_317c8012_f4c1_11e9_84d2_008cfafbf396row2_col9\" class=\"data row2 col9\" >ReLU()</td>\n",
       "                        <td id=\"T_317c8012_f4c1_11e9_84d2_008cfafbf396row2_col10\" class=\"data row2 col10\" >BatchNorm2d(64, eps=1e-05, momentum=0.1, affine=True, track_running_stats=True)</td>\n",
       "                        <td id=\"T_317c8012_f4c1_11e9_84d2_008cfafbf396row2_col11\" class=\"data row2 col11\" >Conv2d(64, 64, kernel_size=(3, 3), stride=(1, 1), padding=(1, 1))</td>\n",
       "                        <td id=\"T_317c8012_f4c1_11e9_84d2_008cfafbf396row2_col12\" class=\"data row2 col12\" >MaxPool2d(kernel_size=2, stride=2, padding=0, dilation=1, ceil_mode=False)</td>\n",
       "                        <td id=\"T_317c8012_f4c1_11e9_84d2_008cfafbf396row2_col13\" class=\"data row2 col13\" >GlobalAvgPool2d()</td>\n",
       "                        <td id=\"T_317c8012_f4c1_11e9_84d2_008cfafbf396row2_col14\" class=\"data row2 col14\" >Dropout2d(p=0.25)</td>\n",
       "                        <td id=\"T_317c8012_f4c1_11e9_84d2_008cfafbf396row2_col15\" class=\"data row2 col15\" >Linear(in_features=64, out_features=64, bias=True)</td>\n",
       "                        <td id=\"T_317c8012_f4c1_11e9_84d2_008cfafbf396row2_col16\" class=\"data row2 col16\" >ReLU()</td>\n",
       "                        <td id=\"T_317c8012_f4c1_11e9_84d2_008cfafbf396row2_col17\" class=\"data row2 col17\" >Linear(in_features=64, out_features=10, bias=True)</td>\n",
       "                        <td id=\"T_317c8012_f4c1_11e9_84d2_008cfafbf396row2_col18\" class=\"data row2 col18\" >nan</td>\n",
       "                        <td id=\"T_317c8012_f4c1_11e9_84d2_008cfafbf396row2_col19\" class=\"data row2 col19\" >nan</td>\n",
       "                        <td id=\"T_317c8012_f4c1_11e9_84d2_008cfafbf396row2_col20\" class=\"data row2 col20\" >nan</td>\n",
       "                        <td id=\"T_317c8012_f4c1_11e9_84d2_008cfafbf396row2_col21\" class=\"data row2 col21\" >nan</td>\n",
       "                        <td id=\"T_317c8012_f4c1_11e9_84d2_008cfafbf396row2_col22\" class=\"data row2 col22\" >nan</td>\n",
       "                        <td id=\"T_317c8012_f4c1_11e9_84d2_008cfafbf396row2_col23\" class=\"data row2 col23\" >nan</td>\n",
       "                        <td id=\"T_317c8012_f4c1_11e9_84d2_008cfafbf396row2_col24\" class=\"data row2 col24\" >nan</td>\n",
       "                        <td id=\"T_317c8012_f4c1_11e9_84d2_008cfafbf396row2_col25\" class=\"data row2 col25\" >nan</td>\n",
       "                        <td id=\"T_317c8012_f4c1_11e9_84d2_008cfafbf396row2_col26\" class=\"data row2 col26\" >nan</td>\n",
       "                        <td id=\"T_317c8012_f4c1_11e9_84d2_008cfafbf396row2_col27\" class=\"data row2 col27\" >nan</td>\n",
       "                        <td id=\"T_317c8012_f4c1_11e9_84d2_008cfafbf396row2_col28\" class=\"data row2 col28\" >nan</td>\n",
       "                        <td id=\"T_317c8012_f4c1_11e9_84d2_008cfafbf396row2_col29\" class=\"data row2 col29\" >nan</td>\n",
       "                        <td id=\"T_317c8012_f4c1_11e9_84d2_008cfafbf396row2_col30\" class=\"data row2 col30\" >nan</td>\n",
       "                        <td id=\"T_317c8012_f4c1_11e9_84d2_008cfafbf396row2_col31\" class=\"data row2 col31\" >nan</td>\n",
       "                        <td id=\"T_317c8012_f4c1_11e9_84d2_008cfafbf396row2_col32\" class=\"data row2 col32\" >nan</td>\n",
       "                        <td id=\"T_317c8012_f4c1_11e9_84d2_008cfafbf396row2_col33\" class=\"data row2 col33\" >nan</td>\n",
       "                        <td id=\"T_317c8012_f4c1_11e9_84d2_008cfafbf396row2_col34\" class=\"data row2 col34\" >nan</td>\n",
       "                        <td id=\"T_317c8012_f4c1_11e9_84d2_008cfafbf396row2_col35\" class=\"data row2 col35\" >nan</td>\n",
       "                        <td id=\"T_317c8012_f4c1_11e9_84d2_008cfafbf396row2_col36\" class=\"data row2 col36\" >nan</td>\n",
       "                        <td id=\"T_317c8012_f4c1_11e9_84d2_008cfafbf396row2_col37\" class=\"data row2 col37\" >nan</td>\n",
       "                        <td id=\"T_317c8012_f4c1_11e9_84d2_008cfafbf396row2_col38\" class=\"data row2 col38\" >nan</td>\n",
       "                        <td id=\"T_317c8012_f4c1_11e9_84d2_008cfafbf396row2_col39\" class=\"data row2 col39\" >nan</td>\n",
       "                        <td id=\"T_317c8012_f4c1_11e9_84d2_008cfafbf396row2_col40\" class=\"data row2 col40\" >nan</td>\n",
       "                        <td id=\"T_317c8012_f4c1_11e9_84d2_008cfafbf396row2_col41\" class=\"data row2 col41\" >nan</td>\n",
       "                        <td id=\"T_317c8012_f4c1_11e9_84d2_008cfafbf396row2_col42\" class=\"data row2 col42\" >nan</td>\n",
       "                        <td id=\"T_317c8012_f4c1_11e9_84d2_008cfafbf396row2_col43\" class=\"data row2 col43\" >nan</td>\n",
       "                        <td id=\"T_317c8012_f4c1_11e9_84d2_008cfafbf396row2_col44\" class=\"data row2 col44\" >nan</td>\n",
       "                        <td id=\"T_317c8012_f4c1_11e9_84d2_008cfafbf396row2_col45\" class=\"data row2 col45\" >nan</td>\n",
       "                        <td id=\"T_317c8012_f4c1_11e9_84d2_008cfafbf396row2_col46\" class=\"data row2 col46\" >nan</td>\n",
       "                        <td id=\"T_317c8012_f4c1_11e9_84d2_008cfafbf396row2_col47\" class=\"data row2 col47\" >nan</td>\n",
       "                        <td id=\"T_317c8012_f4c1_11e9_84d2_008cfafbf396row2_col48\" class=\"data row2 col48\" >nan</td>\n",
       "                        <td id=\"T_317c8012_f4c1_11e9_84d2_008cfafbf396row2_col49\" class=\"data row2 col49\" >nan</td>\n",
       "                        <td id=\"T_317c8012_f4c1_11e9_84d2_008cfafbf396row2_col50\" class=\"data row2 col50\" >nan</td>\n",
       "                        <td id=\"T_317c8012_f4c1_11e9_84d2_008cfafbf396row2_col51\" class=\"data row2 col51\" >nan</td>\n",
       "                        <td id=\"T_317c8012_f4c1_11e9_84d2_008cfafbf396row2_col52\" class=\"data row2 col52\" >nan</td>\n",
       "                        <td id=\"T_317c8012_f4c1_11e9_84d2_008cfafbf396row2_col53\" class=\"data row2 col53\" >nan</td>\n",
       "                        <td id=\"T_317c8012_f4c1_11e9_84d2_008cfafbf396row2_col54\" class=\"data row2 col54\" >nan</td>\n",
       "                        <td id=\"T_317c8012_f4c1_11e9_84d2_008cfafbf396row2_col55\" class=\"data row2 col55\" >nan</td>\n",
       "                        <td id=\"T_317c8012_f4c1_11e9_84d2_008cfafbf396row2_col56\" class=\"data row2 col56\" >nan</td>\n",
       "                        <td id=\"T_317c8012_f4c1_11e9_84d2_008cfafbf396row2_col57\" class=\"data row2 col57\" >nan</td>\n",
       "                        <td id=\"T_317c8012_f4c1_11e9_84d2_008cfafbf396row2_col58\" class=\"data row2 col58\" >nan</td>\n",
       "                        <td id=\"T_317c8012_f4c1_11e9_84d2_008cfafbf396row2_col59\" class=\"data row2 col59\" >nan</td>\n",
       "                        <td id=\"T_317c8012_f4c1_11e9_84d2_008cfafbf396row2_col60\" class=\"data row2 col60\" >nan</td>\n",
       "                        <td id=\"T_317c8012_f4c1_11e9_84d2_008cfafbf396row2_col61\" class=\"data row2 col61\" >nan</td>\n",
       "                        <td id=\"T_317c8012_f4c1_11e9_84d2_008cfafbf396row2_col62\" class=\"data row2 col62\" >nan</td>\n",
       "                        <td id=\"T_317c8012_f4c1_11e9_84d2_008cfafbf396row2_col63\" class=\"data row2 col63\" >nan</td>\n",
       "                        <td id=\"T_317c8012_f4c1_11e9_84d2_008cfafbf396row2_col64\" class=\"data row2 col64\" >nan</td>\n",
       "                        <td id=\"T_317c8012_f4c1_11e9_84d2_008cfafbf396row2_col65\" class=\"data row2 col65\" >nan</td>\n",
       "                        <td id=\"T_317c8012_f4c1_11e9_84d2_008cfafbf396row2_col66\" class=\"data row2 col66\" >nan</td>\n",
       "                        <td id=\"T_317c8012_f4c1_11e9_84d2_008cfafbf396row2_col67\" class=\"data row2 col67\" >nan</td>\n",
       "                        <td id=\"T_317c8012_f4c1_11e9_84d2_008cfafbf396row2_col68\" class=\"data row2 col68\" >nan</td>\n",
       "                        <td id=\"T_317c8012_f4c1_11e9_84d2_008cfafbf396row2_col69\" class=\"data row2 col69\" >nan</td>\n",
       "                        <td id=\"T_317c8012_f4c1_11e9_84d2_008cfafbf396row2_col70\" class=\"data row2 col70\" >nan</td>\n",
       "                        <td id=\"T_317c8012_f4c1_11e9_84d2_008cfafbf396row2_col71\" class=\"data row2 col71\" >nan</td>\n",
       "                        <td id=\"T_317c8012_f4c1_11e9_84d2_008cfafbf396row2_col72\" class=\"data row2 col72\" >nan</td>\n",
       "                        <td id=\"T_317c8012_f4c1_11e9_84d2_008cfafbf396row2_col73\" class=\"data row2 col73\" >nan</td>\n",
       "                        <td id=\"T_317c8012_f4c1_11e9_84d2_008cfafbf396row2_col74\" class=\"data row2 col74\" >nan</td>\n",
       "                        <td id=\"T_317c8012_f4c1_11e9_84d2_008cfafbf396row2_col75\" class=\"data row2 col75\" >nan</td>\n",
       "                        <td id=\"T_317c8012_f4c1_11e9_84d2_008cfafbf396row2_col76\" class=\"data row2 col76\" >nan</td>\n",
       "            </tr>\n",
       "            <tr>\n",
       "                                <td id=\"T_317c8012_f4c1_11e9_84d2_008cfafbf396row3_col0\" class=\"data row3 col0\" >36</td>\n",
       "                        <td id=\"T_317c8012_f4c1_11e9_84d2_008cfafbf396row3_col1\" class=\"data row3 col1\" >ReLU()</td>\n",
       "                        <td id=\"T_317c8012_f4c1_11e9_84d2_008cfafbf396row3_col2\" class=\"data row3 col2\" >BatchNorm2d(1, eps=1e-05, momentum=0.1, affine=True, track_running_stats=True)</td>\n",
       "                        <td id=\"T_317c8012_f4c1_11e9_84d2_008cfafbf396row3_col3\" class=\"data row3 col3\" >Conv2d(1, 64, kernel_size=(3, 3), stride=(1, 1), padding=(1, 1))</td>\n",
       "                        <td id=\"T_317c8012_f4c1_11e9_84d2_008cfafbf396row3_col4\" class=\"data row3 col4\" >MaxPool2d(kernel_size=2, stride=2, padding=0, dilation=1, ceil_mode=False)</td>\n",
       "                        <td id=\"T_317c8012_f4c1_11e9_84d2_008cfafbf396row3_col5\" class=\"data row3 col5\" >ReLU()</td>\n",
       "                        <td id=\"T_317c8012_f4c1_11e9_84d2_008cfafbf396row3_col6\" class=\"data row3 col6\" >BatchNorm2d(64, eps=1e-05, momentum=0.1, affine=True, track_running_stats=True)</td>\n",
       "                        <td id=\"T_317c8012_f4c1_11e9_84d2_008cfafbf396row3_col7\" class=\"data row3 col7\" >Conv2d(64, 64, kernel_size=(3, 3), stride=(1, 1), padding=(1, 1))</td>\n",
       "                        <td id=\"T_317c8012_f4c1_11e9_84d2_008cfafbf396row3_col8\" class=\"data row3 col8\" >MaxPool2d(kernel_size=2, stride=2, padding=0, dilation=1, ceil_mode=False)</td>\n",
       "                        <td id=\"T_317c8012_f4c1_11e9_84d2_008cfafbf396row3_col9\" class=\"data row3 col9\" >ReLU()</td>\n",
       "                        <td id=\"T_317c8012_f4c1_11e9_84d2_008cfafbf396row3_col10\" class=\"data row3 col10\" >BatchNorm2d(64, eps=1e-05, momentum=0.1, affine=True, track_running_stats=True)</td>\n",
       "                        <td id=\"T_317c8012_f4c1_11e9_84d2_008cfafbf396row3_col11\" class=\"data row3 col11\" >Conv2d(64, 64, kernel_size=(3, 3), stride=(1, 1), padding=(1, 1))</td>\n",
       "                        <td id=\"T_317c8012_f4c1_11e9_84d2_008cfafbf396row3_col12\" class=\"data row3 col12\" >MaxPool2d(kernel_size=2, stride=2, padding=0, dilation=1, ceil_mode=False)</td>\n",
       "                        <td id=\"T_317c8012_f4c1_11e9_84d2_008cfafbf396row3_col13\" class=\"data row3 col13\" >GlobalAvgPool2d()</td>\n",
       "                        <td id=\"T_317c8012_f4c1_11e9_84d2_008cfafbf396row3_col14\" class=\"data row3 col14\" >Dropout2d(p=0.25)</td>\n",
       "                        <td id=\"T_317c8012_f4c1_11e9_84d2_008cfafbf396row3_col15\" class=\"data row3 col15\" >Linear(in_features=64, out_features=64, bias=True)</td>\n",
       "                        <td id=\"T_317c8012_f4c1_11e9_84d2_008cfafbf396row3_col16\" class=\"data row3 col16\" >ReLU()</td>\n",
       "                        <td id=\"T_317c8012_f4c1_11e9_84d2_008cfafbf396row3_col17\" class=\"data row3 col17\" >Linear(in_features=64, out_features=10, bias=True)</td>\n",
       "                        <td id=\"T_317c8012_f4c1_11e9_84d2_008cfafbf396row3_col18\" class=\"data row3 col18\" >nan</td>\n",
       "                        <td id=\"T_317c8012_f4c1_11e9_84d2_008cfafbf396row3_col19\" class=\"data row3 col19\" >nan</td>\n",
       "                        <td id=\"T_317c8012_f4c1_11e9_84d2_008cfafbf396row3_col20\" class=\"data row3 col20\" >nan</td>\n",
       "                        <td id=\"T_317c8012_f4c1_11e9_84d2_008cfafbf396row3_col21\" class=\"data row3 col21\" >nan</td>\n",
       "                        <td id=\"T_317c8012_f4c1_11e9_84d2_008cfafbf396row3_col22\" class=\"data row3 col22\" >nan</td>\n",
       "                        <td id=\"T_317c8012_f4c1_11e9_84d2_008cfafbf396row3_col23\" class=\"data row3 col23\" >nan</td>\n",
       "                        <td id=\"T_317c8012_f4c1_11e9_84d2_008cfafbf396row3_col24\" class=\"data row3 col24\" >nan</td>\n",
       "                        <td id=\"T_317c8012_f4c1_11e9_84d2_008cfafbf396row3_col25\" class=\"data row3 col25\" >nan</td>\n",
       "                        <td id=\"T_317c8012_f4c1_11e9_84d2_008cfafbf396row3_col26\" class=\"data row3 col26\" >nan</td>\n",
       "                        <td id=\"T_317c8012_f4c1_11e9_84d2_008cfafbf396row3_col27\" class=\"data row3 col27\" >nan</td>\n",
       "                        <td id=\"T_317c8012_f4c1_11e9_84d2_008cfafbf396row3_col28\" class=\"data row3 col28\" >nan</td>\n",
       "                        <td id=\"T_317c8012_f4c1_11e9_84d2_008cfafbf396row3_col29\" class=\"data row3 col29\" >nan</td>\n",
       "                        <td id=\"T_317c8012_f4c1_11e9_84d2_008cfafbf396row3_col30\" class=\"data row3 col30\" >nan</td>\n",
       "                        <td id=\"T_317c8012_f4c1_11e9_84d2_008cfafbf396row3_col31\" class=\"data row3 col31\" >nan</td>\n",
       "                        <td id=\"T_317c8012_f4c1_11e9_84d2_008cfafbf396row3_col32\" class=\"data row3 col32\" >nan</td>\n",
       "                        <td id=\"T_317c8012_f4c1_11e9_84d2_008cfafbf396row3_col33\" class=\"data row3 col33\" >nan</td>\n",
       "                        <td id=\"T_317c8012_f4c1_11e9_84d2_008cfafbf396row3_col34\" class=\"data row3 col34\" >nan</td>\n",
       "                        <td id=\"T_317c8012_f4c1_11e9_84d2_008cfafbf396row3_col35\" class=\"data row3 col35\" >nan</td>\n",
       "                        <td id=\"T_317c8012_f4c1_11e9_84d2_008cfafbf396row3_col36\" class=\"data row3 col36\" >nan</td>\n",
       "                        <td id=\"T_317c8012_f4c1_11e9_84d2_008cfafbf396row3_col37\" class=\"data row3 col37\" >nan</td>\n",
       "                        <td id=\"T_317c8012_f4c1_11e9_84d2_008cfafbf396row3_col38\" class=\"data row3 col38\" >nan</td>\n",
       "                        <td id=\"T_317c8012_f4c1_11e9_84d2_008cfafbf396row3_col39\" class=\"data row3 col39\" >nan</td>\n",
       "                        <td id=\"T_317c8012_f4c1_11e9_84d2_008cfafbf396row3_col40\" class=\"data row3 col40\" >nan</td>\n",
       "                        <td id=\"T_317c8012_f4c1_11e9_84d2_008cfafbf396row3_col41\" class=\"data row3 col41\" >nan</td>\n",
       "                        <td id=\"T_317c8012_f4c1_11e9_84d2_008cfafbf396row3_col42\" class=\"data row3 col42\" >nan</td>\n",
       "                        <td id=\"T_317c8012_f4c1_11e9_84d2_008cfafbf396row3_col43\" class=\"data row3 col43\" >nan</td>\n",
       "                        <td id=\"T_317c8012_f4c1_11e9_84d2_008cfafbf396row3_col44\" class=\"data row3 col44\" >nan</td>\n",
       "                        <td id=\"T_317c8012_f4c1_11e9_84d2_008cfafbf396row3_col45\" class=\"data row3 col45\" >nan</td>\n",
       "                        <td id=\"T_317c8012_f4c1_11e9_84d2_008cfafbf396row3_col46\" class=\"data row3 col46\" >nan</td>\n",
       "                        <td id=\"T_317c8012_f4c1_11e9_84d2_008cfafbf396row3_col47\" class=\"data row3 col47\" >nan</td>\n",
       "                        <td id=\"T_317c8012_f4c1_11e9_84d2_008cfafbf396row3_col48\" class=\"data row3 col48\" >nan</td>\n",
       "                        <td id=\"T_317c8012_f4c1_11e9_84d2_008cfafbf396row3_col49\" class=\"data row3 col49\" >nan</td>\n",
       "                        <td id=\"T_317c8012_f4c1_11e9_84d2_008cfafbf396row3_col50\" class=\"data row3 col50\" >nan</td>\n",
       "                        <td id=\"T_317c8012_f4c1_11e9_84d2_008cfafbf396row3_col51\" class=\"data row3 col51\" >nan</td>\n",
       "                        <td id=\"T_317c8012_f4c1_11e9_84d2_008cfafbf396row3_col52\" class=\"data row3 col52\" >nan</td>\n",
       "                        <td id=\"T_317c8012_f4c1_11e9_84d2_008cfafbf396row3_col53\" class=\"data row3 col53\" >nan</td>\n",
       "                        <td id=\"T_317c8012_f4c1_11e9_84d2_008cfafbf396row3_col54\" class=\"data row3 col54\" >nan</td>\n",
       "                        <td id=\"T_317c8012_f4c1_11e9_84d2_008cfafbf396row3_col55\" class=\"data row3 col55\" >nan</td>\n",
       "                        <td id=\"T_317c8012_f4c1_11e9_84d2_008cfafbf396row3_col56\" class=\"data row3 col56\" >nan</td>\n",
       "                        <td id=\"T_317c8012_f4c1_11e9_84d2_008cfafbf396row3_col57\" class=\"data row3 col57\" >nan</td>\n",
       "                        <td id=\"T_317c8012_f4c1_11e9_84d2_008cfafbf396row3_col58\" class=\"data row3 col58\" >nan</td>\n",
       "                        <td id=\"T_317c8012_f4c1_11e9_84d2_008cfafbf396row3_col59\" class=\"data row3 col59\" >nan</td>\n",
       "                        <td id=\"T_317c8012_f4c1_11e9_84d2_008cfafbf396row3_col60\" class=\"data row3 col60\" >nan</td>\n",
       "                        <td id=\"T_317c8012_f4c1_11e9_84d2_008cfafbf396row3_col61\" class=\"data row3 col61\" >nan</td>\n",
       "                        <td id=\"T_317c8012_f4c1_11e9_84d2_008cfafbf396row3_col62\" class=\"data row3 col62\" >nan</td>\n",
       "                        <td id=\"T_317c8012_f4c1_11e9_84d2_008cfafbf396row3_col63\" class=\"data row3 col63\" >nan</td>\n",
       "                        <td id=\"T_317c8012_f4c1_11e9_84d2_008cfafbf396row3_col64\" class=\"data row3 col64\" >nan</td>\n",
       "                        <td id=\"T_317c8012_f4c1_11e9_84d2_008cfafbf396row3_col65\" class=\"data row3 col65\" >nan</td>\n",
       "                        <td id=\"T_317c8012_f4c1_11e9_84d2_008cfafbf396row3_col66\" class=\"data row3 col66\" >nan</td>\n",
       "                        <td id=\"T_317c8012_f4c1_11e9_84d2_008cfafbf396row3_col67\" class=\"data row3 col67\" >nan</td>\n",
       "                        <td id=\"T_317c8012_f4c1_11e9_84d2_008cfafbf396row3_col68\" class=\"data row3 col68\" >nan</td>\n",
       "                        <td id=\"T_317c8012_f4c1_11e9_84d2_008cfafbf396row3_col69\" class=\"data row3 col69\" >nan</td>\n",
       "                        <td id=\"T_317c8012_f4c1_11e9_84d2_008cfafbf396row3_col70\" class=\"data row3 col70\" >nan</td>\n",
       "                        <td id=\"T_317c8012_f4c1_11e9_84d2_008cfafbf396row3_col71\" class=\"data row3 col71\" >nan</td>\n",
       "                        <td id=\"T_317c8012_f4c1_11e9_84d2_008cfafbf396row3_col72\" class=\"data row3 col72\" >nan</td>\n",
       "                        <td id=\"T_317c8012_f4c1_11e9_84d2_008cfafbf396row3_col73\" class=\"data row3 col73\" >nan</td>\n",
       "                        <td id=\"T_317c8012_f4c1_11e9_84d2_008cfafbf396row3_col74\" class=\"data row3 col74\" >nan</td>\n",
       "                        <td id=\"T_317c8012_f4c1_11e9_84d2_008cfafbf396row3_col75\" class=\"data row3 col75\" >nan</td>\n",
       "                        <td id=\"T_317c8012_f4c1_11e9_84d2_008cfafbf396row3_col76\" class=\"data row3 col76\" >nan</td>\n",
       "            </tr>\n",
       "            <tr>\n",
       "                                <td id=\"T_317c8012_f4c1_11e9_84d2_008cfafbf396row4_col0\" class=\"data row4 col0\" >48</td>\n",
       "                        <td id=\"T_317c8012_f4c1_11e9_84d2_008cfafbf396row4_col1\" class=\"data row4 col1\" >ReLU()</td>\n",
       "                        <td id=\"T_317c8012_f4c1_11e9_84d2_008cfafbf396row4_col2\" class=\"data row4 col2\" >BatchNorm2d(1, eps=1e-05, momentum=0.1, affine=True, track_running_stats=True)</td>\n",
       "                        <td id=\"T_317c8012_f4c1_11e9_84d2_008cfafbf396row4_col3\" class=\"data row4 col3\" >Conv2d(1, 64, kernel_size=(3, 3), stride=(1, 1), padding=(1, 1))</td>\n",
       "                        <td id=\"T_317c8012_f4c1_11e9_84d2_008cfafbf396row4_col4\" class=\"data row4 col4\" >MaxPool2d(kernel_size=2, stride=2, padding=0, dilation=1, ceil_mode=False)</td>\n",
       "                        <td id=\"T_317c8012_f4c1_11e9_84d2_008cfafbf396row4_col5\" class=\"data row4 col5\" >ReLU()</td>\n",
       "                        <td id=\"T_317c8012_f4c1_11e9_84d2_008cfafbf396row4_col6\" class=\"data row4 col6\" >BatchNorm2d(64, eps=1e-05, momentum=0.1, affine=True, track_running_stats=True)</td>\n",
       "                        <td id=\"T_317c8012_f4c1_11e9_84d2_008cfafbf396row4_col7\" class=\"data row4 col7\" >Conv2d(64, 64, kernel_size=(3, 3), stride=(1, 1), padding=(1, 1))</td>\n",
       "                        <td id=\"T_317c8012_f4c1_11e9_84d2_008cfafbf396row4_col8\" class=\"data row4 col8\" >MaxPool2d(kernel_size=2, stride=2, padding=0, dilation=1, ceil_mode=False)</td>\n",
       "                        <td id=\"T_317c8012_f4c1_11e9_84d2_008cfafbf396row4_col9\" class=\"data row4 col9\" >ReLU()</td>\n",
       "                        <td id=\"T_317c8012_f4c1_11e9_84d2_008cfafbf396row4_col10\" class=\"data row4 col10\" >BatchNorm2d(64, eps=1e-05, momentum=0.1, affine=True, track_running_stats=True)</td>\n",
       "                        <td id=\"T_317c8012_f4c1_11e9_84d2_008cfafbf396row4_col11\" class=\"data row4 col11\" >Conv2d(64, 64, kernel_size=(3, 3), stride=(1, 1), padding=(1, 1))</td>\n",
       "                        <td id=\"T_317c8012_f4c1_11e9_84d2_008cfafbf396row4_col12\" class=\"data row4 col12\" >MaxPool2d(kernel_size=2, stride=2, padding=0, dilation=1, ceil_mode=False)</td>\n",
       "                        <td id=\"T_317c8012_f4c1_11e9_84d2_008cfafbf396row4_col13\" class=\"data row4 col13\" >GlobalAvgPool2d()</td>\n",
       "                        <td id=\"T_317c8012_f4c1_11e9_84d2_008cfafbf396row4_col14\" class=\"data row4 col14\" >Dropout2d(p=0.25)</td>\n",
       "                        <td id=\"T_317c8012_f4c1_11e9_84d2_008cfafbf396row4_col15\" class=\"data row4 col15\" >Linear(in_features=64, out_features=64, bias=True)</td>\n",
       "                        <td id=\"T_317c8012_f4c1_11e9_84d2_008cfafbf396row4_col16\" class=\"data row4 col16\" >ReLU()</td>\n",
       "                        <td id=\"T_317c8012_f4c1_11e9_84d2_008cfafbf396row4_col17\" class=\"data row4 col17\" >Linear(in_features=64, out_features=10, bias=True)</td>\n",
       "                        <td id=\"T_317c8012_f4c1_11e9_84d2_008cfafbf396row4_col18\" class=\"data row4 col18\" >nan</td>\n",
       "                        <td id=\"T_317c8012_f4c1_11e9_84d2_008cfafbf396row4_col19\" class=\"data row4 col19\" >nan</td>\n",
       "                        <td id=\"T_317c8012_f4c1_11e9_84d2_008cfafbf396row4_col20\" class=\"data row4 col20\" >nan</td>\n",
       "                        <td id=\"T_317c8012_f4c1_11e9_84d2_008cfafbf396row4_col21\" class=\"data row4 col21\" >nan</td>\n",
       "                        <td id=\"T_317c8012_f4c1_11e9_84d2_008cfafbf396row4_col22\" class=\"data row4 col22\" >nan</td>\n",
       "                        <td id=\"T_317c8012_f4c1_11e9_84d2_008cfafbf396row4_col23\" class=\"data row4 col23\" >nan</td>\n",
       "                        <td id=\"T_317c8012_f4c1_11e9_84d2_008cfafbf396row4_col24\" class=\"data row4 col24\" >nan</td>\n",
       "                        <td id=\"T_317c8012_f4c1_11e9_84d2_008cfafbf396row4_col25\" class=\"data row4 col25\" >nan</td>\n",
       "                        <td id=\"T_317c8012_f4c1_11e9_84d2_008cfafbf396row4_col26\" class=\"data row4 col26\" >nan</td>\n",
       "                        <td id=\"T_317c8012_f4c1_11e9_84d2_008cfafbf396row4_col27\" class=\"data row4 col27\" >nan</td>\n",
       "                        <td id=\"T_317c8012_f4c1_11e9_84d2_008cfafbf396row4_col28\" class=\"data row4 col28\" >nan</td>\n",
       "                        <td id=\"T_317c8012_f4c1_11e9_84d2_008cfafbf396row4_col29\" class=\"data row4 col29\" >nan</td>\n",
       "                        <td id=\"T_317c8012_f4c1_11e9_84d2_008cfafbf396row4_col30\" class=\"data row4 col30\" >nan</td>\n",
       "                        <td id=\"T_317c8012_f4c1_11e9_84d2_008cfafbf396row4_col31\" class=\"data row4 col31\" >nan</td>\n",
       "                        <td id=\"T_317c8012_f4c1_11e9_84d2_008cfafbf396row4_col32\" class=\"data row4 col32\" >nan</td>\n",
       "                        <td id=\"T_317c8012_f4c1_11e9_84d2_008cfafbf396row4_col33\" class=\"data row4 col33\" >nan</td>\n",
       "                        <td id=\"T_317c8012_f4c1_11e9_84d2_008cfafbf396row4_col34\" class=\"data row4 col34\" >nan</td>\n",
       "                        <td id=\"T_317c8012_f4c1_11e9_84d2_008cfafbf396row4_col35\" class=\"data row4 col35\" >nan</td>\n",
       "                        <td id=\"T_317c8012_f4c1_11e9_84d2_008cfafbf396row4_col36\" class=\"data row4 col36\" >nan</td>\n",
       "                        <td id=\"T_317c8012_f4c1_11e9_84d2_008cfafbf396row4_col37\" class=\"data row4 col37\" >nan</td>\n",
       "                        <td id=\"T_317c8012_f4c1_11e9_84d2_008cfafbf396row4_col38\" class=\"data row4 col38\" >nan</td>\n",
       "                        <td id=\"T_317c8012_f4c1_11e9_84d2_008cfafbf396row4_col39\" class=\"data row4 col39\" >nan</td>\n",
       "                        <td id=\"T_317c8012_f4c1_11e9_84d2_008cfafbf396row4_col40\" class=\"data row4 col40\" >nan</td>\n",
       "                        <td id=\"T_317c8012_f4c1_11e9_84d2_008cfafbf396row4_col41\" class=\"data row4 col41\" >nan</td>\n",
       "                        <td id=\"T_317c8012_f4c1_11e9_84d2_008cfafbf396row4_col42\" class=\"data row4 col42\" >nan</td>\n",
       "                        <td id=\"T_317c8012_f4c1_11e9_84d2_008cfafbf396row4_col43\" class=\"data row4 col43\" >nan</td>\n",
       "                        <td id=\"T_317c8012_f4c1_11e9_84d2_008cfafbf396row4_col44\" class=\"data row4 col44\" >nan</td>\n",
       "                        <td id=\"T_317c8012_f4c1_11e9_84d2_008cfafbf396row4_col45\" class=\"data row4 col45\" >nan</td>\n",
       "                        <td id=\"T_317c8012_f4c1_11e9_84d2_008cfafbf396row4_col46\" class=\"data row4 col46\" >nan</td>\n",
       "                        <td id=\"T_317c8012_f4c1_11e9_84d2_008cfafbf396row4_col47\" class=\"data row4 col47\" >nan</td>\n",
       "                        <td id=\"T_317c8012_f4c1_11e9_84d2_008cfafbf396row4_col48\" class=\"data row4 col48\" >nan</td>\n",
       "                        <td id=\"T_317c8012_f4c1_11e9_84d2_008cfafbf396row4_col49\" class=\"data row4 col49\" >nan</td>\n",
       "                        <td id=\"T_317c8012_f4c1_11e9_84d2_008cfafbf396row4_col50\" class=\"data row4 col50\" >nan</td>\n",
       "                        <td id=\"T_317c8012_f4c1_11e9_84d2_008cfafbf396row4_col51\" class=\"data row4 col51\" >nan</td>\n",
       "                        <td id=\"T_317c8012_f4c1_11e9_84d2_008cfafbf396row4_col52\" class=\"data row4 col52\" >nan</td>\n",
       "                        <td id=\"T_317c8012_f4c1_11e9_84d2_008cfafbf396row4_col53\" class=\"data row4 col53\" >nan</td>\n",
       "                        <td id=\"T_317c8012_f4c1_11e9_84d2_008cfafbf396row4_col54\" class=\"data row4 col54\" >nan</td>\n",
       "                        <td id=\"T_317c8012_f4c1_11e9_84d2_008cfafbf396row4_col55\" class=\"data row4 col55\" >nan</td>\n",
       "                        <td id=\"T_317c8012_f4c1_11e9_84d2_008cfafbf396row4_col56\" class=\"data row4 col56\" >nan</td>\n",
       "                        <td id=\"T_317c8012_f4c1_11e9_84d2_008cfafbf396row4_col57\" class=\"data row4 col57\" >nan</td>\n",
       "                        <td id=\"T_317c8012_f4c1_11e9_84d2_008cfafbf396row4_col58\" class=\"data row4 col58\" >nan</td>\n",
       "                        <td id=\"T_317c8012_f4c1_11e9_84d2_008cfafbf396row4_col59\" class=\"data row4 col59\" >nan</td>\n",
       "                        <td id=\"T_317c8012_f4c1_11e9_84d2_008cfafbf396row4_col60\" class=\"data row4 col60\" >nan</td>\n",
       "                        <td id=\"T_317c8012_f4c1_11e9_84d2_008cfafbf396row4_col61\" class=\"data row4 col61\" >nan</td>\n",
       "                        <td id=\"T_317c8012_f4c1_11e9_84d2_008cfafbf396row4_col62\" class=\"data row4 col62\" >nan</td>\n",
       "                        <td id=\"T_317c8012_f4c1_11e9_84d2_008cfafbf396row4_col63\" class=\"data row4 col63\" >nan</td>\n",
       "                        <td id=\"T_317c8012_f4c1_11e9_84d2_008cfafbf396row4_col64\" class=\"data row4 col64\" >nan</td>\n",
       "                        <td id=\"T_317c8012_f4c1_11e9_84d2_008cfafbf396row4_col65\" class=\"data row4 col65\" >nan</td>\n",
       "                        <td id=\"T_317c8012_f4c1_11e9_84d2_008cfafbf396row4_col66\" class=\"data row4 col66\" >nan</td>\n",
       "                        <td id=\"T_317c8012_f4c1_11e9_84d2_008cfafbf396row4_col67\" class=\"data row4 col67\" >nan</td>\n",
       "                        <td id=\"T_317c8012_f4c1_11e9_84d2_008cfafbf396row4_col68\" class=\"data row4 col68\" >nan</td>\n",
       "                        <td id=\"T_317c8012_f4c1_11e9_84d2_008cfafbf396row4_col69\" class=\"data row4 col69\" >nan</td>\n",
       "                        <td id=\"T_317c8012_f4c1_11e9_84d2_008cfafbf396row4_col70\" class=\"data row4 col70\" >nan</td>\n",
       "                        <td id=\"T_317c8012_f4c1_11e9_84d2_008cfafbf396row4_col71\" class=\"data row4 col71\" >nan</td>\n",
       "                        <td id=\"T_317c8012_f4c1_11e9_84d2_008cfafbf396row4_col72\" class=\"data row4 col72\" >nan</td>\n",
       "                        <td id=\"T_317c8012_f4c1_11e9_84d2_008cfafbf396row4_col73\" class=\"data row4 col73\" >nan</td>\n",
       "                        <td id=\"T_317c8012_f4c1_11e9_84d2_008cfafbf396row4_col74\" class=\"data row4 col74\" >nan</td>\n",
       "                        <td id=\"T_317c8012_f4c1_11e9_84d2_008cfafbf396row4_col75\" class=\"data row4 col75\" >nan</td>\n",
       "                        <td id=\"T_317c8012_f4c1_11e9_84d2_008cfafbf396row4_col76\" class=\"data row4 col76\" >nan</td>\n",
       "            </tr>\n",
       "            <tr>\n",
       "                                <td id=\"T_317c8012_f4c1_11e9_84d2_008cfafbf396row5_col0\" class=\"data row5 col0\" >60</td>\n",
       "                        <td id=\"T_317c8012_f4c1_11e9_84d2_008cfafbf396row5_col1\" class=\"data row5 col1\" >ReLU()</td>\n",
       "                        <td id=\"T_317c8012_f4c1_11e9_84d2_008cfafbf396row5_col2\" class=\"data row5 col2\" >BatchNorm2d(1, eps=1e-05, momentum=0.1, affine=True, track_running_stats=True)</td>\n",
       "                        <td id=\"T_317c8012_f4c1_11e9_84d2_008cfafbf396row5_col3\" class=\"data row5 col3\" >Conv2d(1, 64, kernel_size=(3, 3), stride=(1, 1), padding=(1, 1))</td>\n",
       "                        <td id=\"T_317c8012_f4c1_11e9_84d2_008cfafbf396row5_col4\" class=\"data row5 col4\" >MaxPool2d(kernel_size=2, stride=2, padding=0, dilation=1, ceil_mode=False)</td>\n",
       "                        <td id=\"T_317c8012_f4c1_11e9_84d2_008cfafbf396row5_col5\" class=\"data row5 col5\" >ReLU()</td>\n",
       "                        <td id=\"T_317c8012_f4c1_11e9_84d2_008cfafbf396row5_col6\" class=\"data row5 col6\" >BatchNorm2d(64, eps=1e-05, momentum=0.1, affine=True, track_running_stats=True)</td>\n",
       "                        <td id=\"T_317c8012_f4c1_11e9_84d2_008cfafbf396row5_col7\" class=\"data row5 col7\" >Conv2d(64, 64, kernel_size=(3, 3), stride=(1, 1), padding=(1, 1))</td>\n",
       "                        <td id=\"T_317c8012_f4c1_11e9_84d2_008cfafbf396row5_col8\" class=\"data row5 col8\" >MaxPool2d(kernel_size=2, stride=2, padding=0, dilation=1, ceil_mode=False)</td>\n",
       "                        <td id=\"T_317c8012_f4c1_11e9_84d2_008cfafbf396row5_col9\" class=\"data row5 col9\" >ReLU()</td>\n",
       "                        <td id=\"T_317c8012_f4c1_11e9_84d2_008cfafbf396row5_col10\" class=\"data row5 col10\" >BatchNorm2d(64, eps=1e-05, momentum=0.1, affine=True, track_running_stats=True)</td>\n",
       "                        <td id=\"T_317c8012_f4c1_11e9_84d2_008cfafbf396row5_col11\" class=\"data row5 col11\" >Conv2d(64, 64, kernel_size=(3, 3), stride=(1, 1), padding=(1, 1))</td>\n",
       "                        <td id=\"T_317c8012_f4c1_11e9_84d2_008cfafbf396row5_col12\" class=\"data row5 col12\" >MaxPool2d(kernel_size=2, stride=2, padding=0, dilation=1, ceil_mode=False)</td>\n",
       "                        <td id=\"T_317c8012_f4c1_11e9_84d2_008cfafbf396row5_col13\" class=\"data row5 col13\" >GlobalAvgPool2d()</td>\n",
       "                        <td id=\"T_317c8012_f4c1_11e9_84d2_008cfafbf396row5_col14\" class=\"data row5 col14\" >Dropout2d(p=0.25)</td>\n",
       "                        <td id=\"T_317c8012_f4c1_11e9_84d2_008cfafbf396row5_col15\" class=\"data row5 col15\" >Linear(in_features=64, out_features=64, bias=True)</td>\n",
       "                        <td id=\"T_317c8012_f4c1_11e9_84d2_008cfafbf396row5_col16\" class=\"data row5 col16\" >ReLU()</td>\n",
       "                        <td id=\"T_317c8012_f4c1_11e9_84d2_008cfafbf396row5_col17\" class=\"data row5 col17\" >Linear(in_features=64, out_features=10, bias=True)</td>\n",
       "                        <td id=\"T_317c8012_f4c1_11e9_84d2_008cfafbf396row5_col18\" class=\"data row5 col18\" >nan</td>\n",
       "                        <td id=\"T_317c8012_f4c1_11e9_84d2_008cfafbf396row5_col19\" class=\"data row5 col19\" >nan</td>\n",
       "                        <td id=\"T_317c8012_f4c1_11e9_84d2_008cfafbf396row5_col20\" class=\"data row5 col20\" >nan</td>\n",
       "                        <td id=\"T_317c8012_f4c1_11e9_84d2_008cfafbf396row5_col21\" class=\"data row5 col21\" >nan</td>\n",
       "                        <td id=\"T_317c8012_f4c1_11e9_84d2_008cfafbf396row5_col22\" class=\"data row5 col22\" >nan</td>\n",
       "                        <td id=\"T_317c8012_f4c1_11e9_84d2_008cfafbf396row5_col23\" class=\"data row5 col23\" >nan</td>\n",
       "                        <td id=\"T_317c8012_f4c1_11e9_84d2_008cfafbf396row5_col24\" class=\"data row5 col24\" >nan</td>\n",
       "                        <td id=\"T_317c8012_f4c1_11e9_84d2_008cfafbf396row5_col25\" class=\"data row5 col25\" >nan</td>\n",
       "                        <td id=\"T_317c8012_f4c1_11e9_84d2_008cfafbf396row5_col26\" class=\"data row5 col26\" >nan</td>\n",
       "                        <td id=\"T_317c8012_f4c1_11e9_84d2_008cfafbf396row5_col27\" class=\"data row5 col27\" >nan</td>\n",
       "                        <td id=\"T_317c8012_f4c1_11e9_84d2_008cfafbf396row5_col28\" class=\"data row5 col28\" >nan</td>\n",
       "                        <td id=\"T_317c8012_f4c1_11e9_84d2_008cfafbf396row5_col29\" class=\"data row5 col29\" >nan</td>\n",
       "                        <td id=\"T_317c8012_f4c1_11e9_84d2_008cfafbf396row5_col30\" class=\"data row5 col30\" >nan</td>\n",
       "                        <td id=\"T_317c8012_f4c1_11e9_84d2_008cfafbf396row5_col31\" class=\"data row5 col31\" >nan</td>\n",
       "                        <td id=\"T_317c8012_f4c1_11e9_84d2_008cfafbf396row5_col32\" class=\"data row5 col32\" >nan</td>\n",
       "                        <td id=\"T_317c8012_f4c1_11e9_84d2_008cfafbf396row5_col33\" class=\"data row5 col33\" >nan</td>\n",
       "                        <td id=\"T_317c8012_f4c1_11e9_84d2_008cfafbf396row5_col34\" class=\"data row5 col34\" >nan</td>\n",
       "                        <td id=\"T_317c8012_f4c1_11e9_84d2_008cfafbf396row5_col35\" class=\"data row5 col35\" >nan</td>\n",
       "                        <td id=\"T_317c8012_f4c1_11e9_84d2_008cfafbf396row5_col36\" class=\"data row5 col36\" >nan</td>\n",
       "                        <td id=\"T_317c8012_f4c1_11e9_84d2_008cfafbf396row5_col37\" class=\"data row5 col37\" >nan</td>\n",
       "                        <td id=\"T_317c8012_f4c1_11e9_84d2_008cfafbf396row5_col38\" class=\"data row5 col38\" >nan</td>\n",
       "                        <td id=\"T_317c8012_f4c1_11e9_84d2_008cfafbf396row5_col39\" class=\"data row5 col39\" >nan</td>\n",
       "                        <td id=\"T_317c8012_f4c1_11e9_84d2_008cfafbf396row5_col40\" class=\"data row5 col40\" >nan</td>\n",
       "                        <td id=\"T_317c8012_f4c1_11e9_84d2_008cfafbf396row5_col41\" class=\"data row5 col41\" >nan</td>\n",
       "                        <td id=\"T_317c8012_f4c1_11e9_84d2_008cfafbf396row5_col42\" class=\"data row5 col42\" >nan</td>\n",
       "                        <td id=\"T_317c8012_f4c1_11e9_84d2_008cfafbf396row5_col43\" class=\"data row5 col43\" >nan</td>\n",
       "                        <td id=\"T_317c8012_f4c1_11e9_84d2_008cfafbf396row5_col44\" class=\"data row5 col44\" >nan</td>\n",
       "                        <td id=\"T_317c8012_f4c1_11e9_84d2_008cfafbf396row5_col45\" class=\"data row5 col45\" >nan</td>\n",
       "                        <td id=\"T_317c8012_f4c1_11e9_84d2_008cfafbf396row5_col46\" class=\"data row5 col46\" >nan</td>\n",
       "                        <td id=\"T_317c8012_f4c1_11e9_84d2_008cfafbf396row5_col47\" class=\"data row5 col47\" >nan</td>\n",
       "                        <td id=\"T_317c8012_f4c1_11e9_84d2_008cfafbf396row5_col48\" class=\"data row5 col48\" >nan</td>\n",
       "                        <td id=\"T_317c8012_f4c1_11e9_84d2_008cfafbf396row5_col49\" class=\"data row5 col49\" >nan</td>\n",
       "                        <td id=\"T_317c8012_f4c1_11e9_84d2_008cfafbf396row5_col50\" class=\"data row5 col50\" >nan</td>\n",
       "                        <td id=\"T_317c8012_f4c1_11e9_84d2_008cfafbf396row5_col51\" class=\"data row5 col51\" >nan</td>\n",
       "                        <td id=\"T_317c8012_f4c1_11e9_84d2_008cfafbf396row5_col52\" class=\"data row5 col52\" >nan</td>\n",
       "                        <td id=\"T_317c8012_f4c1_11e9_84d2_008cfafbf396row5_col53\" class=\"data row5 col53\" >nan</td>\n",
       "                        <td id=\"T_317c8012_f4c1_11e9_84d2_008cfafbf396row5_col54\" class=\"data row5 col54\" >nan</td>\n",
       "                        <td id=\"T_317c8012_f4c1_11e9_84d2_008cfafbf396row5_col55\" class=\"data row5 col55\" >nan</td>\n",
       "                        <td id=\"T_317c8012_f4c1_11e9_84d2_008cfafbf396row5_col56\" class=\"data row5 col56\" >nan</td>\n",
       "                        <td id=\"T_317c8012_f4c1_11e9_84d2_008cfafbf396row5_col57\" class=\"data row5 col57\" >nan</td>\n",
       "                        <td id=\"T_317c8012_f4c1_11e9_84d2_008cfafbf396row5_col58\" class=\"data row5 col58\" >nan</td>\n",
       "                        <td id=\"T_317c8012_f4c1_11e9_84d2_008cfafbf396row5_col59\" class=\"data row5 col59\" >nan</td>\n",
       "                        <td id=\"T_317c8012_f4c1_11e9_84d2_008cfafbf396row5_col60\" class=\"data row5 col60\" >nan</td>\n",
       "                        <td id=\"T_317c8012_f4c1_11e9_84d2_008cfafbf396row5_col61\" class=\"data row5 col61\" >nan</td>\n",
       "                        <td id=\"T_317c8012_f4c1_11e9_84d2_008cfafbf396row5_col62\" class=\"data row5 col62\" >nan</td>\n",
       "                        <td id=\"T_317c8012_f4c1_11e9_84d2_008cfafbf396row5_col63\" class=\"data row5 col63\" >nan</td>\n",
       "                        <td id=\"T_317c8012_f4c1_11e9_84d2_008cfafbf396row5_col64\" class=\"data row5 col64\" >nan</td>\n",
       "                        <td id=\"T_317c8012_f4c1_11e9_84d2_008cfafbf396row5_col65\" class=\"data row5 col65\" >nan</td>\n",
       "                        <td id=\"T_317c8012_f4c1_11e9_84d2_008cfafbf396row5_col66\" class=\"data row5 col66\" >nan</td>\n",
       "                        <td id=\"T_317c8012_f4c1_11e9_84d2_008cfafbf396row5_col67\" class=\"data row5 col67\" >nan</td>\n",
       "                        <td id=\"T_317c8012_f4c1_11e9_84d2_008cfafbf396row5_col68\" class=\"data row5 col68\" >nan</td>\n",
       "                        <td id=\"T_317c8012_f4c1_11e9_84d2_008cfafbf396row5_col69\" class=\"data row5 col69\" >nan</td>\n",
       "                        <td id=\"T_317c8012_f4c1_11e9_84d2_008cfafbf396row5_col70\" class=\"data row5 col70\" >nan</td>\n",
       "                        <td id=\"T_317c8012_f4c1_11e9_84d2_008cfafbf396row5_col71\" class=\"data row5 col71\" >nan</td>\n",
       "                        <td id=\"T_317c8012_f4c1_11e9_84d2_008cfafbf396row5_col72\" class=\"data row5 col72\" >nan</td>\n",
       "                        <td id=\"T_317c8012_f4c1_11e9_84d2_008cfafbf396row5_col73\" class=\"data row5 col73\" >nan</td>\n",
       "                        <td id=\"T_317c8012_f4c1_11e9_84d2_008cfafbf396row5_col74\" class=\"data row5 col74\" >nan</td>\n",
       "                        <td id=\"T_317c8012_f4c1_11e9_84d2_008cfafbf396row5_col75\" class=\"data row5 col75\" >nan</td>\n",
       "                        <td id=\"T_317c8012_f4c1_11e9_84d2_008cfafbf396row5_col76\" class=\"data row5 col76\" >nan</td>\n",
       "            </tr>\n",
       "            <tr>\n",
       "                                <td id=\"T_317c8012_f4c1_11e9_84d2_008cfafbf396row6_col0\" class=\"data row6 col0\" >72</td>\n",
       "                        <td id=\"T_317c8012_f4c1_11e9_84d2_008cfafbf396row6_col1\" class=\"data row6 col1\" >Conv2d(1, 64, kernel_size=(3, 3), stride=(1, 1), padding=(1, 1))</td>\n",
       "                        <td id=\"T_317c8012_f4c1_11e9_84d2_008cfafbf396row6_col2\" class=\"data row6 col2\" >BatchNorm2d(64, eps=1e-05, momentum=0.1, affine=True, track_running_stats=True)</td>\n",
       "                        <td id=\"T_317c8012_f4c1_11e9_84d2_008cfafbf396row6_col3\" class=\"data row6 col3\" >BatchNorm2d(64, eps=1e-05, momentum=0.1, affine=True, track_running_stats=True)</td>\n",
       "                        <td id=\"T_317c8012_f4c1_11e9_84d2_008cfafbf396row6_col4\" class=\"data row6 col4\" >ReLU()</td>\n",
       "                        <td id=\"T_317c8012_f4c1_11e9_84d2_008cfafbf396row6_col5\" class=\"data row6 col5\" >Conv2d(64, 64, kernel_size=(3, 3), stride=(1, 1), padding=(1, 1))</td>\n",
       "                        <td id=\"T_317c8012_f4c1_11e9_84d2_008cfafbf396row6_col6\" class=\"data row6 col6\" >BatchNorm2d(64, eps=1e-05, momentum=0.1, affine=True, track_running_stats=True)</td>\n",
       "                        <td id=\"T_317c8012_f4c1_11e9_84d2_008cfafbf396row6_col7\" class=\"data row6 col7\" >ReLU()</td>\n",
       "                        <td id=\"T_317c8012_f4c1_11e9_84d2_008cfafbf396row6_col8\" class=\"data row6 col8\" >Conv2d(64, 64, kernel_size=(3, 3), stride=(1, 1), padding=(1, 1))</td>\n",
       "                        <td id=\"T_317c8012_f4c1_11e9_84d2_008cfafbf396row6_col9\" class=\"data row6 col9\" >ReLU()</td>\n",
       "                        <td id=\"T_317c8012_f4c1_11e9_84d2_008cfafbf396row6_col10\" class=\"data row6 col10\" >Conv2d(64, 64, kernel_size=(1, 1), stride=(1, 1))</td>\n",
       "                        <td id=\"T_317c8012_f4c1_11e9_84d2_008cfafbf396row6_col11\" class=\"data row6 col11\" >TorchAdd()</td>\n",
       "                        <td id=\"T_317c8012_f4c1_11e9_84d2_008cfafbf396row6_col12\" class=\"data row6 col12\" >BatchNorm2d(64, eps=1e-05, momentum=0.1, affine=True, track_running_stats=True)</td>\n",
       "                        <td id=\"T_317c8012_f4c1_11e9_84d2_008cfafbf396row6_col13\" class=\"data row6 col13\" >ReLU()</td>\n",
       "                        <td id=\"T_317c8012_f4c1_11e9_84d2_008cfafbf396row6_col14\" class=\"data row6 col14\" >Conv2d(64, 64, kernel_size=(3, 3), stride=(1, 1), padding=(1, 1))</td>\n",
       "                        <td id=\"T_317c8012_f4c1_11e9_84d2_008cfafbf396row6_col15\" class=\"data row6 col15\" >BatchNorm2d(64, eps=1e-05, momentum=0.1, affine=True, track_running_stats=True)</td>\n",
       "                        <td id=\"T_317c8012_f4c1_11e9_84d2_008cfafbf396row6_col16\" class=\"data row6 col16\" >ReLU()</td>\n",
       "                        <td id=\"T_317c8012_f4c1_11e9_84d2_008cfafbf396row6_col17\" class=\"data row6 col17\" >Conv2d(64, 64, kernel_size=(3, 3), stride=(1, 1), padding=(1, 1))</td>\n",
       "                        <td id=\"T_317c8012_f4c1_11e9_84d2_008cfafbf396row6_col18\" class=\"data row6 col18\" >ReLU()</td>\n",
       "                        <td id=\"T_317c8012_f4c1_11e9_84d2_008cfafbf396row6_col19\" class=\"data row6 col19\" >Conv2d(64, 64, kernel_size=(1, 1), stride=(1, 1))</td>\n",
       "                        <td id=\"T_317c8012_f4c1_11e9_84d2_008cfafbf396row6_col20\" class=\"data row6 col20\" >TorchAdd()</td>\n",
       "                        <td id=\"T_317c8012_f4c1_11e9_84d2_008cfafbf396row6_col21\" class=\"data row6 col21\" >BatchNorm2d(64, eps=1e-05, momentum=0.1, affine=True, track_running_stats=True)</td>\n",
       "                        <td id=\"T_317c8012_f4c1_11e9_84d2_008cfafbf396row6_col22\" class=\"data row6 col22\" >ReLU()</td>\n",
       "                        <td id=\"T_317c8012_f4c1_11e9_84d2_008cfafbf396row6_col23\" class=\"data row6 col23\" >Conv2d(64, 128, kernel_size=(3, 3), stride=(2, 2), padding=(1, 1))</td>\n",
       "                        <td id=\"T_317c8012_f4c1_11e9_84d2_008cfafbf396row6_col24\" class=\"data row6 col24\" >BatchNorm2d(128, eps=1e-05, momentum=0.1, affine=True, track_running_stats=True)</td>\n",
       "                        <td id=\"T_317c8012_f4c1_11e9_84d2_008cfafbf396row6_col25\" class=\"data row6 col25\" >ReLU()</td>\n",
       "                        <td id=\"T_317c8012_f4c1_11e9_84d2_008cfafbf396row6_col26\" class=\"data row6 col26\" >Conv2d(128, 128, kernel_size=(3, 3), stride=(1, 1), padding=(1, 1))</td>\n",
       "                        <td id=\"T_317c8012_f4c1_11e9_84d2_008cfafbf396row6_col27\" class=\"data row6 col27\" >ReLU()</td>\n",
       "                        <td id=\"T_317c8012_f4c1_11e9_84d2_008cfafbf396row6_col28\" class=\"data row6 col28\" >Conv2d(64, 128, kernel_size=(1, 1), stride=(2, 2))</td>\n",
       "                        <td id=\"T_317c8012_f4c1_11e9_84d2_008cfafbf396row6_col29\" class=\"data row6 col29\" >TorchAdd()</td>\n",
       "                        <td id=\"T_317c8012_f4c1_11e9_84d2_008cfafbf396row6_col30\" class=\"data row6 col30\" >BatchNorm2d(128, eps=1e-05, momentum=0.1, affine=True, track_running_stats=True)</td>\n",
       "                        <td id=\"T_317c8012_f4c1_11e9_84d2_008cfafbf396row6_col31\" class=\"data row6 col31\" >ReLU()</td>\n",
       "                        <td id=\"T_317c8012_f4c1_11e9_84d2_008cfafbf396row6_col32\" class=\"data row6 col32\" >Conv2d(128, 128, kernel_size=(3, 3), stride=(1, 1), padding=(1, 1))</td>\n",
       "                        <td id=\"T_317c8012_f4c1_11e9_84d2_008cfafbf396row6_col33\" class=\"data row6 col33\" >BatchNorm2d(128, eps=1e-05, momentum=0.1, affine=True, track_running_stats=True)</td>\n",
       "                        <td id=\"T_317c8012_f4c1_11e9_84d2_008cfafbf396row6_col34\" class=\"data row6 col34\" >ReLU()</td>\n",
       "                        <td id=\"T_317c8012_f4c1_11e9_84d2_008cfafbf396row6_col35\" class=\"data row6 col35\" >Conv2d(128, 128, kernel_size=(3, 3), stride=(1, 1), padding=(1, 1))</td>\n",
       "                        <td id=\"T_317c8012_f4c1_11e9_84d2_008cfafbf396row6_col36\" class=\"data row6 col36\" >ReLU()</td>\n",
       "                        <td id=\"T_317c8012_f4c1_11e9_84d2_008cfafbf396row6_col37\" class=\"data row6 col37\" >Conv2d(128, 128, kernel_size=(1, 1), stride=(1, 1))</td>\n",
       "                        <td id=\"T_317c8012_f4c1_11e9_84d2_008cfafbf396row6_col38\" class=\"data row6 col38\" >TorchAdd()</td>\n",
       "                        <td id=\"T_317c8012_f4c1_11e9_84d2_008cfafbf396row6_col39\" class=\"data row6 col39\" >BatchNorm2d(128, eps=1e-05, momentum=0.1, affine=True, track_running_stats=True)</td>\n",
       "                        <td id=\"T_317c8012_f4c1_11e9_84d2_008cfafbf396row6_col40\" class=\"data row6 col40\" >ReLU()</td>\n",
       "                        <td id=\"T_317c8012_f4c1_11e9_84d2_008cfafbf396row6_col41\" class=\"data row6 col41\" >Conv2d(128, 256, kernel_size=(3, 3), stride=(2, 2), padding=(1, 1))</td>\n",
       "                        <td id=\"T_317c8012_f4c1_11e9_84d2_008cfafbf396row6_col42\" class=\"data row6 col42\" >BatchNorm2d(256, eps=1e-05, momentum=0.1, affine=True, track_running_stats=True)</td>\n",
       "                        <td id=\"T_317c8012_f4c1_11e9_84d2_008cfafbf396row6_col43\" class=\"data row6 col43\" >ReLU()</td>\n",
       "                        <td id=\"T_317c8012_f4c1_11e9_84d2_008cfafbf396row6_col44\" class=\"data row6 col44\" >Conv2d(256, 256, kernel_size=(3, 3), stride=(1, 1), padding=(1, 1))</td>\n",
       "                        <td id=\"T_317c8012_f4c1_11e9_84d2_008cfafbf396row6_col45\" class=\"data row6 col45\" >ReLU()</td>\n",
       "                        <td id=\"T_317c8012_f4c1_11e9_84d2_008cfafbf396row6_col46\" class=\"data row6 col46\" >Conv2d(128, 256, kernel_size=(1, 1), stride=(2, 2))</td>\n",
       "                        <td id=\"T_317c8012_f4c1_11e9_84d2_008cfafbf396row6_col47\" class=\"data row6 col47\" >TorchAdd()</td>\n",
       "                        <td id=\"T_317c8012_f4c1_11e9_84d2_008cfafbf396row6_col48\" class=\"data row6 col48\" >BatchNorm2d(256, eps=1e-05, momentum=0.1, affine=True, track_running_stats=True)</td>\n",
       "                        <td id=\"T_317c8012_f4c1_11e9_84d2_008cfafbf396row6_col49\" class=\"data row6 col49\" >ReLU()</td>\n",
       "                        <td id=\"T_317c8012_f4c1_11e9_84d2_008cfafbf396row6_col50\" class=\"data row6 col50\" >Conv2d(256, 256, kernel_size=(3, 3), stride=(1, 1), padding=(1, 1))</td>\n",
       "                        <td id=\"T_317c8012_f4c1_11e9_84d2_008cfafbf396row6_col51\" class=\"data row6 col51\" >BatchNorm2d(256, eps=1e-05, momentum=0.1, affine=True, track_running_stats=True)</td>\n",
       "                        <td id=\"T_317c8012_f4c1_11e9_84d2_008cfafbf396row6_col52\" class=\"data row6 col52\" >ReLU()</td>\n",
       "                        <td id=\"T_317c8012_f4c1_11e9_84d2_008cfafbf396row6_col53\" class=\"data row6 col53\" >Conv2d(256, 256, kernel_size=(3, 3), stride=(1, 1), padding=(1, 1))</td>\n",
       "                        <td id=\"T_317c8012_f4c1_11e9_84d2_008cfafbf396row6_col54\" class=\"data row6 col54\" >ReLU()</td>\n",
       "                        <td id=\"T_317c8012_f4c1_11e9_84d2_008cfafbf396row6_col55\" class=\"data row6 col55\" >Conv2d(256, 256, kernel_size=(1, 1), stride=(1, 1))</td>\n",
       "                        <td id=\"T_317c8012_f4c1_11e9_84d2_008cfafbf396row6_col56\" class=\"data row6 col56\" >TorchAdd()</td>\n",
       "                        <td id=\"T_317c8012_f4c1_11e9_84d2_008cfafbf396row6_col57\" class=\"data row6 col57\" >BatchNorm2d(256, eps=1e-05, momentum=0.1, affine=True, track_running_stats=True)</td>\n",
       "                        <td id=\"T_317c8012_f4c1_11e9_84d2_008cfafbf396row6_col58\" class=\"data row6 col58\" >ReLU()</td>\n",
       "                        <td id=\"T_317c8012_f4c1_11e9_84d2_008cfafbf396row6_col59\" class=\"data row6 col59\" >Conv2d(256, 512, kernel_size=(3, 3), stride=(2, 2), padding=(1, 1))</td>\n",
       "                        <td id=\"T_317c8012_f4c1_11e9_84d2_008cfafbf396row6_col60\" class=\"data row6 col60\" >BatchNorm2d(512, eps=1e-05, momentum=0.1, affine=True, track_running_stats=True)</td>\n",
       "                        <td id=\"T_317c8012_f4c1_11e9_84d2_008cfafbf396row6_col61\" class=\"data row6 col61\" >ReLU()</td>\n",
       "                        <td id=\"T_317c8012_f4c1_11e9_84d2_008cfafbf396row6_col62\" class=\"data row6 col62\" >Conv2d(512, 512, kernel_size=(3, 3), stride=(1, 1), padding=(1, 1))</td>\n",
       "                        <td id=\"T_317c8012_f4c1_11e9_84d2_008cfafbf396row6_col63\" class=\"data row6 col63\" >ReLU()</td>\n",
       "                        <td id=\"T_317c8012_f4c1_11e9_84d2_008cfafbf396row6_col64\" class=\"data row6 col64\" >Conv2d(256, 512, kernel_size=(1, 1), stride=(2, 2))</td>\n",
       "                        <td id=\"T_317c8012_f4c1_11e9_84d2_008cfafbf396row6_col65\" class=\"data row6 col65\" >TorchAdd()</td>\n",
       "                        <td id=\"T_317c8012_f4c1_11e9_84d2_008cfafbf396row6_col66\" class=\"data row6 col66\" >BatchNorm2d(512, eps=1e-05, momentum=0.1, affine=True, track_running_stats=True)</td>\n",
       "                        <td id=\"T_317c8012_f4c1_11e9_84d2_008cfafbf396row6_col67\" class=\"data row6 col67\" >ReLU()</td>\n",
       "                        <td id=\"T_317c8012_f4c1_11e9_84d2_008cfafbf396row6_col68\" class=\"data row6 col68\" >Conv2d(512, 512, kernel_size=(3, 3), stride=(1, 1), padding=(1, 1))</td>\n",
       "                        <td id=\"T_317c8012_f4c1_11e9_84d2_008cfafbf396row6_col69\" class=\"data row6 col69\" >BatchNorm2d(512, eps=1e-05, momentum=0.1, affine=True, track_running_stats=True)</td>\n",
       "                        <td id=\"T_317c8012_f4c1_11e9_84d2_008cfafbf396row6_col70\" class=\"data row6 col70\" >ReLU()</td>\n",
       "                        <td id=\"T_317c8012_f4c1_11e9_84d2_008cfafbf396row6_col71\" class=\"data row6 col71\" >Conv2d(512, 512, kernel_size=(3, 3), stride=(1, 1), padding=(1, 1))</td>\n",
       "                        <td id=\"T_317c8012_f4c1_11e9_84d2_008cfafbf396row6_col72\" class=\"data row6 col72\" >ReLU()</td>\n",
       "                        <td id=\"T_317c8012_f4c1_11e9_84d2_008cfafbf396row6_col73\" class=\"data row6 col73\" >Conv2d(512, 512, kernel_size=(1, 1), stride=(1, 1))</td>\n",
       "                        <td id=\"T_317c8012_f4c1_11e9_84d2_008cfafbf396row6_col74\" class=\"data row6 col74\" >TorchAdd()</td>\n",
       "                        <td id=\"T_317c8012_f4c1_11e9_84d2_008cfafbf396row6_col75\" class=\"data row6 col75\" >GlobalAvgPool2d()</td>\n",
       "                        <td id=\"T_317c8012_f4c1_11e9_84d2_008cfafbf396row6_col76\" class=\"data row6 col76\" >Linear(in_features=512, out_features=10, bias=True)</td>\n",
       "            </tr>\n",
       "            <tr>\n",
       "                                <td id=\"T_317c8012_f4c1_11e9_84d2_008cfafbf396row7_col0\" class=\"data row7 col0\" >84</td>\n",
       "                        <td id=\"T_317c8012_f4c1_11e9_84d2_008cfafbf396row7_col1\" class=\"data row7 col1\" >Conv2d(1, 64, kernel_size=(3, 3), stride=(1, 1), padding=(1, 1))</td>\n",
       "                        <td id=\"T_317c8012_f4c1_11e9_84d2_008cfafbf396row7_col2\" class=\"data row7 col2\" >BatchNorm2d(64, eps=1e-05, momentum=0.1, affine=True, track_running_stats=True)</td>\n",
       "                        <td id=\"T_317c8012_f4c1_11e9_84d2_008cfafbf396row7_col3\" class=\"data row7 col3\" >BatchNorm2d(64, eps=1e-05, momentum=0.1, affine=True, track_running_stats=True)</td>\n",
       "                        <td id=\"T_317c8012_f4c1_11e9_84d2_008cfafbf396row7_col4\" class=\"data row7 col4\" >ReLU()</td>\n",
       "                        <td id=\"T_317c8012_f4c1_11e9_84d2_008cfafbf396row7_col5\" class=\"data row7 col5\" >Conv2d(64, 64, kernel_size=(3, 3), stride=(1, 1), padding=(1, 1))</td>\n",
       "                        <td id=\"T_317c8012_f4c1_11e9_84d2_008cfafbf396row7_col6\" class=\"data row7 col6\" >BatchNorm2d(64, eps=1e-05, momentum=0.1, affine=True, track_running_stats=True)</td>\n",
       "                        <td id=\"T_317c8012_f4c1_11e9_84d2_008cfafbf396row7_col7\" class=\"data row7 col7\" >ReLU()</td>\n",
       "                        <td id=\"T_317c8012_f4c1_11e9_84d2_008cfafbf396row7_col8\" class=\"data row7 col8\" >Conv2d(64, 64, kernel_size=(3, 3), stride=(1, 1), padding=(1, 1))</td>\n",
       "                        <td id=\"T_317c8012_f4c1_11e9_84d2_008cfafbf396row7_col9\" class=\"data row7 col9\" >ReLU()</td>\n",
       "                        <td id=\"T_317c8012_f4c1_11e9_84d2_008cfafbf396row7_col10\" class=\"data row7 col10\" >Conv2d(64, 64, kernel_size=(1, 1), stride=(1, 1))</td>\n",
       "                        <td id=\"T_317c8012_f4c1_11e9_84d2_008cfafbf396row7_col11\" class=\"data row7 col11\" >TorchAdd()</td>\n",
       "                        <td id=\"T_317c8012_f4c1_11e9_84d2_008cfafbf396row7_col12\" class=\"data row7 col12\" >BatchNorm2d(64, eps=1e-05, momentum=0.1, affine=True, track_running_stats=True)</td>\n",
       "                        <td id=\"T_317c8012_f4c1_11e9_84d2_008cfafbf396row7_col13\" class=\"data row7 col13\" >ReLU()</td>\n",
       "                        <td id=\"T_317c8012_f4c1_11e9_84d2_008cfafbf396row7_col14\" class=\"data row7 col14\" >Conv2d(64, 64, kernel_size=(3, 3), stride=(1, 1), padding=(1, 1))</td>\n",
       "                        <td id=\"T_317c8012_f4c1_11e9_84d2_008cfafbf396row7_col15\" class=\"data row7 col15\" >BatchNorm2d(64, eps=1e-05, momentum=0.1, affine=True, track_running_stats=True)</td>\n",
       "                        <td id=\"T_317c8012_f4c1_11e9_84d2_008cfafbf396row7_col16\" class=\"data row7 col16\" >ReLU()</td>\n",
       "                        <td id=\"T_317c8012_f4c1_11e9_84d2_008cfafbf396row7_col17\" class=\"data row7 col17\" >Conv2d(64, 64, kernel_size=(3, 3), stride=(1, 1), padding=(1, 1))</td>\n",
       "                        <td id=\"T_317c8012_f4c1_11e9_84d2_008cfafbf396row7_col18\" class=\"data row7 col18\" >ReLU()</td>\n",
       "                        <td id=\"T_317c8012_f4c1_11e9_84d2_008cfafbf396row7_col19\" class=\"data row7 col19\" >Conv2d(64, 64, kernel_size=(1, 1), stride=(1, 1))</td>\n",
       "                        <td id=\"T_317c8012_f4c1_11e9_84d2_008cfafbf396row7_col20\" class=\"data row7 col20\" >TorchAdd()</td>\n",
       "                        <td id=\"T_317c8012_f4c1_11e9_84d2_008cfafbf396row7_col21\" class=\"data row7 col21\" >BatchNorm2d(64, eps=1e-05, momentum=0.1, affine=True, track_running_stats=True)</td>\n",
       "                        <td id=\"T_317c8012_f4c1_11e9_84d2_008cfafbf396row7_col22\" class=\"data row7 col22\" >ReLU()</td>\n",
       "                        <td id=\"T_317c8012_f4c1_11e9_84d2_008cfafbf396row7_col23\" class=\"data row7 col23\" >Conv2d(64, 128, kernel_size=(3, 3), stride=(2, 2), padding=(1, 1))</td>\n",
       "                        <td id=\"T_317c8012_f4c1_11e9_84d2_008cfafbf396row7_col24\" class=\"data row7 col24\" >BatchNorm2d(128, eps=1e-05, momentum=0.1, affine=True, track_running_stats=True)</td>\n",
       "                        <td id=\"T_317c8012_f4c1_11e9_84d2_008cfafbf396row7_col25\" class=\"data row7 col25\" >ReLU()</td>\n",
       "                        <td id=\"T_317c8012_f4c1_11e9_84d2_008cfafbf396row7_col26\" class=\"data row7 col26\" >Conv2d(128, 128, kernel_size=(3, 3), stride=(1, 1), padding=(1, 1))</td>\n",
       "                        <td id=\"T_317c8012_f4c1_11e9_84d2_008cfafbf396row7_col27\" class=\"data row7 col27\" >ReLU()</td>\n",
       "                        <td id=\"T_317c8012_f4c1_11e9_84d2_008cfafbf396row7_col28\" class=\"data row7 col28\" >Conv2d(64, 128, kernel_size=(1, 1), stride=(2, 2))</td>\n",
       "                        <td id=\"T_317c8012_f4c1_11e9_84d2_008cfafbf396row7_col29\" class=\"data row7 col29\" >TorchAdd()</td>\n",
       "                        <td id=\"T_317c8012_f4c1_11e9_84d2_008cfafbf396row7_col30\" class=\"data row7 col30\" >BatchNorm2d(128, eps=1e-05, momentum=0.1, affine=True, track_running_stats=True)</td>\n",
       "                        <td id=\"T_317c8012_f4c1_11e9_84d2_008cfafbf396row7_col31\" class=\"data row7 col31\" >ReLU()</td>\n",
       "                        <td id=\"T_317c8012_f4c1_11e9_84d2_008cfafbf396row7_col32\" class=\"data row7 col32\" >Conv2d(128, 128, kernel_size=(3, 3), stride=(1, 1), padding=(1, 1))</td>\n",
       "                        <td id=\"T_317c8012_f4c1_11e9_84d2_008cfafbf396row7_col33\" class=\"data row7 col33\" >BatchNorm2d(128, eps=1e-05, momentum=0.1, affine=True, track_running_stats=True)</td>\n",
       "                        <td id=\"T_317c8012_f4c1_11e9_84d2_008cfafbf396row7_col34\" class=\"data row7 col34\" >ReLU()</td>\n",
       "                        <td id=\"T_317c8012_f4c1_11e9_84d2_008cfafbf396row7_col35\" class=\"data row7 col35\" >Conv2d(128, 128, kernel_size=(3, 3), stride=(1, 1), padding=(1, 1))</td>\n",
       "                        <td id=\"T_317c8012_f4c1_11e9_84d2_008cfafbf396row7_col36\" class=\"data row7 col36\" >ReLU()</td>\n",
       "                        <td id=\"T_317c8012_f4c1_11e9_84d2_008cfafbf396row7_col37\" class=\"data row7 col37\" >Conv2d(128, 128, kernel_size=(1, 1), stride=(1, 1))</td>\n",
       "                        <td id=\"T_317c8012_f4c1_11e9_84d2_008cfafbf396row7_col38\" class=\"data row7 col38\" >TorchAdd()</td>\n",
       "                        <td id=\"T_317c8012_f4c1_11e9_84d2_008cfafbf396row7_col39\" class=\"data row7 col39\" >BatchNorm2d(128, eps=1e-05, momentum=0.1, affine=True, track_running_stats=True)</td>\n",
       "                        <td id=\"T_317c8012_f4c1_11e9_84d2_008cfafbf396row7_col40\" class=\"data row7 col40\" >ReLU()</td>\n",
       "                        <td id=\"T_317c8012_f4c1_11e9_84d2_008cfafbf396row7_col41\" class=\"data row7 col41\" >Conv2d(128, 256, kernel_size=(3, 3), stride=(2, 2), padding=(1, 1))</td>\n",
       "                        <td id=\"T_317c8012_f4c1_11e9_84d2_008cfafbf396row7_col42\" class=\"data row7 col42\" >BatchNorm2d(256, eps=1e-05, momentum=0.1, affine=True, track_running_stats=True)</td>\n",
       "                        <td id=\"T_317c8012_f4c1_11e9_84d2_008cfafbf396row7_col43\" class=\"data row7 col43\" >ReLU()</td>\n",
       "                        <td id=\"T_317c8012_f4c1_11e9_84d2_008cfafbf396row7_col44\" class=\"data row7 col44\" >Conv2d(256, 256, kernel_size=(3, 3), stride=(1, 1), padding=(1, 1))</td>\n",
       "                        <td id=\"T_317c8012_f4c1_11e9_84d2_008cfafbf396row7_col45\" class=\"data row7 col45\" >ReLU()</td>\n",
       "                        <td id=\"T_317c8012_f4c1_11e9_84d2_008cfafbf396row7_col46\" class=\"data row7 col46\" >Conv2d(128, 256, kernel_size=(1, 1), stride=(2, 2))</td>\n",
       "                        <td id=\"T_317c8012_f4c1_11e9_84d2_008cfafbf396row7_col47\" class=\"data row7 col47\" >TorchAdd()</td>\n",
       "                        <td id=\"T_317c8012_f4c1_11e9_84d2_008cfafbf396row7_col48\" class=\"data row7 col48\" >BatchNorm2d(256, eps=1e-05, momentum=0.1, affine=True, track_running_stats=True)</td>\n",
       "                        <td id=\"T_317c8012_f4c1_11e9_84d2_008cfafbf396row7_col49\" class=\"data row7 col49\" >ReLU()</td>\n",
       "                        <td id=\"T_317c8012_f4c1_11e9_84d2_008cfafbf396row7_col50\" class=\"data row7 col50\" >Conv2d(256, 256, kernel_size=(3, 3), stride=(1, 1), padding=(1, 1))</td>\n",
       "                        <td id=\"T_317c8012_f4c1_11e9_84d2_008cfafbf396row7_col51\" class=\"data row7 col51\" >BatchNorm2d(256, eps=1e-05, momentum=0.1, affine=True, track_running_stats=True)</td>\n",
       "                        <td id=\"T_317c8012_f4c1_11e9_84d2_008cfafbf396row7_col52\" class=\"data row7 col52\" >ReLU()</td>\n",
       "                        <td id=\"T_317c8012_f4c1_11e9_84d2_008cfafbf396row7_col53\" class=\"data row7 col53\" >Conv2d(256, 256, kernel_size=(3, 3), stride=(1, 1), padding=(1, 1))</td>\n",
       "                        <td id=\"T_317c8012_f4c1_11e9_84d2_008cfafbf396row7_col54\" class=\"data row7 col54\" >ReLU()</td>\n",
       "                        <td id=\"T_317c8012_f4c1_11e9_84d2_008cfafbf396row7_col55\" class=\"data row7 col55\" >Conv2d(256, 256, kernel_size=(1, 1), stride=(1, 1))</td>\n",
       "                        <td id=\"T_317c8012_f4c1_11e9_84d2_008cfafbf396row7_col56\" class=\"data row7 col56\" >TorchAdd()</td>\n",
       "                        <td id=\"T_317c8012_f4c1_11e9_84d2_008cfafbf396row7_col57\" class=\"data row7 col57\" >BatchNorm2d(256, eps=1e-05, momentum=0.1, affine=True, track_running_stats=True)</td>\n",
       "                        <td id=\"T_317c8012_f4c1_11e9_84d2_008cfafbf396row7_col58\" class=\"data row7 col58\" >ReLU()</td>\n",
       "                        <td id=\"T_317c8012_f4c1_11e9_84d2_008cfafbf396row7_col59\" class=\"data row7 col59\" >Conv2d(256, 512, kernel_size=(3, 3), stride=(2, 2), padding=(1, 1))</td>\n",
       "                        <td id=\"T_317c8012_f4c1_11e9_84d2_008cfafbf396row7_col60\" class=\"data row7 col60\" >BatchNorm2d(512, eps=1e-05, momentum=0.1, affine=True, track_running_stats=True)</td>\n",
       "                        <td id=\"T_317c8012_f4c1_11e9_84d2_008cfafbf396row7_col61\" class=\"data row7 col61\" >ReLU()</td>\n",
       "                        <td id=\"T_317c8012_f4c1_11e9_84d2_008cfafbf396row7_col62\" class=\"data row7 col62\" >Conv2d(512, 512, kernel_size=(3, 3), stride=(1, 1), padding=(1, 1))</td>\n",
       "                        <td id=\"T_317c8012_f4c1_11e9_84d2_008cfafbf396row7_col63\" class=\"data row7 col63\" >ReLU()</td>\n",
       "                        <td id=\"T_317c8012_f4c1_11e9_84d2_008cfafbf396row7_col64\" class=\"data row7 col64\" >Conv2d(256, 512, kernel_size=(1, 1), stride=(2, 2))</td>\n",
       "                        <td id=\"T_317c8012_f4c1_11e9_84d2_008cfafbf396row7_col65\" class=\"data row7 col65\" >TorchAdd()</td>\n",
       "                        <td id=\"T_317c8012_f4c1_11e9_84d2_008cfafbf396row7_col66\" class=\"data row7 col66\" >BatchNorm2d(512, eps=1e-05, momentum=0.1, affine=True, track_running_stats=True)</td>\n",
       "                        <td id=\"T_317c8012_f4c1_11e9_84d2_008cfafbf396row7_col67\" class=\"data row7 col67\" >ReLU()</td>\n",
       "                        <td id=\"T_317c8012_f4c1_11e9_84d2_008cfafbf396row7_col68\" class=\"data row7 col68\" >Conv2d(512, 512, kernel_size=(3, 3), stride=(1, 1), padding=(1, 1))</td>\n",
       "                        <td id=\"T_317c8012_f4c1_11e9_84d2_008cfafbf396row7_col69\" class=\"data row7 col69\" >BatchNorm2d(512, eps=1e-05, momentum=0.1, affine=True, track_running_stats=True)</td>\n",
       "                        <td id=\"T_317c8012_f4c1_11e9_84d2_008cfafbf396row7_col70\" class=\"data row7 col70\" >ReLU()</td>\n",
       "                        <td id=\"T_317c8012_f4c1_11e9_84d2_008cfafbf396row7_col71\" class=\"data row7 col71\" >Conv2d(512, 512, kernel_size=(3, 3), stride=(1, 1), padding=(1, 1))</td>\n",
       "                        <td id=\"T_317c8012_f4c1_11e9_84d2_008cfafbf396row7_col72\" class=\"data row7 col72\" >ReLU()</td>\n",
       "                        <td id=\"T_317c8012_f4c1_11e9_84d2_008cfafbf396row7_col73\" class=\"data row7 col73\" >Conv2d(512, 512, kernel_size=(1, 1), stride=(1, 1))</td>\n",
       "                        <td id=\"T_317c8012_f4c1_11e9_84d2_008cfafbf396row7_col74\" class=\"data row7 col74\" >TorchAdd()</td>\n",
       "                        <td id=\"T_317c8012_f4c1_11e9_84d2_008cfafbf396row7_col75\" class=\"data row7 col75\" >GlobalAvgPool2d()</td>\n",
       "                        <td id=\"T_317c8012_f4c1_11e9_84d2_008cfafbf396row7_col76\" class=\"data row7 col76\" >Linear(in_features=512, out_features=10, bias=True)</td>\n",
       "            </tr>\n",
       "    </tbody></table>"
      ],
      "text/plain": [
       "<pandas.io.formats.style.Styler at 0x2ab3328017f0>"
      ]
     },
     "metadata": {},
     "output_type": "display_data"
    },
    {
     "data": {
      "text/plain": [
       "'AutoKerasClean #1'"
      ]
     },
     "metadata": {},
     "output_type": "display_data"
    },
    {
     "data": {
      "text/html": [
       "<style  type=\"text/css\" >\n",
       "</style><table id=\"T_3185516a_f4c1_11e9_84d2_008cfafbf396\" ><thead>    <tr>        <th class=\"col_heading level0 col0\" >max_angle</th>        <th class=\"col_heading level0 col1\" >test_acc</th>        <th class=\"col_heading level0 col2\" >train_acc</th>        <th class=\"col_heading level0 col3\" >time_err</th>        <th class=\"col_heading level0 col4\" >time_pre</th>        <th class=\"col_heading level0 col5\" >time_mod</th>    </tr></thead><tbody>\n",
       "                <tr>\n",
       "                                <td id=\"T_3185516a_f4c1_11e9_84d2_008cfafbf396row0_col0\" class=\"data row0 col0\" >0</td>\n",
       "                        <td id=\"T_3185516a_f4c1_11e9_84d2_008cfafbf396row0_col1\" class=\"data row0 col1\" >0.989</td>\n",
       "                        <td id=\"T_3185516a_f4c1_11e9_84d2_008cfafbf396row0_col2\" class=\"data row0 col2\" >0.999</td>\n",
       "                        <td id=\"T_3185516a_f4c1_11e9_84d2_008cfafbf396row0_col3\" class=\"data row0 col3\" >0.194</td>\n",
       "                        <td id=\"T_3185516a_f4c1_11e9_84d2_008cfafbf396row0_col4\" class=\"data row0 col4\" >0</td>\n",
       "                        <td id=\"T_3185516a_f4c1_11e9_84d2_008cfafbf396row0_col5\" class=\"data row0 col5\" >7208.08</td>\n",
       "            </tr>\n",
       "            <tr>\n",
       "                                <td id=\"T_3185516a_f4c1_11e9_84d2_008cfafbf396row1_col0\" class=\"data row1 col0\" >12</td>\n",
       "                        <td id=\"T_3185516a_f4c1_11e9_84d2_008cfafbf396row1_col1\" class=\"data row1 col1\" >0.972</td>\n",
       "                        <td id=\"T_3185516a_f4c1_11e9_84d2_008cfafbf396row1_col2\" class=\"data row1 col2\" >0.999</td>\n",
       "                        <td id=\"T_3185516a_f4c1_11e9_84d2_008cfafbf396row1_col3\" class=\"data row1 col3\" >0.262</td>\n",
       "                        <td id=\"T_3185516a_f4c1_11e9_84d2_008cfafbf396row1_col4\" class=\"data row1 col4\" >0</td>\n",
       "                        <td id=\"T_3185516a_f4c1_11e9_84d2_008cfafbf396row1_col5\" class=\"data row1 col5\" >7212.49</td>\n",
       "            </tr>\n",
       "            <tr>\n",
       "                                <td id=\"T_3185516a_f4c1_11e9_84d2_008cfafbf396row2_col0\" class=\"data row2 col0\" >24</td>\n",
       "                        <td id=\"T_3185516a_f4c1_11e9_84d2_008cfafbf396row2_col1\" class=\"data row2 col1\" >0.839</td>\n",
       "                        <td id=\"T_3185516a_f4c1_11e9_84d2_008cfafbf396row2_col2\" class=\"data row2 col2\" >0.999</td>\n",
       "                        <td id=\"T_3185516a_f4c1_11e9_84d2_008cfafbf396row2_col3\" class=\"data row2 col3\" >0.249</td>\n",
       "                        <td id=\"T_3185516a_f4c1_11e9_84d2_008cfafbf396row2_col4\" class=\"data row2 col4\" >0</td>\n",
       "                        <td id=\"T_3185516a_f4c1_11e9_84d2_008cfafbf396row2_col5\" class=\"data row2 col5\" >7219.67</td>\n",
       "            </tr>\n",
       "            <tr>\n",
       "                                <td id=\"T_3185516a_f4c1_11e9_84d2_008cfafbf396row3_col0\" class=\"data row3 col0\" >36</td>\n",
       "                        <td id=\"T_3185516a_f4c1_11e9_84d2_008cfafbf396row3_col1\" class=\"data row3 col1\" >0.711</td>\n",
       "                        <td id=\"T_3185516a_f4c1_11e9_84d2_008cfafbf396row3_col2\" class=\"data row3 col2\" >0.999</td>\n",
       "                        <td id=\"T_3185516a_f4c1_11e9_84d2_008cfafbf396row3_col3\" class=\"data row3 col3\" >0.273</td>\n",
       "                        <td id=\"T_3185516a_f4c1_11e9_84d2_008cfafbf396row3_col4\" class=\"data row3 col4\" >0</td>\n",
       "                        <td id=\"T_3185516a_f4c1_11e9_84d2_008cfafbf396row3_col5\" class=\"data row3 col5\" >7239.07</td>\n",
       "            </tr>\n",
       "            <tr>\n",
       "                                <td id=\"T_3185516a_f4c1_11e9_84d2_008cfafbf396row4_col0\" class=\"data row4 col0\" >48</td>\n",
       "                        <td id=\"T_3185516a_f4c1_11e9_84d2_008cfafbf396row4_col1\" class=\"data row4 col1\" >0.619</td>\n",
       "                        <td id=\"T_3185516a_f4c1_11e9_84d2_008cfafbf396row4_col2\" class=\"data row4 col2\" >0.999</td>\n",
       "                        <td id=\"T_3185516a_f4c1_11e9_84d2_008cfafbf396row4_col3\" class=\"data row4 col3\" >0.271</td>\n",
       "                        <td id=\"T_3185516a_f4c1_11e9_84d2_008cfafbf396row4_col4\" class=\"data row4 col4\" >0</td>\n",
       "                        <td id=\"T_3185516a_f4c1_11e9_84d2_008cfafbf396row4_col5\" class=\"data row4 col5\" >7230.81</td>\n",
       "            </tr>\n",
       "            <tr>\n",
       "                                <td id=\"T_3185516a_f4c1_11e9_84d2_008cfafbf396row5_col0\" class=\"data row5 col0\" >60</td>\n",
       "                        <td id=\"T_3185516a_f4c1_11e9_84d2_008cfafbf396row5_col1\" class=\"data row5 col1\" >0.5</td>\n",
       "                        <td id=\"T_3185516a_f4c1_11e9_84d2_008cfafbf396row5_col2\" class=\"data row5 col2\" >0.999</td>\n",
       "                        <td id=\"T_3185516a_f4c1_11e9_84d2_008cfafbf396row5_col3\" class=\"data row5 col3\" >0.269</td>\n",
       "                        <td id=\"T_3185516a_f4c1_11e9_84d2_008cfafbf396row5_col4\" class=\"data row5 col4\" >0</td>\n",
       "                        <td id=\"T_3185516a_f4c1_11e9_84d2_008cfafbf396row5_col5\" class=\"data row5 col5\" >7214.07</td>\n",
       "            </tr>\n",
       "            <tr>\n",
       "                                <td id=\"T_3185516a_f4c1_11e9_84d2_008cfafbf396row6_col0\" class=\"data row6 col0\" >72</td>\n",
       "                        <td id=\"T_3185516a_f4c1_11e9_84d2_008cfafbf396row6_col1\" class=\"data row6 col1\" >0.439</td>\n",
       "                        <td id=\"T_3185516a_f4c1_11e9_84d2_008cfafbf396row6_col2\" class=\"data row6 col2\" >0.999</td>\n",
       "                        <td id=\"T_3185516a_f4c1_11e9_84d2_008cfafbf396row6_col3\" class=\"data row6 col3\" >0.265</td>\n",
       "                        <td id=\"T_3185516a_f4c1_11e9_84d2_008cfafbf396row6_col4\" class=\"data row6 col4\" >0</td>\n",
       "                        <td id=\"T_3185516a_f4c1_11e9_84d2_008cfafbf396row6_col5\" class=\"data row6 col5\" >7260.81</td>\n",
       "            </tr>\n",
       "            <tr>\n",
       "                                <td id=\"T_3185516a_f4c1_11e9_84d2_008cfafbf396row7_col0\" class=\"data row7 col0\" >84</td>\n",
       "                        <td id=\"T_3185516a_f4c1_11e9_84d2_008cfafbf396row7_col1\" class=\"data row7 col1\" >0.383</td>\n",
       "                        <td id=\"T_3185516a_f4c1_11e9_84d2_008cfafbf396row7_col2\" class=\"data row7 col2\" >0.999</td>\n",
       "                        <td id=\"T_3185516a_f4c1_11e9_84d2_008cfafbf396row7_col3\" class=\"data row7 col3\" >0.276</td>\n",
       "                        <td id=\"T_3185516a_f4c1_11e9_84d2_008cfafbf396row7_col4\" class=\"data row7 col4\" >0</td>\n",
       "                        <td id=\"T_3185516a_f4c1_11e9_84d2_008cfafbf396row7_col5\" class=\"data row7 col5\" >7228.14</td>\n",
       "            </tr>\n",
       "    </tbody></table>"
      ],
      "text/plain": [
       "<pandas.io.formats.style.Styler at 0x2ab388007b00>"
      ]
     },
     "metadata": {},
     "output_type": "display_data"
    },
    {
     "data": {
      "text/html": [
       "<style  type=\"text/css\" >\n",
       "</style><table id=\"T_318b65a0_f4c1_11e9_84d2_008cfafbf396\" ><thead>    <tr>        <th class=\"col_heading level0 col0\" >max_angle</th>        <th class=\"col_heading level0 col1\" >pipe_0</th>        <th class=\"col_heading level0 col2\" >pipe_1</th>        <th class=\"col_heading level0 col3\" >pipe_2</th>        <th class=\"col_heading level0 col4\" >pipe_3</th>        <th class=\"col_heading level0 col5\" >pipe_4</th>        <th class=\"col_heading level0 col6\" >pipe_5</th>        <th class=\"col_heading level0 col7\" >pipe_6</th>        <th class=\"col_heading level0 col8\" >pipe_7</th>        <th class=\"col_heading level0 col9\" >pipe_8</th>        <th class=\"col_heading level0 col10\" >pipe_9</th>        <th class=\"col_heading level0 col11\" >pipe_10</th>        <th class=\"col_heading level0 col12\" >pipe_11</th>        <th class=\"col_heading level0 col13\" >pipe_12</th>        <th class=\"col_heading level0 col14\" >pipe_13</th>        <th class=\"col_heading level0 col15\" >pipe_14</th>        <th class=\"col_heading level0 col16\" >pipe_15</th>        <th class=\"col_heading level0 col17\" >pipe_16</th>        <th class=\"col_heading level0 col18\" >pipe_17</th>        <th class=\"col_heading level0 col19\" >pipe_18</th>        <th class=\"col_heading level0 col20\" >pipe_19</th>        <th class=\"col_heading level0 col21\" >pipe_20</th>        <th class=\"col_heading level0 col22\" >pipe_21</th>        <th class=\"col_heading level0 col23\" >pipe_22</th>        <th class=\"col_heading level0 col24\" >pipe_23</th>        <th class=\"col_heading level0 col25\" >pipe_24</th>        <th class=\"col_heading level0 col26\" >pipe_25</th>        <th class=\"col_heading level0 col27\" >pipe_26</th>        <th class=\"col_heading level0 col28\" >pipe_27</th>        <th class=\"col_heading level0 col29\" >pipe_28</th>        <th class=\"col_heading level0 col30\" >pipe_29</th>        <th class=\"col_heading level0 col31\" >pipe_30</th>        <th class=\"col_heading level0 col32\" >pipe_31</th>        <th class=\"col_heading level0 col33\" >pipe_32</th>        <th class=\"col_heading level0 col34\" >pipe_33</th>        <th class=\"col_heading level0 col35\" >pipe_34</th>        <th class=\"col_heading level0 col36\" >pipe_35</th>        <th class=\"col_heading level0 col37\" >pipe_36</th>        <th class=\"col_heading level0 col38\" >pipe_37</th>        <th class=\"col_heading level0 col39\" >pipe_38</th>        <th class=\"col_heading level0 col40\" >pipe_39</th>        <th class=\"col_heading level0 col41\" >pipe_40</th>        <th class=\"col_heading level0 col42\" >pipe_41</th>        <th class=\"col_heading level0 col43\" >pipe_42</th>        <th class=\"col_heading level0 col44\" >pipe_43</th>        <th class=\"col_heading level0 col45\" >pipe_44</th>        <th class=\"col_heading level0 col46\" >pipe_45</th>        <th class=\"col_heading level0 col47\" >pipe_46</th>        <th class=\"col_heading level0 col48\" >pipe_47</th>        <th class=\"col_heading level0 col49\" >pipe_48</th>        <th class=\"col_heading level0 col50\" >pipe_49</th>        <th class=\"col_heading level0 col51\" >pipe_50</th>        <th class=\"col_heading level0 col52\" >pipe_51</th>        <th class=\"col_heading level0 col53\" >pipe_52</th>        <th class=\"col_heading level0 col54\" >pipe_53</th>        <th class=\"col_heading level0 col55\" >pipe_54</th>        <th class=\"col_heading level0 col56\" >pipe_55</th>        <th class=\"col_heading level0 col57\" >pipe_56</th>        <th class=\"col_heading level0 col58\" >pipe_57</th>        <th class=\"col_heading level0 col59\" >pipe_58</th>        <th class=\"col_heading level0 col60\" >pipe_59</th>        <th class=\"col_heading level0 col61\" >pipe_60</th>        <th class=\"col_heading level0 col62\" >pipe_61</th>        <th class=\"col_heading level0 col63\" >pipe_62</th>        <th class=\"col_heading level0 col64\" >pipe_63</th>        <th class=\"col_heading level0 col65\" >pipe_64</th>        <th class=\"col_heading level0 col66\" >pipe_65</th>        <th class=\"col_heading level0 col67\" >pipe_66</th>        <th class=\"col_heading level0 col68\" >pipe_67</th>        <th class=\"col_heading level0 col69\" >pipe_68</th>        <th class=\"col_heading level0 col70\" >pipe_69</th>        <th class=\"col_heading level0 col71\" >pipe_70</th>        <th class=\"col_heading level0 col72\" >pipe_71</th>        <th class=\"col_heading level0 col73\" >pipe_72</th>        <th class=\"col_heading level0 col74\" >pipe_73</th>        <th class=\"col_heading level0 col75\" >pipe_74</th>        <th class=\"col_heading level0 col76\" >pipe_75</th>        <th class=\"col_heading level0 col77\" >pipe_76</th>    </tr></thead><tbody>\n",
       "                <tr>\n",
       "                                <td id=\"T_318b65a0_f4c1_11e9_84d2_008cfafbf396row0_col0\" class=\"data row0 col0\" >0</td>\n",
       "                        <td id=\"T_318b65a0_f4c1_11e9_84d2_008cfafbf396row0_col1\" class=\"data row0 col1\" >Conv2d(1, 64, kernel_size=(3, 3), stride=(1, 1), padding=(1, 1))</td>\n",
       "                        <td id=\"T_318b65a0_f4c1_11e9_84d2_008cfafbf396row0_col2\" class=\"data row0 col2\" >BatchNorm2d(64, eps=1e-05, momentum=0.1, affine=True, track_running_stats=True)</td>\n",
       "                        <td id=\"T_318b65a0_f4c1_11e9_84d2_008cfafbf396row0_col3\" class=\"data row0 col3\" >BatchNorm2d(64, eps=1e-05, momentum=0.1, affine=True, track_running_stats=True)</td>\n",
       "                        <td id=\"T_318b65a0_f4c1_11e9_84d2_008cfafbf396row0_col4\" class=\"data row0 col4\" >ReLU()</td>\n",
       "                        <td id=\"T_318b65a0_f4c1_11e9_84d2_008cfafbf396row0_col5\" class=\"data row0 col5\" >Conv2d(64, 64, kernel_size=(3, 3), stride=(1, 1), padding=(1, 1))</td>\n",
       "                        <td id=\"T_318b65a0_f4c1_11e9_84d2_008cfafbf396row0_col6\" class=\"data row0 col6\" >BatchNorm2d(64, eps=1e-05, momentum=0.1, affine=True, track_running_stats=True)</td>\n",
       "                        <td id=\"T_318b65a0_f4c1_11e9_84d2_008cfafbf396row0_col7\" class=\"data row0 col7\" >ReLU()</td>\n",
       "                        <td id=\"T_318b65a0_f4c1_11e9_84d2_008cfafbf396row0_col8\" class=\"data row0 col8\" >Conv2d(64, 64, kernel_size=(3, 3), stride=(1, 1), padding=(1, 1))</td>\n",
       "                        <td id=\"T_318b65a0_f4c1_11e9_84d2_008cfafbf396row0_col9\" class=\"data row0 col9\" >ReLU()</td>\n",
       "                        <td id=\"T_318b65a0_f4c1_11e9_84d2_008cfafbf396row0_col10\" class=\"data row0 col10\" >Conv2d(64, 64, kernel_size=(1, 1), stride=(1, 1))</td>\n",
       "                        <td id=\"T_318b65a0_f4c1_11e9_84d2_008cfafbf396row0_col11\" class=\"data row0 col11\" >TorchAdd()</td>\n",
       "                        <td id=\"T_318b65a0_f4c1_11e9_84d2_008cfafbf396row0_col12\" class=\"data row0 col12\" >BatchNorm2d(64, eps=1e-05, momentum=0.1, affine=True, track_running_stats=True)</td>\n",
       "                        <td id=\"T_318b65a0_f4c1_11e9_84d2_008cfafbf396row0_col13\" class=\"data row0 col13\" >ReLU()</td>\n",
       "                        <td id=\"T_318b65a0_f4c1_11e9_84d2_008cfafbf396row0_col14\" class=\"data row0 col14\" >Conv2d(64, 64, kernel_size=(3, 3), stride=(1, 1), padding=(1, 1))</td>\n",
       "                        <td id=\"T_318b65a0_f4c1_11e9_84d2_008cfafbf396row0_col15\" class=\"data row0 col15\" >BatchNorm2d(64, eps=1e-05, momentum=0.1, affine=True, track_running_stats=True)</td>\n",
       "                        <td id=\"T_318b65a0_f4c1_11e9_84d2_008cfafbf396row0_col16\" class=\"data row0 col16\" >ReLU()</td>\n",
       "                        <td id=\"T_318b65a0_f4c1_11e9_84d2_008cfafbf396row0_col17\" class=\"data row0 col17\" >Conv2d(64, 64, kernel_size=(3, 3), stride=(1, 1), padding=(1, 1))</td>\n",
       "                        <td id=\"T_318b65a0_f4c1_11e9_84d2_008cfafbf396row0_col18\" class=\"data row0 col18\" >ReLU()</td>\n",
       "                        <td id=\"T_318b65a0_f4c1_11e9_84d2_008cfafbf396row0_col19\" class=\"data row0 col19\" >Conv2d(64, 64, kernel_size=(1, 1), stride=(1, 1))</td>\n",
       "                        <td id=\"T_318b65a0_f4c1_11e9_84d2_008cfafbf396row0_col20\" class=\"data row0 col20\" >TorchAdd()</td>\n",
       "                        <td id=\"T_318b65a0_f4c1_11e9_84d2_008cfafbf396row0_col21\" class=\"data row0 col21\" >BatchNorm2d(64, eps=1e-05, momentum=0.1, affine=True, track_running_stats=True)</td>\n",
       "                        <td id=\"T_318b65a0_f4c1_11e9_84d2_008cfafbf396row0_col22\" class=\"data row0 col22\" >ReLU()</td>\n",
       "                        <td id=\"T_318b65a0_f4c1_11e9_84d2_008cfafbf396row0_col23\" class=\"data row0 col23\" >Conv2d(64, 128, kernel_size=(3, 3), stride=(2, 2), padding=(1, 1))</td>\n",
       "                        <td id=\"T_318b65a0_f4c1_11e9_84d2_008cfafbf396row0_col24\" class=\"data row0 col24\" >BatchNorm2d(128, eps=1e-05, momentum=0.1, affine=True, track_running_stats=True)</td>\n",
       "                        <td id=\"T_318b65a0_f4c1_11e9_84d2_008cfafbf396row0_col25\" class=\"data row0 col25\" >ReLU()</td>\n",
       "                        <td id=\"T_318b65a0_f4c1_11e9_84d2_008cfafbf396row0_col26\" class=\"data row0 col26\" >Conv2d(128, 128, kernel_size=(3, 3), stride=(1, 1), padding=(1, 1))</td>\n",
       "                        <td id=\"T_318b65a0_f4c1_11e9_84d2_008cfafbf396row0_col27\" class=\"data row0 col27\" >ReLU()</td>\n",
       "                        <td id=\"T_318b65a0_f4c1_11e9_84d2_008cfafbf396row0_col28\" class=\"data row0 col28\" >Conv2d(64, 128, kernel_size=(1, 1), stride=(2, 2))</td>\n",
       "                        <td id=\"T_318b65a0_f4c1_11e9_84d2_008cfafbf396row0_col29\" class=\"data row0 col29\" >TorchAdd()</td>\n",
       "                        <td id=\"T_318b65a0_f4c1_11e9_84d2_008cfafbf396row0_col30\" class=\"data row0 col30\" >BatchNorm2d(128, eps=1e-05, momentum=0.1, affine=True, track_running_stats=True)</td>\n",
       "                        <td id=\"T_318b65a0_f4c1_11e9_84d2_008cfafbf396row0_col31\" class=\"data row0 col31\" >ReLU()</td>\n",
       "                        <td id=\"T_318b65a0_f4c1_11e9_84d2_008cfafbf396row0_col32\" class=\"data row0 col32\" >Conv2d(128, 128, kernel_size=(3, 3), stride=(1, 1), padding=(1, 1))</td>\n",
       "                        <td id=\"T_318b65a0_f4c1_11e9_84d2_008cfafbf396row0_col33\" class=\"data row0 col33\" >BatchNorm2d(128, eps=1e-05, momentum=0.1, affine=True, track_running_stats=True)</td>\n",
       "                        <td id=\"T_318b65a0_f4c1_11e9_84d2_008cfafbf396row0_col34\" class=\"data row0 col34\" >ReLU()</td>\n",
       "                        <td id=\"T_318b65a0_f4c1_11e9_84d2_008cfafbf396row0_col35\" class=\"data row0 col35\" >Conv2d(128, 128, kernel_size=(3, 3), stride=(1, 1), padding=(1, 1))</td>\n",
       "                        <td id=\"T_318b65a0_f4c1_11e9_84d2_008cfafbf396row0_col36\" class=\"data row0 col36\" >ReLU()</td>\n",
       "                        <td id=\"T_318b65a0_f4c1_11e9_84d2_008cfafbf396row0_col37\" class=\"data row0 col37\" >Conv2d(128, 128, kernel_size=(1, 1), stride=(1, 1))</td>\n",
       "                        <td id=\"T_318b65a0_f4c1_11e9_84d2_008cfafbf396row0_col38\" class=\"data row0 col38\" >TorchAdd()</td>\n",
       "                        <td id=\"T_318b65a0_f4c1_11e9_84d2_008cfafbf396row0_col39\" class=\"data row0 col39\" >BatchNorm2d(128, eps=1e-05, momentum=0.1, affine=True, track_running_stats=True)</td>\n",
       "                        <td id=\"T_318b65a0_f4c1_11e9_84d2_008cfafbf396row0_col40\" class=\"data row0 col40\" >ReLU()</td>\n",
       "                        <td id=\"T_318b65a0_f4c1_11e9_84d2_008cfafbf396row0_col41\" class=\"data row0 col41\" >Conv2d(128, 256, kernel_size=(3, 3), stride=(2, 2), padding=(1, 1))</td>\n",
       "                        <td id=\"T_318b65a0_f4c1_11e9_84d2_008cfafbf396row0_col42\" class=\"data row0 col42\" >BatchNorm2d(256, eps=1e-05, momentum=0.1, affine=True, track_running_stats=True)</td>\n",
       "                        <td id=\"T_318b65a0_f4c1_11e9_84d2_008cfafbf396row0_col43\" class=\"data row0 col43\" >ReLU()</td>\n",
       "                        <td id=\"T_318b65a0_f4c1_11e9_84d2_008cfafbf396row0_col44\" class=\"data row0 col44\" >Conv2d(256, 256, kernel_size=(3, 3), stride=(1, 1), padding=(1, 1))</td>\n",
       "                        <td id=\"T_318b65a0_f4c1_11e9_84d2_008cfafbf396row0_col45\" class=\"data row0 col45\" >ReLU()</td>\n",
       "                        <td id=\"T_318b65a0_f4c1_11e9_84d2_008cfafbf396row0_col46\" class=\"data row0 col46\" >Conv2d(128, 256, kernel_size=(1, 1), stride=(2, 2))</td>\n",
       "                        <td id=\"T_318b65a0_f4c1_11e9_84d2_008cfafbf396row0_col47\" class=\"data row0 col47\" >TorchAdd()</td>\n",
       "                        <td id=\"T_318b65a0_f4c1_11e9_84d2_008cfafbf396row0_col48\" class=\"data row0 col48\" >BatchNorm2d(256, eps=1e-05, momentum=0.1, affine=True, track_running_stats=True)</td>\n",
       "                        <td id=\"T_318b65a0_f4c1_11e9_84d2_008cfafbf396row0_col49\" class=\"data row0 col49\" >ReLU()</td>\n",
       "                        <td id=\"T_318b65a0_f4c1_11e9_84d2_008cfafbf396row0_col50\" class=\"data row0 col50\" >Conv2d(256, 256, kernel_size=(3, 3), stride=(1, 1), padding=(1, 1))</td>\n",
       "                        <td id=\"T_318b65a0_f4c1_11e9_84d2_008cfafbf396row0_col51\" class=\"data row0 col51\" >BatchNorm2d(256, eps=1e-05, momentum=0.1, affine=True, track_running_stats=True)</td>\n",
       "                        <td id=\"T_318b65a0_f4c1_11e9_84d2_008cfafbf396row0_col52\" class=\"data row0 col52\" >ReLU()</td>\n",
       "                        <td id=\"T_318b65a0_f4c1_11e9_84d2_008cfafbf396row0_col53\" class=\"data row0 col53\" >Conv2d(256, 256, kernel_size=(3, 3), stride=(1, 1), padding=(1, 1))</td>\n",
       "                        <td id=\"T_318b65a0_f4c1_11e9_84d2_008cfafbf396row0_col54\" class=\"data row0 col54\" >ReLU()</td>\n",
       "                        <td id=\"T_318b65a0_f4c1_11e9_84d2_008cfafbf396row0_col55\" class=\"data row0 col55\" >Conv2d(256, 256, kernel_size=(1, 1), stride=(1, 1))</td>\n",
       "                        <td id=\"T_318b65a0_f4c1_11e9_84d2_008cfafbf396row0_col56\" class=\"data row0 col56\" >TorchAdd()</td>\n",
       "                        <td id=\"T_318b65a0_f4c1_11e9_84d2_008cfafbf396row0_col57\" class=\"data row0 col57\" >BatchNorm2d(256, eps=1e-05, momentum=0.1, affine=True, track_running_stats=True)</td>\n",
       "                        <td id=\"T_318b65a0_f4c1_11e9_84d2_008cfafbf396row0_col58\" class=\"data row0 col58\" >ReLU()</td>\n",
       "                        <td id=\"T_318b65a0_f4c1_11e9_84d2_008cfafbf396row0_col59\" class=\"data row0 col59\" >Conv2d(256, 512, kernel_size=(3, 3), stride=(2, 2), padding=(1, 1))</td>\n",
       "                        <td id=\"T_318b65a0_f4c1_11e9_84d2_008cfafbf396row0_col60\" class=\"data row0 col60\" >BatchNorm2d(512, eps=1e-05, momentum=0.1, affine=True, track_running_stats=True)</td>\n",
       "                        <td id=\"T_318b65a0_f4c1_11e9_84d2_008cfafbf396row0_col61\" class=\"data row0 col61\" >ReLU()</td>\n",
       "                        <td id=\"T_318b65a0_f4c1_11e9_84d2_008cfafbf396row0_col62\" class=\"data row0 col62\" >Conv2d(512, 512, kernel_size=(3, 3), stride=(1, 1), padding=(1, 1))</td>\n",
       "                        <td id=\"T_318b65a0_f4c1_11e9_84d2_008cfafbf396row0_col63\" class=\"data row0 col63\" >ReLU()</td>\n",
       "                        <td id=\"T_318b65a0_f4c1_11e9_84d2_008cfafbf396row0_col64\" class=\"data row0 col64\" >Conv2d(256, 512, kernel_size=(1, 1), stride=(2, 2))</td>\n",
       "                        <td id=\"T_318b65a0_f4c1_11e9_84d2_008cfafbf396row0_col65\" class=\"data row0 col65\" >TorchAdd()</td>\n",
       "                        <td id=\"T_318b65a0_f4c1_11e9_84d2_008cfafbf396row0_col66\" class=\"data row0 col66\" >BatchNorm2d(512, eps=1e-05, momentum=0.1, affine=True, track_running_stats=True)</td>\n",
       "                        <td id=\"T_318b65a0_f4c1_11e9_84d2_008cfafbf396row0_col67\" class=\"data row0 col67\" >ReLU()</td>\n",
       "                        <td id=\"T_318b65a0_f4c1_11e9_84d2_008cfafbf396row0_col68\" class=\"data row0 col68\" >Conv2d(512, 512, kernel_size=(3, 3), stride=(1, 1), padding=(1, 1))</td>\n",
       "                        <td id=\"T_318b65a0_f4c1_11e9_84d2_008cfafbf396row0_col69\" class=\"data row0 col69\" >BatchNorm2d(512, eps=1e-05, momentum=0.1, affine=True, track_running_stats=True)</td>\n",
       "                        <td id=\"T_318b65a0_f4c1_11e9_84d2_008cfafbf396row0_col70\" class=\"data row0 col70\" >ReLU()</td>\n",
       "                        <td id=\"T_318b65a0_f4c1_11e9_84d2_008cfafbf396row0_col71\" class=\"data row0 col71\" >Conv2d(512, 512, kernel_size=(3, 3), stride=(1, 1), padding=(1, 1))</td>\n",
       "                        <td id=\"T_318b65a0_f4c1_11e9_84d2_008cfafbf396row0_col72\" class=\"data row0 col72\" >ReLU()</td>\n",
       "                        <td id=\"T_318b65a0_f4c1_11e9_84d2_008cfafbf396row0_col73\" class=\"data row0 col73\" >Conv2d(512, 512, kernel_size=(1, 1), stride=(1, 1))</td>\n",
       "                        <td id=\"T_318b65a0_f4c1_11e9_84d2_008cfafbf396row0_col74\" class=\"data row0 col74\" >TorchAdd()</td>\n",
       "                        <td id=\"T_318b65a0_f4c1_11e9_84d2_008cfafbf396row0_col75\" class=\"data row0 col75\" >GlobalAvgPool2d()</td>\n",
       "                        <td id=\"T_318b65a0_f4c1_11e9_84d2_008cfafbf396row0_col76\" class=\"data row0 col76\" >Linear(in_features=512, out_features=10, bias=True)</td>\n",
       "                        <td id=\"T_318b65a0_f4c1_11e9_84d2_008cfafbf396row0_col77\" class=\"data row0 col77\" >nan</td>\n",
       "            </tr>\n",
       "            <tr>\n",
       "                                <td id=\"T_318b65a0_f4c1_11e9_84d2_008cfafbf396row1_col0\" class=\"data row1 col0\" >12</td>\n",
       "                        <td id=\"T_318b65a0_f4c1_11e9_84d2_008cfafbf396row1_col1\" class=\"data row1 col1\" >Conv2d(1, 64, kernel_size=(3, 3), stride=(1, 1), padding=(1, 1))</td>\n",
       "                        <td id=\"T_318b65a0_f4c1_11e9_84d2_008cfafbf396row1_col2\" class=\"data row1 col2\" >BatchNorm2d(64, eps=1e-05, momentum=0.1, affine=True, track_running_stats=True)</td>\n",
       "                        <td id=\"T_318b65a0_f4c1_11e9_84d2_008cfafbf396row1_col3\" class=\"data row1 col3\" >BatchNorm2d(64, eps=1e-05, momentum=0.1, affine=True, track_running_stats=True)</td>\n",
       "                        <td id=\"T_318b65a0_f4c1_11e9_84d2_008cfafbf396row1_col4\" class=\"data row1 col4\" >ReLU()</td>\n",
       "                        <td id=\"T_318b65a0_f4c1_11e9_84d2_008cfafbf396row1_col5\" class=\"data row1 col5\" >Conv2d(64, 64, kernel_size=(3, 3), stride=(1, 1), padding=(1, 1))</td>\n",
       "                        <td id=\"T_318b65a0_f4c1_11e9_84d2_008cfafbf396row1_col6\" class=\"data row1 col6\" >BatchNorm2d(64, eps=1e-05, momentum=0.1, affine=True, track_running_stats=True)</td>\n",
       "                        <td id=\"T_318b65a0_f4c1_11e9_84d2_008cfafbf396row1_col7\" class=\"data row1 col7\" >ReLU()</td>\n",
       "                        <td id=\"T_318b65a0_f4c1_11e9_84d2_008cfafbf396row1_col8\" class=\"data row1 col8\" >Conv2d(64, 64, kernel_size=(3, 3), stride=(1, 1), padding=(1, 1))</td>\n",
       "                        <td id=\"T_318b65a0_f4c1_11e9_84d2_008cfafbf396row1_col9\" class=\"data row1 col9\" >ReLU()</td>\n",
       "                        <td id=\"T_318b65a0_f4c1_11e9_84d2_008cfafbf396row1_col10\" class=\"data row1 col10\" >Conv2d(64, 64, kernel_size=(1, 1), stride=(1, 1))</td>\n",
       "                        <td id=\"T_318b65a0_f4c1_11e9_84d2_008cfafbf396row1_col11\" class=\"data row1 col11\" >TorchAdd()</td>\n",
       "                        <td id=\"T_318b65a0_f4c1_11e9_84d2_008cfafbf396row1_col12\" class=\"data row1 col12\" >BatchNorm2d(64, eps=1e-05, momentum=0.1, affine=True, track_running_stats=True)</td>\n",
       "                        <td id=\"T_318b65a0_f4c1_11e9_84d2_008cfafbf396row1_col13\" class=\"data row1 col13\" >ReLU()</td>\n",
       "                        <td id=\"T_318b65a0_f4c1_11e9_84d2_008cfafbf396row1_col14\" class=\"data row1 col14\" >Conv2d(64, 64, kernel_size=(3, 3), stride=(1, 1), padding=(1, 1))</td>\n",
       "                        <td id=\"T_318b65a0_f4c1_11e9_84d2_008cfafbf396row1_col15\" class=\"data row1 col15\" >BatchNorm2d(64, eps=1e-05, momentum=0.1, affine=True, track_running_stats=True)</td>\n",
       "                        <td id=\"T_318b65a0_f4c1_11e9_84d2_008cfafbf396row1_col16\" class=\"data row1 col16\" >ReLU()</td>\n",
       "                        <td id=\"T_318b65a0_f4c1_11e9_84d2_008cfafbf396row1_col17\" class=\"data row1 col17\" >Conv2d(64, 64, kernel_size=(3, 3), stride=(1, 1), padding=(1, 1))</td>\n",
       "                        <td id=\"T_318b65a0_f4c1_11e9_84d2_008cfafbf396row1_col18\" class=\"data row1 col18\" >ReLU()</td>\n",
       "                        <td id=\"T_318b65a0_f4c1_11e9_84d2_008cfafbf396row1_col19\" class=\"data row1 col19\" >Conv2d(64, 64, kernel_size=(1, 1), stride=(1, 1))</td>\n",
       "                        <td id=\"T_318b65a0_f4c1_11e9_84d2_008cfafbf396row1_col20\" class=\"data row1 col20\" >TorchAdd()</td>\n",
       "                        <td id=\"T_318b65a0_f4c1_11e9_84d2_008cfafbf396row1_col21\" class=\"data row1 col21\" >BatchNorm2d(64, eps=1e-05, momentum=0.1, affine=True, track_running_stats=True)</td>\n",
       "                        <td id=\"T_318b65a0_f4c1_11e9_84d2_008cfafbf396row1_col22\" class=\"data row1 col22\" >ReLU()</td>\n",
       "                        <td id=\"T_318b65a0_f4c1_11e9_84d2_008cfafbf396row1_col23\" class=\"data row1 col23\" >Conv2d(64, 128, kernel_size=(3, 3), stride=(2, 2), padding=(1, 1))</td>\n",
       "                        <td id=\"T_318b65a0_f4c1_11e9_84d2_008cfafbf396row1_col24\" class=\"data row1 col24\" >BatchNorm2d(128, eps=1e-05, momentum=0.1, affine=True, track_running_stats=True)</td>\n",
       "                        <td id=\"T_318b65a0_f4c1_11e9_84d2_008cfafbf396row1_col25\" class=\"data row1 col25\" >ReLU()</td>\n",
       "                        <td id=\"T_318b65a0_f4c1_11e9_84d2_008cfafbf396row1_col26\" class=\"data row1 col26\" >Conv2d(128, 128, kernel_size=(3, 3), stride=(1, 1), padding=(1, 1))</td>\n",
       "                        <td id=\"T_318b65a0_f4c1_11e9_84d2_008cfafbf396row1_col27\" class=\"data row1 col27\" >ReLU()</td>\n",
       "                        <td id=\"T_318b65a0_f4c1_11e9_84d2_008cfafbf396row1_col28\" class=\"data row1 col28\" >Conv2d(64, 128, kernel_size=(1, 1), stride=(2, 2))</td>\n",
       "                        <td id=\"T_318b65a0_f4c1_11e9_84d2_008cfafbf396row1_col29\" class=\"data row1 col29\" >TorchAdd()</td>\n",
       "                        <td id=\"T_318b65a0_f4c1_11e9_84d2_008cfafbf396row1_col30\" class=\"data row1 col30\" >BatchNorm2d(128, eps=1e-05, momentum=0.1, affine=True, track_running_stats=True)</td>\n",
       "                        <td id=\"T_318b65a0_f4c1_11e9_84d2_008cfafbf396row1_col31\" class=\"data row1 col31\" >ReLU()</td>\n",
       "                        <td id=\"T_318b65a0_f4c1_11e9_84d2_008cfafbf396row1_col32\" class=\"data row1 col32\" >Conv2d(128, 128, kernel_size=(3, 3), stride=(1, 1), padding=(1, 1))</td>\n",
       "                        <td id=\"T_318b65a0_f4c1_11e9_84d2_008cfafbf396row1_col33\" class=\"data row1 col33\" >BatchNorm2d(128, eps=1e-05, momentum=0.1, affine=True, track_running_stats=True)</td>\n",
       "                        <td id=\"T_318b65a0_f4c1_11e9_84d2_008cfafbf396row1_col34\" class=\"data row1 col34\" >ReLU()</td>\n",
       "                        <td id=\"T_318b65a0_f4c1_11e9_84d2_008cfafbf396row1_col35\" class=\"data row1 col35\" >Conv2d(128, 128, kernel_size=(3, 3), stride=(1, 1), padding=(1, 1))</td>\n",
       "                        <td id=\"T_318b65a0_f4c1_11e9_84d2_008cfafbf396row1_col36\" class=\"data row1 col36\" >ReLU()</td>\n",
       "                        <td id=\"T_318b65a0_f4c1_11e9_84d2_008cfafbf396row1_col37\" class=\"data row1 col37\" >Conv2d(128, 128, kernel_size=(1, 1), stride=(1, 1))</td>\n",
       "                        <td id=\"T_318b65a0_f4c1_11e9_84d2_008cfafbf396row1_col38\" class=\"data row1 col38\" >TorchAdd()</td>\n",
       "                        <td id=\"T_318b65a0_f4c1_11e9_84d2_008cfafbf396row1_col39\" class=\"data row1 col39\" >BatchNorm2d(128, eps=1e-05, momentum=0.1, affine=True, track_running_stats=True)</td>\n",
       "                        <td id=\"T_318b65a0_f4c1_11e9_84d2_008cfafbf396row1_col40\" class=\"data row1 col40\" >ReLU()</td>\n",
       "                        <td id=\"T_318b65a0_f4c1_11e9_84d2_008cfafbf396row1_col41\" class=\"data row1 col41\" >Conv2d(128, 256, kernel_size=(3, 3), stride=(2, 2), padding=(1, 1))</td>\n",
       "                        <td id=\"T_318b65a0_f4c1_11e9_84d2_008cfafbf396row1_col42\" class=\"data row1 col42\" >BatchNorm2d(256, eps=1e-05, momentum=0.1, affine=True, track_running_stats=True)</td>\n",
       "                        <td id=\"T_318b65a0_f4c1_11e9_84d2_008cfafbf396row1_col43\" class=\"data row1 col43\" >ReLU()</td>\n",
       "                        <td id=\"T_318b65a0_f4c1_11e9_84d2_008cfafbf396row1_col44\" class=\"data row1 col44\" >Conv2d(256, 256, kernel_size=(3, 3), stride=(1, 1), padding=(1, 1))</td>\n",
       "                        <td id=\"T_318b65a0_f4c1_11e9_84d2_008cfafbf396row1_col45\" class=\"data row1 col45\" >ReLU()</td>\n",
       "                        <td id=\"T_318b65a0_f4c1_11e9_84d2_008cfafbf396row1_col46\" class=\"data row1 col46\" >Conv2d(128, 256, kernel_size=(1, 1), stride=(2, 2))</td>\n",
       "                        <td id=\"T_318b65a0_f4c1_11e9_84d2_008cfafbf396row1_col47\" class=\"data row1 col47\" >TorchAdd()</td>\n",
       "                        <td id=\"T_318b65a0_f4c1_11e9_84d2_008cfafbf396row1_col48\" class=\"data row1 col48\" >BatchNorm2d(256, eps=1e-05, momentum=0.1, affine=True, track_running_stats=True)</td>\n",
       "                        <td id=\"T_318b65a0_f4c1_11e9_84d2_008cfafbf396row1_col49\" class=\"data row1 col49\" >ReLU()</td>\n",
       "                        <td id=\"T_318b65a0_f4c1_11e9_84d2_008cfafbf396row1_col50\" class=\"data row1 col50\" >Conv2d(256, 256, kernel_size=(3, 3), stride=(1, 1), padding=(1, 1))</td>\n",
       "                        <td id=\"T_318b65a0_f4c1_11e9_84d2_008cfafbf396row1_col51\" class=\"data row1 col51\" >BatchNorm2d(256, eps=1e-05, momentum=0.1, affine=True, track_running_stats=True)</td>\n",
       "                        <td id=\"T_318b65a0_f4c1_11e9_84d2_008cfafbf396row1_col52\" class=\"data row1 col52\" >ReLU()</td>\n",
       "                        <td id=\"T_318b65a0_f4c1_11e9_84d2_008cfafbf396row1_col53\" class=\"data row1 col53\" >Conv2d(256, 256, kernel_size=(3, 3), stride=(1, 1), padding=(1, 1))</td>\n",
       "                        <td id=\"T_318b65a0_f4c1_11e9_84d2_008cfafbf396row1_col54\" class=\"data row1 col54\" >ReLU()</td>\n",
       "                        <td id=\"T_318b65a0_f4c1_11e9_84d2_008cfafbf396row1_col55\" class=\"data row1 col55\" >Conv2d(256, 256, kernel_size=(1, 1), stride=(1, 1))</td>\n",
       "                        <td id=\"T_318b65a0_f4c1_11e9_84d2_008cfafbf396row1_col56\" class=\"data row1 col56\" >TorchAdd()</td>\n",
       "                        <td id=\"T_318b65a0_f4c1_11e9_84d2_008cfafbf396row1_col57\" class=\"data row1 col57\" >BatchNorm2d(256, eps=1e-05, momentum=0.1, affine=True, track_running_stats=True)</td>\n",
       "                        <td id=\"T_318b65a0_f4c1_11e9_84d2_008cfafbf396row1_col58\" class=\"data row1 col58\" >ReLU()</td>\n",
       "                        <td id=\"T_318b65a0_f4c1_11e9_84d2_008cfafbf396row1_col59\" class=\"data row1 col59\" >Conv2d(256, 512, kernel_size=(3, 3), stride=(2, 2), padding=(1, 1))</td>\n",
       "                        <td id=\"T_318b65a0_f4c1_11e9_84d2_008cfafbf396row1_col60\" class=\"data row1 col60\" >BatchNorm2d(512, eps=1e-05, momentum=0.1, affine=True, track_running_stats=True)</td>\n",
       "                        <td id=\"T_318b65a0_f4c1_11e9_84d2_008cfafbf396row1_col61\" class=\"data row1 col61\" >ReLU()</td>\n",
       "                        <td id=\"T_318b65a0_f4c1_11e9_84d2_008cfafbf396row1_col62\" class=\"data row1 col62\" >Conv2d(512, 512, kernel_size=(3, 3), stride=(1, 1), padding=(1, 1))</td>\n",
       "                        <td id=\"T_318b65a0_f4c1_11e9_84d2_008cfafbf396row1_col63\" class=\"data row1 col63\" >ReLU()</td>\n",
       "                        <td id=\"T_318b65a0_f4c1_11e9_84d2_008cfafbf396row1_col64\" class=\"data row1 col64\" >Conv2d(256, 512, kernel_size=(1, 1), stride=(2, 2))</td>\n",
       "                        <td id=\"T_318b65a0_f4c1_11e9_84d2_008cfafbf396row1_col65\" class=\"data row1 col65\" >TorchAdd()</td>\n",
       "                        <td id=\"T_318b65a0_f4c1_11e9_84d2_008cfafbf396row1_col66\" class=\"data row1 col66\" >BatchNorm2d(512, eps=1e-05, momentum=0.1, affine=True, track_running_stats=True)</td>\n",
       "                        <td id=\"T_318b65a0_f4c1_11e9_84d2_008cfafbf396row1_col67\" class=\"data row1 col67\" >ReLU()</td>\n",
       "                        <td id=\"T_318b65a0_f4c1_11e9_84d2_008cfafbf396row1_col68\" class=\"data row1 col68\" >Conv2d(512, 512, kernel_size=(3, 3), stride=(1, 1), padding=(1, 1))</td>\n",
       "                        <td id=\"T_318b65a0_f4c1_11e9_84d2_008cfafbf396row1_col69\" class=\"data row1 col69\" >BatchNorm2d(512, eps=1e-05, momentum=0.1, affine=True, track_running_stats=True)</td>\n",
       "                        <td id=\"T_318b65a0_f4c1_11e9_84d2_008cfafbf396row1_col70\" class=\"data row1 col70\" >ReLU()</td>\n",
       "                        <td id=\"T_318b65a0_f4c1_11e9_84d2_008cfafbf396row1_col71\" class=\"data row1 col71\" >Conv2d(512, 512, kernel_size=(3, 3), stride=(1, 1), padding=(1, 1))</td>\n",
       "                        <td id=\"T_318b65a0_f4c1_11e9_84d2_008cfafbf396row1_col72\" class=\"data row1 col72\" >ReLU()</td>\n",
       "                        <td id=\"T_318b65a0_f4c1_11e9_84d2_008cfafbf396row1_col73\" class=\"data row1 col73\" >Conv2d(512, 512, kernel_size=(1, 1), stride=(1, 1))</td>\n",
       "                        <td id=\"T_318b65a0_f4c1_11e9_84d2_008cfafbf396row1_col74\" class=\"data row1 col74\" >TorchAdd()</td>\n",
       "                        <td id=\"T_318b65a0_f4c1_11e9_84d2_008cfafbf396row1_col75\" class=\"data row1 col75\" >GlobalAvgPool2d()</td>\n",
       "                        <td id=\"T_318b65a0_f4c1_11e9_84d2_008cfafbf396row1_col76\" class=\"data row1 col76\" >Linear(in_features=512, out_features=10, bias=True)</td>\n",
       "                        <td id=\"T_318b65a0_f4c1_11e9_84d2_008cfafbf396row1_col77\" class=\"data row1 col77\" >nan</td>\n",
       "            </tr>\n",
       "            <tr>\n",
       "                                <td id=\"T_318b65a0_f4c1_11e9_84d2_008cfafbf396row2_col0\" class=\"data row2 col0\" >24</td>\n",
       "                        <td id=\"T_318b65a0_f4c1_11e9_84d2_008cfafbf396row2_col1\" class=\"data row2 col1\" >Conv2d(1, 64, kernel_size=(3, 3), stride=(1, 1), padding=(1, 1))</td>\n",
       "                        <td id=\"T_318b65a0_f4c1_11e9_84d2_008cfafbf396row2_col2\" class=\"data row2 col2\" >BatchNorm2d(64, eps=1e-05, momentum=0.1, affine=True, track_running_stats=True)</td>\n",
       "                        <td id=\"T_318b65a0_f4c1_11e9_84d2_008cfafbf396row2_col3\" class=\"data row2 col3\" >BatchNorm2d(64, eps=1e-05, momentum=0.1, affine=True, track_running_stats=True)</td>\n",
       "                        <td id=\"T_318b65a0_f4c1_11e9_84d2_008cfafbf396row2_col4\" class=\"data row2 col4\" >ReLU()</td>\n",
       "                        <td id=\"T_318b65a0_f4c1_11e9_84d2_008cfafbf396row2_col5\" class=\"data row2 col5\" >Conv2d(64, 64, kernel_size=(3, 3), stride=(1, 1), padding=(1, 1))</td>\n",
       "                        <td id=\"T_318b65a0_f4c1_11e9_84d2_008cfafbf396row2_col6\" class=\"data row2 col6\" >BatchNorm2d(64, eps=1e-05, momentum=0.1, affine=True, track_running_stats=True)</td>\n",
       "                        <td id=\"T_318b65a0_f4c1_11e9_84d2_008cfafbf396row2_col7\" class=\"data row2 col7\" >ReLU()</td>\n",
       "                        <td id=\"T_318b65a0_f4c1_11e9_84d2_008cfafbf396row2_col8\" class=\"data row2 col8\" >Conv2d(64, 64, kernel_size=(3, 3), stride=(1, 1), padding=(1, 1))</td>\n",
       "                        <td id=\"T_318b65a0_f4c1_11e9_84d2_008cfafbf396row2_col9\" class=\"data row2 col9\" >ReLU()</td>\n",
       "                        <td id=\"T_318b65a0_f4c1_11e9_84d2_008cfafbf396row2_col10\" class=\"data row2 col10\" >Conv2d(64, 64, kernel_size=(1, 1), stride=(1, 1))</td>\n",
       "                        <td id=\"T_318b65a0_f4c1_11e9_84d2_008cfafbf396row2_col11\" class=\"data row2 col11\" >TorchAdd()</td>\n",
       "                        <td id=\"T_318b65a0_f4c1_11e9_84d2_008cfafbf396row2_col12\" class=\"data row2 col12\" >BatchNorm2d(64, eps=1e-05, momentum=0.1, affine=True, track_running_stats=True)</td>\n",
       "                        <td id=\"T_318b65a0_f4c1_11e9_84d2_008cfafbf396row2_col13\" class=\"data row2 col13\" >ReLU()</td>\n",
       "                        <td id=\"T_318b65a0_f4c1_11e9_84d2_008cfafbf396row2_col14\" class=\"data row2 col14\" >Conv2d(64, 64, kernel_size=(3, 3), stride=(1, 1), padding=(1, 1))</td>\n",
       "                        <td id=\"T_318b65a0_f4c1_11e9_84d2_008cfafbf396row2_col15\" class=\"data row2 col15\" >BatchNorm2d(64, eps=1e-05, momentum=0.1, affine=True, track_running_stats=True)</td>\n",
       "                        <td id=\"T_318b65a0_f4c1_11e9_84d2_008cfafbf396row2_col16\" class=\"data row2 col16\" >ReLU()</td>\n",
       "                        <td id=\"T_318b65a0_f4c1_11e9_84d2_008cfafbf396row2_col17\" class=\"data row2 col17\" >Conv2d(64, 64, kernel_size=(3, 3), stride=(1, 1), padding=(1, 1))</td>\n",
       "                        <td id=\"T_318b65a0_f4c1_11e9_84d2_008cfafbf396row2_col18\" class=\"data row2 col18\" >ReLU()</td>\n",
       "                        <td id=\"T_318b65a0_f4c1_11e9_84d2_008cfafbf396row2_col19\" class=\"data row2 col19\" >Conv2d(64, 64, kernel_size=(1, 1), stride=(1, 1))</td>\n",
       "                        <td id=\"T_318b65a0_f4c1_11e9_84d2_008cfafbf396row2_col20\" class=\"data row2 col20\" >TorchAdd()</td>\n",
       "                        <td id=\"T_318b65a0_f4c1_11e9_84d2_008cfafbf396row2_col21\" class=\"data row2 col21\" >BatchNorm2d(64, eps=1e-05, momentum=0.1, affine=True, track_running_stats=True)</td>\n",
       "                        <td id=\"T_318b65a0_f4c1_11e9_84d2_008cfafbf396row2_col22\" class=\"data row2 col22\" >ReLU()</td>\n",
       "                        <td id=\"T_318b65a0_f4c1_11e9_84d2_008cfafbf396row2_col23\" class=\"data row2 col23\" >Conv2d(64, 128, kernel_size=(3, 3), stride=(2, 2), padding=(1, 1))</td>\n",
       "                        <td id=\"T_318b65a0_f4c1_11e9_84d2_008cfafbf396row2_col24\" class=\"data row2 col24\" >BatchNorm2d(128, eps=1e-05, momentum=0.1, affine=True, track_running_stats=True)</td>\n",
       "                        <td id=\"T_318b65a0_f4c1_11e9_84d2_008cfafbf396row2_col25\" class=\"data row2 col25\" >ReLU()</td>\n",
       "                        <td id=\"T_318b65a0_f4c1_11e9_84d2_008cfafbf396row2_col26\" class=\"data row2 col26\" >Conv2d(128, 128, kernel_size=(3, 3), stride=(1, 1), padding=(1, 1))</td>\n",
       "                        <td id=\"T_318b65a0_f4c1_11e9_84d2_008cfafbf396row2_col27\" class=\"data row2 col27\" >ReLU()</td>\n",
       "                        <td id=\"T_318b65a0_f4c1_11e9_84d2_008cfafbf396row2_col28\" class=\"data row2 col28\" >Conv2d(64, 128, kernel_size=(1, 1), stride=(2, 2))</td>\n",
       "                        <td id=\"T_318b65a0_f4c1_11e9_84d2_008cfafbf396row2_col29\" class=\"data row2 col29\" >TorchAdd()</td>\n",
       "                        <td id=\"T_318b65a0_f4c1_11e9_84d2_008cfafbf396row2_col30\" class=\"data row2 col30\" >BatchNorm2d(128, eps=1e-05, momentum=0.1, affine=True, track_running_stats=True)</td>\n",
       "                        <td id=\"T_318b65a0_f4c1_11e9_84d2_008cfafbf396row2_col31\" class=\"data row2 col31\" >ReLU()</td>\n",
       "                        <td id=\"T_318b65a0_f4c1_11e9_84d2_008cfafbf396row2_col32\" class=\"data row2 col32\" >Conv2d(128, 128, kernel_size=(3, 3), stride=(1, 1), padding=(1, 1))</td>\n",
       "                        <td id=\"T_318b65a0_f4c1_11e9_84d2_008cfafbf396row2_col33\" class=\"data row2 col33\" >BatchNorm2d(128, eps=1e-05, momentum=0.1, affine=True, track_running_stats=True)</td>\n",
       "                        <td id=\"T_318b65a0_f4c1_11e9_84d2_008cfafbf396row2_col34\" class=\"data row2 col34\" >ReLU()</td>\n",
       "                        <td id=\"T_318b65a0_f4c1_11e9_84d2_008cfafbf396row2_col35\" class=\"data row2 col35\" >Conv2d(128, 128, kernel_size=(3, 3), stride=(1, 1), padding=(1, 1))</td>\n",
       "                        <td id=\"T_318b65a0_f4c1_11e9_84d2_008cfafbf396row2_col36\" class=\"data row2 col36\" >ReLU()</td>\n",
       "                        <td id=\"T_318b65a0_f4c1_11e9_84d2_008cfafbf396row2_col37\" class=\"data row2 col37\" >Conv2d(128, 128, kernel_size=(1, 1), stride=(1, 1))</td>\n",
       "                        <td id=\"T_318b65a0_f4c1_11e9_84d2_008cfafbf396row2_col38\" class=\"data row2 col38\" >TorchAdd()</td>\n",
       "                        <td id=\"T_318b65a0_f4c1_11e9_84d2_008cfafbf396row2_col39\" class=\"data row2 col39\" >BatchNorm2d(128, eps=1e-05, momentum=0.1, affine=True, track_running_stats=True)</td>\n",
       "                        <td id=\"T_318b65a0_f4c1_11e9_84d2_008cfafbf396row2_col40\" class=\"data row2 col40\" >ReLU()</td>\n",
       "                        <td id=\"T_318b65a0_f4c1_11e9_84d2_008cfafbf396row2_col41\" class=\"data row2 col41\" >Conv2d(128, 256, kernel_size=(3, 3), stride=(2, 2), padding=(1, 1))</td>\n",
       "                        <td id=\"T_318b65a0_f4c1_11e9_84d2_008cfafbf396row2_col42\" class=\"data row2 col42\" >BatchNorm2d(256, eps=1e-05, momentum=0.1, affine=True, track_running_stats=True)</td>\n",
       "                        <td id=\"T_318b65a0_f4c1_11e9_84d2_008cfafbf396row2_col43\" class=\"data row2 col43\" >ReLU()</td>\n",
       "                        <td id=\"T_318b65a0_f4c1_11e9_84d2_008cfafbf396row2_col44\" class=\"data row2 col44\" >Conv2d(256, 256, kernel_size=(3, 3), stride=(1, 1), padding=(1, 1))</td>\n",
       "                        <td id=\"T_318b65a0_f4c1_11e9_84d2_008cfafbf396row2_col45\" class=\"data row2 col45\" >ReLU()</td>\n",
       "                        <td id=\"T_318b65a0_f4c1_11e9_84d2_008cfafbf396row2_col46\" class=\"data row2 col46\" >Conv2d(128, 256, kernel_size=(1, 1), stride=(2, 2))</td>\n",
       "                        <td id=\"T_318b65a0_f4c1_11e9_84d2_008cfafbf396row2_col47\" class=\"data row2 col47\" >TorchAdd()</td>\n",
       "                        <td id=\"T_318b65a0_f4c1_11e9_84d2_008cfafbf396row2_col48\" class=\"data row2 col48\" >BatchNorm2d(256, eps=1e-05, momentum=0.1, affine=True, track_running_stats=True)</td>\n",
       "                        <td id=\"T_318b65a0_f4c1_11e9_84d2_008cfafbf396row2_col49\" class=\"data row2 col49\" >ReLU()</td>\n",
       "                        <td id=\"T_318b65a0_f4c1_11e9_84d2_008cfafbf396row2_col50\" class=\"data row2 col50\" >Conv2d(256, 256, kernel_size=(3, 3), stride=(1, 1), padding=(1, 1))</td>\n",
       "                        <td id=\"T_318b65a0_f4c1_11e9_84d2_008cfafbf396row2_col51\" class=\"data row2 col51\" >BatchNorm2d(256, eps=1e-05, momentum=0.1, affine=True, track_running_stats=True)</td>\n",
       "                        <td id=\"T_318b65a0_f4c1_11e9_84d2_008cfafbf396row2_col52\" class=\"data row2 col52\" >ReLU()</td>\n",
       "                        <td id=\"T_318b65a0_f4c1_11e9_84d2_008cfafbf396row2_col53\" class=\"data row2 col53\" >Conv2d(256, 256, kernel_size=(3, 3), stride=(1, 1), padding=(1, 1))</td>\n",
       "                        <td id=\"T_318b65a0_f4c1_11e9_84d2_008cfafbf396row2_col54\" class=\"data row2 col54\" >ReLU()</td>\n",
       "                        <td id=\"T_318b65a0_f4c1_11e9_84d2_008cfafbf396row2_col55\" class=\"data row2 col55\" >Conv2d(256, 256, kernel_size=(1, 1), stride=(1, 1))</td>\n",
       "                        <td id=\"T_318b65a0_f4c1_11e9_84d2_008cfafbf396row2_col56\" class=\"data row2 col56\" >TorchAdd()</td>\n",
       "                        <td id=\"T_318b65a0_f4c1_11e9_84d2_008cfafbf396row2_col57\" class=\"data row2 col57\" >BatchNorm2d(256, eps=1e-05, momentum=0.1, affine=True, track_running_stats=True)</td>\n",
       "                        <td id=\"T_318b65a0_f4c1_11e9_84d2_008cfafbf396row2_col58\" class=\"data row2 col58\" >ReLU()</td>\n",
       "                        <td id=\"T_318b65a0_f4c1_11e9_84d2_008cfafbf396row2_col59\" class=\"data row2 col59\" >Conv2d(256, 512, kernel_size=(3, 3), stride=(2, 2), padding=(1, 1))</td>\n",
       "                        <td id=\"T_318b65a0_f4c1_11e9_84d2_008cfafbf396row2_col60\" class=\"data row2 col60\" >BatchNorm2d(512, eps=1e-05, momentum=0.1, affine=True, track_running_stats=True)</td>\n",
       "                        <td id=\"T_318b65a0_f4c1_11e9_84d2_008cfafbf396row2_col61\" class=\"data row2 col61\" >ReLU()</td>\n",
       "                        <td id=\"T_318b65a0_f4c1_11e9_84d2_008cfafbf396row2_col62\" class=\"data row2 col62\" >Conv2d(512, 512, kernel_size=(3, 3), stride=(1, 1), padding=(1, 1))</td>\n",
       "                        <td id=\"T_318b65a0_f4c1_11e9_84d2_008cfafbf396row2_col63\" class=\"data row2 col63\" >ReLU()</td>\n",
       "                        <td id=\"T_318b65a0_f4c1_11e9_84d2_008cfafbf396row2_col64\" class=\"data row2 col64\" >Conv2d(256, 512, kernel_size=(1, 1), stride=(2, 2))</td>\n",
       "                        <td id=\"T_318b65a0_f4c1_11e9_84d2_008cfafbf396row2_col65\" class=\"data row2 col65\" >TorchAdd()</td>\n",
       "                        <td id=\"T_318b65a0_f4c1_11e9_84d2_008cfafbf396row2_col66\" class=\"data row2 col66\" >BatchNorm2d(512, eps=1e-05, momentum=0.1, affine=True, track_running_stats=True)</td>\n",
       "                        <td id=\"T_318b65a0_f4c1_11e9_84d2_008cfafbf396row2_col67\" class=\"data row2 col67\" >ReLU()</td>\n",
       "                        <td id=\"T_318b65a0_f4c1_11e9_84d2_008cfafbf396row2_col68\" class=\"data row2 col68\" >Conv2d(512, 512, kernel_size=(3, 3), stride=(1, 1), padding=(1, 1))</td>\n",
       "                        <td id=\"T_318b65a0_f4c1_11e9_84d2_008cfafbf396row2_col69\" class=\"data row2 col69\" >BatchNorm2d(512, eps=1e-05, momentum=0.1, affine=True, track_running_stats=True)</td>\n",
       "                        <td id=\"T_318b65a0_f4c1_11e9_84d2_008cfafbf396row2_col70\" class=\"data row2 col70\" >ReLU()</td>\n",
       "                        <td id=\"T_318b65a0_f4c1_11e9_84d2_008cfafbf396row2_col71\" class=\"data row2 col71\" >Conv2d(512, 512, kernel_size=(3, 3), stride=(1, 1), padding=(1, 1))</td>\n",
       "                        <td id=\"T_318b65a0_f4c1_11e9_84d2_008cfafbf396row2_col72\" class=\"data row2 col72\" >ReLU()</td>\n",
       "                        <td id=\"T_318b65a0_f4c1_11e9_84d2_008cfafbf396row2_col73\" class=\"data row2 col73\" >Conv2d(512, 512, kernel_size=(1, 1), stride=(1, 1))</td>\n",
       "                        <td id=\"T_318b65a0_f4c1_11e9_84d2_008cfafbf396row2_col74\" class=\"data row2 col74\" >TorchAdd()</td>\n",
       "                        <td id=\"T_318b65a0_f4c1_11e9_84d2_008cfafbf396row2_col75\" class=\"data row2 col75\" >GlobalAvgPool2d()</td>\n",
       "                        <td id=\"T_318b65a0_f4c1_11e9_84d2_008cfafbf396row2_col76\" class=\"data row2 col76\" >Linear(in_features=512, out_features=10, bias=True)</td>\n",
       "                        <td id=\"T_318b65a0_f4c1_11e9_84d2_008cfafbf396row2_col77\" class=\"data row2 col77\" >nan</td>\n",
       "            </tr>\n",
       "            <tr>\n",
       "                                <td id=\"T_318b65a0_f4c1_11e9_84d2_008cfafbf396row3_col0\" class=\"data row3 col0\" >36</td>\n",
       "                        <td id=\"T_318b65a0_f4c1_11e9_84d2_008cfafbf396row3_col1\" class=\"data row3 col1\" >Conv2d(1, 64, kernel_size=(3, 3), stride=(1, 1), padding=(1, 1))</td>\n",
       "                        <td id=\"T_318b65a0_f4c1_11e9_84d2_008cfafbf396row3_col2\" class=\"data row3 col2\" >BatchNorm2d(64, eps=1e-05, momentum=0.1, affine=True, track_running_stats=True)</td>\n",
       "                        <td id=\"T_318b65a0_f4c1_11e9_84d2_008cfafbf396row3_col3\" class=\"data row3 col3\" >BatchNorm2d(64, eps=1e-05, momentum=0.1, affine=True, track_running_stats=True)</td>\n",
       "                        <td id=\"T_318b65a0_f4c1_11e9_84d2_008cfafbf396row3_col4\" class=\"data row3 col4\" >ReLU()</td>\n",
       "                        <td id=\"T_318b65a0_f4c1_11e9_84d2_008cfafbf396row3_col5\" class=\"data row3 col5\" >Conv2d(64, 64, kernel_size=(3, 3), stride=(1, 1), padding=(1, 1))</td>\n",
       "                        <td id=\"T_318b65a0_f4c1_11e9_84d2_008cfafbf396row3_col6\" class=\"data row3 col6\" >BatchNorm2d(64, eps=1e-05, momentum=0.1, affine=True, track_running_stats=True)</td>\n",
       "                        <td id=\"T_318b65a0_f4c1_11e9_84d2_008cfafbf396row3_col7\" class=\"data row3 col7\" >ReLU()</td>\n",
       "                        <td id=\"T_318b65a0_f4c1_11e9_84d2_008cfafbf396row3_col8\" class=\"data row3 col8\" >Conv2d(64, 64, kernel_size=(3, 3), stride=(1, 1), padding=(1, 1))</td>\n",
       "                        <td id=\"T_318b65a0_f4c1_11e9_84d2_008cfafbf396row3_col9\" class=\"data row3 col9\" >ReLU()</td>\n",
       "                        <td id=\"T_318b65a0_f4c1_11e9_84d2_008cfafbf396row3_col10\" class=\"data row3 col10\" >Conv2d(64, 64, kernel_size=(1, 1), stride=(1, 1))</td>\n",
       "                        <td id=\"T_318b65a0_f4c1_11e9_84d2_008cfafbf396row3_col11\" class=\"data row3 col11\" >TorchAdd()</td>\n",
       "                        <td id=\"T_318b65a0_f4c1_11e9_84d2_008cfafbf396row3_col12\" class=\"data row3 col12\" >BatchNorm2d(64, eps=1e-05, momentum=0.1, affine=True, track_running_stats=True)</td>\n",
       "                        <td id=\"T_318b65a0_f4c1_11e9_84d2_008cfafbf396row3_col13\" class=\"data row3 col13\" >ReLU()</td>\n",
       "                        <td id=\"T_318b65a0_f4c1_11e9_84d2_008cfafbf396row3_col14\" class=\"data row3 col14\" >Conv2d(64, 64, kernel_size=(3, 3), stride=(1, 1), padding=(1, 1))</td>\n",
       "                        <td id=\"T_318b65a0_f4c1_11e9_84d2_008cfafbf396row3_col15\" class=\"data row3 col15\" >BatchNorm2d(64, eps=1e-05, momentum=0.1, affine=True, track_running_stats=True)</td>\n",
       "                        <td id=\"T_318b65a0_f4c1_11e9_84d2_008cfafbf396row3_col16\" class=\"data row3 col16\" >ReLU()</td>\n",
       "                        <td id=\"T_318b65a0_f4c1_11e9_84d2_008cfafbf396row3_col17\" class=\"data row3 col17\" >Conv2d(64, 64, kernel_size=(3, 3), stride=(1, 1), padding=(1, 1))</td>\n",
       "                        <td id=\"T_318b65a0_f4c1_11e9_84d2_008cfafbf396row3_col18\" class=\"data row3 col18\" >ReLU()</td>\n",
       "                        <td id=\"T_318b65a0_f4c1_11e9_84d2_008cfafbf396row3_col19\" class=\"data row3 col19\" >Conv2d(64, 64, kernel_size=(1, 1), stride=(1, 1))</td>\n",
       "                        <td id=\"T_318b65a0_f4c1_11e9_84d2_008cfafbf396row3_col20\" class=\"data row3 col20\" >TorchAdd()</td>\n",
       "                        <td id=\"T_318b65a0_f4c1_11e9_84d2_008cfafbf396row3_col21\" class=\"data row3 col21\" >BatchNorm2d(64, eps=1e-05, momentum=0.1, affine=True, track_running_stats=True)</td>\n",
       "                        <td id=\"T_318b65a0_f4c1_11e9_84d2_008cfafbf396row3_col22\" class=\"data row3 col22\" >ReLU()</td>\n",
       "                        <td id=\"T_318b65a0_f4c1_11e9_84d2_008cfafbf396row3_col23\" class=\"data row3 col23\" >Conv2d(64, 128, kernel_size=(3, 3), stride=(2, 2), padding=(1, 1))</td>\n",
       "                        <td id=\"T_318b65a0_f4c1_11e9_84d2_008cfafbf396row3_col24\" class=\"data row3 col24\" >BatchNorm2d(128, eps=1e-05, momentum=0.1, affine=True, track_running_stats=True)</td>\n",
       "                        <td id=\"T_318b65a0_f4c1_11e9_84d2_008cfafbf396row3_col25\" class=\"data row3 col25\" >ReLU()</td>\n",
       "                        <td id=\"T_318b65a0_f4c1_11e9_84d2_008cfafbf396row3_col26\" class=\"data row3 col26\" >Conv2d(128, 128, kernel_size=(3, 3), stride=(1, 1), padding=(1, 1))</td>\n",
       "                        <td id=\"T_318b65a0_f4c1_11e9_84d2_008cfafbf396row3_col27\" class=\"data row3 col27\" >ReLU()</td>\n",
       "                        <td id=\"T_318b65a0_f4c1_11e9_84d2_008cfafbf396row3_col28\" class=\"data row3 col28\" >Conv2d(64, 128, kernel_size=(1, 1), stride=(2, 2))</td>\n",
       "                        <td id=\"T_318b65a0_f4c1_11e9_84d2_008cfafbf396row3_col29\" class=\"data row3 col29\" >TorchAdd()</td>\n",
       "                        <td id=\"T_318b65a0_f4c1_11e9_84d2_008cfafbf396row3_col30\" class=\"data row3 col30\" >BatchNorm2d(128, eps=1e-05, momentum=0.1, affine=True, track_running_stats=True)</td>\n",
       "                        <td id=\"T_318b65a0_f4c1_11e9_84d2_008cfafbf396row3_col31\" class=\"data row3 col31\" >ReLU()</td>\n",
       "                        <td id=\"T_318b65a0_f4c1_11e9_84d2_008cfafbf396row3_col32\" class=\"data row3 col32\" >Conv2d(128, 128, kernel_size=(3, 3), stride=(1, 1), padding=(1, 1))</td>\n",
       "                        <td id=\"T_318b65a0_f4c1_11e9_84d2_008cfafbf396row3_col33\" class=\"data row3 col33\" >BatchNorm2d(128, eps=1e-05, momentum=0.1, affine=True, track_running_stats=True)</td>\n",
       "                        <td id=\"T_318b65a0_f4c1_11e9_84d2_008cfafbf396row3_col34\" class=\"data row3 col34\" >ReLU()</td>\n",
       "                        <td id=\"T_318b65a0_f4c1_11e9_84d2_008cfafbf396row3_col35\" class=\"data row3 col35\" >Conv2d(128, 128, kernel_size=(3, 3), stride=(1, 1), padding=(1, 1))</td>\n",
       "                        <td id=\"T_318b65a0_f4c1_11e9_84d2_008cfafbf396row3_col36\" class=\"data row3 col36\" >ReLU()</td>\n",
       "                        <td id=\"T_318b65a0_f4c1_11e9_84d2_008cfafbf396row3_col37\" class=\"data row3 col37\" >Conv2d(128, 128, kernel_size=(1, 1), stride=(1, 1))</td>\n",
       "                        <td id=\"T_318b65a0_f4c1_11e9_84d2_008cfafbf396row3_col38\" class=\"data row3 col38\" >TorchAdd()</td>\n",
       "                        <td id=\"T_318b65a0_f4c1_11e9_84d2_008cfafbf396row3_col39\" class=\"data row3 col39\" >BatchNorm2d(128, eps=1e-05, momentum=0.1, affine=True, track_running_stats=True)</td>\n",
       "                        <td id=\"T_318b65a0_f4c1_11e9_84d2_008cfafbf396row3_col40\" class=\"data row3 col40\" >ReLU()</td>\n",
       "                        <td id=\"T_318b65a0_f4c1_11e9_84d2_008cfafbf396row3_col41\" class=\"data row3 col41\" >Conv2d(128, 256, kernel_size=(3, 3), stride=(2, 2), padding=(1, 1))</td>\n",
       "                        <td id=\"T_318b65a0_f4c1_11e9_84d2_008cfafbf396row3_col42\" class=\"data row3 col42\" >BatchNorm2d(256, eps=1e-05, momentum=0.1, affine=True, track_running_stats=True)</td>\n",
       "                        <td id=\"T_318b65a0_f4c1_11e9_84d2_008cfafbf396row3_col43\" class=\"data row3 col43\" >ReLU()</td>\n",
       "                        <td id=\"T_318b65a0_f4c1_11e9_84d2_008cfafbf396row3_col44\" class=\"data row3 col44\" >Conv2d(256, 256, kernel_size=(3, 3), stride=(1, 1), padding=(1, 1))</td>\n",
       "                        <td id=\"T_318b65a0_f4c1_11e9_84d2_008cfafbf396row3_col45\" class=\"data row3 col45\" >ReLU()</td>\n",
       "                        <td id=\"T_318b65a0_f4c1_11e9_84d2_008cfafbf396row3_col46\" class=\"data row3 col46\" >Conv2d(128, 256, kernel_size=(1, 1), stride=(2, 2))</td>\n",
       "                        <td id=\"T_318b65a0_f4c1_11e9_84d2_008cfafbf396row3_col47\" class=\"data row3 col47\" >TorchAdd()</td>\n",
       "                        <td id=\"T_318b65a0_f4c1_11e9_84d2_008cfafbf396row3_col48\" class=\"data row3 col48\" >BatchNorm2d(256, eps=1e-05, momentum=0.1, affine=True, track_running_stats=True)</td>\n",
       "                        <td id=\"T_318b65a0_f4c1_11e9_84d2_008cfafbf396row3_col49\" class=\"data row3 col49\" >ReLU()</td>\n",
       "                        <td id=\"T_318b65a0_f4c1_11e9_84d2_008cfafbf396row3_col50\" class=\"data row3 col50\" >Conv2d(256, 256, kernel_size=(3, 3), stride=(1, 1), padding=(1, 1))</td>\n",
       "                        <td id=\"T_318b65a0_f4c1_11e9_84d2_008cfafbf396row3_col51\" class=\"data row3 col51\" >BatchNorm2d(256, eps=1e-05, momentum=0.1, affine=True, track_running_stats=True)</td>\n",
       "                        <td id=\"T_318b65a0_f4c1_11e9_84d2_008cfafbf396row3_col52\" class=\"data row3 col52\" >ReLU()</td>\n",
       "                        <td id=\"T_318b65a0_f4c1_11e9_84d2_008cfafbf396row3_col53\" class=\"data row3 col53\" >Conv2d(256, 256, kernel_size=(3, 3), stride=(1, 1), padding=(1, 1))</td>\n",
       "                        <td id=\"T_318b65a0_f4c1_11e9_84d2_008cfafbf396row3_col54\" class=\"data row3 col54\" >ReLU()</td>\n",
       "                        <td id=\"T_318b65a0_f4c1_11e9_84d2_008cfafbf396row3_col55\" class=\"data row3 col55\" >Conv2d(256, 256, kernel_size=(1, 1), stride=(1, 1))</td>\n",
       "                        <td id=\"T_318b65a0_f4c1_11e9_84d2_008cfafbf396row3_col56\" class=\"data row3 col56\" >TorchAdd()</td>\n",
       "                        <td id=\"T_318b65a0_f4c1_11e9_84d2_008cfafbf396row3_col57\" class=\"data row3 col57\" >BatchNorm2d(256, eps=1e-05, momentum=0.1, affine=True, track_running_stats=True)</td>\n",
       "                        <td id=\"T_318b65a0_f4c1_11e9_84d2_008cfafbf396row3_col58\" class=\"data row3 col58\" >ReLU()</td>\n",
       "                        <td id=\"T_318b65a0_f4c1_11e9_84d2_008cfafbf396row3_col59\" class=\"data row3 col59\" >Conv2d(256, 512, kernel_size=(3, 3), stride=(2, 2), padding=(1, 1))</td>\n",
       "                        <td id=\"T_318b65a0_f4c1_11e9_84d2_008cfafbf396row3_col60\" class=\"data row3 col60\" >BatchNorm2d(512, eps=1e-05, momentum=0.1, affine=True, track_running_stats=True)</td>\n",
       "                        <td id=\"T_318b65a0_f4c1_11e9_84d2_008cfafbf396row3_col61\" class=\"data row3 col61\" >ReLU()</td>\n",
       "                        <td id=\"T_318b65a0_f4c1_11e9_84d2_008cfafbf396row3_col62\" class=\"data row3 col62\" >Conv2d(512, 512, kernel_size=(3, 3), stride=(1, 1), padding=(1, 1))</td>\n",
       "                        <td id=\"T_318b65a0_f4c1_11e9_84d2_008cfafbf396row3_col63\" class=\"data row3 col63\" >ReLU()</td>\n",
       "                        <td id=\"T_318b65a0_f4c1_11e9_84d2_008cfafbf396row3_col64\" class=\"data row3 col64\" >Conv2d(256, 512, kernel_size=(1, 1), stride=(2, 2))</td>\n",
       "                        <td id=\"T_318b65a0_f4c1_11e9_84d2_008cfafbf396row3_col65\" class=\"data row3 col65\" >TorchAdd()</td>\n",
       "                        <td id=\"T_318b65a0_f4c1_11e9_84d2_008cfafbf396row3_col66\" class=\"data row3 col66\" >BatchNorm2d(512, eps=1e-05, momentum=0.1, affine=True, track_running_stats=True)</td>\n",
       "                        <td id=\"T_318b65a0_f4c1_11e9_84d2_008cfafbf396row3_col67\" class=\"data row3 col67\" >ReLU()</td>\n",
       "                        <td id=\"T_318b65a0_f4c1_11e9_84d2_008cfafbf396row3_col68\" class=\"data row3 col68\" >Conv2d(512, 512, kernel_size=(3, 3), stride=(1, 1), padding=(1, 1))</td>\n",
       "                        <td id=\"T_318b65a0_f4c1_11e9_84d2_008cfafbf396row3_col69\" class=\"data row3 col69\" >BatchNorm2d(512, eps=1e-05, momentum=0.1, affine=True, track_running_stats=True)</td>\n",
       "                        <td id=\"T_318b65a0_f4c1_11e9_84d2_008cfafbf396row3_col70\" class=\"data row3 col70\" >ReLU()</td>\n",
       "                        <td id=\"T_318b65a0_f4c1_11e9_84d2_008cfafbf396row3_col71\" class=\"data row3 col71\" >Conv2d(512, 512, kernel_size=(3, 3), stride=(1, 1), padding=(1, 1))</td>\n",
       "                        <td id=\"T_318b65a0_f4c1_11e9_84d2_008cfafbf396row3_col72\" class=\"data row3 col72\" >ReLU()</td>\n",
       "                        <td id=\"T_318b65a0_f4c1_11e9_84d2_008cfafbf396row3_col73\" class=\"data row3 col73\" >Conv2d(512, 512, kernel_size=(1, 1), stride=(1, 1))</td>\n",
       "                        <td id=\"T_318b65a0_f4c1_11e9_84d2_008cfafbf396row3_col74\" class=\"data row3 col74\" >TorchAdd()</td>\n",
       "                        <td id=\"T_318b65a0_f4c1_11e9_84d2_008cfafbf396row3_col75\" class=\"data row3 col75\" >GlobalAvgPool2d()</td>\n",
       "                        <td id=\"T_318b65a0_f4c1_11e9_84d2_008cfafbf396row3_col76\" class=\"data row3 col76\" >Linear(in_features=512, out_features=10, bias=True)</td>\n",
       "                        <td id=\"T_318b65a0_f4c1_11e9_84d2_008cfafbf396row3_col77\" class=\"data row3 col77\" >nan</td>\n",
       "            </tr>\n",
       "            <tr>\n",
       "                                <td id=\"T_318b65a0_f4c1_11e9_84d2_008cfafbf396row4_col0\" class=\"data row4 col0\" >48</td>\n",
       "                        <td id=\"T_318b65a0_f4c1_11e9_84d2_008cfafbf396row4_col1\" class=\"data row4 col1\" >Conv2d(1, 64, kernel_size=(3, 3), stride=(1, 1), padding=(1, 1))</td>\n",
       "                        <td id=\"T_318b65a0_f4c1_11e9_84d2_008cfafbf396row4_col2\" class=\"data row4 col2\" >BatchNorm2d(64, eps=1e-05, momentum=0.1, affine=True, track_running_stats=True)</td>\n",
       "                        <td id=\"T_318b65a0_f4c1_11e9_84d2_008cfafbf396row4_col3\" class=\"data row4 col3\" >BatchNorm2d(64, eps=1e-05, momentum=0.1, affine=True, track_running_stats=True)</td>\n",
       "                        <td id=\"T_318b65a0_f4c1_11e9_84d2_008cfafbf396row4_col4\" class=\"data row4 col4\" >ReLU()</td>\n",
       "                        <td id=\"T_318b65a0_f4c1_11e9_84d2_008cfafbf396row4_col5\" class=\"data row4 col5\" >Conv2d(64, 64, kernel_size=(3, 3), stride=(1, 1), padding=(1, 1))</td>\n",
       "                        <td id=\"T_318b65a0_f4c1_11e9_84d2_008cfafbf396row4_col6\" class=\"data row4 col6\" >BatchNorm2d(64, eps=1e-05, momentum=0.1, affine=True, track_running_stats=True)</td>\n",
       "                        <td id=\"T_318b65a0_f4c1_11e9_84d2_008cfafbf396row4_col7\" class=\"data row4 col7\" >ReLU()</td>\n",
       "                        <td id=\"T_318b65a0_f4c1_11e9_84d2_008cfafbf396row4_col8\" class=\"data row4 col8\" >Conv2d(64, 64, kernel_size=(3, 3), stride=(1, 1), padding=(1, 1))</td>\n",
       "                        <td id=\"T_318b65a0_f4c1_11e9_84d2_008cfafbf396row4_col9\" class=\"data row4 col9\" >ReLU()</td>\n",
       "                        <td id=\"T_318b65a0_f4c1_11e9_84d2_008cfafbf396row4_col10\" class=\"data row4 col10\" >Conv2d(64, 64, kernel_size=(1, 1), stride=(1, 1))</td>\n",
       "                        <td id=\"T_318b65a0_f4c1_11e9_84d2_008cfafbf396row4_col11\" class=\"data row4 col11\" >TorchAdd()</td>\n",
       "                        <td id=\"T_318b65a0_f4c1_11e9_84d2_008cfafbf396row4_col12\" class=\"data row4 col12\" >BatchNorm2d(64, eps=1e-05, momentum=0.1, affine=True, track_running_stats=True)</td>\n",
       "                        <td id=\"T_318b65a0_f4c1_11e9_84d2_008cfafbf396row4_col13\" class=\"data row4 col13\" >ReLU()</td>\n",
       "                        <td id=\"T_318b65a0_f4c1_11e9_84d2_008cfafbf396row4_col14\" class=\"data row4 col14\" >Conv2d(64, 64, kernel_size=(3, 3), stride=(1, 1), padding=(1, 1))</td>\n",
       "                        <td id=\"T_318b65a0_f4c1_11e9_84d2_008cfafbf396row4_col15\" class=\"data row4 col15\" >BatchNorm2d(64, eps=1e-05, momentum=0.1, affine=True, track_running_stats=True)</td>\n",
       "                        <td id=\"T_318b65a0_f4c1_11e9_84d2_008cfafbf396row4_col16\" class=\"data row4 col16\" >ReLU()</td>\n",
       "                        <td id=\"T_318b65a0_f4c1_11e9_84d2_008cfafbf396row4_col17\" class=\"data row4 col17\" >Conv2d(64, 64, kernel_size=(3, 3), stride=(1, 1), padding=(1, 1))</td>\n",
       "                        <td id=\"T_318b65a0_f4c1_11e9_84d2_008cfafbf396row4_col18\" class=\"data row4 col18\" >ReLU()</td>\n",
       "                        <td id=\"T_318b65a0_f4c1_11e9_84d2_008cfafbf396row4_col19\" class=\"data row4 col19\" >Conv2d(64, 64, kernel_size=(1, 1), stride=(1, 1))</td>\n",
       "                        <td id=\"T_318b65a0_f4c1_11e9_84d2_008cfafbf396row4_col20\" class=\"data row4 col20\" >TorchAdd()</td>\n",
       "                        <td id=\"T_318b65a0_f4c1_11e9_84d2_008cfafbf396row4_col21\" class=\"data row4 col21\" >BatchNorm2d(64, eps=1e-05, momentum=0.1, affine=True, track_running_stats=True)</td>\n",
       "                        <td id=\"T_318b65a0_f4c1_11e9_84d2_008cfafbf396row4_col22\" class=\"data row4 col22\" >ReLU()</td>\n",
       "                        <td id=\"T_318b65a0_f4c1_11e9_84d2_008cfafbf396row4_col23\" class=\"data row4 col23\" >Conv2d(64, 128, kernel_size=(3, 3), stride=(2, 2), padding=(1, 1))</td>\n",
       "                        <td id=\"T_318b65a0_f4c1_11e9_84d2_008cfafbf396row4_col24\" class=\"data row4 col24\" >BatchNorm2d(128, eps=1e-05, momentum=0.1, affine=True, track_running_stats=True)</td>\n",
       "                        <td id=\"T_318b65a0_f4c1_11e9_84d2_008cfafbf396row4_col25\" class=\"data row4 col25\" >ReLU()</td>\n",
       "                        <td id=\"T_318b65a0_f4c1_11e9_84d2_008cfafbf396row4_col26\" class=\"data row4 col26\" >Conv2d(128, 128, kernel_size=(3, 3), stride=(1, 1), padding=(1, 1))</td>\n",
       "                        <td id=\"T_318b65a0_f4c1_11e9_84d2_008cfafbf396row4_col27\" class=\"data row4 col27\" >ReLU()</td>\n",
       "                        <td id=\"T_318b65a0_f4c1_11e9_84d2_008cfafbf396row4_col28\" class=\"data row4 col28\" >Conv2d(64, 128, kernel_size=(1, 1), stride=(2, 2))</td>\n",
       "                        <td id=\"T_318b65a0_f4c1_11e9_84d2_008cfafbf396row4_col29\" class=\"data row4 col29\" >TorchAdd()</td>\n",
       "                        <td id=\"T_318b65a0_f4c1_11e9_84d2_008cfafbf396row4_col30\" class=\"data row4 col30\" >BatchNorm2d(128, eps=1e-05, momentum=0.1, affine=True, track_running_stats=True)</td>\n",
       "                        <td id=\"T_318b65a0_f4c1_11e9_84d2_008cfafbf396row4_col31\" class=\"data row4 col31\" >ReLU()</td>\n",
       "                        <td id=\"T_318b65a0_f4c1_11e9_84d2_008cfafbf396row4_col32\" class=\"data row4 col32\" >Conv2d(128, 128, kernel_size=(3, 3), stride=(1, 1), padding=(1, 1))</td>\n",
       "                        <td id=\"T_318b65a0_f4c1_11e9_84d2_008cfafbf396row4_col33\" class=\"data row4 col33\" >BatchNorm2d(128, eps=1e-05, momentum=0.1, affine=True, track_running_stats=True)</td>\n",
       "                        <td id=\"T_318b65a0_f4c1_11e9_84d2_008cfafbf396row4_col34\" class=\"data row4 col34\" >ReLU()</td>\n",
       "                        <td id=\"T_318b65a0_f4c1_11e9_84d2_008cfafbf396row4_col35\" class=\"data row4 col35\" >Conv2d(128, 128, kernel_size=(3, 3), stride=(1, 1), padding=(1, 1))</td>\n",
       "                        <td id=\"T_318b65a0_f4c1_11e9_84d2_008cfafbf396row4_col36\" class=\"data row4 col36\" >ReLU()</td>\n",
       "                        <td id=\"T_318b65a0_f4c1_11e9_84d2_008cfafbf396row4_col37\" class=\"data row4 col37\" >Conv2d(128, 128, kernel_size=(1, 1), stride=(1, 1))</td>\n",
       "                        <td id=\"T_318b65a0_f4c1_11e9_84d2_008cfafbf396row4_col38\" class=\"data row4 col38\" >TorchAdd()</td>\n",
       "                        <td id=\"T_318b65a0_f4c1_11e9_84d2_008cfafbf396row4_col39\" class=\"data row4 col39\" >BatchNorm2d(128, eps=1e-05, momentum=0.1, affine=True, track_running_stats=True)</td>\n",
       "                        <td id=\"T_318b65a0_f4c1_11e9_84d2_008cfafbf396row4_col40\" class=\"data row4 col40\" >ReLU()</td>\n",
       "                        <td id=\"T_318b65a0_f4c1_11e9_84d2_008cfafbf396row4_col41\" class=\"data row4 col41\" >Conv2d(128, 256, kernel_size=(3, 3), stride=(2, 2), padding=(1, 1))</td>\n",
       "                        <td id=\"T_318b65a0_f4c1_11e9_84d2_008cfafbf396row4_col42\" class=\"data row4 col42\" >BatchNorm2d(256, eps=1e-05, momentum=0.1, affine=True, track_running_stats=True)</td>\n",
       "                        <td id=\"T_318b65a0_f4c1_11e9_84d2_008cfafbf396row4_col43\" class=\"data row4 col43\" >ReLU()</td>\n",
       "                        <td id=\"T_318b65a0_f4c1_11e9_84d2_008cfafbf396row4_col44\" class=\"data row4 col44\" >Conv2d(256, 256, kernel_size=(3, 3), stride=(1, 1), padding=(1, 1))</td>\n",
       "                        <td id=\"T_318b65a0_f4c1_11e9_84d2_008cfafbf396row4_col45\" class=\"data row4 col45\" >ReLU()</td>\n",
       "                        <td id=\"T_318b65a0_f4c1_11e9_84d2_008cfafbf396row4_col46\" class=\"data row4 col46\" >Conv2d(128, 256, kernel_size=(1, 1), stride=(2, 2))</td>\n",
       "                        <td id=\"T_318b65a0_f4c1_11e9_84d2_008cfafbf396row4_col47\" class=\"data row4 col47\" >TorchAdd()</td>\n",
       "                        <td id=\"T_318b65a0_f4c1_11e9_84d2_008cfafbf396row4_col48\" class=\"data row4 col48\" >BatchNorm2d(256, eps=1e-05, momentum=0.1, affine=True, track_running_stats=True)</td>\n",
       "                        <td id=\"T_318b65a0_f4c1_11e9_84d2_008cfafbf396row4_col49\" class=\"data row4 col49\" >ReLU()</td>\n",
       "                        <td id=\"T_318b65a0_f4c1_11e9_84d2_008cfafbf396row4_col50\" class=\"data row4 col50\" >Conv2d(256, 256, kernel_size=(3, 3), stride=(1, 1), padding=(1, 1))</td>\n",
       "                        <td id=\"T_318b65a0_f4c1_11e9_84d2_008cfafbf396row4_col51\" class=\"data row4 col51\" >BatchNorm2d(256, eps=1e-05, momentum=0.1, affine=True, track_running_stats=True)</td>\n",
       "                        <td id=\"T_318b65a0_f4c1_11e9_84d2_008cfafbf396row4_col52\" class=\"data row4 col52\" >ReLU()</td>\n",
       "                        <td id=\"T_318b65a0_f4c1_11e9_84d2_008cfafbf396row4_col53\" class=\"data row4 col53\" >Conv2d(256, 256, kernel_size=(3, 3), stride=(1, 1), padding=(1, 1))</td>\n",
       "                        <td id=\"T_318b65a0_f4c1_11e9_84d2_008cfafbf396row4_col54\" class=\"data row4 col54\" >ReLU()</td>\n",
       "                        <td id=\"T_318b65a0_f4c1_11e9_84d2_008cfafbf396row4_col55\" class=\"data row4 col55\" >Conv2d(256, 256, kernel_size=(1, 1), stride=(1, 1))</td>\n",
       "                        <td id=\"T_318b65a0_f4c1_11e9_84d2_008cfafbf396row4_col56\" class=\"data row4 col56\" >TorchAdd()</td>\n",
       "                        <td id=\"T_318b65a0_f4c1_11e9_84d2_008cfafbf396row4_col57\" class=\"data row4 col57\" >BatchNorm2d(256, eps=1e-05, momentum=0.1, affine=True, track_running_stats=True)</td>\n",
       "                        <td id=\"T_318b65a0_f4c1_11e9_84d2_008cfafbf396row4_col58\" class=\"data row4 col58\" >ReLU()</td>\n",
       "                        <td id=\"T_318b65a0_f4c1_11e9_84d2_008cfafbf396row4_col59\" class=\"data row4 col59\" >Conv2d(256, 512, kernel_size=(3, 3), stride=(2, 2), padding=(1, 1))</td>\n",
       "                        <td id=\"T_318b65a0_f4c1_11e9_84d2_008cfafbf396row4_col60\" class=\"data row4 col60\" >BatchNorm2d(512, eps=1e-05, momentum=0.1, affine=True, track_running_stats=True)</td>\n",
       "                        <td id=\"T_318b65a0_f4c1_11e9_84d2_008cfafbf396row4_col61\" class=\"data row4 col61\" >ReLU()</td>\n",
       "                        <td id=\"T_318b65a0_f4c1_11e9_84d2_008cfafbf396row4_col62\" class=\"data row4 col62\" >Conv2d(512, 512, kernel_size=(3, 3), stride=(1, 1), padding=(1, 1))</td>\n",
       "                        <td id=\"T_318b65a0_f4c1_11e9_84d2_008cfafbf396row4_col63\" class=\"data row4 col63\" >ReLU()</td>\n",
       "                        <td id=\"T_318b65a0_f4c1_11e9_84d2_008cfafbf396row4_col64\" class=\"data row4 col64\" >Conv2d(256, 512, kernel_size=(1, 1), stride=(2, 2))</td>\n",
       "                        <td id=\"T_318b65a0_f4c1_11e9_84d2_008cfafbf396row4_col65\" class=\"data row4 col65\" >TorchAdd()</td>\n",
       "                        <td id=\"T_318b65a0_f4c1_11e9_84d2_008cfafbf396row4_col66\" class=\"data row4 col66\" >BatchNorm2d(512, eps=1e-05, momentum=0.1, affine=True, track_running_stats=True)</td>\n",
       "                        <td id=\"T_318b65a0_f4c1_11e9_84d2_008cfafbf396row4_col67\" class=\"data row4 col67\" >ReLU()</td>\n",
       "                        <td id=\"T_318b65a0_f4c1_11e9_84d2_008cfafbf396row4_col68\" class=\"data row4 col68\" >Conv2d(512, 512, kernel_size=(3, 3), stride=(1, 1), padding=(1, 1))</td>\n",
       "                        <td id=\"T_318b65a0_f4c1_11e9_84d2_008cfafbf396row4_col69\" class=\"data row4 col69\" >BatchNorm2d(512, eps=1e-05, momentum=0.1, affine=True, track_running_stats=True)</td>\n",
       "                        <td id=\"T_318b65a0_f4c1_11e9_84d2_008cfafbf396row4_col70\" class=\"data row4 col70\" >ReLU()</td>\n",
       "                        <td id=\"T_318b65a0_f4c1_11e9_84d2_008cfafbf396row4_col71\" class=\"data row4 col71\" >Conv2d(512, 512, kernel_size=(3, 3), stride=(1, 1), padding=(1, 1))</td>\n",
       "                        <td id=\"T_318b65a0_f4c1_11e9_84d2_008cfafbf396row4_col72\" class=\"data row4 col72\" >ReLU()</td>\n",
       "                        <td id=\"T_318b65a0_f4c1_11e9_84d2_008cfafbf396row4_col73\" class=\"data row4 col73\" >Conv2d(512, 512, kernel_size=(1, 1), stride=(1, 1))</td>\n",
       "                        <td id=\"T_318b65a0_f4c1_11e9_84d2_008cfafbf396row4_col74\" class=\"data row4 col74\" >TorchAdd()</td>\n",
       "                        <td id=\"T_318b65a0_f4c1_11e9_84d2_008cfafbf396row4_col75\" class=\"data row4 col75\" >GlobalAvgPool2d()</td>\n",
       "                        <td id=\"T_318b65a0_f4c1_11e9_84d2_008cfafbf396row4_col76\" class=\"data row4 col76\" >Linear(in_features=512, out_features=10, bias=True)</td>\n",
       "                        <td id=\"T_318b65a0_f4c1_11e9_84d2_008cfafbf396row4_col77\" class=\"data row4 col77\" >nan</td>\n",
       "            </tr>\n",
       "            <tr>\n",
       "                                <td id=\"T_318b65a0_f4c1_11e9_84d2_008cfafbf396row5_col0\" class=\"data row5 col0\" >60</td>\n",
       "                        <td id=\"T_318b65a0_f4c1_11e9_84d2_008cfafbf396row5_col1\" class=\"data row5 col1\" >Conv2d(1, 64, kernel_size=(3, 3), stride=(1, 1), padding=(1, 1))</td>\n",
       "                        <td id=\"T_318b65a0_f4c1_11e9_84d2_008cfafbf396row5_col2\" class=\"data row5 col2\" >BatchNorm2d(64, eps=1e-05, momentum=0.1, affine=True, track_running_stats=True)</td>\n",
       "                        <td id=\"T_318b65a0_f4c1_11e9_84d2_008cfafbf396row5_col3\" class=\"data row5 col3\" >BatchNorm2d(64, eps=1e-05, momentum=0.1, affine=True, track_running_stats=True)</td>\n",
       "                        <td id=\"T_318b65a0_f4c1_11e9_84d2_008cfafbf396row5_col4\" class=\"data row5 col4\" >ReLU()</td>\n",
       "                        <td id=\"T_318b65a0_f4c1_11e9_84d2_008cfafbf396row5_col5\" class=\"data row5 col5\" >Conv2d(64, 64, kernel_size=(3, 3), stride=(1, 1), padding=(1, 1))</td>\n",
       "                        <td id=\"T_318b65a0_f4c1_11e9_84d2_008cfafbf396row5_col6\" class=\"data row5 col6\" >BatchNorm2d(64, eps=1e-05, momentum=0.1, affine=True, track_running_stats=True)</td>\n",
       "                        <td id=\"T_318b65a0_f4c1_11e9_84d2_008cfafbf396row5_col7\" class=\"data row5 col7\" >ReLU()</td>\n",
       "                        <td id=\"T_318b65a0_f4c1_11e9_84d2_008cfafbf396row5_col8\" class=\"data row5 col8\" >Conv2d(64, 64, kernel_size=(3, 3), stride=(1, 1), padding=(1, 1))</td>\n",
       "                        <td id=\"T_318b65a0_f4c1_11e9_84d2_008cfafbf396row5_col9\" class=\"data row5 col9\" >ReLU()</td>\n",
       "                        <td id=\"T_318b65a0_f4c1_11e9_84d2_008cfafbf396row5_col10\" class=\"data row5 col10\" >Conv2d(64, 64, kernel_size=(1, 1), stride=(1, 1))</td>\n",
       "                        <td id=\"T_318b65a0_f4c1_11e9_84d2_008cfafbf396row5_col11\" class=\"data row5 col11\" >TorchAdd()</td>\n",
       "                        <td id=\"T_318b65a0_f4c1_11e9_84d2_008cfafbf396row5_col12\" class=\"data row5 col12\" >BatchNorm2d(64, eps=1e-05, momentum=0.1, affine=True, track_running_stats=True)</td>\n",
       "                        <td id=\"T_318b65a0_f4c1_11e9_84d2_008cfafbf396row5_col13\" class=\"data row5 col13\" >ReLU()</td>\n",
       "                        <td id=\"T_318b65a0_f4c1_11e9_84d2_008cfafbf396row5_col14\" class=\"data row5 col14\" >Conv2d(64, 64, kernel_size=(3, 3), stride=(1, 1), padding=(1, 1))</td>\n",
       "                        <td id=\"T_318b65a0_f4c1_11e9_84d2_008cfafbf396row5_col15\" class=\"data row5 col15\" >BatchNorm2d(64, eps=1e-05, momentum=0.1, affine=True, track_running_stats=True)</td>\n",
       "                        <td id=\"T_318b65a0_f4c1_11e9_84d2_008cfafbf396row5_col16\" class=\"data row5 col16\" >ReLU()</td>\n",
       "                        <td id=\"T_318b65a0_f4c1_11e9_84d2_008cfafbf396row5_col17\" class=\"data row5 col17\" >Conv2d(64, 64, kernel_size=(3, 3), stride=(1, 1), padding=(1, 1))</td>\n",
       "                        <td id=\"T_318b65a0_f4c1_11e9_84d2_008cfafbf396row5_col18\" class=\"data row5 col18\" >ReLU()</td>\n",
       "                        <td id=\"T_318b65a0_f4c1_11e9_84d2_008cfafbf396row5_col19\" class=\"data row5 col19\" >Conv2d(64, 64, kernel_size=(1, 1), stride=(1, 1))</td>\n",
       "                        <td id=\"T_318b65a0_f4c1_11e9_84d2_008cfafbf396row5_col20\" class=\"data row5 col20\" >TorchAdd()</td>\n",
       "                        <td id=\"T_318b65a0_f4c1_11e9_84d2_008cfafbf396row5_col21\" class=\"data row5 col21\" >BatchNorm2d(64, eps=1e-05, momentum=0.1, affine=True, track_running_stats=True)</td>\n",
       "                        <td id=\"T_318b65a0_f4c1_11e9_84d2_008cfafbf396row5_col22\" class=\"data row5 col22\" >ReLU()</td>\n",
       "                        <td id=\"T_318b65a0_f4c1_11e9_84d2_008cfafbf396row5_col23\" class=\"data row5 col23\" >Conv2d(64, 128, kernel_size=(3, 3), stride=(2, 2), padding=(1, 1))</td>\n",
       "                        <td id=\"T_318b65a0_f4c1_11e9_84d2_008cfafbf396row5_col24\" class=\"data row5 col24\" >BatchNorm2d(128, eps=1e-05, momentum=0.1, affine=True, track_running_stats=True)</td>\n",
       "                        <td id=\"T_318b65a0_f4c1_11e9_84d2_008cfafbf396row5_col25\" class=\"data row5 col25\" >ReLU()</td>\n",
       "                        <td id=\"T_318b65a0_f4c1_11e9_84d2_008cfafbf396row5_col26\" class=\"data row5 col26\" >Conv2d(128, 128, kernel_size=(3, 3), stride=(1, 1), padding=(1, 1))</td>\n",
       "                        <td id=\"T_318b65a0_f4c1_11e9_84d2_008cfafbf396row5_col27\" class=\"data row5 col27\" >ReLU()</td>\n",
       "                        <td id=\"T_318b65a0_f4c1_11e9_84d2_008cfafbf396row5_col28\" class=\"data row5 col28\" >Conv2d(64, 128, kernel_size=(1, 1), stride=(2, 2))</td>\n",
       "                        <td id=\"T_318b65a0_f4c1_11e9_84d2_008cfafbf396row5_col29\" class=\"data row5 col29\" >TorchAdd()</td>\n",
       "                        <td id=\"T_318b65a0_f4c1_11e9_84d2_008cfafbf396row5_col30\" class=\"data row5 col30\" >BatchNorm2d(128, eps=1e-05, momentum=0.1, affine=True, track_running_stats=True)</td>\n",
       "                        <td id=\"T_318b65a0_f4c1_11e9_84d2_008cfafbf396row5_col31\" class=\"data row5 col31\" >ReLU()</td>\n",
       "                        <td id=\"T_318b65a0_f4c1_11e9_84d2_008cfafbf396row5_col32\" class=\"data row5 col32\" >Conv2d(128, 128, kernel_size=(3, 3), stride=(1, 1), padding=(1, 1))</td>\n",
       "                        <td id=\"T_318b65a0_f4c1_11e9_84d2_008cfafbf396row5_col33\" class=\"data row5 col33\" >BatchNorm2d(128, eps=1e-05, momentum=0.1, affine=True, track_running_stats=True)</td>\n",
       "                        <td id=\"T_318b65a0_f4c1_11e9_84d2_008cfafbf396row5_col34\" class=\"data row5 col34\" >ReLU()</td>\n",
       "                        <td id=\"T_318b65a0_f4c1_11e9_84d2_008cfafbf396row5_col35\" class=\"data row5 col35\" >Conv2d(128, 128, kernel_size=(3, 3), stride=(1, 1), padding=(1, 1))</td>\n",
       "                        <td id=\"T_318b65a0_f4c1_11e9_84d2_008cfafbf396row5_col36\" class=\"data row5 col36\" >ReLU()</td>\n",
       "                        <td id=\"T_318b65a0_f4c1_11e9_84d2_008cfafbf396row5_col37\" class=\"data row5 col37\" >Conv2d(128, 128, kernel_size=(1, 1), stride=(1, 1))</td>\n",
       "                        <td id=\"T_318b65a0_f4c1_11e9_84d2_008cfafbf396row5_col38\" class=\"data row5 col38\" >TorchAdd()</td>\n",
       "                        <td id=\"T_318b65a0_f4c1_11e9_84d2_008cfafbf396row5_col39\" class=\"data row5 col39\" >BatchNorm2d(128, eps=1e-05, momentum=0.1, affine=True, track_running_stats=True)</td>\n",
       "                        <td id=\"T_318b65a0_f4c1_11e9_84d2_008cfafbf396row5_col40\" class=\"data row5 col40\" >ReLU()</td>\n",
       "                        <td id=\"T_318b65a0_f4c1_11e9_84d2_008cfafbf396row5_col41\" class=\"data row5 col41\" >Conv2d(128, 256, kernel_size=(3, 3), stride=(2, 2), padding=(1, 1))</td>\n",
       "                        <td id=\"T_318b65a0_f4c1_11e9_84d2_008cfafbf396row5_col42\" class=\"data row5 col42\" >BatchNorm2d(256, eps=1e-05, momentum=0.1, affine=True, track_running_stats=True)</td>\n",
       "                        <td id=\"T_318b65a0_f4c1_11e9_84d2_008cfafbf396row5_col43\" class=\"data row5 col43\" >ReLU()</td>\n",
       "                        <td id=\"T_318b65a0_f4c1_11e9_84d2_008cfafbf396row5_col44\" class=\"data row5 col44\" >Conv2d(256, 256, kernel_size=(3, 3), stride=(1, 1), padding=(1, 1))</td>\n",
       "                        <td id=\"T_318b65a0_f4c1_11e9_84d2_008cfafbf396row5_col45\" class=\"data row5 col45\" >ReLU()</td>\n",
       "                        <td id=\"T_318b65a0_f4c1_11e9_84d2_008cfafbf396row5_col46\" class=\"data row5 col46\" >Conv2d(128, 256, kernel_size=(1, 1), stride=(2, 2))</td>\n",
       "                        <td id=\"T_318b65a0_f4c1_11e9_84d2_008cfafbf396row5_col47\" class=\"data row5 col47\" >TorchAdd()</td>\n",
       "                        <td id=\"T_318b65a0_f4c1_11e9_84d2_008cfafbf396row5_col48\" class=\"data row5 col48\" >BatchNorm2d(256, eps=1e-05, momentum=0.1, affine=True, track_running_stats=True)</td>\n",
       "                        <td id=\"T_318b65a0_f4c1_11e9_84d2_008cfafbf396row5_col49\" class=\"data row5 col49\" >ReLU()</td>\n",
       "                        <td id=\"T_318b65a0_f4c1_11e9_84d2_008cfafbf396row5_col50\" class=\"data row5 col50\" >Conv2d(256, 256, kernel_size=(3, 3), stride=(1, 1), padding=(1, 1))</td>\n",
       "                        <td id=\"T_318b65a0_f4c1_11e9_84d2_008cfafbf396row5_col51\" class=\"data row5 col51\" >BatchNorm2d(256, eps=1e-05, momentum=0.1, affine=True, track_running_stats=True)</td>\n",
       "                        <td id=\"T_318b65a0_f4c1_11e9_84d2_008cfafbf396row5_col52\" class=\"data row5 col52\" >ReLU()</td>\n",
       "                        <td id=\"T_318b65a0_f4c1_11e9_84d2_008cfafbf396row5_col53\" class=\"data row5 col53\" >Conv2d(256, 256, kernel_size=(3, 3), stride=(1, 1), padding=(1, 1))</td>\n",
       "                        <td id=\"T_318b65a0_f4c1_11e9_84d2_008cfafbf396row5_col54\" class=\"data row5 col54\" >ReLU()</td>\n",
       "                        <td id=\"T_318b65a0_f4c1_11e9_84d2_008cfafbf396row5_col55\" class=\"data row5 col55\" >Conv2d(256, 256, kernel_size=(1, 1), stride=(1, 1))</td>\n",
       "                        <td id=\"T_318b65a0_f4c1_11e9_84d2_008cfafbf396row5_col56\" class=\"data row5 col56\" >TorchAdd()</td>\n",
       "                        <td id=\"T_318b65a0_f4c1_11e9_84d2_008cfafbf396row5_col57\" class=\"data row5 col57\" >BatchNorm2d(256, eps=1e-05, momentum=0.1, affine=True, track_running_stats=True)</td>\n",
       "                        <td id=\"T_318b65a0_f4c1_11e9_84d2_008cfafbf396row5_col58\" class=\"data row5 col58\" >ReLU()</td>\n",
       "                        <td id=\"T_318b65a0_f4c1_11e9_84d2_008cfafbf396row5_col59\" class=\"data row5 col59\" >Conv2d(256, 512, kernel_size=(3, 3), stride=(2, 2), padding=(1, 1))</td>\n",
       "                        <td id=\"T_318b65a0_f4c1_11e9_84d2_008cfafbf396row5_col60\" class=\"data row5 col60\" >BatchNorm2d(512, eps=1e-05, momentum=0.1, affine=True, track_running_stats=True)</td>\n",
       "                        <td id=\"T_318b65a0_f4c1_11e9_84d2_008cfafbf396row5_col61\" class=\"data row5 col61\" >ReLU()</td>\n",
       "                        <td id=\"T_318b65a0_f4c1_11e9_84d2_008cfafbf396row5_col62\" class=\"data row5 col62\" >Conv2d(512, 512, kernel_size=(3, 3), stride=(1, 1), padding=(1, 1))</td>\n",
       "                        <td id=\"T_318b65a0_f4c1_11e9_84d2_008cfafbf396row5_col63\" class=\"data row5 col63\" >ReLU()</td>\n",
       "                        <td id=\"T_318b65a0_f4c1_11e9_84d2_008cfafbf396row5_col64\" class=\"data row5 col64\" >Conv2d(256, 512, kernel_size=(1, 1), stride=(2, 2))</td>\n",
       "                        <td id=\"T_318b65a0_f4c1_11e9_84d2_008cfafbf396row5_col65\" class=\"data row5 col65\" >TorchAdd()</td>\n",
       "                        <td id=\"T_318b65a0_f4c1_11e9_84d2_008cfafbf396row5_col66\" class=\"data row5 col66\" >BatchNorm2d(512, eps=1e-05, momentum=0.1, affine=True, track_running_stats=True)</td>\n",
       "                        <td id=\"T_318b65a0_f4c1_11e9_84d2_008cfafbf396row5_col67\" class=\"data row5 col67\" >ReLU()</td>\n",
       "                        <td id=\"T_318b65a0_f4c1_11e9_84d2_008cfafbf396row5_col68\" class=\"data row5 col68\" >Conv2d(512, 512, kernel_size=(3, 3), stride=(1, 1), padding=(1, 1))</td>\n",
       "                        <td id=\"T_318b65a0_f4c1_11e9_84d2_008cfafbf396row5_col69\" class=\"data row5 col69\" >BatchNorm2d(512, eps=1e-05, momentum=0.1, affine=True, track_running_stats=True)</td>\n",
       "                        <td id=\"T_318b65a0_f4c1_11e9_84d2_008cfafbf396row5_col70\" class=\"data row5 col70\" >ReLU()</td>\n",
       "                        <td id=\"T_318b65a0_f4c1_11e9_84d2_008cfafbf396row5_col71\" class=\"data row5 col71\" >Conv2d(512, 512, kernel_size=(3, 3), stride=(1, 1), padding=(1, 1))</td>\n",
       "                        <td id=\"T_318b65a0_f4c1_11e9_84d2_008cfafbf396row5_col72\" class=\"data row5 col72\" >ReLU()</td>\n",
       "                        <td id=\"T_318b65a0_f4c1_11e9_84d2_008cfafbf396row5_col73\" class=\"data row5 col73\" >Conv2d(512, 512, kernel_size=(1, 1), stride=(1, 1))</td>\n",
       "                        <td id=\"T_318b65a0_f4c1_11e9_84d2_008cfafbf396row5_col74\" class=\"data row5 col74\" >TorchAdd()</td>\n",
       "                        <td id=\"T_318b65a0_f4c1_11e9_84d2_008cfafbf396row5_col75\" class=\"data row5 col75\" >GlobalAvgPool2d()</td>\n",
       "                        <td id=\"T_318b65a0_f4c1_11e9_84d2_008cfafbf396row5_col76\" class=\"data row5 col76\" >Linear(in_features=512, out_features=10, bias=True)</td>\n",
       "                        <td id=\"T_318b65a0_f4c1_11e9_84d2_008cfafbf396row5_col77\" class=\"data row5 col77\" >BatchNorm2d(512, eps=1e-05, momentum=0.1, affine=True, track_running_stats=True)</td>\n",
       "            </tr>\n",
       "            <tr>\n",
       "                                <td id=\"T_318b65a0_f4c1_11e9_84d2_008cfafbf396row6_col0\" class=\"data row6 col0\" >72</td>\n",
       "                        <td id=\"T_318b65a0_f4c1_11e9_84d2_008cfafbf396row6_col1\" class=\"data row6 col1\" >Conv2d(1, 64, kernel_size=(3, 3), stride=(1, 1), padding=(1, 1))</td>\n",
       "                        <td id=\"T_318b65a0_f4c1_11e9_84d2_008cfafbf396row6_col2\" class=\"data row6 col2\" >BatchNorm2d(64, eps=1e-05, momentum=0.1, affine=True, track_running_stats=True)</td>\n",
       "                        <td id=\"T_318b65a0_f4c1_11e9_84d2_008cfafbf396row6_col3\" class=\"data row6 col3\" >BatchNorm2d(64, eps=1e-05, momentum=0.1, affine=True, track_running_stats=True)</td>\n",
       "                        <td id=\"T_318b65a0_f4c1_11e9_84d2_008cfafbf396row6_col4\" class=\"data row6 col4\" >ReLU()</td>\n",
       "                        <td id=\"T_318b65a0_f4c1_11e9_84d2_008cfafbf396row6_col5\" class=\"data row6 col5\" >Conv2d(64, 64, kernel_size=(3, 3), stride=(1, 1), padding=(1, 1))</td>\n",
       "                        <td id=\"T_318b65a0_f4c1_11e9_84d2_008cfafbf396row6_col6\" class=\"data row6 col6\" >BatchNorm2d(64, eps=1e-05, momentum=0.1, affine=True, track_running_stats=True)</td>\n",
       "                        <td id=\"T_318b65a0_f4c1_11e9_84d2_008cfafbf396row6_col7\" class=\"data row6 col7\" >ReLU()</td>\n",
       "                        <td id=\"T_318b65a0_f4c1_11e9_84d2_008cfafbf396row6_col8\" class=\"data row6 col8\" >Conv2d(64, 64, kernel_size=(3, 3), stride=(1, 1), padding=(1, 1))</td>\n",
       "                        <td id=\"T_318b65a0_f4c1_11e9_84d2_008cfafbf396row6_col9\" class=\"data row6 col9\" >ReLU()</td>\n",
       "                        <td id=\"T_318b65a0_f4c1_11e9_84d2_008cfafbf396row6_col10\" class=\"data row6 col10\" >Conv2d(64, 64, kernel_size=(1, 1), stride=(1, 1))</td>\n",
       "                        <td id=\"T_318b65a0_f4c1_11e9_84d2_008cfafbf396row6_col11\" class=\"data row6 col11\" >TorchAdd()</td>\n",
       "                        <td id=\"T_318b65a0_f4c1_11e9_84d2_008cfafbf396row6_col12\" class=\"data row6 col12\" >BatchNorm2d(64, eps=1e-05, momentum=0.1, affine=True, track_running_stats=True)</td>\n",
       "                        <td id=\"T_318b65a0_f4c1_11e9_84d2_008cfafbf396row6_col13\" class=\"data row6 col13\" >ReLU()</td>\n",
       "                        <td id=\"T_318b65a0_f4c1_11e9_84d2_008cfafbf396row6_col14\" class=\"data row6 col14\" >Conv2d(64, 64, kernel_size=(3, 3), stride=(1, 1), padding=(1, 1))</td>\n",
       "                        <td id=\"T_318b65a0_f4c1_11e9_84d2_008cfafbf396row6_col15\" class=\"data row6 col15\" >BatchNorm2d(64, eps=1e-05, momentum=0.1, affine=True, track_running_stats=True)</td>\n",
       "                        <td id=\"T_318b65a0_f4c1_11e9_84d2_008cfafbf396row6_col16\" class=\"data row6 col16\" >ReLU()</td>\n",
       "                        <td id=\"T_318b65a0_f4c1_11e9_84d2_008cfafbf396row6_col17\" class=\"data row6 col17\" >Conv2d(64, 64, kernel_size=(3, 3), stride=(1, 1), padding=(1, 1))</td>\n",
       "                        <td id=\"T_318b65a0_f4c1_11e9_84d2_008cfafbf396row6_col18\" class=\"data row6 col18\" >ReLU()</td>\n",
       "                        <td id=\"T_318b65a0_f4c1_11e9_84d2_008cfafbf396row6_col19\" class=\"data row6 col19\" >Conv2d(64, 64, kernel_size=(1, 1), stride=(1, 1))</td>\n",
       "                        <td id=\"T_318b65a0_f4c1_11e9_84d2_008cfafbf396row6_col20\" class=\"data row6 col20\" >TorchAdd()</td>\n",
       "                        <td id=\"T_318b65a0_f4c1_11e9_84d2_008cfafbf396row6_col21\" class=\"data row6 col21\" >BatchNorm2d(64, eps=1e-05, momentum=0.1, affine=True, track_running_stats=True)</td>\n",
       "                        <td id=\"T_318b65a0_f4c1_11e9_84d2_008cfafbf396row6_col22\" class=\"data row6 col22\" >ReLU()</td>\n",
       "                        <td id=\"T_318b65a0_f4c1_11e9_84d2_008cfafbf396row6_col23\" class=\"data row6 col23\" >Conv2d(64, 128, kernel_size=(3, 3), stride=(2, 2), padding=(1, 1))</td>\n",
       "                        <td id=\"T_318b65a0_f4c1_11e9_84d2_008cfafbf396row6_col24\" class=\"data row6 col24\" >BatchNorm2d(128, eps=1e-05, momentum=0.1, affine=True, track_running_stats=True)</td>\n",
       "                        <td id=\"T_318b65a0_f4c1_11e9_84d2_008cfafbf396row6_col25\" class=\"data row6 col25\" >ReLU()</td>\n",
       "                        <td id=\"T_318b65a0_f4c1_11e9_84d2_008cfafbf396row6_col26\" class=\"data row6 col26\" >Conv2d(128, 128, kernel_size=(3, 3), stride=(1, 1), padding=(1, 1))</td>\n",
       "                        <td id=\"T_318b65a0_f4c1_11e9_84d2_008cfafbf396row6_col27\" class=\"data row6 col27\" >ReLU()</td>\n",
       "                        <td id=\"T_318b65a0_f4c1_11e9_84d2_008cfafbf396row6_col28\" class=\"data row6 col28\" >Conv2d(64, 128, kernel_size=(1, 1), stride=(2, 2))</td>\n",
       "                        <td id=\"T_318b65a0_f4c1_11e9_84d2_008cfafbf396row6_col29\" class=\"data row6 col29\" >TorchAdd()</td>\n",
       "                        <td id=\"T_318b65a0_f4c1_11e9_84d2_008cfafbf396row6_col30\" class=\"data row6 col30\" >BatchNorm2d(128, eps=1e-05, momentum=0.1, affine=True, track_running_stats=True)</td>\n",
       "                        <td id=\"T_318b65a0_f4c1_11e9_84d2_008cfafbf396row6_col31\" class=\"data row6 col31\" >ReLU()</td>\n",
       "                        <td id=\"T_318b65a0_f4c1_11e9_84d2_008cfafbf396row6_col32\" class=\"data row6 col32\" >Conv2d(128, 128, kernel_size=(3, 3), stride=(1, 1), padding=(1, 1))</td>\n",
       "                        <td id=\"T_318b65a0_f4c1_11e9_84d2_008cfafbf396row6_col33\" class=\"data row6 col33\" >BatchNorm2d(128, eps=1e-05, momentum=0.1, affine=True, track_running_stats=True)</td>\n",
       "                        <td id=\"T_318b65a0_f4c1_11e9_84d2_008cfafbf396row6_col34\" class=\"data row6 col34\" >ReLU()</td>\n",
       "                        <td id=\"T_318b65a0_f4c1_11e9_84d2_008cfafbf396row6_col35\" class=\"data row6 col35\" >Conv2d(128, 128, kernel_size=(3, 3), stride=(1, 1), padding=(1, 1))</td>\n",
       "                        <td id=\"T_318b65a0_f4c1_11e9_84d2_008cfafbf396row6_col36\" class=\"data row6 col36\" >ReLU()</td>\n",
       "                        <td id=\"T_318b65a0_f4c1_11e9_84d2_008cfafbf396row6_col37\" class=\"data row6 col37\" >Conv2d(128, 128, kernel_size=(1, 1), stride=(1, 1))</td>\n",
       "                        <td id=\"T_318b65a0_f4c1_11e9_84d2_008cfafbf396row6_col38\" class=\"data row6 col38\" >TorchAdd()</td>\n",
       "                        <td id=\"T_318b65a0_f4c1_11e9_84d2_008cfafbf396row6_col39\" class=\"data row6 col39\" >BatchNorm2d(128, eps=1e-05, momentum=0.1, affine=True, track_running_stats=True)</td>\n",
       "                        <td id=\"T_318b65a0_f4c1_11e9_84d2_008cfafbf396row6_col40\" class=\"data row6 col40\" >ReLU()</td>\n",
       "                        <td id=\"T_318b65a0_f4c1_11e9_84d2_008cfafbf396row6_col41\" class=\"data row6 col41\" >Conv2d(128, 256, kernel_size=(3, 3), stride=(2, 2), padding=(1, 1))</td>\n",
       "                        <td id=\"T_318b65a0_f4c1_11e9_84d2_008cfafbf396row6_col42\" class=\"data row6 col42\" >BatchNorm2d(256, eps=1e-05, momentum=0.1, affine=True, track_running_stats=True)</td>\n",
       "                        <td id=\"T_318b65a0_f4c1_11e9_84d2_008cfafbf396row6_col43\" class=\"data row6 col43\" >ReLU()</td>\n",
       "                        <td id=\"T_318b65a0_f4c1_11e9_84d2_008cfafbf396row6_col44\" class=\"data row6 col44\" >Conv2d(256, 256, kernel_size=(3, 3), stride=(1, 1), padding=(1, 1))</td>\n",
       "                        <td id=\"T_318b65a0_f4c1_11e9_84d2_008cfafbf396row6_col45\" class=\"data row6 col45\" >ReLU()</td>\n",
       "                        <td id=\"T_318b65a0_f4c1_11e9_84d2_008cfafbf396row6_col46\" class=\"data row6 col46\" >Conv2d(128, 256, kernel_size=(1, 1), stride=(2, 2))</td>\n",
       "                        <td id=\"T_318b65a0_f4c1_11e9_84d2_008cfafbf396row6_col47\" class=\"data row6 col47\" >TorchAdd()</td>\n",
       "                        <td id=\"T_318b65a0_f4c1_11e9_84d2_008cfafbf396row6_col48\" class=\"data row6 col48\" >BatchNorm2d(256, eps=1e-05, momentum=0.1, affine=True, track_running_stats=True)</td>\n",
       "                        <td id=\"T_318b65a0_f4c1_11e9_84d2_008cfafbf396row6_col49\" class=\"data row6 col49\" >ReLU()</td>\n",
       "                        <td id=\"T_318b65a0_f4c1_11e9_84d2_008cfafbf396row6_col50\" class=\"data row6 col50\" >Conv2d(256, 256, kernel_size=(3, 3), stride=(1, 1), padding=(1, 1))</td>\n",
       "                        <td id=\"T_318b65a0_f4c1_11e9_84d2_008cfafbf396row6_col51\" class=\"data row6 col51\" >BatchNorm2d(256, eps=1e-05, momentum=0.1, affine=True, track_running_stats=True)</td>\n",
       "                        <td id=\"T_318b65a0_f4c1_11e9_84d2_008cfafbf396row6_col52\" class=\"data row6 col52\" >ReLU()</td>\n",
       "                        <td id=\"T_318b65a0_f4c1_11e9_84d2_008cfafbf396row6_col53\" class=\"data row6 col53\" >Conv2d(256, 256, kernel_size=(3, 3), stride=(1, 1), padding=(1, 1))</td>\n",
       "                        <td id=\"T_318b65a0_f4c1_11e9_84d2_008cfafbf396row6_col54\" class=\"data row6 col54\" >ReLU()</td>\n",
       "                        <td id=\"T_318b65a0_f4c1_11e9_84d2_008cfafbf396row6_col55\" class=\"data row6 col55\" >Conv2d(256, 256, kernel_size=(1, 1), stride=(1, 1))</td>\n",
       "                        <td id=\"T_318b65a0_f4c1_11e9_84d2_008cfafbf396row6_col56\" class=\"data row6 col56\" >TorchAdd()</td>\n",
       "                        <td id=\"T_318b65a0_f4c1_11e9_84d2_008cfafbf396row6_col57\" class=\"data row6 col57\" >BatchNorm2d(256, eps=1e-05, momentum=0.1, affine=True, track_running_stats=True)</td>\n",
       "                        <td id=\"T_318b65a0_f4c1_11e9_84d2_008cfafbf396row6_col58\" class=\"data row6 col58\" >ReLU()</td>\n",
       "                        <td id=\"T_318b65a0_f4c1_11e9_84d2_008cfafbf396row6_col59\" class=\"data row6 col59\" >Conv2d(256, 512, kernel_size=(3, 3), stride=(2, 2), padding=(1, 1))</td>\n",
       "                        <td id=\"T_318b65a0_f4c1_11e9_84d2_008cfafbf396row6_col60\" class=\"data row6 col60\" >BatchNorm2d(512, eps=1e-05, momentum=0.1, affine=True, track_running_stats=True)</td>\n",
       "                        <td id=\"T_318b65a0_f4c1_11e9_84d2_008cfafbf396row6_col61\" class=\"data row6 col61\" >ReLU()</td>\n",
       "                        <td id=\"T_318b65a0_f4c1_11e9_84d2_008cfafbf396row6_col62\" class=\"data row6 col62\" >Conv2d(512, 512, kernel_size=(3, 3), stride=(1, 1), padding=(1, 1))</td>\n",
       "                        <td id=\"T_318b65a0_f4c1_11e9_84d2_008cfafbf396row6_col63\" class=\"data row6 col63\" >ReLU()</td>\n",
       "                        <td id=\"T_318b65a0_f4c1_11e9_84d2_008cfafbf396row6_col64\" class=\"data row6 col64\" >Conv2d(256, 512, kernel_size=(1, 1), stride=(2, 2))</td>\n",
       "                        <td id=\"T_318b65a0_f4c1_11e9_84d2_008cfafbf396row6_col65\" class=\"data row6 col65\" >TorchAdd()</td>\n",
       "                        <td id=\"T_318b65a0_f4c1_11e9_84d2_008cfafbf396row6_col66\" class=\"data row6 col66\" >BatchNorm2d(512, eps=1e-05, momentum=0.1, affine=True, track_running_stats=True)</td>\n",
       "                        <td id=\"T_318b65a0_f4c1_11e9_84d2_008cfafbf396row6_col67\" class=\"data row6 col67\" >ReLU()</td>\n",
       "                        <td id=\"T_318b65a0_f4c1_11e9_84d2_008cfafbf396row6_col68\" class=\"data row6 col68\" >Conv2d(512, 512, kernel_size=(3, 3), stride=(1, 1), padding=(1, 1))</td>\n",
       "                        <td id=\"T_318b65a0_f4c1_11e9_84d2_008cfafbf396row6_col69\" class=\"data row6 col69\" >BatchNorm2d(512, eps=1e-05, momentum=0.1, affine=True, track_running_stats=True)</td>\n",
       "                        <td id=\"T_318b65a0_f4c1_11e9_84d2_008cfafbf396row6_col70\" class=\"data row6 col70\" >ReLU()</td>\n",
       "                        <td id=\"T_318b65a0_f4c1_11e9_84d2_008cfafbf396row6_col71\" class=\"data row6 col71\" >Conv2d(512, 512, kernel_size=(3, 3), stride=(1, 1), padding=(1, 1))</td>\n",
       "                        <td id=\"T_318b65a0_f4c1_11e9_84d2_008cfafbf396row6_col72\" class=\"data row6 col72\" >ReLU()</td>\n",
       "                        <td id=\"T_318b65a0_f4c1_11e9_84d2_008cfafbf396row6_col73\" class=\"data row6 col73\" >Conv2d(512, 512, kernel_size=(1, 1), stride=(1, 1))</td>\n",
       "                        <td id=\"T_318b65a0_f4c1_11e9_84d2_008cfafbf396row6_col74\" class=\"data row6 col74\" >TorchAdd()</td>\n",
       "                        <td id=\"T_318b65a0_f4c1_11e9_84d2_008cfafbf396row6_col75\" class=\"data row6 col75\" >GlobalAvgPool2d()</td>\n",
       "                        <td id=\"T_318b65a0_f4c1_11e9_84d2_008cfafbf396row6_col76\" class=\"data row6 col76\" >Linear(in_features=512, out_features=10, bias=True)</td>\n",
       "                        <td id=\"T_318b65a0_f4c1_11e9_84d2_008cfafbf396row6_col77\" class=\"data row6 col77\" >nan</td>\n",
       "            </tr>\n",
       "            <tr>\n",
       "                                <td id=\"T_318b65a0_f4c1_11e9_84d2_008cfafbf396row7_col0\" class=\"data row7 col0\" >84</td>\n",
       "                        <td id=\"T_318b65a0_f4c1_11e9_84d2_008cfafbf396row7_col1\" class=\"data row7 col1\" >Conv2d(1, 64, kernel_size=(3, 3), stride=(1, 1), padding=(1, 1))</td>\n",
       "                        <td id=\"T_318b65a0_f4c1_11e9_84d2_008cfafbf396row7_col2\" class=\"data row7 col2\" >BatchNorm2d(64, eps=1e-05, momentum=0.1, affine=True, track_running_stats=True)</td>\n",
       "                        <td id=\"T_318b65a0_f4c1_11e9_84d2_008cfafbf396row7_col3\" class=\"data row7 col3\" >BatchNorm2d(64, eps=1e-05, momentum=0.1, affine=True, track_running_stats=True)</td>\n",
       "                        <td id=\"T_318b65a0_f4c1_11e9_84d2_008cfafbf396row7_col4\" class=\"data row7 col4\" >ReLU()</td>\n",
       "                        <td id=\"T_318b65a0_f4c1_11e9_84d2_008cfafbf396row7_col5\" class=\"data row7 col5\" >Conv2d(64, 64, kernel_size=(3, 3), stride=(1, 1), padding=(1, 1))</td>\n",
       "                        <td id=\"T_318b65a0_f4c1_11e9_84d2_008cfafbf396row7_col6\" class=\"data row7 col6\" >BatchNorm2d(64, eps=1e-05, momentum=0.1, affine=True, track_running_stats=True)</td>\n",
       "                        <td id=\"T_318b65a0_f4c1_11e9_84d2_008cfafbf396row7_col7\" class=\"data row7 col7\" >ReLU()</td>\n",
       "                        <td id=\"T_318b65a0_f4c1_11e9_84d2_008cfafbf396row7_col8\" class=\"data row7 col8\" >Conv2d(64, 64, kernel_size=(3, 3), stride=(1, 1), padding=(1, 1))</td>\n",
       "                        <td id=\"T_318b65a0_f4c1_11e9_84d2_008cfafbf396row7_col9\" class=\"data row7 col9\" >ReLU()</td>\n",
       "                        <td id=\"T_318b65a0_f4c1_11e9_84d2_008cfafbf396row7_col10\" class=\"data row7 col10\" >Conv2d(64, 64, kernel_size=(1, 1), stride=(1, 1))</td>\n",
       "                        <td id=\"T_318b65a0_f4c1_11e9_84d2_008cfafbf396row7_col11\" class=\"data row7 col11\" >TorchAdd()</td>\n",
       "                        <td id=\"T_318b65a0_f4c1_11e9_84d2_008cfafbf396row7_col12\" class=\"data row7 col12\" >BatchNorm2d(64, eps=1e-05, momentum=0.1, affine=True, track_running_stats=True)</td>\n",
       "                        <td id=\"T_318b65a0_f4c1_11e9_84d2_008cfafbf396row7_col13\" class=\"data row7 col13\" >ReLU()</td>\n",
       "                        <td id=\"T_318b65a0_f4c1_11e9_84d2_008cfafbf396row7_col14\" class=\"data row7 col14\" >Conv2d(64, 64, kernel_size=(3, 3), stride=(1, 1), padding=(1, 1))</td>\n",
       "                        <td id=\"T_318b65a0_f4c1_11e9_84d2_008cfafbf396row7_col15\" class=\"data row7 col15\" >BatchNorm2d(64, eps=1e-05, momentum=0.1, affine=True, track_running_stats=True)</td>\n",
       "                        <td id=\"T_318b65a0_f4c1_11e9_84d2_008cfafbf396row7_col16\" class=\"data row7 col16\" >ReLU()</td>\n",
       "                        <td id=\"T_318b65a0_f4c1_11e9_84d2_008cfafbf396row7_col17\" class=\"data row7 col17\" >Conv2d(64, 64, kernel_size=(3, 3), stride=(1, 1), padding=(1, 1))</td>\n",
       "                        <td id=\"T_318b65a0_f4c1_11e9_84d2_008cfafbf396row7_col18\" class=\"data row7 col18\" >ReLU()</td>\n",
       "                        <td id=\"T_318b65a0_f4c1_11e9_84d2_008cfafbf396row7_col19\" class=\"data row7 col19\" >Conv2d(64, 64, kernel_size=(1, 1), stride=(1, 1))</td>\n",
       "                        <td id=\"T_318b65a0_f4c1_11e9_84d2_008cfafbf396row7_col20\" class=\"data row7 col20\" >TorchAdd()</td>\n",
       "                        <td id=\"T_318b65a0_f4c1_11e9_84d2_008cfafbf396row7_col21\" class=\"data row7 col21\" >BatchNorm2d(64, eps=1e-05, momentum=0.1, affine=True, track_running_stats=True)</td>\n",
       "                        <td id=\"T_318b65a0_f4c1_11e9_84d2_008cfafbf396row7_col22\" class=\"data row7 col22\" >ReLU()</td>\n",
       "                        <td id=\"T_318b65a0_f4c1_11e9_84d2_008cfafbf396row7_col23\" class=\"data row7 col23\" >Conv2d(64, 128, kernel_size=(3, 3), stride=(2, 2), padding=(1, 1))</td>\n",
       "                        <td id=\"T_318b65a0_f4c1_11e9_84d2_008cfafbf396row7_col24\" class=\"data row7 col24\" >BatchNorm2d(128, eps=1e-05, momentum=0.1, affine=True, track_running_stats=True)</td>\n",
       "                        <td id=\"T_318b65a0_f4c1_11e9_84d2_008cfafbf396row7_col25\" class=\"data row7 col25\" >ReLU()</td>\n",
       "                        <td id=\"T_318b65a0_f4c1_11e9_84d2_008cfafbf396row7_col26\" class=\"data row7 col26\" >Conv2d(128, 128, kernel_size=(3, 3), stride=(1, 1), padding=(1, 1))</td>\n",
       "                        <td id=\"T_318b65a0_f4c1_11e9_84d2_008cfafbf396row7_col27\" class=\"data row7 col27\" >ReLU()</td>\n",
       "                        <td id=\"T_318b65a0_f4c1_11e9_84d2_008cfafbf396row7_col28\" class=\"data row7 col28\" >Conv2d(64, 128, kernel_size=(1, 1), stride=(2, 2))</td>\n",
       "                        <td id=\"T_318b65a0_f4c1_11e9_84d2_008cfafbf396row7_col29\" class=\"data row7 col29\" >TorchAdd()</td>\n",
       "                        <td id=\"T_318b65a0_f4c1_11e9_84d2_008cfafbf396row7_col30\" class=\"data row7 col30\" >BatchNorm2d(128, eps=1e-05, momentum=0.1, affine=True, track_running_stats=True)</td>\n",
       "                        <td id=\"T_318b65a0_f4c1_11e9_84d2_008cfafbf396row7_col31\" class=\"data row7 col31\" >ReLU()</td>\n",
       "                        <td id=\"T_318b65a0_f4c1_11e9_84d2_008cfafbf396row7_col32\" class=\"data row7 col32\" >Conv2d(128, 128, kernel_size=(3, 3), stride=(1, 1), padding=(1, 1))</td>\n",
       "                        <td id=\"T_318b65a0_f4c1_11e9_84d2_008cfafbf396row7_col33\" class=\"data row7 col33\" >BatchNorm2d(128, eps=1e-05, momentum=0.1, affine=True, track_running_stats=True)</td>\n",
       "                        <td id=\"T_318b65a0_f4c1_11e9_84d2_008cfafbf396row7_col34\" class=\"data row7 col34\" >ReLU()</td>\n",
       "                        <td id=\"T_318b65a0_f4c1_11e9_84d2_008cfafbf396row7_col35\" class=\"data row7 col35\" >Conv2d(128, 128, kernel_size=(3, 3), stride=(1, 1), padding=(1, 1))</td>\n",
       "                        <td id=\"T_318b65a0_f4c1_11e9_84d2_008cfafbf396row7_col36\" class=\"data row7 col36\" >ReLU()</td>\n",
       "                        <td id=\"T_318b65a0_f4c1_11e9_84d2_008cfafbf396row7_col37\" class=\"data row7 col37\" >Conv2d(128, 128, kernel_size=(1, 1), stride=(1, 1))</td>\n",
       "                        <td id=\"T_318b65a0_f4c1_11e9_84d2_008cfafbf396row7_col38\" class=\"data row7 col38\" >TorchAdd()</td>\n",
       "                        <td id=\"T_318b65a0_f4c1_11e9_84d2_008cfafbf396row7_col39\" class=\"data row7 col39\" >BatchNorm2d(128, eps=1e-05, momentum=0.1, affine=True, track_running_stats=True)</td>\n",
       "                        <td id=\"T_318b65a0_f4c1_11e9_84d2_008cfafbf396row7_col40\" class=\"data row7 col40\" >ReLU()</td>\n",
       "                        <td id=\"T_318b65a0_f4c1_11e9_84d2_008cfafbf396row7_col41\" class=\"data row7 col41\" >Conv2d(128, 256, kernel_size=(3, 3), stride=(2, 2), padding=(1, 1))</td>\n",
       "                        <td id=\"T_318b65a0_f4c1_11e9_84d2_008cfafbf396row7_col42\" class=\"data row7 col42\" >BatchNorm2d(256, eps=1e-05, momentum=0.1, affine=True, track_running_stats=True)</td>\n",
       "                        <td id=\"T_318b65a0_f4c1_11e9_84d2_008cfafbf396row7_col43\" class=\"data row7 col43\" >ReLU()</td>\n",
       "                        <td id=\"T_318b65a0_f4c1_11e9_84d2_008cfafbf396row7_col44\" class=\"data row7 col44\" >Conv2d(256, 256, kernel_size=(3, 3), stride=(1, 1), padding=(1, 1))</td>\n",
       "                        <td id=\"T_318b65a0_f4c1_11e9_84d2_008cfafbf396row7_col45\" class=\"data row7 col45\" >ReLU()</td>\n",
       "                        <td id=\"T_318b65a0_f4c1_11e9_84d2_008cfafbf396row7_col46\" class=\"data row7 col46\" >Conv2d(128, 256, kernel_size=(1, 1), stride=(2, 2))</td>\n",
       "                        <td id=\"T_318b65a0_f4c1_11e9_84d2_008cfafbf396row7_col47\" class=\"data row7 col47\" >TorchAdd()</td>\n",
       "                        <td id=\"T_318b65a0_f4c1_11e9_84d2_008cfafbf396row7_col48\" class=\"data row7 col48\" >BatchNorm2d(256, eps=1e-05, momentum=0.1, affine=True, track_running_stats=True)</td>\n",
       "                        <td id=\"T_318b65a0_f4c1_11e9_84d2_008cfafbf396row7_col49\" class=\"data row7 col49\" >ReLU()</td>\n",
       "                        <td id=\"T_318b65a0_f4c1_11e9_84d2_008cfafbf396row7_col50\" class=\"data row7 col50\" >Conv2d(256, 256, kernel_size=(3, 3), stride=(1, 1), padding=(1, 1))</td>\n",
       "                        <td id=\"T_318b65a0_f4c1_11e9_84d2_008cfafbf396row7_col51\" class=\"data row7 col51\" >BatchNorm2d(256, eps=1e-05, momentum=0.1, affine=True, track_running_stats=True)</td>\n",
       "                        <td id=\"T_318b65a0_f4c1_11e9_84d2_008cfafbf396row7_col52\" class=\"data row7 col52\" >ReLU()</td>\n",
       "                        <td id=\"T_318b65a0_f4c1_11e9_84d2_008cfafbf396row7_col53\" class=\"data row7 col53\" >Conv2d(256, 256, kernel_size=(3, 3), stride=(1, 1), padding=(1, 1))</td>\n",
       "                        <td id=\"T_318b65a0_f4c1_11e9_84d2_008cfafbf396row7_col54\" class=\"data row7 col54\" >ReLU()</td>\n",
       "                        <td id=\"T_318b65a0_f4c1_11e9_84d2_008cfafbf396row7_col55\" class=\"data row7 col55\" >Conv2d(256, 256, kernel_size=(1, 1), stride=(1, 1))</td>\n",
       "                        <td id=\"T_318b65a0_f4c1_11e9_84d2_008cfafbf396row7_col56\" class=\"data row7 col56\" >TorchAdd()</td>\n",
       "                        <td id=\"T_318b65a0_f4c1_11e9_84d2_008cfafbf396row7_col57\" class=\"data row7 col57\" >BatchNorm2d(256, eps=1e-05, momentum=0.1, affine=True, track_running_stats=True)</td>\n",
       "                        <td id=\"T_318b65a0_f4c1_11e9_84d2_008cfafbf396row7_col58\" class=\"data row7 col58\" >ReLU()</td>\n",
       "                        <td id=\"T_318b65a0_f4c1_11e9_84d2_008cfafbf396row7_col59\" class=\"data row7 col59\" >Conv2d(256, 512, kernel_size=(3, 3), stride=(2, 2), padding=(1, 1))</td>\n",
       "                        <td id=\"T_318b65a0_f4c1_11e9_84d2_008cfafbf396row7_col60\" class=\"data row7 col60\" >BatchNorm2d(512, eps=1e-05, momentum=0.1, affine=True, track_running_stats=True)</td>\n",
       "                        <td id=\"T_318b65a0_f4c1_11e9_84d2_008cfafbf396row7_col61\" class=\"data row7 col61\" >ReLU()</td>\n",
       "                        <td id=\"T_318b65a0_f4c1_11e9_84d2_008cfafbf396row7_col62\" class=\"data row7 col62\" >Conv2d(512, 512, kernel_size=(3, 3), stride=(1, 1), padding=(1, 1))</td>\n",
       "                        <td id=\"T_318b65a0_f4c1_11e9_84d2_008cfafbf396row7_col63\" class=\"data row7 col63\" >ReLU()</td>\n",
       "                        <td id=\"T_318b65a0_f4c1_11e9_84d2_008cfafbf396row7_col64\" class=\"data row7 col64\" >Conv2d(256, 512, kernel_size=(1, 1), stride=(2, 2))</td>\n",
       "                        <td id=\"T_318b65a0_f4c1_11e9_84d2_008cfafbf396row7_col65\" class=\"data row7 col65\" >TorchAdd()</td>\n",
       "                        <td id=\"T_318b65a0_f4c1_11e9_84d2_008cfafbf396row7_col66\" class=\"data row7 col66\" >BatchNorm2d(512, eps=1e-05, momentum=0.1, affine=True, track_running_stats=True)</td>\n",
       "                        <td id=\"T_318b65a0_f4c1_11e9_84d2_008cfafbf396row7_col67\" class=\"data row7 col67\" >ReLU()</td>\n",
       "                        <td id=\"T_318b65a0_f4c1_11e9_84d2_008cfafbf396row7_col68\" class=\"data row7 col68\" >Conv2d(512, 512, kernel_size=(3, 3), stride=(1, 1), padding=(1, 1))</td>\n",
       "                        <td id=\"T_318b65a0_f4c1_11e9_84d2_008cfafbf396row7_col69\" class=\"data row7 col69\" >BatchNorm2d(512, eps=1e-05, momentum=0.1, affine=True, track_running_stats=True)</td>\n",
       "                        <td id=\"T_318b65a0_f4c1_11e9_84d2_008cfafbf396row7_col70\" class=\"data row7 col70\" >ReLU()</td>\n",
       "                        <td id=\"T_318b65a0_f4c1_11e9_84d2_008cfafbf396row7_col71\" class=\"data row7 col71\" >Conv2d(512, 512, kernel_size=(3, 3), stride=(1, 1), padding=(1, 1))</td>\n",
       "                        <td id=\"T_318b65a0_f4c1_11e9_84d2_008cfafbf396row7_col72\" class=\"data row7 col72\" >ReLU()</td>\n",
       "                        <td id=\"T_318b65a0_f4c1_11e9_84d2_008cfafbf396row7_col73\" class=\"data row7 col73\" >Conv2d(512, 512, kernel_size=(1, 1), stride=(1, 1))</td>\n",
       "                        <td id=\"T_318b65a0_f4c1_11e9_84d2_008cfafbf396row7_col74\" class=\"data row7 col74\" >TorchAdd()</td>\n",
       "                        <td id=\"T_318b65a0_f4c1_11e9_84d2_008cfafbf396row7_col75\" class=\"data row7 col75\" >GlobalAvgPool2d()</td>\n",
       "                        <td id=\"T_318b65a0_f4c1_11e9_84d2_008cfafbf396row7_col76\" class=\"data row7 col76\" >Linear(in_features=512, out_features=10, bias=True)</td>\n",
       "                        <td id=\"T_318b65a0_f4c1_11e9_84d2_008cfafbf396row7_col77\" class=\"data row7 col77\" >nan</td>\n",
       "            </tr>\n",
       "    </tbody></table>"
      ],
      "text/plain": [
       "<pandas.io.formats.style.Styler at 0x2ab388057208>"
      ]
     },
     "metadata": {},
     "output_type": "display_data"
    },
    {
     "data": {
      "text/plain": [
       "'H2OAutoML #1'"
      ]
     },
     "metadata": {},
     "output_type": "display_data"
    },
    {
     "data": {
      "text/html": [
       "<style  type=\"text/css\" >\n",
       "</style><table id=\"T_3194861c_f4c1_11e9_84d2_008cfafbf396\" ><thead>    <tr>        <th class=\"col_heading level0 col0\" >max_angle</th>        <th class=\"col_heading level0 col1\" >test_acc</th>        <th class=\"col_heading level0 col2\" >train_acc</th>        <th class=\"col_heading level0 col3\" >time_err</th>        <th class=\"col_heading level0 col4\" >time_pre</th>        <th class=\"col_heading level0 col5\" >time_mod</th>    </tr></thead><tbody>\n",
       "                <tr>\n",
       "                                <td id=\"T_3194861c_f4c1_11e9_84d2_008cfafbf396row0_col0\" class=\"data row0 col0\" >0</td>\n",
       "                        <td id=\"T_3194861c_f4c1_11e9_84d2_008cfafbf396row0_col1\" class=\"data row0 col1\" >0.986</td>\n",
       "                        <td id=\"T_3194861c_f4c1_11e9_84d2_008cfafbf396row0_col2\" class=\"data row0 col2\" >1</td>\n",
       "                        <td id=\"T_3194861c_f4c1_11e9_84d2_008cfafbf396row0_col3\" class=\"data row0 col3\" >0.194</td>\n",
       "                        <td id=\"T_3194861c_f4c1_11e9_84d2_008cfafbf396row0_col4\" class=\"data row0 col4\" >0</td>\n",
       "                        <td id=\"T_3194861c_f4c1_11e9_84d2_008cfafbf396row0_col5\" class=\"data row0 col5\" >7350.54</td>\n",
       "            </tr>\n",
       "            <tr>\n",
       "                                <td id=\"T_3194861c_f4c1_11e9_84d2_008cfafbf396row1_col0\" class=\"data row1 col0\" >12</td>\n",
       "                        <td id=\"T_3194861c_f4c1_11e9_84d2_008cfafbf396row1_col1\" class=\"data row1 col1\" >0.981</td>\n",
       "                        <td id=\"T_3194861c_f4c1_11e9_84d2_008cfafbf396row1_col2\" class=\"data row1 col2\" >1</td>\n",
       "                        <td id=\"T_3194861c_f4c1_11e9_84d2_008cfafbf396row1_col3\" class=\"data row1 col3\" >0.262</td>\n",
       "                        <td id=\"T_3194861c_f4c1_11e9_84d2_008cfafbf396row1_col4\" class=\"data row1 col4\" >0</td>\n",
       "                        <td id=\"T_3194861c_f4c1_11e9_84d2_008cfafbf396row1_col5\" class=\"data row1 col5\" >7179</td>\n",
       "            </tr>\n",
       "            <tr>\n",
       "                                <td id=\"T_3194861c_f4c1_11e9_84d2_008cfafbf396row2_col0\" class=\"data row2 col0\" >24</td>\n",
       "                        <td id=\"T_3194861c_f4c1_11e9_84d2_008cfafbf396row2_col1\" class=\"data row2 col1\" >0.944</td>\n",
       "                        <td id=\"T_3194861c_f4c1_11e9_84d2_008cfafbf396row2_col2\" class=\"data row2 col2\" >1</td>\n",
       "                        <td id=\"T_3194861c_f4c1_11e9_84d2_008cfafbf396row2_col3\" class=\"data row2 col3\" >0.249</td>\n",
       "                        <td id=\"T_3194861c_f4c1_11e9_84d2_008cfafbf396row2_col4\" class=\"data row2 col4\" >0</td>\n",
       "                        <td id=\"T_3194861c_f4c1_11e9_84d2_008cfafbf396row2_col5\" class=\"data row2 col5\" >7166.95</td>\n",
       "            </tr>\n",
       "            <tr>\n",
       "                                <td id=\"T_3194861c_f4c1_11e9_84d2_008cfafbf396row3_col0\" class=\"data row3 col0\" >36</td>\n",
       "                        <td id=\"T_3194861c_f4c1_11e9_84d2_008cfafbf396row3_col1\" class=\"data row3 col1\" >0.936</td>\n",
       "                        <td id=\"T_3194861c_f4c1_11e9_84d2_008cfafbf396row3_col2\" class=\"data row3 col2\" >1</td>\n",
       "                        <td id=\"T_3194861c_f4c1_11e9_84d2_008cfafbf396row3_col3\" class=\"data row3 col3\" >0.273</td>\n",
       "                        <td id=\"T_3194861c_f4c1_11e9_84d2_008cfafbf396row3_col4\" class=\"data row3 col4\" >0</td>\n",
       "                        <td id=\"T_3194861c_f4c1_11e9_84d2_008cfafbf396row3_col5\" class=\"data row3 col5\" >7255.05</td>\n",
       "            </tr>\n",
       "            <tr>\n",
       "                                <td id=\"T_3194861c_f4c1_11e9_84d2_008cfafbf396row4_col0\" class=\"data row4 col0\" >48</td>\n",
       "                        <td id=\"T_3194861c_f4c1_11e9_84d2_008cfafbf396row4_col1\" class=\"data row4 col1\" >0.944</td>\n",
       "                        <td id=\"T_3194861c_f4c1_11e9_84d2_008cfafbf396row4_col2\" class=\"data row4 col2\" >1</td>\n",
       "                        <td id=\"T_3194861c_f4c1_11e9_84d2_008cfafbf396row4_col3\" class=\"data row4 col3\" >0.271</td>\n",
       "                        <td id=\"T_3194861c_f4c1_11e9_84d2_008cfafbf396row4_col4\" class=\"data row4 col4\" >0</td>\n",
       "                        <td id=\"T_3194861c_f4c1_11e9_84d2_008cfafbf396row4_col5\" class=\"data row4 col5\" >7297.15</td>\n",
       "            </tr>\n",
       "            <tr>\n",
       "                                <td id=\"T_3194861c_f4c1_11e9_84d2_008cfafbf396row5_col0\" class=\"data row5 col0\" >60</td>\n",
       "                        <td id=\"T_3194861c_f4c1_11e9_84d2_008cfafbf396row5_col1\" class=\"data row5 col1\" >0.925</td>\n",
       "                        <td id=\"T_3194861c_f4c1_11e9_84d2_008cfafbf396row5_col2\" class=\"data row5 col2\" >1</td>\n",
       "                        <td id=\"T_3194861c_f4c1_11e9_84d2_008cfafbf396row5_col3\" class=\"data row5 col3\" >0.269</td>\n",
       "                        <td id=\"T_3194861c_f4c1_11e9_84d2_008cfafbf396row5_col4\" class=\"data row5 col4\" >0</td>\n",
       "                        <td id=\"T_3194861c_f4c1_11e9_84d2_008cfafbf396row5_col5\" class=\"data row5 col5\" >7081.67</td>\n",
       "            </tr>\n",
       "            <tr>\n",
       "                                <td id=\"T_3194861c_f4c1_11e9_84d2_008cfafbf396row6_col0\" class=\"data row6 col0\" >72</td>\n",
       "                        <td id=\"T_3194861c_f4c1_11e9_84d2_008cfafbf396row6_col1\" class=\"data row6 col1\" >0.925</td>\n",
       "                        <td id=\"T_3194861c_f4c1_11e9_84d2_008cfafbf396row6_col2\" class=\"data row6 col2\" >1</td>\n",
       "                        <td id=\"T_3194861c_f4c1_11e9_84d2_008cfafbf396row6_col3\" class=\"data row6 col3\" >0.265</td>\n",
       "                        <td id=\"T_3194861c_f4c1_11e9_84d2_008cfafbf396row6_col4\" class=\"data row6 col4\" >0</td>\n",
       "                        <td id=\"T_3194861c_f4c1_11e9_84d2_008cfafbf396row6_col5\" class=\"data row6 col5\" >7358.55</td>\n",
       "            </tr>\n",
       "            <tr>\n",
       "                                <td id=\"T_3194861c_f4c1_11e9_84d2_008cfafbf396row7_col0\" class=\"data row7 col0\" >84</td>\n",
       "                        <td id=\"T_3194861c_f4c1_11e9_84d2_008cfafbf396row7_col1\" class=\"data row7 col1\" >0.906</td>\n",
       "                        <td id=\"T_3194861c_f4c1_11e9_84d2_008cfafbf396row7_col2\" class=\"data row7 col2\" >1</td>\n",
       "                        <td id=\"T_3194861c_f4c1_11e9_84d2_008cfafbf396row7_col3\" class=\"data row7 col3\" >0.276</td>\n",
       "                        <td id=\"T_3194861c_f4c1_11e9_84d2_008cfafbf396row7_col4\" class=\"data row7 col4\" >0</td>\n",
       "                        <td id=\"T_3194861c_f4c1_11e9_84d2_008cfafbf396row7_col5\" class=\"data row7 col5\" >7284.51</td>\n",
       "            </tr>\n",
       "    </tbody></table>"
      ],
      "text/plain": [
       "<pandas.io.formats.style.Styler at 0x2ab388052f98>"
      ]
     },
     "metadata": {},
     "output_type": "display_data"
    },
    {
     "data": {
      "text/html": [
       "<style  type=\"text/css\" >\n",
       "</style><table id=\"T_319a8850_f4c1_11e9_84d2_008cfafbf396\" ><thead>    <tr>        <th class=\"col_heading level0 col0\" >max_angle</th>        <th class=\"col_heading level0 col1\" >pipe_0</th>        <th class=\"col_heading level0 col2\" >pipe_1</th>        <th class=\"col_heading level0 col3\" >pipe_2</th>        <th class=\"col_heading level0 col4\" >pipe_3</th>        <th class=\"col_heading level0 col5\" >pipe_4</th>        <th class=\"col_heading level0 col6\" >pipe_5</th>        <th class=\"col_heading level0 col7\" >pipe_6</th>        <th class=\"col_heading level0 col8\" >pipe_7</th>        <th class=\"col_heading level0 col9\" >pipe_8</th>        <th class=\"col_heading level0 col10\" >pipe_9</th>        <th class=\"col_heading level0 col11\" >pipe_10</th>        <th class=\"col_heading level0 col12\" >pipe_11</th>        <th class=\"col_heading level0 col13\" >pipe_12</th>        <th class=\"col_heading level0 col14\" >pipe_13</th>        <th class=\"col_heading level0 col15\" >pipe_14</th>        <th class=\"col_heading level0 col16\" >pipe_15</th>        <th class=\"col_heading level0 col17\" >pipe_16</th>        <th class=\"col_heading level0 col18\" >pipe_17</th>        <th class=\"col_heading level0 col19\" >pipe_18</th>        <th class=\"col_heading level0 col20\" >pipe_19</th>        <th class=\"col_heading level0 col21\" >pipe_20</th>        <th class=\"col_heading level0 col22\" >pipe_21</th>        <th class=\"col_heading level0 col23\" >pipe_22</th>        <th class=\"col_heading level0 col24\" >pipe_23</th>        <th class=\"col_heading level0 col25\" >pipe_24</th>        <th class=\"col_heading level0 col26\" >pipe_25</th>        <th class=\"col_heading level0 col27\" >pipe_26</th>        <th class=\"col_heading level0 col28\" >pipe_27</th>        <th class=\"col_heading level0 col29\" >pipe_28</th>        <th class=\"col_heading level0 col30\" >pipe_29</th>        <th class=\"col_heading level0 col31\" >pipe_30</th>        <th class=\"col_heading level0 col32\" >pipe_31</th>        <th class=\"col_heading level0 col33\" >pipe_32</th>        <th class=\"col_heading level0 col34\" >pipe_33</th>        <th class=\"col_heading level0 col35\" >pipe_34</th>        <th class=\"col_heading level0 col36\" >pipe_35</th>        <th class=\"col_heading level0 col37\" >pipe_36</th>        <th class=\"col_heading level0 col38\" >pipe_37</th>        <th class=\"col_heading level0 col39\" >pipe_38</th>        <th class=\"col_heading level0 col40\" >pipe_39</th>        <th class=\"col_heading level0 col41\" >pipe_40</th>        <th class=\"col_heading level0 col42\" >pipe_41</th>        <th class=\"col_heading level0 col43\" >pipe_42</th>        <th class=\"col_heading level0 col44\" >pipe_43</th>        <th class=\"col_heading level0 col45\" >pipe_44</th>        <th class=\"col_heading level0 col46\" >pipe_45</th>        <th class=\"col_heading level0 col47\" >pipe_46</th>        <th class=\"col_heading level0 col48\" >pipe_47</th>        <th class=\"col_heading level0 col49\" >pipe_48</th>        <th class=\"col_heading level0 col50\" >pipe_49</th>        <th class=\"col_heading level0 col51\" >pipe_50</th>        <th class=\"col_heading level0 col52\" >pipe_51</th>        <th class=\"col_heading level0 col53\" >pipe_52</th>        <th class=\"col_heading level0 col54\" >pipe_53</th>        <th class=\"col_heading level0 col55\" >pipe_54</th>        <th class=\"col_heading level0 col56\" >pipe_55</th>        <th class=\"col_heading level0 col57\" >pipe_56</th>        <th class=\"col_heading level0 col58\" >pipe_57</th>        <th class=\"col_heading level0 col59\" >pipe_58</th>        <th class=\"col_heading level0 col60\" >pipe_59</th>        <th class=\"col_heading level0 col61\" >pipe_60</th>        <th class=\"col_heading level0 col62\" >pipe_61</th>        <th class=\"col_heading level0 col63\" >pipe_62</th>        <th class=\"col_heading level0 col64\" >pipe_63</th>        <th class=\"col_heading level0 col65\" >pipe_64</th>        <th class=\"col_heading level0 col66\" >pipe_65</th>        <th class=\"col_heading level0 col67\" >pipe_66</th>        <th class=\"col_heading level0 col68\" >pipe_67</th>        <th class=\"col_heading level0 col69\" >pipe_68</th>        <th class=\"col_heading level0 col70\" >pipe_69</th>        <th class=\"col_heading level0 col71\" >pipe_70</th>        <th class=\"col_heading level0 col72\" >pipe_71</th>        <th class=\"col_heading level0 col73\" >pipe_72</th>        <th class=\"col_heading level0 col74\" >pipe_73</th>        <th class=\"col_heading level0 col75\" >pipe_74</th>        <th class=\"col_heading level0 col76\" >pipe_75</th>        <th class=\"col_heading level0 col77\" >pipe_76</th>        <th class=\"col_heading level0 col78\" >pipe_77</th>        <th class=\"col_heading level0 col79\" >pipe_78</th>        <th class=\"col_heading level0 col80\" >pipe_79</th>        <th class=\"col_heading level0 col81\" >pipe_80</th>        <th class=\"col_heading level0 col82\" >pipe_81</th>        <th class=\"col_heading level0 col83\" >pipe_82</th>        <th class=\"col_heading level0 col84\" >pipe_83</th>        <th class=\"col_heading level0 col85\" >pipe_84</th>        <th class=\"col_heading level0 col86\" >pipe_85</th>        <th class=\"col_heading level0 col87\" >pipe_86</th>        <th class=\"col_heading level0 col88\" >pipe_87</th>        <th class=\"col_heading level0 col89\" >pipe_88</th>        <th class=\"col_heading level0 col90\" >pipe_89</th>        <th class=\"col_heading level0 col91\" >pipe_90</th>        <th class=\"col_heading level0 col92\" >pipe_91</th>        <th class=\"col_heading level0 col93\" >pipe_92</th>        <th class=\"col_heading level0 col94\" >pipe_93</th>        <th class=\"col_heading level0 col95\" >pipe_94</th>        <th class=\"col_heading level0 col96\" >pipe_95</th>        <th class=\"col_heading level0 col97\" >pipe_96</th>        <th class=\"col_heading level0 col98\" >pipe_97</th>        <th class=\"col_heading level0 col99\" >pipe_98</th>        <th class=\"col_heading level0 col100\" >pipe_99</th>        <th class=\"col_heading level0 col101\" >pipe_100</th>        <th class=\"col_heading level0 col102\" >pipe_101</th>        <th class=\"col_heading level0 col103\" >pipe_102</th>        <th class=\"col_heading level0 col104\" >pipe_103</th>        <th class=\"col_heading level0 col105\" >pipe_104</th>        <th class=\"col_heading level0 col106\" >pipe_105</th>        <th class=\"col_heading level0 col107\" >pipe_106</th>        <th class=\"col_heading level0 col108\" >pipe_107</th>        <th class=\"col_heading level0 col109\" >pipe_108</th>        <th class=\"col_heading level0 col110\" >pipe_109</th>        <th class=\"col_heading level0 col111\" >pipe_110</th>        <th class=\"col_heading level0 col112\" >pipe_111</th>        <th class=\"col_heading level0 col113\" >pipe_112</th>        <th class=\"col_heading level0 col114\" >pipe_113</th>        <th class=\"col_heading level0 col115\" >pipe_114</th>        <th class=\"col_heading level0 col116\" >pipe_115</th>        <th class=\"col_heading level0 col117\" >pipe_116</th>        <th class=\"col_heading level0 col118\" >pipe_117</th>        <th class=\"col_heading level0 col119\" >pipe_118</th>        <th class=\"col_heading level0 col120\" >pipe_119</th>        <th class=\"col_heading level0 col121\" >pipe_120</th>        <th class=\"col_heading level0 col122\" >pipe_121</th>        <th class=\"col_heading level0 col123\" >pipe_122</th>        <th class=\"col_heading level0 col124\" >pipe_123</th>        <th class=\"col_heading level0 col125\" >pipe_124</th>        <th class=\"col_heading level0 col126\" >pipe_125</th>        <th class=\"col_heading level0 col127\" >pipe_126</th>        <th class=\"col_heading level0 col128\" >pipe_127</th>        <th class=\"col_heading level0 col129\" >pipe_128</th>        <th class=\"col_heading level0 col130\" >pipe_129</th>        <th class=\"col_heading level0 col131\" >pipe_130</th>        <th class=\"col_heading level0 col132\" >pipe_131</th>        <th class=\"col_heading level0 col133\" >pipe_132</th>        <th class=\"col_heading level0 col134\" >pipe_133</th>        <th class=\"col_heading level0 col135\" >pipe_134</th>        <th class=\"col_heading level0 col136\" >pipe_135</th>        <th class=\"col_heading level0 col137\" >pipe_136</th>        <th class=\"col_heading level0 col138\" >pipe_137</th>        <th class=\"col_heading level0 col139\" >pipe_138</th>        <th class=\"col_heading level0 col140\" >pipe_139</th>        <th class=\"col_heading level0 col141\" >pipe_140</th>        <th class=\"col_heading level0 col142\" >pipe_141</th>        <th class=\"col_heading level0 col143\" >pipe_142</th>        <th class=\"col_heading level0 col144\" >pipe_143</th>        <th class=\"col_heading level0 col145\" >pipe_144</th>        <th class=\"col_heading level0 col146\" >pipe_145</th>        <th class=\"col_heading level0 col147\" >pipe_146</th>        <th class=\"col_heading level0 col148\" >pipe_147</th>        <th class=\"col_heading level0 col149\" >pipe_148</th>        <th class=\"col_heading level0 col150\" >pipe_149</th>        <th class=\"col_heading level0 col151\" >pipe_150</th>        <th class=\"col_heading level0 col152\" >pipe_151</th>        <th class=\"col_heading level0 col153\" >pipe_152</th>        <th class=\"col_heading level0 col154\" >pipe_153</th>        <th class=\"col_heading level0 col155\" >pipe_154</th>        <th class=\"col_heading level0 col156\" >pipe_155</th>        <th class=\"col_heading level0 col157\" >pipe_156</th>        <th class=\"col_heading level0 col158\" >pipe_157</th>        <th class=\"col_heading level0 col159\" >pipe_158</th>        <th class=\"col_heading level0 col160\" >pipe_159</th>        <th class=\"col_heading level0 col161\" >pipe_160</th>        <th class=\"col_heading level0 col162\" >pipe_161</th>        <th class=\"col_heading level0 col163\" >pipe_162</th>        <th class=\"col_heading level0 col164\" >pipe_163</th>        <th class=\"col_heading level0 col165\" >pipe_164</th>        <th class=\"col_heading level0 col166\" >pipe_165</th>    </tr></thead><tbody>\n",
       "                <tr>\n",
       "                                <td id=\"T_319a8850_f4c1_11e9_84d2_008cfafbf396row0_col0\" class=\"data row0 col0\" >0</td>\n",
       "                        <td id=\"T_319a8850_f4c1_11e9_84d2_008cfafbf396row0_col1\" class=\"data row0 col1\" >StackedEnsemble_AllModels_AutoML_20191022_061525</td>\n",
       "                        <td id=\"T_319a8850_f4c1_11e9_84d2_008cfafbf396row0_col2\" class=\"data row0 col2\" >DeepLearning_grid_1_AutoML_20191022_061525_model_2</td>\n",
       "                        <td id=\"T_319a8850_f4c1_11e9_84d2_008cfafbf396row0_col3\" class=\"data row0 col3\" >GBM_grid_1_AutoML_20191022_061525_model_40</td>\n",
       "                        <td id=\"T_319a8850_f4c1_11e9_84d2_008cfafbf396row0_col4\" class=\"data row0 col4\" >GBM_grid_1_AutoML_20191022_061525_model_31</td>\n",
       "                        <td id=\"T_319a8850_f4c1_11e9_84d2_008cfafbf396row0_col5\" class=\"data row0 col5\" >DeepLearning_grid_1_AutoML_20191022_061525_model_9</td>\n",
       "                        <td id=\"T_319a8850_f4c1_11e9_84d2_008cfafbf396row0_col6\" class=\"data row0 col6\" >GBM_grid_1_AutoML_20191022_061525_model_18</td>\n",
       "                        <td id=\"T_319a8850_f4c1_11e9_84d2_008cfafbf396row0_col7\" class=\"data row0 col7\" >GBM_grid_1_AutoML_20191022_061525_model_39</td>\n",
       "                        <td id=\"T_319a8850_f4c1_11e9_84d2_008cfafbf396row0_col8\" class=\"data row0 col8\" >DeepLearning_grid_1_AutoML_20191022_061525_model_1</td>\n",
       "                        <td id=\"T_319a8850_f4c1_11e9_84d2_008cfafbf396row0_col9\" class=\"data row0 col9\" >DeepLearning_grid_1_AutoML_20191022_061525_model_15</td>\n",
       "                        <td id=\"T_319a8850_f4c1_11e9_84d2_008cfafbf396row0_col10\" class=\"data row0 col10\" >GBM_grid_1_AutoML_20191022_061525_model_19</td>\n",
       "                        <td id=\"T_319a8850_f4c1_11e9_84d2_008cfafbf396row0_col11\" class=\"data row0 col11\" >DeepLearning_grid_1_AutoML_20191022_061525_model_14</td>\n",
       "                        <td id=\"T_319a8850_f4c1_11e9_84d2_008cfafbf396row0_col12\" class=\"data row0 col12\" >GBM_grid_1_AutoML_20191022_061525_model_46</td>\n",
       "                        <td id=\"T_319a8850_f4c1_11e9_84d2_008cfafbf396row0_col13\" class=\"data row0 col13\" >DeepLearning_grid_1_AutoML_20191022_061525_model_18</td>\n",
       "                        <td id=\"T_319a8850_f4c1_11e9_84d2_008cfafbf396row0_col14\" class=\"data row0 col14\" >DeepLearning_grid_1_AutoML_20191022_061525_model_3</td>\n",
       "                        <td id=\"T_319a8850_f4c1_11e9_84d2_008cfafbf396row0_col15\" class=\"data row0 col15\" >DeepLearning_grid_1_AutoML_20191022_061525_model_8</td>\n",
       "                        <td id=\"T_319a8850_f4c1_11e9_84d2_008cfafbf396row0_col16\" class=\"data row0 col16\" >DeepLearning_grid_1_AutoML_20191022_061525_model_16</td>\n",
       "                        <td id=\"T_319a8850_f4c1_11e9_84d2_008cfafbf396row0_col17\" class=\"data row0 col17\" >DeepLearning_grid_1_AutoML_20191022_061525_model_4</td>\n",
       "                        <td id=\"T_319a8850_f4c1_11e9_84d2_008cfafbf396row0_col18\" class=\"data row0 col18\" >GBM_grid_1_AutoML_20191022_061525_model_41</td>\n",
       "                        <td id=\"T_319a8850_f4c1_11e9_84d2_008cfafbf396row0_col19\" class=\"data row0 col19\" >XGBoost_grid_1_AutoML_20191022_061525_model_13</td>\n",
       "                        <td id=\"T_319a8850_f4c1_11e9_84d2_008cfafbf396row0_col20\" class=\"data row0 col20\" >GBM_grid_1_AutoML_20191022_061525_model_15</td>\n",
       "                        <td id=\"T_319a8850_f4c1_11e9_84d2_008cfafbf396row0_col21\" class=\"data row0 col21\" >GBM_grid_1_AutoML_20191022_061525_model_35</td>\n",
       "                        <td id=\"T_319a8850_f4c1_11e9_84d2_008cfafbf396row0_col22\" class=\"data row0 col22\" >GBM_2_AutoML_20191022_061525</td>\n",
       "                        <td id=\"T_319a8850_f4c1_11e9_84d2_008cfafbf396row0_col23\" class=\"data row0 col23\" >GBM_grid_1_AutoML_20191022_061525_model_43</td>\n",
       "                        <td id=\"T_319a8850_f4c1_11e9_84d2_008cfafbf396row0_col24\" class=\"data row0 col24\" >GBM_grid_1_AutoML_20191022_061525_model_55</td>\n",
       "                        <td id=\"T_319a8850_f4c1_11e9_84d2_008cfafbf396row0_col25\" class=\"data row0 col25\" >GBM_grid_1_AutoML_20191022_061525_model_3</td>\n",
       "                        <td id=\"T_319a8850_f4c1_11e9_84d2_008cfafbf396row0_col26\" class=\"data row0 col26\" >GBM_3_AutoML_20191022_061525</td>\n",
       "                        <td id=\"T_319a8850_f4c1_11e9_84d2_008cfafbf396row0_col27\" class=\"data row0 col27\" >GBM_grid_1_AutoML_20191022_061525_model_45</td>\n",
       "                        <td id=\"T_319a8850_f4c1_11e9_84d2_008cfafbf396row0_col28\" class=\"data row0 col28\" >GBM_grid_1_AutoML_20191022_061525_model_32</td>\n",
       "                        <td id=\"T_319a8850_f4c1_11e9_84d2_008cfafbf396row0_col29\" class=\"data row0 col29\" >GBM_grid_1_AutoML_20191022_061525_model_26</td>\n",
       "                        <td id=\"T_319a8850_f4c1_11e9_84d2_008cfafbf396row0_col30\" class=\"data row0 col30\" >GBM_grid_1_AutoML_20191022_061525_model_47</td>\n",
       "                        <td id=\"T_319a8850_f4c1_11e9_84d2_008cfafbf396row0_col31\" class=\"data row0 col31\" >GBM_grid_1_AutoML_20191022_061525_model_6</td>\n",
       "                        <td id=\"T_319a8850_f4c1_11e9_84d2_008cfafbf396row0_col32\" class=\"data row0 col32\" >GBM_grid_1_AutoML_20191022_061525_model_27</td>\n",
       "                        <td id=\"T_319a8850_f4c1_11e9_84d2_008cfafbf396row0_col33\" class=\"data row0 col33\" >GBM_grid_1_AutoML_20191022_061525_model_48</td>\n",
       "                        <td id=\"T_319a8850_f4c1_11e9_84d2_008cfafbf396row0_col34\" class=\"data row0 col34\" >GBM_grid_1_AutoML_20191022_061525_model_20</td>\n",
       "                        <td id=\"T_319a8850_f4c1_11e9_84d2_008cfafbf396row0_col35\" class=\"data row0 col35\" >GBM_grid_1_AutoML_20191022_061525_model_57</td>\n",
       "                        <td id=\"T_319a8850_f4c1_11e9_84d2_008cfafbf396row0_col36\" class=\"data row0 col36\" >GBM_grid_1_AutoML_20191022_061525_model_59</td>\n",
       "                        <td id=\"T_319a8850_f4c1_11e9_84d2_008cfafbf396row0_col37\" class=\"data row0 col37\" >GBM_5_AutoML_20191022_061525</td>\n",
       "                        <td id=\"T_319a8850_f4c1_11e9_84d2_008cfafbf396row0_col38\" class=\"data row0 col38\" >GBM_grid_1_AutoML_20191022_061525_model_67</td>\n",
       "                        <td id=\"T_319a8850_f4c1_11e9_84d2_008cfafbf396row0_col39\" class=\"data row0 col39\" >GBM_grid_1_AutoML_20191022_061525_model_63</td>\n",
       "                        <td id=\"T_319a8850_f4c1_11e9_84d2_008cfafbf396row0_col40\" class=\"data row0 col40\" >XGBoost_grid_1_AutoML_20191022_061525_model_33</td>\n",
       "                        <td id=\"T_319a8850_f4c1_11e9_84d2_008cfafbf396row0_col41\" class=\"data row0 col41\" >GBM_grid_1_AutoML_20191022_061525_model_12</td>\n",
       "                        <td id=\"T_319a8850_f4c1_11e9_84d2_008cfafbf396row0_col42\" class=\"data row0 col42\" >DeepLearning_grid_1_AutoML_20191022_061525_model_5</td>\n",
       "                        <td id=\"T_319a8850_f4c1_11e9_84d2_008cfafbf396row0_col43\" class=\"data row0 col43\" >DeepLearning_grid_1_AutoML_20191022_061525_model_12</td>\n",
       "                        <td id=\"T_319a8850_f4c1_11e9_84d2_008cfafbf396row0_col44\" class=\"data row0 col44\" >GBM_4_AutoML_20191022_061525</td>\n",
       "                        <td id=\"T_319a8850_f4c1_11e9_84d2_008cfafbf396row0_col45\" class=\"data row0 col45\" >XGBoost_grid_1_AutoML_20191022_061525_model_61</td>\n",
       "                        <td id=\"T_319a8850_f4c1_11e9_84d2_008cfafbf396row0_col46\" class=\"data row0 col46\" >GBM_grid_1_AutoML_20191022_061525_model_66</td>\n",
       "                        <td id=\"T_319a8850_f4c1_11e9_84d2_008cfafbf396row0_col47\" class=\"data row0 col47\" >XGBoost_grid_1_AutoML_20191022_061525_model_38</td>\n",
       "                        <td id=\"T_319a8850_f4c1_11e9_84d2_008cfafbf396row0_col48\" class=\"data row0 col48\" >DeepLearning_grid_1_AutoML_20191022_061525_model_17</td>\n",
       "                        <td id=\"T_319a8850_f4c1_11e9_84d2_008cfafbf396row0_col49\" class=\"data row0 col49\" >DeepLearning_grid_1_AutoML_20191022_061525_model_10</td>\n",
       "                        <td id=\"T_319a8850_f4c1_11e9_84d2_008cfafbf396row0_col50\" class=\"data row0 col50\" >GBM_grid_1_AutoML_20191022_061525_model_56</td>\n",
       "                        <td id=\"T_319a8850_f4c1_11e9_84d2_008cfafbf396row0_col51\" class=\"data row0 col51\" >GLM_grid_1_AutoML_20191022_061525_model_1</td>\n",
       "                        <td id=\"T_319a8850_f4c1_11e9_84d2_008cfafbf396row0_col52\" class=\"data row0 col52\" >XGBoost_grid_1_AutoML_20191022_061525_model_52</td>\n",
       "                        <td id=\"T_319a8850_f4c1_11e9_84d2_008cfafbf396row0_col53\" class=\"data row0 col53\" >GBM_grid_1_AutoML_20191022_061525_model_17</td>\n",
       "                        <td id=\"T_319a8850_f4c1_11e9_84d2_008cfafbf396row0_col54\" class=\"data row0 col54\" >XGBoost_grid_1_AutoML_20191022_061525_model_35</td>\n",
       "                        <td id=\"T_319a8850_f4c1_11e9_84d2_008cfafbf396row0_col55\" class=\"data row0 col55\" >XGBoost_grid_1_AutoML_20191022_061525_model_55</td>\n",
       "                        <td id=\"T_319a8850_f4c1_11e9_84d2_008cfafbf396row0_col56\" class=\"data row0 col56\" >XGBoost_grid_1_AutoML_20191022_061525_model_46</td>\n",
       "                        <td id=\"T_319a8850_f4c1_11e9_84d2_008cfafbf396row0_col57\" class=\"data row0 col57\" >GBM_grid_1_AutoML_20191022_061525_model_62</td>\n",
       "                        <td id=\"T_319a8850_f4c1_11e9_84d2_008cfafbf396row0_col58\" class=\"data row0 col58\" >XRT_1_AutoML_20191022_061525</td>\n",
       "                        <td id=\"T_319a8850_f4c1_11e9_84d2_008cfafbf396row0_col59\" class=\"data row0 col59\" >GBM_grid_1_AutoML_20191022_061525_model_1</td>\n",
       "                        <td id=\"T_319a8850_f4c1_11e9_84d2_008cfafbf396row0_col60\" class=\"data row0 col60\" >GBM_grid_1_AutoML_20191022_061525_model_10</td>\n",
       "                        <td id=\"T_319a8850_f4c1_11e9_84d2_008cfafbf396row0_col61\" class=\"data row0 col61\" >XGBoost_grid_1_AutoML_20191022_061525_model_8</td>\n",
       "                        <td id=\"T_319a8850_f4c1_11e9_84d2_008cfafbf396row0_col62\" class=\"data row0 col62\" >XGBoost_grid_1_AutoML_20191022_061525_model_45</td>\n",
       "                        <td id=\"T_319a8850_f4c1_11e9_84d2_008cfafbf396row0_col63\" class=\"data row0 col63\" >GBM_1_AutoML_20191022_061525</td>\n",
       "                        <td id=\"T_319a8850_f4c1_11e9_84d2_008cfafbf396row0_col64\" class=\"data row0 col64\" >GBM_grid_1_AutoML_20191022_061525_model_14</td>\n",
       "                        <td id=\"T_319a8850_f4c1_11e9_84d2_008cfafbf396row0_col65\" class=\"data row0 col65\" >GBM_grid_1_AutoML_20191022_061525_model_42</td>\n",
       "                        <td id=\"T_319a8850_f4c1_11e9_84d2_008cfafbf396row0_col66\" class=\"data row0 col66\" >XGBoost_grid_1_AutoML_20191022_061525_model_48</td>\n",
       "                        <td id=\"T_319a8850_f4c1_11e9_84d2_008cfafbf396row0_col67\" class=\"data row0 col67\" >GBM_grid_1_AutoML_20191022_061525_model_11</td>\n",
       "                        <td id=\"T_319a8850_f4c1_11e9_84d2_008cfafbf396row0_col68\" class=\"data row0 col68\" >XGBoost_grid_1_AutoML_20191022_061525_model_30</td>\n",
       "                        <td id=\"T_319a8850_f4c1_11e9_84d2_008cfafbf396row0_col69\" class=\"data row0 col69\" >GBM_grid_1_AutoML_20191022_061525_model_16</td>\n",
       "                        <td id=\"T_319a8850_f4c1_11e9_84d2_008cfafbf396row0_col70\" class=\"data row0 col70\" >GBM_grid_1_AutoML_20191022_061525_model_24</td>\n",
       "                        <td id=\"T_319a8850_f4c1_11e9_84d2_008cfafbf396row0_col71\" class=\"data row0 col71\" >DRF_1_AutoML_20191022_061525</td>\n",
       "                        <td id=\"T_319a8850_f4c1_11e9_84d2_008cfafbf396row0_col72\" class=\"data row0 col72\" >XGBoost_grid_1_AutoML_20191022_061525_model_17</td>\n",
       "                        <td id=\"T_319a8850_f4c1_11e9_84d2_008cfafbf396row0_col73\" class=\"data row0 col73\" >DeepLearning_grid_1_AutoML_20191022_061525_model_13</td>\n",
       "                        <td id=\"T_319a8850_f4c1_11e9_84d2_008cfafbf396row0_col74\" class=\"data row0 col74\" >GBM_grid_1_AutoML_20191022_061525_model_54</td>\n",
       "                        <td id=\"T_319a8850_f4c1_11e9_84d2_008cfafbf396row0_col75\" class=\"data row0 col75\" >DeepLearning_grid_1_AutoML_20191022_061525_model_11</td>\n",
       "                        <td id=\"T_319a8850_f4c1_11e9_84d2_008cfafbf396row0_col76\" class=\"data row0 col76\" >GBM_grid_1_AutoML_20191022_061525_model_13</td>\n",
       "                        <td id=\"T_319a8850_f4c1_11e9_84d2_008cfafbf396row0_col77\" class=\"data row0 col77\" >GBM_grid_1_AutoML_20191022_061525_model_58</td>\n",
       "                        <td id=\"T_319a8850_f4c1_11e9_84d2_008cfafbf396row0_col78\" class=\"data row0 col78\" >XGBoost_3_AutoML_20191022_061525</td>\n",
       "                        <td id=\"T_319a8850_f4c1_11e9_84d2_008cfafbf396row0_col79\" class=\"data row0 col79\" >XGBoost_grid_1_AutoML_20191022_061525_model_49</td>\n",
       "                        <td id=\"T_319a8850_f4c1_11e9_84d2_008cfafbf396row0_col80\" class=\"data row0 col80\" >GBM_grid_1_AutoML_20191022_061525_model_52</td>\n",
       "                        <td id=\"T_319a8850_f4c1_11e9_84d2_008cfafbf396row0_col81\" class=\"data row0 col81\" >XGBoost_grid_1_AutoML_20191022_061525_model_37</td>\n",
       "                        <td id=\"T_319a8850_f4c1_11e9_84d2_008cfafbf396row0_col82\" class=\"data row0 col82\" >XGBoost_1_AutoML_20191022_061525</td>\n",
       "                        <td id=\"T_319a8850_f4c1_11e9_84d2_008cfafbf396row0_col83\" class=\"data row0 col83\" >XGBoost_grid_1_AutoML_20191022_061525_model_25</td>\n",
       "                        <td id=\"T_319a8850_f4c1_11e9_84d2_008cfafbf396row0_col84\" class=\"data row0 col84\" >GBM_grid_1_AutoML_20191022_061525_model_53</td>\n",
       "                        <td id=\"T_319a8850_f4c1_11e9_84d2_008cfafbf396row0_col85\" class=\"data row0 col85\" >XGBoost_grid_1_AutoML_20191022_061525_model_62</td>\n",
       "                        <td id=\"T_319a8850_f4c1_11e9_84d2_008cfafbf396row0_col86\" class=\"data row0 col86\" >XGBoost_grid_1_AutoML_20191022_061525_model_57</td>\n",
       "                        <td id=\"T_319a8850_f4c1_11e9_84d2_008cfafbf396row0_col87\" class=\"data row0 col87\" >XGBoost_grid_1_AutoML_20191022_061525_model_21</td>\n",
       "                        <td id=\"T_319a8850_f4c1_11e9_84d2_008cfafbf396row0_col88\" class=\"data row0 col88\" >DeepLearning_grid_1_AutoML_20191022_061525_model_6</td>\n",
       "                        <td id=\"T_319a8850_f4c1_11e9_84d2_008cfafbf396row0_col89\" class=\"data row0 col89\" >XGBoost_grid_1_AutoML_20191022_061525_model_18</td>\n",
       "                        <td id=\"T_319a8850_f4c1_11e9_84d2_008cfafbf396row0_col90\" class=\"data row0 col90\" >XGBoost_grid_1_AutoML_20191022_061525_model_26</td>\n",
       "                        <td id=\"T_319a8850_f4c1_11e9_84d2_008cfafbf396row0_col91\" class=\"data row0 col91\" >XGBoost_grid_1_AutoML_20191022_061525_model_47</td>\n",
       "                        <td id=\"T_319a8850_f4c1_11e9_84d2_008cfafbf396row0_col92\" class=\"data row0 col92\" >XGBoost_grid_1_AutoML_20191022_061525_model_15</td>\n",
       "                        <td id=\"T_319a8850_f4c1_11e9_84d2_008cfafbf396row0_col93\" class=\"data row0 col93\" >GBM_grid_1_AutoML_20191022_061525_model_8</td>\n",
       "                        <td id=\"T_319a8850_f4c1_11e9_84d2_008cfafbf396row0_col94\" class=\"data row0 col94\" >GBM_grid_1_AutoML_20191022_061525_model_9</td>\n",
       "                        <td id=\"T_319a8850_f4c1_11e9_84d2_008cfafbf396row0_col95\" class=\"data row0 col95\" >XGBoost_grid_1_AutoML_20191022_061525_model_20</td>\n",
       "                        <td id=\"T_319a8850_f4c1_11e9_84d2_008cfafbf396row0_col96\" class=\"data row0 col96\" >XGBoost_grid_1_AutoML_20191022_061525_model_36</td>\n",
       "                        <td id=\"T_319a8850_f4c1_11e9_84d2_008cfafbf396row0_col97\" class=\"data row0 col97\" >XGBoost_grid_1_AutoML_20191022_061525_model_27</td>\n",
       "                        <td id=\"T_319a8850_f4c1_11e9_84d2_008cfafbf396row0_col98\" class=\"data row0 col98\" >XGBoost_grid_1_AutoML_20191022_061525_model_34</td>\n",
       "                        <td id=\"T_319a8850_f4c1_11e9_84d2_008cfafbf396row0_col99\" class=\"data row0 col99\" >XGBoost_grid_1_AutoML_20191022_061525_model_4</td>\n",
       "                        <td id=\"T_319a8850_f4c1_11e9_84d2_008cfafbf396row0_col100\" class=\"data row0 col100\" >XGBoost_grid_1_AutoML_20191022_061525_model_31</td>\n",
       "                        <td id=\"T_319a8850_f4c1_11e9_84d2_008cfafbf396row0_col101\" class=\"data row0 col101\" >DeepLearning_grid_1_AutoML_20191022_061525_model_19</td>\n",
       "                        <td id=\"T_319a8850_f4c1_11e9_84d2_008cfafbf396row0_col102\" class=\"data row0 col102\" >XGBoost_grid_1_AutoML_20191022_061525_model_2</td>\n",
       "                        <td id=\"T_319a8850_f4c1_11e9_84d2_008cfafbf396row0_col103\" class=\"data row0 col103\" >GBM_grid_1_AutoML_20191022_061525_model_68</td>\n",
       "                        <td id=\"T_319a8850_f4c1_11e9_84d2_008cfafbf396row0_col104\" class=\"data row0 col104\" >GBM_grid_1_AutoML_20191022_061525_model_29</td>\n",
       "                        <td id=\"T_319a8850_f4c1_11e9_84d2_008cfafbf396row0_col105\" class=\"data row0 col105\" >XGBoost_grid_1_AutoML_20191022_061525_model_41</td>\n",
       "                        <td id=\"T_319a8850_f4c1_11e9_84d2_008cfafbf396row0_col106\" class=\"data row0 col106\" >XGBoost_grid_1_AutoML_20191022_061525_model_50</td>\n",
       "                        <td id=\"T_319a8850_f4c1_11e9_84d2_008cfafbf396row0_col107\" class=\"data row0 col107\" >XGBoost_grid_1_AutoML_20191022_061525_model_29</td>\n",
       "                        <td id=\"T_319a8850_f4c1_11e9_84d2_008cfafbf396row0_col108\" class=\"data row0 col108\" >GBM_grid_1_AutoML_20191022_061525_model_28</td>\n",
       "                        <td id=\"T_319a8850_f4c1_11e9_84d2_008cfafbf396row0_col109\" class=\"data row0 col109\" >XGBoost_grid_1_AutoML_20191022_061525_model_28</td>\n",
       "                        <td id=\"T_319a8850_f4c1_11e9_84d2_008cfafbf396row0_col110\" class=\"data row0 col110\" >XGBoost_grid_1_AutoML_20191022_061525_model_3</td>\n",
       "                        <td id=\"T_319a8850_f4c1_11e9_84d2_008cfafbf396row0_col111\" class=\"data row0 col111\" >XGBoost_grid_1_AutoML_20191022_061525_model_32</td>\n",
       "                        <td id=\"T_319a8850_f4c1_11e9_84d2_008cfafbf396row0_col112\" class=\"data row0 col112\" >XGBoost_grid_1_AutoML_20191022_061525_model_59</td>\n",
       "                        <td id=\"T_319a8850_f4c1_11e9_84d2_008cfafbf396row0_col113\" class=\"data row0 col113\" >XGBoost_grid_1_AutoML_20191022_061525_model_23</td>\n",
       "                        <td id=\"T_319a8850_f4c1_11e9_84d2_008cfafbf396row0_col114\" class=\"data row0 col114\" >XGBoost_grid_1_AutoML_20191022_061525_model_7</td>\n",
       "                        <td id=\"T_319a8850_f4c1_11e9_84d2_008cfafbf396row0_col115\" class=\"data row0 col115\" >XGBoost_grid_1_AutoML_20191022_061525_model_19</td>\n",
       "                        <td id=\"T_319a8850_f4c1_11e9_84d2_008cfafbf396row0_col116\" class=\"data row0 col116\" >XGBoost_grid_1_AutoML_20191022_061525_model_53</td>\n",
       "                        <td id=\"T_319a8850_f4c1_11e9_84d2_008cfafbf396row0_col117\" class=\"data row0 col117\" >GBM_grid_1_AutoML_20191022_061525_model_25</td>\n",
       "                        <td id=\"T_319a8850_f4c1_11e9_84d2_008cfafbf396row0_col118\" class=\"data row0 col118\" >GBM_grid_1_AutoML_20191022_061525_model_21</td>\n",
       "                        <td id=\"T_319a8850_f4c1_11e9_84d2_008cfafbf396row0_col119\" class=\"data row0 col119\" >GBM_grid_1_AutoML_20191022_061525_model_70</td>\n",
       "                        <td id=\"T_319a8850_f4c1_11e9_84d2_008cfafbf396row0_col120\" class=\"data row0 col120\" >XGBoost_2_AutoML_20191022_061525</td>\n",
       "                        <td id=\"T_319a8850_f4c1_11e9_84d2_008cfafbf396row0_col121\" class=\"data row0 col121\" >GBM_grid_1_AutoML_20191022_061525_model_30</td>\n",
       "                        <td id=\"T_319a8850_f4c1_11e9_84d2_008cfafbf396row0_col122\" class=\"data row0 col122\" >GBM_grid_1_AutoML_20191022_061525_model_7</td>\n",
       "                        <td id=\"T_319a8850_f4c1_11e9_84d2_008cfafbf396row0_col123\" class=\"data row0 col123\" >GBM_grid_1_AutoML_20191022_061525_model_23</td>\n",
       "                        <td id=\"T_319a8850_f4c1_11e9_84d2_008cfafbf396row0_col124\" class=\"data row0 col124\" >GBM_grid_1_AutoML_20191022_061525_model_38</td>\n",
       "                        <td id=\"T_319a8850_f4c1_11e9_84d2_008cfafbf396row0_col125\" class=\"data row0 col125\" >XGBoost_grid_1_AutoML_20191022_061525_model_42</td>\n",
       "                        <td id=\"T_319a8850_f4c1_11e9_84d2_008cfafbf396row0_col126\" class=\"data row0 col126\" >XGBoost_grid_1_AutoML_20191022_061525_model_56</td>\n",
       "                        <td id=\"T_319a8850_f4c1_11e9_84d2_008cfafbf396row0_col127\" class=\"data row0 col127\" >DeepLearning_grid_1_AutoML_20191022_061525_model_7</td>\n",
       "                        <td id=\"T_319a8850_f4c1_11e9_84d2_008cfafbf396row0_col128\" class=\"data row0 col128\" >XGBoost_grid_1_AutoML_20191022_061525_model_5</td>\n",
       "                        <td id=\"T_319a8850_f4c1_11e9_84d2_008cfafbf396row0_col129\" class=\"data row0 col129\" >XGBoost_grid_1_AutoML_20191022_061525_model_22</td>\n",
       "                        <td id=\"T_319a8850_f4c1_11e9_84d2_008cfafbf396row0_col130\" class=\"data row0 col130\" >XGBoost_grid_1_AutoML_20191022_061525_model_44</td>\n",
       "                        <td id=\"T_319a8850_f4c1_11e9_84d2_008cfafbf396row0_col131\" class=\"data row0 col131\" >GBM_grid_1_AutoML_20191022_061525_model_33</td>\n",
       "                        <td id=\"T_319a8850_f4c1_11e9_84d2_008cfafbf396row0_col132\" class=\"data row0 col132\" >XGBoost_grid_1_AutoML_20191022_061525_model_58</td>\n",
       "                        <td id=\"T_319a8850_f4c1_11e9_84d2_008cfafbf396row0_col133\" class=\"data row0 col133\" >XGBoost_grid_1_AutoML_20191022_061525_model_54</td>\n",
       "                        <td id=\"T_319a8850_f4c1_11e9_84d2_008cfafbf396row0_col134\" class=\"data row0 col134\" >XGBoost_grid_1_AutoML_20191022_061525_model_39</td>\n",
       "                        <td id=\"T_319a8850_f4c1_11e9_84d2_008cfafbf396row0_col135\" class=\"data row0 col135\" >XGBoost_grid_1_AutoML_20191022_061525_model_63</td>\n",
       "                        <td id=\"T_319a8850_f4c1_11e9_84d2_008cfafbf396row0_col136\" class=\"data row0 col136\" >XGBoost_grid_1_AutoML_20191022_061525_model_12</td>\n",
       "                        <td id=\"T_319a8850_f4c1_11e9_84d2_008cfafbf396row0_col137\" class=\"data row0 col137\" >XGBoost_grid_1_AutoML_20191022_061525_model_43</td>\n",
       "                        <td id=\"T_319a8850_f4c1_11e9_84d2_008cfafbf396row0_col138\" class=\"data row0 col138\" >GBM_grid_1_AutoML_20191022_061525_model_5</td>\n",
       "                        <td id=\"T_319a8850_f4c1_11e9_84d2_008cfafbf396row0_col139\" class=\"data row0 col139\" >XGBoost_grid_1_AutoML_20191022_061525_model_11</td>\n",
       "                        <td id=\"T_319a8850_f4c1_11e9_84d2_008cfafbf396row0_col140\" class=\"data row0 col140\" >XGBoost_grid_1_AutoML_20191022_061525_model_6</td>\n",
       "                        <td id=\"T_319a8850_f4c1_11e9_84d2_008cfafbf396row0_col141\" class=\"data row0 col141\" >XGBoost_grid_1_AutoML_20191022_061525_model_1</td>\n",
       "                        <td id=\"T_319a8850_f4c1_11e9_84d2_008cfafbf396row0_col142\" class=\"data row0 col142\" >GBM_grid_1_AutoML_20191022_061525_model_37</td>\n",
       "                        <td id=\"T_319a8850_f4c1_11e9_84d2_008cfafbf396row0_col143\" class=\"data row0 col143\" >XGBoost_grid_1_AutoML_20191022_061525_model_40</td>\n",
       "                        <td id=\"T_319a8850_f4c1_11e9_84d2_008cfafbf396row0_col144\" class=\"data row0 col144\" >GBM_grid_1_AutoML_20191022_061525_model_61</td>\n",
       "                        <td id=\"T_319a8850_f4c1_11e9_84d2_008cfafbf396row0_col145\" class=\"data row0 col145\" >XGBoost_grid_1_AutoML_20191022_061525_model_14</td>\n",
       "                        <td id=\"T_319a8850_f4c1_11e9_84d2_008cfafbf396row0_col146\" class=\"data row0 col146\" >XGBoost_grid_1_AutoML_20191022_061525_model_60</td>\n",
       "                        <td id=\"T_319a8850_f4c1_11e9_84d2_008cfafbf396row0_col147\" class=\"data row0 col147\" >XGBoost_grid_1_AutoML_20191022_061525_model_24</td>\n",
       "                        <td id=\"T_319a8850_f4c1_11e9_84d2_008cfafbf396row0_col148\" class=\"data row0 col148\" >XGBoost_grid_1_AutoML_20191022_061525_model_10</td>\n",
       "                        <td id=\"T_319a8850_f4c1_11e9_84d2_008cfafbf396row0_col149\" class=\"data row0 col149\" >GBM_grid_1_AutoML_20191022_061525_model_69</td>\n",
       "                        <td id=\"T_319a8850_f4c1_11e9_84d2_008cfafbf396row0_col150\" class=\"data row0 col150\" >GBM_grid_1_AutoML_20191022_061525_model_4</td>\n",
       "                        <td id=\"T_319a8850_f4c1_11e9_84d2_008cfafbf396row0_col151\" class=\"data row0 col151\" >XGBoost_grid_1_AutoML_20191022_061525_model_16</td>\n",
       "                        <td id=\"T_319a8850_f4c1_11e9_84d2_008cfafbf396row0_col152\" class=\"data row0 col152\" >XGBoost_grid_1_AutoML_20191022_061525_model_51</td>\n",
       "                        <td id=\"T_319a8850_f4c1_11e9_84d2_008cfafbf396row0_col153\" class=\"data row0 col153\" >XGBoost_grid_1_AutoML_20191022_061525_model_9</td>\n",
       "                        <td id=\"T_319a8850_f4c1_11e9_84d2_008cfafbf396row0_col154\" class=\"data row0 col154\" >GBM_grid_1_AutoML_20191022_061525_model_34</td>\n",
       "                        <td id=\"T_319a8850_f4c1_11e9_84d2_008cfafbf396row0_col155\" class=\"data row0 col155\" >GBM_grid_1_AutoML_20191022_061525_model_50</td>\n",
       "                        <td id=\"T_319a8850_f4c1_11e9_84d2_008cfafbf396row0_col156\" class=\"data row0 col156\" >GBM_grid_1_AutoML_20191022_061525_model_51</td>\n",
       "                        <td id=\"T_319a8850_f4c1_11e9_84d2_008cfafbf396row0_col157\" class=\"data row0 col157\" >DeepLearning_1_AutoML_20191022_061525</td>\n",
       "                        <td id=\"T_319a8850_f4c1_11e9_84d2_008cfafbf396row0_col158\" class=\"data row0 col158\" >GBM_grid_1_AutoML_20191022_061525_model_2</td>\n",
       "                        <td id=\"T_319a8850_f4c1_11e9_84d2_008cfafbf396row0_col159\" class=\"data row0 col159\" >GBM_grid_1_AutoML_20191022_061525_model_64</td>\n",
       "                        <td id=\"T_319a8850_f4c1_11e9_84d2_008cfafbf396row0_col160\" class=\"data row0 col160\" >GBM_grid_1_AutoML_20191022_061525_model_49</td>\n",
       "                        <td id=\"T_319a8850_f4c1_11e9_84d2_008cfafbf396row0_col161\" class=\"data row0 col161\" >GBM_grid_1_AutoML_20191022_061525_model_44</td>\n",
       "                        <td id=\"T_319a8850_f4c1_11e9_84d2_008cfafbf396row0_col162\" class=\"data row0 col162\" >XGBoost_grid_1_AutoML_20191022_061525_model_64</td>\n",
       "                        <td id=\"T_319a8850_f4c1_11e9_84d2_008cfafbf396row0_col163\" class=\"data row0 col163\" >GBM_grid_1_AutoML_20191022_061525_model_22</td>\n",
       "                        <td id=\"T_319a8850_f4c1_11e9_84d2_008cfafbf396row0_col164\" class=\"data row0 col164\" >GBM_grid_1_AutoML_20191022_061525_model_60</td>\n",
       "                        <td id=\"T_319a8850_f4c1_11e9_84d2_008cfafbf396row0_col165\" class=\"data row0 col165\" >GBM_grid_1_AutoML_20191022_061525_model_65</td>\n",
       "                        <td id=\"T_319a8850_f4c1_11e9_84d2_008cfafbf396row0_col166\" class=\"data row0 col166\" >GBM_grid_1_AutoML_20191022_061525_model_36</td>\n",
       "            </tr>\n",
       "            <tr>\n",
       "                                <td id=\"T_319a8850_f4c1_11e9_84d2_008cfafbf396row1_col0\" class=\"data row1 col0\" >12</td>\n",
       "                        <td id=\"T_319a8850_f4c1_11e9_84d2_008cfafbf396row1_col1\" class=\"data row1 col1\" >StackedEnsemble_AllModels_AutoML_20191022_062727</td>\n",
       "                        <td id=\"T_319a8850_f4c1_11e9_84d2_008cfafbf396row1_col2\" class=\"data row1 col2\" >DeepLearning_grid_1_AutoML_20191022_062727_model_16</td>\n",
       "                        <td id=\"T_319a8850_f4c1_11e9_84d2_008cfafbf396row1_col3\" class=\"data row1 col3\" >DeepLearning_grid_1_AutoML_20191022_062727_model_3</td>\n",
       "                        <td id=\"T_319a8850_f4c1_11e9_84d2_008cfafbf396row1_col4\" class=\"data row1 col4\" >DeepLearning_grid_1_AutoML_20191022_062727_model_2</td>\n",
       "                        <td id=\"T_319a8850_f4c1_11e9_84d2_008cfafbf396row1_col5\" class=\"data row1 col5\" >DeepLearning_grid_1_AutoML_20191022_062727_model_4</td>\n",
       "                        <td id=\"T_319a8850_f4c1_11e9_84d2_008cfafbf396row1_col6\" class=\"data row1 col6\" >DeepLearning_grid_1_AutoML_20191022_062727_model_9</td>\n",
       "                        <td id=\"T_319a8850_f4c1_11e9_84d2_008cfafbf396row1_col7\" class=\"data row1 col7\" >GBM_3_AutoML_20191022_062727</td>\n",
       "                        <td id=\"T_319a8850_f4c1_11e9_84d2_008cfafbf396row1_col8\" class=\"data row1 col8\" >DeepLearning_grid_1_AutoML_20191022_062727_model_12</td>\n",
       "                        <td id=\"T_319a8850_f4c1_11e9_84d2_008cfafbf396row1_col9\" class=\"data row1 col9\" >GBM_grid_1_AutoML_20191022_062727_model_12</td>\n",
       "                        <td id=\"T_319a8850_f4c1_11e9_84d2_008cfafbf396row1_col10\" class=\"data row1 col10\" >GBM_4_AutoML_20191022_062727</td>\n",
       "                        <td id=\"T_319a8850_f4c1_11e9_84d2_008cfafbf396row1_col11\" class=\"data row1 col11\" >GBM_grid_1_AutoML_20191022_062727_model_41</td>\n",
       "                        <td id=\"T_319a8850_f4c1_11e9_84d2_008cfafbf396row1_col12\" class=\"data row1 col12\" >GBM_2_AutoML_20191022_062727</td>\n",
       "                        <td id=\"T_319a8850_f4c1_11e9_84d2_008cfafbf396row1_col13\" class=\"data row1 col13\" >GBM_grid_1_AutoML_20191022_062727_model_55</td>\n",
       "                        <td id=\"T_319a8850_f4c1_11e9_84d2_008cfafbf396row1_col14\" class=\"data row1 col14\" >DeepLearning_grid_1_AutoML_20191022_062727_model_11</td>\n",
       "                        <td id=\"T_319a8850_f4c1_11e9_84d2_008cfafbf396row1_col15\" class=\"data row1 col15\" >GBM_grid_1_AutoML_20191022_062727_model_46</td>\n",
       "                        <td id=\"T_319a8850_f4c1_11e9_84d2_008cfafbf396row1_col16\" class=\"data row1 col16\" >GBM_grid_1_AutoML_20191022_062727_model_15</td>\n",
       "                        <td id=\"T_319a8850_f4c1_11e9_84d2_008cfafbf396row1_col17\" class=\"data row1 col17\" >GBM_grid_1_AutoML_20191022_062727_model_31</td>\n",
       "                        <td id=\"T_319a8850_f4c1_11e9_84d2_008cfafbf396row1_col18\" class=\"data row1 col18\" >GBM_grid_1_AutoML_20191022_062727_model_45</td>\n",
       "                        <td id=\"T_319a8850_f4c1_11e9_84d2_008cfafbf396row1_col19\" class=\"data row1 col19\" >GBM_grid_1_AutoML_20191022_062727_model_39</td>\n",
       "                        <td id=\"T_319a8850_f4c1_11e9_84d2_008cfafbf396row1_col20\" class=\"data row1 col20\" >DeepLearning_grid_1_AutoML_20191022_062727_model_1</td>\n",
       "                        <td id=\"T_319a8850_f4c1_11e9_84d2_008cfafbf396row1_col21\" class=\"data row1 col21\" >GBM_grid_1_AutoML_20191022_062727_model_48</td>\n",
       "                        <td id=\"T_319a8850_f4c1_11e9_84d2_008cfafbf396row1_col22\" class=\"data row1 col22\" >GBM_grid_1_AutoML_20191022_062727_model_19</td>\n",
       "                        <td id=\"T_319a8850_f4c1_11e9_84d2_008cfafbf396row1_col23\" class=\"data row1 col23\" >DeepLearning_grid_1_AutoML_20191022_062727_model_15</td>\n",
       "                        <td id=\"T_319a8850_f4c1_11e9_84d2_008cfafbf396row1_col24\" class=\"data row1 col24\" >GBM_grid_1_AutoML_20191022_062727_model_47</td>\n",
       "                        <td id=\"T_319a8850_f4c1_11e9_84d2_008cfafbf396row1_col25\" class=\"data row1 col25\" >DeepLearning_grid_1_AutoML_20191022_062727_model_8</td>\n",
       "                        <td id=\"T_319a8850_f4c1_11e9_84d2_008cfafbf396row1_col26\" class=\"data row1 col26\" >DeepLearning_grid_1_AutoML_20191022_062727_model_13</td>\n",
       "                        <td id=\"T_319a8850_f4c1_11e9_84d2_008cfafbf396row1_col27\" class=\"data row1 col27\" >GBM_grid_1_AutoML_20191022_062727_model_3</td>\n",
       "                        <td id=\"T_319a8850_f4c1_11e9_84d2_008cfafbf396row1_col28\" class=\"data row1 col28\" >DeepLearning_grid_1_AutoML_20191022_062727_model_5</td>\n",
       "                        <td id=\"T_319a8850_f4c1_11e9_84d2_008cfafbf396row1_col29\" class=\"data row1 col29\" >GBM_grid_1_AutoML_20191022_062727_model_26</td>\n",
       "                        <td id=\"T_319a8850_f4c1_11e9_84d2_008cfafbf396row1_col30\" class=\"data row1 col30\" >GBM_grid_1_AutoML_20191022_062727_model_18</td>\n",
       "                        <td id=\"T_319a8850_f4c1_11e9_84d2_008cfafbf396row1_col31\" class=\"data row1 col31\" >GBM_grid_1_AutoML_20191022_062727_model_20</td>\n",
       "                        <td id=\"T_319a8850_f4c1_11e9_84d2_008cfafbf396row1_col32\" class=\"data row1 col32\" >GBM_grid_1_AutoML_20191022_062727_model_57</td>\n",
       "                        <td id=\"T_319a8850_f4c1_11e9_84d2_008cfafbf396row1_col33\" class=\"data row1 col33\" >DeepLearning_grid_1_AutoML_20191022_062727_model_10</td>\n",
       "                        <td id=\"T_319a8850_f4c1_11e9_84d2_008cfafbf396row1_col34\" class=\"data row1 col34\" >GBM_5_AutoML_20191022_062727</td>\n",
       "                        <td id=\"T_319a8850_f4c1_11e9_84d2_008cfafbf396row1_col35\" class=\"data row1 col35\" >GBM_grid_1_AutoML_20191022_062727_model_27</td>\n",
       "                        <td id=\"T_319a8850_f4c1_11e9_84d2_008cfafbf396row1_col36\" class=\"data row1 col36\" >GBM_grid_1_AutoML_20191022_062727_model_35</td>\n",
       "                        <td id=\"T_319a8850_f4c1_11e9_84d2_008cfafbf396row1_col37\" class=\"data row1 col37\" >GBM_grid_1_AutoML_20191022_062727_model_17</td>\n",
       "                        <td id=\"T_319a8850_f4c1_11e9_84d2_008cfafbf396row1_col38\" class=\"data row1 col38\" >GBM_grid_1_AutoML_20191022_062727_model_11</td>\n",
       "                        <td id=\"T_319a8850_f4c1_11e9_84d2_008cfafbf396row1_col39\" class=\"data row1 col39\" >GBM_grid_1_AutoML_20191022_062727_model_49</td>\n",
       "                        <td id=\"T_319a8850_f4c1_11e9_84d2_008cfafbf396row1_col40\" class=\"data row1 col40\" >XGBoost_grid_1_AutoML_20191022_062727_model_13</td>\n",
       "                        <td id=\"T_319a8850_f4c1_11e9_84d2_008cfafbf396row1_col41\" class=\"data row1 col41\" >GBM_grid_1_AutoML_20191022_062727_model_62</td>\n",
       "                        <td id=\"T_319a8850_f4c1_11e9_84d2_008cfafbf396row1_col42\" class=\"data row1 col42\" >GBM_grid_1_AutoML_20191022_062727_model_40</td>\n",
       "                        <td id=\"T_319a8850_f4c1_11e9_84d2_008cfafbf396row1_col43\" class=\"data row1 col43\" >GBM_grid_1_AutoML_20191022_062727_model_16</td>\n",
       "                        <td id=\"T_319a8850_f4c1_11e9_84d2_008cfafbf396row1_col44\" class=\"data row1 col44\" >GBM_grid_1_AutoML_20191022_062727_model_1</td>\n",
       "                        <td id=\"T_319a8850_f4c1_11e9_84d2_008cfafbf396row1_col45\" class=\"data row1 col45\" >GLM_grid_1_AutoML_20191022_062727_model_1</td>\n",
       "                        <td id=\"T_319a8850_f4c1_11e9_84d2_008cfafbf396row1_col46\" class=\"data row1 col46\" >GBM_grid_1_AutoML_20191022_062727_model_59</td>\n",
       "                        <td id=\"T_319a8850_f4c1_11e9_84d2_008cfafbf396row1_col47\" class=\"data row1 col47\" >DeepLearning_grid_1_AutoML_20191022_062727_model_17</td>\n",
       "                        <td id=\"T_319a8850_f4c1_11e9_84d2_008cfafbf396row1_col48\" class=\"data row1 col48\" >XGBoost_grid_1_AutoML_20191022_062727_model_52</td>\n",
       "                        <td id=\"T_319a8850_f4c1_11e9_84d2_008cfafbf396row1_col49\" class=\"data row1 col49\" >XGBoost_1_AutoML_20191022_062727</td>\n",
       "                        <td id=\"T_319a8850_f4c1_11e9_84d2_008cfafbf396row1_col50\" class=\"data row1 col50\" >GBM_grid_1_AutoML_20191022_062727_model_63</td>\n",
       "                        <td id=\"T_319a8850_f4c1_11e9_84d2_008cfafbf396row1_col51\" class=\"data row1 col51\" >GBM_grid_1_AutoML_20191022_062727_model_43</td>\n",
       "                        <td id=\"T_319a8850_f4c1_11e9_84d2_008cfafbf396row1_col52\" class=\"data row1 col52\" >GBM_grid_1_AutoML_20191022_062727_model_58</td>\n",
       "                        <td id=\"T_319a8850_f4c1_11e9_84d2_008cfafbf396row1_col53\" class=\"data row1 col53\" >DRF_1_AutoML_20191022_062727</td>\n",
       "                        <td id=\"T_319a8850_f4c1_11e9_84d2_008cfafbf396row1_col54\" class=\"data row1 col54\" >GBM_grid_1_AutoML_20191022_062727_model_6</td>\n",
       "                        <td id=\"T_319a8850_f4c1_11e9_84d2_008cfafbf396row1_col55\" class=\"data row1 col55\" >GBM_grid_1_AutoML_20191022_062727_model_32</td>\n",
       "                        <td id=\"T_319a8850_f4c1_11e9_84d2_008cfafbf396row1_col56\" class=\"data row1 col56\" >GBM_grid_1_AutoML_20191022_062727_model_10</td>\n",
       "                        <td id=\"T_319a8850_f4c1_11e9_84d2_008cfafbf396row1_col57\" class=\"data row1 col57\" >DeepLearning_grid_1_AutoML_20191022_062727_model_6</td>\n",
       "                        <td id=\"T_319a8850_f4c1_11e9_84d2_008cfafbf396row1_col58\" class=\"data row1 col58\" >GBM_grid_1_AutoML_20191022_062727_model_13</td>\n",
       "                        <td id=\"T_319a8850_f4c1_11e9_84d2_008cfafbf396row1_col59\" class=\"data row1 col59\" >XGBoost_grid_1_AutoML_20191022_062727_model_33</td>\n",
       "                        <td id=\"T_319a8850_f4c1_11e9_84d2_008cfafbf396row1_col60\" class=\"data row1 col60\" >GBM_grid_1_AutoML_20191022_062727_model_24</td>\n",
       "                        <td id=\"T_319a8850_f4c1_11e9_84d2_008cfafbf396row1_col61\" class=\"data row1 col61\" >XGBoost_grid_1_AutoML_20191022_062727_model_45</td>\n",
       "                        <td id=\"T_319a8850_f4c1_11e9_84d2_008cfafbf396row1_col62\" class=\"data row1 col62\" >XGBoost_grid_1_AutoML_20191022_062727_model_8</td>\n",
       "                        <td id=\"T_319a8850_f4c1_11e9_84d2_008cfafbf396row1_col63\" class=\"data row1 col63\" >XGBoost_grid_1_AutoML_20191022_062727_model_38</td>\n",
       "                        <td id=\"T_319a8850_f4c1_11e9_84d2_008cfafbf396row1_col64\" class=\"data row1 col64\" >XGBoost_grid_1_AutoML_20191022_062727_model_35</td>\n",
       "                        <td id=\"T_319a8850_f4c1_11e9_84d2_008cfafbf396row1_col65\" class=\"data row1 col65\" >XGBoost_grid_1_AutoML_20191022_062727_model_37</td>\n",
       "                        <td id=\"T_319a8850_f4c1_11e9_84d2_008cfafbf396row1_col66\" class=\"data row1 col66\" >GBM_grid_1_AutoML_20191022_062727_model_54</td>\n",
       "                        <td id=\"T_319a8850_f4c1_11e9_84d2_008cfafbf396row1_col67\" class=\"data row1 col67\" >XGBoost_grid_1_AutoML_20191022_062727_model_57</td>\n",
       "                        <td id=\"T_319a8850_f4c1_11e9_84d2_008cfafbf396row1_col68\" class=\"data row1 col68\" >XRT_1_AutoML_20191022_062727</td>\n",
       "                        <td id=\"T_319a8850_f4c1_11e9_84d2_008cfafbf396row1_col69\" class=\"data row1 col69\" >XGBoost_grid_1_AutoML_20191022_062727_model_55</td>\n",
       "                        <td id=\"T_319a8850_f4c1_11e9_84d2_008cfafbf396row1_col70\" class=\"data row1 col70\" >XGBoost_grid_1_AutoML_20191022_062727_model_18</td>\n",
       "                        <td id=\"T_319a8850_f4c1_11e9_84d2_008cfafbf396row1_col71\" class=\"data row1 col71\" >GBM_grid_1_AutoML_20191022_062727_model_8</td>\n",
       "                        <td id=\"T_319a8850_f4c1_11e9_84d2_008cfafbf396row1_col72\" class=\"data row1 col72\" >GBM_grid_1_AutoML_20191022_062727_model_42</td>\n",
       "                        <td id=\"T_319a8850_f4c1_11e9_84d2_008cfafbf396row1_col73\" class=\"data row1 col73\" >XGBoost_grid_1_AutoML_20191022_062727_model_46</td>\n",
       "                        <td id=\"T_319a8850_f4c1_11e9_84d2_008cfafbf396row1_col74\" class=\"data row1 col74\" >XGBoost_grid_1_AutoML_20191022_062727_model_49</td>\n",
       "                        <td id=\"T_319a8850_f4c1_11e9_84d2_008cfafbf396row1_col75\" class=\"data row1 col75\" >XGBoost_grid_1_AutoML_20191022_062727_model_21</td>\n",
       "                        <td id=\"T_319a8850_f4c1_11e9_84d2_008cfafbf396row1_col76\" class=\"data row1 col76\" >GBM_grid_1_AutoML_20191022_062727_model_14</td>\n",
       "                        <td id=\"T_319a8850_f4c1_11e9_84d2_008cfafbf396row1_col77\" class=\"data row1 col77\" >XGBoost_grid_1_AutoML_20191022_062727_model_25</td>\n",
       "                        <td id=\"T_319a8850_f4c1_11e9_84d2_008cfafbf396row1_col78\" class=\"data row1 col78\" >GBM_grid_1_AutoML_20191022_062727_model_25</td>\n",
       "                        <td id=\"T_319a8850_f4c1_11e9_84d2_008cfafbf396row1_col79\" class=\"data row1 col79\" >XGBoost_grid_1_AutoML_20191022_062727_model_48</td>\n",
       "                        <td id=\"T_319a8850_f4c1_11e9_84d2_008cfafbf396row1_col80\" class=\"data row1 col80\" >XGBoost_3_AutoML_20191022_062727</td>\n",
       "                        <td id=\"T_319a8850_f4c1_11e9_84d2_008cfafbf396row1_col81\" class=\"data row1 col81\" >GBM_1_AutoML_20191022_062727</td>\n",
       "                        <td id=\"T_319a8850_f4c1_11e9_84d2_008cfafbf396row1_col82\" class=\"data row1 col82\" >XGBoost_grid_1_AutoML_20191022_062727_model_47</td>\n",
       "                        <td id=\"T_319a8850_f4c1_11e9_84d2_008cfafbf396row1_col83\" class=\"data row1 col83\" >XGBoost_grid_1_AutoML_20191022_062727_model_17</td>\n",
       "                        <td id=\"T_319a8850_f4c1_11e9_84d2_008cfafbf396row1_col84\" class=\"data row1 col84\" >XGBoost_grid_1_AutoML_20191022_062727_model_2</td>\n",
       "                        <td id=\"T_319a8850_f4c1_11e9_84d2_008cfafbf396row1_col85\" class=\"data row1 col85\" >DeepLearning_grid_1_AutoML_20191022_062727_model_18</td>\n",
       "                        <td id=\"T_319a8850_f4c1_11e9_84d2_008cfafbf396row1_col86\" class=\"data row1 col86\" >XGBoost_grid_1_AutoML_20191022_062727_model_36</td>\n",
       "                        <td id=\"T_319a8850_f4c1_11e9_84d2_008cfafbf396row1_col87\" class=\"data row1 col87\" >XGBoost_grid_1_AutoML_20191022_062727_model_15</td>\n",
       "                        <td id=\"T_319a8850_f4c1_11e9_84d2_008cfafbf396row1_col88\" class=\"data row1 col88\" >GBM_grid_1_AutoML_20191022_062727_model_53</td>\n",
       "                        <td id=\"T_319a8850_f4c1_11e9_84d2_008cfafbf396row1_col89\" class=\"data row1 col89\" >GBM_grid_1_AutoML_20191022_062727_model_9</td>\n",
       "                        <td id=\"T_319a8850_f4c1_11e9_84d2_008cfafbf396row1_col90\" class=\"data row1 col90\" >XGBoost_grid_1_AutoML_20191022_062727_model_4</td>\n",
       "                        <td id=\"T_319a8850_f4c1_11e9_84d2_008cfafbf396row1_col91\" class=\"data row1 col91\" >XGBoost_grid_1_AutoML_20191022_062727_model_41</td>\n",
       "                        <td id=\"T_319a8850_f4c1_11e9_84d2_008cfafbf396row1_col92\" class=\"data row1 col92\" >GBM_grid_1_AutoML_20191022_062727_model_21</td>\n",
       "                        <td id=\"T_319a8850_f4c1_11e9_84d2_008cfafbf396row1_col93\" class=\"data row1 col93\" >XGBoost_grid_1_AutoML_20191022_062727_model_20</td>\n",
       "                        <td id=\"T_319a8850_f4c1_11e9_84d2_008cfafbf396row1_col94\" class=\"data row1 col94\" >XGBoost_grid_1_AutoML_20191022_062727_model_34</td>\n",
       "                        <td id=\"T_319a8850_f4c1_11e9_84d2_008cfafbf396row1_col95\" class=\"data row1 col95\" >GBM_grid_1_AutoML_20191022_062727_model_52</td>\n",
       "                        <td id=\"T_319a8850_f4c1_11e9_84d2_008cfafbf396row1_col96\" class=\"data row1 col96\" >XGBoost_grid_1_AutoML_20191022_062727_model_31</td>\n",
       "                        <td id=\"T_319a8850_f4c1_11e9_84d2_008cfafbf396row1_col97\" class=\"data row1 col97\" >XGBoost_grid_1_AutoML_20191022_062727_model_30</td>\n",
       "                        <td id=\"T_319a8850_f4c1_11e9_84d2_008cfafbf396row1_col98\" class=\"data row1 col98\" >XGBoost_grid_1_AutoML_20191022_062727_model_28</td>\n",
       "                        <td id=\"T_319a8850_f4c1_11e9_84d2_008cfafbf396row1_col99\" class=\"data row1 col99\" >GBM_grid_1_AutoML_20191022_062727_model_28</td>\n",
       "                        <td id=\"T_319a8850_f4c1_11e9_84d2_008cfafbf396row1_col100\" class=\"data row1 col100\" >XGBoost_grid_1_AutoML_20191022_062727_model_50</td>\n",
       "                        <td id=\"T_319a8850_f4c1_11e9_84d2_008cfafbf396row1_col101\" class=\"data row1 col101\" >GBM_grid_1_AutoML_20191022_062727_model_29</td>\n",
       "                        <td id=\"T_319a8850_f4c1_11e9_84d2_008cfafbf396row1_col102\" class=\"data row1 col102\" >XGBoost_grid_1_AutoML_20191022_062727_model_27</td>\n",
       "                        <td id=\"T_319a8850_f4c1_11e9_84d2_008cfafbf396row1_col103\" class=\"data row1 col103\" >XGBoost_grid_1_AutoML_20191022_062727_model_59</td>\n",
       "                        <td id=\"T_319a8850_f4c1_11e9_84d2_008cfafbf396row1_col104\" class=\"data row1 col104\" >XGBoost_grid_1_AutoML_20191022_062727_model_26</td>\n",
       "                        <td id=\"T_319a8850_f4c1_11e9_84d2_008cfafbf396row1_col105\" class=\"data row1 col105\" >XGBoost_grid_1_AutoML_20191022_062727_model_3</td>\n",
       "                        <td id=\"T_319a8850_f4c1_11e9_84d2_008cfafbf396row1_col106\" class=\"data row1 col106\" >XGBoost_grid_1_AutoML_20191022_062727_model_32</td>\n",
       "                        <td id=\"T_319a8850_f4c1_11e9_84d2_008cfafbf396row1_col107\" class=\"data row1 col107\" >XGBoost_grid_1_AutoML_20191022_062727_model_19</td>\n",
       "                        <td id=\"T_319a8850_f4c1_11e9_84d2_008cfafbf396row1_col108\" class=\"data row1 col108\" >GBM_grid_1_AutoML_20191022_062727_model_7</td>\n",
       "                        <td id=\"T_319a8850_f4c1_11e9_84d2_008cfafbf396row1_col109\" class=\"data row1 col109\" >XGBoost_2_AutoML_20191022_062727</td>\n",
       "                        <td id=\"T_319a8850_f4c1_11e9_84d2_008cfafbf396row1_col110\" class=\"data row1 col110\" >XGBoost_grid_1_AutoML_20191022_062727_model_7</td>\n",
       "                        <td id=\"T_319a8850_f4c1_11e9_84d2_008cfafbf396row1_col111\" class=\"data row1 col111\" >XGBoost_grid_1_AutoML_20191022_062727_model_1</td>\n",
       "                        <td id=\"T_319a8850_f4c1_11e9_84d2_008cfafbf396row1_col112\" class=\"data row1 col112\" >XGBoost_grid_1_AutoML_20191022_062727_model_23</td>\n",
       "                        <td id=\"T_319a8850_f4c1_11e9_84d2_008cfafbf396row1_col113\" class=\"data row1 col113\" >GBM_grid_1_AutoML_20191022_062727_model_30</td>\n",
       "                        <td id=\"T_319a8850_f4c1_11e9_84d2_008cfafbf396row1_col114\" class=\"data row1 col114\" >XGBoost_grid_1_AutoML_20191022_062727_model_44</td>\n",
       "                        <td id=\"T_319a8850_f4c1_11e9_84d2_008cfafbf396row1_col115\" class=\"data row1 col115\" >XGBoost_grid_1_AutoML_20191022_062727_model_29</td>\n",
       "                        <td id=\"T_319a8850_f4c1_11e9_84d2_008cfafbf396row1_col116\" class=\"data row1 col116\" >XGBoost_grid_1_AutoML_20191022_062727_model_42</td>\n",
       "                        <td id=\"T_319a8850_f4c1_11e9_84d2_008cfafbf396row1_col117\" class=\"data row1 col117\" >XGBoost_grid_1_AutoML_20191022_062727_model_53</td>\n",
       "                        <td id=\"T_319a8850_f4c1_11e9_84d2_008cfafbf396row1_col118\" class=\"data row1 col118\" >GBM_grid_1_AutoML_20191022_062727_model_23</td>\n",
       "                        <td id=\"T_319a8850_f4c1_11e9_84d2_008cfafbf396row1_col119\" class=\"data row1 col119\" >DeepLearning_grid_1_AutoML_20191022_062727_model_7</td>\n",
       "                        <td id=\"T_319a8850_f4c1_11e9_84d2_008cfafbf396row1_col120\" class=\"data row1 col120\" >GBM_grid_1_AutoML_20191022_062727_model_5</td>\n",
       "                        <td id=\"T_319a8850_f4c1_11e9_84d2_008cfafbf396row1_col121\" class=\"data row1 col121\" >XGBoost_grid_1_AutoML_20191022_062727_model_11</td>\n",
       "                        <td id=\"T_319a8850_f4c1_11e9_84d2_008cfafbf396row1_col122\" class=\"data row1 col122\" >DeepLearning_grid_1_AutoML_20191022_062727_model_14</td>\n",
       "                        <td id=\"T_319a8850_f4c1_11e9_84d2_008cfafbf396row1_col123\" class=\"data row1 col123\" >XGBoost_grid_1_AutoML_20191022_062727_model_54</td>\n",
       "                        <td id=\"T_319a8850_f4c1_11e9_84d2_008cfafbf396row1_col124\" class=\"data row1 col124\" >XGBoost_grid_1_AutoML_20191022_062727_model_58</td>\n",
       "                        <td id=\"T_319a8850_f4c1_11e9_84d2_008cfafbf396row1_col125\" class=\"data row1 col125\" >XGBoost_grid_1_AutoML_20191022_062727_model_22</td>\n",
       "                        <td id=\"T_319a8850_f4c1_11e9_84d2_008cfafbf396row1_col126\" class=\"data row1 col126\" >GBM_grid_1_AutoML_20191022_062727_model_61</td>\n",
       "                        <td id=\"T_319a8850_f4c1_11e9_84d2_008cfafbf396row1_col127\" class=\"data row1 col127\" >XGBoost_grid_1_AutoML_20191022_062727_model_6</td>\n",
       "                        <td id=\"T_319a8850_f4c1_11e9_84d2_008cfafbf396row1_col128\" class=\"data row1 col128\" >XGBoost_grid_1_AutoML_20191022_062727_model_56</td>\n",
       "                        <td id=\"T_319a8850_f4c1_11e9_84d2_008cfafbf396row1_col129\" class=\"data row1 col129\" >XGBoost_grid_1_AutoML_20191022_062727_model_43</td>\n",
       "                        <td id=\"T_319a8850_f4c1_11e9_84d2_008cfafbf396row1_col130\" class=\"data row1 col130\" >XGBoost_grid_1_AutoML_20191022_062727_model_39</td>\n",
       "                        <td id=\"T_319a8850_f4c1_11e9_84d2_008cfafbf396row1_col131\" class=\"data row1 col131\" >GBM_grid_1_AutoML_20191022_062727_model_33</td>\n",
       "                        <td id=\"T_319a8850_f4c1_11e9_84d2_008cfafbf396row1_col132\" class=\"data row1 col132\" >GBM_grid_1_AutoML_20191022_062727_model_4</td>\n",
       "                        <td id=\"T_319a8850_f4c1_11e9_84d2_008cfafbf396row1_col133\" class=\"data row1 col133\" >GBM_grid_1_AutoML_20191022_062727_model_38</td>\n",
       "                        <td id=\"T_319a8850_f4c1_11e9_84d2_008cfafbf396row1_col134\" class=\"data row1 col134\" >GBM_grid_1_AutoML_20191022_062727_model_56</td>\n",
       "                        <td id=\"T_319a8850_f4c1_11e9_84d2_008cfafbf396row1_col135\" class=\"data row1 col135\" >XGBoost_grid_1_AutoML_20191022_062727_model_12</td>\n",
       "                        <td id=\"T_319a8850_f4c1_11e9_84d2_008cfafbf396row1_col136\" class=\"data row1 col136\" >XGBoost_grid_1_AutoML_20191022_062727_model_5</td>\n",
       "                        <td id=\"T_319a8850_f4c1_11e9_84d2_008cfafbf396row1_col137\" class=\"data row1 col137\" >XGBoost_grid_1_AutoML_20191022_062727_model_40</td>\n",
       "                        <td id=\"T_319a8850_f4c1_11e9_84d2_008cfafbf396row1_col138\" class=\"data row1 col138\" >XGBoost_grid_1_AutoML_20191022_062727_model_14</td>\n",
       "                        <td id=\"T_319a8850_f4c1_11e9_84d2_008cfafbf396row1_col139\" class=\"data row1 col139\" >GBM_grid_1_AutoML_20191022_062727_model_64</td>\n",
       "                        <td id=\"T_319a8850_f4c1_11e9_84d2_008cfafbf396row1_col140\" class=\"data row1 col140\" >XGBoost_grid_1_AutoML_20191022_062727_model_24</td>\n",
       "                        <td id=\"T_319a8850_f4c1_11e9_84d2_008cfafbf396row1_col141\" class=\"data row1 col141\" >XGBoost_grid_1_AutoML_20191022_062727_model_10</td>\n",
       "                        <td id=\"T_319a8850_f4c1_11e9_84d2_008cfafbf396row1_col142\" class=\"data row1 col142\" >GBM_grid_1_AutoML_20191022_062727_model_37</td>\n",
       "                        <td id=\"T_319a8850_f4c1_11e9_84d2_008cfafbf396row1_col143\" class=\"data row1 col143\" >XGBoost_grid_1_AutoML_20191022_062727_model_16</td>\n",
       "                        <td id=\"T_319a8850_f4c1_11e9_84d2_008cfafbf396row1_col144\" class=\"data row1 col144\" >GBM_grid_1_AutoML_20191022_062727_model_50</td>\n",
       "                        <td id=\"T_319a8850_f4c1_11e9_84d2_008cfafbf396row1_col145\" class=\"data row1 col145\" >GBM_grid_1_AutoML_20191022_062727_model_34</td>\n",
       "                        <td id=\"T_319a8850_f4c1_11e9_84d2_008cfafbf396row1_col146\" class=\"data row1 col146\" >XGBoost_grid_1_AutoML_20191022_062727_model_51</td>\n",
       "                        <td id=\"T_319a8850_f4c1_11e9_84d2_008cfafbf396row1_col147\" class=\"data row1 col147\" >XGBoost_grid_1_AutoML_20191022_062727_model_9</td>\n",
       "                        <td id=\"T_319a8850_f4c1_11e9_84d2_008cfafbf396row1_col148\" class=\"data row1 col148\" >DeepLearning_1_AutoML_20191022_062727</td>\n",
       "                        <td id=\"T_319a8850_f4c1_11e9_84d2_008cfafbf396row1_col149\" class=\"data row1 col149\" >GBM_grid_1_AutoML_20191022_062727_model_51</td>\n",
       "                        <td id=\"T_319a8850_f4c1_11e9_84d2_008cfafbf396row1_col150\" class=\"data row1 col150\" >GBM_grid_1_AutoML_20191022_062727_model_2</td>\n",
       "                        <td id=\"T_319a8850_f4c1_11e9_84d2_008cfafbf396row1_col151\" class=\"data row1 col151\" >XGBoost_grid_1_AutoML_20191022_062727_model_60</td>\n",
       "                        <td id=\"T_319a8850_f4c1_11e9_84d2_008cfafbf396row1_col152\" class=\"data row1 col152\" >GBM_grid_1_AutoML_20191022_062727_model_44</td>\n",
       "                        <td id=\"T_319a8850_f4c1_11e9_84d2_008cfafbf396row1_col153\" class=\"data row1 col153\" >GBM_grid_1_AutoML_20191022_062727_model_22</td>\n",
       "                        <td id=\"T_319a8850_f4c1_11e9_84d2_008cfafbf396row1_col154\" class=\"data row1 col154\" >GBM_grid_1_AutoML_20191022_062727_model_60</td>\n",
       "                        <td id=\"T_319a8850_f4c1_11e9_84d2_008cfafbf396row1_col155\" class=\"data row1 col155\" >GBM_grid_1_AutoML_20191022_062727_model_65</td>\n",
       "                        <td id=\"T_319a8850_f4c1_11e9_84d2_008cfafbf396row1_col156\" class=\"data row1 col156\" >GBM_grid_1_AutoML_20191022_062727_model_36</td>\n",
       "                        <td id=\"T_319a8850_f4c1_11e9_84d2_008cfafbf396row1_col157\" class=\"data row1 col157\" >nan</td>\n",
       "                        <td id=\"T_319a8850_f4c1_11e9_84d2_008cfafbf396row1_col158\" class=\"data row1 col158\" >nan</td>\n",
       "                        <td id=\"T_319a8850_f4c1_11e9_84d2_008cfafbf396row1_col159\" class=\"data row1 col159\" >nan</td>\n",
       "                        <td id=\"T_319a8850_f4c1_11e9_84d2_008cfafbf396row1_col160\" class=\"data row1 col160\" >nan</td>\n",
       "                        <td id=\"T_319a8850_f4c1_11e9_84d2_008cfafbf396row1_col161\" class=\"data row1 col161\" >nan</td>\n",
       "                        <td id=\"T_319a8850_f4c1_11e9_84d2_008cfafbf396row1_col162\" class=\"data row1 col162\" >nan</td>\n",
       "                        <td id=\"T_319a8850_f4c1_11e9_84d2_008cfafbf396row1_col163\" class=\"data row1 col163\" >nan</td>\n",
       "                        <td id=\"T_319a8850_f4c1_11e9_84d2_008cfafbf396row1_col164\" class=\"data row1 col164\" >nan</td>\n",
       "                        <td id=\"T_319a8850_f4c1_11e9_84d2_008cfafbf396row1_col165\" class=\"data row1 col165\" >nan</td>\n",
       "                        <td id=\"T_319a8850_f4c1_11e9_84d2_008cfafbf396row1_col166\" class=\"data row1 col166\" >nan</td>\n",
       "            </tr>\n",
       "            <tr>\n",
       "                                <td id=\"T_319a8850_f4c1_11e9_84d2_008cfafbf396row2_col0\" class=\"data row2 col0\" >24</td>\n",
       "                        <td id=\"T_319a8850_f4c1_11e9_84d2_008cfafbf396row2_col1\" class=\"data row2 col1\" >StackedEnsemble_BestOfFamily_AutoML_20191022_060815</td>\n",
       "                        <td id=\"T_319a8850_f4c1_11e9_84d2_008cfafbf396row2_col2\" class=\"data row2 col2\" >GBM_grid_1_AutoML_20191022_060815_model_15</td>\n",
       "                        <td id=\"T_319a8850_f4c1_11e9_84d2_008cfafbf396row2_col3\" class=\"data row2 col3\" >DeepLearning_grid_1_AutoML_20191022_060815_model_8</td>\n",
       "                        <td id=\"T_319a8850_f4c1_11e9_84d2_008cfafbf396row2_col4\" class=\"data row2 col4\" >XRT_1_AutoML_20191022_060815</td>\n",
       "                        <td id=\"T_319a8850_f4c1_11e9_84d2_008cfafbf396row2_col5\" class=\"data row2 col5\" >XGBoost_grid_1_AutoML_20191022_060815_model_13</td>\n",
       "                        <td id=\"T_319a8850_f4c1_11e9_84d2_008cfafbf396row2_col6\" class=\"data row2 col6\" >DRF_1_AutoML_20191022_060815</td>\n",
       "                        <td id=\"T_319a8850_f4c1_11e9_84d2_008cfafbf396row2_col7\" class=\"data row2 col7\" >GLM_grid_1_AutoML_20191022_060815_model_1</td>\n",
       "                        <td id=\"T_319a8850_f4c1_11e9_84d2_008cfafbf396row2_col8\" class=\"data row2 col8\" >nan</td>\n",
       "                        <td id=\"T_319a8850_f4c1_11e9_84d2_008cfafbf396row2_col9\" class=\"data row2 col9\" >nan</td>\n",
       "                        <td id=\"T_319a8850_f4c1_11e9_84d2_008cfafbf396row2_col10\" class=\"data row2 col10\" >nan</td>\n",
       "                        <td id=\"T_319a8850_f4c1_11e9_84d2_008cfafbf396row2_col11\" class=\"data row2 col11\" >nan</td>\n",
       "                        <td id=\"T_319a8850_f4c1_11e9_84d2_008cfafbf396row2_col12\" class=\"data row2 col12\" >nan</td>\n",
       "                        <td id=\"T_319a8850_f4c1_11e9_84d2_008cfafbf396row2_col13\" class=\"data row2 col13\" >nan</td>\n",
       "                        <td id=\"T_319a8850_f4c1_11e9_84d2_008cfafbf396row2_col14\" class=\"data row2 col14\" >nan</td>\n",
       "                        <td id=\"T_319a8850_f4c1_11e9_84d2_008cfafbf396row2_col15\" class=\"data row2 col15\" >nan</td>\n",
       "                        <td id=\"T_319a8850_f4c1_11e9_84d2_008cfafbf396row2_col16\" class=\"data row2 col16\" >nan</td>\n",
       "                        <td id=\"T_319a8850_f4c1_11e9_84d2_008cfafbf396row2_col17\" class=\"data row2 col17\" >nan</td>\n",
       "                        <td id=\"T_319a8850_f4c1_11e9_84d2_008cfafbf396row2_col18\" class=\"data row2 col18\" >nan</td>\n",
       "                        <td id=\"T_319a8850_f4c1_11e9_84d2_008cfafbf396row2_col19\" class=\"data row2 col19\" >nan</td>\n",
       "                        <td id=\"T_319a8850_f4c1_11e9_84d2_008cfafbf396row2_col20\" class=\"data row2 col20\" >nan</td>\n",
       "                        <td id=\"T_319a8850_f4c1_11e9_84d2_008cfafbf396row2_col21\" class=\"data row2 col21\" >nan</td>\n",
       "                        <td id=\"T_319a8850_f4c1_11e9_84d2_008cfafbf396row2_col22\" class=\"data row2 col22\" >nan</td>\n",
       "                        <td id=\"T_319a8850_f4c1_11e9_84d2_008cfafbf396row2_col23\" class=\"data row2 col23\" >nan</td>\n",
       "                        <td id=\"T_319a8850_f4c1_11e9_84d2_008cfafbf396row2_col24\" class=\"data row2 col24\" >nan</td>\n",
       "                        <td id=\"T_319a8850_f4c1_11e9_84d2_008cfafbf396row2_col25\" class=\"data row2 col25\" >nan</td>\n",
       "                        <td id=\"T_319a8850_f4c1_11e9_84d2_008cfafbf396row2_col26\" class=\"data row2 col26\" >nan</td>\n",
       "                        <td id=\"T_319a8850_f4c1_11e9_84d2_008cfafbf396row2_col27\" class=\"data row2 col27\" >nan</td>\n",
       "                        <td id=\"T_319a8850_f4c1_11e9_84d2_008cfafbf396row2_col28\" class=\"data row2 col28\" >nan</td>\n",
       "                        <td id=\"T_319a8850_f4c1_11e9_84d2_008cfafbf396row2_col29\" class=\"data row2 col29\" >nan</td>\n",
       "                        <td id=\"T_319a8850_f4c1_11e9_84d2_008cfafbf396row2_col30\" class=\"data row2 col30\" >nan</td>\n",
       "                        <td id=\"T_319a8850_f4c1_11e9_84d2_008cfafbf396row2_col31\" class=\"data row2 col31\" >nan</td>\n",
       "                        <td id=\"T_319a8850_f4c1_11e9_84d2_008cfafbf396row2_col32\" class=\"data row2 col32\" >nan</td>\n",
       "                        <td id=\"T_319a8850_f4c1_11e9_84d2_008cfafbf396row2_col33\" class=\"data row2 col33\" >nan</td>\n",
       "                        <td id=\"T_319a8850_f4c1_11e9_84d2_008cfafbf396row2_col34\" class=\"data row2 col34\" >nan</td>\n",
       "                        <td id=\"T_319a8850_f4c1_11e9_84d2_008cfafbf396row2_col35\" class=\"data row2 col35\" >nan</td>\n",
       "                        <td id=\"T_319a8850_f4c1_11e9_84d2_008cfafbf396row2_col36\" class=\"data row2 col36\" >nan</td>\n",
       "                        <td id=\"T_319a8850_f4c1_11e9_84d2_008cfafbf396row2_col37\" class=\"data row2 col37\" >nan</td>\n",
       "                        <td id=\"T_319a8850_f4c1_11e9_84d2_008cfafbf396row2_col38\" class=\"data row2 col38\" >nan</td>\n",
       "                        <td id=\"T_319a8850_f4c1_11e9_84d2_008cfafbf396row2_col39\" class=\"data row2 col39\" >nan</td>\n",
       "                        <td id=\"T_319a8850_f4c1_11e9_84d2_008cfafbf396row2_col40\" class=\"data row2 col40\" >nan</td>\n",
       "                        <td id=\"T_319a8850_f4c1_11e9_84d2_008cfafbf396row2_col41\" class=\"data row2 col41\" >nan</td>\n",
       "                        <td id=\"T_319a8850_f4c1_11e9_84d2_008cfafbf396row2_col42\" class=\"data row2 col42\" >nan</td>\n",
       "                        <td id=\"T_319a8850_f4c1_11e9_84d2_008cfafbf396row2_col43\" class=\"data row2 col43\" >nan</td>\n",
       "                        <td id=\"T_319a8850_f4c1_11e9_84d2_008cfafbf396row2_col44\" class=\"data row2 col44\" >nan</td>\n",
       "                        <td id=\"T_319a8850_f4c1_11e9_84d2_008cfafbf396row2_col45\" class=\"data row2 col45\" >nan</td>\n",
       "                        <td id=\"T_319a8850_f4c1_11e9_84d2_008cfafbf396row2_col46\" class=\"data row2 col46\" >nan</td>\n",
       "                        <td id=\"T_319a8850_f4c1_11e9_84d2_008cfafbf396row2_col47\" class=\"data row2 col47\" >nan</td>\n",
       "                        <td id=\"T_319a8850_f4c1_11e9_84d2_008cfafbf396row2_col48\" class=\"data row2 col48\" >nan</td>\n",
       "                        <td id=\"T_319a8850_f4c1_11e9_84d2_008cfafbf396row2_col49\" class=\"data row2 col49\" >nan</td>\n",
       "                        <td id=\"T_319a8850_f4c1_11e9_84d2_008cfafbf396row2_col50\" class=\"data row2 col50\" >nan</td>\n",
       "                        <td id=\"T_319a8850_f4c1_11e9_84d2_008cfafbf396row2_col51\" class=\"data row2 col51\" >nan</td>\n",
       "                        <td id=\"T_319a8850_f4c1_11e9_84d2_008cfafbf396row2_col52\" class=\"data row2 col52\" >nan</td>\n",
       "                        <td id=\"T_319a8850_f4c1_11e9_84d2_008cfafbf396row2_col53\" class=\"data row2 col53\" >nan</td>\n",
       "                        <td id=\"T_319a8850_f4c1_11e9_84d2_008cfafbf396row2_col54\" class=\"data row2 col54\" >nan</td>\n",
       "                        <td id=\"T_319a8850_f4c1_11e9_84d2_008cfafbf396row2_col55\" class=\"data row2 col55\" >nan</td>\n",
       "                        <td id=\"T_319a8850_f4c1_11e9_84d2_008cfafbf396row2_col56\" class=\"data row2 col56\" >nan</td>\n",
       "                        <td id=\"T_319a8850_f4c1_11e9_84d2_008cfafbf396row2_col57\" class=\"data row2 col57\" >nan</td>\n",
       "                        <td id=\"T_319a8850_f4c1_11e9_84d2_008cfafbf396row2_col58\" class=\"data row2 col58\" >nan</td>\n",
       "                        <td id=\"T_319a8850_f4c1_11e9_84d2_008cfafbf396row2_col59\" class=\"data row2 col59\" >nan</td>\n",
       "                        <td id=\"T_319a8850_f4c1_11e9_84d2_008cfafbf396row2_col60\" class=\"data row2 col60\" >nan</td>\n",
       "                        <td id=\"T_319a8850_f4c1_11e9_84d2_008cfafbf396row2_col61\" class=\"data row2 col61\" >nan</td>\n",
       "                        <td id=\"T_319a8850_f4c1_11e9_84d2_008cfafbf396row2_col62\" class=\"data row2 col62\" >nan</td>\n",
       "                        <td id=\"T_319a8850_f4c1_11e9_84d2_008cfafbf396row2_col63\" class=\"data row2 col63\" >nan</td>\n",
       "                        <td id=\"T_319a8850_f4c1_11e9_84d2_008cfafbf396row2_col64\" class=\"data row2 col64\" >nan</td>\n",
       "                        <td id=\"T_319a8850_f4c1_11e9_84d2_008cfafbf396row2_col65\" class=\"data row2 col65\" >nan</td>\n",
       "                        <td id=\"T_319a8850_f4c1_11e9_84d2_008cfafbf396row2_col66\" class=\"data row2 col66\" >nan</td>\n",
       "                        <td id=\"T_319a8850_f4c1_11e9_84d2_008cfafbf396row2_col67\" class=\"data row2 col67\" >nan</td>\n",
       "                        <td id=\"T_319a8850_f4c1_11e9_84d2_008cfafbf396row2_col68\" class=\"data row2 col68\" >nan</td>\n",
       "                        <td id=\"T_319a8850_f4c1_11e9_84d2_008cfafbf396row2_col69\" class=\"data row2 col69\" >nan</td>\n",
       "                        <td id=\"T_319a8850_f4c1_11e9_84d2_008cfafbf396row2_col70\" class=\"data row2 col70\" >nan</td>\n",
       "                        <td id=\"T_319a8850_f4c1_11e9_84d2_008cfafbf396row2_col71\" class=\"data row2 col71\" >nan</td>\n",
       "                        <td id=\"T_319a8850_f4c1_11e9_84d2_008cfafbf396row2_col72\" class=\"data row2 col72\" >nan</td>\n",
       "                        <td id=\"T_319a8850_f4c1_11e9_84d2_008cfafbf396row2_col73\" class=\"data row2 col73\" >nan</td>\n",
       "                        <td id=\"T_319a8850_f4c1_11e9_84d2_008cfafbf396row2_col74\" class=\"data row2 col74\" >nan</td>\n",
       "                        <td id=\"T_319a8850_f4c1_11e9_84d2_008cfafbf396row2_col75\" class=\"data row2 col75\" >nan</td>\n",
       "                        <td id=\"T_319a8850_f4c1_11e9_84d2_008cfafbf396row2_col76\" class=\"data row2 col76\" >nan</td>\n",
       "                        <td id=\"T_319a8850_f4c1_11e9_84d2_008cfafbf396row2_col77\" class=\"data row2 col77\" >nan</td>\n",
       "                        <td id=\"T_319a8850_f4c1_11e9_84d2_008cfafbf396row2_col78\" class=\"data row2 col78\" >nan</td>\n",
       "                        <td id=\"T_319a8850_f4c1_11e9_84d2_008cfafbf396row2_col79\" class=\"data row2 col79\" >nan</td>\n",
       "                        <td id=\"T_319a8850_f4c1_11e9_84d2_008cfafbf396row2_col80\" class=\"data row2 col80\" >nan</td>\n",
       "                        <td id=\"T_319a8850_f4c1_11e9_84d2_008cfafbf396row2_col81\" class=\"data row2 col81\" >nan</td>\n",
       "                        <td id=\"T_319a8850_f4c1_11e9_84d2_008cfafbf396row2_col82\" class=\"data row2 col82\" >nan</td>\n",
       "                        <td id=\"T_319a8850_f4c1_11e9_84d2_008cfafbf396row2_col83\" class=\"data row2 col83\" >nan</td>\n",
       "                        <td id=\"T_319a8850_f4c1_11e9_84d2_008cfafbf396row2_col84\" class=\"data row2 col84\" >nan</td>\n",
       "                        <td id=\"T_319a8850_f4c1_11e9_84d2_008cfafbf396row2_col85\" class=\"data row2 col85\" >nan</td>\n",
       "                        <td id=\"T_319a8850_f4c1_11e9_84d2_008cfafbf396row2_col86\" class=\"data row2 col86\" >nan</td>\n",
       "                        <td id=\"T_319a8850_f4c1_11e9_84d2_008cfafbf396row2_col87\" class=\"data row2 col87\" >nan</td>\n",
       "                        <td id=\"T_319a8850_f4c1_11e9_84d2_008cfafbf396row2_col88\" class=\"data row2 col88\" >nan</td>\n",
       "                        <td id=\"T_319a8850_f4c1_11e9_84d2_008cfafbf396row2_col89\" class=\"data row2 col89\" >nan</td>\n",
       "                        <td id=\"T_319a8850_f4c1_11e9_84d2_008cfafbf396row2_col90\" class=\"data row2 col90\" >nan</td>\n",
       "                        <td id=\"T_319a8850_f4c1_11e9_84d2_008cfafbf396row2_col91\" class=\"data row2 col91\" >nan</td>\n",
       "                        <td id=\"T_319a8850_f4c1_11e9_84d2_008cfafbf396row2_col92\" class=\"data row2 col92\" >nan</td>\n",
       "                        <td id=\"T_319a8850_f4c1_11e9_84d2_008cfafbf396row2_col93\" class=\"data row2 col93\" >nan</td>\n",
       "                        <td id=\"T_319a8850_f4c1_11e9_84d2_008cfafbf396row2_col94\" class=\"data row2 col94\" >nan</td>\n",
       "                        <td id=\"T_319a8850_f4c1_11e9_84d2_008cfafbf396row2_col95\" class=\"data row2 col95\" >nan</td>\n",
       "                        <td id=\"T_319a8850_f4c1_11e9_84d2_008cfafbf396row2_col96\" class=\"data row2 col96\" >nan</td>\n",
       "                        <td id=\"T_319a8850_f4c1_11e9_84d2_008cfafbf396row2_col97\" class=\"data row2 col97\" >nan</td>\n",
       "                        <td id=\"T_319a8850_f4c1_11e9_84d2_008cfafbf396row2_col98\" class=\"data row2 col98\" >nan</td>\n",
       "                        <td id=\"T_319a8850_f4c1_11e9_84d2_008cfafbf396row2_col99\" class=\"data row2 col99\" >nan</td>\n",
       "                        <td id=\"T_319a8850_f4c1_11e9_84d2_008cfafbf396row2_col100\" class=\"data row2 col100\" >nan</td>\n",
       "                        <td id=\"T_319a8850_f4c1_11e9_84d2_008cfafbf396row2_col101\" class=\"data row2 col101\" >nan</td>\n",
       "                        <td id=\"T_319a8850_f4c1_11e9_84d2_008cfafbf396row2_col102\" class=\"data row2 col102\" >nan</td>\n",
       "                        <td id=\"T_319a8850_f4c1_11e9_84d2_008cfafbf396row2_col103\" class=\"data row2 col103\" >nan</td>\n",
       "                        <td id=\"T_319a8850_f4c1_11e9_84d2_008cfafbf396row2_col104\" class=\"data row2 col104\" >nan</td>\n",
       "                        <td id=\"T_319a8850_f4c1_11e9_84d2_008cfafbf396row2_col105\" class=\"data row2 col105\" >nan</td>\n",
       "                        <td id=\"T_319a8850_f4c1_11e9_84d2_008cfafbf396row2_col106\" class=\"data row2 col106\" >nan</td>\n",
       "                        <td id=\"T_319a8850_f4c1_11e9_84d2_008cfafbf396row2_col107\" class=\"data row2 col107\" >nan</td>\n",
       "                        <td id=\"T_319a8850_f4c1_11e9_84d2_008cfafbf396row2_col108\" class=\"data row2 col108\" >nan</td>\n",
       "                        <td id=\"T_319a8850_f4c1_11e9_84d2_008cfafbf396row2_col109\" class=\"data row2 col109\" >nan</td>\n",
       "                        <td id=\"T_319a8850_f4c1_11e9_84d2_008cfafbf396row2_col110\" class=\"data row2 col110\" >nan</td>\n",
       "                        <td id=\"T_319a8850_f4c1_11e9_84d2_008cfafbf396row2_col111\" class=\"data row2 col111\" >nan</td>\n",
       "                        <td id=\"T_319a8850_f4c1_11e9_84d2_008cfafbf396row2_col112\" class=\"data row2 col112\" >nan</td>\n",
       "                        <td id=\"T_319a8850_f4c1_11e9_84d2_008cfafbf396row2_col113\" class=\"data row2 col113\" >nan</td>\n",
       "                        <td id=\"T_319a8850_f4c1_11e9_84d2_008cfafbf396row2_col114\" class=\"data row2 col114\" >nan</td>\n",
       "                        <td id=\"T_319a8850_f4c1_11e9_84d2_008cfafbf396row2_col115\" class=\"data row2 col115\" >nan</td>\n",
       "                        <td id=\"T_319a8850_f4c1_11e9_84d2_008cfafbf396row2_col116\" class=\"data row2 col116\" >nan</td>\n",
       "                        <td id=\"T_319a8850_f4c1_11e9_84d2_008cfafbf396row2_col117\" class=\"data row2 col117\" >nan</td>\n",
       "                        <td id=\"T_319a8850_f4c1_11e9_84d2_008cfafbf396row2_col118\" class=\"data row2 col118\" >nan</td>\n",
       "                        <td id=\"T_319a8850_f4c1_11e9_84d2_008cfafbf396row2_col119\" class=\"data row2 col119\" >nan</td>\n",
       "                        <td id=\"T_319a8850_f4c1_11e9_84d2_008cfafbf396row2_col120\" class=\"data row2 col120\" >nan</td>\n",
       "                        <td id=\"T_319a8850_f4c1_11e9_84d2_008cfafbf396row2_col121\" class=\"data row2 col121\" >nan</td>\n",
       "                        <td id=\"T_319a8850_f4c1_11e9_84d2_008cfafbf396row2_col122\" class=\"data row2 col122\" >nan</td>\n",
       "                        <td id=\"T_319a8850_f4c1_11e9_84d2_008cfafbf396row2_col123\" class=\"data row2 col123\" >nan</td>\n",
       "                        <td id=\"T_319a8850_f4c1_11e9_84d2_008cfafbf396row2_col124\" class=\"data row2 col124\" >nan</td>\n",
       "                        <td id=\"T_319a8850_f4c1_11e9_84d2_008cfafbf396row2_col125\" class=\"data row2 col125\" >nan</td>\n",
       "                        <td id=\"T_319a8850_f4c1_11e9_84d2_008cfafbf396row2_col126\" class=\"data row2 col126\" >nan</td>\n",
       "                        <td id=\"T_319a8850_f4c1_11e9_84d2_008cfafbf396row2_col127\" class=\"data row2 col127\" >nan</td>\n",
       "                        <td id=\"T_319a8850_f4c1_11e9_84d2_008cfafbf396row2_col128\" class=\"data row2 col128\" >nan</td>\n",
       "                        <td id=\"T_319a8850_f4c1_11e9_84d2_008cfafbf396row2_col129\" class=\"data row2 col129\" >nan</td>\n",
       "                        <td id=\"T_319a8850_f4c1_11e9_84d2_008cfafbf396row2_col130\" class=\"data row2 col130\" >nan</td>\n",
       "                        <td id=\"T_319a8850_f4c1_11e9_84d2_008cfafbf396row2_col131\" class=\"data row2 col131\" >nan</td>\n",
       "                        <td id=\"T_319a8850_f4c1_11e9_84d2_008cfafbf396row2_col132\" class=\"data row2 col132\" >nan</td>\n",
       "                        <td id=\"T_319a8850_f4c1_11e9_84d2_008cfafbf396row2_col133\" class=\"data row2 col133\" >nan</td>\n",
       "                        <td id=\"T_319a8850_f4c1_11e9_84d2_008cfafbf396row2_col134\" class=\"data row2 col134\" >nan</td>\n",
       "                        <td id=\"T_319a8850_f4c1_11e9_84d2_008cfafbf396row2_col135\" class=\"data row2 col135\" >nan</td>\n",
       "                        <td id=\"T_319a8850_f4c1_11e9_84d2_008cfafbf396row2_col136\" class=\"data row2 col136\" >nan</td>\n",
       "                        <td id=\"T_319a8850_f4c1_11e9_84d2_008cfafbf396row2_col137\" class=\"data row2 col137\" >nan</td>\n",
       "                        <td id=\"T_319a8850_f4c1_11e9_84d2_008cfafbf396row2_col138\" class=\"data row2 col138\" >nan</td>\n",
       "                        <td id=\"T_319a8850_f4c1_11e9_84d2_008cfafbf396row2_col139\" class=\"data row2 col139\" >nan</td>\n",
       "                        <td id=\"T_319a8850_f4c1_11e9_84d2_008cfafbf396row2_col140\" class=\"data row2 col140\" >nan</td>\n",
       "                        <td id=\"T_319a8850_f4c1_11e9_84d2_008cfafbf396row2_col141\" class=\"data row2 col141\" >nan</td>\n",
       "                        <td id=\"T_319a8850_f4c1_11e9_84d2_008cfafbf396row2_col142\" class=\"data row2 col142\" >nan</td>\n",
       "                        <td id=\"T_319a8850_f4c1_11e9_84d2_008cfafbf396row2_col143\" class=\"data row2 col143\" >nan</td>\n",
       "                        <td id=\"T_319a8850_f4c1_11e9_84d2_008cfafbf396row2_col144\" class=\"data row2 col144\" >nan</td>\n",
       "                        <td id=\"T_319a8850_f4c1_11e9_84d2_008cfafbf396row2_col145\" class=\"data row2 col145\" >nan</td>\n",
       "                        <td id=\"T_319a8850_f4c1_11e9_84d2_008cfafbf396row2_col146\" class=\"data row2 col146\" >nan</td>\n",
       "                        <td id=\"T_319a8850_f4c1_11e9_84d2_008cfafbf396row2_col147\" class=\"data row2 col147\" >nan</td>\n",
       "                        <td id=\"T_319a8850_f4c1_11e9_84d2_008cfafbf396row2_col148\" class=\"data row2 col148\" >nan</td>\n",
       "                        <td id=\"T_319a8850_f4c1_11e9_84d2_008cfafbf396row2_col149\" class=\"data row2 col149\" >nan</td>\n",
       "                        <td id=\"T_319a8850_f4c1_11e9_84d2_008cfafbf396row2_col150\" class=\"data row2 col150\" >nan</td>\n",
       "                        <td id=\"T_319a8850_f4c1_11e9_84d2_008cfafbf396row2_col151\" class=\"data row2 col151\" >nan</td>\n",
       "                        <td id=\"T_319a8850_f4c1_11e9_84d2_008cfafbf396row2_col152\" class=\"data row2 col152\" >nan</td>\n",
       "                        <td id=\"T_319a8850_f4c1_11e9_84d2_008cfafbf396row2_col153\" class=\"data row2 col153\" >nan</td>\n",
       "                        <td id=\"T_319a8850_f4c1_11e9_84d2_008cfafbf396row2_col154\" class=\"data row2 col154\" >nan</td>\n",
       "                        <td id=\"T_319a8850_f4c1_11e9_84d2_008cfafbf396row2_col155\" class=\"data row2 col155\" >nan</td>\n",
       "                        <td id=\"T_319a8850_f4c1_11e9_84d2_008cfafbf396row2_col156\" class=\"data row2 col156\" >nan</td>\n",
       "                        <td id=\"T_319a8850_f4c1_11e9_84d2_008cfafbf396row2_col157\" class=\"data row2 col157\" >nan</td>\n",
       "                        <td id=\"T_319a8850_f4c1_11e9_84d2_008cfafbf396row2_col158\" class=\"data row2 col158\" >nan</td>\n",
       "                        <td id=\"T_319a8850_f4c1_11e9_84d2_008cfafbf396row2_col159\" class=\"data row2 col159\" >nan</td>\n",
       "                        <td id=\"T_319a8850_f4c1_11e9_84d2_008cfafbf396row2_col160\" class=\"data row2 col160\" >nan</td>\n",
       "                        <td id=\"T_319a8850_f4c1_11e9_84d2_008cfafbf396row2_col161\" class=\"data row2 col161\" >nan</td>\n",
       "                        <td id=\"T_319a8850_f4c1_11e9_84d2_008cfafbf396row2_col162\" class=\"data row2 col162\" >nan</td>\n",
       "                        <td id=\"T_319a8850_f4c1_11e9_84d2_008cfafbf396row2_col163\" class=\"data row2 col163\" >nan</td>\n",
       "                        <td id=\"T_319a8850_f4c1_11e9_84d2_008cfafbf396row2_col164\" class=\"data row2 col164\" >nan</td>\n",
       "                        <td id=\"T_319a8850_f4c1_11e9_84d2_008cfafbf396row2_col165\" class=\"data row2 col165\" >nan</td>\n",
       "                        <td id=\"T_319a8850_f4c1_11e9_84d2_008cfafbf396row2_col166\" class=\"data row2 col166\" >nan</td>\n",
       "            </tr>\n",
       "            <tr>\n",
       "                                <td id=\"T_319a8850_f4c1_11e9_84d2_008cfafbf396row3_col0\" class=\"data row3 col0\" >36</td>\n",
       "                        <td id=\"T_319a8850_f4c1_11e9_84d2_008cfafbf396row3_col1\" class=\"data row3 col1\" >StackedEnsemble_AllModels_AutoML_20191022_060633</td>\n",
       "                        <td id=\"T_319a8850_f4c1_11e9_84d2_008cfafbf396row3_col2\" class=\"data row3 col2\" >DeepLearning_grid_1_AutoML_20191022_060633_model_14</td>\n",
       "                        <td id=\"T_319a8850_f4c1_11e9_84d2_008cfafbf396row3_col3\" class=\"data row3 col3\" >DeepLearning_grid_1_AutoML_20191022_060633_model_8</td>\n",
       "                        <td id=\"T_319a8850_f4c1_11e9_84d2_008cfafbf396row3_col4\" class=\"data row3 col4\" >GBM_grid_1_AutoML_20191022_060633_model_20</td>\n",
       "                        <td id=\"T_319a8850_f4c1_11e9_84d2_008cfafbf396row3_col5\" class=\"data row3 col5\" >GBM_grid_1_AutoML_20191022_060633_model_19</td>\n",
       "                        <td id=\"T_319a8850_f4c1_11e9_84d2_008cfafbf396row3_col6\" class=\"data row3 col6\" >DeepLearning_grid_1_AutoML_20191022_060633_model_3</td>\n",
       "                        <td id=\"T_319a8850_f4c1_11e9_84d2_008cfafbf396row3_col7\" class=\"data row3 col7\" >GBM_grid_1_AutoML_20191022_060633_model_39</td>\n",
       "                        <td id=\"T_319a8850_f4c1_11e9_84d2_008cfafbf396row3_col8\" class=\"data row3 col8\" >GBM_grid_1_AutoML_20191022_060633_model_15</td>\n",
       "                        <td id=\"T_319a8850_f4c1_11e9_84d2_008cfafbf396row3_col9\" class=\"data row3 col9\" >DeepLearning_grid_1_AutoML_20191022_060633_model_4</td>\n",
       "                        <td id=\"T_319a8850_f4c1_11e9_84d2_008cfafbf396row3_col10\" class=\"data row3 col10\" >GBM_grid_1_AutoML_20191022_060633_model_18</td>\n",
       "                        <td id=\"T_319a8850_f4c1_11e9_84d2_008cfafbf396row3_col11\" class=\"data row3 col11\" >GBM_grid_1_AutoML_20191022_060633_model_31</td>\n",
       "                        <td id=\"T_319a8850_f4c1_11e9_84d2_008cfafbf396row3_col12\" class=\"data row3 col12\" >GBM_grid_1_AutoML_20191022_060633_model_35</td>\n",
       "                        <td id=\"T_319a8850_f4c1_11e9_84d2_008cfafbf396row3_col13\" class=\"data row3 col13\" >GBM_grid_1_AutoML_20191022_060633_model_43</td>\n",
       "                        <td id=\"T_319a8850_f4c1_11e9_84d2_008cfafbf396row3_col14\" class=\"data row3 col14\" >DeepLearning_grid_1_AutoML_20191022_060633_model_2</td>\n",
       "                        <td id=\"T_319a8850_f4c1_11e9_84d2_008cfafbf396row3_col15\" class=\"data row3 col15\" >GBM_grid_1_AutoML_20191022_060633_model_56</td>\n",
       "                        <td id=\"T_319a8850_f4c1_11e9_84d2_008cfafbf396row3_col16\" class=\"data row3 col16\" >GBM_grid_1_AutoML_20191022_060633_model_48</td>\n",
       "                        <td id=\"T_319a8850_f4c1_11e9_84d2_008cfafbf396row3_col17\" class=\"data row3 col17\" >GBM_grid_1_AutoML_20191022_060633_model_47</td>\n",
       "                        <td id=\"T_319a8850_f4c1_11e9_84d2_008cfafbf396row3_col18\" class=\"data row3 col18\" >GBM_grid_1_AutoML_20191022_060633_model_46</td>\n",
       "                        <td id=\"T_319a8850_f4c1_11e9_84d2_008cfafbf396row3_col19\" class=\"data row3 col19\" >GBM_grid_1_AutoML_20191022_060633_model_12</td>\n",
       "                        <td id=\"T_319a8850_f4c1_11e9_84d2_008cfafbf396row3_col20\" class=\"data row3 col20\" >GBM_grid_1_AutoML_20191022_060633_model_57</td>\n",
       "                        <td id=\"T_319a8850_f4c1_11e9_84d2_008cfafbf396row3_col21\" class=\"data row3 col21\" >GBM_3_AutoML_20191022_060633</td>\n",
       "                        <td id=\"T_319a8850_f4c1_11e9_84d2_008cfafbf396row3_col22\" class=\"data row3 col22\" >GBM_4_AutoML_20191022_060633</td>\n",
       "                        <td id=\"T_319a8850_f4c1_11e9_84d2_008cfafbf396row3_col23\" class=\"data row3 col23\" >GBM_grid_1_AutoML_20191022_060633_model_32</td>\n",
       "                        <td id=\"T_319a8850_f4c1_11e9_84d2_008cfafbf396row3_col24\" class=\"data row3 col24\" >GBM_grid_1_AutoML_20191022_060633_model_41</td>\n",
       "                        <td id=\"T_319a8850_f4c1_11e9_84d2_008cfafbf396row3_col25\" class=\"data row3 col25\" >GBM_grid_1_AutoML_20191022_060633_model_55</td>\n",
       "                        <td id=\"T_319a8850_f4c1_11e9_84d2_008cfafbf396row3_col26\" class=\"data row3 col26\" >GBM_2_AutoML_20191022_060633</td>\n",
       "                        <td id=\"T_319a8850_f4c1_11e9_84d2_008cfafbf396row3_col27\" class=\"data row3 col27\" >GBM_grid_1_AutoML_20191022_060633_model_27</td>\n",
       "                        <td id=\"T_319a8850_f4c1_11e9_84d2_008cfafbf396row3_col28\" class=\"data row3 col28\" >XGBoost_grid_1_AutoML_20191022_060633_model_13</td>\n",
       "                        <td id=\"T_319a8850_f4c1_11e9_84d2_008cfafbf396row3_col29\" class=\"data row3 col29\" >GBM_grid_1_AutoML_20191022_060633_model_58</td>\n",
       "                        <td id=\"T_319a8850_f4c1_11e9_84d2_008cfafbf396row3_col30\" class=\"data row3 col30\" >GBM_grid_1_AutoML_20191022_060633_model_11</td>\n",
       "                        <td id=\"T_319a8850_f4c1_11e9_84d2_008cfafbf396row3_col31\" class=\"data row3 col31\" >GBM_grid_1_AutoML_20191022_060633_model_1</td>\n",
       "                        <td id=\"T_319a8850_f4c1_11e9_84d2_008cfafbf396row3_col32\" class=\"data row3 col32\" >GBM_1_AutoML_20191022_060633</td>\n",
       "                        <td id=\"T_319a8850_f4c1_11e9_84d2_008cfafbf396row3_col33\" class=\"data row3 col33\" >GBM_grid_1_AutoML_20191022_060633_model_45</td>\n",
       "                        <td id=\"T_319a8850_f4c1_11e9_84d2_008cfafbf396row3_col34\" class=\"data row3 col34\" >XGBoost_grid_1_AutoML_20191022_060633_model_38</td>\n",
       "                        <td id=\"T_319a8850_f4c1_11e9_84d2_008cfafbf396row3_col35\" class=\"data row3 col35\" >GBM_5_AutoML_20191022_060633</td>\n",
       "                        <td id=\"T_319a8850_f4c1_11e9_84d2_008cfafbf396row3_col36\" class=\"data row3 col36\" >GBM_grid_1_AutoML_20191022_060633_model_17</td>\n",
       "                        <td id=\"T_319a8850_f4c1_11e9_84d2_008cfafbf396row3_col37\" class=\"data row3 col37\" >GBM_grid_1_AutoML_20191022_060633_model_14</td>\n",
       "                        <td id=\"T_319a8850_f4c1_11e9_84d2_008cfafbf396row3_col38\" class=\"data row3 col38\" >XGBoost_grid_1_AutoML_20191022_060633_model_30</td>\n",
       "                        <td id=\"T_319a8850_f4c1_11e9_84d2_008cfafbf396row3_col39\" class=\"data row3 col39\" >GBM_grid_1_AutoML_20191022_060633_model_10</td>\n",
       "                        <td id=\"T_319a8850_f4c1_11e9_84d2_008cfafbf396row3_col40\" class=\"data row3 col40\" >GBM_grid_1_AutoML_20191022_060633_model_16</td>\n",
       "                        <td id=\"T_319a8850_f4c1_11e9_84d2_008cfafbf396row3_col41\" class=\"data row3 col41\" >GBM_grid_1_AutoML_20191022_060633_model_3</td>\n",
       "                        <td id=\"T_319a8850_f4c1_11e9_84d2_008cfafbf396row3_col42\" class=\"data row3 col42\" >XGBoost_grid_1_AutoML_20191022_060633_model_17</td>\n",
       "                        <td id=\"T_319a8850_f4c1_11e9_84d2_008cfafbf396row3_col43\" class=\"data row3 col43\" >XGBoost_grid_1_AutoML_20191022_060633_model_33</td>\n",
       "                        <td id=\"T_319a8850_f4c1_11e9_84d2_008cfafbf396row3_col44\" class=\"data row3 col44\" >GBM_grid_1_AutoML_20191022_060633_model_42</td>\n",
       "                        <td id=\"T_319a8850_f4c1_11e9_84d2_008cfafbf396row3_col45\" class=\"data row3 col45\" >GBM_grid_1_AutoML_20191022_060633_model_6</td>\n",
       "                        <td id=\"T_319a8850_f4c1_11e9_84d2_008cfafbf396row3_col46\" class=\"data row3 col46\" >GBM_grid_1_AutoML_20191022_060633_model_8</td>\n",
       "                        <td id=\"T_319a8850_f4c1_11e9_84d2_008cfafbf396row3_col47\" class=\"data row3 col47\" >GBM_grid_1_AutoML_20191022_060633_model_26</td>\n",
       "                        <td id=\"T_319a8850_f4c1_11e9_84d2_008cfafbf396row3_col48\" class=\"data row3 col48\" >XGBoost_grid_1_AutoML_20191022_060633_model_37</td>\n",
       "                        <td id=\"T_319a8850_f4c1_11e9_84d2_008cfafbf396row3_col49\" class=\"data row3 col49\" >XGBoost_grid_1_AutoML_20191022_060633_model_25</td>\n",
       "                        <td id=\"T_319a8850_f4c1_11e9_84d2_008cfafbf396row3_col50\" class=\"data row3 col50\" >DRF_1_AutoML_20191022_060633</td>\n",
       "                        <td id=\"T_319a8850_f4c1_11e9_84d2_008cfafbf396row3_col51\" class=\"data row3 col51\" >GBM_grid_1_AutoML_20191022_060633_model_59</td>\n",
       "                        <td id=\"T_319a8850_f4c1_11e9_84d2_008cfafbf396row3_col52\" class=\"data row3 col52\" >XGBoost_1_AutoML_20191022_060633</td>\n",
       "                        <td id=\"T_319a8850_f4c1_11e9_84d2_008cfafbf396row3_col53\" class=\"data row3 col53\" >DeepLearning_grid_1_AutoML_20191022_060633_model_9</td>\n",
       "                        <td id=\"T_319a8850_f4c1_11e9_84d2_008cfafbf396row3_col54\" class=\"data row3 col54\" >GBM_grid_1_AutoML_20191022_060633_model_63</td>\n",
       "                        <td id=\"T_319a8850_f4c1_11e9_84d2_008cfafbf396row3_col55\" class=\"data row3 col55\" >XRT_1_AutoML_20191022_060633</td>\n",
       "                        <td id=\"T_319a8850_f4c1_11e9_84d2_008cfafbf396row3_col56\" class=\"data row3 col56\" >XGBoost_3_AutoML_20191022_060633</td>\n",
       "                        <td id=\"T_319a8850_f4c1_11e9_84d2_008cfafbf396row3_col57\" class=\"data row3 col57\" >GBM_grid_1_AutoML_20191022_060633_model_40</td>\n",
       "                        <td id=\"T_319a8850_f4c1_11e9_84d2_008cfafbf396row3_col58\" class=\"data row3 col58\" >GBM_grid_1_AutoML_20191022_060633_model_13</td>\n",
       "                        <td id=\"T_319a8850_f4c1_11e9_84d2_008cfafbf396row3_col59\" class=\"data row3 col59\" >XGBoost_grid_1_AutoML_20191022_060633_model_35</td>\n",
       "                        <td id=\"T_319a8850_f4c1_11e9_84d2_008cfafbf396row3_col60\" class=\"data row3 col60\" >DeepLearning_grid_1_AutoML_20191022_060633_model_5</td>\n",
       "                        <td id=\"T_319a8850_f4c1_11e9_84d2_008cfafbf396row3_col61\" class=\"data row3 col61\" >GBM_grid_1_AutoML_20191022_060633_model_53</td>\n",
       "                        <td id=\"T_319a8850_f4c1_11e9_84d2_008cfafbf396row3_col62\" class=\"data row3 col62\" >XGBoost_grid_1_AutoML_20191022_060633_model_2</td>\n",
       "                        <td id=\"T_319a8850_f4c1_11e9_84d2_008cfafbf396row3_col63\" class=\"data row3 col63\" >GBM_grid_1_AutoML_20191022_060633_model_24</td>\n",
       "                        <td id=\"T_319a8850_f4c1_11e9_84d2_008cfafbf396row3_col64\" class=\"data row3 col64\" >XGBoost_grid_1_AutoML_20191022_060633_model_27</td>\n",
       "                        <td id=\"T_319a8850_f4c1_11e9_84d2_008cfafbf396row3_col65\" class=\"data row3 col65\" >GBM_grid_1_AutoML_20191022_060633_model_52</td>\n",
       "                        <td id=\"T_319a8850_f4c1_11e9_84d2_008cfafbf396row3_col66\" class=\"data row3 col66\" >XGBoost_grid_1_AutoML_20191022_060633_model_18</td>\n",
       "                        <td id=\"T_319a8850_f4c1_11e9_84d2_008cfafbf396row3_col67\" class=\"data row3 col67\" >DeepLearning_grid_1_AutoML_20191022_060633_model_7</td>\n",
       "                        <td id=\"T_319a8850_f4c1_11e9_84d2_008cfafbf396row3_col68\" class=\"data row3 col68\" >GBM_grid_1_AutoML_20191022_060633_model_54</td>\n",
       "                        <td id=\"T_319a8850_f4c1_11e9_84d2_008cfafbf396row3_col69\" class=\"data row3 col69\" >XGBoost_grid_1_AutoML_20191022_060633_model_8</td>\n",
       "                        <td id=\"T_319a8850_f4c1_11e9_84d2_008cfafbf396row3_col70\" class=\"data row3 col70\" >XGBoost_grid_1_AutoML_20191022_060633_model_21</td>\n",
       "                        <td id=\"T_319a8850_f4c1_11e9_84d2_008cfafbf396row3_col71\" class=\"data row3 col71\" >XGBoost_grid_1_AutoML_20191022_060633_model_15</td>\n",
       "                        <td id=\"T_319a8850_f4c1_11e9_84d2_008cfafbf396row3_col72\" class=\"data row3 col72\" >GBM_grid_1_AutoML_20191022_060633_model_9</td>\n",
       "                        <td id=\"T_319a8850_f4c1_11e9_84d2_008cfafbf396row3_col73\" class=\"data row3 col73\" >XGBoost_grid_1_AutoML_20191022_060633_model_4</td>\n",
       "                        <td id=\"T_319a8850_f4c1_11e9_84d2_008cfafbf396row3_col74\" class=\"data row3 col74\" >DeepLearning_grid_1_AutoML_20191022_060633_model_13</td>\n",
       "                        <td id=\"T_319a8850_f4c1_11e9_84d2_008cfafbf396row3_col75\" class=\"data row3 col75\" >XGBoost_2_AutoML_20191022_060633</td>\n",
       "                        <td id=\"T_319a8850_f4c1_11e9_84d2_008cfafbf396row3_col76\" class=\"data row3 col76\" >XGBoost_grid_1_AutoML_20191022_060633_model_41</td>\n",
       "                        <td id=\"T_319a8850_f4c1_11e9_84d2_008cfafbf396row3_col77\" class=\"data row3 col77\" >GBM_grid_1_AutoML_20191022_060633_model_62</td>\n",
       "                        <td id=\"T_319a8850_f4c1_11e9_84d2_008cfafbf396row3_col78\" class=\"data row3 col78\" >XGBoost_grid_1_AutoML_20191022_060633_model_32</td>\n",
       "                        <td id=\"T_319a8850_f4c1_11e9_84d2_008cfafbf396row3_col79\" class=\"data row3 col79\" >DeepLearning_grid_1_AutoML_20191022_060633_model_11</td>\n",
       "                        <td id=\"T_319a8850_f4c1_11e9_84d2_008cfafbf396row3_col80\" class=\"data row3 col80\" >XGBoost_grid_1_AutoML_20191022_060633_model_29</td>\n",
       "                        <td id=\"T_319a8850_f4c1_11e9_84d2_008cfafbf396row3_col81\" class=\"data row3 col81\" >XGBoost_grid_1_AutoML_20191022_060633_model_3</td>\n",
       "                        <td id=\"T_319a8850_f4c1_11e9_84d2_008cfafbf396row3_col82\" class=\"data row3 col82\" >DeepLearning_grid_1_AutoML_20191022_060633_model_6</td>\n",
       "                        <td id=\"T_319a8850_f4c1_11e9_84d2_008cfafbf396row3_col83\" class=\"data row3 col83\" >XGBoost_grid_1_AutoML_20191022_060633_model_31</td>\n",
       "                        <td id=\"T_319a8850_f4c1_11e9_84d2_008cfafbf396row3_col84\" class=\"data row3 col84\" >GBM_grid_1_AutoML_20191022_060633_model_29</td>\n",
       "                        <td id=\"T_319a8850_f4c1_11e9_84d2_008cfafbf396row3_col85\" class=\"data row3 col85\" >XGBoost_grid_1_AutoML_20191022_060633_model_34</td>\n",
       "                        <td id=\"T_319a8850_f4c1_11e9_84d2_008cfafbf396row3_col86\" class=\"data row3 col86\" >XGBoost_grid_1_AutoML_20191022_060633_model_20</td>\n",
       "                        <td id=\"T_319a8850_f4c1_11e9_84d2_008cfafbf396row3_col87\" class=\"data row3 col87\" >XGBoost_grid_1_AutoML_20191022_060633_model_36</td>\n",
       "                        <td id=\"T_319a8850_f4c1_11e9_84d2_008cfafbf396row3_col88\" class=\"data row3 col88\" >DeepLearning_grid_1_AutoML_20191022_060633_model_1</td>\n",
       "                        <td id=\"T_319a8850_f4c1_11e9_84d2_008cfafbf396row3_col89\" class=\"data row3 col89\" >XGBoost_grid_1_AutoML_20191022_060633_model_7</td>\n",
       "                        <td id=\"T_319a8850_f4c1_11e9_84d2_008cfafbf396row3_col90\" class=\"data row3 col90\" >DeepLearning_grid_1_AutoML_20191022_060633_model_12</td>\n",
       "                        <td id=\"T_319a8850_f4c1_11e9_84d2_008cfafbf396row3_col91\" class=\"data row3 col91\" >XGBoost_grid_1_AutoML_20191022_060633_model_19</td>\n",
       "                        <td id=\"T_319a8850_f4c1_11e9_84d2_008cfafbf396row3_col92\" class=\"data row3 col92\" >GBM_grid_1_AutoML_20191022_060633_model_21</td>\n",
       "                        <td id=\"T_319a8850_f4c1_11e9_84d2_008cfafbf396row3_col93\" class=\"data row3 col93\" >DeepLearning_grid_1_AutoML_20191022_060633_model_15</td>\n",
       "                        <td id=\"T_319a8850_f4c1_11e9_84d2_008cfafbf396row3_col94\" class=\"data row3 col94\" >XGBoost_grid_1_AutoML_20191022_060633_model_26</td>\n",
       "                        <td id=\"T_319a8850_f4c1_11e9_84d2_008cfafbf396row3_col95\" class=\"data row3 col95\" >XGBoost_grid_1_AutoML_20191022_060633_model_45</td>\n",
       "                        <td id=\"T_319a8850_f4c1_11e9_84d2_008cfafbf396row3_col96\" class=\"data row3 col96\" >XGBoost_grid_1_AutoML_20191022_060633_model_28</td>\n",
       "                        <td id=\"T_319a8850_f4c1_11e9_84d2_008cfafbf396row3_col97\" class=\"data row3 col97\" >DeepLearning_grid_1_AutoML_20191022_060633_model_16</td>\n",
       "                        <td id=\"T_319a8850_f4c1_11e9_84d2_008cfafbf396row3_col98\" class=\"data row3 col98\" >XGBoost_grid_1_AutoML_20191022_060633_model_1</td>\n",
       "                        <td id=\"T_319a8850_f4c1_11e9_84d2_008cfafbf396row3_col99\" class=\"data row3 col99\" >XGBoost_grid_1_AutoML_20191022_060633_model_42</td>\n",
       "                        <td id=\"T_319a8850_f4c1_11e9_84d2_008cfafbf396row3_col100\" class=\"data row3 col100\" >DeepLearning_grid_1_AutoML_20191022_060633_model_10</td>\n",
       "                        <td id=\"T_319a8850_f4c1_11e9_84d2_008cfafbf396row3_col101\" class=\"data row3 col101\" >GBM_grid_1_AutoML_20191022_060633_model_7</td>\n",
       "                        <td id=\"T_319a8850_f4c1_11e9_84d2_008cfafbf396row3_col102\" class=\"data row3 col102\" >XGBoost_grid_1_AutoML_20191022_060633_model_23</td>\n",
       "                        <td id=\"T_319a8850_f4c1_11e9_84d2_008cfafbf396row3_col103\" class=\"data row3 col103\" >XGBoost_grid_1_AutoML_20191022_060633_model_5</td>\n",
       "                        <td id=\"T_319a8850_f4c1_11e9_84d2_008cfafbf396row3_col104\" class=\"data row3 col104\" >XGBoost_grid_1_AutoML_20191022_060633_model_40</td>\n",
       "                        <td id=\"T_319a8850_f4c1_11e9_84d2_008cfafbf396row3_col105\" class=\"data row3 col105\" >XGBoost_grid_1_AutoML_20191022_060633_model_43</td>\n",
       "                        <td id=\"T_319a8850_f4c1_11e9_84d2_008cfafbf396row3_col106\" class=\"data row3 col106\" >GBM_grid_1_AutoML_20191022_060633_model_28</td>\n",
       "                        <td id=\"T_319a8850_f4c1_11e9_84d2_008cfafbf396row3_col107\" class=\"data row3 col107\" >GBM_grid_1_AutoML_20191022_060633_model_23</td>\n",
       "                        <td id=\"T_319a8850_f4c1_11e9_84d2_008cfafbf396row3_col108\" class=\"data row3 col108\" >GLM_grid_1_AutoML_20191022_060633_model_1</td>\n",
       "                        <td id=\"T_319a8850_f4c1_11e9_84d2_008cfafbf396row3_col109\" class=\"data row3 col109\" >XGBoost_grid_1_AutoML_20191022_060633_model_12</td>\n",
       "                        <td id=\"T_319a8850_f4c1_11e9_84d2_008cfafbf396row3_col110\" class=\"data row3 col110\" >XGBoost_grid_1_AutoML_20191022_060633_model_39</td>\n",
       "                        <td id=\"T_319a8850_f4c1_11e9_84d2_008cfafbf396row3_col111\" class=\"data row3 col111\" >GBM_grid_1_AutoML_20191022_060633_model_30</td>\n",
       "                        <td id=\"T_319a8850_f4c1_11e9_84d2_008cfafbf396row3_col112\" class=\"data row3 col112\" >GBM_grid_1_AutoML_20191022_060633_model_61</td>\n",
       "                        <td id=\"T_319a8850_f4c1_11e9_84d2_008cfafbf396row3_col113\" class=\"data row3 col113\" >GBM_grid_1_AutoML_20191022_060633_model_4</td>\n",
       "                        <td id=\"T_319a8850_f4c1_11e9_84d2_008cfafbf396row3_col114\" class=\"data row3 col114\" >GBM_grid_1_AutoML_20191022_060633_model_25</td>\n",
       "                        <td id=\"T_319a8850_f4c1_11e9_84d2_008cfafbf396row3_col115\" class=\"data row3 col115\" >XGBoost_grid_1_AutoML_20191022_060633_model_22</td>\n",
       "                        <td id=\"T_319a8850_f4c1_11e9_84d2_008cfafbf396row3_col116\" class=\"data row3 col116\" >GBM_grid_1_AutoML_20191022_060633_model_38</td>\n",
       "                        <td id=\"T_319a8850_f4c1_11e9_84d2_008cfafbf396row3_col117\" class=\"data row3 col117\" >XGBoost_grid_1_AutoML_20191022_060633_model_14</td>\n",
       "                        <td id=\"T_319a8850_f4c1_11e9_84d2_008cfafbf396row3_col118\" class=\"data row3 col118\" >XGBoost_grid_1_AutoML_20191022_060633_model_10</td>\n",
       "                        <td id=\"T_319a8850_f4c1_11e9_84d2_008cfafbf396row3_col119\" class=\"data row3 col119\" >XGBoost_grid_1_AutoML_20191022_060633_model_24</td>\n",
       "                        <td id=\"T_319a8850_f4c1_11e9_84d2_008cfafbf396row3_col120\" class=\"data row3 col120\" >XGBoost_grid_1_AutoML_20191022_060633_model_6</td>\n",
       "                        <td id=\"T_319a8850_f4c1_11e9_84d2_008cfafbf396row3_col121\" class=\"data row3 col121\" >XGBoost_grid_1_AutoML_20191022_060633_model_44</td>\n",
       "                        <td id=\"T_319a8850_f4c1_11e9_84d2_008cfafbf396row3_col122\" class=\"data row3 col122\" >XGBoost_grid_1_AutoML_20191022_060633_model_11</td>\n",
       "                        <td id=\"T_319a8850_f4c1_11e9_84d2_008cfafbf396row3_col123\" class=\"data row3 col123\" >GBM_grid_1_AutoML_20191022_060633_model_37</td>\n",
       "                        <td id=\"T_319a8850_f4c1_11e9_84d2_008cfafbf396row3_col124\" class=\"data row3 col124\" >XGBoost_grid_1_AutoML_20191022_060633_model_16</td>\n",
       "                        <td id=\"T_319a8850_f4c1_11e9_84d2_008cfafbf396row3_col125\" class=\"data row3 col125\" >GBM_grid_1_AutoML_20191022_060633_model_33</td>\n",
       "                        <td id=\"T_319a8850_f4c1_11e9_84d2_008cfafbf396row3_col126\" class=\"data row3 col126\" >GBM_grid_1_AutoML_20191022_060633_model_34</td>\n",
       "                        <td id=\"T_319a8850_f4c1_11e9_84d2_008cfafbf396row3_col127\" class=\"data row3 col127\" >GBM_grid_1_AutoML_20191022_060633_model_64</td>\n",
       "                        <td id=\"T_319a8850_f4c1_11e9_84d2_008cfafbf396row3_col128\" class=\"data row3 col128\" >GBM_grid_1_AutoML_20191022_060633_model_49</td>\n",
       "                        <td id=\"T_319a8850_f4c1_11e9_84d2_008cfafbf396row3_col129\" class=\"data row3 col129\" >GBM_grid_1_AutoML_20191022_060633_model_50</td>\n",
       "                        <td id=\"T_319a8850_f4c1_11e9_84d2_008cfafbf396row3_col130\" class=\"data row3 col130\" >XGBoost_grid_1_AutoML_20191022_060633_model_9</td>\n",
       "                        <td id=\"T_319a8850_f4c1_11e9_84d2_008cfafbf396row3_col131\" class=\"data row3 col131\" >GBM_grid_1_AutoML_20191022_060633_model_51</td>\n",
       "                        <td id=\"T_319a8850_f4c1_11e9_84d2_008cfafbf396row3_col132\" class=\"data row3 col132\" >GBM_grid_1_AutoML_20191022_060633_model_2</td>\n",
       "                        <td id=\"T_319a8850_f4c1_11e9_84d2_008cfafbf396row3_col133\" class=\"data row3 col133\" >DeepLearning_1_AutoML_20191022_060633</td>\n",
       "                        <td id=\"T_319a8850_f4c1_11e9_84d2_008cfafbf396row3_col134\" class=\"data row3 col134\" >GBM_grid_1_AutoML_20191022_060633_model_44</td>\n",
       "                        <td id=\"T_319a8850_f4c1_11e9_84d2_008cfafbf396row3_col135\" class=\"data row3 col135\" >GBM_grid_1_AutoML_20191022_060633_model_22</td>\n",
       "                        <td id=\"T_319a8850_f4c1_11e9_84d2_008cfafbf396row3_col136\" class=\"data row3 col136\" >GBM_grid_1_AutoML_20191022_060633_model_5</td>\n",
       "                        <td id=\"T_319a8850_f4c1_11e9_84d2_008cfafbf396row3_col137\" class=\"data row3 col137\" >GBM_grid_1_AutoML_20191022_060633_model_66</td>\n",
       "                        <td id=\"T_319a8850_f4c1_11e9_84d2_008cfafbf396row3_col138\" class=\"data row3 col138\" >GBM_grid_1_AutoML_20191022_060633_model_65</td>\n",
       "                        <td id=\"T_319a8850_f4c1_11e9_84d2_008cfafbf396row3_col139\" class=\"data row3 col139\" >GBM_grid_1_AutoML_20191022_060633_model_60</td>\n",
       "                        <td id=\"T_319a8850_f4c1_11e9_84d2_008cfafbf396row3_col140\" class=\"data row3 col140\" >GBM_grid_1_AutoML_20191022_060633_model_36</td>\n",
       "                        <td id=\"T_319a8850_f4c1_11e9_84d2_008cfafbf396row3_col141\" class=\"data row3 col141\" >nan</td>\n",
       "                        <td id=\"T_319a8850_f4c1_11e9_84d2_008cfafbf396row3_col142\" class=\"data row3 col142\" >nan</td>\n",
       "                        <td id=\"T_319a8850_f4c1_11e9_84d2_008cfafbf396row3_col143\" class=\"data row3 col143\" >nan</td>\n",
       "                        <td id=\"T_319a8850_f4c1_11e9_84d2_008cfafbf396row3_col144\" class=\"data row3 col144\" >nan</td>\n",
       "                        <td id=\"T_319a8850_f4c1_11e9_84d2_008cfafbf396row3_col145\" class=\"data row3 col145\" >nan</td>\n",
       "                        <td id=\"T_319a8850_f4c1_11e9_84d2_008cfafbf396row3_col146\" class=\"data row3 col146\" >nan</td>\n",
       "                        <td id=\"T_319a8850_f4c1_11e9_84d2_008cfafbf396row3_col147\" class=\"data row3 col147\" >nan</td>\n",
       "                        <td id=\"T_319a8850_f4c1_11e9_84d2_008cfafbf396row3_col148\" class=\"data row3 col148\" >nan</td>\n",
       "                        <td id=\"T_319a8850_f4c1_11e9_84d2_008cfafbf396row3_col149\" class=\"data row3 col149\" >nan</td>\n",
       "                        <td id=\"T_319a8850_f4c1_11e9_84d2_008cfafbf396row3_col150\" class=\"data row3 col150\" >nan</td>\n",
       "                        <td id=\"T_319a8850_f4c1_11e9_84d2_008cfafbf396row3_col151\" class=\"data row3 col151\" >nan</td>\n",
       "                        <td id=\"T_319a8850_f4c1_11e9_84d2_008cfafbf396row3_col152\" class=\"data row3 col152\" >nan</td>\n",
       "                        <td id=\"T_319a8850_f4c1_11e9_84d2_008cfafbf396row3_col153\" class=\"data row3 col153\" >nan</td>\n",
       "                        <td id=\"T_319a8850_f4c1_11e9_84d2_008cfafbf396row3_col154\" class=\"data row3 col154\" >nan</td>\n",
       "                        <td id=\"T_319a8850_f4c1_11e9_84d2_008cfafbf396row3_col155\" class=\"data row3 col155\" >nan</td>\n",
       "                        <td id=\"T_319a8850_f4c1_11e9_84d2_008cfafbf396row3_col156\" class=\"data row3 col156\" >nan</td>\n",
       "                        <td id=\"T_319a8850_f4c1_11e9_84d2_008cfafbf396row3_col157\" class=\"data row3 col157\" >nan</td>\n",
       "                        <td id=\"T_319a8850_f4c1_11e9_84d2_008cfafbf396row3_col158\" class=\"data row3 col158\" >nan</td>\n",
       "                        <td id=\"T_319a8850_f4c1_11e9_84d2_008cfafbf396row3_col159\" class=\"data row3 col159\" >nan</td>\n",
       "                        <td id=\"T_319a8850_f4c1_11e9_84d2_008cfafbf396row3_col160\" class=\"data row3 col160\" >nan</td>\n",
       "                        <td id=\"T_319a8850_f4c1_11e9_84d2_008cfafbf396row3_col161\" class=\"data row3 col161\" >nan</td>\n",
       "                        <td id=\"T_319a8850_f4c1_11e9_84d2_008cfafbf396row3_col162\" class=\"data row3 col162\" >nan</td>\n",
       "                        <td id=\"T_319a8850_f4c1_11e9_84d2_008cfafbf396row3_col163\" class=\"data row3 col163\" >nan</td>\n",
       "                        <td id=\"T_319a8850_f4c1_11e9_84d2_008cfafbf396row3_col164\" class=\"data row3 col164\" >nan</td>\n",
       "                        <td id=\"T_319a8850_f4c1_11e9_84d2_008cfafbf396row3_col165\" class=\"data row3 col165\" >nan</td>\n",
       "                        <td id=\"T_319a8850_f4c1_11e9_84d2_008cfafbf396row3_col166\" class=\"data row3 col166\" >nan</td>\n",
       "            </tr>\n",
       "            <tr>\n",
       "                                <td id=\"T_319a8850_f4c1_11e9_84d2_008cfafbf396row4_col0\" class=\"data row4 col0\" >48</td>\n",
       "                        <td id=\"T_319a8850_f4c1_11e9_84d2_008cfafbf396row4_col1\" class=\"data row4 col1\" >StackedEnsemble_AllModels_AutoML_20191022_060637</td>\n",
       "                        <td id=\"T_319a8850_f4c1_11e9_84d2_008cfafbf396row4_col2\" class=\"data row4 col2\" >DeepLearning_grid_1_AutoML_20191022_060637_model_3</td>\n",
       "                        <td id=\"T_319a8850_f4c1_11e9_84d2_008cfafbf396row4_col3\" class=\"data row4 col3\" >DeepLearning_grid_1_AutoML_20191022_060637_model_8</td>\n",
       "                        <td id=\"T_319a8850_f4c1_11e9_84d2_008cfafbf396row4_col4\" class=\"data row4 col4\" >DeepLearning_grid_1_AutoML_20191022_060637_model_2</td>\n",
       "                        <td id=\"T_319a8850_f4c1_11e9_84d2_008cfafbf396row4_col5\" class=\"data row4 col5\" >DeepLearning_grid_1_AutoML_20191022_060637_model_12</td>\n",
       "                        <td id=\"T_319a8850_f4c1_11e9_84d2_008cfafbf396row4_col6\" class=\"data row4 col6\" >GBM_grid_1_AutoML_20191022_060637_model_46</td>\n",
       "                        <td id=\"T_319a8850_f4c1_11e9_84d2_008cfafbf396row4_col7\" class=\"data row4 col7\" >GBM_grid_1_AutoML_20191022_060637_model_15</td>\n",
       "                        <td id=\"T_319a8850_f4c1_11e9_84d2_008cfafbf396row4_col8\" class=\"data row4 col8\" >GBM_grid_1_AutoML_20191022_060637_model_39</td>\n",
       "                        <td id=\"T_319a8850_f4c1_11e9_84d2_008cfafbf396row4_col9\" class=\"data row4 col9\" >GBM_grid_1_AutoML_20191022_060637_model_35</td>\n",
       "                        <td id=\"T_319a8850_f4c1_11e9_84d2_008cfafbf396row4_col10\" class=\"data row4 col10\" >DeepLearning_grid_1_AutoML_20191022_060637_model_9</td>\n",
       "                        <td id=\"T_319a8850_f4c1_11e9_84d2_008cfafbf396row4_col11\" class=\"data row4 col11\" >GBM_grid_1_AutoML_20191022_060637_model_18</td>\n",
       "                        <td id=\"T_319a8850_f4c1_11e9_84d2_008cfafbf396row4_col12\" class=\"data row4 col12\" >GBM_grid_1_AutoML_20191022_060637_model_20</td>\n",
       "                        <td id=\"T_319a8850_f4c1_11e9_84d2_008cfafbf396row4_col13\" class=\"data row4 col13\" >GBM_grid_1_AutoML_20191022_060637_model_47</td>\n",
       "                        <td id=\"T_319a8850_f4c1_11e9_84d2_008cfafbf396row4_col14\" class=\"data row4 col14\" >GBM_2_AutoML_20191022_060637</td>\n",
       "                        <td id=\"T_319a8850_f4c1_11e9_84d2_008cfafbf396row4_col15\" class=\"data row4 col15\" >GBM_grid_1_AutoML_20191022_060637_model_19</td>\n",
       "                        <td id=\"T_319a8850_f4c1_11e9_84d2_008cfafbf396row4_col16\" class=\"data row4 col16\" >GBM_grid_1_AutoML_20191022_060637_model_41</td>\n",
       "                        <td id=\"T_319a8850_f4c1_11e9_84d2_008cfafbf396row4_col17\" class=\"data row4 col17\" >GBM_grid_1_AutoML_20191022_060637_model_12</td>\n",
       "                        <td id=\"T_319a8850_f4c1_11e9_84d2_008cfafbf396row4_col18\" class=\"data row4 col18\" >GBM_4_AutoML_20191022_060637</td>\n",
       "                        <td id=\"T_319a8850_f4c1_11e9_84d2_008cfafbf396row4_col19\" class=\"data row4 col19\" >GBM_grid_1_AutoML_20191022_060637_model_58</td>\n",
       "                        <td id=\"T_319a8850_f4c1_11e9_84d2_008cfafbf396row4_col20\" class=\"data row4 col20\" >DeepLearning_grid_1_AutoML_20191022_060637_model_4</td>\n",
       "                        <td id=\"T_319a8850_f4c1_11e9_84d2_008cfafbf396row4_col21\" class=\"data row4 col21\" >GBM_grid_1_AutoML_20191022_060637_model_32</td>\n",
       "                        <td id=\"T_319a8850_f4c1_11e9_84d2_008cfafbf396row4_col22\" class=\"data row4 col22\" >GBM_grid_1_AutoML_20191022_060637_model_43</td>\n",
       "                        <td id=\"T_319a8850_f4c1_11e9_84d2_008cfafbf396row4_col23\" class=\"data row4 col23\" >XRT_1_AutoML_20191022_060637</td>\n",
       "                        <td id=\"T_319a8850_f4c1_11e9_84d2_008cfafbf396row4_col24\" class=\"data row4 col24\" >GBM_grid_1_AutoML_20191022_060637_model_31</td>\n",
       "                        <td id=\"T_319a8850_f4c1_11e9_84d2_008cfafbf396row4_col25\" class=\"data row4 col25\" >GBM_grid_1_AutoML_20191022_060637_model_55</td>\n",
       "                        <td id=\"T_319a8850_f4c1_11e9_84d2_008cfafbf396row4_col26\" class=\"data row4 col26\" >GBM_grid_1_AutoML_20191022_060637_model_3</td>\n",
       "                        <td id=\"T_319a8850_f4c1_11e9_84d2_008cfafbf396row4_col27\" class=\"data row4 col27\" >GBM_grid_1_AutoML_20191022_060637_model_48</td>\n",
       "                        <td id=\"T_319a8850_f4c1_11e9_84d2_008cfafbf396row4_col28\" class=\"data row4 col28\" >GBM_grid_1_AutoML_20191022_060637_model_11</td>\n",
       "                        <td id=\"T_319a8850_f4c1_11e9_84d2_008cfafbf396row4_col29\" class=\"data row4 col29\" >GBM_grid_1_AutoML_20191022_060637_model_49</td>\n",
       "                        <td id=\"T_319a8850_f4c1_11e9_84d2_008cfafbf396row4_col30\" class=\"data row4 col30\" >GBM_grid_1_AutoML_20191022_060637_model_40</td>\n",
       "                        <td id=\"T_319a8850_f4c1_11e9_84d2_008cfafbf396row4_col31\" class=\"data row4 col31\" >GBM_grid_1_AutoML_20191022_060637_model_57</td>\n",
       "                        <td id=\"T_319a8850_f4c1_11e9_84d2_008cfafbf396row4_col32\" class=\"data row4 col32\" >GBM_grid_1_AutoML_20191022_060637_model_14</td>\n",
       "                        <td id=\"T_319a8850_f4c1_11e9_84d2_008cfafbf396row4_col33\" class=\"data row4 col33\" >GBM_3_AutoML_20191022_060637</td>\n",
       "                        <td id=\"T_319a8850_f4c1_11e9_84d2_008cfafbf396row4_col34\" class=\"data row4 col34\" >GBM_grid_1_AutoML_20191022_060637_model_62</td>\n",
       "                        <td id=\"T_319a8850_f4c1_11e9_84d2_008cfafbf396row4_col35\" class=\"data row4 col35\" >GBM_grid_1_AutoML_20191022_060637_model_56</td>\n",
       "                        <td id=\"T_319a8850_f4c1_11e9_84d2_008cfafbf396row4_col36\" class=\"data row4 col36\" >GBM_grid_1_AutoML_20191022_060637_model_6</td>\n",
       "                        <td id=\"T_319a8850_f4c1_11e9_84d2_008cfafbf396row4_col37\" class=\"data row4 col37\" >DRF_1_AutoML_20191022_060637</td>\n",
       "                        <td id=\"T_319a8850_f4c1_11e9_84d2_008cfafbf396row4_col38\" class=\"data row4 col38\" >GBM_grid_1_AutoML_20191022_060637_model_66</td>\n",
       "                        <td id=\"T_319a8850_f4c1_11e9_84d2_008cfafbf396row4_col39\" class=\"data row4 col39\" >GBM_grid_1_AutoML_20191022_060637_model_45</td>\n",
       "                        <td id=\"T_319a8850_f4c1_11e9_84d2_008cfafbf396row4_col40\" class=\"data row4 col40\" >GBM_grid_1_AutoML_20191022_060637_model_69</td>\n",
       "                        <td id=\"T_319a8850_f4c1_11e9_84d2_008cfafbf396row4_col41\" class=\"data row4 col41\" >XGBoost_grid_1_AutoML_20191022_060637_model_38</td>\n",
       "                        <td id=\"T_319a8850_f4c1_11e9_84d2_008cfafbf396row4_col42\" class=\"data row4 col42\" >XGBoost_grid_1_AutoML_20191022_060637_model_33</td>\n",
       "                        <td id=\"T_319a8850_f4c1_11e9_84d2_008cfafbf396row4_col43\" class=\"data row4 col43\" >GBM_grid_1_AutoML_20191022_060637_model_67</td>\n",
       "                        <td id=\"T_319a8850_f4c1_11e9_84d2_008cfafbf396row4_col44\" class=\"data row4 col44\" >GBM_grid_1_AutoML_20191022_060637_model_63</td>\n",
       "                        <td id=\"T_319a8850_f4c1_11e9_84d2_008cfafbf396row4_col45\" class=\"data row4 col45\" >XGBoost_grid_1_AutoML_20191022_060637_model_13</td>\n",
       "                        <td id=\"T_319a8850_f4c1_11e9_84d2_008cfafbf396row4_col46\" class=\"data row4 col46\" >GBM_grid_1_AutoML_20191022_060637_model_26</td>\n",
       "                        <td id=\"T_319a8850_f4c1_11e9_84d2_008cfafbf396row4_col47\" class=\"data row4 col47\" >GBM_5_AutoML_20191022_060637</td>\n",
       "                        <td id=\"T_319a8850_f4c1_11e9_84d2_008cfafbf396row4_col48\" class=\"data row4 col48\" >DeepLearning_grid_1_AutoML_20191022_060637_model_7</td>\n",
       "                        <td id=\"T_319a8850_f4c1_11e9_84d2_008cfafbf396row4_col49\" class=\"data row4 col49\" >GBM_grid_1_AutoML_20191022_060637_model_27</td>\n",
       "                        <td id=\"T_319a8850_f4c1_11e9_84d2_008cfafbf396row4_col50\" class=\"data row4 col50\" >XGBoost_grid_1_AutoML_20191022_060637_model_17</td>\n",
       "                        <td id=\"T_319a8850_f4c1_11e9_84d2_008cfafbf396row4_col51\" class=\"data row4 col51\" >XGBoost_grid_1_AutoML_20191022_060637_model_37</td>\n",
       "                        <td id=\"T_319a8850_f4c1_11e9_84d2_008cfafbf396row4_col52\" class=\"data row4 col52\" >GBM_grid_1_AutoML_20191022_060637_model_59</td>\n",
       "                        <td id=\"T_319a8850_f4c1_11e9_84d2_008cfafbf396row4_col53\" class=\"data row4 col53\" >GBM_1_AutoML_20191022_060637</td>\n",
       "                        <td id=\"T_319a8850_f4c1_11e9_84d2_008cfafbf396row4_col54\" class=\"data row4 col54\" >DeepLearning_grid_1_AutoML_20191022_060637_model_5</td>\n",
       "                        <td id=\"T_319a8850_f4c1_11e9_84d2_008cfafbf396row4_col55\" class=\"data row4 col55\" >XGBoost_1_AutoML_20191022_060637</td>\n",
       "                        <td id=\"T_319a8850_f4c1_11e9_84d2_008cfafbf396row4_col56\" class=\"data row4 col56\" >GBM_grid_1_AutoML_20191022_060637_model_17</td>\n",
       "                        <td id=\"T_319a8850_f4c1_11e9_84d2_008cfafbf396row4_col57\" class=\"data row4 col57\" >GBM_grid_1_AutoML_20191022_060637_model_8</td>\n",
       "                        <td id=\"T_319a8850_f4c1_11e9_84d2_008cfafbf396row4_col58\" class=\"data row4 col58\" >XGBoost_grid_1_AutoML_20191022_060637_model_45</td>\n",
       "                        <td id=\"T_319a8850_f4c1_11e9_84d2_008cfafbf396row4_col59\" class=\"data row4 col59\" >XGBoost_grid_1_AutoML_20191022_060637_model_8</td>\n",
       "                        <td id=\"T_319a8850_f4c1_11e9_84d2_008cfafbf396row4_col60\" class=\"data row4 col60\" >GBM_grid_1_AutoML_20191022_060637_model_54</td>\n",
       "                        <td id=\"T_319a8850_f4c1_11e9_84d2_008cfafbf396row4_col61\" class=\"data row4 col61\" >XGBoost_grid_1_AutoML_20191022_060637_model_2</td>\n",
       "                        <td id=\"T_319a8850_f4c1_11e9_84d2_008cfafbf396row4_col62\" class=\"data row4 col62\" >GBM_grid_1_AutoML_20191022_060637_model_42</td>\n",
       "                        <td id=\"T_319a8850_f4c1_11e9_84d2_008cfafbf396row4_col63\" class=\"data row4 col63\" >XGBoost_grid_1_AutoML_20191022_060637_model_27</td>\n",
       "                        <td id=\"T_319a8850_f4c1_11e9_84d2_008cfafbf396row4_col64\" class=\"data row4 col64\" >GBM_grid_1_AutoML_20191022_060637_model_13</td>\n",
       "                        <td id=\"T_319a8850_f4c1_11e9_84d2_008cfafbf396row4_col65\" class=\"data row4 col65\" >GBM_grid_1_AutoML_20191022_060637_model_52</td>\n",
       "                        <td id=\"T_319a8850_f4c1_11e9_84d2_008cfafbf396row4_col66\" class=\"data row4 col66\" >GBM_grid_1_AutoML_20191022_060637_model_10</td>\n",
       "                        <td id=\"T_319a8850_f4c1_11e9_84d2_008cfafbf396row4_col67\" class=\"data row4 col67\" >XGBoost_grid_1_AutoML_20191022_060637_model_4</td>\n",
       "                        <td id=\"T_319a8850_f4c1_11e9_84d2_008cfafbf396row4_col68\" class=\"data row4 col68\" >XGBoost_3_AutoML_20191022_060637</td>\n",
       "                        <td id=\"T_319a8850_f4c1_11e9_84d2_008cfafbf396row4_col69\" class=\"data row4 col69\" >DeepLearning_grid_1_AutoML_20191022_060637_model_1</td>\n",
       "                        <td id=\"T_319a8850_f4c1_11e9_84d2_008cfafbf396row4_col70\" class=\"data row4 col70\" >XGBoost_grid_1_AutoML_20191022_060637_model_18</td>\n",
       "                        <td id=\"T_319a8850_f4c1_11e9_84d2_008cfafbf396row4_col71\" class=\"data row4 col71\" >XGBoost_grid_1_AutoML_20191022_060637_model_15</td>\n",
       "                        <td id=\"T_319a8850_f4c1_11e9_84d2_008cfafbf396row4_col72\" class=\"data row4 col72\" >GBM_grid_1_AutoML_20191022_060637_model_64</td>\n",
       "                        <td id=\"T_319a8850_f4c1_11e9_84d2_008cfafbf396row4_col73\" class=\"data row4 col73\" >GBM_grid_1_AutoML_20191022_060637_model_53</td>\n",
       "                        <td id=\"T_319a8850_f4c1_11e9_84d2_008cfafbf396row4_col74\" class=\"data row4 col74\" >XGBoost_grid_1_AutoML_20191022_060637_model_21</td>\n",
       "                        <td id=\"T_319a8850_f4c1_11e9_84d2_008cfafbf396row4_col75\" class=\"data row4 col75\" >XGBoost_grid_1_AutoML_20191022_060637_model_25</td>\n",
       "                        <td id=\"T_319a8850_f4c1_11e9_84d2_008cfafbf396row4_col76\" class=\"data row4 col76\" >XGBoost_grid_1_AutoML_20191022_060637_model_35</td>\n",
       "                        <td id=\"T_319a8850_f4c1_11e9_84d2_008cfafbf396row4_col77\" class=\"data row4 col77\" >GBM_grid_1_AutoML_20191022_060637_model_1</td>\n",
       "                        <td id=\"T_319a8850_f4c1_11e9_84d2_008cfafbf396row4_col78\" class=\"data row4 col78\" >XGBoost_grid_1_AutoML_20191022_060637_model_20</td>\n",
       "                        <td id=\"T_319a8850_f4c1_11e9_84d2_008cfafbf396row4_col79\" class=\"data row4 col79\" >XGBoost_grid_1_AutoML_20191022_060637_model_30</td>\n",
       "                        <td id=\"T_319a8850_f4c1_11e9_84d2_008cfafbf396row4_col80\" class=\"data row4 col80\" >XGBoost_grid_1_AutoML_20191022_060637_model_34</td>\n",
       "                        <td id=\"T_319a8850_f4c1_11e9_84d2_008cfafbf396row4_col81\" class=\"data row4 col81\" >XGBoost_grid_1_AutoML_20191022_060637_model_19</td>\n",
       "                        <td id=\"T_319a8850_f4c1_11e9_84d2_008cfafbf396row4_col82\" class=\"data row4 col82\" >XGBoost_2_AutoML_20191022_060637</td>\n",
       "                        <td id=\"T_319a8850_f4c1_11e9_84d2_008cfafbf396row4_col83\" class=\"data row4 col83\" >DeepLearning_grid_1_AutoML_20191022_060637_model_6</td>\n",
       "                        <td id=\"T_319a8850_f4c1_11e9_84d2_008cfafbf396row4_col84\" class=\"data row4 col84\" >GBM_grid_1_AutoML_20191022_060637_model_9</td>\n",
       "                        <td id=\"T_319a8850_f4c1_11e9_84d2_008cfafbf396row4_col85\" class=\"data row4 col85\" >GBM_grid_1_AutoML_20191022_060637_model_16</td>\n",
       "                        <td id=\"T_319a8850_f4c1_11e9_84d2_008cfafbf396row4_col86\" class=\"data row4 col86\" >DeepLearning_grid_1_AutoML_20191022_060637_model_11</td>\n",
       "                        <td id=\"T_319a8850_f4c1_11e9_84d2_008cfafbf396row4_col87\" class=\"data row4 col87\" >XGBoost_grid_1_AutoML_20191022_060637_model_36</td>\n",
       "                        <td id=\"T_319a8850_f4c1_11e9_84d2_008cfafbf396row4_col88\" class=\"data row4 col88\" >GBM_grid_1_AutoML_20191022_060637_model_24</td>\n",
       "                        <td id=\"T_319a8850_f4c1_11e9_84d2_008cfafbf396row4_col89\" class=\"data row4 col89\" >GBM_grid_1_AutoML_20191022_060637_model_21</td>\n",
       "                        <td id=\"T_319a8850_f4c1_11e9_84d2_008cfafbf396row4_col90\" class=\"data row4 col90\" >XGBoost_grid_1_AutoML_20191022_060637_model_7</td>\n",
       "                        <td id=\"T_319a8850_f4c1_11e9_84d2_008cfafbf396row4_col91\" class=\"data row4 col91\" >XGBoost_grid_1_AutoML_20191022_060637_model_41</td>\n",
       "                        <td id=\"T_319a8850_f4c1_11e9_84d2_008cfafbf396row4_col92\" class=\"data row4 col92\" >XGBoost_grid_1_AutoML_20191022_060637_model_28</td>\n",
       "                        <td id=\"T_319a8850_f4c1_11e9_84d2_008cfafbf396row4_col93\" class=\"data row4 col93\" >XGBoost_grid_1_AutoML_20191022_060637_model_3</td>\n",
       "                        <td id=\"T_319a8850_f4c1_11e9_84d2_008cfafbf396row4_col94\" class=\"data row4 col94\" >XGBoost_grid_1_AutoML_20191022_060637_model_32</td>\n",
       "                        <td id=\"T_319a8850_f4c1_11e9_84d2_008cfafbf396row4_col95\" class=\"data row4 col95\" >GBM_grid_1_AutoML_20191022_060637_model_68</td>\n",
       "                        <td id=\"T_319a8850_f4c1_11e9_84d2_008cfafbf396row4_col96\" class=\"data row4 col96\" >XGBoost_grid_1_AutoML_20191022_060637_model_29</td>\n",
       "                        <td id=\"T_319a8850_f4c1_11e9_84d2_008cfafbf396row4_col97\" class=\"data row4 col97\" >XGBoost_grid_1_AutoML_20191022_060637_model_31</td>\n",
       "                        <td id=\"T_319a8850_f4c1_11e9_84d2_008cfafbf396row4_col98\" class=\"data row4 col98\" >XGBoost_grid_1_AutoML_20191022_060637_model_23</td>\n",
       "                        <td id=\"T_319a8850_f4c1_11e9_84d2_008cfafbf396row4_col99\" class=\"data row4 col99\" >XGBoost_grid_1_AutoML_20191022_060637_model_1</td>\n",
       "                        <td id=\"T_319a8850_f4c1_11e9_84d2_008cfafbf396row4_col100\" class=\"data row4 col100\" >XGBoost_grid_1_AutoML_20191022_060637_model_26</td>\n",
       "                        <td id=\"T_319a8850_f4c1_11e9_84d2_008cfafbf396row4_col101\" class=\"data row4 col101\" >GBM_grid_1_AutoML_20191022_060637_model_29</td>\n",
       "                        <td id=\"T_319a8850_f4c1_11e9_84d2_008cfafbf396row4_col102\" class=\"data row4 col102\" >DeepLearning_grid_1_AutoML_20191022_060637_model_13</td>\n",
       "                        <td id=\"T_319a8850_f4c1_11e9_84d2_008cfafbf396row4_col103\" class=\"data row4 col103\" >GBM_grid_1_AutoML_20191022_060637_model_7</td>\n",
       "                        <td id=\"T_319a8850_f4c1_11e9_84d2_008cfafbf396row4_col104\" class=\"data row4 col104\" >XGBoost_grid_1_AutoML_20191022_060637_model_43</td>\n",
       "                        <td id=\"T_319a8850_f4c1_11e9_84d2_008cfafbf396row4_col105\" class=\"data row4 col105\" >XGBoost_grid_1_AutoML_20191022_060637_model_42</td>\n",
       "                        <td id=\"T_319a8850_f4c1_11e9_84d2_008cfafbf396row4_col106\" class=\"data row4 col106\" >DeepLearning_grid_1_AutoML_20191022_060637_model_14</td>\n",
       "                        <td id=\"T_319a8850_f4c1_11e9_84d2_008cfafbf396row4_col107\" class=\"data row4 col107\" >GBM_grid_1_AutoML_20191022_060637_model_70</td>\n",
       "                        <td id=\"T_319a8850_f4c1_11e9_84d2_008cfafbf396row4_col108\" class=\"data row4 col108\" >DeepLearning_grid_1_AutoML_20191022_060637_model_10</td>\n",
       "                        <td id=\"T_319a8850_f4c1_11e9_84d2_008cfafbf396row4_col109\" class=\"data row4 col109\" >GLM_grid_1_AutoML_20191022_060637_model_1</td>\n",
       "                        <td id=\"T_319a8850_f4c1_11e9_84d2_008cfafbf396row4_col110\" class=\"data row4 col110\" >XGBoost_grid_1_AutoML_20191022_060637_model_39</td>\n",
       "                        <td id=\"T_319a8850_f4c1_11e9_84d2_008cfafbf396row4_col111\" class=\"data row4 col111\" >XGBoost_grid_1_AutoML_20191022_060637_model_40</td>\n",
       "                        <td id=\"T_319a8850_f4c1_11e9_84d2_008cfafbf396row4_col112\" class=\"data row4 col112\" >XGBoost_grid_1_AutoML_20191022_060637_model_5</td>\n",
       "                        <td id=\"T_319a8850_f4c1_11e9_84d2_008cfafbf396row4_col113\" class=\"data row4 col113\" >XGBoost_grid_1_AutoML_20191022_060637_model_12</td>\n",
       "                        <td id=\"T_319a8850_f4c1_11e9_84d2_008cfafbf396row4_col114\" class=\"data row4 col114\" >XGBoost_grid_1_AutoML_20191022_060637_model_24</td>\n",
       "                        <td id=\"T_319a8850_f4c1_11e9_84d2_008cfafbf396row4_col115\" class=\"data row4 col115\" >GBM_grid_1_AutoML_20191022_060637_model_61</td>\n",
       "                        <td id=\"T_319a8850_f4c1_11e9_84d2_008cfafbf396row4_col116\" class=\"data row4 col116\" >XGBoost_grid_1_AutoML_20191022_060637_model_10</td>\n",
       "                        <td id=\"T_319a8850_f4c1_11e9_84d2_008cfafbf396row4_col117\" class=\"data row4 col117\" >GBM_grid_1_AutoML_20191022_060637_model_38</td>\n",
       "                        <td id=\"T_319a8850_f4c1_11e9_84d2_008cfafbf396row4_col118\" class=\"data row4 col118\" >GBM_grid_1_AutoML_20191022_060637_model_72</td>\n",
       "                        <td id=\"T_319a8850_f4c1_11e9_84d2_008cfafbf396row4_col119\" class=\"data row4 col119\" >GBM_grid_1_AutoML_20191022_060637_model_23</td>\n",
       "                        <td id=\"T_319a8850_f4c1_11e9_84d2_008cfafbf396row4_col120\" class=\"data row4 col120\" >GBM_grid_1_AutoML_20191022_060637_model_25</td>\n",
       "                        <td id=\"T_319a8850_f4c1_11e9_84d2_008cfafbf396row4_col121\" class=\"data row4 col121\" >XGBoost_grid_1_AutoML_20191022_060637_model_14</td>\n",
       "                        <td id=\"T_319a8850_f4c1_11e9_84d2_008cfafbf396row4_col122\" class=\"data row4 col122\" >GBM_grid_1_AutoML_20191022_060637_model_30</td>\n",
       "                        <td id=\"T_319a8850_f4c1_11e9_84d2_008cfafbf396row4_col123\" class=\"data row4 col123\" >XGBoost_grid_1_AutoML_20191022_060637_model_11</td>\n",
       "                        <td id=\"T_319a8850_f4c1_11e9_84d2_008cfafbf396row4_col124\" class=\"data row4 col124\" >GBM_grid_1_AutoML_20191022_060637_model_28</td>\n",
       "                        <td id=\"T_319a8850_f4c1_11e9_84d2_008cfafbf396row4_col125\" class=\"data row4 col125\" >GBM_grid_1_AutoML_20191022_060637_model_4</td>\n",
       "                        <td id=\"T_319a8850_f4c1_11e9_84d2_008cfafbf396row4_col126\" class=\"data row4 col126\" >GBM_grid_1_AutoML_20191022_060637_model_71</td>\n",
       "                        <td id=\"T_319a8850_f4c1_11e9_84d2_008cfafbf396row4_col127\" class=\"data row4 col127\" >XGBoost_grid_1_AutoML_20191022_060637_model_44</td>\n",
       "                        <td id=\"T_319a8850_f4c1_11e9_84d2_008cfafbf396row4_col128\" class=\"data row4 col128\" >XGBoost_grid_1_AutoML_20191022_060637_model_22</td>\n",
       "                        <td id=\"T_319a8850_f4c1_11e9_84d2_008cfafbf396row4_col129\" class=\"data row4 col129\" >GBM_grid_1_AutoML_20191022_060637_model_37</td>\n",
       "                        <td id=\"T_319a8850_f4c1_11e9_84d2_008cfafbf396row4_col130\" class=\"data row4 col130\" >GBM_grid_1_AutoML_20191022_060637_model_33</td>\n",
       "                        <td id=\"T_319a8850_f4c1_11e9_84d2_008cfafbf396row4_col131\" class=\"data row4 col131\" >XGBoost_grid_1_AutoML_20191022_060637_model_6</td>\n",
       "                        <td id=\"T_319a8850_f4c1_11e9_84d2_008cfafbf396row4_col132\" class=\"data row4 col132\" >GBM_grid_1_AutoML_20191022_060637_model_73</td>\n",
       "                        <td id=\"T_319a8850_f4c1_11e9_84d2_008cfafbf396row4_col133\" class=\"data row4 col133\" >XGBoost_grid_1_AutoML_20191022_060637_model_16</td>\n",
       "                        <td id=\"T_319a8850_f4c1_11e9_84d2_008cfafbf396row4_col134\" class=\"data row4 col134\" >GBM_grid_1_AutoML_20191022_060637_model_34</td>\n",
       "                        <td id=\"T_319a8850_f4c1_11e9_84d2_008cfafbf396row4_col135\" class=\"data row4 col135\" >GBM_grid_1_AutoML_20191022_060637_model_50</td>\n",
       "                        <td id=\"T_319a8850_f4c1_11e9_84d2_008cfafbf396row4_col136\" class=\"data row4 col136\" >GBM_grid_1_AutoML_20191022_060637_model_51</td>\n",
       "                        <td id=\"T_319a8850_f4c1_11e9_84d2_008cfafbf396row4_col137\" class=\"data row4 col137\" >XGBoost_grid_1_AutoML_20191022_060637_model_9</td>\n",
       "                        <td id=\"T_319a8850_f4c1_11e9_84d2_008cfafbf396row4_col138\" class=\"data row4 col138\" >GBM_grid_1_AutoML_20191022_060637_model_2</td>\n",
       "                        <td id=\"T_319a8850_f4c1_11e9_84d2_008cfafbf396row4_col139\" class=\"data row4 col139\" >GBM_grid_1_AutoML_20191022_060637_model_74</td>\n",
       "                        <td id=\"T_319a8850_f4c1_11e9_84d2_008cfafbf396row4_col140\" class=\"data row4 col140\" >GBM_grid_1_AutoML_20191022_060637_model_44</td>\n",
       "                        <td id=\"T_319a8850_f4c1_11e9_84d2_008cfafbf396row4_col141\" class=\"data row4 col141\" >DeepLearning_1_AutoML_20191022_060637</td>\n",
       "                        <td id=\"T_319a8850_f4c1_11e9_84d2_008cfafbf396row4_col142\" class=\"data row4 col142\" >GBM_grid_1_AutoML_20191022_060637_model_22</td>\n",
       "                        <td id=\"T_319a8850_f4c1_11e9_84d2_008cfafbf396row4_col143\" class=\"data row4 col143\" >GBM_grid_1_AutoML_20191022_060637_model_5</td>\n",
       "                        <td id=\"T_319a8850_f4c1_11e9_84d2_008cfafbf396row4_col144\" class=\"data row4 col144\" >GBM_grid_1_AutoML_20191022_060637_model_60</td>\n",
       "                        <td id=\"T_319a8850_f4c1_11e9_84d2_008cfafbf396row4_col145\" class=\"data row4 col145\" >GBM_grid_1_AutoML_20191022_060637_model_36</td>\n",
       "                        <td id=\"T_319a8850_f4c1_11e9_84d2_008cfafbf396row4_col146\" class=\"data row4 col146\" >GBM_grid_1_AutoML_20191022_060637_model_65</td>\n",
       "                        <td id=\"T_319a8850_f4c1_11e9_84d2_008cfafbf396row4_col147\" class=\"data row4 col147\" >nan</td>\n",
       "                        <td id=\"T_319a8850_f4c1_11e9_84d2_008cfafbf396row4_col148\" class=\"data row4 col148\" >nan</td>\n",
       "                        <td id=\"T_319a8850_f4c1_11e9_84d2_008cfafbf396row4_col149\" class=\"data row4 col149\" >nan</td>\n",
       "                        <td id=\"T_319a8850_f4c1_11e9_84d2_008cfafbf396row4_col150\" class=\"data row4 col150\" >nan</td>\n",
       "                        <td id=\"T_319a8850_f4c1_11e9_84d2_008cfafbf396row4_col151\" class=\"data row4 col151\" >nan</td>\n",
       "                        <td id=\"T_319a8850_f4c1_11e9_84d2_008cfafbf396row4_col152\" class=\"data row4 col152\" >nan</td>\n",
       "                        <td id=\"T_319a8850_f4c1_11e9_84d2_008cfafbf396row4_col153\" class=\"data row4 col153\" >nan</td>\n",
       "                        <td id=\"T_319a8850_f4c1_11e9_84d2_008cfafbf396row4_col154\" class=\"data row4 col154\" >nan</td>\n",
       "                        <td id=\"T_319a8850_f4c1_11e9_84d2_008cfafbf396row4_col155\" class=\"data row4 col155\" >nan</td>\n",
       "                        <td id=\"T_319a8850_f4c1_11e9_84d2_008cfafbf396row4_col156\" class=\"data row4 col156\" >nan</td>\n",
       "                        <td id=\"T_319a8850_f4c1_11e9_84d2_008cfafbf396row4_col157\" class=\"data row4 col157\" >nan</td>\n",
       "                        <td id=\"T_319a8850_f4c1_11e9_84d2_008cfafbf396row4_col158\" class=\"data row4 col158\" >nan</td>\n",
       "                        <td id=\"T_319a8850_f4c1_11e9_84d2_008cfafbf396row4_col159\" class=\"data row4 col159\" >nan</td>\n",
       "                        <td id=\"T_319a8850_f4c1_11e9_84d2_008cfafbf396row4_col160\" class=\"data row4 col160\" >nan</td>\n",
       "                        <td id=\"T_319a8850_f4c1_11e9_84d2_008cfafbf396row4_col161\" class=\"data row4 col161\" >nan</td>\n",
       "                        <td id=\"T_319a8850_f4c1_11e9_84d2_008cfafbf396row4_col162\" class=\"data row4 col162\" >nan</td>\n",
       "                        <td id=\"T_319a8850_f4c1_11e9_84d2_008cfafbf396row4_col163\" class=\"data row4 col163\" >nan</td>\n",
       "                        <td id=\"T_319a8850_f4c1_11e9_84d2_008cfafbf396row4_col164\" class=\"data row4 col164\" >nan</td>\n",
       "                        <td id=\"T_319a8850_f4c1_11e9_84d2_008cfafbf396row4_col165\" class=\"data row4 col165\" >nan</td>\n",
       "                        <td id=\"T_319a8850_f4c1_11e9_84d2_008cfafbf396row4_col166\" class=\"data row4 col166\" >nan</td>\n",
       "            </tr>\n",
       "            <tr>\n",
       "                                <td id=\"T_319a8850_f4c1_11e9_84d2_008cfafbf396row5_col0\" class=\"data row5 col0\" >60</td>\n",
       "                        <td id=\"T_319a8850_f4c1_11e9_84d2_008cfafbf396row5_col1\" class=\"data row5 col1\" >StackedEnsemble_AllModels_AutoML_20191022_063325</td>\n",
       "                        <td id=\"T_319a8850_f4c1_11e9_84d2_008cfafbf396row5_col2\" class=\"data row5 col2\" >DeepLearning_grid_1_AutoML_20191022_063325_model_12</td>\n",
       "                        <td id=\"T_319a8850_f4c1_11e9_84d2_008cfafbf396row5_col3\" class=\"data row5 col3\" >DeepLearning_grid_1_AutoML_20191022_063325_model_6</td>\n",
       "                        <td id=\"T_319a8850_f4c1_11e9_84d2_008cfafbf396row5_col4\" class=\"data row5 col4\" >DeepLearning_grid_1_AutoML_20191022_063325_model_3</td>\n",
       "                        <td id=\"T_319a8850_f4c1_11e9_84d2_008cfafbf396row5_col5\" class=\"data row5 col5\" >DeepLearning_grid_1_AutoML_20191022_063325_model_11</td>\n",
       "                        <td id=\"T_319a8850_f4c1_11e9_84d2_008cfafbf396row5_col6\" class=\"data row5 col6\" >DeepLearning_grid_1_AutoML_20191022_063325_model_4</td>\n",
       "                        <td id=\"T_319a8850_f4c1_11e9_84d2_008cfafbf396row5_col7\" class=\"data row5 col7\" >DeepLearning_grid_1_AutoML_20191022_063325_model_2</td>\n",
       "                        <td id=\"T_319a8850_f4c1_11e9_84d2_008cfafbf396row5_col8\" class=\"data row5 col8\" >DeepLearning_grid_1_AutoML_20191022_063325_model_17</td>\n",
       "                        <td id=\"T_319a8850_f4c1_11e9_84d2_008cfafbf396row5_col9\" class=\"data row5 col9\" >GBM_grid_1_AutoML_20191022_063325_model_19</td>\n",
       "                        <td id=\"T_319a8850_f4c1_11e9_84d2_008cfafbf396row5_col10\" class=\"data row5 col10\" >GBM_grid_1_AutoML_20191022_063325_model_20</td>\n",
       "                        <td id=\"T_319a8850_f4c1_11e9_84d2_008cfafbf396row5_col11\" class=\"data row5 col11\" >DeepLearning_grid_1_AutoML_20191022_063325_model_18</td>\n",
       "                        <td id=\"T_319a8850_f4c1_11e9_84d2_008cfafbf396row5_col12\" class=\"data row5 col12\" >GBM_grid_1_AutoML_20191022_063325_model_39</td>\n",
       "                        <td id=\"T_319a8850_f4c1_11e9_84d2_008cfafbf396row5_col13\" class=\"data row5 col13\" >GBM_grid_1_AutoML_20191022_063325_model_41</td>\n",
       "                        <td id=\"T_319a8850_f4c1_11e9_84d2_008cfafbf396row5_col14\" class=\"data row5 col14\" >GBM_grid_1_AutoML_20191022_063325_model_47</td>\n",
       "                        <td id=\"T_319a8850_f4c1_11e9_84d2_008cfafbf396row5_col15\" class=\"data row5 col15\" >GBM_grid_1_AutoML_20191022_063325_model_15</td>\n",
       "                        <td id=\"T_319a8850_f4c1_11e9_84d2_008cfafbf396row5_col16\" class=\"data row5 col16\" >GBM_grid_1_AutoML_20191022_063325_model_31</td>\n",
       "                        <td id=\"T_319a8850_f4c1_11e9_84d2_008cfafbf396row5_col17\" class=\"data row5 col17\" >GBM_grid_1_AutoML_20191022_063325_model_18</td>\n",
       "                        <td id=\"T_319a8850_f4c1_11e9_84d2_008cfafbf396row5_col18\" class=\"data row5 col18\" >GBM_grid_1_AutoML_20191022_063325_model_55</td>\n",
       "                        <td id=\"T_319a8850_f4c1_11e9_84d2_008cfafbf396row5_col19\" class=\"data row5 col19\" >GBM_grid_1_AutoML_20191022_063325_model_35</td>\n",
       "                        <td id=\"T_319a8850_f4c1_11e9_84d2_008cfafbf396row5_col20\" class=\"data row5 col20\" >GBM_grid_1_AutoML_20191022_063325_model_12</td>\n",
       "                        <td id=\"T_319a8850_f4c1_11e9_84d2_008cfafbf396row5_col21\" class=\"data row5 col21\" >GBM_2_AutoML_20191022_063325</td>\n",
       "                        <td id=\"T_319a8850_f4c1_11e9_84d2_008cfafbf396row5_col22\" class=\"data row5 col22\" >GBM_grid_1_AutoML_20191022_063325_model_58</td>\n",
       "                        <td id=\"T_319a8850_f4c1_11e9_84d2_008cfafbf396row5_col23\" class=\"data row5 col23\" >GBM_grid_1_AutoML_20191022_063325_model_26</td>\n",
       "                        <td id=\"T_319a8850_f4c1_11e9_84d2_008cfafbf396row5_col24\" class=\"data row5 col24\" >GBM_grid_1_AutoML_20191022_063325_model_46</td>\n",
       "                        <td id=\"T_319a8850_f4c1_11e9_84d2_008cfafbf396row5_col25\" class=\"data row5 col25\" >GBM_grid_1_AutoML_20191022_063325_model_43</td>\n",
       "                        <td id=\"T_319a8850_f4c1_11e9_84d2_008cfafbf396row5_col26\" class=\"data row5 col26\" >GBM_4_AutoML_20191022_063325</td>\n",
       "                        <td id=\"T_319a8850_f4c1_11e9_84d2_008cfafbf396row5_col27\" class=\"data row5 col27\" >GBM_3_AutoML_20191022_063325</td>\n",
       "                        <td id=\"T_319a8850_f4c1_11e9_84d2_008cfafbf396row5_col28\" class=\"data row5 col28\" >XGBoost_grid_1_AutoML_20191022_063325_model_33</td>\n",
       "                        <td id=\"T_319a8850_f4c1_11e9_84d2_008cfafbf396row5_col29\" class=\"data row5 col29\" >XGBoost_1_AutoML_20191022_063325</td>\n",
       "                        <td id=\"T_319a8850_f4c1_11e9_84d2_008cfafbf396row5_col30\" class=\"data row5 col30\" >GBM_grid_1_AutoML_20191022_063325_model_32</td>\n",
       "                        <td id=\"T_319a8850_f4c1_11e9_84d2_008cfafbf396row5_col31\" class=\"data row5 col31\" >GBM_grid_1_AutoML_20191022_063325_model_27</td>\n",
       "                        <td id=\"T_319a8850_f4c1_11e9_84d2_008cfafbf396row5_col32\" class=\"data row5 col32\" >GBM_grid_1_AutoML_20191022_063325_model_3</td>\n",
       "                        <td id=\"T_319a8850_f4c1_11e9_84d2_008cfafbf396row5_col33\" class=\"data row5 col33\" >DeepLearning_grid_1_AutoML_20191022_063325_model_14</td>\n",
       "                        <td id=\"T_319a8850_f4c1_11e9_84d2_008cfafbf396row5_col34\" class=\"data row5 col34\" >DeepLearning_grid_1_AutoML_20191022_063325_model_10</td>\n",
       "                        <td id=\"T_319a8850_f4c1_11e9_84d2_008cfafbf396row5_col35\" class=\"data row5 col35\" >GBM_grid_1_AutoML_20191022_063325_model_57</td>\n",
       "                        <td id=\"T_319a8850_f4c1_11e9_84d2_008cfafbf396row5_col36\" class=\"data row5 col36\" >DeepLearning_grid_1_AutoML_20191022_063325_model_20</td>\n",
       "                        <td id=\"T_319a8850_f4c1_11e9_84d2_008cfafbf396row5_col37\" class=\"data row5 col37\" >DRF_1_AutoML_20191022_063325</td>\n",
       "                        <td id=\"T_319a8850_f4c1_11e9_84d2_008cfafbf396row5_col38\" class=\"data row5 col38\" >GBM_5_AutoML_20191022_063325</td>\n",
       "                        <td id=\"T_319a8850_f4c1_11e9_84d2_008cfafbf396row5_col39\" class=\"data row5 col39\" >GBM_grid_1_AutoML_20191022_063325_model_11</td>\n",
       "                        <td id=\"T_319a8850_f4c1_11e9_84d2_008cfafbf396row5_col40\" class=\"data row5 col40\" >GBM_grid_1_AutoML_20191022_063325_model_48</td>\n",
       "                        <td id=\"T_319a8850_f4c1_11e9_84d2_008cfafbf396row5_col41\" class=\"data row5 col41\" >XRT_1_AutoML_20191022_063325</td>\n",
       "                        <td id=\"T_319a8850_f4c1_11e9_84d2_008cfafbf396row5_col42\" class=\"data row5 col42\" >GBM_grid_1_AutoML_20191022_063325_model_6</td>\n",
       "                        <td id=\"T_319a8850_f4c1_11e9_84d2_008cfafbf396row5_col43\" class=\"data row5 col43\" >XGBoost_grid_1_AutoML_20191022_063325_model_8</td>\n",
       "                        <td id=\"T_319a8850_f4c1_11e9_84d2_008cfafbf396row5_col44\" class=\"data row5 col44\" >GBM_grid_1_AutoML_20191022_063325_model_17</td>\n",
       "                        <td id=\"T_319a8850_f4c1_11e9_84d2_008cfafbf396row5_col45\" class=\"data row5 col45\" >GBM_grid_1_AutoML_20191022_063325_model_14</td>\n",
       "                        <td id=\"T_319a8850_f4c1_11e9_84d2_008cfafbf396row5_col46\" class=\"data row5 col46\" >XGBoost_grid_1_AutoML_20191022_063325_model_13</td>\n",
       "                        <td id=\"T_319a8850_f4c1_11e9_84d2_008cfafbf396row5_col47\" class=\"data row5 col47\" >XGBoost_3_AutoML_20191022_063325</td>\n",
       "                        <td id=\"T_319a8850_f4c1_11e9_84d2_008cfafbf396row5_col48\" class=\"data row5 col48\" >XGBoost_grid_1_AutoML_20191022_063325_model_30</td>\n",
       "                        <td id=\"T_319a8850_f4c1_11e9_84d2_008cfafbf396row5_col49\" class=\"data row5 col49\" >GBM_grid_1_AutoML_20191022_063325_model_1</td>\n",
       "                        <td id=\"T_319a8850_f4c1_11e9_84d2_008cfafbf396row5_col50\" class=\"data row5 col50\" >DeepLearning_grid_1_AutoML_20191022_063325_model_5</td>\n",
       "                        <td id=\"T_319a8850_f4c1_11e9_84d2_008cfafbf396row5_col51\" class=\"data row5 col51\" >XGBoost_grid_1_AutoML_20191022_063325_model_21</td>\n",
       "                        <td id=\"T_319a8850_f4c1_11e9_84d2_008cfafbf396row5_col52\" class=\"data row5 col52\" >XGBoost_grid_1_AutoML_20191022_063325_model_17</td>\n",
       "                        <td id=\"T_319a8850_f4c1_11e9_84d2_008cfafbf396row5_col53\" class=\"data row5 col53\" >GBM_grid_1_AutoML_20191022_063325_model_59</td>\n",
       "                        <td id=\"T_319a8850_f4c1_11e9_84d2_008cfafbf396row5_col54\" class=\"data row5 col54\" >DeepLearning_grid_1_AutoML_20191022_063325_model_13</td>\n",
       "                        <td id=\"T_319a8850_f4c1_11e9_84d2_008cfafbf396row5_col55\" class=\"data row5 col55\" >XGBoost_grid_1_AutoML_20191022_063325_model_18</td>\n",
       "                        <td id=\"T_319a8850_f4c1_11e9_84d2_008cfafbf396row5_col56\" class=\"data row5 col56\" >GBM_1_AutoML_20191022_063325</td>\n",
       "                        <td id=\"T_319a8850_f4c1_11e9_84d2_008cfafbf396row5_col57\" class=\"data row5 col57\" >XGBoost_grid_1_AutoML_20191022_063325_model_35</td>\n",
       "                        <td id=\"T_319a8850_f4c1_11e9_84d2_008cfafbf396row5_col58\" class=\"data row5 col58\" >GBM_grid_1_AutoML_20191022_063325_model_49</td>\n",
       "                        <td id=\"T_319a8850_f4c1_11e9_84d2_008cfafbf396row5_col59\" class=\"data row5 col59\" >GBM_grid_1_AutoML_20191022_063325_model_42</td>\n",
       "                        <td id=\"T_319a8850_f4c1_11e9_84d2_008cfafbf396row5_col60\" class=\"data row5 col60\" >GBM_grid_1_AutoML_20191022_063325_model_53</td>\n",
       "                        <td id=\"T_319a8850_f4c1_11e9_84d2_008cfafbf396row5_col61\" class=\"data row5 col61\" >GBM_grid_1_AutoML_20191022_063325_model_40</td>\n",
       "                        <td id=\"T_319a8850_f4c1_11e9_84d2_008cfafbf396row5_col62\" class=\"data row5 col62\" >XGBoost_grid_1_AutoML_20191022_063325_model_20</td>\n",
       "                        <td id=\"T_319a8850_f4c1_11e9_84d2_008cfafbf396row5_col63\" class=\"data row5 col63\" >XGBoost_grid_1_AutoML_20191022_063325_model_4</td>\n",
       "                        <td id=\"T_319a8850_f4c1_11e9_84d2_008cfafbf396row5_col64\" class=\"data row5 col64\" >DeepLearning_grid_1_AutoML_20191022_063325_model_8</td>\n",
       "                        <td id=\"T_319a8850_f4c1_11e9_84d2_008cfafbf396row5_col65\" class=\"data row5 col65\" >GBM_grid_1_AutoML_20191022_063325_model_10</td>\n",
       "                        <td id=\"T_319a8850_f4c1_11e9_84d2_008cfafbf396row5_col66\" class=\"data row5 col66\" >GBM_grid_1_AutoML_20191022_063325_model_16</td>\n",
       "                        <td id=\"T_319a8850_f4c1_11e9_84d2_008cfafbf396row5_col67\" class=\"data row5 col67\" >DeepLearning_grid_1_AutoML_20191022_063325_model_16</td>\n",
       "                        <td id=\"T_319a8850_f4c1_11e9_84d2_008cfafbf396row5_col68\" class=\"data row5 col68\" >XGBoost_grid_1_AutoML_20191022_063325_model_34</td>\n",
       "                        <td id=\"T_319a8850_f4c1_11e9_84d2_008cfafbf396row5_col69\" class=\"data row5 col69\" >XGBoost_grid_1_AutoML_20191022_063325_model_3</td>\n",
       "                        <td id=\"T_319a8850_f4c1_11e9_84d2_008cfafbf396row5_col70\" class=\"data row5 col70\" >GBM_grid_1_AutoML_20191022_063325_model_8</td>\n",
       "                        <td id=\"T_319a8850_f4c1_11e9_84d2_008cfafbf396row5_col71\" class=\"data row5 col71\" >XGBoost_grid_1_AutoML_20191022_063325_model_25</td>\n",
       "                        <td id=\"T_319a8850_f4c1_11e9_84d2_008cfafbf396row5_col72\" class=\"data row5 col72\" >GBM_grid_1_AutoML_20191022_063325_model_52</td>\n",
       "                        <td id=\"T_319a8850_f4c1_11e9_84d2_008cfafbf396row5_col73\" class=\"data row5 col73\" >XGBoost_grid_1_AutoML_20191022_063325_model_31</td>\n",
       "                        <td id=\"T_319a8850_f4c1_11e9_84d2_008cfafbf396row5_col74\" class=\"data row5 col74\" >XGBoost_grid_1_AutoML_20191022_063325_model_29</td>\n",
       "                        <td id=\"T_319a8850_f4c1_11e9_84d2_008cfafbf396row5_col75\" class=\"data row5 col75\" >GBM_grid_1_AutoML_20191022_063325_model_21</td>\n",
       "                        <td id=\"T_319a8850_f4c1_11e9_84d2_008cfafbf396row5_col76\" class=\"data row5 col76\" >GBM_grid_1_AutoML_20191022_063325_model_45</td>\n",
       "                        <td id=\"T_319a8850_f4c1_11e9_84d2_008cfafbf396row5_col77\" class=\"data row5 col77\" >GBM_grid_1_AutoML_20191022_063325_model_9</td>\n",
       "                        <td id=\"T_319a8850_f4c1_11e9_84d2_008cfafbf396row5_col78\" class=\"data row5 col78\" >XGBoost_grid_1_AutoML_20191022_063325_model_32</td>\n",
       "                        <td id=\"T_319a8850_f4c1_11e9_84d2_008cfafbf396row5_col79\" class=\"data row5 col79\" >XGBoost_grid_1_AutoML_20191022_063325_model_2</td>\n",
       "                        <td id=\"T_319a8850_f4c1_11e9_84d2_008cfafbf396row5_col80\" class=\"data row5 col80\" >GBM_grid_1_AutoML_20191022_063325_model_54</td>\n",
       "                        <td id=\"T_319a8850_f4c1_11e9_84d2_008cfafbf396row5_col81\" class=\"data row5 col81\" >XGBoost_grid_1_AutoML_20191022_063325_model_27</td>\n",
       "                        <td id=\"T_319a8850_f4c1_11e9_84d2_008cfafbf396row5_col82\" class=\"data row5 col82\" >DeepLearning_grid_1_AutoML_20191022_063325_model_19</td>\n",
       "                        <td id=\"T_319a8850_f4c1_11e9_84d2_008cfafbf396row5_col83\" class=\"data row5 col83\" >XGBoost_grid_1_AutoML_20191022_063325_model_15</td>\n",
       "                        <td id=\"T_319a8850_f4c1_11e9_84d2_008cfafbf396row5_col84\" class=\"data row5 col84\" >XGBoost_grid_1_AutoML_20191022_063325_model_37</td>\n",
       "                        <td id=\"T_319a8850_f4c1_11e9_84d2_008cfafbf396row5_col85\" class=\"data row5 col85\" >XGBoost_grid_1_AutoML_20191022_063325_model_36</td>\n",
       "                        <td id=\"T_319a8850_f4c1_11e9_84d2_008cfafbf396row5_col86\" class=\"data row5 col86\" >DeepLearning_grid_1_AutoML_20191022_063325_model_1</td>\n",
       "                        <td id=\"T_319a8850_f4c1_11e9_84d2_008cfafbf396row5_col87\" class=\"data row5 col87\" >XGBoost_grid_1_AutoML_20191022_063325_model_28</td>\n",
       "                        <td id=\"T_319a8850_f4c1_11e9_84d2_008cfafbf396row5_col88\" class=\"data row5 col88\" >GBM_grid_1_AutoML_20191022_063325_model_13</td>\n",
       "                        <td id=\"T_319a8850_f4c1_11e9_84d2_008cfafbf396row5_col89\" class=\"data row5 col89\" >DeepLearning_grid_1_AutoML_20191022_063325_model_15</td>\n",
       "                        <td id=\"T_319a8850_f4c1_11e9_84d2_008cfafbf396row5_col90\" class=\"data row5 col90\" >XGBoost_2_AutoML_20191022_063325</td>\n",
       "                        <td id=\"T_319a8850_f4c1_11e9_84d2_008cfafbf396row5_col91\" class=\"data row5 col91\" >XGBoost_grid_1_AutoML_20191022_063325_model_7</td>\n",
       "                        <td id=\"T_319a8850_f4c1_11e9_84d2_008cfafbf396row5_col92\" class=\"data row5 col92\" >XGBoost_grid_1_AutoML_20191022_063325_model_26</td>\n",
       "                        <td id=\"T_319a8850_f4c1_11e9_84d2_008cfafbf396row5_col93\" class=\"data row5 col93\" >GBM_grid_1_AutoML_20191022_063325_model_29</td>\n",
       "                        <td id=\"T_319a8850_f4c1_11e9_84d2_008cfafbf396row5_col94\" class=\"data row5 col94\" >XGBoost_grid_1_AutoML_20191022_063325_model_1</td>\n",
       "                        <td id=\"T_319a8850_f4c1_11e9_84d2_008cfafbf396row5_col95\" class=\"data row5 col95\" >XGBoost_grid_1_AutoML_20191022_063325_model_19</td>\n",
       "                        <td id=\"T_319a8850_f4c1_11e9_84d2_008cfafbf396row5_col96\" class=\"data row5 col96\" >DeepLearning_grid_1_AutoML_20191022_063325_model_21</td>\n",
       "                        <td id=\"T_319a8850_f4c1_11e9_84d2_008cfafbf396row5_col97\" class=\"data row5 col97\" >XGBoost_grid_1_AutoML_20191022_063325_model_12</td>\n",
       "                        <td id=\"T_319a8850_f4c1_11e9_84d2_008cfafbf396row5_col98\" class=\"data row5 col98\" >XGBoost_grid_1_AutoML_20191022_063325_model_5</td>\n",
       "                        <td id=\"T_319a8850_f4c1_11e9_84d2_008cfafbf396row5_col99\" class=\"data row5 col99\" >XGBoost_grid_1_AutoML_20191022_063325_model_23</td>\n",
       "                        <td id=\"T_319a8850_f4c1_11e9_84d2_008cfafbf396row5_col100\" class=\"data row5 col100\" >GBM_grid_1_AutoML_20191022_063325_model_24</td>\n",
       "                        <td id=\"T_319a8850_f4c1_11e9_84d2_008cfafbf396row5_col101\" class=\"data row5 col101\" >XGBoost_grid_1_AutoML_20191022_063325_model_38</td>\n",
       "                        <td id=\"T_319a8850_f4c1_11e9_84d2_008cfafbf396row5_col102\" class=\"data row5 col102\" >GBM_grid_1_AutoML_20191022_063325_model_38</td>\n",
       "                        <td id=\"T_319a8850_f4c1_11e9_84d2_008cfafbf396row5_col103\" class=\"data row5 col103\" >GBM_grid_1_AutoML_20191022_063325_model_62</td>\n",
       "                        <td id=\"T_319a8850_f4c1_11e9_84d2_008cfafbf396row5_col104\" class=\"data row5 col104\" >GBM_grid_1_AutoML_20191022_063325_model_7</td>\n",
       "                        <td id=\"T_319a8850_f4c1_11e9_84d2_008cfafbf396row5_col105\" class=\"data row5 col105\" >GBM_grid_1_AutoML_20191022_063325_model_23</td>\n",
       "                        <td id=\"T_319a8850_f4c1_11e9_84d2_008cfafbf396row5_col106\" class=\"data row5 col106\" >DeepLearning_grid_1_AutoML_20191022_063325_model_7</td>\n",
       "                        <td id=\"T_319a8850_f4c1_11e9_84d2_008cfafbf396row5_col107\" class=\"data row5 col107\" >XGBoost_grid_1_AutoML_20191022_063325_model_10</td>\n",
       "                        <td id=\"T_319a8850_f4c1_11e9_84d2_008cfafbf396row5_col108\" class=\"data row5 col108\" >GBM_grid_1_AutoML_20191022_063325_model_30</td>\n",
       "                        <td id=\"T_319a8850_f4c1_11e9_84d2_008cfafbf396row5_col109\" class=\"data row5 col109\" >GBM_grid_1_AutoML_20191022_063325_model_61</td>\n",
       "                        <td id=\"T_319a8850_f4c1_11e9_84d2_008cfafbf396row5_col110\" class=\"data row5 col110\" >GLM_grid_1_AutoML_20191022_063325_model_1</td>\n",
       "                        <td id=\"T_319a8850_f4c1_11e9_84d2_008cfafbf396row5_col111\" class=\"data row5 col111\" >XGBoost_grid_1_AutoML_20191022_063325_model_14</td>\n",
       "                        <td id=\"T_319a8850_f4c1_11e9_84d2_008cfafbf396row5_col112\" class=\"data row5 col112\" >GBM_grid_1_AutoML_20191022_063325_model_37</td>\n",
       "                        <td id=\"T_319a8850_f4c1_11e9_84d2_008cfafbf396row5_col113\" class=\"data row5 col113\" >GBM_grid_1_AutoML_20191022_063325_model_56</td>\n",
       "                        <td id=\"T_319a8850_f4c1_11e9_84d2_008cfafbf396row5_col114\" class=\"data row5 col114\" >XGBoost_grid_1_AutoML_20191022_063325_model_24</td>\n",
       "                        <td id=\"T_319a8850_f4c1_11e9_84d2_008cfafbf396row5_col115\" class=\"data row5 col115\" >GBM_grid_1_AutoML_20191022_063325_model_4</td>\n",
       "                        <td id=\"T_319a8850_f4c1_11e9_84d2_008cfafbf396row5_col116\" class=\"data row5 col116\" >GBM_grid_1_AutoML_20191022_063325_model_28</td>\n",
       "                        <td id=\"T_319a8850_f4c1_11e9_84d2_008cfafbf396row5_col117\" class=\"data row5 col117\" >GBM_grid_1_AutoML_20191022_063325_model_25</td>\n",
       "                        <td id=\"T_319a8850_f4c1_11e9_84d2_008cfafbf396row5_col118\" class=\"data row5 col118\" >GBM_grid_1_AutoML_20191022_063325_model_33</td>\n",
       "                        <td id=\"T_319a8850_f4c1_11e9_84d2_008cfafbf396row5_col119\" class=\"data row5 col119\" >GBM_grid_1_AutoML_20191022_063325_model_63</td>\n",
       "                        <td id=\"T_319a8850_f4c1_11e9_84d2_008cfafbf396row5_col120\" class=\"data row5 col120\" >GBM_grid_1_AutoML_20191022_063325_model_64</td>\n",
       "                        <td id=\"T_319a8850_f4c1_11e9_84d2_008cfafbf396row5_col121\" class=\"data row5 col121\" >XGBoost_grid_1_AutoML_20191022_063325_model_22</td>\n",
       "                        <td id=\"T_319a8850_f4c1_11e9_84d2_008cfafbf396row5_col122\" class=\"data row5 col122\" >XGBoost_grid_1_AutoML_20191022_063325_model_6</td>\n",
       "                        <td id=\"T_319a8850_f4c1_11e9_84d2_008cfafbf396row5_col123\" class=\"data row5 col123\" >GBM_grid_1_AutoML_20191022_063325_model_34</td>\n",
       "                        <td id=\"T_319a8850_f4c1_11e9_84d2_008cfafbf396row5_col124\" class=\"data row5 col124\" >XGBoost_grid_1_AutoML_20191022_063325_model_11</td>\n",
       "                        <td id=\"T_319a8850_f4c1_11e9_84d2_008cfafbf396row5_col125\" class=\"data row5 col125\" >XGBoost_grid_1_AutoML_20191022_063325_model_16</td>\n",
       "                        <td id=\"T_319a8850_f4c1_11e9_84d2_008cfafbf396row5_col126\" class=\"data row5 col126\" >GBM_grid_1_AutoML_20191022_063325_model_50</td>\n",
       "                        <td id=\"T_319a8850_f4c1_11e9_84d2_008cfafbf396row5_col127\" class=\"data row5 col127\" >GBM_grid_1_AutoML_20191022_063325_model_51</td>\n",
       "                        <td id=\"T_319a8850_f4c1_11e9_84d2_008cfafbf396row5_col128\" class=\"data row5 col128\" >XGBoost_grid_1_AutoML_20191022_063325_model_9</td>\n",
       "                        <td id=\"T_319a8850_f4c1_11e9_84d2_008cfafbf396row5_col129\" class=\"data row5 col129\" >GBM_grid_1_AutoML_20191022_063325_model_2</td>\n",
       "                        <td id=\"T_319a8850_f4c1_11e9_84d2_008cfafbf396row5_col130\" class=\"data row5 col130\" >GBM_grid_1_AutoML_20191022_063325_model_44</td>\n",
       "                        <td id=\"T_319a8850_f4c1_11e9_84d2_008cfafbf396row5_col131\" class=\"data row5 col131\" >DeepLearning_grid_1_AutoML_20191022_063325_model_9</td>\n",
       "                        <td id=\"T_319a8850_f4c1_11e9_84d2_008cfafbf396row5_col132\" class=\"data row5 col132\" >DeepLearning_1_AutoML_20191022_063325</td>\n",
       "                        <td id=\"T_319a8850_f4c1_11e9_84d2_008cfafbf396row5_col133\" class=\"data row5 col133\" >GBM_grid_1_AutoML_20191022_063325_model_22</td>\n",
       "                        <td id=\"T_319a8850_f4c1_11e9_84d2_008cfafbf396row5_col134\" class=\"data row5 col134\" >GBM_grid_1_AutoML_20191022_063325_model_65</td>\n",
       "                        <td id=\"T_319a8850_f4c1_11e9_84d2_008cfafbf396row5_col135\" class=\"data row5 col135\" >GBM_grid_1_AutoML_20191022_063325_model_60</td>\n",
       "                        <td id=\"T_319a8850_f4c1_11e9_84d2_008cfafbf396row5_col136\" class=\"data row5 col136\" >GBM_grid_1_AutoML_20191022_063325_model_36</td>\n",
       "                        <td id=\"T_319a8850_f4c1_11e9_84d2_008cfafbf396row5_col137\" class=\"data row5 col137\" >GBM_grid_1_AutoML_20191022_063325_model_5</td>\n",
       "                        <td id=\"T_319a8850_f4c1_11e9_84d2_008cfafbf396row5_col138\" class=\"data row5 col138\" >nan</td>\n",
       "                        <td id=\"T_319a8850_f4c1_11e9_84d2_008cfafbf396row5_col139\" class=\"data row5 col139\" >nan</td>\n",
       "                        <td id=\"T_319a8850_f4c1_11e9_84d2_008cfafbf396row5_col140\" class=\"data row5 col140\" >nan</td>\n",
       "                        <td id=\"T_319a8850_f4c1_11e9_84d2_008cfafbf396row5_col141\" class=\"data row5 col141\" >nan</td>\n",
       "                        <td id=\"T_319a8850_f4c1_11e9_84d2_008cfafbf396row5_col142\" class=\"data row5 col142\" >nan</td>\n",
       "                        <td id=\"T_319a8850_f4c1_11e9_84d2_008cfafbf396row5_col143\" class=\"data row5 col143\" >nan</td>\n",
       "                        <td id=\"T_319a8850_f4c1_11e9_84d2_008cfafbf396row5_col144\" class=\"data row5 col144\" >nan</td>\n",
       "                        <td id=\"T_319a8850_f4c1_11e9_84d2_008cfafbf396row5_col145\" class=\"data row5 col145\" >nan</td>\n",
       "                        <td id=\"T_319a8850_f4c1_11e9_84d2_008cfafbf396row5_col146\" class=\"data row5 col146\" >nan</td>\n",
       "                        <td id=\"T_319a8850_f4c1_11e9_84d2_008cfafbf396row5_col147\" class=\"data row5 col147\" >nan</td>\n",
       "                        <td id=\"T_319a8850_f4c1_11e9_84d2_008cfafbf396row5_col148\" class=\"data row5 col148\" >nan</td>\n",
       "                        <td id=\"T_319a8850_f4c1_11e9_84d2_008cfafbf396row5_col149\" class=\"data row5 col149\" >nan</td>\n",
       "                        <td id=\"T_319a8850_f4c1_11e9_84d2_008cfafbf396row5_col150\" class=\"data row5 col150\" >nan</td>\n",
       "                        <td id=\"T_319a8850_f4c1_11e9_84d2_008cfafbf396row5_col151\" class=\"data row5 col151\" >nan</td>\n",
       "                        <td id=\"T_319a8850_f4c1_11e9_84d2_008cfafbf396row5_col152\" class=\"data row5 col152\" >nan</td>\n",
       "                        <td id=\"T_319a8850_f4c1_11e9_84d2_008cfafbf396row5_col153\" class=\"data row5 col153\" >nan</td>\n",
       "                        <td id=\"T_319a8850_f4c1_11e9_84d2_008cfafbf396row5_col154\" class=\"data row5 col154\" >nan</td>\n",
       "                        <td id=\"T_319a8850_f4c1_11e9_84d2_008cfafbf396row5_col155\" class=\"data row5 col155\" >nan</td>\n",
       "                        <td id=\"T_319a8850_f4c1_11e9_84d2_008cfafbf396row5_col156\" class=\"data row5 col156\" >nan</td>\n",
       "                        <td id=\"T_319a8850_f4c1_11e9_84d2_008cfafbf396row5_col157\" class=\"data row5 col157\" >nan</td>\n",
       "                        <td id=\"T_319a8850_f4c1_11e9_84d2_008cfafbf396row5_col158\" class=\"data row5 col158\" >nan</td>\n",
       "                        <td id=\"T_319a8850_f4c1_11e9_84d2_008cfafbf396row5_col159\" class=\"data row5 col159\" >nan</td>\n",
       "                        <td id=\"T_319a8850_f4c1_11e9_84d2_008cfafbf396row5_col160\" class=\"data row5 col160\" >nan</td>\n",
       "                        <td id=\"T_319a8850_f4c1_11e9_84d2_008cfafbf396row5_col161\" class=\"data row5 col161\" >nan</td>\n",
       "                        <td id=\"T_319a8850_f4c1_11e9_84d2_008cfafbf396row5_col162\" class=\"data row5 col162\" >nan</td>\n",
       "                        <td id=\"T_319a8850_f4c1_11e9_84d2_008cfafbf396row5_col163\" class=\"data row5 col163\" >nan</td>\n",
       "                        <td id=\"T_319a8850_f4c1_11e9_84d2_008cfafbf396row5_col164\" class=\"data row5 col164\" >nan</td>\n",
       "                        <td id=\"T_319a8850_f4c1_11e9_84d2_008cfafbf396row5_col165\" class=\"data row5 col165\" >nan</td>\n",
       "                        <td id=\"T_319a8850_f4c1_11e9_84d2_008cfafbf396row5_col166\" class=\"data row5 col166\" >nan</td>\n",
       "            </tr>\n",
       "            <tr>\n",
       "                                <td id=\"T_319a8850_f4c1_11e9_84d2_008cfafbf396row6_col0\" class=\"data row6 col0\" >72</td>\n",
       "                        <td id=\"T_319a8850_f4c1_11e9_84d2_008cfafbf396row6_col1\" class=\"data row6 col1\" >StackedEnsemble_AllModels_AutoML_20191022_060410</td>\n",
       "                        <td id=\"T_319a8850_f4c1_11e9_84d2_008cfafbf396row6_col2\" class=\"data row6 col2\" >DeepLearning_grid_1_AutoML_20191022_060410_model_3</td>\n",
       "                        <td id=\"T_319a8850_f4c1_11e9_84d2_008cfafbf396row6_col3\" class=\"data row6 col3\" >DeepLearning_grid_1_AutoML_20191022_060410_model_15</td>\n",
       "                        <td id=\"T_319a8850_f4c1_11e9_84d2_008cfafbf396row6_col4\" class=\"data row6 col4\" >DeepLearning_grid_1_AutoML_20191022_060410_model_9</td>\n",
       "                        <td id=\"T_319a8850_f4c1_11e9_84d2_008cfafbf396row6_col5\" class=\"data row6 col5\" >DeepLearning_grid_1_AutoML_20191022_060410_model_4</td>\n",
       "                        <td id=\"T_319a8850_f4c1_11e9_84d2_008cfafbf396row6_col6\" class=\"data row6 col6\" >GBM_grid_1_AutoML_20191022_060410_model_39</td>\n",
       "                        <td id=\"T_319a8850_f4c1_11e9_84d2_008cfafbf396row6_col7\" class=\"data row6 col7\" >DeepLearning_grid_1_AutoML_20191022_060410_model_2</td>\n",
       "                        <td id=\"T_319a8850_f4c1_11e9_84d2_008cfafbf396row6_col8\" class=\"data row6 col8\" >GBM_grid_1_AutoML_20191022_060410_model_46</td>\n",
       "                        <td id=\"T_319a8850_f4c1_11e9_84d2_008cfafbf396row6_col9\" class=\"data row6 col9\" >GBM_grid_1_AutoML_20191022_060410_model_20</td>\n",
       "                        <td id=\"T_319a8850_f4c1_11e9_84d2_008cfafbf396row6_col10\" class=\"data row6 col10\" >GBM_grid_1_AutoML_20191022_060410_model_55</td>\n",
       "                        <td id=\"T_319a8850_f4c1_11e9_84d2_008cfafbf396row6_col11\" class=\"data row6 col11\" >GBM_grid_1_AutoML_20191022_060410_model_15</td>\n",
       "                        <td id=\"T_319a8850_f4c1_11e9_84d2_008cfafbf396row6_col12\" class=\"data row6 col12\" >GBM_grid_1_AutoML_20191022_060410_model_19</td>\n",
       "                        <td id=\"T_319a8850_f4c1_11e9_84d2_008cfafbf396row6_col13\" class=\"data row6 col13\" >GBM_grid_1_AutoML_20191022_060410_model_41</td>\n",
       "                        <td id=\"T_319a8850_f4c1_11e9_84d2_008cfafbf396row6_col14\" class=\"data row6 col14\" >GBM_grid_1_AutoML_20191022_060410_model_18</td>\n",
       "                        <td id=\"T_319a8850_f4c1_11e9_84d2_008cfafbf396row6_col15\" class=\"data row6 col15\" >DeepLearning_grid_1_AutoML_20191022_060410_model_10</td>\n",
       "                        <td id=\"T_319a8850_f4c1_11e9_84d2_008cfafbf396row6_col16\" class=\"data row6 col16\" >GBM_4_AutoML_20191022_060410</td>\n",
       "                        <td id=\"T_319a8850_f4c1_11e9_84d2_008cfafbf396row6_col17\" class=\"data row6 col17\" >GBM_grid_1_AutoML_20191022_060410_model_12</td>\n",
       "                        <td id=\"T_319a8850_f4c1_11e9_84d2_008cfafbf396row6_col18\" class=\"data row6 col18\" >XGBoost_1_AutoML_20191022_060410</td>\n",
       "                        <td id=\"T_319a8850_f4c1_11e9_84d2_008cfafbf396row6_col19\" class=\"data row6 col19\" >GBM_grid_1_AutoML_20191022_060410_model_32</td>\n",
       "                        <td id=\"T_319a8850_f4c1_11e9_84d2_008cfafbf396row6_col20\" class=\"data row6 col20\" >GBM_grid_1_AutoML_20191022_060410_model_35</td>\n",
       "                        <td id=\"T_319a8850_f4c1_11e9_84d2_008cfafbf396row6_col21\" class=\"data row6 col21\" >GBM_grid_1_AutoML_20191022_060410_model_48</td>\n",
       "                        <td id=\"T_319a8850_f4c1_11e9_84d2_008cfafbf396row6_col22\" class=\"data row6 col22\" >GBM_grid_1_AutoML_20191022_060410_model_31</td>\n",
       "                        <td id=\"T_319a8850_f4c1_11e9_84d2_008cfafbf396row6_col23\" class=\"data row6 col23\" >XGBoost_3_AutoML_20191022_060410</td>\n",
       "                        <td id=\"T_319a8850_f4c1_11e9_84d2_008cfafbf396row6_col24\" class=\"data row6 col24\" >GBM_grid_1_AutoML_20191022_060410_model_47</td>\n",
       "                        <td id=\"T_319a8850_f4c1_11e9_84d2_008cfafbf396row6_col25\" class=\"data row6 col25\" >GBM_3_AutoML_20191022_060410</td>\n",
       "                        <td id=\"T_319a8850_f4c1_11e9_84d2_008cfafbf396row6_col26\" class=\"data row6 col26\" >GBM_1_AutoML_20191022_060410</td>\n",
       "                        <td id=\"T_319a8850_f4c1_11e9_84d2_008cfafbf396row6_col27\" class=\"data row6 col27\" >GBM_grid_1_AutoML_20191022_060410_model_43</td>\n",
       "                        <td id=\"T_319a8850_f4c1_11e9_84d2_008cfafbf396row6_col28\" class=\"data row6 col28\" >XGBoost_grid_1_AutoML_20191022_060410_model_37</td>\n",
       "                        <td id=\"T_319a8850_f4c1_11e9_84d2_008cfafbf396row6_col29\" class=\"data row6 col29\" >GBM_grid_1_AutoML_20191022_060410_model_27</td>\n",
       "                        <td id=\"T_319a8850_f4c1_11e9_84d2_008cfafbf396row6_col30\" class=\"data row6 col30\" >XGBoost_grid_1_AutoML_20191022_060410_model_38</td>\n",
       "                        <td id=\"T_319a8850_f4c1_11e9_84d2_008cfafbf396row6_col31\" class=\"data row6 col31\" >XGBoost_grid_1_AutoML_20191022_060410_model_35</td>\n",
       "                        <td id=\"T_319a8850_f4c1_11e9_84d2_008cfafbf396row6_col32\" class=\"data row6 col32\" >GBM_grid_1_AutoML_20191022_060410_model_6</td>\n",
       "                        <td id=\"T_319a8850_f4c1_11e9_84d2_008cfafbf396row6_col33\" class=\"data row6 col33\" >DRF_1_AutoML_20191022_060410</td>\n",
       "                        <td id=\"T_319a8850_f4c1_11e9_84d2_008cfafbf396row6_col34\" class=\"data row6 col34\" >GBM_2_AutoML_20191022_060410</td>\n",
       "                        <td id=\"T_319a8850_f4c1_11e9_84d2_008cfafbf396row6_col35\" class=\"data row6 col35\" >GBM_grid_1_AutoML_20191022_060410_model_26</td>\n",
       "                        <td id=\"T_319a8850_f4c1_11e9_84d2_008cfafbf396row6_col36\" class=\"data row6 col36\" >XGBoost_grid_1_AutoML_20191022_060410_model_13</td>\n",
       "                        <td id=\"T_319a8850_f4c1_11e9_84d2_008cfafbf396row6_col37\" class=\"data row6 col37\" >GBM_grid_1_AutoML_20191022_060410_model_3</td>\n",
       "                        <td id=\"T_319a8850_f4c1_11e9_84d2_008cfafbf396row6_col38\" class=\"data row6 col38\" >DeepLearning_grid_1_AutoML_20191022_060410_model_12</td>\n",
       "                        <td id=\"T_319a8850_f4c1_11e9_84d2_008cfafbf396row6_col39\" class=\"data row6 col39\" >XGBoost_grid_1_AutoML_20191022_060410_model_18</td>\n",
       "                        <td id=\"T_319a8850_f4c1_11e9_84d2_008cfafbf396row6_col40\" class=\"data row6 col40\" >GBM_grid_1_AutoML_20191022_060410_model_14</td>\n",
       "                        <td id=\"T_319a8850_f4c1_11e9_84d2_008cfafbf396row6_col41\" class=\"data row6 col41\" >GBM_grid_1_AutoML_20191022_060410_model_49</td>\n",
       "                        <td id=\"T_319a8850_f4c1_11e9_84d2_008cfafbf396row6_col42\" class=\"data row6 col42\" >GBM_grid_1_AutoML_20191022_060410_model_11</td>\n",
       "                        <td id=\"T_319a8850_f4c1_11e9_84d2_008cfafbf396row6_col43\" class=\"data row6 col43\" >GBM_grid_1_AutoML_20191022_060410_model_1</td>\n",
       "                        <td id=\"T_319a8850_f4c1_11e9_84d2_008cfafbf396row6_col44\" class=\"data row6 col44\" >XRT_1_AutoML_20191022_060410</td>\n",
       "                        <td id=\"T_319a8850_f4c1_11e9_84d2_008cfafbf396row6_col45\" class=\"data row6 col45\" >XGBoost_grid_1_AutoML_20191022_060410_model_21</td>\n",
       "                        <td id=\"T_319a8850_f4c1_11e9_84d2_008cfafbf396row6_col46\" class=\"data row6 col46\" >XGBoost_grid_1_AutoML_20191022_060410_model_33</td>\n",
       "                        <td id=\"T_319a8850_f4c1_11e9_84d2_008cfafbf396row6_col47\" class=\"data row6 col47\" >GBM_grid_1_AutoML_20191022_060410_model_57</td>\n",
       "                        <td id=\"T_319a8850_f4c1_11e9_84d2_008cfafbf396row6_col48\" class=\"data row6 col48\" >GBM_grid_1_AutoML_20191022_060410_model_40</td>\n",
       "                        <td id=\"T_319a8850_f4c1_11e9_84d2_008cfafbf396row6_col49\" class=\"data row6 col49\" >GBM_grid_1_AutoML_20191022_060410_model_59</td>\n",
       "                        <td id=\"T_319a8850_f4c1_11e9_84d2_008cfafbf396row6_col50\" class=\"data row6 col50\" >GBM_grid_1_AutoML_20191022_060410_model_58</td>\n",
       "                        <td id=\"T_319a8850_f4c1_11e9_84d2_008cfafbf396row6_col51\" class=\"data row6 col51\" >GBM_grid_1_AutoML_20191022_060410_model_56</td>\n",
       "                        <td id=\"T_319a8850_f4c1_11e9_84d2_008cfafbf396row6_col52\" class=\"data row6 col52\" >XGBoost_grid_1_AutoML_20191022_060410_model_20</td>\n",
       "                        <td id=\"T_319a8850_f4c1_11e9_84d2_008cfafbf396row6_col53\" class=\"data row6 col53\" >DeepLearning_grid_1_AutoML_20191022_060410_model_5</td>\n",
       "                        <td id=\"T_319a8850_f4c1_11e9_84d2_008cfafbf396row6_col54\" class=\"data row6 col54\" >GBM_grid_1_AutoML_20191022_060410_model_17</td>\n",
       "                        <td id=\"T_319a8850_f4c1_11e9_84d2_008cfafbf396row6_col55\" class=\"data row6 col55\" >XGBoost_grid_1_AutoML_20191022_060410_model_31</td>\n",
       "                        <td id=\"T_319a8850_f4c1_11e9_84d2_008cfafbf396row6_col56\" class=\"data row6 col56\" >XGBoost_grid_1_AutoML_20191022_060410_model_27</td>\n",
       "                        <td id=\"T_319a8850_f4c1_11e9_84d2_008cfafbf396row6_col57\" class=\"data row6 col57\" >XGBoost_grid_1_AutoML_20191022_060410_model_34</td>\n",
       "                        <td id=\"T_319a8850_f4c1_11e9_84d2_008cfafbf396row6_col58\" class=\"data row6 col58\" >GBM_grid_1_AutoML_20191022_060410_model_16</td>\n",
       "                        <td id=\"T_319a8850_f4c1_11e9_84d2_008cfafbf396row6_col59\" class=\"data row6 col59\" >GBM_grid_1_AutoML_20191022_060410_model_10</td>\n",
       "                        <td id=\"T_319a8850_f4c1_11e9_84d2_008cfafbf396row6_col60\" class=\"data row6 col60\" >GBM_5_AutoML_20191022_060410</td>\n",
       "                        <td id=\"T_319a8850_f4c1_11e9_84d2_008cfafbf396row6_col61\" class=\"data row6 col61\" >GBM_grid_1_AutoML_20191022_060410_model_53</td>\n",
       "                        <td id=\"T_319a8850_f4c1_11e9_84d2_008cfafbf396row6_col62\" class=\"data row6 col62\" >GBM_grid_1_AutoML_20191022_060410_model_42</td>\n",
       "                        <td id=\"T_319a8850_f4c1_11e9_84d2_008cfafbf396row6_col63\" class=\"data row6 col63\" >XGBoost_grid_1_AutoML_20191022_060410_model_8</td>\n",
       "                        <td id=\"T_319a8850_f4c1_11e9_84d2_008cfafbf396row6_col64\" class=\"data row6 col64\" >GBM_grid_1_AutoML_20191022_060410_model_45</td>\n",
       "                        <td id=\"T_319a8850_f4c1_11e9_84d2_008cfafbf396row6_col65\" class=\"data row6 col65\" >XGBoost_grid_1_AutoML_20191022_060410_model_36</td>\n",
       "                        <td id=\"T_319a8850_f4c1_11e9_84d2_008cfafbf396row6_col66\" class=\"data row6 col66\" >XGBoost_grid_1_AutoML_20191022_060410_model_25</td>\n",
       "                        <td id=\"T_319a8850_f4c1_11e9_84d2_008cfafbf396row6_col67\" class=\"data row6 col67\" >DeepLearning_grid_1_AutoML_20191022_060410_model_1</td>\n",
       "                        <td id=\"T_319a8850_f4c1_11e9_84d2_008cfafbf396row6_col68\" class=\"data row6 col68\" >XGBoost_grid_1_AutoML_20191022_060410_model_17</td>\n",
       "                        <td id=\"T_319a8850_f4c1_11e9_84d2_008cfafbf396row6_col69\" class=\"data row6 col69\" >GBM_grid_1_AutoML_20191022_060410_model_8</td>\n",
       "                        <td id=\"T_319a8850_f4c1_11e9_84d2_008cfafbf396row6_col70\" class=\"data row6 col70\" >DeepLearning_grid_1_AutoML_20191022_060410_model_8</td>\n",
       "                        <td id=\"T_319a8850_f4c1_11e9_84d2_008cfafbf396row6_col71\" class=\"data row6 col71\" >XGBoost_grid_1_AutoML_20191022_060410_model_2</td>\n",
       "                        <td id=\"T_319a8850_f4c1_11e9_84d2_008cfafbf396row6_col72\" class=\"data row6 col72\" >XGBoost_grid_1_AutoML_20191022_060410_model_15</td>\n",
       "                        <td id=\"T_319a8850_f4c1_11e9_84d2_008cfafbf396row6_col73\" class=\"data row6 col73\" >GBM_grid_1_AutoML_20191022_060410_model_13</td>\n",
       "                        <td id=\"T_319a8850_f4c1_11e9_84d2_008cfafbf396row6_col74\" class=\"data row6 col74\" >DeepLearning_grid_1_AutoML_20191022_060410_model_11</td>\n",
       "                        <td id=\"T_319a8850_f4c1_11e9_84d2_008cfafbf396row6_col75\" class=\"data row6 col75\" >XGBoost_grid_1_AutoML_20191022_060410_model_30</td>\n",
       "                        <td id=\"T_319a8850_f4c1_11e9_84d2_008cfafbf396row6_col76\" class=\"data row6 col76\" >XGBoost_grid_1_AutoML_20191022_060410_model_4</td>\n",
       "                        <td id=\"T_319a8850_f4c1_11e9_84d2_008cfafbf396row6_col77\" class=\"data row6 col77\" >GBM_grid_1_AutoML_20191022_060410_model_52</td>\n",
       "                        <td id=\"T_319a8850_f4c1_11e9_84d2_008cfafbf396row6_col78\" class=\"data row6 col78\" >XGBoost_grid_1_AutoML_20191022_060410_model_28</td>\n",
       "                        <td id=\"T_319a8850_f4c1_11e9_84d2_008cfafbf396row6_col79\" class=\"data row6 col79\" >GBM_grid_1_AutoML_20191022_060410_model_29</td>\n",
       "                        <td id=\"T_319a8850_f4c1_11e9_84d2_008cfafbf396row6_col80\" class=\"data row6 col80\" >XGBoost_grid_1_AutoML_20191022_060410_model_3</td>\n",
       "                        <td id=\"T_319a8850_f4c1_11e9_84d2_008cfafbf396row6_col81\" class=\"data row6 col81\" >DeepLearning_grid_1_AutoML_20191022_060410_model_14</td>\n",
       "                        <td id=\"T_319a8850_f4c1_11e9_84d2_008cfafbf396row6_col82\" class=\"data row6 col82\" >XGBoost_grid_1_AutoML_20191022_060410_model_19</td>\n",
       "                        <td id=\"T_319a8850_f4c1_11e9_84d2_008cfafbf396row6_col83\" class=\"data row6 col83\" >DeepLearning_grid_1_AutoML_20191022_060410_model_6</td>\n",
       "                        <td id=\"T_319a8850_f4c1_11e9_84d2_008cfafbf396row6_col84\" class=\"data row6 col84\" >XGBoost_2_AutoML_20191022_060410</td>\n",
       "                        <td id=\"T_319a8850_f4c1_11e9_84d2_008cfafbf396row6_col85\" class=\"data row6 col85\" >GBM_grid_1_AutoML_20191022_060410_model_21</td>\n",
       "                        <td id=\"T_319a8850_f4c1_11e9_84d2_008cfafbf396row6_col86\" class=\"data row6 col86\" >GBM_grid_1_AutoML_20191022_060410_model_54</td>\n",
       "                        <td id=\"T_319a8850_f4c1_11e9_84d2_008cfafbf396row6_col87\" class=\"data row6 col87\" >DeepLearning_grid_1_AutoML_20191022_060410_model_17</td>\n",
       "                        <td id=\"T_319a8850_f4c1_11e9_84d2_008cfafbf396row6_col88\" class=\"data row6 col88\" >GBM_grid_1_AutoML_20191022_060410_model_9</td>\n",
       "                        <td id=\"T_319a8850_f4c1_11e9_84d2_008cfafbf396row6_col89\" class=\"data row6 col89\" >XGBoost_grid_1_AutoML_20191022_060410_model_32</td>\n",
       "                        <td id=\"T_319a8850_f4c1_11e9_84d2_008cfafbf396row6_col90\" class=\"data row6 col90\" >XGBoost_grid_1_AutoML_20191022_060410_model_29</td>\n",
       "                        <td id=\"T_319a8850_f4c1_11e9_84d2_008cfafbf396row6_col91\" class=\"data row6 col91\" >XGBoost_grid_1_AutoML_20191022_060410_model_7</td>\n",
       "                        <td id=\"T_319a8850_f4c1_11e9_84d2_008cfafbf396row6_col92\" class=\"data row6 col92\" >XGBoost_grid_1_AutoML_20191022_060410_model_26</td>\n",
       "                        <td id=\"T_319a8850_f4c1_11e9_84d2_008cfafbf396row6_col93\" class=\"data row6 col93\" >DeepLearning_grid_1_AutoML_20191022_060410_model_16</td>\n",
       "                        <td id=\"T_319a8850_f4c1_11e9_84d2_008cfafbf396row6_col94\" class=\"data row6 col94\" >DeepLearning_grid_1_AutoML_20191022_060410_model_13</td>\n",
       "                        <td id=\"T_319a8850_f4c1_11e9_84d2_008cfafbf396row6_col95\" class=\"data row6 col95\" >GBM_grid_1_AutoML_20191022_060410_model_24</td>\n",
       "                        <td id=\"T_319a8850_f4c1_11e9_84d2_008cfafbf396row6_col96\" class=\"data row6 col96\" >XGBoost_grid_1_AutoML_20191022_060410_model_1</td>\n",
       "                        <td id=\"T_319a8850_f4c1_11e9_84d2_008cfafbf396row6_col97\" class=\"data row6 col97\" >XGBoost_grid_1_AutoML_20191022_060410_model_23</td>\n",
       "                        <td id=\"T_319a8850_f4c1_11e9_84d2_008cfafbf396row6_col98\" class=\"data row6 col98\" >GBM_grid_1_AutoML_20191022_060410_model_62</td>\n",
       "                        <td id=\"T_319a8850_f4c1_11e9_84d2_008cfafbf396row6_col99\" class=\"data row6 col99\" >XGBoost_grid_1_AutoML_20191022_060410_model_12</td>\n",
       "                        <td id=\"T_319a8850_f4c1_11e9_84d2_008cfafbf396row6_col100\" class=\"data row6 col100\" >GBM_grid_1_AutoML_20191022_060410_model_7</td>\n",
       "                        <td id=\"T_319a8850_f4c1_11e9_84d2_008cfafbf396row6_col101\" class=\"data row6 col101\" >XGBoost_grid_1_AutoML_20191022_060410_model_5</td>\n",
       "                        <td id=\"T_319a8850_f4c1_11e9_84d2_008cfafbf396row6_col102\" class=\"data row6 col102\" >GBM_grid_1_AutoML_20191022_060410_model_23</td>\n",
       "                        <td id=\"T_319a8850_f4c1_11e9_84d2_008cfafbf396row6_col103\" class=\"data row6 col103\" >GBM_grid_1_AutoML_20191022_060410_model_61</td>\n",
       "                        <td id=\"T_319a8850_f4c1_11e9_84d2_008cfafbf396row6_col104\" class=\"data row6 col104\" >GBM_grid_1_AutoML_20191022_060410_model_38</td>\n",
       "                        <td id=\"T_319a8850_f4c1_11e9_84d2_008cfafbf396row6_col105\" class=\"data row6 col105\" >XGBoost_grid_1_AutoML_20191022_060410_model_14</td>\n",
       "                        <td id=\"T_319a8850_f4c1_11e9_84d2_008cfafbf396row6_col106\" class=\"data row6 col106\" >XGBoost_grid_1_AutoML_20191022_060410_model_24</td>\n",
       "                        <td id=\"T_319a8850_f4c1_11e9_84d2_008cfafbf396row6_col107\" class=\"data row6 col107\" >GBM_grid_1_AutoML_20191022_060410_model_37</td>\n",
       "                        <td id=\"T_319a8850_f4c1_11e9_84d2_008cfafbf396row6_col108\" class=\"data row6 col108\" >GBM_grid_1_AutoML_20191022_060410_model_30</td>\n",
       "                        <td id=\"T_319a8850_f4c1_11e9_84d2_008cfafbf396row6_col109\" class=\"data row6 col109\" >XGBoost_grid_1_AutoML_20191022_060410_model_6</td>\n",
       "                        <td id=\"T_319a8850_f4c1_11e9_84d2_008cfafbf396row6_col110\" class=\"data row6 col110\" >XGBoost_grid_1_AutoML_20191022_060410_model_11</td>\n",
       "                        <td id=\"T_319a8850_f4c1_11e9_84d2_008cfafbf396row6_col111\" class=\"data row6 col111\" >GBM_grid_1_AutoML_20191022_060410_model_4</td>\n",
       "                        <td id=\"T_319a8850_f4c1_11e9_84d2_008cfafbf396row6_col112\" class=\"data row6 col112\" >XGBoost_grid_1_AutoML_20191022_060410_model_10</td>\n",
       "                        <td id=\"T_319a8850_f4c1_11e9_84d2_008cfafbf396row6_col113\" class=\"data row6 col113\" >GBM_grid_1_AutoML_20191022_060410_model_63</td>\n",
       "                        <td id=\"T_319a8850_f4c1_11e9_84d2_008cfafbf396row6_col114\" class=\"data row6 col114\" >GLM_grid_1_AutoML_20191022_060410_model_1</td>\n",
       "                        <td id=\"T_319a8850_f4c1_11e9_84d2_008cfafbf396row6_col115\" class=\"data row6 col115\" >GBM_grid_1_AutoML_20191022_060410_model_28</td>\n",
       "                        <td id=\"T_319a8850_f4c1_11e9_84d2_008cfafbf396row6_col116\" class=\"data row6 col116\" >GBM_grid_1_AutoML_20191022_060410_model_25</td>\n",
       "                        <td id=\"T_319a8850_f4c1_11e9_84d2_008cfafbf396row6_col117\" class=\"data row6 col117\" >XGBoost_grid_1_AutoML_20191022_060410_model_22</td>\n",
       "                        <td id=\"T_319a8850_f4c1_11e9_84d2_008cfafbf396row6_col118\" class=\"data row6 col118\" >GBM_grid_1_AutoML_20191022_060410_model_33</td>\n",
       "                        <td id=\"T_319a8850_f4c1_11e9_84d2_008cfafbf396row6_col119\" class=\"data row6 col119\" >GBM_grid_1_AutoML_20191022_060410_model_34</td>\n",
       "                        <td id=\"T_319a8850_f4c1_11e9_84d2_008cfafbf396row6_col120\" class=\"data row6 col120\" >GBM_grid_1_AutoML_20191022_060410_model_50</td>\n",
       "                        <td id=\"T_319a8850_f4c1_11e9_84d2_008cfafbf396row6_col121\" class=\"data row6 col121\" >DeepLearning_grid_1_AutoML_20191022_060410_model_7</td>\n",
       "                        <td id=\"T_319a8850_f4c1_11e9_84d2_008cfafbf396row6_col122\" class=\"data row6 col122\" >XGBoost_grid_1_AutoML_20191022_060410_model_16</td>\n",
       "                        <td id=\"T_319a8850_f4c1_11e9_84d2_008cfafbf396row6_col123\" class=\"data row6 col123\" >GBM_grid_1_AutoML_20191022_060410_model_51</td>\n",
       "                        <td id=\"T_319a8850_f4c1_11e9_84d2_008cfafbf396row6_col124\" class=\"data row6 col124\" >XGBoost_grid_1_AutoML_20191022_060410_model_9</td>\n",
       "                        <td id=\"T_319a8850_f4c1_11e9_84d2_008cfafbf396row6_col125\" class=\"data row6 col125\" >GBM_grid_1_AutoML_20191022_060410_model_2</td>\n",
       "                        <td id=\"T_319a8850_f4c1_11e9_84d2_008cfafbf396row6_col126\" class=\"data row6 col126\" >DeepLearning_1_AutoML_20191022_060410</td>\n",
       "                        <td id=\"T_319a8850_f4c1_11e9_84d2_008cfafbf396row6_col127\" class=\"data row6 col127\" >GBM_grid_1_AutoML_20191022_060410_model_5</td>\n",
       "                        <td id=\"T_319a8850_f4c1_11e9_84d2_008cfafbf396row6_col128\" class=\"data row6 col128\" >GBM_grid_1_AutoML_20191022_060410_model_44</td>\n",
       "                        <td id=\"T_319a8850_f4c1_11e9_84d2_008cfafbf396row6_col129\" class=\"data row6 col129\" >GBM_grid_1_AutoML_20191022_060410_model_64</td>\n",
       "                        <td id=\"T_319a8850_f4c1_11e9_84d2_008cfafbf396row6_col130\" class=\"data row6 col130\" >GBM_grid_1_AutoML_20191022_060410_model_65</td>\n",
       "                        <td id=\"T_319a8850_f4c1_11e9_84d2_008cfafbf396row6_col131\" class=\"data row6 col131\" >GBM_grid_1_AutoML_20191022_060410_model_22</td>\n",
       "                        <td id=\"T_319a8850_f4c1_11e9_84d2_008cfafbf396row6_col132\" class=\"data row6 col132\" >GBM_grid_1_AutoML_20191022_060410_model_60</td>\n",
       "                        <td id=\"T_319a8850_f4c1_11e9_84d2_008cfafbf396row6_col133\" class=\"data row6 col133\" >GBM_grid_1_AutoML_20191022_060410_model_36</td>\n",
       "                        <td id=\"T_319a8850_f4c1_11e9_84d2_008cfafbf396row6_col134\" class=\"data row6 col134\" >nan</td>\n",
       "                        <td id=\"T_319a8850_f4c1_11e9_84d2_008cfafbf396row6_col135\" class=\"data row6 col135\" >nan</td>\n",
       "                        <td id=\"T_319a8850_f4c1_11e9_84d2_008cfafbf396row6_col136\" class=\"data row6 col136\" >nan</td>\n",
       "                        <td id=\"T_319a8850_f4c1_11e9_84d2_008cfafbf396row6_col137\" class=\"data row6 col137\" >nan</td>\n",
       "                        <td id=\"T_319a8850_f4c1_11e9_84d2_008cfafbf396row6_col138\" class=\"data row6 col138\" >nan</td>\n",
       "                        <td id=\"T_319a8850_f4c1_11e9_84d2_008cfafbf396row6_col139\" class=\"data row6 col139\" >nan</td>\n",
       "                        <td id=\"T_319a8850_f4c1_11e9_84d2_008cfafbf396row6_col140\" class=\"data row6 col140\" >nan</td>\n",
       "                        <td id=\"T_319a8850_f4c1_11e9_84d2_008cfafbf396row6_col141\" class=\"data row6 col141\" >nan</td>\n",
       "                        <td id=\"T_319a8850_f4c1_11e9_84d2_008cfafbf396row6_col142\" class=\"data row6 col142\" >nan</td>\n",
       "                        <td id=\"T_319a8850_f4c1_11e9_84d2_008cfafbf396row6_col143\" class=\"data row6 col143\" >nan</td>\n",
       "                        <td id=\"T_319a8850_f4c1_11e9_84d2_008cfafbf396row6_col144\" class=\"data row6 col144\" >nan</td>\n",
       "                        <td id=\"T_319a8850_f4c1_11e9_84d2_008cfafbf396row6_col145\" class=\"data row6 col145\" >nan</td>\n",
       "                        <td id=\"T_319a8850_f4c1_11e9_84d2_008cfafbf396row6_col146\" class=\"data row6 col146\" >nan</td>\n",
       "                        <td id=\"T_319a8850_f4c1_11e9_84d2_008cfafbf396row6_col147\" class=\"data row6 col147\" >nan</td>\n",
       "                        <td id=\"T_319a8850_f4c1_11e9_84d2_008cfafbf396row6_col148\" class=\"data row6 col148\" >nan</td>\n",
       "                        <td id=\"T_319a8850_f4c1_11e9_84d2_008cfafbf396row6_col149\" class=\"data row6 col149\" >nan</td>\n",
       "                        <td id=\"T_319a8850_f4c1_11e9_84d2_008cfafbf396row6_col150\" class=\"data row6 col150\" >nan</td>\n",
       "                        <td id=\"T_319a8850_f4c1_11e9_84d2_008cfafbf396row6_col151\" class=\"data row6 col151\" >nan</td>\n",
       "                        <td id=\"T_319a8850_f4c1_11e9_84d2_008cfafbf396row6_col152\" class=\"data row6 col152\" >nan</td>\n",
       "                        <td id=\"T_319a8850_f4c1_11e9_84d2_008cfafbf396row6_col153\" class=\"data row6 col153\" >nan</td>\n",
       "                        <td id=\"T_319a8850_f4c1_11e9_84d2_008cfafbf396row6_col154\" class=\"data row6 col154\" >nan</td>\n",
       "                        <td id=\"T_319a8850_f4c1_11e9_84d2_008cfafbf396row6_col155\" class=\"data row6 col155\" >nan</td>\n",
       "                        <td id=\"T_319a8850_f4c1_11e9_84d2_008cfafbf396row6_col156\" class=\"data row6 col156\" >nan</td>\n",
       "                        <td id=\"T_319a8850_f4c1_11e9_84d2_008cfafbf396row6_col157\" class=\"data row6 col157\" >nan</td>\n",
       "                        <td id=\"T_319a8850_f4c1_11e9_84d2_008cfafbf396row6_col158\" class=\"data row6 col158\" >nan</td>\n",
       "                        <td id=\"T_319a8850_f4c1_11e9_84d2_008cfafbf396row6_col159\" class=\"data row6 col159\" >nan</td>\n",
       "                        <td id=\"T_319a8850_f4c1_11e9_84d2_008cfafbf396row6_col160\" class=\"data row6 col160\" >nan</td>\n",
       "                        <td id=\"T_319a8850_f4c1_11e9_84d2_008cfafbf396row6_col161\" class=\"data row6 col161\" >nan</td>\n",
       "                        <td id=\"T_319a8850_f4c1_11e9_84d2_008cfafbf396row6_col162\" class=\"data row6 col162\" >nan</td>\n",
       "                        <td id=\"T_319a8850_f4c1_11e9_84d2_008cfafbf396row6_col163\" class=\"data row6 col163\" >nan</td>\n",
       "                        <td id=\"T_319a8850_f4c1_11e9_84d2_008cfafbf396row6_col164\" class=\"data row6 col164\" >nan</td>\n",
       "                        <td id=\"T_319a8850_f4c1_11e9_84d2_008cfafbf396row6_col165\" class=\"data row6 col165\" >nan</td>\n",
       "                        <td id=\"T_319a8850_f4c1_11e9_84d2_008cfafbf396row6_col166\" class=\"data row6 col166\" >nan</td>\n",
       "            </tr>\n",
       "            <tr>\n",
       "                                <td id=\"T_319a8850_f4c1_11e9_84d2_008cfafbf396row7_col0\" class=\"data row7 col0\" >84</td>\n",
       "                        <td id=\"T_319a8850_f4c1_11e9_84d2_008cfafbf396row7_col1\" class=\"data row7 col1\" >StackedEnsemble_AllModels_AutoML_20191022_060857</td>\n",
       "                        <td id=\"T_319a8850_f4c1_11e9_84d2_008cfafbf396row7_col2\" class=\"data row7 col2\" >DeepLearning_grid_1_AutoML_20191022_060857_model_9</td>\n",
       "                        <td id=\"T_319a8850_f4c1_11e9_84d2_008cfafbf396row7_col3\" class=\"data row7 col3\" >DeepLearning_grid_1_AutoML_20191022_060857_model_3</td>\n",
       "                        <td id=\"T_319a8850_f4c1_11e9_84d2_008cfafbf396row7_col4\" class=\"data row7 col4\" >DeepLearning_grid_1_AutoML_20191022_060857_model_15</td>\n",
       "                        <td id=\"T_319a8850_f4c1_11e9_84d2_008cfafbf396row7_col5\" class=\"data row7 col5\" >GBM_grid_1_AutoML_20191022_060857_model_46</td>\n",
       "                        <td id=\"T_319a8850_f4c1_11e9_84d2_008cfafbf396row7_col6\" class=\"data row7 col6\" >GBM_grid_1_AutoML_20191022_060857_model_15</td>\n",
       "                        <td id=\"T_319a8850_f4c1_11e9_84d2_008cfafbf396row7_col7\" class=\"data row7 col7\" >GBM_3_AutoML_20191022_060857</td>\n",
       "                        <td id=\"T_319a8850_f4c1_11e9_84d2_008cfafbf396row7_col8\" class=\"data row7 col8\" >GBM_grid_1_AutoML_20191022_060857_model_31</td>\n",
       "                        <td id=\"T_319a8850_f4c1_11e9_84d2_008cfafbf396row7_col9\" class=\"data row7 col9\" >DeepLearning_grid_1_AutoML_20191022_060857_model_2</td>\n",
       "                        <td id=\"T_319a8850_f4c1_11e9_84d2_008cfafbf396row7_col10\" class=\"data row7 col10\" >GBM_grid_1_AutoML_20191022_060857_model_20</td>\n",
       "                        <td id=\"T_319a8850_f4c1_11e9_84d2_008cfafbf396row7_col11\" class=\"data row7 col11\" >GBM_grid_1_AutoML_20191022_060857_model_41</td>\n",
       "                        <td id=\"T_319a8850_f4c1_11e9_84d2_008cfafbf396row7_col12\" class=\"data row7 col12\" >DeepLearning_grid_1_AutoML_20191022_060857_model_4</td>\n",
       "                        <td id=\"T_319a8850_f4c1_11e9_84d2_008cfafbf396row7_col13\" class=\"data row7 col13\" >GBM_4_AutoML_20191022_060857</td>\n",
       "                        <td id=\"T_319a8850_f4c1_11e9_84d2_008cfafbf396row7_col14\" class=\"data row7 col14\" >GBM_grid_1_AutoML_20191022_060857_model_14</td>\n",
       "                        <td id=\"T_319a8850_f4c1_11e9_84d2_008cfafbf396row7_col15\" class=\"data row7 col15\" >GBM_grid_1_AutoML_20191022_060857_model_19</td>\n",
       "                        <td id=\"T_319a8850_f4c1_11e9_84d2_008cfafbf396row7_col16\" class=\"data row7 col16\" >GBM_grid_1_AutoML_20191022_060857_model_48</td>\n",
       "                        <td id=\"T_319a8850_f4c1_11e9_84d2_008cfafbf396row7_col17\" class=\"data row7 col17\" >DeepLearning_grid_1_AutoML_20191022_060857_model_10</td>\n",
       "                        <td id=\"T_319a8850_f4c1_11e9_84d2_008cfafbf396row7_col18\" class=\"data row7 col18\" >GBM_grid_1_AutoML_20191022_060857_model_47</td>\n",
       "                        <td id=\"T_319a8850_f4c1_11e9_84d2_008cfafbf396row7_col19\" class=\"data row7 col19\" >DRF_1_AutoML_20191022_060857</td>\n",
       "                        <td id=\"T_319a8850_f4c1_11e9_84d2_008cfafbf396row7_col20\" class=\"data row7 col20\" >GBM_2_AutoML_20191022_060857</td>\n",
       "                        <td id=\"T_319a8850_f4c1_11e9_84d2_008cfafbf396row7_col21\" class=\"data row7 col21\" >GBM_grid_1_AutoML_20191022_060857_model_12</td>\n",
       "                        <td id=\"T_319a8850_f4c1_11e9_84d2_008cfafbf396row7_col22\" class=\"data row7 col22\" >GBM_grid_1_AutoML_20191022_060857_model_6</td>\n",
       "                        <td id=\"T_319a8850_f4c1_11e9_84d2_008cfafbf396row7_col23\" class=\"data row7 col23\" >GBM_grid_1_AutoML_20191022_060857_model_39</td>\n",
       "                        <td id=\"T_319a8850_f4c1_11e9_84d2_008cfafbf396row7_col24\" class=\"data row7 col24\" >XGBoost_1_AutoML_20191022_060857</td>\n",
       "                        <td id=\"T_319a8850_f4c1_11e9_84d2_008cfafbf396row7_col25\" class=\"data row7 col25\" >GBM_grid_1_AutoML_20191022_060857_model_10</td>\n",
       "                        <td id=\"T_319a8850_f4c1_11e9_84d2_008cfafbf396row7_col26\" class=\"data row7 col26\" >GBM_grid_1_AutoML_20191022_060857_model_55</td>\n",
       "                        <td id=\"T_319a8850_f4c1_11e9_84d2_008cfafbf396row7_col27\" class=\"data row7 col27\" >GBM_grid_1_AutoML_20191022_060857_model_27</td>\n",
       "                        <td id=\"T_319a8850_f4c1_11e9_84d2_008cfafbf396row7_col28\" class=\"data row7 col28\" >GBM_grid_1_AutoML_20191022_060857_model_18</td>\n",
       "                        <td id=\"T_319a8850_f4c1_11e9_84d2_008cfafbf396row7_col29\" class=\"data row7 col29\" >GBM_grid_1_AutoML_20191022_060857_model_57</td>\n",
       "                        <td id=\"T_319a8850_f4c1_11e9_84d2_008cfafbf396row7_col30\" class=\"data row7 col30\" >GBM_grid_1_AutoML_20191022_060857_model_43</td>\n",
       "                        <td id=\"T_319a8850_f4c1_11e9_84d2_008cfafbf396row7_col31\" class=\"data row7 col31\" >GBM_grid_1_AutoML_20191022_060857_model_11</td>\n",
       "                        <td id=\"T_319a8850_f4c1_11e9_84d2_008cfafbf396row7_col32\" class=\"data row7 col32\" >GBM_grid_1_AutoML_20191022_060857_model_62</td>\n",
       "                        <td id=\"T_319a8850_f4c1_11e9_84d2_008cfafbf396row7_col33\" class=\"data row7 col33\" >GBM_grid_1_AutoML_20191022_060857_model_32</td>\n",
       "                        <td id=\"T_319a8850_f4c1_11e9_84d2_008cfafbf396row7_col34\" class=\"data row7 col34\" >XGBoost_grid_1_AutoML_20191022_060857_model_33</td>\n",
       "                        <td id=\"T_319a8850_f4c1_11e9_84d2_008cfafbf396row7_col35\" class=\"data row7 col35\" >GBM_grid_1_AutoML_20191022_060857_model_35</td>\n",
       "                        <td id=\"T_319a8850_f4c1_11e9_84d2_008cfafbf396row7_col36\" class=\"data row7 col36\" >XGBoost_grid_1_AutoML_20191022_060857_model_13</td>\n",
       "                        <td id=\"T_319a8850_f4c1_11e9_84d2_008cfafbf396row7_col37\" class=\"data row7 col37\" >GBM_grid_1_AutoML_20191022_060857_model_17</td>\n",
       "                        <td id=\"T_319a8850_f4c1_11e9_84d2_008cfafbf396row7_col38\" class=\"data row7 col38\" >GBM_grid_1_AutoML_20191022_060857_model_67</td>\n",
       "                        <td id=\"T_319a8850_f4c1_11e9_84d2_008cfafbf396row7_col39\" class=\"data row7 col39\" >XRT_1_AutoML_20191022_060857</td>\n",
       "                        <td id=\"T_319a8850_f4c1_11e9_84d2_008cfafbf396row7_col40\" class=\"data row7 col40\" >GBM_1_AutoML_20191022_060857</td>\n",
       "                        <td id=\"T_319a8850_f4c1_11e9_84d2_008cfafbf396row7_col41\" class=\"data row7 col41\" >GBM_grid_1_AutoML_20191022_060857_model_3</td>\n",
       "                        <td id=\"T_319a8850_f4c1_11e9_84d2_008cfafbf396row7_col42\" class=\"data row7 col42\" >GBM_grid_1_AutoML_20191022_060857_model_26</td>\n",
       "                        <td id=\"T_319a8850_f4c1_11e9_84d2_008cfafbf396row7_col43\" class=\"data row7 col43\" >XGBoost_grid_1_AutoML_20191022_060857_model_17</td>\n",
       "                        <td id=\"T_319a8850_f4c1_11e9_84d2_008cfafbf396row7_col44\" class=\"data row7 col44\" >GBM_5_AutoML_20191022_060857</td>\n",
       "                        <td id=\"T_319a8850_f4c1_11e9_84d2_008cfafbf396row7_col45\" class=\"data row7 col45\" >XGBoost_grid_1_AutoML_20191022_060857_model_8</td>\n",
       "                        <td id=\"T_319a8850_f4c1_11e9_84d2_008cfafbf396row7_col46\" class=\"data row7 col46\" >GBM_grid_1_AutoML_20191022_060857_model_49</td>\n",
       "                        <td id=\"T_319a8850_f4c1_11e9_84d2_008cfafbf396row7_col47\" class=\"data row7 col47\" >GBM_grid_1_AutoML_20191022_060857_model_56</td>\n",
       "                        <td id=\"T_319a8850_f4c1_11e9_84d2_008cfafbf396row7_col48\" class=\"data row7 col48\" >XGBoost_grid_1_AutoML_20191022_060857_model_34</td>\n",
       "                        <td id=\"T_319a8850_f4c1_11e9_84d2_008cfafbf396row7_col49\" class=\"data row7 col49\" >GBM_grid_1_AutoML_20191022_060857_model_52</td>\n",
       "                        <td id=\"T_319a8850_f4c1_11e9_84d2_008cfafbf396row7_col50\" class=\"data row7 col50\" >XGBoost_grid_1_AutoML_20191022_060857_model_27</td>\n",
       "                        <td id=\"T_319a8850_f4c1_11e9_84d2_008cfafbf396row7_col51\" class=\"data row7 col51\" >XGBoost_grid_1_AutoML_20191022_060857_model_30</td>\n",
       "                        <td id=\"T_319a8850_f4c1_11e9_84d2_008cfafbf396row7_col52\" class=\"data row7 col52\" >XGBoost_grid_1_AutoML_20191022_060857_model_21</td>\n",
       "                        <td id=\"T_319a8850_f4c1_11e9_84d2_008cfafbf396row7_col53\" class=\"data row7 col53\" >GBM_grid_1_AutoML_20191022_060857_model_58</td>\n",
       "                        <td id=\"T_319a8850_f4c1_11e9_84d2_008cfafbf396row7_col54\" class=\"data row7 col54\" >GBM_grid_1_AutoML_20191022_060857_model_53</td>\n",
       "                        <td id=\"T_319a8850_f4c1_11e9_84d2_008cfafbf396row7_col55\" class=\"data row7 col55\" >GBM_grid_1_AutoML_20191022_060857_model_66</td>\n",
       "                        <td id=\"T_319a8850_f4c1_11e9_84d2_008cfafbf396row7_col56\" class=\"data row7 col56\" >GBM_grid_1_AutoML_20191022_060857_model_8</td>\n",
       "                        <td id=\"T_319a8850_f4c1_11e9_84d2_008cfafbf396row7_col57\" class=\"data row7 col57\" >XGBoost_3_AutoML_20191022_060857</td>\n",
       "                        <td id=\"T_319a8850_f4c1_11e9_84d2_008cfafbf396row7_col58\" class=\"data row7 col58\" >DeepLearning_grid_1_AutoML_20191022_060857_model_5</td>\n",
       "                        <td id=\"T_319a8850_f4c1_11e9_84d2_008cfafbf396row7_col59\" class=\"data row7 col59\" >XGBoost_grid_1_AutoML_20191022_060857_model_18</td>\n",
       "                        <td id=\"T_319a8850_f4c1_11e9_84d2_008cfafbf396row7_col60\" class=\"data row7 col60\" >XGBoost_grid_1_AutoML_20191022_060857_model_4</td>\n",
       "                        <td id=\"T_319a8850_f4c1_11e9_84d2_008cfafbf396row7_col61\" class=\"data row7 col61\" >GBM_grid_1_AutoML_20191022_060857_model_16</td>\n",
       "                        <td id=\"T_319a8850_f4c1_11e9_84d2_008cfafbf396row7_col62\" class=\"data row7 col62\" >XGBoost_grid_1_AutoML_20191022_060857_model_31</td>\n",
       "                        <td id=\"T_319a8850_f4c1_11e9_84d2_008cfafbf396row7_col63\" class=\"data row7 col63\" >DeepLearning_grid_1_AutoML_20191022_060857_model_16</td>\n",
       "                        <td id=\"T_319a8850_f4c1_11e9_84d2_008cfafbf396row7_col64\" class=\"data row7 col64\" >GBM_grid_1_AutoML_20191022_060857_model_1</td>\n",
       "                        <td id=\"T_319a8850_f4c1_11e9_84d2_008cfafbf396row7_col65\" class=\"data row7 col65\" >GBM_grid_1_AutoML_20191022_060857_model_9</td>\n",
       "                        <td id=\"T_319a8850_f4c1_11e9_84d2_008cfafbf396row7_col66\" class=\"data row7 col66\" >GBM_grid_1_AutoML_20191022_060857_model_45</td>\n",
       "                        <td id=\"T_319a8850_f4c1_11e9_84d2_008cfafbf396row7_col67\" class=\"data row7 col67\" >XGBoost_grid_1_AutoML_20191022_060857_model_28</td>\n",
       "                        <td id=\"T_319a8850_f4c1_11e9_84d2_008cfafbf396row7_col68\" class=\"data row7 col68\" >DeepLearning_grid_1_AutoML_20191022_060857_model_11</td>\n",
       "                        <td id=\"T_319a8850_f4c1_11e9_84d2_008cfafbf396row7_col69\" class=\"data row7 col69\" >XGBoost_grid_1_AutoML_20191022_060857_model_7</td>\n",
       "                        <td id=\"T_319a8850_f4c1_11e9_84d2_008cfafbf396row7_col70\" class=\"data row7 col70\" >GBM_grid_1_AutoML_20191022_060857_model_42</td>\n",
       "                        <td id=\"T_319a8850_f4c1_11e9_84d2_008cfafbf396row7_col71\" class=\"data row7 col71\" >GBM_grid_1_AutoML_20191022_060857_model_63</td>\n",
       "                        <td id=\"T_319a8850_f4c1_11e9_84d2_008cfafbf396row7_col72\" class=\"data row7 col72\" >DeepLearning_grid_1_AutoML_20191022_060857_model_8</td>\n",
       "                        <td id=\"T_319a8850_f4c1_11e9_84d2_008cfafbf396row7_col73\" class=\"data row7 col73\" >XGBoost_grid_1_AutoML_20191022_060857_model_20</td>\n",
       "                        <td id=\"T_319a8850_f4c1_11e9_84d2_008cfafbf396row7_col74\" class=\"data row7 col74\" >GBM_grid_1_AutoML_20191022_060857_model_59</td>\n",
       "                        <td id=\"T_319a8850_f4c1_11e9_84d2_008cfafbf396row7_col75\" class=\"data row7 col75\" >XGBoost_grid_1_AutoML_20191022_060857_model_29</td>\n",
       "                        <td id=\"T_319a8850_f4c1_11e9_84d2_008cfafbf396row7_col76\" class=\"data row7 col76\" >XGBoost_grid_1_AutoML_20191022_060857_model_2</td>\n",
       "                        <td id=\"T_319a8850_f4c1_11e9_84d2_008cfafbf396row7_col77\" class=\"data row7 col77\" >GBM_grid_1_AutoML_20191022_060857_model_64</td>\n",
       "                        <td id=\"T_319a8850_f4c1_11e9_84d2_008cfafbf396row7_col78\" class=\"data row7 col78\" >XGBoost_grid_1_AutoML_20191022_060857_model_3</td>\n",
       "                        <td id=\"T_319a8850_f4c1_11e9_84d2_008cfafbf396row7_col79\" class=\"data row7 col79\" >GBM_grid_1_AutoML_20191022_060857_model_40</td>\n",
       "                        <td id=\"T_319a8850_f4c1_11e9_84d2_008cfafbf396row7_col80\" class=\"data row7 col80\" >GBM_grid_1_AutoML_20191022_060857_model_54</td>\n",
       "                        <td id=\"T_319a8850_f4c1_11e9_84d2_008cfafbf396row7_col81\" class=\"data row7 col81\" >XGBoost_grid_1_AutoML_20191022_060857_model_15</td>\n",
       "                        <td id=\"T_319a8850_f4c1_11e9_84d2_008cfafbf396row7_col82\" class=\"data row7 col82\" >GBM_grid_1_AutoML_20191022_060857_model_29</td>\n",
       "                        <td id=\"T_319a8850_f4c1_11e9_84d2_008cfafbf396row7_col83\" class=\"data row7 col83\" >DeepLearning_grid_1_AutoML_20191022_060857_model_13</td>\n",
       "                        <td id=\"T_319a8850_f4c1_11e9_84d2_008cfafbf396row7_col84\" class=\"data row7 col84\" >GBM_grid_1_AutoML_20191022_060857_model_13</td>\n",
       "                        <td id=\"T_319a8850_f4c1_11e9_84d2_008cfafbf396row7_col85\" class=\"data row7 col85\" >XGBoost_grid_1_AutoML_20191022_060857_model_25</td>\n",
       "                        <td id=\"T_319a8850_f4c1_11e9_84d2_008cfafbf396row7_col86\" class=\"data row7 col86\" >GBM_grid_1_AutoML_20191022_060857_model_68</td>\n",
       "                        <td id=\"T_319a8850_f4c1_11e9_84d2_008cfafbf396row7_col87\" class=\"data row7 col87\" >DeepLearning_grid_1_AutoML_20191022_060857_model_6</td>\n",
       "                        <td id=\"T_319a8850_f4c1_11e9_84d2_008cfafbf396row7_col88\" class=\"data row7 col88\" >GBM_grid_1_AutoML_20191022_060857_model_21</td>\n",
       "                        <td id=\"T_319a8850_f4c1_11e9_84d2_008cfafbf396row7_col89\" class=\"data row7 col89\" >DeepLearning_grid_1_AutoML_20191022_060857_model_1</td>\n",
       "                        <td id=\"T_319a8850_f4c1_11e9_84d2_008cfafbf396row7_col90\" class=\"data row7 col90\" >XGBoost_grid_1_AutoML_20191022_060857_model_23</td>\n",
       "                        <td id=\"T_319a8850_f4c1_11e9_84d2_008cfafbf396row7_col91\" class=\"data row7 col91\" >XGBoost_2_AutoML_20191022_060857</td>\n",
       "                        <td id=\"T_319a8850_f4c1_11e9_84d2_008cfafbf396row7_col92\" class=\"data row7 col92\" >XGBoost_grid_1_AutoML_20191022_060857_model_26</td>\n",
       "                        <td id=\"T_319a8850_f4c1_11e9_84d2_008cfafbf396row7_col93\" class=\"data row7 col93\" >XGBoost_grid_1_AutoML_20191022_060857_model_1</td>\n",
       "                        <td id=\"T_319a8850_f4c1_11e9_84d2_008cfafbf396row7_col94\" class=\"data row7 col94\" >DeepLearning_grid_1_AutoML_20191022_060857_model_14</td>\n",
       "                        <td id=\"T_319a8850_f4c1_11e9_84d2_008cfafbf396row7_col95\" class=\"data row7 col95\" >XGBoost_grid_1_AutoML_20191022_060857_model_32</td>\n",
       "                        <td id=\"T_319a8850_f4c1_11e9_84d2_008cfafbf396row7_col96\" class=\"data row7 col96\" >XGBoost_grid_1_AutoML_20191022_060857_model_19</td>\n",
       "                        <td id=\"T_319a8850_f4c1_11e9_84d2_008cfafbf396row7_col97\" class=\"data row7 col97\" >GBM_grid_1_AutoML_20191022_060857_model_69</td>\n",
       "                        <td id=\"T_319a8850_f4c1_11e9_84d2_008cfafbf396row7_col98\" class=\"data row7 col98\" >GBM_grid_1_AutoML_20191022_060857_model_24</td>\n",
       "                        <td id=\"T_319a8850_f4c1_11e9_84d2_008cfafbf396row7_col99\" class=\"data row7 col99\" >GBM_grid_1_AutoML_20191022_060857_model_7</td>\n",
       "                        <td id=\"T_319a8850_f4c1_11e9_84d2_008cfafbf396row7_col100\" class=\"data row7 col100\" >XGBoost_grid_1_AutoML_20191022_060857_model_5</td>\n",
       "                        <td id=\"T_319a8850_f4c1_11e9_84d2_008cfafbf396row7_col101\" class=\"data row7 col101\" >GBM_grid_1_AutoML_20191022_060857_model_23</td>\n",
       "                        <td id=\"T_319a8850_f4c1_11e9_84d2_008cfafbf396row7_col102\" class=\"data row7 col102\" >DeepLearning_grid_1_AutoML_20191022_060857_model_17</td>\n",
       "                        <td id=\"T_319a8850_f4c1_11e9_84d2_008cfafbf396row7_col103\" class=\"data row7 col103\" >XGBoost_grid_1_AutoML_20191022_060857_model_12</td>\n",
       "                        <td id=\"T_319a8850_f4c1_11e9_84d2_008cfafbf396row7_col104\" class=\"data row7 col104\" >GBM_grid_1_AutoML_20191022_060857_model_38</td>\n",
       "                        <td id=\"T_319a8850_f4c1_11e9_84d2_008cfafbf396row7_col105\" class=\"data row7 col105\" >XGBoost_grid_1_AutoML_20191022_060857_model_24</td>\n",
       "                        <td id=\"T_319a8850_f4c1_11e9_84d2_008cfafbf396row7_col106\" class=\"data row7 col106\" >DeepLearning_grid_1_AutoML_20191022_060857_model_12</td>\n",
       "                        <td id=\"T_319a8850_f4c1_11e9_84d2_008cfafbf396row7_col107\" class=\"data row7 col107\" >GBM_grid_1_AutoML_20191022_060857_model_30</td>\n",
       "                        <td id=\"T_319a8850_f4c1_11e9_84d2_008cfafbf396row7_col108\" class=\"data row7 col108\" >GBM_grid_1_AutoML_20191022_060857_model_28</td>\n",
       "                        <td id=\"T_319a8850_f4c1_11e9_84d2_008cfafbf396row7_col109\" class=\"data row7 col109\" >GBM_grid_1_AutoML_20191022_060857_model_61</td>\n",
       "                        <td id=\"T_319a8850_f4c1_11e9_84d2_008cfafbf396row7_col110\" class=\"data row7 col110\" >GBM_grid_1_AutoML_20191022_060857_model_4</td>\n",
       "                        <td id=\"T_319a8850_f4c1_11e9_84d2_008cfafbf396row7_col111\" class=\"data row7 col111\" >XGBoost_grid_1_AutoML_20191022_060857_model_14</td>\n",
       "                        <td id=\"T_319a8850_f4c1_11e9_84d2_008cfafbf396row7_col112\" class=\"data row7 col112\" >GBM_grid_1_AutoML_20191022_060857_model_37</td>\n",
       "                        <td id=\"T_319a8850_f4c1_11e9_84d2_008cfafbf396row7_col113\" class=\"data row7 col113\" >XGBoost_grid_1_AutoML_20191022_060857_model_10</td>\n",
       "                        <td id=\"T_319a8850_f4c1_11e9_84d2_008cfafbf396row7_col114\" class=\"data row7 col114\" >GBM_grid_1_AutoML_20191022_060857_model_25</td>\n",
       "                        <td id=\"T_319a8850_f4c1_11e9_84d2_008cfafbf396row7_col115\" class=\"data row7 col115\" >XGBoost_grid_1_AutoML_20191022_060857_model_6</td>\n",
       "                        <td id=\"T_319a8850_f4c1_11e9_84d2_008cfafbf396row7_col116\" class=\"data row7 col116\" >XGBoost_grid_1_AutoML_20191022_060857_model_22</td>\n",
       "                        <td id=\"T_319a8850_f4c1_11e9_84d2_008cfafbf396row7_col117\" class=\"data row7 col117\" >GBM_grid_1_AutoML_20191022_060857_model_34</td>\n",
       "                        <td id=\"T_319a8850_f4c1_11e9_84d2_008cfafbf396row7_col118\" class=\"data row7 col118\" >GLM_grid_1_AutoML_20191022_060857_model_1</td>\n",
       "                        <td id=\"T_319a8850_f4c1_11e9_84d2_008cfafbf396row7_col119\" class=\"data row7 col119\" >GBM_grid_1_AutoML_20191022_060857_model_33</td>\n",
       "                        <td id=\"T_319a8850_f4c1_11e9_84d2_008cfafbf396row7_col120\" class=\"data row7 col120\" >XGBoost_grid_1_AutoML_20191022_060857_model_11</td>\n",
       "                        <td id=\"T_319a8850_f4c1_11e9_84d2_008cfafbf396row7_col121\" class=\"data row7 col121\" >XGBoost_grid_1_AutoML_20191022_060857_model_16</td>\n",
       "                        <td id=\"T_319a8850_f4c1_11e9_84d2_008cfafbf396row7_col122\" class=\"data row7 col122\" >GBM_grid_1_AutoML_20191022_060857_model_50</td>\n",
       "                        <td id=\"T_319a8850_f4c1_11e9_84d2_008cfafbf396row7_col123\" class=\"data row7 col123\" >DeepLearning_grid_1_AutoML_20191022_060857_model_7</td>\n",
       "                        <td id=\"T_319a8850_f4c1_11e9_84d2_008cfafbf396row7_col124\" class=\"data row7 col124\" >GBM_grid_1_AutoML_20191022_060857_model_51</td>\n",
       "                        <td id=\"T_319a8850_f4c1_11e9_84d2_008cfafbf396row7_col125\" class=\"data row7 col125\" >XGBoost_grid_1_AutoML_20191022_060857_model_9</td>\n",
       "                        <td id=\"T_319a8850_f4c1_11e9_84d2_008cfafbf396row7_col126\" class=\"data row7 col126\" >GBM_grid_1_AutoML_20191022_060857_model_70</td>\n",
       "                        <td id=\"T_319a8850_f4c1_11e9_84d2_008cfafbf396row7_col127\" class=\"data row7 col127\" >GBM_grid_1_AutoML_20191022_060857_model_2</td>\n",
       "                        <td id=\"T_319a8850_f4c1_11e9_84d2_008cfafbf396row7_col128\" class=\"data row7 col128\" >GBM_grid_1_AutoML_20191022_060857_model_71</td>\n",
       "                        <td id=\"T_319a8850_f4c1_11e9_84d2_008cfafbf396row7_col129\" class=\"data row7 col129\" >DeepLearning_1_AutoML_20191022_060857</td>\n",
       "                        <td id=\"T_319a8850_f4c1_11e9_84d2_008cfafbf396row7_col130\" class=\"data row7 col130\" >GBM_grid_1_AutoML_20191022_060857_model_44</td>\n",
       "                        <td id=\"T_319a8850_f4c1_11e9_84d2_008cfafbf396row7_col131\" class=\"data row7 col131\" >GBM_grid_1_AutoML_20191022_060857_model_22</td>\n",
       "                        <td id=\"T_319a8850_f4c1_11e9_84d2_008cfafbf396row7_col132\" class=\"data row7 col132\" >GBM_grid_1_AutoML_20191022_060857_model_5</td>\n",
       "                        <td id=\"T_319a8850_f4c1_11e9_84d2_008cfafbf396row7_col133\" class=\"data row7 col133\" >GBM_grid_1_AutoML_20191022_060857_model_60</td>\n",
       "                        <td id=\"T_319a8850_f4c1_11e9_84d2_008cfafbf396row7_col134\" class=\"data row7 col134\" >GBM_grid_1_AutoML_20191022_060857_model_36</td>\n",
       "                        <td id=\"T_319a8850_f4c1_11e9_84d2_008cfafbf396row7_col135\" class=\"data row7 col135\" >GBM_grid_1_AutoML_20191022_060857_model_65</td>\n",
       "                        <td id=\"T_319a8850_f4c1_11e9_84d2_008cfafbf396row7_col136\" class=\"data row7 col136\" >nan</td>\n",
       "                        <td id=\"T_319a8850_f4c1_11e9_84d2_008cfafbf396row7_col137\" class=\"data row7 col137\" >nan</td>\n",
       "                        <td id=\"T_319a8850_f4c1_11e9_84d2_008cfafbf396row7_col138\" class=\"data row7 col138\" >nan</td>\n",
       "                        <td id=\"T_319a8850_f4c1_11e9_84d2_008cfafbf396row7_col139\" class=\"data row7 col139\" >nan</td>\n",
       "                        <td id=\"T_319a8850_f4c1_11e9_84d2_008cfafbf396row7_col140\" class=\"data row7 col140\" >nan</td>\n",
       "                        <td id=\"T_319a8850_f4c1_11e9_84d2_008cfafbf396row7_col141\" class=\"data row7 col141\" >nan</td>\n",
       "                        <td id=\"T_319a8850_f4c1_11e9_84d2_008cfafbf396row7_col142\" class=\"data row7 col142\" >nan</td>\n",
       "                        <td id=\"T_319a8850_f4c1_11e9_84d2_008cfafbf396row7_col143\" class=\"data row7 col143\" >nan</td>\n",
       "                        <td id=\"T_319a8850_f4c1_11e9_84d2_008cfafbf396row7_col144\" class=\"data row7 col144\" >nan</td>\n",
       "                        <td id=\"T_319a8850_f4c1_11e9_84d2_008cfafbf396row7_col145\" class=\"data row7 col145\" >nan</td>\n",
       "                        <td id=\"T_319a8850_f4c1_11e9_84d2_008cfafbf396row7_col146\" class=\"data row7 col146\" >nan</td>\n",
       "                        <td id=\"T_319a8850_f4c1_11e9_84d2_008cfafbf396row7_col147\" class=\"data row7 col147\" >nan</td>\n",
       "                        <td id=\"T_319a8850_f4c1_11e9_84d2_008cfafbf396row7_col148\" class=\"data row7 col148\" >nan</td>\n",
       "                        <td id=\"T_319a8850_f4c1_11e9_84d2_008cfafbf396row7_col149\" class=\"data row7 col149\" >nan</td>\n",
       "                        <td id=\"T_319a8850_f4c1_11e9_84d2_008cfafbf396row7_col150\" class=\"data row7 col150\" >nan</td>\n",
       "                        <td id=\"T_319a8850_f4c1_11e9_84d2_008cfafbf396row7_col151\" class=\"data row7 col151\" >nan</td>\n",
       "                        <td id=\"T_319a8850_f4c1_11e9_84d2_008cfafbf396row7_col152\" class=\"data row7 col152\" >nan</td>\n",
       "                        <td id=\"T_319a8850_f4c1_11e9_84d2_008cfafbf396row7_col153\" class=\"data row7 col153\" >nan</td>\n",
       "                        <td id=\"T_319a8850_f4c1_11e9_84d2_008cfafbf396row7_col154\" class=\"data row7 col154\" >nan</td>\n",
       "                        <td id=\"T_319a8850_f4c1_11e9_84d2_008cfafbf396row7_col155\" class=\"data row7 col155\" >nan</td>\n",
       "                        <td id=\"T_319a8850_f4c1_11e9_84d2_008cfafbf396row7_col156\" class=\"data row7 col156\" >nan</td>\n",
       "                        <td id=\"T_319a8850_f4c1_11e9_84d2_008cfafbf396row7_col157\" class=\"data row7 col157\" >nan</td>\n",
       "                        <td id=\"T_319a8850_f4c1_11e9_84d2_008cfafbf396row7_col158\" class=\"data row7 col158\" >nan</td>\n",
       "                        <td id=\"T_319a8850_f4c1_11e9_84d2_008cfafbf396row7_col159\" class=\"data row7 col159\" >nan</td>\n",
       "                        <td id=\"T_319a8850_f4c1_11e9_84d2_008cfafbf396row7_col160\" class=\"data row7 col160\" >nan</td>\n",
       "                        <td id=\"T_319a8850_f4c1_11e9_84d2_008cfafbf396row7_col161\" class=\"data row7 col161\" >nan</td>\n",
       "                        <td id=\"T_319a8850_f4c1_11e9_84d2_008cfafbf396row7_col162\" class=\"data row7 col162\" >nan</td>\n",
       "                        <td id=\"T_319a8850_f4c1_11e9_84d2_008cfafbf396row7_col163\" class=\"data row7 col163\" >nan</td>\n",
       "                        <td id=\"T_319a8850_f4c1_11e9_84d2_008cfafbf396row7_col164\" class=\"data row7 col164\" >nan</td>\n",
       "                        <td id=\"T_319a8850_f4c1_11e9_84d2_008cfafbf396row7_col165\" class=\"data row7 col165\" >nan</td>\n",
       "                        <td id=\"T_319a8850_f4c1_11e9_84d2_008cfafbf396row7_col166\" class=\"data row7 col166\" >nan</td>\n",
       "            </tr>\n",
       "    </tbody></table>"
      ],
      "text/plain": [
       "<pandas.io.formats.style.Styler at 0x2ab388007ef0>"
      ]
     },
     "metadata": {},
     "output_type": "display_data"
    },
    {
     "data": {
      "text/plain": [
       "'H2OAutoMLClean #1'"
      ]
     },
     "metadata": {},
     "output_type": "display_data"
    },
    {
     "data": {
      "text/html": [
       "<style  type=\"text/css\" >\n",
       "</style><table id=\"T_31a711ce_f4c1_11e9_84d2_008cfafbf396\" ><thead>    <tr>        <th class=\"col_heading level0 col0\" >max_angle</th>        <th class=\"col_heading level0 col1\" >test_acc</th>        <th class=\"col_heading level0 col2\" >train_acc</th>        <th class=\"col_heading level0 col3\" >time_err</th>        <th class=\"col_heading level0 col4\" >time_pre</th>        <th class=\"col_heading level0 col5\" >time_mod</th>    </tr></thead><tbody>\n",
       "                <tr>\n",
       "                                <td id=\"T_31a711ce_f4c1_11e9_84d2_008cfafbf396row0_col0\" class=\"data row0 col0\" >0</td>\n",
       "                        <td id=\"T_31a711ce_f4c1_11e9_84d2_008cfafbf396row0_col1\" class=\"data row0 col1\" >0.986</td>\n",
       "                        <td id=\"T_31a711ce_f4c1_11e9_84d2_008cfafbf396row0_col2\" class=\"data row0 col2\" >1</td>\n",
       "                        <td id=\"T_31a711ce_f4c1_11e9_84d2_008cfafbf396row0_col3\" class=\"data row0 col3\" >0.194</td>\n",
       "                        <td id=\"T_31a711ce_f4c1_11e9_84d2_008cfafbf396row0_col4\" class=\"data row0 col4\" >0</td>\n",
       "                        <td id=\"T_31a711ce_f4c1_11e9_84d2_008cfafbf396row0_col5\" class=\"data row0 col5\" >7742.69</td>\n",
       "            </tr>\n",
       "            <tr>\n",
       "                                <td id=\"T_31a711ce_f4c1_11e9_84d2_008cfafbf396row1_col0\" class=\"data row1 col0\" >12</td>\n",
       "                        <td id=\"T_31a711ce_f4c1_11e9_84d2_008cfafbf396row1_col1\" class=\"data row1 col1\" >0.964</td>\n",
       "                        <td id=\"T_31a711ce_f4c1_11e9_84d2_008cfafbf396row1_col2\" class=\"data row1 col2\" >1</td>\n",
       "                        <td id=\"T_31a711ce_f4c1_11e9_84d2_008cfafbf396row1_col3\" class=\"data row1 col3\" >0.262</td>\n",
       "                        <td id=\"T_31a711ce_f4c1_11e9_84d2_008cfafbf396row1_col4\" class=\"data row1 col4\" >0</td>\n",
       "                        <td id=\"T_31a711ce_f4c1_11e9_84d2_008cfafbf396row1_col5\" class=\"data row1 col5\" >7969.35</td>\n",
       "            </tr>\n",
       "            <tr>\n",
       "                                <td id=\"T_31a711ce_f4c1_11e9_84d2_008cfafbf396row2_col0\" class=\"data row2 col0\" >24</td>\n",
       "                        <td id=\"T_31a711ce_f4c1_11e9_84d2_008cfafbf396row2_col1\" class=\"data row2 col1\" >0.839</td>\n",
       "                        <td id=\"T_31a711ce_f4c1_11e9_84d2_008cfafbf396row2_col2\" class=\"data row2 col2\" >1</td>\n",
       "                        <td id=\"T_31a711ce_f4c1_11e9_84d2_008cfafbf396row2_col3\" class=\"data row2 col3\" >0.249</td>\n",
       "                        <td id=\"T_31a711ce_f4c1_11e9_84d2_008cfafbf396row2_col4\" class=\"data row2 col4\" >0</td>\n",
       "                        <td id=\"T_31a711ce_f4c1_11e9_84d2_008cfafbf396row2_col5\" class=\"data row2 col5\" >7485.58</td>\n",
       "            </tr>\n",
       "            <tr>\n",
       "                                <td id=\"T_31a711ce_f4c1_11e9_84d2_008cfafbf396row3_col0\" class=\"data row3 col0\" >36</td>\n",
       "                        <td id=\"T_31a711ce_f4c1_11e9_84d2_008cfafbf396row3_col1\" class=\"data row3 col1\" >0.706</td>\n",
       "                        <td id=\"T_31a711ce_f4c1_11e9_84d2_008cfafbf396row3_col2\" class=\"data row3 col2\" >1</td>\n",
       "                        <td id=\"T_31a711ce_f4c1_11e9_84d2_008cfafbf396row3_col3\" class=\"data row3 col3\" >0.273</td>\n",
       "                        <td id=\"T_31a711ce_f4c1_11e9_84d2_008cfafbf396row3_col4\" class=\"data row3 col4\" >0</td>\n",
       "                        <td id=\"T_31a711ce_f4c1_11e9_84d2_008cfafbf396row3_col5\" class=\"data row3 col5\" >7356.55</td>\n",
       "            </tr>\n",
       "            <tr>\n",
       "                                <td id=\"T_31a711ce_f4c1_11e9_84d2_008cfafbf396row4_col0\" class=\"data row4 col0\" >48</td>\n",
       "                        <td id=\"T_31a711ce_f4c1_11e9_84d2_008cfafbf396row4_col1\" class=\"data row4 col1\" >0.492</td>\n",
       "                        <td id=\"T_31a711ce_f4c1_11e9_84d2_008cfafbf396row4_col2\" class=\"data row4 col2\" >1</td>\n",
       "                        <td id=\"T_31a711ce_f4c1_11e9_84d2_008cfafbf396row4_col3\" class=\"data row4 col3\" >0.271</td>\n",
       "                        <td id=\"T_31a711ce_f4c1_11e9_84d2_008cfafbf396row4_col4\" class=\"data row4 col4\" >0</td>\n",
       "                        <td id=\"T_31a711ce_f4c1_11e9_84d2_008cfafbf396row4_col5\" class=\"data row4 col5\" >7185.41</td>\n",
       "            </tr>\n",
       "            <tr>\n",
       "                                <td id=\"T_31a711ce_f4c1_11e9_84d2_008cfafbf396row5_col0\" class=\"data row5 col0\" >60</td>\n",
       "                        <td id=\"T_31a711ce_f4c1_11e9_84d2_008cfafbf396row5_col1\" class=\"data row5 col1\" >0.489</td>\n",
       "                        <td id=\"T_31a711ce_f4c1_11e9_84d2_008cfafbf396row5_col2\" class=\"data row5 col2\" >1</td>\n",
       "                        <td id=\"T_31a711ce_f4c1_11e9_84d2_008cfafbf396row5_col3\" class=\"data row5 col3\" >0.269</td>\n",
       "                        <td id=\"T_31a711ce_f4c1_11e9_84d2_008cfafbf396row5_col4\" class=\"data row5 col4\" >0</td>\n",
       "                        <td id=\"T_31a711ce_f4c1_11e9_84d2_008cfafbf396row5_col5\" class=\"data row5 col5\" >7923.42</td>\n",
       "            </tr>\n",
       "            <tr>\n",
       "                                <td id=\"T_31a711ce_f4c1_11e9_84d2_008cfafbf396row6_col0\" class=\"data row6 col0\" >72</td>\n",
       "                        <td id=\"T_31a711ce_f4c1_11e9_84d2_008cfafbf396row6_col1\" class=\"data row6 col1\" >0.344</td>\n",
       "                        <td id=\"T_31a711ce_f4c1_11e9_84d2_008cfafbf396row6_col2\" class=\"data row6 col2\" >1</td>\n",
       "                        <td id=\"T_31a711ce_f4c1_11e9_84d2_008cfafbf396row6_col3\" class=\"data row6 col3\" >0.265</td>\n",
       "                        <td id=\"T_31a711ce_f4c1_11e9_84d2_008cfafbf396row6_col4\" class=\"data row6 col4\" >0</td>\n",
       "                        <td id=\"T_31a711ce_f4c1_11e9_84d2_008cfafbf396row6_col5\" class=\"data row6 col5\" >7228.59</td>\n",
       "            </tr>\n",
       "            <tr>\n",
       "                                <td id=\"T_31a711ce_f4c1_11e9_84d2_008cfafbf396row7_col0\" class=\"data row7 col0\" >84</td>\n",
       "                        <td id=\"T_31a711ce_f4c1_11e9_84d2_008cfafbf396row7_col1\" class=\"data row7 col1\" >0.406</td>\n",
       "                        <td id=\"T_31a711ce_f4c1_11e9_84d2_008cfafbf396row7_col2\" class=\"data row7 col2\" >1</td>\n",
       "                        <td id=\"T_31a711ce_f4c1_11e9_84d2_008cfafbf396row7_col3\" class=\"data row7 col3\" >0.276</td>\n",
       "                        <td id=\"T_31a711ce_f4c1_11e9_84d2_008cfafbf396row7_col4\" class=\"data row7 col4\" >0</td>\n",
       "                        <td id=\"T_31a711ce_f4c1_11e9_84d2_008cfafbf396row7_col5\" class=\"data row7 col5\" >7400.28</td>\n",
       "            </tr>\n",
       "    </tbody></table>"
      ],
      "text/plain": [
       "<pandas.io.formats.style.Styler at 0x2ab388057f60>"
      ]
     },
     "metadata": {},
     "output_type": "display_data"
    },
    {
     "data": {
      "text/html": [
       "<style  type=\"text/css\" >\n",
       "</style><table id=\"T_31accff6_f4c1_11e9_84d2_008cfafbf396\" ><thead>    <tr>        <th class=\"col_heading level0 col0\" >max_angle</th>        <th class=\"col_heading level0 col1\" >pipe_0</th>        <th class=\"col_heading level0 col2\" >pipe_1</th>        <th class=\"col_heading level0 col3\" >pipe_2</th>        <th class=\"col_heading level0 col4\" >pipe_3</th>        <th class=\"col_heading level0 col5\" >pipe_4</th>        <th class=\"col_heading level0 col6\" >pipe_5</th>        <th class=\"col_heading level0 col7\" >pipe_6</th>        <th class=\"col_heading level0 col8\" >pipe_7</th>        <th class=\"col_heading level0 col9\" >pipe_8</th>        <th class=\"col_heading level0 col10\" >pipe_9</th>        <th class=\"col_heading level0 col11\" >pipe_10</th>        <th class=\"col_heading level0 col12\" >pipe_11</th>        <th class=\"col_heading level0 col13\" >pipe_12</th>        <th class=\"col_heading level0 col14\" >pipe_13</th>        <th class=\"col_heading level0 col15\" >pipe_14</th>        <th class=\"col_heading level0 col16\" >pipe_15</th>        <th class=\"col_heading level0 col17\" >pipe_16</th>        <th class=\"col_heading level0 col18\" >pipe_17</th>        <th class=\"col_heading level0 col19\" >pipe_18</th>        <th class=\"col_heading level0 col20\" >pipe_19</th>        <th class=\"col_heading level0 col21\" >pipe_20</th>        <th class=\"col_heading level0 col22\" >pipe_21</th>        <th class=\"col_heading level0 col23\" >pipe_22</th>        <th class=\"col_heading level0 col24\" >pipe_23</th>        <th class=\"col_heading level0 col25\" >pipe_24</th>        <th class=\"col_heading level0 col26\" >pipe_25</th>        <th class=\"col_heading level0 col27\" >pipe_26</th>        <th class=\"col_heading level0 col28\" >pipe_27</th>        <th class=\"col_heading level0 col29\" >pipe_28</th>        <th class=\"col_heading level0 col30\" >pipe_29</th>        <th class=\"col_heading level0 col31\" >pipe_30</th>        <th class=\"col_heading level0 col32\" >pipe_31</th>        <th class=\"col_heading level0 col33\" >pipe_32</th>        <th class=\"col_heading level0 col34\" >pipe_33</th>        <th class=\"col_heading level0 col35\" >pipe_34</th>        <th class=\"col_heading level0 col36\" >pipe_35</th>        <th class=\"col_heading level0 col37\" >pipe_36</th>        <th class=\"col_heading level0 col38\" >pipe_37</th>        <th class=\"col_heading level0 col39\" >pipe_38</th>        <th class=\"col_heading level0 col40\" >pipe_39</th>        <th class=\"col_heading level0 col41\" >pipe_40</th>        <th class=\"col_heading level0 col42\" >pipe_41</th>        <th class=\"col_heading level0 col43\" >pipe_42</th>        <th class=\"col_heading level0 col44\" >pipe_43</th>        <th class=\"col_heading level0 col45\" >pipe_44</th>        <th class=\"col_heading level0 col46\" >pipe_45</th>        <th class=\"col_heading level0 col47\" >pipe_46</th>        <th class=\"col_heading level0 col48\" >pipe_47</th>        <th class=\"col_heading level0 col49\" >pipe_48</th>        <th class=\"col_heading level0 col50\" >pipe_49</th>        <th class=\"col_heading level0 col51\" >pipe_50</th>        <th class=\"col_heading level0 col52\" >pipe_51</th>        <th class=\"col_heading level0 col53\" >pipe_52</th>        <th class=\"col_heading level0 col54\" >pipe_53</th>        <th class=\"col_heading level0 col55\" >pipe_54</th>        <th class=\"col_heading level0 col56\" >pipe_55</th>        <th class=\"col_heading level0 col57\" >pipe_56</th>        <th class=\"col_heading level0 col58\" >pipe_57</th>        <th class=\"col_heading level0 col59\" >pipe_58</th>        <th class=\"col_heading level0 col60\" >pipe_59</th>        <th class=\"col_heading level0 col61\" >pipe_60</th>        <th class=\"col_heading level0 col62\" >pipe_61</th>        <th class=\"col_heading level0 col63\" >pipe_62</th>        <th class=\"col_heading level0 col64\" >pipe_63</th>        <th class=\"col_heading level0 col65\" >pipe_64</th>        <th class=\"col_heading level0 col66\" >pipe_65</th>        <th class=\"col_heading level0 col67\" >pipe_66</th>        <th class=\"col_heading level0 col68\" >pipe_67</th>        <th class=\"col_heading level0 col69\" >pipe_68</th>        <th class=\"col_heading level0 col70\" >pipe_69</th>        <th class=\"col_heading level0 col71\" >pipe_70</th>        <th class=\"col_heading level0 col72\" >pipe_71</th>        <th class=\"col_heading level0 col73\" >pipe_72</th>        <th class=\"col_heading level0 col74\" >pipe_73</th>        <th class=\"col_heading level0 col75\" >pipe_74</th>        <th class=\"col_heading level0 col76\" >pipe_75</th>        <th class=\"col_heading level0 col77\" >pipe_76</th>        <th class=\"col_heading level0 col78\" >pipe_77</th>        <th class=\"col_heading level0 col79\" >pipe_78</th>        <th class=\"col_heading level0 col80\" >pipe_79</th>        <th class=\"col_heading level0 col81\" >pipe_80</th>        <th class=\"col_heading level0 col82\" >pipe_81</th>        <th class=\"col_heading level0 col83\" >pipe_82</th>        <th class=\"col_heading level0 col84\" >pipe_83</th>        <th class=\"col_heading level0 col85\" >pipe_84</th>        <th class=\"col_heading level0 col86\" >pipe_85</th>        <th class=\"col_heading level0 col87\" >pipe_86</th>        <th class=\"col_heading level0 col88\" >pipe_87</th>        <th class=\"col_heading level0 col89\" >pipe_88</th>        <th class=\"col_heading level0 col90\" >pipe_89</th>        <th class=\"col_heading level0 col91\" >pipe_90</th>        <th class=\"col_heading level0 col92\" >pipe_91</th>        <th class=\"col_heading level0 col93\" >pipe_92</th>        <th class=\"col_heading level0 col94\" >pipe_93</th>        <th class=\"col_heading level0 col95\" >pipe_94</th>        <th class=\"col_heading level0 col96\" >pipe_95</th>        <th class=\"col_heading level0 col97\" >pipe_96</th>        <th class=\"col_heading level0 col98\" >pipe_97</th>        <th class=\"col_heading level0 col99\" >pipe_98</th>        <th class=\"col_heading level0 col100\" >pipe_99</th>        <th class=\"col_heading level0 col101\" >pipe_100</th>        <th class=\"col_heading level0 col102\" >pipe_101</th>        <th class=\"col_heading level0 col103\" >pipe_102</th>        <th class=\"col_heading level0 col104\" >pipe_103</th>        <th class=\"col_heading level0 col105\" >pipe_104</th>        <th class=\"col_heading level0 col106\" >pipe_105</th>        <th class=\"col_heading level0 col107\" >pipe_106</th>        <th class=\"col_heading level0 col108\" >pipe_107</th>        <th class=\"col_heading level0 col109\" >pipe_108</th>        <th class=\"col_heading level0 col110\" >pipe_109</th>        <th class=\"col_heading level0 col111\" >pipe_110</th>        <th class=\"col_heading level0 col112\" >pipe_111</th>        <th class=\"col_heading level0 col113\" >pipe_112</th>        <th class=\"col_heading level0 col114\" >pipe_113</th>        <th class=\"col_heading level0 col115\" >pipe_114</th>        <th class=\"col_heading level0 col116\" >pipe_115</th>        <th class=\"col_heading level0 col117\" >pipe_116</th>        <th class=\"col_heading level0 col118\" >pipe_117</th>        <th class=\"col_heading level0 col119\" >pipe_118</th>        <th class=\"col_heading level0 col120\" >pipe_119</th>        <th class=\"col_heading level0 col121\" >pipe_120</th>        <th class=\"col_heading level0 col122\" >pipe_121</th>        <th class=\"col_heading level0 col123\" >pipe_122</th>        <th class=\"col_heading level0 col124\" >pipe_123</th>        <th class=\"col_heading level0 col125\" >pipe_124</th>        <th class=\"col_heading level0 col126\" >pipe_125</th>        <th class=\"col_heading level0 col127\" >pipe_126</th>        <th class=\"col_heading level0 col128\" >pipe_127</th>        <th class=\"col_heading level0 col129\" >pipe_128</th>        <th class=\"col_heading level0 col130\" >pipe_129</th>        <th class=\"col_heading level0 col131\" >pipe_130</th>        <th class=\"col_heading level0 col132\" >pipe_131</th>        <th class=\"col_heading level0 col133\" >pipe_132</th>        <th class=\"col_heading level0 col134\" >pipe_133</th>        <th class=\"col_heading level0 col135\" >pipe_134</th>        <th class=\"col_heading level0 col136\" >pipe_135</th>        <th class=\"col_heading level0 col137\" >pipe_136</th>        <th class=\"col_heading level0 col138\" >pipe_137</th>        <th class=\"col_heading level0 col139\" >pipe_138</th>        <th class=\"col_heading level0 col140\" >pipe_139</th>        <th class=\"col_heading level0 col141\" >pipe_140</th>        <th class=\"col_heading level0 col142\" >pipe_141</th>        <th class=\"col_heading level0 col143\" >pipe_142</th>        <th class=\"col_heading level0 col144\" >pipe_143</th>        <th class=\"col_heading level0 col145\" >pipe_144</th>        <th class=\"col_heading level0 col146\" >pipe_145</th>        <th class=\"col_heading level0 col147\" >pipe_146</th>        <th class=\"col_heading level0 col148\" >pipe_147</th>        <th class=\"col_heading level0 col149\" >pipe_148</th>        <th class=\"col_heading level0 col150\" >pipe_149</th>        <th class=\"col_heading level0 col151\" >pipe_150</th>        <th class=\"col_heading level0 col152\" >pipe_151</th>        <th class=\"col_heading level0 col153\" >pipe_152</th>        <th class=\"col_heading level0 col154\" >pipe_153</th>        <th class=\"col_heading level0 col155\" >pipe_154</th>        <th class=\"col_heading level0 col156\" >pipe_155</th>        <th class=\"col_heading level0 col157\" >pipe_156</th>        <th class=\"col_heading level0 col158\" >pipe_157</th>        <th class=\"col_heading level0 col159\" >pipe_158</th>        <th class=\"col_heading level0 col160\" >pipe_159</th>        <th class=\"col_heading level0 col161\" >pipe_160</th>        <th class=\"col_heading level0 col162\" >pipe_161</th>        <th class=\"col_heading level0 col163\" >pipe_162</th>        <th class=\"col_heading level0 col164\" >pipe_163</th>        <th class=\"col_heading level0 col165\" >pipe_164</th>        <th class=\"col_heading level0 col166\" >pipe_165</th>        <th class=\"col_heading level0 col167\" >pipe_166</th>        <th class=\"col_heading level0 col168\" >pipe_167</th>        <th class=\"col_heading level0 col169\" >pipe_168</th>        <th class=\"col_heading level0 col170\" >pipe_169</th>    </tr></thead><tbody>\n",
       "                <tr>\n",
       "                                <td id=\"T_31accff6_f4c1_11e9_84d2_008cfafbf396row0_col0\" class=\"data row0 col0\" >0</td>\n",
       "                        <td id=\"T_31accff6_f4c1_11e9_84d2_008cfafbf396row0_col1\" class=\"data row0 col1\" >StackedEnsemble_AllModels_AutoML_20191022_081800</td>\n",
       "                        <td id=\"T_31accff6_f4c1_11e9_84d2_008cfafbf396row0_col2\" class=\"data row0 col2\" >DeepLearning_grid_1_AutoML_20191022_081800_model_9</td>\n",
       "                        <td id=\"T_31accff6_f4c1_11e9_84d2_008cfafbf396row0_col3\" class=\"data row0 col3\" >GBM_grid_1_AutoML_20191022_081800_model_40</td>\n",
       "                        <td id=\"T_31accff6_f4c1_11e9_84d2_008cfafbf396row0_col4\" class=\"data row0 col4\" >DeepLearning_grid_1_AutoML_20191022_081800_model_2</td>\n",
       "                        <td id=\"T_31accff6_f4c1_11e9_84d2_008cfafbf396row0_col5\" class=\"data row0 col5\" >GBM_grid_1_AutoML_20191022_081800_model_31</td>\n",
       "                        <td id=\"T_31accff6_f4c1_11e9_84d2_008cfafbf396row0_col6\" class=\"data row0 col6\" >DeepLearning_grid_1_AutoML_20191022_081800_model_13</td>\n",
       "                        <td id=\"T_31accff6_f4c1_11e9_84d2_008cfafbf396row0_col7\" class=\"data row0 col7\" >DeepLearning_grid_1_AutoML_20191022_081800_model_3</td>\n",
       "                        <td id=\"T_31accff6_f4c1_11e9_84d2_008cfafbf396row0_col8\" class=\"data row0 col8\" >GBM_grid_1_AutoML_20191022_081800_model_18</td>\n",
       "                        <td id=\"T_31accff6_f4c1_11e9_84d2_008cfafbf396row0_col9\" class=\"data row0 col9\" >GBM_grid_1_AutoML_20191022_081800_model_39</td>\n",
       "                        <td id=\"T_31accff6_f4c1_11e9_84d2_008cfafbf396row0_col10\" class=\"data row0 col10\" >GBM_grid_1_AutoML_20191022_081800_model_19</td>\n",
       "                        <td id=\"T_31accff6_f4c1_11e9_84d2_008cfafbf396row0_col11\" class=\"data row0 col11\" >DeepLearning_grid_1_AutoML_20191022_081800_model_1</td>\n",
       "                        <td id=\"T_31accff6_f4c1_11e9_84d2_008cfafbf396row0_col12\" class=\"data row0 col12\" >GBM_grid_1_AutoML_20191022_081800_model_46</td>\n",
       "                        <td id=\"T_31accff6_f4c1_11e9_84d2_008cfafbf396row0_col13\" class=\"data row0 col13\" >DeepLearning_grid_1_AutoML_20191022_081800_model_16</td>\n",
       "                        <td id=\"T_31accff6_f4c1_11e9_84d2_008cfafbf396row0_col14\" class=\"data row0 col14\" >DeepLearning_grid_1_AutoML_20191022_081800_model_8</td>\n",
       "                        <td id=\"T_31accff6_f4c1_11e9_84d2_008cfafbf396row0_col15\" class=\"data row0 col15\" >GBM_grid_1_AutoML_20191022_081800_model_41</td>\n",
       "                        <td id=\"T_31accff6_f4c1_11e9_84d2_008cfafbf396row0_col16\" class=\"data row0 col16\" >XGBoost_grid_1_AutoML_20191022_081800_model_13</td>\n",
       "                        <td id=\"T_31accff6_f4c1_11e9_84d2_008cfafbf396row0_col17\" class=\"data row0 col17\" >GBM_grid_1_AutoML_20191022_081800_model_15</td>\n",
       "                        <td id=\"T_31accff6_f4c1_11e9_84d2_008cfafbf396row0_col18\" class=\"data row0 col18\" >DeepLearning_grid_1_AutoML_20191022_081800_model_4</td>\n",
       "                        <td id=\"T_31accff6_f4c1_11e9_84d2_008cfafbf396row0_col19\" class=\"data row0 col19\" >GBM_grid_1_AutoML_20191022_081800_model_35</td>\n",
       "                        <td id=\"T_31accff6_f4c1_11e9_84d2_008cfafbf396row0_col20\" class=\"data row0 col20\" >GBM_2_AutoML_20191022_081800</td>\n",
       "                        <td id=\"T_31accff6_f4c1_11e9_84d2_008cfafbf396row0_col21\" class=\"data row0 col21\" >DeepLearning_grid_1_AutoML_20191022_081800_model_12</td>\n",
       "                        <td id=\"T_31accff6_f4c1_11e9_84d2_008cfafbf396row0_col22\" class=\"data row0 col22\" >GBM_grid_1_AutoML_20191022_081800_model_43</td>\n",
       "                        <td id=\"T_31accff6_f4c1_11e9_84d2_008cfafbf396row0_col23\" class=\"data row0 col23\" >GBM_grid_1_AutoML_20191022_081800_model_55</td>\n",
       "                        <td id=\"T_31accff6_f4c1_11e9_84d2_008cfafbf396row0_col24\" class=\"data row0 col24\" >GBM_grid_1_AutoML_20191022_081800_model_3</td>\n",
       "                        <td id=\"T_31accff6_f4c1_11e9_84d2_008cfafbf396row0_col25\" class=\"data row0 col25\" >GBM_3_AutoML_20191022_081800</td>\n",
       "                        <td id=\"T_31accff6_f4c1_11e9_84d2_008cfafbf396row0_col26\" class=\"data row0 col26\" >GBM_grid_1_AutoML_20191022_081800_model_45</td>\n",
       "                        <td id=\"T_31accff6_f4c1_11e9_84d2_008cfafbf396row0_col27\" class=\"data row0 col27\" >GBM_grid_1_AutoML_20191022_081800_model_32</td>\n",
       "                        <td id=\"T_31accff6_f4c1_11e9_84d2_008cfafbf396row0_col28\" class=\"data row0 col28\" >GBM_grid_1_AutoML_20191022_081800_model_26</td>\n",
       "                        <td id=\"T_31accff6_f4c1_11e9_84d2_008cfafbf396row0_col29\" class=\"data row0 col29\" >GBM_grid_1_AutoML_20191022_081800_model_47</td>\n",
       "                        <td id=\"T_31accff6_f4c1_11e9_84d2_008cfafbf396row0_col30\" class=\"data row0 col30\" >GBM_grid_1_AutoML_20191022_081800_model_6</td>\n",
       "                        <td id=\"T_31accff6_f4c1_11e9_84d2_008cfafbf396row0_col31\" class=\"data row0 col31\" >GBM_grid_1_AutoML_20191022_081800_model_27</td>\n",
       "                        <td id=\"T_31accff6_f4c1_11e9_84d2_008cfafbf396row0_col32\" class=\"data row0 col32\" >DeepLearning_grid_1_AutoML_20191022_081800_model_6</td>\n",
       "                        <td id=\"T_31accff6_f4c1_11e9_84d2_008cfafbf396row0_col33\" class=\"data row0 col33\" >GBM_grid_1_AutoML_20191022_081800_model_48</td>\n",
       "                        <td id=\"T_31accff6_f4c1_11e9_84d2_008cfafbf396row0_col34\" class=\"data row0 col34\" >GBM_grid_1_AutoML_20191022_081800_model_20</td>\n",
       "                        <td id=\"T_31accff6_f4c1_11e9_84d2_008cfafbf396row0_col35\" class=\"data row0 col35\" >GBM_grid_1_AutoML_20191022_081800_model_57</td>\n",
       "                        <td id=\"T_31accff6_f4c1_11e9_84d2_008cfafbf396row0_col36\" class=\"data row0 col36\" >GBM_grid_1_AutoML_20191022_081800_model_59</td>\n",
       "                        <td id=\"T_31accff6_f4c1_11e9_84d2_008cfafbf396row0_col37\" class=\"data row0 col37\" >DeepLearning_grid_1_AutoML_20191022_081800_model_5</td>\n",
       "                        <td id=\"T_31accff6_f4c1_11e9_84d2_008cfafbf396row0_col38\" class=\"data row0 col38\" >GBM_5_AutoML_20191022_081800</td>\n",
       "                        <td id=\"T_31accff6_f4c1_11e9_84d2_008cfafbf396row0_col39\" class=\"data row0 col39\" >GBM_grid_1_AutoML_20191022_081800_model_67</td>\n",
       "                        <td id=\"T_31accff6_f4c1_11e9_84d2_008cfafbf396row0_col40\" class=\"data row0 col40\" >GBM_grid_1_AutoML_20191022_081800_model_63</td>\n",
       "                        <td id=\"T_31accff6_f4c1_11e9_84d2_008cfafbf396row0_col41\" class=\"data row0 col41\" >XGBoost_grid_1_AutoML_20191022_081800_model_33</td>\n",
       "                        <td id=\"T_31accff6_f4c1_11e9_84d2_008cfafbf396row0_col42\" class=\"data row0 col42\" >GBM_grid_1_AutoML_20191022_081800_model_12</td>\n",
       "                        <td id=\"T_31accff6_f4c1_11e9_84d2_008cfafbf396row0_col43\" class=\"data row0 col43\" >GBM_grid_1_AutoML_20191022_081800_model_72</td>\n",
       "                        <td id=\"T_31accff6_f4c1_11e9_84d2_008cfafbf396row0_col44\" class=\"data row0 col44\" >GBM_4_AutoML_20191022_081800</td>\n",
       "                        <td id=\"T_31accff6_f4c1_11e9_84d2_008cfafbf396row0_col45\" class=\"data row0 col45\" >XGBoost_grid_1_AutoML_20191022_081800_model_61</td>\n",
       "                        <td id=\"T_31accff6_f4c1_11e9_84d2_008cfafbf396row0_col46\" class=\"data row0 col46\" >GBM_grid_1_AutoML_20191022_081800_model_66</td>\n",
       "                        <td id=\"T_31accff6_f4c1_11e9_84d2_008cfafbf396row0_col47\" class=\"data row0 col47\" >DeepLearning_grid_1_AutoML_20191022_081800_model_14</td>\n",
       "                        <td id=\"T_31accff6_f4c1_11e9_84d2_008cfafbf396row0_col48\" class=\"data row0 col48\" >XGBoost_grid_1_AutoML_20191022_081800_model_38</td>\n",
       "                        <td id=\"T_31accff6_f4c1_11e9_84d2_008cfafbf396row0_col49\" class=\"data row0 col49\" >GBM_grid_1_AutoML_20191022_081800_model_56</td>\n",
       "                        <td id=\"T_31accff6_f4c1_11e9_84d2_008cfafbf396row0_col50\" class=\"data row0 col50\" >GLM_grid_1_AutoML_20191022_081800_model_1</td>\n",
       "                        <td id=\"T_31accff6_f4c1_11e9_84d2_008cfafbf396row0_col51\" class=\"data row0 col51\" >DeepLearning_grid_1_AutoML_20191022_081800_model_10</td>\n",
       "                        <td id=\"T_31accff6_f4c1_11e9_84d2_008cfafbf396row0_col52\" class=\"data row0 col52\" >XGBoost_grid_1_AutoML_20191022_081800_model_52</td>\n",
       "                        <td id=\"T_31accff6_f4c1_11e9_84d2_008cfafbf396row0_col53\" class=\"data row0 col53\" >GBM_grid_1_AutoML_20191022_081800_model_17</td>\n",
       "                        <td id=\"T_31accff6_f4c1_11e9_84d2_008cfafbf396row0_col54\" class=\"data row0 col54\" >XGBoost_grid_1_AutoML_20191022_081800_model_35</td>\n",
       "                        <td id=\"T_31accff6_f4c1_11e9_84d2_008cfafbf396row0_col55\" class=\"data row0 col55\" >XGBoost_grid_1_AutoML_20191022_081800_model_55</td>\n",
       "                        <td id=\"T_31accff6_f4c1_11e9_84d2_008cfafbf396row0_col56\" class=\"data row0 col56\" >XGBoost_grid_1_AutoML_20191022_081800_model_46</td>\n",
       "                        <td id=\"T_31accff6_f4c1_11e9_84d2_008cfafbf396row0_col57\" class=\"data row0 col57\" >GBM_grid_1_AutoML_20191022_081800_model_62</td>\n",
       "                        <td id=\"T_31accff6_f4c1_11e9_84d2_008cfafbf396row0_col58\" class=\"data row0 col58\" >XRT_1_AutoML_20191022_081800</td>\n",
       "                        <td id=\"T_31accff6_f4c1_11e9_84d2_008cfafbf396row0_col59\" class=\"data row0 col59\" >GBM_grid_1_AutoML_20191022_081800_model_1</td>\n",
       "                        <td id=\"T_31accff6_f4c1_11e9_84d2_008cfafbf396row0_col60\" class=\"data row0 col60\" >GBM_grid_1_AutoML_20191022_081800_model_10</td>\n",
       "                        <td id=\"T_31accff6_f4c1_11e9_84d2_008cfafbf396row0_col61\" class=\"data row0 col61\" >XGBoost_grid_1_AutoML_20191022_081800_model_8</td>\n",
       "                        <td id=\"T_31accff6_f4c1_11e9_84d2_008cfafbf396row0_col62\" class=\"data row0 col62\" >XGBoost_grid_1_AutoML_20191022_081800_model_45</td>\n",
       "                        <td id=\"T_31accff6_f4c1_11e9_84d2_008cfafbf396row0_col63\" class=\"data row0 col63\" >GBM_1_AutoML_20191022_081800</td>\n",
       "                        <td id=\"T_31accff6_f4c1_11e9_84d2_008cfafbf396row0_col64\" class=\"data row0 col64\" >GBM_grid_1_AutoML_20191022_081800_model_14</td>\n",
       "                        <td id=\"T_31accff6_f4c1_11e9_84d2_008cfafbf396row0_col65\" class=\"data row0 col65\" >GBM_grid_1_AutoML_20191022_081800_model_42</td>\n",
       "                        <td id=\"T_31accff6_f4c1_11e9_84d2_008cfafbf396row0_col66\" class=\"data row0 col66\" >XGBoost_grid_1_AutoML_20191022_081800_model_48</td>\n",
       "                        <td id=\"T_31accff6_f4c1_11e9_84d2_008cfafbf396row0_col67\" class=\"data row0 col67\" >GBM_grid_1_AutoML_20191022_081800_model_11</td>\n",
       "                        <td id=\"T_31accff6_f4c1_11e9_84d2_008cfafbf396row0_col68\" class=\"data row0 col68\" >XGBoost_grid_1_AutoML_20191022_081800_model_30</td>\n",
       "                        <td id=\"T_31accff6_f4c1_11e9_84d2_008cfafbf396row0_col69\" class=\"data row0 col69\" >GBM_grid_1_AutoML_20191022_081800_model_16</td>\n",
       "                        <td id=\"T_31accff6_f4c1_11e9_84d2_008cfafbf396row0_col70\" class=\"data row0 col70\" >GBM_grid_1_AutoML_20191022_081800_model_24</td>\n",
       "                        <td id=\"T_31accff6_f4c1_11e9_84d2_008cfafbf396row0_col71\" class=\"data row0 col71\" >DRF_1_AutoML_20191022_081800</td>\n",
       "                        <td id=\"T_31accff6_f4c1_11e9_84d2_008cfafbf396row0_col72\" class=\"data row0 col72\" >XGBoost_grid_1_AutoML_20191022_081800_model_17</td>\n",
       "                        <td id=\"T_31accff6_f4c1_11e9_84d2_008cfafbf396row0_col73\" class=\"data row0 col73\" >DeepLearning_grid_1_AutoML_20191022_081800_model_17</td>\n",
       "                        <td id=\"T_31accff6_f4c1_11e9_84d2_008cfafbf396row0_col74\" class=\"data row0 col74\" >GBM_grid_1_AutoML_20191022_081800_model_54</td>\n",
       "                        <td id=\"T_31accff6_f4c1_11e9_84d2_008cfafbf396row0_col75\" class=\"data row0 col75\" >GBM_grid_1_AutoML_20191022_081800_model_13</td>\n",
       "                        <td id=\"T_31accff6_f4c1_11e9_84d2_008cfafbf396row0_col76\" class=\"data row0 col76\" >GBM_grid_1_AutoML_20191022_081800_model_58</td>\n",
       "                        <td id=\"T_31accff6_f4c1_11e9_84d2_008cfafbf396row0_col77\" class=\"data row0 col77\" >XGBoost_3_AutoML_20191022_081800</td>\n",
       "                        <td id=\"T_31accff6_f4c1_11e9_84d2_008cfafbf396row0_col78\" class=\"data row0 col78\" >XGBoost_grid_1_AutoML_20191022_081800_model_49</td>\n",
       "                        <td id=\"T_31accff6_f4c1_11e9_84d2_008cfafbf396row0_col79\" class=\"data row0 col79\" >GBM_grid_1_AutoML_20191022_081800_model_52</td>\n",
       "                        <td id=\"T_31accff6_f4c1_11e9_84d2_008cfafbf396row0_col80\" class=\"data row0 col80\" >XGBoost_grid_1_AutoML_20191022_081800_model_37</td>\n",
       "                        <td id=\"T_31accff6_f4c1_11e9_84d2_008cfafbf396row0_col81\" class=\"data row0 col81\" >XGBoost_1_AutoML_20191022_081800</td>\n",
       "                        <td id=\"T_31accff6_f4c1_11e9_84d2_008cfafbf396row0_col82\" class=\"data row0 col82\" >XGBoost_grid_1_AutoML_20191022_081800_model_25</td>\n",
       "                        <td id=\"T_31accff6_f4c1_11e9_84d2_008cfafbf396row0_col83\" class=\"data row0 col83\" >GBM_grid_1_AutoML_20191022_081800_model_53</td>\n",
       "                        <td id=\"T_31accff6_f4c1_11e9_84d2_008cfafbf396row0_col84\" class=\"data row0 col84\" >XGBoost_grid_1_AutoML_20191022_081800_model_57</td>\n",
       "                        <td id=\"T_31accff6_f4c1_11e9_84d2_008cfafbf396row0_col85\" class=\"data row0 col85\" >XGBoost_grid_1_AutoML_20191022_081800_model_21</td>\n",
       "                        <td id=\"T_31accff6_f4c1_11e9_84d2_008cfafbf396row0_col86\" class=\"data row0 col86\" >GBM_grid_1_AutoML_20191022_081800_model_70</td>\n",
       "                        <td id=\"T_31accff6_f4c1_11e9_84d2_008cfafbf396row0_col87\" class=\"data row0 col87\" >XGBoost_grid_1_AutoML_20191022_081800_model_62</td>\n",
       "                        <td id=\"T_31accff6_f4c1_11e9_84d2_008cfafbf396row0_col88\" class=\"data row0 col88\" >DeepLearning_grid_1_AutoML_20191022_081800_model_15</td>\n",
       "                        <td id=\"T_31accff6_f4c1_11e9_84d2_008cfafbf396row0_col89\" class=\"data row0 col89\" >XGBoost_grid_1_AutoML_20191022_081800_model_18</td>\n",
       "                        <td id=\"T_31accff6_f4c1_11e9_84d2_008cfafbf396row0_col90\" class=\"data row0 col90\" >XGBoost_grid_1_AutoML_20191022_081800_model_26</td>\n",
       "                        <td id=\"T_31accff6_f4c1_11e9_84d2_008cfafbf396row0_col91\" class=\"data row0 col91\" >XGBoost_grid_1_AutoML_20191022_081800_model_47</td>\n",
       "                        <td id=\"T_31accff6_f4c1_11e9_84d2_008cfafbf396row0_col92\" class=\"data row0 col92\" >XGBoost_grid_1_AutoML_20191022_081800_model_15</td>\n",
       "                        <td id=\"T_31accff6_f4c1_11e9_84d2_008cfafbf396row0_col93\" class=\"data row0 col93\" >GBM_grid_1_AutoML_20191022_081800_model_8</td>\n",
       "                        <td id=\"T_31accff6_f4c1_11e9_84d2_008cfafbf396row0_col94\" class=\"data row0 col94\" >GBM_grid_1_AutoML_20191022_081800_model_9</td>\n",
       "                        <td id=\"T_31accff6_f4c1_11e9_84d2_008cfafbf396row0_col95\" class=\"data row0 col95\" >XGBoost_grid_1_AutoML_20191022_081800_model_20</td>\n",
       "                        <td id=\"T_31accff6_f4c1_11e9_84d2_008cfafbf396row0_col96\" class=\"data row0 col96\" >XGBoost_grid_1_AutoML_20191022_081800_model_36</td>\n",
       "                        <td id=\"T_31accff6_f4c1_11e9_84d2_008cfafbf396row0_col97\" class=\"data row0 col97\" >XGBoost_grid_1_AutoML_20191022_081800_model_27</td>\n",
       "                        <td id=\"T_31accff6_f4c1_11e9_84d2_008cfafbf396row0_col98\" class=\"data row0 col98\" >XGBoost_grid_1_AutoML_20191022_081800_model_34</td>\n",
       "                        <td id=\"T_31accff6_f4c1_11e9_84d2_008cfafbf396row0_col99\" class=\"data row0 col99\" >XGBoost_grid_1_AutoML_20191022_081800_model_4</td>\n",
       "                        <td id=\"T_31accff6_f4c1_11e9_84d2_008cfafbf396row0_col100\" class=\"data row0 col100\" >XGBoost_grid_1_AutoML_20191022_081800_model_31</td>\n",
       "                        <td id=\"T_31accff6_f4c1_11e9_84d2_008cfafbf396row0_col101\" class=\"data row0 col101\" >GBM_grid_1_AutoML_20191022_081800_model_68</td>\n",
       "                        <td id=\"T_31accff6_f4c1_11e9_84d2_008cfafbf396row0_col102\" class=\"data row0 col102\" >XGBoost_grid_1_AutoML_20191022_081800_model_2</td>\n",
       "                        <td id=\"T_31accff6_f4c1_11e9_84d2_008cfafbf396row0_col103\" class=\"data row0 col103\" >GBM_grid_1_AutoML_20191022_081800_model_29</td>\n",
       "                        <td id=\"T_31accff6_f4c1_11e9_84d2_008cfafbf396row0_col104\" class=\"data row0 col104\" >XGBoost_grid_1_AutoML_20191022_081800_model_41</td>\n",
       "                        <td id=\"T_31accff6_f4c1_11e9_84d2_008cfafbf396row0_col105\" class=\"data row0 col105\" >XGBoost_grid_1_AutoML_20191022_081800_model_50</td>\n",
       "                        <td id=\"T_31accff6_f4c1_11e9_84d2_008cfafbf396row0_col106\" class=\"data row0 col106\" >XGBoost_grid_1_AutoML_20191022_081800_model_29</td>\n",
       "                        <td id=\"T_31accff6_f4c1_11e9_84d2_008cfafbf396row0_col107\" class=\"data row0 col107\" >GBM_grid_1_AutoML_20191022_081800_model_28</td>\n",
       "                        <td id=\"T_31accff6_f4c1_11e9_84d2_008cfafbf396row0_col108\" class=\"data row0 col108\" >XGBoost_grid_1_AutoML_20191022_081800_model_28</td>\n",
       "                        <td id=\"T_31accff6_f4c1_11e9_84d2_008cfafbf396row0_col109\" class=\"data row0 col109\" >XGBoost_grid_1_AutoML_20191022_081800_model_3</td>\n",
       "                        <td id=\"T_31accff6_f4c1_11e9_84d2_008cfafbf396row0_col110\" class=\"data row0 col110\" >XGBoost_grid_1_AutoML_20191022_081800_model_32</td>\n",
       "                        <td id=\"T_31accff6_f4c1_11e9_84d2_008cfafbf396row0_col111\" class=\"data row0 col111\" >XGBoost_grid_1_AutoML_20191022_081800_model_59</td>\n",
       "                        <td id=\"T_31accff6_f4c1_11e9_84d2_008cfafbf396row0_col112\" class=\"data row0 col112\" >XGBoost_grid_1_AutoML_20191022_081800_model_23</td>\n",
       "                        <td id=\"T_31accff6_f4c1_11e9_84d2_008cfafbf396row0_col113\" class=\"data row0 col113\" >XGBoost_grid_1_AutoML_20191022_081800_model_7</td>\n",
       "                        <td id=\"T_31accff6_f4c1_11e9_84d2_008cfafbf396row0_col114\" class=\"data row0 col114\" >XGBoost_grid_1_AutoML_20191022_081800_model_19</td>\n",
       "                        <td id=\"T_31accff6_f4c1_11e9_84d2_008cfafbf396row0_col115\" class=\"data row0 col115\" >XGBoost_grid_1_AutoML_20191022_081800_model_53</td>\n",
       "                        <td id=\"T_31accff6_f4c1_11e9_84d2_008cfafbf396row0_col116\" class=\"data row0 col116\" >GBM_grid_1_AutoML_20191022_081800_model_25</td>\n",
       "                        <td id=\"T_31accff6_f4c1_11e9_84d2_008cfafbf396row0_col117\" class=\"data row0 col117\" >GBM_grid_1_AutoML_20191022_081800_model_21</td>\n",
       "                        <td id=\"T_31accff6_f4c1_11e9_84d2_008cfafbf396row0_col118\" class=\"data row0 col118\" >GBM_grid_1_AutoML_20191022_081800_model_73</td>\n",
       "                        <td id=\"T_31accff6_f4c1_11e9_84d2_008cfafbf396row0_col119\" class=\"data row0 col119\" >DeepLearning_grid_1_AutoML_20191022_081800_model_7</td>\n",
       "                        <td id=\"T_31accff6_f4c1_11e9_84d2_008cfafbf396row0_col120\" class=\"data row0 col120\" >DeepLearning_grid_1_AutoML_20191022_081800_model_11</td>\n",
       "                        <td id=\"T_31accff6_f4c1_11e9_84d2_008cfafbf396row0_col121\" class=\"data row0 col121\" >XGBoost_2_AutoML_20191022_081800</td>\n",
       "                        <td id=\"T_31accff6_f4c1_11e9_84d2_008cfafbf396row0_col122\" class=\"data row0 col122\" >GBM_grid_1_AutoML_20191022_081800_model_30</td>\n",
       "                        <td id=\"T_31accff6_f4c1_11e9_84d2_008cfafbf396row0_col123\" class=\"data row0 col123\" >GBM_grid_1_AutoML_20191022_081800_model_7</td>\n",
       "                        <td id=\"T_31accff6_f4c1_11e9_84d2_008cfafbf396row0_col124\" class=\"data row0 col124\" >GBM_grid_1_AutoML_20191022_081800_model_23</td>\n",
       "                        <td id=\"T_31accff6_f4c1_11e9_84d2_008cfafbf396row0_col125\" class=\"data row0 col125\" >GBM_grid_1_AutoML_20191022_081800_model_38</td>\n",
       "                        <td id=\"T_31accff6_f4c1_11e9_84d2_008cfafbf396row0_col126\" class=\"data row0 col126\" >XGBoost_grid_1_AutoML_20191022_081800_model_42</td>\n",
       "                        <td id=\"T_31accff6_f4c1_11e9_84d2_008cfafbf396row0_col127\" class=\"data row0 col127\" >XGBoost_grid_1_AutoML_20191022_081800_model_56</td>\n",
       "                        <td id=\"T_31accff6_f4c1_11e9_84d2_008cfafbf396row0_col128\" class=\"data row0 col128\" >XGBoost_grid_1_AutoML_20191022_081800_model_5</td>\n",
       "                        <td id=\"T_31accff6_f4c1_11e9_84d2_008cfafbf396row0_col129\" class=\"data row0 col129\" >XGBoost_grid_1_AutoML_20191022_081800_model_22</td>\n",
       "                        <td id=\"T_31accff6_f4c1_11e9_84d2_008cfafbf396row0_col130\" class=\"data row0 col130\" >XGBoost_grid_1_AutoML_20191022_081800_model_44</td>\n",
       "                        <td id=\"T_31accff6_f4c1_11e9_84d2_008cfafbf396row0_col131\" class=\"data row0 col131\" >GBM_grid_1_AutoML_20191022_081800_model_33</td>\n",
       "                        <td id=\"T_31accff6_f4c1_11e9_84d2_008cfafbf396row0_col132\" class=\"data row0 col132\" >XGBoost_grid_1_AutoML_20191022_081800_model_58</td>\n",
       "                        <td id=\"T_31accff6_f4c1_11e9_84d2_008cfafbf396row0_col133\" class=\"data row0 col133\" >XGBoost_grid_1_AutoML_20191022_081800_model_54</td>\n",
       "                        <td id=\"T_31accff6_f4c1_11e9_84d2_008cfafbf396row0_col134\" class=\"data row0 col134\" >XGBoost_grid_1_AutoML_20191022_081800_model_39</td>\n",
       "                        <td id=\"T_31accff6_f4c1_11e9_84d2_008cfafbf396row0_col135\" class=\"data row0 col135\" >XGBoost_grid_1_AutoML_20191022_081800_model_12</td>\n",
       "                        <td id=\"T_31accff6_f4c1_11e9_84d2_008cfafbf396row0_col136\" class=\"data row0 col136\" >XGBoost_grid_1_AutoML_20191022_081800_model_43</td>\n",
       "                        <td id=\"T_31accff6_f4c1_11e9_84d2_008cfafbf396row0_col137\" class=\"data row0 col137\" >GBM_grid_1_AutoML_20191022_081800_model_5</td>\n",
       "                        <td id=\"T_31accff6_f4c1_11e9_84d2_008cfafbf396row0_col138\" class=\"data row0 col138\" >XGBoost_grid_1_AutoML_20191022_081800_model_11</td>\n",
       "                        <td id=\"T_31accff6_f4c1_11e9_84d2_008cfafbf396row0_col139\" class=\"data row0 col139\" >XGBoost_grid_1_AutoML_20191022_081800_model_6</td>\n",
       "                        <td id=\"T_31accff6_f4c1_11e9_84d2_008cfafbf396row0_col140\" class=\"data row0 col140\" >XGBoost_grid_1_AutoML_20191022_081800_model_1</td>\n",
       "                        <td id=\"T_31accff6_f4c1_11e9_84d2_008cfafbf396row0_col141\" class=\"data row0 col141\" >GBM_grid_1_AutoML_20191022_081800_model_37</td>\n",
       "                        <td id=\"T_31accff6_f4c1_11e9_84d2_008cfafbf396row0_col142\" class=\"data row0 col142\" >XGBoost_grid_1_AutoML_20191022_081800_model_40</td>\n",
       "                        <td id=\"T_31accff6_f4c1_11e9_84d2_008cfafbf396row0_col143\" class=\"data row0 col143\" >GBM_grid_1_AutoML_20191022_081800_model_61</td>\n",
       "                        <td id=\"T_31accff6_f4c1_11e9_84d2_008cfafbf396row0_col144\" class=\"data row0 col144\" >XGBoost_grid_1_AutoML_20191022_081800_model_14</td>\n",
       "                        <td id=\"T_31accff6_f4c1_11e9_84d2_008cfafbf396row0_col145\" class=\"data row0 col145\" >XGBoost_grid_1_AutoML_20191022_081800_model_60</td>\n",
       "                        <td id=\"T_31accff6_f4c1_11e9_84d2_008cfafbf396row0_col146\" class=\"data row0 col146\" >XGBoost_grid_1_AutoML_20191022_081800_model_63</td>\n",
       "                        <td id=\"T_31accff6_f4c1_11e9_84d2_008cfafbf396row0_col147\" class=\"data row0 col147\" >XGBoost_grid_1_AutoML_20191022_081800_model_24</td>\n",
       "                        <td id=\"T_31accff6_f4c1_11e9_84d2_008cfafbf396row0_col148\" class=\"data row0 col148\" >XGBoost_grid_1_AutoML_20191022_081800_model_10</td>\n",
       "                        <td id=\"T_31accff6_f4c1_11e9_84d2_008cfafbf396row0_col149\" class=\"data row0 col149\" >GBM_grid_1_AutoML_20191022_081800_model_4</td>\n",
       "                        <td id=\"T_31accff6_f4c1_11e9_84d2_008cfafbf396row0_col150\" class=\"data row0 col150\" >GBM_grid_1_AutoML_20191022_081800_model_71</td>\n",
       "                        <td id=\"T_31accff6_f4c1_11e9_84d2_008cfafbf396row0_col151\" class=\"data row0 col151\" >GBM_grid_1_AutoML_20191022_081800_model_69</td>\n",
       "                        <td id=\"T_31accff6_f4c1_11e9_84d2_008cfafbf396row0_col152\" class=\"data row0 col152\" >XGBoost_grid_1_AutoML_20191022_081800_model_16</td>\n",
       "                        <td id=\"T_31accff6_f4c1_11e9_84d2_008cfafbf396row0_col153\" class=\"data row0 col153\" >XGBoost_grid_1_AutoML_20191022_081800_model_51</td>\n",
       "                        <td id=\"T_31accff6_f4c1_11e9_84d2_008cfafbf396row0_col154\" class=\"data row0 col154\" >XGBoost_grid_1_AutoML_20191022_081800_model_9</td>\n",
       "                        <td id=\"T_31accff6_f4c1_11e9_84d2_008cfafbf396row0_col155\" class=\"data row0 col155\" >GBM_grid_1_AutoML_20191022_081800_model_34</td>\n",
       "                        <td id=\"T_31accff6_f4c1_11e9_84d2_008cfafbf396row0_col156\" class=\"data row0 col156\" >GBM_grid_1_AutoML_20191022_081800_model_50</td>\n",
       "                        <td id=\"T_31accff6_f4c1_11e9_84d2_008cfafbf396row0_col157\" class=\"data row0 col157\" >GBM_grid_1_AutoML_20191022_081800_model_51</td>\n",
       "                        <td id=\"T_31accff6_f4c1_11e9_84d2_008cfafbf396row0_col158\" class=\"data row0 col158\" >DeepLearning_1_AutoML_20191022_081800</td>\n",
       "                        <td id=\"T_31accff6_f4c1_11e9_84d2_008cfafbf396row0_col159\" class=\"data row0 col159\" >GBM_grid_1_AutoML_20191022_081800_model_2</td>\n",
       "                        <td id=\"T_31accff6_f4c1_11e9_84d2_008cfafbf396row0_col160\" class=\"data row0 col160\" >GBM_grid_1_AutoML_20191022_081800_model_64</td>\n",
       "                        <td id=\"T_31accff6_f4c1_11e9_84d2_008cfafbf396row0_col161\" class=\"data row0 col161\" >GBM_grid_1_AutoML_20191022_081800_model_49</td>\n",
       "                        <td id=\"T_31accff6_f4c1_11e9_84d2_008cfafbf396row0_col162\" class=\"data row0 col162\" >GBM_grid_1_AutoML_20191022_081800_model_44</td>\n",
       "                        <td id=\"T_31accff6_f4c1_11e9_84d2_008cfafbf396row0_col163\" class=\"data row0 col163\" >GBM_grid_1_AutoML_20191022_081800_model_22</td>\n",
       "                        <td id=\"T_31accff6_f4c1_11e9_84d2_008cfafbf396row0_col164\" class=\"data row0 col164\" >GBM_grid_1_AutoML_20191022_081800_model_60</td>\n",
       "                        <td id=\"T_31accff6_f4c1_11e9_84d2_008cfafbf396row0_col165\" class=\"data row0 col165\" >GBM_grid_1_AutoML_20191022_081800_model_65</td>\n",
       "                        <td id=\"T_31accff6_f4c1_11e9_84d2_008cfafbf396row0_col166\" class=\"data row0 col166\" >GBM_grid_1_AutoML_20191022_081800_model_36</td>\n",
       "                        <td id=\"T_31accff6_f4c1_11e9_84d2_008cfafbf396row0_col167\" class=\"data row0 col167\" >nan</td>\n",
       "                        <td id=\"T_31accff6_f4c1_11e9_84d2_008cfafbf396row0_col168\" class=\"data row0 col168\" >nan</td>\n",
       "                        <td id=\"T_31accff6_f4c1_11e9_84d2_008cfafbf396row0_col169\" class=\"data row0 col169\" >nan</td>\n",
       "                        <td id=\"T_31accff6_f4c1_11e9_84d2_008cfafbf396row0_col170\" class=\"data row0 col170\" >nan</td>\n",
       "            </tr>\n",
       "            <tr>\n",
       "                                <td id=\"T_31accff6_f4c1_11e9_84d2_008cfafbf396row1_col0\" class=\"data row1 col0\" >12</td>\n",
       "                        <td id=\"T_31accff6_f4c1_11e9_84d2_008cfafbf396row1_col1\" class=\"data row1 col1\" >StackedEnsemble_AllModels_AutoML_20191022_082706</td>\n",
       "                        <td id=\"T_31accff6_f4c1_11e9_84d2_008cfafbf396row1_col2\" class=\"data row1 col2\" >DeepLearning_grid_1_AutoML_20191022_082706_model_2</td>\n",
       "                        <td id=\"T_31accff6_f4c1_11e9_84d2_008cfafbf396row1_col3\" class=\"data row1 col3\" >DeepLearning_grid_1_AutoML_20191022_082706_model_9</td>\n",
       "                        <td id=\"T_31accff6_f4c1_11e9_84d2_008cfafbf396row1_col4\" class=\"data row1 col4\" >GBM_grid_1_AutoML_20191022_082706_model_40</td>\n",
       "                        <td id=\"T_31accff6_f4c1_11e9_84d2_008cfafbf396row1_col5\" class=\"data row1 col5\" >GBM_grid_1_AutoML_20191022_082706_model_31</td>\n",
       "                        <td id=\"T_31accff6_f4c1_11e9_84d2_008cfafbf396row1_col6\" class=\"data row1 col6\" >DeepLearning_grid_1_AutoML_20191022_082706_model_16</td>\n",
       "                        <td id=\"T_31accff6_f4c1_11e9_84d2_008cfafbf396row1_col7\" class=\"data row1 col7\" >GBM_grid_1_AutoML_20191022_082706_model_18</td>\n",
       "                        <td id=\"T_31accff6_f4c1_11e9_84d2_008cfafbf396row1_col8\" class=\"data row1 col8\" >DeepLearning_grid_1_AutoML_20191022_082706_model_4</td>\n",
       "                        <td id=\"T_31accff6_f4c1_11e9_84d2_008cfafbf396row1_col9\" class=\"data row1 col9\" >GBM_grid_1_AutoML_20191022_082706_model_39</td>\n",
       "                        <td id=\"T_31accff6_f4c1_11e9_84d2_008cfafbf396row1_col10\" class=\"data row1 col10\" >DeepLearning_grid_1_AutoML_20191022_082706_model_1</td>\n",
       "                        <td id=\"T_31accff6_f4c1_11e9_84d2_008cfafbf396row1_col11\" class=\"data row1 col11\" >GBM_grid_1_AutoML_20191022_082706_model_19</td>\n",
       "                        <td id=\"T_31accff6_f4c1_11e9_84d2_008cfafbf396row1_col12\" class=\"data row1 col12\" >DeepLearning_grid_1_AutoML_20191022_082706_model_3</td>\n",
       "                        <td id=\"T_31accff6_f4c1_11e9_84d2_008cfafbf396row1_col13\" class=\"data row1 col13\" >GBM_grid_1_AutoML_20191022_082706_model_46</td>\n",
       "                        <td id=\"T_31accff6_f4c1_11e9_84d2_008cfafbf396row1_col14\" class=\"data row1 col14\" >DeepLearning_grid_1_AutoML_20191022_082706_model_10</td>\n",
       "                        <td id=\"T_31accff6_f4c1_11e9_84d2_008cfafbf396row1_col15\" class=\"data row1 col15\" >GBM_grid_1_AutoML_20191022_082706_model_41</td>\n",
       "                        <td id=\"T_31accff6_f4c1_11e9_84d2_008cfafbf396row1_col16\" class=\"data row1 col16\" >XGBoost_grid_1_AutoML_20191022_082706_model_13</td>\n",
       "                        <td id=\"T_31accff6_f4c1_11e9_84d2_008cfafbf396row1_col17\" class=\"data row1 col17\" >GBM_grid_1_AutoML_20191022_082706_model_15</td>\n",
       "                        <td id=\"T_31accff6_f4c1_11e9_84d2_008cfafbf396row1_col18\" class=\"data row1 col18\" >GBM_grid_1_AutoML_20191022_082706_model_35</td>\n",
       "                        <td id=\"T_31accff6_f4c1_11e9_84d2_008cfafbf396row1_col19\" class=\"data row1 col19\" >GBM_2_AutoML_20191022_082706</td>\n",
       "                        <td id=\"T_31accff6_f4c1_11e9_84d2_008cfafbf396row1_col20\" class=\"data row1 col20\" >DeepLearning_grid_1_AutoML_20191022_082706_model_8</td>\n",
       "                        <td id=\"T_31accff6_f4c1_11e9_84d2_008cfafbf396row1_col21\" class=\"data row1 col21\" >DeepLearning_grid_1_AutoML_20191022_082706_model_15</td>\n",
       "                        <td id=\"T_31accff6_f4c1_11e9_84d2_008cfafbf396row1_col22\" class=\"data row1 col22\" >GBM_grid_1_AutoML_20191022_082706_model_43</td>\n",
       "                        <td id=\"T_31accff6_f4c1_11e9_84d2_008cfafbf396row1_col23\" class=\"data row1 col23\" >GBM_grid_1_AutoML_20191022_082706_model_55</td>\n",
       "                        <td id=\"T_31accff6_f4c1_11e9_84d2_008cfafbf396row1_col24\" class=\"data row1 col24\" >GBM_grid_1_AutoML_20191022_082706_model_3</td>\n",
       "                        <td id=\"T_31accff6_f4c1_11e9_84d2_008cfafbf396row1_col25\" class=\"data row1 col25\" >GBM_3_AutoML_20191022_082706</td>\n",
       "                        <td id=\"T_31accff6_f4c1_11e9_84d2_008cfafbf396row1_col26\" class=\"data row1 col26\" >GBM_grid_1_AutoML_20191022_082706_model_45</td>\n",
       "                        <td id=\"T_31accff6_f4c1_11e9_84d2_008cfafbf396row1_col27\" class=\"data row1 col27\" >GBM_grid_1_AutoML_20191022_082706_model_32</td>\n",
       "                        <td id=\"T_31accff6_f4c1_11e9_84d2_008cfafbf396row1_col28\" class=\"data row1 col28\" >GBM_grid_1_AutoML_20191022_082706_model_26</td>\n",
       "                        <td id=\"T_31accff6_f4c1_11e9_84d2_008cfafbf396row1_col29\" class=\"data row1 col29\" >GBM_grid_1_AutoML_20191022_082706_model_47</td>\n",
       "                        <td id=\"T_31accff6_f4c1_11e9_84d2_008cfafbf396row1_col30\" class=\"data row1 col30\" >GBM_grid_1_AutoML_20191022_082706_model_6</td>\n",
       "                        <td id=\"T_31accff6_f4c1_11e9_84d2_008cfafbf396row1_col31\" class=\"data row1 col31\" >GBM_grid_1_AutoML_20191022_082706_model_27</td>\n",
       "                        <td id=\"T_31accff6_f4c1_11e9_84d2_008cfafbf396row1_col32\" class=\"data row1 col32\" >GBM_grid_1_AutoML_20191022_082706_model_48</td>\n",
       "                        <td id=\"T_31accff6_f4c1_11e9_84d2_008cfafbf396row1_col33\" class=\"data row1 col33\" >DeepLearning_grid_1_AutoML_20191022_082706_model_12</td>\n",
       "                        <td id=\"T_31accff6_f4c1_11e9_84d2_008cfafbf396row1_col34\" class=\"data row1 col34\" >GBM_grid_1_AutoML_20191022_082706_model_20</td>\n",
       "                        <td id=\"T_31accff6_f4c1_11e9_84d2_008cfafbf396row1_col35\" class=\"data row1 col35\" >GBM_grid_1_AutoML_20191022_082706_model_57</td>\n",
       "                        <td id=\"T_31accff6_f4c1_11e9_84d2_008cfafbf396row1_col36\" class=\"data row1 col36\" >GBM_grid_1_AutoML_20191022_082706_model_59</td>\n",
       "                        <td id=\"T_31accff6_f4c1_11e9_84d2_008cfafbf396row1_col37\" class=\"data row1 col37\" >GBM_5_AutoML_20191022_082706</td>\n",
       "                        <td id=\"T_31accff6_f4c1_11e9_84d2_008cfafbf396row1_col38\" class=\"data row1 col38\" >GBM_grid_1_AutoML_20191022_082706_model_67</td>\n",
       "                        <td id=\"T_31accff6_f4c1_11e9_84d2_008cfafbf396row1_col39\" class=\"data row1 col39\" >GBM_grid_1_AutoML_20191022_082706_model_63</td>\n",
       "                        <td id=\"T_31accff6_f4c1_11e9_84d2_008cfafbf396row1_col40\" class=\"data row1 col40\" >XGBoost_grid_1_AutoML_20191022_082706_model_33</td>\n",
       "                        <td id=\"T_31accff6_f4c1_11e9_84d2_008cfafbf396row1_col41\" class=\"data row1 col41\" >GBM_grid_1_AutoML_20191022_082706_model_12</td>\n",
       "                        <td id=\"T_31accff6_f4c1_11e9_84d2_008cfafbf396row1_col42\" class=\"data row1 col42\" >DeepLearning_grid_1_AutoML_20191022_082706_model_5</td>\n",
       "                        <td id=\"T_31accff6_f4c1_11e9_84d2_008cfafbf396row1_col43\" class=\"data row1 col43\" >GBM_4_AutoML_20191022_082706</td>\n",
       "                        <td id=\"T_31accff6_f4c1_11e9_84d2_008cfafbf396row1_col44\" class=\"data row1 col44\" >GBM_grid_1_AutoML_20191022_082706_model_66</td>\n",
       "                        <td id=\"T_31accff6_f4c1_11e9_84d2_008cfafbf396row1_col45\" class=\"data row1 col45\" >XGBoost_grid_1_AutoML_20191022_082706_model_38</td>\n",
       "                        <td id=\"T_31accff6_f4c1_11e9_84d2_008cfafbf396row1_col46\" class=\"data row1 col46\" >GBM_grid_1_AutoML_20191022_082706_model_56</td>\n",
       "                        <td id=\"T_31accff6_f4c1_11e9_84d2_008cfafbf396row1_col47\" class=\"data row1 col47\" >GLM_grid_1_AutoML_20191022_082706_model_1</td>\n",
       "                        <td id=\"T_31accff6_f4c1_11e9_84d2_008cfafbf396row1_col48\" class=\"data row1 col48\" >DeepLearning_grid_1_AutoML_20191022_082706_model_17</td>\n",
       "                        <td id=\"T_31accff6_f4c1_11e9_84d2_008cfafbf396row1_col49\" class=\"data row1 col49\" >XGBoost_grid_1_AutoML_20191022_082706_model_52</td>\n",
       "                        <td id=\"T_31accff6_f4c1_11e9_84d2_008cfafbf396row1_col50\" class=\"data row1 col50\" >GBM_grid_1_AutoML_20191022_082706_model_17</td>\n",
       "                        <td id=\"T_31accff6_f4c1_11e9_84d2_008cfafbf396row1_col51\" class=\"data row1 col51\" >XGBoost_grid_1_AutoML_20191022_082706_model_35</td>\n",
       "                        <td id=\"T_31accff6_f4c1_11e9_84d2_008cfafbf396row1_col52\" class=\"data row1 col52\" >XGBoost_grid_1_AutoML_20191022_082706_model_55</td>\n",
       "                        <td id=\"T_31accff6_f4c1_11e9_84d2_008cfafbf396row1_col53\" class=\"data row1 col53\" >XGBoost_grid_1_AutoML_20191022_082706_model_46</td>\n",
       "                        <td id=\"T_31accff6_f4c1_11e9_84d2_008cfafbf396row1_col54\" class=\"data row1 col54\" >GBM_grid_1_AutoML_20191022_082706_model_62</td>\n",
       "                        <td id=\"T_31accff6_f4c1_11e9_84d2_008cfafbf396row1_col55\" class=\"data row1 col55\" >XRT_1_AutoML_20191022_082706</td>\n",
       "                        <td id=\"T_31accff6_f4c1_11e9_84d2_008cfafbf396row1_col56\" class=\"data row1 col56\" >GBM_grid_1_AutoML_20191022_082706_model_1</td>\n",
       "                        <td id=\"T_31accff6_f4c1_11e9_84d2_008cfafbf396row1_col57\" class=\"data row1 col57\" >GBM_grid_1_AutoML_20191022_082706_model_10</td>\n",
       "                        <td id=\"T_31accff6_f4c1_11e9_84d2_008cfafbf396row1_col58\" class=\"data row1 col58\" >XGBoost_grid_1_AutoML_20191022_082706_model_8</td>\n",
       "                        <td id=\"T_31accff6_f4c1_11e9_84d2_008cfafbf396row1_col59\" class=\"data row1 col59\" >XGBoost_grid_1_AutoML_20191022_082706_model_45</td>\n",
       "                        <td id=\"T_31accff6_f4c1_11e9_84d2_008cfafbf396row1_col60\" class=\"data row1 col60\" >GBM_1_AutoML_20191022_082706</td>\n",
       "                        <td id=\"T_31accff6_f4c1_11e9_84d2_008cfafbf396row1_col61\" class=\"data row1 col61\" >GBM_grid_1_AutoML_20191022_082706_model_14</td>\n",
       "                        <td id=\"T_31accff6_f4c1_11e9_84d2_008cfafbf396row1_col62\" class=\"data row1 col62\" >GBM_grid_1_AutoML_20191022_082706_model_42</td>\n",
       "                        <td id=\"T_31accff6_f4c1_11e9_84d2_008cfafbf396row1_col63\" class=\"data row1 col63\" >XGBoost_grid_1_AutoML_20191022_082706_model_48</td>\n",
       "                        <td id=\"T_31accff6_f4c1_11e9_84d2_008cfafbf396row1_col64\" class=\"data row1 col64\" >GBM_grid_1_AutoML_20191022_082706_model_11</td>\n",
       "                        <td id=\"T_31accff6_f4c1_11e9_84d2_008cfafbf396row1_col65\" class=\"data row1 col65\" >XGBoost_grid_1_AutoML_20191022_082706_model_30</td>\n",
       "                        <td id=\"T_31accff6_f4c1_11e9_84d2_008cfafbf396row1_col66\" class=\"data row1 col66\" >GBM_grid_1_AutoML_20191022_082706_model_16</td>\n",
       "                        <td id=\"T_31accff6_f4c1_11e9_84d2_008cfafbf396row1_col67\" class=\"data row1 col67\" >GBM_grid_1_AutoML_20191022_082706_model_24</td>\n",
       "                        <td id=\"T_31accff6_f4c1_11e9_84d2_008cfafbf396row1_col68\" class=\"data row1 col68\" >DRF_1_AutoML_20191022_082706</td>\n",
       "                        <td id=\"T_31accff6_f4c1_11e9_84d2_008cfafbf396row1_col69\" class=\"data row1 col69\" >XGBoost_grid_1_AutoML_20191022_082706_model_17</td>\n",
       "                        <td id=\"T_31accff6_f4c1_11e9_84d2_008cfafbf396row1_col70\" class=\"data row1 col70\" >GBM_grid_1_AutoML_20191022_082706_model_54</td>\n",
       "                        <td id=\"T_31accff6_f4c1_11e9_84d2_008cfafbf396row1_col71\" class=\"data row1 col71\" >GBM_grid_1_AutoML_20191022_082706_model_13</td>\n",
       "                        <td id=\"T_31accff6_f4c1_11e9_84d2_008cfafbf396row1_col72\" class=\"data row1 col72\" >DeepLearning_grid_1_AutoML_20191022_082706_model_13</td>\n",
       "                        <td id=\"T_31accff6_f4c1_11e9_84d2_008cfafbf396row1_col73\" class=\"data row1 col73\" >GBM_grid_1_AutoML_20191022_082706_model_58</td>\n",
       "                        <td id=\"T_31accff6_f4c1_11e9_84d2_008cfafbf396row1_col74\" class=\"data row1 col74\" >XGBoost_3_AutoML_20191022_082706</td>\n",
       "                        <td id=\"T_31accff6_f4c1_11e9_84d2_008cfafbf396row1_col75\" class=\"data row1 col75\" >XGBoost_grid_1_AutoML_20191022_082706_model_49</td>\n",
       "                        <td id=\"T_31accff6_f4c1_11e9_84d2_008cfafbf396row1_col76\" class=\"data row1 col76\" >GBM_grid_1_AutoML_20191022_082706_model_52</td>\n",
       "                        <td id=\"T_31accff6_f4c1_11e9_84d2_008cfafbf396row1_col77\" class=\"data row1 col77\" >XGBoost_grid_1_AutoML_20191022_082706_model_37</td>\n",
       "                        <td id=\"T_31accff6_f4c1_11e9_84d2_008cfafbf396row1_col78\" class=\"data row1 col78\" >XGBoost_1_AutoML_20191022_082706</td>\n",
       "                        <td id=\"T_31accff6_f4c1_11e9_84d2_008cfafbf396row1_col79\" class=\"data row1 col79\" >XGBoost_grid_1_AutoML_20191022_082706_model_25</td>\n",
       "                        <td id=\"T_31accff6_f4c1_11e9_84d2_008cfafbf396row1_col80\" class=\"data row1 col80\" >GBM_grid_1_AutoML_20191022_082706_model_53</td>\n",
       "                        <td id=\"T_31accff6_f4c1_11e9_84d2_008cfafbf396row1_col81\" class=\"data row1 col81\" >XGBoost_grid_1_AutoML_20191022_082706_model_57</td>\n",
       "                        <td id=\"T_31accff6_f4c1_11e9_84d2_008cfafbf396row1_col82\" class=\"data row1 col82\" >XGBoost_grid_1_AutoML_20191022_082706_model_21</td>\n",
       "                        <td id=\"T_31accff6_f4c1_11e9_84d2_008cfafbf396row1_col83\" class=\"data row1 col83\" >XGBoost_grid_1_AutoML_20191022_082706_model_18</td>\n",
       "                        <td id=\"T_31accff6_f4c1_11e9_84d2_008cfafbf396row1_col84\" class=\"data row1 col84\" >DeepLearning_grid_1_AutoML_20191022_082706_model_11</td>\n",
       "                        <td id=\"T_31accff6_f4c1_11e9_84d2_008cfafbf396row1_col85\" class=\"data row1 col85\" >XGBoost_grid_1_AutoML_20191022_082706_model_26</td>\n",
       "                        <td id=\"T_31accff6_f4c1_11e9_84d2_008cfafbf396row1_col86\" class=\"data row1 col86\" >XGBoost_grid_1_AutoML_20191022_082706_model_47</td>\n",
       "                        <td id=\"T_31accff6_f4c1_11e9_84d2_008cfafbf396row1_col87\" class=\"data row1 col87\" >XGBoost_grid_1_AutoML_20191022_082706_model_15</td>\n",
       "                        <td id=\"T_31accff6_f4c1_11e9_84d2_008cfafbf396row1_col88\" class=\"data row1 col88\" >GBM_grid_1_AutoML_20191022_082706_model_8</td>\n",
       "                        <td id=\"T_31accff6_f4c1_11e9_84d2_008cfafbf396row1_col89\" class=\"data row1 col89\" >DeepLearning_grid_1_AutoML_20191022_082706_model_6</td>\n",
       "                        <td id=\"T_31accff6_f4c1_11e9_84d2_008cfafbf396row1_col90\" class=\"data row1 col90\" >GBM_grid_1_AutoML_20191022_082706_model_9</td>\n",
       "                        <td id=\"T_31accff6_f4c1_11e9_84d2_008cfafbf396row1_col91\" class=\"data row1 col91\" >XGBoost_grid_1_AutoML_20191022_082706_model_20</td>\n",
       "                        <td id=\"T_31accff6_f4c1_11e9_84d2_008cfafbf396row1_col92\" class=\"data row1 col92\" >XGBoost_grid_1_AutoML_20191022_082706_model_36</td>\n",
       "                        <td id=\"T_31accff6_f4c1_11e9_84d2_008cfafbf396row1_col93\" class=\"data row1 col93\" >XGBoost_grid_1_AutoML_20191022_082706_model_27</td>\n",
       "                        <td id=\"T_31accff6_f4c1_11e9_84d2_008cfafbf396row1_col94\" class=\"data row1 col94\" >XGBoost_grid_1_AutoML_20191022_082706_model_34</td>\n",
       "                        <td id=\"T_31accff6_f4c1_11e9_84d2_008cfafbf396row1_col95\" class=\"data row1 col95\" >DeepLearning_grid_1_AutoML_20191022_082706_model_18</td>\n",
       "                        <td id=\"T_31accff6_f4c1_11e9_84d2_008cfafbf396row1_col96\" class=\"data row1 col96\" >XGBoost_grid_1_AutoML_20191022_082706_model_4</td>\n",
       "                        <td id=\"T_31accff6_f4c1_11e9_84d2_008cfafbf396row1_col97\" class=\"data row1 col97\" >XGBoost_grid_1_AutoML_20191022_082706_model_31</td>\n",
       "                        <td id=\"T_31accff6_f4c1_11e9_84d2_008cfafbf396row1_col98\" class=\"data row1 col98\" >GBM_grid_1_AutoML_20191022_082706_model_68</td>\n",
       "                        <td id=\"T_31accff6_f4c1_11e9_84d2_008cfafbf396row1_col99\" class=\"data row1 col99\" >XGBoost_grid_1_AutoML_20191022_082706_model_2</td>\n",
       "                        <td id=\"T_31accff6_f4c1_11e9_84d2_008cfafbf396row1_col100\" class=\"data row1 col100\" >GBM_grid_1_AutoML_20191022_082706_model_29</td>\n",
       "                        <td id=\"T_31accff6_f4c1_11e9_84d2_008cfafbf396row1_col101\" class=\"data row1 col101\" >XGBoost_grid_1_AutoML_20191022_082706_model_41</td>\n",
       "                        <td id=\"T_31accff6_f4c1_11e9_84d2_008cfafbf396row1_col102\" class=\"data row1 col102\" >XGBoost_grid_1_AutoML_20191022_082706_model_50</td>\n",
       "                        <td id=\"T_31accff6_f4c1_11e9_84d2_008cfafbf396row1_col103\" class=\"data row1 col103\" >XGBoost_grid_1_AutoML_20191022_082706_model_29</td>\n",
       "                        <td id=\"T_31accff6_f4c1_11e9_84d2_008cfafbf396row1_col104\" class=\"data row1 col104\" >GBM_grid_1_AutoML_20191022_082706_model_28</td>\n",
       "                        <td id=\"T_31accff6_f4c1_11e9_84d2_008cfafbf396row1_col105\" class=\"data row1 col105\" >XGBoost_grid_1_AutoML_20191022_082706_model_28</td>\n",
       "                        <td id=\"T_31accff6_f4c1_11e9_84d2_008cfafbf396row1_col106\" class=\"data row1 col106\" >XGBoost_grid_1_AutoML_20191022_082706_model_3</td>\n",
       "                        <td id=\"T_31accff6_f4c1_11e9_84d2_008cfafbf396row1_col107\" class=\"data row1 col107\" >XGBoost_grid_1_AutoML_20191022_082706_model_32</td>\n",
       "                        <td id=\"T_31accff6_f4c1_11e9_84d2_008cfafbf396row1_col108\" class=\"data row1 col108\" >XGBoost_grid_1_AutoML_20191022_082706_model_59</td>\n",
       "                        <td id=\"T_31accff6_f4c1_11e9_84d2_008cfafbf396row1_col109\" class=\"data row1 col109\" >XGBoost_grid_1_AutoML_20191022_082706_model_61</td>\n",
       "                        <td id=\"T_31accff6_f4c1_11e9_84d2_008cfafbf396row1_col110\" class=\"data row1 col110\" >GBM_grid_1_AutoML_20191022_082706_model_70</td>\n",
       "                        <td id=\"T_31accff6_f4c1_11e9_84d2_008cfafbf396row1_col111\" class=\"data row1 col111\" >XGBoost_grid_1_AutoML_20191022_082706_model_23</td>\n",
       "                        <td id=\"T_31accff6_f4c1_11e9_84d2_008cfafbf396row1_col112\" class=\"data row1 col112\" >XGBoost_grid_1_AutoML_20191022_082706_model_7</td>\n",
       "                        <td id=\"T_31accff6_f4c1_11e9_84d2_008cfafbf396row1_col113\" class=\"data row1 col113\" >XGBoost_grid_1_AutoML_20191022_082706_model_19</td>\n",
       "                        <td id=\"T_31accff6_f4c1_11e9_84d2_008cfafbf396row1_col114\" class=\"data row1 col114\" >XGBoost_grid_1_AutoML_20191022_082706_model_53</td>\n",
       "                        <td id=\"T_31accff6_f4c1_11e9_84d2_008cfafbf396row1_col115\" class=\"data row1 col115\" >GBM_grid_1_AutoML_20191022_082706_model_25</td>\n",
       "                        <td id=\"T_31accff6_f4c1_11e9_84d2_008cfafbf396row1_col116\" class=\"data row1 col116\" >GBM_grid_1_AutoML_20191022_082706_model_21</td>\n",
       "                        <td id=\"T_31accff6_f4c1_11e9_84d2_008cfafbf396row1_col117\" class=\"data row1 col117\" >XGBoost_2_AutoML_20191022_082706</td>\n",
       "                        <td id=\"T_31accff6_f4c1_11e9_84d2_008cfafbf396row1_col118\" class=\"data row1 col118\" >GBM_grid_1_AutoML_20191022_082706_model_30</td>\n",
       "                        <td id=\"T_31accff6_f4c1_11e9_84d2_008cfafbf396row1_col119\" class=\"data row1 col119\" >GBM_grid_1_AutoML_20191022_082706_model_7</td>\n",
       "                        <td id=\"T_31accff6_f4c1_11e9_84d2_008cfafbf396row1_col120\" class=\"data row1 col120\" >GBM_grid_1_AutoML_20191022_082706_model_23</td>\n",
       "                        <td id=\"T_31accff6_f4c1_11e9_84d2_008cfafbf396row1_col121\" class=\"data row1 col121\" >GBM_grid_1_AutoML_20191022_082706_model_38</td>\n",
       "                        <td id=\"T_31accff6_f4c1_11e9_84d2_008cfafbf396row1_col122\" class=\"data row1 col122\" >XGBoost_grid_1_AutoML_20191022_082706_model_42</td>\n",
       "                        <td id=\"T_31accff6_f4c1_11e9_84d2_008cfafbf396row1_col123\" class=\"data row1 col123\" >XGBoost_grid_1_AutoML_20191022_082706_model_56</td>\n",
       "                        <td id=\"T_31accff6_f4c1_11e9_84d2_008cfafbf396row1_col124\" class=\"data row1 col124\" >XGBoost_grid_1_AutoML_20191022_082706_model_5</td>\n",
       "                        <td id=\"T_31accff6_f4c1_11e9_84d2_008cfafbf396row1_col125\" class=\"data row1 col125\" >XGBoost_grid_1_AutoML_20191022_082706_model_22</td>\n",
       "                        <td id=\"T_31accff6_f4c1_11e9_84d2_008cfafbf396row1_col126\" class=\"data row1 col126\" >XGBoost_grid_1_AutoML_20191022_082706_model_44</td>\n",
       "                        <td id=\"T_31accff6_f4c1_11e9_84d2_008cfafbf396row1_col127\" class=\"data row1 col127\" >GBM_grid_1_AutoML_20191022_082706_model_33</td>\n",
       "                        <td id=\"T_31accff6_f4c1_11e9_84d2_008cfafbf396row1_col128\" class=\"data row1 col128\" >XGBoost_grid_1_AutoML_20191022_082706_model_58</td>\n",
       "                        <td id=\"T_31accff6_f4c1_11e9_84d2_008cfafbf396row1_col129\" class=\"data row1 col129\" >XGBoost_grid_1_AutoML_20191022_082706_model_54</td>\n",
       "                        <td id=\"T_31accff6_f4c1_11e9_84d2_008cfafbf396row1_col130\" class=\"data row1 col130\" >DeepLearning_grid_1_AutoML_20191022_082706_model_7</td>\n",
       "                        <td id=\"T_31accff6_f4c1_11e9_84d2_008cfafbf396row1_col131\" class=\"data row1 col131\" >XGBoost_grid_1_AutoML_20191022_082706_model_39</td>\n",
       "                        <td id=\"T_31accff6_f4c1_11e9_84d2_008cfafbf396row1_col132\" class=\"data row1 col132\" >XGBoost_grid_1_AutoML_20191022_082706_model_12</td>\n",
       "                        <td id=\"T_31accff6_f4c1_11e9_84d2_008cfafbf396row1_col133\" class=\"data row1 col133\" >DeepLearning_grid_1_AutoML_20191022_082706_model_14</td>\n",
       "                        <td id=\"T_31accff6_f4c1_11e9_84d2_008cfafbf396row1_col134\" class=\"data row1 col134\" >XGBoost_grid_1_AutoML_20191022_082706_model_43</td>\n",
       "                        <td id=\"T_31accff6_f4c1_11e9_84d2_008cfafbf396row1_col135\" class=\"data row1 col135\" >GBM_grid_1_AutoML_20191022_082706_model_5</td>\n",
       "                        <td id=\"T_31accff6_f4c1_11e9_84d2_008cfafbf396row1_col136\" class=\"data row1 col136\" >XGBoost_grid_1_AutoML_20191022_082706_model_11</td>\n",
       "                        <td id=\"T_31accff6_f4c1_11e9_84d2_008cfafbf396row1_col137\" class=\"data row1 col137\" >XGBoost_grid_1_AutoML_20191022_082706_model_6</td>\n",
       "                        <td id=\"T_31accff6_f4c1_11e9_84d2_008cfafbf396row1_col138\" class=\"data row1 col138\" >XGBoost_grid_1_AutoML_20191022_082706_model_1</td>\n",
       "                        <td id=\"T_31accff6_f4c1_11e9_84d2_008cfafbf396row1_col139\" class=\"data row1 col139\" >GBM_grid_1_AutoML_20191022_082706_model_37</td>\n",
       "                        <td id=\"T_31accff6_f4c1_11e9_84d2_008cfafbf396row1_col140\" class=\"data row1 col140\" >XGBoost_grid_1_AutoML_20191022_082706_model_40</td>\n",
       "                        <td id=\"T_31accff6_f4c1_11e9_84d2_008cfafbf396row1_col141\" class=\"data row1 col141\" >GBM_grid_1_AutoML_20191022_082706_model_61</td>\n",
       "                        <td id=\"T_31accff6_f4c1_11e9_84d2_008cfafbf396row1_col142\" class=\"data row1 col142\" >XGBoost_grid_1_AutoML_20191022_082706_model_14</td>\n",
       "                        <td id=\"T_31accff6_f4c1_11e9_84d2_008cfafbf396row1_col143\" class=\"data row1 col143\" >XGBoost_grid_1_AutoML_20191022_082706_model_24</td>\n",
       "                        <td id=\"T_31accff6_f4c1_11e9_84d2_008cfafbf396row1_col144\" class=\"data row1 col144\" >XGBoost_grid_1_AutoML_20191022_082706_model_60</td>\n",
       "                        <td id=\"T_31accff6_f4c1_11e9_84d2_008cfafbf396row1_col145\" class=\"data row1 col145\" >XGBoost_grid_1_AutoML_20191022_082706_model_10</td>\n",
       "                        <td id=\"T_31accff6_f4c1_11e9_84d2_008cfafbf396row1_col146\" class=\"data row1 col146\" >GBM_grid_1_AutoML_20191022_082706_model_4</td>\n",
       "                        <td id=\"T_31accff6_f4c1_11e9_84d2_008cfafbf396row1_col147\" class=\"data row1 col147\" >GBM_grid_1_AutoML_20191022_082706_model_69</td>\n",
       "                        <td id=\"T_31accff6_f4c1_11e9_84d2_008cfafbf396row1_col148\" class=\"data row1 col148\" >XGBoost_grid_1_AutoML_20191022_082706_model_16</td>\n",
       "                        <td id=\"T_31accff6_f4c1_11e9_84d2_008cfafbf396row1_col149\" class=\"data row1 col149\" >XGBoost_grid_1_AutoML_20191022_082706_model_51</td>\n",
       "                        <td id=\"T_31accff6_f4c1_11e9_84d2_008cfafbf396row1_col150\" class=\"data row1 col150\" >XGBoost_grid_1_AutoML_20191022_082706_model_9</td>\n",
       "                        <td id=\"T_31accff6_f4c1_11e9_84d2_008cfafbf396row1_col151\" class=\"data row1 col151\" >GBM_grid_1_AutoML_20191022_082706_model_34</td>\n",
       "                        <td id=\"T_31accff6_f4c1_11e9_84d2_008cfafbf396row1_col152\" class=\"data row1 col152\" >GBM_grid_1_AutoML_20191022_082706_model_50</td>\n",
       "                        <td id=\"T_31accff6_f4c1_11e9_84d2_008cfafbf396row1_col153\" class=\"data row1 col153\" >GBM_grid_1_AutoML_20191022_082706_model_51</td>\n",
       "                        <td id=\"T_31accff6_f4c1_11e9_84d2_008cfafbf396row1_col154\" class=\"data row1 col154\" >XGBoost_grid_1_AutoML_20191022_082706_model_62</td>\n",
       "                        <td id=\"T_31accff6_f4c1_11e9_84d2_008cfafbf396row1_col155\" class=\"data row1 col155\" >GBM_grid_1_AutoML_20191022_082706_model_71</td>\n",
       "                        <td id=\"T_31accff6_f4c1_11e9_84d2_008cfafbf396row1_col156\" class=\"data row1 col156\" >GBM_grid_1_AutoML_20191022_082706_model_2</td>\n",
       "                        <td id=\"T_31accff6_f4c1_11e9_84d2_008cfafbf396row1_col157\" class=\"data row1 col157\" >DeepLearning_1_AutoML_20191022_082706</td>\n",
       "                        <td id=\"T_31accff6_f4c1_11e9_84d2_008cfafbf396row1_col158\" class=\"data row1 col158\" >GBM_grid_1_AutoML_20191022_082706_model_64</td>\n",
       "                        <td id=\"T_31accff6_f4c1_11e9_84d2_008cfafbf396row1_col159\" class=\"data row1 col159\" >GBM_grid_1_AutoML_20191022_082706_model_49</td>\n",
       "                        <td id=\"T_31accff6_f4c1_11e9_84d2_008cfafbf396row1_col160\" class=\"data row1 col160\" >GBM_grid_1_AutoML_20191022_082706_model_44</td>\n",
       "                        <td id=\"T_31accff6_f4c1_11e9_84d2_008cfafbf396row1_col161\" class=\"data row1 col161\" >GBM_grid_1_AutoML_20191022_082706_model_22</td>\n",
       "                        <td id=\"T_31accff6_f4c1_11e9_84d2_008cfafbf396row1_col162\" class=\"data row1 col162\" >GBM_grid_1_AutoML_20191022_082706_model_60</td>\n",
       "                        <td id=\"T_31accff6_f4c1_11e9_84d2_008cfafbf396row1_col163\" class=\"data row1 col163\" >GBM_grid_1_AutoML_20191022_082706_model_65</td>\n",
       "                        <td id=\"T_31accff6_f4c1_11e9_84d2_008cfafbf396row1_col164\" class=\"data row1 col164\" >GBM_grid_1_AutoML_20191022_082706_model_36</td>\n",
       "                        <td id=\"T_31accff6_f4c1_11e9_84d2_008cfafbf396row1_col165\" class=\"data row1 col165\" >nan</td>\n",
       "                        <td id=\"T_31accff6_f4c1_11e9_84d2_008cfafbf396row1_col166\" class=\"data row1 col166\" >nan</td>\n",
       "                        <td id=\"T_31accff6_f4c1_11e9_84d2_008cfafbf396row1_col167\" class=\"data row1 col167\" >nan</td>\n",
       "                        <td id=\"T_31accff6_f4c1_11e9_84d2_008cfafbf396row1_col168\" class=\"data row1 col168\" >nan</td>\n",
       "                        <td id=\"T_31accff6_f4c1_11e9_84d2_008cfafbf396row1_col169\" class=\"data row1 col169\" >nan</td>\n",
       "                        <td id=\"T_31accff6_f4c1_11e9_84d2_008cfafbf396row1_col170\" class=\"data row1 col170\" >nan</td>\n",
       "            </tr>\n",
       "            <tr>\n",
       "                                <td id=\"T_31accff6_f4c1_11e9_84d2_008cfafbf396row2_col0\" class=\"data row2 col0\" >24</td>\n",
       "                        <td id=\"T_31accff6_f4c1_11e9_84d2_008cfafbf396row2_col1\" class=\"data row2 col1\" >StackedEnsemble_AllModels_AutoML_20191022_080741</td>\n",
       "                        <td id=\"T_31accff6_f4c1_11e9_84d2_008cfafbf396row2_col2\" class=\"data row2 col2\" >DeepLearning_grid_1_AutoML_20191022_080741_model_2</td>\n",
       "                        <td id=\"T_31accff6_f4c1_11e9_84d2_008cfafbf396row2_col3\" class=\"data row2 col3\" >GBM_grid_1_AutoML_20191022_080741_model_40</td>\n",
       "                        <td id=\"T_31accff6_f4c1_11e9_84d2_008cfafbf396row2_col4\" class=\"data row2 col4\" >GBM_grid_1_AutoML_20191022_080741_model_31</td>\n",
       "                        <td id=\"T_31accff6_f4c1_11e9_84d2_008cfafbf396row2_col5\" class=\"data row2 col5\" >DeepLearning_grid_1_AutoML_20191022_080741_model_9</td>\n",
       "                        <td id=\"T_31accff6_f4c1_11e9_84d2_008cfafbf396row2_col6\" class=\"data row2 col6\" >GBM_grid_1_AutoML_20191022_080741_model_18</td>\n",
       "                        <td id=\"T_31accff6_f4c1_11e9_84d2_008cfafbf396row2_col7\" class=\"data row2 col7\" >DeepLearning_grid_1_AutoML_20191022_080741_model_3</td>\n",
       "                        <td id=\"T_31accff6_f4c1_11e9_84d2_008cfafbf396row2_col8\" class=\"data row2 col8\" >GBM_grid_1_AutoML_20191022_080741_model_39</td>\n",
       "                        <td id=\"T_31accff6_f4c1_11e9_84d2_008cfafbf396row2_col9\" class=\"data row2 col9\" >GBM_grid_1_AutoML_20191022_080741_model_19</td>\n",
       "                        <td id=\"T_31accff6_f4c1_11e9_84d2_008cfafbf396row2_col10\" class=\"data row2 col10\" >GBM_grid_1_AutoML_20191022_080741_model_46</td>\n",
       "                        <td id=\"T_31accff6_f4c1_11e9_84d2_008cfafbf396row2_col11\" class=\"data row2 col11\" >DeepLearning_grid_1_AutoML_20191022_080741_model_4</td>\n",
       "                        <td id=\"T_31accff6_f4c1_11e9_84d2_008cfafbf396row2_col12\" class=\"data row2 col12\" >DeepLearning_grid_1_AutoML_20191022_080741_model_1</td>\n",
       "                        <td id=\"T_31accff6_f4c1_11e9_84d2_008cfafbf396row2_col13\" class=\"data row2 col13\" >DeepLearning_grid_1_AutoML_20191022_080741_model_6</td>\n",
       "                        <td id=\"T_31accff6_f4c1_11e9_84d2_008cfafbf396row2_col14\" class=\"data row2 col14\" >GBM_grid_1_AutoML_20191022_080741_model_41</td>\n",
       "                        <td id=\"T_31accff6_f4c1_11e9_84d2_008cfafbf396row2_col15\" class=\"data row2 col15\" >DeepLearning_grid_1_AutoML_20191022_080741_model_14</td>\n",
       "                        <td id=\"T_31accff6_f4c1_11e9_84d2_008cfafbf396row2_col16\" class=\"data row2 col16\" >XGBoost_grid_1_AutoML_20191022_080741_model_13</td>\n",
       "                        <td id=\"T_31accff6_f4c1_11e9_84d2_008cfafbf396row2_col17\" class=\"data row2 col17\" >DeepLearning_grid_1_AutoML_20191022_080741_model_8</td>\n",
       "                        <td id=\"T_31accff6_f4c1_11e9_84d2_008cfafbf396row2_col18\" class=\"data row2 col18\" >GBM_grid_1_AutoML_20191022_080741_model_15</td>\n",
       "                        <td id=\"T_31accff6_f4c1_11e9_84d2_008cfafbf396row2_col19\" class=\"data row2 col19\" >GBM_grid_1_AutoML_20191022_080741_model_35</td>\n",
       "                        <td id=\"T_31accff6_f4c1_11e9_84d2_008cfafbf396row2_col20\" class=\"data row2 col20\" >GBM_2_AutoML_20191022_080741</td>\n",
       "                        <td id=\"T_31accff6_f4c1_11e9_84d2_008cfafbf396row2_col21\" class=\"data row2 col21\" >GBM_grid_1_AutoML_20191022_080741_model_43</td>\n",
       "                        <td id=\"T_31accff6_f4c1_11e9_84d2_008cfafbf396row2_col22\" class=\"data row2 col22\" >GBM_grid_1_AutoML_20191022_080741_model_55</td>\n",
       "                        <td id=\"T_31accff6_f4c1_11e9_84d2_008cfafbf396row2_col23\" class=\"data row2 col23\" >GBM_grid_1_AutoML_20191022_080741_model_3</td>\n",
       "                        <td id=\"T_31accff6_f4c1_11e9_84d2_008cfafbf396row2_col24\" class=\"data row2 col24\" >GBM_3_AutoML_20191022_080741</td>\n",
       "                        <td id=\"T_31accff6_f4c1_11e9_84d2_008cfafbf396row2_col25\" class=\"data row2 col25\" >GBM_grid_1_AutoML_20191022_080741_model_45</td>\n",
       "                        <td id=\"T_31accff6_f4c1_11e9_84d2_008cfafbf396row2_col26\" class=\"data row2 col26\" >GBM_grid_1_AutoML_20191022_080741_model_32</td>\n",
       "                        <td id=\"T_31accff6_f4c1_11e9_84d2_008cfafbf396row2_col27\" class=\"data row2 col27\" >GBM_grid_1_AutoML_20191022_080741_model_26</td>\n",
       "                        <td id=\"T_31accff6_f4c1_11e9_84d2_008cfafbf396row2_col28\" class=\"data row2 col28\" >GBM_grid_1_AutoML_20191022_080741_model_47</td>\n",
       "                        <td id=\"T_31accff6_f4c1_11e9_84d2_008cfafbf396row2_col29\" class=\"data row2 col29\" >GBM_grid_1_AutoML_20191022_080741_model_6</td>\n",
       "                        <td id=\"T_31accff6_f4c1_11e9_84d2_008cfafbf396row2_col30\" class=\"data row2 col30\" >GBM_grid_1_AutoML_20191022_080741_model_27</td>\n",
       "                        <td id=\"T_31accff6_f4c1_11e9_84d2_008cfafbf396row2_col31\" class=\"data row2 col31\" >GBM_grid_1_AutoML_20191022_080741_model_48</td>\n",
       "                        <td id=\"T_31accff6_f4c1_11e9_84d2_008cfafbf396row2_col32\" class=\"data row2 col32\" >GBM_grid_1_AutoML_20191022_080741_model_20</td>\n",
       "                        <td id=\"T_31accff6_f4c1_11e9_84d2_008cfafbf396row2_col33\" class=\"data row2 col33\" >DeepLearning_grid_1_AutoML_20191022_080741_model_13</td>\n",
       "                        <td id=\"T_31accff6_f4c1_11e9_84d2_008cfafbf396row2_col34\" class=\"data row2 col34\" >GBM_grid_1_AutoML_20191022_080741_model_57</td>\n",
       "                        <td id=\"T_31accff6_f4c1_11e9_84d2_008cfafbf396row2_col35\" class=\"data row2 col35\" >GBM_grid_1_AutoML_20191022_080741_model_59</td>\n",
       "                        <td id=\"T_31accff6_f4c1_11e9_84d2_008cfafbf396row2_col36\" class=\"data row2 col36\" >DeepLearning_grid_1_AutoML_20191022_080741_model_5</td>\n",
       "                        <td id=\"T_31accff6_f4c1_11e9_84d2_008cfafbf396row2_col37\" class=\"data row2 col37\" >GBM_5_AutoML_20191022_080741</td>\n",
       "                        <td id=\"T_31accff6_f4c1_11e9_84d2_008cfafbf396row2_col38\" class=\"data row2 col38\" >GBM_grid_1_AutoML_20191022_080741_model_67</td>\n",
       "                        <td id=\"T_31accff6_f4c1_11e9_84d2_008cfafbf396row2_col39\" class=\"data row2 col39\" >GBM_grid_1_AutoML_20191022_080741_model_63</td>\n",
       "                        <td id=\"T_31accff6_f4c1_11e9_84d2_008cfafbf396row2_col40\" class=\"data row2 col40\" >XGBoost_grid_1_AutoML_20191022_080741_model_33</td>\n",
       "                        <td id=\"T_31accff6_f4c1_11e9_84d2_008cfafbf396row2_col41\" class=\"data row2 col41\" >GBM_grid_1_AutoML_20191022_080741_model_12</td>\n",
       "                        <td id=\"T_31accff6_f4c1_11e9_84d2_008cfafbf396row2_col42\" class=\"data row2 col42\" >GBM_4_AutoML_20191022_080741</td>\n",
       "                        <td id=\"T_31accff6_f4c1_11e9_84d2_008cfafbf396row2_col43\" class=\"data row2 col43\" >XGBoost_grid_1_AutoML_20191022_080741_model_61</td>\n",
       "                        <td id=\"T_31accff6_f4c1_11e9_84d2_008cfafbf396row2_col44\" class=\"data row2 col44\" >GBM_grid_1_AutoML_20191022_080741_model_66</td>\n",
       "                        <td id=\"T_31accff6_f4c1_11e9_84d2_008cfafbf396row2_col45\" class=\"data row2 col45\" >XGBoost_grid_1_AutoML_20191022_080741_model_38</td>\n",
       "                        <td id=\"T_31accff6_f4c1_11e9_84d2_008cfafbf396row2_col46\" class=\"data row2 col46\" >GBM_grid_1_AutoML_20191022_080741_model_56</td>\n",
       "                        <td id=\"T_31accff6_f4c1_11e9_84d2_008cfafbf396row2_col47\" class=\"data row2 col47\" >GLM_grid_1_AutoML_20191022_080741_model_1</td>\n",
       "                        <td id=\"T_31accff6_f4c1_11e9_84d2_008cfafbf396row2_col48\" class=\"data row2 col48\" >XGBoost_grid_1_AutoML_20191022_080741_model_52</td>\n",
       "                        <td id=\"T_31accff6_f4c1_11e9_84d2_008cfafbf396row2_col49\" class=\"data row2 col49\" >GBM_grid_1_AutoML_20191022_080741_model_17</td>\n",
       "                        <td id=\"T_31accff6_f4c1_11e9_84d2_008cfafbf396row2_col50\" class=\"data row2 col50\" >XGBoost_grid_1_AutoML_20191022_080741_model_35</td>\n",
       "                        <td id=\"T_31accff6_f4c1_11e9_84d2_008cfafbf396row2_col51\" class=\"data row2 col51\" >XGBoost_grid_1_AutoML_20191022_080741_model_55</td>\n",
       "                        <td id=\"T_31accff6_f4c1_11e9_84d2_008cfafbf396row2_col52\" class=\"data row2 col52\" >XGBoost_grid_1_AutoML_20191022_080741_model_46</td>\n",
       "                        <td id=\"T_31accff6_f4c1_11e9_84d2_008cfafbf396row2_col53\" class=\"data row2 col53\" >GBM_grid_1_AutoML_20191022_080741_model_62</td>\n",
       "                        <td id=\"T_31accff6_f4c1_11e9_84d2_008cfafbf396row2_col54\" class=\"data row2 col54\" >XRT_1_AutoML_20191022_080741</td>\n",
       "                        <td id=\"T_31accff6_f4c1_11e9_84d2_008cfafbf396row2_col55\" class=\"data row2 col55\" >GBM_grid_1_AutoML_20191022_080741_model_1</td>\n",
       "                        <td id=\"T_31accff6_f4c1_11e9_84d2_008cfafbf396row2_col56\" class=\"data row2 col56\" >GBM_grid_1_AutoML_20191022_080741_model_10</td>\n",
       "                        <td id=\"T_31accff6_f4c1_11e9_84d2_008cfafbf396row2_col57\" class=\"data row2 col57\" >XGBoost_grid_1_AutoML_20191022_080741_model_8</td>\n",
       "                        <td id=\"T_31accff6_f4c1_11e9_84d2_008cfafbf396row2_col58\" class=\"data row2 col58\" >XGBoost_grid_1_AutoML_20191022_080741_model_45</td>\n",
       "                        <td id=\"T_31accff6_f4c1_11e9_84d2_008cfafbf396row2_col59\" class=\"data row2 col59\" >GBM_1_AutoML_20191022_080741</td>\n",
       "                        <td id=\"T_31accff6_f4c1_11e9_84d2_008cfafbf396row2_col60\" class=\"data row2 col60\" >GBM_grid_1_AutoML_20191022_080741_model_14</td>\n",
       "                        <td id=\"T_31accff6_f4c1_11e9_84d2_008cfafbf396row2_col61\" class=\"data row2 col61\" >GBM_grid_1_AutoML_20191022_080741_model_42</td>\n",
       "                        <td id=\"T_31accff6_f4c1_11e9_84d2_008cfafbf396row2_col62\" class=\"data row2 col62\" >XGBoost_grid_1_AutoML_20191022_080741_model_48</td>\n",
       "                        <td id=\"T_31accff6_f4c1_11e9_84d2_008cfafbf396row2_col63\" class=\"data row2 col63\" >GBM_grid_1_AutoML_20191022_080741_model_11</td>\n",
       "                        <td id=\"T_31accff6_f4c1_11e9_84d2_008cfafbf396row2_col64\" class=\"data row2 col64\" >XGBoost_grid_1_AutoML_20191022_080741_model_30</td>\n",
       "                        <td id=\"T_31accff6_f4c1_11e9_84d2_008cfafbf396row2_col65\" class=\"data row2 col65\" >GBM_grid_1_AutoML_20191022_080741_model_16</td>\n",
       "                        <td id=\"T_31accff6_f4c1_11e9_84d2_008cfafbf396row2_col66\" class=\"data row2 col66\" >GBM_grid_1_AutoML_20191022_080741_model_24</td>\n",
       "                        <td id=\"T_31accff6_f4c1_11e9_84d2_008cfafbf396row2_col67\" class=\"data row2 col67\" >DRF_1_AutoML_20191022_080741</td>\n",
       "                        <td id=\"T_31accff6_f4c1_11e9_84d2_008cfafbf396row2_col68\" class=\"data row2 col68\" >XGBoost_grid_1_AutoML_20191022_080741_model_17</td>\n",
       "                        <td id=\"T_31accff6_f4c1_11e9_84d2_008cfafbf396row2_col69\" class=\"data row2 col69\" >DeepLearning_grid_1_AutoML_20191022_080741_model_17</td>\n",
       "                        <td id=\"T_31accff6_f4c1_11e9_84d2_008cfafbf396row2_col70\" class=\"data row2 col70\" >GBM_grid_1_AutoML_20191022_080741_model_54</td>\n",
       "                        <td id=\"T_31accff6_f4c1_11e9_84d2_008cfafbf396row2_col71\" class=\"data row2 col71\" >GBM_grid_1_AutoML_20191022_080741_model_13</td>\n",
       "                        <td id=\"T_31accff6_f4c1_11e9_84d2_008cfafbf396row2_col72\" class=\"data row2 col72\" >GBM_grid_1_AutoML_20191022_080741_model_58</td>\n",
       "                        <td id=\"T_31accff6_f4c1_11e9_84d2_008cfafbf396row2_col73\" class=\"data row2 col73\" >XGBoost_3_AutoML_20191022_080741</td>\n",
       "                        <td id=\"T_31accff6_f4c1_11e9_84d2_008cfafbf396row2_col74\" class=\"data row2 col74\" >XGBoost_grid_1_AutoML_20191022_080741_model_49</td>\n",
       "                        <td id=\"T_31accff6_f4c1_11e9_84d2_008cfafbf396row2_col75\" class=\"data row2 col75\" >GBM_grid_1_AutoML_20191022_080741_model_52</td>\n",
       "                        <td id=\"T_31accff6_f4c1_11e9_84d2_008cfafbf396row2_col76\" class=\"data row2 col76\" >XGBoost_grid_1_AutoML_20191022_080741_model_37</td>\n",
       "                        <td id=\"T_31accff6_f4c1_11e9_84d2_008cfafbf396row2_col77\" class=\"data row2 col77\" >DeepLearning_grid_1_AutoML_20191022_080741_model_10</td>\n",
       "                        <td id=\"T_31accff6_f4c1_11e9_84d2_008cfafbf396row2_col78\" class=\"data row2 col78\" >XGBoost_1_AutoML_20191022_080741</td>\n",
       "                        <td id=\"T_31accff6_f4c1_11e9_84d2_008cfafbf396row2_col79\" class=\"data row2 col79\" >XGBoost_grid_1_AutoML_20191022_080741_model_25</td>\n",
       "                        <td id=\"T_31accff6_f4c1_11e9_84d2_008cfafbf396row2_col80\" class=\"data row2 col80\" >GBM_grid_1_AutoML_20191022_080741_model_53</td>\n",
       "                        <td id=\"T_31accff6_f4c1_11e9_84d2_008cfafbf396row2_col81\" class=\"data row2 col81\" >XGBoost_grid_1_AutoML_20191022_080741_model_62</td>\n",
       "                        <td id=\"T_31accff6_f4c1_11e9_84d2_008cfafbf396row2_col82\" class=\"data row2 col82\" >XGBoost_grid_1_AutoML_20191022_080741_model_57</td>\n",
       "                        <td id=\"T_31accff6_f4c1_11e9_84d2_008cfafbf396row2_col83\" class=\"data row2 col83\" >XGBoost_grid_1_AutoML_20191022_080741_model_21</td>\n",
       "                        <td id=\"T_31accff6_f4c1_11e9_84d2_008cfafbf396row2_col84\" class=\"data row2 col84\" >GBM_grid_1_AutoML_20191022_080741_model_70</td>\n",
       "                        <td id=\"T_31accff6_f4c1_11e9_84d2_008cfafbf396row2_col85\" class=\"data row2 col85\" >XGBoost_grid_1_AutoML_20191022_080741_model_18</td>\n",
       "                        <td id=\"T_31accff6_f4c1_11e9_84d2_008cfafbf396row2_col86\" class=\"data row2 col86\" >XGBoost_grid_1_AutoML_20191022_080741_model_26</td>\n",
       "                        <td id=\"T_31accff6_f4c1_11e9_84d2_008cfafbf396row2_col87\" class=\"data row2 col87\" >XGBoost_grid_1_AutoML_20191022_080741_model_47</td>\n",
       "                        <td id=\"T_31accff6_f4c1_11e9_84d2_008cfafbf396row2_col88\" class=\"data row2 col88\" >XGBoost_grid_1_AutoML_20191022_080741_model_15</td>\n",
       "                        <td id=\"T_31accff6_f4c1_11e9_84d2_008cfafbf396row2_col89\" class=\"data row2 col89\" >GBM_grid_1_AutoML_20191022_080741_model_8</td>\n",
       "                        <td id=\"T_31accff6_f4c1_11e9_84d2_008cfafbf396row2_col90\" class=\"data row2 col90\" >DeepLearning_grid_1_AutoML_20191022_080741_model_18</td>\n",
       "                        <td id=\"T_31accff6_f4c1_11e9_84d2_008cfafbf396row2_col91\" class=\"data row2 col91\" >GBM_grid_1_AutoML_20191022_080741_model_9</td>\n",
       "                        <td id=\"T_31accff6_f4c1_11e9_84d2_008cfafbf396row2_col92\" class=\"data row2 col92\" >XGBoost_grid_1_AutoML_20191022_080741_model_20</td>\n",
       "                        <td id=\"T_31accff6_f4c1_11e9_84d2_008cfafbf396row2_col93\" class=\"data row2 col93\" >XGBoost_grid_1_AutoML_20191022_080741_model_36</td>\n",
       "                        <td id=\"T_31accff6_f4c1_11e9_84d2_008cfafbf396row2_col94\" class=\"data row2 col94\" >XGBoost_grid_1_AutoML_20191022_080741_model_27</td>\n",
       "                        <td id=\"T_31accff6_f4c1_11e9_84d2_008cfafbf396row2_col95\" class=\"data row2 col95\" >XGBoost_grid_1_AutoML_20191022_080741_model_34</td>\n",
       "                        <td id=\"T_31accff6_f4c1_11e9_84d2_008cfafbf396row2_col96\" class=\"data row2 col96\" >XGBoost_grid_1_AutoML_20191022_080741_model_4</td>\n",
       "                        <td id=\"T_31accff6_f4c1_11e9_84d2_008cfafbf396row2_col97\" class=\"data row2 col97\" >XGBoost_grid_1_AutoML_20191022_080741_model_31</td>\n",
       "                        <td id=\"T_31accff6_f4c1_11e9_84d2_008cfafbf396row2_col98\" class=\"data row2 col98\" >GBM_grid_1_AutoML_20191022_080741_model_68</td>\n",
       "                        <td id=\"T_31accff6_f4c1_11e9_84d2_008cfafbf396row2_col99\" class=\"data row2 col99\" >XGBoost_grid_1_AutoML_20191022_080741_model_2</td>\n",
       "                        <td id=\"T_31accff6_f4c1_11e9_84d2_008cfafbf396row2_col100\" class=\"data row2 col100\" >DeepLearning_grid_1_AutoML_20191022_080741_model_16</td>\n",
       "                        <td id=\"T_31accff6_f4c1_11e9_84d2_008cfafbf396row2_col101\" class=\"data row2 col101\" >GBM_grid_1_AutoML_20191022_080741_model_29</td>\n",
       "                        <td id=\"T_31accff6_f4c1_11e9_84d2_008cfafbf396row2_col102\" class=\"data row2 col102\" >XGBoost_grid_1_AutoML_20191022_080741_model_41</td>\n",
       "                        <td id=\"T_31accff6_f4c1_11e9_84d2_008cfafbf396row2_col103\" class=\"data row2 col103\" >XGBoost_grid_1_AutoML_20191022_080741_model_50</td>\n",
       "                        <td id=\"T_31accff6_f4c1_11e9_84d2_008cfafbf396row2_col104\" class=\"data row2 col104\" >XGBoost_grid_1_AutoML_20191022_080741_model_29</td>\n",
       "                        <td id=\"T_31accff6_f4c1_11e9_84d2_008cfafbf396row2_col105\" class=\"data row2 col105\" >GBM_grid_1_AutoML_20191022_080741_model_28</td>\n",
       "                        <td id=\"T_31accff6_f4c1_11e9_84d2_008cfafbf396row2_col106\" class=\"data row2 col106\" >DeepLearning_grid_1_AutoML_20191022_080741_model_15</td>\n",
       "                        <td id=\"T_31accff6_f4c1_11e9_84d2_008cfafbf396row2_col107\" class=\"data row2 col107\" >XGBoost_grid_1_AutoML_20191022_080741_model_28</td>\n",
       "                        <td id=\"T_31accff6_f4c1_11e9_84d2_008cfafbf396row2_col108\" class=\"data row2 col108\" >XGBoost_grid_1_AutoML_20191022_080741_model_3</td>\n",
       "                        <td id=\"T_31accff6_f4c1_11e9_84d2_008cfafbf396row2_col109\" class=\"data row2 col109\" >XGBoost_grid_1_AutoML_20191022_080741_model_32</td>\n",
       "                        <td id=\"T_31accff6_f4c1_11e9_84d2_008cfafbf396row2_col110\" class=\"data row2 col110\" >XGBoost_grid_1_AutoML_20191022_080741_model_59</td>\n",
       "                        <td id=\"T_31accff6_f4c1_11e9_84d2_008cfafbf396row2_col111\" class=\"data row2 col111\" >DeepLearning_grid_1_AutoML_20191022_080741_model_11</td>\n",
       "                        <td id=\"T_31accff6_f4c1_11e9_84d2_008cfafbf396row2_col112\" class=\"data row2 col112\" >DeepLearning_grid_1_AutoML_20191022_080741_model_12</td>\n",
       "                        <td id=\"T_31accff6_f4c1_11e9_84d2_008cfafbf396row2_col113\" class=\"data row2 col113\" >GBM_grid_1_AutoML_20191022_080741_model_72</td>\n",
       "                        <td id=\"T_31accff6_f4c1_11e9_84d2_008cfafbf396row2_col114\" class=\"data row2 col114\" >XGBoost_grid_1_AutoML_20191022_080741_model_23</td>\n",
       "                        <td id=\"T_31accff6_f4c1_11e9_84d2_008cfafbf396row2_col115\" class=\"data row2 col115\" >XGBoost_grid_1_AutoML_20191022_080741_model_7</td>\n",
       "                        <td id=\"T_31accff6_f4c1_11e9_84d2_008cfafbf396row2_col116\" class=\"data row2 col116\" >XGBoost_grid_1_AutoML_20191022_080741_model_19</td>\n",
       "                        <td id=\"T_31accff6_f4c1_11e9_84d2_008cfafbf396row2_col117\" class=\"data row2 col117\" >XGBoost_grid_1_AutoML_20191022_080741_model_53</td>\n",
       "                        <td id=\"T_31accff6_f4c1_11e9_84d2_008cfafbf396row2_col118\" class=\"data row2 col118\" >GBM_grid_1_AutoML_20191022_080741_model_25</td>\n",
       "                        <td id=\"T_31accff6_f4c1_11e9_84d2_008cfafbf396row2_col119\" class=\"data row2 col119\" >GBM_grid_1_AutoML_20191022_080741_model_21</td>\n",
       "                        <td id=\"T_31accff6_f4c1_11e9_84d2_008cfafbf396row2_col120\" class=\"data row2 col120\" >XGBoost_2_AutoML_20191022_080741</td>\n",
       "                        <td id=\"T_31accff6_f4c1_11e9_84d2_008cfafbf396row2_col121\" class=\"data row2 col121\" >GBM_grid_1_AutoML_20191022_080741_model_30</td>\n",
       "                        <td id=\"T_31accff6_f4c1_11e9_84d2_008cfafbf396row2_col122\" class=\"data row2 col122\" >GBM_grid_1_AutoML_20191022_080741_model_7</td>\n",
       "                        <td id=\"T_31accff6_f4c1_11e9_84d2_008cfafbf396row2_col123\" class=\"data row2 col123\" >GBM_grid_1_AutoML_20191022_080741_model_23</td>\n",
       "                        <td id=\"T_31accff6_f4c1_11e9_84d2_008cfafbf396row2_col124\" class=\"data row2 col124\" >GBM_grid_1_AutoML_20191022_080741_model_38</td>\n",
       "                        <td id=\"T_31accff6_f4c1_11e9_84d2_008cfafbf396row2_col125\" class=\"data row2 col125\" >XGBoost_grid_1_AutoML_20191022_080741_model_42</td>\n",
       "                        <td id=\"T_31accff6_f4c1_11e9_84d2_008cfafbf396row2_col126\" class=\"data row2 col126\" >XGBoost_grid_1_AutoML_20191022_080741_model_56</td>\n",
       "                        <td id=\"T_31accff6_f4c1_11e9_84d2_008cfafbf396row2_col127\" class=\"data row2 col127\" >XGBoost_grid_1_AutoML_20191022_080741_model_5</td>\n",
       "                        <td id=\"T_31accff6_f4c1_11e9_84d2_008cfafbf396row2_col128\" class=\"data row2 col128\" >XGBoost_grid_1_AutoML_20191022_080741_model_22</td>\n",
       "                        <td id=\"T_31accff6_f4c1_11e9_84d2_008cfafbf396row2_col129\" class=\"data row2 col129\" >XGBoost_grid_1_AutoML_20191022_080741_model_44</td>\n",
       "                        <td id=\"T_31accff6_f4c1_11e9_84d2_008cfafbf396row2_col130\" class=\"data row2 col130\" >DeepLearning_grid_1_AutoML_20191022_080741_model_7</td>\n",
       "                        <td id=\"T_31accff6_f4c1_11e9_84d2_008cfafbf396row2_col131\" class=\"data row2 col131\" >GBM_grid_1_AutoML_20191022_080741_model_33</td>\n",
       "                        <td id=\"T_31accff6_f4c1_11e9_84d2_008cfafbf396row2_col132\" class=\"data row2 col132\" >XGBoost_grid_1_AutoML_20191022_080741_model_58</td>\n",
       "                        <td id=\"T_31accff6_f4c1_11e9_84d2_008cfafbf396row2_col133\" class=\"data row2 col133\" >XGBoost_grid_1_AutoML_20191022_080741_model_63</td>\n",
       "                        <td id=\"T_31accff6_f4c1_11e9_84d2_008cfafbf396row2_col134\" class=\"data row2 col134\" >XGBoost_grid_1_AutoML_20191022_080741_model_54</td>\n",
       "                        <td id=\"T_31accff6_f4c1_11e9_84d2_008cfafbf396row2_col135\" class=\"data row2 col135\" >XGBoost_grid_1_AutoML_20191022_080741_model_39</td>\n",
       "                        <td id=\"T_31accff6_f4c1_11e9_84d2_008cfafbf396row2_col136\" class=\"data row2 col136\" >XGBoost_grid_1_AutoML_20191022_080741_model_12</td>\n",
       "                        <td id=\"T_31accff6_f4c1_11e9_84d2_008cfafbf396row2_col137\" class=\"data row2 col137\" >XGBoost_grid_1_AutoML_20191022_080741_model_43</td>\n",
       "                        <td id=\"T_31accff6_f4c1_11e9_84d2_008cfafbf396row2_col138\" class=\"data row2 col138\" >GBM_grid_1_AutoML_20191022_080741_model_5</td>\n",
       "                        <td id=\"T_31accff6_f4c1_11e9_84d2_008cfafbf396row2_col139\" class=\"data row2 col139\" >XGBoost_grid_1_AutoML_20191022_080741_model_11</td>\n",
       "                        <td id=\"T_31accff6_f4c1_11e9_84d2_008cfafbf396row2_col140\" class=\"data row2 col140\" >XGBoost_grid_1_AutoML_20191022_080741_model_6</td>\n",
       "                        <td id=\"T_31accff6_f4c1_11e9_84d2_008cfafbf396row2_col141\" class=\"data row2 col141\" >XGBoost_grid_1_AutoML_20191022_080741_model_1</td>\n",
       "                        <td id=\"T_31accff6_f4c1_11e9_84d2_008cfafbf396row2_col142\" class=\"data row2 col142\" >GBM_grid_1_AutoML_20191022_080741_model_37</td>\n",
       "                        <td id=\"T_31accff6_f4c1_11e9_84d2_008cfafbf396row2_col143\" class=\"data row2 col143\" >XGBoost_grid_1_AutoML_20191022_080741_model_40</td>\n",
       "                        <td id=\"T_31accff6_f4c1_11e9_84d2_008cfafbf396row2_col144\" class=\"data row2 col144\" >GBM_grid_1_AutoML_20191022_080741_model_61</td>\n",
       "                        <td id=\"T_31accff6_f4c1_11e9_84d2_008cfafbf396row2_col145\" class=\"data row2 col145\" >XGBoost_grid_1_AutoML_20191022_080741_model_14</td>\n",
       "                        <td id=\"T_31accff6_f4c1_11e9_84d2_008cfafbf396row2_col146\" class=\"data row2 col146\" >XGBoost_grid_1_AutoML_20191022_080741_model_60</td>\n",
       "                        <td id=\"T_31accff6_f4c1_11e9_84d2_008cfafbf396row2_col147\" class=\"data row2 col147\" >XGBoost_grid_1_AutoML_20191022_080741_model_24</td>\n",
       "                        <td id=\"T_31accff6_f4c1_11e9_84d2_008cfafbf396row2_col148\" class=\"data row2 col148\" >XGBoost_grid_1_AutoML_20191022_080741_model_10</td>\n",
       "                        <td id=\"T_31accff6_f4c1_11e9_84d2_008cfafbf396row2_col149\" class=\"data row2 col149\" >GBM_grid_1_AutoML_20191022_080741_model_4</td>\n",
       "                        <td id=\"T_31accff6_f4c1_11e9_84d2_008cfafbf396row2_col150\" class=\"data row2 col150\" >XGBoost_grid_1_AutoML_20191022_080741_model_64</td>\n",
       "                        <td id=\"T_31accff6_f4c1_11e9_84d2_008cfafbf396row2_col151\" class=\"data row2 col151\" >GBM_grid_1_AutoML_20191022_080741_model_69</td>\n",
       "                        <td id=\"T_31accff6_f4c1_11e9_84d2_008cfafbf396row2_col152\" class=\"data row2 col152\" >GBM_grid_1_AutoML_20191022_080741_model_73</td>\n",
       "                        <td id=\"T_31accff6_f4c1_11e9_84d2_008cfafbf396row2_col153\" class=\"data row2 col153\" >XGBoost_grid_1_AutoML_20191022_080741_model_16</td>\n",
       "                        <td id=\"T_31accff6_f4c1_11e9_84d2_008cfafbf396row2_col154\" class=\"data row2 col154\" >GBM_grid_1_AutoML_20191022_080741_model_71</td>\n",
       "                        <td id=\"T_31accff6_f4c1_11e9_84d2_008cfafbf396row2_col155\" class=\"data row2 col155\" >XGBoost_grid_1_AutoML_20191022_080741_model_51</td>\n",
       "                        <td id=\"T_31accff6_f4c1_11e9_84d2_008cfafbf396row2_col156\" class=\"data row2 col156\" >XGBoost_grid_1_AutoML_20191022_080741_model_65</td>\n",
       "                        <td id=\"T_31accff6_f4c1_11e9_84d2_008cfafbf396row2_col157\" class=\"data row2 col157\" >XGBoost_grid_1_AutoML_20191022_080741_model_9</td>\n",
       "                        <td id=\"T_31accff6_f4c1_11e9_84d2_008cfafbf396row2_col158\" class=\"data row2 col158\" >GBM_grid_1_AutoML_20191022_080741_model_34</td>\n",
       "                        <td id=\"T_31accff6_f4c1_11e9_84d2_008cfafbf396row2_col159\" class=\"data row2 col159\" >GBM_grid_1_AutoML_20191022_080741_model_50</td>\n",
       "                        <td id=\"T_31accff6_f4c1_11e9_84d2_008cfafbf396row2_col160\" class=\"data row2 col160\" >GBM_grid_1_AutoML_20191022_080741_model_51</td>\n",
       "                        <td id=\"T_31accff6_f4c1_11e9_84d2_008cfafbf396row2_col161\" class=\"data row2 col161\" >DeepLearning_1_AutoML_20191022_080741</td>\n",
       "                        <td id=\"T_31accff6_f4c1_11e9_84d2_008cfafbf396row2_col162\" class=\"data row2 col162\" >GBM_grid_1_AutoML_20191022_080741_model_2</td>\n",
       "                        <td id=\"T_31accff6_f4c1_11e9_84d2_008cfafbf396row2_col163\" class=\"data row2 col163\" >GBM_grid_1_AutoML_20191022_080741_model_64</td>\n",
       "                        <td id=\"T_31accff6_f4c1_11e9_84d2_008cfafbf396row2_col164\" class=\"data row2 col164\" >GBM_grid_1_AutoML_20191022_080741_model_49</td>\n",
       "                        <td id=\"T_31accff6_f4c1_11e9_84d2_008cfafbf396row2_col165\" class=\"data row2 col165\" >GBM_grid_1_AutoML_20191022_080741_model_44</td>\n",
       "                        <td id=\"T_31accff6_f4c1_11e9_84d2_008cfafbf396row2_col166\" class=\"data row2 col166\" >GBM_grid_1_AutoML_20191022_080741_model_74</td>\n",
       "                        <td id=\"T_31accff6_f4c1_11e9_84d2_008cfafbf396row2_col167\" class=\"data row2 col167\" >GBM_grid_1_AutoML_20191022_080741_model_22</td>\n",
       "                        <td id=\"T_31accff6_f4c1_11e9_84d2_008cfafbf396row2_col168\" class=\"data row2 col168\" >GBM_grid_1_AutoML_20191022_080741_model_60</td>\n",
       "                        <td id=\"T_31accff6_f4c1_11e9_84d2_008cfafbf396row2_col169\" class=\"data row2 col169\" >GBM_grid_1_AutoML_20191022_080741_model_65</td>\n",
       "                        <td id=\"T_31accff6_f4c1_11e9_84d2_008cfafbf396row2_col170\" class=\"data row2 col170\" >GBM_grid_1_AutoML_20191022_080741_model_36</td>\n",
       "            </tr>\n",
       "            <tr>\n",
       "                                <td id=\"T_31accff6_f4c1_11e9_84d2_008cfafbf396row3_col0\" class=\"data row3 col0\" >36</td>\n",
       "                        <td id=\"T_31accff6_f4c1_11e9_84d2_008cfafbf396row3_col1\" class=\"data row3 col1\" >StackedEnsemble_AllModels_AutoML_20191022_080726</td>\n",
       "                        <td id=\"T_31accff6_f4c1_11e9_84d2_008cfafbf396row3_col2\" class=\"data row3 col2\" >DeepLearning_grid_1_AutoML_20191022_080726_model_2</td>\n",
       "                        <td id=\"T_31accff6_f4c1_11e9_84d2_008cfafbf396row3_col3\" class=\"data row3 col3\" >DeepLearning_grid_1_AutoML_20191022_080726_model_8</td>\n",
       "                        <td id=\"T_31accff6_f4c1_11e9_84d2_008cfafbf396row3_col4\" class=\"data row3 col4\" >DeepLearning_grid_1_AutoML_20191022_080726_model_12</td>\n",
       "                        <td id=\"T_31accff6_f4c1_11e9_84d2_008cfafbf396row3_col5\" class=\"data row3 col5\" >GBM_grid_1_AutoML_20191022_080726_model_40</td>\n",
       "                        <td id=\"T_31accff6_f4c1_11e9_84d2_008cfafbf396row3_col6\" class=\"data row3 col6\" >GBM_grid_1_AutoML_20191022_080726_model_31</td>\n",
       "                        <td id=\"T_31accff6_f4c1_11e9_84d2_008cfafbf396row3_col7\" class=\"data row3 col7\" >GBM_grid_1_AutoML_20191022_080726_model_18</td>\n",
       "                        <td id=\"T_31accff6_f4c1_11e9_84d2_008cfafbf396row3_col8\" class=\"data row3 col8\" >GBM_grid_1_AutoML_20191022_080726_model_39</td>\n",
       "                        <td id=\"T_31accff6_f4c1_11e9_84d2_008cfafbf396row3_col9\" class=\"data row3 col9\" >GBM_grid_1_AutoML_20191022_080726_model_19</td>\n",
       "                        <td id=\"T_31accff6_f4c1_11e9_84d2_008cfafbf396row3_col10\" class=\"data row3 col10\" >DeepLearning_grid_1_AutoML_20191022_080726_model_1</td>\n",
       "                        <td id=\"T_31accff6_f4c1_11e9_84d2_008cfafbf396row3_col11\" class=\"data row3 col11\" >GBM_grid_1_AutoML_20191022_080726_model_46</td>\n",
       "                        <td id=\"T_31accff6_f4c1_11e9_84d2_008cfafbf396row3_col12\" class=\"data row3 col12\" >GBM_grid_1_AutoML_20191022_080726_model_41</td>\n",
       "                        <td id=\"T_31accff6_f4c1_11e9_84d2_008cfafbf396row3_col13\" class=\"data row3 col13\" >DeepLearning_grid_1_AutoML_20191022_080726_model_7</td>\n",
       "                        <td id=\"T_31accff6_f4c1_11e9_84d2_008cfafbf396row3_col14\" class=\"data row3 col14\" >XGBoost_grid_1_AutoML_20191022_080726_model_13</td>\n",
       "                        <td id=\"T_31accff6_f4c1_11e9_84d2_008cfafbf396row3_col15\" class=\"data row3 col15\" >GBM_grid_1_AutoML_20191022_080726_model_15</td>\n",
       "                        <td id=\"T_31accff6_f4c1_11e9_84d2_008cfafbf396row3_col16\" class=\"data row3 col16\" >GBM_grid_1_AutoML_20191022_080726_model_35</td>\n",
       "                        <td id=\"T_31accff6_f4c1_11e9_84d2_008cfafbf396row3_col17\" class=\"data row3 col17\" >GBM_2_AutoML_20191022_080726</td>\n",
       "                        <td id=\"T_31accff6_f4c1_11e9_84d2_008cfafbf396row3_col18\" class=\"data row3 col18\" >DeepLearning_grid_1_AutoML_20191022_080726_model_3</td>\n",
       "                        <td id=\"T_31accff6_f4c1_11e9_84d2_008cfafbf396row3_col19\" class=\"data row3 col19\" >GBM_grid_1_AutoML_20191022_080726_model_43</td>\n",
       "                        <td id=\"T_31accff6_f4c1_11e9_84d2_008cfafbf396row3_col20\" class=\"data row3 col20\" >GBM_grid_1_AutoML_20191022_080726_model_55</td>\n",
       "                        <td id=\"T_31accff6_f4c1_11e9_84d2_008cfafbf396row3_col21\" class=\"data row3 col21\" >GBM_grid_1_AutoML_20191022_080726_model_3</td>\n",
       "                        <td id=\"T_31accff6_f4c1_11e9_84d2_008cfafbf396row3_col22\" class=\"data row3 col22\" >GBM_3_AutoML_20191022_080726</td>\n",
       "                        <td id=\"T_31accff6_f4c1_11e9_84d2_008cfafbf396row3_col23\" class=\"data row3 col23\" >GBM_grid_1_AutoML_20191022_080726_model_45</td>\n",
       "                        <td id=\"T_31accff6_f4c1_11e9_84d2_008cfafbf396row3_col24\" class=\"data row3 col24\" >GBM_grid_1_AutoML_20191022_080726_model_32</td>\n",
       "                        <td id=\"T_31accff6_f4c1_11e9_84d2_008cfafbf396row3_col25\" class=\"data row3 col25\" >GBM_grid_1_AutoML_20191022_080726_model_26</td>\n",
       "                        <td id=\"T_31accff6_f4c1_11e9_84d2_008cfafbf396row3_col26\" class=\"data row3 col26\" >GBM_grid_1_AutoML_20191022_080726_model_47</td>\n",
       "                        <td id=\"T_31accff6_f4c1_11e9_84d2_008cfafbf396row3_col27\" class=\"data row3 col27\" >DeepLearning_grid_1_AutoML_20191022_080726_model_11</td>\n",
       "                        <td id=\"T_31accff6_f4c1_11e9_84d2_008cfafbf396row3_col28\" class=\"data row3 col28\" >GBM_grid_1_AutoML_20191022_080726_model_6</td>\n",
       "                        <td id=\"T_31accff6_f4c1_11e9_84d2_008cfafbf396row3_col29\" class=\"data row3 col29\" >GBM_grid_1_AutoML_20191022_080726_model_27</td>\n",
       "                        <td id=\"T_31accff6_f4c1_11e9_84d2_008cfafbf396row3_col30\" class=\"data row3 col30\" >GBM_grid_1_AutoML_20191022_080726_model_48</td>\n",
       "                        <td id=\"T_31accff6_f4c1_11e9_84d2_008cfafbf396row3_col31\" class=\"data row3 col31\" >GBM_grid_1_AutoML_20191022_080726_model_20</td>\n",
       "                        <td id=\"T_31accff6_f4c1_11e9_84d2_008cfafbf396row3_col32\" class=\"data row3 col32\" >GBM_grid_1_AutoML_20191022_080726_model_57</td>\n",
       "                        <td id=\"T_31accff6_f4c1_11e9_84d2_008cfafbf396row3_col33\" class=\"data row3 col33\" >GBM_grid_1_AutoML_20191022_080726_model_59</td>\n",
       "                        <td id=\"T_31accff6_f4c1_11e9_84d2_008cfafbf396row3_col34\" class=\"data row3 col34\" >GBM_5_AutoML_20191022_080726</td>\n",
       "                        <td id=\"T_31accff6_f4c1_11e9_84d2_008cfafbf396row3_col35\" class=\"data row3 col35\" >GBM_grid_1_AutoML_20191022_080726_model_63</td>\n",
       "                        <td id=\"T_31accff6_f4c1_11e9_84d2_008cfafbf396row3_col36\" class=\"data row3 col36\" >XGBoost_grid_1_AutoML_20191022_080726_model_33</td>\n",
       "                        <td id=\"T_31accff6_f4c1_11e9_84d2_008cfafbf396row3_col37\" class=\"data row3 col37\" >GBM_grid_1_AutoML_20191022_080726_model_12</td>\n",
       "                        <td id=\"T_31accff6_f4c1_11e9_84d2_008cfafbf396row3_col38\" class=\"data row3 col38\" >GBM_grid_1_AutoML_20191022_080726_model_67</td>\n",
       "                        <td id=\"T_31accff6_f4c1_11e9_84d2_008cfafbf396row3_col39\" class=\"data row3 col39\" >GBM_4_AutoML_20191022_080726</td>\n",
       "                        <td id=\"T_31accff6_f4c1_11e9_84d2_008cfafbf396row3_col40\" class=\"data row3 col40\" >XGBoost_grid_1_AutoML_20191022_080726_model_61</td>\n",
       "                        <td id=\"T_31accff6_f4c1_11e9_84d2_008cfafbf396row3_col41\" class=\"data row3 col41\" >GBM_grid_1_AutoML_20191022_080726_model_66</td>\n",
       "                        <td id=\"T_31accff6_f4c1_11e9_84d2_008cfafbf396row3_col42\" class=\"data row3 col42\" >XGBoost_grid_1_AutoML_20191022_080726_model_38</td>\n",
       "                        <td id=\"T_31accff6_f4c1_11e9_84d2_008cfafbf396row3_col43\" class=\"data row3 col43\" >GBM_grid_1_AutoML_20191022_080726_model_56</td>\n",
       "                        <td id=\"T_31accff6_f4c1_11e9_84d2_008cfafbf396row3_col44\" class=\"data row3 col44\" >GLM_grid_1_AutoML_20191022_080726_model_1</td>\n",
       "                        <td id=\"T_31accff6_f4c1_11e9_84d2_008cfafbf396row3_col45\" class=\"data row3 col45\" >XGBoost_grid_1_AutoML_20191022_080726_model_52</td>\n",
       "                        <td id=\"T_31accff6_f4c1_11e9_84d2_008cfafbf396row3_col46\" class=\"data row3 col46\" >GBM_grid_1_AutoML_20191022_080726_model_17</td>\n",
       "                        <td id=\"T_31accff6_f4c1_11e9_84d2_008cfafbf396row3_col47\" class=\"data row3 col47\" >XGBoost_grid_1_AutoML_20191022_080726_model_35</td>\n",
       "                        <td id=\"T_31accff6_f4c1_11e9_84d2_008cfafbf396row3_col48\" class=\"data row3 col48\" >XGBoost_grid_1_AutoML_20191022_080726_model_55</td>\n",
       "                        <td id=\"T_31accff6_f4c1_11e9_84d2_008cfafbf396row3_col49\" class=\"data row3 col49\" >XGBoost_grid_1_AutoML_20191022_080726_model_46</td>\n",
       "                        <td id=\"T_31accff6_f4c1_11e9_84d2_008cfafbf396row3_col50\" class=\"data row3 col50\" >GBM_grid_1_AutoML_20191022_080726_model_62</td>\n",
       "                        <td id=\"T_31accff6_f4c1_11e9_84d2_008cfafbf396row3_col51\" class=\"data row3 col51\" >XRT_1_AutoML_20191022_080726</td>\n",
       "                        <td id=\"T_31accff6_f4c1_11e9_84d2_008cfafbf396row3_col52\" class=\"data row3 col52\" >GBM_grid_1_AutoML_20191022_080726_model_1</td>\n",
       "                        <td id=\"T_31accff6_f4c1_11e9_84d2_008cfafbf396row3_col53\" class=\"data row3 col53\" >GBM_grid_1_AutoML_20191022_080726_model_10</td>\n",
       "                        <td id=\"T_31accff6_f4c1_11e9_84d2_008cfafbf396row3_col54\" class=\"data row3 col54\" >XGBoost_grid_1_AutoML_20191022_080726_model_8</td>\n",
       "                        <td id=\"T_31accff6_f4c1_11e9_84d2_008cfafbf396row3_col55\" class=\"data row3 col55\" >XGBoost_grid_1_AutoML_20191022_080726_model_45</td>\n",
       "                        <td id=\"T_31accff6_f4c1_11e9_84d2_008cfafbf396row3_col56\" class=\"data row3 col56\" >GBM_1_AutoML_20191022_080726</td>\n",
       "                        <td id=\"T_31accff6_f4c1_11e9_84d2_008cfafbf396row3_col57\" class=\"data row3 col57\" >GBM_grid_1_AutoML_20191022_080726_model_14</td>\n",
       "                        <td id=\"T_31accff6_f4c1_11e9_84d2_008cfafbf396row3_col58\" class=\"data row3 col58\" >GBM_grid_1_AutoML_20191022_080726_model_42</td>\n",
       "                        <td id=\"T_31accff6_f4c1_11e9_84d2_008cfafbf396row3_col59\" class=\"data row3 col59\" >XGBoost_grid_1_AutoML_20191022_080726_model_48</td>\n",
       "                        <td id=\"T_31accff6_f4c1_11e9_84d2_008cfafbf396row3_col60\" class=\"data row3 col60\" >GBM_grid_1_AutoML_20191022_080726_model_11</td>\n",
       "                        <td id=\"T_31accff6_f4c1_11e9_84d2_008cfafbf396row3_col61\" class=\"data row3 col61\" >XGBoost_grid_1_AutoML_20191022_080726_model_30</td>\n",
       "                        <td id=\"T_31accff6_f4c1_11e9_84d2_008cfafbf396row3_col62\" class=\"data row3 col62\" >GBM_grid_1_AutoML_20191022_080726_model_16</td>\n",
       "                        <td id=\"T_31accff6_f4c1_11e9_84d2_008cfafbf396row3_col63\" class=\"data row3 col63\" >GBM_grid_1_AutoML_20191022_080726_model_24</td>\n",
       "                        <td id=\"T_31accff6_f4c1_11e9_84d2_008cfafbf396row3_col64\" class=\"data row3 col64\" >DRF_1_AutoML_20191022_080726</td>\n",
       "                        <td id=\"T_31accff6_f4c1_11e9_84d2_008cfafbf396row3_col65\" class=\"data row3 col65\" >XGBoost_grid_1_AutoML_20191022_080726_model_17</td>\n",
       "                        <td id=\"T_31accff6_f4c1_11e9_84d2_008cfafbf396row3_col66\" class=\"data row3 col66\" >DeepLearning_grid_1_AutoML_20191022_080726_model_13</td>\n",
       "                        <td id=\"T_31accff6_f4c1_11e9_84d2_008cfafbf396row3_col67\" class=\"data row3 col67\" >DeepLearning_grid_1_AutoML_20191022_080726_model_4</td>\n",
       "                        <td id=\"T_31accff6_f4c1_11e9_84d2_008cfafbf396row3_col68\" class=\"data row3 col68\" >GBM_grid_1_AutoML_20191022_080726_model_54</td>\n",
       "                        <td id=\"T_31accff6_f4c1_11e9_84d2_008cfafbf396row3_col69\" class=\"data row3 col69\" >GBM_grid_1_AutoML_20191022_080726_model_13</td>\n",
       "                        <td id=\"T_31accff6_f4c1_11e9_84d2_008cfafbf396row3_col70\" class=\"data row3 col70\" >GBM_grid_1_AutoML_20191022_080726_model_58</td>\n",
       "                        <td id=\"T_31accff6_f4c1_11e9_84d2_008cfafbf396row3_col71\" class=\"data row3 col71\" >XGBoost_3_AutoML_20191022_080726</td>\n",
       "                        <td id=\"T_31accff6_f4c1_11e9_84d2_008cfafbf396row3_col72\" class=\"data row3 col72\" >XGBoost_grid_1_AutoML_20191022_080726_model_49</td>\n",
       "                        <td id=\"T_31accff6_f4c1_11e9_84d2_008cfafbf396row3_col73\" class=\"data row3 col73\" >GBM_grid_1_AutoML_20191022_080726_model_52</td>\n",
       "                        <td id=\"T_31accff6_f4c1_11e9_84d2_008cfafbf396row3_col74\" class=\"data row3 col74\" >XGBoost_grid_1_AutoML_20191022_080726_model_37</td>\n",
       "                        <td id=\"T_31accff6_f4c1_11e9_84d2_008cfafbf396row3_col75\" class=\"data row3 col75\" >XGBoost_1_AutoML_20191022_080726</td>\n",
       "                        <td id=\"T_31accff6_f4c1_11e9_84d2_008cfafbf396row3_col76\" class=\"data row3 col76\" >XGBoost_grid_1_AutoML_20191022_080726_model_25</td>\n",
       "                        <td id=\"T_31accff6_f4c1_11e9_84d2_008cfafbf396row3_col77\" class=\"data row3 col77\" >GBM_grid_1_AutoML_20191022_080726_model_53</td>\n",
       "                        <td id=\"T_31accff6_f4c1_11e9_84d2_008cfafbf396row3_col78\" class=\"data row3 col78\" >DeepLearning_grid_1_AutoML_20191022_080726_model_9</td>\n",
       "                        <td id=\"T_31accff6_f4c1_11e9_84d2_008cfafbf396row3_col79\" class=\"data row3 col79\" >XGBoost_grid_1_AutoML_20191022_080726_model_62</td>\n",
       "                        <td id=\"T_31accff6_f4c1_11e9_84d2_008cfafbf396row3_col80\" class=\"data row3 col80\" >XGBoost_grid_1_AutoML_20191022_080726_model_57</td>\n",
       "                        <td id=\"T_31accff6_f4c1_11e9_84d2_008cfafbf396row3_col81\" class=\"data row3 col81\" >XGBoost_grid_1_AutoML_20191022_080726_model_21</td>\n",
       "                        <td id=\"T_31accff6_f4c1_11e9_84d2_008cfafbf396row3_col82\" class=\"data row3 col82\" >XGBoost_grid_1_AutoML_20191022_080726_model_18</td>\n",
       "                        <td id=\"T_31accff6_f4c1_11e9_84d2_008cfafbf396row3_col83\" class=\"data row3 col83\" >DeepLearning_grid_1_AutoML_20191022_080726_model_6</td>\n",
       "                        <td id=\"T_31accff6_f4c1_11e9_84d2_008cfafbf396row3_col84\" class=\"data row3 col84\" >XGBoost_grid_1_AutoML_20191022_080726_model_26</td>\n",
       "                        <td id=\"T_31accff6_f4c1_11e9_84d2_008cfafbf396row3_col85\" class=\"data row3 col85\" >XGBoost_grid_1_AutoML_20191022_080726_model_47</td>\n",
       "                        <td id=\"T_31accff6_f4c1_11e9_84d2_008cfafbf396row3_col86\" class=\"data row3 col86\" >XGBoost_grid_1_AutoML_20191022_080726_model_15</td>\n",
       "                        <td id=\"T_31accff6_f4c1_11e9_84d2_008cfafbf396row3_col87\" class=\"data row3 col87\" >DeepLearning_grid_1_AutoML_20191022_080726_model_5</td>\n",
       "                        <td id=\"T_31accff6_f4c1_11e9_84d2_008cfafbf396row3_col88\" class=\"data row3 col88\" >GBM_grid_1_AutoML_20191022_080726_model_8</td>\n",
       "                        <td id=\"T_31accff6_f4c1_11e9_84d2_008cfafbf396row3_col89\" class=\"data row3 col89\" >GBM_grid_1_AutoML_20191022_080726_model_9</td>\n",
       "                        <td id=\"T_31accff6_f4c1_11e9_84d2_008cfafbf396row3_col90\" class=\"data row3 col90\" >XGBoost_grid_1_AutoML_20191022_080726_model_20</td>\n",
       "                        <td id=\"T_31accff6_f4c1_11e9_84d2_008cfafbf396row3_col91\" class=\"data row3 col91\" >XGBoost_grid_1_AutoML_20191022_080726_model_36</td>\n",
       "                        <td id=\"T_31accff6_f4c1_11e9_84d2_008cfafbf396row3_col92\" class=\"data row3 col92\" >DeepLearning_grid_1_AutoML_20191022_080726_model_14</td>\n",
       "                        <td id=\"T_31accff6_f4c1_11e9_84d2_008cfafbf396row3_col93\" class=\"data row3 col93\" >XGBoost_grid_1_AutoML_20191022_080726_model_27</td>\n",
       "                        <td id=\"T_31accff6_f4c1_11e9_84d2_008cfafbf396row3_col94\" class=\"data row3 col94\" >XGBoost_grid_1_AutoML_20191022_080726_model_34</td>\n",
       "                        <td id=\"T_31accff6_f4c1_11e9_84d2_008cfafbf396row3_col95\" class=\"data row3 col95\" >XGBoost_grid_1_AutoML_20191022_080726_model_4</td>\n",
       "                        <td id=\"T_31accff6_f4c1_11e9_84d2_008cfafbf396row3_col96\" class=\"data row3 col96\" >XGBoost_grid_1_AutoML_20191022_080726_model_31</td>\n",
       "                        <td id=\"T_31accff6_f4c1_11e9_84d2_008cfafbf396row3_col97\" class=\"data row3 col97\" >XGBoost_grid_1_AutoML_20191022_080726_model_2</td>\n",
       "                        <td id=\"T_31accff6_f4c1_11e9_84d2_008cfafbf396row3_col98\" class=\"data row3 col98\" >GBM_grid_1_AutoML_20191022_080726_model_29</td>\n",
       "                        <td id=\"T_31accff6_f4c1_11e9_84d2_008cfafbf396row3_col99\" class=\"data row3 col99\" >XGBoost_grid_1_AutoML_20191022_080726_model_41</td>\n",
       "                        <td id=\"T_31accff6_f4c1_11e9_84d2_008cfafbf396row3_col100\" class=\"data row3 col100\" >XGBoost_grid_1_AutoML_20191022_080726_model_50</td>\n",
       "                        <td id=\"T_31accff6_f4c1_11e9_84d2_008cfafbf396row3_col101\" class=\"data row3 col101\" >XGBoost_grid_1_AutoML_20191022_080726_model_29</td>\n",
       "                        <td id=\"T_31accff6_f4c1_11e9_84d2_008cfafbf396row3_col102\" class=\"data row3 col102\" >GBM_grid_1_AutoML_20191022_080726_model_28</td>\n",
       "                        <td id=\"T_31accff6_f4c1_11e9_84d2_008cfafbf396row3_col103\" class=\"data row3 col103\" >XGBoost_grid_1_AutoML_20191022_080726_model_28</td>\n",
       "                        <td id=\"T_31accff6_f4c1_11e9_84d2_008cfafbf396row3_col104\" class=\"data row3 col104\" >XGBoost_grid_1_AutoML_20191022_080726_model_3</td>\n",
       "                        <td id=\"T_31accff6_f4c1_11e9_84d2_008cfafbf396row3_col105\" class=\"data row3 col105\" >XGBoost_grid_1_AutoML_20191022_080726_model_65</td>\n",
       "                        <td id=\"T_31accff6_f4c1_11e9_84d2_008cfafbf396row3_col106\" class=\"data row3 col106\" >XGBoost_grid_1_AutoML_20191022_080726_model_32</td>\n",
       "                        <td id=\"T_31accff6_f4c1_11e9_84d2_008cfafbf396row3_col107\" class=\"data row3 col107\" >XGBoost_grid_1_AutoML_20191022_080726_model_59</td>\n",
       "                        <td id=\"T_31accff6_f4c1_11e9_84d2_008cfafbf396row3_col108\" class=\"data row3 col108\" >GBM_grid_1_AutoML_20191022_080726_model_68</td>\n",
       "                        <td id=\"T_31accff6_f4c1_11e9_84d2_008cfafbf396row3_col109\" class=\"data row3 col109\" >XGBoost_grid_1_AutoML_20191022_080726_model_23</td>\n",
       "                        <td id=\"T_31accff6_f4c1_11e9_84d2_008cfafbf396row3_col110\" class=\"data row3 col110\" >XGBoost_grid_1_AutoML_20191022_080726_model_7</td>\n",
       "                        <td id=\"T_31accff6_f4c1_11e9_84d2_008cfafbf396row3_col111\" class=\"data row3 col111\" >XGBoost_grid_1_AutoML_20191022_080726_model_19</td>\n",
       "                        <td id=\"T_31accff6_f4c1_11e9_84d2_008cfafbf396row3_col112\" class=\"data row3 col112\" >XGBoost_grid_1_AutoML_20191022_080726_model_53</td>\n",
       "                        <td id=\"T_31accff6_f4c1_11e9_84d2_008cfafbf396row3_col113\" class=\"data row3 col113\" >GBM_grid_1_AutoML_20191022_080726_model_25</td>\n",
       "                        <td id=\"T_31accff6_f4c1_11e9_84d2_008cfafbf396row3_col114\" class=\"data row3 col114\" >GBM_grid_1_AutoML_20191022_080726_model_21</td>\n",
       "                        <td id=\"T_31accff6_f4c1_11e9_84d2_008cfafbf396row3_col115\" class=\"data row3 col115\" >XGBoost_2_AutoML_20191022_080726</td>\n",
       "                        <td id=\"T_31accff6_f4c1_11e9_84d2_008cfafbf396row3_col116\" class=\"data row3 col116\" >GBM_grid_1_AutoML_20191022_080726_model_30</td>\n",
       "                        <td id=\"T_31accff6_f4c1_11e9_84d2_008cfafbf396row3_col117\" class=\"data row3 col117\" >GBM_grid_1_AutoML_20191022_080726_model_7</td>\n",
       "                        <td id=\"T_31accff6_f4c1_11e9_84d2_008cfafbf396row3_col118\" class=\"data row3 col118\" >GBM_grid_1_AutoML_20191022_080726_model_23</td>\n",
       "                        <td id=\"T_31accff6_f4c1_11e9_84d2_008cfafbf396row3_col119\" class=\"data row3 col119\" >GBM_grid_1_AutoML_20191022_080726_model_38</td>\n",
       "                        <td id=\"T_31accff6_f4c1_11e9_84d2_008cfafbf396row3_col120\" class=\"data row3 col120\" >XGBoost_grid_1_AutoML_20191022_080726_model_42</td>\n",
       "                        <td id=\"T_31accff6_f4c1_11e9_84d2_008cfafbf396row3_col121\" class=\"data row3 col121\" >XGBoost_grid_1_AutoML_20191022_080726_model_56</td>\n",
       "                        <td id=\"T_31accff6_f4c1_11e9_84d2_008cfafbf396row3_col122\" class=\"data row3 col122\" >XGBoost_grid_1_AutoML_20191022_080726_model_66</td>\n",
       "                        <td id=\"T_31accff6_f4c1_11e9_84d2_008cfafbf396row3_col123\" class=\"data row3 col123\" >XGBoost_grid_1_AutoML_20191022_080726_model_5</td>\n",
       "                        <td id=\"T_31accff6_f4c1_11e9_84d2_008cfafbf396row3_col124\" class=\"data row3 col124\" >XGBoost_grid_1_AutoML_20191022_080726_model_22</td>\n",
       "                        <td id=\"T_31accff6_f4c1_11e9_84d2_008cfafbf396row3_col125\" class=\"data row3 col125\" >DeepLearning_grid_1_AutoML_20191022_080726_model_10</td>\n",
       "                        <td id=\"T_31accff6_f4c1_11e9_84d2_008cfafbf396row3_col126\" class=\"data row3 col126\" >XGBoost_grid_1_AutoML_20191022_080726_model_44</td>\n",
       "                        <td id=\"T_31accff6_f4c1_11e9_84d2_008cfafbf396row3_col127\" class=\"data row3 col127\" >GBM_grid_1_AutoML_20191022_080726_model_33</td>\n",
       "                        <td id=\"T_31accff6_f4c1_11e9_84d2_008cfafbf396row3_col128\" class=\"data row3 col128\" >XGBoost_grid_1_AutoML_20191022_080726_model_58</td>\n",
       "                        <td id=\"T_31accff6_f4c1_11e9_84d2_008cfafbf396row3_col129\" class=\"data row3 col129\" >XGBoost_grid_1_AutoML_20191022_080726_model_63</td>\n",
       "                        <td id=\"T_31accff6_f4c1_11e9_84d2_008cfafbf396row3_col130\" class=\"data row3 col130\" >XGBoost_grid_1_AutoML_20191022_080726_model_54</td>\n",
       "                        <td id=\"T_31accff6_f4c1_11e9_84d2_008cfafbf396row3_col131\" class=\"data row3 col131\" >XGBoost_grid_1_AutoML_20191022_080726_model_39</td>\n",
       "                        <td id=\"T_31accff6_f4c1_11e9_84d2_008cfafbf396row3_col132\" class=\"data row3 col132\" >XGBoost_grid_1_AutoML_20191022_080726_model_12</td>\n",
       "                        <td id=\"T_31accff6_f4c1_11e9_84d2_008cfafbf396row3_col133\" class=\"data row3 col133\" >XGBoost_grid_1_AutoML_20191022_080726_model_43</td>\n",
       "                        <td id=\"T_31accff6_f4c1_11e9_84d2_008cfafbf396row3_col134\" class=\"data row3 col134\" >GBM_grid_1_AutoML_20191022_080726_model_5</td>\n",
       "                        <td id=\"T_31accff6_f4c1_11e9_84d2_008cfafbf396row3_col135\" class=\"data row3 col135\" >XGBoost_grid_1_AutoML_20191022_080726_model_11</td>\n",
       "                        <td id=\"T_31accff6_f4c1_11e9_84d2_008cfafbf396row3_col136\" class=\"data row3 col136\" >XGBoost_grid_1_AutoML_20191022_080726_model_6</td>\n",
       "                        <td id=\"T_31accff6_f4c1_11e9_84d2_008cfafbf396row3_col137\" class=\"data row3 col137\" >XGBoost_grid_1_AutoML_20191022_080726_model_1</td>\n",
       "                        <td id=\"T_31accff6_f4c1_11e9_84d2_008cfafbf396row3_col138\" class=\"data row3 col138\" >GBM_grid_1_AutoML_20191022_080726_model_37</td>\n",
       "                        <td id=\"T_31accff6_f4c1_11e9_84d2_008cfafbf396row3_col139\" class=\"data row3 col139\" >XGBoost_grid_1_AutoML_20191022_080726_model_40</td>\n",
       "                        <td id=\"T_31accff6_f4c1_11e9_84d2_008cfafbf396row3_col140\" class=\"data row3 col140\" >GBM_grid_1_AutoML_20191022_080726_model_61</td>\n",
       "                        <td id=\"T_31accff6_f4c1_11e9_84d2_008cfafbf396row3_col141\" class=\"data row3 col141\" >XGBoost_grid_1_AutoML_20191022_080726_model_14</td>\n",
       "                        <td id=\"T_31accff6_f4c1_11e9_84d2_008cfafbf396row3_col142\" class=\"data row3 col142\" >XGBoost_grid_1_AutoML_20191022_080726_model_60</td>\n",
       "                        <td id=\"T_31accff6_f4c1_11e9_84d2_008cfafbf396row3_col143\" class=\"data row3 col143\" >XGBoost_grid_1_AutoML_20191022_080726_model_24</td>\n",
       "                        <td id=\"T_31accff6_f4c1_11e9_84d2_008cfafbf396row3_col144\" class=\"data row3 col144\" >XGBoost_grid_1_AutoML_20191022_080726_model_64</td>\n",
       "                        <td id=\"T_31accff6_f4c1_11e9_84d2_008cfafbf396row3_col145\" class=\"data row3 col145\" >GBM_grid_1_AutoML_20191022_080726_model_70</td>\n",
       "                        <td id=\"T_31accff6_f4c1_11e9_84d2_008cfafbf396row3_col146\" class=\"data row3 col146\" >XGBoost_grid_1_AutoML_20191022_080726_model_67</td>\n",
       "                        <td id=\"T_31accff6_f4c1_11e9_84d2_008cfafbf396row3_col147\" class=\"data row3 col147\" >XGBoost_grid_1_AutoML_20191022_080726_model_10</td>\n",
       "                        <td id=\"T_31accff6_f4c1_11e9_84d2_008cfafbf396row3_col148\" class=\"data row3 col148\" >GBM_grid_1_AutoML_20191022_080726_model_4</td>\n",
       "                        <td id=\"T_31accff6_f4c1_11e9_84d2_008cfafbf396row3_col149\" class=\"data row3 col149\" >XGBoost_grid_1_AutoML_20191022_080726_model_16</td>\n",
       "                        <td id=\"T_31accff6_f4c1_11e9_84d2_008cfafbf396row3_col150\" class=\"data row3 col150\" >XGBoost_grid_1_AutoML_20191022_080726_model_51</td>\n",
       "                        <td id=\"T_31accff6_f4c1_11e9_84d2_008cfafbf396row3_col151\" class=\"data row3 col151\" >XGBoost_grid_1_AutoML_20191022_080726_model_9</td>\n",
       "                        <td id=\"T_31accff6_f4c1_11e9_84d2_008cfafbf396row3_col152\" class=\"data row3 col152\" >GBM_grid_1_AutoML_20191022_080726_model_69</td>\n",
       "                        <td id=\"T_31accff6_f4c1_11e9_84d2_008cfafbf396row3_col153\" class=\"data row3 col153\" >GBM_grid_1_AutoML_20191022_080726_model_34</td>\n",
       "                        <td id=\"T_31accff6_f4c1_11e9_84d2_008cfafbf396row3_col154\" class=\"data row3 col154\" >GBM_grid_1_AutoML_20191022_080726_model_50</td>\n",
       "                        <td id=\"T_31accff6_f4c1_11e9_84d2_008cfafbf396row3_col155\" class=\"data row3 col155\" >GBM_grid_1_AutoML_20191022_080726_model_51</td>\n",
       "                        <td id=\"T_31accff6_f4c1_11e9_84d2_008cfafbf396row3_col156\" class=\"data row3 col156\" >DeepLearning_1_AutoML_20191022_080726</td>\n",
       "                        <td id=\"T_31accff6_f4c1_11e9_84d2_008cfafbf396row3_col157\" class=\"data row3 col157\" >GBM_grid_1_AutoML_20191022_080726_model_2</td>\n",
       "                        <td id=\"T_31accff6_f4c1_11e9_84d2_008cfafbf396row3_col158\" class=\"data row3 col158\" >GBM_grid_1_AutoML_20191022_080726_model_64</td>\n",
       "                        <td id=\"T_31accff6_f4c1_11e9_84d2_008cfafbf396row3_col159\" class=\"data row3 col159\" >GBM_grid_1_AutoML_20191022_080726_model_49</td>\n",
       "                        <td id=\"T_31accff6_f4c1_11e9_84d2_008cfafbf396row3_col160\" class=\"data row3 col160\" >GBM_grid_1_AutoML_20191022_080726_model_44</td>\n",
       "                        <td id=\"T_31accff6_f4c1_11e9_84d2_008cfafbf396row3_col161\" class=\"data row3 col161\" >GBM_grid_1_AutoML_20191022_080726_model_71</td>\n",
       "                        <td id=\"T_31accff6_f4c1_11e9_84d2_008cfafbf396row3_col162\" class=\"data row3 col162\" >GBM_grid_1_AutoML_20191022_080726_model_22</td>\n",
       "                        <td id=\"T_31accff6_f4c1_11e9_84d2_008cfafbf396row3_col163\" class=\"data row3 col163\" >GBM_grid_1_AutoML_20191022_080726_model_60</td>\n",
       "                        <td id=\"T_31accff6_f4c1_11e9_84d2_008cfafbf396row3_col164\" class=\"data row3 col164\" >GBM_grid_1_AutoML_20191022_080726_model_65</td>\n",
       "                        <td id=\"T_31accff6_f4c1_11e9_84d2_008cfafbf396row3_col165\" class=\"data row3 col165\" >GBM_grid_1_AutoML_20191022_080726_model_36</td>\n",
       "                        <td id=\"T_31accff6_f4c1_11e9_84d2_008cfafbf396row3_col166\" class=\"data row3 col166\" >nan</td>\n",
       "                        <td id=\"T_31accff6_f4c1_11e9_84d2_008cfafbf396row3_col167\" class=\"data row3 col167\" >nan</td>\n",
       "                        <td id=\"T_31accff6_f4c1_11e9_84d2_008cfafbf396row3_col168\" class=\"data row3 col168\" >nan</td>\n",
       "                        <td id=\"T_31accff6_f4c1_11e9_84d2_008cfafbf396row3_col169\" class=\"data row3 col169\" >nan</td>\n",
       "                        <td id=\"T_31accff6_f4c1_11e9_84d2_008cfafbf396row3_col170\" class=\"data row3 col170\" >nan</td>\n",
       "            </tr>\n",
       "            <tr>\n",
       "                                <td id=\"T_31accff6_f4c1_11e9_84d2_008cfafbf396row4_col0\" class=\"data row4 col0\" >48</td>\n",
       "                        <td id=\"T_31accff6_f4c1_11e9_84d2_008cfafbf396row4_col1\" class=\"data row4 col1\" >DeepLearning_grid_1_AutoML_20191022_080819_model_2</td>\n",
       "                        <td id=\"T_31accff6_f4c1_11e9_84d2_008cfafbf396row4_col2\" class=\"data row4 col2\" >nan</td>\n",
       "                        <td id=\"T_31accff6_f4c1_11e9_84d2_008cfafbf396row4_col3\" class=\"data row4 col3\" >nan</td>\n",
       "                        <td id=\"T_31accff6_f4c1_11e9_84d2_008cfafbf396row4_col4\" class=\"data row4 col4\" >nan</td>\n",
       "                        <td id=\"T_31accff6_f4c1_11e9_84d2_008cfafbf396row4_col5\" class=\"data row4 col5\" >nan</td>\n",
       "                        <td id=\"T_31accff6_f4c1_11e9_84d2_008cfafbf396row4_col6\" class=\"data row4 col6\" >nan</td>\n",
       "                        <td id=\"T_31accff6_f4c1_11e9_84d2_008cfafbf396row4_col7\" class=\"data row4 col7\" >nan</td>\n",
       "                        <td id=\"T_31accff6_f4c1_11e9_84d2_008cfafbf396row4_col8\" class=\"data row4 col8\" >nan</td>\n",
       "                        <td id=\"T_31accff6_f4c1_11e9_84d2_008cfafbf396row4_col9\" class=\"data row4 col9\" >nan</td>\n",
       "                        <td id=\"T_31accff6_f4c1_11e9_84d2_008cfafbf396row4_col10\" class=\"data row4 col10\" >nan</td>\n",
       "                        <td id=\"T_31accff6_f4c1_11e9_84d2_008cfafbf396row4_col11\" class=\"data row4 col11\" >nan</td>\n",
       "                        <td id=\"T_31accff6_f4c1_11e9_84d2_008cfafbf396row4_col12\" class=\"data row4 col12\" >nan</td>\n",
       "                        <td id=\"T_31accff6_f4c1_11e9_84d2_008cfafbf396row4_col13\" class=\"data row4 col13\" >nan</td>\n",
       "                        <td id=\"T_31accff6_f4c1_11e9_84d2_008cfafbf396row4_col14\" class=\"data row4 col14\" >nan</td>\n",
       "                        <td id=\"T_31accff6_f4c1_11e9_84d2_008cfafbf396row4_col15\" class=\"data row4 col15\" >nan</td>\n",
       "                        <td id=\"T_31accff6_f4c1_11e9_84d2_008cfafbf396row4_col16\" class=\"data row4 col16\" >nan</td>\n",
       "                        <td id=\"T_31accff6_f4c1_11e9_84d2_008cfafbf396row4_col17\" class=\"data row4 col17\" >nan</td>\n",
       "                        <td id=\"T_31accff6_f4c1_11e9_84d2_008cfafbf396row4_col18\" class=\"data row4 col18\" >nan</td>\n",
       "                        <td id=\"T_31accff6_f4c1_11e9_84d2_008cfafbf396row4_col19\" class=\"data row4 col19\" >nan</td>\n",
       "                        <td id=\"T_31accff6_f4c1_11e9_84d2_008cfafbf396row4_col20\" class=\"data row4 col20\" >nan</td>\n",
       "                        <td id=\"T_31accff6_f4c1_11e9_84d2_008cfafbf396row4_col21\" class=\"data row4 col21\" >nan</td>\n",
       "                        <td id=\"T_31accff6_f4c1_11e9_84d2_008cfafbf396row4_col22\" class=\"data row4 col22\" >nan</td>\n",
       "                        <td id=\"T_31accff6_f4c1_11e9_84d2_008cfafbf396row4_col23\" class=\"data row4 col23\" >nan</td>\n",
       "                        <td id=\"T_31accff6_f4c1_11e9_84d2_008cfafbf396row4_col24\" class=\"data row4 col24\" >nan</td>\n",
       "                        <td id=\"T_31accff6_f4c1_11e9_84d2_008cfafbf396row4_col25\" class=\"data row4 col25\" >nan</td>\n",
       "                        <td id=\"T_31accff6_f4c1_11e9_84d2_008cfafbf396row4_col26\" class=\"data row4 col26\" >nan</td>\n",
       "                        <td id=\"T_31accff6_f4c1_11e9_84d2_008cfafbf396row4_col27\" class=\"data row4 col27\" >nan</td>\n",
       "                        <td id=\"T_31accff6_f4c1_11e9_84d2_008cfafbf396row4_col28\" class=\"data row4 col28\" >nan</td>\n",
       "                        <td id=\"T_31accff6_f4c1_11e9_84d2_008cfafbf396row4_col29\" class=\"data row4 col29\" >nan</td>\n",
       "                        <td id=\"T_31accff6_f4c1_11e9_84d2_008cfafbf396row4_col30\" class=\"data row4 col30\" >nan</td>\n",
       "                        <td id=\"T_31accff6_f4c1_11e9_84d2_008cfafbf396row4_col31\" class=\"data row4 col31\" >nan</td>\n",
       "                        <td id=\"T_31accff6_f4c1_11e9_84d2_008cfafbf396row4_col32\" class=\"data row4 col32\" >nan</td>\n",
       "                        <td id=\"T_31accff6_f4c1_11e9_84d2_008cfafbf396row4_col33\" class=\"data row4 col33\" >nan</td>\n",
       "                        <td id=\"T_31accff6_f4c1_11e9_84d2_008cfafbf396row4_col34\" class=\"data row4 col34\" >nan</td>\n",
       "                        <td id=\"T_31accff6_f4c1_11e9_84d2_008cfafbf396row4_col35\" class=\"data row4 col35\" >nan</td>\n",
       "                        <td id=\"T_31accff6_f4c1_11e9_84d2_008cfafbf396row4_col36\" class=\"data row4 col36\" >nan</td>\n",
       "                        <td id=\"T_31accff6_f4c1_11e9_84d2_008cfafbf396row4_col37\" class=\"data row4 col37\" >nan</td>\n",
       "                        <td id=\"T_31accff6_f4c1_11e9_84d2_008cfafbf396row4_col38\" class=\"data row4 col38\" >nan</td>\n",
       "                        <td id=\"T_31accff6_f4c1_11e9_84d2_008cfafbf396row4_col39\" class=\"data row4 col39\" >nan</td>\n",
       "                        <td id=\"T_31accff6_f4c1_11e9_84d2_008cfafbf396row4_col40\" class=\"data row4 col40\" >nan</td>\n",
       "                        <td id=\"T_31accff6_f4c1_11e9_84d2_008cfafbf396row4_col41\" class=\"data row4 col41\" >nan</td>\n",
       "                        <td id=\"T_31accff6_f4c1_11e9_84d2_008cfafbf396row4_col42\" class=\"data row4 col42\" >nan</td>\n",
       "                        <td id=\"T_31accff6_f4c1_11e9_84d2_008cfafbf396row4_col43\" class=\"data row4 col43\" >nan</td>\n",
       "                        <td id=\"T_31accff6_f4c1_11e9_84d2_008cfafbf396row4_col44\" class=\"data row4 col44\" >nan</td>\n",
       "                        <td id=\"T_31accff6_f4c1_11e9_84d2_008cfafbf396row4_col45\" class=\"data row4 col45\" >nan</td>\n",
       "                        <td id=\"T_31accff6_f4c1_11e9_84d2_008cfafbf396row4_col46\" class=\"data row4 col46\" >nan</td>\n",
       "                        <td id=\"T_31accff6_f4c1_11e9_84d2_008cfafbf396row4_col47\" class=\"data row4 col47\" >nan</td>\n",
       "                        <td id=\"T_31accff6_f4c1_11e9_84d2_008cfafbf396row4_col48\" class=\"data row4 col48\" >nan</td>\n",
       "                        <td id=\"T_31accff6_f4c1_11e9_84d2_008cfafbf396row4_col49\" class=\"data row4 col49\" >nan</td>\n",
       "                        <td id=\"T_31accff6_f4c1_11e9_84d2_008cfafbf396row4_col50\" class=\"data row4 col50\" >nan</td>\n",
       "                        <td id=\"T_31accff6_f4c1_11e9_84d2_008cfafbf396row4_col51\" class=\"data row4 col51\" >nan</td>\n",
       "                        <td id=\"T_31accff6_f4c1_11e9_84d2_008cfafbf396row4_col52\" class=\"data row4 col52\" >nan</td>\n",
       "                        <td id=\"T_31accff6_f4c1_11e9_84d2_008cfafbf396row4_col53\" class=\"data row4 col53\" >nan</td>\n",
       "                        <td id=\"T_31accff6_f4c1_11e9_84d2_008cfafbf396row4_col54\" class=\"data row4 col54\" >nan</td>\n",
       "                        <td id=\"T_31accff6_f4c1_11e9_84d2_008cfafbf396row4_col55\" class=\"data row4 col55\" >nan</td>\n",
       "                        <td id=\"T_31accff6_f4c1_11e9_84d2_008cfafbf396row4_col56\" class=\"data row4 col56\" >nan</td>\n",
       "                        <td id=\"T_31accff6_f4c1_11e9_84d2_008cfafbf396row4_col57\" class=\"data row4 col57\" >nan</td>\n",
       "                        <td id=\"T_31accff6_f4c1_11e9_84d2_008cfafbf396row4_col58\" class=\"data row4 col58\" >nan</td>\n",
       "                        <td id=\"T_31accff6_f4c1_11e9_84d2_008cfafbf396row4_col59\" class=\"data row4 col59\" >nan</td>\n",
       "                        <td id=\"T_31accff6_f4c1_11e9_84d2_008cfafbf396row4_col60\" class=\"data row4 col60\" >nan</td>\n",
       "                        <td id=\"T_31accff6_f4c1_11e9_84d2_008cfafbf396row4_col61\" class=\"data row4 col61\" >nan</td>\n",
       "                        <td id=\"T_31accff6_f4c1_11e9_84d2_008cfafbf396row4_col62\" class=\"data row4 col62\" >nan</td>\n",
       "                        <td id=\"T_31accff6_f4c1_11e9_84d2_008cfafbf396row4_col63\" class=\"data row4 col63\" >nan</td>\n",
       "                        <td id=\"T_31accff6_f4c1_11e9_84d2_008cfafbf396row4_col64\" class=\"data row4 col64\" >nan</td>\n",
       "                        <td id=\"T_31accff6_f4c1_11e9_84d2_008cfafbf396row4_col65\" class=\"data row4 col65\" >nan</td>\n",
       "                        <td id=\"T_31accff6_f4c1_11e9_84d2_008cfafbf396row4_col66\" class=\"data row4 col66\" >nan</td>\n",
       "                        <td id=\"T_31accff6_f4c1_11e9_84d2_008cfafbf396row4_col67\" class=\"data row4 col67\" >nan</td>\n",
       "                        <td id=\"T_31accff6_f4c1_11e9_84d2_008cfafbf396row4_col68\" class=\"data row4 col68\" >nan</td>\n",
       "                        <td id=\"T_31accff6_f4c1_11e9_84d2_008cfafbf396row4_col69\" class=\"data row4 col69\" >nan</td>\n",
       "                        <td id=\"T_31accff6_f4c1_11e9_84d2_008cfafbf396row4_col70\" class=\"data row4 col70\" >nan</td>\n",
       "                        <td id=\"T_31accff6_f4c1_11e9_84d2_008cfafbf396row4_col71\" class=\"data row4 col71\" >nan</td>\n",
       "                        <td id=\"T_31accff6_f4c1_11e9_84d2_008cfafbf396row4_col72\" class=\"data row4 col72\" >nan</td>\n",
       "                        <td id=\"T_31accff6_f4c1_11e9_84d2_008cfafbf396row4_col73\" class=\"data row4 col73\" >nan</td>\n",
       "                        <td id=\"T_31accff6_f4c1_11e9_84d2_008cfafbf396row4_col74\" class=\"data row4 col74\" >nan</td>\n",
       "                        <td id=\"T_31accff6_f4c1_11e9_84d2_008cfafbf396row4_col75\" class=\"data row4 col75\" >nan</td>\n",
       "                        <td id=\"T_31accff6_f4c1_11e9_84d2_008cfafbf396row4_col76\" class=\"data row4 col76\" >nan</td>\n",
       "                        <td id=\"T_31accff6_f4c1_11e9_84d2_008cfafbf396row4_col77\" class=\"data row4 col77\" >nan</td>\n",
       "                        <td id=\"T_31accff6_f4c1_11e9_84d2_008cfafbf396row4_col78\" class=\"data row4 col78\" >nan</td>\n",
       "                        <td id=\"T_31accff6_f4c1_11e9_84d2_008cfafbf396row4_col79\" class=\"data row4 col79\" >nan</td>\n",
       "                        <td id=\"T_31accff6_f4c1_11e9_84d2_008cfafbf396row4_col80\" class=\"data row4 col80\" >nan</td>\n",
       "                        <td id=\"T_31accff6_f4c1_11e9_84d2_008cfafbf396row4_col81\" class=\"data row4 col81\" >nan</td>\n",
       "                        <td id=\"T_31accff6_f4c1_11e9_84d2_008cfafbf396row4_col82\" class=\"data row4 col82\" >nan</td>\n",
       "                        <td id=\"T_31accff6_f4c1_11e9_84d2_008cfafbf396row4_col83\" class=\"data row4 col83\" >nan</td>\n",
       "                        <td id=\"T_31accff6_f4c1_11e9_84d2_008cfafbf396row4_col84\" class=\"data row4 col84\" >nan</td>\n",
       "                        <td id=\"T_31accff6_f4c1_11e9_84d2_008cfafbf396row4_col85\" class=\"data row4 col85\" >nan</td>\n",
       "                        <td id=\"T_31accff6_f4c1_11e9_84d2_008cfafbf396row4_col86\" class=\"data row4 col86\" >nan</td>\n",
       "                        <td id=\"T_31accff6_f4c1_11e9_84d2_008cfafbf396row4_col87\" class=\"data row4 col87\" >nan</td>\n",
       "                        <td id=\"T_31accff6_f4c1_11e9_84d2_008cfafbf396row4_col88\" class=\"data row4 col88\" >nan</td>\n",
       "                        <td id=\"T_31accff6_f4c1_11e9_84d2_008cfafbf396row4_col89\" class=\"data row4 col89\" >nan</td>\n",
       "                        <td id=\"T_31accff6_f4c1_11e9_84d2_008cfafbf396row4_col90\" class=\"data row4 col90\" >nan</td>\n",
       "                        <td id=\"T_31accff6_f4c1_11e9_84d2_008cfafbf396row4_col91\" class=\"data row4 col91\" >nan</td>\n",
       "                        <td id=\"T_31accff6_f4c1_11e9_84d2_008cfafbf396row4_col92\" class=\"data row4 col92\" >nan</td>\n",
       "                        <td id=\"T_31accff6_f4c1_11e9_84d2_008cfafbf396row4_col93\" class=\"data row4 col93\" >nan</td>\n",
       "                        <td id=\"T_31accff6_f4c1_11e9_84d2_008cfafbf396row4_col94\" class=\"data row4 col94\" >nan</td>\n",
       "                        <td id=\"T_31accff6_f4c1_11e9_84d2_008cfafbf396row4_col95\" class=\"data row4 col95\" >nan</td>\n",
       "                        <td id=\"T_31accff6_f4c1_11e9_84d2_008cfafbf396row4_col96\" class=\"data row4 col96\" >nan</td>\n",
       "                        <td id=\"T_31accff6_f4c1_11e9_84d2_008cfafbf396row4_col97\" class=\"data row4 col97\" >nan</td>\n",
       "                        <td id=\"T_31accff6_f4c1_11e9_84d2_008cfafbf396row4_col98\" class=\"data row4 col98\" >nan</td>\n",
       "                        <td id=\"T_31accff6_f4c1_11e9_84d2_008cfafbf396row4_col99\" class=\"data row4 col99\" >nan</td>\n",
       "                        <td id=\"T_31accff6_f4c1_11e9_84d2_008cfafbf396row4_col100\" class=\"data row4 col100\" >nan</td>\n",
       "                        <td id=\"T_31accff6_f4c1_11e9_84d2_008cfafbf396row4_col101\" class=\"data row4 col101\" >nan</td>\n",
       "                        <td id=\"T_31accff6_f4c1_11e9_84d2_008cfafbf396row4_col102\" class=\"data row4 col102\" >nan</td>\n",
       "                        <td id=\"T_31accff6_f4c1_11e9_84d2_008cfafbf396row4_col103\" class=\"data row4 col103\" >nan</td>\n",
       "                        <td id=\"T_31accff6_f4c1_11e9_84d2_008cfafbf396row4_col104\" class=\"data row4 col104\" >nan</td>\n",
       "                        <td id=\"T_31accff6_f4c1_11e9_84d2_008cfafbf396row4_col105\" class=\"data row4 col105\" >nan</td>\n",
       "                        <td id=\"T_31accff6_f4c1_11e9_84d2_008cfafbf396row4_col106\" class=\"data row4 col106\" >nan</td>\n",
       "                        <td id=\"T_31accff6_f4c1_11e9_84d2_008cfafbf396row4_col107\" class=\"data row4 col107\" >nan</td>\n",
       "                        <td id=\"T_31accff6_f4c1_11e9_84d2_008cfafbf396row4_col108\" class=\"data row4 col108\" >nan</td>\n",
       "                        <td id=\"T_31accff6_f4c1_11e9_84d2_008cfafbf396row4_col109\" class=\"data row4 col109\" >nan</td>\n",
       "                        <td id=\"T_31accff6_f4c1_11e9_84d2_008cfafbf396row4_col110\" class=\"data row4 col110\" >nan</td>\n",
       "                        <td id=\"T_31accff6_f4c1_11e9_84d2_008cfafbf396row4_col111\" class=\"data row4 col111\" >nan</td>\n",
       "                        <td id=\"T_31accff6_f4c1_11e9_84d2_008cfafbf396row4_col112\" class=\"data row4 col112\" >nan</td>\n",
       "                        <td id=\"T_31accff6_f4c1_11e9_84d2_008cfafbf396row4_col113\" class=\"data row4 col113\" >nan</td>\n",
       "                        <td id=\"T_31accff6_f4c1_11e9_84d2_008cfafbf396row4_col114\" class=\"data row4 col114\" >nan</td>\n",
       "                        <td id=\"T_31accff6_f4c1_11e9_84d2_008cfafbf396row4_col115\" class=\"data row4 col115\" >nan</td>\n",
       "                        <td id=\"T_31accff6_f4c1_11e9_84d2_008cfafbf396row4_col116\" class=\"data row4 col116\" >nan</td>\n",
       "                        <td id=\"T_31accff6_f4c1_11e9_84d2_008cfafbf396row4_col117\" class=\"data row4 col117\" >nan</td>\n",
       "                        <td id=\"T_31accff6_f4c1_11e9_84d2_008cfafbf396row4_col118\" class=\"data row4 col118\" >nan</td>\n",
       "                        <td id=\"T_31accff6_f4c1_11e9_84d2_008cfafbf396row4_col119\" class=\"data row4 col119\" >nan</td>\n",
       "                        <td id=\"T_31accff6_f4c1_11e9_84d2_008cfafbf396row4_col120\" class=\"data row4 col120\" >nan</td>\n",
       "                        <td id=\"T_31accff6_f4c1_11e9_84d2_008cfafbf396row4_col121\" class=\"data row4 col121\" >nan</td>\n",
       "                        <td id=\"T_31accff6_f4c1_11e9_84d2_008cfafbf396row4_col122\" class=\"data row4 col122\" >nan</td>\n",
       "                        <td id=\"T_31accff6_f4c1_11e9_84d2_008cfafbf396row4_col123\" class=\"data row4 col123\" >nan</td>\n",
       "                        <td id=\"T_31accff6_f4c1_11e9_84d2_008cfafbf396row4_col124\" class=\"data row4 col124\" >nan</td>\n",
       "                        <td id=\"T_31accff6_f4c1_11e9_84d2_008cfafbf396row4_col125\" class=\"data row4 col125\" >nan</td>\n",
       "                        <td id=\"T_31accff6_f4c1_11e9_84d2_008cfafbf396row4_col126\" class=\"data row4 col126\" >nan</td>\n",
       "                        <td id=\"T_31accff6_f4c1_11e9_84d2_008cfafbf396row4_col127\" class=\"data row4 col127\" >nan</td>\n",
       "                        <td id=\"T_31accff6_f4c1_11e9_84d2_008cfafbf396row4_col128\" class=\"data row4 col128\" >nan</td>\n",
       "                        <td id=\"T_31accff6_f4c1_11e9_84d2_008cfafbf396row4_col129\" class=\"data row4 col129\" >nan</td>\n",
       "                        <td id=\"T_31accff6_f4c1_11e9_84d2_008cfafbf396row4_col130\" class=\"data row4 col130\" >nan</td>\n",
       "                        <td id=\"T_31accff6_f4c1_11e9_84d2_008cfafbf396row4_col131\" class=\"data row4 col131\" >nan</td>\n",
       "                        <td id=\"T_31accff6_f4c1_11e9_84d2_008cfafbf396row4_col132\" class=\"data row4 col132\" >nan</td>\n",
       "                        <td id=\"T_31accff6_f4c1_11e9_84d2_008cfafbf396row4_col133\" class=\"data row4 col133\" >nan</td>\n",
       "                        <td id=\"T_31accff6_f4c1_11e9_84d2_008cfafbf396row4_col134\" class=\"data row4 col134\" >nan</td>\n",
       "                        <td id=\"T_31accff6_f4c1_11e9_84d2_008cfafbf396row4_col135\" class=\"data row4 col135\" >nan</td>\n",
       "                        <td id=\"T_31accff6_f4c1_11e9_84d2_008cfafbf396row4_col136\" class=\"data row4 col136\" >nan</td>\n",
       "                        <td id=\"T_31accff6_f4c1_11e9_84d2_008cfafbf396row4_col137\" class=\"data row4 col137\" >nan</td>\n",
       "                        <td id=\"T_31accff6_f4c1_11e9_84d2_008cfafbf396row4_col138\" class=\"data row4 col138\" >nan</td>\n",
       "                        <td id=\"T_31accff6_f4c1_11e9_84d2_008cfafbf396row4_col139\" class=\"data row4 col139\" >nan</td>\n",
       "                        <td id=\"T_31accff6_f4c1_11e9_84d2_008cfafbf396row4_col140\" class=\"data row4 col140\" >nan</td>\n",
       "                        <td id=\"T_31accff6_f4c1_11e9_84d2_008cfafbf396row4_col141\" class=\"data row4 col141\" >nan</td>\n",
       "                        <td id=\"T_31accff6_f4c1_11e9_84d2_008cfafbf396row4_col142\" class=\"data row4 col142\" >nan</td>\n",
       "                        <td id=\"T_31accff6_f4c1_11e9_84d2_008cfafbf396row4_col143\" class=\"data row4 col143\" >nan</td>\n",
       "                        <td id=\"T_31accff6_f4c1_11e9_84d2_008cfafbf396row4_col144\" class=\"data row4 col144\" >nan</td>\n",
       "                        <td id=\"T_31accff6_f4c1_11e9_84d2_008cfafbf396row4_col145\" class=\"data row4 col145\" >nan</td>\n",
       "                        <td id=\"T_31accff6_f4c1_11e9_84d2_008cfafbf396row4_col146\" class=\"data row4 col146\" >nan</td>\n",
       "                        <td id=\"T_31accff6_f4c1_11e9_84d2_008cfafbf396row4_col147\" class=\"data row4 col147\" >nan</td>\n",
       "                        <td id=\"T_31accff6_f4c1_11e9_84d2_008cfafbf396row4_col148\" class=\"data row4 col148\" >nan</td>\n",
       "                        <td id=\"T_31accff6_f4c1_11e9_84d2_008cfafbf396row4_col149\" class=\"data row4 col149\" >nan</td>\n",
       "                        <td id=\"T_31accff6_f4c1_11e9_84d2_008cfafbf396row4_col150\" class=\"data row4 col150\" >nan</td>\n",
       "                        <td id=\"T_31accff6_f4c1_11e9_84d2_008cfafbf396row4_col151\" class=\"data row4 col151\" >nan</td>\n",
       "                        <td id=\"T_31accff6_f4c1_11e9_84d2_008cfafbf396row4_col152\" class=\"data row4 col152\" >nan</td>\n",
       "                        <td id=\"T_31accff6_f4c1_11e9_84d2_008cfafbf396row4_col153\" class=\"data row4 col153\" >nan</td>\n",
       "                        <td id=\"T_31accff6_f4c1_11e9_84d2_008cfafbf396row4_col154\" class=\"data row4 col154\" >nan</td>\n",
       "                        <td id=\"T_31accff6_f4c1_11e9_84d2_008cfafbf396row4_col155\" class=\"data row4 col155\" >nan</td>\n",
       "                        <td id=\"T_31accff6_f4c1_11e9_84d2_008cfafbf396row4_col156\" class=\"data row4 col156\" >nan</td>\n",
       "                        <td id=\"T_31accff6_f4c1_11e9_84d2_008cfafbf396row4_col157\" class=\"data row4 col157\" >nan</td>\n",
       "                        <td id=\"T_31accff6_f4c1_11e9_84d2_008cfafbf396row4_col158\" class=\"data row4 col158\" >nan</td>\n",
       "                        <td id=\"T_31accff6_f4c1_11e9_84d2_008cfafbf396row4_col159\" class=\"data row4 col159\" >nan</td>\n",
       "                        <td id=\"T_31accff6_f4c1_11e9_84d2_008cfafbf396row4_col160\" class=\"data row4 col160\" >nan</td>\n",
       "                        <td id=\"T_31accff6_f4c1_11e9_84d2_008cfafbf396row4_col161\" class=\"data row4 col161\" >nan</td>\n",
       "                        <td id=\"T_31accff6_f4c1_11e9_84d2_008cfafbf396row4_col162\" class=\"data row4 col162\" >nan</td>\n",
       "                        <td id=\"T_31accff6_f4c1_11e9_84d2_008cfafbf396row4_col163\" class=\"data row4 col163\" >nan</td>\n",
       "                        <td id=\"T_31accff6_f4c1_11e9_84d2_008cfafbf396row4_col164\" class=\"data row4 col164\" >nan</td>\n",
       "                        <td id=\"T_31accff6_f4c1_11e9_84d2_008cfafbf396row4_col165\" class=\"data row4 col165\" >nan</td>\n",
       "                        <td id=\"T_31accff6_f4c1_11e9_84d2_008cfafbf396row4_col166\" class=\"data row4 col166\" >nan</td>\n",
       "                        <td id=\"T_31accff6_f4c1_11e9_84d2_008cfafbf396row4_col167\" class=\"data row4 col167\" >nan</td>\n",
       "                        <td id=\"T_31accff6_f4c1_11e9_84d2_008cfafbf396row4_col168\" class=\"data row4 col168\" >nan</td>\n",
       "                        <td id=\"T_31accff6_f4c1_11e9_84d2_008cfafbf396row4_col169\" class=\"data row4 col169\" >nan</td>\n",
       "                        <td id=\"T_31accff6_f4c1_11e9_84d2_008cfafbf396row4_col170\" class=\"data row4 col170\" >nan</td>\n",
       "            </tr>\n",
       "            <tr>\n",
       "                                <td id=\"T_31accff6_f4c1_11e9_84d2_008cfafbf396row5_col0\" class=\"data row5 col0\" >60</td>\n",
       "                        <td id=\"T_31accff6_f4c1_11e9_84d2_008cfafbf396row5_col1\" class=\"data row5 col1\" >StackedEnsemble_AllModels_AutoML_20191022_083125</td>\n",
       "                        <td id=\"T_31accff6_f4c1_11e9_84d2_008cfafbf396row5_col2\" class=\"data row5 col2\" >DeepLearning_grid_1_AutoML_20191022_083125_model_17</td>\n",
       "                        <td id=\"T_31accff6_f4c1_11e9_84d2_008cfafbf396row5_col3\" class=\"data row5 col3\" >DeepLearning_grid_1_AutoML_20191022_083125_model_3</td>\n",
       "                        <td id=\"T_31accff6_f4c1_11e9_84d2_008cfafbf396row5_col4\" class=\"data row5 col4\" >GBM_grid_1_AutoML_20191022_083125_model_40</td>\n",
       "                        <td id=\"T_31accff6_f4c1_11e9_84d2_008cfafbf396row5_col5\" class=\"data row5 col5\" >GBM_grid_1_AutoML_20191022_083125_model_31</td>\n",
       "                        <td id=\"T_31accff6_f4c1_11e9_84d2_008cfafbf396row5_col6\" class=\"data row5 col6\" >DeepLearning_grid_1_AutoML_20191022_083125_model_2</td>\n",
       "                        <td id=\"T_31accff6_f4c1_11e9_84d2_008cfafbf396row5_col7\" class=\"data row5 col7\" >GBM_grid_1_AutoML_20191022_083125_model_18</td>\n",
       "                        <td id=\"T_31accff6_f4c1_11e9_84d2_008cfafbf396row5_col8\" class=\"data row5 col8\" >DeepLearning_grid_1_AutoML_20191022_083125_model_11</td>\n",
       "                        <td id=\"T_31accff6_f4c1_11e9_84d2_008cfafbf396row5_col9\" class=\"data row5 col9\" >GBM_grid_1_AutoML_20191022_083125_model_39</td>\n",
       "                        <td id=\"T_31accff6_f4c1_11e9_84d2_008cfafbf396row5_col10\" class=\"data row5 col10\" >DeepLearning_grid_1_AutoML_20191022_083125_model_6</td>\n",
       "                        <td id=\"T_31accff6_f4c1_11e9_84d2_008cfafbf396row5_col11\" class=\"data row5 col11\" >GBM_grid_1_AutoML_20191022_083125_model_19</td>\n",
       "                        <td id=\"T_31accff6_f4c1_11e9_84d2_008cfafbf396row5_col12\" class=\"data row5 col12\" >GBM_grid_1_AutoML_20191022_083125_model_46</td>\n",
       "                        <td id=\"T_31accff6_f4c1_11e9_84d2_008cfafbf396row5_col13\" class=\"data row5 col13\" >DeepLearning_grid_1_AutoML_20191022_083125_model_4</td>\n",
       "                        <td id=\"T_31accff6_f4c1_11e9_84d2_008cfafbf396row5_col14\" class=\"data row5 col14\" >DeepLearning_grid_1_AutoML_20191022_083125_model_1</td>\n",
       "                        <td id=\"T_31accff6_f4c1_11e9_84d2_008cfafbf396row5_col15\" class=\"data row5 col15\" >GBM_grid_1_AutoML_20191022_083125_model_41</td>\n",
       "                        <td id=\"T_31accff6_f4c1_11e9_84d2_008cfafbf396row5_col16\" class=\"data row5 col16\" >DeepLearning_grid_1_AutoML_20191022_083125_model_16</td>\n",
       "                        <td id=\"T_31accff6_f4c1_11e9_84d2_008cfafbf396row5_col17\" class=\"data row5 col17\" >DeepLearning_grid_1_AutoML_20191022_083125_model_14</td>\n",
       "                        <td id=\"T_31accff6_f4c1_11e9_84d2_008cfafbf396row5_col18\" class=\"data row5 col18\" >XGBoost_grid_1_AutoML_20191022_083125_model_13</td>\n",
       "                        <td id=\"T_31accff6_f4c1_11e9_84d2_008cfafbf396row5_col19\" class=\"data row5 col19\" >GBM_grid_1_AutoML_20191022_083125_model_15</td>\n",
       "                        <td id=\"T_31accff6_f4c1_11e9_84d2_008cfafbf396row5_col20\" class=\"data row5 col20\" >GBM_grid_1_AutoML_20191022_083125_model_35</td>\n",
       "                        <td id=\"T_31accff6_f4c1_11e9_84d2_008cfafbf396row5_col21\" class=\"data row5 col21\" >GBM_2_AutoML_20191022_083125</td>\n",
       "                        <td id=\"T_31accff6_f4c1_11e9_84d2_008cfafbf396row5_col22\" class=\"data row5 col22\" >GBM_grid_1_AutoML_20191022_083125_model_43</td>\n",
       "                        <td id=\"T_31accff6_f4c1_11e9_84d2_008cfafbf396row5_col23\" class=\"data row5 col23\" >DeepLearning_grid_1_AutoML_20191022_083125_model_10</td>\n",
       "                        <td id=\"T_31accff6_f4c1_11e9_84d2_008cfafbf396row5_col24\" class=\"data row5 col24\" >GBM_grid_1_AutoML_20191022_083125_model_55</td>\n",
       "                        <td id=\"T_31accff6_f4c1_11e9_84d2_008cfafbf396row5_col25\" class=\"data row5 col25\" >GBM_grid_1_AutoML_20191022_083125_model_3</td>\n",
       "                        <td id=\"T_31accff6_f4c1_11e9_84d2_008cfafbf396row5_col26\" class=\"data row5 col26\" >GBM_3_AutoML_20191022_083125</td>\n",
       "                        <td id=\"T_31accff6_f4c1_11e9_84d2_008cfafbf396row5_col27\" class=\"data row5 col27\" >GBM_grid_1_AutoML_20191022_083125_model_45</td>\n",
       "                        <td id=\"T_31accff6_f4c1_11e9_84d2_008cfafbf396row5_col28\" class=\"data row5 col28\" >GBM_grid_1_AutoML_20191022_083125_model_32</td>\n",
       "                        <td id=\"T_31accff6_f4c1_11e9_84d2_008cfafbf396row5_col29\" class=\"data row5 col29\" >GBM_grid_1_AutoML_20191022_083125_model_26</td>\n",
       "                        <td id=\"T_31accff6_f4c1_11e9_84d2_008cfafbf396row5_col30\" class=\"data row5 col30\" >GBM_grid_1_AutoML_20191022_083125_model_47</td>\n",
       "                        <td id=\"T_31accff6_f4c1_11e9_84d2_008cfafbf396row5_col31\" class=\"data row5 col31\" >GBM_grid_1_AutoML_20191022_083125_model_6</td>\n",
       "                        <td id=\"T_31accff6_f4c1_11e9_84d2_008cfafbf396row5_col32\" class=\"data row5 col32\" >GBM_grid_1_AutoML_20191022_083125_model_27</td>\n",
       "                        <td id=\"T_31accff6_f4c1_11e9_84d2_008cfafbf396row5_col33\" class=\"data row5 col33\" >GBM_grid_1_AutoML_20191022_083125_model_48</td>\n",
       "                        <td id=\"T_31accff6_f4c1_11e9_84d2_008cfafbf396row5_col34\" class=\"data row5 col34\" >GBM_grid_1_AutoML_20191022_083125_model_20</td>\n",
       "                        <td id=\"T_31accff6_f4c1_11e9_84d2_008cfafbf396row5_col35\" class=\"data row5 col35\" >GBM_grid_1_AutoML_20191022_083125_model_57</td>\n",
       "                        <td id=\"T_31accff6_f4c1_11e9_84d2_008cfafbf396row5_col36\" class=\"data row5 col36\" >GBM_grid_1_AutoML_20191022_083125_model_59</td>\n",
       "                        <td id=\"T_31accff6_f4c1_11e9_84d2_008cfafbf396row5_col37\" class=\"data row5 col37\" >GBM_5_AutoML_20191022_083125</td>\n",
       "                        <td id=\"T_31accff6_f4c1_11e9_84d2_008cfafbf396row5_col38\" class=\"data row5 col38\" >GBM_grid_1_AutoML_20191022_083125_model_67</td>\n",
       "                        <td id=\"T_31accff6_f4c1_11e9_84d2_008cfafbf396row5_col39\" class=\"data row5 col39\" >GBM_grid_1_AutoML_20191022_083125_model_63</td>\n",
       "                        <td id=\"T_31accff6_f4c1_11e9_84d2_008cfafbf396row5_col40\" class=\"data row5 col40\" >XGBoost_grid_1_AutoML_20191022_083125_model_33</td>\n",
       "                        <td id=\"T_31accff6_f4c1_11e9_84d2_008cfafbf396row5_col41\" class=\"data row5 col41\" >GBM_grid_1_AutoML_20191022_083125_model_12</td>\n",
       "                        <td id=\"T_31accff6_f4c1_11e9_84d2_008cfafbf396row5_col42\" class=\"data row5 col42\" >GBM_4_AutoML_20191022_083125</td>\n",
       "                        <td id=\"T_31accff6_f4c1_11e9_84d2_008cfafbf396row5_col43\" class=\"data row5 col43\" >DeepLearning_grid_1_AutoML_20191022_083125_model_12</td>\n",
       "                        <td id=\"T_31accff6_f4c1_11e9_84d2_008cfafbf396row5_col44\" class=\"data row5 col44\" >GBM_grid_1_AutoML_20191022_083125_model_66</td>\n",
       "                        <td id=\"T_31accff6_f4c1_11e9_84d2_008cfafbf396row5_col45\" class=\"data row5 col45\" >DeepLearning_grid_1_AutoML_20191022_083125_model_5</td>\n",
       "                        <td id=\"T_31accff6_f4c1_11e9_84d2_008cfafbf396row5_col46\" class=\"data row5 col46\" >XGBoost_grid_1_AutoML_20191022_083125_model_38</td>\n",
       "                        <td id=\"T_31accff6_f4c1_11e9_84d2_008cfafbf396row5_col47\" class=\"data row5 col47\" >GBM_grid_1_AutoML_20191022_083125_model_56</td>\n",
       "                        <td id=\"T_31accff6_f4c1_11e9_84d2_008cfafbf396row5_col48\" class=\"data row5 col48\" >GLM_grid_1_AutoML_20191022_083125_model_1</td>\n",
       "                        <td id=\"T_31accff6_f4c1_11e9_84d2_008cfafbf396row5_col49\" class=\"data row5 col49\" >DeepLearning_grid_1_AutoML_20191022_083125_model_13</td>\n",
       "                        <td id=\"T_31accff6_f4c1_11e9_84d2_008cfafbf396row5_col50\" class=\"data row5 col50\" >XGBoost_grid_1_AutoML_20191022_083125_model_52</td>\n",
       "                        <td id=\"T_31accff6_f4c1_11e9_84d2_008cfafbf396row5_col51\" class=\"data row5 col51\" >GBM_grid_1_AutoML_20191022_083125_model_17</td>\n",
       "                        <td id=\"T_31accff6_f4c1_11e9_84d2_008cfafbf396row5_col52\" class=\"data row5 col52\" >XGBoost_grid_1_AutoML_20191022_083125_model_35</td>\n",
       "                        <td id=\"T_31accff6_f4c1_11e9_84d2_008cfafbf396row5_col53\" class=\"data row5 col53\" >XGBoost_grid_1_AutoML_20191022_083125_model_55</td>\n",
       "                        <td id=\"T_31accff6_f4c1_11e9_84d2_008cfafbf396row5_col54\" class=\"data row5 col54\" >XGBoost_grid_1_AutoML_20191022_083125_model_46</td>\n",
       "                        <td id=\"T_31accff6_f4c1_11e9_84d2_008cfafbf396row5_col55\" class=\"data row5 col55\" >GBM_grid_1_AutoML_20191022_083125_model_62</td>\n",
       "                        <td id=\"T_31accff6_f4c1_11e9_84d2_008cfafbf396row5_col56\" class=\"data row5 col56\" >XRT_1_AutoML_20191022_083125</td>\n",
       "                        <td id=\"T_31accff6_f4c1_11e9_84d2_008cfafbf396row5_col57\" class=\"data row5 col57\" >GBM_grid_1_AutoML_20191022_083125_model_1</td>\n",
       "                        <td id=\"T_31accff6_f4c1_11e9_84d2_008cfafbf396row5_col58\" class=\"data row5 col58\" >GBM_grid_1_AutoML_20191022_083125_model_10</td>\n",
       "                        <td id=\"T_31accff6_f4c1_11e9_84d2_008cfafbf396row5_col59\" class=\"data row5 col59\" >XGBoost_grid_1_AutoML_20191022_083125_model_8</td>\n",
       "                        <td id=\"T_31accff6_f4c1_11e9_84d2_008cfafbf396row5_col60\" class=\"data row5 col60\" >XGBoost_grid_1_AutoML_20191022_083125_model_45</td>\n",
       "                        <td id=\"T_31accff6_f4c1_11e9_84d2_008cfafbf396row5_col61\" class=\"data row5 col61\" >GBM_1_AutoML_20191022_083125</td>\n",
       "                        <td id=\"T_31accff6_f4c1_11e9_84d2_008cfafbf396row5_col62\" class=\"data row5 col62\" >GBM_grid_1_AutoML_20191022_083125_model_14</td>\n",
       "                        <td id=\"T_31accff6_f4c1_11e9_84d2_008cfafbf396row5_col63\" class=\"data row5 col63\" >GBM_grid_1_AutoML_20191022_083125_model_42</td>\n",
       "                        <td id=\"T_31accff6_f4c1_11e9_84d2_008cfafbf396row5_col64\" class=\"data row5 col64\" >XGBoost_grid_1_AutoML_20191022_083125_model_48</td>\n",
       "                        <td id=\"T_31accff6_f4c1_11e9_84d2_008cfafbf396row5_col65\" class=\"data row5 col65\" >GBM_grid_1_AutoML_20191022_083125_model_11</td>\n",
       "                        <td id=\"T_31accff6_f4c1_11e9_84d2_008cfafbf396row5_col66\" class=\"data row5 col66\" >XGBoost_grid_1_AutoML_20191022_083125_model_30</td>\n",
       "                        <td id=\"T_31accff6_f4c1_11e9_84d2_008cfafbf396row5_col67\" class=\"data row5 col67\" >GBM_grid_1_AutoML_20191022_083125_model_16</td>\n",
       "                        <td id=\"T_31accff6_f4c1_11e9_84d2_008cfafbf396row5_col68\" class=\"data row5 col68\" >GBM_grid_1_AutoML_20191022_083125_model_24</td>\n",
       "                        <td id=\"T_31accff6_f4c1_11e9_84d2_008cfafbf396row5_col69\" class=\"data row5 col69\" >DRF_1_AutoML_20191022_083125</td>\n",
       "                        <td id=\"T_31accff6_f4c1_11e9_84d2_008cfafbf396row5_col70\" class=\"data row5 col70\" >XGBoost_grid_1_AutoML_20191022_083125_model_17</td>\n",
       "                        <td id=\"T_31accff6_f4c1_11e9_84d2_008cfafbf396row5_col71\" class=\"data row5 col71\" >GBM_grid_1_AutoML_20191022_083125_model_54</td>\n",
       "                        <td id=\"T_31accff6_f4c1_11e9_84d2_008cfafbf396row5_col72\" class=\"data row5 col72\" >GBM_grid_1_AutoML_20191022_083125_model_13</td>\n",
       "                        <td id=\"T_31accff6_f4c1_11e9_84d2_008cfafbf396row5_col73\" class=\"data row5 col73\" >GBM_grid_1_AutoML_20191022_083125_model_58</td>\n",
       "                        <td id=\"T_31accff6_f4c1_11e9_84d2_008cfafbf396row5_col74\" class=\"data row5 col74\" >XGBoost_grid_1_AutoML_20191022_083125_model_61</td>\n",
       "                        <td id=\"T_31accff6_f4c1_11e9_84d2_008cfafbf396row5_col75\" class=\"data row5 col75\" >XGBoost_3_AutoML_20191022_083125</td>\n",
       "                        <td id=\"T_31accff6_f4c1_11e9_84d2_008cfafbf396row5_col76\" class=\"data row5 col76\" >XGBoost_grid_1_AutoML_20191022_083125_model_49</td>\n",
       "                        <td id=\"T_31accff6_f4c1_11e9_84d2_008cfafbf396row5_col77\" class=\"data row5 col77\" >GBM_grid_1_AutoML_20191022_083125_model_52</td>\n",
       "                        <td id=\"T_31accff6_f4c1_11e9_84d2_008cfafbf396row5_col78\" class=\"data row5 col78\" >DeepLearning_grid_1_AutoML_20191022_083125_model_7</td>\n",
       "                        <td id=\"T_31accff6_f4c1_11e9_84d2_008cfafbf396row5_col79\" class=\"data row5 col79\" >XGBoost_grid_1_AutoML_20191022_083125_model_37</td>\n",
       "                        <td id=\"T_31accff6_f4c1_11e9_84d2_008cfafbf396row5_col80\" class=\"data row5 col80\" >DeepLearning_grid_1_AutoML_20191022_083125_model_15</td>\n",
       "                        <td id=\"T_31accff6_f4c1_11e9_84d2_008cfafbf396row5_col81\" class=\"data row5 col81\" >XGBoost_1_AutoML_20191022_083125</td>\n",
       "                        <td id=\"T_31accff6_f4c1_11e9_84d2_008cfafbf396row5_col82\" class=\"data row5 col82\" >XGBoost_grid_1_AutoML_20191022_083125_model_25</td>\n",
       "                        <td id=\"T_31accff6_f4c1_11e9_84d2_008cfafbf396row5_col83\" class=\"data row5 col83\" >GBM_grid_1_AutoML_20191022_083125_model_53</td>\n",
       "                        <td id=\"T_31accff6_f4c1_11e9_84d2_008cfafbf396row5_col84\" class=\"data row5 col84\" >XGBoost_grid_1_AutoML_20191022_083125_model_57</td>\n",
       "                        <td id=\"T_31accff6_f4c1_11e9_84d2_008cfafbf396row5_col85\" class=\"data row5 col85\" >XGBoost_grid_1_AutoML_20191022_083125_model_21</td>\n",
       "                        <td id=\"T_31accff6_f4c1_11e9_84d2_008cfafbf396row5_col86\" class=\"data row5 col86\" >XGBoost_grid_1_AutoML_20191022_083125_model_18</td>\n",
       "                        <td id=\"T_31accff6_f4c1_11e9_84d2_008cfafbf396row5_col87\" class=\"data row5 col87\" >DeepLearning_grid_1_AutoML_20191022_083125_model_8</td>\n",
       "                        <td id=\"T_31accff6_f4c1_11e9_84d2_008cfafbf396row5_col88\" class=\"data row5 col88\" >XGBoost_grid_1_AutoML_20191022_083125_model_26</td>\n",
       "                        <td id=\"T_31accff6_f4c1_11e9_84d2_008cfafbf396row5_col89\" class=\"data row5 col89\" >XGBoost_grid_1_AutoML_20191022_083125_model_47</td>\n",
       "                        <td id=\"T_31accff6_f4c1_11e9_84d2_008cfafbf396row5_col90\" class=\"data row5 col90\" >XGBoost_grid_1_AutoML_20191022_083125_model_15</td>\n",
       "                        <td id=\"T_31accff6_f4c1_11e9_84d2_008cfafbf396row5_col91\" class=\"data row5 col91\" >GBM_grid_1_AutoML_20191022_083125_model_8</td>\n",
       "                        <td id=\"T_31accff6_f4c1_11e9_84d2_008cfafbf396row5_col92\" class=\"data row5 col92\" >DeepLearning_grid_1_AutoML_20191022_083125_model_18</td>\n",
       "                        <td id=\"T_31accff6_f4c1_11e9_84d2_008cfafbf396row5_col93\" class=\"data row5 col93\" >GBM_grid_1_AutoML_20191022_083125_model_9</td>\n",
       "                        <td id=\"T_31accff6_f4c1_11e9_84d2_008cfafbf396row5_col94\" class=\"data row5 col94\" >XGBoost_grid_1_AutoML_20191022_083125_model_20</td>\n",
       "                        <td id=\"T_31accff6_f4c1_11e9_84d2_008cfafbf396row5_col95\" class=\"data row5 col95\" >XGBoost_grid_1_AutoML_20191022_083125_model_36</td>\n",
       "                        <td id=\"T_31accff6_f4c1_11e9_84d2_008cfafbf396row5_col96\" class=\"data row5 col96\" >XGBoost_grid_1_AutoML_20191022_083125_model_27</td>\n",
       "                        <td id=\"T_31accff6_f4c1_11e9_84d2_008cfafbf396row5_col97\" class=\"data row5 col97\" >XGBoost_grid_1_AutoML_20191022_083125_model_34</td>\n",
       "                        <td id=\"T_31accff6_f4c1_11e9_84d2_008cfafbf396row5_col98\" class=\"data row5 col98\" >XGBoost_grid_1_AutoML_20191022_083125_model_4</td>\n",
       "                        <td id=\"T_31accff6_f4c1_11e9_84d2_008cfafbf396row5_col99\" class=\"data row5 col99\" >XGBoost_grid_1_AutoML_20191022_083125_model_31</td>\n",
       "                        <td id=\"T_31accff6_f4c1_11e9_84d2_008cfafbf396row5_col100\" class=\"data row5 col100\" >GBM_grid_1_AutoML_20191022_083125_model_68</td>\n",
       "                        <td id=\"T_31accff6_f4c1_11e9_84d2_008cfafbf396row5_col101\" class=\"data row5 col101\" >XGBoost_grid_1_AutoML_20191022_083125_model_2</td>\n",
       "                        <td id=\"T_31accff6_f4c1_11e9_84d2_008cfafbf396row5_col102\" class=\"data row5 col102\" >GBM_grid_1_AutoML_20191022_083125_model_29</td>\n",
       "                        <td id=\"T_31accff6_f4c1_11e9_84d2_008cfafbf396row5_col103\" class=\"data row5 col103\" >XGBoost_grid_1_AutoML_20191022_083125_model_41</td>\n",
       "                        <td id=\"T_31accff6_f4c1_11e9_84d2_008cfafbf396row5_col104\" class=\"data row5 col104\" >XGBoost_grid_1_AutoML_20191022_083125_model_50</td>\n",
       "                        <td id=\"T_31accff6_f4c1_11e9_84d2_008cfafbf396row5_col105\" class=\"data row5 col105\" >XGBoost_grid_1_AutoML_20191022_083125_model_29</td>\n",
       "                        <td id=\"T_31accff6_f4c1_11e9_84d2_008cfafbf396row5_col106\" class=\"data row5 col106\" >GBM_grid_1_AutoML_20191022_083125_model_28</td>\n",
       "                        <td id=\"T_31accff6_f4c1_11e9_84d2_008cfafbf396row5_col107\" class=\"data row5 col107\" >XGBoost_grid_1_AutoML_20191022_083125_model_28</td>\n",
       "                        <td id=\"T_31accff6_f4c1_11e9_84d2_008cfafbf396row5_col108\" class=\"data row5 col108\" >XGBoost_grid_1_AutoML_20191022_083125_model_3</td>\n",
       "                        <td id=\"T_31accff6_f4c1_11e9_84d2_008cfafbf396row5_col109\" class=\"data row5 col109\" >XGBoost_grid_1_AutoML_20191022_083125_model_32</td>\n",
       "                        <td id=\"T_31accff6_f4c1_11e9_84d2_008cfafbf396row5_col110\" class=\"data row5 col110\" >XGBoost_grid_1_AutoML_20191022_083125_model_59</td>\n",
       "                        <td id=\"T_31accff6_f4c1_11e9_84d2_008cfafbf396row5_col111\" class=\"data row5 col111\" >DeepLearning_grid_1_AutoML_20191022_083125_model_19</td>\n",
       "                        <td id=\"T_31accff6_f4c1_11e9_84d2_008cfafbf396row5_col112\" class=\"data row5 col112\" >XGBoost_grid_1_AutoML_20191022_083125_model_23</td>\n",
       "                        <td id=\"T_31accff6_f4c1_11e9_84d2_008cfafbf396row5_col113\" class=\"data row5 col113\" >XGBoost_grid_1_AutoML_20191022_083125_model_7</td>\n",
       "                        <td id=\"T_31accff6_f4c1_11e9_84d2_008cfafbf396row5_col114\" class=\"data row5 col114\" >XGBoost_grid_1_AutoML_20191022_083125_model_19</td>\n",
       "                        <td id=\"T_31accff6_f4c1_11e9_84d2_008cfafbf396row5_col115\" class=\"data row5 col115\" >XGBoost_grid_1_AutoML_20191022_083125_model_53</td>\n",
       "                        <td id=\"T_31accff6_f4c1_11e9_84d2_008cfafbf396row5_col116\" class=\"data row5 col116\" >GBM_grid_1_AutoML_20191022_083125_model_70</td>\n",
       "                        <td id=\"T_31accff6_f4c1_11e9_84d2_008cfafbf396row5_col117\" class=\"data row5 col117\" >GBM_grid_1_AutoML_20191022_083125_model_25</td>\n",
       "                        <td id=\"T_31accff6_f4c1_11e9_84d2_008cfafbf396row5_col118\" class=\"data row5 col118\" >GBM_grid_1_AutoML_20191022_083125_model_21</td>\n",
       "                        <td id=\"T_31accff6_f4c1_11e9_84d2_008cfafbf396row5_col119\" class=\"data row5 col119\" >XGBoost_2_AutoML_20191022_083125</td>\n",
       "                        <td id=\"T_31accff6_f4c1_11e9_84d2_008cfafbf396row5_col120\" class=\"data row5 col120\" >GBM_grid_1_AutoML_20191022_083125_model_30</td>\n",
       "                        <td id=\"T_31accff6_f4c1_11e9_84d2_008cfafbf396row5_col121\" class=\"data row5 col121\" >GBM_grid_1_AutoML_20191022_083125_model_7</td>\n",
       "                        <td id=\"T_31accff6_f4c1_11e9_84d2_008cfafbf396row5_col122\" class=\"data row5 col122\" >XGBoost_grid_1_AutoML_20191022_083125_model_62</td>\n",
       "                        <td id=\"T_31accff6_f4c1_11e9_84d2_008cfafbf396row5_col123\" class=\"data row5 col123\" >GBM_grid_1_AutoML_20191022_083125_model_23</td>\n",
       "                        <td id=\"T_31accff6_f4c1_11e9_84d2_008cfafbf396row5_col124\" class=\"data row5 col124\" >GBM_grid_1_AutoML_20191022_083125_model_38</td>\n",
       "                        <td id=\"T_31accff6_f4c1_11e9_84d2_008cfafbf396row5_col125\" class=\"data row5 col125\" >XGBoost_grid_1_AutoML_20191022_083125_model_42</td>\n",
       "                        <td id=\"T_31accff6_f4c1_11e9_84d2_008cfafbf396row5_col126\" class=\"data row5 col126\" >XGBoost_grid_1_AutoML_20191022_083125_model_56</td>\n",
       "                        <td id=\"T_31accff6_f4c1_11e9_84d2_008cfafbf396row5_col127\" class=\"data row5 col127\" >XGBoost_grid_1_AutoML_20191022_083125_model_5</td>\n",
       "                        <td id=\"T_31accff6_f4c1_11e9_84d2_008cfafbf396row5_col128\" class=\"data row5 col128\" >XGBoost_grid_1_AutoML_20191022_083125_model_22</td>\n",
       "                        <td id=\"T_31accff6_f4c1_11e9_84d2_008cfafbf396row5_col129\" class=\"data row5 col129\" >XGBoost_grid_1_AutoML_20191022_083125_model_44</td>\n",
       "                        <td id=\"T_31accff6_f4c1_11e9_84d2_008cfafbf396row5_col130\" class=\"data row5 col130\" >GBM_grid_1_AutoML_20191022_083125_model_33</td>\n",
       "                        <td id=\"T_31accff6_f4c1_11e9_84d2_008cfafbf396row5_col131\" class=\"data row5 col131\" >XGBoost_grid_1_AutoML_20191022_083125_model_58</td>\n",
       "                        <td id=\"T_31accff6_f4c1_11e9_84d2_008cfafbf396row5_col132\" class=\"data row5 col132\" >XGBoost_grid_1_AutoML_20191022_083125_model_54</td>\n",
       "                        <td id=\"T_31accff6_f4c1_11e9_84d2_008cfafbf396row5_col133\" class=\"data row5 col133\" >XGBoost_grid_1_AutoML_20191022_083125_model_39</td>\n",
       "                        <td id=\"T_31accff6_f4c1_11e9_84d2_008cfafbf396row5_col134\" class=\"data row5 col134\" >XGBoost_grid_1_AutoML_20191022_083125_model_12</td>\n",
       "                        <td id=\"T_31accff6_f4c1_11e9_84d2_008cfafbf396row5_col135\" class=\"data row5 col135\" >XGBoost_grid_1_AutoML_20191022_083125_model_43</td>\n",
       "                        <td id=\"T_31accff6_f4c1_11e9_84d2_008cfafbf396row5_col136\" class=\"data row5 col136\" >GBM_grid_1_AutoML_20191022_083125_model_5</td>\n",
       "                        <td id=\"T_31accff6_f4c1_11e9_84d2_008cfafbf396row5_col137\" class=\"data row5 col137\" >XGBoost_grid_1_AutoML_20191022_083125_model_11</td>\n",
       "                        <td id=\"T_31accff6_f4c1_11e9_84d2_008cfafbf396row5_col138\" class=\"data row5 col138\" >XGBoost_grid_1_AutoML_20191022_083125_model_6</td>\n",
       "                        <td id=\"T_31accff6_f4c1_11e9_84d2_008cfafbf396row5_col139\" class=\"data row5 col139\" >XGBoost_grid_1_AutoML_20191022_083125_model_1</td>\n",
       "                        <td id=\"T_31accff6_f4c1_11e9_84d2_008cfafbf396row5_col140\" class=\"data row5 col140\" >GBM_grid_1_AutoML_20191022_083125_model_37</td>\n",
       "                        <td id=\"T_31accff6_f4c1_11e9_84d2_008cfafbf396row5_col141\" class=\"data row5 col141\" >XGBoost_grid_1_AutoML_20191022_083125_model_40</td>\n",
       "                        <td id=\"T_31accff6_f4c1_11e9_84d2_008cfafbf396row5_col142\" class=\"data row5 col142\" >GBM_grid_1_AutoML_20191022_083125_model_61</td>\n",
       "                        <td id=\"T_31accff6_f4c1_11e9_84d2_008cfafbf396row5_col143\" class=\"data row5 col143\" >XGBoost_grid_1_AutoML_20191022_083125_model_14</td>\n",
       "                        <td id=\"T_31accff6_f4c1_11e9_84d2_008cfafbf396row5_col144\" class=\"data row5 col144\" >XGBoost_grid_1_AutoML_20191022_083125_model_60</td>\n",
       "                        <td id=\"T_31accff6_f4c1_11e9_84d2_008cfafbf396row5_col145\" class=\"data row5 col145\" >XGBoost_grid_1_AutoML_20191022_083125_model_24</td>\n",
       "                        <td id=\"T_31accff6_f4c1_11e9_84d2_008cfafbf396row5_col146\" class=\"data row5 col146\" >XGBoost_grid_1_AutoML_20191022_083125_model_10</td>\n",
       "                        <td id=\"T_31accff6_f4c1_11e9_84d2_008cfafbf396row5_col147\" class=\"data row5 col147\" >GBM_grid_1_AutoML_20191022_083125_model_4</td>\n",
       "                        <td id=\"T_31accff6_f4c1_11e9_84d2_008cfafbf396row5_col148\" class=\"data row5 col148\" >GBM_grid_1_AutoML_20191022_083125_model_69</td>\n",
       "                        <td id=\"T_31accff6_f4c1_11e9_84d2_008cfafbf396row5_col149\" class=\"data row5 col149\" >XGBoost_grid_1_AutoML_20191022_083125_model_16</td>\n",
       "                        <td id=\"T_31accff6_f4c1_11e9_84d2_008cfafbf396row5_col150\" class=\"data row5 col150\" >XGBoost_grid_1_AutoML_20191022_083125_model_51</td>\n",
       "                        <td id=\"T_31accff6_f4c1_11e9_84d2_008cfafbf396row5_col151\" class=\"data row5 col151\" >XGBoost_grid_1_AutoML_20191022_083125_model_9</td>\n",
       "                        <td id=\"T_31accff6_f4c1_11e9_84d2_008cfafbf396row5_col152\" class=\"data row5 col152\" >GBM_grid_1_AutoML_20191022_083125_model_34</td>\n",
       "                        <td id=\"T_31accff6_f4c1_11e9_84d2_008cfafbf396row5_col153\" class=\"data row5 col153\" >GBM_grid_1_AutoML_20191022_083125_model_50</td>\n",
       "                        <td id=\"T_31accff6_f4c1_11e9_84d2_008cfafbf396row5_col154\" class=\"data row5 col154\" >GBM_grid_1_AutoML_20191022_083125_model_51</td>\n",
       "                        <td id=\"T_31accff6_f4c1_11e9_84d2_008cfafbf396row5_col155\" class=\"data row5 col155\" >GBM_grid_1_AutoML_20191022_083125_model_71</td>\n",
       "                        <td id=\"T_31accff6_f4c1_11e9_84d2_008cfafbf396row5_col156\" class=\"data row5 col156\" >DeepLearning_1_AutoML_20191022_083125</td>\n",
       "                        <td id=\"T_31accff6_f4c1_11e9_84d2_008cfafbf396row5_col157\" class=\"data row5 col157\" >DeepLearning_grid_1_AutoML_20191022_083125_model_9</td>\n",
       "                        <td id=\"T_31accff6_f4c1_11e9_84d2_008cfafbf396row5_col158\" class=\"data row5 col158\" >GBM_grid_1_AutoML_20191022_083125_model_2</td>\n",
       "                        <td id=\"T_31accff6_f4c1_11e9_84d2_008cfafbf396row5_col159\" class=\"data row5 col159\" >GBM_grid_1_AutoML_20191022_083125_model_64</td>\n",
       "                        <td id=\"T_31accff6_f4c1_11e9_84d2_008cfafbf396row5_col160\" class=\"data row5 col160\" >GBM_grid_1_AutoML_20191022_083125_model_49</td>\n",
       "                        <td id=\"T_31accff6_f4c1_11e9_84d2_008cfafbf396row5_col161\" class=\"data row5 col161\" >GBM_grid_1_AutoML_20191022_083125_model_44</td>\n",
       "                        <td id=\"T_31accff6_f4c1_11e9_84d2_008cfafbf396row5_col162\" class=\"data row5 col162\" >GBM_grid_1_AutoML_20191022_083125_model_22</td>\n",
       "                        <td id=\"T_31accff6_f4c1_11e9_84d2_008cfafbf396row5_col163\" class=\"data row5 col163\" >GBM_grid_1_AutoML_20191022_083125_model_60</td>\n",
       "                        <td id=\"T_31accff6_f4c1_11e9_84d2_008cfafbf396row5_col164\" class=\"data row5 col164\" >GBM_grid_1_AutoML_20191022_083125_model_65</td>\n",
       "                        <td id=\"T_31accff6_f4c1_11e9_84d2_008cfafbf396row5_col165\" class=\"data row5 col165\" >GBM_grid_1_AutoML_20191022_083125_model_36</td>\n",
       "                        <td id=\"T_31accff6_f4c1_11e9_84d2_008cfafbf396row5_col166\" class=\"data row5 col166\" >nan</td>\n",
       "                        <td id=\"T_31accff6_f4c1_11e9_84d2_008cfafbf396row5_col167\" class=\"data row5 col167\" >nan</td>\n",
       "                        <td id=\"T_31accff6_f4c1_11e9_84d2_008cfafbf396row5_col168\" class=\"data row5 col168\" >nan</td>\n",
       "                        <td id=\"T_31accff6_f4c1_11e9_84d2_008cfafbf396row5_col169\" class=\"data row5 col169\" >nan</td>\n",
       "                        <td id=\"T_31accff6_f4c1_11e9_84d2_008cfafbf396row5_col170\" class=\"data row5 col170\" >nan</td>\n",
       "            </tr>\n",
       "            <tr>\n",
       "                                <td id=\"T_31accff6_f4c1_11e9_84d2_008cfafbf396row6_col0\" class=\"data row6 col0\" >72</td>\n",
       "                        <td id=\"T_31accff6_f4c1_11e9_84d2_008cfafbf396row6_col1\" class=\"data row6 col1\" >DeepLearning_grid_1_AutoML_20191022_080647_model_10</td>\n",
       "                        <td id=\"T_31accff6_f4c1_11e9_84d2_008cfafbf396row6_col2\" class=\"data row6 col2\" >nan</td>\n",
       "                        <td id=\"T_31accff6_f4c1_11e9_84d2_008cfafbf396row6_col3\" class=\"data row6 col3\" >nan</td>\n",
       "                        <td id=\"T_31accff6_f4c1_11e9_84d2_008cfafbf396row6_col4\" class=\"data row6 col4\" >nan</td>\n",
       "                        <td id=\"T_31accff6_f4c1_11e9_84d2_008cfafbf396row6_col5\" class=\"data row6 col5\" >nan</td>\n",
       "                        <td id=\"T_31accff6_f4c1_11e9_84d2_008cfafbf396row6_col6\" class=\"data row6 col6\" >nan</td>\n",
       "                        <td id=\"T_31accff6_f4c1_11e9_84d2_008cfafbf396row6_col7\" class=\"data row6 col7\" >nan</td>\n",
       "                        <td id=\"T_31accff6_f4c1_11e9_84d2_008cfafbf396row6_col8\" class=\"data row6 col8\" >nan</td>\n",
       "                        <td id=\"T_31accff6_f4c1_11e9_84d2_008cfafbf396row6_col9\" class=\"data row6 col9\" >nan</td>\n",
       "                        <td id=\"T_31accff6_f4c1_11e9_84d2_008cfafbf396row6_col10\" class=\"data row6 col10\" >nan</td>\n",
       "                        <td id=\"T_31accff6_f4c1_11e9_84d2_008cfafbf396row6_col11\" class=\"data row6 col11\" >nan</td>\n",
       "                        <td id=\"T_31accff6_f4c1_11e9_84d2_008cfafbf396row6_col12\" class=\"data row6 col12\" >nan</td>\n",
       "                        <td id=\"T_31accff6_f4c1_11e9_84d2_008cfafbf396row6_col13\" class=\"data row6 col13\" >nan</td>\n",
       "                        <td id=\"T_31accff6_f4c1_11e9_84d2_008cfafbf396row6_col14\" class=\"data row6 col14\" >nan</td>\n",
       "                        <td id=\"T_31accff6_f4c1_11e9_84d2_008cfafbf396row6_col15\" class=\"data row6 col15\" >nan</td>\n",
       "                        <td id=\"T_31accff6_f4c1_11e9_84d2_008cfafbf396row6_col16\" class=\"data row6 col16\" >nan</td>\n",
       "                        <td id=\"T_31accff6_f4c1_11e9_84d2_008cfafbf396row6_col17\" class=\"data row6 col17\" >nan</td>\n",
       "                        <td id=\"T_31accff6_f4c1_11e9_84d2_008cfafbf396row6_col18\" class=\"data row6 col18\" >nan</td>\n",
       "                        <td id=\"T_31accff6_f4c1_11e9_84d2_008cfafbf396row6_col19\" class=\"data row6 col19\" >nan</td>\n",
       "                        <td id=\"T_31accff6_f4c1_11e9_84d2_008cfafbf396row6_col20\" class=\"data row6 col20\" >nan</td>\n",
       "                        <td id=\"T_31accff6_f4c1_11e9_84d2_008cfafbf396row6_col21\" class=\"data row6 col21\" >nan</td>\n",
       "                        <td id=\"T_31accff6_f4c1_11e9_84d2_008cfafbf396row6_col22\" class=\"data row6 col22\" >nan</td>\n",
       "                        <td id=\"T_31accff6_f4c1_11e9_84d2_008cfafbf396row6_col23\" class=\"data row6 col23\" >nan</td>\n",
       "                        <td id=\"T_31accff6_f4c1_11e9_84d2_008cfafbf396row6_col24\" class=\"data row6 col24\" >nan</td>\n",
       "                        <td id=\"T_31accff6_f4c1_11e9_84d2_008cfafbf396row6_col25\" class=\"data row6 col25\" >nan</td>\n",
       "                        <td id=\"T_31accff6_f4c1_11e9_84d2_008cfafbf396row6_col26\" class=\"data row6 col26\" >nan</td>\n",
       "                        <td id=\"T_31accff6_f4c1_11e9_84d2_008cfafbf396row6_col27\" class=\"data row6 col27\" >nan</td>\n",
       "                        <td id=\"T_31accff6_f4c1_11e9_84d2_008cfafbf396row6_col28\" class=\"data row6 col28\" >nan</td>\n",
       "                        <td id=\"T_31accff6_f4c1_11e9_84d2_008cfafbf396row6_col29\" class=\"data row6 col29\" >nan</td>\n",
       "                        <td id=\"T_31accff6_f4c1_11e9_84d2_008cfafbf396row6_col30\" class=\"data row6 col30\" >nan</td>\n",
       "                        <td id=\"T_31accff6_f4c1_11e9_84d2_008cfafbf396row6_col31\" class=\"data row6 col31\" >nan</td>\n",
       "                        <td id=\"T_31accff6_f4c1_11e9_84d2_008cfafbf396row6_col32\" class=\"data row6 col32\" >nan</td>\n",
       "                        <td id=\"T_31accff6_f4c1_11e9_84d2_008cfafbf396row6_col33\" class=\"data row6 col33\" >nan</td>\n",
       "                        <td id=\"T_31accff6_f4c1_11e9_84d2_008cfafbf396row6_col34\" class=\"data row6 col34\" >nan</td>\n",
       "                        <td id=\"T_31accff6_f4c1_11e9_84d2_008cfafbf396row6_col35\" class=\"data row6 col35\" >nan</td>\n",
       "                        <td id=\"T_31accff6_f4c1_11e9_84d2_008cfafbf396row6_col36\" class=\"data row6 col36\" >nan</td>\n",
       "                        <td id=\"T_31accff6_f4c1_11e9_84d2_008cfafbf396row6_col37\" class=\"data row6 col37\" >nan</td>\n",
       "                        <td id=\"T_31accff6_f4c1_11e9_84d2_008cfafbf396row6_col38\" class=\"data row6 col38\" >nan</td>\n",
       "                        <td id=\"T_31accff6_f4c1_11e9_84d2_008cfafbf396row6_col39\" class=\"data row6 col39\" >nan</td>\n",
       "                        <td id=\"T_31accff6_f4c1_11e9_84d2_008cfafbf396row6_col40\" class=\"data row6 col40\" >nan</td>\n",
       "                        <td id=\"T_31accff6_f4c1_11e9_84d2_008cfafbf396row6_col41\" class=\"data row6 col41\" >nan</td>\n",
       "                        <td id=\"T_31accff6_f4c1_11e9_84d2_008cfafbf396row6_col42\" class=\"data row6 col42\" >nan</td>\n",
       "                        <td id=\"T_31accff6_f4c1_11e9_84d2_008cfafbf396row6_col43\" class=\"data row6 col43\" >nan</td>\n",
       "                        <td id=\"T_31accff6_f4c1_11e9_84d2_008cfafbf396row6_col44\" class=\"data row6 col44\" >nan</td>\n",
       "                        <td id=\"T_31accff6_f4c1_11e9_84d2_008cfafbf396row6_col45\" class=\"data row6 col45\" >nan</td>\n",
       "                        <td id=\"T_31accff6_f4c1_11e9_84d2_008cfafbf396row6_col46\" class=\"data row6 col46\" >nan</td>\n",
       "                        <td id=\"T_31accff6_f4c1_11e9_84d2_008cfafbf396row6_col47\" class=\"data row6 col47\" >nan</td>\n",
       "                        <td id=\"T_31accff6_f4c1_11e9_84d2_008cfafbf396row6_col48\" class=\"data row6 col48\" >nan</td>\n",
       "                        <td id=\"T_31accff6_f4c1_11e9_84d2_008cfafbf396row6_col49\" class=\"data row6 col49\" >nan</td>\n",
       "                        <td id=\"T_31accff6_f4c1_11e9_84d2_008cfafbf396row6_col50\" class=\"data row6 col50\" >nan</td>\n",
       "                        <td id=\"T_31accff6_f4c1_11e9_84d2_008cfafbf396row6_col51\" class=\"data row6 col51\" >nan</td>\n",
       "                        <td id=\"T_31accff6_f4c1_11e9_84d2_008cfafbf396row6_col52\" class=\"data row6 col52\" >nan</td>\n",
       "                        <td id=\"T_31accff6_f4c1_11e9_84d2_008cfafbf396row6_col53\" class=\"data row6 col53\" >nan</td>\n",
       "                        <td id=\"T_31accff6_f4c1_11e9_84d2_008cfafbf396row6_col54\" class=\"data row6 col54\" >nan</td>\n",
       "                        <td id=\"T_31accff6_f4c1_11e9_84d2_008cfafbf396row6_col55\" class=\"data row6 col55\" >nan</td>\n",
       "                        <td id=\"T_31accff6_f4c1_11e9_84d2_008cfafbf396row6_col56\" class=\"data row6 col56\" >nan</td>\n",
       "                        <td id=\"T_31accff6_f4c1_11e9_84d2_008cfafbf396row6_col57\" class=\"data row6 col57\" >nan</td>\n",
       "                        <td id=\"T_31accff6_f4c1_11e9_84d2_008cfafbf396row6_col58\" class=\"data row6 col58\" >nan</td>\n",
       "                        <td id=\"T_31accff6_f4c1_11e9_84d2_008cfafbf396row6_col59\" class=\"data row6 col59\" >nan</td>\n",
       "                        <td id=\"T_31accff6_f4c1_11e9_84d2_008cfafbf396row6_col60\" class=\"data row6 col60\" >nan</td>\n",
       "                        <td id=\"T_31accff6_f4c1_11e9_84d2_008cfafbf396row6_col61\" class=\"data row6 col61\" >nan</td>\n",
       "                        <td id=\"T_31accff6_f4c1_11e9_84d2_008cfafbf396row6_col62\" class=\"data row6 col62\" >nan</td>\n",
       "                        <td id=\"T_31accff6_f4c1_11e9_84d2_008cfafbf396row6_col63\" class=\"data row6 col63\" >nan</td>\n",
       "                        <td id=\"T_31accff6_f4c1_11e9_84d2_008cfafbf396row6_col64\" class=\"data row6 col64\" >nan</td>\n",
       "                        <td id=\"T_31accff6_f4c1_11e9_84d2_008cfafbf396row6_col65\" class=\"data row6 col65\" >nan</td>\n",
       "                        <td id=\"T_31accff6_f4c1_11e9_84d2_008cfafbf396row6_col66\" class=\"data row6 col66\" >nan</td>\n",
       "                        <td id=\"T_31accff6_f4c1_11e9_84d2_008cfafbf396row6_col67\" class=\"data row6 col67\" >nan</td>\n",
       "                        <td id=\"T_31accff6_f4c1_11e9_84d2_008cfafbf396row6_col68\" class=\"data row6 col68\" >nan</td>\n",
       "                        <td id=\"T_31accff6_f4c1_11e9_84d2_008cfafbf396row6_col69\" class=\"data row6 col69\" >nan</td>\n",
       "                        <td id=\"T_31accff6_f4c1_11e9_84d2_008cfafbf396row6_col70\" class=\"data row6 col70\" >nan</td>\n",
       "                        <td id=\"T_31accff6_f4c1_11e9_84d2_008cfafbf396row6_col71\" class=\"data row6 col71\" >nan</td>\n",
       "                        <td id=\"T_31accff6_f4c1_11e9_84d2_008cfafbf396row6_col72\" class=\"data row6 col72\" >nan</td>\n",
       "                        <td id=\"T_31accff6_f4c1_11e9_84d2_008cfafbf396row6_col73\" class=\"data row6 col73\" >nan</td>\n",
       "                        <td id=\"T_31accff6_f4c1_11e9_84d2_008cfafbf396row6_col74\" class=\"data row6 col74\" >nan</td>\n",
       "                        <td id=\"T_31accff6_f4c1_11e9_84d2_008cfafbf396row6_col75\" class=\"data row6 col75\" >nan</td>\n",
       "                        <td id=\"T_31accff6_f4c1_11e9_84d2_008cfafbf396row6_col76\" class=\"data row6 col76\" >nan</td>\n",
       "                        <td id=\"T_31accff6_f4c1_11e9_84d2_008cfafbf396row6_col77\" class=\"data row6 col77\" >nan</td>\n",
       "                        <td id=\"T_31accff6_f4c1_11e9_84d2_008cfafbf396row6_col78\" class=\"data row6 col78\" >nan</td>\n",
       "                        <td id=\"T_31accff6_f4c1_11e9_84d2_008cfafbf396row6_col79\" class=\"data row6 col79\" >nan</td>\n",
       "                        <td id=\"T_31accff6_f4c1_11e9_84d2_008cfafbf396row6_col80\" class=\"data row6 col80\" >nan</td>\n",
       "                        <td id=\"T_31accff6_f4c1_11e9_84d2_008cfafbf396row6_col81\" class=\"data row6 col81\" >nan</td>\n",
       "                        <td id=\"T_31accff6_f4c1_11e9_84d2_008cfafbf396row6_col82\" class=\"data row6 col82\" >nan</td>\n",
       "                        <td id=\"T_31accff6_f4c1_11e9_84d2_008cfafbf396row6_col83\" class=\"data row6 col83\" >nan</td>\n",
       "                        <td id=\"T_31accff6_f4c1_11e9_84d2_008cfafbf396row6_col84\" class=\"data row6 col84\" >nan</td>\n",
       "                        <td id=\"T_31accff6_f4c1_11e9_84d2_008cfafbf396row6_col85\" class=\"data row6 col85\" >nan</td>\n",
       "                        <td id=\"T_31accff6_f4c1_11e9_84d2_008cfafbf396row6_col86\" class=\"data row6 col86\" >nan</td>\n",
       "                        <td id=\"T_31accff6_f4c1_11e9_84d2_008cfafbf396row6_col87\" class=\"data row6 col87\" >nan</td>\n",
       "                        <td id=\"T_31accff6_f4c1_11e9_84d2_008cfafbf396row6_col88\" class=\"data row6 col88\" >nan</td>\n",
       "                        <td id=\"T_31accff6_f4c1_11e9_84d2_008cfafbf396row6_col89\" class=\"data row6 col89\" >nan</td>\n",
       "                        <td id=\"T_31accff6_f4c1_11e9_84d2_008cfafbf396row6_col90\" class=\"data row6 col90\" >nan</td>\n",
       "                        <td id=\"T_31accff6_f4c1_11e9_84d2_008cfafbf396row6_col91\" class=\"data row6 col91\" >nan</td>\n",
       "                        <td id=\"T_31accff6_f4c1_11e9_84d2_008cfafbf396row6_col92\" class=\"data row6 col92\" >nan</td>\n",
       "                        <td id=\"T_31accff6_f4c1_11e9_84d2_008cfafbf396row6_col93\" class=\"data row6 col93\" >nan</td>\n",
       "                        <td id=\"T_31accff6_f4c1_11e9_84d2_008cfafbf396row6_col94\" class=\"data row6 col94\" >nan</td>\n",
       "                        <td id=\"T_31accff6_f4c1_11e9_84d2_008cfafbf396row6_col95\" class=\"data row6 col95\" >nan</td>\n",
       "                        <td id=\"T_31accff6_f4c1_11e9_84d2_008cfafbf396row6_col96\" class=\"data row6 col96\" >nan</td>\n",
       "                        <td id=\"T_31accff6_f4c1_11e9_84d2_008cfafbf396row6_col97\" class=\"data row6 col97\" >nan</td>\n",
       "                        <td id=\"T_31accff6_f4c1_11e9_84d2_008cfafbf396row6_col98\" class=\"data row6 col98\" >nan</td>\n",
       "                        <td id=\"T_31accff6_f4c1_11e9_84d2_008cfafbf396row6_col99\" class=\"data row6 col99\" >nan</td>\n",
       "                        <td id=\"T_31accff6_f4c1_11e9_84d2_008cfafbf396row6_col100\" class=\"data row6 col100\" >nan</td>\n",
       "                        <td id=\"T_31accff6_f4c1_11e9_84d2_008cfafbf396row6_col101\" class=\"data row6 col101\" >nan</td>\n",
       "                        <td id=\"T_31accff6_f4c1_11e9_84d2_008cfafbf396row6_col102\" class=\"data row6 col102\" >nan</td>\n",
       "                        <td id=\"T_31accff6_f4c1_11e9_84d2_008cfafbf396row6_col103\" class=\"data row6 col103\" >nan</td>\n",
       "                        <td id=\"T_31accff6_f4c1_11e9_84d2_008cfafbf396row6_col104\" class=\"data row6 col104\" >nan</td>\n",
       "                        <td id=\"T_31accff6_f4c1_11e9_84d2_008cfafbf396row6_col105\" class=\"data row6 col105\" >nan</td>\n",
       "                        <td id=\"T_31accff6_f4c1_11e9_84d2_008cfafbf396row6_col106\" class=\"data row6 col106\" >nan</td>\n",
       "                        <td id=\"T_31accff6_f4c1_11e9_84d2_008cfafbf396row6_col107\" class=\"data row6 col107\" >nan</td>\n",
       "                        <td id=\"T_31accff6_f4c1_11e9_84d2_008cfafbf396row6_col108\" class=\"data row6 col108\" >nan</td>\n",
       "                        <td id=\"T_31accff6_f4c1_11e9_84d2_008cfafbf396row6_col109\" class=\"data row6 col109\" >nan</td>\n",
       "                        <td id=\"T_31accff6_f4c1_11e9_84d2_008cfafbf396row6_col110\" class=\"data row6 col110\" >nan</td>\n",
       "                        <td id=\"T_31accff6_f4c1_11e9_84d2_008cfafbf396row6_col111\" class=\"data row6 col111\" >nan</td>\n",
       "                        <td id=\"T_31accff6_f4c1_11e9_84d2_008cfafbf396row6_col112\" class=\"data row6 col112\" >nan</td>\n",
       "                        <td id=\"T_31accff6_f4c1_11e9_84d2_008cfafbf396row6_col113\" class=\"data row6 col113\" >nan</td>\n",
       "                        <td id=\"T_31accff6_f4c1_11e9_84d2_008cfafbf396row6_col114\" class=\"data row6 col114\" >nan</td>\n",
       "                        <td id=\"T_31accff6_f4c1_11e9_84d2_008cfafbf396row6_col115\" class=\"data row6 col115\" >nan</td>\n",
       "                        <td id=\"T_31accff6_f4c1_11e9_84d2_008cfafbf396row6_col116\" class=\"data row6 col116\" >nan</td>\n",
       "                        <td id=\"T_31accff6_f4c1_11e9_84d2_008cfafbf396row6_col117\" class=\"data row6 col117\" >nan</td>\n",
       "                        <td id=\"T_31accff6_f4c1_11e9_84d2_008cfafbf396row6_col118\" class=\"data row6 col118\" >nan</td>\n",
       "                        <td id=\"T_31accff6_f4c1_11e9_84d2_008cfafbf396row6_col119\" class=\"data row6 col119\" >nan</td>\n",
       "                        <td id=\"T_31accff6_f4c1_11e9_84d2_008cfafbf396row6_col120\" class=\"data row6 col120\" >nan</td>\n",
       "                        <td id=\"T_31accff6_f4c1_11e9_84d2_008cfafbf396row6_col121\" class=\"data row6 col121\" >nan</td>\n",
       "                        <td id=\"T_31accff6_f4c1_11e9_84d2_008cfafbf396row6_col122\" class=\"data row6 col122\" >nan</td>\n",
       "                        <td id=\"T_31accff6_f4c1_11e9_84d2_008cfafbf396row6_col123\" class=\"data row6 col123\" >nan</td>\n",
       "                        <td id=\"T_31accff6_f4c1_11e9_84d2_008cfafbf396row6_col124\" class=\"data row6 col124\" >nan</td>\n",
       "                        <td id=\"T_31accff6_f4c1_11e9_84d2_008cfafbf396row6_col125\" class=\"data row6 col125\" >nan</td>\n",
       "                        <td id=\"T_31accff6_f4c1_11e9_84d2_008cfafbf396row6_col126\" class=\"data row6 col126\" >nan</td>\n",
       "                        <td id=\"T_31accff6_f4c1_11e9_84d2_008cfafbf396row6_col127\" class=\"data row6 col127\" >nan</td>\n",
       "                        <td id=\"T_31accff6_f4c1_11e9_84d2_008cfafbf396row6_col128\" class=\"data row6 col128\" >nan</td>\n",
       "                        <td id=\"T_31accff6_f4c1_11e9_84d2_008cfafbf396row6_col129\" class=\"data row6 col129\" >nan</td>\n",
       "                        <td id=\"T_31accff6_f4c1_11e9_84d2_008cfafbf396row6_col130\" class=\"data row6 col130\" >nan</td>\n",
       "                        <td id=\"T_31accff6_f4c1_11e9_84d2_008cfafbf396row6_col131\" class=\"data row6 col131\" >nan</td>\n",
       "                        <td id=\"T_31accff6_f4c1_11e9_84d2_008cfafbf396row6_col132\" class=\"data row6 col132\" >nan</td>\n",
       "                        <td id=\"T_31accff6_f4c1_11e9_84d2_008cfafbf396row6_col133\" class=\"data row6 col133\" >nan</td>\n",
       "                        <td id=\"T_31accff6_f4c1_11e9_84d2_008cfafbf396row6_col134\" class=\"data row6 col134\" >nan</td>\n",
       "                        <td id=\"T_31accff6_f4c1_11e9_84d2_008cfafbf396row6_col135\" class=\"data row6 col135\" >nan</td>\n",
       "                        <td id=\"T_31accff6_f4c1_11e9_84d2_008cfafbf396row6_col136\" class=\"data row6 col136\" >nan</td>\n",
       "                        <td id=\"T_31accff6_f4c1_11e9_84d2_008cfafbf396row6_col137\" class=\"data row6 col137\" >nan</td>\n",
       "                        <td id=\"T_31accff6_f4c1_11e9_84d2_008cfafbf396row6_col138\" class=\"data row6 col138\" >nan</td>\n",
       "                        <td id=\"T_31accff6_f4c1_11e9_84d2_008cfafbf396row6_col139\" class=\"data row6 col139\" >nan</td>\n",
       "                        <td id=\"T_31accff6_f4c1_11e9_84d2_008cfafbf396row6_col140\" class=\"data row6 col140\" >nan</td>\n",
       "                        <td id=\"T_31accff6_f4c1_11e9_84d2_008cfafbf396row6_col141\" class=\"data row6 col141\" >nan</td>\n",
       "                        <td id=\"T_31accff6_f4c1_11e9_84d2_008cfafbf396row6_col142\" class=\"data row6 col142\" >nan</td>\n",
       "                        <td id=\"T_31accff6_f4c1_11e9_84d2_008cfafbf396row6_col143\" class=\"data row6 col143\" >nan</td>\n",
       "                        <td id=\"T_31accff6_f4c1_11e9_84d2_008cfafbf396row6_col144\" class=\"data row6 col144\" >nan</td>\n",
       "                        <td id=\"T_31accff6_f4c1_11e9_84d2_008cfafbf396row6_col145\" class=\"data row6 col145\" >nan</td>\n",
       "                        <td id=\"T_31accff6_f4c1_11e9_84d2_008cfafbf396row6_col146\" class=\"data row6 col146\" >nan</td>\n",
       "                        <td id=\"T_31accff6_f4c1_11e9_84d2_008cfafbf396row6_col147\" class=\"data row6 col147\" >nan</td>\n",
       "                        <td id=\"T_31accff6_f4c1_11e9_84d2_008cfafbf396row6_col148\" class=\"data row6 col148\" >nan</td>\n",
       "                        <td id=\"T_31accff6_f4c1_11e9_84d2_008cfafbf396row6_col149\" class=\"data row6 col149\" >nan</td>\n",
       "                        <td id=\"T_31accff6_f4c1_11e9_84d2_008cfafbf396row6_col150\" class=\"data row6 col150\" >nan</td>\n",
       "                        <td id=\"T_31accff6_f4c1_11e9_84d2_008cfafbf396row6_col151\" class=\"data row6 col151\" >nan</td>\n",
       "                        <td id=\"T_31accff6_f4c1_11e9_84d2_008cfafbf396row6_col152\" class=\"data row6 col152\" >nan</td>\n",
       "                        <td id=\"T_31accff6_f4c1_11e9_84d2_008cfafbf396row6_col153\" class=\"data row6 col153\" >nan</td>\n",
       "                        <td id=\"T_31accff6_f4c1_11e9_84d2_008cfafbf396row6_col154\" class=\"data row6 col154\" >nan</td>\n",
       "                        <td id=\"T_31accff6_f4c1_11e9_84d2_008cfafbf396row6_col155\" class=\"data row6 col155\" >nan</td>\n",
       "                        <td id=\"T_31accff6_f4c1_11e9_84d2_008cfafbf396row6_col156\" class=\"data row6 col156\" >nan</td>\n",
       "                        <td id=\"T_31accff6_f4c1_11e9_84d2_008cfafbf396row6_col157\" class=\"data row6 col157\" >nan</td>\n",
       "                        <td id=\"T_31accff6_f4c1_11e9_84d2_008cfafbf396row6_col158\" class=\"data row6 col158\" >nan</td>\n",
       "                        <td id=\"T_31accff6_f4c1_11e9_84d2_008cfafbf396row6_col159\" class=\"data row6 col159\" >nan</td>\n",
       "                        <td id=\"T_31accff6_f4c1_11e9_84d2_008cfafbf396row6_col160\" class=\"data row6 col160\" >nan</td>\n",
       "                        <td id=\"T_31accff6_f4c1_11e9_84d2_008cfafbf396row6_col161\" class=\"data row6 col161\" >nan</td>\n",
       "                        <td id=\"T_31accff6_f4c1_11e9_84d2_008cfafbf396row6_col162\" class=\"data row6 col162\" >nan</td>\n",
       "                        <td id=\"T_31accff6_f4c1_11e9_84d2_008cfafbf396row6_col163\" class=\"data row6 col163\" >nan</td>\n",
       "                        <td id=\"T_31accff6_f4c1_11e9_84d2_008cfafbf396row6_col164\" class=\"data row6 col164\" >nan</td>\n",
       "                        <td id=\"T_31accff6_f4c1_11e9_84d2_008cfafbf396row6_col165\" class=\"data row6 col165\" >nan</td>\n",
       "                        <td id=\"T_31accff6_f4c1_11e9_84d2_008cfafbf396row6_col166\" class=\"data row6 col166\" >nan</td>\n",
       "                        <td id=\"T_31accff6_f4c1_11e9_84d2_008cfafbf396row6_col167\" class=\"data row6 col167\" >nan</td>\n",
       "                        <td id=\"T_31accff6_f4c1_11e9_84d2_008cfafbf396row6_col168\" class=\"data row6 col168\" >nan</td>\n",
       "                        <td id=\"T_31accff6_f4c1_11e9_84d2_008cfafbf396row6_col169\" class=\"data row6 col169\" >nan</td>\n",
       "                        <td id=\"T_31accff6_f4c1_11e9_84d2_008cfafbf396row6_col170\" class=\"data row6 col170\" >nan</td>\n",
       "            </tr>\n",
       "            <tr>\n",
       "                                <td id=\"T_31accff6_f4c1_11e9_84d2_008cfafbf396row7_col0\" class=\"data row7 col0\" >84</td>\n",
       "                        <td id=\"T_31accff6_f4c1_11e9_84d2_008cfafbf396row7_col1\" class=\"data row7 col1\" >StackedEnsemble_AllModels_AutoML_20191022_081023</td>\n",
       "                        <td id=\"T_31accff6_f4c1_11e9_84d2_008cfafbf396row7_col2\" class=\"data row7 col2\" >DeepLearning_grid_1_AutoML_20191022_081023_model_2</td>\n",
       "                        <td id=\"T_31accff6_f4c1_11e9_84d2_008cfafbf396row7_col3\" class=\"data row7 col3\" >DeepLearning_grid_1_AutoML_20191022_081023_model_13</td>\n",
       "                        <td id=\"T_31accff6_f4c1_11e9_84d2_008cfafbf396row7_col4\" class=\"data row7 col4\" >GBM_grid_1_AutoML_20191022_081023_model_40</td>\n",
       "                        <td id=\"T_31accff6_f4c1_11e9_84d2_008cfafbf396row7_col5\" class=\"data row7 col5\" >GBM_grid_1_AutoML_20191022_081023_model_31</td>\n",
       "                        <td id=\"T_31accff6_f4c1_11e9_84d2_008cfafbf396row7_col6\" class=\"data row7 col6\" >DeepLearning_grid_1_AutoML_20191022_081023_model_3</td>\n",
       "                        <td id=\"T_31accff6_f4c1_11e9_84d2_008cfafbf396row7_col7\" class=\"data row7 col7\" >GBM_grid_1_AutoML_20191022_081023_model_18</td>\n",
       "                        <td id=\"T_31accff6_f4c1_11e9_84d2_008cfafbf396row7_col8\" class=\"data row7 col8\" >GBM_grid_1_AutoML_20191022_081023_model_39</td>\n",
       "                        <td id=\"T_31accff6_f4c1_11e9_84d2_008cfafbf396row7_col9\" class=\"data row7 col9\" >GBM_grid_1_AutoML_20191022_081023_model_19</td>\n",
       "                        <td id=\"T_31accff6_f4c1_11e9_84d2_008cfafbf396row7_col10\" class=\"data row7 col10\" >DeepLearning_grid_1_AutoML_20191022_081023_model_1</td>\n",
       "                        <td id=\"T_31accff6_f4c1_11e9_84d2_008cfafbf396row7_col11\" class=\"data row7 col11\" >DeepLearning_grid_1_AutoML_20191022_081023_model_9</td>\n",
       "                        <td id=\"T_31accff6_f4c1_11e9_84d2_008cfafbf396row7_col12\" class=\"data row7 col12\" >GBM_grid_1_AutoML_20191022_081023_model_46</td>\n",
       "                        <td id=\"T_31accff6_f4c1_11e9_84d2_008cfafbf396row7_col13\" class=\"data row7 col13\" >DeepLearning_grid_1_AutoML_20191022_081023_model_4</td>\n",
       "                        <td id=\"T_31accff6_f4c1_11e9_84d2_008cfafbf396row7_col14\" class=\"data row7 col14\" >DeepLearning_grid_1_AutoML_20191022_081023_model_8</td>\n",
       "                        <td id=\"T_31accff6_f4c1_11e9_84d2_008cfafbf396row7_col15\" class=\"data row7 col15\" >GBM_grid_1_AutoML_20191022_081023_model_41</td>\n",
       "                        <td id=\"T_31accff6_f4c1_11e9_84d2_008cfafbf396row7_col16\" class=\"data row7 col16\" >XGBoost_grid_1_AutoML_20191022_081023_model_13</td>\n",
       "                        <td id=\"T_31accff6_f4c1_11e9_84d2_008cfafbf396row7_col17\" class=\"data row7 col17\" >GBM_grid_1_AutoML_20191022_081023_model_15</td>\n",
       "                        <td id=\"T_31accff6_f4c1_11e9_84d2_008cfafbf396row7_col18\" class=\"data row7 col18\" >GBM_grid_1_AutoML_20191022_081023_model_35</td>\n",
       "                        <td id=\"T_31accff6_f4c1_11e9_84d2_008cfafbf396row7_col19\" class=\"data row7 col19\" >GBM_2_AutoML_20191022_081023</td>\n",
       "                        <td id=\"T_31accff6_f4c1_11e9_84d2_008cfafbf396row7_col20\" class=\"data row7 col20\" >GBM_grid_1_AutoML_20191022_081023_model_43</td>\n",
       "                        <td id=\"T_31accff6_f4c1_11e9_84d2_008cfafbf396row7_col21\" class=\"data row7 col21\" >GBM_grid_1_AutoML_20191022_081023_model_55</td>\n",
       "                        <td id=\"T_31accff6_f4c1_11e9_84d2_008cfafbf396row7_col22\" class=\"data row7 col22\" >GBM_grid_1_AutoML_20191022_081023_model_3</td>\n",
       "                        <td id=\"T_31accff6_f4c1_11e9_84d2_008cfafbf396row7_col23\" class=\"data row7 col23\" >GBM_3_AutoML_20191022_081023</td>\n",
       "                        <td id=\"T_31accff6_f4c1_11e9_84d2_008cfafbf396row7_col24\" class=\"data row7 col24\" >GBM_grid_1_AutoML_20191022_081023_model_45</td>\n",
       "                        <td id=\"T_31accff6_f4c1_11e9_84d2_008cfafbf396row7_col25\" class=\"data row7 col25\" >GBM_grid_1_AutoML_20191022_081023_model_32</td>\n",
       "                        <td id=\"T_31accff6_f4c1_11e9_84d2_008cfafbf396row7_col26\" class=\"data row7 col26\" >GBM_grid_1_AutoML_20191022_081023_model_26</td>\n",
       "                        <td id=\"T_31accff6_f4c1_11e9_84d2_008cfafbf396row7_col27\" class=\"data row7 col27\" >GBM_grid_1_AutoML_20191022_081023_model_47</td>\n",
       "                        <td id=\"T_31accff6_f4c1_11e9_84d2_008cfafbf396row7_col28\" class=\"data row7 col28\" >GBM_grid_1_AutoML_20191022_081023_model_6</td>\n",
       "                        <td id=\"T_31accff6_f4c1_11e9_84d2_008cfafbf396row7_col29\" class=\"data row7 col29\" >GBM_grid_1_AutoML_20191022_081023_model_27</td>\n",
       "                        <td id=\"T_31accff6_f4c1_11e9_84d2_008cfafbf396row7_col30\" class=\"data row7 col30\" >GBM_grid_1_AutoML_20191022_081023_model_48</td>\n",
       "                        <td id=\"T_31accff6_f4c1_11e9_84d2_008cfafbf396row7_col31\" class=\"data row7 col31\" >GBM_grid_1_AutoML_20191022_081023_model_20</td>\n",
       "                        <td id=\"T_31accff6_f4c1_11e9_84d2_008cfafbf396row7_col32\" class=\"data row7 col32\" >DeepLearning_grid_1_AutoML_20191022_081023_model_12</td>\n",
       "                        <td id=\"T_31accff6_f4c1_11e9_84d2_008cfafbf396row7_col33\" class=\"data row7 col33\" >DeepLearning_grid_1_AutoML_20191022_081023_model_5</td>\n",
       "                        <td id=\"T_31accff6_f4c1_11e9_84d2_008cfafbf396row7_col34\" class=\"data row7 col34\" >GBM_grid_1_AutoML_20191022_081023_model_57</td>\n",
       "                        <td id=\"T_31accff6_f4c1_11e9_84d2_008cfafbf396row7_col35\" class=\"data row7 col35\" >GBM_grid_1_AutoML_20191022_081023_model_59</td>\n",
       "                        <td id=\"T_31accff6_f4c1_11e9_84d2_008cfafbf396row7_col36\" class=\"data row7 col36\" >GBM_5_AutoML_20191022_081023</td>\n",
       "                        <td id=\"T_31accff6_f4c1_11e9_84d2_008cfafbf396row7_col37\" class=\"data row7 col37\" >GBM_grid_1_AutoML_20191022_081023_model_63</td>\n",
       "                        <td id=\"T_31accff6_f4c1_11e9_84d2_008cfafbf396row7_col38\" class=\"data row7 col38\" >DeepLearning_grid_1_AutoML_20191022_081023_model_6</td>\n",
       "                        <td id=\"T_31accff6_f4c1_11e9_84d2_008cfafbf396row7_col39\" class=\"data row7 col39\" >XGBoost_grid_1_AutoML_20191022_081023_model_33</td>\n",
       "                        <td id=\"T_31accff6_f4c1_11e9_84d2_008cfafbf396row7_col40\" class=\"data row7 col40\" >GBM_grid_1_AutoML_20191022_081023_model_12</td>\n",
       "                        <td id=\"T_31accff6_f4c1_11e9_84d2_008cfafbf396row7_col41\" class=\"data row7 col41\" >GBM_4_AutoML_20191022_081023</td>\n",
       "                        <td id=\"T_31accff6_f4c1_11e9_84d2_008cfafbf396row7_col42\" class=\"data row7 col42\" >XGBoost_grid_1_AutoML_20191022_081023_model_61</td>\n",
       "                        <td id=\"T_31accff6_f4c1_11e9_84d2_008cfafbf396row7_col43\" class=\"data row7 col43\" >GBM_grid_1_AutoML_20191022_081023_model_66</td>\n",
       "                        <td id=\"T_31accff6_f4c1_11e9_84d2_008cfafbf396row7_col44\" class=\"data row7 col44\" >XGBoost_grid_1_AutoML_20191022_081023_model_38</td>\n",
       "                        <td id=\"T_31accff6_f4c1_11e9_84d2_008cfafbf396row7_col45\" class=\"data row7 col45\" >GBM_grid_1_AutoML_20191022_081023_model_56</td>\n",
       "                        <td id=\"T_31accff6_f4c1_11e9_84d2_008cfafbf396row7_col46\" class=\"data row7 col46\" >GLM_grid_1_AutoML_20191022_081023_model_1</td>\n",
       "                        <td id=\"T_31accff6_f4c1_11e9_84d2_008cfafbf396row7_col47\" class=\"data row7 col47\" >XGBoost_grid_1_AutoML_20191022_081023_model_52</td>\n",
       "                        <td id=\"T_31accff6_f4c1_11e9_84d2_008cfafbf396row7_col48\" class=\"data row7 col48\" >GBM_grid_1_AutoML_20191022_081023_model_17</td>\n",
       "                        <td id=\"T_31accff6_f4c1_11e9_84d2_008cfafbf396row7_col49\" class=\"data row7 col49\" >XGBoost_grid_1_AutoML_20191022_081023_model_35</td>\n",
       "                        <td id=\"T_31accff6_f4c1_11e9_84d2_008cfafbf396row7_col50\" class=\"data row7 col50\" >XGBoost_grid_1_AutoML_20191022_081023_model_55</td>\n",
       "                        <td id=\"T_31accff6_f4c1_11e9_84d2_008cfafbf396row7_col51\" class=\"data row7 col51\" >XGBoost_grid_1_AutoML_20191022_081023_model_46</td>\n",
       "                        <td id=\"T_31accff6_f4c1_11e9_84d2_008cfafbf396row7_col52\" class=\"data row7 col52\" >GBM_grid_1_AutoML_20191022_081023_model_62</td>\n",
       "                        <td id=\"T_31accff6_f4c1_11e9_84d2_008cfafbf396row7_col53\" class=\"data row7 col53\" >XRT_1_AutoML_20191022_081023</td>\n",
       "                        <td id=\"T_31accff6_f4c1_11e9_84d2_008cfafbf396row7_col54\" class=\"data row7 col54\" >GBM_grid_1_AutoML_20191022_081023_model_1</td>\n",
       "                        <td id=\"T_31accff6_f4c1_11e9_84d2_008cfafbf396row7_col55\" class=\"data row7 col55\" >GBM_grid_1_AutoML_20191022_081023_model_10</td>\n",
       "                        <td id=\"T_31accff6_f4c1_11e9_84d2_008cfafbf396row7_col56\" class=\"data row7 col56\" >XGBoost_grid_1_AutoML_20191022_081023_model_8</td>\n",
       "                        <td id=\"T_31accff6_f4c1_11e9_84d2_008cfafbf396row7_col57\" class=\"data row7 col57\" >XGBoost_grid_1_AutoML_20191022_081023_model_45</td>\n",
       "                        <td id=\"T_31accff6_f4c1_11e9_84d2_008cfafbf396row7_col58\" class=\"data row7 col58\" >GBM_1_AutoML_20191022_081023</td>\n",
       "                        <td id=\"T_31accff6_f4c1_11e9_84d2_008cfafbf396row7_col59\" class=\"data row7 col59\" >GBM_grid_1_AutoML_20191022_081023_model_14</td>\n",
       "                        <td id=\"T_31accff6_f4c1_11e9_84d2_008cfafbf396row7_col60\" class=\"data row7 col60\" >GBM_grid_1_AutoML_20191022_081023_model_42</td>\n",
       "                        <td id=\"T_31accff6_f4c1_11e9_84d2_008cfafbf396row7_col61\" class=\"data row7 col61\" >XGBoost_grid_1_AutoML_20191022_081023_model_48</td>\n",
       "                        <td id=\"T_31accff6_f4c1_11e9_84d2_008cfafbf396row7_col62\" class=\"data row7 col62\" >GBM_grid_1_AutoML_20191022_081023_model_11</td>\n",
       "                        <td id=\"T_31accff6_f4c1_11e9_84d2_008cfafbf396row7_col63\" class=\"data row7 col63\" >XGBoost_grid_1_AutoML_20191022_081023_model_30</td>\n",
       "                        <td id=\"T_31accff6_f4c1_11e9_84d2_008cfafbf396row7_col64\" class=\"data row7 col64\" >GBM_grid_1_AutoML_20191022_081023_model_16</td>\n",
       "                        <td id=\"T_31accff6_f4c1_11e9_84d2_008cfafbf396row7_col65\" class=\"data row7 col65\" >GBM_grid_1_AutoML_20191022_081023_model_24</td>\n",
       "                        <td id=\"T_31accff6_f4c1_11e9_84d2_008cfafbf396row7_col66\" class=\"data row7 col66\" >DRF_1_AutoML_20191022_081023</td>\n",
       "                        <td id=\"T_31accff6_f4c1_11e9_84d2_008cfafbf396row7_col67\" class=\"data row7 col67\" >XGBoost_grid_1_AutoML_20191022_081023_model_17</td>\n",
       "                        <td id=\"T_31accff6_f4c1_11e9_84d2_008cfafbf396row7_col68\" class=\"data row7 col68\" >GBM_grid_1_AutoML_20191022_081023_model_54</td>\n",
       "                        <td id=\"T_31accff6_f4c1_11e9_84d2_008cfafbf396row7_col69\" class=\"data row7 col69\" >GBM_grid_1_AutoML_20191022_081023_model_13</td>\n",
       "                        <td id=\"T_31accff6_f4c1_11e9_84d2_008cfafbf396row7_col70\" class=\"data row7 col70\" >GBM_grid_1_AutoML_20191022_081023_model_58</td>\n",
       "                        <td id=\"T_31accff6_f4c1_11e9_84d2_008cfafbf396row7_col71\" class=\"data row7 col71\" >DeepLearning_grid_1_AutoML_20191022_081023_model_10</td>\n",
       "                        <td id=\"T_31accff6_f4c1_11e9_84d2_008cfafbf396row7_col72\" class=\"data row7 col72\" >XGBoost_3_AutoML_20191022_081023</td>\n",
       "                        <td id=\"T_31accff6_f4c1_11e9_84d2_008cfafbf396row7_col73\" class=\"data row7 col73\" >DeepLearning_grid_1_AutoML_20191022_081023_model_14</td>\n",
       "                        <td id=\"T_31accff6_f4c1_11e9_84d2_008cfafbf396row7_col74\" class=\"data row7 col74\" >XGBoost_grid_1_AutoML_20191022_081023_model_49</td>\n",
       "                        <td id=\"T_31accff6_f4c1_11e9_84d2_008cfafbf396row7_col75\" class=\"data row7 col75\" >GBM_grid_1_AutoML_20191022_081023_model_52</td>\n",
       "                        <td id=\"T_31accff6_f4c1_11e9_84d2_008cfafbf396row7_col76\" class=\"data row7 col76\" >XGBoost_grid_1_AutoML_20191022_081023_model_37</td>\n",
       "                        <td id=\"T_31accff6_f4c1_11e9_84d2_008cfafbf396row7_col77\" class=\"data row7 col77\" >XGBoost_1_AutoML_20191022_081023</td>\n",
       "                        <td id=\"T_31accff6_f4c1_11e9_84d2_008cfafbf396row7_col78\" class=\"data row7 col78\" >XGBoost_grid_1_AutoML_20191022_081023_model_25</td>\n",
       "                        <td id=\"T_31accff6_f4c1_11e9_84d2_008cfafbf396row7_col79\" class=\"data row7 col79\" >GBM_grid_1_AutoML_20191022_081023_model_53</td>\n",
       "                        <td id=\"T_31accff6_f4c1_11e9_84d2_008cfafbf396row7_col80\" class=\"data row7 col80\" >XGBoost_grid_1_AutoML_20191022_081023_model_62</td>\n",
       "                        <td id=\"T_31accff6_f4c1_11e9_84d2_008cfafbf396row7_col81\" class=\"data row7 col81\" >XGBoost_grid_1_AutoML_20191022_081023_model_57</td>\n",
       "                        <td id=\"T_31accff6_f4c1_11e9_84d2_008cfafbf396row7_col82\" class=\"data row7 col82\" >XGBoost_grid_1_AutoML_20191022_081023_model_21</td>\n",
       "                        <td id=\"T_31accff6_f4c1_11e9_84d2_008cfafbf396row7_col83\" class=\"data row7 col83\" >XGBoost_grid_1_AutoML_20191022_081023_model_18</td>\n",
       "                        <td id=\"T_31accff6_f4c1_11e9_84d2_008cfafbf396row7_col84\" class=\"data row7 col84\" >XGBoost_grid_1_AutoML_20191022_081023_model_26</td>\n",
       "                        <td id=\"T_31accff6_f4c1_11e9_84d2_008cfafbf396row7_col85\" class=\"data row7 col85\" >XGBoost_grid_1_AutoML_20191022_081023_model_47</td>\n",
       "                        <td id=\"T_31accff6_f4c1_11e9_84d2_008cfafbf396row7_col86\" class=\"data row7 col86\" >XGBoost_grid_1_AutoML_20191022_081023_model_15</td>\n",
       "                        <td id=\"T_31accff6_f4c1_11e9_84d2_008cfafbf396row7_col87\" class=\"data row7 col87\" >GBM_grid_1_AutoML_20191022_081023_model_8</td>\n",
       "                        <td id=\"T_31accff6_f4c1_11e9_84d2_008cfafbf396row7_col88\" class=\"data row7 col88\" >GBM_grid_1_AutoML_20191022_081023_model_9</td>\n",
       "                        <td id=\"T_31accff6_f4c1_11e9_84d2_008cfafbf396row7_col89\" class=\"data row7 col89\" >XGBoost_grid_1_AutoML_20191022_081023_model_20</td>\n",
       "                        <td id=\"T_31accff6_f4c1_11e9_84d2_008cfafbf396row7_col90\" class=\"data row7 col90\" >XGBoost_grid_1_AutoML_20191022_081023_model_36</td>\n",
       "                        <td id=\"T_31accff6_f4c1_11e9_84d2_008cfafbf396row7_col91\" class=\"data row7 col91\" >XGBoost_grid_1_AutoML_20191022_081023_model_27</td>\n",
       "                        <td id=\"T_31accff6_f4c1_11e9_84d2_008cfafbf396row7_col92\" class=\"data row7 col92\" >XGBoost_grid_1_AutoML_20191022_081023_model_34</td>\n",
       "                        <td id=\"T_31accff6_f4c1_11e9_84d2_008cfafbf396row7_col93\" class=\"data row7 col93\" >XGBoost_grid_1_AutoML_20191022_081023_model_4</td>\n",
       "                        <td id=\"T_31accff6_f4c1_11e9_84d2_008cfafbf396row7_col94\" class=\"data row7 col94\" >XGBoost_grid_1_AutoML_20191022_081023_model_31</td>\n",
       "                        <td id=\"T_31accff6_f4c1_11e9_84d2_008cfafbf396row7_col95\" class=\"data row7 col95\" >XGBoost_grid_1_AutoML_20191022_081023_model_2</td>\n",
       "                        <td id=\"T_31accff6_f4c1_11e9_84d2_008cfafbf396row7_col96\" class=\"data row7 col96\" >GBM_grid_1_AutoML_20191022_081023_model_29</td>\n",
       "                        <td id=\"T_31accff6_f4c1_11e9_84d2_008cfafbf396row7_col97\" class=\"data row7 col97\" >XGBoost_grid_1_AutoML_20191022_081023_model_41</td>\n",
       "                        <td id=\"T_31accff6_f4c1_11e9_84d2_008cfafbf396row7_col98\" class=\"data row7 col98\" >XGBoost_grid_1_AutoML_20191022_081023_model_50</td>\n",
       "                        <td id=\"T_31accff6_f4c1_11e9_84d2_008cfafbf396row7_col99\" class=\"data row7 col99\" >XGBoost_grid_1_AutoML_20191022_081023_model_29</td>\n",
       "                        <td id=\"T_31accff6_f4c1_11e9_84d2_008cfafbf396row7_col100\" class=\"data row7 col100\" >GBM_grid_1_AutoML_20191022_081023_model_28</td>\n",
       "                        <td id=\"T_31accff6_f4c1_11e9_84d2_008cfafbf396row7_col101\" class=\"data row7 col101\" >XGBoost_grid_1_AutoML_20191022_081023_model_28</td>\n",
       "                        <td id=\"T_31accff6_f4c1_11e9_84d2_008cfafbf396row7_col102\" class=\"data row7 col102\" >DeepLearning_grid_1_AutoML_20191022_081023_model_15</td>\n",
       "                        <td id=\"T_31accff6_f4c1_11e9_84d2_008cfafbf396row7_col103\" class=\"data row7 col103\" >XGBoost_grid_1_AutoML_20191022_081023_model_3</td>\n",
       "                        <td id=\"T_31accff6_f4c1_11e9_84d2_008cfafbf396row7_col104\" class=\"data row7 col104\" >XGBoost_grid_1_AutoML_20191022_081023_model_32</td>\n",
       "                        <td id=\"T_31accff6_f4c1_11e9_84d2_008cfafbf396row7_col105\" class=\"data row7 col105\" >XGBoost_grid_1_AutoML_20191022_081023_model_59</td>\n",
       "                        <td id=\"T_31accff6_f4c1_11e9_84d2_008cfafbf396row7_col106\" class=\"data row7 col106\" >XGBoost_grid_1_AutoML_20191022_081023_model_23</td>\n",
       "                        <td id=\"T_31accff6_f4c1_11e9_84d2_008cfafbf396row7_col107\" class=\"data row7 col107\" >XGBoost_grid_1_AutoML_20191022_081023_model_7</td>\n",
       "                        <td id=\"T_31accff6_f4c1_11e9_84d2_008cfafbf396row7_col108\" class=\"data row7 col108\" >XGBoost_grid_1_AutoML_20191022_081023_model_19</td>\n",
       "                        <td id=\"T_31accff6_f4c1_11e9_84d2_008cfafbf396row7_col109\" class=\"data row7 col109\" >XGBoost_grid_1_AutoML_20191022_081023_model_53</td>\n",
       "                        <td id=\"T_31accff6_f4c1_11e9_84d2_008cfafbf396row7_col110\" class=\"data row7 col110\" >GBM_grid_1_AutoML_20191022_081023_model_25</td>\n",
       "                        <td id=\"T_31accff6_f4c1_11e9_84d2_008cfafbf396row7_col111\" class=\"data row7 col111\" >GBM_grid_1_AutoML_20191022_081023_model_21</td>\n",
       "                        <td id=\"T_31accff6_f4c1_11e9_84d2_008cfafbf396row7_col112\" class=\"data row7 col112\" >XGBoost_2_AutoML_20191022_081023</td>\n",
       "                        <td id=\"T_31accff6_f4c1_11e9_84d2_008cfafbf396row7_col113\" class=\"data row7 col113\" >GBM_grid_1_AutoML_20191022_081023_model_30</td>\n",
       "                        <td id=\"T_31accff6_f4c1_11e9_84d2_008cfafbf396row7_col114\" class=\"data row7 col114\" >GBM_grid_1_AutoML_20191022_081023_model_7</td>\n",
       "                        <td id=\"T_31accff6_f4c1_11e9_84d2_008cfafbf396row7_col115\" class=\"data row7 col115\" >GBM_grid_1_AutoML_20191022_081023_model_23</td>\n",
       "                        <td id=\"T_31accff6_f4c1_11e9_84d2_008cfafbf396row7_col116\" class=\"data row7 col116\" >DeepLearning_grid_1_AutoML_20191022_081023_model_11</td>\n",
       "                        <td id=\"T_31accff6_f4c1_11e9_84d2_008cfafbf396row7_col117\" class=\"data row7 col117\" >GBM_grid_1_AutoML_20191022_081023_model_38</td>\n",
       "                        <td id=\"T_31accff6_f4c1_11e9_84d2_008cfafbf396row7_col118\" class=\"data row7 col118\" >DeepLearning_grid_1_AutoML_20191022_081023_model_7</td>\n",
       "                        <td id=\"T_31accff6_f4c1_11e9_84d2_008cfafbf396row7_col119\" class=\"data row7 col119\" >GBM_grid_1_AutoML_20191022_081023_model_67</td>\n",
       "                        <td id=\"T_31accff6_f4c1_11e9_84d2_008cfafbf396row7_col120\" class=\"data row7 col120\" >XGBoost_grid_1_AutoML_20191022_081023_model_42</td>\n",
       "                        <td id=\"T_31accff6_f4c1_11e9_84d2_008cfafbf396row7_col121\" class=\"data row7 col121\" >XGBoost_grid_1_AutoML_20191022_081023_model_56</td>\n",
       "                        <td id=\"T_31accff6_f4c1_11e9_84d2_008cfafbf396row7_col122\" class=\"data row7 col122\" >XGBoost_grid_1_AutoML_20191022_081023_model_5</td>\n",
       "                        <td id=\"T_31accff6_f4c1_11e9_84d2_008cfafbf396row7_col123\" class=\"data row7 col123\" >XGBoost_grid_1_AutoML_20191022_081023_model_22</td>\n",
       "                        <td id=\"T_31accff6_f4c1_11e9_84d2_008cfafbf396row7_col124\" class=\"data row7 col124\" >XGBoost_grid_1_AutoML_20191022_081023_model_44</td>\n",
       "                        <td id=\"T_31accff6_f4c1_11e9_84d2_008cfafbf396row7_col125\" class=\"data row7 col125\" >GBM_grid_1_AutoML_20191022_081023_model_68</td>\n",
       "                        <td id=\"T_31accff6_f4c1_11e9_84d2_008cfafbf396row7_col126\" class=\"data row7 col126\" >GBM_grid_1_AutoML_20191022_081023_model_33</td>\n",
       "                        <td id=\"T_31accff6_f4c1_11e9_84d2_008cfafbf396row7_col127\" class=\"data row7 col127\" >XGBoost_grid_1_AutoML_20191022_081023_model_58</td>\n",
       "                        <td id=\"T_31accff6_f4c1_11e9_84d2_008cfafbf396row7_col128\" class=\"data row7 col128\" >XGBoost_grid_1_AutoML_20191022_081023_model_63</td>\n",
       "                        <td id=\"T_31accff6_f4c1_11e9_84d2_008cfafbf396row7_col129\" class=\"data row7 col129\" >XGBoost_grid_1_AutoML_20191022_081023_model_54</td>\n",
       "                        <td id=\"T_31accff6_f4c1_11e9_84d2_008cfafbf396row7_col130\" class=\"data row7 col130\" >XGBoost_grid_1_AutoML_20191022_081023_model_39</td>\n",
       "                        <td id=\"T_31accff6_f4c1_11e9_84d2_008cfafbf396row7_col131\" class=\"data row7 col131\" >XGBoost_grid_1_AutoML_20191022_081023_model_12</td>\n",
       "                        <td id=\"T_31accff6_f4c1_11e9_84d2_008cfafbf396row7_col132\" class=\"data row7 col132\" >XGBoost_grid_1_AutoML_20191022_081023_model_43</td>\n",
       "                        <td id=\"T_31accff6_f4c1_11e9_84d2_008cfafbf396row7_col133\" class=\"data row7 col133\" >GBM_grid_1_AutoML_20191022_081023_model_5</td>\n",
       "                        <td id=\"T_31accff6_f4c1_11e9_84d2_008cfafbf396row7_col134\" class=\"data row7 col134\" >XGBoost_grid_1_AutoML_20191022_081023_model_11</td>\n",
       "                        <td id=\"T_31accff6_f4c1_11e9_84d2_008cfafbf396row7_col135\" class=\"data row7 col135\" >XGBoost_grid_1_AutoML_20191022_081023_model_6</td>\n",
       "                        <td id=\"T_31accff6_f4c1_11e9_84d2_008cfafbf396row7_col136\" class=\"data row7 col136\" >XGBoost_grid_1_AutoML_20191022_081023_model_1</td>\n",
       "                        <td id=\"T_31accff6_f4c1_11e9_84d2_008cfafbf396row7_col137\" class=\"data row7 col137\" >GBM_grid_1_AutoML_20191022_081023_model_37</td>\n",
       "                        <td id=\"T_31accff6_f4c1_11e9_84d2_008cfafbf396row7_col138\" class=\"data row7 col138\" >XGBoost_grid_1_AutoML_20191022_081023_model_40</td>\n",
       "                        <td id=\"T_31accff6_f4c1_11e9_84d2_008cfafbf396row7_col139\" class=\"data row7 col139\" >GBM_grid_1_AutoML_20191022_081023_model_61</td>\n",
       "                        <td id=\"T_31accff6_f4c1_11e9_84d2_008cfafbf396row7_col140\" class=\"data row7 col140\" >XGBoost_grid_1_AutoML_20191022_081023_model_14</td>\n",
       "                        <td id=\"T_31accff6_f4c1_11e9_84d2_008cfafbf396row7_col141\" class=\"data row7 col141\" >XGBoost_grid_1_AutoML_20191022_081023_model_60</td>\n",
       "                        <td id=\"T_31accff6_f4c1_11e9_84d2_008cfafbf396row7_col142\" class=\"data row7 col142\" >XGBoost_grid_1_AutoML_20191022_081023_model_24</td>\n",
       "                        <td id=\"T_31accff6_f4c1_11e9_84d2_008cfafbf396row7_col143\" class=\"data row7 col143\" >XGBoost_grid_1_AutoML_20191022_081023_model_10</td>\n",
       "                        <td id=\"T_31accff6_f4c1_11e9_84d2_008cfafbf396row7_col144\" class=\"data row7 col144\" >GBM_grid_1_AutoML_20191022_081023_model_4</td>\n",
       "                        <td id=\"T_31accff6_f4c1_11e9_84d2_008cfafbf396row7_col145\" class=\"data row7 col145\" >XGBoost_grid_1_AutoML_20191022_081023_model_16</td>\n",
       "                        <td id=\"T_31accff6_f4c1_11e9_84d2_008cfafbf396row7_col146\" class=\"data row7 col146\" >XGBoost_grid_1_AutoML_20191022_081023_model_51</td>\n",
       "                        <td id=\"T_31accff6_f4c1_11e9_84d2_008cfafbf396row7_col147\" class=\"data row7 col147\" >XGBoost_grid_1_AutoML_20191022_081023_model_9</td>\n",
       "                        <td id=\"T_31accff6_f4c1_11e9_84d2_008cfafbf396row7_col148\" class=\"data row7 col148\" >GBM_grid_1_AutoML_20191022_081023_model_34</td>\n",
       "                        <td id=\"T_31accff6_f4c1_11e9_84d2_008cfafbf396row7_col149\" class=\"data row7 col149\" >GBM_grid_1_AutoML_20191022_081023_model_50</td>\n",
       "                        <td id=\"T_31accff6_f4c1_11e9_84d2_008cfafbf396row7_col150\" class=\"data row7 col150\" >GBM_grid_1_AutoML_20191022_081023_model_69</td>\n",
       "                        <td id=\"T_31accff6_f4c1_11e9_84d2_008cfafbf396row7_col151\" class=\"data row7 col151\" >GBM_grid_1_AutoML_20191022_081023_model_51</td>\n",
       "                        <td id=\"T_31accff6_f4c1_11e9_84d2_008cfafbf396row7_col152\" class=\"data row7 col152\" >XGBoost_grid_1_AutoML_20191022_081023_model_64</td>\n",
       "                        <td id=\"T_31accff6_f4c1_11e9_84d2_008cfafbf396row7_col153\" class=\"data row7 col153\" >DeepLearning_1_AutoML_20191022_081023</td>\n",
       "                        <td id=\"T_31accff6_f4c1_11e9_84d2_008cfafbf396row7_col154\" class=\"data row7 col154\" >GBM_grid_1_AutoML_20191022_081023_model_2</td>\n",
       "                        <td id=\"T_31accff6_f4c1_11e9_84d2_008cfafbf396row7_col155\" class=\"data row7 col155\" >GBM_grid_1_AutoML_20191022_081023_model_64</td>\n",
       "                        <td id=\"T_31accff6_f4c1_11e9_84d2_008cfafbf396row7_col156\" class=\"data row7 col156\" >GBM_grid_1_AutoML_20191022_081023_model_49</td>\n",
       "                        <td id=\"T_31accff6_f4c1_11e9_84d2_008cfafbf396row7_col157\" class=\"data row7 col157\" >GBM_grid_1_AutoML_20191022_081023_model_44</td>\n",
       "                        <td id=\"T_31accff6_f4c1_11e9_84d2_008cfafbf396row7_col158\" class=\"data row7 col158\" >XGBoost_grid_1_AutoML_20191022_081023_model_65</td>\n",
       "                        <td id=\"T_31accff6_f4c1_11e9_84d2_008cfafbf396row7_col159\" class=\"data row7 col159\" >GBM_grid_1_AutoML_20191022_081023_model_70</td>\n",
       "                        <td id=\"T_31accff6_f4c1_11e9_84d2_008cfafbf396row7_col160\" class=\"data row7 col160\" >GBM_grid_1_AutoML_20191022_081023_model_22</td>\n",
       "                        <td id=\"T_31accff6_f4c1_11e9_84d2_008cfafbf396row7_col161\" class=\"data row7 col161\" >GBM_grid_1_AutoML_20191022_081023_model_60</td>\n",
       "                        <td id=\"T_31accff6_f4c1_11e9_84d2_008cfafbf396row7_col162\" class=\"data row7 col162\" >GBM_grid_1_AutoML_20191022_081023_model_65</td>\n",
       "                        <td id=\"T_31accff6_f4c1_11e9_84d2_008cfafbf396row7_col163\" class=\"data row7 col163\" >GBM_grid_1_AutoML_20191022_081023_model_36</td>\n",
       "                        <td id=\"T_31accff6_f4c1_11e9_84d2_008cfafbf396row7_col164\" class=\"data row7 col164\" >nan</td>\n",
       "                        <td id=\"T_31accff6_f4c1_11e9_84d2_008cfafbf396row7_col165\" class=\"data row7 col165\" >nan</td>\n",
       "                        <td id=\"T_31accff6_f4c1_11e9_84d2_008cfafbf396row7_col166\" class=\"data row7 col166\" >nan</td>\n",
       "                        <td id=\"T_31accff6_f4c1_11e9_84d2_008cfafbf396row7_col167\" class=\"data row7 col167\" >nan</td>\n",
       "                        <td id=\"T_31accff6_f4c1_11e9_84d2_008cfafbf396row7_col168\" class=\"data row7 col168\" >nan</td>\n",
       "                        <td id=\"T_31accff6_f4c1_11e9_84d2_008cfafbf396row7_col169\" class=\"data row7 col169\" >nan</td>\n",
       "                        <td id=\"T_31accff6_f4c1_11e9_84d2_008cfafbf396row7_col170\" class=\"data row7 col170\" >nan</td>\n",
       "            </tr>\n",
       "    </tbody></table>"
      ],
      "text/plain": [
       "<pandas.io.formats.style.Styler at 0x2ab388057a20>"
      ]
     },
     "metadata": {},
     "output_type": "display_data"
    },
    {
     "data": {
      "text/plain": [
       "'TPOTClassifier #1'"
      ]
     },
     "metadata": {},
     "output_type": "display_data"
    },
    {
     "data": {
      "text/html": [
       "<style  type=\"text/css\" >\n",
       "</style><table id=\"T_31b9858e_f4c1_11e9_84d2_008cfafbf396\" ><thead>    <tr>        <th class=\"col_heading level0 col0\" >max_angle</th>        <th class=\"col_heading level0 col1\" >test_acc</th>        <th class=\"col_heading level0 col2\" >train_acc</th>        <th class=\"col_heading level0 col3\" >time_err</th>        <th class=\"col_heading level0 col4\" >time_pre</th>        <th class=\"col_heading level0 col5\" >time_mod</th>    </tr></thead><tbody>\n",
       "                <tr>\n",
       "                                <td id=\"T_31b9858e_f4c1_11e9_84d2_008cfafbf396row0_col0\" class=\"data row0 col0\" >0</td>\n",
       "                        <td id=\"T_31b9858e_f4c1_11e9_84d2_008cfafbf396row0_col1\" class=\"data row0 col1\" >0.983</td>\n",
       "                        <td id=\"T_31b9858e_f4c1_11e9_84d2_008cfafbf396row0_col2\" class=\"data row0 col2\" >0.992</td>\n",
       "                        <td id=\"T_31b9858e_f4c1_11e9_84d2_008cfafbf396row0_col3\" class=\"data row0 col3\" >0.194</td>\n",
       "                        <td id=\"T_31b9858e_f4c1_11e9_84d2_008cfafbf396row0_col4\" class=\"data row0 col4\" >0</td>\n",
       "                        <td id=\"T_31b9858e_f4c1_11e9_84d2_008cfafbf396row0_col5\" class=\"data row0 col5\" >7456.62</td>\n",
       "            </tr>\n",
       "            <tr>\n",
       "                                <td id=\"T_31b9858e_f4c1_11e9_84d2_008cfafbf396row1_col0\" class=\"data row1 col0\" >12</td>\n",
       "                        <td id=\"T_31b9858e_f4c1_11e9_84d2_008cfafbf396row1_col1\" class=\"data row1 col1\" >0.981</td>\n",
       "                        <td id=\"T_31b9858e_f4c1_11e9_84d2_008cfafbf396row1_col2\" class=\"data row1 col2\" >1</td>\n",
       "                        <td id=\"T_31b9858e_f4c1_11e9_84d2_008cfafbf396row1_col3\" class=\"data row1 col3\" >0.262</td>\n",
       "                        <td id=\"T_31b9858e_f4c1_11e9_84d2_008cfafbf396row1_col4\" class=\"data row1 col4\" >0</td>\n",
       "                        <td id=\"T_31b9858e_f4c1_11e9_84d2_008cfafbf396row1_col5\" class=\"data row1 col5\" >8415.44</td>\n",
       "            </tr>\n",
       "            <tr>\n",
       "                                <td id=\"T_31b9858e_f4c1_11e9_84d2_008cfafbf396row2_col0\" class=\"data row2 col0\" >24</td>\n",
       "                        <td id=\"T_31b9858e_f4c1_11e9_84d2_008cfafbf396row2_col1\" class=\"data row2 col1\" >0.961</td>\n",
       "                        <td id=\"T_31b9858e_f4c1_11e9_84d2_008cfafbf396row2_col2\" class=\"data row2 col2\" >1</td>\n",
       "                        <td id=\"T_31b9858e_f4c1_11e9_84d2_008cfafbf396row2_col3\" class=\"data row2 col3\" >0.249</td>\n",
       "                        <td id=\"T_31b9858e_f4c1_11e9_84d2_008cfafbf396row2_col4\" class=\"data row2 col4\" >0</td>\n",
       "                        <td id=\"T_31b9858e_f4c1_11e9_84d2_008cfafbf396row2_col5\" class=\"data row2 col5\" >7479.66</td>\n",
       "            </tr>\n",
       "            <tr>\n",
       "                                <td id=\"T_31b9858e_f4c1_11e9_84d2_008cfafbf396row3_col0\" class=\"data row3 col0\" >36</td>\n",
       "                        <td id=\"T_31b9858e_f4c1_11e9_84d2_008cfafbf396row3_col1\" class=\"data row3 col1\" >0.95</td>\n",
       "                        <td id=\"T_31b9858e_f4c1_11e9_84d2_008cfafbf396row3_col2\" class=\"data row3 col2\" >1</td>\n",
       "                        <td id=\"T_31b9858e_f4c1_11e9_84d2_008cfafbf396row3_col3\" class=\"data row3 col3\" >0.273</td>\n",
       "                        <td id=\"T_31b9858e_f4c1_11e9_84d2_008cfafbf396row3_col4\" class=\"data row3 col4\" >0</td>\n",
       "                        <td id=\"T_31b9858e_f4c1_11e9_84d2_008cfafbf396row3_col5\" class=\"data row3 col5\" >7311.31</td>\n",
       "            </tr>\n",
       "            <tr>\n",
       "                                <td id=\"T_31b9858e_f4c1_11e9_84d2_008cfafbf396row4_col0\" class=\"data row4 col0\" >48</td>\n",
       "                        <td id=\"T_31b9858e_f4c1_11e9_84d2_008cfafbf396row4_col1\" class=\"data row4 col1\" >0.947</td>\n",
       "                        <td id=\"T_31b9858e_f4c1_11e9_84d2_008cfafbf396row4_col2\" class=\"data row4 col2\" >1</td>\n",
       "                        <td id=\"T_31b9858e_f4c1_11e9_84d2_008cfafbf396row4_col3\" class=\"data row4 col3\" >0.271</td>\n",
       "                        <td id=\"T_31b9858e_f4c1_11e9_84d2_008cfafbf396row4_col4\" class=\"data row4 col4\" >0</td>\n",
       "                        <td id=\"T_31b9858e_f4c1_11e9_84d2_008cfafbf396row4_col5\" class=\"data row4 col5\" >7308.1</td>\n",
       "            </tr>\n",
       "            <tr>\n",
       "                                <td id=\"T_31b9858e_f4c1_11e9_84d2_008cfafbf396row5_col0\" class=\"data row5 col0\" >60</td>\n",
       "                        <td id=\"T_31b9858e_f4c1_11e9_84d2_008cfafbf396row5_col1\" class=\"data row5 col1\" >0.933</td>\n",
       "                        <td id=\"T_31b9858e_f4c1_11e9_84d2_008cfafbf396row5_col2\" class=\"data row5 col2\" >1</td>\n",
       "                        <td id=\"T_31b9858e_f4c1_11e9_84d2_008cfafbf396row5_col3\" class=\"data row5 col3\" >0.269</td>\n",
       "                        <td id=\"T_31b9858e_f4c1_11e9_84d2_008cfafbf396row5_col4\" class=\"data row5 col4\" >0</td>\n",
       "                        <td id=\"T_31b9858e_f4c1_11e9_84d2_008cfafbf396row5_col5\" class=\"data row5 col5\" >9028.52</td>\n",
       "            </tr>\n",
       "            <tr>\n",
       "                                <td id=\"T_31b9858e_f4c1_11e9_84d2_008cfafbf396row6_col0\" class=\"data row6 col0\" >72</td>\n",
       "                        <td id=\"T_31b9858e_f4c1_11e9_84d2_008cfafbf396row6_col1\" class=\"data row6 col1\" >0.903</td>\n",
       "                        <td id=\"T_31b9858e_f4c1_11e9_84d2_008cfafbf396row6_col2\" class=\"data row6 col2\" >1</td>\n",
       "                        <td id=\"T_31b9858e_f4c1_11e9_84d2_008cfafbf396row6_col3\" class=\"data row6 col3\" >0.265</td>\n",
       "                        <td id=\"T_31b9858e_f4c1_11e9_84d2_008cfafbf396row6_col4\" class=\"data row6 col4\" >0</td>\n",
       "                        <td id=\"T_31b9858e_f4c1_11e9_84d2_008cfafbf396row6_col5\" class=\"data row6 col5\" >7238.47</td>\n",
       "            </tr>\n",
       "            <tr>\n",
       "                                <td id=\"T_31b9858e_f4c1_11e9_84d2_008cfafbf396row7_col0\" class=\"data row7 col0\" >84</td>\n",
       "                        <td id=\"T_31b9858e_f4c1_11e9_84d2_008cfafbf396row7_col1\" class=\"data row7 col1\" >0.864</td>\n",
       "                        <td id=\"T_31b9858e_f4c1_11e9_84d2_008cfafbf396row7_col2\" class=\"data row7 col2\" >1</td>\n",
       "                        <td id=\"T_31b9858e_f4c1_11e9_84d2_008cfafbf396row7_col3\" class=\"data row7 col3\" >0.276</td>\n",
       "                        <td id=\"T_31b9858e_f4c1_11e9_84d2_008cfafbf396row7_col4\" class=\"data row7 col4\" >0</td>\n",
       "                        <td id=\"T_31b9858e_f4c1_11e9_84d2_008cfafbf396row7_col5\" class=\"data row7 col5\" >7313.06</td>\n",
       "            </tr>\n",
       "    </tbody></table>"
      ],
      "text/plain": [
       "<pandas.io.formats.style.Styler at 0x2ab38801c6d8>"
      ]
     },
     "metadata": {},
     "output_type": "display_data"
    },
    {
     "data": {
      "text/html": [
       "<style  type=\"text/css\" >\n",
       "</style><table id=\"T_31bb634a_f4c1_11e9_84d2_008cfafbf396\" ><thead>    <tr>        <th class=\"col_heading level0 col0\" >max_angle</th>        <th class=\"col_heading level0 col1\" >pipe_0</th>        <th class=\"col_heading level0 col2\" >pipe_1</th>        <th class=\"col_heading level0 col3\" >pipe_2</th>        <th class=\"col_heading level0 col4\" >pipe_3</th>        <th class=\"col_heading level0 col5\" >pipe_4</th>    </tr></thead><tbody>\n",
       "                <tr>\n",
       "                                <td id=\"T_31bb634a_f4c1_11e9_84d2_008cfafbf396row0_col0\" class=\"data row0 col0\" >0</td>\n",
       "                        <td id=\"T_31bb634a_f4c1_11e9_84d2_008cfafbf396row0_col1\" class=\"data row0 col1\" >StackingEstimator(estimator=BernoulliNB(alpha=0.1, binarize=0.0, class_prior=None, fit_prior=True))</td>\n",
       "                        <td id=\"T_31bb634a_f4c1_11e9_84d2_008cfafbf396row0_col2\" class=\"data row0 col2\" >KNeighborsClassifier(algorithm='auto', leaf_size=30, metric='minkowski',\n",
       "           metric_params=None, n_jobs=None, n_neighbors=3, p=2,\n",
       "           weights='uniform')</td>\n",
       "                        <td id=\"T_31bb634a_f4c1_11e9_84d2_008cfafbf396row0_col3\" class=\"data row0 col3\" >nan</td>\n",
       "                        <td id=\"T_31bb634a_f4c1_11e9_84d2_008cfafbf396row0_col4\" class=\"data row0 col4\" >nan</td>\n",
       "                        <td id=\"T_31bb634a_f4c1_11e9_84d2_008cfafbf396row0_col5\" class=\"data row0 col5\" >nan</td>\n",
       "            </tr>\n",
       "            <tr>\n",
       "                                <td id=\"T_31bb634a_f4c1_11e9_84d2_008cfafbf396row1_col0\" class=\"data row1 col0\" >12</td>\n",
       "                        <td id=\"T_31bb634a_f4c1_11e9_84d2_008cfafbf396row1_col1\" class=\"data row1 col1\" >StandardScaler(copy=True, with_mean=True, with_std=True)</td>\n",
       "                        <td id=\"T_31bb634a_f4c1_11e9_84d2_008cfafbf396row1_col2\" class=\"data row1 col2\" >PolynomialFeatures(degree=2, include_bias=False, interaction_only=False)</td>\n",
       "                        <td id=\"T_31bb634a_f4c1_11e9_84d2_008cfafbf396row1_col3\" class=\"data row1 col3\" >LogisticRegression(C=25.0, class_weight=None, dual=False, fit_intercept=True,\n",
       "          intercept_scaling=1, max_iter=100, multi_class='warn',\n",
       "          n_jobs=None, penalty='l1', random_state=None, solver='warn',\n",
       "          tol=0.0001, verbose=0, warm_start=False)</td>\n",
       "                        <td id=\"T_31bb634a_f4c1_11e9_84d2_008cfafbf396row1_col4\" class=\"data row1 col4\" >nan</td>\n",
       "                        <td id=\"T_31bb634a_f4c1_11e9_84d2_008cfafbf396row1_col5\" class=\"data row1 col5\" >nan</td>\n",
       "            </tr>\n",
       "            <tr>\n",
       "                                <td id=\"T_31bb634a_f4c1_11e9_84d2_008cfafbf396row2_col0\" class=\"data row2 col0\" >24</td>\n",
       "                        <td id=\"T_31bb634a_f4c1_11e9_84d2_008cfafbf396row2_col1\" class=\"data row2 col1\" >SelectFwe(alpha=0.012, score_func=<function f_classif at 0x2ab33d691158>)</td>\n",
       "                        <td id=\"T_31bb634a_f4c1_11e9_84d2_008cfafbf396row2_col2\" class=\"data row2 col2\" >StackingEstimator(estimator=GaussianNB(priors=None, var_smoothing=1e-09))</td>\n",
       "                        <td id=\"T_31bb634a_f4c1_11e9_84d2_008cfafbf396row2_col3\" class=\"data row2 col3\" >OneHotEncoder(categorical_features=[True, False, False, False, False, False, False, False, False, False, False, False, False, False, False, False, False, False, True, False, False, False, False, False, False, False, False, False, False, False, False, False, False, False, False, False, False, False, False, False, False, False, False, False, False, False, False, False, False, False, False, False, False, True, False, False, False, False, False, False, False, False, False, False, False, False, False, False],\n",
       "       dtype=<class 'float'>, minimum_fraction=0.25, sparse=False,\n",
       "       threshold=10)</td>\n",
       "                        <td id=\"T_31bb634a_f4c1_11e9_84d2_008cfafbf396row2_col4\" class=\"data row2 col4\" >PolynomialFeatures(degree=2, include_bias=False, interaction_only=False)</td>\n",
       "                        <td id=\"T_31bb634a_f4c1_11e9_84d2_008cfafbf396row2_col5\" class=\"data row2 col5\" >LogisticRegression(C=10.0, class_weight=None, dual=False, fit_intercept=True,\n",
       "          intercept_scaling=1, max_iter=100, multi_class='warn',\n",
       "          n_jobs=None, penalty='l2', random_state=None, solver='warn',\n",
       "          tol=0.0001, verbose=0, warm_start=False)</td>\n",
       "            </tr>\n",
       "            <tr>\n",
       "                                <td id=\"T_31bb634a_f4c1_11e9_84d2_008cfafbf396row3_col0\" class=\"data row3 col0\" >36</td>\n",
       "                        <td id=\"T_31bb634a_f4c1_11e9_84d2_008cfafbf396row3_col1\" class=\"data row3 col1\" >StackingEstimator(estimator=ExtraTreesClassifier(bootstrap=False, class_weight=None, criterion='gini',\n",
       "           max_depth=None, max_features=0.25, max_leaf_nodes=None,\n",
       "           min_impurity_decrease=0.0, min_impurity_split=None,\n",
       "           min_samples_leaf=6, min_samples_split=4,\n",
       "           min_weight_fraction_leaf=0.0, n_estimators=100, n_jobs=None,\n",
       "           oob_score=False, random_state=None, verbose=0, warm_start=False))</td>\n",
       "                        <td id=\"T_31bb634a_f4c1_11e9_84d2_008cfafbf396row3_col2\" class=\"data row3 col2\" >MinMaxScaler(copy=True, feature_range=(0, 1))</td>\n",
       "                        <td id=\"T_31bb634a_f4c1_11e9_84d2_008cfafbf396row3_col3\" class=\"data row3 col3\" >KNeighborsClassifier(algorithm='auto', leaf_size=30, metric='minkowski',\n",
       "           metric_params=None, n_jobs=None, n_neighbors=7, p=2,\n",
       "           weights='distance')</td>\n",
       "                        <td id=\"T_31bb634a_f4c1_11e9_84d2_008cfafbf396row3_col4\" class=\"data row3 col4\" >nan</td>\n",
       "                        <td id=\"T_31bb634a_f4c1_11e9_84d2_008cfafbf396row3_col5\" class=\"data row3 col5\" >nan</td>\n",
       "            </tr>\n",
       "            <tr>\n",
       "                                <td id=\"T_31bb634a_f4c1_11e9_84d2_008cfafbf396row4_col0\" class=\"data row4 col0\" >48</td>\n",
       "                        <td id=\"T_31bb634a_f4c1_11e9_84d2_008cfafbf396row4_col1\" class=\"data row4 col1\" >StackingEstimator(estimator=ExtraTreesClassifier(bootstrap=False, class_weight=None, criterion='entropy',\n",
       "           max_depth=None, max_features=0.9000000000000001,\n",
       "           max_leaf_nodes=None, min_impurity_decrease=0.0,\n",
       "           min_impurity_split=None, min_samples_leaf=6,\n",
       "           min_samples_split=8, min_weight_fraction_leaf=0.0,\n",
       "           n_estimators=100, n_jobs=None, oob_score=False,\n",
       "           random_state=None, verbose=0, warm_start=False))</td>\n",
       "                        <td id=\"T_31bb634a_f4c1_11e9_84d2_008cfafbf396row4_col2\" class=\"data row4 col2\" >SelectFromModel(estimator=ExtraTreesClassifier(bootstrap=False, class_weight=None, criterion='gini',\n",
       "           max_depth=None, max_features=0.1, max_leaf_nodes=None,\n",
       "           min_impurity_decrease=0.0, min_impurity_split=None,\n",
       "           min_samples_leaf=1, min_samples_split=2,\n",
       "           min_weight_fraction_leaf=0.0, n_estimators=100, n_jobs=None,\n",
       "           oob_score=False, random_state=None, verbose=0, warm_start=False),\n",
       "        max_features=None, norm_order=1, prefit=False, threshold=0.0)</td>\n",
       "                        <td id=\"T_31bb634a_f4c1_11e9_84d2_008cfafbf396row4_col3\" class=\"data row4 col3\" >MinMaxScaler(copy=True, feature_range=(0, 1))</td>\n",
       "                        <td id=\"T_31bb634a_f4c1_11e9_84d2_008cfafbf396row4_col4\" class=\"data row4 col4\" >KNeighborsClassifier(algorithm='auto', leaf_size=30, metric='minkowski',\n",
       "           metric_params=None, n_jobs=None, n_neighbors=1, p=2,\n",
       "           weights='distance')</td>\n",
       "                        <td id=\"T_31bb634a_f4c1_11e9_84d2_008cfafbf396row4_col5\" class=\"data row4 col5\" >nan</td>\n",
       "            </tr>\n",
       "            <tr>\n",
       "                                <td id=\"T_31bb634a_f4c1_11e9_84d2_008cfafbf396row5_col0\" class=\"data row5 col0\" >60</td>\n",
       "                        <td id=\"T_31bb634a_f4c1_11e9_84d2_008cfafbf396row5_col1\" class=\"data row5 col1\" >PolynomialFeatures(degree=2, include_bias=False, interaction_only=False)</td>\n",
       "                        <td id=\"T_31bb634a_f4c1_11e9_84d2_008cfafbf396row5_col2\" class=\"data row5 col2\" >LogisticRegression(C=10.0, class_weight=None, dual=False, fit_intercept=True,\n",
       "          intercept_scaling=1, max_iter=100, multi_class='warn',\n",
       "          n_jobs=None, penalty='l2', random_state=None, solver='warn',\n",
       "          tol=0.0001, verbose=0, warm_start=False)</td>\n",
       "                        <td id=\"T_31bb634a_f4c1_11e9_84d2_008cfafbf396row5_col3\" class=\"data row5 col3\" >nan</td>\n",
       "                        <td id=\"T_31bb634a_f4c1_11e9_84d2_008cfafbf396row5_col4\" class=\"data row5 col4\" >nan</td>\n",
       "                        <td id=\"T_31bb634a_f4c1_11e9_84d2_008cfafbf396row5_col5\" class=\"data row5 col5\" >nan</td>\n",
       "            </tr>\n",
       "            <tr>\n",
       "                                <td id=\"T_31bb634a_f4c1_11e9_84d2_008cfafbf396row6_col0\" class=\"data row6 col0\" >72</td>\n",
       "                        <td id=\"T_31bb634a_f4c1_11e9_84d2_008cfafbf396row6_col1\" class=\"data row6 col1\" >PolynomialFeatures(degree=2, include_bias=False, interaction_only=False)</td>\n",
       "                        <td id=\"T_31bb634a_f4c1_11e9_84d2_008cfafbf396row6_col2\" class=\"data row6 col2\" >ZeroCount()</td>\n",
       "                        <td id=\"T_31bb634a_f4c1_11e9_84d2_008cfafbf396row6_col3\" class=\"data row6 col3\" >LogisticRegression(C=0.1, class_weight=None, dual=False, fit_intercept=True,\n",
       "          intercept_scaling=1, max_iter=100, multi_class='warn',\n",
       "          n_jobs=None, penalty='l2', random_state=None, solver='warn',\n",
       "          tol=0.0001, verbose=0, warm_start=False)</td>\n",
       "                        <td id=\"T_31bb634a_f4c1_11e9_84d2_008cfafbf396row6_col4\" class=\"data row6 col4\" >nan</td>\n",
       "                        <td id=\"T_31bb634a_f4c1_11e9_84d2_008cfafbf396row6_col5\" class=\"data row6 col5\" >nan</td>\n",
       "            </tr>\n",
       "            <tr>\n",
       "                                <td id=\"T_31bb634a_f4c1_11e9_84d2_008cfafbf396row7_col0\" class=\"data row7 col0\" >84</td>\n",
       "                        <td id=\"T_31bb634a_f4c1_11e9_84d2_008cfafbf396row7_col1\" class=\"data row7 col1\" >StackingEstimator(estimator=ExtraTreesClassifier(bootstrap=False, class_weight=None, criterion='gini',\n",
       "           max_depth=None, max_features=0.9500000000000001,\n",
       "           max_leaf_nodes=None, min_impurity_decrease=0.0,\n",
       "           min_impurity_split=None, min_samples_leaf=1,\n",
       "           min_samples_split=16, min_weight_fraction_leaf=0.0,\n",
       "           n_estimators=100, n_jobs=None, oob_score=False,\n",
       "           random_state=None, verbose=0, warm_start=False))</td>\n",
       "                        <td id=\"T_31bb634a_f4c1_11e9_84d2_008cfafbf396row7_col2\" class=\"data row7 col2\" >StandardScaler(copy=True, with_mean=True, with_std=True)</td>\n",
       "                        <td id=\"T_31bb634a_f4c1_11e9_84d2_008cfafbf396row7_col3\" class=\"data row7 col3\" >KNeighborsClassifier(algorithm='auto', leaf_size=30, metric='minkowski',\n",
       "           metric_params=None, n_jobs=None, n_neighbors=15, p=1,\n",
       "           weights='distance')</td>\n",
       "                        <td id=\"T_31bb634a_f4c1_11e9_84d2_008cfafbf396row7_col4\" class=\"data row7 col4\" >nan</td>\n",
       "                        <td id=\"T_31bb634a_f4c1_11e9_84d2_008cfafbf396row7_col5\" class=\"data row7 col5\" >nan</td>\n",
       "            </tr>\n",
       "    </tbody></table>"
      ],
      "text/plain": [
       "<pandas.io.formats.style.Styler at 0x2ab38801cd30>"
      ]
     },
     "metadata": {},
     "output_type": "display_data"
    },
    {
     "data": {
      "text/plain": [
       "'TPOTClassifierClean #1'"
      ]
     },
     "metadata": {},
     "output_type": "display_data"
    },
    {
     "data": {
      "text/html": [
       "<style  type=\"text/css\" >\n",
       "</style><table id=\"T_31bd7aae_f4c1_11e9_84d2_008cfafbf396\" ><thead>    <tr>        <th class=\"col_heading level0 col0\" >max_angle</th>        <th class=\"col_heading level0 col1\" >test_acc</th>        <th class=\"col_heading level0 col2\" >train_acc</th>        <th class=\"col_heading level0 col3\" >time_err</th>        <th class=\"col_heading level0 col4\" >time_pre</th>        <th class=\"col_heading level0 col5\" >time_mod</th>    </tr></thead><tbody>\n",
       "                <tr>\n",
       "                                <td id=\"T_31bd7aae_f4c1_11e9_84d2_008cfafbf396row0_col0\" class=\"data row0 col0\" >0</td>\n",
       "                        <td id=\"T_31bd7aae_f4c1_11e9_84d2_008cfafbf396row0_col1\" class=\"data row0 col1\" >0.983</td>\n",
       "                        <td id=\"T_31bd7aae_f4c1_11e9_84d2_008cfafbf396row0_col2\" class=\"data row0 col2\" >1</td>\n",
       "                        <td id=\"T_31bd7aae_f4c1_11e9_84d2_008cfafbf396row0_col3\" class=\"data row0 col3\" >0.194</td>\n",
       "                        <td id=\"T_31bd7aae_f4c1_11e9_84d2_008cfafbf396row0_col4\" class=\"data row0 col4\" >0</td>\n",
       "                        <td id=\"T_31bd7aae_f4c1_11e9_84d2_008cfafbf396row0_col5\" class=\"data row0 col5\" >7693.58</td>\n",
       "            </tr>\n",
       "            <tr>\n",
       "                                <td id=\"T_31bd7aae_f4c1_11e9_84d2_008cfafbf396row1_col0\" class=\"data row1 col0\" >12</td>\n",
       "                        <td id=\"T_31bd7aae_f4c1_11e9_84d2_008cfafbf396row1_col1\" class=\"data row1 col1\" >0.975</td>\n",
       "                        <td id=\"T_31bd7aae_f4c1_11e9_84d2_008cfafbf396row1_col2\" class=\"data row1 col2\" >1</td>\n",
       "                        <td id=\"T_31bd7aae_f4c1_11e9_84d2_008cfafbf396row1_col3\" class=\"data row1 col3\" >0.262</td>\n",
       "                        <td id=\"T_31bd7aae_f4c1_11e9_84d2_008cfafbf396row1_col4\" class=\"data row1 col4\" >0</td>\n",
       "                        <td id=\"T_31bd7aae_f4c1_11e9_84d2_008cfafbf396row1_col5\" class=\"data row1 col5\" >7463.3</td>\n",
       "            </tr>\n",
       "            <tr>\n",
       "                                <td id=\"T_31bd7aae_f4c1_11e9_84d2_008cfafbf396row2_col0\" class=\"data row2 col0\" >24</td>\n",
       "                        <td id=\"T_31bd7aae_f4c1_11e9_84d2_008cfafbf396row2_col1\" class=\"data row2 col1\" >0.881</td>\n",
       "                        <td id=\"T_31bd7aae_f4c1_11e9_84d2_008cfafbf396row2_col2\" class=\"data row2 col2\" >1</td>\n",
       "                        <td id=\"T_31bd7aae_f4c1_11e9_84d2_008cfafbf396row2_col3\" class=\"data row2 col3\" >0.249</td>\n",
       "                        <td id=\"T_31bd7aae_f4c1_11e9_84d2_008cfafbf396row2_col4\" class=\"data row2 col4\" >0</td>\n",
       "                        <td id=\"T_31bd7aae_f4c1_11e9_84d2_008cfafbf396row2_col5\" class=\"data row2 col5\" >7243.32</td>\n",
       "            </tr>\n",
       "            <tr>\n",
       "                                <td id=\"T_31bd7aae_f4c1_11e9_84d2_008cfafbf396row3_col0\" class=\"data row3 col0\" >36</td>\n",
       "                        <td id=\"T_31bd7aae_f4c1_11e9_84d2_008cfafbf396row3_col1\" class=\"data row3 col1\" >0.744</td>\n",
       "                        <td id=\"T_31bd7aae_f4c1_11e9_84d2_008cfafbf396row3_col2\" class=\"data row3 col2\" >1</td>\n",
       "                        <td id=\"T_31bd7aae_f4c1_11e9_84d2_008cfafbf396row3_col3\" class=\"data row3 col3\" >0.273</td>\n",
       "                        <td id=\"T_31bd7aae_f4c1_11e9_84d2_008cfafbf396row3_col4\" class=\"data row3 col4\" >0</td>\n",
       "                        <td id=\"T_31bd7aae_f4c1_11e9_84d2_008cfafbf396row3_col5\" class=\"data row3 col5\" >7308.56</td>\n",
       "            </tr>\n",
       "            <tr>\n",
       "                                <td id=\"T_31bd7aae_f4c1_11e9_84d2_008cfafbf396row4_col0\" class=\"data row4 col0\" >48</td>\n",
       "                        <td id=\"T_31bd7aae_f4c1_11e9_84d2_008cfafbf396row4_col1\" class=\"data row4 col1\" >0.65</td>\n",
       "                        <td id=\"T_31bd7aae_f4c1_11e9_84d2_008cfafbf396row4_col2\" class=\"data row4 col2\" >1</td>\n",
       "                        <td id=\"T_31bd7aae_f4c1_11e9_84d2_008cfafbf396row4_col3\" class=\"data row4 col3\" >0.271</td>\n",
       "                        <td id=\"T_31bd7aae_f4c1_11e9_84d2_008cfafbf396row4_col4\" class=\"data row4 col4\" >0</td>\n",
       "                        <td id=\"T_31bd7aae_f4c1_11e9_84d2_008cfafbf396row4_col5\" class=\"data row4 col5\" >7308.99</td>\n",
       "            </tr>\n",
       "            <tr>\n",
       "                                <td id=\"T_31bd7aae_f4c1_11e9_84d2_008cfafbf396row5_col0\" class=\"data row5 col0\" >60</td>\n",
       "                        <td id=\"T_31bd7aae_f4c1_11e9_84d2_008cfafbf396row5_col1\" class=\"data row5 col1\" >0.561</td>\n",
       "                        <td id=\"T_31bd7aae_f4c1_11e9_84d2_008cfafbf396row5_col2\" class=\"data row5 col2\" >1</td>\n",
       "                        <td id=\"T_31bd7aae_f4c1_11e9_84d2_008cfafbf396row5_col3\" class=\"data row5 col3\" >0.269</td>\n",
       "                        <td id=\"T_31bd7aae_f4c1_11e9_84d2_008cfafbf396row5_col4\" class=\"data row5 col4\" >0</td>\n",
       "                        <td id=\"T_31bd7aae_f4c1_11e9_84d2_008cfafbf396row5_col5\" class=\"data row5 col5\" >7207.25</td>\n",
       "            </tr>\n",
       "            <tr>\n",
       "                                <td id=\"T_31bd7aae_f4c1_11e9_84d2_008cfafbf396row6_col0\" class=\"data row6 col0\" >72</td>\n",
       "                        <td id=\"T_31bd7aae_f4c1_11e9_84d2_008cfafbf396row6_col1\" class=\"data row6 col1\" >0.461</td>\n",
       "                        <td id=\"T_31bd7aae_f4c1_11e9_84d2_008cfafbf396row6_col2\" class=\"data row6 col2\" >1</td>\n",
       "                        <td id=\"T_31bd7aae_f4c1_11e9_84d2_008cfafbf396row6_col3\" class=\"data row6 col3\" >0.265</td>\n",
       "                        <td id=\"T_31bd7aae_f4c1_11e9_84d2_008cfafbf396row6_col4\" class=\"data row6 col4\" >0</td>\n",
       "                        <td id=\"T_31bd7aae_f4c1_11e9_84d2_008cfafbf396row6_col5\" class=\"data row6 col5\" >7240.41</td>\n",
       "            </tr>\n",
       "            <tr>\n",
       "                                <td id=\"T_31bd7aae_f4c1_11e9_84d2_008cfafbf396row7_col0\" class=\"data row7 col0\" >84</td>\n",
       "                        <td id=\"T_31bd7aae_f4c1_11e9_84d2_008cfafbf396row7_col1\" class=\"data row7 col1\" >0.439</td>\n",
       "                        <td id=\"T_31bd7aae_f4c1_11e9_84d2_008cfafbf396row7_col2\" class=\"data row7 col2\" >1</td>\n",
       "                        <td id=\"T_31bd7aae_f4c1_11e9_84d2_008cfafbf396row7_col3\" class=\"data row7 col3\" >0.276</td>\n",
       "                        <td id=\"T_31bd7aae_f4c1_11e9_84d2_008cfafbf396row7_col4\" class=\"data row7 col4\" >0</td>\n",
       "                        <td id=\"T_31bd7aae_f4c1_11e9_84d2_008cfafbf396row7_col5\" class=\"data row7 col5\" >7451.44</td>\n",
       "            </tr>\n",
       "    </tbody></table>"
      ],
      "text/plain": [
       "<pandas.io.formats.style.Styler at 0x2ab388057c50>"
      ]
     },
     "metadata": {},
     "output_type": "display_data"
    },
    {
     "data": {
      "text/html": [
       "<style  type=\"text/css\" >\n",
       "</style><table id=\"T_31bf5c0c_f4c1_11e9_84d2_008cfafbf396\" ><thead>    <tr>        <th class=\"col_heading level0 col0\" >max_angle</th>        <th class=\"col_heading level0 col1\" >pipe_0</th>        <th class=\"col_heading level0 col2\" >pipe_1</th>        <th class=\"col_heading level0 col3\" >pipe_2</th>        <th class=\"col_heading level0 col4\" >pipe_3</th>        <th class=\"col_heading level0 col5\" >pipe_4</th>    </tr></thead><tbody>\n",
       "                <tr>\n",
       "                                <td id=\"T_31bf5c0c_f4c1_11e9_84d2_008cfafbf396row0_col0\" class=\"data row0 col0\" >0</td>\n",
       "                        <td id=\"T_31bf5c0c_f4c1_11e9_84d2_008cfafbf396row0_col1\" class=\"data row0 col1\" >StackingEstimator(estimator=BernoulliNB(alpha=0.1, binarize=0.0, class_prior=None, fit_prior=True))</td>\n",
       "                        <td id=\"T_31bf5c0c_f4c1_11e9_84d2_008cfafbf396row0_col2\" class=\"data row0 col2\" >KNeighborsClassifier(algorithm='auto', leaf_size=30, metric='minkowski',\n",
       "           metric_params=None, n_jobs=None, n_neighbors=3, p=2,\n",
       "           weights='distance')</td>\n",
       "                        <td id=\"T_31bf5c0c_f4c1_11e9_84d2_008cfafbf396row0_col3\" class=\"data row0 col3\" >nan</td>\n",
       "                        <td id=\"T_31bf5c0c_f4c1_11e9_84d2_008cfafbf396row0_col4\" class=\"data row0 col4\" >nan</td>\n",
       "                        <td id=\"T_31bf5c0c_f4c1_11e9_84d2_008cfafbf396row0_col5\" class=\"data row0 col5\" >nan</td>\n",
       "            </tr>\n",
       "            <tr>\n",
       "                                <td id=\"T_31bf5c0c_f4c1_11e9_84d2_008cfafbf396row1_col0\" class=\"data row1 col0\" >12</td>\n",
       "                        <td id=\"T_31bf5c0c_f4c1_11e9_84d2_008cfafbf396row1_col1\" class=\"data row1 col1\" >OneHotEncoder(categorical_features=[True, True, False, False, False, False, False, False, True, False, False, False, False, False, False, False, True, False, False, False, False, False, False, True, True, False, False, False, False, False, False, True, True, False, False, False, False, False, False, True, True, False, False, False, False, False, False, True, True, False, False, False, False, False, False, False, True, True, False, False, False, False, False, False],\n",
       "       dtype=<class 'float'>, minimum_fraction=0.25, sparse=False,\n",
       "       threshold=10)</td>\n",
       "                        <td id=\"T_31bf5c0c_f4c1_11e9_84d2_008cfafbf396row1_col2\" class=\"data row1 col2\" >StackingEstimator(estimator=ExtraTreesClassifier(bootstrap=True, class_weight=None, criterion='entropy',\n",
       "           max_depth=None, max_features=0.5, max_leaf_nodes=None,\n",
       "           min_impurity_decrease=0.0, min_impurity_split=None,\n",
       "           min_samples_leaf=15, min_samples_split=15,\n",
       "           min_weight_fraction_leaf=0.0, n_estimators=100, n_jobs=None,\n",
       "           oob_score=False, random_state=None, verbose=0, warm_start=False))</td>\n",
       "                        <td id=\"T_31bf5c0c_f4c1_11e9_84d2_008cfafbf396row1_col3\" class=\"data row1 col3\" >KNeighborsClassifier(algorithm='auto', leaf_size=30, metric='minkowski',\n",
       "           metric_params=None, n_jobs=None, n_neighbors=2, p=2,\n",
       "           weights='distance')</td>\n",
       "                        <td id=\"T_31bf5c0c_f4c1_11e9_84d2_008cfafbf396row1_col4\" class=\"data row1 col4\" >nan</td>\n",
       "                        <td id=\"T_31bf5c0c_f4c1_11e9_84d2_008cfafbf396row1_col5\" class=\"data row1 col5\" >nan</td>\n",
       "            </tr>\n",
       "            <tr>\n",
       "                                <td id=\"T_31bf5c0c_f4c1_11e9_84d2_008cfafbf396row2_col0\" class=\"data row2 col0\" >24</td>\n",
       "                        <td id=\"T_31bf5c0c_f4c1_11e9_84d2_008cfafbf396row2_col1\" class=\"data row2 col1\" >StackingEstimator(estimator=BernoulliNB(alpha=0.01, binarize=0.0, class_prior=None, fit_prior=True))</td>\n",
       "                        <td id=\"T_31bf5c0c_f4c1_11e9_84d2_008cfafbf396row2_col2\" class=\"data row2 col2\" >StackingEstimator(estimator=ExtraTreesClassifier(bootstrap=False, class_weight=None, criterion='entropy',\n",
       "           max_depth=None, max_features=0.25, max_leaf_nodes=None,\n",
       "           min_impurity_decrease=0.0, min_impurity_split=None,\n",
       "           min_samples_leaf=5, min_samples_split=10,\n",
       "           min_weight_fraction_leaf=0.0, n_estimators=100, n_jobs=None,\n",
       "           oob_score=False, random_state=None, verbose=0, warm_start=False))</td>\n",
       "                        <td id=\"T_31bf5c0c_f4c1_11e9_84d2_008cfafbf396row2_col3\" class=\"data row2 col3\" >StackingEstimator(estimator=XGBClassifier(base_score=0.5, booster='gbtree', colsample_bylevel=1,\n",
       "       colsample_bynode=1, colsample_bytree=1, gamma=0, learning_rate=0.5,\n",
       "       max_delta_step=0, max_depth=7, min_child_weight=12, missing=nan,\n",
       "       n_estimators=100, n_jobs=1, nthread=1, objective='multi:softprob',\n",
       "       random_state=0, reg_alpha=0, reg_lambda=1, scale_pos_weight=1,\n",
       "       seed=None, silent=None, subsample=0.9000000000000001, verbosity=1))</td>\n",
       "                        <td id=\"T_31bf5c0c_f4c1_11e9_84d2_008cfafbf396row2_col4\" class=\"data row2 col4\" >KNeighborsClassifier(algorithm='auto', leaf_size=30, metric='minkowski',\n",
       "           metric_params=None, n_jobs=None, n_neighbors=3, p=2,\n",
       "           weights='distance')</td>\n",
       "                        <td id=\"T_31bf5c0c_f4c1_11e9_84d2_008cfafbf396row2_col5\" class=\"data row2 col5\" >nan</td>\n",
       "            </tr>\n",
       "            <tr>\n",
       "                                <td id=\"T_31bf5c0c_f4c1_11e9_84d2_008cfafbf396row3_col0\" class=\"data row3 col0\" >36</td>\n",
       "                        <td id=\"T_31bf5c0c_f4c1_11e9_84d2_008cfafbf396row3_col1\" class=\"data row3 col1\" >StackingEstimator(estimator=MultinomialNB(alpha=0.001, class_prior=None, fit_prior=True))</td>\n",
       "                        <td id=\"T_31bf5c0c_f4c1_11e9_84d2_008cfafbf396row3_col2\" class=\"data row3 col2\" >PCA(copy=True, iterated_power=10, n_components=None, random_state=None,\n",
       "  svd_solver='randomized', tol=0.0, whiten=False)</td>\n",
       "                        <td id=\"T_31bf5c0c_f4c1_11e9_84d2_008cfafbf396row3_col3\" class=\"data row3 col3\" >KNeighborsClassifier(algorithm='auto', leaf_size=30, metric='minkowski',\n",
       "           metric_params=None, n_jobs=None, n_neighbors=3, p=1,\n",
       "           weights='distance')</td>\n",
       "                        <td id=\"T_31bf5c0c_f4c1_11e9_84d2_008cfafbf396row3_col4\" class=\"data row3 col4\" >nan</td>\n",
       "                        <td id=\"T_31bf5c0c_f4c1_11e9_84d2_008cfafbf396row3_col5\" class=\"data row3 col5\" >nan</td>\n",
       "            </tr>\n",
       "            <tr>\n",
       "                                <td id=\"T_31bf5c0c_f4c1_11e9_84d2_008cfafbf396row4_col0\" class=\"data row4 col0\" >48</td>\n",
       "                        <td id=\"T_31bf5c0c_f4c1_11e9_84d2_008cfafbf396row4_col1\" class=\"data row4 col1\" >StackingEstimator(estimator=MultinomialNB(alpha=0.001, class_prior=None, fit_prior=True))</td>\n",
       "                        <td id=\"T_31bf5c0c_f4c1_11e9_84d2_008cfafbf396row4_col2\" class=\"data row4 col2\" >PCA(copy=True, iterated_power=10, n_components=None, random_state=None,\n",
       "  svd_solver='randomized', tol=0.0, whiten=False)</td>\n",
       "                        <td id=\"T_31bf5c0c_f4c1_11e9_84d2_008cfafbf396row4_col3\" class=\"data row4 col3\" >KNeighborsClassifier(algorithm='auto', leaf_size=30, metric='minkowski',\n",
       "           metric_params=None, n_jobs=None, n_neighbors=3, p=1,\n",
       "           weights='distance')</td>\n",
       "                        <td id=\"T_31bf5c0c_f4c1_11e9_84d2_008cfafbf396row4_col4\" class=\"data row4 col4\" >nan</td>\n",
       "                        <td id=\"T_31bf5c0c_f4c1_11e9_84d2_008cfafbf396row4_col5\" class=\"data row4 col5\" >nan</td>\n",
       "            </tr>\n",
       "            <tr>\n",
       "                                <td id=\"T_31bf5c0c_f4c1_11e9_84d2_008cfafbf396row5_col0\" class=\"data row5 col0\" >60</td>\n",
       "                        <td id=\"T_31bf5c0c_f4c1_11e9_84d2_008cfafbf396row5_col1\" class=\"data row5 col1\" >OneHotEncoder(categorical_features=[True, True, False, False, False, False, False, False, True, False, False, False, False, False, False, False, True, False, False, False, False, False, False, True, True, False, False, False, False, False, False, True, True, False, False, False, False, False, False, True, True, False, False, False, False, False, False, True, True, False, False, False, False, False, False, False, True, True, False, False, False, False, False, False],\n",
       "       dtype=<class 'float'>, minimum_fraction=0.25, sparse=False,\n",
       "       threshold=10)</td>\n",
       "                        <td id=\"T_31bf5c0c_f4c1_11e9_84d2_008cfafbf396row5_col2\" class=\"data row5 col2\" >StackingEstimator(estimator=RandomForestClassifier(bootstrap=True, class_weight=None, criterion='gini',\n",
       "            max_depth=None, max_features=0.3, max_leaf_nodes=None,\n",
       "            min_impurity_decrease=0.0, min_impurity_split=None,\n",
       "            min_samples_leaf=13, min_samples_split=17,\n",
       "            min_weight_fraction_leaf=0.0, n_estimators=100, n_jobs=None,\n",
       "            oob_score=False, random_state=None, verbose=0,\n",
       "            warm_start=False))</td>\n",
       "                        <td id=\"T_31bf5c0c_f4c1_11e9_84d2_008cfafbf396row5_col3\" class=\"data row5 col3\" >StackingEstimator(estimator=ExtraTreesClassifier(bootstrap=True, class_weight=None, criterion='entropy',\n",
       "           max_depth=None, max_features=0.5, max_leaf_nodes=None,\n",
       "           min_impurity_decrease=0.0, min_impurity_split=None,\n",
       "           min_samples_leaf=15, min_samples_split=15,\n",
       "           min_weight_fraction_leaf=0.0, n_estimators=100, n_jobs=None,\n",
       "           oob_score=False, random_state=None, verbose=0, warm_start=False))</td>\n",
       "                        <td id=\"T_31bf5c0c_f4c1_11e9_84d2_008cfafbf396row5_col4\" class=\"data row5 col4\" >Normalizer(copy=True, norm='l2')</td>\n",
       "                        <td id=\"T_31bf5c0c_f4c1_11e9_84d2_008cfafbf396row5_col5\" class=\"data row5 col5\" >KNeighborsClassifier(algorithm='auto', leaf_size=30, metric='minkowski',\n",
       "           metric_params=None, n_jobs=None, n_neighbors=2, p=2,\n",
       "           weights='distance')</td>\n",
       "            </tr>\n",
       "            <tr>\n",
       "                                <td id=\"T_31bf5c0c_f4c1_11e9_84d2_008cfafbf396row6_col0\" class=\"data row6 col0\" >72</td>\n",
       "                        <td id=\"T_31bf5c0c_f4c1_11e9_84d2_008cfafbf396row6_col1\" class=\"data row6 col1\" >StackingEstimator(estimator=MultinomialNB(alpha=0.001, class_prior=None, fit_prior=True))</td>\n",
       "                        <td id=\"T_31bf5c0c_f4c1_11e9_84d2_008cfafbf396row6_col2\" class=\"data row6 col2\" >PCA(copy=True, iterated_power=10, n_components=None, random_state=None,\n",
       "  svd_solver='randomized', tol=0.0, whiten=False)</td>\n",
       "                        <td id=\"T_31bf5c0c_f4c1_11e9_84d2_008cfafbf396row6_col3\" class=\"data row6 col3\" >KNeighborsClassifier(algorithm='auto', leaf_size=30, metric='minkowski',\n",
       "           metric_params=None, n_jobs=None, n_neighbors=3, p=1,\n",
       "           weights='distance')</td>\n",
       "                        <td id=\"T_31bf5c0c_f4c1_11e9_84d2_008cfafbf396row6_col4\" class=\"data row6 col4\" >nan</td>\n",
       "                        <td id=\"T_31bf5c0c_f4c1_11e9_84d2_008cfafbf396row6_col5\" class=\"data row6 col5\" >nan</td>\n",
       "            </tr>\n",
       "            <tr>\n",
       "                                <td id=\"T_31bf5c0c_f4c1_11e9_84d2_008cfafbf396row7_col0\" class=\"data row7 col0\" >84</td>\n",
       "                        <td id=\"T_31bf5c0c_f4c1_11e9_84d2_008cfafbf396row7_col1\" class=\"data row7 col1\" >StackingEstimator(estimator=MultinomialNB(alpha=0.001, class_prior=None, fit_prior=True))</td>\n",
       "                        <td id=\"T_31bf5c0c_f4c1_11e9_84d2_008cfafbf396row7_col2\" class=\"data row7 col2\" >PCA(copy=True, iterated_power=10, n_components=None, random_state=None,\n",
       "  svd_solver='randomized', tol=0.0, whiten=False)</td>\n",
       "                        <td id=\"T_31bf5c0c_f4c1_11e9_84d2_008cfafbf396row7_col3\" class=\"data row7 col3\" >KNeighborsClassifier(algorithm='auto', leaf_size=30, metric='minkowski',\n",
       "           metric_params=None, n_jobs=None, n_neighbors=3, p=1,\n",
       "           weights='distance')</td>\n",
       "                        <td id=\"T_31bf5c0c_f4c1_11e9_84d2_008cfafbf396row7_col4\" class=\"data row7 col4\" >nan</td>\n",
       "                        <td id=\"T_31bf5c0c_f4c1_11e9_84d2_008cfafbf396row7_col5\" class=\"data row7 col5\" >nan</td>\n",
       "            </tr>\n",
       "    </tbody></table>"
      ],
      "text/plain": [
       "<pandas.io.formats.style.Styler at 0x2ab3880579e8>"
      ]
     },
     "metadata": {},
     "output_type": "display_data"
    },
    {
     "data": {
      "image/png": "[encoded data removed]",
      "text/plain": [
       "<Figure size 720x288 with 2 Axes>"
      ]
     },
     "metadata": {
      "needs_background": "light"
     },
     "output_type": "display_data"
    }
   ],
   "source": [
    "print_results_by_model(\n",
    "    df, \n",
    "    [\"train_labels\", \"test_labels\"],\n",
    "    err_param_name=\"max_angle\",\n",
    "    pipeline_name=\"best_pipeline\",\n",
    ")\n",
    "visualize(df)"
   ]
  },
  {
   "cell_type": "markdown",
   "metadata": {
    "collapsed": false,
    "papermill": {
     "duration": 0.33765,
     "end_time": "2019-10-22T11:43:43.658654",
     "exception": false,
     "start_time": "2019-10-22T11:43:43.321004",
     "status": "completed"
    },
    "tags": []
   },
   "source": []
  }
 ],
 "metadata": {
  "kernelspec": {
   "display_name": "Python 3",
   "language": "python",
   "name": "python3"
  },
  "language_info": {
   "codemirror_mode": {
    "name": "ipython",
    "version": 3
   },
   "file_extension": ".py",
   "mimetype": "text/x-python",
   "name": "python",
   "nbconvert_exporter": "python",
   "pygments_lexer": "ipython3",
   "version": "3.6.6"
  },
  "papermill": {
   "duration": 45687.095026,
   "end_time": "2019-10-22T11:43:49.064289",
   "environment_variables": {},
   "exception": null,
   "input_path": "docs/case_studies/test2.ipynb",
   "output_path": "docs/case_studies/test2.ipynb",
   "parameters": {},
   "start_time": "2019-10-21T23:02:21.969263",
   "version": "1.2.0"
  },
  "pycharm": {
   "stem_cell": {
    "cell_type": "raw",
    "metadata": {
     "collapsed": false
    },
    "source": []
   }
  },
  "widgets": {
   "application/vnd.jupyter.widget-state+json": {
    "state": {
     "0f66695844eb459785bd4dfe897e5a76": {
      "model_module": "@jupyter-widgets/controls",
      "model_module_version": "1.5.0",
      "model_name": "DescriptionStyleModel",
      "state": {
       "_model_module": "@jupyter-widgets/controls",
       "_model_module_version": "1.5.0",
       "_model_name": "DescriptionStyleModel",
       "_view_count": null,
       "_view_module": "@jupyter-widgets/base",
       "_view_module_version": "1.2.0",
       "_view_name": "StyleView",
       "description_width": ""
      }
     },
     "7aa790ddebd74900acccfdc0cdf7c468": {
      "model_module": "@jupyter-widgets/controls",
      "model_module_version": "1.5.0",
      "model_name": "HBoxModel",
      "state": {
       "_dom_classes": [],
       "_model_module": "@jupyter-widgets/controls",
       "_model_module_version": "1.5.0",
       "_model_name": "HBoxModel",
       "_view_count": null,
       "_view_module": "@jupyter-widgets/controls",
       "_view_module_version": "1.5.0",
       "_view_name": "HBoxView",
       "box_style": "",
       "children": [
        "IPY_MODEL_94b06a19225e4f459cff00d6952e5037",
        "IPY_MODEL_e98da40ee025423faa243d7324e9ca0b"
       ],
       "layout": "IPY_MODEL_ad2abe26f6f44ab1bda30337413e8c1d"
      }
     },
     "7bd2d1608f124777a2ea17ffd41bcc0e": {
      "model_module": "@jupyter-widgets/base",
      "model_module_version": "1.2.0",
      "model_name": "LayoutModel",
      "state": {
       "_model_module": "@jupyter-widgets/base",
       "_model_module_version": "1.2.0",
       "_model_name": "LayoutModel",
       "_view_count": null,
       "_view_module": "@jupyter-widgets/base",
       "_view_module_version": "1.2.0",
       "_view_name": "LayoutView",
       "align_content": null,
       "align_items": null,
       "align_self": null,
       "border": null,
       "bottom": null,
       "display": null,
       "flex": null,
       "flex_flow": null,
       "grid_area": null,
       "grid_auto_columns": null,
       "grid_auto_flow": null,
       "grid_auto_rows": null,
       "grid_column": null,
       "grid_gap": null,
       "grid_row": null,
       "grid_template_areas": null,
       "grid_template_columns": null,
       "grid_template_rows": null,
       "height": null,
       "justify_content": null,
       "justify_items": null,
       "left": null,
       "margin": null,
       "max_height": null,
       "max_width": null,
       "min_height": null,
       "min_width": null,
       "object_fit": null,
       "object_position": null,
       "order": null,
       "overflow": null,
       "overflow_x": null,
       "overflow_y": null,
       "padding": null,
       "right": null,
       "top": null,
       "visibility": null,
       "width": null
      }
     },
     "94b06a19225e4f459cff00d6952e5037": {
      "model_module": "@jupyter-widgets/controls",
      "model_module_version": "1.5.0",
      "model_name": "IntProgressModel",
      "state": {
       "_dom_classes": [],
       "_model_module": "@jupyter-widgets/controls",
       "_model_module_version": "1.5.0",
       "_model_name": "IntProgressModel",
       "_view_count": null,
       "_view_module": "@jupyter-widgets/controls",
       "_view_module_version": "1.5.0",
       "_view_name": "ProgressView",
       "bar_style": "",
       "description": "Optimization Progress",
       "description_tooltip": null,
       "layout": "IPY_MODEL_d8c3a604f71f4f71a66e91a4200c31e7",
       "max": 2,
       "min": 0,
       "orientation": "horizontal",
       "style": "IPY_MODEL_9f245e3bc2664c29a9f34c0176886b93",
       "value": 2
      }
     },
     "9f245e3bc2664c29a9f34c0176886b93": {
      "model_module": "@jupyter-widgets/controls",
      "model_module_version": "1.5.0",
      "model_name": "ProgressStyleModel",
      "state": {
       "_model_module": "@jupyter-widgets/controls",
       "_model_module_version": "1.5.0",
       "_model_name": "ProgressStyleModel",
       "_view_count": null,
       "_view_module": "@jupyter-widgets/base",
       "_view_module_version": "1.2.0",
       "_view_name": "StyleView",
       "bar_color": null,
       "description_width": "initial"
      }
     },
     "ad2abe26f6f44ab1bda30337413e8c1d": {
      "model_module": "@jupyter-widgets/base",
      "model_module_version": "1.2.0",
      "model_name": "LayoutModel",
      "state": {
       "_model_module": "@jupyter-widgets/base",
       "_model_module_version": "1.2.0",
       "_model_name": "LayoutModel",
       "_view_count": null,
       "_view_module": "@jupyter-widgets/base",
       "_view_module_version": "1.2.0",
       "_view_name": "LayoutView",
       "align_content": null,
       "align_items": null,
       "align_self": null,
       "border": null,
       "bottom": null,
       "display": null,
       "flex": null,
       "flex_flow": null,
       "grid_area": null,
       "grid_auto_columns": null,
       "grid_auto_flow": null,
       "grid_auto_rows": null,
       "grid_column": null,
       "grid_gap": null,
       "grid_row": null,
       "grid_template_areas": null,
       "grid_template_columns": null,
       "grid_template_rows": null,
       "height": null,
       "justify_content": null,
       "justify_items": null,
       "left": null,
       "margin": null,
       "max_height": null,
       "max_width": null,
       "min_height": null,
       "min_width": null,
       "object_fit": null,
       "object_position": null,
       "order": null,
       "overflow": null,
       "overflow_x": null,
       "overflow_y": null,
       "padding": null,
       "right": null,
       "top": null,
       "visibility": null,
       "width": null
      }
     },
     "d8c3a604f71f4f71a66e91a4200c31e7": {
      "model_module": "@jupyter-widgets/base",
      "model_module_version": "1.2.0",
      "model_name": "LayoutModel",
      "state": {
       "_model_module": "@jupyter-widgets/base",
       "_model_module_version": "1.2.0",
       "_model_name": "LayoutModel",
       "_view_count": null,
       "_view_module": "@jupyter-widgets/base",
       "_view_module_version": "1.2.0",
       "_view_name": "LayoutView",
       "align_content": null,
       "align_items": null,
       "align_self": null,
       "border": null,
       "bottom": null,
       "display": null,
       "flex": null,
       "flex_flow": null,
       "grid_area": null,
       "grid_auto_columns": null,
       "grid_auto_flow": null,
       "grid_auto_rows": null,
       "grid_column": null,
       "grid_gap": null,
       "grid_row": null,
       "grid_template_areas": null,
       "grid_template_columns": null,
       "grid_template_rows": null,
       "height": null,
       "justify_content": null,
       "justify_items": null,
       "left": null,
       "margin": null,
       "max_height": null,
       "max_width": null,
       "min_height": null,
       "min_width": null,
       "object_fit": null,
       "object_position": null,
       "order": null,
       "overflow": null,
       "overflow_x": null,
       "overflow_y": null,
       "padding": null,
       "right": null,
       "top": null,
       "visibility": null,
       "width": null
      }
     },
     "e98da40ee025423faa243d7324e9ca0b": {
      "model_module": "@jupyter-widgets/controls",
      "model_module_version": "1.5.0",
      "model_name": "HTMLModel",
      "state": {
       "_dom_classes": [],
       "_model_module": "@jupyter-widgets/controls",
       "_model_module_version": "1.5.0",
       "_model_name": "HTMLModel",
       "_view_count": null,
       "_view_module": "@jupyter-widgets/controls",
       "_view_module_version": "1.5.0",
       "_view_name": "HTMLView",
       "description": "",
       "description_tooltip": null,
       "layout": "IPY_MODEL_7bd2d1608f124777a2ea17ffd41bcc0e",
       "placeholder": "​",
       "style": "IPY_MODEL_0f66695844eb459785bd4dfe897e5a76",
       "value": "100% 2/2 [00:08&lt;00:00,  4.22s/pipeline]"
      }
     }
    },
    "version_major": 2,
    "version_minor": 0
   }
  }
 },
 "nbformat": 4,
 "nbformat_minor": 0
}
