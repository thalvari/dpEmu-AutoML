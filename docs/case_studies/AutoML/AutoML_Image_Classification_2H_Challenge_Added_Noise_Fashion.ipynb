{
 "cells": [
  {
   "cell_type": "markdown",
   "metadata": {
    "collapsed": false,
    "papermill": {
     "duration": 0.03729,
     "end_time": "2019-11-16T00:54:46.681473",
     "exception": false,
     "start_time": "2019-11-16T00:54:46.644183",
     "status": "completed"
    },
    "tags": []
   },
   "source": [
    "# AutoML Image Classification: 2H Challenge Added Noise (Fashion)"
   ]
  },
  {
   "cell_type": "code",
   "execution_count": 1,
   "metadata": {
    "collapsed": false,
    "papermill": {
     "duration": 0.037775,
     "end_time": "2019-11-16T00:54:46.748238",
     "exception": false,
     "start_time": "2019-11-16T00:54:46.710463",
     "status": "completed"
    },
    "pycharm": {
     "name": "#%%\n"
    },
    "tags": []
   },
   "outputs": [],
   "source": [
    "import warnings\n",
    "warnings.simplefilter(action=\"ignore\", category=FutureWarning)"
   ]
  },
  {
   "cell_type": "markdown",
   "metadata": {
    "collapsed": false,
    "papermill": {
     "duration": 0.020505,
     "end_time": "2019-11-16T00:54:46.791491",
     "exception": false,
     "start_time": "2019-11-16T00:54:46.770986",
     "status": "completed"
    },
    "pycharm": {
     "name": "#%% md\n"
    },
    "tags": []
   },
   "source": [
    "![](imgs/gaussian_noise.png)"
   ]
  },
  {
   "cell_type": "code",
   "execution_count": 2,
   "metadata": {
    "collapsed": false,
    "papermill": {
     "duration": 15.804462,
     "end_time": "2019-11-16T00:55:02.610879",
     "exception": false,
     "start_time": "2019-11-16T00:54:46.806417",
     "status": "completed"
    },
    "pycharm": {
     "name": "#%%\n"
    },
    "tags": []
   },
   "outputs": [
    {
     "name": "stdout",
     "output_type": "stream",
     "text": [
      "Better speed can be achieved with apex installed from https://www.github.com/nvidia/apex.\n"
     ]
    },
    {
     "name": "stderr",
     "output_type": "stream",
     "text": [
      "Using TensorFlow backend.\n"
     ]
    }
   ],
   "source": [
    "import random as rn\n",
    "from abc import ABC, abstractmethod\n",
    "\n",
    "import autokeras as ak\n",
    "import h2o\n",
    "import matplotlib.pyplot as plt\n",
    "import numpy as np\n",
    "from h2o.automl import H2OAutoML\n",
    "from keras.datasets import fashion_mnist\n",
    "from numpy.random import RandomState\n",
    "from sklearn.datasets import load_digits\n",
    "from sklearn.metrics import accuracy_score\n",
    "from sklearn.model_selection import train_test_split\n",
    "from tpot import TPOTClassifier\n",
    "\n",
    "from dpemu import runner\n",
    "from dpemu.filters.common import GaussianNoise, Clip\n",
    "from dpemu.filters.image import RotationPIL\n",
    "from dpemu.nodes import Array\n",
    "from dpemu.nodes.series import Series\n",
    "from dpemu.plotting_utils import visualize_scores, print_results_by_model\n",
    "from dpemu.utils import generate_tmpdir"
   ]
  },
  {
   "cell_type": "markdown",
   "metadata": {
    "collapsed": false,
    "papermill": {
     "duration": 0.027848,
     "end_time": "2019-11-16T00:55:02.673863",
     "exception": false,
     "start_time": "2019-11-16T00:55:02.646015",
     "status": "completed"
    },
    "pycharm": {
     "is_executing": false,
     "name": "#%% md\n"
    },
    "tags": []
   },
   "source": []
  },
  {
   "cell_type": "code",
   "execution_count": 3,
   "metadata": {
    "collapsed": false,
    "papermill": {
     "duration": 0.038102,
     "end_time": "2019-11-16T00:55:02.736796",
     "exception": false,
     "start_time": "2019-11-16T00:55:02.698694",
     "status": "completed"
    },
    "pycharm": {
     "name": "#%%\n"
    },
    "tags": []
   },
   "outputs": [],
   "source": [
    "def get_data():\n",
    "    # random_state = RandomState(42)\n",
    "    # x, y = load_digits(return_X_y=True)\n",
    "    # y = y.astype(np.uint8)\n",
    "    # return train_test_split(x, y, test_size=.25, random_state=random_state)\n",
    "    (x_train, y_train), (x_test, y_test) = fashion_mnist.load_data()\n",
    "    s = x_train.shape[1]\n",
    "    x_train = x_train.reshape((len(x_train), s**2)).astype(np.float64)\n",
    "    x_test = x_test.reshape((len(x_test), s**2)).astype(np.float64)\n",
    "    return x_train, x_test, y_train, y_test"
   ]
  },
  {
   "cell_type": "markdown",
   "metadata": {
    "collapsed": false,
    "papermill": {
     "duration": 0.015327,
     "end_time": "2019-11-16T00:55:02.770325",
     "exception": false,
     "start_time": "2019-11-16T00:55:02.754998",
     "status": "completed"
    },
    "pycharm": {
     "is_executing": false,
     "name": "#%% md\n"
    },
    "tags": []
   },
   "source": []
  },
  {
   "cell_type": "code",
   "execution_count": 4,
   "metadata": {
    "collapsed": false,
    "papermill": {
     "duration": 0.028385,
     "end_time": "2019-11-16T00:55:02.814315",
     "exception": false,
     "start_time": "2019-11-16T00:55:02.785930",
     "status": "completed"
    },
    "pycharm": {
     "name": "#%%\n"
    },
    "tags": []
   },
   "outputs": [],
   "source": [
    "def get_err_root_node():\n",
    "    # err_img_node = Array(reshape=(8, 8))\n",
    "    err_img_node = Array(reshape=(28, 28))\n",
    "\n",
    "    # err_root_node = Series(err_img_node)\n",
    "    # err_img_node.addfilter(RotationPIL(\"max_angle\"))\n",
    "    # return err_root_node\n",
    "    err_root_node = Series(err_img_node)\n",
    "    err_img_node.addfilter(GaussianNoise(\"mean\", \"std\"))\n",
    "    err_img_node.addfilter(Clip(\"min_val\", \"max_val\"))\n",
    "    return err_root_node"
   ]
  },
  {
   "cell_type": "markdown",
   "metadata": {
    "collapsed": false,
    "papermill": {
     "duration": 0.015646,
     "end_time": "2019-11-16T00:55:02.845589",
     "exception": false,
     "start_time": "2019-11-16T00:55:02.829943",
     "status": "completed"
    },
    "pycharm": {
     "is_executing": false,
     "name": "#%% md\n"
    },
    "tags": []
   },
   "source": []
  },
  {
   "cell_type": "code",
   "execution_count": 5,
   "metadata": {
    "collapsed": false,
    "papermill": {
     "duration": 0.029452,
     "end_time": "2019-11-16T00:55:02.890649",
     "exception": false,
     "start_time": "2019-11-16T00:55:02.861197",
     "status": "completed"
    },
    "pycharm": {
     "name": "#%%\n"
    },
    "tags": []
   },
   "outputs": [],
   "source": [
    "def get_err_params_list(data):\n",
    "    # angle_steps = np.linspace(0, 90, num=6)\n",
    "    # err_params_list = [{\"max_angle\": a} for a in angle_steps]\n",
    "    # return err_params_list\n",
    "    min_val = np.amin(data)\n",
    "    max_val = np.amax(data)\n",
    "    std_steps = np.round(np.linspace(0, max_val, num=6), 3)\n",
    "    err_params_list = [{\"mean\": 0, \"std\": std, \"min_val\": min_val, \"max_val\": max_val} for std in std_steps]\n",
    "    return err_params_list"
   ]
  },
  {
   "cell_type": "markdown",
   "metadata": {
    "collapsed": false,
    "papermill": {
     "duration": 0.015341,
     "end_time": "2019-11-16T00:55:02.921770",
     "exception": false,
     "start_time": "2019-11-16T00:55:02.906429",
     "status": "completed"
    },
    "pycharm": {
     "is_executing": false,
     "name": "#%% md\n"
    },
    "tags": []
   },
   "source": []
  },
  {
   "cell_type": "code",
   "execution_count": 6,
   "metadata": {
    "collapsed": false,
    "papermill": {
     "duration": 0.027638,
     "end_time": "2019-11-16T00:55:02.964992",
     "exception": false,
     "start_time": "2019-11-16T00:55:02.937354",
     "status": "completed"
    },
    "pycharm": {
     "name": "#%%\n"
    },
    "tags": []
   },
   "outputs": [],
   "source": [
    "class Preprocessor:\n",
    "\n",
    "    def run(self, train_data, test_data, params):\n",
    "        return np.round(train_data).astype(np.uint8), np.round(test_data).astype(np.uint8), {}"
   ]
  },
  {
   "cell_type": "markdown",
   "metadata": {
    "collapsed": false,
    "papermill": {
     "duration": 0.015439,
     "end_time": "2019-11-16T00:55:02.996066",
     "exception": false,
     "start_time": "2019-11-16T00:55:02.980627",
     "status": "completed"
    },
    "pycharm": {
     "is_executing": false,
     "name": "#%% md\n"
    },
    "tags": []
   },
   "source": []
  },
  {
   "cell_type": "code",
   "execution_count": 7,
   "metadata": {
    "collapsed": false,
    "papermill": {
     "duration": 0.078416,
     "end_time": "2019-11-16T00:55:03.090291",
     "exception": false,
     "start_time": "2019-11-16T00:55:03.011875",
     "status": "completed"
    },
    "pycharm": {
     "name": "#%%\n"
    },
    "tags": []
   },
   "outputs": [],
   "source": [
    "class AbstractModel(ABC):\n",
    "\n",
    "    def __init__(self):\n",
    "        self.time_limit_mins = 60*2\n",
    "        self.seed = 42\n",
    "        self.random_state = RandomState(self.seed)\n",
    "        np.random.seed(self.seed)\n",
    "\n",
    "    @abstractmethod\n",
    "    def get_fitted_model(self, train_data, train_labels, params):\n",
    "        pass\n",
    "\n",
    "    @abstractmethod\n",
    "    def get_accuracy(self, data, labels, fitted_model, params):\n",
    "        pass\n",
    "\n",
    "    @abstractmethod\n",
    "    def get_best_pipeline(self, fitted_model):\n",
    "        pass\n",
    "\n",
    "    def run(self, train_data, test_data, params):\n",
    "        train_labels = params[\"train_labels\"]\n",
    "        test_labels = params[\"test_labels\"]\n",
    "\n",
    "        fitted_model = self.get_fitted_model(train_data, train_labels, params)\n",
    "\n",
    "        results = {\n",
    "            \"test_acc\": self.get_accuracy(test_data, test_labels, fitted_model, params),\n",
    "            \"train_acc\": self.get_accuracy(train_data, train_labels, fitted_model, params),\n",
    "            \"best_pipeline\": self.get_best_pipeline(fitted_model),\n",
    "        }\n",
    "        print(type(fitted_model))\n",
    "        print(results[\"test_acc\"])\n",
    "        return results\n",
    "\n",
    "class TPOTClassifierModel(AbstractModel):\n",
    "\n",
    "    def __init__(self):\n",
    "        super().__init__()\n",
    "\n",
    "    def get_fitted_model(self, train_data, train_labels, params):\n",
    "        return TPOTClassifier(\n",
    "            max_time_mins=self.time_limit_mins,\n",
    "            max_eval_time_mins=self.time_limit_mins,\n",
    "            n_jobs=-1,\n",
    "            random_state=self.seed,\n",
    "            verbosity=1,\n",
    "        ).fit(train_data, train_labels)\n",
    "    \n",
    "    def get_accuracy(self, data, labels, fitted_model, params):\n",
    "        return round(fitted_model.score(data, labels), 3)\n",
    "\n",
    "    def get_best_pipeline(self, fitted_model):\n",
    "        return [step[1] for step in fitted_model.fitted_pipeline_.steps]\n",
    "\n",
    "class H2OAutoMLModel(AbstractModel):\n",
    "\n",
    "    def __init__(self):\n",
    "        super().__init__()\n",
    "        h2o.init(name=f\"#{rn.SystemRandom().randint(1, 2**30)}\", nthreads=48)\n",
    "        h2o.no_progress()\n",
    "\n",
    "    def get_fitted_model(self, train_data, train_labels, params):\n",
    "        train_data = h2o.H2OFrame(np.concatenate((train_data, train_labels.reshape(-1, 1)), axis=1))\n",
    "        x = np.array(train_data.columns)[:-1].tolist()\n",
    "        y = np.array(train_data.columns)[-1].tolist()\n",
    "        train_data[y] = train_data[y].asfactor()\n",
    "        aml = H2OAutoML(max_runtime_secs=60*self.time_limit_mins, seed=self.seed)\n",
    "        aml.train(x=x, y=y, training_frame=train_data)\n",
    "        return aml\n",
    "\n",
    "    def get_accuracy(self, data, labels, fitted_model, params):\n",
    "        data = h2o.H2OFrame(np.concatenate((data, labels.reshape(-1, 1)), axis=1))\n",
    "        y = np.array(data.columns)[-1].tolist()\n",
    "        data[y] = data[y].asfactor()\n",
    "        pred = fitted_model.predict(data).as_data_frame(header=False)[\"predict\"].values.astype(int)\n",
    "        return np.round(np.mean(pred == labels), 3)\n",
    "\n",
    "    def get_best_pipeline(self, fitted_model):\n",
    "        leader_params = fitted_model.leader.get_params()\n",
    "        best_pipeline = [leader_params[\"model_id\"][\"actual_value\"][\"name\"]]\n",
    "        if \"base_models\" in leader_params:\n",
    "            for base_model in leader_params[\"base_models\"][\"actual_value\"]:\n",
    "                best_pipeline.append(base_model[\"name\"])\n",
    "        h2o.cluster().shutdown()\n",
    "        return best_pipeline\n",
    "\n",
    "class AutoKerasModel(AbstractModel):\n",
    "\n",
    "    def __init__(self):\n",
    "        super().__init__()\n",
    "        import tensorflow as tf\n",
    "        tf.set_random_seed(self.seed)\n",
    "        import torch\n",
    "        torch.multiprocessing.set_sharing_strategy(\"file_system\")\n",
    "        torch.manual_seed(self.seed)\n",
    "\n",
    "    def get_fitted_model(self, x_train, y_train, params):\n",
    "        s = np.sqrt(x_train.shape[1]).astype(int)\n",
    "        x_train = x_train.reshape((len(x_train), s, s, 1))\n",
    "        clf = ak.ImageClassifier(augment=False, path=generate_tmpdir(), verbose=False)\n",
    "        clf.fit(x_train, y_train, time_limit=60*self.time_limit_mins)\n",
    "        return clf\n",
    "\n",
    "    def get_accuracy(self, x, y, clf, params):\n",
    "        s = np.sqrt(x.shape[1]).astype(int)\n",
    "        x = x.reshape((len(x), s, s, 1))\n",
    "        y_pred = clf.predict(x)\n",
    "        return np.round(accuracy_score(y_true=y, y_pred=y_pred), 3)\n",
    "\n",
    "    def get_best_pipeline(self, clf):\n",
    "        return [m for i, m in enumerate(clf.cnn.best_model.produce_model().modules()) if i > 0]"
   ]
  },
  {
   "cell_type": "markdown",
   "metadata": {
    "collapsed": false,
    "papermill": {
     "duration": 0.027666,
     "end_time": "2019-11-16T00:55:03.151408",
     "exception": false,
     "start_time": "2019-11-16T00:55:03.123742",
     "status": "completed"
    },
    "pycharm": {
     "name": "#%% md\n"
    },
    "tags": []
   },
   "source": []
  },
  {
   "cell_type": "code",
   "execution_count": 8,
   "metadata": {
    "collapsed": false,
    "papermill": {
     "duration": 0.040802,
     "end_time": "2019-11-16T00:55:03.217100",
     "exception": false,
     "start_time": "2019-11-16T00:55:03.176298",
     "status": "completed"
    },
    "pycharm": {
     "name": "#%%\n"
    },
    "tags": []
   },
   "outputs": [],
   "source": [
    "def get_model_params_dict_list(train_labels, test_labels):\n",
    "    model_params_base = {\"train_labels\": train_labels, \"test_labels\": test_labels}\n",
    "    return [\n",
    "        {\n",
    "            \"model\": TPOTClassifierModel,\n",
    "            \"params_list\": [{**model_params_base}],\n",
    "            \"use_clean_train_data\": False\n",
    "        },\n",
    "        {\n",
    "            \"model\": TPOTClassifierModel,\n",
    "            \"params_list\": [{**model_params_base}],\n",
    "            \"use_clean_train_data\": True\n",
    "        },\n",
    "        {\n",
    "            \"model\": H2OAutoMLModel,\n",
    "            \"params_list\": [{**model_params_base}],\n",
    "            \"use_clean_train_data\": False\n",
    "        },\n",
    "        {\n",
    "            \"model\": H2OAutoMLModel,\n",
    "            \"params_list\": [{**model_params_base}],\n",
    "            \"use_clean_train_data\": True\n",
    "        },\n",
    "        {\n",
    "            \"model\": AutoKerasModel,\n",
    "            \"params_list\": [{**model_params_base}],\n",
    "            \"use_clean_train_data\": False\n",
    "        },\n",
    "        {\n",
    "            \"model\": AutoKerasModel,\n",
    "            \"params_list\": [{**model_params_base}],\n",
    "            \"use_clean_train_data\": True\n",
    "        },\n",
    "    ]"
   ]
  },
  {
   "cell_type": "markdown",
   "metadata": {
    "collapsed": false,
    "papermill": {
     "duration": 0.015274,
     "end_time": "2019-11-16T00:55:03.251430",
     "exception": false,
     "start_time": "2019-11-16T00:55:03.236156",
     "status": "completed"
    },
    "pycharm": {
     "is_executing": false,
     "name": "#%% md\n"
    },
    "tags": []
   },
   "source": []
  },
  {
   "cell_type": "code",
   "execution_count": 9,
   "metadata": {
    "collapsed": false,
    "papermill": {
     "duration": 0.027414,
     "end_time": "2019-11-16T00:55:03.294456",
     "exception": false,
     "start_time": "2019-11-16T00:55:03.267042",
     "status": "completed"
    },
    "pycharm": {
     "name": "#%%\n"
    },
    "tags": []
   },
   "outputs": [],
   "source": [
    "def visualize(df):\n",
    "    visualize_scores(\n",
    "        df,\n",
    "        score_names=[\"test_acc\", \"train_acc\"],\n",
    "        is_higher_score_better=[True, True],\n",
    "        # err_param_name=\"max_angle\",\n",
    "        err_param_name=\"std\",\n",
    "        title=\"Classification scores with added error\"\n",
    "    )\n",
    "    plt.show()"
   ]
  },
  {
   "cell_type": "markdown",
   "metadata": {
    "collapsed": false,
    "papermill": {
     "duration": 0.015481,
     "end_time": "2019-11-16T00:55:03.325608",
     "exception": false,
     "start_time": "2019-11-16T00:55:03.310127",
     "status": "completed"
    },
    "pycharm": {
     "is_executing": false,
     "name": "#%% md\n"
    },
    "tags": []
   },
   "source": []
  },
  {
   "cell_type": "code",
   "execution_count": 10,
   "metadata": {
    "collapsed": false,
    "papermill": {
     "duration": 290650.932661,
     "end_time": "2019-11-19T09:39:14.274607",
     "exception": false,
     "start_time": "2019-11-16T00:55:03.341946",
     "status": "completed"
    },
    "pycharm": {
     "is_executing": false,
     "name": "#%%\n"
    },
    "tags": []
   },
   "outputs": [
    {
     "name": "stderr",
     "output_type": "stream",
     "text": [
      "\r",
      "  0%|          | 0/6 [00:00<?, ?it/s]"
     ]
    },
    {
     "name": "stdout",
     "output_type": "stream",
     "text": [
      "\n"
     ]
    },
    {
     "name": "stdout",
     "output_type": "stream",
     "text": [
      "133.79 minutes have elapsed. TPOT will close down.\n",
      "TPOT closed during evaluation in one generation.\n",
      "WARNING: TPOT may not provide a good pipeline if TPOT is stopped/interrupted in a early generation."
     ]
    },
    {
     "name": "stdout",
     "output_type": "stream",
     "text": [
      "\n"
     ]
    },
    {
     "name": "stdout",
     "output_type": "stream",
     "text": [
      "\n"
     ]
    },
    {
     "name": "stdout",
     "output_type": "stream",
     "text": [
      "\n",
      "TPOT closed prematurely. Will use the current best pipeline."
     ]
    },
    {
     "name": "stdout",
     "output_type": "stream",
     "text": [
      "\n"
     ]
    },
    {
     "name": "stdout",
     "output_type": "stream",
     "text": [
      "Best pipeline:"
     ]
    },
    {
     "name": "stdout",
     "output_type": "stream",
     "text": [
      " "
     ]
    },
    {
     "name": "stdout",
     "output_type": "stream",
     "text": [
      "ExtraTreesClassifier(ZeroCount(input_matrix), bootstrap=True, criterion=gini, max_features=0.8, min_samples_leaf=1, min_samples_split=11, n_estimators=100)"
     ]
    },
    {
     "name": "stdout",
     "output_type": "stream",
     "text": [
      "\n"
     ]
    },
    {
     "name": "stdout",
     "output_type": "stream",
     "text": [
      "<class 'tpot.tpot.TPOTClassifier'>"
     ]
    },
    {
     "name": "stdout",
     "output_type": "stream",
     "text": [
      "\n"
     ]
    },
    {
     "name": "stdout",
     "output_type": "stream",
     "text": [
      "0.879"
     ]
    },
    {
     "name": "stdout",
     "output_type": "stream",
     "text": [
      "\n"
     ]
    },
    {
     "name": "stdout",
     "output_type": "stream",
     "text": [
      "\n"
     ]
    },
    {
     "name": "stdout",
     "output_type": "stream",
     "text": [
      "133.46 minutes have elapsed. TPOT will close down.\n",
      "TPOT closed during evaluation in one generation.\n",
      "WARNING: TPOT may not provide a good pipeline if TPOT is stopped/interrupted in a early generation."
     ]
    },
    {
     "name": "stdout",
     "output_type": "stream",
     "text": [
      "\n"
     ]
    },
    {
     "name": "stdout",
     "output_type": "stream",
     "text": [
      "\n"
     ]
    },
    {
     "name": "stdout",
     "output_type": "stream",
     "text": [
      "\n",
      "TPOT closed prematurely. Will use the current best pipeline."
     ]
    },
    {
     "name": "stdout",
     "output_type": "stream",
     "text": [
      "\n"
     ]
    },
    {
     "name": "stdout",
     "output_type": "stream",
     "text": [
      "Best pipeline:"
     ]
    },
    {
     "name": "stdout",
     "output_type": "stream",
     "text": [
      " "
     ]
    },
    {
     "name": "stdout",
     "output_type": "stream",
     "text": [
      "ExtraTreesClassifier(ZeroCount(input_matrix), bootstrap=True, criterion=gini, max_features=0.8, min_samples_leaf=1, min_samples_split=11, n_estimators=100)"
     ]
    },
    {
     "name": "stdout",
     "output_type": "stream",
     "text": [
      "\n"
     ]
    },
    {
     "name": "stdout",
     "output_type": "stream",
     "text": [
      "<class 'tpot.tpot.TPOTClassifier'>"
     ]
    },
    {
     "name": "stdout",
     "output_type": "stream",
     "text": [
      "\n"
     ]
    },
    {
     "name": "stdout",
     "output_type": "stream",
     "text": [
      "0.879"
     ]
    },
    {
     "name": "stdout",
     "output_type": "stream",
     "text": [
      "\n"
     ]
    },
    {
     "name": "stdout",
     "output_type": "stream",
     "text": [
      "Checking whether there is an H2O instance running at http://localhost:54321 "
     ]
    },
    {
     "name": "stdout",
     "output_type": "stream",
     "text": [
      "."
     ]
    },
    {
     "name": "stdout",
     "output_type": "stream",
     "text": [
      "."
     ]
    },
    {
     "name": "stdout",
     "output_type": "stream",
     "text": [
      "."
     ]
    },
    {
     "name": "stdout",
     "output_type": "stream",
     "text": [
      "."
     ]
    },
    {
     "name": "stdout",
     "output_type": "stream",
     "text": [
      "."
     ]
    },
    {
     "name": "stdout",
     "output_type": "stream",
     "text": [
      " not found."
     ]
    },
    {
     "name": "stdout",
     "output_type": "stream",
     "text": [
      "\n"
     ]
    },
    {
     "name": "stdout",
     "output_type": "stream",
     "text": [
      "Attempting to start a local H2O server..."
     ]
    },
    {
     "name": "stdout",
     "output_type": "stream",
     "text": [
      "\n"
     ]
    },
    {
     "name": "stdout",
     "output_type": "stream",
     "text": [
      "  Java Version: openjdk version \"11.0.2\" 2019-01-15; OpenJDK Runtime Environment 18.9 (build 11.0.2+9); OpenJDK 64-Bit Server VM 18.9 (build 11.0.2+9, mixed mode)"
     ]
    },
    {
     "name": "stdout",
     "output_type": "stream",
     "text": [
      "\n"
     ]
    },
    {
     "name": "stdout",
     "output_type": "stream",
     "text": [
      "  Starting server from /wrk/users/thalvari/dpEmu-AutoML/venv/lib/python3.6/site-packages/h2o/backend/bin/h2o.jar"
     ]
    },
    {
     "name": "stdout",
     "output_type": "stream",
     "text": [
      "\n"
     ]
    },
    {
     "name": "stdout",
     "output_type": "stream",
     "text": [
      "  Ice root: /wrk/users/thalvari/tmpfo0ist82"
     ]
    },
    {
     "name": "stdout",
     "output_type": "stream",
     "text": [
      "\n"
     ]
    },
    {
     "name": "stdout",
     "output_type": "stream",
     "text": [
      "  JVM stdout: /wrk/users/thalvari/tmpfo0ist82/h2o_thalvari_started_from_python.out"
     ]
    },
    {
     "name": "stdout",
     "output_type": "stream",
     "text": [
      "\n"
     ]
    },
    {
     "name": "stdout",
     "output_type": "stream",
     "text": [
      "  JVM stderr: /wrk/users/thalvari/tmpfo0ist82/h2o_thalvari_started_from_python.err"
     ]
    },
    {
     "name": "stdout",
     "output_type": "stream",
     "text": [
      "\n"
     ]
    },
    {
     "name": "stdout",
     "output_type": "stream",
     "text": [
      "  Server is running at http://127.0.0.1:54321"
     ]
    },
    {
     "name": "stdout",
     "output_type": "stream",
     "text": [
      "\n"
     ]
    },
    {
     "name": "stdout",
     "output_type": "stream",
     "text": [
      "Connecting to H2O server at http://127.0.0.1:54321 .."
     ]
    },
    {
     "name": "stdout",
     "output_type": "stream",
     "text": [
      "."
     ]
    },
    {
     "name": "stdout",
     "output_type": "stream",
     "text": [
      " successful."
     ]
    },
    {
     "name": "stdout",
     "output_type": "stream",
     "text": [
      "\n"
     ]
    },
    {
     "data": {
      "text/html": [
       "<div style=\"overflow:auto\"><table style=\"width:50%\"><tr><td>H2O cluster uptime:</td>\n",
       "<td>01 secs</td></tr>\n",
       "<tr><td>H2O cluster timezone:</td>\n",
       "<td>Europe/Helsinki</td></tr>\n",
       "<tr><td>H2O data parsing timezone:</td>\n",
       "<td>UTC</td></tr>\n",
       "<tr><td>H2O cluster version:</td>\n",
       "<td>3.26.0.10</td></tr>\n",
       "<tr><td>H2O cluster version age:</td>\n",
       "<td>8 days </td></tr>\n",
       "<tr><td>H2O cluster name:</td>\n",
       "<td>#516009393</td></tr>\n",
       "<tr><td>H2O cluster total nodes:</td>\n",
       "<td>1</td></tr>\n",
       "<tr><td>H2O cluster free memory:</td>\n",
       "<td>29.97 Gb</td></tr>\n",
       "<tr><td>H2O cluster total cores:</td>\n",
       "<td>96</td></tr>\n",
       "<tr><td>H2O cluster allowed cores:</td>\n",
       "<td>48</td></tr>\n",
       "<tr><td>H2O cluster status:</td>\n",
       "<td>accepting new members, healthy</td></tr>\n",
       "<tr><td>H2O connection url:</td>\n",
       "<td>http://127.0.0.1:54321</td></tr>\n",
       "<tr><td>H2O connection proxy:</td>\n",
       "<td>{'http': None, 'https': None}</td></tr>\n",
       "<tr><td>H2O internal security:</td>\n",
       "<td>False</td></tr>\n",
       "<tr><td>H2O API Extensions:</td>\n",
       "<td>Amazon S3, XGBoost, Algos, AutoML, Core V3, TargetEncoder, Core V4</td></tr>\n",
       "<tr><td>Python version:</td>\n",
       "<td>3.6.6 final</td></tr></table></div>"
      ],
      "text/plain": [
       "--------------------------  ------------------------------------------------------------------\n",
       "H2O cluster uptime:         01 secs\n",
       "H2O cluster timezone:       Europe/Helsinki\n",
       "H2O data parsing timezone:  UTC\n",
       "H2O cluster version:        3.26.0.10\n",
       "H2O cluster version age:    8 days\n",
       "H2O cluster name:           #516009393\n",
       "H2O cluster total nodes:    1\n",
       "H2O cluster free memory:    29.97 Gb\n",
       "H2O cluster total cores:    96\n",
       "H2O cluster allowed cores:  48\n",
       "H2O cluster status:         accepting new members, healthy\n",
       "H2O connection url:         http://127.0.0.1:54321\n",
       "H2O connection proxy:       {'http': None, 'https': None}\n",
       "H2O internal security:      False\n",
       "H2O API Extensions:         Amazon S3, XGBoost, Algos, AutoML, Core V3, TargetEncoder, Core V4\n",
       "Python version:             3.6.6 final\n",
       "--------------------------  ------------------------------------------------------------------"
      ]
     },
     "metadata": {},
     "output_type": "display_data"
    },
    {
     "name": "stdout",
     "output_type": "stream",
     "text": [
      "H2O session _sid_adc1 closed."
     ]
    },
    {
     "name": "stdout",
     "output_type": "stream",
     "text": [
      "\n"
     ]
    },
    {
     "name": "stdout",
     "output_type": "stream",
     "text": [
      "<class 'h2o.automl.autoh2o.H2OAutoML'>"
     ]
    },
    {
     "name": "stdout",
     "output_type": "stream",
     "text": [
      "\n"
     ]
    },
    {
     "name": "stdout",
     "output_type": "stream",
     "text": [
      "0.901"
     ]
    },
    {
     "name": "stdout",
     "output_type": "stream",
     "text": [
      "\n"
     ]
    },
    {
     "name": "stdout",
     "output_type": "stream",
     "text": [
      "Checking whether there is an H2O instance running at http://localhost:54321 "
     ]
    },
    {
     "name": "stdout",
     "output_type": "stream",
     "text": [
      "."
     ]
    },
    {
     "name": "stdout",
     "output_type": "stream",
     "text": [
      "."
     ]
    },
    {
     "name": "stdout",
     "output_type": "stream",
     "text": [
      "."
     ]
    },
    {
     "name": "stdout",
     "output_type": "stream",
     "text": [
      "."
     ]
    },
    {
     "name": "stdout",
     "output_type": "stream",
     "text": [
      "."
     ]
    },
    {
     "name": "stdout",
     "output_type": "stream",
     "text": [
      " not found."
     ]
    },
    {
     "name": "stdout",
     "output_type": "stream",
     "text": [
      "\n"
     ]
    },
    {
     "name": "stdout",
     "output_type": "stream",
     "text": [
      "Attempting to start a local H2O server..."
     ]
    },
    {
     "name": "stdout",
     "output_type": "stream",
     "text": [
      "\n"
     ]
    },
    {
     "name": "stdout",
     "output_type": "stream",
     "text": [
      "  Java Version: openjdk version \"11.0.2\" 2019-01-15; OpenJDK Runtime Environment 18.9 (build 11.0.2+9); OpenJDK 64-Bit Server VM 18.9 (build 11.0.2+9, mixed mode)"
     ]
    },
    {
     "name": "stdout",
     "output_type": "stream",
     "text": [
      "\n"
     ]
    },
    {
     "name": "stdout",
     "output_type": "stream",
     "text": [
      "  Starting server from /wrk/users/thalvari/dpEmu-AutoML/venv/lib/python3.6/site-packages/h2o/backend/bin/h2o.jar"
     ]
    },
    {
     "name": "stdout",
     "output_type": "stream",
     "text": [
      "\n"
     ]
    },
    {
     "name": "stdout",
     "output_type": "stream",
     "text": [
      "  Ice root: /wrk/users/thalvari/tmplsdw7inr"
     ]
    },
    {
     "name": "stdout",
     "output_type": "stream",
     "text": [
      "\n"
     ]
    },
    {
     "name": "stdout",
     "output_type": "stream",
     "text": [
      "  JVM stdout: /wrk/users/thalvari/tmplsdw7inr/h2o_thalvari_started_from_python.out"
     ]
    },
    {
     "name": "stdout",
     "output_type": "stream",
     "text": [
      "\n"
     ]
    },
    {
     "name": "stdout",
     "output_type": "stream",
     "text": [
      "  JVM stderr: /wrk/users/thalvari/tmplsdw7inr/h2o_thalvari_started_from_python.err"
     ]
    },
    {
     "name": "stdout",
     "output_type": "stream",
     "text": [
      "\n"
     ]
    },
    {
     "name": "stdout",
     "output_type": "stream",
     "text": [
      "  Server is running at http://127.0.0.1:54321"
     ]
    },
    {
     "name": "stdout",
     "output_type": "stream",
     "text": [
      "\n"
     ]
    },
    {
     "name": "stdout",
     "output_type": "stream",
     "text": [
      "Connecting to H2O server at http://127.0.0.1:54321 .."
     ]
    },
    {
     "name": "stdout",
     "output_type": "stream",
     "text": [
      "."
     ]
    },
    {
     "name": "stdout",
     "output_type": "stream",
     "text": [
      " successful."
     ]
    },
    {
     "name": "stdout",
     "output_type": "stream",
     "text": [
      "\n"
     ]
    },
    {
     "data": {
      "text/html": [
       "<div style=\"overflow:auto\"><table style=\"width:50%\"><tr><td>H2O cluster uptime:</td>\n",
       "<td>01 secs</td></tr>\n",
       "<tr><td>H2O cluster timezone:</td>\n",
       "<td>Europe/Helsinki</td></tr>\n",
       "<tr><td>H2O data parsing timezone:</td>\n",
       "<td>UTC</td></tr>\n",
       "<tr><td>H2O cluster version:</td>\n",
       "<td>3.26.0.10</td></tr>\n",
       "<tr><td>H2O cluster version age:</td>\n",
       "<td>8 days </td></tr>\n",
       "<tr><td>H2O cluster name:</td>\n",
       "<td>#304882401</td></tr>\n",
       "<tr><td>H2O cluster total nodes:</td>\n",
       "<td>1</td></tr>\n",
       "<tr><td>H2O cluster free memory:</td>\n",
       "<td>29.97 Gb</td></tr>\n",
       "<tr><td>H2O cluster total cores:</td>\n",
       "<td>96</td></tr>\n",
       "<tr><td>H2O cluster allowed cores:</td>\n",
       "<td>48</td></tr>\n",
       "<tr><td>H2O cluster status:</td>\n",
       "<td>accepting new members, healthy</td></tr>\n",
       "<tr><td>H2O connection url:</td>\n",
       "<td>http://127.0.0.1:54321</td></tr>\n",
       "<tr><td>H2O connection proxy:</td>\n",
       "<td>{'http': None, 'https': None}</td></tr>\n",
       "<tr><td>H2O internal security:</td>\n",
       "<td>False</td></tr>\n",
       "<tr><td>H2O API Extensions:</td>\n",
       "<td>Amazon S3, XGBoost, Algos, AutoML, Core V3, TargetEncoder, Core V4</td></tr>\n",
       "<tr><td>Python version:</td>\n",
       "<td>3.6.6 final</td></tr></table></div>"
      ],
      "text/plain": [
       "--------------------------  ------------------------------------------------------------------\n",
       "H2O cluster uptime:         01 secs\n",
       "H2O cluster timezone:       Europe/Helsinki\n",
       "H2O data parsing timezone:  UTC\n",
       "H2O cluster version:        3.26.0.10\n",
       "H2O cluster version age:    8 days\n",
       "H2O cluster name:           #304882401\n",
       "H2O cluster total nodes:    1\n",
       "H2O cluster free memory:    29.97 Gb\n",
       "H2O cluster total cores:    96\n",
       "H2O cluster allowed cores:  48\n",
       "H2O cluster status:         accepting new members, healthy\n",
       "H2O connection url:         http://127.0.0.1:54321\n",
       "H2O connection proxy:       {'http': None, 'https': None}\n",
       "H2O internal security:      False\n",
       "H2O API Extensions:         Amazon S3, XGBoost, Algos, AutoML, Core V3, TargetEncoder, Core V4\n",
       "Python version:             3.6.6 final\n",
       "--------------------------  ------------------------------------------------------------------"
      ]
     },
     "metadata": {},
     "output_type": "display_data"
    },
    {
     "name": "stdout",
     "output_type": "stream",
     "text": [
      "H2O session _sid_8238 closed."
     ]
    },
    {
     "name": "stdout",
     "output_type": "stream",
     "text": [
      "\n"
     ]
    },
    {
     "name": "stdout",
     "output_type": "stream",
     "text": [
      "<class 'h2o.automl.autoh2o.H2OAutoML'>"
     ]
    },
    {
     "name": "stdout",
     "output_type": "stream",
     "text": [
      "\n"
     ]
    },
    {
     "name": "stdout",
     "output_type": "stream",
     "text": [
      "0.901"
     ]
    },
    {
     "name": "stdout",
     "output_type": "stream",
     "text": [
      "\n"
     ]
    },
    {
     "name": "stderr",
     "output_type": "stream",
     "text": [
      "WARNING:root:TimeoutError occurred at train() : "
     ]
    },
    {
     "name": "stderr",
     "output_type": "stream",
     "text": [
      "\n"
     ]
    },
    {
     "name": "stdout",
     "output_type": "stream",
     "text": [
      "<class 'autokeras.image.image_supervised.ImageClassifier'>"
     ]
    },
    {
     "name": "stdout",
     "output_type": "stream",
     "text": [
      "\n"
     ]
    },
    {
     "name": "stdout",
     "output_type": "stream",
     "text": [
      "0.887"
     ]
    },
    {
     "name": "stdout",
     "output_type": "stream",
     "text": [
      "\n"
     ]
    },
    {
     "name": "stderr",
     "output_type": "stream",
     "text": [
      "WARNING:root:TimeoutError occurred at train() : "
     ]
    },
    {
     "name": "stderr",
     "output_type": "stream",
     "text": [
      "\n"
     ]
    },
    {
     "name": "stdout",
     "output_type": "stream",
     "text": [
      "<class 'autokeras.image.image_supervised.ImageClassifier'>"
     ]
    },
    {
     "name": "stdout",
     "output_type": "stream",
     "text": [
      "\n"
     ]
    },
    {
     "name": "stdout",
     "output_type": "stream",
     "text": [
      "0.887"
     ]
    },
    {
     "name": "stdout",
     "output_type": "stream",
     "text": [
      "\n"
     ]
    },
    {
     "name": "stderr",
     "output_type": "stream",
     "text": [
      "\r",
      " 17%|█▋        | 1/6 [12:58:28<64:52:22, 46708.56s/it]"
     ]
    },
    {
     "name": "stdout",
     "output_type": "stream",
     "text": [
      "\n"
     ]
    },
    {
     "name": "stdout",
     "output_type": "stream",
     "text": [
      "151.09 minutes have elapsed. TPOT will close down.\n",
      "TPOT closed during evaluation in one generation.\n",
      "WARNING: TPOT may not provide a good pipeline if TPOT is stopped/interrupted in a early generation."
     ]
    },
    {
     "name": "stdout",
     "output_type": "stream",
     "text": [
      "\n"
     ]
    },
    {
     "name": "stdout",
     "output_type": "stream",
     "text": [
      "\n"
     ]
    },
    {
     "name": "stdout",
     "output_type": "stream",
     "text": [
      "\n",
      "TPOT closed prematurely. Will use the current best pipeline."
     ]
    },
    {
     "name": "stdout",
     "output_type": "stream",
     "text": [
      "\n"
     ]
    },
    {
     "name": "stdout",
     "output_type": "stream",
     "text": [
      "Best pipeline:"
     ]
    },
    {
     "name": "stdout",
     "output_type": "stream",
     "text": [
      " "
     ]
    },
    {
     "name": "stdout",
     "output_type": "stream",
     "text": [
      "KNeighborsClassifier(input_matrix, n_neighbors=31, p=1, weights=distance)"
     ]
    },
    {
     "name": "stdout",
     "output_type": "stream",
     "text": [
      "\n"
     ]
    },
    {
     "name": "stdout",
     "output_type": "stream",
     "text": [
      "<class 'tpot.tpot.TPOTClassifier'>"
     ]
    },
    {
     "name": "stdout",
     "output_type": "stream",
     "text": [
      "\n"
     ]
    },
    {
     "name": "stdout",
     "output_type": "stream",
     "text": [
      "0.831"
     ]
    },
    {
     "name": "stdout",
     "output_type": "stream",
     "text": [
      "\n"
     ]
    },
    {
     "name": "stdout",
     "output_type": "stream",
     "text": [
      "\n"
     ]
    },
    {
     "name": "stdout",
     "output_type": "stream",
     "text": [
      "135.14 minutes have elapsed. TPOT will close down.\n",
      "TPOT closed during evaluation in one generation.\n",
      "WARNING: TPOT may not provide a good pipeline if TPOT is stopped/interrupted in a early generation."
     ]
    },
    {
     "name": "stdout",
     "output_type": "stream",
     "text": [
      "\n"
     ]
    },
    {
     "name": "stdout",
     "output_type": "stream",
     "text": [
      "\n"
     ]
    },
    {
     "name": "stdout",
     "output_type": "stream",
     "text": [
      "\n",
      "TPOT closed prematurely. Will use the current best pipeline."
     ]
    },
    {
     "name": "stdout",
     "output_type": "stream",
     "text": [
      "\n"
     ]
    },
    {
     "name": "stdout",
     "output_type": "stream",
     "text": [
      "Best pipeline:"
     ]
    },
    {
     "name": "stdout",
     "output_type": "stream",
     "text": [
      " "
     ]
    },
    {
     "name": "stdout",
     "output_type": "stream",
     "text": [
      "ExtraTreesClassifier(ZeroCount(input_matrix), bootstrap=True, criterion=gini, max_features=0.8, min_samples_leaf=1, min_samples_split=11, n_estimators=100)"
     ]
    },
    {
     "name": "stdout",
     "output_type": "stream",
     "text": [
      "\n"
     ]
    },
    {
     "name": "stdout",
     "output_type": "stream",
     "text": [
      "<class 'tpot.tpot.TPOTClassifier'>"
     ]
    },
    {
     "name": "stdout",
     "output_type": "stream",
     "text": [
      "\n"
     ]
    },
    {
     "name": "stdout",
     "output_type": "stream",
     "text": [
      "0.595"
     ]
    },
    {
     "name": "stdout",
     "output_type": "stream",
     "text": [
      "\n"
     ]
    },
    {
     "name": "stdout",
     "output_type": "stream",
     "text": [
      "Checking whether there is an H2O instance running at http://localhost:54321 "
     ]
    },
    {
     "name": "stdout",
     "output_type": "stream",
     "text": [
      "."
     ]
    },
    {
     "name": "stdout",
     "output_type": "stream",
     "text": [
      "."
     ]
    },
    {
     "name": "stdout",
     "output_type": "stream",
     "text": [
      "."
     ]
    },
    {
     "name": "stdout",
     "output_type": "stream",
     "text": [
      "."
     ]
    },
    {
     "name": "stdout",
     "output_type": "stream",
     "text": [
      "."
     ]
    },
    {
     "name": "stdout",
     "output_type": "stream",
     "text": [
      " not found."
     ]
    },
    {
     "name": "stdout",
     "output_type": "stream",
     "text": [
      "\n"
     ]
    },
    {
     "name": "stdout",
     "output_type": "stream",
     "text": [
      "Attempting to start a local H2O server..."
     ]
    },
    {
     "name": "stdout",
     "output_type": "stream",
     "text": [
      "\n"
     ]
    },
    {
     "name": "stdout",
     "output_type": "stream",
     "text": [
      "  Java Version: openjdk version \"11.0.2\" 2019-01-15; OpenJDK Runtime Environment 18.9 (build 11.0.2+9); OpenJDK 64-Bit Server VM 18.9 (build 11.0.2+9, mixed mode)"
     ]
    },
    {
     "name": "stdout",
     "output_type": "stream",
     "text": [
      "\n"
     ]
    },
    {
     "name": "stdout",
     "output_type": "stream",
     "text": [
      "  Starting server from /wrk/users/thalvari/dpEmu-AutoML/venv/lib/python3.6/site-packages/h2o/backend/bin/h2o.jar"
     ]
    },
    {
     "name": "stdout",
     "output_type": "stream",
     "text": [
      "\n"
     ]
    },
    {
     "name": "stdout",
     "output_type": "stream",
     "text": [
      "  Ice root: /wrk/users/thalvari/tmpkb659pil"
     ]
    },
    {
     "name": "stdout",
     "output_type": "stream",
     "text": [
      "\n"
     ]
    },
    {
     "name": "stdout",
     "output_type": "stream",
     "text": [
      "  JVM stdout: /wrk/users/thalvari/tmpkb659pil/h2o_thalvari_started_from_python.out"
     ]
    },
    {
     "name": "stdout",
     "output_type": "stream",
     "text": [
      "\n"
     ]
    },
    {
     "name": "stdout",
     "output_type": "stream",
     "text": [
      "  JVM stderr: /wrk/users/thalvari/tmpkb659pil/h2o_thalvari_started_from_python.err"
     ]
    },
    {
     "name": "stdout",
     "output_type": "stream",
     "text": [
      "\n"
     ]
    },
    {
     "name": "stdout",
     "output_type": "stream",
     "text": [
      "  Server is running at http://127.0.0.1:54321"
     ]
    },
    {
     "name": "stdout",
     "output_type": "stream",
     "text": [
      "\n"
     ]
    },
    {
     "name": "stdout",
     "output_type": "stream",
     "text": [
      "Connecting to H2O server at http://127.0.0.1:54321 .."
     ]
    },
    {
     "name": "stdout",
     "output_type": "stream",
     "text": [
      "."
     ]
    },
    {
     "name": "stdout",
     "output_type": "stream",
     "text": [
      " successful."
     ]
    },
    {
     "name": "stdout",
     "output_type": "stream",
     "text": [
      "\n"
     ]
    },
    {
     "data": {
      "text/html": [
       "<div style=\"overflow:auto\"><table style=\"width:50%\"><tr><td>H2O cluster uptime:</td>\n",
       "<td>02 secs</td></tr>\n",
       "<tr><td>H2O cluster timezone:</td>\n",
       "<td>Europe/Helsinki</td></tr>\n",
       "<tr><td>H2O data parsing timezone:</td>\n",
       "<td>UTC</td></tr>\n",
       "<tr><td>H2O cluster version:</td>\n",
       "<td>3.26.0.10</td></tr>\n",
       "<tr><td>H2O cluster version age:</td>\n",
       "<td>9 days </td></tr>\n",
       "<tr><td>H2O cluster name:</td>\n",
       "<td>#669681901</td></tr>\n",
       "<tr><td>H2O cluster total nodes:</td>\n",
       "<td>1</td></tr>\n",
       "<tr><td>H2O cluster free memory:</td>\n",
       "<td>29.97 Gb</td></tr>\n",
       "<tr><td>H2O cluster total cores:</td>\n",
       "<td>96</td></tr>\n",
       "<tr><td>H2O cluster allowed cores:</td>\n",
       "<td>48</td></tr>\n",
       "<tr><td>H2O cluster status:</td>\n",
       "<td>accepting new members, healthy</td></tr>\n",
       "<tr><td>H2O connection url:</td>\n",
       "<td>http://127.0.0.1:54321</td></tr>\n",
       "<tr><td>H2O connection proxy:</td>\n",
       "<td>{'http': None, 'https': None}</td></tr>\n",
       "<tr><td>H2O internal security:</td>\n",
       "<td>False</td></tr>\n",
       "<tr><td>H2O API Extensions:</td>\n",
       "<td>Amazon S3, XGBoost, Algos, AutoML, Core V3, TargetEncoder, Core V4</td></tr>\n",
       "<tr><td>Python version:</td>\n",
       "<td>3.6.6 final</td></tr></table></div>"
      ],
      "text/plain": [
       "--------------------------  ------------------------------------------------------------------\n",
       "H2O cluster uptime:         02 secs\n",
       "H2O cluster timezone:       Europe/Helsinki\n",
       "H2O data parsing timezone:  UTC\n",
       "H2O cluster version:        3.26.0.10\n",
       "H2O cluster version age:    9 days\n",
       "H2O cluster name:           #669681901\n",
       "H2O cluster total nodes:    1\n",
       "H2O cluster free memory:    29.97 Gb\n",
       "H2O cluster total cores:    96\n",
       "H2O cluster allowed cores:  48\n",
       "H2O cluster status:         accepting new members, healthy\n",
       "H2O connection url:         http://127.0.0.1:54321\n",
       "H2O connection proxy:       {'http': None, 'https': None}\n",
       "H2O internal security:      False\n",
       "H2O API Extensions:         Amazon S3, XGBoost, Algos, AutoML, Core V3, TargetEncoder, Core V4\n",
       "Python version:             3.6.6 final\n",
       "--------------------------  ------------------------------------------------------------------"
      ]
     },
     "metadata": {},
     "output_type": "display_data"
    },
    {
     "name": "stdout",
     "output_type": "stream",
     "text": [
      "H2O session _sid_b175 closed."
     ]
    },
    {
     "name": "stdout",
     "output_type": "stream",
     "text": [
      "\n"
     ]
    },
    {
     "name": "stdout",
     "output_type": "stream",
     "text": [
      "<class 'h2o.automl.autoh2o.H2OAutoML'>"
     ]
    },
    {
     "name": "stdout",
     "output_type": "stream",
     "text": [
      "\n"
     ]
    },
    {
     "name": "stdout",
     "output_type": "stream",
     "text": [
      "0.852"
     ]
    },
    {
     "name": "stdout",
     "output_type": "stream",
     "text": [
      "\n"
     ]
    },
    {
     "name": "stdout",
     "output_type": "stream",
     "text": [
      "Checking whether there is an H2O instance running at http://localhost:54321 "
     ]
    },
    {
     "name": "stdout",
     "output_type": "stream",
     "text": [
      "."
     ]
    },
    {
     "name": "stdout",
     "output_type": "stream",
     "text": [
      "."
     ]
    },
    {
     "name": "stdout",
     "output_type": "stream",
     "text": [
      "."
     ]
    },
    {
     "name": "stdout",
     "output_type": "stream",
     "text": [
      "."
     ]
    },
    {
     "name": "stdout",
     "output_type": "stream",
     "text": [
      "."
     ]
    },
    {
     "name": "stdout",
     "output_type": "stream",
     "text": [
      " not found."
     ]
    },
    {
     "name": "stdout",
     "output_type": "stream",
     "text": [
      "\n"
     ]
    },
    {
     "name": "stdout",
     "output_type": "stream",
     "text": [
      "Attempting to start a local H2O server..."
     ]
    },
    {
     "name": "stdout",
     "output_type": "stream",
     "text": [
      "\n"
     ]
    },
    {
     "name": "stdout",
     "output_type": "stream",
     "text": [
      "  Java Version: openjdk version \"11.0.2\" 2019-01-15; OpenJDK Runtime Environment 18.9 (build 11.0.2+9); OpenJDK 64-Bit Server VM 18.9 (build 11.0.2+9, mixed mode)"
     ]
    },
    {
     "name": "stdout",
     "output_type": "stream",
     "text": [
      "\n"
     ]
    },
    {
     "name": "stdout",
     "output_type": "stream",
     "text": [
      "  Starting server from /wrk/users/thalvari/dpEmu-AutoML/venv/lib/python3.6/site-packages/h2o/backend/bin/h2o.jar"
     ]
    },
    {
     "name": "stdout",
     "output_type": "stream",
     "text": [
      "\n"
     ]
    },
    {
     "name": "stdout",
     "output_type": "stream",
     "text": [
      "  Ice root: /wrk/users/thalvari/tmp5hm2upvf"
     ]
    },
    {
     "name": "stdout",
     "output_type": "stream",
     "text": [
      "\n"
     ]
    },
    {
     "name": "stdout",
     "output_type": "stream",
     "text": [
      "  JVM stdout: /wrk/users/thalvari/tmp5hm2upvf/h2o_thalvari_started_from_python.out"
     ]
    },
    {
     "name": "stdout",
     "output_type": "stream",
     "text": [
      "\n"
     ]
    },
    {
     "name": "stdout",
     "output_type": "stream",
     "text": [
      "  JVM stderr: /wrk/users/thalvari/tmp5hm2upvf/h2o_thalvari_started_from_python.err"
     ]
    },
    {
     "name": "stdout",
     "output_type": "stream",
     "text": [
      "\n"
     ]
    },
    {
     "name": "stdout",
     "output_type": "stream",
     "text": [
      "  Server is running at http://127.0.0.1:54321"
     ]
    },
    {
     "name": "stdout",
     "output_type": "stream",
     "text": [
      "\n"
     ]
    },
    {
     "name": "stdout",
     "output_type": "stream",
     "text": [
      "Connecting to H2O server at http://127.0.0.1:54321 .."
     ]
    },
    {
     "name": "stdout",
     "output_type": "stream",
     "text": [
      "."
     ]
    },
    {
     "name": "stdout",
     "output_type": "stream",
     "text": [
      " successful."
     ]
    },
    {
     "name": "stdout",
     "output_type": "stream",
     "text": [
      "\n"
     ]
    },
    {
     "data": {
      "text/html": [
       "<div style=\"overflow:auto\"><table style=\"width:50%\"><tr><td>H2O cluster uptime:</td>\n",
       "<td>02 secs</td></tr>\n",
       "<tr><td>H2O cluster timezone:</td>\n",
       "<td>Europe/Helsinki</td></tr>\n",
       "<tr><td>H2O data parsing timezone:</td>\n",
       "<td>UTC</td></tr>\n",
       "<tr><td>H2O cluster version:</td>\n",
       "<td>3.26.0.10</td></tr>\n",
       "<tr><td>H2O cluster version age:</td>\n",
       "<td>9 days </td></tr>\n",
       "<tr><td>H2O cluster name:</td>\n",
       "<td>#734951368</td></tr>\n",
       "<tr><td>H2O cluster total nodes:</td>\n",
       "<td>1</td></tr>\n",
       "<tr><td>H2O cluster free memory:</td>\n",
       "<td>29.97 Gb</td></tr>\n",
       "<tr><td>H2O cluster total cores:</td>\n",
       "<td>96</td></tr>\n",
       "<tr><td>H2O cluster allowed cores:</td>\n",
       "<td>48</td></tr>\n",
       "<tr><td>H2O cluster status:</td>\n",
       "<td>accepting new members, healthy</td></tr>\n",
       "<tr><td>H2O connection url:</td>\n",
       "<td>http://127.0.0.1:54321</td></tr>\n",
       "<tr><td>H2O connection proxy:</td>\n",
       "<td>{'http': None, 'https': None}</td></tr>\n",
       "<tr><td>H2O internal security:</td>\n",
       "<td>False</td></tr>\n",
       "<tr><td>H2O API Extensions:</td>\n",
       "<td>Amazon S3, XGBoost, Algos, AutoML, Core V3, TargetEncoder, Core V4</td></tr>\n",
       "<tr><td>Python version:</td>\n",
       "<td>3.6.6 final</td></tr></table></div>"
      ],
      "text/plain": [
       "--------------------------  ------------------------------------------------------------------\n",
       "H2O cluster uptime:         02 secs\n",
       "H2O cluster timezone:       Europe/Helsinki\n",
       "H2O data parsing timezone:  UTC\n",
       "H2O cluster version:        3.26.0.10\n",
       "H2O cluster version age:    9 days\n",
       "H2O cluster name:           #734951368\n",
       "H2O cluster total nodes:    1\n",
       "H2O cluster free memory:    29.97 Gb\n",
       "H2O cluster total cores:    96\n",
       "H2O cluster allowed cores:  48\n",
       "H2O cluster status:         accepting new members, healthy\n",
       "H2O connection url:         http://127.0.0.1:54321\n",
       "H2O connection proxy:       {'http': None, 'https': None}\n",
       "H2O internal security:      False\n",
       "H2O API Extensions:         Amazon S3, XGBoost, Algos, AutoML, Core V3, TargetEncoder, Core V4\n",
       "Python version:             3.6.6 final\n",
       "--------------------------  ------------------------------------------------------------------"
      ]
     },
     "metadata": {},
     "output_type": "display_data"
    },
    {
     "name": "stdout",
     "output_type": "stream",
     "text": [
      "H2O session _sid_95a3 closed."
     ]
    },
    {
     "name": "stdout",
     "output_type": "stream",
     "text": [
      "\n"
     ]
    },
    {
     "name": "stdout",
     "output_type": "stream",
     "text": [
      "<class 'h2o.automl.autoh2o.H2OAutoML'>"
     ]
    },
    {
     "name": "stdout",
     "output_type": "stream",
     "text": [
      "\n"
     ]
    },
    {
     "name": "stdout",
     "output_type": "stream",
     "text": [
      "0.656"
     ]
    },
    {
     "name": "stdout",
     "output_type": "stream",
     "text": [
      "\n"
     ]
    },
    {
     "name": "stderr",
     "output_type": "stream",
     "text": [
      "WARNING:root:TimeoutError occurred at train() : "
     ]
    },
    {
     "name": "stderr",
     "output_type": "stream",
     "text": [
      "\n"
     ]
    },
    {
     "name": "stdout",
     "output_type": "stream",
     "text": [
      "<class 'autokeras.image.image_supervised.ImageClassifier'>"
     ]
    },
    {
     "name": "stdout",
     "output_type": "stream",
     "text": [
      "\n"
     ]
    },
    {
     "name": "stdout",
     "output_type": "stream",
     "text": [
      "0.824"
     ]
    },
    {
     "name": "stdout",
     "output_type": "stream",
     "text": [
      "\n"
     ]
    },
    {
     "name": "stderr",
     "output_type": "stream",
     "text": [
      "WARNING:root:TimeoutError occurred at train() : "
     ]
    },
    {
     "name": "stderr",
     "output_type": "stream",
     "text": [
      "\n"
     ]
    },
    {
     "name": "stdout",
     "output_type": "stream",
     "text": [
      "<class 'autokeras.image.image_supervised.ImageClassifier'>"
     ]
    },
    {
     "name": "stdout",
     "output_type": "stream",
     "text": [
      "\n"
     ]
    },
    {
     "name": "stdout",
     "output_type": "stream",
     "text": [
      "0.562"
     ]
    },
    {
     "name": "stdout",
     "output_type": "stream",
     "text": [
      "\n"
     ]
    },
    {
     "name": "stderr",
     "output_type": "stream",
     "text": [
      "\r",
      " 33%|███▎      | 2/6 [27:54:42<54:15:12, 48828.11s/it]"
     ]
    },
    {
     "name": "stdout",
     "output_type": "stream",
     "text": [
      "\n"
     ]
    },
    {
     "name": "stdout",
     "output_type": "stream",
     "text": [
      "127.34 minutes have elapsed. TPOT will close down.\n",
      "TPOT closed during evaluation in one generation.\n",
      "WARNING: TPOT may not provide a good pipeline if TPOT is stopped/interrupted in a early generation."
     ]
    },
    {
     "name": "stdout",
     "output_type": "stream",
     "text": [
      "\n"
     ]
    },
    {
     "name": "stdout",
     "output_type": "stream",
     "text": [
      "\n"
     ]
    },
    {
     "name": "stdout",
     "output_type": "stream",
     "text": [
      "\n",
      "TPOT closed prematurely. Will use the current best pipeline."
     ]
    },
    {
     "name": "stdout",
     "output_type": "stream",
     "text": [
      "\n"
     ]
    },
    {
     "name": "stdout",
     "output_type": "stream",
     "text": [
      "Best pipeline:"
     ]
    },
    {
     "name": "stdout",
     "output_type": "stream",
     "text": [
      " "
     ]
    },
    {
     "name": "stdout",
     "output_type": "stream",
     "text": [
      "LinearSVC(MinMaxScaler(input_matrix), C=20.0, dual=False, loss=squared_hinge, penalty=l2, tol=1e-05)"
     ]
    },
    {
     "name": "stdout",
     "output_type": "stream",
     "text": [
      "\n"
     ]
    },
    {
     "name": "stdout",
     "output_type": "stream",
     "text": [
      "<class 'tpot.tpot.TPOTClassifier'>"
     ]
    },
    {
     "name": "stdout",
     "output_type": "stream",
     "text": [
      "\n"
     ]
    },
    {
     "name": "stdout",
     "output_type": "stream",
     "text": [
      "0.774"
     ]
    },
    {
     "name": "stdout",
     "output_type": "stream",
     "text": [
      "\n"
     ]
    },
    {
     "name": "stdout",
     "output_type": "stream",
     "text": [
      "\n"
     ]
    },
    {
     "name": "stdout",
     "output_type": "stream",
     "text": [
      "132.50 minutes have elapsed. TPOT will close down.\n",
      "TPOT closed during evaluation in one generation.\n",
      "WARNING: TPOT may not provide a good pipeline if TPOT is stopped/interrupted in a early generation."
     ]
    },
    {
     "name": "stdout",
     "output_type": "stream",
     "text": [
      "\n"
     ]
    },
    {
     "name": "stdout",
     "output_type": "stream",
     "text": [
      "\n"
     ]
    },
    {
     "name": "stdout",
     "output_type": "stream",
     "text": [
      "\n",
      "TPOT closed prematurely. Will use the current best pipeline."
     ]
    },
    {
     "name": "stdout",
     "output_type": "stream",
     "text": [
      "\n"
     ]
    },
    {
     "name": "stdout",
     "output_type": "stream",
     "text": [
      "Best pipeline:"
     ]
    },
    {
     "name": "stdout",
     "output_type": "stream",
     "text": [
      " "
     ]
    },
    {
     "name": "stdout",
     "output_type": "stream",
     "text": [
      "ExtraTreesClassifier(ZeroCount(input_matrix), bootstrap=True, criterion=gini, max_features=0.8, min_samples_leaf=1, min_samples_split=11, n_estimators=100)"
     ]
    },
    {
     "name": "stdout",
     "output_type": "stream",
     "text": [
      "\n"
     ]
    },
    {
     "name": "stdout",
     "output_type": "stream",
     "text": [
      "<class 'tpot.tpot.TPOTClassifier'>"
     ]
    },
    {
     "name": "stdout",
     "output_type": "stream",
     "text": [
      "\n"
     ]
    },
    {
     "name": "stdout",
     "output_type": "stream",
     "text": [
      "0.38"
     ]
    },
    {
     "name": "stdout",
     "output_type": "stream",
     "text": [
      "\n"
     ]
    },
    {
     "name": "stdout",
     "output_type": "stream",
     "text": [
      "Checking whether there is an H2O instance running at http://localhost:54321 "
     ]
    },
    {
     "name": "stdout",
     "output_type": "stream",
     "text": [
      "."
     ]
    },
    {
     "name": "stdout",
     "output_type": "stream",
     "text": [
      "."
     ]
    },
    {
     "name": "stdout",
     "output_type": "stream",
     "text": [
      "."
     ]
    },
    {
     "name": "stdout",
     "output_type": "stream",
     "text": [
      "."
     ]
    },
    {
     "name": "stdout",
     "output_type": "stream",
     "text": [
      "."
     ]
    },
    {
     "name": "stdout",
     "output_type": "stream",
     "text": [
      " not found."
     ]
    },
    {
     "name": "stdout",
     "output_type": "stream",
     "text": [
      "\n"
     ]
    },
    {
     "name": "stdout",
     "output_type": "stream",
     "text": [
      "Attempting to start a local H2O server..."
     ]
    },
    {
     "name": "stdout",
     "output_type": "stream",
     "text": [
      "\n"
     ]
    },
    {
     "name": "stdout",
     "output_type": "stream",
     "text": [
      "  Java Version: openjdk version \"11.0.2\" 2019-01-15; OpenJDK Runtime Environment 18.9 (build 11.0.2+9); OpenJDK 64-Bit Server VM 18.9 (build 11.0.2+9, mixed mode)"
     ]
    },
    {
     "name": "stdout",
     "output_type": "stream",
     "text": [
      "\n"
     ]
    },
    {
     "name": "stdout",
     "output_type": "stream",
     "text": [
      "  Starting server from /wrk/users/thalvari/dpEmu-AutoML/venv/lib/python3.6/site-packages/h2o/backend/bin/h2o.jar"
     ]
    },
    {
     "name": "stdout",
     "output_type": "stream",
     "text": [
      "\n"
     ]
    },
    {
     "name": "stdout",
     "output_type": "stream",
     "text": [
      "  Ice root: /wrk/users/thalvari/tmpuwllq6r1"
     ]
    },
    {
     "name": "stdout",
     "output_type": "stream",
     "text": [
      "\n"
     ]
    },
    {
     "name": "stdout",
     "output_type": "stream",
     "text": [
      "  JVM stdout: /wrk/users/thalvari/tmpuwllq6r1/h2o_thalvari_started_from_python.out"
     ]
    },
    {
     "name": "stdout",
     "output_type": "stream",
     "text": [
      "\n"
     ]
    },
    {
     "name": "stdout",
     "output_type": "stream",
     "text": [
      "  JVM stderr: /wrk/users/thalvari/tmpuwllq6r1/h2o_thalvari_started_from_python.err"
     ]
    },
    {
     "name": "stdout",
     "output_type": "stream",
     "text": [
      "\n"
     ]
    },
    {
     "name": "stdout",
     "output_type": "stream",
     "text": [
      "  Server is running at http://127.0.0.1:54321"
     ]
    },
    {
     "name": "stdout",
     "output_type": "stream",
     "text": [
      "\n"
     ]
    },
    {
     "name": "stdout",
     "output_type": "stream",
     "text": [
      "Connecting to H2O server at http://127.0.0.1:54321 .."
     ]
    },
    {
     "name": "stdout",
     "output_type": "stream",
     "text": [
      "."
     ]
    },
    {
     "name": "stdout",
     "output_type": "stream",
     "text": [
      " successful."
     ]
    },
    {
     "name": "stdout",
     "output_type": "stream",
     "text": [
      "\n"
     ]
    },
    {
     "data": {
      "text/html": [
       "<div style=\"overflow:auto\"><table style=\"width:50%\"><tr><td>H2O cluster uptime:</td>\n",
       "<td>01 secs</td></tr>\n",
       "<tr><td>H2O cluster timezone:</td>\n",
       "<td>Europe/Helsinki</td></tr>\n",
       "<tr><td>H2O data parsing timezone:</td>\n",
       "<td>UTC</td></tr>\n",
       "<tr><td>H2O cluster version:</td>\n",
       "<td>3.26.0.10</td></tr>\n",
       "<tr><td>H2O cluster version age:</td>\n",
       "<td>9 days </td></tr>\n",
       "<tr><td>H2O cluster name:</td>\n",
       "<td>#108166449</td></tr>\n",
       "<tr><td>H2O cluster total nodes:</td>\n",
       "<td>1</td></tr>\n",
       "<tr><td>H2O cluster free memory:</td>\n",
       "<td>29.97 Gb</td></tr>\n",
       "<tr><td>H2O cluster total cores:</td>\n",
       "<td>96</td></tr>\n",
       "<tr><td>H2O cluster allowed cores:</td>\n",
       "<td>48</td></tr>\n",
       "<tr><td>H2O cluster status:</td>\n",
       "<td>accepting new members, healthy</td></tr>\n",
       "<tr><td>H2O connection url:</td>\n",
       "<td>http://127.0.0.1:54321</td></tr>\n",
       "<tr><td>H2O connection proxy:</td>\n",
       "<td>{'http': None, 'https': None}</td></tr>\n",
       "<tr><td>H2O internal security:</td>\n",
       "<td>False</td></tr>\n",
       "<tr><td>H2O API Extensions:</td>\n",
       "<td>Amazon S3, XGBoost, Algos, AutoML, Core V3, TargetEncoder, Core V4</td></tr>\n",
       "<tr><td>Python version:</td>\n",
       "<td>3.6.6 final</td></tr></table></div>"
      ],
      "text/plain": [
       "--------------------------  ------------------------------------------------------------------\n",
       "H2O cluster uptime:         01 secs\n",
       "H2O cluster timezone:       Europe/Helsinki\n",
       "H2O data parsing timezone:  UTC\n",
       "H2O cluster version:        3.26.0.10\n",
       "H2O cluster version age:    9 days\n",
       "H2O cluster name:           #108166449\n",
       "H2O cluster total nodes:    1\n",
       "H2O cluster free memory:    29.97 Gb\n",
       "H2O cluster total cores:    96\n",
       "H2O cluster allowed cores:  48\n",
       "H2O cluster status:         accepting new members, healthy\n",
       "H2O connection url:         http://127.0.0.1:54321\n",
       "H2O connection proxy:       {'http': None, 'https': None}\n",
       "H2O internal security:      False\n",
       "H2O API Extensions:         Amazon S3, XGBoost, Algos, AutoML, Core V3, TargetEncoder, Core V4\n",
       "Python version:             3.6.6 final\n",
       "--------------------------  ------------------------------------------------------------------"
      ]
     },
     "metadata": {},
     "output_type": "display_data"
    },
    {
     "name": "stdout",
     "output_type": "stream",
     "text": [
      "H2O session _sid_86e0 closed."
     ]
    },
    {
     "name": "stdout",
     "output_type": "stream",
     "text": [
      "\n"
     ]
    },
    {
     "name": "stdout",
     "output_type": "stream",
     "text": [
      "<class 'h2o.automl.autoh2o.H2OAutoML'>"
     ]
    },
    {
     "name": "stdout",
     "output_type": "stream",
     "text": [
      "\n"
     ]
    },
    {
     "name": "stdout",
     "output_type": "stream",
     "text": [
      "0.801"
     ]
    },
    {
     "name": "stdout",
     "output_type": "stream",
     "text": [
      "\n"
     ]
    },
    {
     "name": "stdout",
     "output_type": "stream",
     "text": [
      "Checking whether there is an H2O instance running at http://localhost:54321 "
     ]
    },
    {
     "name": "stdout",
     "output_type": "stream",
     "text": [
      "."
     ]
    },
    {
     "name": "stdout",
     "output_type": "stream",
     "text": [
      "."
     ]
    },
    {
     "name": "stdout",
     "output_type": "stream",
     "text": [
      "."
     ]
    },
    {
     "name": "stdout",
     "output_type": "stream",
     "text": [
      "."
     ]
    },
    {
     "name": "stdout",
     "output_type": "stream",
     "text": [
      "."
     ]
    },
    {
     "name": "stdout",
     "output_type": "stream",
     "text": [
      " not found."
     ]
    },
    {
     "name": "stdout",
     "output_type": "stream",
     "text": [
      "\n"
     ]
    },
    {
     "name": "stdout",
     "output_type": "stream",
     "text": [
      "Attempting to start a local H2O server..."
     ]
    },
    {
     "name": "stdout",
     "output_type": "stream",
     "text": [
      "\n"
     ]
    },
    {
     "name": "stdout",
     "output_type": "stream",
     "text": [
      "  Java Version: openjdk version \"11.0.2\" 2019-01-15; OpenJDK Runtime Environment 18.9 (build 11.0.2+9); OpenJDK 64-Bit Server VM 18.9 (build 11.0.2+9, mixed mode)"
     ]
    },
    {
     "name": "stdout",
     "output_type": "stream",
     "text": [
      "\n"
     ]
    },
    {
     "name": "stdout",
     "output_type": "stream",
     "text": [
      "  Starting server from /wrk/users/thalvari/dpEmu-AutoML/venv/lib/python3.6/site-packages/h2o/backend/bin/h2o.jar"
     ]
    },
    {
     "name": "stdout",
     "output_type": "stream",
     "text": [
      "\n"
     ]
    },
    {
     "name": "stdout",
     "output_type": "stream",
     "text": [
      "  Ice root: /wrk/users/thalvari/tmpixy2qwhb"
     ]
    },
    {
     "name": "stdout",
     "output_type": "stream",
     "text": [
      "\n"
     ]
    },
    {
     "name": "stdout",
     "output_type": "stream",
     "text": [
      "  JVM stdout: /wrk/users/thalvari/tmpixy2qwhb/h2o_thalvari_started_from_python.out"
     ]
    },
    {
     "name": "stdout",
     "output_type": "stream",
     "text": [
      "\n"
     ]
    },
    {
     "name": "stdout",
     "output_type": "stream",
     "text": [
      "  JVM stderr: /wrk/users/thalvari/tmpixy2qwhb/h2o_thalvari_started_from_python.err"
     ]
    },
    {
     "name": "stdout",
     "output_type": "stream",
     "text": [
      "\n"
     ]
    },
    {
     "name": "stdout",
     "output_type": "stream",
     "text": [
      "  Server is running at http://127.0.0.1:54321"
     ]
    },
    {
     "name": "stdout",
     "output_type": "stream",
     "text": [
      "\n"
     ]
    },
    {
     "name": "stdout",
     "output_type": "stream",
     "text": [
      "Connecting to H2O server at http://127.0.0.1:54321 .."
     ]
    },
    {
     "name": "stdout",
     "output_type": "stream",
     "text": [
      "."
     ]
    },
    {
     "name": "stdout",
     "output_type": "stream",
     "text": [
      " successful."
     ]
    },
    {
     "name": "stdout",
     "output_type": "stream",
     "text": [
      "\n"
     ]
    },
    {
     "data": {
      "text/html": [
       "<div style=\"overflow:auto\"><table style=\"width:50%\"><tr><td>H2O cluster uptime:</td>\n",
       "<td>01 secs</td></tr>\n",
       "<tr><td>H2O cluster timezone:</td>\n",
       "<td>Europe/Helsinki</td></tr>\n",
       "<tr><td>H2O data parsing timezone:</td>\n",
       "<td>UTC</td></tr>\n",
       "<tr><td>H2O cluster version:</td>\n",
       "<td>3.26.0.10</td></tr>\n",
       "<tr><td>H2O cluster version age:</td>\n",
       "<td>10 days </td></tr>\n",
       "<tr><td>H2O cluster name:</td>\n",
       "<td>#33051872</td></tr>\n",
       "<tr><td>H2O cluster total nodes:</td>\n",
       "<td>1</td></tr>\n",
       "<tr><td>H2O cluster free memory:</td>\n",
       "<td>29.97 Gb</td></tr>\n",
       "<tr><td>H2O cluster total cores:</td>\n",
       "<td>96</td></tr>\n",
       "<tr><td>H2O cluster allowed cores:</td>\n",
       "<td>48</td></tr>\n",
       "<tr><td>H2O cluster status:</td>\n",
       "<td>accepting new members, healthy</td></tr>\n",
       "<tr><td>H2O connection url:</td>\n",
       "<td>http://127.0.0.1:54321</td></tr>\n",
       "<tr><td>H2O connection proxy:</td>\n",
       "<td>{'http': None, 'https': None}</td></tr>\n",
       "<tr><td>H2O internal security:</td>\n",
       "<td>False</td></tr>\n",
       "<tr><td>H2O API Extensions:</td>\n",
       "<td>Amazon S3, XGBoost, Algos, AutoML, Core V3, TargetEncoder, Core V4</td></tr>\n",
       "<tr><td>Python version:</td>\n",
       "<td>3.6.6 final</td></tr></table></div>"
      ],
      "text/plain": [
       "--------------------------  ------------------------------------------------------------------\n",
       "H2O cluster uptime:         01 secs\n",
       "H2O cluster timezone:       Europe/Helsinki\n",
       "H2O data parsing timezone:  UTC\n",
       "H2O cluster version:        3.26.0.10\n",
       "H2O cluster version age:    10 days\n",
       "H2O cluster name:           #33051872\n",
       "H2O cluster total nodes:    1\n",
       "H2O cluster free memory:    29.97 Gb\n",
       "H2O cluster total cores:    96\n",
       "H2O cluster allowed cores:  48\n",
       "H2O cluster status:         accepting new members, healthy\n",
       "H2O connection url:         http://127.0.0.1:54321\n",
       "H2O connection proxy:       {'http': None, 'https': None}\n",
       "H2O internal security:      False\n",
       "H2O API Extensions:         Amazon S3, XGBoost, Algos, AutoML, Core V3, TargetEncoder, Core V4\n",
       "Python version:             3.6.6 final\n",
       "--------------------------  ------------------------------------------------------------------"
      ]
     },
     "metadata": {},
     "output_type": "display_data"
    },
    {
     "name": "stdout",
     "output_type": "stream",
     "text": [
      "H2O session _sid_a2bb closed."
     ]
    },
    {
     "name": "stdout",
     "output_type": "stream",
     "text": [
      "\n"
     ]
    },
    {
     "name": "stdout",
     "output_type": "stream",
     "text": [
      "<class 'h2o.automl.autoh2o.H2OAutoML'>"
     ]
    },
    {
     "name": "stdout",
     "output_type": "stream",
     "text": [
      "\n"
     ]
    },
    {
     "name": "stdout",
     "output_type": "stream",
     "text": [
      "0.447"
     ]
    },
    {
     "name": "stdout",
     "output_type": "stream",
     "text": [
      "\n"
     ]
    },
    {
     "name": "stderr",
     "output_type": "stream",
     "text": [
      "WARNING:root:TimeoutError occurred at train() : "
     ]
    },
    {
     "name": "stderr",
     "output_type": "stream",
     "text": [
      "\n"
     ]
    },
    {
     "name": "stdout",
     "output_type": "stream",
     "text": [
      "<class 'autokeras.image.image_supervised.ImageClassifier'>"
     ]
    },
    {
     "name": "stdout",
     "output_type": "stream",
     "text": [
      "\n"
     ]
    },
    {
     "name": "stdout",
     "output_type": "stream",
     "text": [
      "0.774"
     ]
    },
    {
     "name": "stdout",
     "output_type": "stream",
     "text": [
      "\n"
     ]
    },
    {
     "name": "stderr",
     "output_type": "stream",
     "text": [
      "WARNING:root:TimeoutError occurred at train() : "
     ]
    },
    {
     "name": "stderr",
     "output_type": "stream",
     "text": [
      "\n"
     ]
    },
    {
     "name": "stdout",
     "output_type": "stream",
     "text": [
      "<class 'autokeras.image.image_supervised.ImageClassifier'>"
     ]
    },
    {
     "name": "stdout",
     "output_type": "stream",
     "text": [
      "\n"
     ]
    },
    {
     "name": "stdout",
     "output_type": "stream",
     "text": [
      "0.118"
     ]
    },
    {
     "name": "stdout",
     "output_type": "stream",
     "text": [
      "\n"
     ]
    },
    {
     "name": "stderr",
     "output_type": "stream",
     "text": [
      "\r",
      " 50%|█████     | 3/6 [40:44:58<40:02:13, 48044.44s/it]"
     ]
    },
    {
     "name": "stdout",
     "output_type": "stream",
     "text": [
      "\n"
     ]
    },
    {
     "name": "stdout",
     "output_type": "stream",
     "text": [
      "136.40 minutes have elapsed. TPOT will close down.\n",
      "TPOT closed during evaluation in one generation.\n",
      "WARNING: TPOT may not provide a good pipeline if TPOT is stopped/interrupted in a early generation."
     ]
    },
    {
     "name": "stdout",
     "output_type": "stream",
     "text": [
      "\n"
     ]
    },
    {
     "name": "stdout",
     "output_type": "stream",
     "text": [
      "\n"
     ]
    },
    {
     "name": "stdout",
     "output_type": "stream",
     "text": [
      "\n",
      "TPOT closed prematurely. Will use the current best pipeline."
     ]
    },
    {
     "name": "stdout",
     "output_type": "stream",
     "text": [
      "\n"
     ]
    },
    {
     "name": "stdout",
     "output_type": "stream",
     "text": [
      "Best pipeline:"
     ]
    },
    {
     "name": "stdout",
     "output_type": "stream",
     "text": [
      " "
     ]
    },
    {
     "name": "stdout",
     "output_type": "stream",
     "text": [
      "LogisticRegression(input_matrix, C=25.0, dual=False, penalty=l1)"
     ]
    },
    {
     "name": "stdout",
     "output_type": "stream",
     "text": [
      "\n"
     ]
    },
    {
     "name": "stdout",
     "output_type": "stream",
     "text": [
      "<class 'tpot.tpot.TPOTClassifier'>"
     ]
    },
    {
     "name": "stdout",
     "output_type": "stream",
     "text": [
      "\n"
     ]
    },
    {
     "name": "stdout",
     "output_type": "stream",
     "text": [
      "0.746"
     ]
    },
    {
     "name": "stdout",
     "output_type": "stream",
     "text": [
      "\n"
     ]
    },
    {
     "name": "stdout",
     "output_type": "stream",
     "text": [
      "\n"
     ]
    },
    {
     "name": "stdout",
     "output_type": "stream",
     "text": [
      "134.78 minutes have elapsed. TPOT will close down.\n",
      "TPOT closed during evaluation in one generation.\n",
      "WARNING: TPOT may not provide a good pipeline if TPOT is stopped/interrupted in a early generation."
     ]
    },
    {
     "name": "stdout",
     "output_type": "stream",
     "text": [
      "\n"
     ]
    },
    {
     "name": "stdout",
     "output_type": "stream",
     "text": [
      "\n"
     ]
    },
    {
     "name": "stdout",
     "output_type": "stream",
     "text": [
      "\n",
      "TPOT closed prematurely. Will use the current best pipeline."
     ]
    },
    {
     "name": "stdout",
     "output_type": "stream",
     "text": [
      "\n"
     ]
    },
    {
     "name": "stdout",
     "output_type": "stream",
     "text": [
      "Best pipeline:"
     ]
    },
    {
     "name": "stdout",
     "output_type": "stream",
     "text": [
      " "
     ]
    },
    {
     "name": "stdout",
     "output_type": "stream",
     "text": [
      "ExtraTreesClassifier(ZeroCount(input_matrix), bootstrap=True, criterion=gini, max_features=0.8, min_samples_leaf=1, min_samples_split=11, n_estimators=100)"
     ]
    },
    {
     "name": "stdout",
     "output_type": "stream",
     "text": [
      "\n"
     ]
    },
    {
     "name": "stdout",
     "output_type": "stream",
     "text": [
      "<class 'tpot.tpot.TPOTClassifier'>"
     ]
    },
    {
     "name": "stdout",
     "output_type": "stream",
     "text": [
      "\n"
     ]
    },
    {
     "name": "stdout",
     "output_type": "stream",
     "text": [
      "0.278"
     ]
    },
    {
     "name": "stdout",
     "output_type": "stream",
     "text": [
      "\n"
     ]
    },
    {
     "name": "stdout",
     "output_type": "stream",
     "text": [
      "Checking whether there is an H2O instance running at http://localhost:54321 "
     ]
    },
    {
     "name": "stdout",
     "output_type": "stream",
     "text": [
      "."
     ]
    },
    {
     "name": "stdout",
     "output_type": "stream",
     "text": [
      "."
     ]
    },
    {
     "name": "stdout",
     "output_type": "stream",
     "text": [
      "."
     ]
    },
    {
     "name": "stdout",
     "output_type": "stream",
     "text": [
      "."
     ]
    },
    {
     "name": "stdout",
     "output_type": "stream",
     "text": [
      "."
     ]
    },
    {
     "name": "stdout",
     "output_type": "stream",
     "text": [
      " not found."
     ]
    },
    {
     "name": "stdout",
     "output_type": "stream",
     "text": [
      "\n"
     ]
    },
    {
     "name": "stdout",
     "output_type": "stream",
     "text": [
      "Attempting to start a local H2O server..."
     ]
    },
    {
     "name": "stdout",
     "output_type": "stream",
     "text": [
      "\n"
     ]
    },
    {
     "name": "stdout",
     "output_type": "stream",
     "text": [
      "  Java Version: openjdk version \"11.0.2\" 2019-01-15; OpenJDK Runtime Environment 18.9 (build 11.0.2+9); OpenJDK 64-Bit Server VM 18.9 (build 11.0.2+9, mixed mode)"
     ]
    },
    {
     "name": "stdout",
     "output_type": "stream",
     "text": [
      "\n"
     ]
    },
    {
     "name": "stdout",
     "output_type": "stream",
     "text": [
      "  Starting server from /wrk/users/thalvari/dpEmu-AutoML/venv/lib/python3.6/site-packages/h2o/backend/bin/h2o.jar"
     ]
    },
    {
     "name": "stdout",
     "output_type": "stream",
     "text": [
      "\n"
     ]
    },
    {
     "name": "stdout",
     "output_type": "stream",
     "text": [
      "  Ice root: /wrk/users/thalvari/tmpdy6tm_dl"
     ]
    },
    {
     "name": "stdout",
     "output_type": "stream",
     "text": [
      "\n"
     ]
    },
    {
     "name": "stdout",
     "output_type": "stream",
     "text": [
      "  JVM stdout: /wrk/users/thalvari/tmpdy6tm_dl/h2o_thalvari_started_from_python.out"
     ]
    },
    {
     "name": "stdout",
     "output_type": "stream",
     "text": [
      "\n"
     ]
    },
    {
     "name": "stdout",
     "output_type": "stream",
     "text": [
      "  JVM stderr: /wrk/users/thalvari/tmpdy6tm_dl/h2o_thalvari_started_from_python.err"
     ]
    },
    {
     "name": "stdout",
     "output_type": "stream",
     "text": [
      "\n"
     ]
    },
    {
     "name": "stdout",
     "output_type": "stream",
     "text": [
      "  Server is running at http://127.0.0.1:54321"
     ]
    },
    {
     "name": "stdout",
     "output_type": "stream",
     "text": [
      "\n"
     ]
    },
    {
     "name": "stdout",
     "output_type": "stream",
     "text": [
      "Connecting to H2O server at http://127.0.0.1:54321 .."
     ]
    },
    {
     "name": "stdout",
     "output_type": "stream",
     "text": [
      "."
     ]
    },
    {
     "name": "stdout",
     "output_type": "stream",
     "text": [
      " successful."
     ]
    },
    {
     "name": "stdout",
     "output_type": "stream",
     "text": [
      "\n"
     ]
    },
    {
     "data": {
      "text/html": [
       "<div style=\"overflow:auto\"><table style=\"width:50%\"><tr><td>H2O cluster uptime:</td>\n",
       "<td>01 secs</td></tr>\n",
       "<tr><td>H2O cluster timezone:</td>\n",
       "<td>Europe/Helsinki</td></tr>\n",
       "<tr><td>H2O data parsing timezone:</td>\n",
       "<td>UTC</td></tr>\n",
       "<tr><td>H2O cluster version:</td>\n",
       "<td>3.26.0.10</td></tr>\n",
       "<tr><td>H2O cluster version age:</td>\n",
       "<td>10 days </td></tr>\n",
       "<tr><td>H2O cluster name:</td>\n",
       "<td>#977647537</td></tr>\n",
       "<tr><td>H2O cluster total nodes:</td>\n",
       "<td>1</td></tr>\n",
       "<tr><td>H2O cluster free memory:</td>\n",
       "<td>29.97 Gb</td></tr>\n",
       "<tr><td>H2O cluster total cores:</td>\n",
       "<td>96</td></tr>\n",
       "<tr><td>H2O cluster allowed cores:</td>\n",
       "<td>48</td></tr>\n",
       "<tr><td>H2O cluster status:</td>\n",
       "<td>accepting new members, healthy</td></tr>\n",
       "<tr><td>H2O connection url:</td>\n",
       "<td>http://127.0.0.1:54321</td></tr>\n",
       "<tr><td>H2O connection proxy:</td>\n",
       "<td>{'http': None, 'https': None}</td></tr>\n",
       "<tr><td>H2O internal security:</td>\n",
       "<td>False</td></tr>\n",
       "<tr><td>H2O API Extensions:</td>\n",
       "<td>Amazon S3, XGBoost, Algos, AutoML, Core V3, TargetEncoder, Core V4</td></tr>\n",
       "<tr><td>Python version:</td>\n",
       "<td>3.6.6 final</td></tr></table></div>"
      ],
      "text/plain": [
       "--------------------------  ------------------------------------------------------------------\n",
       "H2O cluster uptime:         01 secs\n",
       "H2O cluster timezone:       Europe/Helsinki\n",
       "H2O data parsing timezone:  UTC\n",
       "H2O cluster version:        3.26.0.10\n",
       "H2O cluster version age:    10 days\n",
       "H2O cluster name:           #977647537\n",
       "H2O cluster total nodes:    1\n",
       "H2O cluster free memory:    29.97 Gb\n",
       "H2O cluster total cores:    96\n",
       "H2O cluster allowed cores:  48\n",
       "H2O cluster status:         accepting new members, healthy\n",
       "H2O connection url:         http://127.0.0.1:54321\n",
       "H2O connection proxy:       {'http': None, 'https': None}\n",
       "H2O internal security:      False\n",
       "H2O API Extensions:         Amazon S3, XGBoost, Algos, AutoML, Core V3, TargetEncoder, Core V4\n",
       "Python version:             3.6.6 final\n",
       "--------------------------  ------------------------------------------------------------------"
      ]
     },
     "metadata": {},
     "output_type": "display_data"
    },
    {
     "name": "stdout",
     "output_type": "stream",
     "text": [
      "H2O session _sid_b335 closed."
     ]
    },
    {
     "name": "stdout",
     "output_type": "stream",
     "text": [
      "\n"
     ]
    },
    {
     "name": "stdout",
     "output_type": "stream",
     "text": [
      "<class 'h2o.automl.autoh2o.H2OAutoML'>"
     ]
    },
    {
     "name": "stdout",
     "output_type": "stream",
     "text": [
      "\n"
     ]
    },
    {
     "name": "stdout",
     "output_type": "stream",
     "text": [
      "0.748"
     ]
    },
    {
     "name": "stdout",
     "output_type": "stream",
     "text": [
      "\n"
     ]
    },
    {
     "name": "stdout",
     "output_type": "stream",
     "text": [
      "Checking whether there is an H2O instance running at http://localhost:54321 "
     ]
    },
    {
     "name": "stdout",
     "output_type": "stream",
     "text": [
      "."
     ]
    },
    {
     "name": "stdout",
     "output_type": "stream",
     "text": [
      "."
     ]
    },
    {
     "name": "stdout",
     "output_type": "stream",
     "text": [
      "."
     ]
    },
    {
     "name": "stdout",
     "output_type": "stream",
     "text": [
      "."
     ]
    },
    {
     "name": "stdout",
     "output_type": "stream",
     "text": [
      "."
     ]
    },
    {
     "name": "stdout",
     "output_type": "stream",
     "text": [
      " not found."
     ]
    },
    {
     "name": "stdout",
     "output_type": "stream",
     "text": [
      "\n"
     ]
    },
    {
     "name": "stdout",
     "output_type": "stream",
     "text": [
      "Attempting to start a local H2O server..."
     ]
    },
    {
     "name": "stdout",
     "output_type": "stream",
     "text": [
      "\n"
     ]
    },
    {
     "name": "stdout",
     "output_type": "stream",
     "text": [
      "  Java Version: openjdk version \"11.0.2\" 2019-01-15; OpenJDK Runtime Environment 18.9 (build 11.0.2+9); OpenJDK 64-Bit Server VM 18.9 (build 11.0.2+9, mixed mode)"
     ]
    },
    {
     "name": "stdout",
     "output_type": "stream",
     "text": [
      "\n"
     ]
    },
    {
     "name": "stdout",
     "output_type": "stream",
     "text": [
      "  Starting server from /wrk/users/thalvari/dpEmu-AutoML/venv/lib/python3.6/site-packages/h2o/backend/bin/h2o.jar"
     ]
    },
    {
     "name": "stdout",
     "output_type": "stream",
     "text": [
      "\n"
     ]
    },
    {
     "name": "stdout",
     "output_type": "stream",
     "text": [
      "  Ice root: /wrk/users/thalvari/tmph_xvjrio"
     ]
    },
    {
     "name": "stdout",
     "output_type": "stream",
     "text": [
      "\n"
     ]
    },
    {
     "name": "stdout",
     "output_type": "stream",
     "text": [
      "  JVM stdout: /wrk/users/thalvari/tmph_xvjrio/h2o_thalvari_started_from_python.out"
     ]
    },
    {
     "name": "stdout",
     "output_type": "stream",
     "text": [
      "\n"
     ]
    },
    {
     "name": "stdout",
     "output_type": "stream",
     "text": [
      "  JVM stderr: /wrk/users/thalvari/tmph_xvjrio/h2o_thalvari_started_from_python.err"
     ]
    },
    {
     "name": "stdout",
     "output_type": "stream",
     "text": [
      "\n"
     ]
    },
    {
     "name": "stdout",
     "output_type": "stream",
     "text": [
      "  Server is running at http://127.0.0.1:54321"
     ]
    },
    {
     "name": "stdout",
     "output_type": "stream",
     "text": [
      "\n"
     ]
    },
    {
     "name": "stdout",
     "output_type": "stream",
     "text": [
      "Connecting to H2O server at http://127.0.0.1:54321 .."
     ]
    },
    {
     "name": "stdout",
     "output_type": "stream",
     "text": [
      "."
     ]
    },
    {
     "name": "stdout",
     "output_type": "stream",
     "text": [
      " successful."
     ]
    },
    {
     "name": "stdout",
     "output_type": "stream",
     "text": [
      "\n"
     ]
    },
    {
     "data": {
      "text/html": [
       "<div style=\"overflow:auto\"><table style=\"width:50%\"><tr><td>H2O cluster uptime:</td>\n",
       "<td>01 secs</td></tr>\n",
       "<tr><td>H2O cluster timezone:</td>\n",
       "<td>Europe/Helsinki</td></tr>\n",
       "<tr><td>H2O data parsing timezone:</td>\n",
       "<td>UTC</td></tr>\n",
       "<tr><td>H2O cluster version:</td>\n",
       "<td>3.26.0.10</td></tr>\n",
       "<tr><td>H2O cluster version age:</td>\n",
       "<td>10 days </td></tr>\n",
       "<tr><td>H2O cluster name:</td>\n",
       "<td>#552709458</td></tr>\n",
       "<tr><td>H2O cluster total nodes:</td>\n",
       "<td>1</td></tr>\n",
       "<tr><td>H2O cluster free memory:</td>\n",
       "<td>29.97 Gb</td></tr>\n",
       "<tr><td>H2O cluster total cores:</td>\n",
       "<td>96</td></tr>\n",
       "<tr><td>H2O cluster allowed cores:</td>\n",
       "<td>48</td></tr>\n",
       "<tr><td>H2O cluster status:</td>\n",
       "<td>accepting new members, healthy</td></tr>\n",
       "<tr><td>H2O connection url:</td>\n",
       "<td>http://127.0.0.1:54321</td></tr>\n",
       "<tr><td>H2O connection proxy:</td>\n",
       "<td>{'http': None, 'https': None}</td></tr>\n",
       "<tr><td>H2O internal security:</td>\n",
       "<td>False</td></tr>\n",
       "<tr><td>H2O API Extensions:</td>\n",
       "<td>Amazon S3, XGBoost, Algos, AutoML, Core V3, TargetEncoder, Core V4</td></tr>\n",
       "<tr><td>Python version:</td>\n",
       "<td>3.6.6 final</td></tr></table></div>"
      ],
      "text/plain": [
       "--------------------------  ------------------------------------------------------------------\n",
       "H2O cluster uptime:         01 secs\n",
       "H2O cluster timezone:       Europe/Helsinki\n",
       "H2O data parsing timezone:  UTC\n",
       "H2O cluster version:        3.26.0.10\n",
       "H2O cluster version age:    10 days\n",
       "H2O cluster name:           #552709458\n",
       "H2O cluster total nodes:    1\n",
       "H2O cluster free memory:    29.97 Gb\n",
       "H2O cluster total cores:    96\n",
       "H2O cluster allowed cores:  48\n",
       "H2O cluster status:         accepting new members, healthy\n",
       "H2O connection url:         http://127.0.0.1:54321\n",
       "H2O connection proxy:       {'http': None, 'https': None}\n",
       "H2O internal security:      False\n",
       "H2O API Extensions:         Amazon S3, XGBoost, Algos, AutoML, Core V3, TargetEncoder, Core V4\n",
       "Python version:             3.6.6 final\n",
       "--------------------------  ------------------------------------------------------------------"
      ]
     },
     "metadata": {},
     "output_type": "display_data"
    },
    {
     "name": "stdout",
     "output_type": "stream",
     "text": [
      "H2O session _sid_a897 closed."
     ]
    },
    {
     "name": "stdout",
     "output_type": "stream",
     "text": [
      "\n"
     ]
    },
    {
     "name": "stdout",
     "output_type": "stream",
     "text": [
      "<class 'h2o.automl.autoh2o.H2OAutoML'>"
     ]
    },
    {
     "name": "stdout",
     "output_type": "stream",
     "text": [
      "\n"
     ]
    },
    {
     "name": "stdout",
     "output_type": "stream",
     "text": [
      "0.316"
     ]
    },
    {
     "name": "stdout",
     "output_type": "stream",
     "text": [
      "\n"
     ]
    },
    {
     "name": "stderr",
     "output_type": "stream",
     "text": [
      "WARNING:root:TimeoutError occurred at train() : "
     ]
    },
    {
     "name": "stderr",
     "output_type": "stream",
     "text": [
      "\n"
     ]
    },
    {
     "name": "stdout",
     "output_type": "stream",
     "text": [
      "<class 'autokeras.image.image_supervised.ImageClassifier'>"
     ]
    },
    {
     "name": "stdout",
     "output_type": "stream",
     "text": [
      "\n"
     ]
    },
    {
     "name": "stdout",
     "output_type": "stream",
     "text": [
      "0.722"
     ]
    },
    {
     "name": "stdout",
     "output_type": "stream",
     "text": [
      "\n"
     ]
    },
    {
     "name": "stderr",
     "output_type": "stream",
     "text": [
      "WARNING:root:TimeoutError occurred at train() : "
     ]
    },
    {
     "name": "stderr",
     "output_type": "stream",
     "text": [
      "\n"
     ]
    },
    {
     "name": "stdout",
     "output_type": "stream",
     "text": [
      "<class 'autokeras.image.image_supervised.ImageClassifier'>"
     ]
    },
    {
     "name": "stdout",
     "output_type": "stream",
     "text": [
      "\n"
     ]
    },
    {
     "name": "stdout",
     "output_type": "stream",
     "text": [
      "0.101"
     ]
    },
    {
     "name": "stdout",
     "output_type": "stream",
     "text": [
      "\n"
     ]
    },
    {
     "name": "stderr",
     "output_type": "stream",
     "text": [
      "\r",
      " 67%|██████▋   | 4/6 [53:42:33<26:27:35, 47627.83s/it]"
     ]
    },
    {
     "name": "stdout",
     "output_type": "stream",
     "text": [
      "\n"
     ]
    },
    {
     "name": "stdout",
     "output_type": "stream",
     "text": [
      "127.65 minutes have elapsed. TPOT will close down.\n",
      "TPOT closed during evaluation in one generation.\n",
      "WARNING: TPOT may not provide a good pipeline if TPOT is stopped/interrupted in a early generation."
     ]
    },
    {
     "name": "stdout",
     "output_type": "stream",
     "text": [
      "\n"
     ]
    },
    {
     "name": "stdout",
     "output_type": "stream",
     "text": [
      "\n"
     ]
    },
    {
     "name": "stdout",
     "output_type": "stream",
     "text": [
      "\n",
      "TPOT closed prematurely. Will use the current best pipeline."
     ]
    },
    {
     "name": "stdout",
     "output_type": "stream",
     "text": [
      "\n"
     ]
    },
    {
     "name": "stdout",
     "output_type": "stream",
     "text": [
      "Best pipeline:"
     ]
    },
    {
     "name": "stdout",
     "output_type": "stream",
     "text": [
      " "
     ]
    },
    {
     "name": "stdout",
     "output_type": "stream",
     "text": [
      "LogisticRegression(input_matrix, C=25.0, dual=False, penalty=l1)"
     ]
    },
    {
     "name": "stdout",
     "output_type": "stream",
     "text": [
      "\n"
     ]
    },
    {
     "name": "stdout",
     "output_type": "stream",
     "text": [
      "<class 'tpot.tpot.TPOTClassifier'>"
     ]
    },
    {
     "name": "stdout",
     "output_type": "stream",
     "text": [
      "\n"
     ]
    },
    {
     "name": "stdout",
     "output_type": "stream",
     "text": [
      "0.702"
     ]
    },
    {
     "name": "stdout",
     "output_type": "stream",
     "text": [
      "\n"
     ]
    },
    {
     "name": "stdout",
     "output_type": "stream",
     "text": [
      "\n"
     ]
    },
    {
     "name": "stdout",
     "output_type": "stream",
     "text": [
      "135.60 minutes have elapsed. TPOT will close down.\n",
      "TPOT closed during evaluation in one generation.\n",
      "WARNING: TPOT may not provide a good pipeline if TPOT is stopped/interrupted in a early generation."
     ]
    },
    {
     "name": "stdout",
     "output_type": "stream",
     "text": [
      "\n"
     ]
    },
    {
     "name": "stdout",
     "output_type": "stream",
     "text": [
      "\n"
     ]
    },
    {
     "name": "stdout",
     "output_type": "stream",
     "text": [
      "\n",
      "TPOT closed prematurely. Will use the current best pipeline."
     ]
    },
    {
     "name": "stdout",
     "output_type": "stream",
     "text": [
      "\n"
     ]
    },
    {
     "name": "stdout",
     "output_type": "stream",
     "text": [
      "Best pipeline:"
     ]
    },
    {
     "name": "stdout",
     "output_type": "stream",
     "text": [
      " "
     ]
    },
    {
     "name": "stdout",
     "output_type": "stream",
     "text": [
      "ExtraTreesClassifier(ZeroCount(input_matrix), bootstrap=True, criterion=gini, max_features=0.8, min_samples_leaf=1, min_samples_split=11, n_estimators=100)"
     ]
    },
    {
     "name": "stdout",
     "output_type": "stream",
     "text": [
      "\n"
     ]
    },
    {
     "name": "stdout",
     "output_type": "stream",
     "text": [
      "<class 'tpot.tpot.TPOTClassifier'>"
     ]
    },
    {
     "name": "stdout",
     "output_type": "stream",
     "text": [
      "\n"
     ]
    },
    {
     "name": "stdout",
     "output_type": "stream",
     "text": [
      "0.232"
     ]
    },
    {
     "name": "stdout",
     "output_type": "stream",
     "text": [
      "\n"
     ]
    },
    {
     "name": "stdout",
     "output_type": "stream",
     "text": [
      "Checking whether there is an H2O instance running at http://localhost:54321 "
     ]
    },
    {
     "name": "stdout",
     "output_type": "stream",
     "text": [
      "."
     ]
    },
    {
     "name": "stdout",
     "output_type": "stream",
     "text": [
      "."
     ]
    },
    {
     "name": "stdout",
     "output_type": "stream",
     "text": [
      "."
     ]
    },
    {
     "name": "stdout",
     "output_type": "stream",
     "text": [
      "."
     ]
    },
    {
     "name": "stdout",
     "output_type": "stream",
     "text": [
      "."
     ]
    },
    {
     "name": "stdout",
     "output_type": "stream",
     "text": [
      " not found."
     ]
    },
    {
     "name": "stdout",
     "output_type": "stream",
     "text": [
      "\n"
     ]
    },
    {
     "name": "stdout",
     "output_type": "stream",
     "text": [
      "Attempting to start a local H2O server..."
     ]
    },
    {
     "name": "stdout",
     "output_type": "stream",
     "text": [
      "\n"
     ]
    },
    {
     "name": "stdout",
     "output_type": "stream",
     "text": [
      "  Java Version: openjdk version \"11.0.2\" 2019-01-15; OpenJDK Runtime Environment 18.9 (build 11.0.2+9); OpenJDK 64-Bit Server VM 18.9 (build 11.0.2+9, mixed mode)"
     ]
    },
    {
     "name": "stdout",
     "output_type": "stream",
     "text": [
      "\n"
     ]
    },
    {
     "name": "stdout",
     "output_type": "stream",
     "text": [
      "  Starting server from /wrk/users/thalvari/dpEmu-AutoML/venv/lib/python3.6/site-packages/h2o/backend/bin/h2o.jar"
     ]
    },
    {
     "name": "stdout",
     "output_type": "stream",
     "text": [
      "\n"
     ]
    },
    {
     "name": "stdout",
     "output_type": "stream",
     "text": [
      "  Ice root: /wrk/users/thalvari/tmpml9ps4_x"
     ]
    },
    {
     "name": "stdout",
     "output_type": "stream",
     "text": [
      "\n"
     ]
    },
    {
     "name": "stdout",
     "output_type": "stream",
     "text": [
      "  JVM stdout: /wrk/users/thalvari/tmpml9ps4_x/h2o_thalvari_started_from_python.out"
     ]
    },
    {
     "name": "stdout",
     "output_type": "stream",
     "text": [
      "\n"
     ]
    },
    {
     "name": "stdout",
     "output_type": "stream",
     "text": [
      "  JVM stderr: /wrk/users/thalvari/tmpml9ps4_x/h2o_thalvari_started_from_python.err"
     ]
    },
    {
     "name": "stdout",
     "output_type": "stream",
     "text": [
      "\n"
     ]
    },
    {
     "name": "stdout",
     "output_type": "stream",
     "text": [
      "  Server is running at http://127.0.0.1:54321"
     ]
    },
    {
     "name": "stdout",
     "output_type": "stream",
     "text": [
      "\n"
     ]
    },
    {
     "name": "stdout",
     "output_type": "stream",
     "text": [
      "Connecting to H2O server at http://127.0.0.1:54321 .."
     ]
    },
    {
     "name": "stdout",
     "output_type": "stream",
     "text": [
      "."
     ]
    },
    {
     "name": "stdout",
     "output_type": "stream",
     "text": [
      " successful."
     ]
    },
    {
     "name": "stdout",
     "output_type": "stream",
     "text": [
      "\n"
     ]
    },
    {
     "data": {
      "text/html": [
       "<div style=\"overflow:auto\"><table style=\"width:50%\"><tr><td>H2O cluster uptime:</td>\n",
       "<td>01 secs</td></tr>\n",
       "<tr><td>H2O cluster timezone:</td>\n",
       "<td>Europe/Helsinki</td></tr>\n",
       "<tr><td>H2O data parsing timezone:</td>\n",
       "<td>UTC</td></tr>\n",
       "<tr><td>H2O cluster version:</td>\n",
       "<td>3.26.0.10</td></tr>\n",
       "<tr><td>H2O cluster version age:</td>\n",
       "<td>11 days </td></tr>\n",
       "<tr><td>H2O cluster name:</td>\n",
       "<td>#953083341</td></tr>\n",
       "<tr><td>H2O cluster total nodes:</td>\n",
       "<td>1</td></tr>\n",
       "<tr><td>H2O cluster free memory:</td>\n",
       "<td>29.97 Gb</td></tr>\n",
       "<tr><td>H2O cluster total cores:</td>\n",
       "<td>96</td></tr>\n",
       "<tr><td>H2O cluster allowed cores:</td>\n",
       "<td>48</td></tr>\n",
       "<tr><td>H2O cluster status:</td>\n",
       "<td>accepting new members, healthy</td></tr>\n",
       "<tr><td>H2O connection url:</td>\n",
       "<td>http://127.0.0.1:54321</td></tr>\n",
       "<tr><td>H2O connection proxy:</td>\n",
       "<td>{'http': None, 'https': None}</td></tr>\n",
       "<tr><td>H2O internal security:</td>\n",
       "<td>False</td></tr>\n",
       "<tr><td>H2O API Extensions:</td>\n",
       "<td>Amazon S3, XGBoost, Algos, AutoML, Core V3, TargetEncoder, Core V4</td></tr>\n",
       "<tr><td>Python version:</td>\n",
       "<td>3.6.6 final</td></tr></table></div>"
      ],
      "text/plain": [
       "--------------------------  ------------------------------------------------------------------\n",
       "H2O cluster uptime:         01 secs\n",
       "H2O cluster timezone:       Europe/Helsinki\n",
       "H2O data parsing timezone:  UTC\n",
       "H2O cluster version:        3.26.0.10\n",
       "H2O cluster version age:    11 days\n",
       "H2O cluster name:           #953083341\n",
       "H2O cluster total nodes:    1\n",
       "H2O cluster free memory:    29.97 Gb\n",
       "H2O cluster total cores:    96\n",
       "H2O cluster allowed cores:  48\n",
       "H2O cluster status:         accepting new members, healthy\n",
       "H2O connection url:         http://127.0.0.1:54321\n",
       "H2O connection proxy:       {'http': None, 'https': None}\n",
       "H2O internal security:      False\n",
       "H2O API Extensions:         Amazon S3, XGBoost, Algos, AutoML, Core V3, TargetEncoder, Core V4\n",
       "Python version:             3.6.6 final\n",
       "--------------------------  ------------------------------------------------------------------"
      ]
     },
     "metadata": {},
     "output_type": "display_data"
    },
    {
     "name": "stdout",
     "output_type": "stream",
     "text": [
      "H2O session _sid_b02a closed."
     ]
    },
    {
     "name": "stdout",
     "output_type": "stream",
     "text": [
      "\n"
     ]
    },
    {
     "name": "stdout",
     "output_type": "stream",
     "text": [
      "<class 'h2o.automl.autoh2o.H2OAutoML'>"
     ]
    },
    {
     "name": "stdout",
     "output_type": "stream",
     "text": [
      "\n"
     ]
    },
    {
     "name": "stdout",
     "output_type": "stream",
     "text": [
      "0.694"
     ]
    },
    {
     "name": "stdout",
     "output_type": "stream",
     "text": [
      "\n"
     ]
    },
    {
     "name": "stdout",
     "output_type": "stream",
     "text": [
      "Checking whether there is an H2O instance running at http://localhost:54321 "
     ]
    },
    {
     "name": "stdout",
     "output_type": "stream",
     "text": [
      "."
     ]
    },
    {
     "name": "stdout",
     "output_type": "stream",
     "text": [
      "."
     ]
    },
    {
     "name": "stdout",
     "output_type": "stream",
     "text": [
      "."
     ]
    },
    {
     "name": "stdout",
     "output_type": "stream",
     "text": [
      "."
     ]
    },
    {
     "name": "stdout",
     "output_type": "stream",
     "text": [
      "."
     ]
    },
    {
     "name": "stdout",
     "output_type": "stream",
     "text": [
      " not found."
     ]
    },
    {
     "name": "stdout",
     "output_type": "stream",
     "text": [
      "\n"
     ]
    },
    {
     "name": "stdout",
     "output_type": "stream",
     "text": [
      "Attempting to start a local H2O server..."
     ]
    },
    {
     "name": "stdout",
     "output_type": "stream",
     "text": [
      "\n"
     ]
    },
    {
     "name": "stdout",
     "output_type": "stream",
     "text": [
      "  Java Version: openjdk version \"11.0.2\" 2019-01-15; OpenJDK Runtime Environment 18.9 (build 11.0.2+9); OpenJDK 64-Bit Server VM 18.9 (build 11.0.2+9, mixed mode)"
     ]
    },
    {
     "name": "stdout",
     "output_type": "stream",
     "text": [
      "\n"
     ]
    },
    {
     "name": "stdout",
     "output_type": "stream",
     "text": [
      "  Starting server from /wrk/users/thalvari/dpEmu-AutoML/venv/lib/python3.6/site-packages/h2o/backend/bin/h2o.jar"
     ]
    },
    {
     "name": "stdout",
     "output_type": "stream",
     "text": [
      "\n"
     ]
    },
    {
     "name": "stdout",
     "output_type": "stream",
     "text": [
      "  Ice root: /wrk/users/thalvari/tmpmg5mjmn6"
     ]
    },
    {
     "name": "stdout",
     "output_type": "stream",
     "text": [
      "\n"
     ]
    },
    {
     "name": "stdout",
     "output_type": "stream",
     "text": [
      "  JVM stdout: /wrk/users/thalvari/tmpmg5mjmn6/h2o_thalvari_started_from_python.out"
     ]
    },
    {
     "name": "stdout",
     "output_type": "stream",
     "text": [
      "\n"
     ]
    },
    {
     "name": "stdout",
     "output_type": "stream",
     "text": [
      "  JVM stderr: /wrk/users/thalvari/tmpmg5mjmn6/h2o_thalvari_started_from_python.err"
     ]
    },
    {
     "name": "stdout",
     "output_type": "stream",
     "text": [
      "\n"
     ]
    },
    {
     "name": "stdout",
     "output_type": "stream",
     "text": [
      "  Server is running at http://127.0.0.1:54321"
     ]
    },
    {
     "name": "stdout",
     "output_type": "stream",
     "text": [
      "\n"
     ]
    },
    {
     "name": "stdout",
     "output_type": "stream",
     "text": [
      "Connecting to H2O server at http://127.0.0.1:54321 .."
     ]
    },
    {
     "name": "stdout",
     "output_type": "stream",
     "text": [
      "."
     ]
    },
    {
     "name": "stdout",
     "output_type": "stream",
     "text": [
      " successful."
     ]
    },
    {
     "name": "stdout",
     "output_type": "stream",
     "text": [
      "\n"
     ]
    },
    {
     "data": {
      "text/html": [
       "<div style=\"overflow:auto\"><table style=\"width:50%\"><tr><td>H2O cluster uptime:</td>\n",
       "<td>01 secs</td></tr>\n",
       "<tr><td>H2O cluster timezone:</td>\n",
       "<td>Europe/Helsinki</td></tr>\n",
       "<tr><td>H2O data parsing timezone:</td>\n",
       "<td>UTC</td></tr>\n",
       "<tr><td>H2O cluster version:</td>\n",
       "<td>3.26.0.10</td></tr>\n",
       "<tr><td>H2O cluster version age:</td>\n",
       "<td>11 days </td></tr>\n",
       "<tr><td>H2O cluster name:</td>\n",
       "<td>#740664899</td></tr>\n",
       "<tr><td>H2O cluster total nodes:</td>\n",
       "<td>1</td></tr>\n",
       "<tr><td>H2O cluster free memory:</td>\n",
       "<td>29.97 Gb</td></tr>\n",
       "<tr><td>H2O cluster total cores:</td>\n",
       "<td>96</td></tr>\n",
       "<tr><td>H2O cluster allowed cores:</td>\n",
       "<td>48</td></tr>\n",
       "<tr><td>H2O cluster status:</td>\n",
       "<td>accepting new members, healthy</td></tr>\n",
       "<tr><td>H2O connection url:</td>\n",
       "<td>http://127.0.0.1:54321</td></tr>\n",
       "<tr><td>H2O connection proxy:</td>\n",
       "<td>{'http': None, 'https': None}</td></tr>\n",
       "<tr><td>H2O internal security:</td>\n",
       "<td>False</td></tr>\n",
       "<tr><td>H2O API Extensions:</td>\n",
       "<td>Amazon S3, XGBoost, Algos, AutoML, Core V3, TargetEncoder, Core V4</td></tr>\n",
       "<tr><td>Python version:</td>\n",
       "<td>3.6.6 final</td></tr></table></div>"
      ],
      "text/plain": [
       "--------------------------  ------------------------------------------------------------------\n",
       "H2O cluster uptime:         01 secs\n",
       "H2O cluster timezone:       Europe/Helsinki\n",
       "H2O data parsing timezone:  UTC\n",
       "H2O cluster version:        3.26.0.10\n",
       "H2O cluster version age:    11 days\n",
       "H2O cluster name:           #740664899\n",
       "H2O cluster total nodes:    1\n",
       "H2O cluster free memory:    29.97 Gb\n",
       "H2O cluster total cores:    96\n",
       "H2O cluster allowed cores:  48\n",
       "H2O cluster status:         accepting new members, healthy\n",
       "H2O connection url:         http://127.0.0.1:54321\n",
       "H2O connection proxy:       {'http': None, 'https': None}\n",
       "H2O internal security:      False\n",
       "H2O API Extensions:         Amazon S3, XGBoost, Algos, AutoML, Core V3, TargetEncoder, Core V4\n",
       "Python version:             3.6.6 final\n",
       "--------------------------  ------------------------------------------------------------------"
      ]
     },
     "metadata": {},
     "output_type": "display_data"
    },
    {
     "name": "stdout",
     "output_type": "stream",
     "text": [
      "H2O session _sid_b0f5 closed."
     ]
    },
    {
     "name": "stdout",
     "output_type": "stream",
     "text": [
      "\n"
     ]
    },
    {
     "name": "stdout",
     "output_type": "stream",
     "text": [
      "<class 'h2o.automl.autoh2o.H2OAutoML'>"
     ]
    },
    {
     "name": "stdout",
     "output_type": "stream",
     "text": [
      "\n"
     ]
    },
    {
     "name": "stdout",
     "output_type": "stream",
     "text": [
      "0.244"
     ]
    },
    {
     "name": "stdout",
     "output_type": "stream",
     "text": [
      "\n"
     ]
    },
    {
     "name": "stderr",
     "output_type": "stream",
     "text": [
      "WARNING:root:TimeoutError occurred at train() : "
     ]
    },
    {
     "name": "stderr",
     "output_type": "stream",
     "text": [
      "\n"
     ]
    },
    {
     "name": "stdout",
     "output_type": "stream",
     "text": [
      "<class 'autokeras.image.image_supervised.ImageClassifier'>"
     ]
    },
    {
     "name": "stdout",
     "output_type": "stream",
     "text": [
      "\n"
     ]
    },
    {
     "name": "stdout",
     "output_type": "stream",
     "text": [
      "0.668"
     ]
    },
    {
     "name": "stdout",
     "output_type": "stream",
     "text": [
      "\n"
     ]
    },
    {
     "name": "stderr",
     "output_type": "stream",
     "text": [
      "WARNING:root:TimeoutError occurred at train() : "
     ]
    },
    {
     "name": "stderr",
     "output_type": "stream",
     "text": [
      "\n"
     ]
    },
    {
     "name": "stdout",
     "output_type": "stream",
     "text": [
      "<class 'autokeras.image.image_supervised.ImageClassifier'>"
     ]
    },
    {
     "name": "stdout",
     "output_type": "stream",
     "text": [
      "\n"
     ]
    },
    {
     "name": "stdout",
     "output_type": "stream",
     "text": [
      "0.102"
     ]
    },
    {
     "name": "stdout",
     "output_type": "stream",
     "text": [
      "\n"
     ]
    },
    {
     "name": "stderr",
     "output_type": "stream",
     "text": [
      "\r",
      " 83%|████████▎ | 5/6 [66:32:26<13:06:37, 47197.19s/it]"
     ]
    },
    {
     "name": "stdout",
     "output_type": "stream",
     "text": [
      "\n"
     ]
    },
    {
     "name": "stdout",
     "output_type": "stream",
     "text": [
      "135.07 minutes have elapsed. TPOT will close down.\n",
      "TPOT closed during evaluation in one generation.\n",
      "WARNING: TPOT may not provide a good pipeline if TPOT is stopped/interrupted in a early generation."
     ]
    },
    {
     "name": "stdout",
     "output_type": "stream",
     "text": [
      "\n"
     ]
    },
    {
     "name": "stdout",
     "output_type": "stream",
     "text": [
      "\n"
     ]
    },
    {
     "name": "stdout",
     "output_type": "stream",
     "text": [
      "\n",
      "TPOT closed prematurely. Will use the current best pipeline."
     ]
    },
    {
     "name": "stdout",
     "output_type": "stream",
     "text": [
      "\n"
     ]
    },
    {
     "name": "stdout",
     "output_type": "stream",
     "text": [
      "Best pipeline:"
     ]
    },
    {
     "name": "stdout",
     "output_type": "stream",
     "text": [
      " "
     ]
    },
    {
     "name": "stdout",
     "output_type": "stream",
     "text": [
      "LogisticRegression(input_matrix, C=25.0, dual=False, penalty=l1)"
     ]
    },
    {
     "name": "stdout",
     "output_type": "stream",
     "text": [
      "\n"
     ]
    },
    {
     "name": "stdout",
     "output_type": "stream",
     "text": [
      "<class 'tpot.tpot.TPOTClassifier'>"
     ]
    },
    {
     "name": "stdout",
     "output_type": "stream",
     "text": [
      "\n"
     ]
    },
    {
     "name": "stdout",
     "output_type": "stream",
     "text": [
      "0.666"
     ]
    },
    {
     "name": "stdout",
     "output_type": "stream",
     "text": [
      "\n"
     ]
    },
    {
     "name": "stdout",
     "output_type": "stream",
     "text": [
      "\n"
     ]
    },
    {
     "name": "stdout",
     "output_type": "stream",
     "text": [
      "207.23 minutes have elapsed. TPOT will close down.\n",
      "TPOT closed during evaluation in one generation.\n",
      "WARNING: TPOT may not provide a good pipeline if TPOT is stopped/interrupted in a early generation."
     ]
    },
    {
     "name": "stdout",
     "output_type": "stream",
     "text": [
      "\n"
     ]
    },
    {
     "name": "stdout",
     "output_type": "stream",
     "text": [
      "\n"
     ]
    },
    {
     "name": "stdout",
     "output_type": "stream",
     "text": [
      "\n",
      "TPOT closed prematurely. Will use the current best pipeline."
     ]
    },
    {
     "name": "stdout",
     "output_type": "stream",
     "text": [
      "\n"
     ]
    },
    {
     "name": "stdout",
     "output_type": "stream",
     "text": [
      "Best pipeline:"
     ]
    },
    {
     "name": "stdout",
     "output_type": "stream",
     "text": [
      " "
     ]
    },
    {
     "name": "stdout",
     "output_type": "stream",
     "text": [
      "ExtraTreesClassifier(ZeroCount(input_matrix), bootstrap=True, criterion=gini, max_features=0.8, min_samples_leaf=1, min_samples_split=11, n_estimators=100)"
     ]
    },
    {
     "name": "stdout",
     "output_type": "stream",
     "text": [
      "\n"
     ]
    },
    {
     "name": "stdout",
     "output_type": "stream",
     "text": [
      "<class 'tpot.tpot.TPOTClassifier'>"
     ]
    },
    {
     "name": "stdout",
     "output_type": "stream",
     "text": [
      "\n"
     ]
    },
    {
     "name": "stdout",
     "output_type": "stream",
     "text": [
      "0.207"
     ]
    },
    {
     "name": "stdout",
     "output_type": "stream",
     "text": [
      "\n"
     ]
    },
    {
     "name": "stdout",
     "output_type": "stream",
     "text": [
      "Checking whether there is an H2O instance running at http://localhost:54321 "
     ]
    },
    {
     "name": "stdout",
     "output_type": "stream",
     "text": [
      "."
     ]
    },
    {
     "name": "stdout",
     "output_type": "stream",
     "text": [
      "."
     ]
    },
    {
     "name": "stdout",
     "output_type": "stream",
     "text": [
      "."
     ]
    },
    {
     "name": "stdout",
     "output_type": "stream",
     "text": [
      "."
     ]
    },
    {
     "name": "stdout",
     "output_type": "stream",
     "text": [
      "."
     ]
    },
    {
     "name": "stdout",
     "output_type": "stream",
     "text": [
      " not found."
     ]
    },
    {
     "name": "stdout",
     "output_type": "stream",
     "text": [
      "\n"
     ]
    },
    {
     "name": "stdout",
     "output_type": "stream",
     "text": [
      "Attempting to start a local H2O server..."
     ]
    },
    {
     "name": "stdout",
     "output_type": "stream",
     "text": [
      "\n"
     ]
    },
    {
     "name": "stdout",
     "output_type": "stream",
     "text": [
      "  Java Version: openjdk version \"11.0.2\" 2019-01-15; OpenJDK Runtime Environment 18.9 (build 11.0.2+9); OpenJDK 64-Bit Server VM 18.9 (build 11.0.2+9, mixed mode)"
     ]
    },
    {
     "name": "stdout",
     "output_type": "stream",
     "text": [
      "\n"
     ]
    },
    {
     "name": "stdout",
     "output_type": "stream",
     "text": [
      "  Starting server from /wrk/users/thalvari/dpEmu-AutoML/venv/lib/python3.6/site-packages/h2o/backend/bin/h2o.jar"
     ]
    },
    {
     "name": "stdout",
     "output_type": "stream",
     "text": [
      "\n"
     ]
    },
    {
     "name": "stdout",
     "output_type": "stream",
     "text": [
      "  Ice root: /wrk/users/thalvari/tmpdlmthky9"
     ]
    },
    {
     "name": "stdout",
     "output_type": "stream",
     "text": [
      "\n"
     ]
    },
    {
     "name": "stdout",
     "output_type": "stream",
     "text": [
      "  JVM stdout: /wrk/users/thalvari/tmpdlmthky9/h2o_thalvari_started_from_python.out"
     ]
    },
    {
     "name": "stdout",
     "output_type": "stream",
     "text": [
      "\n"
     ]
    },
    {
     "name": "stdout",
     "output_type": "stream",
     "text": [
      "  JVM stderr: /wrk/users/thalvari/tmpdlmthky9/h2o_thalvari_started_from_python.err"
     ]
    },
    {
     "name": "stdout",
     "output_type": "stream",
     "text": [
      "\n"
     ]
    },
    {
     "name": "stdout",
     "output_type": "stream",
     "text": [
      "  Server is running at http://127.0.0.1:54321"
     ]
    },
    {
     "name": "stdout",
     "output_type": "stream",
     "text": [
      "\n"
     ]
    },
    {
     "name": "stdout",
     "output_type": "stream",
     "text": [
      "Connecting to H2O server at http://127.0.0.1:54321 .."
     ]
    },
    {
     "name": "stdout",
     "output_type": "stream",
     "text": [
      "."
     ]
    },
    {
     "name": "stdout",
     "output_type": "stream",
     "text": [
      " successful."
     ]
    },
    {
     "name": "stdout",
     "output_type": "stream",
     "text": [
      "\n"
     ]
    },
    {
     "data": {
      "text/html": [
       "<div style=\"overflow:auto\"><table style=\"width:50%\"><tr><td>H2O cluster uptime:</td>\n",
       "<td>01 secs</td></tr>\n",
       "<tr><td>H2O cluster timezone:</td>\n",
       "<td>Europe/Helsinki</td></tr>\n",
       "<tr><td>H2O data parsing timezone:</td>\n",
       "<td>UTC</td></tr>\n",
       "<tr><td>H2O cluster version:</td>\n",
       "<td>3.26.0.10</td></tr>\n",
       "<tr><td>H2O cluster version age:</td>\n",
       "<td>11 days </td></tr>\n",
       "<tr><td>H2O cluster name:</td>\n",
       "<td>#508425583</td></tr>\n",
       "<tr><td>H2O cluster total nodes:</td>\n",
       "<td>1</td></tr>\n",
       "<tr><td>H2O cluster free memory:</td>\n",
       "<td>29.97 Gb</td></tr>\n",
       "<tr><td>H2O cluster total cores:</td>\n",
       "<td>96</td></tr>\n",
       "<tr><td>H2O cluster allowed cores:</td>\n",
       "<td>48</td></tr>\n",
       "<tr><td>H2O cluster status:</td>\n",
       "<td>accepting new members, healthy</td></tr>\n",
       "<tr><td>H2O connection url:</td>\n",
       "<td>http://127.0.0.1:54321</td></tr>\n",
       "<tr><td>H2O connection proxy:</td>\n",
       "<td>{'http': None, 'https': None}</td></tr>\n",
       "<tr><td>H2O internal security:</td>\n",
       "<td>False</td></tr>\n",
       "<tr><td>H2O API Extensions:</td>\n",
       "<td>Amazon S3, XGBoost, Algos, AutoML, Core V3, TargetEncoder, Core V4</td></tr>\n",
       "<tr><td>Python version:</td>\n",
       "<td>3.6.6 final</td></tr></table></div>"
      ],
      "text/plain": [
       "--------------------------  ------------------------------------------------------------------\n",
       "H2O cluster uptime:         01 secs\n",
       "H2O cluster timezone:       Europe/Helsinki\n",
       "H2O data parsing timezone:  UTC\n",
       "H2O cluster version:        3.26.0.10\n",
       "H2O cluster version age:    11 days\n",
       "H2O cluster name:           #508425583\n",
       "H2O cluster total nodes:    1\n",
       "H2O cluster free memory:    29.97 Gb\n",
       "H2O cluster total cores:    96\n",
       "H2O cluster allowed cores:  48\n",
       "H2O cluster status:         accepting new members, healthy\n",
       "H2O connection url:         http://127.0.0.1:54321\n",
       "H2O connection proxy:       {'http': None, 'https': None}\n",
       "H2O internal security:      False\n",
       "H2O API Extensions:         Amazon S3, XGBoost, Algos, AutoML, Core V3, TargetEncoder, Core V4\n",
       "Python version:             3.6.6 final\n",
       "--------------------------  ------------------------------------------------------------------"
      ]
     },
     "metadata": {},
     "output_type": "display_data"
    },
    {
     "name": "stdout",
     "output_type": "stream",
     "text": [
      "H2O session _sid_ba8e closed."
     ]
    },
    {
     "name": "stdout",
     "output_type": "stream",
     "text": [
      "\n"
     ]
    },
    {
     "name": "stdout",
     "output_type": "stream",
     "text": [
      "<class 'h2o.automl.autoh2o.H2OAutoML'>"
     ]
    },
    {
     "name": "stdout",
     "output_type": "stream",
     "text": [
      "\n"
     ]
    },
    {
     "name": "stdout",
     "output_type": "stream",
     "text": [
      "0.664"
     ]
    },
    {
     "name": "stdout",
     "output_type": "stream",
     "text": [
      "\n"
     ]
    },
    {
     "name": "stdout",
     "output_type": "stream",
     "text": [
      "Checking whether there is an H2O instance running at http://localhost:54321 "
     ]
    },
    {
     "name": "stdout",
     "output_type": "stream",
     "text": [
      "."
     ]
    },
    {
     "name": "stdout",
     "output_type": "stream",
     "text": [
      "."
     ]
    },
    {
     "name": "stdout",
     "output_type": "stream",
     "text": [
      "."
     ]
    },
    {
     "name": "stdout",
     "output_type": "stream",
     "text": [
      "."
     ]
    },
    {
     "name": "stdout",
     "output_type": "stream",
     "text": [
      "."
     ]
    },
    {
     "name": "stdout",
     "output_type": "stream",
     "text": [
      " not found."
     ]
    },
    {
     "name": "stdout",
     "output_type": "stream",
     "text": [
      "\n"
     ]
    },
    {
     "name": "stdout",
     "output_type": "stream",
     "text": [
      "Attempting to start a local H2O server..."
     ]
    },
    {
     "name": "stdout",
     "output_type": "stream",
     "text": [
      "\n"
     ]
    },
    {
     "name": "stdout",
     "output_type": "stream",
     "text": [
      "  Java Version: openjdk version \"11.0.2\" 2019-01-15; OpenJDK Runtime Environment 18.9 (build 11.0.2+9); OpenJDK 64-Bit Server VM 18.9 (build 11.0.2+9, mixed mode)"
     ]
    },
    {
     "name": "stdout",
     "output_type": "stream",
     "text": [
      "\n"
     ]
    },
    {
     "name": "stdout",
     "output_type": "stream",
     "text": [
      "  Starting server from /wrk/users/thalvari/dpEmu-AutoML/venv/lib/python3.6/site-packages/h2o/backend/bin/h2o.jar"
     ]
    },
    {
     "name": "stdout",
     "output_type": "stream",
     "text": [
      "\n"
     ]
    },
    {
     "name": "stdout",
     "output_type": "stream",
     "text": [
      "  Ice root: /wrk/users/thalvari/tmpjb8rqble"
     ]
    },
    {
     "name": "stdout",
     "output_type": "stream",
     "text": [
      "\n"
     ]
    },
    {
     "name": "stdout",
     "output_type": "stream",
     "text": [
      "  JVM stdout: /wrk/users/thalvari/tmpjb8rqble/h2o_thalvari_started_from_python.out"
     ]
    },
    {
     "name": "stdout",
     "output_type": "stream",
     "text": [
      "\n"
     ]
    },
    {
     "name": "stdout",
     "output_type": "stream",
     "text": [
      "  JVM stderr: /wrk/users/thalvari/tmpjb8rqble/h2o_thalvari_started_from_python.err"
     ]
    },
    {
     "name": "stdout",
     "output_type": "stream",
     "text": [
      "\n"
     ]
    },
    {
     "name": "stdout",
     "output_type": "stream",
     "text": [
      "  Server is running at http://127.0.0.1:54321"
     ]
    },
    {
     "name": "stdout",
     "output_type": "stream",
     "text": [
      "\n"
     ]
    },
    {
     "name": "stdout",
     "output_type": "stream",
     "text": [
      "Connecting to H2O server at http://127.0.0.1:54321 .."
     ]
    },
    {
     "name": "stdout",
     "output_type": "stream",
     "text": [
      "."
     ]
    },
    {
     "name": "stdout",
     "output_type": "stream",
     "text": [
      " successful."
     ]
    },
    {
     "name": "stdout",
     "output_type": "stream",
     "text": [
      "\n"
     ]
    },
    {
     "data": {
      "text/html": [
       "<div style=\"overflow:auto\"><table style=\"width:50%\"><tr><td>H2O cluster uptime:</td>\n",
       "<td>01 secs</td></tr>\n",
       "<tr><td>H2O cluster timezone:</td>\n",
       "<td>Europe/Helsinki</td></tr>\n",
       "<tr><td>H2O data parsing timezone:</td>\n",
       "<td>UTC</td></tr>\n",
       "<tr><td>H2O cluster version:</td>\n",
       "<td>3.26.0.10</td></tr>\n",
       "<tr><td>H2O cluster version age:</td>\n",
       "<td>11 days </td></tr>\n",
       "<tr><td>H2O cluster name:</td>\n",
       "<td>#318782547</td></tr>\n",
       "<tr><td>H2O cluster total nodes:</td>\n",
       "<td>1</td></tr>\n",
       "<tr><td>H2O cluster free memory:</td>\n",
       "<td>29.97 Gb</td></tr>\n",
       "<tr><td>H2O cluster total cores:</td>\n",
       "<td>96</td></tr>\n",
       "<tr><td>H2O cluster allowed cores:</td>\n",
       "<td>48</td></tr>\n",
       "<tr><td>H2O cluster status:</td>\n",
       "<td>accepting new members, healthy</td></tr>\n",
       "<tr><td>H2O connection url:</td>\n",
       "<td>http://127.0.0.1:54321</td></tr>\n",
       "<tr><td>H2O connection proxy:</td>\n",
       "<td>{'http': None, 'https': None}</td></tr>\n",
       "<tr><td>H2O internal security:</td>\n",
       "<td>False</td></tr>\n",
       "<tr><td>H2O API Extensions:</td>\n",
       "<td>Amazon S3, XGBoost, Algos, AutoML, Core V3, TargetEncoder, Core V4</td></tr>\n",
       "<tr><td>Python version:</td>\n",
       "<td>3.6.6 final</td></tr></table></div>"
      ],
      "text/plain": [
       "--------------------------  ------------------------------------------------------------------\n",
       "H2O cluster uptime:         01 secs\n",
       "H2O cluster timezone:       Europe/Helsinki\n",
       "H2O data parsing timezone:  UTC\n",
       "H2O cluster version:        3.26.0.10\n",
       "H2O cluster version age:    11 days\n",
       "H2O cluster name:           #318782547\n",
       "H2O cluster total nodes:    1\n",
       "H2O cluster free memory:    29.97 Gb\n",
       "H2O cluster total cores:    96\n",
       "H2O cluster allowed cores:  48\n",
       "H2O cluster status:         accepting new members, healthy\n",
       "H2O connection url:         http://127.0.0.1:54321\n",
       "H2O connection proxy:       {'http': None, 'https': None}\n",
       "H2O internal security:      False\n",
       "H2O API Extensions:         Amazon S3, XGBoost, Algos, AutoML, Core V3, TargetEncoder, Core V4\n",
       "Python version:             3.6.6 final\n",
       "--------------------------  ------------------------------------------------------------------"
      ]
     },
     "metadata": {},
     "output_type": "display_data"
    },
    {
     "name": "stdout",
     "output_type": "stream",
     "text": [
      "H2O session _sid_9380 closed."
     ]
    },
    {
     "name": "stdout",
     "output_type": "stream",
     "text": [
      "\n"
     ]
    },
    {
     "name": "stdout",
     "output_type": "stream",
     "text": [
      "<class 'h2o.automl.autoh2o.H2OAutoML'>"
     ]
    },
    {
     "name": "stdout",
     "output_type": "stream",
     "text": [
      "\n"
     ]
    },
    {
     "name": "stdout",
     "output_type": "stream",
     "text": [
      "0.206"
     ]
    },
    {
     "name": "stdout",
     "output_type": "stream",
     "text": [
      "\n"
     ]
    },
    {
     "name": "stderr",
     "output_type": "stream",
     "text": [
      "WARNING:root:TimeoutError occurred at train() : "
     ]
    },
    {
     "name": "stderr",
     "output_type": "stream",
     "text": [
      "\n"
     ]
    },
    {
     "name": "stdout",
     "output_type": "stream",
     "text": [
      "<class 'autokeras.image.image_supervised.ImageClassifier'>"
     ]
    },
    {
     "name": "stdout",
     "output_type": "stream",
     "text": [
      "\n"
     ]
    },
    {
     "name": "stdout",
     "output_type": "stream",
     "text": [
      "0.632"
     ]
    },
    {
     "name": "stdout",
     "output_type": "stream",
     "text": [
      "\n"
     ]
    },
    {
     "name": "stderr",
     "output_type": "stream",
     "text": [
      "WARNING:root:TimeoutError occurred at train() : "
     ]
    },
    {
     "name": "stderr",
     "output_type": "stream",
     "text": [
      "\n"
     ]
    },
    {
     "name": "stdout",
     "output_type": "stream",
     "text": [
      "<class 'autokeras.image.image_supervised.ImageClassifier'>"
     ]
    },
    {
     "name": "stdout",
     "output_type": "stream",
     "text": [
      "\n"
     ]
    },
    {
     "name": "stdout",
     "output_type": "stream",
     "text": [
      "0.103"
     ]
    },
    {
     "name": "stdout",
     "output_type": "stream",
     "text": [
      "\n"
     ]
    },
    {
     "name": "stderr",
     "output_type": "stream",
     "text": [
      "\r",
      "100%|██████████| 6/6 [80:44:08<00:00, 48368.70s/it]   "
     ]
    },
    {
     "name": "stderr",
     "output_type": "stream",
     "text": [
      "\r",
      "100%|██████████| 6/6 [80:44:08<00:00, 48441.42s/it]"
     ]
    },
    {
     "name": "stderr",
     "output_type": "stream",
     "text": [
      "\n"
     ]
    }
   ],
   "source": [
    "train_data, test_data, train_labels, test_labels = get_data()\n",
    "\n",
    "df = runner.run(\n",
    "    train_data=train_data,\n",
    "    test_data=test_data,\n",
    "    preproc=Preprocessor,\n",
    "    preproc_params=None,\n",
    "    err_root_node=get_err_root_node(),\n",
    "    # err_params_list=get_err_params_list(),\n",
    "    err_params_list=get_err_params_list(train_data),\n",
    "    model_params_dict_list=get_model_params_dict_list(train_labels, test_labels),\n",
    "    n_processes=1\n",
    ")"
   ]
  },
  {
   "cell_type": "code",
   "execution_count": 11,
   "metadata": {
    "collapsed": false,
    "papermill": {
     "duration": 1.908068,
     "end_time": "2019-11-19T09:39:16.446926",
     "exception": false,
     "start_time": "2019-11-19T09:39:14.538858",
     "status": "completed"
    },
    "pycharm": {
     "name": "#%%\n"
    },
    "tags": []
   },
   "outputs": [
    {
     "data": {
      "text/plain": [
       "'AutoKeras #1'"
      ]
     },
     "metadata": {},
     "output_type": "display_data"
    },
    {
     "data": {
      "text/html": [
       "<style  type=\"text/css\" >\n",
       "</style><table id=\"T_731da276_0ab0_11ea_b759_80000027fe80\" ><thead>    <tr>        <th class=\"col_heading level0 col0\" >std</th>        <th class=\"col_heading level0 col1\" >test_acc</th>        <th class=\"col_heading level0 col2\" >train_acc</th>        <th class=\"col_heading level0 col3\" >time_err</th>        <th class=\"col_heading level0 col4\" >time_pre</th>        <th class=\"col_heading level0 col5\" >time_mod</th>    </tr></thead><tbody>\n",
       "                <tr>\n",
       "                                <td id=\"T_731da276_0ab0_11ea_b759_80000027fe80row0_col0\" class=\"data row0 col0\" >0</td>\n",
       "                        <td id=\"T_731da276_0ab0_11ea_b759_80000027fe80row0_col1\" class=\"data row0 col1\" >0.887</td>\n",
       "                        <td id=\"T_731da276_0ab0_11ea_b759_80000027fe80row0_col2\" class=\"data row0 col2\" >0.928</td>\n",
       "                        <td id=\"T_731da276_0ab0_11ea_b759_80000027fe80row0_col3\" class=\"data row0 col3\" >5.306</td>\n",
       "                        <td id=\"T_731da276_0ab0_11ea_b759_80000027fe80row0_col4\" class=\"data row0 col4\" >0.653</td>\n",
       "                        <td id=\"T_731da276_0ab0_11ea_b759_80000027fe80row0_col5\" class=\"data row0 col5\" >7248.69</td>\n",
       "            </tr>\n",
       "            <tr>\n",
       "                                <td id=\"T_731da276_0ab0_11ea_b759_80000027fe80row1_col0\" class=\"data row1 col0\" >51</td>\n",
       "                        <td id=\"T_731da276_0ab0_11ea_b759_80000027fe80row1_col1\" class=\"data row1 col1\" >0.824</td>\n",
       "                        <td id=\"T_731da276_0ab0_11ea_b759_80000027fe80row1_col2\" class=\"data row1 col2\" >0.85</td>\n",
       "                        <td id=\"T_731da276_0ab0_11ea_b759_80000027fe80row1_col3\" class=\"data row1 col3\" >5.358</td>\n",
       "                        <td id=\"T_731da276_0ab0_11ea_b759_80000027fe80row1_col4\" class=\"data row1 col4\" >0.644</td>\n",
       "                        <td id=\"T_731da276_0ab0_11ea_b759_80000027fe80row1_col5\" class=\"data row1 col5\" >7249.27</td>\n",
       "            </tr>\n",
       "            <tr>\n",
       "                                <td id=\"T_731da276_0ab0_11ea_b759_80000027fe80row2_col0\" class=\"data row2 col0\" >102</td>\n",
       "                        <td id=\"T_731da276_0ab0_11ea_b759_80000027fe80row2_col1\" class=\"data row2 col1\" >0.774</td>\n",
       "                        <td id=\"T_731da276_0ab0_11ea_b759_80000027fe80row2_col2\" class=\"data row2 col2\" >0.813</td>\n",
       "                        <td id=\"T_731da276_0ab0_11ea_b759_80000027fe80row2_col3\" class=\"data row2 col3\" >5.556</td>\n",
       "                        <td id=\"T_731da276_0ab0_11ea_b759_80000027fe80row2_col4\" class=\"data row2 col4\" >0.646</td>\n",
       "                        <td id=\"T_731da276_0ab0_11ea_b759_80000027fe80row2_col5\" class=\"data row2 col5\" >7258.43</td>\n",
       "            </tr>\n",
       "            <tr>\n",
       "                                <td id=\"T_731da276_0ab0_11ea_b759_80000027fe80row3_col0\" class=\"data row3 col0\" >153</td>\n",
       "                        <td id=\"T_731da276_0ab0_11ea_b759_80000027fe80row3_col1\" class=\"data row3 col1\" >0.722</td>\n",
       "                        <td id=\"T_731da276_0ab0_11ea_b759_80000027fe80row3_col2\" class=\"data row3 col2\" >0.786</td>\n",
       "                        <td id=\"T_731da276_0ab0_11ea_b759_80000027fe80row3_col3\" class=\"data row3 col3\" >5.52</td>\n",
       "                        <td id=\"T_731da276_0ab0_11ea_b759_80000027fe80row3_col4\" class=\"data row3 col4\" >0.619</td>\n",
       "                        <td id=\"T_731da276_0ab0_11ea_b759_80000027fe80row3_col5\" class=\"data row3 col5\" >7252.43</td>\n",
       "            </tr>\n",
       "            <tr>\n",
       "                                <td id=\"T_731da276_0ab0_11ea_b759_80000027fe80row4_col0\" class=\"data row4 col0\" >204</td>\n",
       "                        <td id=\"T_731da276_0ab0_11ea_b759_80000027fe80row4_col1\" class=\"data row4 col1\" >0.668</td>\n",
       "                        <td id=\"T_731da276_0ab0_11ea_b759_80000027fe80row4_col2\" class=\"data row4 col2\" >0.718</td>\n",
       "                        <td id=\"T_731da276_0ab0_11ea_b759_80000027fe80row4_col3\" class=\"data row4 col3\" >5.432</td>\n",
       "                        <td id=\"T_731da276_0ab0_11ea_b759_80000027fe80row4_col4\" class=\"data row4 col4\" >0.625</td>\n",
       "                        <td id=\"T_731da276_0ab0_11ea_b759_80000027fe80row4_col5\" class=\"data row4 col5\" >7252.38</td>\n",
       "            </tr>\n",
       "            <tr>\n",
       "                                <td id=\"T_731da276_0ab0_11ea_b759_80000027fe80row5_col0\" class=\"data row5 col0\" >255</td>\n",
       "                        <td id=\"T_731da276_0ab0_11ea_b759_80000027fe80row5_col1\" class=\"data row5 col1\" >0.632</td>\n",
       "                        <td id=\"T_731da276_0ab0_11ea_b759_80000027fe80row5_col2\" class=\"data row5 col2\" >0.689</td>\n",
       "                        <td id=\"T_731da276_0ab0_11ea_b759_80000027fe80row5_col3\" class=\"data row5 col3\" >5.601</td>\n",
       "                        <td id=\"T_731da276_0ab0_11ea_b759_80000027fe80row5_col4\" class=\"data row5 col4\" >0.615</td>\n",
       "                        <td id=\"T_731da276_0ab0_11ea_b759_80000027fe80row5_col5\" class=\"data row5 col5\" >7252.08</td>\n",
       "            </tr>\n",
       "    </tbody></table>"
      ],
      "text/plain": [
       "<pandas.io.formats.style.Styler at 0x2b8fb5042cc0>"
      ]
     },
     "metadata": {},
     "output_type": "display_data"
    },
    {
     "data": {
      "text/html": [
       "<style  type=\"text/css\" >\n",
       "</style><table id=\"T_7321bd66_0ab0_11ea_b759_80000027fe80\" ><thead>    <tr>        <th class=\"col_heading level0 col0\" >std</th>        <th class=\"col_heading level0 col1\" >pipe_0</th>        <th class=\"col_heading level0 col2\" >pipe_1</th>        <th class=\"col_heading level0 col3\" >pipe_2</th>        <th class=\"col_heading level0 col4\" >pipe_3</th>        <th class=\"col_heading level0 col5\" >pipe_4</th>        <th class=\"col_heading level0 col6\" >pipe_5</th>        <th class=\"col_heading level0 col7\" >pipe_6</th>        <th class=\"col_heading level0 col8\" >pipe_7</th>        <th class=\"col_heading level0 col9\" >pipe_8</th>        <th class=\"col_heading level0 col10\" >pipe_9</th>        <th class=\"col_heading level0 col11\" >pipe_10</th>        <th class=\"col_heading level0 col12\" >pipe_11</th>        <th class=\"col_heading level0 col13\" >pipe_12</th>        <th class=\"col_heading level0 col14\" >pipe_13</th>        <th class=\"col_heading level0 col15\" >pipe_14</th>        <th class=\"col_heading level0 col16\" >pipe_15</th>        <th class=\"col_heading level0 col17\" >pipe_16</th>    </tr></thead><tbody>\n",
       "                <tr>\n",
       "                                <td id=\"T_7321bd66_0ab0_11ea_b759_80000027fe80row0_col0\" class=\"data row0 col0\" >0</td>\n",
       "                        <td id=\"T_7321bd66_0ab0_11ea_b759_80000027fe80row0_col1\" class=\"data row0 col1\" >ReLU()</td>\n",
       "                        <td id=\"T_7321bd66_0ab0_11ea_b759_80000027fe80row0_col2\" class=\"data row0 col2\" >BatchNorm2d(1, eps=1e-05, momentum=0.1, affine=True, track_running_stats=True)</td>\n",
       "                        <td id=\"T_7321bd66_0ab0_11ea_b759_80000027fe80row0_col3\" class=\"data row0 col3\" >Conv2d(1, 64, kernel_size=(3, 3), stride=(1, 1), padding=(1, 1))</td>\n",
       "                        <td id=\"T_7321bd66_0ab0_11ea_b759_80000027fe80row0_col4\" class=\"data row0 col4\" >MaxPool2d(kernel_size=2, stride=2, padding=0, dilation=1, ceil_mode=False)</td>\n",
       "                        <td id=\"T_7321bd66_0ab0_11ea_b759_80000027fe80row0_col5\" class=\"data row0 col5\" >ReLU()</td>\n",
       "                        <td id=\"T_7321bd66_0ab0_11ea_b759_80000027fe80row0_col6\" class=\"data row0 col6\" >BatchNorm2d(64, eps=1e-05, momentum=0.1, affine=True, track_running_stats=True)</td>\n",
       "                        <td id=\"T_7321bd66_0ab0_11ea_b759_80000027fe80row0_col7\" class=\"data row0 col7\" >Conv2d(64, 64, kernel_size=(3, 3), stride=(1, 1), padding=(1, 1))</td>\n",
       "                        <td id=\"T_7321bd66_0ab0_11ea_b759_80000027fe80row0_col8\" class=\"data row0 col8\" >MaxPool2d(kernel_size=2, stride=2, padding=0, dilation=1, ceil_mode=False)</td>\n",
       "                        <td id=\"T_7321bd66_0ab0_11ea_b759_80000027fe80row0_col9\" class=\"data row0 col9\" >ReLU()</td>\n",
       "                        <td id=\"T_7321bd66_0ab0_11ea_b759_80000027fe80row0_col10\" class=\"data row0 col10\" >BatchNorm2d(64, eps=1e-05, momentum=0.1, affine=True, track_running_stats=True)</td>\n",
       "                        <td id=\"T_7321bd66_0ab0_11ea_b759_80000027fe80row0_col11\" class=\"data row0 col11\" >Conv2d(64, 64, kernel_size=(3, 3), stride=(1, 1), padding=(1, 1))</td>\n",
       "                        <td id=\"T_7321bd66_0ab0_11ea_b759_80000027fe80row0_col12\" class=\"data row0 col12\" >MaxPool2d(kernel_size=2, stride=2, padding=0, dilation=1, ceil_mode=False)</td>\n",
       "                        <td id=\"T_7321bd66_0ab0_11ea_b759_80000027fe80row0_col13\" class=\"data row0 col13\" >GlobalAvgPool2d()</td>\n",
       "                        <td id=\"T_7321bd66_0ab0_11ea_b759_80000027fe80row0_col14\" class=\"data row0 col14\" >Dropout2d(p=0.25)</td>\n",
       "                        <td id=\"T_7321bd66_0ab0_11ea_b759_80000027fe80row0_col15\" class=\"data row0 col15\" >Linear(in_features=64, out_features=64, bias=True)</td>\n",
       "                        <td id=\"T_7321bd66_0ab0_11ea_b759_80000027fe80row0_col16\" class=\"data row0 col16\" >ReLU()</td>\n",
       "                        <td id=\"T_7321bd66_0ab0_11ea_b759_80000027fe80row0_col17\" class=\"data row0 col17\" >Linear(in_features=64, out_features=10, bias=True)</td>\n",
       "            </tr>\n",
       "            <tr>\n",
       "                                <td id=\"T_7321bd66_0ab0_11ea_b759_80000027fe80row1_col0\" class=\"data row1 col0\" >51</td>\n",
       "                        <td id=\"T_7321bd66_0ab0_11ea_b759_80000027fe80row1_col1\" class=\"data row1 col1\" >ReLU()</td>\n",
       "                        <td id=\"T_7321bd66_0ab0_11ea_b759_80000027fe80row1_col2\" class=\"data row1 col2\" >BatchNorm2d(1, eps=1e-05, momentum=0.1, affine=True, track_running_stats=True)</td>\n",
       "                        <td id=\"T_7321bd66_0ab0_11ea_b759_80000027fe80row1_col3\" class=\"data row1 col3\" >Conv2d(1, 64, kernel_size=(3, 3), stride=(1, 1), padding=(1, 1))</td>\n",
       "                        <td id=\"T_7321bd66_0ab0_11ea_b759_80000027fe80row1_col4\" class=\"data row1 col4\" >MaxPool2d(kernel_size=2, stride=2, padding=0, dilation=1, ceil_mode=False)</td>\n",
       "                        <td id=\"T_7321bd66_0ab0_11ea_b759_80000027fe80row1_col5\" class=\"data row1 col5\" >ReLU()</td>\n",
       "                        <td id=\"T_7321bd66_0ab0_11ea_b759_80000027fe80row1_col6\" class=\"data row1 col6\" >BatchNorm2d(64, eps=1e-05, momentum=0.1, affine=True, track_running_stats=True)</td>\n",
       "                        <td id=\"T_7321bd66_0ab0_11ea_b759_80000027fe80row1_col7\" class=\"data row1 col7\" >Conv2d(64, 64, kernel_size=(3, 3), stride=(1, 1), padding=(1, 1))</td>\n",
       "                        <td id=\"T_7321bd66_0ab0_11ea_b759_80000027fe80row1_col8\" class=\"data row1 col8\" >MaxPool2d(kernel_size=2, stride=2, padding=0, dilation=1, ceil_mode=False)</td>\n",
       "                        <td id=\"T_7321bd66_0ab0_11ea_b759_80000027fe80row1_col9\" class=\"data row1 col9\" >ReLU()</td>\n",
       "                        <td id=\"T_7321bd66_0ab0_11ea_b759_80000027fe80row1_col10\" class=\"data row1 col10\" >BatchNorm2d(64, eps=1e-05, momentum=0.1, affine=True, track_running_stats=True)</td>\n",
       "                        <td id=\"T_7321bd66_0ab0_11ea_b759_80000027fe80row1_col11\" class=\"data row1 col11\" >Conv2d(64, 64, kernel_size=(3, 3), stride=(1, 1), padding=(1, 1))</td>\n",
       "                        <td id=\"T_7321bd66_0ab0_11ea_b759_80000027fe80row1_col12\" class=\"data row1 col12\" >MaxPool2d(kernel_size=2, stride=2, padding=0, dilation=1, ceil_mode=False)</td>\n",
       "                        <td id=\"T_7321bd66_0ab0_11ea_b759_80000027fe80row1_col13\" class=\"data row1 col13\" >GlobalAvgPool2d()</td>\n",
       "                        <td id=\"T_7321bd66_0ab0_11ea_b759_80000027fe80row1_col14\" class=\"data row1 col14\" >Dropout2d(p=0.25)</td>\n",
       "                        <td id=\"T_7321bd66_0ab0_11ea_b759_80000027fe80row1_col15\" class=\"data row1 col15\" >Linear(in_features=64, out_features=64, bias=True)</td>\n",
       "                        <td id=\"T_7321bd66_0ab0_11ea_b759_80000027fe80row1_col16\" class=\"data row1 col16\" >ReLU()</td>\n",
       "                        <td id=\"T_7321bd66_0ab0_11ea_b759_80000027fe80row1_col17\" class=\"data row1 col17\" >Linear(in_features=64, out_features=10, bias=True)</td>\n",
       "            </tr>\n",
       "            <tr>\n",
       "                                <td id=\"T_7321bd66_0ab0_11ea_b759_80000027fe80row2_col0\" class=\"data row2 col0\" >102</td>\n",
       "                        <td id=\"T_7321bd66_0ab0_11ea_b759_80000027fe80row2_col1\" class=\"data row2 col1\" >ReLU()</td>\n",
       "                        <td id=\"T_7321bd66_0ab0_11ea_b759_80000027fe80row2_col2\" class=\"data row2 col2\" >BatchNorm2d(1, eps=1e-05, momentum=0.1, affine=True, track_running_stats=True)</td>\n",
       "                        <td id=\"T_7321bd66_0ab0_11ea_b759_80000027fe80row2_col3\" class=\"data row2 col3\" >Conv2d(1, 64, kernel_size=(3, 3), stride=(1, 1), padding=(1, 1))</td>\n",
       "                        <td id=\"T_7321bd66_0ab0_11ea_b759_80000027fe80row2_col4\" class=\"data row2 col4\" >MaxPool2d(kernel_size=2, stride=2, padding=0, dilation=1, ceil_mode=False)</td>\n",
       "                        <td id=\"T_7321bd66_0ab0_11ea_b759_80000027fe80row2_col5\" class=\"data row2 col5\" >ReLU()</td>\n",
       "                        <td id=\"T_7321bd66_0ab0_11ea_b759_80000027fe80row2_col6\" class=\"data row2 col6\" >BatchNorm2d(64, eps=1e-05, momentum=0.1, affine=True, track_running_stats=True)</td>\n",
       "                        <td id=\"T_7321bd66_0ab0_11ea_b759_80000027fe80row2_col7\" class=\"data row2 col7\" >Conv2d(64, 64, kernel_size=(3, 3), stride=(1, 1), padding=(1, 1))</td>\n",
       "                        <td id=\"T_7321bd66_0ab0_11ea_b759_80000027fe80row2_col8\" class=\"data row2 col8\" >MaxPool2d(kernel_size=2, stride=2, padding=0, dilation=1, ceil_mode=False)</td>\n",
       "                        <td id=\"T_7321bd66_0ab0_11ea_b759_80000027fe80row2_col9\" class=\"data row2 col9\" >ReLU()</td>\n",
       "                        <td id=\"T_7321bd66_0ab0_11ea_b759_80000027fe80row2_col10\" class=\"data row2 col10\" >BatchNorm2d(64, eps=1e-05, momentum=0.1, affine=True, track_running_stats=True)</td>\n",
       "                        <td id=\"T_7321bd66_0ab0_11ea_b759_80000027fe80row2_col11\" class=\"data row2 col11\" >Conv2d(64, 64, kernel_size=(3, 3), stride=(1, 1), padding=(1, 1))</td>\n",
       "                        <td id=\"T_7321bd66_0ab0_11ea_b759_80000027fe80row2_col12\" class=\"data row2 col12\" >MaxPool2d(kernel_size=2, stride=2, padding=0, dilation=1, ceil_mode=False)</td>\n",
       "                        <td id=\"T_7321bd66_0ab0_11ea_b759_80000027fe80row2_col13\" class=\"data row2 col13\" >GlobalAvgPool2d()</td>\n",
       "                        <td id=\"T_7321bd66_0ab0_11ea_b759_80000027fe80row2_col14\" class=\"data row2 col14\" >Dropout2d(p=0.25)</td>\n",
       "                        <td id=\"T_7321bd66_0ab0_11ea_b759_80000027fe80row2_col15\" class=\"data row2 col15\" >Linear(in_features=64, out_features=64, bias=True)</td>\n",
       "                        <td id=\"T_7321bd66_0ab0_11ea_b759_80000027fe80row2_col16\" class=\"data row2 col16\" >ReLU()</td>\n",
       "                        <td id=\"T_7321bd66_0ab0_11ea_b759_80000027fe80row2_col17\" class=\"data row2 col17\" >Linear(in_features=64, out_features=10, bias=True)</td>\n",
       "            </tr>\n",
       "            <tr>\n",
       "                                <td id=\"T_7321bd66_0ab0_11ea_b759_80000027fe80row3_col0\" class=\"data row3 col0\" >153</td>\n",
       "                        <td id=\"T_7321bd66_0ab0_11ea_b759_80000027fe80row3_col1\" class=\"data row3 col1\" >ReLU()</td>\n",
       "                        <td id=\"T_7321bd66_0ab0_11ea_b759_80000027fe80row3_col2\" class=\"data row3 col2\" >BatchNorm2d(1, eps=1e-05, momentum=0.1, affine=True, track_running_stats=True)</td>\n",
       "                        <td id=\"T_7321bd66_0ab0_11ea_b759_80000027fe80row3_col3\" class=\"data row3 col3\" >Conv2d(1, 64, kernel_size=(3, 3), stride=(1, 1), padding=(1, 1))</td>\n",
       "                        <td id=\"T_7321bd66_0ab0_11ea_b759_80000027fe80row3_col4\" class=\"data row3 col4\" >MaxPool2d(kernel_size=2, stride=2, padding=0, dilation=1, ceil_mode=False)</td>\n",
       "                        <td id=\"T_7321bd66_0ab0_11ea_b759_80000027fe80row3_col5\" class=\"data row3 col5\" >ReLU()</td>\n",
       "                        <td id=\"T_7321bd66_0ab0_11ea_b759_80000027fe80row3_col6\" class=\"data row3 col6\" >BatchNorm2d(64, eps=1e-05, momentum=0.1, affine=True, track_running_stats=True)</td>\n",
       "                        <td id=\"T_7321bd66_0ab0_11ea_b759_80000027fe80row3_col7\" class=\"data row3 col7\" >Conv2d(64, 64, kernel_size=(3, 3), stride=(1, 1), padding=(1, 1))</td>\n",
       "                        <td id=\"T_7321bd66_0ab0_11ea_b759_80000027fe80row3_col8\" class=\"data row3 col8\" >MaxPool2d(kernel_size=2, stride=2, padding=0, dilation=1, ceil_mode=False)</td>\n",
       "                        <td id=\"T_7321bd66_0ab0_11ea_b759_80000027fe80row3_col9\" class=\"data row3 col9\" >ReLU()</td>\n",
       "                        <td id=\"T_7321bd66_0ab0_11ea_b759_80000027fe80row3_col10\" class=\"data row3 col10\" >BatchNorm2d(64, eps=1e-05, momentum=0.1, affine=True, track_running_stats=True)</td>\n",
       "                        <td id=\"T_7321bd66_0ab0_11ea_b759_80000027fe80row3_col11\" class=\"data row3 col11\" >Conv2d(64, 64, kernel_size=(3, 3), stride=(1, 1), padding=(1, 1))</td>\n",
       "                        <td id=\"T_7321bd66_0ab0_11ea_b759_80000027fe80row3_col12\" class=\"data row3 col12\" >MaxPool2d(kernel_size=2, stride=2, padding=0, dilation=1, ceil_mode=False)</td>\n",
       "                        <td id=\"T_7321bd66_0ab0_11ea_b759_80000027fe80row3_col13\" class=\"data row3 col13\" >GlobalAvgPool2d()</td>\n",
       "                        <td id=\"T_7321bd66_0ab0_11ea_b759_80000027fe80row3_col14\" class=\"data row3 col14\" >Dropout2d(p=0.25)</td>\n",
       "                        <td id=\"T_7321bd66_0ab0_11ea_b759_80000027fe80row3_col15\" class=\"data row3 col15\" >Linear(in_features=64, out_features=64, bias=True)</td>\n",
       "                        <td id=\"T_7321bd66_0ab0_11ea_b759_80000027fe80row3_col16\" class=\"data row3 col16\" >ReLU()</td>\n",
       "                        <td id=\"T_7321bd66_0ab0_11ea_b759_80000027fe80row3_col17\" class=\"data row3 col17\" >Linear(in_features=64, out_features=10, bias=True)</td>\n",
       "            </tr>\n",
       "            <tr>\n",
       "                                <td id=\"T_7321bd66_0ab0_11ea_b759_80000027fe80row4_col0\" class=\"data row4 col0\" >204</td>\n",
       "                        <td id=\"T_7321bd66_0ab0_11ea_b759_80000027fe80row4_col1\" class=\"data row4 col1\" >ReLU()</td>\n",
       "                        <td id=\"T_7321bd66_0ab0_11ea_b759_80000027fe80row4_col2\" class=\"data row4 col2\" >BatchNorm2d(1, eps=1e-05, momentum=0.1, affine=True, track_running_stats=True)</td>\n",
       "                        <td id=\"T_7321bd66_0ab0_11ea_b759_80000027fe80row4_col3\" class=\"data row4 col3\" >Conv2d(1, 64, kernel_size=(3, 3), stride=(1, 1), padding=(1, 1))</td>\n",
       "                        <td id=\"T_7321bd66_0ab0_11ea_b759_80000027fe80row4_col4\" class=\"data row4 col4\" >MaxPool2d(kernel_size=2, stride=2, padding=0, dilation=1, ceil_mode=False)</td>\n",
       "                        <td id=\"T_7321bd66_0ab0_11ea_b759_80000027fe80row4_col5\" class=\"data row4 col5\" >ReLU()</td>\n",
       "                        <td id=\"T_7321bd66_0ab0_11ea_b759_80000027fe80row4_col6\" class=\"data row4 col6\" >BatchNorm2d(64, eps=1e-05, momentum=0.1, affine=True, track_running_stats=True)</td>\n",
       "                        <td id=\"T_7321bd66_0ab0_11ea_b759_80000027fe80row4_col7\" class=\"data row4 col7\" >Conv2d(64, 64, kernel_size=(3, 3), stride=(1, 1), padding=(1, 1))</td>\n",
       "                        <td id=\"T_7321bd66_0ab0_11ea_b759_80000027fe80row4_col8\" class=\"data row4 col8\" >MaxPool2d(kernel_size=2, stride=2, padding=0, dilation=1, ceil_mode=False)</td>\n",
       "                        <td id=\"T_7321bd66_0ab0_11ea_b759_80000027fe80row4_col9\" class=\"data row4 col9\" >ReLU()</td>\n",
       "                        <td id=\"T_7321bd66_0ab0_11ea_b759_80000027fe80row4_col10\" class=\"data row4 col10\" >BatchNorm2d(64, eps=1e-05, momentum=0.1, affine=True, track_running_stats=True)</td>\n",
       "                        <td id=\"T_7321bd66_0ab0_11ea_b759_80000027fe80row4_col11\" class=\"data row4 col11\" >Conv2d(64, 64, kernel_size=(3, 3), stride=(1, 1), padding=(1, 1))</td>\n",
       "                        <td id=\"T_7321bd66_0ab0_11ea_b759_80000027fe80row4_col12\" class=\"data row4 col12\" >MaxPool2d(kernel_size=2, stride=2, padding=0, dilation=1, ceil_mode=False)</td>\n",
       "                        <td id=\"T_7321bd66_0ab0_11ea_b759_80000027fe80row4_col13\" class=\"data row4 col13\" >GlobalAvgPool2d()</td>\n",
       "                        <td id=\"T_7321bd66_0ab0_11ea_b759_80000027fe80row4_col14\" class=\"data row4 col14\" >Dropout2d(p=0.25)</td>\n",
       "                        <td id=\"T_7321bd66_0ab0_11ea_b759_80000027fe80row4_col15\" class=\"data row4 col15\" >Linear(in_features=64, out_features=64, bias=True)</td>\n",
       "                        <td id=\"T_7321bd66_0ab0_11ea_b759_80000027fe80row4_col16\" class=\"data row4 col16\" >ReLU()</td>\n",
       "                        <td id=\"T_7321bd66_0ab0_11ea_b759_80000027fe80row4_col17\" class=\"data row4 col17\" >Linear(in_features=64, out_features=10, bias=True)</td>\n",
       "            </tr>\n",
       "            <tr>\n",
       "                                <td id=\"T_7321bd66_0ab0_11ea_b759_80000027fe80row5_col0\" class=\"data row5 col0\" >255</td>\n",
       "                        <td id=\"T_7321bd66_0ab0_11ea_b759_80000027fe80row5_col1\" class=\"data row5 col1\" >ReLU()</td>\n",
       "                        <td id=\"T_7321bd66_0ab0_11ea_b759_80000027fe80row5_col2\" class=\"data row5 col2\" >BatchNorm2d(1, eps=1e-05, momentum=0.1, affine=True, track_running_stats=True)</td>\n",
       "                        <td id=\"T_7321bd66_0ab0_11ea_b759_80000027fe80row5_col3\" class=\"data row5 col3\" >Conv2d(1, 64, kernel_size=(3, 3), stride=(1, 1), padding=(1, 1))</td>\n",
       "                        <td id=\"T_7321bd66_0ab0_11ea_b759_80000027fe80row5_col4\" class=\"data row5 col4\" >MaxPool2d(kernel_size=2, stride=2, padding=0, dilation=1, ceil_mode=False)</td>\n",
       "                        <td id=\"T_7321bd66_0ab0_11ea_b759_80000027fe80row5_col5\" class=\"data row5 col5\" >ReLU()</td>\n",
       "                        <td id=\"T_7321bd66_0ab0_11ea_b759_80000027fe80row5_col6\" class=\"data row5 col6\" >BatchNorm2d(64, eps=1e-05, momentum=0.1, affine=True, track_running_stats=True)</td>\n",
       "                        <td id=\"T_7321bd66_0ab0_11ea_b759_80000027fe80row5_col7\" class=\"data row5 col7\" >Conv2d(64, 64, kernel_size=(3, 3), stride=(1, 1), padding=(1, 1))</td>\n",
       "                        <td id=\"T_7321bd66_0ab0_11ea_b759_80000027fe80row5_col8\" class=\"data row5 col8\" >MaxPool2d(kernel_size=2, stride=2, padding=0, dilation=1, ceil_mode=False)</td>\n",
       "                        <td id=\"T_7321bd66_0ab0_11ea_b759_80000027fe80row5_col9\" class=\"data row5 col9\" >ReLU()</td>\n",
       "                        <td id=\"T_7321bd66_0ab0_11ea_b759_80000027fe80row5_col10\" class=\"data row5 col10\" >BatchNorm2d(64, eps=1e-05, momentum=0.1, affine=True, track_running_stats=True)</td>\n",
       "                        <td id=\"T_7321bd66_0ab0_11ea_b759_80000027fe80row5_col11\" class=\"data row5 col11\" >Conv2d(64, 64, kernel_size=(3, 3), stride=(1, 1), padding=(1, 1))</td>\n",
       "                        <td id=\"T_7321bd66_0ab0_11ea_b759_80000027fe80row5_col12\" class=\"data row5 col12\" >MaxPool2d(kernel_size=2, stride=2, padding=0, dilation=1, ceil_mode=False)</td>\n",
       "                        <td id=\"T_7321bd66_0ab0_11ea_b759_80000027fe80row5_col13\" class=\"data row5 col13\" >GlobalAvgPool2d()</td>\n",
       "                        <td id=\"T_7321bd66_0ab0_11ea_b759_80000027fe80row5_col14\" class=\"data row5 col14\" >Dropout2d(p=0.25)</td>\n",
       "                        <td id=\"T_7321bd66_0ab0_11ea_b759_80000027fe80row5_col15\" class=\"data row5 col15\" >Linear(in_features=64, out_features=64, bias=True)</td>\n",
       "                        <td id=\"T_7321bd66_0ab0_11ea_b759_80000027fe80row5_col16\" class=\"data row5 col16\" >ReLU()</td>\n",
       "                        <td id=\"T_7321bd66_0ab0_11ea_b759_80000027fe80row5_col17\" class=\"data row5 col17\" >Linear(in_features=64, out_features=10, bias=True)</td>\n",
       "            </tr>\n",
       "    </tbody></table>"
      ],
      "text/plain": [
       "<pandas.io.formats.style.Styler at 0x2b8f9eaeb518>"
      ]
     },
     "metadata": {},
     "output_type": "display_data"
    },
    {
     "data": {
      "text/plain": [
       "'AutoKerasClean #1'"
      ]
     },
     "metadata": {},
     "output_type": "display_data"
    },
    {
     "data": {
      "text/html": [
       "<style  type=\"text/css\" >\n",
       "</style><table id=\"T_7323df10_0ab0_11ea_b759_80000027fe80\" ><thead>    <tr>        <th class=\"col_heading level0 col0\" >std</th>        <th class=\"col_heading level0 col1\" >test_acc</th>        <th class=\"col_heading level0 col2\" >train_acc</th>        <th class=\"col_heading level0 col3\" >time_err</th>        <th class=\"col_heading level0 col4\" >time_pre</th>        <th class=\"col_heading level0 col5\" >time_mod</th>    </tr></thead><tbody>\n",
       "                <tr>\n",
       "                                <td id=\"T_7323df10_0ab0_11ea_b759_80000027fe80row0_col0\" class=\"data row0 col0\" >0</td>\n",
       "                        <td id=\"T_7323df10_0ab0_11ea_b759_80000027fe80row0_col1\" class=\"data row0 col1\" >0.887</td>\n",
       "                        <td id=\"T_7323df10_0ab0_11ea_b759_80000027fe80row0_col2\" class=\"data row0 col2\" >0.928</td>\n",
       "                        <td id=\"T_7323df10_0ab0_11ea_b759_80000027fe80row0_col3\" class=\"data row0 col3\" >5.306</td>\n",
       "                        <td id=\"T_7323df10_0ab0_11ea_b759_80000027fe80row0_col4\" class=\"data row0 col4\" >0.653</td>\n",
       "                        <td id=\"T_7323df10_0ab0_11ea_b759_80000027fe80row0_col5\" class=\"data row0 col5\" >7248.23</td>\n",
       "            </tr>\n",
       "            <tr>\n",
       "                                <td id=\"T_7323df10_0ab0_11ea_b759_80000027fe80row1_col0\" class=\"data row1 col0\" >51</td>\n",
       "                        <td id=\"T_7323df10_0ab0_11ea_b759_80000027fe80row1_col1\" class=\"data row1 col1\" >0.562</td>\n",
       "                        <td id=\"T_7323df10_0ab0_11ea_b759_80000027fe80row1_col2\" class=\"data row1 col2\" >0.928</td>\n",
       "                        <td id=\"T_7323df10_0ab0_11ea_b759_80000027fe80row1_col3\" class=\"data row1 col3\" >5.358</td>\n",
       "                        <td id=\"T_7323df10_0ab0_11ea_b759_80000027fe80row1_col4\" class=\"data row1 col4\" >0.644</td>\n",
       "                        <td id=\"T_7323df10_0ab0_11ea_b759_80000027fe80row1_col5\" class=\"data row1 col5\" >7247.04</td>\n",
       "            </tr>\n",
       "            <tr>\n",
       "                                <td id=\"T_7323df10_0ab0_11ea_b759_80000027fe80row2_col0\" class=\"data row2 col0\" >102</td>\n",
       "                        <td id=\"T_7323df10_0ab0_11ea_b759_80000027fe80row2_col1\" class=\"data row2 col1\" >0.118</td>\n",
       "                        <td id=\"T_7323df10_0ab0_11ea_b759_80000027fe80row2_col2\" class=\"data row2 col2\" >0.928</td>\n",
       "                        <td id=\"T_7323df10_0ab0_11ea_b759_80000027fe80row2_col3\" class=\"data row2 col3\" >5.556</td>\n",
       "                        <td id=\"T_7323df10_0ab0_11ea_b759_80000027fe80row2_col4\" class=\"data row2 col4\" >0.646</td>\n",
       "                        <td id=\"T_7323df10_0ab0_11ea_b759_80000027fe80row2_col5\" class=\"data row2 col5\" >7254.84</td>\n",
       "            </tr>\n",
       "            <tr>\n",
       "                                <td id=\"T_7323df10_0ab0_11ea_b759_80000027fe80row3_col0\" class=\"data row3 col0\" >153</td>\n",
       "                        <td id=\"T_7323df10_0ab0_11ea_b759_80000027fe80row3_col1\" class=\"data row3 col1\" >0.101</td>\n",
       "                        <td id=\"T_7323df10_0ab0_11ea_b759_80000027fe80row3_col2\" class=\"data row3 col2\" >0.928</td>\n",
       "                        <td id=\"T_7323df10_0ab0_11ea_b759_80000027fe80row3_col3\" class=\"data row3 col3\" >5.52</td>\n",
       "                        <td id=\"T_7323df10_0ab0_11ea_b759_80000027fe80row3_col4\" class=\"data row3 col4\" >0.619</td>\n",
       "                        <td id=\"T_7323df10_0ab0_11ea_b759_80000027fe80row3_col5\" class=\"data row3 col5\" >7252.93</td>\n",
       "            </tr>\n",
       "            <tr>\n",
       "                                <td id=\"T_7323df10_0ab0_11ea_b759_80000027fe80row4_col0\" class=\"data row4 col0\" >204</td>\n",
       "                        <td id=\"T_7323df10_0ab0_11ea_b759_80000027fe80row4_col1\" class=\"data row4 col1\" >0.102</td>\n",
       "                        <td id=\"T_7323df10_0ab0_11ea_b759_80000027fe80row4_col2\" class=\"data row4 col2\" >0.928</td>\n",
       "                        <td id=\"T_7323df10_0ab0_11ea_b759_80000027fe80row4_col3\" class=\"data row4 col3\" >5.432</td>\n",
       "                        <td id=\"T_7323df10_0ab0_11ea_b759_80000027fe80row4_col4\" class=\"data row4 col4\" >0.625</td>\n",
       "                        <td id=\"T_7323df10_0ab0_11ea_b759_80000027fe80row4_col5\" class=\"data row4 col5\" >7249.11</td>\n",
       "            </tr>\n",
       "            <tr>\n",
       "                                <td id=\"T_7323df10_0ab0_11ea_b759_80000027fe80row5_col0\" class=\"data row5 col0\" >255</td>\n",
       "                        <td id=\"T_7323df10_0ab0_11ea_b759_80000027fe80row5_col1\" class=\"data row5 col1\" >0.103</td>\n",
       "                        <td id=\"T_7323df10_0ab0_11ea_b759_80000027fe80row5_col2\" class=\"data row5 col2\" >0.928</td>\n",
       "                        <td id=\"T_7323df10_0ab0_11ea_b759_80000027fe80row5_col3\" class=\"data row5 col3\" >5.601</td>\n",
       "                        <td id=\"T_7323df10_0ab0_11ea_b759_80000027fe80row5_col4\" class=\"data row5 col4\" >0.615</td>\n",
       "                        <td id=\"T_7323df10_0ab0_11ea_b759_80000027fe80row5_col5\" class=\"data row5 col5\" >7252.78</td>\n",
       "            </tr>\n",
       "    </tbody></table>"
      ],
      "text/plain": [
       "<pandas.io.formats.style.Styler at 0x2b8e19c1b4a8>"
      ]
     },
     "metadata": {},
     "output_type": "display_data"
    },
    {
     "data": {
      "text/html": [
       "<style  type=\"text/css\" >\n",
       "</style><table id=\"T_73256b0a_0ab0_11ea_b759_80000027fe80\" ><thead>    <tr>        <th class=\"col_heading level0 col0\" >std</th>        <th class=\"col_heading level0 col1\" >pipe_0</th>        <th class=\"col_heading level0 col2\" >pipe_1</th>        <th class=\"col_heading level0 col3\" >pipe_2</th>        <th class=\"col_heading level0 col4\" >pipe_3</th>        <th class=\"col_heading level0 col5\" >pipe_4</th>        <th class=\"col_heading level0 col6\" >pipe_5</th>        <th class=\"col_heading level0 col7\" >pipe_6</th>        <th class=\"col_heading level0 col8\" >pipe_7</th>        <th class=\"col_heading level0 col9\" >pipe_8</th>        <th class=\"col_heading level0 col10\" >pipe_9</th>        <th class=\"col_heading level0 col11\" >pipe_10</th>        <th class=\"col_heading level0 col12\" >pipe_11</th>        <th class=\"col_heading level0 col13\" >pipe_12</th>        <th class=\"col_heading level0 col14\" >pipe_13</th>        <th class=\"col_heading level0 col15\" >pipe_14</th>        <th class=\"col_heading level0 col16\" >pipe_15</th>        <th class=\"col_heading level0 col17\" >pipe_16</th>    </tr></thead><tbody>\n",
       "                <tr>\n",
       "                                <td id=\"T_73256b0a_0ab0_11ea_b759_80000027fe80row0_col0\" class=\"data row0 col0\" >0</td>\n",
       "                        <td id=\"T_73256b0a_0ab0_11ea_b759_80000027fe80row0_col1\" class=\"data row0 col1\" >ReLU()</td>\n",
       "                        <td id=\"T_73256b0a_0ab0_11ea_b759_80000027fe80row0_col2\" class=\"data row0 col2\" >BatchNorm2d(1, eps=1e-05, momentum=0.1, affine=True, track_running_stats=True)</td>\n",
       "                        <td id=\"T_73256b0a_0ab0_11ea_b759_80000027fe80row0_col3\" class=\"data row0 col3\" >Conv2d(1, 64, kernel_size=(3, 3), stride=(1, 1), padding=(1, 1))</td>\n",
       "                        <td id=\"T_73256b0a_0ab0_11ea_b759_80000027fe80row0_col4\" class=\"data row0 col4\" >MaxPool2d(kernel_size=2, stride=2, padding=0, dilation=1, ceil_mode=False)</td>\n",
       "                        <td id=\"T_73256b0a_0ab0_11ea_b759_80000027fe80row0_col5\" class=\"data row0 col5\" >ReLU()</td>\n",
       "                        <td id=\"T_73256b0a_0ab0_11ea_b759_80000027fe80row0_col6\" class=\"data row0 col6\" >BatchNorm2d(64, eps=1e-05, momentum=0.1, affine=True, track_running_stats=True)</td>\n",
       "                        <td id=\"T_73256b0a_0ab0_11ea_b759_80000027fe80row0_col7\" class=\"data row0 col7\" >Conv2d(64, 64, kernel_size=(3, 3), stride=(1, 1), padding=(1, 1))</td>\n",
       "                        <td id=\"T_73256b0a_0ab0_11ea_b759_80000027fe80row0_col8\" class=\"data row0 col8\" >MaxPool2d(kernel_size=2, stride=2, padding=0, dilation=1, ceil_mode=False)</td>\n",
       "                        <td id=\"T_73256b0a_0ab0_11ea_b759_80000027fe80row0_col9\" class=\"data row0 col9\" >ReLU()</td>\n",
       "                        <td id=\"T_73256b0a_0ab0_11ea_b759_80000027fe80row0_col10\" class=\"data row0 col10\" >BatchNorm2d(64, eps=1e-05, momentum=0.1, affine=True, track_running_stats=True)</td>\n",
       "                        <td id=\"T_73256b0a_0ab0_11ea_b759_80000027fe80row0_col11\" class=\"data row0 col11\" >Conv2d(64, 64, kernel_size=(3, 3), stride=(1, 1), padding=(1, 1))</td>\n",
       "                        <td id=\"T_73256b0a_0ab0_11ea_b759_80000027fe80row0_col12\" class=\"data row0 col12\" >MaxPool2d(kernel_size=2, stride=2, padding=0, dilation=1, ceil_mode=False)</td>\n",
       "                        <td id=\"T_73256b0a_0ab0_11ea_b759_80000027fe80row0_col13\" class=\"data row0 col13\" >GlobalAvgPool2d()</td>\n",
       "                        <td id=\"T_73256b0a_0ab0_11ea_b759_80000027fe80row0_col14\" class=\"data row0 col14\" >Dropout2d(p=0.25)</td>\n",
       "                        <td id=\"T_73256b0a_0ab0_11ea_b759_80000027fe80row0_col15\" class=\"data row0 col15\" >Linear(in_features=64, out_features=64, bias=True)</td>\n",
       "                        <td id=\"T_73256b0a_0ab0_11ea_b759_80000027fe80row0_col16\" class=\"data row0 col16\" >ReLU()</td>\n",
       "                        <td id=\"T_73256b0a_0ab0_11ea_b759_80000027fe80row0_col17\" class=\"data row0 col17\" >Linear(in_features=64, out_features=10, bias=True)</td>\n",
       "            </tr>\n",
       "            <tr>\n",
       "                                <td id=\"T_73256b0a_0ab0_11ea_b759_80000027fe80row1_col0\" class=\"data row1 col0\" >51</td>\n",
       "                        <td id=\"T_73256b0a_0ab0_11ea_b759_80000027fe80row1_col1\" class=\"data row1 col1\" >ReLU()</td>\n",
       "                        <td id=\"T_73256b0a_0ab0_11ea_b759_80000027fe80row1_col2\" class=\"data row1 col2\" >BatchNorm2d(1, eps=1e-05, momentum=0.1, affine=True, track_running_stats=True)</td>\n",
       "                        <td id=\"T_73256b0a_0ab0_11ea_b759_80000027fe80row1_col3\" class=\"data row1 col3\" >Conv2d(1, 64, kernel_size=(3, 3), stride=(1, 1), padding=(1, 1))</td>\n",
       "                        <td id=\"T_73256b0a_0ab0_11ea_b759_80000027fe80row1_col4\" class=\"data row1 col4\" >MaxPool2d(kernel_size=2, stride=2, padding=0, dilation=1, ceil_mode=False)</td>\n",
       "                        <td id=\"T_73256b0a_0ab0_11ea_b759_80000027fe80row1_col5\" class=\"data row1 col5\" >ReLU()</td>\n",
       "                        <td id=\"T_73256b0a_0ab0_11ea_b759_80000027fe80row1_col6\" class=\"data row1 col6\" >BatchNorm2d(64, eps=1e-05, momentum=0.1, affine=True, track_running_stats=True)</td>\n",
       "                        <td id=\"T_73256b0a_0ab0_11ea_b759_80000027fe80row1_col7\" class=\"data row1 col7\" >Conv2d(64, 64, kernel_size=(3, 3), stride=(1, 1), padding=(1, 1))</td>\n",
       "                        <td id=\"T_73256b0a_0ab0_11ea_b759_80000027fe80row1_col8\" class=\"data row1 col8\" >MaxPool2d(kernel_size=2, stride=2, padding=0, dilation=1, ceil_mode=False)</td>\n",
       "                        <td id=\"T_73256b0a_0ab0_11ea_b759_80000027fe80row1_col9\" class=\"data row1 col9\" >ReLU()</td>\n",
       "                        <td id=\"T_73256b0a_0ab0_11ea_b759_80000027fe80row1_col10\" class=\"data row1 col10\" >BatchNorm2d(64, eps=1e-05, momentum=0.1, affine=True, track_running_stats=True)</td>\n",
       "                        <td id=\"T_73256b0a_0ab0_11ea_b759_80000027fe80row1_col11\" class=\"data row1 col11\" >Conv2d(64, 64, kernel_size=(3, 3), stride=(1, 1), padding=(1, 1))</td>\n",
       "                        <td id=\"T_73256b0a_0ab0_11ea_b759_80000027fe80row1_col12\" class=\"data row1 col12\" >MaxPool2d(kernel_size=2, stride=2, padding=0, dilation=1, ceil_mode=False)</td>\n",
       "                        <td id=\"T_73256b0a_0ab0_11ea_b759_80000027fe80row1_col13\" class=\"data row1 col13\" >GlobalAvgPool2d()</td>\n",
       "                        <td id=\"T_73256b0a_0ab0_11ea_b759_80000027fe80row1_col14\" class=\"data row1 col14\" >Dropout2d(p=0.25)</td>\n",
       "                        <td id=\"T_73256b0a_0ab0_11ea_b759_80000027fe80row1_col15\" class=\"data row1 col15\" >Linear(in_features=64, out_features=64, bias=True)</td>\n",
       "                        <td id=\"T_73256b0a_0ab0_11ea_b759_80000027fe80row1_col16\" class=\"data row1 col16\" >ReLU()</td>\n",
       "                        <td id=\"T_73256b0a_0ab0_11ea_b759_80000027fe80row1_col17\" class=\"data row1 col17\" >Linear(in_features=64, out_features=10, bias=True)</td>\n",
       "            </tr>\n",
       "            <tr>\n",
       "                                <td id=\"T_73256b0a_0ab0_11ea_b759_80000027fe80row2_col0\" class=\"data row2 col0\" >102</td>\n",
       "                        <td id=\"T_73256b0a_0ab0_11ea_b759_80000027fe80row2_col1\" class=\"data row2 col1\" >ReLU()</td>\n",
       "                        <td id=\"T_73256b0a_0ab0_11ea_b759_80000027fe80row2_col2\" class=\"data row2 col2\" >BatchNorm2d(1, eps=1e-05, momentum=0.1, affine=True, track_running_stats=True)</td>\n",
       "                        <td id=\"T_73256b0a_0ab0_11ea_b759_80000027fe80row2_col3\" class=\"data row2 col3\" >Conv2d(1, 64, kernel_size=(3, 3), stride=(1, 1), padding=(1, 1))</td>\n",
       "                        <td id=\"T_73256b0a_0ab0_11ea_b759_80000027fe80row2_col4\" class=\"data row2 col4\" >MaxPool2d(kernel_size=2, stride=2, padding=0, dilation=1, ceil_mode=False)</td>\n",
       "                        <td id=\"T_73256b0a_0ab0_11ea_b759_80000027fe80row2_col5\" class=\"data row2 col5\" >ReLU()</td>\n",
       "                        <td id=\"T_73256b0a_0ab0_11ea_b759_80000027fe80row2_col6\" class=\"data row2 col6\" >BatchNorm2d(64, eps=1e-05, momentum=0.1, affine=True, track_running_stats=True)</td>\n",
       "                        <td id=\"T_73256b0a_0ab0_11ea_b759_80000027fe80row2_col7\" class=\"data row2 col7\" >Conv2d(64, 64, kernel_size=(3, 3), stride=(1, 1), padding=(1, 1))</td>\n",
       "                        <td id=\"T_73256b0a_0ab0_11ea_b759_80000027fe80row2_col8\" class=\"data row2 col8\" >MaxPool2d(kernel_size=2, stride=2, padding=0, dilation=1, ceil_mode=False)</td>\n",
       "                        <td id=\"T_73256b0a_0ab0_11ea_b759_80000027fe80row2_col9\" class=\"data row2 col9\" >ReLU()</td>\n",
       "                        <td id=\"T_73256b0a_0ab0_11ea_b759_80000027fe80row2_col10\" class=\"data row2 col10\" >BatchNorm2d(64, eps=1e-05, momentum=0.1, affine=True, track_running_stats=True)</td>\n",
       "                        <td id=\"T_73256b0a_0ab0_11ea_b759_80000027fe80row2_col11\" class=\"data row2 col11\" >Conv2d(64, 64, kernel_size=(3, 3), stride=(1, 1), padding=(1, 1))</td>\n",
       "                        <td id=\"T_73256b0a_0ab0_11ea_b759_80000027fe80row2_col12\" class=\"data row2 col12\" >MaxPool2d(kernel_size=2, stride=2, padding=0, dilation=1, ceil_mode=False)</td>\n",
       "                        <td id=\"T_73256b0a_0ab0_11ea_b759_80000027fe80row2_col13\" class=\"data row2 col13\" >GlobalAvgPool2d()</td>\n",
       "                        <td id=\"T_73256b0a_0ab0_11ea_b759_80000027fe80row2_col14\" class=\"data row2 col14\" >Dropout2d(p=0.25)</td>\n",
       "                        <td id=\"T_73256b0a_0ab0_11ea_b759_80000027fe80row2_col15\" class=\"data row2 col15\" >Linear(in_features=64, out_features=64, bias=True)</td>\n",
       "                        <td id=\"T_73256b0a_0ab0_11ea_b759_80000027fe80row2_col16\" class=\"data row2 col16\" >ReLU()</td>\n",
       "                        <td id=\"T_73256b0a_0ab0_11ea_b759_80000027fe80row2_col17\" class=\"data row2 col17\" >Linear(in_features=64, out_features=10, bias=True)</td>\n",
       "            </tr>\n",
       "            <tr>\n",
       "                                <td id=\"T_73256b0a_0ab0_11ea_b759_80000027fe80row3_col0\" class=\"data row3 col0\" >153</td>\n",
       "                        <td id=\"T_73256b0a_0ab0_11ea_b759_80000027fe80row3_col1\" class=\"data row3 col1\" >ReLU()</td>\n",
       "                        <td id=\"T_73256b0a_0ab0_11ea_b759_80000027fe80row3_col2\" class=\"data row3 col2\" >BatchNorm2d(1, eps=1e-05, momentum=0.1, affine=True, track_running_stats=True)</td>\n",
       "                        <td id=\"T_73256b0a_0ab0_11ea_b759_80000027fe80row3_col3\" class=\"data row3 col3\" >Conv2d(1, 64, kernel_size=(3, 3), stride=(1, 1), padding=(1, 1))</td>\n",
       "                        <td id=\"T_73256b0a_0ab0_11ea_b759_80000027fe80row3_col4\" class=\"data row3 col4\" >MaxPool2d(kernel_size=2, stride=2, padding=0, dilation=1, ceil_mode=False)</td>\n",
       "                        <td id=\"T_73256b0a_0ab0_11ea_b759_80000027fe80row3_col5\" class=\"data row3 col5\" >ReLU()</td>\n",
       "                        <td id=\"T_73256b0a_0ab0_11ea_b759_80000027fe80row3_col6\" class=\"data row3 col6\" >BatchNorm2d(64, eps=1e-05, momentum=0.1, affine=True, track_running_stats=True)</td>\n",
       "                        <td id=\"T_73256b0a_0ab0_11ea_b759_80000027fe80row3_col7\" class=\"data row3 col7\" >Conv2d(64, 64, kernel_size=(3, 3), stride=(1, 1), padding=(1, 1))</td>\n",
       "                        <td id=\"T_73256b0a_0ab0_11ea_b759_80000027fe80row3_col8\" class=\"data row3 col8\" >MaxPool2d(kernel_size=2, stride=2, padding=0, dilation=1, ceil_mode=False)</td>\n",
       "                        <td id=\"T_73256b0a_0ab0_11ea_b759_80000027fe80row3_col9\" class=\"data row3 col9\" >ReLU()</td>\n",
       "                        <td id=\"T_73256b0a_0ab0_11ea_b759_80000027fe80row3_col10\" class=\"data row3 col10\" >BatchNorm2d(64, eps=1e-05, momentum=0.1, affine=True, track_running_stats=True)</td>\n",
       "                        <td id=\"T_73256b0a_0ab0_11ea_b759_80000027fe80row3_col11\" class=\"data row3 col11\" >Conv2d(64, 64, kernel_size=(3, 3), stride=(1, 1), padding=(1, 1))</td>\n",
       "                        <td id=\"T_73256b0a_0ab0_11ea_b759_80000027fe80row3_col12\" class=\"data row3 col12\" >MaxPool2d(kernel_size=2, stride=2, padding=0, dilation=1, ceil_mode=False)</td>\n",
       "                        <td id=\"T_73256b0a_0ab0_11ea_b759_80000027fe80row3_col13\" class=\"data row3 col13\" >GlobalAvgPool2d()</td>\n",
       "                        <td id=\"T_73256b0a_0ab0_11ea_b759_80000027fe80row3_col14\" class=\"data row3 col14\" >Dropout2d(p=0.25)</td>\n",
       "                        <td id=\"T_73256b0a_0ab0_11ea_b759_80000027fe80row3_col15\" class=\"data row3 col15\" >Linear(in_features=64, out_features=64, bias=True)</td>\n",
       "                        <td id=\"T_73256b0a_0ab0_11ea_b759_80000027fe80row3_col16\" class=\"data row3 col16\" >ReLU()</td>\n",
       "                        <td id=\"T_73256b0a_0ab0_11ea_b759_80000027fe80row3_col17\" class=\"data row3 col17\" >Linear(in_features=64, out_features=10, bias=True)</td>\n",
       "            </tr>\n",
       "            <tr>\n",
       "                                <td id=\"T_73256b0a_0ab0_11ea_b759_80000027fe80row4_col0\" class=\"data row4 col0\" >204</td>\n",
       "                        <td id=\"T_73256b0a_0ab0_11ea_b759_80000027fe80row4_col1\" class=\"data row4 col1\" >ReLU()</td>\n",
       "                        <td id=\"T_73256b0a_0ab0_11ea_b759_80000027fe80row4_col2\" class=\"data row4 col2\" >BatchNorm2d(1, eps=1e-05, momentum=0.1, affine=True, track_running_stats=True)</td>\n",
       "                        <td id=\"T_73256b0a_0ab0_11ea_b759_80000027fe80row4_col3\" class=\"data row4 col3\" >Conv2d(1, 64, kernel_size=(3, 3), stride=(1, 1), padding=(1, 1))</td>\n",
       "                        <td id=\"T_73256b0a_0ab0_11ea_b759_80000027fe80row4_col4\" class=\"data row4 col4\" >MaxPool2d(kernel_size=2, stride=2, padding=0, dilation=1, ceil_mode=False)</td>\n",
       "                        <td id=\"T_73256b0a_0ab0_11ea_b759_80000027fe80row4_col5\" class=\"data row4 col5\" >ReLU()</td>\n",
       "                        <td id=\"T_73256b0a_0ab0_11ea_b759_80000027fe80row4_col6\" class=\"data row4 col6\" >BatchNorm2d(64, eps=1e-05, momentum=0.1, affine=True, track_running_stats=True)</td>\n",
       "                        <td id=\"T_73256b0a_0ab0_11ea_b759_80000027fe80row4_col7\" class=\"data row4 col7\" >Conv2d(64, 64, kernel_size=(3, 3), stride=(1, 1), padding=(1, 1))</td>\n",
       "                        <td id=\"T_73256b0a_0ab0_11ea_b759_80000027fe80row4_col8\" class=\"data row4 col8\" >MaxPool2d(kernel_size=2, stride=2, padding=0, dilation=1, ceil_mode=False)</td>\n",
       "                        <td id=\"T_73256b0a_0ab0_11ea_b759_80000027fe80row4_col9\" class=\"data row4 col9\" >ReLU()</td>\n",
       "                        <td id=\"T_73256b0a_0ab0_11ea_b759_80000027fe80row4_col10\" class=\"data row4 col10\" >BatchNorm2d(64, eps=1e-05, momentum=0.1, affine=True, track_running_stats=True)</td>\n",
       "                        <td id=\"T_73256b0a_0ab0_11ea_b759_80000027fe80row4_col11\" class=\"data row4 col11\" >Conv2d(64, 64, kernel_size=(3, 3), stride=(1, 1), padding=(1, 1))</td>\n",
       "                        <td id=\"T_73256b0a_0ab0_11ea_b759_80000027fe80row4_col12\" class=\"data row4 col12\" >MaxPool2d(kernel_size=2, stride=2, padding=0, dilation=1, ceil_mode=False)</td>\n",
       "                        <td id=\"T_73256b0a_0ab0_11ea_b759_80000027fe80row4_col13\" class=\"data row4 col13\" >GlobalAvgPool2d()</td>\n",
       "                        <td id=\"T_73256b0a_0ab0_11ea_b759_80000027fe80row4_col14\" class=\"data row4 col14\" >Dropout2d(p=0.25)</td>\n",
       "                        <td id=\"T_73256b0a_0ab0_11ea_b759_80000027fe80row4_col15\" class=\"data row4 col15\" >Linear(in_features=64, out_features=64, bias=True)</td>\n",
       "                        <td id=\"T_73256b0a_0ab0_11ea_b759_80000027fe80row4_col16\" class=\"data row4 col16\" >ReLU()</td>\n",
       "                        <td id=\"T_73256b0a_0ab0_11ea_b759_80000027fe80row4_col17\" class=\"data row4 col17\" >Linear(in_features=64, out_features=10, bias=True)</td>\n",
       "            </tr>\n",
       "            <tr>\n",
       "                                <td id=\"T_73256b0a_0ab0_11ea_b759_80000027fe80row5_col0\" class=\"data row5 col0\" >255</td>\n",
       "                        <td id=\"T_73256b0a_0ab0_11ea_b759_80000027fe80row5_col1\" class=\"data row5 col1\" >ReLU()</td>\n",
       "                        <td id=\"T_73256b0a_0ab0_11ea_b759_80000027fe80row5_col2\" class=\"data row5 col2\" >BatchNorm2d(1, eps=1e-05, momentum=0.1, affine=True, track_running_stats=True)</td>\n",
       "                        <td id=\"T_73256b0a_0ab0_11ea_b759_80000027fe80row5_col3\" class=\"data row5 col3\" >Conv2d(1, 64, kernel_size=(3, 3), stride=(1, 1), padding=(1, 1))</td>\n",
       "                        <td id=\"T_73256b0a_0ab0_11ea_b759_80000027fe80row5_col4\" class=\"data row5 col4\" >MaxPool2d(kernel_size=2, stride=2, padding=0, dilation=1, ceil_mode=False)</td>\n",
       "                        <td id=\"T_73256b0a_0ab0_11ea_b759_80000027fe80row5_col5\" class=\"data row5 col5\" >ReLU()</td>\n",
       "                        <td id=\"T_73256b0a_0ab0_11ea_b759_80000027fe80row5_col6\" class=\"data row5 col6\" >BatchNorm2d(64, eps=1e-05, momentum=0.1, affine=True, track_running_stats=True)</td>\n",
       "                        <td id=\"T_73256b0a_0ab0_11ea_b759_80000027fe80row5_col7\" class=\"data row5 col7\" >Conv2d(64, 64, kernel_size=(3, 3), stride=(1, 1), padding=(1, 1))</td>\n",
       "                        <td id=\"T_73256b0a_0ab0_11ea_b759_80000027fe80row5_col8\" class=\"data row5 col8\" >MaxPool2d(kernel_size=2, stride=2, padding=0, dilation=1, ceil_mode=False)</td>\n",
       "                        <td id=\"T_73256b0a_0ab0_11ea_b759_80000027fe80row5_col9\" class=\"data row5 col9\" >ReLU()</td>\n",
       "                        <td id=\"T_73256b0a_0ab0_11ea_b759_80000027fe80row5_col10\" class=\"data row5 col10\" >BatchNorm2d(64, eps=1e-05, momentum=0.1, affine=True, track_running_stats=True)</td>\n",
       "                        <td id=\"T_73256b0a_0ab0_11ea_b759_80000027fe80row5_col11\" class=\"data row5 col11\" >Conv2d(64, 64, kernel_size=(3, 3), stride=(1, 1), padding=(1, 1))</td>\n",
       "                        <td id=\"T_73256b0a_0ab0_11ea_b759_80000027fe80row5_col12\" class=\"data row5 col12\" >MaxPool2d(kernel_size=2, stride=2, padding=0, dilation=1, ceil_mode=False)</td>\n",
       "                        <td id=\"T_73256b0a_0ab0_11ea_b759_80000027fe80row5_col13\" class=\"data row5 col13\" >GlobalAvgPool2d()</td>\n",
       "                        <td id=\"T_73256b0a_0ab0_11ea_b759_80000027fe80row5_col14\" class=\"data row5 col14\" >Dropout2d(p=0.25)</td>\n",
       "                        <td id=\"T_73256b0a_0ab0_11ea_b759_80000027fe80row5_col15\" class=\"data row5 col15\" >Linear(in_features=64, out_features=64, bias=True)</td>\n",
       "                        <td id=\"T_73256b0a_0ab0_11ea_b759_80000027fe80row5_col16\" class=\"data row5 col16\" >ReLU()</td>\n",
       "                        <td id=\"T_73256b0a_0ab0_11ea_b759_80000027fe80row5_col17\" class=\"data row5 col17\" >Linear(in_features=64, out_features=10, bias=True)</td>\n",
       "            </tr>\n",
       "    </tbody></table>"
      ],
      "text/plain": [
       "<pandas.io.formats.style.Styler at 0x2b8fa6aeef28>"
      ]
     },
     "metadata": {},
     "output_type": "display_data"
    },
    {
     "data": {
      "text/plain": [
       "'H2OAutoML #1'"
      ]
     },
     "metadata": {},
     "output_type": "display_data"
    },
    {
     "data": {
      "text/html": [
       "<style  type=\"text/css\" >\n",
       "</style><table id=\"T_7326f7fe_0ab0_11ea_b759_80000027fe80\" ><thead>    <tr>        <th class=\"col_heading level0 col0\" >std</th>        <th class=\"col_heading level0 col1\" >test_acc</th>        <th class=\"col_heading level0 col2\" >train_acc</th>        <th class=\"col_heading level0 col3\" >time_err</th>        <th class=\"col_heading level0 col4\" >time_pre</th>        <th class=\"col_heading level0 col5\" >time_mod</th>    </tr></thead><tbody>\n",
       "                <tr>\n",
       "                                <td id=\"T_7326f7fe_0ab0_11ea_b759_80000027fe80row0_col0\" class=\"data row0 col0\" >0</td>\n",
       "                        <td id=\"T_7326f7fe_0ab0_11ea_b759_80000027fe80row0_col1\" class=\"data row0 col1\" >0.901</td>\n",
       "                        <td id=\"T_7326f7fe_0ab0_11ea_b759_80000027fe80row0_col2\" class=\"data row0 col2\" >1</td>\n",
       "                        <td id=\"T_7326f7fe_0ab0_11ea_b759_80000027fe80row0_col3\" class=\"data row0 col3\" >5.306</td>\n",
       "                        <td id=\"T_7326f7fe_0ab0_11ea_b759_80000027fe80row0_col4\" class=\"data row0 col4\" >0.653</td>\n",
       "                        <td id=\"T_7326f7fe_0ab0_11ea_b759_80000027fe80row0_col5\" class=\"data row0 col5\" >7375.93</td>\n",
       "            </tr>\n",
       "            <tr>\n",
       "                                <td id=\"T_7326f7fe_0ab0_11ea_b759_80000027fe80row1_col0\" class=\"data row1 col0\" >51</td>\n",
       "                        <td id=\"T_7326f7fe_0ab0_11ea_b759_80000027fe80row1_col1\" class=\"data row1 col1\" >0.852</td>\n",
       "                        <td id=\"T_7326f7fe_0ab0_11ea_b759_80000027fe80row1_col2\" class=\"data row1 col2\" >0.999</td>\n",
       "                        <td id=\"T_7326f7fe_0ab0_11ea_b759_80000027fe80row1_col3\" class=\"data row1 col3\" >5.358</td>\n",
       "                        <td id=\"T_7326f7fe_0ab0_11ea_b759_80000027fe80row1_col4\" class=\"data row1 col4\" >0.644</td>\n",
       "                        <td id=\"T_7326f7fe_0ab0_11ea_b759_80000027fe80row1_col5\" class=\"data row1 col5\" >7345.86</td>\n",
       "            </tr>\n",
       "            <tr>\n",
       "                                <td id=\"T_7326f7fe_0ab0_11ea_b759_80000027fe80row2_col0\" class=\"data row2 col0\" >102</td>\n",
       "                        <td id=\"T_7326f7fe_0ab0_11ea_b759_80000027fe80row2_col1\" class=\"data row2 col1\" >0.801</td>\n",
       "                        <td id=\"T_7326f7fe_0ab0_11ea_b759_80000027fe80row2_col2\" class=\"data row2 col2\" >1</td>\n",
       "                        <td id=\"T_7326f7fe_0ab0_11ea_b759_80000027fe80row2_col3\" class=\"data row2 col3\" >5.556</td>\n",
       "                        <td id=\"T_7326f7fe_0ab0_11ea_b759_80000027fe80row2_col4\" class=\"data row2 col4\" >0.646</td>\n",
       "                        <td id=\"T_7326f7fe_0ab0_11ea_b759_80000027fe80row2_col5\" class=\"data row2 col5\" >7295.56</td>\n",
       "            </tr>\n",
       "            <tr>\n",
       "                                <td id=\"T_7326f7fe_0ab0_11ea_b759_80000027fe80row3_col0\" class=\"data row3 col0\" >153</td>\n",
       "                        <td id=\"T_7326f7fe_0ab0_11ea_b759_80000027fe80row3_col1\" class=\"data row3 col1\" >0.748</td>\n",
       "                        <td id=\"T_7326f7fe_0ab0_11ea_b759_80000027fe80row3_col2\" class=\"data row3 col2\" >1</td>\n",
       "                        <td id=\"T_7326f7fe_0ab0_11ea_b759_80000027fe80row3_col3\" class=\"data row3 col3\" >5.52</td>\n",
       "                        <td id=\"T_7326f7fe_0ab0_11ea_b759_80000027fe80row3_col4\" class=\"data row3 col4\" >0.619</td>\n",
       "                        <td id=\"T_7326f7fe_0ab0_11ea_b759_80000027fe80row3_col5\" class=\"data row3 col5\" >7269.22</td>\n",
       "            </tr>\n",
       "            <tr>\n",
       "                                <td id=\"T_7326f7fe_0ab0_11ea_b759_80000027fe80row4_col0\" class=\"data row4 col0\" >204</td>\n",
       "                        <td id=\"T_7326f7fe_0ab0_11ea_b759_80000027fe80row4_col1\" class=\"data row4 col1\" >0.694</td>\n",
       "                        <td id=\"T_7326f7fe_0ab0_11ea_b759_80000027fe80row4_col2\" class=\"data row4 col2\" >1</td>\n",
       "                        <td id=\"T_7326f7fe_0ab0_11ea_b759_80000027fe80row4_col3\" class=\"data row4 col3\" >5.432</td>\n",
       "                        <td id=\"T_7326f7fe_0ab0_11ea_b759_80000027fe80row4_col4\" class=\"data row4 col4\" >0.625</td>\n",
       "                        <td id=\"T_7326f7fe_0ab0_11ea_b759_80000027fe80row4_col5\" class=\"data row4 col5\" >7263.94</td>\n",
       "            </tr>\n",
       "            <tr>\n",
       "                                <td id=\"T_7326f7fe_0ab0_11ea_b759_80000027fe80row5_col0\" class=\"data row5 col0\" >255</td>\n",
       "                        <td id=\"T_7326f7fe_0ab0_11ea_b759_80000027fe80row5_col1\" class=\"data row5 col1\" >0.664</td>\n",
       "                        <td id=\"T_7326f7fe_0ab0_11ea_b759_80000027fe80row5_col2\" class=\"data row5 col2\" >1</td>\n",
       "                        <td id=\"T_7326f7fe_0ab0_11ea_b759_80000027fe80row5_col3\" class=\"data row5 col3\" >5.601</td>\n",
       "                        <td id=\"T_7326f7fe_0ab0_11ea_b759_80000027fe80row5_col4\" class=\"data row5 col4\" >0.615</td>\n",
       "                        <td id=\"T_7326f7fe_0ab0_11ea_b759_80000027fe80row5_col5\" class=\"data row5 col5\" >7268.51</td>\n",
       "            </tr>\n",
       "    </tbody></table>"
      ],
      "text/plain": [
       "<pandas.io.formats.style.Styler at 0x2b8fb5042dd8>"
      ]
     },
     "metadata": {},
     "output_type": "display_data"
    },
    {
     "data": {
      "text/html": [
       "<style  type=\"text/css\" >\n",
       "</style><table id=\"T_73283ad8_0ab0_11ea_b759_80000027fe80\" ><thead>    <tr>        <th class=\"col_heading level0 col0\" >std</th>        <th class=\"col_heading level0 col1\" >pipe_0</th>        <th class=\"col_heading level0 col2\" >pipe_1</th>        <th class=\"col_heading level0 col3\" >pipe_2</th>        <th class=\"col_heading level0 col4\" >pipe_3</th>        <th class=\"col_heading level0 col5\" >pipe_4</th>        <th class=\"col_heading level0 col6\" >pipe_5</th>        <th class=\"col_heading level0 col7\" >pipe_6</th>        <th class=\"col_heading level0 col8\" >pipe_7</th>    </tr></thead><tbody>\n",
       "                <tr>\n",
       "                                <td id=\"T_73283ad8_0ab0_11ea_b759_80000027fe80row0_col0\" class=\"data row0 col0\" >0</td>\n",
       "                        <td id=\"T_73283ad8_0ab0_11ea_b759_80000027fe80row0_col1\" class=\"data row0 col1\" >XGBoost_1_AutoML_20191116_074701</td>\n",
       "                        <td id=\"T_73283ad8_0ab0_11ea_b759_80000027fe80row0_col2\" class=\"data row0 col2\" >nan</td>\n",
       "                        <td id=\"T_73283ad8_0ab0_11ea_b759_80000027fe80row0_col3\" class=\"data row0 col3\" >nan</td>\n",
       "                        <td id=\"T_73283ad8_0ab0_11ea_b759_80000027fe80row0_col4\" class=\"data row0 col4\" >nan</td>\n",
       "                        <td id=\"T_73283ad8_0ab0_11ea_b759_80000027fe80row0_col5\" class=\"data row0 col5\" >nan</td>\n",
       "                        <td id=\"T_73283ad8_0ab0_11ea_b759_80000027fe80row0_col6\" class=\"data row0 col6\" >nan</td>\n",
       "                        <td id=\"T_73283ad8_0ab0_11ea_b759_80000027fe80row0_col7\" class=\"data row0 col7\" >nan</td>\n",
       "                        <td id=\"T_73283ad8_0ab0_11ea_b759_80000027fe80row0_col8\" class=\"data row0 col8\" >nan</td>\n",
       "            </tr>\n",
       "            <tr>\n",
       "                                <td id=\"T_73283ad8_0ab0_11ea_b759_80000027fe80row1_col0\" class=\"data row1 col0\" >51</td>\n",
       "                        <td id=\"T_73283ad8_0ab0_11ea_b759_80000027fe80row1_col1\" class=\"data row1 col1\" >StackedEnsemble_AllModels_AutoML_20191116_224353</td>\n",
       "                        <td id=\"T_73283ad8_0ab0_11ea_b759_80000027fe80row1_col2\" class=\"data row1 col2\" >XGBoost_1_AutoML_20191116_224353</td>\n",
       "                        <td id=\"T_73283ad8_0ab0_11ea_b759_80000027fe80row1_col3\" class=\"data row1 col3\" >XGBoost_2_AutoML_20191116_224353</td>\n",
       "                        <td id=\"T_73283ad8_0ab0_11ea_b759_80000027fe80row1_col4\" class=\"data row1 col4\" >XGBoost_3_AutoML_20191116_224353</td>\n",
       "                        <td id=\"T_73283ad8_0ab0_11ea_b759_80000027fe80row1_col5\" class=\"data row1 col5\" >GBM_1_AutoML_20191116_224353</td>\n",
       "                        <td id=\"T_73283ad8_0ab0_11ea_b759_80000027fe80row1_col6\" class=\"data row1 col6\" >GLM_grid_1_AutoML_20191116_224353_model_1</td>\n",
       "                        <td id=\"T_73283ad8_0ab0_11ea_b759_80000027fe80row1_col7\" class=\"data row1 col7\" >DRF_1_AutoML_20191116_224353</td>\n",
       "                        <td id=\"T_73283ad8_0ab0_11ea_b759_80000027fe80row1_col8\" class=\"data row1 col8\" >GBM_2_AutoML_20191116_224353</td>\n",
       "            </tr>\n",
       "            <tr>\n",
       "                                <td id=\"T_73283ad8_0ab0_11ea_b759_80000027fe80row2_col0\" class=\"data row2 col0\" >102</td>\n",
       "                        <td id=\"T_73283ad8_0ab0_11ea_b759_80000027fe80row2_col1\" class=\"data row2 col1\" >XGBoost_1_AutoML_20191117_113424</td>\n",
       "                        <td id=\"T_73283ad8_0ab0_11ea_b759_80000027fe80row2_col2\" class=\"data row2 col2\" >nan</td>\n",
       "                        <td id=\"T_73283ad8_0ab0_11ea_b759_80000027fe80row2_col3\" class=\"data row2 col3\" >nan</td>\n",
       "                        <td id=\"T_73283ad8_0ab0_11ea_b759_80000027fe80row2_col4\" class=\"data row2 col4\" >nan</td>\n",
       "                        <td id=\"T_73283ad8_0ab0_11ea_b759_80000027fe80row2_col5\" class=\"data row2 col5\" >nan</td>\n",
       "                        <td id=\"T_73283ad8_0ab0_11ea_b759_80000027fe80row2_col6\" class=\"data row2 col6\" >nan</td>\n",
       "                        <td id=\"T_73283ad8_0ab0_11ea_b759_80000027fe80row2_col7\" class=\"data row2 col7\" >nan</td>\n",
       "                        <td id=\"T_73283ad8_0ab0_11ea_b759_80000027fe80row2_col8\" class=\"data row2 col8\" >nan</td>\n",
       "            </tr>\n",
       "            <tr>\n",
       "                                <td id=\"T_73283ad8_0ab0_11ea_b759_80000027fe80row3_col0\" class=\"data row3 col0\" >153</td>\n",
       "                        <td id=\"T_73283ad8_0ab0_11ea_b759_80000027fe80row3_col1\" class=\"data row3 col1\" >XGBoost_1_AutoML_20191118_003216</td>\n",
       "                        <td id=\"T_73283ad8_0ab0_11ea_b759_80000027fe80row3_col2\" class=\"data row3 col2\" >nan</td>\n",
       "                        <td id=\"T_73283ad8_0ab0_11ea_b759_80000027fe80row3_col3\" class=\"data row3 col3\" >nan</td>\n",
       "                        <td id=\"T_73283ad8_0ab0_11ea_b759_80000027fe80row3_col4\" class=\"data row3 col4\" >nan</td>\n",
       "                        <td id=\"T_73283ad8_0ab0_11ea_b759_80000027fe80row3_col5\" class=\"data row3 col5\" >nan</td>\n",
       "                        <td id=\"T_73283ad8_0ab0_11ea_b759_80000027fe80row3_col6\" class=\"data row3 col6\" >nan</td>\n",
       "                        <td id=\"T_73283ad8_0ab0_11ea_b759_80000027fe80row3_col7\" class=\"data row3 col7\" >nan</td>\n",
       "                        <td id=\"T_73283ad8_0ab0_11ea_b759_80000027fe80row3_col8\" class=\"data row3 col8\" >nan</td>\n",
       "            </tr>\n",
       "            <tr>\n",
       "                                <td id=\"T_73283ad8_0ab0_11ea_b759_80000027fe80row4_col0\" class=\"data row4 col0\" >204</td>\n",
       "                        <td id=\"T_73283ad8_0ab0_11ea_b759_80000027fe80row4_col1\" class=\"data row4 col1\" >XGBoost_1_AutoML_20191118_132200</td>\n",
       "                        <td id=\"T_73283ad8_0ab0_11ea_b759_80000027fe80row4_col2\" class=\"data row4 col2\" >nan</td>\n",
       "                        <td id=\"T_73283ad8_0ab0_11ea_b759_80000027fe80row4_col3\" class=\"data row4 col3\" >nan</td>\n",
       "                        <td id=\"T_73283ad8_0ab0_11ea_b759_80000027fe80row4_col4\" class=\"data row4 col4\" >nan</td>\n",
       "                        <td id=\"T_73283ad8_0ab0_11ea_b759_80000027fe80row4_col5\" class=\"data row4 col5\" >nan</td>\n",
       "                        <td id=\"T_73283ad8_0ab0_11ea_b759_80000027fe80row4_col6\" class=\"data row4 col6\" >nan</td>\n",
       "                        <td id=\"T_73283ad8_0ab0_11ea_b759_80000027fe80row4_col7\" class=\"data row4 col7\" >nan</td>\n",
       "                        <td id=\"T_73283ad8_0ab0_11ea_b759_80000027fe80row4_col8\" class=\"data row4 col8\" >nan</td>\n",
       "            </tr>\n",
       "            <tr>\n",
       "                                <td id=\"T_73283ad8_0ab0_11ea_b759_80000027fe80row5_col0\" class=\"data row5 col0\" >255</td>\n",
       "                        <td id=\"T_73283ad8_0ab0_11ea_b759_80000027fe80row5_col1\" class=\"data row5 col1\" >XGBoost_1_AutoML_20191119_033345</td>\n",
       "                        <td id=\"T_73283ad8_0ab0_11ea_b759_80000027fe80row5_col2\" class=\"data row5 col2\" >nan</td>\n",
       "                        <td id=\"T_73283ad8_0ab0_11ea_b759_80000027fe80row5_col3\" class=\"data row5 col3\" >nan</td>\n",
       "                        <td id=\"T_73283ad8_0ab0_11ea_b759_80000027fe80row5_col4\" class=\"data row5 col4\" >nan</td>\n",
       "                        <td id=\"T_73283ad8_0ab0_11ea_b759_80000027fe80row5_col5\" class=\"data row5 col5\" >nan</td>\n",
       "                        <td id=\"T_73283ad8_0ab0_11ea_b759_80000027fe80row5_col6\" class=\"data row5 col6\" >nan</td>\n",
       "                        <td id=\"T_73283ad8_0ab0_11ea_b759_80000027fe80row5_col7\" class=\"data row5 col7\" >nan</td>\n",
       "                        <td id=\"T_73283ad8_0ab0_11ea_b759_80000027fe80row5_col8\" class=\"data row5 col8\" >nan</td>\n",
       "            </tr>\n",
       "    </tbody></table>"
      ],
      "text/plain": [
       "<pandas.io.formats.style.Styler at 0x2b8e41216cf8>"
      ]
     },
     "metadata": {},
     "output_type": "display_data"
    },
    {
     "data": {
      "text/plain": [
       "'H2OAutoMLClean #1'"
      ]
     },
     "metadata": {},
     "output_type": "display_data"
    },
    {
     "data": {
      "text/html": [
       "<style  type=\"text/css\" >\n",
       "</style><table id=\"T_7329536e_0ab0_11ea_b759_80000027fe80\" ><thead>    <tr>        <th class=\"col_heading level0 col0\" >std</th>        <th class=\"col_heading level0 col1\" >test_acc</th>        <th class=\"col_heading level0 col2\" >train_acc</th>        <th class=\"col_heading level0 col3\" >time_err</th>        <th class=\"col_heading level0 col4\" >time_pre</th>        <th class=\"col_heading level0 col5\" >time_mod</th>    </tr></thead><tbody>\n",
       "                <tr>\n",
       "                                <td id=\"T_7329536e_0ab0_11ea_b759_80000027fe80row0_col0\" class=\"data row0 col0\" >0</td>\n",
       "                        <td id=\"T_7329536e_0ab0_11ea_b759_80000027fe80row0_col1\" class=\"data row0 col1\" >0.901</td>\n",
       "                        <td id=\"T_7329536e_0ab0_11ea_b759_80000027fe80row0_col2\" class=\"data row0 col2\" >1</td>\n",
       "                        <td id=\"T_7329536e_0ab0_11ea_b759_80000027fe80row0_col3\" class=\"data row0 col3\" >5.306</td>\n",
       "                        <td id=\"T_7329536e_0ab0_11ea_b759_80000027fe80row0_col4\" class=\"data row0 col4\" >0.653</td>\n",
       "                        <td id=\"T_7329536e_0ab0_11ea_b759_80000027fe80row0_col5\" class=\"data row0 col5\" >7347.06</td>\n",
       "            </tr>\n",
       "            <tr>\n",
       "                                <td id=\"T_7329536e_0ab0_11ea_b759_80000027fe80row1_col0\" class=\"data row1 col0\" >51</td>\n",
       "                        <td id=\"T_7329536e_0ab0_11ea_b759_80000027fe80row1_col1\" class=\"data row1 col1\" >0.656</td>\n",
       "                        <td id=\"T_7329536e_0ab0_11ea_b759_80000027fe80row1_col2\" class=\"data row1 col2\" >1</td>\n",
       "                        <td id=\"T_7329536e_0ab0_11ea_b759_80000027fe80row1_col3\" class=\"data row1 col3\" >5.358</td>\n",
       "                        <td id=\"T_7329536e_0ab0_11ea_b759_80000027fe80row1_col4\" class=\"data row1 col4\" >0.644</td>\n",
       "                        <td id=\"T_7329536e_0ab0_11ea_b759_80000027fe80row1_col5\" class=\"data row1 col5\" >7340.22</td>\n",
       "            </tr>\n",
       "            <tr>\n",
       "                                <td id=\"T_7329536e_0ab0_11ea_b759_80000027fe80row2_col0\" class=\"data row2 col0\" >102</td>\n",
       "                        <td id=\"T_7329536e_0ab0_11ea_b759_80000027fe80row2_col1\" class=\"data row2 col1\" >0.447</td>\n",
       "                        <td id=\"T_7329536e_0ab0_11ea_b759_80000027fe80row2_col2\" class=\"data row2 col2\" >1</td>\n",
       "                        <td id=\"T_7329536e_0ab0_11ea_b759_80000027fe80row2_col3\" class=\"data row2 col3\" >5.556</td>\n",
       "                        <td id=\"T_7329536e_0ab0_11ea_b759_80000027fe80row2_col4\" class=\"data row2 col4\" >0.646</td>\n",
       "                        <td id=\"T_7329536e_0ab0_11ea_b759_80000027fe80row2_col5\" class=\"data row2 col5\" >7359.11</td>\n",
       "            </tr>\n",
       "            <tr>\n",
       "                                <td id=\"T_7329536e_0ab0_11ea_b759_80000027fe80row3_col0\" class=\"data row3 col0\" >153</td>\n",
       "                        <td id=\"T_7329536e_0ab0_11ea_b759_80000027fe80row3_col1\" class=\"data row3 col1\" >0.316</td>\n",
       "                        <td id=\"T_7329536e_0ab0_11ea_b759_80000027fe80row3_col2\" class=\"data row3 col2\" >1</td>\n",
       "                        <td id=\"T_7329536e_0ab0_11ea_b759_80000027fe80row3_col3\" class=\"data row3 col3\" >5.52</td>\n",
       "                        <td id=\"T_7329536e_0ab0_11ea_b759_80000027fe80row3_col4\" class=\"data row3 col4\" >0.619</td>\n",
       "                        <td id=\"T_7329536e_0ab0_11ea_b759_80000027fe80row3_col5\" class=\"data row3 col5\" >7375.9</td>\n",
       "            </tr>\n",
       "            <tr>\n",
       "                                <td id=\"T_7329536e_0ab0_11ea_b759_80000027fe80row4_col0\" class=\"data row4 col0\" >204</td>\n",
       "                        <td id=\"T_7329536e_0ab0_11ea_b759_80000027fe80row4_col1\" class=\"data row4 col1\" >0.244</td>\n",
       "                        <td id=\"T_7329536e_0ab0_11ea_b759_80000027fe80row4_col2\" class=\"data row4 col2\" >1</td>\n",
       "                        <td id=\"T_7329536e_0ab0_11ea_b759_80000027fe80row4_col3\" class=\"data row4 col3\" >5.432</td>\n",
       "                        <td id=\"T_7329536e_0ab0_11ea_b759_80000027fe80row4_col4\" class=\"data row4 col4\" >0.625</td>\n",
       "                        <td id=\"T_7329536e_0ab0_11ea_b759_80000027fe80row4_col5\" class=\"data row4 col5\" >7394.36</td>\n",
       "            </tr>\n",
       "            <tr>\n",
       "                                <td id=\"T_7329536e_0ab0_11ea_b759_80000027fe80row5_col0\" class=\"data row5 col0\" >255</td>\n",
       "                        <td id=\"T_7329536e_0ab0_11ea_b759_80000027fe80row5_col1\" class=\"data row5 col1\" >0.206</td>\n",
       "                        <td id=\"T_7329536e_0ab0_11ea_b759_80000027fe80row5_col2\" class=\"data row5 col2\" >1</td>\n",
       "                        <td id=\"T_7329536e_0ab0_11ea_b759_80000027fe80row5_col3\" class=\"data row5 col3\" >5.601</td>\n",
       "                        <td id=\"T_7329536e_0ab0_11ea_b759_80000027fe80row5_col4\" class=\"data row5 col4\" >0.615</td>\n",
       "                        <td id=\"T_7329536e_0ab0_11ea_b759_80000027fe80row5_col5\" class=\"data row5 col5\" >7383.89</td>\n",
       "            </tr>\n",
       "    </tbody></table>"
      ],
      "text/plain": [
       "<pandas.io.formats.style.Styler at 0x2b8efe5b1588>"
      ]
     },
     "metadata": {},
     "output_type": "display_data"
    },
    {
     "data": {
      "text/html": [
       "<style  type=\"text/css\" >\n",
       "</style><table id=\"T_732a71a4_0ab0_11ea_b759_80000027fe80\" ><thead>    <tr>        <th class=\"col_heading level0 col0\" >std</th>        <th class=\"col_heading level0 col1\" >pipe_0</th>    </tr></thead><tbody>\n",
       "                <tr>\n",
       "                                <td id=\"T_732a71a4_0ab0_11ea_b759_80000027fe80row0_col0\" class=\"data row0 col0\" >0</td>\n",
       "                        <td id=\"T_732a71a4_0ab0_11ea_b759_80000027fe80row0_col1\" class=\"data row0 col1\" >XGBoost_1_AutoML_20191116_094958</td>\n",
       "            </tr>\n",
       "            <tr>\n",
       "                                <td id=\"T_732a71a4_0ab0_11ea_b759_80000027fe80row1_col0\" class=\"data row1 col0\" >51</td>\n",
       "                        <td id=\"T_732a71a4_0ab0_11ea_b759_80000027fe80row1_col1\" class=\"data row1 col1\" >XGBoost_1_AutoML_20191117_004619</td>\n",
       "            </tr>\n",
       "            <tr>\n",
       "                                <td id=\"T_732a71a4_0ab0_11ea_b759_80000027fe80row2_col0\" class=\"data row2 col0\" >102</td>\n",
       "                        <td id=\"T_732a71a4_0ab0_11ea_b759_80000027fe80row2_col1\" class=\"data row2 col1\" >XGBoost_1_AutoML_20191117_133559</td>\n",
       "            </tr>\n",
       "            <tr>\n",
       "                                <td id=\"T_732a71a4_0ab0_11ea_b759_80000027fe80row3_col0\" class=\"data row3 col0\" >153</td>\n",
       "                        <td id=\"T_732a71a4_0ab0_11ea_b759_80000027fe80row3_col1\" class=\"data row3 col1\" >XGBoost_1_AutoML_20191118_023325</td>\n",
       "            </tr>\n",
       "            <tr>\n",
       "                                <td id=\"T_732a71a4_0ab0_11ea_b759_80000027fe80row4_col0\" class=\"data row4 col0\" >204</td>\n",
       "                        <td id=\"T_732a71a4_0ab0_11ea_b759_80000027fe80row4_col1\" class=\"data row4 col1\" >XGBoost_1_AutoML_20191118_152304</td>\n",
       "            </tr>\n",
       "            <tr>\n",
       "                                <td id=\"T_732a71a4_0ab0_11ea_b759_80000027fe80row5_col0\" class=\"data row5 col0\" >255</td>\n",
       "                        <td id=\"T_732a71a4_0ab0_11ea_b759_80000027fe80row5_col1\" class=\"data row5 col1\" >XGBoost_1_AutoML_20191119_053453</td>\n",
       "            </tr>\n",
       "    </tbody></table>"
      ],
      "text/plain": [
       "<pandas.io.formats.style.Styler at 0x2b8e19c122b0>"
      ]
     },
     "metadata": {},
     "output_type": "display_data"
    },
    {
     "data": {
      "text/plain": [
       "'TPOTClassifier #1'"
      ]
     },
     "metadata": {},
     "output_type": "display_data"
    },
    {
     "data": {
      "text/html": [
       "<style  type=\"text/css\" >\n",
       "</style><table id=\"T_732b3828_0ab0_11ea_b759_80000027fe80\" ><thead>    <tr>        <th class=\"col_heading level0 col0\" >std</th>        <th class=\"col_heading level0 col1\" >test_acc</th>        <th class=\"col_heading level0 col2\" >train_acc</th>        <th class=\"col_heading level0 col3\" >time_err</th>        <th class=\"col_heading level0 col4\" >time_pre</th>        <th class=\"col_heading level0 col5\" >time_mod</th>    </tr></thead><tbody>\n",
       "                <tr>\n",
       "                                <td id=\"T_732b3828_0ab0_11ea_b759_80000027fe80row0_col0\" class=\"data row0 col0\" >0</td>\n",
       "                        <td id=\"T_732b3828_0ab0_11ea_b759_80000027fe80row0_col1\" class=\"data row0 col1\" >0.879</td>\n",
       "                        <td id=\"T_732b3828_0ab0_11ea_b759_80000027fe80row0_col2\" class=\"data row0 col2\" >0.991</td>\n",
       "                        <td id=\"T_732b3828_0ab0_11ea_b759_80000027fe80row0_col3\" class=\"data row0 col3\" >5.306</td>\n",
       "                        <td id=\"T_732b3828_0ab0_11ea_b759_80000027fe80row0_col4\" class=\"data row0 col4\" >0.653</td>\n",
       "                        <td id=\"T_732b3828_0ab0_11ea_b759_80000027fe80row0_col5\" class=\"data row0 col5\" >8747.06</td>\n",
       "            </tr>\n",
       "            <tr>\n",
       "                                <td id=\"T_732b3828_0ab0_11ea_b759_80000027fe80row1_col0\" class=\"data row1 col0\" >51</td>\n",
       "                        <td id=\"T_732b3828_0ab0_11ea_b759_80000027fe80row1_col1\" class=\"data row1 col1\" >0.831</td>\n",
       "                        <td id=\"T_732b3828_0ab0_11ea_b759_80000027fe80row1_col2\" class=\"data row1 col2\" >1</td>\n",
       "                        <td id=\"T_732b3828_0ab0_11ea_b759_80000027fe80row1_col3\" class=\"data row1 col3\" >5.358</td>\n",
       "                        <td id=\"T_732b3828_0ab0_11ea_b759_80000027fe80row1_col4\" class=\"data row1 col4\" >0.644</td>\n",
       "                        <td id=\"T_732b3828_0ab0_11ea_b759_80000027fe80row1_col5\" class=\"data row1 col5\" >15740.6</td>\n",
       "            </tr>\n",
       "            <tr>\n",
       "                                <td id=\"T_732b3828_0ab0_11ea_b759_80000027fe80row2_col0\" class=\"data row2 col0\" >102</td>\n",
       "                        <td id=\"T_732b3828_0ab0_11ea_b759_80000027fe80row2_col1\" class=\"data row2 col1\" >0.774</td>\n",
       "                        <td id=\"T_732b3828_0ab0_11ea_b759_80000027fe80row2_col2\" class=\"data row2 col2\" >0.812</td>\n",
       "                        <td id=\"T_732b3828_0ab0_11ea_b759_80000027fe80row2_col3\" class=\"data row2 col3\" >5.556</td>\n",
       "                        <td id=\"T_732b3828_0ab0_11ea_b759_80000027fe80row2_col4\" class=\"data row2 col4\" >0.646</td>\n",
       "                        <td id=\"T_732b3828_0ab0_11ea_b759_80000027fe80row2_col5\" class=\"data row2 col5\" >7990.74</td>\n",
       "            </tr>\n",
       "            <tr>\n",
       "                                <td id=\"T_732b3828_0ab0_11ea_b759_80000027fe80row3_col0\" class=\"data row3 col0\" >153</td>\n",
       "                        <td id=\"T_732b3828_0ab0_11ea_b759_80000027fe80row3_col1\" class=\"data row3 col1\" >0.746</td>\n",
       "                        <td id=\"T_732b3828_0ab0_11ea_b759_80000027fe80row3_col2\" class=\"data row3 col2\" >0.782</td>\n",
       "                        <td id=\"T_732b3828_0ab0_11ea_b759_80000027fe80row3_col3\" class=\"data row3 col3\" >5.52</td>\n",
       "                        <td id=\"T_732b3828_0ab0_11ea_b759_80000027fe80row3_col4\" class=\"data row3 col4\" >0.619</td>\n",
       "                        <td id=\"T_732b3828_0ab0_11ea_b759_80000027fe80row3_col5\" class=\"data row3 col5\" >8679.83</td>\n",
       "            </tr>\n",
       "            <tr>\n",
       "                                <td id=\"T_732b3828_0ab0_11ea_b759_80000027fe80row4_col0\" class=\"data row4 col0\" >204</td>\n",
       "                        <td id=\"T_732b3828_0ab0_11ea_b759_80000027fe80row4_col1\" class=\"data row4 col1\" >0.702</td>\n",
       "                        <td id=\"T_732b3828_0ab0_11ea_b759_80000027fe80row4_col2\" class=\"data row4 col2\" >0.743</td>\n",
       "                        <td id=\"T_732b3828_0ab0_11ea_b759_80000027fe80row4_col3\" class=\"data row4 col3\" >5.432</td>\n",
       "                        <td id=\"T_732b3828_0ab0_11ea_b759_80000027fe80row4_col4\" class=\"data row4 col4\" >0.625</td>\n",
       "                        <td id=\"T_732b3828_0ab0_11ea_b759_80000027fe80row4_col5\" class=\"data row4 col5\" >8155.89</td>\n",
       "            </tr>\n",
       "            <tr>\n",
       "                                <td id=\"T_732b3828_0ab0_11ea_b759_80000027fe80row5_col0\" class=\"data row5 col0\" >255</td>\n",
       "                        <td id=\"T_732b3828_0ab0_11ea_b759_80000027fe80row5_col1\" class=\"data row5 col1\" >0.666</td>\n",
       "                        <td id=\"T_732b3828_0ab0_11ea_b759_80000027fe80row5_col2\" class=\"data row5 col2\" >0.708</td>\n",
       "                        <td id=\"T_732b3828_0ab0_11ea_b759_80000027fe80row5_col3\" class=\"data row5 col3\" >5.601</td>\n",
       "                        <td id=\"T_732b3828_0ab0_11ea_b759_80000027fe80row5_col4\" class=\"data row5 col4\" >0.615</td>\n",
       "                        <td id=\"T_732b3828_0ab0_11ea_b759_80000027fe80row5_col5\" class=\"data row5 col5\" >8776.46</td>\n",
       "            </tr>\n",
       "    </tbody></table>"
      ],
      "text/plain": [
       "<pandas.io.formats.style.Styler at 0x2b8fb5042e10>"
      ]
     },
     "metadata": {},
     "output_type": "display_data"
    },
    {
     "data": {
      "text/html": [
       "<style  type=\"text/css\" >\n",
       "</style><table id=\"T_732c61e4_0ab0_11ea_b759_80000027fe80\" ><thead>    <tr>        <th class=\"col_heading level0 col0\" >std</th>        <th class=\"col_heading level0 col1\" >pipe_0</th>        <th class=\"col_heading level0 col2\" >pipe_1</th>    </tr></thead><tbody>\n",
       "                <tr>\n",
       "                                <td id=\"T_732c61e4_0ab0_11ea_b759_80000027fe80row0_col0\" class=\"data row0 col0\" >0</td>\n",
       "                        <td id=\"T_732c61e4_0ab0_11ea_b759_80000027fe80row0_col1\" class=\"data row0 col1\" >ZeroCount()</td>\n",
       "                        <td id=\"T_732c61e4_0ab0_11ea_b759_80000027fe80row0_col2\" class=\"data row0 col2\" >ExtraTreesClassifier(bootstrap=True, class_weight=None, criterion='gini',\n",
       "                     max_depth=None, max_features=0.8, max_leaf_nodes=None,\n",
       "                     min_impurity_decrease=0.0, min_impurity_split=None,\n",
       "                     min_samples_leaf=1, min_samples_split=11,\n",
       "                     min_weight_fraction_leaf=0.0, n_estimators=100,\n",
       "                     n_jobs=None, oob_score=False, random_state=42, verbose=0,\n",
       "                     warm_start=False)</td>\n",
       "            </tr>\n",
       "            <tr>\n",
       "                                <td id=\"T_732c61e4_0ab0_11ea_b759_80000027fe80row1_col0\" class=\"data row1 col0\" >51</td>\n",
       "                        <td id=\"T_732c61e4_0ab0_11ea_b759_80000027fe80row1_col1\" class=\"data row1 col1\" >KNeighborsClassifier(algorithm='auto', leaf_size=30, metric='minkowski',\n",
       "                     metric_params=None, n_jobs=None, n_neighbors=31, p=1,\n",
       "                     weights='distance')</td>\n",
       "                        <td id=\"T_732c61e4_0ab0_11ea_b759_80000027fe80row1_col2\" class=\"data row1 col2\" >nan</td>\n",
       "            </tr>\n",
       "            <tr>\n",
       "                                <td id=\"T_732c61e4_0ab0_11ea_b759_80000027fe80row2_col0\" class=\"data row2 col0\" >102</td>\n",
       "                        <td id=\"T_732c61e4_0ab0_11ea_b759_80000027fe80row2_col1\" class=\"data row2 col1\" >MinMaxScaler(copy=True, feature_range=(0, 1))</td>\n",
       "                        <td id=\"T_732c61e4_0ab0_11ea_b759_80000027fe80row2_col2\" class=\"data row2 col2\" >LinearSVC(C=20.0, class_weight=None, dual=False, fit_intercept=True,\n",
       "          intercept_scaling=1, loss='squared_hinge', max_iter=1000,\n",
       "          multi_class='ovr', penalty='l2', random_state=42, tol=1e-05,\n",
       "          verbose=0)</td>\n",
       "            </tr>\n",
       "            <tr>\n",
       "                                <td id=\"T_732c61e4_0ab0_11ea_b759_80000027fe80row3_col0\" class=\"data row3 col0\" >153</td>\n",
       "                        <td id=\"T_732c61e4_0ab0_11ea_b759_80000027fe80row3_col1\" class=\"data row3 col1\" >LogisticRegression(C=25.0, class_weight=None, dual=False, fit_intercept=True,\n",
       "                   intercept_scaling=1, l1_ratio=None, max_iter=100,\n",
       "                   multi_class='warn', n_jobs=None, penalty='l1',\n",
       "                   random_state=42, solver='warn', tol=0.0001, verbose=0,\n",
       "                   warm_start=False)</td>\n",
       "                        <td id=\"T_732c61e4_0ab0_11ea_b759_80000027fe80row3_col2\" class=\"data row3 col2\" >nan</td>\n",
       "            </tr>\n",
       "            <tr>\n",
       "                                <td id=\"T_732c61e4_0ab0_11ea_b759_80000027fe80row4_col0\" class=\"data row4 col0\" >204</td>\n",
       "                        <td id=\"T_732c61e4_0ab0_11ea_b759_80000027fe80row4_col1\" class=\"data row4 col1\" >LogisticRegression(C=25.0, class_weight=None, dual=False, fit_intercept=True,\n",
       "                   intercept_scaling=1, l1_ratio=None, max_iter=100,\n",
       "                   multi_class='warn', n_jobs=None, penalty='l1',\n",
       "                   random_state=42, solver='warn', tol=0.0001, verbose=0,\n",
       "                   warm_start=False)</td>\n",
       "                        <td id=\"T_732c61e4_0ab0_11ea_b759_80000027fe80row4_col2\" class=\"data row4 col2\" >nan</td>\n",
       "            </tr>\n",
       "            <tr>\n",
       "                                <td id=\"T_732c61e4_0ab0_11ea_b759_80000027fe80row5_col0\" class=\"data row5 col0\" >255</td>\n",
       "                        <td id=\"T_732c61e4_0ab0_11ea_b759_80000027fe80row5_col1\" class=\"data row5 col1\" >LogisticRegression(C=25.0, class_weight=None, dual=False, fit_intercept=True,\n",
       "                   intercept_scaling=1, l1_ratio=None, max_iter=100,\n",
       "                   multi_class='warn', n_jobs=None, penalty='l1',\n",
       "                   random_state=42, solver='warn', tol=0.0001, verbose=0,\n",
       "                   warm_start=False)</td>\n",
       "                        <td id=\"T_732c61e4_0ab0_11ea_b759_80000027fe80row5_col2\" class=\"data row5 col2\" >nan</td>\n",
       "            </tr>\n",
       "    </tbody></table>"
      ],
      "text/plain": [
       "<pandas.io.formats.style.Styler at 0x2b8e412162b0>"
      ]
     },
     "metadata": {},
     "output_type": "display_data"
    },
    {
     "data": {
      "text/plain": [
       "'TPOTClassifierClean #1'"
      ]
     },
     "metadata": {},
     "output_type": "display_data"
    },
    {
     "data": {
      "text/html": [
       "<style  type=\"text/css\" >\n",
       "</style><table id=\"T_732f2500_0ab0_11ea_b759_80000027fe80\" ><thead>    <tr>        <th class=\"col_heading level0 col0\" >std</th>        <th class=\"col_heading level0 col1\" >test_acc</th>        <th class=\"col_heading level0 col2\" >train_acc</th>        <th class=\"col_heading level0 col3\" >time_err</th>        <th class=\"col_heading level0 col4\" >time_pre</th>        <th class=\"col_heading level0 col5\" >time_mod</th>    </tr></thead><tbody>\n",
       "                <tr>\n",
       "                                <td id=\"T_732f2500_0ab0_11ea_b759_80000027fe80row0_col0\" class=\"data row0 col0\" >0</td>\n",
       "                        <td id=\"T_732f2500_0ab0_11ea_b759_80000027fe80row0_col1\" class=\"data row0 col1\" >0.879</td>\n",
       "                        <td id=\"T_732f2500_0ab0_11ea_b759_80000027fe80row0_col2\" class=\"data row0 col2\" >0.991</td>\n",
       "                        <td id=\"T_732f2500_0ab0_11ea_b759_80000027fe80row0_col3\" class=\"data row0 col3\" >5.306</td>\n",
       "                        <td id=\"T_732f2500_0ab0_11ea_b759_80000027fe80row0_col4\" class=\"data row0 col4\" >0.653</td>\n",
       "                        <td id=\"T_732f2500_0ab0_11ea_b759_80000027fe80row0_col5\" class=\"data row0 col5\" >8734.25</td>\n",
       "            </tr>\n",
       "            <tr>\n",
       "                                <td id=\"T_732f2500_0ab0_11ea_b759_80000027fe80row1_col0\" class=\"data row1 col0\" >51</td>\n",
       "                        <td id=\"T_732f2500_0ab0_11ea_b759_80000027fe80row1_col1\" class=\"data row1 col1\" >0.595</td>\n",
       "                        <td id=\"T_732f2500_0ab0_11ea_b759_80000027fe80row1_col2\" class=\"data row1 col2\" >0.991</td>\n",
       "                        <td id=\"T_732f2500_0ab0_11ea_b759_80000027fe80row1_col3\" class=\"data row1 col3\" >5.358</td>\n",
       "                        <td id=\"T_732f2500_0ab0_11ea_b759_80000027fe80row1_col4\" class=\"data row1 col4\" >0.644</td>\n",
       "                        <td id=\"T_732f2500_0ab0_11ea_b759_80000027fe80row1_col5\" class=\"data row1 col5\" >8842.27</td>\n",
       "            </tr>\n",
       "            <tr>\n",
       "                                <td id=\"T_732f2500_0ab0_11ea_b759_80000027fe80row2_col0\" class=\"data row2 col0\" >102</td>\n",
       "                        <td id=\"T_732f2500_0ab0_11ea_b759_80000027fe80row2_col1\" class=\"data row2 col1\" >0.38</td>\n",
       "                        <td id=\"T_732f2500_0ab0_11ea_b759_80000027fe80row2_col2\" class=\"data row2 col2\" >0.991</td>\n",
       "                        <td id=\"T_732f2500_0ab0_11ea_b759_80000027fe80row2_col3\" class=\"data row2 col3\" >5.556</td>\n",
       "                        <td id=\"T_732f2500_0ab0_11ea_b759_80000027fe80row2_col4\" class=\"data row2 col4\" >0.646</td>\n",
       "                        <td id=\"T_732f2500_0ab0_11ea_b759_80000027fe80row2_col5\" class=\"data row2 col5\" >9049.95</td>\n",
       "            </tr>\n",
       "            <tr>\n",
       "                                <td id=\"T_732f2500_0ab0_11ea_b759_80000027fe80row3_col0\" class=\"data row3 col0\" >153</td>\n",
       "                        <td id=\"T_732f2500_0ab0_11ea_b759_80000027fe80row3_col1\" class=\"data row3 col1\" >0.278</td>\n",
       "                        <td id=\"T_732f2500_0ab0_11ea_b759_80000027fe80row3_col2\" class=\"data row3 col2\" >0.991</td>\n",
       "                        <td id=\"T_732f2500_0ab0_11ea_b759_80000027fe80row3_col3\" class=\"data row3 col3\" >5.52</td>\n",
       "                        <td id=\"T_732f2500_0ab0_11ea_b759_80000027fe80row3_col4\" class=\"data row3 col4\" >0.619</td>\n",
       "                        <td id=\"T_732f2500_0ab0_11ea_b759_80000027fe80row3_col5\" class=\"data row3 col5\" >8817.86</td>\n",
       "            </tr>\n",
       "            <tr>\n",
       "                                <td id=\"T_732f2500_0ab0_11ea_b759_80000027fe80row4_col0\" class=\"data row4 col0\" >204</td>\n",
       "                        <td id=\"T_732f2500_0ab0_11ea_b759_80000027fe80row4_col1\" class=\"data row4 col1\" >0.232</td>\n",
       "                        <td id=\"T_732f2500_0ab0_11ea_b759_80000027fe80row4_col2\" class=\"data row4 col2\" >0.991</td>\n",
       "                        <td id=\"T_732f2500_0ab0_11ea_b759_80000027fe80row4_col3\" class=\"data row4 col3\" >5.432</td>\n",
       "                        <td id=\"T_732f2500_0ab0_11ea_b759_80000027fe80row4_col4\" class=\"data row4 col4\" >0.625</td>\n",
       "                        <td id=\"T_732f2500_0ab0_11ea_b759_80000027fe80row4_col5\" class=\"data row4 col5\" >8869.22</td>\n",
       "            </tr>\n",
       "            <tr>\n",
       "                                <td id=\"T_732f2500_0ab0_11ea_b759_80000027fe80row5_col0\" class=\"data row5 col0\" >255</td>\n",
       "                        <td id=\"T_732f2500_0ab0_11ea_b759_80000027fe80row5_col1\" class=\"data row5 col1\" >0.207</td>\n",
       "                        <td id=\"T_732f2500_0ab0_11ea_b759_80000027fe80row5_col2\" class=\"data row5 col2\" >0.991</td>\n",
       "                        <td id=\"T_732f2500_0ab0_11ea_b759_80000027fe80row5_col3\" class=\"data row5 col3\" >5.601</td>\n",
       "                        <td id=\"T_732f2500_0ab0_11ea_b759_80000027fe80row5_col4\" class=\"data row5 col4\" >0.615</td>\n",
       "                        <td id=\"T_732f2500_0ab0_11ea_b759_80000027fe80row5_col5\" class=\"data row5 col5\" >13161</td>\n",
       "            </tr>\n",
       "    </tbody></table>"
      ],
      "text/plain": [
       "<pandas.io.formats.style.Styler at 0x2b8f9ead9a90>"
      ]
     },
     "metadata": {},
     "output_type": "display_data"
    },
    {
     "data": {
      "text/html": [
       "<style  type=\"text/css\" >\n",
       "</style><table id=\"T_73304dae_0ab0_11ea_b759_80000027fe80\" ><thead>    <tr>        <th class=\"col_heading level0 col0\" >std</th>        <th class=\"col_heading level0 col1\" >pipe_0</th>        <th class=\"col_heading level0 col2\" >pipe_1</th>    </tr></thead><tbody>\n",
       "                <tr>\n",
       "                                <td id=\"T_73304dae_0ab0_11ea_b759_80000027fe80row0_col0\" class=\"data row0 col0\" >0</td>\n",
       "                        <td id=\"T_73304dae_0ab0_11ea_b759_80000027fe80row0_col1\" class=\"data row0 col1\" >ZeroCount()</td>\n",
       "                        <td id=\"T_73304dae_0ab0_11ea_b759_80000027fe80row0_col2\" class=\"data row0 col2\" >ExtraTreesClassifier(bootstrap=True, class_weight=None, criterion='gini',\n",
       "                     max_depth=None, max_features=0.8, max_leaf_nodes=None,\n",
       "                     min_impurity_decrease=0.0, min_impurity_split=None,\n",
       "                     min_samples_leaf=1, min_samples_split=11,\n",
       "                     min_weight_fraction_leaf=0.0, n_estimators=100,\n",
       "                     n_jobs=None, oob_score=False, random_state=42, verbose=0,\n",
       "                     warm_start=False)</td>\n",
       "            </tr>\n",
       "            <tr>\n",
       "                                <td id=\"T_73304dae_0ab0_11ea_b759_80000027fe80row1_col0\" class=\"data row1 col0\" >51</td>\n",
       "                        <td id=\"T_73304dae_0ab0_11ea_b759_80000027fe80row1_col1\" class=\"data row1 col1\" >ZeroCount()</td>\n",
       "                        <td id=\"T_73304dae_0ab0_11ea_b759_80000027fe80row1_col2\" class=\"data row1 col2\" >ExtraTreesClassifier(bootstrap=True, class_weight=None, criterion='gini',\n",
       "                     max_depth=None, max_features=0.8, max_leaf_nodes=None,\n",
       "                     min_impurity_decrease=0.0, min_impurity_split=None,\n",
       "                     min_samples_leaf=1, min_samples_split=11,\n",
       "                     min_weight_fraction_leaf=0.0, n_estimators=100,\n",
       "                     n_jobs=None, oob_score=False, random_state=42, verbose=0,\n",
       "                     warm_start=False)</td>\n",
       "            </tr>\n",
       "            <tr>\n",
       "                                <td id=\"T_73304dae_0ab0_11ea_b759_80000027fe80row2_col0\" class=\"data row2 col0\" >102</td>\n",
       "                        <td id=\"T_73304dae_0ab0_11ea_b759_80000027fe80row2_col1\" class=\"data row2 col1\" >ZeroCount()</td>\n",
       "                        <td id=\"T_73304dae_0ab0_11ea_b759_80000027fe80row2_col2\" class=\"data row2 col2\" >ExtraTreesClassifier(bootstrap=True, class_weight=None, criterion='gini',\n",
       "                     max_depth=None, max_features=0.8, max_leaf_nodes=None,\n",
       "                     min_impurity_decrease=0.0, min_impurity_split=None,\n",
       "                     min_samples_leaf=1, min_samples_split=11,\n",
       "                     min_weight_fraction_leaf=0.0, n_estimators=100,\n",
       "                     n_jobs=None, oob_score=False, random_state=42, verbose=0,\n",
       "                     warm_start=False)</td>\n",
       "            </tr>\n",
       "            <tr>\n",
       "                                <td id=\"T_73304dae_0ab0_11ea_b759_80000027fe80row3_col0\" class=\"data row3 col0\" >153</td>\n",
       "                        <td id=\"T_73304dae_0ab0_11ea_b759_80000027fe80row3_col1\" class=\"data row3 col1\" >ZeroCount()</td>\n",
       "                        <td id=\"T_73304dae_0ab0_11ea_b759_80000027fe80row3_col2\" class=\"data row3 col2\" >ExtraTreesClassifier(bootstrap=True, class_weight=None, criterion='gini',\n",
       "                     max_depth=None, max_features=0.8, max_leaf_nodes=None,\n",
       "                     min_impurity_decrease=0.0, min_impurity_split=None,\n",
       "                     min_samples_leaf=1, min_samples_split=11,\n",
       "                     min_weight_fraction_leaf=0.0, n_estimators=100,\n",
       "                     n_jobs=None, oob_score=False, random_state=42, verbose=0,\n",
       "                     warm_start=False)</td>\n",
       "            </tr>\n",
       "            <tr>\n",
       "                                <td id=\"T_73304dae_0ab0_11ea_b759_80000027fe80row4_col0\" class=\"data row4 col0\" >204</td>\n",
       "                        <td id=\"T_73304dae_0ab0_11ea_b759_80000027fe80row4_col1\" class=\"data row4 col1\" >ZeroCount()</td>\n",
       "                        <td id=\"T_73304dae_0ab0_11ea_b759_80000027fe80row4_col2\" class=\"data row4 col2\" >ExtraTreesClassifier(bootstrap=True, class_weight=None, criterion='gini',\n",
       "                     max_depth=None, max_features=0.8, max_leaf_nodes=None,\n",
       "                     min_impurity_decrease=0.0, min_impurity_split=None,\n",
       "                     min_samples_leaf=1, min_samples_split=11,\n",
       "                     min_weight_fraction_leaf=0.0, n_estimators=100,\n",
       "                     n_jobs=None, oob_score=False, random_state=42, verbose=0,\n",
       "                     warm_start=False)</td>\n",
       "            </tr>\n",
       "            <tr>\n",
       "                                <td id=\"T_73304dae_0ab0_11ea_b759_80000027fe80row5_col0\" class=\"data row5 col0\" >255</td>\n",
       "                        <td id=\"T_73304dae_0ab0_11ea_b759_80000027fe80row5_col1\" class=\"data row5 col1\" >ZeroCount()</td>\n",
       "                        <td id=\"T_73304dae_0ab0_11ea_b759_80000027fe80row5_col2\" class=\"data row5 col2\" >ExtraTreesClassifier(bootstrap=True, class_weight=None, criterion='gini',\n",
       "                     max_depth=None, max_features=0.8, max_leaf_nodes=None,\n",
       "                     min_impurity_decrease=0.0, min_impurity_split=None,\n",
       "                     min_samples_leaf=1, min_samples_split=11,\n",
       "                     min_weight_fraction_leaf=0.0, n_estimators=100,\n",
       "                     n_jobs=None, oob_score=False, random_state=42, verbose=0,\n",
       "                     warm_start=False)</td>\n",
       "            </tr>\n",
       "    </tbody></table>"
      ],
      "text/plain": [
       "<pandas.io.formats.style.Styler at 0x2b8fac47eba8>"
      ]
     },
     "metadata": {},
     "output_type": "display_data"
    },
    {
     "data": {
      "image/png": "[encoded data removed]",
      "text/plain": [
       "<Figure size 720x288 with 2 Axes>"
      ]
     },
     "metadata": {
      "needs_background": "light"
     },
     "output_type": "display_data"
    }
   ],
   "source": [
    "print_results_by_model(df,\n",
    "    # [\"train_labels\", \"test_labels\"],\n",
    "    [\"mean\", \"min_val\", \"max_val\", \"train_labels\", \"test_labels\"], \n",
    "    # err_param_name=\"max_angle\",\n",
    "    err_param_name=\"std\",\n",
    "    pipeline_name=\"best_pipeline\"\n",
    ")\n",
    "visualize(df)"
   ]
  },
  {
   "cell_type": "markdown",
   "metadata": {
    "collapsed": false,
    "papermill": {
     "duration": 0.221369,
     "end_time": "2019-11-19T09:39:16.922830",
     "exception": false,
     "start_time": "2019-11-19T09:39:16.701461",
     "status": "completed"
    },
    "pycharm": {
     "name": "#%% md\n"
    },
    "tags": []
   },
   "source": []
  }
 ],
 "metadata": {
  "kernelspec": {
   "display_name": "Python 3",
   "language": "python",
   "name": "python3"
  },
  "language_info": {
   "codemirror_mode": {
    "name": "ipython",
    "version": 3
   },
   "file_extension": ".py",
   "mimetype": "text/x-python",
   "name": "python",
   "nbconvert_exporter": "python",
   "pygments_lexer": "ipython3",
   "version": "3.6.6"
  },
  "papermill": {
   "duration": 290674.43639,
   "end_time": "2019-11-19T09:39:18.756021",
   "environment_variables": {},
   "exception": null,
   "input_path": "docs/case_studies/test6.ipynb",
   "output_path": "docs/case_studies/test6.ipynb",
   "parameters": {},
   "start_time": "2019-11-16T00:54:44.319631",
   "version": "1.2.0"
  },
  "pycharm": {
   "stem_cell": {
    "cell_type": "raw",
    "source": [],
    "metadata": {
     "collapsed": false
    }
   }
  },
  "widgets": {
   "application/vnd.jupyter.widget-state+json": {
    "state": {},
    "version_major": 2,
    "version_minor": 0
   }
  }
 },
 "nbformat": 4,
 "nbformat_minor": 0
}