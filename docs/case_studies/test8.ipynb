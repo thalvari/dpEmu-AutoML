{
 "cells": [
  {
   "cell_type": "markdown",
   "metadata": {
    "collapsed": false,
    "papermill": {
     "duration": 0.031432,
     "end_time": "2019-10-22T23:07:55.339570",
     "exception": false,
     "start_time": "2019-10-22T23:07:55.308138",
     "status": "completed"
    },
    "tags": []
   },
   "source": [
    "# AutoML Image Classification: Added Noise (Digits)"
   ]
  },
  {
   "cell_type": "markdown",
   "metadata": {
    "collapsed": false,
    "papermill": {
     "duration": 0.012314,
     "end_time": "2019-10-22T23:07:55.365170",
     "exception": false,
     "start_time": "2019-10-22T23:07:55.352856",
     "status": "completed"
    },
    "tags": []
   },
   "source": [
    "![](imgs/gaussian_noise.png)"
   ]
  },
  {
   "cell_type": "code",
   "execution_count": 1,
   "metadata": {
    "collapsed": false,
    "papermill": {
     "duration": 26.021307,
     "end_time": "2019-10-22T23:08:21.398157",
     "exception": false,
     "start_time": "2019-10-22T23:07:55.376850",
     "status": "completed"
    },
    "pycharm": {
     "name": "#%%\n"
    },
    "tags": []
   },
   "outputs": [
    {
     "name": "stderr",
     "output_type": "stream",
     "text": [
      "/wrk/users/thalvari/dpEmu-AutoML/venv/lib/python3.6/site-packages/tensorflow/python/framework/dtypes.py:526: FutureWarning: Passing (type, 1) or '1type' as a synonym of type is deprecated; in a future version of numpy, it will be understood as (type, (1,)) / '(1,)type'.\n",
      "  _np_qint8 = np.dtype([(\"qint8\", np.int8, 1)])\n",
      "/wrk/users/thalvari/dpEmu-AutoML/venv/lib/python3.6/site-packages/tensorflow/python/framework/dtypes.py:527: FutureWarning: Passing (type, 1) or '1type' as a synonym of type is deprecated; in a future version of numpy, it will be understood as (type, (1,)) / '(1,)type'.\n",
      "  _np_quint8 = np.dtype([(\"quint8\", np.uint8, 1)])\n",
      "/wrk/users/thalvari/dpEmu-AutoML/venv/lib/python3.6/site-packages/tensorflow/python/framework/dtypes.py:528: FutureWarning: Passing (type, 1) or '1type' as a synonym of type is deprecated; in a future version of numpy, it will be understood as (type, (1,)) / '(1,)type'.\n",
      "  _np_qint16 = np.dtype([(\"qint16\", np.int16, 1)])\n",
      "/wrk/users/thalvari/dpEmu-AutoML/venv/lib/python3.6/site-packages/tensorflow/python/framework/dtypes.py:529: FutureWarning: Passing (type, 1) or '1type' as a synonym of type is deprecated; in a future version of numpy, it will be understood as (type, (1,)) / '(1,)type'.\n",
      "  _np_quint16 = np.dtype([(\"quint16\", np.uint16, 1)])\n",
      "/wrk/users/thalvari/dpEmu-AutoML/venv/lib/python3.6/site-packages/tensorflow/python/framework/dtypes.py:530: FutureWarning: Passing (type, 1) or '1type' as a synonym of type is deprecated; in a future version of numpy, it will be understood as (type, (1,)) / '(1,)type'.\n",
      "  _np_qint32 = np.dtype([(\"qint32\", np.int32, 1)])\n",
      "/wrk/users/thalvari/dpEmu-AutoML/venv/lib/python3.6/site-packages/tensorflow/python/framework/dtypes.py:535: FutureWarning: Passing (type, 1) or '1type' as a synonym of type is deprecated; in a future version of numpy, it will be understood as (type, (1,)) / '(1,)type'.\n",
      "  np_resource = np.dtype([(\"resource\", np.ubyte, 1)])\n"
     ]
    },
    {
     "name": "stdout",
     "output_type": "stream",
     "text": [
      "Better speed can be achieved with apex installed from https://www.github.com/nvidia/apex.\n"
     ]
    },
    {
     "name": "stderr",
     "output_type": "stream",
     "text": [
      "Using TensorFlow backend.\n"
     ]
    }
   ],
   "source": [
    "import random as rn\n",
    "from abc import ABC, abstractmethod\n",
    "\n",
    "import autokeras as ak\n",
    "import h2o\n",
    "import matplotlib.pyplot as plt\n",
    "import numpy as np\n",
    "from h2o.automl import H2OAutoML\n",
    "from keras.datasets import fashion_mnist\n",
    "from numpy.random import RandomState\n",
    "from sklearn.datasets import load_digits\n",
    "from sklearn.metrics import accuracy_score\n",
    "from sklearn.model_selection import train_test_split\n",
    "from tpot import TPOTClassifier\n",
    "\n",
    "from dpemu import runner\n",
    "from dpemu.filters.common import GaussianNoise, Clip\n",
    "from dpemu.filters.image import RotationPIL\n",
    "from dpemu.nodes import Array\n",
    "from dpemu.nodes.series import Series\n",
    "from dpemu.plotting_utils import visualize_scores, print_results_by_model\n",
    "from dpemu.utils import generate_tmpdir"
   ]
  },
  {
   "cell_type": "markdown",
   "metadata": {
    "collapsed": false,
    "papermill": {
     "duration": 0.013703,
     "end_time": "2019-10-22T23:08:21.438991",
     "exception": false,
     "start_time": "2019-10-22T23:08:21.425288",
     "status": "completed"
    },
    "pycharm": {
     "name": "#%% md\n"
    },
    "tags": []
   },
   "source": []
  },
  {
   "cell_type": "code",
   "execution_count": 2,
   "metadata": {
    "collapsed": false,
    "papermill": {
     "duration": 0.026087,
     "end_time": "2019-10-22T23:08:21.477238",
     "exception": false,
     "start_time": "2019-10-22T23:08:21.451151",
     "status": "completed"
    },
    "pycharm": {
     "is_executing": false,
     "name": "#%%\n"
    },
    "tags": []
   },
   "outputs": [],
   "source": [
    "def get_data():\n",
    "    random_state = RandomState(42)\n",
    "    digits = load_digits()\n",
    "    return train_test_split(digits[\"data\"], digits[\"target\"], test_size=.2, random_state=random_state)\n",
    "    # (x_train, y_train), (x_test, y_test) = fashion_mnist.load_data()\n",
    "    # s = x_train.shape[1]\n",
    "    # x_train = x_train.reshape((len(x_train), s ** 2))\n",
    "    # x_test = x_test.reshape((len(x_test), s ** 2))\n",
    "    # return x_train, x_test, y_train, y_test"
   ]
  },
  {
   "cell_type": "markdown",
   "metadata": {
    "collapsed": false,
    "papermill": {
     "duration": 0.012703,
     "end_time": "2019-10-22T23:08:21.508689",
     "exception": false,
     "start_time": "2019-10-22T23:08:21.495986",
     "status": "completed"
    },
    "pycharm": {
     "name": "#%% md\n"
    },
    "tags": []
   },
   "source": []
  },
  {
   "cell_type": "code",
   "execution_count": 3,
   "metadata": {
    "collapsed": false,
    "papermill": {
     "duration": 0.025635,
     "end_time": "2019-10-22T23:08:21.546109",
     "exception": false,
     "start_time": "2019-10-22T23:08:21.520474",
     "status": "completed"
    },
    "pycharm": {
     "is_executing": false,
     "name": "#%%\n"
    },
    "tags": []
   },
   "outputs": [],
   "source": [
    "def get_err_root_node():\n",
    "    err_img_node = Array(reshape=(8, 8))\n",
    "    # err_img_node = Array(reshape=(28, 28))\n",
    "\n",
    "    # err_root_node = Series(err_img_node)\n",
    "    # err_img_node.addfilter(RotationPIL(\"max_angle\"))\n",
    "    # return err_root_node\n",
    "    err_root_node = Series(err_img_node)\n",
    "    err_img_node.addfilter(GaussianNoise(\"mean\", \"std\"))\n",
    "    err_img_node.addfilter(Clip(\"min_val\", \"max_val\"))\n",
    "    return err_root_node"
   ]
  },
  {
   "cell_type": "markdown",
   "metadata": {
    "collapsed": false,
    "papermill": {
     "duration": 0.012364,
     "end_time": "2019-10-22T23:08:21.575670",
     "exception": false,
     "start_time": "2019-10-22T23:08:21.563306",
     "status": "completed"
    },
    "pycharm": {
     "name": "#%% md\n"
    },
    "tags": []
   },
   "source": []
  },
  {
   "cell_type": "code",
   "execution_count": 4,
   "metadata": {
    "collapsed": false,
    "papermill": {
     "duration": 0.026974,
     "end_time": "2019-10-22T23:08:21.615051",
     "exception": false,
     "start_time": "2019-10-22T23:08:21.588077",
     "status": "completed"
    },
    "pycharm": {
     "is_executing": false,
     "name": "#%%\n"
    },
    "tags": []
   },
   "outputs": [],
   "source": [
    "def get_err_params_list(data):\n",
    "    # angle_steps = np.linspace(0, 90, num=6)\n",
    "    # err_params_list = [{\"max_angle\": a} for a in angle_steps]\n",
    "    # return err_params_list\n",
    "    min_val = np.amin(data)\n",
    "    max_val = np.amax(data)\n",
    "    std_steps = np.round(np.linspace(0, max_val, num=6), 3)\n",
    "    err_params_list = [{\"mean\": 0, \"std\": std, \"min_val\": min_val, \"max_val\": max_val} for std in std_steps]\n",
    "    return err_params_list"
   ]
  },
  {
   "cell_type": "markdown",
   "metadata": {
    "collapsed": false,
    "papermill": {
     "duration": 0.011938,
     "end_time": "2019-10-22T23:08:21.642738",
     "exception": false,
     "start_time": "2019-10-22T23:08:21.630800",
     "status": "completed"
    },
    "pycharm": {
     "name": "#%% md\n"
    },
    "tags": []
   },
   "source": []
  },
  {
   "cell_type": "code",
   "execution_count": 5,
   "metadata": {
    "collapsed": false,
    "papermill": {
     "duration": 0.024145,
     "end_time": "2019-10-22T23:08:21.678872",
     "exception": false,
     "start_time": "2019-10-22T23:08:21.654727",
     "status": "completed"
    },
    "pycharm": {
     "is_executing": false,
     "name": "#%%\n"
    },
    "tags": []
   },
   "outputs": [],
   "source": [
    "class Preprocessor:\n",
    "\n",
    "    def run(self, train_data, test_data, params):\n",
    "        return train_data, test_data, {}"
   ]
  },
  {
   "cell_type": "markdown",
   "metadata": {
    "collapsed": false,
    "papermill": {
     "duration": 0.012797,
     "end_time": "2019-10-22T23:08:21.710138",
     "exception": false,
     "start_time": "2019-10-22T23:08:21.697341",
     "status": "completed"
    },
    "pycharm": {
     "name": "#%% md\n"
    },
    "tags": []
   },
   "source": []
  },
  {
   "cell_type": "code",
   "execution_count": 6,
   "metadata": {
    "collapsed": false,
    "papermill": {
     "duration": 0.062328,
     "end_time": "2019-10-22T23:08:21.784427",
     "exception": false,
     "start_time": "2019-10-22T23:08:21.722099",
     "status": "completed"
    },
    "pycharm": {
     "is_executing": false,
     "name": "#%%\n"
    },
    "tags": []
   },
   "outputs": [],
   "source": [
    "class AbstractModel(ABC):\n",
    "\n",
    "    def __init__(self):\n",
    "        self.time_limit_mins = 60*1\n",
    "        self.seed = 42\n",
    "        self.random_state = RandomState(self.seed)\n",
    "        np.random.seed(self.seed)\n",
    "\n",
    "    @abstractmethod\n",
    "    def get_fitted_model(self, train_data, train_labels, params):\n",
    "        pass\n",
    "\n",
    "    @abstractmethod\n",
    "    def get_accuracy(self, data, labels, fitted_model, params):\n",
    "        pass\n",
    "\n",
    "    @abstractmethod\n",
    "    def get_best_pipeline(self, fitted_model):\n",
    "        pass\n",
    "\n",
    "    def run(self, train_data, test_data, params):\n",
    "        train_labels = params[\"train_labels\"]\n",
    "        test_labels = params[\"test_labels\"]\n",
    "\n",
    "        fitted_model = self.get_fitted_model(train_data, train_labels, params)\n",
    "\n",
    "        return {\n",
    "            \"test_acc\": self.get_accuracy(test_data, test_labels, fitted_model, params),\n",
    "            \"train_acc\": self.get_accuracy(train_data, train_labels, fitted_model, params),\n",
    "            \"best_pipeline\": self.get_best_pipeline(fitted_model),\n",
    "        }\n",
    "\n",
    "class TPOTClassifierModel(AbstractModel):\n",
    "\n",
    "    def __init__(self):\n",
    "        super().__init__()\n",
    "\n",
    "    def get_fitted_model(self, train_data, train_labels, params):\n",
    "        return TPOTClassifier(\n",
    "            max_time_mins=self.time_limit_mins,\n",
    "            n_jobs=-1,\n",
    "            random_state=self.seed,\n",
    "            verbosity=1,\n",
    "        ).fit(train_data, train_labels)\n",
    "    \n",
    "    def get_accuracy(self, data, labels, fitted_model, params):\n",
    "        return round(fitted_model.score(data, labels), 3)\n",
    "\n",
    "    def get_best_pipeline(self, fitted_model):\n",
    "        return [step[1] for step in fitted_model.fitted_pipeline_.steps]\n",
    "\n",
    "class H2OAutoMLModel(AbstractModel):\n",
    "\n",
    "    def __init__(self):\n",
    "        super().__init__()\n",
    "        h2o.init(name=f\"#{rn.SystemRandom().randint(1, 2**30)}\")\n",
    "        h2o.no_progress()\n",
    "\n",
    "    def get_fitted_model(self, train_data, train_labels, params):\n",
    "        train_data = h2o.H2OFrame(np.concatenate((train_data, train_labels.reshape(-1, 1)), axis=1))\n",
    "        x = np.array(train_data.columns)[:-1].tolist()\n",
    "        y = np.array(train_data.columns)[-1].tolist()\n",
    "        train_data[y] = train_data[y].asfactor()\n",
    "        aml = H2OAutoML(max_runtime_secs=60*self.time_limit_mins, seed=self.seed)\n",
    "        aml.train(x=x, y=y, training_frame=train_data)\n",
    "        return aml\n",
    "\n",
    "    def get_accuracy(self, data, labels, fitted_model, params):\n",
    "        data = h2o.H2OFrame(np.concatenate((data, labels.reshape(-1, 1)), axis=1))\n",
    "        y = np.array(data.columns)[-1].tolist()\n",
    "        data[y] = data[y].asfactor()\n",
    "        pred = fitted_model.predict(data).as_data_frame(header=False)[\"predict\"].values.astype(int)\n",
    "        return np.round(np.mean(pred == labels), 3)\n",
    "\n",
    "    def get_best_pipeline(self, fitted_model):\n",
    "        leader_params = fitted_model.leader.get_params()\n",
    "        best_pipeline = [leader_params[\"model_id\"][\"actual_value\"][\"name\"]]\n",
    "        if \"base_models\" in leader_params:\n",
    "            for base_model in leader_params[\"base_models\"][\"actual_value\"]:\n",
    "                best_pipeline.append(base_model[\"name\"])\n",
    "        h2o.cluster().shutdown()\n",
    "        return best_pipeline\n",
    "\n",
    "class AutoKerasModel(AbstractModel):\n",
    "\n",
    "    def __init__(self):\n",
    "        super().__init__()\n",
    "        import tensorflow as tf\n",
    "        tf.set_random_seed(self.seed)\n",
    "        import torch\n",
    "        torch.multiprocessing.set_sharing_strategy(\"file_system\")\n",
    "        torch.manual_seed(self.seed)\n",
    "\n",
    "    def get_fitted_model(self, x_train, y_train, params):\n",
    "        s = np.sqrt(x_train.shape[1]).astype(int)\n",
    "        x_train = x_train.reshape((len(x_train), s, s)).astype(np.uint8)\n",
    "        x_train = x_train.reshape(x_train.shape + (1,))\n",
    "        y_train = y_train.astype(np.uint8)\n",
    "        # clf = ak.ImageClassifier(augment=False, path=generate_tmpdir(), verbose=False)\n",
    "        clf = ak.ImageClassifier(augment=True, path=generate_tmpdir(), verbose=False)\n",
    "        clf.fit(x_train, y_train, time_limit=60*self.time_limit_mins)\n",
    "        return clf\n",
    "\n",
    "    def get_accuracy(self, x, y, clf, params):\n",
    "        s = np.sqrt(x.shape[1]).astype(int)\n",
    "        x = x.reshape((len(x), s, s)).astype(np.uint8)\n",
    "        x = x.reshape(x.shape + (1,))\n",
    "        y = y.astype(np.uint8)\n",
    "        y_pred = clf.predict(x)\n",
    "        return np.round(accuracy_score(y_true=y, y_pred=y_pred), 3)\n",
    "\n",
    "    def get_best_pipeline(self, clf):\n",
    "        return [m for i, m in enumerate(clf.cnn.best_model.produce_model().modules()) if i > 0]"
   ]
  },
  {
   "cell_type": "markdown",
   "metadata": {
    "collapsed": false,
    "papermill": {
     "duration": 0.013265,
     "end_time": "2019-10-22T23:08:21.823312",
     "exception": false,
     "start_time": "2019-10-22T23:08:21.810047",
     "status": "completed"
    },
    "pycharm": {
     "name": "#%% md\n"
    },
    "tags": []
   },
   "source": []
  },
  {
   "cell_type": "code",
   "execution_count": 7,
   "metadata": {
    "collapsed": false,
    "papermill": {
     "duration": 0.03283,
     "end_time": "2019-10-22T23:08:21.868853",
     "exception": false,
     "start_time": "2019-10-22T23:08:21.836023",
     "status": "completed"
    },
    "pycharm": {
     "name": "#%%\n"
    },
    "tags": []
   },
   "outputs": [],
   "source": [
    "def get_model_params_dict_list(train_labels, test_labels):\n",
    "    model_params_base = {\"train_labels\": train_labels, \"test_labels\": test_labels}\n",
    "    return [\n",
    "        {\n",
    "            \"model\": H2OAutoMLModel,\n",
    "            \"params_list\": [{**model_params_base}],\n",
    "            \"use_clean_train_data\": False\n",
    "        },\n",
    "        {\n",
    "            \"model\": H2OAutoMLModel,\n",
    "            \"params_list\": [{**model_params_base}],\n",
    "            \"use_clean_train_data\": True\n",
    "        },\n",
    "        {\n",
    "            \"model\": TPOTClassifierModel,\n",
    "            \"params_list\": [{**model_params_base}],\n",
    "            \"use_clean_train_data\": False\n",
    "        },\n",
    "        {\n",
    "            \"model\": TPOTClassifierModel,\n",
    "            \"params_list\": [{**model_params_base}],\n",
    "            \"use_clean_train_data\": True\n",
    "        },\n",
    "        {\n",
    "            \"model\": AutoKerasModel,\n",
    "            \"params_list\": [{**model_params_base}],\n",
    "            \"use_clean_train_data\": False\n",
    "        },\n",
    "        {\n",
    "            \"model\": AutoKerasModel,\n",
    "            \"params_list\": [{**model_params_base}],\n",
    "            \"use_clean_train_data\": True\n",
    "        },\n",
    "    ]"
   ]
  },
  {
   "cell_type": "markdown",
   "metadata": {
    "collapsed": false,
    "papermill": {
     "duration": 0.013004,
     "end_time": "2019-10-22T23:08:21.901613",
     "exception": false,
     "start_time": "2019-10-22T23:08:21.888609",
     "status": "completed"
    },
    "pycharm": {
     "is_executing": false,
     "name": "#%% md\n"
    },
    "tags": []
   },
   "source": []
  },
  {
   "cell_type": "code",
   "execution_count": 8,
   "metadata": {
    "collapsed": false,
    "papermill": {
     "duration": 0.025461,
     "end_time": "2019-10-22T23:08:21.939236",
     "exception": false,
     "start_time": "2019-10-22T23:08:21.913775",
     "status": "completed"
    },
    "pycharm": {
     "name": "#%%\n"
    },
    "tags": []
   },
   "outputs": [],
   "source": [
    "def visualize(df):\n",
    "    visualize_scores(\n",
    "        df,\n",
    "        score_names=[\"test_acc\", \"train_acc\"],\n",
    "        is_higher_score_better=[True, True],\n",
    "        # err_param_name=\"max_angle\",\n",
    "        err_param_name=\"std\",\n",
    "        title=\"Classification scores with added error\"\n",
    "    )\n",
    "    plt.show()"
   ]
  },
  {
   "cell_type": "markdown",
   "metadata": {
    "collapsed": false,
    "papermill": {
     "duration": 0.011765,
     "end_time": "2019-10-22T23:08:21.967844",
     "exception": false,
     "start_time": "2019-10-22T23:08:21.956079",
     "status": "completed"
    },
    "pycharm": {
     "is_executing": false,
     "name": "#%% md\n"
    },
    "tags": []
   },
   "source": []
  },
  {
   "cell_type": "code",
   "execution_count": 9,
   "metadata": {
    "collapsed": false,
    "papermill": {
     "duration": 22157.221348,
     "end_time": "2019-10-23T05:17:39.201389",
     "exception": false,
     "start_time": "2019-10-22T23:08:21.980041",
     "status": "completed"
    },
    "pycharm": {
     "is_executing": false,
     "name": "#%%\n"
    },
    "tags": []
   },
   "outputs": [
    {
     "name": "stderr",
     "output_type": "stream",
     "text": [
      "\r",
      "  0%|          | 0/6 [00:00<?, ?it/s]"
     ]
    },
    {
     "name": "stdout",
     "output_type": "stream",
     "text": [
      "Checking whether there is an H2O instance running at http://localhost:54321 "
     ]
    },
    {
     "name": "stdout",
     "output_type": "stream",
     "text": [
      "Checking whether there is an H2O instance running at http://localhost:54321 "
     ]
    },
    {
     "name": "stdout",
     "output_type": "stream",
     "text": [
      "Checking whether there is an H2O instance running at http://localhost:54321 "
     ]
    },
    {
     "name": "stdout",
     "output_type": "stream",
     "text": [
      "Checking whether there is an H2O instance running at http://localhost:54321 "
     ]
    },
    {
     "name": "stdout",
     "output_type": "stream",
     "text": [
      "Checking whether there is an H2O instance running at http://localhost:54321 "
     ]
    },
    {
     "name": "stdout",
     "output_type": "stream",
     "text": [
      "Checking whether there is an H2O instance running at http://localhost:54321 "
     ]
    },
    {
     "name": "stdout",
     "output_type": "stream",
     "text": [
      "."
     ]
    },
    {
     "name": "stdout",
     "output_type": "stream",
     "text": [
      "."
     ]
    },
    {
     "name": "stdout",
     "output_type": "stream",
     "text": [
      "."
     ]
    },
    {
     "name": "stdout",
     "output_type": "stream",
     "text": [
      "."
     ]
    },
    {
     "name": "stdout",
     "output_type": "stream",
     "text": [
      "."
     ]
    },
    {
     "name": "stdout",
     "output_type": "stream",
     "text": [
      "."
     ]
    },
    {
     "name": "stdout",
     "output_type": "stream",
     "text": [
      "."
     ]
    },
    {
     "name": "stdout",
     "output_type": "stream",
     "text": [
      "."
     ]
    },
    {
     "name": "stdout",
     "output_type": "stream",
     "text": [
      "."
     ]
    },
    {
     "name": "stdout",
     "output_type": "stream",
     "text": [
      "."
     ]
    },
    {
     "name": "stdout",
     "output_type": "stream",
     "text": [
      "."
     ]
    },
    {
     "name": "stdout",
     "output_type": "stream",
     "text": [
      "."
     ]
    },
    {
     "name": "stdout",
     "output_type": "stream",
     "text": [
      "."
     ]
    },
    {
     "name": "stdout",
     "output_type": "stream",
     "text": [
      "."
     ]
    },
    {
     "name": "stdout",
     "output_type": "stream",
     "text": [
      "."
     ]
    },
    {
     "name": "stdout",
     "output_type": "stream",
     "text": [
      "."
     ]
    },
    {
     "name": "stdout",
     "output_type": "stream",
     "text": [
      "."
     ]
    },
    {
     "name": "stdout",
     "output_type": "stream",
     "text": [
      "."
     ]
    },
    {
     "name": "stdout",
     "output_type": "stream",
     "text": [
      "."
     ]
    },
    {
     "name": "stdout",
     "output_type": "stream",
     "text": [
      "."
     ]
    },
    {
     "name": "stdout",
     "output_type": "stream",
     "text": [
      "."
     ]
    },
    {
     "name": "stdout",
     "output_type": "stream",
     "text": [
      "."
     ]
    },
    {
     "name": "stdout",
     "output_type": "stream",
     "text": [
      "."
     ]
    },
    {
     "name": "stdout",
     "output_type": "stream",
     "text": [
      "."
     ]
    },
    {
     "name": "stdout",
     "output_type": "stream",
     "text": [
      "."
     ]
    },
    {
     "name": "stdout",
     "output_type": "stream",
     "text": [
      "."
     ]
    },
    {
     "name": "stdout",
     "output_type": "stream",
     "text": [
      "."
     ]
    },
    {
     "name": "stdout",
     "output_type": "stream",
     "text": [
      "."
     ]
    },
    {
     "name": "stdout",
     "output_type": "stream",
     "text": [
      "."
     ]
    },
    {
     "name": "stdout",
     "output_type": "stream",
     "text": [
      "."
     ]
    },
    {
     "name": "stdout",
     "output_type": "stream",
     "text": [
      " not found."
     ]
    },
    {
     "name": "stdout",
     "output_type": "stream",
     "text": [
      " not found."
     ]
    },
    {
     "name": "stdout",
     "output_type": "stream",
     "text": [
      "\n"
     ]
    },
    {
     "name": "stdout",
     "output_type": "stream",
     "text": [
      " not found."
     ]
    },
    {
     "name": "stdout",
     "output_type": "stream",
     "text": [
      "\n"
     ]
    },
    {
     "name": "stdout",
     "output_type": "stream",
     "text": [
      " not found."
     ]
    },
    {
     "name": "stdout",
     "output_type": "stream",
     "text": [
      " not found."
     ]
    },
    {
     "name": "stdout",
     "output_type": "stream",
     "text": [
      "\n"
     ]
    },
    {
     "name": "stdout",
     "output_type": "stream",
     "text": [
      "\n"
     ]
    },
    {
     "name": "stdout",
     "output_type": "stream",
     "text": [
      "\n"
     ]
    },
    {
     "name": "stdout",
     "output_type": "stream",
     "text": [
      "Attempting to start a local H2O server..."
     ]
    },
    {
     "name": "stdout",
     "output_type": "stream",
     "text": [
      "\n"
     ]
    },
    {
     "name": "stdout",
     "output_type": "stream",
     "text": [
      "Attempting to start a local H2O server..."
     ]
    },
    {
     "name": "stdout",
     "output_type": "stream",
     "text": [
      "Attempting to start a local H2O server..."
     ]
    },
    {
     "name": "stdout",
     "output_type": "stream",
     "text": [
      "\n"
     ]
    },
    {
     "name": "stdout",
     "output_type": "stream",
     "text": [
      "\n"
     ]
    },
    {
     "name": "stdout",
     "output_type": "stream",
     "text": [
      "Attempting to start a local H2O server..."
     ]
    },
    {
     "name": "stdout",
     "output_type": "stream",
     "text": [
      " not found."
     ]
    },
    {
     "name": "stdout",
     "output_type": "stream",
     "text": [
      "\n"
     ]
    },
    {
     "name": "stdout",
     "output_type": "stream",
     "text": [
      "\n"
     ]
    },
    {
     "name": "stdout",
     "output_type": "stream",
     "text": [
      "Attempting to start a local H2O server..."
     ]
    },
    {
     "name": "stdout",
     "output_type": "stream",
     "text": [
      "\n"
     ]
    },
    {
     "name": "stdout",
     "output_type": "stream",
     "text": [
      "Attempting to start a local H2O server..."
     ]
    },
    {
     "name": "stdout",
     "output_type": "stream",
     "text": [
      "\n"
     ]
    },
    {
     "name": "stdout",
     "output_type": "stream",
     "text": [
      "  Java Version: openjdk version \"1.8.0_222\"; OpenJDK Runtime Environment (build 1.8.0_222-b10); OpenJDK 64-Bit Server VM (build 25.222-b10, mixed mode)"
     ]
    },
    {
     "name": "stdout",
     "output_type": "stream",
     "text": [
      "\n"
     ]
    },
    {
     "name": "stdout",
     "output_type": "stream",
     "text": [
      "  Starting server from /wrk/users/thalvari/dpEmu-AutoML/venv/lib/python3.6/site-packages/h2o/backend/bin/h2o.jar"
     ]
    },
    {
     "name": "stdout",
     "output_type": "stream",
     "text": [
      "\n"
     ]
    },
    {
     "name": "stdout",
     "output_type": "stream",
     "text": [
      "  Ice root: /wrk/users/thalvari/tmpecg8drr4"
     ]
    },
    {
     "name": "stdout",
     "output_type": "stream",
     "text": [
      "\n"
     ]
    },
    {
     "name": "stdout",
     "output_type": "stream",
     "text": [
      "  JVM stdout: /wrk/users/thalvari/tmpecg8drr4/h2o_thalvari_started_from_python.out"
     ]
    },
    {
     "name": "stdout",
     "output_type": "stream",
     "text": [
      "\n"
     ]
    },
    {
     "name": "stdout",
     "output_type": "stream",
     "text": [
      "  JVM stderr: /wrk/users/thalvari/tmpecg8drr4/h2o_thalvari_started_from_python.err"
     ]
    },
    {
     "name": "stdout",
     "output_type": "stream",
     "text": [
      "\n"
     ]
    },
    {
     "name": "stdout",
     "output_type": "stream",
     "text": [
      "  Java Version: openjdk version \"1.8.0_222\"; OpenJDK Runtime Environment (build 1.8.0_222-b10); OpenJDK 64-Bit Server VM (build 25.222-b10, mixed mode)"
     ]
    },
    {
     "name": "stdout",
     "output_type": "stream",
     "text": [
      "  Java Version: openjdk version \"1.8.0_222\"; OpenJDK Runtime Environment (build 1.8.0_222-b10); OpenJDK 64-Bit Server VM (build 25.222-b10, mixed mode)"
     ]
    },
    {
     "name": "stdout",
     "output_type": "stream",
     "text": [
      "\n"
     ]
    },
    {
     "name": "stdout",
     "output_type": "stream",
     "text": [
      "\n"
     ]
    },
    {
     "name": "stdout",
     "output_type": "stream",
     "text": [
      "  Java Version: openjdk version \"1.8.0_222\"; OpenJDK Runtime Environment (build 1.8.0_222-b10); OpenJDK 64-Bit Server VM (build 25.222-b10, mixed mode)"
     ]
    },
    {
     "name": "stdout",
     "output_type": "stream",
     "text": [
      "  Java Version: openjdk version \"1.8.0_222\"; OpenJDK Runtime Environment (build 1.8.0_222-b10); OpenJDK 64-Bit Server VM (build 25.222-b10, mixed mode)"
     ]
    },
    {
     "name": "stdout",
     "output_type": "stream",
     "text": [
      "  Starting server from /wrk/users/thalvari/dpEmu-AutoML/venv/lib/python3.6/site-packages/h2o/backend/bin/h2o.jar"
     ]
    },
    {
     "name": "stdout",
     "output_type": "stream",
     "text": [
      "  Starting server from /wrk/users/thalvari/dpEmu-AutoML/venv/lib/python3.6/site-packages/h2o/backend/bin/h2o.jar"
     ]
    },
    {
     "name": "stdout",
     "output_type": "stream",
     "text": [
      "\n"
     ]
    },
    {
     "name": "stdout",
     "output_type": "stream",
     "text": [
      "\n"
     ]
    },
    {
     "name": "stdout",
     "output_type": "stream",
     "text": [
      "\n"
     ]
    },
    {
     "name": "stdout",
     "output_type": "stream",
     "text": [
      "  Starting server from /wrk/users/thalvari/dpEmu-AutoML/venv/lib/python3.6/site-packages/h2o/backend/bin/h2o.jar"
     ]
    },
    {
     "name": "stdout",
     "output_type": "stream",
     "text": [
      "\n"
     ]
    },
    {
     "name": "stdout",
     "output_type": "stream",
     "text": [
      "  Starting server from /wrk/users/thalvari/dpEmu-AutoML/venv/lib/python3.6/site-packages/h2o/backend/bin/h2o.jar"
     ]
    },
    {
     "name": "stdout",
     "output_type": "stream",
     "text": [
      "  Ice root: /wrk/users/thalvari/tmpaeoktt57"
     ]
    },
    {
     "name": "stdout",
     "output_type": "stream",
     "text": [
      "\n"
     ]
    },
    {
     "name": "stdout",
     "output_type": "stream",
     "text": [
      "\n"
     ]
    },
    {
     "name": "stdout",
     "output_type": "stream",
     "text": [
      "\n"
     ]
    },
    {
     "name": "stdout",
     "output_type": "stream",
     "text": [
      "  Ice root: /wrk/users/thalvari/tmpdvxk2ohd"
     ]
    },
    {
     "name": "stdout",
     "output_type": "stream",
     "text": [
      "  Ice root: /wrk/users/thalvari/tmpcoct77i9"
     ]
    },
    {
     "name": "stdout",
     "output_type": "stream",
     "text": [
      "  Ice root: /wrk/users/thalvari/tmp6xjxnjtl"
     ]
    },
    {
     "name": "stdout",
     "output_type": "stream",
     "text": [
      "\n"
     ]
    },
    {
     "name": "stdout",
     "output_type": "stream",
     "text": [
      "\n"
     ]
    },
    {
     "name": "stdout",
     "output_type": "stream",
     "text": [
      "\n"
     ]
    },
    {
     "name": "stdout",
     "output_type": "stream",
     "text": [
      "  JVM stdout: /wrk/users/thalvari/tmpaeoktt57/h2o_thalvari_started_from_python.out"
     ]
    },
    {
     "name": "stdout",
     "output_type": "stream",
     "text": [
      "  JVM stdout: /wrk/users/thalvari/tmpcoct77i9/h2o_thalvari_started_from_python.out"
     ]
    },
    {
     "name": "stdout",
     "output_type": "stream",
     "text": [
      "\n"
     ]
    },
    {
     "name": "stdout",
     "output_type": "stream",
     "text": [
      "\n"
     ]
    },
    {
     "name": "stdout",
     "output_type": "stream",
     "text": [
      "  JVM stderr: /wrk/users/thalvari/tmpaeoktt57/h2o_thalvari_started_from_python.err"
     ]
    },
    {
     "name": "stdout",
     "output_type": "stream",
     "text": [
      "  JVM stdout: /wrk/users/thalvari/tmp6xjxnjtl/h2o_thalvari_started_from_python.out"
     ]
    },
    {
     "name": "stdout",
     "output_type": "stream",
     "text": [
      "  JVM stderr: /wrk/users/thalvari/tmpcoct77i9/h2o_thalvari_started_from_python.err"
     ]
    },
    {
     "name": "stdout",
     "output_type": "stream",
     "text": [
      "\n"
     ]
    },
    {
     "name": "stdout",
     "output_type": "stream",
     "text": [
      "  JVM stdout: /wrk/users/thalvari/tmpdvxk2ohd/h2o_thalvari_started_from_python.out"
     ]
    },
    {
     "name": "stdout",
     "output_type": "stream",
     "text": [
      "\n"
     ]
    },
    {
     "name": "stdout",
     "output_type": "stream",
     "text": [
      "\n"
     ]
    },
    {
     "name": "stdout",
     "output_type": "stream",
     "text": [
      "\n"
     ]
    },
    {
     "name": "stdout",
     "output_type": "stream",
     "text": [
      "  JVM stderr: /wrk/users/thalvari/tmp6xjxnjtl/h2o_thalvari_started_from_python.err"
     ]
    },
    {
     "name": "stdout",
     "output_type": "stream",
     "text": [
      "  JVM stderr: /wrk/users/thalvari/tmpdvxk2ohd/h2o_thalvari_started_from_python.err"
     ]
    },
    {
     "name": "stdout",
     "output_type": "stream",
     "text": [
      "\n"
     ]
    },
    {
     "name": "stdout",
     "output_type": "stream",
     "text": [
      "  Java Version: openjdk version \"1.8.0_222\"; OpenJDK Runtime Environment (build 1.8.0_222-b10); OpenJDK 64-Bit Server VM (build 25.222-b10, mixed mode)"
     ]
    },
    {
     "name": "stdout",
     "output_type": "stream",
     "text": [
      "\n"
     ]
    },
    {
     "name": "stdout",
     "output_type": "stream",
     "text": [
      "\n"
     ]
    },
    {
     "name": "stdout",
     "output_type": "stream",
     "text": [
      "  Starting server from /wrk/users/thalvari/dpEmu-AutoML/venv/lib/python3.6/site-packages/h2o/backend/bin/h2o.jar"
     ]
    },
    {
     "name": "stdout",
     "output_type": "stream",
     "text": [
      "\n"
     ]
    },
    {
     "name": "stdout",
     "output_type": "stream",
     "text": [
      "  Ice root: /wrk/users/thalvari/tmpzo0m6h7t"
     ]
    },
    {
     "name": "stdout",
     "output_type": "stream",
     "text": [
      "\n"
     ]
    },
    {
     "name": "stdout",
     "output_type": "stream",
     "text": [
      "  JVM stdout: /wrk/users/thalvari/tmpzo0m6h7t/h2o_thalvari_started_from_python.out"
     ]
    },
    {
     "name": "stdout",
     "output_type": "stream",
     "text": [
      "\n"
     ]
    },
    {
     "name": "stdout",
     "output_type": "stream",
     "text": [
      "  JVM stderr: /wrk/users/thalvari/tmpzo0m6h7t/h2o_thalvari_started_from_python.err"
     ]
    },
    {
     "name": "stdout",
     "output_type": "stream",
     "text": [
      "\n"
     ]
    },
    {
     "name": "stdout",
     "output_type": "stream",
     "text": [
      "  Server is running at http://127.0.0.1:54321"
     ]
    },
    {
     "name": "stdout",
     "output_type": "stream",
     "text": [
      "\n"
     ]
    },
    {
     "name": "stdout",
     "output_type": "stream",
     "text": [
      "  Server is running at http://127.0.0.1:54331"
     ]
    },
    {
     "name": "stdout",
     "output_type": "stream",
     "text": [
      "  Server is running at http://127.0.0.1:54327"
     ]
    },
    {
     "name": "stdout",
     "output_type": "stream",
     "text": [
      "  Server is running at http://127.0.0.1:54329"
     ]
    },
    {
     "name": "stdout",
     "output_type": "stream",
     "text": [
      "\n"
     ]
    },
    {
     "name": "stdout",
     "output_type": "stream",
     "text": [
      "\n"
     ]
    },
    {
     "name": "stdout",
     "output_type": "stream",
     "text": [
      "\n"
     ]
    },
    {
     "name": "stdout",
     "output_type": "stream",
     "text": [
      "  Server is running at http://127.0.0.1:54325"
     ]
    },
    {
     "name": "stdout",
     "output_type": "stream",
     "text": [
      "Connecting to H2O server at http://127.0.0.1:54321 .."
     ]
    },
    {
     "name": "stdout",
     "output_type": "stream",
     "text": [
      "\n"
     ]
    },
    {
     "name": "stdout",
     "output_type": "stream",
     "text": [
      "Connecting to H2O server at http://127.0.0.1:54327 .."
     ]
    },
    {
     "name": "stdout",
     "output_type": "stream",
     "text": [
      "Connecting to H2O server at http://127.0.0.1:54331 .."
     ]
    },
    {
     "name": "stdout",
     "output_type": "stream",
     "text": [
      "."
     ]
    },
    {
     "name": "stdout",
     "output_type": "stream",
     "text": [
      "Connecting to H2O server at http://127.0.0.1:54329 .."
     ]
    },
    {
     "name": "stdout",
     "output_type": "stream",
     "text": [
      "."
     ]
    },
    {
     "name": "stdout",
     "output_type": "stream",
     "text": [
      "."
     ]
    },
    {
     "name": "stdout",
     "output_type": "stream",
     "text": [
      "."
     ]
    },
    {
     "name": "stdout",
     "output_type": "stream",
     "text": [
      "Connecting to H2O server at http://127.0.0.1:54325 .."
     ]
    },
    {
     "name": "stdout",
     "output_type": "stream",
     "text": [
      "."
     ]
    },
    {
     "name": "stdout",
     "output_type": "stream",
     "text": [
      "  Server is running at http://127.0.0.1:54323"
     ]
    },
    {
     "name": "stdout",
     "output_type": "stream",
     "text": [
      "\n"
     ]
    },
    {
     "name": "stdout",
     "output_type": "stream",
     "text": [
      "Connecting to H2O server at http://127.0.0.1:54323 .."
     ]
    },
    {
     "name": "stdout",
     "output_type": "stream",
     "text": [
      "."
     ]
    },
    {
     "name": "stdout",
     "output_type": "stream",
     "text": [
      " successful."
     ]
    },
    {
     "name": "stdout",
     "output_type": "stream",
     "text": [
      "\n"
     ]
    },
    {
     "name": "stdout",
     "output_type": "stream",
     "text": [
      " successful."
     ]
    },
    {
     "name": "stdout",
     "output_type": "stream",
     "text": [
      "\n"
     ]
    },
    {
     "name": "stdout",
     "output_type": "stream",
     "text": [
      " successful."
     ]
    },
    {
     "name": "stdout",
     "output_type": "stream",
     "text": [
      "\n"
     ]
    },
    {
     "name": "stdout",
     "output_type": "stream",
     "text": [
      " successful."
     ]
    },
    {
     "name": "stdout",
     "output_type": "stream",
     "text": [
      "\n"
     ]
    },
    {
     "name": "stdout",
     "output_type": "stream",
     "text": [
      " successful."
     ]
    },
    {
     "name": "stdout",
     "output_type": "stream",
     "text": [
      "\n"
     ]
    },
    {
     "name": "stdout",
     "output_type": "stream",
     "text": [
      " successful."
     ]
    },
    {
     "name": "stdout",
     "output_type": "stream",
     "text": [
      "\n"
     ]
    },
    {
     "data": {
      "text/html": [
       "<div style=\"overflow:auto\"><table style=\"width:50%\"><tr><td>H2O cluster uptime:</td>\n",
       "<td>03 secs</td></tr>\n",
       "<tr><td>H2O cluster timezone:</td>\n",
       "<td>Europe/Helsinki</td></tr>\n",
       "<tr><td>H2O data parsing timezone:</td>\n",
       "<td>UTC</td></tr>\n",
       "<tr><td>H2O cluster version:</td>\n",
       "<td>3.26.0.8</td></tr>\n",
       "<tr><td>H2O cluster version age:</td>\n",
       "<td>5 days </td></tr>\n",
       "<tr><td>H2O cluster name:</td>\n",
       "<td>#256676497</td></tr>\n",
       "<tr><td>H2O cluster total nodes:</td>\n",
       "<td>1</td></tr>\n",
       "<tr><td>H2O cluster free memory:</td>\n",
       "<td>26.67 Gb</td></tr>\n",
       "<tr><td>H2O cluster total cores:</td>\n",
       "<td>18</td></tr>\n",
       "<tr><td>H2O cluster allowed cores:</td>\n",
       "<td>18</td></tr>\n",
       "<tr><td>H2O cluster status:</td>\n",
       "<td>accepting new members, healthy</td></tr>\n",
       "<tr><td>H2O connection url:</td>\n",
       "<td>http://127.0.0.1:54323</td></tr>\n",
       "<tr><td>H2O connection proxy:</td>\n",
       "<td>{'http': None, 'https': None}</td></tr>\n",
       "<tr><td>H2O internal security:</td>\n",
       "<td>False</td></tr>\n",
       "<tr><td>H2O API Extensions:</td>\n",
       "<td>Amazon S3, XGBoost, Algos, AutoML, Core V3, TargetEncoder, Core V4</td></tr>\n",
       "<tr><td>Python version:</td>\n",
       "<td>3.6.6 final</td></tr></table></div>"
      ],
      "text/plain": [
       "--------------------------  ------------------------------------------------------------------\n",
       "H2O cluster uptime:         03 secs\n",
       "H2O cluster timezone:       Europe/Helsinki\n",
       "H2O data parsing timezone:  UTC\n",
       "H2O cluster version:        3.26.0.8\n",
       "H2O cluster version age:    5 days\n",
       "H2O cluster name:           #256676497\n",
       "H2O cluster total nodes:    1\n",
       "H2O cluster free memory:    26.67 Gb\n",
       "H2O cluster total cores:    18\n",
       "H2O cluster allowed cores:  18\n",
       "H2O cluster status:         accepting new members, healthy\n",
       "H2O connection url:         http://127.0.0.1:54323\n",
       "H2O connection proxy:       {'http': None, 'https': None}\n",
       "H2O internal security:      False\n",
       "H2O API Extensions:         Amazon S3, XGBoost, Algos, AutoML, Core V3, TargetEncoder, Core V4\n",
       "Python version:             3.6.6 final\n",
       "--------------------------  ------------------------------------------------------------------"
      ]
     },
     "metadata": {},
     "output_type": "display_data"
    },
    {
     "data": {
      "text/html": [
       "<div style=\"overflow:auto\"><table style=\"width:50%\"><tr><td>H2O cluster uptime:</td>\n",
       "<td>03 secs</td></tr>\n",
       "<tr><td>H2O cluster timezone:</td>\n",
       "<td>Europe/Helsinki</td></tr>\n",
       "<tr><td>H2O data parsing timezone:</td>\n",
       "<td>UTC</td></tr>\n",
       "<tr><td>H2O cluster version:</td>\n",
       "<td>3.26.0.8</td></tr>\n",
       "<tr><td>H2O cluster version age:</td>\n",
       "<td>5 days </td></tr>\n",
       "<tr><td>H2O cluster name:</td>\n",
       "<td>#544585456</td></tr>\n",
       "<tr><td>H2O cluster total nodes:</td>\n",
       "<td>1</td></tr>\n",
       "<tr><td>H2O cluster free memory:</td>\n",
       "<td>26.67 Gb</td></tr>\n",
       "<tr><td>H2O cluster total cores:</td>\n",
       "<td>18</td></tr>\n",
       "<tr><td>H2O cluster allowed cores:</td>\n",
       "<td>18</td></tr>\n",
       "<tr><td>H2O cluster status:</td>\n",
       "<td>accepting new members, healthy</td></tr>\n",
       "<tr><td>H2O connection url:</td>\n",
       "<td>http://127.0.0.1:54327</td></tr>\n",
       "<tr><td>H2O connection proxy:</td>\n",
       "<td>{'http': None, 'https': None}</td></tr>\n",
       "<tr><td>H2O internal security:</td>\n",
       "<td>False</td></tr>\n",
       "<tr><td>H2O API Extensions:</td>\n",
       "<td>Amazon S3, XGBoost, Algos, AutoML, Core V3, TargetEncoder, Core V4</td></tr>\n",
       "<tr><td>Python version:</td>\n",
       "<td>3.6.6 final</td></tr></table></div>"
      ],
      "text/plain": [
       "--------------------------  ------------------------------------------------------------------\n",
       "H2O cluster uptime:         03 secs\n",
       "H2O cluster timezone:       Europe/Helsinki\n",
       "H2O data parsing timezone:  UTC\n",
       "H2O cluster version:        3.26.0.8\n",
       "H2O cluster version age:    5 days\n",
       "H2O cluster name:           #544585456\n",
       "H2O cluster total nodes:    1\n",
       "H2O cluster free memory:    26.67 Gb\n",
       "H2O cluster total cores:    18\n",
       "H2O cluster allowed cores:  18\n",
       "H2O cluster status:         accepting new members, healthy\n",
       "H2O connection url:         http://127.0.0.1:54327\n",
       "H2O connection proxy:       {'http': None, 'https': None}\n",
       "H2O internal security:      False\n",
       "H2O API Extensions:         Amazon S3, XGBoost, Algos, AutoML, Core V3, TargetEncoder, Core V4\n",
       "Python version:             3.6.6 final\n",
       "--------------------------  ------------------------------------------------------------------"
      ]
     },
     "metadata": {},
     "output_type": "display_data"
    },
    {
     "data": {
      "text/html": [
       "<div style=\"overflow:auto\"><table style=\"width:50%\"><tr><td>H2O cluster uptime:</td>\n",
       "<td>03 secs</td></tr>\n",
       "<tr><td>H2O cluster timezone:</td>\n",
       "<td>Europe/Helsinki</td></tr>\n",
       "<tr><td>H2O data parsing timezone:</td>\n",
       "<td>UTC</td></tr>\n",
       "<tr><td>H2O cluster version:</td>\n",
       "<td>3.26.0.8</td></tr>\n",
       "<tr><td>H2O cluster version age:</td>\n",
       "<td>5 days </td></tr>\n",
       "<tr><td>H2O cluster name:</td>\n",
       "<td>#476419680</td></tr>\n",
       "<tr><td>H2O cluster total nodes:</td>\n",
       "<td>1</td></tr>\n",
       "<tr><td>H2O cluster free memory:</td>\n",
       "<td>26.67 Gb</td></tr>\n",
       "<tr><td>H2O cluster total cores:</td>\n",
       "<td>18</td></tr>\n",
       "<tr><td>H2O cluster allowed cores:</td>\n",
       "<td>18</td></tr>\n",
       "<tr><td>H2O cluster status:</td>\n",
       "<td>accepting new members, healthy</td></tr>\n",
       "<tr><td>H2O connection url:</td>\n",
       "<td>http://127.0.0.1:54325</td></tr>\n",
       "<tr><td>H2O connection proxy:</td>\n",
       "<td>{'http': None, 'https': None}</td></tr>\n",
       "<tr><td>H2O internal security:</td>\n",
       "<td>False</td></tr>\n",
       "<tr><td>H2O API Extensions:</td>\n",
       "<td>Amazon S3, XGBoost, Algos, AutoML, Core V3, TargetEncoder, Core V4</td></tr>\n",
       "<tr><td>Python version:</td>\n",
       "<td>3.6.6 final</td></tr></table></div>"
      ],
      "text/plain": [
       "--------------------------  ------------------------------------------------------------------\n",
       "H2O cluster uptime:         03 secs\n",
       "H2O cluster timezone:       Europe/Helsinki\n",
       "H2O data parsing timezone:  UTC\n",
       "H2O cluster version:        3.26.0.8\n",
       "H2O cluster version age:    5 days\n",
       "H2O cluster name:           #476419680\n",
       "H2O cluster total nodes:    1\n",
       "H2O cluster free memory:    26.67 Gb\n",
       "H2O cluster total cores:    18\n",
       "H2O cluster allowed cores:  18\n",
       "H2O cluster status:         accepting new members, healthy\n",
       "H2O connection url:         http://127.0.0.1:54325\n",
       "H2O connection proxy:       {'http': None, 'https': None}\n",
       "H2O internal security:      False\n",
       "H2O API Extensions:         Amazon S3, XGBoost, Algos, AutoML, Core V3, TargetEncoder, Core V4\n",
       "Python version:             3.6.6 final\n",
       "--------------------------  ------------------------------------------------------------------"
      ]
     },
     "metadata": {},
     "output_type": "display_data"
    },
    {
     "data": {
      "text/html": [
       "<div style=\"overflow:auto\"><table style=\"width:50%\"><tr><td>H2O cluster uptime:</td>\n",
       "<td>03 secs</td></tr>\n",
       "<tr><td>H2O cluster timezone:</td>\n",
       "<td>Europe/Helsinki</td></tr>\n",
       "<tr><td>H2O data parsing timezone:</td>\n",
       "<td>UTC</td></tr>\n",
       "<tr><td>H2O cluster version:</td>\n",
       "<td>3.26.0.8</td></tr>\n",
       "<tr><td>H2O cluster version age:</td>\n",
       "<td>5 days </td></tr>\n",
       "<tr><td>H2O cluster name:</td>\n",
       "<td>#744182165</td></tr>\n",
       "<tr><td>H2O cluster total nodes:</td>\n",
       "<td>1</td></tr>\n",
       "<tr><td>H2O cluster free memory:</td>\n",
       "<td>26.67 Gb</td></tr>\n",
       "<tr><td>H2O cluster total cores:</td>\n",
       "<td>18</td></tr>\n",
       "<tr><td>H2O cluster allowed cores:</td>\n",
       "<td>18</td></tr>\n",
       "<tr><td>H2O cluster status:</td>\n",
       "<td>accepting new members, healthy</td></tr>\n",
       "<tr><td>H2O connection url:</td>\n",
       "<td>http://127.0.0.1:54321</td></tr>\n",
       "<tr><td>H2O connection proxy:</td>\n",
       "<td>{'http': None, 'https': None}</td></tr>\n",
       "<tr><td>H2O internal security:</td>\n",
       "<td>False</td></tr>\n",
       "<tr><td>H2O API Extensions:</td>\n",
       "<td>Amazon S3, XGBoost, Algos, AutoML, Core V3, TargetEncoder, Core V4</td></tr>\n",
       "<tr><td>Python version:</td>\n",
       "<td>3.6.6 final</td></tr></table></div>"
      ],
      "text/plain": [
       "--------------------------  ------------------------------------------------------------------\n",
       "H2O cluster uptime:         03 secs\n",
       "H2O cluster timezone:       Europe/Helsinki\n",
       "H2O data parsing timezone:  UTC\n",
       "H2O cluster version:        3.26.0.8\n",
       "H2O cluster version age:    5 days\n",
       "H2O cluster name:           #744182165\n",
       "H2O cluster total nodes:    1\n",
       "H2O cluster free memory:    26.67 Gb\n",
       "H2O cluster total cores:    18\n",
       "H2O cluster allowed cores:  18\n",
       "H2O cluster status:         accepting new members, healthy\n",
       "H2O connection url:         http://127.0.0.1:54321\n",
       "H2O connection proxy:       {'http': None, 'https': None}\n",
       "H2O internal security:      False\n",
       "H2O API Extensions:         Amazon S3, XGBoost, Algos, AutoML, Core V3, TargetEncoder, Core V4\n",
       "Python version:             3.6.6 final\n",
       "--------------------------  ------------------------------------------------------------------"
      ]
     },
     "metadata": {},
     "output_type": "display_data"
    },
    {
     "data": {
      "text/html": [
       "<div style=\"overflow:auto\"><table style=\"width:50%\"><tr><td>H2O cluster uptime:</td>\n",
       "<td>03 secs</td></tr>\n",
       "<tr><td>H2O cluster timezone:</td>\n",
       "<td>Europe/Helsinki</td></tr>\n",
       "<tr><td>H2O data parsing timezone:</td>\n",
       "<td>UTC</td></tr>\n",
       "<tr><td>H2O cluster version:</td>\n",
       "<td>3.26.0.8</td></tr>\n",
       "<tr><td>H2O cluster version age:</td>\n",
       "<td>5 days </td></tr>\n",
       "<tr><td>H2O cluster name:</td>\n",
       "<td>#173513734</td></tr>\n",
       "<tr><td>H2O cluster total nodes:</td>\n",
       "<td>1</td></tr>\n",
       "<tr><td>H2O cluster free memory:</td>\n",
       "<td>26.67 Gb</td></tr>\n",
       "<tr><td>H2O cluster total cores:</td>\n",
       "<td>18</td></tr>\n",
       "<tr><td>H2O cluster allowed cores:</td>\n",
       "<td>18</td></tr>\n",
       "<tr><td>H2O cluster status:</td>\n",
       "<td>accepting new members, healthy</td></tr>\n",
       "<tr><td>H2O connection url:</td>\n",
       "<td>http://127.0.0.1:54329</td></tr>\n",
       "<tr><td>H2O connection proxy:</td>\n",
       "<td>{'http': None, 'https': None}</td></tr>\n",
       "<tr><td>H2O internal security:</td>\n",
       "<td>False</td></tr>\n",
       "<tr><td>H2O API Extensions:</td>\n",
       "<td>Amazon S3, XGBoost, Algos, AutoML, Core V3, TargetEncoder, Core V4</td></tr>\n",
       "<tr><td>Python version:</td>\n",
       "<td>3.6.6 final</td></tr></table></div>"
      ],
      "text/plain": [
       "--------------------------  ------------------------------------------------------------------\n",
       "H2O cluster uptime:         03 secs\n",
       "H2O cluster timezone:       Europe/Helsinki\n",
       "H2O data parsing timezone:  UTC\n",
       "H2O cluster version:        3.26.0.8\n",
       "H2O cluster version age:    5 days\n",
       "H2O cluster name:           #173513734\n",
       "H2O cluster total nodes:    1\n",
       "H2O cluster free memory:    26.67 Gb\n",
       "H2O cluster total cores:    18\n",
       "H2O cluster allowed cores:  18\n",
       "H2O cluster status:         accepting new members, healthy\n",
       "H2O connection url:         http://127.0.0.1:54329\n",
       "H2O connection proxy:       {'http': None, 'https': None}\n",
       "H2O internal security:      False\n",
       "H2O API Extensions:         Amazon S3, XGBoost, Algos, AutoML, Core V3, TargetEncoder, Core V4\n",
       "Python version:             3.6.6 final\n",
       "--------------------------  ------------------------------------------------------------------"
      ]
     },
     "metadata": {},
     "output_type": "display_data"
    },
    {
     "data": {
      "text/html": [
       "<div style=\"overflow:auto\"><table style=\"width:50%\"><tr><td>H2O cluster uptime:</td>\n",
       "<td>03 secs</td></tr>\n",
       "<tr><td>H2O cluster timezone:</td>\n",
       "<td>Europe/Helsinki</td></tr>\n",
       "<tr><td>H2O data parsing timezone:</td>\n",
       "<td>UTC</td></tr>\n",
       "<tr><td>H2O cluster version:</td>\n",
       "<td>3.26.0.8</td></tr>\n",
       "<tr><td>H2O cluster version age:</td>\n",
       "<td>5 days </td></tr>\n",
       "<tr><td>H2O cluster name:</td>\n",
       "<td>#1031439425</td></tr>\n",
       "<tr><td>H2O cluster total nodes:</td>\n",
       "<td>1</td></tr>\n",
       "<tr><td>H2O cluster free memory:</td>\n",
       "<td>26.67 Gb</td></tr>\n",
       "<tr><td>H2O cluster total cores:</td>\n",
       "<td>18</td></tr>\n",
       "<tr><td>H2O cluster allowed cores:</td>\n",
       "<td>18</td></tr>\n",
       "<tr><td>H2O cluster status:</td>\n",
       "<td>accepting new members, healthy</td></tr>\n",
       "<tr><td>H2O connection url:</td>\n",
       "<td>http://127.0.0.1:54331</td></tr>\n",
       "<tr><td>H2O connection proxy:</td>\n",
       "<td>{'http': None, 'https': None}</td></tr>\n",
       "<tr><td>H2O internal security:</td>\n",
       "<td>False</td></tr>\n",
       "<tr><td>H2O API Extensions:</td>\n",
       "<td>Amazon S3, XGBoost, Algos, AutoML, Core V3, TargetEncoder, Core V4</td></tr>\n",
       "<tr><td>Python version:</td>\n",
       "<td>3.6.6 final</td></tr></table></div>"
      ],
      "text/plain": [
       "--------------------------  ------------------------------------------------------------------\n",
       "H2O cluster uptime:         03 secs\n",
       "H2O cluster timezone:       Europe/Helsinki\n",
       "H2O data parsing timezone:  UTC\n",
       "H2O cluster version:        3.26.0.8\n",
       "H2O cluster version age:    5 days\n",
       "H2O cluster name:           #1031439425\n",
       "H2O cluster total nodes:    1\n",
       "H2O cluster free memory:    26.67 Gb\n",
       "H2O cluster total cores:    18\n",
       "H2O cluster allowed cores:  18\n",
       "H2O cluster status:         accepting new members, healthy\n",
       "H2O connection url:         http://127.0.0.1:54331\n",
       "H2O connection proxy:       {'http': None, 'https': None}\n",
       "H2O internal security:      False\n",
       "H2O API Extensions:         Amazon S3, XGBoost, Algos, AutoML, Core V3, TargetEncoder, Core V4\n",
       "Python version:             3.6.6 final\n",
       "--------------------------  ------------------------------------------------------------------"
      ]
     },
     "metadata": {},
     "output_type": "display_data"
    },
    {
     "name": "stdout",
     "output_type": "stream",
     "text": [
      "H2O session _sid_8789 closed."
     ]
    },
    {
     "name": "stdout",
     "output_type": "stream",
     "text": [
      "\n"
     ]
    },
    {
     "name": "stdout",
     "output_type": "stream",
     "text": [
      "Checking whether there is an H2O instance running at http://localhost:54321 "
     ]
    },
    {
     "name": "stdout",
     "output_type": "stream",
     "text": [
      "."
     ]
    },
    {
     "name": "stdout",
     "output_type": "stream",
     "text": [
      "."
     ]
    },
    {
     "name": "stdout",
     "output_type": "stream",
     "text": [
      "."
     ]
    },
    {
     "name": "stdout",
     "output_type": "stream",
     "text": [
      "."
     ]
    },
    {
     "name": "stdout",
     "output_type": "stream",
     "text": [
      "."
     ]
    },
    {
     "name": "stdout",
     "output_type": "stream",
     "text": [
      " not found."
     ]
    },
    {
     "name": "stdout",
     "output_type": "stream",
     "text": [
      "\n"
     ]
    },
    {
     "name": "stdout",
     "output_type": "stream",
     "text": [
      "Attempting to start a local H2O server..."
     ]
    },
    {
     "name": "stdout",
     "output_type": "stream",
     "text": [
      "\n"
     ]
    },
    {
     "name": "stdout",
     "output_type": "stream",
     "text": [
      "  Java Version: openjdk version \"1.8.0_222\"; OpenJDK Runtime Environment (build 1.8.0_222-b10); OpenJDK 64-Bit Server VM (build 25.222-b10, mixed mode)"
     ]
    },
    {
     "name": "stdout",
     "output_type": "stream",
     "text": [
      "\n"
     ]
    },
    {
     "name": "stdout",
     "output_type": "stream",
     "text": [
      "  Starting server from /wrk/users/thalvari/dpEmu-AutoML/venv/lib/python3.6/site-packages/h2o/backend/bin/h2o.jar"
     ]
    },
    {
     "name": "stdout",
     "output_type": "stream",
     "text": [
      "\n"
     ]
    },
    {
     "name": "stdout",
     "output_type": "stream",
     "text": [
      "  Ice root: /wrk/users/thalvari/tmp30iayyw3"
     ]
    },
    {
     "name": "stdout",
     "output_type": "stream",
     "text": [
      "\n"
     ]
    },
    {
     "name": "stdout",
     "output_type": "stream",
     "text": [
      "  JVM stdout: /wrk/users/thalvari/tmp30iayyw3/h2o_thalvari_started_from_python.out"
     ]
    },
    {
     "name": "stdout",
     "output_type": "stream",
     "text": [
      "\n"
     ]
    },
    {
     "name": "stdout",
     "output_type": "stream",
     "text": [
      "  JVM stderr: /wrk/users/thalvari/tmp30iayyw3/h2o_thalvari_started_from_python.err"
     ]
    },
    {
     "name": "stdout",
     "output_type": "stream",
     "text": [
      "\n"
     ]
    },
    {
     "name": "stdout",
     "output_type": "stream",
     "text": [
      "  Server is running at http://127.0.0.1:54323"
     ]
    },
    {
     "name": "stdout",
     "output_type": "stream",
     "text": [
      "\n"
     ]
    },
    {
     "name": "stdout",
     "output_type": "stream",
     "text": [
      "Connecting to H2O server at http://127.0.0.1:54323 .."
     ]
    },
    {
     "name": "stdout",
     "output_type": "stream",
     "text": [
      "."
     ]
    },
    {
     "name": "stdout",
     "output_type": "stream",
     "text": [
      " successful."
     ]
    },
    {
     "name": "stdout",
     "output_type": "stream",
     "text": [
      "\n"
     ]
    },
    {
     "data": {
      "text/html": [
       "<div style=\"overflow:auto\"><table style=\"width:50%\"><tr><td>H2O cluster uptime:</td>\n",
       "<td>06 secs</td></tr>\n",
       "<tr><td>H2O cluster timezone:</td>\n",
       "<td>Europe/Helsinki</td></tr>\n",
       "<tr><td>H2O data parsing timezone:</td>\n",
       "<td>UTC</td></tr>\n",
       "<tr><td>H2O cluster version:</td>\n",
       "<td>3.26.0.8</td></tr>\n",
       "<tr><td>H2O cluster version age:</td>\n",
       "<td>5 days </td></tr>\n",
       "<tr><td>H2O cluster name:</td>\n",
       "<td>#1051470316</td></tr>\n",
       "<tr><td>H2O cluster total nodes:</td>\n",
       "<td>1</td></tr>\n",
       "<tr><td>H2O cluster free memory:</td>\n",
       "<td>26.64 Gb</td></tr>\n",
       "<tr><td>H2O cluster total cores:</td>\n",
       "<td>18</td></tr>\n",
       "<tr><td>H2O cluster allowed cores:</td>\n",
       "<td>18</td></tr>\n",
       "<tr><td>H2O cluster status:</td>\n",
       "<td>accepting new members, healthy</td></tr>\n",
       "<tr><td>H2O connection url:</td>\n",
       "<td>http://127.0.0.1:54323</td></tr>\n",
       "<tr><td>H2O connection proxy:</td>\n",
       "<td>{'http': None, 'https': None}</td></tr>\n",
       "<tr><td>H2O internal security:</td>\n",
       "<td>False</td></tr>\n",
       "<tr><td>H2O API Extensions:</td>\n",
       "<td>Amazon S3, XGBoost, Algos, AutoML, Core V3, TargetEncoder, Core V4</td></tr>\n",
       "<tr><td>Python version:</td>\n",
       "<td>3.6.6 final</td></tr></table></div>"
      ],
      "text/plain": [
       "--------------------------  ------------------------------------------------------------------\n",
       "H2O cluster uptime:         06 secs\n",
       "H2O cluster timezone:       Europe/Helsinki\n",
       "H2O data parsing timezone:  UTC\n",
       "H2O cluster version:        3.26.0.8\n",
       "H2O cluster version age:    5 days\n",
       "H2O cluster name:           #1051470316\n",
       "H2O cluster total nodes:    1\n",
       "H2O cluster free memory:    26.64 Gb\n",
       "H2O cluster total cores:    18\n",
       "H2O cluster allowed cores:  18\n",
       "H2O cluster status:         accepting new members, healthy\n",
       "H2O connection url:         http://127.0.0.1:54323\n",
       "H2O connection proxy:       {'http': None, 'https': None}\n",
       "H2O internal security:      False\n",
       "H2O API Extensions:         Amazon S3, XGBoost, Algos, AutoML, Core V3, TargetEncoder, Core V4\n",
       "Python version:             3.6.6 final\n",
       "--------------------------  ------------------------------------------------------------------"
      ]
     },
     "metadata": {},
     "output_type": "display_data"
    },
    {
     "name": "stdout",
     "output_type": "stream",
     "text": [
      "H2O session _sid_8c46 closed."
     ]
    },
    {
     "name": "stdout",
     "output_type": "stream",
     "text": [
      "\n"
     ]
    },
    {
     "name": "stdout",
     "output_type": "stream",
     "text": [
      "Checking whether there is an H2O instance running at http://localhost:54321 "
     ]
    },
    {
     "name": "stdout",
     "output_type": "stream",
     "text": [
      "."
     ]
    },
    {
     "name": "stdout",
     "output_type": "stream",
     "text": [
      "."
     ]
    },
    {
     "name": "stdout",
     "output_type": "stream",
     "text": [
      "."
     ]
    },
    {
     "name": "stdout",
     "output_type": "stream",
     "text": [
      "."
     ]
    },
    {
     "name": "stdout",
     "output_type": "stream",
     "text": [
      "."
     ]
    },
    {
     "name": "stdout",
     "output_type": "stream",
     "text": [
      " not found."
     ]
    },
    {
     "name": "stdout",
     "output_type": "stream",
     "text": [
      "\n"
     ]
    },
    {
     "name": "stdout",
     "output_type": "stream",
     "text": [
      "Attempting to start a local H2O server..."
     ]
    },
    {
     "name": "stdout",
     "output_type": "stream",
     "text": [
      "\n"
     ]
    },
    {
     "name": "stdout",
     "output_type": "stream",
     "text": [
      "  Java Version: openjdk version \"1.8.0_222\"; OpenJDK Runtime Environment (build 1.8.0_222-b10); OpenJDK 64-Bit Server VM (build 25.222-b10, mixed mode)"
     ]
    },
    {
     "name": "stdout",
     "output_type": "stream",
     "text": [
      "\n"
     ]
    },
    {
     "name": "stdout",
     "output_type": "stream",
     "text": [
      "  Starting server from /wrk/users/thalvari/dpEmu-AutoML/venv/lib/python3.6/site-packages/h2o/backend/bin/h2o.jar"
     ]
    },
    {
     "name": "stdout",
     "output_type": "stream",
     "text": [
      "\n"
     ]
    },
    {
     "name": "stdout",
     "output_type": "stream",
     "text": [
      "  Ice root: /wrk/users/thalvari/tmpx_fuybrg"
     ]
    },
    {
     "name": "stdout",
     "output_type": "stream",
     "text": [
      "\n"
     ]
    },
    {
     "name": "stdout",
     "output_type": "stream",
     "text": [
      "  JVM stdout: /wrk/users/thalvari/tmpx_fuybrg/h2o_thalvari_started_from_python.out"
     ]
    },
    {
     "name": "stdout",
     "output_type": "stream",
     "text": [
      "\n"
     ]
    },
    {
     "name": "stdout",
     "output_type": "stream",
     "text": [
      "  JVM stderr: /wrk/users/thalvari/tmpx_fuybrg/h2o_thalvari_started_from_python.err"
     ]
    },
    {
     "name": "stdout",
     "output_type": "stream",
     "text": [
      "\n"
     ]
    },
    {
     "name": "stdout",
     "output_type": "stream",
     "text": [
      "  Server is running at http://127.0.0.1:54335"
     ]
    },
    {
     "name": "stdout",
     "output_type": "stream",
     "text": [
      "\n"
     ]
    },
    {
     "name": "stdout",
     "output_type": "stream",
     "text": [
      "Connecting to H2O server at http://127.0.0.1:54335 .."
     ]
    },
    {
     "name": "stdout",
     "output_type": "stream",
     "text": [
      "."
     ]
    },
    {
     "name": "stdout",
     "output_type": "stream",
     "text": [
      " successful."
     ]
    },
    {
     "name": "stdout",
     "output_type": "stream",
     "text": [
      "\n"
     ]
    },
    {
     "data": {
      "text/html": [
       "<div style=\"overflow:auto\"><table style=\"width:50%\"><tr><td>H2O cluster uptime:</td>\n",
       "<td>01 secs</td></tr>\n",
       "<tr><td>H2O cluster timezone:</td>\n",
       "<td>Europe/Helsinki</td></tr>\n",
       "<tr><td>H2O data parsing timezone:</td>\n",
       "<td>UTC</td></tr>\n",
       "<tr><td>H2O cluster version:</td>\n",
       "<td>3.26.0.8</td></tr>\n",
       "<tr><td>H2O cluster version age:</td>\n",
       "<td>5 days </td></tr>\n",
       "<tr><td>H2O cluster name:</td>\n",
       "<td>#227815020</td></tr>\n",
       "<tr><td>H2O cluster total nodes:</td>\n",
       "<td>1</td></tr>\n",
       "<tr><td>H2O cluster free memory:</td>\n",
       "<td>26.67 Gb</td></tr>\n",
       "<tr><td>H2O cluster total cores:</td>\n",
       "<td>18</td></tr>\n",
       "<tr><td>H2O cluster allowed cores:</td>\n",
       "<td>18</td></tr>\n",
       "<tr><td>H2O cluster status:</td>\n",
       "<td>accepting new members, healthy</td></tr>\n",
       "<tr><td>H2O connection url:</td>\n",
       "<td>http://127.0.0.1:54335</td></tr>\n",
       "<tr><td>H2O connection proxy:</td>\n",
       "<td>{'http': None, 'https': None}</td></tr>\n",
       "<tr><td>H2O internal security:</td>\n",
       "<td>False</td></tr>\n",
       "<tr><td>H2O API Extensions:</td>\n",
       "<td>Amazon S3, XGBoost, Algos, AutoML, Core V3, TargetEncoder, Core V4</td></tr>\n",
       "<tr><td>Python version:</td>\n",
       "<td>3.6.6 final</td></tr></table></div>"
      ],
      "text/plain": [
       "--------------------------  ------------------------------------------------------------------\n",
       "H2O cluster uptime:         01 secs\n",
       "H2O cluster timezone:       Europe/Helsinki\n",
       "H2O data parsing timezone:  UTC\n",
       "H2O cluster version:        3.26.0.8\n",
       "H2O cluster version age:    5 days\n",
       "H2O cluster name:           #227815020\n",
       "H2O cluster total nodes:    1\n",
       "H2O cluster free memory:    26.67 Gb\n",
       "H2O cluster total cores:    18\n",
       "H2O cluster allowed cores:  18\n",
       "H2O cluster status:         accepting new members, healthy\n",
       "H2O connection url:         http://127.0.0.1:54335\n",
       "H2O connection proxy:       {'http': None, 'https': None}\n",
       "H2O internal security:      False\n",
       "H2O API Extensions:         Amazon S3, XGBoost, Algos, AutoML, Core V3, TargetEncoder, Core V4\n",
       "Python version:             3.6.6 final\n",
       "--------------------------  ------------------------------------------------------------------"
      ]
     },
     "metadata": {},
     "output_type": "display_data"
    },
    {
     "name": "stdout",
     "output_type": "stream",
     "text": [
      "H2O session _sid_8d00 closed."
     ]
    },
    {
     "name": "stdout",
     "output_type": "stream",
     "text": [
      "\n"
     ]
    },
    {
     "name": "stdout",
     "output_type": "stream",
     "text": [
      "Checking whether there is an H2O instance running at http://localhost:54321 "
     ]
    },
    {
     "name": "stdout",
     "output_type": "stream",
     "text": [
      "."
     ]
    },
    {
     "name": "stdout",
     "output_type": "stream",
     "text": [
      "."
     ]
    },
    {
     "name": "stdout",
     "output_type": "stream",
     "text": [
      "."
     ]
    },
    {
     "name": "stdout",
     "output_type": "stream",
     "text": [
      "."
     ]
    },
    {
     "name": "stdout",
     "output_type": "stream",
     "text": [
      "."
     ]
    },
    {
     "name": "stdout",
     "output_type": "stream",
     "text": [
      " not found."
     ]
    },
    {
     "name": "stdout",
     "output_type": "stream",
     "text": [
      "\n"
     ]
    },
    {
     "name": "stdout",
     "output_type": "stream",
     "text": [
      "Attempting to start a local H2O server..."
     ]
    },
    {
     "name": "stdout",
     "output_type": "stream",
     "text": [
      "\n"
     ]
    },
    {
     "name": "stdout",
     "output_type": "stream",
     "text": [
      "  Java Version: openjdk version \"1.8.0_222\"; OpenJDK Runtime Environment (build 1.8.0_222-b10); OpenJDK 64-Bit Server VM (build 25.222-b10, mixed mode)"
     ]
    },
    {
     "name": "stdout",
     "output_type": "stream",
     "text": [
      "\n"
     ]
    },
    {
     "name": "stdout",
     "output_type": "stream",
     "text": [
      "  Starting server from /wrk/users/thalvari/dpEmu-AutoML/venv/lib/python3.6/site-packages/h2o/backend/bin/h2o.jar"
     ]
    },
    {
     "name": "stdout",
     "output_type": "stream",
     "text": [
      "\n"
     ]
    },
    {
     "name": "stdout",
     "output_type": "stream",
     "text": [
      "  Ice root: /wrk/users/thalvari/tmpdrnxuf6d"
     ]
    },
    {
     "name": "stdout",
     "output_type": "stream",
     "text": [
      "\n"
     ]
    },
    {
     "name": "stdout",
     "output_type": "stream",
     "text": [
      "  JVM stdout: /wrk/users/thalvari/tmpdrnxuf6d/h2o_thalvari_started_from_python.out"
     ]
    },
    {
     "name": "stdout",
     "output_type": "stream",
     "text": [
      "\n"
     ]
    },
    {
     "name": "stdout",
     "output_type": "stream",
     "text": [
      "  JVM stderr: /wrk/users/thalvari/tmpdrnxuf6d/h2o_thalvari_started_from_python.err"
     ]
    },
    {
     "name": "stdout",
     "output_type": "stream",
     "text": [
      "\n"
     ]
    },
    {
     "name": "stdout",
     "output_type": "stream",
     "text": [
      "  Server is running at http://127.0.0.1:54325"
     ]
    },
    {
     "name": "stdout",
     "output_type": "stream",
     "text": [
      "\n"
     ]
    },
    {
     "name": "stdout",
     "output_type": "stream",
     "text": [
      "Connecting to H2O server at http://127.0.0.1:54325 .."
     ]
    },
    {
     "name": "stdout",
     "output_type": "stream",
     "text": [
      "."
     ]
    },
    {
     "name": "stdout",
     "output_type": "stream",
     "text": [
      " successful."
     ]
    },
    {
     "name": "stdout",
     "output_type": "stream",
     "text": [
      "\n"
     ]
    },
    {
     "data": {
      "text/html": [
       "<div style=\"overflow:auto\"><table style=\"width:50%\"><tr><td>H2O cluster uptime:</td>\n",
       "<td>02 secs</td></tr>\n",
       "<tr><td>H2O cluster timezone:</td>\n",
       "<td>Europe/Helsinki</td></tr>\n",
       "<tr><td>H2O data parsing timezone:</td>\n",
       "<td>UTC</td></tr>\n",
       "<tr><td>H2O cluster version:</td>\n",
       "<td>3.26.0.8</td></tr>\n",
       "<tr><td>H2O cluster version age:</td>\n",
       "<td>5 days </td></tr>\n",
       "<tr><td>H2O cluster name:</td>\n",
       "<td>#358450220</td></tr>\n",
       "<tr><td>H2O cluster total nodes:</td>\n",
       "<td>1</td></tr>\n",
       "<tr><td>H2O cluster free memory:</td>\n",
       "<td>26.67 Gb</td></tr>\n",
       "<tr><td>H2O cluster total cores:</td>\n",
       "<td>18</td></tr>\n",
       "<tr><td>H2O cluster allowed cores:</td>\n",
       "<td>18</td></tr>\n",
       "<tr><td>H2O cluster status:</td>\n",
       "<td>accepting new members, healthy</td></tr>\n",
       "<tr><td>H2O connection url:</td>\n",
       "<td>http://127.0.0.1:54325</td></tr>\n",
       "<tr><td>H2O connection proxy:</td>\n",
       "<td>{'http': None, 'https': None}</td></tr>\n",
       "<tr><td>H2O internal security:</td>\n",
       "<td>False</td></tr>\n",
       "<tr><td>H2O API Extensions:</td>\n",
       "<td>Amazon S3, XGBoost, Algos, AutoML, Core V3, TargetEncoder, Core V4</td></tr>\n",
       "<tr><td>Python version:</td>\n",
       "<td>3.6.6 final</td></tr></table></div>"
      ],
      "text/plain": [
       "--------------------------  ------------------------------------------------------------------\n",
       "H2O cluster uptime:         02 secs\n",
       "H2O cluster timezone:       Europe/Helsinki\n",
       "H2O data parsing timezone:  UTC\n",
       "H2O cluster version:        3.26.0.8\n",
       "H2O cluster version age:    5 days\n",
       "H2O cluster name:           #358450220\n",
       "H2O cluster total nodes:    1\n",
       "H2O cluster free memory:    26.67 Gb\n",
       "H2O cluster total cores:    18\n",
       "H2O cluster allowed cores:  18\n",
       "H2O cluster status:         accepting new members, healthy\n",
       "H2O connection url:         http://127.0.0.1:54325\n",
       "H2O connection proxy:       {'http': None, 'https': None}\n",
       "H2O internal security:      False\n",
       "H2O API Extensions:         Amazon S3, XGBoost, Algos, AutoML, Core V3, TargetEncoder, Core V4\n",
       "Python version:             3.6.6 final\n",
       "--------------------------  ------------------------------------------------------------------"
      ]
     },
     "metadata": {},
     "output_type": "display_data"
    },
    {
     "name": "stdout",
     "output_type": "stream",
     "text": [
      "H2O session _sid_9477 closed."
     ]
    },
    {
     "name": "stdout",
     "output_type": "stream",
     "text": [
      "\n"
     ]
    },
    {
     "name": "stdout",
     "output_type": "stream",
     "text": [
      "Checking whether there is an H2O instance running at http://localhost:54321 "
     ]
    },
    {
     "name": "stdout",
     "output_type": "stream",
     "text": [
      "."
     ]
    },
    {
     "name": "stdout",
     "output_type": "stream",
     "text": [
      "."
     ]
    },
    {
     "name": "stdout",
     "output_type": "stream",
     "text": [
      "."
     ]
    },
    {
     "name": "stdout",
     "output_type": "stream",
     "text": [
      "."
     ]
    },
    {
     "name": "stdout",
     "output_type": "stream",
     "text": [
      "."
     ]
    },
    {
     "name": "stdout",
     "output_type": "stream",
     "text": [
      " not found."
     ]
    },
    {
     "name": "stdout",
     "output_type": "stream",
     "text": [
      "\n"
     ]
    },
    {
     "name": "stdout",
     "output_type": "stream",
     "text": [
      "Attempting to start a local H2O server..."
     ]
    },
    {
     "name": "stdout",
     "output_type": "stream",
     "text": [
      "\n"
     ]
    },
    {
     "name": "stdout",
     "output_type": "stream",
     "text": [
      "  Java Version: openjdk version \"1.8.0_222\"; OpenJDK Runtime Environment (build 1.8.0_222-b10); OpenJDK 64-Bit Server VM (build 25.222-b10, mixed mode)"
     ]
    },
    {
     "name": "stdout",
     "output_type": "stream",
     "text": [
      "\n"
     ]
    },
    {
     "name": "stdout",
     "output_type": "stream",
     "text": [
      "  Starting server from /wrk/users/thalvari/dpEmu-AutoML/venv/lib/python3.6/site-packages/h2o/backend/bin/h2o.jar"
     ]
    },
    {
     "name": "stdout",
     "output_type": "stream",
     "text": [
      "\n"
     ]
    },
    {
     "name": "stdout",
     "output_type": "stream",
     "text": [
      "  Ice root: /wrk/users/thalvari/tmp1ncy_a3d"
     ]
    },
    {
     "name": "stdout",
     "output_type": "stream",
     "text": [
      "\n"
     ]
    },
    {
     "name": "stdout",
     "output_type": "stream",
     "text": [
      "  JVM stdout: /wrk/users/thalvari/tmp1ncy_a3d/h2o_thalvari_started_from_python.out"
     ]
    },
    {
     "name": "stdout",
     "output_type": "stream",
     "text": [
      "\n"
     ]
    },
    {
     "name": "stdout",
     "output_type": "stream",
     "text": [
      "  JVM stderr: /wrk/users/thalvari/tmp1ncy_a3d/h2o_thalvari_started_from_python.err"
     ]
    },
    {
     "name": "stdout",
     "output_type": "stream",
     "text": [
      "\n"
     ]
    },
    {
     "name": "stdout",
     "output_type": "stream",
     "text": [
      "  Server is running at http://127.0.0.1:54331"
     ]
    },
    {
     "name": "stdout",
     "output_type": "stream",
     "text": [
      "\n"
     ]
    },
    {
     "name": "stdout",
     "output_type": "stream",
     "text": [
      "Connecting to H2O server at http://127.0.0.1:54331 .."
     ]
    },
    {
     "name": "stdout",
     "output_type": "stream",
     "text": [
      "."
     ]
    },
    {
     "name": "stdout",
     "output_type": "stream",
     "text": [
      "H2O session _sid_b0ca closed."
     ]
    },
    {
     "name": "stdout",
     "output_type": "stream",
     "text": [
      "\n"
     ]
    },
    {
     "name": "stdout",
     "output_type": "stream",
     "text": [
      "Checking whether there is an H2O instance running at http://localhost:54321 "
     ]
    },
    {
     "name": "stdout",
     "output_type": "stream",
     "text": [
      "."
     ]
    },
    {
     "name": "stdout",
     "output_type": "stream",
     "text": [
      " successful."
     ]
    },
    {
     "name": "stdout",
     "output_type": "stream",
     "text": [
      "\n"
     ]
    },
    {
     "data": {
      "text/html": [
       "<div style=\"overflow:auto\"><table style=\"width:50%\"><tr><td>H2O cluster uptime:</td>\n",
       "<td>01 secs</td></tr>\n",
       "<tr><td>H2O cluster timezone:</td>\n",
       "<td>Europe/Helsinki</td></tr>\n",
       "<tr><td>H2O data parsing timezone:</td>\n",
       "<td>UTC</td></tr>\n",
       "<tr><td>H2O cluster version:</td>\n",
       "<td>3.26.0.8</td></tr>\n",
       "<tr><td>H2O cluster version age:</td>\n",
       "<td>5 days </td></tr>\n",
       "<tr><td>H2O cluster name:</td>\n",
       "<td>#905166142</td></tr>\n",
       "<tr><td>H2O cluster total nodes:</td>\n",
       "<td>1</td></tr>\n",
       "<tr><td>H2O cluster free memory:</td>\n",
       "<td>26.67 Gb</td></tr>\n",
       "<tr><td>H2O cluster total cores:</td>\n",
       "<td>18</td></tr>\n",
       "<tr><td>H2O cluster allowed cores:</td>\n",
       "<td>18</td></tr>\n",
       "<tr><td>H2O cluster status:</td>\n",
       "<td>accepting new members, healthy</td></tr>\n",
       "<tr><td>H2O connection url:</td>\n",
       "<td>http://127.0.0.1:54331</td></tr>\n",
       "<tr><td>H2O connection proxy:</td>\n",
       "<td>{'http': None, 'https': None}</td></tr>\n",
       "<tr><td>H2O internal security:</td>\n",
       "<td>False</td></tr>\n",
       "<tr><td>H2O API Extensions:</td>\n",
       "<td>Amazon S3, XGBoost, Algos, AutoML, Core V3, TargetEncoder, Core V4</td></tr>\n",
       "<tr><td>Python version:</td>\n",
       "<td>3.6.6 final</td></tr></table></div>"
      ],
      "text/plain": [
       "--------------------------  ------------------------------------------------------------------\n",
       "H2O cluster uptime:         01 secs\n",
       "H2O cluster timezone:       Europe/Helsinki\n",
       "H2O data parsing timezone:  UTC\n",
       "H2O cluster version:        3.26.0.8\n",
       "H2O cluster version age:    5 days\n",
       "H2O cluster name:           #905166142\n",
       "H2O cluster total nodes:    1\n",
       "H2O cluster free memory:    26.67 Gb\n",
       "H2O cluster total cores:    18\n",
       "H2O cluster allowed cores:  18\n",
       "H2O cluster status:         accepting new members, healthy\n",
       "H2O connection url:         http://127.0.0.1:54331\n",
       "H2O connection proxy:       {'http': None, 'https': None}\n",
       "H2O internal security:      False\n",
       "H2O API Extensions:         Amazon S3, XGBoost, Algos, AutoML, Core V3, TargetEncoder, Core V4\n",
       "Python version:             3.6.6 final\n",
       "--------------------------  ------------------------------------------------------------------"
      ]
     },
     "metadata": {},
     "output_type": "display_data"
    },
    {
     "name": "stdout",
     "output_type": "stream",
     "text": [
      "."
     ]
    },
    {
     "name": "stdout",
     "output_type": "stream",
     "text": [
      "."
     ]
    },
    {
     "name": "stdout",
     "output_type": "stream",
     "text": [
      "."
     ]
    },
    {
     "name": "stdout",
     "output_type": "stream",
     "text": [
      "."
     ]
    },
    {
     "name": "stdout",
     "output_type": "stream",
     "text": [
      " not found."
     ]
    },
    {
     "name": "stdout",
     "output_type": "stream",
     "text": [
      "\n"
     ]
    },
    {
     "name": "stdout",
     "output_type": "stream",
     "text": [
      "Attempting to start a local H2O server..."
     ]
    },
    {
     "name": "stdout",
     "output_type": "stream",
     "text": [
      "\n"
     ]
    },
    {
     "name": "stdout",
     "output_type": "stream",
     "text": [
      "  Java Version: openjdk version \"1.8.0_222\"; OpenJDK Runtime Environment (build 1.8.0_222-b10); OpenJDK 64-Bit Server VM (build 25.222-b10, mixed mode)"
     ]
    },
    {
     "name": "stdout",
     "output_type": "stream",
     "text": [
      "\n"
     ]
    },
    {
     "name": "stdout",
     "output_type": "stream",
     "text": [
      "  Starting server from /wrk/users/thalvari/dpEmu-AutoML/venv/lib/python3.6/site-packages/h2o/backend/bin/h2o.jar"
     ]
    },
    {
     "name": "stdout",
     "output_type": "stream",
     "text": [
      "\n"
     ]
    },
    {
     "name": "stdout",
     "output_type": "stream",
     "text": [
      "  Ice root: /wrk/users/thalvari/tmpa9jrq8nq"
     ]
    },
    {
     "name": "stdout",
     "output_type": "stream",
     "text": [
      "\n"
     ]
    },
    {
     "name": "stdout",
     "output_type": "stream",
     "text": [
      "  JVM stdout: /wrk/users/thalvari/tmpa9jrq8nq/h2o_thalvari_started_from_python.out"
     ]
    },
    {
     "name": "stdout",
     "output_type": "stream",
     "text": [
      "\n"
     ]
    },
    {
     "name": "stdout",
     "output_type": "stream",
     "text": [
      "  JVM stderr: /wrk/users/thalvari/tmpa9jrq8nq/h2o_thalvari_started_from_python.err"
     ]
    },
    {
     "name": "stdout",
     "output_type": "stream",
     "text": [
      "\n"
     ]
    },
    {
     "name": "stdout",
     "output_type": "stream",
     "text": [
      "  Server is running at http://127.0.0.1:54327"
     ]
    },
    {
     "name": "stdout",
     "output_type": "stream",
     "text": [
      "\n"
     ]
    },
    {
     "name": "stdout",
     "output_type": "stream",
     "text": [
      "Connecting to H2O server at http://127.0.0.1:54327 .."
     ]
    },
    {
     "name": "stdout",
     "output_type": "stream",
     "text": [
      "."
     ]
    },
    {
     "name": "stdout",
     "output_type": "stream",
     "text": [
      " successful."
     ]
    },
    {
     "name": "stdout",
     "output_type": "stream",
     "text": [
      "\n"
     ]
    },
    {
     "data": {
      "text/html": [
       "<div style=\"overflow:auto\"><table style=\"width:50%\"><tr><td>H2O cluster uptime:</td>\n",
       "<td>02 secs</td></tr>\n",
       "<tr><td>H2O cluster timezone:</td>\n",
       "<td>Europe/Helsinki</td></tr>\n",
       "<tr><td>H2O data parsing timezone:</td>\n",
       "<td>UTC</td></tr>\n",
       "<tr><td>H2O cluster version:</td>\n",
       "<td>3.26.0.8</td></tr>\n",
       "<tr><td>H2O cluster version age:</td>\n",
       "<td>5 days </td></tr>\n",
       "<tr><td>H2O cluster name:</td>\n",
       "<td>#705675343</td></tr>\n",
       "<tr><td>H2O cluster total nodes:</td>\n",
       "<td>1</td></tr>\n",
       "<tr><td>H2O cluster free memory:</td>\n",
       "<td>26.67 Gb</td></tr>\n",
       "<tr><td>H2O cluster total cores:</td>\n",
       "<td>18</td></tr>\n",
       "<tr><td>H2O cluster allowed cores:</td>\n",
       "<td>18</td></tr>\n",
       "<tr><td>H2O cluster status:</td>\n",
       "<td>accepting new members, healthy</td></tr>\n",
       "<tr><td>H2O connection url:</td>\n",
       "<td>http://127.0.0.1:54327</td></tr>\n",
       "<tr><td>H2O connection proxy:</td>\n",
       "<td>{'http': None, 'https': None}</td></tr>\n",
       "<tr><td>H2O internal security:</td>\n",
       "<td>False</td></tr>\n",
       "<tr><td>H2O API Extensions:</td>\n",
       "<td>Amazon S3, XGBoost, Algos, AutoML, Core V3, TargetEncoder, Core V4</td></tr>\n",
       "<tr><td>Python version:</td>\n",
       "<td>3.6.6 final</td></tr></table></div>"
      ],
      "text/plain": [
       "--------------------------  ------------------------------------------------------------------\n",
       "H2O cluster uptime:         02 secs\n",
       "H2O cluster timezone:       Europe/Helsinki\n",
       "H2O data parsing timezone:  UTC\n",
       "H2O cluster version:        3.26.0.8\n",
       "H2O cluster version age:    5 days\n",
       "H2O cluster name:           #705675343\n",
       "H2O cluster total nodes:    1\n",
       "H2O cluster free memory:    26.67 Gb\n",
       "H2O cluster total cores:    18\n",
       "H2O cluster allowed cores:  18\n",
       "H2O cluster status:         accepting new members, healthy\n",
       "H2O connection url:         http://127.0.0.1:54327\n",
       "H2O connection proxy:       {'http': None, 'https': None}\n",
       "H2O internal security:      False\n",
       "H2O API Extensions:         Amazon S3, XGBoost, Algos, AutoML, Core V3, TargetEncoder, Core V4\n",
       "Python version:             3.6.6 final\n",
       "--------------------------  ------------------------------------------------------------------"
      ]
     },
     "metadata": {},
     "output_type": "display_data"
    },
    {
     "name": "stdout",
     "output_type": "stream",
     "text": [
      "H2O session _sid_a2c7 closed."
     ]
    },
    {
     "name": "stdout",
     "output_type": "stream",
     "text": [
      "\n"
     ]
    },
    {
     "name": "stdout",
     "output_type": "stream",
     "text": [
      "Checking whether there is an H2O instance running at http://localhost:54321 "
     ]
    },
    {
     "name": "stdout",
     "output_type": "stream",
     "text": [
      "."
     ]
    },
    {
     "name": "stdout",
     "output_type": "stream",
     "text": [
      "."
     ]
    },
    {
     "name": "stdout",
     "output_type": "stream",
     "text": [
      "."
     ]
    },
    {
     "name": "stdout",
     "output_type": "stream",
     "text": [
      "."
     ]
    },
    {
     "name": "stdout",
     "output_type": "stream",
     "text": [
      "."
     ]
    },
    {
     "name": "stdout",
     "output_type": "stream",
     "text": [
      " not found."
     ]
    },
    {
     "name": "stdout",
     "output_type": "stream",
     "text": [
      "\n"
     ]
    },
    {
     "name": "stdout",
     "output_type": "stream",
     "text": [
      "Attempting to start a local H2O server..."
     ]
    },
    {
     "name": "stdout",
     "output_type": "stream",
     "text": [
      "\n"
     ]
    },
    {
     "name": "stdout",
     "output_type": "stream",
     "text": [
      "  Java Version: openjdk version \"1.8.0_222\"; OpenJDK Runtime Environment (build 1.8.0_222-b10); OpenJDK 64-Bit Server VM (build 25.222-b10, mixed mode)"
     ]
    },
    {
     "name": "stdout",
     "output_type": "stream",
     "text": [
      "\n"
     ]
    },
    {
     "name": "stdout",
     "output_type": "stream",
     "text": [
      "  Starting server from /wrk/users/thalvari/dpEmu-AutoML/venv/lib/python3.6/site-packages/h2o/backend/bin/h2o.jar"
     ]
    },
    {
     "name": "stdout",
     "output_type": "stream",
     "text": [
      "\n"
     ]
    },
    {
     "name": "stdout",
     "output_type": "stream",
     "text": [
      "  Ice root: /wrk/users/thalvari/tmpwjz6iavi"
     ]
    },
    {
     "name": "stdout",
     "output_type": "stream",
     "text": [
      "\n"
     ]
    },
    {
     "name": "stdout",
     "output_type": "stream",
     "text": [
      "  JVM stdout: /wrk/users/thalvari/tmpwjz6iavi/h2o_thalvari_started_from_python.out"
     ]
    },
    {
     "name": "stdout",
     "output_type": "stream",
     "text": [
      "\n"
     ]
    },
    {
     "name": "stdout",
     "output_type": "stream",
     "text": [
      "  JVM stderr: /wrk/users/thalvari/tmpwjz6iavi/h2o_thalvari_started_from_python.err"
     ]
    },
    {
     "name": "stdout",
     "output_type": "stream",
     "text": [
      "\n"
     ]
    },
    {
     "name": "stdout",
     "output_type": "stream",
     "text": [
      "  Server is running at http://127.0.0.1:54321"
     ]
    },
    {
     "name": "stdout",
     "output_type": "stream",
     "text": [
      "\n"
     ]
    },
    {
     "name": "stdout",
     "output_type": "stream",
     "text": [
      "Connecting to H2O server at http://127.0.0.1:54321 .."
     ]
    },
    {
     "name": "stdout",
     "output_type": "stream",
     "text": [
      "."
     ]
    },
    {
     "name": "stdout",
     "output_type": "stream",
     "text": [
      " successful."
     ]
    },
    {
     "name": "stdout",
     "output_type": "stream",
     "text": [
      "\n"
     ]
    },
    {
     "data": {
      "text/html": [
       "<div style=\"overflow:auto\"><table style=\"width:50%\"><tr><td>H2O cluster uptime:</td>\n",
       "<td>03 secs</td></tr>\n",
       "<tr><td>H2O cluster timezone:</td>\n",
       "<td>Europe/Helsinki</td></tr>\n",
       "<tr><td>H2O data parsing timezone:</td>\n",
       "<td>UTC</td></tr>\n",
       "<tr><td>H2O cluster version:</td>\n",
       "<td>3.26.0.8</td></tr>\n",
       "<tr><td>H2O cluster version age:</td>\n",
       "<td>5 days </td></tr>\n",
       "<tr><td>H2O cluster name:</td>\n",
       "<td>#48476849</td></tr>\n",
       "<tr><td>H2O cluster total nodes:</td>\n",
       "<td>1</td></tr>\n",
       "<tr><td>H2O cluster free memory:</td>\n",
       "<td>26.63 Gb</td></tr>\n",
       "<tr><td>H2O cluster total cores:</td>\n",
       "<td>18</td></tr>\n",
       "<tr><td>H2O cluster allowed cores:</td>\n",
       "<td>18</td></tr>\n",
       "<tr><td>H2O cluster status:</td>\n",
       "<td>accepting new members, healthy</td></tr>\n",
       "<tr><td>H2O connection url:</td>\n",
       "<td>http://127.0.0.1:54321</td></tr>\n",
       "<tr><td>H2O connection proxy:</td>\n",
       "<td>{'http': None, 'https': None}</td></tr>\n",
       "<tr><td>H2O internal security:</td>\n",
       "<td>False</td></tr>\n",
       "<tr><td>H2O API Extensions:</td>\n",
       "<td>Amazon S3, XGBoost, Algos, AutoML, Core V3, TargetEncoder, Core V4</td></tr>\n",
       "<tr><td>Python version:</td>\n",
       "<td>3.6.6 final</td></tr></table></div>"
      ],
      "text/plain": [
       "--------------------------  ------------------------------------------------------------------\n",
       "H2O cluster uptime:         03 secs\n",
       "H2O cluster timezone:       Europe/Helsinki\n",
       "H2O data parsing timezone:  UTC\n",
       "H2O cluster version:        3.26.0.8\n",
       "H2O cluster version age:    5 days\n",
       "H2O cluster name:           #48476849\n",
       "H2O cluster total nodes:    1\n",
       "H2O cluster free memory:    26.63 Gb\n",
       "H2O cluster total cores:    18\n",
       "H2O cluster allowed cores:  18\n",
       "H2O cluster status:         accepting new members, healthy\n",
       "H2O connection url:         http://127.0.0.1:54321\n",
       "H2O connection proxy:       {'http': None, 'https': None}\n",
       "H2O internal security:      False\n",
       "H2O API Extensions:         Amazon S3, XGBoost, Algos, AutoML, Core V3, TargetEncoder, Core V4\n",
       "Python version:             3.6.6 final\n",
       "--------------------------  ------------------------------------------------------------------"
      ]
     },
     "metadata": {},
     "output_type": "display_data"
    },
    {
     "name": "stdout",
     "output_type": "stream",
     "text": [
      "H2O session _sid_a50a closed."
     ]
    },
    {
     "name": "stdout",
     "output_type": "stream",
     "text": [
      "\n"
     ]
    },
    {
     "name": "stdout",
     "output_type": "stream",
     "text": [
      "H2O session _sid_b73e closed."
     ]
    },
    {
     "name": "stdout",
     "output_type": "stream",
     "text": [
      "\n"
     ]
    },
    {
     "name": "stdout",
     "output_type": "stream",
     "text": [
      "H2O session _sid_bfcc closed."
     ]
    },
    {
     "name": "stdout",
     "output_type": "stream",
     "text": [
      "\n"
     ]
    },
    {
     "name": "stdout",
     "output_type": "stream",
     "text": [
      "H2O session _sid_8d42 closed."
     ]
    },
    {
     "name": "stdout",
     "output_type": "stream",
     "text": [
      "\n"
     ]
    },
    {
     "name": "stdout",
     "output_type": "stream",
     "text": [
      "H2O session _sid_a417 closed."
     ]
    },
    {
     "name": "stdout",
     "output_type": "stream",
     "text": [
      "\n"
     ]
    },
    {
     "name": "stdout",
     "output_type": "stream",
     "text": [
      "H2O session _sid_ae7b closed."
     ]
    },
    {
     "name": "stdout",
     "output_type": "stream",
     "text": [
      "\n"
     ]
    },
    {
     "name": "stdout",
     "output_type": "stream",
     "text": [
      "\n"
     ]
    },
    {
     "name": "stdout",
     "output_type": "stream",
     "text": [
      "60.23133213333333 minutes have elapsed. TPOT will close down.\n",
      "TPOT closed during evaluation in one generation.\n",
      "WARNING: TPOT may not provide a good pipeline if TPOT is stopped/interrupted in a early generation."
     ]
    },
    {
     "name": "stdout",
     "output_type": "stream",
     "text": [
      "\n"
     ]
    },
    {
     "name": "stdout",
     "output_type": "stream",
     "text": [
      "\n"
     ]
    },
    {
     "name": "stdout",
     "output_type": "stream",
     "text": [
      "\n",
      "TPOT closed prematurely. Will use the current best pipeline."
     ]
    },
    {
     "name": "stdout",
     "output_type": "stream",
     "text": [
      "\n"
     ]
    },
    {
     "name": "stdout",
     "output_type": "stream",
     "text": [
      "Best pipeline:"
     ]
    },
    {
     "name": "stdout",
     "output_type": "stream",
     "text": [
      " "
     ]
    },
    {
     "name": "stdout",
     "output_type": "stream",
     "text": [
      "KNeighborsClassifier(KNeighborsClassifier(SelectFwe(input_matrix, alpha=0.013000000000000001), n_neighbors=4, p=1, weights=uniform), n_neighbors=34, p=2, weights=distance)"
     ]
    },
    {
     "name": "stdout",
     "output_type": "stream",
     "text": [
      "\n"
     ]
    },
    {
     "name": "stdout",
     "output_type": "stream",
     "text": [
      "\n"
     ]
    },
    {
     "name": "stdout",
     "output_type": "stream",
     "text": [
      "61.94038528333333 minutes have elapsed. TPOT will close down.\n",
      "TPOT closed during evaluation in one generation.\n",
      "WARNING: TPOT may not provide a good pipeline if TPOT is stopped/interrupted in a early generation."
     ]
    },
    {
     "name": "stdout",
     "output_type": "stream",
     "text": [
      "\n"
     ]
    },
    {
     "name": "stdout",
     "output_type": "stream",
     "text": [
      "\n"
     ]
    },
    {
     "name": "stdout",
     "output_type": "stream",
     "text": [
      "\n",
      "TPOT closed prematurely. Will use the current best pipeline."
     ]
    },
    {
     "name": "stdout",
     "output_type": "stream",
     "text": [
      "\n"
     ]
    },
    {
     "name": "stdout",
     "output_type": "stream",
     "text": [
      "Best pipeline:"
     ]
    },
    {
     "name": "stdout",
     "output_type": "stream",
     "text": [
      " "
     ]
    },
    {
     "name": "stdout",
     "output_type": "stream",
     "text": [
      "LogisticRegression(SelectFwe(input_matrix, alpha=0.031), C=0.0001, dual=True, penalty=l2)"
     ]
    },
    {
     "name": "stdout",
     "output_type": "stream",
     "text": [
      "\n"
     ]
    },
    {
     "name": "stdout",
     "output_type": "stream",
     "text": [
      "\n"
     ]
    },
    {
     "name": "stdout",
     "output_type": "stream",
     "text": [
      "61.29433206666667 minutes have elapsed. TPOT will close down.\n",
      "TPOT closed during evaluation in one generation.\n",
      "WARNING: TPOT may not provide a good pipeline if TPOT is stopped/interrupted in a early generation."
     ]
    },
    {
     "name": "stdout",
     "output_type": "stream",
     "text": [
      "\n"
     ]
    },
    {
     "name": "stdout",
     "output_type": "stream",
     "text": [
      "\n"
     ]
    },
    {
     "name": "stdout",
     "output_type": "stream",
     "text": [
      "\n",
      "TPOT closed prematurely. Will use the current best pipeline."
     ]
    },
    {
     "name": "stdout",
     "output_type": "stream",
     "text": [
      "\n"
     ]
    },
    {
     "name": "stdout",
     "output_type": "stream",
     "text": [
      "Best pipeline:"
     ]
    },
    {
     "name": "stdout",
     "output_type": "stream",
     "text": [
      " "
     ]
    },
    {
     "name": "stdout",
     "output_type": "stream",
     "text": [
      "LogisticRegression(GradientBoostingClassifier(SelectFwe(input_matrix, alpha=0.045), learning_rate=0.5, max_depth=7, max_features=0.55, min_samples_leaf=3, min_samples_split=8, n_estimators=100, subsample=0.45), C=0.0001, dual=True, penalty=l2)"
     ]
    },
    {
     "name": "stdout",
     "output_type": "stream",
     "text": [
      "\n"
     ]
    },
    {
     "name": "stdout",
     "output_type": "stream",
     "text": [
      "\n"
     ]
    },
    {
     "name": "stdout",
     "output_type": "stream",
     "text": [
      "64.24697496666667 minutes have elapsed. TPOT will close down.\n",
      "TPOT closed during evaluation in one generation.\n",
      "WARNING: TPOT may not provide a good pipeline if TPOT is stopped/interrupted in a early generation."
     ]
    },
    {
     "name": "stdout",
     "output_type": "stream",
     "text": [
      "\n"
     ]
    },
    {
     "name": "stdout",
     "output_type": "stream",
     "text": [
      "\n"
     ]
    },
    {
     "name": "stdout",
     "output_type": "stream",
     "text": [
      "\n",
      "TPOT closed prematurely. Will use the current best pipeline."
     ]
    },
    {
     "name": "stdout",
     "output_type": "stream",
     "text": [
      "\n"
     ]
    },
    {
     "name": "stdout",
     "output_type": "stream",
     "text": [
      "Best pipeline:"
     ]
    },
    {
     "name": "stdout",
     "output_type": "stream",
     "text": [
      " "
     ]
    },
    {
     "name": "stdout",
     "output_type": "stream",
     "text": [
      "LinearSVC(Normalizer(LogisticRegression(GaussianNB(SelectPercentile(input_matrix, percentile=62)), C=15.0, dual=False, penalty=l2), norm=max), C=0.001, dual=True, loss=squared_hinge, penalty=l2, tol=0.1)"
     ]
    },
    {
     "name": "stdout",
     "output_type": "stream",
     "text": [
      "\n"
     ]
    },
    {
     "name": "stdout",
     "output_type": "stream",
     "text": [
      "\n"
     ]
    },
    {
     "name": "stdout",
     "output_type": "stream",
     "text": [
      "66.21818996666667 minutes have elapsed. TPOT will close down.\n",
      "TPOT closed during evaluation in one generation.\n",
      "WARNING: TPOT may not provide a good pipeline if TPOT is stopped/interrupted in a early generation."
     ]
    },
    {
     "name": "stdout",
     "output_type": "stream",
     "text": [
      "\n"
     ]
    },
    {
     "name": "stdout",
     "output_type": "stream",
     "text": [
      "\n"
     ]
    },
    {
     "name": "stdout",
     "output_type": "stream",
     "text": [
      "\n",
      "TPOT closed prematurely. Will use the current best pipeline."
     ]
    },
    {
     "name": "stdout",
     "output_type": "stream",
     "text": [
      "\n"
     ]
    },
    {
     "name": "stdout",
     "output_type": "stream",
     "text": [
      "Best pipeline:"
     ]
    },
    {
     "name": "stdout",
     "output_type": "stream",
     "text": [
      " "
     ]
    },
    {
     "name": "stdout",
     "output_type": "stream",
     "text": [
      "LogisticRegression(PolynomialFeatures(input_matrix, degree=2, include_bias=False, interaction_only=False), C=0.01, dual=False, penalty=l2)"
     ]
    },
    {
     "name": "stdout",
     "output_type": "stream",
     "text": [
      "\n"
     ]
    },
    {
     "name": "stdout",
     "output_type": "stream",
     "text": [
      "\n"
     ]
    },
    {
     "name": "stdout",
     "output_type": "stream",
     "text": [
      "64.42599525 minutes have elapsed. TPOT will close down.\n",
      "TPOT closed during evaluation in one generation.\n",
      "WARNING: TPOT may not provide a good pipeline if TPOT is stopped/interrupted in a early generation."
     ]
    },
    {
     "name": "stdout",
     "output_type": "stream",
     "text": [
      "\n"
     ]
    },
    {
     "name": "stdout",
     "output_type": "stream",
     "text": [
      "\n"
     ]
    },
    {
     "name": "stdout",
     "output_type": "stream",
     "text": [
      "\n",
      "TPOT closed prematurely. Will use the current best pipeline."
     ]
    },
    {
     "name": "stdout",
     "output_type": "stream",
     "text": [
      "\n"
     ]
    },
    {
     "name": "stdout",
     "output_type": "stream",
     "text": [
      "Best pipeline:"
     ]
    },
    {
     "name": "stdout",
     "output_type": "stream",
     "text": [
      " "
     ]
    },
    {
     "name": "stdout",
     "output_type": "stream",
     "text": [
      "KNeighborsClassifier(LogisticRegression(input_matrix, C=25.0, dual=False, penalty=l2), n_neighbors=4, p=2, weights=distance)"
     ]
    },
    {
     "name": "stdout",
     "output_type": "stream",
     "text": [
      "\n"
     ]
    },
    {
     "name": "stdout",
     "output_type": "stream",
     "text": [
      "\n"
     ]
    },
    {
     "name": "stdout",
     "output_type": "stream",
     "text": [
      "61.928118983333334 minutes have elapsed. TPOT will close down.\n",
      "TPOT closed during evaluation in one generation.\n",
      "WARNING: TPOT may not provide a good pipeline if TPOT is stopped/interrupted in a early generation."
     ]
    },
    {
     "name": "stdout",
     "output_type": "stream",
     "text": [
      "\n"
     ]
    },
    {
     "name": "stdout",
     "output_type": "stream",
     "text": [
      "\n"
     ]
    },
    {
     "name": "stdout",
     "output_type": "stream",
     "text": [
      "\n",
      "TPOT closed prematurely. Will use the current best pipeline."
     ]
    },
    {
     "name": "stdout",
     "output_type": "stream",
     "text": [
      "\n"
     ]
    },
    {
     "name": "stdout",
     "output_type": "stream",
     "text": [
      "\n"
     ]
    },
    {
     "name": "stdout",
     "output_type": "stream",
     "text": [
      "62.93972146666667 minutes have elapsed. TPOT will close down.\n",
      "TPOT closed during evaluation in one generation.\n",
      "WARNING: TPOT may not provide a good pipeline if TPOT is stopped/interrupted in a early generation."
     ]
    },
    {
     "name": "stdout",
     "output_type": "stream",
     "text": [
      "\n"
     ]
    },
    {
     "name": "stdout",
     "output_type": "stream",
     "text": [
      "\n"
     ]
    },
    {
     "name": "stdout",
     "output_type": "stream",
     "text": [
      "\n",
      "TPOT closed prematurely. Will use the current best pipeline."
     ]
    },
    {
     "name": "stdout",
     "output_type": "stream",
     "text": [
      "\n"
     ]
    },
    {
     "name": "stdout",
     "output_type": "stream",
     "text": [
      "Best pipeline:"
     ]
    },
    {
     "name": "stdout",
     "output_type": "stream",
     "text": [
      " "
     ]
    },
    {
     "name": "stdout",
     "output_type": "stream",
     "text": [
      "Best pipeline:"
     ]
    },
    {
     "name": "stdout",
     "output_type": "stream",
     "text": [
      " "
     ]
    },
    {
     "name": "stdout",
     "output_type": "stream",
     "text": [
      "KNeighborsClassifier(BernoulliNB(XGBClassifier(input_matrix, learning_rate=1.0, max_depth=8, min_child_weight=4, n_estimators=100, nthread=1, subsample=0.25), alpha=0.01, fit_prior=False), n_neighbors=1, p=2, weights=uniform)"
     ]
    },
    {
     "name": "stdout",
     "output_type": "stream",
     "text": [
      "KNeighborsClassifier(PolynomialFeatures(LogisticRegression(input_matrix, C=0.1, dual=False, penalty=l1), degree=2, include_bias=False, interaction_only=False), n_neighbors=3, p=1, weights=distance)"
     ]
    },
    {
     "name": "stdout",
     "output_type": "stream",
     "text": [
      "\n"
     ]
    },
    {
     "name": "stdout",
     "output_type": "stream",
     "text": [
      "\n"
     ]
    },
    {
     "name": "stdout",
     "output_type": "stream",
     "text": [
      "\n"
     ]
    },
    {
     "name": "stdout",
     "output_type": "stream",
     "text": [
      "63.11878071666667 minutes have elapsed. TPOT will close down.\n",
      "TPOT closed during evaluation in one generation.\n",
      "WARNING: TPOT may not provide a good pipeline if TPOT is stopped/interrupted in a early generation."
     ]
    },
    {
     "name": "stdout",
     "output_type": "stream",
     "text": [
      "\n"
     ]
    },
    {
     "name": "stdout",
     "output_type": "stream",
     "text": [
      "\n"
     ]
    },
    {
     "name": "stdout",
     "output_type": "stream",
     "text": [
      "\n",
      "TPOT closed prematurely. Will use the current best pipeline."
     ]
    },
    {
     "name": "stdout",
     "output_type": "stream",
     "text": [
      "\n"
     ]
    },
    {
     "name": "stdout",
     "output_type": "stream",
     "text": [
      "Best pipeline:"
     ]
    },
    {
     "name": "stdout",
     "output_type": "stream",
     "text": [
      " "
     ]
    },
    {
     "name": "stdout",
     "output_type": "stream",
     "text": [
      "ExtraTreesClassifier(KNeighborsClassifier(input_matrix, n_neighbors=1, p=2, weights=distance), bootstrap=True, criterion=entropy, max_features=0.5, min_samples_leaf=1, min_samples_split=9, n_estimators=100)"
     ]
    },
    {
     "name": "stdout",
     "output_type": "stream",
     "text": [
      "\n"
     ]
    },
    {
     "name": "stdout",
     "output_type": "stream",
     "text": [
      "\n"
     ]
    },
    {
     "name": "stdout",
     "output_type": "stream",
     "text": [
      "64.63231408333334 minutes have elapsed. TPOT will close down.\n",
      "TPOT closed during evaluation in one generation.\n",
      "WARNING: TPOT may not provide a good pipeline if TPOT is stopped/interrupted in a early generation."
     ]
    },
    {
     "name": "stdout",
     "output_type": "stream",
     "text": [
      "\n"
     ]
    },
    {
     "name": "stdout",
     "output_type": "stream",
     "text": [
      "\n"
     ]
    },
    {
     "name": "stdout",
     "output_type": "stream",
     "text": [
      "\n",
      "TPOT closed prematurely. Will use the current best pipeline."
     ]
    },
    {
     "name": "stdout",
     "output_type": "stream",
     "text": [
      "\n"
     ]
    },
    {
     "name": "stdout",
     "output_type": "stream",
     "text": [
      "Best pipeline:"
     ]
    },
    {
     "name": "stdout",
     "output_type": "stream",
     "text": [
      " "
     ]
    },
    {
     "name": "stdout",
     "output_type": "stream",
     "text": [
      "KNeighborsClassifier(BernoulliNB(XGBClassifier(input_matrix, learning_rate=1.0, max_depth=8, min_child_weight=4, n_estimators=100, nthread=1, subsample=0.25), alpha=0.01, fit_prior=False), n_neighbors=1, p=2, weights=uniform)"
     ]
    },
    {
     "name": "stdout",
     "output_type": "stream",
     "text": [
      "\n"
     ]
    },
    {
     "name": "stdout",
     "output_type": "stream",
     "text": [
      "\n"
     ]
    },
    {
     "name": "stdout",
     "output_type": "stream",
     "text": [
      "61.11917523333333 minutes have elapsed. TPOT will close down.\n",
      "TPOT closed during evaluation in one generation.\n",
      "WARNING: TPOT may not provide a good pipeline if TPOT is stopped/interrupted in a early generation."
     ]
    },
    {
     "name": "stdout",
     "output_type": "stream",
     "text": [
      "\n"
     ]
    },
    {
     "name": "stdout",
     "output_type": "stream",
     "text": [
      "\n"
     ]
    },
    {
     "name": "stdout",
     "output_type": "stream",
     "text": [
      "\n",
      "TPOT closed prematurely. Will use the current best pipeline."
     ]
    },
    {
     "name": "stdout",
     "output_type": "stream",
     "text": [
      "\n"
     ]
    },
    {
     "name": "stdout",
     "output_type": "stream",
     "text": [
      "Best pipeline:"
     ]
    },
    {
     "name": "stdout",
     "output_type": "stream",
     "text": [
      " "
     ]
    },
    {
     "name": "stdout",
     "output_type": "stream",
     "text": [
      "KNeighborsClassifier(input_matrix, n_neighbors=4, p=2, weights=distance)"
     ]
    },
    {
     "name": "stdout",
     "output_type": "stream",
     "text": [
      "\n"
     ]
    },
    {
     "name": "stdout",
     "output_type": "stream",
     "text": [
      "\n"
     ]
    },
    {
     "name": "stdout",
     "output_type": "stream",
     "text": [
      "62.510810416666665 minutes have elapsed. TPOT will close down.\n",
      "TPOT closed during evaluation in one generation.\n",
      "WARNING: TPOT may not provide a good pipeline if TPOT is stopped/interrupted in a early generation."
     ]
    },
    {
     "name": "stdout",
     "output_type": "stream",
     "text": [
      "\n"
     ]
    },
    {
     "name": "stdout",
     "output_type": "stream",
     "text": [
      "\n"
     ]
    },
    {
     "name": "stdout",
     "output_type": "stream",
     "text": [
      "\n",
      "TPOT closed prematurely. Will use the current best pipeline."
     ]
    },
    {
     "name": "stdout",
     "output_type": "stream",
     "text": [
      "\n"
     ]
    },
    {
     "name": "stdout",
     "output_type": "stream",
     "text": [
      "Best pipeline:"
     ]
    },
    {
     "name": "stdout",
     "output_type": "stream",
     "text": [
      " "
     ]
    },
    {
     "name": "stdout",
     "output_type": "stream",
     "text": [
      "GradientBoostingClassifier(KNeighborsClassifier(input_matrix, n_neighbors=1, p=2, weights=distance), learning_rate=0.1, max_depth=2, max_features=0.8, min_samples_leaf=19, min_samples_split=14, n_estimators=100, subsample=0.8500000000000001)"
     ]
    },
    {
     "name": "stdout",
     "output_type": "stream",
     "text": [
      "\n"
     ]
    },
    {
     "name": "stderr",
     "output_type": "stream",
     "text": [
      "WARNING:root:TimeoutError occurred at train() : "
     ]
    },
    {
     "name": "stderr",
     "output_type": "stream",
     "text": [
      "\n"
     ]
    },
    {
     "name": "stderr",
     "output_type": "stream",
     "text": [
      "WARNING:root:TimeoutError occurred at train() : "
     ]
    },
    {
     "name": "stderr",
     "output_type": "stream",
     "text": [
      "\n"
     ]
    },
    {
     "name": "stderr",
     "output_type": "stream",
     "text": [
      "WARNING:root:TimeoutError occurred at train() : "
     ]
    },
    {
     "name": "stderr",
     "output_type": "stream",
     "text": [
      "\n"
     ]
    },
    {
     "name": "stderr",
     "output_type": "stream",
     "text": [
      "WARNING:root:TimeoutError occurred at train() : "
     ]
    },
    {
     "name": "stderr",
     "output_type": "stream",
     "text": [
      "\n"
     ]
    },
    {
     "name": "stderr",
     "output_type": "stream",
     "text": [
      "WARNING:root:TimeoutError occurred at train() : "
     ]
    },
    {
     "name": "stderr",
     "output_type": "stream",
     "text": [
      "\n"
     ]
    },
    {
     "name": "stderr",
     "output_type": "stream",
     "text": [
      "WARNING:root:TimeoutError occurred at train() : "
     ]
    },
    {
     "name": "stderr",
     "output_type": "stream",
     "text": [
      "\n"
     ]
    },
    {
     "name": "stderr",
     "output_type": "stream",
     "text": [
      "WARNING:root:TimeoutError occurred at train() : "
     ]
    },
    {
     "name": "stderr",
     "output_type": "stream",
     "text": [
      "\n"
     ]
    },
    {
     "name": "stderr",
     "output_type": "stream",
     "text": [
      "WARNING:root:TimeoutError occurred at train() : "
     ]
    },
    {
     "name": "stderr",
     "output_type": "stream",
     "text": [
      "\n"
     ]
    },
    {
     "name": "stderr",
     "output_type": "stream",
     "text": [
      "\r",
      " 17%|█▋        | 1/6 [6:09:16<30:46:21, 22156.21s/it]"
     ]
    },
    {
     "name": "stderr",
     "output_type": "stream",
     "text": [
      "\r",
      "100%|██████████| 6/6 [6:09:16<00:00, 3692.70s/it]    "
     ]
    },
    {
     "name": "stderr",
     "output_type": "stream",
     "text": [
      "\n"
     ]
    }
   ],
   "source": [
    "train_data, test_data, train_labels, test_labels = get_data()\n",
    "\n",
    "df = runner.run(\n",
    "    train_data=train_data,\n",
    "    test_data=test_data,\n",
    "    preproc=Preprocessor,\n",
    "    preproc_params=None,\n",
    "    err_root_node=get_err_root_node(),\n",
    "    # err_params_list=get_err_params_list(),\n",
    "    err_params_list=get_err_params_list(train_data),\n",
    "    model_params_dict_list=get_model_params_dict_list(train_labels, test_labels),\n",
    ")"
   ]
  },
  {
   "cell_type": "code",
   "execution_count": 10,
   "metadata": {
    "collapsed": false,
    "papermill": {
     "duration": 1.350255,
     "end_time": "2019-10-23T05:17:40.703151",
     "exception": false,
     "start_time": "2019-10-23T05:17:39.352896",
     "status": "completed"
    },
    "pycharm": {
     "name": "#%%\n"
    },
    "tags": []
   },
   "outputs": [
    {
     "data": {
      "text/plain": [
       "'AutoKeras #1'"
      ]
     },
     "metadata": {},
     "output_type": "display_data"
    },
    {
     "data": {
      "text/html": [
       "<style  type=\"text/css\" >\n",
       "</style><table id=\"T_6ecae358_f554_11e9_bfbb_3cfdfe553c98\" ><thead>    <tr>        <th class=\"col_heading level0 col0\" >std</th>        <th class=\"col_heading level0 col1\" >test_acc</th>        <th class=\"col_heading level0 col2\" >train_acc</th>        <th class=\"col_heading level0 col3\" >time_err</th>        <th class=\"col_heading level0 col4\" >time_pre</th>        <th class=\"col_heading level0 col5\" >time_mod</th>    </tr></thead><tbody>\n",
       "                <tr>\n",
       "                                <td id=\"T_6ecae358_f554_11e9_bfbb_3cfdfe553c98row0_col0\" class=\"data row0 col0\" >0</td>\n",
       "                        <td id=\"T_6ecae358_f554_11e9_bfbb_3cfdfe553c98row0_col1\" class=\"data row0 col1\" >0.239</td>\n",
       "                        <td id=\"T_6ecae358_f554_11e9_bfbb_3cfdfe553c98row0_col2\" class=\"data row0 col2\" >0.273</td>\n",
       "                        <td id=\"T_6ecae358_f554_11e9_bfbb_3cfdfe553c98row0_col3\" class=\"data row0 col3\" >0.121</td>\n",
       "                        <td id=\"T_6ecae358_f554_11e9_bfbb_3cfdfe553c98row0_col4\" class=\"data row0 col4\" >0</td>\n",
       "                        <td id=\"T_6ecae358_f554_11e9_bfbb_3cfdfe553c98row0_col5\" class=\"data row0 col5\" >3607.4</td>\n",
       "            </tr>\n",
       "            <tr>\n",
       "                                <td id=\"T_6ecae358_f554_11e9_bfbb_3cfdfe553c98row1_col0\" class=\"data row1 col0\" >3.2</td>\n",
       "                        <td id=\"T_6ecae358_f554_11e9_bfbb_3cfdfe553c98row1_col1\" class=\"data row1 col1\" >0.586</td>\n",
       "                        <td id=\"T_6ecae358_f554_11e9_bfbb_3cfdfe553c98row1_col2\" class=\"data row1 col2\" >0.566</td>\n",
       "                        <td id=\"T_6ecae358_f554_11e9_bfbb_3cfdfe553c98row1_col3\" class=\"data row1 col3\" >0.118</td>\n",
       "                        <td id=\"T_6ecae358_f554_11e9_bfbb_3cfdfe553c98row1_col4\" class=\"data row1 col4\" >0</td>\n",
       "                        <td id=\"T_6ecae358_f554_11e9_bfbb_3cfdfe553c98row1_col5\" class=\"data row1 col5\" >3638.18</td>\n",
       "            </tr>\n",
       "            <tr>\n",
       "                                <td id=\"T_6ecae358_f554_11e9_bfbb_3cfdfe553c98row2_col0\" class=\"data row2 col0\" >6.4</td>\n",
       "                        <td id=\"T_6ecae358_f554_11e9_bfbb_3cfdfe553c98row2_col1\" class=\"data row2 col1\" >0.114</td>\n",
       "                        <td id=\"T_6ecae358_f554_11e9_bfbb_3cfdfe553c98row2_col2\" class=\"data row2 col2\" >0.136</td>\n",
       "                        <td id=\"T_6ecae358_f554_11e9_bfbb_3cfdfe553c98row2_col3\" class=\"data row2 col3\" >0.116</td>\n",
       "                        <td id=\"T_6ecae358_f554_11e9_bfbb_3cfdfe553c98row2_col4\" class=\"data row2 col4\" >0</td>\n",
       "                        <td id=\"T_6ecae358_f554_11e9_bfbb_3cfdfe553c98row2_col5\" class=\"data row2 col5\" >3793.98</td>\n",
       "            </tr>\n",
       "            <tr>\n",
       "                                <td id=\"T_6ecae358_f554_11e9_bfbb_3cfdfe553c98row3_col0\" class=\"data row3 col0\" >9.6</td>\n",
       "                        <td id=\"T_6ecae358_f554_11e9_bfbb_3cfdfe553c98row3_col1\" class=\"data row3 col1\" >0.119</td>\n",
       "                        <td id=\"T_6ecae358_f554_11e9_bfbb_3cfdfe553c98row3_col2\" class=\"data row3 col2\" >0.137</td>\n",
       "                        <td id=\"T_6ecae358_f554_11e9_bfbb_3cfdfe553c98row3_col3\" class=\"data row3 col3\" >0.115</td>\n",
       "                        <td id=\"T_6ecae358_f554_11e9_bfbb_3cfdfe553c98row3_col4\" class=\"data row3 col4\" >0</td>\n",
       "                        <td id=\"T_6ecae358_f554_11e9_bfbb_3cfdfe553c98row3_col5\" class=\"data row3 col5\" >3703.11</td>\n",
       "            </tr>\n",
       "            <tr>\n",
       "                                <td id=\"T_6ecae358_f554_11e9_bfbb_3cfdfe553c98row4_col0\" class=\"data row4 col0\" >12.8</td>\n",
       "                        <td id=\"T_6ecae358_f554_11e9_bfbb_3cfdfe553c98row4_col1\" class=\"data row4 col1\" >0.125</td>\n",
       "                        <td id=\"T_6ecae358_f554_11e9_bfbb_3cfdfe553c98row4_col2\" class=\"data row4 col2\" >0.113</td>\n",
       "                        <td id=\"T_6ecae358_f554_11e9_bfbb_3cfdfe553c98row4_col3\" class=\"data row4 col3\" >0.113</td>\n",
       "                        <td id=\"T_6ecae358_f554_11e9_bfbb_3cfdfe553c98row4_col4\" class=\"data row4 col4\" >0</td>\n",
       "                        <td id=\"T_6ecae358_f554_11e9_bfbb_3cfdfe553c98row4_col5\" class=\"data row4 col5\" >3613.98</td>\n",
       "            </tr>\n",
       "            <tr>\n",
       "                                <td id=\"T_6ecae358_f554_11e9_bfbb_3cfdfe553c98row5_col0\" class=\"data row5 col0\" >16</td>\n",
       "                        <td id=\"T_6ecae358_f554_11e9_bfbb_3cfdfe553c98row5_col1\" class=\"data row5 col1\" >0.111</td>\n",
       "                        <td id=\"T_6ecae358_f554_11e9_bfbb_3cfdfe553c98row5_col2\" class=\"data row5 col2\" >0.098</td>\n",
       "                        <td id=\"T_6ecae358_f554_11e9_bfbb_3cfdfe553c98row5_col3\" class=\"data row5 col3\" >0.111</td>\n",
       "                        <td id=\"T_6ecae358_f554_11e9_bfbb_3cfdfe553c98row5_col4\" class=\"data row5 col4\" >0</td>\n",
       "                        <td id=\"T_6ecae358_f554_11e9_bfbb_3cfdfe553c98row5_col5\" class=\"data row5 col5\" >3625.16</td>\n",
       "            </tr>\n",
       "    </tbody></table>"
      ],
      "text/plain": [
       "<pandas.io.formats.style.Styler at 0x2aee07d986a0>"
      ]
     },
     "metadata": {},
     "output_type": "display_data"
    },
    {
     "data": {
      "text/html": [
       "<style  type=\"text/css\" >\n",
       "</style><table id=\"T_6ecdf0d4_f554_11e9_bfbb_3cfdfe553c98\" ><thead>    <tr>        <th class=\"col_heading level0 col0\" >std</th>        <th class=\"col_heading level0 col1\" >pipe_0</th>        <th class=\"col_heading level0 col2\" >pipe_1</th>        <th class=\"col_heading level0 col3\" >pipe_2</th>        <th class=\"col_heading level0 col4\" >pipe_3</th>        <th class=\"col_heading level0 col5\" >pipe_4</th>        <th class=\"col_heading level0 col6\" >pipe_5</th>        <th class=\"col_heading level0 col7\" >pipe_6</th>        <th class=\"col_heading level0 col8\" >pipe_7</th>        <th class=\"col_heading level0 col9\" >pipe_8</th>        <th class=\"col_heading level0 col10\" >pipe_9</th>        <th class=\"col_heading level0 col11\" >pipe_10</th>        <th class=\"col_heading level0 col12\" >pipe_11</th>        <th class=\"col_heading level0 col13\" >pipe_12</th>        <th class=\"col_heading level0 col14\" >pipe_13</th>        <th class=\"col_heading level0 col15\" >pipe_14</th>        <th class=\"col_heading level0 col16\" >pipe_15</th>        <th class=\"col_heading level0 col17\" >pipe_16</th>        <th class=\"col_heading level0 col18\" >pipe_17</th>        <th class=\"col_heading level0 col19\" >pipe_18</th>        <th class=\"col_heading level0 col20\" >pipe_19</th>        <th class=\"col_heading level0 col21\" >pipe_20</th>        <th class=\"col_heading level0 col22\" >pipe_21</th>        <th class=\"col_heading level0 col23\" >pipe_22</th>        <th class=\"col_heading level0 col24\" >pipe_23</th>        <th class=\"col_heading level0 col25\" >pipe_24</th>        <th class=\"col_heading level0 col26\" >pipe_25</th>        <th class=\"col_heading level0 col27\" >pipe_26</th>        <th class=\"col_heading level0 col28\" >pipe_27</th>        <th class=\"col_heading level0 col29\" >pipe_28</th>        <th class=\"col_heading level0 col30\" >pipe_29</th>        <th class=\"col_heading level0 col31\" >pipe_30</th>        <th class=\"col_heading level0 col32\" >pipe_31</th>        <th class=\"col_heading level0 col33\" >pipe_32</th>        <th class=\"col_heading level0 col34\" >pipe_33</th>        <th class=\"col_heading level0 col35\" >pipe_34</th>        <th class=\"col_heading level0 col36\" >pipe_35</th>        <th class=\"col_heading level0 col37\" >pipe_36</th>        <th class=\"col_heading level0 col38\" >pipe_37</th>        <th class=\"col_heading level0 col39\" >pipe_38</th>        <th class=\"col_heading level0 col40\" >pipe_39</th>        <th class=\"col_heading level0 col41\" >pipe_40</th>        <th class=\"col_heading level0 col42\" >pipe_41</th>        <th class=\"col_heading level0 col43\" >pipe_42</th>        <th class=\"col_heading level0 col44\" >pipe_43</th>        <th class=\"col_heading level0 col45\" >pipe_44</th>        <th class=\"col_heading level0 col46\" >pipe_45</th>        <th class=\"col_heading level0 col47\" >pipe_46</th>        <th class=\"col_heading level0 col48\" >pipe_47</th>        <th class=\"col_heading level0 col49\" >pipe_48</th>        <th class=\"col_heading level0 col50\" >pipe_49</th>        <th class=\"col_heading level0 col51\" >pipe_50</th>        <th class=\"col_heading level0 col52\" >pipe_51</th>        <th class=\"col_heading level0 col53\" >pipe_52</th>        <th class=\"col_heading level0 col54\" >pipe_53</th>        <th class=\"col_heading level0 col55\" >pipe_54</th>        <th class=\"col_heading level0 col56\" >pipe_55</th>        <th class=\"col_heading level0 col57\" >pipe_56</th>        <th class=\"col_heading level0 col58\" >pipe_57</th>        <th class=\"col_heading level0 col59\" >pipe_58</th>        <th class=\"col_heading level0 col60\" >pipe_59</th>        <th class=\"col_heading level0 col61\" >pipe_60</th>        <th class=\"col_heading level0 col62\" >pipe_61</th>        <th class=\"col_heading level0 col63\" >pipe_62</th>        <th class=\"col_heading level0 col64\" >pipe_63</th>        <th class=\"col_heading level0 col65\" >pipe_64</th>        <th class=\"col_heading level0 col66\" >pipe_65</th>        <th class=\"col_heading level0 col67\" >pipe_66</th>        <th class=\"col_heading level0 col68\" >pipe_67</th>        <th class=\"col_heading level0 col69\" >pipe_68</th>        <th class=\"col_heading level0 col70\" >pipe_69</th>        <th class=\"col_heading level0 col71\" >pipe_70</th>        <th class=\"col_heading level0 col72\" >pipe_71</th>        <th class=\"col_heading level0 col73\" >pipe_72</th>        <th class=\"col_heading level0 col74\" >pipe_73</th>        <th class=\"col_heading level0 col75\" >pipe_74</th>        <th class=\"col_heading level0 col76\" >pipe_75</th>    </tr></thead><tbody>\n",
       "                <tr>\n",
       "                                <td id=\"T_6ecdf0d4_f554_11e9_bfbb_3cfdfe553c98row0_col0\" class=\"data row0 col0\" >0</td>\n",
       "                        <td id=\"T_6ecdf0d4_f554_11e9_bfbb_3cfdfe553c98row0_col1\" class=\"data row0 col1\" >ReLU()</td>\n",
       "                        <td id=\"T_6ecdf0d4_f554_11e9_bfbb_3cfdfe553c98row0_col2\" class=\"data row0 col2\" >BatchNorm2d(1, eps=1e-05, momentum=0.1, affine=True, track_running_stats=True)</td>\n",
       "                        <td id=\"T_6ecdf0d4_f554_11e9_bfbb_3cfdfe553c98row0_col3\" class=\"data row0 col3\" >Conv2d(1, 64, kernel_size=(3, 3), stride=(1, 1), padding=(1, 1))</td>\n",
       "                        <td id=\"T_6ecdf0d4_f554_11e9_bfbb_3cfdfe553c98row0_col4\" class=\"data row0 col4\" >MaxPool2d(kernel_size=2, stride=2, padding=0, dilation=1, ceil_mode=False)</td>\n",
       "                        <td id=\"T_6ecdf0d4_f554_11e9_bfbb_3cfdfe553c98row0_col5\" class=\"data row0 col5\" >ReLU()</td>\n",
       "                        <td id=\"T_6ecdf0d4_f554_11e9_bfbb_3cfdfe553c98row0_col6\" class=\"data row0 col6\" >BatchNorm2d(64, eps=1e-05, momentum=0.1, affine=True, track_running_stats=True)</td>\n",
       "                        <td id=\"T_6ecdf0d4_f554_11e9_bfbb_3cfdfe553c98row0_col7\" class=\"data row0 col7\" >Conv2d(64, 64, kernel_size=(3, 3), stride=(1, 1), padding=(1, 1))</td>\n",
       "                        <td id=\"T_6ecdf0d4_f554_11e9_bfbb_3cfdfe553c98row0_col8\" class=\"data row0 col8\" >MaxPool2d(kernel_size=2, stride=2, padding=0, dilation=1, ceil_mode=False)</td>\n",
       "                        <td id=\"T_6ecdf0d4_f554_11e9_bfbb_3cfdfe553c98row0_col9\" class=\"data row0 col9\" >ReLU()</td>\n",
       "                        <td id=\"T_6ecdf0d4_f554_11e9_bfbb_3cfdfe553c98row0_col10\" class=\"data row0 col10\" >BatchNorm2d(64, eps=1e-05, momentum=0.1, affine=True, track_running_stats=True)</td>\n",
       "                        <td id=\"T_6ecdf0d4_f554_11e9_bfbb_3cfdfe553c98row0_col11\" class=\"data row0 col11\" >Conv2d(64, 64, kernel_size=(3, 3), stride=(1, 1), padding=(1, 1))</td>\n",
       "                        <td id=\"T_6ecdf0d4_f554_11e9_bfbb_3cfdfe553c98row0_col12\" class=\"data row0 col12\" >MaxPool2d(kernel_size=2, stride=2, padding=0, dilation=1, ceil_mode=False)</td>\n",
       "                        <td id=\"T_6ecdf0d4_f554_11e9_bfbb_3cfdfe553c98row0_col13\" class=\"data row0 col13\" >GlobalAvgPool2d()</td>\n",
       "                        <td id=\"T_6ecdf0d4_f554_11e9_bfbb_3cfdfe553c98row0_col14\" class=\"data row0 col14\" >Dropout2d(p=0.25)</td>\n",
       "                        <td id=\"T_6ecdf0d4_f554_11e9_bfbb_3cfdfe553c98row0_col15\" class=\"data row0 col15\" >Linear(in_features=64, out_features=64, bias=True)</td>\n",
       "                        <td id=\"T_6ecdf0d4_f554_11e9_bfbb_3cfdfe553c98row0_col16\" class=\"data row0 col16\" >ReLU()</td>\n",
       "                        <td id=\"T_6ecdf0d4_f554_11e9_bfbb_3cfdfe553c98row0_col17\" class=\"data row0 col17\" >Linear(in_features=64, out_features=10, bias=True)</td>\n",
       "                        <td id=\"T_6ecdf0d4_f554_11e9_bfbb_3cfdfe553c98row0_col18\" class=\"data row0 col18\" >nan</td>\n",
       "                        <td id=\"T_6ecdf0d4_f554_11e9_bfbb_3cfdfe553c98row0_col19\" class=\"data row0 col19\" >nan</td>\n",
       "                        <td id=\"T_6ecdf0d4_f554_11e9_bfbb_3cfdfe553c98row0_col20\" class=\"data row0 col20\" >nan</td>\n",
       "                        <td id=\"T_6ecdf0d4_f554_11e9_bfbb_3cfdfe553c98row0_col21\" class=\"data row0 col21\" >nan</td>\n",
       "                        <td id=\"T_6ecdf0d4_f554_11e9_bfbb_3cfdfe553c98row0_col22\" class=\"data row0 col22\" >nan</td>\n",
       "                        <td id=\"T_6ecdf0d4_f554_11e9_bfbb_3cfdfe553c98row0_col23\" class=\"data row0 col23\" >nan</td>\n",
       "                        <td id=\"T_6ecdf0d4_f554_11e9_bfbb_3cfdfe553c98row0_col24\" class=\"data row0 col24\" >nan</td>\n",
       "                        <td id=\"T_6ecdf0d4_f554_11e9_bfbb_3cfdfe553c98row0_col25\" class=\"data row0 col25\" >nan</td>\n",
       "                        <td id=\"T_6ecdf0d4_f554_11e9_bfbb_3cfdfe553c98row0_col26\" class=\"data row0 col26\" >nan</td>\n",
       "                        <td id=\"T_6ecdf0d4_f554_11e9_bfbb_3cfdfe553c98row0_col27\" class=\"data row0 col27\" >nan</td>\n",
       "                        <td id=\"T_6ecdf0d4_f554_11e9_bfbb_3cfdfe553c98row0_col28\" class=\"data row0 col28\" >nan</td>\n",
       "                        <td id=\"T_6ecdf0d4_f554_11e9_bfbb_3cfdfe553c98row0_col29\" class=\"data row0 col29\" >nan</td>\n",
       "                        <td id=\"T_6ecdf0d4_f554_11e9_bfbb_3cfdfe553c98row0_col30\" class=\"data row0 col30\" >nan</td>\n",
       "                        <td id=\"T_6ecdf0d4_f554_11e9_bfbb_3cfdfe553c98row0_col31\" class=\"data row0 col31\" >nan</td>\n",
       "                        <td id=\"T_6ecdf0d4_f554_11e9_bfbb_3cfdfe553c98row0_col32\" class=\"data row0 col32\" >nan</td>\n",
       "                        <td id=\"T_6ecdf0d4_f554_11e9_bfbb_3cfdfe553c98row0_col33\" class=\"data row0 col33\" >nan</td>\n",
       "                        <td id=\"T_6ecdf0d4_f554_11e9_bfbb_3cfdfe553c98row0_col34\" class=\"data row0 col34\" >nan</td>\n",
       "                        <td id=\"T_6ecdf0d4_f554_11e9_bfbb_3cfdfe553c98row0_col35\" class=\"data row0 col35\" >nan</td>\n",
       "                        <td id=\"T_6ecdf0d4_f554_11e9_bfbb_3cfdfe553c98row0_col36\" class=\"data row0 col36\" >nan</td>\n",
       "                        <td id=\"T_6ecdf0d4_f554_11e9_bfbb_3cfdfe553c98row0_col37\" class=\"data row0 col37\" >nan</td>\n",
       "                        <td id=\"T_6ecdf0d4_f554_11e9_bfbb_3cfdfe553c98row0_col38\" class=\"data row0 col38\" >nan</td>\n",
       "                        <td id=\"T_6ecdf0d4_f554_11e9_bfbb_3cfdfe553c98row0_col39\" class=\"data row0 col39\" >nan</td>\n",
       "                        <td id=\"T_6ecdf0d4_f554_11e9_bfbb_3cfdfe553c98row0_col40\" class=\"data row0 col40\" >nan</td>\n",
       "                        <td id=\"T_6ecdf0d4_f554_11e9_bfbb_3cfdfe553c98row0_col41\" class=\"data row0 col41\" >nan</td>\n",
       "                        <td id=\"T_6ecdf0d4_f554_11e9_bfbb_3cfdfe553c98row0_col42\" class=\"data row0 col42\" >nan</td>\n",
       "                        <td id=\"T_6ecdf0d4_f554_11e9_bfbb_3cfdfe553c98row0_col43\" class=\"data row0 col43\" >nan</td>\n",
       "                        <td id=\"T_6ecdf0d4_f554_11e9_bfbb_3cfdfe553c98row0_col44\" class=\"data row0 col44\" >nan</td>\n",
       "                        <td id=\"T_6ecdf0d4_f554_11e9_bfbb_3cfdfe553c98row0_col45\" class=\"data row0 col45\" >nan</td>\n",
       "                        <td id=\"T_6ecdf0d4_f554_11e9_bfbb_3cfdfe553c98row0_col46\" class=\"data row0 col46\" >nan</td>\n",
       "                        <td id=\"T_6ecdf0d4_f554_11e9_bfbb_3cfdfe553c98row0_col47\" class=\"data row0 col47\" >nan</td>\n",
       "                        <td id=\"T_6ecdf0d4_f554_11e9_bfbb_3cfdfe553c98row0_col48\" class=\"data row0 col48\" >nan</td>\n",
       "                        <td id=\"T_6ecdf0d4_f554_11e9_bfbb_3cfdfe553c98row0_col49\" class=\"data row0 col49\" >nan</td>\n",
       "                        <td id=\"T_6ecdf0d4_f554_11e9_bfbb_3cfdfe553c98row0_col50\" class=\"data row0 col50\" >nan</td>\n",
       "                        <td id=\"T_6ecdf0d4_f554_11e9_bfbb_3cfdfe553c98row0_col51\" class=\"data row0 col51\" >nan</td>\n",
       "                        <td id=\"T_6ecdf0d4_f554_11e9_bfbb_3cfdfe553c98row0_col52\" class=\"data row0 col52\" >nan</td>\n",
       "                        <td id=\"T_6ecdf0d4_f554_11e9_bfbb_3cfdfe553c98row0_col53\" class=\"data row0 col53\" >nan</td>\n",
       "                        <td id=\"T_6ecdf0d4_f554_11e9_bfbb_3cfdfe553c98row0_col54\" class=\"data row0 col54\" >nan</td>\n",
       "                        <td id=\"T_6ecdf0d4_f554_11e9_bfbb_3cfdfe553c98row0_col55\" class=\"data row0 col55\" >nan</td>\n",
       "                        <td id=\"T_6ecdf0d4_f554_11e9_bfbb_3cfdfe553c98row0_col56\" class=\"data row0 col56\" >nan</td>\n",
       "                        <td id=\"T_6ecdf0d4_f554_11e9_bfbb_3cfdfe553c98row0_col57\" class=\"data row0 col57\" >nan</td>\n",
       "                        <td id=\"T_6ecdf0d4_f554_11e9_bfbb_3cfdfe553c98row0_col58\" class=\"data row0 col58\" >nan</td>\n",
       "                        <td id=\"T_6ecdf0d4_f554_11e9_bfbb_3cfdfe553c98row0_col59\" class=\"data row0 col59\" >nan</td>\n",
       "                        <td id=\"T_6ecdf0d4_f554_11e9_bfbb_3cfdfe553c98row0_col60\" class=\"data row0 col60\" >nan</td>\n",
       "                        <td id=\"T_6ecdf0d4_f554_11e9_bfbb_3cfdfe553c98row0_col61\" class=\"data row0 col61\" >nan</td>\n",
       "                        <td id=\"T_6ecdf0d4_f554_11e9_bfbb_3cfdfe553c98row0_col62\" class=\"data row0 col62\" >nan</td>\n",
       "                        <td id=\"T_6ecdf0d4_f554_11e9_bfbb_3cfdfe553c98row0_col63\" class=\"data row0 col63\" >nan</td>\n",
       "                        <td id=\"T_6ecdf0d4_f554_11e9_bfbb_3cfdfe553c98row0_col64\" class=\"data row0 col64\" >nan</td>\n",
       "                        <td id=\"T_6ecdf0d4_f554_11e9_bfbb_3cfdfe553c98row0_col65\" class=\"data row0 col65\" >nan</td>\n",
       "                        <td id=\"T_6ecdf0d4_f554_11e9_bfbb_3cfdfe553c98row0_col66\" class=\"data row0 col66\" >nan</td>\n",
       "                        <td id=\"T_6ecdf0d4_f554_11e9_bfbb_3cfdfe553c98row0_col67\" class=\"data row0 col67\" >nan</td>\n",
       "                        <td id=\"T_6ecdf0d4_f554_11e9_bfbb_3cfdfe553c98row0_col68\" class=\"data row0 col68\" >nan</td>\n",
       "                        <td id=\"T_6ecdf0d4_f554_11e9_bfbb_3cfdfe553c98row0_col69\" class=\"data row0 col69\" >nan</td>\n",
       "                        <td id=\"T_6ecdf0d4_f554_11e9_bfbb_3cfdfe553c98row0_col70\" class=\"data row0 col70\" >nan</td>\n",
       "                        <td id=\"T_6ecdf0d4_f554_11e9_bfbb_3cfdfe553c98row0_col71\" class=\"data row0 col71\" >nan</td>\n",
       "                        <td id=\"T_6ecdf0d4_f554_11e9_bfbb_3cfdfe553c98row0_col72\" class=\"data row0 col72\" >nan</td>\n",
       "                        <td id=\"T_6ecdf0d4_f554_11e9_bfbb_3cfdfe553c98row0_col73\" class=\"data row0 col73\" >nan</td>\n",
       "                        <td id=\"T_6ecdf0d4_f554_11e9_bfbb_3cfdfe553c98row0_col74\" class=\"data row0 col74\" >nan</td>\n",
       "                        <td id=\"T_6ecdf0d4_f554_11e9_bfbb_3cfdfe553c98row0_col75\" class=\"data row0 col75\" >nan</td>\n",
       "                        <td id=\"T_6ecdf0d4_f554_11e9_bfbb_3cfdfe553c98row0_col76\" class=\"data row0 col76\" >nan</td>\n",
       "            </tr>\n",
       "            <tr>\n",
       "                                <td id=\"T_6ecdf0d4_f554_11e9_bfbb_3cfdfe553c98row1_col0\" class=\"data row1 col0\" >3.2</td>\n",
       "                        <td id=\"T_6ecdf0d4_f554_11e9_bfbb_3cfdfe553c98row1_col1\" class=\"data row1 col1\" >Conv2d(1, 64, kernel_size=(3, 3), stride=(1, 1), padding=(1, 1))</td>\n",
       "                        <td id=\"T_6ecdf0d4_f554_11e9_bfbb_3cfdfe553c98row1_col2\" class=\"data row1 col2\" >BatchNorm2d(64, eps=1e-05, momentum=0.1, affine=True, track_running_stats=True)</td>\n",
       "                        <td id=\"T_6ecdf0d4_f554_11e9_bfbb_3cfdfe553c98row1_col3\" class=\"data row1 col3\" >BatchNorm2d(64, eps=1e-05, momentum=0.1, affine=True, track_running_stats=True)</td>\n",
       "                        <td id=\"T_6ecdf0d4_f554_11e9_bfbb_3cfdfe553c98row1_col4\" class=\"data row1 col4\" >ReLU()</td>\n",
       "                        <td id=\"T_6ecdf0d4_f554_11e9_bfbb_3cfdfe553c98row1_col5\" class=\"data row1 col5\" >Conv2d(64, 64, kernel_size=(3, 3), stride=(1, 1), padding=(1, 1))</td>\n",
       "                        <td id=\"T_6ecdf0d4_f554_11e9_bfbb_3cfdfe553c98row1_col6\" class=\"data row1 col6\" >BatchNorm2d(64, eps=1e-05, momentum=0.1, affine=True, track_running_stats=True)</td>\n",
       "                        <td id=\"T_6ecdf0d4_f554_11e9_bfbb_3cfdfe553c98row1_col7\" class=\"data row1 col7\" >ReLU()</td>\n",
       "                        <td id=\"T_6ecdf0d4_f554_11e9_bfbb_3cfdfe553c98row1_col8\" class=\"data row1 col8\" >Conv2d(64, 64, kernel_size=(3, 3), stride=(1, 1), padding=(1, 1))</td>\n",
       "                        <td id=\"T_6ecdf0d4_f554_11e9_bfbb_3cfdfe553c98row1_col9\" class=\"data row1 col9\" >ReLU()</td>\n",
       "                        <td id=\"T_6ecdf0d4_f554_11e9_bfbb_3cfdfe553c98row1_col10\" class=\"data row1 col10\" >Conv2d(64, 64, kernel_size=(1, 1), stride=(1, 1))</td>\n",
       "                        <td id=\"T_6ecdf0d4_f554_11e9_bfbb_3cfdfe553c98row1_col11\" class=\"data row1 col11\" >TorchAdd()</td>\n",
       "                        <td id=\"T_6ecdf0d4_f554_11e9_bfbb_3cfdfe553c98row1_col12\" class=\"data row1 col12\" >BatchNorm2d(64, eps=1e-05, momentum=0.1, affine=True, track_running_stats=True)</td>\n",
       "                        <td id=\"T_6ecdf0d4_f554_11e9_bfbb_3cfdfe553c98row1_col13\" class=\"data row1 col13\" >ReLU()</td>\n",
       "                        <td id=\"T_6ecdf0d4_f554_11e9_bfbb_3cfdfe553c98row1_col14\" class=\"data row1 col14\" >Conv2d(64, 64, kernel_size=(3, 3), stride=(1, 1), padding=(1, 1))</td>\n",
       "                        <td id=\"T_6ecdf0d4_f554_11e9_bfbb_3cfdfe553c98row1_col15\" class=\"data row1 col15\" >BatchNorm2d(64, eps=1e-05, momentum=0.1, affine=True, track_running_stats=True)</td>\n",
       "                        <td id=\"T_6ecdf0d4_f554_11e9_bfbb_3cfdfe553c98row1_col16\" class=\"data row1 col16\" >ReLU()</td>\n",
       "                        <td id=\"T_6ecdf0d4_f554_11e9_bfbb_3cfdfe553c98row1_col17\" class=\"data row1 col17\" >Conv2d(64, 64, kernel_size=(3, 3), stride=(1, 1), padding=(1, 1))</td>\n",
       "                        <td id=\"T_6ecdf0d4_f554_11e9_bfbb_3cfdfe553c98row1_col18\" class=\"data row1 col18\" >ReLU()</td>\n",
       "                        <td id=\"T_6ecdf0d4_f554_11e9_bfbb_3cfdfe553c98row1_col19\" class=\"data row1 col19\" >Conv2d(64, 64, kernel_size=(1, 1), stride=(1, 1))</td>\n",
       "                        <td id=\"T_6ecdf0d4_f554_11e9_bfbb_3cfdfe553c98row1_col20\" class=\"data row1 col20\" >TorchAdd()</td>\n",
       "                        <td id=\"T_6ecdf0d4_f554_11e9_bfbb_3cfdfe553c98row1_col21\" class=\"data row1 col21\" >BatchNorm2d(64, eps=1e-05, momentum=0.1, affine=True, track_running_stats=True)</td>\n",
       "                        <td id=\"T_6ecdf0d4_f554_11e9_bfbb_3cfdfe553c98row1_col22\" class=\"data row1 col22\" >ReLU()</td>\n",
       "                        <td id=\"T_6ecdf0d4_f554_11e9_bfbb_3cfdfe553c98row1_col23\" class=\"data row1 col23\" >Conv2d(64, 128, kernel_size=(3, 3), stride=(2, 2), padding=(1, 1))</td>\n",
       "                        <td id=\"T_6ecdf0d4_f554_11e9_bfbb_3cfdfe553c98row1_col24\" class=\"data row1 col24\" >BatchNorm2d(128, eps=1e-05, momentum=0.1, affine=True, track_running_stats=True)</td>\n",
       "                        <td id=\"T_6ecdf0d4_f554_11e9_bfbb_3cfdfe553c98row1_col25\" class=\"data row1 col25\" >ReLU()</td>\n",
       "                        <td id=\"T_6ecdf0d4_f554_11e9_bfbb_3cfdfe553c98row1_col26\" class=\"data row1 col26\" >Conv2d(128, 128, kernel_size=(3, 3), stride=(1, 1), padding=(1, 1))</td>\n",
       "                        <td id=\"T_6ecdf0d4_f554_11e9_bfbb_3cfdfe553c98row1_col27\" class=\"data row1 col27\" >ReLU()</td>\n",
       "                        <td id=\"T_6ecdf0d4_f554_11e9_bfbb_3cfdfe553c98row1_col28\" class=\"data row1 col28\" >Conv2d(64, 128, kernel_size=(1, 1), stride=(2, 2))</td>\n",
       "                        <td id=\"T_6ecdf0d4_f554_11e9_bfbb_3cfdfe553c98row1_col29\" class=\"data row1 col29\" >TorchAdd()</td>\n",
       "                        <td id=\"T_6ecdf0d4_f554_11e9_bfbb_3cfdfe553c98row1_col30\" class=\"data row1 col30\" >BatchNorm2d(128, eps=1e-05, momentum=0.1, affine=True, track_running_stats=True)</td>\n",
       "                        <td id=\"T_6ecdf0d4_f554_11e9_bfbb_3cfdfe553c98row1_col31\" class=\"data row1 col31\" >ReLU()</td>\n",
       "                        <td id=\"T_6ecdf0d4_f554_11e9_bfbb_3cfdfe553c98row1_col32\" class=\"data row1 col32\" >Conv2d(128, 128, kernel_size=(3, 3), stride=(1, 1), padding=(1, 1))</td>\n",
       "                        <td id=\"T_6ecdf0d4_f554_11e9_bfbb_3cfdfe553c98row1_col33\" class=\"data row1 col33\" >BatchNorm2d(128, eps=1e-05, momentum=0.1, affine=True, track_running_stats=True)</td>\n",
       "                        <td id=\"T_6ecdf0d4_f554_11e9_bfbb_3cfdfe553c98row1_col34\" class=\"data row1 col34\" >ReLU()</td>\n",
       "                        <td id=\"T_6ecdf0d4_f554_11e9_bfbb_3cfdfe553c98row1_col35\" class=\"data row1 col35\" >Conv2d(128, 128, kernel_size=(3, 3), stride=(1, 1), padding=(1, 1))</td>\n",
       "                        <td id=\"T_6ecdf0d4_f554_11e9_bfbb_3cfdfe553c98row1_col36\" class=\"data row1 col36\" >ReLU()</td>\n",
       "                        <td id=\"T_6ecdf0d4_f554_11e9_bfbb_3cfdfe553c98row1_col37\" class=\"data row1 col37\" >Conv2d(128, 128, kernel_size=(1, 1), stride=(1, 1))</td>\n",
       "                        <td id=\"T_6ecdf0d4_f554_11e9_bfbb_3cfdfe553c98row1_col38\" class=\"data row1 col38\" >TorchAdd()</td>\n",
       "                        <td id=\"T_6ecdf0d4_f554_11e9_bfbb_3cfdfe553c98row1_col39\" class=\"data row1 col39\" >BatchNorm2d(128, eps=1e-05, momentum=0.1, affine=True, track_running_stats=True)</td>\n",
       "                        <td id=\"T_6ecdf0d4_f554_11e9_bfbb_3cfdfe553c98row1_col40\" class=\"data row1 col40\" >ReLU()</td>\n",
       "                        <td id=\"T_6ecdf0d4_f554_11e9_bfbb_3cfdfe553c98row1_col41\" class=\"data row1 col41\" >Conv2d(128, 256, kernel_size=(3, 3), stride=(2, 2), padding=(1, 1))</td>\n",
       "                        <td id=\"T_6ecdf0d4_f554_11e9_bfbb_3cfdfe553c98row1_col42\" class=\"data row1 col42\" >BatchNorm2d(256, eps=1e-05, momentum=0.1, affine=True, track_running_stats=True)</td>\n",
       "                        <td id=\"T_6ecdf0d4_f554_11e9_bfbb_3cfdfe553c98row1_col43\" class=\"data row1 col43\" >ReLU()</td>\n",
       "                        <td id=\"T_6ecdf0d4_f554_11e9_bfbb_3cfdfe553c98row1_col44\" class=\"data row1 col44\" >Conv2d(256, 256, kernel_size=(3, 3), stride=(1, 1), padding=(1, 1))</td>\n",
       "                        <td id=\"T_6ecdf0d4_f554_11e9_bfbb_3cfdfe553c98row1_col45\" class=\"data row1 col45\" >ReLU()</td>\n",
       "                        <td id=\"T_6ecdf0d4_f554_11e9_bfbb_3cfdfe553c98row1_col46\" class=\"data row1 col46\" >Conv2d(128, 256, kernel_size=(1, 1), stride=(2, 2))</td>\n",
       "                        <td id=\"T_6ecdf0d4_f554_11e9_bfbb_3cfdfe553c98row1_col47\" class=\"data row1 col47\" >TorchAdd()</td>\n",
       "                        <td id=\"T_6ecdf0d4_f554_11e9_bfbb_3cfdfe553c98row1_col48\" class=\"data row1 col48\" >BatchNorm2d(256, eps=1e-05, momentum=0.1, affine=True, track_running_stats=True)</td>\n",
       "                        <td id=\"T_6ecdf0d4_f554_11e9_bfbb_3cfdfe553c98row1_col49\" class=\"data row1 col49\" >ReLU()</td>\n",
       "                        <td id=\"T_6ecdf0d4_f554_11e9_bfbb_3cfdfe553c98row1_col50\" class=\"data row1 col50\" >Conv2d(256, 256, kernel_size=(3, 3), stride=(1, 1), padding=(1, 1))</td>\n",
       "                        <td id=\"T_6ecdf0d4_f554_11e9_bfbb_3cfdfe553c98row1_col51\" class=\"data row1 col51\" >BatchNorm2d(256, eps=1e-05, momentum=0.1, affine=True, track_running_stats=True)</td>\n",
       "                        <td id=\"T_6ecdf0d4_f554_11e9_bfbb_3cfdfe553c98row1_col52\" class=\"data row1 col52\" >ReLU()</td>\n",
       "                        <td id=\"T_6ecdf0d4_f554_11e9_bfbb_3cfdfe553c98row1_col53\" class=\"data row1 col53\" >Conv2d(256, 256, kernel_size=(3, 3), stride=(1, 1), padding=(1, 1))</td>\n",
       "                        <td id=\"T_6ecdf0d4_f554_11e9_bfbb_3cfdfe553c98row1_col54\" class=\"data row1 col54\" >ReLU()</td>\n",
       "                        <td id=\"T_6ecdf0d4_f554_11e9_bfbb_3cfdfe553c98row1_col55\" class=\"data row1 col55\" >Conv2d(256, 256, kernel_size=(1, 1), stride=(1, 1))</td>\n",
       "                        <td id=\"T_6ecdf0d4_f554_11e9_bfbb_3cfdfe553c98row1_col56\" class=\"data row1 col56\" >TorchAdd()</td>\n",
       "                        <td id=\"T_6ecdf0d4_f554_11e9_bfbb_3cfdfe553c98row1_col57\" class=\"data row1 col57\" >BatchNorm2d(256, eps=1e-05, momentum=0.1, affine=True, track_running_stats=True)</td>\n",
       "                        <td id=\"T_6ecdf0d4_f554_11e9_bfbb_3cfdfe553c98row1_col58\" class=\"data row1 col58\" >ReLU()</td>\n",
       "                        <td id=\"T_6ecdf0d4_f554_11e9_bfbb_3cfdfe553c98row1_col59\" class=\"data row1 col59\" >Conv2d(256, 512, kernel_size=(3, 3), stride=(2, 2), padding=(1, 1))</td>\n",
       "                        <td id=\"T_6ecdf0d4_f554_11e9_bfbb_3cfdfe553c98row1_col60\" class=\"data row1 col60\" >BatchNorm2d(512, eps=1e-05, momentum=0.1, affine=True, track_running_stats=True)</td>\n",
       "                        <td id=\"T_6ecdf0d4_f554_11e9_bfbb_3cfdfe553c98row1_col61\" class=\"data row1 col61\" >ReLU()</td>\n",
       "                        <td id=\"T_6ecdf0d4_f554_11e9_bfbb_3cfdfe553c98row1_col62\" class=\"data row1 col62\" >Conv2d(512, 512, kernel_size=(3, 3), stride=(1, 1), padding=(1, 1))</td>\n",
       "                        <td id=\"T_6ecdf0d4_f554_11e9_bfbb_3cfdfe553c98row1_col63\" class=\"data row1 col63\" >ReLU()</td>\n",
       "                        <td id=\"T_6ecdf0d4_f554_11e9_bfbb_3cfdfe553c98row1_col64\" class=\"data row1 col64\" >Conv2d(256, 512, kernel_size=(1, 1), stride=(2, 2))</td>\n",
       "                        <td id=\"T_6ecdf0d4_f554_11e9_bfbb_3cfdfe553c98row1_col65\" class=\"data row1 col65\" >TorchAdd()</td>\n",
       "                        <td id=\"T_6ecdf0d4_f554_11e9_bfbb_3cfdfe553c98row1_col66\" class=\"data row1 col66\" >BatchNorm2d(512, eps=1e-05, momentum=0.1, affine=True, track_running_stats=True)</td>\n",
       "                        <td id=\"T_6ecdf0d4_f554_11e9_bfbb_3cfdfe553c98row1_col67\" class=\"data row1 col67\" >ReLU()</td>\n",
       "                        <td id=\"T_6ecdf0d4_f554_11e9_bfbb_3cfdfe553c98row1_col68\" class=\"data row1 col68\" >Conv2d(512, 512, kernel_size=(3, 3), stride=(1, 1), padding=(1, 1))</td>\n",
       "                        <td id=\"T_6ecdf0d4_f554_11e9_bfbb_3cfdfe553c98row1_col69\" class=\"data row1 col69\" >BatchNorm2d(512, eps=1e-05, momentum=0.1, affine=True, track_running_stats=True)</td>\n",
       "                        <td id=\"T_6ecdf0d4_f554_11e9_bfbb_3cfdfe553c98row1_col70\" class=\"data row1 col70\" >ReLU()</td>\n",
       "                        <td id=\"T_6ecdf0d4_f554_11e9_bfbb_3cfdfe553c98row1_col71\" class=\"data row1 col71\" >Conv2d(512, 512, kernel_size=(3, 3), stride=(1, 1), padding=(1, 1))</td>\n",
       "                        <td id=\"T_6ecdf0d4_f554_11e9_bfbb_3cfdfe553c98row1_col72\" class=\"data row1 col72\" >ReLU()</td>\n",
       "                        <td id=\"T_6ecdf0d4_f554_11e9_bfbb_3cfdfe553c98row1_col73\" class=\"data row1 col73\" >Conv2d(512, 512, kernel_size=(1, 1), stride=(1, 1))</td>\n",
       "                        <td id=\"T_6ecdf0d4_f554_11e9_bfbb_3cfdfe553c98row1_col74\" class=\"data row1 col74\" >TorchAdd()</td>\n",
       "                        <td id=\"T_6ecdf0d4_f554_11e9_bfbb_3cfdfe553c98row1_col75\" class=\"data row1 col75\" >GlobalAvgPool2d()</td>\n",
       "                        <td id=\"T_6ecdf0d4_f554_11e9_bfbb_3cfdfe553c98row1_col76\" class=\"data row1 col76\" >Linear(in_features=512, out_features=10, bias=True)</td>\n",
       "            </tr>\n",
       "            <tr>\n",
       "                                <td id=\"T_6ecdf0d4_f554_11e9_bfbb_3cfdfe553c98row2_col0\" class=\"data row2 col0\" >6.4</td>\n",
       "                        <td id=\"T_6ecdf0d4_f554_11e9_bfbb_3cfdfe553c98row2_col1\" class=\"data row2 col1\" >Conv2d(1, 64, kernel_size=(3, 3), stride=(1, 1), padding=(1, 1))</td>\n",
       "                        <td id=\"T_6ecdf0d4_f554_11e9_bfbb_3cfdfe553c98row2_col2\" class=\"data row2 col2\" >BatchNorm2d(64, eps=1e-05, momentum=0.1, affine=True, track_running_stats=True)</td>\n",
       "                        <td id=\"T_6ecdf0d4_f554_11e9_bfbb_3cfdfe553c98row2_col3\" class=\"data row2 col3\" >BatchNorm2d(64, eps=1e-05, momentum=0.1, affine=True, track_running_stats=True)</td>\n",
       "                        <td id=\"T_6ecdf0d4_f554_11e9_bfbb_3cfdfe553c98row2_col4\" class=\"data row2 col4\" >ReLU()</td>\n",
       "                        <td id=\"T_6ecdf0d4_f554_11e9_bfbb_3cfdfe553c98row2_col5\" class=\"data row2 col5\" >Conv2d(64, 64, kernel_size=(3, 3), stride=(1, 1), padding=(1, 1))</td>\n",
       "                        <td id=\"T_6ecdf0d4_f554_11e9_bfbb_3cfdfe553c98row2_col6\" class=\"data row2 col6\" >BatchNorm2d(64, eps=1e-05, momentum=0.1, affine=True, track_running_stats=True)</td>\n",
       "                        <td id=\"T_6ecdf0d4_f554_11e9_bfbb_3cfdfe553c98row2_col7\" class=\"data row2 col7\" >ReLU()</td>\n",
       "                        <td id=\"T_6ecdf0d4_f554_11e9_bfbb_3cfdfe553c98row2_col8\" class=\"data row2 col8\" >Conv2d(64, 64, kernel_size=(3, 3), stride=(1, 1), padding=(1, 1))</td>\n",
       "                        <td id=\"T_6ecdf0d4_f554_11e9_bfbb_3cfdfe553c98row2_col9\" class=\"data row2 col9\" >ReLU()</td>\n",
       "                        <td id=\"T_6ecdf0d4_f554_11e9_bfbb_3cfdfe553c98row2_col10\" class=\"data row2 col10\" >Conv2d(64, 64, kernel_size=(1, 1), stride=(1, 1))</td>\n",
       "                        <td id=\"T_6ecdf0d4_f554_11e9_bfbb_3cfdfe553c98row2_col11\" class=\"data row2 col11\" >TorchAdd()</td>\n",
       "                        <td id=\"T_6ecdf0d4_f554_11e9_bfbb_3cfdfe553c98row2_col12\" class=\"data row2 col12\" >BatchNorm2d(64, eps=1e-05, momentum=0.1, affine=True, track_running_stats=True)</td>\n",
       "                        <td id=\"T_6ecdf0d4_f554_11e9_bfbb_3cfdfe553c98row2_col13\" class=\"data row2 col13\" >ReLU()</td>\n",
       "                        <td id=\"T_6ecdf0d4_f554_11e9_bfbb_3cfdfe553c98row2_col14\" class=\"data row2 col14\" >Conv2d(64, 64, kernel_size=(3, 3), stride=(1, 1), padding=(1, 1))</td>\n",
       "                        <td id=\"T_6ecdf0d4_f554_11e9_bfbb_3cfdfe553c98row2_col15\" class=\"data row2 col15\" >BatchNorm2d(64, eps=1e-05, momentum=0.1, affine=True, track_running_stats=True)</td>\n",
       "                        <td id=\"T_6ecdf0d4_f554_11e9_bfbb_3cfdfe553c98row2_col16\" class=\"data row2 col16\" >ReLU()</td>\n",
       "                        <td id=\"T_6ecdf0d4_f554_11e9_bfbb_3cfdfe553c98row2_col17\" class=\"data row2 col17\" >Conv2d(64, 64, kernel_size=(3, 3), stride=(1, 1), padding=(1, 1))</td>\n",
       "                        <td id=\"T_6ecdf0d4_f554_11e9_bfbb_3cfdfe553c98row2_col18\" class=\"data row2 col18\" >ReLU()</td>\n",
       "                        <td id=\"T_6ecdf0d4_f554_11e9_bfbb_3cfdfe553c98row2_col19\" class=\"data row2 col19\" >Conv2d(64, 64, kernel_size=(1, 1), stride=(1, 1))</td>\n",
       "                        <td id=\"T_6ecdf0d4_f554_11e9_bfbb_3cfdfe553c98row2_col20\" class=\"data row2 col20\" >TorchAdd()</td>\n",
       "                        <td id=\"T_6ecdf0d4_f554_11e9_bfbb_3cfdfe553c98row2_col21\" class=\"data row2 col21\" >BatchNorm2d(64, eps=1e-05, momentum=0.1, affine=True, track_running_stats=True)</td>\n",
       "                        <td id=\"T_6ecdf0d4_f554_11e9_bfbb_3cfdfe553c98row2_col22\" class=\"data row2 col22\" >ReLU()</td>\n",
       "                        <td id=\"T_6ecdf0d4_f554_11e9_bfbb_3cfdfe553c98row2_col23\" class=\"data row2 col23\" >Conv2d(64, 128, kernel_size=(3, 3), stride=(2, 2), padding=(1, 1))</td>\n",
       "                        <td id=\"T_6ecdf0d4_f554_11e9_bfbb_3cfdfe553c98row2_col24\" class=\"data row2 col24\" >BatchNorm2d(128, eps=1e-05, momentum=0.1, affine=True, track_running_stats=True)</td>\n",
       "                        <td id=\"T_6ecdf0d4_f554_11e9_bfbb_3cfdfe553c98row2_col25\" class=\"data row2 col25\" >ReLU()</td>\n",
       "                        <td id=\"T_6ecdf0d4_f554_11e9_bfbb_3cfdfe553c98row2_col26\" class=\"data row2 col26\" >Conv2d(128, 128, kernel_size=(3, 3), stride=(1, 1), padding=(1, 1))</td>\n",
       "                        <td id=\"T_6ecdf0d4_f554_11e9_bfbb_3cfdfe553c98row2_col27\" class=\"data row2 col27\" >ReLU()</td>\n",
       "                        <td id=\"T_6ecdf0d4_f554_11e9_bfbb_3cfdfe553c98row2_col28\" class=\"data row2 col28\" >Conv2d(64, 128, kernel_size=(1, 1), stride=(2, 2))</td>\n",
       "                        <td id=\"T_6ecdf0d4_f554_11e9_bfbb_3cfdfe553c98row2_col29\" class=\"data row2 col29\" >TorchAdd()</td>\n",
       "                        <td id=\"T_6ecdf0d4_f554_11e9_bfbb_3cfdfe553c98row2_col30\" class=\"data row2 col30\" >BatchNorm2d(128, eps=1e-05, momentum=0.1, affine=True, track_running_stats=True)</td>\n",
       "                        <td id=\"T_6ecdf0d4_f554_11e9_bfbb_3cfdfe553c98row2_col31\" class=\"data row2 col31\" >ReLU()</td>\n",
       "                        <td id=\"T_6ecdf0d4_f554_11e9_bfbb_3cfdfe553c98row2_col32\" class=\"data row2 col32\" >Conv2d(128, 128, kernel_size=(3, 3), stride=(1, 1), padding=(1, 1))</td>\n",
       "                        <td id=\"T_6ecdf0d4_f554_11e9_bfbb_3cfdfe553c98row2_col33\" class=\"data row2 col33\" >BatchNorm2d(128, eps=1e-05, momentum=0.1, affine=True, track_running_stats=True)</td>\n",
       "                        <td id=\"T_6ecdf0d4_f554_11e9_bfbb_3cfdfe553c98row2_col34\" class=\"data row2 col34\" >ReLU()</td>\n",
       "                        <td id=\"T_6ecdf0d4_f554_11e9_bfbb_3cfdfe553c98row2_col35\" class=\"data row2 col35\" >Conv2d(128, 128, kernel_size=(3, 3), stride=(1, 1), padding=(1, 1))</td>\n",
       "                        <td id=\"T_6ecdf0d4_f554_11e9_bfbb_3cfdfe553c98row2_col36\" class=\"data row2 col36\" >ReLU()</td>\n",
       "                        <td id=\"T_6ecdf0d4_f554_11e9_bfbb_3cfdfe553c98row2_col37\" class=\"data row2 col37\" >Conv2d(128, 128, kernel_size=(1, 1), stride=(1, 1))</td>\n",
       "                        <td id=\"T_6ecdf0d4_f554_11e9_bfbb_3cfdfe553c98row2_col38\" class=\"data row2 col38\" >TorchAdd()</td>\n",
       "                        <td id=\"T_6ecdf0d4_f554_11e9_bfbb_3cfdfe553c98row2_col39\" class=\"data row2 col39\" >BatchNorm2d(128, eps=1e-05, momentum=0.1, affine=True, track_running_stats=True)</td>\n",
       "                        <td id=\"T_6ecdf0d4_f554_11e9_bfbb_3cfdfe553c98row2_col40\" class=\"data row2 col40\" >ReLU()</td>\n",
       "                        <td id=\"T_6ecdf0d4_f554_11e9_bfbb_3cfdfe553c98row2_col41\" class=\"data row2 col41\" >Conv2d(128, 256, kernel_size=(3, 3), stride=(2, 2), padding=(1, 1))</td>\n",
       "                        <td id=\"T_6ecdf0d4_f554_11e9_bfbb_3cfdfe553c98row2_col42\" class=\"data row2 col42\" >BatchNorm2d(256, eps=1e-05, momentum=0.1, affine=True, track_running_stats=True)</td>\n",
       "                        <td id=\"T_6ecdf0d4_f554_11e9_bfbb_3cfdfe553c98row2_col43\" class=\"data row2 col43\" >ReLU()</td>\n",
       "                        <td id=\"T_6ecdf0d4_f554_11e9_bfbb_3cfdfe553c98row2_col44\" class=\"data row2 col44\" >Conv2d(256, 256, kernel_size=(3, 3), stride=(1, 1), padding=(1, 1))</td>\n",
       "                        <td id=\"T_6ecdf0d4_f554_11e9_bfbb_3cfdfe553c98row2_col45\" class=\"data row2 col45\" >ReLU()</td>\n",
       "                        <td id=\"T_6ecdf0d4_f554_11e9_bfbb_3cfdfe553c98row2_col46\" class=\"data row2 col46\" >Conv2d(128, 256, kernel_size=(1, 1), stride=(2, 2))</td>\n",
       "                        <td id=\"T_6ecdf0d4_f554_11e9_bfbb_3cfdfe553c98row2_col47\" class=\"data row2 col47\" >TorchAdd()</td>\n",
       "                        <td id=\"T_6ecdf0d4_f554_11e9_bfbb_3cfdfe553c98row2_col48\" class=\"data row2 col48\" >BatchNorm2d(256, eps=1e-05, momentum=0.1, affine=True, track_running_stats=True)</td>\n",
       "                        <td id=\"T_6ecdf0d4_f554_11e9_bfbb_3cfdfe553c98row2_col49\" class=\"data row2 col49\" >ReLU()</td>\n",
       "                        <td id=\"T_6ecdf0d4_f554_11e9_bfbb_3cfdfe553c98row2_col50\" class=\"data row2 col50\" >Conv2d(256, 256, kernel_size=(3, 3), stride=(1, 1), padding=(1, 1))</td>\n",
       "                        <td id=\"T_6ecdf0d4_f554_11e9_bfbb_3cfdfe553c98row2_col51\" class=\"data row2 col51\" >BatchNorm2d(256, eps=1e-05, momentum=0.1, affine=True, track_running_stats=True)</td>\n",
       "                        <td id=\"T_6ecdf0d4_f554_11e9_bfbb_3cfdfe553c98row2_col52\" class=\"data row2 col52\" >ReLU()</td>\n",
       "                        <td id=\"T_6ecdf0d4_f554_11e9_bfbb_3cfdfe553c98row2_col53\" class=\"data row2 col53\" >Conv2d(256, 256, kernel_size=(3, 3), stride=(1, 1), padding=(1, 1))</td>\n",
       "                        <td id=\"T_6ecdf0d4_f554_11e9_bfbb_3cfdfe553c98row2_col54\" class=\"data row2 col54\" >ReLU()</td>\n",
       "                        <td id=\"T_6ecdf0d4_f554_11e9_bfbb_3cfdfe553c98row2_col55\" class=\"data row2 col55\" >Conv2d(256, 256, kernel_size=(1, 1), stride=(1, 1))</td>\n",
       "                        <td id=\"T_6ecdf0d4_f554_11e9_bfbb_3cfdfe553c98row2_col56\" class=\"data row2 col56\" >TorchAdd()</td>\n",
       "                        <td id=\"T_6ecdf0d4_f554_11e9_bfbb_3cfdfe553c98row2_col57\" class=\"data row2 col57\" >BatchNorm2d(256, eps=1e-05, momentum=0.1, affine=True, track_running_stats=True)</td>\n",
       "                        <td id=\"T_6ecdf0d4_f554_11e9_bfbb_3cfdfe553c98row2_col58\" class=\"data row2 col58\" >ReLU()</td>\n",
       "                        <td id=\"T_6ecdf0d4_f554_11e9_bfbb_3cfdfe553c98row2_col59\" class=\"data row2 col59\" >Conv2d(256, 512, kernel_size=(3, 3), stride=(2, 2), padding=(1, 1))</td>\n",
       "                        <td id=\"T_6ecdf0d4_f554_11e9_bfbb_3cfdfe553c98row2_col60\" class=\"data row2 col60\" >BatchNorm2d(512, eps=1e-05, momentum=0.1, affine=True, track_running_stats=True)</td>\n",
       "                        <td id=\"T_6ecdf0d4_f554_11e9_bfbb_3cfdfe553c98row2_col61\" class=\"data row2 col61\" >ReLU()</td>\n",
       "                        <td id=\"T_6ecdf0d4_f554_11e9_bfbb_3cfdfe553c98row2_col62\" class=\"data row2 col62\" >Conv2d(512, 512, kernel_size=(3, 3), stride=(1, 1), padding=(1, 1))</td>\n",
       "                        <td id=\"T_6ecdf0d4_f554_11e9_bfbb_3cfdfe553c98row2_col63\" class=\"data row2 col63\" >ReLU()</td>\n",
       "                        <td id=\"T_6ecdf0d4_f554_11e9_bfbb_3cfdfe553c98row2_col64\" class=\"data row2 col64\" >Conv2d(256, 512, kernel_size=(1, 1), stride=(2, 2))</td>\n",
       "                        <td id=\"T_6ecdf0d4_f554_11e9_bfbb_3cfdfe553c98row2_col65\" class=\"data row2 col65\" >TorchAdd()</td>\n",
       "                        <td id=\"T_6ecdf0d4_f554_11e9_bfbb_3cfdfe553c98row2_col66\" class=\"data row2 col66\" >BatchNorm2d(512, eps=1e-05, momentum=0.1, affine=True, track_running_stats=True)</td>\n",
       "                        <td id=\"T_6ecdf0d4_f554_11e9_bfbb_3cfdfe553c98row2_col67\" class=\"data row2 col67\" >ReLU()</td>\n",
       "                        <td id=\"T_6ecdf0d4_f554_11e9_bfbb_3cfdfe553c98row2_col68\" class=\"data row2 col68\" >Conv2d(512, 512, kernel_size=(3, 3), stride=(1, 1), padding=(1, 1))</td>\n",
       "                        <td id=\"T_6ecdf0d4_f554_11e9_bfbb_3cfdfe553c98row2_col69\" class=\"data row2 col69\" >BatchNorm2d(512, eps=1e-05, momentum=0.1, affine=True, track_running_stats=True)</td>\n",
       "                        <td id=\"T_6ecdf0d4_f554_11e9_bfbb_3cfdfe553c98row2_col70\" class=\"data row2 col70\" >ReLU()</td>\n",
       "                        <td id=\"T_6ecdf0d4_f554_11e9_bfbb_3cfdfe553c98row2_col71\" class=\"data row2 col71\" >Conv2d(512, 512, kernel_size=(3, 3), stride=(1, 1), padding=(1, 1))</td>\n",
       "                        <td id=\"T_6ecdf0d4_f554_11e9_bfbb_3cfdfe553c98row2_col72\" class=\"data row2 col72\" >ReLU()</td>\n",
       "                        <td id=\"T_6ecdf0d4_f554_11e9_bfbb_3cfdfe553c98row2_col73\" class=\"data row2 col73\" >Conv2d(512, 512, kernel_size=(1, 1), stride=(1, 1))</td>\n",
       "                        <td id=\"T_6ecdf0d4_f554_11e9_bfbb_3cfdfe553c98row2_col74\" class=\"data row2 col74\" >TorchAdd()</td>\n",
       "                        <td id=\"T_6ecdf0d4_f554_11e9_bfbb_3cfdfe553c98row2_col75\" class=\"data row2 col75\" >GlobalAvgPool2d()</td>\n",
       "                        <td id=\"T_6ecdf0d4_f554_11e9_bfbb_3cfdfe553c98row2_col76\" class=\"data row2 col76\" >Linear(in_features=512, out_features=10, bias=True)</td>\n",
       "            </tr>\n",
       "            <tr>\n",
       "                                <td id=\"T_6ecdf0d4_f554_11e9_bfbb_3cfdfe553c98row3_col0\" class=\"data row3 col0\" >9.6</td>\n",
       "                        <td id=\"T_6ecdf0d4_f554_11e9_bfbb_3cfdfe553c98row3_col1\" class=\"data row3 col1\" >Conv2d(1, 64, kernel_size=(3, 3), stride=(1, 1), padding=(1, 1))</td>\n",
       "                        <td id=\"T_6ecdf0d4_f554_11e9_bfbb_3cfdfe553c98row3_col2\" class=\"data row3 col2\" >BatchNorm2d(64, eps=1e-05, momentum=0.1, affine=True, track_running_stats=True)</td>\n",
       "                        <td id=\"T_6ecdf0d4_f554_11e9_bfbb_3cfdfe553c98row3_col3\" class=\"data row3 col3\" >BatchNorm2d(64, eps=1e-05, momentum=0.1, affine=True, track_running_stats=True)</td>\n",
       "                        <td id=\"T_6ecdf0d4_f554_11e9_bfbb_3cfdfe553c98row3_col4\" class=\"data row3 col4\" >ReLU()</td>\n",
       "                        <td id=\"T_6ecdf0d4_f554_11e9_bfbb_3cfdfe553c98row3_col5\" class=\"data row3 col5\" >Conv2d(64, 64, kernel_size=(3, 3), stride=(1, 1), padding=(1, 1))</td>\n",
       "                        <td id=\"T_6ecdf0d4_f554_11e9_bfbb_3cfdfe553c98row3_col6\" class=\"data row3 col6\" >BatchNorm2d(64, eps=1e-05, momentum=0.1, affine=True, track_running_stats=True)</td>\n",
       "                        <td id=\"T_6ecdf0d4_f554_11e9_bfbb_3cfdfe553c98row3_col7\" class=\"data row3 col7\" >ReLU()</td>\n",
       "                        <td id=\"T_6ecdf0d4_f554_11e9_bfbb_3cfdfe553c98row3_col8\" class=\"data row3 col8\" >Conv2d(64, 64, kernel_size=(3, 3), stride=(1, 1), padding=(1, 1))</td>\n",
       "                        <td id=\"T_6ecdf0d4_f554_11e9_bfbb_3cfdfe553c98row3_col9\" class=\"data row3 col9\" >ReLU()</td>\n",
       "                        <td id=\"T_6ecdf0d4_f554_11e9_bfbb_3cfdfe553c98row3_col10\" class=\"data row3 col10\" >Conv2d(64, 64, kernel_size=(1, 1), stride=(1, 1))</td>\n",
       "                        <td id=\"T_6ecdf0d4_f554_11e9_bfbb_3cfdfe553c98row3_col11\" class=\"data row3 col11\" >TorchAdd()</td>\n",
       "                        <td id=\"T_6ecdf0d4_f554_11e9_bfbb_3cfdfe553c98row3_col12\" class=\"data row3 col12\" >BatchNorm2d(64, eps=1e-05, momentum=0.1, affine=True, track_running_stats=True)</td>\n",
       "                        <td id=\"T_6ecdf0d4_f554_11e9_bfbb_3cfdfe553c98row3_col13\" class=\"data row3 col13\" >ReLU()</td>\n",
       "                        <td id=\"T_6ecdf0d4_f554_11e9_bfbb_3cfdfe553c98row3_col14\" class=\"data row3 col14\" >Conv2d(64, 64, kernel_size=(3, 3), stride=(1, 1), padding=(1, 1))</td>\n",
       "                        <td id=\"T_6ecdf0d4_f554_11e9_bfbb_3cfdfe553c98row3_col15\" class=\"data row3 col15\" >BatchNorm2d(64, eps=1e-05, momentum=0.1, affine=True, track_running_stats=True)</td>\n",
       "                        <td id=\"T_6ecdf0d4_f554_11e9_bfbb_3cfdfe553c98row3_col16\" class=\"data row3 col16\" >ReLU()</td>\n",
       "                        <td id=\"T_6ecdf0d4_f554_11e9_bfbb_3cfdfe553c98row3_col17\" class=\"data row3 col17\" >Conv2d(64, 64, kernel_size=(3, 3), stride=(1, 1), padding=(1, 1))</td>\n",
       "                        <td id=\"T_6ecdf0d4_f554_11e9_bfbb_3cfdfe553c98row3_col18\" class=\"data row3 col18\" >ReLU()</td>\n",
       "                        <td id=\"T_6ecdf0d4_f554_11e9_bfbb_3cfdfe553c98row3_col19\" class=\"data row3 col19\" >Conv2d(64, 64, kernel_size=(1, 1), stride=(1, 1))</td>\n",
       "                        <td id=\"T_6ecdf0d4_f554_11e9_bfbb_3cfdfe553c98row3_col20\" class=\"data row3 col20\" >TorchAdd()</td>\n",
       "                        <td id=\"T_6ecdf0d4_f554_11e9_bfbb_3cfdfe553c98row3_col21\" class=\"data row3 col21\" >BatchNorm2d(64, eps=1e-05, momentum=0.1, affine=True, track_running_stats=True)</td>\n",
       "                        <td id=\"T_6ecdf0d4_f554_11e9_bfbb_3cfdfe553c98row3_col22\" class=\"data row3 col22\" >ReLU()</td>\n",
       "                        <td id=\"T_6ecdf0d4_f554_11e9_bfbb_3cfdfe553c98row3_col23\" class=\"data row3 col23\" >Conv2d(64, 128, kernel_size=(3, 3), stride=(2, 2), padding=(1, 1))</td>\n",
       "                        <td id=\"T_6ecdf0d4_f554_11e9_bfbb_3cfdfe553c98row3_col24\" class=\"data row3 col24\" >BatchNorm2d(128, eps=1e-05, momentum=0.1, affine=True, track_running_stats=True)</td>\n",
       "                        <td id=\"T_6ecdf0d4_f554_11e9_bfbb_3cfdfe553c98row3_col25\" class=\"data row3 col25\" >ReLU()</td>\n",
       "                        <td id=\"T_6ecdf0d4_f554_11e9_bfbb_3cfdfe553c98row3_col26\" class=\"data row3 col26\" >Conv2d(128, 128, kernel_size=(3, 3), stride=(1, 1), padding=(1, 1))</td>\n",
       "                        <td id=\"T_6ecdf0d4_f554_11e9_bfbb_3cfdfe553c98row3_col27\" class=\"data row3 col27\" >ReLU()</td>\n",
       "                        <td id=\"T_6ecdf0d4_f554_11e9_bfbb_3cfdfe553c98row3_col28\" class=\"data row3 col28\" >Conv2d(64, 128, kernel_size=(1, 1), stride=(2, 2))</td>\n",
       "                        <td id=\"T_6ecdf0d4_f554_11e9_bfbb_3cfdfe553c98row3_col29\" class=\"data row3 col29\" >TorchAdd()</td>\n",
       "                        <td id=\"T_6ecdf0d4_f554_11e9_bfbb_3cfdfe553c98row3_col30\" class=\"data row3 col30\" >BatchNorm2d(128, eps=1e-05, momentum=0.1, affine=True, track_running_stats=True)</td>\n",
       "                        <td id=\"T_6ecdf0d4_f554_11e9_bfbb_3cfdfe553c98row3_col31\" class=\"data row3 col31\" >ReLU()</td>\n",
       "                        <td id=\"T_6ecdf0d4_f554_11e9_bfbb_3cfdfe553c98row3_col32\" class=\"data row3 col32\" >Conv2d(128, 128, kernel_size=(3, 3), stride=(1, 1), padding=(1, 1))</td>\n",
       "                        <td id=\"T_6ecdf0d4_f554_11e9_bfbb_3cfdfe553c98row3_col33\" class=\"data row3 col33\" >BatchNorm2d(128, eps=1e-05, momentum=0.1, affine=True, track_running_stats=True)</td>\n",
       "                        <td id=\"T_6ecdf0d4_f554_11e9_bfbb_3cfdfe553c98row3_col34\" class=\"data row3 col34\" >ReLU()</td>\n",
       "                        <td id=\"T_6ecdf0d4_f554_11e9_bfbb_3cfdfe553c98row3_col35\" class=\"data row3 col35\" >Conv2d(128, 128, kernel_size=(3, 3), stride=(1, 1), padding=(1, 1))</td>\n",
       "                        <td id=\"T_6ecdf0d4_f554_11e9_bfbb_3cfdfe553c98row3_col36\" class=\"data row3 col36\" >ReLU()</td>\n",
       "                        <td id=\"T_6ecdf0d4_f554_11e9_bfbb_3cfdfe553c98row3_col37\" class=\"data row3 col37\" >Conv2d(128, 128, kernel_size=(1, 1), stride=(1, 1))</td>\n",
       "                        <td id=\"T_6ecdf0d4_f554_11e9_bfbb_3cfdfe553c98row3_col38\" class=\"data row3 col38\" >TorchAdd()</td>\n",
       "                        <td id=\"T_6ecdf0d4_f554_11e9_bfbb_3cfdfe553c98row3_col39\" class=\"data row3 col39\" >BatchNorm2d(128, eps=1e-05, momentum=0.1, affine=True, track_running_stats=True)</td>\n",
       "                        <td id=\"T_6ecdf0d4_f554_11e9_bfbb_3cfdfe553c98row3_col40\" class=\"data row3 col40\" >ReLU()</td>\n",
       "                        <td id=\"T_6ecdf0d4_f554_11e9_bfbb_3cfdfe553c98row3_col41\" class=\"data row3 col41\" >Conv2d(128, 256, kernel_size=(3, 3), stride=(2, 2), padding=(1, 1))</td>\n",
       "                        <td id=\"T_6ecdf0d4_f554_11e9_bfbb_3cfdfe553c98row3_col42\" class=\"data row3 col42\" >BatchNorm2d(256, eps=1e-05, momentum=0.1, affine=True, track_running_stats=True)</td>\n",
       "                        <td id=\"T_6ecdf0d4_f554_11e9_bfbb_3cfdfe553c98row3_col43\" class=\"data row3 col43\" >ReLU()</td>\n",
       "                        <td id=\"T_6ecdf0d4_f554_11e9_bfbb_3cfdfe553c98row3_col44\" class=\"data row3 col44\" >Conv2d(256, 256, kernel_size=(3, 3), stride=(1, 1), padding=(1, 1))</td>\n",
       "                        <td id=\"T_6ecdf0d4_f554_11e9_bfbb_3cfdfe553c98row3_col45\" class=\"data row3 col45\" >ReLU()</td>\n",
       "                        <td id=\"T_6ecdf0d4_f554_11e9_bfbb_3cfdfe553c98row3_col46\" class=\"data row3 col46\" >Conv2d(128, 256, kernel_size=(1, 1), stride=(2, 2))</td>\n",
       "                        <td id=\"T_6ecdf0d4_f554_11e9_bfbb_3cfdfe553c98row3_col47\" class=\"data row3 col47\" >TorchAdd()</td>\n",
       "                        <td id=\"T_6ecdf0d4_f554_11e9_bfbb_3cfdfe553c98row3_col48\" class=\"data row3 col48\" >BatchNorm2d(256, eps=1e-05, momentum=0.1, affine=True, track_running_stats=True)</td>\n",
       "                        <td id=\"T_6ecdf0d4_f554_11e9_bfbb_3cfdfe553c98row3_col49\" class=\"data row3 col49\" >ReLU()</td>\n",
       "                        <td id=\"T_6ecdf0d4_f554_11e9_bfbb_3cfdfe553c98row3_col50\" class=\"data row3 col50\" >Conv2d(256, 256, kernel_size=(3, 3), stride=(1, 1), padding=(1, 1))</td>\n",
       "                        <td id=\"T_6ecdf0d4_f554_11e9_bfbb_3cfdfe553c98row3_col51\" class=\"data row3 col51\" >BatchNorm2d(256, eps=1e-05, momentum=0.1, affine=True, track_running_stats=True)</td>\n",
       "                        <td id=\"T_6ecdf0d4_f554_11e9_bfbb_3cfdfe553c98row3_col52\" class=\"data row3 col52\" >ReLU()</td>\n",
       "                        <td id=\"T_6ecdf0d4_f554_11e9_bfbb_3cfdfe553c98row3_col53\" class=\"data row3 col53\" >Conv2d(256, 256, kernel_size=(3, 3), stride=(1, 1), padding=(1, 1))</td>\n",
       "                        <td id=\"T_6ecdf0d4_f554_11e9_bfbb_3cfdfe553c98row3_col54\" class=\"data row3 col54\" >ReLU()</td>\n",
       "                        <td id=\"T_6ecdf0d4_f554_11e9_bfbb_3cfdfe553c98row3_col55\" class=\"data row3 col55\" >Conv2d(256, 256, kernel_size=(1, 1), stride=(1, 1))</td>\n",
       "                        <td id=\"T_6ecdf0d4_f554_11e9_bfbb_3cfdfe553c98row3_col56\" class=\"data row3 col56\" >TorchAdd()</td>\n",
       "                        <td id=\"T_6ecdf0d4_f554_11e9_bfbb_3cfdfe553c98row3_col57\" class=\"data row3 col57\" >BatchNorm2d(256, eps=1e-05, momentum=0.1, affine=True, track_running_stats=True)</td>\n",
       "                        <td id=\"T_6ecdf0d4_f554_11e9_bfbb_3cfdfe553c98row3_col58\" class=\"data row3 col58\" >ReLU()</td>\n",
       "                        <td id=\"T_6ecdf0d4_f554_11e9_bfbb_3cfdfe553c98row3_col59\" class=\"data row3 col59\" >Conv2d(256, 512, kernel_size=(3, 3), stride=(2, 2), padding=(1, 1))</td>\n",
       "                        <td id=\"T_6ecdf0d4_f554_11e9_bfbb_3cfdfe553c98row3_col60\" class=\"data row3 col60\" >BatchNorm2d(512, eps=1e-05, momentum=0.1, affine=True, track_running_stats=True)</td>\n",
       "                        <td id=\"T_6ecdf0d4_f554_11e9_bfbb_3cfdfe553c98row3_col61\" class=\"data row3 col61\" >ReLU()</td>\n",
       "                        <td id=\"T_6ecdf0d4_f554_11e9_bfbb_3cfdfe553c98row3_col62\" class=\"data row3 col62\" >Conv2d(512, 512, kernel_size=(3, 3), stride=(1, 1), padding=(1, 1))</td>\n",
       "                        <td id=\"T_6ecdf0d4_f554_11e9_bfbb_3cfdfe553c98row3_col63\" class=\"data row3 col63\" >ReLU()</td>\n",
       "                        <td id=\"T_6ecdf0d4_f554_11e9_bfbb_3cfdfe553c98row3_col64\" class=\"data row3 col64\" >Conv2d(256, 512, kernel_size=(1, 1), stride=(2, 2))</td>\n",
       "                        <td id=\"T_6ecdf0d4_f554_11e9_bfbb_3cfdfe553c98row3_col65\" class=\"data row3 col65\" >TorchAdd()</td>\n",
       "                        <td id=\"T_6ecdf0d4_f554_11e9_bfbb_3cfdfe553c98row3_col66\" class=\"data row3 col66\" >BatchNorm2d(512, eps=1e-05, momentum=0.1, affine=True, track_running_stats=True)</td>\n",
       "                        <td id=\"T_6ecdf0d4_f554_11e9_bfbb_3cfdfe553c98row3_col67\" class=\"data row3 col67\" >ReLU()</td>\n",
       "                        <td id=\"T_6ecdf0d4_f554_11e9_bfbb_3cfdfe553c98row3_col68\" class=\"data row3 col68\" >Conv2d(512, 512, kernel_size=(3, 3), stride=(1, 1), padding=(1, 1))</td>\n",
       "                        <td id=\"T_6ecdf0d4_f554_11e9_bfbb_3cfdfe553c98row3_col69\" class=\"data row3 col69\" >BatchNorm2d(512, eps=1e-05, momentum=0.1, affine=True, track_running_stats=True)</td>\n",
       "                        <td id=\"T_6ecdf0d4_f554_11e9_bfbb_3cfdfe553c98row3_col70\" class=\"data row3 col70\" >ReLU()</td>\n",
       "                        <td id=\"T_6ecdf0d4_f554_11e9_bfbb_3cfdfe553c98row3_col71\" class=\"data row3 col71\" >Conv2d(512, 512, kernel_size=(3, 3), stride=(1, 1), padding=(1, 1))</td>\n",
       "                        <td id=\"T_6ecdf0d4_f554_11e9_bfbb_3cfdfe553c98row3_col72\" class=\"data row3 col72\" >ReLU()</td>\n",
       "                        <td id=\"T_6ecdf0d4_f554_11e9_bfbb_3cfdfe553c98row3_col73\" class=\"data row3 col73\" >Conv2d(512, 512, kernel_size=(1, 1), stride=(1, 1))</td>\n",
       "                        <td id=\"T_6ecdf0d4_f554_11e9_bfbb_3cfdfe553c98row3_col74\" class=\"data row3 col74\" >TorchAdd()</td>\n",
       "                        <td id=\"T_6ecdf0d4_f554_11e9_bfbb_3cfdfe553c98row3_col75\" class=\"data row3 col75\" >GlobalAvgPool2d()</td>\n",
       "                        <td id=\"T_6ecdf0d4_f554_11e9_bfbb_3cfdfe553c98row3_col76\" class=\"data row3 col76\" >Linear(in_features=512, out_features=10, bias=True)</td>\n",
       "            </tr>\n",
       "            <tr>\n",
       "                                <td id=\"T_6ecdf0d4_f554_11e9_bfbb_3cfdfe553c98row4_col0\" class=\"data row4 col0\" >12.8</td>\n",
       "                        <td id=\"T_6ecdf0d4_f554_11e9_bfbb_3cfdfe553c98row4_col1\" class=\"data row4 col1\" >Conv2d(1, 64, kernel_size=(3, 3), stride=(1, 1), padding=(1, 1))</td>\n",
       "                        <td id=\"T_6ecdf0d4_f554_11e9_bfbb_3cfdfe553c98row4_col2\" class=\"data row4 col2\" >BatchNorm2d(64, eps=1e-05, momentum=0.1, affine=True, track_running_stats=True)</td>\n",
       "                        <td id=\"T_6ecdf0d4_f554_11e9_bfbb_3cfdfe553c98row4_col3\" class=\"data row4 col3\" >BatchNorm2d(64, eps=1e-05, momentum=0.1, affine=True, track_running_stats=True)</td>\n",
       "                        <td id=\"T_6ecdf0d4_f554_11e9_bfbb_3cfdfe553c98row4_col4\" class=\"data row4 col4\" >ReLU()</td>\n",
       "                        <td id=\"T_6ecdf0d4_f554_11e9_bfbb_3cfdfe553c98row4_col5\" class=\"data row4 col5\" >Conv2d(64, 64, kernel_size=(3, 3), stride=(1, 1), padding=(1, 1))</td>\n",
       "                        <td id=\"T_6ecdf0d4_f554_11e9_bfbb_3cfdfe553c98row4_col6\" class=\"data row4 col6\" >BatchNorm2d(64, eps=1e-05, momentum=0.1, affine=True, track_running_stats=True)</td>\n",
       "                        <td id=\"T_6ecdf0d4_f554_11e9_bfbb_3cfdfe553c98row4_col7\" class=\"data row4 col7\" >ReLU()</td>\n",
       "                        <td id=\"T_6ecdf0d4_f554_11e9_bfbb_3cfdfe553c98row4_col8\" class=\"data row4 col8\" >Conv2d(64, 64, kernel_size=(3, 3), stride=(1, 1), padding=(1, 1))</td>\n",
       "                        <td id=\"T_6ecdf0d4_f554_11e9_bfbb_3cfdfe553c98row4_col9\" class=\"data row4 col9\" >ReLU()</td>\n",
       "                        <td id=\"T_6ecdf0d4_f554_11e9_bfbb_3cfdfe553c98row4_col10\" class=\"data row4 col10\" >Conv2d(64, 64, kernel_size=(1, 1), stride=(1, 1))</td>\n",
       "                        <td id=\"T_6ecdf0d4_f554_11e9_bfbb_3cfdfe553c98row4_col11\" class=\"data row4 col11\" >TorchAdd()</td>\n",
       "                        <td id=\"T_6ecdf0d4_f554_11e9_bfbb_3cfdfe553c98row4_col12\" class=\"data row4 col12\" >BatchNorm2d(64, eps=1e-05, momentum=0.1, affine=True, track_running_stats=True)</td>\n",
       "                        <td id=\"T_6ecdf0d4_f554_11e9_bfbb_3cfdfe553c98row4_col13\" class=\"data row4 col13\" >ReLU()</td>\n",
       "                        <td id=\"T_6ecdf0d4_f554_11e9_bfbb_3cfdfe553c98row4_col14\" class=\"data row4 col14\" >Conv2d(64, 64, kernel_size=(3, 3), stride=(1, 1), padding=(1, 1))</td>\n",
       "                        <td id=\"T_6ecdf0d4_f554_11e9_bfbb_3cfdfe553c98row4_col15\" class=\"data row4 col15\" >BatchNorm2d(64, eps=1e-05, momentum=0.1, affine=True, track_running_stats=True)</td>\n",
       "                        <td id=\"T_6ecdf0d4_f554_11e9_bfbb_3cfdfe553c98row4_col16\" class=\"data row4 col16\" >ReLU()</td>\n",
       "                        <td id=\"T_6ecdf0d4_f554_11e9_bfbb_3cfdfe553c98row4_col17\" class=\"data row4 col17\" >Conv2d(64, 64, kernel_size=(3, 3), stride=(1, 1), padding=(1, 1))</td>\n",
       "                        <td id=\"T_6ecdf0d4_f554_11e9_bfbb_3cfdfe553c98row4_col18\" class=\"data row4 col18\" >ReLU()</td>\n",
       "                        <td id=\"T_6ecdf0d4_f554_11e9_bfbb_3cfdfe553c98row4_col19\" class=\"data row4 col19\" >Conv2d(64, 64, kernel_size=(1, 1), stride=(1, 1))</td>\n",
       "                        <td id=\"T_6ecdf0d4_f554_11e9_bfbb_3cfdfe553c98row4_col20\" class=\"data row4 col20\" >TorchAdd()</td>\n",
       "                        <td id=\"T_6ecdf0d4_f554_11e9_bfbb_3cfdfe553c98row4_col21\" class=\"data row4 col21\" >BatchNorm2d(64, eps=1e-05, momentum=0.1, affine=True, track_running_stats=True)</td>\n",
       "                        <td id=\"T_6ecdf0d4_f554_11e9_bfbb_3cfdfe553c98row4_col22\" class=\"data row4 col22\" >ReLU()</td>\n",
       "                        <td id=\"T_6ecdf0d4_f554_11e9_bfbb_3cfdfe553c98row4_col23\" class=\"data row4 col23\" >Conv2d(64, 128, kernel_size=(3, 3), stride=(2, 2), padding=(1, 1))</td>\n",
       "                        <td id=\"T_6ecdf0d4_f554_11e9_bfbb_3cfdfe553c98row4_col24\" class=\"data row4 col24\" >BatchNorm2d(128, eps=1e-05, momentum=0.1, affine=True, track_running_stats=True)</td>\n",
       "                        <td id=\"T_6ecdf0d4_f554_11e9_bfbb_3cfdfe553c98row4_col25\" class=\"data row4 col25\" >ReLU()</td>\n",
       "                        <td id=\"T_6ecdf0d4_f554_11e9_bfbb_3cfdfe553c98row4_col26\" class=\"data row4 col26\" >Conv2d(128, 128, kernel_size=(3, 3), stride=(1, 1), padding=(1, 1))</td>\n",
       "                        <td id=\"T_6ecdf0d4_f554_11e9_bfbb_3cfdfe553c98row4_col27\" class=\"data row4 col27\" >ReLU()</td>\n",
       "                        <td id=\"T_6ecdf0d4_f554_11e9_bfbb_3cfdfe553c98row4_col28\" class=\"data row4 col28\" >Conv2d(64, 128, kernel_size=(1, 1), stride=(2, 2))</td>\n",
       "                        <td id=\"T_6ecdf0d4_f554_11e9_bfbb_3cfdfe553c98row4_col29\" class=\"data row4 col29\" >TorchAdd()</td>\n",
       "                        <td id=\"T_6ecdf0d4_f554_11e9_bfbb_3cfdfe553c98row4_col30\" class=\"data row4 col30\" >BatchNorm2d(128, eps=1e-05, momentum=0.1, affine=True, track_running_stats=True)</td>\n",
       "                        <td id=\"T_6ecdf0d4_f554_11e9_bfbb_3cfdfe553c98row4_col31\" class=\"data row4 col31\" >ReLU()</td>\n",
       "                        <td id=\"T_6ecdf0d4_f554_11e9_bfbb_3cfdfe553c98row4_col32\" class=\"data row4 col32\" >Conv2d(128, 128, kernel_size=(3, 3), stride=(1, 1), padding=(1, 1))</td>\n",
       "                        <td id=\"T_6ecdf0d4_f554_11e9_bfbb_3cfdfe553c98row4_col33\" class=\"data row4 col33\" >BatchNorm2d(128, eps=1e-05, momentum=0.1, affine=True, track_running_stats=True)</td>\n",
       "                        <td id=\"T_6ecdf0d4_f554_11e9_bfbb_3cfdfe553c98row4_col34\" class=\"data row4 col34\" >ReLU()</td>\n",
       "                        <td id=\"T_6ecdf0d4_f554_11e9_bfbb_3cfdfe553c98row4_col35\" class=\"data row4 col35\" >Conv2d(128, 128, kernel_size=(3, 3), stride=(1, 1), padding=(1, 1))</td>\n",
       "                        <td id=\"T_6ecdf0d4_f554_11e9_bfbb_3cfdfe553c98row4_col36\" class=\"data row4 col36\" >ReLU()</td>\n",
       "                        <td id=\"T_6ecdf0d4_f554_11e9_bfbb_3cfdfe553c98row4_col37\" class=\"data row4 col37\" >Conv2d(128, 128, kernel_size=(1, 1), stride=(1, 1))</td>\n",
       "                        <td id=\"T_6ecdf0d4_f554_11e9_bfbb_3cfdfe553c98row4_col38\" class=\"data row4 col38\" >TorchAdd()</td>\n",
       "                        <td id=\"T_6ecdf0d4_f554_11e9_bfbb_3cfdfe553c98row4_col39\" class=\"data row4 col39\" >BatchNorm2d(128, eps=1e-05, momentum=0.1, affine=True, track_running_stats=True)</td>\n",
       "                        <td id=\"T_6ecdf0d4_f554_11e9_bfbb_3cfdfe553c98row4_col40\" class=\"data row4 col40\" >ReLU()</td>\n",
       "                        <td id=\"T_6ecdf0d4_f554_11e9_bfbb_3cfdfe553c98row4_col41\" class=\"data row4 col41\" >Conv2d(128, 256, kernel_size=(3, 3), stride=(2, 2), padding=(1, 1))</td>\n",
       "                        <td id=\"T_6ecdf0d4_f554_11e9_bfbb_3cfdfe553c98row4_col42\" class=\"data row4 col42\" >BatchNorm2d(256, eps=1e-05, momentum=0.1, affine=True, track_running_stats=True)</td>\n",
       "                        <td id=\"T_6ecdf0d4_f554_11e9_bfbb_3cfdfe553c98row4_col43\" class=\"data row4 col43\" >ReLU()</td>\n",
       "                        <td id=\"T_6ecdf0d4_f554_11e9_bfbb_3cfdfe553c98row4_col44\" class=\"data row4 col44\" >Conv2d(256, 256, kernel_size=(3, 3), stride=(1, 1), padding=(1, 1))</td>\n",
       "                        <td id=\"T_6ecdf0d4_f554_11e9_bfbb_3cfdfe553c98row4_col45\" class=\"data row4 col45\" >ReLU()</td>\n",
       "                        <td id=\"T_6ecdf0d4_f554_11e9_bfbb_3cfdfe553c98row4_col46\" class=\"data row4 col46\" >Conv2d(128, 256, kernel_size=(1, 1), stride=(2, 2))</td>\n",
       "                        <td id=\"T_6ecdf0d4_f554_11e9_bfbb_3cfdfe553c98row4_col47\" class=\"data row4 col47\" >TorchAdd()</td>\n",
       "                        <td id=\"T_6ecdf0d4_f554_11e9_bfbb_3cfdfe553c98row4_col48\" class=\"data row4 col48\" >BatchNorm2d(256, eps=1e-05, momentum=0.1, affine=True, track_running_stats=True)</td>\n",
       "                        <td id=\"T_6ecdf0d4_f554_11e9_bfbb_3cfdfe553c98row4_col49\" class=\"data row4 col49\" >ReLU()</td>\n",
       "                        <td id=\"T_6ecdf0d4_f554_11e9_bfbb_3cfdfe553c98row4_col50\" class=\"data row4 col50\" >Conv2d(256, 256, kernel_size=(3, 3), stride=(1, 1), padding=(1, 1))</td>\n",
       "                        <td id=\"T_6ecdf0d4_f554_11e9_bfbb_3cfdfe553c98row4_col51\" class=\"data row4 col51\" >BatchNorm2d(256, eps=1e-05, momentum=0.1, affine=True, track_running_stats=True)</td>\n",
       "                        <td id=\"T_6ecdf0d4_f554_11e9_bfbb_3cfdfe553c98row4_col52\" class=\"data row4 col52\" >ReLU()</td>\n",
       "                        <td id=\"T_6ecdf0d4_f554_11e9_bfbb_3cfdfe553c98row4_col53\" class=\"data row4 col53\" >Conv2d(256, 256, kernel_size=(3, 3), stride=(1, 1), padding=(1, 1))</td>\n",
       "                        <td id=\"T_6ecdf0d4_f554_11e9_bfbb_3cfdfe553c98row4_col54\" class=\"data row4 col54\" >ReLU()</td>\n",
       "                        <td id=\"T_6ecdf0d4_f554_11e9_bfbb_3cfdfe553c98row4_col55\" class=\"data row4 col55\" >Conv2d(256, 256, kernel_size=(1, 1), stride=(1, 1))</td>\n",
       "                        <td id=\"T_6ecdf0d4_f554_11e9_bfbb_3cfdfe553c98row4_col56\" class=\"data row4 col56\" >TorchAdd()</td>\n",
       "                        <td id=\"T_6ecdf0d4_f554_11e9_bfbb_3cfdfe553c98row4_col57\" class=\"data row4 col57\" >BatchNorm2d(256, eps=1e-05, momentum=0.1, affine=True, track_running_stats=True)</td>\n",
       "                        <td id=\"T_6ecdf0d4_f554_11e9_bfbb_3cfdfe553c98row4_col58\" class=\"data row4 col58\" >ReLU()</td>\n",
       "                        <td id=\"T_6ecdf0d4_f554_11e9_bfbb_3cfdfe553c98row4_col59\" class=\"data row4 col59\" >Conv2d(256, 512, kernel_size=(3, 3), stride=(2, 2), padding=(1, 1))</td>\n",
       "                        <td id=\"T_6ecdf0d4_f554_11e9_bfbb_3cfdfe553c98row4_col60\" class=\"data row4 col60\" >BatchNorm2d(512, eps=1e-05, momentum=0.1, affine=True, track_running_stats=True)</td>\n",
       "                        <td id=\"T_6ecdf0d4_f554_11e9_bfbb_3cfdfe553c98row4_col61\" class=\"data row4 col61\" >ReLU()</td>\n",
       "                        <td id=\"T_6ecdf0d4_f554_11e9_bfbb_3cfdfe553c98row4_col62\" class=\"data row4 col62\" >Conv2d(512, 512, kernel_size=(3, 3), stride=(1, 1), padding=(1, 1))</td>\n",
       "                        <td id=\"T_6ecdf0d4_f554_11e9_bfbb_3cfdfe553c98row4_col63\" class=\"data row4 col63\" >ReLU()</td>\n",
       "                        <td id=\"T_6ecdf0d4_f554_11e9_bfbb_3cfdfe553c98row4_col64\" class=\"data row4 col64\" >Conv2d(256, 512, kernel_size=(1, 1), stride=(2, 2))</td>\n",
       "                        <td id=\"T_6ecdf0d4_f554_11e9_bfbb_3cfdfe553c98row4_col65\" class=\"data row4 col65\" >TorchAdd()</td>\n",
       "                        <td id=\"T_6ecdf0d4_f554_11e9_bfbb_3cfdfe553c98row4_col66\" class=\"data row4 col66\" >BatchNorm2d(512, eps=1e-05, momentum=0.1, affine=True, track_running_stats=True)</td>\n",
       "                        <td id=\"T_6ecdf0d4_f554_11e9_bfbb_3cfdfe553c98row4_col67\" class=\"data row4 col67\" >ReLU()</td>\n",
       "                        <td id=\"T_6ecdf0d4_f554_11e9_bfbb_3cfdfe553c98row4_col68\" class=\"data row4 col68\" >Conv2d(512, 512, kernel_size=(3, 3), stride=(1, 1), padding=(1, 1))</td>\n",
       "                        <td id=\"T_6ecdf0d4_f554_11e9_bfbb_3cfdfe553c98row4_col69\" class=\"data row4 col69\" >BatchNorm2d(512, eps=1e-05, momentum=0.1, affine=True, track_running_stats=True)</td>\n",
       "                        <td id=\"T_6ecdf0d4_f554_11e9_bfbb_3cfdfe553c98row4_col70\" class=\"data row4 col70\" >ReLU()</td>\n",
       "                        <td id=\"T_6ecdf0d4_f554_11e9_bfbb_3cfdfe553c98row4_col71\" class=\"data row4 col71\" >Conv2d(512, 512, kernel_size=(3, 3), stride=(1, 1), padding=(1, 1))</td>\n",
       "                        <td id=\"T_6ecdf0d4_f554_11e9_bfbb_3cfdfe553c98row4_col72\" class=\"data row4 col72\" >ReLU()</td>\n",
       "                        <td id=\"T_6ecdf0d4_f554_11e9_bfbb_3cfdfe553c98row4_col73\" class=\"data row4 col73\" >Conv2d(512, 512, kernel_size=(1, 1), stride=(1, 1))</td>\n",
       "                        <td id=\"T_6ecdf0d4_f554_11e9_bfbb_3cfdfe553c98row4_col74\" class=\"data row4 col74\" >TorchAdd()</td>\n",
       "                        <td id=\"T_6ecdf0d4_f554_11e9_bfbb_3cfdfe553c98row4_col75\" class=\"data row4 col75\" >GlobalAvgPool2d()</td>\n",
       "                        <td id=\"T_6ecdf0d4_f554_11e9_bfbb_3cfdfe553c98row4_col76\" class=\"data row4 col76\" >Linear(in_features=512, out_features=10, bias=True)</td>\n",
       "            </tr>\n",
       "            <tr>\n",
       "                                <td id=\"T_6ecdf0d4_f554_11e9_bfbb_3cfdfe553c98row5_col0\" class=\"data row5 col0\" >16</td>\n",
       "                        <td id=\"T_6ecdf0d4_f554_11e9_bfbb_3cfdfe553c98row5_col1\" class=\"data row5 col1\" >ReLU()</td>\n",
       "                        <td id=\"T_6ecdf0d4_f554_11e9_bfbb_3cfdfe553c98row5_col2\" class=\"data row5 col2\" >BatchNorm2d(1, eps=1e-05, momentum=0.1, affine=True, track_running_stats=True)</td>\n",
       "                        <td id=\"T_6ecdf0d4_f554_11e9_bfbb_3cfdfe553c98row5_col3\" class=\"data row5 col3\" >Conv2d(1, 64, kernel_size=(3, 3), stride=(1, 1), padding=(1, 1))</td>\n",
       "                        <td id=\"T_6ecdf0d4_f554_11e9_bfbb_3cfdfe553c98row5_col4\" class=\"data row5 col4\" >MaxPool2d(kernel_size=2, stride=2, padding=0, dilation=1, ceil_mode=False)</td>\n",
       "                        <td id=\"T_6ecdf0d4_f554_11e9_bfbb_3cfdfe553c98row5_col5\" class=\"data row5 col5\" >ReLU()</td>\n",
       "                        <td id=\"T_6ecdf0d4_f554_11e9_bfbb_3cfdfe553c98row5_col6\" class=\"data row5 col6\" >BatchNorm2d(64, eps=1e-05, momentum=0.1, affine=True, track_running_stats=True)</td>\n",
       "                        <td id=\"T_6ecdf0d4_f554_11e9_bfbb_3cfdfe553c98row5_col7\" class=\"data row5 col7\" >Conv2d(64, 64, kernel_size=(3, 3), stride=(1, 1), padding=(1, 1))</td>\n",
       "                        <td id=\"T_6ecdf0d4_f554_11e9_bfbb_3cfdfe553c98row5_col8\" class=\"data row5 col8\" >MaxPool2d(kernel_size=2, stride=2, padding=0, dilation=1, ceil_mode=False)</td>\n",
       "                        <td id=\"T_6ecdf0d4_f554_11e9_bfbb_3cfdfe553c98row5_col9\" class=\"data row5 col9\" >ReLU()</td>\n",
       "                        <td id=\"T_6ecdf0d4_f554_11e9_bfbb_3cfdfe553c98row5_col10\" class=\"data row5 col10\" >BatchNorm2d(64, eps=1e-05, momentum=0.1, affine=True, track_running_stats=True)</td>\n",
       "                        <td id=\"T_6ecdf0d4_f554_11e9_bfbb_3cfdfe553c98row5_col11\" class=\"data row5 col11\" >Conv2d(64, 64, kernel_size=(3, 3), stride=(1, 1), padding=(1, 1))</td>\n",
       "                        <td id=\"T_6ecdf0d4_f554_11e9_bfbb_3cfdfe553c98row5_col12\" class=\"data row5 col12\" >MaxPool2d(kernel_size=2, stride=2, padding=0, dilation=1, ceil_mode=False)</td>\n",
       "                        <td id=\"T_6ecdf0d4_f554_11e9_bfbb_3cfdfe553c98row5_col13\" class=\"data row5 col13\" >GlobalAvgPool2d()</td>\n",
       "                        <td id=\"T_6ecdf0d4_f554_11e9_bfbb_3cfdfe553c98row5_col14\" class=\"data row5 col14\" >Dropout2d(p=0.25)</td>\n",
       "                        <td id=\"T_6ecdf0d4_f554_11e9_bfbb_3cfdfe553c98row5_col15\" class=\"data row5 col15\" >Linear(in_features=64, out_features=64, bias=True)</td>\n",
       "                        <td id=\"T_6ecdf0d4_f554_11e9_bfbb_3cfdfe553c98row5_col16\" class=\"data row5 col16\" >ReLU()</td>\n",
       "                        <td id=\"T_6ecdf0d4_f554_11e9_bfbb_3cfdfe553c98row5_col17\" class=\"data row5 col17\" >Linear(in_features=64, out_features=10, bias=True)</td>\n",
       "                        <td id=\"T_6ecdf0d4_f554_11e9_bfbb_3cfdfe553c98row5_col18\" class=\"data row5 col18\" >ReLU()</td>\n",
       "                        <td id=\"T_6ecdf0d4_f554_11e9_bfbb_3cfdfe553c98row5_col19\" class=\"data row5 col19\" >Conv2d(64, 64, kernel_size=(1, 1), stride=(1, 1))</td>\n",
       "                        <td id=\"T_6ecdf0d4_f554_11e9_bfbb_3cfdfe553c98row5_col20\" class=\"data row5 col20\" >TorchAdd()</td>\n",
       "                        <td id=\"T_6ecdf0d4_f554_11e9_bfbb_3cfdfe553c98row5_col21\" class=\"data row5 col21\" >nan</td>\n",
       "                        <td id=\"T_6ecdf0d4_f554_11e9_bfbb_3cfdfe553c98row5_col22\" class=\"data row5 col22\" >nan</td>\n",
       "                        <td id=\"T_6ecdf0d4_f554_11e9_bfbb_3cfdfe553c98row5_col23\" class=\"data row5 col23\" >nan</td>\n",
       "                        <td id=\"T_6ecdf0d4_f554_11e9_bfbb_3cfdfe553c98row5_col24\" class=\"data row5 col24\" >nan</td>\n",
       "                        <td id=\"T_6ecdf0d4_f554_11e9_bfbb_3cfdfe553c98row5_col25\" class=\"data row5 col25\" >nan</td>\n",
       "                        <td id=\"T_6ecdf0d4_f554_11e9_bfbb_3cfdfe553c98row5_col26\" class=\"data row5 col26\" >nan</td>\n",
       "                        <td id=\"T_6ecdf0d4_f554_11e9_bfbb_3cfdfe553c98row5_col27\" class=\"data row5 col27\" >nan</td>\n",
       "                        <td id=\"T_6ecdf0d4_f554_11e9_bfbb_3cfdfe553c98row5_col28\" class=\"data row5 col28\" >nan</td>\n",
       "                        <td id=\"T_6ecdf0d4_f554_11e9_bfbb_3cfdfe553c98row5_col29\" class=\"data row5 col29\" >nan</td>\n",
       "                        <td id=\"T_6ecdf0d4_f554_11e9_bfbb_3cfdfe553c98row5_col30\" class=\"data row5 col30\" >nan</td>\n",
       "                        <td id=\"T_6ecdf0d4_f554_11e9_bfbb_3cfdfe553c98row5_col31\" class=\"data row5 col31\" >nan</td>\n",
       "                        <td id=\"T_6ecdf0d4_f554_11e9_bfbb_3cfdfe553c98row5_col32\" class=\"data row5 col32\" >nan</td>\n",
       "                        <td id=\"T_6ecdf0d4_f554_11e9_bfbb_3cfdfe553c98row5_col33\" class=\"data row5 col33\" >nan</td>\n",
       "                        <td id=\"T_6ecdf0d4_f554_11e9_bfbb_3cfdfe553c98row5_col34\" class=\"data row5 col34\" >nan</td>\n",
       "                        <td id=\"T_6ecdf0d4_f554_11e9_bfbb_3cfdfe553c98row5_col35\" class=\"data row5 col35\" >nan</td>\n",
       "                        <td id=\"T_6ecdf0d4_f554_11e9_bfbb_3cfdfe553c98row5_col36\" class=\"data row5 col36\" >nan</td>\n",
       "                        <td id=\"T_6ecdf0d4_f554_11e9_bfbb_3cfdfe553c98row5_col37\" class=\"data row5 col37\" >nan</td>\n",
       "                        <td id=\"T_6ecdf0d4_f554_11e9_bfbb_3cfdfe553c98row5_col38\" class=\"data row5 col38\" >nan</td>\n",
       "                        <td id=\"T_6ecdf0d4_f554_11e9_bfbb_3cfdfe553c98row5_col39\" class=\"data row5 col39\" >nan</td>\n",
       "                        <td id=\"T_6ecdf0d4_f554_11e9_bfbb_3cfdfe553c98row5_col40\" class=\"data row5 col40\" >nan</td>\n",
       "                        <td id=\"T_6ecdf0d4_f554_11e9_bfbb_3cfdfe553c98row5_col41\" class=\"data row5 col41\" >nan</td>\n",
       "                        <td id=\"T_6ecdf0d4_f554_11e9_bfbb_3cfdfe553c98row5_col42\" class=\"data row5 col42\" >nan</td>\n",
       "                        <td id=\"T_6ecdf0d4_f554_11e9_bfbb_3cfdfe553c98row5_col43\" class=\"data row5 col43\" >nan</td>\n",
       "                        <td id=\"T_6ecdf0d4_f554_11e9_bfbb_3cfdfe553c98row5_col44\" class=\"data row5 col44\" >nan</td>\n",
       "                        <td id=\"T_6ecdf0d4_f554_11e9_bfbb_3cfdfe553c98row5_col45\" class=\"data row5 col45\" >nan</td>\n",
       "                        <td id=\"T_6ecdf0d4_f554_11e9_bfbb_3cfdfe553c98row5_col46\" class=\"data row5 col46\" >nan</td>\n",
       "                        <td id=\"T_6ecdf0d4_f554_11e9_bfbb_3cfdfe553c98row5_col47\" class=\"data row5 col47\" >nan</td>\n",
       "                        <td id=\"T_6ecdf0d4_f554_11e9_bfbb_3cfdfe553c98row5_col48\" class=\"data row5 col48\" >nan</td>\n",
       "                        <td id=\"T_6ecdf0d4_f554_11e9_bfbb_3cfdfe553c98row5_col49\" class=\"data row5 col49\" >nan</td>\n",
       "                        <td id=\"T_6ecdf0d4_f554_11e9_bfbb_3cfdfe553c98row5_col50\" class=\"data row5 col50\" >nan</td>\n",
       "                        <td id=\"T_6ecdf0d4_f554_11e9_bfbb_3cfdfe553c98row5_col51\" class=\"data row5 col51\" >nan</td>\n",
       "                        <td id=\"T_6ecdf0d4_f554_11e9_bfbb_3cfdfe553c98row5_col52\" class=\"data row5 col52\" >nan</td>\n",
       "                        <td id=\"T_6ecdf0d4_f554_11e9_bfbb_3cfdfe553c98row5_col53\" class=\"data row5 col53\" >nan</td>\n",
       "                        <td id=\"T_6ecdf0d4_f554_11e9_bfbb_3cfdfe553c98row5_col54\" class=\"data row5 col54\" >nan</td>\n",
       "                        <td id=\"T_6ecdf0d4_f554_11e9_bfbb_3cfdfe553c98row5_col55\" class=\"data row5 col55\" >nan</td>\n",
       "                        <td id=\"T_6ecdf0d4_f554_11e9_bfbb_3cfdfe553c98row5_col56\" class=\"data row5 col56\" >nan</td>\n",
       "                        <td id=\"T_6ecdf0d4_f554_11e9_bfbb_3cfdfe553c98row5_col57\" class=\"data row5 col57\" >nan</td>\n",
       "                        <td id=\"T_6ecdf0d4_f554_11e9_bfbb_3cfdfe553c98row5_col58\" class=\"data row5 col58\" >nan</td>\n",
       "                        <td id=\"T_6ecdf0d4_f554_11e9_bfbb_3cfdfe553c98row5_col59\" class=\"data row5 col59\" >nan</td>\n",
       "                        <td id=\"T_6ecdf0d4_f554_11e9_bfbb_3cfdfe553c98row5_col60\" class=\"data row5 col60\" >nan</td>\n",
       "                        <td id=\"T_6ecdf0d4_f554_11e9_bfbb_3cfdfe553c98row5_col61\" class=\"data row5 col61\" >nan</td>\n",
       "                        <td id=\"T_6ecdf0d4_f554_11e9_bfbb_3cfdfe553c98row5_col62\" class=\"data row5 col62\" >nan</td>\n",
       "                        <td id=\"T_6ecdf0d4_f554_11e9_bfbb_3cfdfe553c98row5_col63\" class=\"data row5 col63\" >nan</td>\n",
       "                        <td id=\"T_6ecdf0d4_f554_11e9_bfbb_3cfdfe553c98row5_col64\" class=\"data row5 col64\" >nan</td>\n",
       "                        <td id=\"T_6ecdf0d4_f554_11e9_bfbb_3cfdfe553c98row5_col65\" class=\"data row5 col65\" >nan</td>\n",
       "                        <td id=\"T_6ecdf0d4_f554_11e9_bfbb_3cfdfe553c98row5_col66\" class=\"data row5 col66\" >nan</td>\n",
       "                        <td id=\"T_6ecdf0d4_f554_11e9_bfbb_3cfdfe553c98row5_col67\" class=\"data row5 col67\" >nan</td>\n",
       "                        <td id=\"T_6ecdf0d4_f554_11e9_bfbb_3cfdfe553c98row5_col68\" class=\"data row5 col68\" >nan</td>\n",
       "                        <td id=\"T_6ecdf0d4_f554_11e9_bfbb_3cfdfe553c98row5_col69\" class=\"data row5 col69\" >nan</td>\n",
       "                        <td id=\"T_6ecdf0d4_f554_11e9_bfbb_3cfdfe553c98row5_col70\" class=\"data row5 col70\" >nan</td>\n",
       "                        <td id=\"T_6ecdf0d4_f554_11e9_bfbb_3cfdfe553c98row5_col71\" class=\"data row5 col71\" >nan</td>\n",
       "                        <td id=\"T_6ecdf0d4_f554_11e9_bfbb_3cfdfe553c98row5_col72\" class=\"data row5 col72\" >nan</td>\n",
       "                        <td id=\"T_6ecdf0d4_f554_11e9_bfbb_3cfdfe553c98row5_col73\" class=\"data row5 col73\" >nan</td>\n",
       "                        <td id=\"T_6ecdf0d4_f554_11e9_bfbb_3cfdfe553c98row5_col74\" class=\"data row5 col74\" >nan</td>\n",
       "                        <td id=\"T_6ecdf0d4_f554_11e9_bfbb_3cfdfe553c98row5_col75\" class=\"data row5 col75\" >nan</td>\n",
       "                        <td id=\"T_6ecdf0d4_f554_11e9_bfbb_3cfdfe553c98row5_col76\" class=\"data row5 col76\" >nan</td>\n",
       "            </tr>\n",
       "    </tbody></table>"
      ],
      "text/plain": [
       "<pandas.io.formats.style.Styler at 0x2aeec290b940>"
      ]
     },
     "metadata": {},
     "output_type": "display_data"
    },
    {
     "data": {
      "text/plain": [
       "'AutoKerasClean #1'"
      ]
     },
     "metadata": {},
     "output_type": "display_data"
    },
    {
     "data": {
      "text/html": [
       "<style  type=\"text/css\" >\n",
       "</style><table id=\"T_6ed30678_f554_11e9_bfbb_3cfdfe553c98\" ><thead>    <tr>        <th class=\"col_heading level0 col0\" >std</th>        <th class=\"col_heading level0 col1\" >test_acc</th>        <th class=\"col_heading level0 col2\" >train_acc</th>        <th class=\"col_heading level0 col3\" >time_err</th>        <th class=\"col_heading level0 col4\" >time_pre</th>        <th class=\"col_heading level0 col5\" >time_mod</th>    </tr></thead><tbody>\n",
       "                <tr>\n",
       "                                <td id=\"T_6ed30678_f554_11e9_bfbb_3cfdfe553c98row0_col0\" class=\"data row0 col0\" >0</td>\n",
       "                        <td id=\"T_6ed30678_f554_11e9_bfbb_3cfdfe553c98row0_col1\" class=\"data row0 col1\" >0.236</td>\n",
       "                        <td id=\"T_6ed30678_f554_11e9_bfbb_3cfdfe553c98row0_col2\" class=\"data row0 col2\" >0.27</td>\n",
       "                        <td id=\"T_6ed30678_f554_11e9_bfbb_3cfdfe553c98row0_col3\" class=\"data row0 col3\" >0.121</td>\n",
       "                        <td id=\"T_6ed30678_f554_11e9_bfbb_3cfdfe553c98row0_col4\" class=\"data row0 col4\" >0</td>\n",
       "                        <td id=\"T_6ed30678_f554_11e9_bfbb_3cfdfe553c98row0_col5\" class=\"data row0 col5\" >3601.49</td>\n",
       "            </tr>\n",
       "            <tr>\n",
       "                                <td id=\"T_6ed30678_f554_11e9_bfbb_3cfdfe553c98row1_col0\" class=\"data row1 col0\" >3.2</td>\n",
       "                        <td id=\"T_6ed30678_f554_11e9_bfbb_3cfdfe553c98row1_col1\" class=\"data row1 col1\" >0.192</td>\n",
       "                        <td id=\"T_6ed30678_f554_11e9_bfbb_3cfdfe553c98row1_col2\" class=\"data row1 col2\" >0.266</td>\n",
       "                        <td id=\"T_6ed30678_f554_11e9_bfbb_3cfdfe553c98row1_col3\" class=\"data row1 col3\" >0.118</td>\n",
       "                        <td id=\"T_6ed30678_f554_11e9_bfbb_3cfdfe553c98row1_col4\" class=\"data row1 col4\" >0</td>\n",
       "                        <td id=\"T_6ed30678_f554_11e9_bfbb_3cfdfe553c98row1_col5\" class=\"data row1 col5\" >3603.19</td>\n",
       "            </tr>\n",
       "            <tr>\n",
       "                                <td id=\"T_6ed30678_f554_11e9_bfbb_3cfdfe553c98row2_col0\" class=\"data row2 col0\" >6.4</td>\n",
       "                        <td id=\"T_6ed30678_f554_11e9_bfbb_3cfdfe553c98row2_col1\" class=\"data row2 col1\" >0.106</td>\n",
       "                        <td id=\"T_6ed30678_f554_11e9_bfbb_3cfdfe553c98row2_col2\" class=\"data row2 col2\" >0.269</td>\n",
       "                        <td id=\"T_6ed30678_f554_11e9_bfbb_3cfdfe553c98row2_col3\" class=\"data row2 col3\" >0.116</td>\n",
       "                        <td id=\"T_6ed30678_f554_11e9_bfbb_3cfdfe553c98row2_col4\" class=\"data row2 col4\" >0</td>\n",
       "                        <td id=\"T_6ed30678_f554_11e9_bfbb_3cfdfe553c98row2_col5\" class=\"data row2 col5\" >3602.07</td>\n",
       "            </tr>\n",
       "            <tr>\n",
       "                                <td id=\"T_6ed30678_f554_11e9_bfbb_3cfdfe553c98row3_col0\" class=\"data row3 col0\" >9.6</td>\n",
       "                        <td id=\"T_6ed30678_f554_11e9_bfbb_3cfdfe553c98row3_col1\" class=\"data row3 col1\" >0.094</td>\n",
       "                        <td id=\"T_6ed30678_f554_11e9_bfbb_3cfdfe553c98row3_col2\" class=\"data row3 col2\" >0.271</td>\n",
       "                        <td id=\"T_6ed30678_f554_11e9_bfbb_3cfdfe553c98row3_col3\" class=\"data row3 col3\" >0.115</td>\n",
       "                        <td id=\"T_6ed30678_f554_11e9_bfbb_3cfdfe553c98row3_col4\" class=\"data row3 col4\" >0</td>\n",
       "                        <td id=\"T_6ed30678_f554_11e9_bfbb_3cfdfe553c98row3_col5\" class=\"data row3 col5\" >3602.46</td>\n",
       "            </tr>\n",
       "            <tr>\n",
       "                                <td id=\"T_6ed30678_f554_11e9_bfbb_3cfdfe553c98row4_col0\" class=\"data row4 col0\" >12.8</td>\n",
       "                        <td id=\"T_6ed30678_f554_11e9_bfbb_3cfdfe553c98row4_col1\" class=\"data row4 col1\" >0.094</td>\n",
       "                        <td id=\"T_6ed30678_f554_11e9_bfbb_3cfdfe553c98row4_col2\" class=\"data row4 col2\" >0.276</td>\n",
       "                        <td id=\"T_6ed30678_f554_11e9_bfbb_3cfdfe553c98row4_col3\" class=\"data row4 col3\" >0.113</td>\n",
       "                        <td id=\"T_6ed30678_f554_11e9_bfbb_3cfdfe553c98row4_col4\" class=\"data row4 col4\" >0</td>\n",
       "                        <td id=\"T_6ed30678_f554_11e9_bfbb_3cfdfe553c98row4_col5\" class=\"data row4 col5\" >3621.02</td>\n",
       "            </tr>\n",
       "            <tr>\n",
       "                                <td id=\"T_6ed30678_f554_11e9_bfbb_3cfdfe553c98row5_col0\" class=\"data row5 col0\" >16</td>\n",
       "                        <td id=\"T_6ed30678_f554_11e9_bfbb_3cfdfe553c98row5_col1\" class=\"data row5 col1\" >0.094</td>\n",
       "                        <td id=\"T_6ed30678_f554_11e9_bfbb_3cfdfe553c98row5_col2\" class=\"data row5 col2\" >0.267</td>\n",
       "                        <td id=\"T_6ed30678_f554_11e9_bfbb_3cfdfe553c98row5_col3\" class=\"data row5 col3\" >0.111</td>\n",
       "                        <td id=\"T_6ed30678_f554_11e9_bfbb_3cfdfe553c98row5_col4\" class=\"data row5 col4\" >0</td>\n",
       "                        <td id=\"T_6ed30678_f554_11e9_bfbb_3cfdfe553c98row5_col5\" class=\"data row5 col5\" >3602.57</td>\n",
       "            </tr>\n",
       "    </tbody></table>"
      ],
      "text/plain": [
       "<pandas.io.formats.style.Styler at 0x2aee8dada5f8>"
      ]
     },
     "metadata": {},
     "output_type": "display_data"
    },
    {
     "data": {
      "text/html": [
       "<style  type=\"text/css\" >\n",
       "</style><table id=\"T_6ed4c06c_f554_11e9_bfbb_3cfdfe553c98\" ><thead>    <tr>        <th class=\"col_heading level0 col0\" >std</th>        <th class=\"col_heading level0 col1\" >pipe_0</th>        <th class=\"col_heading level0 col2\" >pipe_1</th>        <th class=\"col_heading level0 col3\" >pipe_2</th>        <th class=\"col_heading level0 col4\" >pipe_3</th>        <th class=\"col_heading level0 col5\" >pipe_4</th>        <th class=\"col_heading level0 col6\" >pipe_5</th>        <th class=\"col_heading level0 col7\" >pipe_6</th>        <th class=\"col_heading level0 col8\" >pipe_7</th>        <th class=\"col_heading level0 col9\" >pipe_8</th>        <th class=\"col_heading level0 col10\" >pipe_9</th>        <th class=\"col_heading level0 col11\" >pipe_10</th>        <th class=\"col_heading level0 col12\" >pipe_11</th>        <th class=\"col_heading level0 col13\" >pipe_12</th>        <th class=\"col_heading level0 col14\" >pipe_13</th>        <th class=\"col_heading level0 col15\" >pipe_14</th>        <th class=\"col_heading level0 col16\" >pipe_15</th>        <th class=\"col_heading level0 col17\" >pipe_16</th>    </tr></thead><tbody>\n",
       "                <tr>\n",
       "                                <td id=\"T_6ed4c06c_f554_11e9_bfbb_3cfdfe553c98row0_col0\" class=\"data row0 col0\" >0</td>\n",
       "                        <td id=\"T_6ed4c06c_f554_11e9_bfbb_3cfdfe553c98row0_col1\" class=\"data row0 col1\" >ReLU()</td>\n",
       "                        <td id=\"T_6ed4c06c_f554_11e9_bfbb_3cfdfe553c98row0_col2\" class=\"data row0 col2\" >BatchNorm2d(1, eps=1e-05, momentum=0.1, affine=True, track_running_stats=True)</td>\n",
       "                        <td id=\"T_6ed4c06c_f554_11e9_bfbb_3cfdfe553c98row0_col3\" class=\"data row0 col3\" >Conv2d(1, 64, kernel_size=(3, 3), stride=(1, 1), padding=(1, 1))</td>\n",
       "                        <td id=\"T_6ed4c06c_f554_11e9_bfbb_3cfdfe553c98row0_col4\" class=\"data row0 col4\" >MaxPool2d(kernel_size=2, stride=2, padding=0, dilation=1, ceil_mode=False)</td>\n",
       "                        <td id=\"T_6ed4c06c_f554_11e9_bfbb_3cfdfe553c98row0_col5\" class=\"data row0 col5\" >ReLU()</td>\n",
       "                        <td id=\"T_6ed4c06c_f554_11e9_bfbb_3cfdfe553c98row0_col6\" class=\"data row0 col6\" >BatchNorm2d(64, eps=1e-05, momentum=0.1, affine=True, track_running_stats=True)</td>\n",
       "                        <td id=\"T_6ed4c06c_f554_11e9_bfbb_3cfdfe553c98row0_col7\" class=\"data row0 col7\" >Conv2d(64, 64, kernel_size=(3, 3), stride=(1, 1), padding=(1, 1))</td>\n",
       "                        <td id=\"T_6ed4c06c_f554_11e9_bfbb_3cfdfe553c98row0_col8\" class=\"data row0 col8\" >MaxPool2d(kernel_size=2, stride=2, padding=0, dilation=1, ceil_mode=False)</td>\n",
       "                        <td id=\"T_6ed4c06c_f554_11e9_bfbb_3cfdfe553c98row0_col9\" class=\"data row0 col9\" >ReLU()</td>\n",
       "                        <td id=\"T_6ed4c06c_f554_11e9_bfbb_3cfdfe553c98row0_col10\" class=\"data row0 col10\" >BatchNorm2d(64, eps=1e-05, momentum=0.1, affine=True, track_running_stats=True)</td>\n",
       "                        <td id=\"T_6ed4c06c_f554_11e9_bfbb_3cfdfe553c98row0_col11\" class=\"data row0 col11\" >Conv2d(64, 64, kernel_size=(3, 3), stride=(1, 1), padding=(1, 1))</td>\n",
       "                        <td id=\"T_6ed4c06c_f554_11e9_bfbb_3cfdfe553c98row0_col12\" class=\"data row0 col12\" >MaxPool2d(kernel_size=2, stride=2, padding=0, dilation=1, ceil_mode=False)</td>\n",
       "                        <td id=\"T_6ed4c06c_f554_11e9_bfbb_3cfdfe553c98row0_col13\" class=\"data row0 col13\" >GlobalAvgPool2d()</td>\n",
       "                        <td id=\"T_6ed4c06c_f554_11e9_bfbb_3cfdfe553c98row0_col14\" class=\"data row0 col14\" >Dropout2d(p=0.25)</td>\n",
       "                        <td id=\"T_6ed4c06c_f554_11e9_bfbb_3cfdfe553c98row0_col15\" class=\"data row0 col15\" >Linear(in_features=64, out_features=64, bias=True)</td>\n",
       "                        <td id=\"T_6ed4c06c_f554_11e9_bfbb_3cfdfe553c98row0_col16\" class=\"data row0 col16\" >ReLU()</td>\n",
       "                        <td id=\"T_6ed4c06c_f554_11e9_bfbb_3cfdfe553c98row0_col17\" class=\"data row0 col17\" >Linear(in_features=64, out_features=10, bias=True)</td>\n",
       "            </tr>\n",
       "            <tr>\n",
       "                                <td id=\"T_6ed4c06c_f554_11e9_bfbb_3cfdfe553c98row1_col0\" class=\"data row1 col0\" >3.2</td>\n",
       "                        <td id=\"T_6ed4c06c_f554_11e9_bfbb_3cfdfe553c98row1_col1\" class=\"data row1 col1\" >ReLU()</td>\n",
       "                        <td id=\"T_6ed4c06c_f554_11e9_bfbb_3cfdfe553c98row1_col2\" class=\"data row1 col2\" >BatchNorm2d(1, eps=1e-05, momentum=0.1, affine=True, track_running_stats=True)</td>\n",
       "                        <td id=\"T_6ed4c06c_f554_11e9_bfbb_3cfdfe553c98row1_col3\" class=\"data row1 col3\" >Conv2d(1, 64, kernel_size=(3, 3), stride=(1, 1), padding=(1, 1))</td>\n",
       "                        <td id=\"T_6ed4c06c_f554_11e9_bfbb_3cfdfe553c98row1_col4\" class=\"data row1 col4\" >MaxPool2d(kernel_size=2, stride=2, padding=0, dilation=1, ceil_mode=False)</td>\n",
       "                        <td id=\"T_6ed4c06c_f554_11e9_bfbb_3cfdfe553c98row1_col5\" class=\"data row1 col5\" >ReLU()</td>\n",
       "                        <td id=\"T_6ed4c06c_f554_11e9_bfbb_3cfdfe553c98row1_col6\" class=\"data row1 col6\" >BatchNorm2d(64, eps=1e-05, momentum=0.1, affine=True, track_running_stats=True)</td>\n",
       "                        <td id=\"T_6ed4c06c_f554_11e9_bfbb_3cfdfe553c98row1_col7\" class=\"data row1 col7\" >Conv2d(64, 64, kernel_size=(3, 3), stride=(1, 1), padding=(1, 1))</td>\n",
       "                        <td id=\"T_6ed4c06c_f554_11e9_bfbb_3cfdfe553c98row1_col8\" class=\"data row1 col8\" >MaxPool2d(kernel_size=2, stride=2, padding=0, dilation=1, ceil_mode=False)</td>\n",
       "                        <td id=\"T_6ed4c06c_f554_11e9_bfbb_3cfdfe553c98row1_col9\" class=\"data row1 col9\" >ReLU()</td>\n",
       "                        <td id=\"T_6ed4c06c_f554_11e9_bfbb_3cfdfe553c98row1_col10\" class=\"data row1 col10\" >BatchNorm2d(64, eps=1e-05, momentum=0.1, affine=True, track_running_stats=True)</td>\n",
       "                        <td id=\"T_6ed4c06c_f554_11e9_bfbb_3cfdfe553c98row1_col11\" class=\"data row1 col11\" >Conv2d(64, 64, kernel_size=(3, 3), stride=(1, 1), padding=(1, 1))</td>\n",
       "                        <td id=\"T_6ed4c06c_f554_11e9_bfbb_3cfdfe553c98row1_col12\" class=\"data row1 col12\" >MaxPool2d(kernel_size=2, stride=2, padding=0, dilation=1, ceil_mode=False)</td>\n",
       "                        <td id=\"T_6ed4c06c_f554_11e9_bfbb_3cfdfe553c98row1_col13\" class=\"data row1 col13\" >GlobalAvgPool2d()</td>\n",
       "                        <td id=\"T_6ed4c06c_f554_11e9_bfbb_3cfdfe553c98row1_col14\" class=\"data row1 col14\" >Dropout2d(p=0.25)</td>\n",
       "                        <td id=\"T_6ed4c06c_f554_11e9_bfbb_3cfdfe553c98row1_col15\" class=\"data row1 col15\" >Linear(in_features=64, out_features=64, bias=True)</td>\n",
       "                        <td id=\"T_6ed4c06c_f554_11e9_bfbb_3cfdfe553c98row1_col16\" class=\"data row1 col16\" >ReLU()</td>\n",
       "                        <td id=\"T_6ed4c06c_f554_11e9_bfbb_3cfdfe553c98row1_col17\" class=\"data row1 col17\" >Linear(in_features=64, out_features=10, bias=True)</td>\n",
       "            </tr>\n",
       "            <tr>\n",
       "                                <td id=\"T_6ed4c06c_f554_11e9_bfbb_3cfdfe553c98row2_col0\" class=\"data row2 col0\" >6.4</td>\n",
       "                        <td id=\"T_6ed4c06c_f554_11e9_bfbb_3cfdfe553c98row2_col1\" class=\"data row2 col1\" >ReLU()</td>\n",
       "                        <td id=\"T_6ed4c06c_f554_11e9_bfbb_3cfdfe553c98row2_col2\" class=\"data row2 col2\" >BatchNorm2d(1, eps=1e-05, momentum=0.1, affine=True, track_running_stats=True)</td>\n",
       "                        <td id=\"T_6ed4c06c_f554_11e9_bfbb_3cfdfe553c98row2_col3\" class=\"data row2 col3\" >Conv2d(1, 64, kernel_size=(3, 3), stride=(1, 1), padding=(1, 1))</td>\n",
       "                        <td id=\"T_6ed4c06c_f554_11e9_bfbb_3cfdfe553c98row2_col4\" class=\"data row2 col4\" >MaxPool2d(kernel_size=2, stride=2, padding=0, dilation=1, ceil_mode=False)</td>\n",
       "                        <td id=\"T_6ed4c06c_f554_11e9_bfbb_3cfdfe553c98row2_col5\" class=\"data row2 col5\" >ReLU()</td>\n",
       "                        <td id=\"T_6ed4c06c_f554_11e9_bfbb_3cfdfe553c98row2_col6\" class=\"data row2 col6\" >BatchNorm2d(64, eps=1e-05, momentum=0.1, affine=True, track_running_stats=True)</td>\n",
       "                        <td id=\"T_6ed4c06c_f554_11e9_bfbb_3cfdfe553c98row2_col7\" class=\"data row2 col7\" >Conv2d(64, 64, kernel_size=(3, 3), stride=(1, 1), padding=(1, 1))</td>\n",
       "                        <td id=\"T_6ed4c06c_f554_11e9_bfbb_3cfdfe553c98row2_col8\" class=\"data row2 col8\" >MaxPool2d(kernel_size=2, stride=2, padding=0, dilation=1, ceil_mode=False)</td>\n",
       "                        <td id=\"T_6ed4c06c_f554_11e9_bfbb_3cfdfe553c98row2_col9\" class=\"data row2 col9\" >ReLU()</td>\n",
       "                        <td id=\"T_6ed4c06c_f554_11e9_bfbb_3cfdfe553c98row2_col10\" class=\"data row2 col10\" >BatchNorm2d(64, eps=1e-05, momentum=0.1, affine=True, track_running_stats=True)</td>\n",
       "                        <td id=\"T_6ed4c06c_f554_11e9_bfbb_3cfdfe553c98row2_col11\" class=\"data row2 col11\" >Conv2d(64, 64, kernel_size=(3, 3), stride=(1, 1), padding=(1, 1))</td>\n",
       "                        <td id=\"T_6ed4c06c_f554_11e9_bfbb_3cfdfe553c98row2_col12\" class=\"data row2 col12\" >MaxPool2d(kernel_size=2, stride=2, padding=0, dilation=1, ceil_mode=False)</td>\n",
       "                        <td id=\"T_6ed4c06c_f554_11e9_bfbb_3cfdfe553c98row2_col13\" class=\"data row2 col13\" >GlobalAvgPool2d()</td>\n",
       "                        <td id=\"T_6ed4c06c_f554_11e9_bfbb_3cfdfe553c98row2_col14\" class=\"data row2 col14\" >Dropout2d(p=0.25)</td>\n",
       "                        <td id=\"T_6ed4c06c_f554_11e9_bfbb_3cfdfe553c98row2_col15\" class=\"data row2 col15\" >Linear(in_features=64, out_features=64, bias=True)</td>\n",
       "                        <td id=\"T_6ed4c06c_f554_11e9_bfbb_3cfdfe553c98row2_col16\" class=\"data row2 col16\" >ReLU()</td>\n",
       "                        <td id=\"T_6ed4c06c_f554_11e9_bfbb_3cfdfe553c98row2_col17\" class=\"data row2 col17\" >Linear(in_features=64, out_features=10, bias=True)</td>\n",
       "            </tr>\n",
       "            <tr>\n",
       "                                <td id=\"T_6ed4c06c_f554_11e9_bfbb_3cfdfe553c98row3_col0\" class=\"data row3 col0\" >9.6</td>\n",
       "                        <td id=\"T_6ed4c06c_f554_11e9_bfbb_3cfdfe553c98row3_col1\" class=\"data row3 col1\" >ReLU()</td>\n",
       "                        <td id=\"T_6ed4c06c_f554_11e9_bfbb_3cfdfe553c98row3_col2\" class=\"data row3 col2\" >BatchNorm2d(1, eps=1e-05, momentum=0.1, affine=True, track_running_stats=True)</td>\n",
       "                        <td id=\"T_6ed4c06c_f554_11e9_bfbb_3cfdfe553c98row3_col3\" class=\"data row3 col3\" >Conv2d(1, 64, kernel_size=(3, 3), stride=(1, 1), padding=(1, 1))</td>\n",
       "                        <td id=\"T_6ed4c06c_f554_11e9_bfbb_3cfdfe553c98row3_col4\" class=\"data row3 col4\" >MaxPool2d(kernel_size=2, stride=2, padding=0, dilation=1, ceil_mode=False)</td>\n",
       "                        <td id=\"T_6ed4c06c_f554_11e9_bfbb_3cfdfe553c98row3_col5\" class=\"data row3 col5\" >ReLU()</td>\n",
       "                        <td id=\"T_6ed4c06c_f554_11e9_bfbb_3cfdfe553c98row3_col6\" class=\"data row3 col6\" >BatchNorm2d(64, eps=1e-05, momentum=0.1, affine=True, track_running_stats=True)</td>\n",
       "                        <td id=\"T_6ed4c06c_f554_11e9_bfbb_3cfdfe553c98row3_col7\" class=\"data row3 col7\" >Conv2d(64, 64, kernel_size=(3, 3), stride=(1, 1), padding=(1, 1))</td>\n",
       "                        <td id=\"T_6ed4c06c_f554_11e9_bfbb_3cfdfe553c98row3_col8\" class=\"data row3 col8\" >MaxPool2d(kernel_size=2, stride=2, padding=0, dilation=1, ceil_mode=False)</td>\n",
       "                        <td id=\"T_6ed4c06c_f554_11e9_bfbb_3cfdfe553c98row3_col9\" class=\"data row3 col9\" >ReLU()</td>\n",
       "                        <td id=\"T_6ed4c06c_f554_11e9_bfbb_3cfdfe553c98row3_col10\" class=\"data row3 col10\" >BatchNorm2d(64, eps=1e-05, momentum=0.1, affine=True, track_running_stats=True)</td>\n",
       "                        <td id=\"T_6ed4c06c_f554_11e9_bfbb_3cfdfe553c98row3_col11\" class=\"data row3 col11\" >Conv2d(64, 64, kernel_size=(3, 3), stride=(1, 1), padding=(1, 1))</td>\n",
       "                        <td id=\"T_6ed4c06c_f554_11e9_bfbb_3cfdfe553c98row3_col12\" class=\"data row3 col12\" >MaxPool2d(kernel_size=2, stride=2, padding=0, dilation=1, ceil_mode=False)</td>\n",
       "                        <td id=\"T_6ed4c06c_f554_11e9_bfbb_3cfdfe553c98row3_col13\" class=\"data row3 col13\" >GlobalAvgPool2d()</td>\n",
       "                        <td id=\"T_6ed4c06c_f554_11e9_bfbb_3cfdfe553c98row3_col14\" class=\"data row3 col14\" >Dropout2d(p=0.25)</td>\n",
       "                        <td id=\"T_6ed4c06c_f554_11e9_bfbb_3cfdfe553c98row3_col15\" class=\"data row3 col15\" >Linear(in_features=64, out_features=64, bias=True)</td>\n",
       "                        <td id=\"T_6ed4c06c_f554_11e9_bfbb_3cfdfe553c98row3_col16\" class=\"data row3 col16\" >ReLU()</td>\n",
       "                        <td id=\"T_6ed4c06c_f554_11e9_bfbb_3cfdfe553c98row3_col17\" class=\"data row3 col17\" >Linear(in_features=64, out_features=10, bias=True)</td>\n",
       "            </tr>\n",
       "            <tr>\n",
       "                                <td id=\"T_6ed4c06c_f554_11e9_bfbb_3cfdfe553c98row4_col0\" class=\"data row4 col0\" >12.8</td>\n",
       "                        <td id=\"T_6ed4c06c_f554_11e9_bfbb_3cfdfe553c98row4_col1\" class=\"data row4 col1\" >ReLU()</td>\n",
       "                        <td id=\"T_6ed4c06c_f554_11e9_bfbb_3cfdfe553c98row4_col2\" class=\"data row4 col2\" >BatchNorm2d(1, eps=1e-05, momentum=0.1, affine=True, track_running_stats=True)</td>\n",
       "                        <td id=\"T_6ed4c06c_f554_11e9_bfbb_3cfdfe553c98row4_col3\" class=\"data row4 col3\" >Conv2d(1, 64, kernel_size=(3, 3), stride=(1, 1), padding=(1, 1))</td>\n",
       "                        <td id=\"T_6ed4c06c_f554_11e9_bfbb_3cfdfe553c98row4_col4\" class=\"data row4 col4\" >MaxPool2d(kernel_size=2, stride=2, padding=0, dilation=1, ceil_mode=False)</td>\n",
       "                        <td id=\"T_6ed4c06c_f554_11e9_bfbb_3cfdfe553c98row4_col5\" class=\"data row4 col5\" >ReLU()</td>\n",
       "                        <td id=\"T_6ed4c06c_f554_11e9_bfbb_3cfdfe553c98row4_col6\" class=\"data row4 col6\" >BatchNorm2d(64, eps=1e-05, momentum=0.1, affine=True, track_running_stats=True)</td>\n",
       "                        <td id=\"T_6ed4c06c_f554_11e9_bfbb_3cfdfe553c98row4_col7\" class=\"data row4 col7\" >Conv2d(64, 64, kernel_size=(3, 3), stride=(1, 1), padding=(1, 1))</td>\n",
       "                        <td id=\"T_6ed4c06c_f554_11e9_bfbb_3cfdfe553c98row4_col8\" class=\"data row4 col8\" >MaxPool2d(kernel_size=2, stride=2, padding=0, dilation=1, ceil_mode=False)</td>\n",
       "                        <td id=\"T_6ed4c06c_f554_11e9_bfbb_3cfdfe553c98row4_col9\" class=\"data row4 col9\" >ReLU()</td>\n",
       "                        <td id=\"T_6ed4c06c_f554_11e9_bfbb_3cfdfe553c98row4_col10\" class=\"data row4 col10\" >BatchNorm2d(64, eps=1e-05, momentum=0.1, affine=True, track_running_stats=True)</td>\n",
       "                        <td id=\"T_6ed4c06c_f554_11e9_bfbb_3cfdfe553c98row4_col11\" class=\"data row4 col11\" >Conv2d(64, 64, kernel_size=(3, 3), stride=(1, 1), padding=(1, 1))</td>\n",
       "                        <td id=\"T_6ed4c06c_f554_11e9_bfbb_3cfdfe553c98row4_col12\" class=\"data row4 col12\" >MaxPool2d(kernel_size=2, stride=2, padding=0, dilation=1, ceil_mode=False)</td>\n",
       "                        <td id=\"T_6ed4c06c_f554_11e9_bfbb_3cfdfe553c98row4_col13\" class=\"data row4 col13\" >GlobalAvgPool2d()</td>\n",
       "                        <td id=\"T_6ed4c06c_f554_11e9_bfbb_3cfdfe553c98row4_col14\" class=\"data row4 col14\" >Dropout2d(p=0.25)</td>\n",
       "                        <td id=\"T_6ed4c06c_f554_11e9_bfbb_3cfdfe553c98row4_col15\" class=\"data row4 col15\" >Linear(in_features=64, out_features=64, bias=True)</td>\n",
       "                        <td id=\"T_6ed4c06c_f554_11e9_bfbb_3cfdfe553c98row4_col16\" class=\"data row4 col16\" >ReLU()</td>\n",
       "                        <td id=\"T_6ed4c06c_f554_11e9_bfbb_3cfdfe553c98row4_col17\" class=\"data row4 col17\" >Linear(in_features=64, out_features=10, bias=True)</td>\n",
       "            </tr>\n",
       "            <tr>\n",
       "                                <td id=\"T_6ed4c06c_f554_11e9_bfbb_3cfdfe553c98row5_col0\" class=\"data row5 col0\" >16</td>\n",
       "                        <td id=\"T_6ed4c06c_f554_11e9_bfbb_3cfdfe553c98row5_col1\" class=\"data row5 col1\" >ReLU()</td>\n",
       "                        <td id=\"T_6ed4c06c_f554_11e9_bfbb_3cfdfe553c98row5_col2\" class=\"data row5 col2\" >BatchNorm2d(1, eps=1e-05, momentum=0.1, affine=True, track_running_stats=True)</td>\n",
       "                        <td id=\"T_6ed4c06c_f554_11e9_bfbb_3cfdfe553c98row5_col3\" class=\"data row5 col3\" >Conv2d(1, 64, kernel_size=(3, 3), stride=(1, 1), padding=(1, 1))</td>\n",
       "                        <td id=\"T_6ed4c06c_f554_11e9_bfbb_3cfdfe553c98row5_col4\" class=\"data row5 col4\" >MaxPool2d(kernel_size=2, stride=2, padding=0, dilation=1, ceil_mode=False)</td>\n",
       "                        <td id=\"T_6ed4c06c_f554_11e9_bfbb_3cfdfe553c98row5_col5\" class=\"data row5 col5\" >ReLU()</td>\n",
       "                        <td id=\"T_6ed4c06c_f554_11e9_bfbb_3cfdfe553c98row5_col6\" class=\"data row5 col6\" >BatchNorm2d(64, eps=1e-05, momentum=0.1, affine=True, track_running_stats=True)</td>\n",
       "                        <td id=\"T_6ed4c06c_f554_11e9_bfbb_3cfdfe553c98row5_col7\" class=\"data row5 col7\" >Conv2d(64, 64, kernel_size=(3, 3), stride=(1, 1), padding=(1, 1))</td>\n",
       "                        <td id=\"T_6ed4c06c_f554_11e9_bfbb_3cfdfe553c98row5_col8\" class=\"data row5 col8\" >MaxPool2d(kernel_size=2, stride=2, padding=0, dilation=1, ceil_mode=False)</td>\n",
       "                        <td id=\"T_6ed4c06c_f554_11e9_bfbb_3cfdfe553c98row5_col9\" class=\"data row5 col9\" >ReLU()</td>\n",
       "                        <td id=\"T_6ed4c06c_f554_11e9_bfbb_3cfdfe553c98row5_col10\" class=\"data row5 col10\" >BatchNorm2d(64, eps=1e-05, momentum=0.1, affine=True, track_running_stats=True)</td>\n",
       "                        <td id=\"T_6ed4c06c_f554_11e9_bfbb_3cfdfe553c98row5_col11\" class=\"data row5 col11\" >Conv2d(64, 64, kernel_size=(3, 3), stride=(1, 1), padding=(1, 1))</td>\n",
       "                        <td id=\"T_6ed4c06c_f554_11e9_bfbb_3cfdfe553c98row5_col12\" class=\"data row5 col12\" >MaxPool2d(kernel_size=2, stride=2, padding=0, dilation=1, ceil_mode=False)</td>\n",
       "                        <td id=\"T_6ed4c06c_f554_11e9_bfbb_3cfdfe553c98row5_col13\" class=\"data row5 col13\" >GlobalAvgPool2d()</td>\n",
       "                        <td id=\"T_6ed4c06c_f554_11e9_bfbb_3cfdfe553c98row5_col14\" class=\"data row5 col14\" >Dropout2d(p=0.25)</td>\n",
       "                        <td id=\"T_6ed4c06c_f554_11e9_bfbb_3cfdfe553c98row5_col15\" class=\"data row5 col15\" >Linear(in_features=64, out_features=64, bias=True)</td>\n",
       "                        <td id=\"T_6ed4c06c_f554_11e9_bfbb_3cfdfe553c98row5_col16\" class=\"data row5 col16\" >ReLU()</td>\n",
       "                        <td id=\"T_6ed4c06c_f554_11e9_bfbb_3cfdfe553c98row5_col17\" class=\"data row5 col17\" >Linear(in_features=64, out_features=10, bias=True)</td>\n",
       "            </tr>\n",
       "    </tbody></table>"
      ],
      "text/plain": [
       "<pandas.io.formats.style.Styler at 0x2aee8dad4438>"
      ]
     },
     "metadata": {},
     "output_type": "display_data"
    },
    {
     "data": {
      "text/plain": [
       "'H2OAutoML #1'"
      ]
     },
     "metadata": {},
     "output_type": "display_data"
    },
    {
     "data": {
      "text/html": [
       "<style  type=\"text/css\" >\n",
       "</style><table id=\"T_6ed63708_f554_11e9_bfbb_3cfdfe553c98\" ><thead>    <tr>        <th class=\"col_heading level0 col0\" >std</th>        <th class=\"col_heading level0 col1\" >test_acc</th>        <th class=\"col_heading level0 col2\" >train_acc</th>        <th class=\"col_heading level0 col3\" >time_err</th>        <th class=\"col_heading level0 col4\" >time_pre</th>        <th class=\"col_heading level0 col5\" >time_mod</th>    </tr></thead><tbody>\n",
       "                <tr>\n",
       "                                <td id=\"T_6ed63708_f554_11e9_bfbb_3cfdfe553c98row0_col0\" class=\"data row0 col0\" >0</td>\n",
       "                        <td id=\"T_6ed63708_f554_11e9_bfbb_3cfdfe553c98row0_col1\" class=\"data row0 col1\" >0.986</td>\n",
       "                        <td id=\"T_6ed63708_f554_11e9_bfbb_3cfdfe553c98row0_col2\" class=\"data row0 col2\" >1</td>\n",
       "                        <td id=\"T_6ed63708_f554_11e9_bfbb_3cfdfe553c98row0_col3\" class=\"data row0 col3\" >0.121</td>\n",
       "                        <td id=\"T_6ed63708_f554_11e9_bfbb_3cfdfe553c98row0_col4\" class=\"data row0 col4\" >0</td>\n",
       "                        <td id=\"T_6ed63708_f554_11e9_bfbb_3cfdfe553c98row0_col5\" class=\"data row0 col5\" >3515.75</td>\n",
       "            </tr>\n",
       "            <tr>\n",
       "                                <td id=\"T_6ed63708_f554_11e9_bfbb_3cfdfe553c98row1_col0\" class=\"data row1 col0\" >3.2</td>\n",
       "                        <td id=\"T_6ed63708_f554_11e9_bfbb_3cfdfe553c98row1_col1\" class=\"data row1 col1\" >0.961</td>\n",
       "                        <td id=\"T_6ed63708_f554_11e9_bfbb_3cfdfe553c98row1_col2\" class=\"data row1 col2\" >1</td>\n",
       "                        <td id=\"T_6ed63708_f554_11e9_bfbb_3cfdfe553c98row1_col3\" class=\"data row1 col3\" >0.118</td>\n",
       "                        <td id=\"T_6ed63708_f554_11e9_bfbb_3cfdfe553c98row1_col4\" class=\"data row1 col4\" >0</td>\n",
       "                        <td id=\"T_6ed63708_f554_11e9_bfbb_3cfdfe553c98row1_col5\" class=\"data row1 col5\" >3549.47</td>\n",
       "            </tr>\n",
       "            <tr>\n",
       "                                <td id=\"T_6ed63708_f554_11e9_bfbb_3cfdfe553c98row2_col0\" class=\"data row2 col0\" >6.4</td>\n",
       "                        <td id=\"T_6ed63708_f554_11e9_bfbb_3cfdfe553c98row2_col1\" class=\"data row2 col1\" >0.856</td>\n",
       "                        <td id=\"T_6ed63708_f554_11e9_bfbb_3cfdfe553c98row2_col2\" class=\"data row2 col2\" >1</td>\n",
       "                        <td id=\"T_6ed63708_f554_11e9_bfbb_3cfdfe553c98row2_col3\" class=\"data row2 col3\" >0.116</td>\n",
       "                        <td id=\"T_6ed63708_f554_11e9_bfbb_3cfdfe553c98row2_col4\" class=\"data row2 col4\" >0</td>\n",
       "                        <td id=\"T_6ed63708_f554_11e9_bfbb_3cfdfe553c98row2_col5\" class=\"data row2 col5\" >3519.13</td>\n",
       "            </tr>\n",
       "            <tr>\n",
       "                                <td id=\"T_6ed63708_f554_11e9_bfbb_3cfdfe553c98row3_col0\" class=\"data row3 col0\" >9.6</td>\n",
       "                        <td id=\"T_6ed63708_f554_11e9_bfbb_3cfdfe553c98row3_col1\" class=\"data row3 col1\" >0.636</td>\n",
       "                        <td id=\"T_6ed63708_f554_11e9_bfbb_3cfdfe553c98row3_col2\" class=\"data row3 col2\" >1</td>\n",
       "                        <td id=\"T_6ed63708_f554_11e9_bfbb_3cfdfe553c98row3_col3\" class=\"data row3 col3\" >0.115</td>\n",
       "                        <td id=\"T_6ed63708_f554_11e9_bfbb_3cfdfe553c98row3_col4\" class=\"data row3 col4\" >0</td>\n",
       "                        <td id=\"T_6ed63708_f554_11e9_bfbb_3cfdfe553c98row3_col5\" class=\"data row3 col5\" >3463.93</td>\n",
       "            </tr>\n",
       "            <tr>\n",
       "                                <td id=\"T_6ed63708_f554_11e9_bfbb_3cfdfe553c98row4_col0\" class=\"data row4 col0\" >12.8</td>\n",
       "                        <td id=\"T_6ed63708_f554_11e9_bfbb_3cfdfe553c98row4_col1\" class=\"data row4 col1\" >0.494</td>\n",
       "                        <td id=\"T_6ed63708_f554_11e9_bfbb_3cfdfe553c98row4_col2\" class=\"data row4 col2\" >0.553</td>\n",
       "                        <td id=\"T_6ed63708_f554_11e9_bfbb_3cfdfe553c98row4_col3\" class=\"data row4 col3\" >0.113</td>\n",
       "                        <td id=\"T_6ed63708_f554_11e9_bfbb_3cfdfe553c98row4_col4\" class=\"data row4 col4\" >0</td>\n",
       "                        <td id=\"T_6ed63708_f554_11e9_bfbb_3cfdfe553c98row4_col5\" class=\"data row4 col5\" >3296.33</td>\n",
       "            </tr>\n",
       "            <tr>\n",
       "                                <td id=\"T_6ed63708_f554_11e9_bfbb_3cfdfe553c98row5_col0\" class=\"data row5 col0\" >16</td>\n",
       "                        <td id=\"T_6ed63708_f554_11e9_bfbb_3cfdfe553c98row5_col1\" class=\"data row5 col1\" >0.417</td>\n",
       "                        <td id=\"T_6ed63708_f554_11e9_bfbb_3cfdfe553c98row5_col2\" class=\"data row5 col2\" >0.467</td>\n",
       "                        <td id=\"T_6ed63708_f554_11e9_bfbb_3cfdfe553c98row5_col3\" class=\"data row5 col3\" >0.111</td>\n",
       "                        <td id=\"T_6ed63708_f554_11e9_bfbb_3cfdfe553c98row5_col4\" class=\"data row5 col4\" >0</td>\n",
       "                        <td id=\"T_6ed63708_f554_11e9_bfbb_3cfdfe553c98row5_col5\" class=\"data row5 col5\" >2860.01</td>\n",
       "            </tr>\n",
       "    </tbody></table>"
      ],
      "text/plain": [
       "<pandas.io.formats.style.Styler at 0x2aee8dad42e8>"
      ]
     },
     "metadata": {},
     "output_type": "display_data"
    },
    {
     "data": {
      "text/html": [
       "<style  type=\"text/css\" >\n",
       "</style><table id=\"T_6ed86640_f554_11e9_bfbb_3cfdfe553c98\" ><thead>    <tr>        <th class=\"col_heading level0 col0\" >std</th>        <th class=\"col_heading level0 col1\" >pipe_0</th>        <th class=\"col_heading level0 col2\" >pipe_1</th>        <th class=\"col_heading level0 col3\" >pipe_2</th>        <th class=\"col_heading level0 col4\" >pipe_3</th>        <th class=\"col_heading level0 col5\" >pipe_4</th>        <th class=\"col_heading level0 col6\" >pipe_5</th>        <th class=\"col_heading level0 col7\" >pipe_6</th>        <th class=\"col_heading level0 col8\" >pipe_7</th>        <th class=\"col_heading level0 col9\" >pipe_8</th>        <th class=\"col_heading level0 col10\" >pipe_9</th>        <th class=\"col_heading level0 col11\" >pipe_10</th>        <th class=\"col_heading level0 col12\" >pipe_11</th>        <th class=\"col_heading level0 col13\" >pipe_12</th>        <th class=\"col_heading level0 col14\" >pipe_13</th>        <th class=\"col_heading level0 col15\" >pipe_14</th>        <th class=\"col_heading level0 col16\" >pipe_15</th>        <th class=\"col_heading level0 col17\" >pipe_16</th>        <th class=\"col_heading level0 col18\" >pipe_17</th>        <th class=\"col_heading level0 col19\" >pipe_18</th>        <th class=\"col_heading level0 col20\" >pipe_19</th>        <th class=\"col_heading level0 col21\" >pipe_20</th>        <th class=\"col_heading level0 col22\" >pipe_21</th>        <th class=\"col_heading level0 col23\" >pipe_22</th>        <th class=\"col_heading level0 col24\" >pipe_23</th>        <th class=\"col_heading level0 col25\" >pipe_24</th>        <th class=\"col_heading level0 col26\" >pipe_25</th>        <th class=\"col_heading level0 col27\" >pipe_26</th>        <th class=\"col_heading level0 col28\" >pipe_27</th>        <th class=\"col_heading level0 col29\" >pipe_28</th>        <th class=\"col_heading level0 col30\" >pipe_29</th>        <th class=\"col_heading level0 col31\" >pipe_30</th>        <th class=\"col_heading level0 col32\" >pipe_31</th>        <th class=\"col_heading level0 col33\" >pipe_32</th>        <th class=\"col_heading level0 col34\" >pipe_33</th>        <th class=\"col_heading level0 col35\" >pipe_34</th>        <th class=\"col_heading level0 col36\" >pipe_35</th>        <th class=\"col_heading level0 col37\" >pipe_36</th>        <th class=\"col_heading level0 col38\" >pipe_37</th>        <th class=\"col_heading level0 col39\" >pipe_38</th>        <th class=\"col_heading level0 col40\" >pipe_39</th>        <th class=\"col_heading level0 col41\" >pipe_40</th>        <th class=\"col_heading level0 col42\" >pipe_41</th>        <th class=\"col_heading level0 col43\" >pipe_42</th>        <th class=\"col_heading level0 col44\" >pipe_43</th>        <th class=\"col_heading level0 col45\" >pipe_44</th>        <th class=\"col_heading level0 col46\" >pipe_45</th>        <th class=\"col_heading level0 col47\" >pipe_46</th>        <th class=\"col_heading level0 col48\" >pipe_47</th>        <th class=\"col_heading level0 col49\" >pipe_48</th>        <th class=\"col_heading level0 col50\" >pipe_49</th>        <th class=\"col_heading level0 col51\" >pipe_50</th>        <th class=\"col_heading level0 col52\" >pipe_51</th>        <th class=\"col_heading level0 col53\" >pipe_52</th>        <th class=\"col_heading level0 col54\" >pipe_53</th>        <th class=\"col_heading level0 col55\" >pipe_54</th>        <th class=\"col_heading level0 col56\" >pipe_55</th>        <th class=\"col_heading level0 col57\" >pipe_56</th>        <th class=\"col_heading level0 col58\" >pipe_57</th>        <th class=\"col_heading level0 col59\" >pipe_58</th>        <th class=\"col_heading level0 col60\" >pipe_59</th>        <th class=\"col_heading level0 col61\" >pipe_60</th>        <th class=\"col_heading level0 col62\" >pipe_61</th>        <th class=\"col_heading level0 col63\" >pipe_62</th>        <th class=\"col_heading level0 col64\" >pipe_63</th>        <th class=\"col_heading level0 col65\" >pipe_64</th>        <th class=\"col_heading level0 col66\" >pipe_65</th>        <th class=\"col_heading level0 col67\" >pipe_66</th>        <th class=\"col_heading level0 col68\" >pipe_67</th>        <th class=\"col_heading level0 col69\" >pipe_68</th>        <th class=\"col_heading level0 col70\" >pipe_69</th>        <th class=\"col_heading level0 col71\" >pipe_70</th>        <th class=\"col_heading level0 col72\" >pipe_71</th>        <th class=\"col_heading level0 col73\" >pipe_72</th>        <th class=\"col_heading level0 col74\" >pipe_73</th>        <th class=\"col_heading level0 col75\" >pipe_74</th>        <th class=\"col_heading level0 col76\" >pipe_75</th>        <th class=\"col_heading level0 col77\" >pipe_76</th>        <th class=\"col_heading level0 col78\" >pipe_77</th>        <th class=\"col_heading level0 col79\" >pipe_78</th>        <th class=\"col_heading level0 col80\" >pipe_79</th>        <th class=\"col_heading level0 col81\" >pipe_80</th>        <th class=\"col_heading level0 col82\" >pipe_81</th>        <th class=\"col_heading level0 col83\" >pipe_82</th>        <th class=\"col_heading level0 col84\" >pipe_83</th>        <th class=\"col_heading level0 col85\" >pipe_84</th>        <th class=\"col_heading level0 col86\" >pipe_85</th>        <th class=\"col_heading level0 col87\" >pipe_86</th>        <th class=\"col_heading level0 col88\" >pipe_87</th>        <th class=\"col_heading level0 col89\" >pipe_88</th>    </tr></thead><tbody>\n",
       "                <tr>\n",
       "                                <td id=\"T_6ed86640_f554_11e9_bfbb_3cfdfe553c98row0_col0\" class=\"data row0 col0\" >0</td>\n",
       "                        <td id=\"T_6ed86640_f554_11e9_bfbb_3cfdfe553c98row0_col1\" class=\"data row0 col1\" >StackedEnsemble_AllModels_AutoML_20191023_020831</td>\n",
       "                        <td id=\"T_6ed86640_f554_11e9_bfbb_3cfdfe553c98row0_col2\" class=\"data row0 col2\" >DeepLearning_grid_1_AutoML_20191023_020831_model_8</td>\n",
       "                        <td id=\"T_6ed86640_f554_11e9_bfbb_3cfdfe553c98row0_col3\" class=\"data row0 col3\" >DeepLearning_grid_1_AutoML_20191023_020831_model_2</td>\n",
       "                        <td id=\"T_6ed86640_f554_11e9_bfbb_3cfdfe553c98row0_col4\" class=\"data row0 col4\" >GBM_grid_1_AutoML_20191023_020831_model_31</td>\n",
       "                        <td id=\"T_6ed86640_f554_11e9_bfbb_3cfdfe553c98row0_col5\" class=\"data row0 col5\" >GBM_grid_1_AutoML_20191023_020831_model_18</td>\n",
       "                        <td id=\"T_6ed86640_f554_11e9_bfbb_3cfdfe553c98row0_col6\" class=\"data row0 col6\" >DeepLearning_grid_1_AutoML_20191023_020831_model_12</td>\n",
       "                        <td id=\"T_6ed86640_f554_11e9_bfbb_3cfdfe553c98row0_col7\" class=\"data row0 col7\" >GBM_grid_1_AutoML_20191023_020831_model_19</td>\n",
       "                        <td id=\"T_6ed86640_f554_11e9_bfbb_3cfdfe553c98row0_col8\" class=\"data row0 col8\" >DeepLearning_grid_1_AutoML_20191023_020831_model_1</td>\n",
       "                        <td id=\"T_6ed86640_f554_11e9_bfbb_3cfdfe553c98row0_col9\" class=\"data row0 col9\" >XGBoost_grid_1_AutoML_20191023_020831_model_13</td>\n",
       "                        <td id=\"T_6ed86640_f554_11e9_bfbb_3cfdfe553c98row0_col10\" class=\"data row0 col10\" >GBM_grid_1_AutoML_20191023_020831_model_15</td>\n",
       "                        <td id=\"T_6ed86640_f554_11e9_bfbb_3cfdfe553c98row0_col11\" class=\"data row0 col11\" >GBM_2_AutoML_20191023_020831</td>\n",
       "                        <td id=\"T_6ed86640_f554_11e9_bfbb_3cfdfe553c98row0_col12\" class=\"data row0 col12\" >GBM_grid_1_AutoML_20191023_020831_model_3</td>\n",
       "                        <td id=\"T_6ed86640_f554_11e9_bfbb_3cfdfe553c98row0_col13\" class=\"data row0 col13\" >GBM_grid_1_AutoML_20191023_020831_model_32</td>\n",
       "                        <td id=\"T_6ed86640_f554_11e9_bfbb_3cfdfe553c98row0_col14\" class=\"data row0 col14\" >GBM_3_AutoML_20191023_020831</td>\n",
       "                        <td id=\"T_6ed86640_f554_11e9_bfbb_3cfdfe553c98row0_col15\" class=\"data row0 col15\" >DeepLearning_grid_1_AutoML_20191023_020831_model_7</td>\n",
       "                        <td id=\"T_6ed86640_f554_11e9_bfbb_3cfdfe553c98row0_col16\" class=\"data row0 col16\" >GBM_grid_1_AutoML_20191023_020831_model_26</td>\n",
       "                        <td id=\"T_6ed86640_f554_11e9_bfbb_3cfdfe553c98row0_col17\" class=\"data row0 col17\" >GBM_grid_1_AutoML_20191023_020831_model_6</td>\n",
       "                        <td id=\"T_6ed86640_f554_11e9_bfbb_3cfdfe553c98row0_col18\" class=\"data row0 col18\" >GBM_grid_1_AutoML_20191023_020831_model_27</td>\n",
       "                        <td id=\"T_6ed86640_f554_11e9_bfbb_3cfdfe553c98row0_col19\" class=\"data row0 col19\" >DeepLearning_grid_1_AutoML_20191023_020831_model_11</td>\n",
       "                        <td id=\"T_6ed86640_f554_11e9_bfbb_3cfdfe553c98row0_col20\" class=\"data row0 col20\" >DeepLearning_grid_1_AutoML_20191023_020831_model_3</td>\n",
       "                        <td id=\"T_6ed86640_f554_11e9_bfbb_3cfdfe553c98row0_col21\" class=\"data row0 col21\" >GBM_grid_1_AutoML_20191023_020831_model_20</td>\n",
       "                        <td id=\"T_6ed86640_f554_11e9_bfbb_3cfdfe553c98row0_col22\" class=\"data row0 col22\" >DeepLearning_grid_1_AutoML_20191023_020831_model_5</td>\n",
       "                        <td id=\"T_6ed86640_f554_11e9_bfbb_3cfdfe553c98row0_col23\" class=\"data row0 col23\" >GBM_5_AutoML_20191023_020831</td>\n",
       "                        <td id=\"T_6ed86640_f554_11e9_bfbb_3cfdfe553c98row0_col24\" class=\"data row0 col24\" >GBM_grid_1_AutoML_20191023_020831_model_12</td>\n",
       "                        <td id=\"T_6ed86640_f554_11e9_bfbb_3cfdfe553c98row0_col25\" class=\"data row0 col25\" >GBM_4_AutoML_20191023_020831</td>\n",
       "                        <td id=\"T_6ed86640_f554_11e9_bfbb_3cfdfe553c98row0_col26\" class=\"data row0 col26\" >GLM_grid_1_AutoML_20191023_020831_model_1</td>\n",
       "                        <td id=\"T_6ed86640_f554_11e9_bfbb_3cfdfe553c98row0_col27\" class=\"data row0 col27\" >GBM_grid_1_AutoML_20191023_020831_model_17</td>\n",
       "                        <td id=\"T_6ed86640_f554_11e9_bfbb_3cfdfe553c98row0_col28\" class=\"data row0 col28\" >XRT_1_AutoML_20191023_020831</td>\n",
       "                        <td id=\"T_6ed86640_f554_11e9_bfbb_3cfdfe553c98row0_col29\" class=\"data row0 col29\" >GBM_grid_1_AutoML_20191023_020831_model_1</td>\n",
       "                        <td id=\"T_6ed86640_f554_11e9_bfbb_3cfdfe553c98row0_col30\" class=\"data row0 col30\" >GBM_grid_1_AutoML_20191023_020831_model_10</td>\n",
       "                        <td id=\"T_6ed86640_f554_11e9_bfbb_3cfdfe553c98row0_col31\" class=\"data row0 col31\" >XGBoost_grid_1_AutoML_20191023_020831_model_8</td>\n",
       "                        <td id=\"T_6ed86640_f554_11e9_bfbb_3cfdfe553c98row0_col32\" class=\"data row0 col32\" >GBM_1_AutoML_20191023_020831</td>\n",
       "                        <td id=\"T_6ed86640_f554_11e9_bfbb_3cfdfe553c98row0_col33\" class=\"data row0 col33\" >GBM_grid_1_AutoML_20191023_020831_model_14</td>\n",
       "                        <td id=\"T_6ed86640_f554_11e9_bfbb_3cfdfe553c98row0_col34\" class=\"data row0 col34\" >GBM_grid_1_AutoML_20191023_020831_model_11</td>\n",
       "                        <td id=\"T_6ed86640_f554_11e9_bfbb_3cfdfe553c98row0_col35\" class=\"data row0 col35\" >GBM_grid_1_AutoML_20191023_020831_model_16</td>\n",
       "                        <td id=\"T_6ed86640_f554_11e9_bfbb_3cfdfe553c98row0_col36\" class=\"data row0 col36\" >GBM_grid_1_AutoML_20191023_020831_model_24</td>\n",
       "                        <td id=\"T_6ed86640_f554_11e9_bfbb_3cfdfe553c98row0_col37\" class=\"data row0 col37\" >DRF_1_AutoML_20191023_020831</td>\n",
       "                        <td id=\"T_6ed86640_f554_11e9_bfbb_3cfdfe553c98row0_col38\" class=\"data row0 col38\" >XGBoost_grid_1_AutoML_20191023_020831_model_17</td>\n",
       "                        <td id=\"T_6ed86640_f554_11e9_bfbb_3cfdfe553c98row0_col39\" class=\"data row0 col39\" >GBM_grid_1_AutoML_20191023_020831_model_13</td>\n",
       "                        <td id=\"T_6ed86640_f554_11e9_bfbb_3cfdfe553c98row0_col40\" class=\"data row0 col40\" >XGBoost_3_AutoML_20191023_020831</td>\n",
       "                        <td id=\"T_6ed86640_f554_11e9_bfbb_3cfdfe553c98row0_col41\" class=\"data row0 col41\" >XGBoost_1_AutoML_20191023_020831</td>\n",
       "                        <td id=\"T_6ed86640_f554_11e9_bfbb_3cfdfe553c98row0_col42\" class=\"data row0 col42\" >XGBoost_grid_1_AutoML_20191023_020831_model_25</td>\n",
       "                        <td id=\"T_6ed86640_f554_11e9_bfbb_3cfdfe553c98row0_col43\" class=\"data row0 col43\" >XGBoost_grid_1_AutoML_20191023_020831_model_21</td>\n",
       "                        <td id=\"T_6ed86640_f554_11e9_bfbb_3cfdfe553c98row0_col44\" class=\"data row0 col44\" >DeepLearning_grid_1_AutoML_20191023_020831_model_6</td>\n",
       "                        <td id=\"T_6ed86640_f554_11e9_bfbb_3cfdfe553c98row0_col45\" class=\"data row0 col45\" >XGBoost_grid_1_AutoML_20191023_020831_model_18</td>\n",
       "                        <td id=\"T_6ed86640_f554_11e9_bfbb_3cfdfe553c98row0_col46\" class=\"data row0 col46\" >DeepLearning_grid_1_AutoML_20191023_020831_model_4</td>\n",
       "                        <td id=\"T_6ed86640_f554_11e9_bfbb_3cfdfe553c98row0_col47\" class=\"data row0 col47\" >XGBoost_grid_1_AutoML_20191023_020831_model_15</td>\n",
       "                        <td id=\"T_6ed86640_f554_11e9_bfbb_3cfdfe553c98row0_col48\" class=\"data row0 col48\" >DeepLearning_grid_1_AutoML_20191023_020831_model_9</td>\n",
       "                        <td id=\"T_6ed86640_f554_11e9_bfbb_3cfdfe553c98row0_col49\" class=\"data row0 col49\" >GBM_grid_1_AutoML_20191023_020831_model_8</td>\n",
       "                        <td id=\"T_6ed86640_f554_11e9_bfbb_3cfdfe553c98row0_col50\" class=\"data row0 col50\" >XGBoost_grid_1_AutoML_20191023_020831_model_26</td>\n",
       "                        <td id=\"T_6ed86640_f554_11e9_bfbb_3cfdfe553c98row0_col51\" class=\"data row0 col51\" >GBM_grid_1_AutoML_20191023_020831_model_9</td>\n",
       "                        <td id=\"T_6ed86640_f554_11e9_bfbb_3cfdfe553c98row0_col52\" class=\"data row0 col52\" >XGBoost_grid_1_AutoML_20191023_020831_model_20</td>\n",
       "                        <td id=\"T_6ed86640_f554_11e9_bfbb_3cfdfe553c98row0_col53\" class=\"data row0 col53\" >XGBoost_grid_1_AutoML_20191023_020831_model_4</td>\n",
       "                        <td id=\"T_6ed86640_f554_11e9_bfbb_3cfdfe553c98row0_col54\" class=\"data row0 col54\" >XGBoost_grid_1_AutoML_20191023_020831_model_2</td>\n",
       "                        <td id=\"T_6ed86640_f554_11e9_bfbb_3cfdfe553c98row0_col55\" class=\"data row0 col55\" >DeepLearning_grid_1_AutoML_20191023_020831_model_13</td>\n",
       "                        <td id=\"T_6ed86640_f554_11e9_bfbb_3cfdfe553c98row0_col56\" class=\"data row0 col56\" >GBM_grid_1_AutoML_20191023_020831_model_29</td>\n",
       "                        <td id=\"T_6ed86640_f554_11e9_bfbb_3cfdfe553c98row0_col57\" class=\"data row0 col57\" >GBM_grid_1_AutoML_20191023_020831_model_28</td>\n",
       "                        <td id=\"T_6ed86640_f554_11e9_bfbb_3cfdfe553c98row0_col58\" class=\"data row0 col58\" >XGBoost_grid_1_AutoML_20191023_020831_model_3</td>\n",
       "                        <td id=\"T_6ed86640_f554_11e9_bfbb_3cfdfe553c98row0_col59\" class=\"data row0 col59\" >XGBoost_grid_1_AutoML_20191023_020831_model_23</td>\n",
       "                        <td id=\"T_6ed86640_f554_11e9_bfbb_3cfdfe553c98row0_col60\" class=\"data row0 col60\" >XGBoost_grid_1_AutoML_20191023_020831_model_7</td>\n",
       "                        <td id=\"T_6ed86640_f554_11e9_bfbb_3cfdfe553c98row0_col61\" class=\"data row0 col61\" >XGBoost_grid_1_AutoML_20191023_020831_model_19</td>\n",
       "                        <td id=\"T_6ed86640_f554_11e9_bfbb_3cfdfe553c98row0_col62\" class=\"data row0 col62\" >GBM_grid_1_AutoML_20191023_020831_model_25</td>\n",
       "                        <td id=\"T_6ed86640_f554_11e9_bfbb_3cfdfe553c98row0_col63\" class=\"data row0 col63\" >GBM_grid_1_AutoML_20191023_020831_model_21</td>\n",
       "                        <td id=\"T_6ed86640_f554_11e9_bfbb_3cfdfe553c98row0_col64\" class=\"data row0 col64\" >XGBoost_grid_1_AutoML_20191023_020831_model_27</td>\n",
       "                        <td id=\"T_6ed86640_f554_11e9_bfbb_3cfdfe553c98row0_col65\" class=\"data row0 col65\" >XGBoost_2_AutoML_20191023_020831</td>\n",
       "                        <td id=\"T_6ed86640_f554_11e9_bfbb_3cfdfe553c98row0_col66\" class=\"data row0 col66\" >GBM_grid_1_AutoML_20191023_020831_model_30</td>\n",
       "                        <td id=\"T_6ed86640_f554_11e9_bfbb_3cfdfe553c98row0_col67\" class=\"data row0 col67\" >GBM_grid_1_AutoML_20191023_020831_model_7</td>\n",
       "                        <td id=\"T_6ed86640_f554_11e9_bfbb_3cfdfe553c98row0_col68\" class=\"data row0 col68\" >GBM_grid_1_AutoML_20191023_020831_model_23</td>\n",
       "                        <td id=\"T_6ed86640_f554_11e9_bfbb_3cfdfe553c98row0_col69\" class=\"data row0 col69\" >DeepLearning_grid_1_AutoML_20191023_020831_model_10</td>\n",
       "                        <td id=\"T_6ed86640_f554_11e9_bfbb_3cfdfe553c98row0_col70\" class=\"data row0 col70\" >XGBoost_grid_1_AutoML_20191023_020831_model_5</td>\n",
       "                        <td id=\"T_6ed86640_f554_11e9_bfbb_3cfdfe553c98row0_col71\" class=\"data row0 col71\" >XGBoost_grid_1_AutoML_20191023_020831_model_22</td>\n",
       "                        <td id=\"T_6ed86640_f554_11e9_bfbb_3cfdfe553c98row0_col72\" class=\"data row0 col72\" >XGBoost_grid_1_AutoML_20191023_020831_model_12</td>\n",
       "                        <td id=\"T_6ed86640_f554_11e9_bfbb_3cfdfe553c98row0_col73\" class=\"data row0 col73\" >GBM_grid_1_AutoML_20191023_020831_model_5</td>\n",
       "                        <td id=\"T_6ed86640_f554_11e9_bfbb_3cfdfe553c98row0_col74\" class=\"data row0 col74\" >XGBoost_grid_1_AutoML_20191023_020831_model_11</td>\n",
       "                        <td id=\"T_6ed86640_f554_11e9_bfbb_3cfdfe553c98row0_col75\" class=\"data row0 col75\" >XGBoost_grid_1_AutoML_20191023_020831_model_6</td>\n",
       "                        <td id=\"T_6ed86640_f554_11e9_bfbb_3cfdfe553c98row0_col76\" class=\"data row0 col76\" >XGBoost_grid_1_AutoML_20191023_020831_model_1</td>\n",
       "                        <td id=\"T_6ed86640_f554_11e9_bfbb_3cfdfe553c98row0_col77\" class=\"data row0 col77\" >XGBoost_grid_1_AutoML_20191023_020831_model_14</td>\n",
       "                        <td id=\"T_6ed86640_f554_11e9_bfbb_3cfdfe553c98row0_col78\" class=\"data row0 col78\" >XGBoost_grid_1_AutoML_20191023_020831_model_24</td>\n",
       "                        <td id=\"T_6ed86640_f554_11e9_bfbb_3cfdfe553c98row0_col79\" class=\"data row0 col79\" >GBM_grid_1_AutoML_20191023_020831_model_33</td>\n",
       "                        <td id=\"T_6ed86640_f554_11e9_bfbb_3cfdfe553c98row0_col80\" class=\"data row0 col80\" >XGBoost_grid_1_AutoML_20191023_020831_model_10</td>\n",
       "                        <td id=\"T_6ed86640_f554_11e9_bfbb_3cfdfe553c98row0_col81\" class=\"data row0 col81\" >GBM_grid_1_AutoML_20191023_020831_model_4</td>\n",
       "                        <td id=\"T_6ed86640_f554_11e9_bfbb_3cfdfe553c98row0_col82\" class=\"data row0 col82\" >GBM_grid_1_AutoML_20191023_020831_model_35</td>\n",
       "                        <td id=\"T_6ed86640_f554_11e9_bfbb_3cfdfe553c98row0_col83\" class=\"data row0 col83\" >XGBoost_grid_1_AutoML_20191023_020831_model_16</td>\n",
       "                        <td id=\"T_6ed86640_f554_11e9_bfbb_3cfdfe553c98row0_col84\" class=\"data row0 col84\" >XGBoost_grid_1_AutoML_20191023_020831_model_9</td>\n",
       "                        <td id=\"T_6ed86640_f554_11e9_bfbb_3cfdfe553c98row0_col85\" class=\"data row0 col85\" >GBM_grid_1_AutoML_20191023_020831_model_34</td>\n",
       "                        <td id=\"T_6ed86640_f554_11e9_bfbb_3cfdfe553c98row0_col86\" class=\"data row0 col86\" >GBM_grid_1_AutoML_20191023_020831_model_2</td>\n",
       "                        <td id=\"T_6ed86640_f554_11e9_bfbb_3cfdfe553c98row0_col87\" class=\"data row0 col87\" >DeepLearning_1_AutoML_20191023_020831</td>\n",
       "                        <td id=\"T_6ed86640_f554_11e9_bfbb_3cfdfe553c98row0_col88\" class=\"data row0 col88\" >GBM_grid_1_AutoML_20191023_020831_model_36</td>\n",
       "                        <td id=\"T_6ed86640_f554_11e9_bfbb_3cfdfe553c98row0_col89\" class=\"data row0 col89\" >GBM_grid_1_AutoML_20191023_020831_model_22</td>\n",
       "            </tr>\n",
       "            <tr>\n",
       "                                <td id=\"T_6ed86640_f554_11e9_bfbb_3cfdfe553c98row1_col0\" class=\"data row1 col0\" >3.2</td>\n",
       "                        <td id=\"T_6ed86640_f554_11e9_bfbb_3cfdfe553c98row1_col1\" class=\"data row1 col1\" >StackedEnsemble_AllModels_AutoML_20191023_020831</td>\n",
       "                        <td id=\"T_6ed86640_f554_11e9_bfbb_3cfdfe553c98row1_col2\" class=\"data row1 col2\" >DeepLearning_grid_1_AutoML_20191023_020831_model_2</td>\n",
       "                        <td id=\"T_6ed86640_f554_11e9_bfbb_3cfdfe553c98row1_col3\" class=\"data row1 col3\" >DeepLearning_grid_1_AutoML_20191023_020831_model_8</td>\n",
       "                        <td id=\"T_6ed86640_f554_11e9_bfbb_3cfdfe553c98row1_col4\" class=\"data row1 col4\" >DeepLearning_grid_1_AutoML_20191023_020831_model_12</td>\n",
       "                        <td id=\"T_6ed86640_f554_11e9_bfbb_3cfdfe553c98row1_col5\" class=\"data row1 col5\" >DeepLearning_grid_1_AutoML_20191023_020831_model_7</td>\n",
       "                        <td id=\"T_6ed86640_f554_11e9_bfbb_3cfdfe553c98row1_col6\" class=\"data row1 col6\" >DeepLearning_grid_1_AutoML_20191023_020831_model_1</td>\n",
       "                        <td id=\"T_6ed86640_f554_11e9_bfbb_3cfdfe553c98row1_col7\" class=\"data row1 col7\" >DeepLearning_grid_1_AutoML_20191023_020831_model_11</td>\n",
       "                        <td id=\"T_6ed86640_f554_11e9_bfbb_3cfdfe553c98row1_col8\" class=\"data row1 col8\" >DeepLearning_grid_1_AutoML_20191023_020831_model_3</td>\n",
       "                        <td id=\"T_6ed86640_f554_11e9_bfbb_3cfdfe553c98row1_col9\" class=\"data row1 col9\" >GBM_2_AutoML_20191023_020831</td>\n",
       "                        <td id=\"T_6ed86640_f554_11e9_bfbb_3cfdfe553c98row1_col10\" class=\"data row1 col10\" >DeepLearning_grid_1_AutoML_20191023_020831_model_5</td>\n",
       "                        <td id=\"T_6ed86640_f554_11e9_bfbb_3cfdfe553c98row1_col11\" class=\"data row1 col11\" >GBM_grid_1_AutoML_20191023_020831_model_20</td>\n",
       "                        <td id=\"T_6ed86640_f554_11e9_bfbb_3cfdfe553c98row1_col12\" class=\"data row1 col12\" >GBM_grid_1_AutoML_20191023_020831_model_14</td>\n",
       "                        <td id=\"T_6ed86640_f554_11e9_bfbb_3cfdfe553c98row1_col13\" class=\"data row1 col13\" >XGBoost_1_AutoML_20191023_020831</td>\n",
       "                        <td id=\"T_6ed86640_f554_11e9_bfbb_3cfdfe553c98row1_col14\" class=\"data row1 col14\" >DeepLearning_grid_1_AutoML_20191023_020831_model_6</td>\n",
       "                        <td id=\"T_6ed86640_f554_11e9_bfbb_3cfdfe553c98row1_col15\" class=\"data row1 col15\" >GBM_3_AutoML_20191023_020831</td>\n",
       "                        <td id=\"T_6ed86640_f554_11e9_bfbb_3cfdfe553c98row1_col16\" class=\"data row1 col16\" >GBM_grid_1_AutoML_20191023_020831_model_19</td>\n",
       "                        <td id=\"T_6ed86640_f554_11e9_bfbb_3cfdfe553c98row1_col17\" class=\"data row1 col17\" >GBM_4_AutoML_20191023_020831</td>\n",
       "                        <td id=\"T_6ed86640_f554_11e9_bfbb_3cfdfe553c98row1_col18\" class=\"data row1 col18\" >GLM_grid_1_AutoML_20191023_020831_model_1</td>\n",
       "                        <td id=\"T_6ed86640_f554_11e9_bfbb_3cfdfe553c98row1_col19\" class=\"data row1 col19\" >GBM_grid_1_AutoML_20191023_020831_model_1</td>\n",
       "                        <td id=\"T_6ed86640_f554_11e9_bfbb_3cfdfe553c98row1_col20\" class=\"data row1 col20\" >GBM_grid_1_AutoML_20191023_020831_model_15</td>\n",
       "                        <td id=\"T_6ed86640_f554_11e9_bfbb_3cfdfe553c98row1_col21\" class=\"data row1 col21\" >DRF_1_AutoML_20191023_020831</td>\n",
       "                        <td id=\"T_6ed86640_f554_11e9_bfbb_3cfdfe553c98row1_col22\" class=\"data row1 col22\" >XGBoost_3_AutoML_20191023_020831</td>\n",
       "                        <td id=\"T_6ed86640_f554_11e9_bfbb_3cfdfe553c98row1_col23\" class=\"data row1 col23\" >XGBoost_grid_1_AutoML_20191023_020831_model_21</td>\n",
       "                        <td id=\"T_6ed86640_f554_11e9_bfbb_3cfdfe553c98row1_col24\" class=\"data row1 col24\" >XGBoost_grid_1_AutoML_20191023_020831_model_13</td>\n",
       "                        <td id=\"T_6ed86640_f554_11e9_bfbb_3cfdfe553c98row1_col25\" class=\"data row1 col25\" >DeepLearning_grid_1_AutoML_20191023_020831_model_4</td>\n",
       "                        <td id=\"T_6ed86640_f554_11e9_bfbb_3cfdfe553c98row1_col26\" class=\"data row1 col26\" >GBM_grid_1_AutoML_20191023_020831_model_17</td>\n",
       "                        <td id=\"T_6ed86640_f554_11e9_bfbb_3cfdfe553c98row1_col27\" class=\"data row1 col27\" >XRT_1_AutoML_20191023_020831</td>\n",
       "                        <td id=\"T_6ed86640_f554_11e9_bfbb_3cfdfe553c98row1_col28\" class=\"data row1 col28\" >GBM_grid_1_AutoML_20191023_020831_model_8</td>\n",
       "                        <td id=\"T_6ed86640_f554_11e9_bfbb_3cfdfe553c98row1_col29\" class=\"data row1 col29\" >XGBoost_grid_1_AutoML_20191023_020831_model_18</td>\n",
       "                        <td id=\"T_6ed86640_f554_11e9_bfbb_3cfdfe553c98row1_col30\" class=\"data row1 col30\" >GBM_grid_1_AutoML_20191023_020831_model_12</td>\n",
       "                        <td id=\"T_6ed86640_f554_11e9_bfbb_3cfdfe553c98row1_col31\" class=\"data row1 col31\" >XGBoost_grid_1_AutoML_20191023_020831_model_8</td>\n",
       "                        <td id=\"T_6ed86640_f554_11e9_bfbb_3cfdfe553c98row1_col32\" class=\"data row1 col32\" >GBM_grid_1_AutoML_20191023_020831_model_3</td>\n",
       "                        <td id=\"T_6ed86640_f554_11e9_bfbb_3cfdfe553c98row1_col33\" class=\"data row1 col33\" >GBM_5_AutoML_20191023_020831</td>\n",
       "                        <td id=\"T_6ed86640_f554_11e9_bfbb_3cfdfe553c98row1_col34\" class=\"data row1 col34\" >GBM_grid_1_AutoML_20191023_020831_model_18</td>\n",
       "                        <td id=\"T_6ed86640_f554_11e9_bfbb_3cfdfe553c98row1_col35\" class=\"data row1 col35\" >GBM_grid_1_AutoML_20191023_020831_model_16</td>\n",
       "                        <td id=\"T_6ed86640_f554_11e9_bfbb_3cfdfe553c98row1_col36\" class=\"data row1 col36\" >GBM_grid_1_AutoML_20191023_020831_model_6</td>\n",
       "                        <td id=\"T_6ed86640_f554_11e9_bfbb_3cfdfe553c98row1_col37\" class=\"data row1 col37\" >GBM_grid_1_AutoML_20191023_020831_model_21</td>\n",
       "                        <td id=\"T_6ed86640_f554_11e9_bfbb_3cfdfe553c98row1_col38\" class=\"data row1 col38\" >XGBoost_grid_1_AutoML_20191023_020831_model_17</td>\n",
       "                        <td id=\"T_6ed86640_f554_11e9_bfbb_3cfdfe553c98row1_col39\" class=\"data row1 col39\" >XGBoost_grid_1_AutoML_20191023_020831_model_20</td>\n",
       "                        <td id=\"T_6ed86640_f554_11e9_bfbb_3cfdfe553c98row1_col40\" class=\"data row1 col40\" >DeepLearning_grid_1_AutoML_20191023_020831_model_13</td>\n",
       "                        <td id=\"T_6ed86640_f554_11e9_bfbb_3cfdfe553c98row1_col41\" class=\"data row1 col41\" >XGBoost_grid_1_AutoML_20191023_020831_model_7</td>\n",
       "                        <td id=\"T_6ed86640_f554_11e9_bfbb_3cfdfe553c98row1_col42\" class=\"data row1 col42\" >XGBoost_grid_1_AutoML_20191023_020831_model_3</td>\n",
       "                        <td id=\"T_6ed86640_f554_11e9_bfbb_3cfdfe553c98row1_col43\" class=\"data row1 col43\" >XGBoost_grid_1_AutoML_20191023_020831_model_15</td>\n",
       "                        <td id=\"T_6ed86640_f554_11e9_bfbb_3cfdfe553c98row1_col44\" class=\"data row1 col44\" >XGBoost_2_AutoML_20191023_020831</td>\n",
       "                        <td id=\"T_6ed86640_f554_11e9_bfbb_3cfdfe553c98row1_col45\" class=\"data row1 col45\" >GBM_grid_1_AutoML_20191023_020831_model_11</td>\n",
       "                        <td id=\"T_6ed86640_f554_11e9_bfbb_3cfdfe553c98row1_col46\" class=\"data row1 col46\" >GBM_1_AutoML_20191023_020831</td>\n",
       "                        <td id=\"T_6ed86640_f554_11e9_bfbb_3cfdfe553c98row1_col47\" class=\"data row1 col47\" >DeepLearning_grid_1_AutoML_20191023_020831_model_9</td>\n",
       "                        <td id=\"T_6ed86640_f554_11e9_bfbb_3cfdfe553c98row1_col48\" class=\"data row1 col48\" >GBM_grid_1_AutoML_20191023_020831_model_10</td>\n",
       "                        <td id=\"T_6ed86640_f554_11e9_bfbb_3cfdfe553c98row1_col49\" class=\"data row1 col49\" >GBM_grid_1_AutoML_20191023_020831_model_13</td>\n",
       "                        <td id=\"T_6ed86640_f554_11e9_bfbb_3cfdfe553c98row1_col50\" class=\"data row1 col50\" >XGBoost_grid_1_AutoML_20191023_020831_model_1</td>\n",
       "                        <td id=\"T_6ed86640_f554_11e9_bfbb_3cfdfe553c98row1_col51\" class=\"data row1 col51\" >XGBoost_grid_1_AutoML_20191023_020831_model_2</td>\n",
       "                        <td id=\"T_6ed86640_f554_11e9_bfbb_3cfdfe553c98row1_col52\" class=\"data row1 col52\" >XGBoost_grid_1_AutoML_20191023_020831_model_19</td>\n",
       "                        <td id=\"T_6ed86640_f554_11e9_bfbb_3cfdfe553c98row1_col53\" class=\"data row1 col53\" >GBM_grid_1_AutoML_20191023_020831_model_7</td>\n",
       "                        <td id=\"T_6ed86640_f554_11e9_bfbb_3cfdfe553c98row1_col54\" class=\"data row1 col54\" >XGBoost_grid_1_AutoML_20191023_020831_model_5</td>\n",
       "                        <td id=\"T_6ed86640_f554_11e9_bfbb_3cfdfe553c98row1_col55\" class=\"data row1 col55\" >XGBoost_grid_1_AutoML_20191023_020831_model_4</td>\n",
       "                        <td id=\"T_6ed86640_f554_11e9_bfbb_3cfdfe553c98row1_col56\" class=\"data row1 col56\" >XGBoost_grid_1_AutoML_20191023_020831_model_12</td>\n",
       "                        <td id=\"T_6ed86640_f554_11e9_bfbb_3cfdfe553c98row1_col57\" class=\"data row1 col57\" >GBM_grid_1_AutoML_20191023_020831_model_9</td>\n",
       "                        <td id=\"T_6ed86640_f554_11e9_bfbb_3cfdfe553c98row1_col58\" class=\"data row1 col58\" >DeepLearning_grid_1_AutoML_20191023_020831_model_10</td>\n",
       "                        <td id=\"T_6ed86640_f554_11e9_bfbb_3cfdfe553c98row1_col59\" class=\"data row1 col59\" >GBM_grid_1_AutoML_20191023_020831_model_24</td>\n",
       "                        <td id=\"T_6ed86640_f554_11e9_bfbb_3cfdfe553c98row1_col60\" class=\"data row1 col60\" >XGBoost_grid_1_AutoML_20191023_020831_model_14</td>\n",
       "                        <td id=\"T_6ed86640_f554_11e9_bfbb_3cfdfe553c98row1_col61\" class=\"data row1 col61\" >XGBoost_grid_1_AutoML_20191023_020831_model_10</td>\n",
       "                        <td id=\"T_6ed86640_f554_11e9_bfbb_3cfdfe553c98row1_col62\" class=\"data row1 col62\" >GBM_grid_1_AutoML_20191023_020831_model_23</td>\n",
       "                        <td id=\"T_6ed86640_f554_11e9_bfbb_3cfdfe553c98row1_col63\" class=\"data row1 col63\" >GBM_grid_1_AutoML_20191023_020831_model_26</td>\n",
       "                        <td id=\"T_6ed86640_f554_11e9_bfbb_3cfdfe553c98row1_col64\" class=\"data row1 col64\" >XGBoost_grid_1_AutoML_20191023_020831_model_6</td>\n",
       "                        <td id=\"T_6ed86640_f554_11e9_bfbb_3cfdfe553c98row1_col65\" class=\"data row1 col65\" >GBM_grid_1_AutoML_20191023_020831_model_4</td>\n",
       "                        <td id=\"T_6ed86640_f554_11e9_bfbb_3cfdfe553c98row1_col66\" class=\"data row1 col66\" >XGBoost_grid_1_AutoML_20191023_020831_model_11</td>\n",
       "                        <td id=\"T_6ed86640_f554_11e9_bfbb_3cfdfe553c98row1_col67\" class=\"data row1 col67\" >XGBoost_grid_1_AutoML_20191023_020831_model_16</td>\n",
       "                        <td id=\"T_6ed86640_f554_11e9_bfbb_3cfdfe553c98row1_col68\" class=\"data row1 col68\" >XGBoost_grid_1_AutoML_20191023_020831_model_22</td>\n",
       "                        <td id=\"T_6ed86640_f554_11e9_bfbb_3cfdfe553c98row1_col69\" class=\"data row1 col69\" >XGBoost_grid_1_AutoML_20191023_020831_model_9</td>\n",
       "                        <td id=\"T_6ed86640_f554_11e9_bfbb_3cfdfe553c98row1_col70\" class=\"data row1 col70\" >GBM_grid_1_AutoML_20191023_020831_model_2</td>\n",
       "                        <td id=\"T_6ed86640_f554_11e9_bfbb_3cfdfe553c98row1_col71\" class=\"data row1 col71\" >GBM_grid_1_AutoML_20191023_020831_model_25</td>\n",
       "                        <td id=\"T_6ed86640_f554_11e9_bfbb_3cfdfe553c98row1_col72\" class=\"data row1 col72\" >DeepLearning_1_AutoML_20191023_020831</td>\n",
       "                        <td id=\"T_6ed86640_f554_11e9_bfbb_3cfdfe553c98row1_col73\" class=\"data row1 col73\" >GBM_grid_1_AutoML_20191023_020831_model_27</td>\n",
       "                        <td id=\"T_6ed86640_f554_11e9_bfbb_3cfdfe553c98row1_col74\" class=\"data row1 col74\" >GBM_grid_1_AutoML_20191023_020831_model_22</td>\n",
       "                        <td id=\"T_6ed86640_f554_11e9_bfbb_3cfdfe553c98row1_col75\" class=\"data row1 col75\" >XGBoost_grid_1_AutoML_20191023_020831_model_23</td>\n",
       "                        <td id=\"T_6ed86640_f554_11e9_bfbb_3cfdfe553c98row1_col76\" class=\"data row1 col76\" >GBM_grid_1_AutoML_20191023_020831_model_5</td>\n",
       "                        <td id=\"T_6ed86640_f554_11e9_bfbb_3cfdfe553c98row1_col77\" class=\"data row1 col77\" >GBM_grid_1_AutoML_20191023_020831_model_28</td>\n",
       "                        <td id=\"T_6ed86640_f554_11e9_bfbb_3cfdfe553c98row1_col78\" class=\"data row1 col78\" >nan</td>\n",
       "                        <td id=\"T_6ed86640_f554_11e9_bfbb_3cfdfe553c98row1_col79\" class=\"data row1 col79\" >nan</td>\n",
       "                        <td id=\"T_6ed86640_f554_11e9_bfbb_3cfdfe553c98row1_col80\" class=\"data row1 col80\" >nan</td>\n",
       "                        <td id=\"T_6ed86640_f554_11e9_bfbb_3cfdfe553c98row1_col81\" class=\"data row1 col81\" >nan</td>\n",
       "                        <td id=\"T_6ed86640_f554_11e9_bfbb_3cfdfe553c98row1_col82\" class=\"data row1 col82\" >nan</td>\n",
       "                        <td id=\"T_6ed86640_f554_11e9_bfbb_3cfdfe553c98row1_col83\" class=\"data row1 col83\" >nan</td>\n",
       "                        <td id=\"T_6ed86640_f554_11e9_bfbb_3cfdfe553c98row1_col84\" class=\"data row1 col84\" >nan</td>\n",
       "                        <td id=\"T_6ed86640_f554_11e9_bfbb_3cfdfe553c98row1_col85\" class=\"data row1 col85\" >nan</td>\n",
       "                        <td id=\"T_6ed86640_f554_11e9_bfbb_3cfdfe553c98row1_col86\" class=\"data row1 col86\" >nan</td>\n",
       "                        <td id=\"T_6ed86640_f554_11e9_bfbb_3cfdfe553c98row1_col87\" class=\"data row1 col87\" >nan</td>\n",
       "                        <td id=\"T_6ed86640_f554_11e9_bfbb_3cfdfe553c98row1_col88\" class=\"data row1 col88\" >nan</td>\n",
       "                        <td id=\"T_6ed86640_f554_11e9_bfbb_3cfdfe553c98row1_col89\" class=\"data row1 col89\" >nan</td>\n",
       "            </tr>\n",
       "            <tr>\n",
       "                                <td id=\"T_6ed86640_f554_11e9_bfbb_3cfdfe553c98row2_col0\" class=\"data row2 col0\" >6.4</td>\n",
       "                        <td id=\"T_6ed86640_f554_11e9_bfbb_3cfdfe553c98row2_col1\" class=\"data row2 col1\" >StackedEnsemble_AllModels_AutoML_20191023_020831</td>\n",
       "                        <td id=\"T_6ed86640_f554_11e9_bfbb_3cfdfe553c98row2_col2\" class=\"data row2 col2\" >DeepLearning_grid_1_AutoML_20191023_020831_model_8</td>\n",
       "                        <td id=\"T_6ed86640_f554_11e9_bfbb_3cfdfe553c98row2_col3\" class=\"data row2 col3\" >DeepLearning_grid_1_AutoML_20191023_020831_model_2</td>\n",
       "                        <td id=\"T_6ed86640_f554_11e9_bfbb_3cfdfe553c98row2_col4\" class=\"data row2 col4\" >DeepLearning_grid_1_AutoML_20191023_020831_model_12</td>\n",
       "                        <td id=\"T_6ed86640_f554_11e9_bfbb_3cfdfe553c98row2_col5\" class=\"data row2 col5\" >DeepLearning_grid_1_AutoML_20191023_020831_model_7</td>\n",
       "                        <td id=\"T_6ed86640_f554_11e9_bfbb_3cfdfe553c98row2_col6\" class=\"data row2 col6\" >DeepLearning_grid_1_AutoML_20191023_020831_model_3</td>\n",
       "                        <td id=\"T_6ed86640_f554_11e9_bfbb_3cfdfe553c98row2_col7\" class=\"data row2 col7\" >GLM_grid_1_AutoML_20191023_020831_model_1</td>\n",
       "                        <td id=\"T_6ed86640_f554_11e9_bfbb_3cfdfe553c98row2_col8\" class=\"data row2 col8\" >DeepLearning_grid_1_AutoML_20191023_020831_model_1</td>\n",
       "                        <td id=\"T_6ed86640_f554_11e9_bfbb_3cfdfe553c98row2_col9\" class=\"data row2 col9\" >DeepLearning_grid_1_AutoML_20191023_020831_model_11</td>\n",
       "                        <td id=\"T_6ed86640_f554_11e9_bfbb_3cfdfe553c98row2_col10\" class=\"data row2 col10\" >XGBoost_1_AutoML_20191023_020831</td>\n",
       "                        <td id=\"T_6ed86640_f554_11e9_bfbb_3cfdfe553c98row2_col11\" class=\"data row2 col11\" >GBM_grid_1_AutoML_20191023_020831_model_19</td>\n",
       "                        <td id=\"T_6ed86640_f554_11e9_bfbb_3cfdfe553c98row2_col12\" class=\"data row2 col12\" >GBM_grid_1_AutoML_20191023_020831_model_14</td>\n",
       "                        <td id=\"T_6ed86640_f554_11e9_bfbb_3cfdfe553c98row2_col13\" class=\"data row2 col13\" >GBM_grid_1_AutoML_20191023_020831_model_8</td>\n",
       "                        <td id=\"T_6ed86640_f554_11e9_bfbb_3cfdfe553c98row2_col14\" class=\"data row2 col14\" >XGBoost_grid_1_AutoML_20191023_020831_model_18</td>\n",
       "                        <td id=\"T_6ed86640_f554_11e9_bfbb_3cfdfe553c98row2_col15\" class=\"data row2 col15\" >XGBoost_grid_1_AutoML_20191023_020831_model_2</td>\n",
       "                        <td id=\"T_6ed86640_f554_11e9_bfbb_3cfdfe553c98row2_col16\" class=\"data row2 col16\" >XGBoost_grid_1_AutoML_20191023_020831_model_4</td>\n",
       "                        <td id=\"T_6ed86640_f554_11e9_bfbb_3cfdfe553c98row2_col17\" class=\"data row2 col17\" >DeepLearning_grid_1_AutoML_20191023_020831_model_6</td>\n",
       "                        <td id=\"T_6ed86640_f554_11e9_bfbb_3cfdfe553c98row2_col18\" class=\"data row2 col18\" >GBM_grid_1_AutoML_20191023_020831_model_20</td>\n",
       "                        <td id=\"T_6ed86640_f554_11e9_bfbb_3cfdfe553c98row2_col19\" class=\"data row2 col19\" >XGBoost_grid_1_AutoML_20191023_020831_model_13</td>\n",
       "                        <td id=\"T_6ed86640_f554_11e9_bfbb_3cfdfe553c98row2_col20\" class=\"data row2 col20\" >XGBoost_grid_1_AutoML_20191023_020831_model_8</td>\n",
       "                        <td id=\"T_6ed86640_f554_11e9_bfbb_3cfdfe553c98row2_col21\" class=\"data row2 col21\" >DeepLearning_grid_1_AutoML_20191023_020831_model_4</td>\n",
       "                        <td id=\"T_6ed86640_f554_11e9_bfbb_3cfdfe553c98row2_col22\" class=\"data row2 col22\" >XGBoost_grid_1_AutoML_20191023_020831_model_17</td>\n",
       "                        <td id=\"T_6ed86640_f554_11e9_bfbb_3cfdfe553c98row2_col23\" class=\"data row2 col23\" >XGBoost_3_AutoML_20191023_020831</td>\n",
       "                        <td id=\"T_6ed86640_f554_11e9_bfbb_3cfdfe553c98row2_col24\" class=\"data row2 col24\" >XGBoost_grid_1_AutoML_20191023_020831_model_15</td>\n",
       "                        <td id=\"T_6ed86640_f554_11e9_bfbb_3cfdfe553c98row2_col25\" class=\"data row2 col25\" >XGBoost_grid_1_AutoML_20191023_020831_model_7</td>\n",
       "                        <td id=\"T_6ed86640_f554_11e9_bfbb_3cfdfe553c98row2_col26\" class=\"data row2 col26\" >XGBoost_grid_1_AutoML_20191023_020831_model_5</td>\n",
       "                        <td id=\"T_6ed86640_f554_11e9_bfbb_3cfdfe553c98row2_col27\" class=\"data row2 col27\" >DeepLearning_grid_1_AutoML_20191023_020831_model_5</td>\n",
       "                        <td id=\"T_6ed86640_f554_11e9_bfbb_3cfdfe553c98row2_col28\" class=\"data row2 col28\" >DeepLearning_grid_1_AutoML_20191023_020831_model_9</td>\n",
       "                        <td id=\"T_6ed86640_f554_11e9_bfbb_3cfdfe553c98row2_col29\" class=\"data row2 col29\" >GBM_grid_1_AutoML_20191023_020831_model_1</td>\n",
       "                        <td id=\"T_6ed86640_f554_11e9_bfbb_3cfdfe553c98row2_col30\" class=\"data row2 col30\" >GBM_4_AutoML_20191023_020831</td>\n",
       "                        <td id=\"T_6ed86640_f554_11e9_bfbb_3cfdfe553c98row2_col31\" class=\"data row2 col31\" >GBM_grid_1_AutoML_20191023_020831_model_3</td>\n",
       "                        <td id=\"T_6ed86640_f554_11e9_bfbb_3cfdfe553c98row2_col32\" class=\"data row2 col32\" >GBM_grid_1_AutoML_20191023_020831_model_21</td>\n",
       "                        <td id=\"T_6ed86640_f554_11e9_bfbb_3cfdfe553c98row2_col33\" class=\"data row2 col33\" >XGBoost_grid_1_AutoML_20191023_020831_model_12</td>\n",
       "                        <td id=\"T_6ed86640_f554_11e9_bfbb_3cfdfe553c98row2_col34\" class=\"data row2 col34\" >GBM_2_AutoML_20191023_020831</td>\n",
       "                        <td id=\"T_6ed86640_f554_11e9_bfbb_3cfdfe553c98row2_col35\" class=\"data row2 col35\" >GBM_grid_1_AutoML_20191023_020831_model_17</td>\n",
       "                        <td id=\"T_6ed86640_f554_11e9_bfbb_3cfdfe553c98row2_col36\" class=\"data row2 col36\" >XGBoost_grid_1_AutoML_20191023_020831_model_14</td>\n",
       "                        <td id=\"T_6ed86640_f554_11e9_bfbb_3cfdfe553c98row2_col37\" class=\"data row2 col37\" >XGBoost_grid_1_AutoML_20191023_020831_model_1</td>\n",
       "                        <td id=\"T_6ed86640_f554_11e9_bfbb_3cfdfe553c98row2_col38\" class=\"data row2 col38\" >GBM_3_AutoML_20191023_020831</td>\n",
       "                        <td id=\"T_6ed86640_f554_11e9_bfbb_3cfdfe553c98row2_col39\" class=\"data row2 col39\" >DRF_1_AutoML_20191023_020831</td>\n",
       "                        <td id=\"T_6ed86640_f554_11e9_bfbb_3cfdfe553c98row2_col40\" class=\"data row2 col40\" >XRT_1_AutoML_20191023_020831</td>\n",
       "                        <td id=\"T_6ed86640_f554_11e9_bfbb_3cfdfe553c98row2_col41\" class=\"data row2 col41\" >XGBoost_2_AutoML_20191023_020831</td>\n",
       "                        <td id=\"T_6ed86640_f554_11e9_bfbb_3cfdfe553c98row2_col42\" class=\"data row2 col42\" >XGBoost_grid_1_AutoML_20191023_020831_model_10</td>\n",
       "                        <td id=\"T_6ed86640_f554_11e9_bfbb_3cfdfe553c98row2_col43\" class=\"data row2 col43\" >GBM_5_AutoML_20191023_020831</td>\n",
       "                        <td id=\"T_6ed86640_f554_11e9_bfbb_3cfdfe553c98row2_col44\" class=\"data row2 col44\" >GBM_1_AutoML_20191023_020831</td>\n",
       "                        <td id=\"T_6ed86640_f554_11e9_bfbb_3cfdfe553c98row2_col45\" class=\"data row2 col45\" >GBM_grid_1_AutoML_20191023_020831_model_10</td>\n",
       "                        <td id=\"T_6ed86640_f554_11e9_bfbb_3cfdfe553c98row2_col46\" class=\"data row2 col46\" >XGBoost_grid_1_AutoML_20191023_020831_model_3</td>\n",
       "                        <td id=\"T_6ed86640_f554_11e9_bfbb_3cfdfe553c98row2_col47\" class=\"data row2 col47\" >GBM_grid_1_AutoML_20191023_020831_model_13</td>\n",
       "                        <td id=\"T_6ed86640_f554_11e9_bfbb_3cfdfe553c98row2_col48\" class=\"data row2 col48\" >GBM_grid_1_AutoML_20191023_020831_model_16</td>\n",
       "                        <td id=\"T_6ed86640_f554_11e9_bfbb_3cfdfe553c98row2_col49\" class=\"data row2 col49\" >GBM_grid_1_AutoML_20191023_020831_model_12</td>\n",
       "                        <td id=\"T_6ed86640_f554_11e9_bfbb_3cfdfe553c98row2_col50\" class=\"data row2 col50\" >GBM_grid_1_AutoML_20191023_020831_model_15</td>\n",
       "                        <td id=\"T_6ed86640_f554_11e9_bfbb_3cfdfe553c98row2_col51\" class=\"data row2 col51\" >GBM_grid_1_AutoML_20191023_020831_model_18</td>\n",
       "                        <td id=\"T_6ed86640_f554_11e9_bfbb_3cfdfe553c98row2_col52\" class=\"data row2 col52\" >GBM_grid_1_AutoML_20191023_020831_model_6</td>\n",
       "                        <td id=\"T_6ed86640_f554_11e9_bfbb_3cfdfe553c98row2_col53\" class=\"data row2 col53\" >GBM_grid_1_AutoML_20191023_020831_model_7</td>\n",
       "                        <td id=\"T_6ed86640_f554_11e9_bfbb_3cfdfe553c98row2_col54\" class=\"data row2 col54\" >XGBoost_grid_1_AutoML_20191023_020831_model_19</td>\n",
       "                        <td id=\"T_6ed86640_f554_11e9_bfbb_3cfdfe553c98row2_col55\" class=\"data row2 col55\" >GBM_grid_1_AutoML_20191023_020831_model_9</td>\n",
       "                        <td id=\"T_6ed86640_f554_11e9_bfbb_3cfdfe553c98row2_col56\" class=\"data row2 col56\" >GBM_grid_1_AutoML_20191023_020831_model_4</td>\n",
       "                        <td id=\"T_6ed86640_f554_11e9_bfbb_3cfdfe553c98row2_col57\" class=\"data row2 col57\" >DeepLearning_grid_1_AutoML_20191023_020831_model_10</td>\n",
       "                        <td id=\"T_6ed86640_f554_11e9_bfbb_3cfdfe553c98row2_col58\" class=\"data row2 col58\" >GBM_grid_1_AutoML_20191023_020831_model_11</td>\n",
       "                        <td id=\"T_6ed86640_f554_11e9_bfbb_3cfdfe553c98row2_col59\" class=\"data row2 col59\" >DeepLearning_grid_1_AutoML_20191023_020831_model_13</td>\n",
       "                        <td id=\"T_6ed86640_f554_11e9_bfbb_3cfdfe553c98row2_col60\" class=\"data row2 col60\" >XGBoost_grid_1_AutoML_20191023_020831_model_16</td>\n",
       "                        <td id=\"T_6ed86640_f554_11e9_bfbb_3cfdfe553c98row2_col61\" class=\"data row2 col61\" >GBM_grid_1_AutoML_20191023_020831_model_26</td>\n",
       "                        <td id=\"T_6ed86640_f554_11e9_bfbb_3cfdfe553c98row2_col62\" class=\"data row2 col62\" >XGBoost_grid_1_AutoML_20191023_020831_model_6</td>\n",
       "                        <td id=\"T_6ed86640_f554_11e9_bfbb_3cfdfe553c98row2_col63\" class=\"data row2 col63\" >GBM_grid_1_AutoML_20191023_020831_model_23</td>\n",
       "                        <td id=\"T_6ed86640_f554_11e9_bfbb_3cfdfe553c98row2_col64\" class=\"data row2 col64\" >XGBoost_grid_1_AutoML_20191023_020831_model_11</td>\n",
       "                        <td id=\"T_6ed86640_f554_11e9_bfbb_3cfdfe553c98row2_col65\" class=\"data row2 col65\" >XGBoost_grid_1_AutoML_20191023_020831_model_9</td>\n",
       "                        <td id=\"T_6ed86640_f554_11e9_bfbb_3cfdfe553c98row2_col66\" class=\"data row2 col66\" >GBM_grid_1_AutoML_20191023_020831_model_2</td>\n",
       "                        <td id=\"T_6ed86640_f554_11e9_bfbb_3cfdfe553c98row2_col67\" class=\"data row2 col67\" >GBM_grid_1_AutoML_20191023_020831_model_24</td>\n",
       "                        <td id=\"T_6ed86640_f554_11e9_bfbb_3cfdfe553c98row2_col68\" class=\"data row2 col68\" >GBM_grid_1_AutoML_20191023_020831_model_27</td>\n",
       "                        <td id=\"T_6ed86640_f554_11e9_bfbb_3cfdfe553c98row2_col69\" class=\"data row2 col69\" >GBM_grid_1_AutoML_20191023_020831_model_25</td>\n",
       "                        <td id=\"T_6ed86640_f554_11e9_bfbb_3cfdfe553c98row2_col70\" class=\"data row2 col70\" >DeepLearning_1_AutoML_20191023_020831</td>\n",
       "                        <td id=\"T_6ed86640_f554_11e9_bfbb_3cfdfe553c98row2_col71\" class=\"data row2 col71\" >GBM_grid_1_AutoML_20191023_020831_model_22</td>\n",
       "                        <td id=\"T_6ed86640_f554_11e9_bfbb_3cfdfe553c98row2_col72\" class=\"data row2 col72\" >GBM_grid_1_AutoML_20191023_020831_model_28</td>\n",
       "                        <td id=\"T_6ed86640_f554_11e9_bfbb_3cfdfe553c98row2_col73\" class=\"data row2 col73\" >GBM_grid_1_AutoML_20191023_020831_model_5</td>\n",
       "                        <td id=\"T_6ed86640_f554_11e9_bfbb_3cfdfe553c98row2_col74\" class=\"data row2 col74\" >nan</td>\n",
       "                        <td id=\"T_6ed86640_f554_11e9_bfbb_3cfdfe553c98row2_col75\" class=\"data row2 col75\" >nan</td>\n",
       "                        <td id=\"T_6ed86640_f554_11e9_bfbb_3cfdfe553c98row2_col76\" class=\"data row2 col76\" >nan</td>\n",
       "                        <td id=\"T_6ed86640_f554_11e9_bfbb_3cfdfe553c98row2_col77\" class=\"data row2 col77\" >nan</td>\n",
       "                        <td id=\"T_6ed86640_f554_11e9_bfbb_3cfdfe553c98row2_col78\" class=\"data row2 col78\" >nan</td>\n",
       "                        <td id=\"T_6ed86640_f554_11e9_bfbb_3cfdfe553c98row2_col79\" class=\"data row2 col79\" >nan</td>\n",
       "                        <td id=\"T_6ed86640_f554_11e9_bfbb_3cfdfe553c98row2_col80\" class=\"data row2 col80\" >nan</td>\n",
       "                        <td id=\"T_6ed86640_f554_11e9_bfbb_3cfdfe553c98row2_col81\" class=\"data row2 col81\" >nan</td>\n",
       "                        <td id=\"T_6ed86640_f554_11e9_bfbb_3cfdfe553c98row2_col82\" class=\"data row2 col82\" >nan</td>\n",
       "                        <td id=\"T_6ed86640_f554_11e9_bfbb_3cfdfe553c98row2_col83\" class=\"data row2 col83\" >nan</td>\n",
       "                        <td id=\"T_6ed86640_f554_11e9_bfbb_3cfdfe553c98row2_col84\" class=\"data row2 col84\" >nan</td>\n",
       "                        <td id=\"T_6ed86640_f554_11e9_bfbb_3cfdfe553c98row2_col85\" class=\"data row2 col85\" >nan</td>\n",
       "                        <td id=\"T_6ed86640_f554_11e9_bfbb_3cfdfe553c98row2_col86\" class=\"data row2 col86\" >nan</td>\n",
       "                        <td id=\"T_6ed86640_f554_11e9_bfbb_3cfdfe553c98row2_col87\" class=\"data row2 col87\" >nan</td>\n",
       "                        <td id=\"T_6ed86640_f554_11e9_bfbb_3cfdfe553c98row2_col88\" class=\"data row2 col88\" >nan</td>\n",
       "                        <td id=\"T_6ed86640_f554_11e9_bfbb_3cfdfe553c98row2_col89\" class=\"data row2 col89\" >nan</td>\n",
       "            </tr>\n",
       "            <tr>\n",
       "                                <td id=\"T_6ed86640_f554_11e9_bfbb_3cfdfe553c98row3_col0\" class=\"data row3 col0\" >9.6</td>\n",
       "                        <td id=\"T_6ed86640_f554_11e9_bfbb_3cfdfe553c98row3_col1\" class=\"data row3 col1\" >StackedEnsemble_AllModels_AutoML_20191023_020839</td>\n",
       "                        <td id=\"T_6ed86640_f554_11e9_bfbb_3cfdfe553c98row3_col2\" class=\"data row3 col2\" >DeepLearning_grid_1_AutoML_20191023_020839_model_12</td>\n",
       "                        <td id=\"T_6ed86640_f554_11e9_bfbb_3cfdfe553c98row3_col3\" class=\"data row3 col3\" >DeepLearning_grid_1_AutoML_20191023_020839_model_8</td>\n",
       "                        <td id=\"T_6ed86640_f554_11e9_bfbb_3cfdfe553c98row3_col4\" class=\"data row3 col4\" >GLM_grid_1_AutoML_20191023_020839_model_1</td>\n",
       "                        <td id=\"T_6ed86640_f554_11e9_bfbb_3cfdfe553c98row3_col5\" class=\"data row3 col5\" >DeepLearning_grid_1_AutoML_20191023_020839_model_7</td>\n",
       "                        <td id=\"T_6ed86640_f554_11e9_bfbb_3cfdfe553c98row3_col6\" class=\"data row3 col6\" >DeepLearning_grid_1_AutoML_20191023_020839_model_2</td>\n",
       "                        <td id=\"T_6ed86640_f554_11e9_bfbb_3cfdfe553c98row3_col7\" class=\"data row3 col7\" >DeepLearning_grid_1_AutoML_20191023_020839_model_1</td>\n",
       "                        <td id=\"T_6ed86640_f554_11e9_bfbb_3cfdfe553c98row3_col8\" class=\"data row3 col8\" >DeepLearning_grid_1_AutoML_20191023_020839_model_3</td>\n",
       "                        <td id=\"T_6ed86640_f554_11e9_bfbb_3cfdfe553c98row3_col9\" class=\"data row3 col9\" >DeepLearning_grid_1_AutoML_20191023_020839_model_11</td>\n",
       "                        <td id=\"T_6ed86640_f554_11e9_bfbb_3cfdfe553c98row3_col10\" class=\"data row3 col10\" >GBM_grid_1_AutoML_20191023_020839_model_8</td>\n",
       "                        <td id=\"T_6ed86640_f554_11e9_bfbb_3cfdfe553c98row3_col11\" class=\"data row3 col11\" >XGBoost_1_AutoML_20191023_020839</td>\n",
       "                        <td id=\"T_6ed86640_f554_11e9_bfbb_3cfdfe553c98row3_col12\" class=\"data row3 col12\" >XGBoost_grid_1_AutoML_20191023_020839_model_14</td>\n",
       "                        <td id=\"T_6ed86640_f554_11e9_bfbb_3cfdfe553c98row3_col13\" class=\"data row3 col13\" >XGBoost_3_AutoML_20191023_020839</td>\n",
       "                        <td id=\"T_6ed86640_f554_11e9_bfbb_3cfdfe553c98row3_col14\" class=\"data row3 col14\" >XGBoost_grid_1_AutoML_20191023_020839_model_5</td>\n",
       "                        <td id=\"T_6ed86640_f554_11e9_bfbb_3cfdfe553c98row3_col15\" class=\"data row3 col15\" >XGBoost_grid_1_AutoML_20191023_020839_model_10</td>\n",
       "                        <td id=\"T_6ed86640_f554_11e9_bfbb_3cfdfe553c98row3_col16\" class=\"data row3 col16\" >XGBoost_grid_1_AutoML_20191023_020839_model_7</td>\n",
       "                        <td id=\"T_6ed86640_f554_11e9_bfbb_3cfdfe553c98row3_col17\" class=\"data row3 col17\" >DeepLearning_grid_1_AutoML_20191023_020839_model_5</td>\n",
       "                        <td id=\"T_6ed86640_f554_11e9_bfbb_3cfdfe553c98row3_col18\" class=\"data row3 col18\" >GBM_grid_1_AutoML_20191023_020839_model_16</td>\n",
       "                        <td id=\"T_6ed86640_f554_11e9_bfbb_3cfdfe553c98row3_col19\" class=\"data row3 col19\" >XGBoost_grid_1_AutoML_20191023_020839_model_12</td>\n",
       "                        <td id=\"T_6ed86640_f554_11e9_bfbb_3cfdfe553c98row3_col20\" class=\"data row3 col20\" >XGBoost_grid_1_AutoML_20191023_020839_model_20</td>\n",
       "                        <td id=\"T_6ed86640_f554_11e9_bfbb_3cfdfe553c98row3_col21\" class=\"data row3 col21\" >XGBoost_2_AutoML_20191023_020839</td>\n",
       "                        <td id=\"T_6ed86640_f554_11e9_bfbb_3cfdfe553c98row3_col22\" class=\"data row3 col22\" >DeepLearning_grid_1_AutoML_20191023_020839_model_9</td>\n",
       "                        <td id=\"T_6ed86640_f554_11e9_bfbb_3cfdfe553c98row3_col23\" class=\"data row3 col23\" >XGBoost_grid_1_AutoML_20191023_020839_model_18</td>\n",
       "                        <td id=\"T_6ed86640_f554_11e9_bfbb_3cfdfe553c98row3_col24\" class=\"data row3 col24\" >XGBoost_grid_1_AutoML_20191023_020839_model_21</td>\n",
       "                        <td id=\"T_6ed86640_f554_11e9_bfbb_3cfdfe553c98row3_col25\" class=\"data row3 col25\" >GBM_grid_1_AutoML_20191023_020839_model_27</td>\n",
       "                        <td id=\"T_6ed86640_f554_11e9_bfbb_3cfdfe553c98row3_col26\" class=\"data row3 col26\" >XGBoost_grid_1_AutoML_20191023_020839_model_24</td>\n",
       "                        <td id=\"T_6ed86640_f554_11e9_bfbb_3cfdfe553c98row3_col27\" class=\"data row3 col27\" >GBM_grid_1_AutoML_20191023_020839_model_19</td>\n",
       "                        <td id=\"T_6ed86640_f554_11e9_bfbb_3cfdfe553c98row3_col28\" class=\"data row3 col28\" >GBM_grid_1_AutoML_20191023_020839_model_7</td>\n",
       "                        <td id=\"T_6ed86640_f554_11e9_bfbb_3cfdfe553c98row3_col29\" class=\"data row3 col29\" >XGBoost_grid_1_AutoML_20191023_020839_model_8</td>\n",
       "                        <td id=\"T_6ed86640_f554_11e9_bfbb_3cfdfe553c98row3_col30\" class=\"data row3 col30\" >GBM_grid_1_AutoML_20191023_020839_model_14</td>\n",
       "                        <td id=\"T_6ed86640_f554_11e9_bfbb_3cfdfe553c98row3_col31\" class=\"data row3 col31\" >XGBoost_grid_1_AutoML_20191023_020839_model_2</td>\n",
       "                        <td id=\"T_6ed86640_f554_11e9_bfbb_3cfdfe553c98row3_col32\" class=\"data row3 col32\" >GBM_5_AutoML_20191023_020839</td>\n",
       "                        <td id=\"T_6ed86640_f554_11e9_bfbb_3cfdfe553c98row3_col33\" class=\"data row3 col33\" >GBM_grid_1_AutoML_20191023_020839_model_1</td>\n",
       "                        <td id=\"T_6ed86640_f554_11e9_bfbb_3cfdfe553c98row3_col34\" class=\"data row3 col34\" >GBM_grid_1_AutoML_20191023_020839_model_13</td>\n",
       "                        <td id=\"T_6ed86640_f554_11e9_bfbb_3cfdfe553c98row3_col35\" class=\"data row3 col35\" >XGBoost_grid_1_AutoML_20191023_020839_model_17</td>\n",
       "                        <td id=\"T_6ed86640_f554_11e9_bfbb_3cfdfe553c98row3_col36\" class=\"data row3 col36\" >XGBoost_grid_1_AutoML_20191023_020839_model_3</td>\n",
       "                        <td id=\"T_6ed86640_f554_11e9_bfbb_3cfdfe553c98row3_col37\" class=\"data row3 col37\" >XGBoost_grid_1_AutoML_20191023_020839_model_4</td>\n",
       "                        <td id=\"T_6ed86640_f554_11e9_bfbb_3cfdfe553c98row3_col38\" class=\"data row3 col38\" >GBM_grid_1_AutoML_20191023_020839_model_26</td>\n",
       "                        <td id=\"T_6ed86640_f554_11e9_bfbb_3cfdfe553c98row3_col39\" class=\"data row3 col39\" >XGBoost_grid_1_AutoML_20191023_020839_model_1</td>\n",
       "                        <td id=\"T_6ed86640_f554_11e9_bfbb_3cfdfe553c98row3_col40\" class=\"data row3 col40\" >GBM_grid_1_AutoML_20191023_020839_model_21</td>\n",
       "                        <td id=\"T_6ed86640_f554_11e9_bfbb_3cfdfe553c98row3_col41\" class=\"data row3 col41\" >XGBoost_grid_1_AutoML_20191023_020839_model_15</td>\n",
       "                        <td id=\"T_6ed86640_f554_11e9_bfbb_3cfdfe553c98row3_col42\" class=\"data row3 col42\" >XGBoost_grid_1_AutoML_20191023_020839_model_13</td>\n",
       "                        <td id=\"T_6ed86640_f554_11e9_bfbb_3cfdfe553c98row3_col43\" class=\"data row3 col43\" >GBM_grid_1_AutoML_20191023_020839_model_15</td>\n",
       "                        <td id=\"T_6ed86640_f554_11e9_bfbb_3cfdfe553c98row3_col44\" class=\"data row3 col44\" >GBM_grid_1_AutoML_20191023_020839_model_4</td>\n",
       "                        <td id=\"T_6ed86640_f554_11e9_bfbb_3cfdfe553c98row3_col45\" class=\"data row3 col45\" >GBM_4_AutoML_20191023_020839</td>\n",
       "                        <td id=\"T_6ed86640_f554_11e9_bfbb_3cfdfe553c98row3_col46\" class=\"data row3 col46\" >GBM_grid_1_AutoML_20191023_020839_model_3</td>\n",
       "                        <td id=\"T_6ed86640_f554_11e9_bfbb_3cfdfe553c98row3_col47\" class=\"data row3 col47\" >XGBoost_grid_1_AutoML_20191023_020839_model_19</td>\n",
       "                        <td id=\"T_6ed86640_f554_11e9_bfbb_3cfdfe553c98row3_col48\" class=\"data row3 col48\" >GBM_grid_1_AutoML_20191023_020839_model_17</td>\n",
       "                        <td id=\"T_6ed86640_f554_11e9_bfbb_3cfdfe553c98row3_col49\" class=\"data row3 col49\" >DeepLearning_grid_1_AutoML_20191023_020839_model_6</td>\n",
       "                        <td id=\"T_6ed86640_f554_11e9_bfbb_3cfdfe553c98row3_col50\" class=\"data row3 col50\" >DRF_1_AutoML_20191023_020839</td>\n",
       "                        <td id=\"T_6ed86640_f554_11e9_bfbb_3cfdfe553c98row3_col51\" class=\"data row3 col51\" >XRT_1_AutoML_20191023_020839</td>\n",
       "                        <td id=\"T_6ed86640_f554_11e9_bfbb_3cfdfe553c98row3_col52\" class=\"data row3 col52\" >XGBoost_grid_1_AutoML_20191023_020839_model_23</td>\n",
       "                        <td id=\"T_6ed86640_f554_11e9_bfbb_3cfdfe553c98row3_col53\" class=\"data row3 col53\" >GBM_3_AutoML_20191023_020839</td>\n",
       "                        <td id=\"T_6ed86640_f554_11e9_bfbb_3cfdfe553c98row3_col54\" class=\"data row3 col54\" >GBM_grid_1_AutoML_20191023_020839_model_10</td>\n",
       "                        <td id=\"T_6ed86640_f554_11e9_bfbb_3cfdfe553c98row3_col55\" class=\"data row3 col55\" >GBM_grid_1_AutoML_20191023_020839_model_20</td>\n",
       "                        <td id=\"T_6ed86640_f554_11e9_bfbb_3cfdfe553c98row3_col56\" class=\"data row3 col56\" >GBM_1_AutoML_20191023_020839</td>\n",
       "                        <td id=\"T_6ed86640_f554_11e9_bfbb_3cfdfe553c98row3_col57\" class=\"data row3 col57\" >DeepLearning_grid_1_AutoML_20191023_020839_model_4</td>\n",
       "                        <td id=\"T_6ed86640_f554_11e9_bfbb_3cfdfe553c98row3_col58\" class=\"data row3 col58\" >XGBoost_grid_1_AutoML_20191023_020839_model_25</td>\n",
       "                        <td id=\"T_6ed86640_f554_11e9_bfbb_3cfdfe553c98row3_col59\" class=\"data row3 col59\" >GBM_grid_1_AutoML_20191023_020839_model_11</td>\n",
       "                        <td id=\"T_6ed86640_f554_11e9_bfbb_3cfdfe553c98row3_col60\" class=\"data row3 col60\" >GBM_grid_1_AutoML_20191023_020839_model_18</td>\n",
       "                        <td id=\"T_6ed86640_f554_11e9_bfbb_3cfdfe553c98row3_col61\" class=\"data row3 col61\" >GBM_grid_1_AutoML_20191023_020839_model_12</td>\n",
       "                        <td id=\"T_6ed86640_f554_11e9_bfbb_3cfdfe553c98row3_col62\" class=\"data row3 col62\" >DeepLearning_grid_1_AutoML_20191023_020839_model_10</td>\n",
       "                        <td id=\"T_6ed86640_f554_11e9_bfbb_3cfdfe553c98row3_col63\" class=\"data row3 col63\" >GBM_grid_1_AutoML_20191023_020839_model_6</td>\n",
       "                        <td id=\"T_6ed86640_f554_11e9_bfbb_3cfdfe553c98row3_col64\" class=\"data row3 col64\" >GBM_2_AutoML_20191023_020839</td>\n",
       "                        <td id=\"T_6ed86640_f554_11e9_bfbb_3cfdfe553c98row3_col65\" class=\"data row3 col65\" >DeepLearning_grid_1_AutoML_20191023_020839_model_13</td>\n",
       "                        <td id=\"T_6ed86640_f554_11e9_bfbb_3cfdfe553c98row3_col66\" class=\"data row3 col66\" >GBM_grid_1_AutoML_20191023_020839_model_9</td>\n",
       "                        <td id=\"T_6ed86640_f554_11e9_bfbb_3cfdfe553c98row3_col67\" class=\"data row3 col67\" >GBM_grid_1_AutoML_20191023_020839_model_2</td>\n",
       "                        <td id=\"T_6ed86640_f554_11e9_bfbb_3cfdfe553c98row3_col68\" class=\"data row3 col68\" >XGBoost_grid_1_AutoML_20191023_020839_model_16</td>\n",
       "                        <td id=\"T_6ed86640_f554_11e9_bfbb_3cfdfe553c98row3_col69\" class=\"data row3 col69\" >GBM_grid_1_AutoML_20191023_020839_model_23</td>\n",
       "                        <td id=\"T_6ed86640_f554_11e9_bfbb_3cfdfe553c98row3_col70\" class=\"data row3 col70\" >XGBoost_grid_1_AutoML_20191023_020839_model_22</td>\n",
       "                        <td id=\"T_6ed86640_f554_11e9_bfbb_3cfdfe553c98row3_col71\" class=\"data row3 col71\" >XGBoost_grid_1_AutoML_20191023_020839_model_6</td>\n",
       "                        <td id=\"T_6ed86640_f554_11e9_bfbb_3cfdfe553c98row3_col72\" class=\"data row3 col72\" >XGBoost_grid_1_AutoML_20191023_020839_model_9</td>\n",
       "                        <td id=\"T_6ed86640_f554_11e9_bfbb_3cfdfe553c98row3_col73\" class=\"data row3 col73\" >XGBoost_grid_1_AutoML_20191023_020839_model_11</td>\n",
       "                        <td id=\"T_6ed86640_f554_11e9_bfbb_3cfdfe553c98row3_col74\" class=\"data row3 col74\" >GBM_grid_1_AutoML_20191023_020839_model_24</td>\n",
       "                        <td id=\"T_6ed86640_f554_11e9_bfbb_3cfdfe553c98row3_col75\" class=\"data row3 col75\" >GBM_grid_1_AutoML_20191023_020839_model_22</td>\n",
       "                        <td id=\"T_6ed86640_f554_11e9_bfbb_3cfdfe553c98row3_col76\" class=\"data row3 col76\" >DeepLearning_1_AutoML_20191023_020839</td>\n",
       "                        <td id=\"T_6ed86640_f554_11e9_bfbb_3cfdfe553c98row3_col77\" class=\"data row3 col77\" >GBM_grid_1_AutoML_20191023_020839_model_25</td>\n",
       "                        <td id=\"T_6ed86640_f554_11e9_bfbb_3cfdfe553c98row3_col78\" class=\"data row3 col78\" >GBM_grid_1_AutoML_20191023_020839_model_5</td>\n",
       "                        <td id=\"T_6ed86640_f554_11e9_bfbb_3cfdfe553c98row3_col79\" class=\"data row3 col79\" >nan</td>\n",
       "                        <td id=\"T_6ed86640_f554_11e9_bfbb_3cfdfe553c98row3_col80\" class=\"data row3 col80\" >nan</td>\n",
       "                        <td id=\"T_6ed86640_f554_11e9_bfbb_3cfdfe553c98row3_col81\" class=\"data row3 col81\" >nan</td>\n",
       "                        <td id=\"T_6ed86640_f554_11e9_bfbb_3cfdfe553c98row3_col82\" class=\"data row3 col82\" >nan</td>\n",
       "                        <td id=\"T_6ed86640_f554_11e9_bfbb_3cfdfe553c98row3_col83\" class=\"data row3 col83\" >nan</td>\n",
       "                        <td id=\"T_6ed86640_f554_11e9_bfbb_3cfdfe553c98row3_col84\" class=\"data row3 col84\" >nan</td>\n",
       "                        <td id=\"T_6ed86640_f554_11e9_bfbb_3cfdfe553c98row3_col85\" class=\"data row3 col85\" >nan</td>\n",
       "                        <td id=\"T_6ed86640_f554_11e9_bfbb_3cfdfe553c98row3_col86\" class=\"data row3 col86\" >nan</td>\n",
       "                        <td id=\"T_6ed86640_f554_11e9_bfbb_3cfdfe553c98row3_col87\" class=\"data row3 col87\" >nan</td>\n",
       "                        <td id=\"T_6ed86640_f554_11e9_bfbb_3cfdfe553c98row3_col88\" class=\"data row3 col88\" >nan</td>\n",
       "                        <td id=\"T_6ed86640_f554_11e9_bfbb_3cfdfe553c98row3_col89\" class=\"data row3 col89\" >nan</td>\n",
       "            </tr>\n",
       "            <tr>\n",
       "                                <td id=\"T_6ed86640_f554_11e9_bfbb_3cfdfe553c98row4_col0\" class=\"data row4 col0\" >12.8</td>\n",
       "                        <td id=\"T_6ed86640_f554_11e9_bfbb_3cfdfe553c98row4_col1\" class=\"data row4 col1\" >GLM_grid_1_AutoML_20191023_020831_model_1</td>\n",
       "                        <td id=\"T_6ed86640_f554_11e9_bfbb_3cfdfe553c98row4_col2\" class=\"data row4 col2\" >nan</td>\n",
       "                        <td id=\"T_6ed86640_f554_11e9_bfbb_3cfdfe553c98row4_col3\" class=\"data row4 col3\" >nan</td>\n",
       "                        <td id=\"T_6ed86640_f554_11e9_bfbb_3cfdfe553c98row4_col4\" class=\"data row4 col4\" >nan</td>\n",
       "                        <td id=\"T_6ed86640_f554_11e9_bfbb_3cfdfe553c98row4_col5\" class=\"data row4 col5\" >nan</td>\n",
       "                        <td id=\"T_6ed86640_f554_11e9_bfbb_3cfdfe553c98row4_col6\" class=\"data row4 col6\" >nan</td>\n",
       "                        <td id=\"T_6ed86640_f554_11e9_bfbb_3cfdfe553c98row4_col7\" class=\"data row4 col7\" >nan</td>\n",
       "                        <td id=\"T_6ed86640_f554_11e9_bfbb_3cfdfe553c98row4_col8\" class=\"data row4 col8\" >nan</td>\n",
       "                        <td id=\"T_6ed86640_f554_11e9_bfbb_3cfdfe553c98row4_col9\" class=\"data row4 col9\" >nan</td>\n",
       "                        <td id=\"T_6ed86640_f554_11e9_bfbb_3cfdfe553c98row4_col10\" class=\"data row4 col10\" >nan</td>\n",
       "                        <td id=\"T_6ed86640_f554_11e9_bfbb_3cfdfe553c98row4_col11\" class=\"data row4 col11\" >nan</td>\n",
       "                        <td id=\"T_6ed86640_f554_11e9_bfbb_3cfdfe553c98row4_col12\" class=\"data row4 col12\" >nan</td>\n",
       "                        <td id=\"T_6ed86640_f554_11e9_bfbb_3cfdfe553c98row4_col13\" class=\"data row4 col13\" >nan</td>\n",
       "                        <td id=\"T_6ed86640_f554_11e9_bfbb_3cfdfe553c98row4_col14\" class=\"data row4 col14\" >nan</td>\n",
       "                        <td id=\"T_6ed86640_f554_11e9_bfbb_3cfdfe553c98row4_col15\" class=\"data row4 col15\" >nan</td>\n",
       "                        <td id=\"T_6ed86640_f554_11e9_bfbb_3cfdfe553c98row4_col16\" class=\"data row4 col16\" >nan</td>\n",
       "                        <td id=\"T_6ed86640_f554_11e9_bfbb_3cfdfe553c98row4_col17\" class=\"data row4 col17\" >nan</td>\n",
       "                        <td id=\"T_6ed86640_f554_11e9_bfbb_3cfdfe553c98row4_col18\" class=\"data row4 col18\" >nan</td>\n",
       "                        <td id=\"T_6ed86640_f554_11e9_bfbb_3cfdfe553c98row4_col19\" class=\"data row4 col19\" >nan</td>\n",
       "                        <td id=\"T_6ed86640_f554_11e9_bfbb_3cfdfe553c98row4_col20\" class=\"data row4 col20\" >nan</td>\n",
       "                        <td id=\"T_6ed86640_f554_11e9_bfbb_3cfdfe553c98row4_col21\" class=\"data row4 col21\" >nan</td>\n",
       "                        <td id=\"T_6ed86640_f554_11e9_bfbb_3cfdfe553c98row4_col22\" class=\"data row4 col22\" >nan</td>\n",
       "                        <td id=\"T_6ed86640_f554_11e9_bfbb_3cfdfe553c98row4_col23\" class=\"data row4 col23\" >nan</td>\n",
       "                        <td id=\"T_6ed86640_f554_11e9_bfbb_3cfdfe553c98row4_col24\" class=\"data row4 col24\" >nan</td>\n",
       "                        <td id=\"T_6ed86640_f554_11e9_bfbb_3cfdfe553c98row4_col25\" class=\"data row4 col25\" >nan</td>\n",
       "                        <td id=\"T_6ed86640_f554_11e9_bfbb_3cfdfe553c98row4_col26\" class=\"data row4 col26\" >nan</td>\n",
       "                        <td id=\"T_6ed86640_f554_11e9_bfbb_3cfdfe553c98row4_col27\" class=\"data row4 col27\" >nan</td>\n",
       "                        <td id=\"T_6ed86640_f554_11e9_bfbb_3cfdfe553c98row4_col28\" class=\"data row4 col28\" >nan</td>\n",
       "                        <td id=\"T_6ed86640_f554_11e9_bfbb_3cfdfe553c98row4_col29\" class=\"data row4 col29\" >nan</td>\n",
       "                        <td id=\"T_6ed86640_f554_11e9_bfbb_3cfdfe553c98row4_col30\" class=\"data row4 col30\" >nan</td>\n",
       "                        <td id=\"T_6ed86640_f554_11e9_bfbb_3cfdfe553c98row4_col31\" class=\"data row4 col31\" >nan</td>\n",
       "                        <td id=\"T_6ed86640_f554_11e9_bfbb_3cfdfe553c98row4_col32\" class=\"data row4 col32\" >nan</td>\n",
       "                        <td id=\"T_6ed86640_f554_11e9_bfbb_3cfdfe553c98row4_col33\" class=\"data row4 col33\" >nan</td>\n",
       "                        <td id=\"T_6ed86640_f554_11e9_bfbb_3cfdfe553c98row4_col34\" class=\"data row4 col34\" >nan</td>\n",
       "                        <td id=\"T_6ed86640_f554_11e9_bfbb_3cfdfe553c98row4_col35\" class=\"data row4 col35\" >nan</td>\n",
       "                        <td id=\"T_6ed86640_f554_11e9_bfbb_3cfdfe553c98row4_col36\" class=\"data row4 col36\" >nan</td>\n",
       "                        <td id=\"T_6ed86640_f554_11e9_bfbb_3cfdfe553c98row4_col37\" class=\"data row4 col37\" >nan</td>\n",
       "                        <td id=\"T_6ed86640_f554_11e9_bfbb_3cfdfe553c98row4_col38\" class=\"data row4 col38\" >nan</td>\n",
       "                        <td id=\"T_6ed86640_f554_11e9_bfbb_3cfdfe553c98row4_col39\" class=\"data row4 col39\" >nan</td>\n",
       "                        <td id=\"T_6ed86640_f554_11e9_bfbb_3cfdfe553c98row4_col40\" class=\"data row4 col40\" >nan</td>\n",
       "                        <td id=\"T_6ed86640_f554_11e9_bfbb_3cfdfe553c98row4_col41\" class=\"data row4 col41\" >nan</td>\n",
       "                        <td id=\"T_6ed86640_f554_11e9_bfbb_3cfdfe553c98row4_col42\" class=\"data row4 col42\" >nan</td>\n",
       "                        <td id=\"T_6ed86640_f554_11e9_bfbb_3cfdfe553c98row4_col43\" class=\"data row4 col43\" >nan</td>\n",
       "                        <td id=\"T_6ed86640_f554_11e9_bfbb_3cfdfe553c98row4_col44\" class=\"data row4 col44\" >nan</td>\n",
       "                        <td id=\"T_6ed86640_f554_11e9_bfbb_3cfdfe553c98row4_col45\" class=\"data row4 col45\" >nan</td>\n",
       "                        <td id=\"T_6ed86640_f554_11e9_bfbb_3cfdfe553c98row4_col46\" class=\"data row4 col46\" >nan</td>\n",
       "                        <td id=\"T_6ed86640_f554_11e9_bfbb_3cfdfe553c98row4_col47\" class=\"data row4 col47\" >nan</td>\n",
       "                        <td id=\"T_6ed86640_f554_11e9_bfbb_3cfdfe553c98row4_col48\" class=\"data row4 col48\" >nan</td>\n",
       "                        <td id=\"T_6ed86640_f554_11e9_bfbb_3cfdfe553c98row4_col49\" class=\"data row4 col49\" >nan</td>\n",
       "                        <td id=\"T_6ed86640_f554_11e9_bfbb_3cfdfe553c98row4_col50\" class=\"data row4 col50\" >nan</td>\n",
       "                        <td id=\"T_6ed86640_f554_11e9_bfbb_3cfdfe553c98row4_col51\" class=\"data row4 col51\" >nan</td>\n",
       "                        <td id=\"T_6ed86640_f554_11e9_bfbb_3cfdfe553c98row4_col52\" class=\"data row4 col52\" >nan</td>\n",
       "                        <td id=\"T_6ed86640_f554_11e9_bfbb_3cfdfe553c98row4_col53\" class=\"data row4 col53\" >nan</td>\n",
       "                        <td id=\"T_6ed86640_f554_11e9_bfbb_3cfdfe553c98row4_col54\" class=\"data row4 col54\" >nan</td>\n",
       "                        <td id=\"T_6ed86640_f554_11e9_bfbb_3cfdfe553c98row4_col55\" class=\"data row4 col55\" >nan</td>\n",
       "                        <td id=\"T_6ed86640_f554_11e9_bfbb_3cfdfe553c98row4_col56\" class=\"data row4 col56\" >nan</td>\n",
       "                        <td id=\"T_6ed86640_f554_11e9_bfbb_3cfdfe553c98row4_col57\" class=\"data row4 col57\" >nan</td>\n",
       "                        <td id=\"T_6ed86640_f554_11e9_bfbb_3cfdfe553c98row4_col58\" class=\"data row4 col58\" >nan</td>\n",
       "                        <td id=\"T_6ed86640_f554_11e9_bfbb_3cfdfe553c98row4_col59\" class=\"data row4 col59\" >nan</td>\n",
       "                        <td id=\"T_6ed86640_f554_11e9_bfbb_3cfdfe553c98row4_col60\" class=\"data row4 col60\" >nan</td>\n",
       "                        <td id=\"T_6ed86640_f554_11e9_bfbb_3cfdfe553c98row4_col61\" class=\"data row4 col61\" >nan</td>\n",
       "                        <td id=\"T_6ed86640_f554_11e9_bfbb_3cfdfe553c98row4_col62\" class=\"data row4 col62\" >nan</td>\n",
       "                        <td id=\"T_6ed86640_f554_11e9_bfbb_3cfdfe553c98row4_col63\" class=\"data row4 col63\" >nan</td>\n",
       "                        <td id=\"T_6ed86640_f554_11e9_bfbb_3cfdfe553c98row4_col64\" class=\"data row4 col64\" >nan</td>\n",
       "                        <td id=\"T_6ed86640_f554_11e9_bfbb_3cfdfe553c98row4_col65\" class=\"data row4 col65\" >nan</td>\n",
       "                        <td id=\"T_6ed86640_f554_11e9_bfbb_3cfdfe553c98row4_col66\" class=\"data row4 col66\" >nan</td>\n",
       "                        <td id=\"T_6ed86640_f554_11e9_bfbb_3cfdfe553c98row4_col67\" class=\"data row4 col67\" >nan</td>\n",
       "                        <td id=\"T_6ed86640_f554_11e9_bfbb_3cfdfe553c98row4_col68\" class=\"data row4 col68\" >nan</td>\n",
       "                        <td id=\"T_6ed86640_f554_11e9_bfbb_3cfdfe553c98row4_col69\" class=\"data row4 col69\" >nan</td>\n",
       "                        <td id=\"T_6ed86640_f554_11e9_bfbb_3cfdfe553c98row4_col70\" class=\"data row4 col70\" >nan</td>\n",
       "                        <td id=\"T_6ed86640_f554_11e9_bfbb_3cfdfe553c98row4_col71\" class=\"data row4 col71\" >nan</td>\n",
       "                        <td id=\"T_6ed86640_f554_11e9_bfbb_3cfdfe553c98row4_col72\" class=\"data row4 col72\" >nan</td>\n",
       "                        <td id=\"T_6ed86640_f554_11e9_bfbb_3cfdfe553c98row4_col73\" class=\"data row4 col73\" >nan</td>\n",
       "                        <td id=\"T_6ed86640_f554_11e9_bfbb_3cfdfe553c98row4_col74\" class=\"data row4 col74\" >nan</td>\n",
       "                        <td id=\"T_6ed86640_f554_11e9_bfbb_3cfdfe553c98row4_col75\" class=\"data row4 col75\" >nan</td>\n",
       "                        <td id=\"T_6ed86640_f554_11e9_bfbb_3cfdfe553c98row4_col76\" class=\"data row4 col76\" >nan</td>\n",
       "                        <td id=\"T_6ed86640_f554_11e9_bfbb_3cfdfe553c98row4_col77\" class=\"data row4 col77\" >nan</td>\n",
       "                        <td id=\"T_6ed86640_f554_11e9_bfbb_3cfdfe553c98row4_col78\" class=\"data row4 col78\" >nan</td>\n",
       "                        <td id=\"T_6ed86640_f554_11e9_bfbb_3cfdfe553c98row4_col79\" class=\"data row4 col79\" >nan</td>\n",
       "                        <td id=\"T_6ed86640_f554_11e9_bfbb_3cfdfe553c98row4_col80\" class=\"data row4 col80\" >nan</td>\n",
       "                        <td id=\"T_6ed86640_f554_11e9_bfbb_3cfdfe553c98row4_col81\" class=\"data row4 col81\" >nan</td>\n",
       "                        <td id=\"T_6ed86640_f554_11e9_bfbb_3cfdfe553c98row4_col82\" class=\"data row4 col82\" >nan</td>\n",
       "                        <td id=\"T_6ed86640_f554_11e9_bfbb_3cfdfe553c98row4_col83\" class=\"data row4 col83\" >nan</td>\n",
       "                        <td id=\"T_6ed86640_f554_11e9_bfbb_3cfdfe553c98row4_col84\" class=\"data row4 col84\" >nan</td>\n",
       "                        <td id=\"T_6ed86640_f554_11e9_bfbb_3cfdfe553c98row4_col85\" class=\"data row4 col85\" >nan</td>\n",
       "                        <td id=\"T_6ed86640_f554_11e9_bfbb_3cfdfe553c98row4_col86\" class=\"data row4 col86\" >nan</td>\n",
       "                        <td id=\"T_6ed86640_f554_11e9_bfbb_3cfdfe553c98row4_col87\" class=\"data row4 col87\" >nan</td>\n",
       "                        <td id=\"T_6ed86640_f554_11e9_bfbb_3cfdfe553c98row4_col88\" class=\"data row4 col88\" >nan</td>\n",
       "                        <td id=\"T_6ed86640_f554_11e9_bfbb_3cfdfe553c98row4_col89\" class=\"data row4 col89\" >nan</td>\n",
       "            </tr>\n",
       "            <tr>\n",
       "                                <td id=\"T_6ed86640_f554_11e9_bfbb_3cfdfe553c98row5_col0\" class=\"data row5 col0\" >16</td>\n",
       "                        <td id=\"T_6ed86640_f554_11e9_bfbb_3cfdfe553c98row5_col1\" class=\"data row5 col1\" >GLM_grid_1_AutoML_20191023_020831_model_1</td>\n",
       "                        <td id=\"T_6ed86640_f554_11e9_bfbb_3cfdfe553c98row5_col2\" class=\"data row5 col2\" >nan</td>\n",
       "                        <td id=\"T_6ed86640_f554_11e9_bfbb_3cfdfe553c98row5_col3\" class=\"data row5 col3\" >nan</td>\n",
       "                        <td id=\"T_6ed86640_f554_11e9_bfbb_3cfdfe553c98row5_col4\" class=\"data row5 col4\" >nan</td>\n",
       "                        <td id=\"T_6ed86640_f554_11e9_bfbb_3cfdfe553c98row5_col5\" class=\"data row5 col5\" >nan</td>\n",
       "                        <td id=\"T_6ed86640_f554_11e9_bfbb_3cfdfe553c98row5_col6\" class=\"data row5 col6\" >nan</td>\n",
       "                        <td id=\"T_6ed86640_f554_11e9_bfbb_3cfdfe553c98row5_col7\" class=\"data row5 col7\" >nan</td>\n",
       "                        <td id=\"T_6ed86640_f554_11e9_bfbb_3cfdfe553c98row5_col8\" class=\"data row5 col8\" >nan</td>\n",
       "                        <td id=\"T_6ed86640_f554_11e9_bfbb_3cfdfe553c98row5_col9\" class=\"data row5 col9\" >nan</td>\n",
       "                        <td id=\"T_6ed86640_f554_11e9_bfbb_3cfdfe553c98row5_col10\" class=\"data row5 col10\" >nan</td>\n",
       "                        <td id=\"T_6ed86640_f554_11e9_bfbb_3cfdfe553c98row5_col11\" class=\"data row5 col11\" >nan</td>\n",
       "                        <td id=\"T_6ed86640_f554_11e9_bfbb_3cfdfe553c98row5_col12\" class=\"data row5 col12\" >nan</td>\n",
       "                        <td id=\"T_6ed86640_f554_11e9_bfbb_3cfdfe553c98row5_col13\" class=\"data row5 col13\" >nan</td>\n",
       "                        <td id=\"T_6ed86640_f554_11e9_bfbb_3cfdfe553c98row5_col14\" class=\"data row5 col14\" >nan</td>\n",
       "                        <td id=\"T_6ed86640_f554_11e9_bfbb_3cfdfe553c98row5_col15\" class=\"data row5 col15\" >nan</td>\n",
       "                        <td id=\"T_6ed86640_f554_11e9_bfbb_3cfdfe553c98row5_col16\" class=\"data row5 col16\" >nan</td>\n",
       "                        <td id=\"T_6ed86640_f554_11e9_bfbb_3cfdfe553c98row5_col17\" class=\"data row5 col17\" >nan</td>\n",
       "                        <td id=\"T_6ed86640_f554_11e9_bfbb_3cfdfe553c98row5_col18\" class=\"data row5 col18\" >nan</td>\n",
       "                        <td id=\"T_6ed86640_f554_11e9_bfbb_3cfdfe553c98row5_col19\" class=\"data row5 col19\" >nan</td>\n",
       "                        <td id=\"T_6ed86640_f554_11e9_bfbb_3cfdfe553c98row5_col20\" class=\"data row5 col20\" >nan</td>\n",
       "                        <td id=\"T_6ed86640_f554_11e9_bfbb_3cfdfe553c98row5_col21\" class=\"data row5 col21\" >nan</td>\n",
       "                        <td id=\"T_6ed86640_f554_11e9_bfbb_3cfdfe553c98row5_col22\" class=\"data row5 col22\" >nan</td>\n",
       "                        <td id=\"T_6ed86640_f554_11e9_bfbb_3cfdfe553c98row5_col23\" class=\"data row5 col23\" >nan</td>\n",
       "                        <td id=\"T_6ed86640_f554_11e9_bfbb_3cfdfe553c98row5_col24\" class=\"data row5 col24\" >nan</td>\n",
       "                        <td id=\"T_6ed86640_f554_11e9_bfbb_3cfdfe553c98row5_col25\" class=\"data row5 col25\" >nan</td>\n",
       "                        <td id=\"T_6ed86640_f554_11e9_bfbb_3cfdfe553c98row5_col26\" class=\"data row5 col26\" >nan</td>\n",
       "                        <td id=\"T_6ed86640_f554_11e9_bfbb_3cfdfe553c98row5_col27\" class=\"data row5 col27\" >nan</td>\n",
       "                        <td id=\"T_6ed86640_f554_11e9_bfbb_3cfdfe553c98row5_col28\" class=\"data row5 col28\" >nan</td>\n",
       "                        <td id=\"T_6ed86640_f554_11e9_bfbb_3cfdfe553c98row5_col29\" class=\"data row5 col29\" >nan</td>\n",
       "                        <td id=\"T_6ed86640_f554_11e9_bfbb_3cfdfe553c98row5_col30\" class=\"data row5 col30\" >nan</td>\n",
       "                        <td id=\"T_6ed86640_f554_11e9_bfbb_3cfdfe553c98row5_col31\" class=\"data row5 col31\" >nan</td>\n",
       "                        <td id=\"T_6ed86640_f554_11e9_bfbb_3cfdfe553c98row5_col32\" class=\"data row5 col32\" >nan</td>\n",
       "                        <td id=\"T_6ed86640_f554_11e9_bfbb_3cfdfe553c98row5_col33\" class=\"data row5 col33\" >nan</td>\n",
       "                        <td id=\"T_6ed86640_f554_11e9_bfbb_3cfdfe553c98row5_col34\" class=\"data row5 col34\" >nan</td>\n",
       "                        <td id=\"T_6ed86640_f554_11e9_bfbb_3cfdfe553c98row5_col35\" class=\"data row5 col35\" >nan</td>\n",
       "                        <td id=\"T_6ed86640_f554_11e9_bfbb_3cfdfe553c98row5_col36\" class=\"data row5 col36\" >nan</td>\n",
       "                        <td id=\"T_6ed86640_f554_11e9_bfbb_3cfdfe553c98row5_col37\" class=\"data row5 col37\" >nan</td>\n",
       "                        <td id=\"T_6ed86640_f554_11e9_bfbb_3cfdfe553c98row5_col38\" class=\"data row5 col38\" >nan</td>\n",
       "                        <td id=\"T_6ed86640_f554_11e9_bfbb_3cfdfe553c98row5_col39\" class=\"data row5 col39\" >nan</td>\n",
       "                        <td id=\"T_6ed86640_f554_11e9_bfbb_3cfdfe553c98row5_col40\" class=\"data row5 col40\" >nan</td>\n",
       "                        <td id=\"T_6ed86640_f554_11e9_bfbb_3cfdfe553c98row5_col41\" class=\"data row5 col41\" >nan</td>\n",
       "                        <td id=\"T_6ed86640_f554_11e9_bfbb_3cfdfe553c98row5_col42\" class=\"data row5 col42\" >nan</td>\n",
       "                        <td id=\"T_6ed86640_f554_11e9_bfbb_3cfdfe553c98row5_col43\" class=\"data row5 col43\" >nan</td>\n",
       "                        <td id=\"T_6ed86640_f554_11e9_bfbb_3cfdfe553c98row5_col44\" class=\"data row5 col44\" >nan</td>\n",
       "                        <td id=\"T_6ed86640_f554_11e9_bfbb_3cfdfe553c98row5_col45\" class=\"data row5 col45\" >nan</td>\n",
       "                        <td id=\"T_6ed86640_f554_11e9_bfbb_3cfdfe553c98row5_col46\" class=\"data row5 col46\" >nan</td>\n",
       "                        <td id=\"T_6ed86640_f554_11e9_bfbb_3cfdfe553c98row5_col47\" class=\"data row5 col47\" >nan</td>\n",
       "                        <td id=\"T_6ed86640_f554_11e9_bfbb_3cfdfe553c98row5_col48\" class=\"data row5 col48\" >nan</td>\n",
       "                        <td id=\"T_6ed86640_f554_11e9_bfbb_3cfdfe553c98row5_col49\" class=\"data row5 col49\" >nan</td>\n",
       "                        <td id=\"T_6ed86640_f554_11e9_bfbb_3cfdfe553c98row5_col50\" class=\"data row5 col50\" >nan</td>\n",
       "                        <td id=\"T_6ed86640_f554_11e9_bfbb_3cfdfe553c98row5_col51\" class=\"data row5 col51\" >nan</td>\n",
       "                        <td id=\"T_6ed86640_f554_11e9_bfbb_3cfdfe553c98row5_col52\" class=\"data row5 col52\" >nan</td>\n",
       "                        <td id=\"T_6ed86640_f554_11e9_bfbb_3cfdfe553c98row5_col53\" class=\"data row5 col53\" >nan</td>\n",
       "                        <td id=\"T_6ed86640_f554_11e9_bfbb_3cfdfe553c98row5_col54\" class=\"data row5 col54\" >nan</td>\n",
       "                        <td id=\"T_6ed86640_f554_11e9_bfbb_3cfdfe553c98row5_col55\" class=\"data row5 col55\" >nan</td>\n",
       "                        <td id=\"T_6ed86640_f554_11e9_bfbb_3cfdfe553c98row5_col56\" class=\"data row5 col56\" >nan</td>\n",
       "                        <td id=\"T_6ed86640_f554_11e9_bfbb_3cfdfe553c98row5_col57\" class=\"data row5 col57\" >nan</td>\n",
       "                        <td id=\"T_6ed86640_f554_11e9_bfbb_3cfdfe553c98row5_col58\" class=\"data row5 col58\" >nan</td>\n",
       "                        <td id=\"T_6ed86640_f554_11e9_bfbb_3cfdfe553c98row5_col59\" class=\"data row5 col59\" >nan</td>\n",
       "                        <td id=\"T_6ed86640_f554_11e9_bfbb_3cfdfe553c98row5_col60\" class=\"data row5 col60\" >nan</td>\n",
       "                        <td id=\"T_6ed86640_f554_11e9_bfbb_3cfdfe553c98row5_col61\" class=\"data row5 col61\" >nan</td>\n",
       "                        <td id=\"T_6ed86640_f554_11e9_bfbb_3cfdfe553c98row5_col62\" class=\"data row5 col62\" >nan</td>\n",
       "                        <td id=\"T_6ed86640_f554_11e9_bfbb_3cfdfe553c98row5_col63\" class=\"data row5 col63\" >nan</td>\n",
       "                        <td id=\"T_6ed86640_f554_11e9_bfbb_3cfdfe553c98row5_col64\" class=\"data row5 col64\" >nan</td>\n",
       "                        <td id=\"T_6ed86640_f554_11e9_bfbb_3cfdfe553c98row5_col65\" class=\"data row5 col65\" >nan</td>\n",
       "                        <td id=\"T_6ed86640_f554_11e9_bfbb_3cfdfe553c98row5_col66\" class=\"data row5 col66\" >nan</td>\n",
       "                        <td id=\"T_6ed86640_f554_11e9_bfbb_3cfdfe553c98row5_col67\" class=\"data row5 col67\" >nan</td>\n",
       "                        <td id=\"T_6ed86640_f554_11e9_bfbb_3cfdfe553c98row5_col68\" class=\"data row5 col68\" >nan</td>\n",
       "                        <td id=\"T_6ed86640_f554_11e9_bfbb_3cfdfe553c98row5_col69\" class=\"data row5 col69\" >nan</td>\n",
       "                        <td id=\"T_6ed86640_f554_11e9_bfbb_3cfdfe553c98row5_col70\" class=\"data row5 col70\" >nan</td>\n",
       "                        <td id=\"T_6ed86640_f554_11e9_bfbb_3cfdfe553c98row5_col71\" class=\"data row5 col71\" >nan</td>\n",
       "                        <td id=\"T_6ed86640_f554_11e9_bfbb_3cfdfe553c98row5_col72\" class=\"data row5 col72\" >nan</td>\n",
       "                        <td id=\"T_6ed86640_f554_11e9_bfbb_3cfdfe553c98row5_col73\" class=\"data row5 col73\" >nan</td>\n",
       "                        <td id=\"T_6ed86640_f554_11e9_bfbb_3cfdfe553c98row5_col74\" class=\"data row5 col74\" >nan</td>\n",
       "                        <td id=\"T_6ed86640_f554_11e9_bfbb_3cfdfe553c98row5_col75\" class=\"data row5 col75\" >nan</td>\n",
       "                        <td id=\"T_6ed86640_f554_11e9_bfbb_3cfdfe553c98row5_col76\" class=\"data row5 col76\" >nan</td>\n",
       "                        <td id=\"T_6ed86640_f554_11e9_bfbb_3cfdfe553c98row5_col77\" class=\"data row5 col77\" >nan</td>\n",
       "                        <td id=\"T_6ed86640_f554_11e9_bfbb_3cfdfe553c98row5_col78\" class=\"data row5 col78\" >nan</td>\n",
       "                        <td id=\"T_6ed86640_f554_11e9_bfbb_3cfdfe553c98row5_col79\" class=\"data row5 col79\" >nan</td>\n",
       "                        <td id=\"T_6ed86640_f554_11e9_bfbb_3cfdfe553c98row5_col80\" class=\"data row5 col80\" >nan</td>\n",
       "                        <td id=\"T_6ed86640_f554_11e9_bfbb_3cfdfe553c98row5_col81\" class=\"data row5 col81\" >nan</td>\n",
       "                        <td id=\"T_6ed86640_f554_11e9_bfbb_3cfdfe553c98row5_col82\" class=\"data row5 col82\" >nan</td>\n",
       "                        <td id=\"T_6ed86640_f554_11e9_bfbb_3cfdfe553c98row5_col83\" class=\"data row5 col83\" >nan</td>\n",
       "                        <td id=\"T_6ed86640_f554_11e9_bfbb_3cfdfe553c98row5_col84\" class=\"data row5 col84\" >nan</td>\n",
       "                        <td id=\"T_6ed86640_f554_11e9_bfbb_3cfdfe553c98row5_col85\" class=\"data row5 col85\" >nan</td>\n",
       "                        <td id=\"T_6ed86640_f554_11e9_bfbb_3cfdfe553c98row5_col86\" class=\"data row5 col86\" >nan</td>\n",
       "                        <td id=\"T_6ed86640_f554_11e9_bfbb_3cfdfe553c98row5_col87\" class=\"data row5 col87\" >nan</td>\n",
       "                        <td id=\"T_6ed86640_f554_11e9_bfbb_3cfdfe553c98row5_col88\" class=\"data row5 col88\" >nan</td>\n",
       "                        <td id=\"T_6ed86640_f554_11e9_bfbb_3cfdfe553c98row5_col89\" class=\"data row5 col89\" >nan</td>\n",
       "            </tr>\n",
       "    </tbody></table>"
      ],
      "text/plain": [
       "<pandas.io.formats.style.Styler at 0x2aeeca69d400>"
      ]
     },
     "metadata": {},
     "output_type": "display_data"
    },
    {
     "data": {
      "text/plain": [
       "'H2OAutoMLClean #1'"
      ]
     },
     "metadata": {},
     "output_type": "display_data"
    },
    {
     "data": {
      "text/html": [
       "<style  type=\"text/css\" >\n",
       "</style><table id=\"T_6edc03c2_f554_11e9_bfbb_3cfdfe553c98\" ><thead>    <tr>        <th class=\"col_heading level0 col0\" >std</th>        <th class=\"col_heading level0 col1\" >test_acc</th>        <th class=\"col_heading level0 col2\" >train_acc</th>        <th class=\"col_heading level0 col3\" >time_err</th>        <th class=\"col_heading level0 col4\" >time_pre</th>        <th class=\"col_heading level0 col5\" >time_mod</th>    </tr></thead><tbody>\n",
       "                <tr>\n",
       "                                <td id=\"T_6edc03c2_f554_11e9_bfbb_3cfdfe553c98row0_col0\" class=\"data row0 col0\" >0</td>\n",
       "                        <td id=\"T_6edc03c2_f554_11e9_bfbb_3cfdfe553c98row0_col1\" class=\"data row0 col1\" >0.983</td>\n",
       "                        <td id=\"T_6edc03c2_f554_11e9_bfbb_3cfdfe553c98row0_col2\" class=\"data row0 col2\" >1</td>\n",
       "                        <td id=\"T_6edc03c2_f554_11e9_bfbb_3cfdfe553c98row0_col3\" class=\"data row0 col3\" >0.121</td>\n",
       "                        <td id=\"T_6edc03c2_f554_11e9_bfbb_3cfdfe553c98row0_col4\" class=\"data row0 col4\" >0</td>\n",
       "                        <td id=\"T_6edc03c2_f554_11e9_bfbb_3cfdfe553c98row0_col5\" class=\"data row0 col5\" >3669.09</td>\n",
       "            </tr>\n",
       "            <tr>\n",
       "                                <td id=\"T_6edc03c2_f554_11e9_bfbb_3cfdfe553c98row1_col0\" class=\"data row1 col0\" >3.2</td>\n",
       "                        <td id=\"T_6edc03c2_f554_11e9_bfbb_3cfdfe553c98row1_col1\" class=\"data row1 col1\" >0.886</td>\n",
       "                        <td id=\"T_6edc03c2_f554_11e9_bfbb_3cfdfe553c98row1_col2\" class=\"data row1 col2\" >1</td>\n",
       "                        <td id=\"T_6edc03c2_f554_11e9_bfbb_3cfdfe553c98row1_col3\" class=\"data row1 col3\" >0.118</td>\n",
       "                        <td id=\"T_6edc03c2_f554_11e9_bfbb_3cfdfe553c98row1_col4\" class=\"data row1 col4\" >0</td>\n",
       "                        <td id=\"T_6edc03c2_f554_11e9_bfbb_3cfdfe553c98row1_col5\" class=\"data row1 col5\" >3750.97</td>\n",
       "            </tr>\n",
       "            <tr>\n",
       "                                <td id=\"T_6edc03c2_f554_11e9_bfbb_3cfdfe553c98row2_col0\" class=\"data row2 col0\" >6.4</td>\n",
       "                        <td id=\"T_6edc03c2_f554_11e9_bfbb_3cfdfe553c98row2_col1\" class=\"data row2 col1\" >0.511</td>\n",
       "                        <td id=\"T_6edc03c2_f554_11e9_bfbb_3cfdfe553c98row2_col2\" class=\"data row2 col2\" >1</td>\n",
       "                        <td id=\"T_6edc03c2_f554_11e9_bfbb_3cfdfe553c98row2_col3\" class=\"data row2 col3\" >0.116</td>\n",
       "                        <td id=\"T_6edc03c2_f554_11e9_bfbb_3cfdfe553c98row2_col4\" class=\"data row2 col4\" >0</td>\n",
       "                        <td id=\"T_6edc03c2_f554_11e9_bfbb_3cfdfe553c98row2_col5\" class=\"data row2 col5\" >3503.6</td>\n",
       "            </tr>\n",
       "            <tr>\n",
       "                                <td id=\"T_6edc03c2_f554_11e9_bfbb_3cfdfe553c98row3_col0\" class=\"data row3 col0\" >9.6</td>\n",
       "                        <td id=\"T_6edc03c2_f554_11e9_bfbb_3cfdfe553c98row3_col1\" class=\"data row3 col1\" >0.492</td>\n",
       "                        <td id=\"T_6edc03c2_f554_11e9_bfbb_3cfdfe553c98row3_col2\" class=\"data row3 col2\" >1</td>\n",
       "                        <td id=\"T_6edc03c2_f554_11e9_bfbb_3cfdfe553c98row3_col3\" class=\"data row3 col3\" >0.115</td>\n",
       "                        <td id=\"T_6edc03c2_f554_11e9_bfbb_3cfdfe553c98row3_col4\" class=\"data row3 col4\" >0</td>\n",
       "                        <td id=\"T_6edc03c2_f554_11e9_bfbb_3cfdfe553c98row3_col5\" class=\"data row3 col5\" >3571.06</td>\n",
       "            </tr>\n",
       "            <tr>\n",
       "                                <td id=\"T_6edc03c2_f554_11e9_bfbb_3cfdfe553c98row4_col0\" class=\"data row4 col0\" >12.8</td>\n",
       "                        <td id=\"T_6edc03c2_f554_11e9_bfbb_3cfdfe553c98row4_col1\" class=\"data row4 col1\" >0.372</td>\n",
       "                        <td id=\"T_6edc03c2_f554_11e9_bfbb_3cfdfe553c98row4_col2\" class=\"data row4 col2\" >1</td>\n",
       "                        <td id=\"T_6edc03c2_f554_11e9_bfbb_3cfdfe553c98row4_col3\" class=\"data row4 col3\" >0.113</td>\n",
       "                        <td id=\"T_6edc03c2_f554_11e9_bfbb_3cfdfe553c98row4_col4\" class=\"data row4 col4\" >0</td>\n",
       "                        <td id=\"T_6edc03c2_f554_11e9_bfbb_3cfdfe553c98row4_col5\" class=\"data row4 col5\" >3681.43</td>\n",
       "            </tr>\n",
       "            <tr>\n",
       "                                <td id=\"T_6edc03c2_f554_11e9_bfbb_3cfdfe553c98row5_col0\" class=\"data row5 col0\" >16</td>\n",
       "                        <td id=\"T_6edc03c2_f554_11e9_bfbb_3cfdfe553c98row5_col1\" class=\"data row5 col1\" >0.297</td>\n",
       "                        <td id=\"T_6edc03c2_f554_11e9_bfbb_3cfdfe553c98row5_col2\" class=\"data row5 col2\" >1</td>\n",
       "                        <td id=\"T_6edc03c2_f554_11e9_bfbb_3cfdfe553c98row5_col3\" class=\"data row5 col3\" >0.111</td>\n",
       "                        <td id=\"T_6edc03c2_f554_11e9_bfbb_3cfdfe553c98row5_col4\" class=\"data row5 col4\" >0</td>\n",
       "                        <td id=\"T_6edc03c2_f554_11e9_bfbb_3cfdfe553c98row5_col5\" class=\"data row5 col5\" >4028.75</td>\n",
       "            </tr>\n",
       "    </tbody></table>"
      ],
      "text/plain": [
       "<pandas.io.formats.style.Styler at 0x2aee8dac4710>"
      ]
     },
     "metadata": {},
     "output_type": "display_data"
    },
    {
     "data": {
      "text/html": [
       "<style  type=\"text/css\" >\n",
       "</style><table id=\"T_6ede7148_f554_11e9_bfbb_3cfdfe553c98\" ><thead>    <tr>        <th class=\"col_heading level0 col0\" >std</th>        <th class=\"col_heading level0 col1\" >pipe_0</th>        <th class=\"col_heading level0 col2\" >pipe_1</th>        <th class=\"col_heading level0 col3\" >pipe_2</th>        <th class=\"col_heading level0 col4\" >pipe_3</th>        <th class=\"col_heading level0 col5\" >pipe_4</th>        <th class=\"col_heading level0 col6\" >pipe_5</th>        <th class=\"col_heading level0 col7\" >pipe_6</th>        <th class=\"col_heading level0 col8\" >pipe_7</th>        <th class=\"col_heading level0 col9\" >pipe_8</th>        <th class=\"col_heading level0 col10\" >pipe_9</th>        <th class=\"col_heading level0 col11\" >pipe_10</th>        <th class=\"col_heading level0 col12\" >pipe_11</th>        <th class=\"col_heading level0 col13\" >pipe_12</th>        <th class=\"col_heading level0 col14\" >pipe_13</th>        <th class=\"col_heading level0 col15\" >pipe_14</th>        <th class=\"col_heading level0 col16\" >pipe_15</th>        <th class=\"col_heading level0 col17\" >pipe_16</th>        <th class=\"col_heading level0 col18\" >pipe_17</th>        <th class=\"col_heading level0 col19\" >pipe_18</th>        <th class=\"col_heading level0 col20\" >pipe_19</th>        <th class=\"col_heading level0 col21\" >pipe_20</th>        <th class=\"col_heading level0 col22\" >pipe_21</th>        <th class=\"col_heading level0 col23\" >pipe_22</th>        <th class=\"col_heading level0 col24\" >pipe_23</th>        <th class=\"col_heading level0 col25\" >pipe_24</th>        <th class=\"col_heading level0 col26\" >pipe_25</th>        <th class=\"col_heading level0 col27\" >pipe_26</th>        <th class=\"col_heading level0 col28\" >pipe_27</th>        <th class=\"col_heading level0 col29\" >pipe_28</th>        <th class=\"col_heading level0 col30\" >pipe_29</th>        <th class=\"col_heading level0 col31\" >pipe_30</th>        <th class=\"col_heading level0 col32\" >pipe_31</th>        <th class=\"col_heading level0 col33\" >pipe_32</th>        <th class=\"col_heading level0 col34\" >pipe_33</th>        <th class=\"col_heading level0 col35\" >pipe_34</th>        <th class=\"col_heading level0 col36\" >pipe_35</th>        <th class=\"col_heading level0 col37\" >pipe_36</th>        <th class=\"col_heading level0 col38\" >pipe_37</th>        <th class=\"col_heading level0 col39\" >pipe_38</th>        <th class=\"col_heading level0 col40\" >pipe_39</th>        <th class=\"col_heading level0 col41\" >pipe_40</th>        <th class=\"col_heading level0 col42\" >pipe_41</th>        <th class=\"col_heading level0 col43\" >pipe_42</th>        <th class=\"col_heading level0 col44\" >pipe_43</th>        <th class=\"col_heading level0 col45\" >pipe_44</th>        <th class=\"col_heading level0 col46\" >pipe_45</th>        <th class=\"col_heading level0 col47\" >pipe_46</th>        <th class=\"col_heading level0 col48\" >pipe_47</th>        <th class=\"col_heading level0 col49\" >pipe_48</th>        <th class=\"col_heading level0 col50\" >pipe_49</th>        <th class=\"col_heading level0 col51\" >pipe_50</th>        <th class=\"col_heading level0 col52\" >pipe_51</th>        <th class=\"col_heading level0 col53\" >pipe_52</th>        <th class=\"col_heading level0 col54\" >pipe_53</th>        <th class=\"col_heading level0 col55\" >pipe_54</th>        <th class=\"col_heading level0 col56\" >pipe_55</th>        <th class=\"col_heading level0 col57\" >pipe_56</th>        <th class=\"col_heading level0 col58\" >pipe_57</th>        <th class=\"col_heading level0 col59\" >pipe_58</th>        <th class=\"col_heading level0 col60\" >pipe_59</th>        <th class=\"col_heading level0 col61\" >pipe_60</th>        <th class=\"col_heading level0 col62\" >pipe_61</th>        <th class=\"col_heading level0 col63\" >pipe_62</th>        <th class=\"col_heading level0 col64\" >pipe_63</th>        <th class=\"col_heading level0 col65\" >pipe_64</th>        <th class=\"col_heading level0 col66\" >pipe_65</th>        <th class=\"col_heading level0 col67\" >pipe_66</th>        <th class=\"col_heading level0 col68\" >pipe_67</th>        <th class=\"col_heading level0 col69\" >pipe_68</th>        <th class=\"col_heading level0 col70\" >pipe_69</th>        <th class=\"col_heading level0 col71\" >pipe_70</th>        <th class=\"col_heading level0 col72\" >pipe_71</th>        <th class=\"col_heading level0 col73\" >pipe_72</th>        <th class=\"col_heading level0 col74\" >pipe_73</th>        <th class=\"col_heading level0 col75\" >pipe_74</th>        <th class=\"col_heading level0 col76\" >pipe_75</th>        <th class=\"col_heading level0 col77\" >pipe_76</th>        <th class=\"col_heading level0 col78\" >pipe_77</th>        <th class=\"col_heading level0 col79\" >pipe_78</th>        <th class=\"col_heading level0 col80\" >pipe_79</th>        <th class=\"col_heading level0 col81\" >pipe_80</th>        <th class=\"col_heading level0 col82\" >pipe_81</th>        <th class=\"col_heading level0 col83\" >pipe_82</th>        <th class=\"col_heading level0 col84\" >pipe_83</th>        <th class=\"col_heading level0 col85\" >pipe_84</th>        <th class=\"col_heading level0 col86\" >pipe_85</th>        <th class=\"col_heading level0 col87\" >pipe_86</th>        <th class=\"col_heading level0 col88\" >pipe_87</th>        <th class=\"col_heading level0 col89\" >pipe_88</th>        <th class=\"col_heading level0 col90\" >pipe_89</th>        <th class=\"col_heading level0 col91\" >pipe_90</th>        <th class=\"col_heading level0 col92\" >pipe_91</th>        <th class=\"col_heading level0 col93\" >pipe_92</th>        <th class=\"col_heading level0 col94\" >pipe_93</th>        <th class=\"col_heading level0 col95\" >pipe_94</th>        <th class=\"col_heading level0 col96\" >pipe_95</th>        <th class=\"col_heading level0 col97\" >pipe_96</th>        <th class=\"col_heading level0 col98\" >pipe_97</th>        <th class=\"col_heading level0 col99\" >pipe_98</th>        <th class=\"col_heading level0 col100\" >pipe_99</th>        <th class=\"col_heading level0 col101\" >pipe_100</th>        <th class=\"col_heading level0 col102\" >pipe_101</th>        <th class=\"col_heading level0 col103\" >pipe_102</th>        <th class=\"col_heading level0 col104\" >pipe_103</th>        <th class=\"col_heading level0 col105\" >pipe_104</th>        <th class=\"col_heading level0 col106\" >pipe_105</th>        <th class=\"col_heading level0 col107\" >pipe_106</th>        <th class=\"col_heading level0 col108\" >pipe_107</th>    </tr></thead><tbody>\n",
       "                <tr>\n",
       "                                <td id=\"T_6ede7148_f554_11e9_bfbb_3cfdfe553c98row0_col0\" class=\"data row0 col0\" >0</td>\n",
       "                        <td id=\"T_6ede7148_f554_11e9_bfbb_3cfdfe553c98row0_col1\" class=\"data row0 col1\" >StackedEnsemble_AllModels_AutoML_20191023_030705</td>\n",
       "                        <td id=\"T_6ede7148_f554_11e9_bfbb_3cfdfe553c98row0_col2\" class=\"data row0 col2\" >DeepLearning_grid_1_AutoML_20191023_030705_model_2</td>\n",
       "                        <td id=\"T_6ede7148_f554_11e9_bfbb_3cfdfe553c98row0_col3\" class=\"data row0 col3\" >GBM_grid_1_AutoML_20191023_030705_model_31</td>\n",
       "                        <td id=\"T_6ede7148_f554_11e9_bfbb_3cfdfe553c98row0_col4\" class=\"data row0 col4\" >DeepLearning_grid_1_AutoML_20191023_030705_model_12</td>\n",
       "                        <td id=\"T_6ede7148_f554_11e9_bfbb_3cfdfe553c98row0_col5\" class=\"data row0 col5\" >GBM_grid_1_AutoML_20191023_030705_model_18</td>\n",
       "                        <td id=\"T_6ede7148_f554_11e9_bfbb_3cfdfe553c98row0_col6\" class=\"data row0 col6\" >DeepLearning_grid_1_AutoML_20191023_030705_model_8</td>\n",
       "                        <td id=\"T_6ede7148_f554_11e9_bfbb_3cfdfe553c98row0_col7\" class=\"data row0 col7\" >GBM_grid_1_AutoML_20191023_030705_model_19</td>\n",
       "                        <td id=\"T_6ede7148_f554_11e9_bfbb_3cfdfe553c98row0_col8\" class=\"data row0 col8\" >DeepLearning_grid_1_AutoML_20191023_030705_model_1</td>\n",
       "                        <td id=\"T_6ede7148_f554_11e9_bfbb_3cfdfe553c98row0_col9\" class=\"data row0 col9\" >DeepLearning_grid_1_AutoML_20191023_030705_model_7</td>\n",
       "                        <td id=\"T_6ede7148_f554_11e9_bfbb_3cfdfe553c98row0_col10\" class=\"data row0 col10\" >XGBoost_grid_1_AutoML_20191023_030705_model_13</td>\n",
       "                        <td id=\"T_6ede7148_f554_11e9_bfbb_3cfdfe553c98row0_col11\" class=\"data row0 col11\" >GBM_grid_1_AutoML_20191023_030705_model_15</td>\n",
       "                        <td id=\"T_6ede7148_f554_11e9_bfbb_3cfdfe553c98row0_col12\" class=\"data row0 col12\" >GBM_grid_1_AutoML_20191023_030705_model_35</td>\n",
       "                        <td id=\"T_6ede7148_f554_11e9_bfbb_3cfdfe553c98row0_col13\" class=\"data row0 col13\" >GBM_2_AutoML_20191023_030705</td>\n",
       "                        <td id=\"T_6ede7148_f554_11e9_bfbb_3cfdfe553c98row0_col14\" class=\"data row0 col14\" >GBM_grid_1_AutoML_20191023_030705_model_3</td>\n",
       "                        <td id=\"T_6ede7148_f554_11e9_bfbb_3cfdfe553c98row0_col15\" class=\"data row0 col15\" >GBM_3_AutoML_20191023_030705</td>\n",
       "                        <td id=\"T_6ede7148_f554_11e9_bfbb_3cfdfe553c98row0_col16\" class=\"data row0 col16\" >GBM_grid_1_AutoML_20191023_030705_model_32</td>\n",
       "                        <td id=\"T_6ede7148_f554_11e9_bfbb_3cfdfe553c98row0_col17\" class=\"data row0 col17\" >GBM_grid_1_AutoML_20191023_030705_model_26</td>\n",
       "                        <td id=\"T_6ede7148_f554_11e9_bfbb_3cfdfe553c98row0_col18\" class=\"data row0 col18\" >GBM_grid_1_AutoML_20191023_030705_model_6</td>\n",
       "                        <td id=\"T_6ede7148_f554_11e9_bfbb_3cfdfe553c98row0_col19\" class=\"data row0 col19\" >GBM_grid_1_AutoML_20191023_030705_model_27</td>\n",
       "                        <td id=\"T_6ede7148_f554_11e9_bfbb_3cfdfe553c98row0_col20\" class=\"data row0 col20\" >DeepLearning_grid_1_AutoML_20191023_030705_model_11</td>\n",
       "                        <td id=\"T_6ede7148_f554_11e9_bfbb_3cfdfe553c98row0_col21\" class=\"data row0 col21\" >GBM_grid_1_AutoML_20191023_030705_model_20</td>\n",
       "                        <td id=\"T_6ede7148_f554_11e9_bfbb_3cfdfe553c98row0_col22\" class=\"data row0 col22\" >DeepLearning_grid_1_AutoML_20191023_030705_model_3</td>\n",
       "                        <td id=\"T_6ede7148_f554_11e9_bfbb_3cfdfe553c98row0_col23\" class=\"data row0 col23\" >GBM_5_AutoML_20191023_030705</td>\n",
       "                        <td id=\"T_6ede7148_f554_11e9_bfbb_3cfdfe553c98row0_col24\" class=\"data row0 col24\" >GBM_grid_1_AutoML_20191023_030705_model_12</td>\n",
       "                        <td id=\"T_6ede7148_f554_11e9_bfbb_3cfdfe553c98row0_col25\" class=\"data row0 col25\" >GBM_4_AutoML_20191023_030705</td>\n",
       "                        <td id=\"T_6ede7148_f554_11e9_bfbb_3cfdfe553c98row0_col26\" class=\"data row0 col26\" >GLM_grid_1_AutoML_20191023_030705_model_1</td>\n",
       "                        <td id=\"T_6ede7148_f554_11e9_bfbb_3cfdfe553c98row0_col27\" class=\"data row0 col27\" >GBM_grid_1_AutoML_20191023_030705_model_17</td>\n",
       "                        <td id=\"T_6ede7148_f554_11e9_bfbb_3cfdfe553c98row0_col28\" class=\"data row0 col28\" >XRT_1_AutoML_20191023_030705</td>\n",
       "                        <td id=\"T_6ede7148_f554_11e9_bfbb_3cfdfe553c98row0_col29\" class=\"data row0 col29\" >GBM_grid_1_AutoML_20191023_030705_model_1</td>\n",
       "                        <td id=\"T_6ede7148_f554_11e9_bfbb_3cfdfe553c98row0_col30\" class=\"data row0 col30\" >GBM_grid_1_AutoML_20191023_030705_model_10</td>\n",
       "                        <td id=\"T_6ede7148_f554_11e9_bfbb_3cfdfe553c98row0_col31\" class=\"data row0 col31\" >XGBoost_grid_1_AutoML_20191023_030705_model_8</td>\n",
       "                        <td id=\"T_6ede7148_f554_11e9_bfbb_3cfdfe553c98row0_col32\" class=\"data row0 col32\" >GBM_1_AutoML_20191023_030705</td>\n",
       "                        <td id=\"T_6ede7148_f554_11e9_bfbb_3cfdfe553c98row0_col33\" class=\"data row0 col33\" >GBM_grid_1_AutoML_20191023_030705_model_14</td>\n",
       "                        <td id=\"T_6ede7148_f554_11e9_bfbb_3cfdfe553c98row0_col34\" class=\"data row0 col34\" >GBM_grid_1_AutoML_20191023_030705_model_11</td>\n",
       "                        <td id=\"T_6ede7148_f554_11e9_bfbb_3cfdfe553c98row0_col35\" class=\"data row0 col35\" >GBM_grid_1_AutoML_20191023_030705_model_16</td>\n",
       "                        <td id=\"T_6ede7148_f554_11e9_bfbb_3cfdfe553c98row0_col36\" class=\"data row0 col36\" >GBM_grid_1_AutoML_20191023_030705_model_24</td>\n",
       "                        <td id=\"T_6ede7148_f554_11e9_bfbb_3cfdfe553c98row0_col37\" class=\"data row0 col37\" >DRF_1_AutoML_20191023_030705</td>\n",
       "                        <td id=\"T_6ede7148_f554_11e9_bfbb_3cfdfe553c98row0_col38\" class=\"data row0 col38\" >XGBoost_grid_1_AutoML_20191023_030705_model_17</td>\n",
       "                        <td id=\"T_6ede7148_f554_11e9_bfbb_3cfdfe553c98row0_col39\" class=\"data row0 col39\" >DeepLearning_grid_1_AutoML_20191023_030705_model_5</td>\n",
       "                        <td id=\"T_6ede7148_f554_11e9_bfbb_3cfdfe553c98row0_col40\" class=\"data row0 col40\" >GBM_grid_1_AutoML_20191023_030705_model_13</td>\n",
       "                        <td id=\"T_6ede7148_f554_11e9_bfbb_3cfdfe553c98row0_col41\" class=\"data row0 col41\" >XGBoost_3_AutoML_20191023_030705</td>\n",
       "                        <td id=\"T_6ede7148_f554_11e9_bfbb_3cfdfe553c98row0_col42\" class=\"data row0 col42\" >DeepLearning_grid_1_AutoML_20191023_030705_model_4</td>\n",
       "                        <td id=\"T_6ede7148_f554_11e9_bfbb_3cfdfe553c98row0_col43\" class=\"data row0 col43\" >XGBoost_1_AutoML_20191023_030705</td>\n",
       "                        <td id=\"T_6ede7148_f554_11e9_bfbb_3cfdfe553c98row0_col44\" class=\"data row0 col44\" >XGBoost_grid_1_AutoML_20191023_030705_model_25</td>\n",
       "                        <td id=\"T_6ede7148_f554_11e9_bfbb_3cfdfe553c98row0_col45\" class=\"data row0 col45\" >XGBoost_grid_1_AutoML_20191023_030705_model_21</td>\n",
       "                        <td id=\"T_6ede7148_f554_11e9_bfbb_3cfdfe553c98row0_col46\" class=\"data row0 col46\" >XGBoost_grid_1_AutoML_20191023_030705_model_18</td>\n",
       "                        <td id=\"T_6ede7148_f554_11e9_bfbb_3cfdfe553c98row0_col47\" class=\"data row0 col47\" >DeepLearning_grid_1_AutoML_20191023_030705_model_13</td>\n",
       "                        <td id=\"T_6ede7148_f554_11e9_bfbb_3cfdfe553c98row0_col48\" class=\"data row0 col48\" >DeepLearning_grid_1_AutoML_20191023_030705_model_10</td>\n",
       "                        <td id=\"T_6ede7148_f554_11e9_bfbb_3cfdfe553c98row0_col49\" class=\"data row0 col49\" >XGBoost_grid_1_AutoML_20191023_030705_model_26</td>\n",
       "                        <td id=\"T_6ede7148_f554_11e9_bfbb_3cfdfe553c98row0_col50\" class=\"data row0 col50\" >XGBoost_grid_1_AutoML_20191023_030705_model_15</td>\n",
       "                        <td id=\"T_6ede7148_f554_11e9_bfbb_3cfdfe553c98row0_col51\" class=\"data row0 col51\" >DeepLearning_grid_1_AutoML_20191023_030705_model_9</td>\n",
       "                        <td id=\"T_6ede7148_f554_11e9_bfbb_3cfdfe553c98row0_col52\" class=\"data row0 col52\" >DeepLearning_grid_1_AutoML_20191023_030705_model_6</td>\n",
       "                        <td id=\"T_6ede7148_f554_11e9_bfbb_3cfdfe553c98row0_col53\" class=\"data row0 col53\" >GBM_grid_1_AutoML_20191023_030705_model_8</td>\n",
       "                        <td id=\"T_6ede7148_f554_11e9_bfbb_3cfdfe553c98row0_col54\" class=\"data row0 col54\" >GBM_grid_1_AutoML_20191023_030705_model_9</td>\n",
       "                        <td id=\"T_6ede7148_f554_11e9_bfbb_3cfdfe553c98row0_col55\" class=\"data row0 col55\" >XGBoost_grid_1_AutoML_20191023_030705_model_20</td>\n",
       "                        <td id=\"T_6ede7148_f554_11e9_bfbb_3cfdfe553c98row0_col56\" class=\"data row0 col56\" >XGBoost_grid_1_AutoML_20191023_030705_model_30</td>\n",
       "                        <td id=\"T_6ede7148_f554_11e9_bfbb_3cfdfe553c98row0_col57\" class=\"data row0 col57\" >XGBoost_grid_1_AutoML_20191023_030705_model_27</td>\n",
       "                        <td id=\"T_6ede7148_f554_11e9_bfbb_3cfdfe553c98row0_col58\" class=\"data row0 col58\" >XGBoost_grid_1_AutoML_20191023_030705_model_4</td>\n",
       "                        <td id=\"T_6ede7148_f554_11e9_bfbb_3cfdfe553c98row0_col59\" class=\"data row0 col59\" >XGBoost_grid_1_AutoML_20191023_030705_model_2</td>\n",
       "                        <td id=\"T_6ede7148_f554_11e9_bfbb_3cfdfe553c98row0_col60\" class=\"data row0 col60\" >GBM_grid_1_AutoML_20191023_030705_model_29</td>\n",
       "                        <td id=\"T_6ede7148_f554_11e9_bfbb_3cfdfe553c98row0_col61\" class=\"data row0 col61\" >XGBoost_grid_1_AutoML_20191023_030705_model_29</td>\n",
       "                        <td id=\"T_6ede7148_f554_11e9_bfbb_3cfdfe553c98row0_col62\" class=\"data row0 col62\" >GBM_grid_1_AutoML_20191023_030705_model_28</td>\n",
       "                        <td id=\"T_6ede7148_f554_11e9_bfbb_3cfdfe553c98row0_col63\" class=\"data row0 col63\" >XGBoost_grid_1_AutoML_20191023_030705_model_28</td>\n",
       "                        <td id=\"T_6ede7148_f554_11e9_bfbb_3cfdfe553c98row0_col64\" class=\"data row0 col64\" >GBM_grid_1_AutoML_20191023_030705_model_39</td>\n",
       "                        <td id=\"T_6ede7148_f554_11e9_bfbb_3cfdfe553c98row0_col65\" class=\"data row0 col65\" >XGBoost_grid_1_AutoML_20191023_030705_model_3</td>\n",
       "                        <td id=\"T_6ede7148_f554_11e9_bfbb_3cfdfe553c98row0_col66\" class=\"data row0 col66\" >XGBoost_grid_1_AutoML_20191023_030705_model_23</td>\n",
       "                        <td id=\"T_6ede7148_f554_11e9_bfbb_3cfdfe553c98row0_col67\" class=\"data row0 col67\" >XGBoost_grid_1_AutoML_20191023_030705_model_7</td>\n",
       "                        <td id=\"T_6ede7148_f554_11e9_bfbb_3cfdfe553c98row0_col68\" class=\"data row0 col68\" >XGBoost_grid_1_AutoML_20191023_030705_model_19</td>\n",
       "                        <td id=\"T_6ede7148_f554_11e9_bfbb_3cfdfe553c98row0_col69\" class=\"data row0 col69\" >GBM_grid_1_AutoML_20191023_030705_model_25</td>\n",
       "                        <td id=\"T_6ede7148_f554_11e9_bfbb_3cfdfe553c98row0_col70\" class=\"data row0 col70\" >GBM_grid_1_AutoML_20191023_030705_model_21</td>\n",
       "                        <td id=\"T_6ede7148_f554_11e9_bfbb_3cfdfe553c98row0_col71\" class=\"data row0 col71\" >XGBoost_2_AutoML_20191023_030705</td>\n",
       "                        <td id=\"T_6ede7148_f554_11e9_bfbb_3cfdfe553c98row0_col72\" class=\"data row0 col72\" >GBM_grid_1_AutoML_20191023_030705_model_30</td>\n",
       "                        <td id=\"T_6ede7148_f554_11e9_bfbb_3cfdfe553c98row0_col73\" class=\"data row0 col73\" >GBM_grid_1_AutoML_20191023_030705_model_7</td>\n",
       "                        <td id=\"T_6ede7148_f554_11e9_bfbb_3cfdfe553c98row0_col74\" class=\"data row0 col74\" >GBM_grid_1_AutoML_20191023_030705_model_23</td>\n",
       "                        <td id=\"T_6ede7148_f554_11e9_bfbb_3cfdfe553c98row0_col75\" class=\"data row0 col75\" >GBM_grid_1_AutoML_20191023_030705_model_38</td>\n",
       "                        <td id=\"T_6ede7148_f554_11e9_bfbb_3cfdfe553c98row0_col76\" class=\"data row0 col76\" >XGBoost_grid_1_AutoML_20191023_030705_model_5</td>\n",
       "                        <td id=\"T_6ede7148_f554_11e9_bfbb_3cfdfe553c98row0_col77\" class=\"data row0 col77\" >XGBoost_grid_1_AutoML_20191023_030705_model_22</td>\n",
       "                        <td id=\"T_6ede7148_f554_11e9_bfbb_3cfdfe553c98row0_col78\" class=\"data row0 col78\" >GBM_grid_1_AutoML_20191023_030705_model_33</td>\n",
       "                        <td id=\"T_6ede7148_f554_11e9_bfbb_3cfdfe553c98row0_col79\" class=\"data row0 col79\" >XGBoost_grid_1_AutoML_20191023_030705_model_12</td>\n",
       "                        <td id=\"T_6ede7148_f554_11e9_bfbb_3cfdfe553c98row0_col80\" class=\"data row0 col80\" >GBM_grid_1_AutoML_20191023_030705_model_5</td>\n",
       "                        <td id=\"T_6ede7148_f554_11e9_bfbb_3cfdfe553c98row0_col81\" class=\"data row0 col81\" >XGBoost_grid_1_AutoML_20191023_030705_model_11</td>\n",
       "                        <td id=\"T_6ede7148_f554_11e9_bfbb_3cfdfe553c98row0_col82\" class=\"data row0 col82\" >XGBoost_grid_1_AutoML_20191023_030705_model_6</td>\n",
       "                        <td id=\"T_6ede7148_f554_11e9_bfbb_3cfdfe553c98row0_col83\" class=\"data row0 col83\" >XGBoost_grid_1_AutoML_20191023_030705_model_1</td>\n",
       "                        <td id=\"T_6ede7148_f554_11e9_bfbb_3cfdfe553c98row0_col84\" class=\"data row0 col84\" >GBM_grid_1_AutoML_20191023_030705_model_37</td>\n",
       "                        <td id=\"T_6ede7148_f554_11e9_bfbb_3cfdfe553c98row0_col85\" class=\"data row0 col85\" >XGBoost_grid_1_AutoML_20191023_030705_model_14</td>\n",
       "                        <td id=\"T_6ede7148_f554_11e9_bfbb_3cfdfe553c98row0_col86\" class=\"data row0 col86\" >XGBoost_grid_1_AutoML_20191023_030705_model_24</td>\n",
       "                        <td id=\"T_6ede7148_f554_11e9_bfbb_3cfdfe553c98row0_col87\" class=\"data row0 col87\" >XGBoost_grid_1_AutoML_20191023_030705_model_10</td>\n",
       "                        <td id=\"T_6ede7148_f554_11e9_bfbb_3cfdfe553c98row0_col88\" class=\"data row0 col88\" >GBM_grid_1_AutoML_20191023_030705_model_4</td>\n",
       "                        <td id=\"T_6ede7148_f554_11e9_bfbb_3cfdfe553c98row0_col89\" class=\"data row0 col89\" >XGBoost_grid_1_AutoML_20191023_030705_model_16</td>\n",
       "                        <td id=\"T_6ede7148_f554_11e9_bfbb_3cfdfe553c98row0_col90\" class=\"data row0 col90\" >XGBoost_grid_1_AutoML_20191023_030705_model_9</td>\n",
       "                        <td id=\"T_6ede7148_f554_11e9_bfbb_3cfdfe553c98row0_col91\" class=\"data row0 col91\" >GBM_grid_1_AutoML_20191023_030705_model_34</td>\n",
       "                        <td id=\"T_6ede7148_f554_11e9_bfbb_3cfdfe553c98row0_col92\" class=\"data row0 col92\" >GBM_grid_1_AutoML_20191023_030705_model_2</td>\n",
       "                        <td id=\"T_6ede7148_f554_11e9_bfbb_3cfdfe553c98row0_col93\" class=\"data row0 col93\" >DeepLearning_1_AutoML_20191023_030705</td>\n",
       "                        <td id=\"T_6ede7148_f554_11e9_bfbb_3cfdfe553c98row0_col94\" class=\"data row0 col94\" >GBM_grid_1_AutoML_20191023_030705_model_40</td>\n",
       "                        <td id=\"T_6ede7148_f554_11e9_bfbb_3cfdfe553c98row0_col95\" class=\"data row0 col95\" >GBM_grid_1_AutoML_20191023_030705_model_22</td>\n",
       "                        <td id=\"T_6ede7148_f554_11e9_bfbb_3cfdfe553c98row0_col96\" class=\"data row0 col96\" >GBM_grid_1_AutoML_20191023_030705_model_36</td>\n",
       "                        <td id=\"T_6ede7148_f554_11e9_bfbb_3cfdfe553c98row0_col97\" class=\"data row0 col97\" >nan</td>\n",
       "                        <td id=\"T_6ede7148_f554_11e9_bfbb_3cfdfe553c98row0_col98\" class=\"data row0 col98\" >nan</td>\n",
       "                        <td id=\"T_6ede7148_f554_11e9_bfbb_3cfdfe553c98row0_col99\" class=\"data row0 col99\" >nan</td>\n",
       "                        <td id=\"T_6ede7148_f554_11e9_bfbb_3cfdfe553c98row0_col100\" class=\"data row0 col100\" >nan</td>\n",
       "                        <td id=\"T_6ede7148_f554_11e9_bfbb_3cfdfe553c98row0_col101\" class=\"data row0 col101\" >nan</td>\n",
       "                        <td id=\"T_6ede7148_f554_11e9_bfbb_3cfdfe553c98row0_col102\" class=\"data row0 col102\" >nan</td>\n",
       "                        <td id=\"T_6ede7148_f554_11e9_bfbb_3cfdfe553c98row0_col103\" class=\"data row0 col103\" >nan</td>\n",
       "                        <td id=\"T_6ede7148_f554_11e9_bfbb_3cfdfe553c98row0_col104\" class=\"data row0 col104\" >nan</td>\n",
       "                        <td id=\"T_6ede7148_f554_11e9_bfbb_3cfdfe553c98row0_col105\" class=\"data row0 col105\" >nan</td>\n",
       "                        <td id=\"T_6ede7148_f554_11e9_bfbb_3cfdfe553c98row0_col106\" class=\"data row0 col106\" >nan</td>\n",
       "                        <td id=\"T_6ede7148_f554_11e9_bfbb_3cfdfe553c98row0_col107\" class=\"data row0 col107\" >nan</td>\n",
       "                        <td id=\"T_6ede7148_f554_11e9_bfbb_3cfdfe553c98row0_col108\" class=\"data row0 col108\" >nan</td>\n",
       "            </tr>\n",
       "            <tr>\n",
       "                                <td id=\"T_6ede7148_f554_11e9_bfbb_3cfdfe553c98row1_col0\" class=\"data row1 col0\" >3.2</td>\n",
       "                        <td id=\"T_6ede7148_f554_11e9_bfbb_3cfdfe553c98row1_col1\" class=\"data row1 col1\" >StackedEnsemble_AllModels_AutoML_20191023_030743</td>\n",
       "                        <td id=\"T_6ede7148_f554_11e9_bfbb_3cfdfe553c98row1_col2\" class=\"data row1 col2\" >GBM_grid_1_AutoML_20191023_030743_model_31</td>\n",
       "                        <td id=\"T_6ede7148_f554_11e9_bfbb_3cfdfe553c98row1_col3\" class=\"data row1 col3\" >DeepLearning_grid_1_AutoML_20191023_030743_model_12</td>\n",
       "                        <td id=\"T_6ede7148_f554_11e9_bfbb_3cfdfe553c98row1_col4\" class=\"data row1 col4\" >DeepLearning_grid_1_AutoML_20191023_030743_model_8</td>\n",
       "                        <td id=\"T_6ede7148_f554_11e9_bfbb_3cfdfe553c98row1_col5\" class=\"data row1 col5\" >GBM_grid_1_AutoML_20191023_030743_model_18</td>\n",
       "                        <td id=\"T_6ede7148_f554_11e9_bfbb_3cfdfe553c98row1_col6\" class=\"data row1 col6\" >GBM_grid_1_AutoML_20191023_030743_model_19</td>\n",
       "                        <td id=\"T_6ede7148_f554_11e9_bfbb_3cfdfe553c98row1_col7\" class=\"data row1 col7\" >DeepLearning_grid_1_AutoML_20191023_030743_model_2</td>\n",
       "                        <td id=\"T_6ede7148_f554_11e9_bfbb_3cfdfe553c98row1_col8\" class=\"data row1 col8\" >DeepLearning_grid_1_AutoML_20191023_030743_model_7</td>\n",
       "                        <td id=\"T_6ede7148_f554_11e9_bfbb_3cfdfe553c98row1_col9\" class=\"data row1 col9\" >DeepLearning_grid_1_AutoML_20191023_030743_model_1</td>\n",
       "                        <td id=\"T_6ede7148_f554_11e9_bfbb_3cfdfe553c98row1_col10\" class=\"data row1 col10\" >XGBoost_grid_1_AutoML_20191023_030743_model_13</td>\n",
       "                        <td id=\"T_6ede7148_f554_11e9_bfbb_3cfdfe553c98row1_col11\" class=\"data row1 col11\" >GBM_grid_1_AutoML_20191023_030743_model_15</td>\n",
       "                        <td id=\"T_6ede7148_f554_11e9_bfbb_3cfdfe553c98row1_col12\" class=\"data row1 col12\" >GBM_grid_1_AutoML_20191023_030743_model_35</td>\n",
       "                        <td id=\"T_6ede7148_f554_11e9_bfbb_3cfdfe553c98row1_col13\" class=\"data row1 col13\" >GBM_2_AutoML_20191023_030743</td>\n",
       "                        <td id=\"T_6ede7148_f554_11e9_bfbb_3cfdfe553c98row1_col14\" class=\"data row1 col14\" >GBM_grid_1_AutoML_20191023_030743_model_3</td>\n",
       "                        <td id=\"T_6ede7148_f554_11e9_bfbb_3cfdfe553c98row1_col15\" class=\"data row1 col15\" >GBM_3_AutoML_20191023_030743</td>\n",
       "                        <td id=\"T_6ede7148_f554_11e9_bfbb_3cfdfe553c98row1_col16\" class=\"data row1 col16\" >GBM_grid_1_AutoML_20191023_030743_model_32</td>\n",
       "                        <td id=\"T_6ede7148_f554_11e9_bfbb_3cfdfe553c98row1_col17\" class=\"data row1 col17\" >GBM_grid_1_AutoML_20191023_030743_model_26</td>\n",
       "                        <td id=\"T_6ede7148_f554_11e9_bfbb_3cfdfe553c98row1_col18\" class=\"data row1 col18\" >DeepLearning_grid_1_AutoML_20191023_030743_model_11</td>\n",
       "                        <td id=\"T_6ede7148_f554_11e9_bfbb_3cfdfe553c98row1_col19\" class=\"data row1 col19\" >GBM_grid_1_AutoML_20191023_030743_model_6</td>\n",
       "                        <td id=\"T_6ede7148_f554_11e9_bfbb_3cfdfe553c98row1_col20\" class=\"data row1 col20\" >GBM_grid_1_AutoML_20191023_030743_model_27</td>\n",
       "                        <td id=\"T_6ede7148_f554_11e9_bfbb_3cfdfe553c98row1_col21\" class=\"data row1 col21\" >DeepLearning_grid_1_AutoML_20191023_030743_model_3</td>\n",
       "                        <td id=\"T_6ede7148_f554_11e9_bfbb_3cfdfe553c98row1_col22\" class=\"data row1 col22\" >GBM_grid_1_AutoML_20191023_030743_model_20</td>\n",
       "                        <td id=\"T_6ede7148_f554_11e9_bfbb_3cfdfe553c98row1_col23\" class=\"data row1 col23\" >GBM_5_AutoML_20191023_030743</td>\n",
       "                        <td id=\"T_6ede7148_f554_11e9_bfbb_3cfdfe553c98row1_col24\" class=\"data row1 col24\" >DeepLearning_grid_1_AutoML_20191023_030743_model_4</td>\n",
       "                        <td id=\"T_6ede7148_f554_11e9_bfbb_3cfdfe553c98row1_col25\" class=\"data row1 col25\" >GBM_grid_1_AutoML_20191023_030743_model_12</td>\n",
       "                        <td id=\"T_6ede7148_f554_11e9_bfbb_3cfdfe553c98row1_col26\" class=\"data row1 col26\" >DeepLearning_grid_1_AutoML_20191023_030743_model_5</td>\n",
       "                        <td id=\"T_6ede7148_f554_11e9_bfbb_3cfdfe553c98row1_col27\" class=\"data row1 col27\" >GBM_4_AutoML_20191023_030743</td>\n",
       "                        <td id=\"T_6ede7148_f554_11e9_bfbb_3cfdfe553c98row1_col28\" class=\"data row1 col28\" >GLM_grid_1_AutoML_20191023_030743_model_1</td>\n",
       "                        <td id=\"T_6ede7148_f554_11e9_bfbb_3cfdfe553c98row1_col29\" class=\"data row1 col29\" >GBM_grid_1_AutoML_20191023_030743_model_17</td>\n",
       "                        <td id=\"T_6ede7148_f554_11e9_bfbb_3cfdfe553c98row1_col30\" class=\"data row1 col30\" >XRT_1_AutoML_20191023_030743</td>\n",
       "                        <td id=\"T_6ede7148_f554_11e9_bfbb_3cfdfe553c98row1_col31\" class=\"data row1 col31\" >GBM_grid_1_AutoML_20191023_030743_model_1</td>\n",
       "                        <td id=\"T_6ede7148_f554_11e9_bfbb_3cfdfe553c98row1_col32\" class=\"data row1 col32\" >GBM_grid_1_AutoML_20191023_030743_model_10</td>\n",
       "                        <td id=\"T_6ede7148_f554_11e9_bfbb_3cfdfe553c98row1_col33\" class=\"data row1 col33\" >XGBoost_grid_1_AutoML_20191023_030743_model_8</td>\n",
       "                        <td id=\"T_6ede7148_f554_11e9_bfbb_3cfdfe553c98row1_col34\" class=\"data row1 col34\" >GBM_1_AutoML_20191023_030743</td>\n",
       "                        <td id=\"T_6ede7148_f554_11e9_bfbb_3cfdfe553c98row1_col35\" class=\"data row1 col35\" >GBM_grid_1_AutoML_20191023_030743_model_14</td>\n",
       "                        <td id=\"T_6ede7148_f554_11e9_bfbb_3cfdfe553c98row1_col36\" class=\"data row1 col36\" >GBM_grid_1_AutoML_20191023_030743_model_11</td>\n",
       "                        <td id=\"T_6ede7148_f554_11e9_bfbb_3cfdfe553c98row1_col37\" class=\"data row1 col37\" >GBM_grid_1_AutoML_20191023_030743_model_16</td>\n",
       "                        <td id=\"T_6ede7148_f554_11e9_bfbb_3cfdfe553c98row1_col38\" class=\"data row1 col38\" >GBM_grid_1_AutoML_20191023_030743_model_24</td>\n",
       "                        <td id=\"T_6ede7148_f554_11e9_bfbb_3cfdfe553c98row1_col39\" class=\"data row1 col39\" >DRF_1_AutoML_20191023_030743</td>\n",
       "                        <td id=\"T_6ede7148_f554_11e9_bfbb_3cfdfe553c98row1_col40\" class=\"data row1 col40\" >XGBoost_grid_1_AutoML_20191023_030743_model_17</td>\n",
       "                        <td id=\"T_6ede7148_f554_11e9_bfbb_3cfdfe553c98row1_col41\" class=\"data row1 col41\" >GBM_grid_1_AutoML_20191023_030743_model_13</td>\n",
       "                        <td id=\"T_6ede7148_f554_11e9_bfbb_3cfdfe553c98row1_col42\" class=\"data row1 col42\" >XGBoost_3_AutoML_20191023_030743</td>\n",
       "                        <td id=\"T_6ede7148_f554_11e9_bfbb_3cfdfe553c98row1_col43\" class=\"data row1 col43\" >DeepLearning_grid_1_AutoML_20191023_030743_model_6</td>\n",
       "                        <td id=\"T_6ede7148_f554_11e9_bfbb_3cfdfe553c98row1_col44\" class=\"data row1 col44\" >XGBoost_1_AutoML_20191023_030743</td>\n",
       "                        <td id=\"T_6ede7148_f554_11e9_bfbb_3cfdfe553c98row1_col45\" class=\"data row1 col45\" >DeepLearning_grid_1_AutoML_20191023_030743_model_13</td>\n",
       "                        <td id=\"T_6ede7148_f554_11e9_bfbb_3cfdfe553c98row1_col46\" class=\"data row1 col46\" >XGBoost_grid_1_AutoML_20191023_030743_model_25</td>\n",
       "                        <td id=\"T_6ede7148_f554_11e9_bfbb_3cfdfe553c98row1_col47\" class=\"data row1 col47\" >XGBoost_grid_1_AutoML_20191023_030743_model_21</td>\n",
       "                        <td id=\"T_6ede7148_f554_11e9_bfbb_3cfdfe553c98row1_col48\" class=\"data row1 col48\" >XGBoost_grid_1_AutoML_20191023_030743_model_18</td>\n",
       "                        <td id=\"T_6ede7148_f554_11e9_bfbb_3cfdfe553c98row1_col49\" class=\"data row1 col49\" >XGBoost_grid_1_AutoML_20191023_030743_model_26</td>\n",
       "                        <td id=\"T_6ede7148_f554_11e9_bfbb_3cfdfe553c98row1_col50\" class=\"data row1 col50\" >XGBoost_grid_1_AutoML_20191023_030743_model_15</td>\n",
       "                        <td id=\"T_6ede7148_f554_11e9_bfbb_3cfdfe553c98row1_col51\" class=\"data row1 col51\" >GBM_grid_1_AutoML_20191023_030743_model_8</td>\n",
       "                        <td id=\"T_6ede7148_f554_11e9_bfbb_3cfdfe553c98row1_col52\" class=\"data row1 col52\" >DeepLearning_grid_1_AutoML_20191023_030743_model_9</td>\n",
       "                        <td id=\"T_6ede7148_f554_11e9_bfbb_3cfdfe553c98row1_col53\" class=\"data row1 col53\" >GBM_grid_1_AutoML_20191023_030743_model_9</td>\n",
       "                        <td id=\"T_6ede7148_f554_11e9_bfbb_3cfdfe553c98row1_col54\" class=\"data row1 col54\" >XGBoost_grid_1_AutoML_20191023_030743_model_20</td>\n",
       "                        <td id=\"T_6ede7148_f554_11e9_bfbb_3cfdfe553c98row1_col55\" class=\"data row1 col55\" >XGBoost_grid_1_AutoML_20191023_030743_model_27</td>\n",
       "                        <td id=\"T_6ede7148_f554_11e9_bfbb_3cfdfe553c98row1_col56\" class=\"data row1 col56\" >XGBoost_grid_1_AutoML_20191023_030743_model_30</td>\n",
       "                        <td id=\"T_6ede7148_f554_11e9_bfbb_3cfdfe553c98row1_col57\" class=\"data row1 col57\" >XGBoost_grid_1_AutoML_20191023_030743_model_4</td>\n",
       "                        <td id=\"T_6ede7148_f554_11e9_bfbb_3cfdfe553c98row1_col58\" class=\"data row1 col58\" >XGBoost_grid_1_AutoML_20191023_030743_model_2</td>\n",
       "                        <td id=\"T_6ede7148_f554_11e9_bfbb_3cfdfe553c98row1_col59\" class=\"data row1 col59\" >DeepLearning_grid_1_AutoML_20191023_030743_model_14</td>\n",
       "                        <td id=\"T_6ede7148_f554_11e9_bfbb_3cfdfe553c98row1_col60\" class=\"data row1 col60\" >GBM_grid_1_AutoML_20191023_030743_model_29</td>\n",
       "                        <td id=\"T_6ede7148_f554_11e9_bfbb_3cfdfe553c98row1_col61\" class=\"data row1 col61\" >XGBoost_grid_1_AutoML_20191023_030743_model_29</td>\n",
       "                        <td id=\"T_6ede7148_f554_11e9_bfbb_3cfdfe553c98row1_col62\" class=\"data row1 col62\" >GBM_grid_1_AutoML_20191023_030743_model_28</td>\n",
       "                        <td id=\"T_6ede7148_f554_11e9_bfbb_3cfdfe553c98row1_col63\" class=\"data row1 col63\" >XGBoost_grid_1_AutoML_20191023_030743_model_28</td>\n",
       "                        <td id=\"T_6ede7148_f554_11e9_bfbb_3cfdfe553c98row1_col64\" class=\"data row1 col64\" >XGBoost_grid_1_AutoML_20191023_030743_model_3</td>\n",
       "                        <td id=\"T_6ede7148_f554_11e9_bfbb_3cfdfe553c98row1_col65\" class=\"data row1 col65\" >XGBoost_grid_1_AutoML_20191023_030743_model_23</td>\n",
       "                        <td id=\"T_6ede7148_f554_11e9_bfbb_3cfdfe553c98row1_col66\" class=\"data row1 col66\" >XGBoost_grid_1_AutoML_20191023_030743_model_7</td>\n",
       "                        <td id=\"T_6ede7148_f554_11e9_bfbb_3cfdfe553c98row1_col67\" class=\"data row1 col67\" >XGBoost_grid_1_AutoML_20191023_030743_model_19</td>\n",
       "                        <td id=\"T_6ede7148_f554_11e9_bfbb_3cfdfe553c98row1_col68\" class=\"data row1 col68\" >GBM_grid_1_AutoML_20191023_030743_model_25</td>\n",
       "                        <td id=\"T_6ede7148_f554_11e9_bfbb_3cfdfe553c98row1_col69\" class=\"data row1 col69\" >GBM_grid_1_AutoML_20191023_030743_model_21</td>\n",
       "                        <td id=\"T_6ede7148_f554_11e9_bfbb_3cfdfe553c98row1_col70\" class=\"data row1 col70\" >XGBoost_2_AutoML_20191023_030743</td>\n",
       "                        <td id=\"T_6ede7148_f554_11e9_bfbb_3cfdfe553c98row1_col71\" class=\"data row1 col71\" >GBM_grid_1_AutoML_20191023_030743_model_30</td>\n",
       "                        <td id=\"T_6ede7148_f554_11e9_bfbb_3cfdfe553c98row1_col72\" class=\"data row1 col72\" >GBM_grid_1_AutoML_20191023_030743_model_7</td>\n",
       "                        <td id=\"T_6ede7148_f554_11e9_bfbb_3cfdfe553c98row1_col73\" class=\"data row1 col73\" >GBM_grid_1_AutoML_20191023_030743_model_23</td>\n",
       "                        <td id=\"T_6ede7148_f554_11e9_bfbb_3cfdfe553c98row1_col74\" class=\"data row1 col74\" >DeepLearning_grid_1_AutoML_20191023_030743_model_10</td>\n",
       "                        <td id=\"T_6ede7148_f554_11e9_bfbb_3cfdfe553c98row1_col75\" class=\"data row1 col75\" >XGBoost_grid_1_AutoML_20191023_030743_model_5</td>\n",
       "                        <td id=\"T_6ede7148_f554_11e9_bfbb_3cfdfe553c98row1_col76\" class=\"data row1 col76\" >XGBoost_grid_1_AutoML_20191023_030743_model_22</td>\n",
       "                        <td id=\"T_6ede7148_f554_11e9_bfbb_3cfdfe553c98row1_col77\" class=\"data row1 col77\" >GBM_grid_1_AutoML_20191023_030743_model_33</td>\n",
       "                        <td id=\"T_6ede7148_f554_11e9_bfbb_3cfdfe553c98row1_col78\" class=\"data row1 col78\" >XGBoost_grid_1_AutoML_20191023_030743_model_12</td>\n",
       "                        <td id=\"T_6ede7148_f554_11e9_bfbb_3cfdfe553c98row1_col79\" class=\"data row1 col79\" >GBM_grid_1_AutoML_20191023_030743_model_5</td>\n",
       "                        <td id=\"T_6ede7148_f554_11e9_bfbb_3cfdfe553c98row1_col80\" class=\"data row1 col80\" >XGBoost_grid_1_AutoML_20191023_030743_model_11</td>\n",
       "                        <td id=\"T_6ede7148_f554_11e9_bfbb_3cfdfe553c98row1_col81\" class=\"data row1 col81\" >XGBoost_grid_1_AutoML_20191023_030743_model_6</td>\n",
       "                        <td id=\"T_6ede7148_f554_11e9_bfbb_3cfdfe553c98row1_col82\" class=\"data row1 col82\" >XGBoost_grid_1_AutoML_20191023_030743_model_1</td>\n",
       "                        <td id=\"T_6ede7148_f554_11e9_bfbb_3cfdfe553c98row1_col83\" class=\"data row1 col83\" >XGBoost_grid_1_AutoML_20191023_030743_model_14</td>\n",
       "                        <td id=\"T_6ede7148_f554_11e9_bfbb_3cfdfe553c98row1_col84\" class=\"data row1 col84\" >XGBoost_grid_1_AutoML_20191023_030743_model_24</td>\n",
       "                        <td id=\"T_6ede7148_f554_11e9_bfbb_3cfdfe553c98row1_col85\" class=\"data row1 col85\" >XGBoost_grid_1_AutoML_20191023_030743_model_10</td>\n",
       "                        <td id=\"T_6ede7148_f554_11e9_bfbb_3cfdfe553c98row1_col86\" class=\"data row1 col86\" >GBM_grid_1_AutoML_20191023_030743_model_4</td>\n",
       "                        <td id=\"T_6ede7148_f554_11e9_bfbb_3cfdfe553c98row1_col87\" class=\"data row1 col87\" >GBM_grid_1_AutoML_20191023_030743_model_37</td>\n",
       "                        <td id=\"T_6ede7148_f554_11e9_bfbb_3cfdfe553c98row1_col88\" class=\"data row1 col88\" >GBM_grid_1_AutoML_20191023_030743_model_38</td>\n",
       "                        <td id=\"T_6ede7148_f554_11e9_bfbb_3cfdfe553c98row1_col89\" class=\"data row1 col89\" >XGBoost_grid_1_AutoML_20191023_030743_model_16</td>\n",
       "                        <td id=\"T_6ede7148_f554_11e9_bfbb_3cfdfe553c98row1_col90\" class=\"data row1 col90\" >GBM_grid_1_AutoML_20191023_030743_model_39</td>\n",
       "                        <td id=\"T_6ede7148_f554_11e9_bfbb_3cfdfe553c98row1_col91\" class=\"data row1 col91\" >XGBoost_grid_1_AutoML_20191023_030743_model_9</td>\n",
       "                        <td id=\"T_6ede7148_f554_11e9_bfbb_3cfdfe553c98row1_col92\" class=\"data row1 col92\" >GBM_grid_1_AutoML_20191023_030743_model_34</td>\n",
       "                        <td id=\"T_6ede7148_f554_11e9_bfbb_3cfdfe553c98row1_col93\" class=\"data row1 col93\" >GBM_grid_1_AutoML_20191023_030743_model_2</td>\n",
       "                        <td id=\"T_6ede7148_f554_11e9_bfbb_3cfdfe553c98row1_col94\" class=\"data row1 col94\" >DeepLearning_1_AutoML_20191023_030743</td>\n",
       "                        <td id=\"T_6ede7148_f554_11e9_bfbb_3cfdfe553c98row1_col95\" class=\"data row1 col95\" >GBM_grid_1_AutoML_20191023_030743_model_22</td>\n",
       "                        <td id=\"T_6ede7148_f554_11e9_bfbb_3cfdfe553c98row1_col96\" class=\"data row1 col96\" >GBM_grid_1_AutoML_20191023_030743_model_40</td>\n",
       "                        <td id=\"T_6ede7148_f554_11e9_bfbb_3cfdfe553c98row1_col97\" class=\"data row1 col97\" >GBM_grid_1_AutoML_20191023_030743_model_36</td>\n",
       "                        <td id=\"T_6ede7148_f554_11e9_bfbb_3cfdfe553c98row1_col98\" class=\"data row1 col98\" >nan</td>\n",
       "                        <td id=\"T_6ede7148_f554_11e9_bfbb_3cfdfe553c98row1_col99\" class=\"data row1 col99\" >nan</td>\n",
       "                        <td id=\"T_6ede7148_f554_11e9_bfbb_3cfdfe553c98row1_col100\" class=\"data row1 col100\" >nan</td>\n",
       "                        <td id=\"T_6ede7148_f554_11e9_bfbb_3cfdfe553c98row1_col101\" class=\"data row1 col101\" >nan</td>\n",
       "                        <td id=\"T_6ede7148_f554_11e9_bfbb_3cfdfe553c98row1_col102\" class=\"data row1 col102\" >nan</td>\n",
       "                        <td id=\"T_6ede7148_f554_11e9_bfbb_3cfdfe553c98row1_col103\" class=\"data row1 col103\" >nan</td>\n",
       "                        <td id=\"T_6ede7148_f554_11e9_bfbb_3cfdfe553c98row1_col104\" class=\"data row1 col104\" >nan</td>\n",
       "                        <td id=\"T_6ede7148_f554_11e9_bfbb_3cfdfe553c98row1_col105\" class=\"data row1 col105\" >nan</td>\n",
       "                        <td id=\"T_6ede7148_f554_11e9_bfbb_3cfdfe553c98row1_col106\" class=\"data row1 col106\" >nan</td>\n",
       "                        <td id=\"T_6ede7148_f554_11e9_bfbb_3cfdfe553c98row1_col107\" class=\"data row1 col107\" >nan</td>\n",
       "                        <td id=\"T_6ede7148_f554_11e9_bfbb_3cfdfe553c98row1_col108\" class=\"data row1 col108\" >nan</td>\n",
       "            </tr>\n",
       "            <tr>\n",
       "                                <td id=\"T_6ede7148_f554_11e9_bfbb_3cfdfe553c98row2_col0\" class=\"data row2 col0\" >6.4</td>\n",
       "                        <td id=\"T_6ede7148_f554_11e9_bfbb_3cfdfe553c98row2_col1\" class=\"data row2 col1\" >StackedEnsemble_BestOfFamily_AutoML_20191023_030711</td>\n",
       "                        <td id=\"T_6ede7148_f554_11e9_bfbb_3cfdfe553c98row2_col2\" class=\"data row2 col2\" >DeepLearning_grid_1_AutoML_20191023_030711_model_2</td>\n",
       "                        <td id=\"T_6ede7148_f554_11e9_bfbb_3cfdfe553c98row2_col3\" class=\"data row2 col3\" >GBM_grid_1_AutoML_20191023_030711_model_31</td>\n",
       "                        <td id=\"T_6ede7148_f554_11e9_bfbb_3cfdfe553c98row2_col4\" class=\"data row2 col4\" >XGBoost_grid_1_AutoML_20191023_030711_model_13</td>\n",
       "                        <td id=\"T_6ede7148_f554_11e9_bfbb_3cfdfe553c98row2_col5\" class=\"data row2 col5\" >GLM_grid_1_AutoML_20191023_030711_model_1</td>\n",
       "                        <td id=\"T_6ede7148_f554_11e9_bfbb_3cfdfe553c98row2_col6\" class=\"data row2 col6\" >XRT_1_AutoML_20191023_030711</td>\n",
       "                        <td id=\"T_6ede7148_f554_11e9_bfbb_3cfdfe553c98row2_col7\" class=\"data row2 col7\" >DRF_1_AutoML_20191023_030711</td>\n",
       "                        <td id=\"T_6ede7148_f554_11e9_bfbb_3cfdfe553c98row2_col8\" class=\"data row2 col8\" >nan</td>\n",
       "                        <td id=\"T_6ede7148_f554_11e9_bfbb_3cfdfe553c98row2_col9\" class=\"data row2 col9\" >nan</td>\n",
       "                        <td id=\"T_6ede7148_f554_11e9_bfbb_3cfdfe553c98row2_col10\" class=\"data row2 col10\" >nan</td>\n",
       "                        <td id=\"T_6ede7148_f554_11e9_bfbb_3cfdfe553c98row2_col11\" class=\"data row2 col11\" >nan</td>\n",
       "                        <td id=\"T_6ede7148_f554_11e9_bfbb_3cfdfe553c98row2_col12\" class=\"data row2 col12\" >nan</td>\n",
       "                        <td id=\"T_6ede7148_f554_11e9_bfbb_3cfdfe553c98row2_col13\" class=\"data row2 col13\" >nan</td>\n",
       "                        <td id=\"T_6ede7148_f554_11e9_bfbb_3cfdfe553c98row2_col14\" class=\"data row2 col14\" >nan</td>\n",
       "                        <td id=\"T_6ede7148_f554_11e9_bfbb_3cfdfe553c98row2_col15\" class=\"data row2 col15\" >nan</td>\n",
       "                        <td id=\"T_6ede7148_f554_11e9_bfbb_3cfdfe553c98row2_col16\" class=\"data row2 col16\" >nan</td>\n",
       "                        <td id=\"T_6ede7148_f554_11e9_bfbb_3cfdfe553c98row2_col17\" class=\"data row2 col17\" >nan</td>\n",
       "                        <td id=\"T_6ede7148_f554_11e9_bfbb_3cfdfe553c98row2_col18\" class=\"data row2 col18\" >nan</td>\n",
       "                        <td id=\"T_6ede7148_f554_11e9_bfbb_3cfdfe553c98row2_col19\" class=\"data row2 col19\" >nan</td>\n",
       "                        <td id=\"T_6ede7148_f554_11e9_bfbb_3cfdfe553c98row2_col20\" class=\"data row2 col20\" >nan</td>\n",
       "                        <td id=\"T_6ede7148_f554_11e9_bfbb_3cfdfe553c98row2_col21\" class=\"data row2 col21\" >nan</td>\n",
       "                        <td id=\"T_6ede7148_f554_11e9_bfbb_3cfdfe553c98row2_col22\" class=\"data row2 col22\" >nan</td>\n",
       "                        <td id=\"T_6ede7148_f554_11e9_bfbb_3cfdfe553c98row2_col23\" class=\"data row2 col23\" >nan</td>\n",
       "                        <td id=\"T_6ede7148_f554_11e9_bfbb_3cfdfe553c98row2_col24\" class=\"data row2 col24\" >nan</td>\n",
       "                        <td id=\"T_6ede7148_f554_11e9_bfbb_3cfdfe553c98row2_col25\" class=\"data row2 col25\" >nan</td>\n",
       "                        <td id=\"T_6ede7148_f554_11e9_bfbb_3cfdfe553c98row2_col26\" class=\"data row2 col26\" >nan</td>\n",
       "                        <td id=\"T_6ede7148_f554_11e9_bfbb_3cfdfe553c98row2_col27\" class=\"data row2 col27\" >nan</td>\n",
       "                        <td id=\"T_6ede7148_f554_11e9_bfbb_3cfdfe553c98row2_col28\" class=\"data row2 col28\" >nan</td>\n",
       "                        <td id=\"T_6ede7148_f554_11e9_bfbb_3cfdfe553c98row2_col29\" class=\"data row2 col29\" >nan</td>\n",
       "                        <td id=\"T_6ede7148_f554_11e9_bfbb_3cfdfe553c98row2_col30\" class=\"data row2 col30\" >nan</td>\n",
       "                        <td id=\"T_6ede7148_f554_11e9_bfbb_3cfdfe553c98row2_col31\" class=\"data row2 col31\" >nan</td>\n",
       "                        <td id=\"T_6ede7148_f554_11e9_bfbb_3cfdfe553c98row2_col32\" class=\"data row2 col32\" >nan</td>\n",
       "                        <td id=\"T_6ede7148_f554_11e9_bfbb_3cfdfe553c98row2_col33\" class=\"data row2 col33\" >nan</td>\n",
       "                        <td id=\"T_6ede7148_f554_11e9_bfbb_3cfdfe553c98row2_col34\" class=\"data row2 col34\" >nan</td>\n",
       "                        <td id=\"T_6ede7148_f554_11e9_bfbb_3cfdfe553c98row2_col35\" class=\"data row2 col35\" >nan</td>\n",
       "                        <td id=\"T_6ede7148_f554_11e9_bfbb_3cfdfe553c98row2_col36\" class=\"data row2 col36\" >nan</td>\n",
       "                        <td id=\"T_6ede7148_f554_11e9_bfbb_3cfdfe553c98row2_col37\" class=\"data row2 col37\" >nan</td>\n",
       "                        <td id=\"T_6ede7148_f554_11e9_bfbb_3cfdfe553c98row2_col38\" class=\"data row2 col38\" >nan</td>\n",
       "                        <td id=\"T_6ede7148_f554_11e9_bfbb_3cfdfe553c98row2_col39\" class=\"data row2 col39\" >nan</td>\n",
       "                        <td id=\"T_6ede7148_f554_11e9_bfbb_3cfdfe553c98row2_col40\" class=\"data row2 col40\" >nan</td>\n",
       "                        <td id=\"T_6ede7148_f554_11e9_bfbb_3cfdfe553c98row2_col41\" class=\"data row2 col41\" >nan</td>\n",
       "                        <td id=\"T_6ede7148_f554_11e9_bfbb_3cfdfe553c98row2_col42\" class=\"data row2 col42\" >nan</td>\n",
       "                        <td id=\"T_6ede7148_f554_11e9_bfbb_3cfdfe553c98row2_col43\" class=\"data row2 col43\" >nan</td>\n",
       "                        <td id=\"T_6ede7148_f554_11e9_bfbb_3cfdfe553c98row2_col44\" class=\"data row2 col44\" >nan</td>\n",
       "                        <td id=\"T_6ede7148_f554_11e9_bfbb_3cfdfe553c98row2_col45\" class=\"data row2 col45\" >nan</td>\n",
       "                        <td id=\"T_6ede7148_f554_11e9_bfbb_3cfdfe553c98row2_col46\" class=\"data row2 col46\" >nan</td>\n",
       "                        <td id=\"T_6ede7148_f554_11e9_bfbb_3cfdfe553c98row2_col47\" class=\"data row2 col47\" >nan</td>\n",
       "                        <td id=\"T_6ede7148_f554_11e9_bfbb_3cfdfe553c98row2_col48\" class=\"data row2 col48\" >nan</td>\n",
       "                        <td id=\"T_6ede7148_f554_11e9_bfbb_3cfdfe553c98row2_col49\" class=\"data row2 col49\" >nan</td>\n",
       "                        <td id=\"T_6ede7148_f554_11e9_bfbb_3cfdfe553c98row2_col50\" class=\"data row2 col50\" >nan</td>\n",
       "                        <td id=\"T_6ede7148_f554_11e9_bfbb_3cfdfe553c98row2_col51\" class=\"data row2 col51\" >nan</td>\n",
       "                        <td id=\"T_6ede7148_f554_11e9_bfbb_3cfdfe553c98row2_col52\" class=\"data row2 col52\" >nan</td>\n",
       "                        <td id=\"T_6ede7148_f554_11e9_bfbb_3cfdfe553c98row2_col53\" class=\"data row2 col53\" >nan</td>\n",
       "                        <td id=\"T_6ede7148_f554_11e9_bfbb_3cfdfe553c98row2_col54\" class=\"data row2 col54\" >nan</td>\n",
       "                        <td id=\"T_6ede7148_f554_11e9_bfbb_3cfdfe553c98row2_col55\" class=\"data row2 col55\" >nan</td>\n",
       "                        <td id=\"T_6ede7148_f554_11e9_bfbb_3cfdfe553c98row2_col56\" class=\"data row2 col56\" >nan</td>\n",
       "                        <td id=\"T_6ede7148_f554_11e9_bfbb_3cfdfe553c98row2_col57\" class=\"data row2 col57\" >nan</td>\n",
       "                        <td id=\"T_6ede7148_f554_11e9_bfbb_3cfdfe553c98row2_col58\" class=\"data row2 col58\" >nan</td>\n",
       "                        <td id=\"T_6ede7148_f554_11e9_bfbb_3cfdfe553c98row2_col59\" class=\"data row2 col59\" >nan</td>\n",
       "                        <td id=\"T_6ede7148_f554_11e9_bfbb_3cfdfe553c98row2_col60\" class=\"data row2 col60\" >nan</td>\n",
       "                        <td id=\"T_6ede7148_f554_11e9_bfbb_3cfdfe553c98row2_col61\" class=\"data row2 col61\" >nan</td>\n",
       "                        <td id=\"T_6ede7148_f554_11e9_bfbb_3cfdfe553c98row2_col62\" class=\"data row2 col62\" >nan</td>\n",
       "                        <td id=\"T_6ede7148_f554_11e9_bfbb_3cfdfe553c98row2_col63\" class=\"data row2 col63\" >nan</td>\n",
       "                        <td id=\"T_6ede7148_f554_11e9_bfbb_3cfdfe553c98row2_col64\" class=\"data row2 col64\" >nan</td>\n",
       "                        <td id=\"T_6ede7148_f554_11e9_bfbb_3cfdfe553c98row2_col65\" class=\"data row2 col65\" >nan</td>\n",
       "                        <td id=\"T_6ede7148_f554_11e9_bfbb_3cfdfe553c98row2_col66\" class=\"data row2 col66\" >nan</td>\n",
       "                        <td id=\"T_6ede7148_f554_11e9_bfbb_3cfdfe553c98row2_col67\" class=\"data row2 col67\" >nan</td>\n",
       "                        <td id=\"T_6ede7148_f554_11e9_bfbb_3cfdfe553c98row2_col68\" class=\"data row2 col68\" >nan</td>\n",
       "                        <td id=\"T_6ede7148_f554_11e9_bfbb_3cfdfe553c98row2_col69\" class=\"data row2 col69\" >nan</td>\n",
       "                        <td id=\"T_6ede7148_f554_11e9_bfbb_3cfdfe553c98row2_col70\" class=\"data row2 col70\" >nan</td>\n",
       "                        <td id=\"T_6ede7148_f554_11e9_bfbb_3cfdfe553c98row2_col71\" class=\"data row2 col71\" >nan</td>\n",
       "                        <td id=\"T_6ede7148_f554_11e9_bfbb_3cfdfe553c98row2_col72\" class=\"data row2 col72\" >nan</td>\n",
       "                        <td id=\"T_6ede7148_f554_11e9_bfbb_3cfdfe553c98row2_col73\" class=\"data row2 col73\" >nan</td>\n",
       "                        <td id=\"T_6ede7148_f554_11e9_bfbb_3cfdfe553c98row2_col74\" class=\"data row2 col74\" >nan</td>\n",
       "                        <td id=\"T_6ede7148_f554_11e9_bfbb_3cfdfe553c98row2_col75\" class=\"data row2 col75\" >nan</td>\n",
       "                        <td id=\"T_6ede7148_f554_11e9_bfbb_3cfdfe553c98row2_col76\" class=\"data row2 col76\" >nan</td>\n",
       "                        <td id=\"T_6ede7148_f554_11e9_bfbb_3cfdfe553c98row2_col77\" class=\"data row2 col77\" >nan</td>\n",
       "                        <td id=\"T_6ede7148_f554_11e9_bfbb_3cfdfe553c98row2_col78\" class=\"data row2 col78\" >nan</td>\n",
       "                        <td id=\"T_6ede7148_f554_11e9_bfbb_3cfdfe553c98row2_col79\" class=\"data row2 col79\" >nan</td>\n",
       "                        <td id=\"T_6ede7148_f554_11e9_bfbb_3cfdfe553c98row2_col80\" class=\"data row2 col80\" >nan</td>\n",
       "                        <td id=\"T_6ede7148_f554_11e9_bfbb_3cfdfe553c98row2_col81\" class=\"data row2 col81\" >nan</td>\n",
       "                        <td id=\"T_6ede7148_f554_11e9_bfbb_3cfdfe553c98row2_col82\" class=\"data row2 col82\" >nan</td>\n",
       "                        <td id=\"T_6ede7148_f554_11e9_bfbb_3cfdfe553c98row2_col83\" class=\"data row2 col83\" >nan</td>\n",
       "                        <td id=\"T_6ede7148_f554_11e9_bfbb_3cfdfe553c98row2_col84\" class=\"data row2 col84\" >nan</td>\n",
       "                        <td id=\"T_6ede7148_f554_11e9_bfbb_3cfdfe553c98row2_col85\" class=\"data row2 col85\" >nan</td>\n",
       "                        <td id=\"T_6ede7148_f554_11e9_bfbb_3cfdfe553c98row2_col86\" class=\"data row2 col86\" >nan</td>\n",
       "                        <td id=\"T_6ede7148_f554_11e9_bfbb_3cfdfe553c98row2_col87\" class=\"data row2 col87\" >nan</td>\n",
       "                        <td id=\"T_6ede7148_f554_11e9_bfbb_3cfdfe553c98row2_col88\" class=\"data row2 col88\" >nan</td>\n",
       "                        <td id=\"T_6ede7148_f554_11e9_bfbb_3cfdfe553c98row2_col89\" class=\"data row2 col89\" >nan</td>\n",
       "                        <td id=\"T_6ede7148_f554_11e9_bfbb_3cfdfe553c98row2_col90\" class=\"data row2 col90\" >nan</td>\n",
       "                        <td id=\"T_6ede7148_f554_11e9_bfbb_3cfdfe553c98row2_col91\" class=\"data row2 col91\" >nan</td>\n",
       "                        <td id=\"T_6ede7148_f554_11e9_bfbb_3cfdfe553c98row2_col92\" class=\"data row2 col92\" >nan</td>\n",
       "                        <td id=\"T_6ede7148_f554_11e9_bfbb_3cfdfe553c98row2_col93\" class=\"data row2 col93\" >nan</td>\n",
       "                        <td id=\"T_6ede7148_f554_11e9_bfbb_3cfdfe553c98row2_col94\" class=\"data row2 col94\" >nan</td>\n",
       "                        <td id=\"T_6ede7148_f554_11e9_bfbb_3cfdfe553c98row2_col95\" class=\"data row2 col95\" >nan</td>\n",
       "                        <td id=\"T_6ede7148_f554_11e9_bfbb_3cfdfe553c98row2_col96\" class=\"data row2 col96\" >nan</td>\n",
       "                        <td id=\"T_6ede7148_f554_11e9_bfbb_3cfdfe553c98row2_col97\" class=\"data row2 col97\" >nan</td>\n",
       "                        <td id=\"T_6ede7148_f554_11e9_bfbb_3cfdfe553c98row2_col98\" class=\"data row2 col98\" >nan</td>\n",
       "                        <td id=\"T_6ede7148_f554_11e9_bfbb_3cfdfe553c98row2_col99\" class=\"data row2 col99\" >nan</td>\n",
       "                        <td id=\"T_6ede7148_f554_11e9_bfbb_3cfdfe553c98row2_col100\" class=\"data row2 col100\" >nan</td>\n",
       "                        <td id=\"T_6ede7148_f554_11e9_bfbb_3cfdfe553c98row2_col101\" class=\"data row2 col101\" >nan</td>\n",
       "                        <td id=\"T_6ede7148_f554_11e9_bfbb_3cfdfe553c98row2_col102\" class=\"data row2 col102\" >nan</td>\n",
       "                        <td id=\"T_6ede7148_f554_11e9_bfbb_3cfdfe553c98row2_col103\" class=\"data row2 col103\" >nan</td>\n",
       "                        <td id=\"T_6ede7148_f554_11e9_bfbb_3cfdfe553c98row2_col104\" class=\"data row2 col104\" >nan</td>\n",
       "                        <td id=\"T_6ede7148_f554_11e9_bfbb_3cfdfe553c98row2_col105\" class=\"data row2 col105\" >nan</td>\n",
       "                        <td id=\"T_6ede7148_f554_11e9_bfbb_3cfdfe553c98row2_col106\" class=\"data row2 col106\" >nan</td>\n",
       "                        <td id=\"T_6ede7148_f554_11e9_bfbb_3cfdfe553c98row2_col107\" class=\"data row2 col107\" >nan</td>\n",
       "                        <td id=\"T_6ede7148_f554_11e9_bfbb_3cfdfe553c98row2_col108\" class=\"data row2 col108\" >nan</td>\n",
       "            </tr>\n",
       "            <tr>\n",
       "                                <td id=\"T_6ede7148_f554_11e9_bfbb_3cfdfe553c98row3_col0\" class=\"data row3 col0\" >9.6</td>\n",
       "                        <td id=\"T_6ede7148_f554_11e9_bfbb_3cfdfe553c98row3_col1\" class=\"data row3 col1\" >StackedEnsemble_AllModels_AutoML_20191023_030612</td>\n",
       "                        <td id=\"T_6ede7148_f554_11e9_bfbb_3cfdfe553c98row3_col2\" class=\"data row3 col2\" >GBM_grid_1_AutoML_20191023_030612_model_31</td>\n",
       "                        <td id=\"T_6ede7148_f554_11e9_bfbb_3cfdfe553c98row3_col3\" class=\"data row3 col3\" >DeepLearning_grid_1_AutoML_20191023_030612_model_8</td>\n",
       "                        <td id=\"T_6ede7148_f554_11e9_bfbb_3cfdfe553c98row3_col4\" class=\"data row3 col4\" >GBM_grid_1_AutoML_20191023_030612_model_18</td>\n",
       "                        <td id=\"T_6ede7148_f554_11e9_bfbb_3cfdfe553c98row3_col5\" class=\"data row3 col5\" >DeepLearning_grid_1_AutoML_20191023_030612_model_11</td>\n",
       "                        <td id=\"T_6ede7148_f554_11e9_bfbb_3cfdfe553c98row3_col6\" class=\"data row3 col6\" >DeepLearning_grid_1_AutoML_20191023_030612_model_2</td>\n",
       "                        <td id=\"T_6ede7148_f554_11e9_bfbb_3cfdfe553c98row3_col7\" class=\"data row3 col7\" >GBM_grid_1_AutoML_20191023_030612_model_19</td>\n",
       "                        <td id=\"T_6ede7148_f554_11e9_bfbb_3cfdfe553c98row3_col8\" class=\"data row3 col8\" >DeepLearning_grid_1_AutoML_20191023_030612_model_7</td>\n",
       "                        <td id=\"T_6ede7148_f554_11e9_bfbb_3cfdfe553c98row3_col9\" class=\"data row3 col9\" >DeepLearning_grid_1_AutoML_20191023_030612_model_1</td>\n",
       "                        <td id=\"T_6ede7148_f554_11e9_bfbb_3cfdfe553c98row3_col10\" class=\"data row3 col10\" >XGBoost_grid_1_AutoML_20191023_030612_model_13</td>\n",
       "                        <td id=\"T_6ede7148_f554_11e9_bfbb_3cfdfe553c98row3_col11\" class=\"data row3 col11\" >GBM_grid_1_AutoML_20191023_030612_model_15</td>\n",
       "                        <td id=\"T_6ede7148_f554_11e9_bfbb_3cfdfe553c98row3_col12\" class=\"data row3 col12\" >GBM_grid_1_AutoML_20191023_030612_model_35</td>\n",
       "                        <td id=\"T_6ede7148_f554_11e9_bfbb_3cfdfe553c98row3_col13\" class=\"data row3 col13\" >GBM_2_AutoML_20191023_030612</td>\n",
       "                        <td id=\"T_6ede7148_f554_11e9_bfbb_3cfdfe553c98row3_col14\" class=\"data row3 col14\" >GBM_grid_1_AutoML_20191023_030612_model_3</td>\n",
       "                        <td id=\"T_6ede7148_f554_11e9_bfbb_3cfdfe553c98row3_col15\" class=\"data row3 col15\" >GBM_3_AutoML_20191023_030612</td>\n",
       "                        <td id=\"T_6ede7148_f554_11e9_bfbb_3cfdfe553c98row3_col16\" class=\"data row3 col16\" >GBM_grid_1_AutoML_20191023_030612_model_32</td>\n",
       "                        <td id=\"T_6ede7148_f554_11e9_bfbb_3cfdfe553c98row3_col17\" class=\"data row3 col17\" >GBM_grid_1_AutoML_20191023_030612_model_26</td>\n",
       "                        <td id=\"T_6ede7148_f554_11e9_bfbb_3cfdfe553c98row3_col18\" class=\"data row3 col18\" >DeepLearning_grid_1_AutoML_20191023_030612_model_10</td>\n",
       "                        <td id=\"T_6ede7148_f554_11e9_bfbb_3cfdfe553c98row3_col19\" class=\"data row3 col19\" >GBM_grid_1_AutoML_20191023_030612_model_39</td>\n",
       "                        <td id=\"T_6ede7148_f554_11e9_bfbb_3cfdfe553c98row3_col20\" class=\"data row3 col20\" >GBM_grid_1_AutoML_20191023_030612_model_6</td>\n",
       "                        <td id=\"T_6ede7148_f554_11e9_bfbb_3cfdfe553c98row3_col21\" class=\"data row3 col21\" >GBM_grid_1_AutoML_20191023_030612_model_27</td>\n",
       "                        <td id=\"T_6ede7148_f554_11e9_bfbb_3cfdfe553c98row3_col22\" class=\"data row3 col22\" >GBM_grid_1_AutoML_20191023_030612_model_20</td>\n",
       "                        <td id=\"T_6ede7148_f554_11e9_bfbb_3cfdfe553c98row3_col23\" class=\"data row3 col23\" >DeepLearning_grid_1_AutoML_20191023_030612_model_3</td>\n",
       "                        <td id=\"T_6ede7148_f554_11e9_bfbb_3cfdfe553c98row3_col24\" class=\"data row3 col24\" >GBM_5_AutoML_20191023_030612</td>\n",
       "                        <td id=\"T_6ede7148_f554_11e9_bfbb_3cfdfe553c98row3_col25\" class=\"data row3 col25\" >GBM_grid_1_AutoML_20191023_030612_model_12</td>\n",
       "                        <td id=\"T_6ede7148_f554_11e9_bfbb_3cfdfe553c98row3_col26\" class=\"data row3 col26\" >DeepLearning_grid_1_AutoML_20191023_030612_model_4</td>\n",
       "                        <td id=\"T_6ede7148_f554_11e9_bfbb_3cfdfe553c98row3_col27\" class=\"data row3 col27\" >GBM_4_AutoML_20191023_030612</td>\n",
       "                        <td id=\"T_6ede7148_f554_11e9_bfbb_3cfdfe553c98row3_col28\" class=\"data row3 col28\" >GLM_grid_1_AutoML_20191023_030612_model_1</td>\n",
       "                        <td id=\"T_6ede7148_f554_11e9_bfbb_3cfdfe553c98row3_col29\" class=\"data row3 col29\" >GBM_grid_1_AutoML_20191023_030612_model_17</td>\n",
       "                        <td id=\"T_6ede7148_f554_11e9_bfbb_3cfdfe553c98row3_col30\" class=\"data row3 col30\" >XRT_1_AutoML_20191023_030612</td>\n",
       "                        <td id=\"T_6ede7148_f554_11e9_bfbb_3cfdfe553c98row3_col31\" class=\"data row3 col31\" >GBM_grid_1_AutoML_20191023_030612_model_1</td>\n",
       "                        <td id=\"T_6ede7148_f554_11e9_bfbb_3cfdfe553c98row3_col32\" class=\"data row3 col32\" >GBM_grid_1_AutoML_20191023_030612_model_10</td>\n",
       "                        <td id=\"T_6ede7148_f554_11e9_bfbb_3cfdfe553c98row3_col33\" class=\"data row3 col33\" >XGBoost_grid_1_AutoML_20191023_030612_model_8</td>\n",
       "                        <td id=\"T_6ede7148_f554_11e9_bfbb_3cfdfe553c98row3_col34\" class=\"data row3 col34\" >GBM_1_AutoML_20191023_030612</td>\n",
       "                        <td id=\"T_6ede7148_f554_11e9_bfbb_3cfdfe553c98row3_col35\" class=\"data row3 col35\" >GBM_grid_1_AutoML_20191023_030612_model_14</td>\n",
       "                        <td id=\"T_6ede7148_f554_11e9_bfbb_3cfdfe553c98row3_col36\" class=\"data row3 col36\" >GBM_grid_1_AutoML_20191023_030612_model_11</td>\n",
       "                        <td id=\"T_6ede7148_f554_11e9_bfbb_3cfdfe553c98row3_col37\" class=\"data row3 col37\" >GBM_grid_1_AutoML_20191023_030612_model_16</td>\n",
       "                        <td id=\"T_6ede7148_f554_11e9_bfbb_3cfdfe553c98row3_col38\" class=\"data row3 col38\" >GBM_grid_1_AutoML_20191023_030612_model_24</td>\n",
       "                        <td id=\"T_6ede7148_f554_11e9_bfbb_3cfdfe553c98row3_col39\" class=\"data row3 col39\" >DRF_1_AutoML_20191023_030612</td>\n",
       "                        <td id=\"T_6ede7148_f554_11e9_bfbb_3cfdfe553c98row3_col40\" class=\"data row3 col40\" >XGBoost_grid_1_AutoML_20191023_030612_model_17</td>\n",
       "                        <td id=\"T_6ede7148_f554_11e9_bfbb_3cfdfe553c98row3_col41\" class=\"data row3 col41\" >XGBoost_grid_1_AutoML_20191023_030612_model_30</td>\n",
       "                        <td id=\"T_6ede7148_f554_11e9_bfbb_3cfdfe553c98row3_col42\" class=\"data row3 col42\" >DeepLearning_grid_1_AutoML_20191023_030612_model_5</td>\n",
       "                        <td id=\"T_6ede7148_f554_11e9_bfbb_3cfdfe553c98row3_col43\" class=\"data row3 col43\" >DeepLearning_grid_1_AutoML_20191023_030612_model_6</td>\n",
       "                        <td id=\"T_6ede7148_f554_11e9_bfbb_3cfdfe553c98row3_col44\" class=\"data row3 col44\" >GBM_grid_1_AutoML_20191023_030612_model_13</td>\n",
       "                        <td id=\"T_6ede7148_f554_11e9_bfbb_3cfdfe553c98row3_col45\" class=\"data row3 col45\" >XGBoost_3_AutoML_20191023_030612</td>\n",
       "                        <td id=\"T_6ede7148_f554_11e9_bfbb_3cfdfe553c98row3_col46\" class=\"data row3 col46\" >XGBoost_1_AutoML_20191023_030612</td>\n",
       "                        <td id=\"T_6ede7148_f554_11e9_bfbb_3cfdfe553c98row3_col47\" class=\"data row3 col47\" >XGBoost_grid_1_AutoML_20191023_030612_model_25</td>\n",
       "                        <td id=\"T_6ede7148_f554_11e9_bfbb_3cfdfe553c98row3_col48\" class=\"data row3 col48\" >XGBoost_grid_1_AutoML_20191023_030612_model_21</td>\n",
       "                        <td id=\"T_6ede7148_f554_11e9_bfbb_3cfdfe553c98row3_col49\" class=\"data row3 col49\" >XGBoost_grid_1_AutoML_20191023_030612_model_18</td>\n",
       "                        <td id=\"T_6ede7148_f554_11e9_bfbb_3cfdfe553c98row3_col50\" class=\"data row3 col50\" >XGBoost_grid_1_AutoML_20191023_030612_model_26</td>\n",
       "                        <td id=\"T_6ede7148_f554_11e9_bfbb_3cfdfe553c98row3_col51\" class=\"data row3 col51\" >XGBoost_grid_1_AutoML_20191023_030612_model_15</td>\n",
       "                        <td id=\"T_6ede7148_f554_11e9_bfbb_3cfdfe553c98row3_col52\" class=\"data row3 col52\" >GBM_grid_1_AutoML_20191023_030612_model_8</td>\n",
       "                        <td id=\"T_6ede7148_f554_11e9_bfbb_3cfdfe553c98row3_col53\" class=\"data row3 col53\" >GBM_grid_1_AutoML_20191023_030612_model_9</td>\n",
       "                        <td id=\"T_6ede7148_f554_11e9_bfbb_3cfdfe553c98row3_col54\" class=\"data row3 col54\" >XGBoost_grid_1_AutoML_20191023_030612_model_20</td>\n",
       "                        <td id=\"T_6ede7148_f554_11e9_bfbb_3cfdfe553c98row3_col55\" class=\"data row3 col55\" >XGBoost_grid_1_AutoML_20191023_030612_model_27</td>\n",
       "                        <td id=\"T_6ede7148_f554_11e9_bfbb_3cfdfe553c98row3_col56\" class=\"data row3 col56\" >XGBoost_grid_1_AutoML_20191023_030612_model_4</td>\n",
       "                        <td id=\"T_6ede7148_f554_11e9_bfbb_3cfdfe553c98row3_col57\" class=\"data row3 col57\" >XGBoost_grid_1_AutoML_20191023_030612_model_2</td>\n",
       "                        <td id=\"T_6ede7148_f554_11e9_bfbb_3cfdfe553c98row3_col58\" class=\"data row3 col58\" >DeepLearning_grid_1_AutoML_20191023_030612_model_12</td>\n",
       "                        <td id=\"T_6ede7148_f554_11e9_bfbb_3cfdfe553c98row3_col59\" class=\"data row3 col59\" >DeepLearning_grid_1_AutoML_20191023_030612_model_9</td>\n",
       "                        <td id=\"T_6ede7148_f554_11e9_bfbb_3cfdfe553c98row3_col60\" class=\"data row3 col60\" >GBM_grid_1_AutoML_20191023_030612_model_29</td>\n",
       "                        <td id=\"T_6ede7148_f554_11e9_bfbb_3cfdfe553c98row3_col61\" class=\"data row3 col61\" >XGBoost_grid_1_AutoML_20191023_030612_model_29</td>\n",
       "                        <td id=\"T_6ede7148_f554_11e9_bfbb_3cfdfe553c98row3_col62\" class=\"data row3 col62\" >GBM_grid_1_AutoML_20191023_030612_model_28</td>\n",
       "                        <td id=\"T_6ede7148_f554_11e9_bfbb_3cfdfe553c98row3_col63\" class=\"data row3 col63\" >XGBoost_grid_1_AutoML_20191023_030612_model_28</td>\n",
       "                        <td id=\"T_6ede7148_f554_11e9_bfbb_3cfdfe553c98row3_col64\" class=\"data row3 col64\" >XGBoost_grid_1_AutoML_20191023_030612_model_3</td>\n",
       "                        <td id=\"T_6ede7148_f554_11e9_bfbb_3cfdfe553c98row3_col65\" class=\"data row3 col65\" >XGBoost_grid_1_AutoML_20191023_030612_model_23</td>\n",
       "                        <td id=\"T_6ede7148_f554_11e9_bfbb_3cfdfe553c98row3_col66\" class=\"data row3 col66\" >XGBoost_grid_1_AutoML_20191023_030612_model_7</td>\n",
       "                        <td id=\"T_6ede7148_f554_11e9_bfbb_3cfdfe553c98row3_col67\" class=\"data row3 col67\" >XGBoost_grid_1_AutoML_20191023_030612_model_19</td>\n",
       "                        <td id=\"T_6ede7148_f554_11e9_bfbb_3cfdfe553c98row3_col68\" class=\"data row3 col68\" >GBM_grid_1_AutoML_20191023_030612_model_25</td>\n",
       "                        <td id=\"T_6ede7148_f554_11e9_bfbb_3cfdfe553c98row3_col69\" class=\"data row3 col69\" >GBM_grid_1_AutoML_20191023_030612_model_21</td>\n",
       "                        <td id=\"T_6ede7148_f554_11e9_bfbb_3cfdfe553c98row3_col70\" class=\"data row3 col70\" >XGBoost_2_AutoML_20191023_030612</td>\n",
       "                        <td id=\"T_6ede7148_f554_11e9_bfbb_3cfdfe553c98row3_col71\" class=\"data row3 col71\" >GBM_grid_1_AutoML_20191023_030612_model_30</td>\n",
       "                        <td id=\"T_6ede7148_f554_11e9_bfbb_3cfdfe553c98row3_col72\" class=\"data row3 col72\" >GBM_grid_1_AutoML_20191023_030612_model_7</td>\n",
       "                        <td id=\"T_6ede7148_f554_11e9_bfbb_3cfdfe553c98row3_col73\" class=\"data row3 col73\" >GBM_grid_1_AutoML_20191023_030612_model_23</td>\n",
       "                        <td id=\"T_6ede7148_f554_11e9_bfbb_3cfdfe553c98row3_col74\" class=\"data row3 col74\" >GBM_grid_1_AutoML_20191023_030612_model_38</td>\n",
       "                        <td id=\"T_6ede7148_f554_11e9_bfbb_3cfdfe553c98row3_col75\" class=\"data row3 col75\" >XGBoost_grid_1_AutoML_20191023_030612_model_5</td>\n",
       "                        <td id=\"T_6ede7148_f554_11e9_bfbb_3cfdfe553c98row3_col76\" class=\"data row3 col76\" >XGBoost_grid_1_AutoML_20191023_030612_model_22</td>\n",
       "                        <td id=\"T_6ede7148_f554_11e9_bfbb_3cfdfe553c98row3_col77\" class=\"data row3 col77\" >GBM_grid_1_AutoML_20191023_030612_model_33</td>\n",
       "                        <td id=\"T_6ede7148_f554_11e9_bfbb_3cfdfe553c98row3_col78\" class=\"data row3 col78\" >XGBoost_grid_1_AutoML_20191023_030612_model_12</td>\n",
       "                        <td id=\"T_6ede7148_f554_11e9_bfbb_3cfdfe553c98row3_col79\" class=\"data row3 col79\" >GBM_grid_1_AutoML_20191023_030612_model_5</td>\n",
       "                        <td id=\"T_6ede7148_f554_11e9_bfbb_3cfdfe553c98row3_col80\" class=\"data row3 col80\" >XGBoost_grid_1_AutoML_20191023_030612_model_11</td>\n",
       "                        <td id=\"T_6ede7148_f554_11e9_bfbb_3cfdfe553c98row3_col81\" class=\"data row3 col81\" >XGBoost_grid_1_AutoML_20191023_030612_model_6</td>\n",
       "                        <td id=\"T_6ede7148_f554_11e9_bfbb_3cfdfe553c98row3_col82\" class=\"data row3 col82\" >XGBoost_grid_1_AutoML_20191023_030612_model_1</td>\n",
       "                        <td id=\"T_6ede7148_f554_11e9_bfbb_3cfdfe553c98row3_col83\" class=\"data row3 col83\" >GBM_grid_1_AutoML_20191023_030612_model_37</td>\n",
       "                        <td id=\"T_6ede7148_f554_11e9_bfbb_3cfdfe553c98row3_col84\" class=\"data row3 col84\" >XGBoost_grid_1_AutoML_20191023_030612_model_14</td>\n",
       "                        <td id=\"T_6ede7148_f554_11e9_bfbb_3cfdfe553c98row3_col85\" class=\"data row3 col85\" >XGBoost_grid_1_AutoML_20191023_030612_model_24</td>\n",
       "                        <td id=\"T_6ede7148_f554_11e9_bfbb_3cfdfe553c98row3_col86\" class=\"data row3 col86\" >XGBoost_grid_1_AutoML_20191023_030612_model_10</td>\n",
       "                        <td id=\"T_6ede7148_f554_11e9_bfbb_3cfdfe553c98row3_col87\" class=\"data row3 col87\" >XGBoost_grid_1_AutoML_20191023_030612_model_31</td>\n",
       "                        <td id=\"T_6ede7148_f554_11e9_bfbb_3cfdfe553c98row3_col88\" class=\"data row3 col88\" >GBM_grid_1_AutoML_20191023_030612_model_4</td>\n",
       "                        <td id=\"T_6ede7148_f554_11e9_bfbb_3cfdfe553c98row3_col89\" class=\"data row3 col89\" >XGBoost_grid_1_AutoML_20191023_030612_model_16</td>\n",
       "                        <td id=\"T_6ede7148_f554_11e9_bfbb_3cfdfe553c98row3_col90\" class=\"data row3 col90\" >XGBoost_grid_1_AutoML_20191023_030612_model_9</td>\n",
       "                        <td id=\"T_6ede7148_f554_11e9_bfbb_3cfdfe553c98row3_col91\" class=\"data row3 col91\" >GBM_grid_1_AutoML_20191023_030612_model_34</td>\n",
       "                        <td id=\"T_6ede7148_f554_11e9_bfbb_3cfdfe553c98row3_col92\" class=\"data row3 col92\" >GBM_grid_1_AutoML_20191023_030612_model_2</td>\n",
       "                        <td id=\"T_6ede7148_f554_11e9_bfbb_3cfdfe553c98row3_col93\" class=\"data row3 col93\" >GBM_grid_1_AutoML_20191023_030612_model_40</td>\n",
       "                        <td id=\"T_6ede7148_f554_11e9_bfbb_3cfdfe553c98row3_col94\" class=\"data row3 col94\" >DeepLearning_1_AutoML_20191023_030612</td>\n",
       "                        <td id=\"T_6ede7148_f554_11e9_bfbb_3cfdfe553c98row3_col95\" class=\"data row3 col95\" >GBM_grid_1_AutoML_20191023_030612_model_22</td>\n",
       "                        <td id=\"T_6ede7148_f554_11e9_bfbb_3cfdfe553c98row3_col96\" class=\"data row3 col96\" >GBM_grid_1_AutoML_20191023_030612_model_36</td>\n",
       "                        <td id=\"T_6ede7148_f554_11e9_bfbb_3cfdfe553c98row3_col97\" class=\"data row3 col97\" >nan</td>\n",
       "                        <td id=\"T_6ede7148_f554_11e9_bfbb_3cfdfe553c98row3_col98\" class=\"data row3 col98\" >nan</td>\n",
       "                        <td id=\"T_6ede7148_f554_11e9_bfbb_3cfdfe553c98row3_col99\" class=\"data row3 col99\" >nan</td>\n",
       "                        <td id=\"T_6ede7148_f554_11e9_bfbb_3cfdfe553c98row3_col100\" class=\"data row3 col100\" >nan</td>\n",
       "                        <td id=\"T_6ede7148_f554_11e9_bfbb_3cfdfe553c98row3_col101\" class=\"data row3 col101\" >nan</td>\n",
       "                        <td id=\"T_6ede7148_f554_11e9_bfbb_3cfdfe553c98row3_col102\" class=\"data row3 col102\" >nan</td>\n",
       "                        <td id=\"T_6ede7148_f554_11e9_bfbb_3cfdfe553c98row3_col103\" class=\"data row3 col103\" >nan</td>\n",
       "                        <td id=\"T_6ede7148_f554_11e9_bfbb_3cfdfe553c98row3_col104\" class=\"data row3 col104\" >nan</td>\n",
       "                        <td id=\"T_6ede7148_f554_11e9_bfbb_3cfdfe553c98row3_col105\" class=\"data row3 col105\" >nan</td>\n",
       "                        <td id=\"T_6ede7148_f554_11e9_bfbb_3cfdfe553c98row3_col106\" class=\"data row3 col106\" >nan</td>\n",
       "                        <td id=\"T_6ede7148_f554_11e9_bfbb_3cfdfe553c98row3_col107\" class=\"data row3 col107\" >nan</td>\n",
       "                        <td id=\"T_6ede7148_f554_11e9_bfbb_3cfdfe553c98row3_col108\" class=\"data row3 col108\" >nan</td>\n",
       "            </tr>\n",
       "            <tr>\n",
       "                                <td id=\"T_6ede7148_f554_11e9_bfbb_3cfdfe553c98row4_col0\" class=\"data row4 col0\" >12.8</td>\n",
       "                        <td id=\"T_6ede7148_f554_11e9_bfbb_3cfdfe553c98row4_col1\" class=\"data row4 col1\" >StackedEnsemble_AllModels_AutoML_20191023_030324</td>\n",
       "                        <td id=\"T_6ede7148_f554_11e9_bfbb_3cfdfe553c98row4_col2\" class=\"data row4 col2\" >GBM_grid_1_AutoML_20191023_030324_model_40</td>\n",
       "                        <td id=\"T_6ede7148_f554_11e9_bfbb_3cfdfe553c98row4_col3\" class=\"data row4 col3\" >GBM_grid_1_AutoML_20191023_030324_model_31</td>\n",
       "                        <td id=\"T_6ede7148_f554_11e9_bfbb_3cfdfe553c98row4_col4\" class=\"data row4 col4\" >DeepLearning_grid_1_AutoML_20191023_030324_model_2</td>\n",
       "                        <td id=\"T_6ede7148_f554_11e9_bfbb_3cfdfe553c98row4_col5\" class=\"data row4 col5\" >GBM_grid_1_AutoML_20191023_030324_model_18</td>\n",
       "                        <td id=\"T_6ede7148_f554_11e9_bfbb_3cfdfe553c98row4_col6\" class=\"data row4 col6\" >GBM_grid_1_AutoML_20191023_030324_model_39</td>\n",
       "                        <td id=\"T_6ede7148_f554_11e9_bfbb_3cfdfe553c98row4_col7\" class=\"data row4 col7\" >GBM_grid_1_AutoML_20191023_030324_model_19</td>\n",
       "                        <td id=\"T_6ede7148_f554_11e9_bfbb_3cfdfe553c98row4_col8\" class=\"data row4 col8\" >DeepLearning_grid_1_AutoML_20191023_030324_model_1</td>\n",
       "                        <td id=\"T_6ede7148_f554_11e9_bfbb_3cfdfe553c98row4_col9\" class=\"data row4 col9\" >DeepLearning_grid_1_AutoML_20191023_030324_model_7</td>\n",
       "                        <td id=\"T_6ede7148_f554_11e9_bfbb_3cfdfe553c98row4_col10\" class=\"data row4 col10\" >DeepLearning_grid_1_AutoML_20191023_030324_model_8</td>\n",
       "                        <td id=\"T_6ede7148_f554_11e9_bfbb_3cfdfe553c98row4_col11\" class=\"data row4 col11\" >DeepLearning_grid_1_AutoML_20191023_030324_model_11</td>\n",
       "                        <td id=\"T_6ede7148_f554_11e9_bfbb_3cfdfe553c98row4_col12\" class=\"data row4 col12\" >XGBoost_grid_1_AutoML_20191023_030324_model_13</td>\n",
       "                        <td id=\"T_6ede7148_f554_11e9_bfbb_3cfdfe553c98row4_col13\" class=\"data row4 col13\" >GBM_grid_1_AutoML_20191023_030324_model_15</td>\n",
       "                        <td id=\"T_6ede7148_f554_11e9_bfbb_3cfdfe553c98row4_col14\" class=\"data row4 col14\" >GBM_grid_1_AutoML_20191023_030324_model_35</td>\n",
       "                        <td id=\"T_6ede7148_f554_11e9_bfbb_3cfdfe553c98row4_col15\" class=\"data row4 col15\" >GBM_2_AutoML_20191023_030324</td>\n",
       "                        <td id=\"T_6ede7148_f554_11e9_bfbb_3cfdfe553c98row4_col16\" class=\"data row4 col16\" >GBM_grid_1_AutoML_20191023_030324_model_3</td>\n",
       "                        <td id=\"T_6ede7148_f554_11e9_bfbb_3cfdfe553c98row4_col17\" class=\"data row4 col17\" >GBM_3_AutoML_20191023_030324</td>\n",
       "                        <td id=\"T_6ede7148_f554_11e9_bfbb_3cfdfe553c98row4_col18\" class=\"data row4 col18\" >GBM_grid_1_AutoML_20191023_030324_model_32</td>\n",
       "                        <td id=\"T_6ede7148_f554_11e9_bfbb_3cfdfe553c98row4_col19\" class=\"data row4 col19\" >GBM_grid_1_AutoML_20191023_030324_model_26</td>\n",
       "                        <td id=\"T_6ede7148_f554_11e9_bfbb_3cfdfe553c98row4_col20\" class=\"data row4 col20\" >DeepLearning_grid_1_AutoML_20191023_030324_model_3</td>\n",
       "                        <td id=\"T_6ede7148_f554_11e9_bfbb_3cfdfe553c98row4_col21\" class=\"data row4 col21\" >GBM_grid_1_AutoML_20191023_030324_model_6</td>\n",
       "                        <td id=\"T_6ede7148_f554_11e9_bfbb_3cfdfe553c98row4_col22\" class=\"data row4 col22\" >GBM_grid_1_AutoML_20191023_030324_model_41</td>\n",
       "                        <td id=\"T_6ede7148_f554_11e9_bfbb_3cfdfe553c98row4_col23\" class=\"data row4 col23\" >GBM_grid_1_AutoML_20191023_030324_model_27</td>\n",
       "                        <td id=\"T_6ede7148_f554_11e9_bfbb_3cfdfe553c98row4_col24\" class=\"data row4 col24\" >GBM_grid_1_AutoML_20191023_030324_model_20</td>\n",
       "                        <td id=\"T_6ede7148_f554_11e9_bfbb_3cfdfe553c98row4_col25\" class=\"data row4 col25\" >DeepLearning_grid_1_AutoML_20191023_030324_model_10</td>\n",
       "                        <td id=\"T_6ede7148_f554_11e9_bfbb_3cfdfe553c98row4_col26\" class=\"data row4 col26\" >DeepLearning_grid_1_AutoML_20191023_030324_model_4</td>\n",
       "                        <td id=\"T_6ede7148_f554_11e9_bfbb_3cfdfe553c98row4_col27\" class=\"data row4 col27\" >GBM_5_AutoML_20191023_030324</td>\n",
       "                        <td id=\"T_6ede7148_f554_11e9_bfbb_3cfdfe553c98row4_col28\" class=\"data row4 col28\" >GBM_grid_1_AutoML_20191023_030324_model_12</td>\n",
       "                        <td id=\"T_6ede7148_f554_11e9_bfbb_3cfdfe553c98row4_col29\" class=\"data row4 col29\" >GBM_4_AutoML_20191023_030324</td>\n",
       "                        <td id=\"T_6ede7148_f554_11e9_bfbb_3cfdfe553c98row4_col30\" class=\"data row4 col30\" >GLM_grid_1_AutoML_20191023_030324_model_1</td>\n",
       "                        <td id=\"T_6ede7148_f554_11e9_bfbb_3cfdfe553c98row4_col31\" class=\"data row4 col31\" >GBM_grid_1_AutoML_20191023_030324_model_17</td>\n",
       "                        <td id=\"T_6ede7148_f554_11e9_bfbb_3cfdfe553c98row4_col32\" class=\"data row4 col32\" >XRT_1_AutoML_20191023_030324</td>\n",
       "                        <td id=\"T_6ede7148_f554_11e9_bfbb_3cfdfe553c98row4_col33\" class=\"data row4 col33\" >GBM_grid_1_AutoML_20191023_030324_model_1</td>\n",
       "                        <td id=\"T_6ede7148_f554_11e9_bfbb_3cfdfe553c98row4_col34\" class=\"data row4 col34\" >GBM_grid_1_AutoML_20191023_030324_model_10</td>\n",
       "                        <td id=\"T_6ede7148_f554_11e9_bfbb_3cfdfe553c98row4_col35\" class=\"data row4 col35\" >XGBoost_grid_1_AutoML_20191023_030324_model_8</td>\n",
       "                        <td id=\"T_6ede7148_f554_11e9_bfbb_3cfdfe553c98row4_col36\" class=\"data row4 col36\" >GBM_1_AutoML_20191023_030324</td>\n",
       "                        <td id=\"T_6ede7148_f554_11e9_bfbb_3cfdfe553c98row4_col37\" class=\"data row4 col37\" >GBM_grid_1_AutoML_20191023_030324_model_14</td>\n",
       "                        <td id=\"T_6ede7148_f554_11e9_bfbb_3cfdfe553c98row4_col38\" class=\"data row4 col38\" >GBM_grid_1_AutoML_20191023_030324_model_11</td>\n",
       "                        <td id=\"T_6ede7148_f554_11e9_bfbb_3cfdfe553c98row4_col39\" class=\"data row4 col39\" >XGBoost_grid_1_AutoML_20191023_030324_model_30</td>\n",
       "                        <td id=\"T_6ede7148_f554_11e9_bfbb_3cfdfe553c98row4_col40\" class=\"data row4 col40\" >GBM_grid_1_AutoML_20191023_030324_model_16</td>\n",
       "                        <td id=\"T_6ede7148_f554_11e9_bfbb_3cfdfe553c98row4_col41\" class=\"data row4 col41\" >GBM_grid_1_AutoML_20191023_030324_model_24</td>\n",
       "                        <td id=\"T_6ede7148_f554_11e9_bfbb_3cfdfe553c98row4_col42\" class=\"data row4 col42\" >DRF_1_AutoML_20191023_030324</td>\n",
       "                        <td id=\"T_6ede7148_f554_11e9_bfbb_3cfdfe553c98row4_col43\" class=\"data row4 col43\" >XGBoost_grid_1_AutoML_20191023_030324_model_17</td>\n",
       "                        <td id=\"T_6ede7148_f554_11e9_bfbb_3cfdfe553c98row4_col44\" class=\"data row4 col44\" >GBM_grid_1_AutoML_20191023_030324_model_13</td>\n",
       "                        <td id=\"T_6ede7148_f554_11e9_bfbb_3cfdfe553c98row4_col45\" class=\"data row4 col45\" >DeepLearning_grid_1_AutoML_20191023_030324_model_5</td>\n",
       "                        <td id=\"T_6ede7148_f554_11e9_bfbb_3cfdfe553c98row4_col46\" class=\"data row4 col46\" >XGBoost_3_AutoML_20191023_030324</td>\n",
       "                        <td id=\"T_6ede7148_f554_11e9_bfbb_3cfdfe553c98row4_col47\" class=\"data row4 col47\" >XGBoost_1_AutoML_20191023_030324</td>\n",
       "                        <td id=\"T_6ede7148_f554_11e9_bfbb_3cfdfe553c98row4_col48\" class=\"data row4 col48\" >XGBoost_grid_1_AutoML_20191023_030324_model_25</td>\n",
       "                        <td id=\"T_6ede7148_f554_11e9_bfbb_3cfdfe553c98row4_col49\" class=\"data row4 col49\" >XGBoost_grid_1_AutoML_20191023_030324_model_21</td>\n",
       "                        <td id=\"T_6ede7148_f554_11e9_bfbb_3cfdfe553c98row4_col50\" class=\"data row4 col50\" >DeepLearning_grid_1_AutoML_20191023_030324_model_12</td>\n",
       "                        <td id=\"T_6ede7148_f554_11e9_bfbb_3cfdfe553c98row4_col51\" class=\"data row4 col51\" >XGBoost_grid_1_AutoML_20191023_030324_model_18</td>\n",
       "                        <td id=\"T_6ede7148_f554_11e9_bfbb_3cfdfe553c98row4_col52\" class=\"data row4 col52\" >XGBoost_grid_1_AutoML_20191023_030324_model_26</td>\n",
       "                        <td id=\"T_6ede7148_f554_11e9_bfbb_3cfdfe553c98row4_col53\" class=\"data row4 col53\" >XGBoost_grid_1_AutoML_20191023_030324_model_15</td>\n",
       "                        <td id=\"T_6ede7148_f554_11e9_bfbb_3cfdfe553c98row4_col54\" class=\"data row4 col54\" >DeepLearning_grid_1_AutoML_20191023_030324_model_6</td>\n",
       "                        <td id=\"T_6ede7148_f554_11e9_bfbb_3cfdfe553c98row4_col55\" class=\"data row4 col55\" >GBM_grid_1_AutoML_20191023_030324_model_8</td>\n",
       "                        <td id=\"T_6ede7148_f554_11e9_bfbb_3cfdfe553c98row4_col56\" class=\"data row4 col56\" >GBM_grid_1_AutoML_20191023_030324_model_9</td>\n",
       "                        <td id=\"T_6ede7148_f554_11e9_bfbb_3cfdfe553c98row4_col57\" class=\"data row4 col57\" >XGBoost_grid_1_AutoML_20191023_030324_model_20</td>\n",
       "                        <td id=\"T_6ede7148_f554_11e9_bfbb_3cfdfe553c98row4_col58\" class=\"data row4 col58\" >XGBoost_grid_1_AutoML_20191023_030324_model_27</td>\n",
       "                        <td id=\"T_6ede7148_f554_11e9_bfbb_3cfdfe553c98row4_col59\" class=\"data row4 col59\" >XGBoost_grid_1_AutoML_20191023_030324_model_4</td>\n",
       "                        <td id=\"T_6ede7148_f554_11e9_bfbb_3cfdfe553c98row4_col60\" class=\"data row4 col60\" >XGBoost_grid_1_AutoML_20191023_030324_model_31</td>\n",
       "                        <td id=\"T_6ede7148_f554_11e9_bfbb_3cfdfe553c98row4_col61\" class=\"data row4 col61\" >XGBoost_grid_1_AutoML_20191023_030324_model_2</td>\n",
       "                        <td id=\"T_6ede7148_f554_11e9_bfbb_3cfdfe553c98row4_col62\" class=\"data row4 col62\" >GBM_grid_1_AutoML_20191023_030324_model_29</td>\n",
       "                        <td id=\"T_6ede7148_f554_11e9_bfbb_3cfdfe553c98row4_col63\" class=\"data row4 col63\" >XGBoost_grid_1_AutoML_20191023_030324_model_29</td>\n",
       "                        <td id=\"T_6ede7148_f554_11e9_bfbb_3cfdfe553c98row4_col64\" class=\"data row4 col64\" >GBM_grid_1_AutoML_20191023_030324_model_28</td>\n",
       "                        <td id=\"T_6ede7148_f554_11e9_bfbb_3cfdfe553c98row4_col65\" class=\"data row4 col65\" >XGBoost_grid_1_AutoML_20191023_030324_model_28</td>\n",
       "                        <td id=\"T_6ede7148_f554_11e9_bfbb_3cfdfe553c98row4_col66\" class=\"data row4 col66\" >XGBoost_grid_1_AutoML_20191023_030324_model_3</td>\n",
       "                        <td id=\"T_6ede7148_f554_11e9_bfbb_3cfdfe553c98row4_col67\" class=\"data row4 col67\" >DeepLearning_grid_1_AutoML_20191023_030324_model_9</td>\n",
       "                        <td id=\"T_6ede7148_f554_11e9_bfbb_3cfdfe553c98row4_col68\" class=\"data row4 col68\" >XGBoost_grid_1_AutoML_20191023_030324_model_23</td>\n",
       "                        <td id=\"T_6ede7148_f554_11e9_bfbb_3cfdfe553c98row4_col69\" class=\"data row4 col69\" >XGBoost_grid_1_AutoML_20191023_030324_model_7</td>\n",
       "                        <td id=\"T_6ede7148_f554_11e9_bfbb_3cfdfe553c98row4_col70\" class=\"data row4 col70\" >XGBoost_grid_1_AutoML_20191023_030324_model_19</td>\n",
       "                        <td id=\"T_6ede7148_f554_11e9_bfbb_3cfdfe553c98row4_col71\" class=\"data row4 col71\" >GBM_grid_1_AutoML_20191023_030324_model_42</td>\n",
       "                        <td id=\"T_6ede7148_f554_11e9_bfbb_3cfdfe553c98row4_col72\" class=\"data row4 col72\" >GBM_grid_1_AutoML_20191023_030324_model_25</td>\n",
       "                        <td id=\"T_6ede7148_f554_11e9_bfbb_3cfdfe553c98row4_col73\" class=\"data row4 col73\" >GBM_grid_1_AutoML_20191023_030324_model_21</td>\n",
       "                        <td id=\"T_6ede7148_f554_11e9_bfbb_3cfdfe553c98row4_col74\" class=\"data row4 col74\" >XGBoost_2_AutoML_20191023_030324</td>\n",
       "                        <td id=\"T_6ede7148_f554_11e9_bfbb_3cfdfe553c98row4_col75\" class=\"data row4 col75\" >GBM_grid_1_AutoML_20191023_030324_model_30</td>\n",
       "                        <td id=\"T_6ede7148_f554_11e9_bfbb_3cfdfe553c98row4_col76\" class=\"data row4 col76\" >GBM_grid_1_AutoML_20191023_030324_model_7</td>\n",
       "                        <td id=\"T_6ede7148_f554_11e9_bfbb_3cfdfe553c98row4_col77\" class=\"data row4 col77\" >GBM_grid_1_AutoML_20191023_030324_model_23</td>\n",
       "                        <td id=\"T_6ede7148_f554_11e9_bfbb_3cfdfe553c98row4_col78\" class=\"data row4 col78\" >GBM_grid_1_AutoML_20191023_030324_model_38</td>\n",
       "                        <td id=\"T_6ede7148_f554_11e9_bfbb_3cfdfe553c98row4_col79\" class=\"data row4 col79\" >XGBoost_grid_1_AutoML_20191023_030324_model_5</td>\n",
       "                        <td id=\"T_6ede7148_f554_11e9_bfbb_3cfdfe553c98row4_col80\" class=\"data row4 col80\" >XGBoost_grid_1_AutoML_20191023_030324_model_22</td>\n",
       "                        <td id=\"T_6ede7148_f554_11e9_bfbb_3cfdfe553c98row4_col81\" class=\"data row4 col81\" >GBM_grid_1_AutoML_20191023_030324_model_33</td>\n",
       "                        <td id=\"T_6ede7148_f554_11e9_bfbb_3cfdfe553c98row4_col82\" class=\"data row4 col82\" >XGBoost_grid_1_AutoML_20191023_030324_model_12</td>\n",
       "                        <td id=\"T_6ede7148_f554_11e9_bfbb_3cfdfe553c98row4_col83\" class=\"data row4 col83\" >GBM_grid_1_AutoML_20191023_030324_model_5</td>\n",
       "                        <td id=\"T_6ede7148_f554_11e9_bfbb_3cfdfe553c98row4_col84\" class=\"data row4 col84\" >XGBoost_grid_1_AutoML_20191023_030324_model_11</td>\n",
       "                        <td id=\"T_6ede7148_f554_11e9_bfbb_3cfdfe553c98row4_col85\" class=\"data row4 col85\" >XGBoost_grid_1_AutoML_20191023_030324_model_6</td>\n",
       "                        <td id=\"T_6ede7148_f554_11e9_bfbb_3cfdfe553c98row4_col86\" class=\"data row4 col86\" >XGBoost_grid_1_AutoML_20191023_030324_model_1</td>\n",
       "                        <td id=\"T_6ede7148_f554_11e9_bfbb_3cfdfe553c98row4_col87\" class=\"data row4 col87\" >GBM_grid_1_AutoML_20191023_030324_model_43</td>\n",
       "                        <td id=\"T_6ede7148_f554_11e9_bfbb_3cfdfe553c98row4_col88\" class=\"data row4 col88\" >GBM_grid_1_AutoML_20191023_030324_model_37</td>\n",
       "                        <td id=\"T_6ede7148_f554_11e9_bfbb_3cfdfe553c98row4_col89\" class=\"data row4 col89\" >XGBoost_grid_1_AutoML_20191023_030324_model_14</td>\n",
       "                        <td id=\"T_6ede7148_f554_11e9_bfbb_3cfdfe553c98row4_col90\" class=\"data row4 col90\" >XGBoost_grid_1_AutoML_20191023_030324_model_24</td>\n",
       "                        <td id=\"T_6ede7148_f554_11e9_bfbb_3cfdfe553c98row4_col91\" class=\"data row4 col91\" >XGBoost_grid_1_AutoML_20191023_030324_model_10</td>\n",
       "                        <td id=\"T_6ede7148_f554_11e9_bfbb_3cfdfe553c98row4_col92\" class=\"data row4 col92\" >GBM_grid_1_AutoML_20191023_030324_model_4</td>\n",
       "                        <td id=\"T_6ede7148_f554_11e9_bfbb_3cfdfe553c98row4_col93\" class=\"data row4 col93\" >XGBoost_grid_1_AutoML_20191023_030324_model_16</td>\n",
       "                        <td id=\"T_6ede7148_f554_11e9_bfbb_3cfdfe553c98row4_col94\" class=\"data row4 col94\" >XGBoost_grid_1_AutoML_20191023_030324_model_9</td>\n",
       "                        <td id=\"T_6ede7148_f554_11e9_bfbb_3cfdfe553c98row4_col95\" class=\"data row4 col95\" >GBM_grid_1_AutoML_20191023_030324_model_34</td>\n",
       "                        <td id=\"T_6ede7148_f554_11e9_bfbb_3cfdfe553c98row4_col96\" class=\"data row4 col96\" >DeepLearning_1_AutoML_20191023_030324</td>\n",
       "                        <td id=\"T_6ede7148_f554_11e9_bfbb_3cfdfe553c98row4_col97\" class=\"data row4 col97\" >XGBoost_grid_1_AutoML_20191023_030324_model_32</td>\n",
       "                        <td id=\"T_6ede7148_f554_11e9_bfbb_3cfdfe553c98row4_col98\" class=\"data row4 col98\" >GBM_grid_1_AutoML_20191023_030324_model_2</td>\n",
       "                        <td id=\"T_6ede7148_f554_11e9_bfbb_3cfdfe553c98row4_col99\" class=\"data row4 col99\" >GBM_grid_1_AutoML_20191023_030324_model_44</td>\n",
       "                        <td id=\"T_6ede7148_f554_11e9_bfbb_3cfdfe553c98row4_col100\" class=\"data row4 col100\" >GBM_grid_1_AutoML_20191023_030324_model_22</td>\n",
       "                        <td id=\"T_6ede7148_f554_11e9_bfbb_3cfdfe553c98row4_col101\" class=\"data row4 col101\" >GBM_grid_1_AutoML_20191023_030324_model_36</td>\n",
       "                        <td id=\"T_6ede7148_f554_11e9_bfbb_3cfdfe553c98row4_col102\" class=\"data row4 col102\" >nan</td>\n",
       "                        <td id=\"T_6ede7148_f554_11e9_bfbb_3cfdfe553c98row4_col103\" class=\"data row4 col103\" >nan</td>\n",
       "                        <td id=\"T_6ede7148_f554_11e9_bfbb_3cfdfe553c98row4_col104\" class=\"data row4 col104\" >nan</td>\n",
       "                        <td id=\"T_6ede7148_f554_11e9_bfbb_3cfdfe553c98row4_col105\" class=\"data row4 col105\" >nan</td>\n",
       "                        <td id=\"T_6ede7148_f554_11e9_bfbb_3cfdfe553c98row4_col106\" class=\"data row4 col106\" >nan</td>\n",
       "                        <td id=\"T_6ede7148_f554_11e9_bfbb_3cfdfe553c98row4_col107\" class=\"data row4 col107\" >nan</td>\n",
       "                        <td id=\"T_6ede7148_f554_11e9_bfbb_3cfdfe553c98row4_col108\" class=\"data row4 col108\" >nan</td>\n",
       "            </tr>\n",
       "            <tr>\n",
       "                                <td id=\"T_6ede7148_f554_11e9_bfbb_3cfdfe553c98row5_col0\" class=\"data row5 col0\" >16</td>\n",
       "                        <td id=\"T_6ede7148_f554_11e9_bfbb_3cfdfe553c98row5_col1\" class=\"data row5 col1\" >StackedEnsemble_AllModels_AutoML_20191023_025629</td>\n",
       "                        <td id=\"T_6ede7148_f554_11e9_bfbb_3cfdfe553c98row5_col2\" class=\"data row5 col2\" >DeepLearning_grid_1_AutoML_20191023_025629_model_8</td>\n",
       "                        <td id=\"T_6ede7148_f554_11e9_bfbb_3cfdfe553c98row5_col3\" class=\"data row5 col3\" >GBM_grid_1_AutoML_20191023_025629_model_40</td>\n",
       "                        <td id=\"T_6ede7148_f554_11e9_bfbb_3cfdfe553c98row5_col4\" class=\"data row5 col4\" >GBM_grid_1_AutoML_20191023_025629_model_31</td>\n",
       "                        <td id=\"T_6ede7148_f554_11e9_bfbb_3cfdfe553c98row5_col5\" class=\"data row5 col5\" >DeepLearning_grid_1_AutoML_20191023_025629_model_2</td>\n",
       "                        <td id=\"T_6ede7148_f554_11e9_bfbb_3cfdfe553c98row5_col6\" class=\"data row5 col6\" >GBM_grid_1_AutoML_20191023_025629_model_18</td>\n",
       "                        <td id=\"T_6ede7148_f554_11e9_bfbb_3cfdfe553c98row5_col7\" class=\"data row5 col7\" >DeepLearning_grid_1_AutoML_20191023_025629_model_11</td>\n",
       "                        <td id=\"T_6ede7148_f554_11e9_bfbb_3cfdfe553c98row5_col8\" class=\"data row5 col8\" >GBM_grid_1_AutoML_20191023_025629_model_39</td>\n",
       "                        <td id=\"T_6ede7148_f554_11e9_bfbb_3cfdfe553c98row5_col9\" class=\"data row5 col9\" >GBM_grid_1_AutoML_20191023_025629_model_19</td>\n",
       "                        <td id=\"T_6ede7148_f554_11e9_bfbb_3cfdfe553c98row5_col10\" class=\"data row5 col10\" >GBM_grid_1_AutoML_20191023_025629_model_46</td>\n",
       "                        <td id=\"T_6ede7148_f554_11e9_bfbb_3cfdfe553c98row5_col11\" class=\"data row5 col11\" >DeepLearning_grid_1_AutoML_20191023_025629_model_7</td>\n",
       "                        <td id=\"T_6ede7148_f554_11e9_bfbb_3cfdfe553c98row5_col12\" class=\"data row5 col12\" >DeepLearning_grid_1_AutoML_20191023_025629_model_12</td>\n",
       "                        <td id=\"T_6ede7148_f554_11e9_bfbb_3cfdfe553c98row5_col13\" class=\"data row5 col13\" >DeepLearning_grid_1_AutoML_20191023_025629_model_1</td>\n",
       "                        <td id=\"T_6ede7148_f554_11e9_bfbb_3cfdfe553c98row5_col14\" class=\"data row5 col14\" >GBM_grid_1_AutoML_20191023_025629_model_41</td>\n",
       "                        <td id=\"T_6ede7148_f554_11e9_bfbb_3cfdfe553c98row5_col15\" class=\"data row5 col15\" >XGBoost_grid_1_AutoML_20191023_025629_model_13</td>\n",
       "                        <td id=\"T_6ede7148_f554_11e9_bfbb_3cfdfe553c98row5_col16\" class=\"data row5 col16\" >GBM_grid_1_AutoML_20191023_025629_model_15</td>\n",
       "                        <td id=\"T_6ede7148_f554_11e9_bfbb_3cfdfe553c98row5_col17\" class=\"data row5 col17\" >GBM_grid_1_AutoML_20191023_025629_model_35</td>\n",
       "                        <td id=\"T_6ede7148_f554_11e9_bfbb_3cfdfe553c98row5_col18\" class=\"data row5 col18\" >GBM_2_AutoML_20191023_025629</td>\n",
       "                        <td id=\"T_6ede7148_f554_11e9_bfbb_3cfdfe553c98row5_col19\" class=\"data row5 col19\" >GBM_grid_1_AutoML_20191023_025629_model_43</td>\n",
       "                        <td id=\"T_6ede7148_f554_11e9_bfbb_3cfdfe553c98row5_col20\" class=\"data row5 col20\" >GBM_grid_1_AutoML_20191023_025629_model_3</td>\n",
       "                        <td id=\"T_6ede7148_f554_11e9_bfbb_3cfdfe553c98row5_col21\" class=\"data row5 col21\" >GBM_3_AutoML_20191023_025629</td>\n",
       "                        <td id=\"T_6ede7148_f554_11e9_bfbb_3cfdfe553c98row5_col22\" class=\"data row5 col22\" >GBM_grid_1_AutoML_20191023_025629_model_45</td>\n",
       "                        <td id=\"T_6ede7148_f554_11e9_bfbb_3cfdfe553c98row5_col23\" class=\"data row5 col23\" >GBM_grid_1_AutoML_20191023_025629_model_32</td>\n",
       "                        <td id=\"T_6ede7148_f554_11e9_bfbb_3cfdfe553c98row5_col24\" class=\"data row5 col24\" >GBM_grid_1_AutoML_20191023_025629_model_47</td>\n",
       "                        <td id=\"T_6ede7148_f554_11e9_bfbb_3cfdfe553c98row5_col25\" class=\"data row5 col25\" >GBM_grid_1_AutoML_20191023_025629_model_26</td>\n",
       "                        <td id=\"T_6ede7148_f554_11e9_bfbb_3cfdfe553c98row5_col26\" class=\"data row5 col26\" >GBM_grid_1_AutoML_20191023_025629_model_6</td>\n",
       "                        <td id=\"T_6ede7148_f554_11e9_bfbb_3cfdfe553c98row5_col27\" class=\"data row5 col27\" >GBM_grid_1_AutoML_20191023_025629_model_27</td>\n",
       "                        <td id=\"T_6ede7148_f554_11e9_bfbb_3cfdfe553c98row5_col28\" class=\"data row5 col28\" >DeepLearning_grid_1_AutoML_20191023_025629_model_3</td>\n",
       "                        <td id=\"T_6ede7148_f554_11e9_bfbb_3cfdfe553c98row5_col29\" class=\"data row5 col29\" >GBM_grid_1_AutoML_20191023_025629_model_20</td>\n",
       "                        <td id=\"T_6ede7148_f554_11e9_bfbb_3cfdfe553c98row5_col30\" class=\"data row5 col30\" >DeepLearning_grid_1_AutoML_20191023_025629_model_4</td>\n",
       "                        <td id=\"T_6ede7148_f554_11e9_bfbb_3cfdfe553c98row5_col31\" class=\"data row5 col31\" >GBM_5_AutoML_20191023_025629</td>\n",
       "                        <td id=\"T_6ede7148_f554_11e9_bfbb_3cfdfe553c98row5_col32\" class=\"data row5 col32\" >GBM_grid_1_AutoML_20191023_025629_model_12</td>\n",
       "                        <td id=\"T_6ede7148_f554_11e9_bfbb_3cfdfe553c98row5_col33\" class=\"data row5 col33\" >DeepLearning_grid_1_AutoML_20191023_025629_model_5</td>\n",
       "                        <td id=\"T_6ede7148_f554_11e9_bfbb_3cfdfe553c98row5_col34\" class=\"data row5 col34\" >GBM_4_AutoML_20191023_025629</td>\n",
       "                        <td id=\"T_6ede7148_f554_11e9_bfbb_3cfdfe553c98row5_col35\" class=\"data row5 col35\" >GLM_grid_1_AutoML_20191023_025629_model_1</td>\n",
       "                        <td id=\"T_6ede7148_f554_11e9_bfbb_3cfdfe553c98row5_col36\" class=\"data row5 col36\" >GBM_grid_1_AutoML_20191023_025629_model_17</td>\n",
       "                        <td id=\"T_6ede7148_f554_11e9_bfbb_3cfdfe553c98row5_col37\" class=\"data row5 col37\" >XRT_1_AutoML_20191023_025629</td>\n",
       "                        <td id=\"T_6ede7148_f554_11e9_bfbb_3cfdfe553c98row5_col38\" class=\"data row5 col38\" >GBM_grid_1_AutoML_20191023_025629_model_1</td>\n",
       "                        <td id=\"T_6ede7148_f554_11e9_bfbb_3cfdfe553c98row5_col39\" class=\"data row5 col39\" >GBM_grid_1_AutoML_20191023_025629_model_10</td>\n",
       "                        <td id=\"T_6ede7148_f554_11e9_bfbb_3cfdfe553c98row5_col40\" class=\"data row5 col40\" >XGBoost_grid_1_AutoML_20191023_025629_model_8</td>\n",
       "                        <td id=\"T_6ede7148_f554_11e9_bfbb_3cfdfe553c98row5_col41\" class=\"data row5 col41\" >GBM_1_AutoML_20191023_025629</td>\n",
       "                        <td id=\"T_6ede7148_f554_11e9_bfbb_3cfdfe553c98row5_col42\" class=\"data row5 col42\" >GBM_grid_1_AutoML_20191023_025629_model_14</td>\n",
       "                        <td id=\"T_6ede7148_f554_11e9_bfbb_3cfdfe553c98row5_col43\" class=\"data row5 col43\" >GBM_grid_1_AutoML_20191023_025629_model_42</td>\n",
       "                        <td id=\"T_6ede7148_f554_11e9_bfbb_3cfdfe553c98row5_col44\" class=\"data row5 col44\" >GBM_grid_1_AutoML_20191023_025629_model_11</td>\n",
       "                        <td id=\"T_6ede7148_f554_11e9_bfbb_3cfdfe553c98row5_col45\" class=\"data row5 col45\" >XGBoost_grid_1_AutoML_20191023_025629_model_30</td>\n",
       "                        <td id=\"T_6ede7148_f554_11e9_bfbb_3cfdfe553c98row5_col46\" class=\"data row5 col46\" >GBM_grid_1_AutoML_20191023_025629_model_16</td>\n",
       "                        <td id=\"T_6ede7148_f554_11e9_bfbb_3cfdfe553c98row5_col47\" class=\"data row5 col47\" >GBM_grid_1_AutoML_20191023_025629_model_24</td>\n",
       "                        <td id=\"T_6ede7148_f554_11e9_bfbb_3cfdfe553c98row5_col48\" class=\"data row5 col48\" >DRF_1_AutoML_20191023_025629</td>\n",
       "                        <td id=\"T_6ede7148_f554_11e9_bfbb_3cfdfe553c98row5_col49\" class=\"data row5 col49\" >XGBoost_grid_1_AutoML_20191023_025629_model_17</td>\n",
       "                        <td id=\"T_6ede7148_f554_11e9_bfbb_3cfdfe553c98row5_col50\" class=\"data row5 col50\" >GBM_grid_1_AutoML_20191023_025629_model_13</td>\n",
       "                        <td id=\"T_6ede7148_f554_11e9_bfbb_3cfdfe553c98row5_col51\" class=\"data row5 col51\" >XGBoost_3_AutoML_20191023_025629</td>\n",
       "                        <td id=\"T_6ede7148_f554_11e9_bfbb_3cfdfe553c98row5_col52\" class=\"data row5 col52\" >DeepLearning_grid_1_AutoML_20191023_025629_model_13</td>\n",
       "                        <td id=\"T_6ede7148_f554_11e9_bfbb_3cfdfe553c98row5_col53\" class=\"data row5 col53\" >XGBoost_1_AutoML_20191023_025629</td>\n",
       "                        <td id=\"T_6ede7148_f554_11e9_bfbb_3cfdfe553c98row5_col54\" class=\"data row5 col54\" >XGBoost_grid_1_AutoML_20191023_025629_model_25</td>\n",
       "                        <td id=\"T_6ede7148_f554_11e9_bfbb_3cfdfe553c98row5_col55\" class=\"data row5 col55\" >XGBoost_grid_1_AutoML_20191023_025629_model_21</td>\n",
       "                        <td id=\"T_6ede7148_f554_11e9_bfbb_3cfdfe553c98row5_col56\" class=\"data row5 col56\" >XGBoost_grid_1_AutoML_20191023_025629_model_18</td>\n",
       "                        <td id=\"T_6ede7148_f554_11e9_bfbb_3cfdfe553c98row5_col57\" class=\"data row5 col57\" >XGBoost_grid_1_AutoML_20191023_025629_model_26</td>\n",
       "                        <td id=\"T_6ede7148_f554_11e9_bfbb_3cfdfe553c98row5_col58\" class=\"data row5 col58\" >DeepLearning_grid_1_AutoML_20191023_025629_model_9</td>\n",
       "                        <td id=\"T_6ede7148_f554_11e9_bfbb_3cfdfe553c98row5_col59\" class=\"data row5 col59\" >XGBoost_grid_1_AutoML_20191023_025629_model_15</td>\n",
       "                        <td id=\"T_6ede7148_f554_11e9_bfbb_3cfdfe553c98row5_col60\" class=\"data row5 col60\" >GBM_grid_1_AutoML_20191023_025629_model_8</td>\n",
       "                        <td id=\"T_6ede7148_f554_11e9_bfbb_3cfdfe553c98row5_col61\" class=\"data row5 col61\" >DeepLearning_grid_1_AutoML_20191023_025629_model_6</td>\n",
       "                        <td id=\"T_6ede7148_f554_11e9_bfbb_3cfdfe553c98row5_col62\" class=\"data row5 col62\" >GBM_grid_1_AutoML_20191023_025629_model_9</td>\n",
       "                        <td id=\"T_6ede7148_f554_11e9_bfbb_3cfdfe553c98row5_col63\" class=\"data row5 col63\" >XGBoost_grid_1_AutoML_20191023_025629_model_20</td>\n",
       "                        <td id=\"T_6ede7148_f554_11e9_bfbb_3cfdfe553c98row5_col64\" class=\"data row5 col64\" >XGBoost_grid_1_AutoML_20191023_025629_model_27</td>\n",
       "                        <td id=\"T_6ede7148_f554_11e9_bfbb_3cfdfe553c98row5_col65\" class=\"data row5 col65\" >XGBoost_grid_1_AutoML_20191023_025629_model_4</td>\n",
       "                        <td id=\"T_6ede7148_f554_11e9_bfbb_3cfdfe553c98row5_col66\" class=\"data row5 col66\" >XGBoost_grid_1_AutoML_20191023_025629_model_31</td>\n",
       "                        <td id=\"T_6ede7148_f554_11e9_bfbb_3cfdfe553c98row5_col67\" class=\"data row5 col67\" >XGBoost_grid_1_AutoML_20191023_025629_model_2</td>\n",
       "                        <td id=\"T_6ede7148_f554_11e9_bfbb_3cfdfe553c98row5_col68\" class=\"data row5 col68\" >GBM_grid_1_AutoML_20191023_025629_model_29</td>\n",
       "                        <td id=\"T_6ede7148_f554_11e9_bfbb_3cfdfe553c98row5_col69\" class=\"data row5 col69\" >XGBoost_grid_1_AutoML_20191023_025629_model_29</td>\n",
       "                        <td id=\"T_6ede7148_f554_11e9_bfbb_3cfdfe553c98row5_col70\" class=\"data row5 col70\" >GBM_grid_1_AutoML_20191023_025629_model_28</td>\n",
       "                        <td id=\"T_6ede7148_f554_11e9_bfbb_3cfdfe553c98row5_col71\" class=\"data row5 col71\" >XGBoost_grid_1_AutoML_20191023_025629_model_28</td>\n",
       "                        <td id=\"T_6ede7148_f554_11e9_bfbb_3cfdfe553c98row5_col72\" class=\"data row5 col72\" >XGBoost_grid_1_AutoML_20191023_025629_model_3</td>\n",
       "                        <td id=\"T_6ede7148_f554_11e9_bfbb_3cfdfe553c98row5_col73\" class=\"data row5 col73\" >DeepLearning_grid_1_AutoML_20191023_025629_model_10</td>\n",
       "                        <td id=\"T_6ede7148_f554_11e9_bfbb_3cfdfe553c98row5_col74\" class=\"data row5 col74\" >XGBoost_grid_1_AutoML_20191023_025629_model_23</td>\n",
       "                        <td id=\"T_6ede7148_f554_11e9_bfbb_3cfdfe553c98row5_col75\" class=\"data row5 col75\" >XGBoost_grid_1_AutoML_20191023_025629_model_7</td>\n",
       "                        <td id=\"T_6ede7148_f554_11e9_bfbb_3cfdfe553c98row5_col76\" class=\"data row5 col76\" >XGBoost_grid_1_AutoML_20191023_025629_model_19</td>\n",
       "                        <td id=\"T_6ede7148_f554_11e9_bfbb_3cfdfe553c98row5_col77\" class=\"data row5 col77\" >GBM_grid_1_AutoML_20191023_025629_model_25</td>\n",
       "                        <td id=\"T_6ede7148_f554_11e9_bfbb_3cfdfe553c98row5_col78\" class=\"data row5 col78\" >GBM_grid_1_AutoML_20191023_025629_model_21</td>\n",
       "                        <td id=\"T_6ede7148_f554_11e9_bfbb_3cfdfe553c98row5_col79\" class=\"data row5 col79\" >XGBoost_2_AutoML_20191023_025629</td>\n",
       "                        <td id=\"T_6ede7148_f554_11e9_bfbb_3cfdfe553c98row5_col80\" class=\"data row5 col80\" >GBM_grid_1_AutoML_20191023_025629_model_30</td>\n",
       "                        <td id=\"T_6ede7148_f554_11e9_bfbb_3cfdfe553c98row5_col81\" class=\"data row5 col81\" >GBM_grid_1_AutoML_20191023_025629_model_7</td>\n",
       "                        <td id=\"T_6ede7148_f554_11e9_bfbb_3cfdfe553c98row5_col82\" class=\"data row5 col82\" >GBM_grid_1_AutoML_20191023_025629_model_23</td>\n",
       "                        <td id=\"T_6ede7148_f554_11e9_bfbb_3cfdfe553c98row5_col83\" class=\"data row5 col83\" >GBM_grid_1_AutoML_20191023_025629_model_38</td>\n",
       "                        <td id=\"T_6ede7148_f554_11e9_bfbb_3cfdfe553c98row5_col84\" class=\"data row5 col84\" >XGBoost_grid_1_AutoML_20191023_025629_model_5</td>\n",
       "                        <td id=\"T_6ede7148_f554_11e9_bfbb_3cfdfe553c98row5_col85\" class=\"data row5 col85\" >XGBoost_grid_1_AutoML_20191023_025629_model_22</td>\n",
       "                        <td id=\"T_6ede7148_f554_11e9_bfbb_3cfdfe553c98row5_col86\" class=\"data row5 col86\" >GBM_grid_1_AutoML_20191023_025629_model_33</td>\n",
       "                        <td id=\"T_6ede7148_f554_11e9_bfbb_3cfdfe553c98row5_col87\" class=\"data row5 col87\" >GBM_grid_1_AutoML_20191023_025629_model_48</td>\n",
       "                        <td id=\"T_6ede7148_f554_11e9_bfbb_3cfdfe553c98row5_col88\" class=\"data row5 col88\" >XGBoost_grid_1_AutoML_20191023_025629_model_12</td>\n",
       "                        <td id=\"T_6ede7148_f554_11e9_bfbb_3cfdfe553c98row5_col89\" class=\"data row5 col89\" >GBM_grid_1_AutoML_20191023_025629_model_5</td>\n",
       "                        <td id=\"T_6ede7148_f554_11e9_bfbb_3cfdfe553c98row5_col90\" class=\"data row5 col90\" >XGBoost_grid_1_AutoML_20191023_025629_model_11</td>\n",
       "                        <td id=\"T_6ede7148_f554_11e9_bfbb_3cfdfe553c98row5_col91\" class=\"data row5 col91\" >XGBoost_grid_1_AutoML_20191023_025629_model_6</td>\n",
       "                        <td id=\"T_6ede7148_f554_11e9_bfbb_3cfdfe553c98row5_col92\" class=\"data row5 col92\" >XGBoost_grid_1_AutoML_20191023_025629_model_1</td>\n",
       "                        <td id=\"T_6ede7148_f554_11e9_bfbb_3cfdfe553c98row5_col93\" class=\"data row5 col93\" >GBM_grid_1_AutoML_20191023_025629_model_37</td>\n",
       "                        <td id=\"T_6ede7148_f554_11e9_bfbb_3cfdfe553c98row5_col94\" class=\"data row5 col94\" >XGBoost_grid_1_AutoML_20191023_025629_model_32</td>\n",
       "                        <td id=\"T_6ede7148_f554_11e9_bfbb_3cfdfe553c98row5_col95\" class=\"data row5 col95\" >XGBoost_grid_1_AutoML_20191023_025629_model_14</td>\n",
       "                        <td id=\"T_6ede7148_f554_11e9_bfbb_3cfdfe553c98row5_col96\" class=\"data row5 col96\" >XGBoost_grid_1_AutoML_20191023_025629_model_24</td>\n",
       "                        <td id=\"T_6ede7148_f554_11e9_bfbb_3cfdfe553c98row5_col97\" class=\"data row5 col97\" >XGBoost_grid_1_AutoML_20191023_025629_model_10</td>\n",
       "                        <td id=\"T_6ede7148_f554_11e9_bfbb_3cfdfe553c98row5_col98\" class=\"data row5 col98\" >GBM_grid_1_AutoML_20191023_025629_model_4</td>\n",
       "                        <td id=\"T_6ede7148_f554_11e9_bfbb_3cfdfe553c98row5_col99\" class=\"data row5 col99\" >XGBoost_grid_1_AutoML_20191023_025629_model_33</td>\n",
       "                        <td id=\"T_6ede7148_f554_11e9_bfbb_3cfdfe553c98row5_col100\" class=\"data row5 col100\" >XGBoost_grid_1_AutoML_20191023_025629_model_16</td>\n",
       "                        <td id=\"T_6ede7148_f554_11e9_bfbb_3cfdfe553c98row5_col101\" class=\"data row5 col101\" >XGBoost_grid_1_AutoML_20191023_025629_model_9</td>\n",
       "                        <td id=\"T_6ede7148_f554_11e9_bfbb_3cfdfe553c98row5_col102\" class=\"data row5 col102\" >GBM_grid_1_AutoML_20191023_025629_model_34</td>\n",
       "                        <td id=\"T_6ede7148_f554_11e9_bfbb_3cfdfe553c98row5_col103\" class=\"data row5 col103\" >DeepLearning_1_AutoML_20191023_025629</td>\n",
       "                        <td id=\"T_6ede7148_f554_11e9_bfbb_3cfdfe553c98row5_col104\" class=\"data row5 col104\" >GBM_grid_1_AutoML_20191023_025629_model_2</td>\n",
       "                        <td id=\"T_6ede7148_f554_11e9_bfbb_3cfdfe553c98row5_col105\" class=\"data row5 col105\" >GBM_grid_1_AutoML_20191023_025629_model_49</td>\n",
       "                        <td id=\"T_6ede7148_f554_11e9_bfbb_3cfdfe553c98row5_col106\" class=\"data row5 col106\" >GBM_grid_1_AutoML_20191023_025629_model_44</td>\n",
       "                        <td id=\"T_6ede7148_f554_11e9_bfbb_3cfdfe553c98row5_col107\" class=\"data row5 col107\" >GBM_grid_1_AutoML_20191023_025629_model_22</td>\n",
       "                        <td id=\"T_6ede7148_f554_11e9_bfbb_3cfdfe553c98row5_col108\" class=\"data row5 col108\" >GBM_grid_1_AutoML_20191023_025629_model_36</td>\n",
       "            </tr>\n",
       "    </tbody></table>"
      ],
      "text/plain": [
       "<pandas.io.formats.style.Styler at 0x2aee8daa0978>"
      ]
     },
     "metadata": {},
     "output_type": "display_data"
    },
    {
     "data": {
      "text/plain": [
       "'TPOTClassifier #1'"
      ]
     },
     "metadata": {},
     "output_type": "display_data"
    },
    {
     "data": {
      "text/html": [
       "<style  type=\"text/css\" >\n",
       "</style><table id=\"T_6ee2a916_f554_11e9_bfbb_3cfdfe553c98\" ><thead>    <tr>        <th class=\"col_heading level0 col0\" >std</th>        <th class=\"col_heading level0 col1\" >test_acc</th>        <th class=\"col_heading level0 col2\" >train_acc</th>        <th class=\"col_heading level0 col3\" >time_err</th>        <th class=\"col_heading level0 col4\" >time_pre</th>        <th class=\"col_heading level0 col5\" >time_mod</th>    </tr></thead><tbody>\n",
       "                <tr>\n",
       "                                <td id=\"T_6ee2a916_f554_11e9_bfbb_3cfdfe553c98row0_col0\" class=\"data row0 col0\" >0</td>\n",
       "                        <td id=\"T_6ee2a916_f554_11e9_bfbb_3cfdfe553c98row0_col1\" class=\"data row0 col1\" >0.989</td>\n",
       "                        <td id=\"T_6ee2a916_f554_11e9_bfbb_3cfdfe553c98row0_col2\" class=\"data row0 col2\" >1</td>\n",
       "                        <td id=\"T_6ee2a916_f554_11e9_bfbb_3cfdfe553c98row0_col3\" class=\"data row0 col3\" >0.121</td>\n",
       "                        <td id=\"T_6ee2a916_f554_11e9_bfbb_3cfdfe553c98row0_col4\" class=\"data row0 col4\" >0</td>\n",
       "                        <td id=\"T_6ee2a916_f554_11e9_bfbb_3cfdfe553c98row0_col5\" class=\"data row0 col5\" >3989.21</td>\n",
       "            </tr>\n",
       "            <tr>\n",
       "                                <td id=\"T_6ee2a916_f554_11e9_bfbb_3cfdfe553c98row1_col0\" class=\"data row1 col0\" >3.2</td>\n",
       "                        <td id=\"T_6ee2a916_f554_11e9_bfbb_3cfdfe553c98row1_col1\" class=\"data row1 col1\" >0.969</td>\n",
       "                        <td id=\"T_6ee2a916_f554_11e9_bfbb_3cfdfe553c98row1_col2\" class=\"data row1 col2\" >1</td>\n",
       "                        <td id=\"T_6ee2a916_f554_11e9_bfbb_3cfdfe553c98row1_col3\" class=\"data row1 col3\" >0.118</td>\n",
       "                        <td id=\"T_6ee2a916_f554_11e9_bfbb_3cfdfe553c98row1_col4\" class=\"data row1 col4\" >0</td>\n",
       "                        <td id=\"T_6ee2a916_f554_11e9_bfbb_3cfdfe553c98row1_col5\" class=\"data row1 col5\" >3871.6</td>\n",
       "            </tr>\n",
       "            <tr>\n",
       "                                <td id=\"T_6ee2a916_f554_11e9_bfbb_3cfdfe553c98row2_col0\" class=\"data row2 col0\" >6.4</td>\n",
       "                        <td id=\"T_6ee2a916_f554_11e9_bfbb_3cfdfe553c98row2_col1\" class=\"data row2 col1\" >0.839</td>\n",
       "                        <td id=\"T_6ee2a916_f554_11e9_bfbb_3cfdfe553c98row2_col2\" class=\"data row2 col2\" >1</td>\n",
       "                        <td id=\"T_6ee2a916_f554_11e9_bfbb_3cfdfe553c98row2_col3\" class=\"data row2 col3\" >0.116</td>\n",
       "                        <td id=\"T_6ee2a916_f554_11e9_bfbb_3cfdfe553c98row2_col4\" class=\"data row2 col4\" >0</td>\n",
       "                        <td id=\"T_6ee2a916_f554_11e9_bfbb_3cfdfe553c98row2_col5\" class=\"data row2 col5\" >3618.29</td>\n",
       "            </tr>\n",
       "            <tr>\n",
       "                                <td id=\"T_6ee2a916_f554_11e9_bfbb_3cfdfe553c98row3_col0\" class=\"data row3 col0\" >9.6</td>\n",
       "                        <td id=\"T_6ee2a916_f554_11e9_bfbb_3cfdfe553c98row3_col1\" class=\"data row3 col1\" >0.633</td>\n",
       "                        <td id=\"T_6ee2a916_f554_11e9_bfbb_3cfdfe553c98row3_col2\" class=\"data row3 col2\" >0.669</td>\n",
       "                        <td id=\"T_6ee2a916_f554_11e9_bfbb_3cfdfe553c98row3_col3\" class=\"data row3 col3\" >0.115</td>\n",
       "                        <td id=\"T_6ee2a916_f554_11e9_bfbb_3cfdfe553c98row3_col4\" class=\"data row3 col4\" >0</td>\n",
       "                        <td id=\"T_6ee2a916_f554_11e9_bfbb_3cfdfe553c98row3_col5\" class=\"data row3 col5\" >3722.18</td>\n",
       "            </tr>\n",
       "            <tr>\n",
       "                                <td id=\"T_6ee2a916_f554_11e9_bfbb_3cfdfe553c98row4_col0\" class=\"data row4 col0\" >12.8</td>\n",
       "                        <td id=\"T_6ee2a916_f554_11e9_bfbb_3cfdfe553c98row4_col1\" class=\"data row4 col1\" >0.511</td>\n",
       "                        <td id=\"T_6ee2a916_f554_11e9_bfbb_3cfdfe553c98row4_col2\" class=\"data row4 col2\" >0.528</td>\n",
       "                        <td id=\"T_6ee2a916_f554_11e9_bfbb_3cfdfe553c98row4_col3\" class=\"data row4 col3\" >0.113</td>\n",
       "                        <td id=\"T_6ee2a916_f554_11e9_bfbb_3cfdfe553c98row4_col4\" class=\"data row4 col4\" >0</td>\n",
       "                        <td id=\"T_6ee2a916_f554_11e9_bfbb_3cfdfe553c98row4_col5\" class=\"data row4 col5\" >3717.39</td>\n",
       "            </tr>\n",
       "            <tr>\n",
       "                                <td id=\"T_6ee2a916_f554_11e9_bfbb_3cfdfe553c98row5_col0\" class=\"data row5 col0\" >16</td>\n",
       "                        <td id=\"T_6ee2a916_f554_11e9_bfbb_3cfdfe553c98row5_col1\" class=\"data row5 col1\" >0.389</td>\n",
       "                        <td id=\"T_6ee2a916_f554_11e9_bfbb_3cfdfe553c98row5_col2\" class=\"data row5 col2\" >0.441</td>\n",
       "                        <td id=\"T_6ee2a916_f554_11e9_bfbb_3cfdfe553c98row5_col3\" class=\"data row5 col3\" >0.111</td>\n",
       "                        <td id=\"T_6ee2a916_f554_11e9_bfbb_3cfdfe553c98row5_col4\" class=\"data row5 col4\" >0</td>\n",
       "                        <td id=\"T_6ee2a916_f554_11e9_bfbb_3cfdfe553c98row5_col5\" class=\"data row5 col5\" >3875.74</td>\n",
       "            </tr>\n",
       "    </tbody></table>"
      ],
      "text/plain": [
       "<pandas.io.formats.style.Styler at 0x2aee8daaa0f0>"
      ]
     },
     "metadata": {},
     "output_type": "display_data"
    },
    {
     "data": {
      "text/html": [
       "<style  type=\"text/css\" >\n",
       "</style><table id=\"T_6ee3abe0_f554_11e9_bfbb_3cfdfe553c98\" ><thead>    <tr>        <th class=\"col_heading level0 col0\" >std</th>        <th class=\"col_heading level0 col1\" >pipe_0</th>        <th class=\"col_heading level0 col2\" >pipe_1</th>        <th class=\"col_heading level0 col3\" >pipe_2</th>        <th class=\"col_heading level0 col4\" >pipe_3</th>        <th class=\"col_heading level0 col5\" >pipe_4</th>    </tr></thead><tbody>\n",
       "                <tr>\n",
       "                                <td id=\"T_6ee3abe0_f554_11e9_bfbb_3cfdfe553c98row0_col0\" class=\"data row0 col0\" >0</td>\n",
       "                        <td id=\"T_6ee3abe0_f554_11e9_bfbb_3cfdfe553c98row0_col1\" class=\"data row0 col1\" >PolynomialFeatures(degree=2, include_bias=False, interaction_only=False,\n",
       "                   order='C')</td>\n",
       "                        <td id=\"T_6ee3abe0_f554_11e9_bfbb_3cfdfe553c98row0_col2\" class=\"data row0 col2\" >LogisticRegression(C=0.01, class_weight=None, dual=False, fit_intercept=True,\n",
       "                   intercept_scaling=1, l1_ratio=None, max_iter=100,\n",
       "                   multi_class='warn', n_jobs=None, penalty='l2',\n",
       "                   random_state=None, solver='warn', tol=0.0001, verbose=0,\n",
       "                   warm_start=False)</td>\n",
       "                        <td id=\"T_6ee3abe0_f554_11e9_bfbb_3cfdfe553c98row0_col3\" class=\"data row0 col3\" >nan</td>\n",
       "                        <td id=\"T_6ee3abe0_f554_11e9_bfbb_3cfdfe553c98row0_col4\" class=\"data row0 col4\" >nan</td>\n",
       "                        <td id=\"T_6ee3abe0_f554_11e9_bfbb_3cfdfe553c98row0_col5\" class=\"data row0 col5\" >nan</td>\n",
       "            </tr>\n",
       "            <tr>\n",
       "                                <td id=\"T_6ee3abe0_f554_11e9_bfbb_3cfdfe553c98row1_col0\" class=\"data row1 col0\" >3.2</td>\n",
       "                        <td id=\"T_6ee3abe0_f554_11e9_bfbb_3cfdfe553c98row1_col1\" class=\"data row1 col1\" >StackingEstimator(estimator=LogisticRegression(C=25.0, class_weight=None,\n",
       "                                               dual=False, fit_intercept=True,\n",
       "                                               intercept_scaling=1,\n",
       "                                               l1_ratio=None, max_iter=100,\n",
       "                                               multi_class='warn', n_jobs=None,\n",
       "                                               penalty='l2', random_state=None,\n",
       "                                               solver='warn', tol=0.0001,\n",
       "                                               verbose=0, warm_start=False))</td>\n",
       "                        <td id=\"T_6ee3abe0_f554_11e9_bfbb_3cfdfe553c98row1_col2\" class=\"data row1 col2\" >KNeighborsClassifier(algorithm='auto', leaf_size=30, metric='minkowski',\n",
       "                     metric_params=None, n_jobs=None, n_neighbors=4, p=2,\n",
       "                     weights='distance')</td>\n",
       "                        <td id=\"T_6ee3abe0_f554_11e9_bfbb_3cfdfe553c98row1_col3\" class=\"data row1 col3\" >nan</td>\n",
       "                        <td id=\"T_6ee3abe0_f554_11e9_bfbb_3cfdfe553c98row1_col4\" class=\"data row1 col4\" >nan</td>\n",
       "                        <td id=\"T_6ee3abe0_f554_11e9_bfbb_3cfdfe553c98row1_col5\" class=\"data row1 col5\" >nan</td>\n",
       "            </tr>\n",
       "            <tr>\n",
       "                                <td id=\"T_6ee3abe0_f554_11e9_bfbb_3cfdfe553c98row2_col0\" class=\"data row2 col0\" >6.4</td>\n",
       "                        <td id=\"T_6ee3abe0_f554_11e9_bfbb_3cfdfe553c98row2_col1\" class=\"data row2 col1\" >SelectFwe(alpha=0.013000000000000001,\n",
       "          score_func=<function f_classif at 0x2aeece5bab70>)</td>\n",
       "                        <td id=\"T_6ee3abe0_f554_11e9_bfbb_3cfdfe553c98row2_col2\" class=\"data row2 col2\" >StackingEstimator(estimator=KNeighborsClassifier(algorithm='auto', leaf_size=30,\n",
       "                                                 metric='minkowski',\n",
       "                                                 metric_params=None,\n",
       "                                                 n_jobs=None, n_neighbors=4,\n",
       "                                                 p=1, weights='uniform'))</td>\n",
       "                        <td id=\"T_6ee3abe0_f554_11e9_bfbb_3cfdfe553c98row2_col3\" class=\"data row2 col3\" >KNeighborsClassifier(algorithm='auto', leaf_size=30, metric='minkowski',\n",
       "                     metric_params=None, n_jobs=None, n_neighbors=34, p=2,\n",
       "                     weights='distance')</td>\n",
       "                        <td id=\"T_6ee3abe0_f554_11e9_bfbb_3cfdfe553c98row2_col4\" class=\"data row2 col4\" >nan</td>\n",
       "                        <td id=\"T_6ee3abe0_f554_11e9_bfbb_3cfdfe553c98row2_col5\" class=\"data row2 col5\" >nan</td>\n",
       "            </tr>\n",
       "            <tr>\n",
       "                                <td id=\"T_6ee3abe0_f554_11e9_bfbb_3cfdfe553c98row3_col0\" class=\"data row3 col0\" >9.6</td>\n",
       "                        <td id=\"T_6ee3abe0_f554_11e9_bfbb_3cfdfe553c98row3_col1\" class=\"data row3 col1\" >SelectFwe(alpha=0.045, score_func=<function f_classif at 0x2aeece5bab70>)</td>\n",
       "                        <td id=\"T_6ee3abe0_f554_11e9_bfbb_3cfdfe553c98row3_col2\" class=\"data row3 col2\" >StackingEstimator(estimator=GradientBoostingClassifier(criterion='friedman_mse',\n",
       "                                                       init=None,\n",
       "                                                       learning_rate=0.5,\n",
       "                                                       loss='deviance',\n",
       "                                                       max_depth=7,\n",
       "                                                       max_features=0.55,\n",
       "                                                       max_leaf_nodes=None,\n",
       "                                                       min_impurity_decrease=0.0,\n",
       "                                                       min_impurity_split=None,\n",
       "                                                       min_samples_leaf=3,\n",
       "                                                       min_samples_split=8,\n",
       "                                                       min_weight_fraction_leaf=0.0,\n",
       "                                                       n_estimators=100,\n",
       "                                                       n_iter_no_change=None,\n",
       "                                                       presort='auto',\n",
       "                                                       random_state=None,\n",
       "                                                       subsample=0.45,\n",
       "                                                       tol=0.0001,\n",
       "                                                       validation_fraction=0.1,\n",
       "                                                       verbose=0,\n",
       "                                                       warm_start=False))</td>\n",
       "                        <td id=\"T_6ee3abe0_f554_11e9_bfbb_3cfdfe553c98row3_col3\" class=\"data row3 col3\" >LogisticRegression(C=0.0001, class_weight=None, dual=True, fit_intercept=True,\n",
       "                   intercept_scaling=1, l1_ratio=None, max_iter=100,\n",
       "                   multi_class='warn', n_jobs=None, penalty='l2',\n",
       "                   random_state=None, solver='warn', tol=0.0001, verbose=0,\n",
       "                   warm_start=False)</td>\n",
       "                        <td id=\"T_6ee3abe0_f554_11e9_bfbb_3cfdfe553c98row3_col4\" class=\"data row3 col4\" >nan</td>\n",
       "                        <td id=\"T_6ee3abe0_f554_11e9_bfbb_3cfdfe553c98row3_col5\" class=\"data row3 col5\" >nan</td>\n",
       "            </tr>\n",
       "            <tr>\n",
       "                                <td id=\"T_6ee3abe0_f554_11e9_bfbb_3cfdfe553c98row4_col0\" class=\"data row4 col0\" >12.8</td>\n",
       "                        <td id=\"T_6ee3abe0_f554_11e9_bfbb_3cfdfe553c98row4_col1\" class=\"data row4 col1\" >SelectFwe(alpha=0.031, score_func=<function f_classif at 0x2aeece5bab70>)</td>\n",
       "                        <td id=\"T_6ee3abe0_f554_11e9_bfbb_3cfdfe553c98row4_col2\" class=\"data row4 col2\" >LogisticRegression(C=0.0001, class_weight=None, dual=True, fit_intercept=True,\n",
       "                   intercept_scaling=1, l1_ratio=None, max_iter=100,\n",
       "                   multi_class='warn', n_jobs=None, penalty='l2',\n",
       "                   random_state=None, solver='warn', tol=0.0001, verbose=0,\n",
       "                   warm_start=False)</td>\n",
       "                        <td id=\"T_6ee3abe0_f554_11e9_bfbb_3cfdfe553c98row4_col3\" class=\"data row4 col3\" >nan</td>\n",
       "                        <td id=\"T_6ee3abe0_f554_11e9_bfbb_3cfdfe553c98row4_col4\" class=\"data row4 col4\" >nan</td>\n",
       "                        <td id=\"T_6ee3abe0_f554_11e9_bfbb_3cfdfe553c98row4_col5\" class=\"data row4 col5\" >nan</td>\n",
       "            </tr>\n",
       "            <tr>\n",
       "                                <td id=\"T_6ee3abe0_f554_11e9_bfbb_3cfdfe553c98row5_col0\" class=\"data row5 col0\" >16</td>\n",
       "                        <td id=\"T_6ee3abe0_f554_11e9_bfbb_3cfdfe553c98row5_col1\" class=\"data row5 col1\" >SelectPercentile(percentile=62,\n",
       "                 score_func=<function f_classif at 0x2aeece5bab70>)</td>\n",
       "                        <td id=\"T_6ee3abe0_f554_11e9_bfbb_3cfdfe553c98row5_col2\" class=\"data row5 col2\" >StackingEstimator(estimator=GaussianNB(priors=None, var_smoothing=1e-09))</td>\n",
       "                        <td id=\"T_6ee3abe0_f554_11e9_bfbb_3cfdfe553c98row5_col3\" class=\"data row5 col3\" >StackingEstimator(estimator=LogisticRegression(C=15.0, class_weight=None,\n",
       "                                               dual=False, fit_intercept=True,\n",
       "                                               intercept_scaling=1,\n",
       "                                               l1_ratio=None, max_iter=100,\n",
       "                                               multi_class='warn', n_jobs=None,\n",
       "                                               penalty='l2', random_state=None,\n",
       "                                               solver='warn', tol=0.0001,\n",
       "                                               verbose=0, warm_start=False))</td>\n",
       "                        <td id=\"T_6ee3abe0_f554_11e9_bfbb_3cfdfe553c98row5_col4\" class=\"data row5 col4\" >Normalizer(copy=True, norm='max')</td>\n",
       "                        <td id=\"T_6ee3abe0_f554_11e9_bfbb_3cfdfe553c98row5_col5\" class=\"data row5 col5\" >LinearSVC(C=0.001, class_weight=None, dual=True, fit_intercept=True,\n",
       "          intercept_scaling=1, loss='squared_hinge', max_iter=1000,\n",
       "          multi_class='ovr', penalty='l2', random_state=None, tol=0.1,\n",
       "          verbose=0)</td>\n",
       "            </tr>\n",
       "    </tbody></table>"
      ],
      "text/plain": [
       "<pandas.io.formats.style.Styler at 0x2aee8daaa940>"
      ]
     },
     "metadata": {},
     "output_type": "display_data"
    },
    {
     "data": {
      "text/plain": [
       "'TPOTClassifierClean #1'"
      ]
     },
     "metadata": {},
     "output_type": "display_data"
    },
    {
     "data": {
      "text/html": [
       "<style  type=\"text/css\" >\n",
       "</style><table id=\"T_6ee59838_f554_11e9_bfbb_3cfdfe553c98\" ><thead>    <tr>        <th class=\"col_heading level0 col0\" >std</th>        <th class=\"col_heading level0 col1\" >test_acc</th>        <th class=\"col_heading level0 col2\" >train_acc</th>        <th class=\"col_heading level0 col3\" >time_err</th>        <th class=\"col_heading level0 col4\" >time_pre</th>        <th class=\"col_heading level0 col5\" >time_mod</th>    </tr></thead><tbody>\n",
       "                <tr>\n",
       "                                <td id=\"T_6ee59838_f554_11e9_bfbb_3cfdfe553c98row0_col0\" class=\"data row0 col0\" >0</td>\n",
       "                        <td id=\"T_6ee59838_f554_11e9_bfbb_3cfdfe553c98row0_col1\" class=\"data row0 col1\" >0.978</td>\n",
       "                        <td id=\"T_6ee59838_f554_11e9_bfbb_3cfdfe553c98row0_col2\" class=\"data row0 col2\" >1</td>\n",
       "                        <td id=\"T_6ee59838_f554_11e9_bfbb_3cfdfe553c98row0_col3\" class=\"data row0 col3\" >0.121</td>\n",
       "                        <td id=\"T_6ee59838_f554_11e9_bfbb_3cfdfe553c98row0_col4\" class=\"data row0 col4\" >0</td>\n",
       "                        <td id=\"T_6ee59838_f554_11e9_bfbb_3cfdfe553c98row0_col5\" class=\"data row0 col5\" >3772.92</td>\n",
       "            </tr>\n",
       "            <tr>\n",
       "                                <td id=\"T_6ee59838_f554_11e9_bfbb_3cfdfe553c98row1_col0\" class=\"data row1 col0\" >3.2</td>\n",
       "                        <td id=\"T_6ee59838_f554_11e9_bfbb_3cfdfe553c98row1_col1\" class=\"data row1 col1\" >0.983</td>\n",
       "                        <td id=\"T_6ee59838_f554_11e9_bfbb_3cfdfe553c98row1_col2\" class=\"data row1 col2\" >1</td>\n",
       "                        <td id=\"T_6ee59838_f554_11e9_bfbb_3cfdfe553c98row1_col3\" class=\"data row1 col3\" >0.118</td>\n",
       "                        <td id=\"T_6ee59838_f554_11e9_bfbb_3cfdfe553c98row1_col4\" class=\"data row1 col4\" >0</td>\n",
       "                        <td id=\"T_6ee59838_f554_11e9_bfbb_3cfdfe553c98row1_col5\" class=\"data row1 col5\" >3668.98</td>\n",
       "            </tr>\n",
       "            <tr>\n",
       "                                <td id=\"T_6ee59838_f554_11e9_bfbb_3cfdfe553c98row2_col0\" class=\"data row2 col0\" >6.4</td>\n",
       "                        <td id=\"T_6ee59838_f554_11e9_bfbb_3cfdfe553c98row2_col1\" class=\"data row2 col1\" >0.878</td>\n",
       "                        <td id=\"T_6ee59838_f554_11e9_bfbb_3cfdfe553c98row2_col2\" class=\"data row2 col2\" >1</td>\n",
       "                        <td id=\"T_6ee59838_f554_11e9_bfbb_3cfdfe553c98row2_col3\" class=\"data row2 col3\" >0.116</td>\n",
       "                        <td id=\"T_6ee59838_f554_11e9_bfbb_3cfdfe553c98row2_col4\" class=\"data row2 col4\" >0</td>\n",
       "                        <td id=\"T_6ee59838_f554_11e9_bfbb_3cfdfe553c98row2_col5\" class=\"data row2 col5\" >3914.5</td>\n",
       "            </tr>\n",
       "            <tr>\n",
       "                                <td id=\"T_6ee59838_f554_11e9_bfbb_3cfdfe553c98row3_col0\" class=\"data row3 col0\" >9.6</td>\n",
       "                        <td id=\"T_6ee59838_f554_11e9_bfbb_3cfdfe553c98row3_col1\" class=\"data row3 col1\" >0.658</td>\n",
       "                        <td id=\"T_6ee59838_f554_11e9_bfbb_3cfdfe553c98row3_col2\" class=\"data row3 col2\" >1</td>\n",
       "                        <td id=\"T_6ee59838_f554_11e9_bfbb_3cfdfe553c98row3_col3\" class=\"data row3 col3\" >0.115</td>\n",
       "                        <td id=\"T_6ee59838_f554_11e9_bfbb_3cfdfe553c98row3_col4\" class=\"data row3 col4\" >0</td>\n",
       "                        <td id=\"T_6ee59838_f554_11e9_bfbb_3cfdfe553c98row3_col5\" class=\"data row3 col5\" >3792.12</td>\n",
       "            </tr>\n",
       "            <tr>\n",
       "                                <td id=\"T_6ee59838_f554_11e9_bfbb_3cfdfe553c98row4_col0\" class=\"data row4 col0\" >12.8</td>\n",
       "                        <td id=\"T_6ee59838_f554_11e9_bfbb_3cfdfe553c98row4_col1\" class=\"data row4 col1\" >0.514</td>\n",
       "                        <td id=\"T_6ee59838_f554_11e9_bfbb_3cfdfe553c98row4_col2\" class=\"data row4 col2\" >1</td>\n",
       "                        <td id=\"T_6ee59838_f554_11e9_bfbb_3cfdfe553c98row4_col3\" class=\"data row4 col3\" >0.113</td>\n",
       "                        <td id=\"T_6ee59838_f554_11e9_bfbb_3cfdfe553c98row4_col4\" class=\"data row4 col4\" >0</td>\n",
       "                        <td id=\"T_6ee59838_f554_11e9_bfbb_3cfdfe553c98row4_col5\" class=\"data row4 col5\" >3737.31</td>\n",
       "            </tr>\n",
       "            <tr>\n",
       "                                <td id=\"T_6ee59838_f554_11e9_bfbb_3cfdfe553c98row5_col0\" class=\"data row5 col0\" >16</td>\n",
       "                        <td id=\"T_6ee59838_f554_11e9_bfbb_3cfdfe553c98row5_col1\" class=\"data row5 col1\" >0.378</td>\n",
       "                        <td id=\"T_6ee59838_f554_11e9_bfbb_3cfdfe553c98row5_col2\" class=\"data row5 col2\" >1</td>\n",
       "                        <td id=\"T_6ee59838_f554_11e9_bfbb_3cfdfe553c98row5_col3\" class=\"data row5 col3\" >0.111</td>\n",
       "                        <td id=\"T_6ee59838_f554_11e9_bfbb_3cfdfe553c98row5_col4\" class=\"data row5 col4\" >0</td>\n",
       "                        <td id=\"T_6ee59838_f554_11e9_bfbb_3cfdfe553c98row5_col5\" class=\"data row5 col5\" >3893.12</td>\n",
       "            </tr>\n",
       "    </tbody></table>"
      ],
      "text/plain": [
       "<pandas.io.formats.style.Styler at 0x2aee8daaa198>"
      ]
     },
     "metadata": {},
     "output_type": "display_data"
    },
    {
     "data": {
      "text/html": [
       "<style  type=\"text/css\" >\n",
       "</style><table id=\"T_6ee695f8_f554_11e9_bfbb_3cfdfe553c98\" ><thead>    <tr>        <th class=\"col_heading level0 col0\" >std</th>        <th class=\"col_heading level0 col1\" >pipe_0</th>        <th class=\"col_heading level0 col2\" >pipe_1</th>        <th class=\"col_heading level0 col3\" >pipe_2</th>    </tr></thead><tbody>\n",
       "                <tr>\n",
       "                                <td id=\"T_6ee695f8_f554_11e9_bfbb_3cfdfe553c98row0_col0\" class=\"data row0 col0\" >0</td>\n",
       "                        <td id=\"T_6ee695f8_f554_11e9_bfbb_3cfdfe553c98row0_col1\" class=\"data row0 col1\" >StackingEstimator(estimator=KNeighborsClassifier(algorithm='auto', leaf_size=30,\n",
       "                                                 metric='minkowski',\n",
       "                                                 metric_params=None,\n",
       "                                                 n_jobs=None, n_neighbors=1,\n",
       "                                                 p=2, weights='distance'))</td>\n",
       "                        <td id=\"T_6ee695f8_f554_11e9_bfbb_3cfdfe553c98row0_col2\" class=\"data row0 col2\" >GradientBoostingClassifier(criterion='friedman_mse', init=None,\n",
       "                           learning_rate=0.1, loss='deviance', max_depth=2,\n",
       "                           max_features=0.8, max_leaf_nodes=None,\n",
       "                           min_impurity_decrease=0.0, min_impurity_split=None,\n",
       "                           min_samples_leaf=19, min_samples_split=14,\n",
       "                           min_weight_fraction_leaf=0.0, n_estimators=100,\n",
       "                           n_iter_no_change=None, presort='auto',\n",
       "                           random_state=None, subsample=0.8500000000000001,\n",
       "                           tol=0.0001, validation_fraction=0.1, verbose=0,\n",
       "                           warm_start=False)</td>\n",
       "                        <td id=\"T_6ee695f8_f554_11e9_bfbb_3cfdfe553c98row0_col3\" class=\"data row0 col3\" >nan</td>\n",
       "            </tr>\n",
       "            <tr>\n",
       "                                <td id=\"T_6ee695f8_f554_11e9_bfbb_3cfdfe553c98row1_col0\" class=\"data row1 col0\" >3.2</td>\n",
       "                        <td id=\"T_6ee695f8_f554_11e9_bfbb_3cfdfe553c98row1_col1\" class=\"data row1 col1\" >KNeighborsClassifier(algorithm='auto', leaf_size=30, metric='minkowski',\n",
       "                     metric_params=None, n_jobs=None, n_neighbors=4, p=2,\n",
       "                     weights='distance')</td>\n",
       "                        <td id=\"T_6ee695f8_f554_11e9_bfbb_3cfdfe553c98row1_col2\" class=\"data row1 col2\" >nan</td>\n",
       "                        <td id=\"T_6ee695f8_f554_11e9_bfbb_3cfdfe553c98row1_col3\" class=\"data row1 col3\" >nan</td>\n",
       "            </tr>\n",
       "            <tr>\n",
       "                                <td id=\"T_6ee695f8_f554_11e9_bfbb_3cfdfe553c98row2_col0\" class=\"data row2 col0\" >6.4</td>\n",
       "                        <td id=\"T_6ee695f8_f554_11e9_bfbb_3cfdfe553c98row2_col1\" class=\"data row2 col1\" >StackingEstimator(estimator=LogisticRegression(C=0.1, class_weight=None,\n",
       "                                               dual=False, fit_intercept=True,\n",
       "                                               intercept_scaling=1,\n",
       "                                               l1_ratio=None, max_iter=100,\n",
       "                                               multi_class='warn', n_jobs=None,\n",
       "                                               penalty='l1', random_state=None,\n",
       "                                               solver='warn', tol=0.0001,\n",
       "                                               verbose=0, warm_start=False))</td>\n",
       "                        <td id=\"T_6ee695f8_f554_11e9_bfbb_3cfdfe553c98row2_col2\" class=\"data row2 col2\" >PolynomialFeatures(degree=2, include_bias=False, interaction_only=False,\n",
       "                   order='C')</td>\n",
       "                        <td id=\"T_6ee695f8_f554_11e9_bfbb_3cfdfe553c98row2_col3\" class=\"data row2 col3\" >KNeighborsClassifier(algorithm='auto', leaf_size=30, metric='minkowski',\n",
       "                     metric_params=None, n_jobs=None, n_neighbors=3, p=1,\n",
       "                     weights='distance')</td>\n",
       "            </tr>\n",
       "            <tr>\n",
       "                                <td id=\"T_6ee695f8_f554_11e9_bfbb_3cfdfe553c98row3_col0\" class=\"data row3 col0\" >9.6</td>\n",
       "                        <td id=\"T_6ee695f8_f554_11e9_bfbb_3cfdfe553c98row3_col1\" class=\"data row3 col1\" >StackingEstimator(estimator=KNeighborsClassifier(algorithm='auto', leaf_size=30,\n",
       "                                                 metric='minkowski',\n",
       "                                                 metric_params=None,\n",
       "                                                 n_jobs=None, n_neighbors=1,\n",
       "                                                 p=2, weights='distance'))</td>\n",
       "                        <td id=\"T_6ee695f8_f554_11e9_bfbb_3cfdfe553c98row3_col2\" class=\"data row3 col2\" >ExtraTreesClassifier(bootstrap=True, class_weight=None, criterion='entropy',\n",
       "                     max_depth=None, max_features=0.5, max_leaf_nodes=None,\n",
       "                     min_impurity_decrease=0.0, min_impurity_split=None,\n",
       "                     min_samples_leaf=1, min_samples_split=9,\n",
       "                     min_weight_fraction_leaf=0.0, n_estimators=100,\n",
       "                     n_jobs=None, oob_score=False, random_state=None, verbose=0,\n",
       "                     warm_start=False)</td>\n",
       "                        <td id=\"T_6ee695f8_f554_11e9_bfbb_3cfdfe553c98row3_col3\" class=\"data row3 col3\" >nan</td>\n",
       "            </tr>\n",
       "            <tr>\n",
       "                                <td id=\"T_6ee695f8_f554_11e9_bfbb_3cfdfe553c98row4_col0\" class=\"data row4 col0\" >12.8</td>\n",
       "                        <td id=\"T_6ee695f8_f554_11e9_bfbb_3cfdfe553c98row4_col1\" class=\"data row4 col1\" >StackingEstimator(estimator=XGBClassifier(base_score=0.5, booster='gbtree',\n",
       "                                          colsample_bylevel=1,\n",
       "                                          colsample_bynode=1,\n",
       "                                          colsample_bytree=1, gamma=0,\n",
       "                                          learning_rate=1.0, max_delta_step=0,\n",
       "                                          max_depth=8, min_child_weight=4,\n",
       "                                          missing=nan, n_estimators=100,\n",
       "                                          n_jobs=1, nthread=1,\n",
       "                                          objective='multi:softprob',\n",
       "                                          random_state=0, reg_alpha=0,\n",
       "                                          reg_lambda=1, scale_pos_weight=1,\n",
       "                                          seed=None, silent=None,\n",
       "                                          subsample=0.25, verbosity=1))</td>\n",
       "                        <td id=\"T_6ee695f8_f554_11e9_bfbb_3cfdfe553c98row4_col2\" class=\"data row4 col2\" >StackingEstimator(estimator=BernoulliNB(alpha=0.01, binarize=0.0,\n",
       "                                        class_prior=None, fit_prior=False))</td>\n",
       "                        <td id=\"T_6ee695f8_f554_11e9_bfbb_3cfdfe553c98row4_col3\" class=\"data row4 col3\" >KNeighborsClassifier(algorithm='auto', leaf_size=30, metric='minkowski',\n",
       "                     metric_params=None, n_jobs=None, n_neighbors=1, p=2,\n",
       "                     weights='uniform')</td>\n",
       "            </tr>\n",
       "            <tr>\n",
       "                                <td id=\"T_6ee695f8_f554_11e9_bfbb_3cfdfe553c98row5_col0\" class=\"data row5 col0\" >16</td>\n",
       "                        <td id=\"T_6ee695f8_f554_11e9_bfbb_3cfdfe553c98row5_col1\" class=\"data row5 col1\" >StackingEstimator(estimator=XGBClassifier(base_score=0.5, booster='gbtree',\n",
       "                                          colsample_bylevel=1,\n",
       "                                          colsample_bynode=1,\n",
       "                                          colsample_bytree=1, gamma=0,\n",
       "                                          learning_rate=1.0, max_delta_step=0,\n",
       "                                          max_depth=8, min_child_weight=4,\n",
       "                                          missing=nan, n_estimators=100,\n",
       "                                          n_jobs=1, nthread=1,\n",
       "                                          objective='multi:softprob',\n",
       "                                          random_state=0, reg_alpha=0,\n",
       "                                          reg_lambda=1, scale_pos_weight=1,\n",
       "                                          seed=None, silent=None,\n",
       "                                          subsample=0.25, verbosity=1))</td>\n",
       "                        <td id=\"T_6ee695f8_f554_11e9_bfbb_3cfdfe553c98row5_col2\" class=\"data row5 col2\" >StackingEstimator(estimator=BernoulliNB(alpha=0.01, binarize=0.0,\n",
       "                                        class_prior=None, fit_prior=False))</td>\n",
       "                        <td id=\"T_6ee695f8_f554_11e9_bfbb_3cfdfe553c98row5_col3\" class=\"data row5 col3\" >KNeighborsClassifier(algorithm='auto', leaf_size=30, metric='minkowski',\n",
       "                     metric_params=None, n_jobs=None, n_neighbors=1, p=2,\n",
       "                     weights='uniform')</td>\n",
       "            </tr>\n",
       "    </tbody></table>"
      ],
      "text/plain": [
       "<pandas.io.formats.style.Styler at 0x2aee8dad4358>"
      ]
     },
     "metadata": {},
     "output_type": "display_data"
    },
    {
     "data": {
      "image/png": "[encoded data removed]",
      "text/plain": [
       "<Figure size 720x288 with 2 Axes>"
      ]
     },
     "metadata": {
      "needs_background": "light"
     },
     "output_type": "display_data"
    }
   ],
   "source": [
    "print_results_by_model(df,\n",
    "    # [\"train_labels\", \"test_labels\"],\n",
    "    [\"mean\", \"min_val\", \"max_val\", \"train_labels\", \"test_labels\"], \n",
    "    # err_param_name=\"max_angle\",\n",
    "    err_param_name=\"std\",\n",
    "    pipeline_name=\"best_pipeline\"\n",
    ")\n",
    "visualize(df)"
   ]
  },
  {
   "cell_type": "markdown",
   "metadata": {
    "collapsed": false,
    "papermill": {
     "duration": 0.153708,
     "end_time": "2019-10-23T05:17:41.011608",
     "exception": false,
     "start_time": "2019-10-23T05:17:40.857900",
     "status": "completed"
    },
    "pycharm": {
     "name": "#%% md\n"
    },
    "tags": []
   },
   "source": []
  }
 ],
 "metadata": {
  "kernelspec": {
   "display_name": "Python 3",
   "language": "python",
   "name": "python3"
  },
  "language_info": {
   "codemirror_mode": {
    "name": "ipython",
    "version": 3
   },
   "file_extension": ".py",
   "mimetype": "text/x-python",
   "name": "python",
   "nbconvert_exporter": "python",
   "pygments_lexer": "ipython3",
   "version": "3.6.6"
  },
  "papermill": {
   "duration": 22189.76054,
   "end_time": "2019-10-23T05:17:42.277494",
   "environment_variables": {},
   "exception": null,
   "input_path": "docs/case_studies/test8.ipynb",
   "output_path": "docs/case_studies/test8.ipynb",
   "parameters": {},
   "start_time": "2019-10-22T23:07:52.516954",
   "version": "1.2.0"
  },
  "pycharm": {
   "stem_cell": {
    "cell_type": "raw",
    "metadata": {
     "collapsed": false
    },
    "source": []
   }
  },
  "widgets": {
   "application/vnd.jupyter.widget-state+json": {
    "state": {},
    "version_major": 2,
    "version_minor": 0
   }
  }
 },
 "nbformat": 4,
 "nbformat_minor": 0
}