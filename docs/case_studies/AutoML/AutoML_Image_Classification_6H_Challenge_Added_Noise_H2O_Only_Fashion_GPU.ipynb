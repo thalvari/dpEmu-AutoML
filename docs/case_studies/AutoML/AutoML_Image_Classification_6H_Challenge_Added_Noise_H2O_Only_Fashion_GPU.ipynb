{
 "cells": [
  {
   "cell_type": "markdown",
   "metadata": {
    "collapsed": false,
    "papermill": {
     "duration": 0.022995,
     "end_time": "2019-12-16T00:32:03.312205",
     "exception": false,
     "start_time": "2019-12-16T00:32:03.289210",
     "status": "completed"
    },
    "tags": []
   },
   "source": [
    "# AutoML Image Classification: Added Noise (Fashion)"
   ]
  },
  {
   "cell_type": "code",
   "execution_count": 1,
   "metadata": {
    "collapsed": false,
    "papermill": {
     "duration": 0.02091,
     "end_time": "2019-12-16T00:32:03.344078",
     "exception": false,
     "start_time": "2019-12-16T00:32:03.323168",
     "status": "completed"
    },
    "pycharm": {
     "name": "#%%\n"
    },
    "tags": []
   },
   "outputs": [],
   "source": [
    "import warnings\n",
    "warnings.simplefilter(action=\"ignore\", category=FutureWarning)"
   ]
  },
  {
   "cell_type": "markdown",
   "metadata": {
    "collapsed": false,
    "papermill": {
     "duration": 0.010126,
     "end_time": "2019-12-16T00:32:03.364832",
     "exception": false,
     "start_time": "2019-12-16T00:32:03.354706",
     "status": "completed"
    },
    "tags": []
   },
   "source": [
    "![](imgs/gaussian_noise.png)"
   ]
  },
  {
   "cell_type": "code",
   "execution_count": 2,
   "metadata": {
    "collapsed": false,
    "papermill": {
     "duration": 13.165378,
     "end_time": "2019-12-16T00:32:16.540622",
     "exception": false,
     "start_time": "2019-12-16T00:32:03.375244",
     "status": "completed"
    },
    "pycharm": {
     "is_executing": false,
     "name": "#%%\n"
    },
    "tags": []
   },
   "outputs": [
    {
     "name": "stdout",
     "output_type": "stream",
     "text": [
      "Better speed can be achieved with apex installed from https://www.github.com/nvidia/apex.\n"
     ]
    },
    {
     "name": "stderr",
     "output_type": "stream",
     "text": [
      "Using TensorFlow backend.\n"
     ]
    }
   ],
   "source": [
    "import random as rn\n",
    "from abc import ABC, abstractmethod\n",
    "\n",
    "import autokeras as ak\n",
    "import h2o\n",
    "import matplotlib.pyplot as plt\n",
    "import numpy as np\n",
    "from h2o.automl import H2OAutoML\n",
    "from keras.datasets import fashion_mnist\n",
    "from numpy.random import RandomState\n",
    "from sklearn.datasets import load_digits\n",
    "from sklearn.metrics import accuracy_score\n",
    "from sklearn.model_selection import train_test_split\n",
    "from tpot import TPOTClassifier\n",
    "\n",
    "from dpemu import runner\n",
    "from dpemu.filters.common import GaussianNoise, Clip\n",
    "from dpemu.filters.image import RotationPIL\n",
    "from dpemu.nodes import Array\n",
    "from dpemu.nodes.series import Series\n",
    "from dpemu.plotting_utils import visualize_scores, print_results_by_model\n",
    "from dpemu.utils import generate_tmpdir"
   ]
  },
  {
   "cell_type": "markdown",
   "metadata": {
    "collapsed": false,
    "papermill": {
     "duration": 0.012468,
     "end_time": "2019-12-16T00:32:16.575565",
     "exception": false,
     "start_time": "2019-12-16T00:32:16.563097",
     "status": "completed"
    },
    "pycharm": {
     "name": "#%% md\n"
    },
    "tags": []
   },
   "source": []
  },
  {
   "cell_type": "code",
   "execution_count": 3,
   "metadata": {
    "collapsed": false,
    "papermill": {
     "duration": 0.025534,
     "end_time": "2019-12-16T00:32:16.614487",
     "exception": false,
     "start_time": "2019-12-16T00:32:16.588953",
     "status": "completed"
    },
    "pycharm": {
     "is_executing": false,
     "name": "#%%\n"
    },
    "tags": []
   },
   "outputs": [],
   "source": [
    "def get_data():\n",
    "    # random_state = RandomState(42)\n",
    "    # x, y = load_digits(return_X_y=True)\n",
    "    # y = y.astype(np.uint8)\n",
    "    # return train_test_split(x, y, test_size=.25, random_state=random_state)\n",
    "    (x_train, y_train), (x_test, y_test) = fashion_mnist.load_data()\n",
    "    s = x_train.shape[1]\n",
    "    x_train = x_train.reshape((len(x_train), s**2)).astype(np.float64)\n",
    "    x_test = x_test.reshape((len(x_test), s**2)).astype(np.float64)\n",
    "    return x_train, x_test, y_train, y_test"
   ]
  },
  {
   "cell_type": "markdown",
   "metadata": {
    "collapsed": false,
    "papermill": {
     "duration": 0.01116,
     "end_time": "2019-12-16T00:32:16.639276",
     "exception": false,
     "start_time": "2019-12-16T00:32:16.628116",
     "status": "completed"
    },
    "pycharm": {
     "name": "#%% md\n"
    },
    "tags": []
   },
   "source": []
  },
  {
   "cell_type": "code",
   "execution_count": 4,
   "metadata": {
    "collapsed": false,
    "papermill": {
     "duration": 0.023948,
     "end_time": "2019-12-16T00:32:16.674316",
     "exception": false,
     "start_time": "2019-12-16T00:32:16.650368",
     "status": "completed"
    },
    "pycharm": {
     "is_executing": false,
     "name": "#%%\n"
    },
    "tags": []
   },
   "outputs": [],
   "source": [
    "def get_err_root_node():\n",
    "    # err_img_node = Array(reshape=(8, 8))\n",
    "    err_img_node = Array(reshape=(28, 28))\n",
    "\n",
    "    # err_root_node = Series(err_img_node)\n",
    "    # err_img_node.addfilter(RotationPIL(\"max_angle\"))\n",
    "    # return err_root_node\n",
    "    err_root_node = Series(err_img_node)\n",
    "    err_img_node.addfilter(GaussianNoise(\"mean\", \"std\"))\n",
    "    err_img_node.addfilter(Clip(\"min_val\", \"max_val\"))\n",
    "    return err_root_node"
   ]
  },
  {
   "cell_type": "markdown",
   "metadata": {
    "collapsed": false,
    "papermill": {
     "duration": 0.010507,
     "end_time": "2019-12-16T00:32:16.698878",
     "exception": false,
     "start_time": "2019-12-16T00:32:16.688371",
     "status": "completed"
    },
    "pycharm": {
     "name": "#%% md\n"
    },
    "tags": []
   },
   "source": []
  },
  {
   "cell_type": "code",
   "execution_count": 5,
   "metadata": {
    "collapsed": false,
    "papermill": {
     "duration": 0.024576,
     "end_time": "2019-12-16T00:32:16.734428",
     "exception": false,
     "start_time": "2019-12-16T00:32:16.709852",
     "status": "completed"
    },
    "pycharm": {
     "is_executing": false,
     "name": "#%%\n"
    },
    "tags": []
   },
   "outputs": [],
   "source": [
    "def get_err_params_list(data):\n",
    "    # angle_steps = np.linspace(0, 90, num=6)\n",
    "    # err_params_list = [{\"max_angle\": a} for a in angle_steps]\n",
    "    # return err_params_list\n",
    "    min_val = np.amin(data)\n",
    "    max_val = np.amax(data)\n",
    "    std_steps = np.round(np.linspace(0, max_val, num=6), 3)\n",
    "    err_params_list = [{\"mean\": 0, \"std\": std, \"min_val\": min_val, \"max_val\": max_val} for std in std_steps]\n",
    "    return err_params_list"
   ]
  },
  {
   "cell_type": "markdown",
   "metadata": {
    "collapsed": false,
    "papermill": {
     "duration": 0.011282,
     "end_time": "2019-12-16T00:32:16.759949",
     "exception": false,
     "start_time": "2019-12-16T00:32:16.748667",
     "status": "completed"
    },
    "pycharm": {
     "name": "#%% md\n"
    },
    "tags": []
   },
   "source": []
  },
  {
   "cell_type": "code",
   "execution_count": 6,
   "metadata": {
    "collapsed": false,
    "papermill": {
     "duration": 0.021708,
     "end_time": "2019-12-16T00:32:16.792692",
     "exception": false,
     "start_time": "2019-12-16T00:32:16.770984",
     "status": "completed"
    },
    "pycharm": {
     "is_executing": false,
     "name": "#%%\n"
    },
    "tags": []
   },
   "outputs": [],
   "source": [
    "class Preprocessor:\n",
    "\n",
    "    def run(self, train_data, test_data, params):\n",
    "        return np.round(train_data).astype(np.uint8), np.round(test_data).astype(np.uint8), {}"
   ]
  },
  {
   "cell_type": "markdown",
   "metadata": {
    "collapsed": false,
    "papermill": {
     "duration": 0.011109,
     "end_time": "2019-12-16T00:32:16.815681",
     "exception": false,
     "start_time": "2019-12-16T00:32:16.804572",
     "status": "completed"
    },
    "pycharm": {
     "name": "#%% md\n"
    },
    "tags": []
   },
   "source": []
  },
  {
   "cell_type": "code",
   "execution_count": 7,
   "metadata": {
    "collapsed": false,
    "papermill": {
     "duration": 0.05155,
     "end_time": "2019-12-16T00:32:16.878563",
     "exception": false,
     "start_time": "2019-12-16T00:32:16.827013",
     "status": "completed"
    },
    "pycharm": {
     "is_executing": false,
     "name": "#%%\n"
    },
    "tags": []
   },
   "outputs": [],
   "source": [
    "class AbstractModel(ABC):\n",
    "\n",
    "    def __init__(self):\n",
    "        self.time_limit_mins = 60*6\n",
    "        self.seed = 42\n",
    "        self.random_state = RandomState(self.seed)\n",
    "        np.random.seed(self.seed)\n",
    "\n",
    "    @abstractmethod\n",
    "    def get_fitted_model(self, train_data, train_labels, params):\n",
    "        pass\n",
    "\n",
    "    @abstractmethod\n",
    "    def get_accuracy(self, data, labels, fitted_model, params):\n",
    "        pass\n",
    "\n",
    "    @abstractmethod\n",
    "    def get_best_pipeline(self, fitted_model):\n",
    "        pass\n",
    "\n",
    "    def run(self, train_data, test_data, params):\n",
    "        train_labels = params[\"train_labels\"]\n",
    "        test_labels = params[\"test_labels\"]\n",
    "\n",
    "        fitted_model = self.get_fitted_model(train_data, train_labels, params)\n",
    "\n",
    "        results = {\n",
    "            \"test_acc\": self.get_accuracy(test_data, test_labels, fitted_model, params),\n",
    "            \"train_acc\": self.get_accuracy(train_data, train_labels, fitted_model, params),\n",
    "            \"best_pipeline\": self.get_best_pipeline(fitted_model),\n",
    "        }\n",
    "        print(type(fitted_model))\n",
    "        print(results[\"test_acc\"])\n",
    "        return results\n",
    "\n",
    "class TPOTClassifierModel(AbstractModel):\n",
    "\n",
    "    def __init__(self):\n",
    "        super().__init__()\n",
    "\n",
    "    def get_fitted_model(self, train_data, train_labels, params):\n",
    "        return TPOTClassifier(\n",
    "            max_time_mins=self.time_limit_mins,\n",
    "            max_eval_time_mins=self.time_limit_mins,\n",
    "            n_jobs=-1,\n",
    "            random_state=self.seed,\n",
    "            verbosity=1,\n",
    "        ).fit(train_data, train_labels)\n",
    "    \n",
    "    def get_accuracy(self, data, labels, fitted_model, params):\n",
    "        return round(fitted_model.score(data, labels), 3)\n",
    "\n",
    "    def get_best_pipeline(self, fitted_model):\n",
    "        return [step[1] for step in fitted_model.fitted_pipeline_.steps]\n",
    "\n",
    "class H2OAutoMLModel(AbstractModel):\n",
    "\n",
    "    def __init__(self):\n",
    "        super().__init__()\n",
    "        import torch\n",
    "        print(torch.cuda.get_device_name(0))\n",
    "        h2o.init(name=f\"#{rn.SystemRandom().randint(1, 2**30)}\", nthreads=32, min_mem_size_GB=128, max_mem_size_GB=128)\n",
    "        h2o.no_progress()\n",
    "\n",
    "    def get_fitted_model(self, train_data, train_labels, params):\n",
    "        train_data = h2o.H2OFrame(np.concatenate((train_data, train_labels.reshape(-1, 1)), axis=1))\n",
    "        x = np.array(train_data.columns)[:-1].tolist()\n",
    "        y = np.array(train_data.columns)[-1].tolist()\n",
    "        train_data[y] = train_data[y].asfactor()\n",
    "        aml = H2OAutoML(max_runtime_secs=60*self.time_limit_mins, seed=self.seed)\n",
    "        aml.train(x=x, y=y, training_frame=train_data)\n",
    "        return aml\n",
    "\n",
    "    def get_accuracy(self, data, labels, fitted_model, params):\n",
    "        data = h2o.H2OFrame(np.concatenate((data, labels.reshape(-1, 1)), axis=1))\n",
    "        y = np.array(data.columns)[-1].tolist()\n",
    "        data[y] = data[y].asfactor()\n",
    "        pred = fitted_model.predict(data).as_data_frame(header=False)[\"predict\"].values.astype(int)\n",
    "        return np.round(np.mean(pred == labels), 3)\n",
    "\n",
    "    def get_best_pipeline(self, fitted_model):\n",
    "        leader_params = fitted_model.leader.get_params()\n",
    "        best_pipeline = [leader_params[\"model_id\"][\"actual_value\"][\"name\"]]\n",
    "        if \"base_models\" in leader_params:\n",
    "            for base_model in leader_params[\"base_models\"][\"actual_value\"]:\n",
    "                best_pipeline.append(base_model[\"name\"])\n",
    "        print(best_pipeline)\n",
    "        h2o.remove_all()\n",
    "        h2o.cluster().shutdown()\n",
    "        return best_pipeline\n",
    "\n",
    "class AutoKerasModel(AbstractModel):\n",
    "\n",
    "    def __init__(self):\n",
    "        super().__init__()\n",
    "        import tensorflow as tf\n",
    "        tf.set_random_seed(self.seed)\n",
    "        import torch\n",
    "        torch.multiprocessing.set_sharing_strategy(\"file_system\")\n",
    "        torch.manual_seed(self.seed)\n",
    "\n",
    "    def get_fitted_model(self, x_train, y_train, params):\n",
    "        s = np.sqrt(x_train.shape[1]).astype(int)\n",
    "        x_train = x_train.reshape((len(x_train), s, s, 1))\n",
    "        clf = ak.ImageClassifier(augment=params[\"augment\"], path=generate_tmpdir(), verbose=False)\n",
    "        clf.fit(x_train, y_train, time_limit=60*self.time_limit_mins)\n",
    "        return clf\n",
    "\n",
    "    def get_accuracy(self, x, y, clf, params):\n",
    "        s = np.sqrt(x.shape[1]).astype(int)\n",
    "        x = x.reshape((len(x), s, s, 1))\n",
    "        y_pred = clf.predict(x)\n",
    "        return np.round(accuracy_score(y_true=y, y_pred=y_pred), 3)\n",
    "\n",
    "    def get_best_pipeline(self, clf):\n",
    "        return [m for i, m in enumerate(clf.cnn.best_model.produce_model().modules()) if i > 0]"
   ]
  },
  {
   "cell_type": "markdown",
   "metadata": {
    "collapsed": false,
    "papermill": {
     "duration": 0.011684,
     "end_time": "2019-12-16T00:32:16.906940",
     "exception": false,
     "start_time": "2019-12-16T00:32:16.895256",
     "status": "completed"
    },
    "pycharm": {
     "name": "#%% md\n"
    },
    "tags": []
   },
   "source": []
  },
  {
   "cell_type": "code",
   "execution_count": 8,
   "metadata": {
    "collapsed": false,
    "papermill": {
     "duration": 0.025723,
     "end_time": "2019-12-16T00:32:16.946732",
     "exception": false,
     "start_time": "2019-12-16T00:32:16.921009",
     "status": "completed"
    },
    "pycharm": {
     "is_executing": false,
     "name": "#%%\n"
    },
    "tags": []
   },
   "outputs": [],
   "source": [
    "def get_model_params_dict_list(train_labels, test_labels):\n",
    "    model_params_base = {\"train_labels\": train_labels, \"test_labels\": test_labels}\n",
    "    return [\n",
    "        # {\n",
    "        #     \"model\": TPOTClassifierModel,\n",
    "        #     \"params_list\": [{**model_params_base}],\n",
    "        #     \"use_clean_train_data\": False\n",
    "        # },\n",
    "        # {\n",
    "        #     \"model\": TPOTClassifierModel,\n",
    "        #     \"params_list\": [{**model_params_base}],\n",
    "        #     \"use_clean_train_data\": True\n",
    "        # },\n",
    "        {\n",
    "            \"model\": H2OAutoMLModel,\n",
    "            \"params_list\": [{**model_params_base}],\n",
    "            \"use_clean_train_data\": False\n",
    "        },\n",
    "        {\n",
    "            \"model\": H2OAutoMLModel,\n",
    "            \"params_list\": [{**model_params_base}],\n",
    "            \"use_clean_train_data\": True\n",
    "        },\n",
    "        # {\n",
    "        #     \"model\": AutoKerasModel,\n",
    "        #     \"params_list\": [{**model_params_base, \"augment\": False}],\n",
    "        #     \"use_clean_train_data\": False\n",
    "        # },\n",
    "        # {\n",
    "        #     \"model\": AutoKerasModel,\n",
    "        #     \"params_list\": [{**model_params_base, \"augment\": False}],\n",
    "        #     \"use_clean_train_data\": True\n",
    "        # },\n",
    "        # {\n",
    "        #     \"model\": AutoKerasModel,\n",
    "        #     \"params_list\": [{**model_params_base, \"augment\": True}],\n",
    "        #     \"use_clean_train_data\": False\n",
    "        # },\n",
    "        # {\n",
    "        #     \"model\": AutoKerasModel,\n",
    "        #     \"params_list\": [{**model_params_base, \"augment\": True}],\n",
    "        #     \"use_clean_train_data\": True\n",
    "        # },\n",
    "    ]"
   ]
  },
  {
   "cell_type": "markdown",
   "metadata": {
    "collapsed": false,
    "papermill": {
     "duration": 0.010855,
     "end_time": "2019-12-16T00:32:16.970817",
     "exception": false,
     "start_time": "2019-12-16T00:32:16.959962",
     "status": "completed"
    },
    "pycharm": {
     "is_executing": false,
     "name": "#%% md\n"
    },
    "tags": []
   },
   "source": []
  },
  {
   "cell_type": "code",
   "execution_count": 9,
   "metadata": {
    "collapsed": false,
    "papermill": {
     "duration": 0.022112,
     "end_time": "2019-12-16T00:32:17.003401",
     "exception": false,
     "start_time": "2019-12-16T00:32:16.981289",
     "status": "completed"
    },
    "pycharm": {
     "is_executing": false,
     "name": "#%%\n"
    },
    "tags": []
   },
   "outputs": [],
   "source": [
    "def visualize(df):\n",
    "    visualize_scores(\n",
    "        df,\n",
    "        score_names=[\"test_acc\", \"train_acc\"],\n",
    "        is_higher_score_better=[True, True],\n",
    "        # err_param_name=\"max_angle\",\n",
    "        err_param_name=\"std\",\n",
    "        title=\"Classification scores with added error\"\n",
    "    )\n",
    "    plt.show()"
   ]
  },
  {
   "cell_type": "markdown",
   "metadata": {
    "collapsed": false,
    "papermill": {
     "duration": 0.011031,
     "end_time": "2019-12-16T00:32:17.025299",
     "exception": false,
     "start_time": "2019-12-16T00:32:17.014268",
     "status": "completed"
    },
    "pycharm": {
     "is_executing": false,
     "name": "#%% md\n"
    },
    "tags": []
   },
   "source": []
  },
  {
   "cell_type": "code",
   "execution_count": 10,
   "metadata": {
    "collapsed": false,
    "papermill": {
     "duration": 262365.313835,
     "end_time": "2019-12-19T01:25:02.350889",
     "exception": false,
     "start_time": "2019-12-16T00:32:17.037054",
     "status": "completed"
    },
    "pycharm": {
     "is_executing": false,
     "name": "#%%\n"
    },
    "tags": []
   },
   "outputs": [
    {
     "name": "stderr",
     "output_type": "stream",
     "text": [
      "\r",
      "  0%|          | 0/6 [00:00<?, ?it/s]"
     ]
    },
    {
     "name": "stdout",
     "output_type": "stream",
     "text": [
      "Tesla V100-PCIE-16GB"
     ]
    },
    {
     "name": "stdout",
     "output_type": "stream",
     "text": [
      "\n"
     ]
    },
    {
     "name": "stdout",
     "output_type": "stream",
     "text": [
      "Checking whether there is an H2O instance running at http://localhost:54321 "
     ]
    },
    {
     "name": "stdout",
     "output_type": "stream",
     "text": [
      "."
     ]
    },
    {
     "name": "stdout",
     "output_type": "stream",
     "text": [
      "."
     ]
    },
    {
     "name": "stdout",
     "output_type": "stream",
     "text": [
      "."
     ]
    },
    {
     "name": "stdout",
     "output_type": "stream",
     "text": [
      "."
     ]
    },
    {
     "name": "stdout",
     "output_type": "stream",
     "text": [
      "."
     ]
    },
    {
     "name": "stdout",
     "output_type": "stream",
     "text": [
      " not found."
     ]
    },
    {
     "name": "stdout",
     "output_type": "stream",
     "text": [
      "\n"
     ]
    },
    {
     "name": "stdout",
     "output_type": "stream",
     "text": [
      "Attempting to start a local H2O server..."
     ]
    },
    {
     "name": "stdout",
     "output_type": "stream",
     "text": [
      "\n"
     ]
    },
    {
     "name": "stdout",
     "output_type": "stream",
     "text": [
      "  Java Version: openjdk version \"11.0.2\" 2019-01-15; OpenJDK Runtime Environment 18.9 (build 11.0.2+9); OpenJDK 64-Bit Server VM 18.9 (build 11.0.2+9, mixed mode)"
     ]
    },
    {
     "name": "stdout",
     "output_type": "stream",
     "text": [
      "\n"
     ]
    },
    {
     "name": "stdout",
     "output_type": "stream",
     "text": [
      "  Starting server from /wrk/users/thalvari/dpEmu-AutoML/venv/lib/python3.6/site-packages/h2o/backend/bin/h2o.jar"
     ]
    },
    {
     "name": "stdout",
     "output_type": "stream",
     "text": [
      "\n"
     ]
    },
    {
     "name": "stdout",
     "output_type": "stream",
     "text": [
      "  Ice root: /wrk/users/thalvari/tmpykfouero"
     ]
    },
    {
     "name": "stdout",
     "output_type": "stream",
     "text": [
      "\n"
     ]
    },
    {
     "name": "stdout",
     "output_type": "stream",
     "text": [
      "  JVM stdout: /wrk/users/thalvari/tmpykfouero/h2o_thalvari_started_from_python.out"
     ]
    },
    {
     "name": "stdout",
     "output_type": "stream",
     "text": [
      "\n"
     ]
    },
    {
     "name": "stdout",
     "output_type": "stream",
     "text": [
      "  JVM stderr: /wrk/users/thalvari/tmpykfouero/h2o_thalvari_started_from_python.err"
     ]
    },
    {
     "name": "stdout",
     "output_type": "stream",
     "text": [
      "\n"
     ]
    },
    {
     "name": "stdout",
     "output_type": "stream",
     "text": [
      "  Server is running at http://127.0.0.1:54321"
     ]
    },
    {
     "name": "stdout",
     "output_type": "stream",
     "text": [
      "\n"
     ]
    },
    {
     "name": "stdout",
     "output_type": "stream",
     "text": [
      "Connecting to H2O server at http://127.0.0.1:54321 .."
     ]
    },
    {
     "name": "stdout",
     "output_type": "stream",
     "text": [
      "."
     ]
    },
    {
     "name": "stdout",
     "output_type": "stream",
     "text": [
      " successful."
     ]
    },
    {
     "name": "stdout",
     "output_type": "stream",
     "text": [
      "\n"
     ]
    },
    {
     "data": {
      "text/html": [
       "<div style=\"overflow:auto\"><table style=\"width:50%\"><tr><td>H2O cluster uptime:</td>\n",
       "<td>01 secs</td></tr>\n",
       "<tr><td>H2O cluster timezone:</td>\n",
       "<td>Europe/Helsinki</td></tr>\n",
       "<tr><td>H2O data parsing timezone:</td>\n",
       "<td>UTC</td></tr>\n",
       "<tr><td>H2O cluster version:</td>\n",
       "<td>3.26.0.10</td></tr>\n",
       "<tr><td>H2O cluster version age:</td>\n",
       "<td>1 month and 8 days </td></tr>\n",
       "<tr><td>H2O cluster name:</td>\n",
       "<td>#819133210</td></tr>\n",
       "<tr><td>H2O cluster total nodes:</td>\n",
       "<td>1</td></tr>\n",
       "<tr><td>H2O cluster free memory:</td>\n",
       "<td>128 Gb</td></tr>\n",
       "<tr><td>H2O cluster total cores:</td>\n",
       "<td>32</td></tr>\n",
       "<tr><td>H2O cluster allowed cores:</td>\n",
       "<td>32</td></tr>\n",
       "<tr><td>H2O cluster status:</td>\n",
       "<td>accepting new members, healthy</td></tr>\n",
       "<tr><td>H2O connection url:</td>\n",
       "<td>http://127.0.0.1:54321</td></tr>\n",
       "<tr><td>H2O connection proxy:</td>\n",
       "<td>{'http': None, 'https': None}</td></tr>\n",
       "<tr><td>H2O internal security:</td>\n",
       "<td>False</td></tr>\n",
       "<tr><td>H2O API Extensions:</td>\n",
       "<td>Amazon S3, XGBoost, Algos, AutoML, Core V3, TargetEncoder, Core V4</td></tr>\n",
       "<tr><td>Python version:</td>\n",
       "<td>3.6.6 final</td></tr></table></div>"
      ],
      "text/plain": [
       "--------------------------  ------------------------------------------------------------------\n",
       "H2O cluster uptime:         01 secs\n",
       "H2O cluster timezone:       Europe/Helsinki\n",
       "H2O data parsing timezone:  UTC\n",
       "H2O cluster version:        3.26.0.10\n",
       "H2O cluster version age:    1 month and 8 days\n",
       "H2O cluster name:           #819133210\n",
       "H2O cluster total nodes:    1\n",
       "H2O cluster free memory:    128 Gb\n",
       "H2O cluster total cores:    32\n",
       "H2O cluster allowed cores:  32\n",
       "H2O cluster status:         accepting new members, healthy\n",
       "H2O connection url:         http://127.0.0.1:54321\n",
       "H2O connection proxy:       {'http': None, 'https': None}\n",
       "H2O internal security:      False\n",
       "H2O API Extensions:         Amazon S3, XGBoost, Algos, AutoML, Core V3, TargetEncoder, Core V4\n",
       "Python version:             3.6.6 final\n",
       "--------------------------  ------------------------------------------------------------------"
      ]
     },
     "metadata": {},
     "output_type": "display_data"
    },
    {
     "name": "stdout",
     "output_type": "stream",
     "text": [
      "['StackedEnsemble_AllModels_AutoML_20191216_023244', 'XGBoost_1_AutoML_20191216_023244', 'XGBoost_2_AutoML_20191216_023244', 'GBM_5_AutoML_20191216_023244', 'GBM_4_AutoML_20191216_023244', 'XGBoost_3_AutoML_20191216_023244', 'GBM_3_AutoML_20191216_023244', 'GBM_2_AutoML_20191216_023244', 'GBM_1_AutoML_20191216_023244', 'GBM_grid_1_AutoML_20191216_023244_model_1', 'DRF_1_AutoML_20191216_023244', 'XRT_1_AutoML_20191216_023244', 'XGBoost_grid_1_AutoML_20191216_023244_model_1', 'GLM_grid_1_AutoML_20191216_023244_model_1', 'XGBoost_grid_1_AutoML_20191216_023244_model_2', 'DeepLearning_1_AutoML_20191216_023244', 'DeepLearning_grid_1_AutoML_20191216_023244_model_4', 'DeepLearning_grid_1_AutoML_20191216_023244_model_2', 'DeepLearning_grid_1_AutoML_20191216_023244_model_6', 'DeepLearning_grid_1_AutoML_20191216_023244_model_5', 'GBM_grid_1_AutoML_20191216_023244_model_2', 'DeepLearning_grid_1_AutoML_20191216_023244_model_3', 'DeepLearning_grid_1_AutoML_20191216_023244_model_1', 'XGBoost_grid_1_AutoML_20191216_023244_model_3', 'GBM_grid_1_AutoML_20191216_023244_model_3']"
     ]
    },
    {
     "name": "stdout",
     "output_type": "stream",
     "text": [
      "\n"
     ]
    },
    {
     "name": "stdout",
     "output_type": "stream",
     "text": [
      "H2O session _sid_9c62 closed."
     ]
    },
    {
     "name": "stdout",
     "output_type": "stream",
     "text": [
      "\n"
     ]
    },
    {
     "name": "stdout",
     "output_type": "stream",
     "text": [
      "<class 'h2o.automl.autoh2o.H2OAutoML'>"
     ]
    },
    {
     "name": "stdout",
     "output_type": "stream",
     "text": [
      "\n"
     ]
    },
    {
     "name": "stdout",
     "output_type": "stream",
     "text": [
      "0.901"
     ]
    },
    {
     "name": "stdout",
     "output_type": "stream",
     "text": [
      "\n"
     ]
    },
    {
     "name": "stdout",
     "output_type": "stream",
     "text": [
      "Tesla V100-PCIE-16GB"
     ]
    },
    {
     "name": "stdout",
     "output_type": "stream",
     "text": [
      "\n"
     ]
    },
    {
     "name": "stdout",
     "output_type": "stream",
     "text": [
      "Checking whether there is an H2O instance running at http://localhost:54321 "
     ]
    },
    {
     "name": "stdout",
     "output_type": "stream",
     "text": [
      "."
     ]
    },
    {
     "name": "stdout",
     "output_type": "stream",
     "text": [
      "."
     ]
    },
    {
     "name": "stdout",
     "output_type": "stream",
     "text": [
      "."
     ]
    },
    {
     "name": "stdout",
     "output_type": "stream",
     "text": [
      "."
     ]
    },
    {
     "name": "stdout",
     "output_type": "stream",
     "text": [
      "."
     ]
    },
    {
     "name": "stdout",
     "output_type": "stream",
     "text": [
      " not found."
     ]
    },
    {
     "name": "stdout",
     "output_type": "stream",
     "text": [
      "\n"
     ]
    },
    {
     "name": "stdout",
     "output_type": "stream",
     "text": [
      "Attempting to start a local H2O server..."
     ]
    },
    {
     "name": "stdout",
     "output_type": "stream",
     "text": [
      "\n"
     ]
    },
    {
     "name": "stdout",
     "output_type": "stream",
     "text": [
      "  Java Version: openjdk version \"11.0.2\" 2019-01-15; OpenJDK Runtime Environment 18.9 (build 11.0.2+9); OpenJDK 64-Bit Server VM 18.9 (build 11.0.2+9, mixed mode)"
     ]
    },
    {
     "name": "stdout",
     "output_type": "stream",
     "text": [
      "\n"
     ]
    },
    {
     "name": "stdout",
     "output_type": "stream",
     "text": [
      "  Starting server from /wrk/users/thalvari/dpEmu-AutoML/venv/lib/python3.6/site-packages/h2o/backend/bin/h2o.jar"
     ]
    },
    {
     "name": "stdout",
     "output_type": "stream",
     "text": [
      "\n"
     ]
    },
    {
     "name": "stdout",
     "output_type": "stream",
     "text": [
      "  Ice root: /wrk/users/thalvari/tmp3kvtaqxu"
     ]
    },
    {
     "name": "stdout",
     "output_type": "stream",
     "text": [
      "\n"
     ]
    },
    {
     "name": "stdout",
     "output_type": "stream",
     "text": [
      "  JVM stdout: /wrk/users/thalvari/tmp3kvtaqxu/h2o_thalvari_started_from_python.out"
     ]
    },
    {
     "name": "stdout",
     "output_type": "stream",
     "text": [
      "\n"
     ]
    },
    {
     "name": "stdout",
     "output_type": "stream",
     "text": [
      "  JVM stderr: /wrk/users/thalvari/tmp3kvtaqxu/h2o_thalvari_started_from_python.err"
     ]
    },
    {
     "name": "stdout",
     "output_type": "stream",
     "text": [
      "\n"
     ]
    },
    {
     "name": "stdout",
     "output_type": "stream",
     "text": [
      "  Server is running at http://127.0.0.1:54321"
     ]
    },
    {
     "name": "stdout",
     "output_type": "stream",
     "text": [
      "\n"
     ]
    },
    {
     "name": "stdout",
     "output_type": "stream",
     "text": [
      "Connecting to H2O server at http://127.0.0.1:54321 .."
     ]
    },
    {
     "name": "stdout",
     "output_type": "stream",
     "text": [
      "."
     ]
    },
    {
     "name": "stdout",
     "output_type": "stream",
     "text": [
      " successful."
     ]
    },
    {
     "name": "stdout",
     "output_type": "stream",
     "text": [
      "\n"
     ]
    },
    {
     "data": {
      "text/html": [
       "<div style=\"overflow:auto\"><table style=\"width:50%\"><tr><td>H2O cluster uptime:</td>\n",
       "<td>01 secs</td></tr>\n",
       "<tr><td>H2O cluster timezone:</td>\n",
       "<td>Europe/Helsinki</td></tr>\n",
       "<tr><td>H2O data parsing timezone:</td>\n",
       "<td>UTC</td></tr>\n",
       "<tr><td>H2O cluster version:</td>\n",
       "<td>3.26.0.10</td></tr>\n",
       "<tr><td>H2O cluster version age:</td>\n",
       "<td>1 month and 8 days </td></tr>\n",
       "<tr><td>H2O cluster name:</td>\n",
       "<td>#703351722</td></tr>\n",
       "<tr><td>H2O cluster total nodes:</td>\n",
       "<td>1</td></tr>\n",
       "<tr><td>H2O cluster free memory:</td>\n",
       "<td>128 Gb</td></tr>\n",
       "<tr><td>H2O cluster total cores:</td>\n",
       "<td>32</td></tr>\n",
       "<tr><td>H2O cluster allowed cores:</td>\n",
       "<td>32</td></tr>\n",
       "<tr><td>H2O cluster status:</td>\n",
       "<td>accepting new members, healthy</td></tr>\n",
       "<tr><td>H2O connection url:</td>\n",
       "<td>http://127.0.0.1:54321</td></tr>\n",
       "<tr><td>H2O connection proxy:</td>\n",
       "<td>{'http': None, 'https': None}</td></tr>\n",
       "<tr><td>H2O internal security:</td>\n",
       "<td>False</td></tr>\n",
       "<tr><td>H2O API Extensions:</td>\n",
       "<td>Amazon S3, XGBoost, Algos, AutoML, Core V3, TargetEncoder, Core V4</td></tr>\n",
       "<tr><td>Python version:</td>\n",
       "<td>3.6.6 final</td></tr></table></div>"
      ],
      "text/plain": [
       "--------------------------  ------------------------------------------------------------------\n",
       "H2O cluster uptime:         01 secs\n",
       "H2O cluster timezone:       Europe/Helsinki\n",
       "H2O data parsing timezone:  UTC\n",
       "H2O cluster version:        3.26.0.10\n",
       "H2O cluster version age:    1 month and 8 days\n",
       "H2O cluster name:           #703351722\n",
       "H2O cluster total nodes:    1\n",
       "H2O cluster free memory:    128 Gb\n",
       "H2O cluster total cores:    32\n",
       "H2O cluster allowed cores:  32\n",
       "H2O cluster status:         accepting new members, healthy\n",
       "H2O connection url:         http://127.0.0.1:54321\n",
       "H2O connection proxy:       {'http': None, 'https': None}\n",
       "H2O internal security:      False\n",
       "H2O API Extensions:         Amazon S3, XGBoost, Algos, AutoML, Core V3, TargetEncoder, Core V4\n",
       "Python version:             3.6.6 final\n",
       "--------------------------  ------------------------------------------------------------------"
      ]
     },
     "metadata": {},
     "output_type": "display_data"
    },
    {
     "name": "stdout",
     "output_type": "stream",
     "text": [
      "['StackedEnsemble_AllModels_AutoML_20191216_083730', 'XGBoost_1_AutoML_20191216_083730', 'XGBoost_2_AutoML_20191216_083730', 'GBM_5_AutoML_20191216_083730', 'GBM_4_AutoML_20191216_083730', 'XGBoost_3_AutoML_20191216_083730', 'GBM_3_AutoML_20191216_083730', 'GBM_2_AutoML_20191216_083730', 'GBM_1_AutoML_20191216_083730', 'GBM_grid_1_AutoML_20191216_083730_model_1', 'DRF_1_AutoML_20191216_083730', 'XRT_1_AutoML_20191216_083730', 'XGBoost_grid_1_AutoML_20191216_083730_model_1', 'DeepLearning_1_AutoML_20191216_083730', 'GLM_grid_1_AutoML_20191216_083730_model_1', 'XGBoost_grid_1_AutoML_20191216_083730_model_2', 'DeepLearning_grid_1_AutoML_20191216_083730_model_2', 'GBM_grid_1_AutoML_20191216_083730_model_2', 'DeepLearning_grid_1_AutoML_20191216_083730_model_1', 'DeepLearning_grid_1_AutoML_20191216_083730_model_3', 'DeepLearning_grid_1_AutoML_20191216_083730_model_4', 'GBM_grid_1_AutoML_20191216_083730_model_3']"
     ]
    },
    {
     "name": "stdout",
     "output_type": "stream",
     "text": [
      "\n"
     ]
    },
    {
     "name": "stdout",
     "output_type": "stream",
     "text": [
      "H2O session _sid_89f7 closed."
     ]
    },
    {
     "name": "stdout",
     "output_type": "stream",
     "text": [
      "\n"
     ]
    },
    {
     "name": "stdout",
     "output_type": "stream",
     "text": [
      "<class 'h2o.automl.autoh2o.H2OAutoML'>"
     ]
    },
    {
     "name": "stdout",
     "output_type": "stream",
     "text": [
      "\n"
     ]
    },
    {
     "name": "stdout",
     "output_type": "stream",
     "text": [
      "0.901"
     ]
    },
    {
     "name": "stdout",
     "output_type": "stream",
     "text": [
      "\n"
     ]
    },
    {
     "name": "stderr",
     "output_type": "stream",
     "text": [
      "\r",
      " 17%|█▋        | 1/6 [12:09:34<60:47:54, 43774.99s/it]"
     ]
    },
    {
     "name": "stdout",
     "output_type": "stream",
     "text": [
      "Tesla V100-PCIE-16GB"
     ]
    },
    {
     "name": "stdout",
     "output_type": "stream",
     "text": [
      "\n"
     ]
    },
    {
     "name": "stdout",
     "output_type": "stream",
     "text": [
      "Checking whether there is an H2O instance running at http://localhost:54321 "
     ]
    },
    {
     "name": "stdout",
     "output_type": "stream",
     "text": [
      "."
     ]
    },
    {
     "name": "stdout",
     "output_type": "stream",
     "text": [
      "."
     ]
    },
    {
     "name": "stdout",
     "output_type": "stream",
     "text": [
      "."
     ]
    },
    {
     "name": "stdout",
     "output_type": "stream",
     "text": [
      "."
     ]
    },
    {
     "name": "stdout",
     "output_type": "stream",
     "text": [
      "."
     ]
    },
    {
     "name": "stdout",
     "output_type": "stream",
     "text": [
      " not found."
     ]
    },
    {
     "name": "stdout",
     "output_type": "stream",
     "text": [
      "\n"
     ]
    },
    {
     "name": "stdout",
     "output_type": "stream",
     "text": [
      "Attempting to start a local H2O server..."
     ]
    },
    {
     "name": "stdout",
     "output_type": "stream",
     "text": [
      "\n"
     ]
    },
    {
     "name": "stdout",
     "output_type": "stream",
     "text": [
      "  Java Version: openjdk version \"11.0.2\" 2019-01-15; OpenJDK Runtime Environment 18.9 (build 11.0.2+9); OpenJDK 64-Bit Server VM 18.9 (build 11.0.2+9, mixed mode)"
     ]
    },
    {
     "name": "stdout",
     "output_type": "stream",
     "text": [
      "\n"
     ]
    },
    {
     "name": "stdout",
     "output_type": "stream",
     "text": [
      "  Starting server from /wrk/users/thalvari/dpEmu-AutoML/venv/lib/python3.6/site-packages/h2o/backend/bin/h2o.jar"
     ]
    },
    {
     "name": "stdout",
     "output_type": "stream",
     "text": [
      "\n"
     ]
    },
    {
     "name": "stdout",
     "output_type": "stream",
     "text": [
      "  Ice root: /wrk/users/thalvari/tmpbmwbc_0_"
     ]
    },
    {
     "name": "stdout",
     "output_type": "stream",
     "text": [
      "\n"
     ]
    },
    {
     "name": "stdout",
     "output_type": "stream",
     "text": [
      "  JVM stdout: /wrk/users/thalvari/tmpbmwbc_0_/h2o_thalvari_started_from_python.out"
     ]
    },
    {
     "name": "stdout",
     "output_type": "stream",
     "text": [
      "\n"
     ]
    },
    {
     "name": "stdout",
     "output_type": "stream",
     "text": [
      "  JVM stderr: /wrk/users/thalvari/tmpbmwbc_0_/h2o_thalvari_started_from_python.err"
     ]
    },
    {
     "name": "stdout",
     "output_type": "stream",
     "text": [
      "\n"
     ]
    },
    {
     "name": "stdout",
     "output_type": "stream",
     "text": [
      "  Server is running at http://127.0.0.1:54321"
     ]
    },
    {
     "name": "stdout",
     "output_type": "stream",
     "text": [
      "\n"
     ]
    },
    {
     "name": "stdout",
     "output_type": "stream",
     "text": [
      "Connecting to H2O server at http://127.0.0.1:54321 .."
     ]
    },
    {
     "name": "stdout",
     "output_type": "stream",
     "text": [
      "."
     ]
    },
    {
     "name": "stdout",
     "output_type": "stream",
     "text": [
      " successful."
     ]
    },
    {
     "name": "stdout",
     "output_type": "stream",
     "text": [
      "\n"
     ]
    },
    {
     "data": {
      "text/html": [
       "<div style=\"overflow:auto\"><table style=\"width:50%\"><tr><td>H2O cluster uptime:</td>\n",
       "<td>01 secs</td></tr>\n",
       "<tr><td>H2O cluster timezone:</td>\n",
       "<td>Europe/Helsinki</td></tr>\n",
       "<tr><td>H2O data parsing timezone:</td>\n",
       "<td>UTC</td></tr>\n",
       "<tr><td>H2O cluster version:</td>\n",
       "<td>3.26.0.10</td></tr>\n",
       "<tr><td>H2O cluster version age:</td>\n",
       "<td>1 month and 9 days </td></tr>\n",
       "<tr><td>H2O cluster name:</td>\n",
       "<td>#1017358818</td></tr>\n",
       "<tr><td>H2O cluster total nodes:</td>\n",
       "<td>1</td></tr>\n",
       "<tr><td>H2O cluster free memory:</td>\n",
       "<td>128 Gb</td></tr>\n",
       "<tr><td>H2O cluster total cores:</td>\n",
       "<td>32</td></tr>\n",
       "<tr><td>H2O cluster allowed cores:</td>\n",
       "<td>32</td></tr>\n",
       "<tr><td>H2O cluster status:</td>\n",
       "<td>accepting new members, healthy</td></tr>\n",
       "<tr><td>H2O connection url:</td>\n",
       "<td>http://127.0.0.1:54321</td></tr>\n",
       "<tr><td>H2O connection proxy:</td>\n",
       "<td>{'http': None, 'https': None}</td></tr>\n",
       "<tr><td>H2O internal security:</td>\n",
       "<td>False</td></tr>\n",
       "<tr><td>H2O API Extensions:</td>\n",
       "<td>Amazon S3, XGBoost, Algos, AutoML, Core V3, TargetEncoder, Core V4</td></tr>\n",
       "<tr><td>Python version:</td>\n",
       "<td>3.6.6 final</td></tr></table></div>"
      ],
      "text/plain": [
       "--------------------------  ------------------------------------------------------------------\n",
       "H2O cluster uptime:         01 secs\n",
       "H2O cluster timezone:       Europe/Helsinki\n",
       "H2O data parsing timezone:  UTC\n",
       "H2O cluster version:        3.26.0.10\n",
       "H2O cluster version age:    1 month and 9 days\n",
       "H2O cluster name:           #1017358818\n",
       "H2O cluster total nodes:    1\n",
       "H2O cluster free memory:    128 Gb\n",
       "H2O cluster total cores:    32\n",
       "H2O cluster allowed cores:  32\n",
       "H2O cluster status:         accepting new members, healthy\n",
       "H2O connection url:         http://127.0.0.1:54321\n",
       "H2O connection proxy:       {'http': None, 'https': None}\n",
       "H2O internal security:      False\n",
       "H2O API Extensions:         Amazon S3, XGBoost, Algos, AutoML, Core V3, TargetEncoder, Core V4\n",
       "Python version:             3.6.6 final\n",
       "--------------------------  ------------------------------------------------------------------"
      ]
     },
     "metadata": {},
     "output_type": "display_data"
    },
    {
     "name": "stdout",
     "output_type": "stream",
     "text": [
      "['StackedEnsemble_AllModels_AutoML_20191216_144218', 'XGBoost_2_AutoML_20191216_144218', 'XGBoost_1_AutoML_20191216_144218', 'GBM_5_AutoML_20191216_144218', 'XGBoost_3_AutoML_20191216_144218', 'GBM_3_AutoML_20191216_144218', 'GBM_1_AutoML_20191216_144218', 'GBM_2_AutoML_20191216_144218', 'GBM_4_AutoML_20191216_144218', 'GBM_grid_1_AutoML_20191216_144218_model_1', 'GLM_grid_1_AutoML_20191216_144218_model_1', 'DRF_1_AutoML_20191216_144218', 'XRT_1_AutoML_20191216_144218', 'DeepLearning_1_AutoML_20191216_144218', 'DeepLearning_grid_1_AutoML_20191216_144218_model_1', 'DeepLearning_grid_1_AutoML_20191216_144218_model_2', 'DeepLearning_grid_1_AutoML_20191216_144218_model_3', 'XGBoost_grid_1_AutoML_20191216_144218_model_1', 'GBM_grid_1_AutoML_20191216_144218_model_2', 'XGBoost_grid_1_AutoML_20191216_144218_model_2', 'GBM_grid_1_AutoML_20191216_144218_model_3']"
     ]
    },
    {
     "name": "stdout",
     "output_type": "stream",
     "text": [
      "\n"
     ]
    },
    {
     "name": "stdout",
     "output_type": "stream",
     "text": [
      "H2O session _sid_8c1c closed."
     ]
    },
    {
     "name": "stdout",
     "output_type": "stream",
     "text": [
      "\n"
     ]
    },
    {
     "name": "stdout",
     "output_type": "stream",
     "text": [
      "<class 'h2o.automl.autoh2o.H2OAutoML'>"
     ]
    },
    {
     "name": "stdout",
     "output_type": "stream",
     "text": [
      "\n"
     ]
    },
    {
     "name": "stdout",
     "output_type": "stream",
     "text": [
      "0.854"
     ]
    },
    {
     "name": "stdout",
     "output_type": "stream",
     "text": [
      "\n"
     ]
    },
    {
     "name": "stdout",
     "output_type": "stream",
     "text": [
      "Tesla V100-PCIE-16GB"
     ]
    },
    {
     "name": "stdout",
     "output_type": "stream",
     "text": [
      "\n"
     ]
    },
    {
     "name": "stdout",
     "output_type": "stream",
     "text": [
      "Checking whether there is an H2O instance running at http://localhost:54321 "
     ]
    },
    {
     "name": "stdout",
     "output_type": "stream",
     "text": [
      "."
     ]
    },
    {
     "name": "stdout",
     "output_type": "stream",
     "text": [
      "."
     ]
    },
    {
     "name": "stdout",
     "output_type": "stream",
     "text": [
      "."
     ]
    },
    {
     "name": "stdout",
     "output_type": "stream",
     "text": [
      "."
     ]
    },
    {
     "name": "stdout",
     "output_type": "stream",
     "text": [
      "."
     ]
    },
    {
     "name": "stdout",
     "output_type": "stream",
     "text": [
      " not found."
     ]
    },
    {
     "name": "stdout",
     "output_type": "stream",
     "text": [
      "\n"
     ]
    },
    {
     "name": "stdout",
     "output_type": "stream",
     "text": [
      "Attempting to start a local H2O server..."
     ]
    },
    {
     "name": "stdout",
     "output_type": "stream",
     "text": [
      "\n"
     ]
    },
    {
     "name": "stdout",
     "output_type": "stream",
     "text": [
      "  Java Version: openjdk version \"11.0.2\" 2019-01-15; OpenJDK Runtime Environment 18.9 (build 11.0.2+9); OpenJDK 64-Bit Server VM 18.9 (build 11.0.2+9, mixed mode)"
     ]
    },
    {
     "name": "stdout",
     "output_type": "stream",
     "text": [
      "\n"
     ]
    },
    {
     "name": "stdout",
     "output_type": "stream",
     "text": [
      "  Starting server from /wrk/users/thalvari/dpEmu-AutoML/venv/lib/python3.6/site-packages/h2o/backend/bin/h2o.jar"
     ]
    },
    {
     "name": "stdout",
     "output_type": "stream",
     "text": [
      "\n"
     ]
    },
    {
     "name": "stdout",
     "output_type": "stream",
     "text": [
      "  Ice root: /wrk/users/thalvari/tmp4_qtm_6x"
     ]
    },
    {
     "name": "stdout",
     "output_type": "stream",
     "text": [
      "\n"
     ]
    },
    {
     "name": "stdout",
     "output_type": "stream",
     "text": [
      "  JVM stdout: /wrk/users/thalvari/tmp4_qtm_6x/h2o_thalvari_started_from_python.out"
     ]
    },
    {
     "name": "stdout",
     "output_type": "stream",
     "text": [
      "\n"
     ]
    },
    {
     "name": "stdout",
     "output_type": "stream",
     "text": [
      "  JVM stderr: /wrk/users/thalvari/tmp4_qtm_6x/h2o_thalvari_started_from_python.err"
     ]
    },
    {
     "name": "stdout",
     "output_type": "stream",
     "text": [
      "\n"
     ]
    },
    {
     "name": "stdout",
     "output_type": "stream",
     "text": [
      "  Server is running at http://127.0.0.1:54321"
     ]
    },
    {
     "name": "stdout",
     "output_type": "stream",
     "text": [
      "\n"
     ]
    },
    {
     "name": "stdout",
     "output_type": "stream",
     "text": [
      "Connecting to H2O server at http://127.0.0.1:54321 .."
     ]
    },
    {
     "name": "stdout",
     "output_type": "stream",
     "text": [
      "."
     ]
    },
    {
     "name": "stdout",
     "output_type": "stream",
     "text": [
      " successful."
     ]
    },
    {
     "name": "stdout",
     "output_type": "stream",
     "text": [
      "\n"
     ]
    },
    {
     "data": {
      "text/html": [
       "<div style=\"overflow:auto\"><table style=\"width:50%\"><tr><td>H2O cluster uptime:</td>\n",
       "<td>01 secs</td></tr>\n",
       "<tr><td>H2O cluster timezone:</td>\n",
       "<td>Europe/Helsinki</td></tr>\n",
       "<tr><td>H2O data parsing timezone:</td>\n",
       "<td>UTC</td></tr>\n",
       "<tr><td>H2O cluster version:</td>\n",
       "<td>3.26.0.10</td></tr>\n",
       "<tr><td>H2O cluster version age:</td>\n",
       "<td>1 month and 9 days </td></tr>\n",
       "<tr><td>H2O cluster name:</td>\n",
       "<td>#974159809</td></tr>\n",
       "<tr><td>H2O cluster total nodes:</td>\n",
       "<td>1</td></tr>\n",
       "<tr><td>H2O cluster free memory:</td>\n",
       "<td>128 Gb</td></tr>\n",
       "<tr><td>H2O cluster total cores:</td>\n",
       "<td>32</td></tr>\n",
       "<tr><td>H2O cluster allowed cores:</td>\n",
       "<td>32</td></tr>\n",
       "<tr><td>H2O cluster status:</td>\n",
       "<td>accepting new members, healthy</td></tr>\n",
       "<tr><td>H2O connection url:</td>\n",
       "<td>http://127.0.0.1:54321</td></tr>\n",
       "<tr><td>H2O connection proxy:</td>\n",
       "<td>{'http': None, 'https': None}</td></tr>\n",
       "<tr><td>H2O internal security:</td>\n",
       "<td>False</td></tr>\n",
       "<tr><td>H2O API Extensions:</td>\n",
       "<td>Amazon S3, XGBoost, Algos, AutoML, Core V3, TargetEncoder, Core V4</td></tr>\n",
       "<tr><td>Python version:</td>\n",
       "<td>3.6.6 final</td></tr></table></div>"
      ],
      "text/plain": [
       "--------------------------  ------------------------------------------------------------------\n",
       "H2O cluster uptime:         01 secs\n",
       "H2O cluster timezone:       Europe/Helsinki\n",
       "H2O data parsing timezone:  UTC\n",
       "H2O cluster version:        3.26.0.10\n",
       "H2O cluster version age:    1 month and 9 days\n",
       "H2O cluster name:           #974159809\n",
       "H2O cluster total nodes:    1\n",
       "H2O cluster free memory:    128 Gb\n",
       "H2O cluster total cores:    32\n",
       "H2O cluster allowed cores:  32\n",
       "H2O cluster status:         accepting new members, healthy\n",
       "H2O connection url:         http://127.0.0.1:54321\n",
       "H2O connection proxy:       {'http': None, 'https': None}\n",
       "H2O internal security:      False\n",
       "H2O API Extensions:         Amazon S3, XGBoost, Algos, AutoML, Core V3, TargetEncoder, Core V4\n",
       "Python version:             3.6.6 final\n",
       "--------------------------  ------------------------------------------------------------------"
      ]
     },
     "metadata": {},
     "output_type": "display_data"
    },
    {
     "name": "stdout",
     "output_type": "stream",
     "text": [
      "['StackedEnsemble_AllModels_AutoML_20191216_204917', 'XGBoost_1_AutoML_20191216_204917', 'XGBoost_2_AutoML_20191216_204917', 'GBM_5_AutoML_20191216_204917', 'GBM_4_AutoML_20191216_204917', 'XGBoost_3_AutoML_20191216_204917', 'GBM_3_AutoML_20191216_204917', 'GBM_2_AutoML_20191216_204917', 'GBM_1_AutoML_20191216_204917', 'DRF_1_AutoML_20191216_204917', 'XRT_1_AutoML_20191216_204917', 'GBM_grid_1_AutoML_20191216_204917_model_1', 'XGBoost_grid_1_AutoML_20191216_204917_model_1', 'DeepLearning_1_AutoML_20191216_204917', 'GLM_grid_1_AutoML_20191216_204917_model_1', 'XGBoost_grid_1_AutoML_20191216_204917_model_2', 'GBM_grid_1_AutoML_20191216_204917_model_2', 'DeepLearning_grid_1_AutoML_20191216_204917_model_1', 'DeepLearning_grid_1_AutoML_20191216_204917_model_3', 'DeepLearning_grid_1_AutoML_20191216_204917_model_2', 'GBM_grid_1_AutoML_20191216_204917_model_3']"
     ]
    },
    {
     "name": "stdout",
     "output_type": "stream",
     "text": [
      "\n"
     ]
    },
    {
     "name": "stdout",
     "output_type": "stream",
     "text": [
      "H2O session _sid_94d2 closed."
     ]
    },
    {
     "name": "stdout",
     "output_type": "stream",
     "text": [
      "\n"
     ]
    },
    {
     "name": "stdout",
     "output_type": "stream",
     "text": [
      "<class 'h2o.automl.autoh2o.H2OAutoML'>"
     ]
    },
    {
     "name": "stdout",
     "output_type": "stream",
     "text": [
      "\n"
     ]
    },
    {
     "name": "stdout",
     "output_type": "stream",
     "text": [
      "0.64"
     ]
    },
    {
     "name": "stdout",
     "output_type": "stream",
     "text": [
      "\n"
     ]
    },
    {
     "name": "stderr",
     "output_type": "stream",
     "text": [
      "\r",
      " 33%|███▎      | 2/6 [24:21:33<48:41:12, 43818.16s/it]"
     ]
    },
    {
     "name": "stdout",
     "output_type": "stream",
     "text": [
      "Tesla V100-PCIE-16GB"
     ]
    },
    {
     "name": "stdout",
     "output_type": "stream",
     "text": [
      "\n"
     ]
    },
    {
     "name": "stdout",
     "output_type": "stream",
     "text": [
      "Checking whether there is an H2O instance running at http://localhost:54321 "
     ]
    },
    {
     "name": "stdout",
     "output_type": "stream",
     "text": [
      "."
     ]
    },
    {
     "name": "stdout",
     "output_type": "stream",
     "text": [
      "."
     ]
    },
    {
     "name": "stdout",
     "output_type": "stream",
     "text": [
      "."
     ]
    },
    {
     "name": "stdout",
     "output_type": "stream",
     "text": [
      "."
     ]
    },
    {
     "name": "stdout",
     "output_type": "stream",
     "text": [
      "."
     ]
    },
    {
     "name": "stdout",
     "output_type": "stream",
     "text": [
      " not found."
     ]
    },
    {
     "name": "stdout",
     "output_type": "stream",
     "text": [
      "\n"
     ]
    },
    {
     "name": "stdout",
     "output_type": "stream",
     "text": [
      "Attempting to start a local H2O server..."
     ]
    },
    {
     "name": "stdout",
     "output_type": "stream",
     "text": [
      "\n"
     ]
    },
    {
     "name": "stdout",
     "output_type": "stream",
     "text": [
      "  Java Version: openjdk version \"11.0.2\" 2019-01-15; OpenJDK Runtime Environment 18.9 (build 11.0.2+9); OpenJDK 64-Bit Server VM 18.9 (build 11.0.2+9, mixed mode)"
     ]
    },
    {
     "name": "stdout",
     "output_type": "stream",
     "text": [
      "\n"
     ]
    },
    {
     "name": "stdout",
     "output_type": "stream",
     "text": [
      "  Starting server from /wrk/users/thalvari/dpEmu-AutoML/venv/lib/python3.6/site-packages/h2o/backend/bin/h2o.jar"
     ]
    },
    {
     "name": "stdout",
     "output_type": "stream",
     "text": [
      "\n"
     ]
    },
    {
     "name": "stdout",
     "output_type": "stream",
     "text": [
      "  Ice root: /wrk/users/thalvari/tmpoabjm66v"
     ]
    },
    {
     "name": "stdout",
     "output_type": "stream",
     "text": [
      "\n"
     ]
    },
    {
     "name": "stdout",
     "output_type": "stream",
     "text": [
      "  JVM stdout: /wrk/users/thalvari/tmpoabjm66v/h2o_thalvari_started_from_python.out"
     ]
    },
    {
     "name": "stdout",
     "output_type": "stream",
     "text": [
      "\n"
     ]
    },
    {
     "name": "stdout",
     "output_type": "stream",
     "text": [
      "  JVM stderr: /wrk/users/thalvari/tmpoabjm66v/h2o_thalvari_started_from_python.err"
     ]
    },
    {
     "name": "stdout",
     "output_type": "stream",
     "text": [
      "\n"
     ]
    },
    {
     "name": "stdout",
     "output_type": "stream",
     "text": [
      "  Server is running at http://127.0.0.1:54321"
     ]
    },
    {
     "name": "stdout",
     "output_type": "stream",
     "text": [
      "\n"
     ]
    },
    {
     "name": "stdout",
     "output_type": "stream",
     "text": [
      "Connecting to H2O server at http://127.0.0.1:54321 .."
     ]
    },
    {
     "name": "stdout",
     "output_type": "stream",
     "text": [
      "."
     ]
    },
    {
     "name": "stdout",
     "output_type": "stream",
     "text": [
      " successful."
     ]
    },
    {
     "name": "stdout",
     "output_type": "stream",
     "text": [
      "\n"
     ]
    },
    {
     "data": {
      "text/html": [
       "<div style=\"overflow:auto\"><table style=\"width:50%\"><tr><td>H2O cluster uptime:</td>\n",
       "<td>01 secs</td></tr>\n",
       "<tr><td>H2O cluster timezone:</td>\n",
       "<td>Europe/Helsinki</td></tr>\n",
       "<tr><td>H2O data parsing timezone:</td>\n",
       "<td>UTC</td></tr>\n",
       "<tr><td>H2O cluster version:</td>\n",
       "<td>3.26.0.10</td></tr>\n",
       "<tr><td>H2O cluster version age:</td>\n",
       "<td>1 month and 9 days </td></tr>\n",
       "<tr><td>H2O cluster name:</td>\n",
       "<td>#671784156</td></tr>\n",
       "<tr><td>H2O cluster total nodes:</td>\n",
       "<td>1</td></tr>\n",
       "<tr><td>H2O cluster free memory:</td>\n",
       "<td>128 Gb</td></tr>\n",
       "<tr><td>H2O cluster total cores:</td>\n",
       "<td>32</td></tr>\n",
       "<tr><td>H2O cluster allowed cores:</td>\n",
       "<td>32</td></tr>\n",
       "<tr><td>H2O cluster status:</td>\n",
       "<td>accepting new members, healthy</td></tr>\n",
       "<tr><td>H2O connection url:</td>\n",
       "<td>http://127.0.0.1:54321</td></tr>\n",
       "<tr><td>H2O connection proxy:</td>\n",
       "<td>{'http': None, 'https': None}</td></tr>\n",
       "<tr><td>H2O internal security:</td>\n",
       "<td>False</td></tr>\n",
       "<tr><td>H2O API Extensions:</td>\n",
       "<td>Amazon S3, XGBoost, Algos, AutoML, Core V3, TargetEncoder, Core V4</td></tr>\n",
       "<tr><td>Python version:</td>\n",
       "<td>3.6.6 final</td></tr></table></div>"
      ],
      "text/plain": [
       "--------------------------  ------------------------------------------------------------------\n",
       "H2O cluster uptime:         01 secs\n",
       "H2O cluster timezone:       Europe/Helsinki\n",
       "H2O data parsing timezone:  UTC\n",
       "H2O cluster version:        3.26.0.10\n",
       "H2O cluster version age:    1 month and 9 days\n",
       "H2O cluster name:           #671784156\n",
       "H2O cluster total nodes:    1\n",
       "H2O cluster free memory:    128 Gb\n",
       "H2O cluster total cores:    32\n",
       "H2O cluster allowed cores:  32\n",
       "H2O cluster status:         accepting new members, healthy\n",
       "H2O connection url:         http://127.0.0.1:54321\n",
       "H2O connection proxy:       {'http': None, 'https': None}\n",
       "H2O internal security:      False\n",
       "H2O API Extensions:         Amazon S3, XGBoost, Algos, AutoML, Core V3, TargetEncoder, Core V4\n",
       "Python version:             3.6.6 final\n",
       "--------------------------  ------------------------------------------------------------------"
      ]
     },
     "metadata": {},
     "output_type": "display_data"
    },
    {
     "name": "stdout",
     "output_type": "stream",
     "text": [
      "['StackedEnsemble_BestOfFamily_AutoML_20191217_025417', 'XGBoost_1_AutoML_20191217_025417', 'GBM_1_AutoML_20191217_025417', 'GLM_grid_1_AutoML_20191217_025417_model_1', 'DRF_1_AutoML_20191217_025417']"
     ]
    },
    {
     "name": "stdout",
     "output_type": "stream",
     "text": [
      "\n"
     ]
    },
    {
     "name": "stdout",
     "output_type": "stream",
     "text": [
      "H2O session _sid_b80e closed."
     ]
    },
    {
     "name": "stdout",
     "output_type": "stream",
     "text": [
      "\n"
     ]
    },
    {
     "name": "stdout",
     "output_type": "stream",
     "text": [
      "<class 'h2o.automl.autoh2o.H2OAutoML'>"
     ]
    },
    {
     "name": "stdout",
     "output_type": "stream",
     "text": [
      "\n"
     ]
    },
    {
     "name": "stdout",
     "output_type": "stream",
     "text": [
      "0.8"
     ]
    },
    {
     "name": "stdout",
     "output_type": "stream",
     "text": [
      "\n"
     ]
    },
    {
     "name": "stdout",
     "output_type": "stream",
     "text": [
      "Tesla V100-PCIE-16GB"
     ]
    },
    {
     "name": "stdout",
     "output_type": "stream",
     "text": [
      "\n"
     ]
    },
    {
     "name": "stdout",
     "output_type": "stream",
     "text": [
      "Checking whether there is an H2O instance running at http://localhost:54321 "
     ]
    },
    {
     "name": "stdout",
     "output_type": "stream",
     "text": [
      "."
     ]
    },
    {
     "name": "stdout",
     "output_type": "stream",
     "text": [
      "."
     ]
    },
    {
     "name": "stdout",
     "output_type": "stream",
     "text": [
      "."
     ]
    },
    {
     "name": "stdout",
     "output_type": "stream",
     "text": [
      "."
     ]
    },
    {
     "name": "stdout",
     "output_type": "stream",
     "text": [
      "."
     ]
    },
    {
     "name": "stdout",
     "output_type": "stream",
     "text": [
      " not found."
     ]
    },
    {
     "name": "stdout",
     "output_type": "stream",
     "text": [
      "\n"
     ]
    },
    {
     "name": "stdout",
     "output_type": "stream",
     "text": [
      "Attempting to start a local H2O server..."
     ]
    },
    {
     "name": "stdout",
     "output_type": "stream",
     "text": [
      "\n"
     ]
    },
    {
     "name": "stdout",
     "output_type": "stream",
     "text": [
      "  Java Version: openjdk version \"11.0.2\" 2019-01-15; OpenJDK Runtime Environment 18.9 (build 11.0.2+9); OpenJDK 64-Bit Server VM 18.9 (build 11.0.2+9, mixed mode)"
     ]
    },
    {
     "name": "stdout",
     "output_type": "stream",
     "text": [
      "\n"
     ]
    },
    {
     "name": "stdout",
     "output_type": "stream",
     "text": [
      "  Starting server from /wrk/users/thalvari/dpEmu-AutoML/venv/lib/python3.6/site-packages/h2o/backend/bin/h2o.jar"
     ]
    },
    {
     "name": "stdout",
     "output_type": "stream",
     "text": [
      "\n"
     ]
    },
    {
     "name": "stdout",
     "output_type": "stream",
     "text": [
      "  Ice root: /wrk/users/thalvari/tmp1jznxdvq"
     ]
    },
    {
     "name": "stdout",
     "output_type": "stream",
     "text": [
      "\n"
     ]
    },
    {
     "name": "stdout",
     "output_type": "stream",
     "text": [
      "  JVM stdout: /wrk/users/thalvari/tmp1jznxdvq/h2o_thalvari_started_from_python.out"
     ]
    },
    {
     "name": "stdout",
     "output_type": "stream",
     "text": [
      "\n"
     ]
    },
    {
     "name": "stdout",
     "output_type": "stream",
     "text": [
      "  JVM stderr: /wrk/users/thalvari/tmp1jznxdvq/h2o_thalvari_started_from_python.err"
     ]
    },
    {
     "name": "stdout",
     "output_type": "stream",
     "text": [
      "\n"
     ]
    },
    {
     "name": "stdout",
     "output_type": "stream",
     "text": [
      "  Server is running at http://127.0.0.1:54321"
     ]
    },
    {
     "name": "stdout",
     "output_type": "stream",
     "text": [
      "\n"
     ]
    },
    {
     "name": "stdout",
     "output_type": "stream",
     "text": [
      "Connecting to H2O server at http://127.0.0.1:54321 .."
     ]
    },
    {
     "name": "stdout",
     "output_type": "stream",
     "text": [
      "."
     ]
    },
    {
     "name": "stdout",
     "output_type": "stream",
     "text": [
      " successful."
     ]
    },
    {
     "name": "stdout",
     "output_type": "stream",
     "text": [
      "\n"
     ]
    },
    {
     "data": {
      "text/html": [
       "<div style=\"overflow:auto\"><table style=\"width:50%\"><tr><td>H2O cluster uptime:</td>\n",
       "<td>01 secs</td></tr>\n",
       "<tr><td>H2O cluster timezone:</td>\n",
       "<td>Europe/Helsinki</td></tr>\n",
       "<tr><td>H2O data parsing timezone:</td>\n",
       "<td>UTC</td></tr>\n",
       "<tr><td>H2O cluster version:</td>\n",
       "<td>3.26.0.10</td></tr>\n",
       "<tr><td>H2O cluster version age:</td>\n",
       "<td>1 month and 9 days </td></tr>\n",
       "<tr><td>H2O cluster name:</td>\n",
       "<td>#88560680</td></tr>\n",
       "<tr><td>H2O cluster total nodes:</td>\n",
       "<td>1</td></tr>\n",
       "<tr><td>H2O cluster free memory:</td>\n",
       "<td>128 Gb</td></tr>\n",
       "<tr><td>H2O cluster total cores:</td>\n",
       "<td>32</td></tr>\n",
       "<tr><td>H2O cluster allowed cores:</td>\n",
       "<td>32</td></tr>\n",
       "<tr><td>H2O cluster status:</td>\n",
       "<td>accepting new members, healthy</td></tr>\n",
       "<tr><td>H2O connection url:</td>\n",
       "<td>http://127.0.0.1:54321</td></tr>\n",
       "<tr><td>H2O connection proxy:</td>\n",
       "<td>{'http': None, 'https': None}</td></tr>\n",
       "<tr><td>H2O internal security:</td>\n",
       "<td>False</td></tr>\n",
       "<tr><td>H2O API Extensions:</td>\n",
       "<td>Amazon S3, XGBoost, Algos, AutoML, Core V3, TargetEncoder, Core V4</td></tr>\n",
       "<tr><td>Python version:</td>\n",
       "<td>3.6.6 final</td></tr></table></div>"
      ],
      "text/plain": [
       "--------------------------  ------------------------------------------------------------------\n",
       "H2O cluster uptime:         01 secs\n",
       "H2O cluster timezone:       Europe/Helsinki\n",
       "H2O data parsing timezone:  UTC\n",
       "H2O cluster version:        3.26.0.10\n",
       "H2O cluster version age:    1 month and 9 days\n",
       "H2O cluster name:           #88560680\n",
       "H2O cluster total nodes:    1\n",
       "H2O cluster free memory:    128 Gb\n",
       "H2O cluster total cores:    32\n",
       "H2O cluster allowed cores:  32\n",
       "H2O cluster status:         accepting new members, healthy\n",
       "H2O connection url:         http://127.0.0.1:54321\n",
       "H2O connection proxy:       {'http': None, 'https': None}\n",
       "H2O internal security:      False\n",
       "H2O API Extensions:         Amazon S3, XGBoost, Algos, AutoML, Core V3, TargetEncoder, Core V4\n",
       "Python version:             3.6.6 final\n",
       "--------------------------  ------------------------------------------------------------------"
      ]
     },
     "metadata": {},
     "output_type": "display_data"
    },
    {
     "name": "stdout",
     "output_type": "stream",
     "text": [
      "['StackedEnsemble_AllModels_AutoML_20191217_085810', 'XGBoost_1_AutoML_20191217_085810', 'XGBoost_2_AutoML_20191217_085810', 'GBM_5_AutoML_20191217_085810', 'GBM_4_AutoML_20191217_085810', 'XGBoost_3_AutoML_20191217_085810', 'GBM_3_AutoML_20191217_085810', 'GBM_2_AutoML_20191217_085810', 'GBM_1_AutoML_20191217_085810', 'GBM_grid_1_AutoML_20191217_085810_model_1', 'DRF_1_AutoML_20191217_085810', 'XRT_1_AutoML_20191217_085810', 'XGBoost_grid_1_AutoML_20191217_085810_model_1', 'GLM_grid_1_AutoML_20191217_085810_model_1', 'DeepLearning_1_AutoML_20191217_085810', 'XGBoost_grid_1_AutoML_20191217_085810_model_2', 'DeepLearning_grid_1_AutoML_20191217_085810_model_2', 'GBM_grid_1_AutoML_20191217_085810_model_2', 'DeepLearning_grid_1_AutoML_20191217_085810_model_1', 'DeepLearning_grid_1_AutoML_20191217_085810_model_3', 'DeepLearning_grid_1_AutoML_20191217_085810_model_4', 'GBM_grid_1_AutoML_20191217_085810_model_3']"
     ]
    },
    {
     "name": "stdout",
     "output_type": "stream",
     "text": [
      "\n"
     ]
    },
    {
     "name": "stdout",
     "output_type": "stream",
     "text": [
      "H2O session _sid_92b5 closed."
     ]
    },
    {
     "name": "stdout",
     "output_type": "stream",
     "text": [
      "\n"
     ]
    },
    {
     "name": "stdout",
     "output_type": "stream",
     "text": [
      "<class 'h2o.automl.autoh2o.H2OAutoML'>"
     ]
    },
    {
     "name": "stdout",
     "output_type": "stream",
     "text": [
      "\n"
     ]
    },
    {
     "name": "stdout",
     "output_type": "stream",
     "text": [
      "0.378"
     ]
    },
    {
     "name": "stdout",
     "output_type": "stream",
     "text": [
      "\n"
     ]
    },
    {
     "name": "stderr",
     "output_type": "stream",
     "text": [
      "\r",
      " 50%|█████     | 3/6 [36:30:33<36:29:43, 43794.58s/it]"
     ]
    },
    {
     "name": "stdout",
     "output_type": "stream",
     "text": [
      "Tesla V100-PCIE-16GB"
     ]
    },
    {
     "name": "stdout",
     "output_type": "stream",
     "text": [
      "\n"
     ]
    },
    {
     "name": "stdout",
     "output_type": "stream",
     "text": [
      "Checking whether there is an H2O instance running at http://localhost:54321 "
     ]
    },
    {
     "name": "stdout",
     "output_type": "stream",
     "text": [
      "."
     ]
    },
    {
     "name": "stdout",
     "output_type": "stream",
     "text": [
      "."
     ]
    },
    {
     "name": "stdout",
     "output_type": "stream",
     "text": [
      "."
     ]
    },
    {
     "name": "stdout",
     "output_type": "stream",
     "text": [
      "."
     ]
    },
    {
     "name": "stdout",
     "output_type": "stream",
     "text": [
      "."
     ]
    },
    {
     "name": "stdout",
     "output_type": "stream",
     "text": [
      " not found."
     ]
    },
    {
     "name": "stdout",
     "output_type": "stream",
     "text": [
      "\n"
     ]
    },
    {
     "name": "stdout",
     "output_type": "stream",
     "text": [
      "Attempting to start a local H2O server..."
     ]
    },
    {
     "name": "stdout",
     "output_type": "stream",
     "text": [
      "\n"
     ]
    },
    {
     "name": "stdout",
     "output_type": "stream",
     "text": [
      "  Java Version: openjdk version \"11.0.2\" 2019-01-15; OpenJDK Runtime Environment 18.9 (build 11.0.2+9); OpenJDK 64-Bit Server VM 18.9 (build 11.0.2+9, mixed mode)"
     ]
    },
    {
     "name": "stdout",
     "output_type": "stream",
     "text": [
      "\n"
     ]
    },
    {
     "name": "stdout",
     "output_type": "stream",
     "text": [
      "  Starting server from /wrk/users/thalvari/dpEmu-AutoML/venv/lib/python3.6/site-packages/h2o/backend/bin/h2o.jar"
     ]
    },
    {
     "name": "stdout",
     "output_type": "stream",
     "text": [
      "\n"
     ]
    },
    {
     "name": "stdout",
     "output_type": "stream",
     "text": [
      "  Ice root: /wrk/users/thalvari/tmp9475oyug"
     ]
    },
    {
     "name": "stdout",
     "output_type": "stream",
     "text": [
      "\n"
     ]
    },
    {
     "name": "stdout",
     "output_type": "stream",
     "text": [
      "  JVM stdout: /wrk/users/thalvari/tmp9475oyug/h2o_thalvari_started_from_python.out"
     ]
    },
    {
     "name": "stdout",
     "output_type": "stream",
     "text": [
      "\n"
     ]
    },
    {
     "name": "stdout",
     "output_type": "stream",
     "text": [
      "  JVM stderr: /wrk/users/thalvari/tmp9475oyug/h2o_thalvari_started_from_python.err"
     ]
    },
    {
     "name": "stdout",
     "output_type": "stream",
     "text": [
      "\n"
     ]
    },
    {
     "name": "stdout",
     "output_type": "stream",
     "text": [
      "  Server is running at http://127.0.0.1:54345"
     ]
    },
    {
     "name": "stdout",
     "output_type": "stream",
     "text": [
      "\n"
     ]
    },
    {
     "name": "stdout",
     "output_type": "stream",
     "text": [
      "Connecting to H2O server at http://127.0.0.1:54345 .."
     ]
    },
    {
     "name": "stdout",
     "output_type": "stream",
     "text": [
      "."
     ]
    },
    {
     "name": "stdout",
     "output_type": "stream",
     "text": [
      " successful."
     ]
    },
    {
     "name": "stdout",
     "output_type": "stream",
     "text": [
      "\n"
     ]
    },
    {
     "data": {
      "text/html": [
       "<div style=\"overflow:auto\"><table style=\"width:50%\"><tr><td>H2O cluster uptime:</td>\n",
       "<td>01 secs</td></tr>\n",
       "<tr><td>H2O cluster timezone:</td>\n",
       "<td>Europe/Helsinki</td></tr>\n",
       "<tr><td>H2O data parsing timezone:</td>\n",
       "<td>UTC</td></tr>\n",
       "<tr><td>H2O cluster version:</td>\n",
       "<td>3.26.0.10</td></tr>\n",
       "<tr><td>H2O cluster version age:</td>\n",
       "<td>1 month and 10 days </td></tr>\n",
       "<tr><td>H2O cluster name:</td>\n",
       "<td>#324559602</td></tr>\n",
       "<tr><td>H2O cluster total nodes:</td>\n",
       "<td>1</td></tr>\n",
       "<tr><td>H2O cluster free memory:</td>\n",
       "<td>128 Gb</td></tr>\n",
       "<tr><td>H2O cluster total cores:</td>\n",
       "<td>32</td></tr>\n",
       "<tr><td>H2O cluster allowed cores:</td>\n",
       "<td>32</td></tr>\n",
       "<tr><td>H2O cluster status:</td>\n",
       "<td>accepting new members, healthy</td></tr>\n",
       "<tr><td>H2O connection url:</td>\n",
       "<td>http://127.0.0.1:54345</td></tr>\n",
       "<tr><td>H2O connection proxy:</td>\n",
       "<td>{'http': None, 'https': None}</td></tr>\n",
       "<tr><td>H2O internal security:</td>\n",
       "<td>False</td></tr>\n",
       "<tr><td>H2O API Extensions:</td>\n",
       "<td>Amazon S3, XGBoost, Algos, AutoML, Core V3, TargetEncoder, Core V4</td></tr>\n",
       "<tr><td>Python version:</td>\n",
       "<td>3.6.6 final</td></tr></table></div>"
      ],
      "text/plain": [
       "--------------------------  ------------------------------------------------------------------\n",
       "H2O cluster uptime:         01 secs\n",
       "H2O cluster timezone:       Europe/Helsinki\n",
       "H2O data parsing timezone:  UTC\n",
       "H2O cluster version:        3.26.0.10\n",
       "H2O cluster version age:    1 month and 10 days\n",
       "H2O cluster name:           #324559602\n",
       "H2O cluster total nodes:    1\n",
       "H2O cluster free memory:    128 Gb\n",
       "H2O cluster total cores:    32\n",
       "H2O cluster allowed cores:  32\n",
       "H2O cluster status:         accepting new members, healthy\n",
       "H2O connection url:         http://127.0.0.1:54345\n",
       "H2O connection proxy:       {'http': None, 'https': None}\n",
       "H2O internal security:      False\n",
       "H2O API Extensions:         Amazon S3, XGBoost, Algos, AutoML, Core V3, TargetEncoder, Core V4\n",
       "Python version:             3.6.6 final\n",
       "--------------------------  ------------------------------------------------------------------"
      ]
     },
     "metadata": {},
     "output_type": "display_data"
    },
    {
     "name": "stdout",
     "output_type": "stream",
     "text": [
      "['StackedEnsemble_AllModels_AutoML_20191217_150317', 'XGBoost_1_AutoML_20191217_150317', 'GLM_grid_1_AutoML_20191217_150317_model_1', 'XGBoost_3_AutoML_20191217_150317', 'XGBoost_2_AutoML_20191217_150317', 'GBM_1_AutoML_20191217_150317', 'GBM_2_AutoML_20191217_150317', 'GBM_3_AutoML_20191217_150317', 'DRF_1_AutoML_20191217_150317', 'GBM_4_AutoML_20191217_150317']"
     ]
    },
    {
     "name": "stdout",
     "output_type": "stream",
     "text": [
      "\n"
     ]
    },
    {
     "name": "stdout",
     "output_type": "stream",
     "text": [
      "H2O session _sid_91e9 closed."
     ]
    },
    {
     "name": "stdout",
     "output_type": "stream",
     "text": [
      "\n"
     ]
    },
    {
     "name": "stdout",
     "output_type": "stream",
     "text": [
      "<class 'h2o.automl.autoh2o.H2OAutoML'>"
     ]
    },
    {
     "name": "stdout",
     "output_type": "stream",
     "text": [
      "\n"
     ]
    },
    {
     "name": "stdout",
     "output_type": "stream",
     "text": [
      "0.76"
     ]
    },
    {
     "name": "stdout",
     "output_type": "stream",
     "text": [
      "\n"
     ]
    },
    {
     "name": "stdout",
     "output_type": "stream",
     "text": [
      "Tesla V100-PCIE-16GB"
     ]
    },
    {
     "name": "stdout",
     "output_type": "stream",
     "text": [
      "\n"
     ]
    },
    {
     "name": "stdout",
     "output_type": "stream",
     "text": [
      "Checking whether there is an H2O instance running at http://localhost:54321 "
     ]
    },
    {
     "name": "stdout",
     "output_type": "stream",
     "text": [
      "."
     ]
    },
    {
     "name": "stdout",
     "output_type": "stream",
     "text": [
      "."
     ]
    },
    {
     "name": "stdout",
     "output_type": "stream",
     "text": [
      "."
     ]
    },
    {
     "name": "stdout",
     "output_type": "stream",
     "text": [
      "."
     ]
    },
    {
     "name": "stdout",
     "output_type": "stream",
     "text": [
      "."
     ]
    },
    {
     "name": "stdout",
     "output_type": "stream",
     "text": [
      " not found."
     ]
    },
    {
     "name": "stdout",
     "output_type": "stream",
     "text": [
      "\n"
     ]
    },
    {
     "name": "stdout",
     "output_type": "stream",
     "text": [
      "Attempting to start a local H2O server..."
     ]
    },
    {
     "name": "stdout",
     "output_type": "stream",
     "text": [
      "\n"
     ]
    },
    {
     "name": "stdout",
     "output_type": "stream",
     "text": [
      "  Java Version: openjdk version \"11.0.2\" 2019-01-15; OpenJDK Runtime Environment 18.9 (build 11.0.2+9); OpenJDK 64-Bit Server VM 18.9 (build 11.0.2+9, mixed mode)"
     ]
    },
    {
     "name": "stdout",
     "output_type": "stream",
     "text": [
      "\n"
     ]
    },
    {
     "name": "stdout",
     "output_type": "stream",
     "text": [
      "  Starting server from /wrk/users/thalvari/dpEmu-AutoML/venv/lib/python3.6/site-packages/h2o/backend/bin/h2o.jar"
     ]
    },
    {
     "name": "stdout",
     "output_type": "stream",
     "text": [
      "\n"
     ]
    },
    {
     "name": "stdout",
     "output_type": "stream",
     "text": [
      "  Ice root: /wrk/users/thalvari/tmpnxg57_dv"
     ]
    },
    {
     "name": "stdout",
     "output_type": "stream",
     "text": [
      "\n"
     ]
    },
    {
     "name": "stdout",
     "output_type": "stream",
     "text": [
      "  JVM stdout: /wrk/users/thalvari/tmpnxg57_dv/h2o_thalvari_started_from_python.out"
     ]
    },
    {
     "name": "stdout",
     "output_type": "stream",
     "text": [
      "\n"
     ]
    },
    {
     "name": "stdout",
     "output_type": "stream",
     "text": [
      "  JVM stderr: /wrk/users/thalvari/tmpnxg57_dv/h2o_thalvari_started_from_python.err"
     ]
    },
    {
     "name": "stdout",
     "output_type": "stream",
     "text": [
      "\n"
     ]
    },
    {
     "name": "stdout",
     "output_type": "stream",
     "text": [
      "  Server is running at http://127.0.0.1:54321"
     ]
    },
    {
     "name": "stdout",
     "output_type": "stream",
     "text": [
      "\n"
     ]
    },
    {
     "name": "stdout",
     "output_type": "stream",
     "text": [
      "Connecting to H2O server at http://127.0.0.1:54321 .."
     ]
    },
    {
     "name": "stdout",
     "output_type": "stream",
     "text": [
      "."
     ]
    },
    {
     "name": "stdout",
     "output_type": "stream",
     "text": [
      " successful."
     ]
    },
    {
     "name": "stdout",
     "output_type": "stream",
     "text": [
      "\n"
     ]
    },
    {
     "data": {
      "text/html": [
       "<div style=\"overflow:auto\"><table style=\"width:50%\"><tr><td>H2O cluster uptime:</td>\n",
       "<td>01 secs</td></tr>\n",
       "<tr><td>H2O cluster timezone:</td>\n",
       "<td>Europe/Helsinki</td></tr>\n",
       "<tr><td>H2O data parsing timezone:</td>\n",
       "<td>UTC</td></tr>\n",
       "<tr><td>H2O cluster version:</td>\n",
       "<td>3.26.0.10</td></tr>\n",
       "<tr><td>H2O cluster version age:</td>\n",
       "<td>1 month and 10 days </td></tr>\n",
       "<tr><td>H2O cluster name:</td>\n",
       "<td>#142416830</td></tr>\n",
       "<tr><td>H2O cluster total nodes:</td>\n",
       "<td>1</td></tr>\n",
       "<tr><td>H2O cluster free memory:</td>\n",
       "<td>128 Gb</td></tr>\n",
       "<tr><td>H2O cluster total cores:</td>\n",
       "<td>32</td></tr>\n",
       "<tr><td>H2O cluster allowed cores:</td>\n",
       "<td>32</td></tr>\n",
       "<tr><td>H2O cluster status:</td>\n",
       "<td>accepting new members, healthy</td></tr>\n",
       "<tr><td>H2O connection url:</td>\n",
       "<td>http://127.0.0.1:54321</td></tr>\n",
       "<tr><td>H2O connection proxy:</td>\n",
       "<td>{'http': None, 'https': None}</td></tr>\n",
       "<tr><td>H2O internal security:</td>\n",
       "<td>False</td></tr>\n",
       "<tr><td>H2O API Extensions:</td>\n",
       "<td>Amazon S3, XGBoost, Algos, AutoML, Core V3, TargetEncoder, Core V4</td></tr>\n",
       "<tr><td>Python version:</td>\n",
       "<td>3.6.6 final</td></tr></table></div>"
      ],
      "text/plain": [
       "--------------------------  ------------------------------------------------------------------\n",
       "H2O cluster uptime:         01 secs\n",
       "H2O cluster timezone:       Europe/Helsinki\n",
       "H2O data parsing timezone:  UTC\n",
       "H2O cluster version:        3.26.0.10\n",
       "H2O cluster version age:    1 month and 10 days\n",
       "H2O cluster name:           #142416830\n",
       "H2O cluster total nodes:    1\n",
       "H2O cluster free memory:    128 Gb\n",
       "H2O cluster total cores:    32\n",
       "H2O cluster allowed cores:  32\n",
       "H2O cluster status:         accepting new members, healthy\n",
       "H2O connection url:         http://127.0.0.1:54321\n",
       "H2O connection proxy:       {'http': None, 'https': None}\n",
       "H2O internal security:      False\n",
       "H2O API Extensions:         Amazon S3, XGBoost, Algos, AutoML, Core V3, TargetEncoder, Core V4\n",
       "Python version:             3.6.6 final\n",
       "--------------------------  ------------------------------------------------------------------"
      ]
     },
     "metadata": {},
     "output_type": "display_data"
    },
    {
     "name": "stdout",
     "output_type": "stream",
     "text": [
      "['StackedEnsemble_AllModels_AutoML_20191217_210702', 'XGBoost_1_AutoML_20191217_210702', 'XGBoost_2_AutoML_20191217_210702', 'GBM_5_AutoML_20191217_210702', 'GBM_4_AutoML_20191217_210702', 'XGBoost_3_AutoML_20191217_210702', 'GBM_3_AutoML_20191217_210702', 'GBM_2_AutoML_20191217_210702', 'GBM_1_AutoML_20191217_210702', 'GBM_grid_1_AutoML_20191217_210702_model_1', 'DRF_1_AutoML_20191217_210702', 'XRT_1_AutoML_20191217_210702', 'XGBoost_grid_1_AutoML_20191217_210702_model_1', 'DeepLearning_1_AutoML_20191217_210702', 'GLM_grid_1_AutoML_20191217_210702_model_1', 'XGBoost_grid_1_AutoML_20191217_210702_model_2', 'GBM_grid_1_AutoML_20191217_210702_model_2', 'DeepLearning_grid_1_AutoML_20191217_210702_model_1', 'DeepLearning_grid_1_AutoML_20191217_210702_model_2', 'DeepLearning_grid_1_AutoML_20191217_210702_model_3', 'GBM_grid_1_AutoML_20191217_210702_model_3']"
     ]
    },
    {
     "name": "stdout",
     "output_type": "stream",
     "text": [
      "\n"
     ]
    },
    {
     "name": "stdout",
     "output_type": "stream",
     "text": [
      "H2O session _sid_ae75 closed."
     ]
    },
    {
     "name": "stdout",
     "output_type": "stream",
     "text": [
      "\n"
     ]
    },
    {
     "name": "stdout",
     "output_type": "stream",
     "text": [
      "<class 'h2o.automl.autoh2o.H2OAutoML'>"
     ]
    },
    {
     "name": "stdout",
     "output_type": "stream",
     "text": [
      "\n"
     ]
    },
    {
     "name": "stdout",
     "output_type": "stream",
     "text": [
      "0.248"
     ]
    },
    {
     "name": "stdout",
     "output_type": "stream",
     "text": [
      "\n"
     ]
    },
    {
     "name": "stderr",
     "output_type": "stream",
     "text": [
      "\r",
      " 67%|██████▋   | 4/6 [48:38:31<24:18:39, 43759.72s/it]"
     ]
    },
    {
     "name": "stdout",
     "output_type": "stream",
     "text": [
      "Tesla V100-PCIE-16GB"
     ]
    },
    {
     "name": "stdout",
     "output_type": "stream",
     "text": [
      "\n"
     ]
    },
    {
     "name": "stdout",
     "output_type": "stream",
     "text": [
      "Checking whether there is an H2O instance running at http://localhost:54321 "
     ]
    },
    {
     "name": "stdout",
     "output_type": "stream",
     "text": [
      "."
     ]
    },
    {
     "name": "stdout",
     "output_type": "stream",
     "text": [
      "."
     ]
    },
    {
     "name": "stdout",
     "output_type": "stream",
     "text": [
      "."
     ]
    },
    {
     "name": "stdout",
     "output_type": "stream",
     "text": [
      "."
     ]
    },
    {
     "name": "stdout",
     "output_type": "stream",
     "text": [
      "."
     ]
    },
    {
     "name": "stdout",
     "output_type": "stream",
     "text": [
      " not found."
     ]
    },
    {
     "name": "stdout",
     "output_type": "stream",
     "text": [
      "\n"
     ]
    },
    {
     "name": "stdout",
     "output_type": "stream",
     "text": [
      "Attempting to start a local H2O server..."
     ]
    },
    {
     "name": "stdout",
     "output_type": "stream",
     "text": [
      "\n"
     ]
    },
    {
     "name": "stdout",
     "output_type": "stream",
     "text": [
      "  Java Version: openjdk version \"11.0.2\" 2019-01-15; OpenJDK Runtime Environment 18.9 (build 11.0.2+9); OpenJDK 64-Bit Server VM 18.9 (build 11.0.2+9, mixed mode)"
     ]
    },
    {
     "name": "stdout",
     "output_type": "stream",
     "text": [
      "\n"
     ]
    },
    {
     "name": "stdout",
     "output_type": "stream",
     "text": [
      "  Starting server from /wrk/users/thalvari/dpEmu-AutoML/venv/lib/python3.6/site-packages/h2o/backend/bin/h2o.jar"
     ]
    },
    {
     "name": "stdout",
     "output_type": "stream",
     "text": [
      "\n"
     ]
    },
    {
     "name": "stdout",
     "output_type": "stream",
     "text": [
      "  Ice root: /wrk/users/thalvari/tmp20bafade"
     ]
    },
    {
     "name": "stdout",
     "output_type": "stream",
     "text": [
      "\n"
     ]
    },
    {
     "name": "stdout",
     "output_type": "stream",
     "text": [
      "  JVM stdout: /wrk/users/thalvari/tmp20bafade/h2o_thalvari_started_from_python.out"
     ]
    },
    {
     "name": "stdout",
     "output_type": "stream",
     "text": [
      "\n"
     ]
    },
    {
     "name": "stdout",
     "output_type": "stream",
     "text": [
      "  JVM stderr: /wrk/users/thalvari/tmp20bafade/h2o_thalvari_started_from_python.err"
     ]
    },
    {
     "name": "stdout",
     "output_type": "stream",
     "text": [
      "\n"
     ]
    },
    {
     "name": "stdout",
     "output_type": "stream",
     "text": [
      "  Server is running at http://127.0.0.1:54321"
     ]
    },
    {
     "name": "stdout",
     "output_type": "stream",
     "text": [
      "\n"
     ]
    },
    {
     "name": "stdout",
     "output_type": "stream",
     "text": [
      "Connecting to H2O server at http://127.0.0.1:54321 .."
     ]
    },
    {
     "name": "stdout",
     "output_type": "stream",
     "text": [
      "."
     ]
    },
    {
     "name": "stdout",
     "output_type": "stream",
     "text": [
      " successful."
     ]
    },
    {
     "name": "stdout",
     "output_type": "stream",
     "text": [
      "\n"
     ]
    },
    {
     "data": {
      "text/html": [
       "<div style=\"overflow:auto\"><table style=\"width:50%\"><tr><td>H2O cluster uptime:</td>\n",
       "<td>01 secs</td></tr>\n",
       "<tr><td>H2O cluster timezone:</td>\n",
       "<td>Europe/Helsinki</td></tr>\n",
       "<tr><td>H2O data parsing timezone:</td>\n",
       "<td>UTC</td></tr>\n",
       "<tr><td>H2O cluster version:</td>\n",
       "<td>3.26.0.10</td></tr>\n",
       "<tr><td>H2O cluster version age:</td>\n",
       "<td>1 month and 10 days </td></tr>\n",
       "<tr><td>H2O cluster name:</td>\n",
       "<td>#693011759</td></tr>\n",
       "<tr><td>H2O cluster total nodes:</td>\n",
       "<td>1</td></tr>\n",
       "<tr><td>H2O cluster free memory:</td>\n",
       "<td>128 Gb</td></tr>\n",
       "<tr><td>H2O cluster total cores:</td>\n",
       "<td>32</td></tr>\n",
       "<tr><td>H2O cluster allowed cores:</td>\n",
       "<td>32</td></tr>\n",
       "<tr><td>H2O cluster status:</td>\n",
       "<td>accepting new members, healthy</td></tr>\n",
       "<tr><td>H2O connection url:</td>\n",
       "<td>http://127.0.0.1:54321</td></tr>\n",
       "<tr><td>H2O connection proxy:</td>\n",
       "<td>{'http': None, 'https': None}</td></tr>\n",
       "<tr><td>H2O internal security:</td>\n",
       "<td>False</td></tr>\n",
       "<tr><td>H2O API Extensions:</td>\n",
       "<td>Amazon S3, XGBoost, Algos, AutoML, Core V3, TargetEncoder, Core V4</td></tr>\n",
       "<tr><td>Python version:</td>\n",
       "<td>3.6.6 final</td></tr></table></div>"
      ],
      "text/plain": [
       "--------------------------  ------------------------------------------------------------------\n",
       "H2O cluster uptime:         01 secs\n",
       "H2O cluster timezone:       Europe/Helsinki\n",
       "H2O data parsing timezone:  UTC\n",
       "H2O cluster version:        3.26.0.10\n",
       "H2O cluster version age:    1 month and 10 days\n",
       "H2O cluster name:           #693011759\n",
       "H2O cluster total nodes:    1\n",
       "H2O cluster free memory:    128 Gb\n",
       "H2O cluster total cores:    32\n",
       "H2O cluster allowed cores:  32\n",
       "H2O cluster status:         accepting new members, healthy\n",
       "H2O connection url:         http://127.0.0.1:54321\n",
       "H2O connection proxy:       {'http': None, 'https': None}\n",
       "H2O internal security:      False\n",
       "H2O API Extensions:         Amazon S3, XGBoost, Algos, AutoML, Core V3, TargetEncoder, Core V4\n",
       "Python version:             3.6.6 final\n",
       "--------------------------  ------------------------------------------------------------------"
      ]
     },
     "metadata": {},
     "output_type": "display_data"
    },
    {
     "name": "stdout",
     "output_type": "stream",
     "text": [
      "['StackedEnsemble_BestOfFamily_AutoML_20191218_031115', 'GLM_grid_1_AutoML_20191218_031115_model_1', 'XGBoost_1_AutoML_20191218_031115', 'GBM_1_AutoML_20191218_031115', 'DRF_1_AutoML_20191218_031115']"
     ]
    },
    {
     "name": "stdout",
     "output_type": "stream",
     "text": [
      "\n"
     ]
    },
    {
     "name": "stdout",
     "output_type": "stream",
     "text": [
      "H2O session _sid_b7ba closed."
     ]
    },
    {
     "name": "stdout",
     "output_type": "stream",
     "text": [
      "\n"
     ]
    },
    {
     "name": "stdout",
     "output_type": "stream",
     "text": [
      "<class 'h2o.automl.autoh2o.H2OAutoML'>"
     ]
    },
    {
     "name": "stdout",
     "output_type": "stream",
     "text": [
      "\n"
     ]
    },
    {
     "name": "stdout",
     "output_type": "stream",
     "text": [
      "0.713"
     ]
    },
    {
     "name": "stdout",
     "output_type": "stream",
     "text": [
      "\n"
     ]
    },
    {
     "name": "stdout",
     "output_type": "stream",
     "text": [
      "Tesla V100-PCIE-16GB"
     ]
    },
    {
     "name": "stdout",
     "output_type": "stream",
     "text": [
      "\n"
     ]
    },
    {
     "name": "stdout",
     "output_type": "stream",
     "text": [
      "Checking whether there is an H2O instance running at http://localhost:54321 "
     ]
    },
    {
     "name": "stdout",
     "output_type": "stream",
     "text": [
      "."
     ]
    },
    {
     "name": "stdout",
     "output_type": "stream",
     "text": [
      "."
     ]
    },
    {
     "name": "stdout",
     "output_type": "stream",
     "text": [
      "."
     ]
    },
    {
     "name": "stdout",
     "output_type": "stream",
     "text": [
      "."
     ]
    },
    {
     "name": "stdout",
     "output_type": "stream",
     "text": [
      "."
     ]
    },
    {
     "name": "stdout",
     "output_type": "stream",
     "text": [
      " not found."
     ]
    },
    {
     "name": "stdout",
     "output_type": "stream",
     "text": [
      "\n"
     ]
    },
    {
     "name": "stdout",
     "output_type": "stream",
     "text": [
      "Attempting to start a local H2O server..."
     ]
    },
    {
     "name": "stdout",
     "output_type": "stream",
     "text": [
      "\n"
     ]
    },
    {
     "name": "stdout",
     "output_type": "stream",
     "text": [
      "  Java Version: openjdk version \"11.0.2\" 2019-01-15; OpenJDK Runtime Environment 18.9 (build 11.0.2+9); OpenJDK 64-Bit Server VM 18.9 (build 11.0.2+9, mixed mode)"
     ]
    },
    {
     "name": "stdout",
     "output_type": "stream",
     "text": [
      "\n"
     ]
    },
    {
     "name": "stdout",
     "output_type": "stream",
     "text": [
      "  Starting server from /wrk/users/thalvari/dpEmu-AutoML/venv/lib/python3.6/site-packages/h2o/backend/bin/h2o.jar"
     ]
    },
    {
     "name": "stdout",
     "output_type": "stream",
     "text": [
      "\n"
     ]
    },
    {
     "name": "stdout",
     "output_type": "stream",
     "text": [
      "  Ice root: /wrk/users/thalvari/tmp45dizjck"
     ]
    },
    {
     "name": "stdout",
     "output_type": "stream",
     "text": [
      "\n"
     ]
    },
    {
     "name": "stdout",
     "output_type": "stream",
     "text": [
      "  JVM stdout: /wrk/users/thalvari/tmp45dizjck/h2o_thalvari_started_from_python.out"
     ]
    },
    {
     "name": "stdout",
     "output_type": "stream",
     "text": [
      "\n"
     ]
    },
    {
     "name": "stdout",
     "output_type": "stream",
     "text": [
      "  JVM stderr: /wrk/users/thalvari/tmp45dizjck/h2o_thalvari_started_from_python.err"
     ]
    },
    {
     "name": "stdout",
     "output_type": "stream",
     "text": [
      "\n"
     ]
    },
    {
     "name": "stdout",
     "output_type": "stream",
     "text": [
      "  Server is running at http://127.0.0.1:54321"
     ]
    },
    {
     "name": "stdout",
     "output_type": "stream",
     "text": [
      "\n"
     ]
    },
    {
     "name": "stdout",
     "output_type": "stream",
     "text": [
      "Connecting to H2O server at http://127.0.0.1:54321 .."
     ]
    },
    {
     "name": "stdout",
     "output_type": "stream",
     "text": [
      "."
     ]
    },
    {
     "name": "stdout",
     "output_type": "stream",
     "text": [
      " successful."
     ]
    },
    {
     "name": "stdout",
     "output_type": "stream",
     "text": [
      "\n"
     ]
    },
    {
     "data": {
      "text/html": [
       "<div style=\"overflow:auto\"><table style=\"width:50%\"><tr><td>H2O cluster uptime:</td>\n",
       "<td>01 secs</td></tr>\n",
       "<tr><td>H2O cluster timezone:</td>\n",
       "<td>Europe/Helsinki</td></tr>\n",
       "<tr><td>H2O data parsing timezone:</td>\n",
       "<td>UTC</td></tr>\n",
       "<tr><td>H2O cluster version:</td>\n",
       "<td>3.26.0.10</td></tr>\n",
       "<tr><td>H2O cluster version age:</td>\n",
       "<td>1 month and 10 days </td></tr>\n",
       "<tr><td>H2O cluster name:</td>\n",
       "<td>#611501122</td></tr>\n",
       "<tr><td>H2O cluster total nodes:</td>\n",
       "<td>1</td></tr>\n",
       "<tr><td>H2O cluster free memory:</td>\n",
       "<td>128 Gb</td></tr>\n",
       "<tr><td>H2O cluster total cores:</td>\n",
       "<td>32</td></tr>\n",
       "<tr><td>H2O cluster allowed cores:</td>\n",
       "<td>32</td></tr>\n",
       "<tr><td>H2O cluster status:</td>\n",
       "<td>accepting new members, healthy</td></tr>\n",
       "<tr><td>H2O connection url:</td>\n",
       "<td>http://127.0.0.1:54321</td></tr>\n",
       "<tr><td>H2O connection proxy:</td>\n",
       "<td>{'http': None, 'https': None}</td></tr>\n",
       "<tr><td>H2O internal security:</td>\n",
       "<td>False</td></tr>\n",
       "<tr><td>H2O API Extensions:</td>\n",
       "<td>Amazon S3, XGBoost, Algos, AutoML, Core V3, TargetEncoder, Core V4</td></tr>\n",
       "<tr><td>Python version:</td>\n",
       "<td>3.6.6 final</td></tr></table></div>"
      ],
      "text/plain": [
       "--------------------------  ------------------------------------------------------------------\n",
       "H2O cluster uptime:         01 secs\n",
       "H2O cluster timezone:       Europe/Helsinki\n",
       "H2O data parsing timezone:  UTC\n",
       "H2O cluster version:        3.26.0.10\n",
       "H2O cluster version age:    1 month and 10 days\n",
       "H2O cluster name:           #611501122\n",
       "H2O cluster total nodes:    1\n",
       "H2O cluster free memory:    128 Gb\n",
       "H2O cluster total cores:    32\n",
       "H2O cluster allowed cores:  32\n",
       "H2O cluster status:         accepting new members, healthy\n",
       "H2O connection url:         http://127.0.0.1:54321\n",
       "H2O connection proxy:       {'http': None, 'https': None}\n",
       "H2O internal security:      False\n",
       "H2O API Extensions:         Amazon S3, XGBoost, Algos, AutoML, Core V3, TargetEncoder, Core V4\n",
       "Python version:             3.6.6 final\n",
       "--------------------------  ------------------------------------------------------------------"
      ]
     },
     "metadata": {},
     "output_type": "display_data"
    },
    {
     "name": "stdout",
     "output_type": "stream",
     "text": [
      "['StackedEnsemble_AllModels_AutoML_20191218_091356', 'XGBoost_1_AutoML_20191218_091356', 'XGBoost_2_AutoML_20191218_091356', 'GBM_5_AutoML_20191218_091356', 'GBM_4_AutoML_20191218_091356', 'XGBoost_3_AutoML_20191218_091356', 'GBM_3_AutoML_20191218_091356', 'GBM_2_AutoML_20191218_091356', 'GBM_1_AutoML_20191218_091356', 'GBM_grid_1_AutoML_20191218_091356_model_1', 'DRF_1_AutoML_20191218_091356', 'XRT_1_AutoML_20191218_091356', 'XGBoost_grid_1_AutoML_20191218_091356_model_1', 'GLM_grid_1_AutoML_20191218_091356_model_1', 'DeepLearning_1_AutoML_20191218_091356', 'XGBoost_grid_1_AutoML_20191218_091356_model_2', 'DeepLearning_grid_1_AutoML_20191218_091356_model_2', 'GBM_grid_1_AutoML_20191218_091356_model_2', 'DeepLearning_grid_1_AutoML_20191218_091356_model_1', 'DeepLearning_grid_1_AutoML_20191218_091356_model_3', 'GBM_grid_1_AutoML_20191218_091356_model_3']"
     ]
    },
    {
     "name": "stdout",
     "output_type": "stream",
     "text": [
      "\n"
     ]
    },
    {
     "name": "stdout",
     "output_type": "stream",
     "text": [
      "H2O session _sid_9109 closed."
     ]
    },
    {
     "name": "stdout",
     "output_type": "stream",
     "text": [
      "\n"
     ]
    },
    {
     "name": "stdout",
     "output_type": "stream",
     "text": [
      "<class 'h2o.automl.autoh2o.H2OAutoML'>"
     ]
    },
    {
     "name": "stdout",
     "output_type": "stream",
     "text": [
      "\n"
     ]
    },
    {
     "name": "stdout",
     "output_type": "stream",
     "text": [
      "0.178"
     ]
    },
    {
     "name": "stdout",
     "output_type": "stream",
     "text": [
      "\n"
     ]
    },
    {
     "name": "stderr",
     "output_type": "stream",
     "text": [
      "\r",
      " 83%|████████▎ | 5/6 [60:45:35<12:08:38, 43718.86s/it]"
     ]
    },
    {
     "name": "stdout",
     "output_type": "stream",
     "text": [
      "Tesla V100-PCIE-16GB"
     ]
    },
    {
     "name": "stdout",
     "output_type": "stream",
     "text": [
      "\n"
     ]
    },
    {
     "name": "stdout",
     "output_type": "stream",
     "text": [
      "Checking whether there is an H2O instance running at http://localhost:54321 "
     ]
    },
    {
     "name": "stdout",
     "output_type": "stream",
     "text": [
      "."
     ]
    },
    {
     "name": "stdout",
     "output_type": "stream",
     "text": [
      "."
     ]
    },
    {
     "name": "stdout",
     "output_type": "stream",
     "text": [
      "."
     ]
    },
    {
     "name": "stdout",
     "output_type": "stream",
     "text": [
      "."
     ]
    },
    {
     "name": "stdout",
     "output_type": "stream",
     "text": [
      "."
     ]
    },
    {
     "name": "stdout",
     "output_type": "stream",
     "text": [
      " not found."
     ]
    },
    {
     "name": "stdout",
     "output_type": "stream",
     "text": [
      "\n"
     ]
    },
    {
     "name": "stdout",
     "output_type": "stream",
     "text": [
      "Attempting to start a local H2O server..."
     ]
    },
    {
     "name": "stdout",
     "output_type": "stream",
     "text": [
      "\n"
     ]
    },
    {
     "name": "stdout",
     "output_type": "stream",
     "text": [
      "  Java Version: openjdk version \"11.0.2\" 2019-01-15; OpenJDK Runtime Environment 18.9 (build 11.0.2+9); OpenJDK 64-Bit Server VM 18.9 (build 11.0.2+9, mixed mode)"
     ]
    },
    {
     "name": "stdout",
     "output_type": "stream",
     "text": [
      "\n"
     ]
    },
    {
     "name": "stdout",
     "output_type": "stream",
     "text": [
      "  Starting server from /wrk/users/thalvari/dpEmu-AutoML/venv/lib/python3.6/site-packages/h2o/backend/bin/h2o.jar"
     ]
    },
    {
     "name": "stdout",
     "output_type": "stream",
     "text": [
      "\n"
     ]
    },
    {
     "name": "stdout",
     "output_type": "stream",
     "text": [
      "  Ice root: /wrk/users/thalvari/tmppz1id1g0"
     ]
    },
    {
     "name": "stdout",
     "output_type": "stream",
     "text": [
      "\n"
     ]
    },
    {
     "name": "stdout",
     "output_type": "stream",
     "text": [
      "  JVM stdout: /wrk/users/thalvari/tmppz1id1g0/h2o_thalvari_started_from_python.out"
     ]
    },
    {
     "name": "stdout",
     "output_type": "stream",
     "text": [
      "\n"
     ]
    },
    {
     "name": "stdout",
     "output_type": "stream",
     "text": [
      "  JVM stderr: /wrk/users/thalvari/tmppz1id1g0/h2o_thalvari_started_from_python.err"
     ]
    },
    {
     "name": "stdout",
     "output_type": "stream",
     "text": [
      "\n"
     ]
    },
    {
     "name": "stdout",
     "output_type": "stream",
     "text": [
      "  Server is running at http://127.0.0.1:54321"
     ]
    },
    {
     "name": "stdout",
     "output_type": "stream",
     "text": [
      "\n"
     ]
    },
    {
     "name": "stdout",
     "output_type": "stream",
     "text": [
      "Connecting to H2O server at http://127.0.0.1:54321 .."
     ]
    },
    {
     "name": "stdout",
     "output_type": "stream",
     "text": [
      "."
     ]
    },
    {
     "name": "stdout",
     "output_type": "stream",
     "text": [
      " successful."
     ]
    },
    {
     "name": "stdout",
     "output_type": "stream",
     "text": [
      "\n"
     ]
    },
    {
     "data": {
      "text/html": [
       "<div style=\"overflow:auto\"><table style=\"width:50%\"><tr><td>H2O cluster uptime:</td>\n",
       "<td>01 secs</td></tr>\n",
       "<tr><td>H2O cluster timezone:</td>\n",
       "<td>Europe/Helsinki</td></tr>\n",
       "<tr><td>H2O data parsing timezone:</td>\n",
       "<td>UTC</td></tr>\n",
       "<tr><td>H2O cluster version:</td>\n",
       "<td>3.26.0.10</td></tr>\n",
       "<tr><td>H2O cluster version age:</td>\n",
       "<td>1 month and 11 days </td></tr>\n",
       "<tr><td>H2O cluster name:</td>\n",
       "<td>#956697288</td></tr>\n",
       "<tr><td>H2O cluster total nodes:</td>\n",
       "<td>1</td></tr>\n",
       "<tr><td>H2O cluster free memory:</td>\n",
       "<td>128 Gb</td></tr>\n",
       "<tr><td>H2O cluster total cores:</td>\n",
       "<td>32</td></tr>\n",
       "<tr><td>H2O cluster allowed cores:</td>\n",
       "<td>32</td></tr>\n",
       "<tr><td>H2O cluster status:</td>\n",
       "<td>accepting new members, healthy</td></tr>\n",
       "<tr><td>H2O connection url:</td>\n",
       "<td>http://127.0.0.1:54321</td></tr>\n",
       "<tr><td>H2O connection proxy:</td>\n",
       "<td>{'http': None, 'https': None}</td></tr>\n",
       "<tr><td>H2O internal security:</td>\n",
       "<td>False</td></tr>\n",
       "<tr><td>H2O API Extensions:</td>\n",
       "<td>Amazon S3, XGBoost, Algos, AutoML, Core V3, TargetEncoder, Core V4</td></tr>\n",
       "<tr><td>Python version:</td>\n",
       "<td>3.6.6 final</td></tr></table></div>"
      ],
      "text/plain": [
       "--------------------------  ------------------------------------------------------------------\n",
       "H2O cluster uptime:         01 secs\n",
       "H2O cluster timezone:       Europe/Helsinki\n",
       "H2O data parsing timezone:  UTC\n",
       "H2O cluster version:        3.26.0.10\n",
       "H2O cluster version age:    1 month and 11 days\n",
       "H2O cluster name:           #956697288\n",
       "H2O cluster total nodes:    1\n",
       "H2O cluster free memory:    128 Gb\n",
       "H2O cluster total cores:    32\n",
       "H2O cluster allowed cores:  32\n",
       "H2O cluster status:         accepting new members, healthy\n",
       "H2O connection url:         http://127.0.0.1:54321\n",
       "H2O connection proxy:       {'http': None, 'https': None}\n",
       "H2O internal security:      False\n",
       "H2O API Extensions:         Amazon S3, XGBoost, Algos, AutoML, Core V3, TargetEncoder, Core V4\n",
       "Python version:             3.6.6 final\n",
       "--------------------------  ------------------------------------------------------------------"
      ]
     },
     "metadata": {},
     "output_type": "display_data"
    },
    {
     "name": "stdout",
     "output_type": "stream",
     "text": [
      "['StackedEnsemble_AllModels_AutoML_20191218_151819', 'XGBoost_1_AutoML_20191218_151819', 'XGBoost_2_AutoML_20191218_151819', 'GLM_grid_1_AutoML_20191218_151819_model_1', 'XGBoost_3_AutoML_20191218_151819', 'DRF_1_AutoML_20191218_151819']"
     ]
    },
    {
     "name": "stdout",
     "output_type": "stream",
     "text": [
      "\n"
     ]
    },
    {
     "name": "stdout",
     "output_type": "stream",
     "text": [
      "H2O session _sid_9eda closed."
     ]
    },
    {
     "name": "stdout",
     "output_type": "stream",
     "text": [
      "\n"
     ]
    },
    {
     "name": "stdout",
     "output_type": "stream",
     "text": [
      "<class 'h2o.automl.autoh2o.H2OAutoML'>"
     ]
    },
    {
     "name": "stdout",
     "output_type": "stream",
     "text": [
      "\n"
     ]
    },
    {
     "name": "stdout",
     "output_type": "stream",
     "text": [
      "0.674"
     ]
    },
    {
     "name": "stdout",
     "output_type": "stream",
     "text": [
      "\n"
     ]
    },
    {
     "name": "stdout",
     "output_type": "stream",
     "text": [
      "Tesla V100-PCIE-16GB"
     ]
    },
    {
     "name": "stdout",
     "output_type": "stream",
     "text": [
      "\n"
     ]
    },
    {
     "name": "stdout",
     "output_type": "stream",
     "text": [
      "Checking whether there is an H2O instance running at http://localhost:54321 "
     ]
    },
    {
     "name": "stdout",
     "output_type": "stream",
     "text": [
      "."
     ]
    },
    {
     "name": "stdout",
     "output_type": "stream",
     "text": [
      "."
     ]
    },
    {
     "name": "stdout",
     "output_type": "stream",
     "text": [
      "."
     ]
    },
    {
     "name": "stdout",
     "output_type": "stream",
     "text": [
      "."
     ]
    },
    {
     "name": "stdout",
     "output_type": "stream",
     "text": [
      "."
     ]
    },
    {
     "name": "stdout",
     "output_type": "stream",
     "text": [
      " not found."
     ]
    },
    {
     "name": "stdout",
     "output_type": "stream",
     "text": [
      "\n"
     ]
    },
    {
     "name": "stdout",
     "output_type": "stream",
     "text": [
      "Attempting to start a local H2O server..."
     ]
    },
    {
     "name": "stdout",
     "output_type": "stream",
     "text": [
      "\n"
     ]
    },
    {
     "name": "stdout",
     "output_type": "stream",
     "text": [
      "  Java Version: openjdk version \"11.0.2\" 2019-01-15; OpenJDK Runtime Environment 18.9 (build 11.0.2+9); OpenJDK 64-Bit Server VM 18.9 (build 11.0.2+9, mixed mode)"
     ]
    },
    {
     "name": "stdout",
     "output_type": "stream",
     "text": [
      "\n"
     ]
    },
    {
     "name": "stdout",
     "output_type": "stream",
     "text": [
      "  Starting server from /wrk/users/thalvari/dpEmu-AutoML/venv/lib/python3.6/site-packages/h2o/backend/bin/h2o.jar"
     ]
    },
    {
     "name": "stdout",
     "output_type": "stream",
     "text": [
      "\n"
     ]
    },
    {
     "name": "stdout",
     "output_type": "stream",
     "text": [
      "  Ice root: /wrk/users/thalvari/tmp9hxzf8fl"
     ]
    },
    {
     "name": "stdout",
     "output_type": "stream",
     "text": [
      "\n"
     ]
    },
    {
     "name": "stdout",
     "output_type": "stream",
     "text": [
      "  JVM stdout: /wrk/users/thalvari/tmp9hxzf8fl/h2o_thalvari_started_from_python.out"
     ]
    },
    {
     "name": "stdout",
     "output_type": "stream",
     "text": [
      "\n"
     ]
    },
    {
     "name": "stdout",
     "output_type": "stream",
     "text": [
      "  JVM stderr: /wrk/users/thalvari/tmp9hxzf8fl/h2o_thalvari_started_from_python.err"
     ]
    },
    {
     "name": "stdout",
     "output_type": "stream",
     "text": [
      "\n"
     ]
    },
    {
     "name": "stdout",
     "output_type": "stream",
     "text": [
      "  Server is running at http://127.0.0.1:54321"
     ]
    },
    {
     "name": "stdout",
     "output_type": "stream",
     "text": [
      "\n"
     ]
    },
    {
     "name": "stdout",
     "output_type": "stream",
     "text": [
      "Connecting to H2O server at http://127.0.0.1:54321 .."
     ]
    },
    {
     "name": "stdout",
     "output_type": "stream",
     "text": [
      "."
     ]
    },
    {
     "name": "stdout",
     "output_type": "stream",
     "text": [
      " successful."
     ]
    },
    {
     "name": "stdout",
     "output_type": "stream",
     "text": [
      "\n"
     ]
    },
    {
     "data": {
      "text/html": [
       "<div style=\"overflow:auto\"><table style=\"width:50%\"><tr><td>H2O cluster uptime:</td>\n",
       "<td>01 secs</td></tr>\n",
       "<tr><td>H2O cluster timezone:</td>\n",
       "<td>Europe/Helsinki</td></tr>\n",
       "<tr><td>H2O data parsing timezone:</td>\n",
       "<td>UTC</td></tr>\n",
       "<tr><td>H2O cluster version:</td>\n",
       "<td>3.26.0.10</td></tr>\n",
       "<tr><td>H2O cluster version age:</td>\n",
       "<td>1 month and 11 days </td></tr>\n",
       "<tr><td>H2O cluster name:</td>\n",
       "<td>#682463470</td></tr>\n",
       "<tr><td>H2O cluster total nodes:</td>\n",
       "<td>1</td></tr>\n",
       "<tr><td>H2O cluster free memory:</td>\n",
       "<td>128 Gb</td></tr>\n",
       "<tr><td>H2O cluster total cores:</td>\n",
       "<td>32</td></tr>\n",
       "<tr><td>H2O cluster allowed cores:</td>\n",
       "<td>32</td></tr>\n",
       "<tr><td>H2O cluster status:</td>\n",
       "<td>accepting new members, healthy</td></tr>\n",
       "<tr><td>H2O connection url:</td>\n",
       "<td>http://127.0.0.1:54321</td></tr>\n",
       "<tr><td>H2O connection proxy:</td>\n",
       "<td>{'http': None, 'https': None}</td></tr>\n",
       "<tr><td>H2O internal security:</td>\n",
       "<td>False</td></tr>\n",
       "<tr><td>H2O API Extensions:</td>\n",
       "<td>Amazon S3, XGBoost, Algos, AutoML, Core V3, TargetEncoder, Core V4</td></tr>\n",
       "<tr><td>Python version:</td>\n",
       "<td>3.6.6 final</td></tr></table></div>"
      ],
      "text/plain": [
       "--------------------------  ------------------------------------------------------------------\n",
       "H2O cluster uptime:         01 secs\n",
       "H2O cluster timezone:       Europe/Helsinki\n",
       "H2O data parsing timezone:  UTC\n",
       "H2O cluster version:        3.26.0.10\n",
       "H2O cluster version age:    1 month and 11 days\n",
       "H2O cluster name:           #682463470\n",
       "H2O cluster total nodes:    1\n",
       "H2O cluster free memory:    128 Gb\n",
       "H2O cluster total cores:    32\n",
       "H2O cluster allowed cores:  32\n",
       "H2O cluster status:         accepting new members, healthy\n",
       "H2O connection url:         http://127.0.0.1:54321\n",
       "H2O connection proxy:       {'http': None, 'https': None}\n",
       "H2O internal security:      False\n",
       "H2O API Extensions:         Amazon S3, XGBoost, Algos, AutoML, Core V3, TargetEncoder, Core V4\n",
       "Python version:             3.6.6 final\n",
       "--------------------------  ------------------------------------------------------------------"
      ]
     },
     "metadata": {},
     "output_type": "display_data"
    },
    {
     "name": "stdout",
     "output_type": "stream",
     "text": [
      "['StackedEnsemble_AllModels_AutoML_20191218_212129', 'XGBoost_1_AutoML_20191218_212129', 'XGBoost_2_AutoML_20191218_212129', 'GBM_5_AutoML_20191218_212129', 'GBM_4_AutoML_20191218_212129', 'XGBoost_3_AutoML_20191218_212129', 'GBM_3_AutoML_20191218_212129', 'GBM_2_AutoML_20191218_212129', 'GBM_1_AutoML_20191218_212129', 'GBM_grid_1_AutoML_20191218_212129_model_1', 'DRF_1_AutoML_20191218_212129', 'XRT_1_AutoML_20191218_212129', 'XGBoost_grid_1_AutoML_20191218_212129_model_1', 'GLM_grid_1_AutoML_20191218_212129_model_1', 'DeepLearning_1_AutoML_20191218_212129', 'XGBoost_grid_1_AutoML_20191218_212129_model_2', 'GBM_grid_1_AutoML_20191218_212129_model_2', 'DeepLearning_grid_1_AutoML_20191218_212129_model_1', 'XGBoost_grid_1_AutoML_20191218_212129_model_3', 'DeepLearning_grid_1_AutoML_20191218_212129_model_2', 'DeepLearning_grid_1_AutoML_20191218_212129_model_3', 'GBM_grid_1_AutoML_20191218_212129_model_3']"
     ]
    },
    {
     "name": "stdout",
     "output_type": "stream",
     "text": [
      "\n"
     ]
    },
    {
     "name": "stdout",
     "output_type": "stream",
     "text": [
      "H2O session _sid_9747 closed."
     ]
    },
    {
     "name": "stdout",
     "output_type": "stream",
     "text": [
      "\n"
     ]
    },
    {
     "name": "stdout",
     "output_type": "stream",
     "text": [
      "<class 'h2o.automl.autoh2o.H2OAutoML'>"
     ]
    },
    {
     "name": "stdout",
     "output_type": "stream",
     "text": [
      "\n"
     ]
    },
    {
     "name": "stdout",
     "output_type": "stream",
     "text": [
      "0.163"
     ]
    },
    {
     "name": "stdout",
     "output_type": "stream",
     "text": [
      "\n"
     ]
    },
    {
     "name": "stderr",
     "output_type": "stream",
     "text": [
      "\r",
      "100%|██████████| 6/6 [72:52:43<00:00, 43691.77s/it]   "
     ]
    },
    {
     "name": "stderr",
     "output_type": "stream",
     "text": [
      "\r",
      "100%|██████████| 6/6 [72:52:43<00:00, 43727.32s/it]"
     ]
    },
    {
     "name": "stderr",
     "output_type": "stream",
     "text": [
      "\n"
     ]
    }
   ],
   "source": [
    "train_data, test_data, train_labels, test_labels = get_data()\n",
    "\n",
    "df = runner.run(\n",
    "    train_data=train_data,\n",
    "    test_data=test_data,\n",
    "    preproc=Preprocessor,\n",
    "    preproc_params=None,\n",
    "    err_root_node=get_err_root_node(),\n",
    "    # err_params_list=get_err_params_list(),\n",
    "    err_params_list=get_err_params_list(train_data),\n",
    "    model_params_dict_list=get_model_params_dict_list(train_labels, test_labels),\n",
    "    n_processes=1\n",
    ")"
   ]
  },
  {
   "cell_type": "code",
   "execution_count": 11,
   "metadata": {
    "collapsed": false,
    "papermill": {
     "duration": 0.9661,
     "end_time": "2019-12-19T01:25:03.439626",
     "exception": false,
     "start_time": "2019-12-19T01:25:02.473526",
     "status": "completed"
    },
    "pycharm": {
     "is_executing": false,
     "name": "#%%\n"
    },
    "tags": []
   },
   "outputs": [
    {
     "data": {
      "text/plain": [
       "'H2OAutoML #1'"
      ]
     },
     "metadata": {},
     "output_type": "display_data"
    },
    {
     "data": {
      "text/html": [
       "<style  type=\"text/css\" >\n",
       "</style><table id=\"T_61649a84_21fe_11ea_a2a9_e4434b16cb6c\" ><thead>    <tr>        <th class=\"col_heading level0 col0\" >std</th>        <th class=\"col_heading level0 col1\" >test_acc</th>        <th class=\"col_heading level0 col2\" >train_acc</th>        <th class=\"col_heading level0 col3\" >time_err</th>        <th class=\"col_heading level0 col4\" >time_pre</th>        <th class=\"col_heading level0 col5\" >time_mod</th>    </tr></thead><tbody>\n",
       "                <tr>\n",
       "                                <td id=\"T_61649a84_21fe_11ea_a2a9_e4434b16cb6crow0_col0\" class=\"data row0 col0\" >0</td>\n",
       "                        <td id=\"T_61649a84_21fe_11ea_a2a9_e4434b16cb6crow0_col1\" class=\"data row0 col1\" >0.901</td>\n",
       "                        <td id=\"T_61649a84_21fe_11ea_a2a9_e4434b16cb6crow0_col2\" class=\"data row0 col2\" >1</td>\n",
       "                        <td id=\"T_61649a84_21fe_11ea_a2a9_e4434b16cb6crow0_col3\" class=\"data row0 col3\" >3.437</td>\n",
       "                        <td id=\"T_61649a84_21fe_11ea_a2a9_e4434b16cb6crow0_col4\" class=\"data row0 col4\" >0.74</td>\n",
       "                        <td id=\"T_61649a84_21fe_11ea_a2a9_e4434b16cb6crow0_col5\" class=\"data row0 col5\" >21887</td>\n",
       "            </tr>\n",
       "            <tr>\n",
       "                                <td id=\"T_61649a84_21fe_11ea_a2a9_e4434b16cb6crow1_col0\" class=\"data row1 col0\" >51</td>\n",
       "                        <td id=\"T_61649a84_21fe_11ea_a2a9_e4434b16cb6crow1_col1\" class=\"data row1 col1\" >0.854</td>\n",
       "                        <td id=\"T_61649a84_21fe_11ea_a2a9_e4434b16cb6crow1_col2\" class=\"data row1 col2\" >0.997</td>\n",
       "                        <td id=\"T_61649a84_21fe_11ea_a2a9_e4434b16cb6crow1_col3\" class=\"data row1 col3\" >3.585</td>\n",
       "                        <td id=\"T_61649a84_21fe_11ea_a2a9_e4434b16cb6crow1_col4\" class=\"data row1 col4\" >0.586</td>\n",
       "                        <td id=\"T_61649a84_21fe_11ea_a2a9_e4434b16cb6crow1_col5\" class=\"data row1 col5\" >22018.4</td>\n",
       "            </tr>\n",
       "            <tr>\n",
       "                                <td id=\"T_61649a84_21fe_11ea_a2a9_e4434b16cb6crow2_col0\" class=\"data row2 col0\" >102</td>\n",
       "                        <td id=\"T_61649a84_21fe_11ea_a2a9_e4434b16cb6crow2_col1\" class=\"data row2 col1\" >0.8</td>\n",
       "                        <td id=\"T_61649a84_21fe_11ea_a2a9_e4434b16cb6crow2_col2\" class=\"data row2 col2\" >0.996</td>\n",
       "                        <td id=\"T_61649a84_21fe_11ea_a2a9_e4434b16cb6crow2_col3\" class=\"data row2 col3\" >3.575</td>\n",
       "                        <td id=\"T_61649a84_21fe_11ea_a2a9_e4434b16cb6crow2_col4\" class=\"data row2 col4\" >0.614</td>\n",
       "                        <td id=\"T_61649a84_21fe_11ea_a2a9_e4434b16cb6crow2_col5\" class=\"data row2 col5\" >21832.8</td>\n",
       "            </tr>\n",
       "            <tr>\n",
       "                                <td id=\"T_61649a84_21fe_11ea_a2a9_e4434b16cb6crow3_col0\" class=\"data row3 col0\" >153</td>\n",
       "                        <td id=\"T_61649a84_21fe_11ea_a2a9_e4434b16cb6crow3_col1\" class=\"data row3 col1\" >0.76</td>\n",
       "                        <td id=\"T_61649a84_21fe_11ea_a2a9_e4434b16cb6crow3_col2\" class=\"data row3 col2\" >0.98</td>\n",
       "                        <td id=\"T_61649a84_21fe_11ea_a2a9_e4434b16cb6crow3_col3\" class=\"data row3 col3\" >3.595</td>\n",
       "                        <td id=\"T_61649a84_21fe_11ea_a2a9_e4434b16cb6crow3_col4\" class=\"data row3 col4\" >0.513</td>\n",
       "                        <td id=\"T_61649a84_21fe_11ea_a2a9_e4434b16cb6crow3_col5\" class=\"data row3 col5\" >21824.4</td>\n",
       "            </tr>\n",
       "            <tr>\n",
       "                                <td id=\"T_61649a84_21fe_11ea_a2a9_e4434b16cb6crow4_col0\" class=\"data row4 col0\" >204</td>\n",
       "                        <td id=\"T_61649a84_21fe_11ea_a2a9_e4434b16cb6crow4_col1\" class=\"data row4 col1\" >0.713</td>\n",
       "                        <td id=\"T_61649a84_21fe_11ea_a2a9_e4434b16cb6crow4_col2\" class=\"data row4 col2\" >0.958</td>\n",
       "                        <td id=\"T_61649a84_21fe_11ea_a2a9_e4434b16cb6crow4_col3\" class=\"data row4 col3\" >3.596</td>\n",
       "                        <td id=\"T_61649a84_21fe_11ea_a2a9_e4434b16cb6crow4_col4\" class=\"data row4 col4\" >0.518</td>\n",
       "                        <td id=\"T_61649a84_21fe_11ea_a2a9_e4434b16cb6crow4_col5\" class=\"data row4 col5\" >21761.3</td>\n",
       "            </tr>\n",
       "            <tr>\n",
       "                                <td id=\"T_61649a84_21fe_11ea_a2a9_e4434b16cb6crow5_col0\" class=\"data row5 col0\" >255</td>\n",
       "                        <td id=\"T_61649a84_21fe_11ea_a2a9_e4434b16cb6crow5_col1\" class=\"data row5 col1\" >0.674</td>\n",
       "                        <td id=\"T_61649a84_21fe_11ea_a2a9_e4434b16cb6crow5_col2\" class=\"data row5 col2\" >0.999</td>\n",
       "                        <td id=\"T_61649a84_21fe_11ea_a2a9_e4434b16cb6crow5_col3\" class=\"data row5 col3\" >3.526</td>\n",
       "                        <td id=\"T_61649a84_21fe_11ea_a2a9_e4434b16cb6crow5_col4\" class=\"data row5 col4\" >0.542</td>\n",
       "                        <td id=\"T_61649a84_21fe_11ea_a2a9_e4434b16cb6crow5_col5\" class=\"data row5 col5\" >21790</td>\n",
       "            </tr>\n",
       "    </tbody></table>"
      ],
      "text/plain": [
       "<pandas.io.formats.style.Styler at 0x2ba513f77eb8>"
      ]
     },
     "metadata": {},
     "output_type": "display_data"
    },
    {
     "data": {
      "text/html": [
       "<style  type=\"text/css\" >\n",
       "</style><table id=\"T_6166e910_21fe_11ea_a2a9_e4434b16cb6c\" ><thead>    <tr>        <th class=\"col_heading level0 col0\" >std</th>        <th class=\"col_heading level0 col1\" >pipe_0</th>        <th class=\"col_heading level0 col2\" >pipe_1</th>        <th class=\"col_heading level0 col3\" >pipe_2</th>        <th class=\"col_heading level0 col4\" >pipe_3</th>        <th class=\"col_heading level0 col5\" >pipe_4</th>        <th class=\"col_heading level0 col6\" >pipe_5</th>        <th class=\"col_heading level0 col7\" >pipe_6</th>        <th class=\"col_heading level0 col8\" >pipe_7</th>        <th class=\"col_heading level0 col9\" >pipe_8</th>        <th class=\"col_heading level0 col10\" >pipe_9</th>        <th class=\"col_heading level0 col11\" >pipe_10</th>        <th class=\"col_heading level0 col12\" >pipe_11</th>        <th class=\"col_heading level0 col13\" >pipe_12</th>        <th class=\"col_heading level0 col14\" >pipe_13</th>        <th class=\"col_heading level0 col15\" >pipe_14</th>        <th class=\"col_heading level0 col16\" >pipe_15</th>        <th class=\"col_heading level0 col17\" >pipe_16</th>        <th class=\"col_heading level0 col18\" >pipe_17</th>        <th class=\"col_heading level0 col19\" >pipe_18</th>        <th class=\"col_heading level0 col20\" >pipe_19</th>        <th class=\"col_heading level0 col21\" >pipe_20</th>        <th class=\"col_heading level0 col22\" >pipe_21</th>        <th class=\"col_heading level0 col23\" >pipe_22</th>        <th class=\"col_heading level0 col24\" >pipe_23</th>        <th class=\"col_heading level0 col25\" >pipe_24</th>    </tr></thead><tbody>\n",
       "                <tr>\n",
       "                                <td id=\"T_6166e910_21fe_11ea_a2a9_e4434b16cb6crow0_col0\" class=\"data row0 col0\" >0</td>\n",
       "                        <td id=\"T_6166e910_21fe_11ea_a2a9_e4434b16cb6crow0_col1\" class=\"data row0 col1\" >StackedEnsemble_AllModels_AutoML_20191216_023244</td>\n",
       "                        <td id=\"T_6166e910_21fe_11ea_a2a9_e4434b16cb6crow0_col2\" class=\"data row0 col2\" >XGBoost_1_AutoML_20191216_023244</td>\n",
       "                        <td id=\"T_6166e910_21fe_11ea_a2a9_e4434b16cb6crow0_col3\" class=\"data row0 col3\" >XGBoost_2_AutoML_20191216_023244</td>\n",
       "                        <td id=\"T_6166e910_21fe_11ea_a2a9_e4434b16cb6crow0_col4\" class=\"data row0 col4\" >GBM_5_AutoML_20191216_023244</td>\n",
       "                        <td id=\"T_6166e910_21fe_11ea_a2a9_e4434b16cb6crow0_col5\" class=\"data row0 col5\" >GBM_4_AutoML_20191216_023244</td>\n",
       "                        <td id=\"T_6166e910_21fe_11ea_a2a9_e4434b16cb6crow0_col6\" class=\"data row0 col6\" >XGBoost_3_AutoML_20191216_023244</td>\n",
       "                        <td id=\"T_6166e910_21fe_11ea_a2a9_e4434b16cb6crow0_col7\" class=\"data row0 col7\" >GBM_3_AutoML_20191216_023244</td>\n",
       "                        <td id=\"T_6166e910_21fe_11ea_a2a9_e4434b16cb6crow0_col8\" class=\"data row0 col8\" >GBM_2_AutoML_20191216_023244</td>\n",
       "                        <td id=\"T_6166e910_21fe_11ea_a2a9_e4434b16cb6crow0_col9\" class=\"data row0 col9\" >GBM_1_AutoML_20191216_023244</td>\n",
       "                        <td id=\"T_6166e910_21fe_11ea_a2a9_e4434b16cb6crow0_col10\" class=\"data row0 col10\" >GBM_grid_1_AutoML_20191216_023244_model_1</td>\n",
       "                        <td id=\"T_6166e910_21fe_11ea_a2a9_e4434b16cb6crow0_col11\" class=\"data row0 col11\" >DRF_1_AutoML_20191216_023244</td>\n",
       "                        <td id=\"T_6166e910_21fe_11ea_a2a9_e4434b16cb6crow0_col12\" class=\"data row0 col12\" >XRT_1_AutoML_20191216_023244</td>\n",
       "                        <td id=\"T_6166e910_21fe_11ea_a2a9_e4434b16cb6crow0_col13\" class=\"data row0 col13\" >XGBoost_grid_1_AutoML_20191216_023244_model_1</td>\n",
       "                        <td id=\"T_6166e910_21fe_11ea_a2a9_e4434b16cb6crow0_col14\" class=\"data row0 col14\" >GLM_grid_1_AutoML_20191216_023244_model_1</td>\n",
       "                        <td id=\"T_6166e910_21fe_11ea_a2a9_e4434b16cb6crow0_col15\" class=\"data row0 col15\" >XGBoost_grid_1_AutoML_20191216_023244_model_2</td>\n",
       "                        <td id=\"T_6166e910_21fe_11ea_a2a9_e4434b16cb6crow0_col16\" class=\"data row0 col16\" >DeepLearning_1_AutoML_20191216_023244</td>\n",
       "                        <td id=\"T_6166e910_21fe_11ea_a2a9_e4434b16cb6crow0_col17\" class=\"data row0 col17\" >DeepLearning_grid_1_AutoML_20191216_023244_model_4</td>\n",
       "                        <td id=\"T_6166e910_21fe_11ea_a2a9_e4434b16cb6crow0_col18\" class=\"data row0 col18\" >DeepLearning_grid_1_AutoML_20191216_023244_model_2</td>\n",
       "                        <td id=\"T_6166e910_21fe_11ea_a2a9_e4434b16cb6crow0_col19\" class=\"data row0 col19\" >DeepLearning_grid_1_AutoML_20191216_023244_model_6</td>\n",
       "                        <td id=\"T_6166e910_21fe_11ea_a2a9_e4434b16cb6crow0_col20\" class=\"data row0 col20\" >DeepLearning_grid_1_AutoML_20191216_023244_model_5</td>\n",
       "                        <td id=\"T_6166e910_21fe_11ea_a2a9_e4434b16cb6crow0_col21\" class=\"data row0 col21\" >GBM_grid_1_AutoML_20191216_023244_model_2</td>\n",
       "                        <td id=\"T_6166e910_21fe_11ea_a2a9_e4434b16cb6crow0_col22\" class=\"data row0 col22\" >DeepLearning_grid_1_AutoML_20191216_023244_model_3</td>\n",
       "                        <td id=\"T_6166e910_21fe_11ea_a2a9_e4434b16cb6crow0_col23\" class=\"data row0 col23\" >DeepLearning_grid_1_AutoML_20191216_023244_model_1</td>\n",
       "                        <td id=\"T_6166e910_21fe_11ea_a2a9_e4434b16cb6crow0_col24\" class=\"data row0 col24\" >XGBoost_grid_1_AutoML_20191216_023244_model_3</td>\n",
       "                        <td id=\"T_6166e910_21fe_11ea_a2a9_e4434b16cb6crow0_col25\" class=\"data row0 col25\" >GBM_grid_1_AutoML_20191216_023244_model_3</td>\n",
       "            </tr>\n",
       "            <tr>\n",
       "                                <td id=\"T_6166e910_21fe_11ea_a2a9_e4434b16cb6crow1_col0\" class=\"data row1 col0\" >51</td>\n",
       "                        <td id=\"T_6166e910_21fe_11ea_a2a9_e4434b16cb6crow1_col1\" class=\"data row1 col1\" >StackedEnsemble_AllModels_AutoML_20191216_144218</td>\n",
       "                        <td id=\"T_6166e910_21fe_11ea_a2a9_e4434b16cb6crow1_col2\" class=\"data row1 col2\" >XGBoost_2_AutoML_20191216_144218</td>\n",
       "                        <td id=\"T_6166e910_21fe_11ea_a2a9_e4434b16cb6crow1_col3\" class=\"data row1 col3\" >XGBoost_1_AutoML_20191216_144218</td>\n",
       "                        <td id=\"T_6166e910_21fe_11ea_a2a9_e4434b16cb6crow1_col4\" class=\"data row1 col4\" >GBM_5_AutoML_20191216_144218</td>\n",
       "                        <td id=\"T_6166e910_21fe_11ea_a2a9_e4434b16cb6crow1_col5\" class=\"data row1 col5\" >XGBoost_3_AutoML_20191216_144218</td>\n",
       "                        <td id=\"T_6166e910_21fe_11ea_a2a9_e4434b16cb6crow1_col6\" class=\"data row1 col6\" >GBM_3_AutoML_20191216_144218</td>\n",
       "                        <td id=\"T_6166e910_21fe_11ea_a2a9_e4434b16cb6crow1_col7\" class=\"data row1 col7\" >GBM_1_AutoML_20191216_144218</td>\n",
       "                        <td id=\"T_6166e910_21fe_11ea_a2a9_e4434b16cb6crow1_col8\" class=\"data row1 col8\" >GBM_2_AutoML_20191216_144218</td>\n",
       "                        <td id=\"T_6166e910_21fe_11ea_a2a9_e4434b16cb6crow1_col9\" class=\"data row1 col9\" >GBM_4_AutoML_20191216_144218</td>\n",
       "                        <td id=\"T_6166e910_21fe_11ea_a2a9_e4434b16cb6crow1_col10\" class=\"data row1 col10\" >GBM_grid_1_AutoML_20191216_144218_model_1</td>\n",
       "                        <td id=\"T_6166e910_21fe_11ea_a2a9_e4434b16cb6crow1_col11\" class=\"data row1 col11\" >GLM_grid_1_AutoML_20191216_144218_model_1</td>\n",
       "                        <td id=\"T_6166e910_21fe_11ea_a2a9_e4434b16cb6crow1_col12\" class=\"data row1 col12\" >DRF_1_AutoML_20191216_144218</td>\n",
       "                        <td id=\"T_6166e910_21fe_11ea_a2a9_e4434b16cb6crow1_col13\" class=\"data row1 col13\" >XRT_1_AutoML_20191216_144218</td>\n",
       "                        <td id=\"T_6166e910_21fe_11ea_a2a9_e4434b16cb6crow1_col14\" class=\"data row1 col14\" >DeepLearning_1_AutoML_20191216_144218</td>\n",
       "                        <td id=\"T_6166e910_21fe_11ea_a2a9_e4434b16cb6crow1_col15\" class=\"data row1 col15\" >DeepLearning_grid_1_AutoML_20191216_144218_model_1</td>\n",
       "                        <td id=\"T_6166e910_21fe_11ea_a2a9_e4434b16cb6crow1_col16\" class=\"data row1 col16\" >DeepLearning_grid_1_AutoML_20191216_144218_model_2</td>\n",
       "                        <td id=\"T_6166e910_21fe_11ea_a2a9_e4434b16cb6crow1_col17\" class=\"data row1 col17\" >DeepLearning_grid_1_AutoML_20191216_144218_model_3</td>\n",
       "                        <td id=\"T_6166e910_21fe_11ea_a2a9_e4434b16cb6crow1_col18\" class=\"data row1 col18\" >XGBoost_grid_1_AutoML_20191216_144218_model_1</td>\n",
       "                        <td id=\"T_6166e910_21fe_11ea_a2a9_e4434b16cb6crow1_col19\" class=\"data row1 col19\" >GBM_grid_1_AutoML_20191216_144218_model_2</td>\n",
       "                        <td id=\"T_6166e910_21fe_11ea_a2a9_e4434b16cb6crow1_col20\" class=\"data row1 col20\" >XGBoost_grid_1_AutoML_20191216_144218_model_2</td>\n",
       "                        <td id=\"T_6166e910_21fe_11ea_a2a9_e4434b16cb6crow1_col21\" class=\"data row1 col21\" >GBM_grid_1_AutoML_20191216_144218_model_3</td>\n",
       "                        <td id=\"T_6166e910_21fe_11ea_a2a9_e4434b16cb6crow1_col22\" class=\"data row1 col22\" >nan</td>\n",
       "                        <td id=\"T_6166e910_21fe_11ea_a2a9_e4434b16cb6crow1_col23\" class=\"data row1 col23\" >nan</td>\n",
       "                        <td id=\"T_6166e910_21fe_11ea_a2a9_e4434b16cb6crow1_col24\" class=\"data row1 col24\" >nan</td>\n",
       "                        <td id=\"T_6166e910_21fe_11ea_a2a9_e4434b16cb6crow1_col25\" class=\"data row1 col25\" >nan</td>\n",
       "            </tr>\n",
       "            <tr>\n",
       "                                <td id=\"T_6166e910_21fe_11ea_a2a9_e4434b16cb6crow2_col0\" class=\"data row2 col0\" >102</td>\n",
       "                        <td id=\"T_6166e910_21fe_11ea_a2a9_e4434b16cb6crow2_col1\" class=\"data row2 col1\" >StackedEnsemble_BestOfFamily_AutoML_20191217_025417</td>\n",
       "                        <td id=\"T_6166e910_21fe_11ea_a2a9_e4434b16cb6crow2_col2\" class=\"data row2 col2\" >XGBoost_1_AutoML_20191217_025417</td>\n",
       "                        <td id=\"T_6166e910_21fe_11ea_a2a9_e4434b16cb6crow2_col3\" class=\"data row2 col3\" >GBM_1_AutoML_20191217_025417</td>\n",
       "                        <td id=\"T_6166e910_21fe_11ea_a2a9_e4434b16cb6crow2_col4\" class=\"data row2 col4\" >GLM_grid_1_AutoML_20191217_025417_model_1</td>\n",
       "                        <td id=\"T_6166e910_21fe_11ea_a2a9_e4434b16cb6crow2_col5\" class=\"data row2 col5\" >DRF_1_AutoML_20191217_025417</td>\n",
       "                        <td id=\"T_6166e910_21fe_11ea_a2a9_e4434b16cb6crow2_col6\" class=\"data row2 col6\" >nan</td>\n",
       "                        <td id=\"T_6166e910_21fe_11ea_a2a9_e4434b16cb6crow2_col7\" class=\"data row2 col7\" >nan</td>\n",
       "                        <td id=\"T_6166e910_21fe_11ea_a2a9_e4434b16cb6crow2_col8\" class=\"data row2 col8\" >nan</td>\n",
       "                        <td id=\"T_6166e910_21fe_11ea_a2a9_e4434b16cb6crow2_col9\" class=\"data row2 col9\" >nan</td>\n",
       "                        <td id=\"T_6166e910_21fe_11ea_a2a9_e4434b16cb6crow2_col10\" class=\"data row2 col10\" >nan</td>\n",
       "                        <td id=\"T_6166e910_21fe_11ea_a2a9_e4434b16cb6crow2_col11\" class=\"data row2 col11\" >nan</td>\n",
       "                        <td id=\"T_6166e910_21fe_11ea_a2a9_e4434b16cb6crow2_col12\" class=\"data row2 col12\" >nan</td>\n",
       "                        <td id=\"T_6166e910_21fe_11ea_a2a9_e4434b16cb6crow2_col13\" class=\"data row2 col13\" >nan</td>\n",
       "                        <td id=\"T_6166e910_21fe_11ea_a2a9_e4434b16cb6crow2_col14\" class=\"data row2 col14\" >nan</td>\n",
       "                        <td id=\"T_6166e910_21fe_11ea_a2a9_e4434b16cb6crow2_col15\" class=\"data row2 col15\" >nan</td>\n",
       "                        <td id=\"T_6166e910_21fe_11ea_a2a9_e4434b16cb6crow2_col16\" class=\"data row2 col16\" >nan</td>\n",
       "                        <td id=\"T_6166e910_21fe_11ea_a2a9_e4434b16cb6crow2_col17\" class=\"data row2 col17\" >nan</td>\n",
       "                        <td id=\"T_6166e910_21fe_11ea_a2a9_e4434b16cb6crow2_col18\" class=\"data row2 col18\" >nan</td>\n",
       "                        <td id=\"T_6166e910_21fe_11ea_a2a9_e4434b16cb6crow2_col19\" class=\"data row2 col19\" >nan</td>\n",
       "                        <td id=\"T_6166e910_21fe_11ea_a2a9_e4434b16cb6crow2_col20\" class=\"data row2 col20\" >nan</td>\n",
       "                        <td id=\"T_6166e910_21fe_11ea_a2a9_e4434b16cb6crow2_col21\" class=\"data row2 col21\" >nan</td>\n",
       "                        <td id=\"T_6166e910_21fe_11ea_a2a9_e4434b16cb6crow2_col22\" class=\"data row2 col22\" >nan</td>\n",
       "                        <td id=\"T_6166e910_21fe_11ea_a2a9_e4434b16cb6crow2_col23\" class=\"data row2 col23\" >nan</td>\n",
       "                        <td id=\"T_6166e910_21fe_11ea_a2a9_e4434b16cb6crow2_col24\" class=\"data row2 col24\" >nan</td>\n",
       "                        <td id=\"T_6166e910_21fe_11ea_a2a9_e4434b16cb6crow2_col25\" class=\"data row2 col25\" >nan</td>\n",
       "            </tr>\n",
       "            <tr>\n",
       "                                <td id=\"T_6166e910_21fe_11ea_a2a9_e4434b16cb6crow3_col0\" class=\"data row3 col0\" >153</td>\n",
       "                        <td id=\"T_6166e910_21fe_11ea_a2a9_e4434b16cb6crow3_col1\" class=\"data row3 col1\" >StackedEnsemble_AllModels_AutoML_20191217_150317</td>\n",
       "                        <td id=\"T_6166e910_21fe_11ea_a2a9_e4434b16cb6crow3_col2\" class=\"data row3 col2\" >XGBoost_1_AutoML_20191217_150317</td>\n",
       "                        <td id=\"T_6166e910_21fe_11ea_a2a9_e4434b16cb6crow3_col3\" class=\"data row3 col3\" >GLM_grid_1_AutoML_20191217_150317_model_1</td>\n",
       "                        <td id=\"T_6166e910_21fe_11ea_a2a9_e4434b16cb6crow3_col4\" class=\"data row3 col4\" >XGBoost_3_AutoML_20191217_150317</td>\n",
       "                        <td id=\"T_6166e910_21fe_11ea_a2a9_e4434b16cb6crow3_col5\" class=\"data row3 col5\" >XGBoost_2_AutoML_20191217_150317</td>\n",
       "                        <td id=\"T_6166e910_21fe_11ea_a2a9_e4434b16cb6crow3_col6\" class=\"data row3 col6\" >GBM_1_AutoML_20191217_150317</td>\n",
       "                        <td id=\"T_6166e910_21fe_11ea_a2a9_e4434b16cb6crow3_col7\" class=\"data row3 col7\" >GBM_2_AutoML_20191217_150317</td>\n",
       "                        <td id=\"T_6166e910_21fe_11ea_a2a9_e4434b16cb6crow3_col8\" class=\"data row3 col8\" >GBM_3_AutoML_20191217_150317</td>\n",
       "                        <td id=\"T_6166e910_21fe_11ea_a2a9_e4434b16cb6crow3_col9\" class=\"data row3 col9\" >DRF_1_AutoML_20191217_150317</td>\n",
       "                        <td id=\"T_6166e910_21fe_11ea_a2a9_e4434b16cb6crow3_col10\" class=\"data row3 col10\" >GBM_4_AutoML_20191217_150317</td>\n",
       "                        <td id=\"T_6166e910_21fe_11ea_a2a9_e4434b16cb6crow3_col11\" class=\"data row3 col11\" >nan</td>\n",
       "                        <td id=\"T_6166e910_21fe_11ea_a2a9_e4434b16cb6crow3_col12\" class=\"data row3 col12\" >nan</td>\n",
       "                        <td id=\"T_6166e910_21fe_11ea_a2a9_e4434b16cb6crow3_col13\" class=\"data row3 col13\" >nan</td>\n",
       "                        <td id=\"T_6166e910_21fe_11ea_a2a9_e4434b16cb6crow3_col14\" class=\"data row3 col14\" >nan</td>\n",
       "                        <td id=\"T_6166e910_21fe_11ea_a2a9_e4434b16cb6crow3_col15\" class=\"data row3 col15\" >nan</td>\n",
       "                        <td id=\"T_6166e910_21fe_11ea_a2a9_e4434b16cb6crow3_col16\" class=\"data row3 col16\" >nan</td>\n",
       "                        <td id=\"T_6166e910_21fe_11ea_a2a9_e4434b16cb6crow3_col17\" class=\"data row3 col17\" >nan</td>\n",
       "                        <td id=\"T_6166e910_21fe_11ea_a2a9_e4434b16cb6crow3_col18\" class=\"data row3 col18\" >nan</td>\n",
       "                        <td id=\"T_6166e910_21fe_11ea_a2a9_e4434b16cb6crow3_col19\" class=\"data row3 col19\" >nan</td>\n",
       "                        <td id=\"T_6166e910_21fe_11ea_a2a9_e4434b16cb6crow3_col20\" class=\"data row3 col20\" >nan</td>\n",
       "                        <td id=\"T_6166e910_21fe_11ea_a2a9_e4434b16cb6crow3_col21\" class=\"data row3 col21\" >nan</td>\n",
       "                        <td id=\"T_6166e910_21fe_11ea_a2a9_e4434b16cb6crow3_col22\" class=\"data row3 col22\" >nan</td>\n",
       "                        <td id=\"T_6166e910_21fe_11ea_a2a9_e4434b16cb6crow3_col23\" class=\"data row3 col23\" >nan</td>\n",
       "                        <td id=\"T_6166e910_21fe_11ea_a2a9_e4434b16cb6crow3_col24\" class=\"data row3 col24\" >nan</td>\n",
       "                        <td id=\"T_6166e910_21fe_11ea_a2a9_e4434b16cb6crow3_col25\" class=\"data row3 col25\" >nan</td>\n",
       "            </tr>\n",
       "            <tr>\n",
       "                                <td id=\"T_6166e910_21fe_11ea_a2a9_e4434b16cb6crow4_col0\" class=\"data row4 col0\" >204</td>\n",
       "                        <td id=\"T_6166e910_21fe_11ea_a2a9_e4434b16cb6crow4_col1\" class=\"data row4 col1\" >StackedEnsemble_BestOfFamily_AutoML_20191218_031115</td>\n",
       "                        <td id=\"T_6166e910_21fe_11ea_a2a9_e4434b16cb6crow4_col2\" class=\"data row4 col2\" >GLM_grid_1_AutoML_20191218_031115_model_1</td>\n",
       "                        <td id=\"T_6166e910_21fe_11ea_a2a9_e4434b16cb6crow4_col3\" class=\"data row4 col3\" >XGBoost_1_AutoML_20191218_031115</td>\n",
       "                        <td id=\"T_6166e910_21fe_11ea_a2a9_e4434b16cb6crow4_col4\" class=\"data row4 col4\" >GBM_1_AutoML_20191218_031115</td>\n",
       "                        <td id=\"T_6166e910_21fe_11ea_a2a9_e4434b16cb6crow4_col5\" class=\"data row4 col5\" >DRF_1_AutoML_20191218_031115</td>\n",
       "                        <td id=\"T_6166e910_21fe_11ea_a2a9_e4434b16cb6crow4_col6\" class=\"data row4 col6\" >nan</td>\n",
       "                        <td id=\"T_6166e910_21fe_11ea_a2a9_e4434b16cb6crow4_col7\" class=\"data row4 col7\" >nan</td>\n",
       "                        <td id=\"T_6166e910_21fe_11ea_a2a9_e4434b16cb6crow4_col8\" class=\"data row4 col8\" >nan</td>\n",
       "                        <td id=\"T_6166e910_21fe_11ea_a2a9_e4434b16cb6crow4_col9\" class=\"data row4 col9\" >nan</td>\n",
       "                        <td id=\"T_6166e910_21fe_11ea_a2a9_e4434b16cb6crow4_col10\" class=\"data row4 col10\" >nan</td>\n",
       "                        <td id=\"T_6166e910_21fe_11ea_a2a9_e4434b16cb6crow4_col11\" class=\"data row4 col11\" >nan</td>\n",
       "                        <td id=\"T_6166e910_21fe_11ea_a2a9_e4434b16cb6crow4_col12\" class=\"data row4 col12\" >nan</td>\n",
       "                        <td id=\"T_6166e910_21fe_11ea_a2a9_e4434b16cb6crow4_col13\" class=\"data row4 col13\" >nan</td>\n",
       "                        <td id=\"T_6166e910_21fe_11ea_a2a9_e4434b16cb6crow4_col14\" class=\"data row4 col14\" >nan</td>\n",
       "                        <td id=\"T_6166e910_21fe_11ea_a2a9_e4434b16cb6crow4_col15\" class=\"data row4 col15\" >nan</td>\n",
       "                        <td id=\"T_6166e910_21fe_11ea_a2a9_e4434b16cb6crow4_col16\" class=\"data row4 col16\" >nan</td>\n",
       "                        <td id=\"T_6166e910_21fe_11ea_a2a9_e4434b16cb6crow4_col17\" class=\"data row4 col17\" >nan</td>\n",
       "                        <td id=\"T_6166e910_21fe_11ea_a2a9_e4434b16cb6crow4_col18\" class=\"data row4 col18\" >nan</td>\n",
       "                        <td id=\"T_6166e910_21fe_11ea_a2a9_e4434b16cb6crow4_col19\" class=\"data row4 col19\" >nan</td>\n",
       "                        <td id=\"T_6166e910_21fe_11ea_a2a9_e4434b16cb6crow4_col20\" class=\"data row4 col20\" >nan</td>\n",
       "                        <td id=\"T_6166e910_21fe_11ea_a2a9_e4434b16cb6crow4_col21\" class=\"data row4 col21\" >nan</td>\n",
       "                        <td id=\"T_6166e910_21fe_11ea_a2a9_e4434b16cb6crow4_col22\" class=\"data row4 col22\" >nan</td>\n",
       "                        <td id=\"T_6166e910_21fe_11ea_a2a9_e4434b16cb6crow4_col23\" class=\"data row4 col23\" >nan</td>\n",
       "                        <td id=\"T_6166e910_21fe_11ea_a2a9_e4434b16cb6crow4_col24\" class=\"data row4 col24\" >nan</td>\n",
       "                        <td id=\"T_6166e910_21fe_11ea_a2a9_e4434b16cb6crow4_col25\" class=\"data row4 col25\" >nan</td>\n",
       "            </tr>\n",
       "            <tr>\n",
       "                                <td id=\"T_6166e910_21fe_11ea_a2a9_e4434b16cb6crow5_col0\" class=\"data row5 col0\" >255</td>\n",
       "                        <td id=\"T_6166e910_21fe_11ea_a2a9_e4434b16cb6crow5_col1\" class=\"data row5 col1\" >StackedEnsemble_AllModels_AutoML_20191218_151819</td>\n",
       "                        <td id=\"T_6166e910_21fe_11ea_a2a9_e4434b16cb6crow5_col2\" class=\"data row5 col2\" >XGBoost_1_AutoML_20191218_151819</td>\n",
       "                        <td id=\"T_6166e910_21fe_11ea_a2a9_e4434b16cb6crow5_col3\" class=\"data row5 col3\" >XGBoost_2_AutoML_20191218_151819</td>\n",
       "                        <td id=\"T_6166e910_21fe_11ea_a2a9_e4434b16cb6crow5_col4\" class=\"data row5 col4\" >GLM_grid_1_AutoML_20191218_151819_model_1</td>\n",
       "                        <td id=\"T_6166e910_21fe_11ea_a2a9_e4434b16cb6crow5_col5\" class=\"data row5 col5\" >XGBoost_3_AutoML_20191218_151819</td>\n",
       "                        <td id=\"T_6166e910_21fe_11ea_a2a9_e4434b16cb6crow5_col6\" class=\"data row5 col6\" >DRF_1_AutoML_20191218_151819</td>\n",
       "                        <td id=\"T_6166e910_21fe_11ea_a2a9_e4434b16cb6crow5_col7\" class=\"data row5 col7\" >nan</td>\n",
       "                        <td id=\"T_6166e910_21fe_11ea_a2a9_e4434b16cb6crow5_col8\" class=\"data row5 col8\" >nan</td>\n",
       "                        <td id=\"T_6166e910_21fe_11ea_a2a9_e4434b16cb6crow5_col9\" class=\"data row5 col9\" >nan</td>\n",
       "                        <td id=\"T_6166e910_21fe_11ea_a2a9_e4434b16cb6crow5_col10\" class=\"data row5 col10\" >nan</td>\n",
       "                        <td id=\"T_6166e910_21fe_11ea_a2a9_e4434b16cb6crow5_col11\" class=\"data row5 col11\" >nan</td>\n",
       "                        <td id=\"T_6166e910_21fe_11ea_a2a9_e4434b16cb6crow5_col12\" class=\"data row5 col12\" >nan</td>\n",
       "                        <td id=\"T_6166e910_21fe_11ea_a2a9_e4434b16cb6crow5_col13\" class=\"data row5 col13\" >nan</td>\n",
       "                        <td id=\"T_6166e910_21fe_11ea_a2a9_e4434b16cb6crow5_col14\" class=\"data row5 col14\" >nan</td>\n",
       "                        <td id=\"T_6166e910_21fe_11ea_a2a9_e4434b16cb6crow5_col15\" class=\"data row5 col15\" >nan</td>\n",
       "                        <td id=\"T_6166e910_21fe_11ea_a2a9_e4434b16cb6crow5_col16\" class=\"data row5 col16\" >nan</td>\n",
       "                        <td id=\"T_6166e910_21fe_11ea_a2a9_e4434b16cb6crow5_col17\" class=\"data row5 col17\" >nan</td>\n",
       "                        <td id=\"T_6166e910_21fe_11ea_a2a9_e4434b16cb6crow5_col18\" class=\"data row5 col18\" >nan</td>\n",
       "                        <td id=\"T_6166e910_21fe_11ea_a2a9_e4434b16cb6crow5_col19\" class=\"data row5 col19\" >nan</td>\n",
       "                        <td id=\"T_6166e910_21fe_11ea_a2a9_e4434b16cb6crow5_col20\" class=\"data row5 col20\" >nan</td>\n",
       "                        <td id=\"T_6166e910_21fe_11ea_a2a9_e4434b16cb6crow5_col21\" class=\"data row5 col21\" >nan</td>\n",
       "                        <td id=\"T_6166e910_21fe_11ea_a2a9_e4434b16cb6crow5_col22\" class=\"data row5 col22\" >nan</td>\n",
       "                        <td id=\"T_6166e910_21fe_11ea_a2a9_e4434b16cb6crow5_col23\" class=\"data row5 col23\" >nan</td>\n",
       "                        <td id=\"T_6166e910_21fe_11ea_a2a9_e4434b16cb6crow5_col24\" class=\"data row5 col24\" >nan</td>\n",
       "                        <td id=\"T_6166e910_21fe_11ea_a2a9_e4434b16cb6crow5_col25\" class=\"data row5 col25\" >nan</td>\n",
       "            </tr>\n",
       "    </tbody></table>"
      ],
      "text/plain": [
       "<pandas.io.formats.style.Styler at 0x2ba65d66d390>"
      ]
     },
     "metadata": {},
     "output_type": "display_data"
    },
    {
     "data": {
      "text/plain": [
       "'H2OAutoMLClean #1'"
      ]
     },
     "metadata": {},
     "output_type": "display_data"
    },
    {
     "data": {
      "text/html": [
       "<style  type=\"text/css\" >\n",
       "</style><table id=\"T_616833ce_21fe_11ea_a2a9_e4434b16cb6c\" ><thead>    <tr>        <th class=\"col_heading level0 col0\" >std</th>        <th class=\"col_heading level0 col1\" >test_acc</th>        <th class=\"col_heading level0 col2\" >train_acc</th>        <th class=\"col_heading level0 col3\" >time_err</th>        <th class=\"col_heading level0 col4\" >time_pre</th>        <th class=\"col_heading level0 col5\" >time_mod</th>    </tr></thead><tbody>\n",
       "                <tr>\n",
       "                                <td id=\"T_616833ce_21fe_11ea_a2a9_e4434b16cb6crow0_col0\" class=\"data row0 col0\" >0</td>\n",
       "                        <td id=\"T_616833ce_21fe_11ea_a2a9_e4434b16cb6crow0_col1\" class=\"data row0 col1\" >0.901</td>\n",
       "                        <td id=\"T_616833ce_21fe_11ea_a2a9_e4434b16cb6crow0_col2\" class=\"data row0 col2\" >1</td>\n",
       "                        <td id=\"T_616833ce_21fe_11ea_a2a9_e4434b16cb6crow0_col3\" class=\"data row0 col3\" >3.437</td>\n",
       "                        <td id=\"T_616833ce_21fe_11ea_a2a9_e4434b16cb6crow0_col4\" class=\"data row0 col4\" >0.74</td>\n",
       "                        <td id=\"T_616833ce_21fe_11ea_a2a9_e4434b16cb6crow0_col5\" class=\"data row0 col5\" >21883.5</td>\n",
       "            </tr>\n",
       "            <tr>\n",
       "                                <td id=\"T_616833ce_21fe_11ea_a2a9_e4434b16cb6crow1_col0\" class=\"data row1 col0\" >51</td>\n",
       "                        <td id=\"T_616833ce_21fe_11ea_a2a9_e4434b16cb6crow1_col1\" class=\"data row1 col1\" >0.64</td>\n",
       "                        <td id=\"T_616833ce_21fe_11ea_a2a9_e4434b16cb6crow1_col2\" class=\"data row1 col2\" >1</td>\n",
       "                        <td id=\"T_616833ce_21fe_11ea_a2a9_e4434b16cb6crow1_col3\" class=\"data row1 col3\" >3.585</td>\n",
       "                        <td id=\"T_616833ce_21fe_11ea_a2a9_e4434b16cb6crow1_col4\" class=\"data row1 col4\" >0.586</td>\n",
       "                        <td id=\"T_616833ce_21fe_11ea_a2a9_e4434b16cb6crow1_col5\" class=\"data row1 col5\" >21895.8</td>\n",
       "            </tr>\n",
       "            <tr>\n",
       "                                <td id=\"T_616833ce_21fe_11ea_a2a9_e4434b16cb6crow2_col0\" class=\"data row2 col0\" >102</td>\n",
       "                        <td id=\"T_616833ce_21fe_11ea_a2a9_e4434b16cb6crow2_col1\" class=\"data row2 col1\" >0.378</td>\n",
       "                        <td id=\"T_616833ce_21fe_11ea_a2a9_e4434b16cb6crow2_col2\" class=\"data row2 col2\" >1</td>\n",
       "                        <td id=\"T_616833ce_21fe_11ea_a2a9_e4434b16cb6crow2_col3\" class=\"data row2 col3\" >3.575</td>\n",
       "                        <td id=\"T_616833ce_21fe_11ea_a2a9_e4434b16cb6crow2_col4\" class=\"data row2 col4\" >0.614</td>\n",
       "                        <td id=\"T_616833ce_21fe_11ea_a2a9_e4434b16cb6crow2_col5\" class=\"data row2 col5\" >21902.1</td>\n",
       "            </tr>\n",
       "            <tr>\n",
       "                                <td id=\"T_616833ce_21fe_11ea_a2a9_e4434b16cb6crow3_col0\" class=\"data row3 col0\" >153</td>\n",
       "                        <td id=\"T_616833ce_21fe_11ea_a2a9_e4434b16cb6crow3_col1\" class=\"data row3 col1\" >0.248</td>\n",
       "                        <td id=\"T_616833ce_21fe_11ea_a2a9_e4434b16cb6crow3_col2\" class=\"data row3 col2\" >1</td>\n",
       "                        <td id=\"T_616833ce_21fe_11ea_a2a9_e4434b16cb6crow3_col3\" class=\"data row3 col3\" >3.595</td>\n",
       "                        <td id=\"T_616833ce_21fe_11ea_a2a9_e4434b16cb6crow3_col4\" class=\"data row3 col4\" >0.513</td>\n",
       "                        <td id=\"T_616833ce_21fe_11ea_a2a9_e4434b16cb6crow3_col5\" class=\"data row3 col5\" >21849.3</td>\n",
       "            </tr>\n",
       "            <tr>\n",
       "                                <td id=\"T_616833ce_21fe_11ea_a2a9_e4434b16cb6crow4_col0\" class=\"data row4 col0\" >204</td>\n",
       "                        <td id=\"T_616833ce_21fe_11ea_a2a9_e4434b16cb6crow4_col1\" class=\"data row4 col1\" >0.178</td>\n",
       "                        <td id=\"T_616833ce_21fe_11ea_a2a9_e4434b16cb6crow4_col2\" class=\"data row4 col2\" >1</td>\n",
       "                        <td id=\"T_616833ce_21fe_11ea_a2a9_e4434b16cb6crow4_col3\" class=\"data row4 col3\" >3.596</td>\n",
       "                        <td id=\"T_616833ce_21fe_11ea_a2a9_e4434b16cb6crow4_col4\" class=\"data row4 col4\" >0.518</td>\n",
       "                        <td id=\"T_616833ce_21fe_11ea_a2a9_e4434b16cb6crow4_col5\" class=\"data row4 col5\" >21857.5</td>\n",
       "            </tr>\n",
       "            <tr>\n",
       "                                <td id=\"T_616833ce_21fe_11ea_a2a9_e4434b16cb6crow5_col0\" class=\"data row5 col0\" >255</td>\n",
       "                        <td id=\"T_616833ce_21fe_11ea_a2a9_e4434b16cb6crow5_col1\" class=\"data row5 col1\" >0.163</td>\n",
       "                        <td id=\"T_616833ce_21fe_11ea_a2a9_e4434b16cb6crow5_col2\" class=\"data row5 col2\" >1</td>\n",
       "                        <td id=\"T_616833ce_21fe_11ea_a2a9_e4434b16cb6crow5_col3\" class=\"data row5 col3\" >3.526</td>\n",
       "                        <td id=\"T_616833ce_21fe_11ea_a2a9_e4434b16cb6crow5_col4\" class=\"data row5 col4\" >0.542</td>\n",
       "                        <td id=\"T_616833ce_21fe_11ea_a2a9_e4434b16cb6crow5_col5\" class=\"data row5 col5\" >21834</td>\n",
       "            </tr>\n",
       "    </tbody></table>"
      ],
      "text/plain": [
       "<pandas.io.formats.style.Styler at 0x2ba51f19b358>"
      ]
     },
     "metadata": {},
     "output_type": "display_data"
    },
    {
     "data": {
      "text/html": [
       "<style  type=\"text/css\" >\n",
       "</style><table id=\"T_61694692_21fe_11ea_a2a9_e4434b16cb6c\" ><thead>    <tr>        <th class=\"col_heading level0 col0\" >std</th>        <th class=\"col_heading level0 col1\" >pipe_0</th>        <th class=\"col_heading level0 col2\" >pipe_1</th>        <th class=\"col_heading level0 col3\" >pipe_2</th>        <th class=\"col_heading level0 col4\" >pipe_3</th>        <th class=\"col_heading level0 col5\" >pipe_4</th>        <th class=\"col_heading level0 col6\" >pipe_5</th>        <th class=\"col_heading level0 col7\" >pipe_6</th>        <th class=\"col_heading level0 col8\" >pipe_7</th>        <th class=\"col_heading level0 col9\" >pipe_8</th>        <th class=\"col_heading level0 col10\" >pipe_9</th>        <th class=\"col_heading level0 col11\" >pipe_10</th>        <th class=\"col_heading level0 col12\" >pipe_11</th>        <th class=\"col_heading level0 col13\" >pipe_12</th>        <th class=\"col_heading level0 col14\" >pipe_13</th>        <th class=\"col_heading level0 col15\" >pipe_14</th>        <th class=\"col_heading level0 col16\" >pipe_15</th>        <th class=\"col_heading level0 col17\" >pipe_16</th>        <th class=\"col_heading level0 col18\" >pipe_17</th>        <th class=\"col_heading level0 col19\" >pipe_18</th>        <th class=\"col_heading level0 col20\" >pipe_19</th>        <th class=\"col_heading level0 col21\" >pipe_20</th>        <th class=\"col_heading level0 col22\" >pipe_21</th>    </tr></thead><tbody>\n",
       "                <tr>\n",
       "                                <td id=\"T_61694692_21fe_11ea_a2a9_e4434b16cb6crow0_col0\" class=\"data row0 col0\" >0</td>\n",
       "                        <td id=\"T_61694692_21fe_11ea_a2a9_e4434b16cb6crow0_col1\" class=\"data row0 col1\" >StackedEnsemble_AllModels_AutoML_20191216_083730</td>\n",
       "                        <td id=\"T_61694692_21fe_11ea_a2a9_e4434b16cb6crow0_col2\" class=\"data row0 col2\" >XGBoost_1_AutoML_20191216_083730</td>\n",
       "                        <td id=\"T_61694692_21fe_11ea_a2a9_e4434b16cb6crow0_col3\" class=\"data row0 col3\" >XGBoost_2_AutoML_20191216_083730</td>\n",
       "                        <td id=\"T_61694692_21fe_11ea_a2a9_e4434b16cb6crow0_col4\" class=\"data row0 col4\" >GBM_5_AutoML_20191216_083730</td>\n",
       "                        <td id=\"T_61694692_21fe_11ea_a2a9_e4434b16cb6crow0_col5\" class=\"data row0 col5\" >GBM_4_AutoML_20191216_083730</td>\n",
       "                        <td id=\"T_61694692_21fe_11ea_a2a9_e4434b16cb6crow0_col6\" class=\"data row0 col6\" >XGBoost_3_AutoML_20191216_083730</td>\n",
       "                        <td id=\"T_61694692_21fe_11ea_a2a9_e4434b16cb6crow0_col7\" class=\"data row0 col7\" >GBM_3_AutoML_20191216_083730</td>\n",
       "                        <td id=\"T_61694692_21fe_11ea_a2a9_e4434b16cb6crow0_col8\" class=\"data row0 col8\" >GBM_2_AutoML_20191216_083730</td>\n",
       "                        <td id=\"T_61694692_21fe_11ea_a2a9_e4434b16cb6crow0_col9\" class=\"data row0 col9\" >GBM_1_AutoML_20191216_083730</td>\n",
       "                        <td id=\"T_61694692_21fe_11ea_a2a9_e4434b16cb6crow0_col10\" class=\"data row0 col10\" >GBM_grid_1_AutoML_20191216_083730_model_1</td>\n",
       "                        <td id=\"T_61694692_21fe_11ea_a2a9_e4434b16cb6crow0_col11\" class=\"data row0 col11\" >DRF_1_AutoML_20191216_083730</td>\n",
       "                        <td id=\"T_61694692_21fe_11ea_a2a9_e4434b16cb6crow0_col12\" class=\"data row0 col12\" >XRT_1_AutoML_20191216_083730</td>\n",
       "                        <td id=\"T_61694692_21fe_11ea_a2a9_e4434b16cb6crow0_col13\" class=\"data row0 col13\" >XGBoost_grid_1_AutoML_20191216_083730_model_1</td>\n",
       "                        <td id=\"T_61694692_21fe_11ea_a2a9_e4434b16cb6crow0_col14\" class=\"data row0 col14\" >DeepLearning_1_AutoML_20191216_083730</td>\n",
       "                        <td id=\"T_61694692_21fe_11ea_a2a9_e4434b16cb6crow0_col15\" class=\"data row0 col15\" >GLM_grid_1_AutoML_20191216_083730_model_1</td>\n",
       "                        <td id=\"T_61694692_21fe_11ea_a2a9_e4434b16cb6crow0_col16\" class=\"data row0 col16\" >XGBoost_grid_1_AutoML_20191216_083730_model_2</td>\n",
       "                        <td id=\"T_61694692_21fe_11ea_a2a9_e4434b16cb6crow0_col17\" class=\"data row0 col17\" >DeepLearning_grid_1_AutoML_20191216_083730_model_2</td>\n",
       "                        <td id=\"T_61694692_21fe_11ea_a2a9_e4434b16cb6crow0_col18\" class=\"data row0 col18\" >GBM_grid_1_AutoML_20191216_083730_model_2</td>\n",
       "                        <td id=\"T_61694692_21fe_11ea_a2a9_e4434b16cb6crow0_col19\" class=\"data row0 col19\" >DeepLearning_grid_1_AutoML_20191216_083730_model_1</td>\n",
       "                        <td id=\"T_61694692_21fe_11ea_a2a9_e4434b16cb6crow0_col20\" class=\"data row0 col20\" >DeepLearning_grid_1_AutoML_20191216_083730_model_3</td>\n",
       "                        <td id=\"T_61694692_21fe_11ea_a2a9_e4434b16cb6crow0_col21\" class=\"data row0 col21\" >DeepLearning_grid_1_AutoML_20191216_083730_model_4</td>\n",
       "                        <td id=\"T_61694692_21fe_11ea_a2a9_e4434b16cb6crow0_col22\" class=\"data row0 col22\" >GBM_grid_1_AutoML_20191216_083730_model_3</td>\n",
       "            </tr>\n",
       "            <tr>\n",
       "                                <td id=\"T_61694692_21fe_11ea_a2a9_e4434b16cb6crow1_col0\" class=\"data row1 col0\" >51</td>\n",
       "                        <td id=\"T_61694692_21fe_11ea_a2a9_e4434b16cb6crow1_col1\" class=\"data row1 col1\" >StackedEnsemble_AllModels_AutoML_20191216_204917</td>\n",
       "                        <td id=\"T_61694692_21fe_11ea_a2a9_e4434b16cb6crow1_col2\" class=\"data row1 col2\" >XGBoost_1_AutoML_20191216_204917</td>\n",
       "                        <td id=\"T_61694692_21fe_11ea_a2a9_e4434b16cb6crow1_col3\" class=\"data row1 col3\" >XGBoost_2_AutoML_20191216_204917</td>\n",
       "                        <td id=\"T_61694692_21fe_11ea_a2a9_e4434b16cb6crow1_col4\" class=\"data row1 col4\" >GBM_5_AutoML_20191216_204917</td>\n",
       "                        <td id=\"T_61694692_21fe_11ea_a2a9_e4434b16cb6crow1_col5\" class=\"data row1 col5\" >GBM_4_AutoML_20191216_204917</td>\n",
       "                        <td id=\"T_61694692_21fe_11ea_a2a9_e4434b16cb6crow1_col6\" class=\"data row1 col6\" >XGBoost_3_AutoML_20191216_204917</td>\n",
       "                        <td id=\"T_61694692_21fe_11ea_a2a9_e4434b16cb6crow1_col7\" class=\"data row1 col7\" >GBM_3_AutoML_20191216_204917</td>\n",
       "                        <td id=\"T_61694692_21fe_11ea_a2a9_e4434b16cb6crow1_col8\" class=\"data row1 col8\" >GBM_2_AutoML_20191216_204917</td>\n",
       "                        <td id=\"T_61694692_21fe_11ea_a2a9_e4434b16cb6crow1_col9\" class=\"data row1 col9\" >GBM_1_AutoML_20191216_204917</td>\n",
       "                        <td id=\"T_61694692_21fe_11ea_a2a9_e4434b16cb6crow1_col10\" class=\"data row1 col10\" >DRF_1_AutoML_20191216_204917</td>\n",
       "                        <td id=\"T_61694692_21fe_11ea_a2a9_e4434b16cb6crow1_col11\" class=\"data row1 col11\" >XRT_1_AutoML_20191216_204917</td>\n",
       "                        <td id=\"T_61694692_21fe_11ea_a2a9_e4434b16cb6crow1_col12\" class=\"data row1 col12\" >GBM_grid_1_AutoML_20191216_204917_model_1</td>\n",
       "                        <td id=\"T_61694692_21fe_11ea_a2a9_e4434b16cb6crow1_col13\" class=\"data row1 col13\" >XGBoost_grid_1_AutoML_20191216_204917_model_1</td>\n",
       "                        <td id=\"T_61694692_21fe_11ea_a2a9_e4434b16cb6crow1_col14\" class=\"data row1 col14\" >DeepLearning_1_AutoML_20191216_204917</td>\n",
       "                        <td id=\"T_61694692_21fe_11ea_a2a9_e4434b16cb6crow1_col15\" class=\"data row1 col15\" >GLM_grid_1_AutoML_20191216_204917_model_1</td>\n",
       "                        <td id=\"T_61694692_21fe_11ea_a2a9_e4434b16cb6crow1_col16\" class=\"data row1 col16\" >XGBoost_grid_1_AutoML_20191216_204917_model_2</td>\n",
       "                        <td id=\"T_61694692_21fe_11ea_a2a9_e4434b16cb6crow1_col17\" class=\"data row1 col17\" >GBM_grid_1_AutoML_20191216_204917_model_2</td>\n",
       "                        <td id=\"T_61694692_21fe_11ea_a2a9_e4434b16cb6crow1_col18\" class=\"data row1 col18\" >DeepLearning_grid_1_AutoML_20191216_204917_model_1</td>\n",
       "                        <td id=\"T_61694692_21fe_11ea_a2a9_e4434b16cb6crow1_col19\" class=\"data row1 col19\" >DeepLearning_grid_1_AutoML_20191216_204917_model_3</td>\n",
       "                        <td id=\"T_61694692_21fe_11ea_a2a9_e4434b16cb6crow1_col20\" class=\"data row1 col20\" >DeepLearning_grid_1_AutoML_20191216_204917_model_2</td>\n",
       "                        <td id=\"T_61694692_21fe_11ea_a2a9_e4434b16cb6crow1_col21\" class=\"data row1 col21\" >GBM_grid_1_AutoML_20191216_204917_model_3</td>\n",
       "                        <td id=\"T_61694692_21fe_11ea_a2a9_e4434b16cb6crow1_col22\" class=\"data row1 col22\" >nan</td>\n",
       "            </tr>\n",
       "            <tr>\n",
       "                                <td id=\"T_61694692_21fe_11ea_a2a9_e4434b16cb6crow2_col0\" class=\"data row2 col0\" >102</td>\n",
       "                        <td id=\"T_61694692_21fe_11ea_a2a9_e4434b16cb6crow2_col1\" class=\"data row2 col1\" >StackedEnsemble_AllModels_AutoML_20191217_085810</td>\n",
       "                        <td id=\"T_61694692_21fe_11ea_a2a9_e4434b16cb6crow2_col2\" class=\"data row2 col2\" >XGBoost_1_AutoML_20191217_085810</td>\n",
       "                        <td id=\"T_61694692_21fe_11ea_a2a9_e4434b16cb6crow2_col3\" class=\"data row2 col3\" >XGBoost_2_AutoML_20191217_085810</td>\n",
       "                        <td id=\"T_61694692_21fe_11ea_a2a9_e4434b16cb6crow2_col4\" class=\"data row2 col4\" >GBM_5_AutoML_20191217_085810</td>\n",
       "                        <td id=\"T_61694692_21fe_11ea_a2a9_e4434b16cb6crow2_col5\" class=\"data row2 col5\" >GBM_4_AutoML_20191217_085810</td>\n",
       "                        <td id=\"T_61694692_21fe_11ea_a2a9_e4434b16cb6crow2_col6\" class=\"data row2 col6\" >XGBoost_3_AutoML_20191217_085810</td>\n",
       "                        <td id=\"T_61694692_21fe_11ea_a2a9_e4434b16cb6crow2_col7\" class=\"data row2 col7\" >GBM_3_AutoML_20191217_085810</td>\n",
       "                        <td id=\"T_61694692_21fe_11ea_a2a9_e4434b16cb6crow2_col8\" class=\"data row2 col8\" >GBM_2_AutoML_20191217_085810</td>\n",
       "                        <td id=\"T_61694692_21fe_11ea_a2a9_e4434b16cb6crow2_col9\" class=\"data row2 col9\" >GBM_1_AutoML_20191217_085810</td>\n",
       "                        <td id=\"T_61694692_21fe_11ea_a2a9_e4434b16cb6crow2_col10\" class=\"data row2 col10\" >GBM_grid_1_AutoML_20191217_085810_model_1</td>\n",
       "                        <td id=\"T_61694692_21fe_11ea_a2a9_e4434b16cb6crow2_col11\" class=\"data row2 col11\" >DRF_1_AutoML_20191217_085810</td>\n",
       "                        <td id=\"T_61694692_21fe_11ea_a2a9_e4434b16cb6crow2_col12\" class=\"data row2 col12\" >XRT_1_AutoML_20191217_085810</td>\n",
       "                        <td id=\"T_61694692_21fe_11ea_a2a9_e4434b16cb6crow2_col13\" class=\"data row2 col13\" >XGBoost_grid_1_AutoML_20191217_085810_model_1</td>\n",
       "                        <td id=\"T_61694692_21fe_11ea_a2a9_e4434b16cb6crow2_col14\" class=\"data row2 col14\" >GLM_grid_1_AutoML_20191217_085810_model_1</td>\n",
       "                        <td id=\"T_61694692_21fe_11ea_a2a9_e4434b16cb6crow2_col15\" class=\"data row2 col15\" >DeepLearning_1_AutoML_20191217_085810</td>\n",
       "                        <td id=\"T_61694692_21fe_11ea_a2a9_e4434b16cb6crow2_col16\" class=\"data row2 col16\" >XGBoost_grid_1_AutoML_20191217_085810_model_2</td>\n",
       "                        <td id=\"T_61694692_21fe_11ea_a2a9_e4434b16cb6crow2_col17\" class=\"data row2 col17\" >DeepLearning_grid_1_AutoML_20191217_085810_model_2</td>\n",
       "                        <td id=\"T_61694692_21fe_11ea_a2a9_e4434b16cb6crow2_col18\" class=\"data row2 col18\" >GBM_grid_1_AutoML_20191217_085810_model_2</td>\n",
       "                        <td id=\"T_61694692_21fe_11ea_a2a9_e4434b16cb6crow2_col19\" class=\"data row2 col19\" >DeepLearning_grid_1_AutoML_20191217_085810_model_1</td>\n",
       "                        <td id=\"T_61694692_21fe_11ea_a2a9_e4434b16cb6crow2_col20\" class=\"data row2 col20\" >DeepLearning_grid_1_AutoML_20191217_085810_model_3</td>\n",
       "                        <td id=\"T_61694692_21fe_11ea_a2a9_e4434b16cb6crow2_col21\" class=\"data row2 col21\" >DeepLearning_grid_1_AutoML_20191217_085810_model_4</td>\n",
       "                        <td id=\"T_61694692_21fe_11ea_a2a9_e4434b16cb6crow2_col22\" class=\"data row2 col22\" >GBM_grid_1_AutoML_20191217_085810_model_3</td>\n",
       "            </tr>\n",
       "            <tr>\n",
       "                                <td id=\"T_61694692_21fe_11ea_a2a9_e4434b16cb6crow3_col0\" class=\"data row3 col0\" >153</td>\n",
       "                        <td id=\"T_61694692_21fe_11ea_a2a9_e4434b16cb6crow3_col1\" class=\"data row3 col1\" >StackedEnsemble_AllModels_AutoML_20191217_210702</td>\n",
       "                        <td id=\"T_61694692_21fe_11ea_a2a9_e4434b16cb6crow3_col2\" class=\"data row3 col2\" >XGBoost_1_AutoML_20191217_210702</td>\n",
       "                        <td id=\"T_61694692_21fe_11ea_a2a9_e4434b16cb6crow3_col3\" class=\"data row3 col3\" >XGBoost_2_AutoML_20191217_210702</td>\n",
       "                        <td id=\"T_61694692_21fe_11ea_a2a9_e4434b16cb6crow3_col4\" class=\"data row3 col4\" >GBM_5_AutoML_20191217_210702</td>\n",
       "                        <td id=\"T_61694692_21fe_11ea_a2a9_e4434b16cb6crow3_col5\" class=\"data row3 col5\" >GBM_4_AutoML_20191217_210702</td>\n",
       "                        <td id=\"T_61694692_21fe_11ea_a2a9_e4434b16cb6crow3_col6\" class=\"data row3 col6\" >XGBoost_3_AutoML_20191217_210702</td>\n",
       "                        <td id=\"T_61694692_21fe_11ea_a2a9_e4434b16cb6crow3_col7\" class=\"data row3 col7\" >GBM_3_AutoML_20191217_210702</td>\n",
       "                        <td id=\"T_61694692_21fe_11ea_a2a9_e4434b16cb6crow3_col8\" class=\"data row3 col8\" >GBM_2_AutoML_20191217_210702</td>\n",
       "                        <td id=\"T_61694692_21fe_11ea_a2a9_e4434b16cb6crow3_col9\" class=\"data row3 col9\" >GBM_1_AutoML_20191217_210702</td>\n",
       "                        <td id=\"T_61694692_21fe_11ea_a2a9_e4434b16cb6crow3_col10\" class=\"data row3 col10\" >GBM_grid_1_AutoML_20191217_210702_model_1</td>\n",
       "                        <td id=\"T_61694692_21fe_11ea_a2a9_e4434b16cb6crow3_col11\" class=\"data row3 col11\" >DRF_1_AutoML_20191217_210702</td>\n",
       "                        <td id=\"T_61694692_21fe_11ea_a2a9_e4434b16cb6crow3_col12\" class=\"data row3 col12\" >XRT_1_AutoML_20191217_210702</td>\n",
       "                        <td id=\"T_61694692_21fe_11ea_a2a9_e4434b16cb6crow3_col13\" class=\"data row3 col13\" >XGBoost_grid_1_AutoML_20191217_210702_model_1</td>\n",
       "                        <td id=\"T_61694692_21fe_11ea_a2a9_e4434b16cb6crow3_col14\" class=\"data row3 col14\" >DeepLearning_1_AutoML_20191217_210702</td>\n",
       "                        <td id=\"T_61694692_21fe_11ea_a2a9_e4434b16cb6crow3_col15\" class=\"data row3 col15\" >GLM_grid_1_AutoML_20191217_210702_model_1</td>\n",
       "                        <td id=\"T_61694692_21fe_11ea_a2a9_e4434b16cb6crow3_col16\" class=\"data row3 col16\" >XGBoost_grid_1_AutoML_20191217_210702_model_2</td>\n",
       "                        <td id=\"T_61694692_21fe_11ea_a2a9_e4434b16cb6crow3_col17\" class=\"data row3 col17\" >GBM_grid_1_AutoML_20191217_210702_model_2</td>\n",
       "                        <td id=\"T_61694692_21fe_11ea_a2a9_e4434b16cb6crow3_col18\" class=\"data row3 col18\" >DeepLearning_grid_1_AutoML_20191217_210702_model_1</td>\n",
       "                        <td id=\"T_61694692_21fe_11ea_a2a9_e4434b16cb6crow3_col19\" class=\"data row3 col19\" >DeepLearning_grid_1_AutoML_20191217_210702_model_2</td>\n",
       "                        <td id=\"T_61694692_21fe_11ea_a2a9_e4434b16cb6crow3_col20\" class=\"data row3 col20\" >DeepLearning_grid_1_AutoML_20191217_210702_model_3</td>\n",
       "                        <td id=\"T_61694692_21fe_11ea_a2a9_e4434b16cb6crow3_col21\" class=\"data row3 col21\" >GBM_grid_1_AutoML_20191217_210702_model_3</td>\n",
       "                        <td id=\"T_61694692_21fe_11ea_a2a9_e4434b16cb6crow3_col22\" class=\"data row3 col22\" >nan</td>\n",
       "            </tr>\n",
       "            <tr>\n",
       "                                <td id=\"T_61694692_21fe_11ea_a2a9_e4434b16cb6crow4_col0\" class=\"data row4 col0\" >204</td>\n",
       "                        <td id=\"T_61694692_21fe_11ea_a2a9_e4434b16cb6crow4_col1\" class=\"data row4 col1\" >StackedEnsemble_AllModels_AutoML_20191218_091356</td>\n",
       "                        <td id=\"T_61694692_21fe_11ea_a2a9_e4434b16cb6crow4_col2\" class=\"data row4 col2\" >XGBoost_1_AutoML_20191218_091356</td>\n",
       "                        <td id=\"T_61694692_21fe_11ea_a2a9_e4434b16cb6crow4_col3\" class=\"data row4 col3\" >XGBoost_2_AutoML_20191218_091356</td>\n",
       "                        <td id=\"T_61694692_21fe_11ea_a2a9_e4434b16cb6crow4_col4\" class=\"data row4 col4\" >GBM_5_AutoML_20191218_091356</td>\n",
       "                        <td id=\"T_61694692_21fe_11ea_a2a9_e4434b16cb6crow4_col5\" class=\"data row4 col5\" >GBM_4_AutoML_20191218_091356</td>\n",
       "                        <td id=\"T_61694692_21fe_11ea_a2a9_e4434b16cb6crow4_col6\" class=\"data row4 col6\" >XGBoost_3_AutoML_20191218_091356</td>\n",
       "                        <td id=\"T_61694692_21fe_11ea_a2a9_e4434b16cb6crow4_col7\" class=\"data row4 col7\" >GBM_3_AutoML_20191218_091356</td>\n",
       "                        <td id=\"T_61694692_21fe_11ea_a2a9_e4434b16cb6crow4_col8\" class=\"data row4 col8\" >GBM_2_AutoML_20191218_091356</td>\n",
       "                        <td id=\"T_61694692_21fe_11ea_a2a9_e4434b16cb6crow4_col9\" class=\"data row4 col9\" >GBM_1_AutoML_20191218_091356</td>\n",
       "                        <td id=\"T_61694692_21fe_11ea_a2a9_e4434b16cb6crow4_col10\" class=\"data row4 col10\" >GBM_grid_1_AutoML_20191218_091356_model_1</td>\n",
       "                        <td id=\"T_61694692_21fe_11ea_a2a9_e4434b16cb6crow4_col11\" class=\"data row4 col11\" >DRF_1_AutoML_20191218_091356</td>\n",
       "                        <td id=\"T_61694692_21fe_11ea_a2a9_e4434b16cb6crow4_col12\" class=\"data row4 col12\" >XRT_1_AutoML_20191218_091356</td>\n",
       "                        <td id=\"T_61694692_21fe_11ea_a2a9_e4434b16cb6crow4_col13\" class=\"data row4 col13\" >XGBoost_grid_1_AutoML_20191218_091356_model_1</td>\n",
       "                        <td id=\"T_61694692_21fe_11ea_a2a9_e4434b16cb6crow4_col14\" class=\"data row4 col14\" >GLM_grid_1_AutoML_20191218_091356_model_1</td>\n",
       "                        <td id=\"T_61694692_21fe_11ea_a2a9_e4434b16cb6crow4_col15\" class=\"data row4 col15\" >DeepLearning_1_AutoML_20191218_091356</td>\n",
       "                        <td id=\"T_61694692_21fe_11ea_a2a9_e4434b16cb6crow4_col16\" class=\"data row4 col16\" >XGBoost_grid_1_AutoML_20191218_091356_model_2</td>\n",
       "                        <td id=\"T_61694692_21fe_11ea_a2a9_e4434b16cb6crow4_col17\" class=\"data row4 col17\" >DeepLearning_grid_1_AutoML_20191218_091356_model_2</td>\n",
       "                        <td id=\"T_61694692_21fe_11ea_a2a9_e4434b16cb6crow4_col18\" class=\"data row4 col18\" >GBM_grid_1_AutoML_20191218_091356_model_2</td>\n",
       "                        <td id=\"T_61694692_21fe_11ea_a2a9_e4434b16cb6crow4_col19\" class=\"data row4 col19\" >DeepLearning_grid_1_AutoML_20191218_091356_model_1</td>\n",
       "                        <td id=\"T_61694692_21fe_11ea_a2a9_e4434b16cb6crow4_col20\" class=\"data row4 col20\" >DeepLearning_grid_1_AutoML_20191218_091356_model_3</td>\n",
       "                        <td id=\"T_61694692_21fe_11ea_a2a9_e4434b16cb6crow4_col21\" class=\"data row4 col21\" >GBM_grid_1_AutoML_20191218_091356_model_3</td>\n",
       "                        <td id=\"T_61694692_21fe_11ea_a2a9_e4434b16cb6crow4_col22\" class=\"data row4 col22\" >nan</td>\n",
       "            </tr>\n",
       "            <tr>\n",
       "                                <td id=\"T_61694692_21fe_11ea_a2a9_e4434b16cb6crow5_col0\" class=\"data row5 col0\" >255</td>\n",
       "                        <td id=\"T_61694692_21fe_11ea_a2a9_e4434b16cb6crow5_col1\" class=\"data row5 col1\" >StackedEnsemble_AllModels_AutoML_20191218_212129</td>\n",
       "                        <td id=\"T_61694692_21fe_11ea_a2a9_e4434b16cb6crow5_col2\" class=\"data row5 col2\" >XGBoost_1_AutoML_20191218_212129</td>\n",
       "                        <td id=\"T_61694692_21fe_11ea_a2a9_e4434b16cb6crow5_col3\" class=\"data row5 col3\" >XGBoost_2_AutoML_20191218_212129</td>\n",
       "                        <td id=\"T_61694692_21fe_11ea_a2a9_e4434b16cb6crow5_col4\" class=\"data row5 col4\" >GBM_5_AutoML_20191218_212129</td>\n",
       "                        <td id=\"T_61694692_21fe_11ea_a2a9_e4434b16cb6crow5_col5\" class=\"data row5 col5\" >GBM_4_AutoML_20191218_212129</td>\n",
       "                        <td id=\"T_61694692_21fe_11ea_a2a9_e4434b16cb6crow5_col6\" class=\"data row5 col6\" >XGBoost_3_AutoML_20191218_212129</td>\n",
       "                        <td id=\"T_61694692_21fe_11ea_a2a9_e4434b16cb6crow5_col7\" class=\"data row5 col7\" >GBM_3_AutoML_20191218_212129</td>\n",
       "                        <td id=\"T_61694692_21fe_11ea_a2a9_e4434b16cb6crow5_col8\" class=\"data row5 col8\" >GBM_2_AutoML_20191218_212129</td>\n",
       "                        <td id=\"T_61694692_21fe_11ea_a2a9_e4434b16cb6crow5_col9\" class=\"data row5 col9\" >GBM_1_AutoML_20191218_212129</td>\n",
       "                        <td id=\"T_61694692_21fe_11ea_a2a9_e4434b16cb6crow5_col10\" class=\"data row5 col10\" >GBM_grid_1_AutoML_20191218_212129_model_1</td>\n",
       "                        <td id=\"T_61694692_21fe_11ea_a2a9_e4434b16cb6crow5_col11\" class=\"data row5 col11\" >DRF_1_AutoML_20191218_212129</td>\n",
       "                        <td id=\"T_61694692_21fe_11ea_a2a9_e4434b16cb6crow5_col12\" class=\"data row5 col12\" >XRT_1_AutoML_20191218_212129</td>\n",
       "                        <td id=\"T_61694692_21fe_11ea_a2a9_e4434b16cb6crow5_col13\" class=\"data row5 col13\" >XGBoost_grid_1_AutoML_20191218_212129_model_1</td>\n",
       "                        <td id=\"T_61694692_21fe_11ea_a2a9_e4434b16cb6crow5_col14\" class=\"data row5 col14\" >GLM_grid_1_AutoML_20191218_212129_model_1</td>\n",
       "                        <td id=\"T_61694692_21fe_11ea_a2a9_e4434b16cb6crow5_col15\" class=\"data row5 col15\" >DeepLearning_1_AutoML_20191218_212129</td>\n",
       "                        <td id=\"T_61694692_21fe_11ea_a2a9_e4434b16cb6crow5_col16\" class=\"data row5 col16\" >XGBoost_grid_1_AutoML_20191218_212129_model_2</td>\n",
       "                        <td id=\"T_61694692_21fe_11ea_a2a9_e4434b16cb6crow5_col17\" class=\"data row5 col17\" >GBM_grid_1_AutoML_20191218_212129_model_2</td>\n",
       "                        <td id=\"T_61694692_21fe_11ea_a2a9_e4434b16cb6crow5_col18\" class=\"data row5 col18\" >DeepLearning_grid_1_AutoML_20191218_212129_model_1</td>\n",
       "                        <td id=\"T_61694692_21fe_11ea_a2a9_e4434b16cb6crow5_col19\" class=\"data row5 col19\" >XGBoost_grid_1_AutoML_20191218_212129_model_3</td>\n",
       "                        <td id=\"T_61694692_21fe_11ea_a2a9_e4434b16cb6crow5_col20\" class=\"data row5 col20\" >DeepLearning_grid_1_AutoML_20191218_212129_model_2</td>\n",
       "                        <td id=\"T_61694692_21fe_11ea_a2a9_e4434b16cb6crow5_col21\" class=\"data row5 col21\" >DeepLearning_grid_1_AutoML_20191218_212129_model_3</td>\n",
       "                        <td id=\"T_61694692_21fe_11ea_a2a9_e4434b16cb6crow5_col22\" class=\"data row5 col22\" >GBM_grid_1_AutoML_20191218_212129_model_3</td>\n",
       "            </tr>\n",
       "    </tbody></table>"
      ],
      "text/plain": [
       "<pandas.io.formats.style.Styler at 0x2ba51f19cc88>"
      ]
     },
     "metadata": {},
     "output_type": "display_data"
    },
    {
     "data": {
      "image/png": "[encoded data removed]",
      "text/plain": [
       "<Figure size 720x288 with 2 Axes>"
      ]
     },
     "metadata": {
      "needs_background": "light"
     },
     "output_type": "display_data"
    }
   ],
   "source": [
    "print_results_by_model(df,\n",
    "    # [\"train_labels\", \"test_labels\"],\n",
    "    [\"mean\", \"min_val\", \"max_val\", \"train_labels\", \"test_labels\"], \n",
    "    # err_param_name=\"max_angle\",\n",
    "    err_param_name=\"std\",\n",
    "    pipeline_name=\"best_pipeline\"\n",
    ")\n",
    "visualize(df)"
   ]
  },
  {
   "cell_type": "markdown",
   "metadata": {
    "collapsed": false,
    "papermill": {
     "duration": 0.114084,
     "end_time": "2019-12-19T01:25:03.669742",
     "exception": false,
     "start_time": "2019-12-19T01:25:03.555658",
     "status": "completed"
    },
    "pycharm": {
     "name": "#%% md\n"
    },
    "tags": []
   },
   "source": []
  }
 ],
 "metadata": {
  "kernelspec": {
   "display_name": "Python 3",
   "language": "python",
   "name": "python3"
  },
  "language_info": {
   "codemirror_mode": {
    "name": "ipython",
    "version": 3
   },
   "file_extension": ".py",
   "mimetype": "text/x-python",
   "name": "python",
   "nbconvert_exporter": "python",
   "pygments_lexer": "ipython3",
   "version": "3.6.6"
  },
  "papermill": {
   "duration": 262384.511203,
   "end_time": "2019-12-19T01:25:05.196886",
   "environment_variables": {},
   "exception": null,
   "input_path": "docs/case_studies/test12.ipynb",
   "output_path": "docs/case_studies/test12.ipynb",
   "parameters": {},
   "start_time": "2019-12-16T00:32:00.685683",
   "version": "1.2.0"
  },
  "pycharm": {
   "stem_cell": {
    "cell_type": "raw",
    "metadata": {
     "collapsed": false
    },
    "source": []
   }
  },
  "widgets": {
   "application/vnd.jupyter.widget-state+json": {
    "state": {},
    "version_major": 2,
    "version_minor": 0
   }
  }
 },
 "nbformat": 4,
 "nbformat_minor": 0
}