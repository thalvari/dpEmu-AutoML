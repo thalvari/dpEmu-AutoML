{
 "cells": [
  {
   "cell_type": "markdown",
   "metadata": {
    "collapsed": false,
    "papermill": {
     "duration": 0.03714,
     "end_time": "2019-11-25T05:01:19.319448",
     "exception": false,
     "start_time": "2019-11-25T05:01:19.282308",
     "status": "completed"
    },
    "tags": []
   },
   "source": [
    "# AutoML Image Classification: Added Noise (Fashion)"
   ]
  },
  {
   "cell_type": "code",
   "execution_count": 1,
   "metadata": {
    "collapsed": false,
    "papermill": {
     "duration": 0.034465,
     "end_time": "2019-11-25T05:01:19.380642",
     "exception": false,
     "start_time": "2019-11-25T05:01:19.346177",
     "status": "completed"
    },
    "pycharm": {
     "name": "#%%\n"
    },
    "tags": []
   },
   "outputs": [],
   "source": [
    "import warnings\n",
    "warnings.simplefilter(action=\"ignore\", category=FutureWarning)"
   ]
  },
  {
   "cell_type": "markdown",
   "metadata": {
    "collapsed": false,
    "papermill": {
     "duration": 0.017336,
     "end_time": "2019-11-25T05:01:19.417924",
     "exception": false,
     "start_time": "2019-11-25T05:01:19.400588",
     "status": "completed"
    },
    "tags": []
   },
   "source": [
    "![](imgs/gaussian_noise.png)"
   ]
  },
  {
   "cell_type": "code",
   "execution_count": 2,
   "metadata": {
    "collapsed": false,
    "papermill": {
     "duration": 15.839793,
     "end_time": "2019-11-25T05:01:35.272872",
     "exception": false,
     "start_time": "2019-11-25T05:01:19.433079",
     "status": "completed"
    },
    "pycharm": {
     "is_executing": false,
     "name": "#%%\n"
    },
    "tags": []
   },
   "outputs": [
    {
     "name": "stdout",
     "output_type": "stream",
     "text": [
      "Better speed can be achieved with apex installed from https://www.github.com/nvidia/apex.\n"
     ]
    },
    {
     "name": "stderr",
     "output_type": "stream",
     "text": [
      "Using TensorFlow backend.\n"
     ]
    }
   ],
   "source": [
    "import random as rn\n",
    "from abc import ABC, abstractmethod\n",
    "\n",
    "import autokeras as ak\n",
    "import h2o\n",
    "import matplotlib.pyplot as plt\n",
    "import numpy as np\n",
    "from h2o.automl import H2OAutoML\n",
    "from keras.datasets import fashion_mnist\n",
    "from numpy.random import RandomState\n",
    "from sklearn.datasets import load_digits\n",
    "from sklearn.metrics import accuracy_score\n",
    "from sklearn.model_selection import train_test_split\n",
    "from tpot import TPOTClassifier\n",
    "\n",
    "from dpemu import runner\n",
    "from dpemu.filters.common import GaussianNoise, Clip\n",
    "from dpemu.filters.image import RotationPIL\n",
    "from dpemu.nodes import Array\n",
    "from dpemu.nodes.series import Series\n",
    "from dpemu.plotting_utils import visualize_scores, print_results_by_model\n",
    "from dpemu.utils import generate_tmpdir"
   ]
  },
  {
   "cell_type": "markdown",
   "metadata": {
    "collapsed": false,
    "papermill": {
     "duration": 0.027219,
     "end_time": "2019-11-25T05:01:35.334319",
     "exception": false,
     "start_time": "2019-11-25T05:01:35.307100",
     "status": "completed"
    },
    "pycharm": {
     "name": "#%% md\n"
    },
    "tags": []
   },
   "source": []
  },
  {
   "cell_type": "code",
   "execution_count": 3,
   "metadata": {
    "collapsed": false,
    "papermill": {
     "duration": 0.03428,
     "end_time": "2019-11-25T05:01:35.392842",
     "exception": false,
     "start_time": "2019-11-25T05:01:35.358562",
     "status": "completed"
    },
    "pycharm": {
     "is_executing": false,
     "name": "#%%\n"
    },
    "tags": []
   },
   "outputs": [],
   "source": [
    "def get_data():\n",
    "    # random_state = RandomState(42)\n",
    "    # x, y = load_digits(return_X_y=True)\n",
    "    # y = y.astype(np.uint8)\n",
    "    # return train_test_split(x, y, test_size=.25, random_state=random_state)\n",
    "    (x_train, y_train), (x_test, y_test) = fashion_mnist.load_data()\n",
    "    s = x_train.shape[1]\n",
    "    x_train = x_train.reshape((len(x_train), s**2)).astype(np.float64)\n",
    "    x_test = x_test.reshape((len(x_test), s**2)).astype(np.float64)\n",
    "    return x_train, x_test, y_train, y_test"
   ]
  },
  {
   "cell_type": "markdown",
   "metadata": {
    "collapsed": false,
    "papermill": {
     "duration": 0.016839,
     "end_time": "2019-11-25T05:01:35.430336",
     "exception": false,
     "start_time": "2019-11-25T05:01:35.413497",
     "status": "completed"
    },
    "pycharm": {
     "name": "#%% md\n"
    },
    "tags": []
   },
   "source": []
  },
  {
   "cell_type": "code",
   "execution_count": 4,
   "metadata": {
    "collapsed": false,
    "papermill": {
     "duration": 0.028083,
     "end_time": "2019-11-25T05:01:35.474395",
     "exception": false,
     "start_time": "2019-11-25T05:01:35.446312",
     "status": "completed"
    },
    "pycharm": {
     "is_executing": false,
     "name": "#%%\n"
    },
    "tags": []
   },
   "outputs": [],
   "source": [
    "def get_err_root_node():\n",
    "    # err_img_node = Array(reshape=(8, 8))\n",
    "    err_img_node = Array(reshape=(28, 28))\n",
    "\n",
    "    # err_root_node = Series(err_img_node)\n",
    "    # err_img_node.addfilter(RotationPIL(\"max_angle\"))\n",
    "    # return err_root_node\n",
    "    err_root_node = Series(err_img_node)\n",
    "    err_img_node.addfilter(GaussianNoise(\"mean\", \"std\"))\n",
    "    err_img_node.addfilter(Clip(\"min_val\", \"max_val\"))\n",
    "    return err_root_node"
   ]
  },
  {
   "cell_type": "markdown",
   "metadata": {
    "collapsed": false,
    "papermill": {
     "duration": 0.015921,
     "end_time": "2019-11-25T05:01:35.507442",
     "exception": false,
     "start_time": "2019-11-25T05:01:35.491521",
     "status": "completed"
    },
    "pycharm": {
     "name": "#%% md\n"
    },
    "tags": []
   },
   "source": []
  },
  {
   "cell_type": "code",
   "execution_count": 5,
   "metadata": {
    "collapsed": false,
    "papermill": {
     "duration": 0.029726,
     "end_time": "2019-11-25T05:01:35.553463",
     "exception": false,
     "start_time": "2019-11-25T05:01:35.523737",
     "status": "completed"
    },
    "pycharm": {
     "is_executing": false,
     "name": "#%%\n"
    },
    "tags": []
   },
   "outputs": [],
   "source": [
    "def get_err_params_list(data):\n",
    "    # angle_steps = np.linspace(0, 90, num=6)\n",
    "    # err_params_list = [{\"max_angle\": a} for a in angle_steps]\n",
    "    # return err_params_list\n",
    "    min_val = np.amin(data)\n",
    "    max_val = np.amax(data)\n",
    "    std_steps = np.round(np.linspace(0, max_val, num=6), 3)\n",
    "    err_params_list = [{\"mean\": 0, \"std\": std, \"min_val\": min_val, \"max_val\": max_val} for std in std_steps]\n",
    "    return err_params_list"
   ]
  },
  {
   "cell_type": "markdown",
   "metadata": {
    "collapsed": false,
    "papermill": {
     "duration": 0.01616,
     "end_time": "2019-11-25T05:01:35.585968",
     "exception": false,
     "start_time": "2019-11-25T05:01:35.569808",
     "status": "completed"
    },
    "pycharm": {
     "name": "#%% md\n"
    },
    "tags": []
   },
   "source": []
  },
  {
   "cell_type": "code",
   "execution_count": 6,
   "metadata": {
    "collapsed": false,
    "papermill": {
     "duration": 0.027733,
     "end_time": "2019-11-25T05:01:35.630046",
     "exception": false,
     "start_time": "2019-11-25T05:01:35.602313",
     "status": "completed"
    },
    "pycharm": {
     "is_executing": false,
     "name": "#%%\n"
    },
    "tags": []
   },
   "outputs": [],
   "source": [
    "class Preprocessor:\n",
    "\n",
    "    def run(self, train_data, test_data, params):\n",
    "        return np.round(train_data).astype(np.uint8), np.round(test_data).astype(np.uint8), {}"
   ]
  },
  {
   "cell_type": "markdown",
   "metadata": {
    "collapsed": false,
    "papermill": {
     "duration": 0.016143,
     "end_time": "2019-11-25T05:01:35.662427",
     "exception": false,
     "start_time": "2019-11-25T05:01:35.646284",
     "status": "completed"
    },
    "pycharm": {
     "name": "#%% md\n"
    },
    "tags": []
   },
   "source": []
  },
  {
   "cell_type": "code",
   "execution_count": 7,
   "metadata": {
    "collapsed": false,
    "papermill": {
     "duration": 0.076135,
     "end_time": "2019-11-25T05:01:35.755046",
     "exception": false,
     "start_time": "2019-11-25T05:01:35.678911",
     "status": "completed"
    },
    "pycharm": {
     "is_executing": false,
     "name": "#%%\n"
    },
    "tags": []
   },
   "outputs": [],
   "source": [
    "class AbstractModel(ABC):\n",
    "\n",
    "    def __init__(self):\n",
    "        self.time_limit_mins = 60*10\n",
    "        self.seed = 42\n",
    "        self.random_state = RandomState(self.seed)\n",
    "        np.random.seed(self.seed)\n",
    "\n",
    "    @abstractmethod\n",
    "    def get_fitted_model(self, train_data, train_labels, params):\n",
    "        pass\n",
    "\n",
    "    @abstractmethod\n",
    "    def get_accuracy(self, data, labels, fitted_model, params):\n",
    "        pass\n",
    "\n",
    "    @abstractmethod\n",
    "    def get_best_pipeline(self, fitted_model):\n",
    "        pass\n",
    "\n",
    "    def run(self, train_data, test_data, params):\n",
    "        train_labels = params[\"train_labels\"]\n",
    "        test_labels = params[\"test_labels\"]\n",
    "\n",
    "        fitted_model = self.get_fitted_model(train_data, train_labels, params)\n",
    "\n",
    "        results = {\n",
    "            \"test_acc\": self.get_accuracy(test_data, test_labels, fitted_model, params),\n",
    "            \"train_acc\": self.get_accuracy(train_data, train_labels, fitted_model, params),\n",
    "            \"best_pipeline\": self.get_best_pipeline(fitted_model),\n",
    "        }\n",
    "        print(type(fitted_model))\n",
    "        print(results[\"test_acc\"])\n",
    "        return results\n",
    "\n",
    "class TPOTClassifierModel(AbstractModel):\n",
    "\n",
    "    def __init__(self):\n",
    "        super().__init__()\n",
    "\n",
    "    def get_fitted_model(self, train_data, train_labels, params):\n",
    "        return TPOTClassifier(\n",
    "            max_time_mins=self.time_limit_mins,\n",
    "            max_eval_time_mins=self.time_limit_mins,\n",
    "            n_jobs=-1,\n",
    "            random_state=self.seed,\n",
    "            verbosity=1,\n",
    "        ).fit(train_data, train_labels)\n",
    "    \n",
    "    def get_accuracy(self, data, labels, fitted_model, params):\n",
    "        return round(fitted_model.score(data, labels), 3)\n",
    "\n",
    "    def get_best_pipeline(self, fitted_model):\n",
    "        return [step[1] for step in fitted_model.fitted_pipeline_.steps]\n",
    "\n",
    "class H2OAutoMLModel(AbstractModel):\n",
    "\n",
    "    def __init__(self):\n",
    "        super().__init__()\n",
    "        h2o.init(name=f\"#{rn.SystemRandom().randint(1, 2**30)}\", nthreads=48)\n",
    "        h2o.no_progress()\n",
    "\n",
    "    def get_fitted_model(self, train_data, train_labels, params):\n",
    "        train_data = h2o.H2OFrame(np.concatenate((train_data, train_labels.reshape(-1, 1)), axis=1))\n",
    "        x = np.array(train_data.columns)[:-1].tolist()\n",
    "        y = np.array(train_data.columns)[-1].tolist()\n",
    "        train_data[y] = train_data[y].asfactor()\n",
    "        aml = H2OAutoML(max_runtime_secs=60*self.time_limit_mins, seed=self.seed)\n",
    "        aml.train(x=x, y=y, training_frame=train_data)\n",
    "        return aml\n",
    "\n",
    "    def get_accuracy(self, data, labels, fitted_model, params):\n",
    "        data = h2o.H2OFrame(np.concatenate((data, labels.reshape(-1, 1)), axis=1))\n",
    "        y = np.array(data.columns)[-1].tolist()\n",
    "        data[y] = data[y].asfactor()\n",
    "        pred = fitted_model.predict(data).as_data_frame(header=False)[\"predict\"].values.astype(int)\n",
    "        return np.round(np.mean(pred == labels), 3)\n",
    "\n",
    "    def get_best_pipeline(self, fitted_model):\n",
    "        leader_params = fitted_model.leader.get_params()\n",
    "        best_pipeline = [leader_params[\"model_id\"][\"actual_value\"][\"name\"]]\n",
    "        if \"base_models\" in leader_params:\n",
    "            for base_model in leader_params[\"base_models\"][\"actual_value\"]:\n",
    "                best_pipeline.append(base_model[\"name\"])\n",
    "        h2o.cluster().shutdown()\n",
    "        return best_pipeline\n",
    "\n",
    "class AutoKerasModel(AbstractModel):\n",
    "\n",
    "    def __init__(self):\n",
    "        super().__init__()\n",
    "        import tensorflow as tf\n",
    "        tf.set_random_seed(self.seed)\n",
    "        import torch\n",
    "        torch.multiprocessing.set_sharing_strategy(\"file_system\")\n",
    "        torch.manual_seed(self.seed)\n",
    "\n",
    "    def get_fitted_model(self, x_train, y_train, params):\n",
    "        s = np.sqrt(x_train.shape[1]).astype(int)\n",
    "        x_train = x_train.reshape((len(x_train), s, s, 1))\n",
    "        clf = ak.ImageClassifier(augment=params[\"augment\"], path=generate_tmpdir(), verbose=False)\n",
    "        clf.fit(x_train, y_train, time_limit=60*self.time_limit_mins)\n",
    "        return clf\n",
    "\n",
    "    def get_accuracy(self, x, y, clf, params):\n",
    "        s = np.sqrt(x.shape[1]).astype(int)\n",
    "        x = x.reshape((len(x), s, s, 1))\n",
    "        y_pred = clf.predict(x)\n",
    "        return np.round(accuracy_score(y_true=y, y_pred=y_pred), 3)\n",
    "\n",
    "    def get_best_pipeline(self, clf):\n",
    "        return [m for i, m in enumerate(clf.cnn.best_model.produce_model().modules()) if i > 0]"
   ]
  },
  {
   "cell_type": "markdown",
   "metadata": {
    "collapsed": false,
    "papermill": {
     "duration": 0.024873,
     "end_time": "2019-11-25T05:01:35.807622",
     "exception": false,
     "start_time": "2019-11-25T05:01:35.782749",
     "status": "completed"
    },
    "pycharm": {
     "name": "#%% md\n"
    },
    "tags": []
   },
   "source": []
  },
  {
   "cell_type": "code",
   "execution_count": 8,
   "metadata": {
    "collapsed": false,
    "papermill": {
     "duration": 0.037779,
     "end_time": "2019-11-25T05:01:35.867752",
     "exception": false,
     "start_time": "2019-11-25T05:01:35.829973",
     "status": "completed"
    },
    "pycharm": {
     "is_executing": false,
     "name": "#%%\n"
    },
    "tags": []
   },
   "outputs": [],
   "source": [
    "def get_model_params_dict_list(train_labels, test_labels):\n",
    "    model_params_base = {\"train_labels\": train_labels, \"test_labels\": test_labels}\n",
    "    return [\n",
    "        # {\n",
    "        #     \"model\": TPOTClassifierModel,\n",
    "        #     \"params_list\": [{**model_params_base}],\n",
    "        #     \"use_clean_train_data\": False\n",
    "        # },\n",
    "        # {\n",
    "        #     \"model\": TPOTClassifierModel,\n",
    "        #     \"params_list\": [{**model_params_base}],\n",
    "        #     \"use_clean_train_data\": True\n",
    "        # },\n",
    "        # {\n",
    "        #     \"model\": H2OAutoMLModel,\n",
    "        #     \"params_list\": [{**model_params_base}],\n",
    "        #     \"use_clean_train_data\": False\n",
    "        # },\n",
    "        # {\n",
    "        #     \"model\": H2OAutoMLModel,\n",
    "        #     \"params_list\": [{**model_params_base}],\n",
    "        #     \"use_clean_train_data\": True\n",
    "        # },\n",
    "        {\n",
    "            \"model\": AutoKerasModel,\n",
    "            \"params_list\": [{**model_params_base, \"augment\": False}],\n",
    "            \"use_clean_train_data\": False\n",
    "        },\n",
    "        {\n",
    "            \"model\": AutoKerasModel,\n",
    "            \"params_list\": [{**model_params_base, \"augment\": False}],\n",
    "            \"use_clean_train_data\": True\n",
    "        },\n",
    "        {\n",
    "            \"model\": AutoKerasModel,\n",
    "            \"params_list\": [{**model_params_base, \"augment\": True}],\n",
    "            \"use_clean_train_data\": False\n",
    "        },\n",
    "        {\n",
    "            \"model\": AutoKerasModel,\n",
    "            \"params_list\": [{**model_params_base, \"augment\": True}],\n",
    "            \"use_clean_train_data\": True\n",
    "        },\n",
    "    ]"
   ]
  },
  {
   "cell_type": "markdown",
   "metadata": {
    "collapsed": false,
    "papermill": {
     "duration": 0.017616,
     "end_time": "2019-11-25T05:01:35.906201",
     "exception": false,
     "start_time": "2019-11-25T05:01:35.888585",
     "status": "completed"
    },
    "pycharm": {
     "is_executing": false,
     "name": "#%% md\n"
    },
    "tags": []
   },
   "source": []
  },
  {
   "cell_type": "code",
   "execution_count": 9,
   "metadata": {
    "collapsed": false,
    "papermill": {
     "duration": 0.028247,
     "end_time": "2019-11-25T05:01:35.950818",
     "exception": false,
     "start_time": "2019-11-25T05:01:35.922571",
     "status": "completed"
    },
    "pycharm": {
     "is_executing": false,
     "name": "#%%\n"
    },
    "tags": []
   },
   "outputs": [],
   "source": [
    "def visualize(df):\n",
    "    visualize_scores(\n",
    "        df,\n",
    "        score_names=[\"test_acc\", \"train_acc\"],\n",
    "        is_higher_score_better=[True, True],\n",
    "        # err_param_name=\"max_angle\",\n",
    "        err_param_name=\"std\",\n",
    "        title=\"Classification scores with added error\"\n",
    "    )\n",
    "    plt.show()"
   ]
  },
  {
   "cell_type": "markdown",
   "metadata": {
    "collapsed": false,
    "papermill": {
     "duration": 0.016225,
     "end_time": "2019-11-25T05:01:35.983713",
     "exception": false,
     "start_time": "2019-11-25T05:01:35.967488",
     "status": "completed"
    },
    "pycharm": {
     "is_executing": false,
     "name": "#%% md\n"
    },
    "tags": []
   },
   "source": []
  },
  {
   "cell_type": "code",
   "execution_count": 10,
   "metadata": {
    "collapsed": false,
    "papermill": {
     "duration": 246287.504864,
     "end_time": "2019-11-28T01:26:23.505002",
     "exception": false,
     "start_time": "2019-11-25T05:01:36.000138",
     "status": "completed"
    },
    "pycharm": {
     "is_executing": false,
     "name": "#%%\n"
    },
    "tags": []
   },
   "outputs": [
    {
     "name": "stderr",
     "output_type": "stream",
     "text": [
      "\r",
      "  0%|          | 0/6 [00:00<?, ?it/s]"
     ]
    },
    {
     "name": "stdout",
     "output_type": "stream",
     "text": [
      "<class 'autokeras.image.image_supervised.ImageClassifier'>"
     ]
    },
    {
     "name": "stdout",
     "output_type": "stream",
     "text": [
      "\n"
     ]
    },
    {
     "name": "stdout",
     "output_type": "stream",
     "text": [
      "0.988"
     ]
    },
    {
     "name": "stdout",
     "output_type": "stream",
     "text": [
      "\n"
     ]
    },
    {
     "name": "stdout",
     "output_type": "stream",
     "text": [
      "<class 'autokeras.image.image_supervised.ImageClassifier'>"
     ]
    },
    {
     "name": "stdout",
     "output_type": "stream",
     "text": [
      "\n"
     ]
    },
    {
     "name": "stdout",
     "output_type": "stream",
     "text": [
      "0.988"
     ]
    },
    {
     "name": "stdout",
     "output_type": "stream",
     "text": [
      "\n"
     ]
    },
    {
     "name": "stdout",
     "output_type": "stream",
     "text": [
      "\n"
     ]
    },
    {
     "name": "stdout",
     "output_type": "stream",
     "text": [
      "121.37 minutes have elapsed. TPOT will close down.\n",
      "TPOT closed during evaluation in one generation.\n",
      "WARNING: TPOT may not provide a good pipeline if TPOT is stopped/interrupted in a early generation."
     ]
    },
    {
     "name": "stdout",
     "output_type": "stream",
     "text": [
      "\n"
     ]
    },
    {
     "name": "stdout",
     "output_type": "stream",
     "text": [
      "\n"
     ]
    },
    {
     "name": "stdout",
     "output_type": "stream",
     "text": [
      "\n",
      "TPOT closed prematurely. Will use the current best pipeline."
     ]
    },
    {
     "name": "stdout",
     "output_type": "stream",
     "text": [
      "\n"
     ]
    },
    {
     "name": "stdout",
     "output_type": "stream",
     "text": [
      "Best pipeline:"
     ]
    },
    {
     "name": "stdout",
     "output_type": "stream",
     "text": [
      " "
     ]
    },
    {
     "name": "stdout",
     "output_type": "stream",
     "text": [
      "KNeighborsClassifier(GradientBoostingClassifier(LinearSVC(DecisionTreeClassifier(PCA(input_matrix, iterated_power=6, svd_solver=randomized), criterion=gini, max_depth=6, min_samples_leaf=10, min_samples_split=2), C=25.0, dual=True, loss=squared_hinge, penalty=l2, tol=0.01), learning_rate=0.001, max_depth=8, max_features=0.35000000000000003, min_samples_leaf=1, min_samples_split=13, n_estimators=100, subsample=1.0), n_neighbors=4, p=2, weights=distance)"
     ]
    },
    {
     "name": "stdout",
     "output_type": "stream",
     "text": [
      "\n"
     ]
    },
    {
     "name": "stdout",
     "output_type": "stream",
     "text": [
      "<class 'tpot.tpot.TPOTClassifier'>"
     ]
    },
    {
     "name": "stdout",
     "output_type": "stream",
     "text": [
      "\n"
     ]
    },
    {
     "name": "stdout",
     "output_type": "stream",
     "text": [
      "0.984"
     ]
    },
    {
     "name": "stdout",
     "output_type": "stream",
     "text": [
      "\n"
     ]
    },
    {
     "name": "stdout",
     "output_type": "stream",
     "text": [
      "\n"
     ]
    },
    {
     "name": "stdout",
     "output_type": "stream",
     "text": [
      "120.94 minutes have elapsed. TPOT will close down.\n",
      "TPOT closed during evaluation in one generation.\n",
      "WARNING: TPOT may not provide a good pipeline if TPOT is stopped/interrupted in a early generation."
     ]
    },
    {
     "name": "stdout",
     "output_type": "stream",
     "text": [
      "\n"
     ]
    },
    {
     "name": "stdout",
     "output_type": "stream",
     "text": [
      "\n"
     ]
    },
    {
     "name": "stdout",
     "output_type": "stream",
     "text": [
      "\n",
      "TPOT closed prematurely. Will use the current best pipeline."
     ]
    },
    {
     "name": "stdout",
     "output_type": "stream",
     "text": [
      "\n"
     ]
    },
    {
     "name": "stdout",
     "output_type": "stream",
     "text": [
      "Best pipeline:"
     ]
    },
    {
     "name": "stdout",
     "output_type": "stream",
     "text": [
      " "
     ]
    },
    {
     "name": "stdout",
     "output_type": "stream",
     "text": [
      "KNeighborsClassifier(GradientBoostingClassifier(LinearSVC(DecisionTreeClassifier(PCA(input_matrix, iterated_power=6, svd_solver=randomized), criterion=gini, max_depth=6, min_samples_leaf=10, min_samples_split=2), C=25.0, dual=True, loss=squared_hinge, penalty=l2, tol=0.01), learning_rate=0.001, max_depth=8, max_features=0.35000000000000003, min_samples_leaf=1, min_samples_split=13, n_estimators=100, subsample=1.0), n_neighbors=4, p=2, weights=distance)"
     ]
    },
    {
     "name": "stdout",
     "output_type": "stream",
     "text": [
      "\n"
     ]
    },
    {
     "name": "stdout",
     "output_type": "stream",
     "text": [
      "<class 'tpot.tpot.TPOTClassifier'>"
     ]
    },
    {
     "name": "stdout",
     "output_type": "stream",
     "text": [
      "\n"
     ]
    },
    {
     "name": "stdout",
     "output_type": "stream",
     "text": [
      "0.984"
     ]
    },
    {
     "name": "stdout",
     "output_type": "stream",
     "text": [
      "\n"
     ]
    },
    {
     "name": "stdout",
     "output_type": "stream",
     "text": [
      "Checking whether there is an H2O instance running at http://localhost:54321 "
     ]
    },
    {
     "name": "stdout",
     "output_type": "stream",
     "text": [
      "."
     ]
    },
    {
     "name": "stdout",
     "output_type": "stream",
     "text": [
      "."
     ]
    },
    {
     "name": "stdout",
     "output_type": "stream",
     "text": [
      "."
     ]
    },
    {
     "name": "stdout",
     "output_type": "stream",
     "text": [
      "."
     ]
    },
    {
     "name": "stdout",
     "output_type": "stream",
     "text": [
      "."
     ]
    },
    {
     "name": "stdout",
     "output_type": "stream",
     "text": [
      " not found."
     ]
    },
    {
     "name": "stdout",
     "output_type": "stream",
     "text": [
      "\n"
     ]
    },
    {
     "name": "stdout",
     "output_type": "stream",
     "text": [
      "Attempting to start a local H2O server..."
     ]
    },
    {
     "name": "stdout",
     "output_type": "stream",
     "text": [
      "\n"
     ]
    },
    {
     "name": "stdout",
     "output_type": "stream",
     "text": [
      "  Java Version: openjdk version \"11.0.2\" 2019-01-15; OpenJDK Runtime Environment 18.9 (build 11.0.2+9); OpenJDK 64-Bit Server VM 18.9 (build 11.0.2+9, mixed mode)"
     ]
    },
    {
     "name": "stdout",
     "output_type": "stream",
     "text": [
      "\n"
     ]
    },
    {
     "name": "stdout",
     "output_type": "stream",
     "text": [
      "  Starting server from /wrk/users/thalvari/dpEmu-AutoML/venv/lib/python3.6/site-packages/h2o/backend/bin/h2o.jar"
     ]
    },
    {
     "name": "stdout",
     "output_type": "stream",
     "text": [
      "\n"
     ]
    },
    {
     "name": "stdout",
     "output_type": "stream",
     "text": [
      "  Ice root: /wrk/users/thalvari/tmpb9rma0km"
     ]
    },
    {
     "name": "stdout",
     "output_type": "stream",
     "text": [
      "\n"
     ]
    },
    {
     "name": "stdout",
     "output_type": "stream",
     "text": [
      "  JVM stdout: /wrk/users/thalvari/tmpb9rma0km/h2o_thalvari_started_from_python.out"
     ]
    },
    {
     "name": "stdout",
     "output_type": "stream",
     "text": [
      "\n"
     ]
    },
    {
     "name": "stdout",
     "output_type": "stream",
     "text": [
      "  JVM stderr: /wrk/users/thalvari/tmpb9rma0km/h2o_thalvari_started_from_python.err"
     ]
    },
    {
     "name": "stdout",
     "output_type": "stream",
     "text": [
      "\n"
     ]
    },
    {
     "name": "stdout",
     "output_type": "stream",
     "text": [
      "  Server is running at http://127.0.0.1:54321"
     ]
    },
    {
     "name": "stdout",
     "output_type": "stream",
     "text": [
      "\n"
     ]
    },
    {
     "name": "stdout",
     "output_type": "stream",
     "text": [
      "Connecting to H2O server at http://127.0.0.1:54321 .."
     ]
    },
    {
     "name": "stdout",
     "output_type": "stream",
     "text": [
      "."
     ]
    },
    {
     "name": "stdout",
     "output_type": "stream",
     "text": [
      " successful."
     ]
    },
    {
     "name": "stdout",
     "output_type": "stream",
     "text": [
      "\n"
     ]
    },
    {
     "data": {
      "text/html": [
       "<div style=\"overflow:auto\"><table style=\"width:50%\"><tr><td>H2O cluster uptime:</td>\n",
       "<td>01 secs</td></tr>\n",
       "<tr><td>H2O cluster timezone:</td>\n",
       "<td>Europe/Helsinki</td></tr>\n",
       "<tr><td>H2O data parsing timezone:</td>\n",
       "<td>UTC</td></tr>\n",
       "<tr><td>H2O cluster version:</td>\n",
       "<td>3.26.0.10</td></tr>\n",
       "<tr><td>H2O cluster version age:</td>\n",
       "<td>18 days </td></tr>\n",
       "<tr><td>H2O cluster name:</td>\n",
       "<td>#607688881</td></tr>\n",
       "<tr><td>H2O cluster total nodes:</td>\n",
       "<td>1</td></tr>\n",
       "<tr><td>H2O cluster free memory:</td>\n",
       "<td>29.97 Gb</td></tr>\n",
       "<tr><td>H2O cluster total cores:</td>\n",
       "<td>40</td></tr>\n",
       "<tr><td>H2O cluster allowed cores:</td>\n",
       "<td>20</td></tr>\n",
       "<tr><td>H2O cluster status:</td>\n",
       "<td>accepting new members, healthy</td></tr>\n",
       "<tr><td>H2O connection url:</td>\n",
       "<td>http://127.0.0.1:54321</td></tr>\n",
       "<tr><td>H2O connection proxy:</td>\n",
       "<td>{'http': None, 'https': None}</td></tr>\n",
       "<tr><td>H2O internal security:</td>\n",
       "<td>False</td></tr>\n",
       "<tr><td>H2O API Extensions:</td>\n",
       "<td>Amazon S3, XGBoost, Algos, AutoML, Core V3, TargetEncoder, Core V4</td></tr>\n",
       "<tr><td>Python version:</td>\n",
       "<td>3.6.6 final</td></tr></table></div>"
      ],
      "text/plain": [
       "--------------------------  ------------------------------------------------------------------\n",
       "H2O cluster uptime:         01 secs\n",
       "H2O cluster timezone:       Europe/Helsinki\n",
       "H2O data parsing timezone:  UTC\n",
       "H2O cluster version:        3.26.0.10\n",
       "H2O cluster version age:    18 days\n",
       "H2O cluster name:           #607688881\n",
       "H2O cluster total nodes:    1\n",
       "H2O cluster free memory:    29.97 Gb\n",
       "H2O cluster total cores:    40\n",
       "H2O cluster allowed cores:  20\n",
       "H2O cluster status:         accepting new members, healthy\n",
       "H2O connection url:         http://127.0.0.1:54321\n",
       "H2O connection proxy:       {'http': None, 'https': None}\n",
       "H2O internal security:      False\n",
       "H2O API Extensions:         Amazon S3, XGBoost, Algos, AutoML, Core V3, TargetEncoder, Core V4\n",
       "Python version:             3.6.6 final\n",
       "--------------------------  ------------------------------------------------------------------"
      ]
     },
     "metadata": {},
     "output_type": "display_data"
    },
    {
     "name": "stdout",
     "output_type": "stream",
     "text": [
      "H2O session _sid_963a closed."
     ]
    },
    {
     "name": "stdout",
     "output_type": "stream",
     "text": [
      "\n"
     ]
    },
    {
     "name": "stdout",
     "output_type": "stream",
     "text": [
      "<class 'h2o.automl.autoh2o.H2OAutoML'>"
     ]
    },
    {
     "name": "stdout",
     "output_type": "stream",
     "text": [
      "\n"
     ]
    },
    {
     "name": "stdout",
     "output_type": "stream",
     "text": [
      "0.977"
     ]
    },
    {
     "name": "stdout",
     "output_type": "stream",
     "text": [
      "\n"
     ]
    },
    {
     "name": "stdout",
     "output_type": "stream",
     "text": [
      "Checking whether there is an H2O instance running at http://localhost:54321 "
     ]
    },
    {
     "name": "stdout",
     "output_type": "stream",
     "text": [
      "."
     ]
    },
    {
     "name": "stdout",
     "output_type": "stream",
     "text": [
      "."
     ]
    },
    {
     "name": "stdout",
     "output_type": "stream",
     "text": [
      "."
     ]
    },
    {
     "name": "stdout",
     "output_type": "stream",
     "text": [
      "."
     ]
    },
    {
     "name": "stdout",
     "output_type": "stream",
     "text": [
      "."
     ]
    },
    {
     "name": "stdout",
     "output_type": "stream",
     "text": [
      " not found."
     ]
    },
    {
     "name": "stdout",
     "output_type": "stream",
     "text": [
      "\n"
     ]
    },
    {
     "name": "stdout",
     "output_type": "stream",
     "text": [
      "Attempting to start a local H2O server..."
     ]
    },
    {
     "name": "stdout",
     "output_type": "stream",
     "text": [
      "\n"
     ]
    },
    {
     "name": "stdout",
     "output_type": "stream",
     "text": [
      "  Java Version: openjdk version \"11.0.2\" 2019-01-15; OpenJDK Runtime Environment 18.9 (build 11.0.2+9); OpenJDK 64-Bit Server VM 18.9 (build 11.0.2+9, mixed mode)"
     ]
    },
    {
     "name": "stdout",
     "output_type": "stream",
     "text": [
      "\n"
     ]
    },
    {
     "name": "stdout",
     "output_type": "stream",
     "text": [
      "  Starting server from /wrk/users/thalvari/dpEmu-AutoML/venv/lib/python3.6/site-packages/h2o/backend/bin/h2o.jar"
     ]
    },
    {
     "name": "stdout",
     "output_type": "stream",
     "text": [
      "\n"
     ]
    },
    {
     "name": "stdout",
     "output_type": "stream",
     "text": [
      "  Ice root: /wrk/users/thalvari/tmp_ohkpm86"
     ]
    },
    {
     "name": "stdout",
     "output_type": "stream",
     "text": [
      "\n"
     ]
    },
    {
     "name": "stdout",
     "output_type": "stream",
     "text": [
      "  JVM stdout: /wrk/users/thalvari/tmp_ohkpm86/h2o_thalvari_started_from_python.out"
     ]
    },
    {
     "name": "stdout",
     "output_type": "stream",
     "text": [
      "\n"
     ]
    },
    {
     "name": "stdout",
     "output_type": "stream",
     "text": [
      "  JVM stderr: /wrk/users/thalvari/tmp_ohkpm86/h2o_thalvari_started_from_python.err"
     ]
    },
    {
     "name": "stdout",
     "output_type": "stream",
     "text": [
      "\n"
     ]
    },
    {
     "name": "stdout",
     "output_type": "stream",
     "text": [
      "  Server is running at http://127.0.0.1:54321"
     ]
    },
    {
     "name": "stdout",
     "output_type": "stream",
     "text": [
      "\n"
     ]
    },
    {
     "name": "stdout",
     "output_type": "stream",
     "text": [
      "Connecting to H2O server at http://127.0.0.1:54321 .."
     ]
    },
    {
     "name": "stdout",
     "output_type": "stream",
     "text": [
      "."
     ]
    },
    {
     "name": "stdout",
     "output_type": "stream",
     "text": [
      " successful."
     ]
    },
    {
     "name": "stdout",
     "output_type": "stream",
     "text": [
      "\n"
     ]
    },
    {
     "data": {
      "text/html": [
       "<div style=\"overflow:auto\"><table style=\"width:50%\"><tr><td>H2O cluster uptime:</td>\n",
       "<td>01 secs</td></tr>\n",
       "<tr><td>H2O cluster timezone:</td>\n",
       "<td>Europe/Helsinki</td></tr>\n",
       "<tr><td>H2O data parsing timezone:</td>\n",
       "<td>UTC</td></tr>\n",
       "<tr><td>H2O cluster version:</td>\n",
       "<td>3.26.0.10</td></tr>\n",
       "<tr><td>H2O cluster version age:</td>\n",
       "<td>18 days </td></tr>\n",
       "<tr><td>H2O cluster name:</td>\n",
       "<td>#582095319</td></tr>\n",
       "<tr><td>H2O cluster total nodes:</td>\n",
       "<td>1</td></tr>\n",
       "<tr><td>H2O cluster free memory:</td>\n",
       "<td>29.97 Gb</td></tr>\n",
       "<tr><td>H2O cluster total cores:</td>\n",
       "<td>40</td></tr>\n",
       "<tr><td>H2O cluster allowed cores:</td>\n",
       "<td>20</td></tr>\n",
       "<tr><td>H2O cluster status:</td>\n",
       "<td>accepting new members, healthy</td></tr>\n",
       "<tr><td>H2O connection url:</td>\n",
       "<td>http://127.0.0.1:54321</td></tr>\n",
       "<tr><td>H2O connection proxy:</td>\n",
       "<td>{'http': None, 'https': None}</td></tr>\n",
       "<tr><td>H2O internal security:</td>\n",
       "<td>False</td></tr>\n",
       "<tr><td>H2O API Extensions:</td>\n",
       "<td>Amazon S3, XGBoost, Algos, AutoML, Core V3, TargetEncoder, Core V4</td></tr>\n",
       "<tr><td>Python version:</td>\n",
       "<td>3.6.6 final</td></tr></table></div>"
      ],
      "text/plain": [
       "--------------------------  ------------------------------------------------------------------\n",
       "H2O cluster uptime:         01 secs\n",
       "H2O cluster timezone:       Europe/Helsinki\n",
       "H2O data parsing timezone:  UTC\n",
       "H2O cluster version:        3.26.0.10\n",
       "H2O cluster version age:    18 days\n",
       "H2O cluster name:           #582095319\n",
       "H2O cluster total nodes:    1\n",
       "H2O cluster free memory:    29.97 Gb\n",
       "H2O cluster total cores:    40\n",
       "H2O cluster allowed cores:  20\n",
       "H2O cluster status:         accepting new members, healthy\n",
       "H2O connection url:         http://127.0.0.1:54321\n",
       "H2O connection proxy:       {'http': None, 'https': None}\n",
       "H2O internal security:      False\n",
       "H2O API Extensions:         Amazon S3, XGBoost, Algos, AutoML, Core V3, TargetEncoder, Core V4\n",
       "Python version:             3.6.6 final\n",
       "--------------------------  ------------------------------------------------------------------"
      ]
     },
     "metadata": {},
     "output_type": "display_data"
    },
    {
     "name": "stdout",
     "output_type": "stream",
     "text": [
      "H2O session _sid_8480 closed."
     ]
    },
    {
     "name": "stdout",
     "output_type": "stream",
     "text": [
      "\n"
     ]
    },
    {
     "name": "stdout",
     "output_type": "stream",
     "text": [
      "<class 'h2o.automl.autoh2o.H2OAutoML'>"
     ]
    },
    {
     "name": "stdout",
     "output_type": "stream",
     "text": [
      "\n"
     ]
    },
    {
     "name": "stdout",
     "output_type": "stream",
     "text": [
      "0.981"
     ]
    },
    {
     "name": "stdout",
     "output_type": "stream",
     "text": [
      "\n"
     ]
    },
    {
     "name": "stderr",
     "output_type": "stream",
     "text": [
      "\r",
      " 17%|█▋        | 1/6 [11:36:53<58:04:26, 41813.39s/it]"
     ]
    },
    {
     "name": "stdout",
     "output_type": "stream",
     "text": [
      "<class 'autokeras.image.image_supervised.ImageClassifier'>"
     ]
    },
    {
     "name": "stdout",
     "output_type": "stream",
     "text": [
      "\n"
     ]
    },
    {
     "name": "stdout",
     "output_type": "stream",
     "text": [
      "0.903"
     ]
    },
    {
     "name": "stdout",
     "output_type": "stream",
     "text": [
      "\n"
     ]
    },
    {
     "name": "stdout",
     "output_type": "stream",
     "text": [
      "<class 'autokeras.image.image_supervised.ImageClassifier'>"
     ]
    },
    {
     "name": "stdout",
     "output_type": "stream",
     "text": [
      "\n"
     ]
    },
    {
     "name": "stdout",
     "output_type": "stream",
     "text": [
      "0.949"
     ]
    },
    {
     "name": "stdout",
     "output_type": "stream",
     "text": [
      "\n"
     ]
    },
    {
     "name": "stdout",
     "output_type": "stream",
     "text": [
      "\n"
     ]
    },
    {
     "name": "stdout",
     "output_type": "stream",
     "text": [
      "121.40 minutes have elapsed. TPOT will close down.\n",
      "TPOT closed during evaluation in one generation.\n",
      "WARNING: TPOT may not provide a good pipeline if TPOT is stopped/interrupted in a early generation."
     ]
    },
    {
     "name": "stdout",
     "output_type": "stream",
     "text": [
      "\n"
     ]
    },
    {
     "name": "stdout",
     "output_type": "stream",
     "text": [
      "\n"
     ]
    },
    {
     "name": "stdout",
     "output_type": "stream",
     "text": [
      "\n",
      "TPOT closed prematurely. Will use the current best pipeline."
     ]
    },
    {
     "name": "stdout",
     "output_type": "stream",
     "text": [
      "\n"
     ]
    },
    {
     "name": "stdout",
     "output_type": "stream",
     "text": [
      "Best pipeline:"
     ]
    },
    {
     "name": "stdout",
     "output_type": "stream",
     "text": [
      " "
     ]
    },
    {
     "name": "stdout",
     "output_type": "stream",
     "text": [
      "KNeighborsClassifier(DecisionTreeClassifier(SGDClassifier(SelectFwe(ZeroCount(ExtraTreesClassifier(input_matrix, bootstrap=True, criterion=entropy, max_features=0.6500000000000001, min_samples_leaf=12, min_samples_split=9, n_estimators=100)), alpha=0.017), alpha=0.0, eta0=0.01, fit_intercept=False, l1_ratio=0.0, learning_rate=constant, loss=perceptron, penalty=elasticnet, power_t=0.5), criterion=entropy, max_depth=9, min_samples_leaf=4, min_samples_split=3), n_neighbors=3, p=2, weights=distance)"
     ]
    },
    {
     "name": "stdout",
     "output_type": "stream",
     "text": [
      "\n"
     ]
    },
    {
     "name": "stdout",
     "output_type": "stream",
     "text": [
      "<class 'tpot.tpot.TPOTClassifier'>"
     ]
    },
    {
     "name": "stdout",
     "output_type": "stream",
     "text": [
      "\n"
     ]
    },
    {
     "name": "stdout",
     "output_type": "stream",
     "text": [
      "0.957"
     ]
    },
    {
     "name": "stdout",
     "output_type": "stream",
     "text": [
      "\n"
     ]
    },
    {
     "name": "stdout",
     "output_type": "stream",
     "text": [
      "\n"
     ]
    },
    {
     "name": "stdout",
     "output_type": "stream",
     "text": [
      "122.29 minutes have elapsed. TPOT will close down.\n",
      "TPOT closed during evaluation in one generation.\n",
      "WARNING: TPOT may not provide a good pipeline if TPOT is stopped/interrupted in a early generation."
     ]
    },
    {
     "name": "stdout",
     "output_type": "stream",
     "text": [
      "\n"
     ]
    },
    {
     "name": "stdout",
     "output_type": "stream",
     "text": [
      "\n"
     ]
    },
    {
     "name": "stdout",
     "output_type": "stream",
     "text": [
      "\n",
      "TPOT closed prematurely. Will use the current best pipeline."
     ]
    },
    {
     "name": "stdout",
     "output_type": "stream",
     "text": [
      "\n"
     ]
    },
    {
     "name": "stdout",
     "output_type": "stream",
     "text": [
      "Best pipeline:"
     ]
    },
    {
     "name": "stdout",
     "output_type": "stream",
     "text": [
      " "
     ]
    },
    {
     "name": "stdout",
     "output_type": "stream",
     "text": [
      "KNeighborsClassifier(GradientBoostingClassifier(LinearSVC(DecisionTreeClassifier(PCA(input_matrix, iterated_power=6, svd_solver=randomized), criterion=gini, max_depth=6, min_samples_leaf=10, min_samples_split=2), C=25.0, dual=True, loss=squared_hinge, penalty=l2, tol=0.01), learning_rate=0.001, max_depth=8, max_features=0.35000000000000003, min_samples_leaf=1, min_samples_split=13, n_estimators=100, subsample=1.0), n_neighbors=4, p=2, weights=distance)"
     ]
    },
    {
     "name": "stdout",
     "output_type": "stream",
     "text": [
      "\n"
     ]
    },
    {
     "name": "stdout",
     "output_type": "stream",
     "text": [
      "<class 'tpot.tpot.TPOTClassifier'>"
     ]
    },
    {
     "name": "stdout",
     "output_type": "stream",
     "text": [
      "\n"
     ]
    },
    {
     "name": "stdout",
     "output_type": "stream",
     "text": [
      "0.965"
     ]
    },
    {
     "name": "stdout",
     "output_type": "stream",
     "text": [
      "\n"
     ]
    },
    {
     "name": "stdout",
     "output_type": "stream",
     "text": [
      "Checking whether there is an H2O instance running at http://localhost:54321 "
     ]
    },
    {
     "name": "stdout",
     "output_type": "stream",
     "text": [
      "."
     ]
    },
    {
     "name": "stdout",
     "output_type": "stream",
     "text": [
      "."
     ]
    },
    {
     "name": "stdout",
     "output_type": "stream",
     "text": [
      "."
     ]
    },
    {
     "name": "stdout",
     "output_type": "stream",
     "text": [
      "."
     ]
    },
    {
     "name": "stdout",
     "output_type": "stream",
     "text": [
      "."
     ]
    },
    {
     "name": "stdout",
     "output_type": "stream",
     "text": [
      " not found."
     ]
    },
    {
     "name": "stdout",
     "output_type": "stream",
     "text": [
      "\n"
     ]
    },
    {
     "name": "stdout",
     "output_type": "stream",
     "text": [
      "Attempting to start a local H2O server..."
     ]
    },
    {
     "name": "stdout",
     "output_type": "stream",
     "text": [
      "\n"
     ]
    },
    {
     "name": "stdout",
     "output_type": "stream",
     "text": [
      "  Java Version: openjdk version \"11.0.2\" 2019-01-15; OpenJDK Runtime Environment 18.9 (build 11.0.2+9); OpenJDK 64-Bit Server VM 18.9 (build 11.0.2+9, mixed mode)"
     ]
    },
    {
     "name": "stdout",
     "output_type": "stream",
     "text": [
      "\n"
     ]
    },
    {
     "name": "stdout",
     "output_type": "stream",
     "text": [
      "  Starting server from /wrk/users/thalvari/dpEmu-AutoML/venv/lib/python3.6/site-packages/h2o/backend/bin/h2o.jar"
     ]
    },
    {
     "name": "stdout",
     "output_type": "stream",
     "text": [
      "\n"
     ]
    },
    {
     "name": "stdout",
     "output_type": "stream",
     "text": [
      "  Ice root: /wrk/users/thalvari/tmpnjczvfcb"
     ]
    },
    {
     "name": "stdout",
     "output_type": "stream",
     "text": [
      "\n"
     ]
    },
    {
     "name": "stdout",
     "output_type": "stream",
     "text": [
      "  JVM stdout: /wrk/users/thalvari/tmpnjczvfcb/h2o_thalvari_started_from_python.out"
     ]
    },
    {
     "name": "stdout",
     "output_type": "stream",
     "text": [
      "\n"
     ]
    },
    {
     "name": "stdout",
     "output_type": "stream",
     "text": [
      "  JVM stderr: /wrk/users/thalvari/tmpnjczvfcb/h2o_thalvari_started_from_python.err"
     ]
    },
    {
     "name": "stdout",
     "output_type": "stream",
     "text": [
      "\n"
     ]
    },
    {
     "name": "stdout",
     "output_type": "stream",
     "text": [
      "  Server is running at http://127.0.0.1:54321"
     ]
    },
    {
     "name": "stdout",
     "output_type": "stream",
     "text": [
      "\n"
     ]
    },
    {
     "name": "stdout",
     "output_type": "stream",
     "text": [
      "Connecting to H2O server at http://127.0.0.1:54321 .."
     ]
    },
    {
     "name": "stdout",
     "output_type": "stream",
     "text": [
      "."
     ]
    },
    {
     "name": "stdout",
     "output_type": "stream",
     "text": [
      " successful."
     ]
    },
    {
     "name": "stdout",
     "output_type": "stream",
     "text": [
      "\n"
     ]
    },
    {
     "data": {
      "text/html": [
       "<div style=\"overflow:auto\"><table style=\"width:50%\"><tr><td>H2O cluster uptime:</td>\n",
       "<td>01 secs</td></tr>\n",
       "<tr><td>H2O cluster timezone:</td>\n",
       "<td>Europe/Helsinki</td></tr>\n",
       "<tr><td>H2O data parsing timezone:</td>\n",
       "<td>UTC</td></tr>\n",
       "<tr><td>H2O cluster version:</td>\n",
       "<td>3.26.0.10</td></tr>\n",
       "<tr><td>H2O cluster version age:</td>\n",
       "<td>18 days </td></tr>\n",
       "<tr><td>H2O cluster name:</td>\n",
       "<td>#318026512</td></tr>\n",
       "<tr><td>H2O cluster total nodes:</td>\n",
       "<td>1</td></tr>\n",
       "<tr><td>H2O cluster free memory:</td>\n",
       "<td>29.97 Gb</td></tr>\n",
       "<tr><td>H2O cluster total cores:</td>\n",
       "<td>40</td></tr>\n",
       "<tr><td>H2O cluster allowed cores:</td>\n",
       "<td>20</td></tr>\n",
       "<tr><td>H2O cluster status:</td>\n",
       "<td>accepting new members, healthy</td></tr>\n",
       "<tr><td>H2O connection url:</td>\n",
       "<td>http://127.0.0.1:54321</td></tr>\n",
       "<tr><td>H2O connection proxy:</td>\n",
       "<td>{'http': None, 'https': None}</td></tr>\n",
       "<tr><td>H2O internal security:</td>\n",
       "<td>False</td></tr>\n",
       "<tr><td>H2O API Extensions:</td>\n",
       "<td>Amazon S3, XGBoost, Algos, AutoML, Core V3, TargetEncoder, Core V4</td></tr>\n",
       "<tr><td>Python version:</td>\n",
       "<td>3.6.6 final</td></tr></table></div>"
      ],
      "text/plain": [
       "--------------------------  ------------------------------------------------------------------\n",
       "H2O cluster uptime:         01 secs\n",
       "H2O cluster timezone:       Europe/Helsinki\n",
       "H2O data parsing timezone:  UTC\n",
       "H2O cluster version:        3.26.0.10\n",
       "H2O cluster version age:    18 days\n",
       "H2O cluster name:           #318026512\n",
       "H2O cluster total nodes:    1\n",
       "H2O cluster free memory:    29.97 Gb\n",
       "H2O cluster total cores:    40\n",
       "H2O cluster allowed cores:  20\n",
       "H2O cluster status:         accepting new members, healthy\n",
       "H2O connection url:         http://127.0.0.1:54321\n",
       "H2O connection proxy:       {'http': None, 'https': None}\n",
       "H2O internal security:      False\n",
       "H2O API Extensions:         Amazon S3, XGBoost, Algos, AutoML, Core V3, TargetEncoder, Core V4\n",
       "Python version:             3.6.6 final\n",
       "--------------------------  ------------------------------------------------------------------"
      ]
     },
     "metadata": {},
     "output_type": "display_data"
    },
    {
     "name": "stdout",
     "output_type": "stream",
     "text": [
      "H2O session _sid_b625 closed."
     ]
    },
    {
     "name": "stdout",
     "output_type": "stream",
     "text": [
      "\n"
     ]
    },
    {
     "name": "stdout",
     "output_type": "stream",
     "text": [
      "<class 'h2o.automl.autoh2o.H2OAutoML'>"
     ]
    },
    {
     "name": "stdout",
     "output_type": "stream",
     "text": [
      "\n"
     ]
    },
    {
     "name": "stdout",
     "output_type": "stream",
     "text": [
      "0.938"
     ]
    },
    {
     "name": "stdout",
     "output_type": "stream",
     "text": [
      "\n"
     ]
    },
    {
     "name": "stdout",
     "output_type": "stream",
     "text": [
      "Checking whether there is an H2O instance running at http://localhost:54321 "
     ]
    },
    {
     "name": "stdout",
     "output_type": "stream",
     "text": [
      "."
     ]
    },
    {
     "name": "stdout",
     "output_type": "stream",
     "text": [
      "."
     ]
    },
    {
     "name": "stdout",
     "output_type": "stream",
     "text": [
      "."
     ]
    },
    {
     "name": "stdout",
     "output_type": "stream",
     "text": [
      "."
     ]
    },
    {
     "name": "stdout",
     "output_type": "stream",
     "text": [
      "."
     ]
    },
    {
     "name": "stdout",
     "output_type": "stream",
     "text": [
      " not found."
     ]
    },
    {
     "name": "stdout",
     "output_type": "stream",
     "text": [
      "\n"
     ]
    },
    {
     "name": "stdout",
     "output_type": "stream",
     "text": [
      "Attempting to start a local H2O server..."
     ]
    },
    {
     "name": "stdout",
     "output_type": "stream",
     "text": [
      "\n"
     ]
    },
    {
     "name": "stdout",
     "output_type": "stream",
     "text": [
      "  Java Version: openjdk version \"11.0.2\" 2019-01-15; OpenJDK Runtime Environment 18.9 (build 11.0.2+9); OpenJDK 64-Bit Server VM 18.9 (build 11.0.2+9, mixed mode)"
     ]
    },
    {
     "name": "stdout",
     "output_type": "stream",
     "text": [
      "\n"
     ]
    },
    {
     "name": "stdout",
     "output_type": "stream",
     "text": [
      "  Starting server from /wrk/users/thalvari/dpEmu-AutoML/venv/lib/python3.6/site-packages/h2o/backend/bin/h2o.jar"
     ]
    },
    {
     "name": "stdout",
     "output_type": "stream",
     "text": [
      "\n"
     ]
    },
    {
     "name": "stdout",
     "output_type": "stream",
     "text": [
      "  Ice root: /wrk/users/thalvari/tmpwv3p5deg"
     ]
    },
    {
     "name": "stdout",
     "output_type": "stream",
     "text": [
      "\n"
     ]
    },
    {
     "name": "stdout",
     "output_type": "stream",
     "text": [
      "  JVM stdout: /wrk/users/thalvari/tmpwv3p5deg/h2o_thalvari_started_from_python.out"
     ]
    },
    {
     "name": "stdout",
     "output_type": "stream",
     "text": [
      "\n"
     ]
    },
    {
     "name": "stdout",
     "output_type": "stream",
     "text": [
      "  JVM stderr: /wrk/users/thalvari/tmpwv3p5deg/h2o_thalvari_started_from_python.err"
     ]
    },
    {
     "name": "stdout",
     "output_type": "stream",
     "text": [
      "\n"
     ]
    },
    {
     "name": "stdout",
     "output_type": "stream",
     "text": [
      "  Server is running at http://127.0.0.1:54321"
     ]
    },
    {
     "name": "stdout",
     "output_type": "stream",
     "text": [
      "\n"
     ]
    },
    {
     "name": "stdout",
     "output_type": "stream",
     "text": [
      "Connecting to H2O server at http://127.0.0.1:54321 .."
     ]
    },
    {
     "name": "stdout",
     "output_type": "stream",
     "text": [
      "."
     ]
    },
    {
     "name": "stdout",
     "output_type": "stream",
     "text": [
      " successful."
     ]
    },
    {
     "name": "stdout",
     "output_type": "stream",
     "text": [
      "\n"
     ]
    },
    {
     "data": {
      "text/html": [
       "<div style=\"overflow:auto\"><table style=\"width:50%\"><tr><td>H2O cluster uptime:</td>\n",
       "<td>01 secs</td></tr>\n",
       "<tr><td>H2O cluster timezone:</td>\n",
       "<td>Europe/Helsinki</td></tr>\n",
       "<tr><td>H2O data parsing timezone:</td>\n",
       "<td>UTC</td></tr>\n",
       "<tr><td>H2O cluster version:</td>\n",
       "<td>3.26.0.10</td></tr>\n",
       "<tr><td>H2O cluster version age:</td>\n",
       "<td>18 days </td></tr>\n",
       "<tr><td>H2O cluster name:</td>\n",
       "<td>#251018392</td></tr>\n",
       "<tr><td>H2O cluster total nodes:</td>\n",
       "<td>1</td></tr>\n",
       "<tr><td>H2O cluster free memory:</td>\n",
       "<td>29.97 Gb</td></tr>\n",
       "<tr><td>H2O cluster total cores:</td>\n",
       "<td>40</td></tr>\n",
       "<tr><td>H2O cluster allowed cores:</td>\n",
       "<td>20</td></tr>\n",
       "<tr><td>H2O cluster status:</td>\n",
       "<td>accepting new members, healthy</td></tr>\n",
       "<tr><td>H2O connection url:</td>\n",
       "<td>http://127.0.0.1:54321</td></tr>\n",
       "<tr><td>H2O connection proxy:</td>\n",
       "<td>{'http': None, 'https': None}</td></tr>\n",
       "<tr><td>H2O internal security:</td>\n",
       "<td>False</td></tr>\n",
       "<tr><td>H2O API Extensions:</td>\n",
       "<td>Amazon S3, XGBoost, Algos, AutoML, Core V3, TargetEncoder, Core V4</td></tr>\n",
       "<tr><td>Python version:</td>\n",
       "<td>3.6.6 final</td></tr></table></div>"
      ],
      "text/plain": [
       "--------------------------  ------------------------------------------------------------------\n",
       "H2O cluster uptime:         01 secs\n",
       "H2O cluster timezone:       Europe/Helsinki\n",
       "H2O data parsing timezone:  UTC\n",
       "H2O cluster version:        3.26.0.10\n",
       "H2O cluster version age:    18 days\n",
       "H2O cluster name:           #251018392\n",
       "H2O cluster total nodes:    1\n",
       "H2O cluster free memory:    29.97 Gb\n",
       "H2O cluster total cores:    40\n",
       "H2O cluster allowed cores:  20\n",
       "H2O cluster status:         accepting new members, healthy\n",
       "H2O connection url:         http://127.0.0.1:54321\n",
       "H2O connection proxy:       {'http': None, 'https': None}\n",
       "H2O internal security:      False\n",
       "H2O API Extensions:         Amazon S3, XGBoost, Algos, AutoML, Core V3, TargetEncoder, Core V4\n",
       "Python version:             3.6.6 final\n",
       "--------------------------  ------------------------------------------------------------------"
      ]
     },
     "metadata": {},
     "output_type": "display_data"
    },
    {
     "name": "stdout",
     "output_type": "stream",
     "text": [
      "H2O session _sid_be51 closed."
     ]
    },
    {
     "name": "stdout",
     "output_type": "stream",
     "text": [
      "\n"
     ]
    },
    {
     "name": "stdout",
     "output_type": "stream",
     "text": [
      "<class 'h2o.automl.autoh2o.H2OAutoML'>"
     ]
    },
    {
     "name": "stdout",
     "output_type": "stream",
     "text": [
      "\n"
     ]
    },
    {
     "name": "stdout",
     "output_type": "stream",
     "text": [
      "0.837"
     ]
    },
    {
     "name": "stdout",
     "output_type": "stream",
     "text": [
      "\n"
     ]
    },
    {
     "name": "stderr",
     "output_type": "stream",
     "text": [
      "\r",
      " 33%|███▎      | 2/6 [23:33:15<46:50:56, 42164.05s/it]"
     ]
    },
    {
     "name": "stdout",
     "output_type": "stream",
     "text": [
      "<class 'autokeras.image.image_supervised.ImageClassifier'>"
     ]
    },
    {
     "name": "stdout",
     "output_type": "stream",
     "text": [
      "\n"
     ]
    },
    {
     "name": "stdout",
     "output_type": "stream",
     "text": [
      "0.72"
     ]
    },
    {
     "name": "stdout",
     "output_type": "stream",
     "text": [
      "\n"
     ]
    },
    {
     "name": "stdout",
     "output_type": "stream",
     "text": [
      "<class 'autokeras.image.image_supervised.ImageClassifier'>"
     ]
    },
    {
     "name": "stdout",
     "output_type": "stream",
     "text": [
      "\n"
     ]
    },
    {
     "name": "stdout",
     "output_type": "stream",
     "text": [
      "0.7"
     ]
    },
    {
     "name": "stdout",
     "output_type": "stream",
     "text": [
      "\n"
     ]
    },
    {
     "name": "stdout",
     "output_type": "stream",
     "text": [
      "\n"
     ]
    },
    {
     "name": "stdout",
     "output_type": "stream",
     "text": [
      "121.43 minutes have elapsed. TPOT will close down.\n",
      "TPOT closed during evaluation in one generation.\n",
      "WARNING: TPOT may not provide a good pipeline if TPOT is stopped/interrupted in a early generation."
     ]
    },
    {
     "name": "stdout",
     "output_type": "stream",
     "text": [
      "\n"
     ]
    },
    {
     "name": "stdout",
     "output_type": "stream",
     "text": [
      "\n"
     ]
    },
    {
     "name": "stdout",
     "output_type": "stream",
     "text": [
      "\n",
      "TPOT closed prematurely. Will use the current best pipeline."
     ]
    },
    {
     "name": "stdout",
     "output_type": "stream",
     "text": [
      "\n"
     ]
    },
    {
     "name": "stdout",
     "output_type": "stream",
     "text": [
      "Best pipeline:"
     ]
    },
    {
     "name": "stdout",
     "output_type": "stream",
     "text": [
      " "
     ]
    },
    {
     "name": "stdout",
     "output_type": "stream",
     "text": [
      "KNeighborsClassifier(SelectFwe(LinearSVC(SelectFwe(GradientBoostingClassifier(input_matrix, learning_rate=0.5, max_depth=9, max_features=0.8500000000000001, min_samples_leaf=13, min_samples_split=4, n_estimators=100, subsample=0.4), alpha=0.038), C=5.0, dual=False, loss=squared_hinge, penalty=l2, tol=0.1), alpha=0.019), n_neighbors=20, p=2, weights=distance)"
     ]
    },
    {
     "name": "stdout",
     "output_type": "stream",
     "text": [
      "\n"
     ]
    },
    {
     "name": "stdout",
     "output_type": "stream",
     "text": [
      "<class 'tpot.tpot.TPOTClassifier'>"
     ]
    },
    {
     "name": "stdout",
     "output_type": "stream",
     "text": [
      "\n"
     ]
    },
    {
     "name": "stdout",
     "output_type": "stream",
     "text": [
      "0.817"
     ]
    },
    {
     "name": "stdout",
     "output_type": "stream",
     "text": [
      "\n"
     ]
    },
    {
     "name": "stdout",
     "output_type": "stream",
     "text": [
      "\n"
     ]
    },
    {
     "name": "stdout",
     "output_type": "stream",
     "text": [
      "120.60 minutes have elapsed. TPOT will close down.\n",
      "TPOT closed during evaluation in one generation.\n",
      "WARNING: TPOT may not provide a good pipeline if TPOT is stopped/interrupted in a early generation."
     ]
    },
    {
     "name": "stdout",
     "output_type": "stream",
     "text": [
      "\n"
     ]
    },
    {
     "name": "stdout",
     "output_type": "stream",
     "text": [
      "\n"
     ]
    },
    {
     "name": "stdout",
     "output_type": "stream",
     "text": [
      "\n",
      "TPOT closed prematurely. Will use the current best pipeline."
     ]
    },
    {
     "name": "stdout",
     "output_type": "stream",
     "text": [
      "\n"
     ]
    },
    {
     "name": "stdout",
     "output_type": "stream",
     "text": [
      "Best pipeline:"
     ]
    },
    {
     "name": "stdout",
     "output_type": "stream",
     "text": [
      " "
     ]
    },
    {
     "name": "stdout",
     "output_type": "stream",
     "text": [
      "KNeighborsClassifier(GradientBoostingClassifier(LinearSVC(DecisionTreeClassifier(PCA(input_matrix, iterated_power=6, svd_solver=randomized), criterion=gini, max_depth=6, min_samples_leaf=10, min_samples_split=2), C=25.0, dual=True, loss=squared_hinge, penalty=l2, tol=0.01), learning_rate=0.001, max_depth=8, max_features=0.35000000000000003, min_samples_leaf=1, min_samples_split=13, n_estimators=100, subsample=1.0), n_neighbors=4, p=2, weights=distance)"
     ]
    },
    {
     "name": "stdout",
     "output_type": "stream",
     "text": [
      "\n"
     ]
    },
    {
     "name": "stdout",
     "output_type": "stream",
     "text": [
      "<class 'tpot.tpot.TPOTClassifier'>"
     ]
    },
    {
     "name": "stdout",
     "output_type": "stream",
     "text": [
      "\n"
     ]
    },
    {
     "name": "stdout",
     "output_type": "stream",
     "text": [
      "0.895"
     ]
    },
    {
     "name": "stdout",
     "output_type": "stream",
     "text": [
      "\n"
     ]
    },
    {
     "name": "stdout",
     "output_type": "stream",
     "text": [
      "Checking whether there is an H2O instance running at http://localhost:54321 "
     ]
    },
    {
     "name": "stdout",
     "output_type": "stream",
     "text": [
      "."
     ]
    },
    {
     "name": "stdout",
     "output_type": "stream",
     "text": [
      "."
     ]
    },
    {
     "name": "stdout",
     "output_type": "stream",
     "text": [
      "."
     ]
    },
    {
     "name": "stdout",
     "output_type": "stream",
     "text": [
      "."
     ]
    },
    {
     "name": "stdout",
     "output_type": "stream",
     "text": [
      "."
     ]
    },
    {
     "name": "stdout",
     "output_type": "stream",
     "text": [
      " not found."
     ]
    },
    {
     "name": "stdout",
     "output_type": "stream",
     "text": [
      "\n"
     ]
    },
    {
     "name": "stdout",
     "output_type": "stream",
     "text": [
      "Attempting to start a local H2O server..."
     ]
    },
    {
     "name": "stdout",
     "output_type": "stream",
     "text": [
      "\n"
     ]
    },
    {
     "name": "stdout",
     "output_type": "stream",
     "text": [
      "  Java Version: openjdk version \"11.0.2\" 2019-01-15; OpenJDK Runtime Environment 18.9 (build 11.0.2+9); OpenJDK 64-Bit Server VM 18.9 (build 11.0.2+9, mixed mode)"
     ]
    },
    {
     "name": "stdout",
     "output_type": "stream",
     "text": [
      "\n"
     ]
    },
    {
     "name": "stdout",
     "output_type": "stream",
     "text": [
      "  Starting server from /wrk/users/thalvari/dpEmu-AutoML/venv/lib/python3.6/site-packages/h2o/backend/bin/h2o.jar"
     ]
    },
    {
     "name": "stdout",
     "output_type": "stream",
     "text": [
      "\n"
     ]
    },
    {
     "name": "stdout",
     "output_type": "stream",
     "text": [
      "  Ice root: /wrk/users/thalvari/tmps6dd4aca"
     ]
    },
    {
     "name": "stdout",
     "output_type": "stream",
     "text": [
      "\n"
     ]
    },
    {
     "name": "stdout",
     "output_type": "stream",
     "text": [
      "  JVM stdout: /wrk/users/thalvari/tmps6dd4aca/h2o_thalvari_started_from_python.out"
     ]
    },
    {
     "name": "stdout",
     "output_type": "stream",
     "text": [
      "\n"
     ]
    },
    {
     "name": "stdout",
     "output_type": "stream",
     "text": [
      "  JVM stderr: /wrk/users/thalvari/tmps6dd4aca/h2o_thalvari_started_from_python.err"
     ]
    },
    {
     "name": "stdout",
     "output_type": "stream",
     "text": [
      "\n"
     ]
    },
    {
     "name": "stdout",
     "output_type": "stream",
     "text": [
      "  Server is running at http://127.0.0.1:54321"
     ]
    },
    {
     "name": "stdout",
     "output_type": "stream",
     "text": [
      "\n"
     ]
    },
    {
     "name": "stdout",
     "output_type": "stream",
     "text": [
      "Connecting to H2O server at http://127.0.0.1:54321 .."
     ]
    },
    {
     "name": "stdout",
     "output_type": "stream",
     "text": [
      "."
     ]
    },
    {
     "name": "stdout",
     "output_type": "stream",
     "text": [
      " successful."
     ]
    },
    {
     "name": "stdout",
     "output_type": "stream",
     "text": [
      "\n"
     ]
    },
    {
     "data": {
      "text/html": [
       "<div style=\"overflow:auto\"><table style=\"width:50%\"><tr><td>H2O cluster uptime:</td>\n",
       "<td>01 secs</td></tr>\n",
       "<tr><td>H2O cluster timezone:</td>\n",
       "<td>Europe/Helsinki</td></tr>\n",
       "<tr><td>H2O data parsing timezone:</td>\n",
       "<td>UTC</td></tr>\n",
       "<tr><td>H2O cluster version:</td>\n",
       "<td>3.26.0.10</td></tr>\n",
       "<tr><td>H2O cluster version age:</td>\n",
       "<td>19 days </td></tr>\n",
       "<tr><td>H2O cluster name:</td>\n",
       "<td>#537623994</td></tr>\n",
       "<tr><td>H2O cluster total nodes:</td>\n",
       "<td>1</td></tr>\n",
       "<tr><td>H2O cluster free memory:</td>\n",
       "<td>29.97 Gb</td></tr>\n",
       "<tr><td>H2O cluster total cores:</td>\n",
       "<td>40</td></tr>\n",
       "<tr><td>H2O cluster allowed cores:</td>\n",
       "<td>20</td></tr>\n",
       "<tr><td>H2O cluster status:</td>\n",
       "<td>accepting new members, healthy</td></tr>\n",
       "<tr><td>H2O connection url:</td>\n",
       "<td>http://127.0.0.1:54321</td></tr>\n",
       "<tr><td>H2O connection proxy:</td>\n",
       "<td>{'http': None, 'https': None}</td></tr>\n",
       "<tr><td>H2O internal security:</td>\n",
       "<td>False</td></tr>\n",
       "<tr><td>H2O API Extensions:</td>\n",
       "<td>Amazon S3, XGBoost, Algos, AutoML, Core V3, TargetEncoder, Core V4</td></tr>\n",
       "<tr><td>Python version:</td>\n",
       "<td>3.6.6 final</td></tr></table></div>"
      ],
      "text/plain": [
       "--------------------------  ------------------------------------------------------------------\n",
       "H2O cluster uptime:         01 secs\n",
       "H2O cluster timezone:       Europe/Helsinki\n",
       "H2O data parsing timezone:  UTC\n",
       "H2O cluster version:        3.26.0.10\n",
       "H2O cluster version age:    19 days\n",
       "H2O cluster name:           #537623994\n",
       "H2O cluster total nodes:    1\n",
       "H2O cluster free memory:    29.97 Gb\n",
       "H2O cluster total cores:    40\n",
       "H2O cluster allowed cores:  20\n",
       "H2O cluster status:         accepting new members, healthy\n",
       "H2O connection url:         http://127.0.0.1:54321\n",
       "H2O connection proxy:       {'http': None, 'https': None}\n",
       "H2O internal security:      False\n",
       "H2O API Extensions:         Amazon S3, XGBoost, Algos, AutoML, Core V3, TargetEncoder, Core V4\n",
       "Python version:             3.6.6 final\n",
       "--------------------------  ------------------------------------------------------------------"
      ]
     },
     "metadata": {},
     "output_type": "display_data"
    },
    {
     "name": "stdout",
     "output_type": "stream",
     "text": [
      "H2O session _sid_a85b closed."
     ]
    },
    {
     "name": "stdout",
     "output_type": "stream",
     "text": [
      "\n"
     ]
    },
    {
     "name": "stdout",
     "output_type": "stream",
     "text": [
      "<class 'h2o.automl.autoh2o.H2OAutoML'>"
     ]
    },
    {
     "name": "stdout",
     "output_type": "stream",
     "text": [
      "\n"
     ]
    },
    {
     "name": "stdout",
     "output_type": "stream",
     "text": [
      "0.809"
     ]
    },
    {
     "name": "stdout",
     "output_type": "stream",
     "text": [
      "\n"
     ]
    },
    {
     "name": "stdout",
     "output_type": "stream",
     "text": [
      "Checking whether there is an H2O instance running at http://localhost:54321 "
     ]
    },
    {
     "name": "stdout",
     "output_type": "stream",
     "text": [
      "."
     ]
    },
    {
     "name": "stdout",
     "output_type": "stream",
     "text": [
      "."
     ]
    },
    {
     "name": "stdout",
     "output_type": "stream",
     "text": [
      "."
     ]
    },
    {
     "name": "stdout",
     "output_type": "stream",
     "text": [
      "."
     ]
    },
    {
     "name": "stdout",
     "output_type": "stream",
     "text": [
      "."
     ]
    },
    {
     "name": "stdout",
     "output_type": "stream",
     "text": [
      " not found."
     ]
    },
    {
     "name": "stdout",
     "output_type": "stream",
     "text": [
      "\n"
     ]
    },
    {
     "name": "stdout",
     "output_type": "stream",
     "text": [
      "Attempting to start a local H2O server..."
     ]
    },
    {
     "name": "stdout",
     "output_type": "stream",
     "text": [
      "\n"
     ]
    },
    {
     "name": "stdout",
     "output_type": "stream",
     "text": [
      "  Java Version: openjdk version \"11.0.2\" 2019-01-15; OpenJDK Runtime Environment 18.9 (build 11.0.2+9); OpenJDK 64-Bit Server VM 18.9 (build 11.0.2+9, mixed mode)"
     ]
    },
    {
     "name": "stdout",
     "output_type": "stream",
     "text": [
      "\n"
     ]
    },
    {
     "name": "stdout",
     "output_type": "stream",
     "text": [
      "  Starting server from /wrk/users/thalvari/dpEmu-AutoML/venv/lib/python3.6/site-packages/h2o/backend/bin/h2o.jar"
     ]
    },
    {
     "name": "stdout",
     "output_type": "stream",
     "text": [
      "\n"
     ]
    },
    {
     "name": "stdout",
     "output_type": "stream",
     "text": [
      "  Ice root: /wrk/users/thalvari/tmpsfsnfj7r"
     ]
    },
    {
     "name": "stdout",
     "output_type": "stream",
     "text": [
      "\n"
     ]
    },
    {
     "name": "stdout",
     "output_type": "stream",
     "text": [
      "  JVM stdout: /wrk/users/thalvari/tmpsfsnfj7r/h2o_thalvari_started_from_python.out"
     ]
    },
    {
     "name": "stdout",
     "output_type": "stream",
     "text": [
      "\n"
     ]
    },
    {
     "name": "stdout",
     "output_type": "stream",
     "text": [
      "  JVM stderr: /wrk/users/thalvari/tmpsfsnfj7r/h2o_thalvari_started_from_python.err"
     ]
    },
    {
     "name": "stdout",
     "output_type": "stream",
     "text": [
      "\n"
     ]
    },
    {
     "name": "stdout",
     "output_type": "stream",
     "text": [
      "  Server is running at http://127.0.0.1:54321"
     ]
    },
    {
     "name": "stdout",
     "output_type": "stream",
     "text": [
      "\n"
     ]
    },
    {
     "name": "stdout",
     "output_type": "stream",
     "text": [
      "Connecting to H2O server at http://127.0.0.1:54321 .."
     ]
    },
    {
     "name": "stdout",
     "output_type": "stream",
     "text": [
      "."
     ]
    },
    {
     "name": "stdout",
     "output_type": "stream",
     "text": [
      " successful."
     ]
    },
    {
     "name": "stdout",
     "output_type": "stream",
     "text": [
      "\n"
     ]
    },
    {
     "data": {
      "text/html": [
       "<div style=\"overflow:auto\"><table style=\"width:50%\"><tr><td>H2O cluster uptime:</td>\n",
       "<td>01 secs</td></tr>\n",
       "<tr><td>H2O cluster timezone:</td>\n",
       "<td>Europe/Helsinki</td></tr>\n",
       "<tr><td>H2O data parsing timezone:</td>\n",
       "<td>UTC</td></tr>\n",
       "<tr><td>H2O cluster version:</td>\n",
       "<td>3.26.0.10</td></tr>\n",
       "<tr><td>H2O cluster version age:</td>\n",
       "<td>19 days </td></tr>\n",
       "<tr><td>H2O cluster name:</td>\n",
       "<td>#943167130</td></tr>\n",
       "<tr><td>H2O cluster total nodes:</td>\n",
       "<td>1</td></tr>\n",
       "<tr><td>H2O cluster free memory:</td>\n",
       "<td>29.97 Gb</td></tr>\n",
       "<tr><td>H2O cluster total cores:</td>\n",
       "<td>40</td></tr>\n",
       "<tr><td>H2O cluster allowed cores:</td>\n",
       "<td>20</td></tr>\n",
       "<tr><td>H2O cluster status:</td>\n",
       "<td>accepting new members, healthy</td></tr>\n",
       "<tr><td>H2O connection url:</td>\n",
       "<td>http://127.0.0.1:54321</td></tr>\n",
       "<tr><td>H2O connection proxy:</td>\n",
       "<td>{'http': None, 'https': None}</td></tr>\n",
       "<tr><td>H2O internal security:</td>\n",
       "<td>False</td></tr>\n",
       "<tr><td>H2O API Extensions:</td>\n",
       "<td>Amazon S3, XGBoost, Algos, AutoML, Core V3, TargetEncoder, Core V4</td></tr>\n",
       "<tr><td>Python version:</td>\n",
       "<td>3.6.6 final</td></tr></table></div>"
      ],
      "text/plain": [
       "--------------------------  ------------------------------------------------------------------\n",
       "H2O cluster uptime:         01 secs\n",
       "H2O cluster timezone:       Europe/Helsinki\n",
       "H2O data parsing timezone:  UTC\n",
       "H2O cluster version:        3.26.0.10\n",
       "H2O cluster version age:    19 days\n",
       "H2O cluster name:           #943167130\n",
       "H2O cluster total nodes:    1\n",
       "H2O cluster free memory:    29.97 Gb\n",
       "H2O cluster total cores:    40\n",
       "H2O cluster allowed cores:  20\n",
       "H2O cluster status:         accepting new members, healthy\n",
       "H2O connection url:         http://127.0.0.1:54321\n",
       "H2O connection proxy:       {'http': None, 'https': None}\n",
       "H2O internal security:      False\n",
       "H2O API Extensions:         Amazon S3, XGBoost, Algos, AutoML, Core V3, TargetEncoder, Core V4\n",
       "Python version:             3.6.6 final\n",
       "--------------------------  ------------------------------------------------------------------"
      ]
     },
     "metadata": {},
     "output_type": "display_data"
    },
    {
     "name": "stdout",
     "output_type": "stream",
     "text": [
      "H2O session _sid_9a3c closed."
     ]
    },
    {
     "name": "stdout",
     "output_type": "stream",
     "text": [
      "\n"
     ]
    },
    {
     "name": "stdout",
     "output_type": "stream",
     "text": [
      "<class 'h2o.automl.autoh2o.H2OAutoML'>"
     ]
    },
    {
     "name": "stdout",
     "output_type": "stream",
     "text": [
      "\n"
     ]
    },
    {
     "name": "stdout",
     "output_type": "stream",
     "text": [
      "0.144"
     ]
    },
    {
     "name": "stdout",
     "output_type": "stream",
     "text": [
      "\n"
     ]
    },
    {
     "name": "stderr",
     "output_type": "stream",
     "text": [
      "\r",
      " 50%|█████     | 3/6 [34:55:08<34:49:26, 41788.78s/it]"
     ]
    },
    {
     "name": "stdout",
     "output_type": "stream",
     "text": [
      "<class 'autokeras.image.image_supervised.ImageClassifier'>"
     ]
    },
    {
     "name": "stdout",
     "output_type": "stream",
     "text": [
      "\n"
     ]
    },
    {
     "name": "stdout",
     "output_type": "stream",
     "text": [
      "0.498"
     ]
    },
    {
     "name": "stdout",
     "output_type": "stream",
     "text": [
      "\n"
     ]
    },
    {
     "name": "stdout",
     "output_type": "stream",
     "text": [
      "<class 'autokeras.image.image_supervised.ImageClassifier'>"
     ]
    },
    {
     "name": "stdout",
     "output_type": "stream",
     "text": [
      "\n"
     ]
    },
    {
     "name": "stdout",
     "output_type": "stream",
     "text": [
      "0.482"
     ]
    },
    {
     "name": "stdout",
     "output_type": "stream",
     "text": [
      "\n"
     ]
    },
    {
     "name": "stdout",
     "output_type": "stream",
     "text": [
      "\n"
     ]
    },
    {
     "name": "stdout",
     "output_type": "stream",
     "text": [
      "143.12 minutes have elapsed. TPOT will close down.\n",
      "TPOT closed during evaluation in one generation.\n",
      "WARNING: TPOT may not provide a good pipeline if TPOT is stopped/interrupted in a early generation."
     ]
    },
    {
     "name": "stdout",
     "output_type": "stream",
     "text": [
      "\n"
     ]
    },
    {
     "name": "stdout",
     "output_type": "stream",
     "text": [
      "\n"
     ]
    },
    {
     "name": "stdout",
     "output_type": "stream",
     "text": [
      "\n",
      "TPOT closed prematurely. Will use the current best pipeline."
     ]
    },
    {
     "name": "stdout",
     "output_type": "stream",
     "text": [
      "\n"
     ]
    },
    {
     "name": "stdout",
     "output_type": "stream",
     "text": [
      "Best pipeline:"
     ]
    },
    {
     "name": "stdout",
     "output_type": "stream",
     "text": [
      " "
     ]
    },
    {
     "name": "stdout",
     "output_type": "stream",
     "text": [
      "KNeighborsClassifier(SelectPercentile(RandomForestClassifier(CombineDFs(input_matrix, CombineDFs(input_matrix, input_matrix)), bootstrap=False, criterion=gini, max_features=0.6000000000000001, min_samples_leaf=17, min_samples_split=20, n_estimators=100), percentile=67), n_neighbors=87, p=2, weights=distance)"
     ]
    },
    {
     "name": "stdout",
     "output_type": "stream",
     "text": [
      "\n"
     ]
    },
    {
     "name": "stdout",
     "output_type": "stream",
     "text": [
      "<class 'tpot.tpot.TPOTClassifier'>"
     ]
    },
    {
     "name": "stdout",
     "output_type": "stream",
     "text": [
      "\n"
     ]
    },
    {
     "name": "stdout",
     "output_type": "stream",
     "text": [
      "0.661"
     ]
    },
    {
     "name": "stdout",
     "output_type": "stream",
     "text": [
      "\n"
     ]
    },
    {
     "name": "stdout",
     "output_type": "stream",
     "text": [
      "\n"
     ]
    },
    {
     "name": "stdout",
     "output_type": "stream",
     "text": [
      "122.30 minutes have elapsed. TPOT will close down.\n",
      "TPOT closed during evaluation in one generation.\n",
      "WARNING: TPOT may not provide a good pipeline if TPOT is stopped/interrupted in a early generation."
     ]
    },
    {
     "name": "stdout",
     "output_type": "stream",
     "text": [
      "\n"
     ]
    },
    {
     "name": "stdout",
     "output_type": "stream",
     "text": [
      "\n"
     ]
    },
    {
     "name": "stdout",
     "output_type": "stream",
     "text": [
      "\n",
      "TPOT closed prematurely. Will use the current best pipeline."
     ]
    },
    {
     "name": "stdout",
     "output_type": "stream",
     "text": [
      "\n"
     ]
    },
    {
     "name": "stdout",
     "output_type": "stream",
     "text": [
      "Best pipeline:"
     ]
    },
    {
     "name": "stdout",
     "output_type": "stream",
     "text": [
      " "
     ]
    },
    {
     "name": "stdout",
     "output_type": "stream",
     "text": [
      "KNeighborsClassifier(GradientBoostingClassifier(LinearSVC(DecisionTreeClassifier(PCA(input_matrix, iterated_power=6, svd_solver=randomized), criterion=gini, max_depth=6, min_samples_leaf=10, min_samples_split=2), C=25.0, dual=True, loss=squared_hinge, penalty=l2, tol=0.01), learning_rate=0.001, max_depth=8, max_features=0.35000000000000003, min_samples_leaf=1, min_samples_split=13, n_estimators=100, subsample=1.0), n_neighbors=4, p=2, weights=distance)"
     ]
    },
    {
     "name": "stdout",
     "output_type": "stream",
     "text": [
      "\n"
     ]
    },
    {
     "name": "stdout",
     "output_type": "stream",
     "text": [
      "<class 'tpot.tpot.TPOTClassifier'>"
     ]
    },
    {
     "name": "stdout",
     "output_type": "stream",
     "text": [
      "\n"
     ]
    },
    {
     "name": "stdout",
     "output_type": "stream",
     "text": [
      "0.696"
     ]
    },
    {
     "name": "stdout",
     "output_type": "stream",
     "text": [
      "\n"
     ]
    },
    {
     "name": "stdout",
     "output_type": "stream",
     "text": [
      "Checking whether there is an H2O instance running at http://localhost:54321 "
     ]
    },
    {
     "name": "stdout",
     "output_type": "stream",
     "text": [
      "."
     ]
    },
    {
     "name": "stdout",
     "output_type": "stream",
     "text": [
      "."
     ]
    },
    {
     "name": "stdout",
     "output_type": "stream",
     "text": [
      "."
     ]
    },
    {
     "name": "stdout",
     "output_type": "stream",
     "text": [
      "."
     ]
    },
    {
     "name": "stdout",
     "output_type": "stream",
     "text": [
      "."
     ]
    },
    {
     "name": "stdout",
     "output_type": "stream",
     "text": [
      " not found."
     ]
    },
    {
     "name": "stdout",
     "output_type": "stream",
     "text": [
      "\n"
     ]
    },
    {
     "name": "stdout",
     "output_type": "stream",
     "text": [
      "Attempting to start a local H2O server..."
     ]
    },
    {
     "name": "stdout",
     "output_type": "stream",
     "text": [
      "\n"
     ]
    },
    {
     "name": "stdout",
     "output_type": "stream",
     "text": [
      "  Java Version: openjdk version \"11.0.2\" 2019-01-15; OpenJDK Runtime Environment 18.9 (build 11.0.2+9); OpenJDK 64-Bit Server VM 18.9 (build 11.0.2+9, mixed mode)"
     ]
    },
    {
     "name": "stdout",
     "output_type": "stream",
     "text": [
      "\n"
     ]
    },
    {
     "name": "stdout",
     "output_type": "stream",
     "text": [
      "  Starting server from /wrk/users/thalvari/dpEmu-AutoML/venv/lib/python3.6/site-packages/h2o/backend/bin/h2o.jar"
     ]
    },
    {
     "name": "stdout",
     "output_type": "stream",
     "text": [
      "\n"
     ]
    },
    {
     "name": "stdout",
     "output_type": "stream",
     "text": [
      "  Ice root: /wrk/users/thalvari/tmp5is9s8pj"
     ]
    },
    {
     "name": "stdout",
     "output_type": "stream",
     "text": [
      "\n"
     ]
    },
    {
     "name": "stdout",
     "output_type": "stream",
     "text": [
      "  JVM stdout: /wrk/users/thalvari/tmp5is9s8pj/h2o_thalvari_started_from_python.out"
     ]
    },
    {
     "name": "stdout",
     "output_type": "stream",
     "text": [
      "\n"
     ]
    },
    {
     "name": "stdout",
     "output_type": "stream",
     "text": [
      "  JVM stderr: /wrk/users/thalvari/tmp5is9s8pj/h2o_thalvari_started_from_python.err"
     ]
    },
    {
     "name": "stdout",
     "output_type": "stream",
     "text": [
      "\n"
     ]
    },
    {
     "name": "stdout",
     "output_type": "stream",
     "text": [
      "  Server is running at http://127.0.0.1:54321"
     ]
    },
    {
     "name": "stdout",
     "output_type": "stream",
     "text": [
      "\n"
     ]
    },
    {
     "name": "stdout",
     "output_type": "stream",
     "text": [
      "Connecting to H2O server at http://127.0.0.1:54321 .."
     ]
    },
    {
     "name": "stdout",
     "output_type": "stream",
     "text": [
      "."
     ]
    },
    {
     "name": "stdout",
     "output_type": "stream",
     "text": [
      " successful."
     ]
    },
    {
     "name": "stdout",
     "output_type": "stream",
     "text": [
      "\n"
     ]
    },
    {
     "data": {
      "text/html": [
       "<div style=\"overflow:auto\"><table style=\"width:50%\"><tr><td>H2O cluster uptime:</td>\n",
       "<td>01 secs</td></tr>\n",
       "<tr><td>H2O cluster timezone:</td>\n",
       "<td>Europe/Helsinki</td></tr>\n",
       "<tr><td>H2O data parsing timezone:</td>\n",
       "<td>UTC</td></tr>\n",
       "<tr><td>H2O cluster version:</td>\n",
       "<td>3.26.0.10</td></tr>\n",
       "<tr><td>H2O cluster version age:</td>\n",
       "<td>19 days </td></tr>\n",
       "<tr><td>H2O cluster name:</td>\n",
       "<td>#493221296</td></tr>\n",
       "<tr><td>H2O cluster total nodes:</td>\n",
       "<td>1</td></tr>\n",
       "<tr><td>H2O cluster free memory:</td>\n",
       "<td>29.97 Gb</td></tr>\n",
       "<tr><td>H2O cluster total cores:</td>\n",
       "<td>40</td></tr>\n",
       "<tr><td>H2O cluster allowed cores:</td>\n",
       "<td>20</td></tr>\n",
       "<tr><td>H2O cluster status:</td>\n",
       "<td>accepting new members, healthy</td></tr>\n",
       "<tr><td>H2O connection url:</td>\n",
       "<td>http://127.0.0.1:54321</td></tr>\n",
       "<tr><td>H2O connection proxy:</td>\n",
       "<td>{'http': None, 'https': None}</td></tr>\n",
       "<tr><td>H2O internal security:</td>\n",
       "<td>False</td></tr>\n",
       "<tr><td>H2O API Extensions:</td>\n",
       "<td>Amazon S3, XGBoost, Algos, AutoML, Core V3, TargetEncoder, Core V4</td></tr>\n",
       "<tr><td>Python version:</td>\n",
       "<td>3.6.6 final</td></tr></table></div>"
      ],
      "text/plain": [
       "--------------------------  ------------------------------------------------------------------\n",
       "H2O cluster uptime:         01 secs\n",
       "H2O cluster timezone:       Europe/Helsinki\n",
       "H2O data parsing timezone:  UTC\n",
       "H2O cluster version:        3.26.0.10\n",
       "H2O cluster version age:    19 days\n",
       "H2O cluster name:           #493221296\n",
       "H2O cluster total nodes:    1\n",
       "H2O cluster free memory:    29.97 Gb\n",
       "H2O cluster total cores:    40\n",
       "H2O cluster allowed cores:  20\n",
       "H2O cluster status:         accepting new members, healthy\n",
       "H2O connection url:         http://127.0.0.1:54321\n",
       "H2O connection proxy:       {'http': None, 'https': None}\n",
       "H2O internal security:      False\n",
       "H2O API Extensions:         Amazon S3, XGBoost, Algos, AutoML, Core V3, TargetEncoder, Core V4\n",
       "Python version:             3.6.6 final\n",
       "--------------------------  ------------------------------------------------------------------"
      ]
     },
     "metadata": {},
     "output_type": "display_data"
    },
    {
     "name": "stdout",
     "output_type": "stream",
     "text": [
      "H2O session _sid_af74 closed."
     ]
    },
    {
     "name": "stdout",
     "output_type": "stream",
     "text": [
      "\n"
     ]
    },
    {
     "name": "stdout",
     "output_type": "stream",
     "text": [
      "<class 'h2o.automl.autoh2o.H2OAutoML'>"
     ]
    },
    {
     "name": "stdout",
     "output_type": "stream",
     "text": [
      "\n"
     ]
    },
    {
     "name": "stdout",
     "output_type": "stream",
     "text": [
      "0.658"
     ]
    },
    {
     "name": "stdout",
     "output_type": "stream",
     "text": [
      "\n"
     ]
    },
    {
     "name": "stdout",
     "output_type": "stream",
     "text": [
      "Checking whether there is an H2O instance running at http://localhost:54321 "
     ]
    },
    {
     "name": "stdout",
     "output_type": "stream",
     "text": [
      "."
     ]
    },
    {
     "name": "stdout",
     "output_type": "stream",
     "text": [
      "."
     ]
    },
    {
     "name": "stdout",
     "output_type": "stream",
     "text": [
      "."
     ]
    },
    {
     "name": "stdout",
     "output_type": "stream",
     "text": [
      "."
     ]
    },
    {
     "name": "stdout",
     "output_type": "stream",
     "text": [
      "."
     ]
    },
    {
     "name": "stdout",
     "output_type": "stream",
     "text": [
      " not found."
     ]
    },
    {
     "name": "stdout",
     "output_type": "stream",
     "text": [
      "\n"
     ]
    },
    {
     "name": "stdout",
     "output_type": "stream",
     "text": [
      "Attempting to start a local H2O server..."
     ]
    },
    {
     "name": "stdout",
     "output_type": "stream",
     "text": [
      "\n"
     ]
    },
    {
     "name": "stdout",
     "output_type": "stream",
     "text": [
      "  Java Version: openjdk version \"11.0.2\" 2019-01-15; OpenJDK Runtime Environment 18.9 (build 11.0.2+9); OpenJDK 64-Bit Server VM 18.9 (build 11.0.2+9, mixed mode)"
     ]
    },
    {
     "name": "stdout",
     "output_type": "stream",
     "text": [
      "\n"
     ]
    },
    {
     "name": "stdout",
     "output_type": "stream",
     "text": [
      "  Starting server from /wrk/users/thalvari/dpEmu-AutoML/venv/lib/python3.6/site-packages/h2o/backend/bin/h2o.jar"
     ]
    },
    {
     "name": "stdout",
     "output_type": "stream",
     "text": [
      "\n"
     ]
    },
    {
     "name": "stdout",
     "output_type": "stream",
     "text": [
      "  Ice root: /wrk/users/thalvari/tmpvq8nqoiv"
     ]
    },
    {
     "name": "stdout",
     "output_type": "stream",
     "text": [
      "\n"
     ]
    },
    {
     "name": "stdout",
     "output_type": "stream",
     "text": [
      "  JVM stdout: /wrk/users/thalvari/tmpvq8nqoiv/h2o_thalvari_started_from_python.out"
     ]
    },
    {
     "name": "stdout",
     "output_type": "stream",
     "text": [
      "\n"
     ]
    },
    {
     "name": "stdout",
     "output_type": "stream",
     "text": [
      "  JVM stderr: /wrk/users/thalvari/tmpvq8nqoiv/h2o_thalvari_started_from_python.err"
     ]
    },
    {
     "name": "stdout",
     "output_type": "stream",
     "text": [
      "\n"
     ]
    },
    {
     "name": "stdout",
     "output_type": "stream",
     "text": [
      "  Server is running at http://127.0.0.1:54321"
     ]
    },
    {
     "name": "stdout",
     "output_type": "stream",
     "text": [
      "\n"
     ]
    },
    {
     "name": "stdout",
     "output_type": "stream",
     "text": [
      "Connecting to H2O server at http://127.0.0.1:54321 .."
     ]
    },
    {
     "name": "stdout",
     "output_type": "stream",
     "text": [
      "."
     ]
    },
    {
     "name": "stdout",
     "output_type": "stream",
     "text": [
      " successful."
     ]
    },
    {
     "name": "stdout",
     "output_type": "stream",
     "text": [
      "\n"
     ]
    },
    {
     "data": {
      "text/html": [
       "<div style=\"overflow:auto\"><table style=\"width:50%\"><tr><td>H2O cluster uptime:</td>\n",
       "<td>01 secs</td></tr>\n",
       "<tr><td>H2O cluster timezone:</td>\n",
       "<td>Europe/Helsinki</td></tr>\n",
       "<tr><td>H2O data parsing timezone:</td>\n",
       "<td>UTC</td></tr>\n",
       "<tr><td>H2O cluster version:</td>\n",
       "<td>3.26.0.10</td></tr>\n",
       "<tr><td>H2O cluster version age:</td>\n",
       "<td>19 days </td></tr>\n",
       "<tr><td>H2O cluster name:</td>\n",
       "<td>#889794168</td></tr>\n",
       "<tr><td>H2O cluster total nodes:</td>\n",
       "<td>1</td></tr>\n",
       "<tr><td>H2O cluster free memory:</td>\n",
       "<td>29.97 Gb</td></tr>\n",
       "<tr><td>H2O cluster total cores:</td>\n",
       "<td>40</td></tr>\n",
       "<tr><td>H2O cluster allowed cores:</td>\n",
       "<td>20</td></tr>\n",
       "<tr><td>H2O cluster status:</td>\n",
       "<td>accepting new members, healthy</td></tr>\n",
       "<tr><td>H2O connection url:</td>\n",
       "<td>http://127.0.0.1:54321</td></tr>\n",
       "<tr><td>H2O connection proxy:</td>\n",
       "<td>{'http': None, 'https': None}</td></tr>\n",
       "<tr><td>H2O internal security:</td>\n",
       "<td>False</td></tr>\n",
       "<tr><td>H2O API Extensions:</td>\n",
       "<td>Amazon S3, XGBoost, Algos, AutoML, Core V3, TargetEncoder, Core V4</td></tr>\n",
       "<tr><td>Python version:</td>\n",
       "<td>3.6.6 final</td></tr></table></div>"
      ],
      "text/plain": [
       "--------------------------  ------------------------------------------------------------------\n",
       "H2O cluster uptime:         01 secs\n",
       "H2O cluster timezone:       Europe/Helsinki\n",
       "H2O data parsing timezone:  UTC\n",
       "H2O cluster version:        3.26.0.10\n",
       "H2O cluster version age:    19 days\n",
       "H2O cluster name:           #889794168\n",
       "H2O cluster total nodes:    1\n",
       "H2O cluster free memory:    29.97 Gb\n",
       "H2O cluster total cores:    40\n",
       "H2O cluster allowed cores:  20\n",
       "H2O cluster status:         accepting new members, healthy\n",
       "H2O connection url:         http://127.0.0.1:54321\n",
       "H2O connection proxy:       {'http': None, 'https': None}\n",
       "H2O internal security:      False\n",
       "H2O API Extensions:         Amazon S3, XGBoost, Algos, AutoML, Core V3, TargetEncoder, Core V4\n",
       "Python version:             3.6.6 final\n",
       "--------------------------  ------------------------------------------------------------------"
      ]
     },
     "metadata": {},
     "output_type": "display_data"
    },
    {
     "name": "stdout",
     "output_type": "stream",
     "text": [
      "H2O session _sid_9bd3 closed."
     ]
    },
    {
     "name": "stdout",
     "output_type": "stream",
     "text": [
      "\n"
     ]
    },
    {
     "name": "stdout",
     "output_type": "stream",
     "text": [
      "<class 'h2o.automl.autoh2o.H2OAutoML'>"
     ]
    },
    {
     "name": "stdout",
     "output_type": "stream",
     "text": [
      "\n"
     ]
    },
    {
     "name": "stdout",
     "output_type": "stream",
     "text": [
      "0.35"
     ]
    },
    {
     "name": "stdout",
     "output_type": "stream",
     "text": [
      "\n"
     ]
    },
    {
     "name": "stderr",
     "output_type": "stream",
     "text": [
      "\r",
      " 67%|██████▋   | 4/6 [46:35:33<23:15:19, 41859.69s/it]"
     ]
    },
    {
     "name": "stdout",
     "output_type": "stream",
     "text": [
      "<class 'autokeras.image.image_supervised.ImageClassifier'>"
     ]
    },
    {
     "name": "stdout",
     "output_type": "stream",
     "text": [
      "\n"
     ]
    },
    {
     "name": "stdout",
     "output_type": "stream",
     "text": [
      "0.311"
     ]
    },
    {
     "name": "stdout",
     "output_type": "stream",
     "text": [
      "\n"
     ]
    },
    {
     "name": "stdout",
     "output_type": "stream",
     "text": [
      "<class 'autokeras.image.image_supervised.ImageClassifier'>"
     ]
    },
    {
     "name": "stdout",
     "output_type": "stream",
     "text": [
      "\n"
     ]
    },
    {
     "name": "stdout",
     "output_type": "stream",
     "text": [
      "0.296"
     ]
    },
    {
     "name": "stdout",
     "output_type": "stream",
     "text": [
      "\n"
     ]
    },
    {
     "name": "stdout",
     "output_type": "stream",
     "text": [
      "\n"
     ]
    },
    {
     "name": "stdout",
     "output_type": "stream",
     "text": [
      "125.46 minutes have elapsed. TPOT will close down.\n",
      "TPOT closed during evaluation in one generation.\n",
      "WARNING: TPOT may not provide a good pipeline if TPOT is stopped/interrupted in a early generation."
     ]
    },
    {
     "name": "stdout",
     "output_type": "stream",
     "text": [
      "\n"
     ]
    },
    {
     "name": "stdout",
     "output_type": "stream",
     "text": [
      "\n"
     ]
    },
    {
     "name": "stdout",
     "output_type": "stream",
     "text": [
      "\n",
      "TPOT closed prematurely. Will use the current best pipeline."
     ]
    },
    {
     "name": "stdout",
     "output_type": "stream",
     "text": [
      "\n"
     ]
    },
    {
     "name": "stdout",
     "output_type": "stream",
     "text": [
      "Best pipeline:"
     ]
    },
    {
     "name": "stdout",
     "output_type": "stream",
     "text": [
      " "
     ]
    },
    {
     "name": "stdout",
     "output_type": "stream",
     "text": [
      "MultinomialNB(SelectPercentile(MaxAbsScaler(XGBClassifier(CombineDFs(CombineDFs(CombineDFs(input_matrix, input_matrix), input_matrix), SGDClassifier(input_matrix, alpha=0.001, eta0=0.1, fit_intercept=True, l1_ratio=0.0, learning_rate=invscaling, loss=perceptron, penalty=elasticnet, power_t=0.5)), learning_rate=0.5, max_depth=10, min_child_weight=14, n_estimators=100, nthread=1, subsample=0.1)), percentile=76), alpha=100.0, fit_prior=False)"
     ]
    },
    {
     "name": "stdout",
     "output_type": "stream",
     "text": [
      "\n"
     ]
    },
    {
     "name": "stdout",
     "output_type": "stream",
     "text": [
      "<class 'tpot.tpot.TPOTClassifier'>"
     ]
    },
    {
     "name": "stdout",
     "output_type": "stream",
     "text": [
      "\n"
     ]
    },
    {
     "name": "stdout",
     "output_type": "stream",
     "text": [
      "0.479"
     ]
    },
    {
     "name": "stdout",
     "output_type": "stream",
     "text": [
      "\n"
     ]
    },
    {
     "name": "stdout",
     "output_type": "stream",
     "text": [
      "\n"
     ]
    },
    {
     "name": "stdout",
     "output_type": "stream",
     "text": [
      "120.27 minutes have elapsed. TPOT will close down.\n",
      "TPOT closed during evaluation in one generation.\n",
      "WARNING: TPOT may not provide a good pipeline if TPOT is stopped/interrupted in a early generation."
     ]
    },
    {
     "name": "stdout",
     "output_type": "stream",
     "text": [
      "\n"
     ]
    },
    {
     "name": "stdout",
     "output_type": "stream",
     "text": [
      "\n"
     ]
    },
    {
     "name": "stdout",
     "output_type": "stream",
     "text": [
      "\n",
      "TPOT closed prematurely. Will use the current best pipeline."
     ]
    },
    {
     "name": "stdout",
     "output_type": "stream",
     "text": [
      "\n"
     ]
    },
    {
     "name": "stdout",
     "output_type": "stream",
     "text": [
      "Best pipeline:"
     ]
    },
    {
     "name": "stdout",
     "output_type": "stream",
     "text": [
      " "
     ]
    },
    {
     "name": "stdout",
     "output_type": "stream",
     "text": [
      "KNeighborsClassifier(GradientBoostingClassifier(LinearSVC(DecisionTreeClassifier(PCA(input_matrix, iterated_power=6, svd_solver=randomized), criterion=gini, max_depth=6, min_samples_leaf=10, min_samples_split=2), C=25.0, dual=True, loss=squared_hinge, penalty=l2, tol=0.01), learning_rate=0.001, max_depth=8, max_features=0.35000000000000003, min_samples_leaf=1, min_samples_split=13, n_estimators=100, subsample=1.0), n_neighbors=4, p=2, weights=distance)"
     ]
    },
    {
     "name": "stdout",
     "output_type": "stream",
     "text": [
      "\n"
     ]
    },
    {
     "name": "stdout",
     "output_type": "stream",
     "text": [
      "<class 'tpot.tpot.TPOTClassifier'>"
     ]
    },
    {
     "name": "stdout",
     "output_type": "stream",
     "text": [
      "\n"
     ]
    },
    {
     "name": "stdout",
     "output_type": "stream",
     "text": [
      "0.521"
     ]
    },
    {
     "name": "stdout",
     "output_type": "stream",
     "text": [
      "\n"
     ]
    },
    {
     "name": "stdout",
     "output_type": "stream",
     "text": [
      "Checking whether there is an H2O instance running at http://localhost:54321 "
     ]
    },
    {
     "name": "stdout",
     "output_type": "stream",
     "text": [
      "."
     ]
    },
    {
     "name": "stdout",
     "output_type": "stream",
     "text": [
      "."
     ]
    },
    {
     "name": "stdout",
     "output_type": "stream",
     "text": [
      "."
     ]
    },
    {
     "name": "stdout",
     "output_type": "stream",
     "text": [
      "."
     ]
    },
    {
     "name": "stdout",
     "output_type": "stream",
     "text": [
      "."
     ]
    },
    {
     "name": "stdout",
     "output_type": "stream",
     "text": [
      " not found."
     ]
    },
    {
     "name": "stdout",
     "output_type": "stream",
     "text": [
      "\n"
     ]
    },
    {
     "name": "stdout",
     "output_type": "stream",
     "text": [
      "Attempting to start a local H2O server..."
     ]
    },
    {
     "name": "stdout",
     "output_type": "stream",
     "text": [
      "\n"
     ]
    },
    {
     "name": "stdout",
     "output_type": "stream",
     "text": [
      "  Java Version: openjdk version \"11.0.2\" 2019-01-15; OpenJDK Runtime Environment 18.9 (build 11.0.2+9); OpenJDK 64-Bit Server VM 18.9 (build 11.0.2+9, mixed mode)"
     ]
    },
    {
     "name": "stdout",
     "output_type": "stream",
     "text": [
      "\n"
     ]
    },
    {
     "name": "stdout",
     "output_type": "stream",
     "text": [
      "  Starting server from /wrk/users/thalvari/dpEmu-AutoML/venv/lib/python3.6/site-packages/h2o/backend/bin/h2o.jar"
     ]
    },
    {
     "name": "stdout",
     "output_type": "stream",
     "text": [
      "\n"
     ]
    },
    {
     "name": "stdout",
     "output_type": "stream",
     "text": [
      "  Ice root: /wrk/users/thalvari/tmpz73yzfg1"
     ]
    },
    {
     "name": "stdout",
     "output_type": "stream",
     "text": [
      "\n"
     ]
    },
    {
     "name": "stdout",
     "output_type": "stream",
     "text": [
      "  JVM stdout: /wrk/users/thalvari/tmpz73yzfg1/h2o_thalvari_started_from_python.out"
     ]
    },
    {
     "name": "stdout",
     "output_type": "stream",
     "text": [
      "\n"
     ]
    },
    {
     "name": "stdout",
     "output_type": "stream",
     "text": [
      "  JVM stderr: /wrk/users/thalvari/tmpz73yzfg1/h2o_thalvari_started_from_python.err"
     ]
    },
    {
     "name": "stdout",
     "output_type": "stream",
     "text": [
      "\n"
     ]
    },
    {
     "name": "stdout",
     "output_type": "stream",
     "text": [
      "  Server is running at http://127.0.0.1:54321"
     ]
    },
    {
     "name": "stdout",
     "output_type": "stream",
     "text": [
      "\n"
     ]
    },
    {
     "name": "stdout",
     "output_type": "stream",
     "text": [
      "Connecting to H2O server at http://127.0.0.1:54321 .."
     ]
    },
    {
     "name": "stdout",
     "output_type": "stream",
     "text": [
      "."
     ]
    },
    {
     "name": "stdout",
     "output_type": "stream",
     "text": [
      " successful."
     ]
    },
    {
     "name": "stdout",
     "output_type": "stream",
     "text": [
      "\n"
     ]
    },
    {
     "data": {
      "text/html": [
       "<div style=\"overflow:auto\"><table style=\"width:50%\"><tr><td>H2O cluster uptime:</td>\n",
       "<td>01 secs</td></tr>\n",
       "<tr><td>H2O cluster timezone:</td>\n",
       "<td>Europe/Helsinki</td></tr>\n",
       "<tr><td>H2O data parsing timezone:</td>\n",
       "<td>UTC</td></tr>\n",
       "<tr><td>H2O cluster version:</td>\n",
       "<td>3.26.0.10</td></tr>\n",
       "<tr><td>H2O cluster version age:</td>\n",
       "<td>20 days </td></tr>\n",
       "<tr><td>H2O cluster name:</td>\n",
       "<td>#314325683</td></tr>\n",
       "<tr><td>H2O cluster total nodes:</td>\n",
       "<td>1</td></tr>\n",
       "<tr><td>H2O cluster free memory:</td>\n",
       "<td>29.97 Gb</td></tr>\n",
       "<tr><td>H2O cluster total cores:</td>\n",
       "<td>40</td></tr>\n",
       "<tr><td>H2O cluster allowed cores:</td>\n",
       "<td>20</td></tr>\n",
       "<tr><td>H2O cluster status:</td>\n",
       "<td>accepting new members, healthy</td></tr>\n",
       "<tr><td>H2O connection url:</td>\n",
       "<td>http://127.0.0.1:54321</td></tr>\n",
       "<tr><td>H2O connection proxy:</td>\n",
       "<td>{'http': None, 'https': None}</td></tr>\n",
       "<tr><td>H2O internal security:</td>\n",
       "<td>False</td></tr>\n",
       "<tr><td>H2O API Extensions:</td>\n",
       "<td>Amazon S3, XGBoost, Algos, AutoML, Core V3, TargetEncoder, Core V4</td></tr>\n",
       "<tr><td>Python version:</td>\n",
       "<td>3.6.6 final</td></tr></table></div>"
      ],
      "text/plain": [
       "--------------------------  ------------------------------------------------------------------\n",
       "H2O cluster uptime:         01 secs\n",
       "H2O cluster timezone:       Europe/Helsinki\n",
       "H2O data parsing timezone:  UTC\n",
       "H2O cluster version:        3.26.0.10\n",
       "H2O cluster version age:    20 days\n",
       "H2O cluster name:           #314325683\n",
       "H2O cluster total nodes:    1\n",
       "H2O cluster free memory:    29.97 Gb\n",
       "H2O cluster total cores:    40\n",
       "H2O cluster allowed cores:  20\n",
       "H2O cluster status:         accepting new members, healthy\n",
       "H2O connection url:         http://127.0.0.1:54321\n",
       "H2O connection proxy:       {'http': None, 'https': None}\n",
       "H2O internal security:      False\n",
       "H2O API Extensions:         Amazon S3, XGBoost, Algos, AutoML, Core V3, TargetEncoder, Core V4\n",
       "Python version:             3.6.6 final\n",
       "--------------------------  ------------------------------------------------------------------"
      ]
     },
     "metadata": {},
     "output_type": "display_data"
    },
    {
     "name": "stdout",
     "output_type": "stream",
     "text": [
      "H2O session _sid_991b closed."
     ]
    },
    {
     "name": "stdout",
     "output_type": "stream",
     "text": [
      "\n"
     ]
    },
    {
     "name": "stdout",
     "output_type": "stream",
     "text": [
      "<class 'h2o.automl.autoh2o.H2OAutoML'>"
     ]
    },
    {
     "name": "stdout",
     "output_type": "stream",
     "text": [
      "\n"
     ]
    },
    {
     "name": "stdout",
     "output_type": "stream",
     "text": [
      "0.451"
     ]
    },
    {
     "name": "stdout",
     "output_type": "stream",
     "text": [
      "\n"
     ]
    },
    {
     "name": "stdout",
     "output_type": "stream",
     "text": [
      "Checking whether there is an H2O instance running at http://localhost:54321 "
     ]
    },
    {
     "name": "stdout",
     "output_type": "stream",
     "text": [
      "."
     ]
    },
    {
     "name": "stdout",
     "output_type": "stream",
     "text": [
      "."
     ]
    },
    {
     "name": "stdout",
     "output_type": "stream",
     "text": [
      "."
     ]
    },
    {
     "name": "stdout",
     "output_type": "stream",
     "text": [
      "."
     ]
    },
    {
     "name": "stdout",
     "output_type": "stream",
     "text": [
      "."
     ]
    },
    {
     "name": "stdout",
     "output_type": "stream",
     "text": [
      " not found."
     ]
    },
    {
     "name": "stdout",
     "output_type": "stream",
     "text": [
      "\n"
     ]
    },
    {
     "name": "stdout",
     "output_type": "stream",
     "text": [
      "Attempting to start a local H2O server..."
     ]
    },
    {
     "name": "stdout",
     "output_type": "stream",
     "text": [
      "\n"
     ]
    },
    {
     "name": "stdout",
     "output_type": "stream",
     "text": [
      "  Java Version: openjdk version \"11.0.2\" 2019-01-15; OpenJDK Runtime Environment 18.9 (build 11.0.2+9); OpenJDK 64-Bit Server VM 18.9 (build 11.0.2+9, mixed mode)"
     ]
    },
    {
     "name": "stdout",
     "output_type": "stream",
     "text": [
      "\n"
     ]
    },
    {
     "name": "stdout",
     "output_type": "stream",
     "text": [
      "  Starting server from /wrk/users/thalvari/dpEmu-AutoML/venv/lib/python3.6/site-packages/h2o/backend/bin/h2o.jar"
     ]
    },
    {
     "name": "stdout",
     "output_type": "stream",
     "text": [
      "\n"
     ]
    },
    {
     "name": "stdout",
     "output_type": "stream",
     "text": [
      "  Ice root: /wrk/users/thalvari/tmpqufmic_1"
     ]
    },
    {
     "name": "stdout",
     "output_type": "stream",
     "text": [
      "\n"
     ]
    },
    {
     "name": "stdout",
     "output_type": "stream",
     "text": [
      "  JVM stdout: /wrk/users/thalvari/tmpqufmic_1/h2o_thalvari_started_from_python.out"
     ]
    },
    {
     "name": "stdout",
     "output_type": "stream",
     "text": [
      "\n"
     ]
    },
    {
     "name": "stdout",
     "output_type": "stream",
     "text": [
      "  JVM stderr: /wrk/users/thalvari/tmpqufmic_1/h2o_thalvari_started_from_python.err"
     ]
    },
    {
     "name": "stdout",
     "output_type": "stream",
     "text": [
      "\n"
     ]
    },
    {
     "name": "stdout",
     "output_type": "stream",
     "text": [
      "  Server is running at http://127.0.0.1:54321"
     ]
    },
    {
     "name": "stdout",
     "output_type": "stream",
     "text": [
      "\n"
     ]
    },
    {
     "name": "stdout",
     "output_type": "stream",
     "text": [
      "Connecting to H2O server at http://127.0.0.1:54321 .."
     ]
    },
    {
     "name": "stdout",
     "output_type": "stream",
     "text": [
      "."
     ]
    },
    {
     "name": "stdout",
     "output_type": "stream",
     "text": [
      " successful."
     ]
    },
    {
     "name": "stdout",
     "output_type": "stream",
     "text": [
      "\n"
     ]
    },
    {
     "data": {
      "text/html": [
       "<div style=\"overflow:auto\"><table style=\"width:50%\"><tr><td>H2O cluster uptime:</td>\n",
       "<td>01 secs</td></tr>\n",
       "<tr><td>H2O cluster timezone:</td>\n",
       "<td>Europe/Helsinki</td></tr>\n",
       "<tr><td>H2O data parsing timezone:</td>\n",
       "<td>UTC</td></tr>\n",
       "<tr><td>H2O cluster version:</td>\n",
       "<td>3.26.0.10</td></tr>\n",
       "<tr><td>H2O cluster version age:</td>\n",
       "<td>20 days </td></tr>\n",
       "<tr><td>H2O cluster name:</td>\n",
       "<td>#366729032</td></tr>\n",
       "<tr><td>H2O cluster total nodes:</td>\n",
       "<td>1</td></tr>\n",
       "<tr><td>H2O cluster free memory:</td>\n",
       "<td>29.97 Gb</td></tr>\n",
       "<tr><td>H2O cluster total cores:</td>\n",
       "<td>40</td></tr>\n",
       "<tr><td>H2O cluster allowed cores:</td>\n",
       "<td>20</td></tr>\n",
       "<tr><td>H2O cluster status:</td>\n",
       "<td>accepting new members, healthy</td></tr>\n",
       "<tr><td>H2O connection url:</td>\n",
       "<td>http://127.0.0.1:54321</td></tr>\n",
       "<tr><td>H2O connection proxy:</td>\n",
       "<td>{'http': None, 'https': None}</td></tr>\n",
       "<tr><td>H2O internal security:</td>\n",
       "<td>False</td></tr>\n",
       "<tr><td>H2O API Extensions:</td>\n",
       "<td>Amazon S3, XGBoost, Algos, AutoML, Core V3, TargetEncoder, Core V4</td></tr>\n",
       "<tr><td>Python version:</td>\n",
       "<td>3.6.6 final</td></tr></table></div>"
      ],
      "text/plain": [
       "--------------------------  ------------------------------------------------------------------\n",
       "H2O cluster uptime:         01 secs\n",
       "H2O cluster timezone:       Europe/Helsinki\n",
       "H2O data parsing timezone:  UTC\n",
       "H2O cluster version:        3.26.0.10\n",
       "H2O cluster version age:    20 days\n",
       "H2O cluster name:           #366729032\n",
       "H2O cluster total nodes:    1\n",
       "H2O cluster free memory:    29.97 Gb\n",
       "H2O cluster total cores:    40\n",
       "H2O cluster allowed cores:  20\n",
       "H2O cluster status:         accepting new members, healthy\n",
       "H2O connection url:         http://127.0.0.1:54321\n",
       "H2O connection proxy:       {'http': None, 'https': None}\n",
       "H2O internal security:      False\n",
       "H2O API Extensions:         Amazon S3, XGBoost, Algos, AutoML, Core V3, TargetEncoder, Core V4\n",
       "Python version:             3.6.6 final\n",
       "--------------------------  ------------------------------------------------------------------"
      ]
     },
     "metadata": {},
     "output_type": "display_data"
    },
    {
     "name": "stdout",
     "output_type": "stream",
     "text": [
      "H2O session _sid_8e9f closed."
     ]
    },
    {
     "name": "stdout",
     "output_type": "stream",
     "text": [
      "\n"
     ]
    },
    {
     "name": "stdout",
     "output_type": "stream",
     "text": [
      "<class 'h2o.automl.autoh2o.H2OAutoML'>"
     ]
    },
    {
     "name": "stdout",
     "output_type": "stream",
     "text": [
      "\n"
     ]
    },
    {
     "name": "stdout",
     "output_type": "stream",
     "text": [
      "0.233"
     ]
    },
    {
     "name": "stdout",
     "output_type": "stream",
     "text": [
      "\n"
     ]
    },
    {
     "name": "stderr",
     "output_type": "stream",
     "text": [
      "\r",
      " 83%|████████▎ | 5/6 [57:01:49<11:16:14, 40574.35s/it]"
     ]
    },
    {
     "name": "stdout",
     "output_type": "stream",
     "text": [
      "<class 'autokeras.image.image_supervised.ImageClassifier'>"
     ]
    },
    {
     "name": "stdout",
     "output_type": "stream",
     "text": [
      "\n"
     ]
    },
    {
     "name": "stdout",
     "output_type": "stream",
     "text": [
      "0.226"
     ]
    },
    {
     "name": "stdout",
     "output_type": "stream",
     "text": [
      "\n"
     ]
    },
    {
     "name": "stdout",
     "output_type": "stream",
     "text": [
      "<class 'autokeras.image.image_supervised.ImageClassifier'>"
     ]
    },
    {
     "name": "stdout",
     "output_type": "stream",
     "text": [
      "\n"
     ]
    },
    {
     "name": "stdout",
     "output_type": "stream",
     "text": [
      "0.237"
     ]
    },
    {
     "name": "stdout",
     "output_type": "stream",
     "text": [
      "\n"
     ]
    },
    {
     "name": "stdout",
     "output_type": "stream",
     "text": [
      "\n"
     ]
    },
    {
     "name": "stdout",
     "output_type": "stream",
     "text": [
      "125.61 minutes have elapsed. TPOT will close down.\n",
      "TPOT closed during evaluation in one generation.\n",
      "WARNING: TPOT may not provide a good pipeline if TPOT is stopped/interrupted in a early generation."
     ]
    },
    {
     "name": "stdout",
     "output_type": "stream",
     "text": [
      "\n"
     ]
    },
    {
     "name": "stdout",
     "output_type": "stream",
     "text": [
      "\n"
     ]
    },
    {
     "name": "stdout",
     "output_type": "stream",
     "text": [
      "\n",
      "TPOT closed prematurely. Will use the current best pipeline."
     ]
    },
    {
     "name": "stdout",
     "output_type": "stream",
     "text": [
      "\n"
     ]
    },
    {
     "name": "stdout",
     "output_type": "stream",
     "text": [
      "Best pipeline:"
     ]
    },
    {
     "name": "stdout",
     "output_type": "stream",
     "text": [
      " "
     ]
    },
    {
     "name": "stdout",
     "output_type": "stream",
     "text": [
      "MultinomialNB(MultinomialNB(RFE(input_matrix, criterion=gini, max_features=0.7500000000000001, n_estimators=100, step=0.2), alpha=0.001, fit_prior=True), alpha=100.0, fit_prior=True)"
     ]
    },
    {
     "name": "stdout",
     "output_type": "stream",
     "text": [
      "\n"
     ]
    },
    {
     "name": "stdout",
     "output_type": "stream",
     "text": [
      "<class 'tpot.tpot.TPOTClassifier'>"
     ]
    },
    {
     "name": "stdout",
     "output_type": "stream",
     "text": [
      "\n"
     ]
    },
    {
     "name": "stdout",
     "output_type": "stream",
     "text": [
      "0.354"
     ]
    },
    {
     "name": "stdout",
     "output_type": "stream",
     "text": [
      "\n"
     ]
    },
    {
     "name": "stdout",
     "output_type": "stream",
     "text": [
      "\n"
     ]
    },
    {
     "name": "stdout",
     "output_type": "stream",
     "text": [
      "122.87 minutes have elapsed. TPOT will close down.\n",
      "TPOT closed during evaluation in one generation.\n",
      "WARNING: TPOT may not provide a good pipeline if TPOT is stopped/interrupted in a early generation."
     ]
    },
    {
     "name": "stdout",
     "output_type": "stream",
     "text": [
      "\n"
     ]
    },
    {
     "name": "stdout",
     "output_type": "stream",
     "text": [
      "\n"
     ]
    },
    {
     "name": "stdout",
     "output_type": "stream",
     "text": [
      "\n",
      "TPOT closed prematurely. Will use the current best pipeline."
     ]
    },
    {
     "name": "stdout",
     "output_type": "stream",
     "text": [
      "\n"
     ]
    },
    {
     "name": "stdout",
     "output_type": "stream",
     "text": [
      "Best pipeline:"
     ]
    },
    {
     "name": "stdout",
     "output_type": "stream",
     "text": [
      " "
     ]
    },
    {
     "name": "stdout",
     "output_type": "stream",
     "text": [
      "KNeighborsClassifier(GradientBoostingClassifier(LinearSVC(DecisionTreeClassifier(PCA(input_matrix, iterated_power=6, svd_solver=randomized), criterion=gini, max_depth=6, min_samples_leaf=10, min_samples_split=2), C=25.0, dual=True, loss=squared_hinge, penalty=l2, tol=0.01), learning_rate=0.001, max_depth=8, max_features=0.35000000000000003, min_samples_leaf=1, min_samples_split=13, n_estimators=100, subsample=1.0), n_neighbors=4, p=2, weights=distance)"
     ]
    },
    {
     "name": "stdout",
     "output_type": "stream",
     "text": [
      "\n"
     ]
    },
    {
     "name": "stdout",
     "output_type": "stream",
     "text": [
      "<class 'tpot.tpot.TPOTClassifier'>"
     ]
    },
    {
     "name": "stdout",
     "output_type": "stream",
     "text": [
      "\n"
     ]
    },
    {
     "name": "stdout",
     "output_type": "stream",
     "text": [
      "0.37"
     ]
    },
    {
     "name": "stdout",
     "output_type": "stream",
     "text": [
      "\n"
     ]
    },
    {
     "name": "stdout",
     "output_type": "stream",
     "text": [
      "Checking whether there is an H2O instance running at http://localhost:54321 "
     ]
    },
    {
     "name": "stdout",
     "output_type": "stream",
     "text": [
      "."
     ]
    },
    {
     "name": "stdout",
     "output_type": "stream",
     "text": [
      "."
     ]
    },
    {
     "name": "stdout",
     "output_type": "stream",
     "text": [
      "."
     ]
    },
    {
     "name": "stdout",
     "output_type": "stream",
     "text": [
      "."
     ]
    },
    {
     "name": "stdout",
     "output_type": "stream",
     "text": [
      "."
     ]
    },
    {
     "name": "stdout",
     "output_type": "stream",
     "text": [
      " not found."
     ]
    },
    {
     "name": "stdout",
     "output_type": "stream",
     "text": [
      "\n"
     ]
    },
    {
     "name": "stdout",
     "output_type": "stream",
     "text": [
      "Attempting to start a local H2O server..."
     ]
    },
    {
     "name": "stdout",
     "output_type": "stream",
     "text": [
      "\n"
     ]
    },
    {
     "name": "stdout",
     "output_type": "stream",
     "text": [
      "  Java Version: openjdk version \"11.0.2\" 2019-01-15; OpenJDK Runtime Environment 18.9 (build 11.0.2+9); OpenJDK 64-Bit Server VM 18.9 (build 11.0.2+9, mixed mode)"
     ]
    },
    {
     "name": "stdout",
     "output_type": "stream",
     "text": [
      "\n"
     ]
    },
    {
     "name": "stdout",
     "output_type": "stream",
     "text": [
      "  Starting server from /wrk/users/thalvari/dpEmu-AutoML/venv/lib/python3.6/site-packages/h2o/backend/bin/h2o.jar"
     ]
    },
    {
     "name": "stdout",
     "output_type": "stream",
     "text": [
      "\n"
     ]
    },
    {
     "name": "stdout",
     "output_type": "stream",
     "text": [
      "  Ice root: /wrk/users/thalvari/tmp3hcf3_0f"
     ]
    },
    {
     "name": "stdout",
     "output_type": "stream",
     "text": [
      "\n"
     ]
    },
    {
     "name": "stdout",
     "output_type": "stream",
     "text": [
      "  JVM stdout: /wrk/users/thalvari/tmp3hcf3_0f/h2o_thalvari_started_from_python.out"
     ]
    },
    {
     "name": "stdout",
     "output_type": "stream",
     "text": [
      "\n"
     ]
    },
    {
     "name": "stdout",
     "output_type": "stream",
     "text": [
      "  JVM stderr: /wrk/users/thalvari/tmp3hcf3_0f/h2o_thalvari_started_from_python.err"
     ]
    },
    {
     "name": "stdout",
     "output_type": "stream",
     "text": [
      "\n"
     ]
    },
    {
     "name": "stdout",
     "output_type": "stream",
     "text": [
      "  Server is running at http://127.0.0.1:54321"
     ]
    },
    {
     "name": "stdout",
     "output_type": "stream",
     "text": [
      "\n"
     ]
    },
    {
     "name": "stdout",
     "output_type": "stream",
     "text": [
      "Connecting to H2O server at http://127.0.0.1:54321 .."
     ]
    },
    {
     "name": "stdout",
     "output_type": "stream",
     "text": [
      "."
     ]
    },
    {
     "name": "stdout",
     "output_type": "stream",
     "text": [
      " successful."
     ]
    },
    {
     "name": "stdout",
     "output_type": "stream",
     "text": [
      "\n"
     ]
    },
    {
     "data": {
      "text/html": [
       "<div style=\"overflow:auto\"><table style=\"width:50%\"><tr><td>H2O cluster uptime:</td>\n",
       "<td>01 secs</td></tr>\n",
       "<tr><td>H2O cluster timezone:</td>\n",
       "<td>Europe/Helsinki</td></tr>\n",
       "<tr><td>H2O data parsing timezone:</td>\n",
       "<td>UTC</td></tr>\n",
       "<tr><td>H2O cluster version:</td>\n",
       "<td>3.26.0.10</td></tr>\n",
       "<tr><td>H2O cluster version age:</td>\n",
       "<td>20 days </td></tr>\n",
       "<tr><td>H2O cluster name:</td>\n",
       "<td>#900320457</td></tr>\n",
       "<tr><td>H2O cluster total nodes:</td>\n",
       "<td>1</td></tr>\n",
       "<tr><td>H2O cluster free memory:</td>\n",
       "<td>29.97 Gb</td></tr>\n",
       "<tr><td>H2O cluster total cores:</td>\n",
       "<td>40</td></tr>\n",
       "<tr><td>H2O cluster allowed cores:</td>\n",
       "<td>20</td></tr>\n",
       "<tr><td>H2O cluster status:</td>\n",
       "<td>accepting new members, healthy</td></tr>\n",
       "<tr><td>H2O connection url:</td>\n",
       "<td>http://127.0.0.1:54321</td></tr>\n",
       "<tr><td>H2O connection proxy:</td>\n",
       "<td>{'http': None, 'https': None}</td></tr>\n",
       "<tr><td>H2O internal security:</td>\n",
       "<td>False</td></tr>\n",
       "<tr><td>H2O API Extensions:</td>\n",
       "<td>Amazon S3, XGBoost, Algos, AutoML, Core V3, TargetEncoder, Core V4</td></tr>\n",
       "<tr><td>Python version:</td>\n",
       "<td>3.6.6 final</td></tr></table></div>"
      ],
      "text/plain": [
       "--------------------------  ------------------------------------------------------------------\n",
       "H2O cluster uptime:         01 secs\n",
       "H2O cluster timezone:       Europe/Helsinki\n",
       "H2O data parsing timezone:  UTC\n",
       "H2O cluster version:        3.26.0.10\n",
       "H2O cluster version age:    20 days\n",
       "H2O cluster name:           #900320457\n",
       "H2O cluster total nodes:    1\n",
       "H2O cluster free memory:    29.97 Gb\n",
       "H2O cluster total cores:    40\n",
       "H2O cluster allowed cores:  20\n",
       "H2O cluster status:         accepting new members, healthy\n",
       "H2O connection url:         http://127.0.0.1:54321\n",
       "H2O connection proxy:       {'http': None, 'https': None}\n",
       "H2O internal security:      False\n",
       "H2O API Extensions:         Amazon S3, XGBoost, Algos, AutoML, Core V3, TargetEncoder, Core V4\n",
       "Python version:             3.6.6 final\n",
       "--------------------------  ------------------------------------------------------------------"
      ]
     },
     "metadata": {},
     "output_type": "display_data"
    },
    {
     "name": "stdout",
     "output_type": "stream",
     "text": [
      "H2O session _sid_9441 closed."
     ]
    },
    {
     "name": "stdout",
     "output_type": "stream",
     "text": [
      "\n"
     ]
    },
    {
     "name": "stdout",
     "output_type": "stream",
     "text": [
      "<class 'h2o.automl.autoh2o.H2OAutoML'>"
     ]
    },
    {
     "name": "stdout",
     "output_type": "stream",
     "text": [
      "\n"
     ]
    },
    {
     "name": "stdout",
     "output_type": "stream",
     "text": [
      "0.311"
     ]
    },
    {
     "name": "stdout",
     "output_type": "stream",
     "text": [
      "\n"
     ]
    },
    {
     "name": "stdout",
     "output_type": "stream",
     "text": [
      "Checking whether there is an H2O instance running at http://localhost:54321 "
     ]
    },
    {
     "name": "stdout",
     "output_type": "stream",
     "text": [
      "."
     ]
    },
    {
     "name": "stdout",
     "output_type": "stream",
     "text": [
      "."
     ]
    },
    {
     "name": "stdout",
     "output_type": "stream",
     "text": [
      "."
     ]
    },
    {
     "name": "stdout",
     "output_type": "stream",
     "text": [
      "."
     ]
    },
    {
     "name": "stdout",
     "output_type": "stream",
     "text": [
      "."
     ]
    },
    {
     "name": "stdout",
     "output_type": "stream",
     "text": [
      " not found."
     ]
    },
    {
     "name": "stdout",
     "output_type": "stream",
     "text": [
      "\n"
     ]
    },
    {
     "name": "stdout",
     "output_type": "stream",
     "text": [
      "Attempting to start a local H2O server..."
     ]
    },
    {
     "name": "stdout",
     "output_type": "stream",
     "text": [
      "\n"
     ]
    },
    {
     "name": "stdout",
     "output_type": "stream",
     "text": [
      "  Java Version: openjdk version \"11.0.2\" 2019-01-15; OpenJDK Runtime Environment 18.9 (build 11.0.2+9); OpenJDK 64-Bit Server VM 18.9 (build 11.0.2+9, mixed mode)"
     ]
    },
    {
     "name": "stdout",
     "output_type": "stream",
     "text": [
      "\n"
     ]
    },
    {
     "name": "stdout",
     "output_type": "stream",
     "text": [
      "  Starting server from /wrk/users/thalvari/dpEmu-AutoML/venv/lib/python3.6/site-packages/h2o/backend/bin/h2o.jar"
     ]
    },
    {
     "name": "stdout",
     "output_type": "stream",
     "text": [
      "\n"
     ]
    },
    {
     "name": "stdout",
     "output_type": "stream",
     "text": [
      "  Ice root: /wrk/users/thalvari/tmpmmufurmu"
     ]
    },
    {
     "name": "stdout",
     "output_type": "stream",
     "text": [
      "\n"
     ]
    },
    {
     "name": "stdout",
     "output_type": "stream",
     "text": [
      "  JVM stdout: /wrk/users/thalvari/tmpmmufurmu/h2o_thalvari_started_from_python.out"
     ]
    },
    {
     "name": "stdout",
     "output_type": "stream",
     "text": [
      "\n"
     ]
    },
    {
     "name": "stdout",
     "output_type": "stream",
     "text": [
      "  JVM stderr: /wrk/users/thalvari/tmpmmufurmu/h2o_thalvari_started_from_python.err"
     ]
    },
    {
     "name": "stdout",
     "output_type": "stream",
     "text": [
      "\n"
     ]
    },
    {
     "name": "stdout",
     "output_type": "stream",
     "text": [
      "  Server is running at http://127.0.0.1:54321"
     ]
    },
    {
     "name": "stdout",
     "output_type": "stream",
     "text": [
      "\n"
     ]
    },
    {
     "name": "stdout",
     "output_type": "stream",
     "text": [
      "Connecting to H2O server at http://127.0.0.1:54321 .."
     ]
    },
    {
     "name": "stdout",
     "output_type": "stream",
     "text": [
      "."
     ]
    },
    {
     "name": "stdout",
     "output_type": "stream",
     "text": [
      " successful."
     ]
    },
    {
     "name": "stdout",
     "output_type": "stream",
     "text": [
      "\n"
     ]
    },
    {
     "data": {
      "text/html": [
       "<div style=\"overflow:auto\"><table style=\"width:50%\"><tr><td>H2O cluster uptime:</td>\n",
       "<td>01 secs</td></tr>\n",
       "<tr><td>H2O cluster timezone:</td>\n",
       "<td>Europe/Helsinki</td></tr>\n",
       "<tr><td>H2O data parsing timezone:</td>\n",
       "<td>UTC</td></tr>\n",
       "<tr><td>H2O cluster version:</td>\n",
       "<td>3.26.0.10</td></tr>\n",
       "<tr><td>H2O cluster version age:</td>\n",
       "<td>20 days </td></tr>\n",
       "<tr><td>H2O cluster name:</td>\n",
       "<td>#993161675</td></tr>\n",
       "<tr><td>H2O cluster total nodes:</td>\n",
       "<td>1</td></tr>\n",
       "<tr><td>H2O cluster free memory:</td>\n",
       "<td>29.97 Gb</td></tr>\n",
       "<tr><td>H2O cluster total cores:</td>\n",
       "<td>40</td></tr>\n",
       "<tr><td>H2O cluster allowed cores:</td>\n",
       "<td>20</td></tr>\n",
       "<tr><td>H2O cluster status:</td>\n",
       "<td>accepting new members, healthy</td></tr>\n",
       "<tr><td>H2O connection url:</td>\n",
       "<td>http://127.0.0.1:54321</td></tr>\n",
       "<tr><td>H2O connection proxy:</td>\n",
       "<td>{'http': None, 'https': None}</td></tr>\n",
       "<tr><td>H2O internal security:</td>\n",
       "<td>False</td></tr>\n",
       "<tr><td>H2O API Extensions:</td>\n",
       "<td>Amazon S3, XGBoost, Algos, AutoML, Core V3, TargetEncoder, Core V4</td></tr>\n",
       "<tr><td>Python version:</td>\n",
       "<td>3.6.6 final</td></tr></table></div>"
      ],
      "text/plain": [
       "--------------------------  ------------------------------------------------------------------\n",
       "H2O cluster uptime:         01 secs\n",
       "H2O cluster timezone:       Europe/Helsinki\n",
       "H2O data parsing timezone:  UTC\n",
       "H2O cluster version:        3.26.0.10\n",
       "H2O cluster version age:    20 days\n",
       "H2O cluster name:           #993161675\n",
       "H2O cluster total nodes:    1\n",
       "H2O cluster free memory:    29.97 Gb\n",
       "H2O cluster total cores:    40\n",
       "H2O cluster allowed cores:  20\n",
       "H2O cluster status:         accepting new members, healthy\n",
       "H2O connection url:         http://127.0.0.1:54321\n",
       "H2O connection proxy:       {'http': None, 'https': None}\n",
       "H2O internal security:      False\n",
       "H2O API Extensions:         Amazon S3, XGBoost, Algos, AutoML, Core V3, TargetEncoder, Core V4\n",
       "Python version:             3.6.6 final\n",
       "--------------------------  ------------------------------------------------------------------"
      ]
     },
     "metadata": {},
     "output_type": "display_data"
    },
    {
     "name": "stdout",
     "output_type": "stream",
     "text": [
      "H2O session _sid_b9f1 closed."
     ]
    },
    {
     "name": "stdout",
     "output_type": "stream",
     "text": [
      "\n"
     ]
    },
    {
     "name": "stdout",
     "output_type": "stream",
     "text": [
      "<class 'h2o.automl.autoh2o.H2OAutoML'>"
     ]
    },
    {
     "name": "stdout",
     "output_type": "stream",
     "text": [
      "\n"
     ]
    },
    {
     "name": "stdout",
     "output_type": "stream",
     "text": [
      "0.171"
     ]
    },
    {
     "name": "stdout",
     "output_type": "stream",
     "text": [
      "\n"
     ]
    },
    {
     "name": "stderr",
     "output_type": "stream",
     "text": [
      "\r",
      "100%|██████████| 6/6 [68:24:46<00:00, 40695.39s/it]   "
     ]
    },
    {
     "name": "stderr",
     "output_type": "stream",
     "text": [
      "\r",
      "100%|██████████| 6/6 [68:24:46<00:00, 41047.83s/it]"
     ]
    },
    {
     "name": "stderr",
     "output_type": "stream",
     "text": [
      "\n"
     ]
    }
   ],
   "source": [
    "train_data, test_data, train_labels, test_labels = get_data()\n",
    "\n",
    "df = runner.run(\n",
    "    train_data=train_data,\n",
    "    test_data=test_data,\n",
    "    preproc=Preprocessor,\n",
    "    preproc_params=None,\n",
    "    err_root_node=get_err_root_node(),\n",
    "    # err_params_list=get_err_params_list(),\n",
    "    err_params_list=get_err_params_list(train_data),\n",
    "    model_params_dict_list=get_model_params_dict_list(train_labels, test_labels),\n",
    "    n_processes=1\n",
    ")"
   ]
  },
  {
   "cell_type": "code",
   "execution_count": 11,
   "metadata": {
    "collapsed": false,
    "papermill": {
     "duration": 2.879793,
     "end_time": "2019-11-28T01:26:26.702960",
     "exception": false,
     "start_time": "2019-11-28T01:26:23.823167",
     "status": "completed"
    },
    "pycharm": {
     "is_executing": false,
     "name": "#%%\n"
    },
    "tags": []
   },
   "outputs": [
    {
     "data": {
      "text/plain": [
       "'AutoKeras #1'"
      ]
     },
     "metadata": {},
     "output_type": "display_data"
    },
    {
     "data": {
      "text/html": [
       "<style  type=\"text/css\" >\n",
       "</style><table id=\"T_17719016_117e_11ea_b383_80000208fe80\" ><thead>    <tr>        <th class=\"col_heading level0 col0\" >std</th>        <th class=\"col_heading level0 col1\" >test_acc</th>        <th class=\"col_heading level0 col2\" >train_acc</th>        <th class=\"col_heading level0 col3\" >time_err</th>        <th class=\"col_heading level0 col4\" >time_pre</th>        <th class=\"col_heading level0 col5\" >time_mod</th>    </tr></thead><tbody>\n",
       "                <tr>\n",
       "                                <td id=\"T_17719016_117e_11ea_b383_80000208fe80row0_col0\" class=\"data row0 col0\" >0</td>\n",
       "                        <td id=\"T_17719016_117e_11ea_b383_80000208fe80row0_col1\" class=\"data row0 col1\" >0.988</td>\n",
       "                        <td id=\"T_17719016_117e_11ea_b383_80000208fe80row0_col2\" class=\"data row0 col2\" >0.999</td>\n",
       "                        <td id=\"T_17719016_117e_11ea_b383_80000208fe80row0_col3\" class=\"data row0 col3\" >0.144</td>\n",
       "                        <td id=\"T_17719016_117e_11ea_b383_80000208fe80row0_col4\" class=\"data row0 col4\" >0.001</td>\n",
       "                        <td id=\"T_17719016_117e_11ea_b383_80000208fe80row0_col5\" class=\"data row0 col5\" >7215.09</td>\n",
       "            </tr>\n",
       "            <tr>\n",
       "                                <td id=\"T_17719016_117e_11ea_b383_80000208fe80row1_col0\" class=\"data row1 col0\" >3.2</td>\n",
       "                        <td id=\"T_17719016_117e_11ea_b383_80000208fe80row1_col1\" class=\"data row1 col1\" >0.903</td>\n",
       "                        <td id=\"T_17719016_117e_11ea_b383_80000208fe80row1_col2\" class=\"data row1 col2\" >0.994</td>\n",
       "                        <td id=\"T_17719016_117e_11ea_b383_80000208fe80row1_col3\" class=\"data row1 col3\" >0.182</td>\n",
       "                        <td id=\"T_17719016_117e_11ea_b383_80000208fe80row1_col4\" class=\"data row1 col4\" >0.001</td>\n",
       "                        <td id=\"T_17719016_117e_11ea_b383_80000208fe80row1_col5\" class=\"data row1 col5\" >7201.35</td>\n",
       "            </tr>\n",
       "            <tr>\n",
       "                                <td id=\"T_17719016_117e_11ea_b383_80000208fe80row2_col0\" class=\"data row2 col0\" >6.4</td>\n",
       "                        <td id=\"T_17719016_117e_11ea_b383_80000208fe80row2_col1\" class=\"data row2 col1\" >0.72</td>\n",
       "                        <td id=\"T_17719016_117e_11ea_b383_80000208fe80row2_col2\" class=\"data row2 col2\" >0.949</td>\n",
       "                        <td id=\"T_17719016_117e_11ea_b383_80000208fe80row2_col3\" class=\"data row2 col3\" >0.11</td>\n",
       "                        <td id=\"T_17719016_117e_11ea_b383_80000208fe80row2_col4\" class=\"data row2 col4\" >0.001</td>\n",
       "                        <td id=\"T_17719016_117e_11ea_b383_80000208fe80row2_col5\" class=\"data row2 col5\" >7202.6</td>\n",
       "            </tr>\n",
       "            <tr>\n",
       "                                <td id=\"T_17719016_117e_11ea_b383_80000208fe80row3_col0\" class=\"data row3 col0\" >9.6</td>\n",
       "                        <td id=\"T_17719016_117e_11ea_b383_80000208fe80row3_col1\" class=\"data row3 col1\" >0.498</td>\n",
       "                        <td id=\"T_17719016_117e_11ea_b383_80000208fe80row3_col2\" class=\"data row3 col2\" >0.936</td>\n",
       "                        <td id=\"T_17719016_117e_11ea_b383_80000208fe80row3_col3\" class=\"data row3 col3\" >0.126</td>\n",
       "                        <td id=\"T_17719016_117e_11ea_b383_80000208fe80row3_col4\" class=\"data row3 col4\" >0.001</td>\n",
       "                        <td id=\"T_17719016_117e_11ea_b383_80000208fe80row3_col5\" class=\"data row3 col5\" >7239.58</td>\n",
       "            </tr>\n",
       "            <tr>\n",
       "                                <td id=\"T_17719016_117e_11ea_b383_80000208fe80row4_col0\" class=\"data row4 col0\" >12.8</td>\n",
       "                        <td id=\"T_17719016_117e_11ea_b383_80000208fe80row4_col1\" class=\"data row4 col1\" >0.311</td>\n",
       "                        <td id=\"T_17719016_117e_11ea_b383_80000208fe80row4_col2\" class=\"data row4 col2\" >0.868</td>\n",
       "                        <td id=\"T_17719016_117e_11ea_b383_80000208fe80row4_col3\" class=\"data row4 col3\" >0.157</td>\n",
       "                        <td id=\"T_17719016_117e_11ea_b383_80000208fe80row4_col4\" class=\"data row4 col4\" >0.001</td>\n",
       "                        <td id=\"T_17719016_117e_11ea_b383_80000208fe80row4_col5\" class=\"data row4 col5\" >7252.4</td>\n",
       "            </tr>\n",
       "            <tr>\n",
       "                                <td id=\"T_17719016_117e_11ea_b383_80000208fe80row5_col0\" class=\"data row5 col0\" >16</td>\n",
       "                        <td id=\"T_17719016_117e_11ea_b383_80000208fe80row5_col1\" class=\"data row5 col1\" >0.226</td>\n",
       "                        <td id=\"T_17719016_117e_11ea_b383_80000208fe80row5_col2\" class=\"data row5 col2\" >0.822</td>\n",
       "                        <td id=\"T_17719016_117e_11ea_b383_80000208fe80row5_col3\" class=\"data row5 col3\" >0.165</td>\n",
       "                        <td id=\"T_17719016_117e_11ea_b383_80000208fe80row5_col4\" class=\"data row5 col4\" >0.001</td>\n",
       "                        <td id=\"T_17719016_117e_11ea_b383_80000208fe80row5_col5\" class=\"data row5 col5\" >7238.76</td>\n",
       "            </tr>\n",
       "    </tbody></table>"
      ],
      "text/plain": [
       "<pandas.io.formats.style.Styler at 0x2b3222450a90>"
      ]
     },
     "metadata": {},
     "output_type": "display_data"
    },
    {
     "data": {
      "text/html": [
       "<style  type=\"text/css\" >\n",
       "</style><table id=\"T_177bee94_117e_11ea_b383_80000208fe80\" ><thead>    <tr>        <th class=\"col_heading level0 col0\" >std</th>        <th class=\"col_heading level0 col1\" >pipe_0</th>        <th class=\"col_heading level0 col2\" >pipe_1</th>        <th class=\"col_heading level0 col3\" >pipe_2</th>        <th class=\"col_heading level0 col4\" >pipe_3</th>        <th class=\"col_heading level0 col5\" >pipe_4</th>        <th class=\"col_heading level0 col6\" >pipe_5</th>        <th class=\"col_heading level0 col7\" >pipe_6</th>        <th class=\"col_heading level0 col8\" >pipe_7</th>        <th class=\"col_heading level0 col9\" >pipe_8</th>        <th class=\"col_heading level0 col10\" >pipe_9</th>        <th class=\"col_heading level0 col11\" >pipe_10</th>        <th class=\"col_heading level0 col12\" >pipe_11</th>        <th class=\"col_heading level0 col13\" >pipe_12</th>        <th class=\"col_heading level0 col14\" >pipe_13</th>        <th class=\"col_heading level0 col15\" >pipe_14</th>        <th class=\"col_heading level0 col16\" >pipe_15</th>        <th class=\"col_heading level0 col17\" >pipe_16</th>        <th class=\"col_heading level0 col18\" >pipe_17</th>        <th class=\"col_heading level0 col19\" >pipe_18</th>        <th class=\"col_heading level0 col20\" >pipe_19</th>        <th class=\"col_heading level0 col21\" >pipe_20</th>        <th class=\"col_heading level0 col22\" >pipe_21</th>        <th class=\"col_heading level0 col23\" >pipe_22</th>        <th class=\"col_heading level0 col24\" >pipe_23</th>        <th class=\"col_heading level0 col25\" >pipe_24</th>        <th class=\"col_heading level0 col26\" >pipe_25</th>        <th class=\"col_heading level0 col27\" >pipe_26</th>        <th class=\"col_heading level0 col28\" >pipe_27</th>        <th class=\"col_heading level0 col29\" >pipe_28</th>        <th class=\"col_heading level0 col30\" >pipe_29</th>        <th class=\"col_heading level0 col31\" >pipe_30</th>        <th class=\"col_heading level0 col32\" >pipe_31</th>        <th class=\"col_heading level0 col33\" >pipe_32</th>        <th class=\"col_heading level0 col34\" >pipe_33</th>        <th class=\"col_heading level0 col35\" >pipe_34</th>        <th class=\"col_heading level0 col36\" >pipe_35</th>        <th class=\"col_heading level0 col37\" >pipe_36</th>        <th class=\"col_heading level0 col38\" >pipe_37</th>        <th class=\"col_heading level0 col39\" >pipe_38</th>        <th class=\"col_heading level0 col40\" >pipe_39</th>        <th class=\"col_heading level0 col41\" >pipe_40</th>        <th class=\"col_heading level0 col42\" >pipe_41</th>        <th class=\"col_heading level0 col43\" >pipe_42</th>        <th class=\"col_heading level0 col44\" >pipe_43</th>        <th class=\"col_heading level0 col45\" >pipe_44</th>        <th class=\"col_heading level0 col46\" >pipe_45</th>        <th class=\"col_heading level0 col47\" >pipe_46</th>        <th class=\"col_heading level0 col48\" >pipe_47</th>        <th class=\"col_heading level0 col49\" >pipe_48</th>        <th class=\"col_heading level0 col50\" >pipe_49</th>        <th class=\"col_heading level0 col51\" >pipe_50</th>        <th class=\"col_heading level0 col52\" >pipe_51</th>        <th class=\"col_heading level0 col53\" >pipe_52</th>        <th class=\"col_heading level0 col54\" >pipe_53</th>        <th class=\"col_heading level0 col55\" >pipe_54</th>        <th class=\"col_heading level0 col56\" >pipe_55</th>        <th class=\"col_heading level0 col57\" >pipe_56</th>        <th class=\"col_heading level0 col58\" >pipe_57</th>        <th class=\"col_heading level0 col59\" >pipe_58</th>        <th class=\"col_heading level0 col60\" >pipe_59</th>        <th class=\"col_heading level0 col61\" >pipe_60</th>        <th class=\"col_heading level0 col62\" >pipe_61</th>        <th class=\"col_heading level0 col63\" >pipe_62</th>        <th class=\"col_heading level0 col64\" >pipe_63</th>        <th class=\"col_heading level0 col65\" >pipe_64</th>        <th class=\"col_heading level0 col66\" >pipe_65</th>        <th class=\"col_heading level0 col67\" >pipe_66</th>        <th class=\"col_heading level0 col68\" >pipe_67</th>        <th class=\"col_heading level0 col69\" >pipe_68</th>        <th class=\"col_heading level0 col70\" >pipe_69</th>        <th class=\"col_heading level0 col71\" >pipe_70</th>        <th class=\"col_heading level0 col72\" >pipe_71</th>        <th class=\"col_heading level0 col73\" >pipe_72</th>        <th class=\"col_heading level0 col74\" >pipe_73</th>        <th class=\"col_heading level0 col75\" >pipe_74</th>        <th class=\"col_heading level0 col76\" >pipe_75</th>        <th class=\"col_heading level0 col77\" >pipe_76</th>        <th class=\"col_heading level0 col78\" >pipe_77</th>        <th class=\"col_heading level0 col79\" >pipe_78</th>        <th class=\"col_heading level0 col80\" >pipe_79</th>        <th class=\"col_heading level0 col81\" >pipe_80</th>        <th class=\"col_heading level0 col82\" >pipe_81</th>        <th class=\"col_heading level0 col83\" >pipe_82</th>        <th class=\"col_heading level0 col84\" >pipe_83</th>    </tr></thead><tbody>\n",
       "                <tr>\n",
       "                                <td id=\"T_177bee94_117e_11ea_b383_80000208fe80row0_col0\" class=\"data row0 col0\" >0</td>\n",
       "                        <td id=\"T_177bee94_117e_11ea_b383_80000208fe80row0_col1\" class=\"data row0 col1\" >Conv2d(1, 64, kernel_size=(3, 3), stride=(1, 1), padding=(1, 1))</td>\n",
       "                        <td id=\"T_177bee94_117e_11ea_b383_80000208fe80row0_col2\" class=\"data row0 col2\" >BatchNorm2d(64, eps=1e-05, momentum=0.1, affine=True, track_running_stats=True)</td>\n",
       "                        <td id=\"T_177bee94_117e_11ea_b383_80000208fe80row0_col3\" class=\"data row0 col3\" >BatchNorm2d(64, eps=1e-05, momentum=0.1, affine=True, track_running_stats=True)</td>\n",
       "                        <td id=\"T_177bee94_117e_11ea_b383_80000208fe80row0_col4\" class=\"data row0 col4\" >ReLU()</td>\n",
       "                        <td id=\"T_177bee94_117e_11ea_b383_80000208fe80row0_col5\" class=\"data row0 col5\" >Conv2d(64, 64, kernel_size=(3, 3), stride=(1, 1), padding=(1, 1))</td>\n",
       "                        <td id=\"T_177bee94_117e_11ea_b383_80000208fe80row0_col6\" class=\"data row0 col6\" >BatchNorm2d(64, eps=1e-05, momentum=0.1, affine=True, track_running_stats=True)</td>\n",
       "                        <td id=\"T_177bee94_117e_11ea_b383_80000208fe80row0_col7\" class=\"data row0 col7\" >ReLU()</td>\n",
       "                        <td id=\"T_177bee94_117e_11ea_b383_80000208fe80row0_col8\" class=\"data row0 col8\" >Conv2d(64, 64, kernel_size=(3, 3), stride=(1, 1), padding=(1, 1))</td>\n",
       "                        <td id=\"T_177bee94_117e_11ea_b383_80000208fe80row0_col9\" class=\"data row0 col9\" >ReLU()</td>\n",
       "                        <td id=\"T_177bee94_117e_11ea_b383_80000208fe80row0_col10\" class=\"data row0 col10\" >Conv2d(64, 64, kernel_size=(1, 1), stride=(1, 1))</td>\n",
       "                        <td id=\"T_177bee94_117e_11ea_b383_80000208fe80row0_col11\" class=\"data row0 col11\" >TorchAdd()</td>\n",
       "                        <td id=\"T_177bee94_117e_11ea_b383_80000208fe80row0_col12\" class=\"data row0 col12\" >BatchNorm2d(64, eps=1e-05, momentum=0.1, affine=True, track_running_stats=True)</td>\n",
       "                        <td id=\"T_177bee94_117e_11ea_b383_80000208fe80row0_col13\" class=\"data row0 col13\" >ReLU()</td>\n",
       "                        <td id=\"T_177bee94_117e_11ea_b383_80000208fe80row0_col14\" class=\"data row0 col14\" >Conv2d(64, 64, kernel_size=(3, 3), stride=(1, 1), padding=(1, 1))</td>\n",
       "                        <td id=\"T_177bee94_117e_11ea_b383_80000208fe80row0_col15\" class=\"data row0 col15\" >BatchNorm2d(64, eps=1e-05, momentum=0.1, affine=True, track_running_stats=True)</td>\n",
       "                        <td id=\"T_177bee94_117e_11ea_b383_80000208fe80row0_col16\" class=\"data row0 col16\" >ReLU()</td>\n",
       "                        <td id=\"T_177bee94_117e_11ea_b383_80000208fe80row0_col17\" class=\"data row0 col17\" >Conv2d(64, 64, kernel_size=(3, 3), stride=(1, 1), padding=(1, 1))</td>\n",
       "                        <td id=\"T_177bee94_117e_11ea_b383_80000208fe80row0_col18\" class=\"data row0 col18\" >ReLU()</td>\n",
       "                        <td id=\"T_177bee94_117e_11ea_b383_80000208fe80row0_col19\" class=\"data row0 col19\" >Conv2d(64, 64, kernel_size=(1, 1), stride=(1, 1))</td>\n",
       "                        <td id=\"T_177bee94_117e_11ea_b383_80000208fe80row0_col20\" class=\"data row0 col20\" >TorchAdd()</td>\n",
       "                        <td id=\"T_177bee94_117e_11ea_b383_80000208fe80row0_col21\" class=\"data row0 col21\" >BatchNorm2d(64, eps=1e-05, momentum=0.1, affine=True, track_running_stats=True)</td>\n",
       "                        <td id=\"T_177bee94_117e_11ea_b383_80000208fe80row0_col22\" class=\"data row0 col22\" >ReLU()</td>\n",
       "                        <td id=\"T_177bee94_117e_11ea_b383_80000208fe80row0_col23\" class=\"data row0 col23\" >Conv2d(64, 128, kernel_size=(3, 3), stride=(2, 2), padding=(1, 1))</td>\n",
       "                        <td id=\"T_177bee94_117e_11ea_b383_80000208fe80row0_col24\" class=\"data row0 col24\" >BatchNorm2d(128, eps=1e-05, momentum=0.1, affine=True, track_running_stats=True)</td>\n",
       "                        <td id=\"T_177bee94_117e_11ea_b383_80000208fe80row0_col25\" class=\"data row0 col25\" >ReLU()</td>\n",
       "                        <td id=\"T_177bee94_117e_11ea_b383_80000208fe80row0_col26\" class=\"data row0 col26\" >Conv2d(128, 128, kernel_size=(3, 3), stride=(1, 1), padding=(1, 1))</td>\n",
       "                        <td id=\"T_177bee94_117e_11ea_b383_80000208fe80row0_col27\" class=\"data row0 col27\" >ReLU()</td>\n",
       "                        <td id=\"T_177bee94_117e_11ea_b383_80000208fe80row0_col28\" class=\"data row0 col28\" >Conv2d(64, 128, kernel_size=(1, 1), stride=(2, 2))</td>\n",
       "                        <td id=\"T_177bee94_117e_11ea_b383_80000208fe80row0_col29\" class=\"data row0 col29\" >TorchAdd()</td>\n",
       "                        <td id=\"T_177bee94_117e_11ea_b383_80000208fe80row0_col30\" class=\"data row0 col30\" >BatchNorm2d(128, eps=1e-05, momentum=0.1, affine=True, track_running_stats=True)</td>\n",
       "                        <td id=\"T_177bee94_117e_11ea_b383_80000208fe80row0_col31\" class=\"data row0 col31\" >ReLU()</td>\n",
       "                        <td id=\"T_177bee94_117e_11ea_b383_80000208fe80row0_col32\" class=\"data row0 col32\" >Conv2d(128, 128, kernel_size=(3, 3), stride=(1, 1), padding=(1, 1))</td>\n",
       "                        <td id=\"T_177bee94_117e_11ea_b383_80000208fe80row0_col33\" class=\"data row0 col33\" >BatchNorm2d(128, eps=1e-05, momentum=0.1, affine=True, track_running_stats=True)</td>\n",
       "                        <td id=\"T_177bee94_117e_11ea_b383_80000208fe80row0_col34\" class=\"data row0 col34\" >ReLU()</td>\n",
       "                        <td id=\"T_177bee94_117e_11ea_b383_80000208fe80row0_col35\" class=\"data row0 col35\" >Conv2d(128, 128, kernel_size=(3, 3), stride=(1, 1), padding=(1, 1))</td>\n",
       "                        <td id=\"T_177bee94_117e_11ea_b383_80000208fe80row0_col36\" class=\"data row0 col36\" >ReLU()</td>\n",
       "                        <td id=\"T_177bee94_117e_11ea_b383_80000208fe80row0_col37\" class=\"data row0 col37\" >Conv2d(128, 128, kernel_size=(1, 1), stride=(1, 1))</td>\n",
       "                        <td id=\"T_177bee94_117e_11ea_b383_80000208fe80row0_col38\" class=\"data row0 col38\" >TorchAdd()</td>\n",
       "                        <td id=\"T_177bee94_117e_11ea_b383_80000208fe80row0_col39\" class=\"data row0 col39\" >BatchNorm2d(128, eps=1e-05, momentum=0.1, affine=True, track_running_stats=True)</td>\n",
       "                        <td id=\"T_177bee94_117e_11ea_b383_80000208fe80row0_col40\" class=\"data row0 col40\" >ReLU()</td>\n",
       "                        <td id=\"T_177bee94_117e_11ea_b383_80000208fe80row0_col41\" class=\"data row0 col41\" >Conv2d(128, 256, kernel_size=(3, 3), stride=(2, 2), padding=(1, 1))</td>\n",
       "                        <td id=\"T_177bee94_117e_11ea_b383_80000208fe80row0_col42\" class=\"data row0 col42\" >BatchNorm2d(256, eps=1e-05, momentum=0.1, affine=True, track_running_stats=True)</td>\n",
       "                        <td id=\"T_177bee94_117e_11ea_b383_80000208fe80row0_col43\" class=\"data row0 col43\" >ReLU()</td>\n",
       "                        <td id=\"T_177bee94_117e_11ea_b383_80000208fe80row0_col44\" class=\"data row0 col44\" >Conv2d(256, 256, kernel_size=(3, 3), stride=(1, 1), padding=(1, 1))</td>\n",
       "                        <td id=\"T_177bee94_117e_11ea_b383_80000208fe80row0_col45\" class=\"data row0 col45\" >ReLU()</td>\n",
       "                        <td id=\"T_177bee94_117e_11ea_b383_80000208fe80row0_col46\" class=\"data row0 col46\" >Conv2d(128, 256, kernel_size=(1, 1), stride=(2, 2))</td>\n",
       "                        <td id=\"T_177bee94_117e_11ea_b383_80000208fe80row0_col47\" class=\"data row0 col47\" >TorchAdd()</td>\n",
       "                        <td id=\"T_177bee94_117e_11ea_b383_80000208fe80row0_col48\" class=\"data row0 col48\" >BatchNorm2d(256, eps=1e-05, momentum=0.1, affine=True, track_running_stats=True)</td>\n",
       "                        <td id=\"T_177bee94_117e_11ea_b383_80000208fe80row0_col49\" class=\"data row0 col49\" >ReLU()</td>\n",
       "                        <td id=\"T_177bee94_117e_11ea_b383_80000208fe80row0_col50\" class=\"data row0 col50\" >Conv2d(256, 256, kernel_size=(3, 3), stride=(1, 1), padding=(1, 1))</td>\n",
       "                        <td id=\"T_177bee94_117e_11ea_b383_80000208fe80row0_col51\" class=\"data row0 col51\" >BatchNorm2d(256, eps=1e-05, momentum=0.1, affine=True, track_running_stats=True)</td>\n",
       "                        <td id=\"T_177bee94_117e_11ea_b383_80000208fe80row0_col52\" class=\"data row0 col52\" >ReLU()</td>\n",
       "                        <td id=\"T_177bee94_117e_11ea_b383_80000208fe80row0_col53\" class=\"data row0 col53\" >Conv2d(256, 256, kernel_size=(3, 3), stride=(1, 1), padding=(1, 1))</td>\n",
       "                        <td id=\"T_177bee94_117e_11ea_b383_80000208fe80row0_col54\" class=\"data row0 col54\" >ReLU()</td>\n",
       "                        <td id=\"T_177bee94_117e_11ea_b383_80000208fe80row0_col55\" class=\"data row0 col55\" >Conv2d(256, 256, kernel_size=(1, 1), stride=(1, 1))</td>\n",
       "                        <td id=\"T_177bee94_117e_11ea_b383_80000208fe80row0_col56\" class=\"data row0 col56\" >TorchAdd()</td>\n",
       "                        <td id=\"T_177bee94_117e_11ea_b383_80000208fe80row0_col57\" class=\"data row0 col57\" >BatchNorm2d(256, eps=1e-05, momentum=0.1, affine=True, track_running_stats=True)</td>\n",
       "                        <td id=\"T_177bee94_117e_11ea_b383_80000208fe80row0_col58\" class=\"data row0 col58\" >ReLU()</td>\n",
       "                        <td id=\"T_177bee94_117e_11ea_b383_80000208fe80row0_col59\" class=\"data row0 col59\" >Conv2d(256, 512, kernel_size=(3, 3), stride=(2, 2), padding=(1, 1))</td>\n",
       "                        <td id=\"T_177bee94_117e_11ea_b383_80000208fe80row0_col60\" class=\"data row0 col60\" >BatchNorm2d(512, eps=1e-05, momentum=0.1, affine=True, track_running_stats=True)</td>\n",
       "                        <td id=\"T_177bee94_117e_11ea_b383_80000208fe80row0_col61\" class=\"data row0 col61\" >ReLU()</td>\n",
       "                        <td id=\"T_177bee94_117e_11ea_b383_80000208fe80row0_col62\" class=\"data row0 col62\" >Conv2d(512, 512, kernel_size=(3, 3), stride=(1, 1), padding=(1, 1))</td>\n",
       "                        <td id=\"T_177bee94_117e_11ea_b383_80000208fe80row0_col63\" class=\"data row0 col63\" >ReLU()</td>\n",
       "                        <td id=\"T_177bee94_117e_11ea_b383_80000208fe80row0_col64\" class=\"data row0 col64\" >Conv2d(256, 512, kernel_size=(1, 1), stride=(2, 2))</td>\n",
       "                        <td id=\"T_177bee94_117e_11ea_b383_80000208fe80row0_col65\" class=\"data row0 col65\" >TorchAdd()</td>\n",
       "                        <td id=\"T_177bee94_117e_11ea_b383_80000208fe80row0_col66\" class=\"data row0 col66\" >BatchNorm2d(512, eps=1e-05, momentum=0.1, affine=True, track_running_stats=True)</td>\n",
       "                        <td id=\"T_177bee94_117e_11ea_b383_80000208fe80row0_col67\" class=\"data row0 col67\" >ReLU()</td>\n",
       "                        <td id=\"T_177bee94_117e_11ea_b383_80000208fe80row0_col68\" class=\"data row0 col68\" >Conv2d(512, 512, kernel_size=(3, 3), stride=(1, 1), padding=(1, 1))</td>\n",
       "                        <td id=\"T_177bee94_117e_11ea_b383_80000208fe80row0_col69\" class=\"data row0 col69\" >BatchNorm2d(512, eps=1e-05, momentum=0.1, affine=True, track_running_stats=True)</td>\n",
       "                        <td id=\"T_177bee94_117e_11ea_b383_80000208fe80row0_col70\" class=\"data row0 col70\" >ReLU()</td>\n",
       "                        <td id=\"T_177bee94_117e_11ea_b383_80000208fe80row0_col71\" class=\"data row0 col71\" >Conv2d(512, 512, kernel_size=(3, 3), stride=(1, 1), padding=(1, 1))</td>\n",
       "                        <td id=\"T_177bee94_117e_11ea_b383_80000208fe80row0_col72\" class=\"data row0 col72\" >ReLU()</td>\n",
       "                        <td id=\"T_177bee94_117e_11ea_b383_80000208fe80row0_col73\" class=\"data row0 col73\" >Conv2d(512, 512, kernel_size=(1, 1), stride=(1, 1))</td>\n",
       "                        <td id=\"T_177bee94_117e_11ea_b383_80000208fe80row0_col74\" class=\"data row0 col74\" >TorchAdd()</td>\n",
       "                        <td id=\"T_177bee94_117e_11ea_b383_80000208fe80row0_col75\" class=\"data row0 col75\" >GlobalAvgPool2d()</td>\n",
       "                        <td id=\"T_177bee94_117e_11ea_b383_80000208fe80row0_col76\" class=\"data row0 col76\" >Linear(in_features=512, out_features=10, bias=True)</td>\n",
       "                        <td id=\"T_177bee94_117e_11ea_b383_80000208fe80row0_col77\" class=\"data row0 col77\" >Conv2d(64, 64, kernel_size=(3, 3), stride=(2, 2), padding=(1, 1))</td>\n",
       "                        <td id=\"T_177bee94_117e_11ea_b383_80000208fe80row0_col78\" class=\"data row0 col78\" >Conv2d(64, 64, kernel_size=(3, 3), stride=(2, 2), padding=(1, 1))</td>\n",
       "                        <td id=\"T_177bee94_117e_11ea_b383_80000208fe80row0_col79\" class=\"data row0 col79\" >Conv2d(64, 64, kernel_size=(3, 3), stride=(2, 2), padding=(1, 1))</td>\n",
       "                        <td id=\"T_177bee94_117e_11ea_b383_80000208fe80row0_col80\" class=\"data row0 col80\" >ReLU()</td>\n",
       "                        <td id=\"T_177bee94_117e_11ea_b383_80000208fe80row0_col81\" class=\"data row0 col81\" >Conv2d(64, 512, kernel_size=(1, 1), stride=(1, 1))</td>\n",
       "                        <td id=\"T_177bee94_117e_11ea_b383_80000208fe80row0_col82\" class=\"data row0 col82\" >TorchAdd()</td>\n",
       "                        <td id=\"T_177bee94_117e_11ea_b383_80000208fe80row0_col83\" class=\"data row0 col83\" >ReLU()</td>\n",
       "                        <td id=\"T_177bee94_117e_11ea_b383_80000208fe80row0_col84\" class=\"data row0 col84\" >Conv2d(128, 128, kernel_size=(5, 5), stride=(1, 1), padding=(2, 2))</td>\n",
       "            </tr>\n",
       "            <tr>\n",
       "                                <td id=\"T_177bee94_117e_11ea_b383_80000208fe80row1_col0\" class=\"data row1 col0\" >3.2</td>\n",
       "                        <td id=\"T_177bee94_117e_11ea_b383_80000208fe80row1_col1\" class=\"data row1 col1\" >ReLU()</td>\n",
       "                        <td id=\"T_177bee94_117e_11ea_b383_80000208fe80row1_col2\" class=\"data row1 col2\" >BatchNorm2d(1, eps=1e-05, momentum=0.1, affine=True, track_running_stats=True)</td>\n",
       "                        <td id=\"T_177bee94_117e_11ea_b383_80000208fe80row1_col3\" class=\"data row1 col3\" >Conv2d(1, 64, kernel_size=(3, 3), stride=(1, 1), padding=(1, 1))</td>\n",
       "                        <td id=\"T_177bee94_117e_11ea_b383_80000208fe80row1_col4\" class=\"data row1 col4\" >MaxPool2d(kernel_size=2, stride=2, padding=0, dilation=1, ceil_mode=False)</td>\n",
       "                        <td id=\"T_177bee94_117e_11ea_b383_80000208fe80row1_col5\" class=\"data row1 col5\" >ReLU()</td>\n",
       "                        <td id=\"T_177bee94_117e_11ea_b383_80000208fe80row1_col6\" class=\"data row1 col6\" >BatchNorm2d(64, eps=1e-05, momentum=0.1, affine=True, track_running_stats=True)</td>\n",
       "                        <td id=\"T_177bee94_117e_11ea_b383_80000208fe80row1_col7\" class=\"data row1 col7\" >Conv2d(64, 64, kernel_size=(3, 3), stride=(1, 1), padding=(1, 1))</td>\n",
       "                        <td id=\"T_177bee94_117e_11ea_b383_80000208fe80row1_col8\" class=\"data row1 col8\" >MaxPool2d(kernel_size=2, stride=2, padding=0, dilation=1, ceil_mode=False)</td>\n",
       "                        <td id=\"T_177bee94_117e_11ea_b383_80000208fe80row1_col9\" class=\"data row1 col9\" >ReLU()</td>\n",
       "                        <td id=\"T_177bee94_117e_11ea_b383_80000208fe80row1_col10\" class=\"data row1 col10\" >BatchNorm2d(128, eps=1e-05, momentum=0.1, affine=True, track_running_stats=True)</td>\n",
       "                        <td id=\"T_177bee94_117e_11ea_b383_80000208fe80row1_col11\" class=\"data row1 col11\" >Conv2d(128, 64, kernel_size=(3, 3), stride=(1, 1), padding=(1, 1))</td>\n",
       "                        <td id=\"T_177bee94_117e_11ea_b383_80000208fe80row1_col12\" class=\"data row1 col12\" >MaxPool2d(kernel_size=2, stride=2, padding=0, dilation=1, ceil_mode=False)</td>\n",
       "                        <td id=\"T_177bee94_117e_11ea_b383_80000208fe80row1_col13\" class=\"data row1 col13\" >GlobalAvgPool2d()</td>\n",
       "                        <td id=\"T_177bee94_117e_11ea_b383_80000208fe80row1_col14\" class=\"data row1 col14\" >Dropout2d(p=0.25)</td>\n",
       "                        <td id=\"T_177bee94_117e_11ea_b383_80000208fe80row1_col15\" class=\"data row1 col15\" >Linear(in_features=64, out_features=64, bias=True)</td>\n",
       "                        <td id=\"T_177bee94_117e_11ea_b383_80000208fe80row1_col16\" class=\"data row1 col16\" >ReLU()</td>\n",
       "                        <td id=\"T_177bee94_117e_11ea_b383_80000208fe80row1_col17\" class=\"data row1 col17\" >Linear(in_features=64, out_features=10, bias=True)</td>\n",
       "                        <td id=\"T_177bee94_117e_11ea_b383_80000208fe80row1_col18\" class=\"data row1 col18\" >Conv2d(64, 128, kernel_size=(1, 1), stride=(1, 1))</td>\n",
       "                        <td id=\"T_177bee94_117e_11ea_b383_80000208fe80row1_col19\" class=\"data row1 col19\" >Conv2d(64, 64, kernel_size=(3, 3), stride=(1, 1), padding=(1, 1))</td>\n",
       "                        <td id=\"T_177bee94_117e_11ea_b383_80000208fe80row1_col20\" class=\"data row1 col20\" >nan</td>\n",
       "                        <td id=\"T_177bee94_117e_11ea_b383_80000208fe80row1_col21\" class=\"data row1 col21\" >nan</td>\n",
       "                        <td id=\"T_177bee94_117e_11ea_b383_80000208fe80row1_col22\" class=\"data row1 col22\" >nan</td>\n",
       "                        <td id=\"T_177bee94_117e_11ea_b383_80000208fe80row1_col23\" class=\"data row1 col23\" >nan</td>\n",
       "                        <td id=\"T_177bee94_117e_11ea_b383_80000208fe80row1_col24\" class=\"data row1 col24\" >nan</td>\n",
       "                        <td id=\"T_177bee94_117e_11ea_b383_80000208fe80row1_col25\" class=\"data row1 col25\" >nan</td>\n",
       "                        <td id=\"T_177bee94_117e_11ea_b383_80000208fe80row1_col26\" class=\"data row1 col26\" >nan</td>\n",
       "                        <td id=\"T_177bee94_117e_11ea_b383_80000208fe80row1_col27\" class=\"data row1 col27\" >nan</td>\n",
       "                        <td id=\"T_177bee94_117e_11ea_b383_80000208fe80row1_col28\" class=\"data row1 col28\" >nan</td>\n",
       "                        <td id=\"T_177bee94_117e_11ea_b383_80000208fe80row1_col29\" class=\"data row1 col29\" >nan</td>\n",
       "                        <td id=\"T_177bee94_117e_11ea_b383_80000208fe80row1_col30\" class=\"data row1 col30\" >nan</td>\n",
       "                        <td id=\"T_177bee94_117e_11ea_b383_80000208fe80row1_col31\" class=\"data row1 col31\" >nan</td>\n",
       "                        <td id=\"T_177bee94_117e_11ea_b383_80000208fe80row1_col32\" class=\"data row1 col32\" >nan</td>\n",
       "                        <td id=\"T_177bee94_117e_11ea_b383_80000208fe80row1_col33\" class=\"data row1 col33\" >nan</td>\n",
       "                        <td id=\"T_177bee94_117e_11ea_b383_80000208fe80row1_col34\" class=\"data row1 col34\" >nan</td>\n",
       "                        <td id=\"T_177bee94_117e_11ea_b383_80000208fe80row1_col35\" class=\"data row1 col35\" >nan</td>\n",
       "                        <td id=\"T_177bee94_117e_11ea_b383_80000208fe80row1_col36\" class=\"data row1 col36\" >nan</td>\n",
       "                        <td id=\"T_177bee94_117e_11ea_b383_80000208fe80row1_col37\" class=\"data row1 col37\" >nan</td>\n",
       "                        <td id=\"T_177bee94_117e_11ea_b383_80000208fe80row1_col38\" class=\"data row1 col38\" >nan</td>\n",
       "                        <td id=\"T_177bee94_117e_11ea_b383_80000208fe80row1_col39\" class=\"data row1 col39\" >nan</td>\n",
       "                        <td id=\"T_177bee94_117e_11ea_b383_80000208fe80row1_col40\" class=\"data row1 col40\" >nan</td>\n",
       "                        <td id=\"T_177bee94_117e_11ea_b383_80000208fe80row1_col41\" class=\"data row1 col41\" >nan</td>\n",
       "                        <td id=\"T_177bee94_117e_11ea_b383_80000208fe80row1_col42\" class=\"data row1 col42\" >nan</td>\n",
       "                        <td id=\"T_177bee94_117e_11ea_b383_80000208fe80row1_col43\" class=\"data row1 col43\" >nan</td>\n",
       "                        <td id=\"T_177bee94_117e_11ea_b383_80000208fe80row1_col44\" class=\"data row1 col44\" >nan</td>\n",
       "                        <td id=\"T_177bee94_117e_11ea_b383_80000208fe80row1_col45\" class=\"data row1 col45\" >nan</td>\n",
       "                        <td id=\"T_177bee94_117e_11ea_b383_80000208fe80row1_col46\" class=\"data row1 col46\" >nan</td>\n",
       "                        <td id=\"T_177bee94_117e_11ea_b383_80000208fe80row1_col47\" class=\"data row1 col47\" >nan</td>\n",
       "                        <td id=\"T_177bee94_117e_11ea_b383_80000208fe80row1_col48\" class=\"data row1 col48\" >nan</td>\n",
       "                        <td id=\"T_177bee94_117e_11ea_b383_80000208fe80row1_col49\" class=\"data row1 col49\" >nan</td>\n",
       "                        <td id=\"T_177bee94_117e_11ea_b383_80000208fe80row1_col50\" class=\"data row1 col50\" >nan</td>\n",
       "                        <td id=\"T_177bee94_117e_11ea_b383_80000208fe80row1_col51\" class=\"data row1 col51\" >nan</td>\n",
       "                        <td id=\"T_177bee94_117e_11ea_b383_80000208fe80row1_col52\" class=\"data row1 col52\" >nan</td>\n",
       "                        <td id=\"T_177bee94_117e_11ea_b383_80000208fe80row1_col53\" class=\"data row1 col53\" >nan</td>\n",
       "                        <td id=\"T_177bee94_117e_11ea_b383_80000208fe80row1_col54\" class=\"data row1 col54\" >nan</td>\n",
       "                        <td id=\"T_177bee94_117e_11ea_b383_80000208fe80row1_col55\" class=\"data row1 col55\" >nan</td>\n",
       "                        <td id=\"T_177bee94_117e_11ea_b383_80000208fe80row1_col56\" class=\"data row1 col56\" >nan</td>\n",
       "                        <td id=\"T_177bee94_117e_11ea_b383_80000208fe80row1_col57\" class=\"data row1 col57\" >nan</td>\n",
       "                        <td id=\"T_177bee94_117e_11ea_b383_80000208fe80row1_col58\" class=\"data row1 col58\" >nan</td>\n",
       "                        <td id=\"T_177bee94_117e_11ea_b383_80000208fe80row1_col59\" class=\"data row1 col59\" >nan</td>\n",
       "                        <td id=\"T_177bee94_117e_11ea_b383_80000208fe80row1_col60\" class=\"data row1 col60\" >nan</td>\n",
       "                        <td id=\"T_177bee94_117e_11ea_b383_80000208fe80row1_col61\" class=\"data row1 col61\" >nan</td>\n",
       "                        <td id=\"T_177bee94_117e_11ea_b383_80000208fe80row1_col62\" class=\"data row1 col62\" >nan</td>\n",
       "                        <td id=\"T_177bee94_117e_11ea_b383_80000208fe80row1_col63\" class=\"data row1 col63\" >nan</td>\n",
       "                        <td id=\"T_177bee94_117e_11ea_b383_80000208fe80row1_col64\" class=\"data row1 col64\" >nan</td>\n",
       "                        <td id=\"T_177bee94_117e_11ea_b383_80000208fe80row1_col65\" class=\"data row1 col65\" >nan</td>\n",
       "                        <td id=\"T_177bee94_117e_11ea_b383_80000208fe80row1_col66\" class=\"data row1 col66\" >nan</td>\n",
       "                        <td id=\"T_177bee94_117e_11ea_b383_80000208fe80row1_col67\" class=\"data row1 col67\" >nan</td>\n",
       "                        <td id=\"T_177bee94_117e_11ea_b383_80000208fe80row1_col68\" class=\"data row1 col68\" >nan</td>\n",
       "                        <td id=\"T_177bee94_117e_11ea_b383_80000208fe80row1_col69\" class=\"data row1 col69\" >nan</td>\n",
       "                        <td id=\"T_177bee94_117e_11ea_b383_80000208fe80row1_col70\" class=\"data row1 col70\" >nan</td>\n",
       "                        <td id=\"T_177bee94_117e_11ea_b383_80000208fe80row1_col71\" class=\"data row1 col71\" >nan</td>\n",
       "                        <td id=\"T_177bee94_117e_11ea_b383_80000208fe80row1_col72\" class=\"data row1 col72\" >nan</td>\n",
       "                        <td id=\"T_177bee94_117e_11ea_b383_80000208fe80row1_col73\" class=\"data row1 col73\" >nan</td>\n",
       "                        <td id=\"T_177bee94_117e_11ea_b383_80000208fe80row1_col74\" class=\"data row1 col74\" >nan</td>\n",
       "                        <td id=\"T_177bee94_117e_11ea_b383_80000208fe80row1_col75\" class=\"data row1 col75\" >nan</td>\n",
       "                        <td id=\"T_177bee94_117e_11ea_b383_80000208fe80row1_col76\" class=\"data row1 col76\" >nan</td>\n",
       "                        <td id=\"T_177bee94_117e_11ea_b383_80000208fe80row1_col77\" class=\"data row1 col77\" >nan</td>\n",
       "                        <td id=\"T_177bee94_117e_11ea_b383_80000208fe80row1_col78\" class=\"data row1 col78\" >nan</td>\n",
       "                        <td id=\"T_177bee94_117e_11ea_b383_80000208fe80row1_col79\" class=\"data row1 col79\" >nan</td>\n",
       "                        <td id=\"T_177bee94_117e_11ea_b383_80000208fe80row1_col80\" class=\"data row1 col80\" >nan</td>\n",
       "                        <td id=\"T_177bee94_117e_11ea_b383_80000208fe80row1_col81\" class=\"data row1 col81\" >nan</td>\n",
       "                        <td id=\"T_177bee94_117e_11ea_b383_80000208fe80row1_col82\" class=\"data row1 col82\" >nan</td>\n",
       "                        <td id=\"T_177bee94_117e_11ea_b383_80000208fe80row1_col83\" class=\"data row1 col83\" >nan</td>\n",
       "                        <td id=\"T_177bee94_117e_11ea_b383_80000208fe80row1_col84\" class=\"data row1 col84\" >nan</td>\n",
       "            </tr>\n",
       "            <tr>\n",
       "                                <td id=\"T_177bee94_117e_11ea_b383_80000208fe80row2_col0\" class=\"data row2 col0\" >6.4</td>\n",
       "                        <td id=\"T_177bee94_117e_11ea_b383_80000208fe80row2_col1\" class=\"data row2 col1\" >ReLU()</td>\n",
       "                        <td id=\"T_177bee94_117e_11ea_b383_80000208fe80row2_col2\" class=\"data row2 col2\" >BatchNorm2d(1, eps=1e-05, momentum=0.1, affine=True, track_running_stats=True)</td>\n",
       "                        <td id=\"T_177bee94_117e_11ea_b383_80000208fe80row2_col3\" class=\"data row2 col3\" >Conv2d(1, 512, kernel_size=(3, 3), stride=(1, 1), padding=(1, 1))</td>\n",
       "                        <td id=\"T_177bee94_117e_11ea_b383_80000208fe80row2_col4\" class=\"data row2 col4\" >MaxPool2d(kernel_size=2, stride=2, padding=0, dilation=1, ceil_mode=False)</td>\n",
       "                        <td id=\"T_177bee94_117e_11ea_b383_80000208fe80row2_col5\" class=\"data row2 col5\" >ReLU()</td>\n",
       "                        <td id=\"T_177bee94_117e_11ea_b383_80000208fe80row2_col6\" class=\"data row2 col6\" >BatchNorm2d(512, eps=1e-05, momentum=0.1, affine=True, track_running_stats=True)</td>\n",
       "                        <td id=\"T_177bee94_117e_11ea_b383_80000208fe80row2_col7\" class=\"data row2 col7\" >Conv2d(512, 128, kernel_size=(3, 3), stride=(1, 1), padding=(1, 1))</td>\n",
       "                        <td id=\"T_177bee94_117e_11ea_b383_80000208fe80row2_col8\" class=\"data row2 col8\" >MaxPool2d(kernel_size=2, stride=2, padding=0, dilation=1, ceil_mode=False)</td>\n",
       "                        <td id=\"T_177bee94_117e_11ea_b383_80000208fe80row2_col9\" class=\"data row2 col9\" >ReLU()</td>\n",
       "                        <td id=\"T_177bee94_117e_11ea_b383_80000208fe80row2_col10\" class=\"data row2 col10\" >BatchNorm2d(128, eps=1e-05, momentum=0.1, affine=True, track_running_stats=True)</td>\n",
       "                        <td id=\"T_177bee94_117e_11ea_b383_80000208fe80row2_col11\" class=\"data row2 col11\" >Conv2d(128, 64, kernel_size=(3, 3), stride=(1, 1), padding=(1, 1))</td>\n",
       "                        <td id=\"T_177bee94_117e_11ea_b383_80000208fe80row2_col12\" class=\"data row2 col12\" >MaxPool2d(kernel_size=2, stride=2, padding=0, dilation=1, ceil_mode=False)</td>\n",
       "                        <td id=\"T_177bee94_117e_11ea_b383_80000208fe80row2_col13\" class=\"data row2 col13\" >GlobalAvgPool2d()</td>\n",
       "                        <td id=\"T_177bee94_117e_11ea_b383_80000208fe80row2_col14\" class=\"data row2 col14\" >Dropout2d(p=0.25)</td>\n",
       "                        <td id=\"T_177bee94_117e_11ea_b383_80000208fe80row2_col15\" class=\"data row2 col15\" >Linear(in_features=64, out_features=64, bias=True)</td>\n",
       "                        <td id=\"T_177bee94_117e_11ea_b383_80000208fe80row2_col16\" class=\"data row2 col16\" >ReLU()</td>\n",
       "                        <td id=\"T_177bee94_117e_11ea_b383_80000208fe80row2_col17\" class=\"data row2 col17\" >Linear(in_features=64, out_features=10, bias=True)</td>\n",
       "                        <td id=\"T_177bee94_117e_11ea_b383_80000208fe80row2_col18\" class=\"data row2 col18\" >Conv2d(128, 128, kernel_size=(3, 3), stride=(1, 1), padding=(1, 1))</td>\n",
       "                        <td id=\"T_177bee94_117e_11ea_b383_80000208fe80row2_col19\" class=\"data row2 col19\" >ReLU()</td>\n",
       "                        <td id=\"T_177bee94_117e_11ea_b383_80000208fe80row2_col20\" class=\"data row2 col20\" >Conv2d(128, 128, kernel_size=(1, 1), stride=(1, 1))</td>\n",
       "                        <td id=\"T_177bee94_117e_11ea_b383_80000208fe80row2_col21\" class=\"data row2 col21\" >TorchAdd()</td>\n",
       "                        <td id=\"T_177bee94_117e_11ea_b383_80000208fe80row2_col22\" class=\"data row2 col22\" >Conv2d(128, 128, kernel_size=(1, 1), stride=(1, 1))</td>\n",
       "                        <td id=\"T_177bee94_117e_11ea_b383_80000208fe80row2_col23\" class=\"data row2 col23\" >ReLU()</td>\n",
       "                        <td id=\"T_177bee94_117e_11ea_b383_80000208fe80row2_col24\" class=\"data row2 col24\" >nan</td>\n",
       "                        <td id=\"T_177bee94_117e_11ea_b383_80000208fe80row2_col25\" class=\"data row2 col25\" >nan</td>\n",
       "                        <td id=\"T_177bee94_117e_11ea_b383_80000208fe80row2_col26\" class=\"data row2 col26\" >nan</td>\n",
       "                        <td id=\"T_177bee94_117e_11ea_b383_80000208fe80row2_col27\" class=\"data row2 col27\" >nan</td>\n",
       "                        <td id=\"T_177bee94_117e_11ea_b383_80000208fe80row2_col28\" class=\"data row2 col28\" >nan</td>\n",
       "                        <td id=\"T_177bee94_117e_11ea_b383_80000208fe80row2_col29\" class=\"data row2 col29\" >nan</td>\n",
       "                        <td id=\"T_177bee94_117e_11ea_b383_80000208fe80row2_col30\" class=\"data row2 col30\" >nan</td>\n",
       "                        <td id=\"T_177bee94_117e_11ea_b383_80000208fe80row2_col31\" class=\"data row2 col31\" >nan</td>\n",
       "                        <td id=\"T_177bee94_117e_11ea_b383_80000208fe80row2_col32\" class=\"data row2 col32\" >nan</td>\n",
       "                        <td id=\"T_177bee94_117e_11ea_b383_80000208fe80row2_col33\" class=\"data row2 col33\" >nan</td>\n",
       "                        <td id=\"T_177bee94_117e_11ea_b383_80000208fe80row2_col34\" class=\"data row2 col34\" >nan</td>\n",
       "                        <td id=\"T_177bee94_117e_11ea_b383_80000208fe80row2_col35\" class=\"data row2 col35\" >nan</td>\n",
       "                        <td id=\"T_177bee94_117e_11ea_b383_80000208fe80row2_col36\" class=\"data row2 col36\" >nan</td>\n",
       "                        <td id=\"T_177bee94_117e_11ea_b383_80000208fe80row2_col37\" class=\"data row2 col37\" >nan</td>\n",
       "                        <td id=\"T_177bee94_117e_11ea_b383_80000208fe80row2_col38\" class=\"data row2 col38\" >nan</td>\n",
       "                        <td id=\"T_177bee94_117e_11ea_b383_80000208fe80row2_col39\" class=\"data row2 col39\" >nan</td>\n",
       "                        <td id=\"T_177bee94_117e_11ea_b383_80000208fe80row2_col40\" class=\"data row2 col40\" >nan</td>\n",
       "                        <td id=\"T_177bee94_117e_11ea_b383_80000208fe80row2_col41\" class=\"data row2 col41\" >nan</td>\n",
       "                        <td id=\"T_177bee94_117e_11ea_b383_80000208fe80row2_col42\" class=\"data row2 col42\" >nan</td>\n",
       "                        <td id=\"T_177bee94_117e_11ea_b383_80000208fe80row2_col43\" class=\"data row2 col43\" >nan</td>\n",
       "                        <td id=\"T_177bee94_117e_11ea_b383_80000208fe80row2_col44\" class=\"data row2 col44\" >nan</td>\n",
       "                        <td id=\"T_177bee94_117e_11ea_b383_80000208fe80row2_col45\" class=\"data row2 col45\" >nan</td>\n",
       "                        <td id=\"T_177bee94_117e_11ea_b383_80000208fe80row2_col46\" class=\"data row2 col46\" >nan</td>\n",
       "                        <td id=\"T_177bee94_117e_11ea_b383_80000208fe80row2_col47\" class=\"data row2 col47\" >nan</td>\n",
       "                        <td id=\"T_177bee94_117e_11ea_b383_80000208fe80row2_col48\" class=\"data row2 col48\" >nan</td>\n",
       "                        <td id=\"T_177bee94_117e_11ea_b383_80000208fe80row2_col49\" class=\"data row2 col49\" >nan</td>\n",
       "                        <td id=\"T_177bee94_117e_11ea_b383_80000208fe80row2_col50\" class=\"data row2 col50\" >nan</td>\n",
       "                        <td id=\"T_177bee94_117e_11ea_b383_80000208fe80row2_col51\" class=\"data row2 col51\" >nan</td>\n",
       "                        <td id=\"T_177bee94_117e_11ea_b383_80000208fe80row2_col52\" class=\"data row2 col52\" >nan</td>\n",
       "                        <td id=\"T_177bee94_117e_11ea_b383_80000208fe80row2_col53\" class=\"data row2 col53\" >nan</td>\n",
       "                        <td id=\"T_177bee94_117e_11ea_b383_80000208fe80row2_col54\" class=\"data row2 col54\" >nan</td>\n",
       "                        <td id=\"T_177bee94_117e_11ea_b383_80000208fe80row2_col55\" class=\"data row2 col55\" >nan</td>\n",
       "                        <td id=\"T_177bee94_117e_11ea_b383_80000208fe80row2_col56\" class=\"data row2 col56\" >nan</td>\n",
       "                        <td id=\"T_177bee94_117e_11ea_b383_80000208fe80row2_col57\" class=\"data row2 col57\" >nan</td>\n",
       "                        <td id=\"T_177bee94_117e_11ea_b383_80000208fe80row2_col58\" class=\"data row2 col58\" >nan</td>\n",
       "                        <td id=\"T_177bee94_117e_11ea_b383_80000208fe80row2_col59\" class=\"data row2 col59\" >nan</td>\n",
       "                        <td id=\"T_177bee94_117e_11ea_b383_80000208fe80row2_col60\" class=\"data row2 col60\" >nan</td>\n",
       "                        <td id=\"T_177bee94_117e_11ea_b383_80000208fe80row2_col61\" class=\"data row2 col61\" >nan</td>\n",
       "                        <td id=\"T_177bee94_117e_11ea_b383_80000208fe80row2_col62\" class=\"data row2 col62\" >nan</td>\n",
       "                        <td id=\"T_177bee94_117e_11ea_b383_80000208fe80row2_col63\" class=\"data row2 col63\" >nan</td>\n",
       "                        <td id=\"T_177bee94_117e_11ea_b383_80000208fe80row2_col64\" class=\"data row2 col64\" >nan</td>\n",
       "                        <td id=\"T_177bee94_117e_11ea_b383_80000208fe80row2_col65\" class=\"data row2 col65\" >nan</td>\n",
       "                        <td id=\"T_177bee94_117e_11ea_b383_80000208fe80row2_col66\" class=\"data row2 col66\" >nan</td>\n",
       "                        <td id=\"T_177bee94_117e_11ea_b383_80000208fe80row2_col67\" class=\"data row2 col67\" >nan</td>\n",
       "                        <td id=\"T_177bee94_117e_11ea_b383_80000208fe80row2_col68\" class=\"data row2 col68\" >nan</td>\n",
       "                        <td id=\"T_177bee94_117e_11ea_b383_80000208fe80row2_col69\" class=\"data row2 col69\" >nan</td>\n",
       "                        <td id=\"T_177bee94_117e_11ea_b383_80000208fe80row2_col70\" class=\"data row2 col70\" >nan</td>\n",
       "                        <td id=\"T_177bee94_117e_11ea_b383_80000208fe80row2_col71\" class=\"data row2 col71\" >nan</td>\n",
       "                        <td id=\"T_177bee94_117e_11ea_b383_80000208fe80row2_col72\" class=\"data row2 col72\" >nan</td>\n",
       "                        <td id=\"T_177bee94_117e_11ea_b383_80000208fe80row2_col73\" class=\"data row2 col73\" >nan</td>\n",
       "                        <td id=\"T_177bee94_117e_11ea_b383_80000208fe80row2_col74\" class=\"data row2 col74\" >nan</td>\n",
       "                        <td id=\"T_177bee94_117e_11ea_b383_80000208fe80row2_col75\" class=\"data row2 col75\" >nan</td>\n",
       "                        <td id=\"T_177bee94_117e_11ea_b383_80000208fe80row2_col76\" class=\"data row2 col76\" >nan</td>\n",
       "                        <td id=\"T_177bee94_117e_11ea_b383_80000208fe80row2_col77\" class=\"data row2 col77\" >nan</td>\n",
       "                        <td id=\"T_177bee94_117e_11ea_b383_80000208fe80row2_col78\" class=\"data row2 col78\" >nan</td>\n",
       "                        <td id=\"T_177bee94_117e_11ea_b383_80000208fe80row2_col79\" class=\"data row2 col79\" >nan</td>\n",
       "                        <td id=\"T_177bee94_117e_11ea_b383_80000208fe80row2_col80\" class=\"data row2 col80\" >nan</td>\n",
       "                        <td id=\"T_177bee94_117e_11ea_b383_80000208fe80row2_col81\" class=\"data row2 col81\" >nan</td>\n",
       "                        <td id=\"T_177bee94_117e_11ea_b383_80000208fe80row2_col82\" class=\"data row2 col82\" >nan</td>\n",
       "                        <td id=\"T_177bee94_117e_11ea_b383_80000208fe80row2_col83\" class=\"data row2 col83\" >nan</td>\n",
       "                        <td id=\"T_177bee94_117e_11ea_b383_80000208fe80row2_col84\" class=\"data row2 col84\" >nan</td>\n",
       "            </tr>\n",
       "            <tr>\n",
       "                                <td id=\"T_177bee94_117e_11ea_b383_80000208fe80row3_col0\" class=\"data row3 col0\" >9.6</td>\n",
       "                        <td id=\"T_177bee94_117e_11ea_b383_80000208fe80row3_col1\" class=\"data row3 col1\" >Conv2d(1, 64, kernel_size=(3, 3), stride=(1, 1), padding=(1, 1))</td>\n",
       "                        <td id=\"T_177bee94_117e_11ea_b383_80000208fe80row3_col2\" class=\"data row3 col2\" >BatchNorm2d(64, eps=1e-05, momentum=0.1, affine=True, track_running_stats=True)</td>\n",
       "                        <td id=\"T_177bee94_117e_11ea_b383_80000208fe80row3_col3\" class=\"data row3 col3\" >BatchNorm2d(64, eps=1e-05, momentum=0.1, affine=True, track_running_stats=True)</td>\n",
       "                        <td id=\"T_177bee94_117e_11ea_b383_80000208fe80row3_col4\" class=\"data row3 col4\" >ReLU()</td>\n",
       "                        <td id=\"T_177bee94_117e_11ea_b383_80000208fe80row3_col5\" class=\"data row3 col5\" >Conv2d(64, 64, kernel_size=(3, 3), stride=(1, 1), padding=(1, 1))</td>\n",
       "                        <td id=\"T_177bee94_117e_11ea_b383_80000208fe80row3_col6\" class=\"data row3 col6\" >BatchNorm2d(64, eps=1e-05, momentum=0.1, affine=True, track_running_stats=True)</td>\n",
       "                        <td id=\"T_177bee94_117e_11ea_b383_80000208fe80row3_col7\" class=\"data row3 col7\" >ReLU()</td>\n",
       "                        <td id=\"T_177bee94_117e_11ea_b383_80000208fe80row3_col8\" class=\"data row3 col8\" >Conv2d(64, 64, kernel_size=(3, 3), stride=(1, 1), padding=(1, 1))</td>\n",
       "                        <td id=\"T_177bee94_117e_11ea_b383_80000208fe80row3_col9\" class=\"data row3 col9\" >ReLU()</td>\n",
       "                        <td id=\"T_177bee94_117e_11ea_b383_80000208fe80row3_col10\" class=\"data row3 col10\" >Conv2d(64, 64, kernel_size=(1, 1), stride=(1, 1))</td>\n",
       "                        <td id=\"T_177bee94_117e_11ea_b383_80000208fe80row3_col11\" class=\"data row3 col11\" >TorchAdd()</td>\n",
       "                        <td id=\"T_177bee94_117e_11ea_b383_80000208fe80row3_col12\" class=\"data row3 col12\" >BatchNorm2d(64, eps=1e-05, momentum=0.1, affine=True, track_running_stats=True)</td>\n",
       "                        <td id=\"T_177bee94_117e_11ea_b383_80000208fe80row3_col13\" class=\"data row3 col13\" >ReLU()</td>\n",
       "                        <td id=\"T_177bee94_117e_11ea_b383_80000208fe80row3_col14\" class=\"data row3 col14\" >Conv2d(64, 64, kernel_size=(3, 3), stride=(1, 1), padding=(1, 1))</td>\n",
       "                        <td id=\"T_177bee94_117e_11ea_b383_80000208fe80row3_col15\" class=\"data row3 col15\" >BatchNorm2d(64, eps=1e-05, momentum=0.1, affine=True, track_running_stats=True)</td>\n",
       "                        <td id=\"T_177bee94_117e_11ea_b383_80000208fe80row3_col16\" class=\"data row3 col16\" >ReLU()</td>\n",
       "                        <td id=\"T_177bee94_117e_11ea_b383_80000208fe80row3_col17\" class=\"data row3 col17\" >Conv2d(64, 64, kernel_size=(3, 3), stride=(1, 1), padding=(1, 1))</td>\n",
       "                        <td id=\"T_177bee94_117e_11ea_b383_80000208fe80row3_col18\" class=\"data row3 col18\" >ReLU()</td>\n",
       "                        <td id=\"T_177bee94_117e_11ea_b383_80000208fe80row3_col19\" class=\"data row3 col19\" >Conv2d(64, 64, kernel_size=(1, 1), stride=(1, 1))</td>\n",
       "                        <td id=\"T_177bee94_117e_11ea_b383_80000208fe80row3_col20\" class=\"data row3 col20\" >TorchAdd()</td>\n",
       "                        <td id=\"T_177bee94_117e_11ea_b383_80000208fe80row3_col21\" class=\"data row3 col21\" >BatchNorm2d(64, eps=1e-05, momentum=0.1, affine=True, track_running_stats=True)</td>\n",
       "                        <td id=\"T_177bee94_117e_11ea_b383_80000208fe80row3_col22\" class=\"data row3 col22\" >ReLU()</td>\n",
       "                        <td id=\"T_177bee94_117e_11ea_b383_80000208fe80row3_col23\" class=\"data row3 col23\" >Conv2d(64, 128, kernel_size=(3, 3), stride=(2, 2), padding=(1, 1))</td>\n",
       "                        <td id=\"T_177bee94_117e_11ea_b383_80000208fe80row3_col24\" class=\"data row3 col24\" >BatchNorm2d(128, eps=1e-05, momentum=0.1, affine=True, track_running_stats=True)</td>\n",
       "                        <td id=\"T_177bee94_117e_11ea_b383_80000208fe80row3_col25\" class=\"data row3 col25\" >ReLU()</td>\n",
       "                        <td id=\"T_177bee94_117e_11ea_b383_80000208fe80row3_col26\" class=\"data row3 col26\" >Conv2d(128, 128, kernel_size=(3, 3), stride=(1, 1), padding=(1, 1))</td>\n",
       "                        <td id=\"T_177bee94_117e_11ea_b383_80000208fe80row3_col27\" class=\"data row3 col27\" >ReLU()</td>\n",
       "                        <td id=\"T_177bee94_117e_11ea_b383_80000208fe80row3_col28\" class=\"data row3 col28\" >Conv2d(64, 128, kernel_size=(1, 1), stride=(2, 2))</td>\n",
       "                        <td id=\"T_177bee94_117e_11ea_b383_80000208fe80row3_col29\" class=\"data row3 col29\" >TorchAdd()</td>\n",
       "                        <td id=\"T_177bee94_117e_11ea_b383_80000208fe80row3_col30\" class=\"data row3 col30\" >BatchNorm2d(128, eps=1e-05, momentum=0.1, affine=True, track_running_stats=True)</td>\n",
       "                        <td id=\"T_177bee94_117e_11ea_b383_80000208fe80row3_col31\" class=\"data row3 col31\" >ReLU()</td>\n",
       "                        <td id=\"T_177bee94_117e_11ea_b383_80000208fe80row3_col32\" class=\"data row3 col32\" >Conv2d(128, 128, kernel_size=(3, 3), stride=(1, 1), padding=(1, 1))</td>\n",
       "                        <td id=\"T_177bee94_117e_11ea_b383_80000208fe80row3_col33\" class=\"data row3 col33\" >BatchNorm2d(128, eps=1e-05, momentum=0.1, affine=True, track_running_stats=True)</td>\n",
       "                        <td id=\"T_177bee94_117e_11ea_b383_80000208fe80row3_col34\" class=\"data row3 col34\" >ReLU()</td>\n",
       "                        <td id=\"T_177bee94_117e_11ea_b383_80000208fe80row3_col35\" class=\"data row3 col35\" >Conv2d(128, 128, kernel_size=(3, 3), stride=(1, 1), padding=(1, 1))</td>\n",
       "                        <td id=\"T_177bee94_117e_11ea_b383_80000208fe80row3_col36\" class=\"data row3 col36\" >ReLU()</td>\n",
       "                        <td id=\"T_177bee94_117e_11ea_b383_80000208fe80row3_col37\" class=\"data row3 col37\" >Conv2d(128, 128, kernel_size=(1, 1), stride=(1, 1))</td>\n",
       "                        <td id=\"T_177bee94_117e_11ea_b383_80000208fe80row3_col38\" class=\"data row3 col38\" >TorchAdd()</td>\n",
       "                        <td id=\"T_177bee94_117e_11ea_b383_80000208fe80row3_col39\" class=\"data row3 col39\" >BatchNorm2d(128, eps=1e-05, momentum=0.1, affine=True, track_running_stats=True)</td>\n",
       "                        <td id=\"T_177bee94_117e_11ea_b383_80000208fe80row3_col40\" class=\"data row3 col40\" >ReLU()</td>\n",
       "                        <td id=\"T_177bee94_117e_11ea_b383_80000208fe80row3_col41\" class=\"data row3 col41\" >Conv2d(128, 256, kernel_size=(3, 3), stride=(2, 2), padding=(1, 1))</td>\n",
       "                        <td id=\"T_177bee94_117e_11ea_b383_80000208fe80row3_col42\" class=\"data row3 col42\" >BatchNorm2d(256, eps=1e-05, momentum=0.1, affine=True, track_running_stats=True)</td>\n",
       "                        <td id=\"T_177bee94_117e_11ea_b383_80000208fe80row3_col43\" class=\"data row3 col43\" >ReLU()</td>\n",
       "                        <td id=\"T_177bee94_117e_11ea_b383_80000208fe80row3_col44\" class=\"data row3 col44\" >Conv2d(256, 256, kernel_size=(3, 3), stride=(1, 1), padding=(1, 1))</td>\n",
       "                        <td id=\"T_177bee94_117e_11ea_b383_80000208fe80row3_col45\" class=\"data row3 col45\" >ReLU()</td>\n",
       "                        <td id=\"T_177bee94_117e_11ea_b383_80000208fe80row3_col46\" class=\"data row3 col46\" >Conv2d(128, 256, kernel_size=(1, 1), stride=(2, 2))</td>\n",
       "                        <td id=\"T_177bee94_117e_11ea_b383_80000208fe80row3_col47\" class=\"data row3 col47\" >TorchAdd()</td>\n",
       "                        <td id=\"T_177bee94_117e_11ea_b383_80000208fe80row3_col48\" class=\"data row3 col48\" >BatchNorm2d(256, eps=1e-05, momentum=0.1, affine=True, track_running_stats=True)</td>\n",
       "                        <td id=\"T_177bee94_117e_11ea_b383_80000208fe80row3_col49\" class=\"data row3 col49\" >ReLU()</td>\n",
       "                        <td id=\"T_177bee94_117e_11ea_b383_80000208fe80row3_col50\" class=\"data row3 col50\" >Conv2d(256, 256, kernel_size=(3, 3), stride=(1, 1), padding=(1, 1))</td>\n",
       "                        <td id=\"T_177bee94_117e_11ea_b383_80000208fe80row3_col51\" class=\"data row3 col51\" >BatchNorm2d(256, eps=1e-05, momentum=0.1, affine=True, track_running_stats=True)</td>\n",
       "                        <td id=\"T_177bee94_117e_11ea_b383_80000208fe80row3_col52\" class=\"data row3 col52\" >ReLU()</td>\n",
       "                        <td id=\"T_177bee94_117e_11ea_b383_80000208fe80row3_col53\" class=\"data row3 col53\" >Conv2d(256, 256, kernel_size=(3, 3), stride=(1, 1), padding=(1, 1))</td>\n",
       "                        <td id=\"T_177bee94_117e_11ea_b383_80000208fe80row3_col54\" class=\"data row3 col54\" >ReLU()</td>\n",
       "                        <td id=\"T_177bee94_117e_11ea_b383_80000208fe80row3_col55\" class=\"data row3 col55\" >Conv2d(256, 256, kernel_size=(1, 1), stride=(1, 1))</td>\n",
       "                        <td id=\"T_177bee94_117e_11ea_b383_80000208fe80row3_col56\" class=\"data row3 col56\" >TorchAdd()</td>\n",
       "                        <td id=\"T_177bee94_117e_11ea_b383_80000208fe80row3_col57\" class=\"data row3 col57\" >BatchNorm2d(256, eps=1e-05, momentum=0.1, affine=True, track_running_stats=True)</td>\n",
       "                        <td id=\"T_177bee94_117e_11ea_b383_80000208fe80row3_col58\" class=\"data row3 col58\" >ReLU()</td>\n",
       "                        <td id=\"T_177bee94_117e_11ea_b383_80000208fe80row3_col59\" class=\"data row3 col59\" >Conv2d(256, 512, kernel_size=(3, 3), stride=(2, 2), padding=(1, 1))</td>\n",
       "                        <td id=\"T_177bee94_117e_11ea_b383_80000208fe80row3_col60\" class=\"data row3 col60\" >BatchNorm2d(512, eps=1e-05, momentum=0.1, affine=True, track_running_stats=True)</td>\n",
       "                        <td id=\"T_177bee94_117e_11ea_b383_80000208fe80row3_col61\" class=\"data row3 col61\" >ReLU()</td>\n",
       "                        <td id=\"T_177bee94_117e_11ea_b383_80000208fe80row3_col62\" class=\"data row3 col62\" >Conv2d(512, 512, kernel_size=(3, 3), stride=(1, 1), padding=(1, 1))</td>\n",
       "                        <td id=\"T_177bee94_117e_11ea_b383_80000208fe80row3_col63\" class=\"data row3 col63\" >ReLU()</td>\n",
       "                        <td id=\"T_177bee94_117e_11ea_b383_80000208fe80row3_col64\" class=\"data row3 col64\" >Conv2d(256, 512, kernel_size=(1, 1), stride=(2, 2))</td>\n",
       "                        <td id=\"T_177bee94_117e_11ea_b383_80000208fe80row3_col65\" class=\"data row3 col65\" >TorchAdd()</td>\n",
       "                        <td id=\"T_177bee94_117e_11ea_b383_80000208fe80row3_col66\" class=\"data row3 col66\" >BatchNorm2d(512, eps=1e-05, momentum=0.1, affine=True, track_running_stats=True)</td>\n",
       "                        <td id=\"T_177bee94_117e_11ea_b383_80000208fe80row3_col67\" class=\"data row3 col67\" >ReLU()</td>\n",
       "                        <td id=\"T_177bee94_117e_11ea_b383_80000208fe80row3_col68\" class=\"data row3 col68\" >Conv2d(512, 1024, kernel_size=(3, 3), stride=(1, 1), padding=(1, 1))</td>\n",
       "                        <td id=\"T_177bee94_117e_11ea_b383_80000208fe80row3_col69\" class=\"data row3 col69\" >BatchNorm2d(1024, eps=1e-05, momentum=0.1, affine=True, track_running_stats=True)</td>\n",
       "                        <td id=\"T_177bee94_117e_11ea_b383_80000208fe80row3_col70\" class=\"data row3 col70\" >ReLU()</td>\n",
       "                        <td id=\"T_177bee94_117e_11ea_b383_80000208fe80row3_col71\" class=\"data row3 col71\" >Conv2d(1024, 512, kernel_size=(3, 3), stride=(1, 1), padding=(1, 1))</td>\n",
       "                        <td id=\"T_177bee94_117e_11ea_b383_80000208fe80row3_col72\" class=\"data row3 col72\" >ReLU()</td>\n",
       "                        <td id=\"T_177bee94_117e_11ea_b383_80000208fe80row3_col73\" class=\"data row3 col73\" >Conv2d(512, 512, kernel_size=(1, 1), stride=(1, 1))</td>\n",
       "                        <td id=\"T_177bee94_117e_11ea_b383_80000208fe80row3_col74\" class=\"data row3 col74\" >TorchAdd()</td>\n",
       "                        <td id=\"T_177bee94_117e_11ea_b383_80000208fe80row3_col75\" class=\"data row3 col75\" >GlobalAvgPool2d()</td>\n",
       "                        <td id=\"T_177bee94_117e_11ea_b383_80000208fe80row3_col76\" class=\"data row3 col76\" >Linear(in_features=512, out_features=10, bias=True)</td>\n",
       "                        <td id=\"T_177bee94_117e_11ea_b383_80000208fe80row3_col77\" class=\"data row3 col77\" >Conv2d(128, 128, kernel_size=(5, 5), stride=(1, 1), padding=(2, 2))</td>\n",
       "                        <td id=\"T_177bee94_117e_11ea_b383_80000208fe80row3_col78\" class=\"data row3 col78\" >nan</td>\n",
       "                        <td id=\"T_177bee94_117e_11ea_b383_80000208fe80row3_col79\" class=\"data row3 col79\" >nan</td>\n",
       "                        <td id=\"T_177bee94_117e_11ea_b383_80000208fe80row3_col80\" class=\"data row3 col80\" >nan</td>\n",
       "                        <td id=\"T_177bee94_117e_11ea_b383_80000208fe80row3_col81\" class=\"data row3 col81\" >nan</td>\n",
       "                        <td id=\"T_177bee94_117e_11ea_b383_80000208fe80row3_col82\" class=\"data row3 col82\" >nan</td>\n",
       "                        <td id=\"T_177bee94_117e_11ea_b383_80000208fe80row3_col83\" class=\"data row3 col83\" >nan</td>\n",
       "                        <td id=\"T_177bee94_117e_11ea_b383_80000208fe80row3_col84\" class=\"data row3 col84\" >nan</td>\n",
       "            </tr>\n",
       "            <tr>\n",
       "                                <td id=\"T_177bee94_117e_11ea_b383_80000208fe80row4_col0\" class=\"data row4 col0\" >12.8</td>\n",
       "                        <td id=\"T_177bee94_117e_11ea_b383_80000208fe80row4_col1\" class=\"data row4 col1\" >Conv2d(1, 64, kernel_size=(3, 3), stride=(1, 1), padding=(1, 1))</td>\n",
       "                        <td id=\"T_177bee94_117e_11ea_b383_80000208fe80row4_col2\" class=\"data row4 col2\" >BatchNorm2d(64, eps=1e-05, momentum=0.1, affine=True, track_running_stats=True)</td>\n",
       "                        <td id=\"T_177bee94_117e_11ea_b383_80000208fe80row4_col3\" class=\"data row4 col3\" >BatchNorm2d(64, eps=1e-05, momentum=0.1, affine=True, track_running_stats=True)</td>\n",
       "                        <td id=\"T_177bee94_117e_11ea_b383_80000208fe80row4_col4\" class=\"data row4 col4\" >ReLU()</td>\n",
       "                        <td id=\"T_177bee94_117e_11ea_b383_80000208fe80row4_col5\" class=\"data row4 col5\" >Conv2d(64, 64, kernel_size=(3, 3), stride=(1, 1), padding=(1, 1))</td>\n",
       "                        <td id=\"T_177bee94_117e_11ea_b383_80000208fe80row4_col6\" class=\"data row4 col6\" >BatchNorm2d(64, eps=1e-05, momentum=0.1, affine=True, track_running_stats=True)</td>\n",
       "                        <td id=\"T_177bee94_117e_11ea_b383_80000208fe80row4_col7\" class=\"data row4 col7\" >ReLU()</td>\n",
       "                        <td id=\"T_177bee94_117e_11ea_b383_80000208fe80row4_col8\" class=\"data row4 col8\" >Conv2d(64, 64, kernel_size=(3, 3), stride=(1, 1), padding=(1, 1))</td>\n",
       "                        <td id=\"T_177bee94_117e_11ea_b383_80000208fe80row4_col9\" class=\"data row4 col9\" >ReLU()</td>\n",
       "                        <td id=\"T_177bee94_117e_11ea_b383_80000208fe80row4_col10\" class=\"data row4 col10\" >Conv2d(64, 64, kernel_size=(1, 1), stride=(1, 1))</td>\n",
       "                        <td id=\"T_177bee94_117e_11ea_b383_80000208fe80row4_col11\" class=\"data row4 col11\" >TorchAdd()</td>\n",
       "                        <td id=\"T_177bee94_117e_11ea_b383_80000208fe80row4_col12\" class=\"data row4 col12\" >BatchNorm2d(64, eps=1e-05, momentum=0.1, affine=True, track_running_stats=True)</td>\n",
       "                        <td id=\"T_177bee94_117e_11ea_b383_80000208fe80row4_col13\" class=\"data row4 col13\" >ReLU()</td>\n",
       "                        <td id=\"T_177bee94_117e_11ea_b383_80000208fe80row4_col14\" class=\"data row4 col14\" >Conv2d(64, 64, kernel_size=(3, 3), stride=(1, 1), padding=(1, 1))</td>\n",
       "                        <td id=\"T_177bee94_117e_11ea_b383_80000208fe80row4_col15\" class=\"data row4 col15\" >BatchNorm2d(64, eps=1e-05, momentum=0.1, affine=True, track_running_stats=True)</td>\n",
       "                        <td id=\"T_177bee94_117e_11ea_b383_80000208fe80row4_col16\" class=\"data row4 col16\" >ReLU()</td>\n",
       "                        <td id=\"T_177bee94_117e_11ea_b383_80000208fe80row4_col17\" class=\"data row4 col17\" >Conv2d(64, 64, kernel_size=(3, 3), stride=(1, 1), padding=(1, 1))</td>\n",
       "                        <td id=\"T_177bee94_117e_11ea_b383_80000208fe80row4_col18\" class=\"data row4 col18\" >ReLU()</td>\n",
       "                        <td id=\"T_177bee94_117e_11ea_b383_80000208fe80row4_col19\" class=\"data row4 col19\" >Conv2d(64, 64, kernel_size=(1, 1), stride=(1, 1))</td>\n",
       "                        <td id=\"T_177bee94_117e_11ea_b383_80000208fe80row4_col20\" class=\"data row4 col20\" >TorchAdd()</td>\n",
       "                        <td id=\"T_177bee94_117e_11ea_b383_80000208fe80row4_col21\" class=\"data row4 col21\" >BatchNorm2d(64, eps=1e-05, momentum=0.1, affine=True, track_running_stats=True)</td>\n",
       "                        <td id=\"T_177bee94_117e_11ea_b383_80000208fe80row4_col22\" class=\"data row4 col22\" >ReLU()</td>\n",
       "                        <td id=\"T_177bee94_117e_11ea_b383_80000208fe80row4_col23\" class=\"data row4 col23\" >Conv2d(64, 128, kernel_size=(3, 3), stride=(2, 2), padding=(1, 1))</td>\n",
       "                        <td id=\"T_177bee94_117e_11ea_b383_80000208fe80row4_col24\" class=\"data row4 col24\" >BatchNorm2d(128, eps=1e-05, momentum=0.1, affine=True, track_running_stats=True)</td>\n",
       "                        <td id=\"T_177bee94_117e_11ea_b383_80000208fe80row4_col25\" class=\"data row4 col25\" >ReLU()</td>\n",
       "                        <td id=\"T_177bee94_117e_11ea_b383_80000208fe80row4_col26\" class=\"data row4 col26\" >Conv2d(128, 128, kernel_size=(3, 3), stride=(1, 1), padding=(1, 1))</td>\n",
       "                        <td id=\"T_177bee94_117e_11ea_b383_80000208fe80row4_col27\" class=\"data row4 col27\" >ReLU()</td>\n",
       "                        <td id=\"T_177bee94_117e_11ea_b383_80000208fe80row4_col28\" class=\"data row4 col28\" >Conv2d(64, 128, kernel_size=(1, 1), stride=(2, 2))</td>\n",
       "                        <td id=\"T_177bee94_117e_11ea_b383_80000208fe80row4_col29\" class=\"data row4 col29\" >TorchAdd()</td>\n",
       "                        <td id=\"T_177bee94_117e_11ea_b383_80000208fe80row4_col30\" class=\"data row4 col30\" >BatchNorm2d(128, eps=1e-05, momentum=0.1, affine=True, track_running_stats=True)</td>\n",
       "                        <td id=\"T_177bee94_117e_11ea_b383_80000208fe80row4_col31\" class=\"data row4 col31\" >ReLU()</td>\n",
       "                        <td id=\"T_177bee94_117e_11ea_b383_80000208fe80row4_col32\" class=\"data row4 col32\" >Conv2d(128, 128, kernel_size=(3, 3), stride=(1, 1), padding=(1, 1))</td>\n",
       "                        <td id=\"T_177bee94_117e_11ea_b383_80000208fe80row4_col33\" class=\"data row4 col33\" >BatchNorm2d(128, eps=1e-05, momentum=0.1, affine=True, track_running_stats=True)</td>\n",
       "                        <td id=\"T_177bee94_117e_11ea_b383_80000208fe80row4_col34\" class=\"data row4 col34\" >ReLU()</td>\n",
       "                        <td id=\"T_177bee94_117e_11ea_b383_80000208fe80row4_col35\" class=\"data row4 col35\" >Conv2d(128, 128, kernel_size=(3, 3), stride=(1, 1), padding=(1, 1))</td>\n",
       "                        <td id=\"T_177bee94_117e_11ea_b383_80000208fe80row4_col36\" class=\"data row4 col36\" >ReLU()</td>\n",
       "                        <td id=\"T_177bee94_117e_11ea_b383_80000208fe80row4_col37\" class=\"data row4 col37\" >Conv2d(128, 128, kernel_size=(1, 1), stride=(1, 1))</td>\n",
       "                        <td id=\"T_177bee94_117e_11ea_b383_80000208fe80row4_col38\" class=\"data row4 col38\" >TorchAdd()</td>\n",
       "                        <td id=\"T_177bee94_117e_11ea_b383_80000208fe80row4_col39\" class=\"data row4 col39\" >BatchNorm2d(128, eps=1e-05, momentum=0.1, affine=True, track_running_stats=True)</td>\n",
       "                        <td id=\"T_177bee94_117e_11ea_b383_80000208fe80row4_col40\" class=\"data row4 col40\" >ReLU()</td>\n",
       "                        <td id=\"T_177bee94_117e_11ea_b383_80000208fe80row4_col41\" class=\"data row4 col41\" >Conv2d(128, 256, kernel_size=(3, 3), stride=(2, 2), padding=(1, 1))</td>\n",
       "                        <td id=\"T_177bee94_117e_11ea_b383_80000208fe80row4_col42\" class=\"data row4 col42\" >BatchNorm2d(256, eps=1e-05, momentum=0.1, affine=True, track_running_stats=True)</td>\n",
       "                        <td id=\"T_177bee94_117e_11ea_b383_80000208fe80row4_col43\" class=\"data row4 col43\" >ReLU()</td>\n",
       "                        <td id=\"T_177bee94_117e_11ea_b383_80000208fe80row4_col44\" class=\"data row4 col44\" >Conv2d(256, 256, kernel_size=(3, 3), stride=(1, 1), padding=(1, 1))</td>\n",
       "                        <td id=\"T_177bee94_117e_11ea_b383_80000208fe80row4_col45\" class=\"data row4 col45\" >ReLU()</td>\n",
       "                        <td id=\"T_177bee94_117e_11ea_b383_80000208fe80row4_col46\" class=\"data row4 col46\" >Conv2d(128, 256, kernel_size=(1, 1), stride=(2, 2))</td>\n",
       "                        <td id=\"T_177bee94_117e_11ea_b383_80000208fe80row4_col47\" class=\"data row4 col47\" >TorchAdd()</td>\n",
       "                        <td id=\"T_177bee94_117e_11ea_b383_80000208fe80row4_col48\" class=\"data row4 col48\" >BatchNorm2d(256, eps=1e-05, momentum=0.1, affine=True, track_running_stats=True)</td>\n",
       "                        <td id=\"T_177bee94_117e_11ea_b383_80000208fe80row4_col49\" class=\"data row4 col49\" >ReLU()</td>\n",
       "                        <td id=\"T_177bee94_117e_11ea_b383_80000208fe80row4_col50\" class=\"data row4 col50\" >Conv2d(256, 256, kernel_size=(3, 3), stride=(1, 1), padding=(1, 1))</td>\n",
       "                        <td id=\"T_177bee94_117e_11ea_b383_80000208fe80row4_col51\" class=\"data row4 col51\" >BatchNorm2d(256, eps=1e-05, momentum=0.1, affine=True, track_running_stats=True)</td>\n",
       "                        <td id=\"T_177bee94_117e_11ea_b383_80000208fe80row4_col52\" class=\"data row4 col52\" >ReLU()</td>\n",
       "                        <td id=\"T_177bee94_117e_11ea_b383_80000208fe80row4_col53\" class=\"data row4 col53\" >Conv2d(256, 256, kernel_size=(3, 3), stride=(1, 1), padding=(1, 1))</td>\n",
       "                        <td id=\"T_177bee94_117e_11ea_b383_80000208fe80row4_col54\" class=\"data row4 col54\" >ReLU()</td>\n",
       "                        <td id=\"T_177bee94_117e_11ea_b383_80000208fe80row4_col55\" class=\"data row4 col55\" >Conv2d(256, 256, kernel_size=(1, 1), stride=(1, 1))</td>\n",
       "                        <td id=\"T_177bee94_117e_11ea_b383_80000208fe80row4_col56\" class=\"data row4 col56\" >TorchAdd()</td>\n",
       "                        <td id=\"T_177bee94_117e_11ea_b383_80000208fe80row4_col57\" class=\"data row4 col57\" >BatchNorm2d(256, eps=1e-05, momentum=0.1, affine=True, track_running_stats=True)</td>\n",
       "                        <td id=\"T_177bee94_117e_11ea_b383_80000208fe80row4_col58\" class=\"data row4 col58\" >ReLU()</td>\n",
       "                        <td id=\"T_177bee94_117e_11ea_b383_80000208fe80row4_col59\" class=\"data row4 col59\" >Conv2d(256, 512, kernel_size=(3, 3), stride=(2, 2), padding=(1, 1))</td>\n",
       "                        <td id=\"T_177bee94_117e_11ea_b383_80000208fe80row4_col60\" class=\"data row4 col60\" >BatchNorm2d(512, eps=1e-05, momentum=0.1, affine=True, track_running_stats=True)</td>\n",
       "                        <td id=\"T_177bee94_117e_11ea_b383_80000208fe80row4_col61\" class=\"data row4 col61\" >ReLU()</td>\n",
       "                        <td id=\"T_177bee94_117e_11ea_b383_80000208fe80row4_col62\" class=\"data row4 col62\" >Conv2d(512, 512, kernel_size=(3, 3), stride=(1, 1), padding=(1, 1))</td>\n",
       "                        <td id=\"T_177bee94_117e_11ea_b383_80000208fe80row4_col63\" class=\"data row4 col63\" >ReLU()</td>\n",
       "                        <td id=\"T_177bee94_117e_11ea_b383_80000208fe80row4_col64\" class=\"data row4 col64\" >Conv2d(256, 512, kernel_size=(1, 1), stride=(2, 2))</td>\n",
       "                        <td id=\"T_177bee94_117e_11ea_b383_80000208fe80row4_col65\" class=\"data row4 col65\" >TorchAdd()</td>\n",
       "                        <td id=\"T_177bee94_117e_11ea_b383_80000208fe80row4_col66\" class=\"data row4 col66\" >BatchNorm2d(512, eps=1e-05, momentum=0.1, affine=True, track_running_stats=True)</td>\n",
       "                        <td id=\"T_177bee94_117e_11ea_b383_80000208fe80row4_col67\" class=\"data row4 col67\" >ReLU()</td>\n",
       "                        <td id=\"T_177bee94_117e_11ea_b383_80000208fe80row4_col68\" class=\"data row4 col68\" >Conv2d(512, 512, kernel_size=(3, 3), stride=(1, 1), padding=(1, 1))</td>\n",
       "                        <td id=\"T_177bee94_117e_11ea_b383_80000208fe80row4_col69\" class=\"data row4 col69\" >BatchNorm2d(512, eps=1e-05, momentum=0.1, affine=True, track_running_stats=True)</td>\n",
       "                        <td id=\"T_177bee94_117e_11ea_b383_80000208fe80row4_col70\" class=\"data row4 col70\" >ReLU()</td>\n",
       "                        <td id=\"T_177bee94_117e_11ea_b383_80000208fe80row4_col71\" class=\"data row4 col71\" >Conv2d(512, 512, kernel_size=(3, 3), stride=(1, 1), padding=(1, 1))</td>\n",
       "                        <td id=\"T_177bee94_117e_11ea_b383_80000208fe80row4_col72\" class=\"data row4 col72\" >ReLU()</td>\n",
       "                        <td id=\"T_177bee94_117e_11ea_b383_80000208fe80row4_col73\" class=\"data row4 col73\" >Conv2d(512, 512, kernel_size=(1, 1), stride=(1, 1))</td>\n",
       "                        <td id=\"T_177bee94_117e_11ea_b383_80000208fe80row4_col74\" class=\"data row4 col74\" >TorchAdd()</td>\n",
       "                        <td id=\"T_177bee94_117e_11ea_b383_80000208fe80row4_col75\" class=\"data row4 col75\" >GlobalAvgPool2d()</td>\n",
       "                        <td id=\"T_177bee94_117e_11ea_b383_80000208fe80row4_col76\" class=\"data row4 col76\" >Linear(in_features=512, out_features=10, bias=True)</td>\n",
       "                        <td id=\"T_177bee94_117e_11ea_b383_80000208fe80row4_col77\" class=\"data row4 col77\" >Conv2d(64, 64, kernel_size=(3, 3), stride=(2, 2), padding=(1, 1))</td>\n",
       "                        <td id=\"T_177bee94_117e_11ea_b383_80000208fe80row4_col78\" class=\"data row4 col78\" >Conv2d(64, 64, kernel_size=(3, 3), stride=(2, 2), padding=(1, 1))</td>\n",
       "                        <td id=\"T_177bee94_117e_11ea_b383_80000208fe80row4_col79\" class=\"data row4 col79\" >ReLU()</td>\n",
       "                        <td id=\"T_177bee94_117e_11ea_b383_80000208fe80row4_col80\" class=\"data row4 col80\" >Conv2d(64, 256, kernel_size=(1, 1), stride=(1, 1))</td>\n",
       "                        <td id=\"T_177bee94_117e_11ea_b383_80000208fe80row4_col81\" class=\"data row4 col81\" >TorchAdd()</td>\n",
       "                        <td id=\"T_177bee94_117e_11ea_b383_80000208fe80row4_col82\" class=\"data row4 col82\" >nan</td>\n",
       "                        <td id=\"T_177bee94_117e_11ea_b383_80000208fe80row4_col83\" class=\"data row4 col83\" >nan</td>\n",
       "                        <td id=\"T_177bee94_117e_11ea_b383_80000208fe80row4_col84\" class=\"data row4 col84\" >nan</td>\n",
       "            </tr>\n",
       "            <tr>\n",
       "                                <td id=\"T_177bee94_117e_11ea_b383_80000208fe80row5_col0\" class=\"data row5 col0\" >16</td>\n",
       "                        <td id=\"T_177bee94_117e_11ea_b383_80000208fe80row5_col1\" class=\"data row5 col1\" >Conv2d(1, 64, kernel_size=(3, 3), stride=(1, 1), padding=(1, 1))</td>\n",
       "                        <td id=\"T_177bee94_117e_11ea_b383_80000208fe80row5_col2\" class=\"data row5 col2\" >BatchNorm2d(64, eps=1e-05, momentum=0.1, affine=True, track_running_stats=True)</td>\n",
       "                        <td id=\"T_177bee94_117e_11ea_b383_80000208fe80row5_col3\" class=\"data row5 col3\" >BatchNorm2d(64, eps=1e-05, momentum=0.1, affine=True, track_running_stats=True)</td>\n",
       "                        <td id=\"T_177bee94_117e_11ea_b383_80000208fe80row5_col4\" class=\"data row5 col4\" >ReLU()</td>\n",
       "                        <td id=\"T_177bee94_117e_11ea_b383_80000208fe80row5_col5\" class=\"data row5 col5\" >Conv2d(64, 64, kernel_size=(3, 3), stride=(1, 1), padding=(1, 1))</td>\n",
       "                        <td id=\"T_177bee94_117e_11ea_b383_80000208fe80row5_col6\" class=\"data row5 col6\" >BatchNorm2d(64, eps=1e-05, momentum=0.1, affine=True, track_running_stats=True)</td>\n",
       "                        <td id=\"T_177bee94_117e_11ea_b383_80000208fe80row5_col7\" class=\"data row5 col7\" >ReLU()</td>\n",
       "                        <td id=\"T_177bee94_117e_11ea_b383_80000208fe80row5_col8\" class=\"data row5 col8\" >Conv2d(64, 64, kernel_size=(3, 3), stride=(1, 1), padding=(1, 1))</td>\n",
       "                        <td id=\"T_177bee94_117e_11ea_b383_80000208fe80row5_col9\" class=\"data row5 col9\" >ReLU()</td>\n",
       "                        <td id=\"T_177bee94_117e_11ea_b383_80000208fe80row5_col10\" class=\"data row5 col10\" >Conv2d(64, 64, kernel_size=(1, 1), stride=(1, 1))</td>\n",
       "                        <td id=\"T_177bee94_117e_11ea_b383_80000208fe80row5_col11\" class=\"data row5 col11\" >TorchAdd()</td>\n",
       "                        <td id=\"T_177bee94_117e_11ea_b383_80000208fe80row5_col12\" class=\"data row5 col12\" >BatchNorm2d(64, eps=1e-05, momentum=0.1, affine=True, track_running_stats=True)</td>\n",
       "                        <td id=\"T_177bee94_117e_11ea_b383_80000208fe80row5_col13\" class=\"data row5 col13\" >ReLU()</td>\n",
       "                        <td id=\"T_177bee94_117e_11ea_b383_80000208fe80row5_col14\" class=\"data row5 col14\" >Conv2d(64, 64, kernel_size=(3, 3), stride=(1, 1), padding=(1, 1))</td>\n",
       "                        <td id=\"T_177bee94_117e_11ea_b383_80000208fe80row5_col15\" class=\"data row5 col15\" >BatchNorm2d(64, eps=1e-05, momentum=0.1, affine=True, track_running_stats=True)</td>\n",
       "                        <td id=\"T_177bee94_117e_11ea_b383_80000208fe80row5_col16\" class=\"data row5 col16\" >ReLU()</td>\n",
       "                        <td id=\"T_177bee94_117e_11ea_b383_80000208fe80row5_col17\" class=\"data row5 col17\" >Conv2d(64, 64, kernel_size=(3, 3), stride=(1, 1), padding=(1, 1))</td>\n",
       "                        <td id=\"T_177bee94_117e_11ea_b383_80000208fe80row5_col18\" class=\"data row5 col18\" >ReLU()</td>\n",
       "                        <td id=\"T_177bee94_117e_11ea_b383_80000208fe80row5_col19\" class=\"data row5 col19\" >Conv2d(64, 64, kernel_size=(1, 1), stride=(1, 1))</td>\n",
       "                        <td id=\"T_177bee94_117e_11ea_b383_80000208fe80row5_col20\" class=\"data row5 col20\" >TorchAdd()</td>\n",
       "                        <td id=\"T_177bee94_117e_11ea_b383_80000208fe80row5_col21\" class=\"data row5 col21\" >BatchNorm2d(64, eps=1e-05, momentum=0.1, affine=True, track_running_stats=True)</td>\n",
       "                        <td id=\"T_177bee94_117e_11ea_b383_80000208fe80row5_col22\" class=\"data row5 col22\" >ReLU()</td>\n",
       "                        <td id=\"T_177bee94_117e_11ea_b383_80000208fe80row5_col23\" class=\"data row5 col23\" >Conv2d(64, 128, kernel_size=(3, 3), stride=(2, 2), padding=(1, 1))</td>\n",
       "                        <td id=\"T_177bee94_117e_11ea_b383_80000208fe80row5_col24\" class=\"data row5 col24\" >BatchNorm2d(128, eps=1e-05, momentum=0.1, affine=True, track_running_stats=True)</td>\n",
       "                        <td id=\"T_177bee94_117e_11ea_b383_80000208fe80row5_col25\" class=\"data row5 col25\" >ReLU()</td>\n",
       "                        <td id=\"T_177bee94_117e_11ea_b383_80000208fe80row5_col26\" class=\"data row5 col26\" >Conv2d(128, 128, kernel_size=(3, 3), stride=(1, 1), padding=(1, 1))</td>\n",
       "                        <td id=\"T_177bee94_117e_11ea_b383_80000208fe80row5_col27\" class=\"data row5 col27\" >ReLU()</td>\n",
       "                        <td id=\"T_177bee94_117e_11ea_b383_80000208fe80row5_col28\" class=\"data row5 col28\" >Conv2d(64, 128, kernel_size=(1, 1), stride=(2, 2))</td>\n",
       "                        <td id=\"T_177bee94_117e_11ea_b383_80000208fe80row5_col29\" class=\"data row5 col29\" >TorchAdd()</td>\n",
       "                        <td id=\"T_177bee94_117e_11ea_b383_80000208fe80row5_col30\" class=\"data row5 col30\" >BatchNorm2d(128, eps=1e-05, momentum=0.1, affine=True, track_running_stats=True)</td>\n",
       "                        <td id=\"T_177bee94_117e_11ea_b383_80000208fe80row5_col31\" class=\"data row5 col31\" >ReLU()</td>\n",
       "                        <td id=\"T_177bee94_117e_11ea_b383_80000208fe80row5_col32\" class=\"data row5 col32\" >Conv2d(128, 128, kernel_size=(3, 3), stride=(1, 1), padding=(1, 1))</td>\n",
       "                        <td id=\"T_177bee94_117e_11ea_b383_80000208fe80row5_col33\" class=\"data row5 col33\" >BatchNorm2d(128, eps=1e-05, momentum=0.1, affine=True, track_running_stats=True)</td>\n",
       "                        <td id=\"T_177bee94_117e_11ea_b383_80000208fe80row5_col34\" class=\"data row5 col34\" >ReLU()</td>\n",
       "                        <td id=\"T_177bee94_117e_11ea_b383_80000208fe80row5_col35\" class=\"data row5 col35\" >Conv2d(128, 128, kernel_size=(3, 3), stride=(1, 1), padding=(1, 1))</td>\n",
       "                        <td id=\"T_177bee94_117e_11ea_b383_80000208fe80row5_col36\" class=\"data row5 col36\" >ReLU()</td>\n",
       "                        <td id=\"T_177bee94_117e_11ea_b383_80000208fe80row5_col37\" class=\"data row5 col37\" >Conv2d(128, 128, kernel_size=(1, 1), stride=(1, 1))</td>\n",
       "                        <td id=\"T_177bee94_117e_11ea_b383_80000208fe80row5_col38\" class=\"data row5 col38\" >TorchAdd()</td>\n",
       "                        <td id=\"T_177bee94_117e_11ea_b383_80000208fe80row5_col39\" class=\"data row5 col39\" >BatchNorm2d(128, eps=1e-05, momentum=0.1, affine=True, track_running_stats=True)</td>\n",
       "                        <td id=\"T_177bee94_117e_11ea_b383_80000208fe80row5_col40\" class=\"data row5 col40\" >ReLU()</td>\n",
       "                        <td id=\"T_177bee94_117e_11ea_b383_80000208fe80row5_col41\" class=\"data row5 col41\" >Conv2d(128, 256, kernel_size=(3, 3), stride=(2, 2), padding=(1, 1))</td>\n",
       "                        <td id=\"T_177bee94_117e_11ea_b383_80000208fe80row5_col42\" class=\"data row5 col42\" >BatchNorm2d(256, eps=1e-05, momentum=0.1, affine=True, track_running_stats=True)</td>\n",
       "                        <td id=\"T_177bee94_117e_11ea_b383_80000208fe80row5_col43\" class=\"data row5 col43\" >ReLU()</td>\n",
       "                        <td id=\"T_177bee94_117e_11ea_b383_80000208fe80row5_col44\" class=\"data row5 col44\" >Conv2d(256, 256, kernel_size=(3, 3), stride=(1, 1), padding=(1, 1))</td>\n",
       "                        <td id=\"T_177bee94_117e_11ea_b383_80000208fe80row5_col45\" class=\"data row5 col45\" >ReLU()</td>\n",
       "                        <td id=\"T_177bee94_117e_11ea_b383_80000208fe80row5_col46\" class=\"data row5 col46\" >Conv2d(128, 256, kernel_size=(1, 1), stride=(2, 2))</td>\n",
       "                        <td id=\"T_177bee94_117e_11ea_b383_80000208fe80row5_col47\" class=\"data row5 col47\" >TorchAdd()</td>\n",
       "                        <td id=\"T_177bee94_117e_11ea_b383_80000208fe80row5_col48\" class=\"data row5 col48\" >BatchNorm2d(256, eps=1e-05, momentum=0.1, affine=True, track_running_stats=True)</td>\n",
       "                        <td id=\"T_177bee94_117e_11ea_b383_80000208fe80row5_col49\" class=\"data row5 col49\" >ReLU()</td>\n",
       "                        <td id=\"T_177bee94_117e_11ea_b383_80000208fe80row5_col50\" class=\"data row5 col50\" >Conv2d(256, 256, kernel_size=(3, 3), stride=(1, 1), padding=(1, 1))</td>\n",
       "                        <td id=\"T_177bee94_117e_11ea_b383_80000208fe80row5_col51\" class=\"data row5 col51\" >BatchNorm2d(256, eps=1e-05, momentum=0.1, affine=True, track_running_stats=True)</td>\n",
       "                        <td id=\"T_177bee94_117e_11ea_b383_80000208fe80row5_col52\" class=\"data row5 col52\" >ReLU()</td>\n",
       "                        <td id=\"T_177bee94_117e_11ea_b383_80000208fe80row5_col53\" class=\"data row5 col53\" >Conv2d(256, 256, kernel_size=(3, 3), stride=(1, 1), padding=(1, 1))</td>\n",
       "                        <td id=\"T_177bee94_117e_11ea_b383_80000208fe80row5_col54\" class=\"data row5 col54\" >ReLU()</td>\n",
       "                        <td id=\"T_177bee94_117e_11ea_b383_80000208fe80row5_col55\" class=\"data row5 col55\" >Conv2d(256, 256, kernel_size=(1, 1), stride=(1, 1))</td>\n",
       "                        <td id=\"T_177bee94_117e_11ea_b383_80000208fe80row5_col56\" class=\"data row5 col56\" >TorchAdd()</td>\n",
       "                        <td id=\"T_177bee94_117e_11ea_b383_80000208fe80row5_col57\" class=\"data row5 col57\" >BatchNorm2d(256, eps=1e-05, momentum=0.1, affine=True, track_running_stats=True)</td>\n",
       "                        <td id=\"T_177bee94_117e_11ea_b383_80000208fe80row5_col58\" class=\"data row5 col58\" >ReLU()</td>\n",
       "                        <td id=\"T_177bee94_117e_11ea_b383_80000208fe80row5_col59\" class=\"data row5 col59\" >Conv2d(256, 512, kernel_size=(3, 3), stride=(2, 2), padding=(1, 1))</td>\n",
       "                        <td id=\"T_177bee94_117e_11ea_b383_80000208fe80row5_col60\" class=\"data row5 col60\" >BatchNorm2d(512, eps=1e-05, momentum=0.1, affine=True, track_running_stats=True)</td>\n",
       "                        <td id=\"T_177bee94_117e_11ea_b383_80000208fe80row5_col61\" class=\"data row5 col61\" >ReLU()</td>\n",
       "                        <td id=\"T_177bee94_117e_11ea_b383_80000208fe80row5_col62\" class=\"data row5 col62\" >Conv2d(512, 512, kernel_size=(3, 3), stride=(1, 1), padding=(1, 1))</td>\n",
       "                        <td id=\"T_177bee94_117e_11ea_b383_80000208fe80row5_col63\" class=\"data row5 col63\" >ReLU()</td>\n",
       "                        <td id=\"T_177bee94_117e_11ea_b383_80000208fe80row5_col64\" class=\"data row5 col64\" >Conv2d(256, 512, kernel_size=(1, 1), stride=(2, 2))</td>\n",
       "                        <td id=\"T_177bee94_117e_11ea_b383_80000208fe80row5_col65\" class=\"data row5 col65\" >TorchAdd()</td>\n",
       "                        <td id=\"T_177bee94_117e_11ea_b383_80000208fe80row5_col66\" class=\"data row5 col66\" >BatchNorm2d(512, eps=1e-05, momentum=0.1, affine=True, track_running_stats=True)</td>\n",
       "                        <td id=\"T_177bee94_117e_11ea_b383_80000208fe80row5_col67\" class=\"data row5 col67\" >ReLU()</td>\n",
       "                        <td id=\"T_177bee94_117e_11ea_b383_80000208fe80row5_col68\" class=\"data row5 col68\" >Conv2d(512, 512, kernel_size=(3, 3), stride=(1, 1), padding=(1, 1))</td>\n",
       "                        <td id=\"T_177bee94_117e_11ea_b383_80000208fe80row5_col69\" class=\"data row5 col69\" >BatchNorm2d(512, eps=1e-05, momentum=0.1, affine=True, track_running_stats=True)</td>\n",
       "                        <td id=\"T_177bee94_117e_11ea_b383_80000208fe80row5_col70\" class=\"data row5 col70\" >ReLU()</td>\n",
       "                        <td id=\"T_177bee94_117e_11ea_b383_80000208fe80row5_col71\" class=\"data row5 col71\" >Conv2d(512, 512, kernel_size=(3, 3), stride=(1, 1), padding=(1, 1))</td>\n",
       "                        <td id=\"T_177bee94_117e_11ea_b383_80000208fe80row5_col72\" class=\"data row5 col72\" >ReLU()</td>\n",
       "                        <td id=\"T_177bee94_117e_11ea_b383_80000208fe80row5_col73\" class=\"data row5 col73\" >Conv2d(512, 512, kernel_size=(1, 1), stride=(1, 1))</td>\n",
       "                        <td id=\"T_177bee94_117e_11ea_b383_80000208fe80row5_col74\" class=\"data row5 col74\" >TorchAdd()</td>\n",
       "                        <td id=\"T_177bee94_117e_11ea_b383_80000208fe80row5_col75\" class=\"data row5 col75\" >GlobalAvgPool2d()</td>\n",
       "                        <td id=\"T_177bee94_117e_11ea_b383_80000208fe80row5_col76\" class=\"data row5 col76\" >Linear(in_features=512, out_features=10, bias=True)</td>\n",
       "                        <td id=\"T_177bee94_117e_11ea_b383_80000208fe80row5_col77\" class=\"data row5 col77\" >Conv2d(128, 128, kernel_size=(3, 3), stride=(2, 2), padding=(1, 1))</td>\n",
       "                        <td id=\"T_177bee94_117e_11ea_b383_80000208fe80row5_col78\" class=\"data row5 col78\" >Conv2d(128, 128, kernel_size=(3, 3), stride=(2, 2), padding=(1, 1))</td>\n",
       "                        <td id=\"T_177bee94_117e_11ea_b383_80000208fe80row5_col79\" class=\"data row5 col79\" >ReLU()</td>\n",
       "                        <td id=\"T_177bee94_117e_11ea_b383_80000208fe80row5_col80\" class=\"data row5 col80\" >TorchConcatenate()</td>\n",
       "                        <td id=\"T_177bee94_117e_11ea_b383_80000208fe80row5_col81\" class=\"data row5 col81\" >Conv2d(640, 512, kernel_size=(1, 1), stride=(1, 1))</td>\n",
       "                        <td id=\"T_177bee94_117e_11ea_b383_80000208fe80row5_col82\" class=\"data row5 col82\" >nan</td>\n",
       "                        <td id=\"T_177bee94_117e_11ea_b383_80000208fe80row5_col83\" class=\"data row5 col83\" >nan</td>\n",
       "                        <td id=\"T_177bee94_117e_11ea_b383_80000208fe80row5_col84\" class=\"data row5 col84\" >nan</td>\n",
       "            </tr>\n",
       "    </tbody></table>"
      ],
      "text/plain": [
       "<pandas.io.formats.style.Styler at 0x2b320c03f588>"
      ]
     },
     "metadata": {},
     "output_type": "display_data"
    },
    {
     "data": {
      "text/plain": [
       "'AutoKerasClean #1'"
      ]
     },
     "metadata": {},
     "output_type": "display_data"
    },
    {
     "data": {
      "text/html": [
       "<style  type=\"text/css\" >\n",
       "</style><table id=\"T_17875bc6_117e_11ea_b383_80000208fe80\" ><thead>    <tr>        <th class=\"col_heading level0 col0\" >std</th>        <th class=\"col_heading level0 col1\" >test_acc</th>        <th class=\"col_heading level0 col2\" >train_acc</th>        <th class=\"col_heading level0 col3\" >time_err</th>        <th class=\"col_heading level0 col4\" >time_pre</th>        <th class=\"col_heading level0 col5\" >time_mod</th>    </tr></thead><tbody>\n",
       "                <tr>\n",
       "                                <td id=\"T_17875bc6_117e_11ea_b383_80000208fe80row0_col0\" class=\"data row0 col0\" >0</td>\n",
       "                        <td id=\"T_17875bc6_117e_11ea_b383_80000208fe80row0_col1\" class=\"data row0 col1\" >0.988</td>\n",
       "                        <td id=\"T_17875bc6_117e_11ea_b383_80000208fe80row0_col2\" class=\"data row0 col2\" >0.999</td>\n",
       "                        <td id=\"T_17875bc6_117e_11ea_b383_80000208fe80row0_col3\" class=\"data row0 col3\" >0.144</td>\n",
       "                        <td id=\"T_17875bc6_117e_11ea_b383_80000208fe80row0_col4\" class=\"data row0 col4\" >0.001</td>\n",
       "                        <td id=\"T_17875bc6_117e_11ea_b383_80000208fe80row0_col5\" class=\"data row0 col5\" >7239.25</td>\n",
       "            </tr>\n",
       "            <tr>\n",
       "                                <td id=\"T_17875bc6_117e_11ea_b383_80000208fe80row1_col0\" class=\"data row1 col0\" >3.2</td>\n",
       "                        <td id=\"T_17875bc6_117e_11ea_b383_80000208fe80row1_col1\" class=\"data row1 col1\" >0.949</td>\n",
       "                        <td id=\"T_17875bc6_117e_11ea_b383_80000208fe80row1_col2\" class=\"data row1 col2\" >0.999</td>\n",
       "                        <td id=\"T_17875bc6_117e_11ea_b383_80000208fe80row1_col3\" class=\"data row1 col3\" >0.182</td>\n",
       "                        <td id=\"T_17875bc6_117e_11ea_b383_80000208fe80row1_col4\" class=\"data row1 col4\" >0.001</td>\n",
       "                        <td id=\"T_17875bc6_117e_11ea_b383_80000208fe80row1_col5\" class=\"data row1 col5\" >7239.33</td>\n",
       "            </tr>\n",
       "            <tr>\n",
       "                                <td id=\"T_17875bc6_117e_11ea_b383_80000208fe80row2_col0\" class=\"data row2 col0\" >6.4</td>\n",
       "                        <td id=\"T_17875bc6_117e_11ea_b383_80000208fe80row2_col1\" class=\"data row2 col1\" >0.7</td>\n",
       "                        <td id=\"T_17875bc6_117e_11ea_b383_80000208fe80row2_col2\" class=\"data row2 col2\" >0.995</td>\n",
       "                        <td id=\"T_17875bc6_117e_11ea_b383_80000208fe80row2_col3\" class=\"data row2 col3\" >0.11</td>\n",
       "                        <td id=\"T_17875bc6_117e_11ea_b383_80000208fe80row2_col4\" class=\"data row2 col4\" >0.001</td>\n",
       "                        <td id=\"T_17875bc6_117e_11ea_b383_80000208fe80row2_col5\" class=\"data row2 col5\" >7225.91</td>\n",
       "            </tr>\n",
       "            <tr>\n",
       "                                <td id=\"T_17875bc6_117e_11ea_b383_80000208fe80row3_col0\" class=\"data row3 col0\" >9.6</td>\n",
       "                        <td id=\"T_17875bc6_117e_11ea_b383_80000208fe80row3_col1\" class=\"data row3 col1\" >0.482</td>\n",
       "                        <td id=\"T_17875bc6_117e_11ea_b383_80000208fe80row3_col2\" class=\"data row3 col2\" >0.999</td>\n",
       "                        <td id=\"T_17875bc6_117e_11ea_b383_80000208fe80row3_col3\" class=\"data row3 col3\" >0.126</td>\n",
       "                        <td id=\"T_17875bc6_117e_11ea_b383_80000208fe80row3_col4\" class=\"data row3 col4\" >0.001</td>\n",
       "                        <td id=\"T_17875bc6_117e_11ea_b383_80000208fe80row3_col5\" class=\"data row3 col5\" >7232.35</td>\n",
       "            </tr>\n",
       "            <tr>\n",
       "                                <td id=\"T_17875bc6_117e_11ea_b383_80000208fe80row4_col0\" class=\"data row4 col0\" >12.8</td>\n",
       "                        <td id=\"T_17875bc6_117e_11ea_b383_80000208fe80row4_col1\" class=\"data row4 col1\" >0.296</td>\n",
       "                        <td id=\"T_17875bc6_117e_11ea_b383_80000208fe80row4_col2\" class=\"data row4 col2\" >0.999</td>\n",
       "                        <td id=\"T_17875bc6_117e_11ea_b383_80000208fe80row4_col3\" class=\"data row4 col3\" >0.157</td>\n",
       "                        <td id=\"T_17875bc6_117e_11ea_b383_80000208fe80row4_col4\" class=\"data row4 col4\" >0.001</td>\n",
       "                        <td id=\"T_17875bc6_117e_11ea_b383_80000208fe80row4_col5\" class=\"data row4 col5\" >7245.53</td>\n",
       "            </tr>\n",
       "            <tr>\n",
       "                                <td id=\"T_17875bc6_117e_11ea_b383_80000208fe80row5_col0\" class=\"data row5 col0\" >16</td>\n",
       "                        <td id=\"T_17875bc6_117e_11ea_b383_80000208fe80row5_col1\" class=\"data row5 col1\" >0.237</td>\n",
       "                        <td id=\"T_17875bc6_117e_11ea_b383_80000208fe80row5_col2\" class=\"data row5 col2\" >0.999</td>\n",
       "                        <td id=\"T_17875bc6_117e_11ea_b383_80000208fe80row5_col3\" class=\"data row5 col3\" >0.165</td>\n",
       "                        <td id=\"T_17875bc6_117e_11ea_b383_80000208fe80row5_col4\" class=\"data row5 col4\" >0.001</td>\n",
       "                        <td id=\"T_17875bc6_117e_11ea_b383_80000208fe80row5_col5\" class=\"data row5 col5\" >7212.46</td>\n",
       "            </tr>\n",
       "    </tbody></table>"
      ],
      "text/plain": [
       "<pandas.io.formats.style.Styler at 0x2b31a5a3e278>"
      ]
     },
     "metadata": {},
     "output_type": "display_data"
    },
    {
     "data": {
      "text/html": [
       "<style  type=\"text/css\" >\n",
       "</style><table id=\"T_178ae9a8_117e_11ea_b383_80000208fe80\" ><thead>    <tr>        <th class=\"col_heading level0 col0\" >std</th>        <th class=\"col_heading level0 col1\" >pipe_0</th>        <th class=\"col_heading level0 col2\" >pipe_1</th>        <th class=\"col_heading level0 col3\" >pipe_2</th>        <th class=\"col_heading level0 col4\" >pipe_3</th>        <th class=\"col_heading level0 col5\" >pipe_4</th>        <th class=\"col_heading level0 col6\" >pipe_5</th>        <th class=\"col_heading level0 col7\" >pipe_6</th>        <th class=\"col_heading level0 col8\" >pipe_7</th>        <th class=\"col_heading level0 col9\" >pipe_8</th>        <th class=\"col_heading level0 col10\" >pipe_9</th>        <th class=\"col_heading level0 col11\" >pipe_10</th>        <th class=\"col_heading level0 col12\" >pipe_11</th>        <th class=\"col_heading level0 col13\" >pipe_12</th>        <th class=\"col_heading level0 col14\" >pipe_13</th>        <th class=\"col_heading level0 col15\" >pipe_14</th>        <th class=\"col_heading level0 col16\" >pipe_15</th>        <th class=\"col_heading level0 col17\" >pipe_16</th>        <th class=\"col_heading level0 col18\" >pipe_17</th>        <th class=\"col_heading level0 col19\" >pipe_18</th>        <th class=\"col_heading level0 col20\" >pipe_19</th>        <th class=\"col_heading level0 col21\" >pipe_20</th>        <th class=\"col_heading level0 col22\" >pipe_21</th>        <th class=\"col_heading level0 col23\" >pipe_22</th>        <th class=\"col_heading level0 col24\" >pipe_23</th>        <th class=\"col_heading level0 col25\" >pipe_24</th>        <th class=\"col_heading level0 col26\" >pipe_25</th>        <th class=\"col_heading level0 col27\" >pipe_26</th>        <th class=\"col_heading level0 col28\" >pipe_27</th>        <th class=\"col_heading level0 col29\" >pipe_28</th>        <th class=\"col_heading level0 col30\" >pipe_29</th>        <th class=\"col_heading level0 col31\" >pipe_30</th>        <th class=\"col_heading level0 col32\" >pipe_31</th>        <th class=\"col_heading level0 col33\" >pipe_32</th>        <th class=\"col_heading level0 col34\" >pipe_33</th>        <th class=\"col_heading level0 col35\" >pipe_34</th>        <th class=\"col_heading level0 col36\" >pipe_35</th>        <th class=\"col_heading level0 col37\" >pipe_36</th>        <th class=\"col_heading level0 col38\" >pipe_37</th>        <th class=\"col_heading level0 col39\" >pipe_38</th>        <th class=\"col_heading level0 col40\" >pipe_39</th>        <th class=\"col_heading level0 col41\" >pipe_40</th>        <th class=\"col_heading level0 col42\" >pipe_41</th>        <th class=\"col_heading level0 col43\" >pipe_42</th>        <th class=\"col_heading level0 col44\" >pipe_43</th>        <th class=\"col_heading level0 col45\" >pipe_44</th>        <th class=\"col_heading level0 col46\" >pipe_45</th>        <th class=\"col_heading level0 col47\" >pipe_46</th>        <th class=\"col_heading level0 col48\" >pipe_47</th>        <th class=\"col_heading level0 col49\" >pipe_48</th>        <th class=\"col_heading level0 col50\" >pipe_49</th>        <th class=\"col_heading level0 col51\" >pipe_50</th>        <th class=\"col_heading level0 col52\" >pipe_51</th>        <th class=\"col_heading level0 col53\" >pipe_52</th>        <th class=\"col_heading level0 col54\" >pipe_53</th>        <th class=\"col_heading level0 col55\" >pipe_54</th>        <th class=\"col_heading level0 col56\" >pipe_55</th>        <th class=\"col_heading level0 col57\" >pipe_56</th>        <th class=\"col_heading level0 col58\" >pipe_57</th>        <th class=\"col_heading level0 col59\" >pipe_58</th>        <th class=\"col_heading level0 col60\" >pipe_59</th>        <th class=\"col_heading level0 col61\" >pipe_60</th>        <th class=\"col_heading level0 col62\" >pipe_61</th>        <th class=\"col_heading level0 col63\" >pipe_62</th>        <th class=\"col_heading level0 col64\" >pipe_63</th>        <th class=\"col_heading level0 col65\" >pipe_64</th>        <th class=\"col_heading level0 col66\" >pipe_65</th>        <th class=\"col_heading level0 col67\" >pipe_66</th>        <th class=\"col_heading level0 col68\" >pipe_67</th>        <th class=\"col_heading level0 col69\" >pipe_68</th>        <th class=\"col_heading level0 col70\" >pipe_69</th>        <th class=\"col_heading level0 col71\" >pipe_70</th>        <th class=\"col_heading level0 col72\" >pipe_71</th>        <th class=\"col_heading level0 col73\" >pipe_72</th>        <th class=\"col_heading level0 col74\" >pipe_73</th>        <th class=\"col_heading level0 col75\" >pipe_74</th>        <th class=\"col_heading level0 col76\" >pipe_75</th>        <th class=\"col_heading level0 col77\" >pipe_76</th>        <th class=\"col_heading level0 col78\" >pipe_77</th>    </tr></thead><tbody>\n",
       "                <tr>\n",
       "                                <td id=\"T_178ae9a8_117e_11ea_b383_80000208fe80row0_col0\" class=\"data row0 col0\" >0</td>\n",
       "                        <td id=\"T_178ae9a8_117e_11ea_b383_80000208fe80row0_col1\" class=\"data row0 col1\" >Conv2d(1, 64, kernel_size=(3, 3), stride=(1, 1), padding=(1, 1))</td>\n",
       "                        <td id=\"T_178ae9a8_117e_11ea_b383_80000208fe80row0_col2\" class=\"data row0 col2\" >BatchNorm2d(64, eps=1e-05, momentum=0.1, affine=True, track_running_stats=True)</td>\n",
       "                        <td id=\"T_178ae9a8_117e_11ea_b383_80000208fe80row0_col3\" class=\"data row0 col3\" >BatchNorm2d(64, eps=1e-05, momentum=0.1, affine=True, track_running_stats=True)</td>\n",
       "                        <td id=\"T_178ae9a8_117e_11ea_b383_80000208fe80row0_col4\" class=\"data row0 col4\" >ReLU()</td>\n",
       "                        <td id=\"T_178ae9a8_117e_11ea_b383_80000208fe80row0_col5\" class=\"data row0 col5\" >Conv2d(64, 64, kernel_size=(3, 3), stride=(1, 1), padding=(1, 1))</td>\n",
       "                        <td id=\"T_178ae9a8_117e_11ea_b383_80000208fe80row0_col6\" class=\"data row0 col6\" >BatchNorm2d(64, eps=1e-05, momentum=0.1, affine=True, track_running_stats=True)</td>\n",
       "                        <td id=\"T_178ae9a8_117e_11ea_b383_80000208fe80row0_col7\" class=\"data row0 col7\" >ReLU()</td>\n",
       "                        <td id=\"T_178ae9a8_117e_11ea_b383_80000208fe80row0_col8\" class=\"data row0 col8\" >Conv2d(64, 64, kernel_size=(3, 3), stride=(1, 1), padding=(1, 1))</td>\n",
       "                        <td id=\"T_178ae9a8_117e_11ea_b383_80000208fe80row0_col9\" class=\"data row0 col9\" >ReLU()</td>\n",
       "                        <td id=\"T_178ae9a8_117e_11ea_b383_80000208fe80row0_col10\" class=\"data row0 col10\" >Conv2d(64, 64, kernel_size=(1, 1), stride=(1, 1))</td>\n",
       "                        <td id=\"T_178ae9a8_117e_11ea_b383_80000208fe80row0_col11\" class=\"data row0 col11\" >TorchAdd()</td>\n",
       "                        <td id=\"T_178ae9a8_117e_11ea_b383_80000208fe80row0_col12\" class=\"data row0 col12\" >BatchNorm2d(64, eps=1e-05, momentum=0.1, affine=True, track_running_stats=True)</td>\n",
       "                        <td id=\"T_178ae9a8_117e_11ea_b383_80000208fe80row0_col13\" class=\"data row0 col13\" >ReLU()</td>\n",
       "                        <td id=\"T_178ae9a8_117e_11ea_b383_80000208fe80row0_col14\" class=\"data row0 col14\" >Conv2d(64, 64, kernel_size=(3, 3), stride=(1, 1), padding=(1, 1))</td>\n",
       "                        <td id=\"T_178ae9a8_117e_11ea_b383_80000208fe80row0_col15\" class=\"data row0 col15\" >BatchNorm2d(64, eps=1e-05, momentum=0.1, affine=True, track_running_stats=True)</td>\n",
       "                        <td id=\"T_178ae9a8_117e_11ea_b383_80000208fe80row0_col16\" class=\"data row0 col16\" >ReLU()</td>\n",
       "                        <td id=\"T_178ae9a8_117e_11ea_b383_80000208fe80row0_col17\" class=\"data row0 col17\" >Conv2d(64, 64, kernel_size=(3, 3), stride=(1, 1), padding=(1, 1))</td>\n",
       "                        <td id=\"T_178ae9a8_117e_11ea_b383_80000208fe80row0_col18\" class=\"data row0 col18\" >ReLU()</td>\n",
       "                        <td id=\"T_178ae9a8_117e_11ea_b383_80000208fe80row0_col19\" class=\"data row0 col19\" >Conv2d(64, 64, kernel_size=(1, 1), stride=(1, 1))</td>\n",
       "                        <td id=\"T_178ae9a8_117e_11ea_b383_80000208fe80row0_col20\" class=\"data row0 col20\" >TorchAdd()</td>\n",
       "                        <td id=\"T_178ae9a8_117e_11ea_b383_80000208fe80row0_col21\" class=\"data row0 col21\" >BatchNorm2d(64, eps=1e-05, momentum=0.1, affine=True, track_running_stats=True)</td>\n",
       "                        <td id=\"T_178ae9a8_117e_11ea_b383_80000208fe80row0_col22\" class=\"data row0 col22\" >ReLU()</td>\n",
       "                        <td id=\"T_178ae9a8_117e_11ea_b383_80000208fe80row0_col23\" class=\"data row0 col23\" >Conv2d(64, 128, kernel_size=(3, 3), stride=(2, 2), padding=(1, 1))</td>\n",
       "                        <td id=\"T_178ae9a8_117e_11ea_b383_80000208fe80row0_col24\" class=\"data row0 col24\" >BatchNorm2d(128, eps=1e-05, momentum=0.1, affine=True, track_running_stats=True)</td>\n",
       "                        <td id=\"T_178ae9a8_117e_11ea_b383_80000208fe80row0_col25\" class=\"data row0 col25\" >ReLU()</td>\n",
       "                        <td id=\"T_178ae9a8_117e_11ea_b383_80000208fe80row0_col26\" class=\"data row0 col26\" >Conv2d(128, 128, kernel_size=(3, 3), stride=(1, 1), padding=(1, 1))</td>\n",
       "                        <td id=\"T_178ae9a8_117e_11ea_b383_80000208fe80row0_col27\" class=\"data row0 col27\" >ReLU()</td>\n",
       "                        <td id=\"T_178ae9a8_117e_11ea_b383_80000208fe80row0_col28\" class=\"data row0 col28\" >Conv2d(64, 128, kernel_size=(1, 1), stride=(2, 2))</td>\n",
       "                        <td id=\"T_178ae9a8_117e_11ea_b383_80000208fe80row0_col29\" class=\"data row0 col29\" >TorchAdd()</td>\n",
       "                        <td id=\"T_178ae9a8_117e_11ea_b383_80000208fe80row0_col30\" class=\"data row0 col30\" >BatchNorm2d(128, eps=1e-05, momentum=0.1, affine=True, track_running_stats=True)</td>\n",
       "                        <td id=\"T_178ae9a8_117e_11ea_b383_80000208fe80row0_col31\" class=\"data row0 col31\" >ReLU()</td>\n",
       "                        <td id=\"T_178ae9a8_117e_11ea_b383_80000208fe80row0_col32\" class=\"data row0 col32\" >Conv2d(128, 128, kernel_size=(3, 3), stride=(1, 1), padding=(1, 1))</td>\n",
       "                        <td id=\"T_178ae9a8_117e_11ea_b383_80000208fe80row0_col33\" class=\"data row0 col33\" >BatchNorm2d(128, eps=1e-05, momentum=0.1, affine=True, track_running_stats=True)</td>\n",
       "                        <td id=\"T_178ae9a8_117e_11ea_b383_80000208fe80row0_col34\" class=\"data row0 col34\" >ReLU()</td>\n",
       "                        <td id=\"T_178ae9a8_117e_11ea_b383_80000208fe80row0_col35\" class=\"data row0 col35\" >Conv2d(128, 128, kernel_size=(3, 3), stride=(1, 1), padding=(1, 1))</td>\n",
       "                        <td id=\"T_178ae9a8_117e_11ea_b383_80000208fe80row0_col36\" class=\"data row0 col36\" >ReLU()</td>\n",
       "                        <td id=\"T_178ae9a8_117e_11ea_b383_80000208fe80row0_col37\" class=\"data row0 col37\" >Conv2d(128, 128, kernel_size=(1, 1), stride=(1, 1))</td>\n",
       "                        <td id=\"T_178ae9a8_117e_11ea_b383_80000208fe80row0_col38\" class=\"data row0 col38\" >TorchAdd()</td>\n",
       "                        <td id=\"T_178ae9a8_117e_11ea_b383_80000208fe80row0_col39\" class=\"data row0 col39\" >BatchNorm2d(128, eps=1e-05, momentum=0.1, affine=True, track_running_stats=True)</td>\n",
       "                        <td id=\"T_178ae9a8_117e_11ea_b383_80000208fe80row0_col40\" class=\"data row0 col40\" >ReLU()</td>\n",
       "                        <td id=\"T_178ae9a8_117e_11ea_b383_80000208fe80row0_col41\" class=\"data row0 col41\" >Conv2d(128, 256, kernel_size=(3, 3), stride=(2, 2), padding=(1, 1))</td>\n",
       "                        <td id=\"T_178ae9a8_117e_11ea_b383_80000208fe80row0_col42\" class=\"data row0 col42\" >BatchNorm2d(256, eps=1e-05, momentum=0.1, affine=True, track_running_stats=True)</td>\n",
       "                        <td id=\"T_178ae9a8_117e_11ea_b383_80000208fe80row0_col43\" class=\"data row0 col43\" >ReLU()</td>\n",
       "                        <td id=\"T_178ae9a8_117e_11ea_b383_80000208fe80row0_col44\" class=\"data row0 col44\" >Conv2d(256, 256, kernel_size=(3, 3), stride=(1, 1), padding=(1, 1))</td>\n",
       "                        <td id=\"T_178ae9a8_117e_11ea_b383_80000208fe80row0_col45\" class=\"data row0 col45\" >ReLU()</td>\n",
       "                        <td id=\"T_178ae9a8_117e_11ea_b383_80000208fe80row0_col46\" class=\"data row0 col46\" >Conv2d(128, 256, kernel_size=(1, 1), stride=(2, 2))</td>\n",
       "                        <td id=\"T_178ae9a8_117e_11ea_b383_80000208fe80row0_col47\" class=\"data row0 col47\" >TorchAdd()</td>\n",
       "                        <td id=\"T_178ae9a8_117e_11ea_b383_80000208fe80row0_col48\" class=\"data row0 col48\" >BatchNorm2d(256, eps=1e-05, momentum=0.1, affine=True, track_running_stats=True)</td>\n",
       "                        <td id=\"T_178ae9a8_117e_11ea_b383_80000208fe80row0_col49\" class=\"data row0 col49\" >ReLU()</td>\n",
       "                        <td id=\"T_178ae9a8_117e_11ea_b383_80000208fe80row0_col50\" class=\"data row0 col50\" >Conv2d(256, 256, kernel_size=(3, 3), stride=(1, 1), padding=(1, 1))</td>\n",
       "                        <td id=\"T_178ae9a8_117e_11ea_b383_80000208fe80row0_col51\" class=\"data row0 col51\" >BatchNorm2d(256, eps=1e-05, momentum=0.1, affine=True, track_running_stats=True)</td>\n",
       "                        <td id=\"T_178ae9a8_117e_11ea_b383_80000208fe80row0_col52\" class=\"data row0 col52\" >ReLU()</td>\n",
       "                        <td id=\"T_178ae9a8_117e_11ea_b383_80000208fe80row0_col53\" class=\"data row0 col53\" >Conv2d(256, 256, kernel_size=(3, 3), stride=(1, 1), padding=(1, 1))</td>\n",
       "                        <td id=\"T_178ae9a8_117e_11ea_b383_80000208fe80row0_col54\" class=\"data row0 col54\" >ReLU()</td>\n",
       "                        <td id=\"T_178ae9a8_117e_11ea_b383_80000208fe80row0_col55\" class=\"data row0 col55\" >Conv2d(256, 256, kernel_size=(1, 1), stride=(1, 1))</td>\n",
       "                        <td id=\"T_178ae9a8_117e_11ea_b383_80000208fe80row0_col56\" class=\"data row0 col56\" >TorchAdd()</td>\n",
       "                        <td id=\"T_178ae9a8_117e_11ea_b383_80000208fe80row0_col57\" class=\"data row0 col57\" >BatchNorm2d(256, eps=1e-05, momentum=0.1, affine=True, track_running_stats=True)</td>\n",
       "                        <td id=\"T_178ae9a8_117e_11ea_b383_80000208fe80row0_col58\" class=\"data row0 col58\" >ReLU()</td>\n",
       "                        <td id=\"T_178ae9a8_117e_11ea_b383_80000208fe80row0_col59\" class=\"data row0 col59\" >Conv2d(256, 512, kernel_size=(3, 3), stride=(2, 2), padding=(1, 1))</td>\n",
       "                        <td id=\"T_178ae9a8_117e_11ea_b383_80000208fe80row0_col60\" class=\"data row0 col60\" >BatchNorm2d(512, eps=1e-05, momentum=0.1, affine=True, track_running_stats=True)</td>\n",
       "                        <td id=\"T_178ae9a8_117e_11ea_b383_80000208fe80row0_col61\" class=\"data row0 col61\" >ReLU()</td>\n",
       "                        <td id=\"T_178ae9a8_117e_11ea_b383_80000208fe80row0_col62\" class=\"data row0 col62\" >Conv2d(512, 512, kernel_size=(3, 3), stride=(1, 1), padding=(1, 1))</td>\n",
       "                        <td id=\"T_178ae9a8_117e_11ea_b383_80000208fe80row0_col63\" class=\"data row0 col63\" >ReLU()</td>\n",
       "                        <td id=\"T_178ae9a8_117e_11ea_b383_80000208fe80row0_col64\" class=\"data row0 col64\" >Conv2d(256, 512, kernel_size=(1, 1), stride=(2, 2))</td>\n",
       "                        <td id=\"T_178ae9a8_117e_11ea_b383_80000208fe80row0_col65\" class=\"data row0 col65\" >TorchAdd()</td>\n",
       "                        <td id=\"T_178ae9a8_117e_11ea_b383_80000208fe80row0_col66\" class=\"data row0 col66\" >BatchNorm2d(512, eps=1e-05, momentum=0.1, affine=True, track_running_stats=True)</td>\n",
       "                        <td id=\"T_178ae9a8_117e_11ea_b383_80000208fe80row0_col67\" class=\"data row0 col67\" >ReLU()</td>\n",
       "                        <td id=\"T_178ae9a8_117e_11ea_b383_80000208fe80row0_col68\" class=\"data row0 col68\" >Conv2d(512, 512, kernel_size=(3, 3), stride=(1, 1), padding=(1, 1))</td>\n",
       "                        <td id=\"T_178ae9a8_117e_11ea_b383_80000208fe80row0_col69\" class=\"data row0 col69\" >BatchNorm2d(512, eps=1e-05, momentum=0.1, affine=True, track_running_stats=True)</td>\n",
       "                        <td id=\"T_178ae9a8_117e_11ea_b383_80000208fe80row0_col70\" class=\"data row0 col70\" >ReLU()</td>\n",
       "                        <td id=\"T_178ae9a8_117e_11ea_b383_80000208fe80row0_col71\" class=\"data row0 col71\" >Conv2d(512, 512, kernel_size=(3, 3), stride=(1, 1), padding=(1, 1))</td>\n",
       "                        <td id=\"T_178ae9a8_117e_11ea_b383_80000208fe80row0_col72\" class=\"data row0 col72\" >ReLU()</td>\n",
       "                        <td id=\"T_178ae9a8_117e_11ea_b383_80000208fe80row0_col73\" class=\"data row0 col73\" >Conv2d(512, 512, kernel_size=(1, 1), stride=(1, 1))</td>\n",
       "                        <td id=\"T_178ae9a8_117e_11ea_b383_80000208fe80row0_col74\" class=\"data row0 col74\" >TorchAdd()</td>\n",
       "                        <td id=\"T_178ae9a8_117e_11ea_b383_80000208fe80row0_col75\" class=\"data row0 col75\" >GlobalAvgPool2d()</td>\n",
       "                        <td id=\"T_178ae9a8_117e_11ea_b383_80000208fe80row0_col76\" class=\"data row0 col76\" >Linear(in_features=512, out_features=10, bias=True)</td>\n",
       "                        <td id=\"T_178ae9a8_117e_11ea_b383_80000208fe80row0_col77\" class=\"data row0 col77\" >ReLU()</td>\n",
       "                        <td id=\"T_178ae9a8_117e_11ea_b383_80000208fe80row0_col78\" class=\"data row0 col78\" >ReLU()</td>\n",
       "            </tr>\n",
       "            <tr>\n",
       "                                <td id=\"T_178ae9a8_117e_11ea_b383_80000208fe80row1_col0\" class=\"data row1 col0\" >3.2</td>\n",
       "                        <td id=\"T_178ae9a8_117e_11ea_b383_80000208fe80row1_col1\" class=\"data row1 col1\" >Conv2d(1, 64, kernel_size=(3, 3), stride=(1, 1), padding=(1, 1))</td>\n",
       "                        <td id=\"T_178ae9a8_117e_11ea_b383_80000208fe80row1_col2\" class=\"data row1 col2\" >BatchNorm2d(64, eps=1e-05, momentum=0.1, affine=True, track_running_stats=True)</td>\n",
       "                        <td id=\"T_178ae9a8_117e_11ea_b383_80000208fe80row1_col3\" class=\"data row1 col3\" >BatchNorm2d(64, eps=1e-05, momentum=0.1, affine=True, track_running_stats=True)</td>\n",
       "                        <td id=\"T_178ae9a8_117e_11ea_b383_80000208fe80row1_col4\" class=\"data row1 col4\" >ReLU()</td>\n",
       "                        <td id=\"T_178ae9a8_117e_11ea_b383_80000208fe80row1_col5\" class=\"data row1 col5\" >Conv2d(64, 64, kernel_size=(3, 3), stride=(1, 1), padding=(1, 1))</td>\n",
       "                        <td id=\"T_178ae9a8_117e_11ea_b383_80000208fe80row1_col6\" class=\"data row1 col6\" >BatchNorm2d(64, eps=1e-05, momentum=0.1, affine=True, track_running_stats=True)</td>\n",
       "                        <td id=\"T_178ae9a8_117e_11ea_b383_80000208fe80row1_col7\" class=\"data row1 col7\" >ReLU()</td>\n",
       "                        <td id=\"T_178ae9a8_117e_11ea_b383_80000208fe80row1_col8\" class=\"data row1 col8\" >Conv2d(64, 64, kernel_size=(3, 3), stride=(1, 1), padding=(1, 1))</td>\n",
       "                        <td id=\"T_178ae9a8_117e_11ea_b383_80000208fe80row1_col9\" class=\"data row1 col9\" >ReLU()</td>\n",
       "                        <td id=\"T_178ae9a8_117e_11ea_b383_80000208fe80row1_col10\" class=\"data row1 col10\" >Conv2d(64, 64, kernel_size=(1, 1), stride=(1, 1))</td>\n",
       "                        <td id=\"T_178ae9a8_117e_11ea_b383_80000208fe80row1_col11\" class=\"data row1 col11\" >TorchAdd()</td>\n",
       "                        <td id=\"T_178ae9a8_117e_11ea_b383_80000208fe80row1_col12\" class=\"data row1 col12\" >BatchNorm2d(64, eps=1e-05, momentum=0.1, affine=True, track_running_stats=True)</td>\n",
       "                        <td id=\"T_178ae9a8_117e_11ea_b383_80000208fe80row1_col13\" class=\"data row1 col13\" >ReLU()</td>\n",
       "                        <td id=\"T_178ae9a8_117e_11ea_b383_80000208fe80row1_col14\" class=\"data row1 col14\" >Conv2d(64, 64, kernel_size=(3, 3), stride=(1, 1), padding=(1, 1))</td>\n",
       "                        <td id=\"T_178ae9a8_117e_11ea_b383_80000208fe80row1_col15\" class=\"data row1 col15\" >BatchNorm2d(64, eps=1e-05, momentum=0.1, affine=True, track_running_stats=True)</td>\n",
       "                        <td id=\"T_178ae9a8_117e_11ea_b383_80000208fe80row1_col16\" class=\"data row1 col16\" >ReLU()</td>\n",
       "                        <td id=\"T_178ae9a8_117e_11ea_b383_80000208fe80row1_col17\" class=\"data row1 col17\" >Conv2d(64, 64, kernel_size=(3, 3), stride=(1, 1), padding=(1, 1))</td>\n",
       "                        <td id=\"T_178ae9a8_117e_11ea_b383_80000208fe80row1_col18\" class=\"data row1 col18\" >ReLU()</td>\n",
       "                        <td id=\"T_178ae9a8_117e_11ea_b383_80000208fe80row1_col19\" class=\"data row1 col19\" >Conv2d(64, 64, kernel_size=(1, 1), stride=(1, 1))</td>\n",
       "                        <td id=\"T_178ae9a8_117e_11ea_b383_80000208fe80row1_col20\" class=\"data row1 col20\" >TorchAdd()</td>\n",
       "                        <td id=\"T_178ae9a8_117e_11ea_b383_80000208fe80row1_col21\" class=\"data row1 col21\" >BatchNorm2d(64, eps=1e-05, momentum=0.1, affine=True, track_running_stats=True)</td>\n",
       "                        <td id=\"T_178ae9a8_117e_11ea_b383_80000208fe80row1_col22\" class=\"data row1 col22\" >ReLU()</td>\n",
       "                        <td id=\"T_178ae9a8_117e_11ea_b383_80000208fe80row1_col23\" class=\"data row1 col23\" >Conv2d(64, 128, kernel_size=(3, 3), stride=(2, 2), padding=(1, 1))</td>\n",
       "                        <td id=\"T_178ae9a8_117e_11ea_b383_80000208fe80row1_col24\" class=\"data row1 col24\" >BatchNorm2d(128, eps=1e-05, momentum=0.1, affine=True, track_running_stats=True)</td>\n",
       "                        <td id=\"T_178ae9a8_117e_11ea_b383_80000208fe80row1_col25\" class=\"data row1 col25\" >ReLU()</td>\n",
       "                        <td id=\"T_178ae9a8_117e_11ea_b383_80000208fe80row1_col26\" class=\"data row1 col26\" >Conv2d(128, 128, kernel_size=(3, 3), stride=(1, 1), padding=(1, 1))</td>\n",
       "                        <td id=\"T_178ae9a8_117e_11ea_b383_80000208fe80row1_col27\" class=\"data row1 col27\" >ReLU()</td>\n",
       "                        <td id=\"T_178ae9a8_117e_11ea_b383_80000208fe80row1_col28\" class=\"data row1 col28\" >Conv2d(64, 128, kernel_size=(1, 1), stride=(2, 2))</td>\n",
       "                        <td id=\"T_178ae9a8_117e_11ea_b383_80000208fe80row1_col29\" class=\"data row1 col29\" >TorchAdd()</td>\n",
       "                        <td id=\"T_178ae9a8_117e_11ea_b383_80000208fe80row1_col30\" class=\"data row1 col30\" >BatchNorm2d(128, eps=1e-05, momentum=0.1, affine=True, track_running_stats=True)</td>\n",
       "                        <td id=\"T_178ae9a8_117e_11ea_b383_80000208fe80row1_col31\" class=\"data row1 col31\" >ReLU()</td>\n",
       "                        <td id=\"T_178ae9a8_117e_11ea_b383_80000208fe80row1_col32\" class=\"data row1 col32\" >Conv2d(128, 128, kernel_size=(3, 3), stride=(1, 1), padding=(1, 1))</td>\n",
       "                        <td id=\"T_178ae9a8_117e_11ea_b383_80000208fe80row1_col33\" class=\"data row1 col33\" >BatchNorm2d(128, eps=1e-05, momentum=0.1, affine=True, track_running_stats=True)</td>\n",
       "                        <td id=\"T_178ae9a8_117e_11ea_b383_80000208fe80row1_col34\" class=\"data row1 col34\" >ReLU()</td>\n",
       "                        <td id=\"T_178ae9a8_117e_11ea_b383_80000208fe80row1_col35\" class=\"data row1 col35\" >Conv2d(128, 128, kernel_size=(3, 3), stride=(1, 1), padding=(1, 1))</td>\n",
       "                        <td id=\"T_178ae9a8_117e_11ea_b383_80000208fe80row1_col36\" class=\"data row1 col36\" >ReLU()</td>\n",
       "                        <td id=\"T_178ae9a8_117e_11ea_b383_80000208fe80row1_col37\" class=\"data row1 col37\" >Conv2d(128, 128, kernel_size=(1, 1), stride=(1, 1))</td>\n",
       "                        <td id=\"T_178ae9a8_117e_11ea_b383_80000208fe80row1_col38\" class=\"data row1 col38\" >TorchAdd()</td>\n",
       "                        <td id=\"T_178ae9a8_117e_11ea_b383_80000208fe80row1_col39\" class=\"data row1 col39\" >BatchNorm2d(128, eps=1e-05, momentum=0.1, affine=True, track_running_stats=True)</td>\n",
       "                        <td id=\"T_178ae9a8_117e_11ea_b383_80000208fe80row1_col40\" class=\"data row1 col40\" >ReLU()</td>\n",
       "                        <td id=\"T_178ae9a8_117e_11ea_b383_80000208fe80row1_col41\" class=\"data row1 col41\" >Conv2d(128, 256, kernel_size=(3, 3), stride=(2, 2), padding=(1, 1))</td>\n",
       "                        <td id=\"T_178ae9a8_117e_11ea_b383_80000208fe80row1_col42\" class=\"data row1 col42\" >BatchNorm2d(256, eps=1e-05, momentum=0.1, affine=True, track_running_stats=True)</td>\n",
       "                        <td id=\"T_178ae9a8_117e_11ea_b383_80000208fe80row1_col43\" class=\"data row1 col43\" >ReLU()</td>\n",
       "                        <td id=\"T_178ae9a8_117e_11ea_b383_80000208fe80row1_col44\" class=\"data row1 col44\" >Conv2d(256, 256, kernel_size=(3, 3), stride=(1, 1), padding=(1, 1))</td>\n",
       "                        <td id=\"T_178ae9a8_117e_11ea_b383_80000208fe80row1_col45\" class=\"data row1 col45\" >ReLU()</td>\n",
       "                        <td id=\"T_178ae9a8_117e_11ea_b383_80000208fe80row1_col46\" class=\"data row1 col46\" >Conv2d(128, 256, kernel_size=(1, 1), stride=(2, 2))</td>\n",
       "                        <td id=\"T_178ae9a8_117e_11ea_b383_80000208fe80row1_col47\" class=\"data row1 col47\" >TorchAdd()</td>\n",
       "                        <td id=\"T_178ae9a8_117e_11ea_b383_80000208fe80row1_col48\" class=\"data row1 col48\" >BatchNorm2d(256, eps=1e-05, momentum=0.1, affine=True, track_running_stats=True)</td>\n",
       "                        <td id=\"T_178ae9a8_117e_11ea_b383_80000208fe80row1_col49\" class=\"data row1 col49\" >ReLU()</td>\n",
       "                        <td id=\"T_178ae9a8_117e_11ea_b383_80000208fe80row1_col50\" class=\"data row1 col50\" >Conv2d(256, 256, kernel_size=(3, 3), stride=(1, 1), padding=(1, 1))</td>\n",
       "                        <td id=\"T_178ae9a8_117e_11ea_b383_80000208fe80row1_col51\" class=\"data row1 col51\" >BatchNorm2d(256, eps=1e-05, momentum=0.1, affine=True, track_running_stats=True)</td>\n",
       "                        <td id=\"T_178ae9a8_117e_11ea_b383_80000208fe80row1_col52\" class=\"data row1 col52\" >ReLU()</td>\n",
       "                        <td id=\"T_178ae9a8_117e_11ea_b383_80000208fe80row1_col53\" class=\"data row1 col53\" >Conv2d(256, 256, kernel_size=(3, 3), stride=(1, 1), padding=(1, 1))</td>\n",
       "                        <td id=\"T_178ae9a8_117e_11ea_b383_80000208fe80row1_col54\" class=\"data row1 col54\" >ReLU()</td>\n",
       "                        <td id=\"T_178ae9a8_117e_11ea_b383_80000208fe80row1_col55\" class=\"data row1 col55\" >Conv2d(256, 256, kernel_size=(1, 1), stride=(1, 1))</td>\n",
       "                        <td id=\"T_178ae9a8_117e_11ea_b383_80000208fe80row1_col56\" class=\"data row1 col56\" >TorchAdd()</td>\n",
       "                        <td id=\"T_178ae9a8_117e_11ea_b383_80000208fe80row1_col57\" class=\"data row1 col57\" >BatchNorm2d(256, eps=1e-05, momentum=0.1, affine=True, track_running_stats=True)</td>\n",
       "                        <td id=\"T_178ae9a8_117e_11ea_b383_80000208fe80row1_col58\" class=\"data row1 col58\" >ReLU()</td>\n",
       "                        <td id=\"T_178ae9a8_117e_11ea_b383_80000208fe80row1_col59\" class=\"data row1 col59\" >Conv2d(256, 512, kernel_size=(3, 3), stride=(2, 2), padding=(1, 1))</td>\n",
       "                        <td id=\"T_178ae9a8_117e_11ea_b383_80000208fe80row1_col60\" class=\"data row1 col60\" >BatchNorm2d(512, eps=1e-05, momentum=0.1, affine=True, track_running_stats=True)</td>\n",
       "                        <td id=\"T_178ae9a8_117e_11ea_b383_80000208fe80row1_col61\" class=\"data row1 col61\" >ReLU()</td>\n",
       "                        <td id=\"T_178ae9a8_117e_11ea_b383_80000208fe80row1_col62\" class=\"data row1 col62\" >Conv2d(512, 512, kernel_size=(3, 3), stride=(1, 1), padding=(1, 1))</td>\n",
       "                        <td id=\"T_178ae9a8_117e_11ea_b383_80000208fe80row1_col63\" class=\"data row1 col63\" >ReLU()</td>\n",
       "                        <td id=\"T_178ae9a8_117e_11ea_b383_80000208fe80row1_col64\" class=\"data row1 col64\" >Conv2d(256, 512, kernel_size=(1, 1), stride=(2, 2))</td>\n",
       "                        <td id=\"T_178ae9a8_117e_11ea_b383_80000208fe80row1_col65\" class=\"data row1 col65\" >TorchAdd()</td>\n",
       "                        <td id=\"T_178ae9a8_117e_11ea_b383_80000208fe80row1_col66\" class=\"data row1 col66\" >BatchNorm2d(512, eps=1e-05, momentum=0.1, affine=True, track_running_stats=True)</td>\n",
       "                        <td id=\"T_178ae9a8_117e_11ea_b383_80000208fe80row1_col67\" class=\"data row1 col67\" >ReLU()</td>\n",
       "                        <td id=\"T_178ae9a8_117e_11ea_b383_80000208fe80row1_col68\" class=\"data row1 col68\" >Conv2d(512, 512, kernel_size=(3, 3), stride=(1, 1), padding=(1, 1))</td>\n",
       "                        <td id=\"T_178ae9a8_117e_11ea_b383_80000208fe80row1_col69\" class=\"data row1 col69\" >BatchNorm2d(512, eps=1e-05, momentum=0.1, affine=True, track_running_stats=True)</td>\n",
       "                        <td id=\"T_178ae9a8_117e_11ea_b383_80000208fe80row1_col70\" class=\"data row1 col70\" >ReLU()</td>\n",
       "                        <td id=\"T_178ae9a8_117e_11ea_b383_80000208fe80row1_col71\" class=\"data row1 col71\" >Conv2d(512, 512, kernel_size=(3, 3), stride=(1, 1), padding=(1, 1))</td>\n",
       "                        <td id=\"T_178ae9a8_117e_11ea_b383_80000208fe80row1_col72\" class=\"data row1 col72\" >ReLU()</td>\n",
       "                        <td id=\"T_178ae9a8_117e_11ea_b383_80000208fe80row1_col73\" class=\"data row1 col73\" >Conv2d(512, 512, kernel_size=(1, 1), stride=(1, 1))</td>\n",
       "                        <td id=\"T_178ae9a8_117e_11ea_b383_80000208fe80row1_col74\" class=\"data row1 col74\" >TorchAdd()</td>\n",
       "                        <td id=\"T_178ae9a8_117e_11ea_b383_80000208fe80row1_col75\" class=\"data row1 col75\" >GlobalAvgPool2d()</td>\n",
       "                        <td id=\"T_178ae9a8_117e_11ea_b383_80000208fe80row1_col76\" class=\"data row1 col76\" >Linear(in_features=512, out_features=10, bias=True)</td>\n",
       "                        <td id=\"T_178ae9a8_117e_11ea_b383_80000208fe80row1_col77\" class=\"data row1 col77\" >ReLU()</td>\n",
       "                        <td id=\"T_178ae9a8_117e_11ea_b383_80000208fe80row1_col78\" class=\"data row1 col78\" >nan</td>\n",
       "            </tr>\n",
       "            <tr>\n",
       "                                <td id=\"T_178ae9a8_117e_11ea_b383_80000208fe80row2_col0\" class=\"data row2 col0\" >6.4</td>\n",
       "                        <td id=\"T_178ae9a8_117e_11ea_b383_80000208fe80row2_col1\" class=\"data row2 col1\" >Conv2d(1, 64, kernel_size=(3, 3), stride=(1, 1), padding=(1, 1))</td>\n",
       "                        <td id=\"T_178ae9a8_117e_11ea_b383_80000208fe80row2_col2\" class=\"data row2 col2\" >BatchNorm2d(64, eps=1e-05, momentum=0.1, affine=True, track_running_stats=True)</td>\n",
       "                        <td id=\"T_178ae9a8_117e_11ea_b383_80000208fe80row2_col3\" class=\"data row2 col3\" >BatchNorm2d(64, eps=1e-05, momentum=0.1, affine=True, track_running_stats=True)</td>\n",
       "                        <td id=\"T_178ae9a8_117e_11ea_b383_80000208fe80row2_col4\" class=\"data row2 col4\" >ReLU()</td>\n",
       "                        <td id=\"T_178ae9a8_117e_11ea_b383_80000208fe80row2_col5\" class=\"data row2 col5\" >Conv2d(64, 64, kernel_size=(3, 3), stride=(1, 1), padding=(1, 1))</td>\n",
       "                        <td id=\"T_178ae9a8_117e_11ea_b383_80000208fe80row2_col6\" class=\"data row2 col6\" >BatchNorm2d(64, eps=1e-05, momentum=0.1, affine=True, track_running_stats=True)</td>\n",
       "                        <td id=\"T_178ae9a8_117e_11ea_b383_80000208fe80row2_col7\" class=\"data row2 col7\" >ReLU()</td>\n",
       "                        <td id=\"T_178ae9a8_117e_11ea_b383_80000208fe80row2_col8\" class=\"data row2 col8\" >Conv2d(64, 64, kernel_size=(3, 3), stride=(1, 1), padding=(1, 1))</td>\n",
       "                        <td id=\"T_178ae9a8_117e_11ea_b383_80000208fe80row2_col9\" class=\"data row2 col9\" >ReLU()</td>\n",
       "                        <td id=\"T_178ae9a8_117e_11ea_b383_80000208fe80row2_col10\" class=\"data row2 col10\" >Conv2d(64, 64, kernel_size=(1, 1), stride=(1, 1))</td>\n",
       "                        <td id=\"T_178ae9a8_117e_11ea_b383_80000208fe80row2_col11\" class=\"data row2 col11\" >TorchAdd()</td>\n",
       "                        <td id=\"T_178ae9a8_117e_11ea_b383_80000208fe80row2_col12\" class=\"data row2 col12\" >BatchNorm2d(64, eps=1e-05, momentum=0.1, affine=True, track_running_stats=True)</td>\n",
       "                        <td id=\"T_178ae9a8_117e_11ea_b383_80000208fe80row2_col13\" class=\"data row2 col13\" >ReLU()</td>\n",
       "                        <td id=\"T_178ae9a8_117e_11ea_b383_80000208fe80row2_col14\" class=\"data row2 col14\" >Conv2d(64, 64, kernel_size=(3, 3), stride=(1, 1), padding=(1, 1))</td>\n",
       "                        <td id=\"T_178ae9a8_117e_11ea_b383_80000208fe80row2_col15\" class=\"data row2 col15\" >BatchNorm2d(64, eps=1e-05, momentum=0.1, affine=True, track_running_stats=True)</td>\n",
       "                        <td id=\"T_178ae9a8_117e_11ea_b383_80000208fe80row2_col16\" class=\"data row2 col16\" >ReLU()</td>\n",
       "                        <td id=\"T_178ae9a8_117e_11ea_b383_80000208fe80row2_col17\" class=\"data row2 col17\" >Conv2d(64, 64, kernel_size=(3, 3), stride=(1, 1), padding=(1, 1))</td>\n",
       "                        <td id=\"T_178ae9a8_117e_11ea_b383_80000208fe80row2_col18\" class=\"data row2 col18\" >ReLU()</td>\n",
       "                        <td id=\"T_178ae9a8_117e_11ea_b383_80000208fe80row2_col19\" class=\"data row2 col19\" >Conv2d(64, 64, kernel_size=(1, 1), stride=(1, 1))</td>\n",
       "                        <td id=\"T_178ae9a8_117e_11ea_b383_80000208fe80row2_col20\" class=\"data row2 col20\" >TorchAdd()</td>\n",
       "                        <td id=\"T_178ae9a8_117e_11ea_b383_80000208fe80row2_col21\" class=\"data row2 col21\" >BatchNorm2d(64, eps=1e-05, momentum=0.1, affine=True, track_running_stats=True)</td>\n",
       "                        <td id=\"T_178ae9a8_117e_11ea_b383_80000208fe80row2_col22\" class=\"data row2 col22\" >ReLU()</td>\n",
       "                        <td id=\"T_178ae9a8_117e_11ea_b383_80000208fe80row2_col23\" class=\"data row2 col23\" >Conv2d(64, 128, kernel_size=(3, 3), stride=(2, 2), padding=(1, 1))</td>\n",
       "                        <td id=\"T_178ae9a8_117e_11ea_b383_80000208fe80row2_col24\" class=\"data row2 col24\" >BatchNorm2d(128, eps=1e-05, momentum=0.1, affine=True, track_running_stats=True)</td>\n",
       "                        <td id=\"T_178ae9a8_117e_11ea_b383_80000208fe80row2_col25\" class=\"data row2 col25\" >ReLU()</td>\n",
       "                        <td id=\"T_178ae9a8_117e_11ea_b383_80000208fe80row2_col26\" class=\"data row2 col26\" >Conv2d(128, 128, kernel_size=(3, 3), stride=(1, 1), padding=(1, 1))</td>\n",
       "                        <td id=\"T_178ae9a8_117e_11ea_b383_80000208fe80row2_col27\" class=\"data row2 col27\" >ReLU()</td>\n",
       "                        <td id=\"T_178ae9a8_117e_11ea_b383_80000208fe80row2_col28\" class=\"data row2 col28\" >Conv2d(64, 128, kernel_size=(1, 1), stride=(2, 2))</td>\n",
       "                        <td id=\"T_178ae9a8_117e_11ea_b383_80000208fe80row2_col29\" class=\"data row2 col29\" >TorchAdd()</td>\n",
       "                        <td id=\"T_178ae9a8_117e_11ea_b383_80000208fe80row2_col30\" class=\"data row2 col30\" >BatchNorm2d(128, eps=1e-05, momentum=0.1, affine=True, track_running_stats=True)</td>\n",
       "                        <td id=\"T_178ae9a8_117e_11ea_b383_80000208fe80row2_col31\" class=\"data row2 col31\" >ReLU()</td>\n",
       "                        <td id=\"T_178ae9a8_117e_11ea_b383_80000208fe80row2_col32\" class=\"data row2 col32\" >Conv2d(128, 128, kernel_size=(3, 3), stride=(1, 1), padding=(1, 1))</td>\n",
       "                        <td id=\"T_178ae9a8_117e_11ea_b383_80000208fe80row2_col33\" class=\"data row2 col33\" >BatchNorm2d(128, eps=1e-05, momentum=0.1, affine=True, track_running_stats=True)</td>\n",
       "                        <td id=\"T_178ae9a8_117e_11ea_b383_80000208fe80row2_col34\" class=\"data row2 col34\" >ReLU()</td>\n",
       "                        <td id=\"T_178ae9a8_117e_11ea_b383_80000208fe80row2_col35\" class=\"data row2 col35\" >Conv2d(128, 128, kernel_size=(3, 3), stride=(1, 1), padding=(1, 1))</td>\n",
       "                        <td id=\"T_178ae9a8_117e_11ea_b383_80000208fe80row2_col36\" class=\"data row2 col36\" >ReLU()</td>\n",
       "                        <td id=\"T_178ae9a8_117e_11ea_b383_80000208fe80row2_col37\" class=\"data row2 col37\" >Conv2d(128, 128, kernel_size=(1, 1), stride=(1, 1))</td>\n",
       "                        <td id=\"T_178ae9a8_117e_11ea_b383_80000208fe80row2_col38\" class=\"data row2 col38\" >TorchAdd()</td>\n",
       "                        <td id=\"T_178ae9a8_117e_11ea_b383_80000208fe80row2_col39\" class=\"data row2 col39\" >BatchNorm2d(128, eps=1e-05, momentum=0.1, affine=True, track_running_stats=True)</td>\n",
       "                        <td id=\"T_178ae9a8_117e_11ea_b383_80000208fe80row2_col40\" class=\"data row2 col40\" >ReLU()</td>\n",
       "                        <td id=\"T_178ae9a8_117e_11ea_b383_80000208fe80row2_col41\" class=\"data row2 col41\" >Conv2d(128, 256, kernel_size=(3, 3), stride=(2, 2), padding=(1, 1))</td>\n",
       "                        <td id=\"T_178ae9a8_117e_11ea_b383_80000208fe80row2_col42\" class=\"data row2 col42\" >BatchNorm2d(256, eps=1e-05, momentum=0.1, affine=True, track_running_stats=True)</td>\n",
       "                        <td id=\"T_178ae9a8_117e_11ea_b383_80000208fe80row2_col43\" class=\"data row2 col43\" >ReLU()</td>\n",
       "                        <td id=\"T_178ae9a8_117e_11ea_b383_80000208fe80row2_col44\" class=\"data row2 col44\" >Conv2d(256, 256, kernel_size=(3, 3), stride=(1, 1), padding=(1, 1))</td>\n",
       "                        <td id=\"T_178ae9a8_117e_11ea_b383_80000208fe80row2_col45\" class=\"data row2 col45\" >ReLU()</td>\n",
       "                        <td id=\"T_178ae9a8_117e_11ea_b383_80000208fe80row2_col46\" class=\"data row2 col46\" >Conv2d(128, 256, kernel_size=(1, 1), stride=(2, 2))</td>\n",
       "                        <td id=\"T_178ae9a8_117e_11ea_b383_80000208fe80row2_col47\" class=\"data row2 col47\" >TorchAdd()</td>\n",
       "                        <td id=\"T_178ae9a8_117e_11ea_b383_80000208fe80row2_col48\" class=\"data row2 col48\" >BatchNorm2d(256, eps=1e-05, momentum=0.1, affine=True, track_running_stats=True)</td>\n",
       "                        <td id=\"T_178ae9a8_117e_11ea_b383_80000208fe80row2_col49\" class=\"data row2 col49\" >ReLU()</td>\n",
       "                        <td id=\"T_178ae9a8_117e_11ea_b383_80000208fe80row2_col50\" class=\"data row2 col50\" >Conv2d(256, 256, kernel_size=(3, 3), stride=(1, 1), padding=(1, 1))</td>\n",
       "                        <td id=\"T_178ae9a8_117e_11ea_b383_80000208fe80row2_col51\" class=\"data row2 col51\" >BatchNorm2d(256, eps=1e-05, momentum=0.1, affine=True, track_running_stats=True)</td>\n",
       "                        <td id=\"T_178ae9a8_117e_11ea_b383_80000208fe80row2_col52\" class=\"data row2 col52\" >ReLU()</td>\n",
       "                        <td id=\"T_178ae9a8_117e_11ea_b383_80000208fe80row2_col53\" class=\"data row2 col53\" >Conv2d(256, 256, kernel_size=(3, 3), stride=(1, 1), padding=(1, 1))</td>\n",
       "                        <td id=\"T_178ae9a8_117e_11ea_b383_80000208fe80row2_col54\" class=\"data row2 col54\" >ReLU()</td>\n",
       "                        <td id=\"T_178ae9a8_117e_11ea_b383_80000208fe80row2_col55\" class=\"data row2 col55\" >Conv2d(256, 256, kernel_size=(1, 1), stride=(1, 1))</td>\n",
       "                        <td id=\"T_178ae9a8_117e_11ea_b383_80000208fe80row2_col56\" class=\"data row2 col56\" >TorchAdd()</td>\n",
       "                        <td id=\"T_178ae9a8_117e_11ea_b383_80000208fe80row2_col57\" class=\"data row2 col57\" >BatchNorm2d(256, eps=1e-05, momentum=0.1, affine=True, track_running_stats=True)</td>\n",
       "                        <td id=\"T_178ae9a8_117e_11ea_b383_80000208fe80row2_col58\" class=\"data row2 col58\" >ReLU()</td>\n",
       "                        <td id=\"T_178ae9a8_117e_11ea_b383_80000208fe80row2_col59\" class=\"data row2 col59\" >Conv2d(256, 512, kernel_size=(3, 3), stride=(2, 2), padding=(1, 1))</td>\n",
       "                        <td id=\"T_178ae9a8_117e_11ea_b383_80000208fe80row2_col60\" class=\"data row2 col60\" >BatchNorm2d(512, eps=1e-05, momentum=0.1, affine=True, track_running_stats=True)</td>\n",
       "                        <td id=\"T_178ae9a8_117e_11ea_b383_80000208fe80row2_col61\" class=\"data row2 col61\" >ReLU()</td>\n",
       "                        <td id=\"T_178ae9a8_117e_11ea_b383_80000208fe80row2_col62\" class=\"data row2 col62\" >Conv2d(512, 512, kernel_size=(3, 3), stride=(1, 1), padding=(1, 1))</td>\n",
       "                        <td id=\"T_178ae9a8_117e_11ea_b383_80000208fe80row2_col63\" class=\"data row2 col63\" >ReLU()</td>\n",
       "                        <td id=\"T_178ae9a8_117e_11ea_b383_80000208fe80row2_col64\" class=\"data row2 col64\" >Conv2d(256, 512, kernel_size=(1, 1), stride=(2, 2))</td>\n",
       "                        <td id=\"T_178ae9a8_117e_11ea_b383_80000208fe80row2_col65\" class=\"data row2 col65\" >TorchAdd()</td>\n",
       "                        <td id=\"T_178ae9a8_117e_11ea_b383_80000208fe80row2_col66\" class=\"data row2 col66\" >BatchNorm2d(512, eps=1e-05, momentum=0.1, affine=True, track_running_stats=True)</td>\n",
       "                        <td id=\"T_178ae9a8_117e_11ea_b383_80000208fe80row2_col67\" class=\"data row2 col67\" >ReLU()</td>\n",
       "                        <td id=\"T_178ae9a8_117e_11ea_b383_80000208fe80row2_col68\" class=\"data row2 col68\" >Conv2d(512, 512, kernel_size=(3, 3), stride=(1, 1), padding=(1, 1))</td>\n",
       "                        <td id=\"T_178ae9a8_117e_11ea_b383_80000208fe80row2_col69\" class=\"data row2 col69\" >BatchNorm2d(512, eps=1e-05, momentum=0.1, affine=True, track_running_stats=True)</td>\n",
       "                        <td id=\"T_178ae9a8_117e_11ea_b383_80000208fe80row2_col70\" class=\"data row2 col70\" >ReLU()</td>\n",
       "                        <td id=\"T_178ae9a8_117e_11ea_b383_80000208fe80row2_col71\" class=\"data row2 col71\" >Conv2d(512, 512, kernel_size=(3, 3), stride=(1, 1), padding=(1, 1))</td>\n",
       "                        <td id=\"T_178ae9a8_117e_11ea_b383_80000208fe80row2_col72\" class=\"data row2 col72\" >ReLU()</td>\n",
       "                        <td id=\"T_178ae9a8_117e_11ea_b383_80000208fe80row2_col73\" class=\"data row2 col73\" >Conv2d(512, 512, kernel_size=(1, 1), stride=(1, 1))</td>\n",
       "                        <td id=\"T_178ae9a8_117e_11ea_b383_80000208fe80row2_col74\" class=\"data row2 col74\" >TorchAdd()</td>\n",
       "                        <td id=\"T_178ae9a8_117e_11ea_b383_80000208fe80row2_col75\" class=\"data row2 col75\" >GlobalAvgPool2d()</td>\n",
       "                        <td id=\"T_178ae9a8_117e_11ea_b383_80000208fe80row2_col76\" class=\"data row2 col76\" >Linear(in_features=512, out_features=10, bias=True)</td>\n",
       "                        <td id=\"T_178ae9a8_117e_11ea_b383_80000208fe80row2_col77\" class=\"data row2 col77\" >ReLU()</td>\n",
       "                        <td id=\"T_178ae9a8_117e_11ea_b383_80000208fe80row2_col78\" class=\"data row2 col78\" >nan</td>\n",
       "            </tr>\n",
       "            <tr>\n",
       "                                <td id=\"T_178ae9a8_117e_11ea_b383_80000208fe80row3_col0\" class=\"data row3 col0\" >9.6</td>\n",
       "                        <td id=\"T_178ae9a8_117e_11ea_b383_80000208fe80row3_col1\" class=\"data row3 col1\" >Conv2d(1, 64, kernel_size=(3, 3), stride=(1, 1), padding=(1, 1))</td>\n",
       "                        <td id=\"T_178ae9a8_117e_11ea_b383_80000208fe80row3_col2\" class=\"data row3 col2\" >BatchNorm2d(64, eps=1e-05, momentum=0.1, affine=True, track_running_stats=True)</td>\n",
       "                        <td id=\"T_178ae9a8_117e_11ea_b383_80000208fe80row3_col3\" class=\"data row3 col3\" >BatchNorm2d(64, eps=1e-05, momentum=0.1, affine=True, track_running_stats=True)</td>\n",
       "                        <td id=\"T_178ae9a8_117e_11ea_b383_80000208fe80row3_col4\" class=\"data row3 col4\" >ReLU()</td>\n",
       "                        <td id=\"T_178ae9a8_117e_11ea_b383_80000208fe80row3_col5\" class=\"data row3 col5\" >Conv2d(64, 64, kernel_size=(3, 3), stride=(1, 1), padding=(1, 1))</td>\n",
       "                        <td id=\"T_178ae9a8_117e_11ea_b383_80000208fe80row3_col6\" class=\"data row3 col6\" >BatchNorm2d(64, eps=1e-05, momentum=0.1, affine=True, track_running_stats=True)</td>\n",
       "                        <td id=\"T_178ae9a8_117e_11ea_b383_80000208fe80row3_col7\" class=\"data row3 col7\" >ReLU()</td>\n",
       "                        <td id=\"T_178ae9a8_117e_11ea_b383_80000208fe80row3_col8\" class=\"data row3 col8\" >Conv2d(64, 64, kernel_size=(3, 3), stride=(1, 1), padding=(1, 1))</td>\n",
       "                        <td id=\"T_178ae9a8_117e_11ea_b383_80000208fe80row3_col9\" class=\"data row3 col9\" >ReLU()</td>\n",
       "                        <td id=\"T_178ae9a8_117e_11ea_b383_80000208fe80row3_col10\" class=\"data row3 col10\" >Conv2d(64, 64, kernel_size=(1, 1), stride=(1, 1))</td>\n",
       "                        <td id=\"T_178ae9a8_117e_11ea_b383_80000208fe80row3_col11\" class=\"data row3 col11\" >TorchAdd()</td>\n",
       "                        <td id=\"T_178ae9a8_117e_11ea_b383_80000208fe80row3_col12\" class=\"data row3 col12\" >BatchNorm2d(64, eps=1e-05, momentum=0.1, affine=True, track_running_stats=True)</td>\n",
       "                        <td id=\"T_178ae9a8_117e_11ea_b383_80000208fe80row3_col13\" class=\"data row3 col13\" >ReLU()</td>\n",
       "                        <td id=\"T_178ae9a8_117e_11ea_b383_80000208fe80row3_col14\" class=\"data row3 col14\" >Conv2d(64, 64, kernel_size=(3, 3), stride=(1, 1), padding=(1, 1))</td>\n",
       "                        <td id=\"T_178ae9a8_117e_11ea_b383_80000208fe80row3_col15\" class=\"data row3 col15\" >BatchNorm2d(64, eps=1e-05, momentum=0.1, affine=True, track_running_stats=True)</td>\n",
       "                        <td id=\"T_178ae9a8_117e_11ea_b383_80000208fe80row3_col16\" class=\"data row3 col16\" >ReLU()</td>\n",
       "                        <td id=\"T_178ae9a8_117e_11ea_b383_80000208fe80row3_col17\" class=\"data row3 col17\" >Conv2d(64, 64, kernel_size=(3, 3), stride=(1, 1), padding=(1, 1))</td>\n",
       "                        <td id=\"T_178ae9a8_117e_11ea_b383_80000208fe80row3_col18\" class=\"data row3 col18\" >ReLU()</td>\n",
       "                        <td id=\"T_178ae9a8_117e_11ea_b383_80000208fe80row3_col19\" class=\"data row3 col19\" >Conv2d(64, 64, kernel_size=(1, 1), stride=(1, 1))</td>\n",
       "                        <td id=\"T_178ae9a8_117e_11ea_b383_80000208fe80row3_col20\" class=\"data row3 col20\" >TorchAdd()</td>\n",
       "                        <td id=\"T_178ae9a8_117e_11ea_b383_80000208fe80row3_col21\" class=\"data row3 col21\" >BatchNorm2d(64, eps=1e-05, momentum=0.1, affine=True, track_running_stats=True)</td>\n",
       "                        <td id=\"T_178ae9a8_117e_11ea_b383_80000208fe80row3_col22\" class=\"data row3 col22\" >ReLU()</td>\n",
       "                        <td id=\"T_178ae9a8_117e_11ea_b383_80000208fe80row3_col23\" class=\"data row3 col23\" >Conv2d(64, 128, kernel_size=(3, 3), stride=(2, 2), padding=(1, 1))</td>\n",
       "                        <td id=\"T_178ae9a8_117e_11ea_b383_80000208fe80row3_col24\" class=\"data row3 col24\" >BatchNorm2d(128, eps=1e-05, momentum=0.1, affine=True, track_running_stats=True)</td>\n",
       "                        <td id=\"T_178ae9a8_117e_11ea_b383_80000208fe80row3_col25\" class=\"data row3 col25\" >ReLU()</td>\n",
       "                        <td id=\"T_178ae9a8_117e_11ea_b383_80000208fe80row3_col26\" class=\"data row3 col26\" >Conv2d(128, 128, kernel_size=(3, 3), stride=(1, 1), padding=(1, 1))</td>\n",
       "                        <td id=\"T_178ae9a8_117e_11ea_b383_80000208fe80row3_col27\" class=\"data row3 col27\" >ReLU()</td>\n",
       "                        <td id=\"T_178ae9a8_117e_11ea_b383_80000208fe80row3_col28\" class=\"data row3 col28\" >Conv2d(64, 128, kernel_size=(1, 1), stride=(2, 2))</td>\n",
       "                        <td id=\"T_178ae9a8_117e_11ea_b383_80000208fe80row3_col29\" class=\"data row3 col29\" >TorchAdd()</td>\n",
       "                        <td id=\"T_178ae9a8_117e_11ea_b383_80000208fe80row3_col30\" class=\"data row3 col30\" >BatchNorm2d(128, eps=1e-05, momentum=0.1, affine=True, track_running_stats=True)</td>\n",
       "                        <td id=\"T_178ae9a8_117e_11ea_b383_80000208fe80row3_col31\" class=\"data row3 col31\" >ReLU()</td>\n",
       "                        <td id=\"T_178ae9a8_117e_11ea_b383_80000208fe80row3_col32\" class=\"data row3 col32\" >Conv2d(128, 128, kernel_size=(3, 3), stride=(1, 1), padding=(1, 1))</td>\n",
       "                        <td id=\"T_178ae9a8_117e_11ea_b383_80000208fe80row3_col33\" class=\"data row3 col33\" >BatchNorm2d(128, eps=1e-05, momentum=0.1, affine=True, track_running_stats=True)</td>\n",
       "                        <td id=\"T_178ae9a8_117e_11ea_b383_80000208fe80row3_col34\" class=\"data row3 col34\" >ReLU()</td>\n",
       "                        <td id=\"T_178ae9a8_117e_11ea_b383_80000208fe80row3_col35\" class=\"data row3 col35\" >Conv2d(128, 128, kernel_size=(3, 3), stride=(1, 1), padding=(1, 1))</td>\n",
       "                        <td id=\"T_178ae9a8_117e_11ea_b383_80000208fe80row3_col36\" class=\"data row3 col36\" >ReLU()</td>\n",
       "                        <td id=\"T_178ae9a8_117e_11ea_b383_80000208fe80row3_col37\" class=\"data row3 col37\" >Conv2d(128, 128, kernel_size=(1, 1), stride=(1, 1))</td>\n",
       "                        <td id=\"T_178ae9a8_117e_11ea_b383_80000208fe80row3_col38\" class=\"data row3 col38\" >TorchAdd()</td>\n",
       "                        <td id=\"T_178ae9a8_117e_11ea_b383_80000208fe80row3_col39\" class=\"data row3 col39\" >BatchNorm2d(128, eps=1e-05, momentum=0.1, affine=True, track_running_stats=True)</td>\n",
       "                        <td id=\"T_178ae9a8_117e_11ea_b383_80000208fe80row3_col40\" class=\"data row3 col40\" >ReLU()</td>\n",
       "                        <td id=\"T_178ae9a8_117e_11ea_b383_80000208fe80row3_col41\" class=\"data row3 col41\" >Conv2d(128, 256, kernel_size=(3, 3), stride=(2, 2), padding=(1, 1))</td>\n",
       "                        <td id=\"T_178ae9a8_117e_11ea_b383_80000208fe80row3_col42\" class=\"data row3 col42\" >BatchNorm2d(256, eps=1e-05, momentum=0.1, affine=True, track_running_stats=True)</td>\n",
       "                        <td id=\"T_178ae9a8_117e_11ea_b383_80000208fe80row3_col43\" class=\"data row3 col43\" >ReLU()</td>\n",
       "                        <td id=\"T_178ae9a8_117e_11ea_b383_80000208fe80row3_col44\" class=\"data row3 col44\" >Conv2d(256, 256, kernel_size=(3, 3), stride=(1, 1), padding=(1, 1))</td>\n",
       "                        <td id=\"T_178ae9a8_117e_11ea_b383_80000208fe80row3_col45\" class=\"data row3 col45\" >ReLU()</td>\n",
       "                        <td id=\"T_178ae9a8_117e_11ea_b383_80000208fe80row3_col46\" class=\"data row3 col46\" >Conv2d(128, 256, kernel_size=(1, 1), stride=(2, 2))</td>\n",
       "                        <td id=\"T_178ae9a8_117e_11ea_b383_80000208fe80row3_col47\" class=\"data row3 col47\" >TorchAdd()</td>\n",
       "                        <td id=\"T_178ae9a8_117e_11ea_b383_80000208fe80row3_col48\" class=\"data row3 col48\" >BatchNorm2d(256, eps=1e-05, momentum=0.1, affine=True, track_running_stats=True)</td>\n",
       "                        <td id=\"T_178ae9a8_117e_11ea_b383_80000208fe80row3_col49\" class=\"data row3 col49\" >ReLU()</td>\n",
       "                        <td id=\"T_178ae9a8_117e_11ea_b383_80000208fe80row3_col50\" class=\"data row3 col50\" >Conv2d(256, 256, kernel_size=(3, 3), stride=(1, 1), padding=(1, 1))</td>\n",
       "                        <td id=\"T_178ae9a8_117e_11ea_b383_80000208fe80row3_col51\" class=\"data row3 col51\" >BatchNorm2d(256, eps=1e-05, momentum=0.1, affine=True, track_running_stats=True)</td>\n",
       "                        <td id=\"T_178ae9a8_117e_11ea_b383_80000208fe80row3_col52\" class=\"data row3 col52\" >ReLU()</td>\n",
       "                        <td id=\"T_178ae9a8_117e_11ea_b383_80000208fe80row3_col53\" class=\"data row3 col53\" >Conv2d(256, 256, kernel_size=(3, 3), stride=(1, 1), padding=(1, 1))</td>\n",
       "                        <td id=\"T_178ae9a8_117e_11ea_b383_80000208fe80row3_col54\" class=\"data row3 col54\" >ReLU()</td>\n",
       "                        <td id=\"T_178ae9a8_117e_11ea_b383_80000208fe80row3_col55\" class=\"data row3 col55\" >Conv2d(256, 256, kernel_size=(1, 1), stride=(1, 1))</td>\n",
       "                        <td id=\"T_178ae9a8_117e_11ea_b383_80000208fe80row3_col56\" class=\"data row3 col56\" >TorchAdd()</td>\n",
       "                        <td id=\"T_178ae9a8_117e_11ea_b383_80000208fe80row3_col57\" class=\"data row3 col57\" >BatchNorm2d(256, eps=1e-05, momentum=0.1, affine=True, track_running_stats=True)</td>\n",
       "                        <td id=\"T_178ae9a8_117e_11ea_b383_80000208fe80row3_col58\" class=\"data row3 col58\" >ReLU()</td>\n",
       "                        <td id=\"T_178ae9a8_117e_11ea_b383_80000208fe80row3_col59\" class=\"data row3 col59\" >Conv2d(256, 512, kernel_size=(3, 3), stride=(2, 2), padding=(1, 1))</td>\n",
       "                        <td id=\"T_178ae9a8_117e_11ea_b383_80000208fe80row3_col60\" class=\"data row3 col60\" >BatchNorm2d(512, eps=1e-05, momentum=0.1, affine=True, track_running_stats=True)</td>\n",
       "                        <td id=\"T_178ae9a8_117e_11ea_b383_80000208fe80row3_col61\" class=\"data row3 col61\" >ReLU()</td>\n",
       "                        <td id=\"T_178ae9a8_117e_11ea_b383_80000208fe80row3_col62\" class=\"data row3 col62\" >Conv2d(512, 512, kernel_size=(3, 3), stride=(1, 1), padding=(1, 1))</td>\n",
       "                        <td id=\"T_178ae9a8_117e_11ea_b383_80000208fe80row3_col63\" class=\"data row3 col63\" >ReLU()</td>\n",
       "                        <td id=\"T_178ae9a8_117e_11ea_b383_80000208fe80row3_col64\" class=\"data row3 col64\" >Conv2d(256, 512, kernel_size=(1, 1), stride=(2, 2))</td>\n",
       "                        <td id=\"T_178ae9a8_117e_11ea_b383_80000208fe80row3_col65\" class=\"data row3 col65\" >TorchAdd()</td>\n",
       "                        <td id=\"T_178ae9a8_117e_11ea_b383_80000208fe80row3_col66\" class=\"data row3 col66\" >BatchNorm2d(512, eps=1e-05, momentum=0.1, affine=True, track_running_stats=True)</td>\n",
       "                        <td id=\"T_178ae9a8_117e_11ea_b383_80000208fe80row3_col67\" class=\"data row3 col67\" >ReLU()</td>\n",
       "                        <td id=\"T_178ae9a8_117e_11ea_b383_80000208fe80row3_col68\" class=\"data row3 col68\" >Conv2d(512, 512, kernel_size=(3, 3), stride=(1, 1), padding=(1, 1))</td>\n",
       "                        <td id=\"T_178ae9a8_117e_11ea_b383_80000208fe80row3_col69\" class=\"data row3 col69\" >BatchNorm2d(512, eps=1e-05, momentum=0.1, affine=True, track_running_stats=True)</td>\n",
       "                        <td id=\"T_178ae9a8_117e_11ea_b383_80000208fe80row3_col70\" class=\"data row3 col70\" >ReLU()</td>\n",
       "                        <td id=\"T_178ae9a8_117e_11ea_b383_80000208fe80row3_col71\" class=\"data row3 col71\" >Conv2d(512, 512, kernel_size=(3, 3), stride=(1, 1), padding=(1, 1))</td>\n",
       "                        <td id=\"T_178ae9a8_117e_11ea_b383_80000208fe80row3_col72\" class=\"data row3 col72\" >ReLU()</td>\n",
       "                        <td id=\"T_178ae9a8_117e_11ea_b383_80000208fe80row3_col73\" class=\"data row3 col73\" >Conv2d(512, 512, kernel_size=(1, 1), stride=(1, 1))</td>\n",
       "                        <td id=\"T_178ae9a8_117e_11ea_b383_80000208fe80row3_col74\" class=\"data row3 col74\" >TorchAdd()</td>\n",
       "                        <td id=\"T_178ae9a8_117e_11ea_b383_80000208fe80row3_col75\" class=\"data row3 col75\" >GlobalAvgPool2d()</td>\n",
       "                        <td id=\"T_178ae9a8_117e_11ea_b383_80000208fe80row3_col76\" class=\"data row3 col76\" >Linear(in_features=512, out_features=10, bias=True)</td>\n",
       "                        <td id=\"T_178ae9a8_117e_11ea_b383_80000208fe80row3_col77\" class=\"data row3 col77\" >Conv2d(64, 64, kernel_size=(1, 1), stride=(1, 1))</td>\n",
       "                        <td id=\"T_178ae9a8_117e_11ea_b383_80000208fe80row3_col78\" class=\"data row3 col78\" >nan</td>\n",
       "            </tr>\n",
       "            <tr>\n",
       "                                <td id=\"T_178ae9a8_117e_11ea_b383_80000208fe80row4_col0\" class=\"data row4 col0\" >12.8</td>\n",
       "                        <td id=\"T_178ae9a8_117e_11ea_b383_80000208fe80row4_col1\" class=\"data row4 col1\" >Conv2d(1, 64, kernel_size=(3, 3), stride=(1, 1), padding=(1, 1))</td>\n",
       "                        <td id=\"T_178ae9a8_117e_11ea_b383_80000208fe80row4_col2\" class=\"data row4 col2\" >BatchNorm2d(64, eps=1e-05, momentum=0.1, affine=True, track_running_stats=True)</td>\n",
       "                        <td id=\"T_178ae9a8_117e_11ea_b383_80000208fe80row4_col3\" class=\"data row4 col3\" >BatchNorm2d(64, eps=1e-05, momentum=0.1, affine=True, track_running_stats=True)</td>\n",
       "                        <td id=\"T_178ae9a8_117e_11ea_b383_80000208fe80row4_col4\" class=\"data row4 col4\" >ReLU()</td>\n",
       "                        <td id=\"T_178ae9a8_117e_11ea_b383_80000208fe80row4_col5\" class=\"data row4 col5\" >Conv2d(64, 64, kernel_size=(3, 3), stride=(1, 1), padding=(1, 1))</td>\n",
       "                        <td id=\"T_178ae9a8_117e_11ea_b383_80000208fe80row4_col6\" class=\"data row4 col6\" >BatchNorm2d(64, eps=1e-05, momentum=0.1, affine=True, track_running_stats=True)</td>\n",
       "                        <td id=\"T_178ae9a8_117e_11ea_b383_80000208fe80row4_col7\" class=\"data row4 col7\" >ReLU()</td>\n",
       "                        <td id=\"T_178ae9a8_117e_11ea_b383_80000208fe80row4_col8\" class=\"data row4 col8\" >Conv2d(64, 64, kernel_size=(3, 3), stride=(1, 1), padding=(1, 1))</td>\n",
       "                        <td id=\"T_178ae9a8_117e_11ea_b383_80000208fe80row4_col9\" class=\"data row4 col9\" >ReLU()</td>\n",
       "                        <td id=\"T_178ae9a8_117e_11ea_b383_80000208fe80row4_col10\" class=\"data row4 col10\" >Conv2d(64, 64, kernel_size=(1, 1), stride=(1, 1))</td>\n",
       "                        <td id=\"T_178ae9a8_117e_11ea_b383_80000208fe80row4_col11\" class=\"data row4 col11\" >TorchAdd()</td>\n",
       "                        <td id=\"T_178ae9a8_117e_11ea_b383_80000208fe80row4_col12\" class=\"data row4 col12\" >BatchNorm2d(64, eps=1e-05, momentum=0.1, affine=True, track_running_stats=True)</td>\n",
       "                        <td id=\"T_178ae9a8_117e_11ea_b383_80000208fe80row4_col13\" class=\"data row4 col13\" >ReLU()</td>\n",
       "                        <td id=\"T_178ae9a8_117e_11ea_b383_80000208fe80row4_col14\" class=\"data row4 col14\" >Conv2d(64, 64, kernel_size=(3, 3), stride=(1, 1), padding=(1, 1))</td>\n",
       "                        <td id=\"T_178ae9a8_117e_11ea_b383_80000208fe80row4_col15\" class=\"data row4 col15\" >BatchNorm2d(64, eps=1e-05, momentum=0.1, affine=True, track_running_stats=True)</td>\n",
       "                        <td id=\"T_178ae9a8_117e_11ea_b383_80000208fe80row4_col16\" class=\"data row4 col16\" >ReLU()</td>\n",
       "                        <td id=\"T_178ae9a8_117e_11ea_b383_80000208fe80row4_col17\" class=\"data row4 col17\" >Conv2d(64, 64, kernel_size=(3, 3), stride=(1, 1), padding=(1, 1))</td>\n",
       "                        <td id=\"T_178ae9a8_117e_11ea_b383_80000208fe80row4_col18\" class=\"data row4 col18\" >ReLU()</td>\n",
       "                        <td id=\"T_178ae9a8_117e_11ea_b383_80000208fe80row4_col19\" class=\"data row4 col19\" >Conv2d(64, 64, kernel_size=(1, 1), stride=(1, 1))</td>\n",
       "                        <td id=\"T_178ae9a8_117e_11ea_b383_80000208fe80row4_col20\" class=\"data row4 col20\" >TorchAdd()</td>\n",
       "                        <td id=\"T_178ae9a8_117e_11ea_b383_80000208fe80row4_col21\" class=\"data row4 col21\" >BatchNorm2d(64, eps=1e-05, momentum=0.1, affine=True, track_running_stats=True)</td>\n",
       "                        <td id=\"T_178ae9a8_117e_11ea_b383_80000208fe80row4_col22\" class=\"data row4 col22\" >ReLU()</td>\n",
       "                        <td id=\"T_178ae9a8_117e_11ea_b383_80000208fe80row4_col23\" class=\"data row4 col23\" >Conv2d(64, 128, kernel_size=(3, 3), stride=(2, 2), padding=(1, 1))</td>\n",
       "                        <td id=\"T_178ae9a8_117e_11ea_b383_80000208fe80row4_col24\" class=\"data row4 col24\" >BatchNorm2d(128, eps=1e-05, momentum=0.1, affine=True, track_running_stats=True)</td>\n",
       "                        <td id=\"T_178ae9a8_117e_11ea_b383_80000208fe80row4_col25\" class=\"data row4 col25\" >ReLU()</td>\n",
       "                        <td id=\"T_178ae9a8_117e_11ea_b383_80000208fe80row4_col26\" class=\"data row4 col26\" >Conv2d(128, 128, kernel_size=(3, 3), stride=(1, 1), padding=(1, 1))</td>\n",
       "                        <td id=\"T_178ae9a8_117e_11ea_b383_80000208fe80row4_col27\" class=\"data row4 col27\" >ReLU()</td>\n",
       "                        <td id=\"T_178ae9a8_117e_11ea_b383_80000208fe80row4_col28\" class=\"data row4 col28\" >Conv2d(64, 128, kernel_size=(1, 1), stride=(2, 2))</td>\n",
       "                        <td id=\"T_178ae9a8_117e_11ea_b383_80000208fe80row4_col29\" class=\"data row4 col29\" >TorchAdd()</td>\n",
       "                        <td id=\"T_178ae9a8_117e_11ea_b383_80000208fe80row4_col30\" class=\"data row4 col30\" >BatchNorm2d(128, eps=1e-05, momentum=0.1, affine=True, track_running_stats=True)</td>\n",
       "                        <td id=\"T_178ae9a8_117e_11ea_b383_80000208fe80row4_col31\" class=\"data row4 col31\" >ReLU()</td>\n",
       "                        <td id=\"T_178ae9a8_117e_11ea_b383_80000208fe80row4_col32\" class=\"data row4 col32\" >Conv2d(128, 128, kernel_size=(3, 3), stride=(1, 1), padding=(1, 1))</td>\n",
       "                        <td id=\"T_178ae9a8_117e_11ea_b383_80000208fe80row4_col33\" class=\"data row4 col33\" >BatchNorm2d(128, eps=1e-05, momentum=0.1, affine=True, track_running_stats=True)</td>\n",
       "                        <td id=\"T_178ae9a8_117e_11ea_b383_80000208fe80row4_col34\" class=\"data row4 col34\" >ReLU()</td>\n",
       "                        <td id=\"T_178ae9a8_117e_11ea_b383_80000208fe80row4_col35\" class=\"data row4 col35\" >Conv2d(128, 128, kernel_size=(3, 3), stride=(1, 1), padding=(1, 1))</td>\n",
       "                        <td id=\"T_178ae9a8_117e_11ea_b383_80000208fe80row4_col36\" class=\"data row4 col36\" >ReLU()</td>\n",
       "                        <td id=\"T_178ae9a8_117e_11ea_b383_80000208fe80row4_col37\" class=\"data row4 col37\" >Conv2d(128, 128, kernel_size=(1, 1), stride=(1, 1))</td>\n",
       "                        <td id=\"T_178ae9a8_117e_11ea_b383_80000208fe80row4_col38\" class=\"data row4 col38\" >TorchAdd()</td>\n",
       "                        <td id=\"T_178ae9a8_117e_11ea_b383_80000208fe80row4_col39\" class=\"data row4 col39\" >BatchNorm2d(128, eps=1e-05, momentum=0.1, affine=True, track_running_stats=True)</td>\n",
       "                        <td id=\"T_178ae9a8_117e_11ea_b383_80000208fe80row4_col40\" class=\"data row4 col40\" >ReLU()</td>\n",
       "                        <td id=\"T_178ae9a8_117e_11ea_b383_80000208fe80row4_col41\" class=\"data row4 col41\" >Conv2d(128, 256, kernel_size=(3, 3), stride=(2, 2), padding=(1, 1))</td>\n",
       "                        <td id=\"T_178ae9a8_117e_11ea_b383_80000208fe80row4_col42\" class=\"data row4 col42\" >BatchNorm2d(256, eps=1e-05, momentum=0.1, affine=True, track_running_stats=True)</td>\n",
       "                        <td id=\"T_178ae9a8_117e_11ea_b383_80000208fe80row4_col43\" class=\"data row4 col43\" >ReLU()</td>\n",
       "                        <td id=\"T_178ae9a8_117e_11ea_b383_80000208fe80row4_col44\" class=\"data row4 col44\" >Conv2d(256, 512, kernel_size=(3, 3), stride=(1, 1), padding=(1, 1))</td>\n",
       "                        <td id=\"T_178ae9a8_117e_11ea_b383_80000208fe80row4_col45\" class=\"data row4 col45\" >ReLU()</td>\n",
       "                        <td id=\"T_178ae9a8_117e_11ea_b383_80000208fe80row4_col46\" class=\"data row4 col46\" >Conv2d(128, 512, kernel_size=(1, 1), stride=(2, 2))</td>\n",
       "                        <td id=\"T_178ae9a8_117e_11ea_b383_80000208fe80row4_col47\" class=\"data row4 col47\" >TorchAdd()</td>\n",
       "                        <td id=\"T_178ae9a8_117e_11ea_b383_80000208fe80row4_col48\" class=\"data row4 col48\" >BatchNorm2d(512, eps=1e-05, momentum=0.1, affine=True, track_running_stats=True)</td>\n",
       "                        <td id=\"T_178ae9a8_117e_11ea_b383_80000208fe80row4_col49\" class=\"data row4 col49\" >ReLU()</td>\n",
       "                        <td id=\"T_178ae9a8_117e_11ea_b383_80000208fe80row4_col50\" class=\"data row4 col50\" >Conv2d(256, 256, kernel_size=(3, 3), stride=(1, 1), padding=(1, 1))</td>\n",
       "                        <td id=\"T_178ae9a8_117e_11ea_b383_80000208fe80row4_col51\" class=\"data row4 col51\" >BatchNorm2d(256, eps=1e-05, momentum=0.1, affine=True, track_running_stats=True)</td>\n",
       "                        <td id=\"T_178ae9a8_117e_11ea_b383_80000208fe80row4_col52\" class=\"data row4 col52\" >ReLU()</td>\n",
       "                        <td id=\"T_178ae9a8_117e_11ea_b383_80000208fe80row4_col53\" class=\"data row4 col53\" >Conv2d(256, 256, kernel_size=(3, 3), stride=(1, 1), padding=(1, 1))</td>\n",
       "                        <td id=\"T_178ae9a8_117e_11ea_b383_80000208fe80row4_col54\" class=\"data row4 col54\" >ReLU()</td>\n",
       "                        <td id=\"T_178ae9a8_117e_11ea_b383_80000208fe80row4_col55\" class=\"data row4 col55\" >Conv2d(256, 256, kernel_size=(1, 1), stride=(1, 1))</td>\n",
       "                        <td id=\"T_178ae9a8_117e_11ea_b383_80000208fe80row4_col56\" class=\"data row4 col56\" >TorchAdd()</td>\n",
       "                        <td id=\"T_178ae9a8_117e_11ea_b383_80000208fe80row4_col57\" class=\"data row4 col57\" >BatchNorm2d(256, eps=1e-05, momentum=0.1, affine=True, track_running_stats=True)</td>\n",
       "                        <td id=\"T_178ae9a8_117e_11ea_b383_80000208fe80row4_col58\" class=\"data row4 col58\" >ReLU()</td>\n",
       "                        <td id=\"T_178ae9a8_117e_11ea_b383_80000208fe80row4_col59\" class=\"data row4 col59\" >Conv2d(256, 512, kernel_size=(3, 3), stride=(2, 2), padding=(1, 1))</td>\n",
       "                        <td id=\"T_178ae9a8_117e_11ea_b383_80000208fe80row4_col60\" class=\"data row4 col60\" >BatchNorm2d(512, eps=1e-05, momentum=0.1, affine=True, track_running_stats=True)</td>\n",
       "                        <td id=\"T_178ae9a8_117e_11ea_b383_80000208fe80row4_col61\" class=\"data row4 col61\" >ReLU()</td>\n",
       "                        <td id=\"T_178ae9a8_117e_11ea_b383_80000208fe80row4_col62\" class=\"data row4 col62\" >Conv2d(512, 512, kernel_size=(3, 3), stride=(1, 1), padding=(1, 1))</td>\n",
       "                        <td id=\"T_178ae9a8_117e_11ea_b383_80000208fe80row4_col63\" class=\"data row4 col63\" >ReLU()</td>\n",
       "                        <td id=\"T_178ae9a8_117e_11ea_b383_80000208fe80row4_col64\" class=\"data row4 col64\" >Conv2d(256, 512, kernel_size=(1, 1), stride=(2, 2))</td>\n",
       "                        <td id=\"T_178ae9a8_117e_11ea_b383_80000208fe80row4_col65\" class=\"data row4 col65\" >TorchAdd()</td>\n",
       "                        <td id=\"T_178ae9a8_117e_11ea_b383_80000208fe80row4_col66\" class=\"data row4 col66\" >BatchNorm2d(512, eps=1e-05, momentum=0.1, affine=True, track_running_stats=True)</td>\n",
       "                        <td id=\"T_178ae9a8_117e_11ea_b383_80000208fe80row4_col67\" class=\"data row4 col67\" >ReLU()</td>\n",
       "                        <td id=\"T_178ae9a8_117e_11ea_b383_80000208fe80row4_col68\" class=\"data row4 col68\" >Conv2d(512, 512, kernel_size=(3, 3), stride=(1, 1), padding=(1, 1))</td>\n",
       "                        <td id=\"T_178ae9a8_117e_11ea_b383_80000208fe80row4_col69\" class=\"data row4 col69\" >BatchNorm2d(512, eps=1e-05, momentum=0.1, affine=True, track_running_stats=True)</td>\n",
       "                        <td id=\"T_178ae9a8_117e_11ea_b383_80000208fe80row4_col70\" class=\"data row4 col70\" >ReLU()</td>\n",
       "                        <td id=\"T_178ae9a8_117e_11ea_b383_80000208fe80row4_col71\" class=\"data row4 col71\" >Conv2d(512, 512, kernel_size=(3, 3), stride=(1, 1), padding=(1, 1))</td>\n",
       "                        <td id=\"T_178ae9a8_117e_11ea_b383_80000208fe80row4_col72\" class=\"data row4 col72\" >ReLU()</td>\n",
       "                        <td id=\"T_178ae9a8_117e_11ea_b383_80000208fe80row4_col73\" class=\"data row4 col73\" >Conv2d(512, 512, kernel_size=(1, 1), stride=(1, 1))</td>\n",
       "                        <td id=\"T_178ae9a8_117e_11ea_b383_80000208fe80row4_col74\" class=\"data row4 col74\" >TorchAdd()</td>\n",
       "                        <td id=\"T_178ae9a8_117e_11ea_b383_80000208fe80row4_col75\" class=\"data row4 col75\" >GlobalAvgPool2d()</td>\n",
       "                        <td id=\"T_178ae9a8_117e_11ea_b383_80000208fe80row4_col76\" class=\"data row4 col76\" >Linear(in_features=512, out_features=10, bias=True)</td>\n",
       "                        <td id=\"T_178ae9a8_117e_11ea_b383_80000208fe80row4_col77\" class=\"data row4 col77\" >Conv2d(64, 64, kernel_size=(1, 1), stride=(1, 1))</td>\n",
       "                        <td id=\"T_178ae9a8_117e_11ea_b383_80000208fe80row4_col78\" class=\"data row4 col78\" >Conv2d(512, 256, kernel_size=(1, 1), stride=(1, 1))</td>\n",
       "            </tr>\n",
       "            <tr>\n",
       "                                <td id=\"T_178ae9a8_117e_11ea_b383_80000208fe80row5_col0\" class=\"data row5 col0\" >16</td>\n",
       "                        <td id=\"T_178ae9a8_117e_11ea_b383_80000208fe80row5_col1\" class=\"data row5 col1\" >Conv2d(1, 64, kernel_size=(3, 3), stride=(1, 1), padding=(1, 1))</td>\n",
       "                        <td id=\"T_178ae9a8_117e_11ea_b383_80000208fe80row5_col2\" class=\"data row5 col2\" >BatchNorm2d(64, eps=1e-05, momentum=0.1, affine=True, track_running_stats=True)</td>\n",
       "                        <td id=\"T_178ae9a8_117e_11ea_b383_80000208fe80row5_col3\" class=\"data row5 col3\" >BatchNorm2d(64, eps=1e-05, momentum=0.1, affine=True, track_running_stats=True)</td>\n",
       "                        <td id=\"T_178ae9a8_117e_11ea_b383_80000208fe80row5_col4\" class=\"data row5 col4\" >ReLU()</td>\n",
       "                        <td id=\"T_178ae9a8_117e_11ea_b383_80000208fe80row5_col5\" class=\"data row5 col5\" >Conv2d(64, 64, kernel_size=(3, 3), stride=(1, 1), padding=(1, 1))</td>\n",
       "                        <td id=\"T_178ae9a8_117e_11ea_b383_80000208fe80row5_col6\" class=\"data row5 col6\" >BatchNorm2d(64, eps=1e-05, momentum=0.1, affine=True, track_running_stats=True)</td>\n",
       "                        <td id=\"T_178ae9a8_117e_11ea_b383_80000208fe80row5_col7\" class=\"data row5 col7\" >ReLU()</td>\n",
       "                        <td id=\"T_178ae9a8_117e_11ea_b383_80000208fe80row5_col8\" class=\"data row5 col8\" >Conv2d(64, 64, kernel_size=(3, 3), stride=(1, 1), padding=(1, 1))</td>\n",
       "                        <td id=\"T_178ae9a8_117e_11ea_b383_80000208fe80row5_col9\" class=\"data row5 col9\" >ReLU()</td>\n",
       "                        <td id=\"T_178ae9a8_117e_11ea_b383_80000208fe80row5_col10\" class=\"data row5 col10\" >Conv2d(64, 64, kernel_size=(1, 1), stride=(1, 1))</td>\n",
       "                        <td id=\"T_178ae9a8_117e_11ea_b383_80000208fe80row5_col11\" class=\"data row5 col11\" >TorchAdd()</td>\n",
       "                        <td id=\"T_178ae9a8_117e_11ea_b383_80000208fe80row5_col12\" class=\"data row5 col12\" >BatchNorm2d(64, eps=1e-05, momentum=0.1, affine=True, track_running_stats=True)</td>\n",
       "                        <td id=\"T_178ae9a8_117e_11ea_b383_80000208fe80row5_col13\" class=\"data row5 col13\" >ReLU()</td>\n",
       "                        <td id=\"T_178ae9a8_117e_11ea_b383_80000208fe80row5_col14\" class=\"data row5 col14\" >Conv2d(64, 64, kernel_size=(3, 3), stride=(1, 1), padding=(1, 1))</td>\n",
       "                        <td id=\"T_178ae9a8_117e_11ea_b383_80000208fe80row5_col15\" class=\"data row5 col15\" >BatchNorm2d(64, eps=1e-05, momentum=0.1, affine=True, track_running_stats=True)</td>\n",
       "                        <td id=\"T_178ae9a8_117e_11ea_b383_80000208fe80row5_col16\" class=\"data row5 col16\" >ReLU()</td>\n",
       "                        <td id=\"T_178ae9a8_117e_11ea_b383_80000208fe80row5_col17\" class=\"data row5 col17\" >Conv2d(64, 64, kernel_size=(3, 3), stride=(1, 1), padding=(1, 1))</td>\n",
       "                        <td id=\"T_178ae9a8_117e_11ea_b383_80000208fe80row5_col18\" class=\"data row5 col18\" >ReLU()</td>\n",
       "                        <td id=\"T_178ae9a8_117e_11ea_b383_80000208fe80row5_col19\" class=\"data row5 col19\" >Conv2d(64, 64, kernel_size=(1, 1), stride=(1, 1))</td>\n",
       "                        <td id=\"T_178ae9a8_117e_11ea_b383_80000208fe80row5_col20\" class=\"data row5 col20\" >TorchAdd()</td>\n",
       "                        <td id=\"T_178ae9a8_117e_11ea_b383_80000208fe80row5_col21\" class=\"data row5 col21\" >BatchNorm2d(64, eps=1e-05, momentum=0.1, affine=True, track_running_stats=True)</td>\n",
       "                        <td id=\"T_178ae9a8_117e_11ea_b383_80000208fe80row5_col22\" class=\"data row5 col22\" >ReLU()</td>\n",
       "                        <td id=\"T_178ae9a8_117e_11ea_b383_80000208fe80row5_col23\" class=\"data row5 col23\" >Conv2d(64, 128, kernel_size=(3, 3), stride=(2, 2), padding=(1, 1))</td>\n",
       "                        <td id=\"T_178ae9a8_117e_11ea_b383_80000208fe80row5_col24\" class=\"data row5 col24\" >BatchNorm2d(128, eps=1e-05, momentum=0.1, affine=True, track_running_stats=True)</td>\n",
       "                        <td id=\"T_178ae9a8_117e_11ea_b383_80000208fe80row5_col25\" class=\"data row5 col25\" >ReLU()</td>\n",
       "                        <td id=\"T_178ae9a8_117e_11ea_b383_80000208fe80row5_col26\" class=\"data row5 col26\" >Conv2d(128, 128, kernel_size=(3, 3), stride=(1, 1), padding=(1, 1))</td>\n",
       "                        <td id=\"T_178ae9a8_117e_11ea_b383_80000208fe80row5_col27\" class=\"data row5 col27\" >ReLU()</td>\n",
       "                        <td id=\"T_178ae9a8_117e_11ea_b383_80000208fe80row5_col28\" class=\"data row5 col28\" >Conv2d(64, 128, kernel_size=(1, 1), stride=(2, 2))</td>\n",
       "                        <td id=\"T_178ae9a8_117e_11ea_b383_80000208fe80row5_col29\" class=\"data row5 col29\" >TorchAdd()</td>\n",
       "                        <td id=\"T_178ae9a8_117e_11ea_b383_80000208fe80row5_col30\" class=\"data row5 col30\" >BatchNorm2d(128, eps=1e-05, momentum=0.1, affine=True, track_running_stats=True)</td>\n",
       "                        <td id=\"T_178ae9a8_117e_11ea_b383_80000208fe80row5_col31\" class=\"data row5 col31\" >ReLU()</td>\n",
       "                        <td id=\"T_178ae9a8_117e_11ea_b383_80000208fe80row5_col32\" class=\"data row5 col32\" >Conv2d(128, 128, kernel_size=(3, 3), stride=(1, 1), padding=(1, 1))</td>\n",
       "                        <td id=\"T_178ae9a8_117e_11ea_b383_80000208fe80row5_col33\" class=\"data row5 col33\" >BatchNorm2d(128, eps=1e-05, momentum=0.1, affine=True, track_running_stats=True)</td>\n",
       "                        <td id=\"T_178ae9a8_117e_11ea_b383_80000208fe80row5_col34\" class=\"data row5 col34\" >ReLU()</td>\n",
       "                        <td id=\"T_178ae9a8_117e_11ea_b383_80000208fe80row5_col35\" class=\"data row5 col35\" >Conv2d(128, 128, kernel_size=(3, 3), stride=(1, 1), padding=(1, 1))</td>\n",
       "                        <td id=\"T_178ae9a8_117e_11ea_b383_80000208fe80row5_col36\" class=\"data row5 col36\" >ReLU()</td>\n",
       "                        <td id=\"T_178ae9a8_117e_11ea_b383_80000208fe80row5_col37\" class=\"data row5 col37\" >Conv2d(128, 128, kernel_size=(1, 1), stride=(1, 1))</td>\n",
       "                        <td id=\"T_178ae9a8_117e_11ea_b383_80000208fe80row5_col38\" class=\"data row5 col38\" >TorchAdd()</td>\n",
       "                        <td id=\"T_178ae9a8_117e_11ea_b383_80000208fe80row5_col39\" class=\"data row5 col39\" >BatchNorm2d(128, eps=1e-05, momentum=0.1, affine=True, track_running_stats=True)</td>\n",
       "                        <td id=\"T_178ae9a8_117e_11ea_b383_80000208fe80row5_col40\" class=\"data row5 col40\" >ReLU()</td>\n",
       "                        <td id=\"T_178ae9a8_117e_11ea_b383_80000208fe80row5_col41\" class=\"data row5 col41\" >Conv2d(128, 256, kernel_size=(3, 3), stride=(2, 2), padding=(1, 1))</td>\n",
       "                        <td id=\"T_178ae9a8_117e_11ea_b383_80000208fe80row5_col42\" class=\"data row5 col42\" >BatchNorm2d(256, eps=1e-05, momentum=0.1, affine=True, track_running_stats=True)</td>\n",
       "                        <td id=\"T_178ae9a8_117e_11ea_b383_80000208fe80row5_col43\" class=\"data row5 col43\" >ReLU()</td>\n",
       "                        <td id=\"T_178ae9a8_117e_11ea_b383_80000208fe80row5_col44\" class=\"data row5 col44\" >Conv2d(256, 256, kernel_size=(3, 3), stride=(1, 1), padding=(1, 1))</td>\n",
       "                        <td id=\"T_178ae9a8_117e_11ea_b383_80000208fe80row5_col45\" class=\"data row5 col45\" >ReLU()</td>\n",
       "                        <td id=\"T_178ae9a8_117e_11ea_b383_80000208fe80row5_col46\" class=\"data row5 col46\" >Conv2d(128, 256, kernel_size=(1, 1), stride=(2, 2))</td>\n",
       "                        <td id=\"T_178ae9a8_117e_11ea_b383_80000208fe80row5_col47\" class=\"data row5 col47\" >TorchAdd()</td>\n",
       "                        <td id=\"T_178ae9a8_117e_11ea_b383_80000208fe80row5_col48\" class=\"data row5 col48\" >BatchNorm2d(256, eps=1e-05, momentum=0.1, affine=True, track_running_stats=True)</td>\n",
       "                        <td id=\"T_178ae9a8_117e_11ea_b383_80000208fe80row5_col49\" class=\"data row5 col49\" >ReLU()</td>\n",
       "                        <td id=\"T_178ae9a8_117e_11ea_b383_80000208fe80row5_col50\" class=\"data row5 col50\" >Conv2d(256, 512, kernel_size=(3, 3), stride=(1, 1), padding=(1, 1))</td>\n",
       "                        <td id=\"T_178ae9a8_117e_11ea_b383_80000208fe80row5_col51\" class=\"data row5 col51\" >BatchNorm2d(512, eps=1e-05, momentum=0.1, affine=True, track_running_stats=True)</td>\n",
       "                        <td id=\"T_178ae9a8_117e_11ea_b383_80000208fe80row5_col52\" class=\"data row5 col52\" >ReLU()</td>\n",
       "                        <td id=\"T_178ae9a8_117e_11ea_b383_80000208fe80row5_col53\" class=\"data row5 col53\" >Conv2d(512, 256, kernel_size=(3, 3), stride=(1, 1), padding=(1, 1))</td>\n",
       "                        <td id=\"T_178ae9a8_117e_11ea_b383_80000208fe80row5_col54\" class=\"data row5 col54\" >ReLU()</td>\n",
       "                        <td id=\"T_178ae9a8_117e_11ea_b383_80000208fe80row5_col55\" class=\"data row5 col55\" >Conv2d(256, 256, kernel_size=(1, 1), stride=(1, 1))</td>\n",
       "                        <td id=\"T_178ae9a8_117e_11ea_b383_80000208fe80row5_col56\" class=\"data row5 col56\" >TorchAdd()</td>\n",
       "                        <td id=\"T_178ae9a8_117e_11ea_b383_80000208fe80row5_col57\" class=\"data row5 col57\" >BatchNorm2d(256, eps=1e-05, momentum=0.1, affine=True, track_running_stats=True)</td>\n",
       "                        <td id=\"T_178ae9a8_117e_11ea_b383_80000208fe80row5_col58\" class=\"data row5 col58\" >ReLU()</td>\n",
       "                        <td id=\"T_178ae9a8_117e_11ea_b383_80000208fe80row5_col59\" class=\"data row5 col59\" >Conv2d(256, 512, kernel_size=(3, 3), stride=(2, 2), padding=(1, 1))</td>\n",
       "                        <td id=\"T_178ae9a8_117e_11ea_b383_80000208fe80row5_col60\" class=\"data row5 col60\" >BatchNorm2d(512, eps=1e-05, momentum=0.1, affine=True, track_running_stats=True)</td>\n",
       "                        <td id=\"T_178ae9a8_117e_11ea_b383_80000208fe80row5_col61\" class=\"data row5 col61\" >ReLU()</td>\n",
       "                        <td id=\"T_178ae9a8_117e_11ea_b383_80000208fe80row5_col62\" class=\"data row5 col62\" >Conv2d(512, 512, kernel_size=(3, 3), stride=(1, 1), padding=(1, 1))</td>\n",
       "                        <td id=\"T_178ae9a8_117e_11ea_b383_80000208fe80row5_col63\" class=\"data row5 col63\" >ReLU()</td>\n",
       "                        <td id=\"T_178ae9a8_117e_11ea_b383_80000208fe80row5_col64\" class=\"data row5 col64\" >Conv2d(256, 512, kernel_size=(1, 1), stride=(2, 2))</td>\n",
       "                        <td id=\"T_178ae9a8_117e_11ea_b383_80000208fe80row5_col65\" class=\"data row5 col65\" >TorchAdd()</td>\n",
       "                        <td id=\"T_178ae9a8_117e_11ea_b383_80000208fe80row5_col66\" class=\"data row5 col66\" >BatchNorm2d(512, eps=1e-05, momentum=0.1, affine=True, track_running_stats=True)</td>\n",
       "                        <td id=\"T_178ae9a8_117e_11ea_b383_80000208fe80row5_col67\" class=\"data row5 col67\" >ReLU()</td>\n",
       "                        <td id=\"T_178ae9a8_117e_11ea_b383_80000208fe80row5_col68\" class=\"data row5 col68\" >Conv2d(512, 512, kernel_size=(3, 3), stride=(1, 1), padding=(1, 1))</td>\n",
       "                        <td id=\"T_178ae9a8_117e_11ea_b383_80000208fe80row5_col69\" class=\"data row5 col69\" >BatchNorm2d(512, eps=1e-05, momentum=0.1, affine=True, track_running_stats=True)</td>\n",
       "                        <td id=\"T_178ae9a8_117e_11ea_b383_80000208fe80row5_col70\" class=\"data row5 col70\" >ReLU()</td>\n",
       "                        <td id=\"T_178ae9a8_117e_11ea_b383_80000208fe80row5_col71\" class=\"data row5 col71\" >Conv2d(512, 512, kernel_size=(3, 3), stride=(1, 1), padding=(1, 1))</td>\n",
       "                        <td id=\"T_178ae9a8_117e_11ea_b383_80000208fe80row5_col72\" class=\"data row5 col72\" >ReLU()</td>\n",
       "                        <td id=\"T_178ae9a8_117e_11ea_b383_80000208fe80row5_col73\" class=\"data row5 col73\" >Conv2d(512, 512, kernel_size=(1, 1), stride=(1, 1))</td>\n",
       "                        <td id=\"T_178ae9a8_117e_11ea_b383_80000208fe80row5_col74\" class=\"data row5 col74\" >TorchAdd()</td>\n",
       "                        <td id=\"T_178ae9a8_117e_11ea_b383_80000208fe80row5_col75\" class=\"data row5 col75\" >GlobalAvgPool2d()</td>\n",
       "                        <td id=\"T_178ae9a8_117e_11ea_b383_80000208fe80row5_col76\" class=\"data row5 col76\" >Linear(in_features=512, out_features=10, bias=True)</td>\n",
       "                        <td id=\"T_178ae9a8_117e_11ea_b383_80000208fe80row5_col77\" class=\"data row5 col77\" >Conv2d(128, 128, kernel_size=(3, 3), stride=(1, 1), padding=(1, 1))</td>\n",
       "                        <td id=\"T_178ae9a8_117e_11ea_b383_80000208fe80row5_col78\" class=\"data row5 col78\" >Conv2d(256, 256, kernel_size=(1, 1), stride=(1, 1))</td>\n",
       "            </tr>\n",
       "    </tbody></table>"
      ],
      "text/plain": [
       "<pandas.io.formats.style.Styler at 0x2b31a5a3ee48>"
      ]
     },
     "metadata": {},
     "output_type": "display_data"
    },
    {
     "data": {
      "text/plain": [
       "'H2OAutoML #1'"
      ]
     },
     "metadata": {},
     "output_type": "display_data"
    },
    {
     "data": {
      "text/html": [
       "<style  type=\"text/css\" >\n",
       "</style><table id=\"T_178ff326_117e_11ea_b383_80000208fe80\" ><thead>    <tr>        <th class=\"col_heading level0 col0\" >std</th>        <th class=\"col_heading level0 col1\" >test_acc</th>        <th class=\"col_heading level0 col2\" >train_acc</th>        <th class=\"col_heading level0 col3\" >time_err</th>        <th class=\"col_heading level0 col4\" >time_pre</th>        <th class=\"col_heading level0 col5\" >time_mod</th>    </tr></thead><tbody>\n",
       "                <tr>\n",
       "                                <td id=\"T_178ff326_117e_11ea_b383_80000208fe80row0_col0\" class=\"data row0 col0\" >0</td>\n",
       "                        <td id=\"T_178ff326_117e_11ea_b383_80000208fe80row0_col1\" class=\"data row0 col1\" >0.977</td>\n",
       "                        <td id=\"T_178ff326_117e_11ea_b383_80000208fe80row0_col2\" class=\"data row0 col2\" >1</td>\n",
       "                        <td id=\"T_178ff326_117e_11ea_b383_80000208fe80row0_col3\" class=\"data row0 col3\" >0.144</td>\n",
       "                        <td id=\"T_178ff326_117e_11ea_b383_80000208fe80row0_col4\" class=\"data row0 col4\" >0.001</td>\n",
       "                        <td id=\"T_178ff326_117e_11ea_b383_80000208fe80row0_col5\" class=\"data row0 col5\" >6391.28</td>\n",
       "            </tr>\n",
       "            <tr>\n",
       "                                <td id=\"T_178ff326_117e_11ea_b383_80000208fe80row1_col0\" class=\"data row1 col0\" >3.2</td>\n",
       "                        <td id=\"T_178ff326_117e_11ea_b383_80000208fe80row1_col1\" class=\"data row1 col1\" >0.938</td>\n",
       "                        <td id=\"T_178ff326_117e_11ea_b383_80000208fe80row1_col2\" class=\"data row1 col2\" >1</td>\n",
       "                        <td id=\"T_178ff326_117e_11ea_b383_80000208fe80row1_col3\" class=\"data row1 col3\" >0.182</td>\n",
       "                        <td id=\"T_178ff326_117e_11ea_b383_80000208fe80row1_col4\" class=\"data row1 col4\" >0.001</td>\n",
       "                        <td id=\"T_178ff326_117e_11ea_b383_80000208fe80row1_col5\" class=\"data row1 col5\" >7506.21</td>\n",
       "            </tr>\n",
       "            <tr>\n",
       "                                <td id=\"T_178ff326_117e_11ea_b383_80000208fe80row2_col0\" class=\"data row2 col0\" >6.4</td>\n",
       "                        <td id=\"T_178ff326_117e_11ea_b383_80000208fe80row2_col1\" class=\"data row2 col1\" >0.809</td>\n",
       "                        <td id=\"T_178ff326_117e_11ea_b383_80000208fe80row2_col2\" class=\"data row2 col2\" >1</td>\n",
       "                        <td id=\"T_178ff326_117e_11ea_b383_80000208fe80row2_col3\" class=\"data row2 col3\" >0.11</td>\n",
       "                        <td id=\"T_178ff326_117e_11ea_b383_80000208fe80row2_col4\" class=\"data row2 col4\" >0.001</td>\n",
       "                        <td id=\"T_178ff326_117e_11ea_b383_80000208fe80row2_col5\" class=\"data row2 col5\" >5533.21</td>\n",
       "            </tr>\n",
       "            <tr>\n",
       "                                <td id=\"T_178ff326_117e_11ea_b383_80000208fe80row3_col0\" class=\"data row3 col0\" >9.6</td>\n",
       "                        <td id=\"T_178ff326_117e_11ea_b383_80000208fe80row3_col1\" class=\"data row3 col1\" >0.658</td>\n",
       "                        <td id=\"T_178ff326_117e_11ea_b383_80000208fe80row3_col2\" class=\"data row3 col2\" >0.997</td>\n",
       "                        <td id=\"T_178ff326_117e_11ea_b383_80000208fe80row3_col3\" class=\"data row3 col3\" >0.126</td>\n",
       "                        <td id=\"T_178ff326_117e_11ea_b383_80000208fe80row3_col4\" class=\"data row3 col4\" >0.001</td>\n",
       "                        <td id=\"T_178ff326_117e_11ea_b383_80000208fe80row3_col5\" class=\"data row3 col5\" >5205.44</td>\n",
       "            </tr>\n",
       "            <tr>\n",
       "                                <td id=\"T_178ff326_117e_11ea_b383_80000208fe80row4_col0\" class=\"data row4 col0\" >12.8</td>\n",
       "                        <td id=\"T_178ff326_117e_11ea_b383_80000208fe80row4_col1\" class=\"data row4 col1\" >0.451</td>\n",
       "                        <td id=\"T_178ff326_117e_11ea_b383_80000208fe80row4_col2\" class=\"data row4 col2\" >0.995</td>\n",
       "                        <td id=\"T_178ff326_117e_11ea_b383_80000208fe80row4_col3\" class=\"data row4 col3\" >0.157</td>\n",
       "                        <td id=\"T_178ff326_117e_11ea_b383_80000208fe80row4_col4\" class=\"data row4 col4\" >0.001</td>\n",
       "                        <td id=\"T_178ff326_117e_11ea_b383_80000208fe80row4_col5\" class=\"data row4 col5\" >1915.29</td>\n",
       "            </tr>\n",
       "            <tr>\n",
       "                                <td id=\"T_178ff326_117e_11ea_b383_80000208fe80row5_col0\" class=\"data row5 col0\" >16</td>\n",
       "                        <td id=\"T_178ff326_117e_11ea_b383_80000208fe80row5_col1\" class=\"data row5 col1\" >0.311</td>\n",
       "                        <td id=\"T_178ff326_117e_11ea_b383_80000208fe80row5_col2\" class=\"data row5 col2\" >0.727</td>\n",
       "                        <td id=\"T_178ff326_117e_11ea_b383_80000208fe80row5_col3\" class=\"data row5 col3\" >0.165</td>\n",
       "                        <td id=\"T_178ff326_117e_11ea_b383_80000208fe80row5_col4\" class=\"data row5 col4\" >0.001</td>\n",
       "                        <td id=\"T_178ff326_117e_11ea_b383_80000208fe80row5_col5\" class=\"data row5 col5\" >5192.26</td>\n",
       "            </tr>\n",
       "    </tbody></table>"
      ],
      "text/plain": [
       "<pandas.io.formats.style.Styler at 0x2b31a5a3ed30>"
      ]
     },
     "metadata": {},
     "output_type": "display_data"
    },
    {
     "data": {
      "text/html": [
       "<style  type=\"text/css\" >\n",
       "</style><table id=\"T_179caabc_117e_11ea_b383_80000208fe80\" ><thead>    <tr>        <th class=\"col_heading level0 col0\" >std</th>        <th class=\"col_heading level0 col1\" >pipe_0</th>        <th class=\"col_heading level0 col2\" >pipe_1</th>        <th class=\"col_heading level0 col3\" >pipe_2</th>        <th class=\"col_heading level0 col4\" >pipe_3</th>        <th class=\"col_heading level0 col5\" >pipe_4</th>        <th class=\"col_heading level0 col6\" >pipe_5</th>        <th class=\"col_heading level0 col7\" >pipe_6</th>        <th class=\"col_heading level0 col8\" >pipe_7</th>        <th class=\"col_heading level0 col9\" >pipe_8</th>        <th class=\"col_heading level0 col10\" >pipe_9</th>        <th class=\"col_heading level0 col11\" >pipe_10</th>        <th class=\"col_heading level0 col12\" >pipe_11</th>        <th class=\"col_heading level0 col13\" >pipe_12</th>        <th class=\"col_heading level0 col14\" >pipe_13</th>        <th class=\"col_heading level0 col15\" >pipe_14</th>        <th class=\"col_heading level0 col16\" >pipe_15</th>        <th class=\"col_heading level0 col17\" >pipe_16</th>        <th class=\"col_heading level0 col18\" >pipe_17</th>        <th class=\"col_heading level0 col19\" >pipe_18</th>        <th class=\"col_heading level0 col20\" >pipe_19</th>        <th class=\"col_heading level0 col21\" >pipe_20</th>        <th class=\"col_heading level0 col22\" >pipe_21</th>        <th class=\"col_heading level0 col23\" >pipe_22</th>        <th class=\"col_heading level0 col24\" >pipe_23</th>        <th class=\"col_heading level0 col25\" >pipe_24</th>        <th class=\"col_heading level0 col26\" >pipe_25</th>        <th class=\"col_heading level0 col27\" >pipe_26</th>        <th class=\"col_heading level0 col28\" >pipe_27</th>        <th class=\"col_heading level0 col29\" >pipe_28</th>        <th class=\"col_heading level0 col30\" >pipe_29</th>        <th class=\"col_heading level0 col31\" >pipe_30</th>        <th class=\"col_heading level0 col32\" >pipe_31</th>        <th class=\"col_heading level0 col33\" >pipe_32</th>        <th class=\"col_heading level0 col34\" >pipe_33</th>        <th class=\"col_heading level0 col35\" >pipe_34</th>        <th class=\"col_heading level0 col36\" >pipe_35</th>        <th class=\"col_heading level0 col37\" >pipe_36</th>        <th class=\"col_heading level0 col38\" >pipe_37</th>        <th class=\"col_heading level0 col39\" >pipe_38</th>        <th class=\"col_heading level0 col40\" >pipe_39</th>        <th class=\"col_heading level0 col41\" >pipe_40</th>        <th class=\"col_heading level0 col42\" >pipe_41</th>        <th class=\"col_heading level0 col43\" >pipe_42</th>        <th class=\"col_heading level0 col44\" >pipe_43</th>        <th class=\"col_heading level0 col45\" >pipe_44</th>        <th class=\"col_heading level0 col46\" >pipe_45</th>        <th class=\"col_heading level0 col47\" >pipe_46</th>        <th class=\"col_heading level0 col48\" >pipe_47</th>        <th class=\"col_heading level0 col49\" >pipe_48</th>        <th class=\"col_heading level0 col50\" >pipe_49</th>        <th class=\"col_heading level0 col51\" >pipe_50</th>        <th class=\"col_heading level0 col52\" >pipe_51</th>        <th class=\"col_heading level0 col53\" >pipe_52</th>        <th class=\"col_heading level0 col54\" >pipe_53</th>        <th class=\"col_heading level0 col55\" >pipe_54</th>        <th class=\"col_heading level0 col56\" >pipe_55</th>        <th class=\"col_heading level0 col57\" >pipe_56</th>        <th class=\"col_heading level0 col58\" >pipe_57</th>        <th class=\"col_heading level0 col59\" >pipe_58</th>        <th class=\"col_heading level0 col60\" >pipe_59</th>        <th class=\"col_heading level0 col61\" >pipe_60</th>        <th class=\"col_heading level0 col62\" >pipe_61</th>        <th class=\"col_heading level0 col63\" >pipe_62</th>        <th class=\"col_heading level0 col64\" >pipe_63</th>        <th class=\"col_heading level0 col65\" >pipe_64</th>        <th class=\"col_heading level0 col66\" >pipe_65</th>        <th class=\"col_heading level0 col67\" >pipe_66</th>        <th class=\"col_heading level0 col68\" >pipe_67</th>        <th class=\"col_heading level0 col69\" >pipe_68</th>        <th class=\"col_heading level0 col70\" >pipe_69</th>        <th class=\"col_heading level0 col71\" >pipe_70</th>        <th class=\"col_heading level0 col72\" >pipe_71</th>        <th class=\"col_heading level0 col73\" >pipe_72</th>        <th class=\"col_heading level0 col74\" >pipe_73</th>        <th class=\"col_heading level0 col75\" >pipe_74</th>        <th class=\"col_heading level0 col76\" >pipe_75</th>        <th class=\"col_heading level0 col77\" >pipe_76</th>        <th class=\"col_heading level0 col78\" >pipe_77</th>        <th class=\"col_heading level0 col79\" >pipe_78</th>        <th class=\"col_heading level0 col80\" >pipe_79</th>        <th class=\"col_heading level0 col81\" >pipe_80</th>        <th class=\"col_heading level0 col82\" >pipe_81</th>        <th class=\"col_heading level0 col83\" >pipe_82</th>        <th class=\"col_heading level0 col84\" >pipe_83</th>        <th class=\"col_heading level0 col85\" >pipe_84</th>        <th class=\"col_heading level0 col86\" >pipe_85</th>        <th class=\"col_heading level0 col87\" >pipe_86</th>        <th class=\"col_heading level0 col88\" >pipe_87</th>        <th class=\"col_heading level0 col89\" >pipe_88</th>        <th class=\"col_heading level0 col90\" >pipe_89</th>        <th class=\"col_heading level0 col91\" >pipe_90</th>        <th class=\"col_heading level0 col92\" >pipe_91</th>        <th class=\"col_heading level0 col93\" >pipe_92</th>        <th class=\"col_heading level0 col94\" >pipe_93</th>        <th class=\"col_heading level0 col95\" >pipe_94</th>        <th class=\"col_heading level0 col96\" >pipe_95</th>        <th class=\"col_heading level0 col97\" >pipe_96</th>        <th class=\"col_heading level0 col98\" >pipe_97</th>        <th class=\"col_heading level0 col99\" >pipe_98</th>        <th class=\"col_heading level0 col100\" >pipe_99</th>        <th class=\"col_heading level0 col101\" >pipe_100</th>        <th class=\"col_heading level0 col102\" >pipe_101</th>        <th class=\"col_heading level0 col103\" >pipe_102</th>        <th class=\"col_heading level0 col104\" >pipe_103</th>        <th class=\"col_heading level0 col105\" >pipe_104</th>        <th class=\"col_heading level0 col106\" >pipe_105</th>        <th class=\"col_heading level0 col107\" >pipe_106</th>        <th class=\"col_heading level0 col108\" >pipe_107</th>        <th class=\"col_heading level0 col109\" >pipe_108</th>        <th class=\"col_heading level0 col110\" >pipe_109</th>        <th class=\"col_heading level0 col111\" >pipe_110</th>        <th class=\"col_heading level0 col112\" >pipe_111</th>        <th class=\"col_heading level0 col113\" >pipe_112</th>        <th class=\"col_heading level0 col114\" >pipe_113</th>        <th class=\"col_heading level0 col115\" >pipe_114</th>        <th class=\"col_heading level0 col116\" >pipe_115</th>        <th class=\"col_heading level0 col117\" >pipe_116</th>        <th class=\"col_heading level0 col118\" >pipe_117</th>        <th class=\"col_heading level0 col119\" >pipe_118</th>        <th class=\"col_heading level0 col120\" >pipe_119</th>        <th class=\"col_heading level0 col121\" >pipe_120</th>        <th class=\"col_heading level0 col122\" >pipe_121</th>        <th class=\"col_heading level0 col123\" >pipe_122</th>        <th class=\"col_heading level0 col124\" >pipe_123</th>        <th class=\"col_heading level0 col125\" >pipe_124</th>        <th class=\"col_heading level0 col126\" >pipe_125</th>        <th class=\"col_heading level0 col127\" >pipe_126</th>        <th class=\"col_heading level0 col128\" >pipe_127</th>        <th class=\"col_heading level0 col129\" >pipe_128</th>        <th class=\"col_heading level0 col130\" >pipe_129</th>        <th class=\"col_heading level0 col131\" >pipe_130</th>        <th class=\"col_heading level0 col132\" >pipe_131</th>        <th class=\"col_heading level0 col133\" >pipe_132</th>        <th class=\"col_heading level0 col134\" >pipe_133</th>        <th class=\"col_heading level0 col135\" >pipe_134</th>        <th class=\"col_heading level0 col136\" >pipe_135</th>        <th class=\"col_heading level0 col137\" >pipe_136</th>        <th class=\"col_heading level0 col138\" >pipe_137</th>        <th class=\"col_heading level0 col139\" >pipe_138</th>        <th class=\"col_heading level0 col140\" >pipe_139</th>        <th class=\"col_heading level0 col141\" >pipe_140</th>        <th class=\"col_heading level0 col142\" >pipe_141</th>        <th class=\"col_heading level0 col143\" >pipe_142</th>        <th class=\"col_heading level0 col144\" >pipe_143</th>        <th class=\"col_heading level0 col145\" >pipe_144</th>        <th class=\"col_heading level0 col146\" >pipe_145</th>        <th class=\"col_heading level0 col147\" >pipe_146</th>        <th class=\"col_heading level0 col148\" >pipe_147</th>        <th class=\"col_heading level0 col149\" >pipe_148</th>        <th class=\"col_heading level0 col150\" >pipe_149</th>        <th class=\"col_heading level0 col151\" >pipe_150</th>        <th class=\"col_heading level0 col152\" >pipe_151</th>        <th class=\"col_heading level0 col153\" >pipe_152</th>        <th class=\"col_heading level0 col154\" >pipe_153</th>        <th class=\"col_heading level0 col155\" >pipe_154</th>        <th class=\"col_heading level0 col156\" >pipe_155</th>        <th class=\"col_heading level0 col157\" >pipe_156</th>        <th class=\"col_heading level0 col158\" >pipe_157</th>        <th class=\"col_heading level0 col159\" >pipe_158</th>        <th class=\"col_heading level0 col160\" >pipe_159</th>        <th class=\"col_heading level0 col161\" >pipe_160</th>        <th class=\"col_heading level0 col162\" >pipe_161</th>        <th class=\"col_heading level0 col163\" >pipe_162</th>        <th class=\"col_heading level0 col164\" >pipe_163</th>        <th class=\"col_heading level0 col165\" >pipe_164</th>        <th class=\"col_heading level0 col166\" >pipe_165</th>        <th class=\"col_heading level0 col167\" >pipe_166</th>        <th class=\"col_heading level0 col168\" >pipe_167</th>        <th class=\"col_heading level0 col169\" >pipe_168</th>        <th class=\"col_heading level0 col170\" >pipe_169</th>        <th class=\"col_heading level0 col171\" >pipe_170</th>        <th class=\"col_heading level0 col172\" >pipe_171</th>        <th class=\"col_heading level0 col173\" >pipe_172</th>        <th class=\"col_heading level0 col174\" >pipe_173</th>        <th class=\"col_heading level0 col175\" >pipe_174</th>        <th class=\"col_heading level0 col176\" >pipe_175</th>        <th class=\"col_heading level0 col177\" >pipe_176</th>        <th class=\"col_heading level0 col178\" >pipe_177</th>        <th class=\"col_heading level0 col179\" >pipe_178</th>        <th class=\"col_heading level0 col180\" >pipe_179</th>        <th class=\"col_heading level0 col181\" >pipe_180</th>        <th class=\"col_heading level0 col182\" >pipe_181</th>        <th class=\"col_heading level0 col183\" >pipe_182</th>        <th class=\"col_heading level0 col184\" >pipe_183</th>        <th class=\"col_heading level0 col185\" >pipe_184</th>        <th class=\"col_heading level0 col186\" >pipe_185</th>        <th class=\"col_heading level0 col187\" >pipe_186</th>        <th class=\"col_heading level0 col188\" >pipe_187</th>        <th class=\"col_heading level0 col189\" >pipe_188</th>        <th class=\"col_heading level0 col190\" >pipe_189</th>        <th class=\"col_heading level0 col191\" >pipe_190</th>        <th class=\"col_heading level0 col192\" >pipe_191</th>        <th class=\"col_heading level0 col193\" >pipe_192</th>        <th class=\"col_heading level0 col194\" >pipe_193</th>        <th class=\"col_heading level0 col195\" >pipe_194</th>        <th class=\"col_heading level0 col196\" >pipe_195</th>        <th class=\"col_heading level0 col197\" >pipe_196</th>        <th class=\"col_heading level0 col198\" >pipe_197</th>        <th class=\"col_heading level0 col199\" >pipe_198</th>        <th class=\"col_heading level0 col200\" >pipe_199</th>        <th class=\"col_heading level0 col201\" >pipe_200</th>        <th class=\"col_heading level0 col202\" >pipe_201</th>        <th class=\"col_heading level0 col203\" >pipe_202</th>        <th class=\"col_heading level0 col204\" >pipe_203</th>        <th class=\"col_heading level0 col205\" >pipe_204</th>        <th class=\"col_heading level0 col206\" >pipe_205</th>        <th class=\"col_heading level0 col207\" >pipe_206</th>        <th class=\"col_heading level0 col208\" >pipe_207</th>        <th class=\"col_heading level0 col209\" >pipe_208</th>        <th class=\"col_heading level0 col210\" >pipe_209</th>        <th class=\"col_heading level0 col211\" >pipe_210</th>        <th class=\"col_heading level0 col212\" >pipe_211</th>        <th class=\"col_heading level0 col213\" >pipe_212</th>        <th class=\"col_heading level0 col214\" >pipe_213</th>        <th class=\"col_heading level0 col215\" >pipe_214</th>        <th class=\"col_heading level0 col216\" >pipe_215</th>        <th class=\"col_heading level0 col217\" >pipe_216</th>        <th class=\"col_heading level0 col218\" >pipe_217</th>        <th class=\"col_heading level0 col219\" >pipe_218</th>        <th class=\"col_heading level0 col220\" >pipe_219</th>        <th class=\"col_heading level0 col221\" >pipe_220</th>        <th class=\"col_heading level0 col222\" >pipe_221</th>        <th class=\"col_heading level0 col223\" >pipe_222</th>        <th class=\"col_heading level0 col224\" >pipe_223</th>        <th class=\"col_heading level0 col225\" >pipe_224</th>        <th class=\"col_heading level0 col226\" >pipe_225</th>        <th class=\"col_heading level0 col227\" >pipe_226</th>        <th class=\"col_heading level0 col228\" >pipe_227</th>        <th class=\"col_heading level0 col229\" >pipe_228</th>        <th class=\"col_heading level0 col230\" >pipe_229</th>        <th class=\"col_heading level0 col231\" >pipe_230</th>        <th class=\"col_heading level0 col232\" >pipe_231</th>        <th class=\"col_heading level0 col233\" >pipe_232</th>        <th class=\"col_heading level0 col234\" >pipe_233</th>        <th class=\"col_heading level0 col235\" >pipe_234</th>        <th class=\"col_heading level0 col236\" >pipe_235</th>        <th class=\"col_heading level0 col237\" >pipe_236</th>        <th class=\"col_heading level0 col238\" >pipe_237</th>        <th class=\"col_heading level0 col239\" >pipe_238</th>        <th class=\"col_heading level0 col240\" >pipe_239</th>        <th class=\"col_heading level0 col241\" >pipe_240</th>        <th class=\"col_heading level0 col242\" >pipe_241</th>        <th class=\"col_heading level0 col243\" >pipe_242</th>        <th class=\"col_heading level0 col244\" >pipe_243</th>        <th class=\"col_heading level0 col245\" >pipe_244</th>        <th class=\"col_heading level0 col246\" >pipe_245</th>        <th class=\"col_heading level0 col247\" >pipe_246</th>        <th class=\"col_heading level0 col248\" >pipe_247</th>        <th class=\"col_heading level0 col249\" >pipe_248</th>        <th class=\"col_heading level0 col250\" >pipe_249</th>        <th class=\"col_heading level0 col251\" >pipe_250</th>        <th class=\"col_heading level0 col252\" >pipe_251</th>        <th class=\"col_heading level0 col253\" >pipe_252</th>        <th class=\"col_heading level0 col254\" >pipe_253</th>        <th class=\"col_heading level0 col255\" >pipe_254</th>        <th class=\"col_heading level0 col256\" >pipe_255</th>        <th class=\"col_heading level0 col257\" >pipe_256</th>        <th class=\"col_heading level0 col258\" >pipe_257</th>        <th class=\"col_heading level0 col259\" >pipe_258</th>        <th class=\"col_heading level0 col260\" >pipe_259</th>        <th class=\"col_heading level0 col261\" >pipe_260</th>        <th class=\"col_heading level0 col262\" >pipe_261</th>        <th class=\"col_heading level0 col263\" >pipe_262</th>        <th class=\"col_heading level0 col264\" >pipe_263</th>        <th class=\"col_heading level0 col265\" >pipe_264</th>        <th class=\"col_heading level0 col266\" >pipe_265</th>        <th class=\"col_heading level0 col267\" >pipe_266</th>        <th class=\"col_heading level0 col268\" >pipe_267</th>        <th class=\"col_heading level0 col269\" >pipe_268</th>        <th class=\"col_heading level0 col270\" >pipe_269</th>        <th class=\"col_heading level0 col271\" >pipe_270</th>        <th class=\"col_heading level0 col272\" >pipe_271</th>        <th class=\"col_heading level0 col273\" >pipe_272</th>        <th class=\"col_heading level0 col274\" >pipe_273</th>        <th class=\"col_heading level0 col275\" >pipe_274</th>        <th class=\"col_heading level0 col276\" >pipe_275</th>        <th class=\"col_heading level0 col277\" >pipe_276</th>        <th class=\"col_heading level0 col278\" >pipe_277</th>        <th class=\"col_heading level0 col279\" >pipe_278</th>        <th class=\"col_heading level0 col280\" >pipe_279</th>        <th class=\"col_heading level0 col281\" >pipe_280</th>        <th class=\"col_heading level0 col282\" >pipe_281</th>        <th class=\"col_heading level0 col283\" >pipe_282</th>        <th class=\"col_heading level0 col284\" >pipe_283</th>        <th class=\"col_heading level0 col285\" >pipe_284</th>        <th class=\"col_heading level0 col286\" >pipe_285</th>        <th class=\"col_heading level0 col287\" >pipe_286</th>        <th class=\"col_heading level0 col288\" >pipe_287</th>        <th class=\"col_heading level0 col289\" >pipe_288</th>        <th class=\"col_heading level0 col290\" >pipe_289</th>        <th class=\"col_heading level0 col291\" >pipe_290</th>        <th class=\"col_heading level0 col292\" >pipe_291</th>        <th class=\"col_heading level0 col293\" >pipe_292</th>        <th class=\"col_heading level0 col294\" >pipe_293</th>        <th class=\"col_heading level0 col295\" >pipe_294</th>        <th class=\"col_heading level0 col296\" >pipe_295</th>        <th class=\"col_heading level0 col297\" >pipe_296</th>        <th class=\"col_heading level0 col298\" >pipe_297</th>        <th class=\"col_heading level0 col299\" >pipe_298</th>        <th class=\"col_heading level0 col300\" >pipe_299</th>        <th class=\"col_heading level0 col301\" >pipe_300</th>        <th class=\"col_heading level0 col302\" >pipe_301</th>        <th class=\"col_heading level0 col303\" >pipe_302</th>        <th class=\"col_heading level0 col304\" >pipe_303</th>        <th class=\"col_heading level0 col305\" >pipe_304</th>        <th class=\"col_heading level0 col306\" >pipe_305</th>        <th class=\"col_heading level0 col307\" >pipe_306</th>        <th class=\"col_heading level0 col308\" >pipe_307</th>        <th class=\"col_heading level0 col309\" >pipe_308</th>        <th class=\"col_heading level0 col310\" >pipe_309</th>        <th class=\"col_heading level0 col311\" >pipe_310</th>        <th class=\"col_heading level0 col312\" >pipe_311</th>        <th class=\"col_heading level0 col313\" >pipe_312</th>        <th class=\"col_heading level0 col314\" >pipe_313</th>        <th class=\"col_heading level0 col315\" >pipe_314</th>        <th class=\"col_heading level0 col316\" >pipe_315</th>        <th class=\"col_heading level0 col317\" >pipe_316</th>        <th class=\"col_heading level0 col318\" >pipe_317</th>        <th class=\"col_heading level0 col319\" >pipe_318</th>        <th class=\"col_heading level0 col320\" >pipe_319</th>        <th class=\"col_heading level0 col321\" >pipe_320</th>        <th class=\"col_heading level0 col322\" >pipe_321</th>        <th class=\"col_heading level0 col323\" >pipe_322</th>        <th class=\"col_heading level0 col324\" >pipe_323</th>        <th class=\"col_heading level0 col325\" >pipe_324</th>        <th class=\"col_heading level0 col326\" >pipe_325</th>        <th class=\"col_heading level0 col327\" >pipe_326</th>        <th class=\"col_heading level0 col328\" >pipe_327</th>        <th class=\"col_heading level0 col329\" >pipe_328</th>        <th class=\"col_heading level0 col330\" >pipe_329</th>        <th class=\"col_heading level0 col331\" >pipe_330</th>        <th class=\"col_heading level0 col332\" >pipe_331</th>        <th class=\"col_heading level0 col333\" >pipe_332</th>        <th class=\"col_heading level0 col334\" >pipe_333</th>        <th class=\"col_heading level0 col335\" >pipe_334</th>        <th class=\"col_heading level0 col336\" >pipe_335</th>        <th class=\"col_heading level0 col337\" >pipe_336</th>        <th class=\"col_heading level0 col338\" >pipe_337</th>        <th class=\"col_heading level0 col339\" >pipe_338</th>        <th class=\"col_heading level0 col340\" >pipe_339</th>        <th class=\"col_heading level0 col341\" >pipe_340</th>        <th class=\"col_heading level0 col342\" >pipe_341</th>        <th class=\"col_heading level0 col343\" >pipe_342</th>        <th class=\"col_heading level0 col344\" >pipe_343</th>        <th class=\"col_heading level0 col345\" >pipe_344</th>        <th class=\"col_heading level0 col346\" >pipe_345</th>        <th class=\"col_heading level0 col347\" >pipe_346</th>        <th class=\"col_heading level0 col348\" >pipe_347</th>        <th class=\"col_heading level0 col349\" >pipe_348</th>        <th class=\"col_heading level0 col350\" >pipe_349</th>        <th class=\"col_heading level0 col351\" >pipe_350</th>        <th class=\"col_heading level0 col352\" >pipe_351</th>        <th class=\"col_heading level0 col353\" >pipe_352</th>        <th class=\"col_heading level0 col354\" >pipe_353</th>        <th class=\"col_heading level0 col355\" >pipe_354</th>        <th class=\"col_heading level0 col356\" >pipe_355</th>        <th class=\"col_heading level0 col357\" >pipe_356</th>        <th class=\"col_heading level0 col358\" >pipe_357</th>        <th class=\"col_heading level0 col359\" >pipe_358</th>        <th class=\"col_heading level0 col360\" >pipe_359</th>        <th class=\"col_heading level0 col361\" >pipe_360</th>        <th class=\"col_heading level0 col362\" >pipe_361</th>        <th class=\"col_heading level0 col363\" >pipe_362</th>        <th class=\"col_heading level0 col364\" >pipe_363</th>        <th class=\"col_heading level0 col365\" >pipe_364</th>        <th class=\"col_heading level0 col366\" >pipe_365</th>        <th class=\"col_heading level0 col367\" >pipe_366</th>        <th class=\"col_heading level0 col368\" >pipe_367</th>        <th class=\"col_heading level0 col369\" >pipe_368</th>        <th class=\"col_heading level0 col370\" >pipe_369</th>        <th class=\"col_heading level0 col371\" >pipe_370</th>        <th class=\"col_heading level0 col372\" >pipe_371</th>        <th class=\"col_heading level0 col373\" >pipe_372</th>        <th class=\"col_heading level0 col374\" >pipe_373</th>        <th class=\"col_heading level0 col375\" >pipe_374</th>        <th class=\"col_heading level0 col376\" >pipe_375</th>        <th class=\"col_heading level0 col377\" >pipe_376</th>        <th class=\"col_heading level0 col378\" >pipe_377</th>        <th class=\"col_heading level0 col379\" >pipe_378</th>        <th class=\"col_heading level0 col380\" >pipe_379</th>        <th class=\"col_heading level0 col381\" >pipe_380</th>        <th class=\"col_heading level0 col382\" >pipe_381</th>        <th class=\"col_heading level0 col383\" >pipe_382</th>        <th class=\"col_heading level0 col384\" >pipe_383</th>        <th class=\"col_heading level0 col385\" >pipe_384</th>        <th class=\"col_heading level0 col386\" >pipe_385</th>        <th class=\"col_heading level0 col387\" >pipe_386</th>        <th class=\"col_heading level0 col388\" >pipe_387</th>        <th class=\"col_heading level0 col389\" >pipe_388</th>        <th class=\"col_heading level0 col390\" >pipe_389</th>        <th class=\"col_heading level0 col391\" >pipe_390</th>        <th class=\"col_heading level0 col392\" >pipe_391</th>        <th class=\"col_heading level0 col393\" >pipe_392</th>        <th class=\"col_heading level0 col394\" >pipe_393</th>        <th class=\"col_heading level0 col395\" >pipe_394</th>        <th class=\"col_heading level0 col396\" >pipe_395</th>        <th class=\"col_heading level0 col397\" >pipe_396</th>        <th class=\"col_heading level0 col398\" >pipe_397</th>        <th class=\"col_heading level0 col399\" >pipe_398</th>        <th class=\"col_heading level0 col400\" >pipe_399</th>        <th class=\"col_heading level0 col401\" >pipe_400</th>        <th class=\"col_heading level0 col402\" >pipe_401</th>        <th class=\"col_heading level0 col403\" >pipe_402</th>        <th class=\"col_heading level0 col404\" >pipe_403</th>        <th class=\"col_heading level0 col405\" >pipe_404</th>        <th class=\"col_heading level0 col406\" >pipe_405</th>        <th class=\"col_heading level0 col407\" >pipe_406</th>        <th class=\"col_heading level0 col408\" >pipe_407</th>        <th class=\"col_heading level0 col409\" >pipe_408</th>        <th class=\"col_heading level0 col410\" >pipe_409</th>        <th class=\"col_heading level0 col411\" >pipe_410</th>        <th class=\"col_heading level0 col412\" >pipe_411</th>        <th class=\"col_heading level0 col413\" >pipe_412</th>        <th class=\"col_heading level0 col414\" >pipe_413</th>        <th class=\"col_heading level0 col415\" >pipe_414</th>        <th class=\"col_heading level0 col416\" >pipe_415</th>        <th class=\"col_heading level0 col417\" >pipe_416</th>        <th class=\"col_heading level0 col418\" >pipe_417</th>        <th class=\"col_heading level0 col419\" >pipe_418</th>        <th class=\"col_heading level0 col420\" >pipe_419</th>        <th class=\"col_heading level0 col421\" >pipe_420</th>        <th class=\"col_heading level0 col422\" >pipe_421</th>        <th class=\"col_heading level0 col423\" >pipe_422</th>        <th class=\"col_heading level0 col424\" >pipe_423</th>        <th class=\"col_heading level0 col425\" >pipe_424</th>        <th class=\"col_heading level0 col426\" >pipe_425</th>        <th class=\"col_heading level0 col427\" >pipe_426</th>        <th class=\"col_heading level0 col428\" >pipe_427</th>        <th class=\"col_heading level0 col429\" >pipe_428</th>        <th class=\"col_heading level0 col430\" >pipe_429</th>        <th class=\"col_heading level0 col431\" >pipe_430</th>        <th class=\"col_heading level0 col432\" >pipe_431</th>        <th class=\"col_heading level0 col433\" >pipe_432</th>        <th class=\"col_heading level0 col434\" >pipe_433</th>        <th class=\"col_heading level0 col435\" >pipe_434</th>        <th class=\"col_heading level0 col436\" >pipe_435</th>        <th class=\"col_heading level0 col437\" >pipe_436</th>        <th class=\"col_heading level0 col438\" >pipe_437</th>        <th class=\"col_heading level0 col439\" >pipe_438</th>        <th class=\"col_heading level0 col440\" >pipe_439</th>        <th class=\"col_heading level0 col441\" >pipe_440</th>        <th class=\"col_heading level0 col442\" >pipe_441</th>        <th class=\"col_heading level0 col443\" >pipe_442</th>        <th class=\"col_heading level0 col444\" >pipe_443</th>        <th class=\"col_heading level0 col445\" >pipe_444</th>        <th class=\"col_heading level0 col446\" >pipe_445</th>        <th class=\"col_heading level0 col447\" >pipe_446</th>        <th class=\"col_heading level0 col448\" >pipe_447</th>        <th class=\"col_heading level0 col449\" >pipe_448</th>        <th class=\"col_heading level0 col450\" >pipe_449</th>        <th class=\"col_heading level0 col451\" >pipe_450</th>        <th class=\"col_heading level0 col452\" >pipe_451</th>        <th class=\"col_heading level0 col453\" >pipe_452</th>        <th class=\"col_heading level0 col454\" >pipe_453</th>        <th class=\"col_heading level0 col455\" >pipe_454</th>        <th class=\"col_heading level0 col456\" >pipe_455</th>        <th class=\"col_heading level0 col457\" >pipe_456</th>        <th class=\"col_heading level0 col458\" >pipe_457</th>        <th class=\"col_heading level0 col459\" >pipe_458</th>        <th class=\"col_heading level0 col460\" >pipe_459</th>        <th class=\"col_heading level0 col461\" >pipe_460</th>        <th class=\"col_heading level0 col462\" >pipe_461</th>        <th class=\"col_heading level0 col463\" >pipe_462</th>        <th class=\"col_heading level0 col464\" >pipe_463</th>        <th class=\"col_heading level0 col465\" >pipe_464</th>        <th class=\"col_heading level0 col466\" >pipe_465</th>        <th class=\"col_heading level0 col467\" >pipe_466</th>        <th class=\"col_heading level0 col468\" >pipe_467</th>        <th class=\"col_heading level0 col469\" >pipe_468</th>        <th class=\"col_heading level0 col470\" >pipe_469</th>        <th class=\"col_heading level0 col471\" >pipe_470</th>        <th class=\"col_heading level0 col472\" >pipe_471</th>        <th class=\"col_heading level0 col473\" >pipe_472</th>        <th class=\"col_heading level0 col474\" >pipe_473</th>        <th class=\"col_heading level0 col475\" >pipe_474</th>        <th class=\"col_heading level0 col476\" >pipe_475</th>        <th class=\"col_heading level0 col477\" >pipe_476</th>        <th class=\"col_heading level0 col478\" >pipe_477</th>        <th class=\"col_heading level0 col479\" >pipe_478</th>        <th class=\"col_heading level0 col480\" >pipe_479</th>        <th class=\"col_heading level0 col481\" >pipe_480</th>        <th class=\"col_heading level0 col482\" >pipe_481</th>        <th class=\"col_heading level0 col483\" >pipe_482</th>        <th class=\"col_heading level0 col484\" >pipe_483</th>        <th class=\"col_heading level0 col485\" >pipe_484</th>        <th class=\"col_heading level0 col486\" >pipe_485</th>        <th class=\"col_heading level0 col487\" >pipe_486</th>        <th class=\"col_heading level0 col488\" >pipe_487</th>        <th class=\"col_heading level0 col489\" >pipe_488</th>        <th class=\"col_heading level0 col490\" >pipe_489</th>        <th class=\"col_heading level0 col491\" >pipe_490</th>        <th class=\"col_heading level0 col492\" >pipe_491</th>        <th class=\"col_heading level0 col493\" >pipe_492</th>        <th class=\"col_heading level0 col494\" >pipe_493</th>        <th class=\"col_heading level0 col495\" >pipe_494</th>        <th class=\"col_heading level0 col496\" >pipe_495</th>        <th class=\"col_heading level0 col497\" >pipe_496</th>        <th class=\"col_heading level0 col498\" >pipe_497</th>        <th class=\"col_heading level0 col499\" >pipe_498</th>        <th class=\"col_heading level0 col500\" >pipe_499</th>        <th class=\"col_heading level0 col501\" >pipe_500</th>        <th class=\"col_heading level0 col502\" >pipe_501</th>        <th class=\"col_heading level0 col503\" >pipe_502</th>        <th class=\"col_heading level0 col504\" >pipe_503</th>        <th class=\"col_heading level0 col505\" >pipe_504</th>        <th class=\"col_heading level0 col506\" >pipe_505</th>        <th class=\"col_heading level0 col507\" >pipe_506</th>        <th class=\"col_heading level0 col508\" >pipe_507</th>        <th class=\"col_heading level0 col509\" >pipe_508</th>        <th class=\"col_heading level0 col510\" >pipe_509</th>        <th class=\"col_heading level0 col511\" >pipe_510</th>        <th class=\"col_heading level0 col512\" >pipe_511</th>        <th class=\"col_heading level0 col513\" >pipe_512</th>        <th class=\"col_heading level0 col514\" >pipe_513</th>        <th class=\"col_heading level0 col515\" >pipe_514</th>        <th class=\"col_heading level0 col516\" >pipe_515</th>        <th class=\"col_heading level0 col517\" >pipe_516</th>        <th class=\"col_heading level0 col518\" >pipe_517</th>        <th class=\"col_heading level0 col519\" >pipe_518</th>        <th class=\"col_heading level0 col520\" >pipe_519</th>        <th class=\"col_heading level0 col521\" >pipe_520</th>        <th class=\"col_heading level0 col522\" >pipe_521</th>        <th class=\"col_heading level0 col523\" >pipe_522</th>        <th class=\"col_heading level0 col524\" >pipe_523</th>        <th class=\"col_heading level0 col525\" >pipe_524</th>        <th class=\"col_heading level0 col526\" >pipe_525</th>        <th class=\"col_heading level0 col527\" >pipe_526</th>        <th class=\"col_heading level0 col528\" >pipe_527</th>        <th class=\"col_heading level0 col529\" >pipe_528</th>        <th class=\"col_heading level0 col530\" >pipe_529</th>        <th class=\"col_heading level0 col531\" >pipe_530</th>        <th class=\"col_heading level0 col532\" >pipe_531</th>        <th class=\"col_heading level0 col533\" >pipe_532</th>        <th class=\"col_heading level0 col534\" >pipe_533</th>        <th class=\"col_heading level0 col535\" >pipe_534</th>        <th class=\"col_heading level0 col536\" >pipe_535</th>        <th class=\"col_heading level0 col537\" >pipe_536</th>        <th class=\"col_heading level0 col538\" >pipe_537</th>        <th class=\"col_heading level0 col539\" >pipe_538</th>        <th class=\"col_heading level0 col540\" >pipe_539</th>        <th class=\"col_heading level0 col541\" >pipe_540</th>        <th class=\"col_heading level0 col542\" >pipe_541</th>        <th class=\"col_heading level0 col543\" >pipe_542</th>        <th class=\"col_heading level0 col544\" >pipe_543</th>        <th class=\"col_heading level0 col545\" >pipe_544</th>        <th class=\"col_heading level0 col546\" >pipe_545</th>        <th class=\"col_heading level0 col547\" >pipe_546</th>        <th class=\"col_heading level0 col548\" >pipe_547</th>        <th class=\"col_heading level0 col549\" >pipe_548</th>        <th class=\"col_heading level0 col550\" >pipe_549</th>        <th class=\"col_heading level0 col551\" >pipe_550</th>        <th class=\"col_heading level0 col552\" >pipe_551</th>        <th class=\"col_heading level0 col553\" >pipe_552</th>        <th class=\"col_heading level0 col554\" >pipe_553</th>        <th class=\"col_heading level0 col555\" >pipe_554</th>        <th class=\"col_heading level0 col556\" >pipe_555</th>        <th class=\"col_heading level0 col557\" >pipe_556</th>        <th class=\"col_heading level0 col558\" >pipe_557</th>        <th class=\"col_heading level0 col559\" >pipe_558</th>        <th class=\"col_heading level0 col560\" >pipe_559</th>        <th class=\"col_heading level0 col561\" >pipe_560</th>        <th class=\"col_heading level0 col562\" >pipe_561</th>        <th class=\"col_heading level0 col563\" >pipe_562</th>        <th class=\"col_heading level0 col564\" >pipe_563</th>        <th class=\"col_heading level0 col565\" >pipe_564</th>        <th class=\"col_heading level0 col566\" >pipe_565</th>        <th class=\"col_heading level0 col567\" >pipe_566</th>    </tr></thead><tbody>\n",
       "                <tr>\n",
       "                                <td id=\"T_179caabc_117e_11ea_b383_80000208fe80row0_col0\" class=\"data row0 col0\" >0</td>\n",
       "                        <td id=\"T_179caabc_117e_11ea_b383_80000208fe80row0_col1\" class=\"data row0 col1\" >StackedEnsemble_BestOfFamily_AutoML_20191125_150530</td>\n",
       "                        <td id=\"T_179caabc_117e_11ea_b383_80000208fe80row0_col2\" class=\"data row0 col2\" >DeepLearning_grid_1_AutoML_20191125_150530_model_32</td>\n",
       "                        <td id=\"T_179caabc_117e_11ea_b383_80000208fe80row0_col3\" class=\"data row0 col3\" >GBM_grid_1_AutoML_20191125_150530_model_145</td>\n",
       "                        <td id=\"T_179caabc_117e_11ea_b383_80000208fe80row0_col4\" class=\"data row0 col4\" >XGBoost_grid_1_AutoML_20191125_150530_model_13</td>\n",
       "                        <td id=\"T_179caabc_117e_11ea_b383_80000208fe80row0_col5\" class=\"data row0 col5\" >DRF_1_AutoML_20191125_150530</td>\n",
       "                        <td id=\"T_179caabc_117e_11ea_b383_80000208fe80row0_col6\" class=\"data row0 col6\" >XRT_1_AutoML_20191125_150530</td>\n",
       "                        <td id=\"T_179caabc_117e_11ea_b383_80000208fe80row0_col7\" class=\"data row0 col7\" >GLM_grid_1_AutoML_20191125_150530_model_1</td>\n",
       "                        <td id=\"T_179caabc_117e_11ea_b383_80000208fe80row0_col8\" class=\"data row0 col8\" >nan</td>\n",
       "                        <td id=\"T_179caabc_117e_11ea_b383_80000208fe80row0_col9\" class=\"data row0 col9\" >nan</td>\n",
       "                        <td id=\"T_179caabc_117e_11ea_b383_80000208fe80row0_col10\" class=\"data row0 col10\" >nan</td>\n",
       "                        <td id=\"T_179caabc_117e_11ea_b383_80000208fe80row0_col11\" class=\"data row0 col11\" >nan</td>\n",
       "                        <td id=\"T_179caabc_117e_11ea_b383_80000208fe80row0_col12\" class=\"data row0 col12\" >nan</td>\n",
       "                        <td id=\"T_179caabc_117e_11ea_b383_80000208fe80row0_col13\" class=\"data row0 col13\" >nan</td>\n",
       "                        <td id=\"T_179caabc_117e_11ea_b383_80000208fe80row0_col14\" class=\"data row0 col14\" >nan</td>\n",
       "                        <td id=\"T_179caabc_117e_11ea_b383_80000208fe80row0_col15\" class=\"data row0 col15\" >nan</td>\n",
       "                        <td id=\"T_179caabc_117e_11ea_b383_80000208fe80row0_col16\" class=\"data row0 col16\" >nan</td>\n",
       "                        <td id=\"T_179caabc_117e_11ea_b383_80000208fe80row0_col17\" class=\"data row0 col17\" >nan</td>\n",
       "                        <td id=\"T_179caabc_117e_11ea_b383_80000208fe80row0_col18\" class=\"data row0 col18\" >nan</td>\n",
       "                        <td id=\"T_179caabc_117e_11ea_b383_80000208fe80row0_col19\" class=\"data row0 col19\" >nan</td>\n",
       "                        <td id=\"T_179caabc_117e_11ea_b383_80000208fe80row0_col20\" class=\"data row0 col20\" >nan</td>\n",
       "                        <td id=\"T_179caabc_117e_11ea_b383_80000208fe80row0_col21\" class=\"data row0 col21\" >nan</td>\n",
       "                        <td id=\"T_179caabc_117e_11ea_b383_80000208fe80row0_col22\" class=\"data row0 col22\" >nan</td>\n",
       "                        <td id=\"T_179caabc_117e_11ea_b383_80000208fe80row0_col23\" class=\"data row0 col23\" >nan</td>\n",
       "                        <td id=\"T_179caabc_117e_11ea_b383_80000208fe80row0_col24\" class=\"data row0 col24\" >nan</td>\n",
       "                        <td id=\"T_179caabc_117e_11ea_b383_80000208fe80row0_col25\" class=\"data row0 col25\" >nan</td>\n",
       "                        <td id=\"T_179caabc_117e_11ea_b383_80000208fe80row0_col26\" class=\"data row0 col26\" >nan</td>\n",
       "                        <td id=\"T_179caabc_117e_11ea_b383_80000208fe80row0_col27\" class=\"data row0 col27\" >nan</td>\n",
       "                        <td id=\"T_179caabc_117e_11ea_b383_80000208fe80row0_col28\" class=\"data row0 col28\" >nan</td>\n",
       "                        <td id=\"T_179caabc_117e_11ea_b383_80000208fe80row0_col29\" class=\"data row0 col29\" >nan</td>\n",
       "                        <td id=\"T_179caabc_117e_11ea_b383_80000208fe80row0_col30\" class=\"data row0 col30\" >nan</td>\n",
       "                        <td id=\"T_179caabc_117e_11ea_b383_80000208fe80row0_col31\" class=\"data row0 col31\" >nan</td>\n",
       "                        <td id=\"T_179caabc_117e_11ea_b383_80000208fe80row0_col32\" class=\"data row0 col32\" >nan</td>\n",
       "                        <td id=\"T_179caabc_117e_11ea_b383_80000208fe80row0_col33\" class=\"data row0 col33\" >nan</td>\n",
       "                        <td id=\"T_179caabc_117e_11ea_b383_80000208fe80row0_col34\" class=\"data row0 col34\" >nan</td>\n",
       "                        <td id=\"T_179caabc_117e_11ea_b383_80000208fe80row0_col35\" class=\"data row0 col35\" >nan</td>\n",
       "                        <td id=\"T_179caabc_117e_11ea_b383_80000208fe80row0_col36\" class=\"data row0 col36\" >nan</td>\n",
       "                        <td id=\"T_179caabc_117e_11ea_b383_80000208fe80row0_col37\" class=\"data row0 col37\" >nan</td>\n",
       "                        <td id=\"T_179caabc_117e_11ea_b383_80000208fe80row0_col38\" class=\"data row0 col38\" >nan</td>\n",
       "                        <td id=\"T_179caabc_117e_11ea_b383_80000208fe80row0_col39\" class=\"data row0 col39\" >nan</td>\n",
       "                        <td id=\"T_179caabc_117e_11ea_b383_80000208fe80row0_col40\" class=\"data row0 col40\" >nan</td>\n",
       "                        <td id=\"T_179caabc_117e_11ea_b383_80000208fe80row0_col41\" class=\"data row0 col41\" >nan</td>\n",
       "                        <td id=\"T_179caabc_117e_11ea_b383_80000208fe80row0_col42\" class=\"data row0 col42\" >nan</td>\n",
       "                        <td id=\"T_179caabc_117e_11ea_b383_80000208fe80row0_col43\" class=\"data row0 col43\" >nan</td>\n",
       "                        <td id=\"T_179caabc_117e_11ea_b383_80000208fe80row0_col44\" class=\"data row0 col44\" >nan</td>\n",
       "                        <td id=\"T_179caabc_117e_11ea_b383_80000208fe80row0_col45\" class=\"data row0 col45\" >nan</td>\n",
       "                        <td id=\"T_179caabc_117e_11ea_b383_80000208fe80row0_col46\" class=\"data row0 col46\" >nan</td>\n",
       "                        <td id=\"T_179caabc_117e_11ea_b383_80000208fe80row0_col47\" class=\"data row0 col47\" >nan</td>\n",
       "                        <td id=\"T_179caabc_117e_11ea_b383_80000208fe80row0_col48\" class=\"data row0 col48\" >nan</td>\n",
       "                        <td id=\"T_179caabc_117e_11ea_b383_80000208fe80row0_col49\" class=\"data row0 col49\" >nan</td>\n",
       "                        <td id=\"T_179caabc_117e_11ea_b383_80000208fe80row0_col50\" class=\"data row0 col50\" >nan</td>\n",
       "                        <td id=\"T_179caabc_117e_11ea_b383_80000208fe80row0_col51\" class=\"data row0 col51\" >nan</td>\n",
       "                        <td id=\"T_179caabc_117e_11ea_b383_80000208fe80row0_col52\" class=\"data row0 col52\" >nan</td>\n",
       "                        <td id=\"T_179caabc_117e_11ea_b383_80000208fe80row0_col53\" class=\"data row0 col53\" >nan</td>\n",
       "                        <td id=\"T_179caabc_117e_11ea_b383_80000208fe80row0_col54\" class=\"data row0 col54\" >nan</td>\n",
       "                        <td id=\"T_179caabc_117e_11ea_b383_80000208fe80row0_col55\" class=\"data row0 col55\" >nan</td>\n",
       "                        <td id=\"T_179caabc_117e_11ea_b383_80000208fe80row0_col56\" class=\"data row0 col56\" >nan</td>\n",
       "                        <td id=\"T_179caabc_117e_11ea_b383_80000208fe80row0_col57\" class=\"data row0 col57\" >nan</td>\n",
       "                        <td id=\"T_179caabc_117e_11ea_b383_80000208fe80row0_col58\" class=\"data row0 col58\" >nan</td>\n",
       "                        <td id=\"T_179caabc_117e_11ea_b383_80000208fe80row0_col59\" class=\"data row0 col59\" >nan</td>\n",
       "                        <td id=\"T_179caabc_117e_11ea_b383_80000208fe80row0_col60\" class=\"data row0 col60\" >nan</td>\n",
       "                        <td id=\"T_179caabc_117e_11ea_b383_80000208fe80row0_col61\" class=\"data row0 col61\" >nan</td>\n",
       "                        <td id=\"T_179caabc_117e_11ea_b383_80000208fe80row0_col62\" class=\"data row0 col62\" >nan</td>\n",
       "                        <td id=\"T_179caabc_117e_11ea_b383_80000208fe80row0_col63\" class=\"data row0 col63\" >nan</td>\n",
       "                        <td id=\"T_179caabc_117e_11ea_b383_80000208fe80row0_col64\" class=\"data row0 col64\" >nan</td>\n",
       "                        <td id=\"T_179caabc_117e_11ea_b383_80000208fe80row0_col65\" class=\"data row0 col65\" >nan</td>\n",
       "                        <td id=\"T_179caabc_117e_11ea_b383_80000208fe80row0_col66\" class=\"data row0 col66\" >nan</td>\n",
       "                        <td id=\"T_179caabc_117e_11ea_b383_80000208fe80row0_col67\" class=\"data row0 col67\" >nan</td>\n",
       "                        <td id=\"T_179caabc_117e_11ea_b383_80000208fe80row0_col68\" class=\"data row0 col68\" >nan</td>\n",
       "                        <td id=\"T_179caabc_117e_11ea_b383_80000208fe80row0_col69\" class=\"data row0 col69\" >nan</td>\n",
       "                        <td id=\"T_179caabc_117e_11ea_b383_80000208fe80row0_col70\" class=\"data row0 col70\" >nan</td>\n",
       "                        <td id=\"T_179caabc_117e_11ea_b383_80000208fe80row0_col71\" class=\"data row0 col71\" >nan</td>\n",
       "                        <td id=\"T_179caabc_117e_11ea_b383_80000208fe80row0_col72\" class=\"data row0 col72\" >nan</td>\n",
       "                        <td id=\"T_179caabc_117e_11ea_b383_80000208fe80row0_col73\" class=\"data row0 col73\" >nan</td>\n",
       "                        <td id=\"T_179caabc_117e_11ea_b383_80000208fe80row0_col74\" class=\"data row0 col74\" >nan</td>\n",
       "                        <td id=\"T_179caabc_117e_11ea_b383_80000208fe80row0_col75\" class=\"data row0 col75\" >nan</td>\n",
       "                        <td id=\"T_179caabc_117e_11ea_b383_80000208fe80row0_col76\" class=\"data row0 col76\" >nan</td>\n",
       "                        <td id=\"T_179caabc_117e_11ea_b383_80000208fe80row0_col77\" class=\"data row0 col77\" >nan</td>\n",
       "                        <td id=\"T_179caabc_117e_11ea_b383_80000208fe80row0_col78\" class=\"data row0 col78\" >nan</td>\n",
       "                        <td id=\"T_179caabc_117e_11ea_b383_80000208fe80row0_col79\" class=\"data row0 col79\" >nan</td>\n",
       "                        <td id=\"T_179caabc_117e_11ea_b383_80000208fe80row0_col80\" class=\"data row0 col80\" >nan</td>\n",
       "                        <td id=\"T_179caabc_117e_11ea_b383_80000208fe80row0_col81\" class=\"data row0 col81\" >nan</td>\n",
       "                        <td id=\"T_179caabc_117e_11ea_b383_80000208fe80row0_col82\" class=\"data row0 col82\" >nan</td>\n",
       "                        <td id=\"T_179caabc_117e_11ea_b383_80000208fe80row0_col83\" class=\"data row0 col83\" >nan</td>\n",
       "                        <td id=\"T_179caabc_117e_11ea_b383_80000208fe80row0_col84\" class=\"data row0 col84\" >nan</td>\n",
       "                        <td id=\"T_179caabc_117e_11ea_b383_80000208fe80row0_col85\" class=\"data row0 col85\" >nan</td>\n",
       "                        <td id=\"T_179caabc_117e_11ea_b383_80000208fe80row0_col86\" class=\"data row0 col86\" >nan</td>\n",
       "                        <td id=\"T_179caabc_117e_11ea_b383_80000208fe80row0_col87\" class=\"data row0 col87\" >nan</td>\n",
       "                        <td id=\"T_179caabc_117e_11ea_b383_80000208fe80row0_col88\" class=\"data row0 col88\" >nan</td>\n",
       "                        <td id=\"T_179caabc_117e_11ea_b383_80000208fe80row0_col89\" class=\"data row0 col89\" >nan</td>\n",
       "                        <td id=\"T_179caabc_117e_11ea_b383_80000208fe80row0_col90\" class=\"data row0 col90\" >nan</td>\n",
       "                        <td id=\"T_179caabc_117e_11ea_b383_80000208fe80row0_col91\" class=\"data row0 col91\" >nan</td>\n",
       "                        <td id=\"T_179caabc_117e_11ea_b383_80000208fe80row0_col92\" class=\"data row0 col92\" >nan</td>\n",
       "                        <td id=\"T_179caabc_117e_11ea_b383_80000208fe80row0_col93\" class=\"data row0 col93\" >nan</td>\n",
       "                        <td id=\"T_179caabc_117e_11ea_b383_80000208fe80row0_col94\" class=\"data row0 col94\" >nan</td>\n",
       "                        <td id=\"T_179caabc_117e_11ea_b383_80000208fe80row0_col95\" class=\"data row0 col95\" >nan</td>\n",
       "                        <td id=\"T_179caabc_117e_11ea_b383_80000208fe80row0_col96\" class=\"data row0 col96\" >nan</td>\n",
       "                        <td id=\"T_179caabc_117e_11ea_b383_80000208fe80row0_col97\" class=\"data row0 col97\" >nan</td>\n",
       "                        <td id=\"T_179caabc_117e_11ea_b383_80000208fe80row0_col98\" class=\"data row0 col98\" >nan</td>\n",
       "                        <td id=\"T_179caabc_117e_11ea_b383_80000208fe80row0_col99\" class=\"data row0 col99\" >nan</td>\n",
       "                        <td id=\"T_179caabc_117e_11ea_b383_80000208fe80row0_col100\" class=\"data row0 col100\" >nan</td>\n",
       "                        <td id=\"T_179caabc_117e_11ea_b383_80000208fe80row0_col101\" class=\"data row0 col101\" >nan</td>\n",
       "                        <td id=\"T_179caabc_117e_11ea_b383_80000208fe80row0_col102\" class=\"data row0 col102\" >nan</td>\n",
       "                        <td id=\"T_179caabc_117e_11ea_b383_80000208fe80row0_col103\" class=\"data row0 col103\" >nan</td>\n",
       "                        <td id=\"T_179caabc_117e_11ea_b383_80000208fe80row0_col104\" class=\"data row0 col104\" >nan</td>\n",
       "                        <td id=\"T_179caabc_117e_11ea_b383_80000208fe80row0_col105\" class=\"data row0 col105\" >nan</td>\n",
       "                        <td id=\"T_179caabc_117e_11ea_b383_80000208fe80row0_col106\" class=\"data row0 col106\" >nan</td>\n",
       "                        <td id=\"T_179caabc_117e_11ea_b383_80000208fe80row0_col107\" class=\"data row0 col107\" >nan</td>\n",
       "                        <td id=\"T_179caabc_117e_11ea_b383_80000208fe80row0_col108\" class=\"data row0 col108\" >nan</td>\n",
       "                        <td id=\"T_179caabc_117e_11ea_b383_80000208fe80row0_col109\" class=\"data row0 col109\" >nan</td>\n",
       "                        <td id=\"T_179caabc_117e_11ea_b383_80000208fe80row0_col110\" class=\"data row0 col110\" >nan</td>\n",
       "                        <td id=\"T_179caabc_117e_11ea_b383_80000208fe80row0_col111\" class=\"data row0 col111\" >nan</td>\n",
       "                        <td id=\"T_179caabc_117e_11ea_b383_80000208fe80row0_col112\" class=\"data row0 col112\" >nan</td>\n",
       "                        <td id=\"T_179caabc_117e_11ea_b383_80000208fe80row0_col113\" class=\"data row0 col113\" >nan</td>\n",
       "                        <td id=\"T_179caabc_117e_11ea_b383_80000208fe80row0_col114\" class=\"data row0 col114\" >nan</td>\n",
       "                        <td id=\"T_179caabc_117e_11ea_b383_80000208fe80row0_col115\" class=\"data row0 col115\" >nan</td>\n",
       "                        <td id=\"T_179caabc_117e_11ea_b383_80000208fe80row0_col116\" class=\"data row0 col116\" >nan</td>\n",
       "                        <td id=\"T_179caabc_117e_11ea_b383_80000208fe80row0_col117\" class=\"data row0 col117\" >nan</td>\n",
       "                        <td id=\"T_179caabc_117e_11ea_b383_80000208fe80row0_col118\" class=\"data row0 col118\" >nan</td>\n",
       "                        <td id=\"T_179caabc_117e_11ea_b383_80000208fe80row0_col119\" class=\"data row0 col119\" >nan</td>\n",
       "                        <td id=\"T_179caabc_117e_11ea_b383_80000208fe80row0_col120\" class=\"data row0 col120\" >nan</td>\n",
       "                        <td id=\"T_179caabc_117e_11ea_b383_80000208fe80row0_col121\" class=\"data row0 col121\" >nan</td>\n",
       "                        <td id=\"T_179caabc_117e_11ea_b383_80000208fe80row0_col122\" class=\"data row0 col122\" >nan</td>\n",
       "                        <td id=\"T_179caabc_117e_11ea_b383_80000208fe80row0_col123\" class=\"data row0 col123\" >nan</td>\n",
       "                        <td id=\"T_179caabc_117e_11ea_b383_80000208fe80row0_col124\" class=\"data row0 col124\" >nan</td>\n",
       "                        <td id=\"T_179caabc_117e_11ea_b383_80000208fe80row0_col125\" class=\"data row0 col125\" >nan</td>\n",
       "                        <td id=\"T_179caabc_117e_11ea_b383_80000208fe80row0_col126\" class=\"data row0 col126\" >nan</td>\n",
       "                        <td id=\"T_179caabc_117e_11ea_b383_80000208fe80row0_col127\" class=\"data row0 col127\" >nan</td>\n",
       "                        <td id=\"T_179caabc_117e_11ea_b383_80000208fe80row0_col128\" class=\"data row0 col128\" >nan</td>\n",
       "                        <td id=\"T_179caabc_117e_11ea_b383_80000208fe80row0_col129\" class=\"data row0 col129\" >nan</td>\n",
       "                        <td id=\"T_179caabc_117e_11ea_b383_80000208fe80row0_col130\" class=\"data row0 col130\" >nan</td>\n",
       "                        <td id=\"T_179caabc_117e_11ea_b383_80000208fe80row0_col131\" class=\"data row0 col131\" >nan</td>\n",
       "                        <td id=\"T_179caabc_117e_11ea_b383_80000208fe80row0_col132\" class=\"data row0 col132\" >nan</td>\n",
       "                        <td id=\"T_179caabc_117e_11ea_b383_80000208fe80row0_col133\" class=\"data row0 col133\" >nan</td>\n",
       "                        <td id=\"T_179caabc_117e_11ea_b383_80000208fe80row0_col134\" class=\"data row0 col134\" >nan</td>\n",
       "                        <td id=\"T_179caabc_117e_11ea_b383_80000208fe80row0_col135\" class=\"data row0 col135\" >nan</td>\n",
       "                        <td id=\"T_179caabc_117e_11ea_b383_80000208fe80row0_col136\" class=\"data row0 col136\" >nan</td>\n",
       "                        <td id=\"T_179caabc_117e_11ea_b383_80000208fe80row0_col137\" class=\"data row0 col137\" >nan</td>\n",
       "                        <td id=\"T_179caabc_117e_11ea_b383_80000208fe80row0_col138\" class=\"data row0 col138\" >nan</td>\n",
       "                        <td id=\"T_179caabc_117e_11ea_b383_80000208fe80row0_col139\" class=\"data row0 col139\" >nan</td>\n",
       "                        <td id=\"T_179caabc_117e_11ea_b383_80000208fe80row0_col140\" class=\"data row0 col140\" >nan</td>\n",
       "                        <td id=\"T_179caabc_117e_11ea_b383_80000208fe80row0_col141\" class=\"data row0 col141\" >nan</td>\n",
       "                        <td id=\"T_179caabc_117e_11ea_b383_80000208fe80row0_col142\" class=\"data row0 col142\" >nan</td>\n",
       "                        <td id=\"T_179caabc_117e_11ea_b383_80000208fe80row0_col143\" class=\"data row0 col143\" >nan</td>\n",
       "                        <td id=\"T_179caabc_117e_11ea_b383_80000208fe80row0_col144\" class=\"data row0 col144\" >nan</td>\n",
       "                        <td id=\"T_179caabc_117e_11ea_b383_80000208fe80row0_col145\" class=\"data row0 col145\" >nan</td>\n",
       "                        <td id=\"T_179caabc_117e_11ea_b383_80000208fe80row0_col146\" class=\"data row0 col146\" >nan</td>\n",
       "                        <td id=\"T_179caabc_117e_11ea_b383_80000208fe80row0_col147\" class=\"data row0 col147\" >nan</td>\n",
       "                        <td id=\"T_179caabc_117e_11ea_b383_80000208fe80row0_col148\" class=\"data row0 col148\" >nan</td>\n",
       "                        <td id=\"T_179caabc_117e_11ea_b383_80000208fe80row0_col149\" class=\"data row0 col149\" >nan</td>\n",
       "                        <td id=\"T_179caabc_117e_11ea_b383_80000208fe80row0_col150\" class=\"data row0 col150\" >nan</td>\n",
       "                        <td id=\"T_179caabc_117e_11ea_b383_80000208fe80row0_col151\" class=\"data row0 col151\" >nan</td>\n",
       "                        <td id=\"T_179caabc_117e_11ea_b383_80000208fe80row0_col152\" class=\"data row0 col152\" >nan</td>\n",
       "                        <td id=\"T_179caabc_117e_11ea_b383_80000208fe80row0_col153\" class=\"data row0 col153\" >nan</td>\n",
       "                        <td id=\"T_179caabc_117e_11ea_b383_80000208fe80row0_col154\" class=\"data row0 col154\" >nan</td>\n",
       "                        <td id=\"T_179caabc_117e_11ea_b383_80000208fe80row0_col155\" class=\"data row0 col155\" >nan</td>\n",
       "                        <td id=\"T_179caabc_117e_11ea_b383_80000208fe80row0_col156\" class=\"data row0 col156\" >nan</td>\n",
       "                        <td id=\"T_179caabc_117e_11ea_b383_80000208fe80row0_col157\" class=\"data row0 col157\" >nan</td>\n",
       "                        <td id=\"T_179caabc_117e_11ea_b383_80000208fe80row0_col158\" class=\"data row0 col158\" >nan</td>\n",
       "                        <td id=\"T_179caabc_117e_11ea_b383_80000208fe80row0_col159\" class=\"data row0 col159\" >nan</td>\n",
       "                        <td id=\"T_179caabc_117e_11ea_b383_80000208fe80row0_col160\" class=\"data row0 col160\" >nan</td>\n",
       "                        <td id=\"T_179caabc_117e_11ea_b383_80000208fe80row0_col161\" class=\"data row0 col161\" >nan</td>\n",
       "                        <td id=\"T_179caabc_117e_11ea_b383_80000208fe80row0_col162\" class=\"data row0 col162\" >nan</td>\n",
       "                        <td id=\"T_179caabc_117e_11ea_b383_80000208fe80row0_col163\" class=\"data row0 col163\" >nan</td>\n",
       "                        <td id=\"T_179caabc_117e_11ea_b383_80000208fe80row0_col164\" class=\"data row0 col164\" >nan</td>\n",
       "                        <td id=\"T_179caabc_117e_11ea_b383_80000208fe80row0_col165\" class=\"data row0 col165\" >nan</td>\n",
       "                        <td id=\"T_179caabc_117e_11ea_b383_80000208fe80row0_col166\" class=\"data row0 col166\" >nan</td>\n",
       "                        <td id=\"T_179caabc_117e_11ea_b383_80000208fe80row0_col167\" class=\"data row0 col167\" >nan</td>\n",
       "                        <td id=\"T_179caabc_117e_11ea_b383_80000208fe80row0_col168\" class=\"data row0 col168\" >nan</td>\n",
       "                        <td id=\"T_179caabc_117e_11ea_b383_80000208fe80row0_col169\" class=\"data row0 col169\" >nan</td>\n",
       "                        <td id=\"T_179caabc_117e_11ea_b383_80000208fe80row0_col170\" class=\"data row0 col170\" >nan</td>\n",
       "                        <td id=\"T_179caabc_117e_11ea_b383_80000208fe80row0_col171\" class=\"data row0 col171\" >nan</td>\n",
       "                        <td id=\"T_179caabc_117e_11ea_b383_80000208fe80row0_col172\" class=\"data row0 col172\" >nan</td>\n",
       "                        <td id=\"T_179caabc_117e_11ea_b383_80000208fe80row0_col173\" class=\"data row0 col173\" >nan</td>\n",
       "                        <td id=\"T_179caabc_117e_11ea_b383_80000208fe80row0_col174\" class=\"data row0 col174\" >nan</td>\n",
       "                        <td id=\"T_179caabc_117e_11ea_b383_80000208fe80row0_col175\" class=\"data row0 col175\" >nan</td>\n",
       "                        <td id=\"T_179caabc_117e_11ea_b383_80000208fe80row0_col176\" class=\"data row0 col176\" >nan</td>\n",
       "                        <td id=\"T_179caabc_117e_11ea_b383_80000208fe80row0_col177\" class=\"data row0 col177\" >nan</td>\n",
       "                        <td id=\"T_179caabc_117e_11ea_b383_80000208fe80row0_col178\" class=\"data row0 col178\" >nan</td>\n",
       "                        <td id=\"T_179caabc_117e_11ea_b383_80000208fe80row0_col179\" class=\"data row0 col179\" >nan</td>\n",
       "                        <td id=\"T_179caabc_117e_11ea_b383_80000208fe80row0_col180\" class=\"data row0 col180\" >nan</td>\n",
       "                        <td id=\"T_179caabc_117e_11ea_b383_80000208fe80row0_col181\" class=\"data row0 col181\" >nan</td>\n",
       "                        <td id=\"T_179caabc_117e_11ea_b383_80000208fe80row0_col182\" class=\"data row0 col182\" >nan</td>\n",
       "                        <td id=\"T_179caabc_117e_11ea_b383_80000208fe80row0_col183\" class=\"data row0 col183\" >nan</td>\n",
       "                        <td id=\"T_179caabc_117e_11ea_b383_80000208fe80row0_col184\" class=\"data row0 col184\" >nan</td>\n",
       "                        <td id=\"T_179caabc_117e_11ea_b383_80000208fe80row0_col185\" class=\"data row0 col185\" >nan</td>\n",
       "                        <td id=\"T_179caabc_117e_11ea_b383_80000208fe80row0_col186\" class=\"data row0 col186\" >nan</td>\n",
       "                        <td id=\"T_179caabc_117e_11ea_b383_80000208fe80row0_col187\" class=\"data row0 col187\" >nan</td>\n",
       "                        <td id=\"T_179caabc_117e_11ea_b383_80000208fe80row0_col188\" class=\"data row0 col188\" >nan</td>\n",
       "                        <td id=\"T_179caabc_117e_11ea_b383_80000208fe80row0_col189\" class=\"data row0 col189\" >nan</td>\n",
       "                        <td id=\"T_179caabc_117e_11ea_b383_80000208fe80row0_col190\" class=\"data row0 col190\" >nan</td>\n",
       "                        <td id=\"T_179caabc_117e_11ea_b383_80000208fe80row0_col191\" class=\"data row0 col191\" >nan</td>\n",
       "                        <td id=\"T_179caabc_117e_11ea_b383_80000208fe80row0_col192\" class=\"data row0 col192\" >nan</td>\n",
       "                        <td id=\"T_179caabc_117e_11ea_b383_80000208fe80row0_col193\" class=\"data row0 col193\" >nan</td>\n",
       "                        <td id=\"T_179caabc_117e_11ea_b383_80000208fe80row0_col194\" class=\"data row0 col194\" >nan</td>\n",
       "                        <td id=\"T_179caabc_117e_11ea_b383_80000208fe80row0_col195\" class=\"data row0 col195\" >nan</td>\n",
       "                        <td id=\"T_179caabc_117e_11ea_b383_80000208fe80row0_col196\" class=\"data row0 col196\" >nan</td>\n",
       "                        <td id=\"T_179caabc_117e_11ea_b383_80000208fe80row0_col197\" class=\"data row0 col197\" >nan</td>\n",
       "                        <td id=\"T_179caabc_117e_11ea_b383_80000208fe80row0_col198\" class=\"data row0 col198\" >nan</td>\n",
       "                        <td id=\"T_179caabc_117e_11ea_b383_80000208fe80row0_col199\" class=\"data row0 col199\" >nan</td>\n",
       "                        <td id=\"T_179caabc_117e_11ea_b383_80000208fe80row0_col200\" class=\"data row0 col200\" >nan</td>\n",
       "                        <td id=\"T_179caabc_117e_11ea_b383_80000208fe80row0_col201\" class=\"data row0 col201\" >nan</td>\n",
       "                        <td id=\"T_179caabc_117e_11ea_b383_80000208fe80row0_col202\" class=\"data row0 col202\" >nan</td>\n",
       "                        <td id=\"T_179caabc_117e_11ea_b383_80000208fe80row0_col203\" class=\"data row0 col203\" >nan</td>\n",
       "                        <td id=\"T_179caabc_117e_11ea_b383_80000208fe80row0_col204\" class=\"data row0 col204\" >nan</td>\n",
       "                        <td id=\"T_179caabc_117e_11ea_b383_80000208fe80row0_col205\" class=\"data row0 col205\" >nan</td>\n",
       "                        <td id=\"T_179caabc_117e_11ea_b383_80000208fe80row0_col206\" class=\"data row0 col206\" >nan</td>\n",
       "                        <td id=\"T_179caabc_117e_11ea_b383_80000208fe80row0_col207\" class=\"data row0 col207\" >nan</td>\n",
       "                        <td id=\"T_179caabc_117e_11ea_b383_80000208fe80row0_col208\" class=\"data row0 col208\" >nan</td>\n",
       "                        <td id=\"T_179caabc_117e_11ea_b383_80000208fe80row0_col209\" class=\"data row0 col209\" >nan</td>\n",
       "                        <td id=\"T_179caabc_117e_11ea_b383_80000208fe80row0_col210\" class=\"data row0 col210\" >nan</td>\n",
       "                        <td id=\"T_179caabc_117e_11ea_b383_80000208fe80row0_col211\" class=\"data row0 col211\" >nan</td>\n",
       "                        <td id=\"T_179caabc_117e_11ea_b383_80000208fe80row0_col212\" class=\"data row0 col212\" >nan</td>\n",
       "                        <td id=\"T_179caabc_117e_11ea_b383_80000208fe80row0_col213\" class=\"data row0 col213\" >nan</td>\n",
       "                        <td id=\"T_179caabc_117e_11ea_b383_80000208fe80row0_col214\" class=\"data row0 col214\" >nan</td>\n",
       "                        <td id=\"T_179caabc_117e_11ea_b383_80000208fe80row0_col215\" class=\"data row0 col215\" >nan</td>\n",
       "                        <td id=\"T_179caabc_117e_11ea_b383_80000208fe80row0_col216\" class=\"data row0 col216\" >nan</td>\n",
       "                        <td id=\"T_179caabc_117e_11ea_b383_80000208fe80row0_col217\" class=\"data row0 col217\" >nan</td>\n",
       "                        <td id=\"T_179caabc_117e_11ea_b383_80000208fe80row0_col218\" class=\"data row0 col218\" >nan</td>\n",
       "                        <td id=\"T_179caabc_117e_11ea_b383_80000208fe80row0_col219\" class=\"data row0 col219\" >nan</td>\n",
       "                        <td id=\"T_179caabc_117e_11ea_b383_80000208fe80row0_col220\" class=\"data row0 col220\" >nan</td>\n",
       "                        <td id=\"T_179caabc_117e_11ea_b383_80000208fe80row0_col221\" class=\"data row0 col221\" >nan</td>\n",
       "                        <td id=\"T_179caabc_117e_11ea_b383_80000208fe80row0_col222\" class=\"data row0 col222\" >nan</td>\n",
       "                        <td id=\"T_179caabc_117e_11ea_b383_80000208fe80row0_col223\" class=\"data row0 col223\" >nan</td>\n",
       "                        <td id=\"T_179caabc_117e_11ea_b383_80000208fe80row0_col224\" class=\"data row0 col224\" >nan</td>\n",
       "                        <td id=\"T_179caabc_117e_11ea_b383_80000208fe80row0_col225\" class=\"data row0 col225\" >nan</td>\n",
       "                        <td id=\"T_179caabc_117e_11ea_b383_80000208fe80row0_col226\" class=\"data row0 col226\" >nan</td>\n",
       "                        <td id=\"T_179caabc_117e_11ea_b383_80000208fe80row0_col227\" class=\"data row0 col227\" >nan</td>\n",
       "                        <td id=\"T_179caabc_117e_11ea_b383_80000208fe80row0_col228\" class=\"data row0 col228\" >nan</td>\n",
       "                        <td id=\"T_179caabc_117e_11ea_b383_80000208fe80row0_col229\" class=\"data row0 col229\" >nan</td>\n",
       "                        <td id=\"T_179caabc_117e_11ea_b383_80000208fe80row0_col230\" class=\"data row0 col230\" >nan</td>\n",
       "                        <td id=\"T_179caabc_117e_11ea_b383_80000208fe80row0_col231\" class=\"data row0 col231\" >nan</td>\n",
       "                        <td id=\"T_179caabc_117e_11ea_b383_80000208fe80row0_col232\" class=\"data row0 col232\" >nan</td>\n",
       "                        <td id=\"T_179caabc_117e_11ea_b383_80000208fe80row0_col233\" class=\"data row0 col233\" >nan</td>\n",
       "                        <td id=\"T_179caabc_117e_11ea_b383_80000208fe80row0_col234\" class=\"data row0 col234\" >nan</td>\n",
       "                        <td id=\"T_179caabc_117e_11ea_b383_80000208fe80row0_col235\" class=\"data row0 col235\" >nan</td>\n",
       "                        <td id=\"T_179caabc_117e_11ea_b383_80000208fe80row0_col236\" class=\"data row0 col236\" >nan</td>\n",
       "                        <td id=\"T_179caabc_117e_11ea_b383_80000208fe80row0_col237\" class=\"data row0 col237\" >nan</td>\n",
       "                        <td id=\"T_179caabc_117e_11ea_b383_80000208fe80row0_col238\" class=\"data row0 col238\" >nan</td>\n",
       "                        <td id=\"T_179caabc_117e_11ea_b383_80000208fe80row0_col239\" class=\"data row0 col239\" >nan</td>\n",
       "                        <td id=\"T_179caabc_117e_11ea_b383_80000208fe80row0_col240\" class=\"data row0 col240\" >nan</td>\n",
       "                        <td id=\"T_179caabc_117e_11ea_b383_80000208fe80row0_col241\" class=\"data row0 col241\" >nan</td>\n",
       "                        <td id=\"T_179caabc_117e_11ea_b383_80000208fe80row0_col242\" class=\"data row0 col242\" >nan</td>\n",
       "                        <td id=\"T_179caabc_117e_11ea_b383_80000208fe80row0_col243\" class=\"data row0 col243\" >nan</td>\n",
       "                        <td id=\"T_179caabc_117e_11ea_b383_80000208fe80row0_col244\" class=\"data row0 col244\" >nan</td>\n",
       "                        <td id=\"T_179caabc_117e_11ea_b383_80000208fe80row0_col245\" class=\"data row0 col245\" >nan</td>\n",
       "                        <td id=\"T_179caabc_117e_11ea_b383_80000208fe80row0_col246\" class=\"data row0 col246\" >nan</td>\n",
       "                        <td id=\"T_179caabc_117e_11ea_b383_80000208fe80row0_col247\" class=\"data row0 col247\" >nan</td>\n",
       "                        <td id=\"T_179caabc_117e_11ea_b383_80000208fe80row0_col248\" class=\"data row0 col248\" >nan</td>\n",
       "                        <td id=\"T_179caabc_117e_11ea_b383_80000208fe80row0_col249\" class=\"data row0 col249\" >nan</td>\n",
       "                        <td id=\"T_179caabc_117e_11ea_b383_80000208fe80row0_col250\" class=\"data row0 col250\" >nan</td>\n",
       "                        <td id=\"T_179caabc_117e_11ea_b383_80000208fe80row0_col251\" class=\"data row0 col251\" >nan</td>\n",
       "                        <td id=\"T_179caabc_117e_11ea_b383_80000208fe80row0_col252\" class=\"data row0 col252\" >nan</td>\n",
       "                        <td id=\"T_179caabc_117e_11ea_b383_80000208fe80row0_col253\" class=\"data row0 col253\" >nan</td>\n",
       "                        <td id=\"T_179caabc_117e_11ea_b383_80000208fe80row0_col254\" class=\"data row0 col254\" >nan</td>\n",
       "                        <td id=\"T_179caabc_117e_11ea_b383_80000208fe80row0_col255\" class=\"data row0 col255\" >nan</td>\n",
       "                        <td id=\"T_179caabc_117e_11ea_b383_80000208fe80row0_col256\" class=\"data row0 col256\" >nan</td>\n",
       "                        <td id=\"T_179caabc_117e_11ea_b383_80000208fe80row0_col257\" class=\"data row0 col257\" >nan</td>\n",
       "                        <td id=\"T_179caabc_117e_11ea_b383_80000208fe80row0_col258\" class=\"data row0 col258\" >nan</td>\n",
       "                        <td id=\"T_179caabc_117e_11ea_b383_80000208fe80row0_col259\" class=\"data row0 col259\" >nan</td>\n",
       "                        <td id=\"T_179caabc_117e_11ea_b383_80000208fe80row0_col260\" class=\"data row0 col260\" >nan</td>\n",
       "                        <td id=\"T_179caabc_117e_11ea_b383_80000208fe80row0_col261\" class=\"data row0 col261\" >nan</td>\n",
       "                        <td id=\"T_179caabc_117e_11ea_b383_80000208fe80row0_col262\" class=\"data row0 col262\" >nan</td>\n",
       "                        <td id=\"T_179caabc_117e_11ea_b383_80000208fe80row0_col263\" class=\"data row0 col263\" >nan</td>\n",
       "                        <td id=\"T_179caabc_117e_11ea_b383_80000208fe80row0_col264\" class=\"data row0 col264\" >nan</td>\n",
       "                        <td id=\"T_179caabc_117e_11ea_b383_80000208fe80row0_col265\" class=\"data row0 col265\" >nan</td>\n",
       "                        <td id=\"T_179caabc_117e_11ea_b383_80000208fe80row0_col266\" class=\"data row0 col266\" >nan</td>\n",
       "                        <td id=\"T_179caabc_117e_11ea_b383_80000208fe80row0_col267\" class=\"data row0 col267\" >nan</td>\n",
       "                        <td id=\"T_179caabc_117e_11ea_b383_80000208fe80row0_col268\" class=\"data row0 col268\" >nan</td>\n",
       "                        <td id=\"T_179caabc_117e_11ea_b383_80000208fe80row0_col269\" class=\"data row0 col269\" >nan</td>\n",
       "                        <td id=\"T_179caabc_117e_11ea_b383_80000208fe80row0_col270\" class=\"data row0 col270\" >nan</td>\n",
       "                        <td id=\"T_179caabc_117e_11ea_b383_80000208fe80row0_col271\" class=\"data row0 col271\" >nan</td>\n",
       "                        <td id=\"T_179caabc_117e_11ea_b383_80000208fe80row0_col272\" class=\"data row0 col272\" >nan</td>\n",
       "                        <td id=\"T_179caabc_117e_11ea_b383_80000208fe80row0_col273\" class=\"data row0 col273\" >nan</td>\n",
       "                        <td id=\"T_179caabc_117e_11ea_b383_80000208fe80row0_col274\" class=\"data row0 col274\" >nan</td>\n",
       "                        <td id=\"T_179caabc_117e_11ea_b383_80000208fe80row0_col275\" class=\"data row0 col275\" >nan</td>\n",
       "                        <td id=\"T_179caabc_117e_11ea_b383_80000208fe80row0_col276\" class=\"data row0 col276\" >nan</td>\n",
       "                        <td id=\"T_179caabc_117e_11ea_b383_80000208fe80row0_col277\" class=\"data row0 col277\" >nan</td>\n",
       "                        <td id=\"T_179caabc_117e_11ea_b383_80000208fe80row0_col278\" class=\"data row0 col278\" >nan</td>\n",
       "                        <td id=\"T_179caabc_117e_11ea_b383_80000208fe80row0_col279\" class=\"data row0 col279\" >nan</td>\n",
       "                        <td id=\"T_179caabc_117e_11ea_b383_80000208fe80row0_col280\" class=\"data row0 col280\" >nan</td>\n",
       "                        <td id=\"T_179caabc_117e_11ea_b383_80000208fe80row0_col281\" class=\"data row0 col281\" >nan</td>\n",
       "                        <td id=\"T_179caabc_117e_11ea_b383_80000208fe80row0_col282\" class=\"data row0 col282\" >nan</td>\n",
       "                        <td id=\"T_179caabc_117e_11ea_b383_80000208fe80row0_col283\" class=\"data row0 col283\" >nan</td>\n",
       "                        <td id=\"T_179caabc_117e_11ea_b383_80000208fe80row0_col284\" class=\"data row0 col284\" >nan</td>\n",
       "                        <td id=\"T_179caabc_117e_11ea_b383_80000208fe80row0_col285\" class=\"data row0 col285\" >nan</td>\n",
       "                        <td id=\"T_179caabc_117e_11ea_b383_80000208fe80row0_col286\" class=\"data row0 col286\" >nan</td>\n",
       "                        <td id=\"T_179caabc_117e_11ea_b383_80000208fe80row0_col287\" class=\"data row0 col287\" >nan</td>\n",
       "                        <td id=\"T_179caabc_117e_11ea_b383_80000208fe80row0_col288\" class=\"data row0 col288\" >nan</td>\n",
       "                        <td id=\"T_179caabc_117e_11ea_b383_80000208fe80row0_col289\" class=\"data row0 col289\" >nan</td>\n",
       "                        <td id=\"T_179caabc_117e_11ea_b383_80000208fe80row0_col290\" class=\"data row0 col290\" >nan</td>\n",
       "                        <td id=\"T_179caabc_117e_11ea_b383_80000208fe80row0_col291\" class=\"data row0 col291\" >nan</td>\n",
       "                        <td id=\"T_179caabc_117e_11ea_b383_80000208fe80row0_col292\" class=\"data row0 col292\" >nan</td>\n",
       "                        <td id=\"T_179caabc_117e_11ea_b383_80000208fe80row0_col293\" class=\"data row0 col293\" >nan</td>\n",
       "                        <td id=\"T_179caabc_117e_11ea_b383_80000208fe80row0_col294\" class=\"data row0 col294\" >nan</td>\n",
       "                        <td id=\"T_179caabc_117e_11ea_b383_80000208fe80row0_col295\" class=\"data row0 col295\" >nan</td>\n",
       "                        <td id=\"T_179caabc_117e_11ea_b383_80000208fe80row0_col296\" class=\"data row0 col296\" >nan</td>\n",
       "                        <td id=\"T_179caabc_117e_11ea_b383_80000208fe80row0_col297\" class=\"data row0 col297\" >nan</td>\n",
       "                        <td id=\"T_179caabc_117e_11ea_b383_80000208fe80row0_col298\" class=\"data row0 col298\" >nan</td>\n",
       "                        <td id=\"T_179caabc_117e_11ea_b383_80000208fe80row0_col299\" class=\"data row0 col299\" >nan</td>\n",
       "                        <td id=\"T_179caabc_117e_11ea_b383_80000208fe80row0_col300\" class=\"data row0 col300\" >nan</td>\n",
       "                        <td id=\"T_179caabc_117e_11ea_b383_80000208fe80row0_col301\" class=\"data row0 col301\" >nan</td>\n",
       "                        <td id=\"T_179caabc_117e_11ea_b383_80000208fe80row0_col302\" class=\"data row0 col302\" >nan</td>\n",
       "                        <td id=\"T_179caabc_117e_11ea_b383_80000208fe80row0_col303\" class=\"data row0 col303\" >nan</td>\n",
       "                        <td id=\"T_179caabc_117e_11ea_b383_80000208fe80row0_col304\" class=\"data row0 col304\" >nan</td>\n",
       "                        <td id=\"T_179caabc_117e_11ea_b383_80000208fe80row0_col305\" class=\"data row0 col305\" >nan</td>\n",
       "                        <td id=\"T_179caabc_117e_11ea_b383_80000208fe80row0_col306\" class=\"data row0 col306\" >nan</td>\n",
       "                        <td id=\"T_179caabc_117e_11ea_b383_80000208fe80row0_col307\" class=\"data row0 col307\" >nan</td>\n",
       "                        <td id=\"T_179caabc_117e_11ea_b383_80000208fe80row0_col308\" class=\"data row0 col308\" >nan</td>\n",
       "                        <td id=\"T_179caabc_117e_11ea_b383_80000208fe80row0_col309\" class=\"data row0 col309\" >nan</td>\n",
       "                        <td id=\"T_179caabc_117e_11ea_b383_80000208fe80row0_col310\" class=\"data row0 col310\" >nan</td>\n",
       "                        <td id=\"T_179caabc_117e_11ea_b383_80000208fe80row0_col311\" class=\"data row0 col311\" >nan</td>\n",
       "                        <td id=\"T_179caabc_117e_11ea_b383_80000208fe80row0_col312\" class=\"data row0 col312\" >nan</td>\n",
       "                        <td id=\"T_179caabc_117e_11ea_b383_80000208fe80row0_col313\" class=\"data row0 col313\" >nan</td>\n",
       "                        <td id=\"T_179caabc_117e_11ea_b383_80000208fe80row0_col314\" class=\"data row0 col314\" >nan</td>\n",
       "                        <td id=\"T_179caabc_117e_11ea_b383_80000208fe80row0_col315\" class=\"data row0 col315\" >nan</td>\n",
       "                        <td id=\"T_179caabc_117e_11ea_b383_80000208fe80row0_col316\" class=\"data row0 col316\" >nan</td>\n",
       "                        <td id=\"T_179caabc_117e_11ea_b383_80000208fe80row0_col317\" class=\"data row0 col317\" >nan</td>\n",
       "                        <td id=\"T_179caabc_117e_11ea_b383_80000208fe80row0_col318\" class=\"data row0 col318\" >nan</td>\n",
       "                        <td id=\"T_179caabc_117e_11ea_b383_80000208fe80row0_col319\" class=\"data row0 col319\" >nan</td>\n",
       "                        <td id=\"T_179caabc_117e_11ea_b383_80000208fe80row0_col320\" class=\"data row0 col320\" >nan</td>\n",
       "                        <td id=\"T_179caabc_117e_11ea_b383_80000208fe80row0_col321\" class=\"data row0 col321\" >nan</td>\n",
       "                        <td id=\"T_179caabc_117e_11ea_b383_80000208fe80row0_col322\" class=\"data row0 col322\" >nan</td>\n",
       "                        <td id=\"T_179caabc_117e_11ea_b383_80000208fe80row0_col323\" class=\"data row0 col323\" >nan</td>\n",
       "                        <td id=\"T_179caabc_117e_11ea_b383_80000208fe80row0_col324\" class=\"data row0 col324\" >nan</td>\n",
       "                        <td id=\"T_179caabc_117e_11ea_b383_80000208fe80row0_col325\" class=\"data row0 col325\" >nan</td>\n",
       "                        <td id=\"T_179caabc_117e_11ea_b383_80000208fe80row0_col326\" class=\"data row0 col326\" >nan</td>\n",
       "                        <td id=\"T_179caabc_117e_11ea_b383_80000208fe80row0_col327\" class=\"data row0 col327\" >nan</td>\n",
       "                        <td id=\"T_179caabc_117e_11ea_b383_80000208fe80row0_col328\" class=\"data row0 col328\" >nan</td>\n",
       "                        <td id=\"T_179caabc_117e_11ea_b383_80000208fe80row0_col329\" class=\"data row0 col329\" >nan</td>\n",
       "                        <td id=\"T_179caabc_117e_11ea_b383_80000208fe80row0_col330\" class=\"data row0 col330\" >nan</td>\n",
       "                        <td id=\"T_179caabc_117e_11ea_b383_80000208fe80row0_col331\" class=\"data row0 col331\" >nan</td>\n",
       "                        <td id=\"T_179caabc_117e_11ea_b383_80000208fe80row0_col332\" class=\"data row0 col332\" >nan</td>\n",
       "                        <td id=\"T_179caabc_117e_11ea_b383_80000208fe80row0_col333\" class=\"data row0 col333\" >nan</td>\n",
       "                        <td id=\"T_179caabc_117e_11ea_b383_80000208fe80row0_col334\" class=\"data row0 col334\" >nan</td>\n",
       "                        <td id=\"T_179caabc_117e_11ea_b383_80000208fe80row0_col335\" class=\"data row0 col335\" >nan</td>\n",
       "                        <td id=\"T_179caabc_117e_11ea_b383_80000208fe80row0_col336\" class=\"data row0 col336\" >nan</td>\n",
       "                        <td id=\"T_179caabc_117e_11ea_b383_80000208fe80row0_col337\" class=\"data row0 col337\" >nan</td>\n",
       "                        <td id=\"T_179caabc_117e_11ea_b383_80000208fe80row0_col338\" class=\"data row0 col338\" >nan</td>\n",
       "                        <td id=\"T_179caabc_117e_11ea_b383_80000208fe80row0_col339\" class=\"data row0 col339\" >nan</td>\n",
       "                        <td id=\"T_179caabc_117e_11ea_b383_80000208fe80row0_col340\" class=\"data row0 col340\" >nan</td>\n",
       "                        <td id=\"T_179caabc_117e_11ea_b383_80000208fe80row0_col341\" class=\"data row0 col341\" >nan</td>\n",
       "                        <td id=\"T_179caabc_117e_11ea_b383_80000208fe80row0_col342\" class=\"data row0 col342\" >nan</td>\n",
       "                        <td id=\"T_179caabc_117e_11ea_b383_80000208fe80row0_col343\" class=\"data row0 col343\" >nan</td>\n",
       "                        <td id=\"T_179caabc_117e_11ea_b383_80000208fe80row0_col344\" class=\"data row0 col344\" >nan</td>\n",
       "                        <td id=\"T_179caabc_117e_11ea_b383_80000208fe80row0_col345\" class=\"data row0 col345\" >nan</td>\n",
       "                        <td id=\"T_179caabc_117e_11ea_b383_80000208fe80row0_col346\" class=\"data row0 col346\" >nan</td>\n",
       "                        <td id=\"T_179caabc_117e_11ea_b383_80000208fe80row0_col347\" class=\"data row0 col347\" >nan</td>\n",
       "                        <td id=\"T_179caabc_117e_11ea_b383_80000208fe80row0_col348\" class=\"data row0 col348\" >nan</td>\n",
       "                        <td id=\"T_179caabc_117e_11ea_b383_80000208fe80row0_col349\" class=\"data row0 col349\" >nan</td>\n",
       "                        <td id=\"T_179caabc_117e_11ea_b383_80000208fe80row0_col350\" class=\"data row0 col350\" >nan</td>\n",
       "                        <td id=\"T_179caabc_117e_11ea_b383_80000208fe80row0_col351\" class=\"data row0 col351\" >nan</td>\n",
       "                        <td id=\"T_179caabc_117e_11ea_b383_80000208fe80row0_col352\" class=\"data row0 col352\" >nan</td>\n",
       "                        <td id=\"T_179caabc_117e_11ea_b383_80000208fe80row0_col353\" class=\"data row0 col353\" >nan</td>\n",
       "                        <td id=\"T_179caabc_117e_11ea_b383_80000208fe80row0_col354\" class=\"data row0 col354\" >nan</td>\n",
       "                        <td id=\"T_179caabc_117e_11ea_b383_80000208fe80row0_col355\" class=\"data row0 col355\" >nan</td>\n",
       "                        <td id=\"T_179caabc_117e_11ea_b383_80000208fe80row0_col356\" class=\"data row0 col356\" >nan</td>\n",
       "                        <td id=\"T_179caabc_117e_11ea_b383_80000208fe80row0_col357\" class=\"data row0 col357\" >nan</td>\n",
       "                        <td id=\"T_179caabc_117e_11ea_b383_80000208fe80row0_col358\" class=\"data row0 col358\" >nan</td>\n",
       "                        <td id=\"T_179caabc_117e_11ea_b383_80000208fe80row0_col359\" class=\"data row0 col359\" >nan</td>\n",
       "                        <td id=\"T_179caabc_117e_11ea_b383_80000208fe80row0_col360\" class=\"data row0 col360\" >nan</td>\n",
       "                        <td id=\"T_179caabc_117e_11ea_b383_80000208fe80row0_col361\" class=\"data row0 col361\" >nan</td>\n",
       "                        <td id=\"T_179caabc_117e_11ea_b383_80000208fe80row0_col362\" class=\"data row0 col362\" >nan</td>\n",
       "                        <td id=\"T_179caabc_117e_11ea_b383_80000208fe80row0_col363\" class=\"data row0 col363\" >nan</td>\n",
       "                        <td id=\"T_179caabc_117e_11ea_b383_80000208fe80row0_col364\" class=\"data row0 col364\" >nan</td>\n",
       "                        <td id=\"T_179caabc_117e_11ea_b383_80000208fe80row0_col365\" class=\"data row0 col365\" >nan</td>\n",
       "                        <td id=\"T_179caabc_117e_11ea_b383_80000208fe80row0_col366\" class=\"data row0 col366\" >nan</td>\n",
       "                        <td id=\"T_179caabc_117e_11ea_b383_80000208fe80row0_col367\" class=\"data row0 col367\" >nan</td>\n",
       "                        <td id=\"T_179caabc_117e_11ea_b383_80000208fe80row0_col368\" class=\"data row0 col368\" >nan</td>\n",
       "                        <td id=\"T_179caabc_117e_11ea_b383_80000208fe80row0_col369\" class=\"data row0 col369\" >nan</td>\n",
       "                        <td id=\"T_179caabc_117e_11ea_b383_80000208fe80row0_col370\" class=\"data row0 col370\" >nan</td>\n",
       "                        <td id=\"T_179caabc_117e_11ea_b383_80000208fe80row0_col371\" class=\"data row0 col371\" >nan</td>\n",
       "                        <td id=\"T_179caabc_117e_11ea_b383_80000208fe80row0_col372\" class=\"data row0 col372\" >nan</td>\n",
       "                        <td id=\"T_179caabc_117e_11ea_b383_80000208fe80row0_col373\" class=\"data row0 col373\" >nan</td>\n",
       "                        <td id=\"T_179caabc_117e_11ea_b383_80000208fe80row0_col374\" class=\"data row0 col374\" >nan</td>\n",
       "                        <td id=\"T_179caabc_117e_11ea_b383_80000208fe80row0_col375\" class=\"data row0 col375\" >nan</td>\n",
       "                        <td id=\"T_179caabc_117e_11ea_b383_80000208fe80row0_col376\" class=\"data row0 col376\" >nan</td>\n",
       "                        <td id=\"T_179caabc_117e_11ea_b383_80000208fe80row0_col377\" class=\"data row0 col377\" >nan</td>\n",
       "                        <td id=\"T_179caabc_117e_11ea_b383_80000208fe80row0_col378\" class=\"data row0 col378\" >nan</td>\n",
       "                        <td id=\"T_179caabc_117e_11ea_b383_80000208fe80row0_col379\" class=\"data row0 col379\" >nan</td>\n",
       "                        <td id=\"T_179caabc_117e_11ea_b383_80000208fe80row0_col380\" class=\"data row0 col380\" >nan</td>\n",
       "                        <td id=\"T_179caabc_117e_11ea_b383_80000208fe80row0_col381\" class=\"data row0 col381\" >nan</td>\n",
       "                        <td id=\"T_179caabc_117e_11ea_b383_80000208fe80row0_col382\" class=\"data row0 col382\" >nan</td>\n",
       "                        <td id=\"T_179caabc_117e_11ea_b383_80000208fe80row0_col383\" class=\"data row0 col383\" >nan</td>\n",
       "                        <td id=\"T_179caabc_117e_11ea_b383_80000208fe80row0_col384\" class=\"data row0 col384\" >nan</td>\n",
       "                        <td id=\"T_179caabc_117e_11ea_b383_80000208fe80row0_col385\" class=\"data row0 col385\" >nan</td>\n",
       "                        <td id=\"T_179caabc_117e_11ea_b383_80000208fe80row0_col386\" class=\"data row0 col386\" >nan</td>\n",
       "                        <td id=\"T_179caabc_117e_11ea_b383_80000208fe80row0_col387\" class=\"data row0 col387\" >nan</td>\n",
       "                        <td id=\"T_179caabc_117e_11ea_b383_80000208fe80row0_col388\" class=\"data row0 col388\" >nan</td>\n",
       "                        <td id=\"T_179caabc_117e_11ea_b383_80000208fe80row0_col389\" class=\"data row0 col389\" >nan</td>\n",
       "                        <td id=\"T_179caabc_117e_11ea_b383_80000208fe80row0_col390\" class=\"data row0 col390\" >nan</td>\n",
       "                        <td id=\"T_179caabc_117e_11ea_b383_80000208fe80row0_col391\" class=\"data row0 col391\" >nan</td>\n",
       "                        <td id=\"T_179caabc_117e_11ea_b383_80000208fe80row0_col392\" class=\"data row0 col392\" >nan</td>\n",
       "                        <td id=\"T_179caabc_117e_11ea_b383_80000208fe80row0_col393\" class=\"data row0 col393\" >nan</td>\n",
       "                        <td id=\"T_179caabc_117e_11ea_b383_80000208fe80row0_col394\" class=\"data row0 col394\" >nan</td>\n",
       "                        <td id=\"T_179caabc_117e_11ea_b383_80000208fe80row0_col395\" class=\"data row0 col395\" >nan</td>\n",
       "                        <td id=\"T_179caabc_117e_11ea_b383_80000208fe80row0_col396\" class=\"data row0 col396\" >nan</td>\n",
       "                        <td id=\"T_179caabc_117e_11ea_b383_80000208fe80row0_col397\" class=\"data row0 col397\" >nan</td>\n",
       "                        <td id=\"T_179caabc_117e_11ea_b383_80000208fe80row0_col398\" class=\"data row0 col398\" >nan</td>\n",
       "                        <td id=\"T_179caabc_117e_11ea_b383_80000208fe80row0_col399\" class=\"data row0 col399\" >nan</td>\n",
       "                        <td id=\"T_179caabc_117e_11ea_b383_80000208fe80row0_col400\" class=\"data row0 col400\" >nan</td>\n",
       "                        <td id=\"T_179caabc_117e_11ea_b383_80000208fe80row0_col401\" class=\"data row0 col401\" >nan</td>\n",
       "                        <td id=\"T_179caabc_117e_11ea_b383_80000208fe80row0_col402\" class=\"data row0 col402\" >nan</td>\n",
       "                        <td id=\"T_179caabc_117e_11ea_b383_80000208fe80row0_col403\" class=\"data row0 col403\" >nan</td>\n",
       "                        <td id=\"T_179caabc_117e_11ea_b383_80000208fe80row0_col404\" class=\"data row0 col404\" >nan</td>\n",
       "                        <td id=\"T_179caabc_117e_11ea_b383_80000208fe80row0_col405\" class=\"data row0 col405\" >nan</td>\n",
       "                        <td id=\"T_179caabc_117e_11ea_b383_80000208fe80row0_col406\" class=\"data row0 col406\" >nan</td>\n",
       "                        <td id=\"T_179caabc_117e_11ea_b383_80000208fe80row0_col407\" class=\"data row0 col407\" >nan</td>\n",
       "                        <td id=\"T_179caabc_117e_11ea_b383_80000208fe80row0_col408\" class=\"data row0 col408\" >nan</td>\n",
       "                        <td id=\"T_179caabc_117e_11ea_b383_80000208fe80row0_col409\" class=\"data row0 col409\" >nan</td>\n",
       "                        <td id=\"T_179caabc_117e_11ea_b383_80000208fe80row0_col410\" class=\"data row0 col410\" >nan</td>\n",
       "                        <td id=\"T_179caabc_117e_11ea_b383_80000208fe80row0_col411\" class=\"data row0 col411\" >nan</td>\n",
       "                        <td id=\"T_179caabc_117e_11ea_b383_80000208fe80row0_col412\" class=\"data row0 col412\" >nan</td>\n",
       "                        <td id=\"T_179caabc_117e_11ea_b383_80000208fe80row0_col413\" class=\"data row0 col413\" >nan</td>\n",
       "                        <td id=\"T_179caabc_117e_11ea_b383_80000208fe80row0_col414\" class=\"data row0 col414\" >nan</td>\n",
       "                        <td id=\"T_179caabc_117e_11ea_b383_80000208fe80row0_col415\" class=\"data row0 col415\" >nan</td>\n",
       "                        <td id=\"T_179caabc_117e_11ea_b383_80000208fe80row0_col416\" class=\"data row0 col416\" >nan</td>\n",
       "                        <td id=\"T_179caabc_117e_11ea_b383_80000208fe80row0_col417\" class=\"data row0 col417\" >nan</td>\n",
       "                        <td id=\"T_179caabc_117e_11ea_b383_80000208fe80row0_col418\" class=\"data row0 col418\" >nan</td>\n",
       "                        <td id=\"T_179caabc_117e_11ea_b383_80000208fe80row0_col419\" class=\"data row0 col419\" >nan</td>\n",
       "                        <td id=\"T_179caabc_117e_11ea_b383_80000208fe80row0_col420\" class=\"data row0 col420\" >nan</td>\n",
       "                        <td id=\"T_179caabc_117e_11ea_b383_80000208fe80row0_col421\" class=\"data row0 col421\" >nan</td>\n",
       "                        <td id=\"T_179caabc_117e_11ea_b383_80000208fe80row0_col422\" class=\"data row0 col422\" >nan</td>\n",
       "                        <td id=\"T_179caabc_117e_11ea_b383_80000208fe80row0_col423\" class=\"data row0 col423\" >nan</td>\n",
       "                        <td id=\"T_179caabc_117e_11ea_b383_80000208fe80row0_col424\" class=\"data row0 col424\" >nan</td>\n",
       "                        <td id=\"T_179caabc_117e_11ea_b383_80000208fe80row0_col425\" class=\"data row0 col425\" >nan</td>\n",
       "                        <td id=\"T_179caabc_117e_11ea_b383_80000208fe80row0_col426\" class=\"data row0 col426\" >nan</td>\n",
       "                        <td id=\"T_179caabc_117e_11ea_b383_80000208fe80row0_col427\" class=\"data row0 col427\" >nan</td>\n",
       "                        <td id=\"T_179caabc_117e_11ea_b383_80000208fe80row0_col428\" class=\"data row0 col428\" >nan</td>\n",
       "                        <td id=\"T_179caabc_117e_11ea_b383_80000208fe80row0_col429\" class=\"data row0 col429\" >nan</td>\n",
       "                        <td id=\"T_179caabc_117e_11ea_b383_80000208fe80row0_col430\" class=\"data row0 col430\" >nan</td>\n",
       "                        <td id=\"T_179caabc_117e_11ea_b383_80000208fe80row0_col431\" class=\"data row0 col431\" >nan</td>\n",
       "                        <td id=\"T_179caabc_117e_11ea_b383_80000208fe80row0_col432\" class=\"data row0 col432\" >nan</td>\n",
       "                        <td id=\"T_179caabc_117e_11ea_b383_80000208fe80row0_col433\" class=\"data row0 col433\" >nan</td>\n",
       "                        <td id=\"T_179caabc_117e_11ea_b383_80000208fe80row0_col434\" class=\"data row0 col434\" >nan</td>\n",
       "                        <td id=\"T_179caabc_117e_11ea_b383_80000208fe80row0_col435\" class=\"data row0 col435\" >nan</td>\n",
       "                        <td id=\"T_179caabc_117e_11ea_b383_80000208fe80row0_col436\" class=\"data row0 col436\" >nan</td>\n",
       "                        <td id=\"T_179caabc_117e_11ea_b383_80000208fe80row0_col437\" class=\"data row0 col437\" >nan</td>\n",
       "                        <td id=\"T_179caabc_117e_11ea_b383_80000208fe80row0_col438\" class=\"data row0 col438\" >nan</td>\n",
       "                        <td id=\"T_179caabc_117e_11ea_b383_80000208fe80row0_col439\" class=\"data row0 col439\" >nan</td>\n",
       "                        <td id=\"T_179caabc_117e_11ea_b383_80000208fe80row0_col440\" class=\"data row0 col440\" >nan</td>\n",
       "                        <td id=\"T_179caabc_117e_11ea_b383_80000208fe80row0_col441\" class=\"data row0 col441\" >nan</td>\n",
       "                        <td id=\"T_179caabc_117e_11ea_b383_80000208fe80row0_col442\" class=\"data row0 col442\" >nan</td>\n",
       "                        <td id=\"T_179caabc_117e_11ea_b383_80000208fe80row0_col443\" class=\"data row0 col443\" >nan</td>\n",
       "                        <td id=\"T_179caabc_117e_11ea_b383_80000208fe80row0_col444\" class=\"data row0 col444\" >nan</td>\n",
       "                        <td id=\"T_179caabc_117e_11ea_b383_80000208fe80row0_col445\" class=\"data row0 col445\" >nan</td>\n",
       "                        <td id=\"T_179caabc_117e_11ea_b383_80000208fe80row0_col446\" class=\"data row0 col446\" >nan</td>\n",
       "                        <td id=\"T_179caabc_117e_11ea_b383_80000208fe80row0_col447\" class=\"data row0 col447\" >nan</td>\n",
       "                        <td id=\"T_179caabc_117e_11ea_b383_80000208fe80row0_col448\" class=\"data row0 col448\" >nan</td>\n",
       "                        <td id=\"T_179caabc_117e_11ea_b383_80000208fe80row0_col449\" class=\"data row0 col449\" >nan</td>\n",
       "                        <td id=\"T_179caabc_117e_11ea_b383_80000208fe80row0_col450\" class=\"data row0 col450\" >nan</td>\n",
       "                        <td id=\"T_179caabc_117e_11ea_b383_80000208fe80row0_col451\" class=\"data row0 col451\" >nan</td>\n",
       "                        <td id=\"T_179caabc_117e_11ea_b383_80000208fe80row0_col452\" class=\"data row0 col452\" >nan</td>\n",
       "                        <td id=\"T_179caabc_117e_11ea_b383_80000208fe80row0_col453\" class=\"data row0 col453\" >nan</td>\n",
       "                        <td id=\"T_179caabc_117e_11ea_b383_80000208fe80row0_col454\" class=\"data row0 col454\" >nan</td>\n",
       "                        <td id=\"T_179caabc_117e_11ea_b383_80000208fe80row0_col455\" class=\"data row0 col455\" >nan</td>\n",
       "                        <td id=\"T_179caabc_117e_11ea_b383_80000208fe80row0_col456\" class=\"data row0 col456\" >nan</td>\n",
       "                        <td id=\"T_179caabc_117e_11ea_b383_80000208fe80row0_col457\" class=\"data row0 col457\" >nan</td>\n",
       "                        <td id=\"T_179caabc_117e_11ea_b383_80000208fe80row0_col458\" class=\"data row0 col458\" >nan</td>\n",
       "                        <td id=\"T_179caabc_117e_11ea_b383_80000208fe80row0_col459\" class=\"data row0 col459\" >nan</td>\n",
       "                        <td id=\"T_179caabc_117e_11ea_b383_80000208fe80row0_col460\" class=\"data row0 col460\" >nan</td>\n",
       "                        <td id=\"T_179caabc_117e_11ea_b383_80000208fe80row0_col461\" class=\"data row0 col461\" >nan</td>\n",
       "                        <td id=\"T_179caabc_117e_11ea_b383_80000208fe80row0_col462\" class=\"data row0 col462\" >nan</td>\n",
       "                        <td id=\"T_179caabc_117e_11ea_b383_80000208fe80row0_col463\" class=\"data row0 col463\" >nan</td>\n",
       "                        <td id=\"T_179caabc_117e_11ea_b383_80000208fe80row0_col464\" class=\"data row0 col464\" >nan</td>\n",
       "                        <td id=\"T_179caabc_117e_11ea_b383_80000208fe80row0_col465\" class=\"data row0 col465\" >nan</td>\n",
       "                        <td id=\"T_179caabc_117e_11ea_b383_80000208fe80row0_col466\" class=\"data row0 col466\" >nan</td>\n",
       "                        <td id=\"T_179caabc_117e_11ea_b383_80000208fe80row0_col467\" class=\"data row0 col467\" >nan</td>\n",
       "                        <td id=\"T_179caabc_117e_11ea_b383_80000208fe80row0_col468\" class=\"data row0 col468\" >nan</td>\n",
       "                        <td id=\"T_179caabc_117e_11ea_b383_80000208fe80row0_col469\" class=\"data row0 col469\" >nan</td>\n",
       "                        <td id=\"T_179caabc_117e_11ea_b383_80000208fe80row0_col470\" class=\"data row0 col470\" >nan</td>\n",
       "                        <td id=\"T_179caabc_117e_11ea_b383_80000208fe80row0_col471\" class=\"data row0 col471\" >nan</td>\n",
       "                        <td id=\"T_179caabc_117e_11ea_b383_80000208fe80row0_col472\" class=\"data row0 col472\" >nan</td>\n",
       "                        <td id=\"T_179caabc_117e_11ea_b383_80000208fe80row0_col473\" class=\"data row0 col473\" >nan</td>\n",
       "                        <td id=\"T_179caabc_117e_11ea_b383_80000208fe80row0_col474\" class=\"data row0 col474\" >nan</td>\n",
       "                        <td id=\"T_179caabc_117e_11ea_b383_80000208fe80row0_col475\" class=\"data row0 col475\" >nan</td>\n",
       "                        <td id=\"T_179caabc_117e_11ea_b383_80000208fe80row0_col476\" class=\"data row0 col476\" >nan</td>\n",
       "                        <td id=\"T_179caabc_117e_11ea_b383_80000208fe80row0_col477\" class=\"data row0 col477\" >nan</td>\n",
       "                        <td id=\"T_179caabc_117e_11ea_b383_80000208fe80row0_col478\" class=\"data row0 col478\" >nan</td>\n",
       "                        <td id=\"T_179caabc_117e_11ea_b383_80000208fe80row0_col479\" class=\"data row0 col479\" >nan</td>\n",
       "                        <td id=\"T_179caabc_117e_11ea_b383_80000208fe80row0_col480\" class=\"data row0 col480\" >nan</td>\n",
       "                        <td id=\"T_179caabc_117e_11ea_b383_80000208fe80row0_col481\" class=\"data row0 col481\" >nan</td>\n",
       "                        <td id=\"T_179caabc_117e_11ea_b383_80000208fe80row0_col482\" class=\"data row0 col482\" >nan</td>\n",
       "                        <td id=\"T_179caabc_117e_11ea_b383_80000208fe80row0_col483\" class=\"data row0 col483\" >nan</td>\n",
       "                        <td id=\"T_179caabc_117e_11ea_b383_80000208fe80row0_col484\" class=\"data row0 col484\" >nan</td>\n",
       "                        <td id=\"T_179caabc_117e_11ea_b383_80000208fe80row0_col485\" class=\"data row0 col485\" >nan</td>\n",
       "                        <td id=\"T_179caabc_117e_11ea_b383_80000208fe80row0_col486\" class=\"data row0 col486\" >nan</td>\n",
       "                        <td id=\"T_179caabc_117e_11ea_b383_80000208fe80row0_col487\" class=\"data row0 col487\" >nan</td>\n",
       "                        <td id=\"T_179caabc_117e_11ea_b383_80000208fe80row0_col488\" class=\"data row0 col488\" >nan</td>\n",
       "                        <td id=\"T_179caabc_117e_11ea_b383_80000208fe80row0_col489\" class=\"data row0 col489\" >nan</td>\n",
       "                        <td id=\"T_179caabc_117e_11ea_b383_80000208fe80row0_col490\" class=\"data row0 col490\" >nan</td>\n",
       "                        <td id=\"T_179caabc_117e_11ea_b383_80000208fe80row0_col491\" class=\"data row0 col491\" >nan</td>\n",
       "                        <td id=\"T_179caabc_117e_11ea_b383_80000208fe80row0_col492\" class=\"data row0 col492\" >nan</td>\n",
       "                        <td id=\"T_179caabc_117e_11ea_b383_80000208fe80row0_col493\" class=\"data row0 col493\" >nan</td>\n",
       "                        <td id=\"T_179caabc_117e_11ea_b383_80000208fe80row0_col494\" class=\"data row0 col494\" >nan</td>\n",
       "                        <td id=\"T_179caabc_117e_11ea_b383_80000208fe80row0_col495\" class=\"data row0 col495\" >nan</td>\n",
       "                        <td id=\"T_179caabc_117e_11ea_b383_80000208fe80row0_col496\" class=\"data row0 col496\" >nan</td>\n",
       "                        <td id=\"T_179caabc_117e_11ea_b383_80000208fe80row0_col497\" class=\"data row0 col497\" >nan</td>\n",
       "                        <td id=\"T_179caabc_117e_11ea_b383_80000208fe80row0_col498\" class=\"data row0 col498\" >nan</td>\n",
       "                        <td id=\"T_179caabc_117e_11ea_b383_80000208fe80row0_col499\" class=\"data row0 col499\" >nan</td>\n",
       "                        <td id=\"T_179caabc_117e_11ea_b383_80000208fe80row0_col500\" class=\"data row0 col500\" >nan</td>\n",
       "                        <td id=\"T_179caabc_117e_11ea_b383_80000208fe80row0_col501\" class=\"data row0 col501\" >nan</td>\n",
       "                        <td id=\"T_179caabc_117e_11ea_b383_80000208fe80row0_col502\" class=\"data row0 col502\" >nan</td>\n",
       "                        <td id=\"T_179caabc_117e_11ea_b383_80000208fe80row0_col503\" class=\"data row0 col503\" >nan</td>\n",
       "                        <td id=\"T_179caabc_117e_11ea_b383_80000208fe80row0_col504\" class=\"data row0 col504\" >nan</td>\n",
       "                        <td id=\"T_179caabc_117e_11ea_b383_80000208fe80row0_col505\" class=\"data row0 col505\" >nan</td>\n",
       "                        <td id=\"T_179caabc_117e_11ea_b383_80000208fe80row0_col506\" class=\"data row0 col506\" >nan</td>\n",
       "                        <td id=\"T_179caabc_117e_11ea_b383_80000208fe80row0_col507\" class=\"data row0 col507\" >nan</td>\n",
       "                        <td id=\"T_179caabc_117e_11ea_b383_80000208fe80row0_col508\" class=\"data row0 col508\" >nan</td>\n",
       "                        <td id=\"T_179caabc_117e_11ea_b383_80000208fe80row0_col509\" class=\"data row0 col509\" >nan</td>\n",
       "                        <td id=\"T_179caabc_117e_11ea_b383_80000208fe80row0_col510\" class=\"data row0 col510\" >nan</td>\n",
       "                        <td id=\"T_179caabc_117e_11ea_b383_80000208fe80row0_col511\" class=\"data row0 col511\" >nan</td>\n",
       "                        <td id=\"T_179caabc_117e_11ea_b383_80000208fe80row0_col512\" class=\"data row0 col512\" >nan</td>\n",
       "                        <td id=\"T_179caabc_117e_11ea_b383_80000208fe80row0_col513\" class=\"data row0 col513\" >nan</td>\n",
       "                        <td id=\"T_179caabc_117e_11ea_b383_80000208fe80row0_col514\" class=\"data row0 col514\" >nan</td>\n",
       "                        <td id=\"T_179caabc_117e_11ea_b383_80000208fe80row0_col515\" class=\"data row0 col515\" >nan</td>\n",
       "                        <td id=\"T_179caabc_117e_11ea_b383_80000208fe80row0_col516\" class=\"data row0 col516\" >nan</td>\n",
       "                        <td id=\"T_179caabc_117e_11ea_b383_80000208fe80row0_col517\" class=\"data row0 col517\" >nan</td>\n",
       "                        <td id=\"T_179caabc_117e_11ea_b383_80000208fe80row0_col518\" class=\"data row0 col518\" >nan</td>\n",
       "                        <td id=\"T_179caabc_117e_11ea_b383_80000208fe80row0_col519\" class=\"data row0 col519\" >nan</td>\n",
       "                        <td id=\"T_179caabc_117e_11ea_b383_80000208fe80row0_col520\" class=\"data row0 col520\" >nan</td>\n",
       "                        <td id=\"T_179caabc_117e_11ea_b383_80000208fe80row0_col521\" class=\"data row0 col521\" >nan</td>\n",
       "                        <td id=\"T_179caabc_117e_11ea_b383_80000208fe80row0_col522\" class=\"data row0 col522\" >nan</td>\n",
       "                        <td id=\"T_179caabc_117e_11ea_b383_80000208fe80row0_col523\" class=\"data row0 col523\" >nan</td>\n",
       "                        <td id=\"T_179caabc_117e_11ea_b383_80000208fe80row0_col524\" class=\"data row0 col524\" >nan</td>\n",
       "                        <td id=\"T_179caabc_117e_11ea_b383_80000208fe80row0_col525\" class=\"data row0 col525\" >nan</td>\n",
       "                        <td id=\"T_179caabc_117e_11ea_b383_80000208fe80row0_col526\" class=\"data row0 col526\" >nan</td>\n",
       "                        <td id=\"T_179caabc_117e_11ea_b383_80000208fe80row0_col527\" class=\"data row0 col527\" >nan</td>\n",
       "                        <td id=\"T_179caabc_117e_11ea_b383_80000208fe80row0_col528\" class=\"data row0 col528\" >nan</td>\n",
       "                        <td id=\"T_179caabc_117e_11ea_b383_80000208fe80row0_col529\" class=\"data row0 col529\" >nan</td>\n",
       "                        <td id=\"T_179caabc_117e_11ea_b383_80000208fe80row0_col530\" class=\"data row0 col530\" >nan</td>\n",
       "                        <td id=\"T_179caabc_117e_11ea_b383_80000208fe80row0_col531\" class=\"data row0 col531\" >nan</td>\n",
       "                        <td id=\"T_179caabc_117e_11ea_b383_80000208fe80row0_col532\" class=\"data row0 col532\" >nan</td>\n",
       "                        <td id=\"T_179caabc_117e_11ea_b383_80000208fe80row0_col533\" class=\"data row0 col533\" >nan</td>\n",
       "                        <td id=\"T_179caabc_117e_11ea_b383_80000208fe80row0_col534\" class=\"data row0 col534\" >nan</td>\n",
       "                        <td id=\"T_179caabc_117e_11ea_b383_80000208fe80row0_col535\" class=\"data row0 col535\" >nan</td>\n",
       "                        <td id=\"T_179caabc_117e_11ea_b383_80000208fe80row0_col536\" class=\"data row0 col536\" >nan</td>\n",
       "                        <td id=\"T_179caabc_117e_11ea_b383_80000208fe80row0_col537\" class=\"data row0 col537\" >nan</td>\n",
       "                        <td id=\"T_179caabc_117e_11ea_b383_80000208fe80row0_col538\" class=\"data row0 col538\" >nan</td>\n",
       "                        <td id=\"T_179caabc_117e_11ea_b383_80000208fe80row0_col539\" class=\"data row0 col539\" >nan</td>\n",
       "                        <td id=\"T_179caabc_117e_11ea_b383_80000208fe80row0_col540\" class=\"data row0 col540\" >nan</td>\n",
       "                        <td id=\"T_179caabc_117e_11ea_b383_80000208fe80row0_col541\" class=\"data row0 col541\" >nan</td>\n",
       "                        <td id=\"T_179caabc_117e_11ea_b383_80000208fe80row0_col542\" class=\"data row0 col542\" >nan</td>\n",
       "                        <td id=\"T_179caabc_117e_11ea_b383_80000208fe80row0_col543\" class=\"data row0 col543\" >nan</td>\n",
       "                        <td id=\"T_179caabc_117e_11ea_b383_80000208fe80row0_col544\" class=\"data row0 col544\" >nan</td>\n",
       "                        <td id=\"T_179caabc_117e_11ea_b383_80000208fe80row0_col545\" class=\"data row0 col545\" >nan</td>\n",
       "                        <td id=\"T_179caabc_117e_11ea_b383_80000208fe80row0_col546\" class=\"data row0 col546\" >nan</td>\n",
       "                        <td id=\"T_179caabc_117e_11ea_b383_80000208fe80row0_col547\" class=\"data row0 col547\" >nan</td>\n",
       "                        <td id=\"T_179caabc_117e_11ea_b383_80000208fe80row0_col548\" class=\"data row0 col548\" >nan</td>\n",
       "                        <td id=\"T_179caabc_117e_11ea_b383_80000208fe80row0_col549\" class=\"data row0 col549\" >nan</td>\n",
       "                        <td id=\"T_179caabc_117e_11ea_b383_80000208fe80row0_col550\" class=\"data row0 col550\" >nan</td>\n",
       "                        <td id=\"T_179caabc_117e_11ea_b383_80000208fe80row0_col551\" class=\"data row0 col551\" >nan</td>\n",
       "                        <td id=\"T_179caabc_117e_11ea_b383_80000208fe80row0_col552\" class=\"data row0 col552\" >nan</td>\n",
       "                        <td id=\"T_179caabc_117e_11ea_b383_80000208fe80row0_col553\" class=\"data row0 col553\" >nan</td>\n",
       "                        <td id=\"T_179caabc_117e_11ea_b383_80000208fe80row0_col554\" class=\"data row0 col554\" >nan</td>\n",
       "                        <td id=\"T_179caabc_117e_11ea_b383_80000208fe80row0_col555\" class=\"data row0 col555\" >nan</td>\n",
       "                        <td id=\"T_179caabc_117e_11ea_b383_80000208fe80row0_col556\" class=\"data row0 col556\" >nan</td>\n",
       "                        <td id=\"T_179caabc_117e_11ea_b383_80000208fe80row0_col557\" class=\"data row0 col557\" >nan</td>\n",
       "                        <td id=\"T_179caabc_117e_11ea_b383_80000208fe80row0_col558\" class=\"data row0 col558\" >nan</td>\n",
       "                        <td id=\"T_179caabc_117e_11ea_b383_80000208fe80row0_col559\" class=\"data row0 col559\" >nan</td>\n",
       "                        <td id=\"T_179caabc_117e_11ea_b383_80000208fe80row0_col560\" class=\"data row0 col560\" >nan</td>\n",
       "                        <td id=\"T_179caabc_117e_11ea_b383_80000208fe80row0_col561\" class=\"data row0 col561\" >nan</td>\n",
       "                        <td id=\"T_179caabc_117e_11ea_b383_80000208fe80row0_col562\" class=\"data row0 col562\" >nan</td>\n",
       "                        <td id=\"T_179caabc_117e_11ea_b383_80000208fe80row0_col563\" class=\"data row0 col563\" >nan</td>\n",
       "                        <td id=\"T_179caabc_117e_11ea_b383_80000208fe80row0_col564\" class=\"data row0 col564\" >nan</td>\n",
       "                        <td id=\"T_179caabc_117e_11ea_b383_80000208fe80row0_col565\" class=\"data row0 col565\" >nan</td>\n",
       "                        <td id=\"T_179caabc_117e_11ea_b383_80000208fe80row0_col566\" class=\"data row0 col566\" >nan</td>\n",
       "                        <td id=\"T_179caabc_117e_11ea_b383_80000208fe80row0_col567\" class=\"data row0 col567\" >nan</td>\n",
       "            </tr>\n",
       "            <tr>\n",
       "                                <td id=\"T_179caabc_117e_11ea_b383_80000208fe80row1_col0\" class=\"data row1 col0\" >3.2</td>\n",
       "                        <td id=\"T_179caabc_117e_11ea_b383_80000208fe80row1_col1\" class=\"data row1 col1\" >StackedEnsemble_AllModels_AutoML_20191126_024320</td>\n",
       "                        <td id=\"T_179caabc_117e_11ea_b383_80000208fe80row1_col2\" class=\"data row1 col2\" >DeepLearning_grid_1_AutoML_20191126_024320_model_15</td>\n",
       "                        <td id=\"T_179caabc_117e_11ea_b383_80000208fe80row1_col3\" class=\"data row1 col3\" >DeepLearning_grid_1_AutoML_20191126_024320_model_45</td>\n",
       "                        <td id=\"T_179caabc_117e_11ea_b383_80000208fe80row1_col4\" class=\"data row1 col4\" >DeepLearning_grid_1_AutoML_20191126_024320_model_44</td>\n",
       "                        <td id=\"T_179caabc_117e_11ea_b383_80000208fe80row1_col5\" class=\"data row1 col5\" >DeepLearning_grid_1_AutoML_20191126_024320_model_32</td>\n",
       "                        <td id=\"T_179caabc_117e_11ea_b383_80000208fe80row1_col6\" class=\"data row1 col6\" >DeepLearning_grid_1_AutoML_20191126_024320_model_13</td>\n",
       "                        <td id=\"T_179caabc_117e_11ea_b383_80000208fe80row1_col7\" class=\"data row1 col7\" >DeepLearning_grid_1_AutoML_20191126_024320_model_35</td>\n",
       "                        <td id=\"T_179caabc_117e_11ea_b383_80000208fe80row1_col8\" class=\"data row1 col8\" >XGBoost_grid_1_AutoML_20191126_024320_model_166</td>\n",
       "                        <td id=\"T_179caabc_117e_11ea_b383_80000208fe80row1_col9\" class=\"data row1 col9\" >DeepLearning_grid_1_AutoML_20191126_024320_model_24</td>\n",
       "                        <td id=\"T_179caabc_117e_11ea_b383_80000208fe80row1_col10\" class=\"data row1 col10\" >DeepLearning_grid_1_AutoML_20191126_024320_model_33</td>\n",
       "                        <td id=\"T_179caabc_117e_11ea_b383_80000208fe80row1_col11\" class=\"data row1 col11\" >GBM_grid_1_AutoML_20191126_024320_model_31</td>\n",
       "                        <td id=\"T_179caabc_117e_11ea_b383_80000208fe80row1_col12\" class=\"data row1 col12\" >XGBoost_grid_1_AutoML_20191126_024320_model_129</td>\n",
       "                        <td id=\"T_179caabc_117e_11ea_b383_80000208fe80row1_col13\" class=\"data row1 col13\" >DeepLearning_grid_1_AutoML_20191126_024320_model_31</td>\n",
       "                        <td id=\"T_179caabc_117e_11ea_b383_80000208fe80row1_col14\" class=\"data row1 col14\" >DeepLearning_grid_1_AutoML_20191126_024320_model_4</td>\n",
       "                        <td id=\"T_179caabc_117e_11ea_b383_80000208fe80row1_col15\" class=\"data row1 col15\" >GBM_2_AutoML_20191126_024320</td>\n",
       "                        <td id=\"T_179caabc_117e_11ea_b383_80000208fe80row1_col16\" class=\"data row1 col16\" >GBM_grid_1_AutoML_20191126_024320_model_113</td>\n",
       "                        <td id=\"T_179caabc_117e_11ea_b383_80000208fe80row1_col17\" class=\"data row1 col17\" >GBM_grid_1_AutoML_20191126_024320_model_125</td>\n",
       "                        <td id=\"T_179caabc_117e_11ea_b383_80000208fe80row1_col18\" class=\"data row1 col18\" >GBM_grid_1_AutoML_20191126_024320_model_143</td>\n",
       "                        <td id=\"T_179caabc_117e_11ea_b383_80000208fe80row1_col19\" class=\"data row1 col19\" >XGBoost_grid_1_AutoML_20191126_024320_model_161</td>\n",
       "                        <td id=\"T_179caabc_117e_11ea_b383_80000208fe80row1_col20\" class=\"data row1 col20\" >GBM_grid_1_AutoML_20191126_024320_model_139</td>\n",
       "                        <td id=\"T_179caabc_117e_11ea_b383_80000208fe80row1_col21\" class=\"data row1 col21\" >DeepLearning_grid_1_AutoML_20191126_024320_model_2</td>\n",
       "                        <td id=\"T_179caabc_117e_11ea_b383_80000208fe80row1_col22\" class=\"data row1 col22\" >DeepLearning_grid_1_AutoML_20191126_024320_model_47</td>\n",
       "                        <td id=\"T_179caabc_117e_11ea_b383_80000208fe80row1_col23\" class=\"data row1 col23\" >GBM_grid_1_AutoML_20191126_024320_model_129</td>\n",
       "                        <td id=\"T_179caabc_117e_11ea_b383_80000208fe80row1_col24\" class=\"data row1 col24\" >DeepLearning_grid_1_AutoML_20191126_024320_model_36</td>\n",
       "                        <td id=\"T_179caabc_117e_11ea_b383_80000208fe80row1_col25\" class=\"data row1 col25\" >DeepLearning_grid_1_AutoML_20191126_024320_model_21</td>\n",
       "                        <td id=\"T_179caabc_117e_11ea_b383_80000208fe80row1_col26\" class=\"data row1 col26\" >GBM_grid_1_AutoML_20191126_024320_model_94</td>\n",
       "                        <td id=\"T_179caabc_117e_11ea_b383_80000208fe80row1_col27\" class=\"data row1 col27\" >GBM_grid_1_AutoML_20191126_024320_model_256</td>\n",
       "                        <td id=\"T_179caabc_117e_11ea_b383_80000208fe80row1_col28\" class=\"data row1 col28\" >DeepLearning_grid_1_AutoML_20191126_024320_model_28</td>\n",
       "                        <td id=\"T_179caabc_117e_11ea_b383_80000208fe80row1_col29\" class=\"data row1 col29\" >GBM_grid_1_AutoML_20191126_024320_model_236</td>\n",
       "                        <td id=\"T_179caabc_117e_11ea_b383_80000208fe80row1_col30\" class=\"data row1 col30\" >GBM_grid_1_AutoML_20191126_024320_model_15</td>\n",
       "                        <td id=\"T_179caabc_117e_11ea_b383_80000208fe80row1_col31\" class=\"data row1 col31\" >GBM_grid_1_AutoML_20191126_024320_model_193</td>\n",
       "                        <td id=\"T_179caabc_117e_11ea_b383_80000208fe80row1_col32\" class=\"data row1 col32\" >DeepLearning_grid_1_AutoML_20191126_024320_model_40</td>\n",
       "                        <td id=\"T_179caabc_117e_11ea_b383_80000208fe80row1_col33\" class=\"data row1 col33\" >GBM_grid_1_AutoML_20191126_024320_model_223</td>\n",
       "                        <td id=\"T_179caabc_117e_11ea_b383_80000208fe80row1_col34\" class=\"data row1 col34\" >XGBoost_grid_1_AutoML_20191126_024320_model_113</td>\n",
       "                        <td id=\"T_179caabc_117e_11ea_b383_80000208fe80row1_col35\" class=\"data row1 col35\" >GBM_grid_1_AutoML_20191126_024320_model_100</td>\n",
       "                        <td id=\"T_179caabc_117e_11ea_b383_80000208fe80row1_col36\" class=\"data row1 col36\" >GBM_grid_1_AutoML_20191126_024320_model_258</td>\n",
       "                        <td id=\"T_179caabc_117e_11ea_b383_80000208fe80row1_col37\" class=\"data row1 col37\" >DeepLearning_grid_1_AutoML_20191126_024320_model_26</td>\n",
       "                        <td id=\"T_179caabc_117e_11ea_b383_80000208fe80row1_col38\" class=\"data row1 col38\" >DeepLearning_grid_1_AutoML_20191126_024320_model_3</td>\n",
       "                        <td id=\"T_179caabc_117e_11ea_b383_80000208fe80row1_col39\" class=\"data row1 col39\" >XGBoost_grid_1_AutoML_20191126_024320_model_13</td>\n",
       "                        <td id=\"T_179caabc_117e_11ea_b383_80000208fe80row1_col40\" class=\"data row1 col40\" >XGBoost_grid_1_AutoML_20191126_024320_model_83</td>\n",
       "                        <td id=\"T_179caabc_117e_11ea_b383_80000208fe80row1_col41\" class=\"data row1 col41\" >DeepLearning_grid_1_AutoML_20191126_024320_model_6</td>\n",
       "                        <td id=\"T_179caabc_117e_11ea_b383_80000208fe80row1_col42\" class=\"data row1 col42\" >XGBoost_grid_1_AutoML_20191126_024320_model_57</td>\n",
       "                        <td id=\"T_179caabc_117e_11ea_b383_80000208fe80row1_col43\" class=\"data row1 col43\" >DeepLearning_grid_1_AutoML_20191126_024320_model_30</td>\n",
       "                        <td id=\"T_179caabc_117e_11ea_b383_80000208fe80row1_col44\" class=\"data row1 col44\" >GBM_grid_1_AutoML_20191126_024320_model_174</td>\n",
       "                        <td id=\"T_179caabc_117e_11ea_b383_80000208fe80row1_col45\" class=\"data row1 col45\" >XGBoost_grid_1_AutoML_20191126_024320_model_99</td>\n",
       "                        <td id=\"T_179caabc_117e_11ea_b383_80000208fe80row1_col46\" class=\"data row1 col46\" >DeepLearning_grid_1_AutoML_20191126_024320_model_46</td>\n",
       "                        <td id=\"T_179caabc_117e_11ea_b383_80000208fe80row1_col47\" class=\"data row1 col47\" >GBM_grid_1_AutoML_20191126_024320_model_145</td>\n",
       "                        <td id=\"T_179caabc_117e_11ea_b383_80000208fe80row1_col48\" class=\"data row1 col48\" >DeepLearning_grid_1_AutoML_20191126_024320_model_43</td>\n",
       "                        <td id=\"T_179caabc_117e_11ea_b383_80000208fe80row1_col49\" class=\"data row1 col49\" >DeepLearning_grid_1_AutoML_20191126_024320_model_25</td>\n",
       "                        <td id=\"T_179caabc_117e_11ea_b383_80000208fe80row1_col50\" class=\"data row1 col50\" >GBM_grid_1_AutoML_20191126_024320_model_135</td>\n",
       "                        <td id=\"T_179caabc_117e_11ea_b383_80000208fe80row1_col51\" class=\"data row1 col51\" >GBM_grid_1_AutoML_20191126_024320_model_183</td>\n",
       "                        <td id=\"T_179caabc_117e_11ea_b383_80000208fe80row1_col52\" class=\"data row1 col52\" >GBM_grid_1_AutoML_20191126_024320_model_105</td>\n",
       "                        <td id=\"T_179caabc_117e_11ea_b383_80000208fe80row1_col53\" class=\"data row1 col53\" >GBM_grid_1_AutoML_20191126_024320_model_224</td>\n",
       "                        <td id=\"T_179caabc_117e_11ea_b383_80000208fe80row1_col54\" class=\"data row1 col54\" >GBM_grid_1_AutoML_20191126_024320_model_161</td>\n",
       "                        <td id=\"T_179caabc_117e_11ea_b383_80000208fe80row1_col55\" class=\"data row1 col55\" >GBM_5_AutoML_20191126_024320</td>\n",
       "                        <td id=\"T_179caabc_117e_11ea_b383_80000208fe80row1_col56\" class=\"data row1 col56\" >XGBoost_1_AutoML_20191126_024320</td>\n",
       "                        <td id=\"T_179caabc_117e_11ea_b383_80000208fe80row1_col57\" class=\"data row1 col57\" >GBM_grid_1_AutoML_20191126_024320_model_106</td>\n",
       "                        <td id=\"T_179caabc_117e_11ea_b383_80000208fe80row1_col58\" class=\"data row1 col58\" >GBM_grid_1_AutoML_20191126_024320_model_39</td>\n",
       "                        <td id=\"T_179caabc_117e_11ea_b383_80000208fe80row1_col59\" class=\"data row1 col59\" >XGBoost_grid_1_AutoML_20191126_024320_model_38</td>\n",
       "                        <td id=\"T_179caabc_117e_11ea_b383_80000208fe80row1_col60\" class=\"data row1 col60\" >GBM_grid_1_AutoML_20191126_024320_model_291</td>\n",
       "                        <td id=\"T_179caabc_117e_11ea_b383_80000208fe80row1_col61\" class=\"data row1 col61\" >GBM_grid_1_AutoML_20191126_024320_model_155</td>\n",
       "                        <td id=\"T_179caabc_117e_11ea_b383_80000208fe80row1_col62\" class=\"data row1 col62\" >DeepLearning_grid_1_AutoML_20191126_024320_model_49</td>\n",
       "                        <td id=\"T_179caabc_117e_11ea_b383_80000208fe80row1_col63\" class=\"data row1 col63\" >XGBoost_grid_1_AutoML_20191126_024320_model_176</td>\n",
       "                        <td id=\"T_179caabc_117e_11ea_b383_80000208fe80row1_col64\" class=\"data row1 col64\" >GBM_grid_1_AutoML_20191126_024320_model_14</td>\n",
       "                        <td id=\"T_179caabc_117e_11ea_b383_80000208fe80row1_col65\" class=\"data row1 col65\" >GBM_grid_1_AutoML_20191126_024320_model_47</td>\n",
       "                        <td id=\"T_179caabc_117e_11ea_b383_80000208fe80row1_col66\" class=\"data row1 col66\" >GBM_grid_1_AutoML_20191126_024320_model_53</td>\n",
       "                        <td id=\"T_179caabc_117e_11ea_b383_80000208fe80row1_col67\" class=\"data row1 col67\" >GBM_grid_1_AutoML_20191126_024320_model_138</td>\n",
       "                        <td id=\"T_179caabc_117e_11ea_b383_80000208fe80row1_col68\" class=\"data row1 col68\" >GBM_grid_1_AutoML_20191126_024320_model_153</td>\n",
       "                        <td id=\"T_179caabc_117e_11ea_b383_80000208fe80row1_col69\" class=\"data row1 col69\" >DeepLearning_grid_1_AutoML_20191126_024320_model_14</td>\n",
       "                        <td id=\"T_179caabc_117e_11ea_b383_80000208fe80row1_col70\" class=\"data row1 col70\" >XGBoost_grid_1_AutoML_20191126_024320_model_200</td>\n",
       "                        <td id=\"T_179caabc_117e_11ea_b383_80000208fe80row1_col71\" class=\"data row1 col71\" >DeepLearning_grid_1_AutoML_20191126_024320_model_34</td>\n",
       "                        <td id=\"T_179caabc_117e_11ea_b383_80000208fe80row1_col72\" class=\"data row1 col72\" >XGBoost_grid_1_AutoML_20191126_024320_model_97</td>\n",
       "                        <td id=\"T_179caabc_117e_11ea_b383_80000208fe80row1_col73\" class=\"data row1 col73\" >GBM_grid_1_AutoML_20191126_024320_model_55</td>\n",
       "                        <td id=\"T_179caabc_117e_11ea_b383_80000208fe80row1_col74\" class=\"data row1 col74\" >GBM_grid_1_AutoML_20191126_024320_model_133</td>\n",
       "                        <td id=\"T_179caabc_117e_11ea_b383_80000208fe80row1_col75\" class=\"data row1 col75\" >GBM_grid_1_AutoML_20191126_024320_model_280</td>\n",
       "                        <td id=\"T_179caabc_117e_11ea_b383_80000208fe80row1_col76\" class=\"data row1 col76\" >GBM_grid_1_AutoML_20191126_024320_model_152</td>\n",
       "                        <td id=\"T_179caabc_117e_11ea_b383_80000208fe80row1_col77\" class=\"data row1 col77\" >DeepLearning_grid_1_AutoML_20191126_024320_model_8</td>\n",
       "                        <td id=\"T_179caabc_117e_11ea_b383_80000208fe80row1_col78\" class=\"data row1 col78\" >GBM_grid_1_AutoML_20191126_024320_model_281</td>\n",
       "                        <td id=\"T_179caabc_117e_11ea_b383_80000208fe80row1_col79\" class=\"data row1 col79\" >GBM_grid_1_AutoML_20191126_024320_model_287</td>\n",
       "                        <td id=\"T_179caabc_117e_11ea_b383_80000208fe80row1_col80\" class=\"data row1 col80\" >GBM_grid_1_AutoML_20191126_024320_model_117</td>\n",
       "                        <td id=\"T_179caabc_117e_11ea_b383_80000208fe80row1_col81\" class=\"data row1 col81\" >GBM_grid_1_AutoML_20191126_024320_model_12</td>\n",
       "                        <td id=\"T_179caabc_117e_11ea_b383_80000208fe80row1_col82\" class=\"data row1 col82\" >DRF_1_AutoML_20191126_024320</td>\n",
       "                        <td id=\"T_179caabc_117e_11ea_b383_80000208fe80row1_col83\" class=\"data row1 col83\" >GBM_grid_1_AutoML_20191126_024320_model_252</td>\n",
       "                        <td id=\"T_179caabc_117e_11ea_b383_80000208fe80row1_col84\" class=\"data row1 col84\" >GBM_grid_1_AutoML_20191126_024320_model_169</td>\n",
       "                        <td id=\"T_179caabc_117e_11ea_b383_80000208fe80row1_col85\" class=\"data row1 col85\" >GBM_grid_1_AutoML_20191126_024320_model_162</td>\n",
       "                        <td id=\"T_179caabc_117e_11ea_b383_80000208fe80row1_col86\" class=\"data row1 col86\" >GBM_grid_1_AutoML_20191126_024320_model_195</td>\n",
       "                        <td id=\"T_179caabc_117e_11ea_b383_80000208fe80row1_col87\" class=\"data row1 col87\" >GBM_grid_1_AutoML_20191126_024320_model_254</td>\n",
       "                        <td id=\"T_179caabc_117e_11ea_b383_80000208fe80row1_col88\" class=\"data row1 col88\" >GBM_grid_1_AutoML_20191126_024320_model_186</td>\n",
       "                        <td id=\"T_179caabc_117e_11ea_b383_80000208fe80row1_col89\" class=\"data row1 col89\" >XGBoost_grid_1_AutoML_20191126_024320_model_84</td>\n",
       "                        <td id=\"T_179caabc_117e_11ea_b383_80000208fe80row1_col90\" class=\"data row1 col90\" >GBM_3_AutoML_20191126_024320</td>\n",
       "                        <td id=\"T_179caabc_117e_11ea_b383_80000208fe80row1_col91\" class=\"data row1 col91\" >GBM_grid_1_AutoML_20191126_024320_model_241</td>\n",
       "                        <td id=\"T_179caabc_117e_11ea_b383_80000208fe80row1_col92\" class=\"data row1 col92\" >GBM_grid_1_AutoML_20191126_024320_model_20</td>\n",
       "                        <td id=\"T_179caabc_117e_11ea_b383_80000208fe80row1_col93\" class=\"data row1 col93\" >GBM_grid_1_AutoML_20191126_024320_model_290</td>\n",
       "                        <td id=\"T_179caabc_117e_11ea_b383_80000208fe80row1_col94\" class=\"data row1 col94\" >DeepLearning_grid_1_AutoML_20191126_024320_model_20</td>\n",
       "                        <td id=\"T_179caabc_117e_11ea_b383_80000208fe80row1_col95\" class=\"data row1 col95\" >GBM_grid_1_AutoML_20191126_024320_model_230</td>\n",
       "                        <td id=\"T_179caabc_117e_11ea_b383_80000208fe80row1_col96\" class=\"data row1 col96\" >XGBoost_grid_1_AutoML_20191126_024320_model_77</td>\n",
       "                        <td id=\"T_179caabc_117e_11ea_b383_80000208fe80row1_col97\" class=\"data row1 col97\" >XGBoost_grid_1_AutoML_20191126_024320_model_75</td>\n",
       "                        <td id=\"T_179caabc_117e_11ea_b383_80000208fe80row1_col98\" class=\"data row1 col98\" >XGBoost_grid_1_AutoML_20191126_024320_model_197</td>\n",
       "                        <td id=\"T_179caabc_117e_11ea_b383_80000208fe80row1_col99\" class=\"data row1 col99\" >GBM_grid_1_AutoML_20191126_024320_model_156</td>\n",
       "                        <td id=\"T_179caabc_117e_11ea_b383_80000208fe80row1_col100\" class=\"data row1 col100\" >GBM_grid_1_AutoML_20191126_024320_model_8</td>\n",
       "                        <td id=\"T_179caabc_117e_11ea_b383_80000208fe80row1_col101\" class=\"data row1 col101\" >DeepLearning_grid_1_AutoML_20191126_024320_model_1</td>\n",
       "                        <td id=\"T_179caabc_117e_11ea_b383_80000208fe80row1_col102\" class=\"data row1 col102\" >GBM_grid_1_AutoML_20191126_024320_model_184</td>\n",
       "                        <td id=\"T_179caabc_117e_11ea_b383_80000208fe80row1_col103\" class=\"data row1 col103\" >XGBoost_3_AutoML_20191126_024320</td>\n",
       "                        <td id=\"T_179caabc_117e_11ea_b383_80000208fe80row1_col104\" class=\"data row1 col104\" >DeepLearning_grid_1_AutoML_20191126_024320_model_7</td>\n",
       "                        <td id=\"T_179caabc_117e_11ea_b383_80000208fe80row1_col105\" class=\"data row1 col105\" >GBM_grid_1_AutoML_20191126_024320_model_108</td>\n",
       "                        <td id=\"T_179caabc_117e_11ea_b383_80000208fe80row1_col106\" class=\"data row1 col106\" >GBM_grid_1_AutoML_20191126_024320_model_67</td>\n",
       "                        <td id=\"T_179caabc_117e_11ea_b383_80000208fe80row1_col107\" class=\"data row1 col107\" >GBM_grid_1_AutoML_20191126_024320_model_46</td>\n",
       "                        <td id=\"T_179caabc_117e_11ea_b383_80000208fe80row1_col108\" class=\"data row1 col108\" >GBM_grid_1_AutoML_20191126_024320_model_48</td>\n",
       "                        <td id=\"T_179caabc_117e_11ea_b383_80000208fe80row1_col109\" class=\"data row1 col109\" >GBM_grid_1_AutoML_20191126_024320_model_203</td>\n",
       "                        <td id=\"T_179caabc_117e_11ea_b383_80000208fe80row1_col110\" class=\"data row1 col110\" >XGBoost_grid_1_AutoML_20191126_024320_model_130</td>\n",
       "                        <td id=\"T_179caabc_117e_11ea_b383_80000208fe80row1_col111\" class=\"data row1 col111\" >XGBoost_grid_1_AutoML_20191126_024320_model_37</td>\n",
       "                        <td id=\"T_179caabc_117e_11ea_b383_80000208fe80row1_col112\" class=\"data row1 col112\" >GBM_grid_1_AutoML_20191126_024320_model_188</td>\n",
       "                        <td id=\"T_179caabc_117e_11ea_b383_80000208fe80row1_col113\" class=\"data row1 col113\" >GBM_grid_1_AutoML_20191126_024320_model_136</td>\n",
       "                        <td id=\"T_179caabc_117e_11ea_b383_80000208fe80row1_col114\" class=\"data row1 col114\" >DeepLearning_grid_1_AutoML_20191126_024320_model_18</td>\n",
       "                        <td id=\"T_179caabc_117e_11ea_b383_80000208fe80row1_col115\" class=\"data row1 col115\" >XGBoost_grid_1_AutoML_20191126_024320_model_76</td>\n",
       "                        <td id=\"T_179caabc_117e_11ea_b383_80000208fe80row1_col116\" class=\"data row1 col116\" >GBM_grid_1_AutoML_20191126_024320_model_154</td>\n",
       "                        <td id=\"T_179caabc_117e_11ea_b383_80000208fe80row1_col117\" class=\"data row1 col117\" >GBM_grid_1_AutoML_20191126_024320_model_41</td>\n",
       "                        <td id=\"T_179caabc_117e_11ea_b383_80000208fe80row1_col118\" class=\"data row1 col118\" >GBM_grid_1_AutoML_20191126_024320_model_200</td>\n",
       "                        <td id=\"T_179caabc_117e_11ea_b383_80000208fe80row1_col119\" class=\"data row1 col119\" >XGBoost_grid_1_AutoML_20191126_024320_model_95</td>\n",
       "                        <td id=\"T_179caabc_117e_11ea_b383_80000208fe80row1_col120\" class=\"data row1 col120\" >XGBoost_grid_1_AutoML_20191126_024320_model_20</td>\n",
       "                        <td id=\"T_179caabc_117e_11ea_b383_80000208fe80row1_col121\" class=\"data row1 col121\" >GBM_grid_1_AutoML_20191126_024320_model_132</td>\n",
       "                        <td id=\"T_179caabc_117e_11ea_b383_80000208fe80row1_col122\" class=\"data row1 col122\" >XGBoost_grid_1_AutoML_20191126_024320_model_52</td>\n",
       "                        <td id=\"T_179caabc_117e_11ea_b383_80000208fe80row1_col123\" class=\"data row1 col123\" >XGBoost_grid_1_AutoML_20191126_024320_model_69</td>\n",
       "                        <td id=\"T_179caabc_117e_11ea_b383_80000208fe80row1_col124\" class=\"data row1 col124\" >GBM_grid_1_AutoML_20191126_024320_model_19</td>\n",
       "                        <td id=\"T_179caabc_117e_11ea_b383_80000208fe80row1_col125\" class=\"data row1 col125\" >GBM_grid_1_AutoML_20191126_024320_model_99</td>\n",
       "                        <td id=\"T_179caabc_117e_11ea_b383_80000208fe80row1_col126\" class=\"data row1 col126\" >XGBoost_grid_1_AutoML_20191126_024320_model_147</td>\n",
       "                        <td id=\"T_179caabc_117e_11ea_b383_80000208fe80row1_col127\" class=\"data row1 col127\" >GBM_grid_1_AutoML_20191126_024320_model_274</td>\n",
       "                        <td id=\"T_179caabc_117e_11ea_b383_80000208fe80row1_col128\" class=\"data row1 col128\" >XGBoost_grid_1_AutoML_20191126_024320_model_25</td>\n",
       "                        <td id=\"T_179caabc_117e_11ea_b383_80000208fe80row1_col129\" class=\"data row1 col129\" >DeepLearning_grid_1_AutoML_20191126_024320_model_37</td>\n",
       "                        <td id=\"T_179caabc_117e_11ea_b383_80000208fe80row1_col130\" class=\"data row1 col130\" >XGBoost_grid_1_AutoML_20191126_024320_model_68</td>\n",
       "                        <td id=\"T_179caabc_117e_11ea_b383_80000208fe80row1_col131\" class=\"data row1 col131\" >GBM_grid_1_AutoML_20191126_024320_model_119</td>\n",
       "                        <td id=\"T_179caabc_117e_11ea_b383_80000208fe80row1_col132\" class=\"data row1 col132\" >GBM_grid_1_AutoML_20191126_024320_model_222</td>\n",
       "                        <td id=\"T_179caabc_117e_11ea_b383_80000208fe80row1_col133\" class=\"data row1 col133\" >DeepLearning_grid_1_AutoML_20191126_024320_model_27</td>\n",
       "                        <td id=\"T_179caabc_117e_11ea_b383_80000208fe80row1_col134\" class=\"data row1 col134\" >GBM_grid_1_AutoML_20191126_024320_model_245</td>\n",
       "                        <td id=\"T_179caabc_117e_11ea_b383_80000208fe80row1_col135\" class=\"data row1 col135\" >XGBoost_grid_1_AutoML_20191126_024320_model_61</td>\n",
       "                        <td id=\"T_179caabc_117e_11ea_b383_80000208fe80row1_col136\" class=\"data row1 col136\" >GBM_grid_1_AutoML_20191126_024320_model_89</td>\n",
       "                        <td id=\"T_179caabc_117e_11ea_b383_80000208fe80row1_col137\" class=\"data row1 col137\" >DeepLearning_grid_1_AutoML_20191126_024320_model_11</td>\n",
       "                        <td id=\"T_179caabc_117e_11ea_b383_80000208fe80row1_col138\" class=\"data row1 col138\" >GBM_grid_1_AutoML_20191126_024320_model_32</td>\n",
       "                        <td id=\"T_179caabc_117e_11ea_b383_80000208fe80row1_col139\" class=\"data row1 col139\" >GBM_grid_1_AutoML_20191126_024320_model_248</td>\n",
       "                        <td id=\"T_179caabc_117e_11ea_b383_80000208fe80row1_col140\" class=\"data row1 col140\" >DeepLearning_grid_1_AutoML_20191126_024320_model_19</td>\n",
       "                        <td id=\"T_179caabc_117e_11ea_b383_80000208fe80row1_col141\" class=\"data row1 col141\" >GBM_grid_1_AutoML_20191126_024320_model_261</td>\n",
       "                        <td id=\"T_179caabc_117e_11ea_b383_80000208fe80row1_col142\" class=\"data row1 col142\" >GBM_1_AutoML_20191126_024320</td>\n",
       "                        <td id=\"T_179caabc_117e_11ea_b383_80000208fe80row1_col143\" class=\"data row1 col143\" >GBM_grid_1_AutoML_20191126_024320_model_52</td>\n",
       "                        <td id=\"T_179caabc_117e_11ea_b383_80000208fe80row1_col144\" class=\"data row1 col144\" >GBM_grid_1_AutoML_20191126_024320_model_148</td>\n",
       "                        <td id=\"T_179caabc_117e_11ea_b383_80000208fe80row1_col145\" class=\"data row1 col145\" >GBM_grid_1_AutoML_20191126_024320_model_242</td>\n",
       "                        <td id=\"T_179caabc_117e_11ea_b383_80000208fe80row1_col146\" class=\"data row1 col146\" >GBM_grid_1_AutoML_20191126_024320_model_147</td>\n",
       "                        <td id=\"T_179caabc_117e_11ea_b383_80000208fe80row1_col147\" class=\"data row1 col147\" >XGBoost_grid_1_AutoML_20191126_024320_model_71</td>\n",
       "                        <td id=\"T_179caabc_117e_11ea_b383_80000208fe80row1_col148\" class=\"data row1 col148\" >GBM_4_AutoML_20191126_024320</td>\n",
       "                        <td id=\"T_179caabc_117e_11ea_b383_80000208fe80row1_col149\" class=\"data row1 col149\" >GBM_grid_1_AutoML_20191126_024320_model_176</td>\n",
       "                        <td id=\"T_179caabc_117e_11ea_b383_80000208fe80row1_col150\" class=\"data row1 col150\" >GBM_grid_1_AutoML_20191126_024320_model_107</td>\n",
       "                        <td id=\"T_179caabc_117e_11ea_b383_80000208fe80row1_col151\" class=\"data row1 col151\" >GBM_grid_1_AutoML_20191126_024320_model_1</td>\n",
       "                        <td id=\"T_179caabc_117e_11ea_b383_80000208fe80row1_col152\" class=\"data row1 col152\" >XRT_1_AutoML_20191126_024320</td>\n",
       "                        <td id=\"T_179caabc_117e_11ea_b383_80000208fe80row1_col153\" class=\"data row1 col153\" >XGBoost_grid_1_AutoML_20191126_024320_model_105</td>\n",
       "                        <td id=\"T_179caabc_117e_11ea_b383_80000208fe80row1_col154\" class=\"data row1 col154\" >XGBoost_grid_1_AutoML_20191126_024320_model_17</td>\n",
       "                        <td id=\"T_179caabc_117e_11ea_b383_80000208fe80row1_col155\" class=\"data row1 col155\" >GBM_grid_1_AutoML_20191126_024320_model_225</td>\n",
       "                        <td id=\"T_179caabc_117e_11ea_b383_80000208fe80row1_col156\" class=\"data row1 col156\" >GBM_grid_1_AutoML_20191126_024320_model_165</td>\n",
       "                        <td id=\"T_179caabc_117e_11ea_b383_80000208fe80row1_col157\" class=\"data row1 col157\" >GBM_grid_1_AutoML_20191126_024320_model_284</td>\n",
       "                        <td id=\"T_179caabc_117e_11ea_b383_80000208fe80row1_col158\" class=\"data row1 col158\" >GBM_grid_1_AutoML_20191126_024320_model_111</td>\n",
       "                        <td id=\"T_179caabc_117e_11ea_b383_80000208fe80row1_col159\" class=\"data row1 col159\" >XGBoost_grid_1_AutoML_20191126_024320_model_45</td>\n",
       "                        <td id=\"T_179caabc_117e_11ea_b383_80000208fe80row1_col160\" class=\"data row1 col160\" >XGBoost_grid_1_AutoML_20191126_024320_model_150</td>\n",
       "                        <td id=\"T_179caabc_117e_11ea_b383_80000208fe80row1_col161\" class=\"data row1 col161\" >XGBoost_grid_1_AutoML_20191126_024320_model_67</td>\n",
       "                        <td id=\"T_179caabc_117e_11ea_b383_80000208fe80row1_col162\" class=\"data row1 col162\" >XGBoost_grid_1_AutoML_20191126_024320_model_33</td>\n",
       "                        <td id=\"T_179caabc_117e_11ea_b383_80000208fe80row1_col163\" class=\"data row1 col163\" >XGBoost_grid_1_AutoML_20191126_024320_model_35</td>\n",
       "                        <td id=\"T_179caabc_117e_11ea_b383_80000208fe80row1_col164\" class=\"data row1 col164\" >XGBoost_grid_1_AutoML_20191126_024320_model_126</td>\n",
       "                        <td id=\"T_179caabc_117e_11ea_b383_80000208fe80row1_col165\" class=\"data row1 col165\" >DeepLearning_grid_1_AutoML_20191126_024320_model_23</td>\n",
       "                        <td id=\"T_179caabc_117e_11ea_b383_80000208fe80row1_col166\" class=\"data row1 col166\" >GBM_grid_1_AutoML_20191126_024320_model_72</td>\n",
       "                        <td id=\"T_179caabc_117e_11ea_b383_80000208fe80row1_col167\" class=\"data row1 col167\" >DeepLearning_grid_1_AutoML_20191126_024320_model_17</td>\n",
       "                        <td id=\"T_179caabc_117e_11ea_b383_80000208fe80row1_col168\" class=\"data row1 col168\" >GBM_grid_1_AutoML_20191126_024320_model_226</td>\n",
       "                        <td id=\"T_179caabc_117e_11ea_b383_80000208fe80row1_col169\" class=\"data row1 col169\" >XGBoost_grid_1_AutoML_20191126_024320_model_171</td>\n",
       "                        <td id=\"T_179caabc_117e_11ea_b383_80000208fe80row1_col170\" class=\"data row1 col170\" >XGBoost_grid_1_AutoML_20191126_024320_model_88</td>\n",
       "                        <td id=\"T_179caabc_117e_11ea_b383_80000208fe80row1_col171\" class=\"data row1 col171\" >GBM_grid_1_AutoML_20191126_024320_model_159</td>\n",
       "                        <td id=\"T_179caabc_117e_11ea_b383_80000208fe80row1_col172\" class=\"data row1 col172\" >GBM_grid_1_AutoML_20191126_024320_model_62</td>\n",
       "                        <td id=\"T_179caabc_117e_11ea_b383_80000208fe80row1_col173\" class=\"data row1 col173\" >GBM_grid_1_AutoML_20191126_024320_model_86</td>\n",
       "                        <td id=\"T_179caabc_117e_11ea_b383_80000208fe80row1_col174\" class=\"data row1 col174\" >GBM_grid_1_AutoML_20191126_024320_model_170</td>\n",
       "                        <td id=\"T_179caabc_117e_11ea_b383_80000208fe80row1_col175\" class=\"data row1 col175\" >DeepLearning_grid_1_AutoML_20191126_024320_model_16</td>\n",
       "                        <td id=\"T_179caabc_117e_11ea_b383_80000208fe80row1_col176\" class=\"data row1 col176\" >GBM_grid_1_AutoML_20191126_024320_model_40</td>\n",
       "                        <td id=\"T_179caabc_117e_11ea_b383_80000208fe80row1_col177\" class=\"data row1 col177\" >GBM_grid_1_AutoML_20191126_024320_model_17</td>\n",
       "                        <td id=\"T_179caabc_117e_11ea_b383_80000208fe80row1_col178\" class=\"data row1 col178\" >GBM_grid_1_AutoML_20191126_024320_model_292</td>\n",
       "                        <td id=\"T_179caabc_117e_11ea_b383_80000208fe80row1_col179\" class=\"data row1 col179\" >XGBoost_grid_1_AutoML_20191126_024320_model_112</td>\n",
       "                        <td id=\"T_179caabc_117e_11ea_b383_80000208fe80row1_col180\" class=\"data row1 col180\" >DeepLearning_grid_1_AutoML_20191126_024320_model_42</td>\n",
       "                        <td id=\"T_179caabc_117e_11ea_b383_80000208fe80row1_col181\" class=\"data row1 col181\" >XGBoost_grid_1_AutoML_20191126_024320_model_31</td>\n",
       "                        <td id=\"T_179caabc_117e_11ea_b383_80000208fe80row1_col182\" class=\"data row1 col182\" >XGBoost_grid_1_AutoML_20191126_024320_model_34</td>\n",
       "                        <td id=\"T_179caabc_117e_11ea_b383_80000208fe80row1_col183\" class=\"data row1 col183\" >GBM_grid_1_AutoML_20191126_024320_model_239</td>\n",
       "                        <td id=\"T_179caabc_117e_11ea_b383_80000208fe80row1_col184\" class=\"data row1 col184\" >GBM_grid_1_AutoML_20191126_024320_model_76</td>\n",
       "                        <td id=\"T_179caabc_117e_11ea_b383_80000208fe80row1_col185\" class=\"data row1 col185\" >GBM_grid_1_AutoML_20191126_024320_model_270</td>\n",
       "                        <td id=\"T_179caabc_117e_11ea_b383_80000208fe80row1_col186\" class=\"data row1 col186\" >GBM_grid_1_AutoML_20191126_024320_model_124</td>\n",
       "                        <td id=\"T_179caabc_117e_11ea_b383_80000208fe80row1_col187\" class=\"data row1 col187\" >GBM_grid_1_AutoML_20191126_024320_model_211</td>\n",
       "                        <td id=\"T_179caabc_117e_11ea_b383_80000208fe80row1_col188\" class=\"data row1 col188\" >XGBoost_grid_1_AutoML_20191126_024320_model_185</td>\n",
       "                        <td id=\"T_179caabc_117e_11ea_b383_80000208fe80row1_col189\" class=\"data row1 col189\" >DeepLearning_grid_1_AutoML_20191126_024320_model_12</td>\n",
       "                        <td id=\"T_179caabc_117e_11ea_b383_80000208fe80row1_col190\" class=\"data row1 col190\" >DeepLearning_grid_1_AutoML_20191126_024320_model_38</td>\n",
       "                        <td id=\"T_179caabc_117e_11ea_b383_80000208fe80row1_col191\" class=\"data row1 col191\" >GBM_grid_1_AutoML_20191126_024320_model_271</td>\n",
       "                        <td id=\"T_179caabc_117e_11ea_b383_80000208fe80row1_col192\" class=\"data row1 col192\" >GBM_grid_1_AutoML_20191126_024320_model_101</td>\n",
       "                        <td id=\"T_179caabc_117e_11ea_b383_80000208fe80row1_col193\" class=\"data row1 col193\" >GBM_grid_1_AutoML_20191126_024320_model_255</td>\n",
       "                        <td id=\"T_179caabc_117e_11ea_b383_80000208fe80row1_col194\" class=\"data row1 col194\" >XGBoost_grid_1_AutoML_20191126_024320_model_172</td>\n",
       "                        <td id=\"T_179caabc_117e_11ea_b383_80000208fe80row1_col195\" class=\"data row1 col195\" >GBM_grid_1_AutoML_20191126_024320_model_13</td>\n",
       "                        <td id=\"T_179caabc_117e_11ea_b383_80000208fe80row1_col196\" class=\"data row1 col196\" >XGBoost_grid_1_AutoML_20191126_024320_model_46</td>\n",
       "                        <td id=\"T_179caabc_117e_11ea_b383_80000208fe80row1_col197\" class=\"data row1 col197\" >GBM_grid_1_AutoML_20191126_024320_model_84</td>\n",
       "                        <td id=\"T_179caabc_117e_11ea_b383_80000208fe80row1_col198\" class=\"data row1 col198\" >GBM_grid_1_AutoML_20191126_024320_model_219</td>\n",
       "                        <td id=\"T_179caabc_117e_11ea_b383_80000208fe80row1_col199\" class=\"data row1 col199\" >GBM_grid_1_AutoML_20191126_024320_model_210</td>\n",
       "                        <td id=\"T_179caabc_117e_11ea_b383_80000208fe80row1_col200\" class=\"data row1 col200\" >GBM_grid_1_AutoML_20191126_024320_model_204</td>\n",
       "                        <td id=\"T_179caabc_117e_11ea_b383_80000208fe80row1_col201\" class=\"data row1 col201\" >XGBoost_grid_1_AutoML_20191126_024320_model_90</td>\n",
       "                        <td id=\"T_179caabc_117e_11ea_b383_80000208fe80row1_col202\" class=\"data row1 col202\" >GBM_grid_1_AutoML_20191126_024320_model_229</td>\n",
       "                        <td id=\"T_179caabc_117e_11ea_b383_80000208fe80row1_col203\" class=\"data row1 col203\" >XGBoost_grid_1_AutoML_20191126_024320_model_156</td>\n",
       "                        <td id=\"T_179caabc_117e_11ea_b383_80000208fe80row1_col204\" class=\"data row1 col204\" >GBM_grid_1_AutoML_20191126_024320_model_26</td>\n",
       "                        <td id=\"T_179caabc_117e_11ea_b383_80000208fe80row1_col205\" class=\"data row1 col205\" >DeepLearning_grid_1_AutoML_20191126_024320_model_9</td>\n",
       "                        <td id=\"T_179caabc_117e_11ea_b383_80000208fe80row1_col206\" class=\"data row1 col206\" >XGBoost_grid_1_AutoML_20191126_024320_model_144</td>\n",
       "                        <td id=\"T_179caabc_117e_11ea_b383_80000208fe80row1_col207\" class=\"data row1 col207\" >XGBoost_grid_1_AutoML_20191126_024320_model_114</td>\n",
       "                        <td id=\"T_179caabc_117e_11ea_b383_80000208fe80row1_col208\" class=\"data row1 col208\" >XGBoost_grid_1_AutoML_20191126_024320_model_139</td>\n",
       "                        <td id=\"T_179caabc_117e_11ea_b383_80000208fe80row1_col209\" class=\"data row1 col209\" >XGBoost_grid_1_AutoML_20191126_024320_model_21</td>\n",
       "                        <td id=\"T_179caabc_117e_11ea_b383_80000208fe80row1_col210\" class=\"data row1 col210\" >GBM_grid_1_AutoML_20191126_024320_model_115</td>\n",
       "                        <td id=\"T_179caabc_117e_11ea_b383_80000208fe80row1_col211\" class=\"data row1 col211\" >XGBoost_grid_1_AutoML_20191126_024320_model_194</td>\n",
       "                        <td id=\"T_179caabc_117e_11ea_b383_80000208fe80row1_col212\" class=\"data row1 col212\" >XGBoost_grid_1_AutoML_20191126_024320_model_196</td>\n",
       "                        <td id=\"T_179caabc_117e_11ea_b383_80000208fe80row1_col213\" class=\"data row1 col213\" >XGBoost_grid_1_AutoML_20191126_024320_model_124</td>\n",
       "                        <td id=\"T_179caabc_117e_11ea_b383_80000208fe80row1_col214\" class=\"data row1 col214\" >XGBoost_grid_1_AutoML_20191126_024320_model_136</td>\n",
       "                        <td id=\"T_179caabc_117e_11ea_b383_80000208fe80row1_col215\" class=\"data row1 col215\" >DeepLearning_grid_1_AutoML_20191126_024320_model_5</td>\n",
       "                        <td id=\"T_179caabc_117e_11ea_b383_80000208fe80row1_col216\" class=\"data row1 col216\" >GBM_grid_1_AutoML_20191126_024320_model_35</td>\n",
       "                        <td id=\"T_179caabc_117e_11ea_b383_80000208fe80row1_col217\" class=\"data row1 col217\" >XGBoost_grid_1_AutoML_20191126_024320_model_121</td>\n",
       "                        <td id=\"T_179caabc_117e_11ea_b383_80000208fe80row1_col218\" class=\"data row1 col218\" >GBM_grid_1_AutoML_20191126_024320_model_27</td>\n",
       "                        <td id=\"T_179caabc_117e_11ea_b383_80000208fe80row1_col219\" class=\"data row1 col219\" >GBM_grid_1_AutoML_20191126_024320_model_264</td>\n",
       "                        <td id=\"T_179caabc_117e_11ea_b383_80000208fe80row1_col220\" class=\"data row1 col220\" >GBM_grid_1_AutoML_20191126_024320_model_179</td>\n",
       "                        <td id=\"T_179caabc_117e_11ea_b383_80000208fe80row1_col221\" class=\"data row1 col221\" >XGBoost_grid_1_AutoML_20191126_024320_model_18</td>\n",
       "                        <td id=\"T_179caabc_117e_11ea_b383_80000208fe80row1_col222\" class=\"data row1 col222\" >XGBoost_grid_1_AutoML_20191126_024320_model_27</td>\n",
       "                        <td id=\"T_179caabc_117e_11ea_b383_80000208fe80row1_col223\" class=\"data row1 col223\" >GBM_grid_1_AutoML_20191126_024320_model_173</td>\n",
       "                        <td id=\"T_179caabc_117e_11ea_b383_80000208fe80row1_col224\" class=\"data row1 col224\" >GBM_grid_1_AutoML_20191126_024320_model_283</td>\n",
       "                        <td id=\"T_179caabc_117e_11ea_b383_80000208fe80row1_col225\" class=\"data row1 col225\" >XGBoost_grid_1_AutoML_20191126_024320_model_167</td>\n",
       "                        <td id=\"T_179caabc_117e_11ea_b383_80000208fe80row1_col226\" class=\"data row1 col226\" >XGBoost_grid_1_AutoML_20191126_024320_model_50</td>\n",
       "                        <td id=\"T_179caabc_117e_11ea_b383_80000208fe80row1_col227\" class=\"data row1 col227\" >XGBoost_grid_1_AutoML_20191126_024320_model_145</td>\n",
       "                        <td id=\"T_179caabc_117e_11ea_b383_80000208fe80row1_col228\" class=\"data row1 col228\" >XGBoost_grid_1_AutoML_20191126_024320_model_175</td>\n",
       "                        <td id=\"T_179caabc_117e_11ea_b383_80000208fe80row1_col229\" class=\"data row1 col229\" >GBM_grid_1_AutoML_20191126_024320_model_168</td>\n",
       "                        <td id=\"T_179caabc_117e_11ea_b383_80000208fe80row1_col230\" class=\"data row1 col230\" >DeepLearning_grid_1_AutoML_20191126_024320_model_48</td>\n",
       "                        <td id=\"T_179caabc_117e_11ea_b383_80000208fe80row1_col231\" class=\"data row1 col231\" >XGBoost_grid_1_AutoML_20191126_024320_model_128</td>\n",
       "                        <td id=\"T_179caabc_117e_11ea_b383_80000208fe80row1_col232\" class=\"data row1 col232\" >XGBoost_grid_1_AutoML_20191126_024320_model_48</td>\n",
       "                        <td id=\"T_179caabc_117e_11ea_b383_80000208fe80row1_col233\" class=\"data row1 col233\" >XGBoost_grid_1_AutoML_20191126_024320_model_1</td>\n",
       "                        <td id=\"T_179caabc_117e_11ea_b383_80000208fe80row1_col234\" class=\"data row1 col234\" >GBM_grid_1_AutoML_20191126_024320_model_286</td>\n",
       "                        <td id=\"T_179caabc_117e_11ea_b383_80000208fe80row1_col235\" class=\"data row1 col235\" >XGBoost_grid_1_AutoML_20191126_024320_model_202</td>\n",
       "                        <td id=\"T_179caabc_117e_11ea_b383_80000208fe80row1_col236\" class=\"data row1 col236\" >XGBoost_grid_1_AutoML_20191126_024320_model_173</td>\n",
       "                        <td id=\"T_179caabc_117e_11ea_b383_80000208fe80row1_col237\" class=\"data row1 col237\" >XGBoost_grid_1_AutoML_20191126_024320_model_100</td>\n",
       "                        <td id=\"T_179caabc_117e_11ea_b383_80000208fe80row1_col238\" class=\"data row1 col238\" >XGBoost_grid_1_AutoML_20191126_024320_model_4</td>\n",
       "                        <td id=\"T_179caabc_117e_11ea_b383_80000208fe80row1_col239\" class=\"data row1 col239\" >XGBoost_grid_1_AutoML_20191126_024320_model_190</td>\n",
       "                        <td id=\"T_179caabc_117e_11ea_b383_80000208fe80row1_col240\" class=\"data row1 col240\" >XGBoost_grid_1_AutoML_20191126_024320_model_30</td>\n",
       "                        <td id=\"T_179caabc_117e_11ea_b383_80000208fe80row1_col241\" class=\"data row1 col241\" >GBM_grid_1_AutoML_20191126_024320_model_269</td>\n",
       "                        <td id=\"T_179caabc_117e_11ea_b383_80000208fe80row1_col242\" class=\"data row1 col242\" >GBM_grid_1_AutoML_20191126_024320_model_209</td>\n",
       "                        <td id=\"T_179caabc_117e_11ea_b383_80000208fe80row1_col243\" class=\"data row1 col243\" >XGBoost_grid_1_AutoML_20191126_024320_model_107</td>\n",
       "                        <td id=\"T_179caabc_117e_11ea_b383_80000208fe80row1_col244\" class=\"data row1 col244\" >GBM_grid_1_AutoML_20191126_024320_model_6</td>\n",
       "                        <td id=\"T_179caabc_117e_11ea_b383_80000208fe80row1_col245\" class=\"data row1 col245\" >GBM_grid_1_AutoML_20191126_024320_model_146</td>\n",
       "                        <td id=\"T_179caabc_117e_11ea_b383_80000208fe80row1_col246\" class=\"data row1 col246\" >XGBoost_grid_1_AutoML_20191126_024320_model_106</td>\n",
       "                        <td id=\"T_179caabc_117e_11ea_b383_80000208fe80row1_col247\" class=\"data row1 col247\" >XGBoost_grid_1_AutoML_20191126_024320_model_28</td>\n",
       "                        <td id=\"T_179caabc_117e_11ea_b383_80000208fe80row1_col248\" class=\"data row1 col248\" >XGBoost_grid_1_AutoML_20191126_024320_model_41</td>\n",
       "                        <td id=\"T_179caabc_117e_11ea_b383_80000208fe80row1_col249\" class=\"data row1 col249\" >GBM_grid_1_AutoML_20191126_024320_model_3</td>\n",
       "                        <td id=\"T_179caabc_117e_11ea_b383_80000208fe80row1_col250\" class=\"data row1 col250\" >XGBoost_grid_1_AutoML_20191126_024320_model_62</td>\n",
       "                        <td id=\"T_179caabc_117e_11ea_b383_80000208fe80row1_col251\" class=\"data row1 col251\" >XGBoost_grid_1_AutoML_20191126_024320_model_143</td>\n",
       "                        <td id=\"T_179caabc_117e_11ea_b383_80000208fe80row1_col252\" class=\"data row1 col252\" >GBM_grid_1_AutoML_20191126_024320_model_150</td>\n",
       "                        <td id=\"T_179caabc_117e_11ea_b383_80000208fe80row1_col253\" class=\"data row1 col253\" >GBM_grid_1_AutoML_20191126_024320_model_16</td>\n",
       "                        <td id=\"T_179caabc_117e_11ea_b383_80000208fe80row1_col254\" class=\"data row1 col254\" >GBM_grid_1_AutoML_20191126_024320_model_10</td>\n",
       "                        <td id=\"T_179caabc_117e_11ea_b383_80000208fe80row1_col255\" class=\"data row1 col255\" >GBM_grid_1_AutoML_20191126_024320_model_58</td>\n",
       "                        <td id=\"T_179caabc_117e_11ea_b383_80000208fe80row1_col256\" class=\"data row1 col256\" >GBM_grid_1_AutoML_20191126_024320_model_93</td>\n",
       "                        <td id=\"T_179caabc_117e_11ea_b383_80000208fe80row1_col257\" class=\"data row1 col257\" >XGBoost_grid_1_AutoML_20191126_024320_model_178</td>\n",
       "                        <td id=\"T_179caabc_117e_11ea_b383_80000208fe80row1_col258\" class=\"data row1 col258\" >GBM_grid_1_AutoML_20191126_024320_model_198</td>\n",
       "                        <td id=\"T_179caabc_117e_11ea_b383_80000208fe80row1_col259\" class=\"data row1 col259\" >XGBoost_grid_1_AutoML_20191126_024320_model_108</td>\n",
       "                        <td id=\"T_179caabc_117e_11ea_b383_80000208fe80row1_col260\" class=\"data row1 col260\" >GBM_grid_1_AutoML_20191126_024320_model_56</td>\n",
       "                        <td id=\"T_179caabc_117e_11ea_b383_80000208fe80row1_col261\" class=\"data row1 col261\" >GBM_grid_1_AutoML_20191126_024320_model_177</td>\n",
       "                        <td id=\"T_179caabc_117e_11ea_b383_80000208fe80row1_col262\" class=\"data row1 col262\" >XGBoost_grid_1_AutoML_20191126_024320_model_86</td>\n",
       "                        <td id=\"T_179caabc_117e_11ea_b383_80000208fe80row1_col263\" class=\"data row1 col263\" >GBM_grid_1_AutoML_20191126_024320_model_29</td>\n",
       "                        <td id=\"T_179caabc_117e_11ea_b383_80000208fe80row1_col264\" class=\"data row1 col264\" >XGBoost_grid_1_AutoML_20191126_024320_model_133</td>\n",
       "                        <td id=\"T_179caabc_117e_11ea_b383_80000208fe80row1_col265\" class=\"data row1 col265\" >GBM_grid_1_AutoML_20191126_024320_model_199</td>\n",
       "                        <td id=\"T_179caabc_117e_11ea_b383_80000208fe80row1_col266\" class=\"data row1 col266\" >GBM_grid_1_AutoML_20191126_024320_model_282</td>\n",
       "                        <td id=\"T_179caabc_117e_11ea_b383_80000208fe80row1_col267\" class=\"data row1 col267\" >XGBoost_grid_1_AutoML_20191126_024320_model_163</td>\n",
       "                        <td id=\"T_179caabc_117e_11ea_b383_80000208fe80row1_col268\" class=\"data row1 col268\" >XGBoost_grid_1_AutoML_20191126_024320_model_8</td>\n",
       "                        <td id=\"T_179caabc_117e_11ea_b383_80000208fe80row1_col269\" class=\"data row1 col269\" >GBM_grid_1_AutoML_20191126_024320_model_59</td>\n",
       "                        <td id=\"T_179caabc_117e_11ea_b383_80000208fe80row1_col270\" class=\"data row1 col270\" >XGBoost_grid_1_AutoML_20191126_024320_model_188</td>\n",
       "                        <td id=\"T_179caabc_117e_11ea_b383_80000208fe80row1_col271\" class=\"data row1 col271\" >XGBoost_grid_1_AutoML_20191126_024320_model_65</td>\n",
       "                        <td id=\"T_179caabc_117e_11ea_b383_80000208fe80row1_col272\" class=\"data row1 col272\" >GBM_grid_1_AutoML_20191126_024320_model_104</td>\n",
       "                        <td id=\"T_179caabc_117e_11ea_b383_80000208fe80row1_col273\" class=\"data row1 col273\" >GBM_grid_1_AutoML_20191126_024320_model_88</td>\n",
       "                        <td id=\"T_179caabc_117e_11ea_b383_80000208fe80row1_col274\" class=\"data row1 col274\" >XGBoost_grid_1_AutoML_20191126_024320_model_179</td>\n",
       "                        <td id=\"T_179caabc_117e_11ea_b383_80000208fe80row1_col275\" class=\"data row1 col275\" >GBM_grid_1_AutoML_20191126_024320_model_18</td>\n",
       "                        <td id=\"T_179caabc_117e_11ea_b383_80000208fe80row1_col276\" class=\"data row1 col276\" >GBM_grid_1_AutoML_20191126_024320_model_54</td>\n",
       "                        <td id=\"T_179caabc_117e_11ea_b383_80000208fe80row1_col277\" class=\"data row1 col277\" >GBM_grid_1_AutoML_20191126_024320_model_296</td>\n",
       "                        <td id=\"T_179caabc_117e_11ea_b383_80000208fe80row1_col278\" class=\"data row1 col278\" >GBM_grid_1_AutoML_20191126_024320_model_214</td>\n",
       "                        <td id=\"T_179caabc_117e_11ea_b383_80000208fe80row1_col279\" class=\"data row1 col279\" >XGBoost_grid_1_AutoML_20191126_024320_model_102</td>\n",
       "                        <td id=\"T_179caabc_117e_11ea_b383_80000208fe80row1_col280\" class=\"data row1 col280\" >XGBoost_grid_1_AutoML_20191126_024320_model_187</td>\n",
       "                        <td id=\"T_179caabc_117e_11ea_b383_80000208fe80row1_col281\" class=\"data row1 col281\" >XGBoost_grid_1_AutoML_20191126_024320_model_155</td>\n",
       "                        <td id=\"T_179caabc_117e_11ea_b383_80000208fe80row1_col282\" class=\"data row1 col282\" >GBM_grid_1_AutoML_20191126_024320_model_260</td>\n",
       "                        <td id=\"T_179caabc_117e_11ea_b383_80000208fe80row1_col283\" class=\"data row1 col283\" >XGBoost_grid_1_AutoML_20191126_024320_model_203</td>\n",
       "                        <td id=\"T_179caabc_117e_11ea_b383_80000208fe80row1_col284\" class=\"data row1 col284\" >XGBoost_2_AutoML_20191126_024320</td>\n",
       "                        <td id=\"T_179caabc_117e_11ea_b383_80000208fe80row1_col285\" class=\"data row1 col285\" >XGBoost_grid_1_AutoML_20191126_024320_model_146</td>\n",
       "                        <td id=\"T_179caabc_117e_11ea_b383_80000208fe80row1_col286\" class=\"data row1 col286\" >GBM_grid_1_AutoML_20191126_024320_model_293</td>\n",
       "                        <td id=\"T_179caabc_117e_11ea_b383_80000208fe80row1_col287\" class=\"data row1 col287\" >DeepLearning_grid_1_AutoML_20191126_024320_model_22</td>\n",
       "                        <td id=\"T_179caabc_117e_11ea_b383_80000208fe80row1_col288\" class=\"data row1 col288\" >GBM_grid_1_AutoML_20191126_024320_model_212</td>\n",
       "                        <td id=\"T_179caabc_117e_11ea_b383_80000208fe80row1_col289\" class=\"data row1 col289\" >XGBoost_grid_1_AutoML_20191126_024320_model_154</td>\n",
       "                        <td id=\"T_179caabc_117e_11ea_b383_80000208fe80row1_col290\" class=\"data row1 col290\" >GBM_grid_1_AutoML_20191126_024320_model_109</td>\n",
       "                        <td id=\"T_179caabc_117e_11ea_b383_80000208fe80row1_col291\" class=\"data row1 col291\" >GBM_grid_1_AutoML_20191126_024320_model_285</td>\n",
       "                        <td id=\"T_179caabc_117e_11ea_b383_80000208fe80row1_col292\" class=\"data row1 col292\" >XGBoost_grid_1_AutoML_20191126_024320_model_118</td>\n",
       "                        <td id=\"T_179caabc_117e_11ea_b383_80000208fe80row1_col293\" class=\"data row1 col293\" >DeepLearning_grid_1_AutoML_20191126_024320_model_10</td>\n",
       "                        <td id=\"T_179caabc_117e_11ea_b383_80000208fe80row1_col294\" class=\"data row1 col294\" >XGBoost_grid_1_AutoML_20191126_024320_model_15</td>\n",
       "                        <td id=\"T_179caabc_117e_11ea_b383_80000208fe80row1_col295\" class=\"data row1 col295\" >GBM_grid_1_AutoML_20191126_024320_model_66</td>\n",
       "                        <td id=\"T_179caabc_117e_11ea_b383_80000208fe80row1_col296\" class=\"data row1 col296\" >XGBoost_grid_1_AutoML_20191126_024320_model_183</td>\n",
       "                        <td id=\"T_179caabc_117e_11ea_b383_80000208fe80row1_col297\" class=\"data row1 col297\" >XGBoost_grid_1_AutoML_20191126_024320_model_53</td>\n",
       "                        <td id=\"T_179caabc_117e_11ea_b383_80000208fe80row1_col298\" class=\"data row1 col298\" >XGBoost_grid_1_AutoML_20191126_024320_model_198</td>\n",
       "                        <td id=\"T_179caabc_117e_11ea_b383_80000208fe80row1_col299\" class=\"data row1 col299\" >XGBoost_grid_1_AutoML_20191126_024320_model_110</td>\n",
       "                        <td id=\"T_179caabc_117e_11ea_b383_80000208fe80row1_col300\" class=\"data row1 col300\" >XGBoost_grid_1_AutoML_20191126_024320_model_58</td>\n",
       "                        <td id=\"T_179caabc_117e_11ea_b383_80000208fe80row1_col301\" class=\"data row1 col301\" >XGBoost_grid_1_AutoML_20191126_024320_model_55</td>\n",
       "                        <td id=\"T_179caabc_117e_11ea_b383_80000208fe80row1_col302\" class=\"data row1 col302\" >GBM_grid_1_AutoML_20191126_024320_model_77</td>\n",
       "                        <td id=\"T_179caabc_117e_11ea_b383_80000208fe80row1_col303\" class=\"data row1 col303\" >XGBoost_grid_1_AutoML_20191126_024320_model_137</td>\n",
       "                        <td id=\"T_179caabc_117e_11ea_b383_80000208fe80row1_col304\" class=\"data row1 col304\" >XGBoost_grid_1_AutoML_20191126_024320_model_2</td>\n",
       "                        <td id=\"T_179caabc_117e_11ea_b383_80000208fe80row1_col305\" class=\"data row1 col305\" >XGBoost_grid_1_AutoML_20191126_024320_model_80</td>\n",
       "                        <td id=\"T_179caabc_117e_11ea_b383_80000208fe80row1_col306\" class=\"data row1 col306\" >XGBoost_grid_1_AutoML_20191126_024320_model_140</td>\n",
       "                        <td id=\"T_179caabc_117e_11ea_b383_80000208fe80row1_col307\" class=\"data row1 col307\" >GBM_grid_1_AutoML_20191126_024320_model_114</td>\n",
       "                        <td id=\"T_179caabc_117e_11ea_b383_80000208fe80row1_col308\" class=\"data row1 col308\" >XGBoost_grid_1_AutoML_20191126_024320_model_119</td>\n",
       "                        <td id=\"T_179caabc_117e_11ea_b383_80000208fe80row1_col309\" class=\"data row1 col309\" >GBM_grid_1_AutoML_20191126_024320_model_75</td>\n",
       "                        <td id=\"T_179caabc_117e_11ea_b383_80000208fe80row1_col310\" class=\"data row1 col310\" >GBM_grid_1_AutoML_20191126_024320_model_68</td>\n",
       "                        <td id=\"T_179caabc_117e_11ea_b383_80000208fe80row1_col311\" class=\"data row1 col311\" >XGBoost_grid_1_AutoML_20191126_024320_model_199</td>\n",
       "                        <td id=\"T_179caabc_117e_11ea_b383_80000208fe80row1_col312\" class=\"data row1 col312\" >XGBoost_grid_1_AutoML_20191126_024320_model_36</td>\n",
       "                        <td id=\"T_179caabc_117e_11ea_b383_80000208fe80row1_col313\" class=\"data row1 col313\" >GBM_grid_1_AutoML_20191126_024320_model_231</td>\n",
       "                        <td id=\"T_179caabc_117e_11ea_b383_80000208fe80row1_col314\" class=\"data row1 col314\" >XGBoost_grid_1_AutoML_20191126_024320_model_7</td>\n",
       "                        <td id=\"T_179caabc_117e_11ea_b383_80000208fe80row1_col315\" class=\"data row1 col315\" >XGBoost_grid_1_AutoML_20191126_024320_model_122</td>\n",
       "                        <td id=\"T_179caabc_117e_11ea_b383_80000208fe80row1_col316\" class=\"data row1 col316\" >XGBoost_grid_1_AutoML_20191126_024320_model_109</td>\n",
       "                        <td id=\"T_179caabc_117e_11ea_b383_80000208fe80row1_col317\" class=\"data row1 col317\" >XGBoost_grid_1_AutoML_20191126_024320_model_12</td>\n",
       "                        <td id=\"T_179caabc_117e_11ea_b383_80000208fe80row1_col318\" class=\"data row1 col318\" >XGBoost_grid_1_AutoML_20191126_024320_model_74</td>\n",
       "                        <td id=\"T_179caabc_117e_11ea_b383_80000208fe80row1_col319\" class=\"data row1 col319\" >GBM_grid_1_AutoML_20191126_024320_model_160</td>\n",
       "                        <td id=\"T_179caabc_117e_11ea_b383_80000208fe80row1_col320\" class=\"data row1 col320\" >XGBoost_grid_1_AutoML_20191126_024320_model_193</td>\n",
       "                        <td id=\"T_179caabc_117e_11ea_b383_80000208fe80row1_col321\" class=\"data row1 col321\" >XGBoost_grid_1_AutoML_20191126_024320_model_70</td>\n",
       "                        <td id=\"T_179caabc_117e_11ea_b383_80000208fe80row1_col322\" class=\"data row1 col322\" >GBM_grid_1_AutoML_20191126_024320_model_92</td>\n",
       "                        <td id=\"T_179caabc_117e_11ea_b383_80000208fe80row1_col323\" class=\"data row1 col323\" >GBM_grid_1_AutoML_20191126_024320_model_294</td>\n",
       "                        <td id=\"T_179caabc_117e_11ea_b383_80000208fe80row1_col324\" class=\"data row1 col324\" >XGBoost_grid_1_AutoML_20191126_024320_model_3</td>\n",
       "                        <td id=\"T_179caabc_117e_11ea_b383_80000208fe80row1_col325\" class=\"data row1 col325\" >GBM_grid_1_AutoML_20191126_024320_model_279</td>\n",
       "                        <td id=\"T_179caabc_117e_11ea_b383_80000208fe80row1_col326\" class=\"data row1 col326\" >GBM_grid_1_AutoML_20191126_024320_model_42</td>\n",
       "                        <td id=\"T_179caabc_117e_11ea_b383_80000208fe80row1_col327\" class=\"data row1 col327\" >GBM_grid_1_AutoML_20191126_024320_model_130</td>\n",
       "                        <td id=\"T_179caabc_117e_11ea_b383_80000208fe80row1_col328\" class=\"data row1 col328\" >XGBoost_grid_1_AutoML_20191126_024320_model_135</td>\n",
       "                        <td id=\"T_179caabc_117e_11ea_b383_80000208fe80row1_col329\" class=\"data row1 col329\" >XGBoost_grid_1_AutoML_20191126_024320_model_101</td>\n",
       "                        <td id=\"T_179caabc_117e_11ea_b383_80000208fe80row1_col330\" class=\"data row1 col330\" >XGBoost_grid_1_AutoML_20191126_024320_model_189</td>\n",
       "                        <td id=\"T_179caabc_117e_11ea_b383_80000208fe80row1_col331\" class=\"data row1 col331\" >XGBoost_grid_1_AutoML_20191126_024320_model_49</td>\n",
       "                        <td id=\"T_179caabc_117e_11ea_b383_80000208fe80row1_col332\" class=\"data row1 col332\" >XGBoost_grid_1_AutoML_20191126_024320_model_63</td>\n",
       "                        <td id=\"T_179caabc_117e_11ea_b383_80000208fe80row1_col333\" class=\"data row1 col333\" >XGBoost_grid_1_AutoML_20191126_024320_model_23</td>\n",
       "                        <td id=\"T_179caabc_117e_11ea_b383_80000208fe80row1_col334\" class=\"data row1 col334\" >XGBoost_grid_1_AutoML_20191126_024320_model_29</td>\n",
       "                        <td id=\"T_179caabc_117e_11ea_b383_80000208fe80row1_col335\" class=\"data row1 col335\" >GBM_grid_1_AutoML_20191126_024320_model_172</td>\n",
       "                        <td id=\"T_179caabc_117e_11ea_b383_80000208fe80row1_col336\" class=\"data row1 col336\" >GBM_grid_1_AutoML_20191126_024320_model_192</td>\n",
       "                        <td id=\"T_179caabc_117e_11ea_b383_80000208fe80row1_col337\" class=\"data row1 col337\" >GBM_grid_1_AutoML_20191126_024320_model_246</td>\n",
       "                        <td id=\"T_179caabc_117e_11ea_b383_80000208fe80row1_col338\" class=\"data row1 col338\" >XGBoost_grid_1_AutoML_20191126_024320_model_153</td>\n",
       "                        <td id=\"T_179caabc_117e_11ea_b383_80000208fe80row1_col339\" class=\"data row1 col339\" >GBM_grid_1_AutoML_20191126_024320_model_112</td>\n",
       "                        <td id=\"T_179caabc_117e_11ea_b383_80000208fe80row1_col340\" class=\"data row1 col340\" >GLM_grid_1_AutoML_20191126_024320_model_1</td>\n",
       "                        <td id=\"T_179caabc_117e_11ea_b383_80000208fe80row1_col341\" class=\"data row1 col341\" >XGBoost_grid_1_AutoML_20191126_024320_model_116</td>\n",
       "                        <td id=\"T_179caabc_117e_11ea_b383_80000208fe80row1_col342\" class=\"data row1 col342\" >XGBoost_grid_1_AutoML_20191126_024320_model_92</td>\n",
       "                        <td id=\"T_179caabc_117e_11ea_b383_80000208fe80row1_col343\" class=\"data row1 col343\" >XGBoost_grid_1_AutoML_20191126_024320_model_42</td>\n",
       "                        <td id=\"T_179caabc_117e_11ea_b383_80000208fe80row1_col344\" class=\"data row1 col344\" >XGBoost_grid_1_AutoML_20191126_024320_model_184</td>\n",
       "                        <td id=\"T_179caabc_117e_11ea_b383_80000208fe80row1_col345\" class=\"data row1 col345\" >GBM_grid_1_AutoML_20191126_024320_model_232</td>\n",
       "                        <td id=\"T_179caabc_117e_11ea_b383_80000208fe80row1_col346\" class=\"data row1 col346\" >DeepLearning_grid_1_AutoML_20191126_024320_model_50</td>\n",
       "                        <td id=\"T_179caabc_117e_11ea_b383_80000208fe80row1_col347\" class=\"data row1 col347\" >XGBoost_grid_1_AutoML_20191126_024320_model_26</td>\n",
       "                        <td id=\"T_179caabc_117e_11ea_b383_80000208fe80row1_col348\" class=\"data row1 col348\" >GBM_grid_1_AutoML_20191126_024320_model_149</td>\n",
       "                        <td id=\"T_179caabc_117e_11ea_b383_80000208fe80row1_col349\" class=\"data row1 col349\" >XGBoost_grid_1_AutoML_20191126_024320_model_5</td>\n",
       "                        <td id=\"T_179caabc_117e_11ea_b383_80000208fe80row1_col350\" class=\"data row1 col350\" >XGBoost_grid_1_AutoML_20191126_024320_model_123</td>\n",
       "                        <td id=\"T_179caabc_117e_11ea_b383_80000208fe80row1_col351\" class=\"data row1 col351\" >XGBoost_grid_1_AutoML_20191126_024320_model_180</td>\n",
       "                        <td id=\"T_179caabc_117e_11ea_b383_80000208fe80row1_col352\" class=\"data row1 col352\" >GBM_grid_1_AutoML_20191126_024320_model_166</td>\n",
       "                        <td id=\"T_179caabc_117e_11ea_b383_80000208fe80row1_col353\" class=\"data row1 col353\" >XGBoost_grid_1_AutoML_20191126_024320_model_125</td>\n",
       "                        <td id=\"T_179caabc_117e_11ea_b383_80000208fe80row1_col354\" class=\"data row1 col354\" >XGBoost_grid_1_AutoML_20191126_024320_model_98</td>\n",
       "                        <td id=\"T_179caabc_117e_11ea_b383_80000208fe80row1_col355\" class=\"data row1 col355\" >XGBoost_grid_1_AutoML_20191126_024320_model_56</td>\n",
       "                        <td id=\"T_179caabc_117e_11ea_b383_80000208fe80row1_col356\" class=\"data row1 col356\" >GBM_grid_1_AutoML_20191126_024320_model_85</td>\n",
       "                        <td id=\"T_179caabc_117e_11ea_b383_80000208fe80row1_col357\" class=\"data row1 col357\" >GBM_grid_1_AutoML_20191126_024320_model_262</td>\n",
       "                        <td id=\"T_179caabc_117e_11ea_b383_80000208fe80row1_col358\" class=\"data row1 col358\" >GBM_grid_1_AutoML_20191126_024320_model_205</td>\n",
       "                        <td id=\"T_179caabc_117e_11ea_b383_80000208fe80row1_col359\" class=\"data row1 col359\" >GBM_grid_1_AutoML_20191126_024320_model_253</td>\n",
       "                        <td id=\"T_179caabc_117e_11ea_b383_80000208fe80row1_col360\" class=\"data row1 col360\" >XGBoost_grid_1_AutoML_20191126_024320_model_32</td>\n",
       "                        <td id=\"T_179caabc_117e_11ea_b383_80000208fe80row1_col361\" class=\"data row1 col361\" >XGBoost_grid_1_AutoML_20191126_024320_model_162</td>\n",
       "                        <td id=\"T_179caabc_117e_11ea_b383_80000208fe80row1_col362\" class=\"data row1 col362\" >GBM_grid_1_AutoML_20191126_024320_model_43</td>\n",
       "                        <td id=\"T_179caabc_117e_11ea_b383_80000208fe80row1_col363\" class=\"data row1 col363\" >XGBoost_grid_1_AutoML_20191126_024320_model_19</td>\n",
       "                        <td id=\"T_179caabc_117e_11ea_b383_80000208fe80row1_col364\" class=\"data row1 col364\" >GBM_grid_1_AutoML_20191126_024320_model_259</td>\n",
       "                        <td id=\"T_179caabc_117e_11ea_b383_80000208fe80row1_col365\" class=\"data row1 col365\" >GBM_grid_1_AutoML_20191126_024320_model_272</td>\n",
       "                        <td id=\"T_179caabc_117e_11ea_b383_80000208fe80row1_col366\" class=\"data row1 col366\" >GBM_grid_1_AutoML_20191126_024320_model_128</td>\n",
       "                        <td id=\"T_179caabc_117e_11ea_b383_80000208fe80row1_col367\" class=\"data row1 col367\" >GBM_grid_1_AutoML_20191126_024320_model_9</td>\n",
       "                        <td id=\"T_179caabc_117e_11ea_b383_80000208fe80row1_col368\" class=\"data row1 col368\" >XGBoost_grid_1_AutoML_20191126_024320_model_148</td>\n",
       "                        <td id=\"T_179caabc_117e_11ea_b383_80000208fe80row1_col369\" class=\"data row1 col369\" >GBM_grid_1_AutoML_20191126_024320_model_45</td>\n",
       "                        <td id=\"T_179caabc_117e_11ea_b383_80000208fe80row1_col370\" class=\"data row1 col370\" >GBM_grid_1_AutoML_20191126_024320_model_21</td>\n",
       "                        <td id=\"T_179caabc_117e_11ea_b383_80000208fe80row1_col371\" class=\"data row1 col371\" >XGBoost_grid_1_AutoML_20191126_024320_model_169</td>\n",
       "                        <td id=\"T_179caabc_117e_11ea_b383_80000208fe80row1_col372\" class=\"data row1 col372\" >XGBoost_grid_1_AutoML_20191126_024320_model_103</td>\n",
       "                        <td id=\"T_179caabc_117e_11ea_b383_80000208fe80row1_col373\" class=\"data row1 col373\" >XGBoost_grid_1_AutoML_20191126_024320_model_157</td>\n",
       "                        <td id=\"T_179caabc_117e_11ea_b383_80000208fe80row1_col374\" class=\"data row1 col374\" >GBM_grid_1_AutoML_20191126_024320_model_122</td>\n",
       "                        <td id=\"T_179caabc_117e_11ea_b383_80000208fe80row1_col375\" class=\"data row1 col375\" >XGBoost_grid_1_AutoML_20191126_024320_model_201</td>\n",
       "                        <td id=\"T_179caabc_117e_11ea_b383_80000208fe80row1_col376\" class=\"data row1 col376\" >GBM_grid_1_AutoML_20191126_024320_model_217</td>\n",
       "                        <td id=\"T_179caabc_117e_11ea_b383_80000208fe80row1_col377\" class=\"data row1 col377\" >XGBoost_grid_1_AutoML_20191126_024320_model_151</td>\n",
       "                        <td id=\"T_179caabc_117e_11ea_b383_80000208fe80row1_col378\" class=\"data row1 col378\" >XGBoost_grid_1_AutoML_20191126_024320_model_39</td>\n",
       "                        <td id=\"T_179caabc_117e_11ea_b383_80000208fe80row1_col379\" class=\"data row1 col379\" >GBM_grid_1_AutoML_20191126_024320_model_57</td>\n",
       "                        <td id=\"T_179caabc_117e_11ea_b383_80000208fe80row1_col380\" class=\"data row1 col380\" >GBM_grid_1_AutoML_20191126_024320_model_190</td>\n",
       "                        <td id=\"T_179caabc_117e_11ea_b383_80000208fe80row1_col381\" class=\"data row1 col381\" >GBM_grid_1_AutoML_20191126_024320_model_213</td>\n",
       "                        <td id=\"T_179caabc_117e_11ea_b383_80000208fe80row1_col382\" class=\"data row1 col382\" >XGBoost_grid_1_AutoML_20191126_024320_model_43</td>\n",
       "                        <td id=\"T_179caabc_117e_11ea_b383_80000208fe80row1_col383\" class=\"data row1 col383\" >XGBoost_grid_1_AutoML_20191126_024320_model_47</td>\n",
       "                        <td id=\"T_179caabc_117e_11ea_b383_80000208fe80row1_col384\" class=\"data row1 col384\" >GBM_grid_1_AutoML_20191126_024320_model_207</td>\n",
       "                        <td id=\"T_179caabc_117e_11ea_b383_80000208fe80row1_col385\" class=\"data row1 col385\" >DeepLearning_grid_1_AutoML_20191126_024320_model_39</td>\n",
       "                        <td id=\"T_179caabc_117e_11ea_b383_80000208fe80row1_col386\" class=\"data row1 col386\" >GBM_grid_1_AutoML_20191126_024320_model_69</td>\n",
       "                        <td id=\"T_179caabc_117e_11ea_b383_80000208fe80row1_col387\" class=\"data row1 col387\" >XGBoost_grid_1_AutoML_20191126_024320_model_94</td>\n",
       "                        <td id=\"T_179caabc_117e_11ea_b383_80000208fe80row1_col388\" class=\"data row1 col388\" >XGBoost_grid_1_AutoML_20191126_024320_model_66</td>\n",
       "                        <td id=\"T_179caabc_117e_11ea_b383_80000208fe80row1_col389\" class=\"data row1 col389\" >GBM_grid_1_AutoML_20191126_024320_model_295</td>\n",
       "                        <td id=\"T_179caabc_117e_11ea_b383_80000208fe80row1_col390\" class=\"data row1 col390\" >GBM_grid_1_AutoML_20191126_024320_model_194</td>\n",
       "                        <td id=\"T_179caabc_117e_11ea_b383_80000208fe80row1_col391\" class=\"data row1 col391\" >GBM_grid_1_AutoML_20191126_024320_model_49</td>\n",
       "                        <td id=\"T_179caabc_117e_11ea_b383_80000208fe80row1_col392\" class=\"data row1 col392\" >GBM_grid_1_AutoML_20191126_024320_model_80</td>\n",
       "                        <td id=\"T_179caabc_117e_11ea_b383_80000208fe80row1_col393\" class=\"data row1 col393\" >XGBoost_grid_1_AutoML_20191126_024320_model_186</td>\n",
       "                        <td id=\"T_179caabc_117e_11ea_b383_80000208fe80row1_col394\" class=\"data row1 col394\" >GBM_grid_1_AutoML_20191126_024320_model_11</td>\n",
       "                        <td id=\"T_179caabc_117e_11ea_b383_80000208fe80row1_col395\" class=\"data row1 col395\" >GBM_grid_1_AutoML_20191126_024320_model_63</td>\n",
       "                        <td id=\"T_179caabc_117e_11ea_b383_80000208fe80row1_col396\" class=\"data row1 col396\" >GBM_grid_1_AutoML_20191126_024320_model_73</td>\n",
       "                        <td id=\"T_179caabc_117e_11ea_b383_80000208fe80row1_col397\" class=\"data row1 col397\" >GBM_grid_1_AutoML_20191126_024320_model_263</td>\n",
       "                        <td id=\"T_179caabc_117e_11ea_b383_80000208fe80row1_col398\" class=\"data row1 col398\" >XGBoost_grid_1_AutoML_20191126_024320_model_111</td>\n",
       "                        <td id=\"T_179caabc_117e_11ea_b383_80000208fe80row1_col399\" class=\"data row1 col399\" >GBM_grid_1_AutoML_20191126_024320_model_227</td>\n",
       "                        <td id=\"T_179caabc_117e_11ea_b383_80000208fe80row1_col400\" class=\"data row1 col400\" >XGBoost_grid_1_AutoML_20191126_024320_model_87</td>\n",
       "                        <td id=\"T_179caabc_117e_11ea_b383_80000208fe80row1_col401\" class=\"data row1 col401\" >GBM_grid_1_AutoML_20191126_024320_model_266</td>\n",
       "                        <td id=\"T_179caabc_117e_11ea_b383_80000208fe80row1_col402\" class=\"data row1 col402\" >XGBoost_grid_1_AutoML_20191126_024320_model_104</td>\n",
       "                        <td id=\"T_179caabc_117e_11ea_b383_80000208fe80row1_col403\" class=\"data row1 col403\" >GBM_grid_1_AutoML_20191126_024320_model_142</td>\n",
       "                        <td id=\"T_179caabc_117e_11ea_b383_80000208fe80row1_col404\" class=\"data row1 col404\" >GBM_grid_1_AutoML_20191126_024320_model_171</td>\n",
       "                        <td id=\"T_179caabc_117e_11ea_b383_80000208fe80row1_col405\" class=\"data row1 col405\" >XGBoost_grid_1_AutoML_20191126_024320_model_168</td>\n",
       "                        <td id=\"T_179caabc_117e_11ea_b383_80000208fe80row1_col406\" class=\"data row1 col406\" >GBM_grid_1_AutoML_20191126_024320_model_220</td>\n",
       "                        <td id=\"T_179caabc_117e_11ea_b383_80000208fe80row1_col407\" class=\"data row1 col407\" >GBM_grid_1_AutoML_20191126_024320_model_38</td>\n",
       "                        <td id=\"T_179caabc_117e_11ea_b383_80000208fe80row1_col408\" class=\"data row1 col408\" >GBM_grid_1_AutoML_20191126_024320_model_218</td>\n",
       "                        <td id=\"T_179caabc_117e_11ea_b383_80000208fe80row1_col409\" class=\"data row1 col409\" >XGBoost_grid_1_AutoML_20191126_024320_model_60</td>\n",
       "                        <td id=\"T_179caabc_117e_11ea_b383_80000208fe80row1_col410\" class=\"data row1 col410\" >XGBoost_grid_1_AutoML_20191126_024320_model_40</td>\n",
       "                        <td id=\"T_179caabc_117e_11ea_b383_80000208fe80row1_col411\" class=\"data row1 col411\" >GBM_grid_1_AutoML_20191126_024320_model_102</td>\n",
       "                        <td id=\"T_179caabc_117e_11ea_b383_80000208fe80row1_col412\" class=\"data row1 col412\" >GBM_grid_1_AutoML_20191126_024320_model_7</td>\n",
       "                        <td id=\"T_179caabc_117e_11ea_b383_80000208fe80row1_col413\" class=\"data row1 col413\" >GBM_grid_1_AutoML_20191126_024320_model_78</td>\n",
       "                        <td id=\"T_179caabc_117e_11ea_b383_80000208fe80row1_col414\" class=\"data row1 col414\" >GBM_grid_1_AutoML_20191126_024320_model_251</td>\n",
       "                        <td id=\"T_179caabc_117e_11ea_b383_80000208fe80row1_col415\" class=\"data row1 col415\" >XGBoost_grid_1_AutoML_20191126_024320_model_59</td>\n",
       "                        <td id=\"T_179caabc_117e_11ea_b383_80000208fe80row1_col416\" class=\"data row1 col416\" >GBM_grid_1_AutoML_20191126_024320_model_243</td>\n",
       "                        <td id=\"T_179caabc_117e_11ea_b383_80000208fe80row1_col417\" class=\"data row1 col417\" >GBM_grid_1_AutoML_20191126_024320_model_61</td>\n",
       "                        <td id=\"T_179caabc_117e_11ea_b383_80000208fe80row1_col418\" class=\"data row1 col418\" >XGBoost_grid_1_AutoML_20191126_024320_model_24</td>\n",
       "                        <td id=\"T_179caabc_117e_11ea_b383_80000208fe80row1_col419\" class=\"data row1 col419\" >GBM_grid_1_AutoML_20191126_024320_model_81</td>\n",
       "                        <td id=\"T_179caabc_117e_11ea_b383_80000208fe80row1_col420\" class=\"data row1 col420\" >XGBoost_grid_1_AutoML_20191126_024320_model_117</td>\n",
       "                        <td id=\"T_179caabc_117e_11ea_b383_80000208fe80row1_col421\" class=\"data row1 col421\" >XGBoost_grid_1_AutoML_20191126_024320_model_191</td>\n",
       "                        <td id=\"T_179caabc_117e_11ea_b383_80000208fe80row1_col422\" class=\"data row1 col422\" >XGBoost_grid_1_AutoML_20191126_024320_model_14</td>\n",
       "                        <td id=\"T_179caabc_117e_11ea_b383_80000208fe80row1_col423\" class=\"data row1 col423\" >DeepLearning_grid_1_AutoML_20191126_024320_model_41</td>\n",
       "                        <td id=\"T_179caabc_117e_11ea_b383_80000208fe80row1_col424\" class=\"data row1 col424\" >XGBoost_grid_1_AutoML_20191126_024320_model_44</td>\n",
       "                        <td id=\"T_179caabc_117e_11ea_b383_80000208fe80row1_col425\" class=\"data row1 col425\" >GBM_grid_1_AutoML_20191126_024320_model_208</td>\n",
       "                        <td id=\"T_179caabc_117e_11ea_b383_80000208fe80row1_col426\" class=\"data row1 col426\" >GBM_grid_1_AutoML_20191126_024320_model_140</td>\n",
       "                        <td id=\"T_179caabc_117e_11ea_b383_80000208fe80row1_col427\" class=\"data row1 col427\" >XGBoost_grid_1_AutoML_20191126_024320_model_64</td>\n",
       "                        <td id=\"T_179caabc_117e_11ea_b383_80000208fe80row1_col428\" class=\"data row1 col428\" >XGBoost_grid_1_AutoML_20191126_024320_model_177</td>\n",
       "                        <td id=\"T_179caabc_117e_11ea_b383_80000208fe80row1_col429\" class=\"data row1 col429\" >XGBoost_grid_1_AutoML_20191126_024320_model_78</td>\n",
       "                        <td id=\"T_179caabc_117e_11ea_b383_80000208fe80row1_col430\" class=\"data row1 col430\" >XGBoost_grid_1_AutoML_20191126_024320_model_10</td>\n",
       "                        <td id=\"T_179caabc_117e_11ea_b383_80000208fe80row1_col431\" class=\"data row1 col431\" >XGBoost_grid_1_AutoML_20191126_024320_model_170</td>\n",
       "                        <td id=\"T_179caabc_117e_11ea_b383_80000208fe80row1_col432\" class=\"data row1 col432\" >GBM_grid_1_AutoML_20191126_024320_model_74</td>\n",
       "                        <td id=\"T_179caabc_117e_11ea_b383_80000208fe80row1_col433\" class=\"data row1 col433\" >XGBoost_grid_1_AutoML_20191126_024320_model_132</td>\n",
       "                        <td id=\"T_179caabc_117e_11ea_b383_80000208fe80row1_col434\" class=\"data row1 col434\" >GBM_grid_1_AutoML_20191126_024320_model_233</td>\n",
       "                        <td id=\"T_179caabc_117e_11ea_b383_80000208fe80row1_col435\" class=\"data row1 col435\" >XGBoost_grid_1_AutoML_20191126_024320_model_22</td>\n",
       "                        <td id=\"T_179caabc_117e_11ea_b383_80000208fe80row1_col436\" class=\"data row1 col436\" >XGBoost_grid_1_AutoML_20191126_024320_model_11</td>\n",
       "                        <td id=\"T_179caabc_117e_11ea_b383_80000208fe80row1_col437\" class=\"data row1 col437\" >XGBoost_grid_1_AutoML_20191126_024320_model_131</td>\n",
       "                        <td id=\"T_179caabc_117e_11ea_b383_80000208fe80row1_col438\" class=\"data row1 col438\" >XGBoost_grid_1_AutoML_20191126_024320_model_82</td>\n",
       "                        <td id=\"T_179caabc_117e_11ea_b383_80000208fe80row1_col439\" class=\"data row1 col439\" >GBM_grid_1_AutoML_20191126_024320_model_234</td>\n",
       "                        <td id=\"T_179caabc_117e_11ea_b383_80000208fe80row1_col440\" class=\"data row1 col440\" >GBM_grid_1_AutoML_20191126_024320_model_118</td>\n",
       "                        <td id=\"T_179caabc_117e_11ea_b383_80000208fe80row1_col441\" class=\"data row1 col441\" >GBM_grid_1_AutoML_20191126_024320_model_158</td>\n",
       "                        <td id=\"T_179caabc_117e_11ea_b383_80000208fe80row1_col442\" class=\"data row1 col442\" >GBM_grid_1_AutoML_20191126_024320_model_4</td>\n",
       "                        <td id=\"T_179caabc_117e_11ea_b383_80000208fe80row1_col443\" class=\"data row1 col443\" >XGBoost_grid_1_AutoML_20191126_024320_model_134</td>\n",
       "                        <td id=\"T_179caabc_117e_11ea_b383_80000208fe80row1_col444\" class=\"data row1 col444\" >XGBoost_grid_1_AutoML_20191126_024320_model_93</td>\n",
       "                        <td id=\"T_179caabc_117e_11ea_b383_80000208fe80row1_col445\" class=\"data row1 col445\" >XGBoost_grid_1_AutoML_20191126_024320_model_138</td>\n",
       "                        <td id=\"T_179caabc_117e_11ea_b383_80000208fe80row1_col446\" class=\"data row1 col446\" >GBM_grid_1_AutoML_20191126_024320_model_97</td>\n",
       "                        <td id=\"T_179caabc_117e_11ea_b383_80000208fe80row1_col447\" class=\"data row1 col447\" >XGBoost_grid_1_AutoML_20191126_024320_model_174</td>\n",
       "                        <td id=\"T_179caabc_117e_11ea_b383_80000208fe80row1_col448\" class=\"data row1 col448\" >DeepLearning_grid_1_AutoML_20191126_024320_model_51</td>\n",
       "                        <td id=\"T_179caabc_117e_11ea_b383_80000208fe80row1_col449\" class=\"data row1 col449\" >GBM_grid_1_AutoML_20191126_024320_model_110</td>\n",
       "                        <td id=\"T_179caabc_117e_11ea_b383_80000208fe80row1_col450\" class=\"data row1 col450\" >GBM_grid_1_AutoML_20191126_024320_model_24</td>\n",
       "                        <td id=\"T_179caabc_117e_11ea_b383_80000208fe80row1_col451\" class=\"data row1 col451\" >GBM_grid_1_AutoML_20191126_024320_model_215</td>\n",
       "                        <td id=\"T_179caabc_117e_11ea_b383_80000208fe80row1_col452\" class=\"data row1 col452\" >DeepLearning_grid_1_AutoML_20191126_024320_model_29</td>\n",
       "                        <td id=\"T_179caabc_117e_11ea_b383_80000208fe80row1_col453\" class=\"data row1 col453\" >XGBoost_grid_1_AutoML_20191126_024320_model_79</td>\n",
       "                        <td id=\"T_179caabc_117e_11ea_b383_80000208fe80row1_col454\" class=\"data row1 col454\" >XGBoost_grid_1_AutoML_20191126_024320_model_54</td>\n",
       "                        <td id=\"T_179caabc_117e_11ea_b383_80000208fe80row1_col455\" class=\"data row1 col455\" >GBM_grid_1_AutoML_20191126_024320_model_23</td>\n",
       "                        <td id=\"T_179caabc_117e_11ea_b383_80000208fe80row1_col456\" class=\"data row1 col456\" >GBM_grid_1_AutoML_20191126_024320_model_37</td>\n",
       "                        <td id=\"T_179caabc_117e_11ea_b383_80000208fe80row1_col457\" class=\"data row1 col457\" >XGBoost_grid_1_AutoML_20191126_024320_model_72</td>\n",
       "                        <td id=\"T_179caabc_117e_11ea_b383_80000208fe80row1_col458\" class=\"data row1 col458\" >GBM_grid_1_AutoML_20191126_024320_model_116</td>\n",
       "                        <td id=\"T_179caabc_117e_11ea_b383_80000208fe80row1_col459\" class=\"data row1 col459\" >XGBoost_grid_1_AutoML_20191126_024320_model_6</td>\n",
       "                        <td id=\"T_179caabc_117e_11ea_b383_80000208fe80row1_col460\" class=\"data row1 col460\" >XGBoost_grid_1_AutoML_20191126_024320_model_73</td>\n",
       "                        <td id=\"T_179caabc_117e_11ea_b383_80000208fe80row1_col461\" class=\"data row1 col461\" >GBM_grid_1_AutoML_20191126_024320_model_244</td>\n",
       "                        <td id=\"T_179caabc_117e_11ea_b383_80000208fe80row1_col462\" class=\"data row1 col462\" >GBM_grid_1_AutoML_20191126_024320_model_123</td>\n",
       "                        <td id=\"T_179caabc_117e_11ea_b383_80000208fe80row1_col463\" class=\"data row1 col463\" >GBM_grid_1_AutoML_20191126_024320_model_127</td>\n",
       "                        <td id=\"T_179caabc_117e_11ea_b383_80000208fe80row1_col464\" class=\"data row1 col464\" >GBM_grid_1_AutoML_20191126_024320_model_197</td>\n",
       "                        <td id=\"T_179caabc_117e_11ea_b383_80000208fe80row1_col465\" class=\"data row1 col465\" >XGBoost_grid_1_AutoML_20191126_024320_model_89</td>\n",
       "                        <td id=\"T_179caabc_117e_11ea_b383_80000208fe80row1_col466\" class=\"data row1 col466\" >XGBoost_grid_1_AutoML_20191126_024320_model_195</td>\n",
       "                        <td id=\"T_179caabc_117e_11ea_b383_80000208fe80row1_col467\" class=\"data row1 col467\" >XGBoost_grid_1_AutoML_20191126_024320_model_120</td>\n",
       "                        <td id=\"T_179caabc_117e_11ea_b383_80000208fe80row1_col468\" class=\"data row1 col468\" >GBM_grid_1_AutoML_20191126_024320_model_96</td>\n",
       "                        <td id=\"T_179caabc_117e_11ea_b383_80000208fe80row1_col469\" class=\"data row1 col469\" >GBM_grid_1_AutoML_20191126_024320_model_288</td>\n",
       "                        <td id=\"T_179caabc_117e_11ea_b383_80000208fe80row1_col470\" class=\"data row1 col470\" >GBM_grid_1_AutoML_20191126_024320_model_28</td>\n",
       "                        <td id=\"T_179caabc_117e_11ea_b383_80000208fe80row1_col471\" class=\"data row1 col471\" >XGBoost_grid_1_AutoML_20191126_024320_model_96</td>\n",
       "                        <td id=\"T_179caabc_117e_11ea_b383_80000208fe80row1_col472\" class=\"data row1 col472\" >GBM_grid_1_AutoML_20191126_024320_model_71</td>\n",
       "                        <td id=\"T_179caabc_117e_11ea_b383_80000208fe80row1_col473\" class=\"data row1 col473\" >XGBoost_grid_1_AutoML_20191126_024320_model_85</td>\n",
       "                        <td id=\"T_179caabc_117e_11ea_b383_80000208fe80row1_col474\" class=\"data row1 col474\" >XGBoost_grid_1_AutoML_20191126_024320_model_152</td>\n",
       "                        <td id=\"T_179caabc_117e_11ea_b383_80000208fe80row1_col475\" class=\"data row1 col475\" >XGBoost_grid_1_AutoML_20191126_024320_model_51</td>\n",
       "                        <td id=\"T_179caabc_117e_11ea_b383_80000208fe80row1_col476\" class=\"data row1 col476\" >XGBoost_grid_1_AutoML_20191126_024320_model_160</td>\n",
       "                        <td id=\"T_179caabc_117e_11ea_b383_80000208fe80row1_col477\" class=\"data row1 col477\" >GBM_grid_1_AutoML_20191126_024320_model_120</td>\n",
       "                        <td id=\"T_179caabc_117e_11ea_b383_80000208fe80row1_col478\" class=\"data row1 col478\" >XGBoost_grid_1_AutoML_20191126_024320_model_182</td>\n",
       "                        <td id=\"T_179caabc_117e_11ea_b383_80000208fe80row1_col479\" class=\"data row1 col479\" >XGBoost_grid_1_AutoML_20191126_024320_model_16</td>\n",
       "                        <td id=\"T_179caabc_117e_11ea_b383_80000208fe80row1_col480\" class=\"data row1 col480\" >GBM_grid_1_AutoML_20191126_024320_model_70</td>\n",
       "                        <td id=\"T_179caabc_117e_11ea_b383_80000208fe80row1_col481\" class=\"data row1 col481\" >GBM_grid_1_AutoML_20191126_024320_model_90</td>\n",
       "                        <td id=\"T_179caabc_117e_11ea_b383_80000208fe80row1_col482\" class=\"data row1 col482\" >XGBoost_grid_1_AutoML_20191126_024320_model_149</td>\n",
       "                        <td id=\"T_179caabc_117e_11ea_b383_80000208fe80row1_col483\" class=\"data row1 col483\" >XGBoost_grid_1_AutoML_20191126_024320_model_115</td>\n",
       "                        <td id=\"T_179caabc_117e_11ea_b383_80000208fe80row1_col484\" class=\"data row1 col484\" >XGBoost_grid_1_AutoML_20191126_024320_model_159</td>\n",
       "                        <td id=\"T_179caabc_117e_11ea_b383_80000208fe80row1_col485\" class=\"data row1 col485\" >XGBoost_grid_1_AutoML_20191126_024320_model_181</td>\n",
       "                        <td id=\"T_179caabc_117e_11ea_b383_80000208fe80row1_col486\" class=\"data row1 col486\" >XGBoost_grid_1_AutoML_20191126_024320_model_91</td>\n",
       "                        <td id=\"T_179caabc_117e_11ea_b383_80000208fe80row1_col487\" class=\"data row1 col487\" >XGBoost_grid_1_AutoML_20191126_024320_model_164</td>\n",
       "                        <td id=\"T_179caabc_117e_11ea_b383_80000208fe80row1_col488\" class=\"data row1 col488\" >XGBoost_grid_1_AutoML_20191126_024320_model_142</td>\n",
       "                        <td id=\"T_179caabc_117e_11ea_b383_80000208fe80row1_col489\" class=\"data row1 col489\" >GBM_grid_1_AutoML_20191126_024320_model_189</td>\n",
       "                        <td id=\"T_179caabc_117e_11ea_b383_80000208fe80row1_col490\" class=\"data row1 col490\" >GBM_grid_1_AutoML_20191126_024320_model_228</td>\n",
       "                        <td id=\"T_179caabc_117e_11ea_b383_80000208fe80row1_col491\" class=\"data row1 col491\" >GBM_grid_1_AutoML_20191126_024320_model_278</td>\n",
       "                        <td id=\"T_179caabc_117e_11ea_b383_80000208fe80row1_col492\" class=\"data row1 col492\" >XGBoost_grid_1_AutoML_20191126_024320_model_127</td>\n",
       "                        <td id=\"T_179caabc_117e_11ea_b383_80000208fe80row1_col493\" class=\"data row1 col493\" >XGBoost_grid_1_AutoML_20191126_024320_model_81</td>\n",
       "                        <td id=\"T_179caabc_117e_11ea_b383_80000208fe80row1_col494\" class=\"data row1 col494\" >XGBoost_grid_1_AutoML_20191126_024320_model_158</td>\n",
       "                        <td id=\"T_179caabc_117e_11ea_b383_80000208fe80row1_col495\" class=\"data row1 col495\" >XGBoost_grid_1_AutoML_20191126_024320_model_204</td>\n",
       "                        <td id=\"T_179caabc_117e_11ea_b383_80000208fe80row1_col496\" class=\"data row1 col496\" >XGBoost_grid_1_AutoML_20191126_024320_model_165</td>\n",
       "                        <td id=\"T_179caabc_117e_11ea_b383_80000208fe80row1_col497\" class=\"data row1 col497\" >GBM_grid_1_AutoML_20191126_024320_model_180</td>\n",
       "                        <td id=\"T_179caabc_117e_11ea_b383_80000208fe80row1_col498\" class=\"data row1 col498\" >GBM_grid_1_AutoML_20191126_024320_model_87</td>\n",
       "                        <td id=\"T_179caabc_117e_11ea_b383_80000208fe80row1_col499\" class=\"data row1 col499\" >GBM_grid_1_AutoML_20191126_024320_model_30</td>\n",
       "                        <td id=\"T_179caabc_117e_11ea_b383_80000208fe80row1_col500\" class=\"data row1 col500\" >GBM_grid_1_AutoML_20191126_024320_model_137</td>\n",
       "                        <td id=\"T_179caabc_117e_11ea_b383_80000208fe80row1_col501\" class=\"data row1 col501\" >XGBoost_grid_1_AutoML_20191126_024320_model_192</td>\n",
       "                        <td id=\"T_179caabc_117e_11ea_b383_80000208fe80row1_col502\" class=\"data row1 col502\" >GBM_grid_1_AutoML_20191126_024320_model_268</td>\n",
       "                        <td id=\"T_179caabc_117e_11ea_b383_80000208fe80row1_col503\" class=\"data row1 col503\" >GBM_grid_1_AutoML_20191126_024320_model_51</td>\n",
       "                        <td id=\"T_179caabc_117e_11ea_b383_80000208fe80row1_col504\" class=\"data row1 col504\" >GBM_grid_1_AutoML_20191126_024320_model_187</td>\n",
       "                        <td id=\"T_179caabc_117e_11ea_b383_80000208fe80row1_col505\" class=\"data row1 col505\" >GBM_grid_1_AutoML_20191126_024320_model_103</td>\n",
       "                        <td id=\"T_179caabc_117e_11ea_b383_80000208fe80row1_col506\" class=\"data row1 col506\" >GBM_grid_1_AutoML_20191126_024320_model_216</td>\n",
       "                        <td id=\"T_179caabc_117e_11ea_b383_80000208fe80row1_col507\" class=\"data row1 col507\" >GBM_grid_1_AutoML_20191126_024320_model_247</td>\n",
       "                        <td id=\"T_179caabc_117e_11ea_b383_80000208fe80row1_col508\" class=\"data row1 col508\" >GBM_grid_1_AutoML_20191126_024320_model_33</td>\n",
       "                        <td id=\"T_179caabc_117e_11ea_b383_80000208fe80row1_col509\" class=\"data row1 col509\" >GBM_grid_1_AutoML_20191126_024320_model_249</td>\n",
       "                        <td id=\"T_179caabc_117e_11ea_b383_80000208fe80row1_col510\" class=\"data row1 col510\" >GBM_grid_1_AutoML_20191126_024320_model_25</td>\n",
       "                        <td id=\"T_179caabc_117e_11ea_b383_80000208fe80row1_col511\" class=\"data row1 col511\" >XGBoost_grid_1_AutoML_20191126_024320_model_141</td>\n",
       "                        <td id=\"T_179caabc_117e_11ea_b383_80000208fe80row1_col512\" class=\"data row1 col512\" >GBM_grid_1_AutoML_20191126_024320_model_277</td>\n",
       "                        <td id=\"T_179caabc_117e_11ea_b383_80000208fe80row1_col513\" class=\"data row1 col513\" >GBM_grid_1_AutoML_20191126_024320_model_175</td>\n",
       "                        <td id=\"T_179caabc_117e_11ea_b383_80000208fe80row1_col514\" class=\"data row1 col514\" >GBM_grid_1_AutoML_20191126_024320_model_297</td>\n",
       "                        <td id=\"T_179caabc_117e_11ea_b383_80000208fe80row1_col515\" class=\"data row1 col515\" >GBM_grid_1_AutoML_20191126_024320_model_91</td>\n",
       "                        <td id=\"T_179caabc_117e_11ea_b383_80000208fe80row1_col516\" class=\"data row1 col516\" >GBM_grid_1_AutoML_20191126_024320_model_182</td>\n",
       "                        <td id=\"T_179caabc_117e_11ea_b383_80000208fe80row1_col517\" class=\"data row1 col517\" >XGBoost_grid_1_AutoML_20191126_024320_model_9</td>\n",
       "                        <td id=\"T_179caabc_117e_11ea_b383_80000208fe80row1_col518\" class=\"data row1 col518\" >GBM_grid_1_AutoML_20191126_024320_model_196</td>\n",
       "                        <td id=\"T_179caabc_117e_11ea_b383_80000208fe80row1_col519\" class=\"data row1 col519\" >GBM_grid_1_AutoML_20191126_024320_model_267</td>\n",
       "                        <td id=\"T_179caabc_117e_11ea_b383_80000208fe80row1_col520\" class=\"data row1 col520\" >GBM_grid_1_AutoML_20191126_024320_model_34</td>\n",
       "                        <td id=\"T_179caabc_117e_11ea_b383_80000208fe80row1_col521\" class=\"data row1 col521\" >GBM_grid_1_AutoML_20191126_024320_model_201</td>\n",
       "                        <td id=\"T_179caabc_117e_11ea_b383_80000208fe80row1_col522\" class=\"data row1 col522\" >GBM_grid_1_AutoML_20191126_024320_model_289</td>\n",
       "                        <td id=\"T_179caabc_117e_11ea_b383_80000208fe80row1_col523\" class=\"data row1 col523\" >GBM_grid_1_AutoML_20191126_024320_model_134</td>\n",
       "                        <td id=\"T_179caabc_117e_11ea_b383_80000208fe80row1_col524\" class=\"data row1 col524\" >GBM_grid_1_AutoML_20191126_024320_model_2</td>\n",
       "                        <td id=\"T_179caabc_117e_11ea_b383_80000208fe80row1_col525\" class=\"data row1 col525\" >GBM_grid_1_AutoML_20191126_024320_model_273</td>\n",
       "                        <td id=\"T_179caabc_117e_11ea_b383_80000208fe80row1_col526\" class=\"data row1 col526\" >GBM_grid_1_AutoML_20191126_024320_model_50</td>\n",
       "                        <td id=\"T_179caabc_117e_11ea_b383_80000208fe80row1_col527\" class=\"data row1 col527\" >GBM_grid_1_AutoML_20191126_024320_model_157</td>\n",
       "                        <td id=\"T_179caabc_117e_11ea_b383_80000208fe80row1_col528\" class=\"data row1 col528\" >GBM_grid_1_AutoML_20191126_024320_model_79</td>\n",
       "                        <td id=\"T_179caabc_117e_11ea_b383_80000208fe80row1_col529\" class=\"data row1 col529\" >GBM_grid_1_AutoML_20191126_024320_model_144</td>\n",
       "                        <td id=\"T_179caabc_117e_11ea_b383_80000208fe80row1_col530\" class=\"data row1 col530\" >GBM_grid_1_AutoML_20191126_024320_model_151</td>\n",
       "                        <td id=\"T_179caabc_117e_11ea_b383_80000208fe80row1_col531\" class=\"data row1 col531\" >GBM_grid_1_AutoML_20191126_024320_model_238</td>\n",
       "                        <td id=\"T_179caabc_117e_11ea_b383_80000208fe80row1_col532\" class=\"data row1 col532\" >DeepLearning_1_AutoML_20191126_024320</td>\n",
       "                        <td id=\"T_179caabc_117e_11ea_b383_80000208fe80row1_col533\" class=\"data row1 col533\" >GBM_grid_1_AutoML_20191126_024320_model_265</td>\n",
       "                        <td id=\"T_179caabc_117e_11ea_b383_80000208fe80row1_col534\" class=\"data row1 col534\" >GBM_grid_1_AutoML_20191126_024320_model_237</td>\n",
       "                        <td id=\"T_179caabc_117e_11ea_b383_80000208fe80row1_col535\" class=\"data row1 col535\" >GBM_grid_1_AutoML_20191126_024320_model_167</td>\n",
       "                        <td id=\"T_179caabc_117e_11ea_b383_80000208fe80row1_col536\" class=\"data row1 col536\" >GBM_grid_1_AutoML_20191126_024320_model_275</td>\n",
       "                        <td id=\"T_179caabc_117e_11ea_b383_80000208fe80row1_col537\" class=\"data row1 col537\" >GBM_grid_1_AutoML_20191126_024320_model_206</td>\n",
       "                        <td id=\"T_179caabc_117e_11ea_b383_80000208fe80row1_col538\" class=\"data row1 col538\" >GBM_grid_1_AutoML_20191126_024320_model_181</td>\n",
       "                        <td id=\"T_179caabc_117e_11ea_b383_80000208fe80row1_col539\" class=\"data row1 col539\" >GBM_grid_1_AutoML_20191126_024320_model_44</td>\n",
       "                        <td id=\"T_179caabc_117e_11ea_b383_80000208fe80row1_col540\" class=\"data row1 col540\" >GBM_grid_1_AutoML_20191126_024320_model_163</td>\n",
       "                        <td id=\"T_179caabc_117e_11ea_b383_80000208fe80row1_col541\" class=\"data row1 col541\" >GBM_grid_1_AutoML_20191126_024320_model_191</td>\n",
       "                        <td id=\"T_179caabc_117e_11ea_b383_80000208fe80row1_col542\" class=\"data row1 col542\" >XGBoost_grid_1_AutoML_20191126_024320_model_205</td>\n",
       "                        <td id=\"T_179caabc_117e_11ea_b383_80000208fe80row1_col543\" class=\"data row1 col543\" >GBM_grid_1_AutoML_20191126_024320_model_5</td>\n",
       "                        <td id=\"T_179caabc_117e_11ea_b383_80000208fe80row1_col544\" class=\"data row1 col544\" >GBM_grid_1_AutoML_20191126_024320_model_257</td>\n",
       "                        <td id=\"T_179caabc_117e_11ea_b383_80000208fe80row1_col545\" class=\"data row1 col545\" >GBM_grid_1_AutoML_20191126_024320_model_64</td>\n",
       "                        <td id=\"T_179caabc_117e_11ea_b383_80000208fe80row1_col546\" class=\"data row1 col546\" >GBM_grid_1_AutoML_20191126_024320_model_298</td>\n",
       "                        <td id=\"T_179caabc_117e_11ea_b383_80000208fe80row1_col547\" class=\"data row1 col547\" >GBM_grid_1_AutoML_20191126_024320_model_178</td>\n",
       "                        <td id=\"T_179caabc_117e_11ea_b383_80000208fe80row1_col548\" class=\"data row1 col548\" >GBM_grid_1_AutoML_20191126_024320_model_22</td>\n",
       "                        <td id=\"T_179caabc_117e_11ea_b383_80000208fe80row1_col549\" class=\"data row1 col549\" >GBM_grid_1_AutoML_20191126_024320_model_141</td>\n",
       "                        <td id=\"T_179caabc_117e_11ea_b383_80000208fe80row1_col550\" class=\"data row1 col550\" >GBM_grid_1_AutoML_20191126_024320_model_235</td>\n",
       "                        <td id=\"T_179caabc_117e_11ea_b383_80000208fe80row1_col551\" class=\"data row1 col551\" >GBM_grid_1_AutoML_20191126_024320_model_82</td>\n",
       "                        <td id=\"T_179caabc_117e_11ea_b383_80000208fe80row1_col552\" class=\"data row1 col552\" >GBM_grid_1_AutoML_20191126_024320_model_98</td>\n",
       "                        <td id=\"T_179caabc_117e_11ea_b383_80000208fe80row1_col553\" class=\"data row1 col553\" >GBM_grid_1_AutoML_20191126_024320_model_131</td>\n",
       "                        <td id=\"T_179caabc_117e_11ea_b383_80000208fe80row1_col554\" class=\"data row1 col554\" >GBM_grid_1_AutoML_20191126_024320_model_60</td>\n",
       "                        <td id=\"T_179caabc_117e_11ea_b383_80000208fe80row1_col555\" class=\"data row1 col555\" >GBM_grid_1_AutoML_20191126_024320_model_83</td>\n",
       "                        <td id=\"T_179caabc_117e_11ea_b383_80000208fe80row1_col556\" class=\"data row1 col556\" >GBM_grid_1_AutoML_20191126_024320_model_240</td>\n",
       "                        <td id=\"T_179caabc_117e_11ea_b383_80000208fe80row1_col557\" class=\"data row1 col557\" >GBM_grid_1_AutoML_20191126_024320_model_126</td>\n",
       "                        <td id=\"T_179caabc_117e_11ea_b383_80000208fe80row1_col558\" class=\"data row1 col558\" >GBM_grid_1_AutoML_20191126_024320_model_65</td>\n",
       "                        <td id=\"T_179caabc_117e_11ea_b383_80000208fe80row1_col559\" class=\"data row1 col559\" >GBM_grid_1_AutoML_20191126_024320_model_276</td>\n",
       "                        <td id=\"T_179caabc_117e_11ea_b383_80000208fe80row1_col560\" class=\"data row1 col560\" >GBM_grid_1_AutoML_20191126_024320_model_95</td>\n",
       "                        <td id=\"T_179caabc_117e_11ea_b383_80000208fe80row1_col561\" class=\"data row1 col561\" >GBM_grid_1_AutoML_20191126_024320_model_185</td>\n",
       "                        <td id=\"T_179caabc_117e_11ea_b383_80000208fe80row1_col562\" class=\"data row1 col562\" >GBM_grid_1_AutoML_20191126_024320_model_221</td>\n",
       "                        <td id=\"T_179caabc_117e_11ea_b383_80000208fe80row1_col563\" class=\"data row1 col563\" >GBM_grid_1_AutoML_20191126_024320_model_202</td>\n",
       "                        <td id=\"T_179caabc_117e_11ea_b383_80000208fe80row1_col564\" class=\"data row1 col564\" >GBM_grid_1_AutoML_20191126_024320_model_121</td>\n",
       "                        <td id=\"T_179caabc_117e_11ea_b383_80000208fe80row1_col565\" class=\"data row1 col565\" >GBM_grid_1_AutoML_20191126_024320_model_36</td>\n",
       "                        <td id=\"T_179caabc_117e_11ea_b383_80000208fe80row1_col566\" class=\"data row1 col566\" >GBM_grid_1_AutoML_20191126_024320_model_250</td>\n",
       "                        <td id=\"T_179caabc_117e_11ea_b383_80000208fe80row1_col567\" class=\"data row1 col567\" >GBM_grid_1_AutoML_20191126_024320_model_164</td>\n",
       "            </tr>\n",
       "            <tr>\n",
       "                                <td id=\"T_179caabc_117e_11ea_b383_80000208fe80row2_col0\" class=\"data row2 col0\" >6.4</td>\n",
       "                        <td id=\"T_179caabc_117e_11ea_b383_80000208fe80row2_col1\" class=\"data row2 col1\" >StackedEnsemble_AllModels_AutoML_20191126_143804</td>\n",
       "                        <td id=\"T_179caabc_117e_11ea_b383_80000208fe80row2_col2\" class=\"data row2 col2\" >DeepLearning_grid_1_AutoML_20191126_143804_model_77</td>\n",
       "                        <td id=\"T_179caabc_117e_11ea_b383_80000208fe80row2_col3\" class=\"data row2 col3\" >DeepLearning_grid_1_AutoML_20191126_143804_model_51</td>\n",
       "                        <td id=\"T_179caabc_117e_11ea_b383_80000208fe80row2_col4\" class=\"data row2 col4\" >DeepLearning_grid_1_AutoML_20191126_143804_model_100</td>\n",
       "                        <td id=\"T_179caabc_117e_11ea_b383_80000208fe80row2_col5\" class=\"data row2 col5\" >DeepLearning_grid_1_AutoML_20191126_143804_model_3</td>\n",
       "                        <td id=\"T_179caabc_117e_11ea_b383_80000208fe80row2_col6\" class=\"data row2 col6\" >DeepLearning_grid_1_AutoML_20191126_143804_model_32</td>\n",
       "                        <td id=\"T_179caabc_117e_11ea_b383_80000208fe80row2_col7\" class=\"data row2 col7\" >DeepLearning_grid_1_AutoML_20191126_143804_model_44</td>\n",
       "                        <td id=\"T_179caabc_117e_11ea_b383_80000208fe80row2_col8\" class=\"data row2 col8\" >DeepLearning_grid_1_AutoML_20191126_143804_model_49</td>\n",
       "                        <td id=\"T_179caabc_117e_11ea_b383_80000208fe80row2_col9\" class=\"data row2 col9\" >DeepLearning_grid_1_AutoML_20191126_143804_model_88</td>\n",
       "                        <td id=\"T_179caabc_117e_11ea_b383_80000208fe80row2_col10\" class=\"data row2 col10\" >DeepLearning_grid_1_AutoML_20191126_143804_model_24</td>\n",
       "                        <td id=\"T_179caabc_117e_11ea_b383_80000208fe80row2_col11\" class=\"data row2 col11\" >DeepLearning_grid_1_AutoML_20191126_143804_model_68</td>\n",
       "                        <td id=\"T_179caabc_117e_11ea_b383_80000208fe80row2_col12\" class=\"data row2 col12\" >DeepLearning_grid_1_AutoML_20191126_143804_model_48</td>\n",
       "                        <td id=\"T_179caabc_117e_11ea_b383_80000208fe80row2_col13\" class=\"data row2 col13\" >DeepLearning_grid_1_AutoML_20191126_143804_model_38</td>\n",
       "                        <td id=\"T_179caabc_117e_11ea_b383_80000208fe80row2_col14\" class=\"data row2 col14\" >DeepLearning_grid_1_AutoML_20191126_143804_model_60</td>\n",
       "                        <td id=\"T_179caabc_117e_11ea_b383_80000208fe80row2_col15\" class=\"data row2 col15\" >DeepLearning_grid_1_AutoML_20191126_143804_model_59</td>\n",
       "                        <td id=\"T_179caabc_117e_11ea_b383_80000208fe80row2_col16\" class=\"data row2 col16\" >DeepLearning_grid_1_AutoML_20191126_143804_model_31</td>\n",
       "                        <td id=\"T_179caabc_117e_11ea_b383_80000208fe80row2_col17\" class=\"data row2 col17\" >DeepLearning_grid_1_AutoML_20191126_143804_model_46</td>\n",
       "                        <td id=\"T_179caabc_117e_11ea_b383_80000208fe80row2_col18\" class=\"data row2 col18\" >DeepLearning_grid_1_AutoML_20191126_143804_model_92</td>\n",
       "                        <td id=\"T_179caabc_117e_11ea_b383_80000208fe80row2_col19\" class=\"data row2 col19\" >DeepLearning_grid_1_AutoML_20191126_143804_model_55</td>\n",
       "                        <td id=\"T_179caabc_117e_11ea_b383_80000208fe80row2_col20\" class=\"data row2 col20\" >DeepLearning_grid_1_AutoML_20191126_143804_model_15</td>\n",
       "                        <td id=\"T_179caabc_117e_11ea_b383_80000208fe80row2_col21\" class=\"data row2 col21\" >DeepLearning_grid_1_AutoML_20191126_143804_model_91</td>\n",
       "                        <td id=\"T_179caabc_117e_11ea_b383_80000208fe80row2_col22\" class=\"data row2 col22\" >DeepLearning_grid_1_AutoML_20191126_143804_model_83</td>\n",
       "                        <td id=\"T_179caabc_117e_11ea_b383_80000208fe80row2_col23\" class=\"data row2 col23\" >DeepLearning_grid_1_AutoML_20191126_143804_model_78</td>\n",
       "                        <td id=\"T_179caabc_117e_11ea_b383_80000208fe80row2_col24\" class=\"data row2 col24\" >DeepLearning_grid_1_AutoML_20191126_143804_model_7</td>\n",
       "                        <td id=\"T_179caabc_117e_11ea_b383_80000208fe80row2_col25\" class=\"data row2 col25\" >DeepLearning_grid_1_AutoML_20191126_143804_model_2</td>\n",
       "                        <td id=\"T_179caabc_117e_11ea_b383_80000208fe80row2_col26\" class=\"data row2 col26\" >DeepLearning_grid_1_AutoML_20191126_143804_model_43</td>\n",
       "                        <td id=\"T_179caabc_117e_11ea_b383_80000208fe80row2_col27\" class=\"data row2 col27\" >DeepLearning_grid_1_AutoML_20191126_143804_model_87</td>\n",
       "                        <td id=\"T_179caabc_117e_11ea_b383_80000208fe80row2_col28\" class=\"data row2 col28\" >DeepLearning_grid_1_AutoML_20191126_143804_model_56</td>\n",
       "                        <td id=\"T_179caabc_117e_11ea_b383_80000208fe80row2_col29\" class=\"data row2 col29\" >DeepLearning_grid_1_AutoML_20191126_143804_model_103</td>\n",
       "                        <td id=\"T_179caabc_117e_11ea_b383_80000208fe80row2_col30\" class=\"data row2 col30\" >DeepLearning_grid_1_AutoML_20191126_143804_model_39</td>\n",
       "                        <td id=\"T_179caabc_117e_11ea_b383_80000208fe80row2_col31\" class=\"data row2 col31\" >DeepLearning_grid_1_AutoML_20191126_143804_model_16</td>\n",
       "                        <td id=\"T_179caabc_117e_11ea_b383_80000208fe80row2_col32\" class=\"data row2 col32\" >DeepLearning_grid_1_AutoML_20191126_143804_model_20</td>\n",
       "                        <td id=\"T_179caabc_117e_11ea_b383_80000208fe80row2_col33\" class=\"data row2 col33\" >DeepLearning_grid_1_AutoML_20191126_143804_model_6</td>\n",
       "                        <td id=\"T_179caabc_117e_11ea_b383_80000208fe80row2_col34\" class=\"data row2 col34\" >DeepLearning_grid_1_AutoML_20191126_143804_model_30</td>\n",
       "                        <td id=\"T_179caabc_117e_11ea_b383_80000208fe80row2_col35\" class=\"data row2 col35\" >DeepLearning_grid_1_AutoML_20191126_143804_model_35</td>\n",
       "                        <td id=\"T_179caabc_117e_11ea_b383_80000208fe80row2_col36\" class=\"data row2 col36\" >DeepLearning_grid_1_AutoML_20191126_143804_model_25</td>\n",
       "                        <td id=\"T_179caabc_117e_11ea_b383_80000208fe80row2_col37\" class=\"data row2 col37\" >DeepLearning_grid_1_AutoML_20191126_143804_model_36</td>\n",
       "                        <td id=\"T_179caabc_117e_11ea_b383_80000208fe80row2_col38\" class=\"data row2 col38\" >DeepLearning_grid_1_AutoML_20191126_143804_model_71</td>\n",
       "                        <td id=\"T_179caabc_117e_11ea_b383_80000208fe80row2_col39\" class=\"data row2 col39\" >DeepLearning_grid_1_AutoML_20191126_143804_model_74</td>\n",
       "                        <td id=\"T_179caabc_117e_11ea_b383_80000208fe80row2_col40\" class=\"data row2 col40\" >DeepLearning_grid_1_AutoML_20191126_143804_model_57</td>\n",
       "                        <td id=\"T_179caabc_117e_11ea_b383_80000208fe80row2_col41\" class=\"data row2 col41\" >DeepLearning_grid_1_AutoML_20191126_143804_model_21</td>\n",
       "                        <td id=\"T_179caabc_117e_11ea_b383_80000208fe80row2_col42\" class=\"data row2 col42\" >DeepLearning_grid_1_AutoML_20191126_143804_model_33</td>\n",
       "                        <td id=\"T_179caabc_117e_11ea_b383_80000208fe80row2_col43\" class=\"data row2 col43\" >DeepLearning_grid_1_AutoML_20191126_143804_model_73</td>\n",
       "                        <td id=\"T_179caabc_117e_11ea_b383_80000208fe80row2_col44\" class=\"data row2 col44\" >DeepLearning_grid_1_AutoML_20191126_143804_model_4</td>\n",
       "                        <td id=\"T_179caabc_117e_11ea_b383_80000208fe80row2_col45\" class=\"data row2 col45\" >DeepLearning_grid_1_AutoML_20191126_143804_model_63</td>\n",
       "                        <td id=\"T_179caabc_117e_11ea_b383_80000208fe80row2_col46\" class=\"data row2 col46\" >DeepLearning_grid_1_AutoML_20191126_143804_model_76</td>\n",
       "                        <td id=\"T_179caabc_117e_11ea_b383_80000208fe80row2_col47\" class=\"data row2 col47\" >DeepLearning_grid_1_AutoML_20191126_143804_model_101</td>\n",
       "                        <td id=\"T_179caabc_117e_11ea_b383_80000208fe80row2_col48\" class=\"data row2 col48\" >DeepLearning_grid_1_AutoML_20191126_143804_model_82</td>\n",
       "                        <td id=\"T_179caabc_117e_11ea_b383_80000208fe80row2_col49\" class=\"data row2 col49\" >DeepLearning_grid_1_AutoML_20191126_143804_model_18</td>\n",
       "                        <td id=\"T_179caabc_117e_11ea_b383_80000208fe80row2_col50\" class=\"data row2 col50\" >DeepLearning_grid_1_AutoML_20191126_143804_model_65</td>\n",
       "                        <td id=\"T_179caabc_117e_11ea_b383_80000208fe80row2_col51\" class=\"data row2 col51\" >DeepLearning_grid_1_AutoML_20191126_143804_model_23</td>\n",
       "                        <td id=\"T_179caabc_117e_11ea_b383_80000208fe80row2_col52\" class=\"data row2 col52\" >DeepLearning_grid_1_AutoML_20191126_143804_model_27</td>\n",
       "                        <td id=\"T_179caabc_117e_11ea_b383_80000208fe80row2_col53\" class=\"data row2 col53\" >DeepLearning_grid_1_AutoML_20191126_143804_model_47</td>\n",
       "                        <td id=\"T_179caabc_117e_11ea_b383_80000208fe80row2_col54\" class=\"data row2 col54\" >DeepLearning_grid_1_AutoML_20191126_143804_model_29</td>\n",
       "                        <td id=\"T_179caabc_117e_11ea_b383_80000208fe80row2_col55\" class=\"data row2 col55\" >GLM_grid_1_AutoML_20191126_143804_model_1</td>\n",
       "                        <td id=\"T_179caabc_117e_11ea_b383_80000208fe80row2_col56\" class=\"data row2 col56\" >XGBoost_1_AutoML_20191126_143804</td>\n",
       "                        <td id=\"T_179caabc_117e_11ea_b383_80000208fe80row2_col57\" class=\"data row2 col57\" >DeepLearning_grid_1_AutoML_20191126_143804_model_14</td>\n",
       "                        <td id=\"T_179caabc_117e_11ea_b383_80000208fe80row2_col58\" class=\"data row2 col58\" >DeepLearning_grid_1_AutoML_20191126_143804_model_93</td>\n",
       "                        <td id=\"T_179caabc_117e_11ea_b383_80000208fe80row2_col59\" class=\"data row2 col59\" >DeepLearning_grid_1_AutoML_20191126_143804_model_40</td>\n",
       "                        <td id=\"T_179caabc_117e_11ea_b383_80000208fe80row2_col60\" class=\"data row2 col60\" >DeepLearning_grid_1_AutoML_20191126_143804_model_95</td>\n",
       "                        <td id=\"T_179caabc_117e_11ea_b383_80000208fe80row2_col61\" class=\"data row2 col61\" >DeepLearning_grid_1_AutoML_20191126_143804_model_12</td>\n",
       "                        <td id=\"T_179caabc_117e_11ea_b383_80000208fe80row2_col62\" class=\"data row2 col62\" >DeepLearning_grid_1_AutoML_20191126_143804_model_42</td>\n",
       "                        <td id=\"T_179caabc_117e_11ea_b383_80000208fe80row2_col63\" class=\"data row2 col63\" >DeepLearning_grid_1_AutoML_20191126_143804_model_58</td>\n",
       "                        <td id=\"T_179caabc_117e_11ea_b383_80000208fe80row2_col64\" class=\"data row2 col64\" >DeepLearning_grid_1_AutoML_20191126_143804_model_98</td>\n",
       "                        <td id=\"T_179caabc_117e_11ea_b383_80000208fe80row2_col65\" class=\"data row2 col65\" >DeepLearning_grid_1_AutoML_20191126_143804_model_9</td>\n",
       "                        <td id=\"T_179caabc_117e_11ea_b383_80000208fe80row2_col66\" class=\"data row2 col66\" >DeepLearning_grid_1_AutoML_20191126_143804_model_102</td>\n",
       "                        <td id=\"T_179caabc_117e_11ea_b383_80000208fe80row2_col67\" class=\"data row2 col67\" >DeepLearning_grid_1_AutoML_20191126_143804_model_54</td>\n",
       "                        <td id=\"T_179caabc_117e_11ea_b383_80000208fe80row2_col68\" class=\"data row2 col68\" >DeepLearning_grid_1_AutoML_20191126_143804_model_1</td>\n",
       "                        <td id=\"T_179caabc_117e_11ea_b383_80000208fe80row2_col69\" class=\"data row2 col69\" >DeepLearning_grid_1_AutoML_20191126_143804_model_62</td>\n",
       "                        <td id=\"T_179caabc_117e_11ea_b383_80000208fe80row2_col70\" class=\"data row2 col70\" >DeepLearning_grid_1_AutoML_20191126_143804_model_69</td>\n",
       "                        <td id=\"T_179caabc_117e_11ea_b383_80000208fe80row2_col71\" class=\"data row2 col71\" >GBM_grid_1_AutoML_20191126_143804_model_31</td>\n",
       "                        <td id=\"T_179caabc_117e_11ea_b383_80000208fe80row2_col72\" class=\"data row2 col72\" >DeepLearning_grid_1_AutoML_20191126_143804_model_81</td>\n",
       "                        <td id=\"T_179caabc_117e_11ea_b383_80000208fe80row2_col73\" class=\"data row2 col73\" >DeepLearning_grid_1_AutoML_20191126_143804_model_97</td>\n",
       "                        <td id=\"T_179caabc_117e_11ea_b383_80000208fe80row2_col74\" class=\"data row2 col74\" >DeepLearning_grid_1_AutoML_20191126_143804_model_10</td>\n",
       "                        <td id=\"T_179caabc_117e_11ea_b383_80000208fe80row2_col75\" class=\"data row2 col75\" >DeepLearning_grid_1_AutoML_20191126_143804_model_61</td>\n",
       "                        <td id=\"T_179caabc_117e_11ea_b383_80000208fe80row2_col76\" class=\"data row2 col76\" >DeepLearning_grid_1_AutoML_20191126_143804_model_80</td>\n",
       "                        <td id=\"T_179caabc_117e_11ea_b383_80000208fe80row2_col77\" class=\"data row2 col77\" >DeepLearning_grid_1_AutoML_20191126_143804_model_89</td>\n",
       "                        <td id=\"T_179caabc_117e_11ea_b383_80000208fe80row2_col78\" class=\"data row2 col78\" >DeepLearning_grid_1_AutoML_20191126_143804_model_79</td>\n",
       "                        <td id=\"T_179caabc_117e_11ea_b383_80000208fe80row2_col79\" class=\"data row2 col79\" >XGBoost_grid_1_AutoML_20191126_143804_model_37</td>\n",
       "                        <td id=\"T_179caabc_117e_11ea_b383_80000208fe80row2_col80\" class=\"data row2 col80\" >DeepLearning_grid_1_AutoML_20191126_143804_model_8</td>\n",
       "                        <td id=\"T_179caabc_117e_11ea_b383_80000208fe80row2_col81\" class=\"data row2 col81\" >GBM_grid_1_AutoML_20191126_143804_model_39</td>\n",
       "                        <td id=\"T_179caabc_117e_11ea_b383_80000208fe80row2_col82\" class=\"data row2 col82\" >XGBoost_grid_1_AutoML_20191126_143804_model_33</td>\n",
       "                        <td id=\"T_179caabc_117e_11ea_b383_80000208fe80row2_col83\" class=\"data row2 col83\" >DeepLearning_grid_1_AutoML_20191126_143804_model_13</td>\n",
       "                        <td id=\"T_179caabc_117e_11ea_b383_80000208fe80row2_col84\" class=\"data row2 col84\" >XGBoost_grid_1_AutoML_20191126_143804_model_20</td>\n",
       "                        <td id=\"T_179caabc_117e_11ea_b383_80000208fe80row2_col85\" class=\"data row2 col85\" >GBM_grid_1_AutoML_20191126_143804_model_20</td>\n",
       "                        <td id=\"T_179caabc_117e_11ea_b383_80000208fe80row2_col86\" class=\"data row2 col86\" >DeepLearning_grid_1_AutoML_20191126_143804_model_90</td>\n",
       "                        <td id=\"T_179caabc_117e_11ea_b383_80000208fe80row2_col87\" class=\"data row2 col87\" >XGBoost_grid_1_AutoML_20191126_143804_model_18</td>\n",
       "                        <td id=\"T_179caabc_117e_11ea_b383_80000208fe80row2_col88\" class=\"data row2 col88\" >XGBoost_3_AutoML_20191126_143804</td>\n",
       "                        <td id=\"T_179caabc_117e_11ea_b383_80000208fe80row2_col89\" class=\"data row2 col89\" >DeepLearning_grid_1_AutoML_20191126_143804_model_26</td>\n",
       "                        <td id=\"T_179caabc_117e_11ea_b383_80000208fe80row2_col90\" class=\"data row2 col90\" >DeepLearning_grid_1_AutoML_20191126_143804_model_52</td>\n",
       "                        <td id=\"T_179caabc_117e_11ea_b383_80000208fe80row2_col91\" class=\"data row2 col91\" >DeepLearning_grid_1_AutoML_20191126_143804_model_19</td>\n",
       "                        <td id=\"T_179caabc_117e_11ea_b383_80000208fe80row2_col92\" class=\"data row2 col92\" >DeepLearning_grid_1_AutoML_20191126_143804_model_96</td>\n",
       "                        <td id=\"T_179caabc_117e_11ea_b383_80000208fe80row2_col93\" class=\"data row2 col93\" >DeepLearning_grid_1_AutoML_20191126_143804_model_86</td>\n",
       "                        <td id=\"T_179caabc_117e_11ea_b383_80000208fe80row2_col94\" class=\"data row2 col94\" >DeepLearning_grid_1_AutoML_20191126_143804_model_70</td>\n",
       "                        <td id=\"T_179caabc_117e_11ea_b383_80000208fe80row2_col95\" class=\"data row2 col95\" >DeepLearning_grid_1_AutoML_20191126_143804_model_66</td>\n",
       "                        <td id=\"T_179caabc_117e_11ea_b383_80000208fe80row2_col96\" class=\"data row2 col96\" >GBM_grid_1_AutoML_20191126_143804_model_27</td>\n",
       "                        <td id=\"T_179caabc_117e_11ea_b383_80000208fe80row2_col97\" class=\"data row2 col97\" >XGBoost_grid_1_AutoML_20191126_143804_model_2</td>\n",
       "                        <td id=\"T_179caabc_117e_11ea_b383_80000208fe80row2_col98\" class=\"data row2 col98\" >XGBoost_grid_1_AutoML_20191126_143804_model_34</td>\n",
       "                        <td id=\"T_179caabc_117e_11ea_b383_80000208fe80row2_col99\" class=\"data row2 col99\" >DeepLearning_grid_1_AutoML_20191126_143804_model_5</td>\n",
       "                        <td id=\"T_179caabc_117e_11ea_b383_80000208fe80row2_col100\" class=\"data row2 col100\" >DeepLearning_grid_1_AutoML_20191126_143804_model_41</td>\n",
       "                        <td id=\"T_179caabc_117e_11ea_b383_80000208fe80row2_col101\" class=\"data row2 col101\" >DeepLearning_grid_1_AutoML_20191126_143804_model_45</td>\n",
       "                        <td id=\"T_179caabc_117e_11ea_b383_80000208fe80row2_col102\" class=\"data row2 col102\" >DeepLearning_grid_1_AutoML_20191126_143804_model_28</td>\n",
       "                        <td id=\"T_179caabc_117e_11ea_b383_80000208fe80row2_col103\" class=\"data row2 col103\" >XGBoost_grid_1_AutoML_20191126_143804_model_28</td>\n",
       "                        <td id=\"T_179caabc_117e_11ea_b383_80000208fe80row2_col104\" class=\"data row2 col104\" >XGBoost_grid_1_AutoML_20191126_143804_model_31</td>\n",
       "                        <td id=\"T_179caabc_117e_11ea_b383_80000208fe80row2_col105\" class=\"data row2 col105\" >DeepLearning_grid_1_AutoML_20191126_143804_model_94</td>\n",
       "                        <td id=\"T_179caabc_117e_11ea_b383_80000208fe80row2_col106\" class=\"data row2 col106\" >XGBoost_grid_1_AutoML_20191126_143804_model_7</td>\n",
       "                        <td id=\"T_179caabc_117e_11ea_b383_80000208fe80row2_col107\" class=\"data row2 col107\" >XGBoost_grid_1_AutoML_20191126_143804_model_35</td>\n",
       "                        <td id=\"T_179caabc_117e_11ea_b383_80000208fe80row2_col108\" class=\"data row2 col108\" >GBM_grid_1_AutoML_20191126_143804_model_15</td>\n",
       "                        <td id=\"T_179caabc_117e_11ea_b383_80000208fe80row2_col109\" class=\"data row2 col109\" >DeepLearning_grid_1_AutoML_20191126_143804_model_34</td>\n",
       "                        <td id=\"T_179caabc_117e_11ea_b383_80000208fe80row2_col110\" class=\"data row2 col110\" >XGBoost_grid_1_AutoML_20191126_143804_model_8</td>\n",
       "                        <td id=\"T_179caabc_117e_11ea_b383_80000208fe80row2_col111\" class=\"data row2 col111\" >XGBoost_grid_1_AutoML_20191126_143804_model_45</td>\n",
       "                        <td id=\"T_179caabc_117e_11ea_b383_80000208fe80row2_col112\" class=\"data row2 col112\" >GBM_grid_1_AutoML_20191126_143804_model_19</td>\n",
       "                        <td id=\"T_179caabc_117e_11ea_b383_80000208fe80row2_col113\" class=\"data row2 col113\" >XGBoost_grid_1_AutoML_20191126_143804_model_38</td>\n",
       "                        <td id=\"T_179caabc_117e_11ea_b383_80000208fe80row2_col114\" class=\"data row2 col114\" >DeepLearning_grid_1_AutoML_20191126_143804_model_72</td>\n",
       "                        <td id=\"T_179caabc_117e_11ea_b383_80000208fe80row2_col115\" class=\"data row2 col115\" >XGBoost_grid_1_AutoML_20191126_143804_model_36</td>\n",
       "                        <td id=\"T_179caabc_117e_11ea_b383_80000208fe80row2_col116\" class=\"data row2 col116\" >GBM_4_AutoML_20191126_143804</td>\n",
       "                        <td id=\"T_179caabc_117e_11ea_b383_80000208fe80row2_col117\" class=\"data row2 col117\" >DeepLearning_grid_1_AutoML_20191126_143804_model_11</td>\n",
       "                        <td id=\"T_179caabc_117e_11ea_b383_80000208fe80row2_col118\" class=\"data row2 col118\" >XGBoost_grid_1_AutoML_20191126_143804_model_21</td>\n",
       "                        <td id=\"T_179caabc_117e_11ea_b383_80000208fe80row2_col119\" class=\"data row2 col119\" >XGBoost_grid_1_AutoML_20191126_143804_model_15</td>\n",
       "                        <td id=\"T_179caabc_117e_11ea_b383_80000208fe80row2_col120\" class=\"data row2 col120\" >DeepLearning_grid_1_AutoML_20191126_143804_model_64</td>\n",
       "                        <td id=\"T_179caabc_117e_11ea_b383_80000208fe80row2_col121\" class=\"data row2 col121\" >XGBoost_2_AutoML_20191126_143804</td>\n",
       "                        <td id=\"T_179caabc_117e_11ea_b383_80000208fe80row2_col122\" class=\"data row2 col122\" >XGBoost_grid_1_AutoML_20191126_143804_model_17</td>\n",
       "                        <td id=\"T_179caabc_117e_11ea_b383_80000208fe80row2_col123\" class=\"data row2 col123\" >GBM_grid_1_AutoML_20191126_143804_model_8</td>\n",
       "                        <td id=\"T_179caabc_117e_11ea_b383_80000208fe80row2_col124\" class=\"data row2 col124\" >DeepLearning_grid_1_AutoML_20191126_143804_model_104</td>\n",
       "                        <td id=\"T_179caabc_117e_11ea_b383_80000208fe80row2_col125\" class=\"data row2 col125\" >GBM_grid_1_AutoML_20191126_143804_model_17</td>\n",
       "                        <td id=\"T_179caabc_117e_11ea_b383_80000208fe80row2_col126\" class=\"data row2 col126\" >DeepLearning_grid_1_AutoML_20191126_143804_model_22</td>\n",
       "                        <td id=\"T_179caabc_117e_11ea_b383_80000208fe80row2_col127\" class=\"data row2 col127\" >XGBoost_grid_1_AutoML_20191126_143804_model_32</td>\n",
       "                        <td id=\"T_179caabc_117e_11ea_b383_80000208fe80row2_col128\" class=\"data row2 col128\" >GBM_grid_1_AutoML_20191126_143804_model_29</td>\n",
       "                        <td id=\"T_179caabc_117e_11ea_b383_80000208fe80row2_col129\" class=\"data row2 col129\" >GBM_grid_1_AutoML_20191126_143804_model_6</td>\n",
       "                        <td id=\"T_179caabc_117e_11ea_b383_80000208fe80row2_col130\" class=\"data row2 col130\" >DeepLearning_grid_1_AutoML_20191126_143804_model_50</td>\n",
       "                        <td id=\"T_179caabc_117e_11ea_b383_80000208fe80row2_col131\" class=\"data row2 col131\" >XGBoost_grid_1_AutoML_20191126_143804_model_29</td>\n",
       "                        <td id=\"T_179caabc_117e_11ea_b383_80000208fe80row2_col132\" class=\"data row2 col132\" >GBM_grid_1_AutoML_20191126_143804_model_1</td>\n",
       "                        <td id=\"T_179caabc_117e_11ea_b383_80000208fe80row2_col133\" class=\"data row2 col133\" >GBM_2_AutoML_20191126_143804</td>\n",
       "                        <td id=\"T_179caabc_117e_11ea_b383_80000208fe80row2_col134\" class=\"data row2 col134\" >GBM_grid_1_AutoML_20191126_143804_model_26</td>\n",
       "                        <td id=\"T_179caabc_117e_11ea_b383_80000208fe80row2_col135\" class=\"data row2 col135\" >GBM_grid_1_AutoML_20191126_143804_model_12</td>\n",
       "                        <td id=\"T_179caabc_117e_11ea_b383_80000208fe80row2_col136\" class=\"data row2 col136\" >GBM_grid_1_AutoML_20191126_143804_model_21</td>\n",
       "                        <td id=\"T_179caabc_117e_11ea_b383_80000208fe80row2_col137\" class=\"data row2 col137\" >XGBoost_grid_1_AutoML_20191126_143804_model_27</td>\n",
       "                        <td id=\"T_179caabc_117e_11ea_b383_80000208fe80row2_col138\" class=\"data row2 col138\" >DeepLearning_grid_1_AutoML_20191126_143804_model_17</td>\n",
       "                        <td id=\"T_179caabc_117e_11ea_b383_80000208fe80row2_col139\" class=\"data row2 col139\" >GBM_grid_1_AutoML_20191126_143804_model_13</td>\n",
       "                        <td id=\"T_179caabc_117e_11ea_b383_80000208fe80row2_col140\" class=\"data row2 col140\" >GBM_grid_1_AutoML_20191126_143804_model_14</td>\n",
       "                        <td id=\"T_179caabc_117e_11ea_b383_80000208fe80row2_col141\" class=\"data row2 col141\" >XGBoost_grid_1_AutoML_20191126_143804_model_13</td>\n",
       "                        <td id=\"T_179caabc_117e_11ea_b383_80000208fe80row2_col142\" class=\"data row2 col142\" >DeepLearning_grid_1_AutoML_20191126_143804_model_67</td>\n",
       "                        <td id=\"T_179caabc_117e_11ea_b383_80000208fe80row2_col143\" class=\"data row2 col143\" >XGBoost_grid_1_AutoML_20191126_143804_model_19</td>\n",
       "                        <td id=\"T_179caabc_117e_11ea_b383_80000208fe80row2_col144\" class=\"data row2 col144\" >DeepLearning_grid_1_AutoML_20191126_143804_model_53</td>\n",
       "                        <td id=\"T_179caabc_117e_11ea_b383_80000208fe80row2_col145\" class=\"data row2 col145\" >XGBoost_grid_1_AutoML_20191126_143804_model_5</td>\n",
       "                        <td id=\"T_179caabc_117e_11ea_b383_80000208fe80row2_col146\" class=\"data row2 col146\" >GBM_1_AutoML_20191126_143804</td>\n",
       "                        <td id=\"T_179caabc_117e_11ea_b383_80000208fe80row2_col147\" class=\"data row2 col147\" >XGBoost_grid_1_AutoML_20191126_143804_model_30</td>\n",
       "                        <td id=\"T_179caabc_117e_11ea_b383_80000208fe80row2_col148\" class=\"data row2 col148\" >DeepLearning_grid_1_AutoML_20191126_143804_model_37</td>\n",
       "                        <td id=\"T_179caabc_117e_11ea_b383_80000208fe80row2_col149\" class=\"data row2 col149\" >XGBoost_grid_1_AutoML_20191126_143804_model_43</td>\n",
       "                        <td id=\"T_179caabc_117e_11ea_b383_80000208fe80row2_col150\" class=\"data row2 col150\" >XGBoost_grid_1_AutoML_20191126_143804_model_42</td>\n",
       "                        <td id=\"T_179caabc_117e_11ea_b383_80000208fe80row2_col151\" class=\"data row2 col151\" >XGBoost_grid_1_AutoML_20191126_143804_model_4</td>\n",
       "                        <td id=\"T_179caabc_117e_11ea_b383_80000208fe80row2_col152\" class=\"data row2 col152\" >GBM_grid_1_AutoML_20191126_143804_model_3</td>\n",
       "                        <td id=\"T_179caabc_117e_11ea_b383_80000208fe80row2_col153\" class=\"data row2 col153\" >XGBoost_grid_1_AutoML_20191126_143804_model_23</td>\n",
       "                        <td id=\"T_179caabc_117e_11ea_b383_80000208fe80row2_col154\" class=\"data row2 col154\" >GBM_5_AutoML_20191126_143804</td>\n",
       "                        <td id=\"T_179caabc_117e_11ea_b383_80000208fe80row2_col155\" class=\"data row2 col155\" >DeepLearning_grid_1_AutoML_20191126_143804_model_75</td>\n",
       "                        <td id=\"T_179caabc_117e_11ea_b383_80000208fe80row2_col156\" class=\"data row2 col156\" >GBM_grid_1_AutoML_20191126_143804_model_32</td>\n",
       "                        <td id=\"T_179caabc_117e_11ea_b383_80000208fe80row2_col157\" class=\"data row2 col157\" >GBM_3_AutoML_20191126_143804</td>\n",
       "                        <td id=\"T_179caabc_117e_11ea_b383_80000208fe80row2_col158\" class=\"data row2 col158\" >XGBoost_grid_1_AutoML_20191126_143804_model_12</td>\n",
       "                        <td id=\"T_179caabc_117e_11ea_b383_80000208fe80row2_col159\" class=\"data row2 col159\" >XGBoost_grid_1_AutoML_20191126_143804_model_3</td>\n",
       "                        <td id=\"T_179caabc_117e_11ea_b383_80000208fe80row2_col160\" class=\"data row2 col160\" >XGBoost_grid_1_AutoML_20191126_143804_model_41</td>\n",
       "                        <td id=\"T_179caabc_117e_11ea_b383_80000208fe80row2_col161\" class=\"data row2 col161\" >XGBoost_grid_1_AutoML_20191126_143804_model_25</td>\n",
       "                        <td id=\"T_179caabc_117e_11ea_b383_80000208fe80row2_col162\" class=\"data row2 col162\" >XGBoost_grid_1_AutoML_20191126_143804_model_1</td>\n",
       "                        <td id=\"T_179caabc_117e_11ea_b383_80000208fe80row2_col163\" class=\"data row2 col163\" >XGBoost_grid_1_AutoML_20191126_143804_model_40</td>\n",
       "                        <td id=\"T_179caabc_117e_11ea_b383_80000208fe80row2_col164\" class=\"data row2 col164\" >GBM_grid_1_AutoML_20191126_143804_model_7</td>\n",
       "                        <td id=\"T_179caabc_117e_11ea_b383_80000208fe80row2_col165\" class=\"data row2 col165\" >DeepLearning_grid_1_AutoML_20191126_143804_model_85</td>\n",
       "                        <td id=\"T_179caabc_117e_11ea_b383_80000208fe80row2_col166\" class=\"data row2 col166\" >GBM_grid_1_AutoML_20191126_143804_model_16</td>\n",
       "                        <td id=\"T_179caabc_117e_11ea_b383_80000208fe80row2_col167\" class=\"data row2 col167\" >XGBoost_grid_1_AutoML_20191126_143804_model_24</td>\n",
       "                        <td id=\"T_179caabc_117e_11ea_b383_80000208fe80row2_col168\" class=\"data row2 col168\" >XGBoost_grid_1_AutoML_20191126_143804_model_10</td>\n",
       "                        <td id=\"T_179caabc_117e_11ea_b383_80000208fe80row2_col169\" class=\"data row2 col169\" >XRT_1_AutoML_20191126_143804</td>\n",
       "                        <td id=\"T_179caabc_117e_11ea_b383_80000208fe80row2_col170\" class=\"data row2 col170\" >XGBoost_grid_1_AutoML_20191126_143804_model_39</td>\n",
       "                        <td id=\"T_179caabc_117e_11ea_b383_80000208fe80row2_col171\" class=\"data row2 col171\" >DRF_1_AutoML_20191126_143804</td>\n",
       "                        <td id=\"T_179caabc_117e_11ea_b383_80000208fe80row2_col172\" class=\"data row2 col172\" >XGBoost_grid_1_AutoML_20191126_143804_model_26</td>\n",
       "                        <td id=\"T_179caabc_117e_11ea_b383_80000208fe80row2_col173\" class=\"data row2 col173\" >GBM_grid_1_AutoML_20191126_143804_model_10</td>\n",
       "                        <td id=\"T_179caabc_117e_11ea_b383_80000208fe80row2_col174\" class=\"data row2 col174\" >XGBoost_grid_1_AutoML_20191126_143804_model_14</td>\n",
       "                        <td id=\"T_179caabc_117e_11ea_b383_80000208fe80row2_col175\" class=\"data row2 col175\" >GBM_grid_1_AutoML_20191126_143804_model_18</td>\n",
       "                        <td id=\"T_179caabc_117e_11ea_b383_80000208fe80row2_col176\" class=\"data row2 col176\" >GBM_grid_1_AutoML_20191126_143804_model_11</td>\n",
       "                        <td id=\"T_179caabc_117e_11ea_b383_80000208fe80row2_col177\" class=\"data row2 col177\" >GBM_grid_1_AutoML_20191126_143804_model_35</td>\n",
       "                        <td id=\"T_179caabc_117e_11ea_b383_80000208fe80row2_col178\" class=\"data row2 col178\" >GBM_grid_1_AutoML_20191126_143804_model_38</td>\n",
       "                        <td id=\"T_179caabc_117e_11ea_b383_80000208fe80row2_col179\" class=\"data row2 col179\" >GBM_grid_1_AutoML_20191126_143804_model_9</td>\n",
       "                        <td id=\"T_179caabc_117e_11ea_b383_80000208fe80row2_col180\" class=\"data row2 col180\" >GBM_grid_1_AutoML_20191126_143804_model_4</td>\n",
       "                        <td id=\"T_179caabc_117e_11ea_b383_80000208fe80row2_col181\" class=\"data row2 col181\" >DeepLearning_grid_1_AutoML_20191126_143804_model_105</td>\n",
       "                        <td id=\"T_179caabc_117e_11ea_b383_80000208fe80row2_col182\" class=\"data row2 col182\" >DeepLearning_grid_1_AutoML_20191126_143804_model_84</td>\n",
       "                        <td id=\"T_179caabc_117e_11ea_b383_80000208fe80row2_col183\" class=\"data row2 col183\" >XGBoost_grid_1_AutoML_20191126_143804_model_44</td>\n",
       "                        <td id=\"T_179caabc_117e_11ea_b383_80000208fe80row2_col184\" class=\"data row2 col184\" >XGBoost_grid_1_AutoML_20191126_143804_model_16</td>\n",
       "                        <td id=\"T_179caabc_117e_11ea_b383_80000208fe80row2_col185\" class=\"data row2 col185\" >DeepLearning_grid_1_AutoML_20191126_143804_model_99</td>\n",
       "                        <td id=\"T_179caabc_117e_11ea_b383_80000208fe80row2_col186\" class=\"data row2 col186\" >GBM_grid_1_AutoML_20191126_143804_model_30</td>\n",
       "                        <td id=\"T_179caabc_117e_11ea_b383_80000208fe80row2_col187\" class=\"data row2 col187\" >XGBoost_grid_1_AutoML_20191126_143804_model_6</td>\n",
       "                        <td id=\"T_179caabc_117e_11ea_b383_80000208fe80row2_col188\" class=\"data row2 col188\" >GBM_grid_1_AutoML_20191126_143804_model_23</td>\n",
       "                        <td id=\"T_179caabc_117e_11ea_b383_80000208fe80row2_col189\" class=\"data row2 col189\" >XGBoost_grid_1_AutoML_20191126_143804_model_11</td>\n",
       "                        <td id=\"T_179caabc_117e_11ea_b383_80000208fe80row2_col190\" class=\"data row2 col190\" >XGBoost_grid_1_AutoML_20191126_143804_model_22</td>\n",
       "                        <td id=\"T_179caabc_117e_11ea_b383_80000208fe80row2_col191\" class=\"data row2 col191\" >GBM_grid_1_AutoML_20191126_143804_model_37</td>\n",
       "                        <td id=\"T_179caabc_117e_11ea_b383_80000208fe80row2_col192\" class=\"data row2 col192\" >GBM_grid_1_AutoML_20191126_143804_model_24</td>\n",
       "                        <td id=\"T_179caabc_117e_11ea_b383_80000208fe80row2_col193\" class=\"data row2 col193\" >GBM_grid_1_AutoML_20191126_143804_model_2</td>\n",
       "                        <td id=\"T_179caabc_117e_11ea_b383_80000208fe80row2_col194\" class=\"data row2 col194\" >GBM_grid_1_AutoML_20191126_143804_model_34</td>\n",
       "                        <td id=\"T_179caabc_117e_11ea_b383_80000208fe80row2_col195\" class=\"data row2 col195\" >GBM_grid_1_AutoML_20191126_143804_model_33</td>\n",
       "                        <td id=\"T_179caabc_117e_11ea_b383_80000208fe80row2_col196\" class=\"data row2 col196\" >XGBoost_grid_1_AutoML_20191126_143804_model_9</td>\n",
       "                        <td id=\"T_179caabc_117e_11ea_b383_80000208fe80row2_col197\" class=\"data row2 col197\" >GBM_grid_1_AutoML_20191126_143804_model_28</td>\n",
       "                        <td id=\"T_179caabc_117e_11ea_b383_80000208fe80row2_col198\" class=\"data row2 col198\" >DeepLearning_1_AutoML_20191126_143804</td>\n",
       "                        <td id=\"T_179caabc_117e_11ea_b383_80000208fe80row2_col199\" class=\"data row2 col199\" >GBM_grid_1_AutoML_20191126_143804_model_25</td>\n",
       "                        <td id=\"T_179caabc_117e_11ea_b383_80000208fe80row2_col200\" class=\"data row2 col200\" >GBM_grid_1_AutoML_20191126_143804_model_22</td>\n",
       "                        <td id=\"T_179caabc_117e_11ea_b383_80000208fe80row2_col201\" class=\"data row2 col201\" >GBM_grid_1_AutoML_20191126_143804_model_5</td>\n",
       "                        <td id=\"T_179caabc_117e_11ea_b383_80000208fe80row2_col202\" class=\"data row2 col202\" >GBM_grid_1_AutoML_20191126_143804_model_36</td>\n",
       "                        <td id=\"T_179caabc_117e_11ea_b383_80000208fe80row2_col203\" class=\"data row2 col203\" >nan</td>\n",
       "                        <td id=\"T_179caabc_117e_11ea_b383_80000208fe80row2_col204\" class=\"data row2 col204\" >nan</td>\n",
       "                        <td id=\"T_179caabc_117e_11ea_b383_80000208fe80row2_col205\" class=\"data row2 col205\" >nan</td>\n",
       "                        <td id=\"T_179caabc_117e_11ea_b383_80000208fe80row2_col206\" class=\"data row2 col206\" >nan</td>\n",
       "                        <td id=\"T_179caabc_117e_11ea_b383_80000208fe80row2_col207\" class=\"data row2 col207\" >nan</td>\n",
       "                        <td id=\"T_179caabc_117e_11ea_b383_80000208fe80row2_col208\" class=\"data row2 col208\" >nan</td>\n",
       "                        <td id=\"T_179caabc_117e_11ea_b383_80000208fe80row2_col209\" class=\"data row2 col209\" >nan</td>\n",
       "                        <td id=\"T_179caabc_117e_11ea_b383_80000208fe80row2_col210\" class=\"data row2 col210\" >nan</td>\n",
       "                        <td id=\"T_179caabc_117e_11ea_b383_80000208fe80row2_col211\" class=\"data row2 col211\" >nan</td>\n",
       "                        <td id=\"T_179caabc_117e_11ea_b383_80000208fe80row2_col212\" class=\"data row2 col212\" >nan</td>\n",
       "                        <td id=\"T_179caabc_117e_11ea_b383_80000208fe80row2_col213\" class=\"data row2 col213\" >nan</td>\n",
       "                        <td id=\"T_179caabc_117e_11ea_b383_80000208fe80row2_col214\" class=\"data row2 col214\" >nan</td>\n",
       "                        <td id=\"T_179caabc_117e_11ea_b383_80000208fe80row2_col215\" class=\"data row2 col215\" >nan</td>\n",
       "                        <td id=\"T_179caabc_117e_11ea_b383_80000208fe80row2_col216\" class=\"data row2 col216\" >nan</td>\n",
       "                        <td id=\"T_179caabc_117e_11ea_b383_80000208fe80row2_col217\" class=\"data row2 col217\" >nan</td>\n",
       "                        <td id=\"T_179caabc_117e_11ea_b383_80000208fe80row2_col218\" class=\"data row2 col218\" >nan</td>\n",
       "                        <td id=\"T_179caabc_117e_11ea_b383_80000208fe80row2_col219\" class=\"data row2 col219\" >nan</td>\n",
       "                        <td id=\"T_179caabc_117e_11ea_b383_80000208fe80row2_col220\" class=\"data row2 col220\" >nan</td>\n",
       "                        <td id=\"T_179caabc_117e_11ea_b383_80000208fe80row2_col221\" class=\"data row2 col221\" >nan</td>\n",
       "                        <td id=\"T_179caabc_117e_11ea_b383_80000208fe80row2_col222\" class=\"data row2 col222\" >nan</td>\n",
       "                        <td id=\"T_179caabc_117e_11ea_b383_80000208fe80row2_col223\" class=\"data row2 col223\" >nan</td>\n",
       "                        <td id=\"T_179caabc_117e_11ea_b383_80000208fe80row2_col224\" class=\"data row2 col224\" >nan</td>\n",
       "                        <td id=\"T_179caabc_117e_11ea_b383_80000208fe80row2_col225\" class=\"data row2 col225\" >nan</td>\n",
       "                        <td id=\"T_179caabc_117e_11ea_b383_80000208fe80row2_col226\" class=\"data row2 col226\" >nan</td>\n",
       "                        <td id=\"T_179caabc_117e_11ea_b383_80000208fe80row2_col227\" class=\"data row2 col227\" >nan</td>\n",
       "                        <td id=\"T_179caabc_117e_11ea_b383_80000208fe80row2_col228\" class=\"data row2 col228\" >nan</td>\n",
       "                        <td id=\"T_179caabc_117e_11ea_b383_80000208fe80row2_col229\" class=\"data row2 col229\" >nan</td>\n",
       "                        <td id=\"T_179caabc_117e_11ea_b383_80000208fe80row2_col230\" class=\"data row2 col230\" >nan</td>\n",
       "                        <td id=\"T_179caabc_117e_11ea_b383_80000208fe80row2_col231\" class=\"data row2 col231\" >nan</td>\n",
       "                        <td id=\"T_179caabc_117e_11ea_b383_80000208fe80row2_col232\" class=\"data row2 col232\" >nan</td>\n",
       "                        <td id=\"T_179caabc_117e_11ea_b383_80000208fe80row2_col233\" class=\"data row2 col233\" >nan</td>\n",
       "                        <td id=\"T_179caabc_117e_11ea_b383_80000208fe80row2_col234\" class=\"data row2 col234\" >nan</td>\n",
       "                        <td id=\"T_179caabc_117e_11ea_b383_80000208fe80row2_col235\" class=\"data row2 col235\" >nan</td>\n",
       "                        <td id=\"T_179caabc_117e_11ea_b383_80000208fe80row2_col236\" class=\"data row2 col236\" >nan</td>\n",
       "                        <td id=\"T_179caabc_117e_11ea_b383_80000208fe80row2_col237\" class=\"data row2 col237\" >nan</td>\n",
       "                        <td id=\"T_179caabc_117e_11ea_b383_80000208fe80row2_col238\" class=\"data row2 col238\" >nan</td>\n",
       "                        <td id=\"T_179caabc_117e_11ea_b383_80000208fe80row2_col239\" class=\"data row2 col239\" >nan</td>\n",
       "                        <td id=\"T_179caabc_117e_11ea_b383_80000208fe80row2_col240\" class=\"data row2 col240\" >nan</td>\n",
       "                        <td id=\"T_179caabc_117e_11ea_b383_80000208fe80row2_col241\" class=\"data row2 col241\" >nan</td>\n",
       "                        <td id=\"T_179caabc_117e_11ea_b383_80000208fe80row2_col242\" class=\"data row2 col242\" >nan</td>\n",
       "                        <td id=\"T_179caabc_117e_11ea_b383_80000208fe80row2_col243\" class=\"data row2 col243\" >nan</td>\n",
       "                        <td id=\"T_179caabc_117e_11ea_b383_80000208fe80row2_col244\" class=\"data row2 col244\" >nan</td>\n",
       "                        <td id=\"T_179caabc_117e_11ea_b383_80000208fe80row2_col245\" class=\"data row2 col245\" >nan</td>\n",
       "                        <td id=\"T_179caabc_117e_11ea_b383_80000208fe80row2_col246\" class=\"data row2 col246\" >nan</td>\n",
       "                        <td id=\"T_179caabc_117e_11ea_b383_80000208fe80row2_col247\" class=\"data row2 col247\" >nan</td>\n",
       "                        <td id=\"T_179caabc_117e_11ea_b383_80000208fe80row2_col248\" class=\"data row2 col248\" >nan</td>\n",
       "                        <td id=\"T_179caabc_117e_11ea_b383_80000208fe80row2_col249\" class=\"data row2 col249\" >nan</td>\n",
       "                        <td id=\"T_179caabc_117e_11ea_b383_80000208fe80row2_col250\" class=\"data row2 col250\" >nan</td>\n",
       "                        <td id=\"T_179caabc_117e_11ea_b383_80000208fe80row2_col251\" class=\"data row2 col251\" >nan</td>\n",
       "                        <td id=\"T_179caabc_117e_11ea_b383_80000208fe80row2_col252\" class=\"data row2 col252\" >nan</td>\n",
       "                        <td id=\"T_179caabc_117e_11ea_b383_80000208fe80row2_col253\" class=\"data row2 col253\" >nan</td>\n",
       "                        <td id=\"T_179caabc_117e_11ea_b383_80000208fe80row2_col254\" class=\"data row2 col254\" >nan</td>\n",
       "                        <td id=\"T_179caabc_117e_11ea_b383_80000208fe80row2_col255\" class=\"data row2 col255\" >nan</td>\n",
       "                        <td id=\"T_179caabc_117e_11ea_b383_80000208fe80row2_col256\" class=\"data row2 col256\" >nan</td>\n",
       "                        <td id=\"T_179caabc_117e_11ea_b383_80000208fe80row2_col257\" class=\"data row2 col257\" >nan</td>\n",
       "                        <td id=\"T_179caabc_117e_11ea_b383_80000208fe80row2_col258\" class=\"data row2 col258\" >nan</td>\n",
       "                        <td id=\"T_179caabc_117e_11ea_b383_80000208fe80row2_col259\" class=\"data row2 col259\" >nan</td>\n",
       "                        <td id=\"T_179caabc_117e_11ea_b383_80000208fe80row2_col260\" class=\"data row2 col260\" >nan</td>\n",
       "                        <td id=\"T_179caabc_117e_11ea_b383_80000208fe80row2_col261\" class=\"data row2 col261\" >nan</td>\n",
       "                        <td id=\"T_179caabc_117e_11ea_b383_80000208fe80row2_col262\" class=\"data row2 col262\" >nan</td>\n",
       "                        <td id=\"T_179caabc_117e_11ea_b383_80000208fe80row2_col263\" class=\"data row2 col263\" >nan</td>\n",
       "                        <td id=\"T_179caabc_117e_11ea_b383_80000208fe80row2_col264\" class=\"data row2 col264\" >nan</td>\n",
       "                        <td id=\"T_179caabc_117e_11ea_b383_80000208fe80row2_col265\" class=\"data row2 col265\" >nan</td>\n",
       "                        <td id=\"T_179caabc_117e_11ea_b383_80000208fe80row2_col266\" class=\"data row2 col266\" >nan</td>\n",
       "                        <td id=\"T_179caabc_117e_11ea_b383_80000208fe80row2_col267\" class=\"data row2 col267\" >nan</td>\n",
       "                        <td id=\"T_179caabc_117e_11ea_b383_80000208fe80row2_col268\" class=\"data row2 col268\" >nan</td>\n",
       "                        <td id=\"T_179caabc_117e_11ea_b383_80000208fe80row2_col269\" class=\"data row2 col269\" >nan</td>\n",
       "                        <td id=\"T_179caabc_117e_11ea_b383_80000208fe80row2_col270\" class=\"data row2 col270\" >nan</td>\n",
       "                        <td id=\"T_179caabc_117e_11ea_b383_80000208fe80row2_col271\" class=\"data row2 col271\" >nan</td>\n",
       "                        <td id=\"T_179caabc_117e_11ea_b383_80000208fe80row2_col272\" class=\"data row2 col272\" >nan</td>\n",
       "                        <td id=\"T_179caabc_117e_11ea_b383_80000208fe80row2_col273\" class=\"data row2 col273\" >nan</td>\n",
       "                        <td id=\"T_179caabc_117e_11ea_b383_80000208fe80row2_col274\" class=\"data row2 col274\" >nan</td>\n",
       "                        <td id=\"T_179caabc_117e_11ea_b383_80000208fe80row2_col275\" class=\"data row2 col275\" >nan</td>\n",
       "                        <td id=\"T_179caabc_117e_11ea_b383_80000208fe80row2_col276\" class=\"data row2 col276\" >nan</td>\n",
       "                        <td id=\"T_179caabc_117e_11ea_b383_80000208fe80row2_col277\" class=\"data row2 col277\" >nan</td>\n",
       "                        <td id=\"T_179caabc_117e_11ea_b383_80000208fe80row2_col278\" class=\"data row2 col278\" >nan</td>\n",
       "                        <td id=\"T_179caabc_117e_11ea_b383_80000208fe80row2_col279\" class=\"data row2 col279\" >nan</td>\n",
       "                        <td id=\"T_179caabc_117e_11ea_b383_80000208fe80row2_col280\" class=\"data row2 col280\" >nan</td>\n",
       "                        <td id=\"T_179caabc_117e_11ea_b383_80000208fe80row2_col281\" class=\"data row2 col281\" >nan</td>\n",
       "                        <td id=\"T_179caabc_117e_11ea_b383_80000208fe80row2_col282\" class=\"data row2 col282\" >nan</td>\n",
       "                        <td id=\"T_179caabc_117e_11ea_b383_80000208fe80row2_col283\" class=\"data row2 col283\" >nan</td>\n",
       "                        <td id=\"T_179caabc_117e_11ea_b383_80000208fe80row2_col284\" class=\"data row2 col284\" >nan</td>\n",
       "                        <td id=\"T_179caabc_117e_11ea_b383_80000208fe80row2_col285\" class=\"data row2 col285\" >nan</td>\n",
       "                        <td id=\"T_179caabc_117e_11ea_b383_80000208fe80row2_col286\" class=\"data row2 col286\" >nan</td>\n",
       "                        <td id=\"T_179caabc_117e_11ea_b383_80000208fe80row2_col287\" class=\"data row2 col287\" >nan</td>\n",
       "                        <td id=\"T_179caabc_117e_11ea_b383_80000208fe80row2_col288\" class=\"data row2 col288\" >nan</td>\n",
       "                        <td id=\"T_179caabc_117e_11ea_b383_80000208fe80row2_col289\" class=\"data row2 col289\" >nan</td>\n",
       "                        <td id=\"T_179caabc_117e_11ea_b383_80000208fe80row2_col290\" class=\"data row2 col290\" >nan</td>\n",
       "                        <td id=\"T_179caabc_117e_11ea_b383_80000208fe80row2_col291\" class=\"data row2 col291\" >nan</td>\n",
       "                        <td id=\"T_179caabc_117e_11ea_b383_80000208fe80row2_col292\" class=\"data row2 col292\" >nan</td>\n",
       "                        <td id=\"T_179caabc_117e_11ea_b383_80000208fe80row2_col293\" class=\"data row2 col293\" >nan</td>\n",
       "                        <td id=\"T_179caabc_117e_11ea_b383_80000208fe80row2_col294\" class=\"data row2 col294\" >nan</td>\n",
       "                        <td id=\"T_179caabc_117e_11ea_b383_80000208fe80row2_col295\" class=\"data row2 col295\" >nan</td>\n",
       "                        <td id=\"T_179caabc_117e_11ea_b383_80000208fe80row2_col296\" class=\"data row2 col296\" >nan</td>\n",
       "                        <td id=\"T_179caabc_117e_11ea_b383_80000208fe80row2_col297\" class=\"data row2 col297\" >nan</td>\n",
       "                        <td id=\"T_179caabc_117e_11ea_b383_80000208fe80row2_col298\" class=\"data row2 col298\" >nan</td>\n",
       "                        <td id=\"T_179caabc_117e_11ea_b383_80000208fe80row2_col299\" class=\"data row2 col299\" >nan</td>\n",
       "                        <td id=\"T_179caabc_117e_11ea_b383_80000208fe80row2_col300\" class=\"data row2 col300\" >nan</td>\n",
       "                        <td id=\"T_179caabc_117e_11ea_b383_80000208fe80row2_col301\" class=\"data row2 col301\" >nan</td>\n",
       "                        <td id=\"T_179caabc_117e_11ea_b383_80000208fe80row2_col302\" class=\"data row2 col302\" >nan</td>\n",
       "                        <td id=\"T_179caabc_117e_11ea_b383_80000208fe80row2_col303\" class=\"data row2 col303\" >nan</td>\n",
       "                        <td id=\"T_179caabc_117e_11ea_b383_80000208fe80row2_col304\" class=\"data row2 col304\" >nan</td>\n",
       "                        <td id=\"T_179caabc_117e_11ea_b383_80000208fe80row2_col305\" class=\"data row2 col305\" >nan</td>\n",
       "                        <td id=\"T_179caabc_117e_11ea_b383_80000208fe80row2_col306\" class=\"data row2 col306\" >nan</td>\n",
       "                        <td id=\"T_179caabc_117e_11ea_b383_80000208fe80row2_col307\" class=\"data row2 col307\" >nan</td>\n",
       "                        <td id=\"T_179caabc_117e_11ea_b383_80000208fe80row2_col308\" class=\"data row2 col308\" >nan</td>\n",
       "                        <td id=\"T_179caabc_117e_11ea_b383_80000208fe80row2_col309\" class=\"data row2 col309\" >nan</td>\n",
       "                        <td id=\"T_179caabc_117e_11ea_b383_80000208fe80row2_col310\" class=\"data row2 col310\" >nan</td>\n",
       "                        <td id=\"T_179caabc_117e_11ea_b383_80000208fe80row2_col311\" class=\"data row2 col311\" >nan</td>\n",
       "                        <td id=\"T_179caabc_117e_11ea_b383_80000208fe80row2_col312\" class=\"data row2 col312\" >nan</td>\n",
       "                        <td id=\"T_179caabc_117e_11ea_b383_80000208fe80row2_col313\" class=\"data row2 col313\" >nan</td>\n",
       "                        <td id=\"T_179caabc_117e_11ea_b383_80000208fe80row2_col314\" class=\"data row2 col314\" >nan</td>\n",
       "                        <td id=\"T_179caabc_117e_11ea_b383_80000208fe80row2_col315\" class=\"data row2 col315\" >nan</td>\n",
       "                        <td id=\"T_179caabc_117e_11ea_b383_80000208fe80row2_col316\" class=\"data row2 col316\" >nan</td>\n",
       "                        <td id=\"T_179caabc_117e_11ea_b383_80000208fe80row2_col317\" class=\"data row2 col317\" >nan</td>\n",
       "                        <td id=\"T_179caabc_117e_11ea_b383_80000208fe80row2_col318\" class=\"data row2 col318\" >nan</td>\n",
       "                        <td id=\"T_179caabc_117e_11ea_b383_80000208fe80row2_col319\" class=\"data row2 col319\" >nan</td>\n",
       "                        <td id=\"T_179caabc_117e_11ea_b383_80000208fe80row2_col320\" class=\"data row2 col320\" >nan</td>\n",
       "                        <td id=\"T_179caabc_117e_11ea_b383_80000208fe80row2_col321\" class=\"data row2 col321\" >nan</td>\n",
       "                        <td id=\"T_179caabc_117e_11ea_b383_80000208fe80row2_col322\" class=\"data row2 col322\" >nan</td>\n",
       "                        <td id=\"T_179caabc_117e_11ea_b383_80000208fe80row2_col323\" class=\"data row2 col323\" >nan</td>\n",
       "                        <td id=\"T_179caabc_117e_11ea_b383_80000208fe80row2_col324\" class=\"data row2 col324\" >nan</td>\n",
       "                        <td id=\"T_179caabc_117e_11ea_b383_80000208fe80row2_col325\" class=\"data row2 col325\" >nan</td>\n",
       "                        <td id=\"T_179caabc_117e_11ea_b383_80000208fe80row2_col326\" class=\"data row2 col326\" >nan</td>\n",
       "                        <td id=\"T_179caabc_117e_11ea_b383_80000208fe80row2_col327\" class=\"data row2 col327\" >nan</td>\n",
       "                        <td id=\"T_179caabc_117e_11ea_b383_80000208fe80row2_col328\" class=\"data row2 col328\" >nan</td>\n",
       "                        <td id=\"T_179caabc_117e_11ea_b383_80000208fe80row2_col329\" class=\"data row2 col329\" >nan</td>\n",
       "                        <td id=\"T_179caabc_117e_11ea_b383_80000208fe80row2_col330\" class=\"data row2 col330\" >nan</td>\n",
       "                        <td id=\"T_179caabc_117e_11ea_b383_80000208fe80row2_col331\" class=\"data row2 col331\" >nan</td>\n",
       "                        <td id=\"T_179caabc_117e_11ea_b383_80000208fe80row2_col332\" class=\"data row2 col332\" >nan</td>\n",
       "                        <td id=\"T_179caabc_117e_11ea_b383_80000208fe80row2_col333\" class=\"data row2 col333\" >nan</td>\n",
       "                        <td id=\"T_179caabc_117e_11ea_b383_80000208fe80row2_col334\" class=\"data row2 col334\" >nan</td>\n",
       "                        <td id=\"T_179caabc_117e_11ea_b383_80000208fe80row2_col335\" class=\"data row2 col335\" >nan</td>\n",
       "                        <td id=\"T_179caabc_117e_11ea_b383_80000208fe80row2_col336\" class=\"data row2 col336\" >nan</td>\n",
       "                        <td id=\"T_179caabc_117e_11ea_b383_80000208fe80row2_col337\" class=\"data row2 col337\" >nan</td>\n",
       "                        <td id=\"T_179caabc_117e_11ea_b383_80000208fe80row2_col338\" class=\"data row2 col338\" >nan</td>\n",
       "                        <td id=\"T_179caabc_117e_11ea_b383_80000208fe80row2_col339\" class=\"data row2 col339\" >nan</td>\n",
       "                        <td id=\"T_179caabc_117e_11ea_b383_80000208fe80row2_col340\" class=\"data row2 col340\" >nan</td>\n",
       "                        <td id=\"T_179caabc_117e_11ea_b383_80000208fe80row2_col341\" class=\"data row2 col341\" >nan</td>\n",
       "                        <td id=\"T_179caabc_117e_11ea_b383_80000208fe80row2_col342\" class=\"data row2 col342\" >nan</td>\n",
       "                        <td id=\"T_179caabc_117e_11ea_b383_80000208fe80row2_col343\" class=\"data row2 col343\" >nan</td>\n",
       "                        <td id=\"T_179caabc_117e_11ea_b383_80000208fe80row2_col344\" class=\"data row2 col344\" >nan</td>\n",
       "                        <td id=\"T_179caabc_117e_11ea_b383_80000208fe80row2_col345\" class=\"data row2 col345\" >nan</td>\n",
       "                        <td id=\"T_179caabc_117e_11ea_b383_80000208fe80row2_col346\" class=\"data row2 col346\" >nan</td>\n",
       "                        <td id=\"T_179caabc_117e_11ea_b383_80000208fe80row2_col347\" class=\"data row2 col347\" >nan</td>\n",
       "                        <td id=\"T_179caabc_117e_11ea_b383_80000208fe80row2_col348\" class=\"data row2 col348\" >nan</td>\n",
       "                        <td id=\"T_179caabc_117e_11ea_b383_80000208fe80row2_col349\" class=\"data row2 col349\" >nan</td>\n",
       "                        <td id=\"T_179caabc_117e_11ea_b383_80000208fe80row2_col350\" class=\"data row2 col350\" >nan</td>\n",
       "                        <td id=\"T_179caabc_117e_11ea_b383_80000208fe80row2_col351\" class=\"data row2 col351\" >nan</td>\n",
       "                        <td id=\"T_179caabc_117e_11ea_b383_80000208fe80row2_col352\" class=\"data row2 col352\" >nan</td>\n",
       "                        <td id=\"T_179caabc_117e_11ea_b383_80000208fe80row2_col353\" class=\"data row2 col353\" >nan</td>\n",
       "                        <td id=\"T_179caabc_117e_11ea_b383_80000208fe80row2_col354\" class=\"data row2 col354\" >nan</td>\n",
       "                        <td id=\"T_179caabc_117e_11ea_b383_80000208fe80row2_col355\" class=\"data row2 col355\" >nan</td>\n",
       "                        <td id=\"T_179caabc_117e_11ea_b383_80000208fe80row2_col356\" class=\"data row2 col356\" >nan</td>\n",
       "                        <td id=\"T_179caabc_117e_11ea_b383_80000208fe80row2_col357\" class=\"data row2 col357\" >nan</td>\n",
       "                        <td id=\"T_179caabc_117e_11ea_b383_80000208fe80row2_col358\" class=\"data row2 col358\" >nan</td>\n",
       "                        <td id=\"T_179caabc_117e_11ea_b383_80000208fe80row2_col359\" class=\"data row2 col359\" >nan</td>\n",
       "                        <td id=\"T_179caabc_117e_11ea_b383_80000208fe80row2_col360\" class=\"data row2 col360\" >nan</td>\n",
       "                        <td id=\"T_179caabc_117e_11ea_b383_80000208fe80row2_col361\" class=\"data row2 col361\" >nan</td>\n",
       "                        <td id=\"T_179caabc_117e_11ea_b383_80000208fe80row2_col362\" class=\"data row2 col362\" >nan</td>\n",
       "                        <td id=\"T_179caabc_117e_11ea_b383_80000208fe80row2_col363\" class=\"data row2 col363\" >nan</td>\n",
       "                        <td id=\"T_179caabc_117e_11ea_b383_80000208fe80row2_col364\" class=\"data row2 col364\" >nan</td>\n",
       "                        <td id=\"T_179caabc_117e_11ea_b383_80000208fe80row2_col365\" class=\"data row2 col365\" >nan</td>\n",
       "                        <td id=\"T_179caabc_117e_11ea_b383_80000208fe80row2_col366\" class=\"data row2 col366\" >nan</td>\n",
       "                        <td id=\"T_179caabc_117e_11ea_b383_80000208fe80row2_col367\" class=\"data row2 col367\" >nan</td>\n",
       "                        <td id=\"T_179caabc_117e_11ea_b383_80000208fe80row2_col368\" class=\"data row2 col368\" >nan</td>\n",
       "                        <td id=\"T_179caabc_117e_11ea_b383_80000208fe80row2_col369\" class=\"data row2 col369\" >nan</td>\n",
       "                        <td id=\"T_179caabc_117e_11ea_b383_80000208fe80row2_col370\" class=\"data row2 col370\" >nan</td>\n",
       "                        <td id=\"T_179caabc_117e_11ea_b383_80000208fe80row2_col371\" class=\"data row2 col371\" >nan</td>\n",
       "                        <td id=\"T_179caabc_117e_11ea_b383_80000208fe80row2_col372\" class=\"data row2 col372\" >nan</td>\n",
       "                        <td id=\"T_179caabc_117e_11ea_b383_80000208fe80row2_col373\" class=\"data row2 col373\" >nan</td>\n",
       "                        <td id=\"T_179caabc_117e_11ea_b383_80000208fe80row2_col374\" class=\"data row2 col374\" >nan</td>\n",
       "                        <td id=\"T_179caabc_117e_11ea_b383_80000208fe80row2_col375\" class=\"data row2 col375\" >nan</td>\n",
       "                        <td id=\"T_179caabc_117e_11ea_b383_80000208fe80row2_col376\" class=\"data row2 col376\" >nan</td>\n",
       "                        <td id=\"T_179caabc_117e_11ea_b383_80000208fe80row2_col377\" class=\"data row2 col377\" >nan</td>\n",
       "                        <td id=\"T_179caabc_117e_11ea_b383_80000208fe80row2_col378\" class=\"data row2 col378\" >nan</td>\n",
       "                        <td id=\"T_179caabc_117e_11ea_b383_80000208fe80row2_col379\" class=\"data row2 col379\" >nan</td>\n",
       "                        <td id=\"T_179caabc_117e_11ea_b383_80000208fe80row2_col380\" class=\"data row2 col380\" >nan</td>\n",
       "                        <td id=\"T_179caabc_117e_11ea_b383_80000208fe80row2_col381\" class=\"data row2 col381\" >nan</td>\n",
       "                        <td id=\"T_179caabc_117e_11ea_b383_80000208fe80row2_col382\" class=\"data row2 col382\" >nan</td>\n",
       "                        <td id=\"T_179caabc_117e_11ea_b383_80000208fe80row2_col383\" class=\"data row2 col383\" >nan</td>\n",
       "                        <td id=\"T_179caabc_117e_11ea_b383_80000208fe80row2_col384\" class=\"data row2 col384\" >nan</td>\n",
       "                        <td id=\"T_179caabc_117e_11ea_b383_80000208fe80row2_col385\" class=\"data row2 col385\" >nan</td>\n",
       "                        <td id=\"T_179caabc_117e_11ea_b383_80000208fe80row2_col386\" class=\"data row2 col386\" >nan</td>\n",
       "                        <td id=\"T_179caabc_117e_11ea_b383_80000208fe80row2_col387\" class=\"data row2 col387\" >nan</td>\n",
       "                        <td id=\"T_179caabc_117e_11ea_b383_80000208fe80row2_col388\" class=\"data row2 col388\" >nan</td>\n",
       "                        <td id=\"T_179caabc_117e_11ea_b383_80000208fe80row2_col389\" class=\"data row2 col389\" >nan</td>\n",
       "                        <td id=\"T_179caabc_117e_11ea_b383_80000208fe80row2_col390\" class=\"data row2 col390\" >nan</td>\n",
       "                        <td id=\"T_179caabc_117e_11ea_b383_80000208fe80row2_col391\" class=\"data row2 col391\" >nan</td>\n",
       "                        <td id=\"T_179caabc_117e_11ea_b383_80000208fe80row2_col392\" class=\"data row2 col392\" >nan</td>\n",
       "                        <td id=\"T_179caabc_117e_11ea_b383_80000208fe80row2_col393\" class=\"data row2 col393\" >nan</td>\n",
       "                        <td id=\"T_179caabc_117e_11ea_b383_80000208fe80row2_col394\" class=\"data row2 col394\" >nan</td>\n",
       "                        <td id=\"T_179caabc_117e_11ea_b383_80000208fe80row2_col395\" class=\"data row2 col395\" >nan</td>\n",
       "                        <td id=\"T_179caabc_117e_11ea_b383_80000208fe80row2_col396\" class=\"data row2 col396\" >nan</td>\n",
       "                        <td id=\"T_179caabc_117e_11ea_b383_80000208fe80row2_col397\" class=\"data row2 col397\" >nan</td>\n",
       "                        <td id=\"T_179caabc_117e_11ea_b383_80000208fe80row2_col398\" class=\"data row2 col398\" >nan</td>\n",
       "                        <td id=\"T_179caabc_117e_11ea_b383_80000208fe80row2_col399\" class=\"data row2 col399\" >nan</td>\n",
       "                        <td id=\"T_179caabc_117e_11ea_b383_80000208fe80row2_col400\" class=\"data row2 col400\" >nan</td>\n",
       "                        <td id=\"T_179caabc_117e_11ea_b383_80000208fe80row2_col401\" class=\"data row2 col401\" >nan</td>\n",
       "                        <td id=\"T_179caabc_117e_11ea_b383_80000208fe80row2_col402\" class=\"data row2 col402\" >nan</td>\n",
       "                        <td id=\"T_179caabc_117e_11ea_b383_80000208fe80row2_col403\" class=\"data row2 col403\" >nan</td>\n",
       "                        <td id=\"T_179caabc_117e_11ea_b383_80000208fe80row2_col404\" class=\"data row2 col404\" >nan</td>\n",
       "                        <td id=\"T_179caabc_117e_11ea_b383_80000208fe80row2_col405\" class=\"data row2 col405\" >nan</td>\n",
       "                        <td id=\"T_179caabc_117e_11ea_b383_80000208fe80row2_col406\" class=\"data row2 col406\" >nan</td>\n",
       "                        <td id=\"T_179caabc_117e_11ea_b383_80000208fe80row2_col407\" class=\"data row2 col407\" >nan</td>\n",
       "                        <td id=\"T_179caabc_117e_11ea_b383_80000208fe80row2_col408\" class=\"data row2 col408\" >nan</td>\n",
       "                        <td id=\"T_179caabc_117e_11ea_b383_80000208fe80row2_col409\" class=\"data row2 col409\" >nan</td>\n",
       "                        <td id=\"T_179caabc_117e_11ea_b383_80000208fe80row2_col410\" class=\"data row2 col410\" >nan</td>\n",
       "                        <td id=\"T_179caabc_117e_11ea_b383_80000208fe80row2_col411\" class=\"data row2 col411\" >nan</td>\n",
       "                        <td id=\"T_179caabc_117e_11ea_b383_80000208fe80row2_col412\" class=\"data row2 col412\" >nan</td>\n",
       "                        <td id=\"T_179caabc_117e_11ea_b383_80000208fe80row2_col413\" class=\"data row2 col413\" >nan</td>\n",
       "                        <td id=\"T_179caabc_117e_11ea_b383_80000208fe80row2_col414\" class=\"data row2 col414\" >nan</td>\n",
       "                        <td id=\"T_179caabc_117e_11ea_b383_80000208fe80row2_col415\" class=\"data row2 col415\" >nan</td>\n",
       "                        <td id=\"T_179caabc_117e_11ea_b383_80000208fe80row2_col416\" class=\"data row2 col416\" >nan</td>\n",
       "                        <td id=\"T_179caabc_117e_11ea_b383_80000208fe80row2_col417\" class=\"data row2 col417\" >nan</td>\n",
       "                        <td id=\"T_179caabc_117e_11ea_b383_80000208fe80row2_col418\" class=\"data row2 col418\" >nan</td>\n",
       "                        <td id=\"T_179caabc_117e_11ea_b383_80000208fe80row2_col419\" class=\"data row2 col419\" >nan</td>\n",
       "                        <td id=\"T_179caabc_117e_11ea_b383_80000208fe80row2_col420\" class=\"data row2 col420\" >nan</td>\n",
       "                        <td id=\"T_179caabc_117e_11ea_b383_80000208fe80row2_col421\" class=\"data row2 col421\" >nan</td>\n",
       "                        <td id=\"T_179caabc_117e_11ea_b383_80000208fe80row2_col422\" class=\"data row2 col422\" >nan</td>\n",
       "                        <td id=\"T_179caabc_117e_11ea_b383_80000208fe80row2_col423\" class=\"data row2 col423\" >nan</td>\n",
       "                        <td id=\"T_179caabc_117e_11ea_b383_80000208fe80row2_col424\" class=\"data row2 col424\" >nan</td>\n",
       "                        <td id=\"T_179caabc_117e_11ea_b383_80000208fe80row2_col425\" class=\"data row2 col425\" >nan</td>\n",
       "                        <td id=\"T_179caabc_117e_11ea_b383_80000208fe80row2_col426\" class=\"data row2 col426\" >nan</td>\n",
       "                        <td id=\"T_179caabc_117e_11ea_b383_80000208fe80row2_col427\" class=\"data row2 col427\" >nan</td>\n",
       "                        <td id=\"T_179caabc_117e_11ea_b383_80000208fe80row2_col428\" class=\"data row2 col428\" >nan</td>\n",
       "                        <td id=\"T_179caabc_117e_11ea_b383_80000208fe80row2_col429\" class=\"data row2 col429\" >nan</td>\n",
       "                        <td id=\"T_179caabc_117e_11ea_b383_80000208fe80row2_col430\" class=\"data row2 col430\" >nan</td>\n",
       "                        <td id=\"T_179caabc_117e_11ea_b383_80000208fe80row2_col431\" class=\"data row2 col431\" >nan</td>\n",
       "                        <td id=\"T_179caabc_117e_11ea_b383_80000208fe80row2_col432\" class=\"data row2 col432\" >nan</td>\n",
       "                        <td id=\"T_179caabc_117e_11ea_b383_80000208fe80row2_col433\" class=\"data row2 col433\" >nan</td>\n",
       "                        <td id=\"T_179caabc_117e_11ea_b383_80000208fe80row2_col434\" class=\"data row2 col434\" >nan</td>\n",
       "                        <td id=\"T_179caabc_117e_11ea_b383_80000208fe80row2_col435\" class=\"data row2 col435\" >nan</td>\n",
       "                        <td id=\"T_179caabc_117e_11ea_b383_80000208fe80row2_col436\" class=\"data row2 col436\" >nan</td>\n",
       "                        <td id=\"T_179caabc_117e_11ea_b383_80000208fe80row2_col437\" class=\"data row2 col437\" >nan</td>\n",
       "                        <td id=\"T_179caabc_117e_11ea_b383_80000208fe80row2_col438\" class=\"data row2 col438\" >nan</td>\n",
       "                        <td id=\"T_179caabc_117e_11ea_b383_80000208fe80row2_col439\" class=\"data row2 col439\" >nan</td>\n",
       "                        <td id=\"T_179caabc_117e_11ea_b383_80000208fe80row2_col440\" class=\"data row2 col440\" >nan</td>\n",
       "                        <td id=\"T_179caabc_117e_11ea_b383_80000208fe80row2_col441\" class=\"data row2 col441\" >nan</td>\n",
       "                        <td id=\"T_179caabc_117e_11ea_b383_80000208fe80row2_col442\" class=\"data row2 col442\" >nan</td>\n",
       "                        <td id=\"T_179caabc_117e_11ea_b383_80000208fe80row2_col443\" class=\"data row2 col443\" >nan</td>\n",
       "                        <td id=\"T_179caabc_117e_11ea_b383_80000208fe80row2_col444\" class=\"data row2 col444\" >nan</td>\n",
       "                        <td id=\"T_179caabc_117e_11ea_b383_80000208fe80row2_col445\" class=\"data row2 col445\" >nan</td>\n",
       "                        <td id=\"T_179caabc_117e_11ea_b383_80000208fe80row2_col446\" class=\"data row2 col446\" >nan</td>\n",
       "                        <td id=\"T_179caabc_117e_11ea_b383_80000208fe80row2_col447\" class=\"data row2 col447\" >nan</td>\n",
       "                        <td id=\"T_179caabc_117e_11ea_b383_80000208fe80row2_col448\" class=\"data row2 col448\" >nan</td>\n",
       "                        <td id=\"T_179caabc_117e_11ea_b383_80000208fe80row2_col449\" class=\"data row2 col449\" >nan</td>\n",
       "                        <td id=\"T_179caabc_117e_11ea_b383_80000208fe80row2_col450\" class=\"data row2 col450\" >nan</td>\n",
       "                        <td id=\"T_179caabc_117e_11ea_b383_80000208fe80row2_col451\" class=\"data row2 col451\" >nan</td>\n",
       "                        <td id=\"T_179caabc_117e_11ea_b383_80000208fe80row2_col452\" class=\"data row2 col452\" >nan</td>\n",
       "                        <td id=\"T_179caabc_117e_11ea_b383_80000208fe80row2_col453\" class=\"data row2 col453\" >nan</td>\n",
       "                        <td id=\"T_179caabc_117e_11ea_b383_80000208fe80row2_col454\" class=\"data row2 col454\" >nan</td>\n",
       "                        <td id=\"T_179caabc_117e_11ea_b383_80000208fe80row2_col455\" class=\"data row2 col455\" >nan</td>\n",
       "                        <td id=\"T_179caabc_117e_11ea_b383_80000208fe80row2_col456\" class=\"data row2 col456\" >nan</td>\n",
       "                        <td id=\"T_179caabc_117e_11ea_b383_80000208fe80row2_col457\" class=\"data row2 col457\" >nan</td>\n",
       "                        <td id=\"T_179caabc_117e_11ea_b383_80000208fe80row2_col458\" class=\"data row2 col458\" >nan</td>\n",
       "                        <td id=\"T_179caabc_117e_11ea_b383_80000208fe80row2_col459\" class=\"data row2 col459\" >nan</td>\n",
       "                        <td id=\"T_179caabc_117e_11ea_b383_80000208fe80row2_col460\" class=\"data row2 col460\" >nan</td>\n",
       "                        <td id=\"T_179caabc_117e_11ea_b383_80000208fe80row2_col461\" class=\"data row2 col461\" >nan</td>\n",
       "                        <td id=\"T_179caabc_117e_11ea_b383_80000208fe80row2_col462\" class=\"data row2 col462\" >nan</td>\n",
       "                        <td id=\"T_179caabc_117e_11ea_b383_80000208fe80row2_col463\" class=\"data row2 col463\" >nan</td>\n",
       "                        <td id=\"T_179caabc_117e_11ea_b383_80000208fe80row2_col464\" class=\"data row2 col464\" >nan</td>\n",
       "                        <td id=\"T_179caabc_117e_11ea_b383_80000208fe80row2_col465\" class=\"data row2 col465\" >nan</td>\n",
       "                        <td id=\"T_179caabc_117e_11ea_b383_80000208fe80row2_col466\" class=\"data row2 col466\" >nan</td>\n",
       "                        <td id=\"T_179caabc_117e_11ea_b383_80000208fe80row2_col467\" class=\"data row2 col467\" >nan</td>\n",
       "                        <td id=\"T_179caabc_117e_11ea_b383_80000208fe80row2_col468\" class=\"data row2 col468\" >nan</td>\n",
       "                        <td id=\"T_179caabc_117e_11ea_b383_80000208fe80row2_col469\" class=\"data row2 col469\" >nan</td>\n",
       "                        <td id=\"T_179caabc_117e_11ea_b383_80000208fe80row2_col470\" class=\"data row2 col470\" >nan</td>\n",
       "                        <td id=\"T_179caabc_117e_11ea_b383_80000208fe80row2_col471\" class=\"data row2 col471\" >nan</td>\n",
       "                        <td id=\"T_179caabc_117e_11ea_b383_80000208fe80row2_col472\" class=\"data row2 col472\" >nan</td>\n",
       "                        <td id=\"T_179caabc_117e_11ea_b383_80000208fe80row2_col473\" class=\"data row2 col473\" >nan</td>\n",
       "                        <td id=\"T_179caabc_117e_11ea_b383_80000208fe80row2_col474\" class=\"data row2 col474\" >nan</td>\n",
       "                        <td id=\"T_179caabc_117e_11ea_b383_80000208fe80row2_col475\" class=\"data row2 col475\" >nan</td>\n",
       "                        <td id=\"T_179caabc_117e_11ea_b383_80000208fe80row2_col476\" class=\"data row2 col476\" >nan</td>\n",
       "                        <td id=\"T_179caabc_117e_11ea_b383_80000208fe80row2_col477\" class=\"data row2 col477\" >nan</td>\n",
       "                        <td id=\"T_179caabc_117e_11ea_b383_80000208fe80row2_col478\" class=\"data row2 col478\" >nan</td>\n",
       "                        <td id=\"T_179caabc_117e_11ea_b383_80000208fe80row2_col479\" class=\"data row2 col479\" >nan</td>\n",
       "                        <td id=\"T_179caabc_117e_11ea_b383_80000208fe80row2_col480\" class=\"data row2 col480\" >nan</td>\n",
       "                        <td id=\"T_179caabc_117e_11ea_b383_80000208fe80row2_col481\" class=\"data row2 col481\" >nan</td>\n",
       "                        <td id=\"T_179caabc_117e_11ea_b383_80000208fe80row2_col482\" class=\"data row2 col482\" >nan</td>\n",
       "                        <td id=\"T_179caabc_117e_11ea_b383_80000208fe80row2_col483\" class=\"data row2 col483\" >nan</td>\n",
       "                        <td id=\"T_179caabc_117e_11ea_b383_80000208fe80row2_col484\" class=\"data row2 col484\" >nan</td>\n",
       "                        <td id=\"T_179caabc_117e_11ea_b383_80000208fe80row2_col485\" class=\"data row2 col485\" >nan</td>\n",
       "                        <td id=\"T_179caabc_117e_11ea_b383_80000208fe80row2_col486\" class=\"data row2 col486\" >nan</td>\n",
       "                        <td id=\"T_179caabc_117e_11ea_b383_80000208fe80row2_col487\" class=\"data row2 col487\" >nan</td>\n",
       "                        <td id=\"T_179caabc_117e_11ea_b383_80000208fe80row2_col488\" class=\"data row2 col488\" >nan</td>\n",
       "                        <td id=\"T_179caabc_117e_11ea_b383_80000208fe80row2_col489\" class=\"data row2 col489\" >nan</td>\n",
       "                        <td id=\"T_179caabc_117e_11ea_b383_80000208fe80row2_col490\" class=\"data row2 col490\" >nan</td>\n",
       "                        <td id=\"T_179caabc_117e_11ea_b383_80000208fe80row2_col491\" class=\"data row2 col491\" >nan</td>\n",
       "                        <td id=\"T_179caabc_117e_11ea_b383_80000208fe80row2_col492\" class=\"data row2 col492\" >nan</td>\n",
       "                        <td id=\"T_179caabc_117e_11ea_b383_80000208fe80row2_col493\" class=\"data row2 col493\" >nan</td>\n",
       "                        <td id=\"T_179caabc_117e_11ea_b383_80000208fe80row2_col494\" class=\"data row2 col494\" >nan</td>\n",
       "                        <td id=\"T_179caabc_117e_11ea_b383_80000208fe80row2_col495\" class=\"data row2 col495\" >nan</td>\n",
       "                        <td id=\"T_179caabc_117e_11ea_b383_80000208fe80row2_col496\" class=\"data row2 col496\" >nan</td>\n",
       "                        <td id=\"T_179caabc_117e_11ea_b383_80000208fe80row2_col497\" class=\"data row2 col497\" >nan</td>\n",
       "                        <td id=\"T_179caabc_117e_11ea_b383_80000208fe80row2_col498\" class=\"data row2 col498\" >nan</td>\n",
       "                        <td id=\"T_179caabc_117e_11ea_b383_80000208fe80row2_col499\" class=\"data row2 col499\" >nan</td>\n",
       "                        <td id=\"T_179caabc_117e_11ea_b383_80000208fe80row2_col500\" class=\"data row2 col500\" >nan</td>\n",
       "                        <td id=\"T_179caabc_117e_11ea_b383_80000208fe80row2_col501\" class=\"data row2 col501\" >nan</td>\n",
       "                        <td id=\"T_179caabc_117e_11ea_b383_80000208fe80row2_col502\" class=\"data row2 col502\" >nan</td>\n",
       "                        <td id=\"T_179caabc_117e_11ea_b383_80000208fe80row2_col503\" class=\"data row2 col503\" >nan</td>\n",
       "                        <td id=\"T_179caabc_117e_11ea_b383_80000208fe80row2_col504\" class=\"data row2 col504\" >nan</td>\n",
       "                        <td id=\"T_179caabc_117e_11ea_b383_80000208fe80row2_col505\" class=\"data row2 col505\" >nan</td>\n",
       "                        <td id=\"T_179caabc_117e_11ea_b383_80000208fe80row2_col506\" class=\"data row2 col506\" >nan</td>\n",
       "                        <td id=\"T_179caabc_117e_11ea_b383_80000208fe80row2_col507\" class=\"data row2 col507\" >nan</td>\n",
       "                        <td id=\"T_179caabc_117e_11ea_b383_80000208fe80row2_col508\" class=\"data row2 col508\" >nan</td>\n",
       "                        <td id=\"T_179caabc_117e_11ea_b383_80000208fe80row2_col509\" class=\"data row2 col509\" >nan</td>\n",
       "                        <td id=\"T_179caabc_117e_11ea_b383_80000208fe80row2_col510\" class=\"data row2 col510\" >nan</td>\n",
       "                        <td id=\"T_179caabc_117e_11ea_b383_80000208fe80row2_col511\" class=\"data row2 col511\" >nan</td>\n",
       "                        <td id=\"T_179caabc_117e_11ea_b383_80000208fe80row2_col512\" class=\"data row2 col512\" >nan</td>\n",
       "                        <td id=\"T_179caabc_117e_11ea_b383_80000208fe80row2_col513\" class=\"data row2 col513\" >nan</td>\n",
       "                        <td id=\"T_179caabc_117e_11ea_b383_80000208fe80row2_col514\" class=\"data row2 col514\" >nan</td>\n",
       "                        <td id=\"T_179caabc_117e_11ea_b383_80000208fe80row2_col515\" class=\"data row2 col515\" >nan</td>\n",
       "                        <td id=\"T_179caabc_117e_11ea_b383_80000208fe80row2_col516\" class=\"data row2 col516\" >nan</td>\n",
       "                        <td id=\"T_179caabc_117e_11ea_b383_80000208fe80row2_col517\" class=\"data row2 col517\" >nan</td>\n",
       "                        <td id=\"T_179caabc_117e_11ea_b383_80000208fe80row2_col518\" class=\"data row2 col518\" >nan</td>\n",
       "                        <td id=\"T_179caabc_117e_11ea_b383_80000208fe80row2_col519\" class=\"data row2 col519\" >nan</td>\n",
       "                        <td id=\"T_179caabc_117e_11ea_b383_80000208fe80row2_col520\" class=\"data row2 col520\" >nan</td>\n",
       "                        <td id=\"T_179caabc_117e_11ea_b383_80000208fe80row2_col521\" class=\"data row2 col521\" >nan</td>\n",
       "                        <td id=\"T_179caabc_117e_11ea_b383_80000208fe80row2_col522\" class=\"data row2 col522\" >nan</td>\n",
       "                        <td id=\"T_179caabc_117e_11ea_b383_80000208fe80row2_col523\" class=\"data row2 col523\" >nan</td>\n",
       "                        <td id=\"T_179caabc_117e_11ea_b383_80000208fe80row2_col524\" class=\"data row2 col524\" >nan</td>\n",
       "                        <td id=\"T_179caabc_117e_11ea_b383_80000208fe80row2_col525\" class=\"data row2 col525\" >nan</td>\n",
       "                        <td id=\"T_179caabc_117e_11ea_b383_80000208fe80row2_col526\" class=\"data row2 col526\" >nan</td>\n",
       "                        <td id=\"T_179caabc_117e_11ea_b383_80000208fe80row2_col527\" class=\"data row2 col527\" >nan</td>\n",
       "                        <td id=\"T_179caabc_117e_11ea_b383_80000208fe80row2_col528\" class=\"data row2 col528\" >nan</td>\n",
       "                        <td id=\"T_179caabc_117e_11ea_b383_80000208fe80row2_col529\" class=\"data row2 col529\" >nan</td>\n",
       "                        <td id=\"T_179caabc_117e_11ea_b383_80000208fe80row2_col530\" class=\"data row2 col530\" >nan</td>\n",
       "                        <td id=\"T_179caabc_117e_11ea_b383_80000208fe80row2_col531\" class=\"data row2 col531\" >nan</td>\n",
       "                        <td id=\"T_179caabc_117e_11ea_b383_80000208fe80row2_col532\" class=\"data row2 col532\" >nan</td>\n",
       "                        <td id=\"T_179caabc_117e_11ea_b383_80000208fe80row2_col533\" class=\"data row2 col533\" >nan</td>\n",
       "                        <td id=\"T_179caabc_117e_11ea_b383_80000208fe80row2_col534\" class=\"data row2 col534\" >nan</td>\n",
       "                        <td id=\"T_179caabc_117e_11ea_b383_80000208fe80row2_col535\" class=\"data row2 col535\" >nan</td>\n",
       "                        <td id=\"T_179caabc_117e_11ea_b383_80000208fe80row2_col536\" class=\"data row2 col536\" >nan</td>\n",
       "                        <td id=\"T_179caabc_117e_11ea_b383_80000208fe80row2_col537\" class=\"data row2 col537\" >nan</td>\n",
       "                        <td id=\"T_179caabc_117e_11ea_b383_80000208fe80row2_col538\" class=\"data row2 col538\" >nan</td>\n",
       "                        <td id=\"T_179caabc_117e_11ea_b383_80000208fe80row2_col539\" class=\"data row2 col539\" >nan</td>\n",
       "                        <td id=\"T_179caabc_117e_11ea_b383_80000208fe80row2_col540\" class=\"data row2 col540\" >nan</td>\n",
       "                        <td id=\"T_179caabc_117e_11ea_b383_80000208fe80row2_col541\" class=\"data row2 col541\" >nan</td>\n",
       "                        <td id=\"T_179caabc_117e_11ea_b383_80000208fe80row2_col542\" class=\"data row2 col542\" >nan</td>\n",
       "                        <td id=\"T_179caabc_117e_11ea_b383_80000208fe80row2_col543\" class=\"data row2 col543\" >nan</td>\n",
       "                        <td id=\"T_179caabc_117e_11ea_b383_80000208fe80row2_col544\" class=\"data row2 col544\" >nan</td>\n",
       "                        <td id=\"T_179caabc_117e_11ea_b383_80000208fe80row2_col545\" class=\"data row2 col545\" >nan</td>\n",
       "                        <td id=\"T_179caabc_117e_11ea_b383_80000208fe80row2_col546\" class=\"data row2 col546\" >nan</td>\n",
       "                        <td id=\"T_179caabc_117e_11ea_b383_80000208fe80row2_col547\" class=\"data row2 col547\" >nan</td>\n",
       "                        <td id=\"T_179caabc_117e_11ea_b383_80000208fe80row2_col548\" class=\"data row2 col548\" >nan</td>\n",
       "                        <td id=\"T_179caabc_117e_11ea_b383_80000208fe80row2_col549\" class=\"data row2 col549\" >nan</td>\n",
       "                        <td id=\"T_179caabc_117e_11ea_b383_80000208fe80row2_col550\" class=\"data row2 col550\" >nan</td>\n",
       "                        <td id=\"T_179caabc_117e_11ea_b383_80000208fe80row2_col551\" class=\"data row2 col551\" >nan</td>\n",
       "                        <td id=\"T_179caabc_117e_11ea_b383_80000208fe80row2_col552\" class=\"data row2 col552\" >nan</td>\n",
       "                        <td id=\"T_179caabc_117e_11ea_b383_80000208fe80row2_col553\" class=\"data row2 col553\" >nan</td>\n",
       "                        <td id=\"T_179caabc_117e_11ea_b383_80000208fe80row2_col554\" class=\"data row2 col554\" >nan</td>\n",
       "                        <td id=\"T_179caabc_117e_11ea_b383_80000208fe80row2_col555\" class=\"data row2 col555\" >nan</td>\n",
       "                        <td id=\"T_179caabc_117e_11ea_b383_80000208fe80row2_col556\" class=\"data row2 col556\" >nan</td>\n",
       "                        <td id=\"T_179caabc_117e_11ea_b383_80000208fe80row2_col557\" class=\"data row2 col557\" >nan</td>\n",
       "                        <td id=\"T_179caabc_117e_11ea_b383_80000208fe80row2_col558\" class=\"data row2 col558\" >nan</td>\n",
       "                        <td id=\"T_179caabc_117e_11ea_b383_80000208fe80row2_col559\" class=\"data row2 col559\" >nan</td>\n",
       "                        <td id=\"T_179caabc_117e_11ea_b383_80000208fe80row2_col560\" class=\"data row2 col560\" >nan</td>\n",
       "                        <td id=\"T_179caabc_117e_11ea_b383_80000208fe80row2_col561\" class=\"data row2 col561\" >nan</td>\n",
       "                        <td id=\"T_179caabc_117e_11ea_b383_80000208fe80row2_col562\" class=\"data row2 col562\" >nan</td>\n",
       "                        <td id=\"T_179caabc_117e_11ea_b383_80000208fe80row2_col563\" class=\"data row2 col563\" >nan</td>\n",
       "                        <td id=\"T_179caabc_117e_11ea_b383_80000208fe80row2_col564\" class=\"data row2 col564\" >nan</td>\n",
       "                        <td id=\"T_179caabc_117e_11ea_b383_80000208fe80row2_col565\" class=\"data row2 col565\" >nan</td>\n",
       "                        <td id=\"T_179caabc_117e_11ea_b383_80000208fe80row2_col566\" class=\"data row2 col566\" >nan</td>\n",
       "                        <td id=\"T_179caabc_117e_11ea_b383_80000208fe80row2_col567\" class=\"data row2 col567\" >nan</td>\n",
       "            </tr>\n",
       "            <tr>\n",
       "                                <td id=\"T_179caabc_117e_11ea_b383_80000208fe80row3_col0\" class=\"data row3 col0\" >9.6</td>\n",
       "                        <td id=\"T_179caabc_117e_11ea_b383_80000208fe80row3_col1\" class=\"data row3 col1\" >DeepLearning_grid_1_AutoML_20191127_022353_model_32</td>\n",
       "                        <td id=\"T_179caabc_117e_11ea_b383_80000208fe80row3_col2\" class=\"data row3 col2\" >nan</td>\n",
       "                        <td id=\"T_179caabc_117e_11ea_b383_80000208fe80row3_col3\" class=\"data row3 col3\" >nan</td>\n",
       "                        <td id=\"T_179caabc_117e_11ea_b383_80000208fe80row3_col4\" class=\"data row3 col4\" >nan</td>\n",
       "                        <td id=\"T_179caabc_117e_11ea_b383_80000208fe80row3_col5\" class=\"data row3 col5\" >nan</td>\n",
       "                        <td id=\"T_179caabc_117e_11ea_b383_80000208fe80row3_col6\" class=\"data row3 col6\" >nan</td>\n",
       "                        <td id=\"T_179caabc_117e_11ea_b383_80000208fe80row3_col7\" class=\"data row3 col7\" >nan</td>\n",
       "                        <td id=\"T_179caabc_117e_11ea_b383_80000208fe80row3_col8\" class=\"data row3 col8\" >nan</td>\n",
       "                        <td id=\"T_179caabc_117e_11ea_b383_80000208fe80row3_col9\" class=\"data row3 col9\" >nan</td>\n",
       "                        <td id=\"T_179caabc_117e_11ea_b383_80000208fe80row3_col10\" class=\"data row3 col10\" >nan</td>\n",
       "                        <td id=\"T_179caabc_117e_11ea_b383_80000208fe80row3_col11\" class=\"data row3 col11\" >nan</td>\n",
       "                        <td id=\"T_179caabc_117e_11ea_b383_80000208fe80row3_col12\" class=\"data row3 col12\" >nan</td>\n",
       "                        <td id=\"T_179caabc_117e_11ea_b383_80000208fe80row3_col13\" class=\"data row3 col13\" >nan</td>\n",
       "                        <td id=\"T_179caabc_117e_11ea_b383_80000208fe80row3_col14\" class=\"data row3 col14\" >nan</td>\n",
       "                        <td id=\"T_179caabc_117e_11ea_b383_80000208fe80row3_col15\" class=\"data row3 col15\" >nan</td>\n",
       "                        <td id=\"T_179caabc_117e_11ea_b383_80000208fe80row3_col16\" class=\"data row3 col16\" >nan</td>\n",
       "                        <td id=\"T_179caabc_117e_11ea_b383_80000208fe80row3_col17\" class=\"data row3 col17\" >nan</td>\n",
       "                        <td id=\"T_179caabc_117e_11ea_b383_80000208fe80row3_col18\" class=\"data row3 col18\" >nan</td>\n",
       "                        <td id=\"T_179caabc_117e_11ea_b383_80000208fe80row3_col19\" class=\"data row3 col19\" >nan</td>\n",
       "                        <td id=\"T_179caabc_117e_11ea_b383_80000208fe80row3_col20\" class=\"data row3 col20\" >nan</td>\n",
       "                        <td id=\"T_179caabc_117e_11ea_b383_80000208fe80row3_col21\" class=\"data row3 col21\" >nan</td>\n",
       "                        <td id=\"T_179caabc_117e_11ea_b383_80000208fe80row3_col22\" class=\"data row3 col22\" >nan</td>\n",
       "                        <td id=\"T_179caabc_117e_11ea_b383_80000208fe80row3_col23\" class=\"data row3 col23\" >nan</td>\n",
       "                        <td id=\"T_179caabc_117e_11ea_b383_80000208fe80row3_col24\" class=\"data row3 col24\" >nan</td>\n",
       "                        <td id=\"T_179caabc_117e_11ea_b383_80000208fe80row3_col25\" class=\"data row3 col25\" >nan</td>\n",
       "                        <td id=\"T_179caabc_117e_11ea_b383_80000208fe80row3_col26\" class=\"data row3 col26\" >nan</td>\n",
       "                        <td id=\"T_179caabc_117e_11ea_b383_80000208fe80row3_col27\" class=\"data row3 col27\" >nan</td>\n",
       "                        <td id=\"T_179caabc_117e_11ea_b383_80000208fe80row3_col28\" class=\"data row3 col28\" >nan</td>\n",
       "                        <td id=\"T_179caabc_117e_11ea_b383_80000208fe80row3_col29\" class=\"data row3 col29\" >nan</td>\n",
       "                        <td id=\"T_179caabc_117e_11ea_b383_80000208fe80row3_col30\" class=\"data row3 col30\" >nan</td>\n",
       "                        <td id=\"T_179caabc_117e_11ea_b383_80000208fe80row3_col31\" class=\"data row3 col31\" >nan</td>\n",
       "                        <td id=\"T_179caabc_117e_11ea_b383_80000208fe80row3_col32\" class=\"data row3 col32\" >nan</td>\n",
       "                        <td id=\"T_179caabc_117e_11ea_b383_80000208fe80row3_col33\" class=\"data row3 col33\" >nan</td>\n",
       "                        <td id=\"T_179caabc_117e_11ea_b383_80000208fe80row3_col34\" class=\"data row3 col34\" >nan</td>\n",
       "                        <td id=\"T_179caabc_117e_11ea_b383_80000208fe80row3_col35\" class=\"data row3 col35\" >nan</td>\n",
       "                        <td id=\"T_179caabc_117e_11ea_b383_80000208fe80row3_col36\" class=\"data row3 col36\" >nan</td>\n",
       "                        <td id=\"T_179caabc_117e_11ea_b383_80000208fe80row3_col37\" class=\"data row3 col37\" >nan</td>\n",
       "                        <td id=\"T_179caabc_117e_11ea_b383_80000208fe80row3_col38\" class=\"data row3 col38\" >nan</td>\n",
       "                        <td id=\"T_179caabc_117e_11ea_b383_80000208fe80row3_col39\" class=\"data row3 col39\" >nan</td>\n",
       "                        <td id=\"T_179caabc_117e_11ea_b383_80000208fe80row3_col40\" class=\"data row3 col40\" >nan</td>\n",
       "                        <td id=\"T_179caabc_117e_11ea_b383_80000208fe80row3_col41\" class=\"data row3 col41\" >nan</td>\n",
       "                        <td id=\"T_179caabc_117e_11ea_b383_80000208fe80row3_col42\" class=\"data row3 col42\" >nan</td>\n",
       "                        <td id=\"T_179caabc_117e_11ea_b383_80000208fe80row3_col43\" class=\"data row3 col43\" >nan</td>\n",
       "                        <td id=\"T_179caabc_117e_11ea_b383_80000208fe80row3_col44\" class=\"data row3 col44\" >nan</td>\n",
       "                        <td id=\"T_179caabc_117e_11ea_b383_80000208fe80row3_col45\" class=\"data row3 col45\" >nan</td>\n",
       "                        <td id=\"T_179caabc_117e_11ea_b383_80000208fe80row3_col46\" class=\"data row3 col46\" >nan</td>\n",
       "                        <td id=\"T_179caabc_117e_11ea_b383_80000208fe80row3_col47\" class=\"data row3 col47\" >nan</td>\n",
       "                        <td id=\"T_179caabc_117e_11ea_b383_80000208fe80row3_col48\" class=\"data row3 col48\" >nan</td>\n",
       "                        <td id=\"T_179caabc_117e_11ea_b383_80000208fe80row3_col49\" class=\"data row3 col49\" >nan</td>\n",
       "                        <td id=\"T_179caabc_117e_11ea_b383_80000208fe80row3_col50\" class=\"data row3 col50\" >nan</td>\n",
       "                        <td id=\"T_179caabc_117e_11ea_b383_80000208fe80row3_col51\" class=\"data row3 col51\" >nan</td>\n",
       "                        <td id=\"T_179caabc_117e_11ea_b383_80000208fe80row3_col52\" class=\"data row3 col52\" >nan</td>\n",
       "                        <td id=\"T_179caabc_117e_11ea_b383_80000208fe80row3_col53\" class=\"data row3 col53\" >nan</td>\n",
       "                        <td id=\"T_179caabc_117e_11ea_b383_80000208fe80row3_col54\" class=\"data row3 col54\" >nan</td>\n",
       "                        <td id=\"T_179caabc_117e_11ea_b383_80000208fe80row3_col55\" class=\"data row3 col55\" >nan</td>\n",
       "                        <td id=\"T_179caabc_117e_11ea_b383_80000208fe80row3_col56\" class=\"data row3 col56\" >nan</td>\n",
       "                        <td id=\"T_179caabc_117e_11ea_b383_80000208fe80row3_col57\" class=\"data row3 col57\" >nan</td>\n",
       "                        <td id=\"T_179caabc_117e_11ea_b383_80000208fe80row3_col58\" class=\"data row3 col58\" >nan</td>\n",
       "                        <td id=\"T_179caabc_117e_11ea_b383_80000208fe80row3_col59\" class=\"data row3 col59\" >nan</td>\n",
       "                        <td id=\"T_179caabc_117e_11ea_b383_80000208fe80row3_col60\" class=\"data row3 col60\" >nan</td>\n",
       "                        <td id=\"T_179caabc_117e_11ea_b383_80000208fe80row3_col61\" class=\"data row3 col61\" >nan</td>\n",
       "                        <td id=\"T_179caabc_117e_11ea_b383_80000208fe80row3_col62\" class=\"data row3 col62\" >nan</td>\n",
       "                        <td id=\"T_179caabc_117e_11ea_b383_80000208fe80row3_col63\" class=\"data row3 col63\" >nan</td>\n",
       "                        <td id=\"T_179caabc_117e_11ea_b383_80000208fe80row3_col64\" class=\"data row3 col64\" >nan</td>\n",
       "                        <td id=\"T_179caabc_117e_11ea_b383_80000208fe80row3_col65\" class=\"data row3 col65\" >nan</td>\n",
       "                        <td id=\"T_179caabc_117e_11ea_b383_80000208fe80row3_col66\" class=\"data row3 col66\" >nan</td>\n",
       "                        <td id=\"T_179caabc_117e_11ea_b383_80000208fe80row3_col67\" class=\"data row3 col67\" >nan</td>\n",
       "                        <td id=\"T_179caabc_117e_11ea_b383_80000208fe80row3_col68\" class=\"data row3 col68\" >nan</td>\n",
       "                        <td id=\"T_179caabc_117e_11ea_b383_80000208fe80row3_col69\" class=\"data row3 col69\" >nan</td>\n",
       "                        <td id=\"T_179caabc_117e_11ea_b383_80000208fe80row3_col70\" class=\"data row3 col70\" >nan</td>\n",
       "                        <td id=\"T_179caabc_117e_11ea_b383_80000208fe80row3_col71\" class=\"data row3 col71\" >nan</td>\n",
       "                        <td id=\"T_179caabc_117e_11ea_b383_80000208fe80row3_col72\" class=\"data row3 col72\" >nan</td>\n",
       "                        <td id=\"T_179caabc_117e_11ea_b383_80000208fe80row3_col73\" class=\"data row3 col73\" >nan</td>\n",
       "                        <td id=\"T_179caabc_117e_11ea_b383_80000208fe80row3_col74\" class=\"data row3 col74\" >nan</td>\n",
       "                        <td id=\"T_179caabc_117e_11ea_b383_80000208fe80row3_col75\" class=\"data row3 col75\" >nan</td>\n",
       "                        <td id=\"T_179caabc_117e_11ea_b383_80000208fe80row3_col76\" class=\"data row3 col76\" >nan</td>\n",
       "                        <td id=\"T_179caabc_117e_11ea_b383_80000208fe80row3_col77\" class=\"data row3 col77\" >nan</td>\n",
       "                        <td id=\"T_179caabc_117e_11ea_b383_80000208fe80row3_col78\" class=\"data row3 col78\" >nan</td>\n",
       "                        <td id=\"T_179caabc_117e_11ea_b383_80000208fe80row3_col79\" class=\"data row3 col79\" >nan</td>\n",
       "                        <td id=\"T_179caabc_117e_11ea_b383_80000208fe80row3_col80\" class=\"data row3 col80\" >nan</td>\n",
       "                        <td id=\"T_179caabc_117e_11ea_b383_80000208fe80row3_col81\" class=\"data row3 col81\" >nan</td>\n",
       "                        <td id=\"T_179caabc_117e_11ea_b383_80000208fe80row3_col82\" class=\"data row3 col82\" >nan</td>\n",
       "                        <td id=\"T_179caabc_117e_11ea_b383_80000208fe80row3_col83\" class=\"data row3 col83\" >nan</td>\n",
       "                        <td id=\"T_179caabc_117e_11ea_b383_80000208fe80row3_col84\" class=\"data row3 col84\" >nan</td>\n",
       "                        <td id=\"T_179caabc_117e_11ea_b383_80000208fe80row3_col85\" class=\"data row3 col85\" >nan</td>\n",
       "                        <td id=\"T_179caabc_117e_11ea_b383_80000208fe80row3_col86\" class=\"data row3 col86\" >nan</td>\n",
       "                        <td id=\"T_179caabc_117e_11ea_b383_80000208fe80row3_col87\" class=\"data row3 col87\" >nan</td>\n",
       "                        <td id=\"T_179caabc_117e_11ea_b383_80000208fe80row3_col88\" class=\"data row3 col88\" >nan</td>\n",
       "                        <td id=\"T_179caabc_117e_11ea_b383_80000208fe80row3_col89\" class=\"data row3 col89\" >nan</td>\n",
       "                        <td id=\"T_179caabc_117e_11ea_b383_80000208fe80row3_col90\" class=\"data row3 col90\" >nan</td>\n",
       "                        <td id=\"T_179caabc_117e_11ea_b383_80000208fe80row3_col91\" class=\"data row3 col91\" >nan</td>\n",
       "                        <td id=\"T_179caabc_117e_11ea_b383_80000208fe80row3_col92\" class=\"data row3 col92\" >nan</td>\n",
       "                        <td id=\"T_179caabc_117e_11ea_b383_80000208fe80row3_col93\" class=\"data row3 col93\" >nan</td>\n",
       "                        <td id=\"T_179caabc_117e_11ea_b383_80000208fe80row3_col94\" class=\"data row3 col94\" >nan</td>\n",
       "                        <td id=\"T_179caabc_117e_11ea_b383_80000208fe80row3_col95\" class=\"data row3 col95\" >nan</td>\n",
       "                        <td id=\"T_179caabc_117e_11ea_b383_80000208fe80row3_col96\" class=\"data row3 col96\" >nan</td>\n",
       "                        <td id=\"T_179caabc_117e_11ea_b383_80000208fe80row3_col97\" class=\"data row3 col97\" >nan</td>\n",
       "                        <td id=\"T_179caabc_117e_11ea_b383_80000208fe80row3_col98\" class=\"data row3 col98\" >nan</td>\n",
       "                        <td id=\"T_179caabc_117e_11ea_b383_80000208fe80row3_col99\" class=\"data row3 col99\" >nan</td>\n",
       "                        <td id=\"T_179caabc_117e_11ea_b383_80000208fe80row3_col100\" class=\"data row3 col100\" >nan</td>\n",
       "                        <td id=\"T_179caabc_117e_11ea_b383_80000208fe80row3_col101\" class=\"data row3 col101\" >nan</td>\n",
       "                        <td id=\"T_179caabc_117e_11ea_b383_80000208fe80row3_col102\" class=\"data row3 col102\" >nan</td>\n",
       "                        <td id=\"T_179caabc_117e_11ea_b383_80000208fe80row3_col103\" class=\"data row3 col103\" >nan</td>\n",
       "                        <td id=\"T_179caabc_117e_11ea_b383_80000208fe80row3_col104\" class=\"data row3 col104\" >nan</td>\n",
       "                        <td id=\"T_179caabc_117e_11ea_b383_80000208fe80row3_col105\" class=\"data row3 col105\" >nan</td>\n",
       "                        <td id=\"T_179caabc_117e_11ea_b383_80000208fe80row3_col106\" class=\"data row3 col106\" >nan</td>\n",
       "                        <td id=\"T_179caabc_117e_11ea_b383_80000208fe80row3_col107\" class=\"data row3 col107\" >nan</td>\n",
       "                        <td id=\"T_179caabc_117e_11ea_b383_80000208fe80row3_col108\" class=\"data row3 col108\" >nan</td>\n",
       "                        <td id=\"T_179caabc_117e_11ea_b383_80000208fe80row3_col109\" class=\"data row3 col109\" >nan</td>\n",
       "                        <td id=\"T_179caabc_117e_11ea_b383_80000208fe80row3_col110\" class=\"data row3 col110\" >nan</td>\n",
       "                        <td id=\"T_179caabc_117e_11ea_b383_80000208fe80row3_col111\" class=\"data row3 col111\" >nan</td>\n",
       "                        <td id=\"T_179caabc_117e_11ea_b383_80000208fe80row3_col112\" class=\"data row3 col112\" >nan</td>\n",
       "                        <td id=\"T_179caabc_117e_11ea_b383_80000208fe80row3_col113\" class=\"data row3 col113\" >nan</td>\n",
       "                        <td id=\"T_179caabc_117e_11ea_b383_80000208fe80row3_col114\" class=\"data row3 col114\" >nan</td>\n",
       "                        <td id=\"T_179caabc_117e_11ea_b383_80000208fe80row3_col115\" class=\"data row3 col115\" >nan</td>\n",
       "                        <td id=\"T_179caabc_117e_11ea_b383_80000208fe80row3_col116\" class=\"data row3 col116\" >nan</td>\n",
       "                        <td id=\"T_179caabc_117e_11ea_b383_80000208fe80row3_col117\" class=\"data row3 col117\" >nan</td>\n",
       "                        <td id=\"T_179caabc_117e_11ea_b383_80000208fe80row3_col118\" class=\"data row3 col118\" >nan</td>\n",
       "                        <td id=\"T_179caabc_117e_11ea_b383_80000208fe80row3_col119\" class=\"data row3 col119\" >nan</td>\n",
       "                        <td id=\"T_179caabc_117e_11ea_b383_80000208fe80row3_col120\" class=\"data row3 col120\" >nan</td>\n",
       "                        <td id=\"T_179caabc_117e_11ea_b383_80000208fe80row3_col121\" class=\"data row3 col121\" >nan</td>\n",
       "                        <td id=\"T_179caabc_117e_11ea_b383_80000208fe80row3_col122\" class=\"data row3 col122\" >nan</td>\n",
       "                        <td id=\"T_179caabc_117e_11ea_b383_80000208fe80row3_col123\" class=\"data row3 col123\" >nan</td>\n",
       "                        <td id=\"T_179caabc_117e_11ea_b383_80000208fe80row3_col124\" class=\"data row3 col124\" >nan</td>\n",
       "                        <td id=\"T_179caabc_117e_11ea_b383_80000208fe80row3_col125\" class=\"data row3 col125\" >nan</td>\n",
       "                        <td id=\"T_179caabc_117e_11ea_b383_80000208fe80row3_col126\" class=\"data row3 col126\" >nan</td>\n",
       "                        <td id=\"T_179caabc_117e_11ea_b383_80000208fe80row3_col127\" class=\"data row3 col127\" >nan</td>\n",
       "                        <td id=\"T_179caabc_117e_11ea_b383_80000208fe80row3_col128\" class=\"data row3 col128\" >nan</td>\n",
       "                        <td id=\"T_179caabc_117e_11ea_b383_80000208fe80row3_col129\" class=\"data row3 col129\" >nan</td>\n",
       "                        <td id=\"T_179caabc_117e_11ea_b383_80000208fe80row3_col130\" class=\"data row3 col130\" >nan</td>\n",
       "                        <td id=\"T_179caabc_117e_11ea_b383_80000208fe80row3_col131\" class=\"data row3 col131\" >nan</td>\n",
       "                        <td id=\"T_179caabc_117e_11ea_b383_80000208fe80row3_col132\" class=\"data row3 col132\" >nan</td>\n",
       "                        <td id=\"T_179caabc_117e_11ea_b383_80000208fe80row3_col133\" class=\"data row3 col133\" >nan</td>\n",
       "                        <td id=\"T_179caabc_117e_11ea_b383_80000208fe80row3_col134\" class=\"data row3 col134\" >nan</td>\n",
       "                        <td id=\"T_179caabc_117e_11ea_b383_80000208fe80row3_col135\" class=\"data row3 col135\" >nan</td>\n",
       "                        <td id=\"T_179caabc_117e_11ea_b383_80000208fe80row3_col136\" class=\"data row3 col136\" >nan</td>\n",
       "                        <td id=\"T_179caabc_117e_11ea_b383_80000208fe80row3_col137\" class=\"data row3 col137\" >nan</td>\n",
       "                        <td id=\"T_179caabc_117e_11ea_b383_80000208fe80row3_col138\" class=\"data row3 col138\" >nan</td>\n",
       "                        <td id=\"T_179caabc_117e_11ea_b383_80000208fe80row3_col139\" class=\"data row3 col139\" >nan</td>\n",
       "                        <td id=\"T_179caabc_117e_11ea_b383_80000208fe80row3_col140\" class=\"data row3 col140\" >nan</td>\n",
       "                        <td id=\"T_179caabc_117e_11ea_b383_80000208fe80row3_col141\" class=\"data row3 col141\" >nan</td>\n",
       "                        <td id=\"T_179caabc_117e_11ea_b383_80000208fe80row3_col142\" class=\"data row3 col142\" >nan</td>\n",
       "                        <td id=\"T_179caabc_117e_11ea_b383_80000208fe80row3_col143\" class=\"data row3 col143\" >nan</td>\n",
       "                        <td id=\"T_179caabc_117e_11ea_b383_80000208fe80row3_col144\" class=\"data row3 col144\" >nan</td>\n",
       "                        <td id=\"T_179caabc_117e_11ea_b383_80000208fe80row3_col145\" class=\"data row3 col145\" >nan</td>\n",
       "                        <td id=\"T_179caabc_117e_11ea_b383_80000208fe80row3_col146\" class=\"data row3 col146\" >nan</td>\n",
       "                        <td id=\"T_179caabc_117e_11ea_b383_80000208fe80row3_col147\" class=\"data row3 col147\" >nan</td>\n",
       "                        <td id=\"T_179caabc_117e_11ea_b383_80000208fe80row3_col148\" class=\"data row3 col148\" >nan</td>\n",
       "                        <td id=\"T_179caabc_117e_11ea_b383_80000208fe80row3_col149\" class=\"data row3 col149\" >nan</td>\n",
       "                        <td id=\"T_179caabc_117e_11ea_b383_80000208fe80row3_col150\" class=\"data row3 col150\" >nan</td>\n",
       "                        <td id=\"T_179caabc_117e_11ea_b383_80000208fe80row3_col151\" class=\"data row3 col151\" >nan</td>\n",
       "                        <td id=\"T_179caabc_117e_11ea_b383_80000208fe80row3_col152\" class=\"data row3 col152\" >nan</td>\n",
       "                        <td id=\"T_179caabc_117e_11ea_b383_80000208fe80row3_col153\" class=\"data row3 col153\" >nan</td>\n",
       "                        <td id=\"T_179caabc_117e_11ea_b383_80000208fe80row3_col154\" class=\"data row3 col154\" >nan</td>\n",
       "                        <td id=\"T_179caabc_117e_11ea_b383_80000208fe80row3_col155\" class=\"data row3 col155\" >nan</td>\n",
       "                        <td id=\"T_179caabc_117e_11ea_b383_80000208fe80row3_col156\" class=\"data row3 col156\" >nan</td>\n",
       "                        <td id=\"T_179caabc_117e_11ea_b383_80000208fe80row3_col157\" class=\"data row3 col157\" >nan</td>\n",
       "                        <td id=\"T_179caabc_117e_11ea_b383_80000208fe80row3_col158\" class=\"data row3 col158\" >nan</td>\n",
       "                        <td id=\"T_179caabc_117e_11ea_b383_80000208fe80row3_col159\" class=\"data row3 col159\" >nan</td>\n",
       "                        <td id=\"T_179caabc_117e_11ea_b383_80000208fe80row3_col160\" class=\"data row3 col160\" >nan</td>\n",
       "                        <td id=\"T_179caabc_117e_11ea_b383_80000208fe80row3_col161\" class=\"data row3 col161\" >nan</td>\n",
       "                        <td id=\"T_179caabc_117e_11ea_b383_80000208fe80row3_col162\" class=\"data row3 col162\" >nan</td>\n",
       "                        <td id=\"T_179caabc_117e_11ea_b383_80000208fe80row3_col163\" class=\"data row3 col163\" >nan</td>\n",
       "                        <td id=\"T_179caabc_117e_11ea_b383_80000208fe80row3_col164\" class=\"data row3 col164\" >nan</td>\n",
       "                        <td id=\"T_179caabc_117e_11ea_b383_80000208fe80row3_col165\" class=\"data row3 col165\" >nan</td>\n",
       "                        <td id=\"T_179caabc_117e_11ea_b383_80000208fe80row3_col166\" class=\"data row3 col166\" >nan</td>\n",
       "                        <td id=\"T_179caabc_117e_11ea_b383_80000208fe80row3_col167\" class=\"data row3 col167\" >nan</td>\n",
       "                        <td id=\"T_179caabc_117e_11ea_b383_80000208fe80row3_col168\" class=\"data row3 col168\" >nan</td>\n",
       "                        <td id=\"T_179caabc_117e_11ea_b383_80000208fe80row3_col169\" class=\"data row3 col169\" >nan</td>\n",
       "                        <td id=\"T_179caabc_117e_11ea_b383_80000208fe80row3_col170\" class=\"data row3 col170\" >nan</td>\n",
       "                        <td id=\"T_179caabc_117e_11ea_b383_80000208fe80row3_col171\" class=\"data row3 col171\" >nan</td>\n",
       "                        <td id=\"T_179caabc_117e_11ea_b383_80000208fe80row3_col172\" class=\"data row3 col172\" >nan</td>\n",
       "                        <td id=\"T_179caabc_117e_11ea_b383_80000208fe80row3_col173\" class=\"data row3 col173\" >nan</td>\n",
       "                        <td id=\"T_179caabc_117e_11ea_b383_80000208fe80row3_col174\" class=\"data row3 col174\" >nan</td>\n",
       "                        <td id=\"T_179caabc_117e_11ea_b383_80000208fe80row3_col175\" class=\"data row3 col175\" >nan</td>\n",
       "                        <td id=\"T_179caabc_117e_11ea_b383_80000208fe80row3_col176\" class=\"data row3 col176\" >nan</td>\n",
       "                        <td id=\"T_179caabc_117e_11ea_b383_80000208fe80row3_col177\" class=\"data row3 col177\" >nan</td>\n",
       "                        <td id=\"T_179caabc_117e_11ea_b383_80000208fe80row3_col178\" class=\"data row3 col178\" >nan</td>\n",
       "                        <td id=\"T_179caabc_117e_11ea_b383_80000208fe80row3_col179\" class=\"data row3 col179\" >nan</td>\n",
       "                        <td id=\"T_179caabc_117e_11ea_b383_80000208fe80row3_col180\" class=\"data row3 col180\" >nan</td>\n",
       "                        <td id=\"T_179caabc_117e_11ea_b383_80000208fe80row3_col181\" class=\"data row3 col181\" >nan</td>\n",
       "                        <td id=\"T_179caabc_117e_11ea_b383_80000208fe80row3_col182\" class=\"data row3 col182\" >nan</td>\n",
       "                        <td id=\"T_179caabc_117e_11ea_b383_80000208fe80row3_col183\" class=\"data row3 col183\" >nan</td>\n",
       "                        <td id=\"T_179caabc_117e_11ea_b383_80000208fe80row3_col184\" class=\"data row3 col184\" >nan</td>\n",
       "                        <td id=\"T_179caabc_117e_11ea_b383_80000208fe80row3_col185\" class=\"data row3 col185\" >nan</td>\n",
       "                        <td id=\"T_179caabc_117e_11ea_b383_80000208fe80row3_col186\" class=\"data row3 col186\" >nan</td>\n",
       "                        <td id=\"T_179caabc_117e_11ea_b383_80000208fe80row3_col187\" class=\"data row3 col187\" >nan</td>\n",
       "                        <td id=\"T_179caabc_117e_11ea_b383_80000208fe80row3_col188\" class=\"data row3 col188\" >nan</td>\n",
       "                        <td id=\"T_179caabc_117e_11ea_b383_80000208fe80row3_col189\" class=\"data row3 col189\" >nan</td>\n",
       "                        <td id=\"T_179caabc_117e_11ea_b383_80000208fe80row3_col190\" class=\"data row3 col190\" >nan</td>\n",
       "                        <td id=\"T_179caabc_117e_11ea_b383_80000208fe80row3_col191\" class=\"data row3 col191\" >nan</td>\n",
       "                        <td id=\"T_179caabc_117e_11ea_b383_80000208fe80row3_col192\" class=\"data row3 col192\" >nan</td>\n",
       "                        <td id=\"T_179caabc_117e_11ea_b383_80000208fe80row3_col193\" class=\"data row3 col193\" >nan</td>\n",
       "                        <td id=\"T_179caabc_117e_11ea_b383_80000208fe80row3_col194\" class=\"data row3 col194\" >nan</td>\n",
       "                        <td id=\"T_179caabc_117e_11ea_b383_80000208fe80row3_col195\" class=\"data row3 col195\" >nan</td>\n",
       "                        <td id=\"T_179caabc_117e_11ea_b383_80000208fe80row3_col196\" class=\"data row3 col196\" >nan</td>\n",
       "                        <td id=\"T_179caabc_117e_11ea_b383_80000208fe80row3_col197\" class=\"data row3 col197\" >nan</td>\n",
       "                        <td id=\"T_179caabc_117e_11ea_b383_80000208fe80row3_col198\" class=\"data row3 col198\" >nan</td>\n",
       "                        <td id=\"T_179caabc_117e_11ea_b383_80000208fe80row3_col199\" class=\"data row3 col199\" >nan</td>\n",
       "                        <td id=\"T_179caabc_117e_11ea_b383_80000208fe80row3_col200\" class=\"data row3 col200\" >nan</td>\n",
       "                        <td id=\"T_179caabc_117e_11ea_b383_80000208fe80row3_col201\" class=\"data row3 col201\" >nan</td>\n",
       "                        <td id=\"T_179caabc_117e_11ea_b383_80000208fe80row3_col202\" class=\"data row3 col202\" >nan</td>\n",
       "                        <td id=\"T_179caabc_117e_11ea_b383_80000208fe80row3_col203\" class=\"data row3 col203\" >nan</td>\n",
       "                        <td id=\"T_179caabc_117e_11ea_b383_80000208fe80row3_col204\" class=\"data row3 col204\" >nan</td>\n",
       "                        <td id=\"T_179caabc_117e_11ea_b383_80000208fe80row3_col205\" class=\"data row3 col205\" >nan</td>\n",
       "                        <td id=\"T_179caabc_117e_11ea_b383_80000208fe80row3_col206\" class=\"data row3 col206\" >nan</td>\n",
       "                        <td id=\"T_179caabc_117e_11ea_b383_80000208fe80row3_col207\" class=\"data row3 col207\" >nan</td>\n",
       "                        <td id=\"T_179caabc_117e_11ea_b383_80000208fe80row3_col208\" class=\"data row3 col208\" >nan</td>\n",
       "                        <td id=\"T_179caabc_117e_11ea_b383_80000208fe80row3_col209\" class=\"data row3 col209\" >nan</td>\n",
       "                        <td id=\"T_179caabc_117e_11ea_b383_80000208fe80row3_col210\" class=\"data row3 col210\" >nan</td>\n",
       "                        <td id=\"T_179caabc_117e_11ea_b383_80000208fe80row3_col211\" class=\"data row3 col211\" >nan</td>\n",
       "                        <td id=\"T_179caabc_117e_11ea_b383_80000208fe80row3_col212\" class=\"data row3 col212\" >nan</td>\n",
       "                        <td id=\"T_179caabc_117e_11ea_b383_80000208fe80row3_col213\" class=\"data row3 col213\" >nan</td>\n",
       "                        <td id=\"T_179caabc_117e_11ea_b383_80000208fe80row3_col214\" class=\"data row3 col214\" >nan</td>\n",
       "                        <td id=\"T_179caabc_117e_11ea_b383_80000208fe80row3_col215\" class=\"data row3 col215\" >nan</td>\n",
       "                        <td id=\"T_179caabc_117e_11ea_b383_80000208fe80row3_col216\" class=\"data row3 col216\" >nan</td>\n",
       "                        <td id=\"T_179caabc_117e_11ea_b383_80000208fe80row3_col217\" class=\"data row3 col217\" >nan</td>\n",
       "                        <td id=\"T_179caabc_117e_11ea_b383_80000208fe80row3_col218\" class=\"data row3 col218\" >nan</td>\n",
       "                        <td id=\"T_179caabc_117e_11ea_b383_80000208fe80row3_col219\" class=\"data row3 col219\" >nan</td>\n",
       "                        <td id=\"T_179caabc_117e_11ea_b383_80000208fe80row3_col220\" class=\"data row3 col220\" >nan</td>\n",
       "                        <td id=\"T_179caabc_117e_11ea_b383_80000208fe80row3_col221\" class=\"data row3 col221\" >nan</td>\n",
       "                        <td id=\"T_179caabc_117e_11ea_b383_80000208fe80row3_col222\" class=\"data row3 col222\" >nan</td>\n",
       "                        <td id=\"T_179caabc_117e_11ea_b383_80000208fe80row3_col223\" class=\"data row3 col223\" >nan</td>\n",
       "                        <td id=\"T_179caabc_117e_11ea_b383_80000208fe80row3_col224\" class=\"data row3 col224\" >nan</td>\n",
       "                        <td id=\"T_179caabc_117e_11ea_b383_80000208fe80row3_col225\" class=\"data row3 col225\" >nan</td>\n",
       "                        <td id=\"T_179caabc_117e_11ea_b383_80000208fe80row3_col226\" class=\"data row3 col226\" >nan</td>\n",
       "                        <td id=\"T_179caabc_117e_11ea_b383_80000208fe80row3_col227\" class=\"data row3 col227\" >nan</td>\n",
       "                        <td id=\"T_179caabc_117e_11ea_b383_80000208fe80row3_col228\" class=\"data row3 col228\" >nan</td>\n",
       "                        <td id=\"T_179caabc_117e_11ea_b383_80000208fe80row3_col229\" class=\"data row3 col229\" >nan</td>\n",
       "                        <td id=\"T_179caabc_117e_11ea_b383_80000208fe80row3_col230\" class=\"data row3 col230\" >nan</td>\n",
       "                        <td id=\"T_179caabc_117e_11ea_b383_80000208fe80row3_col231\" class=\"data row3 col231\" >nan</td>\n",
       "                        <td id=\"T_179caabc_117e_11ea_b383_80000208fe80row3_col232\" class=\"data row3 col232\" >nan</td>\n",
       "                        <td id=\"T_179caabc_117e_11ea_b383_80000208fe80row3_col233\" class=\"data row3 col233\" >nan</td>\n",
       "                        <td id=\"T_179caabc_117e_11ea_b383_80000208fe80row3_col234\" class=\"data row3 col234\" >nan</td>\n",
       "                        <td id=\"T_179caabc_117e_11ea_b383_80000208fe80row3_col235\" class=\"data row3 col235\" >nan</td>\n",
       "                        <td id=\"T_179caabc_117e_11ea_b383_80000208fe80row3_col236\" class=\"data row3 col236\" >nan</td>\n",
       "                        <td id=\"T_179caabc_117e_11ea_b383_80000208fe80row3_col237\" class=\"data row3 col237\" >nan</td>\n",
       "                        <td id=\"T_179caabc_117e_11ea_b383_80000208fe80row3_col238\" class=\"data row3 col238\" >nan</td>\n",
       "                        <td id=\"T_179caabc_117e_11ea_b383_80000208fe80row3_col239\" class=\"data row3 col239\" >nan</td>\n",
       "                        <td id=\"T_179caabc_117e_11ea_b383_80000208fe80row3_col240\" class=\"data row3 col240\" >nan</td>\n",
       "                        <td id=\"T_179caabc_117e_11ea_b383_80000208fe80row3_col241\" class=\"data row3 col241\" >nan</td>\n",
       "                        <td id=\"T_179caabc_117e_11ea_b383_80000208fe80row3_col242\" class=\"data row3 col242\" >nan</td>\n",
       "                        <td id=\"T_179caabc_117e_11ea_b383_80000208fe80row3_col243\" class=\"data row3 col243\" >nan</td>\n",
       "                        <td id=\"T_179caabc_117e_11ea_b383_80000208fe80row3_col244\" class=\"data row3 col244\" >nan</td>\n",
       "                        <td id=\"T_179caabc_117e_11ea_b383_80000208fe80row3_col245\" class=\"data row3 col245\" >nan</td>\n",
       "                        <td id=\"T_179caabc_117e_11ea_b383_80000208fe80row3_col246\" class=\"data row3 col246\" >nan</td>\n",
       "                        <td id=\"T_179caabc_117e_11ea_b383_80000208fe80row3_col247\" class=\"data row3 col247\" >nan</td>\n",
       "                        <td id=\"T_179caabc_117e_11ea_b383_80000208fe80row3_col248\" class=\"data row3 col248\" >nan</td>\n",
       "                        <td id=\"T_179caabc_117e_11ea_b383_80000208fe80row3_col249\" class=\"data row3 col249\" >nan</td>\n",
       "                        <td id=\"T_179caabc_117e_11ea_b383_80000208fe80row3_col250\" class=\"data row3 col250\" >nan</td>\n",
       "                        <td id=\"T_179caabc_117e_11ea_b383_80000208fe80row3_col251\" class=\"data row3 col251\" >nan</td>\n",
       "                        <td id=\"T_179caabc_117e_11ea_b383_80000208fe80row3_col252\" class=\"data row3 col252\" >nan</td>\n",
       "                        <td id=\"T_179caabc_117e_11ea_b383_80000208fe80row3_col253\" class=\"data row3 col253\" >nan</td>\n",
       "                        <td id=\"T_179caabc_117e_11ea_b383_80000208fe80row3_col254\" class=\"data row3 col254\" >nan</td>\n",
       "                        <td id=\"T_179caabc_117e_11ea_b383_80000208fe80row3_col255\" class=\"data row3 col255\" >nan</td>\n",
       "                        <td id=\"T_179caabc_117e_11ea_b383_80000208fe80row3_col256\" class=\"data row3 col256\" >nan</td>\n",
       "                        <td id=\"T_179caabc_117e_11ea_b383_80000208fe80row3_col257\" class=\"data row3 col257\" >nan</td>\n",
       "                        <td id=\"T_179caabc_117e_11ea_b383_80000208fe80row3_col258\" class=\"data row3 col258\" >nan</td>\n",
       "                        <td id=\"T_179caabc_117e_11ea_b383_80000208fe80row3_col259\" class=\"data row3 col259\" >nan</td>\n",
       "                        <td id=\"T_179caabc_117e_11ea_b383_80000208fe80row3_col260\" class=\"data row3 col260\" >nan</td>\n",
       "                        <td id=\"T_179caabc_117e_11ea_b383_80000208fe80row3_col261\" class=\"data row3 col261\" >nan</td>\n",
       "                        <td id=\"T_179caabc_117e_11ea_b383_80000208fe80row3_col262\" class=\"data row3 col262\" >nan</td>\n",
       "                        <td id=\"T_179caabc_117e_11ea_b383_80000208fe80row3_col263\" class=\"data row3 col263\" >nan</td>\n",
       "                        <td id=\"T_179caabc_117e_11ea_b383_80000208fe80row3_col264\" class=\"data row3 col264\" >nan</td>\n",
       "                        <td id=\"T_179caabc_117e_11ea_b383_80000208fe80row3_col265\" class=\"data row3 col265\" >nan</td>\n",
       "                        <td id=\"T_179caabc_117e_11ea_b383_80000208fe80row3_col266\" class=\"data row3 col266\" >nan</td>\n",
       "                        <td id=\"T_179caabc_117e_11ea_b383_80000208fe80row3_col267\" class=\"data row3 col267\" >nan</td>\n",
       "                        <td id=\"T_179caabc_117e_11ea_b383_80000208fe80row3_col268\" class=\"data row3 col268\" >nan</td>\n",
       "                        <td id=\"T_179caabc_117e_11ea_b383_80000208fe80row3_col269\" class=\"data row3 col269\" >nan</td>\n",
       "                        <td id=\"T_179caabc_117e_11ea_b383_80000208fe80row3_col270\" class=\"data row3 col270\" >nan</td>\n",
       "                        <td id=\"T_179caabc_117e_11ea_b383_80000208fe80row3_col271\" class=\"data row3 col271\" >nan</td>\n",
       "                        <td id=\"T_179caabc_117e_11ea_b383_80000208fe80row3_col272\" class=\"data row3 col272\" >nan</td>\n",
       "                        <td id=\"T_179caabc_117e_11ea_b383_80000208fe80row3_col273\" class=\"data row3 col273\" >nan</td>\n",
       "                        <td id=\"T_179caabc_117e_11ea_b383_80000208fe80row3_col274\" class=\"data row3 col274\" >nan</td>\n",
       "                        <td id=\"T_179caabc_117e_11ea_b383_80000208fe80row3_col275\" class=\"data row3 col275\" >nan</td>\n",
       "                        <td id=\"T_179caabc_117e_11ea_b383_80000208fe80row3_col276\" class=\"data row3 col276\" >nan</td>\n",
       "                        <td id=\"T_179caabc_117e_11ea_b383_80000208fe80row3_col277\" class=\"data row3 col277\" >nan</td>\n",
       "                        <td id=\"T_179caabc_117e_11ea_b383_80000208fe80row3_col278\" class=\"data row3 col278\" >nan</td>\n",
       "                        <td id=\"T_179caabc_117e_11ea_b383_80000208fe80row3_col279\" class=\"data row3 col279\" >nan</td>\n",
       "                        <td id=\"T_179caabc_117e_11ea_b383_80000208fe80row3_col280\" class=\"data row3 col280\" >nan</td>\n",
       "                        <td id=\"T_179caabc_117e_11ea_b383_80000208fe80row3_col281\" class=\"data row3 col281\" >nan</td>\n",
       "                        <td id=\"T_179caabc_117e_11ea_b383_80000208fe80row3_col282\" class=\"data row3 col282\" >nan</td>\n",
       "                        <td id=\"T_179caabc_117e_11ea_b383_80000208fe80row3_col283\" class=\"data row3 col283\" >nan</td>\n",
       "                        <td id=\"T_179caabc_117e_11ea_b383_80000208fe80row3_col284\" class=\"data row3 col284\" >nan</td>\n",
       "                        <td id=\"T_179caabc_117e_11ea_b383_80000208fe80row3_col285\" class=\"data row3 col285\" >nan</td>\n",
       "                        <td id=\"T_179caabc_117e_11ea_b383_80000208fe80row3_col286\" class=\"data row3 col286\" >nan</td>\n",
       "                        <td id=\"T_179caabc_117e_11ea_b383_80000208fe80row3_col287\" class=\"data row3 col287\" >nan</td>\n",
       "                        <td id=\"T_179caabc_117e_11ea_b383_80000208fe80row3_col288\" class=\"data row3 col288\" >nan</td>\n",
       "                        <td id=\"T_179caabc_117e_11ea_b383_80000208fe80row3_col289\" class=\"data row3 col289\" >nan</td>\n",
       "                        <td id=\"T_179caabc_117e_11ea_b383_80000208fe80row3_col290\" class=\"data row3 col290\" >nan</td>\n",
       "                        <td id=\"T_179caabc_117e_11ea_b383_80000208fe80row3_col291\" class=\"data row3 col291\" >nan</td>\n",
       "                        <td id=\"T_179caabc_117e_11ea_b383_80000208fe80row3_col292\" class=\"data row3 col292\" >nan</td>\n",
       "                        <td id=\"T_179caabc_117e_11ea_b383_80000208fe80row3_col293\" class=\"data row3 col293\" >nan</td>\n",
       "                        <td id=\"T_179caabc_117e_11ea_b383_80000208fe80row3_col294\" class=\"data row3 col294\" >nan</td>\n",
       "                        <td id=\"T_179caabc_117e_11ea_b383_80000208fe80row3_col295\" class=\"data row3 col295\" >nan</td>\n",
       "                        <td id=\"T_179caabc_117e_11ea_b383_80000208fe80row3_col296\" class=\"data row3 col296\" >nan</td>\n",
       "                        <td id=\"T_179caabc_117e_11ea_b383_80000208fe80row3_col297\" class=\"data row3 col297\" >nan</td>\n",
       "                        <td id=\"T_179caabc_117e_11ea_b383_80000208fe80row3_col298\" class=\"data row3 col298\" >nan</td>\n",
       "                        <td id=\"T_179caabc_117e_11ea_b383_80000208fe80row3_col299\" class=\"data row3 col299\" >nan</td>\n",
       "                        <td id=\"T_179caabc_117e_11ea_b383_80000208fe80row3_col300\" class=\"data row3 col300\" >nan</td>\n",
       "                        <td id=\"T_179caabc_117e_11ea_b383_80000208fe80row3_col301\" class=\"data row3 col301\" >nan</td>\n",
       "                        <td id=\"T_179caabc_117e_11ea_b383_80000208fe80row3_col302\" class=\"data row3 col302\" >nan</td>\n",
       "                        <td id=\"T_179caabc_117e_11ea_b383_80000208fe80row3_col303\" class=\"data row3 col303\" >nan</td>\n",
       "                        <td id=\"T_179caabc_117e_11ea_b383_80000208fe80row3_col304\" class=\"data row3 col304\" >nan</td>\n",
       "                        <td id=\"T_179caabc_117e_11ea_b383_80000208fe80row3_col305\" class=\"data row3 col305\" >nan</td>\n",
       "                        <td id=\"T_179caabc_117e_11ea_b383_80000208fe80row3_col306\" class=\"data row3 col306\" >nan</td>\n",
       "                        <td id=\"T_179caabc_117e_11ea_b383_80000208fe80row3_col307\" class=\"data row3 col307\" >nan</td>\n",
       "                        <td id=\"T_179caabc_117e_11ea_b383_80000208fe80row3_col308\" class=\"data row3 col308\" >nan</td>\n",
       "                        <td id=\"T_179caabc_117e_11ea_b383_80000208fe80row3_col309\" class=\"data row3 col309\" >nan</td>\n",
       "                        <td id=\"T_179caabc_117e_11ea_b383_80000208fe80row3_col310\" class=\"data row3 col310\" >nan</td>\n",
       "                        <td id=\"T_179caabc_117e_11ea_b383_80000208fe80row3_col311\" class=\"data row3 col311\" >nan</td>\n",
       "                        <td id=\"T_179caabc_117e_11ea_b383_80000208fe80row3_col312\" class=\"data row3 col312\" >nan</td>\n",
       "                        <td id=\"T_179caabc_117e_11ea_b383_80000208fe80row3_col313\" class=\"data row3 col313\" >nan</td>\n",
       "                        <td id=\"T_179caabc_117e_11ea_b383_80000208fe80row3_col314\" class=\"data row3 col314\" >nan</td>\n",
       "                        <td id=\"T_179caabc_117e_11ea_b383_80000208fe80row3_col315\" class=\"data row3 col315\" >nan</td>\n",
       "                        <td id=\"T_179caabc_117e_11ea_b383_80000208fe80row3_col316\" class=\"data row3 col316\" >nan</td>\n",
       "                        <td id=\"T_179caabc_117e_11ea_b383_80000208fe80row3_col317\" class=\"data row3 col317\" >nan</td>\n",
       "                        <td id=\"T_179caabc_117e_11ea_b383_80000208fe80row3_col318\" class=\"data row3 col318\" >nan</td>\n",
       "                        <td id=\"T_179caabc_117e_11ea_b383_80000208fe80row3_col319\" class=\"data row3 col319\" >nan</td>\n",
       "                        <td id=\"T_179caabc_117e_11ea_b383_80000208fe80row3_col320\" class=\"data row3 col320\" >nan</td>\n",
       "                        <td id=\"T_179caabc_117e_11ea_b383_80000208fe80row3_col321\" class=\"data row3 col321\" >nan</td>\n",
       "                        <td id=\"T_179caabc_117e_11ea_b383_80000208fe80row3_col322\" class=\"data row3 col322\" >nan</td>\n",
       "                        <td id=\"T_179caabc_117e_11ea_b383_80000208fe80row3_col323\" class=\"data row3 col323\" >nan</td>\n",
       "                        <td id=\"T_179caabc_117e_11ea_b383_80000208fe80row3_col324\" class=\"data row3 col324\" >nan</td>\n",
       "                        <td id=\"T_179caabc_117e_11ea_b383_80000208fe80row3_col325\" class=\"data row3 col325\" >nan</td>\n",
       "                        <td id=\"T_179caabc_117e_11ea_b383_80000208fe80row3_col326\" class=\"data row3 col326\" >nan</td>\n",
       "                        <td id=\"T_179caabc_117e_11ea_b383_80000208fe80row3_col327\" class=\"data row3 col327\" >nan</td>\n",
       "                        <td id=\"T_179caabc_117e_11ea_b383_80000208fe80row3_col328\" class=\"data row3 col328\" >nan</td>\n",
       "                        <td id=\"T_179caabc_117e_11ea_b383_80000208fe80row3_col329\" class=\"data row3 col329\" >nan</td>\n",
       "                        <td id=\"T_179caabc_117e_11ea_b383_80000208fe80row3_col330\" class=\"data row3 col330\" >nan</td>\n",
       "                        <td id=\"T_179caabc_117e_11ea_b383_80000208fe80row3_col331\" class=\"data row3 col331\" >nan</td>\n",
       "                        <td id=\"T_179caabc_117e_11ea_b383_80000208fe80row3_col332\" class=\"data row3 col332\" >nan</td>\n",
       "                        <td id=\"T_179caabc_117e_11ea_b383_80000208fe80row3_col333\" class=\"data row3 col333\" >nan</td>\n",
       "                        <td id=\"T_179caabc_117e_11ea_b383_80000208fe80row3_col334\" class=\"data row3 col334\" >nan</td>\n",
       "                        <td id=\"T_179caabc_117e_11ea_b383_80000208fe80row3_col335\" class=\"data row3 col335\" >nan</td>\n",
       "                        <td id=\"T_179caabc_117e_11ea_b383_80000208fe80row3_col336\" class=\"data row3 col336\" >nan</td>\n",
       "                        <td id=\"T_179caabc_117e_11ea_b383_80000208fe80row3_col337\" class=\"data row3 col337\" >nan</td>\n",
       "                        <td id=\"T_179caabc_117e_11ea_b383_80000208fe80row3_col338\" class=\"data row3 col338\" >nan</td>\n",
       "                        <td id=\"T_179caabc_117e_11ea_b383_80000208fe80row3_col339\" class=\"data row3 col339\" >nan</td>\n",
       "                        <td id=\"T_179caabc_117e_11ea_b383_80000208fe80row3_col340\" class=\"data row3 col340\" >nan</td>\n",
       "                        <td id=\"T_179caabc_117e_11ea_b383_80000208fe80row3_col341\" class=\"data row3 col341\" >nan</td>\n",
       "                        <td id=\"T_179caabc_117e_11ea_b383_80000208fe80row3_col342\" class=\"data row3 col342\" >nan</td>\n",
       "                        <td id=\"T_179caabc_117e_11ea_b383_80000208fe80row3_col343\" class=\"data row3 col343\" >nan</td>\n",
       "                        <td id=\"T_179caabc_117e_11ea_b383_80000208fe80row3_col344\" class=\"data row3 col344\" >nan</td>\n",
       "                        <td id=\"T_179caabc_117e_11ea_b383_80000208fe80row3_col345\" class=\"data row3 col345\" >nan</td>\n",
       "                        <td id=\"T_179caabc_117e_11ea_b383_80000208fe80row3_col346\" class=\"data row3 col346\" >nan</td>\n",
       "                        <td id=\"T_179caabc_117e_11ea_b383_80000208fe80row3_col347\" class=\"data row3 col347\" >nan</td>\n",
       "                        <td id=\"T_179caabc_117e_11ea_b383_80000208fe80row3_col348\" class=\"data row3 col348\" >nan</td>\n",
       "                        <td id=\"T_179caabc_117e_11ea_b383_80000208fe80row3_col349\" class=\"data row3 col349\" >nan</td>\n",
       "                        <td id=\"T_179caabc_117e_11ea_b383_80000208fe80row3_col350\" class=\"data row3 col350\" >nan</td>\n",
       "                        <td id=\"T_179caabc_117e_11ea_b383_80000208fe80row3_col351\" class=\"data row3 col351\" >nan</td>\n",
       "                        <td id=\"T_179caabc_117e_11ea_b383_80000208fe80row3_col352\" class=\"data row3 col352\" >nan</td>\n",
       "                        <td id=\"T_179caabc_117e_11ea_b383_80000208fe80row3_col353\" class=\"data row3 col353\" >nan</td>\n",
       "                        <td id=\"T_179caabc_117e_11ea_b383_80000208fe80row3_col354\" class=\"data row3 col354\" >nan</td>\n",
       "                        <td id=\"T_179caabc_117e_11ea_b383_80000208fe80row3_col355\" class=\"data row3 col355\" >nan</td>\n",
       "                        <td id=\"T_179caabc_117e_11ea_b383_80000208fe80row3_col356\" class=\"data row3 col356\" >nan</td>\n",
       "                        <td id=\"T_179caabc_117e_11ea_b383_80000208fe80row3_col357\" class=\"data row3 col357\" >nan</td>\n",
       "                        <td id=\"T_179caabc_117e_11ea_b383_80000208fe80row3_col358\" class=\"data row3 col358\" >nan</td>\n",
       "                        <td id=\"T_179caabc_117e_11ea_b383_80000208fe80row3_col359\" class=\"data row3 col359\" >nan</td>\n",
       "                        <td id=\"T_179caabc_117e_11ea_b383_80000208fe80row3_col360\" class=\"data row3 col360\" >nan</td>\n",
       "                        <td id=\"T_179caabc_117e_11ea_b383_80000208fe80row3_col361\" class=\"data row3 col361\" >nan</td>\n",
       "                        <td id=\"T_179caabc_117e_11ea_b383_80000208fe80row3_col362\" class=\"data row3 col362\" >nan</td>\n",
       "                        <td id=\"T_179caabc_117e_11ea_b383_80000208fe80row3_col363\" class=\"data row3 col363\" >nan</td>\n",
       "                        <td id=\"T_179caabc_117e_11ea_b383_80000208fe80row3_col364\" class=\"data row3 col364\" >nan</td>\n",
       "                        <td id=\"T_179caabc_117e_11ea_b383_80000208fe80row3_col365\" class=\"data row3 col365\" >nan</td>\n",
       "                        <td id=\"T_179caabc_117e_11ea_b383_80000208fe80row3_col366\" class=\"data row3 col366\" >nan</td>\n",
       "                        <td id=\"T_179caabc_117e_11ea_b383_80000208fe80row3_col367\" class=\"data row3 col367\" >nan</td>\n",
       "                        <td id=\"T_179caabc_117e_11ea_b383_80000208fe80row3_col368\" class=\"data row3 col368\" >nan</td>\n",
       "                        <td id=\"T_179caabc_117e_11ea_b383_80000208fe80row3_col369\" class=\"data row3 col369\" >nan</td>\n",
       "                        <td id=\"T_179caabc_117e_11ea_b383_80000208fe80row3_col370\" class=\"data row3 col370\" >nan</td>\n",
       "                        <td id=\"T_179caabc_117e_11ea_b383_80000208fe80row3_col371\" class=\"data row3 col371\" >nan</td>\n",
       "                        <td id=\"T_179caabc_117e_11ea_b383_80000208fe80row3_col372\" class=\"data row3 col372\" >nan</td>\n",
       "                        <td id=\"T_179caabc_117e_11ea_b383_80000208fe80row3_col373\" class=\"data row3 col373\" >nan</td>\n",
       "                        <td id=\"T_179caabc_117e_11ea_b383_80000208fe80row3_col374\" class=\"data row3 col374\" >nan</td>\n",
       "                        <td id=\"T_179caabc_117e_11ea_b383_80000208fe80row3_col375\" class=\"data row3 col375\" >nan</td>\n",
       "                        <td id=\"T_179caabc_117e_11ea_b383_80000208fe80row3_col376\" class=\"data row3 col376\" >nan</td>\n",
       "                        <td id=\"T_179caabc_117e_11ea_b383_80000208fe80row3_col377\" class=\"data row3 col377\" >nan</td>\n",
       "                        <td id=\"T_179caabc_117e_11ea_b383_80000208fe80row3_col378\" class=\"data row3 col378\" >nan</td>\n",
       "                        <td id=\"T_179caabc_117e_11ea_b383_80000208fe80row3_col379\" class=\"data row3 col379\" >nan</td>\n",
       "                        <td id=\"T_179caabc_117e_11ea_b383_80000208fe80row3_col380\" class=\"data row3 col380\" >nan</td>\n",
       "                        <td id=\"T_179caabc_117e_11ea_b383_80000208fe80row3_col381\" class=\"data row3 col381\" >nan</td>\n",
       "                        <td id=\"T_179caabc_117e_11ea_b383_80000208fe80row3_col382\" class=\"data row3 col382\" >nan</td>\n",
       "                        <td id=\"T_179caabc_117e_11ea_b383_80000208fe80row3_col383\" class=\"data row3 col383\" >nan</td>\n",
       "                        <td id=\"T_179caabc_117e_11ea_b383_80000208fe80row3_col384\" class=\"data row3 col384\" >nan</td>\n",
       "                        <td id=\"T_179caabc_117e_11ea_b383_80000208fe80row3_col385\" class=\"data row3 col385\" >nan</td>\n",
       "                        <td id=\"T_179caabc_117e_11ea_b383_80000208fe80row3_col386\" class=\"data row3 col386\" >nan</td>\n",
       "                        <td id=\"T_179caabc_117e_11ea_b383_80000208fe80row3_col387\" class=\"data row3 col387\" >nan</td>\n",
       "                        <td id=\"T_179caabc_117e_11ea_b383_80000208fe80row3_col388\" class=\"data row3 col388\" >nan</td>\n",
       "                        <td id=\"T_179caabc_117e_11ea_b383_80000208fe80row3_col389\" class=\"data row3 col389\" >nan</td>\n",
       "                        <td id=\"T_179caabc_117e_11ea_b383_80000208fe80row3_col390\" class=\"data row3 col390\" >nan</td>\n",
       "                        <td id=\"T_179caabc_117e_11ea_b383_80000208fe80row3_col391\" class=\"data row3 col391\" >nan</td>\n",
       "                        <td id=\"T_179caabc_117e_11ea_b383_80000208fe80row3_col392\" class=\"data row3 col392\" >nan</td>\n",
       "                        <td id=\"T_179caabc_117e_11ea_b383_80000208fe80row3_col393\" class=\"data row3 col393\" >nan</td>\n",
       "                        <td id=\"T_179caabc_117e_11ea_b383_80000208fe80row3_col394\" class=\"data row3 col394\" >nan</td>\n",
       "                        <td id=\"T_179caabc_117e_11ea_b383_80000208fe80row3_col395\" class=\"data row3 col395\" >nan</td>\n",
       "                        <td id=\"T_179caabc_117e_11ea_b383_80000208fe80row3_col396\" class=\"data row3 col396\" >nan</td>\n",
       "                        <td id=\"T_179caabc_117e_11ea_b383_80000208fe80row3_col397\" class=\"data row3 col397\" >nan</td>\n",
       "                        <td id=\"T_179caabc_117e_11ea_b383_80000208fe80row3_col398\" class=\"data row3 col398\" >nan</td>\n",
       "                        <td id=\"T_179caabc_117e_11ea_b383_80000208fe80row3_col399\" class=\"data row3 col399\" >nan</td>\n",
       "                        <td id=\"T_179caabc_117e_11ea_b383_80000208fe80row3_col400\" class=\"data row3 col400\" >nan</td>\n",
       "                        <td id=\"T_179caabc_117e_11ea_b383_80000208fe80row3_col401\" class=\"data row3 col401\" >nan</td>\n",
       "                        <td id=\"T_179caabc_117e_11ea_b383_80000208fe80row3_col402\" class=\"data row3 col402\" >nan</td>\n",
       "                        <td id=\"T_179caabc_117e_11ea_b383_80000208fe80row3_col403\" class=\"data row3 col403\" >nan</td>\n",
       "                        <td id=\"T_179caabc_117e_11ea_b383_80000208fe80row3_col404\" class=\"data row3 col404\" >nan</td>\n",
       "                        <td id=\"T_179caabc_117e_11ea_b383_80000208fe80row3_col405\" class=\"data row3 col405\" >nan</td>\n",
       "                        <td id=\"T_179caabc_117e_11ea_b383_80000208fe80row3_col406\" class=\"data row3 col406\" >nan</td>\n",
       "                        <td id=\"T_179caabc_117e_11ea_b383_80000208fe80row3_col407\" class=\"data row3 col407\" >nan</td>\n",
       "                        <td id=\"T_179caabc_117e_11ea_b383_80000208fe80row3_col408\" class=\"data row3 col408\" >nan</td>\n",
       "                        <td id=\"T_179caabc_117e_11ea_b383_80000208fe80row3_col409\" class=\"data row3 col409\" >nan</td>\n",
       "                        <td id=\"T_179caabc_117e_11ea_b383_80000208fe80row3_col410\" class=\"data row3 col410\" >nan</td>\n",
       "                        <td id=\"T_179caabc_117e_11ea_b383_80000208fe80row3_col411\" class=\"data row3 col411\" >nan</td>\n",
       "                        <td id=\"T_179caabc_117e_11ea_b383_80000208fe80row3_col412\" class=\"data row3 col412\" >nan</td>\n",
       "                        <td id=\"T_179caabc_117e_11ea_b383_80000208fe80row3_col413\" class=\"data row3 col413\" >nan</td>\n",
       "                        <td id=\"T_179caabc_117e_11ea_b383_80000208fe80row3_col414\" class=\"data row3 col414\" >nan</td>\n",
       "                        <td id=\"T_179caabc_117e_11ea_b383_80000208fe80row3_col415\" class=\"data row3 col415\" >nan</td>\n",
       "                        <td id=\"T_179caabc_117e_11ea_b383_80000208fe80row3_col416\" class=\"data row3 col416\" >nan</td>\n",
       "                        <td id=\"T_179caabc_117e_11ea_b383_80000208fe80row3_col417\" class=\"data row3 col417\" >nan</td>\n",
       "                        <td id=\"T_179caabc_117e_11ea_b383_80000208fe80row3_col418\" class=\"data row3 col418\" >nan</td>\n",
       "                        <td id=\"T_179caabc_117e_11ea_b383_80000208fe80row3_col419\" class=\"data row3 col419\" >nan</td>\n",
       "                        <td id=\"T_179caabc_117e_11ea_b383_80000208fe80row3_col420\" class=\"data row3 col420\" >nan</td>\n",
       "                        <td id=\"T_179caabc_117e_11ea_b383_80000208fe80row3_col421\" class=\"data row3 col421\" >nan</td>\n",
       "                        <td id=\"T_179caabc_117e_11ea_b383_80000208fe80row3_col422\" class=\"data row3 col422\" >nan</td>\n",
       "                        <td id=\"T_179caabc_117e_11ea_b383_80000208fe80row3_col423\" class=\"data row3 col423\" >nan</td>\n",
       "                        <td id=\"T_179caabc_117e_11ea_b383_80000208fe80row3_col424\" class=\"data row3 col424\" >nan</td>\n",
       "                        <td id=\"T_179caabc_117e_11ea_b383_80000208fe80row3_col425\" class=\"data row3 col425\" >nan</td>\n",
       "                        <td id=\"T_179caabc_117e_11ea_b383_80000208fe80row3_col426\" class=\"data row3 col426\" >nan</td>\n",
       "                        <td id=\"T_179caabc_117e_11ea_b383_80000208fe80row3_col427\" class=\"data row3 col427\" >nan</td>\n",
       "                        <td id=\"T_179caabc_117e_11ea_b383_80000208fe80row3_col428\" class=\"data row3 col428\" >nan</td>\n",
       "                        <td id=\"T_179caabc_117e_11ea_b383_80000208fe80row3_col429\" class=\"data row3 col429\" >nan</td>\n",
       "                        <td id=\"T_179caabc_117e_11ea_b383_80000208fe80row3_col430\" class=\"data row3 col430\" >nan</td>\n",
       "                        <td id=\"T_179caabc_117e_11ea_b383_80000208fe80row3_col431\" class=\"data row3 col431\" >nan</td>\n",
       "                        <td id=\"T_179caabc_117e_11ea_b383_80000208fe80row3_col432\" class=\"data row3 col432\" >nan</td>\n",
       "                        <td id=\"T_179caabc_117e_11ea_b383_80000208fe80row3_col433\" class=\"data row3 col433\" >nan</td>\n",
       "                        <td id=\"T_179caabc_117e_11ea_b383_80000208fe80row3_col434\" class=\"data row3 col434\" >nan</td>\n",
       "                        <td id=\"T_179caabc_117e_11ea_b383_80000208fe80row3_col435\" class=\"data row3 col435\" >nan</td>\n",
       "                        <td id=\"T_179caabc_117e_11ea_b383_80000208fe80row3_col436\" class=\"data row3 col436\" >nan</td>\n",
       "                        <td id=\"T_179caabc_117e_11ea_b383_80000208fe80row3_col437\" class=\"data row3 col437\" >nan</td>\n",
       "                        <td id=\"T_179caabc_117e_11ea_b383_80000208fe80row3_col438\" class=\"data row3 col438\" >nan</td>\n",
       "                        <td id=\"T_179caabc_117e_11ea_b383_80000208fe80row3_col439\" class=\"data row3 col439\" >nan</td>\n",
       "                        <td id=\"T_179caabc_117e_11ea_b383_80000208fe80row3_col440\" class=\"data row3 col440\" >nan</td>\n",
       "                        <td id=\"T_179caabc_117e_11ea_b383_80000208fe80row3_col441\" class=\"data row3 col441\" >nan</td>\n",
       "                        <td id=\"T_179caabc_117e_11ea_b383_80000208fe80row3_col442\" class=\"data row3 col442\" >nan</td>\n",
       "                        <td id=\"T_179caabc_117e_11ea_b383_80000208fe80row3_col443\" class=\"data row3 col443\" >nan</td>\n",
       "                        <td id=\"T_179caabc_117e_11ea_b383_80000208fe80row3_col444\" class=\"data row3 col444\" >nan</td>\n",
       "                        <td id=\"T_179caabc_117e_11ea_b383_80000208fe80row3_col445\" class=\"data row3 col445\" >nan</td>\n",
       "                        <td id=\"T_179caabc_117e_11ea_b383_80000208fe80row3_col446\" class=\"data row3 col446\" >nan</td>\n",
       "                        <td id=\"T_179caabc_117e_11ea_b383_80000208fe80row3_col447\" class=\"data row3 col447\" >nan</td>\n",
       "                        <td id=\"T_179caabc_117e_11ea_b383_80000208fe80row3_col448\" class=\"data row3 col448\" >nan</td>\n",
       "                        <td id=\"T_179caabc_117e_11ea_b383_80000208fe80row3_col449\" class=\"data row3 col449\" >nan</td>\n",
       "                        <td id=\"T_179caabc_117e_11ea_b383_80000208fe80row3_col450\" class=\"data row3 col450\" >nan</td>\n",
       "                        <td id=\"T_179caabc_117e_11ea_b383_80000208fe80row3_col451\" class=\"data row3 col451\" >nan</td>\n",
       "                        <td id=\"T_179caabc_117e_11ea_b383_80000208fe80row3_col452\" class=\"data row3 col452\" >nan</td>\n",
       "                        <td id=\"T_179caabc_117e_11ea_b383_80000208fe80row3_col453\" class=\"data row3 col453\" >nan</td>\n",
       "                        <td id=\"T_179caabc_117e_11ea_b383_80000208fe80row3_col454\" class=\"data row3 col454\" >nan</td>\n",
       "                        <td id=\"T_179caabc_117e_11ea_b383_80000208fe80row3_col455\" class=\"data row3 col455\" >nan</td>\n",
       "                        <td id=\"T_179caabc_117e_11ea_b383_80000208fe80row3_col456\" class=\"data row3 col456\" >nan</td>\n",
       "                        <td id=\"T_179caabc_117e_11ea_b383_80000208fe80row3_col457\" class=\"data row3 col457\" >nan</td>\n",
       "                        <td id=\"T_179caabc_117e_11ea_b383_80000208fe80row3_col458\" class=\"data row3 col458\" >nan</td>\n",
       "                        <td id=\"T_179caabc_117e_11ea_b383_80000208fe80row3_col459\" class=\"data row3 col459\" >nan</td>\n",
       "                        <td id=\"T_179caabc_117e_11ea_b383_80000208fe80row3_col460\" class=\"data row3 col460\" >nan</td>\n",
       "                        <td id=\"T_179caabc_117e_11ea_b383_80000208fe80row3_col461\" class=\"data row3 col461\" >nan</td>\n",
       "                        <td id=\"T_179caabc_117e_11ea_b383_80000208fe80row3_col462\" class=\"data row3 col462\" >nan</td>\n",
       "                        <td id=\"T_179caabc_117e_11ea_b383_80000208fe80row3_col463\" class=\"data row3 col463\" >nan</td>\n",
       "                        <td id=\"T_179caabc_117e_11ea_b383_80000208fe80row3_col464\" class=\"data row3 col464\" >nan</td>\n",
       "                        <td id=\"T_179caabc_117e_11ea_b383_80000208fe80row3_col465\" class=\"data row3 col465\" >nan</td>\n",
       "                        <td id=\"T_179caabc_117e_11ea_b383_80000208fe80row3_col466\" class=\"data row3 col466\" >nan</td>\n",
       "                        <td id=\"T_179caabc_117e_11ea_b383_80000208fe80row3_col467\" class=\"data row3 col467\" >nan</td>\n",
       "                        <td id=\"T_179caabc_117e_11ea_b383_80000208fe80row3_col468\" class=\"data row3 col468\" >nan</td>\n",
       "                        <td id=\"T_179caabc_117e_11ea_b383_80000208fe80row3_col469\" class=\"data row3 col469\" >nan</td>\n",
       "                        <td id=\"T_179caabc_117e_11ea_b383_80000208fe80row3_col470\" class=\"data row3 col470\" >nan</td>\n",
       "                        <td id=\"T_179caabc_117e_11ea_b383_80000208fe80row3_col471\" class=\"data row3 col471\" >nan</td>\n",
       "                        <td id=\"T_179caabc_117e_11ea_b383_80000208fe80row3_col472\" class=\"data row3 col472\" >nan</td>\n",
       "                        <td id=\"T_179caabc_117e_11ea_b383_80000208fe80row3_col473\" class=\"data row3 col473\" >nan</td>\n",
       "                        <td id=\"T_179caabc_117e_11ea_b383_80000208fe80row3_col474\" class=\"data row3 col474\" >nan</td>\n",
       "                        <td id=\"T_179caabc_117e_11ea_b383_80000208fe80row3_col475\" class=\"data row3 col475\" >nan</td>\n",
       "                        <td id=\"T_179caabc_117e_11ea_b383_80000208fe80row3_col476\" class=\"data row3 col476\" >nan</td>\n",
       "                        <td id=\"T_179caabc_117e_11ea_b383_80000208fe80row3_col477\" class=\"data row3 col477\" >nan</td>\n",
       "                        <td id=\"T_179caabc_117e_11ea_b383_80000208fe80row3_col478\" class=\"data row3 col478\" >nan</td>\n",
       "                        <td id=\"T_179caabc_117e_11ea_b383_80000208fe80row3_col479\" class=\"data row3 col479\" >nan</td>\n",
       "                        <td id=\"T_179caabc_117e_11ea_b383_80000208fe80row3_col480\" class=\"data row3 col480\" >nan</td>\n",
       "                        <td id=\"T_179caabc_117e_11ea_b383_80000208fe80row3_col481\" class=\"data row3 col481\" >nan</td>\n",
       "                        <td id=\"T_179caabc_117e_11ea_b383_80000208fe80row3_col482\" class=\"data row3 col482\" >nan</td>\n",
       "                        <td id=\"T_179caabc_117e_11ea_b383_80000208fe80row3_col483\" class=\"data row3 col483\" >nan</td>\n",
       "                        <td id=\"T_179caabc_117e_11ea_b383_80000208fe80row3_col484\" class=\"data row3 col484\" >nan</td>\n",
       "                        <td id=\"T_179caabc_117e_11ea_b383_80000208fe80row3_col485\" class=\"data row3 col485\" >nan</td>\n",
       "                        <td id=\"T_179caabc_117e_11ea_b383_80000208fe80row3_col486\" class=\"data row3 col486\" >nan</td>\n",
       "                        <td id=\"T_179caabc_117e_11ea_b383_80000208fe80row3_col487\" class=\"data row3 col487\" >nan</td>\n",
       "                        <td id=\"T_179caabc_117e_11ea_b383_80000208fe80row3_col488\" class=\"data row3 col488\" >nan</td>\n",
       "                        <td id=\"T_179caabc_117e_11ea_b383_80000208fe80row3_col489\" class=\"data row3 col489\" >nan</td>\n",
       "                        <td id=\"T_179caabc_117e_11ea_b383_80000208fe80row3_col490\" class=\"data row3 col490\" >nan</td>\n",
       "                        <td id=\"T_179caabc_117e_11ea_b383_80000208fe80row3_col491\" class=\"data row3 col491\" >nan</td>\n",
       "                        <td id=\"T_179caabc_117e_11ea_b383_80000208fe80row3_col492\" class=\"data row3 col492\" >nan</td>\n",
       "                        <td id=\"T_179caabc_117e_11ea_b383_80000208fe80row3_col493\" class=\"data row3 col493\" >nan</td>\n",
       "                        <td id=\"T_179caabc_117e_11ea_b383_80000208fe80row3_col494\" class=\"data row3 col494\" >nan</td>\n",
       "                        <td id=\"T_179caabc_117e_11ea_b383_80000208fe80row3_col495\" class=\"data row3 col495\" >nan</td>\n",
       "                        <td id=\"T_179caabc_117e_11ea_b383_80000208fe80row3_col496\" class=\"data row3 col496\" >nan</td>\n",
       "                        <td id=\"T_179caabc_117e_11ea_b383_80000208fe80row3_col497\" class=\"data row3 col497\" >nan</td>\n",
       "                        <td id=\"T_179caabc_117e_11ea_b383_80000208fe80row3_col498\" class=\"data row3 col498\" >nan</td>\n",
       "                        <td id=\"T_179caabc_117e_11ea_b383_80000208fe80row3_col499\" class=\"data row3 col499\" >nan</td>\n",
       "                        <td id=\"T_179caabc_117e_11ea_b383_80000208fe80row3_col500\" class=\"data row3 col500\" >nan</td>\n",
       "                        <td id=\"T_179caabc_117e_11ea_b383_80000208fe80row3_col501\" class=\"data row3 col501\" >nan</td>\n",
       "                        <td id=\"T_179caabc_117e_11ea_b383_80000208fe80row3_col502\" class=\"data row3 col502\" >nan</td>\n",
       "                        <td id=\"T_179caabc_117e_11ea_b383_80000208fe80row3_col503\" class=\"data row3 col503\" >nan</td>\n",
       "                        <td id=\"T_179caabc_117e_11ea_b383_80000208fe80row3_col504\" class=\"data row3 col504\" >nan</td>\n",
       "                        <td id=\"T_179caabc_117e_11ea_b383_80000208fe80row3_col505\" class=\"data row3 col505\" >nan</td>\n",
       "                        <td id=\"T_179caabc_117e_11ea_b383_80000208fe80row3_col506\" class=\"data row3 col506\" >nan</td>\n",
       "                        <td id=\"T_179caabc_117e_11ea_b383_80000208fe80row3_col507\" class=\"data row3 col507\" >nan</td>\n",
       "                        <td id=\"T_179caabc_117e_11ea_b383_80000208fe80row3_col508\" class=\"data row3 col508\" >nan</td>\n",
       "                        <td id=\"T_179caabc_117e_11ea_b383_80000208fe80row3_col509\" class=\"data row3 col509\" >nan</td>\n",
       "                        <td id=\"T_179caabc_117e_11ea_b383_80000208fe80row3_col510\" class=\"data row3 col510\" >nan</td>\n",
       "                        <td id=\"T_179caabc_117e_11ea_b383_80000208fe80row3_col511\" class=\"data row3 col511\" >nan</td>\n",
       "                        <td id=\"T_179caabc_117e_11ea_b383_80000208fe80row3_col512\" class=\"data row3 col512\" >nan</td>\n",
       "                        <td id=\"T_179caabc_117e_11ea_b383_80000208fe80row3_col513\" class=\"data row3 col513\" >nan</td>\n",
       "                        <td id=\"T_179caabc_117e_11ea_b383_80000208fe80row3_col514\" class=\"data row3 col514\" >nan</td>\n",
       "                        <td id=\"T_179caabc_117e_11ea_b383_80000208fe80row3_col515\" class=\"data row3 col515\" >nan</td>\n",
       "                        <td id=\"T_179caabc_117e_11ea_b383_80000208fe80row3_col516\" class=\"data row3 col516\" >nan</td>\n",
       "                        <td id=\"T_179caabc_117e_11ea_b383_80000208fe80row3_col517\" class=\"data row3 col517\" >nan</td>\n",
       "                        <td id=\"T_179caabc_117e_11ea_b383_80000208fe80row3_col518\" class=\"data row3 col518\" >nan</td>\n",
       "                        <td id=\"T_179caabc_117e_11ea_b383_80000208fe80row3_col519\" class=\"data row3 col519\" >nan</td>\n",
       "                        <td id=\"T_179caabc_117e_11ea_b383_80000208fe80row3_col520\" class=\"data row3 col520\" >nan</td>\n",
       "                        <td id=\"T_179caabc_117e_11ea_b383_80000208fe80row3_col521\" class=\"data row3 col521\" >nan</td>\n",
       "                        <td id=\"T_179caabc_117e_11ea_b383_80000208fe80row3_col522\" class=\"data row3 col522\" >nan</td>\n",
       "                        <td id=\"T_179caabc_117e_11ea_b383_80000208fe80row3_col523\" class=\"data row3 col523\" >nan</td>\n",
       "                        <td id=\"T_179caabc_117e_11ea_b383_80000208fe80row3_col524\" class=\"data row3 col524\" >nan</td>\n",
       "                        <td id=\"T_179caabc_117e_11ea_b383_80000208fe80row3_col525\" class=\"data row3 col525\" >nan</td>\n",
       "                        <td id=\"T_179caabc_117e_11ea_b383_80000208fe80row3_col526\" class=\"data row3 col526\" >nan</td>\n",
       "                        <td id=\"T_179caabc_117e_11ea_b383_80000208fe80row3_col527\" class=\"data row3 col527\" >nan</td>\n",
       "                        <td id=\"T_179caabc_117e_11ea_b383_80000208fe80row3_col528\" class=\"data row3 col528\" >nan</td>\n",
       "                        <td id=\"T_179caabc_117e_11ea_b383_80000208fe80row3_col529\" class=\"data row3 col529\" >nan</td>\n",
       "                        <td id=\"T_179caabc_117e_11ea_b383_80000208fe80row3_col530\" class=\"data row3 col530\" >nan</td>\n",
       "                        <td id=\"T_179caabc_117e_11ea_b383_80000208fe80row3_col531\" class=\"data row3 col531\" >nan</td>\n",
       "                        <td id=\"T_179caabc_117e_11ea_b383_80000208fe80row3_col532\" class=\"data row3 col532\" >nan</td>\n",
       "                        <td id=\"T_179caabc_117e_11ea_b383_80000208fe80row3_col533\" class=\"data row3 col533\" >nan</td>\n",
       "                        <td id=\"T_179caabc_117e_11ea_b383_80000208fe80row3_col534\" class=\"data row3 col534\" >nan</td>\n",
       "                        <td id=\"T_179caabc_117e_11ea_b383_80000208fe80row3_col535\" class=\"data row3 col535\" >nan</td>\n",
       "                        <td id=\"T_179caabc_117e_11ea_b383_80000208fe80row3_col536\" class=\"data row3 col536\" >nan</td>\n",
       "                        <td id=\"T_179caabc_117e_11ea_b383_80000208fe80row3_col537\" class=\"data row3 col537\" >nan</td>\n",
       "                        <td id=\"T_179caabc_117e_11ea_b383_80000208fe80row3_col538\" class=\"data row3 col538\" >nan</td>\n",
       "                        <td id=\"T_179caabc_117e_11ea_b383_80000208fe80row3_col539\" class=\"data row3 col539\" >nan</td>\n",
       "                        <td id=\"T_179caabc_117e_11ea_b383_80000208fe80row3_col540\" class=\"data row3 col540\" >nan</td>\n",
       "                        <td id=\"T_179caabc_117e_11ea_b383_80000208fe80row3_col541\" class=\"data row3 col541\" >nan</td>\n",
       "                        <td id=\"T_179caabc_117e_11ea_b383_80000208fe80row3_col542\" class=\"data row3 col542\" >nan</td>\n",
       "                        <td id=\"T_179caabc_117e_11ea_b383_80000208fe80row3_col543\" class=\"data row3 col543\" >nan</td>\n",
       "                        <td id=\"T_179caabc_117e_11ea_b383_80000208fe80row3_col544\" class=\"data row3 col544\" >nan</td>\n",
       "                        <td id=\"T_179caabc_117e_11ea_b383_80000208fe80row3_col545\" class=\"data row3 col545\" >nan</td>\n",
       "                        <td id=\"T_179caabc_117e_11ea_b383_80000208fe80row3_col546\" class=\"data row3 col546\" >nan</td>\n",
       "                        <td id=\"T_179caabc_117e_11ea_b383_80000208fe80row3_col547\" class=\"data row3 col547\" >nan</td>\n",
       "                        <td id=\"T_179caabc_117e_11ea_b383_80000208fe80row3_col548\" class=\"data row3 col548\" >nan</td>\n",
       "                        <td id=\"T_179caabc_117e_11ea_b383_80000208fe80row3_col549\" class=\"data row3 col549\" >nan</td>\n",
       "                        <td id=\"T_179caabc_117e_11ea_b383_80000208fe80row3_col550\" class=\"data row3 col550\" >nan</td>\n",
       "                        <td id=\"T_179caabc_117e_11ea_b383_80000208fe80row3_col551\" class=\"data row3 col551\" >nan</td>\n",
       "                        <td id=\"T_179caabc_117e_11ea_b383_80000208fe80row3_col552\" class=\"data row3 col552\" >nan</td>\n",
       "                        <td id=\"T_179caabc_117e_11ea_b383_80000208fe80row3_col553\" class=\"data row3 col553\" >nan</td>\n",
       "                        <td id=\"T_179caabc_117e_11ea_b383_80000208fe80row3_col554\" class=\"data row3 col554\" >nan</td>\n",
       "                        <td id=\"T_179caabc_117e_11ea_b383_80000208fe80row3_col555\" class=\"data row3 col555\" >nan</td>\n",
       "                        <td id=\"T_179caabc_117e_11ea_b383_80000208fe80row3_col556\" class=\"data row3 col556\" >nan</td>\n",
       "                        <td id=\"T_179caabc_117e_11ea_b383_80000208fe80row3_col557\" class=\"data row3 col557\" >nan</td>\n",
       "                        <td id=\"T_179caabc_117e_11ea_b383_80000208fe80row3_col558\" class=\"data row3 col558\" >nan</td>\n",
       "                        <td id=\"T_179caabc_117e_11ea_b383_80000208fe80row3_col559\" class=\"data row3 col559\" >nan</td>\n",
       "                        <td id=\"T_179caabc_117e_11ea_b383_80000208fe80row3_col560\" class=\"data row3 col560\" >nan</td>\n",
       "                        <td id=\"T_179caabc_117e_11ea_b383_80000208fe80row3_col561\" class=\"data row3 col561\" >nan</td>\n",
       "                        <td id=\"T_179caabc_117e_11ea_b383_80000208fe80row3_col562\" class=\"data row3 col562\" >nan</td>\n",
       "                        <td id=\"T_179caabc_117e_11ea_b383_80000208fe80row3_col563\" class=\"data row3 col563\" >nan</td>\n",
       "                        <td id=\"T_179caabc_117e_11ea_b383_80000208fe80row3_col564\" class=\"data row3 col564\" >nan</td>\n",
       "                        <td id=\"T_179caabc_117e_11ea_b383_80000208fe80row3_col565\" class=\"data row3 col565\" >nan</td>\n",
       "                        <td id=\"T_179caabc_117e_11ea_b383_80000208fe80row3_col566\" class=\"data row3 col566\" >nan</td>\n",
       "                        <td id=\"T_179caabc_117e_11ea_b383_80000208fe80row3_col567\" class=\"data row3 col567\" >nan</td>\n",
       "            </tr>\n",
       "            <tr>\n",
       "                                <td id=\"T_179caabc_117e_11ea_b383_80000208fe80row4_col0\" class=\"data row4 col0\" >12.8</td>\n",
       "                        <td id=\"T_179caabc_117e_11ea_b383_80000208fe80row4_col1\" class=\"data row4 col1\" >DeepLearning_grid_1_AutoML_20191127_134504_model_32</td>\n",
       "                        <td id=\"T_179caabc_117e_11ea_b383_80000208fe80row4_col2\" class=\"data row4 col2\" >nan</td>\n",
       "                        <td id=\"T_179caabc_117e_11ea_b383_80000208fe80row4_col3\" class=\"data row4 col3\" >nan</td>\n",
       "                        <td id=\"T_179caabc_117e_11ea_b383_80000208fe80row4_col4\" class=\"data row4 col4\" >nan</td>\n",
       "                        <td id=\"T_179caabc_117e_11ea_b383_80000208fe80row4_col5\" class=\"data row4 col5\" >nan</td>\n",
       "                        <td id=\"T_179caabc_117e_11ea_b383_80000208fe80row4_col6\" class=\"data row4 col6\" >nan</td>\n",
       "                        <td id=\"T_179caabc_117e_11ea_b383_80000208fe80row4_col7\" class=\"data row4 col7\" >nan</td>\n",
       "                        <td id=\"T_179caabc_117e_11ea_b383_80000208fe80row4_col8\" class=\"data row4 col8\" >nan</td>\n",
       "                        <td id=\"T_179caabc_117e_11ea_b383_80000208fe80row4_col9\" class=\"data row4 col9\" >nan</td>\n",
       "                        <td id=\"T_179caabc_117e_11ea_b383_80000208fe80row4_col10\" class=\"data row4 col10\" >nan</td>\n",
       "                        <td id=\"T_179caabc_117e_11ea_b383_80000208fe80row4_col11\" class=\"data row4 col11\" >nan</td>\n",
       "                        <td id=\"T_179caabc_117e_11ea_b383_80000208fe80row4_col12\" class=\"data row4 col12\" >nan</td>\n",
       "                        <td id=\"T_179caabc_117e_11ea_b383_80000208fe80row4_col13\" class=\"data row4 col13\" >nan</td>\n",
       "                        <td id=\"T_179caabc_117e_11ea_b383_80000208fe80row4_col14\" class=\"data row4 col14\" >nan</td>\n",
       "                        <td id=\"T_179caabc_117e_11ea_b383_80000208fe80row4_col15\" class=\"data row4 col15\" >nan</td>\n",
       "                        <td id=\"T_179caabc_117e_11ea_b383_80000208fe80row4_col16\" class=\"data row4 col16\" >nan</td>\n",
       "                        <td id=\"T_179caabc_117e_11ea_b383_80000208fe80row4_col17\" class=\"data row4 col17\" >nan</td>\n",
       "                        <td id=\"T_179caabc_117e_11ea_b383_80000208fe80row4_col18\" class=\"data row4 col18\" >nan</td>\n",
       "                        <td id=\"T_179caabc_117e_11ea_b383_80000208fe80row4_col19\" class=\"data row4 col19\" >nan</td>\n",
       "                        <td id=\"T_179caabc_117e_11ea_b383_80000208fe80row4_col20\" class=\"data row4 col20\" >nan</td>\n",
       "                        <td id=\"T_179caabc_117e_11ea_b383_80000208fe80row4_col21\" class=\"data row4 col21\" >nan</td>\n",
       "                        <td id=\"T_179caabc_117e_11ea_b383_80000208fe80row4_col22\" class=\"data row4 col22\" >nan</td>\n",
       "                        <td id=\"T_179caabc_117e_11ea_b383_80000208fe80row4_col23\" class=\"data row4 col23\" >nan</td>\n",
       "                        <td id=\"T_179caabc_117e_11ea_b383_80000208fe80row4_col24\" class=\"data row4 col24\" >nan</td>\n",
       "                        <td id=\"T_179caabc_117e_11ea_b383_80000208fe80row4_col25\" class=\"data row4 col25\" >nan</td>\n",
       "                        <td id=\"T_179caabc_117e_11ea_b383_80000208fe80row4_col26\" class=\"data row4 col26\" >nan</td>\n",
       "                        <td id=\"T_179caabc_117e_11ea_b383_80000208fe80row4_col27\" class=\"data row4 col27\" >nan</td>\n",
       "                        <td id=\"T_179caabc_117e_11ea_b383_80000208fe80row4_col28\" class=\"data row4 col28\" >nan</td>\n",
       "                        <td id=\"T_179caabc_117e_11ea_b383_80000208fe80row4_col29\" class=\"data row4 col29\" >nan</td>\n",
       "                        <td id=\"T_179caabc_117e_11ea_b383_80000208fe80row4_col30\" class=\"data row4 col30\" >nan</td>\n",
       "                        <td id=\"T_179caabc_117e_11ea_b383_80000208fe80row4_col31\" class=\"data row4 col31\" >nan</td>\n",
       "                        <td id=\"T_179caabc_117e_11ea_b383_80000208fe80row4_col32\" class=\"data row4 col32\" >nan</td>\n",
       "                        <td id=\"T_179caabc_117e_11ea_b383_80000208fe80row4_col33\" class=\"data row4 col33\" >nan</td>\n",
       "                        <td id=\"T_179caabc_117e_11ea_b383_80000208fe80row4_col34\" class=\"data row4 col34\" >nan</td>\n",
       "                        <td id=\"T_179caabc_117e_11ea_b383_80000208fe80row4_col35\" class=\"data row4 col35\" >nan</td>\n",
       "                        <td id=\"T_179caabc_117e_11ea_b383_80000208fe80row4_col36\" class=\"data row4 col36\" >nan</td>\n",
       "                        <td id=\"T_179caabc_117e_11ea_b383_80000208fe80row4_col37\" class=\"data row4 col37\" >nan</td>\n",
       "                        <td id=\"T_179caabc_117e_11ea_b383_80000208fe80row4_col38\" class=\"data row4 col38\" >nan</td>\n",
       "                        <td id=\"T_179caabc_117e_11ea_b383_80000208fe80row4_col39\" class=\"data row4 col39\" >nan</td>\n",
       "                        <td id=\"T_179caabc_117e_11ea_b383_80000208fe80row4_col40\" class=\"data row4 col40\" >nan</td>\n",
       "                        <td id=\"T_179caabc_117e_11ea_b383_80000208fe80row4_col41\" class=\"data row4 col41\" >nan</td>\n",
       "                        <td id=\"T_179caabc_117e_11ea_b383_80000208fe80row4_col42\" class=\"data row4 col42\" >nan</td>\n",
       "                        <td id=\"T_179caabc_117e_11ea_b383_80000208fe80row4_col43\" class=\"data row4 col43\" >nan</td>\n",
       "                        <td id=\"T_179caabc_117e_11ea_b383_80000208fe80row4_col44\" class=\"data row4 col44\" >nan</td>\n",
       "                        <td id=\"T_179caabc_117e_11ea_b383_80000208fe80row4_col45\" class=\"data row4 col45\" >nan</td>\n",
       "                        <td id=\"T_179caabc_117e_11ea_b383_80000208fe80row4_col46\" class=\"data row4 col46\" >nan</td>\n",
       "                        <td id=\"T_179caabc_117e_11ea_b383_80000208fe80row4_col47\" class=\"data row4 col47\" >nan</td>\n",
       "                        <td id=\"T_179caabc_117e_11ea_b383_80000208fe80row4_col48\" class=\"data row4 col48\" >nan</td>\n",
       "                        <td id=\"T_179caabc_117e_11ea_b383_80000208fe80row4_col49\" class=\"data row4 col49\" >nan</td>\n",
       "                        <td id=\"T_179caabc_117e_11ea_b383_80000208fe80row4_col50\" class=\"data row4 col50\" >nan</td>\n",
       "                        <td id=\"T_179caabc_117e_11ea_b383_80000208fe80row4_col51\" class=\"data row4 col51\" >nan</td>\n",
       "                        <td id=\"T_179caabc_117e_11ea_b383_80000208fe80row4_col52\" class=\"data row4 col52\" >nan</td>\n",
       "                        <td id=\"T_179caabc_117e_11ea_b383_80000208fe80row4_col53\" class=\"data row4 col53\" >nan</td>\n",
       "                        <td id=\"T_179caabc_117e_11ea_b383_80000208fe80row4_col54\" class=\"data row4 col54\" >nan</td>\n",
       "                        <td id=\"T_179caabc_117e_11ea_b383_80000208fe80row4_col55\" class=\"data row4 col55\" >nan</td>\n",
       "                        <td id=\"T_179caabc_117e_11ea_b383_80000208fe80row4_col56\" class=\"data row4 col56\" >nan</td>\n",
       "                        <td id=\"T_179caabc_117e_11ea_b383_80000208fe80row4_col57\" class=\"data row4 col57\" >nan</td>\n",
       "                        <td id=\"T_179caabc_117e_11ea_b383_80000208fe80row4_col58\" class=\"data row4 col58\" >nan</td>\n",
       "                        <td id=\"T_179caabc_117e_11ea_b383_80000208fe80row4_col59\" class=\"data row4 col59\" >nan</td>\n",
       "                        <td id=\"T_179caabc_117e_11ea_b383_80000208fe80row4_col60\" class=\"data row4 col60\" >nan</td>\n",
       "                        <td id=\"T_179caabc_117e_11ea_b383_80000208fe80row4_col61\" class=\"data row4 col61\" >nan</td>\n",
       "                        <td id=\"T_179caabc_117e_11ea_b383_80000208fe80row4_col62\" class=\"data row4 col62\" >nan</td>\n",
       "                        <td id=\"T_179caabc_117e_11ea_b383_80000208fe80row4_col63\" class=\"data row4 col63\" >nan</td>\n",
       "                        <td id=\"T_179caabc_117e_11ea_b383_80000208fe80row4_col64\" class=\"data row4 col64\" >nan</td>\n",
       "                        <td id=\"T_179caabc_117e_11ea_b383_80000208fe80row4_col65\" class=\"data row4 col65\" >nan</td>\n",
       "                        <td id=\"T_179caabc_117e_11ea_b383_80000208fe80row4_col66\" class=\"data row4 col66\" >nan</td>\n",
       "                        <td id=\"T_179caabc_117e_11ea_b383_80000208fe80row4_col67\" class=\"data row4 col67\" >nan</td>\n",
       "                        <td id=\"T_179caabc_117e_11ea_b383_80000208fe80row4_col68\" class=\"data row4 col68\" >nan</td>\n",
       "                        <td id=\"T_179caabc_117e_11ea_b383_80000208fe80row4_col69\" class=\"data row4 col69\" >nan</td>\n",
       "                        <td id=\"T_179caabc_117e_11ea_b383_80000208fe80row4_col70\" class=\"data row4 col70\" >nan</td>\n",
       "                        <td id=\"T_179caabc_117e_11ea_b383_80000208fe80row4_col71\" class=\"data row4 col71\" >nan</td>\n",
       "                        <td id=\"T_179caabc_117e_11ea_b383_80000208fe80row4_col72\" class=\"data row4 col72\" >nan</td>\n",
       "                        <td id=\"T_179caabc_117e_11ea_b383_80000208fe80row4_col73\" class=\"data row4 col73\" >nan</td>\n",
       "                        <td id=\"T_179caabc_117e_11ea_b383_80000208fe80row4_col74\" class=\"data row4 col74\" >nan</td>\n",
       "                        <td id=\"T_179caabc_117e_11ea_b383_80000208fe80row4_col75\" class=\"data row4 col75\" >nan</td>\n",
       "                        <td id=\"T_179caabc_117e_11ea_b383_80000208fe80row4_col76\" class=\"data row4 col76\" >nan</td>\n",
       "                        <td id=\"T_179caabc_117e_11ea_b383_80000208fe80row4_col77\" class=\"data row4 col77\" >nan</td>\n",
       "                        <td id=\"T_179caabc_117e_11ea_b383_80000208fe80row4_col78\" class=\"data row4 col78\" >nan</td>\n",
       "                        <td id=\"T_179caabc_117e_11ea_b383_80000208fe80row4_col79\" class=\"data row4 col79\" >nan</td>\n",
       "                        <td id=\"T_179caabc_117e_11ea_b383_80000208fe80row4_col80\" class=\"data row4 col80\" >nan</td>\n",
       "                        <td id=\"T_179caabc_117e_11ea_b383_80000208fe80row4_col81\" class=\"data row4 col81\" >nan</td>\n",
       "                        <td id=\"T_179caabc_117e_11ea_b383_80000208fe80row4_col82\" class=\"data row4 col82\" >nan</td>\n",
       "                        <td id=\"T_179caabc_117e_11ea_b383_80000208fe80row4_col83\" class=\"data row4 col83\" >nan</td>\n",
       "                        <td id=\"T_179caabc_117e_11ea_b383_80000208fe80row4_col84\" class=\"data row4 col84\" >nan</td>\n",
       "                        <td id=\"T_179caabc_117e_11ea_b383_80000208fe80row4_col85\" class=\"data row4 col85\" >nan</td>\n",
       "                        <td id=\"T_179caabc_117e_11ea_b383_80000208fe80row4_col86\" class=\"data row4 col86\" >nan</td>\n",
       "                        <td id=\"T_179caabc_117e_11ea_b383_80000208fe80row4_col87\" class=\"data row4 col87\" >nan</td>\n",
       "                        <td id=\"T_179caabc_117e_11ea_b383_80000208fe80row4_col88\" class=\"data row4 col88\" >nan</td>\n",
       "                        <td id=\"T_179caabc_117e_11ea_b383_80000208fe80row4_col89\" class=\"data row4 col89\" >nan</td>\n",
       "                        <td id=\"T_179caabc_117e_11ea_b383_80000208fe80row4_col90\" class=\"data row4 col90\" >nan</td>\n",
       "                        <td id=\"T_179caabc_117e_11ea_b383_80000208fe80row4_col91\" class=\"data row4 col91\" >nan</td>\n",
       "                        <td id=\"T_179caabc_117e_11ea_b383_80000208fe80row4_col92\" class=\"data row4 col92\" >nan</td>\n",
       "                        <td id=\"T_179caabc_117e_11ea_b383_80000208fe80row4_col93\" class=\"data row4 col93\" >nan</td>\n",
       "                        <td id=\"T_179caabc_117e_11ea_b383_80000208fe80row4_col94\" class=\"data row4 col94\" >nan</td>\n",
       "                        <td id=\"T_179caabc_117e_11ea_b383_80000208fe80row4_col95\" class=\"data row4 col95\" >nan</td>\n",
       "                        <td id=\"T_179caabc_117e_11ea_b383_80000208fe80row4_col96\" class=\"data row4 col96\" >nan</td>\n",
       "                        <td id=\"T_179caabc_117e_11ea_b383_80000208fe80row4_col97\" class=\"data row4 col97\" >nan</td>\n",
       "                        <td id=\"T_179caabc_117e_11ea_b383_80000208fe80row4_col98\" class=\"data row4 col98\" >nan</td>\n",
       "                        <td id=\"T_179caabc_117e_11ea_b383_80000208fe80row4_col99\" class=\"data row4 col99\" >nan</td>\n",
       "                        <td id=\"T_179caabc_117e_11ea_b383_80000208fe80row4_col100\" class=\"data row4 col100\" >nan</td>\n",
       "                        <td id=\"T_179caabc_117e_11ea_b383_80000208fe80row4_col101\" class=\"data row4 col101\" >nan</td>\n",
       "                        <td id=\"T_179caabc_117e_11ea_b383_80000208fe80row4_col102\" class=\"data row4 col102\" >nan</td>\n",
       "                        <td id=\"T_179caabc_117e_11ea_b383_80000208fe80row4_col103\" class=\"data row4 col103\" >nan</td>\n",
       "                        <td id=\"T_179caabc_117e_11ea_b383_80000208fe80row4_col104\" class=\"data row4 col104\" >nan</td>\n",
       "                        <td id=\"T_179caabc_117e_11ea_b383_80000208fe80row4_col105\" class=\"data row4 col105\" >nan</td>\n",
       "                        <td id=\"T_179caabc_117e_11ea_b383_80000208fe80row4_col106\" class=\"data row4 col106\" >nan</td>\n",
       "                        <td id=\"T_179caabc_117e_11ea_b383_80000208fe80row4_col107\" class=\"data row4 col107\" >nan</td>\n",
       "                        <td id=\"T_179caabc_117e_11ea_b383_80000208fe80row4_col108\" class=\"data row4 col108\" >nan</td>\n",
       "                        <td id=\"T_179caabc_117e_11ea_b383_80000208fe80row4_col109\" class=\"data row4 col109\" >nan</td>\n",
       "                        <td id=\"T_179caabc_117e_11ea_b383_80000208fe80row4_col110\" class=\"data row4 col110\" >nan</td>\n",
       "                        <td id=\"T_179caabc_117e_11ea_b383_80000208fe80row4_col111\" class=\"data row4 col111\" >nan</td>\n",
       "                        <td id=\"T_179caabc_117e_11ea_b383_80000208fe80row4_col112\" class=\"data row4 col112\" >nan</td>\n",
       "                        <td id=\"T_179caabc_117e_11ea_b383_80000208fe80row4_col113\" class=\"data row4 col113\" >nan</td>\n",
       "                        <td id=\"T_179caabc_117e_11ea_b383_80000208fe80row4_col114\" class=\"data row4 col114\" >nan</td>\n",
       "                        <td id=\"T_179caabc_117e_11ea_b383_80000208fe80row4_col115\" class=\"data row4 col115\" >nan</td>\n",
       "                        <td id=\"T_179caabc_117e_11ea_b383_80000208fe80row4_col116\" class=\"data row4 col116\" >nan</td>\n",
       "                        <td id=\"T_179caabc_117e_11ea_b383_80000208fe80row4_col117\" class=\"data row4 col117\" >nan</td>\n",
       "                        <td id=\"T_179caabc_117e_11ea_b383_80000208fe80row4_col118\" class=\"data row4 col118\" >nan</td>\n",
       "                        <td id=\"T_179caabc_117e_11ea_b383_80000208fe80row4_col119\" class=\"data row4 col119\" >nan</td>\n",
       "                        <td id=\"T_179caabc_117e_11ea_b383_80000208fe80row4_col120\" class=\"data row4 col120\" >nan</td>\n",
       "                        <td id=\"T_179caabc_117e_11ea_b383_80000208fe80row4_col121\" class=\"data row4 col121\" >nan</td>\n",
       "                        <td id=\"T_179caabc_117e_11ea_b383_80000208fe80row4_col122\" class=\"data row4 col122\" >nan</td>\n",
       "                        <td id=\"T_179caabc_117e_11ea_b383_80000208fe80row4_col123\" class=\"data row4 col123\" >nan</td>\n",
       "                        <td id=\"T_179caabc_117e_11ea_b383_80000208fe80row4_col124\" class=\"data row4 col124\" >nan</td>\n",
       "                        <td id=\"T_179caabc_117e_11ea_b383_80000208fe80row4_col125\" class=\"data row4 col125\" >nan</td>\n",
       "                        <td id=\"T_179caabc_117e_11ea_b383_80000208fe80row4_col126\" class=\"data row4 col126\" >nan</td>\n",
       "                        <td id=\"T_179caabc_117e_11ea_b383_80000208fe80row4_col127\" class=\"data row4 col127\" >nan</td>\n",
       "                        <td id=\"T_179caabc_117e_11ea_b383_80000208fe80row4_col128\" class=\"data row4 col128\" >nan</td>\n",
       "                        <td id=\"T_179caabc_117e_11ea_b383_80000208fe80row4_col129\" class=\"data row4 col129\" >nan</td>\n",
       "                        <td id=\"T_179caabc_117e_11ea_b383_80000208fe80row4_col130\" class=\"data row4 col130\" >nan</td>\n",
       "                        <td id=\"T_179caabc_117e_11ea_b383_80000208fe80row4_col131\" class=\"data row4 col131\" >nan</td>\n",
       "                        <td id=\"T_179caabc_117e_11ea_b383_80000208fe80row4_col132\" class=\"data row4 col132\" >nan</td>\n",
       "                        <td id=\"T_179caabc_117e_11ea_b383_80000208fe80row4_col133\" class=\"data row4 col133\" >nan</td>\n",
       "                        <td id=\"T_179caabc_117e_11ea_b383_80000208fe80row4_col134\" class=\"data row4 col134\" >nan</td>\n",
       "                        <td id=\"T_179caabc_117e_11ea_b383_80000208fe80row4_col135\" class=\"data row4 col135\" >nan</td>\n",
       "                        <td id=\"T_179caabc_117e_11ea_b383_80000208fe80row4_col136\" class=\"data row4 col136\" >nan</td>\n",
       "                        <td id=\"T_179caabc_117e_11ea_b383_80000208fe80row4_col137\" class=\"data row4 col137\" >nan</td>\n",
       "                        <td id=\"T_179caabc_117e_11ea_b383_80000208fe80row4_col138\" class=\"data row4 col138\" >nan</td>\n",
       "                        <td id=\"T_179caabc_117e_11ea_b383_80000208fe80row4_col139\" class=\"data row4 col139\" >nan</td>\n",
       "                        <td id=\"T_179caabc_117e_11ea_b383_80000208fe80row4_col140\" class=\"data row4 col140\" >nan</td>\n",
       "                        <td id=\"T_179caabc_117e_11ea_b383_80000208fe80row4_col141\" class=\"data row4 col141\" >nan</td>\n",
       "                        <td id=\"T_179caabc_117e_11ea_b383_80000208fe80row4_col142\" class=\"data row4 col142\" >nan</td>\n",
       "                        <td id=\"T_179caabc_117e_11ea_b383_80000208fe80row4_col143\" class=\"data row4 col143\" >nan</td>\n",
       "                        <td id=\"T_179caabc_117e_11ea_b383_80000208fe80row4_col144\" class=\"data row4 col144\" >nan</td>\n",
       "                        <td id=\"T_179caabc_117e_11ea_b383_80000208fe80row4_col145\" class=\"data row4 col145\" >nan</td>\n",
       "                        <td id=\"T_179caabc_117e_11ea_b383_80000208fe80row4_col146\" class=\"data row4 col146\" >nan</td>\n",
       "                        <td id=\"T_179caabc_117e_11ea_b383_80000208fe80row4_col147\" class=\"data row4 col147\" >nan</td>\n",
       "                        <td id=\"T_179caabc_117e_11ea_b383_80000208fe80row4_col148\" class=\"data row4 col148\" >nan</td>\n",
       "                        <td id=\"T_179caabc_117e_11ea_b383_80000208fe80row4_col149\" class=\"data row4 col149\" >nan</td>\n",
       "                        <td id=\"T_179caabc_117e_11ea_b383_80000208fe80row4_col150\" class=\"data row4 col150\" >nan</td>\n",
       "                        <td id=\"T_179caabc_117e_11ea_b383_80000208fe80row4_col151\" class=\"data row4 col151\" >nan</td>\n",
       "                        <td id=\"T_179caabc_117e_11ea_b383_80000208fe80row4_col152\" class=\"data row4 col152\" >nan</td>\n",
       "                        <td id=\"T_179caabc_117e_11ea_b383_80000208fe80row4_col153\" class=\"data row4 col153\" >nan</td>\n",
       "                        <td id=\"T_179caabc_117e_11ea_b383_80000208fe80row4_col154\" class=\"data row4 col154\" >nan</td>\n",
       "                        <td id=\"T_179caabc_117e_11ea_b383_80000208fe80row4_col155\" class=\"data row4 col155\" >nan</td>\n",
       "                        <td id=\"T_179caabc_117e_11ea_b383_80000208fe80row4_col156\" class=\"data row4 col156\" >nan</td>\n",
       "                        <td id=\"T_179caabc_117e_11ea_b383_80000208fe80row4_col157\" class=\"data row4 col157\" >nan</td>\n",
       "                        <td id=\"T_179caabc_117e_11ea_b383_80000208fe80row4_col158\" class=\"data row4 col158\" >nan</td>\n",
       "                        <td id=\"T_179caabc_117e_11ea_b383_80000208fe80row4_col159\" class=\"data row4 col159\" >nan</td>\n",
       "                        <td id=\"T_179caabc_117e_11ea_b383_80000208fe80row4_col160\" class=\"data row4 col160\" >nan</td>\n",
       "                        <td id=\"T_179caabc_117e_11ea_b383_80000208fe80row4_col161\" class=\"data row4 col161\" >nan</td>\n",
       "                        <td id=\"T_179caabc_117e_11ea_b383_80000208fe80row4_col162\" class=\"data row4 col162\" >nan</td>\n",
       "                        <td id=\"T_179caabc_117e_11ea_b383_80000208fe80row4_col163\" class=\"data row4 col163\" >nan</td>\n",
       "                        <td id=\"T_179caabc_117e_11ea_b383_80000208fe80row4_col164\" class=\"data row4 col164\" >nan</td>\n",
       "                        <td id=\"T_179caabc_117e_11ea_b383_80000208fe80row4_col165\" class=\"data row4 col165\" >nan</td>\n",
       "                        <td id=\"T_179caabc_117e_11ea_b383_80000208fe80row4_col166\" class=\"data row4 col166\" >nan</td>\n",
       "                        <td id=\"T_179caabc_117e_11ea_b383_80000208fe80row4_col167\" class=\"data row4 col167\" >nan</td>\n",
       "                        <td id=\"T_179caabc_117e_11ea_b383_80000208fe80row4_col168\" class=\"data row4 col168\" >nan</td>\n",
       "                        <td id=\"T_179caabc_117e_11ea_b383_80000208fe80row4_col169\" class=\"data row4 col169\" >nan</td>\n",
       "                        <td id=\"T_179caabc_117e_11ea_b383_80000208fe80row4_col170\" class=\"data row4 col170\" >nan</td>\n",
       "                        <td id=\"T_179caabc_117e_11ea_b383_80000208fe80row4_col171\" class=\"data row4 col171\" >nan</td>\n",
       "                        <td id=\"T_179caabc_117e_11ea_b383_80000208fe80row4_col172\" class=\"data row4 col172\" >nan</td>\n",
       "                        <td id=\"T_179caabc_117e_11ea_b383_80000208fe80row4_col173\" class=\"data row4 col173\" >nan</td>\n",
       "                        <td id=\"T_179caabc_117e_11ea_b383_80000208fe80row4_col174\" class=\"data row4 col174\" >nan</td>\n",
       "                        <td id=\"T_179caabc_117e_11ea_b383_80000208fe80row4_col175\" class=\"data row4 col175\" >nan</td>\n",
       "                        <td id=\"T_179caabc_117e_11ea_b383_80000208fe80row4_col176\" class=\"data row4 col176\" >nan</td>\n",
       "                        <td id=\"T_179caabc_117e_11ea_b383_80000208fe80row4_col177\" class=\"data row4 col177\" >nan</td>\n",
       "                        <td id=\"T_179caabc_117e_11ea_b383_80000208fe80row4_col178\" class=\"data row4 col178\" >nan</td>\n",
       "                        <td id=\"T_179caabc_117e_11ea_b383_80000208fe80row4_col179\" class=\"data row4 col179\" >nan</td>\n",
       "                        <td id=\"T_179caabc_117e_11ea_b383_80000208fe80row4_col180\" class=\"data row4 col180\" >nan</td>\n",
       "                        <td id=\"T_179caabc_117e_11ea_b383_80000208fe80row4_col181\" class=\"data row4 col181\" >nan</td>\n",
       "                        <td id=\"T_179caabc_117e_11ea_b383_80000208fe80row4_col182\" class=\"data row4 col182\" >nan</td>\n",
       "                        <td id=\"T_179caabc_117e_11ea_b383_80000208fe80row4_col183\" class=\"data row4 col183\" >nan</td>\n",
       "                        <td id=\"T_179caabc_117e_11ea_b383_80000208fe80row4_col184\" class=\"data row4 col184\" >nan</td>\n",
       "                        <td id=\"T_179caabc_117e_11ea_b383_80000208fe80row4_col185\" class=\"data row4 col185\" >nan</td>\n",
       "                        <td id=\"T_179caabc_117e_11ea_b383_80000208fe80row4_col186\" class=\"data row4 col186\" >nan</td>\n",
       "                        <td id=\"T_179caabc_117e_11ea_b383_80000208fe80row4_col187\" class=\"data row4 col187\" >nan</td>\n",
       "                        <td id=\"T_179caabc_117e_11ea_b383_80000208fe80row4_col188\" class=\"data row4 col188\" >nan</td>\n",
       "                        <td id=\"T_179caabc_117e_11ea_b383_80000208fe80row4_col189\" class=\"data row4 col189\" >nan</td>\n",
       "                        <td id=\"T_179caabc_117e_11ea_b383_80000208fe80row4_col190\" class=\"data row4 col190\" >nan</td>\n",
       "                        <td id=\"T_179caabc_117e_11ea_b383_80000208fe80row4_col191\" class=\"data row4 col191\" >nan</td>\n",
       "                        <td id=\"T_179caabc_117e_11ea_b383_80000208fe80row4_col192\" class=\"data row4 col192\" >nan</td>\n",
       "                        <td id=\"T_179caabc_117e_11ea_b383_80000208fe80row4_col193\" class=\"data row4 col193\" >nan</td>\n",
       "                        <td id=\"T_179caabc_117e_11ea_b383_80000208fe80row4_col194\" class=\"data row4 col194\" >nan</td>\n",
       "                        <td id=\"T_179caabc_117e_11ea_b383_80000208fe80row4_col195\" class=\"data row4 col195\" >nan</td>\n",
       "                        <td id=\"T_179caabc_117e_11ea_b383_80000208fe80row4_col196\" class=\"data row4 col196\" >nan</td>\n",
       "                        <td id=\"T_179caabc_117e_11ea_b383_80000208fe80row4_col197\" class=\"data row4 col197\" >nan</td>\n",
       "                        <td id=\"T_179caabc_117e_11ea_b383_80000208fe80row4_col198\" class=\"data row4 col198\" >nan</td>\n",
       "                        <td id=\"T_179caabc_117e_11ea_b383_80000208fe80row4_col199\" class=\"data row4 col199\" >nan</td>\n",
       "                        <td id=\"T_179caabc_117e_11ea_b383_80000208fe80row4_col200\" class=\"data row4 col200\" >nan</td>\n",
       "                        <td id=\"T_179caabc_117e_11ea_b383_80000208fe80row4_col201\" class=\"data row4 col201\" >nan</td>\n",
       "                        <td id=\"T_179caabc_117e_11ea_b383_80000208fe80row4_col202\" class=\"data row4 col202\" >nan</td>\n",
       "                        <td id=\"T_179caabc_117e_11ea_b383_80000208fe80row4_col203\" class=\"data row4 col203\" >nan</td>\n",
       "                        <td id=\"T_179caabc_117e_11ea_b383_80000208fe80row4_col204\" class=\"data row4 col204\" >nan</td>\n",
       "                        <td id=\"T_179caabc_117e_11ea_b383_80000208fe80row4_col205\" class=\"data row4 col205\" >nan</td>\n",
       "                        <td id=\"T_179caabc_117e_11ea_b383_80000208fe80row4_col206\" class=\"data row4 col206\" >nan</td>\n",
       "                        <td id=\"T_179caabc_117e_11ea_b383_80000208fe80row4_col207\" class=\"data row4 col207\" >nan</td>\n",
       "                        <td id=\"T_179caabc_117e_11ea_b383_80000208fe80row4_col208\" class=\"data row4 col208\" >nan</td>\n",
       "                        <td id=\"T_179caabc_117e_11ea_b383_80000208fe80row4_col209\" class=\"data row4 col209\" >nan</td>\n",
       "                        <td id=\"T_179caabc_117e_11ea_b383_80000208fe80row4_col210\" class=\"data row4 col210\" >nan</td>\n",
       "                        <td id=\"T_179caabc_117e_11ea_b383_80000208fe80row4_col211\" class=\"data row4 col211\" >nan</td>\n",
       "                        <td id=\"T_179caabc_117e_11ea_b383_80000208fe80row4_col212\" class=\"data row4 col212\" >nan</td>\n",
       "                        <td id=\"T_179caabc_117e_11ea_b383_80000208fe80row4_col213\" class=\"data row4 col213\" >nan</td>\n",
       "                        <td id=\"T_179caabc_117e_11ea_b383_80000208fe80row4_col214\" class=\"data row4 col214\" >nan</td>\n",
       "                        <td id=\"T_179caabc_117e_11ea_b383_80000208fe80row4_col215\" class=\"data row4 col215\" >nan</td>\n",
       "                        <td id=\"T_179caabc_117e_11ea_b383_80000208fe80row4_col216\" class=\"data row4 col216\" >nan</td>\n",
       "                        <td id=\"T_179caabc_117e_11ea_b383_80000208fe80row4_col217\" class=\"data row4 col217\" >nan</td>\n",
       "                        <td id=\"T_179caabc_117e_11ea_b383_80000208fe80row4_col218\" class=\"data row4 col218\" >nan</td>\n",
       "                        <td id=\"T_179caabc_117e_11ea_b383_80000208fe80row4_col219\" class=\"data row4 col219\" >nan</td>\n",
       "                        <td id=\"T_179caabc_117e_11ea_b383_80000208fe80row4_col220\" class=\"data row4 col220\" >nan</td>\n",
       "                        <td id=\"T_179caabc_117e_11ea_b383_80000208fe80row4_col221\" class=\"data row4 col221\" >nan</td>\n",
       "                        <td id=\"T_179caabc_117e_11ea_b383_80000208fe80row4_col222\" class=\"data row4 col222\" >nan</td>\n",
       "                        <td id=\"T_179caabc_117e_11ea_b383_80000208fe80row4_col223\" class=\"data row4 col223\" >nan</td>\n",
       "                        <td id=\"T_179caabc_117e_11ea_b383_80000208fe80row4_col224\" class=\"data row4 col224\" >nan</td>\n",
       "                        <td id=\"T_179caabc_117e_11ea_b383_80000208fe80row4_col225\" class=\"data row4 col225\" >nan</td>\n",
       "                        <td id=\"T_179caabc_117e_11ea_b383_80000208fe80row4_col226\" class=\"data row4 col226\" >nan</td>\n",
       "                        <td id=\"T_179caabc_117e_11ea_b383_80000208fe80row4_col227\" class=\"data row4 col227\" >nan</td>\n",
       "                        <td id=\"T_179caabc_117e_11ea_b383_80000208fe80row4_col228\" class=\"data row4 col228\" >nan</td>\n",
       "                        <td id=\"T_179caabc_117e_11ea_b383_80000208fe80row4_col229\" class=\"data row4 col229\" >nan</td>\n",
       "                        <td id=\"T_179caabc_117e_11ea_b383_80000208fe80row4_col230\" class=\"data row4 col230\" >nan</td>\n",
       "                        <td id=\"T_179caabc_117e_11ea_b383_80000208fe80row4_col231\" class=\"data row4 col231\" >nan</td>\n",
       "                        <td id=\"T_179caabc_117e_11ea_b383_80000208fe80row4_col232\" class=\"data row4 col232\" >nan</td>\n",
       "                        <td id=\"T_179caabc_117e_11ea_b383_80000208fe80row4_col233\" class=\"data row4 col233\" >nan</td>\n",
       "                        <td id=\"T_179caabc_117e_11ea_b383_80000208fe80row4_col234\" class=\"data row4 col234\" >nan</td>\n",
       "                        <td id=\"T_179caabc_117e_11ea_b383_80000208fe80row4_col235\" class=\"data row4 col235\" >nan</td>\n",
       "                        <td id=\"T_179caabc_117e_11ea_b383_80000208fe80row4_col236\" class=\"data row4 col236\" >nan</td>\n",
       "                        <td id=\"T_179caabc_117e_11ea_b383_80000208fe80row4_col237\" class=\"data row4 col237\" >nan</td>\n",
       "                        <td id=\"T_179caabc_117e_11ea_b383_80000208fe80row4_col238\" class=\"data row4 col238\" >nan</td>\n",
       "                        <td id=\"T_179caabc_117e_11ea_b383_80000208fe80row4_col239\" class=\"data row4 col239\" >nan</td>\n",
       "                        <td id=\"T_179caabc_117e_11ea_b383_80000208fe80row4_col240\" class=\"data row4 col240\" >nan</td>\n",
       "                        <td id=\"T_179caabc_117e_11ea_b383_80000208fe80row4_col241\" class=\"data row4 col241\" >nan</td>\n",
       "                        <td id=\"T_179caabc_117e_11ea_b383_80000208fe80row4_col242\" class=\"data row4 col242\" >nan</td>\n",
       "                        <td id=\"T_179caabc_117e_11ea_b383_80000208fe80row4_col243\" class=\"data row4 col243\" >nan</td>\n",
       "                        <td id=\"T_179caabc_117e_11ea_b383_80000208fe80row4_col244\" class=\"data row4 col244\" >nan</td>\n",
       "                        <td id=\"T_179caabc_117e_11ea_b383_80000208fe80row4_col245\" class=\"data row4 col245\" >nan</td>\n",
       "                        <td id=\"T_179caabc_117e_11ea_b383_80000208fe80row4_col246\" class=\"data row4 col246\" >nan</td>\n",
       "                        <td id=\"T_179caabc_117e_11ea_b383_80000208fe80row4_col247\" class=\"data row4 col247\" >nan</td>\n",
       "                        <td id=\"T_179caabc_117e_11ea_b383_80000208fe80row4_col248\" class=\"data row4 col248\" >nan</td>\n",
       "                        <td id=\"T_179caabc_117e_11ea_b383_80000208fe80row4_col249\" class=\"data row4 col249\" >nan</td>\n",
       "                        <td id=\"T_179caabc_117e_11ea_b383_80000208fe80row4_col250\" class=\"data row4 col250\" >nan</td>\n",
       "                        <td id=\"T_179caabc_117e_11ea_b383_80000208fe80row4_col251\" class=\"data row4 col251\" >nan</td>\n",
       "                        <td id=\"T_179caabc_117e_11ea_b383_80000208fe80row4_col252\" class=\"data row4 col252\" >nan</td>\n",
       "                        <td id=\"T_179caabc_117e_11ea_b383_80000208fe80row4_col253\" class=\"data row4 col253\" >nan</td>\n",
       "                        <td id=\"T_179caabc_117e_11ea_b383_80000208fe80row4_col254\" class=\"data row4 col254\" >nan</td>\n",
       "                        <td id=\"T_179caabc_117e_11ea_b383_80000208fe80row4_col255\" class=\"data row4 col255\" >nan</td>\n",
       "                        <td id=\"T_179caabc_117e_11ea_b383_80000208fe80row4_col256\" class=\"data row4 col256\" >nan</td>\n",
       "                        <td id=\"T_179caabc_117e_11ea_b383_80000208fe80row4_col257\" class=\"data row4 col257\" >nan</td>\n",
       "                        <td id=\"T_179caabc_117e_11ea_b383_80000208fe80row4_col258\" class=\"data row4 col258\" >nan</td>\n",
       "                        <td id=\"T_179caabc_117e_11ea_b383_80000208fe80row4_col259\" class=\"data row4 col259\" >nan</td>\n",
       "                        <td id=\"T_179caabc_117e_11ea_b383_80000208fe80row4_col260\" class=\"data row4 col260\" >nan</td>\n",
       "                        <td id=\"T_179caabc_117e_11ea_b383_80000208fe80row4_col261\" class=\"data row4 col261\" >nan</td>\n",
       "                        <td id=\"T_179caabc_117e_11ea_b383_80000208fe80row4_col262\" class=\"data row4 col262\" >nan</td>\n",
       "                        <td id=\"T_179caabc_117e_11ea_b383_80000208fe80row4_col263\" class=\"data row4 col263\" >nan</td>\n",
       "                        <td id=\"T_179caabc_117e_11ea_b383_80000208fe80row4_col264\" class=\"data row4 col264\" >nan</td>\n",
       "                        <td id=\"T_179caabc_117e_11ea_b383_80000208fe80row4_col265\" class=\"data row4 col265\" >nan</td>\n",
       "                        <td id=\"T_179caabc_117e_11ea_b383_80000208fe80row4_col266\" class=\"data row4 col266\" >nan</td>\n",
       "                        <td id=\"T_179caabc_117e_11ea_b383_80000208fe80row4_col267\" class=\"data row4 col267\" >nan</td>\n",
       "                        <td id=\"T_179caabc_117e_11ea_b383_80000208fe80row4_col268\" class=\"data row4 col268\" >nan</td>\n",
       "                        <td id=\"T_179caabc_117e_11ea_b383_80000208fe80row4_col269\" class=\"data row4 col269\" >nan</td>\n",
       "                        <td id=\"T_179caabc_117e_11ea_b383_80000208fe80row4_col270\" class=\"data row4 col270\" >nan</td>\n",
       "                        <td id=\"T_179caabc_117e_11ea_b383_80000208fe80row4_col271\" class=\"data row4 col271\" >nan</td>\n",
       "                        <td id=\"T_179caabc_117e_11ea_b383_80000208fe80row4_col272\" class=\"data row4 col272\" >nan</td>\n",
       "                        <td id=\"T_179caabc_117e_11ea_b383_80000208fe80row4_col273\" class=\"data row4 col273\" >nan</td>\n",
       "                        <td id=\"T_179caabc_117e_11ea_b383_80000208fe80row4_col274\" class=\"data row4 col274\" >nan</td>\n",
       "                        <td id=\"T_179caabc_117e_11ea_b383_80000208fe80row4_col275\" class=\"data row4 col275\" >nan</td>\n",
       "                        <td id=\"T_179caabc_117e_11ea_b383_80000208fe80row4_col276\" class=\"data row4 col276\" >nan</td>\n",
       "                        <td id=\"T_179caabc_117e_11ea_b383_80000208fe80row4_col277\" class=\"data row4 col277\" >nan</td>\n",
       "                        <td id=\"T_179caabc_117e_11ea_b383_80000208fe80row4_col278\" class=\"data row4 col278\" >nan</td>\n",
       "                        <td id=\"T_179caabc_117e_11ea_b383_80000208fe80row4_col279\" class=\"data row4 col279\" >nan</td>\n",
       "                        <td id=\"T_179caabc_117e_11ea_b383_80000208fe80row4_col280\" class=\"data row4 col280\" >nan</td>\n",
       "                        <td id=\"T_179caabc_117e_11ea_b383_80000208fe80row4_col281\" class=\"data row4 col281\" >nan</td>\n",
       "                        <td id=\"T_179caabc_117e_11ea_b383_80000208fe80row4_col282\" class=\"data row4 col282\" >nan</td>\n",
       "                        <td id=\"T_179caabc_117e_11ea_b383_80000208fe80row4_col283\" class=\"data row4 col283\" >nan</td>\n",
       "                        <td id=\"T_179caabc_117e_11ea_b383_80000208fe80row4_col284\" class=\"data row4 col284\" >nan</td>\n",
       "                        <td id=\"T_179caabc_117e_11ea_b383_80000208fe80row4_col285\" class=\"data row4 col285\" >nan</td>\n",
       "                        <td id=\"T_179caabc_117e_11ea_b383_80000208fe80row4_col286\" class=\"data row4 col286\" >nan</td>\n",
       "                        <td id=\"T_179caabc_117e_11ea_b383_80000208fe80row4_col287\" class=\"data row4 col287\" >nan</td>\n",
       "                        <td id=\"T_179caabc_117e_11ea_b383_80000208fe80row4_col288\" class=\"data row4 col288\" >nan</td>\n",
       "                        <td id=\"T_179caabc_117e_11ea_b383_80000208fe80row4_col289\" class=\"data row4 col289\" >nan</td>\n",
       "                        <td id=\"T_179caabc_117e_11ea_b383_80000208fe80row4_col290\" class=\"data row4 col290\" >nan</td>\n",
       "                        <td id=\"T_179caabc_117e_11ea_b383_80000208fe80row4_col291\" class=\"data row4 col291\" >nan</td>\n",
       "                        <td id=\"T_179caabc_117e_11ea_b383_80000208fe80row4_col292\" class=\"data row4 col292\" >nan</td>\n",
       "                        <td id=\"T_179caabc_117e_11ea_b383_80000208fe80row4_col293\" class=\"data row4 col293\" >nan</td>\n",
       "                        <td id=\"T_179caabc_117e_11ea_b383_80000208fe80row4_col294\" class=\"data row4 col294\" >nan</td>\n",
       "                        <td id=\"T_179caabc_117e_11ea_b383_80000208fe80row4_col295\" class=\"data row4 col295\" >nan</td>\n",
       "                        <td id=\"T_179caabc_117e_11ea_b383_80000208fe80row4_col296\" class=\"data row4 col296\" >nan</td>\n",
       "                        <td id=\"T_179caabc_117e_11ea_b383_80000208fe80row4_col297\" class=\"data row4 col297\" >nan</td>\n",
       "                        <td id=\"T_179caabc_117e_11ea_b383_80000208fe80row4_col298\" class=\"data row4 col298\" >nan</td>\n",
       "                        <td id=\"T_179caabc_117e_11ea_b383_80000208fe80row4_col299\" class=\"data row4 col299\" >nan</td>\n",
       "                        <td id=\"T_179caabc_117e_11ea_b383_80000208fe80row4_col300\" class=\"data row4 col300\" >nan</td>\n",
       "                        <td id=\"T_179caabc_117e_11ea_b383_80000208fe80row4_col301\" class=\"data row4 col301\" >nan</td>\n",
       "                        <td id=\"T_179caabc_117e_11ea_b383_80000208fe80row4_col302\" class=\"data row4 col302\" >nan</td>\n",
       "                        <td id=\"T_179caabc_117e_11ea_b383_80000208fe80row4_col303\" class=\"data row4 col303\" >nan</td>\n",
       "                        <td id=\"T_179caabc_117e_11ea_b383_80000208fe80row4_col304\" class=\"data row4 col304\" >nan</td>\n",
       "                        <td id=\"T_179caabc_117e_11ea_b383_80000208fe80row4_col305\" class=\"data row4 col305\" >nan</td>\n",
       "                        <td id=\"T_179caabc_117e_11ea_b383_80000208fe80row4_col306\" class=\"data row4 col306\" >nan</td>\n",
       "                        <td id=\"T_179caabc_117e_11ea_b383_80000208fe80row4_col307\" class=\"data row4 col307\" >nan</td>\n",
       "                        <td id=\"T_179caabc_117e_11ea_b383_80000208fe80row4_col308\" class=\"data row4 col308\" >nan</td>\n",
       "                        <td id=\"T_179caabc_117e_11ea_b383_80000208fe80row4_col309\" class=\"data row4 col309\" >nan</td>\n",
       "                        <td id=\"T_179caabc_117e_11ea_b383_80000208fe80row4_col310\" class=\"data row4 col310\" >nan</td>\n",
       "                        <td id=\"T_179caabc_117e_11ea_b383_80000208fe80row4_col311\" class=\"data row4 col311\" >nan</td>\n",
       "                        <td id=\"T_179caabc_117e_11ea_b383_80000208fe80row4_col312\" class=\"data row4 col312\" >nan</td>\n",
       "                        <td id=\"T_179caabc_117e_11ea_b383_80000208fe80row4_col313\" class=\"data row4 col313\" >nan</td>\n",
       "                        <td id=\"T_179caabc_117e_11ea_b383_80000208fe80row4_col314\" class=\"data row4 col314\" >nan</td>\n",
       "                        <td id=\"T_179caabc_117e_11ea_b383_80000208fe80row4_col315\" class=\"data row4 col315\" >nan</td>\n",
       "                        <td id=\"T_179caabc_117e_11ea_b383_80000208fe80row4_col316\" class=\"data row4 col316\" >nan</td>\n",
       "                        <td id=\"T_179caabc_117e_11ea_b383_80000208fe80row4_col317\" class=\"data row4 col317\" >nan</td>\n",
       "                        <td id=\"T_179caabc_117e_11ea_b383_80000208fe80row4_col318\" class=\"data row4 col318\" >nan</td>\n",
       "                        <td id=\"T_179caabc_117e_11ea_b383_80000208fe80row4_col319\" class=\"data row4 col319\" >nan</td>\n",
       "                        <td id=\"T_179caabc_117e_11ea_b383_80000208fe80row4_col320\" class=\"data row4 col320\" >nan</td>\n",
       "                        <td id=\"T_179caabc_117e_11ea_b383_80000208fe80row4_col321\" class=\"data row4 col321\" >nan</td>\n",
       "                        <td id=\"T_179caabc_117e_11ea_b383_80000208fe80row4_col322\" class=\"data row4 col322\" >nan</td>\n",
       "                        <td id=\"T_179caabc_117e_11ea_b383_80000208fe80row4_col323\" class=\"data row4 col323\" >nan</td>\n",
       "                        <td id=\"T_179caabc_117e_11ea_b383_80000208fe80row4_col324\" class=\"data row4 col324\" >nan</td>\n",
       "                        <td id=\"T_179caabc_117e_11ea_b383_80000208fe80row4_col325\" class=\"data row4 col325\" >nan</td>\n",
       "                        <td id=\"T_179caabc_117e_11ea_b383_80000208fe80row4_col326\" class=\"data row4 col326\" >nan</td>\n",
       "                        <td id=\"T_179caabc_117e_11ea_b383_80000208fe80row4_col327\" class=\"data row4 col327\" >nan</td>\n",
       "                        <td id=\"T_179caabc_117e_11ea_b383_80000208fe80row4_col328\" class=\"data row4 col328\" >nan</td>\n",
       "                        <td id=\"T_179caabc_117e_11ea_b383_80000208fe80row4_col329\" class=\"data row4 col329\" >nan</td>\n",
       "                        <td id=\"T_179caabc_117e_11ea_b383_80000208fe80row4_col330\" class=\"data row4 col330\" >nan</td>\n",
       "                        <td id=\"T_179caabc_117e_11ea_b383_80000208fe80row4_col331\" class=\"data row4 col331\" >nan</td>\n",
       "                        <td id=\"T_179caabc_117e_11ea_b383_80000208fe80row4_col332\" class=\"data row4 col332\" >nan</td>\n",
       "                        <td id=\"T_179caabc_117e_11ea_b383_80000208fe80row4_col333\" class=\"data row4 col333\" >nan</td>\n",
       "                        <td id=\"T_179caabc_117e_11ea_b383_80000208fe80row4_col334\" class=\"data row4 col334\" >nan</td>\n",
       "                        <td id=\"T_179caabc_117e_11ea_b383_80000208fe80row4_col335\" class=\"data row4 col335\" >nan</td>\n",
       "                        <td id=\"T_179caabc_117e_11ea_b383_80000208fe80row4_col336\" class=\"data row4 col336\" >nan</td>\n",
       "                        <td id=\"T_179caabc_117e_11ea_b383_80000208fe80row4_col337\" class=\"data row4 col337\" >nan</td>\n",
       "                        <td id=\"T_179caabc_117e_11ea_b383_80000208fe80row4_col338\" class=\"data row4 col338\" >nan</td>\n",
       "                        <td id=\"T_179caabc_117e_11ea_b383_80000208fe80row4_col339\" class=\"data row4 col339\" >nan</td>\n",
       "                        <td id=\"T_179caabc_117e_11ea_b383_80000208fe80row4_col340\" class=\"data row4 col340\" >nan</td>\n",
       "                        <td id=\"T_179caabc_117e_11ea_b383_80000208fe80row4_col341\" class=\"data row4 col341\" >nan</td>\n",
       "                        <td id=\"T_179caabc_117e_11ea_b383_80000208fe80row4_col342\" class=\"data row4 col342\" >nan</td>\n",
       "                        <td id=\"T_179caabc_117e_11ea_b383_80000208fe80row4_col343\" class=\"data row4 col343\" >nan</td>\n",
       "                        <td id=\"T_179caabc_117e_11ea_b383_80000208fe80row4_col344\" class=\"data row4 col344\" >nan</td>\n",
       "                        <td id=\"T_179caabc_117e_11ea_b383_80000208fe80row4_col345\" class=\"data row4 col345\" >nan</td>\n",
       "                        <td id=\"T_179caabc_117e_11ea_b383_80000208fe80row4_col346\" class=\"data row4 col346\" >nan</td>\n",
       "                        <td id=\"T_179caabc_117e_11ea_b383_80000208fe80row4_col347\" class=\"data row4 col347\" >nan</td>\n",
       "                        <td id=\"T_179caabc_117e_11ea_b383_80000208fe80row4_col348\" class=\"data row4 col348\" >nan</td>\n",
       "                        <td id=\"T_179caabc_117e_11ea_b383_80000208fe80row4_col349\" class=\"data row4 col349\" >nan</td>\n",
       "                        <td id=\"T_179caabc_117e_11ea_b383_80000208fe80row4_col350\" class=\"data row4 col350\" >nan</td>\n",
       "                        <td id=\"T_179caabc_117e_11ea_b383_80000208fe80row4_col351\" class=\"data row4 col351\" >nan</td>\n",
       "                        <td id=\"T_179caabc_117e_11ea_b383_80000208fe80row4_col352\" class=\"data row4 col352\" >nan</td>\n",
       "                        <td id=\"T_179caabc_117e_11ea_b383_80000208fe80row4_col353\" class=\"data row4 col353\" >nan</td>\n",
       "                        <td id=\"T_179caabc_117e_11ea_b383_80000208fe80row4_col354\" class=\"data row4 col354\" >nan</td>\n",
       "                        <td id=\"T_179caabc_117e_11ea_b383_80000208fe80row4_col355\" class=\"data row4 col355\" >nan</td>\n",
       "                        <td id=\"T_179caabc_117e_11ea_b383_80000208fe80row4_col356\" class=\"data row4 col356\" >nan</td>\n",
       "                        <td id=\"T_179caabc_117e_11ea_b383_80000208fe80row4_col357\" class=\"data row4 col357\" >nan</td>\n",
       "                        <td id=\"T_179caabc_117e_11ea_b383_80000208fe80row4_col358\" class=\"data row4 col358\" >nan</td>\n",
       "                        <td id=\"T_179caabc_117e_11ea_b383_80000208fe80row4_col359\" class=\"data row4 col359\" >nan</td>\n",
       "                        <td id=\"T_179caabc_117e_11ea_b383_80000208fe80row4_col360\" class=\"data row4 col360\" >nan</td>\n",
       "                        <td id=\"T_179caabc_117e_11ea_b383_80000208fe80row4_col361\" class=\"data row4 col361\" >nan</td>\n",
       "                        <td id=\"T_179caabc_117e_11ea_b383_80000208fe80row4_col362\" class=\"data row4 col362\" >nan</td>\n",
       "                        <td id=\"T_179caabc_117e_11ea_b383_80000208fe80row4_col363\" class=\"data row4 col363\" >nan</td>\n",
       "                        <td id=\"T_179caabc_117e_11ea_b383_80000208fe80row4_col364\" class=\"data row4 col364\" >nan</td>\n",
       "                        <td id=\"T_179caabc_117e_11ea_b383_80000208fe80row4_col365\" class=\"data row4 col365\" >nan</td>\n",
       "                        <td id=\"T_179caabc_117e_11ea_b383_80000208fe80row4_col366\" class=\"data row4 col366\" >nan</td>\n",
       "                        <td id=\"T_179caabc_117e_11ea_b383_80000208fe80row4_col367\" class=\"data row4 col367\" >nan</td>\n",
       "                        <td id=\"T_179caabc_117e_11ea_b383_80000208fe80row4_col368\" class=\"data row4 col368\" >nan</td>\n",
       "                        <td id=\"T_179caabc_117e_11ea_b383_80000208fe80row4_col369\" class=\"data row4 col369\" >nan</td>\n",
       "                        <td id=\"T_179caabc_117e_11ea_b383_80000208fe80row4_col370\" class=\"data row4 col370\" >nan</td>\n",
       "                        <td id=\"T_179caabc_117e_11ea_b383_80000208fe80row4_col371\" class=\"data row4 col371\" >nan</td>\n",
       "                        <td id=\"T_179caabc_117e_11ea_b383_80000208fe80row4_col372\" class=\"data row4 col372\" >nan</td>\n",
       "                        <td id=\"T_179caabc_117e_11ea_b383_80000208fe80row4_col373\" class=\"data row4 col373\" >nan</td>\n",
       "                        <td id=\"T_179caabc_117e_11ea_b383_80000208fe80row4_col374\" class=\"data row4 col374\" >nan</td>\n",
       "                        <td id=\"T_179caabc_117e_11ea_b383_80000208fe80row4_col375\" class=\"data row4 col375\" >nan</td>\n",
       "                        <td id=\"T_179caabc_117e_11ea_b383_80000208fe80row4_col376\" class=\"data row4 col376\" >nan</td>\n",
       "                        <td id=\"T_179caabc_117e_11ea_b383_80000208fe80row4_col377\" class=\"data row4 col377\" >nan</td>\n",
       "                        <td id=\"T_179caabc_117e_11ea_b383_80000208fe80row4_col378\" class=\"data row4 col378\" >nan</td>\n",
       "                        <td id=\"T_179caabc_117e_11ea_b383_80000208fe80row4_col379\" class=\"data row4 col379\" >nan</td>\n",
       "                        <td id=\"T_179caabc_117e_11ea_b383_80000208fe80row4_col380\" class=\"data row4 col380\" >nan</td>\n",
       "                        <td id=\"T_179caabc_117e_11ea_b383_80000208fe80row4_col381\" class=\"data row4 col381\" >nan</td>\n",
       "                        <td id=\"T_179caabc_117e_11ea_b383_80000208fe80row4_col382\" class=\"data row4 col382\" >nan</td>\n",
       "                        <td id=\"T_179caabc_117e_11ea_b383_80000208fe80row4_col383\" class=\"data row4 col383\" >nan</td>\n",
       "                        <td id=\"T_179caabc_117e_11ea_b383_80000208fe80row4_col384\" class=\"data row4 col384\" >nan</td>\n",
       "                        <td id=\"T_179caabc_117e_11ea_b383_80000208fe80row4_col385\" class=\"data row4 col385\" >nan</td>\n",
       "                        <td id=\"T_179caabc_117e_11ea_b383_80000208fe80row4_col386\" class=\"data row4 col386\" >nan</td>\n",
       "                        <td id=\"T_179caabc_117e_11ea_b383_80000208fe80row4_col387\" class=\"data row4 col387\" >nan</td>\n",
       "                        <td id=\"T_179caabc_117e_11ea_b383_80000208fe80row4_col388\" class=\"data row4 col388\" >nan</td>\n",
       "                        <td id=\"T_179caabc_117e_11ea_b383_80000208fe80row4_col389\" class=\"data row4 col389\" >nan</td>\n",
       "                        <td id=\"T_179caabc_117e_11ea_b383_80000208fe80row4_col390\" class=\"data row4 col390\" >nan</td>\n",
       "                        <td id=\"T_179caabc_117e_11ea_b383_80000208fe80row4_col391\" class=\"data row4 col391\" >nan</td>\n",
       "                        <td id=\"T_179caabc_117e_11ea_b383_80000208fe80row4_col392\" class=\"data row4 col392\" >nan</td>\n",
       "                        <td id=\"T_179caabc_117e_11ea_b383_80000208fe80row4_col393\" class=\"data row4 col393\" >nan</td>\n",
       "                        <td id=\"T_179caabc_117e_11ea_b383_80000208fe80row4_col394\" class=\"data row4 col394\" >nan</td>\n",
       "                        <td id=\"T_179caabc_117e_11ea_b383_80000208fe80row4_col395\" class=\"data row4 col395\" >nan</td>\n",
       "                        <td id=\"T_179caabc_117e_11ea_b383_80000208fe80row4_col396\" class=\"data row4 col396\" >nan</td>\n",
       "                        <td id=\"T_179caabc_117e_11ea_b383_80000208fe80row4_col397\" class=\"data row4 col397\" >nan</td>\n",
       "                        <td id=\"T_179caabc_117e_11ea_b383_80000208fe80row4_col398\" class=\"data row4 col398\" >nan</td>\n",
       "                        <td id=\"T_179caabc_117e_11ea_b383_80000208fe80row4_col399\" class=\"data row4 col399\" >nan</td>\n",
       "                        <td id=\"T_179caabc_117e_11ea_b383_80000208fe80row4_col400\" class=\"data row4 col400\" >nan</td>\n",
       "                        <td id=\"T_179caabc_117e_11ea_b383_80000208fe80row4_col401\" class=\"data row4 col401\" >nan</td>\n",
       "                        <td id=\"T_179caabc_117e_11ea_b383_80000208fe80row4_col402\" class=\"data row4 col402\" >nan</td>\n",
       "                        <td id=\"T_179caabc_117e_11ea_b383_80000208fe80row4_col403\" class=\"data row4 col403\" >nan</td>\n",
       "                        <td id=\"T_179caabc_117e_11ea_b383_80000208fe80row4_col404\" class=\"data row4 col404\" >nan</td>\n",
       "                        <td id=\"T_179caabc_117e_11ea_b383_80000208fe80row4_col405\" class=\"data row4 col405\" >nan</td>\n",
       "                        <td id=\"T_179caabc_117e_11ea_b383_80000208fe80row4_col406\" class=\"data row4 col406\" >nan</td>\n",
       "                        <td id=\"T_179caabc_117e_11ea_b383_80000208fe80row4_col407\" class=\"data row4 col407\" >nan</td>\n",
       "                        <td id=\"T_179caabc_117e_11ea_b383_80000208fe80row4_col408\" class=\"data row4 col408\" >nan</td>\n",
       "                        <td id=\"T_179caabc_117e_11ea_b383_80000208fe80row4_col409\" class=\"data row4 col409\" >nan</td>\n",
       "                        <td id=\"T_179caabc_117e_11ea_b383_80000208fe80row4_col410\" class=\"data row4 col410\" >nan</td>\n",
       "                        <td id=\"T_179caabc_117e_11ea_b383_80000208fe80row4_col411\" class=\"data row4 col411\" >nan</td>\n",
       "                        <td id=\"T_179caabc_117e_11ea_b383_80000208fe80row4_col412\" class=\"data row4 col412\" >nan</td>\n",
       "                        <td id=\"T_179caabc_117e_11ea_b383_80000208fe80row4_col413\" class=\"data row4 col413\" >nan</td>\n",
       "                        <td id=\"T_179caabc_117e_11ea_b383_80000208fe80row4_col414\" class=\"data row4 col414\" >nan</td>\n",
       "                        <td id=\"T_179caabc_117e_11ea_b383_80000208fe80row4_col415\" class=\"data row4 col415\" >nan</td>\n",
       "                        <td id=\"T_179caabc_117e_11ea_b383_80000208fe80row4_col416\" class=\"data row4 col416\" >nan</td>\n",
       "                        <td id=\"T_179caabc_117e_11ea_b383_80000208fe80row4_col417\" class=\"data row4 col417\" >nan</td>\n",
       "                        <td id=\"T_179caabc_117e_11ea_b383_80000208fe80row4_col418\" class=\"data row4 col418\" >nan</td>\n",
       "                        <td id=\"T_179caabc_117e_11ea_b383_80000208fe80row4_col419\" class=\"data row4 col419\" >nan</td>\n",
       "                        <td id=\"T_179caabc_117e_11ea_b383_80000208fe80row4_col420\" class=\"data row4 col420\" >nan</td>\n",
       "                        <td id=\"T_179caabc_117e_11ea_b383_80000208fe80row4_col421\" class=\"data row4 col421\" >nan</td>\n",
       "                        <td id=\"T_179caabc_117e_11ea_b383_80000208fe80row4_col422\" class=\"data row4 col422\" >nan</td>\n",
       "                        <td id=\"T_179caabc_117e_11ea_b383_80000208fe80row4_col423\" class=\"data row4 col423\" >nan</td>\n",
       "                        <td id=\"T_179caabc_117e_11ea_b383_80000208fe80row4_col424\" class=\"data row4 col424\" >nan</td>\n",
       "                        <td id=\"T_179caabc_117e_11ea_b383_80000208fe80row4_col425\" class=\"data row4 col425\" >nan</td>\n",
       "                        <td id=\"T_179caabc_117e_11ea_b383_80000208fe80row4_col426\" class=\"data row4 col426\" >nan</td>\n",
       "                        <td id=\"T_179caabc_117e_11ea_b383_80000208fe80row4_col427\" class=\"data row4 col427\" >nan</td>\n",
       "                        <td id=\"T_179caabc_117e_11ea_b383_80000208fe80row4_col428\" class=\"data row4 col428\" >nan</td>\n",
       "                        <td id=\"T_179caabc_117e_11ea_b383_80000208fe80row4_col429\" class=\"data row4 col429\" >nan</td>\n",
       "                        <td id=\"T_179caabc_117e_11ea_b383_80000208fe80row4_col430\" class=\"data row4 col430\" >nan</td>\n",
       "                        <td id=\"T_179caabc_117e_11ea_b383_80000208fe80row4_col431\" class=\"data row4 col431\" >nan</td>\n",
       "                        <td id=\"T_179caabc_117e_11ea_b383_80000208fe80row4_col432\" class=\"data row4 col432\" >nan</td>\n",
       "                        <td id=\"T_179caabc_117e_11ea_b383_80000208fe80row4_col433\" class=\"data row4 col433\" >nan</td>\n",
       "                        <td id=\"T_179caabc_117e_11ea_b383_80000208fe80row4_col434\" class=\"data row4 col434\" >nan</td>\n",
       "                        <td id=\"T_179caabc_117e_11ea_b383_80000208fe80row4_col435\" class=\"data row4 col435\" >nan</td>\n",
       "                        <td id=\"T_179caabc_117e_11ea_b383_80000208fe80row4_col436\" class=\"data row4 col436\" >nan</td>\n",
       "                        <td id=\"T_179caabc_117e_11ea_b383_80000208fe80row4_col437\" class=\"data row4 col437\" >nan</td>\n",
       "                        <td id=\"T_179caabc_117e_11ea_b383_80000208fe80row4_col438\" class=\"data row4 col438\" >nan</td>\n",
       "                        <td id=\"T_179caabc_117e_11ea_b383_80000208fe80row4_col439\" class=\"data row4 col439\" >nan</td>\n",
       "                        <td id=\"T_179caabc_117e_11ea_b383_80000208fe80row4_col440\" class=\"data row4 col440\" >nan</td>\n",
       "                        <td id=\"T_179caabc_117e_11ea_b383_80000208fe80row4_col441\" class=\"data row4 col441\" >nan</td>\n",
       "                        <td id=\"T_179caabc_117e_11ea_b383_80000208fe80row4_col442\" class=\"data row4 col442\" >nan</td>\n",
       "                        <td id=\"T_179caabc_117e_11ea_b383_80000208fe80row4_col443\" class=\"data row4 col443\" >nan</td>\n",
       "                        <td id=\"T_179caabc_117e_11ea_b383_80000208fe80row4_col444\" class=\"data row4 col444\" >nan</td>\n",
       "                        <td id=\"T_179caabc_117e_11ea_b383_80000208fe80row4_col445\" class=\"data row4 col445\" >nan</td>\n",
       "                        <td id=\"T_179caabc_117e_11ea_b383_80000208fe80row4_col446\" class=\"data row4 col446\" >nan</td>\n",
       "                        <td id=\"T_179caabc_117e_11ea_b383_80000208fe80row4_col447\" class=\"data row4 col447\" >nan</td>\n",
       "                        <td id=\"T_179caabc_117e_11ea_b383_80000208fe80row4_col448\" class=\"data row4 col448\" >nan</td>\n",
       "                        <td id=\"T_179caabc_117e_11ea_b383_80000208fe80row4_col449\" class=\"data row4 col449\" >nan</td>\n",
       "                        <td id=\"T_179caabc_117e_11ea_b383_80000208fe80row4_col450\" class=\"data row4 col450\" >nan</td>\n",
       "                        <td id=\"T_179caabc_117e_11ea_b383_80000208fe80row4_col451\" class=\"data row4 col451\" >nan</td>\n",
       "                        <td id=\"T_179caabc_117e_11ea_b383_80000208fe80row4_col452\" class=\"data row4 col452\" >nan</td>\n",
       "                        <td id=\"T_179caabc_117e_11ea_b383_80000208fe80row4_col453\" class=\"data row4 col453\" >nan</td>\n",
       "                        <td id=\"T_179caabc_117e_11ea_b383_80000208fe80row4_col454\" class=\"data row4 col454\" >nan</td>\n",
       "                        <td id=\"T_179caabc_117e_11ea_b383_80000208fe80row4_col455\" class=\"data row4 col455\" >nan</td>\n",
       "                        <td id=\"T_179caabc_117e_11ea_b383_80000208fe80row4_col456\" class=\"data row4 col456\" >nan</td>\n",
       "                        <td id=\"T_179caabc_117e_11ea_b383_80000208fe80row4_col457\" class=\"data row4 col457\" >nan</td>\n",
       "                        <td id=\"T_179caabc_117e_11ea_b383_80000208fe80row4_col458\" class=\"data row4 col458\" >nan</td>\n",
       "                        <td id=\"T_179caabc_117e_11ea_b383_80000208fe80row4_col459\" class=\"data row4 col459\" >nan</td>\n",
       "                        <td id=\"T_179caabc_117e_11ea_b383_80000208fe80row4_col460\" class=\"data row4 col460\" >nan</td>\n",
       "                        <td id=\"T_179caabc_117e_11ea_b383_80000208fe80row4_col461\" class=\"data row4 col461\" >nan</td>\n",
       "                        <td id=\"T_179caabc_117e_11ea_b383_80000208fe80row4_col462\" class=\"data row4 col462\" >nan</td>\n",
       "                        <td id=\"T_179caabc_117e_11ea_b383_80000208fe80row4_col463\" class=\"data row4 col463\" >nan</td>\n",
       "                        <td id=\"T_179caabc_117e_11ea_b383_80000208fe80row4_col464\" class=\"data row4 col464\" >nan</td>\n",
       "                        <td id=\"T_179caabc_117e_11ea_b383_80000208fe80row4_col465\" class=\"data row4 col465\" >nan</td>\n",
       "                        <td id=\"T_179caabc_117e_11ea_b383_80000208fe80row4_col466\" class=\"data row4 col466\" >nan</td>\n",
       "                        <td id=\"T_179caabc_117e_11ea_b383_80000208fe80row4_col467\" class=\"data row4 col467\" >nan</td>\n",
       "                        <td id=\"T_179caabc_117e_11ea_b383_80000208fe80row4_col468\" class=\"data row4 col468\" >nan</td>\n",
       "                        <td id=\"T_179caabc_117e_11ea_b383_80000208fe80row4_col469\" class=\"data row4 col469\" >nan</td>\n",
       "                        <td id=\"T_179caabc_117e_11ea_b383_80000208fe80row4_col470\" class=\"data row4 col470\" >nan</td>\n",
       "                        <td id=\"T_179caabc_117e_11ea_b383_80000208fe80row4_col471\" class=\"data row4 col471\" >nan</td>\n",
       "                        <td id=\"T_179caabc_117e_11ea_b383_80000208fe80row4_col472\" class=\"data row4 col472\" >nan</td>\n",
       "                        <td id=\"T_179caabc_117e_11ea_b383_80000208fe80row4_col473\" class=\"data row4 col473\" >nan</td>\n",
       "                        <td id=\"T_179caabc_117e_11ea_b383_80000208fe80row4_col474\" class=\"data row4 col474\" >nan</td>\n",
       "                        <td id=\"T_179caabc_117e_11ea_b383_80000208fe80row4_col475\" class=\"data row4 col475\" >nan</td>\n",
       "                        <td id=\"T_179caabc_117e_11ea_b383_80000208fe80row4_col476\" class=\"data row4 col476\" >nan</td>\n",
       "                        <td id=\"T_179caabc_117e_11ea_b383_80000208fe80row4_col477\" class=\"data row4 col477\" >nan</td>\n",
       "                        <td id=\"T_179caabc_117e_11ea_b383_80000208fe80row4_col478\" class=\"data row4 col478\" >nan</td>\n",
       "                        <td id=\"T_179caabc_117e_11ea_b383_80000208fe80row4_col479\" class=\"data row4 col479\" >nan</td>\n",
       "                        <td id=\"T_179caabc_117e_11ea_b383_80000208fe80row4_col480\" class=\"data row4 col480\" >nan</td>\n",
       "                        <td id=\"T_179caabc_117e_11ea_b383_80000208fe80row4_col481\" class=\"data row4 col481\" >nan</td>\n",
       "                        <td id=\"T_179caabc_117e_11ea_b383_80000208fe80row4_col482\" class=\"data row4 col482\" >nan</td>\n",
       "                        <td id=\"T_179caabc_117e_11ea_b383_80000208fe80row4_col483\" class=\"data row4 col483\" >nan</td>\n",
       "                        <td id=\"T_179caabc_117e_11ea_b383_80000208fe80row4_col484\" class=\"data row4 col484\" >nan</td>\n",
       "                        <td id=\"T_179caabc_117e_11ea_b383_80000208fe80row4_col485\" class=\"data row4 col485\" >nan</td>\n",
       "                        <td id=\"T_179caabc_117e_11ea_b383_80000208fe80row4_col486\" class=\"data row4 col486\" >nan</td>\n",
       "                        <td id=\"T_179caabc_117e_11ea_b383_80000208fe80row4_col487\" class=\"data row4 col487\" >nan</td>\n",
       "                        <td id=\"T_179caabc_117e_11ea_b383_80000208fe80row4_col488\" class=\"data row4 col488\" >nan</td>\n",
       "                        <td id=\"T_179caabc_117e_11ea_b383_80000208fe80row4_col489\" class=\"data row4 col489\" >nan</td>\n",
       "                        <td id=\"T_179caabc_117e_11ea_b383_80000208fe80row4_col490\" class=\"data row4 col490\" >nan</td>\n",
       "                        <td id=\"T_179caabc_117e_11ea_b383_80000208fe80row4_col491\" class=\"data row4 col491\" >nan</td>\n",
       "                        <td id=\"T_179caabc_117e_11ea_b383_80000208fe80row4_col492\" class=\"data row4 col492\" >nan</td>\n",
       "                        <td id=\"T_179caabc_117e_11ea_b383_80000208fe80row4_col493\" class=\"data row4 col493\" >nan</td>\n",
       "                        <td id=\"T_179caabc_117e_11ea_b383_80000208fe80row4_col494\" class=\"data row4 col494\" >nan</td>\n",
       "                        <td id=\"T_179caabc_117e_11ea_b383_80000208fe80row4_col495\" class=\"data row4 col495\" >nan</td>\n",
       "                        <td id=\"T_179caabc_117e_11ea_b383_80000208fe80row4_col496\" class=\"data row4 col496\" >nan</td>\n",
       "                        <td id=\"T_179caabc_117e_11ea_b383_80000208fe80row4_col497\" class=\"data row4 col497\" >nan</td>\n",
       "                        <td id=\"T_179caabc_117e_11ea_b383_80000208fe80row4_col498\" class=\"data row4 col498\" >nan</td>\n",
       "                        <td id=\"T_179caabc_117e_11ea_b383_80000208fe80row4_col499\" class=\"data row4 col499\" >nan</td>\n",
       "                        <td id=\"T_179caabc_117e_11ea_b383_80000208fe80row4_col500\" class=\"data row4 col500\" >nan</td>\n",
       "                        <td id=\"T_179caabc_117e_11ea_b383_80000208fe80row4_col501\" class=\"data row4 col501\" >nan</td>\n",
       "                        <td id=\"T_179caabc_117e_11ea_b383_80000208fe80row4_col502\" class=\"data row4 col502\" >nan</td>\n",
       "                        <td id=\"T_179caabc_117e_11ea_b383_80000208fe80row4_col503\" class=\"data row4 col503\" >nan</td>\n",
       "                        <td id=\"T_179caabc_117e_11ea_b383_80000208fe80row4_col504\" class=\"data row4 col504\" >nan</td>\n",
       "                        <td id=\"T_179caabc_117e_11ea_b383_80000208fe80row4_col505\" class=\"data row4 col505\" >nan</td>\n",
       "                        <td id=\"T_179caabc_117e_11ea_b383_80000208fe80row4_col506\" class=\"data row4 col506\" >nan</td>\n",
       "                        <td id=\"T_179caabc_117e_11ea_b383_80000208fe80row4_col507\" class=\"data row4 col507\" >nan</td>\n",
       "                        <td id=\"T_179caabc_117e_11ea_b383_80000208fe80row4_col508\" class=\"data row4 col508\" >nan</td>\n",
       "                        <td id=\"T_179caabc_117e_11ea_b383_80000208fe80row4_col509\" class=\"data row4 col509\" >nan</td>\n",
       "                        <td id=\"T_179caabc_117e_11ea_b383_80000208fe80row4_col510\" class=\"data row4 col510\" >nan</td>\n",
       "                        <td id=\"T_179caabc_117e_11ea_b383_80000208fe80row4_col511\" class=\"data row4 col511\" >nan</td>\n",
       "                        <td id=\"T_179caabc_117e_11ea_b383_80000208fe80row4_col512\" class=\"data row4 col512\" >nan</td>\n",
       "                        <td id=\"T_179caabc_117e_11ea_b383_80000208fe80row4_col513\" class=\"data row4 col513\" >nan</td>\n",
       "                        <td id=\"T_179caabc_117e_11ea_b383_80000208fe80row4_col514\" class=\"data row4 col514\" >nan</td>\n",
       "                        <td id=\"T_179caabc_117e_11ea_b383_80000208fe80row4_col515\" class=\"data row4 col515\" >nan</td>\n",
       "                        <td id=\"T_179caabc_117e_11ea_b383_80000208fe80row4_col516\" class=\"data row4 col516\" >nan</td>\n",
       "                        <td id=\"T_179caabc_117e_11ea_b383_80000208fe80row4_col517\" class=\"data row4 col517\" >nan</td>\n",
       "                        <td id=\"T_179caabc_117e_11ea_b383_80000208fe80row4_col518\" class=\"data row4 col518\" >nan</td>\n",
       "                        <td id=\"T_179caabc_117e_11ea_b383_80000208fe80row4_col519\" class=\"data row4 col519\" >nan</td>\n",
       "                        <td id=\"T_179caabc_117e_11ea_b383_80000208fe80row4_col520\" class=\"data row4 col520\" >nan</td>\n",
       "                        <td id=\"T_179caabc_117e_11ea_b383_80000208fe80row4_col521\" class=\"data row4 col521\" >nan</td>\n",
       "                        <td id=\"T_179caabc_117e_11ea_b383_80000208fe80row4_col522\" class=\"data row4 col522\" >nan</td>\n",
       "                        <td id=\"T_179caabc_117e_11ea_b383_80000208fe80row4_col523\" class=\"data row4 col523\" >nan</td>\n",
       "                        <td id=\"T_179caabc_117e_11ea_b383_80000208fe80row4_col524\" class=\"data row4 col524\" >nan</td>\n",
       "                        <td id=\"T_179caabc_117e_11ea_b383_80000208fe80row4_col525\" class=\"data row4 col525\" >nan</td>\n",
       "                        <td id=\"T_179caabc_117e_11ea_b383_80000208fe80row4_col526\" class=\"data row4 col526\" >nan</td>\n",
       "                        <td id=\"T_179caabc_117e_11ea_b383_80000208fe80row4_col527\" class=\"data row4 col527\" >nan</td>\n",
       "                        <td id=\"T_179caabc_117e_11ea_b383_80000208fe80row4_col528\" class=\"data row4 col528\" >nan</td>\n",
       "                        <td id=\"T_179caabc_117e_11ea_b383_80000208fe80row4_col529\" class=\"data row4 col529\" >nan</td>\n",
       "                        <td id=\"T_179caabc_117e_11ea_b383_80000208fe80row4_col530\" class=\"data row4 col530\" >nan</td>\n",
       "                        <td id=\"T_179caabc_117e_11ea_b383_80000208fe80row4_col531\" class=\"data row4 col531\" >nan</td>\n",
       "                        <td id=\"T_179caabc_117e_11ea_b383_80000208fe80row4_col532\" class=\"data row4 col532\" >nan</td>\n",
       "                        <td id=\"T_179caabc_117e_11ea_b383_80000208fe80row4_col533\" class=\"data row4 col533\" >nan</td>\n",
       "                        <td id=\"T_179caabc_117e_11ea_b383_80000208fe80row4_col534\" class=\"data row4 col534\" >nan</td>\n",
       "                        <td id=\"T_179caabc_117e_11ea_b383_80000208fe80row4_col535\" class=\"data row4 col535\" >nan</td>\n",
       "                        <td id=\"T_179caabc_117e_11ea_b383_80000208fe80row4_col536\" class=\"data row4 col536\" >nan</td>\n",
       "                        <td id=\"T_179caabc_117e_11ea_b383_80000208fe80row4_col537\" class=\"data row4 col537\" >nan</td>\n",
       "                        <td id=\"T_179caabc_117e_11ea_b383_80000208fe80row4_col538\" class=\"data row4 col538\" >nan</td>\n",
       "                        <td id=\"T_179caabc_117e_11ea_b383_80000208fe80row4_col539\" class=\"data row4 col539\" >nan</td>\n",
       "                        <td id=\"T_179caabc_117e_11ea_b383_80000208fe80row4_col540\" class=\"data row4 col540\" >nan</td>\n",
       "                        <td id=\"T_179caabc_117e_11ea_b383_80000208fe80row4_col541\" class=\"data row4 col541\" >nan</td>\n",
       "                        <td id=\"T_179caabc_117e_11ea_b383_80000208fe80row4_col542\" class=\"data row4 col542\" >nan</td>\n",
       "                        <td id=\"T_179caabc_117e_11ea_b383_80000208fe80row4_col543\" class=\"data row4 col543\" >nan</td>\n",
       "                        <td id=\"T_179caabc_117e_11ea_b383_80000208fe80row4_col544\" class=\"data row4 col544\" >nan</td>\n",
       "                        <td id=\"T_179caabc_117e_11ea_b383_80000208fe80row4_col545\" class=\"data row4 col545\" >nan</td>\n",
       "                        <td id=\"T_179caabc_117e_11ea_b383_80000208fe80row4_col546\" class=\"data row4 col546\" >nan</td>\n",
       "                        <td id=\"T_179caabc_117e_11ea_b383_80000208fe80row4_col547\" class=\"data row4 col547\" >nan</td>\n",
       "                        <td id=\"T_179caabc_117e_11ea_b383_80000208fe80row4_col548\" class=\"data row4 col548\" >nan</td>\n",
       "                        <td id=\"T_179caabc_117e_11ea_b383_80000208fe80row4_col549\" class=\"data row4 col549\" >nan</td>\n",
       "                        <td id=\"T_179caabc_117e_11ea_b383_80000208fe80row4_col550\" class=\"data row4 col550\" >nan</td>\n",
       "                        <td id=\"T_179caabc_117e_11ea_b383_80000208fe80row4_col551\" class=\"data row4 col551\" >nan</td>\n",
       "                        <td id=\"T_179caabc_117e_11ea_b383_80000208fe80row4_col552\" class=\"data row4 col552\" >nan</td>\n",
       "                        <td id=\"T_179caabc_117e_11ea_b383_80000208fe80row4_col553\" class=\"data row4 col553\" >nan</td>\n",
       "                        <td id=\"T_179caabc_117e_11ea_b383_80000208fe80row4_col554\" class=\"data row4 col554\" >nan</td>\n",
       "                        <td id=\"T_179caabc_117e_11ea_b383_80000208fe80row4_col555\" class=\"data row4 col555\" >nan</td>\n",
       "                        <td id=\"T_179caabc_117e_11ea_b383_80000208fe80row4_col556\" class=\"data row4 col556\" >nan</td>\n",
       "                        <td id=\"T_179caabc_117e_11ea_b383_80000208fe80row4_col557\" class=\"data row4 col557\" >nan</td>\n",
       "                        <td id=\"T_179caabc_117e_11ea_b383_80000208fe80row4_col558\" class=\"data row4 col558\" >nan</td>\n",
       "                        <td id=\"T_179caabc_117e_11ea_b383_80000208fe80row4_col559\" class=\"data row4 col559\" >nan</td>\n",
       "                        <td id=\"T_179caabc_117e_11ea_b383_80000208fe80row4_col560\" class=\"data row4 col560\" >nan</td>\n",
       "                        <td id=\"T_179caabc_117e_11ea_b383_80000208fe80row4_col561\" class=\"data row4 col561\" >nan</td>\n",
       "                        <td id=\"T_179caabc_117e_11ea_b383_80000208fe80row4_col562\" class=\"data row4 col562\" >nan</td>\n",
       "                        <td id=\"T_179caabc_117e_11ea_b383_80000208fe80row4_col563\" class=\"data row4 col563\" >nan</td>\n",
       "                        <td id=\"T_179caabc_117e_11ea_b383_80000208fe80row4_col564\" class=\"data row4 col564\" >nan</td>\n",
       "                        <td id=\"T_179caabc_117e_11ea_b383_80000208fe80row4_col565\" class=\"data row4 col565\" >nan</td>\n",
       "                        <td id=\"T_179caabc_117e_11ea_b383_80000208fe80row4_col566\" class=\"data row4 col566\" >nan</td>\n",
       "                        <td id=\"T_179caabc_117e_11ea_b383_80000208fe80row4_col567\" class=\"data row4 col567\" >nan</td>\n",
       "            </tr>\n",
       "            <tr>\n",
       "                                <td id=\"T_179caabc_117e_11ea_b383_80000208fe80row5_col0\" class=\"data row5 col0\" >16</td>\n",
       "                        <td id=\"T_179caabc_117e_11ea_b383_80000208fe80row5_col1\" class=\"data row5 col1\" >DeepLearning_grid_1_AutoML_20191128_001321_model_94</td>\n",
       "                        <td id=\"T_179caabc_117e_11ea_b383_80000208fe80row5_col2\" class=\"data row5 col2\" >nan</td>\n",
       "                        <td id=\"T_179caabc_117e_11ea_b383_80000208fe80row5_col3\" class=\"data row5 col3\" >nan</td>\n",
       "                        <td id=\"T_179caabc_117e_11ea_b383_80000208fe80row5_col4\" class=\"data row5 col4\" >nan</td>\n",
       "                        <td id=\"T_179caabc_117e_11ea_b383_80000208fe80row5_col5\" class=\"data row5 col5\" >nan</td>\n",
       "                        <td id=\"T_179caabc_117e_11ea_b383_80000208fe80row5_col6\" class=\"data row5 col6\" >nan</td>\n",
       "                        <td id=\"T_179caabc_117e_11ea_b383_80000208fe80row5_col7\" class=\"data row5 col7\" >nan</td>\n",
       "                        <td id=\"T_179caabc_117e_11ea_b383_80000208fe80row5_col8\" class=\"data row5 col8\" >nan</td>\n",
       "                        <td id=\"T_179caabc_117e_11ea_b383_80000208fe80row5_col9\" class=\"data row5 col9\" >nan</td>\n",
       "                        <td id=\"T_179caabc_117e_11ea_b383_80000208fe80row5_col10\" class=\"data row5 col10\" >nan</td>\n",
       "                        <td id=\"T_179caabc_117e_11ea_b383_80000208fe80row5_col11\" class=\"data row5 col11\" >nan</td>\n",
       "                        <td id=\"T_179caabc_117e_11ea_b383_80000208fe80row5_col12\" class=\"data row5 col12\" >nan</td>\n",
       "                        <td id=\"T_179caabc_117e_11ea_b383_80000208fe80row5_col13\" class=\"data row5 col13\" >nan</td>\n",
       "                        <td id=\"T_179caabc_117e_11ea_b383_80000208fe80row5_col14\" class=\"data row5 col14\" >nan</td>\n",
       "                        <td id=\"T_179caabc_117e_11ea_b383_80000208fe80row5_col15\" class=\"data row5 col15\" >nan</td>\n",
       "                        <td id=\"T_179caabc_117e_11ea_b383_80000208fe80row5_col16\" class=\"data row5 col16\" >nan</td>\n",
       "                        <td id=\"T_179caabc_117e_11ea_b383_80000208fe80row5_col17\" class=\"data row5 col17\" >nan</td>\n",
       "                        <td id=\"T_179caabc_117e_11ea_b383_80000208fe80row5_col18\" class=\"data row5 col18\" >nan</td>\n",
       "                        <td id=\"T_179caabc_117e_11ea_b383_80000208fe80row5_col19\" class=\"data row5 col19\" >nan</td>\n",
       "                        <td id=\"T_179caabc_117e_11ea_b383_80000208fe80row5_col20\" class=\"data row5 col20\" >nan</td>\n",
       "                        <td id=\"T_179caabc_117e_11ea_b383_80000208fe80row5_col21\" class=\"data row5 col21\" >nan</td>\n",
       "                        <td id=\"T_179caabc_117e_11ea_b383_80000208fe80row5_col22\" class=\"data row5 col22\" >nan</td>\n",
       "                        <td id=\"T_179caabc_117e_11ea_b383_80000208fe80row5_col23\" class=\"data row5 col23\" >nan</td>\n",
       "                        <td id=\"T_179caabc_117e_11ea_b383_80000208fe80row5_col24\" class=\"data row5 col24\" >nan</td>\n",
       "                        <td id=\"T_179caabc_117e_11ea_b383_80000208fe80row5_col25\" class=\"data row5 col25\" >nan</td>\n",
       "                        <td id=\"T_179caabc_117e_11ea_b383_80000208fe80row5_col26\" class=\"data row5 col26\" >nan</td>\n",
       "                        <td id=\"T_179caabc_117e_11ea_b383_80000208fe80row5_col27\" class=\"data row5 col27\" >nan</td>\n",
       "                        <td id=\"T_179caabc_117e_11ea_b383_80000208fe80row5_col28\" class=\"data row5 col28\" >nan</td>\n",
       "                        <td id=\"T_179caabc_117e_11ea_b383_80000208fe80row5_col29\" class=\"data row5 col29\" >nan</td>\n",
       "                        <td id=\"T_179caabc_117e_11ea_b383_80000208fe80row5_col30\" class=\"data row5 col30\" >nan</td>\n",
       "                        <td id=\"T_179caabc_117e_11ea_b383_80000208fe80row5_col31\" class=\"data row5 col31\" >nan</td>\n",
       "                        <td id=\"T_179caabc_117e_11ea_b383_80000208fe80row5_col32\" class=\"data row5 col32\" >nan</td>\n",
       "                        <td id=\"T_179caabc_117e_11ea_b383_80000208fe80row5_col33\" class=\"data row5 col33\" >nan</td>\n",
       "                        <td id=\"T_179caabc_117e_11ea_b383_80000208fe80row5_col34\" class=\"data row5 col34\" >nan</td>\n",
       "                        <td id=\"T_179caabc_117e_11ea_b383_80000208fe80row5_col35\" class=\"data row5 col35\" >nan</td>\n",
       "                        <td id=\"T_179caabc_117e_11ea_b383_80000208fe80row5_col36\" class=\"data row5 col36\" >nan</td>\n",
       "                        <td id=\"T_179caabc_117e_11ea_b383_80000208fe80row5_col37\" class=\"data row5 col37\" >nan</td>\n",
       "                        <td id=\"T_179caabc_117e_11ea_b383_80000208fe80row5_col38\" class=\"data row5 col38\" >nan</td>\n",
       "                        <td id=\"T_179caabc_117e_11ea_b383_80000208fe80row5_col39\" class=\"data row5 col39\" >nan</td>\n",
       "                        <td id=\"T_179caabc_117e_11ea_b383_80000208fe80row5_col40\" class=\"data row5 col40\" >nan</td>\n",
       "                        <td id=\"T_179caabc_117e_11ea_b383_80000208fe80row5_col41\" class=\"data row5 col41\" >nan</td>\n",
       "                        <td id=\"T_179caabc_117e_11ea_b383_80000208fe80row5_col42\" class=\"data row5 col42\" >nan</td>\n",
       "                        <td id=\"T_179caabc_117e_11ea_b383_80000208fe80row5_col43\" class=\"data row5 col43\" >nan</td>\n",
       "                        <td id=\"T_179caabc_117e_11ea_b383_80000208fe80row5_col44\" class=\"data row5 col44\" >nan</td>\n",
       "                        <td id=\"T_179caabc_117e_11ea_b383_80000208fe80row5_col45\" class=\"data row5 col45\" >nan</td>\n",
       "                        <td id=\"T_179caabc_117e_11ea_b383_80000208fe80row5_col46\" class=\"data row5 col46\" >nan</td>\n",
       "                        <td id=\"T_179caabc_117e_11ea_b383_80000208fe80row5_col47\" class=\"data row5 col47\" >nan</td>\n",
       "                        <td id=\"T_179caabc_117e_11ea_b383_80000208fe80row5_col48\" class=\"data row5 col48\" >nan</td>\n",
       "                        <td id=\"T_179caabc_117e_11ea_b383_80000208fe80row5_col49\" class=\"data row5 col49\" >nan</td>\n",
       "                        <td id=\"T_179caabc_117e_11ea_b383_80000208fe80row5_col50\" class=\"data row5 col50\" >nan</td>\n",
       "                        <td id=\"T_179caabc_117e_11ea_b383_80000208fe80row5_col51\" class=\"data row5 col51\" >nan</td>\n",
       "                        <td id=\"T_179caabc_117e_11ea_b383_80000208fe80row5_col52\" class=\"data row5 col52\" >nan</td>\n",
       "                        <td id=\"T_179caabc_117e_11ea_b383_80000208fe80row5_col53\" class=\"data row5 col53\" >nan</td>\n",
       "                        <td id=\"T_179caabc_117e_11ea_b383_80000208fe80row5_col54\" class=\"data row5 col54\" >nan</td>\n",
       "                        <td id=\"T_179caabc_117e_11ea_b383_80000208fe80row5_col55\" class=\"data row5 col55\" >nan</td>\n",
       "                        <td id=\"T_179caabc_117e_11ea_b383_80000208fe80row5_col56\" class=\"data row5 col56\" >nan</td>\n",
       "                        <td id=\"T_179caabc_117e_11ea_b383_80000208fe80row5_col57\" class=\"data row5 col57\" >nan</td>\n",
       "                        <td id=\"T_179caabc_117e_11ea_b383_80000208fe80row5_col58\" class=\"data row5 col58\" >nan</td>\n",
       "                        <td id=\"T_179caabc_117e_11ea_b383_80000208fe80row5_col59\" class=\"data row5 col59\" >nan</td>\n",
       "                        <td id=\"T_179caabc_117e_11ea_b383_80000208fe80row5_col60\" class=\"data row5 col60\" >nan</td>\n",
       "                        <td id=\"T_179caabc_117e_11ea_b383_80000208fe80row5_col61\" class=\"data row5 col61\" >nan</td>\n",
       "                        <td id=\"T_179caabc_117e_11ea_b383_80000208fe80row5_col62\" class=\"data row5 col62\" >nan</td>\n",
       "                        <td id=\"T_179caabc_117e_11ea_b383_80000208fe80row5_col63\" class=\"data row5 col63\" >nan</td>\n",
       "                        <td id=\"T_179caabc_117e_11ea_b383_80000208fe80row5_col64\" class=\"data row5 col64\" >nan</td>\n",
       "                        <td id=\"T_179caabc_117e_11ea_b383_80000208fe80row5_col65\" class=\"data row5 col65\" >nan</td>\n",
       "                        <td id=\"T_179caabc_117e_11ea_b383_80000208fe80row5_col66\" class=\"data row5 col66\" >nan</td>\n",
       "                        <td id=\"T_179caabc_117e_11ea_b383_80000208fe80row5_col67\" class=\"data row5 col67\" >nan</td>\n",
       "                        <td id=\"T_179caabc_117e_11ea_b383_80000208fe80row5_col68\" class=\"data row5 col68\" >nan</td>\n",
       "                        <td id=\"T_179caabc_117e_11ea_b383_80000208fe80row5_col69\" class=\"data row5 col69\" >nan</td>\n",
       "                        <td id=\"T_179caabc_117e_11ea_b383_80000208fe80row5_col70\" class=\"data row5 col70\" >nan</td>\n",
       "                        <td id=\"T_179caabc_117e_11ea_b383_80000208fe80row5_col71\" class=\"data row5 col71\" >nan</td>\n",
       "                        <td id=\"T_179caabc_117e_11ea_b383_80000208fe80row5_col72\" class=\"data row5 col72\" >nan</td>\n",
       "                        <td id=\"T_179caabc_117e_11ea_b383_80000208fe80row5_col73\" class=\"data row5 col73\" >nan</td>\n",
       "                        <td id=\"T_179caabc_117e_11ea_b383_80000208fe80row5_col74\" class=\"data row5 col74\" >nan</td>\n",
       "                        <td id=\"T_179caabc_117e_11ea_b383_80000208fe80row5_col75\" class=\"data row5 col75\" >nan</td>\n",
       "                        <td id=\"T_179caabc_117e_11ea_b383_80000208fe80row5_col76\" class=\"data row5 col76\" >nan</td>\n",
       "                        <td id=\"T_179caabc_117e_11ea_b383_80000208fe80row5_col77\" class=\"data row5 col77\" >nan</td>\n",
       "                        <td id=\"T_179caabc_117e_11ea_b383_80000208fe80row5_col78\" class=\"data row5 col78\" >nan</td>\n",
       "                        <td id=\"T_179caabc_117e_11ea_b383_80000208fe80row5_col79\" class=\"data row5 col79\" >nan</td>\n",
       "                        <td id=\"T_179caabc_117e_11ea_b383_80000208fe80row5_col80\" class=\"data row5 col80\" >nan</td>\n",
       "                        <td id=\"T_179caabc_117e_11ea_b383_80000208fe80row5_col81\" class=\"data row5 col81\" >nan</td>\n",
       "                        <td id=\"T_179caabc_117e_11ea_b383_80000208fe80row5_col82\" class=\"data row5 col82\" >nan</td>\n",
       "                        <td id=\"T_179caabc_117e_11ea_b383_80000208fe80row5_col83\" class=\"data row5 col83\" >nan</td>\n",
       "                        <td id=\"T_179caabc_117e_11ea_b383_80000208fe80row5_col84\" class=\"data row5 col84\" >nan</td>\n",
       "                        <td id=\"T_179caabc_117e_11ea_b383_80000208fe80row5_col85\" class=\"data row5 col85\" >nan</td>\n",
       "                        <td id=\"T_179caabc_117e_11ea_b383_80000208fe80row5_col86\" class=\"data row5 col86\" >nan</td>\n",
       "                        <td id=\"T_179caabc_117e_11ea_b383_80000208fe80row5_col87\" class=\"data row5 col87\" >nan</td>\n",
       "                        <td id=\"T_179caabc_117e_11ea_b383_80000208fe80row5_col88\" class=\"data row5 col88\" >nan</td>\n",
       "                        <td id=\"T_179caabc_117e_11ea_b383_80000208fe80row5_col89\" class=\"data row5 col89\" >nan</td>\n",
       "                        <td id=\"T_179caabc_117e_11ea_b383_80000208fe80row5_col90\" class=\"data row5 col90\" >nan</td>\n",
       "                        <td id=\"T_179caabc_117e_11ea_b383_80000208fe80row5_col91\" class=\"data row5 col91\" >nan</td>\n",
       "                        <td id=\"T_179caabc_117e_11ea_b383_80000208fe80row5_col92\" class=\"data row5 col92\" >nan</td>\n",
       "                        <td id=\"T_179caabc_117e_11ea_b383_80000208fe80row5_col93\" class=\"data row5 col93\" >nan</td>\n",
       "                        <td id=\"T_179caabc_117e_11ea_b383_80000208fe80row5_col94\" class=\"data row5 col94\" >nan</td>\n",
       "                        <td id=\"T_179caabc_117e_11ea_b383_80000208fe80row5_col95\" class=\"data row5 col95\" >nan</td>\n",
       "                        <td id=\"T_179caabc_117e_11ea_b383_80000208fe80row5_col96\" class=\"data row5 col96\" >nan</td>\n",
       "                        <td id=\"T_179caabc_117e_11ea_b383_80000208fe80row5_col97\" class=\"data row5 col97\" >nan</td>\n",
       "                        <td id=\"T_179caabc_117e_11ea_b383_80000208fe80row5_col98\" class=\"data row5 col98\" >nan</td>\n",
       "                        <td id=\"T_179caabc_117e_11ea_b383_80000208fe80row5_col99\" class=\"data row5 col99\" >nan</td>\n",
       "                        <td id=\"T_179caabc_117e_11ea_b383_80000208fe80row5_col100\" class=\"data row5 col100\" >nan</td>\n",
       "                        <td id=\"T_179caabc_117e_11ea_b383_80000208fe80row5_col101\" class=\"data row5 col101\" >nan</td>\n",
       "                        <td id=\"T_179caabc_117e_11ea_b383_80000208fe80row5_col102\" class=\"data row5 col102\" >nan</td>\n",
       "                        <td id=\"T_179caabc_117e_11ea_b383_80000208fe80row5_col103\" class=\"data row5 col103\" >nan</td>\n",
       "                        <td id=\"T_179caabc_117e_11ea_b383_80000208fe80row5_col104\" class=\"data row5 col104\" >nan</td>\n",
       "                        <td id=\"T_179caabc_117e_11ea_b383_80000208fe80row5_col105\" class=\"data row5 col105\" >nan</td>\n",
       "                        <td id=\"T_179caabc_117e_11ea_b383_80000208fe80row5_col106\" class=\"data row5 col106\" >nan</td>\n",
       "                        <td id=\"T_179caabc_117e_11ea_b383_80000208fe80row5_col107\" class=\"data row5 col107\" >nan</td>\n",
       "                        <td id=\"T_179caabc_117e_11ea_b383_80000208fe80row5_col108\" class=\"data row5 col108\" >nan</td>\n",
       "                        <td id=\"T_179caabc_117e_11ea_b383_80000208fe80row5_col109\" class=\"data row5 col109\" >nan</td>\n",
       "                        <td id=\"T_179caabc_117e_11ea_b383_80000208fe80row5_col110\" class=\"data row5 col110\" >nan</td>\n",
       "                        <td id=\"T_179caabc_117e_11ea_b383_80000208fe80row5_col111\" class=\"data row5 col111\" >nan</td>\n",
       "                        <td id=\"T_179caabc_117e_11ea_b383_80000208fe80row5_col112\" class=\"data row5 col112\" >nan</td>\n",
       "                        <td id=\"T_179caabc_117e_11ea_b383_80000208fe80row5_col113\" class=\"data row5 col113\" >nan</td>\n",
       "                        <td id=\"T_179caabc_117e_11ea_b383_80000208fe80row5_col114\" class=\"data row5 col114\" >nan</td>\n",
       "                        <td id=\"T_179caabc_117e_11ea_b383_80000208fe80row5_col115\" class=\"data row5 col115\" >nan</td>\n",
       "                        <td id=\"T_179caabc_117e_11ea_b383_80000208fe80row5_col116\" class=\"data row5 col116\" >nan</td>\n",
       "                        <td id=\"T_179caabc_117e_11ea_b383_80000208fe80row5_col117\" class=\"data row5 col117\" >nan</td>\n",
       "                        <td id=\"T_179caabc_117e_11ea_b383_80000208fe80row5_col118\" class=\"data row5 col118\" >nan</td>\n",
       "                        <td id=\"T_179caabc_117e_11ea_b383_80000208fe80row5_col119\" class=\"data row5 col119\" >nan</td>\n",
       "                        <td id=\"T_179caabc_117e_11ea_b383_80000208fe80row5_col120\" class=\"data row5 col120\" >nan</td>\n",
       "                        <td id=\"T_179caabc_117e_11ea_b383_80000208fe80row5_col121\" class=\"data row5 col121\" >nan</td>\n",
       "                        <td id=\"T_179caabc_117e_11ea_b383_80000208fe80row5_col122\" class=\"data row5 col122\" >nan</td>\n",
       "                        <td id=\"T_179caabc_117e_11ea_b383_80000208fe80row5_col123\" class=\"data row5 col123\" >nan</td>\n",
       "                        <td id=\"T_179caabc_117e_11ea_b383_80000208fe80row5_col124\" class=\"data row5 col124\" >nan</td>\n",
       "                        <td id=\"T_179caabc_117e_11ea_b383_80000208fe80row5_col125\" class=\"data row5 col125\" >nan</td>\n",
       "                        <td id=\"T_179caabc_117e_11ea_b383_80000208fe80row5_col126\" class=\"data row5 col126\" >nan</td>\n",
       "                        <td id=\"T_179caabc_117e_11ea_b383_80000208fe80row5_col127\" class=\"data row5 col127\" >nan</td>\n",
       "                        <td id=\"T_179caabc_117e_11ea_b383_80000208fe80row5_col128\" class=\"data row5 col128\" >nan</td>\n",
       "                        <td id=\"T_179caabc_117e_11ea_b383_80000208fe80row5_col129\" class=\"data row5 col129\" >nan</td>\n",
       "                        <td id=\"T_179caabc_117e_11ea_b383_80000208fe80row5_col130\" class=\"data row5 col130\" >nan</td>\n",
       "                        <td id=\"T_179caabc_117e_11ea_b383_80000208fe80row5_col131\" class=\"data row5 col131\" >nan</td>\n",
       "                        <td id=\"T_179caabc_117e_11ea_b383_80000208fe80row5_col132\" class=\"data row5 col132\" >nan</td>\n",
       "                        <td id=\"T_179caabc_117e_11ea_b383_80000208fe80row5_col133\" class=\"data row5 col133\" >nan</td>\n",
       "                        <td id=\"T_179caabc_117e_11ea_b383_80000208fe80row5_col134\" class=\"data row5 col134\" >nan</td>\n",
       "                        <td id=\"T_179caabc_117e_11ea_b383_80000208fe80row5_col135\" class=\"data row5 col135\" >nan</td>\n",
       "                        <td id=\"T_179caabc_117e_11ea_b383_80000208fe80row5_col136\" class=\"data row5 col136\" >nan</td>\n",
       "                        <td id=\"T_179caabc_117e_11ea_b383_80000208fe80row5_col137\" class=\"data row5 col137\" >nan</td>\n",
       "                        <td id=\"T_179caabc_117e_11ea_b383_80000208fe80row5_col138\" class=\"data row5 col138\" >nan</td>\n",
       "                        <td id=\"T_179caabc_117e_11ea_b383_80000208fe80row5_col139\" class=\"data row5 col139\" >nan</td>\n",
       "                        <td id=\"T_179caabc_117e_11ea_b383_80000208fe80row5_col140\" class=\"data row5 col140\" >nan</td>\n",
       "                        <td id=\"T_179caabc_117e_11ea_b383_80000208fe80row5_col141\" class=\"data row5 col141\" >nan</td>\n",
       "                        <td id=\"T_179caabc_117e_11ea_b383_80000208fe80row5_col142\" class=\"data row5 col142\" >nan</td>\n",
       "                        <td id=\"T_179caabc_117e_11ea_b383_80000208fe80row5_col143\" class=\"data row5 col143\" >nan</td>\n",
       "                        <td id=\"T_179caabc_117e_11ea_b383_80000208fe80row5_col144\" class=\"data row5 col144\" >nan</td>\n",
       "                        <td id=\"T_179caabc_117e_11ea_b383_80000208fe80row5_col145\" class=\"data row5 col145\" >nan</td>\n",
       "                        <td id=\"T_179caabc_117e_11ea_b383_80000208fe80row5_col146\" class=\"data row5 col146\" >nan</td>\n",
       "                        <td id=\"T_179caabc_117e_11ea_b383_80000208fe80row5_col147\" class=\"data row5 col147\" >nan</td>\n",
       "                        <td id=\"T_179caabc_117e_11ea_b383_80000208fe80row5_col148\" class=\"data row5 col148\" >nan</td>\n",
       "                        <td id=\"T_179caabc_117e_11ea_b383_80000208fe80row5_col149\" class=\"data row5 col149\" >nan</td>\n",
       "                        <td id=\"T_179caabc_117e_11ea_b383_80000208fe80row5_col150\" class=\"data row5 col150\" >nan</td>\n",
       "                        <td id=\"T_179caabc_117e_11ea_b383_80000208fe80row5_col151\" class=\"data row5 col151\" >nan</td>\n",
       "                        <td id=\"T_179caabc_117e_11ea_b383_80000208fe80row5_col152\" class=\"data row5 col152\" >nan</td>\n",
       "                        <td id=\"T_179caabc_117e_11ea_b383_80000208fe80row5_col153\" class=\"data row5 col153\" >nan</td>\n",
       "                        <td id=\"T_179caabc_117e_11ea_b383_80000208fe80row5_col154\" class=\"data row5 col154\" >nan</td>\n",
       "                        <td id=\"T_179caabc_117e_11ea_b383_80000208fe80row5_col155\" class=\"data row5 col155\" >nan</td>\n",
       "                        <td id=\"T_179caabc_117e_11ea_b383_80000208fe80row5_col156\" class=\"data row5 col156\" >nan</td>\n",
       "                        <td id=\"T_179caabc_117e_11ea_b383_80000208fe80row5_col157\" class=\"data row5 col157\" >nan</td>\n",
       "                        <td id=\"T_179caabc_117e_11ea_b383_80000208fe80row5_col158\" class=\"data row5 col158\" >nan</td>\n",
       "                        <td id=\"T_179caabc_117e_11ea_b383_80000208fe80row5_col159\" class=\"data row5 col159\" >nan</td>\n",
       "                        <td id=\"T_179caabc_117e_11ea_b383_80000208fe80row5_col160\" class=\"data row5 col160\" >nan</td>\n",
       "                        <td id=\"T_179caabc_117e_11ea_b383_80000208fe80row5_col161\" class=\"data row5 col161\" >nan</td>\n",
       "                        <td id=\"T_179caabc_117e_11ea_b383_80000208fe80row5_col162\" class=\"data row5 col162\" >nan</td>\n",
       "                        <td id=\"T_179caabc_117e_11ea_b383_80000208fe80row5_col163\" class=\"data row5 col163\" >nan</td>\n",
       "                        <td id=\"T_179caabc_117e_11ea_b383_80000208fe80row5_col164\" class=\"data row5 col164\" >nan</td>\n",
       "                        <td id=\"T_179caabc_117e_11ea_b383_80000208fe80row5_col165\" class=\"data row5 col165\" >nan</td>\n",
       "                        <td id=\"T_179caabc_117e_11ea_b383_80000208fe80row5_col166\" class=\"data row5 col166\" >nan</td>\n",
       "                        <td id=\"T_179caabc_117e_11ea_b383_80000208fe80row5_col167\" class=\"data row5 col167\" >nan</td>\n",
       "                        <td id=\"T_179caabc_117e_11ea_b383_80000208fe80row5_col168\" class=\"data row5 col168\" >nan</td>\n",
       "                        <td id=\"T_179caabc_117e_11ea_b383_80000208fe80row5_col169\" class=\"data row5 col169\" >nan</td>\n",
       "                        <td id=\"T_179caabc_117e_11ea_b383_80000208fe80row5_col170\" class=\"data row5 col170\" >nan</td>\n",
       "                        <td id=\"T_179caabc_117e_11ea_b383_80000208fe80row5_col171\" class=\"data row5 col171\" >nan</td>\n",
       "                        <td id=\"T_179caabc_117e_11ea_b383_80000208fe80row5_col172\" class=\"data row5 col172\" >nan</td>\n",
       "                        <td id=\"T_179caabc_117e_11ea_b383_80000208fe80row5_col173\" class=\"data row5 col173\" >nan</td>\n",
       "                        <td id=\"T_179caabc_117e_11ea_b383_80000208fe80row5_col174\" class=\"data row5 col174\" >nan</td>\n",
       "                        <td id=\"T_179caabc_117e_11ea_b383_80000208fe80row5_col175\" class=\"data row5 col175\" >nan</td>\n",
       "                        <td id=\"T_179caabc_117e_11ea_b383_80000208fe80row5_col176\" class=\"data row5 col176\" >nan</td>\n",
       "                        <td id=\"T_179caabc_117e_11ea_b383_80000208fe80row5_col177\" class=\"data row5 col177\" >nan</td>\n",
       "                        <td id=\"T_179caabc_117e_11ea_b383_80000208fe80row5_col178\" class=\"data row5 col178\" >nan</td>\n",
       "                        <td id=\"T_179caabc_117e_11ea_b383_80000208fe80row5_col179\" class=\"data row5 col179\" >nan</td>\n",
       "                        <td id=\"T_179caabc_117e_11ea_b383_80000208fe80row5_col180\" class=\"data row5 col180\" >nan</td>\n",
       "                        <td id=\"T_179caabc_117e_11ea_b383_80000208fe80row5_col181\" class=\"data row5 col181\" >nan</td>\n",
       "                        <td id=\"T_179caabc_117e_11ea_b383_80000208fe80row5_col182\" class=\"data row5 col182\" >nan</td>\n",
       "                        <td id=\"T_179caabc_117e_11ea_b383_80000208fe80row5_col183\" class=\"data row5 col183\" >nan</td>\n",
       "                        <td id=\"T_179caabc_117e_11ea_b383_80000208fe80row5_col184\" class=\"data row5 col184\" >nan</td>\n",
       "                        <td id=\"T_179caabc_117e_11ea_b383_80000208fe80row5_col185\" class=\"data row5 col185\" >nan</td>\n",
       "                        <td id=\"T_179caabc_117e_11ea_b383_80000208fe80row5_col186\" class=\"data row5 col186\" >nan</td>\n",
       "                        <td id=\"T_179caabc_117e_11ea_b383_80000208fe80row5_col187\" class=\"data row5 col187\" >nan</td>\n",
       "                        <td id=\"T_179caabc_117e_11ea_b383_80000208fe80row5_col188\" class=\"data row5 col188\" >nan</td>\n",
       "                        <td id=\"T_179caabc_117e_11ea_b383_80000208fe80row5_col189\" class=\"data row5 col189\" >nan</td>\n",
       "                        <td id=\"T_179caabc_117e_11ea_b383_80000208fe80row5_col190\" class=\"data row5 col190\" >nan</td>\n",
       "                        <td id=\"T_179caabc_117e_11ea_b383_80000208fe80row5_col191\" class=\"data row5 col191\" >nan</td>\n",
       "                        <td id=\"T_179caabc_117e_11ea_b383_80000208fe80row5_col192\" class=\"data row5 col192\" >nan</td>\n",
       "                        <td id=\"T_179caabc_117e_11ea_b383_80000208fe80row5_col193\" class=\"data row5 col193\" >nan</td>\n",
       "                        <td id=\"T_179caabc_117e_11ea_b383_80000208fe80row5_col194\" class=\"data row5 col194\" >nan</td>\n",
       "                        <td id=\"T_179caabc_117e_11ea_b383_80000208fe80row5_col195\" class=\"data row5 col195\" >nan</td>\n",
       "                        <td id=\"T_179caabc_117e_11ea_b383_80000208fe80row5_col196\" class=\"data row5 col196\" >nan</td>\n",
       "                        <td id=\"T_179caabc_117e_11ea_b383_80000208fe80row5_col197\" class=\"data row5 col197\" >nan</td>\n",
       "                        <td id=\"T_179caabc_117e_11ea_b383_80000208fe80row5_col198\" class=\"data row5 col198\" >nan</td>\n",
       "                        <td id=\"T_179caabc_117e_11ea_b383_80000208fe80row5_col199\" class=\"data row5 col199\" >nan</td>\n",
       "                        <td id=\"T_179caabc_117e_11ea_b383_80000208fe80row5_col200\" class=\"data row5 col200\" >nan</td>\n",
       "                        <td id=\"T_179caabc_117e_11ea_b383_80000208fe80row5_col201\" class=\"data row5 col201\" >nan</td>\n",
       "                        <td id=\"T_179caabc_117e_11ea_b383_80000208fe80row5_col202\" class=\"data row5 col202\" >nan</td>\n",
       "                        <td id=\"T_179caabc_117e_11ea_b383_80000208fe80row5_col203\" class=\"data row5 col203\" >nan</td>\n",
       "                        <td id=\"T_179caabc_117e_11ea_b383_80000208fe80row5_col204\" class=\"data row5 col204\" >nan</td>\n",
       "                        <td id=\"T_179caabc_117e_11ea_b383_80000208fe80row5_col205\" class=\"data row5 col205\" >nan</td>\n",
       "                        <td id=\"T_179caabc_117e_11ea_b383_80000208fe80row5_col206\" class=\"data row5 col206\" >nan</td>\n",
       "                        <td id=\"T_179caabc_117e_11ea_b383_80000208fe80row5_col207\" class=\"data row5 col207\" >nan</td>\n",
       "                        <td id=\"T_179caabc_117e_11ea_b383_80000208fe80row5_col208\" class=\"data row5 col208\" >nan</td>\n",
       "                        <td id=\"T_179caabc_117e_11ea_b383_80000208fe80row5_col209\" class=\"data row5 col209\" >nan</td>\n",
       "                        <td id=\"T_179caabc_117e_11ea_b383_80000208fe80row5_col210\" class=\"data row5 col210\" >nan</td>\n",
       "                        <td id=\"T_179caabc_117e_11ea_b383_80000208fe80row5_col211\" class=\"data row5 col211\" >nan</td>\n",
       "                        <td id=\"T_179caabc_117e_11ea_b383_80000208fe80row5_col212\" class=\"data row5 col212\" >nan</td>\n",
       "                        <td id=\"T_179caabc_117e_11ea_b383_80000208fe80row5_col213\" class=\"data row5 col213\" >nan</td>\n",
       "                        <td id=\"T_179caabc_117e_11ea_b383_80000208fe80row5_col214\" class=\"data row5 col214\" >nan</td>\n",
       "                        <td id=\"T_179caabc_117e_11ea_b383_80000208fe80row5_col215\" class=\"data row5 col215\" >nan</td>\n",
       "                        <td id=\"T_179caabc_117e_11ea_b383_80000208fe80row5_col216\" class=\"data row5 col216\" >nan</td>\n",
       "                        <td id=\"T_179caabc_117e_11ea_b383_80000208fe80row5_col217\" class=\"data row5 col217\" >nan</td>\n",
       "                        <td id=\"T_179caabc_117e_11ea_b383_80000208fe80row5_col218\" class=\"data row5 col218\" >nan</td>\n",
       "                        <td id=\"T_179caabc_117e_11ea_b383_80000208fe80row5_col219\" class=\"data row5 col219\" >nan</td>\n",
       "                        <td id=\"T_179caabc_117e_11ea_b383_80000208fe80row5_col220\" class=\"data row5 col220\" >nan</td>\n",
       "                        <td id=\"T_179caabc_117e_11ea_b383_80000208fe80row5_col221\" class=\"data row5 col221\" >nan</td>\n",
       "                        <td id=\"T_179caabc_117e_11ea_b383_80000208fe80row5_col222\" class=\"data row5 col222\" >nan</td>\n",
       "                        <td id=\"T_179caabc_117e_11ea_b383_80000208fe80row5_col223\" class=\"data row5 col223\" >nan</td>\n",
       "                        <td id=\"T_179caabc_117e_11ea_b383_80000208fe80row5_col224\" class=\"data row5 col224\" >nan</td>\n",
       "                        <td id=\"T_179caabc_117e_11ea_b383_80000208fe80row5_col225\" class=\"data row5 col225\" >nan</td>\n",
       "                        <td id=\"T_179caabc_117e_11ea_b383_80000208fe80row5_col226\" class=\"data row5 col226\" >nan</td>\n",
       "                        <td id=\"T_179caabc_117e_11ea_b383_80000208fe80row5_col227\" class=\"data row5 col227\" >nan</td>\n",
       "                        <td id=\"T_179caabc_117e_11ea_b383_80000208fe80row5_col228\" class=\"data row5 col228\" >nan</td>\n",
       "                        <td id=\"T_179caabc_117e_11ea_b383_80000208fe80row5_col229\" class=\"data row5 col229\" >nan</td>\n",
       "                        <td id=\"T_179caabc_117e_11ea_b383_80000208fe80row5_col230\" class=\"data row5 col230\" >nan</td>\n",
       "                        <td id=\"T_179caabc_117e_11ea_b383_80000208fe80row5_col231\" class=\"data row5 col231\" >nan</td>\n",
       "                        <td id=\"T_179caabc_117e_11ea_b383_80000208fe80row5_col232\" class=\"data row5 col232\" >nan</td>\n",
       "                        <td id=\"T_179caabc_117e_11ea_b383_80000208fe80row5_col233\" class=\"data row5 col233\" >nan</td>\n",
       "                        <td id=\"T_179caabc_117e_11ea_b383_80000208fe80row5_col234\" class=\"data row5 col234\" >nan</td>\n",
       "                        <td id=\"T_179caabc_117e_11ea_b383_80000208fe80row5_col235\" class=\"data row5 col235\" >nan</td>\n",
       "                        <td id=\"T_179caabc_117e_11ea_b383_80000208fe80row5_col236\" class=\"data row5 col236\" >nan</td>\n",
       "                        <td id=\"T_179caabc_117e_11ea_b383_80000208fe80row5_col237\" class=\"data row5 col237\" >nan</td>\n",
       "                        <td id=\"T_179caabc_117e_11ea_b383_80000208fe80row5_col238\" class=\"data row5 col238\" >nan</td>\n",
       "                        <td id=\"T_179caabc_117e_11ea_b383_80000208fe80row5_col239\" class=\"data row5 col239\" >nan</td>\n",
       "                        <td id=\"T_179caabc_117e_11ea_b383_80000208fe80row5_col240\" class=\"data row5 col240\" >nan</td>\n",
       "                        <td id=\"T_179caabc_117e_11ea_b383_80000208fe80row5_col241\" class=\"data row5 col241\" >nan</td>\n",
       "                        <td id=\"T_179caabc_117e_11ea_b383_80000208fe80row5_col242\" class=\"data row5 col242\" >nan</td>\n",
       "                        <td id=\"T_179caabc_117e_11ea_b383_80000208fe80row5_col243\" class=\"data row5 col243\" >nan</td>\n",
       "                        <td id=\"T_179caabc_117e_11ea_b383_80000208fe80row5_col244\" class=\"data row5 col244\" >nan</td>\n",
       "                        <td id=\"T_179caabc_117e_11ea_b383_80000208fe80row5_col245\" class=\"data row5 col245\" >nan</td>\n",
       "                        <td id=\"T_179caabc_117e_11ea_b383_80000208fe80row5_col246\" class=\"data row5 col246\" >nan</td>\n",
       "                        <td id=\"T_179caabc_117e_11ea_b383_80000208fe80row5_col247\" class=\"data row5 col247\" >nan</td>\n",
       "                        <td id=\"T_179caabc_117e_11ea_b383_80000208fe80row5_col248\" class=\"data row5 col248\" >nan</td>\n",
       "                        <td id=\"T_179caabc_117e_11ea_b383_80000208fe80row5_col249\" class=\"data row5 col249\" >nan</td>\n",
       "                        <td id=\"T_179caabc_117e_11ea_b383_80000208fe80row5_col250\" class=\"data row5 col250\" >nan</td>\n",
       "                        <td id=\"T_179caabc_117e_11ea_b383_80000208fe80row5_col251\" class=\"data row5 col251\" >nan</td>\n",
       "                        <td id=\"T_179caabc_117e_11ea_b383_80000208fe80row5_col252\" class=\"data row5 col252\" >nan</td>\n",
       "                        <td id=\"T_179caabc_117e_11ea_b383_80000208fe80row5_col253\" class=\"data row5 col253\" >nan</td>\n",
       "                        <td id=\"T_179caabc_117e_11ea_b383_80000208fe80row5_col254\" class=\"data row5 col254\" >nan</td>\n",
       "                        <td id=\"T_179caabc_117e_11ea_b383_80000208fe80row5_col255\" class=\"data row5 col255\" >nan</td>\n",
       "                        <td id=\"T_179caabc_117e_11ea_b383_80000208fe80row5_col256\" class=\"data row5 col256\" >nan</td>\n",
       "                        <td id=\"T_179caabc_117e_11ea_b383_80000208fe80row5_col257\" class=\"data row5 col257\" >nan</td>\n",
       "                        <td id=\"T_179caabc_117e_11ea_b383_80000208fe80row5_col258\" class=\"data row5 col258\" >nan</td>\n",
       "                        <td id=\"T_179caabc_117e_11ea_b383_80000208fe80row5_col259\" class=\"data row5 col259\" >nan</td>\n",
       "                        <td id=\"T_179caabc_117e_11ea_b383_80000208fe80row5_col260\" class=\"data row5 col260\" >nan</td>\n",
       "                        <td id=\"T_179caabc_117e_11ea_b383_80000208fe80row5_col261\" class=\"data row5 col261\" >nan</td>\n",
       "                        <td id=\"T_179caabc_117e_11ea_b383_80000208fe80row5_col262\" class=\"data row5 col262\" >nan</td>\n",
       "                        <td id=\"T_179caabc_117e_11ea_b383_80000208fe80row5_col263\" class=\"data row5 col263\" >nan</td>\n",
       "                        <td id=\"T_179caabc_117e_11ea_b383_80000208fe80row5_col264\" class=\"data row5 col264\" >nan</td>\n",
       "                        <td id=\"T_179caabc_117e_11ea_b383_80000208fe80row5_col265\" class=\"data row5 col265\" >nan</td>\n",
       "                        <td id=\"T_179caabc_117e_11ea_b383_80000208fe80row5_col266\" class=\"data row5 col266\" >nan</td>\n",
       "                        <td id=\"T_179caabc_117e_11ea_b383_80000208fe80row5_col267\" class=\"data row5 col267\" >nan</td>\n",
       "                        <td id=\"T_179caabc_117e_11ea_b383_80000208fe80row5_col268\" class=\"data row5 col268\" >nan</td>\n",
       "                        <td id=\"T_179caabc_117e_11ea_b383_80000208fe80row5_col269\" class=\"data row5 col269\" >nan</td>\n",
       "                        <td id=\"T_179caabc_117e_11ea_b383_80000208fe80row5_col270\" class=\"data row5 col270\" >nan</td>\n",
       "                        <td id=\"T_179caabc_117e_11ea_b383_80000208fe80row5_col271\" class=\"data row5 col271\" >nan</td>\n",
       "                        <td id=\"T_179caabc_117e_11ea_b383_80000208fe80row5_col272\" class=\"data row5 col272\" >nan</td>\n",
       "                        <td id=\"T_179caabc_117e_11ea_b383_80000208fe80row5_col273\" class=\"data row5 col273\" >nan</td>\n",
       "                        <td id=\"T_179caabc_117e_11ea_b383_80000208fe80row5_col274\" class=\"data row5 col274\" >nan</td>\n",
       "                        <td id=\"T_179caabc_117e_11ea_b383_80000208fe80row5_col275\" class=\"data row5 col275\" >nan</td>\n",
       "                        <td id=\"T_179caabc_117e_11ea_b383_80000208fe80row5_col276\" class=\"data row5 col276\" >nan</td>\n",
       "                        <td id=\"T_179caabc_117e_11ea_b383_80000208fe80row5_col277\" class=\"data row5 col277\" >nan</td>\n",
       "                        <td id=\"T_179caabc_117e_11ea_b383_80000208fe80row5_col278\" class=\"data row5 col278\" >nan</td>\n",
       "                        <td id=\"T_179caabc_117e_11ea_b383_80000208fe80row5_col279\" class=\"data row5 col279\" >nan</td>\n",
       "                        <td id=\"T_179caabc_117e_11ea_b383_80000208fe80row5_col280\" class=\"data row5 col280\" >nan</td>\n",
       "                        <td id=\"T_179caabc_117e_11ea_b383_80000208fe80row5_col281\" class=\"data row5 col281\" >nan</td>\n",
       "                        <td id=\"T_179caabc_117e_11ea_b383_80000208fe80row5_col282\" class=\"data row5 col282\" >nan</td>\n",
       "                        <td id=\"T_179caabc_117e_11ea_b383_80000208fe80row5_col283\" class=\"data row5 col283\" >nan</td>\n",
       "                        <td id=\"T_179caabc_117e_11ea_b383_80000208fe80row5_col284\" class=\"data row5 col284\" >nan</td>\n",
       "                        <td id=\"T_179caabc_117e_11ea_b383_80000208fe80row5_col285\" class=\"data row5 col285\" >nan</td>\n",
       "                        <td id=\"T_179caabc_117e_11ea_b383_80000208fe80row5_col286\" class=\"data row5 col286\" >nan</td>\n",
       "                        <td id=\"T_179caabc_117e_11ea_b383_80000208fe80row5_col287\" class=\"data row5 col287\" >nan</td>\n",
       "                        <td id=\"T_179caabc_117e_11ea_b383_80000208fe80row5_col288\" class=\"data row5 col288\" >nan</td>\n",
       "                        <td id=\"T_179caabc_117e_11ea_b383_80000208fe80row5_col289\" class=\"data row5 col289\" >nan</td>\n",
       "                        <td id=\"T_179caabc_117e_11ea_b383_80000208fe80row5_col290\" class=\"data row5 col290\" >nan</td>\n",
       "                        <td id=\"T_179caabc_117e_11ea_b383_80000208fe80row5_col291\" class=\"data row5 col291\" >nan</td>\n",
       "                        <td id=\"T_179caabc_117e_11ea_b383_80000208fe80row5_col292\" class=\"data row5 col292\" >nan</td>\n",
       "                        <td id=\"T_179caabc_117e_11ea_b383_80000208fe80row5_col293\" class=\"data row5 col293\" >nan</td>\n",
       "                        <td id=\"T_179caabc_117e_11ea_b383_80000208fe80row5_col294\" class=\"data row5 col294\" >nan</td>\n",
       "                        <td id=\"T_179caabc_117e_11ea_b383_80000208fe80row5_col295\" class=\"data row5 col295\" >nan</td>\n",
       "                        <td id=\"T_179caabc_117e_11ea_b383_80000208fe80row5_col296\" class=\"data row5 col296\" >nan</td>\n",
       "                        <td id=\"T_179caabc_117e_11ea_b383_80000208fe80row5_col297\" class=\"data row5 col297\" >nan</td>\n",
       "                        <td id=\"T_179caabc_117e_11ea_b383_80000208fe80row5_col298\" class=\"data row5 col298\" >nan</td>\n",
       "                        <td id=\"T_179caabc_117e_11ea_b383_80000208fe80row5_col299\" class=\"data row5 col299\" >nan</td>\n",
       "                        <td id=\"T_179caabc_117e_11ea_b383_80000208fe80row5_col300\" class=\"data row5 col300\" >nan</td>\n",
       "                        <td id=\"T_179caabc_117e_11ea_b383_80000208fe80row5_col301\" class=\"data row5 col301\" >nan</td>\n",
       "                        <td id=\"T_179caabc_117e_11ea_b383_80000208fe80row5_col302\" class=\"data row5 col302\" >nan</td>\n",
       "                        <td id=\"T_179caabc_117e_11ea_b383_80000208fe80row5_col303\" class=\"data row5 col303\" >nan</td>\n",
       "                        <td id=\"T_179caabc_117e_11ea_b383_80000208fe80row5_col304\" class=\"data row5 col304\" >nan</td>\n",
       "                        <td id=\"T_179caabc_117e_11ea_b383_80000208fe80row5_col305\" class=\"data row5 col305\" >nan</td>\n",
       "                        <td id=\"T_179caabc_117e_11ea_b383_80000208fe80row5_col306\" class=\"data row5 col306\" >nan</td>\n",
       "                        <td id=\"T_179caabc_117e_11ea_b383_80000208fe80row5_col307\" class=\"data row5 col307\" >nan</td>\n",
       "                        <td id=\"T_179caabc_117e_11ea_b383_80000208fe80row5_col308\" class=\"data row5 col308\" >nan</td>\n",
       "                        <td id=\"T_179caabc_117e_11ea_b383_80000208fe80row5_col309\" class=\"data row5 col309\" >nan</td>\n",
       "                        <td id=\"T_179caabc_117e_11ea_b383_80000208fe80row5_col310\" class=\"data row5 col310\" >nan</td>\n",
       "                        <td id=\"T_179caabc_117e_11ea_b383_80000208fe80row5_col311\" class=\"data row5 col311\" >nan</td>\n",
       "                        <td id=\"T_179caabc_117e_11ea_b383_80000208fe80row5_col312\" class=\"data row5 col312\" >nan</td>\n",
       "                        <td id=\"T_179caabc_117e_11ea_b383_80000208fe80row5_col313\" class=\"data row5 col313\" >nan</td>\n",
       "                        <td id=\"T_179caabc_117e_11ea_b383_80000208fe80row5_col314\" class=\"data row5 col314\" >nan</td>\n",
       "                        <td id=\"T_179caabc_117e_11ea_b383_80000208fe80row5_col315\" class=\"data row5 col315\" >nan</td>\n",
       "                        <td id=\"T_179caabc_117e_11ea_b383_80000208fe80row5_col316\" class=\"data row5 col316\" >nan</td>\n",
       "                        <td id=\"T_179caabc_117e_11ea_b383_80000208fe80row5_col317\" class=\"data row5 col317\" >nan</td>\n",
       "                        <td id=\"T_179caabc_117e_11ea_b383_80000208fe80row5_col318\" class=\"data row5 col318\" >nan</td>\n",
       "                        <td id=\"T_179caabc_117e_11ea_b383_80000208fe80row5_col319\" class=\"data row5 col319\" >nan</td>\n",
       "                        <td id=\"T_179caabc_117e_11ea_b383_80000208fe80row5_col320\" class=\"data row5 col320\" >nan</td>\n",
       "                        <td id=\"T_179caabc_117e_11ea_b383_80000208fe80row5_col321\" class=\"data row5 col321\" >nan</td>\n",
       "                        <td id=\"T_179caabc_117e_11ea_b383_80000208fe80row5_col322\" class=\"data row5 col322\" >nan</td>\n",
       "                        <td id=\"T_179caabc_117e_11ea_b383_80000208fe80row5_col323\" class=\"data row5 col323\" >nan</td>\n",
       "                        <td id=\"T_179caabc_117e_11ea_b383_80000208fe80row5_col324\" class=\"data row5 col324\" >nan</td>\n",
       "                        <td id=\"T_179caabc_117e_11ea_b383_80000208fe80row5_col325\" class=\"data row5 col325\" >nan</td>\n",
       "                        <td id=\"T_179caabc_117e_11ea_b383_80000208fe80row5_col326\" class=\"data row5 col326\" >nan</td>\n",
       "                        <td id=\"T_179caabc_117e_11ea_b383_80000208fe80row5_col327\" class=\"data row5 col327\" >nan</td>\n",
       "                        <td id=\"T_179caabc_117e_11ea_b383_80000208fe80row5_col328\" class=\"data row5 col328\" >nan</td>\n",
       "                        <td id=\"T_179caabc_117e_11ea_b383_80000208fe80row5_col329\" class=\"data row5 col329\" >nan</td>\n",
       "                        <td id=\"T_179caabc_117e_11ea_b383_80000208fe80row5_col330\" class=\"data row5 col330\" >nan</td>\n",
       "                        <td id=\"T_179caabc_117e_11ea_b383_80000208fe80row5_col331\" class=\"data row5 col331\" >nan</td>\n",
       "                        <td id=\"T_179caabc_117e_11ea_b383_80000208fe80row5_col332\" class=\"data row5 col332\" >nan</td>\n",
       "                        <td id=\"T_179caabc_117e_11ea_b383_80000208fe80row5_col333\" class=\"data row5 col333\" >nan</td>\n",
       "                        <td id=\"T_179caabc_117e_11ea_b383_80000208fe80row5_col334\" class=\"data row5 col334\" >nan</td>\n",
       "                        <td id=\"T_179caabc_117e_11ea_b383_80000208fe80row5_col335\" class=\"data row5 col335\" >nan</td>\n",
       "                        <td id=\"T_179caabc_117e_11ea_b383_80000208fe80row5_col336\" class=\"data row5 col336\" >nan</td>\n",
       "                        <td id=\"T_179caabc_117e_11ea_b383_80000208fe80row5_col337\" class=\"data row5 col337\" >nan</td>\n",
       "                        <td id=\"T_179caabc_117e_11ea_b383_80000208fe80row5_col338\" class=\"data row5 col338\" >nan</td>\n",
       "                        <td id=\"T_179caabc_117e_11ea_b383_80000208fe80row5_col339\" class=\"data row5 col339\" >nan</td>\n",
       "                        <td id=\"T_179caabc_117e_11ea_b383_80000208fe80row5_col340\" class=\"data row5 col340\" >nan</td>\n",
       "                        <td id=\"T_179caabc_117e_11ea_b383_80000208fe80row5_col341\" class=\"data row5 col341\" >nan</td>\n",
       "                        <td id=\"T_179caabc_117e_11ea_b383_80000208fe80row5_col342\" class=\"data row5 col342\" >nan</td>\n",
       "                        <td id=\"T_179caabc_117e_11ea_b383_80000208fe80row5_col343\" class=\"data row5 col343\" >nan</td>\n",
       "                        <td id=\"T_179caabc_117e_11ea_b383_80000208fe80row5_col344\" class=\"data row5 col344\" >nan</td>\n",
       "                        <td id=\"T_179caabc_117e_11ea_b383_80000208fe80row5_col345\" class=\"data row5 col345\" >nan</td>\n",
       "                        <td id=\"T_179caabc_117e_11ea_b383_80000208fe80row5_col346\" class=\"data row5 col346\" >nan</td>\n",
       "                        <td id=\"T_179caabc_117e_11ea_b383_80000208fe80row5_col347\" class=\"data row5 col347\" >nan</td>\n",
       "                        <td id=\"T_179caabc_117e_11ea_b383_80000208fe80row5_col348\" class=\"data row5 col348\" >nan</td>\n",
       "                        <td id=\"T_179caabc_117e_11ea_b383_80000208fe80row5_col349\" class=\"data row5 col349\" >nan</td>\n",
       "                        <td id=\"T_179caabc_117e_11ea_b383_80000208fe80row5_col350\" class=\"data row5 col350\" >nan</td>\n",
       "                        <td id=\"T_179caabc_117e_11ea_b383_80000208fe80row5_col351\" class=\"data row5 col351\" >nan</td>\n",
       "                        <td id=\"T_179caabc_117e_11ea_b383_80000208fe80row5_col352\" class=\"data row5 col352\" >nan</td>\n",
       "                        <td id=\"T_179caabc_117e_11ea_b383_80000208fe80row5_col353\" class=\"data row5 col353\" >nan</td>\n",
       "                        <td id=\"T_179caabc_117e_11ea_b383_80000208fe80row5_col354\" class=\"data row5 col354\" >nan</td>\n",
       "                        <td id=\"T_179caabc_117e_11ea_b383_80000208fe80row5_col355\" class=\"data row5 col355\" >nan</td>\n",
       "                        <td id=\"T_179caabc_117e_11ea_b383_80000208fe80row5_col356\" class=\"data row5 col356\" >nan</td>\n",
       "                        <td id=\"T_179caabc_117e_11ea_b383_80000208fe80row5_col357\" class=\"data row5 col357\" >nan</td>\n",
       "                        <td id=\"T_179caabc_117e_11ea_b383_80000208fe80row5_col358\" class=\"data row5 col358\" >nan</td>\n",
       "                        <td id=\"T_179caabc_117e_11ea_b383_80000208fe80row5_col359\" class=\"data row5 col359\" >nan</td>\n",
       "                        <td id=\"T_179caabc_117e_11ea_b383_80000208fe80row5_col360\" class=\"data row5 col360\" >nan</td>\n",
       "                        <td id=\"T_179caabc_117e_11ea_b383_80000208fe80row5_col361\" class=\"data row5 col361\" >nan</td>\n",
       "                        <td id=\"T_179caabc_117e_11ea_b383_80000208fe80row5_col362\" class=\"data row5 col362\" >nan</td>\n",
       "                        <td id=\"T_179caabc_117e_11ea_b383_80000208fe80row5_col363\" class=\"data row5 col363\" >nan</td>\n",
       "                        <td id=\"T_179caabc_117e_11ea_b383_80000208fe80row5_col364\" class=\"data row5 col364\" >nan</td>\n",
       "                        <td id=\"T_179caabc_117e_11ea_b383_80000208fe80row5_col365\" class=\"data row5 col365\" >nan</td>\n",
       "                        <td id=\"T_179caabc_117e_11ea_b383_80000208fe80row5_col366\" class=\"data row5 col366\" >nan</td>\n",
       "                        <td id=\"T_179caabc_117e_11ea_b383_80000208fe80row5_col367\" class=\"data row5 col367\" >nan</td>\n",
       "                        <td id=\"T_179caabc_117e_11ea_b383_80000208fe80row5_col368\" class=\"data row5 col368\" >nan</td>\n",
       "                        <td id=\"T_179caabc_117e_11ea_b383_80000208fe80row5_col369\" class=\"data row5 col369\" >nan</td>\n",
       "                        <td id=\"T_179caabc_117e_11ea_b383_80000208fe80row5_col370\" class=\"data row5 col370\" >nan</td>\n",
       "                        <td id=\"T_179caabc_117e_11ea_b383_80000208fe80row5_col371\" class=\"data row5 col371\" >nan</td>\n",
       "                        <td id=\"T_179caabc_117e_11ea_b383_80000208fe80row5_col372\" class=\"data row5 col372\" >nan</td>\n",
       "                        <td id=\"T_179caabc_117e_11ea_b383_80000208fe80row5_col373\" class=\"data row5 col373\" >nan</td>\n",
       "                        <td id=\"T_179caabc_117e_11ea_b383_80000208fe80row5_col374\" class=\"data row5 col374\" >nan</td>\n",
       "                        <td id=\"T_179caabc_117e_11ea_b383_80000208fe80row5_col375\" class=\"data row5 col375\" >nan</td>\n",
       "                        <td id=\"T_179caabc_117e_11ea_b383_80000208fe80row5_col376\" class=\"data row5 col376\" >nan</td>\n",
       "                        <td id=\"T_179caabc_117e_11ea_b383_80000208fe80row5_col377\" class=\"data row5 col377\" >nan</td>\n",
       "                        <td id=\"T_179caabc_117e_11ea_b383_80000208fe80row5_col378\" class=\"data row5 col378\" >nan</td>\n",
       "                        <td id=\"T_179caabc_117e_11ea_b383_80000208fe80row5_col379\" class=\"data row5 col379\" >nan</td>\n",
       "                        <td id=\"T_179caabc_117e_11ea_b383_80000208fe80row5_col380\" class=\"data row5 col380\" >nan</td>\n",
       "                        <td id=\"T_179caabc_117e_11ea_b383_80000208fe80row5_col381\" class=\"data row5 col381\" >nan</td>\n",
       "                        <td id=\"T_179caabc_117e_11ea_b383_80000208fe80row5_col382\" class=\"data row5 col382\" >nan</td>\n",
       "                        <td id=\"T_179caabc_117e_11ea_b383_80000208fe80row5_col383\" class=\"data row5 col383\" >nan</td>\n",
       "                        <td id=\"T_179caabc_117e_11ea_b383_80000208fe80row5_col384\" class=\"data row5 col384\" >nan</td>\n",
       "                        <td id=\"T_179caabc_117e_11ea_b383_80000208fe80row5_col385\" class=\"data row5 col385\" >nan</td>\n",
       "                        <td id=\"T_179caabc_117e_11ea_b383_80000208fe80row5_col386\" class=\"data row5 col386\" >nan</td>\n",
       "                        <td id=\"T_179caabc_117e_11ea_b383_80000208fe80row5_col387\" class=\"data row5 col387\" >nan</td>\n",
       "                        <td id=\"T_179caabc_117e_11ea_b383_80000208fe80row5_col388\" class=\"data row5 col388\" >nan</td>\n",
       "                        <td id=\"T_179caabc_117e_11ea_b383_80000208fe80row5_col389\" class=\"data row5 col389\" >nan</td>\n",
       "                        <td id=\"T_179caabc_117e_11ea_b383_80000208fe80row5_col390\" class=\"data row5 col390\" >nan</td>\n",
       "                        <td id=\"T_179caabc_117e_11ea_b383_80000208fe80row5_col391\" class=\"data row5 col391\" >nan</td>\n",
       "                        <td id=\"T_179caabc_117e_11ea_b383_80000208fe80row5_col392\" class=\"data row5 col392\" >nan</td>\n",
       "                        <td id=\"T_179caabc_117e_11ea_b383_80000208fe80row5_col393\" class=\"data row5 col393\" >nan</td>\n",
       "                        <td id=\"T_179caabc_117e_11ea_b383_80000208fe80row5_col394\" class=\"data row5 col394\" >nan</td>\n",
       "                        <td id=\"T_179caabc_117e_11ea_b383_80000208fe80row5_col395\" class=\"data row5 col395\" >nan</td>\n",
       "                        <td id=\"T_179caabc_117e_11ea_b383_80000208fe80row5_col396\" class=\"data row5 col396\" >nan</td>\n",
       "                        <td id=\"T_179caabc_117e_11ea_b383_80000208fe80row5_col397\" class=\"data row5 col397\" >nan</td>\n",
       "                        <td id=\"T_179caabc_117e_11ea_b383_80000208fe80row5_col398\" class=\"data row5 col398\" >nan</td>\n",
       "                        <td id=\"T_179caabc_117e_11ea_b383_80000208fe80row5_col399\" class=\"data row5 col399\" >nan</td>\n",
       "                        <td id=\"T_179caabc_117e_11ea_b383_80000208fe80row5_col400\" class=\"data row5 col400\" >nan</td>\n",
       "                        <td id=\"T_179caabc_117e_11ea_b383_80000208fe80row5_col401\" class=\"data row5 col401\" >nan</td>\n",
       "                        <td id=\"T_179caabc_117e_11ea_b383_80000208fe80row5_col402\" class=\"data row5 col402\" >nan</td>\n",
       "                        <td id=\"T_179caabc_117e_11ea_b383_80000208fe80row5_col403\" class=\"data row5 col403\" >nan</td>\n",
       "                        <td id=\"T_179caabc_117e_11ea_b383_80000208fe80row5_col404\" class=\"data row5 col404\" >nan</td>\n",
       "                        <td id=\"T_179caabc_117e_11ea_b383_80000208fe80row5_col405\" class=\"data row5 col405\" >nan</td>\n",
       "                        <td id=\"T_179caabc_117e_11ea_b383_80000208fe80row5_col406\" class=\"data row5 col406\" >nan</td>\n",
       "                        <td id=\"T_179caabc_117e_11ea_b383_80000208fe80row5_col407\" class=\"data row5 col407\" >nan</td>\n",
       "                        <td id=\"T_179caabc_117e_11ea_b383_80000208fe80row5_col408\" class=\"data row5 col408\" >nan</td>\n",
       "                        <td id=\"T_179caabc_117e_11ea_b383_80000208fe80row5_col409\" class=\"data row5 col409\" >nan</td>\n",
       "                        <td id=\"T_179caabc_117e_11ea_b383_80000208fe80row5_col410\" class=\"data row5 col410\" >nan</td>\n",
       "                        <td id=\"T_179caabc_117e_11ea_b383_80000208fe80row5_col411\" class=\"data row5 col411\" >nan</td>\n",
       "                        <td id=\"T_179caabc_117e_11ea_b383_80000208fe80row5_col412\" class=\"data row5 col412\" >nan</td>\n",
       "                        <td id=\"T_179caabc_117e_11ea_b383_80000208fe80row5_col413\" class=\"data row5 col413\" >nan</td>\n",
       "                        <td id=\"T_179caabc_117e_11ea_b383_80000208fe80row5_col414\" class=\"data row5 col414\" >nan</td>\n",
       "                        <td id=\"T_179caabc_117e_11ea_b383_80000208fe80row5_col415\" class=\"data row5 col415\" >nan</td>\n",
       "                        <td id=\"T_179caabc_117e_11ea_b383_80000208fe80row5_col416\" class=\"data row5 col416\" >nan</td>\n",
       "                        <td id=\"T_179caabc_117e_11ea_b383_80000208fe80row5_col417\" class=\"data row5 col417\" >nan</td>\n",
       "                        <td id=\"T_179caabc_117e_11ea_b383_80000208fe80row5_col418\" class=\"data row5 col418\" >nan</td>\n",
       "                        <td id=\"T_179caabc_117e_11ea_b383_80000208fe80row5_col419\" class=\"data row5 col419\" >nan</td>\n",
       "                        <td id=\"T_179caabc_117e_11ea_b383_80000208fe80row5_col420\" class=\"data row5 col420\" >nan</td>\n",
       "                        <td id=\"T_179caabc_117e_11ea_b383_80000208fe80row5_col421\" class=\"data row5 col421\" >nan</td>\n",
       "                        <td id=\"T_179caabc_117e_11ea_b383_80000208fe80row5_col422\" class=\"data row5 col422\" >nan</td>\n",
       "                        <td id=\"T_179caabc_117e_11ea_b383_80000208fe80row5_col423\" class=\"data row5 col423\" >nan</td>\n",
       "                        <td id=\"T_179caabc_117e_11ea_b383_80000208fe80row5_col424\" class=\"data row5 col424\" >nan</td>\n",
       "                        <td id=\"T_179caabc_117e_11ea_b383_80000208fe80row5_col425\" class=\"data row5 col425\" >nan</td>\n",
       "                        <td id=\"T_179caabc_117e_11ea_b383_80000208fe80row5_col426\" class=\"data row5 col426\" >nan</td>\n",
       "                        <td id=\"T_179caabc_117e_11ea_b383_80000208fe80row5_col427\" class=\"data row5 col427\" >nan</td>\n",
       "                        <td id=\"T_179caabc_117e_11ea_b383_80000208fe80row5_col428\" class=\"data row5 col428\" >nan</td>\n",
       "                        <td id=\"T_179caabc_117e_11ea_b383_80000208fe80row5_col429\" class=\"data row5 col429\" >nan</td>\n",
       "                        <td id=\"T_179caabc_117e_11ea_b383_80000208fe80row5_col430\" class=\"data row5 col430\" >nan</td>\n",
       "                        <td id=\"T_179caabc_117e_11ea_b383_80000208fe80row5_col431\" class=\"data row5 col431\" >nan</td>\n",
       "                        <td id=\"T_179caabc_117e_11ea_b383_80000208fe80row5_col432\" class=\"data row5 col432\" >nan</td>\n",
       "                        <td id=\"T_179caabc_117e_11ea_b383_80000208fe80row5_col433\" class=\"data row5 col433\" >nan</td>\n",
       "                        <td id=\"T_179caabc_117e_11ea_b383_80000208fe80row5_col434\" class=\"data row5 col434\" >nan</td>\n",
       "                        <td id=\"T_179caabc_117e_11ea_b383_80000208fe80row5_col435\" class=\"data row5 col435\" >nan</td>\n",
       "                        <td id=\"T_179caabc_117e_11ea_b383_80000208fe80row5_col436\" class=\"data row5 col436\" >nan</td>\n",
       "                        <td id=\"T_179caabc_117e_11ea_b383_80000208fe80row5_col437\" class=\"data row5 col437\" >nan</td>\n",
       "                        <td id=\"T_179caabc_117e_11ea_b383_80000208fe80row5_col438\" class=\"data row5 col438\" >nan</td>\n",
       "                        <td id=\"T_179caabc_117e_11ea_b383_80000208fe80row5_col439\" class=\"data row5 col439\" >nan</td>\n",
       "                        <td id=\"T_179caabc_117e_11ea_b383_80000208fe80row5_col440\" class=\"data row5 col440\" >nan</td>\n",
       "                        <td id=\"T_179caabc_117e_11ea_b383_80000208fe80row5_col441\" class=\"data row5 col441\" >nan</td>\n",
       "                        <td id=\"T_179caabc_117e_11ea_b383_80000208fe80row5_col442\" class=\"data row5 col442\" >nan</td>\n",
       "                        <td id=\"T_179caabc_117e_11ea_b383_80000208fe80row5_col443\" class=\"data row5 col443\" >nan</td>\n",
       "                        <td id=\"T_179caabc_117e_11ea_b383_80000208fe80row5_col444\" class=\"data row5 col444\" >nan</td>\n",
       "                        <td id=\"T_179caabc_117e_11ea_b383_80000208fe80row5_col445\" class=\"data row5 col445\" >nan</td>\n",
       "                        <td id=\"T_179caabc_117e_11ea_b383_80000208fe80row5_col446\" class=\"data row5 col446\" >nan</td>\n",
       "                        <td id=\"T_179caabc_117e_11ea_b383_80000208fe80row5_col447\" class=\"data row5 col447\" >nan</td>\n",
       "                        <td id=\"T_179caabc_117e_11ea_b383_80000208fe80row5_col448\" class=\"data row5 col448\" >nan</td>\n",
       "                        <td id=\"T_179caabc_117e_11ea_b383_80000208fe80row5_col449\" class=\"data row5 col449\" >nan</td>\n",
       "                        <td id=\"T_179caabc_117e_11ea_b383_80000208fe80row5_col450\" class=\"data row5 col450\" >nan</td>\n",
       "                        <td id=\"T_179caabc_117e_11ea_b383_80000208fe80row5_col451\" class=\"data row5 col451\" >nan</td>\n",
       "                        <td id=\"T_179caabc_117e_11ea_b383_80000208fe80row5_col452\" class=\"data row5 col452\" >nan</td>\n",
       "                        <td id=\"T_179caabc_117e_11ea_b383_80000208fe80row5_col453\" class=\"data row5 col453\" >nan</td>\n",
       "                        <td id=\"T_179caabc_117e_11ea_b383_80000208fe80row5_col454\" class=\"data row5 col454\" >nan</td>\n",
       "                        <td id=\"T_179caabc_117e_11ea_b383_80000208fe80row5_col455\" class=\"data row5 col455\" >nan</td>\n",
       "                        <td id=\"T_179caabc_117e_11ea_b383_80000208fe80row5_col456\" class=\"data row5 col456\" >nan</td>\n",
       "                        <td id=\"T_179caabc_117e_11ea_b383_80000208fe80row5_col457\" class=\"data row5 col457\" >nan</td>\n",
       "                        <td id=\"T_179caabc_117e_11ea_b383_80000208fe80row5_col458\" class=\"data row5 col458\" >nan</td>\n",
       "                        <td id=\"T_179caabc_117e_11ea_b383_80000208fe80row5_col459\" class=\"data row5 col459\" >nan</td>\n",
       "                        <td id=\"T_179caabc_117e_11ea_b383_80000208fe80row5_col460\" class=\"data row5 col460\" >nan</td>\n",
       "                        <td id=\"T_179caabc_117e_11ea_b383_80000208fe80row5_col461\" class=\"data row5 col461\" >nan</td>\n",
       "                        <td id=\"T_179caabc_117e_11ea_b383_80000208fe80row5_col462\" class=\"data row5 col462\" >nan</td>\n",
       "                        <td id=\"T_179caabc_117e_11ea_b383_80000208fe80row5_col463\" class=\"data row5 col463\" >nan</td>\n",
       "                        <td id=\"T_179caabc_117e_11ea_b383_80000208fe80row5_col464\" class=\"data row5 col464\" >nan</td>\n",
       "                        <td id=\"T_179caabc_117e_11ea_b383_80000208fe80row5_col465\" class=\"data row5 col465\" >nan</td>\n",
       "                        <td id=\"T_179caabc_117e_11ea_b383_80000208fe80row5_col466\" class=\"data row5 col466\" >nan</td>\n",
       "                        <td id=\"T_179caabc_117e_11ea_b383_80000208fe80row5_col467\" class=\"data row5 col467\" >nan</td>\n",
       "                        <td id=\"T_179caabc_117e_11ea_b383_80000208fe80row5_col468\" class=\"data row5 col468\" >nan</td>\n",
       "                        <td id=\"T_179caabc_117e_11ea_b383_80000208fe80row5_col469\" class=\"data row5 col469\" >nan</td>\n",
       "                        <td id=\"T_179caabc_117e_11ea_b383_80000208fe80row5_col470\" class=\"data row5 col470\" >nan</td>\n",
       "                        <td id=\"T_179caabc_117e_11ea_b383_80000208fe80row5_col471\" class=\"data row5 col471\" >nan</td>\n",
       "                        <td id=\"T_179caabc_117e_11ea_b383_80000208fe80row5_col472\" class=\"data row5 col472\" >nan</td>\n",
       "                        <td id=\"T_179caabc_117e_11ea_b383_80000208fe80row5_col473\" class=\"data row5 col473\" >nan</td>\n",
       "                        <td id=\"T_179caabc_117e_11ea_b383_80000208fe80row5_col474\" class=\"data row5 col474\" >nan</td>\n",
       "                        <td id=\"T_179caabc_117e_11ea_b383_80000208fe80row5_col475\" class=\"data row5 col475\" >nan</td>\n",
       "                        <td id=\"T_179caabc_117e_11ea_b383_80000208fe80row5_col476\" class=\"data row5 col476\" >nan</td>\n",
       "                        <td id=\"T_179caabc_117e_11ea_b383_80000208fe80row5_col477\" class=\"data row5 col477\" >nan</td>\n",
       "                        <td id=\"T_179caabc_117e_11ea_b383_80000208fe80row5_col478\" class=\"data row5 col478\" >nan</td>\n",
       "                        <td id=\"T_179caabc_117e_11ea_b383_80000208fe80row5_col479\" class=\"data row5 col479\" >nan</td>\n",
       "                        <td id=\"T_179caabc_117e_11ea_b383_80000208fe80row5_col480\" class=\"data row5 col480\" >nan</td>\n",
       "                        <td id=\"T_179caabc_117e_11ea_b383_80000208fe80row5_col481\" class=\"data row5 col481\" >nan</td>\n",
       "                        <td id=\"T_179caabc_117e_11ea_b383_80000208fe80row5_col482\" class=\"data row5 col482\" >nan</td>\n",
       "                        <td id=\"T_179caabc_117e_11ea_b383_80000208fe80row5_col483\" class=\"data row5 col483\" >nan</td>\n",
       "                        <td id=\"T_179caabc_117e_11ea_b383_80000208fe80row5_col484\" class=\"data row5 col484\" >nan</td>\n",
       "                        <td id=\"T_179caabc_117e_11ea_b383_80000208fe80row5_col485\" class=\"data row5 col485\" >nan</td>\n",
       "                        <td id=\"T_179caabc_117e_11ea_b383_80000208fe80row5_col486\" class=\"data row5 col486\" >nan</td>\n",
       "                        <td id=\"T_179caabc_117e_11ea_b383_80000208fe80row5_col487\" class=\"data row5 col487\" >nan</td>\n",
       "                        <td id=\"T_179caabc_117e_11ea_b383_80000208fe80row5_col488\" class=\"data row5 col488\" >nan</td>\n",
       "                        <td id=\"T_179caabc_117e_11ea_b383_80000208fe80row5_col489\" class=\"data row5 col489\" >nan</td>\n",
       "                        <td id=\"T_179caabc_117e_11ea_b383_80000208fe80row5_col490\" class=\"data row5 col490\" >nan</td>\n",
       "                        <td id=\"T_179caabc_117e_11ea_b383_80000208fe80row5_col491\" class=\"data row5 col491\" >nan</td>\n",
       "                        <td id=\"T_179caabc_117e_11ea_b383_80000208fe80row5_col492\" class=\"data row5 col492\" >nan</td>\n",
       "                        <td id=\"T_179caabc_117e_11ea_b383_80000208fe80row5_col493\" class=\"data row5 col493\" >nan</td>\n",
       "                        <td id=\"T_179caabc_117e_11ea_b383_80000208fe80row5_col494\" class=\"data row5 col494\" >nan</td>\n",
       "                        <td id=\"T_179caabc_117e_11ea_b383_80000208fe80row5_col495\" class=\"data row5 col495\" >nan</td>\n",
       "                        <td id=\"T_179caabc_117e_11ea_b383_80000208fe80row5_col496\" class=\"data row5 col496\" >nan</td>\n",
       "                        <td id=\"T_179caabc_117e_11ea_b383_80000208fe80row5_col497\" class=\"data row5 col497\" >nan</td>\n",
       "                        <td id=\"T_179caabc_117e_11ea_b383_80000208fe80row5_col498\" class=\"data row5 col498\" >nan</td>\n",
       "                        <td id=\"T_179caabc_117e_11ea_b383_80000208fe80row5_col499\" class=\"data row5 col499\" >nan</td>\n",
       "                        <td id=\"T_179caabc_117e_11ea_b383_80000208fe80row5_col500\" class=\"data row5 col500\" >nan</td>\n",
       "                        <td id=\"T_179caabc_117e_11ea_b383_80000208fe80row5_col501\" class=\"data row5 col501\" >nan</td>\n",
       "                        <td id=\"T_179caabc_117e_11ea_b383_80000208fe80row5_col502\" class=\"data row5 col502\" >nan</td>\n",
       "                        <td id=\"T_179caabc_117e_11ea_b383_80000208fe80row5_col503\" class=\"data row5 col503\" >nan</td>\n",
       "                        <td id=\"T_179caabc_117e_11ea_b383_80000208fe80row5_col504\" class=\"data row5 col504\" >nan</td>\n",
       "                        <td id=\"T_179caabc_117e_11ea_b383_80000208fe80row5_col505\" class=\"data row5 col505\" >nan</td>\n",
       "                        <td id=\"T_179caabc_117e_11ea_b383_80000208fe80row5_col506\" class=\"data row5 col506\" >nan</td>\n",
       "                        <td id=\"T_179caabc_117e_11ea_b383_80000208fe80row5_col507\" class=\"data row5 col507\" >nan</td>\n",
       "                        <td id=\"T_179caabc_117e_11ea_b383_80000208fe80row5_col508\" class=\"data row5 col508\" >nan</td>\n",
       "                        <td id=\"T_179caabc_117e_11ea_b383_80000208fe80row5_col509\" class=\"data row5 col509\" >nan</td>\n",
       "                        <td id=\"T_179caabc_117e_11ea_b383_80000208fe80row5_col510\" class=\"data row5 col510\" >nan</td>\n",
       "                        <td id=\"T_179caabc_117e_11ea_b383_80000208fe80row5_col511\" class=\"data row5 col511\" >nan</td>\n",
       "                        <td id=\"T_179caabc_117e_11ea_b383_80000208fe80row5_col512\" class=\"data row5 col512\" >nan</td>\n",
       "                        <td id=\"T_179caabc_117e_11ea_b383_80000208fe80row5_col513\" class=\"data row5 col513\" >nan</td>\n",
       "                        <td id=\"T_179caabc_117e_11ea_b383_80000208fe80row5_col514\" class=\"data row5 col514\" >nan</td>\n",
       "                        <td id=\"T_179caabc_117e_11ea_b383_80000208fe80row5_col515\" class=\"data row5 col515\" >nan</td>\n",
       "                        <td id=\"T_179caabc_117e_11ea_b383_80000208fe80row5_col516\" class=\"data row5 col516\" >nan</td>\n",
       "                        <td id=\"T_179caabc_117e_11ea_b383_80000208fe80row5_col517\" class=\"data row5 col517\" >nan</td>\n",
       "                        <td id=\"T_179caabc_117e_11ea_b383_80000208fe80row5_col518\" class=\"data row5 col518\" >nan</td>\n",
       "                        <td id=\"T_179caabc_117e_11ea_b383_80000208fe80row5_col519\" class=\"data row5 col519\" >nan</td>\n",
       "                        <td id=\"T_179caabc_117e_11ea_b383_80000208fe80row5_col520\" class=\"data row5 col520\" >nan</td>\n",
       "                        <td id=\"T_179caabc_117e_11ea_b383_80000208fe80row5_col521\" class=\"data row5 col521\" >nan</td>\n",
       "                        <td id=\"T_179caabc_117e_11ea_b383_80000208fe80row5_col522\" class=\"data row5 col522\" >nan</td>\n",
       "                        <td id=\"T_179caabc_117e_11ea_b383_80000208fe80row5_col523\" class=\"data row5 col523\" >nan</td>\n",
       "                        <td id=\"T_179caabc_117e_11ea_b383_80000208fe80row5_col524\" class=\"data row5 col524\" >nan</td>\n",
       "                        <td id=\"T_179caabc_117e_11ea_b383_80000208fe80row5_col525\" class=\"data row5 col525\" >nan</td>\n",
       "                        <td id=\"T_179caabc_117e_11ea_b383_80000208fe80row5_col526\" class=\"data row5 col526\" >nan</td>\n",
       "                        <td id=\"T_179caabc_117e_11ea_b383_80000208fe80row5_col527\" class=\"data row5 col527\" >nan</td>\n",
       "                        <td id=\"T_179caabc_117e_11ea_b383_80000208fe80row5_col528\" class=\"data row5 col528\" >nan</td>\n",
       "                        <td id=\"T_179caabc_117e_11ea_b383_80000208fe80row5_col529\" class=\"data row5 col529\" >nan</td>\n",
       "                        <td id=\"T_179caabc_117e_11ea_b383_80000208fe80row5_col530\" class=\"data row5 col530\" >nan</td>\n",
       "                        <td id=\"T_179caabc_117e_11ea_b383_80000208fe80row5_col531\" class=\"data row5 col531\" >nan</td>\n",
       "                        <td id=\"T_179caabc_117e_11ea_b383_80000208fe80row5_col532\" class=\"data row5 col532\" >nan</td>\n",
       "                        <td id=\"T_179caabc_117e_11ea_b383_80000208fe80row5_col533\" class=\"data row5 col533\" >nan</td>\n",
       "                        <td id=\"T_179caabc_117e_11ea_b383_80000208fe80row5_col534\" class=\"data row5 col534\" >nan</td>\n",
       "                        <td id=\"T_179caabc_117e_11ea_b383_80000208fe80row5_col535\" class=\"data row5 col535\" >nan</td>\n",
       "                        <td id=\"T_179caabc_117e_11ea_b383_80000208fe80row5_col536\" class=\"data row5 col536\" >nan</td>\n",
       "                        <td id=\"T_179caabc_117e_11ea_b383_80000208fe80row5_col537\" class=\"data row5 col537\" >nan</td>\n",
       "                        <td id=\"T_179caabc_117e_11ea_b383_80000208fe80row5_col538\" class=\"data row5 col538\" >nan</td>\n",
       "                        <td id=\"T_179caabc_117e_11ea_b383_80000208fe80row5_col539\" class=\"data row5 col539\" >nan</td>\n",
       "                        <td id=\"T_179caabc_117e_11ea_b383_80000208fe80row5_col540\" class=\"data row5 col540\" >nan</td>\n",
       "                        <td id=\"T_179caabc_117e_11ea_b383_80000208fe80row5_col541\" class=\"data row5 col541\" >nan</td>\n",
       "                        <td id=\"T_179caabc_117e_11ea_b383_80000208fe80row5_col542\" class=\"data row5 col542\" >nan</td>\n",
       "                        <td id=\"T_179caabc_117e_11ea_b383_80000208fe80row5_col543\" class=\"data row5 col543\" >nan</td>\n",
       "                        <td id=\"T_179caabc_117e_11ea_b383_80000208fe80row5_col544\" class=\"data row5 col544\" >nan</td>\n",
       "                        <td id=\"T_179caabc_117e_11ea_b383_80000208fe80row5_col545\" class=\"data row5 col545\" >nan</td>\n",
       "                        <td id=\"T_179caabc_117e_11ea_b383_80000208fe80row5_col546\" class=\"data row5 col546\" >nan</td>\n",
       "                        <td id=\"T_179caabc_117e_11ea_b383_80000208fe80row5_col547\" class=\"data row5 col547\" >nan</td>\n",
       "                        <td id=\"T_179caabc_117e_11ea_b383_80000208fe80row5_col548\" class=\"data row5 col548\" >nan</td>\n",
       "                        <td id=\"T_179caabc_117e_11ea_b383_80000208fe80row5_col549\" class=\"data row5 col549\" >nan</td>\n",
       "                        <td id=\"T_179caabc_117e_11ea_b383_80000208fe80row5_col550\" class=\"data row5 col550\" >nan</td>\n",
       "                        <td id=\"T_179caabc_117e_11ea_b383_80000208fe80row5_col551\" class=\"data row5 col551\" >nan</td>\n",
       "                        <td id=\"T_179caabc_117e_11ea_b383_80000208fe80row5_col552\" class=\"data row5 col552\" >nan</td>\n",
       "                        <td id=\"T_179caabc_117e_11ea_b383_80000208fe80row5_col553\" class=\"data row5 col553\" >nan</td>\n",
       "                        <td id=\"T_179caabc_117e_11ea_b383_80000208fe80row5_col554\" class=\"data row5 col554\" >nan</td>\n",
       "                        <td id=\"T_179caabc_117e_11ea_b383_80000208fe80row5_col555\" class=\"data row5 col555\" >nan</td>\n",
       "                        <td id=\"T_179caabc_117e_11ea_b383_80000208fe80row5_col556\" class=\"data row5 col556\" >nan</td>\n",
       "                        <td id=\"T_179caabc_117e_11ea_b383_80000208fe80row5_col557\" class=\"data row5 col557\" >nan</td>\n",
       "                        <td id=\"T_179caabc_117e_11ea_b383_80000208fe80row5_col558\" class=\"data row5 col558\" >nan</td>\n",
       "                        <td id=\"T_179caabc_117e_11ea_b383_80000208fe80row5_col559\" class=\"data row5 col559\" >nan</td>\n",
       "                        <td id=\"T_179caabc_117e_11ea_b383_80000208fe80row5_col560\" class=\"data row5 col560\" >nan</td>\n",
       "                        <td id=\"T_179caabc_117e_11ea_b383_80000208fe80row5_col561\" class=\"data row5 col561\" >nan</td>\n",
       "                        <td id=\"T_179caabc_117e_11ea_b383_80000208fe80row5_col562\" class=\"data row5 col562\" >nan</td>\n",
       "                        <td id=\"T_179caabc_117e_11ea_b383_80000208fe80row5_col563\" class=\"data row5 col563\" >nan</td>\n",
       "                        <td id=\"T_179caabc_117e_11ea_b383_80000208fe80row5_col564\" class=\"data row5 col564\" >nan</td>\n",
       "                        <td id=\"T_179caabc_117e_11ea_b383_80000208fe80row5_col565\" class=\"data row5 col565\" >nan</td>\n",
       "                        <td id=\"T_179caabc_117e_11ea_b383_80000208fe80row5_col566\" class=\"data row5 col566\" >nan</td>\n",
       "                        <td id=\"T_179caabc_117e_11ea_b383_80000208fe80row5_col567\" class=\"data row5 col567\" >nan</td>\n",
       "            </tr>\n",
       "    </tbody></table>"
      ],
      "text/plain": [
       "<pandas.io.formats.style.Styler at 0x2b32223cfa20>"
      ]
     },
     "metadata": {},
     "output_type": "display_data"
    },
    {
     "data": {
      "text/plain": [
       "'H2OAutoMLClean #1'"
      ]
     },
     "metadata": {},
     "output_type": "display_data"
    },
    {
     "data": {
      "text/html": [
       "<style  type=\"text/css\" >\n",
       "</style><table id=\"T_17b833cc_117e_11ea_b383_80000208fe80\" ><thead>    <tr>        <th class=\"col_heading level0 col0\" >std</th>        <th class=\"col_heading level0 col1\" >test_acc</th>        <th class=\"col_heading level0 col2\" >train_acc</th>        <th class=\"col_heading level0 col3\" >time_err</th>        <th class=\"col_heading level0 col4\" >time_pre</th>        <th class=\"col_heading level0 col5\" >time_mod</th>    </tr></thead><tbody>\n",
       "                <tr>\n",
       "                                <td id=\"T_17b833cc_117e_11ea_b383_80000208fe80row0_col0\" class=\"data row0 col0\" >0</td>\n",
       "                        <td id=\"T_17b833cc_117e_11ea_b383_80000208fe80row0_col1\" class=\"data row0 col1\" >0.981</td>\n",
       "                        <td id=\"T_17b833cc_117e_11ea_b383_80000208fe80row0_col2\" class=\"data row0 col2\" >1</td>\n",
       "                        <td id=\"T_17b833cc_117e_11ea_b383_80000208fe80row0_col3\" class=\"data row0 col3\" >0.144</td>\n",
       "                        <td id=\"T_17b833cc_117e_11ea_b383_80000208fe80row0_col4\" class=\"data row0 col4\" >0.001</td>\n",
       "                        <td id=\"T_17b833cc_117e_11ea_b383_80000208fe80row0_col5\" class=\"data row0 col5\" >6391.97</td>\n",
       "            </tr>\n",
       "            <tr>\n",
       "                                <td id=\"T_17b833cc_117e_11ea_b383_80000208fe80row1_col0\" class=\"data row1 col0\" >3.2</td>\n",
       "                        <td id=\"T_17b833cc_117e_11ea_b383_80000208fe80row1_col1\" class=\"data row1 col1\" >0.837</td>\n",
       "                        <td id=\"T_17b833cc_117e_11ea_b383_80000208fe80row1_col2\" class=\"data row1 col2\" >1</td>\n",
       "                        <td id=\"T_17b833cc_117e_11ea_b383_80000208fe80row1_col3\" class=\"data row1 col3\" >0.182</td>\n",
       "                        <td id=\"T_17b833cc_117e_11ea_b383_80000208fe80row1_col4\" class=\"data row1 col4\" >0.001</td>\n",
       "                        <td id=\"T_17b833cc_117e_11ea_b383_80000208fe80row1_col5\" class=\"data row1 col5\" >6389.09</td>\n",
       "            </tr>\n",
       "            <tr>\n",
       "                                <td id=\"T_17b833cc_117e_11ea_b383_80000208fe80row2_col0\" class=\"data row2 col0\" >6.4</td>\n",
       "                        <td id=\"T_17b833cc_117e_11ea_b383_80000208fe80row2_col1\" class=\"data row2 col1\" >0.144</td>\n",
       "                        <td id=\"T_17b833cc_117e_11ea_b383_80000208fe80row2_col2\" class=\"data row2 col2\" >1</td>\n",
       "                        <td id=\"T_17b833cc_117e_11ea_b383_80000208fe80row2_col3\" class=\"data row2 col3\" >0.11</td>\n",
       "                        <td id=\"T_17b833cc_117e_11ea_b383_80000208fe80row2_col4\" class=\"data row2 col4\" >0.001</td>\n",
       "                        <td id=\"T_17b833cc_117e_11ea_b383_80000208fe80row2_col5\" class=\"data row2 col5\" >6393.15</td>\n",
       "            </tr>\n",
       "            <tr>\n",
       "                                <td id=\"T_17b833cc_117e_11ea_b383_80000208fe80row3_col0\" class=\"data row3 col0\" >9.6</td>\n",
       "                        <td id=\"T_17b833cc_117e_11ea_b383_80000208fe80row3_col1\" class=\"data row3 col1\" >0.35</td>\n",
       "                        <td id=\"T_17b833cc_117e_11ea_b383_80000208fe80row3_col2\" class=\"data row3 col2\" >1</td>\n",
       "                        <td id=\"T_17b833cc_117e_11ea_b383_80000208fe80row3_col3\" class=\"data row3 col3\" >0.126</td>\n",
       "                        <td id=\"T_17b833cc_117e_11ea_b383_80000208fe80row3_col4\" class=\"data row3 col4\" >0.001</td>\n",
       "                        <td id=\"T_17b833cc_117e_11ea_b383_80000208fe80row3_col5\" class=\"data row3 col5\" >6395.21</td>\n",
       "            </tr>\n",
       "            <tr>\n",
       "                                <td id=\"T_17b833cc_117e_11ea_b383_80000208fe80row4_col0\" class=\"data row4 col0\" >12.8</td>\n",
       "                        <td id=\"T_17b833cc_117e_11ea_b383_80000208fe80row4_col1\" class=\"data row4 col1\" >0.233</td>\n",
       "                        <td id=\"T_17b833cc_117e_11ea_b383_80000208fe80row4_col2\" class=\"data row4 col2\" >1</td>\n",
       "                        <td id=\"T_17b833cc_117e_11ea_b383_80000208fe80row4_col3\" class=\"data row4 col3\" >0.157</td>\n",
       "                        <td id=\"T_17b833cc_117e_11ea_b383_80000208fe80row4_col4\" class=\"data row4 col4\" >0.001</td>\n",
       "                        <td id=\"T_17b833cc_117e_11ea_b383_80000208fe80row4_col5\" class=\"data row4 col5\" >6387.6</td>\n",
       "            </tr>\n",
       "            <tr>\n",
       "                                <td id=\"T_17b833cc_117e_11ea_b383_80000208fe80row5_col0\" class=\"data row5 col0\" >16</td>\n",
       "                        <td id=\"T_17b833cc_117e_11ea_b383_80000208fe80row5_col1\" class=\"data row5 col1\" >0.171</td>\n",
       "                        <td id=\"T_17b833cc_117e_11ea_b383_80000208fe80row5_col2\" class=\"data row5 col2\" >1</td>\n",
       "                        <td id=\"T_17b833cc_117e_11ea_b383_80000208fe80row5_col3\" class=\"data row5 col3\" >0.165</td>\n",
       "                        <td id=\"T_17b833cc_117e_11ea_b383_80000208fe80row5_col4\" class=\"data row5 col4\" >0.001</td>\n",
       "                        <td id=\"T_17b833cc_117e_11ea_b383_80000208fe80row5_col5\" class=\"data row5 col5\" >6395.01</td>\n",
       "            </tr>\n",
       "    </tbody></table>"
      ],
      "text/plain": [
       "<pandas.io.formats.style.Styler at 0x2b311a982320>"
      ]
     },
     "metadata": {},
     "output_type": "display_data"
    },
    {
     "data": {
      "text/html": [
       "<style  type=\"text/css\" >\n",
       "</style><table id=\"T_17b9b602_117e_11ea_b383_80000208fe80\" ><thead>    <tr>        <th class=\"col_heading level0 col0\" >std</th>        <th class=\"col_heading level0 col1\" >pipe_0</th>        <th class=\"col_heading level0 col2\" >pipe_1</th>        <th class=\"col_heading level0 col3\" >pipe_2</th>        <th class=\"col_heading level0 col4\" >pipe_3</th>        <th class=\"col_heading level0 col5\" >pipe_4</th>        <th class=\"col_heading level0 col6\" >pipe_5</th>        <th class=\"col_heading level0 col7\" >pipe_6</th>    </tr></thead><tbody>\n",
       "                <tr>\n",
       "                                <td id=\"T_17b9b602_117e_11ea_b383_80000208fe80row0_col0\" class=\"data row0 col0\" >0</td>\n",
       "                        <td id=\"T_17b9b602_117e_11ea_b383_80000208fe80row0_col1\" class=\"data row0 col1\" >StackedEnsemble_BestOfFamily_AutoML_20191125_165202</td>\n",
       "                        <td id=\"T_17b9b602_117e_11ea_b383_80000208fe80row0_col2\" class=\"data row0 col2\" >DeepLearning_grid_1_AutoML_20191125_165202_model_24</td>\n",
       "                        <td id=\"T_17b9b602_117e_11ea_b383_80000208fe80row0_col3\" class=\"data row0 col3\" >GBM_grid_1_AutoML_20191125_165202_model_145</td>\n",
       "                        <td id=\"T_17b9b602_117e_11ea_b383_80000208fe80row0_col4\" class=\"data row0 col4\" >XGBoost_grid_1_AutoML_20191125_165202_model_13</td>\n",
       "                        <td id=\"T_17b9b602_117e_11ea_b383_80000208fe80row0_col5\" class=\"data row0 col5\" >DRF_1_AutoML_20191125_165202</td>\n",
       "                        <td id=\"T_17b9b602_117e_11ea_b383_80000208fe80row0_col6\" class=\"data row0 col6\" >XRT_1_AutoML_20191125_165202</td>\n",
       "                        <td id=\"T_17b9b602_117e_11ea_b383_80000208fe80row0_col7\" class=\"data row0 col7\" >GLM_grid_1_AutoML_20191125_165202_model_1</td>\n",
       "            </tr>\n",
       "            <tr>\n",
       "                                <td id=\"T_17b9b602_117e_11ea_b383_80000208fe80row1_col0\" class=\"data row1 col0\" >3.2</td>\n",
       "                        <td id=\"T_17b9b602_117e_11ea_b383_80000208fe80row1_col1\" class=\"data row1 col1\" >StackedEnsemble_BestOfFamily_AutoML_20191126_044827</td>\n",
       "                        <td id=\"T_17b9b602_117e_11ea_b383_80000208fe80row1_col2\" class=\"data row1 col2\" >DeepLearning_grid_1_AutoML_20191126_044827_model_32</td>\n",
       "                        <td id=\"T_17b9b602_117e_11ea_b383_80000208fe80row1_col3\" class=\"data row1 col3\" >GBM_grid_1_AutoML_20191126_044827_model_145</td>\n",
       "                        <td id=\"T_17b9b602_117e_11ea_b383_80000208fe80row1_col4\" class=\"data row1 col4\" >XGBoost_grid_1_AutoML_20191126_044827_model_13</td>\n",
       "                        <td id=\"T_17b9b602_117e_11ea_b383_80000208fe80row1_col5\" class=\"data row1 col5\" >DRF_1_AutoML_20191126_044827</td>\n",
       "                        <td id=\"T_17b9b602_117e_11ea_b383_80000208fe80row1_col6\" class=\"data row1 col6\" >XRT_1_AutoML_20191126_044827</td>\n",
       "                        <td id=\"T_17b9b602_117e_11ea_b383_80000208fe80row1_col7\" class=\"data row1 col7\" >GLM_grid_1_AutoML_20191126_044827_model_1</td>\n",
       "            </tr>\n",
       "            <tr>\n",
       "                                <td id=\"T_17b9b602_117e_11ea_b383_80000208fe80row2_col0\" class=\"data row2 col0\" >6.4</td>\n",
       "                        <td id=\"T_17b9b602_117e_11ea_b383_80000208fe80row2_col1\" class=\"data row2 col1\" >DeepLearning_grid_1_AutoML_20191126_161016_model_26</td>\n",
       "                        <td id=\"T_17b9b602_117e_11ea_b383_80000208fe80row2_col2\" class=\"data row2 col2\" >nan</td>\n",
       "                        <td id=\"T_17b9b602_117e_11ea_b383_80000208fe80row2_col3\" class=\"data row2 col3\" >nan</td>\n",
       "                        <td id=\"T_17b9b602_117e_11ea_b383_80000208fe80row2_col4\" class=\"data row2 col4\" >nan</td>\n",
       "                        <td id=\"T_17b9b602_117e_11ea_b383_80000208fe80row2_col5\" class=\"data row2 col5\" >nan</td>\n",
       "                        <td id=\"T_17b9b602_117e_11ea_b383_80000208fe80row2_col6\" class=\"data row2 col6\" >nan</td>\n",
       "                        <td id=\"T_17b9b602_117e_11ea_b383_80000208fe80row2_col7\" class=\"data row2 col7\" >nan</td>\n",
       "            </tr>\n",
       "            <tr>\n",
       "                                <td id=\"T_17b9b602_117e_11ea_b383_80000208fe80row3_col0\" class=\"data row3 col0\" >9.6</td>\n",
       "                        <td id=\"T_17b9b602_117e_11ea_b383_80000208fe80row3_col1\" class=\"data row3 col1\" >StackedEnsemble_BestOfFamily_AutoML_20191127_035040</td>\n",
       "                        <td id=\"T_17b9b602_117e_11ea_b383_80000208fe80row3_col2\" class=\"data row3 col2\" >DeepLearning_grid_1_AutoML_20191127_035040_model_33</td>\n",
       "                        <td id=\"T_17b9b602_117e_11ea_b383_80000208fe80row3_col3\" class=\"data row3 col3\" >GBM_grid_1_AutoML_20191127_035040_model_145</td>\n",
       "                        <td id=\"T_17b9b602_117e_11ea_b383_80000208fe80row3_col4\" class=\"data row3 col4\" >XGBoost_grid_1_AutoML_20191127_035040_model_13</td>\n",
       "                        <td id=\"T_17b9b602_117e_11ea_b383_80000208fe80row3_col5\" class=\"data row3 col5\" >DRF_1_AutoML_20191127_035040</td>\n",
       "                        <td id=\"T_17b9b602_117e_11ea_b383_80000208fe80row3_col6\" class=\"data row3 col6\" >XRT_1_AutoML_20191127_035040</td>\n",
       "                        <td id=\"T_17b9b602_117e_11ea_b383_80000208fe80row3_col7\" class=\"data row3 col7\" >GLM_grid_1_AutoML_20191127_035040_model_1</td>\n",
       "            </tr>\n",
       "            <tr>\n",
       "                                <td id=\"T_17b9b602_117e_11ea_b383_80000208fe80row4_col0\" class=\"data row4 col0\" >12.8</td>\n",
       "                        <td id=\"T_17b9b602_117e_11ea_b383_80000208fe80row4_col1\" class=\"data row4 col1\" >StackedEnsemble_BestOfFamily_AutoML_20191127_141659</td>\n",
       "                        <td id=\"T_17b9b602_117e_11ea_b383_80000208fe80row4_col2\" class=\"data row4 col2\" >DeepLearning_grid_1_AutoML_20191127_141659_model_44</td>\n",
       "                        <td id=\"T_17b9b602_117e_11ea_b383_80000208fe80row4_col3\" class=\"data row4 col3\" >GBM_grid_1_AutoML_20191127_141659_model_145</td>\n",
       "                        <td id=\"T_17b9b602_117e_11ea_b383_80000208fe80row4_col4\" class=\"data row4 col4\" >XGBoost_grid_1_AutoML_20191127_141659_model_13</td>\n",
       "                        <td id=\"T_17b9b602_117e_11ea_b383_80000208fe80row4_col5\" class=\"data row4 col5\" >DRF_1_AutoML_20191127_141659</td>\n",
       "                        <td id=\"T_17b9b602_117e_11ea_b383_80000208fe80row4_col6\" class=\"data row4 col6\" >XRT_1_AutoML_20191127_141659</td>\n",
       "                        <td id=\"T_17b9b602_117e_11ea_b383_80000208fe80row4_col7\" class=\"data row4 col7\" >GLM_grid_1_AutoML_20191127_141659_model_1</td>\n",
       "            </tr>\n",
       "            <tr>\n",
       "                                <td id=\"T_17b9b602_117e_11ea_b383_80000208fe80row5_col0\" class=\"data row5 col0\" >16</td>\n",
       "                        <td id=\"T_17b9b602_117e_11ea_b383_80000208fe80row5_col1\" class=\"data row5 col1\" >StackedEnsemble_BestOfFamily_AutoML_20191128_013952</td>\n",
       "                        <td id=\"T_17b9b602_117e_11ea_b383_80000208fe80row5_col2\" class=\"data row5 col2\" >DeepLearning_grid_1_AutoML_20191128_013952_model_46</td>\n",
       "                        <td id=\"T_17b9b602_117e_11ea_b383_80000208fe80row5_col3\" class=\"data row5 col3\" >GBM_grid_1_AutoML_20191128_013952_model_145</td>\n",
       "                        <td id=\"T_17b9b602_117e_11ea_b383_80000208fe80row5_col4\" class=\"data row5 col4\" >XGBoost_grid_1_AutoML_20191128_013952_model_13</td>\n",
       "                        <td id=\"T_17b9b602_117e_11ea_b383_80000208fe80row5_col5\" class=\"data row5 col5\" >DRF_1_AutoML_20191128_013952</td>\n",
       "                        <td id=\"T_17b9b602_117e_11ea_b383_80000208fe80row5_col6\" class=\"data row5 col6\" >XRT_1_AutoML_20191128_013952</td>\n",
       "                        <td id=\"T_17b9b602_117e_11ea_b383_80000208fe80row5_col7\" class=\"data row5 col7\" >GLM_grid_1_AutoML_20191128_013952_model_1</td>\n",
       "            </tr>\n",
       "    </tbody></table>"
      ],
      "text/plain": [
       "<pandas.io.formats.style.Styler at 0x2b311a982d30>"
      ]
     },
     "metadata": {},
     "output_type": "display_data"
    },
    {
     "data": {
      "text/plain": [
       "'TPOTClassifier #1'"
      ]
     },
     "metadata": {},
     "output_type": "display_data"
    },
    {
     "data": {
      "text/html": [
       "<style  type=\"text/css\" >\n",
       "</style><table id=\"T_17bae19e_117e_11ea_b383_80000208fe80\" ><thead>    <tr>        <th class=\"col_heading level0 col0\" >std</th>        <th class=\"col_heading level0 col1\" >test_acc</th>        <th class=\"col_heading level0 col2\" >train_acc</th>        <th class=\"col_heading level0 col3\" >time_err</th>        <th class=\"col_heading level0 col4\" >time_pre</th>        <th class=\"col_heading level0 col5\" >time_mod</th>    </tr></thead><tbody>\n",
       "                <tr>\n",
       "                                <td id=\"T_17bae19e_117e_11ea_b383_80000208fe80row0_col0\" class=\"data row0 col0\" >0</td>\n",
       "                        <td id=\"T_17bae19e_117e_11ea_b383_80000208fe80row0_col1\" class=\"data row0 col1\" >0.984</td>\n",
       "                        <td id=\"T_17bae19e_117e_11ea_b383_80000208fe80row0_col2\" class=\"data row0 col2\" >1</td>\n",
       "                        <td id=\"T_17bae19e_117e_11ea_b383_80000208fe80row0_col3\" class=\"data row0 col3\" >0.144</td>\n",
       "                        <td id=\"T_17bae19e_117e_11ea_b383_80000208fe80row0_col4\" class=\"data row0 col4\" >0.001</td>\n",
       "                        <td id=\"T_17bae19e_117e_11ea_b383_80000208fe80row0_col5\" class=\"data row0 col5\" >7300.69</td>\n",
       "            </tr>\n",
       "            <tr>\n",
       "                                <td id=\"T_17bae19e_117e_11ea_b383_80000208fe80row1_col0\" class=\"data row1 col0\" >3.2</td>\n",
       "                        <td id=\"T_17bae19e_117e_11ea_b383_80000208fe80row1_col1\" class=\"data row1 col1\" >0.957</td>\n",
       "                        <td id=\"T_17bae19e_117e_11ea_b383_80000208fe80row1_col2\" class=\"data row1 col2\" >1</td>\n",
       "                        <td id=\"T_17bae19e_117e_11ea_b383_80000208fe80row1_col3\" class=\"data row1 col3\" >0.182</td>\n",
       "                        <td id=\"T_17bae19e_117e_11ea_b383_80000208fe80row1_col4\" class=\"data row1 col4\" >0.001</td>\n",
       "                        <td id=\"T_17bae19e_117e_11ea_b383_80000208fe80row1_col5\" class=\"data row1 col5\" >7289.6</td>\n",
       "            </tr>\n",
       "            <tr>\n",
       "                                <td id=\"T_17bae19e_117e_11ea_b383_80000208fe80row2_col0\" class=\"data row2 col0\" >6.4</td>\n",
       "                        <td id=\"T_17bae19e_117e_11ea_b383_80000208fe80row2_col1\" class=\"data row2 col1\" >0.817</td>\n",
       "                        <td id=\"T_17bae19e_117e_11ea_b383_80000208fe80row2_col2\" class=\"data row2 col2\" >1</td>\n",
       "                        <td id=\"T_17bae19e_117e_11ea_b383_80000208fe80row2_col3\" class=\"data row2 col3\" >0.11</td>\n",
       "                        <td id=\"T_17bae19e_117e_11ea_b383_80000208fe80row2_col4\" class=\"data row2 col4\" >0.001</td>\n",
       "                        <td id=\"T_17bae19e_117e_11ea_b383_80000208fe80row2_col5\" class=\"data row2 col5\" >7304.15</td>\n",
       "            </tr>\n",
       "            <tr>\n",
       "                                <td id=\"T_17bae19e_117e_11ea_b383_80000208fe80row3_col0\" class=\"data row3 col0\" >9.6</td>\n",
       "                        <td id=\"T_17bae19e_117e_11ea_b383_80000208fe80row3_col1\" class=\"data row3 col1\" >0.661</td>\n",
       "                        <td id=\"T_17bae19e_117e_11ea_b383_80000208fe80row3_col2\" class=\"data row3 col2\" >1</td>\n",
       "                        <td id=\"T_17bae19e_117e_11ea_b383_80000208fe80row3_col3\" class=\"data row3 col3\" >0.126</td>\n",
       "                        <td id=\"T_17bae19e_117e_11ea_b383_80000208fe80row3_col4\" class=\"data row3 col4\" >0.001</td>\n",
       "                        <td id=\"T_17bae19e_117e_11ea_b383_80000208fe80row3_col5\" class=\"data row3 col5\" >8596.27</td>\n",
       "            </tr>\n",
       "            <tr>\n",
       "                                <td id=\"T_17bae19e_117e_11ea_b383_80000208fe80row4_col0\" class=\"data row4 col0\" >12.8</td>\n",
       "                        <td id=\"T_17bae19e_117e_11ea_b383_80000208fe80row4_col1\" class=\"data row4 col1\" >0.479</td>\n",
       "                        <td id=\"T_17bae19e_117e_11ea_b383_80000208fe80row4_col2\" class=\"data row4 col2\" >0.518</td>\n",
       "                        <td id=\"T_17bae19e_117e_11ea_b383_80000208fe80row4_col3\" class=\"data row4 col3\" >0.157</td>\n",
       "                        <td id=\"T_17bae19e_117e_11ea_b383_80000208fe80row4_col4\" class=\"data row4 col4\" >0.001</td>\n",
       "                        <td id=\"T_17bae19e_117e_11ea_b383_80000208fe80row4_col5\" class=\"data row4 col5\" >7537.52</td>\n",
       "            </tr>\n",
       "            <tr>\n",
       "                                <td id=\"T_17bae19e_117e_11ea_b383_80000208fe80row5_col0\" class=\"data row5 col0\" >16</td>\n",
       "                        <td id=\"T_17bae19e_117e_11ea_b383_80000208fe80row5_col1\" class=\"data row5 col1\" >0.354</td>\n",
       "                        <td id=\"T_17bae19e_117e_11ea_b383_80000208fe80row5_col2\" class=\"data row5 col2\" >0.427</td>\n",
       "                        <td id=\"T_17bae19e_117e_11ea_b383_80000208fe80row5_col3\" class=\"data row5 col3\" >0.165</td>\n",
       "                        <td id=\"T_17bae19e_117e_11ea_b383_80000208fe80row5_col4\" class=\"data row5 col4\" >0.001</td>\n",
       "                        <td id=\"T_17bae19e_117e_11ea_b383_80000208fe80row5_col5\" class=\"data row5 col5\" >7551.54</td>\n",
       "            </tr>\n",
       "    </tbody></table>"
      ],
      "text/plain": [
       "<pandas.io.formats.style.Styler at 0x2b311a9825f8>"
      ]
     },
     "metadata": {},
     "output_type": "display_data"
    },
    {
     "data": {
      "text/html": [
       "<style  type=\"text/css\" >\n",
       "</style><table id=\"T_17bc4750_117e_11ea_b383_80000208fe80\" ><thead>    <tr>        <th class=\"col_heading level0 col0\" >std</th>        <th class=\"col_heading level0 col1\" >pipe_0</th>        <th class=\"col_heading level0 col2\" >pipe_1</th>        <th class=\"col_heading level0 col3\" >pipe_2</th>        <th class=\"col_heading level0 col4\" >pipe_3</th>        <th class=\"col_heading level0 col5\" >pipe_4</th>        <th class=\"col_heading level0 col6\" >pipe_5</th>    </tr></thead><tbody>\n",
       "                <tr>\n",
       "                                <td id=\"T_17bc4750_117e_11ea_b383_80000208fe80row0_col0\" class=\"data row0 col0\" >0</td>\n",
       "                        <td id=\"T_17bc4750_117e_11ea_b383_80000208fe80row0_col1\" class=\"data row0 col1\" >PCA(copy=True, iterated_power=6, n_components=None, random_state=42,\n",
       "    svd_solver='randomized', tol=0.0, whiten=False)</td>\n",
       "                        <td id=\"T_17bc4750_117e_11ea_b383_80000208fe80row0_col2\" class=\"data row0 col2\" >StackingEstimator(estimator=DecisionTreeClassifier(class_weight=None,\n",
       "                                                   criterion='gini',\n",
       "                                                   max_depth=6,\n",
       "                                                   max_features=None,\n",
       "                                                   max_leaf_nodes=None,\n",
       "                                                   min_impurity_decrease=0.0,\n",
       "                                                   min_impurity_split=None,\n",
       "                                                   min_samples_leaf=10,\n",
       "                                                   min_samples_split=2,\n",
       "                                                   min_weight_fraction_leaf=0.0,\n",
       "                                                   presort=False,\n",
       "                                                   random_state=42,\n",
       "                                                   splitter='best'))</td>\n",
       "                        <td id=\"T_17bc4750_117e_11ea_b383_80000208fe80row0_col3\" class=\"data row0 col3\" >StackingEstimator(estimator=LinearSVC(C=25.0, class_weight=None, dual=True,\n",
       "                                      fit_intercept=True, intercept_scaling=1,\n",
       "                                      loss='squared_hinge', max_iter=1000,\n",
       "                                      multi_class='ovr', penalty='l2',\n",
       "                                      random_state=42, tol=0.01, verbose=0))</td>\n",
       "                        <td id=\"T_17bc4750_117e_11ea_b383_80000208fe80row0_col4\" class=\"data row0 col4\" >StackingEstimator(estimator=GradientBoostingClassifier(criterion='friedman_mse',\n",
       "                                                       init=None,\n",
       "                                                       learning_rate=0.001,\n",
       "                                                       loss='deviance',\n",
       "                                                       max_depth=8,\n",
       "                                                       max_features=0.35000000000000003,\n",
       "                                                       max_leaf_nodes=None,\n",
       "                                                       min_impurity_decrease=0.0,\n",
       "                                                       min_impurity_split=None,\n",
       "                                                       min_samples_leaf=1,\n",
       "                                                       min_samples_split=13,\n",
       "                                                       min_weight_fraction_leaf=0.0,\n",
       "                                                       n_estimators=100,\n",
       "                                                       n_iter_no_change=None,\n",
       "                                                       presort='auto',\n",
       "                                                       random_state=42,\n",
       "                                                       subsample=1.0,\n",
       "                                                       tol=0.0001,\n",
       "                                                       validation_fraction=0.1,\n",
       "                                                       verbose=0,\n",
       "                                                       warm_start=False))</td>\n",
       "                        <td id=\"T_17bc4750_117e_11ea_b383_80000208fe80row0_col5\" class=\"data row0 col5\" >KNeighborsClassifier(algorithm='auto', leaf_size=30, metric='minkowski',\n",
       "                     metric_params=None, n_jobs=None, n_neighbors=4, p=2,\n",
       "                     weights='distance')</td>\n",
       "                        <td id=\"T_17bc4750_117e_11ea_b383_80000208fe80row0_col6\" class=\"data row0 col6\" >nan</td>\n",
       "            </tr>\n",
       "            <tr>\n",
       "                                <td id=\"T_17bc4750_117e_11ea_b383_80000208fe80row1_col0\" class=\"data row1 col0\" >3.2</td>\n",
       "                        <td id=\"T_17bc4750_117e_11ea_b383_80000208fe80row1_col1\" class=\"data row1 col1\" >StackingEstimator(estimator=ExtraTreesClassifier(bootstrap=True,\n",
       "                                                 class_weight=None,\n",
       "                                                 criterion='entropy',\n",
       "                                                 max_depth=None,\n",
       "                                                 max_features=0.6500000000000001,\n",
       "                                                 max_leaf_nodes=None,\n",
       "                                                 min_impurity_decrease=0.0,\n",
       "                                                 min_impurity_split=None,\n",
       "                                                 min_samples_leaf=12,\n",
       "                                                 min_samples_split=9,\n",
       "                                                 min_weight_fraction_leaf=0.0,\n",
       "                                                 n_estimators=100, n_jobs=None,\n",
       "                                                 oob_score=False,\n",
       "                                                 random_state=42, verbose=0,\n",
       "                                                 warm_start=False))</td>\n",
       "                        <td id=\"T_17bc4750_117e_11ea_b383_80000208fe80row1_col2\" class=\"data row1 col2\" >ZeroCount()</td>\n",
       "                        <td id=\"T_17bc4750_117e_11ea_b383_80000208fe80row1_col3\" class=\"data row1 col3\" >SelectFwe(alpha=0.017, score_func=<function f_classif at 0x2b3217244c80>)</td>\n",
       "                        <td id=\"T_17bc4750_117e_11ea_b383_80000208fe80row1_col4\" class=\"data row1 col4\" >StackingEstimator(estimator=SGDClassifier(alpha=0.0, average=False,\n",
       "                                          class_weight=None,\n",
       "                                          early_stopping=False, epsilon=0.1,\n",
       "                                          eta0=0.01, fit_intercept=False,\n",
       "                                          l1_ratio=0.0,\n",
       "                                          learning_rate='constant',\n",
       "                                          loss='perceptron', max_iter=1000,\n",
       "                                          n_iter_no_change=5, n_jobs=None,\n",
       "                                          penalty='elasticnet', power_t=0.5,\n",
       "                                          random_state=42, shuffle=True,\n",
       "                                          tol=0.001, validation_fraction=0.1,\n",
       "                                          verbose=0, warm_start=False))</td>\n",
       "                        <td id=\"T_17bc4750_117e_11ea_b383_80000208fe80row1_col5\" class=\"data row1 col5\" >StackingEstimator(estimator=DecisionTreeClassifier(class_weight=None,\n",
       "                                                   criterion='entropy',\n",
       "                                                   max_depth=9,\n",
       "                                                   max_features=None,\n",
       "                                                   max_leaf_nodes=None,\n",
       "                                                   min_impurity_decrease=0.0,\n",
       "                                                   min_impurity_split=None,\n",
       "                                                   min_samples_leaf=4,\n",
       "                                                   min_samples_split=3,\n",
       "                                                   min_weight_fraction_leaf=0.0,\n",
       "                                                   presort=False,\n",
       "                                                   random_state=42,\n",
       "                                                   splitter='best'))</td>\n",
       "                        <td id=\"T_17bc4750_117e_11ea_b383_80000208fe80row1_col6\" class=\"data row1 col6\" >KNeighborsClassifier(algorithm='auto', leaf_size=30, metric='minkowski',\n",
       "                     metric_params=None, n_jobs=None, n_neighbors=3, p=2,\n",
       "                     weights='distance')</td>\n",
       "            </tr>\n",
       "            <tr>\n",
       "                                <td id=\"T_17bc4750_117e_11ea_b383_80000208fe80row2_col0\" class=\"data row2 col0\" >6.4</td>\n",
       "                        <td id=\"T_17bc4750_117e_11ea_b383_80000208fe80row2_col1\" class=\"data row2 col1\" >StackingEstimator(estimator=GradientBoostingClassifier(criterion='friedman_mse',\n",
       "                                                       init=None,\n",
       "                                                       learning_rate=0.5,\n",
       "                                                       loss='deviance',\n",
       "                                                       max_depth=9,\n",
       "                                                       max_features=0.8500000000000001,\n",
       "                                                       max_leaf_nodes=None,\n",
       "                                                       min_impurity_decrease=0.0,\n",
       "                                                       min_impurity_split=None,\n",
       "                                                       min_samples_leaf=13,\n",
       "                                                       min_samples_split=4,\n",
       "                                                       min_weight_fraction_leaf=0.0,\n",
       "                                                       n_estimators=100,\n",
       "                                                       n_iter_no_change=None,\n",
       "                                                       presort='auto',\n",
       "                                                       random_state=42,\n",
       "                                                       subsample=0.4,\n",
       "                                                       tol=0.0001,\n",
       "                                                       validation_fraction=0.1,\n",
       "                                                       verbose=0,\n",
       "                                                       warm_start=False))</td>\n",
       "                        <td id=\"T_17bc4750_117e_11ea_b383_80000208fe80row2_col2\" class=\"data row2 col2\" >SelectFwe(alpha=0.038, score_func=<function f_classif at 0x2b3217244c80>)</td>\n",
       "                        <td id=\"T_17bc4750_117e_11ea_b383_80000208fe80row2_col3\" class=\"data row2 col3\" >StackingEstimator(estimator=LinearSVC(C=5.0, class_weight=None, dual=False,\n",
       "                                      fit_intercept=True, intercept_scaling=1,\n",
       "                                      loss='squared_hinge', max_iter=1000,\n",
       "                                      multi_class='ovr', penalty='l2',\n",
       "                                      random_state=42, tol=0.1, verbose=0))</td>\n",
       "                        <td id=\"T_17bc4750_117e_11ea_b383_80000208fe80row2_col4\" class=\"data row2 col4\" >SelectFwe(alpha=0.019, score_func=<function f_classif at 0x2b3217244c80>)</td>\n",
       "                        <td id=\"T_17bc4750_117e_11ea_b383_80000208fe80row2_col5\" class=\"data row2 col5\" >KNeighborsClassifier(algorithm='auto', leaf_size=30, metric='minkowski',\n",
       "                     metric_params=None, n_jobs=None, n_neighbors=20, p=2,\n",
       "                     weights='distance')</td>\n",
       "                        <td id=\"T_17bc4750_117e_11ea_b383_80000208fe80row2_col6\" class=\"data row2 col6\" >nan</td>\n",
       "            </tr>\n",
       "            <tr>\n",
       "                                <td id=\"T_17bc4750_117e_11ea_b383_80000208fe80row3_col0\" class=\"data row3 col0\" >9.6</td>\n",
       "                        <td id=\"T_17bc4750_117e_11ea_b383_80000208fe80row3_col1\" class=\"data row3 col1\" >FeatureUnion(n_jobs=None,\n",
       "             transformer_list=[('functiontransformer',\n",
       "                                FunctionTransformer(accept_sparse=False,\n",
       "                                                    check_inverse=True,\n",
       "                                                    func=<function copy at 0x2b30e8cd9158>,\n",
       "                                                    inv_kw_args=None,\n",
       "                                                    inverse_func=None,\n",
       "                                                    kw_args=None,\n",
       "                                                    pass_y='deprecated',\n",
       "                                                    validate=None)),\n",
       "                               ('featureunion',\n",
       "                                FeatureUnion(n_jobs=None,\n",
       "                                             transformer_list=[('functiontransformer-1',\n",
       "                                                                FunctionTransformer(a...\n",
       "                                                                                    inverse_func=None,\n",
       "                                                                                    kw_args=None,\n",
       "                                                                                    pass_y='deprecated',\n",
       "                                                                                    validate=None)),\n",
       "                                                               ('functiontransformer-2',\n",
       "                                                                FunctionTransformer(accept_sparse=False,\n",
       "                                                                                    check_inverse=True,\n",
       "                                                                                    func=<function copy at 0x2b30e8cd9158>,\n",
       "                                                                                    inv_kw_args=None,\n",
       "                                                                                    inverse_func=None,\n",
       "                                                                                    kw_args=None,\n",
       "                                                                                    pass_y='deprecated',\n",
       "                                                                                    validate=None))],\n",
       "                                             transformer_weights=None,\n",
       "                                             verbose=False))],\n",
       "             transformer_weights=None, verbose=False)</td>\n",
       "                        <td id=\"T_17bc4750_117e_11ea_b383_80000208fe80row3_col2\" class=\"data row3 col2\" >StackingEstimator(estimator=RandomForestClassifier(bootstrap=False,\n",
       "                                                   class_weight=None,\n",
       "                                                   criterion='gini',\n",
       "                                                   max_depth=None,\n",
       "                                                   max_features=0.6000000000000001,\n",
       "                                                   max_leaf_nodes=None,\n",
       "                                                   min_impurity_decrease=0.0,\n",
       "                                                   min_impurity_split=None,\n",
       "                                                   min_samples_leaf=17,\n",
       "                                                   min_samples_split=20,\n",
       "                                                   min_weight_fraction_leaf=0.0,\n",
       "                                                   n_estimators=100,\n",
       "                                                   n_jobs=None, oob_score=False,\n",
       "                                                   random_state=42, verbose=0,\n",
       "                                                   warm_start=False))</td>\n",
       "                        <td id=\"T_17bc4750_117e_11ea_b383_80000208fe80row3_col3\" class=\"data row3 col3\" >SelectPercentile(percentile=67,\n",
       "                 score_func=<function f_classif at 0x2b3217244c80>)</td>\n",
       "                        <td id=\"T_17bc4750_117e_11ea_b383_80000208fe80row3_col4\" class=\"data row3 col4\" >KNeighborsClassifier(algorithm='auto', leaf_size=30, metric='minkowski',\n",
       "                     metric_params=None, n_jobs=None, n_neighbors=87, p=2,\n",
       "                     weights='distance')</td>\n",
       "                        <td id=\"T_17bc4750_117e_11ea_b383_80000208fe80row3_col5\" class=\"data row3 col5\" >nan</td>\n",
       "                        <td id=\"T_17bc4750_117e_11ea_b383_80000208fe80row3_col6\" class=\"data row3 col6\" >nan</td>\n",
       "            </tr>\n",
       "            <tr>\n",
       "                                <td id=\"T_17bc4750_117e_11ea_b383_80000208fe80row4_col0\" class=\"data row4 col0\" >12.8</td>\n",
       "                        <td id=\"T_17bc4750_117e_11ea_b383_80000208fe80row4_col1\" class=\"data row4 col1\" >FeatureUnion(n_jobs=None,\n",
       "             transformer_list=[('featureunion',\n",
       "                                FeatureUnion(n_jobs=None,\n",
       "                                             transformer_list=[('featureunion',\n",
       "                                                                FeatureUnion(n_jobs=None,\n",
       "                                                                             transformer_list=[('functiontransformer-1',\n",
       "                                                                                                FunctionTransformer(accept_sparse=False,\n",
       "                                                                                                                    check_inverse=True,\n",
       "                                                                                                                    func=<function copy at 0x2b30e8cd9158>,\n",
       "                                                                                                                    inv_kw_args=None,\n",
       "                                                                                                                    inverse_func=None,\n",
       "                                                                                                                    kw_args=None,\n",
       "                                                                                                                    pass_y='deprecated',\n",
       "                                                                                                                    v...\n",
       "                                                                          average=False,\n",
       "                                                                          class_weight=None,\n",
       "                                                                          early_stopping=False,\n",
       "                                                                          epsilon=0.1,\n",
       "                                                                          eta0=0.1,\n",
       "                                                                          fit_intercept=True,\n",
       "                                                                          l1_ratio=0.0,\n",
       "                                                                          learning_rate='invscaling',\n",
       "                                                                          loss='perceptron',\n",
       "                                                                          max_iter=1000,\n",
       "                                                                          n_iter_no_change=5,\n",
       "                                                                          n_jobs=None,\n",
       "                                                                          penalty='elasticnet',\n",
       "                                                                          power_t=0.5,\n",
       "                                                                          random_state=42,\n",
       "                                                                          shuffle=True,\n",
       "                                                                          tol=0.001,\n",
       "                                                                          validation_fraction=0.1,\n",
       "                                                                          verbose=0,\n",
       "                                                                          warm_start=False)))],\n",
       "             transformer_weights=None, verbose=False)</td>\n",
       "                        <td id=\"T_17bc4750_117e_11ea_b383_80000208fe80row4_col2\" class=\"data row4 col2\" >StackingEstimator(estimator=XGBClassifier(base_score=0.5, booster='gbtree',\n",
       "                                          colsample_bylevel=1,\n",
       "                                          colsample_bynode=1,\n",
       "                                          colsample_bytree=1, gamma=0,\n",
       "                                          learning_rate=0.5, max_delta_step=0,\n",
       "                                          max_depth=10, min_child_weight=14,\n",
       "                                          missing=nan, n_estimators=100,\n",
       "                                          n_jobs=1, nthread=1,\n",
       "                                          objective='multi:softprob',\n",
       "                                          random_state=42, reg_alpha=0,\n",
       "                                          reg_lambda=1, scale_pos_weight=1,\n",
       "                                          seed=None, silent=None, subsample=0.1,\n",
       "                                          verbosity=1))</td>\n",
       "                        <td id=\"T_17bc4750_117e_11ea_b383_80000208fe80row4_col3\" class=\"data row4 col3\" >MaxAbsScaler(copy=True)</td>\n",
       "                        <td id=\"T_17bc4750_117e_11ea_b383_80000208fe80row4_col4\" class=\"data row4 col4\" >SelectPercentile(percentile=76,\n",
       "                 score_func=<function f_classif at 0x2b3217244c80>)</td>\n",
       "                        <td id=\"T_17bc4750_117e_11ea_b383_80000208fe80row4_col5\" class=\"data row4 col5\" >MultinomialNB(alpha=100.0, class_prior=None, fit_prior=False)</td>\n",
       "                        <td id=\"T_17bc4750_117e_11ea_b383_80000208fe80row4_col6\" class=\"data row4 col6\" >nan</td>\n",
       "            </tr>\n",
       "            <tr>\n",
       "                                <td id=\"T_17bc4750_117e_11ea_b383_80000208fe80row5_col0\" class=\"data row5 col0\" >16</td>\n",
       "                        <td id=\"T_17bc4750_117e_11ea_b383_80000208fe80row5_col1\" class=\"data row5 col1\" >RFE(estimator=ExtraTreesClassifier(bootstrap=False, class_weight=None,\n",
       "                                   criterion='gini', max_depth=None,\n",
       "                                   max_features=0.7500000000000001,\n",
       "                                   max_leaf_nodes=None,\n",
       "                                   min_impurity_decrease=0.0,\n",
       "                                   min_impurity_split=None, min_samples_leaf=1,\n",
       "                                   min_samples_split=2,\n",
       "                                   min_weight_fraction_leaf=0.0,\n",
       "                                   n_estimators=100, n_jobs=None,\n",
       "                                   oob_score=False, random_state=42, verbose=0,\n",
       "                                   warm_start=False),\n",
       "    n_features_to_select=None, step=0.2, verbose=0)</td>\n",
       "                        <td id=\"T_17bc4750_117e_11ea_b383_80000208fe80row5_col2\" class=\"data row5 col2\" >StackingEstimator(estimator=MultinomialNB(alpha=0.001, class_prior=None,\n",
       "                                          fit_prior=True))</td>\n",
       "                        <td id=\"T_17bc4750_117e_11ea_b383_80000208fe80row5_col3\" class=\"data row5 col3\" >MultinomialNB(alpha=100.0, class_prior=None, fit_prior=True)</td>\n",
       "                        <td id=\"T_17bc4750_117e_11ea_b383_80000208fe80row5_col4\" class=\"data row5 col4\" >nan</td>\n",
       "                        <td id=\"T_17bc4750_117e_11ea_b383_80000208fe80row5_col5\" class=\"data row5 col5\" >nan</td>\n",
       "                        <td id=\"T_17bc4750_117e_11ea_b383_80000208fe80row5_col6\" class=\"data row5 col6\" >nan</td>\n",
       "            </tr>\n",
       "    </tbody></table>"
      ],
      "text/plain": [
       "<pandas.io.formats.style.Styler at 0x2b311a89c358>"
      ]
     },
     "metadata": {},
     "output_type": "display_data"
    },
    {
     "data": {
      "text/plain": [
       "'TPOTClassifierClean #1'"
      ]
     },
     "metadata": {},
     "output_type": "display_data"
    },
    {
     "data": {
      "text/html": [
       "<style  type=\"text/css\" >\n",
       "</style><table id=\"T_17d916f0_117e_11ea_b383_80000208fe80\" ><thead>    <tr>        <th class=\"col_heading level0 col0\" >std</th>        <th class=\"col_heading level0 col1\" >test_acc</th>        <th class=\"col_heading level0 col2\" >train_acc</th>        <th class=\"col_heading level0 col3\" >time_err</th>        <th class=\"col_heading level0 col4\" >time_pre</th>        <th class=\"col_heading level0 col5\" >time_mod</th>    </tr></thead><tbody>\n",
       "                <tr>\n",
       "                                <td id=\"T_17d916f0_117e_11ea_b383_80000208fe80row0_col0\" class=\"data row0 col0\" >0</td>\n",
       "                        <td id=\"T_17d916f0_117e_11ea_b383_80000208fe80row0_col1\" class=\"data row0 col1\" >0.984</td>\n",
       "                        <td id=\"T_17d916f0_117e_11ea_b383_80000208fe80row0_col2\" class=\"data row0 col2\" >1</td>\n",
       "                        <td id=\"T_17d916f0_117e_11ea_b383_80000208fe80row0_col3\" class=\"data row0 col3\" >0.144</td>\n",
       "                        <td id=\"T_17d916f0_117e_11ea_b383_80000208fe80row0_col4\" class=\"data row0 col4\" >0.001</td>\n",
       "                        <td id=\"T_17d916f0_117e_11ea_b383_80000208fe80row0_col5\" class=\"data row0 col5\" >7273.84</td>\n",
       "            </tr>\n",
       "            <tr>\n",
       "                                <td id=\"T_17d916f0_117e_11ea_b383_80000208fe80row1_col0\" class=\"data row1 col0\" >3.2</td>\n",
       "                        <td id=\"T_17d916f0_117e_11ea_b383_80000208fe80row1_col1\" class=\"data row1 col1\" >0.965</td>\n",
       "                        <td id=\"T_17d916f0_117e_11ea_b383_80000208fe80row1_col2\" class=\"data row1 col2\" >1</td>\n",
       "                        <td id=\"T_17d916f0_117e_11ea_b383_80000208fe80row1_col3\" class=\"data row1 col3\" >0.182</td>\n",
       "                        <td id=\"T_17d916f0_117e_11ea_b383_80000208fe80row1_col4\" class=\"data row1 col4\" >0.001</td>\n",
       "                        <td id=\"T_17d916f0_117e_11ea_b383_80000208fe80row1_col5\" class=\"data row1 col5\" >7356.56</td>\n",
       "            </tr>\n",
       "            <tr>\n",
       "                                <td id=\"T_17d916f0_117e_11ea_b383_80000208fe80row2_col0\" class=\"data row2 col0\" >6.4</td>\n",
       "                        <td id=\"T_17d916f0_117e_11ea_b383_80000208fe80row2_col1\" class=\"data row2 col1\" >0.895</td>\n",
       "                        <td id=\"T_17d916f0_117e_11ea_b383_80000208fe80row2_col2\" class=\"data row2 col2\" >1</td>\n",
       "                        <td id=\"T_17d916f0_117e_11ea_b383_80000208fe80row2_col3\" class=\"data row2 col3\" >0.11</td>\n",
       "                        <td id=\"T_17d916f0_117e_11ea_b383_80000208fe80row2_col4\" class=\"data row2 col4\" >0.001</td>\n",
       "                        <td id=\"T_17d916f0_117e_11ea_b383_80000208fe80row2_col5\" class=\"data row2 col5\" >7253.75</td>\n",
       "            </tr>\n",
       "            <tr>\n",
       "                                <td id=\"T_17d916f0_117e_11ea_b383_80000208fe80row3_col0\" class=\"data row3 col0\" >9.6</td>\n",
       "                        <td id=\"T_17d916f0_117e_11ea_b383_80000208fe80row3_col1\" class=\"data row3 col1\" >0.696</td>\n",
       "                        <td id=\"T_17d916f0_117e_11ea_b383_80000208fe80row3_col2\" class=\"data row3 col2\" >1</td>\n",
       "                        <td id=\"T_17d916f0_117e_11ea_b383_80000208fe80row3_col3\" class=\"data row3 col3\" >0.126</td>\n",
       "                        <td id=\"T_17d916f0_117e_11ea_b383_80000208fe80row3_col4\" class=\"data row3 col4\" >0.001</td>\n",
       "                        <td id=\"T_17d916f0_117e_11ea_b383_80000208fe80row3_col5\" class=\"data row3 col5\" >7355.85</td>\n",
       "            </tr>\n",
       "            <tr>\n",
       "                                <td id=\"T_17d916f0_117e_11ea_b383_80000208fe80row4_col0\" class=\"data row4 col0\" >12.8</td>\n",
       "                        <td id=\"T_17d916f0_117e_11ea_b383_80000208fe80row4_col1\" class=\"data row4 col1\" >0.521</td>\n",
       "                        <td id=\"T_17d916f0_117e_11ea_b383_80000208fe80row4_col2\" class=\"data row4 col2\" >1</td>\n",
       "                        <td id=\"T_17d916f0_117e_11ea_b383_80000208fe80row4_col3\" class=\"data row4 col3\" >0.157</td>\n",
       "                        <td id=\"T_17d916f0_117e_11ea_b383_80000208fe80row4_col4\" class=\"data row4 col4\" >0.001</td>\n",
       "                        <td id=\"T_17d916f0_117e_11ea_b383_80000208fe80row4_col5\" class=\"data row4 col5\" >7233.88</td>\n",
       "            </tr>\n",
       "            <tr>\n",
       "                                <td id=\"T_17d916f0_117e_11ea_b383_80000208fe80row5_col0\" class=\"data row5 col0\" >16</td>\n",
       "                        <td id=\"T_17d916f0_117e_11ea_b383_80000208fe80row5_col1\" class=\"data row5 col1\" >0.37</td>\n",
       "                        <td id=\"T_17d916f0_117e_11ea_b383_80000208fe80row5_col2\" class=\"data row5 col2\" >1</td>\n",
       "                        <td id=\"T_17d916f0_117e_11ea_b383_80000208fe80row5_col3\" class=\"data row5 col3\" >0.165</td>\n",
       "                        <td id=\"T_17d916f0_117e_11ea_b383_80000208fe80row5_col4\" class=\"data row5 col4\" >0.001</td>\n",
       "                        <td id=\"T_17d916f0_117e_11ea_b383_80000208fe80row5_col5\" class=\"data row5 col5\" >7389.38</td>\n",
       "            </tr>\n",
       "    </tbody></table>"
      ],
      "text/plain": [
       "<pandas.io.formats.style.Styler at 0x2b31e3542cc0>"
      ]
     },
     "metadata": {},
     "output_type": "display_data"
    },
    {
     "data": {
      "text/html": [
       "<style  type=\"text/css\" >\n",
       "</style><table id=\"T_17da8896_117e_11ea_b383_80000208fe80\" ><thead>    <tr>        <th class=\"col_heading level0 col0\" >std</th>        <th class=\"col_heading level0 col1\" >pipe_0</th>        <th class=\"col_heading level0 col2\" >pipe_1</th>        <th class=\"col_heading level0 col3\" >pipe_2</th>        <th class=\"col_heading level0 col4\" >pipe_3</th>        <th class=\"col_heading level0 col5\" >pipe_4</th>    </tr></thead><tbody>\n",
       "                <tr>\n",
       "                                <td id=\"T_17da8896_117e_11ea_b383_80000208fe80row0_col0\" class=\"data row0 col0\" >0</td>\n",
       "                        <td id=\"T_17da8896_117e_11ea_b383_80000208fe80row0_col1\" class=\"data row0 col1\" >PCA(copy=True, iterated_power=6, n_components=None, random_state=42,\n",
       "    svd_solver='randomized', tol=0.0, whiten=False)</td>\n",
       "                        <td id=\"T_17da8896_117e_11ea_b383_80000208fe80row0_col2\" class=\"data row0 col2\" >StackingEstimator(estimator=DecisionTreeClassifier(class_weight=None,\n",
       "                                                   criterion='gini',\n",
       "                                                   max_depth=6,\n",
       "                                                   max_features=None,\n",
       "                                                   max_leaf_nodes=None,\n",
       "                                                   min_impurity_decrease=0.0,\n",
       "                                                   min_impurity_split=None,\n",
       "                                                   min_samples_leaf=10,\n",
       "                                                   min_samples_split=2,\n",
       "                                                   min_weight_fraction_leaf=0.0,\n",
       "                                                   presort=False,\n",
       "                                                   random_state=42,\n",
       "                                                   splitter='best'))</td>\n",
       "                        <td id=\"T_17da8896_117e_11ea_b383_80000208fe80row0_col3\" class=\"data row0 col3\" >StackingEstimator(estimator=LinearSVC(C=25.0, class_weight=None, dual=True,\n",
       "                                      fit_intercept=True, intercept_scaling=1,\n",
       "                                      loss='squared_hinge', max_iter=1000,\n",
       "                                      multi_class='ovr', penalty='l2',\n",
       "                                      random_state=42, tol=0.01, verbose=0))</td>\n",
       "                        <td id=\"T_17da8896_117e_11ea_b383_80000208fe80row0_col4\" class=\"data row0 col4\" >StackingEstimator(estimator=GradientBoostingClassifier(criterion='friedman_mse',\n",
       "                                                       init=None,\n",
       "                                                       learning_rate=0.001,\n",
       "                                                       loss='deviance',\n",
       "                                                       max_depth=8,\n",
       "                                                       max_features=0.35000000000000003,\n",
       "                                                       max_leaf_nodes=None,\n",
       "                                                       min_impurity_decrease=0.0,\n",
       "                                                       min_impurity_split=None,\n",
       "                                                       min_samples_leaf=1,\n",
       "                                                       min_samples_split=13,\n",
       "                                                       min_weight_fraction_leaf=0.0,\n",
       "                                                       n_estimators=100,\n",
       "                                                       n_iter_no_change=None,\n",
       "                                                       presort='auto',\n",
       "                                                       random_state=42,\n",
       "                                                       subsample=1.0,\n",
       "                                                       tol=0.0001,\n",
       "                                                       validation_fraction=0.1,\n",
       "                                                       verbose=0,\n",
       "                                                       warm_start=False))</td>\n",
       "                        <td id=\"T_17da8896_117e_11ea_b383_80000208fe80row0_col5\" class=\"data row0 col5\" >KNeighborsClassifier(algorithm='auto', leaf_size=30, metric='minkowski',\n",
       "                     metric_params=None, n_jobs=None, n_neighbors=4, p=2,\n",
       "                     weights='distance')</td>\n",
       "            </tr>\n",
       "            <tr>\n",
       "                                <td id=\"T_17da8896_117e_11ea_b383_80000208fe80row1_col0\" class=\"data row1 col0\" >3.2</td>\n",
       "                        <td id=\"T_17da8896_117e_11ea_b383_80000208fe80row1_col1\" class=\"data row1 col1\" >PCA(copy=True, iterated_power=6, n_components=None, random_state=42,\n",
       "    svd_solver='randomized', tol=0.0, whiten=False)</td>\n",
       "                        <td id=\"T_17da8896_117e_11ea_b383_80000208fe80row1_col2\" class=\"data row1 col2\" >StackingEstimator(estimator=DecisionTreeClassifier(class_weight=None,\n",
       "                                                   criterion='gini',\n",
       "                                                   max_depth=6,\n",
       "                                                   max_features=None,\n",
       "                                                   max_leaf_nodes=None,\n",
       "                                                   min_impurity_decrease=0.0,\n",
       "                                                   min_impurity_split=None,\n",
       "                                                   min_samples_leaf=10,\n",
       "                                                   min_samples_split=2,\n",
       "                                                   min_weight_fraction_leaf=0.0,\n",
       "                                                   presort=False,\n",
       "                                                   random_state=42,\n",
       "                                                   splitter='best'))</td>\n",
       "                        <td id=\"T_17da8896_117e_11ea_b383_80000208fe80row1_col3\" class=\"data row1 col3\" >StackingEstimator(estimator=LinearSVC(C=25.0, class_weight=None, dual=True,\n",
       "                                      fit_intercept=True, intercept_scaling=1,\n",
       "                                      loss='squared_hinge', max_iter=1000,\n",
       "                                      multi_class='ovr', penalty='l2',\n",
       "                                      random_state=42, tol=0.01, verbose=0))</td>\n",
       "                        <td id=\"T_17da8896_117e_11ea_b383_80000208fe80row1_col4\" class=\"data row1 col4\" >StackingEstimator(estimator=GradientBoostingClassifier(criterion='friedman_mse',\n",
       "                                                       init=None,\n",
       "                                                       learning_rate=0.001,\n",
       "                                                       loss='deviance',\n",
       "                                                       max_depth=8,\n",
       "                                                       max_features=0.35000000000000003,\n",
       "                                                       max_leaf_nodes=None,\n",
       "                                                       min_impurity_decrease=0.0,\n",
       "                                                       min_impurity_split=None,\n",
       "                                                       min_samples_leaf=1,\n",
       "                                                       min_samples_split=13,\n",
       "                                                       min_weight_fraction_leaf=0.0,\n",
       "                                                       n_estimators=100,\n",
       "                                                       n_iter_no_change=None,\n",
       "                                                       presort='auto',\n",
       "                                                       random_state=42,\n",
       "                                                       subsample=1.0,\n",
       "                                                       tol=0.0001,\n",
       "                                                       validation_fraction=0.1,\n",
       "                                                       verbose=0,\n",
       "                                                       warm_start=False))</td>\n",
       "                        <td id=\"T_17da8896_117e_11ea_b383_80000208fe80row1_col5\" class=\"data row1 col5\" >KNeighborsClassifier(algorithm='auto', leaf_size=30, metric='minkowski',\n",
       "                     metric_params=None, n_jobs=None, n_neighbors=4, p=2,\n",
       "                     weights='distance')</td>\n",
       "            </tr>\n",
       "            <tr>\n",
       "                                <td id=\"T_17da8896_117e_11ea_b383_80000208fe80row2_col0\" class=\"data row2 col0\" >6.4</td>\n",
       "                        <td id=\"T_17da8896_117e_11ea_b383_80000208fe80row2_col1\" class=\"data row2 col1\" >PCA(copy=True, iterated_power=6, n_components=None, random_state=42,\n",
       "    svd_solver='randomized', tol=0.0, whiten=False)</td>\n",
       "                        <td id=\"T_17da8896_117e_11ea_b383_80000208fe80row2_col2\" class=\"data row2 col2\" >StackingEstimator(estimator=DecisionTreeClassifier(class_weight=None,\n",
       "                                                   criterion='gini',\n",
       "                                                   max_depth=6,\n",
       "                                                   max_features=None,\n",
       "                                                   max_leaf_nodes=None,\n",
       "                                                   min_impurity_decrease=0.0,\n",
       "                                                   min_impurity_split=None,\n",
       "                                                   min_samples_leaf=10,\n",
       "                                                   min_samples_split=2,\n",
       "                                                   min_weight_fraction_leaf=0.0,\n",
       "                                                   presort=False,\n",
       "                                                   random_state=42,\n",
       "                                                   splitter='best'))</td>\n",
       "                        <td id=\"T_17da8896_117e_11ea_b383_80000208fe80row2_col3\" class=\"data row2 col3\" >StackingEstimator(estimator=LinearSVC(C=25.0, class_weight=None, dual=True,\n",
       "                                      fit_intercept=True, intercept_scaling=1,\n",
       "                                      loss='squared_hinge', max_iter=1000,\n",
       "                                      multi_class='ovr', penalty='l2',\n",
       "                                      random_state=42, tol=0.01, verbose=0))</td>\n",
       "                        <td id=\"T_17da8896_117e_11ea_b383_80000208fe80row2_col4\" class=\"data row2 col4\" >StackingEstimator(estimator=GradientBoostingClassifier(criterion='friedman_mse',\n",
       "                                                       init=None,\n",
       "                                                       learning_rate=0.001,\n",
       "                                                       loss='deviance',\n",
       "                                                       max_depth=8,\n",
       "                                                       max_features=0.35000000000000003,\n",
       "                                                       max_leaf_nodes=None,\n",
       "                                                       min_impurity_decrease=0.0,\n",
       "                                                       min_impurity_split=None,\n",
       "                                                       min_samples_leaf=1,\n",
       "                                                       min_samples_split=13,\n",
       "                                                       min_weight_fraction_leaf=0.0,\n",
       "                                                       n_estimators=100,\n",
       "                                                       n_iter_no_change=None,\n",
       "                                                       presort='auto',\n",
       "                                                       random_state=42,\n",
       "                                                       subsample=1.0,\n",
       "                                                       tol=0.0001,\n",
       "                                                       validation_fraction=0.1,\n",
       "                                                       verbose=0,\n",
       "                                                       warm_start=False))</td>\n",
       "                        <td id=\"T_17da8896_117e_11ea_b383_80000208fe80row2_col5\" class=\"data row2 col5\" >KNeighborsClassifier(algorithm='auto', leaf_size=30, metric='minkowski',\n",
       "                     metric_params=None, n_jobs=None, n_neighbors=4, p=2,\n",
       "                     weights='distance')</td>\n",
       "            </tr>\n",
       "            <tr>\n",
       "                                <td id=\"T_17da8896_117e_11ea_b383_80000208fe80row3_col0\" class=\"data row3 col0\" >9.6</td>\n",
       "                        <td id=\"T_17da8896_117e_11ea_b383_80000208fe80row3_col1\" class=\"data row3 col1\" >PCA(copy=True, iterated_power=6, n_components=None, random_state=42,\n",
       "    svd_solver='randomized', tol=0.0, whiten=False)</td>\n",
       "                        <td id=\"T_17da8896_117e_11ea_b383_80000208fe80row3_col2\" class=\"data row3 col2\" >StackingEstimator(estimator=DecisionTreeClassifier(class_weight=None,\n",
       "                                                   criterion='gini',\n",
       "                                                   max_depth=6,\n",
       "                                                   max_features=None,\n",
       "                                                   max_leaf_nodes=None,\n",
       "                                                   min_impurity_decrease=0.0,\n",
       "                                                   min_impurity_split=None,\n",
       "                                                   min_samples_leaf=10,\n",
       "                                                   min_samples_split=2,\n",
       "                                                   min_weight_fraction_leaf=0.0,\n",
       "                                                   presort=False,\n",
       "                                                   random_state=42,\n",
       "                                                   splitter='best'))</td>\n",
       "                        <td id=\"T_17da8896_117e_11ea_b383_80000208fe80row3_col3\" class=\"data row3 col3\" >StackingEstimator(estimator=LinearSVC(C=25.0, class_weight=None, dual=True,\n",
       "                                      fit_intercept=True, intercept_scaling=1,\n",
       "                                      loss='squared_hinge', max_iter=1000,\n",
       "                                      multi_class='ovr', penalty='l2',\n",
       "                                      random_state=42, tol=0.01, verbose=0))</td>\n",
       "                        <td id=\"T_17da8896_117e_11ea_b383_80000208fe80row3_col4\" class=\"data row3 col4\" >StackingEstimator(estimator=GradientBoostingClassifier(criterion='friedman_mse',\n",
       "                                                       init=None,\n",
       "                                                       learning_rate=0.001,\n",
       "                                                       loss='deviance',\n",
       "                                                       max_depth=8,\n",
       "                                                       max_features=0.35000000000000003,\n",
       "                                                       max_leaf_nodes=None,\n",
       "                                                       min_impurity_decrease=0.0,\n",
       "                                                       min_impurity_split=None,\n",
       "                                                       min_samples_leaf=1,\n",
       "                                                       min_samples_split=13,\n",
       "                                                       min_weight_fraction_leaf=0.0,\n",
       "                                                       n_estimators=100,\n",
       "                                                       n_iter_no_change=None,\n",
       "                                                       presort='auto',\n",
       "                                                       random_state=42,\n",
       "                                                       subsample=1.0,\n",
       "                                                       tol=0.0001,\n",
       "                                                       validation_fraction=0.1,\n",
       "                                                       verbose=0,\n",
       "                                                       warm_start=False))</td>\n",
       "                        <td id=\"T_17da8896_117e_11ea_b383_80000208fe80row3_col5\" class=\"data row3 col5\" >KNeighborsClassifier(algorithm='auto', leaf_size=30, metric='minkowski',\n",
       "                     metric_params=None, n_jobs=None, n_neighbors=4, p=2,\n",
       "                     weights='distance')</td>\n",
       "            </tr>\n",
       "            <tr>\n",
       "                                <td id=\"T_17da8896_117e_11ea_b383_80000208fe80row4_col0\" class=\"data row4 col0\" >12.8</td>\n",
       "                        <td id=\"T_17da8896_117e_11ea_b383_80000208fe80row4_col1\" class=\"data row4 col1\" >PCA(copy=True, iterated_power=6, n_components=None, random_state=42,\n",
       "    svd_solver='randomized', tol=0.0, whiten=False)</td>\n",
       "                        <td id=\"T_17da8896_117e_11ea_b383_80000208fe80row4_col2\" class=\"data row4 col2\" >StackingEstimator(estimator=DecisionTreeClassifier(class_weight=None,\n",
       "                                                   criterion='gini',\n",
       "                                                   max_depth=6,\n",
       "                                                   max_features=None,\n",
       "                                                   max_leaf_nodes=None,\n",
       "                                                   min_impurity_decrease=0.0,\n",
       "                                                   min_impurity_split=None,\n",
       "                                                   min_samples_leaf=10,\n",
       "                                                   min_samples_split=2,\n",
       "                                                   min_weight_fraction_leaf=0.0,\n",
       "                                                   presort=False,\n",
       "                                                   random_state=42,\n",
       "                                                   splitter='best'))</td>\n",
       "                        <td id=\"T_17da8896_117e_11ea_b383_80000208fe80row4_col3\" class=\"data row4 col3\" >StackingEstimator(estimator=LinearSVC(C=25.0, class_weight=None, dual=True,\n",
       "                                      fit_intercept=True, intercept_scaling=1,\n",
       "                                      loss='squared_hinge', max_iter=1000,\n",
       "                                      multi_class='ovr', penalty='l2',\n",
       "                                      random_state=42, tol=0.01, verbose=0))</td>\n",
       "                        <td id=\"T_17da8896_117e_11ea_b383_80000208fe80row4_col4\" class=\"data row4 col4\" >StackingEstimator(estimator=GradientBoostingClassifier(criterion='friedman_mse',\n",
       "                                                       init=None,\n",
       "                                                       learning_rate=0.001,\n",
       "                                                       loss='deviance',\n",
       "                                                       max_depth=8,\n",
       "                                                       max_features=0.35000000000000003,\n",
       "                                                       max_leaf_nodes=None,\n",
       "                                                       min_impurity_decrease=0.0,\n",
       "                                                       min_impurity_split=None,\n",
       "                                                       min_samples_leaf=1,\n",
       "                                                       min_samples_split=13,\n",
       "                                                       min_weight_fraction_leaf=0.0,\n",
       "                                                       n_estimators=100,\n",
       "                                                       n_iter_no_change=None,\n",
       "                                                       presort='auto',\n",
       "                                                       random_state=42,\n",
       "                                                       subsample=1.0,\n",
       "                                                       tol=0.0001,\n",
       "                                                       validation_fraction=0.1,\n",
       "                                                       verbose=0,\n",
       "                                                       warm_start=False))</td>\n",
       "                        <td id=\"T_17da8896_117e_11ea_b383_80000208fe80row4_col5\" class=\"data row4 col5\" >KNeighborsClassifier(algorithm='auto', leaf_size=30, metric='minkowski',\n",
       "                     metric_params=None, n_jobs=None, n_neighbors=4, p=2,\n",
       "                     weights='distance')</td>\n",
       "            </tr>\n",
       "            <tr>\n",
       "                                <td id=\"T_17da8896_117e_11ea_b383_80000208fe80row5_col0\" class=\"data row5 col0\" >16</td>\n",
       "                        <td id=\"T_17da8896_117e_11ea_b383_80000208fe80row5_col1\" class=\"data row5 col1\" >PCA(copy=True, iterated_power=6, n_components=None, random_state=42,\n",
       "    svd_solver='randomized', tol=0.0, whiten=False)</td>\n",
       "                        <td id=\"T_17da8896_117e_11ea_b383_80000208fe80row5_col2\" class=\"data row5 col2\" >StackingEstimator(estimator=DecisionTreeClassifier(class_weight=None,\n",
       "                                                   criterion='gini',\n",
       "                                                   max_depth=6,\n",
       "                                                   max_features=None,\n",
       "                                                   max_leaf_nodes=None,\n",
       "                                                   min_impurity_decrease=0.0,\n",
       "                                                   min_impurity_split=None,\n",
       "                                                   min_samples_leaf=10,\n",
       "                                                   min_samples_split=2,\n",
       "                                                   min_weight_fraction_leaf=0.0,\n",
       "                                                   presort=False,\n",
       "                                                   random_state=42,\n",
       "                                                   splitter='best'))</td>\n",
       "                        <td id=\"T_17da8896_117e_11ea_b383_80000208fe80row5_col3\" class=\"data row5 col3\" >StackingEstimator(estimator=LinearSVC(C=25.0, class_weight=None, dual=True,\n",
       "                                      fit_intercept=True, intercept_scaling=1,\n",
       "                                      loss='squared_hinge', max_iter=1000,\n",
       "                                      multi_class='ovr', penalty='l2',\n",
       "                                      random_state=42, tol=0.01, verbose=0))</td>\n",
       "                        <td id=\"T_17da8896_117e_11ea_b383_80000208fe80row5_col4\" class=\"data row5 col4\" >StackingEstimator(estimator=GradientBoostingClassifier(criterion='friedman_mse',\n",
       "                                                       init=None,\n",
       "                                                       learning_rate=0.001,\n",
       "                                                       loss='deviance',\n",
       "                                                       max_depth=8,\n",
       "                                                       max_features=0.35000000000000003,\n",
       "                                                       max_leaf_nodes=None,\n",
       "                                                       min_impurity_decrease=0.0,\n",
       "                                                       min_impurity_split=None,\n",
       "                                                       min_samples_leaf=1,\n",
       "                                                       min_samples_split=13,\n",
       "                                                       min_weight_fraction_leaf=0.0,\n",
       "                                                       n_estimators=100,\n",
       "                                                       n_iter_no_change=None,\n",
       "                                                       presort='auto',\n",
       "                                                       random_state=42,\n",
       "                                                       subsample=1.0,\n",
       "                                                       tol=0.0001,\n",
       "                                                       validation_fraction=0.1,\n",
       "                                                       verbose=0,\n",
       "                                                       warm_start=False))</td>\n",
       "                        <td id=\"T_17da8896_117e_11ea_b383_80000208fe80row5_col5\" class=\"data row5 col5\" >KNeighborsClassifier(algorithm='auto', leaf_size=30, metric='minkowski',\n",
       "                     metric_params=None, n_jobs=None, n_neighbors=4, p=2,\n",
       "                     weights='distance')</td>\n",
       "            </tr>\n",
       "    </tbody></table>"
      ],
      "text/plain": [
       "<pandas.io.formats.style.Styler at 0x2b31e3542c50>"
      ]
     },
     "metadata": {},
     "output_type": "display_data"
    },
    {
     "data": {
      "image/png": "[encoded data removed]",
      "text/plain": [
       "<Figure size 720x288 with 2 Axes>"
      ]
     },
     "metadata": {
      "needs_background": "light"
     },
     "output_type": "display_data"
    }
   ],
   "source": [
    "print_results_by_model(df,\n",
    "    # [\"train_labels\", \"test_labels\"],\n",
    "    [\"mean\", \"min_val\", \"max_val\", \"train_labels\", \"test_labels\"], \n",
    "    # err_param_name=\"max_angle\",\n",
    "    err_param_name=\"std\",\n",
    "    pipeline_name=\"best_pipeline\"\n",
    ")\n",
    "visualize(df)"
   ]
  },
  {
   "cell_type": "markdown",
   "metadata": {
    "collapsed": false,
    "papermill": {
     "duration": 0.260474,
     "end_time": "2019-11-28T01:26:27.221839",
     "exception": false,
     "start_time": "2019-11-28T01:26:26.961365",
     "status": "completed"
    },
    "pycharm": {
     "name": "#%% md\n"
    },
    "tags": []
   },
   "source": []
  }
 ],
 "metadata": {
  "kernelspec": {
   "display_name": "Python 3",
   "language": "python",
   "name": "python3"
  },
  "language_info": {
   "codemirror_mode": {
    "name": "ipython",
    "version": 3
   },
   "file_extension": ".py",
   "mimetype": "text/x-python",
   "name": "python",
   "nbconvert_exporter": "python",
   "pygments_lexer": "ipython3",
   "version": "3.6.6"
  },
  "papermill": {
   "duration": 246316.099006,
   "end_time": "2019-11-28T01:26:32.611892",
   "environment_variables": {},
   "exception": null,
   "input_path": "docs/case_studies/test12.ipynb",
   "output_path": "docs/case_studies/test12.ipynb",
   "parameters": {},
   "start_time": "2019-11-25T05:01:16.512886",
   "version": "1.2.0"
  },
  "pycharm": {
   "stem_cell": {
    "cell_type": "raw",
    "source": [],
    "metadata": {
     "collapsed": false
    }
   }
  },
  "widgets": {
   "application/vnd.jupyter.widget-state+json": {
    "state": {},
    "version_major": 2,
    "version_minor": 0
   }
  }
 },
 "nbformat": 4,
 "nbformat_minor": 0
}