{
 "cells": [
  {
   "cell_type": "markdown",
   "metadata": {
    "collapsed": false,
    "papermill": {
     "duration": 0.031599,
     "end_time": "2019-10-22T21:40:00.775073",
     "exception": false,
     "start_time": "2019-10-22T21:40:00.743474",
     "status": "completed"
    },
    "tags": []
   },
   "source": [
    "# AutoML Image Classification: Added Noise (Fashion)"
   ]
  },
  {
   "cell_type": "code",
   "metadata": {
    "collapsed": false,
    "papermill": {
     "duration": 0.012714,
     "end_time": "2019-10-22T21:40:00.801662",
     "exception": false,
     "start_time": "2019-10-22T21:40:00.788948",
     "status": "completed"
    },
    "tags": [],
    "pycharm": {
     "name": "#%%\n"
    }
   },
   "source": [
    "import warnings\n",
    "warnings.simplefilter(action=\"ignore\", category=FutureWarning)"
   ],
   "execution_count": null,
   "outputs": []
  },
  {
   "cell_type": "markdown",
   "metadata": {
    "collapsed": false,
    "papermill": {
     "duration": 13.919826,
     "end_time": "2019-10-22T21:40:14.732865",
     "exception": false,
     "start_time": "2019-10-22T21:40:00.813039",
     "status": "completed"
    },
    "pycharm": {
     "name": "#%% md\n"
    },
    "tags": []
   },
   "source": [
    "![](imgs/gaussian_noise.png)"
   ]
  },
  {
   "cell_type": "code",
   "metadata": {
    "collapsed": false,
    "papermill": {
     "duration": 0.01341,
     "end_time": "2019-10-22T21:40:14.773912",
     "exception": false,
     "start_time": "2019-10-22T21:40:14.760502",
     "status": "completed"
    },
    "pycharm": {
     "name": "#%%\n"
    },
    "tags": []
   },
   "source": [
    "import random as rn\n",
    "from abc import ABC, abstractmethod\n",
    "\n",
    "import autokeras as ak\n",
    "import h2o\n",
    "import matplotlib.pyplot as plt\n",
    "import numpy as np\n",
    "from h2o.automl import H2OAutoML\n",
    "from keras.datasets import fashion_mnist\n",
    "from numpy.random import RandomState\n",
    "from sklearn.datasets import load_digits\n",
    "from sklearn.metrics import accuracy_score\n",
    "from sklearn.model_selection import train_test_split\n",
    "from tpot import TPOTClassifier\n",
    "\n",
    "from dpemu import runner\n",
    "from dpemu.filters.common import GaussianNoise, Clip\n",
    "from dpemu.filters.image import RotationPIL\n",
    "from dpemu.nodes import Array\n",
    "from dpemu.nodes.series import Series\n",
    "from dpemu.plotting_utils import visualize_scores, print_results_by_model\n",
    "from dpemu.utils import generate_tmpdir"
   ],
   "execution_count": null,
   "outputs": []
  },
  {
   "cell_type": "markdown",
   "metadata": {
    "collapsed": false,
    "papermill": {
     "duration": 0.02822,
     "end_time": "2019-10-22T21:40:14.814337",
     "exception": false,
     "start_time": "2019-10-22T21:40:14.786117",
     "status": "completed"
    },
    "pycharm": {
     "is_executing": false,
     "name": "#%% md\n"
    },
    "tags": []
   },
   "source": []
  },
  {
   "cell_type": "code",
   "metadata": {
    "collapsed": false,
    "papermill": {
     "duration": 0.012471,
     "end_time": "2019-10-22T21:40:14.844798",
     "exception": false,
     "start_time": "2019-10-22T21:40:14.832327",
     "status": "completed"
    },
    "pycharm": {
     "name": "#%%\n"
    },
    "tags": []
   },
   "source": [
    "def get_data():\n",
    "    # random_state = RandomState(42)\n",
    "    # x, y = load_digits(return_X_y=True)\n",
    "    # y = y.astype(np.uint8)\n",
    "    # return train_test_split(x, y, test_size=.25, random_state=random_state)\n",
    "    (x_train, y_train), (x_test, y_test) = fashion_mnist.load_data()\n",
    "    s = x_train.shape[1]\n",
    "    x_train = x_train.reshape((len(x_train), s**2)).astype(np.float64)\n",
    "    x_test = x_test.reshape((len(x_test), s**2)).astype(np.float64)\n",
    "    return x_train, x_test, y_train, y_test"
   ],
   "execution_count": null,
   "outputs": []
  },
  {
   "cell_type": "markdown",
   "metadata": {
    "collapsed": false,
    "papermill": {
     "duration": 0.026881,
     "end_time": "2019-10-22T21:40:14.883820",
     "exception": false,
     "start_time": "2019-10-22T21:40:14.856939",
     "status": "completed"
    },
    "pycharm": {
     "is_executing": false,
     "name": "#%% md\n"
    },
    "tags": []
   },
   "source": []
  },
  {
   "cell_type": "code",
   "metadata": {
    "collapsed": false,
    "papermill": {
     "duration": 0.012836,
     "end_time": "2019-10-22T21:40:14.915380",
     "exception": false,
     "start_time": "2019-10-22T21:40:14.902544",
     "status": "completed"
    },
    "pycharm": {
     "name": "#%%\n"
    },
    "tags": []
   },
   "source": [
    "def get_err_root_node():\n",
    "    # err_img_node = Array(reshape=(8, 8))\n",
    "    err_img_node = Array(reshape=(28, 28))\n",
    "\n",
    "    # err_root_node = Series(err_img_node)\n",
    "    # err_img_node.addfilter(RotationPIL(\"max_angle\"))\n",
    "    # return err_root_node\n",
    "    err_root_node = Series(err_img_node)\n",
    "    err_img_node.addfilter(GaussianNoise(\"mean\", \"std\"))\n",
    "    err_img_node.addfilter(Clip(\"min_val\", \"max_val\"))\n",
    "    return err_root_node"
   ],
   "execution_count": null,
   "outputs": []
  },
  {
   "cell_type": "markdown",
   "metadata": {
    "collapsed": false,
    "papermill": {
     "duration": 0.028135,
     "end_time": "2019-10-22T21:40:14.955385",
     "exception": false,
     "start_time": "2019-10-22T21:40:14.927250",
     "status": "completed"
    },
    "pycharm": {
     "is_executing": false,
     "name": "#%% md\n"
    },
    "tags": []
   },
   "source": []
  },
  {
   "cell_type": "code",
   "metadata": {
    "collapsed": false,
    "papermill": {
     "duration": 0.012748,
     "end_time": "2019-10-22T21:40:14.986467",
     "exception": false,
     "start_time": "2019-10-22T21:40:14.973719",
     "status": "completed"
    },
    "pycharm": {
     "name": "#%%\n"
    },
    "tags": []
   },
   "source": [
    "def get_err_params_list(data):\n",
    "    # angle_steps = np.linspace(0, 90, num=6)\n",
    "    # err_params_list = [{\"max_angle\": a} for a in angle_steps]\n",
    "    # return err_params_list\n",
    "    min_val = np.amin(data)\n",
    "    max_val = np.amax(data)\n",
    "    std_steps = np.round(np.linspace(0, max_val, num=6), 3)\n",
    "    err_params_list = [{\"mean\": 0, \"std\": std, \"min_val\": min_val, \"max_val\": max_val} for std in std_steps]\n",
    "    return err_params_list"
   ],
   "execution_count": null,
   "outputs": []
  },
  {
   "cell_type": "markdown",
   "metadata": {
    "collapsed": false,
    "papermill": {
     "duration": 0.024347,
     "end_time": "2019-10-22T21:40:15.023212",
     "exception": false,
     "start_time": "2019-10-22T21:40:14.998865",
     "status": "completed"
    },
    "pycharm": {
     "is_executing": false,
     "name": "#%% md\n"
    },
    "tags": []
   },
   "source": []
  },
  {
   "cell_type": "code",
   "metadata": {
    "collapsed": false,
    "papermill": {
     "duration": 0.011725,
     "end_time": "2019-10-22T21:40:15.051649",
     "exception": false,
     "start_time": "2019-10-22T21:40:15.039924",
     "status": "completed"
    },
    "pycharm": {
     "name": "#%%\n"
    },
    "tags": []
   },
   "source": [
    "class Preprocessor:\n",
    "\n",
    "    def run(self, train_data, test_data, params):\n",
    "        return np.round(train_data).astype(np.uint8), np.round(test_data).astype(np.uint8), {}"
   ],
   "execution_count": null,
   "outputs": []
  },
  {
   "cell_type": "markdown",
   "metadata": {
    "collapsed": false,
    "papermill": {
     "duration": 0.059359,
     "end_time": "2019-10-22T21:40:15.123056",
     "exception": false,
     "start_time": "2019-10-22T21:40:15.063697",
     "status": "completed"
    },
    "pycharm": {
     "is_executing": false,
     "name": "#%% md\n"
    },
    "tags": []
   },
   "source": []
  },
  {
   "cell_type": "code",
   "metadata": {
    "collapsed": false,
    "papermill": {
     "duration": 0.013206,
     "end_time": "2019-10-22T21:40:15.160092",
     "exception": false,
     "start_time": "2019-10-22T21:40:15.146886",
     "status": "completed"
    },
    "pycharm": {
     "name": "#%%\n"
    },
    "tags": []
   },
   "source": [
    "class AbstractModel(ABC):\n",
    "\n",
    "    def __init__(self):\n",
    "        self.time_limit_mins = 60*6\n",
    "        self.seed = 42\n",
    "        self.random_state = RandomState(self.seed)\n",
    "        np.random.seed(self.seed)\n",
    "\n",
    "    @abstractmethod\n",
    "    def get_fitted_model(self, train_data, train_labels, params):\n",
    "        pass\n",
    "\n",
    "    @abstractmethod\n",
    "    def get_accuracy(self, data, labels, fitted_model, params):\n",
    "        pass\n",
    "\n",
    "    @abstractmethod\n",
    "    def get_best_pipeline(self, fitted_model):\n",
    "        pass\n",
    "\n",
    "    def run(self, train_data, test_data, params):\n",
    "        train_labels = params[\"train_labels\"]\n",
    "        test_labels = params[\"test_labels\"]\n",
    "\n",
    "        fitted_model = self.get_fitted_model(train_data, train_labels, params)\n",
    "\n",
    "        results = {\n",
    "            \"test_acc\": self.get_accuracy(test_data, test_labels, fitted_model, params),\n",
    "            \"train_acc\": self.get_accuracy(train_data, train_labels, fitted_model, params),\n",
    "            \"best_pipeline\": self.get_best_pipeline(fitted_model),\n",
    "        }\n",
    "        print(type(fitted_model))\n",
    "        print(results[\"test_acc\"])\n",
    "        return results\n",
    "\n",
    "class TPOTClassifierModel(AbstractModel):\n",
    "\n",
    "    def __init__(self):\n",
    "        super().__init__()\n",
    "\n",
    "    def get_fitted_model(self, train_data, train_labels, params):\n",
    "        return TPOTClassifier(\n",
    "            max_time_mins=self.time_limit_mins,\n",
    "            max_eval_time_mins=self.time_limit_mins,\n",
    "            n_jobs=-1,\n",
    "            random_state=self.seed,\n",
    "            verbosity=1,\n",
    "        ).fit(train_data, train_labels)\n",
    "    \n",
    "    def get_accuracy(self, data, labels, fitted_model, params):\n",
    "        return round(fitted_model.score(data, labels), 3)\n",
    "\n",
    "    def get_best_pipeline(self, fitted_model):\n",
    "        return [step[1] for step in fitted_model.fitted_pipeline_.steps]\n",
    "\n",
    "class H2OAutoMLModel(AbstractModel):\n",
    "\n",
    "    def __init__(self):\n",
    "        super().__init__()\n",
    "        h2o.init(name=f\"#{rn.SystemRandom().randint(1, 2**30)}\", nthreads=48, max_mem_size_GB=250)\n",
    "        h2o.no_progress()\n",
    "\n",
    "    def get_fitted_model(self, train_data, train_labels, params):\n",
    "        train_data = h2o.H2OFrame(np.concatenate((train_data, train_labels.reshape(-1, 1)), axis=1))\n",
    "        x = np.array(train_data.columns)[:-1].tolist()\n",
    "        y = np.array(train_data.columns)[-1].tolist()\n",
    "        train_data[y] = train_data[y].asfactor()\n",
    "        aml = H2OAutoML(max_runtime_secs=60*self.time_limit_mins, seed=self.seed)\n",
    "        aml.train(x=x, y=y, training_frame=train_data)\n",
    "        return aml\n",
    "\n",
    "    def get_accuracy(self, data, labels, fitted_model, params):\n",
    "        data = h2o.H2OFrame(np.concatenate((data, labels.reshape(-1, 1)), axis=1))\n",
    "        y = np.array(data.columns)[-1].tolist()\n",
    "        data[y] = data[y].asfactor()\n",
    "        pred = fitted_model.predict(data).as_data_frame(header=False)[\"predict\"].values.astype(int)\n",
    "        return np.round(np.mean(pred == labels), 3)\n",
    "\n",
    "    def get_best_pipeline(self, fitted_model):\n",
    "        leader_params = fitted_model.leader.get_params()\n",
    "        best_pipeline = [leader_params[\"model_id\"][\"actual_value\"][\"name\"]]\n",
    "        if \"base_models\" in leader_params:\n",
    "            for base_model in leader_params[\"base_models\"][\"actual_value\"]:\n",
    "                best_pipeline.append(base_model[\"name\"])\n",
    "        print(best_pipeline)\n",
    "        h2o.cluster().shutdown()\n",
    "        return best_pipeline\n",
    "\n",
    "class AutoKerasModel(AbstractModel):\n",
    "\n",
    "    def __init__(self):\n",
    "        super().__init__()\n",
    "        import tensorflow as tf\n",
    "        tf.set_random_seed(self.seed)\n",
    "        import torch\n",
    "        torch.multiprocessing.set_sharing_strategy(\"file_system\")\n",
    "        torch.manual_seed(self.seed)\n",
    "\n",
    "    def get_fitted_model(self, x_train, y_train, params):\n",
    "        s = np.sqrt(x_train.shape[1]).astype(int)\n",
    "        x_train = x_train.reshape((len(x_train), s, s, 1))\n",
    "        clf = ak.ImageClassifier(augment=False, path=generate_tmpdir(), verbose=False)\n",
    "        clf.fit(x_train, y_train, time_limit=60*self.time_limit_mins)\n",
    "        return clf\n",
    "\n",
    "    def get_accuracy(self, x, y, clf, params):\n",
    "        s = np.sqrt(x.shape[1]).astype(int)\n",
    "        x = x.reshape((len(x), s, s, 1))\n",
    "        y_pred = clf.predict(x)\n",
    "        return np.round(accuracy_score(y_true=y, y_pred=y_pred), 3)\n",
    "\n",
    "    def get_best_pipeline(self, clf):\n",
    "        return [m for i, m in enumerate(clf.cnn.best_model.produce_model().modules()) if i > 0]"
   ],
   "execution_count": null,
   "outputs": []
  },
  {
   "cell_type": "markdown",
   "metadata": {
    "collapsed": false,
    "papermill": {
     "duration": 0.032818,
     "end_time": "2019-10-22T21:40:15.205084",
     "exception": false,
     "start_time": "2019-10-22T21:40:15.172266",
     "status": "completed"
    },
    "pycharm": {
     "name": "#%% md\n"
    },
    "tags": []
   },
   "source": []
  },
  {
   "cell_type": "code",
   "execution_count": null,
   "outputs": [],
   "source": [
    "def get_model_params_dict_list(train_labels, test_labels):\n",
    "    model_params_base = {\"train_labels\": train_labels, \"test_labels\": test_labels}\n",
    "    return [\n",
    "        {\n",
    "            \"model\": H2OAutoMLModel,\n",
    "            \"params_list\": [{**model_params_base}],\n",
    "            \"use_clean_train_data\": False\n",
    "        },\n",
    "        {\n",
    "            \"model\": H2OAutoMLModel,\n",
    "            \"params_list\": [{**model_params_base}],\n",
    "            \"use_clean_train_data\": True\n",
    "        },\n",
    "        # {\n",
    "        #     \"model\": TPOTClassifierModel,\n",
    "        #     \"params_list\": [{**model_params_base}],\n",
    "        #     \"use_clean_train_data\": False\n",
    "        # },\n",
    "        # {\n",
    "        #     \"model\": TPOTClassifierModel,\n",
    "        #     \"params_list\": [{**model_params_base}],\n",
    "        #     \"use_clean_train_data\": True\n",
    "        # },\n",
    "        # {\n",
    "        #     \"model\": AutoKerasModel,\n",
    "        #     \"params_list\": [{**model_params_base}],\n",
    "        #     \"use_clean_train_data\": False\n",
    "        # },\n",
    "        # {\n",
    "        #     \"model\": AutoKerasModel,\n",
    "        #     \"params_list\": [{**model_params_base}],\n",
    "        #     \"use_clean_train_data\": True\n",
    "        # },\n",
    "    ]"
   ],
   "metadata": {
    "collapsed": false,
    "pycharm": {
     "name": "#%%\n"
    }
   }
  },
  {
   "cell_type": "markdown",
   "metadata": {
    "collapsed": false,
    "papermill": {
     "duration": 0.012796,
     "end_time": "2019-10-22T21:40:15.237779",
     "exception": false,
     "start_time": "2019-10-22T21:40:15.224983",
     "status": "completed"
    },
    "pycharm": {
     "is_executing": false,
     "name": "#%% md\n"
    },
    "tags": []
   },
   "source": []
  },
  {
   "cell_type": "code",
   "execution_count": 8,
   "metadata": {
    "collapsed": false,
    "papermill": {
     "duration": 0.025531,
     "end_time": "2019-10-22T21:40:15.275475",
     "exception": false,
     "start_time": "2019-10-22T21:40:15.249944",
     "status": "completed"
    },
    "pycharm": {
     "name": "#%%\n"
    },
    "tags": []
   },
   "outputs": [],
   "source": [
    "def visualize(df):\n",
    "    visualize_scores(\n",
    "        df,\n",
    "        score_names=[\"test_acc\", \"train_acc\"],\n",
    "        is_higher_score_better=[True, True],\n",
    "        # err_param_name=\"max_angle\",\n",
    "        err_param_name=\"std\",\n",
    "        title=\"Classification scores with added error\"\n",
    "    )\n",
    "    plt.show()"
   ]
  },
  {
   "cell_type": "markdown",
   "metadata": {
    "collapsed": false,
    "papermill": {
     "duration": 0.012062,
     "end_time": "2019-10-22T21:40:15.304509",
     "exception": false,
     "start_time": "2019-10-22T21:40:15.292447",
     "status": "completed"
    },
    "pycharm": {
     "is_executing": false,
     "name": "#%% md\n"
    },
    "tags": []
   },
   "source": []
  },
  {
   "cell_type": "code",
   "execution_count": null,
   "metadata": {
    "collapsed": false,
    "papermill": {
     "duration": null,
     "end_time": null,
     "exception": false,
     "start_time": "2019-10-22T21:40:15.316582",
     "status": "running"
    },
    "pycharm": {
     "is_executing": false,
     "name": "#%%\n"
    },
    "tags": []
   },
   "outputs": [],
   "source": [
    "train_data, test_data, train_labels, test_labels = get_data()\n",
    "\n",
    "df = runner.run(\n",
    "    train_data=train_data,\n",
    "    test_data=test_data,\n",
    "    preproc=Preprocessor,\n",
    "    preproc_params=None,\n",
    "    err_root_node=get_err_root_node(),\n",
    "    # err_params_list=get_err_params_list(),\n",
    "    err_params_list=get_err_params_list(train_data),\n",
    "    model_params_dict_list=get_model_params_dict_list(train_labels, test_labels),\n",
    "    n_processes=1\n",
    ")"
   ]
  },
  {
   "cell_type": "code",
   "execution_count": null,
   "metadata": {
    "collapsed": false,
    "papermill": {
     "duration": null,
     "end_time": null,
     "exception": null,
     "start_time": null,
     "status": "pending"
    },
    "pycharm": {
     "name": "#%%\n"
    },
    "tags": []
   },
   "outputs": [],
   "source": [
    "print_results_by_model(df,\n",
    "    # [\"train_labels\", \"test_labels\"],\n",
    "    [\"mean\", \"min_val\", \"max_val\", \"train_labels\", \"test_labels\"], \n",
    "    # err_param_name=\"max_angle\",\n",
    "    err_param_name=\"std\",\n",
    "    pipeline_name=\"best_pipeline\"\n",
    ")\n",
    "visualize(df)"
   ]
  },
  {
   "cell_type": "markdown",
   "metadata": {
    "collapsed": false,
    "papermill": {
     "duration": null,
     "end_time": null,
     "exception": null,
     "start_time": null,
     "status": "pending"
    },
    "pycharm": {
     "name": "#%% md\n"
    },
    "tags": []
   },
   "source": []
  }
 ],
 "metadata": {
  "kernelspec": {
   "display_name": "Python 3",
   "language": "python",
   "name": "python3"
  },
  "language_info": {
   "codemirror_mode": {
    "name": "ipython",
    "version": 3
   },
   "file_extension": ".py",
   "mimetype": "text/x-python",
   "name": "python",
   "nbconvert_exporter": "python",
   "pygments_lexer": "ipython3",
   "version": "3.6.6"
  },
  "papermill": {
   "duration": null,
   "end_time": null,
   "environment_variables": {},
   "exception": null,
   "input_path": "docs/case_studies/test6.ipynb",
   "output_path": "docs/case_studies/test6.ipynb",
   "parameters": {},
   "start_time": "2019-10-22T21:39:58.238150",
   "version": "1.2.0"
  },
  "pycharm": {
   "stem_cell": {
    "cell_type": "raw",
    "source": [],
    "metadata": {
     "collapsed": false
    }
   }
  },
  "widgets": {
   "application/vnd.jupyter.widget-state+json": {
    "state": {},
    "version_major": 2,
    "version_minor": 0
   }
  }
 },
 "nbformat": 4,
 "nbformat_minor": 0
}