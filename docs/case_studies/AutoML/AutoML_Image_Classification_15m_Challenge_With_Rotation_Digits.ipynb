{
 "cells": [
  {
   "cell_type": "markdown",
   "metadata": {
    "collapsed": false,
    "papermill": {
     "duration": 0.03777,
     "end_time": "2019-11-19T12:40:17.527783",
     "exception": false,
     "start_time": "2019-11-19T12:40:17.490013",
     "status": "completed"
    },
    "tags": []
   },
   "source": [
    "# AutoML Image Classification: 15m Challenge With Rotation (Digits)"
   ]
  },
  {
   "cell_type": "code",
   "execution_count": 1,
   "metadata": {
    "collapsed": false,
    "papermill": {
     "duration": 0.036215,
     "end_time": "2019-11-19T12:40:17.591180",
     "exception": false,
     "start_time": "2019-11-19T12:40:17.554965",
     "status": "completed"
    },
    "pycharm": {
     "name": "#%%\n"
    },
    "tags": []
   },
   "outputs": [],
   "source": [
    "import warnings\n",
    "warnings.simplefilter(action=\"ignore\", category=FutureWarning)"
   ]
  },
  {
   "cell_type": "markdown",
   "metadata": {
    "collapsed": false,
    "papermill": {
     "duration": 0.01921,
     "end_time": "2019-11-19T12:40:17.631634",
     "exception": false,
     "start_time": "2019-11-19T12:40:17.612424",
     "status": "completed"
    },
    "tags": []
   },
   "source": [
    "![](imgs/rotation.png)"
   ]
  },
  {
   "cell_type": "code",
   "execution_count": 2,
   "metadata": {
    "collapsed": false,
    "papermill": {
     "duration": 16.368235,
     "end_time": "2019-11-19T12:40:34.014719",
     "exception": false,
     "start_time": "2019-11-19T12:40:17.646484",
     "status": "completed"
    },
    "pycharm": {
     "name": "#%%\n"
    },
    "tags": []
   },
   "outputs": [
    {
     "name": "stdout",
     "output_type": "stream",
     "text": [
      "Better speed can be achieved with apex installed from https://www.github.com/nvidia/apex.\n"
     ]
    },
    {
     "name": "stderr",
     "output_type": "stream",
     "text": [
      "Using TensorFlow backend.\n"
     ]
    }
   ],
   "source": [
    "import random as rn\n",
    "from abc import ABC, abstractmethod\n",
    "\n",
    "import autokeras as ak\n",
    "import h2o\n",
    "import matplotlib.pyplot as plt\n",
    "import numpy as np\n",
    "from h2o.automl import H2OAutoML\n",
    "from keras.datasets import fashion_mnist\n",
    "from numpy.random import RandomState\n",
    "from sklearn.datasets import load_digits\n",
    "from sklearn.metrics import accuracy_score\n",
    "from sklearn.model_selection import train_test_split\n",
    "from tpot import TPOTClassifier\n",
    "\n",
    "from dpemu import runner\n",
    "from dpemu.filters.common import GaussianNoise, Clip\n",
    "from dpemu.filters.image import RotationPIL\n",
    "from dpemu.nodes import Array\n",
    "from dpemu.nodes.series import Series\n",
    "from dpemu.plotting_utils import visualize_scores, print_results_by_model\n",
    "from dpemu.utils import generate_tmpdir"
   ]
  },
  {
   "cell_type": "markdown",
   "metadata": {
    "collapsed": false,
    "papermill": {
     "duration": 0.029122,
     "end_time": "2019-11-19T12:40:34.078457",
     "exception": false,
     "start_time": "2019-11-19T12:40:34.049335",
     "status": "completed"
    },
    "pycharm": {
     "name": "#%% md\n"
    },
    "tags": []
   },
   "source": []
  },
  {
   "cell_type": "code",
   "execution_count": 3,
   "metadata": {
    "collapsed": false,
    "papermill": {
     "duration": 0.0363,
     "end_time": "2019-11-19T12:40:34.140320",
     "exception": false,
     "start_time": "2019-11-19T12:40:34.104020",
     "status": "completed"
    },
    "pycharm": {
     "is_executing": false,
     "name": "#%%\n"
    },
    "tags": []
   },
   "outputs": [],
   "source": [
    "def get_data():\n",
    "    random_state = RandomState(42)\n",
    "    x, y = load_digits(return_X_y=True)\n",
    "    y = y.astype(np.uint8)\n",
    "    return train_test_split(x, y, test_size=1/7, random_state=random_state)\n",
    "    # (x_train, y_train), (x_test, y_test) = fashion_mnist.load_data()\n",
    "    # s = x_train.shape[1]\n",
    "    # x_train = x_train.reshape((len(x_train), s**2)).astype(np.float64)\n",
    "    # x_test = x_test.reshape((len(x_test), s**2)).astype(np.float64)    \n",
    "    # return x_train, x_test, y_train, y_test"
   ]
  },
  {
   "cell_type": "markdown",
   "metadata": {
    "collapsed": false,
    "papermill": {
     "duration": 0.019156,
     "end_time": "2019-11-19T12:40:34.180237",
     "exception": false,
     "start_time": "2019-11-19T12:40:34.161081",
     "status": "completed"
    },
    "pycharm": {
     "name": "#%% md\n"
    },
    "tags": []
   },
   "source": []
  },
  {
   "cell_type": "code",
   "execution_count": 4,
   "metadata": {
    "collapsed": false,
    "papermill": {
     "duration": 0.027747,
     "end_time": "2019-11-19T12:40:34.223538",
     "exception": false,
     "start_time": "2019-11-19T12:40:34.195791",
     "status": "completed"
    },
    "pycharm": {
     "is_executing": false,
     "name": "#%%\n"
    },
    "tags": []
   },
   "outputs": [],
   "source": [
    "def get_err_root_node():\n",
    "    err_img_node = Array(reshape=(8, 8))\n",
    "    # err_img_node = Array(reshape=(28, 28))\n",
    "\n",
    "    err_root_node = Series(err_img_node)\n",
    "    err_img_node.addfilter(RotationPIL(\"max_angle\"))\n",
    "    return err_root_node\n",
    "    # err_root_node = Series(err_img_node)\n",
    "    # err_img_node.addfilter(GaussianNoise(\"mean\", \"std\"))\n",
    "    # err_img_node.addfilter(Clip(\"min_val\", \"max_val\"))\n",
    "    # return err_root_node"
   ]
  },
  {
   "cell_type": "markdown",
   "metadata": {
    "collapsed": false,
    "papermill": {
     "duration": 0.015025,
     "end_time": "2019-11-19T12:40:34.254217",
     "exception": false,
     "start_time": "2019-11-19T12:40:34.239192",
     "status": "completed"
    },
    "pycharm": {
     "name": "#%% md\n"
    },
    "tags": []
   },
   "source": []
  },
  {
   "cell_type": "code",
   "execution_count": 5,
   "metadata": {
    "collapsed": false,
    "papermill": {
     "duration": 0.027398,
     "end_time": "2019-11-19T12:40:34.297104",
     "exception": false,
     "start_time": "2019-11-19T12:40:34.269706",
     "status": "completed"
    },
    "pycharm": {
     "is_executing": false,
     "name": "#%%\n"
    },
    "tags": []
   },
   "outputs": [],
   "source": [
    "def get_err_params_list(data):\n",
    "    angle_steps = np.linspace(0, 180, num=6)\n",
    "    err_params_list = [{\"max_angle\": a} for a in angle_steps]\n",
    "    return err_params_list\n",
    "    # min_val = np.amin(data)\n",
    "    # max_val = np.amax(data)\n",
    "    # std_steps = np.round(np.linspace(0, max_val, num=6), 3)\n",
    "    # err_params_list = [{\"mean\": 0, \"std\": std, \"min_val\": min_val, \"max_val\": max_val} for std in std_steps]\n",
    "    # return err_params_list"
   ]
  },
  {
   "cell_type": "markdown",
   "metadata": {
    "collapsed": false,
    "papermill": {
     "duration": 0.015603,
     "end_time": "2019-11-19T12:40:34.327896",
     "exception": false,
     "start_time": "2019-11-19T12:40:34.312293",
     "status": "completed"
    },
    "pycharm": {
     "name": "#%% md\n"
    },
    "tags": []
   },
   "source": []
  },
  {
   "cell_type": "code",
   "execution_count": 6,
   "metadata": {
    "collapsed": false,
    "papermill": {
     "duration": 0.027305,
     "end_time": "2019-11-19T12:40:34.370752",
     "exception": false,
     "start_time": "2019-11-19T12:40:34.343447",
     "status": "completed"
    },
    "pycharm": {
     "is_executing": false,
     "name": "#%%\n"
    },
    "tags": []
   },
   "outputs": [],
   "source": [
    "class Preprocessor:\n",
    "\n",
    "    def run(self, train_data, test_data, params):\n",
    "        return np.round(train_data).astype(np.uint8), np.round(test_data).astype(np.uint8), {}"
   ]
  },
  {
   "cell_type": "markdown",
   "metadata": {
    "collapsed": false,
    "papermill": {
     "duration": 0.015027,
     "end_time": "2019-11-19T12:40:34.401360",
     "exception": false,
     "start_time": "2019-11-19T12:40:34.386333",
     "status": "completed"
    },
    "pycharm": {
     "name": "#%% md\n"
    },
    "tags": []
   },
   "source": []
  },
  {
   "cell_type": "code",
   "execution_count": 7,
   "metadata": {
    "collapsed": false,
    "papermill": {
     "duration": 0.073801,
     "end_time": "2019-11-19T12:40:34.489909",
     "exception": false,
     "start_time": "2019-11-19T12:40:34.416108",
     "status": "completed"
    },
    "pycharm": {
     "is_executing": false,
     "name": "#%%\n"
    },
    "tags": []
   },
   "outputs": [],
   "source": [
    "class AbstractModel(ABC):\n",
    "\n",
    "    def __init__(self):\n",
    "        self.time_limit_mins = 15\n",
    "        self.seed = 42\n",
    "        self.random_state = RandomState(self.seed)\n",
    "        np.random.seed(self.seed)\n",
    "\n",
    "    @abstractmethod\n",
    "    def get_fitted_model(self, train_data, train_labels, params):\n",
    "        pass\n",
    "\n",
    "    @abstractmethod\n",
    "    def get_accuracy(self, data, labels, fitted_model, params):\n",
    "        pass\n",
    "\n",
    "    @abstractmethod\n",
    "    def get_best_pipeline(self, fitted_model):\n",
    "        pass\n",
    "\n",
    "    def run(self, train_data, test_data, params):\n",
    "        train_labels = params[\"train_labels\"]\n",
    "        test_labels = params[\"test_labels\"]\n",
    "\n",
    "        fitted_model = self.get_fitted_model(train_data, train_labels, params)\n",
    "\n",
    "        results = {\n",
    "            \"test_acc\": self.get_accuracy(test_data, test_labels, fitted_model, params),\n",
    "            \"train_acc\": self.get_accuracy(train_data, train_labels, fitted_model, params),\n",
    "            \"best_pipeline\": self.get_best_pipeline(fitted_model),\n",
    "        }\n",
    "        print(type(fitted_model))\n",
    "        print(results[\"test_acc\"])\n",
    "        return results\n",
    "\n",
    "class TPOTClassifierModel(AbstractModel):\n",
    "\n",
    "    def __init__(self):\n",
    "        super().__init__()\n",
    "\n",
    "    def get_fitted_model(self, train_data, train_labels, params):\n",
    "        return TPOTClassifier(\n",
    "            max_time_mins=self.time_limit_mins,\n",
    "            max_eval_time_mins=self.time_limit_mins,\n",
    "            n_jobs=-1,\n",
    "            random_state=self.seed,\n",
    "            verbosity=1,\n",
    "        ).fit(train_data, train_labels)\n",
    "\n",
    "    def get_accuracy(self, data, labels, fitted_model, params):\n",
    "        return round(fitted_model.score(data, labels), 3)\n",
    "\n",
    "    def get_best_pipeline(self, fitted_model):\n",
    "        return [step[1] for step in fitted_model.fitted_pipeline_.steps]\n",
    "\n",
    "class H2OAutoMLModel(AbstractModel):\n",
    "\n",
    "    def __init__(self):\n",
    "        super().__init__()\n",
    "        h2o.init(name=f\"#{rn.SystemRandom().randint(1, 2**30)}\", nthreads=20)\n",
    "        h2o.no_progress()\n",
    "\n",
    "    def get_fitted_model(self, train_data, train_labels, params):\n",
    "        train_data = h2o.H2OFrame(np.concatenate((train_data, train_labels.reshape(-1, 1)), axis=1))\n",
    "        x = np.array(train_data.columns)[:-1].tolist()\n",
    "        y = np.array(train_data.columns)[-1].tolist()\n",
    "        train_data[y] = train_data[y].asfactor()\n",
    "        aml = H2OAutoML(max_runtime_secs=60*self.time_limit_mins, seed=self.seed)\n",
    "        aml.train(x=x, y=y, training_frame=train_data)\n",
    "        return aml\n",
    "\n",
    "    def get_accuracy(self, data, labels, fitted_model, params):\n",
    "        data = h2o.H2OFrame(np.concatenate((data, labels.reshape(-1, 1)), axis=1))\n",
    "        y = np.array(data.columns)[-1].tolist()\n",
    "        data[y] = data[y].asfactor()\n",
    "        pred = fitted_model.predict(data).as_data_frame(header=False)[\"predict\"].values.astype(int)\n",
    "        return np.round(np.mean(pred == labels), 3)\n",
    "\n",
    "    def get_best_pipeline(self, fitted_model):\n",
    "        leader_params = fitted_model.leader.get_params()\n",
    "        best_pipeline = [leader_params[\"model_id\"][\"actual_value\"][\"name\"]]\n",
    "        if \"base_models\" in leader_params:\n",
    "            for base_model in leader_params[\"base_models\"][\"actual_value\"]:\n",
    "                best_pipeline.append(base_model[\"name\"])\n",
    "        h2o.cluster().shutdown()\n",
    "        return best_pipeline\n",
    "\n",
    "class AutoKerasModel(AbstractModel):\n",
    "\n",
    "    def __init__(self):\n",
    "        super().__init__()\n",
    "        import tensorflow as tf\n",
    "        tf.set_random_seed(self.seed)\n",
    "        import torch\n",
    "        torch.multiprocessing.set_sharing_strategy(\"file_system\")\n",
    "        torch.manual_seed(self.seed)\n",
    "\n",
    "    def get_fitted_model(self, x_train, y_train, params):\n",
    "        s = np.sqrt(x_train.shape[1]).astype(int)\n",
    "        x_train = x_train.reshape((len(x_train), s, s, 1))\n",
    "        clf = ak.ImageClassifier(augment=False, path=generate_tmpdir(), verbose=False)\n",
    "        clf.fit(x_train, y_train, time_limit=60*self.time_limit_mins)\n",
    "        return clf\n",
    "\n",
    "    def get_accuracy(self, x, y, clf, params):\n",
    "        s = np.sqrt(x.shape[1]).astype(int)\n",
    "        x = x.reshape((len(x), s, s, 1))\n",
    "        y_pred = clf.predict(x)\n",
    "        return np.round(accuracy_score(y_true=y, y_pred=y_pred), 3)\n",
    "\n",
    "    def get_best_pipeline(self, clf):\n",
    "        return [m for i, m in enumerate(clf.cnn.best_model.produce_model().modules()) if i > 0]"
   ]
  },
  {
   "cell_type": "markdown",
   "metadata": {
    "collapsed": false,
    "papermill": {
     "duration": 0.02326,
     "end_time": "2019-11-19T12:40:34.539715",
     "exception": false,
     "start_time": "2019-11-19T12:40:34.516455",
     "status": "completed"
    },
    "pycharm": {
     "name": "#%% md\n"
    },
    "tags": []
   },
   "source": []
  },
  {
   "cell_type": "code",
   "execution_count": 8,
   "metadata": {
    "collapsed": false,
    "papermill": {
     "duration": 0.036219,
     "end_time": "2019-11-19T12:40:34.597986",
     "exception": false,
     "start_time": "2019-11-19T12:40:34.561767",
     "status": "completed"
    },
    "pycharm": {
     "name": "#%%\n"
    },
    "tags": []
   },
   "outputs": [],
   "source": [
    "def get_model_params_dict_list(train_labels, test_labels):\n",
    "    model_params_base = {\"train_labels\": train_labels, \"test_labels\": test_labels}\n",
    "    return [\n",
    "        {\n",
    "            \"model\": AutoKerasModel,\n",
    "            \"params_list\": [{**model_params_base}],\n",
    "            \"use_clean_train_data\": False\n",
    "        },\n",
    "        {\n",
    "            \"model\": AutoKerasModel,\n",
    "            \"params_list\": [{**model_params_base}],\n",
    "            \"use_clean_train_data\": True\n",
    "        },\n",
    "        {\n",
    "            \"model\": TPOTClassifierModel,\n",
    "            \"params_list\": [{**model_params_base}],\n",
    "            \"use_clean_train_data\": False\n",
    "        },\n",
    "        {\n",
    "            \"model\": TPOTClassifierModel,\n",
    "            \"params_list\": [{**model_params_base}],\n",
    "            \"use_clean_train_data\": True\n",
    "        },\n",
    "        {\n",
    "            \"model\": H2OAutoMLModel,\n",
    "            \"params_list\": [{**model_params_base}],\n",
    "            \"use_clean_train_data\": False\n",
    "        },\n",
    "        {\n",
    "            \"model\": H2OAutoMLModel,\n",
    "            \"params_list\": [{**model_params_base}],\n",
    "            \"use_clean_train_data\": True\n",
    "        },\n",
    "    ]"
   ]
  },
  {
   "cell_type": "markdown",
   "metadata": {
    "collapsed": false,
    "papermill": {
     "duration": 0.015957,
     "end_time": "2019-11-19T12:40:34.629990",
     "exception": false,
     "start_time": "2019-11-19T12:40:34.614033",
     "status": "completed"
    },
    "pycharm": {
     "is_executing": false,
     "name": "#%% md\n"
    },
    "tags": []
   },
   "source": []
  },
  {
   "cell_type": "code",
   "execution_count": 9,
   "metadata": {
    "collapsed": false,
    "papermill": {
     "duration": 0.027406,
     "end_time": "2019-11-19T12:40:34.673480",
     "exception": false,
     "start_time": "2019-11-19T12:40:34.646074",
     "status": "completed"
    },
    "pycharm": {
     "name": "#%%\n"
    },
    "tags": []
   },
   "outputs": [],
   "source": [
    "def visualize(df):\n",
    "    visualize_scores(\n",
    "        df,\n",
    "        score_names=[\"test_acc\", \"train_acc\"],\n",
    "        is_higher_score_better=[True, True],\n",
    "        err_param_name=\"max_angle\",\n",
    "        # err_param_name=\"std\",\n",
    "        title=\"Classification scores with added error\"\n",
    "    )\n",
    "    plt.show()"
   ]
  },
  {
   "cell_type": "markdown",
   "metadata": {
    "collapsed": false,
    "papermill": {
     "duration": 0.015627,
     "end_time": "2019-11-19T12:40:34.705134",
     "exception": false,
     "start_time": "2019-11-19T12:40:34.689507",
     "status": "completed"
    },
    "pycharm": {
     "is_executing": false,
     "name": "#%% md\n"
    },
    "tags": []
   },
   "source": []
  },
  {
   "cell_type": "code",
   "execution_count": 10,
   "metadata": {
    "collapsed": false,
    "papermill": {
     "duration": 34681.643241,
     "end_time": "2019-11-19T22:18:36.364591",
     "exception": false,
     "start_time": "2019-11-19T12:40:34.721350",
     "status": "completed"
    },
    "pycharm": {
     "is_executing": false,
     "name": "#%%\n"
    },
    "tags": []
   },
   "outputs": [
    {
     "name": "stderr",
     "output_type": "stream",
     "text": [
      "\r",
      "  0%|          | 0/6 [00:00<?, ?it/s]"
     ]
    },
    {
     "name": "stderr",
     "output_type": "stream",
     "text": [
      "WARNING:root:TimeoutError occurred at train() : "
     ]
    },
    {
     "name": "stderr",
     "output_type": "stream",
     "text": [
      "\n"
     ]
    },
    {
     "name": "stdout",
     "output_type": "stream",
     "text": [
      "<class 'autokeras.image.image_supervised.ImageClassifier'>"
     ]
    },
    {
     "name": "stdout",
     "output_type": "stream",
     "text": [
      "\n"
     ]
    },
    {
     "name": "stdout",
     "output_type": "stream",
     "text": [
      "0.988"
     ]
    },
    {
     "name": "stdout",
     "output_type": "stream",
     "text": [
      "\n"
     ]
    },
    {
     "name": "stderr",
     "output_type": "stream",
     "text": [
      "WARNING:root:TimeoutError occurred at train() : "
     ]
    },
    {
     "name": "stderr",
     "output_type": "stream",
     "text": [
      "\n"
     ]
    },
    {
     "name": "stdout",
     "output_type": "stream",
     "text": [
      "<class 'autokeras.image.image_supervised.ImageClassifier'>"
     ]
    },
    {
     "name": "stdout",
     "output_type": "stream",
     "text": [
      "\n"
     ]
    },
    {
     "name": "stdout",
     "output_type": "stream",
     "text": [
      "0.988"
     ]
    },
    {
     "name": "stdout",
     "output_type": "stream",
     "text": [
      "\n"
     ]
    },
    {
     "name": "stdout",
     "output_type": "stream",
     "text": [
      "\n"
     ]
    },
    {
     "name": "stdout",
     "output_type": "stream",
     "text": [
      "15.81 minutes have elapsed. TPOT will close down.\n",
      "TPOT closed during evaluation in one generation.\n",
      "WARNING: TPOT may not provide a good pipeline if TPOT is stopped/interrupted in a early generation."
     ]
    },
    {
     "name": "stdout",
     "output_type": "stream",
     "text": [
      "\n"
     ]
    },
    {
     "name": "stdout",
     "output_type": "stream",
     "text": [
      "\n"
     ]
    },
    {
     "name": "stdout",
     "output_type": "stream",
     "text": [
      "\n",
      "TPOT closed prematurely. Will use the current best pipeline."
     ]
    },
    {
     "name": "stdout",
     "output_type": "stream",
     "text": [
      "\n"
     ]
    },
    {
     "name": "stdout",
     "output_type": "stream",
     "text": [
      "Best pipeline:"
     ]
    },
    {
     "name": "stdout",
     "output_type": "stream",
     "text": [
      " "
     ]
    },
    {
     "name": "stdout",
     "output_type": "stream",
     "text": [
      "KNeighborsClassifier(LogisticRegression(input_matrix, C=0.5, dual=False, penalty=l1), n_neighbors=12, p=2, weights=distance)"
     ]
    },
    {
     "name": "stdout",
     "output_type": "stream",
     "text": [
      "\n"
     ]
    },
    {
     "name": "stdout",
     "output_type": "stream",
     "text": [
      "<class 'tpot.tpot.TPOTClassifier'>"
     ]
    },
    {
     "name": "stdout",
     "output_type": "stream",
     "text": [
      "\n"
     ]
    },
    {
     "name": "stdout",
     "output_type": "stream",
     "text": [
      "0.984"
     ]
    },
    {
     "name": "stdout",
     "output_type": "stream",
     "text": [
      "\n"
     ]
    },
    {
     "name": "stdout",
     "output_type": "stream",
     "text": [
      "\n"
     ]
    },
    {
     "name": "stdout",
     "output_type": "stream",
     "text": [
      "16.27 minutes have elapsed. TPOT will close down.\n",
      "TPOT closed during evaluation in one generation.\n",
      "WARNING: TPOT may not provide a good pipeline if TPOT is stopped/interrupted in a early generation."
     ]
    },
    {
     "name": "stdout",
     "output_type": "stream",
     "text": [
      "\n"
     ]
    },
    {
     "name": "stdout",
     "output_type": "stream",
     "text": [
      "\n"
     ]
    },
    {
     "name": "stdout",
     "output_type": "stream",
     "text": [
      "\n",
      "TPOT closed prematurely. Will use the current best pipeline."
     ]
    },
    {
     "name": "stdout",
     "output_type": "stream",
     "text": [
      "\n"
     ]
    },
    {
     "name": "stdout",
     "output_type": "stream",
     "text": [
      "Best pipeline:"
     ]
    },
    {
     "name": "stdout",
     "output_type": "stream",
     "text": [
      " "
     ]
    },
    {
     "name": "stdout",
     "output_type": "stream",
     "text": [
      "KNeighborsClassifier(LogisticRegression(input_matrix, C=0.5, dual=False, penalty=l1), n_neighbors=12, p=2, weights=distance)"
     ]
    },
    {
     "name": "stdout",
     "output_type": "stream",
     "text": [
      "\n"
     ]
    },
    {
     "name": "stdout",
     "output_type": "stream",
     "text": [
      "<class 'tpot.tpot.TPOTClassifier'>"
     ]
    },
    {
     "name": "stdout",
     "output_type": "stream",
     "text": [
      "\n"
     ]
    },
    {
     "name": "stdout",
     "output_type": "stream",
     "text": [
      "0.984"
     ]
    },
    {
     "name": "stdout",
     "output_type": "stream",
     "text": [
      "\n"
     ]
    },
    {
     "name": "stdout",
     "output_type": "stream",
     "text": [
      "Checking whether there is an H2O instance running at http://localhost:54321 "
     ]
    },
    {
     "name": "stdout",
     "output_type": "stream",
     "text": [
      "."
     ]
    },
    {
     "name": "stdout",
     "output_type": "stream",
     "text": [
      "."
     ]
    },
    {
     "name": "stdout",
     "output_type": "stream",
     "text": [
      "."
     ]
    },
    {
     "name": "stdout",
     "output_type": "stream",
     "text": [
      "."
     ]
    },
    {
     "name": "stdout",
     "output_type": "stream",
     "text": [
      "."
     ]
    },
    {
     "name": "stdout",
     "output_type": "stream",
     "text": [
      " not found."
     ]
    },
    {
     "name": "stdout",
     "output_type": "stream",
     "text": [
      "\n"
     ]
    },
    {
     "name": "stdout",
     "output_type": "stream",
     "text": [
      "Attempting to start a local H2O server..."
     ]
    },
    {
     "name": "stdout",
     "output_type": "stream",
     "text": [
      "\n"
     ]
    },
    {
     "name": "stdout",
     "output_type": "stream",
     "text": [
      "  Java Version: openjdk version \"11.0.2\" 2019-01-15; OpenJDK Runtime Environment 18.9 (build 11.0.2+9); OpenJDK 64-Bit Server VM 18.9 (build 11.0.2+9, mixed mode)"
     ]
    },
    {
     "name": "stdout",
     "output_type": "stream",
     "text": [
      "\n"
     ]
    },
    {
     "name": "stdout",
     "output_type": "stream",
     "text": [
      "  Starting server from /wrk/users/thalvari/dpEmu-AutoML/venv/lib/python3.6/site-packages/h2o/backend/bin/h2o.jar"
     ]
    },
    {
     "name": "stdout",
     "output_type": "stream",
     "text": [
      "\n"
     ]
    },
    {
     "name": "stdout",
     "output_type": "stream",
     "text": [
      "  Ice root: /wrk/users/thalvari/tmpqgnbwui2"
     ]
    },
    {
     "name": "stdout",
     "output_type": "stream",
     "text": [
      "\n"
     ]
    },
    {
     "name": "stdout",
     "output_type": "stream",
     "text": [
      "  JVM stdout: /wrk/users/thalvari/tmpqgnbwui2/h2o_thalvari_started_from_python.out"
     ]
    },
    {
     "name": "stdout",
     "output_type": "stream",
     "text": [
      "\n"
     ]
    },
    {
     "name": "stdout",
     "output_type": "stream",
     "text": [
      "  JVM stderr: /wrk/users/thalvari/tmpqgnbwui2/h2o_thalvari_started_from_python.err"
     ]
    },
    {
     "name": "stdout",
     "output_type": "stream",
     "text": [
      "\n"
     ]
    },
    {
     "name": "stdout",
     "output_type": "stream",
     "text": [
      "  Server is running at http://127.0.0.1:54321"
     ]
    },
    {
     "name": "stdout",
     "output_type": "stream",
     "text": [
      "\n"
     ]
    },
    {
     "name": "stdout",
     "output_type": "stream",
     "text": [
      "Connecting to H2O server at http://127.0.0.1:54321 .."
     ]
    },
    {
     "name": "stdout",
     "output_type": "stream",
     "text": [
      "."
     ]
    },
    {
     "name": "stdout",
     "output_type": "stream",
     "text": [
      " successful."
     ]
    },
    {
     "name": "stdout",
     "output_type": "stream",
     "text": [
      "\n"
     ]
    },
    {
     "data": {
      "text/html": [
       "<div style=\"overflow:auto\"><table style=\"width:50%\"><tr><td>H2O cluster uptime:</td>\n",
       "<td>01 secs</td></tr>\n",
       "<tr><td>H2O cluster timezone:</td>\n",
       "<td>Europe/Helsinki</td></tr>\n",
       "<tr><td>H2O data parsing timezone:</td>\n",
       "<td>UTC</td></tr>\n",
       "<tr><td>H2O cluster version:</td>\n",
       "<td>3.26.0.10</td></tr>\n",
       "<tr><td>H2O cluster version age:</td>\n",
       "<td>12 days </td></tr>\n",
       "<tr><td>H2O cluster name:</td>\n",
       "<td>#226317166</td></tr>\n",
       "<tr><td>H2O cluster total nodes:</td>\n",
       "<td>1</td></tr>\n",
       "<tr><td>H2O cluster free memory:</td>\n",
       "<td>29.97 Gb</td></tr>\n",
       "<tr><td>H2O cluster total cores:</td>\n",
       "<td>40</td></tr>\n",
       "<tr><td>H2O cluster allowed cores:</td>\n",
       "<td>20</td></tr>\n",
       "<tr><td>H2O cluster status:</td>\n",
       "<td>accepting new members, healthy</td></tr>\n",
       "<tr><td>H2O connection url:</td>\n",
       "<td>http://127.0.0.1:54321</td></tr>\n",
       "<tr><td>H2O connection proxy:</td>\n",
       "<td>{'http': None, 'https': None}</td></tr>\n",
       "<tr><td>H2O internal security:</td>\n",
       "<td>False</td></tr>\n",
       "<tr><td>H2O API Extensions:</td>\n",
       "<td>Amazon S3, XGBoost, Algos, AutoML, Core V3, TargetEncoder, Core V4</td></tr>\n",
       "<tr><td>Python version:</td>\n",
       "<td>3.6.6 final</td></tr></table></div>"
      ],
      "text/plain": [
       "--------------------------  ------------------------------------------------------------------\n",
       "H2O cluster uptime:         01 secs\n",
       "H2O cluster timezone:       Europe/Helsinki\n",
       "H2O data parsing timezone:  UTC\n",
       "H2O cluster version:        3.26.0.10\n",
       "H2O cluster version age:    12 days\n",
       "H2O cluster name:           #226317166\n",
       "H2O cluster total nodes:    1\n",
       "H2O cluster free memory:    29.97 Gb\n",
       "H2O cluster total cores:    40\n",
       "H2O cluster allowed cores:  20\n",
       "H2O cluster status:         accepting new members, healthy\n",
       "H2O connection url:         http://127.0.0.1:54321\n",
       "H2O connection proxy:       {'http': None, 'https': None}\n",
       "H2O internal security:      False\n",
       "H2O API Extensions:         Amazon S3, XGBoost, Algos, AutoML, Core V3, TargetEncoder, Core V4\n",
       "Python version:             3.6.6 final\n",
       "--------------------------  ------------------------------------------------------------------"
      ]
     },
     "metadata": {},
     "output_type": "display_data"
    },
    {
     "name": "stdout",
     "output_type": "stream",
     "text": [
      "H2O session _sid_886b closed."
     ]
    },
    {
     "name": "stdout",
     "output_type": "stream",
     "text": [
      "\n"
     ]
    },
    {
     "name": "stdout",
     "output_type": "stream",
     "text": [
      "<class 'h2o.automl.autoh2o.H2OAutoML'>"
     ]
    },
    {
     "name": "stdout",
     "output_type": "stream",
     "text": [
      "\n"
     ]
    },
    {
     "name": "stdout",
     "output_type": "stream",
     "text": [
      "0.984"
     ]
    },
    {
     "name": "stdout",
     "output_type": "stream",
     "text": [
      "\n"
     ]
    },
    {
     "name": "stdout",
     "output_type": "stream",
     "text": [
      "Checking whether there is an H2O instance running at http://localhost:54321 "
     ]
    },
    {
     "name": "stdout",
     "output_type": "stream",
     "text": [
      "."
     ]
    },
    {
     "name": "stdout",
     "output_type": "stream",
     "text": [
      "."
     ]
    },
    {
     "name": "stdout",
     "output_type": "stream",
     "text": [
      "."
     ]
    },
    {
     "name": "stdout",
     "output_type": "stream",
     "text": [
      "."
     ]
    },
    {
     "name": "stdout",
     "output_type": "stream",
     "text": [
      "."
     ]
    },
    {
     "name": "stdout",
     "output_type": "stream",
     "text": [
      " not found."
     ]
    },
    {
     "name": "stdout",
     "output_type": "stream",
     "text": [
      "\n"
     ]
    },
    {
     "name": "stdout",
     "output_type": "stream",
     "text": [
      "Attempting to start a local H2O server..."
     ]
    },
    {
     "name": "stdout",
     "output_type": "stream",
     "text": [
      "\n"
     ]
    },
    {
     "name": "stdout",
     "output_type": "stream",
     "text": [
      "  Java Version: openjdk version \"11.0.2\" 2019-01-15; OpenJDK Runtime Environment 18.9 (build 11.0.2+9); OpenJDK 64-Bit Server VM 18.9 (build 11.0.2+9, mixed mode)"
     ]
    },
    {
     "name": "stdout",
     "output_type": "stream",
     "text": [
      "\n"
     ]
    },
    {
     "name": "stdout",
     "output_type": "stream",
     "text": [
      "  Starting server from /wrk/users/thalvari/dpEmu-AutoML/venv/lib/python3.6/site-packages/h2o/backend/bin/h2o.jar"
     ]
    },
    {
     "name": "stdout",
     "output_type": "stream",
     "text": [
      "\n"
     ]
    },
    {
     "name": "stdout",
     "output_type": "stream",
     "text": [
      "  Ice root: /wrk/users/thalvari/tmpokza2l4k"
     ]
    },
    {
     "name": "stdout",
     "output_type": "stream",
     "text": [
      "\n"
     ]
    },
    {
     "name": "stdout",
     "output_type": "stream",
     "text": [
      "  JVM stdout: /wrk/users/thalvari/tmpokza2l4k/h2o_thalvari_started_from_python.out"
     ]
    },
    {
     "name": "stdout",
     "output_type": "stream",
     "text": [
      "\n"
     ]
    },
    {
     "name": "stdout",
     "output_type": "stream",
     "text": [
      "  JVM stderr: /wrk/users/thalvari/tmpokza2l4k/h2o_thalvari_started_from_python.err"
     ]
    },
    {
     "name": "stdout",
     "output_type": "stream",
     "text": [
      "\n"
     ]
    },
    {
     "name": "stdout",
     "output_type": "stream",
     "text": [
      "  Server is running at http://127.0.0.1:54321"
     ]
    },
    {
     "name": "stdout",
     "output_type": "stream",
     "text": [
      "\n"
     ]
    },
    {
     "name": "stdout",
     "output_type": "stream",
     "text": [
      "Connecting to H2O server at http://127.0.0.1:54321 .."
     ]
    },
    {
     "name": "stdout",
     "output_type": "stream",
     "text": [
      "."
     ]
    },
    {
     "name": "stdout",
     "output_type": "stream",
     "text": [
      " successful."
     ]
    },
    {
     "name": "stdout",
     "output_type": "stream",
     "text": [
      "\n"
     ]
    },
    {
     "data": {
      "text/html": [
       "<div style=\"overflow:auto\"><table style=\"width:50%\"><tr><td>H2O cluster uptime:</td>\n",
       "<td>01 secs</td></tr>\n",
       "<tr><td>H2O cluster timezone:</td>\n",
       "<td>Europe/Helsinki</td></tr>\n",
       "<tr><td>H2O data parsing timezone:</td>\n",
       "<td>UTC</td></tr>\n",
       "<tr><td>H2O cluster version:</td>\n",
       "<td>3.26.0.10</td></tr>\n",
       "<tr><td>H2O cluster version age:</td>\n",
       "<td>12 days </td></tr>\n",
       "<tr><td>H2O cluster name:</td>\n",
       "<td>#33716816</td></tr>\n",
       "<tr><td>H2O cluster total nodes:</td>\n",
       "<td>1</td></tr>\n",
       "<tr><td>H2O cluster free memory:</td>\n",
       "<td>29.97 Gb</td></tr>\n",
       "<tr><td>H2O cluster total cores:</td>\n",
       "<td>40</td></tr>\n",
       "<tr><td>H2O cluster allowed cores:</td>\n",
       "<td>20</td></tr>\n",
       "<tr><td>H2O cluster status:</td>\n",
       "<td>accepting new members, healthy</td></tr>\n",
       "<tr><td>H2O connection url:</td>\n",
       "<td>http://127.0.0.1:54321</td></tr>\n",
       "<tr><td>H2O connection proxy:</td>\n",
       "<td>{'http': None, 'https': None}</td></tr>\n",
       "<tr><td>H2O internal security:</td>\n",
       "<td>False</td></tr>\n",
       "<tr><td>H2O API Extensions:</td>\n",
       "<td>Amazon S3, XGBoost, Algos, AutoML, Core V3, TargetEncoder, Core V4</td></tr>\n",
       "<tr><td>Python version:</td>\n",
       "<td>3.6.6 final</td></tr></table></div>"
      ],
      "text/plain": [
       "--------------------------  ------------------------------------------------------------------\n",
       "H2O cluster uptime:         01 secs\n",
       "H2O cluster timezone:       Europe/Helsinki\n",
       "H2O data parsing timezone:  UTC\n",
       "H2O cluster version:        3.26.0.10\n",
       "H2O cluster version age:    12 days\n",
       "H2O cluster name:           #33716816\n",
       "H2O cluster total nodes:    1\n",
       "H2O cluster free memory:    29.97 Gb\n",
       "H2O cluster total cores:    40\n",
       "H2O cluster allowed cores:  20\n",
       "H2O cluster status:         accepting new members, healthy\n",
       "H2O connection url:         http://127.0.0.1:54321\n",
       "H2O connection proxy:       {'http': None, 'https': None}\n",
       "H2O internal security:      False\n",
       "H2O API Extensions:         Amazon S3, XGBoost, Algos, AutoML, Core V3, TargetEncoder, Core V4\n",
       "Python version:             3.6.6 final\n",
       "--------------------------  ------------------------------------------------------------------"
      ]
     },
     "metadata": {},
     "output_type": "display_data"
    },
    {
     "name": "stdout",
     "output_type": "stream",
     "text": [
      "H2O session _sid_aef6 closed."
     ]
    },
    {
     "name": "stdout",
     "output_type": "stream",
     "text": [
      "\n"
     ]
    },
    {
     "name": "stdout",
     "output_type": "stream",
     "text": [
      "<class 'h2o.automl.autoh2o.H2OAutoML'>"
     ]
    },
    {
     "name": "stdout",
     "output_type": "stream",
     "text": [
      "\n"
     ]
    },
    {
     "name": "stdout",
     "output_type": "stream",
     "text": [
      "0.988"
     ]
    },
    {
     "name": "stdout",
     "output_type": "stream",
     "text": [
      "\n"
     ]
    },
    {
     "name": "stderr",
     "output_type": "stream",
     "text": [
      "\r",
      " 17%|█▋        | 1/6 [1:34:32<7:52:44, 5672.82s/it]"
     ]
    },
    {
     "name": "stderr",
     "output_type": "stream",
     "text": [
      "WARNING:root:TimeoutError occurred at train() : "
     ]
    },
    {
     "name": "stderr",
     "output_type": "stream",
     "text": [
      "\n"
     ]
    },
    {
     "name": "stdout",
     "output_type": "stream",
     "text": [
      "<class 'autokeras.image.image_supervised.ImageClassifier'>"
     ]
    },
    {
     "name": "stdout",
     "output_type": "stream",
     "text": [
      "\n"
     ]
    },
    {
     "name": "stdout",
     "output_type": "stream",
     "text": [
      "0.899"
     ]
    },
    {
     "name": "stdout",
     "output_type": "stream",
     "text": [
      "\n"
     ]
    },
    {
     "name": "stderr",
     "output_type": "stream",
     "text": [
      "WARNING:root:TimeoutError occurred at train() : "
     ]
    },
    {
     "name": "stderr",
     "output_type": "stream",
     "text": [
      "\n"
     ]
    },
    {
     "name": "stdout",
     "output_type": "stream",
     "text": [
      "<class 'autokeras.image.image_supervised.ImageClassifier'>"
     ]
    },
    {
     "name": "stdout",
     "output_type": "stream",
     "text": [
      "\n"
     ]
    },
    {
     "name": "stdout",
     "output_type": "stream",
     "text": [
      "0.72"
     ]
    },
    {
     "name": "stdout",
     "output_type": "stream",
     "text": [
      "\n"
     ]
    },
    {
     "name": "stdout",
     "output_type": "stream",
     "text": [
      "\n"
     ]
    },
    {
     "name": "stdout",
     "output_type": "stream",
     "text": [
      "19.98 minutes have elapsed. TPOT will close down.\n",
      "TPOT closed during evaluation in one generation.\n",
      "WARNING: TPOT may not provide a good pipeline if TPOT is stopped/interrupted in a early generation."
     ]
    },
    {
     "name": "stdout",
     "output_type": "stream",
     "text": [
      "\n"
     ]
    },
    {
     "name": "stdout",
     "output_type": "stream",
     "text": [
      "\n"
     ]
    },
    {
     "name": "stdout",
     "output_type": "stream",
     "text": [
      "\n",
      "TPOT closed prematurely. Will use the current best pipeline."
     ]
    },
    {
     "name": "stdout",
     "output_type": "stream",
     "text": [
      "\n"
     ]
    },
    {
     "name": "stdout",
     "output_type": "stream",
     "text": [
      "Best pipeline:"
     ]
    },
    {
     "name": "stdout",
     "output_type": "stream",
     "text": [
      " "
     ]
    },
    {
     "name": "stdout",
     "output_type": "stream",
     "text": [
      "KNeighborsClassifier(KNeighborsClassifier(RandomForestClassifier(input_matrix, bootstrap=False, criterion=gini, max_features=0.4, min_samples_leaf=10, min_samples_split=9, n_estimators=100), n_neighbors=22, p=2, weights=distance), n_neighbors=6, p=2, weights=distance)"
     ]
    },
    {
     "name": "stdout",
     "output_type": "stream",
     "text": [
      "\n"
     ]
    },
    {
     "name": "stdout",
     "output_type": "stream",
     "text": [
      "<class 'tpot.tpot.TPOTClassifier'>"
     ]
    },
    {
     "name": "stdout",
     "output_type": "stream",
     "text": [
      "\n"
     ]
    },
    {
     "name": "stdout",
     "output_type": "stream",
     "text": [
      "0.957"
     ]
    },
    {
     "name": "stdout",
     "output_type": "stream",
     "text": [
      "\n"
     ]
    },
    {
     "name": "stdout",
     "output_type": "stream",
     "text": [
      "\n"
     ]
    },
    {
     "name": "stdout",
     "output_type": "stream",
     "text": [
      "15.29 minutes have elapsed. TPOT will close down.\n",
      "TPOT closed during evaluation in one generation.\n",
      "WARNING: TPOT may not provide a good pipeline if TPOT is stopped/interrupted in a early generation."
     ]
    },
    {
     "name": "stdout",
     "output_type": "stream",
     "text": [
      "\n"
     ]
    },
    {
     "name": "stdout",
     "output_type": "stream",
     "text": [
      "\n"
     ]
    },
    {
     "name": "stdout",
     "output_type": "stream",
     "text": [
      "\n",
      "TPOT closed prematurely. Will use the current best pipeline."
     ]
    },
    {
     "name": "stdout",
     "output_type": "stream",
     "text": [
      "\n"
     ]
    },
    {
     "name": "stdout",
     "output_type": "stream",
     "text": [
      "Best pipeline:"
     ]
    },
    {
     "name": "stdout",
     "output_type": "stream",
     "text": [
      " "
     ]
    },
    {
     "name": "stdout",
     "output_type": "stream",
     "text": [
      "KNeighborsClassifier(LogisticRegression(input_matrix, C=0.5, dual=False, penalty=l1), n_neighbors=12, p=2, weights=distance)"
     ]
    },
    {
     "name": "stdout",
     "output_type": "stream",
     "text": [
      "\n"
     ]
    },
    {
     "name": "stdout",
     "output_type": "stream",
     "text": [
      "<class 'tpot.tpot.TPOTClassifier'>"
     ]
    },
    {
     "name": "stdout",
     "output_type": "stream",
     "text": [
      "\n"
     ]
    },
    {
     "name": "stdout",
     "output_type": "stream",
     "text": [
      "0.751"
     ]
    },
    {
     "name": "stdout",
     "output_type": "stream",
     "text": [
      "\n"
     ]
    },
    {
     "name": "stdout",
     "output_type": "stream",
     "text": [
      "Checking whether there is an H2O instance running at http://localhost:54321 "
     ]
    },
    {
     "name": "stdout",
     "output_type": "stream",
     "text": [
      "."
     ]
    },
    {
     "name": "stdout",
     "output_type": "stream",
     "text": [
      "."
     ]
    },
    {
     "name": "stdout",
     "output_type": "stream",
     "text": [
      "."
     ]
    },
    {
     "name": "stdout",
     "output_type": "stream",
     "text": [
      "."
     ]
    },
    {
     "name": "stdout",
     "output_type": "stream",
     "text": [
      "."
     ]
    },
    {
     "name": "stdout",
     "output_type": "stream",
     "text": [
      " not found."
     ]
    },
    {
     "name": "stdout",
     "output_type": "stream",
     "text": [
      "\n"
     ]
    },
    {
     "name": "stdout",
     "output_type": "stream",
     "text": [
      "Attempting to start a local H2O server..."
     ]
    },
    {
     "name": "stdout",
     "output_type": "stream",
     "text": [
      "\n"
     ]
    },
    {
     "name": "stdout",
     "output_type": "stream",
     "text": [
      "  Java Version: openjdk version \"11.0.2\" 2019-01-15; OpenJDK Runtime Environment 18.9 (build 11.0.2+9); OpenJDK 64-Bit Server VM 18.9 (build 11.0.2+9, mixed mode)"
     ]
    },
    {
     "name": "stdout",
     "output_type": "stream",
     "text": [
      "\n"
     ]
    },
    {
     "name": "stdout",
     "output_type": "stream",
     "text": [
      "  Starting server from /wrk/users/thalvari/dpEmu-AutoML/venv/lib/python3.6/site-packages/h2o/backend/bin/h2o.jar"
     ]
    },
    {
     "name": "stdout",
     "output_type": "stream",
     "text": [
      "\n"
     ]
    },
    {
     "name": "stdout",
     "output_type": "stream",
     "text": [
      "  Ice root: /wrk/users/thalvari/tmp2adq5eq5"
     ]
    },
    {
     "name": "stdout",
     "output_type": "stream",
     "text": [
      "\n"
     ]
    },
    {
     "name": "stdout",
     "output_type": "stream",
     "text": [
      "  JVM stdout: /wrk/users/thalvari/tmp2adq5eq5/h2o_thalvari_started_from_python.out"
     ]
    },
    {
     "name": "stdout",
     "output_type": "stream",
     "text": [
      "\n"
     ]
    },
    {
     "name": "stdout",
     "output_type": "stream",
     "text": [
      "  JVM stderr: /wrk/users/thalvari/tmp2adq5eq5/h2o_thalvari_started_from_python.err"
     ]
    },
    {
     "name": "stdout",
     "output_type": "stream",
     "text": [
      "\n"
     ]
    },
    {
     "name": "stdout",
     "output_type": "stream",
     "text": [
      "  Server is running at http://127.0.0.1:54321"
     ]
    },
    {
     "name": "stdout",
     "output_type": "stream",
     "text": [
      "\n"
     ]
    },
    {
     "name": "stdout",
     "output_type": "stream",
     "text": [
      "Connecting to H2O server at http://127.0.0.1:54321 .."
     ]
    },
    {
     "name": "stdout",
     "output_type": "stream",
     "text": [
      "."
     ]
    },
    {
     "name": "stdout",
     "output_type": "stream",
     "text": [
      " successful."
     ]
    },
    {
     "name": "stdout",
     "output_type": "stream",
     "text": [
      "\n"
     ]
    },
    {
     "data": {
      "text/html": [
       "<div style=\"overflow:auto\"><table style=\"width:50%\"><tr><td>H2O cluster uptime:</td>\n",
       "<td>01 secs</td></tr>\n",
       "<tr><td>H2O cluster timezone:</td>\n",
       "<td>Europe/Helsinki</td></tr>\n",
       "<tr><td>H2O data parsing timezone:</td>\n",
       "<td>UTC</td></tr>\n",
       "<tr><td>H2O cluster version:</td>\n",
       "<td>3.26.0.10</td></tr>\n",
       "<tr><td>H2O cluster version age:</td>\n",
       "<td>12 days </td></tr>\n",
       "<tr><td>H2O cluster name:</td>\n",
       "<td>#987600363</td></tr>\n",
       "<tr><td>H2O cluster total nodes:</td>\n",
       "<td>1</td></tr>\n",
       "<tr><td>H2O cluster free memory:</td>\n",
       "<td>29.97 Gb</td></tr>\n",
       "<tr><td>H2O cluster total cores:</td>\n",
       "<td>40</td></tr>\n",
       "<tr><td>H2O cluster allowed cores:</td>\n",
       "<td>20</td></tr>\n",
       "<tr><td>H2O cluster status:</td>\n",
       "<td>accepting new members, healthy</td></tr>\n",
       "<tr><td>H2O connection url:</td>\n",
       "<td>http://127.0.0.1:54321</td></tr>\n",
       "<tr><td>H2O connection proxy:</td>\n",
       "<td>{'http': None, 'https': None}</td></tr>\n",
       "<tr><td>H2O internal security:</td>\n",
       "<td>False</td></tr>\n",
       "<tr><td>H2O API Extensions:</td>\n",
       "<td>Amazon S3, XGBoost, Algos, AutoML, Core V3, TargetEncoder, Core V4</td></tr>\n",
       "<tr><td>Python version:</td>\n",
       "<td>3.6.6 final</td></tr></table></div>"
      ],
      "text/plain": [
       "--------------------------  ------------------------------------------------------------------\n",
       "H2O cluster uptime:         01 secs\n",
       "H2O cluster timezone:       Europe/Helsinki\n",
       "H2O data parsing timezone:  UTC\n",
       "H2O cluster version:        3.26.0.10\n",
       "H2O cluster version age:    12 days\n",
       "H2O cluster name:           #987600363\n",
       "H2O cluster total nodes:    1\n",
       "H2O cluster free memory:    29.97 Gb\n",
       "H2O cluster total cores:    40\n",
       "H2O cluster allowed cores:  20\n",
       "H2O cluster status:         accepting new members, healthy\n",
       "H2O connection url:         http://127.0.0.1:54321\n",
       "H2O connection proxy:       {'http': None, 'https': None}\n",
       "H2O internal security:      False\n",
       "H2O API Extensions:         Amazon S3, XGBoost, Algos, AutoML, Core V3, TargetEncoder, Core V4\n",
       "Python version:             3.6.6 final\n",
       "--------------------------  ------------------------------------------------------------------"
      ]
     },
     "metadata": {},
     "output_type": "display_data"
    },
    {
     "name": "stdout",
     "output_type": "stream",
     "text": [
      "H2O session _sid_bd3b closed."
     ]
    },
    {
     "name": "stdout",
     "output_type": "stream",
     "text": [
      "\n"
     ]
    },
    {
     "name": "stdout",
     "output_type": "stream",
     "text": [
      "<class 'h2o.automl.autoh2o.H2OAutoML'>"
     ]
    },
    {
     "name": "stdout",
     "output_type": "stream",
     "text": [
      "\n"
     ]
    },
    {
     "name": "stdout",
     "output_type": "stream",
     "text": [
      "0.938"
     ]
    },
    {
     "name": "stdout",
     "output_type": "stream",
     "text": [
      "\n"
     ]
    },
    {
     "name": "stdout",
     "output_type": "stream",
     "text": [
      "Checking whether there is an H2O instance running at http://localhost:54321 "
     ]
    },
    {
     "name": "stdout",
     "output_type": "stream",
     "text": [
      "."
     ]
    },
    {
     "name": "stdout",
     "output_type": "stream",
     "text": [
      "."
     ]
    },
    {
     "name": "stdout",
     "output_type": "stream",
     "text": [
      "."
     ]
    },
    {
     "name": "stdout",
     "output_type": "stream",
     "text": [
      "."
     ]
    },
    {
     "name": "stdout",
     "output_type": "stream",
     "text": [
      "."
     ]
    },
    {
     "name": "stdout",
     "output_type": "stream",
     "text": [
      " not found."
     ]
    },
    {
     "name": "stdout",
     "output_type": "stream",
     "text": [
      "\n"
     ]
    },
    {
     "name": "stdout",
     "output_type": "stream",
     "text": [
      "Attempting to start a local H2O server..."
     ]
    },
    {
     "name": "stdout",
     "output_type": "stream",
     "text": [
      "\n"
     ]
    },
    {
     "name": "stdout",
     "output_type": "stream",
     "text": [
      "  Java Version: openjdk version \"11.0.2\" 2019-01-15; OpenJDK Runtime Environment 18.9 (build 11.0.2+9); OpenJDK 64-Bit Server VM 18.9 (build 11.0.2+9, mixed mode)"
     ]
    },
    {
     "name": "stdout",
     "output_type": "stream",
     "text": [
      "\n"
     ]
    },
    {
     "name": "stdout",
     "output_type": "stream",
     "text": [
      "  Starting server from /wrk/users/thalvari/dpEmu-AutoML/venv/lib/python3.6/site-packages/h2o/backend/bin/h2o.jar"
     ]
    },
    {
     "name": "stdout",
     "output_type": "stream",
     "text": [
      "\n"
     ]
    },
    {
     "name": "stdout",
     "output_type": "stream",
     "text": [
      "  Ice root: /wrk/users/thalvari/tmpqezg5pn9"
     ]
    },
    {
     "name": "stdout",
     "output_type": "stream",
     "text": [
      "\n"
     ]
    },
    {
     "name": "stdout",
     "output_type": "stream",
     "text": [
      "  JVM stdout: /wrk/users/thalvari/tmpqezg5pn9/h2o_thalvari_started_from_python.out"
     ]
    },
    {
     "name": "stdout",
     "output_type": "stream",
     "text": [
      "\n"
     ]
    },
    {
     "name": "stdout",
     "output_type": "stream",
     "text": [
      "  JVM stderr: /wrk/users/thalvari/tmpqezg5pn9/h2o_thalvari_started_from_python.err"
     ]
    },
    {
     "name": "stdout",
     "output_type": "stream",
     "text": [
      "\n"
     ]
    },
    {
     "name": "stdout",
     "output_type": "stream",
     "text": [
      "  Server is running at http://127.0.0.1:54321"
     ]
    },
    {
     "name": "stdout",
     "output_type": "stream",
     "text": [
      "\n"
     ]
    },
    {
     "name": "stdout",
     "output_type": "stream",
     "text": [
      "Connecting to H2O server at http://127.0.0.1:54321 .."
     ]
    },
    {
     "name": "stdout",
     "output_type": "stream",
     "text": [
      "."
     ]
    },
    {
     "name": "stdout",
     "output_type": "stream",
     "text": [
      " successful."
     ]
    },
    {
     "name": "stdout",
     "output_type": "stream",
     "text": [
      "\n"
     ]
    },
    {
     "data": {
      "text/html": [
       "<div style=\"overflow:auto\"><table style=\"width:50%\"><tr><td>H2O cluster uptime:</td>\n",
       "<td>01 secs</td></tr>\n",
       "<tr><td>H2O cluster timezone:</td>\n",
       "<td>Europe/Helsinki</td></tr>\n",
       "<tr><td>H2O data parsing timezone:</td>\n",
       "<td>UTC</td></tr>\n",
       "<tr><td>H2O cluster version:</td>\n",
       "<td>3.26.0.10</td></tr>\n",
       "<tr><td>H2O cluster version age:</td>\n",
       "<td>12 days </td></tr>\n",
       "<tr><td>H2O cluster name:</td>\n",
       "<td>#75722775</td></tr>\n",
       "<tr><td>H2O cluster total nodes:</td>\n",
       "<td>1</td></tr>\n",
       "<tr><td>H2O cluster free memory:</td>\n",
       "<td>29.97 Gb</td></tr>\n",
       "<tr><td>H2O cluster total cores:</td>\n",
       "<td>40</td></tr>\n",
       "<tr><td>H2O cluster allowed cores:</td>\n",
       "<td>20</td></tr>\n",
       "<tr><td>H2O cluster status:</td>\n",
       "<td>accepting new members, healthy</td></tr>\n",
       "<tr><td>H2O connection url:</td>\n",
       "<td>http://127.0.0.1:54321</td></tr>\n",
       "<tr><td>H2O connection proxy:</td>\n",
       "<td>{'http': None, 'https': None}</td></tr>\n",
       "<tr><td>H2O internal security:</td>\n",
       "<td>False</td></tr>\n",
       "<tr><td>H2O API Extensions:</td>\n",
       "<td>Amazon S3, XGBoost, Algos, AutoML, Core V3, TargetEncoder, Core V4</td></tr>\n",
       "<tr><td>Python version:</td>\n",
       "<td>3.6.6 final</td></tr></table></div>"
      ],
      "text/plain": [
       "--------------------------  ------------------------------------------------------------------\n",
       "H2O cluster uptime:         01 secs\n",
       "H2O cluster timezone:       Europe/Helsinki\n",
       "H2O data parsing timezone:  UTC\n",
       "H2O cluster version:        3.26.0.10\n",
       "H2O cluster version age:    12 days\n",
       "H2O cluster name:           #75722775\n",
       "H2O cluster total nodes:    1\n",
       "H2O cluster free memory:    29.97 Gb\n",
       "H2O cluster total cores:    40\n",
       "H2O cluster allowed cores:  20\n",
       "H2O cluster status:         accepting new members, healthy\n",
       "H2O connection url:         http://127.0.0.1:54321\n",
       "H2O connection proxy:       {'http': None, 'https': None}\n",
       "H2O internal security:      False\n",
       "H2O API Extensions:         Amazon S3, XGBoost, Algos, AutoML, Core V3, TargetEncoder, Core V4\n",
       "Python version:             3.6.6 final\n",
       "--------------------------  ------------------------------------------------------------------"
      ]
     },
     "metadata": {},
     "output_type": "display_data"
    },
    {
     "name": "stdout",
     "output_type": "stream",
     "text": [
      "H2O session _sid_9843 closed."
     ]
    },
    {
     "name": "stdout",
     "output_type": "stream",
     "text": [
      "\n"
     ]
    },
    {
     "name": "stdout",
     "output_type": "stream",
     "text": [
      "<class 'h2o.automl.autoh2o.H2OAutoML'>"
     ]
    },
    {
     "name": "stdout",
     "output_type": "stream",
     "text": [
      "\n"
     ]
    },
    {
     "name": "stdout",
     "output_type": "stream",
     "text": [
      "0.681"
     ]
    },
    {
     "name": "stdout",
     "output_type": "stream",
     "text": [
      "\n"
     ]
    },
    {
     "name": "stderr",
     "output_type": "stream",
     "text": [
      "\r",
      " 33%|███▎      | 2/6 [3:12:41<6:22:30, 5737.60s/it]"
     ]
    },
    {
     "name": "stderr",
     "output_type": "stream",
     "text": [
      "WARNING:root:TimeoutError occurred at train() : "
     ]
    },
    {
     "name": "stderr",
     "output_type": "stream",
     "text": [
      "\n"
     ]
    },
    {
     "name": "stdout",
     "output_type": "stream",
     "text": [
      "<class 'autokeras.image.image_supervised.ImageClassifier'>"
     ]
    },
    {
     "name": "stdout",
     "output_type": "stream",
     "text": [
      "\n"
     ]
    },
    {
     "name": "stdout",
     "output_type": "stream",
     "text": [
      "0.883"
     ]
    },
    {
     "name": "stdout",
     "output_type": "stream",
     "text": [
      "\n"
     ]
    },
    {
     "name": "stderr",
     "output_type": "stream",
     "text": [
      "WARNING:root:TimeoutError occurred at train() : "
     ]
    },
    {
     "name": "stderr",
     "output_type": "stream",
     "text": [
      "\n"
     ]
    },
    {
     "name": "stdout",
     "output_type": "stream",
     "text": [
      "<class 'autokeras.image.image_supervised.ImageClassifier'>"
     ]
    },
    {
     "name": "stdout",
     "output_type": "stream",
     "text": [
      "\n"
     ]
    },
    {
     "name": "stdout",
     "output_type": "stream",
     "text": [
      "0.44"
     ]
    },
    {
     "name": "stdout",
     "output_type": "stream",
     "text": [
      "\n"
     ]
    },
    {
     "name": "stdout",
     "output_type": "stream",
     "text": [
      "\n"
     ]
    },
    {
     "name": "stdout",
     "output_type": "stream",
     "text": [
      "21.80 minutes have elapsed. TPOT will close down.\n",
      "TPOT closed during evaluation in one generation.\n",
      "WARNING: TPOT may not provide a good pipeline if TPOT is stopped/interrupted in a early generation."
     ]
    },
    {
     "name": "stdout",
     "output_type": "stream",
     "text": [
      "\n"
     ]
    },
    {
     "name": "stdout",
     "output_type": "stream",
     "text": [
      "\n"
     ]
    },
    {
     "name": "stdout",
     "output_type": "stream",
     "text": [
      "\n",
      "TPOT closed prematurely. Will use the current best pipeline."
     ]
    },
    {
     "name": "stdout",
     "output_type": "stream",
     "text": [
      "\n"
     ]
    },
    {
     "name": "stdout",
     "output_type": "stream",
     "text": [
      "Best pipeline:"
     ]
    },
    {
     "name": "stdout",
     "output_type": "stream",
     "text": [
      " "
     ]
    },
    {
     "name": "stdout",
     "output_type": "stream",
     "text": [
      "KNeighborsClassifier(BernoulliNB(GradientBoostingClassifier(input_matrix, learning_rate=0.001, max_depth=9, max_features=0.4, min_samples_leaf=20, min_samples_split=18, n_estimators=100, subsample=1.0), alpha=10.0, fit_prior=False), n_neighbors=18, p=2, weights=distance)"
     ]
    },
    {
     "name": "stdout",
     "output_type": "stream",
     "text": [
      "\n"
     ]
    },
    {
     "name": "stdout",
     "output_type": "stream",
     "text": [
      "<class 'tpot.tpot.TPOTClassifier'>"
     ]
    },
    {
     "name": "stdout",
     "output_type": "stream",
     "text": [
      "\n"
     ]
    },
    {
     "name": "stdout",
     "output_type": "stream",
     "text": [
      "0.86"
     ]
    },
    {
     "name": "stdout",
     "output_type": "stream",
     "text": [
      "\n"
     ]
    },
    {
     "name": "stdout",
     "output_type": "stream",
     "text": [
      "\n"
     ]
    },
    {
     "name": "stdout",
     "output_type": "stream",
     "text": [
      "15.75 minutes have elapsed. TPOT will close down.\n",
      "TPOT closed during evaluation in one generation.\n",
      "WARNING: TPOT may not provide a good pipeline if TPOT is stopped/interrupted in a early generation."
     ]
    },
    {
     "name": "stdout",
     "output_type": "stream",
     "text": [
      "\n"
     ]
    },
    {
     "name": "stdout",
     "output_type": "stream",
     "text": [
      "\n"
     ]
    },
    {
     "name": "stdout",
     "output_type": "stream",
     "text": [
      "\n",
      "TPOT closed prematurely. Will use the current best pipeline."
     ]
    },
    {
     "name": "stdout",
     "output_type": "stream",
     "text": [
      "\n"
     ]
    },
    {
     "name": "stdout",
     "output_type": "stream",
     "text": [
      "Best pipeline:"
     ]
    },
    {
     "name": "stdout",
     "output_type": "stream",
     "text": [
      " "
     ]
    },
    {
     "name": "stdout",
     "output_type": "stream",
     "text": [
      "KNeighborsClassifier(LogisticRegression(input_matrix, C=0.5, dual=False, penalty=l1), n_neighbors=12, p=2, weights=distance)"
     ]
    },
    {
     "name": "stdout",
     "output_type": "stream",
     "text": [
      "\n"
     ]
    },
    {
     "name": "stdout",
     "output_type": "stream",
     "text": [
      "<class 'tpot.tpot.TPOTClassifier'>"
     ]
    },
    {
     "name": "stdout",
     "output_type": "stream",
     "text": [
      "\n"
     ]
    },
    {
     "name": "stdout",
     "output_type": "stream",
     "text": [
      "0.514"
     ]
    },
    {
     "name": "stdout",
     "output_type": "stream",
     "text": [
      "\n"
     ]
    },
    {
     "name": "stdout",
     "output_type": "stream",
     "text": [
      "Checking whether there is an H2O instance running at http://localhost:54321 "
     ]
    },
    {
     "name": "stdout",
     "output_type": "stream",
     "text": [
      "."
     ]
    },
    {
     "name": "stdout",
     "output_type": "stream",
     "text": [
      "."
     ]
    },
    {
     "name": "stdout",
     "output_type": "stream",
     "text": [
      "."
     ]
    },
    {
     "name": "stdout",
     "output_type": "stream",
     "text": [
      "."
     ]
    },
    {
     "name": "stdout",
     "output_type": "stream",
     "text": [
      "."
     ]
    },
    {
     "name": "stdout",
     "output_type": "stream",
     "text": [
      " not found."
     ]
    },
    {
     "name": "stdout",
     "output_type": "stream",
     "text": [
      "\n"
     ]
    },
    {
     "name": "stdout",
     "output_type": "stream",
     "text": [
      "Attempting to start a local H2O server..."
     ]
    },
    {
     "name": "stdout",
     "output_type": "stream",
     "text": [
      "\n"
     ]
    },
    {
     "name": "stdout",
     "output_type": "stream",
     "text": [
      "  Java Version: openjdk version \"11.0.2\" 2019-01-15; OpenJDK Runtime Environment 18.9 (build 11.0.2+9); OpenJDK 64-Bit Server VM 18.9 (build 11.0.2+9, mixed mode)"
     ]
    },
    {
     "name": "stdout",
     "output_type": "stream",
     "text": [
      "\n"
     ]
    },
    {
     "name": "stdout",
     "output_type": "stream",
     "text": [
      "  Starting server from /wrk/users/thalvari/dpEmu-AutoML/venv/lib/python3.6/site-packages/h2o/backend/bin/h2o.jar"
     ]
    },
    {
     "name": "stdout",
     "output_type": "stream",
     "text": [
      "\n"
     ]
    },
    {
     "name": "stdout",
     "output_type": "stream",
     "text": [
      "  Ice root: /wrk/users/thalvari/tmpv_kwl154"
     ]
    },
    {
     "name": "stdout",
     "output_type": "stream",
     "text": [
      "\n"
     ]
    },
    {
     "name": "stdout",
     "output_type": "stream",
     "text": [
      "  JVM stdout: /wrk/users/thalvari/tmpv_kwl154/h2o_thalvari_started_from_python.out"
     ]
    },
    {
     "name": "stdout",
     "output_type": "stream",
     "text": [
      "\n"
     ]
    },
    {
     "name": "stdout",
     "output_type": "stream",
     "text": [
      "  JVM stderr: /wrk/users/thalvari/tmpv_kwl154/h2o_thalvari_started_from_python.err"
     ]
    },
    {
     "name": "stdout",
     "output_type": "stream",
     "text": [
      "\n"
     ]
    },
    {
     "name": "stdout",
     "output_type": "stream",
     "text": [
      "  Server is running at http://127.0.0.1:54321"
     ]
    },
    {
     "name": "stdout",
     "output_type": "stream",
     "text": [
      "\n"
     ]
    },
    {
     "name": "stdout",
     "output_type": "stream",
     "text": [
      "Connecting to H2O server at http://127.0.0.1:54321 .."
     ]
    },
    {
     "name": "stdout",
     "output_type": "stream",
     "text": [
      "."
     ]
    },
    {
     "name": "stdout",
     "output_type": "stream",
     "text": [
      " successful."
     ]
    },
    {
     "name": "stdout",
     "output_type": "stream",
     "text": [
      "\n"
     ]
    },
    {
     "data": {
      "text/html": [
       "<div style=\"overflow:auto\"><table style=\"width:50%\"><tr><td>H2O cluster uptime:</td>\n",
       "<td>01 secs</td></tr>\n",
       "<tr><td>H2O cluster timezone:</td>\n",
       "<td>Europe/Helsinki</td></tr>\n",
       "<tr><td>H2O data parsing timezone:</td>\n",
       "<td>UTC</td></tr>\n",
       "<tr><td>H2O cluster version:</td>\n",
       "<td>3.26.0.10</td></tr>\n",
       "<tr><td>H2O cluster version age:</td>\n",
       "<td>12 days </td></tr>\n",
       "<tr><td>H2O cluster name:</td>\n",
       "<td>#919499638</td></tr>\n",
       "<tr><td>H2O cluster total nodes:</td>\n",
       "<td>1</td></tr>\n",
       "<tr><td>H2O cluster free memory:</td>\n",
       "<td>29.97 Gb</td></tr>\n",
       "<tr><td>H2O cluster total cores:</td>\n",
       "<td>40</td></tr>\n",
       "<tr><td>H2O cluster allowed cores:</td>\n",
       "<td>20</td></tr>\n",
       "<tr><td>H2O cluster status:</td>\n",
       "<td>accepting new members, healthy</td></tr>\n",
       "<tr><td>H2O connection url:</td>\n",
       "<td>http://127.0.0.1:54321</td></tr>\n",
       "<tr><td>H2O connection proxy:</td>\n",
       "<td>{'http': None, 'https': None}</td></tr>\n",
       "<tr><td>H2O internal security:</td>\n",
       "<td>False</td></tr>\n",
       "<tr><td>H2O API Extensions:</td>\n",
       "<td>Amazon S3, XGBoost, Algos, AutoML, Core V3, TargetEncoder, Core V4</td></tr>\n",
       "<tr><td>Python version:</td>\n",
       "<td>3.6.6 final</td></tr></table></div>"
      ],
      "text/plain": [
       "--------------------------  ------------------------------------------------------------------\n",
       "H2O cluster uptime:         01 secs\n",
       "H2O cluster timezone:       Europe/Helsinki\n",
       "H2O data parsing timezone:  UTC\n",
       "H2O cluster version:        3.26.0.10\n",
       "H2O cluster version age:    12 days\n",
       "H2O cluster name:           #919499638\n",
       "H2O cluster total nodes:    1\n",
       "H2O cluster free memory:    29.97 Gb\n",
       "H2O cluster total cores:    40\n",
       "H2O cluster allowed cores:  20\n",
       "H2O cluster status:         accepting new members, healthy\n",
       "H2O connection url:         http://127.0.0.1:54321\n",
       "H2O connection proxy:       {'http': None, 'https': None}\n",
       "H2O internal security:      False\n",
       "H2O API Extensions:         Amazon S3, XGBoost, Algos, AutoML, Core V3, TargetEncoder, Core V4\n",
       "Python version:             3.6.6 final\n",
       "--------------------------  ------------------------------------------------------------------"
      ]
     },
     "metadata": {},
     "output_type": "display_data"
    },
    {
     "name": "stdout",
     "output_type": "stream",
     "text": [
      "H2O session _sid_bb9f closed."
     ]
    },
    {
     "name": "stdout",
     "output_type": "stream",
     "text": [
      "\n"
     ]
    },
    {
     "name": "stdout",
     "output_type": "stream",
     "text": [
      "<class 'h2o.automl.autoh2o.H2OAutoML'>"
     ]
    },
    {
     "name": "stdout",
     "output_type": "stream",
     "text": [
      "\n"
     ]
    },
    {
     "name": "stdout",
     "output_type": "stream",
     "text": [
      "0.872"
     ]
    },
    {
     "name": "stdout",
     "output_type": "stream",
     "text": [
      "\n"
     ]
    },
    {
     "name": "stdout",
     "output_type": "stream",
     "text": [
      "Checking whether there is an H2O instance running at http://localhost:54321 "
     ]
    },
    {
     "name": "stdout",
     "output_type": "stream",
     "text": [
      "."
     ]
    },
    {
     "name": "stdout",
     "output_type": "stream",
     "text": [
      "."
     ]
    },
    {
     "name": "stdout",
     "output_type": "stream",
     "text": [
      "."
     ]
    },
    {
     "name": "stdout",
     "output_type": "stream",
     "text": [
      "."
     ]
    },
    {
     "name": "stdout",
     "output_type": "stream",
     "text": [
      "."
     ]
    },
    {
     "name": "stdout",
     "output_type": "stream",
     "text": [
      " not found."
     ]
    },
    {
     "name": "stdout",
     "output_type": "stream",
     "text": [
      "\n"
     ]
    },
    {
     "name": "stdout",
     "output_type": "stream",
     "text": [
      "Attempting to start a local H2O server..."
     ]
    },
    {
     "name": "stdout",
     "output_type": "stream",
     "text": [
      "\n"
     ]
    },
    {
     "name": "stdout",
     "output_type": "stream",
     "text": [
      "  Java Version: openjdk version \"11.0.2\" 2019-01-15; OpenJDK Runtime Environment 18.9 (build 11.0.2+9); OpenJDK 64-Bit Server VM 18.9 (build 11.0.2+9, mixed mode)"
     ]
    },
    {
     "name": "stdout",
     "output_type": "stream",
     "text": [
      "\n"
     ]
    },
    {
     "name": "stdout",
     "output_type": "stream",
     "text": [
      "  Starting server from /wrk/users/thalvari/dpEmu-AutoML/venv/lib/python3.6/site-packages/h2o/backend/bin/h2o.jar"
     ]
    },
    {
     "name": "stdout",
     "output_type": "stream",
     "text": [
      "\n"
     ]
    },
    {
     "name": "stdout",
     "output_type": "stream",
     "text": [
      "  Ice root: /wrk/users/thalvari/tmpw9_i72b4"
     ]
    },
    {
     "name": "stdout",
     "output_type": "stream",
     "text": [
      "\n"
     ]
    },
    {
     "name": "stdout",
     "output_type": "stream",
     "text": [
      "  JVM stdout: /wrk/users/thalvari/tmpw9_i72b4/h2o_thalvari_started_from_python.out"
     ]
    },
    {
     "name": "stdout",
     "output_type": "stream",
     "text": [
      "\n"
     ]
    },
    {
     "name": "stdout",
     "output_type": "stream",
     "text": [
      "  JVM stderr: /wrk/users/thalvari/tmpw9_i72b4/h2o_thalvari_started_from_python.err"
     ]
    },
    {
     "name": "stdout",
     "output_type": "stream",
     "text": [
      "\n"
     ]
    },
    {
     "name": "stdout",
     "output_type": "stream",
     "text": [
      "  Server is running at http://127.0.0.1:54321"
     ]
    },
    {
     "name": "stdout",
     "output_type": "stream",
     "text": [
      "\n"
     ]
    },
    {
     "name": "stdout",
     "output_type": "stream",
     "text": [
      "Connecting to H2O server at http://127.0.0.1:54321 .."
     ]
    },
    {
     "name": "stdout",
     "output_type": "stream",
     "text": [
      "."
     ]
    },
    {
     "name": "stdout",
     "output_type": "stream",
     "text": [
      " successful."
     ]
    },
    {
     "name": "stdout",
     "output_type": "stream",
     "text": [
      "\n"
     ]
    },
    {
     "data": {
      "text/html": [
       "<div style=\"overflow:auto\"><table style=\"width:50%\"><tr><td>H2O cluster uptime:</td>\n",
       "<td>01 secs</td></tr>\n",
       "<tr><td>H2O cluster timezone:</td>\n",
       "<td>Europe/Helsinki</td></tr>\n",
       "<tr><td>H2O data parsing timezone:</td>\n",
       "<td>UTC</td></tr>\n",
       "<tr><td>H2O cluster version:</td>\n",
       "<td>3.26.0.10</td></tr>\n",
       "<tr><td>H2O cluster version age:</td>\n",
       "<td>12 days </td></tr>\n",
       "<tr><td>H2O cluster name:</td>\n",
       "<td>#1046369838</td></tr>\n",
       "<tr><td>H2O cluster total nodes:</td>\n",
       "<td>1</td></tr>\n",
       "<tr><td>H2O cluster free memory:</td>\n",
       "<td>29.97 Gb</td></tr>\n",
       "<tr><td>H2O cluster total cores:</td>\n",
       "<td>40</td></tr>\n",
       "<tr><td>H2O cluster allowed cores:</td>\n",
       "<td>20</td></tr>\n",
       "<tr><td>H2O cluster status:</td>\n",
       "<td>accepting new members, healthy</td></tr>\n",
       "<tr><td>H2O connection url:</td>\n",
       "<td>http://127.0.0.1:54321</td></tr>\n",
       "<tr><td>H2O connection proxy:</td>\n",
       "<td>{'http': None, 'https': None}</td></tr>\n",
       "<tr><td>H2O internal security:</td>\n",
       "<td>False</td></tr>\n",
       "<tr><td>H2O API Extensions:</td>\n",
       "<td>Amazon S3, XGBoost, Algos, AutoML, Core V3, TargetEncoder, Core V4</td></tr>\n",
       "<tr><td>Python version:</td>\n",
       "<td>3.6.6 final</td></tr></table></div>"
      ],
      "text/plain": [
       "--------------------------  ------------------------------------------------------------------\n",
       "H2O cluster uptime:         01 secs\n",
       "H2O cluster timezone:       Europe/Helsinki\n",
       "H2O data parsing timezone:  UTC\n",
       "H2O cluster version:        3.26.0.10\n",
       "H2O cluster version age:    12 days\n",
       "H2O cluster name:           #1046369838\n",
       "H2O cluster total nodes:    1\n",
       "H2O cluster free memory:    29.97 Gb\n",
       "H2O cluster total cores:    40\n",
       "H2O cluster allowed cores:  20\n",
       "H2O cluster status:         accepting new members, healthy\n",
       "H2O connection url:         http://127.0.0.1:54321\n",
       "H2O connection proxy:       {'http': None, 'https': None}\n",
       "H2O internal security:      False\n",
       "H2O API Extensions:         Amazon S3, XGBoost, Algos, AutoML, Core V3, TargetEncoder, Core V4\n",
       "Python version:             3.6.6 final\n",
       "--------------------------  ------------------------------------------------------------------"
      ]
     },
     "metadata": {},
     "output_type": "display_data"
    },
    {
     "name": "stdout",
     "output_type": "stream",
     "text": [
      "H2O session _sid_88e1 closed."
     ]
    },
    {
     "name": "stdout",
     "output_type": "stream",
     "text": [
      "\n"
     ]
    },
    {
     "name": "stdout",
     "output_type": "stream",
     "text": [
      "<class 'h2o.automl.autoh2o.H2OAutoML'>"
     ]
    },
    {
     "name": "stdout",
     "output_type": "stream",
     "text": [
      "\n"
     ]
    },
    {
     "name": "stdout",
     "output_type": "stream",
     "text": [
      "0.428"
     ]
    },
    {
     "name": "stdout",
     "output_type": "stream",
     "text": [
      "\n"
     ]
    },
    {
     "name": "stderr",
     "output_type": "stream",
     "text": [
      "\r",
      " 50%|█████     | 3/6 [4:53:07<4:51:12, 5824.08s/it]"
     ]
    },
    {
     "name": "stderr",
     "output_type": "stream",
     "text": [
      "WARNING:root:TimeoutError occurred at train() : "
     ]
    },
    {
     "name": "stderr",
     "output_type": "stream",
     "text": [
      "\n"
     ]
    },
    {
     "name": "stdout",
     "output_type": "stream",
     "text": [
      "<class 'autokeras.image.image_supervised.ImageClassifier'>"
     ]
    },
    {
     "name": "stdout",
     "output_type": "stream",
     "text": [
      "\n"
     ]
    },
    {
     "name": "stdout",
     "output_type": "stream",
     "text": [
      "0.786"
     ]
    },
    {
     "name": "stdout",
     "output_type": "stream",
     "text": [
      "\n"
     ]
    },
    {
     "name": "stderr",
     "output_type": "stream",
     "text": [
      "WARNING:root:TimeoutError occurred at train() : "
     ]
    },
    {
     "name": "stderr",
     "output_type": "stream",
     "text": [
      "\n"
     ]
    },
    {
     "name": "stdout",
     "output_type": "stream",
     "text": [
      "<class 'autokeras.image.image_supervised.ImageClassifier'>"
     ]
    },
    {
     "name": "stdout",
     "output_type": "stream",
     "text": [
      "\n"
     ]
    },
    {
     "name": "stdout",
     "output_type": "stream",
     "text": [
      "0.381"
     ]
    },
    {
     "name": "stdout",
     "output_type": "stream",
     "text": [
      "\n"
     ]
    },
    {
     "name": "stdout",
     "output_type": "stream",
     "text": [
      "\n"
     ]
    },
    {
     "name": "stdout",
     "output_type": "stream",
     "text": [
      "15.19 minutes have elapsed. TPOT will close down.\n",
      "TPOT closed during evaluation in one generation.\n",
      "WARNING: TPOT may not provide a good pipeline if TPOT is stopped/interrupted in a early generation."
     ]
    },
    {
     "name": "stdout",
     "output_type": "stream",
     "text": [
      "\n"
     ]
    },
    {
     "name": "stdout",
     "output_type": "stream",
     "text": [
      "\n"
     ]
    },
    {
     "name": "stdout",
     "output_type": "stream",
     "text": [
      "\n",
      "TPOT closed prematurely. Will use the current best pipeline."
     ]
    },
    {
     "name": "stdout",
     "output_type": "stream",
     "text": [
      "\n"
     ]
    },
    {
     "name": "stdout",
     "output_type": "stream",
     "text": [
      "Best pipeline:"
     ]
    },
    {
     "name": "stdout",
     "output_type": "stream",
     "text": [
      " "
     ]
    },
    {
     "name": "stdout",
     "output_type": "stream",
     "text": [
      "XGBClassifier(LogisticRegression(PolynomialFeatures(input_matrix, degree=2, include_bias=False, interaction_only=False), C=15.0, dual=False, penalty=l2), learning_rate=0.1, max_depth=7, min_child_weight=18, n_estimators=100, nthread=1, subsample=0.7000000000000001)"
     ]
    },
    {
     "name": "stdout",
     "output_type": "stream",
     "text": [
      "\n"
     ]
    },
    {
     "name": "stdout",
     "output_type": "stream",
     "text": [
      "<class 'tpot.tpot.TPOTClassifier'>"
     ]
    },
    {
     "name": "stdout",
     "output_type": "stream",
     "text": [
      "\n"
     ]
    },
    {
     "name": "stdout",
     "output_type": "stream",
     "text": [
      "0.879"
     ]
    },
    {
     "name": "stdout",
     "output_type": "stream",
     "text": [
      "\n"
     ]
    },
    {
     "name": "stdout",
     "output_type": "stream",
     "text": [
      "\n"
     ]
    },
    {
     "name": "stdout",
     "output_type": "stream",
     "text": [
      "15.32 minutes have elapsed. TPOT will close down.\n",
      "TPOT closed during evaluation in one generation.\n",
      "WARNING: TPOT may not provide a good pipeline if TPOT is stopped/interrupted in a early generation."
     ]
    },
    {
     "name": "stdout",
     "output_type": "stream",
     "text": [
      "\n"
     ]
    },
    {
     "name": "stdout",
     "output_type": "stream",
     "text": [
      "\n"
     ]
    },
    {
     "name": "stdout",
     "output_type": "stream",
     "text": [
      "\n",
      "TPOT closed prematurely. Will use the current best pipeline."
     ]
    },
    {
     "name": "stdout",
     "output_type": "stream",
     "text": [
      "\n"
     ]
    },
    {
     "name": "stdout",
     "output_type": "stream",
     "text": [
      "Best pipeline:"
     ]
    },
    {
     "name": "stdout",
     "output_type": "stream",
     "text": [
      " "
     ]
    },
    {
     "name": "stdout",
     "output_type": "stream",
     "text": [
      "KNeighborsClassifier(LogisticRegression(input_matrix, C=0.5, dual=False, penalty=l1), n_neighbors=12, p=2, weights=distance)"
     ]
    },
    {
     "name": "stdout",
     "output_type": "stream",
     "text": [
      "\n"
     ]
    },
    {
     "name": "stdout",
     "output_type": "stream",
     "text": [
      "<class 'tpot.tpot.TPOTClassifier'>"
     ]
    },
    {
     "name": "stdout",
     "output_type": "stream",
     "text": [
      "\n"
     ]
    },
    {
     "name": "stdout",
     "output_type": "stream",
     "text": [
      "0.416"
     ]
    },
    {
     "name": "stdout",
     "output_type": "stream",
     "text": [
      "\n"
     ]
    },
    {
     "name": "stdout",
     "output_type": "stream",
     "text": [
      "Checking whether there is an H2O instance running at http://localhost:54321 "
     ]
    },
    {
     "name": "stdout",
     "output_type": "stream",
     "text": [
      "."
     ]
    },
    {
     "name": "stdout",
     "output_type": "stream",
     "text": [
      "."
     ]
    },
    {
     "name": "stdout",
     "output_type": "stream",
     "text": [
      "."
     ]
    },
    {
     "name": "stdout",
     "output_type": "stream",
     "text": [
      "."
     ]
    },
    {
     "name": "stdout",
     "output_type": "stream",
     "text": [
      "."
     ]
    },
    {
     "name": "stdout",
     "output_type": "stream",
     "text": [
      " not found."
     ]
    },
    {
     "name": "stdout",
     "output_type": "stream",
     "text": [
      "\n"
     ]
    },
    {
     "name": "stdout",
     "output_type": "stream",
     "text": [
      "Attempting to start a local H2O server..."
     ]
    },
    {
     "name": "stdout",
     "output_type": "stream",
     "text": [
      "\n"
     ]
    },
    {
     "name": "stdout",
     "output_type": "stream",
     "text": [
      "  Java Version: openjdk version \"11.0.2\" 2019-01-15; OpenJDK Runtime Environment 18.9 (build 11.0.2+9); OpenJDK 64-Bit Server VM 18.9 (build 11.0.2+9, mixed mode)"
     ]
    },
    {
     "name": "stdout",
     "output_type": "stream",
     "text": [
      "\n"
     ]
    },
    {
     "name": "stdout",
     "output_type": "stream",
     "text": [
      "  Starting server from /wrk/users/thalvari/dpEmu-AutoML/venv/lib/python3.6/site-packages/h2o/backend/bin/h2o.jar"
     ]
    },
    {
     "name": "stdout",
     "output_type": "stream",
     "text": [
      "\n"
     ]
    },
    {
     "name": "stdout",
     "output_type": "stream",
     "text": [
      "  Ice root: /wrk/users/thalvari/tmpkgdm7kvn"
     ]
    },
    {
     "name": "stdout",
     "output_type": "stream",
     "text": [
      "\n"
     ]
    },
    {
     "name": "stdout",
     "output_type": "stream",
     "text": [
      "  JVM stdout: /wrk/users/thalvari/tmpkgdm7kvn/h2o_thalvari_started_from_python.out"
     ]
    },
    {
     "name": "stdout",
     "output_type": "stream",
     "text": [
      "\n"
     ]
    },
    {
     "name": "stdout",
     "output_type": "stream",
     "text": [
      "  JVM stderr: /wrk/users/thalvari/tmpkgdm7kvn/h2o_thalvari_started_from_python.err"
     ]
    },
    {
     "name": "stdout",
     "output_type": "stream",
     "text": [
      "\n"
     ]
    },
    {
     "name": "stdout",
     "output_type": "stream",
     "text": [
      "  Server is running at http://127.0.0.1:54321"
     ]
    },
    {
     "name": "stdout",
     "output_type": "stream",
     "text": [
      "\n"
     ]
    },
    {
     "name": "stdout",
     "output_type": "stream",
     "text": [
      "Connecting to H2O server at http://127.0.0.1:54321 .."
     ]
    },
    {
     "name": "stdout",
     "output_type": "stream",
     "text": [
      "."
     ]
    },
    {
     "name": "stdout",
     "output_type": "stream",
     "text": [
      " successful."
     ]
    },
    {
     "name": "stdout",
     "output_type": "stream",
     "text": [
      "\n"
     ]
    },
    {
     "data": {
      "text/html": [
       "<div style=\"overflow:auto\"><table style=\"width:50%\"><tr><td>H2O cluster uptime:</td>\n",
       "<td>01 secs</td></tr>\n",
       "<tr><td>H2O cluster timezone:</td>\n",
       "<td>Europe/Helsinki</td></tr>\n",
       "<tr><td>H2O data parsing timezone:</td>\n",
       "<td>UTC</td></tr>\n",
       "<tr><td>H2O cluster version:</td>\n",
       "<td>3.26.0.10</td></tr>\n",
       "<tr><td>H2O cluster version age:</td>\n",
       "<td>12 days </td></tr>\n",
       "<tr><td>H2O cluster name:</td>\n",
       "<td>#967641848</td></tr>\n",
       "<tr><td>H2O cluster total nodes:</td>\n",
       "<td>1</td></tr>\n",
       "<tr><td>H2O cluster free memory:</td>\n",
       "<td>29.97 Gb</td></tr>\n",
       "<tr><td>H2O cluster total cores:</td>\n",
       "<td>40</td></tr>\n",
       "<tr><td>H2O cluster allowed cores:</td>\n",
       "<td>20</td></tr>\n",
       "<tr><td>H2O cluster status:</td>\n",
       "<td>accepting new members, healthy</td></tr>\n",
       "<tr><td>H2O connection url:</td>\n",
       "<td>http://127.0.0.1:54321</td></tr>\n",
       "<tr><td>H2O connection proxy:</td>\n",
       "<td>{'http': None, 'https': None}</td></tr>\n",
       "<tr><td>H2O internal security:</td>\n",
       "<td>False</td></tr>\n",
       "<tr><td>H2O API Extensions:</td>\n",
       "<td>Amazon S3, XGBoost, Algos, AutoML, Core V3, TargetEncoder, Core V4</td></tr>\n",
       "<tr><td>Python version:</td>\n",
       "<td>3.6.6 final</td></tr></table></div>"
      ],
      "text/plain": [
       "--------------------------  ------------------------------------------------------------------\n",
       "H2O cluster uptime:         01 secs\n",
       "H2O cluster timezone:       Europe/Helsinki\n",
       "H2O data parsing timezone:  UTC\n",
       "H2O cluster version:        3.26.0.10\n",
       "H2O cluster version age:    12 days\n",
       "H2O cluster name:           #967641848\n",
       "H2O cluster total nodes:    1\n",
       "H2O cluster free memory:    29.97 Gb\n",
       "H2O cluster total cores:    40\n",
       "H2O cluster allowed cores:  20\n",
       "H2O cluster status:         accepting new members, healthy\n",
       "H2O connection url:         http://127.0.0.1:54321\n",
       "H2O connection proxy:       {'http': None, 'https': None}\n",
       "H2O internal security:      False\n",
       "H2O API Extensions:         Amazon S3, XGBoost, Algos, AutoML, Core V3, TargetEncoder, Core V4\n",
       "Python version:             3.6.6 final\n",
       "--------------------------  ------------------------------------------------------------------"
      ]
     },
     "metadata": {},
     "output_type": "display_data"
    },
    {
     "name": "stdout",
     "output_type": "stream",
     "text": [
      "H2O session _sid_8646 closed."
     ]
    },
    {
     "name": "stdout",
     "output_type": "stream",
     "text": [
      "\n"
     ]
    },
    {
     "name": "stdout",
     "output_type": "stream",
     "text": [
      "<class 'h2o.automl.autoh2o.H2OAutoML'>"
     ]
    },
    {
     "name": "stdout",
     "output_type": "stream",
     "text": [
      "\n"
     ]
    },
    {
     "name": "stdout",
     "output_type": "stream",
     "text": [
      "0.891"
     ]
    },
    {
     "name": "stdout",
     "output_type": "stream",
     "text": [
      "\n"
     ]
    },
    {
     "name": "stdout",
     "output_type": "stream",
     "text": [
      "Checking whether there is an H2O instance running at http://localhost:54321 "
     ]
    },
    {
     "name": "stdout",
     "output_type": "stream",
     "text": [
      "."
     ]
    },
    {
     "name": "stdout",
     "output_type": "stream",
     "text": [
      "."
     ]
    },
    {
     "name": "stdout",
     "output_type": "stream",
     "text": [
      "."
     ]
    },
    {
     "name": "stdout",
     "output_type": "stream",
     "text": [
      "."
     ]
    },
    {
     "name": "stdout",
     "output_type": "stream",
     "text": [
      "."
     ]
    },
    {
     "name": "stdout",
     "output_type": "stream",
     "text": [
      " not found."
     ]
    },
    {
     "name": "stdout",
     "output_type": "stream",
     "text": [
      "\n"
     ]
    },
    {
     "name": "stdout",
     "output_type": "stream",
     "text": [
      "Attempting to start a local H2O server..."
     ]
    },
    {
     "name": "stdout",
     "output_type": "stream",
     "text": [
      "\n"
     ]
    },
    {
     "name": "stdout",
     "output_type": "stream",
     "text": [
      "  Java Version: openjdk version \"11.0.2\" 2019-01-15; OpenJDK Runtime Environment 18.9 (build 11.0.2+9); OpenJDK 64-Bit Server VM 18.9 (build 11.0.2+9, mixed mode)"
     ]
    },
    {
     "name": "stdout",
     "output_type": "stream",
     "text": [
      "\n"
     ]
    },
    {
     "name": "stdout",
     "output_type": "stream",
     "text": [
      "  Starting server from /wrk/users/thalvari/dpEmu-AutoML/venv/lib/python3.6/site-packages/h2o/backend/bin/h2o.jar"
     ]
    },
    {
     "name": "stdout",
     "output_type": "stream",
     "text": [
      "\n"
     ]
    },
    {
     "name": "stdout",
     "output_type": "stream",
     "text": [
      "  Ice root: /wrk/users/thalvari/tmpao68puak"
     ]
    },
    {
     "name": "stdout",
     "output_type": "stream",
     "text": [
      "\n"
     ]
    },
    {
     "name": "stdout",
     "output_type": "stream",
     "text": [
      "  JVM stdout: /wrk/users/thalvari/tmpao68puak/h2o_thalvari_started_from_python.out"
     ]
    },
    {
     "name": "stdout",
     "output_type": "stream",
     "text": [
      "\n"
     ]
    },
    {
     "name": "stdout",
     "output_type": "stream",
     "text": [
      "  JVM stderr: /wrk/users/thalvari/tmpao68puak/h2o_thalvari_started_from_python.err"
     ]
    },
    {
     "name": "stdout",
     "output_type": "stream",
     "text": [
      "\n"
     ]
    },
    {
     "name": "stdout",
     "output_type": "stream",
     "text": [
      "  Server is running at http://127.0.0.1:54321"
     ]
    },
    {
     "name": "stdout",
     "output_type": "stream",
     "text": [
      "\n"
     ]
    },
    {
     "name": "stdout",
     "output_type": "stream",
     "text": [
      "Connecting to H2O server at http://127.0.0.1:54321 .."
     ]
    },
    {
     "name": "stdout",
     "output_type": "stream",
     "text": [
      "."
     ]
    },
    {
     "name": "stdout",
     "output_type": "stream",
     "text": [
      " successful."
     ]
    },
    {
     "name": "stdout",
     "output_type": "stream",
     "text": [
      "\n"
     ]
    },
    {
     "data": {
      "text/html": [
       "<div style=\"overflow:auto\"><table style=\"width:50%\"><tr><td>H2O cluster uptime:</td>\n",
       "<td>01 secs</td></tr>\n",
       "<tr><td>H2O cluster timezone:</td>\n",
       "<td>Europe/Helsinki</td></tr>\n",
       "<tr><td>H2O data parsing timezone:</td>\n",
       "<td>UTC</td></tr>\n",
       "<tr><td>H2O cluster version:</td>\n",
       "<td>3.26.0.10</td></tr>\n",
       "<tr><td>H2O cluster version age:</td>\n",
       "<td>12 days </td></tr>\n",
       "<tr><td>H2O cluster name:</td>\n",
       "<td>#99283850</td></tr>\n",
       "<tr><td>H2O cluster total nodes:</td>\n",
       "<td>1</td></tr>\n",
       "<tr><td>H2O cluster free memory:</td>\n",
       "<td>29.97 Gb</td></tr>\n",
       "<tr><td>H2O cluster total cores:</td>\n",
       "<td>40</td></tr>\n",
       "<tr><td>H2O cluster allowed cores:</td>\n",
       "<td>20</td></tr>\n",
       "<tr><td>H2O cluster status:</td>\n",
       "<td>accepting new members, healthy</td></tr>\n",
       "<tr><td>H2O connection url:</td>\n",
       "<td>http://127.0.0.1:54321</td></tr>\n",
       "<tr><td>H2O connection proxy:</td>\n",
       "<td>{'http': None, 'https': None}</td></tr>\n",
       "<tr><td>H2O internal security:</td>\n",
       "<td>False</td></tr>\n",
       "<tr><td>H2O API Extensions:</td>\n",
       "<td>Amazon S3, XGBoost, Algos, AutoML, Core V3, TargetEncoder, Core V4</td></tr>\n",
       "<tr><td>Python version:</td>\n",
       "<td>3.6.6 final</td></tr></table></div>"
      ],
      "text/plain": [
       "--------------------------  ------------------------------------------------------------------\n",
       "H2O cluster uptime:         01 secs\n",
       "H2O cluster timezone:       Europe/Helsinki\n",
       "H2O data parsing timezone:  UTC\n",
       "H2O cluster version:        3.26.0.10\n",
       "H2O cluster version age:    12 days\n",
       "H2O cluster name:           #99283850\n",
       "H2O cluster total nodes:    1\n",
       "H2O cluster free memory:    29.97 Gb\n",
       "H2O cluster total cores:    40\n",
       "H2O cluster allowed cores:  20\n",
       "H2O cluster status:         accepting new members, healthy\n",
       "H2O connection url:         http://127.0.0.1:54321\n",
       "H2O connection proxy:       {'http': None, 'https': None}\n",
       "H2O internal security:      False\n",
       "H2O API Extensions:         Amazon S3, XGBoost, Algos, AutoML, Core V3, TargetEncoder, Core V4\n",
       "Python version:             3.6.6 final\n",
       "--------------------------  ------------------------------------------------------------------"
      ]
     },
     "metadata": {},
     "output_type": "display_data"
    },
    {
     "name": "stdout",
     "output_type": "stream",
     "text": [
      "H2O session _sid_a22f closed."
     ]
    },
    {
     "name": "stdout",
     "output_type": "stream",
     "text": [
      "\n"
     ]
    },
    {
     "name": "stdout",
     "output_type": "stream",
     "text": [
      "<class 'h2o.automl.autoh2o.H2OAutoML'>"
     ]
    },
    {
     "name": "stdout",
     "output_type": "stream",
     "text": [
      "\n"
     ]
    },
    {
     "name": "stdout",
     "output_type": "stream",
     "text": [
      "0.374"
     ]
    },
    {
     "name": "stdout",
     "output_type": "stream",
     "text": [
      "\n"
     ]
    },
    {
     "name": "stderr",
     "output_type": "stream",
     "text": [
      "\r",
      " 67%|██████▋   | 4/6 [6:27:06<3:12:16, 5768.44s/it]"
     ]
    },
    {
     "name": "stderr",
     "output_type": "stream",
     "text": [
      "WARNING:root:TimeoutError occurred at train() : "
     ]
    },
    {
     "name": "stderr",
     "output_type": "stream",
     "text": [
      "\n"
     ]
    },
    {
     "name": "stdout",
     "output_type": "stream",
     "text": [
      "<class 'autokeras.image.image_supervised.ImageClassifier'>"
     ]
    },
    {
     "name": "stdout",
     "output_type": "stream",
     "text": [
      "\n"
     ]
    },
    {
     "name": "stdout",
     "output_type": "stream",
     "text": [
      "0.763"
     ]
    },
    {
     "name": "stdout",
     "output_type": "stream",
     "text": [
      "\n"
     ]
    },
    {
     "name": "stderr",
     "output_type": "stream",
     "text": [
      "WARNING:root:TimeoutError occurred at train() : "
     ]
    },
    {
     "name": "stderr",
     "output_type": "stream",
     "text": [
      "\n"
     ]
    },
    {
     "name": "stdout",
     "output_type": "stream",
     "text": [
      "<class 'autokeras.image.image_supervised.ImageClassifier'>"
     ]
    },
    {
     "name": "stdout",
     "output_type": "stream",
     "text": [
      "\n"
     ]
    },
    {
     "name": "stdout",
     "output_type": "stream",
     "text": [
      "0.3"
     ]
    },
    {
     "name": "stdout",
     "output_type": "stream",
     "text": [
      "\n"
     ]
    },
    {
     "name": "stdout",
     "output_type": "stream",
     "text": [
      "\n"
     ]
    },
    {
     "name": "stdout",
     "output_type": "stream",
     "text": [
      "18.77 minutes have elapsed. TPOT will close down.\n",
      "TPOT closed during evaluation in one generation.\n",
      "WARNING: TPOT may not provide a good pipeline if TPOT is stopped/interrupted in a early generation."
     ]
    },
    {
     "name": "stdout",
     "output_type": "stream",
     "text": [
      "\n"
     ]
    },
    {
     "name": "stdout",
     "output_type": "stream",
     "text": [
      "\n"
     ]
    },
    {
     "name": "stdout",
     "output_type": "stream",
     "text": [
      "\n",
      "TPOT closed prematurely. Will use the current best pipeline."
     ]
    },
    {
     "name": "stdout",
     "output_type": "stream",
     "text": [
      "\n"
     ]
    },
    {
     "name": "stdout",
     "output_type": "stream",
     "text": [
      "Best pipeline:"
     ]
    },
    {
     "name": "stdout",
     "output_type": "stream",
     "text": [
      " "
     ]
    },
    {
     "name": "stdout",
     "output_type": "stream",
     "text": [
      "LogisticRegression(Normalizer(PolynomialFeatures(input_matrix, degree=2, include_bias=False, interaction_only=False), norm=max), C=20.0, dual=False, penalty=l2)"
     ]
    },
    {
     "name": "stdout",
     "output_type": "stream",
     "text": [
      "\n"
     ]
    },
    {
     "name": "stdout",
     "output_type": "stream",
     "text": [
      "<class 'tpot.tpot.TPOTClassifier'>"
     ]
    },
    {
     "name": "stdout",
     "output_type": "stream",
     "text": [
      "\n"
     ]
    },
    {
     "name": "stdout",
     "output_type": "stream",
     "text": [
      "0.844"
     ]
    },
    {
     "name": "stdout",
     "output_type": "stream",
     "text": [
      "\n"
     ]
    },
    {
     "name": "stdout",
     "output_type": "stream",
     "text": [
      "\n"
     ]
    },
    {
     "name": "stdout",
     "output_type": "stream",
     "text": [
      "15.40 minutes have elapsed. TPOT will close down.\n",
      "TPOT closed during evaluation in one generation.\n",
      "WARNING: TPOT may not provide a good pipeline if TPOT is stopped/interrupted in a early generation."
     ]
    },
    {
     "name": "stdout",
     "output_type": "stream",
     "text": [
      "\n"
     ]
    },
    {
     "name": "stdout",
     "output_type": "stream",
     "text": [
      "\n"
     ]
    },
    {
     "name": "stdout",
     "output_type": "stream",
     "text": [
      "\n",
      "TPOT closed prematurely. Will use the current best pipeline."
     ]
    },
    {
     "name": "stdout",
     "output_type": "stream",
     "text": [
      "\n"
     ]
    },
    {
     "name": "stdout",
     "output_type": "stream",
     "text": [
      "Best pipeline:"
     ]
    },
    {
     "name": "stdout",
     "output_type": "stream",
     "text": [
      " "
     ]
    },
    {
     "name": "stdout",
     "output_type": "stream",
     "text": [
      "KNeighborsClassifier(LogisticRegression(input_matrix, C=0.5, dual=False, penalty=l1), n_neighbors=12, p=2, weights=distance)"
     ]
    },
    {
     "name": "stdout",
     "output_type": "stream",
     "text": [
      "\n"
     ]
    },
    {
     "name": "stdout",
     "output_type": "stream",
     "text": [
      "<class 'tpot.tpot.TPOTClassifier'>"
     ]
    },
    {
     "name": "stdout",
     "output_type": "stream",
     "text": [
      "\n"
     ]
    },
    {
     "name": "stdout",
     "output_type": "stream",
     "text": [
      "0.346"
     ]
    },
    {
     "name": "stdout",
     "output_type": "stream",
     "text": [
      "\n"
     ]
    },
    {
     "name": "stdout",
     "output_type": "stream",
     "text": [
      "Checking whether there is an H2O instance running at http://localhost:54321 "
     ]
    },
    {
     "name": "stdout",
     "output_type": "stream",
     "text": [
      "."
     ]
    },
    {
     "name": "stdout",
     "output_type": "stream",
     "text": [
      "."
     ]
    },
    {
     "name": "stdout",
     "output_type": "stream",
     "text": [
      "."
     ]
    },
    {
     "name": "stdout",
     "output_type": "stream",
     "text": [
      "."
     ]
    },
    {
     "name": "stdout",
     "output_type": "stream",
     "text": [
      "."
     ]
    },
    {
     "name": "stdout",
     "output_type": "stream",
     "text": [
      " not found."
     ]
    },
    {
     "name": "stdout",
     "output_type": "stream",
     "text": [
      "\n"
     ]
    },
    {
     "name": "stdout",
     "output_type": "stream",
     "text": [
      "Attempting to start a local H2O server..."
     ]
    },
    {
     "name": "stdout",
     "output_type": "stream",
     "text": [
      "\n"
     ]
    },
    {
     "name": "stdout",
     "output_type": "stream",
     "text": [
      "  Java Version: openjdk version \"11.0.2\" 2019-01-15; OpenJDK Runtime Environment 18.9 (build 11.0.2+9); OpenJDK 64-Bit Server VM 18.9 (build 11.0.2+9, mixed mode)"
     ]
    },
    {
     "name": "stdout",
     "output_type": "stream",
     "text": [
      "\n"
     ]
    },
    {
     "name": "stdout",
     "output_type": "stream",
     "text": [
      "  Starting server from /wrk/users/thalvari/dpEmu-AutoML/venv/lib/python3.6/site-packages/h2o/backend/bin/h2o.jar"
     ]
    },
    {
     "name": "stdout",
     "output_type": "stream",
     "text": [
      "\n"
     ]
    },
    {
     "name": "stdout",
     "output_type": "stream",
     "text": [
      "  Ice root: /wrk/users/thalvari/tmpxv6jl5zi"
     ]
    },
    {
     "name": "stdout",
     "output_type": "stream",
     "text": [
      "\n"
     ]
    },
    {
     "name": "stdout",
     "output_type": "stream",
     "text": [
      "  JVM stdout: /wrk/users/thalvari/tmpxv6jl5zi/h2o_thalvari_started_from_python.out"
     ]
    },
    {
     "name": "stdout",
     "output_type": "stream",
     "text": [
      "\n"
     ]
    },
    {
     "name": "stdout",
     "output_type": "stream",
     "text": [
      "  JVM stderr: /wrk/users/thalvari/tmpxv6jl5zi/h2o_thalvari_started_from_python.err"
     ]
    },
    {
     "name": "stdout",
     "output_type": "stream",
     "text": [
      "\n"
     ]
    },
    {
     "name": "stdout",
     "output_type": "stream",
     "text": [
      "  Server is running at http://127.0.0.1:54321"
     ]
    },
    {
     "name": "stdout",
     "output_type": "stream",
     "text": [
      "\n"
     ]
    },
    {
     "name": "stdout",
     "output_type": "stream",
     "text": [
      "Connecting to H2O server at http://127.0.0.1:54321 .."
     ]
    },
    {
     "name": "stdout",
     "output_type": "stream",
     "text": [
      "."
     ]
    },
    {
     "name": "stdout",
     "output_type": "stream",
     "text": [
      " successful."
     ]
    },
    {
     "name": "stdout",
     "output_type": "stream",
     "text": [
      "\n"
     ]
    },
    {
     "data": {
      "text/html": [
       "<div style=\"overflow:auto\"><table style=\"width:50%\"><tr><td>H2O cluster uptime:</td>\n",
       "<td>01 secs</td></tr>\n",
       "<tr><td>H2O cluster timezone:</td>\n",
       "<td>Europe/Helsinki</td></tr>\n",
       "<tr><td>H2O data parsing timezone:</td>\n",
       "<td>UTC</td></tr>\n",
       "<tr><td>H2O cluster version:</td>\n",
       "<td>3.26.0.10</td></tr>\n",
       "<tr><td>H2O cluster version age:</td>\n",
       "<td>12 days </td></tr>\n",
       "<tr><td>H2O cluster name:</td>\n",
       "<td>#1020712050</td></tr>\n",
       "<tr><td>H2O cluster total nodes:</td>\n",
       "<td>1</td></tr>\n",
       "<tr><td>H2O cluster free memory:</td>\n",
       "<td>29.97 Gb</td></tr>\n",
       "<tr><td>H2O cluster total cores:</td>\n",
       "<td>40</td></tr>\n",
       "<tr><td>H2O cluster allowed cores:</td>\n",
       "<td>20</td></tr>\n",
       "<tr><td>H2O cluster status:</td>\n",
       "<td>accepting new members, healthy</td></tr>\n",
       "<tr><td>H2O connection url:</td>\n",
       "<td>http://127.0.0.1:54321</td></tr>\n",
       "<tr><td>H2O connection proxy:</td>\n",
       "<td>{'http': None, 'https': None}</td></tr>\n",
       "<tr><td>H2O internal security:</td>\n",
       "<td>False</td></tr>\n",
       "<tr><td>H2O API Extensions:</td>\n",
       "<td>Amazon S3, XGBoost, Algos, AutoML, Core V3, TargetEncoder, Core V4</td></tr>\n",
       "<tr><td>Python version:</td>\n",
       "<td>3.6.6 final</td></tr></table></div>"
      ],
      "text/plain": [
       "--------------------------  ------------------------------------------------------------------\n",
       "H2O cluster uptime:         01 secs\n",
       "H2O cluster timezone:       Europe/Helsinki\n",
       "H2O data parsing timezone:  UTC\n",
       "H2O cluster version:        3.26.0.10\n",
       "H2O cluster version age:    12 days\n",
       "H2O cluster name:           #1020712050\n",
       "H2O cluster total nodes:    1\n",
       "H2O cluster free memory:    29.97 Gb\n",
       "H2O cluster total cores:    40\n",
       "H2O cluster allowed cores:  20\n",
       "H2O cluster status:         accepting new members, healthy\n",
       "H2O connection url:         http://127.0.0.1:54321\n",
       "H2O connection proxy:       {'http': None, 'https': None}\n",
       "H2O internal security:      False\n",
       "H2O API Extensions:         Amazon S3, XGBoost, Algos, AutoML, Core V3, TargetEncoder, Core V4\n",
       "Python version:             3.6.6 final\n",
       "--------------------------  ------------------------------------------------------------------"
      ]
     },
     "metadata": {},
     "output_type": "display_data"
    },
    {
     "name": "stdout",
     "output_type": "stream",
     "text": [
      "H2O session _sid_9297 closed."
     ]
    },
    {
     "name": "stdout",
     "output_type": "stream",
     "text": [
      "\n"
     ]
    },
    {
     "name": "stdout",
     "output_type": "stream",
     "text": [
      "<class 'h2o.automl.autoh2o.H2OAutoML'>"
     ]
    },
    {
     "name": "stdout",
     "output_type": "stream",
     "text": [
      "\n"
     ]
    },
    {
     "name": "stdout",
     "output_type": "stream",
     "text": [
      "0.84"
     ]
    },
    {
     "name": "stdout",
     "output_type": "stream",
     "text": [
      "\n"
     ]
    },
    {
     "name": "stdout",
     "output_type": "stream",
     "text": [
      "Checking whether there is an H2O instance running at http://localhost:54321 "
     ]
    },
    {
     "name": "stdout",
     "output_type": "stream",
     "text": [
      "."
     ]
    },
    {
     "name": "stdout",
     "output_type": "stream",
     "text": [
      "."
     ]
    },
    {
     "name": "stdout",
     "output_type": "stream",
     "text": [
      "."
     ]
    },
    {
     "name": "stdout",
     "output_type": "stream",
     "text": [
      "."
     ]
    },
    {
     "name": "stdout",
     "output_type": "stream",
     "text": [
      "."
     ]
    },
    {
     "name": "stdout",
     "output_type": "stream",
     "text": [
      " not found."
     ]
    },
    {
     "name": "stdout",
     "output_type": "stream",
     "text": [
      "\n"
     ]
    },
    {
     "name": "stdout",
     "output_type": "stream",
     "text": [
      "Attempting to start a local H2O server..."
     ]
    },
    {
     "name": "stdout",
     "output_type": "stream",
     "text": [
      "\n"
     ]
    },
    {
     "name": "stdout",
     "output_type": "stream",
     "text": [
      "  Java Version: openjdk version \"11.0.2\" 2019-01-15; OpenJDK Runtime Environment 18.9 (build 11.0.2+9); OpenJDK 64-Bit Server VM 18.9 (build 11.0.2+9, mixed mode)"
     ]
    },
    {
     "name": "stdout",
     "output_type": "stream",
     "text": [
      "\n"
     ]
    },
    {
     "name": "stdout",
     "output_type": "stream",
     "text": [
      "  Starting server from /wrk/users/thalvari/dpEmu-AutoML/venv/lib/python3.6/site-packages/h2o/backend/bin/h2o.jar"
     ]
    },
    {
     "name": "stdout",
     "output_type": "stream",
     "text": [
      "\n"
     ]
    },
    {
     "name": "stdout",
     "output_type": "stream",
     "text": [
      "  Ice root: /wrk/users/thalvari/tmpibxfn3lv"
     ]
    },
    {
     "name": "stdout",
     "output_type": "stream",
     "text": [
      "\n"
     ]
    },
    {
     "name": "stdout",
     "output_type": "stream",
     "text": [
      "  JVM stdout: /wrk/users/thalvari/tmpibxfn3lv/h2o_thalvari_started_from_python.out"
     ]
    },
    {
     "name": "stdout",
     "output_type": "stream",
     "text": [
      "\n"
     ]
    },
    {
     "name": "stdout",
     "output_type": "stream",
     "text": [
      "  JVM stderr: /wrk/users/thalvari/tmpibxfn3lv/h2o_thalvari_started_from_python.err"
     ]
    },
    {
     "name": "stdout",
     "output_type": "stream",
     "text": [
      "\n"
     ]
    },
    {
     "name": "stdout",
     "output_type": "stream",
     "text": [
      "  Server is running at http://127.0.0.1:54321"
     ]
    },
    {
     "name": "stdout",
     "output_type": "stream",
     "text": [
      "\n"
     ]
    },
    {
     "name": "stdout",
     "output_type": "stream",
     "text": [
      "Connecting to H2O server at http://127.0.0.1:54321 .."
     ]
    },
    {
     "name": "stdout",
     "output_type": "stream",
     "text": [
      "."
     ]
    },
    {
     "name": "stdout",
     "output_type": "stream",
     "text": [
      " successful."
     ]
    },
    {
     "name": "stdout",
     "output_type": "stream",
     "text": [
      "\n"
     ]
    },
    {
     "data": {
      "text/html": [
       "<div style=\"overflow:auto\"><table style=\"width:50%\"><tr><td>H2O cluster uptime:</td>\n",
       "<td>01 secs</td></tr>\n",
       "<tr><td>H2O cluster timezone:</td>\n",
       "<td>Europe/Helsinki</td></tr>\n",
       "<tr><td>H2O data parsing timezone:</td>\n",
       "<td>UTC</td></tr>\n",
       "<tr><td>H2O cluster version:</td>\n",
       "<td>3.26.0.10</td></tr>\n",
       "<tr><td>H2O cluster version age:</td>\n",
       "<td>12 days </td></tr>\n",
       "<tr><td>H2O cluster name:</td>\n",
       "<td>#761408563</td></tr>\n",
       "<tr><td>H2O cluster total nodes:</td>\n",
       "<td>1</td></tr>\n",
       "<tr><td>H2O cluster free memory:</td>\n",
       "<td>29.97 Gb</td></tr>\n",
       "<tr><td>H2O cluster total cores:</td>\n",
       "<td>40</td></tr>\n",
       "<tr><td>H2O cluster allowed cores:</td>\n",
       "<td>20</td></tr>\n",
       "<tr><td>H2O cluster status:</td>\n",
       "<td>accepting new members, healthy</td></tr>\n",
       "<tr><td>H2O connection url:</td>\n",
       "<td>http://127.0.0.1:54321</td></tr>\n",
       "<tr><td>H2O connection proxy:</td>\n",
       "<td>{'http': None, 'https': None}</td></tr>\n",
       "<tr><td>H2O internal security:</td>\n",
       "<td>False</td></tr>\n",
       "<tr><td>H2O API Extensions:</td>\n",
       "<td>Amazon S3, XGBoost, Algos, AutoML, Core V3, TargetEncoder, Core V4</td></tr>\n",
       "<tr><td>Python version:</td>\n",
       "<td>3.6.6 final</td></tr></table></div>"
      ],
      "text/plain": [
       "--------------------------  ------------------------------------------------------------------\n",
       "H2O cluster uptime:         01 secs\n",
       "H2O cluster timezone:       Europe/Helsinki\n",
       "H2O data parsing timezone:  UTC\n",
       "H2O cluster version:        3.26.0.10\n",
       "H2O cluster version age:    12 days\n",
       "H2O cluster name:           #761408563\n",
       "H2O cluster total nodes:    1\n",
       "H2O cluster free memory:    29.97 Gb\n",
       "H2O cluster total cores:    40\n",
       "H2O cluster allowed cores:  20\n",
       "H2O cluster status:         accepting new members, healthy\n",
       "H2O connection url:         http://127.0.0.1:54321\n",
       "H2O connection proxy:       {'http': None, 'https': None}\n",
       "H2O internal security:      False\n",
       "H2O API Extensions:         Amazon S3, XGBoost, Algos, AutoML, Core V3, TargetEncoder, Core V4\n",
       "Python version:             3.6.6 final\n",
       "--------------------------  ------------------------------------------------------------------"
      ]
     },
     "metadata": {},
     "output_type": "display_data"
    },
    {
     "name": "stdout",
     "output_type": "stream",
     "text": [
      "H2O session _sid_b33c closed."
     ]
    },
    {
     "name": "stdout",
     "output_type": "stream",
     "text": [
      "\n"
     ]
    },
    {
     "name": "stdout",
     "output_type": "stream",
     "text": [
      "<class 'h2o.automl.autoh2o.H2OAutoML'>"
     ]
    },
    {
     "name": "stdout",
     "output_type": "stream",
     "text": [
      "\n"
     ]
    },
    {
     "name": "stdout",
     "output_type": "stream",
     "text": [
      "0.28"
     ]
    },
    {
     "name": "stdout",
     "output_type": "stream",
     "text": [
      "\n"
     ]
    },
    {
     "name": "stderr",
     "output_type": "stream",
     "text": [
      "\r",
      " 83%|████████▎ | 5/6 [8:03:31<1:36:13, 5773.65s/it]"
     ]
    },
    {
     "name": "stderr",
     "output_type": "stream",
     "text": [
      "WARNING:root:TimeoutError occurred at train() : "
     ]
    },
    {
     "name": "stderr",
     "output_type": "stream",
     "text": [
      "\n"
     ]
    },
    {
     "name": "stdout",
     "output_type": "stream",
     "text": [
      "<class 'autokeras.image.image_supervised.ImageClassifier'>"
     ]
    },
    {
     "name": "stdout",
     "output_type": "stream",
     "text": [
      "\n"
     ]
    },
    {
     "name": "stdout",
     "output_type": "stream",
     "text": [
      "0.72"
     ]
    },
    {
     "name": "stdout",
     "output_type": "stream",
     "text": [
      "\n"
     ]
    },
    {
     "name": "stderr",
     "output_type": "stream",
     "text": [
      "WARNING:root:TimeoutError occurred at train() : "
     ]
    },
    {
     "name": "stderr",
     "output_type": "stream",
     "text": [
      "\n"
     ]
    },
    {
     "name": "stdout",
     "output_type": "stream",
     "text": [
      "<class 'autokeras.image.image_supervised.ImageClassifier'>"
     ]
    },
    {
     "name": "stdout",
     "output_type": "stream",
     "text": [
      "\n"
     ]
    },
    {
     "name": "stdout",
     "output_type": "stream",
     "text": [
      "0.28"
     ]
    },
    {
     "name": "stdout",
     "output_type": "stream",
     "text": [
      "\n"
     ]
    },
    {
     "name": "stdout",
     "output_type": "stream",
     "text": [
      "\n"
     ]
    },
    {
     "name": "stdout",
     "output_type": "stream",
     "text": [
      "17.10 minutes have elapsed. TPOT will close down.\n",
      "TPOT closed during evaluation in one generation.\n",
      "WARNING: TPOT may not provide a good pipeline if TPOT is stopped/interrupted in a early generation."
     ]
    },
    {
     "name": "stdout",
     "output_type": "stream",
     "text": [
      "\n"
     ]
    },
    {
     "name": "stdout",
     "output_type": "stream",
     "text": [
      "\n"
     ]
    },
    {
     "name": "stdout",
     "output_type": "stream",
     "text": [
      "\n",
      "TPOT closed prematurely. Will use the current best pipeline."
     ]
    },
    {
     "name": "stdout",
     "output_type": "stream",
     "text": [
      "\n"
     ]
    },
    {
     "name": "stdout",
     "output_type": "stream",
     "text": [
      "Best pipeline:"
     ]
    },
    {
     "name": "stdout",
     "output_type": "stream",
     "text": [
      " "
     ]
    },
    {
     "name": "stdout",
     "output_type": "stream",
     "text": [
      "LogisticRegression(PolynomialFeatures(input_matrix, degree=2, include_bias=False, interaction_only=False), C=0.001, dual=True, penalty=l2)"
     ]
    },
    {
     "name": "stdout",
     "output_type": "stream",
     "text": [
      "\n"
     ]
    },
    {
     "name": "stdout",
     "output_type": "stream",
     "text": [
      "<class 'tpot.tpot.TPOTClassifier'>"
     ]
    },
    {
     "name": "stdout",
     "output_type": "stream",
     "text": [
      "\n"
     ]
    },
    {
     "name": "stdout",
     "output_type": "stream",
     "text": [
      "0.802"
     ]
    },
    {
     "name": "stdout",
     "output_type": "stream",
     "text": [
      "\n"
     ]
    },
    {
     "name": "stdout",
     "output_type": "stream",
     "text": [
      "\n"
     ]
    },
    {
     "name": "stdout",
     "output_type": "stream",
     "text": [
      "15.33 minutes have elapsed. TPOT will close down.\n",
      "TPOT closed during evaluation in one generation.\n",
      "WARNING: TPOT may not provide a good pipeline if TPOT is stopped/interrupted in a early generation."
     ]
    },
    {
     "name": "stdout",
     "output_type": "stream",
     "text": [
      "\n"
     ]
    },
    {
     "name": "stdout",
     "output_type": "stream",
     "text": [
      "\n"
     ]
    },
    {
     "name": "stdout",
     "output_type": "stream",
     "text": [
      "\n",
      "TPOT closed prematurely. Will use the current best pipeline."
     ]
    },
    {
     "name": "stdout",
     "output_type": "stream",
     "text": [
      "\n"
     ]
    },
    {
     "name": "stdout",
     "output_type": "stream",
     "text": [
      "Best pipeline:"
     ]
    },
    {
     "name": "stdout",
     "output_type": "stream",
     "text": [
      " "
     ]
    },
    {
     "name": "stdout",
     "output_type": "stream",
     "text": [
      "KNeighborsClassifier(LogisticRegression(input_matrix, C=0.5, dual=False, penalty=l1), n_neighbors=12, p=2, weights=distance)"
     ]
    },
    {
     "name": "stdout",
     "output_type": "stream",
     "text": [
      "\n"
     ]
    },
    {
     "name": "stdout",
     "output_type": "stream",
     "text": [
      "<class 'tpot.tpot.TPOTClassifier'>"
     ]
    },
    {
     "name": "stdout",
     "output_type": "stream",
     "text": [
      "\n"
     ]
    },
    {
     "name": "stdout",
     "output_type": "stream",
     "text": [
      "0.342"
     ]
    },
    {
     "name": "stdout",
     "output_type": "stream",
     "text": [
      "\n"
     ]
    },
    {
     "name": "stdout",
     "output_type": "stream",
     "text": [
      "Checking whether there is an H2O instance running at http://localhost:54321 "
     ]
    },
    {
     "name": "stdout",
     "output_type": "stream",
     "text": [
      "."
     ]
    },
    {
     "name": "stdout",
     "output_type": "stream",
     "text": [
      "."
     ]
    },
    {
     "name": "stdout",
     "output_type": "stream",
     "text": [
      "."
     ]
    },
    {
     "name": "stdout",
     "output_type": "stream",
     "text": [
      "."
     ]
    },
    {
     "name": "stdout",
     "output_type": "stream",
     "text": [
      "."
     ]
    },
    {
     "name": "stdout",
     "output_type": "stream",
     "text": [
      " not found."
     ]
    },
    {
     "name": "stdout",
     "output_type": "stream",
     "text": [
      "\n"
     ]
    },
    {
     "name": "stdout",
     "output_type": "stream",
     "text": [
      "Attempting to start a local H2O server..."
     ]
    },
    {
     "name": "stdout",
     "output_type": "stream",
     "text": [
      "\n"
     ]
    },
    {
     "name": "stdout",
     "output_type": "stream",
     "text": [
      "  Java Version: openjdk version \"11.0.2\" 2019-01-15; OpenJDK Runtime Environment 18.9 (build 11.0.2+9); OpenJDK 64-Bit Server VM 18.9 (build 11.0.2+9, mixed mode)"
     ]
    },
    {
     "name": "stdout",
     "output_type": "stream",
     "text": [
      "\n"
     ]
    },
    {
     "name": "stdout",
     "output_type": "stream",
     "text": [
      "  Starting server from /wrk/users/thalvari/dpEmu-AutoML/venv/lib/python3.6/site-packages/h2o/backend/bin/h2o.jar"
     ]
    },
    {
     "name": "stdout",
     "output_type": "stream",
     "text": [
      "\n"
     ]
    },
    {
     "name": "stdout",
     "output_type": "stream",
     "text": [
      "  Ice root: /wrk/users/thalvari/tmp7k7bfcb0"
     ]
    },
    {
     "name": "stdout",
     "output_type": "stream",
     "text": [
      "\n"
     ]
    },
    {
     "name": "stdout",
     "output_type": "stream",
     "text": [
      "  JVM stdout: /wrk/users/thalvari/tmp7k7bfcb0/h2o_thalvari_started_from_python.out"
     ]
    },
    {
     "name": "stdout",
     "output_type": "stream",
     "text": [
      "\n"
     ]
    },
    {
     "name": "stdout",
     "output_type": "stream",
     "text": [
      "  JVM stderr: /wrk/users/thalvari/tmp7k7bfcb0/h2o_thalvari_started_from_python.err"
     ]
    },
    {
     "name": "stdout",
     "output_type": "stream",
     "text": [
      "\n"
     ]
    },
    {
     "name": "stdout",
     "output_type": "stream",
     "text": [
      "  Server is running at http://127.0.0.1:54321"
     ]
    },
    {
     "name": "stdout",
     "output_type": "stream",
     "text": [
      "\n"
     ]
    },
    {
     "name": "stdout",
     "output_type": "stream",
     "text": [
      "Connecting to H2O server at http://127.0.0.1:54321 .."
     ]
    },
    {
     "name": "stdout",
     "output_type": "stream",
     "text": [
      "."
     ]
    },
    {
     "name": "stdout",
     "output_type": "stream",
     "text": [
      " successful."
     ]
    },
    {
     "name": "stdout",
     "output_type": "stream",
     "text": [
      "\n"
     ]
    },
    {
     "data": {
      "text/html": [
       "<div style=\"overflow:auto\"><table style=\"width:50%\"><tr><td>H2O cluster uptime:</td>\n",
       "<td>01 secs</td></tr>\n",
       "<tr><td>H2O cluster timezone:</td>\n",
       "<td>Europe/Helsinki</td></tr>\n",
       "<tr><td>H2O data parsing timezone:</td>\n",
       "<td>UTC</td></tr>\n",
       "<tr><td>H2O cluster version:</td>\n",
       "<td>3.26.0.10</td></tr>\n",
       "<tr><td>H2O cluster version age:</td>\n",
       "<td>12 days </td></tr>\n",
       "<tr><td>H2O cluster name:</td>\n",
       "<td>#13025913</td></tr>\n",
       "<tr><td>H2O cluster total nodes:</td>\n",
       "<td>1</td></tr>\n",
       "<tr><td>H2O cluster free memory:</td>\n",
       "<td>29.97 Gb</td></tr>\n",
       "<tr><td>H2O cluster total cores:</td>\n",
       "<td>40</td></tr>\n",
       "<tr><td>H2O cluster allowed cores:</td>\n",
       "<td>20</td></tr>\n",
       "<tr><td>H2O cluster status:</td>\n",
       "<td>accepting new members, healthy</td></tr>\n",
       "<tr><td>H2O connection url:</td>\n",
       "<td>http://127.0.0.1:54321</td></tr>\n",
       "<tr><td>H2O connection proxy:</td>\n",
       "<td>{'http': None, 'https': None}</td></tr>\n",
       "<tr><td>H2O internal security:</td>\n",
       "<td>False</td></tr>\n",
       "<tr><td>H2O API Extensions:</td>\n",
       "<td>Amazon S3, XGBoost, Algos, AutoML, Core V3, TargetEncoder, Core V4</td></tr>\n",
       "<tr><td>Python version:</td>\n",
       "<td>3.6.6 final</td></tr></table></div>"
      ],
      "text/plain": [
       "--------------------------  ------------------------------------------------------------------\n",
       "H2O cluster uptime:         01 secs\n",
       "H2O cluster timezone:       Europe/Helsinki\n",
       "H2O data parsing timezone:  UTC\n",
       "H2O cluster version:        3.26.0.10\n",
       "H2O cluster version age:    12 days\n",
       "H2O cluster name:           #13025913\n",
       "H2O cluster total nodes:    1\n",
       "H2O cluster free memory:    29.97 Gb\n",
       "H2O cluster total cores:    40\n",
       "H2O cluster allowed cores:  20\n",
       "H2O cluster status:         accepting new members, healthy\n",
       "H2O connection url:         http://127.0.0.1:54321\n",
       "H2O connection proxy:       {'http': None, 'https': None}\n",
       "H2O internal security:      False\n",
       "H2O API Extensions:         Amazon S3, XGBoost, Algos, AutoML, Core V3, TargetEncoder, Core V4\n",
       "Python version:             3.6.6 final\n",
       "--------------------------  ------------------------------------------------------------------"
      ]
     },
     "metadata": {},
     "output_type": "display_data"
    },
    {
     "name": "stdout",
     "output_type": "stream",
     "text": [
      "H2O session _sid_b3ac closed."
     ]
    },
    {
     "name": "stdout",
     "output_type": "stream",
     "text": [
      "\n"
     ]
    },
    {
     "name": "stdout",
     "output_type": "stream",
     "text": [
      "<class 'h2o.automl.autoh2o.H2OAutoML'>"
     ]
    },
    {
     "name": "stdout",
     "output_type": "stream",
     "text": [
      "\n"
     ]
    },
    {
     "name": "stdout",
     "output_type": "stream",
     "text": [
      "0.844"
     ]
    },
    {
     "name": "stdout",
     "output_type": "stream",
     "text": [
      "\n"
     ]
    },
    {
     "name": "stdout",
     "output_type": "stream",
     "text": [
      "Checking whether there is an H2O instance running at http://localhost:54321 "
     ]
    },
    {
     "name": "stdout",
     "output_type": "stream",
     "text": [
      "."
     ]
    },
    {
     "name": "stdout",
     "output_type": "stream",
     "text": [
      "."
     ]
    },
    {
     "name": "stdout",
     "output_type": "stream",
     "text": [
      "."
     ]
    },
    {
     "name": "stdout",
     "output_type": "stream",
     "text": [
      "."
     ]
    },
    {
     "name": "stdout",
     "output_type": "stream",
     "text": [
      "."
     ]
    },
    {
     "name": "stdout",
     "output_type": "stream",
     "text": [
      " not found."
     ]
    },
    {
     "name": "stdout",
     "output_type": "stream",
     "text": [
      "\n"
     ]
    },
    {
     "name": "stdout",
     "output_type": "stream",
     "text": [
      "Attempting to start a local H2O server..."
     ]
    },
    {
     "name": "stdout",
     "output_type": "stream",
     "text": [
      "\n"
     ]
    },
    {
     "name": "stdout",
     "output_type": "stream",
     "text": [
      "  Java Version: openjdk version \"11.0.2\" 2019-01-15; OpenJDK Runtime Environment 18.9 (build 11.0.2+9); OpenJDK 64-Bit Server VM 18.9 (build 11.0.2+9, mixed mode)"
     ]
    },
    {
     "name": "stdout",
     "output_type": "stream",
     "text": [
      "\n"
     ]
    },
    {
     "name": "stdout",
     "output_type": "stream",
     "text": [
      "  Starting server from /wrk/users/thalvari/dpEmu-AutoML/venv/lib/python3.6/site-packages/h2o/backend/bin/h2o.jar"
     ]
    },
    {
     "name": "stdout",
     "output_type": "stream",
     "text": [
      "\n"
     ]
    },
    {
     "name": "stdout",
     "output_type": "stream",
     "text": [
      "  Ice root: /wrk/users/thalvari/tmpjbirwgx9"
     ]
    },
    {
     "name": "stdout",
     "output_type": "stream",
     "text": [
      "\n"
     ]
    },
    {
     "name": "stdout",
     "output_type": "stream",
     "text": [
      "  JVM stdout: /wrk/users/thalvari/tmpjbirwgx9/h2o_thalvari_started_from_python.out"
     ]
    },
    {
     "name": "stdout",
     "output_type": "stream",
     "text": [
      "\n"
     ]
    },
    {
     "name": "stdout",
     "output_type": "stream",
     "text": [
      "  JVM stderr: /wrk/users/thalvari/tmpjbirwgx9/h2o_thalvari_started_from_python.err"
     ]
    },
    {
     "name": "stdout",
     "output_type": "stream",
     "text": [
      "\n"
     ]
    },
    {
     "name": "stdout",
     "output_type": "stream",
     "text": [
      "  Server is running at http://127.0.0.1:54321"
     ]
    },
    {
     "name": "stdout",
     "output_type": "stream",
     "text": [
      "\n"
     ]
    },
    {
     "name": "stdout",
     "output_type": "stream",
     "text": [
      "Connecting to H2O server at http://127.0.0.1:54321 .."
     ]
    },
    {
     "name": "stdout",
     "output_type": "stream",
     "text": [
      "."
     ]
    },
    {
     "name": "stdout",
     "output_type": "stream",
     "text": [
      " successful."
     ]
    },
    {
     "name": "stdout",
     "output_type": "stream",
     "text": [
      "\n"
     ]
    },
    {
     "data": {
      "text/html": [
       "<div style=\"overflow:auto\"><table style=\"width:50%\"><tr><td>H2O cluster uptime:</td>\n",
       "<td>01 secs</td></tr>\n",
       "<tr><td>H2O cluster timezone:</td>\n",
       "<td>Europe/Helsinki</td></tr>\n",
       "<tr><td>H2O data parsing timezone:</td>\n",
       "<td>UTC</td></tr>\n",
       "<tr><td>H2O cluster version:</td>\n",
       "<td>3.26.0.10</td></tr>\n",
       "<tr><td>H2O cluster version age:</td>\n",
       "<td>12 days </td></tr>\n",
       "<tr><td>H2O cluster name:</td>\n",
       "<td>#821344978</td></tr>\n",
       "<tr><td>H2O cluster total nodes:</td>\n",
       "<td>1</td></tr>\n",
       "<tr><td>H2O cluster free memory:</td>\n",
       "<td>29.97 Gb</td></tr>\n",
       "<tr><td>H2O cluster total cores:</td>\n",
       "<td>40</td></tr>\n",
       "<tr><td>H2O cluster allowed cores:</td>\n",
       "<td>20</td></tr>\n",
       "<tr><td>H2O cluster status:</td>\n",
       "<td>accepting new members, healthy</td></tr>\n",
       "<tr><td>H2O connection url:</td>\n",
       "<td>http://127.0.0.1:54321</td></tr>\n",
       "<tr><td>H2O connection proxy:</td>\n",
       "<td>{'http': None, 'https': None}</td></tr>\n",
       "<tr><td>H2O internal security:</td>\n",
       "<td>False</td></tr>\n",
       "<tr><td>H2O API Extensions:</td>\n",
       "<td>Amazon S3, XGBoost, Algos, AutoML, Core V3, TargetEncoder, Core V4</td></tr>\n",
       "<tr><td>Python version:</td>\n",
       "<td>3.6.6 final</td></tr></table></div>"
      ],
      "text/plain": [
       "--------------------------  ------------------------------------------------------------------\n",
       "H2O cluster uptime:         01 secs\n",
       "H2O cluster timezone:       Europe/Helsinki\n",
       "H2O data parsing timezone:  UTC\n",
       "H2O cluster version:        3.26.0.10\n",
       "H2O cluster version age:    12 days\n",
       "H2O cluster name:           #821344978\n",
       "H2O cluster total nodes:    1\n",
       "H2O cluster free memory:    29.97 Gb\n",
       "H2O cluster total cores:    40\n",
       "H2O cluster allowed cores:  20\n",
       "H2O cluster status:         accepting new members, healthy\n",
       "H2O connection url:         http://127.0.0.1:54321\n",
       "H2O connection proxy:       {'http': None, 'https': None}\n",
       "H2O internal security:      False\n",
       "H2O API Extensions:         Amazon S3, XGBoost, Algos, AutoML, Core V3, TargetEncoder, Core V4\n",
       "Python version:             3.6.6 final\n",
       "--------------------------  ------------------------------------------------------------------"
      ]
     },
     "metadata": {},
     "output_type": "display_data"
    },
    {
     "name": "stdout",
     "output_type": "stream",
     "text": [
      "H2O session _sid_ad50 closed."
     ]
    },
    {
     "name": "stdout",
     "output_type": "stream",
     "text": [
      "\n"
     ]
    },
    {
     "name": "stdout",
     "output_type": "stream",
     "text": [
      "<class 'h2o.automl.autoh2o.H2OAutoML'>"
     ]
    },
    {
     "name": "stdout",
     "output_type": "stream",
     "text": [
      "\n"
     ]
    },
    {
     "name": "stdout",
     "output_type": "stream",
     "text": [
      "0.257"
     ]
    },
    {
     "name": "stdout",
     "output_type": "stream",
     "text": [
      "\n"
     ]
    },
    {
     "name": "stderr",
     "output_type": "stream",
     "text": [
      "\r",
      "100%|██████████| 6/6 [9:38:01<00:00, 5742.40s/it]  "
     ]
    },
    {
     "name": "stderr",
     "output_type": "stream",
     "text": [
      "\r",
      "100%|██████████| 6/6 [9:38:01<00:00, 5780.22s/it]"
     ]
    },
    {
     "name": "stderr",
     "output_type": "stream",
     "text": [
      "\n"
     ]
    }
   ],
   "source": [
    "train_data, test_data, train_labels, test_labels = get_data()\n",
    "\n",
    "df = runner.run(\n",
    "    train_data=train_data,\n",
    "    test_data=test_data,\n",
    "    preproc=Preprocessor,\n",
    "    preproc_params=None,\n",
    "    err_root_node=get_err_root_node(),\n",
    "    err_params_list=get_err_params_list(train_data),\n",
    "    model_params_dict_list=get_model_params_dict_list(train_labels, test_labels),\n",
    "    n_processes=1\n",
    ")"
   ]
  },
  {
   "cell_type": "code",
   "execution_count": 11,
   "metadata": {
    "collapsed": false,
    "papermill": {
     "duration": 1.865665,
     "end_time": "2019-11-19T22:18:38.488086",
     "exception": false,
     "start_time": "2019-11-19T22:18:36.622421",
     "status": "completed"
    },
    "pycharm": {
     "name": "#%%\n"
    },
    "tags": []
   },
   "outputs": [
    {
     "data": {
      "text/plain": [
       "'AutoKeras #1'"
      ]
     },
     "metadata": {},
     "output_type": "display_data"
    },
    {
     "data": {
      "text/html": [
       "<style  type=\"text/css\" >\n",
       "</style><table id=\"T_8838f844_0b1a_11ea_a4b9_80000208fe80\" ><thead>    <tr>        <th class=\"col_heading level0 col0\" >max_angle</th>        <th class=\"col_heading level0 col1\" >test_acc</th>        <th class=\"col_heading level0 col2\" >train_acc</th>        <th class=\"col_heading level0 col3\" >time_err</th>        <th class=\"col_heading level0 col4\" >time_pre</th>        <th class=\"col_heading level0 col5\" >time_mod</th>    </tr></thead><tbody>\n",
       "                <tr>\n",
       "                                <td id=\"T_8838f844_0b1a_11ea_a4b9_80000208fe80row0_col0\" class=\"data row0 col0\" >0</td>\n",
       "                        <td id=\"T_8838f844_0b1a_11ea_a4b9_80000208fe80row0_col1\" class=\"data row0 col1\" >0.988</td>\n",
       "                        <td id=\"T_8838f844_0b1a_11ea_a4b9_80000208fe80row0_col2\" class=\"data row0 col2\" >0.999</td>\n",
       "                        <td id=\"T_8838f844_0b1a_11ea_a4b9_80000208fe80row0_col3\" class=\"data row0 col3\" >0.191</td>\n",
       "                        <td id=\"T_8838f844_0b1a_11ea_a4b9_80000208fe80row0_col4\" class=\"data row0 col4\" >0.001</td>\n",
       "                        <td id=\"T_8838f844_0b1a_11ea_a4b9_80000208fe80row0_col5\" class=\"data row0 col5\" >903.505</td>\n",
       "            </tr>\n",
       "            <tr>\n",
       "                                <td id=\"T_8838f844_0b1a_11ea_a4b9_80000208fe80row1_col0\" class=\"data row1 col0\" >36</td>\n",
       "                        <td id=\"T_8838f844_0b1a_11ea_a4b9_80000208fe80row1_col1\" class=\"data row1 col1\" >0.899</td>\n",
       "                        <td id=\"T_8838f844_0b1a_11ea_a4b9_80000208fe80row1_col2\" class=\"data row1 col2\" >0.992</td>\n",
       "                        <td id=\"T_8838f844_0b1a_11ea_a4b9_80000208fe80row1_col3\" class=\"data row1 col3\" >0.217</td>\n",
       "                        <td id=\"T_8838f844_0b1a_11ea_a4b9_80000208fe80row1_col4\" class=\"data row1 col4\" >0.002</td>\n",
       "                        <td id=\"T_8838f844_0b1a_11ea_a4b9_80000208fe80row1_col5\" class=\"data row1 col5\" >904.79</td>\n",
       "            </tr>\n",
       "            <tr>\n",
       "                                <td id=\"T_8838f844_0b1a_11ea_a4b9_80000208fe80row2_col0\" class=\"data row2 col0\" >72</td>\n",
       "                        <td id=\"T_8838f844_0b1a_11ea_a4b9_80000208fe80row2_col1\" class=\"data row2 col1\" >0.883</td>\n",
       "                        <td id=\"T_8838f844_0b1a_11ea_a4b9_80000208fe80row2_col2\" class=\"data row2 col2\" >0.989</td>\n",
       "                        <td id=\"T_8838f844_0b1a_11ea_a4b9_80000208fe80row2_col3\" class=\"data row2 col3\" >0.206</td>\n",
       "                        <td id=\"T_8838f844_0b1a_11ea_a4b9_80000208fe80row2_col4\" class=\"data row2 col4\" >0.001</td>\n",
       "                        <td id=\"T_8838f844_0b1a_11ea_a4b9_80000208fe80row2_col5\" class=\"data row2 col5\" >910.706</td>\n",
       "            </tr>\n",
       "            <tr>\n",
       "                                <td id=\"T_8838f844_0b1a_11ea_a4b9_80000208fe80row3_col0\" class=\"data row3 col0\" >108</td>\n",
       "                        <td id=\"T_8838f844_0b1a_11ea_a4b9_80000208fe80row3_col1\" class=\"data row3 col1\" >0.786</td>\n",
       "                        <td id=\"T_8838f844_0b1a_11ea_a4b9_80000208fe80row3_col2\" class=\"data row3 col2\" >0.984</td>\n",
       "                        <td id=\"T_8838f844_0b1a_11ea_a4b9_80000208fe80row3_col3\" class=\"data row3 col3\" >0.213</td>\n",
       "                        <td id=\"T_8838f844_0b1a_11ea_a4b9_80000208fe80row3_col4\" class=\"data row3 col4\" >0.001</td>\n",
       "                        <td id=\"T_8838f844_0b1a_11ea_a4b9_80000208fe80row3_col5\" class=\"data row3 col5\" >919.599</td>\n",
       "            </tr>\n",
       "            <tr>\n",
       "                                <td id=\"T_8838f844_0b1a_11ea_a4b9_80000208fe80row4_col0\" class=\"data row4 col0\" >144</td>\n",
       "                        <td id=\"T_8838f844_0b1a_11ea_a4b9_80000208fe80row4_col1\" class=\"data row4 col1\" >0.763</td>\n",
       "                        <td id=\"T_8838f844_0b1a_11ea_a4b9_80000208fe80row4_col2\" class=\"data row4 col2\" >0.971</td>\n",
       "                        <td id=\"T_8838f844_0b1a_11ea_a4b9_80000208fe80row4_col3\" class=\"data row4 col3\" >0.225</td>\n",
       "                        <td id=\"T_8838f844_0b1a_11ea_a4b9_80000208fe80row4_col4\" class=\"data row4 col4\" >0.001</td>\n",
       "                        <td id=\"T_8838f844_0b1a_11ea_a4b9_80000208fe80row4_col5\" class=\"data row4 col5\" >910.781</td>\n",
       "            </tr>\n",
       "            <tr>\n",
       "                                <td id=\"T_8838f844_0b1a_11ea_a4b9_80000208fe80row5_col0\" class=\"data row5 col0\" >180</td>\n",
       "                        <td id=\"T_8838f844_0b1a_11ea_a4b9_80000208fe80row5_col1\" class=\"data row5 col1\" >0.72</td>\n",
       "                        <td id=\"T_8838f844_0b1a_11ea_a4b9_80000208fe80row5_col2\" class=\"data row5 col2\" >0.948</td>\n",
       "                        <td id=\"T_8838f844_0b1a_11ea_a4b9_80000208fe80row5_col3\" class=\"data row5 col3\" >0.213</td>\n",
       "                        <td id=\"T_8838f844_0b1a_11ea_a4b9_80000208fe80row5_col4\" class=\"data row5 col4\" >0.001</td>\n",
       "                        <td id=\"T_8838f844_0b1a_11ea_a4b9_80000208fe80row5_col5\" class=\"data row5 col5\" >919.802</td>\n",
       "            </tr>\n",
       "    </tbody></table>"
      ],
      "text/plain": [
       "<pandas.io.formats.style.Styler at 0x2aca218ba2e8>"
      ]
     },
     "metadata": {},
     "output_type": "display_data"
    },
    {
     "data": {
      "text/html": [
       "<style  type=\"text/css\" >\n",
       "</style><table id=\"T_883e80f2_0b1a_11ea_a4b9_80000208fe80\" ><thead>    <tr>        <th class=\"col_heading level0 col0\" >max_angle</th>        <th class=\"col_heading level0 col1\" >pipe_0</th>        <th class=\"col_heading level0 col2\" >pipe_1</th>        <th class=\"col_heading level0 col3\" >pipe_2</th>        <th class=\"col_heading level0 col4\" >pipe_3</th>        <th class=\"col_heading level0 col5\" >pipe_4</th>        <th class=\"col_heading level0 col6\" >pipe_5</th>        <th class=\"col_heading level0 col7\" >pipe_6</th>        <th class=\"col_heading level0 col8\" >pipe_7</th>        <th class=\"col_heading level0 col9\" >pipe_8</th>        <th class=\"col_heading level0 col10\" >pipe_9</th>        <th class=\"col_heading level0 col11\" >pipe_10</th>        <th class=\"col_heading level0 col12\" >pipe_11</th>        <th class=\"col_heading level0 col13\" >pipe_12</th>        <th class=\"col_heading level0 col14\" >pipe_13</th>        <th class=\"col_heading level0 col15\" >pipe_14</th>        <th class=\"col_heading level0 col16\" >pipe_15</th>        <th class=\"col_heading level0 col17\" >pipe_16</th>        <th class=\"col_heading level0 col18\" >pipe_17</th>        <th class=\"col_heading level0 col19\" >pipe_18</th>        <th class=\"col_heading level0 col20\" >pipe_19</th>        <th class=\"col_heading level0 col21\" >pipe_20</th>        <th class=\"col_heading level0 col22\" >pipe_21</th>        <th class=\"col_heading level0 col23\" >pipe_22</th>        <th class=\"col_heading level0 col24\" >pipe_23</th>        <th class=\"col_heading level0 col25\" >pipe_24</th>        <th class=\"col_heading level0 col26\" >pipe_25</th>        <th class=\"col_heading level0 col27\" >pipe_26</th>        <th class=\"col_heading level0 col28\" >pipe_27</th>        <th class=\"col_heading level0 col29\" >pipe_28</th>        <th class=\"col_heading level0 col30\" >pipe_29</th>        <th class=\"col_heading level0 col31\" >pipe_30</th>        <th class=\"col_heading level0 col32\" >pipe_31</th>        <th class=\"col_heading level0 col33\" >pipe_32</th>        <th class=\"col_heading level0 col34\" >pipe_33</th>        <th class=\"col_heading level0 col35\" >pipe_34</th>        <th class=\"col_heading level0 col36\" >pipe_35</th>        <th class=\"col_heading level0 col37\" >pipe_36</th>        <th class=\"col_heading level0 col38\" >pipe_37</th>        <th class=\"col_heading level0 col39\" >pipe_38</th>        <th class=\"col_heading level0 col40\" >pipe_39</th>        <th class=\"col_heading level0 col41\" >pipe_40</th>        <th class=\"col_heading level0 col42\" >pipe_41</th>        <th class=\"col_heading level0 col43\" >pipe_42</th>        <th class=\"col_heading level0 col44\" >pipe_43</th>        <th class=\"col_heading level0 col45\" >pipe_44</th>        <th class=\"col_heading level0 col46\" >pipe_45</th>        <th class=\"col_heading level0 col47\" >pipe_46</th>        <th class=\"col_heading level0 col48\" >pipe_47</th>        <th class=\"col_heading level0 col49\" >pipe_48</th>        <th class=\"col_heading level0 col50\" >pipe_49</th>        <th class=\"col_heading level0 col51\" >pipe_50</th>        <th class=\"col_heading level0 col52\" >pipe_51</th>        <th class=\"col_heading level0 col53\" >pipe_52</th>        <th class=\"col_heading level0 col54\" >pipe_53</th>        <th class=\"col_heading level0 col55\" >pipe_54</th>        <th class=\"col_heading level0 col56\" >pipe_55</th>        <th class=\"col_heading level0 col57\" >pipe_56</th>        <th class=\"col_heading level0 col58\" >pipe_57</th>        <th class=\"col_heading level0 col59\" >pipe_58</th>        <th class=\"col_heading level0 col60\" >pipe_59</th>        <th class=\"col_heading level0 col61\" >pipe_60</th>        <th class=\"col_heading level0 col62\" >pipe_61</th>        <th class=\"col_heading level0 col63\" >pipe_62</th>        <th class=\"col_heading level0 col64\" >pipe_63</th>        <th class=\"col_heading level0 col65\" >pipe_64</th>        <th class=\"col_heading level0 col66\" >pipe_65</th>        <th class=\"col_heading level0 col67\" >pipe_66</th>        <th class=\"col_heading level0 col68\" >pipe_67</th>        <th class=\"col_heading level0 col69\" >pipe_68</th>        <th class=\"col_heading level0 col70\" >pipe_69</th>        <th class=\"col_heading level0 col71\" >pipe_70</th>        <th class=\"col_heading level0 col72\" >pipe_71</th>        <th class=\"col_heading level0 col73\" >pipe_72</th>        <th class=\"col_heading level0 col74\" >pipe_73</th>        <th class=\"col_heading level0 col75\" >pipe_74</th>        <th class=\"col_heading level0 col76\" >pipe_75</th>    </tr></thead><tbody>\n",
       "                <tr>\n",
       "                                <td id=\"T_883e80f2_0b1a_11ea_a4b9_80000208fe80row0_col0\" class=\"data row0 col0\" >0</td>\n",
       "                        <td id=\"T_883e80f2_0b1a_11ea_a4b9_80000208fe80row0_col1\" class=\"data row0 col1\" >Conv2d(1, 64, kernel_size=(3, 3), stride=(1, 1), padding=(1, 1))</td>\n",
       "                        <td id=\"T_883e80f2_0b1a_11ea_a4b9_80000208fe80row0_col2\" class=\"data row0 col2\" >BatchNorm2d(64, eps=1e-05, momentum=0.1, affine=True, track_running_stats=True)</td>\n",
       "                        <td id=\"T_883e80f2_0b1a_11ea_a4b9_80000208fe80row0_col3\" class=\"data row0 col3\" >BatchNorm2d(64, eps=1e-05, momentum=0.1, affine=True, track_running_stats=True)</td>\n",
       "                        <td id=\"T_883e80f2_0b1a_11ea_a4b9_80000208fe80row0_col4\" class=\"data row0 col4\" >ReLU()</td>\n",
       "                        <td id=\"T_883e80f2_0b1a_11ea_a4b9_80000208fe80row0_col5\" class=\"data row0 col5\" >Conv2d(64, 64, kernel_size=(3, 3), stride=(1, 1), padding=(1, 1))</td>\n",
       "                        <td id=\"T_883e80f2_0b1a_11ea_a4b9_80000208fe80row0_col6\" class=\"data row0 col6\" >BatchNorm2d(64, eps=1e-05, momentum=0.1, affine=True, track_running_stats=True)</td>\n",
       "                        <td id=\"T_883e80f2_0b1a_11ea_a4b9_80000208fe80row0_col7\" class=\"data row0 col7\" >ReLU()</td>\n",
       "                        <td id=\"T_883e80f2_0b1a_11ea_a4b9_80000208fe80row0_col8\" class=\"data row0 col8\" >Conv2d(64, 64, kernel_size=(3, 3), stride=(1, 1), padding=(1, 1))</td>\n",
       "                        <td id=\"T_883e80f2_0b1a_11ea_a4b9_80000208fe80row0_col9\" class=\"data row0 col9\" >ReLU()</td>\n",
       "                        <td id=\"T_883e80f2_0b1a_11ea_a4b9_80000208fe80row0_col10\" class=\"data row0 col10\" >Conv2d(64, 64, kernel_size=(1, 1), stride=(1, 1))</td>\n",
       "                        <td id=\"T_883e80f2_0b1a_11ea_a4b9_80000208fe80row0_col11\" class=\"data row0 col11\" >TorchAdd()</td>\n",
       "                        <td id=\"T_883e80f2_0b1a_11ea_a4b9_80000208fe80row0_col12\" class=\"data row0 col12\" >BatchNorm2d(64, eps=1e-05, momentum=0.1, affine=True, track_running_stats=True)</td>\n",
       "                        <td id=\"T_883e80f2_0b1a_11ea_a4b9_80000208fe80row0_col13\" class=\"data row0 col13\" >ReLU()</td>\n",
       "                        <td id=\"T_883e80f2_0b1a_11ea_a4b9_80000208fe80row0_col14\" class=\"data row0 col14\" >Conv2d(64, 64, kernel_size=(3, 3), stride=(1, 1), padding=(1, 1))</td>\n",
       "                        <td id=\"T_883e80f2_0b1a_11ea_a4b9_80000208fe80row0_col15\" class=\"data row0 col15\" >BatchNorm2d(64, eps=1e-05, momentum=0.1, affine=True, track_running_stats=True)</td>\n",
       "                        <td id=\"T_883e80f2_0b1a_11ea_a4b9_80000208fe80row0_col16\" class=\"data row0 col16\" >ReLU()</td>\n",
       "                        <td id=\"T_883e80f2_0b1a_11ea_a4b9_80000208fe80row0_col17\" class=\"data row0 col17\" >Conv2d(64, 64, kernel_size=(3, 3), stride=(1, 1), padding=(1, 1))</td>\n",
       "                        <td id=\"T_883e80f2_0b1a_11ea_a4b9_80000208fe80row0_col18\" class=\"data row0 col18\" >ReLU()</td>\n",
       "                        <td id=\"T_883e80f2_0b1a_11ea_a4b9_80000208fe80row0_col19\" class=\"data row0 col19\" >Conv2d(64, 64, kernel_size=(1, 1), stride=(1, 1))</td>\n",
       "                        <td id=\"T_883e80f2_0b1a_11ea_a4b9_80000208fe80row0_col20\" class=\"data row0 col20\" >TorchAdd()</td>\n",
       "                        <td id=\"T_883e80f2_0b1a_11ea_a4b9_80000208fe80row0_col21\" class=\"data row0 col21\" >BatchNorm2d(64, eps=1e-05, momentum=0.1, affine=True, track_running_stats=True)</td>\n",
       "                        <td id=\"T_883e80f2_0b1a_11ea_a4b9_80000208fe80row0_col22\" class=\"data row0 col22\" >ReLU()</td>\n",
       "                        <td id=\"T_883e80f2_0b1a_11ea_a4b9_80000208fe80row0_col23\" class=\"data row0 col23\" >Conv2d(64, 128, kernel_size=(3, 3), stride=(2, 2), padding=(1, 1))</td>\n",
       "                        <td id=\"T_883e80f2_0b1a_11ea_a4b9_80000208fe80row0_col24\" class=\"data row0 col24\" >BatchNorm2d(128, eps=1e-05, momentum=0.1, affine=True, track_running_stats=True)</td>\n",
       "                        <td id=\"T_883e80f2_0b1a_11ea_a4b9_80000208fe80row0_col25\" class=\"data row0 col25\" >ReLU()</td>\n",
       "                        <td id=\"T_883e80f2_0b1a_11ea_a4b9_80000208fe80row0_col26\" class=\"data row0 col26\" >Conv2d(128, 128, kernel_size=(3, 3), stride=(1, 1), padding=(1, 1))</td>\n",
       "                        <td id=\"T_883e80f2_0b1a_11ea_a4b9_80000208fe80row0_col27\" class=\"data row0 col27\" >ReLU()</td>\n",
       "                        <td id=\"T_883e80f2_0b1a_11ea_a4b9_80000208fe80row0_col28\" class=\"data row0 col28\" >Conv2d(64, 128, kernel_size=(1, 1), stride=(2, 2))</td>\n",
       "                        <td id=\"T_883e80f2_0b1a_11ea_a4b9_80000208fe80row0_col29\" class=\"data row0 col29\" >TorchAdd()</td>\n",
       "                        <td id=\"T_883e80f2_0b1a_11ea_a4b9_80000208fe80row0_col30\" class=\"data row0 col30\" >BatchNorm2d(128, eps=1e-05, momentum=0.1, affine=True, track_running_stats=True)</td>\n",
       "                        <td id=\"T_883e80f2_0b1a_11ea_a4b9_80000208fe80row0_col31\" class=\"data row0 col31\" >ReLU()</td>\n",
       "                        <td id=\"T_883e80f2_0b1a_11ea_a4b9_80000208fe80row0_col32\" class=\"data row0 col32\" >Conv2d(128, 128, kernel_size=(3, 3), stride=(1, 1), padding=(1, 1))</td>\n",
       "                        <td id=\"T_883e80f2_0b1a_11ea_a4b9_80000208fe80row0_col33\" class=\"data row0 col33\" >BatchNorm2d(128, eps=1e-05, momentum=0.1, affine=True, track_running_stats=True)</td>\n",
       "                        <td id=\"T_883e80f2_0b1a_11ea_a4b9_80000208fe80row0_col34\" class=\"data row0 col34\" >ReLU()</td>\n",
       "                        <td id=\"T_883e80f2_0b1a_11ea_a4b9_80000208fe80row0_col35\" class=\"data row0 col35\" >Conv2d(128, 128, kernel_size=(3, 3), stride=(1, 1), padding=(1, 1))</td>\n",
       "                        <td id=\"T_883e80f2_0b1a_11ea_a4b9_80000208fe80row0_col36\" class=\"data row0 col36\" >ReLU()</td>\n",
       "                        <td id=\"T_883e80f2_0b1a_11ea_a4b9_80000208fe80row0_col37\" class=\"data row0 col37\" >Conv2d(128, 128, kernel_size=(1, 1), stride=(1, 1))</td>\n",
       "                        <td id=\"T_883e80f2_0b1a_11ea_a4b9_80000208fe80row0_col38\" class=\"data row0 col38\" >TorchAdd()</td>\n",
       "                        <td id=\"T_883e80f2_0b1a_11ea_a4b9_80000208fe80row0_col39\" class=\"data row0 col39\" >BatchNorm2d(128, eps=1e-05, momentum=0.1, affine=True, track_running_stats=True)</td>\n",
       "                        <td id=\"T_883e80f2_0b1a_11ea_a4b9_80000208fe80row0_col40\" class=\"data row0 col40\" >ReLU()</td>\n",
       "                        <td id=\"T_883e80f2_0b1a_11ea_a4b9_80000208fe80row0_col41\" class=\"data row0 col41\" >Conv2d(128, 256, kernel_size=(3, 3), stride=(2, 2), padding=(1, 1))</td>\n",
       "                        <td id=\"T_883e80f2_0b1a_11ea_a4b9_80000208fe80row0_col42\" class=\"data row0 col42\" >BatchNorm2d(256, eps=1e-05, momentum=0.1, affine=True, track_running_stats=True)</td>\n",
       "                        <td id=\"T_883e80f2_0b1a_11ea_a4b9_80000208fe80row0_col43\" class=\"data row0 col43\" >ReLU()</td>\n",
       "                        <td id=\"T_883e80f2_0b1a_11ea_a4b9_80000208fe80row0_col44\" class=\"data row0 col44\" >Conv2d(256, 256, kernel_size=(3, 3), stride=(1, 1), padding=(1, 1))</td>\n",
       "                        <td id=\"T_883e80f2_0b1a_11ea_a4b9_80000208fe80row0_col45\" class=\"data row0 col45\" >ReLU()</td>\n",
       "                        <td id=\"T_883e80f2_0b1a_11ea_a4b9_80000208fe80row0_col46\" class=\"data row0 col46\" >Conv2d(128, 256, kernel_size=(1, 1), stride=(2, 2))</td>\n",
       "                        <td id=\"T_883e80f2_0b1a_11ea_a4b9_80000208fe80row0_col47\" class=\"data row0 col47\" >TorchAdd()</td>\n",
       "                        <td id=\"T_883e80f2_0b1a_11ea_a4b9_80000208fe80row0_col48\" class=\"data row0 col48\" >BatchNorm2d(256, eps=1e-05, momentum=0.1, affine=True, track_running_stats=True)</td>\n",
       "                        <td id=\"T_883e80f2_0b1a_11ea_a4b9_80000208fe80row0_col49\" class=\"data row0 col49\" >ReLU()</td>\n",
       "                        <td id=\"T_883e80f2_0b1a_11ea_a4b9_80000208fe80row0_col50\" class=\"data row0 col50\" >Conv2d(256, 256, kernel_size=(3, 3), stride=(1, 1), padding=(1, 1))</td>\n",
       "                        <td id=\"T_883e80f2_0b1a_11ea_a4b9_80000208fe80row0_col51\" class=\"data row0 col51\" >BatchNorm2d(256, eps=1e-05, momentum=0.1, affine=True, track_running_stats=True)</td>\n",
       "                        <td id=\"T_883e80f2_0b1a_11ea_a4b9_80000208fe80row0_col52\" class=\"data row0 col52\" >ReLU()</td>\n",
       "                        <td id=\"T_883e80f2_0b1a_11ea_a4b9_80000208fe80row0_col53\" class=\"data row0 col53\" >Conv2d(256, 256, kernel_size=(3, 3), stride=(1, 1), padding=(1, 1))</td>\n",
       "                        <td id=\"T_883e80f2_0b1a_11ea_a4b9_80000208fe80row0_col54\" class=\"data row0 col54\" >ReLU()</td>\n",
       "                        <td id=\"T_883e80f2_0b1a_11ea_a4b9_80000208fe80row0_col55\" class=\"data row0 col55\" >Conv2d(256, 256, kernel_size=(1, 1), stride=(1, 1))</td>\n",
       "                        <td id=\"T_883e80f2_0b1a_11ea_a4b9_80000208fe80row0_col56\" class=\"data row0 col56\" >TorchAdd()</td>\n",
       "                        <td id=\"T_883e80f2_0b1a_11ea_a4b9_80000208fe80row0_col57\" class=\"data row0 col57\" >BatchNorm2d(256, eps=1e-05, momentum=0.1, affine=True, track_running_stats=True)</td>\n",
       "                        <td id=\"T_883e80f2_0b1a_11ea_a4b9_80000208fe80row0_col58\" class=\"data row0 col58\" >ReLU()</td>\n",
       "                        <td id=\"T_883e80f2_0b1a_11ea_a4b9_80000208fe80row0_col59\" class=\"data row0 col59\" >Conv2d(256, 512, kernel_size=(3, 3), stride=(2, 2), padding=(1, 1))</td>\n",
       "                        <td id=\"T_883e80f2_0b1a_11ea_a4b9_80000208fe80row0_col60\" class=\"data row0 col60\" >BatchNorm2d(512, eps=1e-05, momentum=0.1, affine=True, track_running_stats=True)</td>\n",
       "                        <td id=\"T_883e80f2_0b1a_11ea_a4b9_80000208fe80row0_col61\" class=\"data row0 col61\" >ReLU()</td>\n",
       "                        <td id=\"T_883e80f2_0b1a_11ea_a4b9_80000208fe80row0_col62\" class=\"data row0 col62\" >Conv2d(512, 512, kernel_size=(3, 3), stride=(1, 1), padding=(1, 1))</td>\n",
       "                        <td id=\"T_883e80f2_0b1a_11ea_a4b9_80000208fe80row0_col63\" class=\"data row0 col63\" >ReLU()</td>\n",
       "                        <td id=\"T_883e80f2_0b1a_11ea_a4b9_80000208fe80row0_col64\" class=\"data row0 col64\" >Conv2d(256, 512, kernel_size=(1, 1), stride=(2, 2))</td>\n",
       "                        <td id=\"T_883e80f2_0b1a_11ea_a4b9_80000208fe80row0_col65\" class=\"data row0 col65\" >TorchAdd()</td>\n",
       "                        <td id=\"T_883e80f2_0b1a_11ea_a4b9_80000208fe80row0_col66\" class=\"data row0 col66\" >BatchNorm2d(512, eps=1e-05, momentum=0.1, affine=True, track_running_stats=True)</td>\n",
       "                        <td id=\"T_883e80f2_0b1a_11ea_a4b9_80000208fe80row0_col67\" class=\"data row0 col67\" >ReLU()</td>\n",
       "                        <td id=\"T_883e80f2_0b1a_11ea_a4b9_80000208fe80row0_col68\" class=\"data row0 col68\" >Conv2d(512, 512, kernel_size=(3, 3), stride=(1, 1), padding=(1, 1))</td>\n",
       "                        <td id=\"T_883e80f2_0b1a_11ea_a4b9_80000208fe80row0_col69\" class=\"data row0 col69\" >BatchNorm2d(512, eps=1e-05, momentum=0.1, affine=True, track_running_stats=True)</td>\n",
       "                        <td id=\"T_883e80f2_0b1a_11ea_a4b9_80000208fe80row0_col70\" class=\"data row0 col70\" >ReLU()</td>\n",
       "                        <td id=\"T_883e80f2_0b1a_11ea_a4b9_80000208fe80row0_col71\" class=\"data row0 col71\" >Conv2d(512, 512, kernel_size=(3, 3), stride=(1, 1), padding=(1, 1))</td>\n",
       "                        <td id=\"T_883e80f2_0b1a_11ea_a4b9_80000208fe80row0_col72\" class=\"data row0 col72\" >ReLU()</td>\n",
       "                        <td id=\"T_883e80f2_0b1a_11ea_a4b9_80000208fe80row0_col73\" class=\"data row0 col73\" >Conv2d(512, 512, kernel_size=(1, 1), stride=(1, 1))</td>\n",
       "                        <td id=\"T_883e80f2_0b1a_11ea_a4b9_80000208fe80row0_col74\" class=\"data row0 col74\" >TorchAdd()</td>\n",
       "                        <td id=\"T_883e80f2_0b1a_11ea_a4b9_80000208fe80row0_col75\" class=\"data row0 col75\" >GlobalAvgPool2d()</td>\n",
       "                        <td id=\"T_883e80f2_0b1a_11ea_a4b9_80000208fe80row0_col76\" class=\"data row0 col76\" >Linear(in_features=512, out_features=10, bias=True)</td>\n",
       "            </tr>\n",
       "            <tr>\n",
       "                                <td id=\"T_883e80f2_0b1a_11ea_a4b9_80000208fe80row1_col0\" class=\"data row1 col0\" >36</td>\n",
       "                        <td id=\"T_883e80f2_0b1a_11ea_a4b9_80000208fe80row1_col1\" class=\"data row1 col1\" >Conv2d(1, 64, kernel_size=(3, 3), stride=(1, 1), padding=(1, 1))</td>\n",
       "                        <td id=\"T_883e80f2_0b1a_11ea_a4b9_80000208fe80row1_col2\" class=\"data row1 col2\" >BatchNorm2d(64, eps=1e-05, momentum=0.1, affine=True, track_running_stats=True)</td>\n",
       "                        <td id=\"T_883e80f2_0b1a_11ea_a4b9_80000208fe80row1_col3\" class=\"data row1 col3\" >BatchNorm2d(64, eps=1e-05, momentum=0.1, affine=True, track_running_stats=True)</td>\n",
       "                        <td id=\"T_883e80f2_0b1a_11ea_a4b9_80000208fe80row1_col4\" class=\"data row1 col4\" >ReLU()</td>\n",
       "                        <td id=\"T_883e80f2_0b1a_11ea_a4b9_80000208fe80row1_col5\" class=\"data row1 col5\" >Conv2d(64, 64, kernel_size=(3, 3), stride=(1, 1), padding=(1, 1))</td>\n",
       "                        <td id=\"T_883e80f2_0b1a_11ea_a4b9_80000208fe80row1_col6\" class=\"data row1 col6\" >BatchNorm2d(64, eps=1e-05, momentum=0.1, affine=True, track_running_stats=True)</td>\n",
       "                        <td id=\"T_883e80f2_0b1a_11ea_a4b9_80000208fe80row1_col7\" class=\"data row1 col7\" >ReLU()</td>\n",
       "                        <td id=\"T_883e80f2_0b1a_11ea_a4b9_80000208fe80row1_col8\" class=\"data row1 col8\" >Conv2d(64, 64, kernel_size=(3, 3), stride=(1, 1), padding=(1, 1))</td>\n",
       "                        <td id=\"T_883e80f2_0b1a_11ea_a4b9_80000208fe80row1_col9\" class=\"data row1 col9\" >ReLU()</td>\n",
       "                        <td id=\"T_883e80f2_0b1a_11ea_a4b9_80000208fe80row1_col10\" class=\"data row1 col10\" >Conv2d(64, 64, kernel_size=(1, 1), stride=(1, 1))</td>\n",
       "                        <td id=\"T_883e80f2_0b1a_11ea_a4b9_80000208fe80row1_col11\" class=\"data row1 col11\" >TorchAdd()</td>\n",
       "                        <td id=\"T_883e80f2_0b1a_11ea_a4b9_80000208fe80row1_col12\" class=\"data row1 col12\" >BatchNorm2d(64, eps=1e-05, momentum=0.1, affine=True, track_running_stats=True)</td>\n",
       "                        <td id=\"T_883e80f2_0b1a_11ea_a4b9_80000208fe80row1_col13\" class=\"data row1 col13\" >ReLU()</td>\n",
       "                        <td id=\"T_883e80f2_0b1a_11ea_a4b9_80000208fe80row1_col14\" class=\"data row1 col14\" >Conv2d(64, 64, kernel_size=(3, 3), stride=(1, 1), padding=(1, 1))</td>\n",
       "                        <td id=\"T_883e80f2_0b1a_11ea_a4b9_80000208fe80row1_col15\" class=\"data row1 col15\" >BatchNorm2d(64, eps=1e-05, momentum=0.1, affine=True, track_running_stats=True)</td>\n",
       "                        <td id=\"T_883e80f2_0b1a_11ea_a4b9_80000208fe80row1_col16\" class=\"data row1 col16\" >ReLU()</td>\n",
       "                        <td id=\"T_883e80f2_0b1a_11ea_a4b9_80000208fe80row1_col17\" class=\"data row1 col17\" >Conv2d(64, 64, kernel_size=(3, 3), stride=(1, 1), padding=(1, 1))</td>\n",
       "                        <td id=\"T_883e80f2_0b1a_11ea_a4b9_80000208fe80row1_col18\" class=\"data row1 col18\" >ReLU()</td>\n",
       "                        <td id=\"T_883e80f2_0b1a_11ea_a4b9_80000208fe80row1_col19\" class=\"data row1 col19\" >Conv2d(64, 64, kernel_size=(1, 1), stride=(1, 1))</td>\n",
       "                        <td id=\"T_883e80f2_0b1a_11ea_a4b9_80000208fe80row1_col20\" class=\"data row1 col20\" >TorchAdd()</td>\n",
       "                        <td id=\"T_883e80f2_0b1a_11ea_a4b9_80000208fe80row1_col21\" class=\"data row1 col21\" >BatchNorm2d(64, eps=1e-05, momentum=0.1, affine=True, track_running_stats=True)</td>\n",
       "                        <td id=\"T_883e80f2_0b1a_11ea_a4b9_80000208fe80row1_col22\" class=\"data row1 col22\" >ReLU()</td>\n",
       "                        <td id=\"T_883e80f2_0b1a_11ea_a4b9_80000208fe80row1_col23\" class=\"data row1 col23\" >Conv2d(64, 128, kernel_size=(3, 3), stride=(2, 2), padding=(1, 1))</td>\n",
       "                        <td id=\"T_883e80f2_0b1a_11ea_a4b9_80000208fe80row1_col24\" class=\"data row1 col24\" >BatchNorm2d(128, eps=1e-05, momentum=0.1, affine=True, track_running_stats=True)</td>\n",
       "                        <td id=\"T_883e80f2_0b1a_11ea_a4b9_80000208fe80row1_col25\" class=\"data row1 col25\" >ReLU()</td>\n",
       "                        <td id=\"T_883e80f2_0b1a_11ea_a4b9_80000208fe80row1_col26\" class=\"data row1 col26\" >Conv2d(128, 128, kernel_size=(3, 3), stride=(1, 1), padding=(1, 1))</td>\n",
       "                        <td id=\"T_883e80f2_0b1a_11ea_a4b9_80000208fe80row1_col27\" class=\"data row1 col27\" >ReLU()</td>\n",
       "                        <td id=\"T_883e80f2_0b1a_11ea_a4b9_80000208fe80row1_col28\" class=\"data row1 col28\" >Conv2d(64, 128, kernel_size=(1, 1), stride=(2, 2))</td>\n",
       "                        <td id=\"T_883e80f2_0b1a_11ea_a4b9_80000208fe80row1_col29\" class=\"data row1 col29\" >TorchAdd()</td>\n",
       "                        <td id=\"T_883e80f2_0b1a_11ea_a4b9_80000208fe80row1_col30\" class=\"data row1 col30\" >BatchNorm2d(128, eps=1e-05, momentum=0.1, affine=True, track_running_stats=True)</td>\n",
       "                        <td id=\"T_883e80f2_0b1a_11ea_a4b9_80000208fe80row1_col31\" class=\"data row1 col31\" >ReLU()</td>\n",
       "                        <td id=\"T_883e80f2_0b1a_11ea_a4b9_80000208fe80row1_col32\" class=\"data row1 col32\" >Conv2d(128, 128, kernel_size=(3, 3), stride=(1, 1), padding=(1, 1))</td>\n",
       "                        <td id=\"T_883e80f2_0b1a_11ea_a4b9_80000208fe80row1_col33\" class=\"data row1 col33\" >BatchNorm2d(128, eps=1e-05, momentum=0.1, affine=True, track_running_stats=True)</td>\n",
       "                        <td id=\"T_883e80f2_0b1a_11ea_a4b9_80000208fe80row1_col34\" class=\"data row1 col34\" >ReLU()</td>\n",
       "                        <td id=\"T_883e80f2_0b1a_11ea_a4b9_80000208fe80row1_col35\" class=\"data row1 col35\" >Conv2d(128, 128, kernel_size=(3, 3), stride=(1, 1), padding=(1, 1))</td>\n",
       "                        <td id=\"T_883e80f2_0b1a_11ea_a4b9_80000208fe80row1_col36\" class=\"data row1 col36\" >ReLU()</td>\n",
       "                        <td id=\"T_883e80f2_0b1a_11ea_a4b9_80000208fe80row1_col37\" class=\"data row1 col37\" >Conv2d(128, 128, kernel_size=(1, 1), stride=(1, 1))</td>\n",
       "                        <td id=\"T_883e80f2_0b1a_11ea_a4b9_80000208fe80row1_col38\" class=\"data row1 col38\" >TorchAdd()</td>\n",
       "                        <td id=\"T_883e80f2_0b1a_11ea_a4b9_80000208fe80row1_col39\" class=\"data row1 col39\" >BatchNorm2d(128, eps=1e-05, momentum=0.1, affine=True, track_running_stats=True)</td>\n",
       "                        <td id=\"T_883e80f2_0b1a_11ea_a4b9_80000208fe80row1_col40\" class=\"data row1 col40\" >ReLU()</td>\n",
       "                        <td id=\"T_883e80f2_0b1a_11ea_a4b9_80000208fe80row1_col41\" class=\"data row1 col41\" >Conv2d(128, 256, kernel_size=(3, 3), stride=(2, 2), padding=(1, 1))</td>\n",
       "                        <td id=\"T_883e80f2_0b1a_11ea_a4b9_80000208fe80row1_col42\" class=\"data row1 col42\" >BatchNorm2d(256, eps=1e-05, momentum=0.1, affine=True, track_running_stats=True)</td>\n",
       "                        <td id=\"T_883e80f2_0b1a_11ea_a4b9_80000208fe80row1_col43\" class=\"data row1 col43\" >ReLU()</td>\n",
       "                        <td id=\"T_883e80f2_0b1a_11ea_a4b9_80000208fe80row1_col44\" class=\"data row1 col44\" >Conv2d(256, 256, kernel_size=(3, 3), stride=(1, 1), padding=(1, 1))</td>\n",
       "                        <td id=\"T_883e80f2_0b1a_11ea_a4b9_80000208fe80row1_col45\" class=\"data row1 col45\" >ReLU()</td>\n",
       "                        <td id=\"T_883e80f2_0b1a_11ea_a4b9_80000208fe80row1_col46\" class=\"data row1 col46\" >Conv2d(128, 256, kernel_size=(1, 1), stride=(2, 2))</td>\n",
       "                        <td id=\"T_883e80f2_0b1a_11ea_a4b9_80000208fe80row1_col47\" class=\"data row1 col47\" >TorchAdd()</td>\n",
       "                        <td id=\"T_883e80f2_0b1a_11ea_a4b9_80000208fe80row1_col48\" class=\"data row1 col48\" >BatchNorm2d(256, eps=1e-05, momentum=0.1, affine=True, track_running_stats=True)</td>\n",
       "                        <td id=\"T_883e80f2_0b1a_11ea_a4b9_80000208fe80row1_col49\" class=\"data row1 col49\" >ReLU()</td>\n",
       "                        <td id=\"T_883e80f2_0b1a_11ea_a4b9_80000208fe80row1_col50\" class=\"data row1 col50\" >Conv2d(256, 256, kernel_size=(3, 3), stride=(1, 1), padding=(1, 1))</td>\n",
       "                        <td id=\"T_883e80f2_0b1a_11ea_a4b9_80000208fe80row1_col51\" class=\"data row1 col51\" >BatchNorm2d(256, eps=1e-05, momentum=0.1, affine=True, track_running_stats=True)</td>\n",
       "                        <td id=\"T_883e80f2_0b1a_11ea_a4b9_80000208fe80row1_col52\" class=\"data row1 col52\" >ReLU()</td>\n",
       "                        <td id=\"T_883e80f2_0b1a_11ea_a4b9_80000208fe80row1_col53\" class=\"data row1 col53\" >Conv2d(256, 256, kernel_size=(3, 3), stride=(1, 1), padding=(1, 1))</td>\n",
       "                        <td id=\"T_883e80f2_0b1a_11ea_a4b9_80000208fe80row1_col54\" class=\"data row1 col54\" >ReLU()</td>\n",
       "                        <td id=\"T_883e80f2_0b1a_11ea_a4b9_80000208fe80row1_col55\" class=\"data row1 col55\" >Conv2d(256, 256, kernel_size=(1, 1), stride=(1, 1))</td>\n",
       "                        <td id=\"T_883e80f2_0b1a_11ea_a4b9_80000208fe80row1_col56\" class=\"data row1 col56\" >TorchAdd()</td>\n",
       "                        <td id=\"T_883e80f2_0b1a_11ea_a4b9_80000208fe80row1_col57\" class=\"data row1 col57\" >BatchNorm2d(256, eps=1e-05, momentum=0.1, affine=True, track_running_stats=True)</td>\n",
       "                        <td id=\"T_883e80f2_0b1a_11ea_a4b9_80000208fe80row1_col58\" class=\"data row1 col58\" >ReLU()</td>\n",
       "                        <td id=\"T_883e80f2_0b1a_11ea_a4b9_80000208fe80row1_col59\" class=\"data row1 col59\" >Conv2d(256, 512, kernel_size=(3, 3), stride=(2, 2), padding=(1, 1))</td>\n",
       "                        <td id=\"T_883e80f2_0b1a_11ea_a4b9_80000208fe80row1_col60\" class=\"data row1 col60\" >BatchNorm2d(512, eps=1e-05, momentum=0.1, affine=True, track_running_stats=True)</td>\n",
       "                        <td id=\"T_883e80f2_0b1a_11ea_a4b9_80000208fe80row1_col61\" class=\"data row1 col61\" >ReLU()</td>\n",
       "                        <td id=\"T_883e80f2_0b1a_11ea_a4b9_80000208fe80row1_col62\" class=\"data row1 col62\" >Conv2d(512, 512, kernel_size=(3, 3), stride=(1, 1), padding=(1, 1))</td>\n",
       "                        <td id=\"T_883e80f2_0b1a_11ea_a4b9_80000208fe80row1_col63\" class=\"data row1 col63\" >ReLU()</td>\n",
       "                        <td id=\"T_883e80f2_0b1a_11ea_a4b9_80000208fe80row1_col64\" class=\"data row1 col64\" >Conv2d(256, 512, kernel_size=(1, 1), stride=(2, 2))</td>\n",
       "                        <td id=\"T_883e80f2_0b1a_11ea_a4b9_80000208fe80row1_col65\" class=\"data row1 col65\" >TorchAdd()</td>\n",
       "                        <td id=\"T_883e80f2_0b1a_11ea_a4b9_80000208fe80row1_col66\" class=\"data row1 col66\" >BatchNorm2d(512, eps=1e-05, momentum=0.1, affine=True, track_running_stats=True)</td>\n",
       "                        <td id=\"T_883e80f2_0b1a_11ea_a4b9_80000208fe80row1_col67\" class=\"data row1 col67\" >ReLU()</td>\n",
       "                        <td id=\"T_883e80f2_0b1a_11ea_a4b9_80000208fe80row1_col68\" class=\"data row1 col68\" >Conv2d(512, 512, kernel_size=(3, 3), stride=(1, 1), padding=(1, 1))</td>\n",
       "                        <td id=\"T_883e80f2_0b1a_11ea_a4b9_80000208fe80row1_col69\" class=\"data row1 col69\" >BatchNorm2d(512, eps=1e-05, momentum=0.1, affine=True, track_running_stats=True)</td>\n",
       "                        <td id=\"T_883e80f2_0b1a_11ea_a4b9_80000208fe80row1_col70\" class=\"data row1 col70\" >ReLU()</td>\n",
       "                        <td id=\"T_883e80f2_0b1a_11ea_a4b9_80000208fe80row1_col71\" class=\"data row1 col71\" >Conv2d(512, 512, kernel_size=(3, 3), stride=(1, 1), padding=(1, 1))</td>\n",
       "                        <td id=\"T_883e80f2_0b1a_11ea_a4b9_80000208fe80row1_col72\" class=\"data row1 col72\" >ReLU()</td>\n",
       "                        <td id=\"T_883e80f2_0b1a_11ea_a4b9_80000208fe80row1_col73\" class=\"data row1 col73\" >Conv2d(512, 512, kernel_size=(1, 1), stride=(1, 1))</td>\n",
       "                        <td id=\"T_883e80f2_0b1a_11ea_a4b9_80000208fe80row1_col74\" class=\"data row1 col74\" >TorchAdd()</td>\n",
       "                        <td id=\"T_883e80f2_0b1a_11ea_a4b9_80000208fe80row1_col75\" class=\"data row1 col75\" >GlobalAvgPool2d()</td>\n",
       "                        <td id=\"T_883e80f2_0b1a_11ea_a4b9_80000208fe80row1_col76\" class=\"data row1 col76\" >Linear(in_features=512, out_features=10, bias=True)</td>\n",
       "            </tr>\n",
       "            <tr>\n",
       "                                <td id=\"T_883e80f2_0b1a_11ea_a4b9_80000208fe80row2_col0\" class=\"data row2 col0\" >72</td>\n",
       "                        <td id=\"T_883e80f2_0b1a_11ea_a4b9_80000208fe80row2_col1\" class=\"data row2 col1\" >Conv2d(1, 64, kernel_size=(3, 3), stride=(1, 1), padding=(1, 1))</td>\n",
       "                        <td id=\"T_883e80f2_0b1a_11ea_a4b9_80000208fe80row2_col2\" class=\"data row2 col2\" >BatchNorm2d(64, eps=1e-05, momentum=0.1, affine=True, track_running_stats=True)</td>\n",
       "                        <td id=\"T_883e80f2_0b1a_11ea_a4b9_80000208fe80row2_col3\" class=\"data row2 col3\" >BatchNorm2d(64, eps=1e-05, momentum=0.1, affine=True, track_running_stats=True)</td>\n",
       "                        <td id=\"T_883e80f2_0b1a_11ea_a4b9_80000208fe80row2_col4\" class=\"data row2 col4\" >ReLU()</td>\n",
       "                        <td id=\"T_883e80f2_0b1a_11ea_a4b9_80000208fe80row2_col5\" class=\"data row2 col5\" >Conv2d(64, 64, kernel_size=(3, 3), stride=(1, 1), padding=(1, 1))</td>\n",
       "                        <td id=\"T_883e80f2_0b1a_11ea_a4b9_80000208fe80row2_col6\" class=\"data row2 col6\" >BatchNorm2d(64, eps=1e-05, momentum=0.1, affine=True, track_running_stats=True)</td>\n",
       "                        <td id=\"T_883e80f2_0b1a_11ea_a4b9_80000208fe80row2_col7\" class=\"data row2 col7\" >ReLU()</td>\n",
       "                        <td id=\"T_883e80f2_0b1a_11ea_a4b9_80000208fe80row2_col8\" class=\"data row2 col8\" >Conv2d(64, 64, kernel_size=(3, 3), stride=(1, 1), padding=(1, 1))</td>\n",
       "                        <td id=\"T_883e80f2_0b1a_11ea_a4b9_80000208fe80row2_col9\" class=\"data row2 col9\" >ReLU()</td>\n",
       "                        <td id=\"T_883e80f2_0b1a_11ea_a4b9_80000208fe80row2_col10\" class=\"data row2 col10\" >Conv2d(64, 64, kernel_size=(1, 1), stride=(1, 1))</td>\n",
       "                        <td id=\"T_883e80f2_0b1a_11ea_a4b9_80000208fe80row2_col11\" class=\"data row2 col11\" >TorchAdd()</td>\n",
       "                        <td id=\"T_883e80f2_0b1a_11ea_a4b9_80000208fe80row2_col12\" class=\"data row2 col12\" >BatchNorm2d(64, eps=1e-05, momentum=0.1, affine=True, track_running_stats=True)</td>\n",
       "                        <td id=\"T_883e80f2_0b1a_11ea_a4b9_80000208fe80row2_col13\" class=\"data row2 col13\" >ReLU()</td>\n",
       "                        <td id=\"T_883e80f2_0b1a_11ea_a4b9_80000208fe80row2_col14\" class=\"data row2 col14\" >Conv2d(64, 64, kernel_size=(3, 3), stride=(1, 1), padding=(1, 1))</td>\n",
       "                        <td id=\"T_883e80f2_0b1a_11ea_a4b9_80000208fe80row2_col15\" class=\"data row2 col15\" >BatchNorm2d(64, eps=1e-05, momentum=0.1, affine=True, track_running_stats=True)</td>\n",
       "                        <td id=\"T_883e80f2_0b1a_11ea_a4b9_80000208fe80row2_col16\" class=\"data row2 col16\" >ReLU()</td>\n",
       "                        <td id=\"T_883e80f2_0b1a_11ea_a4b9_80000208fe80row2_col17\" class=\"data row2 col17\" >Conv2d(64, 64, kernel_size=(3, 3), stride=(1, 1), padding=(1, 1))</td>\n",
       "                        <td id=\"T_883e80f2_0b1a_11ea_a4b9_80000208fe80row2_col18\" class=\"data row2 col18\" >ReLU()</td>\n",
       "                        <td id=\"T_883e80f2_0b1a_11ea_a4b9_80000208fe80row2_col19\" class=\"data row2 col19\" >Conv2d(64, 64, kernel_size=(1, 1), stride=(1, 1))</td>\n",
       "                        <td id=\"T_883e80f2_0b1a_11ea_a4b9_80000208fe80row2_col20\" class=\"data row2 col20\" >TorchAdd()</td>\n",
       "                        <td id=\"T_883e80f2_0b1a_11ea_a4b9_80000208fe80row2_col21\" class=\"data row2 col21\" >BatchNorm2d(64, eps=1e-05, momentum=0.1, affine=True, track_running_stats=True)</td>\n",
       "                        <td id=\"T_883e80f2_0b1a_11ea_a4b9_80000208fe80row2_col22\" class=\"data row2 col22\" >ReLU()</td>\n",
       "                        <td id=\"T_883e80f2_0b1a_11ea_a4b9_80000208fe80row2_col23\" class=\"data row2 col23\" >Conv2d(64, 128, kernel_size=(3, 3), stride=(2, 2), padding=(1, 1))</td>\n",
       "                        <td id=\"T_883e80f2_0b1a_11ea_a4b9_80000208fe80row2_col24\" class=\"data row2 col24\" >BatchNorm2d(128, eps=1e-05, momentum=0.1, affine=True, track_running_stats=True)</td>\n",
       "                        <td id=\"T_883e80f2_0b1a_11ea_a4b9_80000208fe80row2_col25\" class=\"data row2 col25\" >ReLU()</td>\n",
       "                        <td id=\"T_883e80f2_0b1a_11ea_a4b9_80000208fe80row2_col26\" class=\"data row2 col26\" >Conv2d(128, 128, kernel_size=(3, 3), stride=(1, 1), padding=(1, 1))</td>\n",
       "                        <td id=\"T_883e80f2_0b1a_11ea_a4b9_80000208fe80row2_col27\" class=\"data row2 col27\" >ReLU()</td>\n",
       "                        <td id=\"T_883e80f2_0b1a_11ea_a4b9_80000208fe80row2_col28\" class=\"data row2 col28\" >Conv2d(64, 128, kernel_size=(1, 1), stride=(2, 2))</td>\n",
       "                        <td id=\"T_883e80f2_0b1a_11ea_a4b9_80000208fe80row2_col29\" class=\"data row2 col29\" >TorchAdd()</td>\n",
       "                        <td id=\"T_883e80f2_0b1a_11ea_a4b9_80000208fe80row2_col30\" class=\"data row2 col30\" >BatchNorm2d(128, eps=1e-05, momentum=0.1, affine=True, track_running_stats=True)</td>\n",
       "                        <td id=\"T_883e80f2_0b1a_11ea_a4b9_80000208fe80row2_col31\" class=\"data row2 col31\" >ReLU()</td>\n",
       "                        <td id=\"T_883e80f2_0b1a_11ea_a4b9_80000208fe80row2_col32\" class=\"data row2 col32\" >Conv2d(128, 128, kernel_size=(3, 3), stride=(1, 1), padding=(1, 1))</td>\n",
       "                        <td id=\"T_883e80f2_0b1a_11ea_a4b9_80000208fe80row2_col33\" class=\"data row2 col33\" >BatchNorm2d(128, eps=1e-05, momentum=0.1, affine=True, track_running_stats=True)</td>\n",
       "                        <td id=\"T_883e80f2_0b1a_11ea_a4b9_80000208fe80row2_col34\" class=\"data row2 col34\" >ReLU()</td>\n",
       "                        <td id=\"T_883e80f2_0b1a_11ea_a4b9_80000208fe80row2_col35\" class=\"data row2 col35\" >Conv2d(128, 128, kernel_size=(3, 3), stride=(1, 1), padding=(1, 1))</td>\n",
       "                        <td id=\"T_883e80f2_0b1a_11ea_a4b9_80000208fe80row2_col36\" class=\"data row2 col36\" >ReLU()</td>\n",
       "                        <td id=\"T_883e80f2_0b1a_11ea_a4b9_80000208fe80row2_col37\" class=\"data row2 col37\" >Conv2d(128, 128, kernel_size=(1, 1), stride=(1, 1))</td>\n",
       "                        <td id=\"T_883e80f2_0b1a_11ea_a4b9_80000208fe80row2_col38\" class=\"data row2 col38\" >TorchAdd()</td>\n",
       "                        <td id=\"T_883e80f2_0b1a_11ea_a4b9_80000208fe80row2_col39\" class=\"data row2 col39\" >BatchNorm2d(128, eps=1e-05, momentum=0.1, affine=True, track_running_stats=True)</td>\n",
       "                        <td id=\"T_883e80f2_0b1a_11ea_a4b9_80000208fe80row2_col40\" class=\"data row2 col40\" >ReLU()</td>\n",
       "                        <td id=\"T_883e80f2_0b1a_11ea_a4b9_80000208fe80row2_col41\" class=\"data row2 col41\" >Conv2d(128, 256, kernel_size=(3, 3), stride=(2, 2), padding=(1, 1))</td>\n",
       "                        <td id=\"T_883e80f2_0b1a_11ea_a4b9_80000208fe80row2_col42\" class=\"data row2 col42\" >BatchNorm2d(256, eps=1e-05, momentum=0.1, affine=True, track_running_stats=True)</td>\n",
       "                        <td id=\"T_883e80f2_0b1a_11ea_a4b9_80000208fe80row2_col43\" class=\"data row2 col43\" >ReLU()</td>\n",
       "                        <td id=\"T_883e80f2_0b1a_11ea_a4b9_80000208fe80row2_col44\" class=\"data row2 col44\" >Conv2d(256, 256, kernel_size=(3, 3), stride=(1, 1), padding=(1, 1))</td>\n",
       "                        <td id=\"T_883e80f2_0b1a_11ea_a4b9_80000208fe80row2_col45\" class=\"data row2 col45\" >ReLU()</td>\n",
       "                        <td id=\"T_883e80f2_0b1a_11ea_a4b9_80000208fe80row2_col46\" class=\"data row2 col46\" >Conv2d(128, 256, kernel_size=(1, 1), stride=(2, 2))</td>\n",
       "                        <td id=\"T_883e80f2_0b1a_11ea_a4b9_80000208fe80row2_col47\" class=\"data row2 col47\" >TorchAdd()</td>\n",
       "                        <td id=\"T_883e80f2_0b1a_11ea_a4b9_80000208fe80row2_col48\" class=\"data row2 col48\" >BatchNorm2d(256, eps=1e-05, momentum=0.1, affine=True, track_running_stats=True)</td>\n",
       "                        <td id=\"T_883e80f2_0b1a_11ea_a4b9_80000208fe80row2_col49\" class=\"data row2 col49\" >ReLU()</td>\n",
       "                        <td id=\"T_883e80f2_0b1a_11ea_a4b9_80000208fe80row2_col50\" class=\"data row2 col50\" >Conv2d(256, 256, kernel_size=(3, 3), stride=(1, 1), padding=(1, 1))</td>\n",
       "                        <td id=\"T_883e80f2_0b1a_11ea_a4b9_80000208fe80row2_col51\" class=\"data row2 col51\" >BatchNorm2d(256, eps=1e-05, momentum=0.1, affine=True, track_running_stats=True)</td>\n",
       "                        <td id=\"T_883e80f2_0b1a_11ea_a4b9_80000208fe80row2_col52\" class=\"data row2 col52\" >ReLU()</td>\n",
       "                        <td id=\"T_883e80f2_0b1a_11ea_a4b9_80000208fe80row2_col53\" class=\"data row2 col53\" >Conv2d(256, 256, kernel_size=(3, 3), stride=(1, 1), padding=(1, 1))</td>\n",
       "                        <td id=\"T_883e80f2_0b1a_11ea_a4b9_80000208fe80row2_col54\" class=\"data row2 col54\" >ReLU()</td>\n",
       "                        <td id=\"T_883e80f2_0b1a_11ea_a4b9_80000208fe80row2_col55\" class=\"data row2 col55\" >Conv2d(256, 256, kernel_size=(1, 1), stride=(1, 1))</td>\n",
       "                        <td id=\"T_883e80f2_0b1a_11ea_a4b9_80000208fe80row2_col56\" class=\"data row2 col56\" >TorchAdd()</td>\n",
       "                        <td id=\"T_883e80f2_0b1a_11ea_a4b9_80000208fe80row2_col57\" class=\"data row2 col57\" >BatchNorm2d(256, eps=1e-05, momentum=0.1, affine=True, track_running_stats=True)</td>\n",
       "                        <td id=\"T_883e80f2_0b1a_11ea_a4b9_80000208fe80row2_col58\" class=\"data row2 col58\" >ReLU()</td>\n",
       "                        <td id=\"T_883e80f2_0b1a_11ea_a4b9_80000208fe80row2_col59\" class=\"data row2 col59\" >Conv2d(256, 512, kernel_size=(3, 3), stride=(2, 2), padding=(1, 1))</td>\n",
       "                        <td id=\"T_883e80f2_0b1a_11ea_a4b9_80000208fe80row2_col60\" class=\"data row2 col60\" >BatchNorm2d(512, eps=1e-05, momentum=0.1, affine=True, track_running_stats=True)</td>\n",
       "                        <td id=\"T_883e80f2_0b1a_11ea_a4b9_80000208fe80row2_col61\" class=\"data row2 col61\" >ReLU()</td>\n",
       "                        <td id=\"T_883e80f2_0b1a_11ea_a4b9_80000208fe80row2_col62\" class=\"data row2 col62\" >Conv2d(512, 512, kernel_size=(3, 3), stride=(1, 1), padding=(1, 1))</td>\n",
       "                        <td id=\"T_883e80f2_0b1a_11ea_a4b9_80000208fe80row2_col63\" class=\"data row2 col63\" >ReLU()</td>\n",
       "                        <td id=\"T_883e80f2_0b1a_11ea_a4b9_80000208fe80row2_col64\" class=\"data row2 col64\" >Conv2d(256, 512, kernel_size=(1, 1), stride=(2, 2))</td>\n",
       "                        <td id=\"T_883e80f2_0b1a_11ea_a4b9_80000208fe80row2_col65\" class=\"data row2 col65\" >TorchAdd()</td>\n",
       "                        <td id=\"T_883e80f2_0b1a_11ea_a4b9_80000208fe80row2_col66\" class=\"data row2 col66\" >BatchNorm2d(512, eps=1e-05, momentum=0.1, affine=True, track_running_stats=True)</td>\n",
       "                        <td id=\"T_883e80f2_0b1a_11ea_a4b9_80000208fe80row2_col67\" class=\"data row2 col67\" >ReLU()</td>\n",
       "                        <td id=\"T_883e80f2_0b1a_11ea_a4b9_80000208fe80row2_col68\" class=\"data row2 col68\" >Conv2d(512, 512, kernel_size=(3, 3), stride=(1, 1), padding=(1, 1))</td>\n",
       "                        <td id=\"T_883e80f2_0b1a_11ea_a4b9_80000208fe80row2_col69\" class=\"data row2 col69\" >BatchNorm2d(512, eps=1e-05, momentum=0.1, affine=True, track_running_stats=True)</td>\n",
       "                        <td id=\"T_883e80f2_0b1a_11ea_a4b9_80000208fe80row2_col70\" class=\"data row2 col70\" >ReLU()</td>\n",
       "                        <td id=\"T_883e80f2_0b1a_11ea_a4b9_80000208fe80row2_col71\" class=\"data row2 col71\" >Conv2d(512, 512, kernel_size=(3, 3), stride=(1, 1), padding=(1, 1))</td>\n",
       "                        <td id=\"T_883e80f2_0b1a_11ea_a4b9_80000208fe80row2_col72\" class=\"data row2 col72\" >ReLU()</td>\n",
       "                        <td id=\"T_883e80f2_0b1a_11ea_a4b9_80000208fe80row2_col73\" class=\"data row2 col73\" >Conv2d(512, 512, kernel_size=(1, 1), stride=(1, 1))</td>\n",
       "                        <td id=\"T_883e80f2_0b1a_11ea_a4b9_80000208fe80row2_col74\" class=\"data row2 col74\" >TorchAdd()</td>\n",
       "                        <td id=\"T_883e80f2_0b1a_11ea_a4b9_80000208fe80row2_col75\" class=\"data row2 col75\" >GlobalAvgPool2d()</td>\n",
       "                        <td id=\"T_883e80f2_0b1a_11ea_a4b9_80000208fe80row2_col76\" class=\"data row2 col76\" >Linear(in_features=512, out_features=10, bias=True)</td>\n",
       "            </tr>\n",
       "            <tr>\n",
       "                                <td id=\"T_883e80f2_0b1a_11ea_a4b9_80000208fe80row3_col0\" class=\"data row3 col0\" >108</td>\n",
       "                        <td id=\"T_883e80f2_0b1a_11ea_a4b9_80000208fe80row3_col1\" class=\"data row3 col1\" >Conv2d(1, 64, kernel_size=(3, 3), stride=(1, 1), padding=(1, 1))</td>\n",
       "                        <td id=\"T_883e80f2_0b1a_11ea_a4b9_80000208fe80row3_col2\" class=\"data row3 col2\" >BatchNorm2d(64, eps=1e-05, momentum=0.1, affine=True, track_running_stats=True)</td>\n",
       "                        <td id=\"T_883e80f2_0b1a_11ea_a4b9_80000208fe80row3_col3\" class=\"data row3 col3\" >BatchNorm2d(64, eps=1e-05, momentum=0.1, affine=True, track_running_stats=True)</td>\n",
       "                        <td id=\"T_883e80f2_0b1a_11ea_a4b9_80000208fe80row3_col4\" class=\"data row3 col4\" >ReLU()</td>\n",
       "                        <td id=\"T_883e80f2_0b1a_11ea_a4b9_80000208fe80row3_col5\" class=\"data row3 col5\" >Conv2d(64, 64, kernel_size=(3, 3), stride=(1, 1), padding=(1, 1))</td>\n",
       "                        <td id=\"T_883e80f2_0b1a_11ea_a4b9_80000208fe80row3_col6\" class=\"data row3 col6\" >BatchNorm2d(64, eps=1e-05, momentum=0.1, affine=True, track_running_stats=True)</td>\n",
       "                        <td id=\"T_883e80f2_0b1a_11ea_a4b9_80000208fe80row3_col7\" class=\"data row3 col7\" >ReLU()</td>\n",
       "                        <td id=\"T_883e80f2_0b1a_11ea_a4b9_80000208fe80row3_col8\" class=\"data row3 col8\" >Conv2d(64, 64, kernel_size=(3, 3), stride=(1, 1), padding=(1, 1))</td>\n",
       "                        <td id=\"T_883e80f2_0b1a_11ea_a4b9_80000208fe80row3_col9\" class=\"data row3 col9\" >ReLU()</td>\n",
       "                        <td id=\"T_883e80f2_0b1a_11ea_a4b9_80000208fe80row3_col10\" class=\"data row3 col10\" >Conv2d(64, 64, kernel_size=(1, 1), stride=(1, 1))</td>\n",
       "                        <td id=\"T_883e80f2_0b1a_11ea_a4b9_80000208fe80row3_col11\" class=\"data row3 col11\" >TorchAdd()</td>\n",
       "                        <td id=\"T_883e80f2_0b1a_11ea_a4b9_80000208fe80row3_col12\" class=\"data row3 col12\" >BatchNorm2d(64, eps=1e-05, momentum=0.1, affine=True, track_running_stats=True)</td>\n",
       "                        <td id=\"T_883e80f2_0b1a_11ea_a4b9_80000208fe80row3_col13\" class=\"data row3 col13\" >ReLU()</td>\n",
       "                        <td id=\"T_883e80f2_0b1a_11ea_a4b9_80000208fe80row3_col14\" class=\"data row3 col14\" >Conv2d(64, 64, kernel_size=(3, 3), stride=(1, 1), padding=(1, 1))</td>\n",
       "                        <td id=\"T_883e80f2_0b1a_11ea_a4b9_80000208fe80row3_col15\" class=\"data row3 col15\" >BatchNorm2d(64, eps=1e-05, momentum=0.1, affine=True, track_running_stats=True)</td>\n",
       "                        <td id=\"T_883e80f2_0b1a_11ea_a4b9_80000208fe80row3_col16\" class=\"data row3 col16\" >ReLU()</td>\n",
       "                        <td id=\"T_883e80f2_0b1a_11ea_a4b9_80000208fe80row3_col17\" class=\"data row3 col17\" >Conv2d(64, 64, kernel_size=(3, 3), stride=(1, 1), padding=(1, 1))</td>\n",
       "                        <td id=\"T_883e80f2_0b1a_11ea_a4b9_80000208fe80row3_col18\" class=\"data row3 col18\" >ReLU()</td>\n",
       "                        <td id=\"T_883e80f2_0b1a_11ea_a4b9_80000208fe80row3_col19\" class=\"data row3 col19\" >Conv2d(64, 64, kernel_size=(1, 1), stride=(1, 1))</td>\n",
       "                        <td id=\"T_883e80f2_0b1a_11ea_a4b9_80000208fe80row3_col20\" class=\"data row3 col20\" >TorchAdd()</td>\n",
       "                        <td id=\"T_883e80f2_0b1a_11ea_a4b9_80000208fe80row3_col21\" class=\"data row3 col21\" >BatchNorm2d(64, eps=1e-05, momentum=0.1, affine=True, track_running_stats=True)</td>\n",
       "                        <td id=\"T_883e80f2_0b1a_11ea_a4b9_80000208fe80row3_col22\" class=\"data row3 col22\" >ReLU()</td>\n",
       "                        <td id=\"T_883e80f2_0b1a_11ea_a4b9_80000208fe80row3_col23\" class=\"data row3 col23\" >Conv2d(64, 128, kernel_size=(3, 3), stride=(2, 2), padding=(1, 1))</td>\n",
       "                        <td id=\"T_883e80f2_0b1a_11ea_a4b9_80000208fe80row3_col24\" class=\"data row3 col24\" >BatchNorm2d(128, eps=1e-05, momentum=0.1, affine=True, track_running_stats=True)</td>\n",
       "                        <td id=\"T_883e80f2_0b1a_11ea_a4b9_80000208fe80row3_col25\" class=\"data row3 col25\" >ReLU()</td>\n",
       "                        <td id=\"T_883e80f2_0b1a_11ea_a4b9_80000208fe80row3_col26\" class=\"data row3 col26\" >Conv2d(128, 128, kernel_size=(3, 3), stride=(1, 1), padding=(1, 1))</td>\n",
       "                        <td id=\"T_883e80f2_0b1a_11ea_a4b9_80000208fe80row3_col27\" class=\"data row3 col27\" >ReLU()</td>\n",
       "                        <td id=\"T_883e80f2_0b1a_11ea_a4b9_80000208fe80row3_col28\" class=\"data row3 col28\" >Conv2d(64, 128, kernel_size=(1, 1), stride=(2, 2))</td>\n",
       "                        <td id=\"T_883e80f2_0b1a_11ea_a4b9_80000208fe80row3_col29\" class=\"data row3 col29\" >TorchAdd()</td>\n",
       "                        <td id=\"T_883e80f2_0b1a_11ea_a4b9_80000208fe80row3_col30\" class=\"data row3 col30\" >BatchNorm2d(128, eps=1e-05, momentum=0.1, affine=True, track_running_stats=True)</td>\n",
       "                        <td id=\"T_883e80f2_0b1a_11ea_a4b9_80000208fe80row3_col31\" class=\"data row3 col31\" >ReLU()</td>\n",
       "                        <td id=\"T_883e80f2_0b1a_11ea_a4b9_80000208fe80row3_col32\" class=\"data row3 col32\" >Conv2d(128, 128, kernel_size=(3, 3), stride=(1, 1), padding=(1, 1))</td>\n",
       "                        <td id=\"T_883e80f2_0b1a_11ea_a4b9_80000208fe80row3_col33\" class=\"data row3 col33\" >BatchNorm2d(128, eps=1e-05, momentum=0.1, affine=True, track_running_stats=True)</td>\n",
       "                        <td id=\"T_883e80f2_0b1a_11ea_a4b9_80000208fe80row3_col34\" class=\"data row3 col34\" >ReLU()</td>\n",
       "                        <td id=\"T_883e80f2_0b1a_11ea_a4b9_80000208fe80row3_col35\" class=\"data row3 col35\" >Conv2d(128, 128, kernel_size=(3, 3), stride=(1, 1), padding=(1, 1))</td>\n",
       "                        <td id=\"T_883e80f2_0b1a_11ea_a4b9_80000208fe80row3_col36\" class=\"data row3 col36\" >ReLU()</td>\n",
       "                        <td id=\"T_883e80f2_0b1a_11ea_a4b9_80000208fe80row3_col37\" class=\"data row3 col37\" >Conv2d(128, 128, kernel_size=(1, 1), stride=(1, 1))</td>\n",
       "                        <td id=\"T_883e80f2_0b1a_11ea_a4b9_80000208fe80row3_col38\" class=\"data row3 col38\" >TorchAdd()</td>\n",
       "                        <td id=\"T_883e80f2_0b1a_11ea_a4b9_80000208fe80row3_col39\" class=\"data row3 col39\" >BatchNorm2d(128, eps=1e-05, momentum=0.1, affine=True, track_running_stats=True)</td>\n",
       "                        <td id=\"T_883e80f2_0b1a_11ea_a4b9_80000208fe80row3_col40\" class=\"data row3 col40\" >ReLU()</td>\n",
       "                        <td id=\"T_883e80f2_0b1a_11ea_a4b9_80000208fe80row3_col41\" class=\"data row3 col41\" >Conv2d(128, 256, kernel_size=(3, 3), stride=(2, 2), padding=(1, 1))</td>\n",
       "                        <td id=\"T_883e80f2_0b1a_11ea_a4b9_80000208fe80row3_col42\" class=\"data row3 col42\" >BatchNorm2d(256, eps=1e-05, momentum=0.1, affine=True, track_running_stats=True)</td>\n",
       "                        <td id=\"T_883e80f2_0b1a_11ea_a4b9_80000208fe80row3_col43\" class=\"data row3 col43\" >ReLU()</td>\n",
       "                        <td id=\"T_883e80f2_0b1a_11ea_a4b9_80000208fe80row3_col44\" class=\"data row3 col44\" >Conv2d(256, 256, kernel_size=(3, 3), stride=(1, 1), padding=(1, 1))</td>\n",
       "                        <td id=\"T_883e80f2_0b1a_11ea_a4b9_80000208fe80row3_col45\" class=\"data row3 col45\" >ReLU()</td>\n",
       "                        <td id=\"T_883e80f2_0b1a_11ea_a4b9_80000208fe80row3_col46\" class=\"data row3 col46\" >Conv2d(128, 256, kernel_size=(1, 1), stride=(2, 2))</td>\n",
       "                        <td id=\"T_883e80f2_0b1a_11ea_a4b9_80000208fe80row3_col47\" class=\"data row3 col47\" >TorchAdd()</td>\n",
       "                        <td id=\"T_883e80f2_0b1a_11ea_a4b9_80000208fe80row3_col48\" class=\"data row3 col48\" >BatchNorm2d(256, eps=1e-05, momentum=0.1, affine=True, track_running_stats=True)</td>\n",
       "                        <td id=\"T_883e80f2_0b1a_11ea_a4b9_80000208fe80row3_col49\" class=\"data row3 col49\" >ReLU()</td>\n",
       "                        <td id=\"T_883e80f2_0b1a_11ea_a4b9_80000208fe80row3_col50\" class=\"data row3 col50\" >Conv2d(256, 256, kernel_size=(3, 3), stride=(1, 1), padding=(1, 1))</td>\n",
       "                        <td id=\"T_883e80f2_0b1a_11ea_a4b9_80000208fe80row3_col51\" class=\"data row3 col51\" >BatchNorm2d(256, eps=1e-05, momentum=0.1, affine=True, track_running_stats=True)</td>\n",
       "                        <td id=\"T_883e80f2_0b1a_11ea_a4b9_80000208fe80row3_col52\" class=\"data row3 col52\" >ReLU()</td>\n",
       "                        <td id=\"T_883e80f2_0b1a_11ea_a4b9_80000208fe80row3_col53\" class=\"data row3 col53\" >Conv2d(256, 256, kernel_size=(3, 3), stride=(1, 1), padding=(1, 1))</td>\n",
       "                        <td id=\"T_883e80f2_0b1a_11ea_a4b9_80000208fe80row3_col54\" class=\"data row3 col54\" >ReLU()</td>\n",
       "                        <td id=\"T_883e80f2_0b1a_11ea_a4b9_80000208fe80row3_col55\" class=\"data row3 col55\" >Conv2d(256, 256, kernel_size=(1, 1), stride=(1, 1))</td>\n",
       "                        <td id=\"T_883e80f2_0b1a_11ea_a4b9_80000208fe80row3_col56\" class=\"data row3 col56\" >TorchAdd()</td>\n",
       "                        <td id=\"T_883e80f2_0b1a_11ea_a4b9_80000208fe80row3_col57\" class=\"data row3 col57\" >BatchNorm2d(256, eps=1e-05, momentum=0.1, affine=True, track_running_stats=True)</td>\n",
       "                        <td id=\"T_883e80f2_0b1a_11ea_a4b9_80000208fe80row3_col58\" class=\"data row3 col58\" >ReLU()</td>\n",
       "                        <td id=\"T_883e80f2_0b1a_11ea_a4b9_80000208fe80row3_col59\" class=\"data row3 col59\" >Conv2d(256, 512, kernel_size=(3, 3), stride=(2, 2), padding=(1, 1))</td>\n",
       "                        <td id=\"T_883e80f2_0b1a_11ea_a4b9_80000208fe80row3_col60\" class=\"data row3 col60\" >BatchNorm2d(512, eps=1e-05, momentum=0.1, affine=True, track_running_stats=True)</td>\n",
       "                        <td id=\"T_883e80f2_0b1a_11ea_a4b9_80000208fe80row3_col61\" class=\"data row3 col61\" >ReLU()</td>\n",
       "                        <td id=\"T_883e80f2_0b1a_11ea_a4b9_80000208fe80row3_col62\" class=\"data row3 col62\" >Conv2d(512, 512, kernel_size=(3, 3), stride=(1, 1), padding=(1, 1))</td>\n",
       "                        <td id=\"T_883e80f2_0b1a_11ea_a4b9_80000208fe80row3_col63\" class=\"data row3 col63\" >ReLU()</td>\n",
       "                        <td id=\"T_883e80f2_0b1a_11ea_a4b9_80000208fe80row3_col64\" class=\"data row3 col64\" >Conv2d(256, 512, kernel_size=(1, 1), stride=(2, 2))</td>\n",
       "                        <td id=\"T_883e80f2_0b1a_11ea_a4b9_80000208fe80row3_col65\" class=\"data row3 col65\" >TorchAdd()</td>\n",
       "                        <td id=\"T_883e80f2_0b1a_11ea_a4b9_80000208fe80row3_col66\" class=\"data row3 col66\" >BatchNorm2d(512, eps=1e-05, momentum=0.1, affine=True, track_running_stats=True)</td>\n",
       "                        <td id=\"T_883e80f2_0b1a_11ea_a4b9_80000208fe80row3_col67\" class=\"data row3 col67\" >ReLU()</td>\n",
       "                        <td id=\"T_883e80f2_0b1a_11ea_a4b9_80000208fe80row3_col68\" class=\"data row3 col68\" >Conv2d(512, 512, kernel_size=(3, 3), stride=(1, 1), padding=(1, 1))</td>\n",
       "                        <td id=\"T_883e80f2_0b1a_11ea_a4b9_80000208fe80row3_col69\" class=\"data row3 col69\" >BatchNorm2d(512, eps=1e-05, momentum=0.1, affine=True, track_running_stats=True)</td>\n",
       "                        <td id=\"T_883e80f2_0b1a_11ea_a4b9_80000208fe80row3_col70\" class=\"data row3 col70\" >ReLU()</td>\n",
       "                        <td id=\"T_883e80f2_0b1a_11ea_a4b9_80000208fe80row3_col71\" class=\"data row3 col71\" >Conv2d(512, 512, kernel_size=(3, 3), stride=(1, 1), padding=(1, 1))</td>\n",
       "                        <td id=\"T_883e80f2_0b1a_11ea_a4b9_80000208fe80row3_col72\" class=\"data row3 col72\" >ReLU()</td>\n",
       "                        <td id=\"T_883e80f2_0b1a_11ea_a4b9_80000208fe80row3_col73\" class=\"data row3 col73\" >Conv2d(512, 512, kernel_size=(1, 1), stride=(1, 1))</td>\n",
       "                        <td id=\"T_883e80f2_0b1a_11ea_a4b9_80000208fe80row3_col74\" class=\"data row3 col74\" >TorchAdd()</td>\n",
       "                        <td id=\"T_883e80f2_0b1a_11ea_a4b9_80000208fe80row3_col75\" class=\"data row3 col75\" >GlobalAvgPool2d()</td>\n",
       "                        <td id=\"T_883e80f2_0b1a_11ea_a4b9_80000208fe80row3_col76\" class=\"data row3 col76\" >Linear(in_features=512, out_features=10, bias=True)</td>\n",
       "            </tr>\n",
       "            <tr>\n",
       "                                <td id=\"T_883e80f2_0b1a_11ea_a4b9_80000208fe80row4_col0\" class=\"data row4 col0\" >144</td>\n",
       "                        <td id=\"T_883e80f2_0b1a_11ea_a4b9_80000208fe80row4_col1\" class=\"data row4 col1\" >Conv2d(1, 64, kernel_size=(3, 3), stride=(1, 1), padding=(1, 1))</td>\n",
       "                        <td id=\"T_883e80f2_0b1a_11ea_a4b9_80000208fe80row4_col2\" class=\"data row4 col2\" >BatchNorm2d(64, eps=1e-05, momentum=0.1, affine=True, track_running_stats=True)</td>\n",
       "                        <td id=\"T_883e80f2_0b1a_11ea_a4b9_80000208fe80row4_col3\" class=\"data row4 col3\" >BatchNorm2d(64, eps=1e-05, momentum=0.1, affine=True, track_running_stats=True)</td>\n",
       "                        <td id=\"T_883e80f2_0b1a_11ea_a4b9_80000208fe80row4_col4\" class=\"data row4 col4\" >ReLU()</td>\n",
       "                        <td id=\"T_883e80f2_0b1a_11ea_a4b9_80000208fe80row4_col5\" class=\"data row4 col5\" >Conv2d(64, 64, kernel_size=(3, 3), stride=(1, 1), padding=(1, 1))</td>\n",
       "                        <td id=\"T_883e80f2_0b1a_11ea_a4b9_80000208fe80row4_col6\" class=\"data row4 col6\" >BatchNorm2d(64, eps=1e-05, momentum=0.1, affine=True, track_running_stats=True)</td>\n",
       "                        <td id=\"T_883e80f2_0b1a_11ea_a4b9_80000208fe80row4_col7\" class=\"data row4 col7\" >ReLU()</td>\n",
       "                        <td id=\"T_883e80f2_0b1a_11ea_a4b9_80000208fe80row4_col8\" class=\"data row4 col8\" >Conv2d(64, 64, kernel_size=(3, 3), stride=(1, 1), padding=(1, 1))</td>\n",
       "                        <td id=\"T_883e80f2_0b1a_11ea_a4b9_80000208fe80row4_col9\" class=\"data row4 col9\" >ReLU()</td>\n",
       "                        <td id=\"T_883e80f2_0b1a_11ea_a4b9_80000208fe80row4_col10\" class=\"data row4 col10\" >Conv2d(64, 64, kernel_size=(1, 1), stride=(1, 1))</td>\n",
       "                        <td id=\"T_883e80f2_0b1a_11ea_a4b9_80000208fe80row4_col11\" class=\"data row4 col11\" >TorchAdd()</td>\n",
       "                        <td id=\"T_883e80f2_0b1a_11ea_a4b9_80000208fe80row4_col12\" class=\"data row4 col12\" >BatchNorm2d(64, eps=1e-05, momentum=0.1, affine=True, track_running_stats=True)</td>\n",
       "                        <td id=\"T_883e80f2_0b1a_11ea_a4b9_80000208fe80row4_col13\" class=\"data row4 col13\" >ReLU()</td>\n",
       "                        <td id=\"T_883e80f2_0b1a_11ea_a4b9_80000208fe80row4_col14\" class=\"data row4 col14\" >Conv2d(64, 64, kernel_size=(3, 3), stride=(1, 1), padding=(1, 1))</td>\n",
       "                        <td id=\"T_883e80f2_0b1a_11ea_a4b9_80000208fe80row4_col15\" class=\"data row4 col15\" >BatchNorm2d(64, eps=1e-05, momentum=0.1, affine=True, track_running_stats=True)</td>\n",
       "                        <td id=\"T_883e80f2_0b1a_11ea_a4b9_80000208fe80row4_col16\" class=\"data row4 col16\" >ReLU()</td>\n",
       "                        <td id=\"T_883e80f2_0b1a_11ea_a4b9_80000208fe80row4_col17\" class=\"data row4 col17\" >Conv2d(64, 64, kernel_size=(3, 3), stride=(1, 1), padding=(1, 1))</td>\n",
       "                        <td id=\"T_883e80f2_0b1a_11ea_a4b9_80000208fe80row4_col18\" class=\"data row4 col18\" >ReLU()</td>\n",
       "                        <td id=\"T_883e80f2_0b1a_11ea_a4b9_80000208fe80row4_col19\" class=\"data row4 col19\" >Conv2d(64, 64, kernel_size=(1, 1), stride=(1, 1))</td>\n",
       "                        <td id=\"T_883e80f2_0b1a_11ea_a4b9_80000208fe80row4_col20\" class=\"data row4 col20\" >TorchAdd()</td>\n",
       "                        <td id=\"T_883e80f2_0b1a_11ea_a4b9_80000208fe80row4_col21\" class=\"data row4 col21\" >BatchNorm2d(64, eps=1e-05, momentum=0.1, affine=True, track_running_stats=True)</td>\n",
       "                        <td id=\"T_883e80f2_0b1a_11ea_a4b9_80000208fe80row4_col22\" class=\"data row4 col22\" >ReLU()</td>\n",
       "                        <td id=\"T_883e80f2_0b1a_11ea_a4b9_80000208fe80row4_col23\" class=\"data row4 col23\" >Conv2d(64, 128, kernel_size=(3, 3), stride=(2, 2), padding=(1, 1))</td>\n",
       "                        <td id=\"T_883e80f2_0b1a_11ea_a4b9_80000208fe80row4_col24\" class=\"data row4 col24\" >BatchNorm2d(128, eps=1e-05, momentum=0.1, affine=True, track_running_stats=True)</td>\n",
       "                        <td id=\"T_883e80f2_0b1a_11ea_a4b9_80000208fe80row4_col25\" class=\"data row4 col25\" >ReLU()</td>\n",
       "                        <td id=\"T_883e80f2_0b1a_11ea_a4b9_80000208fe80row4_col26\" class=\"data row4 col26\" >Conv2d(128, 128, kernel_size=(3, 3), stride=(1, 1), padding=(1, 1))</td>\n",
       "                        <td id=\"T_883e80f2_0b1a_11ea_a4b9_80000208fe80row4_col27\" class=\"data row4 col27\" >ReLU()</td>\n",
       "                        <td id=\"T_883e80f2_0b1a_11ea_a4b9_80000208fe80row4_col28\" class=\"data row4 col28\" >Conv2d(64, 128, kernel_size=(1, 1), stride=(2, 2))</td>\n",
       "                        <td id=\"T_883e80f2_0b1a_11ea_a4b9_80000208fe80row4_col29\" class=\"data row4 col29\" >TorchAdd()</td>\n",
       "                        <td id=\"T_883e80f2_0b1a_11ea_a4b9_80000208fe80row4_col30\" class=\"data row4 col30\" >BatchNorm2d(128, eps=1e-05, momentum=0.1, affine=True, track_running_stats=True)</td>\n",
       "                        <td id=\"T_883e80f2_0b1a_11ea_a4b9_80000208fe80row4_col31\" class=\"data row4 col31\" >ReLU()</td>\n",
       "                        <td id=\"T_883e80f2_0b1a_11ea_a4b9_80000208fe80row4_col32\" class=\"data row4 col32\" >Conv2d(128, 128, kernel_size=(3, 3), stride=(1, 1), padding=(1, 1))</td>\n",
       "                        <td id=\"T_883e80f2_0b1a_11ea_a4b9_80000208fe80row4_col33\" class=\"data row4 col33\" >BatchNorm2d(128, eps=1e-05, momentum=0.1, affine=True, track_running_stats=True)</td>\n",
       "                        <td id=\"T_883e80f2_0b1a_11ea_a4b9_80000208fe80row4_col34\" class=\"data row4 col34\" >ReLU()</td>\n",
       "                        <td id=\"T_883e80f2_0b1a_11ea_a4b9_80000208fe80row4_col35\" class=\"data row4 col35\" >Conv2d(128, 128, kernel_size=(3, 3), stride=(1, 1), padding=(1, 1))</td>\n",
       "                        <td id=\"T_883e80f2_0b1a_11ea_a4b9_80000208fe80row4_col36\" class=\"data row4 col36\" >ReLU()</td>\n",
       "                        <td id=\"T_883e80f2_0b1a_11ea_a4b9_80000208fe80row4_col37\" class=\"data row4 col37\" >Conv2d(128, 128, kernel_size=(1, 1), stride=(1, 1))</td>\n",
       "                        <td id=\"T_883e80f2_0b1a_11ea_a4b9_80000208fe80row4_col38\" class=\"data row4 col38\" >TorchAdd()</td>\n",
       "                        <td id=\"T_883e80f2_0b1a_11ea_a4b9_80000208fe80row4_col39\" class=\"data row4 col39\" >BatchNorm2d(128, eps=1e-05, momentum=0.1, affine=True, track_running_stats=True)</td>\n",
       "                        <td id=\"T_883e80f2_0b1a_11ea_a4b9_80000208fe80row4_col40\" class=\"data row4 col40\" >ReLU()</td>\n",
       "                        <td id=\"T_883e80f2_0b1a_11ea_a4b9_80000208fe80row4_col41\" class=\"data row4 col41\" >Conv2d(128, 256, kernel_size=(3, 3), stride=(2, 2), padding=(1, 1))</td>\n",
       "                        <td id=\"T_883e80f2_0b1a_11ea_a4b9_80000208fe80row4_col42\" class=\"data row4 col42\" >BatchNorm2d(256, eps=1e-05, momentum=0.1, affine=True, track_running_stats=True)</td>\n",
       "                        <td id=\"T_883e80f2_0b1a_11ea_a4b9_80000208fe80row4_col43\" class=\"data row4 col43\" >ReLU()</td>\n",
       "                        <td id=\"T_883e80f2_0b1a_11ea_a4b9_80000208fe80row4_col44\" class=\"data row4 col44\" >Conv2d(256, 256, kernel_size=(3, 3), stride=(1, 1), padding=(1, 1))</td>\n",
       "                        <td id=\"T_883e80f2_0b1a_11ea_a4b9_80000208fe80row4_col45\" class=\"data row4 col45\" >ReLU()</td>\n",
       "                        <td id=\"T_883e80f2_0b1a_11ea_a4b9_80000208fe80row4_col46\" class=\"data row4 col46\" >Conv2d(128, 256, kernel_size=(1, 1), stride=(2, 2))</td>\n",
       "                        <td id=\"T_883e80f2_0b1a_11ea_a4b9_80000208fe80row4_col47\" class=\"data row4 col47\" >TorchAdd()</td>\n",
       "                        <td id=\"T_883e80f2_0b1a_11ea_a4b9_80000208fe80row4_col48\" class=\"data row4 col48\" >BatchNorm2d(256, eps=1e-05, momentum=0.1, affine=True, track_running_stats=True)</td>\n",
       "                        <td id=\"T_883e80f2_0b1a_11ea_a4b9_80000208fe80row4_col49\" class=\"data row4 col49\" >ReLU()</td>\n",
       "                        <td id=\"T_883e80f2_0b1a_11ea_a4b9_80000208fe80row4_col50\" class=\"data row4 col50\" >Conv2d(256, 256, kernel_size=(3, 3), stride=(1, 1), padding=(1, 1))</td>\n",
       "                        <td id=\"T_883e80f2_0b1a_11ea_a4b9_80000208fe80row4_col51\" class=\"data row4 col51\" >BatchNorm2d(256, eps=1e-05, momentum=0.1, affine=True, track_running_stats=True)</td>\n",
       "                        <td id=\"T_883e80f2_0b1a_11ea_a4b9_80000208fe80row4_col52\" class=\"data row4 col52\" >ReLU()</td>\n",
       "                        <td id=\"T_883e80f2_0b1a_11ea_a4b9_80000208fe80row4_col53\" class=\"data row4 col53\" >Conv2d(256, 256, kernel_size=(3, 3), stride=(1, 1), padding=(1, 1))</td>\n",
       "                        <td id=\"T_883e80f2_0b1a_11ea_a4b9_80000208fe80row4_col54\" class=\"data row4 col54\" >ReLU()</td>\n",
       "                        <td id=\"T_883e80f2_0b1a_11ea_a4b9_80000208fe80row4_col55\" class=\"data row4 col55\" >Conv2d(256, 256, kernel_size=(1, 1), stride=(1, 1))</td>\n",
       "                        <td id=\"T_883e80f2_0b1a_11ea_a4b9_80000208fe80row4_col56\" class=\"data row4 col56\" >TorchAdd()</td>\n",
       "                        <td id=\"T_883e80f2_0b1a_11ea_a4b9_80000208fe80row4_col57\" class=\"data row4 col57\" >BatchNorm2d(256, eps=1e-05, momentum=0.1, affine=True, track_running_stats=True)</td>\n",
       "                        <td id=\"T_883e80f2_0b1a_11ea_a4b9_80000208fe80row4_col58\" class=\"data row4 col58\" >ReLU()</td>\n",
       "                        <td id=\"T_883e80f2_0b1a_11ea_a4b9_80000208fe80row4_col59\" class=\"data row4 col59\" >Conv2d(256, 512, kernel_size=(3, 3), stride=(2, 2), padding=(1, 1))</td>\n",
       "                        <td id=\"T_883e80f2_0b1a_11ea_a4b9_80000208fe80row4_col60\" class=\"data row4 col60\" >BatchNorm2d(512, eps=1e-05, momentum=0.1, affine=True, track_running_stats=True)</td>\n",
       "                        <td id=\"T_883e80f2_0b1a_11ea_a4b9_80000208fe80row4_col61\" class=\"data row4 col61\" >ReLU()</td>\n",
       "                        <td id=\"T_883e80f2_0b1a_11ea_a4b9_80000208fe80row4_col62\" class=\"data row4 col62\" >Conv2d(512, 512, kernel_size=(3, 3), stride=(1, 1), padding=(1, 1))</td>\n",
       "                        <td id=\"T_883e80f2_0b1a_11ea_a4b9_80000208fe80row4_col63\" class=\"data row4 col63\" >ReLU()</td>\n",
       "                        <td id=\"T_883e80f2_0b1a_11ea_a4b9_80000208fe80row4_col64\" class=\"data row4 col64\" >Conv2d(256, 512, kernel_size=(1, 1), stride=(2, 2))</td>\n",
       "                        <td id=\"T_883e80f2_0b1a_11ea_a4b9_80000208fe80row4_col65\" class=\"data row4 col65\" >TorchAdd()</td>\n",
       "                        <td id=\"T_883e80f2_0b1a_11ea_a4b9_80000208fe80row4_col66\" class=\"data row4 col66\" >BatchNorm2d(512, eps=1e-05, momentum=0.1, affine=True, track_running_stats=True)</td>\n",
       "                        <td id=\"T_883e80f2_0b1a_11ea_a4b9_80000208fe80row4_col67\" class=\"data row4 col67\" >ReLU()</td>\n",
       "                        <td id=\"T_883e80f2_0b1a_11ea_a4b9_80000208fe80row4_col68\" class=\"data row4 col68\" >Conv2d(512, 512, kernel_size=(3, 3), stride=(1, 1), padding=(1, 1))</td>\n",
       "                        <td id=\"T_883e80f2_0b1a_11ea_a4b9_80000208fe80row4_col69\" class=\"data row4 col69\" >BatchNorm2d(512, eps=1e-05, momentum=0.1, affine=True, track_running_stats=True)</td>\n",
       "                        <td id=\"T_883e80f2_0b1a_11ea_a4b9_80000208fe80row4_col70\" class=\"data row4 col70\" >ReLU()</td>\n",
       "                        <td id=\"T_883e80f2_0b1a_11ea_a4b9_80000208fe80row4_col71\" class=\"data row4 col71\" >Conv2d(512, 512, kernel_size=(3, 3), stride=(1, 1), padding=(1, 1))</td>\n",
       "                        <td id=\"T_883e80f2_0b1a_11ea_a4b9_80000208fe80row4_col72\" class=\"data row4 col72\" >ReLU()</td>\n",
       "                        <td id=\"T_883e80f2_0b1a_11ea_a4b9_80000208fe80row4_col73\" class=\"data row4 col73\" >Conv2d(512, 512, kernel_size=(1, 1), stride=(1, 1))</td>\n",
       "                        <td id=\"T_883e80f2_0b1a_11ea_a4b9_80000208fe80row4_col74\" class=\"data row4 col74\" >TorchAdd()</td>\n",
       "                        <td id=\"T_883e80f2_0b1a_11ea_a4b9_80000208fe80row4_col75\" class=\"data row4 col75\" >GlobalAvgPool2d()</td>\n",
       "                        <td id=\"T_883e80f2_0b1a_11ea_a4b9_80000208fe80row4_col76\" class=\"data row4 col76\" >Linear(in_features=512, out_features=10, bias=True)</td>\n",
       "            </tr>\n",
       "            <tr>\n",
       "                                <td id=\"T_883e80f2_0b1a_11ea_a4b9_80000208fe80row5_col0\" class=\"data row5 col0\" >180</td>\n",
       "                        <td id=\"T_883e80f2_0b1a_11ea_a4b9_80000208fe80row5_col1\" class=\"data row5 col1\" >Conv2d(1, 64, kernel_size=(3, 3), stride=(1, 1), padding=(1, 1))</td>\n",
       "                        <td id=\"T_883e80f2_0b1a_11ea_a4b9_80000208fe80row5_col2\" class=\"data row5 col2\" >BatchNorm2d(64, eps=1e-05, momentum=0.1, affine=True, track_running_stats=True)</td>\n",
       "                        <td id=\"T_883e80f2_0b1a_11ea_a4b9_80000208fe80row5_col3\" class=\"data row5 col3\" >BatchNorm2d(64, eps=1e-05, momentum=0.1, affine=True, track_running_stats=True)</td>\n",
       "                        <td id=\"T_883e80f2_0b1a_11ea_a4b9_80000208fe80row5_col4\" class=\"data row5 col4\" >ReLU()</td>\n",
       "                        <td id=\"T_883e80f2_0b1a_11ea_a4b9_80000208fe80row5_col5\" class=\"data row5 col5\" >Conv2d(64, 64, kernel_size=(3, 3), stride=(1, 1), padding=(1, 1))</td>\n",
       "                        <td id=\"T_883e80f2_0b1a_11ea_a4b9_80000208fe80row5_col6\" class=\"data row5 col6\" >BatchNorm2d(64, eps=1e-05, momentum=0.1, affine=True, track_running_stats=True)</td>\n",
       "                        <td id=\"T_883e80f2_0b1a_11ea_a4b9_80000208fe80row5_col7\" class=\"data row5 col7\" >ReLU()</td>\n",
       "                        <td id=\"T_883e80f2_0b1a_11ea_a4b9_80000208fe80row5_col8\" class=\"data row5 col8\" >Conv2d(64, 64, kernel_size=(3, 3), stride=(1, 1), padding=(1, 1))</td>\n",
       "                        <td id=\"T_883e80f2_0b1a_11ea_a4b9_80000208fe80row5_col9\" class=\"data row5 col9\" >ReLU()</td>\n",
       "                        <td id=\"T_883e80f2_0b1a_11ea_a4b9_80000208fe80row5_col10\" class=\"data row5 col10\" >Conv2d(64, 64, kernel_size=(1, 1), stride=(1, 1))</td>\n",
       "                        <td id=\"T_883e80f2_0b1a_11ea_a4b9_80000208fe80row5_col11\" class=\"data row5 col11\" >TorchAdd()</td>\n",
       "                        <td id=\"T_883e80f2_0b1a_11ea_a4b9_80000208fe80row5_col12\" class=\"data row5 col12\" >BatchNorm2d(64, eps=1e-05, momentum=0.1, affine=True, track_running_stats=True)</td>\n",
       "                        <td id=\"T_883e80f2_0b1a_11ea_a4b9_80000208fe80row5_col13\" class=\"data row5 col13\" >ReLU()</td>\n",
       "                        <td id=\"T_883e80f2_0b1a_11ea_a4b9_80000208fe80row5_col14\" class=\"data row5 col14\" >Conv2d(64, 64, kernel_size=(3, 3), stride=(1, 1), padding=(1, 1))</td>\n",
       "                        <td id=\"T_883e80f2_0b1a_11ea_a4b9_80000208fe80row5_col15\" class=\"data row5 col15\" >BatchNorm2d(64, eps=1e-05, momentum=0.1, affine=True, track_running_stats=True)</td>\n",
       "                        <td id=\"T_883e80f2_0b1a_11ea_a4b9_80000208fe80row5_col16\" class=\"data row5 col16\" >ReLU()</td>\n",
       "                        <td id=\"T_883e80f2_0b1a_11ea_a4b9_80000208fe80row5_col17\" class=\"data row5 col17\" >Conv2d(64, 64, kernel_size=(3, 3), stride=(1, 1), padding=(1, 1))</td>\n",
       "                        <td id=\"T_883e80f2_0b1a_11ea_a4b9_80000208fe80row5_col18\" class=\"data row5 col18\" >ReLU()</td>\n",
       "                        <td id=\"T_883e80f2_0b1a_11ea_a4b9_80000208fe80row5_col19\" class=\"data row5 col19\" >Conv2d(64, 64, kernel_size=(1, 1), stride=(1, 1))</td>\n",
       "                        <td id=\"T_883e80f2_0b1a_11ea_a4b9_80000208fe80row5_col20\" class=\"data row5 col20\" >TorchAdd()</td>\n",
       "                        <td id=\"T_883e80f2_0b1a_11ea_a4b9_80000208fe80row5_col21\" class=\"data row5 col21\" >BatchNorm2d(64, eps=1e-05, momentum=0.1, affine=True, track_running_stats=True)</td>\n",
       "                        <td id=\"T_883e80f2_0b1a_11ea_a4b9_80000208fe80row5_col22\" class=\"data row5 col22\" >ReLU()</td>\n",
       "                        <td id=\"T_883e80f2_0b1a_11ea_a4b9_80000208fe80row5_col23\" class=\"data row5 col23\" >Conv2d(64, 128, kernel_size=(3, 3), stride=(2, 2), padding=(1, 1))</td>\n",
       "                        <td id=\"T_883e80f2_0b1a_11ea_a4b9_80000208fe80row5_col24\" class=\"data row5 col24\" >BatchNorm2d(128, eps=1e-05, momentum=0.1, affine=True, track_running_stats=True)</td>\n",
       "                        <td id=\"T_883e80f2_0b1a_11ea_a4b9_80000208fe80row5_col25\" class=\"data row5 col25\" >ReLU()</td>\n",
       "                        <td id=\"T_883e80f2_0b1a_11ea_a4b9_80000208fe80row5_col26\" class=\"data row5 col26\" >Conv2d(128, 128, kernel_size=(3, 3), stride=(1, 1), padding=(1, 1))</td>\n",
       "                        <td id=\"T_883e80f2_0b1a_11ea_a4b9_80000208fe80row5_col27\" class=\"data row5 col27\" >ReLU()</td>\n",
       "                        <td id=\"T_883e80f2_0b1a_11ea_a4b9_80000208fe80row5_col28\" class=\"data row5 col28\" >Conv2d(64, 128, kernel_size=(1, 1), stride=(2, 2))</td>\n",
       "                        <td id=\"T_883e80f2_0b1a_11ea_a4b9_80000208fe80row5_col29\" class=\"data row5 col29\" >TorchAdd()</td>\n",
       "                        <td id=\"T_883e80f2_0b1a_11ea_a4b9_80000208fe80row5_col30\" class=\"data row5 col30\" >BatchNorm2d(128, eps=1e-05, momentum=0.1, affine=True, track_running_stats=True)</td>\n",
       "                        <td id=\"T_883e80f2_0b1a_11ea_a4b9_80000208fe80row5_col31\" class=\"data row5 col31\" >ReLU()</td>\n",
       "                        <td id=\"T_883e80f2_0b1a_11ea_a4b9_80000208fe80row5_col32\" class=\"data row5 col32\" >Conv2d(128, 128, kernel_size=(3, 3), stride=(1, 1), padding=(1, 1))</td>\n",
       "                        <td id=\"T_883e80f2_0b1a_11ea_a4b9_80000208fe80row5_col33\" class=\"data row5 col33\" >BatchNorm2d(128, eps=1e-05, momentum=0.1, affine=True, track_running_stats=True)</td>\n",
       "                        <td id=\"T_883e80f2_0b1a_11ea_a4b9_80000208fe80row5_col34\" class=\"data row5 col34\" >ReLU()</td>\n",
       "                        <td id=\"T_883e80f2_0b1a_11ea_a4b9_80000208fe80row5_col35\" class=\"data row5 col35\" >Conv2d(128, 128, kernel_size=(3, 3), stride=(1, 1), padding=(1, 1))</td>\n",
       "                        <td id=\"T_883e80f2_0b1a_11ea_a4b9_80000208fe80row5_col36\" class=\"data row5 col36\" >ReLU()</td>\n",
       "                        <td id=\"T_883e80f2_0b1a_11ea_a4b9_80000208fe80row5_col37\" class=\"data row5 col37\" >Conv2d(128, 128, kernel_size=(1, 1), stride=(1, 1))</td>\n",
       "                        <td id=\"T_883e80f2_0b1a_11ea_a4b9_80000208fe80row5_col38\" class=\"data row5 col38\" >TorchAdd()</td>\n",
       "                        <td id=\"T_883e80f2_0b1a_11ea_a4b9_80000208fe80row5_col39\" class=\"data row5 col39\" >BatchNorm2d(128, eps=1e-05, momentum=0.1, affine=True, track_running_stats=True)</td>\n",
       "                        <td id=\"T_883e80f2_0b1a_11ea_a4b9_80000208fe80row5_col40\" class=\"data row5 col40\" >ReLU()</td>\n",
       "                        <td id=\"T_883e80f2_0b1a_11ea_a4b9_80000208fe80row5_col41\" class=\"data row5 col41\" >Conv2d(128, 256, kernel_size=(3, 3), stride=(2, 2), padding=(1, 1))</td>\n",
       "                        <td id=\"T_883e80f2_0b1a_11ea_a4b9_80000208fe80row5_col42\" class=\"data row5 col42\" >BatchNorm2d(256, eps=1e-05, momentum=0.1, affine=True, track_running_stats=True)</td>\n",
       "                        <td id=\"T_883e80f2_0b1a_11ea_a4b9_80000208fe80row5_col43\" class=\"data row5 col43\" >ReLU()</td>\n",
       "                        <td id=\"T_883e80f2_0b1a_11ea_a4b9_80000208fe80row5_col44\" class=\"data row5 col44\" >Conv2d(256, 256, kernel_size=(3, 3), stride=(1, 1), padding=(1, 1))</td>\n",
       "                        <td id=\"T_883e80f2_0b1a_11ea_a4b9_80000208fe80row5_col45\" class=\"data row5 col45\" >ReLU()</td>\n",
       "                        <td id=\"T_883e80f2_0b1a_11ea_a4b9_80000208fe80row5_col46\" class=\"data row5 col46\" >Conv2d(128, 256, kernel_size=(1, 1), stride=(2, 2))</td>\n",
       "                        <td id=\"T_883e80f2_0b1a_11ea_a4b9_80000208fe80row5_col47\" class=\"data row5 col47\" >TorchAdd()</td>\n",
       "                        <td id=\"T_883e80f2_0b1a_11ea_a4b9_80000208fe80row5_col48\" class=\"data row5 col48\" >BatchNorm2d(256, eps=1e-05, momentum=0.1, affine=True, track_running_stats=True)</td>\n",
       "                        <td id=\"T_883e80f2_0b1a_11ea_a4b9_80000208fe80row5_col49\" class=\"data row5 col49\" >ReLU()</td>\n",
       "                        <td id=\"T_883e80f2_0b1a_11ea_a4b9_80000208fe80row5_col50\" class=\"data row5 col50\" >Conv2d(256, 256, kernel_size=(3, 3), stride=(1, 1), padding=(1, 1))</td>\n",
       "                        <td id=\"T_883e80f2_0b1a_11ea_a4b9_80000208fe80row5_col51\" class=\"data row5 col51\" >BatchNorm2d(256, eps=1e-05, momentum=0.1, affine=True, track_running_stats=True)</td>\n",
       "                        <td id=\"T_883e80f2_0b1a_11ea_a4b9_80000208fe80row5_col52\" class=\"data row5 col52\" >ReLU()</td>\n",
       "                        <td id=\"T_883e80f2_0b1a_11ea_a4b9_80000208fe80row5_col53\" class=\"data row5 col53\" >Conv2d(256, 256, kernel_size=(3, 3), stride=(1, 1), padding=(1, 1))</td>\n",
       "                        <td id=\"T_883e80f2_0b1a_11ea_a4b9_80000208fe80row5_col54\" class=\"data row5 col54\" >ReLU()</td>\n",
       "                        <td id=\"T_883e80f2_0b1a_11ea_a4b9_80000208fe80row5_col55\" class=\"data row5 col55\" >Conv2d(256, 256, kernel_size=(1, 1), stride=(1, 1))</td>\n",
       "                        <td id=\"T_883e80f2_0b1a_11ea_a4b9_80000208fe80row5_col56\" class=\"data row5 col56\" >TorchAdd()</td>\n",
       "                        <td id=\"T_883e80f2_0b1a_11ea_a4b9_80000208fe80row5_col57\" class=\"data row5 col57\" >BatchNorm2d(256, eps=1e-05, momentum=0.1, affine=True, track_running_stats=True)</td>\n",
       "                        <td id=\"T_883e80f2_0b1a_11ea_a4b9_80000208fe80row5_col58\" class=\"data row5 col58\" >ReLU()</td>\n",
       "                        <td id=\"T_883e80f2_0b1a_11ea_a4b9_80000208fe80row5_col59\" class=\"data row5 col59\" >Conv2d(256, 512, kernel_size=(3, 3), stride=(2, 2), padding=(1, 1))</td>\n",
       "                        <td id=\"T_883e80f2_0b1a_11ea_a4b9_80000208fe80row5_col60\" class=\"data row5 col60\" >BatchNorm2d(512, eps=1e-05, momentum=0.1, affine=True, track_running_stats=True)</td>\n",
       "                        <td id=\"T_883e80f2_0b1a_11ea_a4b9_80000208fe80row5_col61\" class=\"data row5 col61\" >ReLU()</td>\n",
       "                        <td id=\"T_883e80f2_0b1a_11ea_a4b9_80000208fe80row5_col62\" class=\"data row5 col62\" >Conv2d(512, 512, kernel_size=(3, 3), stride=(1, 1), padding=(1, 1))</td>\n",
       "                        <td id=\"T_883e80f2_0b1a_11ea_a4b9_80000208fe80row5_col63\" class=\"data row5 col63\" >ReLU()</td>\n",
       "                        <td id=\"T_883e80f2_0b1a_11ea_a4b9_80000208fe80row5_col64\" class=\"data row5 col64\" >Conv2d(256, 512, kernel_size=(1, 1), stride=(2, 2))</td>\n",
       "                        <td id=\"T_883e80f2_0b1a_11ea_a4b9_80000208fe80row5_col65\" class=\"data row5 col65\" >TorchAdd()</td>\n",
       "                        <td id=\"T_883e80f2_0b1a_11ea_a4b9_80000208fe80row5_col66\" class=\"data row5 col66\" >BatchNorm2d(512, eps=1e-05, momentum=0.1, affine=True, track_running_stats=True)</td>\n",
       "                        <td id=\"T_883e80f2_0b1a_11ea_a4b9_80000208fe80row5_col67\" class=\"data row5 col67\" >ReLU()</td>\n",
       "                        <td id=\"T_883e80f2_0b1a_11ea_a4b9_80000208fe80row5_col68\" class=\"data row5 col68\" >Conv2d(512, 512, kernel_size=(3, 3), stride=(1, 1), padding=(1, 1))</td>\n",
       "                        <td id=\"T_883e80f2_0b1a_11ea_a4b9_80000208fe80row5_col69\" class=\"data row5 col69\" >BatchNorm2d(512, eps=1e-05, momentum=0.1, affine=True, track_running_stats=True)</td>\n",
       "                        <td id=\"T_883e80f2_0b1a_11ea_a4b9_80000208fe80row5_col70\" class=\"data row5 col70\" >ReLU()</td>\n",
       "                        <td id=\"T_883e80f2_0b1a_11ea_a4b9_80000208fe80row5_col71\" class=\"data row5 col71\" >Conv2d(512, 512, kernel_size=(3, 3), stride=(1, 1), padding=(1, 1))</td>\n",
       "                        <td id=\"T_883e80f2_0b1a_11ea_a4b9_80000208fe80row5_col72\" class=\"data row5 col72\" >ReLU()</td>\n",
       "                        <td id=\"T_883e80f2_0b1a_11ea_a4b9_80000208fe80row5_col73\" class=\"data row5 col73\" >Conv2d(512, 512, kernel_size=(1, 1), stride=(1, 1))</td>\n",
       "                        <td id=\"T_883e80f2_0b1a_11ea_a4b9_80000208fe80row5_col74\" class=\"data row5 col74\" >TorchAdd()</td>\n",
       "                        <td id=\"T_883e80f2_0b1a_11ea_a4b9_80000208fe80row5_col75\" class=\"data row5 col75\" >GlobalAvgPool2d()</td>\n",
       "                        <td id=\"T_883e80f2_0b1a_11ea_a4b9_80000208fe80row5_col76\" class=\"data row5 col76\" >Linear(in_features=512, out_features=10, bias=True)</td>\n",
       "            </tr>\n",
       "    </tbody></table>"
      ],
      "text/plain": [
       "<pandas.io.formats.style.Styler at 0x2aca0b7ba588>"
      ]
     },
     "metadata": {},
     "output_type": "display_data"
    },
    {
     "data": {
      "text/plain": [
       "'AutoKerasClean #1'"
      ]
     },
     "metadata": {},
     "output_type": "display_data"
    },
    {
     "data": {
      "text/html": [
       "<style  type=\"text/css\" >\n",
       "</style><table id=\"T_88473f8a_0b1a_11ea_a4b9_80000208fe80\" ><thead>    <tr>        <th class=\"col_heading level0 col0\" >max_angle</th>        <th class=\"col_heading level0 col1\" >test_acc</th>        <th class=\"col_heading level0 col2\" >train_acc</th>        <th class=\"col_heading level0 col3\" >time_err</th>        <th class=\"col_heading level0 col4\" >time_pre</th>        <th class=\"col_heading level0 col5\" >time_mod</th>    </tr></thead><tbody>\n",
       "                <tr>\n",
       "                                <td id=\"T_88473f8a_0b1a_11ea_a4b9_80000208fe80row0_col0\" class=\"data row0 col0\" >0</td>\n",
       "                        <td id=\"T_88473f8a_0b1a_11ea_a4b9_80000208fe80row0_col1\" class=\"data row0 col1\" >0.988</td>\n",
       "                        <td id=\"T_88473f8a_0b1a_11ea_a4b9_80000208fe80row0_col2\" class=\"data row0 col2\" >0.999</td>\n",
       "                        <td id=\"T_88473f8a_0b1a_11ea_a4b9_80000208fe80row0_col3\" class=\"data row0 col3\" >0.191</td>\n",
       "                        <td id=\"T_88473f8a_0b1a_11ea_a4b9_80000208fe80row0_col4\" class=\"data row0 col4\" >0.001</td>\n",
       "                        <td id=\"T_88473f8a_0b1a_11ea_a4b9_80000208fe80row0_col5\" class=\"data row0 col5\" >903.215</td>\n",
       "            </tr>\n",
       "            <tr>\n",
       "                                <td id=\"T_88473f8a_0b1a_11ea_a4b9_80000208fe80row1_col0\" class=\"data row1 col0\" >36</td>\n",
       "                        <td id=\"T_88473f8a_0b1a_11ea_a4b9_80000208fe80row1_col1\" class=\"data row1 col1\" >0.72</td>\n",
       "                        <td id=\"T_88473f8a_0b1a_11ea_a4b9_80000208fe80row1_col2\" class=\"data row1 col2\" >0.999</td>\n",
       "                        <td id=\"T_88473f8a_0b1a_11ea_a4b9_80000208fe80row1_col3\" class=\"data row1 col3\" >0.217</td>\n",
       "                        <td id=\"T_88473f8a_0b1a_11ea_a4b9_80000208fe80row1_col4\" class=\"data row1 col4\" >0.002</td>\n",
       "                        <td id=\"T_88473f8a_0b1a_11ea_a4b9_80000208fe80row1_col5\" class=\"data row1 col5\" >905.413</td>\n",
       "            </tr>\n",
       "            <tr>\n",
       "                                <td id=\"T_88473f8a_0b1a_11ea_a4b9_80000208fe80row2_col0\" class=\"data row2 col0\" >72</td>\n",
       "                        <td id=\"T_88473f8a_0b1a_11ea_a4b9_80000208fe80row2_col1\" class=\"data row2 col1\" >0.44</td>\n",
       "                        <td id=\"T_88473f8a_0b1a_11ea_a4b9_80000208fe80row2_col2\" class=\"data row2 col2\" >0.999</td>\n",
       "                        <td id=\"T_88473f8a_0b1a_11ea_a4b9_80000208fe80row2_col3\" class=\"data row2 col3\" >0.206</td>\n",
       "                        <td id=\"T_88473f8a_0b1a_11ea_a4b9_80000208fe80row2_col4\" class=\"data row2 col4\" >0.001</td>\n",
       "                        <td id=\"T_88473f8a_0b1a_11ea_a4b9_80000208fe80row2_col5\" class=\"data row2 col5\" >905.272</td>\n",
       "            </tr>\n",
       "            <tr>\n",
       "                                <td id=\"T_88473f8a_0b1a_11ea_a4b9_80000208fe80row3_col0\" class=\"data row3 col0\" >108</td>\n",
       "                        <td id=\"T_88473f8a_0b1a_11ea_a4b9_80000208fe80row3_col1\" class=\"data row3 col1\" >0.381</td>\n",
       "                        <td id=\"T_88473f8a_0b1a_11ea_a4b9_80000208fe80row3_col2\" class=\"data row3 col2\" >0.999</td>\n",
       "                        <td id=\"T_88473f8a_0b1a_11ea_a4b9_80000208fe80row3_col3\" class=\"data row3 col3\" >0.213</td>\n",
       "                        <td id=\"T_88473f8a_0b1a_11ea_a4b9_80000208fe80row3_col4\" class=\"data row3 col4\" >0.001</td>\n",
       "                        <td id=\"T_88473f8a_0b1a_11ea_a4b9_80000208fe80row3_col5\" class=\"data row3 col5\" >904.891</td>\n",
       "            </tr>\n",
       "            <tr>\n",
       "                                <td id=\"T_88473f8a_0b1a_11ea_a4b9_80000208fe80row4_col0\" class=\"data row4 col0\" >144</td>\n",
       "                        <td id=\"T_88473f8a_0b1a_11ea_a4b9_80000208fe80row4_col1\" class=\"data row4 col1\" >0.3</td>\n",
       "                        <td id=\"T_88473f8a_0b1a_11ea_a4b9_80000208fe80row4_col2\" class=\"data row4 col2\" >0.999</td>\n",
       "                        <td id=\"T_88473f8a_0b1a_11ea_a4b9_80000208fe80row4_col3\" class=\"data row4 col3\" >0.225</td>\n",
       "                        <td id=\"T_88473f8a_0b1a_11ea_a4b9_80000208fe80row4_col4\" class=\"data row4 col4\" >0.001</td>\n",
       "                        <td id=\"T_88473f8a_0b1a_11ea_a4b9_80000208fe80row4_col5\" class=\"data row4 col5\" >922.529</td>\n",
       "            </tr>\n",
       "            <tr>\n",
       "                                <td id=\"T_88473f8a_0b1a_11ea_a4b9_80000208fe80row5_col0\" class=\"data row5 col0\" >180</td>\n",
       "                        <td id=\"T_88473f8a_0b1a_11ea_a4b9_80000208fe80row5_col1\" class=\"data row5 col1\" >0.28</td>\n",
       "                        <td id=\"T_88473f8a_0b1a_11ea_a4b9_80000208fe80row5_col2\" class=\"data row5 col2\" >0.999</td>\n",
       "                        <td id=\"T_88473f8a_0b1a_11ea_a4b9_80000208fe80row5_col3\" class=\"data row5 col3\" >0.213</td>\n",
       "                        <td id=\"T_88473f8a_0b1a_11ea_a4b9_80000208fe80row5_col4\" class=\"data row5 col4\" >0.001</td>\n",
       "                        <td id=\"T_88473f8a_0b1a_11ea_a4b9_80000208fe80row5_col5\" class=\"data row5 col5\" >913.534</td>\n",
       "            </tr>\n",
       "    </tbody></table>"
      ],
      "text/plain": [
       "<pandas.io.formats.style.Styler at 0x2aca5a52ab70>"
      ]
     },
     "metadata": {},
     "output_type": "display_data"
    },
    {
     "data": {
      "text/html": [
       "<style  type=\"text/css\" >\n",
       "</style><table id=\"T_8849defc_0b1a_11ea_a4b9_80000208fe80\" ><thead>    <tr>        <th class=\"col_heading level0 col0\" >max_angle</th>        <th class=\"col_heading level0 col1\" >pipe_0</th>        <th class=\"col_heading level0 col2\" >pipe_1</th>        <th class=\"col_heading level0 col3\" >pipe_2</th>        <th class=\"col_heading level0 col4\" >pipe_3</th>        <th class=\"col_heading level0 col5\" >pipe_4</th>        <th class=\"col_heading level0 col6\" >pipe_5</th>        <th class=\"col_heading level0 col7\" >pipe_6</th>        <th class=\"col_heading level0 col8\" >pipe_7</th>        <th class=\"col_heading level0 col9\" >pipe_8</th>        <th class=\"col_heading level0 col10\" >pipe_9</th>        <th class=\"col_heading level0 col11\" >pipe_10</th>        <th class=\"col_heading level0 col12\" >pipe_11</th>        <th class=\"col_heading level0 col13\" >pipe_12</th>        <th class=\"col_heading level0 col14\" >pipe_13</th>        <th class=\"col_heading level0 col15\" >pipe_14</th>        <th class=\"col_heading level0 col16\" >pipe_15</th>        <th class=\"col_heading level0 col17\" >pipe_16</th>        <th class=\"col_heading level0 col18\" >pipe_17</th>        <th class=\"col_heading level0 col19\" >pipe_18</th>        <th class=\"col_heading level0 col20\" >pipe_19</th>        <th class=\"col_heading level0 col21\" >pipe_20</th>        <th class=\"col_heading level0 col22\" >pipe_21</th>        <th class=\"col_heading level0 col23\" >pipe_22</th>        <th class=\"col_heading level0 col24\" >pipe_23</th>        <th class=\"col_heading level0 col25\" >pipe_24</th>        <th class=\"col_heading level0 col26\" >pipe_25</th>        <th class=\"col_heading level0 col27\" >pipe_26</th>        <th class=\"col_heading level0 col28\" >pipe_27</th>        <th class=\"col_heading level0 col29\" >pipe_28</th>        <th class=\"col_heading level0 col30\" >pipe_29</th>        <th class=\"col_heading level0 col31\" >pipe_30</th>        <th class=\"col_heading level0 col32\" >pipe_31</th>        <th class=\"col_heading level0 col33\" >pipe_32</th>        <th class=\"col_heading level0 col34\" >pipe_33</th>        <th class=\"col_heading level0 col35\" >pipe_34</th>        <th class=\"col_heading level0 col36\" >pipe_35</th>        <th class=\"col_heading level0 col37\" >pipe_36</th>        <th class=\"col_heading level0 col38\" >pipe_37</th>        <th class=\"col_heading level0 col39\" >pipe_38</th>        <th class=\"col_heading level0 col40\" >pipe_39</th>        <th class=\"col_heading level0 col41\" >pipe_40</th>        <th class=\"col_heading level0 col42\" >pipe_41</th>        <th class=\"col_heading level0 col43\" >pipe_42</th>        <th class=\"col_heading level0 col44\" >pipe_43</th>        <th class=\"col_heading level0 col45\" >pipe_44</th>        <th class=\"col_heading level0 col46\" >pipe_45</th>        <th class=\"col_heading level0 col47\" >pipe_46</th>        <th class=\"col_heading level0 col48\" >pipe_47</th>        <th class=\"col_heading level0 col49\" >pipe_48</th>        <th class=\"col_heading level0 col50\" >pipe_49</th>        <th class=\"col_heading level0 col51\" >pipe_50</th>        <th class=\"col_heading level0 col52\" >pipe_51</th>        <th class=\"col_heading level0 col53\" >pipe_52</th>        <th class=\"col_heading level0 col54\" >pipe_53</th>        <th class=\"col_heading level0 col55\" >pipe_54</th>        <th class=\"col_heading level0 col56\" >pipe_55</th>        <th class=\"col_heading level0 col57\" >pipe_56</th>        <th class=\"col_heading level0 col58\" >pipe_57</th>        <th class=\"col_heading level0 col59\" >pipe_58</th>        <th class=\"col_heading level0 col60\" >pipe_59</th>        <th class=\"col_heading level0 col61\" >pipe_60</th>        <th class=\"col_heading level0 col62\" >pipe_61</th>        <th class=\"col_heading level0 col63\" >pipe_62</th>        <th class=\"col_heading level0 col64\" >pipe_63</th>        <th class=\"col_heading level0 col65\" >pipe_64</th>        <th class=\"col_heading level0 col66\" >pipe_65</th>        <th class=\"col_heading level0 col67\" >pipe_66</th>        <th class=\"col_heading level0 col68\" >pipe_67</th>        <th class=\"col_heading level0 col69\" >pipe_68</th>        <th class=\"col_heading level0 col70\" >pipe_69</th>        <th class=\"col_heading level0 col71\" >pipe_70</th>        <th class=\"col_heading level0 col72\" >pipe_71</th>        <th class=\"col_heading level0 col73\" >pipe_72</th>        <th class=\"col_heading level0 col74\" >pipe_73</th>        <th class=\"col_heading level0 col75\" >pipe_74</th>        <th class=\"col_heading level0 col76\" >pipe_75</th>    </tr></thead><tbody>\n",
       "                <tr>\n",
       "                                <td id=\"T_8849defc_0b1a_11ea_a4b9_80000208fe80row0_col0\" class=\"data row0 col0\" >0</td>\n",
       "                        <td id=\"T_8849defc_0b1a_11ea_a4b9_80000208fe80row0_col1\" class=\"data row0 col1\" >Conv2d(1, 64, kernel_size=(3, 3), stride=(1, 1), padding=(1, 1))</td>\n",
       "                        <td id=\"T_8849defc_0b1a_11ea_a4b9_80000208fe80row0_col2\" class=\"data row0 col2\" >BatchNorm2d(64, eps=1e-05, momentum=0.1, affine=True, track_running_stats=True)</td>\n",
       "                        <td id=\"T_8849defc_0b1a_11ea_a4b9_80000208fe80row0_col3\" class=\"data row0 col3\" >BatchNorm2d(64, eps=1e-05, momentum=0.1, affine=True, track_running_stats=True)</td>\n",
       "                        <td id=\"T_8849defc_0b1a_11ea_a4b9_80000208fe80row0_col4\" class=\"data row0 col4\" >ReLU()</td>\n",
       "                        <td id=\"T_8849defc_0b1a_11ea_a4b9_80000208fe80row0_col5\" class=\"data row0 col5\" >Conv2d(64, 64, kernel_size=(3, 3), stride=(1, 1), padding=(1, 1))</td>\n",
       "                        <td id=\"T_8849defc_0b1a_11ea_a4b9_80000208fe80row0_col6\" class=\"data row0 col6\" >BatchNorm2d(64, eps=1e-05, momentum=0.1, affine=True, track_running_stats=True)</td>\n",
       "                        <td id=\"T_8849defc_0b1a_11ea_a4b9_80000208fe80row0_col7\" class=\"data row0 col7\" >ReLU()</td>\n",
       "                        <td id=\"T_8849defc_0b1a_11ea_a4b9_80000208fe80row0_col8\" class=\"data row0 col8\" >Conv2d(64, 64, kernel_size=(3, 3), stride=(1, 1), padding=(1, 1))</td>\n",
       "                        <td id=\"T_8849defc_0b1a_11ea_a4b9_80000208fe80row0_col9\" class=\"data row0 col9\" >ReLU()</td>\n",
       "                        <td id=\"T_8849defc_0b1a_11ea_a4b9_80000208fe80row0_col10\" class=\"data row0 col10\" >Conv2d(64, 64, kernel_size=(1, 1), stride=(1, 1))</td>\n",
       "                        <td id=\"T_8849defc_0b1a_11ea_a4b9_80000208fe80row0_col11\" class=\"data row0 col11\" >TorchAdd()</td>\n",
       "                        <td id=\"T_8849defc_0b1a_11ea_a4b9_80000208fe80row0_col12\" class=\"data row0 col12\" >BatchNorm2d(64, eps=1e-05, momentum=0.1, affine=True, track_running_stats=True)</td>\n",
       "                        <td id=\"T_8849defc_0b1a_11ea_a4b9_80000208fe80row0_col13\" class=\"data row0 col13\" >ReLU()</td>\n",
       "                        <td id=\"T_8849defc_0b1a_11ea_a4b9_80000208fe80row0_col14\" class=\"data row0 col14\" >Conv2d(64, 64, kernel_size=(3, 3), stride=(1, 1), padding=(1, 1))</td>\n",
       "                        <td id=\"T_8849defc_0b1a_11ea_a4b9_80000208fe80row0_col15\" class=\"data row0 col15\" >BatchNorm2d(64, eps=1e-05, momentum=0.1, affine=True, track_running_stats=True)</td>\n",
       "                        <td id=\"T_8849defc_0b1a_11ea_a4b9_80000208fe80row0_col16\" class=\"data row0 col16\" >ReLU()</td>\n",
       "                        <td id=\"T_8849defc_0b1a_11ea_a4b9_80000208fe80row0_col17\" class=\"data row0 col17\" >Conv2d(64, 64, kernel_size=(3, 3), stride=(1, 1), padding=(1, 1))</td>\n",
       "                        <td id=\"T_8849defc_0b1a_11ea_a4b9_80000208fe80row0_col18\" class=\"data row0 col18\" >ReLU()</td>\n",
       "                        <td id=\"T_8849defc_0b1a_11ea_a4b9_80000208fe80row0_col19\" class=\"data row0 col19\" >Conv2d(64, 64, kernel_size=(1, 1), stride=(1, 1))</td>\n",
       "                        <td id=\"T_8849defc_0b1a_11ea_a4b9_80000208fe80row0_col20\" class=\"data row0 col20\" >TorchAdd()</td>\n",
       "                        <td id=\"T_8849defc_0b1a_11ea_a4b9_80000208fe80row0_col21\" class=\"data row0 col21\" >BatchNorm2d(64, eps=1e-05, momentum=0.1, affine=True, track_running_stats=True)</td>\n",
       "                        <td id=\"T_8849defc_0b1a_11ea_a4b9_80000208fe80row0_col22\" class=\"data row0 col22\" >ReLU()</td>\n",
       "                        <td id=\"T_8849defc_0b1a_11ea_a4b9_80000208fe80row0_col23\" class=\"data row0 col23\" >Conv2d(64, 128, kernel_size=(3, 3), stride=(2, 2), padding=(1, 1))</td>\n",
       "                        <td id=\"T_8849defc_0b1a_11ea_a4b9_80000208fe80row0_col24\" class=\"data row0 col24\" >BatchNorm2d(128, eps=1e-05, momentum=0.1, affine=True, track_running_stats=True)</td>\n",
       "                        <td id=\"T_8849defc_0b1a_11ea_a4b9_80000208fe80row0_col25\" class=\"data row0 col25\" >ReLU()</td>\n",
       "                        <td id=\"T_8849defc_0b1a_11ea_a4b9_80000208fe80row0_col26\" class=\"data row0 col26\" >Conv2d(128, 128, kernel_size=(3, 3), stride=(1, 1), padding=(1, 1))</td>\n",
       "                        <td id=\"T_8849defc_0b1a_11ea_a4b9_80000208fe80row0_col27\" class=\"data row0 col27\" >ReLU()</td>\n",
       "                        <td id=\"T_8849defc_0b1a_11ea_a4b9_80000208fe80row0_col28\" class=\"data row0 col28\" >Conv2d(64, 128, kernel_size=(1, 1), stride=(2, 2))</td>\n",
       "                        <td id=\"T_8849defc_0b1a_11ea_a4b9_80000208fe80row0_col29\" class=\"data row0 col29\" >TorchAdd()</td>\n",
       "                        <td id=\"T_8849defc_0b1a_11ea_a4b9_80000208fe80row0_col30\" class=\"data row0 col30\" >BatchNorm2d(128, eps=1e-05, momentum=0.1, affine=True, track_running_stats=True)</td>\n",
       "                        <td id=\"T_8849defc_0b1a_11ea_a4b9_80000208fe80row0_col31\" class=\"data row0 col31\" >ReLU()</td>\n",
       "                        <td id=\"T_8849defc_0b1a_11ea_a4b9_80000208fe80row0_col32\" class=\"data row0 col32\" >Conv2d(128, 128, kernel_size=(3, 3), stride=(1, 1), padding=(1, 1))</td>\n",
       "                        <td id=\"T_8849defc_0b1a_11ea_a4b9_80000208fe80row0_col33\" class=\"data row0 col33\" >BatchNorm2d(128, eps=1e-05, momentum=0.1, affine=True, track_running_stats=True)</td>\n",
       "                        <td id=\"T_8849defc_0b1a_11ea_a4b9_80000208fe80row0_col34\" class=\"data row0 col34\" >ReLU()</td>\n",
       "                        <td id=\"T_8849defc_0b1a_11ea_a4b9_80000208fe80row0_col35\" class=\"data row0 col35\" >Conv2d(128, 128, kernel_size=(3, 3), stride=(1, 1), padding=(1, 1))</td>\n",
       "                        <td id=\"T_8849defc_0b1a_11ea_a4b9_80000208fe80row0_col36\" class=\"data row0 col36\" >ReLU()</td>\n",
       "                        <td id=\"T_8849defc_0b1a_11ea_a4b9_80000208fe80row0_col37\" class=\"data row0 col37\" >Conv2d(128, 128, kernel_size=(1, 1), stride=(1, 1))</td>\n",
       "                        <td id=\"T_8849defc_0b1a_11ea_a4b9_80000208fe80row0_col38\" class=\"data row0 col38\" >TorchAdd()</td>\n",
       "                        <td id=\"T_8849defc_0b1a_11ea_a4b9_80000208fe80row0_col39\" class=\"data row0 col39\" >BatchNorm2d(128, eps=1e-05, momentum=0.1, affine=True, track_running_stats=True)</td>\n",
       "                        <td id=\"T_8849defc_0b1a_11ea_a4b9_80000208fe80row0_col40\" class=\"data row0 col40\" >ReLU()</td>\n",
       "                        <td id=\"T_8849defc_0b1a_11ea_a4b9_80000208fe80row0_col41\" class=\"data row0 col41\" >Conv2d(128, 256, kernel_size=(3, 3), stride=(2, 2), padding=(1, 1))</td>\n",
       "                        <td id=\"T_8849defc_0b1a_11ea_a4b9_80000208fe80row0_col42\" class=\"data row0 col42\" >BatchNorm2d(256, eps=1e-05, momentum=0.1, affine=True, track_running_stats=True)</td>\n",
       "                        <td id=\"T_8849defc_0b1a_11ea_a4b9_80000208fe80row0_col43\" class=\"data row0 col43\" >ReLU()</td>\n",
       "                        <td id=\"T_8849defc_0b1a_11ea_a4b9_80000208fe80row0_col44\" class=\"data row0 col44\" >Conv2d(256, 256, kernel_size=(3, 3), stride=(1, 1), padding=(1, 1))</td>\n",
       "                        <td id=\"T_8849defc_0b1a_11ea_a4b9_80000208fe80row0_col45\" class=\"data row0 col45\" >ReLU()</td>\n",
       "                        <td id=\"T_8849defc_0b1a_11ea_a4b9_80000208fe80row0_col46\" class=\"data row0 col46\" >Conv2d(128, 256, kernel_size=(1, 1), stride=(2, 2))</td>\n",
       "                        <td id=\"T_8849defc_0b1a_11ea_a4b9_80000208fe80row0_col47\" class=\"data row0 col47\" >TorchAdd()</td>\n",
       "                        <td id=\"T_8849defc_0b1a_11ea_a4b9_80000208fe80row0_col48\" class=\"data row0 col48\" >BatchNorm2d(256, eps=1e-05, momentum=0.1, affine=True, track_running_stats=True)</td>\n",
       "                        <td id=\"T_8849defc_0b1a_11ea_a4b9_80000208fe80row0_col49\" class=\"data row0 col49\" >ReLU()</td>\n",
       "                        <td id=\"T_8849defc_0b1a_11ea_a4b9_80000208fe80row0_col50\" class=\"data row0 col50\" >Conv2d(256, 256, kernel_size=(3, 3), stride=(1, 1), padding=(1, 1))</td>\n",
       "                        <td id=\"T_8849defc_0b1a_11ea_a4b9_80000208fe80row0_col51\" class=\"data row0 col51\" >BatchNorm2d(256, eps=1e-05, momentum=0.1, affine=True, track_running_stats=True)</td>\n",
       "                        <td id=\"T_8849defc_0b1a_11ea_a4b9_80000208fe80row0_col52\" class=\"data row0 col52\" >ReLU()</td>\n",
       "                        <td id=\"T_8849defc_0b1a_11ea_a4b9_80000208fe80row0_col53\" class=\"data row0 col53\" >Conv2d(256, 256, kernel_size=(3, 3), stride=(1, 1), padding=(1, 1))</td>\n",
       "                        <td id=\"T_8849defc_0b1a_11ea_a4b9_80000208fe80row0_col54\" class=\"data row0 col54\" >ReLU()</td>\n",
       "                        <td id=\"T_8849defc_0b1a_11ea_a4b9_80000208fe80row0_col55\" class=\"data row0 col55\" >Conv2d(256, 256, kernel_size=(1, 1), stride=(1, 1))</td>\n",
       "                        <td id=\"T_8849defc_0b1a_11ea_a4b9_80000208fe80row0_col56\" class=\"data row0 col56\" >TorchAdd()</td>\n",
       "                        <td id=\"T_8849defc_0b1a_11ea_a4b9_80000208fe80row0_col57\" class=\"data row0 col57\" >BatchNorm2d(256, eps=1e-05, momentum=0.1, affine=True, track_running_stats=True)</td>\n",
       "                        <td id=\"T_8849defc_0b1a_11ea_a4b9_80000208fe80row0_col58\" class=\"data row0 col58\" >ReLU()</td>\n",
       "                        <td id=\"T_8849defc_0b1a_11ea_a4b9_80000208fe80row0_col59\" class=\"data row0 col59\" >Conv2d(256, 512, kernel_size=(3, 3), stride=(2, 2), padding=(1, 1))</td>\n",
       "                        <td id=\"T_8849defc_0b1a_11ea_a4b9_80000208fe80row0_col60\" class=\"data row0 col60\" >BatchNorm2d(512, eps=1e-05, momentum=0.1, affine=True, track_running_stats=True)</td>\n",
       "                        <td id=\"T_8849defc_0b1a_11ea_a4b9_80000208fe80row0_col61\" class=\"data row0 col61\" >ReLU()</td>\n",
       "                        <td id=\"T_8849defc_0b1a_11ea_a4b9_80000208fe80row0_col62\" class=\"data row0 col62\" >Conv2d(512, 512, kernel_size=(3, 3), stride=(1, 1), padding=(1, 1))</td>\n",
       "                        <td id=\"T_8849defc_0b1a_11ea_a4b9_80000208fe80row0_col63\" class=\"data row0 col63\" >ReLU()</td>\n",
       "                        <td id=\"T_8849defc_0b1a_11ea_a4b9_80000208fe80row0_col64\" class=\"data row0 col64\" >Conv2d(256, 512, kernel_size=(1, 1), stride=(2, 2))</td>\n",
       "                        <td id=\"T_8849defc_0b1a_11ea_a4b9_80000208fe80row0_col65\" class=\"data row0 col65\" >TorchAdd()</td>\n",
       "                        <td id=\"T_8849defc_0b1a_11ea_a4b9_80000208fe80row0_col66\" class=\"data row0 col66\" >BatchNorm2d(512, eps=1e-05, momentum=0.1, affine=True, track_running_stats=True)</td>\n",
       "                        <td id=\"T_8849defc_0b1a_11ea_a4b9_80000208fe80row0_col67\" class=\"data row0 col67\" >ReLU()</td>\n",
       "                        <td id=\"T_8849defc_0b1a_11ea_a4b9_80000208fe80row0_col68\" class=\"data row0 col68\" >Conv2d(512, 512, kernel_size=(3, 3), stride=(1, 1), padding=(1, 1))</td>\n",
       "                        <td id=\"T_8849defc_0b1a_11ea_a4b9_80000208fe80row0_col69\" class=\"data row0 col69\" >BatchNorm2d(512, eps=1e-05, momentum=0.1, affine=True, track_running_stats=True)</td>\n",
       "                        <td id=\"T_8849defc_0b1a_11ea_a4b9_80000208fe80row0_col70\" class=\"data row0 col70\" >ReLU()</td>\n",
       "                        <td id=\"T_8849defc_0b1a_11ea_a4b9_80000208fe80row0_col71\" class=\"data row0 col71\" >Conv2d(512, 512, kernel_size=(3, 3), stride=(1, 1), padding=(1, 1))</td>\n",
       "                        <td id=\"T_8849defc_0b1a_11ea_a4b9_80000208fe80row0_col72\" class=\"data row0 col72\" >ReLU()</td>\n",
       "                        <td id=\"T_8849defc_0b1a_11ea_a4b9_80000208fe80row0_col73\" class=\"data row0 col73\" >Conv2d(512, 512, kernel_size=(1, 1), stride=(1, 1))</td>\n",
       "                        <td id=\"T_8849defc_0b1a_11ea_a4b9_80000208fe80row0_col74\" class=\"data row0 col74\" >TorchAdd()</td>\n",
       "                        <td id=\"T_8849defc_0b1a_11ea_a4b9_80000208fe80row0_col75\" class=\"data row0 col75\" >GlobalAvgPool2d()</td>\n",
       "                        <td id=\"T_8849defc_0b1a_11ea_a4b9_80000208fe80row0_col76\" class=\"data row0 col76\" >Linear(in_features=512, out_features=10, bias=True)</td>\n",
       "            </tr>\n",
       "            <tr>\n",
       "                                <td id=\"T_8849defc_0b1a_11ea_a4b9_80000208fe80row1_col0\" class=\"data row1 col0\" >36</td>\n",
       "                        <td id=\"T_8849defc_0b1a_11ea_a4b9_80000208fe80row1_col1\" class=\"data row1 col1\" >Conv2d(1, 64, kernel_size=(3, 3), stride=(1, 1), padding=(1, 1))</td>\n",
       "                        <td id=\"T_8849defc_0b1a_11ea_a4b9_80000208fe80row1_col2\" class=\"data row1 col2\" >BatchNorm2d(64, eps=1e-05, momentum=0.1, affine=True, track_running_stats=True)</td>\n",
       "                        <td id=\"T_8849defc_0b1a_11ea_a4b9_80000208fe80row1_col3\" class=\"data row1 col3\" >BatchNorm2d(64, eps=1e-05, momentum=0.1, affine=True, track_running_stats=True)</td>\n",
       "                        <td id=\"T_8849defc_0b1a_11ea_a4b9_80000208fe80row1_col4\" class=\"data row1 col4\" >ReLU()</td>\n",
       "                        <td id=\"T_8849defc_0b1a_11ea_a4b9_80000208fe80row1_col5\" class=\"data row1 col5\" >Conv2d(64, 64, kernel_size=(3, 3), stride=(1, 1), padding=(1, 1))</td>\n",
       "                        <td id=\"T_8849defc_0b1a_11ea_a4b9_80000208fe80row1_col6\" class=\"data row1 col6\" >BatchNorm2d(64, eps=1e-05, momentum=0.1, affine=True, track_running_stats=True)</td>\n",
       "                        <td id=\"T_8849defc_0b1a_11ea_a4b9_80000208fe80row1_col7\" class=\"data row1 col7\" >ReLU()</td>\n",
       "                        <td id=\"T_8849defc_0b1a_11ea_a4b9_80000208fe80row1_col8\" class=\"data row1 col8\" >Conv2d(64, 64, kernel_size=(3, 3), stride=(1, 1), padding=(1, 1))</td>\n",
       "                        <td id=\"T_8849defc_0b1a_11ea_a4b9_80000208fe80row1_col9\" class=\"data row1 col9\" >ReLU()</td>\n",
       "                        <td id=\"T_8849defc_0b1a_11ea_a4b9_80000208fe80row1_col10\" class=\"data row1 col10\" >Conv2d(64, 64, kernel_size=(1, 1), stride=(1, 1))</td>\n",
       "                        <td id=\"T_8849defc_0b1a_11ea_a4b9_80000208fe80row1_col11\" class=\"data row1 col11\" >TorchAdd()</td>\n",
       "                        <td id=\"T_8849defc_0b1a_11ea_a4b9_80000208fe80row1_col12\" class=\"data row1 col12\" >BatchNorm2d(64, eps=1e-05, momentum=0.1, affine=True, track_running_stats=True)</td>\n",
       "                        <td id=\"T_8849defc_0b1a_11ea_a4b9_80000208fe80row1_col13\" class=\"data row1 col13\" >ReLU()</td>\n",
       "                        <td id=\"T_8849defc_0b1a_11ea_a4b9_80000208fe80row1_col14\" class=\"data row1 col14\" >Conv2d(64, 64, kernel_size=(3, 3), stride=(1, 1), padding=(1, 1))</td>\n",
       "                        <td id=\"T_8849defc_0b1a_11ea_a4b9_80000208fe80row1_col15\" class=\"data row1 col15\" >BatchNorm2d(64, eps=1e-05, momentum=0.1, affine=True, track_running_stats=True)</td>\n",
       "                        <td id=\"T_8849defc_0b1a_11ea_a4b9_80000208fe80row1_col16\" class=\"data row1 col16\" >ReLU()</td>\n",
       "                        <td id=\"T_8849defc_0b1a_11ea_a4b9_80000208fe80row1_col17\" class=\"data row1 col17\" >Conv2d(64, 64, kernel_size=(3, 3), stride=(1, 1), padding=(1, 1))</td>\n",
       "                        <td id=\"T_8849defc_0b1a_11ea_a4b9_80000208fe80row1_col18\" class=\"data row1 col18\" >ReLU()</td>\n",
       "                        <td id=\"T_8849defc_0b1a_11ea_a4b9_80000208fe80row1_col19\" class=\"data row1 col19\" >Conv2d(64, 64, kernel_size=(1, 1), stride=(1, 1))</td>\n",
       "                        <td id=\"T_8849defc_0b1a_11ea_a4b9_80000208fe80row1_col20\" class=\"data row1 col20\" >TorchAdd()</td>\n",
       "                        <td id=\"T_8849defc_0b1a_11ea_a4b9_80000208fe80row1_col21\" class=\"data row1 col21\" >BatchNorm2d(64, eps=1e-05, momentum=0.1, affine=True, track_running_stats=True)</td>\n",
       "                        <td id=\"T_8849defc_0b1a_11ea_a4b9_80000208fe80row1_col22\" class=\"data row1 col22\" >ReLU()</td>\n",
       "                        <td id=\"T_8849defc_0b1a_11ea_a4b9_80000208fe80row1_col23\" class=\"data row1 col23\" >Conv2d(64, 128, kernel_size=(3, 3), stride=(2, 2), padding=(1, 1))</td>\n",
       "                        <td id=\"T_8849defc_0b1a_11ea_a4b9_80000208fe80row1_col24\" class=\"data row1 col24\" >BatchNorm2d(128, eps=1e-05, momentum=0.1, affine=True, track_running_stats=True)</td>\n",
       "                        <td id=\"T_8849defc_0b1a_11ea_a4b9_80000208fe80row1_col25\" class=\"data row1 col25\" >ReLU()</td>\n",
       "                        <td id=\"T_8849defc_0b1a_11ea_a4b9_80000208fe80row1_col26\" class=\"data row1 col26\" >Conv2d(128, 128, kernel_size=(3, 3), stride=(1, 1), padding=(1, 1))</td>\n",
       "                        <td id=\"T_8849defc_0b1a_11ea_a4b9_80000208fe80row1_col27\" class=\"data row1 col27\" >ReLU()</td>\n",
       "                        <td id=\"T_8849defc_0b1a_11ea_a4b9_80000208fe80row1_col28\" class=\"data row1 col28\" >Conv2d(64, 128, kernel_size=(1, 1), stride=(2, 2))</td>\n",
       "                        <td id=\"T_8849defc_0b1a_11ea_a4b9_80000208fe80row1_col29\" class=\"data row1 col29\" >TorchAdd()</td>\n",
       "                        <td id=\"T_8849defc_0b1a_11ea_a4b9_80000208fe80row1_col30\" class=\"data row1 col30\" >BatchNorm2d(128, eps=1e-05, momentum=0.1, affine=True, track_running_stats=True)</td>\n",
       "                        <td id=\"T_8849defc_0b1a_11ea_a4b9_80000208fe80row1_col31\" class=\"data row1 col31\" >ReLU()</td>\n",
       "                        <td id=\"T_8849defc_0b1a_11ea_a4b9_80000208fe80row1_col32\" class=\"data row1 col32\" >Conv2d(128, 128, kernel_size=(3, 3), stride=(1, 1), padding=(1, 1))</td>\n",
       "                        <td id=\"T_8849defc_0b1a_11ea_a4b9_80000208fe80row1_col33\" class=\"data row1 col33\" >BatchNorm2d(128, eps=1e-05, momentum=0.1, affine=True, track_running_stats=True)</td>\n",
       "                        <td id=\"T_8849defc_0b1a_11ea_a4b9_80000208fe80row1_col34\" class=\"data row1 col34\" >ReLU()</td>\n",
       "                        <td id=\"T_8849defc_0b1a_11ea_a4b9_80000208fe80row1_col35\" class=\"data row1 col35\" >Conv2d(128, 128, kernel_size=(3, 3), stride=(1, 1), padding=(1, 1))</td>\n",
       "                        <td id=\"T_8849defc_0b1a_11ea_a4b9_80000208fe80row1_col36\" class=\"data row1 col36\" >ReLU()</td>\n",
       "                        <td id=\"T_8849defc_0b1a_11ea_a4b9_80000208fe80row1_col37\" class=\"data row1 col37\" >Conv2d(128, 128, kernel_size=(1, 1), stride=(1, 1))</td>\n",
       "                        <td id=\"T_8849defc_0b1a_11ea_a4b9_80000208fe80row1_col38\" class=\"data row1 col38\" >TorchAdd()</td>\n",
       "                        <td id=\"T_8849defc_0b1a_11ea_a4b9_80000208fe80row1_col39\" class=\"data row1 col39\" >BatchNorm2d(128, eps=1e-05, momentum=0.1, affine=True, track_running_stats=True)</td>\n",
       "                        <td id=\"T_8849defc_0b1a_11ea_a4b9_80000208fe80row1_col40\" class=\"data row1 col40\" >ReLU()</td>\n",
       "                        <td id=\"T_8849defc_0b1a_11ea_a4b9_80000208fe80row1_col41\" class=\"data row1 col41\" >Conv2d(128, 256, kernel_size=(3, 3), stride=(2, 2), padding=(1, 1))</td>\n",
       "                        <td id=\"T_8849defc_0b1a_11ea_a4b9_80000208fe80row1_col42\" class=\"data row1 col42\" >BatchNorm2d(256, eps=1e-05, momentum=0.1, affine=True, track_running_stats=True)</td>\n",
       "                        <td id=\"T_8849defc_0b1a_11ea_a4b9_80000208fe80row1_col43\" class=\"data row1 col43\" >ReLU()</td>\n",
       "                        <td id=\"T_8849defc_0b1a_11ea_a4b9_80000208fe80row1_col44\" class=\"data row1 col44\" >Conv2d(256, 256, kernel_size=(3, 3), stride=(1, 1), padding=(1, 1))</td>\n",
       "                        <td id=\"T_8849defc_0b1a_11ea_a4b9_80000208fe80row1_col45\" class=\"data row1 col45\" >ReLU()</td>\n",
       "                        <td id=\"T_8849defc_0b1a_11ea_a4b9_80000208fe80row1_col46\" class=\"data row1 col46\" >Conv2d(128, 256, kernel_size=(1, 1), stride=(2, 2))</td>\n",
       "                        <td id=\"T_8849defc_0b1a_11ea_a4b9_80000208fe80row1_col47\" class=\"data row1 col47\" >TorchAdd()</td>\n",
       "                        <td id=\"T_8849defc_0b1a_11ea_a4b9_80000208fe80row1_col48\" class=\"data row1 col48\" >BatchNorm2d(256, eps=1e-05, momentum=0.1, affine=True, track_running_stats=True)</td>\n",
       "                        <td id=\"T_8849defc_0b1a_11ea_a4b9_80000208fe80row1_col49\" class=\"data row1 col49\" >ReLU()</td>\n",
       "                        <td id=\"T_8849defc_0b1a_11ea_a4b9_80000208fe80row1_col50\" class=\"data row1 col50\" >Conv2d(256, 256, kernel_size=(3, 3), stride=(1, 1), padding=(1, 1))</td>\n",
       "                        <td id=\"T_8849defc_0b1a_11ea_a4b9_80000208fe80row1_col51\" class=\"data row1 col51\" >BatchNorm2d(256, eps=1e-05, momentum=0.1, affine=True, track_running_stats=True)</td>\n",
       "                        <td id=\"T_8849defc_0b1a_11ea_a4b9_80000208fe80row1_col52\" class=\"data row1 col52\" >ReLU()</td>\n",
       "                        <td id=\"T_8849defc_0b1a_11ea_a4b9_80000208fe80row1_col53\" class=\"data row1 col53\" >Conv2d(256, 256, kernel_size=(3, 3), stride=(1, 1), padding=(1, 1))</td>\n",
       "                        <td id=\"T_8849defc_0b1a_11ea_a4b9_80000208fe80row1_col54\" class=\"data row1 col54\" >ReLU()</td>\n",
       "                        <td id=\"T_8849defc_0b1a_11ea_a4b9_80000208fe80row1_col55\" class=\"data row1 col55\" >Conv2d(256, 256, kernel_size=(1, 1), stride=(1, 1))</td>\n",
       "                        <td id=\"T_8849defc_0b1a_11ea_a4b9_80000208fe80row1_col56\" class=\"data row1 col56\" >TorchAdd()</td>\n",
       "                        <td id=\"T_8849defc_0b1a_11ea_a4b9_80000208fe80row1_col57\" class=\"data row1 col57\" >BatchNorm2d(256, eps=1e-05, momentum=0.1, affine=True, track_running_stats=True)</td>\n",
       "                        <td id=\"T_8849defc_0b1a_11ea_a4b9_80000208fe80row1_col58\" class=\"data row1 col58\" >ReLU()</td>\n",
       "                        <td id=\"T_8849defc_0b1a_11ea_a4b9_80000208fe80row1_col59\" class=\"data row1 col59\" >Conv2d(256, 512, kernel_size=(3, 3), stride=(2, 2), padding=(1, 1))</td>\n",
       "                        <td id=\"T_8849defc_0b1a_11ea_a4b9_80000208fe80row1_col60\" class=\"data row1 col60\" >BatchNorm2d(512, eps=1e-05, momentum=0.1, affine=True, track_running_stats=True)</td>\n",
       "                        <td id=\"T_8849defc_0b1a_11ea_a4b9_80000208fe80row1_col61\" class=\"data row1 col61\" >ReLU()</td>\n",
       "                        <td id=\"T_8849defc_0b1a_11ea_a4b9_80000208fe80row1_col62\" class=\"data row1 col62\" >Conv2d(512, 512, kernel_size=(3, 3), stride=(1, 1), padding=(1, 1))</td>\n",
       "                        <td id=\"T_8849defc_0b1a_11ea_a4b9_80000208fe80row1_col63\" class=\"data row1 col63\" >ReLU()</td>\n",
       "                        <td id=\"T_8849defc_0b1a_11ea_a4b9_80000208fe80row1_col64\" class=\"data row1 col64\" >Conv2d(256, 512, kernel_size=(1, 1), stride=(2, 2))</td>\n",
       "                        <td id=\"T_8849defc_0b1a_11ea_a4b9_80000208fe80row1_col65\" class=\"data row1 col65\" >TorchAdd()</td>\n",
       "                        <td id=\"T_8849defc_0b1a_11ea_a4b9_80000208fe80row1_col66\" class=\"data row1 col66\" >BatchNorm2d(512, eps=1e-05, momentum=0.1, affine=True, track_running_stats=True)</td>\n",
       "                        <td id=\"T_8849defc_0b1a_11ea_a4b9_80000208fe80row1_col67\" class=\"data row1 col67\" >ReLU()</td>\n",
       "                        <td id=\"T_8849defc_0b1a_11ea_a4b9_80000208fe80row1_col68\" class=\"data row1 col68\" >Conv2d(512, 512, kernel_size=(3, 3), stride=(1, 1), padding=(1, 1))</td>\n",
       "                        <td id=\"T_8849defc_0b1a_11ea_a4b9_80000208fe80row1_col69\" class=\"data row1 col69\" >BatchNorm2d(512, eps=1e-05, momentum=0.1, affine=True, track_running_stats=True)</td>\n",
       "                        <td id=\"T_8849defc_0b1a_11ea_a4b9_80000208fe80row1_col70\" class=\"data row1 col70\" >ReLU()</td>\n",
       "                        <td id=\"T_8849defc_0b1a_11ea_a4b9_80000208fe80row1_col71\" class=\"data row1 col71\" >Conv2d(512, 512, kernel_size=(3, 3), stride=(1, 1), padding=(1, 1))</td>\n",
       "                        <td id=\"T_8849defc_0b1a_11ea_a4b9_80000208fe80row1_col72\" class=\"data row1 col72\" >ReLU()</td>\n",
       "                        <td id=\"T_8849defc_0b1a_11ea_a4b9_80000208fe80row1_col73\" class=\"data row1 col73\" >Conv2d(512, 512, kernel_size=(1, 1), stride=(1, 1))</td>\n",
       "                        <td id=\"T_8849defc_0b1a_11ea_a4b9_80000208fe80row1_col74\" class=\"data row1 col74\" >TorchAdd()</td>\n",
       "                        <td id=\"T_8849defc_0b1a_11ea_a4b9_80000208fe80row1_col75\" class=\"data row1 col75\" >GlobalAvgPool2d()</td>\n",
       "                        <td id=\"T_8849defc_0b1a_11ea_a4b9_80000208fe80row1_col76\" class=\"data row1 col76\" >Linear(in_features=512, out_features=10, bias=True)</td>\n",
       "            </tr>\n",
       "            <tr>\n",
       "                                <td id=\"T_8849defc_0b1a_11ea_a4b9_80000208fe80row2_col0\" class=\"data row2 col0\" >72</td>\n",
       "                        <td id=\"T_8849defc_0b1a_11ea_a4b9_80000208fe80row2_col1\" class=\"data row2 col1\" >Conv2d(1, 64, kernel_size=(3, 3), stride=(1, 1), padding=(1, 1))</td>\n",
       "                        <td id=\"T_8849defc_0b1a_11ea_a4b9_80000208fe80row2_col2\" class=\"data row2 col2\" >BatchNorm2d(64, eps=1e-05, momentum=0.1, affine=True, track_running_stats=True)</td>\n",
       "                        <td id=\"T_8849defc_0b1a_11ea_a4b9_80000208fe80row2_col3\" class=\"data row2 col3\" >BatchNorm2d(64, eps=1e-05, momentum=0.1, affine=True, track_running_stats=True)</td>\n",
       "                        <td id=\"T_8849defc_0b1a_11ea_a4b9_80000208fe80row2_col4\" class=\"data row2 col4\" >ReLU()</td>\n",
       "                        <td id=\"T_8849defc_0b1a_11ea_a4b9_80000208fe80row2_col5\" class=\"data row2 col5\" >Conv2d(64, 64, kernel_size=(3, 3), stride=(1, 1), padding=(1, 1))</td>\n",
       "                        <td id=\"T_8849defc_0b1a_11ea_a4b9_80000208fe80row2_col6\" class=\"data row2 col6\" >BatchNorm2d(64, eps=1e-05, momentum=0.1, affine=True, track_running_stats=True)</td>\n",
       "                        <td id=\"T_8849defc_0b1a_11ea_a4b9_80000208fe80row2_col7\" class=\"data row2 col7\" >ReLU()</td>\n",
       "                        <td id=\"T_8849defc_0b1a_11ea_a4b9_80000208fe80row2_col8\" class=\"data row2 col8\" >Conv2d(64, 64, kernel_size=(3, 3), stride=(1, 1), padding=(1, 1))</td>\n",
       "                        <td id=\"T_8849defc_0b1a_11ea_a4b9_80000208fe80row2_col9\" class=\"data row2 col9\" >ReLU()</td>\n",
       "                        <td id=\"T_8849defc_0b1a_11ea_a4b9_80000208fe80row2_col10\" class=\"data row2 col10\" >Conv2d(64, 64, kernel_size=(1, 1), stride=(1, 1))</td>\n",
       "                        <td id=\"T_8849defc_0b1a_11ea_a4b9_80000208fe80row2_col11\" class=\"data row2 col11\" >TorchAdd()</td>\n",
       "                        <td id=\"T_8849defc_0b1a_11ea_a4b9_80000208fe80row2_col12\" class=\"data row2 col12\" >BatchNorm2d(64, eps=1e-05, momentum=0.1, affine=True, track_running_stats=True)</td>\n",
       "                        <td id=\"T_8849defc_0b1a_11ea_a4b9_80000208fe80row2_col13\" class=\"data row2 col13\" >ReLU()</td>\n",
       "                        <td id=\"T_8849defc_0b1a_11ea_a4b9_80000208fe80row2_col14\" class=\"data row2 col14\" >Conv2d(64, 64, kernel_size=(3, 3), stride=(1, 1), padding=(1, 1))</td>\n",
       "                        <td id=\"T_8849defc_0b1a_11ea_a4b9_80000208fe80row2_col15\" class=\"data row2 col15\" >BatchNorm2d(64, eps=1e-05, momentum=0.1, affine=True, track_running_stats=True)</td>\n",
       "                        <td id=\"T_8849defc_0b1a_11ea_a4b9_80000208fe80row2_col16\" class=\"data row2 col16\" >ReLU()</td>\n",
       "                        <td id=\"T_8849defc_0b1a_11ea_a4b9_80000208fe80row2_col17\" class=\"data row2 col17\" >Conv2d(64, 64, kernel_size=(3, 3), stride=(1, 1), padding=(1, 1))</td>\n",
       "                        <td id=\"T_8849defc_0b1a_11ea_a4b9_80000208fe80row2_col18\" class=\"data row2 col18\" >ReLU()</td>\n",
       "                        <td id=\"T_8849defc_0b1a_11ea_a4b9_80000208fe80row2_col19\" class=\"data row2 col19\" >Conv2d(64, 64, kernel_size=(1, 1), stride=(1, 1))</td>\n",
       "                        <td id=\"T_8849defc_0b1a_11ea_a4b9_80000208fe80row2_col20\" class=\"data row2 col20\" >TorchAdd()</td>\n",
       "                        <td id=\"T_8849defc_0b1a_11ea_a4b9_80000208fe80row2_col21\" class=\"data row2 col21\" >BatchNorm2d(64, eps=1e-05, momentum=0.1, affine=True, track_running_stats=True)</td>\n",
       "                        <td id=\"T_8849defc_0b1a_11ea_a4b9_80000208fe80row2_col22\" class=\"data row2 col22\" >ReLU()</td>\n",
       "                        <td id=\"T_8849defc_0b1a_11ea_a4b9_80000208fe80row2_col23\" class=\"data row2 col23\" >Conv2d(64, 128, kernel_size=(3, 3), stride=(2, 2), padding=(1, 1))</td>\n",
       "                        <td id=\"T_8849defc_0b1a_11ea_a4b9_80000208fe80row2_col24\" class=\"data row2 col24\" >BatchNorm2d(128, eps=1e-05, momentum=0.1, affine=True, track_running_stats=True)</td>\n",
       "                        <td id=\"T_8849defc_0b1a_11ea_a4b9_80000208fe80row2_col25\" class=\"data row2 col25\" >ReLU()</td>\n",
       "                        <td id=\"T_8849defc_0b1a_11ea_a4b9_80000208fe80row2_col26\" class=\"data row2 col26\" >Conv2d(128, 128, kernel_size=(3, 3), stride=(1, 1), padding=(1, 1))</td>\n",
       "                        <td id=\"T_8849defc_0b1a_11ea_a4b9_80000208fe80row2_col27\" class=\"data row2 col27\" >ReLU()</td>\n",
       "                        <td id=\"T_8849defc_0b1a_11ea_a4b9_80000208fe80row2_col28\" class=\"data row2 col28\" >Conv2d(64, 128, kernel_size=(1, 1), stride=(2, 2))</td>\n",
       "                        <td id=\"T_8849defc_0b1a_11ea_a4b9_80000208fe80row2_col29\" class=\"data row2 col29\" >TorchAdd()</td>\n",
       "                        <td id=\"T_8849defc_0b1a_11ea_a4b9_80000208fe80row2_col30\" class=\"data row2 col30\" >BatchNorm2d(128, eps=1e-05, momentum=0.1, affine=True, track_running_stats=True)</td>\n",
       "                        <td id=\"T_8849defc_0b1a_11ea_a4b9_80000208fe80row2_col31\" class=\"data row2 col31\" >ReLU()</td>\n",
       "                        <td id=\"T_8849defc_0b1a_11ea_a4b9_80000208fe80row2_col32\" class=\"data row2 col32\" >Conv2d(128, 128, kernel_size=(3, 3), stride=(1, 1), padding=(1, 1))</td>\n",
       "                        <td id=\"T_8849defc_0b1a_11ea_a4b9_80000208fe80row2_col33\" class=\"data row2 col33\" >BatchNorm2d(128, eps=1e-05, momentum=0.1, affine=True, track_running_stats=True)</td>\n",
       "                        <td id=\"T_8849defc_0b1a_11ea_a4b9_80000208fe80row2_col34\" class=\"data row2 col34\" >ReLU()</td>\n",
       "                        <td id=\"T_8849defc_0b1a_11ea_a4b9_80000208fe80row2_col35\" class=\"data row2 col35\" >Conv2d(128, 128, kernel_size=(3, 3), stride=(1, 1), padding=(1, 1))</td>\n",
       "                        <td id=\"T_8849defc_0b1a_11ea_a4b9_80000208fe80row2_col36\" class=\"data row2 col36\" >ReLU()</td>\n",
       "                        <td id=\"T_8849defc_0b1a_11ea_a4b9_80000208fe80row2_col37\" class=\"data row2 col37\" >Conv2d(128, 128, kernel_size=(1, 1), stride=(1, 1))</td>\n",
       "                        <td id=\"T_8849defc_0b1a_11ea_a4b9_80000208fe80row2_col38\" class=\"data row2 col38\" >TorchAdd()</td>\n",
       "                        <td id=\"T_8849defc_0b1a_11ea_a4b9_80000208fe80row2_col39\" class=\"data row2 col39\" >BatchNorm2d(128, eps=1e-05, momentum=0.1, affine=True, track_running_stats=True)</td>\n",
       "                        <td id=\"T_8849defc_0b1a_11ea_a4b9_80000208fe80row2_col40\" class=\"data row2 col40\" >ReLU()</td>\n",
       "                        <td id=\"T_8849defc_0b1a_11ea_a4b9_80000208fe80row2_col41\" class=\"data row2 col41\" >Conv2d(128, 256, kernel_size=(3, 3), stride=(2, 2), padding=(1, 1))</td>\n",
       "                        <td id=\"T_8849defc_0b1a_11ea_a4b9_80000208fe80row2_col42\" class=\"data row2 col42\" >BatchNorm2d(256, eps=1e-05, momentum=0.1, affine=True, track_running_stats=True)</td>\n",
       "                        <td id=\"T_8849defc_0b1a_11ea_a4b9_80000208fe80row2_col43\" class=\"data row2 col43\" >ReLU()</td>\n",
       "                        <td id=\"T_8849defc_0b1a_11ea_a4b9_80000208fe80row2_col44\" class=\"data row2 col44\" >Conv2d(256, 256, kernel_size=(3, 3), stride=(1, 1), padding=(1, 1))</td>\n",
       "                        <td id=\"T_8849defc_0b1a_11ea_a4b9_80000208fe80row2_col45\" class=\"data row2 col45\" >ReLU()</td>\n",
       "                        <td id=\"T_8849defc_0b1a_11ea_a4b9_80000208fe80row2_col46\" class=\"data row2 col46\" >Conv2d(128, 256, kernel_size=(1, 1), stride=(2, 2))</td>\n",
       "                        <td id=\"T_8849defc_0b1a_11ea_a4b9_80000208fe80row2_col47\" class=\"data row2 col47\" >TorchAdd()</td>\n",
       "                        <td id=\"T_8849defc_0b1a_11ea_a4b9_80000208fe80row2_col48\" class=\"data row2 col48\" >BatchNorm2d(256, eps=1e-05, momentum=0.1, affine=True, track_running_stats=True)</td>\n",
       "                        <td id=\"T_8849defc_0b1a_11ea_a4b9_80000208fe80row2_col49\" class=\"data row2 col49\" >ReLU()</td>\n",
       "                        <td id=\"T_8849defc_0b1a_11ea_a4b9_80000208fe80row2_col50\" class=\"data row2 col50\" >Conv2d(256, 256, kernel_size=(3, 3), stride=(1, 1), padding=(1, 1))</td>\n",
       "                        <td id=\"T_8849defc_0b1a_11ea_a4b9_80000208fe80row2_col51\" class=\"data row2 col51\" >BatchNorm2d(256, eps=1e-05, momentum=0.1, affine=True, track_running_stats=True)</td>\n",
       "                        <td id=\"T_8849defc_0b1a_11ea_a4b9_80000208fe80row2_col52\" class=\"data row2 col52\" >ReLU()</td>\n",
       "                        <td id=\"T_8849defc_0b1a_11ea_a4b9_80000208fe80row2_col53\" class=\"data row2 col53\" >Conv2d(256, 256, kernel_size=(3, 3), stride=(1, 1), padding=(1, 1))</td>\n",
       "                        <td id=\"T_8849defc_0b1a_11ea_a4b9_80000208fe80row2_col54\" class=\"data row2 col54\" >ReLU()</td>\n",
       "                        <td id=\"T_8849defc_0b1a_11ea_a4b9_80000208fe80row2_col55\" class=\"data row2 col55\" >Conv2d(256, 256, kernel_size=(1, 1), stride=(1, 1))</td>\n",
       "                        <td id=\"T_8849defc_0b1a_11ea_a4b9_80000208fe80row2_col56\" class=\"data row2 col56\" >TorchAdd()</td>\n",
       "                        <td id=\"T_8849defc_0b1a_11ea_a4b9_80000208fe80row2_col57\" class=\"data row2 col57\" >BatchNorm2d(256, eps=1e-05, momentum=0.1, affine=True, track_running_stats=True)</td>\n",
       "                        <td id=\"T_8849defc_0b1a_11ea_a4b9_80000208fe80row2_col58\" class=\"data row2 col58\" >ReLU()</td>\n",
       "                        <td id=\"T_8849defc_0b1a_11ea_a4b9_80000208fe80row2_col59\" class=\"data row2 col59\" >Conv2d(256, 512, kernel_size=(3, 3), stride=(2, 2), padding=(1, 1))</td>\n",
       "                        <td id=\"T_8849defc_0b1a_11ea_a4b9_80000208fe80row2_col60\" class=\"data row2 col60\" >BatchNorm2d(512, eps=1e-05, momentum=0.1, affine=True, track_running_stats=True)</td>\n",
       "                        <td id=\"T_8849defc_0b1a_11ea_a4b9_80000208fe80row2_col61\" class=\"data row2 col61\" >ReLU()</td>\n",
       "                        <td id=\"T_8849defc_0b1a_11ea_a4b9_80000208fe80row2_col62\" class=\"data row2 col62\" >Conv2d(512, 512, kernel_size=(3, 3), stride=(1, 1), padding=(1, 1))</td>\n",
       "                        <td id=\"T_8849defc_0b1a_11ea_a4b9_80000208fe80row2_col63\" class=\"data row2 col63\" >ReLU()</td>\n",
       "                        <td id=\"T_8849defc_0b1a_11ea_a4b9_80000208fe80row2_col64\" class=\"data row2 col64\" >Conv2d(256, 512, kernel_size=(1, 1), stride=(2, 2))</td>\n",
       "                        <td id=\"T_8849defc_0b1a_11ea_a4b9_80000208fe80row2_col65\" class=\"data row2 col65\" >TorchAdd()</td>\n",
       "                        <td id=\"T_8849defc_0b1a_11ea_a4b9_80000208fe80row2_col66\" class=\"data row2 col66\" >BatchNorm2d(512, eps=1e-05, momentum=0.1, affine=True, track_running_stats=True)</td>\n",
       "                        <td id=\"T_8849defc_0b1a_11ea_a4b9_80000208fe80row2_col67\" class=\"data row2 col67\" >ReLU()</td>\n",
       "                        <td id=\"T_8849defc_0b1a_11ea_a4b9_80000208fe80row2_col68\" class=\"data row2 col68\" >Conv2d(512, 512, kernel_size=(3, 3), stride=(1, 1), padding=(1, 1))</td>\n",
       "                        <td id=\"T_8849defc_0b1a_11ea_a4b9_80000208fe80row2_col69\" class=\"data row2 col69\" >BatchNorm2d(512, eps=1e-05, momentum=0.1, affine=True, track_running_stats=True)</td>\n",
       "                        <td id=\"T_8849defc_0b1a_11ea_a4b9_80000208fe80row2_col70\" class=\"data row2 col70\" >ReLU()</td>\n",
       "                        <td id=\"T_8849defc_0b1a_11ea_a4b9_80000208fe80row2_col71\" class=\"data row2 col71\" >Conv2d(512, 512, kernel_size=(3, 3), stride=(1, 1), padding=(1, 1))</td>\n",
       "                        <td id=\"T_8849defc_0b1a_11ea_a4b9_80000208fe80row2_col72\" class=\"data row2 col72\" >ReLU()</td>\n",
       "                        <td id=\"T_8849defc_0b1a_11ea_a4b9_80000208fe80row2_col73\" class=\"data row2 col73\" >Conv2d(512, 512, kernel_size=(1, 1), stride=(1, 1))</td>\n",
       "                        <td id=\"T_8849defc_0b1a_11ea_a4b9_80000208fe80row2_col74\" class=\"data row2 col74\" >TorchAdd()</td>\n",
       "                        <td id=\"T_8849defc_0b1a_11ea_a4b9_80000208fe80row2_col75\" class=\"data row2 col75\" >GlobalAvgPool2d()</td>\n",
       "                        <td id=\"T_8849defc_0b1a_11ea_a4b9_80000208fe80row2_col76\" class=\"data row2 col76\" >Linear(in_features=512, out_features=10, bias=True)</td>\n",
       "            </tr>\n",
       "            <tr>\n",
       "                                <td id=\"T_8849defc_0b1a_11ea_a4b9_80000208fe80row3_col0\" class=\"data row3 col0\" >108</td>\n",
       "                        <td id=\"T_8849defc_0b1a_11ea_a4b9_80000208fe80row3_col1\" class=\"data row3 col1\" >Conv2d(1, 64, kernel_size=(3, 3), stride=(1, 1), padding=(1, 1))</td>\n",
       "                        <td id=\"T_8849defc_0b1a_11ea_a4b9_80000208fe80row3_col2\" class=\"data row3 col2\" >BatchNorm2d(64, eps=1e-05, momentum=0.1, affine=True, track_running_stats=True)</td>\n",
       "                        <td id=\"T_8849defc_0b1a_11ea_a4b9_80000208fe80row3_col3\" class=\"data row3 col3\" >BatchNorm2d(64, eps=1e-05, momentum=0.1, affine=True, track_running_stats=True)</td>\n",
       "                        <td id=\"T_8849defc_0b1a_11ea_a4b9_80000208fe80row3_col4\" class=\"data row3 col4\" >ReLU()</td>\n",
       "                        <td id=\"T_8849defc_0b1a_11ea_a4b9_80000208fe80row3_col5\" class=\"data row3 col5\" >Conv2d(64, 64, kernel_size=(3, 3), stride=(1, 1), padding=(1, 1))</td>\n",
       "                        <td id=\"T_8849defc_0b1a_11ea_a4b9_80000208fe80row3_col6\" class=\"data row3 col6\" >BatchNorm2d(64, eps=1e-05, momentum=0.1, affine=True, track_running_stats=True)</td>\n",
       "                        <td id=\"T_8849defc_0b1a_11ea_a4b9_80000208fe80row3_col7\" class=\"data row3 col7\" >ReLU()</td>\n",
       "                        <td id=\"T_8849defc_0b1a_11ea_a4b9_80000208fe80row3_col8\" class=\"data row3 col8\" >Conv2d(64, 64, kernel_size=(3, 3), stride=(1, 1), padding=(1, 1))</td>\n",
       "                        <td id=\"T_8849defc_0b1a_11ea_a4b9_80000208fe80row3_col9\" class=\"data row3 col9\" >ReLU()</td>\n",
       "                        <td id=\"T_8849defc_0b1a_11ea_a4b9_80000208fe80row3_col10\" class=\"data row3 col10\" >Conv2d(64, 64, kernel_size=(1, 1), stride=(1, 1))</td>\n",
       "                        <td id=\"T_8849defc_0b1a_11ea_a4b9_80000208fe80row3_col11\" class=\"data row3 col11\" >TorchAdd()</td>\n",
       "                        <td id=\"T_8849defc_0b1a_11ea_a4b9_80000208fe80row3_col12\" class=\"data row3 col12\" >BatchNorm2d(64, eps=1e-05, momentum=0.1, affine=True, track_running_stats=True)</td>\n",
       "                        <td id=\"T_8849defc_0b1a_11ea_a4b9_80000208fe80row3_col13\" class=\"data row3 col13\" >ReLU()</td>\n",
       "                        <td id=\"T_8849defc_0b1a_11ea_a4b9_80000208fe80row3_col14\" class=\"data row3 col14\" >Conv2d(64, 64, kernel_size=(3, 3), stride=(1, 1), padding=(1, 1))</td>\n",
       "                        <td id=\"T_8849defc_0b1a_11ea_a4b9_80000208fe80row3_col15\" class=\"data row3 col15\" >BatchNorm2d(64, eps=1e-05, momentum=0.1, affine=True, track_running_stats=True)</td>\n",
       "                        <td id=\"T_8849defc_0b1a_11ea_a4b9_80000208fe80row3_col16\" class=\"data row3 col16\" >ReLU()</td>\n",
       "                        <td id=\"T_8849defc_0b1a_11ea_a4b9_80000208fe80row3_col17\" class=\"data row3 col17\" >Conv2d(64, 64, kernel_size=(3, 3), stride=(1, 1), padding=(1, 1))</td>\n",
       "                        <td id=\"T_8849defc_0b1a_11ea_a4b9_80000208fe80row3_col18\" class=\"data row3 col18\" >ReLU()</td>\n",
       "                        <td id=\"T_8849defc_0b1a_11ea_a4b9_80000208fe80row3_col19\" class=\"data row3 col19\" >Conv2d(64, 64, kernel_size=(1, 1), stride=(1, 1))</td>\n",
       "                        <td id=\"T_8849defc_0b1a_11ea_a4b9_80000208fe80row3_col20\" class=\"data row3 col20\" >TorchAdd()</td>\n",
       "                        <td id=\"T_8849defc_0b1a_11ea_a4b9_80000208fe80row3_col21\" class=\"data row3 col21\" >BatchNorm2d(64, eps=1e-05, momentum=0.1, affine=True, track_running_stats=True)</td>\n",
       "                        <td id=\"T_8849defc_0b1a_11ea_a4b9_80000208fe80row3_col22\" class=\"data row3 col22\" >ReLU()</td>\n",
       "                        <td id=\"T_8849defc_0b1a_11ea_a4b9_80000208fe80row3_col23\" class=\"data row3 col23\" >Conv2d(64, 128, kernel_size=(3, 3), stride=(2, 2), padding=(1, 1))</td>\n",
       "                        <td id=\"T_8849defc_0b1a_11ea_a4b9_80000208fe80row3_col24\" class=\"data row3 col24\" >BatchNorm2d(128, eps=1e-05, momentum=0.1, affine=True, track_running_stats=True)</td>\n",
       "                        <td id=\"T_8849defc_0b1a_11ea_a4b9_80000208fe80row3_col25\" class=\"data row3 col25\" >ReLU()</td>\n",
       "                        <td id=\"T_8849defc_0b1a_11ea_a4b9_80000208fe80row3_col26\" class=\"data row3 col26\" >Conv2d(128, 128, kernel_size=(3, 3), stride=(1, 1), padding=(1, 1))</td>\n",
       "                        <td id=\"T_8849defc_0b1a_11ea_a4b9_80000208fe80row3_col27\" class=\"data row3 col27\" >ReLU()</td>\n",
       "                        <td id=\"T_8849defc_0b1a_11ea_a4b9_80000208fe80row3_col28\" class=\"data row3 col28\" >Conv2d(64, 128, kernel_size=(1, 1), stride=(2, 2))</td>\n",
       "                        <td id=\"T_8849defc_0b1a_11ea_a4b9_80000208fe80row3_col29\" class=\"data row3 col29\" >TorchAdd()</td>\n",
       "                        <td id=\"T_8849defc_0b1a_11ea_a4b9_80000208fe80row3_col30\" class=\"data row3 col30\" >BatchNorm2d(128, eps=1e-05, momentum=0.1, affine=True, track_running_stats=True)</td>\n",
       "                        <td id=\"T_8849defc_0b1a_11ea_a4b9_80000208fe80row3_col31\" class=\"data row3 col31\" >ReLU()</td>\n",
       "                        <td id=\"T_8849defc_0b1a_11ea_a4b9_80000208fe80row3_col32\" class=\"data row3 col32\" >Conv2d(128, 128, kernel_size=(3, 3), stride=(1, 1), padding=(1, 1))</td>\n",
       "                        <td id=\"T_8849defc_0b1a_11ea_a4b9_80000208fe80row3_col33\" class=\"data row3 col33\" >BatchNorm2d(128, eps=1e-05, momentum=0.1, affine=True, track_running_stats=True)</td>\n",
       "                        <td id=\"T_8849defc_0b1a_11ea_a4b9_80000208fe80row3_col34\" class=\"data row3 col34\" >ReLU()</td>\n",
       "                        <td id=\"T_8849defc_0b1a_11ea_a4b9_80000208fe80row3_col35\" class=\"data row3 col35\" >Conv2d(128, 128, kernel_size=(3, 3), stride=(1, 1), padding=(1, 1))</td>\n",
       "                        <td id=\"T_8849defc_0b1a_11ea_a4b9_80000208fe80row3_col36\" class=\"data row3 col36\" >ReLU()</td>\n",
       "                        <td id=\"T_8849defc_0b1a_11ea_a4b9_80000208fe80row3_col37\" class=\"data row3 col37\" >Conv2d(128, 128, kernel_size=(1, 1), stride=(1, 1))</td>\n",
       "                        <td id=\"T_8849defc_0b1a_11ea_a4b9_80000208fe80row3_col38\" class=\"data row3 col38\" >TorchAdd()</td>\n",
       "                        <td id=\"T_8849defc_0b1a_11ea_a4b9_80000208fe80row3_col39\" class=\"data row3 col39\" >BatchNorm2d(128, eps=1e-05, momentum=0.1, affine=True, track_running_stats=True)</td>\n",
       "                        <td id=\"T_8849defc_0b1a_11ea_a4b9_80000208fe80row3_col40\" class=\"data row3 col40\" >ReLU()</td>\n",
       "                        <td id=\"T_8849defc_0b1a_11ea_a4b9_80000208fe80row3_col41\" class=\"data row3 col41\" >Conv2d(128, 256, kernel_size=(3, 3), stride=(2, 2), padding=(1, 1))</td>\n",
       "                        <td id=\"T_8849defc_0b1a_11ea_a4b9_80000208fe80row3_col42\" class=\"data row3 col42\" >BatchNorm2d(256, eps=1e-05, momentum=0.1, affine=True, track_running_stats=True)</td>\n",
       "                        <td id=\"T_8849defc_0b1a_11ea_a4b9_80000208fe80row3_col43\" class=\"data row3 col43\" >ReLU()</td>\n",
       "                        <td id=\"T_8849defc_0b1a_11ea_a4b9_80000208fe80row3_col44\" class=\"data row3 col44\" >Conv2d(256, 256, kernel_size=(3, 3), stride=(1, 1), padding=(1, 1))</td>\n",
       "                        <td id=\"T_8849defc_0b1a_11ea_a4b9_80000208fe80row3_col45\" class=\"data row3 col45\" >ReLU()</td>\n",
       "                        <td id=\"T_8849defc_0b1a_11ea_a4b9_80000208fe80row3_col46\" class=\"data row3 col46\" >Conv2d(128, 256, kernel_size=(1, 1), stride=(2, 2))</td>\n",
       "                        <td id=\"T_8849defc_0b1a_11ea_a4b9_80000208fe80row3_col47\" class=\"data row3 col47\" >TorchAdd()</td>\n",
       "                        <td id=\"T_8849defc_0b1a_11ea_a4b9_80000208fe80row3_col48\" class=\"data row3 col48\" >BatchNorm2d(256, eps=1e-05, momentum=0.1, affine=True, track_running_stats=True)</td>\n",
       "                        <td id=\"T_8849defc_0b1a_11ea_a4b9_80000208fe80row3_col49\" class=\"data row3 col49\" >ReLU()</td>\n",
       "                        <td id=\"T_8849defc_0b1a_11ea_a4b9_80000208fe80row3_col50\" class=\"data row3 col50\" >Conv2d(256, 256, kernel_size=(3, 3), stride=(1, 1), padding=(1, 1))</td>\n",
       "                        <td id=\"T_8849defc_0b1a_11ea_a4b9_80000208fe80row3_col51\" class=\"data row3 col51\" >BatchNorm2d(256, eps=1e-05, momentum=0.1, affine=True, track_running_stats=True)</td>\n",
       "                        <td id=\"T_8849defc_0b1a_11ea_a4b9_80000208fe80row3_col52\" class=\"data row3 col52\" >ReLU()</td>\n",
       "                        <td id=\"T_8849defc_0b1a_11ea_a4b9_80000208fe80row3_col53\" class=\"data row3 col53\" >Conv2d(256, 256, kernel_size=(3, 3), stride=(1, 1), padding=(1, 1))</td>\n",
       "                        <td id=\"T_8849defc_0b1a_11ea_a4b9_80000208fe80row3_col54\" class=\"data row3 col54\" >ReLU()</td>\n",
       "                        <td id=\"T_8849defc_0b1a_11ea_a4b9_80000208fe80row3_col55\" class=\"data row3 col55\" >Conv2d(256, 256, kernel_size=(1, 1), stride=(1, 1))</td>\n",
       "                        <td id=\"T_8849defc_0b1a_11ea_a4b9_80000208fe80row3_col56\" class=\"data row3 col56\" >TorchAdd()</td>\n",
       "                        <td id=\"T_8849defc_0b1a_11ea_a4b9_80000208fe80row3_col57\" class=\"data row3 col57\" >BatchNorm2d(256, eps=1e-05, momentum=0.1, affine=True, track_running_stats=True)</td>\n",
       "                        <td id=\"T_8849defc_0b1a_11ea_a4b9_80000208fe80row3_col58\" class=\"data row3 col58\" >ReLU()</td>\n",
       "                        <td id=\"T_8849defc_0b1a_11ea_a4b9_80000208fe80row3_col59\" class=\"data row3 col59\" >Conv2d(256, 512, kernel_size=(3, 3), stride=(2, 2), padding=(1, 1))</td>\n",
       "                        <td id=\"T_8849defc_0b1a_11ea_a4b9_80000208fe80row3_col60\" class=\"data row3 col60\" >BatchNorm2d(512, eps=1e-05, momentum=0.1, affine=True, track_running_stats=True)</td>\n",
       "                        <td id=\"T_8849defc_0b1a_11ea_a4b9_80000208fe80row3_col61\" class=\"data row3 col61\" >ReLU()</td>\n",
       "                        <td id=\"T_8849defc_0b1a_11ea_a4b9_80000208fe80row3_col62\" class=\"data row3 col62\" >Conv2d(512, 512, kernel_size=(3, 3), stride=(1, 1), padding=(1, 1))</td>\n",
       "                        <td id=\"T_8849defc_0b1a_11ea_a4b9_80000208fe80row3_col63\" class=\"data row3 col63\" >ReLU()</td>\n",
       "                        <td id=\"T_8849defc_0b1a_11ea_a4b9_80000208fe80row3_col64\" class=\"data row3 col64\" >Conv2d(256, 512, kernel_size=(1, 1), stride=(2, 2))</td>\n",
       "                        <td id=\"T_8849defc_0b1a_11ea_a4b9_80000208fe80row3_col65\" class=\"data row3 col65\" >TorchAdd()</td>\n",
       "                        <td id=\"T_8849defc_0b1a_11ea_a4b9_80000208fe80row3_col66\" class=\"data row3 col66\" >BatchNorm2d(512, eps=1e-05, momentum=0.1, affine=True, track_running_stats=True)</td>\n",
       "                        <td id=\"T_8849defc_0b1a_11ea_a4b9_80000208fe80row3_col67\" class=\"data row3 col67\" >ReLU()</td>\n",
       "                        <td id=\"T_8849defc_0b1a_11ea_a4b9_80000208fe80row3_col68\" class=\"data row3 col68\" >Conv2d(512, 512, kernel_size=(3, 3), stride=(1, 1), padding=(1, 1))</td>\n",
       "                        <td id=\"T_8849defc_0b1a_11ea_a4b9_80000208fe80row3_col69\" class=\"data row3 col69\" >BatchNorm2d(512, eps=1e-05, momentum=0.1, affine=True, track_running_stats=True)</td>\n",
       "                        <td id=\"T_8849defc_0b1a_11ea_a4b9_80000208fe80row3_col70\" class=\"data row3 col70\" >ReLU()</td>\n",
       "                        <td id=\"T_8849defc_0b1a_11ea_a4b9_80000208fe80row3_col71\" class=\"data row3 col71\" >Conv2d(512, 512, kernel_size=(3, 3), stride=(1, 1), padding=(1, 1))</td>\n",
       "                        <td id=\"T_8849defc_0b1a_11ea_a4b9_80000208fe80row3_col72\" class=\"data row3 col72\" >ReLU()</td>\n",
       "                        <td id=\"T_8849defc_0b1a_11ea_a4b9_80000208fe80row3_col73\" class=\"data row3 col73\" >Conv2d(512, 512, kernel_size=(1, 1), stride=(1, 1))</td>\n",
       "                        <td id=\"T_8849defc_0b1a_11ea_a4b9_80000208fe80row3_col74\" class=\"data row3 col74\" >TorchAdd()</td>\n",
       "                        <td id=\"T_8849defc_0b1a_11ea_a4b9_80000208fe80row3_col75\" class=\"data row3 col75\" >GlobalAvgPool2d()</td>\n",
       "                        <td id=\"T_8849defc_0b1a_11ea_a4b9_80000208fe80row3_col76\" class=\"data row3 col76\" >Linear(in_features=512, out_features=10, bias=True)</td>\n",
       "            </tr>\n",
       "            <tr>\n",
       "                                <td id=\"T_8849defc_0b1a_11ea_a4b9_80000208fe80row4_col0\" class=\"data row4 col0\" >144</td>\n",
       "                        <td id=\"T_8849defc_0b1a_11ea_a4b9_80000208fe80row4_col1\" class=\"data row4 col1\" >Conv2d(1, 64, kernel_size=(3, 3), stride=(1, 1), padding=(1, 1))</td>\n",
       "                        <td id=\"T_8849defc_0b1a_11ea_a4b9_80000208fe80row4_col2\" class=\"data row4 col2\" >BatchNorm2d(64, eps=1e-05, momentum=0.1, affine=True, track_running_stats=True)</td>\n",
       "                        <td id=\"T_8849defc_0b1a_11ea_a4b9_80000208fe80row4_col3\" class=\"data row4 col3\" >BatchNorm2d(64, eps=1e-05, momentum=0.1, affine=True, track_running_stats=True)</td>\n",
       "                        <td id=\"T_8849defc_0b1a_11ea_a4b9_80000208fe80row4_col4\" class=\"data row4 col4\" >ReLU()</td>\n",
       "                        <td id=\"T_8849defc_0b1a_11ea_a4b9_80000208fe80row4_col5\" class=\"data row4 col5\" >Conv2d(64, 64, kernel_size=(3, 3), stride=(1, 1), padding=(1, 1))</td>\n",
       "                        <td id=\"T_8849defc_0b1a_11ea_a4b9_80000208fe80row4_col6\" class=\"data row4 col6\" >BatchNorm2d(64, eps=1e-05, momentum=0.1, affine=True, track_running_stats=True)</td>\n",
       "                        <td id=\"T_8849defc_0b1a_11ea_a4b9_80000208fe80row4_col7\" class=\"data row4 col7\" >ReLU()</td>\n",
       "                        <td id=\"T_8849defc_0b1a_11ea_a4b9_80000208fe80row4_col8\" class=\"data row4 col8\" >Conv2d(64, 64, kernel_size=(3, 3), stride=(1, 1), padding=(1, 1))</td>\n",
       "                        <td id=\"T_8849defc_0b1a_11ea_a4b9_80000208fe80row4_col9\" class=\"data row4 col9\" >ReLU()</td>\n",
       "                        <td id=\"T_8849defc_0b1a_11ea_a4b9_80000208fe80row4_col10\" class=\"data row4 col10\" >Conv2d(64, 64, kernel_size=(1, 1), stride=(1, 1))</td>\n",
       "                        <td id=\"T_8849defc_0b1a_11ea_a4b9_80000208fe80row4_col11\" class=\"data row4 col11\" >TorchAdd()</td>\n",
       "                        <td id=\"T_8849defc_0b1a_11ea_a4b9_80000208fe80row4_col12\" class=\"data row4 col12\" >BatchNorm2d(64, eps=1e-05, momentum=0.1, affine=True, track_running_stats=True)</td>\n",
       "                        <td id=\"T_8849defc_0b1a_11ea_a4b9_80000208fe80row4_col13\" class=\"data row4 col13\" >ReLU()</td>\n",
       "                        <td id=\"T_8849defc_0b1a_11ea_a4b9_80000208fe80row4_col14\" class=\"data row4 col14\" >Conv2d(64, 64, kernel_size=(3, 3), stride=(1, 1), padding=(1, 1))</td>\n",
       "                        <td id=\"T_8849defc_0b1a_11ea_a4b9_80000208fe80row4_col15\" class=\"data row4 col15\" >BatchNorm2d(64, eps=1e-05, momentum=0.1, affine=True, track_running_stats=True)</td>\n",
       "                        <td id=\"T_8849defc_0b1a_11ea_a4b9_80000208fe80row4_col16\" class=\"data row4 col16\" >ReLU()</td>\n",
       "                        <td id=\"T_8849defc_0b1a_11ea_a4b9_80000208fe80row4_col17\" class=\"data row4 col17\" >Conv2d(64, 64, kernel_size=(3, 3), stride=(1, 1), padding=(1, 1))</td>\n",
       "                        <td id=\"T_8849defc_0b1a_11ea_a4b9_80000208fe80row4_col18\" class=\"data row4 col18\" >ReLU()</td>\n",
       "                        <td id=\"T_8849defc_0b1a_11ea_a4b9_80000208fe80row4_col19\" class=\"data row4 col19\" >Conv2d(64, 64, kernel_size=(1, 1), stride=(1, 1))</td>\n",
       "                        <td id=\"T_8849defc_0b1a_11ea_a4b9_80000208fe80row4_col20\" class=\"data row4 col20\" >TorchAdd()</td>\n",
       "                        <td id=\"T_8849defc_0b1a_11ea_a4b9_80000208fe80row4_col21\" class=\"data row4 col21\" >BatchNorm2d(64, eps=1e-05, momentum=0.1, affine=True, track_running_stats=True)</td>\n",
       "                        <td id=\"T_8849defc_0b1a_11ea_a4b9_80000208fe80row4_col22\" class=\"data row4 col22\" >ReLU()</td>\n",
       "                        <td id=\"T_8849defc_0b1a_11ea_a4b9_80000208fe80row4_col23\" class=\"data row4 col23\" >Conv2d(64, 128, kernel_size=(3, 3), stride=(2, 2), padding=(1, 1))</td>\n",
       "                        <td id=\"T_8849defc_0b1a_11ea_a4b9_80000208fe80row4_col24\" class=\"data row4 col24\" >BatchNorm2d(128, eps=1e-05, momentum=0.1, affine=True, track_running_stats=True)</td>\n",
       "                        <td id=\"T_8849defc_0b1a_11ea_a4b9_80000208fe80row4_col25\" class=\"data row4 col25\" >ReLU()</td>\n",
       "                        <td id=\"T_8849defc_0b1a_11ea_a4b9_80000208fe80row4_col26\" class=\"data row4 col26\" >Conv2d(128, 128, kernel_size=(3, 3), stride=(1, 1), padding=(1, 1))</td>\n",
       "                        <td id=\"T_8849defc_0b1a_11ea_a4b9_80000208fe80row4_col27\" class=\"data row4 col27\" >ReLU()</td>\n",
       "                        <td id=\"T_8849defc_0b1a_11ea_a4b9_80000208fe80row4_col28\" class=\"data row4 col28\" >Conv2d(64, 128, kernel_size=(1, 1), stride=(2, 2))</td>\n",
       "                        <td id=\"T_8849defc_0b1a_11ea_a4b9_80000208fe80row4_col29\" class=\"data row4 col29\" >TorchAdd()</td>\n",
       "                        <td id=\"T_8849defc_0b1a_11ea_a4b9_80000208fe80row4_col30\" class=\"data row4 col30\" >BatchNorm2d(128, eps=1e-05, momentum=0.1, affine=True, track_running_stats=True)</td>\n",
       "                        <td id=\"T_8849defc_0b1a_11ea_a4b9_80000208fe80row4_col31\" class=\"data row4 col31\" >ReLU()</td>\n",
       "                        <td id=\"T_8849defc_0b1a_11ea_a4b9_80000208fe80row4_col32\" class=\"data row4 col32\" >Conv2d(128, 128, kernel_size=(3, 3), stride=(1, 1), padding=(1, 1))</td>\n",
       "                        <td id=\"T_8849defc_0b1a_11ea_a4b9_80000208fe80row4_col33\" class=\"data row4 col33\" >BatchNorm2d(128, eps=1e-05, momentum=0.1, affine=True, track_running_stats=True)</td>\n",
       "                        <td id=\"T_8849defc_0b1a_11ea_a4b9_80000208fe80row4_col34\" class=\"data row4 col34\" >ReLU()</td>\n",
       "                        <td id=\"T_8849defc_0b1a_11ea_a4b9_80000208fe80row4_col35\" class=\"data row4 col35\" >Conv2d(128, 128, kernel_size=(3, 3), stride=(1, 1), padding=(1, 1))</td>\n",
       "                        <td id=\"T_8849defc_0b1a_11ea_a4b9_80000208fe80row4_col36\" class=\"data row4 col36\" >ReLU()</td>\n",
       "                        <td id=\"T_8849defc_0b1a_11ea_a4b9_80000208fe80row4_col37\" class=\"data row4 col37\" >Conv2d(128, 128, kernel_size=(1, 1), stride=(1, 1))</td>\n",
       "                        <td id=\"T_8849defc_0b1a_11ea_a4b9_80000208fe80row4_col38\" class=\"data row4 col38\" >TorchAdd()</td>\n",
       "                        <td id=\"T_8849defc_0b1a_11ea_a4b9_80000208fe80row4_col39\" class=\"data row4 col39\" >BatchNorm2d(128, eps=1e-05, momentum=0.1, affine=True, track_running_stats=True)</td>\n",
       "                        <td id=\"T_8849defc_0b1a_11ea_a4b9_80000208fe80row4_col40\" class=\"data row4 col40\" >ReLU()</td>\n",
       "                        <td id=\"T_8849defc_0b1a_11ea_a4b9_80000208fe80row4_col41\" class=\"data row4 col41\" >Conv2d(128, 256, kernel_size=(3, 3), stride=(2, 2), padding=(1, 1))</td>\n",
       "                        <td id=\"T_8849defc_0b1a_11ea_a4b9_80000208fe80row4_col42\" class=\"data row4 col42\" >BatchNorm2d(256, eps=1e-05, momentum=0.1, affine=True, track_running_stats=True)</td>\n",
       "                        <td id=\"T_8849defc_0b1a_11ea_a4b9_80000208fe80row4_col43\" class=\"data row4 col43\" >ReLU()</td>\n",
       "                        <td id=\"T_8849defc_0b1a_11ea_a4b9_80000208fe80row4_col44\" class=\"data row4 col44\" >Conv2d(256, 256, kernel_size=(3, 3), stride=(1, 1), padding=(1, 1))</td>\n",
       "                        <td id=\"T_8849defc_0b1a_11ea_a4b9_80000208fe80row4_col45\" class=\"data row4 col45\" >ReLU()</td>\n",
       "                        <td id=\"T_8849defc_0b1a_11ea_a4b9_80000208fe80row4_col46\" class=\"data row4 col46\" >Conv2d(128, 256, kernel_size=(1, 1), stride=(2, 2))</td>\n",
       "                        <td id=\"T_8849defc_0b1a_11ea_a4b9_80000208fe80row4_col47\" class=\"data row4 col47\" >TorchAdd()</td>\n",
       "                        <td id=\"T_8849defc_0b1a_11ea_a4b9_80000208fe80row4_col48\" class=\"data row4 col48\" >BatchNorm2d(256, eps=1e-05, momentum=0.1, affine=True, track_running_stats=True)</td>\n",
       "                        <td id=\"T_8849defc_0b1a_11ea_a4b9_80000208fe80row4_col49\" class=\"data row4 col49\" >ReLU()</td>\n",
       "                        <td id=\"T_8849defc_0b1a_11ea_a4b9_80000208fe80row4_col50\" class=\"data row4 col50\" >Conv2d(256, 256, kernel_size=(3, 3), stride=(1, 1), padding=(1, 1))</td>\n",
       "                        <td id=\"T_8849defc_0b1a_11ea_a4b9_80000208fe80row4_col51\" class=\"data row4 col51\" >BatchNorm2d(256, eps=1e-05, momentum=0.1, affine=True, track_running_stats=True)</td>\n",
       "                        <td id=\"T_8849defc_0b1a_11ea_a4b9_80000208fe80row4_col52\" class=\"data row4 col52\" >ReLU()</td>\n",
       "                        <td id=\"T_8849defc_0b1a_11ea_a4b9_80000208fe80row4_col53\" class=\"data row4 col53\" >Conv2d(256, 256, kernel_size=(3, 3), stride=(1, 1), padding=(1, 1))</td>\n",
       "                        <td id=\"T_8849defc_0b1a_11ea_a4b9_80000208fe80row4_col54\" class=\"data row4 col54\" >ReLU()</td>\n",
       "                        <td id=\"T_8849defc_0b1a_11ea_a4b9_80000208fe80row4_col55\" class=\"data row4 col55\" >Conv2d(256, 256, kernel_size=(1, 1), stride=(1, 1))</td>\n",
       "                        <td id=\"T_8849defc_0b1a_11ea_a4b9_80000208fe80row4_col56\" class=\"data row4 col56\" >TorchAdd()</td>\n",
       "                        <td id=\"T_8849defc_0b1a_11ea_a4b9_80000208fe80row4_col57\" class=\"data row4 col57\" >BatchNorm2d(256, eps=1e-05, momentum=0.1, affine=True, track_running_stats=True)</td>\n",
       "                        <td id=\"T_8849defc_0b1a_11ea_a4b9_80000208fe80row4_col58\" class=\"data row4 col58\" >ReLU()</td>\n",
       "                        <td id=\"T_8849defc_0b1a_11ea_a4b9_80000208fe80row4_col59\" class=\"data row4 col59\" >Conv2d(256, 512, kernel_size=(3, 3), stride=(2, 2), padding=(1, 1))</td>\n",
       "                        <td id=\"T_8849defc_0b1a_11ea_a4b9_80000208fe80row4_col60\" class=\"data row4 col60\" >BatchNorm2d(512, eps=1e-05, momentum=0.1, affine=True, track_running_stats=True)</td>\n",
       "                        <td id=\"T_8849defc_0b1a_11ea_a4b9_80000208fe80row4_col61\" class=\"data row4 col61\" >ReLU()</td>\n",
       "                        <td id=\"T_8849defc_0b1a_11ea_a4b9_80000208fe80row4_col62\" class=\"data row4 col62\" >Conv2d(512, 512, kernel_size=(3, 3), stride=(1, 1), padding=(1, 1))</td>\n",
       "                        <td id=\"T_8849defc_0b1a_11ea_a4b9_80000208fe80row4_col63\" class=\"data row4 col63\" >ReLU()</td>\n",
       "                        <td id=\"T_8849defc_0b1a_11ea_a4b9_80000208fe80row4_col64\" class=\"data row4 col64\" >Conv2d(256, 512, kernel_size=(1, 1), stride=(2, 2))</td>\n",
       "                        <td id=\"T_8849defc_0b1a_11ea_a4b9_80000208fe80row4_col65\" class=\"data row4 col65\" >TorchAdd()</td>\n",
       "                        <td id=\"T_8849defc_0b1a_11ea_a4b9_80000208fe80row4_col66\" class=\"data row4 col66\" >BatchNorm2d(512, eps=1e-05, momentum=0.1, affine=True, track_running_stats=True)</td>\n",
       "                        <td id=\"T_8849defc_0b1a_11ea_a4b9_80000208fe80row4_col67\" class=\"data row4 col67\" >ReLU()</td>\n",
       "                        <td id=\"T_8849defc_0b1a_11ea_a4b9_80000208fe80row4_col68\" class=\"data row4 col68\" >Conv2d(512, 512, kernel_size=(3, 3), stride=(1, 1), padding=(1, 1))</td>\n",
       "                        <td id=\"T_8849defc_0b1a_11ea_a4b9_80000208fe80row4_col69\" class=\"data row4 col69\" >BatchNorm2d(512, eps=1e-05, momentum=0.1, affine=True, track_running_stats=True)</td>\n",
       "                        <td id=\"T_8849defc_0b1a_11ea_a4b9_80000208fe80row4_col70\" class=\"data row4 col70\" >ReLU()</td>\n",
       "                        <td id=\"T_8849defc_0b1a_11ea_a4b9_80000208fe80row4_col71\" class=\"data row4 col71\" >Conv2d(512, 512, kernel_size=(3, 3), stride=(1, 1), padding=(1, 1))</td>\n",
       "                        <td id=\"T_8849defc_0b1a_11ea_a4b9_80000208fe80row4_col72\" class=\"data row4 col72\" >ReLU()</td>\n",
       "                        <td id=\"T_8849defc_0b1a_11ea_a4b9_80000208fe80row4_col73\" class=\"data row4 col73\" >Conv2d(512, 512, kernel_size=(1, 1), stride=(1, 1))</td>\n",
       "                        <td id=\"T_8849defc_0b1a_11ea_a4b9_80000208fe80row4_col74\" class=\"data row4 col74\" >TorchAdd()</td>\n",
       "                        <td id=\"T_8849defc_0b1a_11ea_a4b9_80000208fe80row4_col75\" class=\"data row4 col75\" >GlobalAvgPool2d()</td>\n",
       "                        <td id=\"T_8849defc_0b1a_11ea_a4b9_80000208fe80row4_col76\" class=\"data row4 col76\" >Linear(in_features=512, out_features=10, bias=True)</td>\n",
       "            </tr>\n",
       "            <tr>\n",
       "                                <td id=\"T_8849defc_0b1a_11ea_a4b9_80000208fe80row5_col0\" class=\"data row5 col0\" >180</td>\n",
       "                        <td id=\"T_8849defc_0b1a_11ea_a4b9_80000208fe80row5_col1\" class=\"data row5 col1\" >Conv2d(1, 64, kernel_size=(3, 3), stride=(1, 1), padding=(1, 1))</td>\n",
       "                        <td id=\"T_8849defc_0b1a_11ea_a4b9_80000208fe80row5_col2\" class=\"data row5 col2\" >BatchNorm2d(64, eps=1e-05, momentum=0.1, affine=True, track_running_stats=True)</td>\n",
       "                        <td id=\"T_8849defc_0b1a_11ea_a4b9_80000208fe80row5_col3\" class=\"data row5 col3\" >BatchNorm2d(64, eps=1e-05, momentum=0.1, affine=True, track_running_stats=True)</td>\n",
       "                        <td id=\"T_8849defc_0b1a_11ea_a4b9_80000208fe80row5_col4\" class=\"data row5 col4\" >ReLU()</td>\n",
       "                        <td id=\"T_8849defc_0b1a_11ea_a4b9_80000208fe80row5_col5\" class=\"data row5 col5\" >Conv2d(64, 64, kernel_size=(3, 3), stride=(1, 1), padding=(1, 1))</td>\n",
       "                        <td id=\"T_8849defc_0b1a_11ea_a4b9_80000208fe80row5_col6\" class=\"data row5 col6\" >BatchNorm2d(64, eps=1e-05, momentum=0.1, affine=True, track_running_stats=True)</td>\n",
       "                        <td id=\"T_8849defc_0b1a_11ea_a4b9_80000208fe80row5_col7\" class=\"data row5 col7\" >ReLU()</td>\n",
       "                        <td id=\"T_8849defc_0b1a_11ea_a4b9_80000208fe80row5_col8\" class=\"data row5 col8\" >Conv2d(64, 64, kernel_size=(3, 3), stride=(1, 1), padding=(1, 1))</td>\n",
       "                        <td id=\"T_8849defc_0b1a_11ea_a4b9_80000208fe80row5_col9\" class=\"data row5 col9\" >ReLU()</td>\n",
       "                        <td id=\"T_8849defc_0b1a_11ea_a4b9_80000208fe80row5_col10\" class=\"data row5 col10\" >Conv2d(64, 64, kernel_size=(1, 1), stride=(1, 1))</td>\n",
       "                        <td id=\"T_8849defc_0b1a_11ea_a4b9_80000208fe80row5_col11\" class=\"data row5 col11\" >TorchAdd()</td>\n",
       "                        <td id=\"T_8849defc_0b1a_11ea_a4b9_80000208fe80row5_col12\" class=\"data row5 col12\" >BatchNorm2d(64, eps=1e-05, momentum=0.1, affine=True, track_running_stats=True)</td>\n",
       "                        <td id=\"T_8849defc_0b1a_11ea_a4b9_80000208fe80row5_col13\" class=\"data row5 col13\" >ReLU()</td>\n",
       "                        <td id=\"T_8849defc_0b1a_11ea_a4b9_80000208fe80row5_col14\" class=\"data row5 col14\" >Conv2d(64, 64, kernel_size=(3, 3), stride=(1, 1), padding=(1, 1))</td>\n",
       "                        <td id=\"T_8849defc_0b1a_11ea_a4b9_80000208fe80row5_col15\" class=\"data row5 col15\" >BatchNorm2d(64, eps=1e-05, momentum=0.1, affine=True, track_running_stats=True)</td>\n",
       "                        <td id=\"T_8849defc_0b1a_11ea_a4b9_80000208fe80row5_col16\" class=\"data row5 col16\" >ReLU()</td>\n",
       "                        <td id=\"T_8849defc_0b1a_11ea_a4b9_80000208fe80row5_col17\" class=\"data row5 col17\" >Conv2d(64, 64, kernel_size=(3, 3), stride=(1, 1), padding=(1, 1))</td>\n",
       "                        <td id=\"T_8849defc_0b1a_11ea_a4b9_80000208fe80row5_col18\" class=\"data row5 col18\" >ReLU()</td>\n",
       "                        <td id=\"T_8849defc_0b1a_11ea_a4b9_80000208fe80row5_col19\" class=\"data row5 col19\" >Conv2d(64, 64, kernel_size=(1, 1), stride=(1, 1))</td>\n",
       "                        <td id=\"T_8849defc_0b1a_11ea_a4b9_80000208fe80row5_col20\" class=\"data row5 col20\" >TorchAdd()</td>\n",
       "                        <td id=\"T_8849defc_0b1a_11ea_a4b9_80000208fe80row5_col21\" class=\"data row5 col21\" >BatchNorm2d(64, eps=1e-05, momentum=0.1, affine=True, track_running_stats=True)</td>\n",
       "                        <td id=\"T_8849defc_0b1a_11ea_a4b9_80000208fe80row5_col22\" class=\"data row5 col22\" >ReLU()</td>\n",
       "                        <td id=\"T_8849defc_0b1a_11ea_a4b9_80000208fe80row5_col23\" class=\"data row5 col23\" >Conv2d(64, 128, kernel_size=(3, 3), stride=(2, 2), padding=(1, 1))</td>\n",
       "                        <td id=\"T_8849defc_0b1a_11ea_a4b9_80000208fe80row5_col24\" class=\"data row5 col24\" >BatchNorm2d(128, eps=1e-05, momentum=0.1, affine=True, track_running_stats=True)</td>\n",
       "                        <td id=\"T_8849defc_0b1a_11ea_a4b9_80000208fe80row5_col25\" class=\"data row5 col25\" >ReLU()</td>\n",
       "                        <td id=\"T_8849defc_0b1a_11ea_a4b9_80000208fe80row5_col26\" class=\"data row5 col26\" >Conv2d(128, 128, kernel_size=(3, 3), stride=(1, 1), padding=(1, 1))</td>\n",
       "                        <td id=\"T_8849defc_0b1a_11ea_a4b9_80000208fe80row5_col27\" class=\"data row5 col27\" >ReLU()</td>\n",
       "                        <td id=\"T_8849defc_0b1a_11ea_a4b9_80000208fe80row5_col28\" class=\"data row5 col28\" >Conv2d(64, 128, kernel_size=(1, 1), stride=(2, 2))</td>\n",
       "                        <td id=\"T_8849defc_0b1a_11ea_a4b9_80000208fe80row5_col29\" class=\"data row5 col29\" >TorchAdd()</td>\n",
       "                        <td id=\"T_8849defc_0b1a_11ea_a4b9_80000208fe80row5_col30\" class=\"data row5 col30\" >BatchNorm2d(128, eps=1e-05, momentum=0.1, affine=True, track_running_stats=True)</td>\n",
       "                        <td id=\"T_8849defc_0b1a_11ea_a4b9_80000208fe80row5_col31\" class=\"data row5 col31\" >ReLU()</td>\n",
       "                        <td id=\"T_8849defc_0b1a_11ea_a4b9_80000208fe80row5_col32\" class=\"data row5 col32\" >Conv2d(128, 128, kernel_size=(3, 3), stride=(1, 1), padding=(1, 1))</td>\n",
       "                        <td id=\"T_8849defc_0b1a_11ea_a4b9_80000208fe80row5_col33\" class=\"data row5 col33\" >BatchNorm2d(128, eps=1e-05, momentum=0.1, affine=True, track_running_stats=True)</td>\n",
       "                        <td id=\"T_8849defc_0b1a_11ea_a4b9_80000208fe80row5_col34\" class=\"data row5 col34\" >ReLU()</td>\n",
       "                        <td id=\"T_8849defc_0b1a_11ea_a4b9_80000208fe80row5_col35\" class=\"data row5 col35\" >Conv2d(128, 128, kernel_size=(3, 3), stride=(1, 1), padding=(1, 1))</td>\n",
       "                        <td id=\"T_8849defc_0b1a_11ea_a4b9_80000208fe80row5_col36\" class=\"data row5 col36\" >ReLU()</td>\n",
       "                        <td id=\"T_8849defc_0b1a_11ea_a4b9_80000208fe80row5_col37\" class=\"data row5 col37\" >Conv2d(128, 128, kernel_size=(1, 1), stride=(1, 1))</td>\n",
       "                        <td id=\"T_8849defc_0b1a_11ea_a4b9_80000208fe80row5_col38\" class=\"data row5 col38\" >TorchAdd()</td>\n",
       "                        <td id=\"T_8849defc_0b1a_11ea_a4b9_80000208fe80row5_col39\" class=\"data row5 col39\" >BatchNorm2d(128, eps=1e-05, momentum=0.1, affine=True, track_running_stats=True)</td>\n",
       "                        <td id=\"T_8849defc_0b1a_11ea_a4b9_80000208fe80row5_col40\" class=\"data row5 col40\" >ReLU()</td>\n",
       "                        <td id=\"T_8849defc_0b1a_11ea_a4b9_80000208fe80row5_col41\" class=\"data row5 col41\" >Conv2d(128, 256, kernel_size=(3, 3), stride=(2, 2), padding=(1, 1))</td>\n",
       "                        <td id=\"T_8849defc_0b1a_11ea_a4b9_80000208fe80row5_col42\" class=\"data row5 col42\" >BatchNorm2d(256, eps=1e-05, momentum=0.1, affine=True, track_running_stats=True)</td>\n",
       "                        <td id=\"T_8849defc_0b1a_11ea_a4b9_80000208fe80row5_col43\" class=\"data row5 col43\" >ReLU()</td>\n",
       "                        <td id=\"T_8849defc_0b1a_11ea_a4b9_80000208fe80row5_col44\" class=\"data row5 col44\" >Conv2d(256, 256, kernel_size=(3, 3), stride=(1, 1), padding=(1, 1))</td>\n",
       "                        <td id=\"T_8849defc_0b1a_11ea_a4b9_80000208fe80row5_col45\" class=\"data row5 col45\" >ReLU()</td>\n",
       "                        <td id=\"T_8849defc_0b1a_11ea_a4b9_80000208fe80row5_col46\" class=\"data row5 col46\" >Conv2d(128, 256, kernel_size=(1, 1), stride=(2, 2))</td>\n",
       "                        <td id=\"T_8849defc_0b1a_11ea_a4b9_80000208fe80row5_col47\" class=\"data row5 col47\" >TorchAdd()</td>\n",
       "                        <td id=\"T_8849defc_0b1a_11ea_a4b9_80000208fe80row5_col48\" class=\"data row5 col48\" >BatchNorm2d(256, eps=1e-05, momentum=0.1, affine=True, track_running_stats=True)</td>\n",
       "                        <td id=\"T_8849defc_0b1a_11ea_a4b9_80000208fe80row5_col49\" class=\"data row5 col49\" >ReLU()</td>\n",
       "                        <td id=\"T_8849defc_0b1a_11ea_a4b9_80000208fe80row5_col50\" class=\"data row5 col50\" >Conv2d(256, 256, kernel_size=(3, 3), stride=(1, 1), padding=(1, 1))</td>\n",
       "                        <td id=\"T_8849defc_0b1a_11ea_a4b9_80000208fe80row5_col51\" class=\"data row5 col51\" >BatchNorm2d(256, eps=1e-05, momentum=0.1, affine=True, track_running_stats=True)</td>\n",
       "                        <td id=\"T_8849defc_0b1a_11ea_a4b9_80000208fe80row5_col52\" class=\"data row5 col52\" >ReLU()</td>\n",
       "                        <td id=\"T_8849defc_0b1a_11ea_a4b9_80000208fe80row5_col53\" class=\"data row5 col53\" >Conv2d(256, 256, kernel_size=(3, 3), stride=(1, 1), padding=(1, 1))</td>\n",
       "                        <td id=\"T_8849defc_0b1a_11ea_a4b9_80000208fe80row5_col54\" class=\"data row5 col54\" >ReLU()</td>\n",
       "                        <td id=\"T_8849defc_0b1a_11ea_a4b9_80000208fe80row5_col55\" class=\"data row5 col55\" >Conv2d(256, 256, kernel_size=(1, 1), stride=(1, 1))</td>\n",
       "                        <td id=\"T_8849defc_0b1a_11ea_a4b9_80000208fe80row5_col56\" class=\"data row5 col56\" >TorchAdd()</td>\n",
       "                        <td id=\"T_8849defc_0b1a_11ea_a4b9_80000208fe80row5_col57\" class=\"data row5 col57\" >BatchNorm2d(256, eps=1e-05, momentum=0.1, affine=True, track_running_stats=True)</td>\n",
       "                        <td id=\"T_8849defc_0b1a_11ea_a4b9_80000208fe80row5_col58\" class=\"data row5 col58\" >ReLU()</td>\n",
       "                        <td id=\"T_8849defc_0b1a_11ea_a4b9_80000208fe80row5_col59\" class=\"data row5 col59\" >Conv2d(256, 512, kernel_size=(3, 3), stride=(2, 2), padding=(1, 1))</td>\n",
       "                        <td id=\"T_8849defc_0b1a_11ea_a4b9_80000208fe80row5_col60\" class=\"data row5 col60\" >BatchNorm2d(512, eps=1e-05, momentum=0.1, affine=True, track_running_stats=True)</td>\n",
       "                        <td id=\"T_8849defc_0b1a_11ea_a4b9_80000208fe80row5_col61\" class=\"data row5 col61\" >ReLU()</td>\n",
       "                        <td id=\"T_8849defc_0b1a_11ea_a4b9_80000208fe80row5_col62\" class=\"data row5 col62\" >Conv2d(512, 512, kernel_size=(3, 3), stride=(1, 1), padding=(1, 1))</td>\n",
       "                        <td id=\"T_8849defc_0b1a_11ea_a4b9_80000208fe80row5_col63\" class=\"data row5 col63\" >ReLU()</td>\n",
       "                        <td id=\"T_8849defc_0b1a_11ea_a4b9_80000208fe80row5_col64\" class=\"data row5 col64\" >Conv2d(256, 512, kernel_size=(1, 1), stride=(2, 2))</td>\n",
       "                        <td id=\"T_8849defc_0b1a_11ea_a4b9_80000208fe80row5_col65\" class=\"data row5 col65\" >TorchAdd()</td>\n",
       "                        <td id=\"T_8849defc_0b1a_11ea_a4b9_80000208fe80row5_col66\" class=\"data row5 col66\" >BatchNorm2d(512, eps=1e-05, momentum=0.1, affine=True, track_running_stats=True)</td>\n",
       "                        <td id=\"T_8849defc_0b1a_11ea_a4b9_80000208fe80row5_col67\" class=\"data row5 col67\" >ReLU()</td>\n",
       "                        <td id=\"T_8849defc_0b1a_11ea_a4b9_80000208fe80row5_col68\" class=\"data row5 col68\" >Conv2d(512, 512, kernel_size=(3, 3), stride=(1, 1), padding=(1, 1))</td>\n",
       "                        <td id=\"T_8849defc_0b1a_11ea_a4b9_80000208fe80row5_col69\" class=\"data row5 col69\" >BatchNorm2d(512, eps=1e-05, momentum=0.1, affine=True, track_running_stats=True)</td>\n",
       "                        <td id=\"T_8849defc_0b1a_11ea_a4b9_80000208fe80row5_col70\" class=\"data row5 col70\" >ReLU()</td>\n",
       "                        <td id=\"T_8849defc_0b1a_11ea_a4b9_80000208fe80row5_col71\" class=\"data row5 col71\" >Conv2d(512, 512, kernel_size=(3, 3), stride=(1, 1), padding=(1, 1))</td>\n",
       "                        <td id=\"T_8849defc_0b1a_11ea_a4b9_80000208fe80row5_col72\" class=\"data row5 col72\" >ReLU()</td>\n",
       "                        <td id=\"T_8849defc_0b1a_11ea_a4b9_80000208fe80row5_col73\" class=\"data row5 col73\" >Conv2d(512, 512, kernel_size=(1, 1), stride=(1, 1))</td>\n",
       "                        <td id=\"T_8849defc_0b1a_11ea_a4b9_80000208fe80row5_col74\" class=\"data row5 col74\" >TorchAdd()</td>\n",
       "                        <td id=\"T_8849defc_0b1a_11ea_a4b9_80000208fe80row5_col75\" class=\"data row5 col75\" >GlobalAvgPool2d()</td>\n",
       "                        <td id=\"T_8849defc_0b1a_11ea_a4b9_80000208fe80row5_col76\" class=\"data row5 col76\" >Linear(in_features=512, out_features=10, bias=True)</td>\n",
       "            </tr>\n",
       "    </tbody></table>"
      ],
      "text/plain": [
       "<pandas.io.formats.style.Styler at 0x2aca5a52acf8>"
      ]
     },
     "metadata": {},
     "output_type": "display_data"
    },
    {
     "data": {
      "text/plain": [
       "'H2OAutoML #1'"
      ]
     },
     "metadata": {},
     "output_type": "display_data"
    },
    {
     "data": {
      "text/html": [
       "<style  type=\"text/css\" >\n",
       "</style><table id=\"T_884e423a_0b1a_11ea_a4b9_80000208fe80\" ><thead>    <tr>        <th class=\"col_heading level0 col0\" >max_angle</th>        <th class=\"col_heading level0 col1\" >test_acc</th>        <th class=\"col_heading level0 col2\" >train_acc</th>        <th class=\"col_heading level0 col3\" >time_err</th>        <th class=\"col_heading level0 col4\" >time_pre</th>        <th class=\"col_heading level0 col5\" >time_mod</th>    </tr></thead><tbody>\n",
       "                <tr>\n",
       "                                <td id=\"T_884e423a_0b1a_11ea_a4b9_80000208fe80row0_col0\" class=\"data row0 col0\" >0</td>\n",
       "                        <td id=\"T_884e423a_0b1a_11ea_a4b9_80000208fe80row0_col1\" class=\"data row0 col1\" >0.984</td>\n",
       "                        <td id=\"T_884e423a_0b1a_11ea_a4b9_80000208fe80row0_col2\" class=\"data row0 col2\" >1</td>\n",
       "                        <td id=\"T_884e423a_0b1a_11ea_a4b9_80000208fe80row0_col3\" class=\"data row0 col3\" >0.191</td>\n",
       "                        <td id=\"T_884e423a_0b1a_11ea_a4b9_80000208fe80row0_col4\" class=\"data row0 col4\" >0.001</td>\n",
       "                        <td id=\"T_884e423a_0b1a_11ea_a4b9_80000208fe80row0_col5\" class=\"data row0 col5\" >983.474</td>\n",
       "            </tr>\n",
       "            <tr>\n",
       "                                <td id=\"T_884e423a_0b1a_11ea_a4b9_80000208fe80row1_col0\" class=\"data row1 col0\" >36</td>\n",
       "                        <td id=\"T_884e423a_0b1a_11ea_a4b9_80000208fe80row1_col1\" class=\"data row1 col1\" >0.938</td>\n",
       "                        <td id=\"T_884e423a_0b1a_11ea_a4b9_80000208fe80row1_col2\" class=\"data row1 col2\" >1</td>\n",
       "                        <td id=\"T_884e423a_0b1a_11ea_a4b9_80000208fe80row1_col3\" class=\"data row1 col3\" >0.217</td>\n",
       "                        <td id=\"T_884e423a_0b1a_11ea_a4b9_80000208fe80row1_col4\" class=\"data row1 col4\" >0.002</td>\n",
       "                        <td id=\"T_884e423a_0b1a_11ea_a4b9_80000208fe80row1_col5\" class=\"data row1 col5\" >976.954</td>\n",
       "            </tr>\n",
       "            <tr>\n",
       "                                <td id=\"T_884e423a_0b1a_11ea_a4b9_80000208fe80row2_col0\" class=\"data row2 col0\" >72</td>\n",
       "                        <td id=\"T_884e423a_0b1a_11ea_a4b9_80000208fe80row2_col1\" class=\"data row2 col1\" >0.872</td>\n",
       "                        <td id=\"T_884e423a_0b1a_11ea_a4b9_80000208fe80row2_col2\" class=\"data row2 col2\" >1</td>\n",
       "                        <td id=\"T_884e423a_0b1a_11ea_a4b9_80000208fe80row2_col3\" class=\"data row2 col3\" >0.206</td>\n",
       "                        <td id=\"T_884e423a_0b1a_11ea_a4b9_80000208fe80row2_col4\" class=\"data row2 col4\" >0.001</td>\n",
       "                        <td id=\"T_884e423a_0b1a_11ea_a4b9_80000208fe80row2_col5\" class=\"data row2 col5\" >975.313</td>\n",
       "            </tr>\n",
       "            <tr>\n",
       "                                <td id=\"T_884e423a_0b1a_11ea_a4b9_80000208fe80row3_col0\" class=\"data row3 col0\" >108</td>\n",
       "                        <td id=\"T_884e423a_0b1a_11ea_a4b9_80000208fe80row3_col1\" class=\"data row3 col1\" >0.891</td>\n",
       "                        <td id=\"T_884e423a_0b1a_11ea_a4b9_80000208fe80row3_col2\" class=\"data row3 col2\" >1</td>\n",
       "                        <td id=\"T_884e423a_0b1a_11ea_a4b9_80000208fe80row3_col3\" class=\"data row3 col3\" >0.213</td>\n",
       "                        <td id=\"T_884e423a_0b1a_11ea_a4b9_80000208fe80row3_col4\" class=\"data row3 col4\" >0.001</td>\n",
       "                        <td id=\"T_884e423a_0b1a_11ea_a4b9_80000208fe80row3_col5\" class=\"data row3 col5\" >930.406</td>\n",
       "            </tr>\n",
       "            <tr>\n",
       "                                <td id=\"T_884e423a_0b1a_11ea_a4b9_80000208fe80row4_col0\" class=\"data row4 col0\" >144</td>\n",
       "                        <td id=\"T_884e423a_0b1a_11ea_a4b9_80000208fe80row4_col1\" class=\"data row4 col1\" >0.84</td>\n",
       "                        <td id=\"T_884e423a_0b1a_11ea_a4b9_80000208fe80row4_col2\" class=\"data row4 col2\" >1</td>\n",
       "                        <td id=\"T_884e423a_0b1a_11ea_a4b9_80000208fe80row4_col3\" class=\"data row4 col3\" >0.225</td>\n",
       "                        <td id=\"T_884e423a_0b1a_11ea_a4b9_80000208fe80row4_col4\" class=\"data row4 col4\" >0.001</td>\n",
       "                        <td id=\"T_884e423a_0b1a_11ea_a4b9_80000208fe80row4_col5\" class=\"data row4 col5\" >936.047</td>\n",
       "            </tr>\n",
       "            <tr>\n",
       "                                <td id=\"T_884e423a_0b1a_11ea_a4b9_80000208fe80row5_col0\" class=\"data row5 col0\" >180</td>\n",
       "                        <td id=\"T_884e423a_0b1a_11ea_a4b9_80000208fe80row5_col1\" class=\"data row5 col1\" >0.844</td>\n",
       "                        <td id=\"T_884e423a_0b1a_11ea_a4b9_80000208fe80row5_col2\" class=\"data row5 col2\" >1</td>\n",
       "                        <td id=\"T_884e423a_0b1a_11ea_a4b9_80000208fe80row5_col3\" class=\"data row5 col3\" >0.213</td>\n",
       "                        <td id=\"T_884e423a_0b1a_11ea_a4b9_80000208fe80row5_col4\" class=\"data row5 col4\" >0.001</td>\n",
       "                        <td id=\"T_884e423a_0b1a_11ea_a4b9_80000208fe80row5_col5\" class=\"data row5 col5\" >930.004</td>\n",
       "            </tr>\n",
       "    </tbody></table>"
      ],
      "text/plain": [
       "<pandas.io.formats.style.Styler at 0x2aca5a52abe0>"
      ]
     },
     "metadata": {},
     "output_type": "display_data"
    },
    {
     "data": {
      "text/html": [
       "<style  type=\"text/css\" >\n",
       "</style><table id=\"T_88515cea_0b1a_11ea_a4b9_80000208fe80\" ><thead>    <tr>        <th class=\"col_heading level0 col0\" >max_angle</th>        <th class=\"col_heading level0 col1\" >pipe_0</th>        <th class=\"col_heading level0 col2\" >pipe_1</th>        <th class=\"col_heading level0 col3\" >pipe_2</th>        <th class=\"col_heading level0 col4\" >pipe_3</th>        <th class=\"col_heading level0 col5\" >pipe_4</th>        <th class=\"col_heading level0 col6\" >pipe_5</th>        <th class=\"col_heading level0 col7\" >pipe_6</th>        <th class=\"col_heading level0 col8\" >pipe_7</th>        <th class=\"col_heading level0 col9\" >pipe_8</th>        <th class=\"col_heading level0 col10\" >pipe_9</th>        <th class=\"col_heading level0 col11\" >pipe_10</th>        <th class=\"col_heading level0 col12\" >pipe_11</th>        <th class=\"col_heading level0 col13\" >pipe_12</th>        <th class=\"col_heading level0 col14\" >pipe_13</th>        <th class=\"col_heading level0 col15\" >pipe_14</th>        <th class=\"col_heading level0 col16\" >pipe_15</th>        <th class=\"col_heading level0 col17\" >pipe_16</th>        <th class=\"col_heading level0 col18\" >pipe_17</th>        <th class=\"col_heading level0 col19\" >pipe_18</th>        <th class=\"col_heading level0 col20\" >pipe_19</th>        <th class=\"col_heading level0 col21\" >pipe_20</th>        <th class=\"col_heading level0 col22\" >pipe_21</th>        <th class=\"col_heading level0 col23\" >pipe_22</th>        <th class=\"col_heading level0 col24\" >pipe_23</th>        <th class=\"col_heading level0 col25\" >pipe_24</th>        <th class=\"col_heading level0 col26\" >pipe_25</th>        <th class=\"col_heading level0 col27\" >pipe_26</th>        <th class=\"col_heading level0 col28\" >pipe_27</th>        <th class=\"col_heading level0 col29\" >pipe_28</th>        <th class=\"col_heading level0 col30\" >pipe_29</th>        <th class=\"col_heading level0 col31\" >pipe_30</th>        <th class=\"col_heading level0 col32\" >pipe_31</th>        <th class=\"col_heading level0 col33\" >pipe_32</th>        <th class=\"col_heading level0 col34\" >pipe_33</th>        <th class=\"col_heading level0 col35\" >pipe_34</th>        <th class=\"col_heading level0 col36\" >pipe_35</th>        <th class=\"col_heading level0 col37\" >pipe_36</th>        <th class=\"col_heading level0 col38\" >pipe_37</th>        <th class=\"col_heading level0 col39\" >pipe_38</th>        <th class=\"col_heading level0 col40\" >pipe_39</th>        <th class=\"col_heading level0 col41\" >pipe_40</th>        <th class=\"col_heading level0 col42\" >pipe_41</th>        <th class=\"col_heading level0 col43\" >pipe_42</th>        <th class=\"col_heading level0 col44\" >pipe_43</th>        <th class=\"col_heading level0 col45\" >pipe_44</th>        <th class=\"col_heading level0 col46\" >pipe_45</th>        <th class=\"col_heading level0 col47\" >pipe_46</th>        <th class=\"col_heading level0 col48\" >pipe_47</th>        <th class=\"col_heading level0 col49\" >pipe_48</th>        <th class=\"col_heading level0 col50\" >pipe_49</th>        <th class=\"col_heading level0 col51\" >pipe_50</th>        <th class=\"col_heading level0 col52\" >pipe_51</th>        <th class=\"col_heading level0 col53\" >pipe_52</th>        <th class=\"col_heading level0 col54\" >pipe_53</th>        <th class=\"col_heading level0 col55\" >pipe_54</th>        <th class=\"col_heading level0 col56\" >pipe_55</th>        <th class=\"col_heading level0 col57\" >pipe_56</th>        <th class=\"col_heading level0 col58\" >pipe_57</th>        <th class=\"col_heading level0 col59\" >pipe_58</th>        <th class=\"col_heading level0 col60\" >pipe_59</th>        <th class=\"col_heading level0 col61\" >pipe_60</th>        <th class=\"col_heading level0 col62\" >pipe_61</th>        <th class=\"col_heading level0 col63\" >pipe_62</th>        <th class=\"col_heading level0 col64\" >pipe_63</th>        <th class=\"col_heading level0 col65\" >pipe_64</th>        <th class=\"col_heading level0 col66\" >pipe_65</th>        <th class=\"col_heading level0 col67\" >pipe_66</th>        <th class=\"col_heading level0 col68\" >pipe_67</th>        <th class=\"col_heading level0 col69\" >pipe_68</th>        <th class=\"col_heading level0 col70\" >pipe_69</th>        <th class=\"col_heading level0 col71\" >pipe_70</th>        <th class=\"col_heading level0 col72\" >pipe_71</th>        <th class=\"col_heading level0 col73\" >pipe_72</th>        <th class=\"col_heading level0 col74\" >pipe_73</th>        <th class=\"col_heading level0 col75\" >pipe_74</th>        <th class=\"col_heading level0 col76\" >pipe_75</th>        <th class=\"col_heading level0 col77\" >pipe_76</th>        <th class=\"col_heading level0 col78\" >pipe_77</th>        <th class=\"col_heading level0 col79\" >pipe_78</th>        <th class=\"col_heading level0 col80\" >pipe_79</th>        <th class=\"col_heading level0 col81\" >pipe_80</th>        <th class=\"col_heading level0 col82\" >pipe_81</th>        <th class=\"col_heading level0 col83\" >pipe_82</th>        <th class=\"col_heading level0 col84\" >pipe_83</th>        <th class=\"col_heading level0 col85\" >pipe_84</th>        <th class=\"col_heading level0 col86\" >pipe_85</th>        <th class=\"col_heading level0 col87\" >pipe_86</th>        <th class=\"col_heading level0 col88\" >pipe_87</th>        <th class=\"col_heading level0 col89\" >pipe_88</th>        <th class=\"col_heading level0 col90\" >pipe_89</th>        <th class=\"col_heading level0 col91\" >pipe_90</th>        <th class=\"col_heading level0 col92\" >pipe_91</th>        <th class=\"col_heading level0 col93\" >pipe_92</th>        <th class=\"col_heading level0 col94\" >pipe_93</th>        <th class=\"col_heading level0 col95\" >pipe_94</th>        <th class=\"col_heading level0 col96\" >pipe_95</th>        <th class=\"col_heading level0 col97\" >pipe_96</th>        <th class=\"col_heading level0 col98\" >pipe_97</th>        <th class=\"col_heading level0 col99\" >pipe_98</th>        <th class=\"col_heading level0 col100\" >pipe_99</th>        <th class=\"col_heading level0 col101\" >pipe_100</th>        <th class=\"col_heading level0 col102\" >pipe_101</th>    </tr></thead><tbody>\n",
       "                <tr>\n",
       "                                <td id=\"T_88515cea_0b1a_11ea_a4b9_80000208fe80row0_col0\" class=\"data row0 col0\" >0</td>\n",
       "                        <td id=\"T_88515cea_0b1a_11ea_a4b9_80000208fe80row0_col1\" class=\"data row0 col1\" >StackedEnsemble_AllModels_AutoML_20191119_154255</td>\n",
       "                        <td id=\"T_88515cea_0b1a_11ea_a4b9_80000208fe80row0_col2\" class=\"data row0 col2\" >DeepLearning_grid_1_AutoML_20191119_154255_model_9</td>\n",
       "                        <td id=\"T_88515cea_0b1a_11ea_a4b9_80000208fe80row0_col3\" class=\"data row0 col3\" >DeepLearning_grid_1_AutoML_20191119_154255_model_6</td>\n",
       "                        <td id=\"T_88515cea_0b1a_11ea_a4b9_80000208fe80row0_col4\" class=\"data row0 col4\" >DeepLearning_grid_1_AutoML_20191119_154255_model_2</td>\n",
       "                        <td id=\"T_88515cea_0b1a_11ea_a4b9_80000208fe80row0_col5\" class=\"data row0 col5\" >GBM_grid_1_AutoML_20191119_154255_model_39</td>\n",
       "                        <td id=\"T_88515cea_0b1a_11ea_a4b9_80000208fe80row0_col6\" class=\"data row0 col6\" >GBM_grid_1_AutoML_20191119_154255_model_31</td>\n",
       "                        <td id=\"T_88515cea_0b1a_11ea_a4b9_80000208fe80row0_col7\" class=\"data row0 col7\" >GBM_grid_1_AutoML_20191119_154255_model_35</td>\n",
       "                        <td id=\"T_88515cea_0b1a_11ea_a4b9_80000208fe80row0_col8\" class=\"data row0 col8\" >DeepLearning_grid_1_AutoML_20191119_154255_model_1</td>\n",
       "                        <td id=\"T_88515cea_0b1a_11ea_a4b9_80000208fe80row0_col9\" class=\"data row0 col9\" >GBM_grid_1_AutoML_20191119_154255_model_18</td>\n",
       "                        <td id=\"T_88515cea_0b1a_11ea_a4b9_80000208fe80row0_col10\" class=\"data row0 col10\" >GBM_grid_1_AutoML_20191119_154255_model_12</td>\n",
       "                        <td id=\"T_88515cea_0b1a_11ea_a4b9_80000208fe80row0_col11\" class=\"data row0 col11\" >GBM_3_AutoML_20191119_154255</td>\n",
       "                        <td id=\"T_88515cea_0b1a_11ea_a4b9_80000208fe80row0_col12\" class=\"data row0 col12\" >GBM_grid_1_AutoML_20191119_154255_model_27</td>\n",
       "                        <td id=\"T_88515cea_0b1a_11ea_a4b9_80000208fe80row0_col13\" class=\"data row0 col13\" >GBM_grid_1_AutoML_20191119_154255_model_19</td>\n",
       "                        <td id=\"T_88515cea_0b1a_11ea_a4b9_80000208fe80row0_col14\" class=\"data row0 col14\" >GBM_grid_1_AutoML_20191119_154255_model_40</td>\n",
       "                        <td id=\"T_88515cea_0b1a_11ea_a4b9_80000208fe80row0_col15\" class=\"data row0 col15\" >XGBoost_grid_1_AutoML_20191119_154255_model_13</td>\n",
       "                        <td id=\"T_88515cea_0b1a_11ea_a4b9_80000208fe80row0_col16\" class=\"data row0 col16\" >DeepLearning_grid_1_AutoML_20191119_154255_model_5</td>\n",
       "                        <td id=\"T_88515cea_0b1a_11ea_a4b9_80000208fe80row0_col17\" class=\"data row0 col17\" >GBM_grid_1_AutoML_20191119_154255_model_1</td>\n",
       "                        <td id=\"T_88515cea_0b1a_11ea_a4b9_80000208fe80row0_col18\" class=\"data row0 col18\" >GBM_grid_1_AutoML_20191119_154255_model_20</td>\n",
       "                        <td id=\"T_88515cea_0b1a_11ea_a4b9_80000208fe80row0_col19\" class=\"data row0 col19\" >DeepLearning_grid_1_AutoML_20191119_154255_model_3</td>\n",
       "                        <td id=\"T_88515cea_0b1a_11ea_a4b9_80000208fe80row0_col20\" class=\"data row0 col20\" >GBM_2_AutoML_20191119_154255</td>\n",
       "                        <td id=\"T_88515cea_0b1a_11ea_a4b9_80000208fe80row0_col21\" class=\"data row0 col21\" >GBM_grid_1_AutoML_20191119_154255_model_15</td>\n",
       "                        <td id=\"T_88515cea_0b1a_11ea_a4b9_80000208fe80row0_col22\" class=\"data row0 col22\" >DRF_1_AutoML_20191119_154255</td>\n",
       "                        <td id=\"T_88515cea_0b1a_11ea_a4b9_80000208fe80row0_col23\" class=\"data row0 col23\" >GBM_4_AutoML_20191119_154255</td>\n",
       "                        <td id=\"T_88515cea_0b1a_11ea_a4b9_80000208fe80row0_col24\" class=\"data row0 col24\" >XRT_1_AutoML_20191119_154255</td>\n",
       "                        <td id=\"T_88515cea_0b1a_11ea_a4b9_80000208fe80row0_col25\" class=\"data row0 col25\" >GBM_grid_1_AutoML_20191119_154255_model_13</td>\n",
       "                        <td id=\"T_88515cea_0b1a_11ea_a4b9_80000208fe80row0_col26\" class=\"data row0 col26\" >GBM_grid_1_AutoML_20191119_154255_model_32</td>\n",
       "                        <td id=\"T_88515cea_0b1a_11ea_a4b9_80000208fe80row0_col27\" class=\"data row0 col27\" >GBM_grid_1_AutoML_20191119_154255_model_16</td>\n",
       "                        <td id=\"T_88515cea_0b1a_11ea_a4b9_80000208fe80row0_col28\" class=\"data row0 col28\" >XGBoost_grid_1_AutoML_20191119_154255_model_8</td>\n",
       "                        <td id=\"T_88515cea_0b1a_11ea_a4b9_80000208fe80row0_col29\" class=\"data row0 col29\" >GBM_grid_1_AutoML_20191119_154255_model_17</td>\n",
       "                        <td id=\"T_88515cea_0b1a_11ea_a4b9_80000208fe80row0_col30\" class=\"data row0 col30\" >GBM_grid_1_AutoML_20191119_154255_model_41</td>\n",
       "                        <td id=\"T_88515cea_0b1a_11ea_a4b9_80000208fe80row0_col31\" class=\"data row0 col31\" >GBM_grid_1_AutoML_20191119_154255_model_26</td>\n",
       "                        <td id=\"T_88515cea_0b1a_11ea_a4b9_80000208fe80row0_col32\" class=\"data row0 col32\" >GBM_5_AutoML_20191119_154255</td>\n",
       "                        <td id=\"T_88515cea_0b1a_11ea_a4b9_80000208fe80row0_col33\" class=\"data row0 col33\" >GBM_grid_1_AutoML_20191119_154255_model_6</td>\n",
       "                        <td id=\"T_88515cea_0b1a_11ea_a4b9_80000208fe80row0_col34\" class=\"data row0 col34\" >GBM_grid_1_AutoML_20191119_154255_model_24</td>\n",
       "                        <td id=\"T_88515cea_0b1a_11ea_a4b9_80000208fe80row0_col35\" class=\"data row0 col35\" >DeepLearning_grid_1_AutoML_20191119_154255_model_8</td>\n",
       "                        <td id=\"T_88515cea_0b1a_11ea_a4b9_80000208fe80row0_col36\" class=\"data row0 col36\" >GBM_grid_1_AutoML_20191119_154255_model_10</td>\n",
       "                        <td id=\"T_88515cea_0b1a_11ea_a4b9_80000208fe80row0_col37\" class=\"data row0 col37\" >GBM_grid_1_AutoML_20191119_154255_model_3</td>\n",
       "                        <td id=\"T_88515cea_0b1a_11ea_a4b9_80000208fe80row0_col38\" class=\"data row0 col38\" >GBM_1_AutoML_20191119_154255</td>\n",
       "                        <td id=\"T_88515cea_0b1a_11ea_a4b9_80000208fe80row0_col39\" class=\"data row0 col39\" >GLM_grid_1_AutoML_20191119_154255_model_1</td>\n",
       "                        <td id=\"T_88515cea_0b1a_11ea_a4b9_80000208fe80row0_col40\" class=\"data row0 col40\" >XGBoost_grid_1_AutoML_20191119_154255_model_30</td>\n",
       "                        <td id=\"T_88515cea_0b1a_11ea_a4b9_80000208fe80row0_col41\" class=\"data row0 col41\" >GBM_grid_1_AutoML_20191119_154255_model_14</td>\n",
       "                        <td id=\"T_88515cea_0b1a_11ea_a4b9_80000208fe80row0_col42\" class=\"data row0 col42\" >XGBoost_3_AutoML_20191119_154255</td>\n",
       "                        <td id=\"T_88515cea_0b1a_11ea_a4b9_80000208fe80row0_col43\" class=\"data row0 col43\" >XGBoost_grid_1_AutoML_20191119_154255_model_15</td>\n",
       "                        <td id=\"T_88515cea_0b1a_11ea_a4b9_80000208fe80row0_col44\" class=\"data row0 col44\" >XGBoost_grid_1_AutoML_20191119_154255_model_17</td>\n",
       "                        <td id=\"T_88515cea_0b1a_11ea_a4b9_80000208fe80row0_col45\" class=\"data row0 col45\" >GBM_grid_1_AutoML_20191119_154255_model_11</td>\n",
       "                        <td id=\"T_88515cea_0b1a_11ea_a4b9_80000208fe80row0_col46\" class=\"data row0 col46\" >XGBoost_1_AutoML_20191119_154255</td>\n",
       "                        <td id=\"T_88515cea_0b1a_11ea_a4b9_80000208fe80row0_col47\" class=\"data row0 col47\" >XGBoost_grid_1_AutoML_20191119_154255_model_25</td>\n",
       "                        <td id=\"T_88515cea_0b1a_11ea_a4b9_80000208fe80row0_col48\" class=\"data row0 col48\" >GBM_grid_1_AutoML_20191119_154255_model_8</td>\n",
       "                        <td id=\"T_88515cea_0b1a_11ea_a4b9_80000208fe80row0_col49\" class=\"data row0 col49\" >XGBoost_grid_1_AutoML_20191119_154255_model_4</td>\n",
       "                        <td id=\"T_88515cea_0b1a_11ea_a4b9_80000208fe80row0_col50\" class=\"data row0 col50\" >XGBoost_grid_1_AutoML_20191119_154255_model_18</td>\n",
       "                        <td id=\"T_88515cea_0b1a_11ea_a4b9_80000208fe80row0_col51\" class=\"data row0 col51\" >XGBoost_grid_1_AutoML_20191119_154255_model_21</td>\n",
       "                        <td id=\"T_88515cea_0b1a_11ea_a4b9_80000208fe80row0_col52\" class=\"data row0 col52\" >XGBoost_grid_1_AutoML_20191119_154255_model_26</td>\n",
       "                        <td id=\"T_88515cea_0b1a_11ea_a4b9_80000208fe80row0_col53\" class=\"data row0 col53\" >XGBoost_grid_1_AutoML_20191119_154255_model_2</td>\n",
       "                        <td id=\"T_88515cea_0b1a_11ea_a4b9_80000208fe80row0_col54\" class=\"data row0 col54\" >XGBoost_grid_1_AutoML_20191119_154255_model_20</td>\n",
       "                        <td id=\"T_88515cea_0b1a_11ea_a4b9_80000208fe80row0_col55\" class=\"data row0 col55\" >GBM_grid_1_AutoML_20191119_154255_model_9</td>\n",
       "                        <td id=\"T_88515cea_0b1a_11ea_a4b9_80000208fe80row0_col56\" class=\"data row0 col56\" >XGBoost_grid_1_AutoML_20191119_154255_model_27</td>\n",
       "                        <td id=\"T_88515cea_0b1a_11ea_a4b9_80000208fe80row0_col57\" class=\"data row0 col57\" >DeepLearning_grid_1_AutoML_20191119_154255_model_4</td>\n",
       "                        <td id=\"T_88515cea_0b1a_11ea_a4b9_80000208fe80row0_col58\" class=\"data row0 col58\" >GBM_grid_1_AutoML_20191119_154255_model_42</td>\n",
       "                        <td id=\"T_88515cea_0b1a_11ea_a4b9_80000208fe80row0_col59\" class=\"data row0 col59\" >GBM_grid_1_AutoML_20191119_154255_model_29</td>\n",
       "                        <td id=\"T_88515cea_0b1a_11ea_a4b9_80000208fe80row0_col60\" class=\"data row0 col60\" >XGBoost_grid_1_AutoML_20191119_154255_model_3</td>\n",
       "                        <td id=\"T_88515cea_0b1a_11ea_a4b9_80000208fe80row0_col61\" class=\"data row0 col61\" >XGBoost_grid_1_AutoML_20191119_154255_model_29</td>\n",
       "                        <td id=\"T_88515cea_0b1a_11ea_a4b9_80000208fe80row0_col62\" class=\"data row0 col62\" >XGBoost_grid_1_AutoML_20191119_154255_model_28</td>\n",
       "                        <td id=\"T_88515cea_0b1a_11ea_a4b9_80000208fe80row0_col63\" class=\"data row0 col63\" >DeepLearning_grid_1_AutoML_20191119_154255_model_7</td>\n",
       "                        <td id=\"T_88515cea_0b1a_11ea_a4b9_80000208fe80row0_col64\" class=\"data row0 col64\" >GBM_grid_1_AutoML_20191119_154255_model_28</td>\n",
       "                        <td id=\"T_88515cea_0b1a_11ea_a4b9_80000208fe80row0_col65\" class=\"data row0 col65\" >XGBoost_grid_1_AutoML_20191119_154255_model_31</td>\n",
       "                        <td id=\"T_88515cea_0b1a_11ea_a4b9_80000208fe80row0_col66\" class=\"data row0 col66\" >XGBoost_grid_1_AutoML_20191119_154255_model_32</td>\n",
       "                        <td id=\"T_88515cea_0b1a_11ea_a4b9_80000208fe80row0_col67\" class=\"data row0 col67\" >XGBoost_grid_1_AutoML_20191119_154255_model_33</td>\n",
       "                        <td id=\"T_88515cea_0b1a_11ea_a4b9_80000208fe80row0_col68\" class=\"data row0 col68\" >GBM_grid_1_AutoML_20191119_154255_model_21</td>\n",
       "                        <td id=\"T_88515cea_0b1a_11ea_a4b9_80000208fe80row0_col69\" class=\"data row0 col69\" >XGBoost_grid_1_AutoML_20191119_154255_model_7</td>\n",
       "                        <td id=\"T_88515cea_0b1a_11ea_a4b9_80000208fe80row0_col70\" class=\"data row0 col70\" >XGBoost_grid_1_AutoML_20191119_154255_model_19</td>\n",
       "                        <td id=\"T_88515cea_0b1a_11ea_a4b9_80000208fe80row0_col71\" class=\"data row0 col71\" >XGBoost_grid_1_AutoML_20191119_154255_model_23</td>\n",
       "                        <td id=\"T_88515cea_0b1a_11ea_a4b9_80000208fe80row0_col72\" class=\"data row0 col72\" >GBM_grid_1_AutoML_20191119_154255_model_23</td>\n",
       "                        <td id=\"T_88515cea_0b1a_11ea_a4b9_80000208fe80row0_col73\" class=\"data row0 col73\" >GBM_grid_1_AutoML_20191119_154255_model_30</td>\n",
       "                        <td id=\"T_88515cea_0b1a_11ea_a4b9_80000208fe80row0_col74\" class=\"data row0 col74\" >XGBoost_2_AutoML_20191119_154255</td>\n",
       "                        <td id=\"T_88515cea_0b1a_11ea_a4b9_80000208fe80row0_col75\" class=\"data row0 col75\" >XGBoost_grid_1_AutoML_20191119_154255_model_1</td>\n",
       "                        <td id=\"T_88515cea_0b1a_11ea_a4b9_80000208fe80row0_col76\" class=\"data row0 col76\" >GBM_grid_1_AutoML_20191119_154255_model_25</td>\n",
       "                        <td id=\"T_88515cea_0b1a_11ea_a4b9_80000208fe80row0_col77\" class=\"data row0 col77\" >GBM_grid_1_AutoML_20191119_154255_model_7</td>\n",
       "                        <td id=\"T_88515cea_0b1a_11ea_a4b9_80000208fe80row0_col78\" class=\"data row0 col78\" >DeepLearning_grid_1_AutoML_20191119_154255_model_10</td>\n",
       "                        <td id=\"T_88515cea_0b1a_11ea_a4b9_80000208fe80row0_col79\" class=\"data row0 col79\" >GBM_grid_1_AutoML_20191119_154255_model_38</td>\n",
       "                        <td id=\"T_88515cea_0b1a_11ea_a4b9_80000208fe80row0_col80\" class=\"data row0 col80\" >GBM_grid_1_AutoML_20191119_154255_model_5</td>\n",
       "                        <td id=\"T_88515cea_0b1a_11ea_a4b9_80000208fe80row0_col81\" class=\"data row0 col81\" >GBM_grid_1_AutoML_20191119_154255_model_33</td>\n",
       "                        <td id=\"T_88515cea_0b1a_11ea_a4b9_80000208fe80row0_col82\" class=\"data row0 col82\" >XGBoost_grid_1_AutoML_20191119_154255_model_11</td>\n",
       "                        <td id=\"T_88515cea_0b1a_11ea_a4b9_80000208fe80row0_col83\" class=\"data row0 col83\" >XGBoost_grid_1_AutoML_20191119_154255_model_22</td>\n",
       "                        <td id=\"T_88515cea_0b1a_11ea_a4b9_80000208fe80row0_col84\" class=\"data row0 col84\" >XGBoost_grid_1_AutoML_20191119_154255_model_12</td>\n",
       "                        <td id=\"T_88515cea_0b1a_11ea_a4b9_80000208fe80row0_col85\" class=\"data row0 col85\" >GBM_grid_1_AutoML_20191119_154255_model_37</td>\n",
       "                        <td id=\"T_88515cea_0b1a_11ea_a4b9_80000208fe80row0_col86\" class=\"data row0 col86\" >XGBoost_grid_1_AutoML_20191119_154255_model_5</td>\n",
       "                        <td id=\"T_88515cea_0b1a_11ea_a4b9_80000208fe80row0_col87\" class=\"data row0 col87\" >XGBoost_grid_1_AutoML_20191119_154255_model_6</td>\n",
       "                        <td id=\"T_88515cea_0b1a_11ea_a4b9_80000208fe80row0_col88\" class=\"data row0 col88\" >XGBoost_grid_1_AutoML_20191119_154255_model_24</td>\n",
       "                        <td id=\"T_88515cea_0b1a_11ea_a4b9_80000208fe80row0_col89\" class=\"data row0 col89\" >GBM_grid_1_AutoML_20191119_154255_model_4</td>\n",
       "                        <td id=\"T_88515cea_0b1a_11ea_a4b9_80000208fe80row0_col90\" class=\"data row0 col90\" >XGBoost_grid_1_AutoML_20191119_154255_model_10</td>\n",
       "                        <td id=\"T_88515cea_0b1a_11ea_a4b9_80000208fe80row0_col91\" class=\"data row0 col91\" >XGBoost_grid_1_AutoML_20191119_154255_model_14</td>\n",
       "                        <td id=\"T_88515cea_0b1a_11ea_a4b9_80000208fe80row0_col92\" class=\"data row0 col92\" >XGBoost_grid_1_AutoML_20191119_154255_model_16</td>\n",
       "                        <td id=\"T_88515cea_0b1a_11ea_a4b9_80000208fe80row0_col93\" class=\"data row0 col93\" >GBM_grid_1_AutoML_20191119_154255_model_34</td>\n",
       "                        <td id=\"T_88515cea_0b1a_11ea_a4b9_80000208fe80row0_col94\" class=\"data row0 col94\" >GBM_grid_1_AutoML_20191119_154255_model_43</td>\n",
       "                        <td id=\"T_88515cea_0b1a_11ea_a4b9_80000208fe80row0_col95\" class=\"data row0 col95\" >XGBoost_grid_1_AutoML_20191119_154255_model_34</td>\n",
       "                        <td id=\"T_88515cea_0b1a_11ea_a4b9_80000208fe80row0_col96\" class=\"data row0 col96\" >XGBoost_grid_1_AutoML_20191119_154255_model_9</td>\n",
       "                        <td id=\"T_88515cea_0b1a_11ea_a4b9_80000208fe80row0_col97\" class=\"data row0 col97\" >DeepLearning_1_AutoML_20191119_154255</td>\n",
       "                        <td id=\"T_88515cea_0b1a_11ea_a4b9_80000208fe80row0_col98\" class=\"data row0 col98\" >GBM_grid_1_AutoML_20191119_154255_model_2</td>\n",
       "                        <td id=\"T_88515cea_0b1a_11ea_a4b9_80000208fe80row0_col99\" class=\"data row0 col99\" >XGBoost_grid_1_AutoML_20191119_154255_model_35</td>\n",
       "                        <td id=\"T_88515cea_0b1a_11ea_a4b9_80000208fe80row0_col100\" class=\"data row0 col100\" >GBM_grid_1_AutoML_20191119_154255_model_22</td>\n",
       "                        <td id=\"T_88515cea_0b1a_11ea_a4b9_80000208fe80row0_col101\" class=\"data row0 col101\" >GBM_grid_1_AutoML_20191119_154255_model_44</td>\n",
       "                        <td id=\"T_88515cea_0b1a_11ea_a4b9_80000208fe80row0_col102\" class=\"data row0 col102\" >GBM_grid_1_AutoML_20191119_154255_model_36</td>\n",
       "            </tr>\n",
       "            <tr>\n",
       "                                <td id=\"T_88515cea_0b1a_11ea_a4b9_80000208fe80row1_col0\" class=\"data row1 col0\" >36</td>\n",
       "                        <td id=\"T_88515cea_0b1a_11ea_a4b9_80000208fe80row1_col1\" class=\"data row1 col1\" >StackedEnsemble_AllModels_AutoML_20191119_172045</td>\n",
       "                        <td id=\"T_88515cea_0b1a_11ea_a4b9_80000208fe80row1_col2\" class=\"data row1 col2\" >GBM_grid_1_AutoML_20191119_172045_model_31</td>\n",
       "                        <td id=\"T_88515cea_0b1a_11ea_a4b9_80000208fe80row1_col3\" class=\"data row1 col3\" >DeepLearning_grid_1_AutoML_20191119_172045_model_6</td>\n",
       "                        <td id=\"T_88515cea_0b1a_11ea_a4b9_80000208fe80row1_col4\" class=\"data row1 col4\" >DeepLearning_grid_1_AutoML_20191119_172045_model_9</td>\n",
       "                        <td id=\"T_88515cea_0b1a_11ea_a4b9_80000208fe80row1_col5\" class=\"data row1 col5\" >GBM_grid_1_AutoML_20191119_172045_model_20</td>\n",
       "                        <td id=\"T_88515cea_0b1a_11ea_a4b9_80000208fe80row1_col6\" class=\"data row1 col6\" >GBM_grid_1_AutoML_20191119_172045_model_12</td>\n",
       "                        <td id=\"T_88515cea_0b1a_11ea_a4b9_80000208fe80row1_col7\" class=\"data row1 col7\" >GBM_3_AutoML_20191119_172045</td>\n",
       "                        <td id=\"T_88515cea_0b1a_11ea_a4b9_80000208fe80row1_col8\" class=\"data row1 col8\" >GBM_grid_1_AutoML_20191119_172045_model_18</td>\n",
       "                        <td id=\"T_88515cea_0b1a_11ea_a4b9_80000208fe80row1_col9\" class=\"data row1 col9\" >DeepLearning_grid_1_AutoML_20191119_172045_model_2</td>\n",
       "                        <td id=\"T_88515cea_0b1a_11ea_a4b9_80000208fe80row1_col10\" class=\"data row1 col10\" >GBM_grid_1_AutoML_20191119_172045_model_15</td>\n",
       "                        <td id=\"T_88515cea_0b1a_11ea_a4b9_80000208fe80row1_col11\" class=\"data row1 col11\" >GBM_4_AutoML_20191119_172045</td>\n",
       "                        <td id=\"T_88515cea_0b1a_11ea_a4b9_80000208fe80row1_col12\" class=\"data row1 col12\" >GBM_grid_1_AutoML_20191119_172045_model_27</td>\n",
       "                        <td id=\"T_88515cea_0b1a_11ea_a4b9_80000208fe80row1_col13\" class=\"data row1 col13\" >GBM_grid_1_AutoML_20191119_172045_model_3</td>\n",
       "                        <td id=\"T_88515cea_0b1a_11ea_a4b9_80000208fe80row1_col14\" class=\"data row1 col14\" >GBM_grid_1_AutoML_20191119_172045_model_19</td>\n",
       "                        <td id=\"T_88515cea_0b1a_11ea_a4b9_80000208fe80row1_col15\" class=\"data row1 col15\" >GBM_5_AutoML_20191119_172045</td>\n",
       "                        <td id=\"T_88515cea_0b1a_11ea_a4b9_80000208fe80row1_col16\" class=\"data row1 col16\" >GBM_2_AutoML_20191119_172045</td>\n",
       "                        <td id=\"T_88515cea_0b1a_11ea_a4b9_80000208fe80row1_col17\" class=\"data row1 col17\" >XGBoost_1_AutoML_20191119_172045</td>\n",
       "                        <td id=\"T_88515cea_0b1a_11ea_a4b9_80000208fe80row1_col18\" class=\"data row1 col18\" >GBM_grid_1_AutoML_20191119_172045_model_26</td>\n",
       "                        <td id=\"T_88515cea_0b1a_11ea_a4b9_80000208fe80row1_col19\" class=\"data row1 col19\" >DRF_1_AutoML_20191119_172045</td>\n",
       "                        <td id=\"T_88515cea_0b1a_11ea_a4b9_80000208fe80row1_col20\" class=\"data row1 col20\" >GBM_grid_1_AutoML_20191119_172045_model_32</td>\n",
       "                        <td id=\"T_88515cea_0b1a_11ea_a4b9_80000208fe80row1_col21\" class=\"data row1 col21\" >GBM_grid_1_AutoML_20191119_172045_model_1</td>\n",
       "                        <td id=\"T_88515cea_0b1a_11ea_a4b9_80000208fe80row1_col22\" class=\"data row1 col22\" >XRT_1_AutoML_20191119_172045</td>\n",
       "                        <td id=\"T_88515cea_0b1a_11ea_a4b9_80000208fe80row1_col23\" class=\"data row1 col23\" >GBM_1_AutoML_20191119_172045</td>\n",
       "                        <td id=\"T_88515cea_0b1a_11ea_a4b9_80000208fe80row1_col24\" class=\"data row1 col24\" >GBM_grid_1_AutoML_20191119_172045_model_11</td>\n",
       "                        <td id=\"T_88515cea_0b1a_11ea_a4b9_80000208fe80row1_col25\" class=\"data row1 col25\" >GBM_grid_1_AutoML_20191119_172045_model_17</td>\n",
       "                        <td id=\"T_88515cea_0b1a_11ea_a4b9_80000208fe80row1_col26\" class=\"data row1 col26\" >GBM_grid_1_AutoML_20191119_172045_model_14</td>\n",
       "                        <td id=\"T_88515cea_0b1a_11ea_a4b9_80000208fe80row1_col27\" class=\"data row1 col27\" >GBM_grid_1_AutoML_20191119_172045_model_6</td>\n",
       "                        <td id=\"T_88515cea_0b1a_11ea_a4b9_80000208fe80row1_col28\" class=\"data row1 col28\" >XGBoost_grid_1_AutoML_20191119_172045_model_13</td>\n",
       "                        <td id=\"T_88515cea_0b1a_11ea_a4b9_80000208fe80row1_col29\" class=\"data row1 col29\" >GBM_grid_1_AutoML_20191119_172045_model_10</td>\n",
       "                        <td id=\"T_88515cea_0b1a_11ea_a4b9_80000208fe80row1_col30\" class=\"data row1 col30\" >XGBoost_3_AutoML_20191119_172045</td>\n",
       "                        <td id=\"T_88515cea_0b1a_11ea_a4b9_80000208fe80row1_col31\" class=\"data row1 col31\" >XGBoost_grid_1_AutoML_20191119_172045_model_4</td>\n",
       "                        <td id=\"T_88515cea_0b1a_11ea_a4b9_80000208fe80row1_col32\" class=\"data row1 col32\" >DeepLearning_grid_1_AutoML_20191119_172045_model_1</td>\n",
       "                        <td id=\"T_88515cea_0b1a_11ea_a4b9_80000208fe80row1_col33\" class=\"data row1 col33\" >XGBoost_grid_1_AutoML_20191119_172045_model_2</td>\n",
       "                        <td id=\"T_88515cea_0b1a_11ea_a4b9_80000208fe80row1_col34\" class=\"data row1 col34\" >GBM_grid_1_AutoML_20191119_172045_model_8</td>\n",
       "                        <td id=\"T_88515cea_0b1a_11ea_a4b9_80000208fe80row1_col35\" class=\"data row1 col35\" >GBM_grid_1_AutoML_20191119_172045_model_13</td>\n",
       "                        <td id=\"T_88515cea_0b1a_11ea_a4b9_80000208fe80row1_col36\" class=\"data row1 col36\" >XGBoost_grid_1_AutoML_20191119_172045_model_17</td>\n",
       "                        <td id=\"T_88515cea_0b1a_11ea_a4b9_80000208fe80row1_col37\" class=\"data row1 col37\" >GBM_grid_1_AutoML_20191119_172045_model_16</td>\n",
       "                        <td id=\"T_88515cea_0b1a_11ea_a4b9_80000208fe80row1_col38\" class=\"data row1 col38\" >XGBoost_grid_1_AutoML_20191119_172045_model_8</td>\n",
       "                        <td id=\"T_88515cea_0b1a_11ea_a4b9_80000208fe80row1_col39\" class=\"data row1 col39\" >XGBoost_grid_1_AutoML_20191119_172045_model_15</td>\n",
       "                        <td id=\"T_88515cea_0b1a_11ea_a4b9_80000208fe80row1_col40\" class=\"data row1 col40\" >DeepLearning_grid_1_AutoML_20191119_172045_model_5</td>\n",
       "                        <td id=\"T_88515cea_0b1a_11ea_a4b9_80000208fe80row1_col41\" class=\"data row1 col41\" >XGBoost_2_AutoML_20191119_172045</td>\n",
       "                        <td id=\"T_88515cea_0b1a_11ea_a4b9_80000208fe80row1_col42\" class=\"data row1 col42\" >DeepLearning_grid_1_AutoML_20191119_172045_model_3</td>\n",
       "                        <td id=\"T_88515cea_0b1a_11ea_a4b9_80000208fe80row1_col43\" class=\"data row1 col43\" >XGBoost_grid_1_AutoML_20191119_172045_model_18</td>\n",
       "                        <td id=\"T_88515cea_0b1a_11ea_a4b9_80000208fe80row1_col44\" class=\"data row1 col44\" >GBM_grid_1_AutoML_20191119_172045_model_29</td>\n",
       "                        <td id=\"T_88515cea_0b1a_11ea_a4b9_80000208fe80row1_col45\" class=\"data row1 col45\" >GBM_grid_1_AutoML_20191119_172045_model_24</td>\n",
       "                        <td id=\"T_88515cea_0b1a_11ea_a4b9_80000208fe80row1_col46\" class=\"data row1 col46\" >XGBoost_grid_1_AutoML_20191119_172045_model_7</td>\n",
       "                        <td id=\"T_88515cea_0b1a_11ea_a4b9_80000208fe80row1_col47\" class=\"data row1 col47\" >GLM_grid_1_AutoML_20191119_172045_model_1</td>\n",
       "                        <td id=\"T_88515cea_0b1a_11ea_a4b9_80000208fe80row1_col48\" class=\"data row1 col48\" >GBM_grid_1_AutoML_20191119_172045_model_9</td>\n",
       "                        <td id=\"T_88515cea_0b1a_11ea_a4b9_80000208fe80row1_col49\" class=\"data row1 col49\" >XGBoost_grid_1_AutoML_20191119_172045_model_3</td>\n",
       "                        <td id=\"T_88515cea_0b1a_11ea_a4b9_80000208fe80row1_col50\" class=\"data row1 col50\" >DeepLearning_grid_1_AutoML_20191119_172045_model_8</td>\n",
       "                        <td id=\"T_88515cea_0b1a_11ea_a4b9_80000208fe80row1_col51\" class=\"data row1 col51\" >XGBoost_grid_1_AutoML_20191119_172045_model_1</td>\n",
       "                        <td id=\"T_88515cea_0b1a_11ea_a4b9_80000208fe80row1_col52\" class=\"data row1 col52\" >XGBoost_grid_1_AutoML_20191119_172045_model_5</td>\n",
       "                        <td id=\"T_88515cea_0b1a_11ea_a4b9_80000208fe80row1_col53\" class=\"data row1 col53\" >XGBoost_grid_1_AutoML_20191119_172045_model_12</td>\n",
       "                        <td id=\"T_88515cea_0b1a_11ea_a4b9_80000208fe80row1_col54\" class=\"data row1 col54\" >GBM_grid_1_AutoML_20191119_172045_model_21</td>\n",
       "                        <td id=\"T_88515cea_0b1a_11ea_a4b9_80000208fe80row1_col55\" class=\"data row1 col55\" >GBM_grid_1_AutoML_20191119_172045_model_7</td>\n",
       "                        <td id=\"T_88515cea_0b1a_11ea_a4b9_80000208fe80row1_col56\" class=\"data row1 col56\" >DeepLearning_grid_1_AutoML_20191119_172045_model_4</td>\n",
       "                        <td id=\"T_88515cea_0b1a_11ea_a4b9_80000208fe80row1_col57\" class=\"data row1 col57\" >GBM_grid_1_AutoML_20191119_172045_model_28</td>\n",
       "                        <td id=\"T_88515cea_0b1a_11ea_a4b9_80000208fe80row1_col58\" class=\"data row1 col58\" >DeepLearning_grid_1_AutoML_20191119_172045_model_7</td>\n",
       "                        <td id=\"T_88515cea_0b1a_11ea_a4b9_80000208fe80row1_col59\" class=\"data row1 col59\" >DeepLearning_grid_1_AutoML_20191119_172045_model_10</td>\n",
       "                        <td id=\"T_88515cea_0b1a_11ea_a4b9_80000208fe80row1_col60\" class=\"data row1 col60\" >GBM_grid_1_AutoML_20191119_172045_model_23</td>\n",
       "                        <td id=\"T_88515cea_0b1a_11ea_a4b9_80000208fe80row1_col61\" class=\"data row1 col61\" >XGBoost_grid_1_AutoML_20191119_172045_model_14</td>\n",
       "                        <td id=\"T_88515cea_0b1a_11ea_a4b9_80000208fe80row1_col62\" class=\"data row1 col62\" >GBM_grid_1_AutoML_20191119_172045_model_30</td>\n",
       "                        <td id=\"T_88515cea_0b1a_11ea_a4b9_80000208fe80row1_col63\" class=\"data row1 col63\" >XGBoost_grid_1_AutoML_20191119_172045_model_10</td>\n",
       "                        <td id=\"T_88515cea_0b1a_11ea_a4b9_80000208fe80row1_col64\" class=\"data row1 col64\" >GBM_grid_1_AutoML_20191119_172045_model_25</td>\n",
       "                        <td id=\"T_88515cea_0b1a_11ea_a4b9_80000208fe80row1_col65\" class=\"data row1 col65\" >GBM_grid_1_AutoML_20191119_172045_model_4</td>\n",
       "                        <td id=\"T_88515cea_0b1a_11ea_a4b9_80000208fe80row1_col66\" class=\"data row1 col66\" >GBM_grid_1_AutoML_20191119_172045_model_33</td>\n",
       "                        <td id=\"T_88515cea_0b1a_11ea_a4b9_80000208fe80row1_col67\" class=\"data row1 col67\" >XGBoost_grid_1_AutoML_20191119_172045_model_11</td>\n",
       "                        <td id=\"T_88515cea_0b1a_11ea_a4b9_80000208fe80row1_col68\" class=\"data row1 col68\" >XGBoost_grid_1_AutoML_20191119_172045_model_6</td>\n",
       "                        <td id=\"T_88515cea_0b1a_11ea_a4b9_80000208fe80row1_col69\" class=\"data row1 col69\" >XGBoost_grid_1_AutoML_20191119_172045_model_16</td>\n",
       "                        <td id=\"T_88515cea_0b1a_11ea_a4b9_80000208fe80row1_col70\" class=\"data row1 col70\" >XGBoost_grid_1_AutoML_20191119_172045_model_19</td>\n",
       "                        <td id=\"T_88515cea_0b1a_11ea_a4b9_80000208fe80row1_col71\" class=\"data row1 col71\" >XGBoost_grid_1_AutoML_20191119_172045_model_9</td>\n",
       "                        <td id=\"T_88515cea_0b1a_11ea_a4b9_80000208fe80row1_col72\" class=\"data row1 col72\" >GBM_grid_1_AutoML_20191119_172045_model_34</td>\n",
       "                        <td id=\"T_88515cea_0b1a_11ea_a4b9_80000208fe80row1_col73\" class=\"data row1 col73\" >GBM_grid_1_AutoML_20191119_172045_model_35</td>\n",
       "                        <td id=\"T_88515cea_0b1a_11ea_a4b9_80000208fe80row1_col74\" class=\"data row1 col74\" >GBM_grid_1_AutoML_20191119_172045_model_5</td>\n",
       "                        <td id=\"T_88515cea_0b1a_11ea_a4b9_80000208fe80row1_col75\" class=\"data row1 col75\" >DeepLearning_1_AutoML_20191119_172045</td>\n",
       "                        <td id=\"T_88515cea_0b1a_11ea_a4b9_80000208fe80row1_col76\" class=\"data row1 col76\" >GBM_grid_1_AutoML_20191119_172045_model_2</td>\n",
       "                        <td id=\"T_88515cea_0b1a_11ea_a4b9_80000208fe80row1_col77\" class=\"data row1 col77\" >GBM_grid_1_AutoML_20191119_172045_model_22</td>\n",
       "                        <td id=\"T_88515cea_0b1a_11ea_a4b9_80000208fe80row1_col78\" class=\"data row1 col78\" >XGBoost_grid_1_AutoML_20191119_172045_model_20</td>\n",
       "                        <td id=\"T_88515cea_0b1a_11ea_a4b9_80000208fe80row1_col79\" class=\"data row1 col79\" >nan</td>\n",
       "                        <td id=\"T_88515cea_0b1a_11ea_a4b9_80000208fe80row1_col80\" class=\"data row1 col80\" >nan</td>\n",
       "                        <td id=\"T_88515cea_0b1a_11ea_a4b9_80000208fe80row1_col81\" class=\"data row1 col81\" >nan</td>\n",
       "                        <td id=\"T_88515cea_0b1a_11ea_a4b9_80000208fe80row1_col82\" class=\"data row1 col82\" >nan</td>\n",
       "                        <td id=\"T_88515cea_0b1a_11ea_a4b9_80000208fe80row1_col83\" class=\"data row1 col83\" >nan</td>\n",
       "                        <td id=\"T_88515cea_0b1a_11ea_a4b9_80000208fe80row1_col84\" class=\"data row1 col84\" >nan</td>\n",
       "                        <td id=\"T_88515cea_0b1a_11ea_a4b9_80000208fe80row1_col85\" class=\"data row1 col85\" >nan</td>\n",
       "                        <td id=\"T_88515cea_0b1a_11ea_a4b9_80000208fe80row1_col86\" class=\"data row1 col86\" >nan</td>\n",
       "                        <td id=\"T_88515cea_0b1a_11ea_a4b9_80000208fe80row1_col87\" class=\"data row1 col87\" >nan</td>\n",
       "                        <td id=\"T_88515cea_0b1a_11ea_a4b9_80000208fe80row1_col88\" class=\"data row1 col88\" >nan</td>\n",
       "                        <td id=\"T_88515cea_0b1a_11ea_a4b9_80000208fe80row1_col89\" class=\"data row1 col89\" >nan</td>\n",
       "                        <td id=\"T_88515cea_0b1a_11ea_a4b9_80000208fe80row1_col90\" class=\"data row1 col90\" >nan</td>\n",
       "                        <td id=\"T_88515cea_0b1a_11ea_a4b9_80000208fe80row1_col91\" class=\"data row1 col91\" >nan</td>\n",
       "                        <td id=\"T_88515cea_0b1a_11ea_a4b9_80000208fe80row1_col92\" class=\"data row1 col92\" >nan</td>\n",
       "                        <td id=\"T_88515cea_0b1a_11ea_a4b9_80000208fe80row1_col93\" class=\"data row1 col93\" >nan</td>\n",
       "                        <td id=\"T_88515cea_0b1a_11ea_a4b9_80000208fe80row1_col94\" class=\"data row1 col94\" >nan</td>\n",
       "                        <td id=\"T_88515cea_0b1a_11ea_a4b9_80000208fe80row1_col95\" class=\"data row1 col95\" >nan</td>\n",
       "                        <td id=\"T_88515cea_0b1a_11ea_a4b9_80000208fe80row1_col96\" class=\"data row1 col96\" >nan</td>\n",
       "                        <td id=\"T_88515cea_0b1a_11ea_a4b9_80000208fe80row1_col97\" class=\"data row1 col97\" >nan</td>\n",
       "                        <td id=\"T_88515cea_0b1a_11ea_a4b9_80000208fe80row1_col98\" class=\"data row1 col98\" >nan</td>\n",
       "                        <td id=\"T_88515cea_0b1a_11ea_a4b9_80000208fe80row1_col99\" class=\"data row1 col99\" >nan</td>\n",
       "                        <td id=\"T_88515cea_0b1a_11ea_a4b9_80000208fe80row1_col100\" class=\"data row1 col100\" >nan</td>\n",
       "                        <td id=\"T_88515cea_0b1a_11ea_a4b9_80000208fe80row1_col101\" class=\"data row1 col101\" >nan</td>\n",
       "                        <td id=\"T_88515cea_0b1a_11ea_a4b9_80000208fe80row1_col102\" class=\"data row1 col102\" >nan</td>\n",
       "            </tr>\n",
       "            <tr>\n",
       "                                <td id=\"T_88515cea_0b1a_11ea_a4b9_80000208fe80row2_col0\" class=\"data row2 col0\" >72</td>\n",
       "                        <td id=\"T_88515cea_0b1a_11ea_a4b9_80000208fe80row2_col1\" class=\"data row2 col1\" >StackedEnsemble_BestOfFamily_AutoML_20191119_190133</td>\n",
       "                        <td id=\"T_88515cea_0b1a_11ea_a4b9_80000208fe80row2_col2\" class=\"data row2 col2\" >DeepLearning_grid_1_AutoML_20191119_190133_model_2</td>\n",
       "                        <td id=\"T_88515cea_0b1a_11ea_a4b9_80000208fe80row2_col3\" class=\"data row2 col3\" >GBM_grid_1_AutoML_20191119_190133_model_31</td>\n",
       "                        <td id=\"T_88515cea_0b1a_11ea_a4b9_80000208fe80row2_col4\" class=\"data row2 col4\" >XGBoost_1_AutoML_20191119_190133</td>\n",
       "                        <td id=\"T_88515cea_0b1a_11ea_a4b9_80000208fe80row2_col5\" class=\"data row2 col5\" >XRT_1_AutoML_20191119_190133</td>\n",
       "                        <td id=\"T_88515cea_0b1a_11ea_a4b9_80000208fe80row2_col6\" class=\"data row2 col6\" >DRF_1_AutoML_20191119_190133</td>\n",
       "                        <td id=\"T_88515cea_0b1a_11ea_a4b9_80000208fe80row2_col7\" class=\"data row2 col7\" >GLM_grid_1_AutoML_20191119_190133_model_1</td>\n",
       "                        <td id=\"T_88515cea_0b1a_11ea_a4b9_80000208fe80row2_col8\" class=\"data row2 col8\" >nan</td>\n",
       "                        <td id=\"T_88515cea_0b1a_11ea_a4b9_80000208fe80row2_col9\" class=\"data row2 col9\" >nan</td>\n",
       "                        <td id=\"T_88515cea_0b1a_11ea_a4b9_80000208fe80row2_col10\" class=\"data row2 col10\" >nan</td>\n",
       "                        <td id=\"T_88515cea_0b1a_11ea_a4b9_80000208fe80row2_col11\" class=\"data row2 col11\" >nan</td>\n",
       "                        <td id=\"T_88515cea_0b1a_11ea_a4b9_80000208fe80row2_col12\" class=\"data row2 col12\" >nan</td>\n",
       "                        <td id=\"T_88515cea_0b1a_11ea_a4b9_80000208fe80row2_col13\" class=\"data row2 col13\" >nan</td>\n",
       "                        <td id=\"T_88515cea_0b1a_11ea_a4b9_80000208fe80row2_col14\" class=\"data row2 col14\" >nan</td>\n",
       "                        <td id=\"T_88515cea_0b1a_11ea_a4b9_80000208fe80row2_col15\" class=\"data row2 col15\" >nan</td>\n",
       "                        <td id=\"T_88515cea_0b1a_11ea_a4b9_80000208fe80row2_col16\" class=\"data row2 col16\" >nan</td>\n",
       "                        <td id=\"T_88515cea_0b1a_11ea_a4b9_80000208fe80row2_col17\" class=\"data row2 col17\" >nan</td>\n",
       "                        <td id=\"T_88515cea_0b1a_11ea_a4b9_80000208fe80row2_col18\" class=\"data row2 col18\" >nan</td>\n",
       "                        <td id=\"T_88515cea_0b1a_11ea_a4b9_80000208fe80row2_col19\" class=\"data row2 col19\" >nan</td>\n",
       "                        <td id=\"T_88515cea_0b1a_11ea_a4b9_80000208fe80row2_col20\" class=\"data row2 col20\" >nan</td>\n",
       "                        <td id=\"T_88515cea_0b1a_11ea_a4b9_80000208fe80row2_col21\" class=\"data row2 col21\" >nan</td>\n",
       "                        <td id=\"T_88515cea_0b1a_11ea_a4b9_80000208fe80row2_col22\" class=\"data row2 col22\" >nan</td>\n",
       "                        <td id=\"T_88515cea_0b1a_11ea_a4b9_80000208fe80row2_col23\" class=\"data row2 col23\" >nan</td>\n",
       "                        <td id=\"T_88515cea_0b1a_11ea_a4b9_80000208fe80row2_col24\" class=\"data row2 col24\" >nan</td>\n",
       "                        <td id=\"T_88515cea_0b1a_11ea_a4b9_80000208fe80row2_col25\" class=\"data row2 col25\" >nan</td>\n",
       "                        <td id=\"T_88515cea_0b1a_11ea_a4b9_80000208fe80row2_col26\" class=\"data row2 col26\" >nan</td>\n",
       "                        <td id=\"T_88515cea_0b1a_11ea_a4b9_80000208fe80row2_col27\" class=\"data row2 col27\" >nan</td>\n",
       "                        <td id=\"T_88515cea_0b1a_11ea_a4b9_80000208fe80row2_col28\" class=\"data row2 col28\" >nan</td>\n",
       "                        <td id=\"T_88515cea_0b1a_11ea_a4b9_80000208fe80row2_col29\" class=\"data row2 col29\" >nan</td>\n",
       "                        <td id=\"T_88515cea_0b1a_11ea_a4b9_80000208fe80row2_col30\" class=\"data row2 col30\" >nan</td>\n",
       "                        <td id=\"T_88515cea_0b1a_11ea_a4b9_80000208fe80row2_col31\" class=\"data row2 col31\" >nan</td>\n",
       "                        <td id=\"T_88515cea_0b1a_11ea_a4b9_80000208fe80row2_col32\" class=\"data row2 col32\" >nan</td>\n",
       "                        <td id=\"T_88515cea_0b1a_11ea_a4b9_80000208fe80row2_col33\" class=\"data row2 col33\" >nan</td>\n",
       "                        <td id=\"T_88515cea_0b1a_11ea_a4b9_80000208fe80row2_col34\" class=\"data row2 col34\" >nan</td>\n",
       "                        <td id=\"T_88515cea_0b1a_11ea_a4b9_80000208fe80row2_col35\" class=\"data row2 col35\" >nan</td>\n",
       "                        <td id=\"T_88515cea_0b1a_11ea_a4b9_80000208fe80row2_col36\" class=\"data row2 col36\" >nan</td>\n",
       "                        <td id=\"T_88515cea_0b1a_11ea_a4b9_80000208fe80row2_col37\" class=\"data row2 col37\" >nan</td>\n",
       "                        <td id=\"T_88515cea_0b1a_11ea_a4b9_80000208fe80row2_col38\" class=\"data row2 col38\" >nan</td>\n",
       "                        <td id=\"T_88515cea_0b1a_11ea_a4b9_80000208fe80row2_col39\" class=\"data row2 col39\" >nan</td>\n",
       "                        <td id=\"T_88515cea_0b1a_11ea_a4b9_80000208fe80row2_col40\" class=\"data row2 col40\" >nan</td>\n",
       "                        <td id=\"T_88515cea_0b1a_11ea_a4b9_80000208fe80row2_col41\" class=\"data row2 col41\" >nan</td>\n",
       "                        <td id=\"T_88515cea_0b1a_11ea_a4b9_80000208fe80row2_col42\" class=\"data row2 col42\" >nan</td>\n",
       "                        <td id=\"T_88515cea_0b1a_11ea_a4b9_80000208fe80row2_col43\" class=\"data row2 col43\" >nan</td>\n",
       "                        <td id=\"T_88515cea_0b1a_11ea_a4b9_80000208fe80row2_col44\" class=\"data row2 col44\" >nan</td>\n",
       "                        <td id=\"T_88515cea_0b1a_11ea_a4b9_80000208fe80row2_col45\" class=\"data row2 col45\" >nan</td>\n",
       "                        <td id=\"T_88515cea_0b1a_11ea_a4b9_80000208fe80row2_col46\" class=\"data row2 col46\" >nan</td>\n",
       "                        <td id=\"T_88515cea_0b1a_11ea_a4b9_80000208fe80row2_col47\" class=\"data row2 col47\" >nan</td>\n",
       "                        <td id=\"T_88515cea_0b1a_11ea_a4b9_80000208fe80row2_col48\" class=\"data row2 col48\" >nan</td>\n",
       "                        <td id=\"T_88515cea_0b1a_11ea_a4b9_80000208fe80row2_col49\" class=\"data row2 col49\" >nan</td>\n",
       "                        <td id=\"T_88515cea_0b1a_11ea_a4b9_80000208fe80row2_col50\" class=\"data row2 col50\" >nan</td>\n",
       "                        <td id=\"T_88515cea_0b1a_11ea_a4b9_80000208fe80row2_col51\" class=\"data row2 col51\" >nan</td>\n",
       "                        <td id=\"T_88515cea_0b1a_11ea_a4b9_80000208fe80row2_col52\" class=\"data row2 col52\" >nan</td>\n",
       "                        <td id=\"T_88515cea_0b1a_11ea_a4b9_80000208fe80row2_col53\" class=\"data row2 col53\" >nan</td>\n",
       "                        <td id=\"T_88515cea_0b1a_11ea_a4b9_80000208fe80row2_col54\" class=\"data row2 col54\" >nan</td>\n",
       "                        <td id=\"T_88515cea_0b1a_11ea_a4b9_80000208fe80row2_col55\" class=\"data row2 col55\" >nan</td>\n",
       "                        <td id=\"T_88515cea_0b1a_11ea_a4b9_80000208fe80row2_col56\" class=\"data row2 col56\" >nan</td>\n",
       "                        <td id=\"T_88515cea_0b1a_11ea_a4b9_80000208fe80row2_col57\" class=\"data row2 col57\" >nan</td>\n",
       "                        <td id=\"T_88515cea_0b1a_11ea_a4b9_80000208fe80row2_col58\" class=\"data row2 col58\" >nan</td>\n",
       "                        <td id=\"T_88515cea_0b1a_11ea_a4b9_80000208fe80row2_col59\" class=\"data row2 col59\" >nan</td>\n",
       "                        <td id=\"T_88515cea_0b1a_11ea_a4b9_80000208fe80row2_col60\" class=\"data row2 col60\" >nan</td>\n",
       "                        <td id=\"T_88515cea_0b1a_11ea_a4b9_80000208fe80row2_col61\" class=\"data row2 col61\" >nan</td>\n",
       "                        <td id=\"T_88515cea_0b1a_11ea_a4b9_80000208fe80row2_col62\" class=\"data row2 col62\" >nan</td>\n",
       "                        <td id=\"T_88515cea_0b1a_11ea_a4b9_80000208fe80row2_col63\" class=\"data row2 col63\" >nan</td>\n",
       "                        <td id=\"T_88515cea_0b1a_11ea_a4b9_80000208fe80row2_col64\" class=\"data row2 col64\" >nan</td>\n",
       "                        <td id=\"T_88515cea_0b1a_11ea_a4b9_80000208fe80row2_col65\" class=\"data row2 col65\" >nan</td>\n",
       "                        <td id=\"T_88515cea_0b1a_11ea_a4b9_80000208fe80row2_col66\" class=\"data row2 col66\" >nan</td>\n",
       "                        <td id=\"T_88515cea_0b1a_11ea_a4b9_80000208fe80row2_col67\" class=\"data row2 col67\" >nan</td>\n",
       "                        <td id=\"T_88515cea_0b1a_11ea_a4b9_80000208fe80row2_col68\" class=\"data row2 col68\" >nan</td>\n",
       "                        <td id=\"T_88515cea_0b1a_11ea_a4b9_80000208fe80row2_col69\" class=\"data row2 col69\" >nan</td>\n",
       "                        <td id=\"T_88515cea_0b1a_11ea_a4b9_80000208fe80row2_col70\" class=\"data row2 col70\" >nan</td>\n",
       "                        <td id=\"T_88515cea_0b1a_11ea_a4b9_80000208fe80row2_col71\" class=\"data row2 col71\" >nan</td>\n",
       "                        <td id=\"T_88515cea_0b1a_11ea_a4b9_80000208fe80row2_col72\" class=\"data row2 col72\" >nan</td>\n",
       "                        <td id=\"T_88515cea_0b1a_11ea_a4b9_80000208fe80row2_col73\" class=\"data row2 col73\" >nan</td>\n",
       "                        <td id=\"T_88515cea_0b1a_11ea_a4b9_80000208fe80row2_col74\" class=\"data row2 col74\" >nan</td>\n",
       "                        <td id=\"T_88515cea_0b1a_11ea_a4b9_80000208fe80row2_col75\" class=\"data row2 col75\" >nan</td>\n",
       "                        <td id=\"T_88515cea_0b1a_11ea_a4b9_80000208fe80row2_col76\" class=\"data row2 col76\" >nan</td>\n",
       "                        <td id=\"T_88515cea_0b1a_11ea_a4b9_80000208fe80row2_col77\" class=\"data row2 col77\" >nan</td>\n",
       "                        <td id=\"T_88515cea_0b1a_11ea_a4b9_80000208fe80row2_col78\" class=\"data row2 col78\" >nan</td>\n",
       "                        <td id=\"T_88515cea_0b1a_11ea_a4b9_80000208fe80row2_col79\" class=\"data row2 col79\" >nan</td>\n",
       "                        <td id=\"T_88515cea_0b1a_11ea_a4b9_80000208fe80row2_col80\" class=\"data row2 col80\" >nan</td>\n",
       "                        <td id=\"T_88515cea_0b1a_11ea_a4b9_80000208fe80row2_col81\" class=\"data row2 col81\" >nan</td>\n",
       "                        <td id=\"T_88515cea_0b1a_11ea_a4b9_80000208fe80row2_col82\" class=\"data row2 col82\" >nan</td>\n",
       "                        <td id=\"T_88515cea_0b1a_11ea_a4b9_80000208fe80row2_col83\" class=\"data row2 col83\" >nan</td>\n",
       "                        <td id=\"T_88515cea_0b1a_11ea_a4b9_80000208fe80row2_col84\" class=\"data row2 col84\" >nan</td>\n",
       "                        <td id=\"T_88515cea_0b1a_11ea_a4b9_80000208fe80row2_col85\" class=\"data row2 col85\" >nan</td>\n",
       "                        <td id=\"T_88515cea_0b1a_11ea_a4b9_80000208fe80row2_col86\" class=\"data row2 col86\" >nan</td>\n",
       "                        <td id=\"T_88515cea_0b1a_11ea_a4b9_80000208fe80row2_col87\" class=\"data row2 col87\" >nan</td>\n",
       "                        <td id=\"T_88515cea_0b1a_11ea_a4b9_80000208fe80row2_col88\" class=\"data row2 col88\" >nan</td>\n",
       "                        <td id=\"T_88515cea_0b1a_11ea_a4b9_80000208fe80row2_col89\" class=\"data row2 col89\" >nan</td>\n",
       "                        <td id=\"T_88515cea_0b1a_11ea_a4b9_80000208fe80row2_col90\" class=\"data row2 col90\" >nan</td>\n",
       "                        <td id=\"T_88515cea_0b1a_11ea_a4b9_80000208fe80row2_col91\" class=\"data row2 col91\" >nan</td>\n",
       "                        <td id=\"T_88515cea_0b1a_11ea_a4b9_80000208fe80row2_col92\" class=\"data row2 col92\" >nan</td>\n",
       "                        <td id=\"T_88515cea_0b1a_11ea_a4b9_80000208fe80row2_col93\" class=\"data row2 col93\" >nan</td>\n",
       "                        <td id=\"T_88515cea_0b1a_11ea_a4b9_80000208fe80row2_col94\" class=\"data row2 col94\" >nan</td>\n",
       "                        <td id=\"T_88515cea_0b1a_11ea_a4b9_80000208fe80row2_col95\" class=\"data row2 col95\" >nan</td>\n",
       "                        <td id=\"T_88515cea_0b1a_11ea_a4b9_80000208fe80row2_col96\" class=\"data row2 col96\" >nan</td>\n",
       "                        <td id=\"T_88515cea_0b1a_11ea_a4b9_80000208fe80row2_col97\" class=\"data row2 col97\" >nan</td>\n",
       "                        <td id=\"T_88515cea_0b1a_11ea_a4b9_80000208fe80row2_col98\" class=\"data row2 col98\" >nan</td>\n",
       "                        <td id=\"T_88515cea_0b1a_11ea_a4b9_80000208fe80row2_col99\" class=\"data row2 col99\" >nan</td>\n",
       "                        <td id=\"T_88515cea_0b1a_11ea_a4b9_80000208fe80row2_col100\" class=\"data row2 col100\" >nan</td>\n",
       "                        <td id=\"T_88515cea_0b1a_11ea_a4b9_80000208fe80row2_col101\" class=\"data row2 col101\" >nan</td>\n",
       "                        <td id=\"T_88515cea_0b1a_11ea_a4b9_80000208fe80row2_col102\" class=\"data row2 col102\" >nan</td>\n",
       "            </tr>\n",
       "            <tr>\n",
       "                                <td id=\"T_88515cea_0b1a_11ea_a4b9_80000208fe80row3_col0\" class=\"data row3 col0\" >108</td>\n",
       "                        <td id=\"T_88515cea_0b1a_11ea_a4b9_80000208fe80row3_col1\" class=\"data row3 col1\" >StackedEnsemble_BestOfFamily_AutoML_20191119_203552</td>\n",
       "                        <td id=\"T_88515cea_0b1a_11ea_a4b9_80000208fe80row3_col2\" class=\"data row3 col2\" >DeepLearning_grid_1_AutoML_20191119_203552_model_6</td>\n",
       "                        <td id=\"T_88515cea_0b1a_11ea_a4b9_80000208fe80row3_col3\" class=\"data row3 col3\" >GBM_grid_1_AutoML_20191119_203552_model_15</td>\n",
       "                        <td id=\"T_88515cea_0b1a_11ea_a4b9_80000208fe80row3_col4\" class=\"data row3 col4\" >XGBoost_grid_1_AutoML_20191119_203552_model_13</td>\n",
       "                        <td id=\"T_88515cea_0b1a_11ea_a4b9_80000208fe80row3_col5\" class=\"data row3 col5\" >DRF_1_AutoML_20191119_203552</td>\n",
       "                        <td id=\"T_88515cea_0b1a_11ea_a4b9_80000208fe80row3_col6\" class=\"data row3 col6\" >XRT_1_AutoML_20191119_203552</td>\n",
       "                        <td id=\"T_88515cea_0b1a_11ea_a4b9_80000208fe80row3_col7\" class=\"data row3 col7\" >GLM_grid_1_AutoML_20191119_203552_model_1</td>\n",
       "                        <td id=\"T_88515cea_0b1a_11ea_a4b9_80000208fe80row3_col8\" class=\"data row3 col8\" >nan</td>\n",
       "                        <td id=\"T_88515cea_0b1a_11ea_a4b9_80000208fe80row3_col9\" class=\"data row3 col9\" >nan</td>\n",
       "                        <td id=\"T_88515cea_0b1a_11ea_a4b9_80000208fe80row3_col10\" class=\"data row3 col10\" >nan</td>\n",
       "                        <td id=\"T_88515cea_0b1a_11ea_a4b9_80000208fe80row3_col11\" class=\"data row3 col11\" >nan</td>\n",
       "                        <td id=\"T_88515cea_0b1a_11ea_a4b9_80000208fe80row3_col12\" class=\"data row3 col12\" >nan</td>\n",
       "                        <td id=\"T_88515cea_0b1a_11ea_a4b9_80000208fe80row3_col13\" class=\"data row3 col13\" >nan</td>\n",
       "                        <td id=\"T_88515cea_0b1a_11ea_a4b9_80000208fe80row3_col14\" class=\"data row3 col14\" >nan</td>\n",
       "                        <td id=\"T_88515cea_0b1a_11ea_a4b9_80000208fe80row3_col15\" class=\"data row3 col15\" >nan</td>\n",
       "                        <td id=\"T_88515cea_0b1a_11ea_a4b9_80000208fe80row3_col16\" class=\"data row3 col16\" >nan</td>\n",
       "                        <td id=\"T_88515cea_0b1a_11ea_a4b9_80000208fe80row3_col17\" class=\"data row3 col17\" >nan</td>\n",
       "                        <td id=\"T_88515cea_0b1a_11ea_a4b9_80000208fe80row3_col18\" class=\"data row3 col18\" >nan</td>\n",
       "                        <td id=\"T_88515cea_0b1a_11ea_a4b9_80000208fe80row3_col19\" class=\"data row3 col19\" >nan</td>\n",
       "                        <td id=\"T_88515cea_0b1a_11ea_a4b9_80000208fe80row3_col20\" class=\"data row3 col20\" >nan</td>\n",
       "                        <td id=\"T_88515cea_0b1a_11ea_a4b9_80000208fe80row3_col21\" class=\"data row3 col21\" >nan</td>\n",
       "                        <td id=\"T_88515cea_0b1a_11ea_a4b9_80000208fe80row3_col22\" class=\"data row3 col22\" >nan</td>\n",
       "                        <td id=\"T_88515cea_0b1a_11ea_a4b9_80000208fe80row3_col23\" class=\"data row3 col23\" >nan</td>\n",
       "                        <td id=\"T_88515cea_0b1a_11ea_a4b9_80000208fe80row3_col24\" class=\"data row3 col24\" >nan</td>\n",
       "                        <td id=\"T_88515cea_0b1a_11ea_a4b9_80000208fe80row3_col25\" class=\"data row3 col25\" >nan</td>\n",
       "                        <td id=\"T_88515cea_0b1a_11ea_a4b9_80000208fe80row3_col26\" class=\"data row3 col26\" >nan</td>\n",
       "                        <td id=\"T_88515cea_0b1a_11ea_a4b9_80000208fe80row3_col27\" class=\"data row3 col27\" >nan</td>\n",
       "                        <td id=\"T_88515cea_0b1a_11ea_a4b9_80000208fe80row3_col28\" class=\"data row3 col28\" >nan</td>\n",
       "                        <td id=\"T_88515cea_0b1a_11ea_a4b9_80000208fe80row3_col29\" class=\"data row3 col29\" >nan</td>\n",
       "                        <td id=\"T_88515cea_0b1a_11ea_a4b9_80000208fe80row3_col30\" class=\"data row3 col30\" >nan</td>\n",
       "                        <td id=\"T_88515cea_0b1a_11ea_a4b9_80000208fe80row3_col31\" class=\"data row3 col31\" >nan</td>\n",
       "                        <td id=\"T_88515cea_0b1a_11ea_a4b9_80000208fe80row3_col32\" class=\"data row3 col32\" >nan</td>\n",
       "                        <td id=\"T_88515cea_0b1a_11ea_a4b9_80000208fe80row3_col33\" class=\"data row3 col33\" >nan</td>\n",
       "                        <td id=\"T_88515cea_0b1a_11ea_a4b9_80000208fe80row3_col34\" class=\"data row3 col34\" >nan</td>\n",
       "                        <td id=\"T_88515cea_0b1a_11ea_a4b9_80000208fe80row3_col35\" class=\"data row3 col35\" >nan</td>\n",
       "                        <td id=\"T_88515cea_0b1a_11ea_a4b9_80000208fe80row3_col36\" class=\"data row3 col36\" >nan</td>\n",
       "                        <td id=\"T_88515cea_0b1a_11ea_a4b9_80000208fe80row3_col37\" class=\"data row3 col37\" >nan</td>\n",
       "                        <td id=\"T_88515cea_0b1a_11ea_a4b9_80000208fe80row3_col38\" class=\"data row3 col38\" >nan</td>\n",
       "                        <td id=\"T_88515cea_0b1a_11ea_a4b9_80000208fe80row3_col39\" class=\"data row3 col39\" >nan</td>\n",
       "                        <td id=\"T_88515cea_0b1a_11ea_a4b9_80000208fe80row3_col40\" class=\"data row3 col40\" >nan</td>\n",
       "                        <td id=\"T_88515cea_0b1a_11ea_a4b9_80000208fe80row3_col41\" class=\"data row3 col41\" >nan</td>\n",
       "                        <td id=\"T_88515cea_0b1a_11ea_a4b9_80000208fe80row3_col42\" class=\"data row3 col42\" >nan</td>\n",
       "                        <td id=\"T_88515cea_0b1a_11ea_a4b9_80000208fe80row3_col43\" class=\"data row3 col43\" >nan</td>\n",
       "                        <td id=\"T_88515cea_0b1a_11ea_a4b9_80000208fe80row3_col44\" class=\"data row3 col44\" >nan</td>\n",
       "                        <td id=\"T_88515cea_0b1a_11ea_a4b9_80000208fe80row3_col45\" class=\"data row3 col45\" >nan</td>\n",
       "                        <td id=\"T_88515cea_0b1a_11ea_a4b9_80000208fe80row3_col46\" class=\"data row3 col46\" >nan</td>\n",
       "                        <td id=\"T_88515cea_0b1a_11ea_a4b9_80000208fe80row3_col47\" class=\"data row3 col47\" >nan</td>\n",
       "                        <td id=\"T_88515cea_0b1a_11ea_a4b9_80000208fe80row3_col48\" class=\"data row3 col48\" >nan</td>\n",
       "                        <td id=\"T_88515cea_0b1a_11ea_a4b9_80000208fe80row3_col49\" class=\"data row3 col49\" >nan</td>\n",
       "                        <td id=\"T_88515cea_0b1a_11ea_a4b9_80000208fe80row3_col50\" class=\"data row3 col50\" >nan</td>\n",
       "                        <td id=\"T_88515cea_0b1a_11ea_a4b9_80000208fe80row3_col51\" class=\"data row3 col51\" >nan</td>\n",
       "                        <td id=\"T_88515cea_0b1a_11ea_a4b9_80000208fe80row3_col52\" class=\"data row3 col52\" >nan</td>\n",
       "                        <td id=\"T_88515cea_0b1a_11ea_a4b9_80000208fe80row3_col53\" class=\"data row3 col53\" >nan</td>\n",
       "                        <td id=\"T_88515cea_0b1a_11ea_a4b9_80000208fe80row3_col54\" class=\"data row3 col54\" >nan</td>\n",
       "                        <td id=\"T_88515cea_0b1a_11ea_a4b9_80000208fe80row3_col55\" class=\"data row3 col55\" >nan</td>\n",
       "                        <td id=\"T_88515cea_0b1a_11ea_a4b9_80000208fe80row3_col56\" class=\"data row3 col56\" >nan</td>\n",
       "                        <td id=\"T_88515cea_0b1a_11ea_a4b9_80000208fe80row3_col57\" class=\"data row3 col57\" >nan</td>\n",
       "                        <td id=\"T_88515cea_0b1a_11ea_a4b9_80000208fe80row3_col58\" class=\"data row3 col58\" >nan</td>\n",
       "                        <td id=\"T_88515cea_0b1a_11ea_a4b9_80000208fe80row3_col59\" class=\"data row3 col59\" >nan</td>\n",
       "                        <td id=\"T_88515cea_0b1a_11ea_a4b9_80000208fe80row3_col60\" class=\"data row3 col60\" >nan</td>\n",
       "                        <td id=\"T_88515cea_0b1a_11ea_a4b9_80000208fe80row3_col61\" class=\"data row3 col61\" >nan</td>\n",
       "                        <td id=\"T_88515cea_0b1a_11ea_a4b9_80000208fe80row3_col62\" class=\"data row3 col62\" >nan</td>\n",
       "                        <td id=\"T_88515cea_0b1a_11ea_a4b9_80000208fe80row3_col63\" class=\"data row3 col63\" >nan</td>\n",
       "                        <td id=\"T_88515cea_0b1a_11ea_a4b9_80000208fe80row3_col64\" class=\"data row3 col64\" >nan</td>\n",
       "                        <td id=\"T_88515cea_0b1a_11ea_a4b9_80000208fe80row3_col65\" class=\"data row3 col65\" >nan</td>\n",
       "                        <td id=\"T_88515cea_0b1a_11ea_a4b9_80000208fe80row3_col66\" class=\"data row3 col66\" >nan</td>\n",
       "                        <td id=\"T_88515cea_0b1a_11ea_a4b9_80000208fe80row3_col67\" class=\"data row3 col67\" >nan</td>\n",
       "                        <td id=\"T_88515cea_0b1a_11ea_a4b9_80000208fe80row3_col68\" class=\"data row3 col68\" >nan</td>\n",
       "                        <td id=\"T_88515cea_0b1a_11ea_a4b9_80000208fe80row3_col69\" class=\"data row3 col69\" >nan</td>\n",
       "                        <td id=\"T_88515cea_0b1a_11ea_a4b9_80000208fe80row3_col70\" class=\"data row3 col70\" >nan</td>\n",
       "                        <td id=\"T_88515cea_0b1a_11ea_a4b9_80000208fe80row3_col71\" class=\"data row3 col71\" >nan</td>\n",
       "                        <td id=\"T_88515cea_0b1a_11ea_a4b9_80000208fe80row3_col72\" class=\"data row3 col72\" >nan</td>\n",
       "                        <td id=\"T_88515cea_0b1a_11ea_a4b9_80000208fe80row3_col73\" class=\"data row3 col73\" >nan</td>\n",
       "                        <td id=\"T_88515cea_0b1a_11ea_a4b9_80000208fe80row3_col74\" class=\"data row3 col74\" >nan</td>\n",
       "                        <td id=\"T_88515cea_0b1a_11ea_a4b9_80000208fe80row3_col75\" class=\"data row3 col75\" >nan</td>\n",
       "                        <td id=\"T_88515cea_0b1a_11ea_a4b9_80000208fe80row3_col76\" class=\"data row3 col76\" >nan</td>\n",
       "                        <td id=\"T_88515cea_0b1a_11ea_a4b9_80000208fe80row3_col77\" class=\"data row3 col77\" >nan</td>\n",
       "                        <td id=\"T_88515cea_0b1a_11ea_a4b9_80000208fe80row3_col78\" class=\"data row3 col78\" >nan</td>\n",
       "                        <td id=\"T_88515cea_0b1a_11ea_a4b9_80000208fe80row3_col79\" class=\"data row3 col79\" >nan</td>\n",
       "                        <td id=\"T_88515cea_0b1a_11ea_a4b9_80000208fe80row3_col80\" class=\"data row3 col80\" >nan</td>\n",
       "                        <td id=\"T_88515cea_0b1a_11ea_a4b9_80000208fe80row3_col81\" class=\"data row3 col81\" >nan</td>\n",
       "                        <td id=\"T_88515cea_0b1a_11ea_a4b9_80000208fe80row3_col82\" class=\"data row3 col82\" >nan</td>\n",
       "                        <td id=\"T_88515cea_0b1a_11ea_a4b9_80000208fe80row3_col83\" class=\"data row3 col83\" >nan</td>\n",
       "                        <td id=\"T_88515cea_0b1a_11ea_a4b9_80000208fe80row3_col84\" class=\"data row3 col84\" >nan</td>\n",
       "                        <td id=\"T_88515cea_0b1a_11ea_a4b9_80000208fe80row3_col85\" class=\"data row3 col85\" >nan</td>\n",
       "                        <td id=\"T_88515cea_0b1a_11ea_a4b9_80000208fe80row3_col86\" class=\"data row3 col86\" >nan</td>\n",
       "                        <td id=\"T_88515cea_0b1a_11ea_a4b9_80000208fe80row3_col87\" class=\"data row3 col87\" >nan</td>\n",
       "                        <td id=\"T_88515cea_0b1a_11ea_a4b9_80000208fe80row3_col88\" class=\"data row3 col88\" >nan</td>\n",
       "                        <td id=\"T_88515cea_0b1a_11ea_a4b9_80000208fe80row3_col89\" class=\"data row3 col89\" >nan</td>\n",
       "                        <td id=\"T_88515cea_0b1a_11ea_a4b9_80000208fe80row3_col90\" class=\"data row3 col90\" >nan</td>\n",
       "                        <td id=\"T_88515cea_0b1a_11ea_a4b9_80000208fe80row3_col91\" class=\"data row3 col91\" >nan</td>\n",
       "                        <td id=\"T_88515cea_0b1a_11ea_a4b9_80000208fe80row3_col92\" class=\"data row3 col92\" >nan</td>\n",
       "                        <td id=\"T_88515cea_0b1a_11ea_a4b9_80000208fe80row3_col93\" class=\"data row3 col93\" >nan</td>\n",
       "                        <td id=\"T_88515cea_0b1a_11ea_a4b9_80000208fe80row3_col94\" class=\"data row3 col94\" >nan</td>\n",
       "                        <td id=\"T_88515cea_0b1a_11ea_a4b9_80000208fe80row3_col95\" class=\"data row3 col95\" >nan</td>\n",
       "                        <td id=\"T_88515cea_0b1a_11ea_a4b9_80000208fe80row3_col96\" class=\"data row3 col96\" >nan</td>\n",
       "                        <td id=\"T_88515cea_0b1a_11ea_a4b9_80000208fe80row3_col97\" class=\"data row3 col97\" >nan</td>\n",
       "                        <td id=\"T_88515cea_0b1a_11ea_a4b9_80000208fe80row3_col98\" class=\"data row3 col98\" >nan</td>\n",
       "                        <td id=\"T_88515cea_0b1a_11ea_a4b9_80000208fe80row3_col99\" class=\"data row3 col99\" >nan</td>\n",
       "                        <td id=\"T_88515cea_0b1a_11ea_a4b9_80000208fe80row3_col100\" class=\"data row3 col100\" >nan</td>\n",
       "                        <td id=\"T_88515cea_0b1a_11ea_a4b9_80000208fe80row3_col101\" class=\"data row3 col101\" >nan</td>\n",
       "                        <td id=\"T_88515cea_0b1a_11ea_a4b9_80000208fe80row3_col102\" class=\"data row3 col102\" >nan</td>\n",
       "            </tr>\n",
       "            <tr>\n",
       "                                <td id=\"T_88515cea_0b1a_11ea_a4b9_80000208fe80row4_col0\" class=\"data row4 col0\" >144</td>\n",
       "                        <td id=\"T_88515cea_0b1a_11ea_a4b9_80000208fe80row4_col1\" class=\"data row4 col1\" >StackedEnsemble_AllModels_AutoML_20191119_221237</td>\n",
       "                        <td id=\"T_88515cea_0b1a_11ea_a4b9_80000208fe80row4_col2\" class=\"data row4 col2\" >DeepLearning_grid_1_AutoML_20191119_221237_model_6</td>\n",
       "                        <td id=\"T_88515cea_0b1a_11ea_a4b9_80000208fe80row4_col3\" class=\"data row4 col3\" >DeepLearning_grid_1_AutoML_20191119_221237_model_9</td>\n",
       "                        <td id=\"T_88515cea_0b1a_11ea_a4b9_80000208fe80row4_col4\" class=\"data row4 col4\" >GBM_grid_1_AutoML_20191119_221237_model_15</td>\n",
       "                        <td id=\"T_88515cea_0b1a_11ea_a4b9_80000208fe80row4_col5\" class=\"data row4 col5\" >DeepLearning_grid_1_AutoML_20191119_221237_model_2</td>\n",
       "                        <td id=\"T_88515cea_0b1a_11ea_a4b9_80000208fe80row4_col6\" class=\"data row4 col6\" >GBM_grid_1_AutoML_20191119_221237_model_20</td>\n",
       "                        <td id=\"T_88515cea_0b1a_11ea_a4b9_80000208fe80row4_col7\" class=\"data row4 col7\" >GBM_2_AutoML_20191119_221237</td>\n",
       "                        <td id=\"T_88515cea_0b1a_11ea_a4b9_80000208fe80row4_col8\" class=\"data row4 col8\" >GBM_4_AutoML_20191119_221237</td>\n",
       "                        <td id=\"T_88515cea_0b1a_11ea_a4b9_80000208fe80row4_col9\" class=\"data row4 col9\" >GBM_grid_1_AutoML_20191119_221237_model_3</td>\n",
       "                        <td id=\"T_88515cea_0b1a_11ea_a4b9_80000208fe80row4_col10\" class=\"data row4 col10\" >XGBoost_1_AutoML_20191119_221237</td>\n",
       "                        <td id=\"T_88515cea_0b1a_11ea_a4b9_80000208fe80row4_col11\" class=\"data row4 col11\" >GBM_grid_1_AutoML_20191119_221237_model_6</td>\n",
       "                        <td id=\"T_88515cea_0b1a_11ea_a4b9_80000208fe80row4_col12\" class=\"data row4 col12\" >GBM_3_AutoML_20191119_221237</td>\n",
       "                        <td id=\"T_88515cea_0b1a_11ea_a4b9_80000208fe80row4_col13\" class=\"data row4 col13\" >GBM_grid_1_AutoML_20191119_221237_model_32</td>\n",
       "                        <td id=\"T_88515cea_0b1a_11ea_a4b9_80000208fe80row4_col14\" class=\"data row4 col14\" >GBM_grid_1_AutoML_20191119_221237_model_18</td>\n",
       "                        <td id=\"T_88515cea_0b1a_11ea_a4b9_80000208fe80row4_col15\" class=\"data row4 col15\" >GBM_grid_1_AutoML_20191119_221237_model_31</td>\n",
       "                        <td id=\"T_88515cea_0b1a_11ea_a4b9_80000208fe80row4_col16\" class=\"data row4 col16\" >XGBoost_grid_1_AutoML_20191119_221237_model_18</td>\n",
       "                        <td id=\"T_88515cea_0b1a_11ea_a4b9_80000208fe80row4_col17\" class=\"data row4 col17\" >XGBoost_grid_1_AutoML_20191119_221237_model_13</td>\n",
       "                        <td id=\"T_88515cea_0b1a_11ea_a4b9_80000208fe80row4_col18\" class=\"data row4 col18\" >GBM_grid_1_AutoML_20191119_221237_model_19</td>\n",
       "                        <td id=\"T_88515cea_0b1a_11ea_a4b9_80000208fe80row4_col19\" class=\"data row4 col19\" >XRT_1_AutoML_20191119_221237</td>\n",
       "                        <td id=\"T_88515cea_0b1a_11ea_a4b9_80000208fe80row4_col20\" class=\"data row4 col20\" >GBM_grid_1_AutoML_20191119_221237_model_27</td>\n",
       "                        <td id=\"T_88515cea_0b1a_11ea_a4b9_80000208fe80row4_col21\" class=\"data row4 col21\" >GBM_grid_1_AutoML_20191119_221237_model_12</td>\n",
       "                        <td id=\"T_88515cea_0b1a_11ea_a4b9_80000208fe80row4_col22\" class=\"data row4 col22\" >XGBoost_3_AutoML_20191119_221237</td>\n",
       "                        <td id=\"T_88515cea_0b1a_11ea_a4b9_80000208fe80row4_col23\" class=\"data row4 col23\" >GBM_grid_1_AutoML_20191119_221237_model_10</td>\n",
       "                        <td id=\"T_88515cea_0b1a_11ea_a4b9_80000208fe80row4_col24\" class=\"data row4 col24\" >GBM_grid_1_AutoML_20191119_221237_model_14</td>\n",
       "                        <td id=\"T_88515cea_0b1a_11ea_a4b9_80000208fe80row4_col25\" class=\"data row4 col25\" >XGBoost_grid_1_AutoML_20191119_221237_model_8</td>\n",
       "                        <td id=\"T_88515cea_0b1a_11ea_a4b9_80000208fe80row4_col26\" class=\"data row4 col26\" >GBM_grid_1_AutoML_20191119_221237_model_11</td>\n",
       "                        <td id=\"T_88515cea_0b1a_11ea_a4b9_80000208fe80row4_col27\" class=\"data row4 col27\" >DRF_1_AutoML_20191119_221237</td>\n",
       "                        <td id=\"T_88515cea_0b1a_11ea_a4b9_80000208fe80row4_col28\" class=\"data row4 col28\" >GBM_1_AutoML_20191119_221237</td>\n",
       "                        <td id=\"T_88515cea_0b1a_11ea_a4b9_80000208fe80row4_col29\" class=\"data row4 col29\" >XGBoost_grid_1_AutoML_20191119_221237_model_15</td>\n",
       "                        <td id=\"T_88515cea_0b1a_11ea_a4b9_80000208fe80row4_col30\" class=\"data row4 col30\" >XGBoost_grid_1_AutoML_20191119_221237_model_17</td>\n",
       "                        <td id=\"T_88515cea_0b1a_11ea_a4b9_80000208fe80row4_col31\" class=\"data row4 col31\" >XGBoost_grid_1_AutoML_20191119_221237_model_4</td>\n",
       "                        <td id=\"T_88515cea_0b1a_11ea_a4b9_80000208fe80row4_col32\" class=\"data row4 col32\" >XGBoost_grid_1_AutoML_20191119_221237_model_2</td>\n",
       "                        <td id=\"T_88515cea_0b1a_11ea_a4b9_80000208fe80row4_col33\" class=\"data row4 col33\" >GBM_grid_1_AutoML_20191119_221237_model_26</td>\n",
       "                        <td id=\"T_88515cea_0b1a_11ea_a4b9_80000208fe80row4_col34\" class=\"data row4 col34\" >GBM_grid_1_AutoML_20191119_221237_model_8</td>\n",
       "                        <td id=\"T_88515cea_0b1a_11ea_a4b9_80000208fe80row4_col35\" class=\"data row4 col35\" >GBM_grid_1_AutoML_20191119_221237_model_17</td>\n",
       "                        <td id=\"T_88515cea_0b1a_11ea_a4b9_80000208fe80row4_col36\" class=\"data row4 col36\" >XGBoost_grid_1_AutoML_20191119_221237_model_3</td>\n",
       "                        <td id=\"T_88515cea_0b1a_11ea_a4b9_80000208fe80row4_col37\" class=\"data row4 col37\" >DeepLearning_grid_1_AutoML_20191119_221237_model_5</td>\n",
       "                        <td id=\"T_88515cea_0b1a_11ea_a4b9_80000208fe80row4_col38\" class=\"data row4 col38\" >GBM_5_AutoML_20191119_221237</td>\n",
       "                        <td id=\"T_88515cea_0b1a_11ea_a4b9_80000208fe80row4_col39\" class=\"data row4 col39\" >GBM_grid_1_AutoML_20191119_221237_model_9</td>\n",
       "                        <td id=\"T_88515cea_0b1a_11ea_a4b9_80000208fe80row4_col40\" class=\"data row4 col40\" >DeepLearning_grid_1_AutoML_20191119_221237_model_1</td>\n",
       "                        <td id=\"T_88515cea_0b1a_11ea_a4b9_80000208fe80row4_col41\" class=\"data row4 col41\" >XGBoost_grid_1_AutoML_20191119_221237_model_7</td>\n",
       "                        <td id=\"T_88515cea_0b1a_11ea_a4b9_80000208fe80row4_col42\" class=\"data row4 col42\" >GBM_grid_1_AutoML_20191119_221237_model_29</td>\n",
       "                        <td id=\"T_88515cea_0b1a_11ea_a4b9_80000208fe80row4_col43\" class=\"data row4 col43\" >XGBoost_2_AutoML_20191119_221237</td>\n",
       "                        <td id=\"T_88515cea_0b1a_11ea_a4b9_80000208fe80row4_col44\" class=\"data row4 col44\" >GBM_grid_1_AutoML_20191119_221237_model_35</td>\n",
       "                        <td id=\"T_88515cea_0b1a_11ea_a4b9_80000208fe80row4_col45\" class=\"data row4 col45\" >GBM_grid_1_AutoML_20191119_221237_model_1</td>\n",
       "                        <td id=\"T_88515cea_0b1a_11ea_a4b9_80000208fe80row4_col46\" class=\"data row4 col46\" >XGBoost_grid_1_AutoML_20191119_221237_model_1</td>\n",
       "                        <td id=\"T_88515cea_0b1a_11ea_a4b9_80000208fe80row4_col47\" class=\"data row4 col47\" >GBM_grid_1_AutoML_20191119_221237_model_7</td>\n",
       "                        <td id=\"T_88515cea_0b1a_11ea_a4b9_80000208fe80row4_col48\" class=\"data row4 col48\" >GBM_grid_1_AutoML_20191119_221237_model_13</td>\n",
       "                        <td id=\"T_88515cea_0b1a_11ea_a4b9_80000208fe80row4_col49\" class=\"data row4 col49\" >GBM_grid_1_AutoML_20191119_221237_model_21</td>\n",
       "                        <td id=\"T_88515cea_0b1a_11ea_a4b9_80000208fe80row4_col50\" class=\"data row4 col50\" >GBM_grid_1_AutoML_20191119_221237_model_16</td>\n",
       "                        <td id=\"T_88515cea_0b1a_11ea_a4b9_80000208fe80row4_col51\" class=\"data row4 col51\" >GBM_grid_1_AutoML_20191119_221237_model_23</td>\n",
       "                        <td id=\"T_88515cea_0b1a_11ea_a4b9_80000208fe80row4_col52\" class=\"data row4 col52\" >GBM_grid_1_AutoML_20191119_221237_model_24</td>\n",
       "                        <td id=\"T_88515cea_0b1a_11ea_a4b9_80000208fe80row4_col53\" class=\"data row4 col53\" >XGBoost_grid_1_AutoML_20191119_221237_model_5</td>\n",
       "                        <td id=\"T_88515cea_0b1a_11ea_a4b9_80000208fe80row4_col54\" class=\"data row4 col54\" >XGBoost_grid_1_AutoML_20191119_221237_model_12</td>\n",
       "                        <td id=\"T_88515cea_0b1a_11ea_a4b9_80000208fe80row4_col55\" class=\"data row4 col55\" >DeepLearning_grid_1_AutoML_20191119_221237_model_8</td>\n",
       "                        <td id=\"T_88515cea_0b1a_11ea_a4b9_80000208fe80row4_col56\" class=\"data row4 col56\" >XGBoost_grid_1_AutoML_20191119_221237_model_19</td>\n",
       "                        <td id=\"T_88515cea_0b1a_11ea_a4b9_80000208fe80row4_col57\" class=\"data row4 col57\" >GBM_grid_1_AutoML_20191119_221237_model_30</td>\n",
       "                        <td id=\"T_88515cea_0b1a_11ea_a4b9_80000208fe80row4_col58\" class=\"data row4 col58\" >XGBoost_grid_1_AutoML_20191119_221237_model_10</td>\n",
       "                        <td id=\"T_88515cea_0b1a_11ea_a4b9_80000208fe80row4_col59\" class=\"data row4 col59\" >DeepLearning_grid_1_AutoML_20191119_221237_model_3</td>\n",
       "                        <td id=\"T_88515cea_0b1a_11ea_a4b9_80000208fe80row4_col60\" class=\"data row4 col60\" >XGBoost_grid_1_AutoML_20191119_221237_model_14</td>\n",
       "                        <td id=\"T_88515cea_0b1a_11ea_a4b9_80000208fe80row4_col61\" class=\"data row4 col61\" >GBM_grid_1_AutoML_20191119_221237_model_28</td>\n",
       "                        <td id=\"T_88515cea_0b1a_11ea_a4b9_80000208fe80row4_col62\" class=\"data row4 col62\" >DeepLearning_grid_1_AutoML_20191119_221237_model_10</td>\n",
       "                        <td id=\"T_88515cea_0b1a_11ea_a4b9_80000208fe80row4_col63\" class=\"data row4 col63\" >DeepLearning_grid_1_AutoML_20191119_221237_model_7</td>\n",
       "                        <td id=\"T_88515cea_0b1a_11ea_a4b9_80000208fe80row4_col64\" class=\"data row4 col64\" >GBM_grid_1_AutoML_20191119_221237_model_4</td>\n",
       "                        <td id=\"T_88515cea_0b1a_11ea_a4b9_80000208fe80row4_col65\" class=\"data row4 col65\" >DeepLearning_grid_1_AutoML_20191119_221237_model_4</td>\n",
       "                        <td id=\"T_88515cea_0b1a_11ea_a4b9_80000208fe80row4_col66\" class=\"data row4 col66\" >XGBoost_grid_1_AutoML_20191119_221237_model_6</td>\n",
       "                        <td id=\"T_88515cea_0b1a_11ea_a4b9_80000208fe80row4_col67\" class=\"data row4 col67\" >GBM_grid_1_AutoML_20191119_221237_model_25</td>\n",
       "                        <td id=\"T_88515cea_0b1a_11ea_a4b9_80000208fe80row4_col68\" class=\"data row4 col68\" >GBM_grid_1_AutoML_20191119_221237_model_34</td>\n",
       "                        <td id=\"T_88515cea_0b1a_11ea_a4b9_80000208fe80row4_col69\" class=\"data row4 col69\" >XGBoost_grid_1_AutoML_20191119_221237_model_11</td>\n",
       "                        <td id=\"T_88515cea_0b1a_11ea_a4b9_80000208fe80row4_col70\" class=\"data row4 col70\" >GBM_grid_1_AutoML_20191119_221237_model_33</td>\n",
       "                        <td id=\"T_88515cea_0b1a_11ea_a4b9_80000208fe80row4_col71\" class=\"data row4 col71\" >XGBoost_grid_1_AutoML_20191119_221237_model_16</td>\n",
       "                        <td id=\"T_88515cea_0b1a_11ea_a4b9_80000208fe80row4_col72\" class=\"data row4 col72\" >GLM_grid_1_AutoML_20191119_221237_model_1</td>\n",
       "                        <td id=\"T_88515cea_0b1a_11ea_a4b9_80000208fe80row4_col73\" class=\"data row4 col73\" >GBM_grid_1_AutoML_20191119_221237_model_36</td>\n",
       "                        <td id=\"T_88515cea_0b1a_11ea_a4b9_80000208fe80row4_col74\" class=\"data row4 col74\" >GBM_grid_1_AutoML_20191119_221237_model_2</td>\n",
       "                        <td id=\"T_88515cea_0b1a_11ea_a4b9_80000208fe80row4_col75\" class=\"data row4 col75\" >XGBoost_grid_1_AutoML_20191119_221237_model_9</td>\n",
       "                        <td id=\"T_88515cea_0b1a_11ea_a4b9_80000208fe80row4_col76\" class=\"data row4 col76\" >XGBoost_grid_1_AutoML_20191119_221237_model_20</td>\n",
       "                        <td id=\"T_88515cea_0b1a_11ea_a4b9_80000208fe80row4_col77\" class=\"data row4 col77\" >DeepLearning_1_AutoML_20191119_221237</td>\n",
       "                        <td id=\"T_88515cea_0b1a_11ea_a4b9_80000208fe80row4_col78\" class=\"data row4 col78\" >GBM_grid_1_AutoML_20191119_221237_model_22</td>\n",
       "                        <td id=\"T_88515cea_0b1a_11ea_a4b9_80000208fe80row4_col79\" class=\"data row4 col79\" >GBM_grid_1_AutoML_20191119_221237_model_5</td>\n",
       "                        <td id=\"T_88515cea_0b1a_11ea_a4b9_80000208fe80row4_col80\" class=\"data row4 col80\" >nan</td>\n",
       "                        <td id=\"T_88515cea_0b1a_11ea_a4b9_80000208fe80row4_col81\" class=\"data row4 col81\" >nan</td>\n",
       "                        <td id=\"T_88515cea_0b1a_11ea_a4b9_80000208fe80row4_col82\" class=\"data row4 col82\" >nan</td>\n",
       "                        <td id=\"T_88515cea_0b1a_11ea_a4b9_80000208fe80row4_col83\" class=\"data row4 col83\" >nan</td>\n",
       "                        <td id=\"T_88515cea_0b1a_11ea_a4b9_80000208fe80row4_col84\" class=\"data row4 col84\" >nan</td>\n",
       "                        <td id=\"T_88515cea_0b1a_11ea_a4b9_80000208fe80row4_col85\" class=\"data row4 col85\" >nan</td>\n",
       "                        <td id=\"T_88515cea_0b1a_11ea_a4b9_80000208fe80row4_col86\" class=\"data row4 col86\" >nan</td>\n",
       "                        <td id=\"T_88515cea_0b1a_11ea_a4b9_80000208fe80row4_col87\" class=\"data row4 col87\" >nan</td>\n",
       "                        <td id=\"T_88515cea_0b1a_11ea_a4b9_80000208fe80row4_col88\" class=\"data row4 col88\" >nan</td>\n",
       "                        <td id=\"T_88515cea_0b1a_11ea_a4b9_80000208fe80row4_col89\" class=\"data row4 col89\" >nan</td>\n",
       "                        <td id=\"T_88515cea_0b1a_11ea_a4b9_80000208fe80row4_col90\" class=\"data row4 col90\" >nan</td>\n",
       "                        <td id=\"T_88515cea_0b1a_11ea_a4b9_80000208fe80row4_col91\" class=\"data row4 col91\" >nan</td>\n",
       "                        <td id=\"T_88515cea_0b1a_11ea_a4b9_80000208fe80row4_col92\" class=\"data row4 col92\" >nan</td>\n",
       "                        <td id=\"T_88515cea_0b1a_11ea_a4b9_80000208fe80row4_col93\" class=\"data row4 col93\" >nan</td>\n",
       "                        <td id=\"T_88515cea_0b1a_11ea_a4b9_80000208fe80row4_col94\" class=\"data row4 col94\" >nan</td>\n",
       "                        <td id=\"T_88515cea_0b1a_11ea_a4b9_80000208fe80row4_col95\" class=\"data row4 col95\" >nan</td>\n",
       "                        <td id=\"T_88515cea_0b1a_11ea_a4b9_80000208fe80row4_col96\" class=\"data row4 col96\" >nan</td>\n",
       "                        <td id=\"T_88515cea_0b1a_11ea_a4b9_80000208fe80row4_col97\" class=\"data row4 col97\" >nan</td>\n",
       "                        <td id=\"T_88515cea_0b1a_11ea_a4b9_80000208fe80row4_col98\" class=\"data row4 col98\" >nan</td>\n",
       "                        <td id=\"T_88515cea_0b1a_11ea_a4b9_80000208fe80row4_col99\" class=\"data row4 col99\" >nan</td>\n",
       "                        <td id=\"T_88515cea_0b1a_11ea_a4b9_80000208fe80row4_col100\" class=\"data row4 col100\" >nan</td>\n",
       "                        <td id=\"T_88515cea_0b1a_11ea_a4b9_80000208fe80row4_col101\" class=\"data row4 col101\" >nan</td>\n",
       "                        <td id=\"T_88515cea_0b1a_11ea_a4b9_80000208fe80row4_col102\" class=\"data row4 col102\" >nan</td>\n",
       "            </tr>\n",
       "            <tr>\n",
       "                                <td id=\"T_88515cea_0b1a_11ea_a4b9_80000208fe80row5_col0\" class=\"data row5 col0\" >180</td>\n",
       "                        <td id=\"T_88515cea_0b1a_11ea_a4b9_80000208fe80row5_col1\" class=\"data row5 col1\" >StackedEnsemble_BestOfFamily_AutoML_20191119_234716</td>\n",
       "                        <td id=\"T_88515cea_0b1a_11ea_a4b9_80000208fe80row5_col2\" class=\"data row5 col2\" >DeepLearning_grid_1_AutoML_20191119_234716_model_6</td>\n",
       "                        <td id=\"T_88515cea_0b1a_11ea_a4b9_80000208fe80row5_col3\" class=\"data row5 col3\" >GBM_grid_1_AutoML_20191119_234716_model_15</td>\n",
       "                        <td id=\"T_88515cea_0b1a_11ea_a4b9_80000208fe80row5_col4\" class=\"data row5 col4\" >XGBoost_grid_1_AutoML_20191119_234716_model_8</td>\n",
       "                        <td id=\"T_88515cea_0b1a_11ea_a4b9_80000208fe80row5_col5\" class=\"data row5 col5\" >XRT_1_AutoML_20191119_234716</td>\n",
       "                        <td id=\"T_88515cea_0b1a_11ea_a4b9_80000208fe80row5_col6\" class=\"data row5 col6\" >DRF_1_AutoML_20191119_234716</td>\n",
       "                        <td id=\"T_88515cea_0b1a_11ea_a4b9_80000208fe80row5_col7\" class=\"data row5 col7\" >GLM_grid_1_AutoML_20191119_234716_model_1</td>\n",
       "                        <td id=\"T_88515cea_0b1a_11ea_a4b9_80000208fe80row5_col8\" class=\"data row5 col8\" >nan</td>\n",
       "                        <td id=\"T_88515cea_0b1a_11ea_a4b9_80000208fe80row5_col9\" class=\"data row5 col9\" >nan</td>\n",
       "                        <td id=\"T_88515cea_0b1a_11ea_a4b9_80000208fe80row5_col10\" class=\"data row5 col10\" >nan</td>\n",
       "                        <td id=\"T_88515cea_0b1a_11ea_a4b9_80000208fe80row5_col11\" class=\"data row5 col11\" >nan</td>\n",
       "                        <td id=\"T_88515cea_0b1a_11ea_a4b9_80000208fe80row5_col12\" class=\"data row5 col12\" >nan</td>\n",
       "                        <td id=\"T_88515cea_0b1a_11ea_a4b9_80000208fe80row5_col13\" class=\"data row5 col13\" >nan</td>\n",
       "                        <td id=\"T_88515cea_0b1a_11ea_a4b9_80000208fe80row5_col14\" class=\"data row5 col14\" >nan</td>\n",
       "                        <td id=\"T_88515cea_0b1a_11ea_a4b9_80000208fe80row5_col15\" class=\"data row5 col15\" >nan</td>\n",
       "                        <td id=\"T_88515cea_0b1a_11ea_a4b9_80000208fe80row5_col16\" class=\"data row5 col16\" >nan</td>\n",
       "                        <td id=\"T_88515cea_0b1a_11ea_a4b9_80000208fe80row5_col17\" class=\"data row5 col17\" >nan</td>\n",
       "                        <td id=\"T_88515cea_0b1a_11ea_a4b9_80000208fe80row5_col18\" class=\"data row5 col18\" >nan</td>\n",
       "                        <td id=\"T_88515cea_0b1a_11ea_a4b9_80000208fe80row5_col19\" class=\"data row5 col19\" >nan</td>\n",
       "                        <td id=\"T_88515cea_0b1a_11ea_a4b9_80000208fe80row5_col20\" class=\"data row5 col20\" >nan</td>\n",
       "                        <td id=\"T_88515cea_0b1a_11ea_a4b9_80000208fe80row5_col21\" class=\"data row5 col21\" >nan</td>\n",
       "                        <td id=\"T_88515cea_0b1a_11ea_a4b9_80000208fe80row5_col22\" class=\"data row5 col22\" >nan</td>\n",
       "                        <td id=\"T_88515cea_0b1a_11ea_a4b9_80000208fe80row5_col23\" class=\"data row5 col23\" >nan</td>\n",
       "                        <td id=\"T_88515cea_0b1a_11ea_a4b9_80000208fe80row5_col24\" class=\"data row5 col24\" >nan</td>\n",
       "                        <td id=\"T_88515cea_0b1a_11ea_a4b9_80000208fe80row5_col25\" class=\"data row5 col25\" >nan</td>\n",
       "                        <td id=\"T_88515cea_0b1a_11ea_a4b9_80000208fe80row5_col26\" class=\"data row5 col26\" >nan</td>\n",
       "                        <td id=\"T_88515cea_0b1a_11ea_a4b9_80000208fe80row5_col27\" class=\"data row5 col27\" >nan</td>\n",
       "                        <td id=\"T_88515cea_0b1a_11ea_a4b9_80000208fe80row5_col28\" class=\"data row5 col28\" >nan</td>\n",
       "                        <td id=\"T_88515cea_0b1a_11ea_a4b9_80000208fe80row5_col29\" class=\"data row5 col29\" >nan</td>\n",
       "                        <td id=\"T_88515cea_0b1a_11ea_a4b9_80000208fe80row5_col30\" class=\"data row5 col30\" >nan</td>\n",
       "                        <td id=\"T_88515cea_0b1a_11ea_a4b9_80000208fe80row5_col31\" class=\"data row5 col31\" >nan</td>\n",
       "                        <td id=\"T_88515cea_0b1a_11ea_a4b9_80000208fe80row5_col32\" class=\"data row5 col32\" >nan</td>\n",
       "                        <td id=\"T_88515cea_0b1a_11ea_a4b9_80000208fe80row5_col33\" class=\"data row5 col33\" >nan</td>\n",
       "                        <td id=\"T_88515cea_0b1a_11ea_a4b9_80000208fe80row5_col34\" class=\"data row5 col34\" >nan</td>\n",
       "                        <td id=\"T_88515cea_0b1a_11ea_a4b9_80000208fe80row5_col35\" class=\"data row5 col35\" >nan</td>\n",
       "                        <td id=\"T_88515cea_0b1a_11ea_a4b9_80000208fe80row5_col36\" class=\"data row5 col36\" >nan</td>\n",
       "                        <td id=\"T_88515cea_0b1a_11ea_a4b9_80000208fe80row5_col37\" class=\"data row5 col37\" >nan</td>\n",
       "                        <td id=\"T_88515cea_0b1a_11ea_a4b9_80000208fe80row5_col38\" class=\"data row5 col38\" >nan</td>\n",
       "                        <td id=\"T_88515cea_0b1a_11ea_a4b9_80000208fe80row5_col39\" class=\"data row5 col39\" >nan</td>\n",
       "                        <td id=\"T_88515cea_0b1a_11ea_a4b9_80000208fe80row5_col40\" class=\"data row5 col40\" >nan</td>\n",
       "                        <td id=\"T_88515cea_0b1a_11ea_a4b9_80000208fe80row5_col41\" class=\"data row5 col41\" >nan</td>\n",
       "                        <td id=\"T_88515cea_0b1a_11ea_a4b9_80000208fe80row5_col42\" class=\"data row5 col42\" >nan</td>\n",
       "                        <td id=\"T_88515cea_0b1a_11ea_a4b9_80000208fe80row5_col43\" class=\"data row5 col43\" >nan</td>\n",
       "                        <td id=\"T_88515cea_0b1a_11ea_a4b9_80000208fe80row5_col44\" class=\"data row5 col44\" >nan</td>\n",
       "                        <td id=\"T_88515cea_0b1a_11ea_a4b9_80000208fe80row5_col45\" class=\"data row5 col45\" >nan</td>\n",
       "                        <td id=\"T_88515cea_0b1a_11ea_a4b9_80000208fe80row5_col46\" class=\"data row5 col46\" >nan</td>\n",
       "                        <td id=\"T_88515cea_0b1a_11ea_a4b9_80000208fe80row5_col47\" class=\"data row5 col47\" >nan</td>\n",
       "                        <td id=\"T_88515cea_0b1a_11ea_a4b9_80000208fe80row5_col48\" class=\"data row5 col48\" >nan</td>\n",
       "                        <td id=\"T_88515cea_0b1a_11ea_a4b9_80000208fe80row5_col49\" class=\"data row5 col49\" >nan</td>\n",
       "                        <td id=\"T_88515cea_0b1a_11ea_a4b9_80000208fe80row5_col50\" class=\"data row5 col50\" >nan</td>\n",
       "                        <td id=\"T_88515cea_0b1a_11ea_a4b9_80000208fe80row5_col51\" class=\"data row5 col51\" >nan</td>\n",
       "                        <td id=\"T_88515cea_0b1a_11ea_a4b9_80000208fe80row5_col52\" class=\"data row5 col52\" >nan</td>\n",
       "                        <td id=\"T_88515cea_0b1a_11ea_a4b9_80000208fe80row5_col53\" class=\"data row5 col53\" >nan</td>\n",
       "                        <td id=\"T_88515cea_0b1a_11ea_a4b9_80000208fe80row5_col54\" class=\"data row5 col54\" >nan</td>\n",
       "                        <td id=\"T_88515cea_0b1a_11ea_a4b9_80000208fe80row5_col55\" class=\"data row5 col55\" >nan</td>\n",
       "                        <td id=\"T_88515cea_0b1a_11ea_a4b9_80000208fe80row5_col56\" class=\"data row5 col56\" >nan</td>\n",
       "                        <td id=\"T_88515cea_0b1a_11ea_a4b9_80000208fe80row5_col57\" class=\"data row5 col57\" >nan</td>\n",
       "                        <td id=\"T_88515cea_0b1a_11ea_a4b9_80000208fe80row5_col58\" class=\"data row5 col58\" >nan</td>\n",
       "                        <td id=\"T_88515cea_0b1a_11ea_a4b9_80000208fe80row5_col59\" class=\"data row5 col59\" >nan</td>\n",
       "                        <td id=\"T_88515cea_0b1a_11ea_a4b9_80000208fe80row5_col60\" class=\"data row5 col60\" >nan</td>\n",
       "                        <td id=\"T_88515cea_0b1a_11ea_a4b9_80000208fe80row5_col61\" class=\"data row5 col61\" >nan</td>\n",
       "                        <td id=\"T_88515cea_0b1a_11ea_a4b9_80000208fe80row5_col62\" class=\"data row5 col62\" >nan</td>\n",
       "                        <td id=\"T_88515cea_0b1a_11ea_a4b9_80000208fe80row5_col63\" class=\"data row5 col63\" >nan</td>\n",
       "                        <td id=\"T_88515cea_0b1a_11ea_a4b9_80000208fe80row5_col64\" class=\"data row5 col64\" >nan</td>\n",
       "                        <td id=\"T_88515cea_0b1a_11ea_a4b9_80000208fe80row5_col65\" class=\"data row5 col65\" >nan</td>\n",
       "                        <td id=\"T_88515cea_0b1a_11ea_a4b9_80000208fe80row5_col66\" class=\"data row5 col66\" >nan</td>\n",
       "                        <td id=\"T_88515cea_0b1a_11ea_a4b9_80000208fe80row5_col67\" class=\"data row5 col67\" >nan</td>\n",
       "                        <td id=\"T_88515cea_0b1a_11ea_a4b9_80000208fe80row5_col68\" class=\"data row5 col68\" >nan</td>\n",
       "                        <td id=\"T_88515cea_0b1a_11ea_a4b9_80000208fe80row5_col69\" class=\"data row5 col69\" >nan</td>\n",
       "                        <td id=\"T_88515cea_0b1a_11ea_a4b9_80000208fe80row5_col70\" class=\"data row5 col70\" >nan</td>\n",
       "                        <td id=\"T_88515cea_0b1a_11ea_a4b9_80000208fe80row5_col71\" class=\"data row5 col71\" >nan</td>\n",
       "                        <td id=\"T_88515cea_0b1a_11ea_a4b9_80000208fe80row5_col72\" class=\"data row5 col72\" >nan</td>\n",
       "                        <td id=\"T_88515cea_0b1a_11ea_a4b9_80000208fe80row5_col73\" class=\"data row5 col73\" >nan</td>\n",
       "                        <td id=\"T_88515cea_0b1a_11ea_a4b9_80000208fe80row5_col74\" class=\"data row5 col74\" >nan</td>\n",
       "                        <td id=\"T_88515cea_0b1a_11ea_a4b9_80000208fe80row5_col75\" class=\"data row5 col75\" >nan</td>\n",
       "                        <td id=\"T_88515cea_0b1a_11ea_a4b9_80000208fe80row5_col76\" class=\"data row5 col76\" >nan</td>\n",
       "                        <td id=\"T_88515cea_0b1a_11ea_a4b9_80000208fe80row5_col77\" class=\"data row5 col77\" >nan</td>\n",
       "                        <td id=\"T_88515cea_0b1a_11ea_a4b9_80000208fe80row5_col78\" class=\"data row5 col78\" >nan</td>\n",
       "                        <td id=\"T_88515cea_0b1a_11ea_a4b9_80000208fe80row5_col79\" class=\"data row5 col79\" >nan</td>\n",
       "                        <td id=\"T_88515cea_0b1a_11ea_a4b9_80000208fe80row5_col80\" class=\"data row5 col80\" >nan</td>\n",
       "                        <td id=\"T_88515cea_0b1a_11ea_a4b9_80000208fe80row5_col81\" class=\"data row5 col81\" >nan</td>\n",
       "                        <td id=\"T_88515cea_0b1a_11ea_a4b9_80000208fe80row5_col82\" class=\"data row5 col82\" >nan</td>\n",
       "                        <td id=\"T_88515cea_0b1a_11ea_a4b9_80000208fe80row5_col83\" class=\"data row5 col83\" >nan</td>\n",
       "                        <td id=\"T_88515cea_0b1a_11ea_a4b9_80000208fe80row5_col84\" class=\"data row5 col84\" >nan</td>\n",
       "                        <td id=\"T_88515cea_0b1a_11ea_a4b9_80000208fe80row5_col85\" class=\"data row5 col85\" >nan</td>\n",
       "                        <td id=\"T_88515cea_0b1a_11ea_a4b9_80000208fe80row5_col86\" class=\"data row5 col86\" >nan</td>\n",
       "                        <td id=\"T_88515cea_0b1a_11ea_a4b9_80000208fe80row5_col87\" class=\"data row5 col87\" >nan</td>\n",
       "                        <td id=\"T_88515cea_0b1a_11ea_a4b9_80000208fe80row5_col88\" class=\"data row5 col88\" >nan</td>\n",
       "                        <td id=\"T_88515cea_0b1a_11ea_a4b9_80000208fe80row5_col89\" class=\"data row5 col89\" >nan</td>\n",
       "                        <td id=\"T_88515cea_0b1a_11ea_a4b9_80000208fe80row5_col90\" class=\"data row5 col90\" >nan</td>\n",
       "                        <td id=\"T_88515cea_0b1a_11ea_a4b9_80000208fe80row5_col91\" class=\"data row5 col91\" >nan</td>\n",
       "                        <td id=\"T_88515cea_0b1a_11ea_a4b9_80000208fe80row5_col92\" class=\"data row5 col92\" >nan</td>\n",
       "                        <td id=\"T_88515cea_0b1a_11ea_a4b9_80000208fe80row5_col93\" class=\"data row5 col93\" >nan</td>\n",
       "                        <td id=\"T_88515cea_0b1a_11ea_a4b9_80000208fe80row5_col94\" class=\"data row5 col94\" >nan</td>\n",
       "                        <td id=\"T_88515cea_0b1a_11ea_a4b9_80000208fe80row5_col95\" class=\"data row5 col95\" >nan</td>\n",
       "                        <td id=\"T_88515cea_0b1a_11ea_a4b9_80000208fe80row5_col96\" class=\"data row5 col96\" >nan</td>\n",
       "                        <td id=\"T_88515cea_0b1a_11ea_a4b9_80000208fe80row5_col97\" class=\"data row5 col97\" >nan</td>\n",
       "                        <td id=\"T_88515cea_0b1a_11ea_a4b9_80000208fe80row5_col98\" class=\"data row5 col98\" >nan</td>\n",
       "                        <td id=\"T_88515cea_0b1a_11ea_a4b9_80000208fe80row5_col99\" class=\"data row5 col99\" >nan</td>\n",
       "                        <td id=\"T_88515cea_0b1a_11ea_a4b9_80000208fe80row5_col100\" class=\"data row5 col100\" >nan</td>\n",
       "                        <td id=\"T_88515cea_0b1a_11ea_a4b9_80000208fe80row5_col101\" class=\"data row5 col101\" >nan</td>\n",
       "                        <td id=\"T_88515cea_0b1a_11ea_a4b9_80000208fe80row5_col102\" class=\"data row5 col102\" >nan</td>\n",
       "            </tr>\n",
       "    </tbody></table>"
      ],
      "text/plain": [
       "<pandas.io.formats.style.Styler at 0x2aca5a54ad68>"
      ]
     },
     "metadata": {},
     "output_type": "display_data"
    },
    {
     "data": {
      "text/plain": [
       "'H2OAutoMLClean #1'"
      ]
     },
     "metadata": {},
     "output_type": "display_data"
    },
    {
     "data": {
      "text/html": [
       "<style  type=\"text/css\" >\n",
       "</style><table id=\"T_885659a2_0b1a_11ea_a4b9_80000208fe80\" ><thead>    <tr>        <th class=\"col_heading level0 col0\" >max_angle</th>        <th class=\"col_heading level0 col1\" >test_acc</th>        <th class=\"col_heading level0 col2\" >train_acc</th>        <th class=\"col_heading level0 col3\" >time_err</th>        <th class=\"col_heading level0 col4\" >time_pre</th>        <th class=\"col_heading level0 col5\" >time_mod</th>    </tr></thead><tbody>\n",
       "                <tr>\n",
       "                                <td id=\"T_885659a2_0b1a_11ea_a4b9_80000208fe80row0_col0\" class=\"data row0 col0\" >0</td>\n",
       "                        <td id=\"T_885659a2_0b1a_11ea_a4b9_80000208fe80row0_col1\" class=\"data row0 col1\" >0.988</td>\n",
       "                        <td id=\"T_885659a2_0b1a_11ea_a4b9_80000208fe80row0_col2\" class=\"data row0 col2\" >1</td>\n",
       "                        <td id=\"T_885659a2_0b1a_11ea_a4b9_80000208fe80row0_col3\" class=\"data row0 col3\" >0.191</td>\n",
       "                        <td id=\"T_885659a2_0b1a_11ea_a4b9_80000208fe80row0_col4\" class=\"data row0 col4\" >0.001</td>\n",
       "                        <td id=\"T_885659a2_0b1a_11ea_a4b9_80000208fe80row0_col5\" class=\"data row0 col5\" >954.214</td>\n",
       "            </tr>\n",
       "            <tr>\n",
       "                                <td id=\"T_885659a2_0b1a_11ea_a4b9_80000208fe80row1_col0\" class=\"data row1 col0\" >36</td>\n",
       "                        <td id=\"T_885659a2_0b1a_11ea_a4b9_80000208fe80row1_col1\" class=\"data row1 col1\" >0.681</td>\n",
       "                        <td id=\"T_885659a2_0b1a_11ea_a4b9_80000208fe80row1_col2\" class=\"data row1 col2\" >1</td>\n",
       "                        <td id=\"T_885659a2_0b1a_11ea_a4b9_80000208fe80row1_col3\" class=\"data row1 col3\" >0.217</td>\n",
       "                        <td id=\"T_885659a2_0b1a_11ea_a4b9_80000208fe80row1_col4\" class=\"data row1 col4\" >0.002</td>\n",
       "                        <td id=\"T_885659a2_0b1a_11ea_a4b9_80000208fe80row1_col5\" class=\"data row1 col5\" >978.904</td>\n",
       "            </tr>\n",
       "            <tr>\n",
       "                                <td id=\"T_885659a2_0b1a_11ea_a4b9_80000208fe80row2_col0\" class=\"data row2 col0\" >72</td>\n",
       "                        <td id=\"T_885659a2_0b1a_11ea_a4b9_80000208fe80row2_col1\" class=\"data row2 col1\" >0.428</td>\n",
       "                        <td id=\"T_885659a2_0b1a_11ea_a4b9_80000208fe80row2_col2\" class=\"data row2 col2\" >1</td>\n",
       "                        <td id=\"T_885659a2_0b1a_11ea_a4b9_80000208fe80row2_col3\" class=\"data row2 col3\" >0.206</td>\n",
       "                        <td id=\"T_885659a2_0b1a_11ea_a4b9_80000208fe80row2_col4\" class=\"data row2 col4\" >0.001</td>\n",
       "                        <td id=\"T_885659a2_0b1a_11ea_a4b9_80000208fe80row2_col5\" class=\"data row2 col5\" >957.565</td>\n",
       "            </tr>\n",
       "            <tr>\n",
       "                                <td id=\"T_885659a2_0b1a_11ea_a4b9_80000208fe80row3_col0\" class=\"data row3 col0\" >108</td>\n",
       "                        <td id=\"T_885659a2_0b1a_11ea_a4b9_80000208fe80row3_col1\" class=\"data row3 col1\" >0.374</td>\n",
       "                        <td id=\"T_885659a2_0b1a_11ea_a4b9_80000208fe80row3_col2\" class=\"data row3 col2\" >1</td>\n",
       "                        <td id=\"T_885659a2_0b1a_11ea_a4b9_80000208fe80row3_col3\" class=\"data row3 col3\" >0.213</td>\n",
       "                        <td id=\"T_885659a2_0b1a_11ea_a4b9_80000208fe80row3_col4\" class=\"data row3 col4\" >0.001</td>\n",
       "                        <td id=\"T_885659a2_0b1a_11ea_a4b9_80000208fe80row3_col5\" class=\"data row3 col5\" >982.987</td>\n",
       "            </tr>\n",
       "            <tr>\n",
       "                                <td id=\"T_885659a2_0b1a_11ea_a4b9_80000208fe80row4_col0\" class=\"data row4 col0\" >144</td>\n",
       "                        <td id=\"T_885659a2_0b1a_11ea_a4b9_80000208fe80row4_col1\" class=\"data row4 col1\" >0.28</td>\n",
       "                        <td id=\"T_885659a2_0b1a_11ea_a4b9_80000208fe80row4_col2\" class=\"data row4 col2\" >1</td>\n",
       "                        <td id=\"T_885659a2_0b1a_11ea_a4b9_80000208fe80row4_col3\" class=\"data row4 col3\" >0.225</td>\n",
       "                        <td id=\"T_885659a2_0b1a_11ea_a4b9_80000208fe80row4_col4\" class=\"data row4 col4\" >0.001</td>\n",
       "                        <td id=\"T_885659a2_0b1a_11ea_a4b9_80000208fe80row4_col5\" class=\"data row4 col5\" >958.183</td>\n",
       "            </tr>\n",
       "            <tr>\n",
       "                                <td id=\"T_885659a2_0b1a_11ea_a4b9_80000208fe80row5_col0\" class=\"data row5 col0\" >180</td>\n",
       "                        <td id=\"T_885659a2_0b1a_11ea_a4b9_80000208fe80row5_col1\" class=\"data row5 col1\" >0.257</td>\n",
       "                        <td id=\"T_885659a2_0b1a_11ea_a4b9_80000208fe80row5_col2\" class=\"data row5 col2\" >1</td>\n",
       "                        <td id=\"T_885659a2_0b1a_11ea_a4b9_80000208fe80row5_col3\" class=\"data row5 col3\" >0.213</td>\n",
       "                        <td id=\"T_885659a2_0b1a_11ea_a4b9_80000208fe80row5_col4\" class=\"data row5 col4\" >0.001</td>\n",
       "                        <td id=\"T_885659a2_0b1a_11ea_a4b9_80000208fe80row5_col5\" class=\"data row5 col5\" >954.038</td>\n",
       "            </tr>\n",
       "    </tbody></table>"
      ],
      "text/plain": [
       "<pandas.io.formats.style.Styler at 0x2aca5a4f5c50>"
      ]
     },
     "metadata": {},
     "output_type": "display_data"
    },
    {
     "data": {
      "text/html": [
       "<style  type=\"text/css\" >\n",
       "</style><table id=\"T_885979f2_0b1a_11ea_a4b9_80000208fe80\" ><thead>    <tr>        <th class=\"col_heading level0 col0\" >max_angle</th>        <th class=\"col_heading level0 col1\" >pipe_0</th>        <th class=\"col_heading level0 col2\" >pipe_1</th>        <th class=\"col_heading level0 col3\" >pipe_2</th>        <th class=\"col_heading level0 col4\" >pipe_3</th>        <th class=\"col_heading level0 col5\" >pipe_4</th>        <th class=\"col_heading level0 col6\" >pipe_5</th>        <th class=\"col_heading level0 col7\" >pipe_6</th>        <th class=\"col_heading level0 col8\" >pipe_7</th>        <th class=\"col_heading level0 col9\" >pipe_8</th>        <th class=\"col_heading level0 col10\" >pipe_9</th>        <th class=\"col_heading level0 col11\" >pipe_10</th>        <th class=\"col_heading level0 col12\" >pipe_11</th>        <th class=\"col_heading level0 col13\" >pipe_12</th>        <th class=\"col_heading level0 col14\" >pipe_13</th>        <th class=\"col_heading level0 col15\" >pipe_14</th>        <th class=\"col_heading level0 col16\" >pipe_15</th>        <th class=\"col_heading level0 col17\" >pipe_16</th>        <th class=\"col_heading level0 col18\" >pipe_17</th>        <th class=\"col_heading level0 col19\" >pipe_18</th>        <th class=\"col_heading level0 col20\" >pipe_19</th>        <th class=\"col_heading level0 col21\" >pipe_20</th>        <th class=\"col_heading level0 col22\" >pipe_21</th>        <th class=\"col_heading level0 col23\" >pipe_22</th>        <th class=\"col_heading level0 col24\" >pipe_23</th>        <th class=\"col_heading level0 col25\" >pipe_24</th>        <th class=\"col_heading level0 col26\" >pipe_25</th>        <th class=\"col_heading level0 col27\" >pipe_26</th>        <th class=\"col_heading level0 col28\" >pipe_27</th>        <th class=\"col_heading level0 col29\" >pipe_28</th>        <th class=\"col_heading level0 col30\" >pipe_29</th>        <th class=\"col_heading level0 col31\" >pipe_30</th>        <th class=\"col_heading level0 col32\" >pipe_31</th>        <th class=\"col_heading level0 col33\" >pipe_32</th>        <th class=\"col_heading level0 col34\" >pipe_33</th>        <th class=\"col_heading level0 col35\" >pipe_34</th>        <th class=\"col_heading level0 col36\" >pipe_35</th>        <th class=\"col_heading level0 col37\" >pipe_36</th>        <th class=\"col_heading level0 col38\" >pipe_37</th>        <th class=\"col_heading level0 col39\" >pipe_38</th>        <th class=\"col_heading level0 col40\" >pipe_39</th>        <th class=\"col_heading level0 col41\" >pipe_40</th>        <th class=\"col_heading level0 col42\" >pipe_41</th>        <th class=\"col_heading level0 col43\" >pipe_42</th>        <th class=\"col_heading level0 col44\" >pipe_43</th>        <th class=\"col_heading level0 col45\" >pipe_44</th>        <th class=\"col_heading level0 col46\" >pipe_45</th>        <th class=\"col_heading level0 col47\" >pipe_46</th>        <th class=\"col_heading level0 col48\" >pipe_47</th>        <th class=\"col_heading level0 col49\" >pipe_48</th>        <th class=\"col_heading level0 col50\" >pipe_49</th>        <th class=\"col_heading level0 col51\" >pipe_50</th>        <th class=\"col_heading level0 col52\" >pipe_51</th>        <th class=\"col_heading level0 col53\" >pipe_52</th>        <th class=\"col_heading level0 col54\" >pipe_53</th>        <th class=\"col_heading level0 col55\" >pipe_54</th>        <th class=\"col_heading level0 col56\" >pipe_55</th>        <th class=\"col_heading level0 col57\" >pipe_56</th>        <th class=\"col_heading level0 col58\" >pipe_57</th>        <th class=\"col_heading level0 col59\" >pipe_58</th>        <th class=\"col_heading level0 col60\" >pipe_59</th>        <th class=\"col_heading level0 col61\" >pipe_60</th>        <th class=\"col_heading level0 col62\" >pipe_61</th>        <th class=\"col_heading level0 col63\" >pipe_62</th>        <th class=\"col_heading level0 col64\" >pipe_63</th>        <th class=\"col_heading level0 col65\" >pipe_64</th>        <th class=\"col_heading level0 col66\" >pipe_65</th>        <th class=\"col_heading level0 col67\" >pipe_66</th>        <th class=\"col_heading level0 col68\" >pipe_67</th>        <th class=\"col_heading level0 col69\" >pipe_68</th>        <th class=\"col_heading level0 col70\" >pipe_69</th>        <th class=\"col_heading level0 col71\" >pipe_70</th>        <th class=\"col_heading level0 col72\" >pipe_71</th>        <th class=\"col_heading level0 col73\" >pipe_72</th>        <th class=\"col_heading level0 col74\" >pipe_73</th>        <th class=\"col_heading level0 col75\" >pipe_74</th>        <th class=\"col_heading level0 col76\" >pipe_75</th>        <th class=\"col_heading level0 col77\" >pipe_76</th>        <th class=\"col_heading level0 col78\" >pipe_77</th>        <th class=\"col_heading level0 col79\" >pipe_78</th>        <th class=\"col_heading level0 col80\" >pipe_79</th>        <th class=\"col_heading level0 col81\" >pipe_80</th>        <th class=\"col_heading level0 col82\" >pipe_81</th>        <th class=\"col_heading level0 col83\" >pipe_82</th>        <th class=\"col_heading level0 col84\" >pipe_83</th>        <th class=\"col_heading level0 col85\" >pipe_84</th>        <th class=\"col_heading level0 col86\" >pipe_85</th>        <th class=\"col_heading level0 col87\" >pipe_86</th>        <th class=\"col_heading level0 col88\" >pipe_87</th>        <th class=\"col_heading level0 col89\" >pipe_88</th>        <th class=\"col_heading level0 col90\" >pipe_89</th>        <th class=\"col_heading level0 col91\" >pipe_90</th>        <th class=\"col_heading level0 col92\" >pipe_91</th>        <th class=\"col_heading level0 col93\" >pipe_92</th>        <th class=\"col_heading level0 col94\" >pipe_93</th>        <th class=\"col_heading level0 col95\" >pipe_94</th>        <th class=\"col_heading level0 col96\" >pipe_95</th>        <th class=\"col_heading level0 col97\" >pipe_96</th>        <th class=\"col_heading level0 col98\" >pipe_97</th>        <th class=\"col_heading level0 col99\" >pipe_98</th>        <th class=\"col_heading level0 col100\" >pipe_99</th>        <th class=\"col_heading level0 col101\" >pipe_100</th>        <th class=\"col_heading level0 col102\" >pipe_101</th>    </tr></thead><tbody>\n",
       "                <tr>\n",
       "                                <td id=\"T_885979f2_0b1a_11ea_a4b9_80000208fe80row0_col0\" class=\"data row0 col0\" >0</td>\n",
       "                        <td id=\"T_885979f2_0b1a_11ea_a4b9_80000208fe80row0_col1\" class=\"data row0 col1\" >StackedEnsemble_BestOfFamily_AutoML_20191119_155917</td>\n",
       "                        <td id=\"T_885979f2_0b1a_11ea_a4b9_80000208fe80row0_col2\" class=\"data row0 col2\" >DeepLearning_grid_1_AutoML_20191119_155917_model_2</td>\n",
       "                        <td id=\"T_885979f2_0b1a_11ea_a4b9_80000208fe80row0_col3\" class=\"data row0 col3\" >GBM_grid_1_AutoML_20191119_155917_model_39</td>\n",
       "                        <td id=\"T_885979f2_0b1a_11ea_a4b9_80000208fe80row0_col4\" class=\"data row0 col4\" >XGBoost_grid_1_AutoML_20191119_155917_model_13</td>\n",
       "                        <td id=\"T_885979f2_0b1a_11ea_a4b9_80000208fe80row0_col5\" class=\"data row0 col5\" >DRF_1_AutoML_20191119_155917</td>\n",
       "                        <td id=\"T_885979f2_0b1a_11ea_a4b9_80000208fe80row0_col6\" class=\"data row0 col6\" >XRT_1_AutoML_20191119_155917</td>\n",
       "                        <td id=\"T_885979f2_0b1a_11ea_a4b9_80000208fe80row0_col7\" class=\"data row0 col7\" >GLM_grid_1_AutoML_20191119_155917_model_1</td>\n",
       "                        <td id=\"T_885979f2_0b1a_11ea_a4b9_80000208fe80row0_col8\" class=\"data row0 col8\" >nan</td>\n",
       "                        <td id=\"T_885979f2_0b1a_11ea_a4b9_80000208fe80row0_col9\" class=\"data row0 col9\" >nan</td>\n",
       "                        <td id=\"T_885979f2_0b1a_11ea_a4b9_80000208fe80row0_col10\" class=\"data row0 col10\" >nan</td>\n",
       "                        <td id=\"T_885979f2_0b1a_11ea_a4b9_80000208fe80row0_col11\" class=\"data row0 col11\" >nan</td>\n",
       "                        <td id=\"T_885979f2_0b1a_11ea_a4b9_80000208fe80row0_col12\" class=\"data row0 col12\" >nan</td>\n",
       "                        <td id=\"T_885979f2_0b1a_11ea_a4b9_80000208fe80row0_col13\" class=\"data row0 col13\" >nan</td>\n",
       "                        <td id=\"T_885979f2_0b1a_11ea_a4b9_80000208fe80row0_col14\" class=\"data row0 col14\" >nan</td>\n",
       "                        <td id=\"T_885979f2_0b1a_11ea_a4b9_80000208fe80row0_col15\" class=\"data row0 col15\" >nan</td>\n",
       "                        <td id=\"T_885979f2_0b1a_11ea_a4b9_80000208fe80row0_col16\" class=\"data row0 col16\" >nan</td>\n",
       "                        <td id=\"T_885979f2_0b1a_11ea_a4b9_80000208fe80row0_col17\" class=\"data row0 col17\" >nan</td>\n",
       "                        <td id=\"T_885979f2_0b1a_11ea_a4b9_80000208fe80row0_col18\" class=\"data row0 col18\" >nan</td>\n",
       "                        <td id=\"T_885979f2_0b1a_11ea_a4b9_80000208fe80row0_col19\" class=\"data row0 col19\" >nan</td>\n",
       "                        <td id=\"T_885979f2_0b1a_11ea_a4b9_80000208fe80row0_col20\" class=\"data row0 col20\" >nan</td>\n",
       "                        <td id=\"T_885979f2_0b1a_11ea_a4b9_80000208fe80row0_col21\" class=\"data row0 col21\" >nan</td>\n",
       "                        <td id=\"T_885979f2_0b1a_11ea_a4b9_80000208fe80row0_col22\" class=\"data row0 col22\" >nan</td>\n",
       "                        <td id=\"T_885979f2_0b1a_11ea_a4b9_80000208fe80row0_col23\" class=\"data row0 col23\" >nan</td>\n",
       "                        <td id=\"T_885979f2_0b1a_11ea_a4b9_80000208fe80row0_col24\" class=\"data row0 col24\" >nan</td>\n",
       "                        <td id=\"T_885979f2_0b1a_11ea_a4b9_80000208fe80row0_col25\" class=\"data row0 col25\" >nan</td>\n",
       "                        <td id=\"T_885979f2_0b1a_11ea_a4b9_80000208fe80row0_col26\" class=\"data row0 col26\" >nan</td>\n",
       "                        <td id=\"T_885979f2_0b1a_11ea_a4b9_80000208fe80row0_col27\" class=\"data row0 col27\" >nan</td>\n",
       "                        <td id=\"T_885979f2_0b1a_11ea_a4b9_80000208fe80row0_col28\" class=\"data row0 col28\" >nan</td>\n",
       "                        <td id=\"T_885979f2_0b1a_11ea_a4b9_80000208fe80row0_col29\" class=\"data row0 col29\" >nan</td>\n",
       "                        <td id=\"T_885979f2_0b1a_11ea_a4b9_80000208fe80row0_col30\" class=\"data row0 col30\" >nan</td>\n",
       "                        <td id=\"T_885979f2_0b1a_11ea_a4b9_80000208fe80row0_col31\" class=\"data row0 col31\" >nan</td>\n",
       "                        <td id=\"T_885979f2_0b1a_11ea_a4b9_80000208fe80row0_col32\" class=\"data row0 col32\" >nan</td>\n",
       "                        <td id=\"T_885979f2_0b1a_11ea_a4b9_80000208fe80row0_col33\" class=\"data row0 col33\" >nan</td>\n",
       "                        <td id=\"T_885979f2_0b1a_11ea_a4b9_80000208fe80row0_col34\" class=\"data row0 col34\" >nan</td>\n",
       "                        <td id=\"T_885979f2_0b1a_11ea_a4b9_80000208fe80row0_col35\" class=\"data row0 col35\" >nan</td>\n",
       "                        <td id=\"T_885979f2_0b1a_11ea_a4b9_80000208fe80row0_col36\" class=\"data row0 col36\" >nan</td>\n",
       "                        <td id=\"T_885979f2_0b1a_11ea_a4b9_80000208fe80row0_col37\" class=\"data row0 col37\" >nan</td>\n",
       "                        <td id=\"T_885979f2_0b1a_11ea_a4b9_80000208fe80row0_col38\" class=\"data row0 col38\" >nan</td>\n",
       "                        <td id=\"T_885979f2_0b1a_11ea_a4b9_80000208fe80row0_col39\" class=\"data row0 col39\" >nan</td>\n",
       "                        <td id=\"T_885979f2_0b1a_11ea_a4b9_80000208fe80row0_col40\" class=\"data row0 col40\" >nan</td>\n",
       "                        <td id=\"T_885979f2_0b1a_11ea_a4b9_80000208fe80row0_col41\" class=\"data row0 col41\" >nan</td>\n",
       "                        <td id=\"T_885979f2_0b1a_11ea_a4b9_80000208fe80row0_col42\" class=\"data row0 col42\" >nan</td>\n",
       "                        <td id=\"T_885979f2_0b1a_11ea_a4b9_80000208fe80row0_col43\" class=\"data row0 col43\" >nan</td>\n",
       "                        <td id=\"T_885979f2_0b1a_11ea_a4b9_80000208fe80row0_col44\" class=\"data row0 col44\" >nan</td>\n",
       "                        <td id=\"T_885979f2_0b1a_11ea_a4b9_80000208fe80row0_col45\" class=\"data row0 col45\" >nan</td>\n",
       "                        <td id=\"T_885979f2_0b1a_11ea_a4b9_80000208fe80row0_col46\" class=\"data row0 col46\" >nan</td>\n",
       "                        <td id=\"T_885979f2_0b1a_11ea_a4b9_80000208fe80row0_col47\" class=\"data row0 col47\" >nan</td>\n",
       "                        <td id=\"T_885979f2_0b1a_11ea_a4b9_80000208fe80row0_col48\" class=\"data row0 col48\" >nan</td>\n",
       "                        <td id=\"T_885979f2_0b1a_11ea_a4b9_80000208fe80row0_col49\" class=\"data row0 col49\" >nan</td>\n",
       "                        <td id=\"T_885979f2_0b1a_11ea_a4b9_80000208fe80row0_col50\" class=\"data row0 col50\" >nan</td>\n",
       "                        <td id=\"T_885979f2_0b1a_11ea_a4b9_80000208fe80row0_col51\" class=\"data row0 col51\" >nan</td>\n",
       "                        <td id=\"T_885979f2_0b1a_11ea_a4b9_80000208fe80row0_col52\" class=\"data row0 col52\" >nan</td>\n",
       "                        <td id=\"T_885979f2_0b1a_11ea_a4b9_80000208fe80row0_col53\" class=\"data row0 col53\" >nan</td>\n",
       "                        <td id=\"T_885979f2_0b1a_11ea_a4b9_80000208fe80row0_col54\" class=\"data row0 col54\" >nan</td>\n",
       "                        <td id=\"T_885979f2_0b1a_11ea_a4b9_80000208fe80row0_col55\" class=\"data row0 col55\" >nan</td>\n",
       "                        <td id=\"T_885979f2_0b1a_11ea_a4b9_80000208fe80row0_col56\" class=\"data row0 col56\" >nan</td>\n",
       "                        <td id=\"T_885979f2_0b1a_11ea_a4b9_80000208fe80row0_col57\" class=\"data row0 col57\" >nan</td>\n",
       "                        <td id=\"T_885979f2_0b1a_11ea_a4b9_80000208fe80row0_col58\" class=\"data row0 col58\" >nan</td>\n",
       "                        <td id=\"T_885979f2_0b1a_11ea_a4b9_80000208fe80row0_col59\" class=\"data row0 col59\" >nan</td>\n",
       "                        <td id=\"T_885979f2_0b1a_11ea_a4b9_80000208fe80row0_col60\" class=\"data row0 col60\" >nan</td>\n",
       "                        <td id=\"T_885979f2_0b1a_11ea_a4b9_80000208fe80row0_col61\" class=\"data row0 col61\" >nan</td>\n",
       "                        <td id=\"T_885979f2_0b1a_11ea_a4b9_80000208fe80row0_col62\" class=\"data row0 col62\" >nan</td>\n",
       "                        <td id=\"T_885979f2_0b1a_11ea_a4b9_80000208fe80row0_col63\" class=\"data row0 col63\" >nan</td>\n",
       "                        <td id=\"T_885979f2_0b1a_11ea_a4b9_80000208fe80row0_col64\" class=\"data row0 col64\" >nan</td>\n",
       "                        <td id=\"T_885979f2_0b1a_11ea_a4b9_80000208fe80row0_col65\" class=\"data row0 col65\" >nan</td>\n",
       "                        <td id=\"T_885979f2_0b1a_11ea_a4b9_80000208fe80row0_col66\" class=\"data row0 col66\" >nan</td>\n",
       "                        <td id=\"T_885979f2_0b1a_11ea_a4b9_80000208fe80row0_col67\" class=\"data row0 col67\" >nan</td>\n",
       "                        <td id=\"T_885979f2_0b1a_11ea_a4b9_80000208fe80row0_col68\" class=\"data row0 col68\" >nan</td>\n",
       "                        <td id=\"T_885979f2_0b1a_11ea_a4b9_80000208fe80row0_col69\" class=\"data row0 col69\" >nan</td>\n",
       "                        <td id=\"T_885979f2_0b1a_11ea_a4b9_80000208fe80row0_col70\" class=\"data row0 col70\" >nan</td>\n",
       "                        <td id=\"T_885979f2_0b1a_11ea_a4b9_80000208fe80row0_col71\" class=\"data row0 col71\" >nan</td>\n",
       "                        <td id=\"T_885979f2_0b1a_11ea_a4b9_80000208fe80row0_col72\" class=\"data row0 col72\" >nan</td>\n",
       "                        <td id=\"T_885979f2_0b1a_11ea_a4b9_80000208fe80row0_col73\" class=\"data row0 col73\" >nan</td>\n",
       "                        <td id=\"T_885979f2_0b1a_11ea_a4b9_80000208fe80row0_col74\" class=\"data row0 col74\" >nan</td>\n",
       "                        <td id=\"T_885979f2_0b1a_11ea_a4b9_80000208fe80row0_col75\" class=\"data row0 col75\" >nan</td>\n",
       "                        <td id=\"T_885979f2_0b1a_11ea_a4b9_80000208fe80row0_col76\" class=\"data row0 col76\" >nan</td>\n",
       "                        <td id=\"T_885979f2_0b1a_11ea_a4b9_80000208fe80row0_col77\" class=\"data row0 col77\" >nan</td>\n",
       "                        <td id=\"T_885979f2_0b1a_11ea_a4b9_80000208fe80row0_col78\" class=\"data row0 col78\" >nan</td>\n",
       "                        <td id=\"T_885979f2_0b1a_11ea_a4b9_80000208fe80row0_col79\" class=\"data row0 col79\" >nan</td>\n",
       "                        <td id=\"T_885979f2_0b1a_11ea_a4b9_80000208fe80row0_col80\" class=\"data row0 col80\" >nan</td>\n",
       "                        <td id=\"T_885979f2_0b1a_11ea_a4b9_80000208fe80row0_col81\" class=\"data row0 col81\" >nan</td>\n",
       "                        <td id=\"T_885979f2_0b1a_11ea_a4b9_80000208fe80row0_col82\" class=\"data row0 col82\" >nan</td>\n",
       "                        <td id=\"T_885979f2_0b1a_11ea_a4b9_80000208fe80row0_col83\" class=\"data row0 col83\" >nan</td>\n",
       "                        <td id=\"T_885979f2_0b1a_11ea_a4b9_80000208fe80row0_col84\" class=\"data row0 col84\" >nan</td>\n",
       "                        <td id=\"T_885979f2_0b1a_11ea_a4b9_80000208fe80row0_col85\" class=\"data row0 col85\" >nan</td>\n",
       "                        <td id=\"T_885979f2_0b1a_11ea_a4b9_80000208fe80row0_col86\" class=\"data row0 col86\" >nan</td>\n",
       "                        <td id=\"T_885979f2_0b1a_11ea_a4b9_80000208fe80row0_col87\" class=\"data row0 col87\" >nan</td>\n",
       "                        <td id=\"T_885979f2_0b1a_11ea_a4b9_80000208fe80row0_col88\" class=\"data row0 col88\" >nan</td>\n",
       "                        <td id=\"T_885979f2_0b1a_11ea_a4b9_80000208fe80row0_col89\" class=\"data row0 col89\" >nan</td>\n",
       "                        <td id=\"T_885979f2_0b1a_11ea_a4b9_80000208fe80row0_col90\" class=\"data row0 col90\" >nan</td>\n",
       "                        <td id=\"T_885979f2_0b1a_11ea_a4b9_80000208fe80row0_col91\" class=\"data row0 col91\" >nan</td>\n",
       "                        <td id=\"T_885979f2_0b1a_11ea_a4b9_80000208fe80row0_col92\" class=\"data row0 col92\" >nan</td>\n",
       "                        <td id=\"T_885979f2_0b1a_11ea_a4b9_80000208fe80row0_col93\" class=\"data row0 col93\" >nan</td>\n",
       "                        <td id=\"T_885979f2_0b1a_11ea_a4b9_80000208fe80row0_col94\" class=\"data row0 col94\" >nan</td>\n",
       "                        <td id=\"T_885979f2_0b1a_11ea_a4b9_80000208fe80row0_col95\" class=\"data row0 col95\" >nan</td>\n",
       "                        <td id=\"T_885979f2_0b1a_11ea_a4b9_80000208fe80row0_col96\" class=\"data row0 col96\" >nan</td>\n",
       "                        <td id=\"T_885979f2_0b1a_11ea_a4b9_80000208fe80row0_col97\" class=\"data row0 col97\" >nan</td>\n",
       "                        <td id=\"T_885979f2_0b1a_11ea_a4b9_80000208fe80row0_col98\" class=\"data row0 col98\" >nan</td>\n",
       "                        <td id=\"T_885979f2_0b1a_11ea_a4b9_80000208fe80row0_col99\" class=\"data row0 col99\" >nan</td>\n",
       "                        <td id=\"T_885979f2_0b1a_11ea_a4b9_80000208fe80row0_col100\" class=\"data row0 col100\" >nan</td>\n",
       "                        <td id=\"T_885979f2_0b1a_11ea_a4b9_80000208fe80row0_col101\" class=\"data row0 col101\" >nan</td>\n",
       "                        <td id=\"T_885979f2_0b1a_11ea_a4b9_80000208fe80row0_col102\" class=\"data row0 col102\" >nan</td>\n",
       "            </tr>\n",
       "            <tr>\n",
       "                                <td id=\"T_885979f2_0b1a_11ea_a4b9_80000208fe80row1_col0\" class=\"data row1 col0\" >36</td>\n",
       "                        <td id=\"T_885979f2_0b1a_11ea_a4b9_80000208fe80row1_col1\" class=\"data row1 col1\" >StackedEnsemble_AllModels_AutoML_20191119_173702</td>\n",
       "                        <td id=\"T_885979f2_0b1a_11ea_a4b9_80000208fe80row1_col2\" class=\"data row1 col2\" >DeepLearning_grid_1_AutoML_20191119_173702_model_2</td>\n",
       "                        <td id=\"T_885979f2_0b1a_11ea_a4b9_80000208fe80row1_col3\" class=\"data row1 col3\" >GBM_grid_1_AutoML_20191119_173702_model_39</td>\n",
       "                        <td id=\"T_885979f2_0b1a_11ea_a4b9_80000208fe80row1_col4\" class=\"data row1 col4\" >DeepLearning_grid_1_AutoML_20191119_173702_model_6</td>\n",
       "                        <td id=\"T_885979f2_0b1a_11ea_a4b9_80000208fe80row1_col5\" class=\"data row1 col5\" >GBM_grid_1_AutoML_20191119_173702_model_31</td>\n",
       "                        <td id=\"T_885979f2_0b1a_11ea_a4b9_80000208fe80row1_col6\" class=\"data row1 col6\" >GBM_grid_1_AutoML_20191119_173702_model_35</td>\n",
       "                        <td id=\"T_885979f2_0b1a_11ea_a4b9_80000208fe80row1_col7\" class=\"data row1 col7\" >DeepLearning_grid_1_AutoML_20191119_173702_model_5</td>\n",
       "                        <td id=\"T_885979f2_0b1a_11ea_a4b9_80000208fe80row1_col8\" class=\"data row1 col8\" >GBM_grid_1_AutoML_20191119_173702_model_18</td>\n",
       "                        <td id=\"T_885979f2_0b1a_11ea_a4b9_80000208fe80row1_col9\" class=\"data row1 col9\" >DeepLearning_grid_1_AutoML_20191119_173702_model_1</td>\n",
       "                        <td id=\"T_885979f2_0b1a_11ea_a4b9_80000208fe80row1_col10\" class=\"data row1 col10\" >GBM_grid_1_AutoML_20191119_173702_model_12</td>\n",
       "                        <td id=\"T_885979f2_0b1a_11ea_a4b9_80000208fe80row1_col11\" class=\"data row1 col11\" >GBM_3_AutoML_20191119_173702</td>\n",
       "                        <td id=\"T_885979f2_0b1a_11ea_a4b9_80000208fe80row1_col12\" class=\"data row1 col12\" >GBM_grid_1_AutoML_20191119_173702_model_27</td>\n",
       "                        <td id=\"T_885979f2_0b1a_11ea_a4b9_80000208fe80row1_col13\" class=\"data row1 col13\" >DeepLearning_grid_1_AutoML_20191119_173702_model_9</td>\n",
       "                        <td id=\"T_885979f2_0b1a_11ea_a4b9_80000208fe80row1_col14\" class=\"data row1 col14\" >GBM_grid_1_AutoML_20191119_173702_model_19</td>\n",
       "                        <td id=\"T_885979f2_0b1a_11ea_a4b9_80000208fe80row1_col15\" class=\"data row1 col15\" >GBM_grid_1_AutoML_20191119_173702_model_40</td>\n",
       "                        <td id=\"T_885979f2_0b1a_11ea_a4b9_80000208fe80row1_col16\" class=\"data row1 col16\" >XGBoost_grid_1_AutoML_20191119_173702_model_13</td>\n",
       "                        <td id=\"T_885979f2_0b1a_11ea_a4b9_80000208fe80row1_col17\" class=\"data row1 col17\" >GBM_grid_1_AutoML_20191119_173702_model_1</td>\n",
       "                        <td id=\"T_885979f2_0b1a_11ea_a4b9_80000208fe80row1_col18\" class=\"data row1 col18\" >GBM_grid_1_AutoML_20191119_173702_model_20</td>\n",
       "                        <td id=\"T_885979f2_0b1a_11ea_a4b9_80000208fe80row1_col19\" class=\"data row1 col19\" >GBM_2_AutoML_20191119_173702</td>\n",
       "                        <td id=\"T_885979f2_0b1a_11ea_a4b9_80000208fe80row1_col20\" class=\"data row1 col20\" >GBM_grid_1_AutoML_20191119_173702_model_15</td>\n",
       "                        <td id=\"T_885979f2_0b1a_11ea_a4b9_80000208fe80row1_col21\" class=\"data row1 col21\" >DRF_1_AutoML_20191119_173702</td>\n",
       "                        <td id=\"T_885979f2_0b1a_11ea_a4b9_80000208fe80row1_col22\" class=\"data row1 col22\" >GBM_4_AutoML_20191119_173702</td>\n",
       "                        <td id=\"T_885979f2_0b1a_11ea_a4b9_80000208fe80row1_col23\" class=\"data row1 col23\" >XRT_1_AutoML_20191119_173702</td>\n",
       "                        <td id=\"T_885979f2_0b1a_11ea_a4b9_80000208fe80row1_col24\" class=\"data row1 col24\" >GBM_grid_1_AutoML_20191119_173702_model_13</td>\n",
       "                        <td id=\"T_885979f2_0b1a_11ea_a4b9_80000208fe80row1_col25\" class=\"data row1 col25\" >GBM_grid_1_AutoML_20191119_173702_model_32</td>\n",
       "                        <td id=\"T_885979f2_0b1a_11ea_a4b9_80000208fe80row1_col26\" class=\"data row1 col26\" >GBM_grid_1_AutoML_20191119_173702_model_16</td>\n",
       "                        <td id=\"T_885979f2_0b1a_11ea_a4b9_80000208fe80row1_col27\" class=\"data row1 col27\" >XGBoost_grid_1_AutoML_20191119_173702_model_8</td>\n",
       "                        <td id=\"T_885979f2_0b1a_11ea_a4b9_80000208fe80row1_col28\" class=\"data row1 col28\" >GBM_grid_1_AutoML_20191119_173702_model_17</td>\n",
       "                        <td id=\"T_885979f2_0b1a_11ea_a4b9_80000208fe80row1_col29\" class=\"data row1 col29\" >DeepLearning_grid_1_AutoML_20191119_173702_model_3</td>\n",
       "                        <td id=\"T_885979f2_0b1a_11ea_a4b9_80000208fe80row1_col30\" class=\"data row1 col30\" >GBM_grid_1_AutoML_20191119_173702_model_26</td>\n",
       "                        <td id=\"T_885979f2_0b1a_11ea_a4b9_80000208fe80row1_col31\" class=\"data row1 col31\" >DeepLearning_grid_1_AutoML_20191119_173702_model_8</td>\n",
       "                        <td id=\"T_885979f2_0b1a_11ea_a4b9_80000208fe80row1_col32\" class=\"data row1 col32\" >GBM_5_AutoML_20191119_173702</td>\n",
       "                        <td id=\"T_885979f2_0b1a_11ea_a4b9_80000208fe80row1_col33\" class=\"data row1 col33\" >GBM_grid_1_AutoML_20191119_173702_model_6</td>\n",
       "                        <td id=\"T_885979f2_0b1a_11ea_a4b9_80000208fe80row1_col34\" class=\"data row1 col34\" >GBM_grid_1_AutoML_20191119_173702_model_24</td>\n",
       "                        <td id=\"T_885979f2_0b1a_11ea_a4b9_80000208fe80row1_col35\" class=\"data row1 col35\" >GBM_grid_1_AutoML_20191119_173702_model_10</td>\n",
       "                        <td id=\"T_885979f2_0b1a_11ea_a4b9_80000208fe80row1_col36\" class=\"data row1 col36\" >GBM_grid_1_AutoML_20191119_173702_model_3</td>\n",
       "                        <td id=\"T_885979f2_0b1a_11ea_a4b9_80000208fe80row1_col37\" class=\"data row1 col37\" >GBM_1_AutoML_20191119_173702</td>\n",
       "                        <td id=\"T_885979f2_0b1a_11ea_a4b9_80000208fe80row1_col38\" class=\"data row1 col38\" >GLM_grid_1_AutoML_20191119_173702_model_1</td>\n",
       "                        <td id=\"T_885979f2_0b1a_11ea_a4b9_80000208fe80row1_col39\" class=\"data row1 col39\" >XGBoost_grid_1_AutoML_20191119_173702_model_30</td>\n",
       "                        <td id=\"T_885979f2_0b1a_11ea_a4b9_80000208fe80row1_col40\" class=\"data row1 col40\" >GBM_grid_1_AutoML_20191119_173702_model_14</td>\n",
       "                        <td id=\"T_885979f2_0b1a_11ea_a4b9_80000208fe80row1_col41\" class=\"data row1 col41\" >XGBoost_3_AutoML_20191119_173702</td>\n",
       "                        <td id=\"T_885979f2_0b1a_11ea_a4b9_80000208fe80row1_col42\" class=\"data row1 col42\" >XGBoost_grid_1_AutoML_20191119_173702_model_15</td>\n",
       "                        <td id=\"T_885979f2_0b1a_11ea_a4b9_80000208fe80row1_col43\" class=\"data row1 col43\" >XGBoost_grid_1_AutoML_20191119_173702_model_17</td>\n",
       "                        <td id=\"T_885979f2_0b1a_11ea_a4b9_80000208fe80row1_col44\" class=\"data row1 col44\" >GBM_grid_1_AutoML_20191119_173702_model_11</td>\n",
       "                        <td id=\"T_885979f2_0b1a_11ea_a4b9_80000208fe80row1_col45\" class=\"data row1 col45\" >XGBoost_1_AutoML_20191119_173702</td>\n",
       "                        <td id=\"T_885979f2_0b1a_11ea_a4b9_80000208fe80row1_col46\" class=\"data row1 col46\" >XGBoost_grid_1_AutoML_20191119_173702_model_25</td>\n",
       "                        <td id=\"T_885979f2_0b1a_11ea_a4b9_80000208fe80row1_col47\" class=\"data row1 col47\" >GBM_grid_1_AutoML_20191119_173702_model_8</td>\n",
       "                        <td id=\"T_885979f2_0b1a_11ea_a4b9_80000208fe80row1_col48\" class=\"data row1 col48\" >GBM_grid_1_AutoML_20191119_173702_model_41</td>\n",
       "                        <td id=\"T_885979f2_0b1a_11ea_a4b9_80000208fe80row1_col49\" class=\"data row1 col49\" >XGBoost_grid_1_AutoML_20191119_173702_model_4</td>\n",
       "                        <td id=\"T_885979f2_0b1a_11ea_a4b9_80000208fe80row1_col50\" class=\"data row1 col50\" >XGBoost_grid_1_AutoML_20191119_173702_model_18</td>\n",
       "                        <td id=\"T_885979f2_0b1a_11ea_a4b9_80000208fe80row1_col51\" class=\"data row1 col51\" >XGBoost_grid_1_AutoML_20191119_173702_model_21</td>\n",
       "                        <td id=\"T_885979f2_0b1a_11ea_a4b9_80000208fe80row1_col52\" class=\"data row1 col52\" >XGBoost_grid_1_AutoML_20191119_173702_model_26</td>\n",
       "                        <td id=\"T_885979f2_0b1a_11ea_a4b9_80000208fe80row1_col53\" class=\"data row1 col53\" >XGBoost_grid_1_AutoML_20191119_173702_model_2</td>\n",
       "                        <td id=\"T_885979f2_0b1a_11ea_a4b9_80000208fe80row1_col54\" class=\"data row1 col54\" >XGBoost_grid_1_AutoML_20191119_173702_model_20</td>\n",
       "                        <td id=\"T_885979f2_0b1a_11ea_a4b9_80000208fe80row1_col55\" class=\"data row1 col55\" >GBM_grid_1_AutoML_20191119_173702_model_9</td>\n",
       "                        <td id=\"T_885979f2_0b1a_11ea_a4b9_80000208fe80row1_col56\" class=\"data row1 col56\" >XGBoost_grid_1_AutoML_20191119_173702_model_27</td>\n",
       "                        <td id=\"T_885979f2_0b1a_11ea_a4b9_80000208fe80row1_col57\" class=\"data row1 col57\" >DeepLearning_grid_1_AutoML_20191119_173702_model_10</td>\n",
       "                        <td id=\"T_885979f2_0b1a_11ea_a4b9_80000208fe80row1_col58\" class=\"data row1 col58\" >GBM_grid_1_AutoML_20191119_173702_model_29</td>\n",
       "                        <td id=\"T_885979f2_0b1a_11ea_a4b9_80000208fe80row1_col59\" class=\"data row1 col59\" >XGBoost_grid_1_AutoML_20191119_173702_model_3</td>\n",
       "                        <td id=\"T_885979f2_0b1a_11ea_a4b9_80000208fe80row1_col60\" class=\"data row1 col60\" >XGBoost_grid_1_AutoML_20191119_173702_model_29</td>\n",
       "                        <td id=\"T_885979f2_0b1a_11ea_a4b9_80000208fe80row1_col61\" class=\"data row1 col61\" >XGBoost_grid_1_AutoML_20191119_173702_model_28</td>\n",
       "                        <td id=\"T_885979f2_0b1a_11ea_a4b9_80000208fe80row1_col62\" class=\"data row1 col62\" >DeepLearning_grid_1_AutoML_20191119_173702_model_4</td>\n",
       "                        <td id=\"T_885979f2_0b1a_11ea_a4b9_80000208fe80row1_col63\" class=\"data row1 col63\" >GBM_grid_1_AutoML_20191119_173702_model_28</td>\n",
       "                        <td id=\"T_885979f2_0b1a_11ea_a4b9_80000208fe80row1_col64\" class=\"data row1 col64\" >XGBoost_grid_1_AutoML_20191119_173702_model_31</td>\n",
       "                        <td id=\"T_885979f2_0b1a_11ea_a4b9_80000208fe80row1_col65\" class=\"data row1 col65\" >DeepLearning_grid_1_AutoML_20191119_173702_model_7</td>\n",
       "                        <td id=\"T_885979f2_0b1a_11ea_a4b9_80000208fe80row1_col66\" class=\"data row1 col66\" >GBM_grid_1_AutoML_20191119_173702_model_21</td>\n",
       "                        <td id=\"T_885979f2_0b1a_11ea_a4b9_80000208fe80row1_col67\" class=\"data row1 col67\" >XGBoost_grid_1_AutoML_20191119_173702_model_7</td>\n",
       "                        <td id=\"T_885979f2_0b1a_11ea_a4b9_80000208fe80row1_col68\" class=\"data row1 col68\" >XGBoost_grid_1_AutoML_20191119_173702_model_19</td>\n",
       "                        <td id=\"T_885979f2_0b1a_11ea_a4b9_80000208fe80row1_col69\" class=\"data row1 col69\" >XGBoost_grid_1_AutoML_20191119_173702_model_23</td>\n",
       "                        <td id=\"T_885979f2_0b1a_11ea_a4b9_80000208fe80row1_col70\" class=\"data row1 col70\" >GBM_grid_1_AutoML_20191119_173702_model_23</td>\n",
       "                        <td id=\"T_885979f2_0b1a_11ea_a4b9_80000208fe80row1_col71\" class=\"data row1 col71\" >XGBoost_grid_1_AutoML_20191119_173702_model_32</td>\n",
       "                        <td id=\"T_885979f2_0b1a_11ea_a4b9_80000208fe80row1_col72\" class=\"data row1 col72\" >GBM_grid_1_AutoML_20191119_173702_model_30</td>\n",
       "                        <td id=\"T_885979f2_0b1a_11ea_a4b9_80000208fe80row1_col73\" class=\"data row1 col73\" >XGBoost_2_AutoML_20191119_173702</td>\n",
       "                        <td id=\"T_885979f2_0b1a_11ea_a4b9_80000208fe80row1_col74\" class=\"data row1 col74\" >XGBoost_grid_1_AutoML_20191119_173702_model_1</td>\n",
       "                        <td id=\"T_885979f2_0b1a_11ea_a4b9_80000208fe80row1_col75\" class=\"data row1 col75\" >GBM_grid_1_AutoML_20191119_173702_model_25</td>\n",
       "                        <td id=\"T_885979f2_0b1a_11ea_a4b9_80000208fe80row1_col76\" class=\"data row1 col76\" >GBM_grid_1_AutoML_20191119_173702_model_7</td>\n",
       "                        <td id=\"T_885979f2_0b1a_11ea_a4b9_80000208fe80row1_col77\" class=\"data row1 col77\" >GBM_grid_1_AutoML_20191119_173702_model_42</td>\n",
       "                        <td id=\"T_885979f2_0b1a_11ea_a4b9_80000208fe80row1_col78\" class=\"data row1 col78\" >GBM_grid_1_AutoML_20191119_173702_model_38</td>\n",
       "                        <td id=\"T_885979f2_0b1a_11ea_a4b9_80000208fe80row1_col79\" class=\"data row1 col79\" >GBM_grid_1_AutoML_20191119_173702_model_5</td>\n",
       "                        <td id=\"T_885979f2_0b1a_11ea_a4b9_80000208fe80row1_col80\" class=\"data row1 col80\" >GBM_grid_1_AutoML_20191119_173702_model_33</td>\n",
       "                        <td id=\"T_885979f2_0b1a_11ea_a4b9_80000208fe80row1_col81\" class=\"data row1 col81\" >XGBoost_grid_1_AutoML_20191119_173702_model_11</td>\n",
       "                        <td id=\"T_885979f2_0b1a_11ea_a4b9_80000208fe80row1_col82\" class=\"data row1 col82\" >XGBoost_grid_1_AutoML_20191119_173702_model_22</td>\n",
       "                        <td id=\"T_885979f2_0b1a_11ea_a4b9_80000208fe80row1_col83\" class=\"data row1 col83\" >XGBoost_grid_1_AutoML_20191119_173702_model_12</td>\n",
       "                        <td id=\"T_885979f2_0b1a_11ea_a4b9_80000208fe80row1_col84\" class=\"data row1 col84\" >GBM_grid_1_AutoML_20191119_173702_model_37</td>\n",
       "                        <td id=\"T_885979f2_0b1a_11ea_a4b9_80000208fe80row1_col85\" class=\"data row1 col85\" >XGBoost_grid_1_AutoML_20191119_173702_model_5</td>\n",
       "                        <td id=\"T_885979f2_0b1a_11ea_a4b9_80000208fe80row1_col86\" class=\"data row1 col86\" >XGBoost_grid_1_AutoML_20191119_173702_model_6</td>\n",
       "                        <td id=\"T_885979f2_0b1a_11ea_a4b9_80000208fe80row1_col87\" class=\"data row1 col87\" >XGBoost_grid_1_AutoML_20191119_173702_model_24</td>\n",
       "                        <td id=\"T_885979f2_0b1a_11ea_a4b9_80000208fe80row1_col88\" class=\"data row1 col88\" >GBM_grid_1_AutoML_20191119_173702_model_4</td>\n",
       "                        <td id=\"T_885979f2_0b1a_11ea_a4b9_80000208fe80row1_col89\" class=\"data row1 col89\" >XGBoost_grid_1_AutoML_20191119_173702_model_10</td>\n",
       "                        <td id=\"T_885979f2_0b1a_11ea_a4b9_80000208fe80row1_col90\" class=\"data row1 col90\" >XGBoost_grid_1_AutoML_20191119_173702_model_14</td>\n",
       "                        <td id=\"T_885979f2_0b1a_11ea_a4b9_80000208fe80row1_col91\" class=\"data row1 col91\" >XGBoost_grid_1_AutoML_20191119_173702_model_16</td>\n",
       "                        <td id=\"T_885979f2_0b1a_11ea_a4b9_80000208fe80row1_col92\" class=\"data row1 col92\" >GBM_grid_1_AutoML_20191119_173702_model_34</td>\n",
       "                        <td id=\"T_885979f2_0b1a_11ea_a4b9_80000208fe80row1_col93\" class=\"data row1 col93\" >XGBoost_grid_1_AutoML_20191119_173702_model_9</td>\n",
       "                        <td id=\"T_885979f2_0b1a_11ea_a4b9_80000208fe80row1_col94\" class=\"data row1 col94\" >GBM_grid_1_AutoML_20191119_173702_model_43</td>\n",
       "                        <td id=\"T_885979f2_0b1a_11ea_a4b9_80000208fe80row1_col95\" class=\"data row1 col95\" >DeepLearning_1_AutoML_20191119_173702</td>\n",
       "                        <td id=\"T_885979f2_0b1a_11ea_a4b9_80000208fe80row1_col96\" class=\"data row1 col96\" >GBM_grid_1_AutoML_20191119_173702_model_2</td>\n",
       "                        <td id=\"T_885979f2_0b1a_11ea_a4b9_80000208fe80row1_col97\" class=\"data row1 col97\" >GBM_grid_1_AutoML_20191119_173702_model_22</td>\n",
       "                        <td id=\"T_885979f2_0b1a_11ea_a4b9_80000208fe80row1_col98\" class=\"data row1 col98\" >GBM_grid_1_AutoML_20191119_173702_model_36</td>\n",
       "                        <td id=\"T_885979f2_0b1a_11ea_a4b9_80000208fe80row1_col99\" class=\"data row1 col99\" >nan</td>\n",
       "                        <td id=\"T_885979f2_0b1a_11ea_a4b9_80000208fe80row1_col100\" class=\"data row1 col100\" >nan</td>\n",
       "                        <td id=\"T_885979f2_0b1a_11ea_a4b9_80000208fe80row1_col101\" class=\"data row1 col101\" >nan</td>\n",
       "                        <td id=\"T_885979f2_0b1a_11ea_a4b9_80000208fe80row1_col102\" class=\"data row1 col102\" >nan</td>\n",
       "            </tr>\n",
       "            <tr>\n",
       "                                <td id=\"T_885979f2_0b1a_11ea_a4b9_80000208fe80row2_col0\" class=\"data row2 col0\" >72</td>\n",
       "                        <td id=\"T_885979f2_0b1a_11ea_a4b9_80000208fe80row2_col1\" class=\"data row2 col1\" >StackedEnsemble_BestOfFamily_AutoML_20191119_191749</td>\n",
       "                        <td id=\"T_885979f2_0b1a_11ea_a4b9_80000208fe80row2_col2\" class=\"data row2 col2\" >DeepLearning_grid_1_AutoML_20191119_191749_model_7</td>\n",
       "                        <td id=\"T_885979f2_0b1a_11ea_a4b9_80000208fe80row2_col3\" class=\"data row2 col3\" >GBM_grid_1_AutoML_20191119_191749_model_39</td>\n",
       "                        <td id=\"T_885979f2_0b1a_11ea_a4b9_80000208fe80row2_col4\" class=\"data row2 col4\" >XGBoost_grid_1_AutoML_20191119_191749_model_13</td>\n",
       "                        <td id=\"T_885979f2_0b1a_11ea_a4b9_80000208fe80row2_col5\" class=\"data row2 col5\" >DRF_1_AutoML_20191119_191749</td>\n",
       "                        <td id=\"T_885979f2_0b1a_11ea_a4b9_80000208fe80row2_col6\" class=\"data row2 col6\" >XRT_1_AutoML_20191119_191749</td>\n",
       "                        <td id=\"T_885979f2_0b1a_11ea_a4b9_80000208fe80row2_col7\" class=\"data row2 col7\" >GLM_grid_1_AutoML_20191119_191749_model_1</td>\n",
       "                        <td id=\"T_885979f2_0b1a_11ea_a4b9_80000208fe80row2_col8\" class=\"data row2 col8\" >nan</td>\n",
       "                        <td id=\"T_885979f2_0b1a_11ea_a4b9_80000208fe80row2_col9\" class=\"data row2 col9\" >nan</td>\n",
       "                        <td id=\"T_885979f2_0b1a_11ea_a4b9_80000208fe80row2_col10\" class=\"data row2 col10\" >nan</td>\n",
       "                        <td id=\"T_885979f2_0b1a_11ea_a4b9_80000208fe80row2_col11\" class=\"data row2 col11\" >nan</td>\n",
       "                        <td id=\"T_885979f2_0b1a_11ea_a4b9_80000208fe80row2_col12\" class=\"data row2 col12\" >nan</td>\n",
       "                        <td id=\"T_885979f2_0b1a_11ea_a4b9_80000208fe80row2_col13\" class=\"data row2 col13\" >nan</td>\n",
       "                        <td id=\"T_885979f2_0b1a_11ea_a4b9_80000208fe80row2_col14\" class=\"data row2 col14\" >nan</td>\n",
       "                        <td id=\"T_885979f2_0b1a_11ea_a4b9_80000208fe80row2_col15\" class=\"data row2 col15\" >nan</td>\n",
       "                        <td id=\"T_885979f2_0b1a_11ea_a4b9_80000208fe80row2_col16\" class=\"data row2 col16\" >nan</td>\n",
       "                        <td id=\"T_885979f2_0b1a_11ea_a4b9_80000208fe80row2_col17\" class=\"data row2 col17\" >nan</td>\n",
       "                        <td id=\"T_885979f2_0b1a_11ea_a4b9_80000208fe80row2_col18\" class=\"data row2 col18\" >nan</td>\n",
       "                        <td id=\"T_885979f2_0b1a_11ea_a4b9_80000208fe80row2_col19\" class=\"data row2 col19\" >nan</td>\n",
       "                        <td id=\"T_885979f2_0b1a_11ea_a4b9_80000208fe80row2_col20\" class=\"data row2 col20\" >nan</td>\n",
       "                        <td id=\"T_885979f2_0b1a_11ea_a4b9_80000208fe80row2_col21\" class=\"data row2 col21\" >nan</td>\n",
       "                        <td id=\"T_885979f2_0b1a_11ea_a4b9_80000208fe80row2_col22\" class=\"data row2 col22\" >nan</td>\n",
       "                        <td id=\"T_885979f2_0b1a_11ea_a4b9_80000208fe80row2_col23\" class=\"data row2 col23\" >nan</td>\n",
       "                        <td id=\"T_885979f2_0b1a_11ea_a4b9_80000208fe80row2_col24\" class=\"data row2 col24\" >nan</td>\n",
       "                        <td id=\"T_885979f2_0b1a_11ea_a4b9_80000208fe80row2_col25\" class=\"data row2 col25\" >nan</td>\n",
       "                        <td id=\"T_885979f2_0b1a_11ea_a4b9_80000208fe80row2_col26\" class=\"data row2 col26\" >nan</td>\n",
       "                        <td id=\"T_885979f2_0b1a_11ea_a4b9_80000208fe80row2_col27\" class=\"data row2 col27\" >nan</td>\n",
       "                        <td id=\"T_885979f2_0b1a_11ea_a4b9_80000208fe80row2_col28\" class=\"data row2 col28\" >nan</td>\n",
       "                        <td id=\"T_885979f2_0b1a_11ea_a4b9_80000208fe80row2_col29\" class=\"data row2 col29\" >nan</td>\n",
       "                        <td id=\"T_885979f2_0b1a_11ea_a4b9_80000208fe80row2_col30\" class=\"data row2 col30\" >nan</td>\n",
       "                        <td id=\"T_885979f2_0b1a_11ea_a4b9_80000208fe80row2_col31\" class=\"data row2 col31\" >nan</td>\n",
       "                        <td id=\"T_885979f2_0b1a_11ea_a4b9_80000208fe80row2_col32\" class=\"data row2 col32\" >nan</td>\n",
       "                        <td id=\"T_885979f2_0b1a_11ea_a4b9_80000208fe80row2_col33\" class=\"data row2 col33\" >nan</td>\n",
       "                        <td id=\"T_885979f2_0b1a_11ea_a4b9_80000208fe80row2_col34\" class=\"data row2 col34\" >nan</td>\n",
       "                        <td id=\"T_885979f2_0b1a_11ea_a4b9_80000208fe80row2_col35\" class=\"data row2 col35\" >nan</td>\n",
       "                        <td id=\"T_885979f2_0b1a_11ea_a4b9_80000208fe80row2_col36\" class=\"data row2 col36\" >nan</td>\n",
       "                        <td id=\"T_885979f2_0b1a_11ea_a4b9_80000208fe80row2_col37\" class=\"data row2 col37\" >nan</td>\n",
       "                        <td id=\"T_885979f2_0b1a_11ea_a4b9_80000208fe80row2_col38\" class=\"data row2 col38\" >nan</td>\n",
       "                        <td id=\"T_885979f2_0b1a_11ea_a4b9_80000208fe80row2_col39\" class=\"data row2 col39\" >nan</td>\n",
       "                        <td id=\"T_885979f2_0b1a_11ea_a4b9_80000208fe80row2_col40\" class=\"data row2 col40\" >nan</td>\n",
       "                        <td id=\"T_885979f2_0b1a_11ea_a4b9_80000208fe80row2_col41\" class=\"data row2 col41\" >nan</td>\n",
       "                        <td id=\"T_885979f2_0b1a_11ea_a4b9_80000208fe80row2_col42\" class=\"data row2 col42\" >nan</td>\n",
       "                        <td id=\"T_885979f2_0b1a_11ea_a4b9_80000208fe80row2_col43\" class=\"data row2 col43\" >nan</td>\n",
       "                        <td id=\"T_885979f2_0b1a_11ea_a4b9_80000208fe80row2_col44\" class=\"data row2 col44\" >nan</td>\n",
       "                        <td id=\"T_885979f2_0b1a_11ea_a4b9_80000208fe80row2_col45\" class=\"data row2 col45\" >nan</td>\n",
       "                        <td id=\"T_885979f2_0b1a_11ea_a4b9_80000208fe80row2_col46\" class=\"data row2 col46\" >nan</td>\n",
       "                        <td id=\"T_885979f2_0b1a_11ea_a4b9_80000208fe80row2_col47\" class=\"data row2 col47\" >nan</td>\n",
       "                        <td id=\"T_885979f2_0b1a_11ea_a4b9_80000208fe80row2_col48\" class=\"data row2 col48\" >nan</td>\n",
       "                        <td id=\"T_885979f2_0b1a_11ea_a4b9_80000208fe80row2_col49\" class=\"data row2 col49\" >nan</td>\n",
       "                        <td id=\"T_885979f2_0b1a_11ea_a4b9_80000208fe80row2_col50\" class=\"data row2 col50\" >nan</td>\n",
       "                        <td id=\"T_885979f2_0b1a_11ea_a4b9_80000208fe80row2_col51\" class=\"data row2 col51\" >nan</td>\n",
       "                        <td id=\"T_885979f2_0b1a_11ea_a4b9_80000208fe80row2_col52\" class=\"data row2 col52\" >nan</td>\n",
       "                        <td id=\"T_885979f2_0b1a_11ea_a4b9_80000208fe80row2_col53\" class=\"data row2 col53\" >nan</td>\n",
       "                        <td id=\"T_885979f2_0b1a_11ea_a4b9_80000208fe80row2_col54\" class=\"data row2 col54\" >nan</td>\n",
       "                        <td id=\"T_885979f2_0b1a_11ea_a4b9_80000208fe80row2_col55\" class=\"data row2 col55\" >nan</td>\n",
       "                        <td id=\"T_885979f2_0b1a_11ea_a4b9_80000208fe80row2_col56\" class=\"data row2 col56\" >nan</td>\n",
       "                        <td id=\"T_885979f2_0b1a_11ea_a4b9_80000208fe80row2_col57\" class=\"data row2 col57\" >nan</td>\n",
       "                        <td id=\"T_885979f2_0b1a_11ea_a4b9_80000208fe80row2_col58\" class=\"data row2 col58\" >nan</td>\n",
       "                        <td id=\"T_885979f2_0b1a_11ea_a4b9_80000208fe80row2_col59\" class=\"data row2 col59\" >nan</td>\n",
       "                        <td id=\"T_885979f2_0b1a_11ea_a4b9_80000208fe80row2_col60\" class=\"data row2 col60\" >nan</td>\n",
       "                        <td id=\"T_885979f2_0b1a_11ea_a4b9_80000208fe80row2_col61\" class=\"data row2 col61\" >nan</td>\n",
       "                        <td id=\"T_885979f2_0b1a_11ea_a4b9_80000208fe80row2_col62\" class=\"data row2 col62\" >nan</td>\n",
       "                        <td id=\"T_885979f2_0b1a_11ea_a4b9_80000208fe80row2_col63\" class=\"data row2 col63\" >nan</td>\n",
       "                        <td id=\"T_885979f2_0b1a_11ea_a4b9_80000208fe80row2_col64\" class=\"data row2 col64\" >nan</td>\n",
       "                        <td id=\"T_885979f2_0b1a_11ea_a4b9_80000208fe80row2_col65\" class=\"data row2 col65\" >nan</td>\n",
       "                        <td id=\"T_885979f2_0b1a_11ea_a4b9_80000208fe80row2_col66\" class=\"data row2 col66\" >nan</td>\n",
       "                        <td id=\"T_885979f2_0b1a_11ea_a4b9_80000208fe80row2_col67\" class=\"data row2 col67\" >nan</td>\n",
       "                        <td id=\"T_885979f2_0b1a_11ea_a4b9_80000208fe80row2_col68\" class=\"data row2 col68\" >nan</td>\n",
       "                        <td id=\"T_885979f2_0b1a_11ea_a4b9_80000208fe80row2_col69\" class=\"data row2 col69\" >nan</td>\n",
       "                        <td id=\"T_885979f2_0b1a_11ea_a4b9_80000208fe80row2_col70\" class=\"data row2 col70\" >nan</td>\n",
       "                        <td id=\"T_885979f2_0b1a_11ea_a4b9_80000208fe80row2_col71\" class=\"data row2 col71\" >nan</td>\n",
       "                        <td id=\"T_885979f2_0b1a_11ea_a4b9_80000208fe80row2_col72\" class=\"data row2 col72\" >nan</td>\n",
       "                        <td id=\"T_885979f2_0b1a_11ea_a4b9_80000208fe80row2_col73\" class=\"data row2 col73\" >nan</td>\n",
       "                        <td id=\"T_885979f2_0b1a_11ea_a4b9_80000208fe80row2_col74\" class=\"data row2 col74\" >nan</td>\n",
       "                        <td id=\"T_885979f2_0b1a_11ea_a4b9_80000208fe80row2_col75\" class=\"data row2 col75\" >nan</td>\n",
       "                        <td id=\"T_885979f2_0b1a_11ea_a4b9_80000208fe80row2_col76\" class=\"data row2 col76\" >nan</td>\n",
       "                        <td id=\"T_885979f2_0b1a_11ea_a4b9_80000208fe80row2_col77\" class=\"data row2 col77\" >nan</td>\n",
       "                        <td id=\"T_885979f2_0b1a_11ea_a4b9_80000208fe80row2_col78\" class=\"data row2 col78\" >nan</td>\n",
       "                        <td id=\"T_885979f2_0b1a_11ea_a4b9_80000208fe80row2_col79\" class=\"data row2 col79\" >nan</td>\n",
       "                        <td id=\"T_885979f2_0b1a_11ea_a4b9_80000208fe80row2_col80\" class=\"data row2 col80\" >nan</td>\n",
       "                        <td id=\"T_885979f2_0b1a_11ea_a4b9_80000208fe80row2_col81\" class=\"data row2 col81\" >nan</td>\n",
       "                        <td id=\"T_885979f2_0b1a_11ea_a4b9_80000208fe80row2_col82\" class=\"data row2 col82\" >nan</td>\n",
       "                        <td id=\"T_885979f2_0b1a_11ea_a4b9_80000208fe80row2_col83\" class=\"data row2 col83\" >nan</td>\n",
       "                        <td id=\"T_885979f2_0b1a_11ea_a4b9_80000208fe80row2_col84\" class=\"data row2 col84\" >nan</td>\n",
       "                        <td id=\"T_885979f2_0b1a_11ea_a4b9_80000208fe80row2_col85\" class=\"data row2 col85\" >nan</td>\n",
       "                        <td id=\"T_885979f2_0b1a_11ea_a4b9_80000208fe80row2_col86\" class=\"data row2 col86\" >nan</td>\n",
       "                        <td id=\"T_885979f2_0b1a_11ea_a4b9_80000208fe80row2_col87\" class=\"data row2 col87\" >nan</td>\n",
       "                        <td id=\"T_885979f2_0b1a_11ea_a4b9_80000208fe80row2_col88\" class=\"data row2 col88\" >nan</td>\n",
       "                        <td id=\"T_885979f2_0b1a_11ea_a4b9_80000208fe80row2_col89\" class=\"data row2 col89\" >nan</td>\n",
       "                        <td id=\"T_885979f2_0b1a_11ea_a4b9_80000208fe80row2_col90\" class=\"data row2 col90\" >nan</td>\n",
       "                        <td id=\"T_885979f2_0b1a_11ea_a4b9_80000208fe80row2_col91\" class=\"data row2 col91\" >nan</td>\n",
       "                        <td id=\"T_885979f2_0b1a_11ea_a4b9_80000208fe80row2_col92\" class=\"data row2 col92\" >nan</td>\n",
       "                        <td id=\"T_885979f2_0b1a_11ea_a4b9_80000208fe80row2_col93\" class=\"data row2 col93\" >nan</td>\n",
       "                        <td id=\"T_885979f2_0b1a_11ea_a4b9_80000208fe80row2_col94\" class=\"data row2 col94\" >nan</td>\n",
       "                        <td id=\"T_885979f2_0b1a_11ea_a4b9_80000208fe80row2_col95\" class=\"data row2 col95\" >nan</td>\n",
       "                        <td id=\"T_885979f2_0b1a_11ea_a4b9_80000208fe80row2_col96\" class=\"data row2 col96\" >nan</td>\n",
       "                        <td id=\"T_885979f2_0b1a_11ea_a4b9_80000208fe80row2_col97\" class=\"data row2 col97\" >nan</td>\n",
       "                        <td id=\"T_885979f2_0b1a_11ea_a4b9_80000208fe80row2_col98\" class=\"data row2 col98\" >nan</td>\n",
       "                        <td id=\"T_885979f2_0b1a_11ea_a4b9_80000208fe80row2_col99\" class=\"data row2 col99\" >nan</td>\n",
       "                        <td id=\"T_885979f2_0b1a_11ea_a4b9_80000208fe80row2_col100\" class=\"data row2 col100\" >nan</td>\n",
       "                        <td id=\"T_885979f2_0b1a_11ea_a4b9_80000208fe80row2_col101\" class=\"data row2 col101\" >nan</td>\n",
       "                        <td id=\"T_885979f2_0b1a_11ea_a4b9_80000208fe80row2_col102\" class=\"data row2 col102\" >nan</td>\n",
       "            </tr>\n",
       "            <tr>\n",
       "                                <td id=\"T_885979f2_0b1a_11ea_a4b9_80000208fe80row3_col0\" class=\"data row3 col0\" >108</td>\n",
       "                        <td id=\"T_885979f2_0b1a_11ea_a4b9_80000208fe80row3_col1\" class=\"data row3 col1\" >StackedEnsemble_AllModels_AutoML_20191119_205122</td>\n",
       "                        <td id=\"T_885979f2_0b1a_11ea_a4b9_80000208fe80row3_col2\" class=\"data row3 col2\" >DeepLearning_grid_1_AutoML_20191119_205122_model_2</td>\n",
       "                        <td id=\"T_885979f2_0b1a_11ea_a4b9_80000208fe80row3_col3\" class=\"data row3 col3\" >DeepLearning_grid_1_AutoML_20191119_205122_model_10</td>\n",
       "                        <td id=\"T_885979f2_0b1a_11ea_a4b9_80000208fe80row3_col4\" class=\"data row3 col4\" >DeepLearning_grid_1_AutoML_20191119_205122_model_1</td>\n",
       "                        <td id=\"T_885979f2_0b1a_11ea_a4b9_80000208fe80row3_col5\" class=\"data row3 col5\" >GBM_grid_1_AutoML_20191119_205122_model_39</td>\n",
       "                        <td id=\"T_885979f2_0b1a_11ea_a4b9_80000208fe80row3_col6\" class=\"data row3 col6\" >GBM_grid_1_AutoML_20191119_205122_model_31</td>\n",
       "                        <td id=\"T_885979f2_0b1a_11ea_a4b9_80000208fe80row3_col7\" class=\"data row3 col7\" >DeepLearning_grid_1_AutoML_20191119_205122_model_7</td>\n",
       "                        <td id=\"T_885979f2_0b1a_11ea_a4b9_80000208fe80row3_col8\" class=\"data row3 col8\" >GBM_grid_1_AutoML_20191119_205122_model_35</td>\n",
       "                        <td id=\"T_885979f2_0b1a_11ea_a4b9_80000208fe80row3_col9\" class=\"data row3 col9\" >GBM_grid_1_AutoML_20191119_205122_model_18</td>\n",
       "                        <td id=\"T_885979f2_0b1a_11ea_a4b9_80000208fe80row3_col10\" class=\"data row3 col10\" >GBM_grid_1_AutoML_20191119_205122_model_12</td>\n",
       "                        <td id=\"T_885979f2_0b1a_11ea_a4b9_80000208fe80row3_col11\" class=\"data row3 col11\" >GBM_3_AutoML_20191119_205122</td>\n",
       "                        <td id=\"T_885979f2_0b1a_11ea_a4b9_80000208fe80row3_col12\" class=\"data row3 col12\" >GBM_grid_1_AutoML_20191119_205122_model_27</td>\n",
       "                        <td id=\"T_885979f2_0b1a_11ea_a4b9_80000208fe80row3_col13\" class=\"data row3 col13\" >GBM_grid_1_AutoML_20191119_205122_model_19</td>\n",
       "                        <td id=\"T_885979f2_0b1a_11ea_a4b9_80000208fe80row3_col14\" class=\"data row3 col14\" >GBM_grid_1_AutoML_20191119_205122_model_40</td>\n",
       "                        <td id=\"T_885979f2_0b1a_11ea_a4b9_80000208fe80row3_col15\" class=\"data row3 col15\" >XGBoost_grid_1_AutoML_20191119_205122_model_13</td>\n",
       "                        <td id=\"T_885979f2_0b1a_11ea_a4b9_80000208fe80row3_col16\" class=\"data row3 col16\" >GBM_grid_1_AutoML_20191119_205122_model_1</td>\n",
       "                        <td id=\"T_885979f2_0b1a_11ea_a4b9_80000208fe80row3_col17\" class=\"data row3 col17\" >DeepLearning_grid_1_AutoML_20191119_205122_model_6</td>\n",
       "                        <td id=\"T_885979f2_0b1a_11ea_a4b9_80000208fe80row3_col18\" class=\"data row3 col18\" >GBM_grid_1_AutoML_20191119_205122_model_20</td>\n",
       "                        <td id=\"T_885979f2_0b1a_11ea_a4b9_80000208fe80row3_col19\" class=\"data row3 col19\" >GBM_2_AutoML_20191119_205122</td>\n",
       "                        <td id=\"T_885979f2_0b1a_11ea_a4b9_80000208fe80row3_col20\" class=\"data row3 col20\" >GBM_grid_1_AutoML_20191119_205122_model_15</td>\n",
       "                        <td id=\"T_885979f2_0b1a_11ea_a4b9_80000208fe80row3_col21\" class=\"data row3 col21\" >DRF_1_AutoML_20191119_205122</td>\n",
       "                        <td id=\"T_885979f2_0b1a_11ea_a4b9_80000208fe80row3_col22\" class=\"data row3 col22\" >GBM_4_AutoML_20191119_205122</td>\n",
       "                        <td id=\"T_885979f2_0b1a_11ea_a4b9_80000208fe80row3_col23\" class=\"data row3 col23\" >XRT_1_AutoML_20191119_205122</td>\n",
       "                        <td id=\"T_885979f2_0b1a_11ea_a4b9_80000208fe80row3_col24\" class=\"data row3 col24\" >DeepLearning_grid_1_AutoML_20191119_205122_model_9</td>\n",
       "                        <td id=\"T_885979f2_0b1a_11ea_a4b9_80000208fe80row3_col25\" class=\"data row3 col25\" >GBM_grid_1_AutoML_20191119_205122_model_13</td>\n",
       "                        <td id=\"T_885979f2_0b1a_11ea_a4b9_80000208fe80row3_col26\" class=\"data row3 col26\" >GBM_grid_1_AutoML_20191119_205122_model_32</td>\n",
       "                        <td id=\"T_885979f2_0b1a_11ea_a4b9_80000208fe80row3_col27\" class=\"data row3 col27\" >GBM_grid_1_AutoML_20191119_205122_model_16</td>\n",
       "                        <td id=\"T_885979f2_0b1a_11ea_a4b9_80000208fe80row3_col28\" class=\"data row3 col28\" >XGBoost_grid_1_AutoML_20191119_205122_model_8</td>\n",
       "                        <td id=\"T_885979f2_0b1a_11ea_a4b9_80000208fe80row3_col29\" class=\"data row3 col29\" >GBM_grid_1_AutoML_20191119_205122_model_17</td>\n",
       "                        <td id=\"T_885979f2_0b1a_11ea_a4b9_80000208fe80row3_col30\" class=\"data row3 col30\" >GBM_grid_1_AutoML_20191119_205122_model_26</td>\n",
       "                        <td id=\"T_885979f2_0b1a_11ea_a4b9_80000208fe80row3_col31\" class=\"data row3 col31\" >GBM_5_AutoML_20191119_205122</td>\n",
       "                        <td id=\"T_885979f2_0b1a_11ea_a4b9_80000208fe80row3_col32\" class=\"data row3 col32\" >GBM_grid_1_AutoML_20191119_205122_model_6</td>\n",
       "                        <td id=\"T_885979f2_0b1a_11ea_a4b9_80000208fe80row3_col33\" class=\"data row3 col33\" >DeepLearning_grid_1_AutoML_20191119_205122_model_3</td>\n",
       "                        <td id=\"T_885979f2_0b1a_11ea_a4b9_80000208fe80row3_col34\" class=\"data row3 col34\" >GBM_grid_1_AutoML_20191119_205122_model_41</td>\n",
       "                        <td id=\"T_885979f2_0b1a_11ea_a4b9_80000208fe80row3_col35\" class=\"data row3 col35\" >GBM_grid_1_AutoML_20191119_205122_model_24</td>\n",
       "                        <td id=\"T_885979f2_0b1a_11ea_a4b9_80000208fe80row3_col36\" class=\"data row3 col36\" >GBM_grid_1_AutoML_20191119_205122_model_10</td>\n",
       "                        <td id=\"T_885979f2_0b1a_11ea_a4b9_80000208fe80row3_col37\" class=\"data row3 col37\" >GBM_grid_1_AutoML_20191119_205122_model_3</td>\n",
       "                        <td id=\"T_885979f2_0b1a_11ea_a4b9_80000208fe80row3_col38\" class=\"data row3 col38\" >GBM_1_AutoML_20191119_205122</td>\n",
       "                        <td id=\"T_885979f2_0b1a_11ea_a4b9_80000208fe80row3_col39\" class=\"data row3 col39\" >GLM_grid_1_AutoML_20191119_205122_model_1</td>\n",
       "                        <td id=\"T_885979f2_0b1a_11ea_a4b9_80000208fe80row3_col40\" class=\"data row3 col40\" >XGBoost_grid_1_AutoML_20191119_205122_model_30</td>\n",
       "                        <td id=\"T_885979f2_0b1a_11ea_a4b9_80000208fe80row3_col41\" class=\"data row3 col41\" >GBM_grid_1_AutoML_20191119_205122_model_14</td>\n",
       "                        <td id=\"T_885979f2_0b1a_11ea_a4b9_80000208fe80row3_col42\" class=\"data row3 col42\" >XGBoost_3_AutoML_20191119_205122</td>\n",
       "                        <td id=\"T_885979f2_0b1a_11ea_a4b9_80000208fe80row3_col43\" class=\"data row3 col43\" >XGBoost_grid_1_AutoML_20191119_205122_model_15</td>\n",
       "                        <td id=\"T_885979f2_0b1a_11ea_a4b9_80000208fe80row3_col44\" class=\"data row3 col44\" >XGBoost_grid_1_AutoML_20191119_205122_model_17</td>\n",
       "                        <td id=\"T_885979f2_0b1a_11ea_a4b9_80000208fe80row3_col45\" class=\"data row3 col45\" >GBM_grid_1_AutoML_20191119_205122_model_11</td>\n",
       "                        <td id=\"T_885979f2_0b1a_11ea_a4b9_80000208fe80row3_col46\" class=\"data row3 col46\" >XGBoost_1_AutoML_20191119_205122</td>\n",
       "                        <td id=\"T_885979f2_0b1a_11ea_a4b9_80000208fe80row3_col47\" class=\"data row3 col47\" >XGBoost_grid_1_AutoML_20191119_205122_model_33</td>\n",
       "                        <td id=\"T_885979f2_0b1a_11ea_a4b9_80000208fe80row3_col48\" class=\"data row3 col48\" >XGBoost_grid_1_AutoML_20191119_205122_model_25</td>\n",
       "                        <td id=\"T_885979f2_0b1a_11ea_a4b9_80000208fe80row3_col49\" class=\"data row3 col49\" >GBM_grid_1_AutoML_20191119_205122_model_8</td>\n",
       "                        <td id=\"T_885979f2_0b1a_11ea_a4b9_80000208fe80row3_col50\" class=\"data row3 col50\" >XGBoost_grid_1_AutoML_20191119_205122_model_4</td>\n",
       "                        <td id=\"T_885979f2_0b1a_11ea_a4b9_80000208fe80row3_col51\" class=\"data row3 col51\" >XGBoost_grid_1_AutoML_20191119_205122_model_18</td>\n",
       "                        <td id=\"T_885979f2_0b1a_11ea_a4b9_80000208fe80row3_col52\" class=\"data row3 col52\" >XGBoost_grid_1_AutoML_20191119_205122_model_21</td>\n",
       "                        <td id=\"T_885979f2_0b1a_11ea_a4b9_80000208fe80row3_col53\" class=\"data row3 col53\" >XGBoost_grid_1_AutoML_20191119_205122_model_26</td>\n",
       "                        <td id=\"T_885979f2_0b1a_11ea_a4b9_80000208fe80row3_col54\" class=\"data row3 col54\" >XGBoost_grid_1_AutoML_20191119_205122_model_2</td>\n",
       "                        <td id=\"T_885979f2_0b1a_11ea_a4b9_80000208fe80row3_col55\" class=\"data row3 col55\" >DeepLearning_grid_1_AutoML_20191119_205122_model_11</td>\n",
       "                        <td id=\"T_885979f2_0b1a_11ea_a4b9_80000208fe80row3_col56\" class=\"data row3 col56\" >XGBoost_grid_1_AutoML_20191119_205122_model_20</td>\n",
       "                        <td id=\"T_885979f2_0b1a_11ea_a4b9_80000208fe80row3_col57\" class=\"data row3 col57\" >GBM_grid_1_AutoML_20191119_205122_model_9</td>\n",
       "                        <td id=\"T_885979f2_0b1a_11ea_a4b9_80000208fe80row3_col58\" class=\"data row3 col58\" >XGBoost_grid_1_AutoML_20191119_205122_model_27</td>\n",
       "                        <td id=\"T_885979f2_0b1a_11ea_a4b9_80000208fe80row3_col59\" class=\"data row3 col59\" >GBM_grid_1_AutoML_20191119_205122_model_29</td>\n",
       "                        <td id=\"T_885979f2_0b1a_11ea_a4b9_80000208fe80row3_col60\" class=\"data row3 col60\" >XGBoost_grid_1_AutoML_20191119_205122_model_3</td>\n",
       "                        <td id=\"T_885979f2_0b1a_11ea_a4b9_80000208fe80row3_col61\" class=\"data row3 col61\" >DeepLearning_grid_1_AutoML_20191119_205122_model_4</td>\n",
       "                        <td id=\"T_885979f2_0b1a_11ea_a4b9_80000208fe80row3_col62\" class=\"data row3 col62\" >GBM_grid_1_AutoML_20191119_205122_model_42</td>\n",
       "                        <td id=\"T_885979f2_0b1a_11ea_a4b9_80000208fe80row3_col63\" class=\"data row3 col63\" >XGBoost_grid_1_AutoML_20191119_205122_model_29</td>\n",
       "                        <td id=\"T_885979f2_0b1a_11ea_a4b9_80000208fe80row3_col64\" class=\"data row3 col64\" >XGBoost_grid_1_AutoML_20191119_205122_model_28</td>\n",
       "                        <td id=\"T_885979f2_0b1a_11ea_a4b9_80000208fe80row3_col65\" class=\"data row3 col65\" >GBM_grid_1_AutoML_20191119_205122_model_28</td>\n",
       "                        <td id=\"T_885979f2_0b1a_11ea_a4b9_80000208fe80row3_col66\" class=\"data row3 col66\" >DeepLearning_grid_1_AutoML_20191119_205122_model_5</td>\n",
       "                        <td id=\"T_885979f2_0b1a_11ea_a4b9_80000208fe80row3_col67\" class=\"data row3 col67\" >XGBoost_grid_1_AutoML_20191119_205122_model_31</td>\n",
       "                        <td id=\"T_885979f2_0b1a_11ea_a4b9_80000208fe80row3_col68\" class=\"data row3 col68\" >XGBoost_grid_1_AutoML_20191119_205122_model_32</td>\n",
       "                        <td id=\"T_885979f2_0b1a_11ea_a4b9_80000208fe80row3_col69\" class=\"data row3 col69\" >GBM_grid_1_AutoML_20191119_205122_model_21</td>\n",
       "                        <td id=\"T_885979f2_0b1a_11ea_a4b9_80000208fe80row3_col70\" class=\"data row3 col70\" >XGBoost_grid_1_AutoML_20191119_205122_model_7</td>\n",
       "                        <td id=\"T_885979f2_0b1a_11ea_a4b9_80000208fe80row3_col71\" class=\"data row3 col71\" >XGBoost_grid_1_AutoML_20191119_205122_model_19</td>\n",
       "                        <td id=\"T_885979f2_0b1a_11ea_a4b9_80000208fe80row3_col72\" class=\"data row3 col72\" >XGBoost_grid_1_AutoML_20191119_205122_model_23</td>\n",
       "                        <td id=\"T_885979f2_0b1a_11ea_a4b9_80000208fe80row3_col73\" class=\"data row3 col73\" >GBM_grid_1_AutoML_20191119_205122_model_23</td>\n",
       "                        <td id=\"T_885979f2_0b1a_11ea_a4b9_80000208fe80row3_col74\" class=\"data row3 col74\" >GBM_grid_1_AutoML_20191119_205122_model_30</td>\n",
       "                        <td id=\"T_885979f2_0b1a_11ea_a4b9_80000208fe80row3_col75\" class=\"data row3 col75\" >XGBoost_2_AutoML_20191119_205122</td>\n",
       "                        <td id=\"T_885979f2_0b1a_11ea_a4b9_80000208fe80row3_col76\" class=\"data row3 col76\" >XGBoost_grid_1_AutoML_20191119_205122_model_1</td>\n",
       "                        <td id=\"T_885979f2_0b1a_11ea_a4b9_80000208fe80row3_col77\" class=\"data row3 col77\" >GBM_grid_1_AutoML_20191119_205122_model_25</td>\n",
       "                        <td id=\"T_885979f2_0b1a_11ea_a4b9_80000208fe80row3_col78\" class=\"data row3 col78\" >GBM_grid_1_AutoML_20191119_205122_model_7</td>\n",
       "                        <td id=\"T_885979f2_0b1a_11ea_a4b9_80000208fe80row3_col79\" class=\"data row3 col79\" >DeepLearning_grid_1_AutoML_20191119_205122_model_8</td>\n",
       "                        <td id=\"T_885979f2_0b1a_11ea_a4b9_80000208fe80row3_col80\" class=\"data row3 col80\" >GBM_grid_1_AutoML_20191119_205122_model_38</td>\n",
       "                        <td id=\"T_885979f2_0b1a_11ea_a4b9_80000208fe80row3_col81\" class=\"data row3 col81\" >GBM_grid_1_AutoML_20191119_205122_model_5</td>\n",
       "                        <td id=\"T_885979f2_0b1a_11ea_a4b9_80000208fe80row3_col82\" class=\"data row3 col82\" >GBM_grid_1_AutoML_20191119_205122_model_33</td>\n",
       "                        <td id=\"T_885979f2_0b1a_11ea_a4b9_80000208fe80row3_col83\" class=\"data row3 col83\" >XGBoost_grid_1_AutoML_20191119_205122_model_11</td>\n",
       "                        <td id=\"T_885979f2_0b1a_11ea_a4b9_80000208fe80row3_col84\" class=\"data row3 col84\" >XGBoost_grid_1_AutoML_20191119_205122_model_22</td>\n",
       "                        <td id=\"T_885979f2_0b1a_11ea_a4b9_80000208fe80row3_col85\" class=\"data row3 col85\" >XGBoost_grid_1_AutoML_20191119_205122_model_12</td>\n",
       "                        <td id=\"T_885979f2_0b1a_11ea_a4b9_80000208fe80row3_col86\" class=\"data row3 col86\" >GBM_grid_1_AutoML_20191119_205122_model_37</td>\n",
       "                        <td id=\"T_885979f2_0b1a_11ea_a4b9_80000208fe80row3_col87\" class=\"data row3 col87\" >XGBoost_grid_1_AutoML_20191119_205122_model_5</td>\n",
       "                        <td id=\"T_885979f2_0b1a_11ea_a4b9_80000208fe80row3_col88\" class=\"data row3 col88\" >XGBoost_grid_1_AutoML_20191119_205122_model_6</td>\n",
       "                        <td id=\"T_885979f2_0b1a_11ea_a4b9_80000208fe80row3_col89\" class=\"data row3 col89\" >XGBoost_grid_1_AutoML_20191119_205122_model_24</td>\n",
       "                        <td id=\"T_885979f2_0b1a_11ea_a4b9_80000208fe80row3_col90\" class=\"data row3 col90\" >GBM_grid_1_AutoML_20191119_205122_model_4</td>\n",
       "                        <td id=\"T_885979f2_0b1a_11ea_a4b9_80000208fe80row3_col91\" class=\"data row3 col91\" >XGBoost_grid_1_AutoML_20191119_205122_model_10</td>\n",
       "                        <td id=\"T_885979f2_0b1a_11ea_a4b9_80000208fe80row3_col92\" class=\"data row3 col92\" >XGBoost_grid_1_AutoML_20191119_205122_model_14</td>\n",
       "                        <td id=\"T_885979f2_0b1a_11ea_a4b9_80000208fe80row3_col93\" class=\"data row3 col93\" >XGBoost_grid_1_AutoML_20191119_205122_model_16</td>\n",
       "                        <td id=\"T_885979f2_0b1a_11ea_a4b9_80000208fe80row3_col94\" class=\"data row3 col94\" >GBM_grid_1_AutoML_20191119_205122_model_34</td>\n",
       "                        <td id=\"T_885979f2_0b1a_11ea_a4b9_80000208fe80row3_col95\" class=\"data row3 col95\" >GBM_grid_1_AutoML_20191119_205122_model_43</td>\n",
       "                        <td id=\"T_885979f2_0b1a_11ea_a4b9_80000208fe80row3_col96\" class=\"data row3 col96\" >XGBoost_grid_1_AutoML_20191119_205122_model_9</td>\n",
       "                        <td id=\"T_885979f2_0b1a_11ea_a4b9_80000208fe80row3_col97\" class=\"data row3 col97\" >GBM_grid_1_AutoML_20191119_205122_model_2</td>\n",
       "                        <td id=\"T_885979f2_0b1a_11ea_a4b9_80000208fe80row3_col98\" class=\"data row3 col98\" >DeepLearning_1_AutoML_20191119_205122</td>\n",
       "                        <td id=\"T_885979f2_0b1a_11ea_a4b9_80000208fe80row3_col99\" class=\"data row3 col99\" >XGBoost_grid_1_AutoML_20191119_205122_model_34</td>\n",
       "                        <td id=\"T_885979f2_0b1a_11ea_a4b9_80000208fe80row3_col100\" class=\"data row3 col100\" >GBM_grid_1_AutoML_20191119_205122_model_22</td>\n",
       "                        <td id=\"T_885979f2_0b1a_11ea_a4b9_80000208fe80row3_col101\" class=\"data row3 col101\" >GBM_grid_1_AutoML_20191119_205122_model_44</td>\n",
       "                        <td id=\"T_885979f2_0b1a_11ea_a4b9_80000208fe80row3_col102\" class=\"data row3 col102\" >GBM_grid_1_AutoML_20191119_205122_model_36</td>\n",
       "            </tr>\n",
       "            <tr>\n",
       "                                <td id=\"T_885979f2_0b1a_11ea_a4b9_80000208fe80row4_col0\" class=\"data row4 col0\" >144</td>\n",
       "                        <td id=\"T_885979f2_0b1a_11ea_a4b9_80000208fe80row4_col1\" class=\"data row4 col1\" >StackedEnsemble_BestOfFamily_AutoML_20191119_222813</td>\n",
       "                        <td id=\"T_885979f2_0b1a_11ea_a4b9_80000208fe80row4_col2\" class=\"data row4 col2\" >DeepLearning_grid_1_AutoML_20191119_222813_model_2</td>\n",
       "                        <td id=\"T_885979f2_0b1a_11ea_a4b9_80000208fe80row4_col3\" class=\"data row4 col3\" >GBM_grid_1_AutoML_20191119_222813_model_39</td>\n",
       "                        <td id=\"T_885979f2_0b1a_11ea_a4b9_80000208fe80row4_col4\" class=\"data row4 col4\" >XGBoost_grid_1_AutoML_20191119_222813_model_13</td>\n",
       "                        <td id=\"T_885979f2_0b1a_11ea_a4b9_80000208fe80row4_col5\" class=\"data row4 col5\" >DRF_1_AutoML_20191119_222813</td>\n",
       "                        <td id=\"T_885979f2_0b1a_11ea_a4b9_80000208fe80row4_col6\" class=\"data row4 col6\" >XRT_1_AutoML_20191119_222813</td>\n",
       "                        <td id=\"T_885979f2_0b1a_11ea_a4b9_80000208fe80row4_col7\" class=\"data row4 col7\" >GLM_grid_1_AutoML_20191119_222813_model_1</td>\n",
       "                        <td id=\"T_885979f2_0b1a_11ea_a4b9_80000208fe80row4_col8\" class=\"data row4 col8\" >nan</td>\n",
       "                        <td id=\"T_885979f2_0b1a_11ea_a4b9_80000208fe80row4_col9\" class=\"data row4 col9\" >nan</td>\n",
       "                        <td id=\"T_885979f2_0b1a_11ea_a4b9_80000208fe80row4_col10\" class=\"data row4 col10\" >nan</td>\n",
       "                        <td id=\"T_885979f2_0b1a_11ea_a4b9_80000208fe80row4_col11\" class=\"data row4 col11\" >nan</td>\n",
       "                        <td id=\"T_885979f2_0b1a_11ea_a4b9_80000208fe80row4_col12\" class=\"data row4 col12\" >nan</td>\n",
       "                        <td id=\"T_885979f2_0b1a_11ea_a4b9_80000208fe80row4_col13\" class=\"data row4 col13\" >nan</td>\n",
       "                        <td id=\"T_885979f2_0b1a_11ea_a4b9_80000208fe80row4_col14\" class=\"data row4 col14\" >nan</td>\n",
       "                        <td id=\"T_885979f2_0b1a_11ea_a4b9_80000208fe80row4_col15\" class=\"data row4 col15\" >nan</td>\n",
       "                        <td id=\"T_885979f2_0b1a_11ea_a4b9_80000208fe80row4_col16\" class=\"data row4 col16\" >nan</td>\n",
       "                        <td id=\"T_885979f2_0b1a_11ea_a4b9_80000208fe80row4_col17\" class=\"data row4 col17\" >nan</td>\n",
       "                        <td id=\"T_885979f2_0b1a_11ea_a4b9_80000208fe80row4_col18\" class=\"data row4 col18\" >nan</td>\n",
       "                        <td id=\"T_885979f2_0b1a_11ea_a4b9_80000208fe80row4_col19\" class=\"data row4 col19\" >nan</td>\n",
       "                        <td id=\"T_885979f2_0b1a_11ea_a4b9_80000208fe80row4_col20\" class=\"data row4 col20\" >nan</td>\n",
       "                        <td id=\"T_885979f2_0b1a_11ea_a4b9_80000208fe80row4_col21\" class=\"data row4 col21\" >nan</td>\n",
       "                        <td id=\"T_885979f2_0b1a_11ea_a4b9_80000208fe80row4_col22\" class=\"data row4 col22\" >nan</td>\n",
       "                        <td id=\"T_885979f2_0b1a_11ea_a4b9_80000208fe80row4_col23\" class=\"data row4 col23\" >nan</td>\n",
       "                        <td id=\"T_885979f2_0b1a_11ea_a4b9_80000208fe80row4_col24\" class=\"data row4 col24\" >nan</td>\n",
       "                        <td id=\"T_885979f2_0b1a_11ea_a4b9_80000208fe80row4_col25\" class=\"data row4 col25\" >nan</td>\n",
       "                        <td id=\"T_885979f2_0b1a_11ea_a4b9_80000208fe80row4_col26\" class=\"data row4 col26\" >nan</td>\n",
       "                        <td id=\"T_885979f2_0b1a_11ea_a4b9_80000208fe80row4_col27\" class=\"data row4 col27\" >nan</td>\n",
       "                        <td id=\"T_885979f2_0b1a_11ea_a4b9_80000208fe80row4_col28\" class=\"data row4 col28\" >nan</td>\n",
       "                        <td id=\"T_885979f2_0b1a_11ea_a4b9_80000208fe80row4_col29\" class=\"data row4 col29\" >nan</td>\n",
       "                        <td id=\"T_885979f2_0b1a_11ea_a4b9_80000208fe80row4_col30\" class=\"data row4 col30\" >nan</td>\n",
       "                        <td id=\"T_885979f2_0b1a_11ea_a4b9_80000208fe80row4_col31\" class=\"data row4 col31\" >nan</td>\n",
       "                        <td id=\"T_885979f2_0b1a_11ea_a4b9_80000208fe80row4_col32\" class=\"data row4 col32\" >nan</td>\n",
       "                        <td id=\"T_885979f2_0b1a_11ea_a4b9_80000208fe80row4_col33\" class=\"data row4 col33\" >nan</td>\n",
       "                        <td id=\"T_885979f2_0b1a_11ea_a4b9_80000208fe80row4_col34\" class=\"data row4 col34\" >nan</td>\n",
       "                        <td id=\"T_885979f2_0b1a_11ea_a4b9_80000208fe80row4_col35\" class=\"data row4 col35\" >nan</td>\n",
       "                        <td id=\"T_885979f2_0b1a_11ea_a4b9_80000208fe80row4_col36\" class=\"data row4 col36\" >nan</td>\n",
       "                        <td id=\"T_885979f2_0b1a_11ea_a4b9_80000208fe80row4_col37\" class=\"data row4 col37\" >nan</td>\n",
       "                        <td id=\"T_885979f2_0b1a_11ea_a4b9_80000208fe80row4_col38\" class=\"data row4 col38\" >nan</td>\n",
       "                        <td id=\"T_885979f2_0b1a_11ea_a4b9_80000208fe80row4_col39\" class=\"data row4 col39\" >nan</td>\n",
       "                        <td id=\"T_885979f2_0b1a_11ea_a4b9_80000208fe80row4_col40\" class=\"data row4 col40\" >nan</td>\n",
       "                        <td id=\"T_885979f2_0b1a_11ea_a4b9_80000208fe80row4_col41\" class=\"data row4 col41\" >nan</td>\n",
       "                        <td id=\"T_885979f2_0b1a_11ea_a4b9_80000208fe80row4_col42\" class=\"data row4 col42\" >nan</td>\n",
       "                        <td id=\"T_885979f2_0b1a_11ea_a4b9_80000208fe80row4_col43\" class=\"data row4 col43\" >nan</td>\n",
       "                        <td id=\"T_885979f2_0b1a_11ea_a4b9_80000208fe80row4_col44\" class=\"data row4 col44\" >nan</td>\n",
       "                        <td id=\"T_885979f2_0b1a_11ea_a4b9_80000208fe80row4_col45\" class=\"data row4 col45\" >nan</td>\n",
       "                        <td id=\"T_885979f2_0b1a_11ea_a4b9_80000208fe80row4_col46\" class=\"data row4 col46\" >nan</td>\n",
       "                        <td id=\"T_885979f2_0b1a_11ea_a4b9_80000208fe80row4_col47\" class=\"data row4 col47\" >nan</td>\n",
       "                        <td id=\"T_885979f2_0b1a_11ea_a4b9_80000208fe80row4_col48\" class=\"data row4 col48\" >nan</td>\n",
       "                        <td id=\"T_885979f2_0b1a_11ea_a4b9_80000208fe80row4_col49\" class=\"data row4 col49\" >nan</td>\n",
       "                        <td id=\"T_885979f2_0b1a_11ea_a4b9_80000208fe80row4_col50\" class=\"data row4 col50\" >nan</td>\n",
       "                        <td id=\"T_885979f2_0b1a_11ea_a4b9_80000208fe80row4_col51\" class=\"data row4 col51\" >nan</td>\n",
       "                        <td id=\"T_885979f2_0b1a_11ea_a4b9_80000208fe80row4_col52\" class=\"data row4 col52\" >nan</td>\n",
       "                        <td id=\"T_885979f2_0b1a_11ea_a4b9_80000208fe80row4_col53\" class=\"data row4 col53\" >nan</td>\n",
       "                        <td id=\"T_885979f2_0b1a_11ea_a4b9_80000208fe80row4_col54\" class=\"data row4 col54\" >nan</td>\n",
       "                        <td id=\"T_885979f2_0b1a_11ea_a4b9_80000208fe80row4_col55\" class=\"data row4 col55\" >nan</td>\n",
       "                        <td id=\"T_885979f2_0b1a_11ea_a4b9_80000208fe80row4_col56\" class=\"data row4 col56\" >nan</td>\n",
       "                        <td id=\"T_885979f2_0b1a_11ea_a4b9_80000208fe80row4_col57\" class=\"data row4 col57\" >nan</td>\n",
       "                        <td id=\"T_885979f2_0b1a_11ea_a4b9_80000208fe80row4_col58\" class=\"data row4 col58\" >nan</td>\n",
       "                        <td id=\"T_885979f2_0b1a_11ea_a4b9_80000208fe80row4_col59\" class=\"data row4 col59\" >nan</td>\n",
       "                        <td id=\"T_885979f2_0b1a_11ea_a4b9_80000208fe80row4_col60\" class=\"data row4 col60\" >nan</td>\n",
       "                        <td id=\"T_885979f2_0b1a_11ea_a4b9_80000208fe80row4_col61\" class=\"data row4 col61\" >nan</td>\n",
       "                        <td id=\"T_885979f2_0b1a_11ea_a4b9_80000208fe80row4_col62\" class=\"data row4 col62\" >nan</td>\n",
       "                        <td id=\"T_885979f2_0b1a_11ea_a4b9_80000208fe80row4_col63\" class=\"data row4 col63\" >nan</td>\n",
       "                        <td id=\"T_885979f2_0b1a_11ea_a4b9_80000208fe80row4_col64\" class=\"data row4 col64\" >nan</td>\n",
       "                        <td id=\"T_885979f2_0b1a_11ea_a4b9_80000208fe80row4_col65\" class=\"data row4 col65\" >nan</td>\n",
       "                        <td id=\"T_885979f2_0b1a_11ea_a4b9_80000208fe80row4_col66\" class=\"data row4 col66\" >nan</td>\n",
       "                        <td id=\"T_885979f2_0b1a_11ea_a4b9_80000208fe80row4_col67\" class=\"data row4 col67\" >nan</td>\n",
       "                        <td id=\"T_885979f2_0b1a_11ea_a4b9_80000208fe80row4_col68\" class=\"data row4 col68\" >nan</td>\n",
       "                        <td id=\"T_885979f2_0b1a_11ea_a4b9_80000208fe80row4_col69\" class=\"data row4 col69\" >nan</td>\n",
       "                        <td id=\"T_885979f2_0b1a_11ea_a4b9_80000208fe80row4_col70\" class=\"data row4 col70\" >nan</td>\n",
       "                        <td id=\"T_885979f2_0b1a_11ea_a4b9_80000208fe80row4_col71\" class=\"data row4 col71\" >nan</td>\n",
       "                        <td id=\"T_885979f2_0b1a_11ea_a4b9_80000208fe80row4_col72\" class=\"data row4 col72\" >nan</td>\n",
       "                        <td id=\"T_885979f2_0b1a_11ea_a4b9_80000208fe80row4_col73\" class=\"data row4 col73\" >nan</td>\n",
       "                        <td id=\"T_885979f2_0b1a_11ea_a4b9_80000208fe80row4_col74\" class=\"data row4 col74\" >nan</td>\n",
       "                        <td id=\"T_885979f2_0b1a_11ea_a4b9_80000208fe80row4_col75\" class=\"data row4 col75\" >nan</td>\n",
       "                        <td id=\"T_885979f2_0b1a_11ea_a4b9_80000208fe80row4_col76\" class=\"data row4 col76\" >nan</td>\n",
       "                        <td id=\"T_885979f2_0b1a_11ea_a4b9_80000208fe80row4_col77\" class=\"data row4 col77\" >nan</td>\n",
       "                        <td id=\"T_885979f2_0b1a_11ea_a4b9_80000208fe80row4_col78\" class=\"data row4 col78\" >nan</td>\n",
       "                        <td id=\"T_885979f2_0b1a_11ea_a4b9_80000208fe80row4_col79\" class=\"data row4 col79\" >nan</td>\n",
       "                        <td id=\"T_885979f2_0b1a_11ea_a4b9_80000208fe80row4_col80\" class=\"data row4 col80\" >nan</td>\n",
       "                        <td id=\"T_885979f2_0b1a_11ea_a4b9_80000208fe80row4_col81\" class=\"data row4 col81\" >nan</td>\n",
       "                        <td id=\"T_885979f2_0b1a_11ea_a4b9_80000208fe80row4_col82\" class=\"data row4 col82\" >nan</td>\n",
       "                        <td id=\"T_885979f2_0b1a_11ea_a4b9_80000208fe80row4_col83\" class=\"data row4 col83\" >nan</td>\n",
       "                        <td id=\"T_885979f2_0b1a_11ea_a4b9_80000208fe80row4_col84\" class=\"data row4 col84\" >nan</td>\n",
       "                        <td id=\"T_885979f2_0b1a_11ea_a4b9_80000208fe80row4_col85\" class=\"data row4 col85\" >nan</td>\n",
       "                        <td id=\"T_885979f2_0b1a_11ea_a4b9_80000208fe80row4_col86\" class=\"data row4 col86\" >nan</td>\n",
       "                        <td id=\"T_885979f2_0b1a_11ea_a4b9_80000208fe80row4_col87\" class=\"data row4 col87\" >nan</td>\n",
       "                        <td id=\"T_885979f2_0b1a_11ea_a4b9_80000208fe80row4_col88\" class=\"data row4 col88\" >nan</td>\n",
       "                        <td id=\"T_885979f2_0b1a_11ea_a4b9_80000208fe80row4_col89\" class=\"data row4 col89\" >nan</td>\n",
       "                        <td id=\"T_885979f2_0b1a_11ea_a4b9_80000208fe80row4_col90\" class=\"data row4 col90\" >nan</td>\n",
       "                        <td id=\"T_885979f2_0b1a_11ea_a4b9_80000208fe80row4_col91\" class=\"data row4 col91\" >nan</td>\n",
       "                        <td id=\"T_885979f2_0b1a_11ea_a4b9_80000208fe80row4_col92\" class=\"data row4 col92\" >nan</td>\n",
       "                        <td id=\"T_885979f2_0b1a_11ea_a4b9_80000208fe80row4_col93\" class=\"data row4 col93\" >nan</td>\n",
       "                        <td id=\"T_885979f2_0b1a_11ea_a4b9_80000208fe80row4_col94\" class=\"data row4 col94\" >nan</td>\n",
       "                        <td id=\"T_885979f2_0b1a_11ea_a4b9_80000208fe80row4_col95\" class=\"data row4 col95\" >nan</td>\n",
       "                        <td id=\"T_885979f2_0b1a_11ea_a4b9_80000208fe80row4_col96\" class=\"data row4 col96\" >nan</td>\n",
       "                        <td id=\"T_885979f2_0b1a_11ea_a4b9_80000208fe80row4_col97\" class=\"data row4 col97\" >nan</td>\n",
       "                        <td id=\"T_885979f2_0b1a_11ea_a4b9_80000208fe80row4_col98\" class=\"data row4 col98\" >nan</td>\n",
       "                        <td id=\"T_885979f2_0b1a_11ea_a4b9_80000208fe80row4_col99\" class=\"data row4 col99\" >nan</td>\n",
       "                        <td id=\"T_885979f2_0b1a_11ea_a4b9_80000208fe80row4_col100\" class=\"data row4 col100\" >nan</td>\n",
       "                        <td id=\"T_885979f2_0b1a_11ea_a4b9_80000208fe80row4_col101\" class=\"data row4 col101\" >nan</td>\n",
       "                        <td id=\"T_885979f2_0b1a_11ea_a4b9_80000208fe80row4_col102\" class=\"data row4 col102\" >nan</td>\n",
       "            </tr>\n",
       "            <tr>\n",
       "                                <td id=\"T_885979f2_0b1a_11ea_a4b9_80000208fe80row5_col0\" class=\"data row5 col0\" >180</td>\n",
       "                        <td id=\"T_885979f2_0b1a_11ea_a4b9_80000208fe80row5_col1\" class=\"data row5 col1\" >StackedEnsemble_BestOfFamily_AutoML_20191120_000246</td>\n",
       "                        <td id=\"T_885979f2_0b1a_11ea_a4b9_80000208fe80row5_col2\" class=\"data row5 col2\" >DeepLearning_grid_1_AutoML_20191120_000246_model_2</td>\n",
       "                        <td id=\"T_885979f2_0b1a_11ea_a4b9_80000208fe80row5_col3\" class=\"data row5 col3\" >GBM_grid_1_AutoML_20191120_000246_model_39</td>\n",
       "                        <td id=\"T_885979f2_0b1a_11ea_a4b9_80000208fe80row5_col4\" class=\"data row5 col4\" >XGBoost_grid_1_AutoML_20191120_000246_model_13</td>\n",
       "                        <td id=\"T_885979f2_0b1a_11ea_a4b9_80000208fe80row5_col5\" class=\"data row5 col5\" >DRF_1_AutoML_20191120_000246</td>\n",
       "                        <td id=\"T_885979f2_0b1a_11ea_a4b9_80000208fe80row5_col6\" class=\"data row5 col6\" >XRT_1_AutoML_20191120_000246</td>\n",
       "                        <td id=\"T_885979f2_0b1a_11ea_a4b9_80000208fe80row5_col7\" class=\"data row5 col7\" >GLM_grid_1_AutoML_20191120_000246_model_1</td>\n",
       "                        <td id=\"T_885979f2_0b1a_11ea_a4b9_80000208fe80row5_col8\" class=\"data row5 col8\" >nan</td>\n",
       "                        <td id=\"T_885979f2_0b1a_11ea_a4b9_80000208fe80row5_col9\" class=\"data row5 col9\" >nan</td>\n",
       "                        <td id=\"T_885979f2_0b1a_11ea_a4b9_80000208fe80row5_col10\" class=\"data row5 col10\" >nan</td>\n",
       "                        <td id=\"T_885979f2_0b1a_11ea_a4b9_80000208fe80row5_col11\" class=\"data row5 col11\" >nan</td>\n",
       "                        <td id=\"T_885979f2_0b1a_11ea_a4b9_80000208fe80row5_col12\" class=\"data row5 col12\" >nan</td>\n",
       "                        <td id=\"T_885979f2_0b1a_11ea_a4b9_80000208fe80row5_col13\" class=\"data row5 col13\" >nan</td>\n",
       "                        <td id=\"T_885979f2_0b1a_11ea_a4b9_80000208fe80row5_col14\" class=\"data row5 col14\" >nan</td>\n",
       "                        <td id=\"T_885979f2_0b1a_11ea_a4b9_80000208fe80row5_col15\" class=\"data row5 col15\" >nan</td>\n",
       "                        <td id=\"T_885979f2_0b1a_11ea_a4b9_80000208fe80row5_col16\" class=\"data row5 col16\" >nan</td>\n",
       "                        <td id=\"T_885979f2_0b1a_11ea_a4b9_80000208fe80row5_col17\" class=\"data row5 col17\" >nan</td>\n",
       "                        <td id=\"T_885979f2_0b1a_11ea_a4b9_80000208fe80row5_col18\" class=\"data row5 col18\" >nan</td>\n",
       "                        <td id=\"T_885979f2_0b1a_11ea_a4b9_80000208fe80row5_col19\" class=\"data row5 col19\" >nan</td>\n",
       "                        <td id=\"T_885979f2_0b1a_11ea_a4b9_80000208fe80row5_col20\" class=\"data row5 col20\" >nan</td>\n",
       "                        <td id=\"T_885979f2_0b1a_11ea_a4b9_80000208fe80row5_col21\" class=\"data row5 col21\" >nan</td>\n",
       "                        <td id=\"T_885979f2_0b1a_11ea_a4b9_80000208fe80row5_col22\" class=\"data row5 col22\" >nan</td>\n",
       "                        <td id=\"T_885979f2_0b1a_11ea_a4b9_80000208fe80row5_col23\" class=\"data row5 col23\" >nan</td>\n",
       "                        <td id=\"T_885979f2_0b1a_11ea_a4b9_80000208fe80row5_col24\" class=\"data row5 col24\" >nan</td>\n",
       "                        <td id=\"T_885979f2_0b1a_11ea_a4b9_80000208fe80row5_col25\" class=\"data row5 col25\" >nan</td>\n",
       "                        <td id=\"T_885979f2_0b1a_11ea_a4b9_80000208fe80row5_col26\" class=\"data row5 col26\" >nan</td>\n",
       "                        <td id=\"T_885979f2_0b1a_11ea_a4b9_80000208fe80row5_col27\" class=\"data row5 col27\" >nan</td>\n",
       "                        <td id=\"T_885979f2_0b1a_11ea_a4b9_80000208fe80row5_col28\" class=\"data row5 col28\" >nan</td>\n",
       "                        <td id=\"T_885979f2_0b1a_11ea_a4b9_80000208fe80row5_col29\" class=\"data row5 col29\" >nan</td>\n",
       "                        <td id=\"T_885979f2_0b1a_11ea_a4b9_80000208fe80row5_col30\" class=\"data row5 col30\" >nan</td>\n",
       "                        <td id=\"T_885979f2_0b1a_11ea_a4b9_80000208fe80row5_col31\" class=\"data row5 col31\" >nan</td>\n",
       "                        <td id=\"T_885979f2_0b1a_11ea_a4b9_80000208fe80row5_col32\" class=\"data row5 col32\" >nan</td>\n",
       "                        <td id=\"T_885979f2_0b1a_11ea_a4b9_80000208fe80row5_col33\" class=\"data row5 col33\" >nan</td>\n",
       "                        <td id=\"T_885979f2_0b1a_11ea_a4b9_80000208fe80row5_col34\" class=\"data row5 col34\" >nan</td>\n",
       "                        <td id=\"T_885979f2_0b1a_11ea_a4b9_80000208fe80row5_col35\" class=\"data row5 col35\" >nan</td>\n",
       "                        <td id=\"T_885979f2_0b1a_11ea_a4b9_80000208fe80row5_col36\" class=\"data row5 col36\" >nan</td>\n",
       "                        <td id=\"T_885979f2_0b1a_11ea_a4b9_80000208fe80row5_col37\" class=\"data row5 col37\" >nan</td>\n",
       "                        <td id=\"T_885979f2_0b1a_11ea_a4b9_80000208fe80row5_col38\" class=\"data row5 col38\" >nan</td>\n",
       "                        <td id=\"T_885979f2_0b1a_11ea_a4b9_80000208fe80row5_col39\" class=\"data row5 col39\" >nan</td>\n",
       "                        <td id=\"T_885979f2_0b1a_11ea_a4b9_80000208fe80row5_col40\" class=\"data row5 col40\" >nan</td>\n",
       "                        <td id=\"T_885979f2_0b1a_11ea_a4b9_80000208fe80row5_col41\" class=\"data row5 col41\" >nan</td>\n",
       "                        <td id=\"T_885979f2_0b1a_11ea_a4b9_80000208fe80row5_col42\" class=\"data row5 col42\" >nan</td>\n",
       "                        <td id=\"T_885979f2_0b1a_11ea_a4b9_80000208fe80row5_col43\" class=\"data row5 col43\" >nan</td>\n",
       "                        <td id=\"T_885979f2_0b1a_11ea_a4b9_80000208fe80row5_col44\" class=\"data row5 col44\" >nan</td>\n",
       "                        <td id=\"T_885979f2_0b1a_11ea_a4b9_80000208fe80row5_col45\" class=\"data row5 col45\" >nan</td>\n",
       "                        <td id=\"T_885979f2_0b1a_11ea_a4b9_80000208fe80row5_col46\" class=\"data row5 col46\" >nan</td>\n",
       "                        <td id=\"T_885979f2_0b1a_11ea_a4b9_80000208fe80row5_col47\" class=\"data row5 col47\" >nan</td>\n",
       "                        <td id=\"T_885979f2_0b1a_11ea_a4b9_80000208fe80row5_col48\" class=\"data row5 col48\" >nan</td>\n",
       "                        <td id=\"T_885979f2_0b1a_11ea_a4b9_80000208fe80row5_col49\" class=\"data row5 col49\" >nan</td>\n",
       "                        <td id=\"T_885979f2_0b1a_11ea_a4b9_80000208fe80row5_col50\" class=\"data row5 col50\" >nan</td>\n",
       "                        <td id=\"T_885979f2_0b1a_11ea_a4b9_80000208fe80row5_col51\" class=\"data row5 col51\" >nan</td>\n",
       "                        <td id=\"T_885979f2_0b1a_11ea_a4b9_80000208fe80row5_col52\" class=\"data row5 col52\" >nan</td>\n",
       "                        <td id=\"T_885979f2_0b1a_11ea_a4b9_80000208fe80row5_col53\" class=\"data row5 col53\" >nan</td>\n",
       "                        <td id=\"T_885979f2_0b1a_11ea_a4b9_80000208fe80row5_col54\" class=\"data row5 col54\" >nan</td>\n",
       "                        <td id=\"T_885979f2_0b1a_11ea_a4b9_80000208fe80row5_col55\" class=\"data row5 col55\" >nan</td>\n",
       "                        <td id=\"T_885979f2_0b1a_11ea_a4b9_80000208fe80row5_col56\" class=\"data row5 col56\" >nan</td>\n",
       "                        <td id=\"T_885979f2_0b1a_11ea_a4b9_80000208fe80row5_col57\" class=\"data row5 col57\" >nan</td>\n",
       "                        <td id=\"T_885979f2_0b1a_11ea_a4b9_80000208fe80row5_col58\" class=\"data row5 col58\" >nan</td>\n",
       "                        <td id=\"T_885979f2_0b1a_11ea_a4b9_80000208fe80row5_col59\" class=\"data row5 col59\" >nan</td>\n",
       "                        <td id=\"T_885979f2_0b1a_11ea_a4b9_80000208fe80row5_col60\" class=\"data row5 col60\" >nan</td>\n",
       "                        <td id=\"T_885979f2_0b1a_11ea_a4b9_80000208fe80row5_col61\" class=\"data row5 col61\" >nan</td>\n",
       "                        <td id=\"T_885979f2_0b1a_11ea_a4b9_80000208fe80row5_col62\" class=\"data row5 col62\" >nan</td>\n",
       "                        <td id=\"T_885979f2_0b1a_11ea_a4b9_80000208fe80row5_col63\" class=\"data row5 col63\" >nan</td>\n",
       "                        <td id=\"T_885979f2_0b1a_11ea_a4b9_80000208fe80row5_col64\" class=\"data row5 col64\" >nan</td>\n",
       "                        <td id=\"T_885979f2_0b1a_11ea_a4b9_80000208fe80row5_col65\" class=\"data row5 col65\" >nan</td>\n",
       "                        <td id=\"T_885979f2_0b1a_11ea_a4b9_80000208fe80row5_col66\" class=\"data row5 col66\" >nan</td>\n",
       "                        <td id=\"T_885979f2_0b1a_11ea_a4b9_80000208fe80row5_col67\" class=\"data row5 col67\" >nan</td>\n",
       "                        <td id=\"T_885979f2_0b1a_11ea_a4b9_80000208fe80row5_col68\" class=\"data row5 col68\" >nan</td>\n",
       "                        <td id=\"T_885979f2_0b1a_11ea_a4b9_80000208fe80row5_col69\" class=\"data row5 col69\" >nan</td>\n",
       "                        <td id=\"T_885979f2_0b1a_11ea_a4b9_80000208fe80row5_col70\" class=\"data row5 col70\" >nan</td>\n",
       "                        <td id=\"T_885979f2_0b1a_11ea_a4b9_80000208fe80row5_col71\" class=\"data row5 col71\" >nan</td>\n",
       "                        <td id=\"T_885979f2_0b1a_11ea_a4b9_80000208fe80row5_col72\" class=\"data row5 col72\" >nan</td>\n",
       "                        <td id=\"T_885979f2_0b1a_11ea_a4b9_80000208fe80row5_col73\" class=\"data row5 col73\" >nan</td>\n",
       "                        <td id=\"T_885979f2_0b1a_11ea_a4b9_80000208fe80row5_col74\" class=\"data row5 col74\" >nan</td>\n",
       "                        <td id=\"T_885979f2_0b1a_11ea_a4b9_80000208fe80row5_col75\" class=\"data row5 col75\" >nan</td>\n",
       "                        <td id=\"T_885979f2_0b1a_11ea_a4b9_80000208fe80row5_col76\" class=\"data row5 col76\" >nan</td>\n",
       "                        <td id=\"T_885979f2_0b1a_11ea_a4b9_80000208fe80row5_col77\" class=\"data row5 col77\" >nan</td>\n",
       "                        <td id=\"T_885979f2_0b1a_11ea_a4b9_80000208fe80row5_col78\" class=\"data row5 col78\" >nan</td>\n",
       "                        <td id=\"T_885979f2_0b1a_11ea_a4b9_80000208fe80row5_col79\" class=\"data row5 col79\" >nan</td>\n",
       "                        <td id=\"T_885979f2_0b1a_11ea_a4b9_80000208fe80row5_col80\" class=\"data row5 col80\" >nan</td>\n",
       "                        <td id=\"T_885979f2_0b1a_11ea_a4b9_80000208fe80row5_col81\" class=\"data row5 col81\" >nan</td>\n",
       "                        <td id=\"T_885979f2_0b1a_11ea_a4b9_80000208fe80row5_col82\" class=\"data row5 col82\" >nan</td>\n",
       "                        <td id=\"T_885979f2_0b1a_11ea_a4b9_80000208fe80row5_col83\" class=\"data row5 col83\" >nan</td>\n",
       "                        <td id=\"T_885979f2_0b1a_11ea_a4b9_80000208fe80row5_col84\" class=\"data row5 col84\" >nan</td>\n",
       "                        <td id=\"T_885979f2_0b1a_11ea_a4b9_80000208fe80row5_col85\" class=\"data row5 col85\" >nan</td>\n",
       "                        <td id=\"T_885979f2_0b1a_11ea_a4b9_80000208fe80row5_col86\" class=\"data row5 col86\" >nan</td>\n",
       "                        <td id=\"T_885979f2_0b1a_11ea_a4b9_80000208fe80row5_col87\" class=\"data row5 col87\" >nan</td>\n",
       "                        <td id=\"T_885979f2_0b1a_11ea_a4b9_80000208fe80row5_col88\" class=\"data row5 col88\" >nan</td>\n",
       "                        <td id=\"T_885979f2_0b1a_11ea_a4b9_80000208fe80row5_col89\" class=\"data row5 col89\" >nan</td>\n",
       "                        <td id=\"T_885979f2_0b1a_11ea_a4b9_80000208fe80row5_col90\" class=\"data row5 col90\" >nan</td>\n",
       "                        <td id=\"T_885979f2_0b1a_11ea_a4b9_80000208fe80row5_col91\" class=\"data row5 col91\" >nan</td>\n",
       "                        <td id=\"T_885979f2_0b1a_11ea_a4b9_80000208fe80row5_col92\" class=\"data row5 col92\" >nan</td>\n",
       "                        <td id=\"T_885979f2_0b1a_11ea_a4b9_80000208fe80row5_col93\" class=\"data row5 col93\" >nan</td>\n",
       "                        <td id=\"T_885979f2_0b1a_11ea_a4b9_80000208fe80row5_col94\" class=\"data row5 col94\" >nan</td>\n",
       "                        <td id=\"T_885979f2_0b1a_11ea_a4b9_80000208fe80row5_col95\" class=\"data row5 col95\" >nan</td>\n",
       "                        <td id=\"T_885979f2_0b1a_11ea_a4b9_80000208fe80row5_col96\" class=\"data row5 col96\" >nan</td>\n",
       "                        <td id=\"T_885979f2_0b1a_11ea_a4b9_80000208fe80row5_col97\" class=\"data row5 col97\" >nan</td>\n",
       "                        <td id=\"T_885979f2_0b1a_11ea_a4b9_80000208fe80row5_col98\" class=\"data row5 col98\" >nan</td>\n",
       "                        <td id=\"T_885979f2_0b1a_11ea_a4b9_80000208fe80row5_col99\" class=\"data row5 col99\" >nan</td>\n",
       "                        <td id=\"T_885979f2_0b1a_11ea_a4b9_80000208fe80row5_col100\" class=\"data row5 col100\" >nan</td>\n",
       "                        <td id=\"T_885979f2_0b1a_11ea_a4b9_80000208fe80row5_col101\" class=\"data row5 col101\" >nan</td>\n",
       "                        <td id=\"T_885979f2_0b1a_11ea_a4b9_80000208fe80row5_col102\" class=\"data row5 col102\" >nan</td>\n",
       "            </tr>\n",
       "    </tbody></table>"
      ],
      "text/plain": [
       "<pandas.io.formats.style.Styler at 0x2aca5a4f5ba8>"
      ]
     },
     "metadata": {},
     "output_type": "display_data"
    },
    {
     "data": {
      "text/plain": [
       "'TPOTClassifier #1'"
      ]
     },
     "metadata": {},
     "output_type": "display_data"
    },
    {
     "data": {
      "text/html": [
       "<style  type=\"text/css\" >\n",
       "</style><table id=\"T_885eb25a_0b1a_11ea_a4b9_80000208fe80\" ><thead>    <tr>        <th class=\"col_heading level0 col0\" >max_angle</th>        <th class=\"col_heading level0 col1\" >test_acc</th>        <th class=\"col_heading level0 col2\" >train_acc</th>        <th class=\"col_heading level0 col3\" >time_err</th>        <th class=\"col_heading level0 col4\" >time_pre</th>        <th class=\"col_heading level0 col5\" >time_mod</th>    </tr></thead><tbody>\n",
       "                <tr>\n",
       "                                <td id=\"T_885eb25a_0b1a_11ea_a4b9_80000208fe80row0_col0\" class=\"data row0 col0\" >0</td>\n",
       "                        <td id=\"T_885eb25a_0b1a_11ea_a4b9_80000208fe80row0_col1\" class=\"data row0 col1\" >0.984</td>\n",
       "                        <td id=\"T_885eb25a_0b1a_11ea_a4b9_80000208fe80row0_col2\" class=\"data row0 col2\" >1</td>\n",
       "                        <td id=\"T_885eb25a_0b1a_11ea_a4b9_80000208fe80row0_col3\" class=\"data row0 col3\" >0.191</td>\n",
       "                        <td id=\"T_885eb25a_0b1a_11ea_a4b9_80000208fe80row0_col4\" class=\"data row0 col4\" >0.001</td>\n",
       "                        <td id=\"T_885eb25a_0b1a_11ea_a4b9_80000208fe80row0_col5\" class=\"data row0 col5\" >950.099</td>\n",
       "            </tr>\n",
       "            <tr>\n",
       "                                <td id=\"T_885eb25a_0b1a_11ea_a4b9_80000208fe80row1_col0\" class=\"data row1 col0\" >36</td>\n",
       "                        <td id=\"T_885eb25a_0b1a_11ea_a4b9_80000208fe80row1_col1\" class=\"data row1 col1\" >0.957</td>\n",
       "                        <td id=\"T_885eb25a_0b1a_11ea_a4b9_80000208fe80row1_col2\" class=\"data row1 col2\" >1</td>\n",
       "                        <td id=\"T_885eb25a_0b1a_11ea_a4b9_80000208fe80row1_col3\" class=\"data row1 col3\" >0.217</td>\n",
       "                        <td id=\"T_885eb25a_0b1a_11ea_a4b9_80000208fe80row1_col4\" class=\"data row1 col4\" >0.002</td>\n",
       "                        <td id=\"T_885eb25a_0b1a_11ea_a4b9_80000208fe80row1_col5\" class=\"data row1 col5\" >1203.39</td>\n",
       "            </tr>\n",
       "            <tr>\n",
       "                                <td id=\"T_885eb25a_0b1a_11ea_a4b9_80000208fe80row2_col0\" class=\"data row2 col0\" >72</td>\n",
       "                        <td id=\"T_885eb25a_0b1a_11ea_a4b9_80000208fe80row2_col1\" class=\"data row2 col1\" >0.86</td>\n",
       "                        <td id=\"T_885eb25a_0b1a_11ea_a4b9_80000208fe80row2_col2\" class=\"data row2 col2\" >1</td>\n",
       "                        <td id=\"T_885eb25a_0b1a_11ea_a4b9_80000208fe80row2_col3\" class=\"data row2 col3\" >0.206</td>\n",
       "                        <td id=\"T_885eb25a_0b1a_11ea_a4b9_80000208fe80row2_col4\" class=\"data row2 col4\" >0.001</td>\n",
       "                        <td id=\"T_885eb25a_0b1a_11ea_a4b9_80000208fe80row2_col5\" class=\"data row2 col5\" >1330.3</td>\n",
       "            </tr>\n",
       "            <tr>\n",
       "                                <td id=\"T_885eb25a_0b1a_11ea_a4b9_80000208fe80row3_col0\" class=\"data row3 col0\" >108</td>\n",
       "                        <td id=\"T_885eb25a_0b1a_11ea_a4b9_80000208fe80row3_col1\" class=\"data row3 col1\" >0.879</td>\n",
       "                        <td id=\"T_885eb25a_0b1a_11ea_a4b9_80000208fe80row3_col2\" class=\"data row3 col2\" >1</td>\n",
       "                        <td id=\"T_885eb25a_0b1a_11ea_a4b9_80000208fe80row3_col3\" class=\"data row3 col3\" >0.213</td>\n",
       "                        <td id=\"T_885eb25a_0b1a_11ea_a4b9_80000208fe80row3_col4\" class=\"data row3 col4\" >0.001</td>\n",
       "                        <td id=\"T_885eb25a_0b1a_11ea_a4b9_80000208fe80row3_col5\" class=\"data row3 col5\" >980.083</td>\n",
       "            </tr>\n",
       "            <tr>\n",
       "                                <td id=\"T_885eb25a_0b1a_11ea_a4b9_80000208fe80row4_col0\" class=\"data row4 col0\" >144</td>\n",
       "                        <td id=\"T_885eb25a_0b1a_11ea_a4b9_80000208fe80row4_col1\" class=\"data row4 col1\" >0.844</td>\n",
       "                        <td id=\"T_885eb25a_0b1a_11ea_a4b9_80000208fe80row4_col2\" class=\"data row4 col2\" >1</td>\n",
       "                        <td id=\"T_885eb25a_0b1a_11ea_a4b9_80000208fe80row4_col3\" class=\"data row4 col3\" >0.225</td>\n",
       "                        <td id=\"T_885eb25a_0b1a_11ea_a4b9_80000208fe80row4_col4\" class=\"data row4 col4\" >0.001</td>\n",
       "                        <td id=\"T_885eb25a_0b1a_11ea_a4b9_80000208fe80row4_col5\" class=\"data row4 col5\" >1132.81</td>\n",
       "            </tr>\n",
       "            <tr>\n",
       "                                <td id=\"T_885eb25a_0b1a_11ea_a4b9_80000208fe80row5_col0\" class=\"data row5 col0\" >180</td>\n",
       "                        <td id=\"T_885eb25a_0b1a_11ea_a4b9_80000208fe80row5_col1\" class=\"data row5 col1\" >0.802</td>\n",
       "                        <td id=\"T_885eb25a_0b1a_11ea_a4b9_80000208fe80row5_col2\" class=\"data row5 col2\" >1</td>\n",
       "                        <td id=\"T_885eb25a_0b1a_11ea_a4b9_80000208fe80row5_col3\" class=\"data row5 col3\" >0.213</td>\n",
       "                        <td id=\"T_885eb25a_0b1a_11ea_a4b9_80000208fe80row5_col4\" class=\"data row5 col4\" >0.001</td>\n",
       "                        <td id=\"T_885eb25a_0b1a_11ea_a4b9_80000208fe80row5_col5\" class=\"data row5 col5\" >1030.39</td>\n",
       "            </tr>\n",
       "    </tbody></table>"
      ],
      "text/plain": [
       "<pandas.io.formats.style.Styler at 0x2aca5a50e1d0>"
      ]
     },
     "metadata": {},
     "output_type": "display_data"
    },
    {
     "data": {
      "text/html": [
       "<style  type=\"text/css\" >\n",
       "</style><table id=\"T_885fe9ea_0b1a_11ea_a4b9_80000208fe80\" ><thead>    <tr>        <th class=\"col_heading level0 col0\" >max_angle</th>        <th class=\"col_heading level0 col1\" >pipe_0</th>        <th class=\"col_heading level0 col2\" >pipe_1</th>        <th class=\"col_heading level0 col3\" >pipe_2</th>    </tr></thead><tbody>\n",
       "                <tr>\n",
       "                                <td id=\"T_885fe9ea_0b1a_11ea_a4b9_80000208fe80row0_col0\" class=\"data row0 col0\" >0</td>\n",
       "                        <td id=\"T_885fe9ea_0b1a_11ea_a4b9_80000208fe80row0_col1\" class=\"data row0 col1\" >StackingEstimator(estimator=LogisticRegression(C=0.5, class_weight=None,\n",
       "                                               dual=False, fit_intercept=True,\n",
       "                                               intercept_scaling=1,\n",
       "                                               l1_ratio=None, max_iter=100,\n",
       "                                               multi_class='warn', n_jobs=None,\n",
       "                                               penalty='l1', random_state=42,\n",
       "                                               solver='warn', tol=0.0001,\n",
       "                                               verbose=0, warm_start=False))</td>\n",
       "                        <td id=\"T_885fe9ea_0b1a_11ea_a4b9_80000208fe80row0_col2\" class=\"data row0 col2\" >KNeighborsClassifier(algorithm='auto', leaf_size=30, metric='minkowski',\n",
       "                     metric_params=None, n_jobs=None, n_neighbors=12, p=2,\n",
       "                     weights='distance')</td>\n",
       "                        <td id=\"T_885fe9ea_0b1a_11ea_a4b9_80000208fe80row0_col3\" class=\"data row0 col3\" >nan</td>\n",
       "            </tr>\n",
       "            <tr>\n",
       "                                <td id=\"T_885fe9ea_0b1a_11ea_a4b9_80000208fe80row1_col0\" class=\"data row1 col0\" >36</td>\n",
       "                        <td id=\"T_885fe9ea_0b1a_11ea_a4b9_80000208fe80row1_col1\" class=\"data row1 col1\" >StackingEstimator(estimator=RandomForestClassifier(bootstrap=False,\n",
       "                                                   class_weight=None,\n",
       "                                                   criterion='gini',\n",
       "                                                   max_depth=None,\n",
       "                                                   max_features=0.4,\n",
       "                                                   max_leaf_nodes=None,\n",
       "                                                   min_impurity_decrease=0.0,\n",
       "                                                   min_impurity_split=None,\n",
       "                                                   min_samples_leaf=10,\n",
       "                                                   min_samples_split=9,\n",
       "                                                   min_weight_fraction_leaf=0.0,\n",
       "                                                   n_estimators=100,\n",
       "                                                   n_jobs=None, oob_score=False,\n",
       "                                                   random_state=42, verbose=0,\n",
       "                                                   warm_start=False))</td>\n",
       "                        <td id=\"T_885fe9ea_0b1a_11ea_a4b9_80000208fe80row1_col2\" class=\"data row1 col2\" >StackingEstimator(estimator=KNeighborsClassifier(algorithm='auto', leaf_size=30,\n",
       "                                                 metric='minkowski',\n",
       "                                                 metric_params=None,\n",
       "                                                 n_jobs=None, n_neighbors=22,\n",
       "                                                 p=2, weights='distance'))</td>\n",
       "                        <td id=\"T_885fe9ea_0b1a_11ea_a4b9_80000208fe80row1_col3\" class=\"data row1 col3\" >KNeighborsClassifier(algorithm='auto', leaf_size=30, metric='minkowski',\n",
       "                     metric_params=None, n_jobs=None, n_neighbors=6, p=2,\n",
       "                     weights='distance')</td>\n",
       "            </tr>\n",
       "            <tr>\n",
       "                                <td id=\"T_885fe9ea_0b1a_11ea_a4b9_80000208fe80row2_col0\" class=\"data row2 col0\" >72</td>\n",
       "                        <td id=\"T_885fe9ea_0b1a_11ea_a4b9_80000208fe80row2_col1\" class=\"data row2 col1\" >StackingEstimator(estimator=GradientBoostingClassifier(criterion='friedman_mse',\n",
       "                                                       init=None,\n",
       "                                                       learning_rate=0.001,\n",
       "                                                       loss='deviance',\n",
       "                                                       max_depth=9,\n",
       "                                                       max_features=0.4,\n",
       "                                                       max_leaf_nodes=None,\n",
       "                                                       min_impurity_decrease=0.0,\n",
       "                                                       min_impurity_split=None,\n",
       "                                                       min_samples_leaf=20,\n",
       "                                                       min_samples_split=18,\n",
       "                                                       min_weight_fraction_leaf=0.0,\n",
       "                                                       n_estimators=100,\n",
       "                                                       n_iter_no_change=None,\n",
       "                                                       presort='auto',\n",
       "                                                       random_state=42,\n",
       "                                                       subsample=1.0,\n",
       "                                                       tol=0.0001,\n",
       "                                                       validation_fraction=0.1,\n",
       "                                                       verbose=0,\n",
       "                                                       warm_start=False))</td>\n",
       "                        <td id=\"T_885fe9ea_0b1a_11ea_a4b9_80000208fe80row2_col2\" class=\"data row2 col2\" >StackingEstimator(estimator=BernoulliNB(alpha=10.0, binarize=0.0,\n",
       "                                        class_prior=None, fit_prior=False))</td>\n",
       "                        <td id=\"T_885fe9ea_0b1a_11ea_a4b9_80000208fe80row2_col3\" class=\"data row2 col3\" >KNeighborsClassifier(algorithm='auto', leaf_size=30, metric='minkowski',\n",
       "                     metric_params=None, n_jobs=None, n_neighbors=18, p=2,\n",
       "                     weights='distance')</td>\n",
       "            </tr>\n",
       "            <tr>\n",
       "                                <td id=\"T_885fe9ea_0b1a_11ea_a4b9_80000208fe80row3_col0\" class=\"data row3 col0\" >108</td>\n",
       "                        <td id=\"T_885fe9ea_0b1a_11ea_a4b9_80000208fe80row3_col1\" class=\"data row3 col1\" >PolynomialFeatures(degree=2, include_bias=False, interaction_only=False,\n",
       "                   order='C')</td>\n",
       "                        <td id=\"T_885fe9ea_0b1a_11ea_a4b9_80000208fe80row3_col2\" class=\"data row3 col2\" >StackingEstimator(estimator=LogisticRegression(C=15.0, class_weight=None,\n",
       "                                               dual=False, fit_intercept=True,\n",
       "                                               intercept_scaling=1,\n",
       "                                               l1_ratio=None, max_iter=100,\n",
       "                                               multi_class='warn', n_jobs=None,\n",
       "                                               penalty='l2', random_state=42,\n",
       "                                               solver='warn', tol=0.0001,\n",
       "                                               verbose=0, warm_start=False))</td>\n",
       "                        <td id=\"T_885fe9ea_0b1a_11ea_a4b9_80000208fe80row3_col3\" class=\"data row3 col3\" >XGBClassifier(base_score=0.5, booster='gbtree', colsample_bylevel=1,\n",
       "              colsample_bynode=1, colsample_bytree=1, gamma=0,\n",
       "              learning_rate=0.1, max_delta_step=0, max_depth=7,\n",
       "              min_child_weight=18, missing=nan, n_estimators=100, n_jobs=1,\n",
       "              nthread=1, objective='multi:softprob', random_state=42,\n",
       "              reg_alpha=0, reg_lambda=1, scale_pos_weight=1, seed=None,\n",
       "              silent=None, subsample=0.7000000000000001, verbosity=1)</td>\n",
       "            </tr>\n",
       "            <tr>\n",
       "                                <td id=\"T_885fe9ea_0b1a_11ea_a4b9_80000208fe80row4_col0\" class=\"data row4 col0\" >144</td>\n",
       "                        <td id=\"T_885fe9ea_0b1a_11ea_a4b9_80000208fe80row4_col1\" class=\"data row4 col1\" >PolynomialFeatures(degree=2, include_bias=False, interaction_only=False,\n",
       "                   order='C')</td>\n",
       "                        <td id=\"T_885fe9ea_0b1a_11ea_a4b9_80000208fe80row4_col2\" class=\"data row4 col2\" >Normalizer(copy=True, norm='max')</td>\n",
       "                        <td id=\"T_885fe9ea_0b1a_11ea_a4b9_80000208fe80row4_col3\" class=\"data row4 col3\" >LogisticRegression(C=20.0, class_weight=None, dual=False, fit_intercept=True,\n",
       "                   intercept_scaling=1, l1_ratio=None, max_iter=100,\n",
       "                   multi_class='warn', n_jobs=None, penalty='l2',\n",
       "                   random_state=42, solver='warn', tol=0.0001, verbose=0,\n",
       "                   warm_start=False)</td>\n",
       "            </tr>\n",
       "            <tr>\n",
       "                                <td id=\"T_885fe9ea_0b1a_11ea_a4b9_80000208fe80row5_col0\" class=\"data row5 col0\" >180</td>\n",
       "                        <td id=\"T_885fe9ea_0b1a_11ea_a4b9_80000208fe80row5_col1\" class=\"data row5 col1\" >PolynomialFeatures(degree=2, include_bias=False, interaction_only=False,\n",
       "                   order='C')</td>\n",
       "                        <td id=\"T_885fe9ea_0b1a_11ea_a4b9_80000208fe80row5_col2\" class=\"data row5 col2\" >LogisticRegression(C=0.001, class_weight=None, dual=True, fit_intercept=True,\n",
       "                   intercept_scaling=1, l1_ratio=None, max_iter=100,\n",
       "                   multi_class='warn', n_jobs=None, penalty='l2',\n",
       "                   random_state=42, solver='warn', tol=0.0001, verbose=0,\n",
       "                   warm_start=False)</td>\n",
       "                        <td id=\"T_885fe9ea_0b1a_11ea_a4b9_80000208fe80row5_col3\" class=\"data row5 col3\" >nan</td>\n",
       "            </tr>\n",
       "    </tbody></table>"
      ],
      "text/plain": [
       "<pandas.io.formats.style.Styler at 0x2aca5a50ecc0>"
      ]
     },
     "metadata": {},
     "output_type": "display_data"
    },
    {
     "data": {
      "text/plain": [
       "'TPOTClassifierClean #1'"
      ]
     },
     "metadata": {},
     "output_type": "display_data"
    },
    {
     "data": {
      "text/html": [
       "<style  type=\"text/css\" >\n",
       "</style><table id=\"T_8862705c_0b1a_11ea_a4b9_80000208fe80\" ><thead>    <tr>        <th class=\"col_heading level0 col0\" >max_angle</th>        <th class=\"col_heading level0 col1\" >test_acc</th>        <th class=\"col_heading level0 col2\" >train_acc</th>        <th class=\"col_heading level0 col3\" >time_err</th>        <th class=\"col_heading level0 col4\" >time_pre</th>        <th class=\"col_heading level0 col5\" >time_mod</th>    </tr></thead><tbody>\n",
       "                <tr>\n",
       "                                <td id=\"T_8862705c_0b1a_11ea_a4b9_80000208fe80row0_col0\" class=\"data row0 col0\" >0</td>\n",
       "                        <td id=\"T_8862705c_0b1a_11ea_a4b9_80000208fe80row0_col1\" class=\"data row0 col1\" >0.984</td>\n",
       "                        <td id=\"T_8862705c_0b1a_11ea_a4b9_80000208fe80row0_col2\" class=\"data row0 col2\" >1</td>\n",
       "                        <td id=\"T_8862705c_0b1a_11ea_a4b9_80000208fe80row0_col3\" class=\"data row0 col3\" >0.191</td>\n",
       "                        <td id=\"T_8862705c_0b1a_11ea_a4b9_80000208fe80row0_col4\" class=\"data row0 col4\" >0.001</td>\n",
       "                        <td id=\"T_8862705c_0b1a_11ea_a4b9_80000208fe80row0_col5\" class=\"data row0 col5\" >977.805</td>\n",
       "            </tr>\n",
       "            <tr>\n",
       "                                <td id=\"T_8862705c_0b1a_11ea_a4b9_80000208fe80row1_col0\" class=\"data row1 col0\" >36</td>\n",
       "                        <td id=\"T_8862705c_0b1a_11ea_a4b9_80000208fe80row1_col1\" class=\"data row1 col1\" >0.751</td>\n",
       "                        <td id=\"T_8862705c_0b1a_11ea_a4b9_80000208fe80row1_col2\" class=\"data row1 col2\" >1</td>\n",
       "                        <td id=\"T_8862705c_0b1a_11ea_a4b9_80000208fe80row1_col3\" class=\"data row1 col3\" >0.217</td>\n",
       "                        <td id=\"T_8862705c_0b1a_11ea_a4b9_80000208fe80row1_col4\" class=\"data row1 col4\" >0.002</td>\n",
       "                        <td id=\"T_8862705c_0b1a_11ea_a4b9_80000208fe80row1_col5\" class=\"data row1 col5\" >918.773</td>\n",
       "            </tr>\n",
       "            <tr>\n",
       "                                <td id=\"T_8862705c_0b1a_11ea_a4b9_80000208fe80row2_col0\" class=\"data row2 col0\" >72</td>\n",
       "                        <td id=\"T_8862705c_0b1a_11ea_a4b9_80000208fe80row2_col1\" class=\"data row2 col1\" >0.514</td>\n",
       "                        <td id=\"T_8862705c_0b1a_11ea_a4b9_80000208fe80row2_col2\" class=\"data row2 col2\" >1</td>\n",
       "                        <td id=\"T_8862705c_0b1a_11ea_a4b9_80000208fe80row2_col3\" class=\"data row2 col3\" >0.206</td>\n",
       "                        <td id=\"T_8862705c_0b1a_11ea_a4b9_80000208fe80row2_col4\" class=\"data row2 col4\" >0.001</td>\n",
       "                        <td id=\"T_8862705c_0b1a_11ea_a4b9_80000208fe80row2_col5\" class=\"data row2 col5\" >946.171</td>\n",
       "            </tr>\n",
       "            <tr>\n",
       "                                <td id=\"T_8862705c_0b1a_11ea_a4b9_80000208fe80row3_col0\" class=\"data row3 col0\" >108</td>\n",
       "                        <td id=\"T_8862705c_0b1a_11ea_a4b9_80000208fe80row3_col1\" class=\"data row3 col1\" >0.416</td>\n",
       "                        <td id=\"T_8862705c_0b1a_11ea_a4b9_80000208fe80row3_col2\" class=\"data row3 col2\" >1</td>\n",
       "                        <td id=\"T_8862705c_0b1a_11ea_a4b9_80000208fe80row3_col3\" class=\"data row3 col3\" >0.213</td>\n",
       "                        <td id=\"T_8862705c_0b1a_11ea_a4b9_80000208fe80row3_col4\" class=\"data row3 col4\" >0.001</td>\n",
       "                        <td id=\"T_8862705c_0b1a_11ea_a4b9_80000208fe80row3_col5\" class=\"data row3 col5\" >920.151</td>\n",
       "            </tr>\n",
       "            <tr>\n",
       "                                <td id=\"T_8862705c_0b1a_11ea_a4b9_80000208fe80row4_col0\" class=\"data row4 col0\" >144</td>\n",
       "                        <td id=\"T_8862705c_0b1a_11ea_a4b9_80000208fe80row4_col1\" class=\"data row4 col1\" >0.346</td>\n",
       "                        <td id=\"T_8862705c_0b1a_11ea_a4b9_80000208fe80row4_col2\" class=\"data row4 col2\" >1</td>\n",
       "                        <td id=\"T_8862705c_0b1a_11ea_a4b9_80000208fe80row4_col3\" class=\"data row4 col3\" >0.225</td>\n",
       "                        <td id=\"T_8862705c_0b1a_11ea_a4b9_80000208fe80row4_col4\" class=\"data row4 col4\" >0.001</td>\n",
       "                        <td id=\"T_8862705c_0b1a_11ea_a4b9_80000208fe80row4_col5\" class=\"data row4 col5\" >925.353</td>\n",
       "            </tr>\n",
       "            <tr>\n",
       "                                <td id=\"T_8862705c_0b1a_11ea_a4b9_80000208fe80row5_col0\" class=\"data row5 col0\" >180</td>\n",
       "                        <td id=\"T_8862705c_0b1a_11ea_a4b9_80000208fe80row5_col1\" class=\"data row5 col1\" >0.342</td>\n",
       "                        <td id=\"T_8862705c_0b1a_11ea_a4b9_80000208fe80row5_col2\" class=\"data row5 col2\" >1</td>\n",
       "                        <td id=\"T_8862705c_0b1a_11ea_a4b9_80000208fe80row5_col3\" class=\"data row5 col3\" >0.213</td>\n",
       "                        <td id=\"T_8862705c_0b1a_11ea_a4b9_80000208fe80row5_col4\" class=\"data row5 col4\" >0.001</td>\n",
       "                        <td id=\"T_8862705c_0b1a_11ea_a4b9_80000208fe80row5_col5\" class=\"data row5 col5\" >921.336</td>\n",
       "            </tr>\n",
       "    </tbody></table>"
      ],
      "text/plain": [
       "<pandas.io.formats.style.Styler at 0x2aca5a50ec50>"
      ]
     },
     "metadata": {},
     "output_type": "display_data"
    },
    {
     "data": {
      "text/html": [
       "<style  type=\"text/css\" >\n",
       "</style><table id=\"T_8863ab0c_0b1a_11ea_a4b9_80000208fe80\" ><thead>    <tr>        <th class=\"col_heading level0 col0\" >max_angle</th>        <th class=\"col_heading level0 col1\" >pipe_0</th>        <th class=\"col_heading level0 col2\" >pipe_1</th>    </tr></thead><tbody>\n",
       "                <tr>\n",
       "                                <td id=\"T_8863ab0c_0b1a_11ea_a4b9_80000208fe80row0_col0\" class=\"data row0 col0\" >0</td>\n",
       "                        <td id=\"T_8863ab0c_0b1a_11ea_a4b9_80000208fe80row0_col1\" class=\"data row0 col1\" >StackingEstimator(estimator=LogisticRegression(C=0.5, class_weight=None,\n",
       "                                               dual=False, fit_intercept=True,\n",
       "                                               intercept_scaling=1,\n",
       "                                               l1_ratio=None, max_iter=100,\n",
       "                                               multi_class='warn', n_jobs=None,\n",
       "                                               penalty='l1', random_state=42,\n",
       "                                               solver='warn', tol=0.0001,\n",
       "                                               verbose=0, warm_start=False))</td>\n",
       "                        <td id=\"T_8863ab0c_0b1a_11ea_a4b9_80000208fe80row0_col2\" class=\"data row0 col2\" >KNeighborsClassifier(algorithm='auto', leaf_size=30, metric='minkowski',\n",
       "                     metric_params=None, n_jobs=None, n_neighbors=12, p=2,\n",
       "                     weights='distance')</td>\n",
       "            </tr>\n",
       "            <tr>\n",
       "                                <td id=\"T_8863ab0c_0b1a_11ea_a4b9_80000208fe80row1_col0\" class=\"data row1 col0\" >36</td>\n",
       "                        <td id=\"T_8863ab0c_0b1a_11ea_a4b9_80000208fe80row1_col1\" class=\"data row1 col1\" >StackingEstimator(estimator=LogisticRegression(C=0.5, class_weight=None,\n",
       "                                               dual=False, fit_intercept=True,\n",
       "                                               intercept_scaling=1,\n",
       "                                               l1_ratio=None, max_iter=100,\n",
       "                                               multi_class='warn', n_jobs=None,\n",
       "                                               penalty='l1', random_state=42,\n",
       "                                               solver='warn', tol=0.0001,\n",
       "                                               verbose=0, warm_start=False))</td>\n",
       "                        <td id=\"T_8863ab0c_0b1a_11ea_a4b9_80000208fe80row1_col2\" class=\"data row1 col2\" >KNeighborsClassifier(algorithm='auto', leaf_size=30, metric='minkowski',\n",
       "                     metric_params=None, n_jobs=None, n_neighbors=12, p=2,\n",
       "                     weights='distance')</td>\n",
       "            </tr>\n",
       "            <tr>\n",
       "                                <td id=\"T_8863ab0c_0b1a_11ea_a4b9_80000208fe80row2_col0\" class=\"data row2 col0\" >72</td>\n",
       "                        <td id=\"T_8863ab0c_0b1a_11ea_a4b9_80000208fe80row2_col1\" class=\"data row2 col1\" >StackingEstimator(estimator=LogisticRegression(C=0.5, class_weight=None,\n",
       "                                               dual=False, fit_intercept=True,\n",
       "                                               intercept_scaling=1,\n",
       "                                               l1_ratio=None, max_iter=100,\n",
       "                                               multi_class='warn', n_jobs=None,\n",
       "                                               penalty='l1', random_state=42,\n",
       "                                               solver='warn', tol=0.0001,\n",
       "                                               verbose=0, warm_start=False))</td>\n",
       "                        <td id=\"T_8863ab0c_0b1a_11ea_a4b9_80000208fe80row2_col2\" class=\"data row2 col2\" >KNeighborsClassifier(algorithm='auto', leaf_size=30, metric='minkowski',\n",
       "                     metric_params=None, n_jobs=None, n_neighbors=12, p=2,\n",
       "                     weights='distance')</td>\n",
       "            </tr>\n",
       "            <tr>\n",
       "                                <td id=\"T_8863ab0c_0b1a_11ea_a4b9_80000208fe80row3_col0\" class=\"data row3 col0\" >108</td>\n",
       "                        <td id=\"T_8863ab0c_0b1a_11ea_a4b9_80000208fe80row3_col1\" class=\"data row3 col1\" >StackingEstimator(estimator=LogisticRegression(C=0.5, class_weight=None,\n",
       "                                               dual=False, fit_intercept=True,\n",
       "                                               intercept_scaling=1,\n",
       "                                               l1_ratio=None, max_iter=100,\n",
       "                                               multi_class='warn', n_jobs=None,\n",
       "                                               penalty='l1', random_state=42,\n",
       "                                               solver='warn', tol=0.0001,\n",
       "                                               verbose=0, warm_start=False))</td>\n",
       "                        <td id=\"T_8863ab0c_0b1a_11ea_a4b9_80000208fe80row3_col2\" class=\"data row3 col2\" >KNeighborsClassifier(algorithm='auto', leaf_size=30, metric='minkowski',\n",
       "                     metric_params=None, n_jobs=None, n_neighbors=12, p=2,\n",
       "                     weights='distance')</td>\n",
       "            </tr>\n",
       "            <tr>\n",
       "                                <td id=\"T_8863ab0c_0b1a_11ea_a4b9_80000208fe80row4_col0\" class=\"data row4 col0\" >144</td>\n",
       "                        <td id=\"T_8863ab0c_0b1a_11ea_a4b9_80000208fe80row4_col1\" class=\"data row4 col1\" >StackingEstimator(estimator=LogisticRegression(C=0.5, class_weight=None,\n",
       "                                               dual=False, fit_intercept=True,\n",
       "                                               intercept_scaling=1,\n",
       "                                               l1_ratio=None, max_iter=100,\n",
       "                                               multi_class='warn', n_jobs=None,\n",
       "                                               penalty='l1', random_state=42,\n",
       "                                               solver='warn', tol=0.0001,\n",
       "                                               verbose=0, warm_start=False))</td>\n",
       "                        <td id=\"T_8863ab0c_0b1a_11ea_a4b9_80000208fe80row4_col2\" class=\"data row4 col2\" >KNeighborsClassifier(algorithm='auto', leaf_size=30, metric='minkowski',\n",
       "                     metric_params=None, n_jobs=None, n_neighbors=12, p=2,\n",
       "                     weights='distance')</td>\n",
       "            </tr>\n",
       "            <tr>\n",
       "                                <td id=\"T_8863ab0c_0b1a_11ea_a4b9_80000208fe80row5_col0\" class=\"data row5 col0\" >180</td>\n",
       "                        <td id=\"T_8863ab0c_0b1a_11ea_a4b9_80000208fe80row5_col1\" class=\"data row5 col1\" >StackingEstimator(estimator=LogisticRegression(C=0.5, class_weight=None,\n",
       "                                               dual=False, fit_intercept=True,\n",
       "                                               intercept_scaling=1,\n",
       "                                               l1_ratio=None, max_iter=100,\n",
       "                                               multi_class='warn', n_jobs=None,\n",
       "                                               penalty='l1', random_state=42,\n",
       "                                               solver='warn', tol=0.0001,\n",
       "                                               verbose=0, warm_start=False))</td>\n",
       "                        <td id=\"T_8863ab0c_0b1a_11ea_a4b9_80000208fe80row5_col2\" class=\"data row5 col2\" >KNeighborsClassifier(algorithm='auto', leaf_size=30, metric='minkowski',\n",
       "                     metric_params=None, n_jobs=None, n_neighbors=12, p=2,\n",
       "                     weights='distance')</td>\n",
       "            </tr>\n",
       "    </tbody></table>"
      ],
      "text/plain": [
       "<pandas.io.formats.style.Styler at 0x2aca5a52af28>"
      ]
     },
     "metadata": {},
     "output_type": "display_data"
    },
    {
     "data": {
      "image/png": "[encoded data removed]",
      "text/plain": [
       "<Figure size 720x288 with 2 Axes>"
      ]
     },
     "metadata": {
      "needs_background": "light"
     },
     "output_type": "display_data"
    }
   ],
   "source": [
    "print_results_by_model(df,\n",
    "    [\"train_labels\", \"test_labels\"],\n",
    "    # [\"mean\", \"min_val\", \"max_val\", \"train_labels\", \"test_labels\"], \n",
    "    err_param_name=\"max_angle\",\n",
    "    # err_param_name=\"std\",\n",
    "    pipeline_name=\"best_pipeline\"\n",
    ")\n",
    "visualize(df)"
   ]
  },
  {
   "cell_type": "markdown",
   "metadata": {
    "collapsed": false,
    "papermill": {
     "duration": 0.228271,
     "end_time": "2019-11-19T22:18:38.980685",
     "exception": false,
     "start_time": "2019-11-19T22:18:38.752414",
     "status": "completed"
    },
    "pycharm": {
     "name": "#%% md\n"
    },
    "tags": []
   },
   "source": []
  }
 ],
 "metadata": {
  "kernelspec": {
   "display_name": "Python 3",
   "language": "python",
   "name": "python3"
  },
  "language_info": {
   "codemirror_mode": {
    "name": "ipython",
    "version": 3
   },
   "file_extension": ".py",
   "mimetype": "text/x-python",
   "name": "python",
   "nbconvert_exporter": "python",
   "pygments_lexer": "ipython3",
   "version": "3.6.6"
  },
  "papermill": {
   "duration": 34707.754522,
   "end_time": "2019-11-19T22:18:40.521858",
   "environment_variables": {},
   "exception": null,
   "input_path": "docs/case_studies/test13.ipynb",
   "output_path": "docs/case_studies/test13.ipynb",
   "parameters": {},
   "start_time": "2019-11-19T12:40:12.767336",
   "version": "1.2.0"
  },
  "pycharm": {
   "stem_cell": {
    "cell_type": "raw",
    "source": [],
    "metadata": {
     "collapsed": false
    }
   }
  },
  "widgets": {
   "application/vnd.jupyter.widget-state+json": {
    "state": {},
    "version_major": 2,
    "version_minor": 0
   }
  }
 },
 "nbformat": 4,
 "nbformat_minor": 0
}